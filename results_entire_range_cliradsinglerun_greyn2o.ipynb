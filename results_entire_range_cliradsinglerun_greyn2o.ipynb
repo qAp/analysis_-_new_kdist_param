{
 "cells": [
  {
   "cell_type": "code",
   "execution_count": 1,
   "metadata": {
    "collapsed": true
   },
   "outputs": [],
   "source": [
    "import os\n",
    "import ast\n",
    "import json\n",
    "import importlib \n",
    "import itertools\n",
    "import collections\n",
    "import pprint\n",
    "\n",
    "from bokeh.io import output_notebook, show\n",
    "from bokeh.layouts import gridplot\n",
    "from bokeh.plotting import figure\n",
    "from bokeh.models import Range1d, Legend, ColumnDataSource, FactorRange\n",
    "from bokeh.palettes import all_palettes\n",
    "from bokeh.transform import factor_cmap\n",
    "\n",
    "import matplotlib\n",
    "import matplotlib.pyplot as plt\n",
    "import numpy as np\n",
    "import pandas as pd\n",
    "import xarray as xr\n",
    "\n",
    "\n",
    "import climatools.lblnew.bestfit_params as bestfits\n",
    "from climatools.lblnew import setup_bestfit, setup_overlap\n",
    "import climatools.lblnew.pipeline as pipe_lblnew\n",
    "import climatools.cliradlw.setup as setup_cliradlw\n",
    "import climatools.cliradlw.pipeline as pipe_cliradlw\n",
    "\n",
    "import climatools.html.html as climahtml\n",
    "from climatools.lblnew.dataio import *\n",
    "from climatools.plot.plot import *\n",
    "\n",
    "\n",
    "from IPython import display\n",
    "\n",
    "#importlib.reload(bestfits)\n",
    "#importlib.reload(setup_bestfit)\n",
    "#importlib.reload(setup_overlap)\n",
    "#importlib.reload(pipe_lblnew)\n",
    "#importlib.reload(setup_cliradlw)\n",
    "#importlib.reload(pipe_cliradlw)"
   ]
  },
  {
   "cell_type": "code",
   "execution_count": 2,
   "metadata": {
    "scrolled": true
   },
   "outputs": [
    {
     "data": {
      "text/html": [
       "\n",
       "    <div class=\"bk-root\">\n",
       "        <a href=\"https://bokeh.pydata.org\" target=\"_blank\" class=\"bk-logo bk-logo-small bk-logo-notebook\"></a>\n",
       "        <span id=\"e8259ba7-73eb-4351-9d24-2f3fe05c46fa\">Loading BokehJS ...</span>\n",
       "    </div>"
      ]
     },
     "metadata": {},
     "output_type": "display_data"
    },
    {
     "data": {
      "application/javascript": [
       "\n",
       "(function(root) {\n",
       "  function now() {\n",
       "    return new Date();\n",
       "  }\n",
       "\n",
       "  var force = true;\n",
       "\n",
       "  if (typeof (root._bokeh_onload_callbacks) === \"undefined\" || force === true) {\n",
       "    root._bokeh_onload_callbacks = [];\n",
       "    root._bokeh_is_loading = undefined;\n",
       "  }\n",
       "\n",
       "  var JS_MIME_TYPE = 'application/javascript';\n",
       "  var HTML_MIME_TYPE = 'text/html';\n",
       "  var EXEC_MIME_TYPE = 'application/vnd.bokehjs_exec.v0+json';\n",
       "  var CLASS_NAME = 'output_bokeh rendered_html';\n",
       "\n",
       "  /**\n",
       "   * Render data to the DOM node\n",
       "   */\n",
       "  function render(props, node) {\n",
       "    var script = document.createElement(\"script\");\n",
       "    node.appendChild(script);\n",
       "  }\n",
       "\n",
       "  /**\n",
       "   * Handle when an output is cleared or removed\n",
       "   */\n",
       "  function handleClearOutput(event, handle) {\n",
       "    var cell = handle.cell;\n",
       "\n",
       "    var id = cell.output_area._bokeh_element_id;\n",
       "    var server_id = cell.output_area._bokeh_server_id;\n",
       "    // Clean up Bokeh references\n",
       "    if (id !== undefined) {\n",
       "      Bokeh.index[id].model.document.clear();\n",
       "      delete Bokeh.index[id];\n",
       "    }\n",
       "\n",
       "    if (server_id !== undefined) {\n",
       "      // Clean up Bokeh references\n",
       "      var cmd = \"from bokeh.io.state import curstate; print(curstate().uuid_to_server['\" + server_id + \"'].get_sessions()[0].document.roots[0]._id)\";\n",
       "      cell.notebook.kernel.execute(cmd, {\n",
       "        iopub: {\n",
       "          output: function(msg) {\n",
       "            var element_id = msg.content.text.trim();\n",
       "            Bokeh.index[element_id].model.document.clear();\n",
       "            delete Bokeh.index[element_id];\n",
       "          }\n",
       "        }\n",
       "      });\n",
       "      // Destroy server and session\n",
       "      var cmd = \"import bokeh.io.notebook as ion; ion.destroy_server('\" + server_id + \"')\";\n",
       "      cell.notebook.kernel.execute(cmd);\n",
       "    }\n",
       "  }\n",
       "\n",
       "  /**\n",
       "   * Handle when a new output is added\n",
       "   */\n",
       "  function handleAddOutput(event, handle) {\n",
       "    var output_area = handle.output_area;\n",
       "    var output = handle.output;\n",
       "\n",
       "    // limit handleAddOutput to display_data with EXEC_MIME_TYPE content only\n",
       "    if ((output.output_type != \"display_data\") || (!output.data.hasOwnProperty(EXEC_MIME_TYPE))) {\n",
       "      return\n",
       "    }\n",
       "\n",
       "    var toinsert = output_area.element.find(\".\" + CLASS_NAME.split(' ')[0]);\n",
       "\n",
       "    if (output.metadata[EXEC_MIME_TYPE][\"id\"] !== undefined) {\n",
       "      toinsert[toinsert.length - 1].firstChild.textContent = output.data[JS_MIME_TYPE];\n",
       "      // store reference to embed id on output_area\n",
       "      output_area._bokeh_element_id = output.metadata[EXEC_MIME_TYPE][\"id\"];\n",
       "    }\n",
       "    if (output.metadata[EXEC_MIME_TYPE][\"server_id\"] !== undefined) {\n",
       "      var bk_div = document.createElement(\"div\");\n",
       "      bk_div.innerHTML = output.data[HTML_MIME_TYPE];\n",
       "      var script_attrs = bk_div.children[0].attributes;\n",
       "      for (var i = 0; i < script_attrs.length; i++) {\n",
       "        toinsert[toinsert.length - 1].firstChild.setAttribute(script_attrs[i].name, script_attrs[i].value);\n",
       "      }\n",
       "      // store reference to server id on output_area\n",
       "      output_area._bokeh_server_id = output.metadata[EXEC_MIME_TYPE][\"server_id\"];\n",
       "    }\n",
       "  }\n",
       "\n",
       "  function register_renderer(events, OutputArea) {\n",
       "\n",
       "    function append_mime(data, metadata, element) {\n",
       "      // create a DOM node to render to\n",
       "      var toinsert = this.create_output_subarea(\n",
       "        metadata,\n",
       "        CLASS_NAME,\n",
       "        EXEC_MIME_TYPE\n",
       "      );\n",
       "      this.keyboard_manager.register_events(toinsert);\n",
       "      // Render to node\n",
       "      var props = {data: data, metadata: metadata[EXEC_MIME_TYPE]};\n",
       "      render(props, toinsert[toinsert.length - 1]);\n",
       "      element.append(toinsert);\n",
       "      return toinsert\n",
       "    }\n",
       "\n",
       "    /* Handle when an output is cleared or removed */\n",
       "    events.on('clear_output.CodeCell', handleClearOutput);\n",
       "    events.on('delete.Cell', handleClearOutput);\n",
       "\n",
       "    /* Handle when a new output is added */\n",
       "    events.on('output_added.OutputArea', handleAddOutput);\n",
       "\n",
       "    /**\n",
       "     * Register the mime type and append_mime function with output_area\n",
       "     */\n",
       "    OutputArea.prototype.register_mime_type(EXEC_MIME_TYPE, append_mime, {\n",
       "      /* Is output safe? */\n",
       "      safe: true,\n",
       "      /* Index of renderer in `output_area.display_order` */\n",
       "      index: 0\n",
       "    });\n",
       "  }\n",
       "\n",
       "  // register the mime type if in Jupyter Notebook environment and previously unregistered\n",
       "  if (root.Jupyter !== undefined) {\n",
       "    var events = require('base/js/events');\n",
       "    var OutputArea = require('notebook/js/outputarea').OutputArea;\n",
       "\n",
       "    if (OutputArea.prototype.mime_types().indexOf(EXEC_MIME_TYPE) == -1) {\n",
       "      register_renderer(events, OutputArea);\n",
       "    }\n",
       "  }\n",
       "\n",
       "  \n",
       "  if (typeof (root._bokeh_timeout) === \"undefined\" || force === true) {\n",
       "    root._bokeh_timeout = Date.now() + 5000;\n",
       "    root._bokeh_failed_load = false;\n",
       "  }\n",
       "\n",
       "  var NB_LOAD_WARNING = {'data': {'text/html':\n",
       "     \"<div style='background-color: #fdd'>\\n\"+\n",
       "     \"<p>\\n\"+\n",
       "     \"BokehJS does not appear to have successfully loaded. If loading BokehJS from CDN, this \\n\"+\n",
       "     \"may be due to a slow or bad network connection. Possible fixes:\\n\"+\n",
       "     \"</p>\\n\"+\n",
       "     \"<ul>\\n\"+\n",
       "     \"<li>re-rerun `output_notebook()` to attempt to load from CDN again, or</li>\\n\"+\n",
       "     \"<li>use INLINE resources instead, as so:</li>\\n\"+\n",
       "     \"</ul>\\n\"+\n",
       "     \"<code>\\n\"+\n",
       "     \"from bokeh.resources import INLINE\\n\"+\n",
       "     \"output_notebook(resources=INLINE)\\n\"+\n",
       "     \"</code>\\n\"+\n",
       "     \"</div>\"}};\n",
       "\n",
       "  function display_loaded() {\n",
       "    var el = document.getElementById(\"e8259ba7-73eb-4351-9d24-2f3fe05c46fa\");\n",
       "    if (el != null) {\n",
       "      el.textContent = \"BokehJS is loading...\";\n",
       "    }\n",
       "    if (root.Bokeh !== undefined) {\n",
       "      if (el != null) {\n",
       "        el.textContent = \"BokehJS \" + root.Bokeh.version + \" successfully loaded.\";\n",
       "      }\n",
       "    } else if (Date.now() < root._bokeh_timeout) {\n",
       "      setTimeout(display_loaded, 100)\n",
       "    }\n",
       "  }\n",
       "\n",
       "\n",
       "  function run_callbacks() {\n",
       "    try {\n",
       "      root._bokeh_onload_callbacks.forEach(function(callback) { callback() });\n",
       "    }\n",
       "    finally {\n",
       "      delete root._bokeh_onload_callbacks\n",
       "    }\n",
       "    console.info(\"Bokeh: all callbacks have finished\");\n",
       "  }\n",
       "\n",
       "  function load_libs(js_urls, callback) {\n",
       "    root._bokeh_onload_callbacks.push(callback);\n",
       "    if (root._bokeh_is_loading > 0) {\n",
       "      console.log(\"Bokeh: BokehJS is being loaded, scheduling callback at\", now());\n",
       "      return null;\n",
       "    }\n",
       "    if (js_urls == null || js_urls.length === 0) {\n",
       "      run_callbacks();\n",
       "      return null;\n",
       "    }\n",
       "    console.log(\"Bokeh: BokehJS not loaded, scheduling load and callback at\", now());\n",
       "    root._bokeh_is_loading = js_urls.length;\n",
       "    for (var i = 0; i < js_urls.length; i++) {\n",
       "      var url = js_urls[i];\n",
       "      var s = document.createElement('script');\n",
       "      s.src = url;\n",
       "      s.async = false;\n",
       "      s.onreadystatechange = s.onload = function() {\n",
       "        root._bokeh_is_loading--;\n",
       "        if (root._bokeh_is_loading === 0) {\n",
       "          console.log(\"Bokeh: all BokehJS libraries loaded\");\n",
       "          run_callbacks()\n",
       "        }\n",
       "      };\n",
       "      s.onerror = function() {\n",
       "        console.warn(\"failed to load library \" + url);\n",
       "      };\n",
       "      console.log(\"Bokeh: injecting script tag for BokehJS library: \", url);\n",
       "      document.getElementsByTagName(\"head\")[0].appendChild(s);\n",
       "    }\n",
       "  };var element = document.getElementById(\"e8259ba7-73eb-4351-9d24-2f3fe05c46fa\");\n",
       "  if (element == null) {\n",
       "    console.log(\"Bokeh: ERROR: autoload.js configured with elementid 'e8259ba7-73eb-4351-9d24-2f3fe05c46fa' but no matching script tag was found. \")\n",
       "    return false;\n",
       "  }\n",
       "\n",
       "  var js_urls = [\"https://cdn.pydata.org/bokeh/release/bokeh-0.12.16.min.js\", \"https://cdn.pydata.org/bokeh/release/bokeh-widgets-0.12.16.min.js\", \"https://cdn.pydata.org/bokeh/release/bokeh-tables-0.12.16.min.js\", \"https://cdn.pydata.org/bokeh/release/bokeh-gl-0.12.16.min.js\"];\n",
       "\n",
       "  var inline_js = [\n",
       "    function(Bokeh) {\n",
       "      Bokeh.set_log_level(\"info\");\n",
       "    },\n",
       "    \n",
       "    function(Bokeh) {\n",
       "      \n",
       "    },\n",
       "    function(Bokeh) {\n",
       "      console.log(\"Bokeh: injecting CSS: https://cdn.pydata.org/bokeh/release/bokeh-0.12.16.min.css\");\n",
       "      Bokeh.embed.inject_css(\"https://cdn.pydata.org/bokeh/release/bokeh-0.12.16.min.css\");\n",
       "      console.log(\"Bokeh: injecting CSS: https://cdn.pydata.org/bokeh/release/bokeh-widgets-0.12.16.min.css\");\n",
       "      Bokeh.embed.inject_css(\"https://cdn.pydata.org/bokeh/release/bokeh-widgets-0.12.16.min.css\");\n",
       "      console.log(\"Bokeh: injecting CSS: https://cdn.pydata.org/bokeh/release/bokeh-tables-0.12.16.min.css\");\n",
       "      Bokeh.embed.inject_css(\"https://cdn.pydata.org/bokeh/release/bokeh-tables-0.12.16.min.css\");\n",
       "    }\n",
       "  ];\n",
       "\n",
       "  function run_inline_js() {\n",
       "    \n",
       "    if ((root.Bokeh !== undefined) || (force === true)) {\n",
       "      for (var i = 0; i < inline_js.length; i++) {\n",
       "        inline_js[i].call(root, root.Bokeh);\n",
       "      }if (force === true) {\n",
       "        display_loaded();\n",
       "      }} else if (Date.now() < root._bokeh_timeout) {\n",
       "      setTimeout(run_inline_js, 100);\n",
       "    } else if (!root._bokeh_failed_load) {\n",
       "      console.log(\"Bokeh: BokehJS failed to load within specified timeout.\");\n",
       "      root._bokeh_failed_load = true;\n",
       "    } else if (force !== true) {\n",
       "      var cell = $(document.getElementById(\"e8259ba7-73eb-4351-9d24-2f3fe05c46fa\")).parents('.cell').data().cell;\n",
       "      cell.output_area.append_execute_result(NB_LOAD_WARNING)\n",
       "    }\n",
       "\n",
       "  }\n",
       "\n",
       "  if (root._bokeh_is_loading === 0) {\n",
       "    console.log(\"Bokeh: BokehJS loaded, going straight to plotting\");\n",
       "    run_inline_js();\n",
       "  } else {\n",
       "    load_libs(js_urls, function() {\n",
       "      console.log(\"Bokeh: BokehJS plotting callback run at\", now());\n",
       "      run_inline_js();\n",
       "    });\n",
       "  }\n",
       "}(window));"
      ],
      "application/vnd.bokehjs_load.v0+json": "\n(function(root) {\n  function now() {\n    return new Date();\n  }\n\n  var force = true;\n\n  if (typeof (root._bokeh_onload_callbacks) === \"undefined\" || force === true) {\n    root._bokeh_onload_callbacks = [];\n    root._bokeh_is_loading = undefined;\n  }\n\n  \n\n  \n  if (typeof (root._bokeh_timeout) === \"undefined\" || force === true) {\n    root._bokeh_timeout = Date.now() + 5000;\n    root._bokeh_failed_load = false;\n  }\n\n  var NB_LOAD_WARNING = {'data': {'text/html':\n     \"<div style='background-color: #fdd'>\\n\"+\n     \"<p>\\n\"+\n     \"BokehJS does not appear to have successfully loaded. If loading BokehJS from CDN, this \\n\"+\n     \"may be due to a slow or bad network connection. Possible fixes:\\n\"+\n     \"</p>\\n\"+\n     \"<ul>\\n\"+\n     \"<li>re-rerun `output_notebook()` to attempt to load from CDN again, or</li>\\n\"+\n     \"<li>use INLINE resources instead, as so:</li>\\n\"+\n     \"</ul>\\n\"+\n     \"<code>\\n\"+\n     \"from bokeh.resources import INLINE\\n\"+\n     \"output_notebook(resources=INLINE)\\n\"+\n     \"</code>\\n\"+\n     \"</div>\"}};\n\n  function display_loaded() {\n    var el = document.getElementById(\"e8259ba7-73eb-4351-9d24-2f3fe05c46fa\");\n    if (el != null) {\n      el.textContent = \"BokehJS is loading...\";\n    }\n    if (root.Bokeh !== undefined) {\n      if (el != null) {\n        el.textContent = \"BokehJS \" + root.Bokeh.version + \" successfully loaded.\";\n      }\n    } else if (Date.now() < root._bokeh_timeout) {\n      setTimeout(display_loaded, 100)\n    }\n  }\n\n\n  function run_callbacks() {\n    try {\n      root._bokeh_onload_callbacks.forEach(function(callback) { callback() });\n    }\n    finally {\n      delete root._bokeh_onload_callbacks\n    }\n    console.info(\"Bokeh: all callbacks have finished\");\n  }\n\n  function load_libs(js_urls, callback) {\n    root._bokeh_onload_callbacks.push(callback);\n    if (root._bokeh_is_loading > 0) {\n      console.log(\"Bokeh: BokehJS is being loaded, scheduling callback at\", now());\n      return null;\n    }\n    if (js_urls == null || js_urls.length === 0) {\n      run_callbacks();\n      return null;\n    }\n    console.log(\"Bokeh: BokehJS not loaded, scheduling load and callback at\", now());\n    root._bokeh_is_loading = js_urls.length;\n    for (var i = 0; i < js_urls.length; i++) {\n      var url = js_urls[i];\n      var s = document.createElement('script');\n      s.src = url;\n      s.async = false;\n      s.onreadystatechange = s.onload = function() {\n        root._bokeh_is_loading--;\n        if (root._bokeh_is_loading === 0) {\n          console.log(\"Bokeh: all BokehJS libraries loaded\");\n          run_callbacks()\n        }\n      };\n      s.onerror = function() {\n        console.warn(\"failed to load library \" + url);\n      };\n      console.log(\"Bokeh: injecting script tag for BokehJS library: \", url);\n      document.getElementsByTagName(\"head\")[0].appendChild(s);\n    }\n  };var element = document.getElementById(\"e8259ba7-73eb-4351-9d24-2f3fe05c46fa\");\n  if (element == null) {\n    console.log(\"Bokeh: ERROR: autoload.js configured with elementid 'e8259ba7-73eb-4351-9d24-2f3fe05c46fa' but no matching script tag was found. \")\n    return false;\n  }\n\n  var js_urls = [\"https://cdn.pydata.org/bokeh/release/bokeh-0.12.16.min.js\", \"https://cdn.pydata.org/bokeh/release/bokeh-widgets-0.12.16.min.js\", \"https://cdn.pydata.org/bokeh/release/bokeh-tables-0.12.16.min.js\", \"https://cdn.pydata.org/bokeh/release/bokeh-gl-0.12.16.min.js\"];\n\n  var inline_js = [\n    function(Bokeh) {\n      Bokeh.set_log_level(\"info\");\n    },\n    \n    function(Bokeh) {\n      \n    },\n    function(Bokeh) {\n      console.log(\"Bokeh: injecting CSS: https://cdn.pydata.org/bokeh/release/bokeh-0.12.16.min.css\");\n      Bokeh.embed.inject_css(\"https://cdn.pydata.org/bokeh/release/bokeh-0.12.16.min.css\");\n      console.log(\"Bokeh: injecting CSS: https://cdn.pydata.org/bokeh/release/bokeh-widgets-0.12.16.min.css\");\n      Bokeh.embed.inject_css(\"https://cdn.pydata.org/bokeh/release/bokeh-widgets-0.12.16.min.css\");\n      console.log(\"Bokeh: injecting CSS: https://cdn.pydata.org/bokeh/release/bokeh-tables-0.12.16.min.css\");\n      Bokeh.embed.inject_css(\"https://cdn.pydata.org/bokeh/release/bokeh-tables-0.12.16.min.css\");\n    }\n  ];\n\n  function run_inline_js() {\n    \n    if ((root.Bokeh !== undefined) || (force === true)) {\n      for (var i = 0; i < inline_js.length; i++) {\n        inline_js[i].call(root, root.Bokeh);\n      }if (force === true) {\n        display_loaded();\n      }} else if (Date.now() < root._bokeh_timeout) {\n      setTimeout(run_inline_js, 100);\n    } else if (!root._bokeh_failed_load) {\n      console.log(\"Bokeh: BokehJS failed to load within specified timeout.\");\n      root._bokeh_failed_load = true;\n    } else if (force !== true) {\n      var cell = $(document.getElementById(\"e8259ba7-73eb-4351-9d24-2f3fe05c46fa\")).parents('.cell').data().cell;\n      cell.output_area.append_execute_result(NB_LOAD_WARNING)\n    }\n\n  }\n\n  if (root._bokeh_is_loading === 0) {\n    console.log(\"Bokeh: BokehJS loaded, going straight to plotting\");\n    run_inline_js();\n  } else {\n    load_libs(js_urls, function() {\n      console.log(\"Bokeh: BokehJS plotting callback run at\", now());\n      run_inline_js();\n    });\n  }\n}(window));"
     },
     "metadata": {},
     "output_type": "display_data"
    }
   ],
   "source": [
    "output_notebook()"
   ]
  },
  {
   "cell_type": "code",
   "execution_count": 3,
   "metadata": {
    "collapsed": true
   },
   "outputs": [],
   "source": [
    "'''\n",
    "Get the clirad-lw and lblnew `param`s for all spectral bands.  \n",
    "These are returned by functions `clirad_params_atm` and\n",
    "`lblnew_params_atm`, respectively.\n",
    "'''\n",
    "\n",
    "def molecules_byband_atm():\n",
    "    return {1: {'h2o': 'atmpro'},\n",
    "            2: {'h2o': 'atmpro'}, \n",
    "            3: {'co2': 0.0004, 'h2o': 'atmpro', 'n2o': 3.2e-07},\n",
    "            4: {'co2': 0.0004, 'h2o': 'atmpro'},\n",
    "            5: {'co2': 0.0004, 'h2o': 'atmpro'},\n",
    "            6: {'co2': 0.0004, 'h2o': 'atmpro'},\n",
    "            7: {'co2': 0.0004, 'h2o': 'atmpro', 'o3': 'atmpro'},\n",
    "            8: {'h2o': 'atmpro'},\n",
    "            9: {'ch4': 1.8e-06, 'h2o': 'atmpro', 'n2o': 3.2e-07},\n",
    "            10: {'h2o': 'atmpro'},\n",
    "            11: {'co2': 0.0004, 'h2o': 'atmpro'}}\n",
    "\n",
    "\n",
    "def greyabsorbers_by_band_atm():\n",
    "    return {1: {'con': 'atmpro'},\n",
    "            2: {'con': 'atmpro'},\n",
    "            3: {'con': 'atmpro'},\n",
    "            4: {'con': 'atmpro'},\n",
    "            5: {'con': 'atmpro'},\n",
    "            6: {'con': 'atmpro'}, \n",
    "            7: {'con': 'atmpro'},\n",
    "            8: {'con': 'atmpro', 'n2o': 3.2e-7}, \n",
    "            9: {'con': 'atmpro'}, \n",
    "            10: None,\n",
    "            11: None}\n",
    "\n",
    "\n",
    "def clirad_params_atm(atmpro='mls'):\n",
    "    d = {}\n",
    "    for band, molecule in molecules_byband_atm().items():\n",
    "        for param in setup_cliradlw.test_cases():\n",
    "            if [band] == param['band'] and molecule == param['molecule']:\n",
    "                param['atmpro'] = atmpro\n",
    "                d[band] = param\n",
    "                break                \n",
    "    return d\n",
    "\n",
    "\n",
    "def clirad_params_atm_singlerun(atmpro='mls'):\n",
    "    '''\n",
    "    Returns param of clirad-lw run that is equivalent to the total\n",
    "    of all the runs listed in molecules_byband_atm().  In order\n",
    "    for the output to be compatible with clirad_data_atm(), it will\n",
    "    be a list.\n",
    "    '''\n",
    "    param0 = {'band': [1, 2, 3, 4, 5, 6, 7, 8, 9, 10, 11],\n",
    "              'commitnumber': '152f07f',\n",
    "              'molecule': {'ch4': 1.8e-06,\n",
    "                           'co2': 0.0004,\n",
    "                           'h2o': 'atmpro',\n",
    "                           'n2o': 3.2e-07,\n",
    "                           'o3': 'atmpro'}}\n",
    "    \n",
    "    d_atmpros = {'mls': 294, 'saw': 257, 'trp': 300}\n",
    "    \n",
    "    param = param0.copy()\n",
    "    param['atmpro'] = atmpro\n",
    "    param['tsfc'] = d_atmpros[atmpro]\n",
    "    \n",
    "    d = {}\n",
    "    d['all'] = param\n",
    "    return d\n",
    "\n",
    "\n",
    "def analysis_dirs_atm(atmpro='mls'):\n",
    "    params = clirad_params_atm(atmpro=atmpro)\n",
    "    return {band: pipe_cliradlw.get_analysis_dir(param=param,\n",
    "                                                 setup=setup_cliradlw) \n",
    "            for band, param in params.items()}\n",
    "\n",
    "\n",
    "def lblnew_params_atm(atmpro='mls'):\n",
    "    dirs = analysis_dirs_atm(atmpro=atmpro)\n",
    "    \n",
    "    d = {}\n",
    "    for band, dirname in dirs.items():\n",
    "        with open(os.path.join(dirname, 'param.py'), \n",
    "                  mode='r', encoding='utf-8') as f:\n",
    "            _, l = f.readlines()\n",
    "        \n",
    "        s = l.split('=')[1].strip()\n",
    "        d[band] = ast.literal_eval(s)\n",
    "        \n",
    "    return d\n"
   ]
  },
  {
   "cell_type": "code",
   "execution_count": 4,
   "metadata": {
    "collapsed": true
   },
   "outputs": [],
   "source": [
    "def db_getdir():\n",
    "    atmpro = 'mls'\n",
    "    params = clirad_params_atm_singlerun(atmpro=atmpro)\n",
    "    param = params['all']\n",
    "    \n",
    "    fdir = pipe_cliradlw.get_fortran_dir(param=param, \n",
    "                                         setup=setup_cliradlw)\n",
    "    return fdir\n",
    "\n",
    "\n",
    "def db_ktable():\n",
    "    fdir = db_getdir()    \n",
    "    fpath = os.path.join(fdir, 'ktable.dat')\n",
    "    \n",
    "    df = pd.read_csv(fpath, sep=r'\\s+')\n",
    "    df = df.set_index(['band', 'mid', 'il', 'it', 'g'])\n",
    "    ds = xr.Dataset.from_dataframe(df)\n",
    "    return ds\n",
    "\n",
    "\n",
    "def db_ng_dgs():\n",
    "    fdir = db_getdir()\n",
    "    fpath = os.path.join(fdir, 'ng_dgs.dat')\n",
    "    \n",
    "    df = pd.read_csv(fpath, sep=r'\\s+')\n",
    "    df = df.set_index(['band', 'mid', 'g'])\n",
    "    ds = xr.Dataset.from_dataframe(df)\n",
    "    return ds\n"
   ]
  },
  {
   "cell_type": "code",
   "execution_count": 5,
   "metadata": {
    "collapsed": true
   },
   "outputs": [],
   "source": [
    "def show_makeup():\n",
    "    df = pd.DataFrame()\n",
    "\n",
    "    for band, molecule in molecules_byband_atm().items():\n",
    "        for name, conc in molecule.items():\n",
    "            df.loc[name, band] = str(conc)\n",
    "\n",
    "    df = df.fillna(0)\n",
    "    df.columns.name = 'clirad band'\n",
    "    df.index.name = 'molecule'\n",
    "    \n",
    "    display.display(df)\n",
    "    \n",
    "    display.display(\n",
    "        display.Markdown('*TABLE.* Non-grey absorbers in the atmosphere.'))\n",
    "\n",
    "\n",
    "def show_grey_makeup():\n",
    "    df = pd.DataFrame()\n",
    "    \n",
    "    for band, molecule in greyabsorbers_by_band_atm().items():\n",
    "        if molecule == None:\n",
    "            pass\n",
    "        else:\n",
    "            for name, conc in molecule.items():\n",
    "                df.loc[name, band] = str(conc)\n",
    "                \n",
    "    df = df.fillna(0)\n",
    "    df.columns.name = 'clirad band'\n",
    "    df.index.name = 'absorber'\n",
    "    \n",
    "    display.display(df)\n",
    "    display.display(\n",
    "        display.Markdown('*TABLE.* Grey absorbers in the atmosphere.')\n",
    "    )"
   ]
  },
  {
   "cell_type": "code",
   "execution_count": 6,
   "metadata": {
    "collapsed": true
   },
   "outputs": [],
   "source": [
    "def load_output_file(path_csv):\n",
    "    '''\n",
    "    Load lblnew output .csv file to xarray.Dataset\n",
    "    \n",
    "    Parameters\n",
    "    ----------\n",
    "    path_csv: str\n",
    "              Path to the .csv file to be loaded.\n",
    "    ds: xarray.Dataset\n",
    "        Data in the input file in the form of an xarray.Dataset.\n",
    "    '''\n",
    "    toindex = ['band', 'pressure', 'igg', 'g']    \n",
    "    df = pd.read_csv(path_csv, sep=r'\\s+')\n",
    "    df = df.set_index([i for i in toindex if i in df.columns])\n",
    "    df = df.rename(columns={'sfu': 'flug',\n",
    "                            'sfd': 'fldg',\n",
    "                            'fnet': 'fnetg',\n",
    "                            'coolr': 'coolrg'})\n",
    "    ds = xr.Dataset.from_dataframe(df)\n",
    "\n",
    "    for l in ('level', 'layer'):\n",
    "        if l in ds.data_vars:\n",
    "            if len(ds[l].dims) > 1:\n",
    "                surface = {d: 0 for d in ds.dims if d != 'pressure'}\n",
    "                coord_level = ds[l][surface]\n",
    "                ds.coords[l] = ('pressure', coord_level)\n",
    "            else:\n",
    "                ds.coords[l] = ('pressure', ds[l])\n",
    "    \n",
    "    return ds"
   ]
  },
  {
   "cell_type": "code",
   "execution_count": 7,
   "metadata": {
    "collapsed": true
   },
   "outputs": [],
   "source": [
    "def lblnew_setup(param=None):\n",
    "    if 'ng_refs' in param:\n",
    "        return {'setup': setup_bestfit,\n",
    "                'fname_flux_crd': 'output_flux.dat',\n",
    "                'fname_cool_crd': 'output_coolr.dat',\n",
    "                'fname_flux_wgt': 'output_wfluxg.dat',\n",
    "                'fname_cool_wgt': 'output_wcoolrg.dat'}\n",
    "    else:\n",
    "        return {'setup': setup_overlap,\n",
    "                'fname_flux_crd': 'output_flux.dat',\n",
    "                'fname_cool_crd': 'output_coolr.dat',\n",
    "                'fname_flux_wgt': 'output_wflux.dat',\n",
    "                'fname_cool_wgt': 'output_wcoolr.dat'}\n",
    "\n",
    "    \n",
    "def load_lblnew_data(param):\n",
    "    \n",
    "    fname_dsname = [('fname_flux_crd', 'ds_flux_crd'),\n",
    "                    ('fname_cool_crd', 'ds_cool_crd'),\n",
    "                    ('fname_flux_wgt', 'ds_flux_wgt'),\n",
    "                    ('fname_cool_wgt', 'ds_cool_wgt')]\n",
    "    \n",
    "    d = lblnew_setup(param)\n",
    "    dir_fortran = pipe_lblnew.get_dir_case(param, setup=d['setup'])\n",
    "    \n",
    "    data_dict = {}\n",
    "    for fname, dsname in fname_dsname:\n",
    "        fpath = os.path.join(dir_fortran, d[fname])\n",
    "        data_dict[dsname] = load_output_file(fpath)\n",
    "    return data_dict"
   ]
  },
  {
   "cell_type": "code",
   "execution_count": 8,
   "metadata": {
    "collapsed": true
   },
   "outputs": [],
   "source": [
    "def crd_data_atm(params_atm):\n",
    "    '''\n",
    "    Parameters\n",
    "    ----------\n",
    "    \n",
    "    params_atm: dict\n",
    "                Parameter dictionary for each band.\n",
    "                \n",
    "    d: dict\n",
    "       'flux': xr.Dataset. [pressure, band]\n",
    "               Fluxes.\n",
    "       'cool': xr.Dataset. [pressure, band]\n",
    "               Cooling rate.\n",
    "    \n",
    "    '''\n",
    "    \n",
    "    results_atm = {band: load_lblnew_data(param) \n",
    "                   for band, param in params_atm.items()}\n",
    "    \n",
    "    bands = [band for band, _ in params_atm.items()]\n",
    "    fluxs = [d['ds_flux_crd'] for _, d in results_atm.items()]\n",
    "    cools = [d['ds_cool_crd'] for _, d in results_atm.items()]\n",
    "    \n",
    "    d = {}\n",
    "    d['flux'] = xr.concat(fluxs, dim=bands).rename({'concat_dim': 'band'})\n",
    "    d['cool'] = xr.concat(cools, dim=bands).rename({'concat_dim': 'band'})\n",
    "    return d        \n",
    "        \n",
    "        \n",
    "\n",
    "def clirad_data_atm(params_atm):\n",
    "    \n",
    "    dirnames = [pipe_cliradlw.get_fortran_dir(param,\n",
    "                                              setup=setup_cliradlw)\n",
    "                for _, param in params_atm.items()]\n",
    "    \n",
    "    fpaths_flux = [os.path.join(n, 'output_flux.dat') for n in dirnames]\n",
    "    fpaths_cool = [os.path.join(n, 'output_coolr.dat') for n in dirnames]\n",
    "    \n",
    "    fluxs = [load_output_file(p) for p in fpaths_flux]    \n",
    "    cools = [load_output_file(p) for p in fpaths_cool]\n",
    "    \n",
    "    d = {}\n",
    "    d['flux'] = sum(fluxs)\n",
    "    d['cool'] = sum(cools)\n",
    "    return d\n",
    "\n"
   ]
  },
  {
   "cell_type": "code",
   "execution_count": 9,
   "metadata": {
    "collapsed": true
   },
   "outputs": [],
   "source": [
    "\n",
    "\n",
    "import rtmtools.clirad.sw.wrangle as cliradwrangle\n",
    "\n",
    "import importlib\n",
    "importlib.reload(cliradwrangle)\n",
    "\n",
    "def oldclirad_data_atm():\n",
    "    '''\n",
    "    Load the OLD clirad's results. mls only.\n",
    "    '''\n",
    "    fpath = os.path.join('/chia_cluster/home/jackyu/radiation',\n",
    "                         'clirad-lw',\n",
    "                         'LW',\n",
    "                         'examples',\n",
    "                         'mls75_h2o_atmpro_co2_.0004_o3_atmpro_n2o_3.2e-7_ch4_1.8e-6_H2012',\n",
    "                         'OUTPUT_CLIRAD.dat')\n",
    "    \n",
    "    ds = cliradwrangle.load_OUTPUT_CLIRAD(readfrom=fpath)\n",
    "    \n",
    "    ds_cool = xr.Dataset()\n",
    "    ds_cool.coords['pressure'] = ('pressure', ds['layer_pressure'])\n",
    "    ds_cool.coords['band'] = ('band', ds['spectral_band'])\n",
    "    ds_cool['coolrg'] = (('band', 'pressure'), - ds['heating_rate'])\n",
    "    \n",
    "    ds_flux = xr.Dataset()\n",
    "    ds_flux.coords['pressure'] = ('pressure', ds['level_pressure'])\n",
    "    ds_flux.coords['band'] = ('band', ds['spectral_band'])\n",
    "    ds_flux['flug'] = (('band', 'pressure'), ds['flux_up'])\n",
    "    ds_flux['fldg'] = (('band', 'pressure'), ds['flux_down'])\n",
    "    ds_flux['fnetg'] = (('band', 'pressure'), ds['net_flux'])\n",
    "    \n",
    "    \n",
    "    d = {}\n",
    "    d['cool'] = ds_cool\n",
    "    d['flux'] = ds_flux\n",
    "    return d\n"
   ]
  },
  {
   "cell_type": "code",
   "execution_count": 10,
   "metadata": {
    "collapsed": true
   },
   "outputs": [],
   "source": [
    "def fmt_cool(ds_in):\n",
    "    ds = ds_in.copy(deep=True)\n",
    "    if 'igg' in ds.dims:\n",
    "        ds = ds.sel(igg=1)\n",
    "\n",
    "    if 'g' in ds.dims:\n",
    "        ds = ds.sum('g')\n",
    "            \n",
    "    if 'band' in ds.dims:\n",
    "        try:\n",
    "            ds = ds.squeeze('band')\n",
    "        except ValueError:\n",
    "            ds = ds.sum('band')\n",
    "                \n",
    "    return ds['coolrg']\n",
    "\n",
    "\n",
    "\n",
    "def nice_xlims(pltdata=None, prange=None):\n",
    "    \n",
    "    def get_slice(srs):\n",
    "        return srs.sel(pressure=slice(*prange))\n",
    "    \n",
    "    srss = [d['srs'] for d in pltdata]\n",
    "    vmin = min([get_slice(srs).min() for srs in srss])\n",
    "    vmax = max([get_slice(srs).max() for srs in srss])\n",
    "    dv = (vmax - vmin) * .01\n",
    "    return float(vmin - dv), float(vmax + dv)\n",
    "\n",
    "\n",
    "    \n",
    "def plt_cool_bokeh(pltdata=None, \n",
    "                   y_axis_type='linear', prange=(50, 1050)):\n",
    "    \n",
    "    ymin = 1e-2 \n",
    "    ymax = 1020\n",
    "    \n",
    "    p2 = figure(y_axis_type=y_axis_type, plot_width=300)\n",
    "    xmin, xmax = nice_xlims(pltdata, prange=prange)\n",
    "    \n",
    "    rs = []\n",
    "    for d in pltdata:\n",
    "        rd = []\n",
    "        if 'marker' in d:\n",
    "            r_mark = getattr(p2, d['marker'])(d['srs'].values, \n",
    "                        d['srs'].coords['pressure'].values,\n",
    "                        color=d['color'], alpha=.7)\n",
    "            rd.append(r_mark)\n",
    "        r_line = p2.line(d['srs'].values, \n",
    "                         d['srs'].coords['pressure'].values,\n",
    "                         color=d['color'], alpha=d['alpha'], \n",
    "                         line_width=d['line_width'], \n",
    "                         line_dash=d['line_dash'])\n",
    "        rd.append(r_line)\n",
    "      \n",
    "        rs.append(rd)\n",
    "        \n",
    "    p2.y_range = Range1d(ymax, ymin)  \n",
    "    p2.yaxis.axis_label = 'pressure [mb]'\n",
    "    \n",
    "    p2.x_range = Range1d(xmin, xmax)\n",
    "    p2.xaxis.axis_label = 'cooling rate [K/day]'\n",
    "    \n",
    "    items = [(d['label'], r) for r, d in zip(rs, pltdata)]\n",
    "    legend = Legend(items=items, location=(10, 0))\n",
    "    legend.label_text_font_size = '8pt'\n",
    "    p2.add_layout(legend, 'above')\n",
    "    p2.legend.orientation = 'horizontal'\n",
    "    p2.legend.location = 'top_center'\n",
    "    \n",
    "    return p2"
   ]
  },
  {
   "cell_type": "code",
   "execution_count": 11,
   "metadata": {
    "collapsed": true
   },
   "outputs": [],
   "source": [
    "def pltdata_cool(atmpro='mls'):\n",
    "    \n",
    "    d_clirad_singlerun = clirad_data_atm(\n",
    "        clirad_params_atm_singlerun(atmpro=atmpro))\n",
    "    d_clirad = clirad_data_atm(clirad_params_atm(atmpro=atmpro))\n",
    "    d_crd = crd_data_atm(lblnew_params_atm(atmpro=atmpro))\n",
    "\n",
    "    ds_clirad_singlerun = d_clirad_singlerun['cool']\n",
    "    ds_clirad = d_clirad['cool']\n",
    "    ds_crd = d_crd['cool']\n",
    "\n",
    "    colors = all_palettes['Set1'][4]\n",
    "    \n",
    "    data = [\n",
    "        {'label': 'CLIRAD (single-run)',\n",
    "        'srs': fmt_cool(ds_clirad_singlerun),\n",
    "        'line_dash': 'dashed', 'line_width': 5,\n",
    "        'color': colors[1], 'alpha': .6},\n",
    "        {'label': 'CRD',\n",
    "         'srs': fmt_cool(ds_crd),\n",
    "         'line_dash': 'solid', 'line_width': 1.5,\n",
    "         'marker': 'circle', 'marker_size': 5,\n",
    "         'color': colors[2], 'alpha': 1}\n",
    "    ]\n",
    "#        {'label': 'CLIRAD',\n",
    "#         'srs': fmt_cool(ds_clirad),\n",
    "#         'line_dash': 'dashed', 'line_width': 5,\n",
    "#         'color': colors[0], 'alpha': .6}\n",
    "        \n",
    "\n",
    "    \n",
    "    # include old CLIRAD's results for mls profile\n",
    "    if atmpro == 'mls':\n",
    "        d_oldclirad = oldclirad_data_atm()\n",
    "        ds_oldclirad = d_oldclirad['cool']        \n",
    "        data.append(\n",
    "            {'label': 'old CLIRAD (H2012)',\n",
    "             'srs': fmt_cool(ds_oldclirad),\n",
    "             'line_dash': 'solid', 'line_width': 1.5,\n",
    "             'marker': 'square', 'marker_size': 3,\n",
    "             'color': colors[3], 'alpha': .5})\n",
    "    return data\n",
    "\n",
    "\n",
    "def pltdata_cooldiff(atmpro='mls'):\n",
    "    \n",
    "    d_clirad_singlerun = clirad_data_atm(\n",
    "        clirad_params_atm_singlerun(atmpro=atmpro))\n",
    "    d_clirad = clirad_data_atm(clirad_params_atm(atmpro=atmpro))\n",
    "    d_crd = crd_data_atm(lblnew_params_atm(atmpro=atmpro))\n",
    "    \n",
    "    ds_clirad_singlerun = d_clirad_singlerun['cool']\n",
    "    ds_clirad = d_clirad['cool']\n",
    "    ds_crd = d_crd['cool']\n",
    "    \n",
    "    ds_diff = ds_clirad_singlerun - ds_crd\n",
    "    \n",
    "    colors = all_palettes['Set1'][4]\n",
    "    \n",
    "    data = [\n",
    "        {'label': 'CLIRAD (single-run) - CRD',\n",
    "         'srs': fmt_cool(ds_diff),\n",
    "         'line_dash': 'solid', 'line_width': 1.5, \n",
    "         'marker': 'circle', 'marker_size': 7,\n",
    "         'color': colors[3], 'alpha': .8}\n",
    "    ]\n",
    "    \n",
    "    # include old CLIRAD's results for mls profile\n",
    "    if atmpro == 'mls':\n",
    "        d_oldclirad = oldclirad_data_atm()\n",
    "        ds_oldclirad = d_oldclirad['cool']\n",
    "        ds_oldclirad.coords['pressure'] = ds_crd.coords['pressure']\n",
    "        ds_diff_old = ds_oldclirad.sum('band') - ds_crd.sum('band')\n",
    "        data.append(\n",
    "            {'label': 'old CLIRAD (H2012) - CRD',\n",
    "             'srs': fmt_cool(ds_diff_old),\n",
    "             'line_dash': 'dashed', 'line_width': 4,\n",
    "             'color': colors[1], 'alpha': .5}\n",
    "        )\n",
    "    return data\n",
    "\n",
    "\n",
    "def show_cool(atmpro='mls'):\n",
    "    \n",
    "    data_cool = pltdata_cool(atmpro=atmpro)\n",
    "    p_cool_liny = plt_cool_bokeh(pltdata=data_cool)\n",
    "    p_cool_logy = plt_cool_bokeh(pltdata=data_cool, \n",
    "                                 y_axis_type='log',\n",
    "                                 prange=(.01, 200))\n",
    "    \n",
    "    data_cooldiff = pltdata_cooldiff(atmpro=atmpro)\n",
    "    p_cooldiff_logy = plt_cool_bokeh(pltdata=data_cooldiff,\n",
    "                                     y_axis_type='log',\n",
    "                                     prange=(.01, 200))\n",
    "    \n",
    "    everything = gridplot(p_cool_liny, p_cool_logy, \n",
    "                          p_cooldiff_logy,\n",
    "                          ncols=3)\n",
    "    show(everything)\n",
    "    display.display(\n",
    "        display.Markdown('*FIGURE.* Cooling rates & difference.'))\n",
    "\n",
    "\n",
    "    "
   ]
  },
  {
   "cell_type": "code",
   "execution_count": null,
   "metadata": {
    "collapsed": true
   },
   "outputs": [],
   "source": []
  },
  {
   "cell_type": "code",
   "execution_count": 12,
   "metadata": {
    "collapsed": true,
    "scrolled": false
   },
   "outputs": [],
   "source": [
    "\n",
    "\n",
    "def hist_band_vs_flux(da, title='Title'):\n",
    "       \n",
    "    bands = [str(b.values) for b in da['band']]\n",
    "\n",
    "    source = ColumnDataSource(\n",
    "        data={'band': bands, 'flux': da.values})\n",
    "\n",
    "    p = figure(x_range=bands, title=title)\n",
    "    p.vbar(source=source, x='band', top='flux', width=.9)\n",
    "\n",
    "    p.yaxis.axis_label = 'flux (W m-2)'\n",
    "    p.xaxis.axis_label = 'spectral band'\n",
    "    \n",
    "    return p\n",
    "\n",
    "\n",
    "def show_hist_flux(atmpro='mls'):\n",
    "    ds_crd = crd_data_atm(lblnew_params_atm(atmpro=atmpro))['flux']\n",
    "    ds_clirad = clirad_data_atm(\n",
    "        clirad_params_atm(atmpro=atmpro))['flux']\n",
    "    ds_clirad_singlerun = clirad_data_atm(\n",
    "        clirad_params_atm_singlerun(atmpro=atmpro))['flux']\n",
    "    \n",
    "    ip, varname = 0, 'flug'\n",
    "    da = (ds_clirad_singlerun - ds_crd).isel(pressure=ip)[varname]\n",
    "    p_toa = hist_band_vs_flux(da, \n",
    "        title='TOA flux. CLIRAD (single-run) - CRD.')\n",
    "\n",
    "    ip, varname = -1, 'fldg'\n",
    "    da = (ds_clirad_singlerun - ds_crd).isel(pressure=ip)[varname]\n",
    "    p_sfc = hist_band_vs_flux(da, \n",
    "        title='SFC flux. CLIRAD (single-run) - CRD.')    \n",
    "    \n",
    "    atm_crd = (ds_crd.isel(pressure=0) \n",
    "               - ds_crd.isel(pressure=-1))['fnetg']\n",
    "    atm_clirad_singlerun = (ds_clirad_singlerun.isel(pressure=0) \n",
    "                  - ds_clirad_singlerun.isel(pressure=-1))['fnetg']\n",
    "    da = atm_clirad_singlerun - atm_crd\n",
    "    p_atm = hist_band_vs_flux(da, \n",
    "        title='Atmosphere heating. CLIRAD (single-run) - CRD.')\n",
    "\n",
    "    everything = gridplot(p_toa, p_sfc, p_atm, ncols=3, \n",
    "                          plot_width=300, plot_height=300)\n",
    "    \n",
    "    show(everything)\n",
    "    display.display(\n",
    "        display.Markdown('*FIGURE.* Difference between CLIRAD and CRD'\n",
    "          ' in TOA, SFC and net atmosphere flux,'\n",
    "          ' in each spectral band.'))\n",
    "\n",
    "\n",
    "    \n",
    "def show_tb_flux(atmpro='mls'):\n",
    "    ds_crd = crd_data_atm(lblnew_params_atm(atmpro=atmpro))['flux']\n",
    "    olr_crd = ds_crd['flug'].isel(pressure=0)\n",
    "    sfc_crd = ds_crd['fldg'].isel(pressure=-1)\n",
    "    atm_crd = (ds_crd.isel(pressure=0)\n",
    "               - ds_crd.isel(pressure=-1))['fnetg']\n",
    "    \n",
    "    ds_clirad = clirad_data_atm(\n",
    "        clirad_params_atm(atmpro=atmpro))['flux']\n",
    "    olr_clirad = ds_clirad['flug'].isel(pressure=0)\n",
    "    sfc_clirad = ds_clirad['fldg'].isel(pressure=-1)\n",
    "    atm_clirad = (ds_clirad.isel(pressure=0)\n",
    "                  - ds_clirad.isel(pressure=-1))['fnetg']\n",
    "\n",
    "    ds_clirad_singlerun = clirad_data_atm(\n",
    "        clirad_params_atm_singlerun(atmpro=atmpro))['flux']\n",
    "    olr_clirad_singlerun = ds_clirad_singlerun['flug'].isel(pressure=0)\n",
    "    sfc_clirad_singlerun = ds_clirad_singlerun['fldg'].isel(pressure=-1)\n",
    "    atm_clirad_singlerun = (ds_clirad_singlerun.isel(pressure=0)\n",
    "                  - ds_clirad_singlerun.isel(pressure=-1))['fnetg']\n",
    "    \n",
    "    if atmpro == 'mls':\n",
    "        ds_oldclirad = oldclirad_data_atm()['flux']\n",
    "        ds_oldclirad['pressure'] = ds_crd['pressure']\n",
    "        olr_oldclirad = ds_oldclirad['flug'].isel(pressure=0)\n",
    "        sfc_oldclirad = ds_oldclirad['fldg'].isel(pressure=-1)\n",
    "        atm_oldclirad = (ds_oldclirad.isel(pressure=0)\n",
    "                         - ds_oldclirad.isel(pressure=-1))['fnetg']\n",
    "        \n",
    "    \n",
    "    \n",
    "    df = pd.DataFrame()\n",
    "    df.index.name = 'Sum over bands'\n",
    "    \n",
    "    if atmpro == 'mls':\n",
    "        df.loc['old CLIRAD - CRD', 'OLR flux'] = (olr_oldclirad.sum('band') - olr_crd.sum('band')).values\n",
    "        df.loc['old CLIRAD - CRD', 'SFC flux'] = (sfc_oldclirad.sum('band') - sfc_crd.sum('band')).values\n",
    "        df.loc['old CLIRAD - CRD', 'ATM heating'] = (atm_oldclirad.sum('band') - atm_crd.sum('band')).values\n",
    "    \n",
    "    df.loc['CLIRAD (single-run) - CRD', 'OLR flux'] = (olr_clirad_singlerun - olr_crd).sum('band').values\n",
    "    df.loc['CLIRAD (single-run) - CRD', 'SFC flux'] = (sfc_clirad_singlerun - sfc_crd).sum('band').values\n",
    "    df.loc['CLIRAD (single-run) - CRD', 'ATM heating'] = (atm_clirad_singlerun - atm_crd).sum('band').values\n",
    "\n",
    "    df.loc['CRD', 'OLR flux'] = olr_crd.sum('band').values\n",
    "    df.loc['CRD', 'SFC flux'] = sfc_crd.sum('band').values\n",
    "    df.loc['CRD', 'ATM heating'] = atm_crd.sum('band').values\n",
    "        \n",
    "    df = df.astype('float').round(2)\n",
    "    \n",
    "    display.display(df)\n",
    "    display.display(\n",
    "        display.Markdown('*TABLE.* Difference between CLIRAD and CRD'\n",
    "          ' in TOA, SFC and net atmosphere flux,'\n",
    "          ' over all spectral bands. CRD\\'s'\n",
    "          ' TOA, SFC and net atmosphere flux,'\n",
    "          ' over all spectral bands.'))\n"
   ]
  },
  {
   "cell_type": "code",
   "execution_count": 13,
   "metadata": {
    "scrolled": false
   },
   "outputs": [
    {
     "data": {
      "text/markdown": [
       "## Results over entire range of molecules and spectral bands"
      ],
      "text/plain": [
       "<IPython.core.display.Markdown object>"
      ]
     },
     "metadata": {},
     "output_type": "display_data"
    },
    {
     "data": {
      "text/markdown": [
       "### Table of Contents"
      ],
      "text/plain": [
       "<IPython.core.display.Markdown object>"
      ]
     },
     "metadata": {},
     "output_type": "display_data"
    },
    {
     "data": {
      "text/html": [
       "<a href=\"#Makeup_of_atmosphere.\">Makeup of atmosphere.</a>"
      ],
      "text/plain": [
       "<IPython.core.display.HTML object>"
      ]
     },
     "metadata": {},
     "output_type": "display_data"
    },
    {
     "data": {
      "text/markdown": [
       "**mid-latitude summer**"
      ],
      "text/plain": [
       "<IPython.core.display.Markdown object>"
      ]
     },
     "metadata": {},
     "output_type": "display_data"
    },
    {
     "data": {
      "text/html": [
       "<a href=\"#Cooling_rates._mls.\">Cooling rates. mls.</a>"
      ],
      "text/plain": [
       "<IPython.core.display.HTML object>"
      ]
     },
     "metadata": {},
     "output_type": "display_data"
    },
    {
     "data": {
      "text/html": [
       "<a href=\"#Fluxes._mls.\">Fluxes. mls.</a>"
      ],
      "text/plain": [
       "<IPython.core.display.HTML object>"
      ]
     },
     "metadata": {},
     "output_type": "display_data"
    },
    {
     "data": {
      "text/markdown": [
       "**sub-arctic winter**"
      ],
      "text/plain": [
       "<IPython.core.display.Markdown object>"
      ]
     },
     "metadata": {},
     "output_type": "display_data"
    },
    {
     "data": {
      "text/html": [
       "<a href=\"#Cooling_rates._saw.\">Cooling rates. saw.</a>"
      ],
      "text/plain": [
       "<IPython.core.display.HTML object>"
      ]
     },
     "metadata": {},
     "output_type": "display_data"
    },
    {
     "data": {
      "text/html": [
       "<a href=\"#Fluxes._saw.\">Fluxes. saw.</a>"
      ],
      "text/plain": [
       "<IPython.core.display.HTML object>"
      ]
     },
     "metadata": {},
     "output_type": "display_data"
    },
    {
     "data": {
      "text/markdown": [
       "**tropical**"
      ],
      "text/plain": [
       "<IPython.core.display.Markdown object>"
      ]
     },
     "metadata": {},
     "output_type": "display_data"
    },
    {
     "data": {
      "text/html": [
       "<a href=\"#Cooling_rates._trp.\">Cooling rates. trp.</a>"
      ],
      "text/plain": [
       "<IPython.core.display.HTML object>"
      ]
     },
     "metadata": {},
     "output_type": "display_data"
    },
    {
     "data": {
      "text/html": [
       "<a href=\"#Fluxes._trp.\">Fluxes. trp.</a>"
      ],
      "text/plain": [
       "<IPython.core.display.HTML object>"
      ]
     },
     "metadata": {},
     "output_type": "display_data"
    },
    {
     "data": {
      "text/html": [
       "<a id=\"Makeup_of_atmosphere.\"></a>"
      ],
      "text/plain": [
       "<IPython.core.display.HTML object>"
      ]
     },
     "metadata": {},
     "output_type": "display_data"
    },
    {
     "data": {
      "text/markdown": [
       "# Makeup of atmosphere."
      ],
      "text/plain": [
       "<IPython.core.display.Markdown object>"
      ]
     },
     "metadata": {},
     "output_type": "display_data"
    },
    {
     "data": {
      "text/html": [
       "<div>\n",
       "<style scoped>\n",
       "    .dataframe tbody tr th:only-of-type {\n",
       "        vertical-align: middle;\n",
       "    }\n",
       "\n",
       "    .dataframe tbody tr th {\n",
       "        vertical-align: top;\n",
       "    }\n",
       "\n",
       "    .dataframe thead th {\n",
       "        text-align: right;\n",
       "    }\n",
       "</style>\n",
       "<table border=\"1\" class=\"dataframe\">\n",
       "  <thead>\n",
       "    <tr style=\"text-align: right;\">\n",
       "      <th>clirad band</th>\n",
       "      <th>1</th>\n",
       "      <th>2</th>\n",
       "      <th>3</th>\n",
       "      <th>4</th>\n",
       "      <th>5</th>\n",
       "      <th>6</th>\n",
       "      <th>7</th>\n",
       "      <th>8</th>\n",
       "      <th>9</th>\n",
       "      <th>10</th>\n",
       "      <th>11</th>\n",
       "    </tr>\n",
       "    <tr>\n",
       "      <th>molecule</th>\n",
       "      <th></th>\n",
       "      <th></th>\n",
       "      <th></th>\n",
       "      <th></th>\n",
       "      <th></th>\n",
       "      <th></th>\n",
       "      <th></th>\n",
       "      <th></th>\n",
       "      <th></th>\n",
       "      <th></th>\n",
       "      <th></th>\n",
       "    </tr>\n",
       "  </thead>\n",
       "  <tbody>\n",
       "    <tr>\n",
       "      <th>h2o</th>\n",
       "      <td>atmpro</td>\n",
       "      <td>atmpro</td>\n",
       "      <td>atmpro</td>\n",
       "      <td>atmpro</td>\n",
       "      <td>atmpro</td>\n",
       "      <td>atmpro</td>\n",
       "      <td>atmpro</td>\n",
       "      <td>atmpro</td>\n",
       "      <td>atmpro</td>\n",
       "      <td>atmpro</td>\n",
       "      <td>atmpro</td>\n",
       "    </tr>\n",
       "    <tr>\n",
       "      <th>co2</th>\n",
       "      <td>0</td>\n",
       "      <td>0</td>\n",
       "      <td>0.0004</td>\n",
       "      <td>0.0004</td>\n",
       "      <td>0.0004</td>\n",
       "      <td>0.0004</td>\n",
       "      <td>0.0004</td>\n",
       "      <td>0</td>\n",
       "      <td>0</td>\n",
       "      <td>0</td>\n",
       "      <td>0.0004</td>\n",
       "    </tr>\n",
       "    <tr>\n",
       "      <th>n2o</th>\n",
       "      <td>0</td>\n",
       "      <td>0</td>\n",
       "      <td>3.2e-07</td>\n",
       "      <td>0</td>\n",
       "      <td>0</td>\n",
       "      <td>0</td>\n",
       "      <td>0</td>\n",
       "      <td>0</td>\n",
       "      <td>3.2e-07</td>\n",
       "      <td>0</td>\n",
       "      <td>0</td>\n",
       "    </tr>\n",
       "    <tr>\n",
       "      <th>o3</th>\n",
       "      <td>0</td>\n",
       "      <td>0</td>\n",
       "      <td>0</td>\n",
       "      <td>0</td>\n",
       "      <td>0</td>\n",
       "      <td>0</td>\n",
       "      <td>atmpro</td>\n",
       "      <td>0</td>\n",
       "      <td>0</td>\n",
       "      <td>0</td>\n",
       "      <td>0</td>\n",
       "    </tr>\n",
       "    <tr>\n",
       "      <th>ch4</th>\n",
       "      <td>0</td>\n",
       "      <td>0</td>\n",
       "      <td>0</td>\n",
       "      <td>0</td>\n",
       "      <td>0</td>\n",
       "      <td>0</td>\n",
       "      <td>0</td>\n",
       "      <td>0</td>\n",
       "      <td>1.8e-06</td>\n",
       "      <td>0</td>\n",
       "      <td>0</td>\n",
       "    </tr>\n",
       "  </tbody>\n",
       "</table>\n",
       "</div>"
      ],
      "text/plain": [
       "clirad band      1       2        3       4       5       6       7       8   \\\n",
       "molecule                                                                       \n",
       "h2o          atmpro  atmpro   atmpro  atmpro  atmpro  atmpro  atmpro  atmpro   \n",
       "co2               0       0   0.0004  0.0004  0.0004  0.0004  0.0004       0   \n",
       "n2o               0       0  3.2e-07       0       0       0       0       0   \n",
       "o3                0       0        0       0       0       0  atmpro       0   \n",
       "ch4               0       0        0       0       0       0       0       0   \n",
       "\n",
       "clirad band       9       10      11  \n",
       "molecule                              \n",
       "h2o           atmpro  atmpro  atmpro  \n",
       "co2                0       0  0.0004  \n",
       "n2o          3.2e-07       0       0  \n",
       "o3                 0       0       0  \n",
       "ch4          1.8e-06       0       0  "
      ]
     },
     "metadata": {},
     "output_type": "display_data"
    },
    {
     "data": {
      "text/markdown": [
       "*TABLE.* Non-grey absorbers in the atmosphere."
      ],
      "text/plain": [
       "<IPython.core.display.Markdown object>"
      ]
     },
     "metadata": {},
     "output_type": "display_data"
    },
    {
     "data": {
      "text/html": [
       "<a id=\"Cooling_rates._mls.\"></a>"
      ],
      "text/plain": [
       "<IPython.core.display.HTML object>"
      ]
     },
     "metadata": {},
     "output_type": "display_data"
    },
    {
     "data": {
      "text/markdown": [
       "# Cooling rates. mls."
      ],
      "text/plain": [
       "<IPython.core.display.Markdown object>"
      ]
     },
     "metadata": {},
     "output_type": "display_data"
    },
    {
     "data": {
      "text/html": [
       "\n",
       "<div class=\"bk-root\">\n",
       "    <div class=\"bk-plotdiv\" id=\"bd41b514-809e-45bf-b2d5-82a4c5a219b9\"></div>\n",
       "</div>"
      ]
     },
     "metadata": {},
     "output_type": "display_data"
    },
    {
     "data": {
      "application/javascript": [
       "(function(root) {\n",
       "  function embed_document(root) {\n",
       "    \n",
       "  var docs_json = {\"c6c107c0-059c-4407-b41f-d61739c47981\":{\"roots\":{\"references\":[{\"attributes\":{\"overlay\":{\"id\":\"c345da17-f841-4087-8317-734542b11a64\",\"type\":\"BoxAnnotation\"}},\"id\":\"dffaa800-1ac6-4adf-a4e5-070d0620bad7\",\"type\":\"BoxZoomTool\"},{\"attributes\":{\"line_alpha\":0.1,\"line_color\":\"#1f77b4\",\"line_width\":1.5,\"x\":{\"field\":\"x\"},\"y\":{\"field\":\"y\"}},\"id\":\"7787a945-faaa-486c-87ff-4318152cbb19\",\"type\":\"Line\"},{\"attributes\":{},\"id\":\"01345819-484c-448d-918d-780b17cef186\",\"type\":\"UnionRenderers\"},{\"attributes\":{},\"id\":\"58f6cb40-c2ee-42b6-8caa-b3b2a18935f0\",\"type\":\"BasicTicker\"},{\"attributes\":{\"label\":{\"value\":\"old CLIRAD (H2012)\"},\"renderers\":[{\"id\":\"0f3c2503-1160-4d31-8c3a-c08c23ff031a\",\"type\":\"GlyphRenderer\"},{\"id\":\"97460ea4-6fe2-4002-89cc-42d33241b1c9\",\"type\":\"GlyphRenderer\"}]},\"id\":\"c102c16e-7601-4131-b639-0fdd42b52de8\",\"type\":\"LegendItem\"},{\"attributes\":{\"data_source\":{\"id\":\"b26deb7d-ef4f-46b3-9c57-af94dc3cdafc\",\"type\":\"ColumnDataSource\"},\"glyph\":{\"id\":\"68b3e7d2-1cc7-4e9c-b642-91f0fec073e3\",\"type\":\"Line\"},\"hover_glyph\":null,\"muted_glyph\":null,\"nonselection_glyph\":{\"id\":\"46012573-d512-46ce-b174-195cef168fa3\",\"type\":\"Line\"},\"selection_glyph\":null,\"view\":{\"id\":\"6af52c52-8c0f-4b4d-8e1d-42ec553bd80e\",\"type\":\"CDSView\"}},\"id\":\"61d9938b-bf37-4539-af78-25431dee09ee\",\"type\":\"GlyphRenderer\"},{\"attributes\":{\"plot\":null,\"text\":\"\"},\"id\":\"bba4fc9c-2445-48cd-a844-d21954847a80\",\"type\":\"Title\"},{\"attributes\":{\"axis_label\":\"cooling rate [K/day]\",\"formatter\":{\"id\":\"6d06def9-db75-4caa-a21c-d25948b00f3b\",\"type\":\"BasicTickFormatter\"},\"plot\":{\"id\":\"c2c9e210-0beb-4aef-a740-147dd5312a71\",\"subtype\":\"Figure\",\"type\":\"Plot\"},\"ticker\":{\"id\":\"eac8b6c3-4bb4-4ccb-9737-7e85fc77167d\",\"type\":\"BasicTicker\"}},\"id\":\"505f8e01-f926-41ed-ad85-c6dba99c186e\",\"type\":\"LinearAxis\"},{\"attributes\":{},\"id\":\"808e508c-5ff6-4454-a9b0-9007415d29b3\",\"type\":\"Selection\"},{\"attributes\":{\"callback\":null,\"end\":0.01,\"start\":1020},\"id\":\"b6122c8b-07b6-4c04-a1a6-02fbf8b51385\",\"type\":\"Range1d\"},{\"attributes\":{\"callback\":null,\"data\":{\"x\":{\"__ndarray__\":\"cm1sTMT3VEDEyvjosEJHQOKI6DjzCUNArgQWV9awPkB9Lm8XG3M4QEz+Qv6iYzNA7eV8HaPLLkCX1QHyTpMoQFBmYSYetiNAUB04GtGpH0AmFyVE5j8ZQJca9QPGqBNALJP+OOHHDEBNxaf7QF8AQKtislomWuw/cW2dcO6A9T/uJJvfPu0EQIaQLTI/JQ1AxGiII+PmEkCJvfVeuCsYQD6ZBhGbHB9AXQw69DTYJEAsubcwKucqQNuT9D5OmipAJyi3szEJJUBlNebh5WkgQDDcPHBr2xlArtlANXuQFEBdJadFHckQQI2Avh0ZsQtAjYiwt1rsBUCL0SDoVBgAQK6C0nEEjvc/CggLSme58T9sXU2orFPnP0v0JYz9Gdg/vT38vxYczD9nBQTe6kHHP1IhkEXJwKo/8OZnhCVAub+xtVgCpmqzP6DUpY6g0+k/PKK3T1h4+D8RTDjQc1EAQG/dAQs7TwJAQt2eHpPLAEBWEh074x//PyCap9ZSGf4/rEzaTySm/T+7aXhHRmr9P688KeqeNP0/ruZ4EemD/D8olrZcn9T7P0+vNc9hW/s/i9VVL+4P+z+0NzC24uz6P8731Kza8vo/xFf4SHzq+z+gYyHpvHb8P68ROkiFevw/BAjYdCga/D8AUp8VbW77P3JrF/nKmvo/qCQeGfq++T/dplwHJfn4P2G4p+Uva/g/OzZ0RqMZ+D8dmn/iar73P/OuA7Ka8PY/gaaeQHGn9T9hkyjAH1L0P3aZGhdAU/M/n8VP/g7P8j+90HxHNvfyPwhNBtgrqvk/\",\"dtype\":\"float64\",\"shape\":[75]},\"y\":{\"__ndarray__\":\"GhExyth1ND/Sv8nbtpRIP2vylNV0PVE/aTum7souWD/At0SJ8fVgPw3Iuahxymc/MSNhhJWvcD/bTfBN02d3P2zb5nxnaoA/CD5h5MAGhz8NmeH1TyaQP+zrCsc9p5Y/LbKd76fGnz/bLW5ISEmmPww9YvTcQq8/JV2OstnstT8Er5Y7M8G+P0c+r3jqkcU/5h99k6ZBzj88bCIzFzjVP4enV8oyxN0//yH99nXg5D8qOpLLf0jtP5kqGJXUifQ/c9cS8kHP/D+/DpwzojQEQIEmwoanVwxA4lgXt9HgE0BSSZ2AJuIbQAMJih9jjiNA5q4l5INuK0AwTKYKRj0zQNv5fmq8/DpAaCJseHrtQkB/+zpwzoxKQM3MzMzMeFJAZmZmZmZqWEAAAAAAAFxeQM3MzMzMJmJAmpmZmZkfZUBmZmZmZhhoQDMzMzMzEWtAAAAAAAAKbkBmZmZmZoFwQM3MzMzM/XFAMzMzMzN6c0CamZmZmfZ0QAAAAAAAc3ZAZmZmZmbvd0DNzMzMzGt5QDMzMzMz6HpAmpmZmZlkfEAAAAAAAOF9QGZmZmZmXX9AZmZmZuZsgECamZmZGSuBQM3MzMxM6YFAAAAAAICngkAzMzMzs2WDQGZmZmbmI4RAmpmZmRnihEDNzMzMTKCFQAAAAACAXoZAMzMzM7Mch0BmZmZm5tqHQJqZmZkZmYhAzczMzExXiUAAAAAAgBWKQDMzMzOz04pAZmZmZuaRi0CamZmZGVCMQM3MzMxMDo1AAAAAAIDMjUAzMzMzs4qOQGZmZmbmSI9A\",\"dtype\":\"float64\",\"shape\":[75]}},\"selected\":{\"id\":\"808e508c-5ff6-4454-a9b0-9007415d29b3\",\"type\":\"Selection\"},\"selection_policy\":{\"id\":\"01345819-484c-448d-918d-780b17cef186\",\"type\":\"UnionRenderers\"}},\"id\":\"d1052156-b860-4fe3-a916-c53c30d4d74f\",\"type\":\"ColumnDataSource\"},{\"attributes\":{\"label\":{\"value\":\"CLIRAD (single-run)\"},\"renderers\":[{\"id\":\"0a93c03d-2e42-489b-93f0-e4191887cb8d\",\"type\":\"GlyphRenderer\"}]},\"id\":\"9838daa9-5918-40e0-801b-1dfeb4df8c19\",\"type\":\"LegendItem\"},{\"attributes\":{\"line_alpha\":0.5,\"line_color\":\"#377eb8\",\"line_dash\":[6],\"line_width\":4,\"x\":{\"field\":\"x\"},\"y\":{\"field\":\"y\"}},\"id\":\"68b3e7d2-1cc7-4e9c-b642-91f0fec073e3\",\"type\":\"Line\"},{\"attributes\":{\"dimension\":1,\"plot\":{\"id\":\"c2c9e210-0beb-4aef-a740-147dd5312a71\",\"subtype\":\"Figure\",\"type\":\"Plot\"},\"ticker\":{\"id\":\"58f6cb40-c2ee-42b6-8caa-b3b2a18935f0\",\"type\":\"BasicTicker\"}},\"id\":\"ae5983da-f3cc-47cb-8e97-0486e38d68a5\",\"type\":\"Grid\"},{\"attributes\":{\"fill_alpha\":{\"value\":0.1},\"fill_color\":{\"value\":\"#1f77b4\"},\"line_alpha\":{\"value\":0.1},\"line_color\":{\"value\":\"#1f77b4\"},\"x\":{\"field\":\"x\"},\"y\":{\"field\":\"y\"}},\"id\":\"e0c2a2aa-6fea-40ea-be4c-64abab014576\",\"type\":\"Circle\"},{\"attributes\":{},\"id\":\"83df7dc9-07d8-4f44-b537-a3bb1f17766b\",\"type\":\"HelpTool\"},{\"attributes\":{},\"id\":\"4f65ccd8-ffec-42ee-8b06-35e428d09be9\",\"type\":\"BasicTickFormatter\"},{\"attributes\":{},\"id\":\"cfc71160-211d-4fbf-aaaa-114db9f4f8fe\",\"type\":\"UnionRenderers\"},{\"attributes\":{\"source\":{\"id\":\"145b1766-552d-4956-8bc3-985bf122c87a\",\"type\":\"ColumnDataSource\"}},\"id\":\"7b7cc3c2-e0cc-44ce-a8e3-07789d1b0f9e\",\"type\":\"CDSView\"},{\"attributes\":{},\"id\":\"5c7fcb8c-fcc9-4bd6-a84d-364d7a571a44\",\"type\":\"PanTool\"},{\"attributes\":{\"callback\":null,\"data\":{\"x\":{\"__ndarray__\":\"lDpM1XQXRMAFF6ZxNa0gwHCnHAXUbgLAKtQ1wYrC/D9FxtulFmEOQP5YslfSxA5AOKODYVMWBEBdIJ52wwXlPzFnm7hs1em/XLMviZjm9b9CnYpB15jxv0RIuQD5Y9+/RovD2MA/rz8D29G5z3TZP/bN869g5N4/UIntTu370z90ZO9+bnufP8RcFGbU3dC/p2A/DuxB4L8AhfElsKrgv1qifCEi7dG/yF1QcoDrc79nWaOxprapvwAe3KirqNO/TSo9cdE017+0H9YJvPmwv3m3mG05hdg/uF6cSI1B1z86OJjzYG23P8mWdwcliZU/edt6OD+20D883fr0jWjVP/dRHDnkS8M/ZCxaOrtXoL8RhiuHFydNPyQDWws3aqw/cD606fgKbD9wP8a8agOuvxMVoMpr6re/uoDE49yOur+4l7ODLuO2v3DupXnxc7G/scCujP5wsL8LZ7lngiCgv8/ThvJxmLe/Zl6ZTacuub8zRPpn3ousv3TXeXViva+/yps8kfALtL9cbNQ5eSezv4QRSAhS/6u/ojl1gJ7jor9bqkPH8nKYv4bBtdG/r5S/z6BuIBwslL90FF8iG56Yv4oVwYqSWpq/C4TZMyyHkr+86Lga2ZVmP1dz/igVTaE/R4eQWU9LrT9n+cgSB9yuP1KuINXJfKY/w3Dyf6jrlz9YbuOyNdJuP3g9cQdJ4mY/7I7HpHBRhj+TQwjrpmSgPxMl+cjoq6k/NFQbVbNysD/on6H+AbayPwVnbS0s7LM/pHSa0J6utD9pY2MleFi1P3cTYzZUzrQ/\",\"dtype\":\"float64\",\"shape\":[75]},\"y\":{\"__ndarray__\":\"GhExyth1ND/Sv8nbtpRIP2vylNV0PVE/aTum7souWD/At0SJ8fVgPw3Iuahxymc/MSNhhJWvcD/bTfBN02d3P2zb5nxnaoA/CD5h5MAGhz8NmeH1TyaQP+zrCsc9p5Y/LbKd76fGnz/bLW5ISEmmPww9YvTcQq8/JV2OstnstT8Er5Y7M8G+P0c+r3jqkcU/5h99k6ZBzj88bCIzFzjVP4enV8oyxN0//yH99nXg5D8qOpLLf0jtP5kqGJXUifQ/c9cS8kHP/D+/DpwzojQEQIEmwoanVwxA4lgXt9HgE0BSSZ2AJuIbQAMJih9jjiNA5q4l5INuK0AwTKYKRj0zQNv5fmq8/DpAaCJseHrtQkB/+zpwzoxKQM3MzMzMeFJAZmZmZmZqWEAAAAAAAFxeQM3MzMzMJmJAmpmZmZkfZUBmZmZmZhhoQDMzMzMzEWtAAAAAAAAKbkBmZmZmZoFwQM3MzMzM/XFAMzMzMzN6c0CamZmZmfZ0QAAAAAAAc3ZAZmZmZmbvd0DNzMzMzGt5QDMzMzMz6HpAmpmZmZlkfEAAAAAAAOF9QGZmZmZmXX9AZmZmZuZsgECamZmZGSuBQM3MzMxM6YFAAAAAAICngkAzMzMzs2WDQGZmZmbmI4RAmpmZmRnihEDNzMzMTKCFQAAAAACAXoZAMzMzM7Mch0BmZmZm5tqHQJqZmZkZmYhAzczMzExXiUAAAAAAgBWKQDMzMzOz04pAZmZmZuaRi0CamZmZGVCMQM3MzMxMDo1AAAAAAIDMjUAzMzMzs4qOQGZmZmbmSI9A\",\"dtype\":\"float64\",\"shape\":[75]}},\"selected\":{\"id\":\"45bfa9e6-b0cf-4705-ba3a-993d93b92d8e\",\"type\":\"Selection\"},\"selection_policy\":{\"id\":\"21e6f561-feea-44da-9710-cdd99c4524ad\",\"type\":\"UnionRenderers\"}},\"id\":\"5493cec7-7576-4a2b-b61b-9c3cc73197d3\",\"type\":\"ColumnDataSource\"},{\"attributes\":{\"fill_alpha\":{\"value\":0.7},\"fill_color\":{\"value\":\"#4daf4a\"},\"line_alpha\":{\"value\":0.7},\"line_color\":{\"value\":\"#4daf4a\"},\"x\":{\"field\":\"x\"},\"y\":{\"field\":\"y\"}},\"id\":\"2434da25-4e40-48f5-993a-c8dd9122702d\",\"type\":\"Circle\"},{\"attributes\":{\"data_source\":{\"id\":\"cb8018d5-b7de-46eb-a6fb-26082d8458e8\",\"type\":\"ColumnDataSource\"},\"glyph\":{\"id\":\"a2e89891-63a3-41a3-9d91-853d492af696\",\"type\":\"Line\"},\"hover_glyph\":null,\"muted_glyph\":null,\"nonselection_glyph\":{\"id\":\"6910be7a-82e7-4b8f-b00e-4191a853e39e\",\"type\":\"Line\"},\"selection_glyph\":null,\"view\":{\"id\":\"7ab186e9-5edf-4364-9dc0-73333cc8308e\",\"type\":\"CDSView\"}},\"id\":\"97460ea4-6fe2-4002-89cc-42d33241b1c9\",\"type\":\"GlyphRenderer\"},{\"attributes\":{\"source\":{\"id\":\"10b8d02e-17a9-45b5-9524-aa3a1b581d21\",\"type\":\"ColumnDataSource\"}},\"id\":\"555651fe-f079-4cce-a7d2-b3382482a761\",\"type\":\"CDSView\"},{\"attributes\":{},\"id\":\"57ec8c89-36e8-40db-9d1d-af9e61673cf2\",\"type\":\"SaveTool\"},{\"attributes\":{\"data_source\":{\"id\":\"145b1766-552d-4956-8bc3-985bf122c87a\",\"type\":\"ColumnDataSource\"},\"glyph\":{\"id\":\"9b33ddd2-163b-499c-b19c-d8e8deacfce3\",\"type\":\"Circle\"},\"hover_glyph\":null,\"muted_glyph\":null,\"nonselection_glyph\":{\"id\":\"7361355a-d56c-4822-935e-e35d33b2a88d\",\"type\":\"Circle\"},\"selection_glyph\":null,\"view\":{\"id\":\"7b7cc3c2-e0cc-44ce-a8e3-07789d1b0f9e\",\"type\":\"CDSView\"}},\"id\":\"8f74d8e5-32d8-4df0-bec2-e9192d1b808b\",\"type\":\"GlyphRenderer\"},{\"attributes\":{\"data_source\":{\"id\":\"0dad7421-bf5c-43e3-a3c2-125c4500cada\",\"type\":\"ColumnDataSource\"},\"glyph\":{\"id\":\"deb05a92-b335-450c-9308-edcff8fcf666\",\"type\":\"Square\"},\"hover_glyph\":null,\"muted_glyph\":null,\"nonselection_glyph\":{\"id\":\"598e13d9-3143-4fb0-9a97-830c46e470d3\",\"type\":\"Square\"},\"selection_glyph\":null,\"view\":{\"id\":\"fd12265c-36f5-485d-a126-984f3acf62fb\",\"type\":\"CDSView\"}},\"id\":\"0f3c2503-1160-4d31-8c3a-c08c23ff031a\",\"type\":\"GlyphRenderer\"},{\"attributes\":{},\"id\":\"9a1362aa-da01-4188-b124-4f30b71d83d1\",\"type\":\"PanTool\"},{\"attributes\":{\"line_alpha\":0.5,\"line_color\":\"#984ea3\",\"line_width\":1.5,\"x\":{\"field\":\"x\"},\"y\":{\"field\":\"y\"}},\"id\":\"a2e89891-63a3-41a3-9d91-853d492af696\",\"type\":\"Line\"},{\"attributes\":{\"label\":{\"value\":\"old CLIRAD (H2012) - CRD\"},\"renderers\":[{\"id\":\"61d9938b-bf37-4539-af78-25431dee09ee\",\"type\":\"GlyphRenderer\"}]},\"id\":\"54c642c7-fd2a-437d-8c0f-311cdb7b67a9\",\"type\":\"LegendItem\"},{\"attributes\":{\"dimension\":1,\"plot\":{\"id\":\"ef0e978d-c9ce-4984-8fbf-ad6c0b6eb8d3\",\"subtype\":\"Figure\",\"type\":\"Plot\"},\"ticker\":{\"id\":\"42902dff-e4a2-486c-a3f7-ba8fc7120931\",\"type\":\"LogTicker\"}},\"id\":\"1c9545ed-fe52-40d0-8a81-cde141643d3d\",\"type\":\"Grid\"},{\"attributes\":{\"source\":{\"id\":\"b26deb7d-ef4f-46b3-9c57-af94dc3cdafc\",\"type\":\"ColumnDataSource\"}},\"id\":\"6af52c52-8c0f-4b4d-8e1d-42ec553bd80e\",\"type\":\"CDSView\"},{\"attributes\":{\"callback\":null,\"data\":{\"x\":{\"__ndarray__\":\"MXhf+wfXU0AZbvNjswdFQLQWsEQVdUFA5TlpnhT9QUB/x1dOYK05QImjxHmcEjZA9jYDSBB3L0AISPl4H6wqQBPuuwfAzyJAOcHprUZAIUB7WWpkesAXQJoT1Uq+ChVArO/8u0EXCkBgVNlshzgCQMeNQ+Nzu/I/POwv1Qzh+D9QxMRmcj8DQOrE7tC4mAxAQsLBRIlHEkAi4cPYoDEXQEeDpjRjzB1ASZ0GEfCuI0DVFj11sssnQOMiVKSMHyhAWRHvUxNoJEDo8cjD4g8gQLGGvR2NDRpAdpI3nV5oFECtyWH9Lp4QQIZQd9bvmwtAkshlnu1BBkBMysnQf1UAQHZJU/DYZ/c/HoEhV+G48T/rSm4vc/TmP3EgV4cD49g/xmy6+4w7zz+bEsjh3uDDPw5SRMRogKs/4GPKdPc1a78lazVXN1vCP/B84ODeUug/LOyxgXDV9z+/DBHyZAwAQAOIY+fy/QFAahF3XKCUAECV0GHvGsz+P+X4k4Nhvf0/RO/IqI98/T8rkW+v/zT9P59vGMDsAv0/zEX7plCY/D/E3siS8kj7P2yUMv+hDvs/RmrXDaYs+z+c9f5GCO36P58nVCbr7vo/Qus8hbcy/D+rD5hFMCf9P4t6dxofnPw/bRp4QYZ2/D/q8NNiN2b8P5YTVw9ESPw/l1Dy0X/K+j+WKih3ZdD5P2k8OYxHjvk/hceGh5N4+T8lpPahWSn5P6vJnePt4vY/UuhmxnXI9T8miFqdE+D0Pz7qfx5CR/Q/0khvq2US9D9LfVdHQGv0P9syeEmwYfg/\",\"dtype\":\"float64\",\"shape\":[75]},\"y\":{\"__ndarray__\":\"hLndy31yND/6fmq8dJNIP8n9DkWBPlE/aDum7souWD/b4a/JGvVgP9f34SAhymc/ZvM4DOavcD+z0M5pFmh3PxuC4zJuaoA/xjcUPlsHhz8uHAjJAiaQP9ieWRKgppY/oI7HDFTGnz+a5h2n6EimPzS6g9iZQq8/IuAQqtTstT9SSZ2AJsK+P4nS3uALk8U/ih9j7lpCzj+ASL99HTjVP4enV8oyxN0/ACL99nXg5D9fmEwVjErtPyUGgZVDi/Q/AiuHFtnO/D9OYhBYOTQEQPHSTWIQWAxA4XoUrkfhE0D8qfHSTeIbQMh2vp8ajyNArkfhehRuK0Bcj8L1KDwzQFyPwvUo/DpAPgrXo3DtQkDNzMzMzIxKQClcj8L1eFJAKVyPwvVoWECamZmZmVleQGZmZmZmJmJAAAAAAAAgZUCamZmZmRloQJqZmZmZEWtAmpmZmZkJbkCamZmZmYFwQGZmZmZm/nFAZmZmZmZ6c0BmZmZmZvZ0QDQzMzMzc3ZAAAAAAADwd0AAAAAAAGx5QAAAAAAA6HpAzMzMzMxkfEDMzMzMzOB9QM3MzMzMXH9AzczMzMxsgEAzMzMzMyuBQDMzMzMz6YFAMzMzMzOngkCamZmZmWWDQAAAAAAAJIRAAAAAAADihEAAAAAAAKCFQGZmZmZmXoZAzczMzMwch0DNzMzMzNqHQM3MzMzMmIhAMzMzMzNXiUCamZmZmRWKQAAAAAAA1IpAAAAAAACSi0AAAAAAAFCMQGZmZmZmDo1AzczMzMzMjUDNzMzMzIqOQM3MzMzMSI9A\",\"dtype\":\"float64\",\"shape\":[75]}},\"selected\":{\"id\":\"8b2466c1-eacb-4c44-96da-2f9362360955\",\"type\":\"Selection\"},\"selection_policy\":{\"id\":\"cfc71160-211d-4fbf-aaaa-114db9f4f8fe\",\"type\":\"UnionRenderers\"}},\"id\":\"0dad7421-bf5c-43e3-a3c2-125c4500cada\",\"type\":\"ColumnDataSource\"},{\"attributes\":{\"callback\":null,\"data\":{\"x\":{\"__ndarray__\":\"cm1sTMT3VEDEyvjosEJHQOKI6DjzCUNArgQWV9awPkB9Lm8XG3M4QEz+Qv6iYzNA7eV8HaPLLkCX1QHyTpMoQFBmYSYetiNAUB04GtGpH0AmFyVE5j8ZQJca9QPGqBNALJP+OOHHDEBNxaf7QF8AQKtislomWuw/cW2dcO6A9T/uJJvfPu0EQIaQLTI/JQ1AxGiII+PmEkCJvfVeuCsYQD6ZBhGbHB9AXQw69DTYJEAsubcwKucqQNuT9D5OmipAJyi3szEJJUBlNebh5WkgQDDcPHBr2xlArtlANXuQFEBdJadFHckQQI2Avh0ZsQtAjYiwt1rsBUCL0SDoVBgAQK6C0nEEjvc/CggLSme58T9sXU2orFPnP0v0JYz9Gdg/vT38vxYczD9nBQTe6kHHP1IhkEXJwKo/8OZnhCVAub+xtVgCpmqzP6DUpY6g0+k/PKK3T1h4+D8RTDjQc1EAQG/dAQs7TwJAQt2eHpPLAEBWEh074x//PyCap9ZSGf4/rEzaTySm/T+7aXhHRmr9P688KeqeNP0/ruZ4EemD/D8olrZcn9T7P0+vNc9hW/s/i9VVL+4P+z+0NzC24uz6P8731Kza8vo/xFf4SHzq+z+gYyHpvHb8P68ROkiFevw/BAjYdCga/D8AUp8VbW77P3JrF/nKmvo/qCQeGfq++T/dplwHJfn4P2G4p+Uva/g/OzZ0RqMZ+D8dmn/iar73P/OuA7Ka8PY/gaaeQHGn9T9hkyjAH1L0P3aZGhdAU/M/n8VP/g7P8j+90HxHNvfyPwhNBtgrqvk/\",\"dtype\":\"float64\",\"shape\":[75]},\"y\":{\"__ndarray__\":\"GhExyth1ND/Sv8nbtpRIP2vylNV0PVE/aTum7souWD/At0SJ8fVgPw3Iuahxymc/MSNhhJWvcD/bTfBN02d3P2zb5nxnaoA/CD5h5MAGhz8NmeH1TyaQP+zrCsc9p5Y/LbKd76fGnz/bLW5ISEmmPww9YvTcQq8/JV2OstnstT8Er5Y7M8G+P0c+r3jqkcU/5h99k6ZBzj88bCIzFzjVP4enV8oyxN0//yH99nXg5D8qOpLLf0jtP5kqGJXUifQ/c9cS8kHP/D+/DpwzojQEQIEmwoanVwxA4lgXt9HgE0BSSZ2AJuIbQAMJih9jjiNA5q4l5INuK0AwTKYKRj0zQNv5fmq8/DpAaCJseHrtQkB/+zpwzoxKQM3MzMzMeFJAZmZmZmZqWEAAAAAAAFxeQM3MzMzMJmJAmpmZmZkfZUBmZmZmZhhoQDMzMzMzEWtAAAAAAAAKbkBmZmZmZoFwQM3MzMzM/XFAMzMzMzN6c0CamZmZmfZ0QAAAAAAAc3ZAZmZmZmbvd0DNzMzMzGt5QDMzMzMz6HpAmpmZmZlkfEAAAAAAAOF9QGZmZmZmXX9AZmZmZuZsgECamZmZGSuBQM3MzMxM6YFAAAAAAICngkAzMzMzs2WDQGZmZmbmI4RAmpmZmRnihEDNzMzMTKCFQAAAAACAXoZAMzMzM7Mch0BmZmZm5tqHQJqZmZkZmYhAzczMzExXiUAAAAAAgBWKQDMzMzOz04pAZmZmZuaRi0CamZmZGVCMQM3MzMxMDo1AAAAAAIDMjUAzMzMzs4qOQGZmZmbmSI9A\",\"dtype\":\"float64\",\"shape\":[75]}},\"selected\":{\"id\":\"42b33085-fa64-43b8-9ded-663285ef843d\",\"type\":\"Selection\"},\"selection_policy\":{\"id\":\"1b03d978-4d67-4afa-b967-c718f4a33c9d\",\"type\":\"UnionRenderers\"}},\"id\":\"10b8d02e-17a9-45b5-9524-aa3a1b581d21\",\"type\":\"ColumnDataSource\"},{\"attributes\":{\"line_alpha\":0.1,\"line_color\":\"#1f77b4\",\"line_width\":1.5,\"x\":{\"field\":\"x\"},\"y\":{\"field\":\"y\"}},\"id\":\"6910be7a-82e7-4b8f-b00e-4191a853e39e\",\"type\":\"Line\"},{\"attributes\":{},\"id\":\"a59f41c5-f565-4f2a-b740-dea8f633c58d\",\"type\":\"UnionRenderers\"},{\"attributes\":{\"source\":{\"id\":\"0dad7421-bf5c-43e3-a3c2-125c4500cada\",\"type\":\"ColumnDataSource\"}},\"id\":\"fd12265c-36f5-485d-a126-984f3acf62fb\",\"type\":\"CDSView\"},{\"attributes\":{},\"id\":\"4d0ff1cf-731a-4d6a-8e20-ed7d26adc46a\",\"type\":\"Selection\"},{\"attributes\":{\"bottom_units\":\"screen\",\"fill_alpha\":{\"value\":0.5},\"fill_color\":{\"value\":\"lightgrey\"},\"left_units\":\"screen\",\"level\":\"overlay\",\"line_alpha\":{\"value\":1.0},\"line_color\":{\"value\":\"black\"},\"line_dash\":[4,4],\"line_width\":{\"value\":2},\"plot\":null,\"render_mode\":\"css\",\"right_units\":\"screen\",\"top_units\":\"screen\"},\"id\":\"23f49c51-14fc-492b-88ff-bad49a3001a6\",\"type\":\"BoxAnnotation\"},{\"attributes\":{},\"id\":\"6d06def9-db75-4caa-a21c-d25948b00f3b\",\"type\":\"BasicTickFormatter\"},{\"attributes\":{},\"id\":\"eac8b6c3-4bb4-4ccb-9737-7e85fc77167d\",\"type\":\"BasicTicker\"},{\"attributes\":{\"line_alpha\":0.1,\"line_color\":\"#1f77b4\",\"line_width\":1.5,\"x\":{\"field\":\"x\"},\"y\":{\"field\":\"y\"}},\"id\":\"dc46f0fe-366f-43bf-8c32-09a2316d4fcd\",\"type\":\"Line\"},{\"attributes\":{\"num_minor_ticks\":10},\"id\":\"bbccdb43-e186-43cd-9b0d-1b2d6c44d27b\",\"type\":\"LogTicker\"},{\"attributes\":{\"label\":{\"value\":\"CLIRAD (single-run) - CRD\"},\"renderers\":[{\"id\":\"8f74d8e5-32d8-4df0-bec2-e9192d1b808b\",\"type\":\"GlyphRenderer\"},{\"id\":\"8c0e32b5-770d-46ff-906a-8955f4e8c64b\",\"type\":\"GlyphRenderer\"}]},\"id\":\"65382a4e-6211-47f8-99b3-3def9798c6db\",\"type\":\"LegendItem\"},{\"attributes\":{\"line_alpha\":0.1,\"line_color\":\"#1f77b4\",\"line_dash\":[6],\"line_width\":5,\"x\":{\"field\":\"x\"},\"y\":{\"field\":\"y\"}},\"id\":\"57633809-7747-4fcf-9998-0e6db8228a75\",\"type\":\"Line\"},{\"attributes\":{\"source\":{\"id\":\"5493cec7-7576-4a2b-b61b-9c3cc73197d3\",\"type\":\"ColumnDataSource\"}},\"id\":\"e5bc6c4d-b923-4910-ae00-17ad4eb376aa\",\"type\":\"CDSView\"},{\"attributes\":{},\"id\":\"79a7bcb7-c5d9-4e0c-ad73-3b00c99b0250\",\"type\":\"SaveTool\"},{\"attributes\":{\"plot\":{\"id\":\"c2c9e210-0beb-4aef-a740-147dd5312a71\",\"subtype\":\"Figure\",\"type\":\"Plot\"},\"ticker\":{\"id\":\"eac8b6c3-4bb4-4ccb-9737-7e85fc77167d\",\"type\":\"BasicTicker\"}},\"id\":\"fa284df2-c85f-4aff-887c-63a985b91401\",\"type\":\"Grid\"},{\"attributes\":{\"plot\":null,\"text\":\"\"},\"id\":\"680371c0-31e5-4e71-8977-72ca13d9288e\",\"type\":\"Title\"},{\"attributes\":{\"fill_alpha\":{\"value\":0.1},\"fill_color\":{\"value\":\"#1f77b4\"},\"line_alpha\":{\"value\":0.1},\"line_color\":{\"value\":\"#1f77b4\"},\"x\":{\"field\":\"x\"},\"y\":{\"field\":\"y\"}},\"id\":\"7361355a-d56c-4822-935e-e35d33b2a88d\",\"type\":\"Circle\"},{\"attributes\":{\"axis_label\":\"pressure [mb]\",\"formatter\":{\"id\":\"8f9ccb21-0e9b-44e6-99eb-8309e5e6afd7\",\"type\":\"LogTickFormatter\"},\"plot\":{\"id\":\"b7cc4534-be38-4101-bbaa-9a52a5e9e1fc\",\"subtype\":\"Figure\",\"type\":\"Plot\"},\"ticker\":{\"id\":\"bbccdb43-e186-43cd-9b0d-1b2d6c44d27b\",\"type\":\"LogTicker\"}},\"id\":\"e734a153-7abe-4f0a-97a2-f565f3733838\",\"type\":\"LogAxis\"},{\"attributes\":{\"data_source\":{\"id\":\"5493cec7-7576-4a2b-b61b-9c3cc73197d3\",\"type\":\"ColumnDataSource\"},\"glyph\":{\"id\":\"f0571944-4555-41d3-a11f-73ee1f904b12\",\"type\":\"Line\"},\"hover_glyph\":null,\"muted_glyph\":null,\"nonselection_glyph\":{\"id\":\"7787a945-faaa-486c-87ff-4318152cbb19\",\"type\":\"Line\"},\"selection_glyph\":null,\"view\":{\"id\":\"e5bc6c4d-b923-4910-ae00-17ad4eb376aa\",\"type\":\"CDSView\"}},\"id\":\"8c0e32b5-770d-46ff-906a-8955f4e8c64b\",\"type\":\"GlyphRenderer\"},{\"attributes\":{\"label\":{\"value\":\"CRD\"},\"renderers\":[{\"id\":\"58309c8b-258f-4c20-b172-f95166ce4d31\",\"type\":\"GlyphRenderer\"},{\"id\":\"4d7318cd-5565-420d-b592-d7f48c97ee2b\",\"type\":\"GlyphRenderer\"}]},\"id\":\"fbf99fed-593e-49ec-a68d-749ecdd0af28\",\"type\":\"LegendItem\"},{\"attributes\":{},\"id\":\"7682aae6-cf28-4a38-913d-48d6c67c9585\",\"type\":\"HelpTool\"},{\"attributes\":{\"callback\":null,\"data\":{\"x\":{\"__ndarray__\":\"TaCMwxPYRUACRY+MYxdDQGq+lvgF40FA+LCUgX8+QEBGpyrsPT88QGxJOUk9PDdAXufu+pvoMUCdt2spq+MpQNyv11rHGCJAeTDs9yowGkDTb8JzsNkUQBGG6XOGshFAWaFhPOBEDUCvAOLy2o0DQNQkVlkr5vU/xM9YxOl/+j+4A5m8NSwFQO0Ea6WECQtArnzAoaXeEEDqjDdaYhYWQBjP7u7I/R1AUsIrhLfVJEDVFQaKc80qQOuyreEI/SlA0z4tKItPJEAnidJp8kcgQKdnFge/YxtAm5/KCZQEFkA9hnXJ0iYRQLpvzWcr3AtA/OO/niIDCEAzLcCmZsUCQO0M9viA9/k/pzY4cKk28T9PKC9u9lrnP69UkW1Ep9s/tw6jo0KMzD8V66RdIIK/P8kIsE8OFKW/1DMWNIHnyb9GENcKRMSLv9IWcV8ipec/MLbsZkhx9z91ZpnG8RAAQNGmbXt3kgFAThIy5B0CAEA4QN1HhDv+P2XL+8JnG/0/74LGRmVl/D/2Ituzzjf8PyL85lmkVPw/3jx1Hczs+z99h5mR03L7P0rY7s+iCPs/BhvUvj2/+j9gu6ZJaor6P3nzqWJwifo/tPEomF+g+z8TwK7VB4L8P0sFgvHtBP0/Poyk74IE/T/KmTVOTWX8P+VwwEexTvs/bO4du6ge+j+TGDYijgj5P/9wKwqhdvg/WsW9J0ZG+D853NcZkEH4Px14S/j5vfc/xFvwdZyu9j9frRLgf331P+hv8dkCkvQ/6WxZ6/gZ9D/0BtPJvUz0P0B+bBsR9/o/\",\"dtype\":\"float64\",\"shape\":[75]},\"y\":{\"__ndarray__\":\"GhExyth1ND/Sv8nbtpRIP2vylNV0PVE/aTum7souWD/At0SJ8fVgPw3Iuahxymc/MSNhhJWvcD/bTfBN02d3P2zb5nxnaoA/CD5h5MAGhz8NmeH1TyaQP+zrCsc9p5Y/LbKd76fGnz/bLW5ISEmmPww9YvTcQq8/JV2OstnstT8Er5Y7M8G+P0c+r3jqkcU/5h99k6ZBzj88bCIzFzjVP4enV8oyxN0//yH99nXg5D8qOpLLf0jtP5kqGJXUifQ/c9cS8kHP/D+/DpwzojQEQIEmwoanVwxA4lgXt9HgE0BSSZ2AJuIbQAMJih9jjiNA5q4l5INuK0AwTKYKRj0zQNv5fmq8/DpAaCJseHrtQkB/+zpwzoxKQM3MzMzMeFJAZmZmZmZqWEAAAAAAAFxeQM3MzMzMJmJAmpmZmZkfZUBmZmZmZhhoQDMzMzMzEWtAAAAAAAAKbkBmZmZmZoFwQM3MzMzM/XFAMzMzMzN6c0CamZmZmfZ0QAAAAAAAc3ZAZmZmZmbvd0DNzMzMzGt5QDMzMzMz6HpAmpmZmZlkfEAAAAAAAOF9QGZmZmZmXX9AZmZmZuZsgECamZmZGSuBQM3MzMxM6YFAAAAAAICngkAzMzMzs2WDQGZmZmbmI4RAmpmZmRnihEDNzMzMTKCFQAAAAACAXoZAMzMzM7Mch0BmZmZm5tqHQJqZmZkZmYhAzczMzExXiUAAAAAAgBWKQDMzMzOz04pAZmZmZuaRi0CamZmZGVCMQM3MzMxMDo1AAAAAAIDMjUAzMzMzs4qOQGZmZmbmSI9A\",\"dtype\":\"float64\",\"shape\":[75]}},\"selected\":{\"id\":\"4e3b878d-b4fd-40d4-8392-c8886cc5455d\",\"type\":\"Selection\"},\"selection_policy\":{\"id\":\"cee47910-b3a8-4513-a9ef-e766c6b2af79\",\"type\":\"UnionRenderers\"}},\"id\":\"e47cd13f-fac5-4dfe-9765-168c3491b894\",\"type\":\"ColumnDataSource\"},{\"attributes\":{\"overlay\":{\"id\":\"23f49c51-14fc-492b-88ff-bad49a3001a6\",\"type\":\"BoxAnnotation\"}},\"id\":\"bcbe63b4-8f8d-46fc-801d-e80e5f4ac375\",\"type\":\"BoxZoomTool\"},{\"attributes\":{\"line_alpha\":0.1,\"line_color\":\"#1f77b4\",\"line_dash\":[6],\"line_width\":4,\"x\":{\"field\":\"x\"},\"y\":{\"field\":\"y\"}},\"id\":\"46012573-d512-46ce-b174-195cef168fa3\",\"type\":\"Line\"},{\"attributes\":{\"above\":[{\"id\":\"5fc09bc8-9931-4fc4-8053-3979d450a130\",\"type\":\"Legend\"}],\"below\":[{\"id\":\"48e4b18f-7e33-4c40-a80a-e9e609a654a3\",\"type\":\"LinearAxis\"}],\"left\":[{\"id\":\"6048a407-8ced-4b4c-959f-372fde649473\",\"type\":\"LogAxis\"}],\"plot_width\":300,\"renderers\":[{\"id\":\"48e4b18f-7e33-4c40-a80a-e9e609a654a3\",\"type\":\"LinearAxis\"},{\"id\":\"54210b62-ae87-414b-bb86-5f7a74c594dc\",\"type\":\"Grid\"},{\"id\":\"6048a407-8ced-4b4c-959f-372fde649473\",\"type\":\"LogAxis\"},{\"id\":\"1c9545ed-fe52-40d0-8a81-cde141643d3d\",\"type\":\"Grid\"},{\"id\":\"23f49c51-14fc-492b-88ff-bad49a3001a6\",\"type\":\"BoxAnnotation\"},{\"id\":\"0a93c03d-2e42-489b-93f0-e4191887cb8d\",\"type\":\"GlyphRenderer\"},{\"id\":\"58309c8b-258f-4c20-b172-f95166ce4d31\",\"type\":\"GlyphRenderer\"},{\"id\":\"4d7318cd-5565-420d-b592-d7f48c97ee2b\",\"type\":\"GlyphRenderer\"},{\"id\":\"0f3c2503-1160-4d31-8c3a-c08c23ff031a\",\"type\":\"GlyphRenderer\"},{\"id\":\"97460ea4-6fe2-4002-89cc-42d33241b1c9\",\"type\":\"GlyphRenderer\"},{\"id\":\"5fc09bc8-9931-4fc4-8053-3979d450a130\",\"type\":\"Legend\"}],\"title\":{\"id\":\"1953b56a-5309-4caf-9bcf-d32652dc6548\",\"type\":\"Title\"},\"toolbar\":{\"id\":\"ff35f4ec-08ba-478c-8ead-a9177c6c859e\",\"type\":\"Toolbar\"},\"toolbar_location\":null,\"x_range\":{\"id\":\"203517c1-5dac-4936-a9c8-ea5794d197ed\",\"type\":\"Range1d\"},\"x_scale\":{\"id\":\"081fa831-b701-4572-8a7f-83f716d6d6b1\",\"type\":\"LinearScale\"},\"y_range\":{\"id\":\"b6122c8b-07b6-4c04-a1a6-02fbf8b51385\",\"type\":\"Range1d\"},\"y_scale\":{\"id\":\"d2b3d0b7-8e12-496d-9b01-d99c7244fb49\",\"type\":\"LogScale\"}},\"id\":\"ef0e978d-c9ce-4984-8fbf-ad6c0b6eb8d3\",\"subtype\":\"Figure\",\"type\":\"Plot\"},{\"attributes\":{\"num_minor_ticks\":10},\"id\":\"42902dff-e4a2-486c-a3f7-ba8fc7120931\",\"type\":\"LogTicker\"},{\"attributes\":{},\"id\":\"a3e77801-3d84-407f-aaec-980bc8baad57\",\"type\":\"WheelZoomTool\"},{\"attributes\":{\"data_source\":{\"id\":\"10b8d02e-17a9-45b5-9524-aa3a1b581d21\",\"type\":\"ColumnDataSource\"},\"glyph\":{\"id\":\"2434da25-4e40-48f5-993a-c8dd9122702d\",\"type\":\"Circle\"},\"hover_glyph\":null,\"muted_glyph\":null,\"nonselection_glyph\":{\"id\":\"e0c2a2aa-6fea-40ea-be4c-64abab014576\",\"type\":\"Circle\"},\"selection_glyph\":null,\"view\":{\"id\":\"555651fe-f079-4cce-a7d2-b3382482a761\",\"type\":\"CDSView\"}},\"id\":\"58309c8b-258f-4c20-b172-f95166ce4d31\",\"type\":\"GlyphRenderer\"},{\"attributes\":{},\"id\":\"3af5c369-67da-4640-acb6-25e0e7161d0d\",\"type\":\"ResetTool\"},{\"attributes\":{\"line_alpha\":0.8,\"line_color\":\"#984ea3\",\"line_width\":1.5,\"x\":{\"field\":\"x\"},\"y\":{\"field\":\"y\"}},\"id\":\"f0571944-4555-41d3-a11f-73ee1f904b12\",\"type\":\"Line\"},{\"attributes\":{\"line_alpha\":0.6,\"line_color\":\"#377eb8\",\"line_dash\":[6],\"line_width\":5,\"x\":{\"field\":\"x\"},\"y\":{\"field\":\"y\"}},\"id\":\"b0b56176-e8e1-435f-90b2-43602c6ce3a8\",\"type\":\"Line\"},{\"attributes\":{\"line_alpha\":0.1,\"line_color\":\"#1f77b4\",\"line_dash\":[6],\"line_width\":5,\"x\":{\"field\":\"x\"},\"y\":{\"field\":\"y\"}},\"id\":\"f7fb78cb-f719-4da2-a06d-c81b7812b653\",\"type\":\"Line\"},{\"attributes\":{\"axis_label\":\"pressure [mb]\",\"formatter\":{\"id\":\"4f65ccd8-ffec-42ee-8b06-35e428d09be9\",\"type\":\"BasicTickFormatter\"},\"plot\":{\"id\":\"c2c9e210-0beb-4aef-a740-147dd5312a71\",\"subtype\":\"Figure\",\"type\":\"Plot\"},\"ticker\":{\"id\":\"58f6cb40-c2ee-42b6-8caa-b3b2a18935f0\",\"type\":\"BasicTicker\"}},\"id\":\"f8a2dc15-6072-433d-84a0-5529d821a9ec\",\"type\":\"LinearAxis\"},{\"attributes\":{\"fill_alpha\":{\"value\":0.1},\"fill_color\":{\"value\":\"#1f77b4\"},\"line_alpha\":{\"value\":0.1},\"line_color\":{\"value\":\"#1f77b4\"},\"x\":{\"field\":\"x\"},\"y\":{\"field\":\"y\"}},\"id\":\"598e13d9-3143-4fb0-9a97-830c46e470d3\",\"type\":\"Square\"},{\"attributes\":{\"source\":{\"id\":\"cb8018d5-b7de-46eb-a6fb-26082d8458e8\",\"type\":\"ColumnDataSource\"}},\"id\":\"7ab186e9-5edf-4364-9dc0-73333cc8308e\",\"type\":\"CDSView\"},{\"attributes\":{\"data_source\":{\"id\":\"d1052156-b860-4fe3-a916-c53c30d4d74f\",\"type\":\"ColumnDataSource\"},\"glyph\":{\"id\":\"301ce4c7-f524-44a3-8c6a-0d1bffac2b92\",\"type\":\"Line\"},\"hover_glyph\":null,\"muted_glyph\":null,\"nonselection_glyph\":{\"id\":\"dc46f0fe-366f-43bf-8c32-09a2316d4fcd\",\"type\":\"Line\"},\"selection_glyph\":null,\"view\":{\"id\":\"fe62a8c1-eec6-499c-81ab-e2044957086a\",\"type\":\"CDSView\"}},\"id\":\"4d7318cd-5565-420d-b592-d7f48c97ee2b\",\"type\":\"GlyphRenderer\"},{\"attributes\":{\"plot\":{\"id\":\"b7cc4534-be38-4101-bbaa-9a52a5e9e1fc\",\"subtype\":\"Figure\",\"type\":\"Plot\"},\"ticker\":{\"id\":\"fc829824-d07c-4489-b936-e47b13a43b6c\",\"type\":\"BasicTicker\"}},\"id\":\"3fcf4afd-9a0a-45fb-abec-7e16b919beba\",\"type\":\"Grid\"},{\"attributes\":{},\"id\":\"c3edd236-1488-4de1-813e-e29aa2f46317\",\"type\":\"ResetTool\"},{\"attributes\":{\"dimension\":1,\"plot\":{\"id\":\"b7cc4534-be38-4101-bbaa-9a52a5e9e1fc\",\"subtype\":\"Figure\",\"type\":\"Plot\"},\"ticker\":{\"id\":\"bbccdb43-e186-43cd-9b0d-1b2d6c44d27b\",\"type\":\"LogTicker\"}},\"id\":\"b47e8ef2-0cf2-4d38-919b-0f94e62bbd7e\",\"type\":\"Grid\"},{\"attributes\":{\"line_color\":\"#4daf4a\",\"line_width\":1.5,\"x\":{\"field\":\"x\"},\"y\":{\"field\":\"y\"}},\"id\":\"301ce4c7-f524-44a3-8c6a-0d1bffac2b92\",\"type\":\"Line\"},{\"attributes\":{},\"id\":\"99f49346-776f-4d56-bf99-5810bf378926\",\"type\":\"WheelZoomTool\"},{\"attributes\":{\"data_source\":{\"id\":\"683b831d-1719-4d82-b39a-5e81401b7ba2\",\"type\":\"ColumnDataSource\"},\"glyph\":{\"id\":\"790b8323-eea3-4869-9f9a-8c39016aa983\",\"type\":\"Line\"},\"hover_glyph\":null,\"muted_glyph\":null,\"nonselection_glyph\":{\"id\":\"f7fb78cb-f719-4da2-a06d-c81b7812b653\",\"type\":\"Line\"},\"selection_glyph\":null,\"view\":{\"id\":\"b09c2e2c-c8dc-4cb9-9735-1891edb7242e\",\"type\":\"CDSView\"}},\"id\":\"0a916d14-6a36-4dba-b8e1-cf68b1a2b600\",\"type\":\"GlyphRenderer\"},{\"attributes\":{\"source\":{\"id\":\"d1052156-b860-4fe3-a916-c53c30d4d74f\",\"type\":\"ColumnDataSource\"}},\"id\":\"fe62a8c1-eec6-499c-81ab-e2044957086a\",\"type\":\"CDSView\"},{\"attributes\":{\"fill_alpha\":{\"value\":0.7},\"fill_color\":{\"value\":\"#984ea3\"},\"line_alpha\":{\"value\":0.7},\"line_color\":{\"value\":\"#984ea3\"},\"x\":{\"field\":\"x\"},\"y\":{\"field\":\"y\"}},\"id\":\"deb05a92-b335-450c-9308-edcff8fcf666\",\"type\":\"Square\"},{\"attributes\":{\"callback\":null,\"data\":{\"x\":{\"__ndarray__\":\"EFTPEMULEsBY5Soo7NcRwOAih0PfTQnAcLzxlkslFUAgkIluU6TzP+gpDdzLdwVAICHKUKVt1T+Ik7s3hMbwP6AHr9TDy9y/ECnbDOK15j+w2qv7vfbXvzCQ/22EH9Y/ABwN6PuE1b8w8RgTZ5TNP8ZxqdeCOdI/WPaTJPMAyz/gCWaNx9zKv4Bz2SfMkLG/QNDU2Dvrw7/gjDvG8ELPv3BfAcZ9A9W/QPE2M06U4r+4EtXbvdv4v8CHA9UM1vO/wNkC+csj1L9A31CHx4DGv4BAVcDWEKk/AJyjBEwOpL8A2K0iJHelvwAHMEdHKYW/QAFQrblkpT+AYHxUdJWePwCcnL/AFYO/AIDdMF2+IL9AoMQ3Xs6Hv8CEJWa/IIk/SHjx3bH7mD9glt/hXwibv4AXhtbv81c/0ZPByHVmuD+ZIBKsyEuxPwB7VdwaDKi/AMK2wPlcpL+A1M+Jt0OhvwBblecIUqS/AOzlE2F5m79AcNDuEvKUv8BO6MRU/Ja/ALSuiFPKhL8ASGwETKOKvwCIZggV2Yi/AB5fgpVndD+A7LY9mXWhv8C4xgD0L5O/ALuUgd63fD8AAPReZ8gCPwB4gQY0fE+/gN8kEc8Okj9ggdWOaw6mPwButB7pzIA/QJoEKHMXlz9A3ZOmSfmuP0CC+mOR17o/8L5CjVu4sD8gd3D5DeiqP4BAGGl6MbI/oBQpEQTvtT+AoHD36662PwCQysucWWu/gOgg5EKCgD+gmD6me76hPwAZquxAgK4/MDP40Wo1tD/gyKr9n0C3P9Ci4ei4h7S/\",\"dtype\":\"float64\",\"shape\":[75]},\"y\":{\"__ndarray__\":\"GhExyth1ND/Sv8nbtpRIP2vylNV0PVE/aTum7souWD/At0SJ8fVgPw3Iuahxymc/MSNhhJWvcD/bTfBN02d3P2zb5nxnaoA/CD5h5MAGhz8NmeH1TyaQP+zrCsc9p5Y/LbKd76fGnz/bLW5ISEmmPww9YvTcQq8/JV2OstnstT8Er5Y7M8G+P0c+r3jqkcU/5h99k6ZBzj88bCIzFzjVP4enV8oyxN0//yH99nXg5D8qOpLLf0jtP5kqGJXUifQ/c9cS8kHP/D+/DpwzojQEQIEmwoanVwxA4lgXt9HgE0BSSZ2AJuIbQAMJih9jjiNA5q4l5INuK0AwTKYKRj0zQNv5fmq8/DpAaCJseHrtQkB/+zpwzoxKQM3MzMzMeFJAZmZmZmZqWEAAAAAAAFxeQM3MzMzMJmJAmpmZmZkfZUBmZmZmZhhoQDMzMzMzEWtAAAAAAAAKbkBmZmZmZoFwQM3MzMzM/XFAMzMzMzN6c0CamZmZmfZ0QAAAAAAAc3ZAZmZmZmbvd0DNzMzMzGt5QDMzMzMz6HpAmpmZmZlkfEAAAAAAAOF9QGZmZmZmXX9AZmZmZuZsgECamZmZGSuBQM3MzMxM6YFAAAAAAICngkAzMzMzs2WDQGZmZmbmI4RAmpmZmRnihEDNzMzMTKCFQAAAAACAXoZAMzMzM7Mch0BmZmZm5tqHQJqZmZkZmYhAzczMzExXiUAAAAAAgBWKQDMzMzOz04pAZmZmZuaRi0CamZmZGVCMQM3MzMxMDo1AAAAAAIDMjUAzMzMzs4qOQGZmZmbmSI9A\",\"dtype\":\"float64\",\"shape\":[75]}},\"selected\":{\"id\":\"217f90a4-9db8-493e-be8e-f5a5e3afef5a\",\"type\":\"Selection\"},\"selection_policy\":{\"id\":\"eb207b27-ad94-4eaf-be8d-f9c2a00105b6\",\"type\":\"UnionRenderers\"}},\"id\":\"b26deb7d-ef4f-46b3-9c57-af94dc3cdafc\",\"type\":\"ColumnDataSource\"},{\"attributes\":{},\"id\":\"8b2466c1-eacb-4c44-96da-2f9362360955\",\"type\":\"Selection\"},{\"attributes\":{\"callback\":null,\"data\":{\"x\":{\"__ndarray__\":\"MXhf+wfXU0AZbvNjswdFQLQWsEQVdUFA5TlpnhT9QUB/x1dOYK05QImjxHmcEjZA9jYDSBB3L0AISPl4H6wqQBPuuwfAzyJAOcHprUZAIUB7WWpkesAXQJoT1Uq+ChVArO/8u0EXCkBgVNlshzgCQMeNQ+Nzu/I/POwv1Qzh+D9QxMRmcj8DQOrE7tC4mAxAQsLBRIlHEkAi4cPYoDEXQEeDpjRjzB1ASZ0GEfCuI0DVFj11sssnQOMiVKSMHyhAWRHvUxNoJEDo8cjD4g8gQLGGvR2NDRpAdpI3nV5oFECtyWH9Lp4QQIZQd9bvmwtAkshlnu1BBkBMysnQf1UAQHZJU/DYZ/c/HoEhV+G48T/rSm4vc/TmP3EgV4cD49g/xmy6+4w7zz+bEsjh3uDDPw5SRMRogKs/4GPKdPc1a78lazVXN1vCP/B84ODeUug/LOyxgXDV9z+/DBHyZAwAQAOIY+fy/QFAahF3XKCUAECV0GHvGsz+P+X4k4Nhvf0/RO/IqI98/T8rkW+v/zT9P59vGMDsAv0/zEX7plCY/D/E3siS8kj7P2yUMv+hDvs/RmrXDaYs+z+c9f5GCO36P58nVCbr7vo/Qus8hbcy/D+rD5hFMCf9P4t6dxofnPw/bRp4QYZ2/D/q8NNiN2b8P5YTVw9ESPw/l1Dy0X/K+j+WKih3ZdD5P2k8OYxHjvk/hceGh5N4+T8lpPahWSn5P6vJnePt4vY/UuhmxnXI9T8miFqdE+D0Pz7qfx5CR/Q/0khvq2US9D9LfVdHQGv0P9syeEmwYfg/\",\"dtype\":\"float64\",\"shape\":[75]},\"y\":{\"__ndarray__\":\"hLndy31yND/6fmq8dJNIP8n9DkWBPlE/aDum7souWD/b4a/JGvVgP9f34SAhymc/ZvM4DOavcD+z0M5pFmh3PxuC4zJuaoA/xjcUPlsHhz8uHAjJAiaQP9ieWRKgppY/oI7HDFTGnz+a5h2n6EimPzS6g9iZQq8/IuAQqtTstT9SSZ2AJsK+P4nS3uALk8U/ih9j7lpCzj+ASL99HTjVP4enV8oyxN0/ACL99nXg5D9fmEwVjErtPyUGgZVDi/Q/AiuHFtnO/D9OYhBYOTQEQPHSTWIQWAxA4XoUrkfhE0D8qfHSTeIbQMh2vp8ajyNArkfhehRuK0Bcj8L1KDwzQFyPwvUo/DpAPgrXo3DtQkDNzMzMzIxKQClcj8L1eFJAKVyPwvVoWECamZmZmVleQGZmZmZmJmJAAAAAAAAgZUCamZmZmRloQJqZmZmZEWtAmpmZmZkJbkCamZmZmYFwQGZmZmZm/nFAZmZmZmZ6c0BmZmZmZvZ0QDQzMzMzc3ZAAAAAAADwd0AAAAAAAGx5QAAAAAAA6HpAzMzMzMxkfEDMzMzMzOB9QM3MzMzMXH9AzczMzMxsgEAzMzMzMyuBQDMzMzMz6YFAMzMzMzOngkCamZmZmWWDQAAAAAAAJIRAAAAAAADihEAAAAAAAKCFQGZmZmZmXoZAzczMzMwch0DNzMzMzNqHQM3MzMzMmIhAMzMzMzNXiUCamZmZmRWKQAAAAAAA1IpAAAAAAACSi0AAAAAAAFCMQGZmZmZmDo1AzczMzMzMjUDNzMzMzIqOQM3MzMzMSI9A\",\"dtype\":\"float64\",\"shape\":[75]}},\"selected\":{\"id\":\"4d0ff1cf-731a-4d6a-8e20-ed7d26adc46a\",\"type\":\"Selection\"},\"selection_policy\":{\"id\":\"a59f41c5-f565-4f2a-b740-dea8f633c58d\",\"type\":\"UnionRenderers\"}},\"id\":\"cb8018d5-b7de-46eb-a6fb-26082d8458e8\",\"type\":\"ColumnDataSource\"},{\"attributes\":{},\"id\":\"38461fd8-66a9-4206-937c-0ce751f07b9c\",\"type\":\"HelpTool\"},{\"attributes\":{},\"id\":\"69b59171-d3cd-4b08-bde1-f8067447c175\",\"type\":\"PanTool\"},{\"attributes\":{\"tools\":[{\"id\":\"69b59171-d3cd-4b08-bde1-f8067447c175\",\"type\":\"PanTool\"},{\"id\":\"65bae668-e030-4b6b-9dc0-be3063c575ec\",\"type\":\"WheelZoomTool\"},{\"id\":\"5b572831-1cd2-4f21-84ef-b96c253529c3\",\"type\":\"BoxZoomTool\"},{\"id\":\"c4c12682-886e-4c0b-9c6b-e685784f720e\",\"type\":\"SaveTool\"},{\"id\":\"0d07536f-06f9-4683-a451-2be8f6f6aabd\",\"type\":\"ResetTool\"},{\"id\":\"38461fd8-66a9-4206-937c-0ce751f07b9c\",\"type\":\"HelpTool\"},{\"id\":\"5c7fcb8c-fcc9-4bd6-a84d-364d7a571a44\",\"type\":\"PanTool\"},{\"id\":\"99f49346-776f-4d56-bf99-5810bf378926\",\"type\":\"WheelZoomTool\"},{\"id\":\"bcbe63b4-8f8d-46fc-801d-e80e5f4ac375\",\"type\":\"BoxZoomTool\"},{\"id\":\"57ec8c89-36e8-40db-9d1d-af9e61673cf2\",\"type\":\"SaveTool\"},{\"id\":\"3af5c369-67da-4640-acb6-25e0e7161d0d\",\"type\":\"ResetTool\"},{\"id\":\"83df7dc9-07d8-4f44-b537-a3bb1f17766b\",\"type\":\"HelpTool\"},{\"id\":\"9a1362aa-da01-4188-b124-4f30b71d83d1\",\"type\":\"PanTool\"},{\"id\":\"a3e77801-3d84-407f-aaec-980bc8baad57\",\"type\":\"WheelZoomTool\"},{\"id\":\"dffaa800-1ac6-4adf-a4e5-070d0620bad7\",\"type\":\"BoxZoomTool\"},{\"id\":\"79a7bcb7-c5d9-4e0c-ad73-3b00c99b0250\",\"type\":\"SaveTool\"},{\"id\":\"c3edd236-1488-4de1-813e-e29aa2f46317\",\"type\":\"ResetTool\"},{\"id\":\"7682aae6-cf28-4a38-913d-48d6c67c9585\",\"type\":\"HelpTool\"}]},\"id\":\"66f3f3d2-8917-45f0-8e03-479008076688\",\"type\":\"ProxyToolbar\"},{\"attributes\":{\"fill_alpha\":{\"value\":0.7},\"fill_color\":{\"value\":\"#984ea3\"},\"line_alpha\":{\"value\":0.7},\"line_color\":{\"value\":\"#984ea3\"},\"x\":{\"field\":\"x\"},\"y\":{\"field\":\"y\"}},\"id\":\"9b33ddd2-163b-499c-b19c-d8e8deacfce3\",\"type\":\"Circle\"},{\"attributes\":{\"children\":[{\"id\":\"f1c0784a-5ade-4c3e-967e-1abdc63bbb72\",\"type\":\"ToolbarBox\"},{\"id\":\"d12d5713-5090-41bc-a16d-55f93daf9d40\",\"type\":\"Column\"}]},\"id\":\"e9ec3997-9c0c-4f41-97f9-cb9108efe589\",\"type\":\"Column\"},{\"attributes\":{\"items\":[{\"id\":\"65382a4e-6211-47f8-99b3-3def9798c6db\",\"type\":\"LegendItem\"},{\"id\":\"54c642c7-fd2a-437d-8c0f-311cdb7b67a9\",\"type\":\"LegendItem\"}],\"label_text_font_size\":{\"value\":\"8pt\"},\"location\":\"top_center\",\"orientation\":\"horizontal\",\"plot\":{\"id\":\"b7cc4534-be38-4101-bbaa-9a52a5e9e1fc\",\"subtype\":\"Figure\",\"type\":\"Plot\"}},\"id\":\"7565135f-2238-4db9-a59d-ba9e528a6eeb\",\"type\":\"Legend\"},{\"attributes\":{\"overlay\":{\"id\":\"a9a6f1fb-7195-4242-a4c1-991d9990cfb7\",\"type\":\"BoxAnnotation\"}},\"id\":\"5b572831-1cd2-4f21-84ef-b96c253529c3\",\"type\":\"BoxZoomTool\"},{\"attributes\":{},\"id\":\"783d541d-2b03-4062-be9e-b5aaa6a41f25\",\"type\":\"LinearScale\"},{\"attributes\":{},\"id\":\"65bae668-e030-4b6b-9dc0-be3063c575ec\",\"type\":\"WheelZoomTool\"},{\"attributes\":{\"callback\":null,\"data\":{\"x\":{\"__ndarray__\":\"cm1sTMT3VEDEyvjosEJHQOKI6DjzCUNArgQWV9awPkB9Lm8XG3M4QEz+Qv6iYzNA7eV8HaPLLkCX1QHyTpMoQFBmYSYetiNAUB04GtGpH0AmFyVE5j8ZQJca9QPGqBNALJP+OOHHDEBNxaf7QF8AQKtislomWuw/cW2dcO6A9T/uJJvfPu0EQIaQLTI/JQ1AxGiII+PmEkCJvfVeuCsYQD6ZBhGbHB9AXQw69DTYJEAsubcwKucqQNuT9D5OmipAJyi3szEJJUBlNebh5WkgQDDcPHBr2xlArtlANXuQFEBdJadFHckQQI2Avh0ZsQtAjYiwt1rsBUCL0SDoVBgAQK6C0nEEjvc/CggLSme58T9sXU2orFPnP0v0JYz9Gdg/vT38vxYczD9nBQTe6kHHP1IhkEXJwKo/8OZnhCVAub+xtVgCpmqzP6DUpY6g0+k/PKK3T1h4+D8RTDjQc1EAQG/dAQs7TwJAQt2eHpPLAEBWEh074x//PyCap9ZSGf4/rEzaTySm/T+7aXhHRmr9P688KeqeNP0/ruZ4EemD/D8olrZcn9T7P0+vNc9hW/s/i9VVL+4P+z+0NzC24uz6P8731Kza8vo/xFf4SHzq+z+gYyHpvHb8P68ROkiFevw/BAjYdCga/D8AUp8VbW77P3JrF/nKmvo/qCQeGfq++T/dplwHJfn4P2G4p+Uva/g/OzZ0RqMZ+D8dmn/iar73P/OuA7Ka8PY/gaaeQHGn9T9hkyjAH1L0P3aZGhdAU/M/n8VP/g7P8j+90HxHNvfyPwhNBtgrqvk/\",\"dtype\":\"float64\",\"shape\":[75]},\"y\":{\"__ndarray__\":\"GhExyth1ND/Sv8nbtpRIP2vylNV0PVE/aTum7souWD/At0SJ8fVgPw3Iuahxymc/MSNhhJWvcD/bTfBN02d3P2zb5nxnaoA/CD5h5MAGhz8NmeH1TyaQP+zrCsc9p5Y/LbKd76fGnz/bLW5ISEmmPww9YvTcQq8/JV2OstnstT8Er5Y7M8G+P0c+r3jqkcU/5h99k6ZBzj88bCIzFzjVP4enV8oyxN0//yH99nXg5D8qOpLLf0jtP5kqGJXUifQ/c9cS8kHP/D+/DpwzojQEQIEmwoanVwxA4lgXt9HgE0BSSZ2AJuIbQAMJih9jjiNA5q4l5INuK0AwTKYKRj0zQNv5fmq8/DpAaCJseHrtQkB/+zpwzoxKQM3MzMzMeFJAZmZmZmZqWEAAAAAAAFxeQM3MzMzMJmJAmpmZmZkfZUBmZmZmZhhoQDMzMzMzEWtAAAAAAAAKbkBmZmZmZoFwQM3MzMzM/XFAMzMzMzN6c0CamZmZmfZ0QAAAAAAAc3ZAZmZmZmbvd0DNzMzMzGt5QDMzMzMz6HpAmpmZmZlkfEAAAAAAAOF9QGZmZmZmXX9AZmZmZuZsgECamZmZGSuBQM3MzMxM6YFAAAAAAICngkAzMzMzs2WDQGZmZmbmI4RAmpmZmRnihEDNzMzMTKCFQAAAAACAXoZAMzMzM7Mch0BmZmZm5tqHQJqZmZkZmYhAzczMzExXiUAAAAAAgBWKQDMzMzOz04pAZmZmZuaRi0CamZmZGVCMQM3MzMxMDo1AAAAAAIDMjUAzMzMzs4qOQGZmZmbmSI9A\",\"dtype\":\"float64\",\"shape\":[75]}},\"selected\":{\"id\":\"e22dd340-a2f7-4968-9df7-fe16f68da3bf\",\"type\":\"Selection\"},\"selection_policy\":{\"id\":\"6776c901-320d-4102-9479-30543e3a49ac\",\"type\":\"UnionRenderers\"}},\"id\":\"d8c0c543-670a-4b0b-87a7-06a5b660cd1e\",\"type\":\"ColumnDataSource\"},{\"attributes\":{},\"id\":\"e989300f-a264-452c-a71b-0b4509d66c48\",\"type\":\"UnionRenderers\"},{\"attributes\":{},\"id\":\"12dac67d-a0e0-4a06-9cce-5e196319902a\",\"type\":\"Selection\"},{\"attributes\":{},\"id\":\"45bfa9e6-b0cf-4705-ba3a-993d93b92d8e\",\"type\":\"Selection\"},{\"attributes\":{},\"id\":\"f01b8c61-5511-494c-b44d-a847a7325368\",\"type\":\"UnionRenderers\"},{\"attributes\":{\"callback\":null,\"end\":0.01,\"start\":1020},\"id\":\"a8b6ba1b-38e8-44a8-9b1a-e36a9be3ce2f\",\"type\":\"Range1d\"},{\"attributes\":{},\"id\":\"6776c901-320d-4102-9479-30543e3a49ac\",\"type\":\"UnionRenderers\"},{\"attributes\":{\"data_source\":{\"id\":\"e47cd13f-fac5-4dfe-9765-168c3491b894\",\"type\":\"ColumnDataSource\"},\"glyph\":{\"id\":\"b0b56176-e8e1-435f-90b2-43602c6ce3a8\",\"type\":\"Line\"},\"hover_glyph\":null,\"muted_glyph\":null,\"nonselection_glyph\":{\"id\":\"57633809-7747-4fcf-9998-0e6db8228a75\",\"type\":\"Line\"},\"selection_glyph\":null,\"view\":{\"id\":\"39594aa4-80d6-4f8d-bf1b-f4ba5889d0bb\",\"type\":\"CDSView\"}},\"id\":\"0a93c03d-2e42-489b-93f0-e4191887cb8d\",\"type\":\"GlyphRenderer\"},{\"attributes\":{},\"id\":\"fc829824-d07c-4489-b936-e47b13a43b6c\",\"type\":\"BasicTicker\"},{\"attributes\":{},\"id\":\"c4c12682-886e-4c0b-9c6b-e685784f720e\",\"type\":\"SaveTool\"},{\"attributes\":{\"bottom_units\":\"screen\",\"fill_alpha\":{\"value\":0.5},\"fill_color\":{\"value\":\"lightgrey\"},\"left_units\":\"screen\",\"level\":\"overlay\",\"line_alpha\":{\"value\":1.0},\"line_color\":{\"value\":\"black\"},\"line_dash\":[4,4],\"line_width\":{\"value\":2},\"plot\":null,\"render_mode\":\"css\",\"right_units\":\"screen\",\"top_units\":\"screen\"},\"id\":\"c345da17-f841-4087-8317-734542b11a64\",\"type\":\"BoxAnnotation\"},{\"attributes\":{\"active_drag\":\"auto\",\"active_inspect\":\"auto\",\"active_scroll\":\"auto\",\"active_tap\":\"auto\",\"tools\":[{\"id\":\"69b59171-d3cd-4b08-bde1-f8067447c175\",\"type\":\"PanTool\"},{\"id\":\"65bae668-e030-4b6b-9dc0-be3063c575ec\",\"type\":\"WheelZoomTool\"},{\"id\":\"5b572831-1cd2-4f21-84ef-b96c253529c3\",\"type\":\"BoxZoomTool\"},{\"id\":\"c4c12682-886e-4c0b-9c6b-e685784f720e\",\"type\":\"SaveTool\"},{\"id\":\"0d07536f-06f9-4683-a451-2be8f6f6aabd\",\"type\":\"ResetTool\"},{\"id\":\"38461fd8-66a9-4206-937c-0ce751f07b9c\",\"type\":\"HelpTool\"}]},\"id\":\"c9676206-03b7-438c-88f6-53453a028859\",\"type\":\"Toolbar\"},{\"attributes\":{\"ticker\":null},\"id\":\"8f9ccb21-0e9b-44e6-99eb-8309e5e6afd7\",\"type\":\"LogTickFormatter\"},{\"attributes\":{\"fill_alpha\":{\"value\":0.7},\"fill_color\":{\"value\":\"#4daf4a\"},\"line_alpha\":{\"value\":0.7},\"line_color\":{\"value\":\"#4daf4a\"},\"x\":{\"field\":\"x\"},\"y\":{\"field\":\"y\"}},\"id\":\"e0e6c354-5b25-476b-9781-65b3d2ea6785\",\"type\":\"Circle\"},{\"attributes\":{\"callback\":null,\"data\":{\"x\":{\"__ndarray__\":\"TaCMwxPYRUACRY+MYxdDQGq+lvgF40FA+LCUgX8+QEBGpyrsPT88QGxJOUk9PDdAXufu+pvoMUCdt2spq+MpQNyv11rHGCJAeTDs9yowGkDTb8JzsNkUQBGG6XOGshFAWaFhPOBEDUCvAOLy2o0DQNQkVlkr5vU/xM9YxOl/+j+4A5m8NSwFQO0Ea6WECQtArnzAoaXeEEDqjDdaYhYWQBjP7u7I/R1AUsIrhLfVJEDVFQaKc80qQOuyreEI/SlA0z4tKItPJEAnidJp8kcgQKdnFge/YxtAm5/KCZQEFkA9hnXJ0iYRQLpvzWcr3AtA/OO/niIDCEAzLcCmZsUCQO0M9viA9/k/pzY4cKk28T9PKC9u9lrnP69UkW1Ep9s/tw6jo0KMzD8V66RdIIK/P8kIsE8OFKW/1DMWNIHnyb9GENcKRMSLv9IWcV8ipec/MLbsZkhx9z91ZpnG8RAAQNGmbXt3kgFAThIy5B0CAEA4QN1HhDv+P2XL+8JnG/0/74LGRmVl/D/2Ituzzjf8PyL85lmkVPw/3jx1Hczs+z99h5mR03L7P0rY7s+iCPs/BhvUvj2/+j9gu6ZJaor6P3nzqWJwifo/tPEomF+g+z8TwK7VB4L8P0sFgvHtBP0/Poyk74IE/T/KmTVOTWX8P+VwwEexTvs/bO4du6ge+j+TGDYijgj5P/9wKwqhdvg/WsW9J0ZG+D853NcZkEH4Px14S/j5vfc/xFvwdZyu9j9frRLgf331P+hv8dkCkvQ/6WxZ6/gZ9D/0BtPJvUz0P0B+bBsR9/o/\",\"dtype\":\"float64\",\"shape\":[75]},\"y\":{\"__ndarray__\":\"GhExyth1ND/Sv8nbtpRIP2vylNV0PVE/aTum7souWD/At0SJ8fVgPw3Iuahxymc/MSNhhJWvcD/bTfBN02d3P2zb5nxnaoA/CD5h5MAGhz8NmeH1TyaQP+zrCsc9p5Y/LbKd76fGnz/bLW5ISEmmPww9YvTcQq8/JV2OstnstT8Er5Y7M8G+P0c+r3jqkcU/5h99k6ZBzj88bCIzFzjVP4enV8oyxN0//yH99nXg5D8qOpLLf0jtP5kqGJXUifQ/c9cS8kHP/D+/DpwzojQEQIEmwoanVwxA4lgXt9HgE0BSSZ2AJuIbQAMJih9jjiNA5q4l5INuK0AwTKYKRj0zQNv5fmq8/DpAaCJseHrtQkB/+zpwzoxKQM3MzMzMeFJAZmZmZmZqWEAAAAAAAFxeQM3MzMzMJmJAmpmZmZkfZUBmZmZmZhhoQDMzMzMzEWtAAAAAAAAKbkBmZmZmZoFwQM3MzMzM/XFAMzMzMzN6c0CamZmZmfZ0QAAAAAAAc3ZAZmZmZmbvd0DNzMzMzGt5QDMzMzMz6HpAmpmZmZlkfEAAAAAAAOF9QGZmZmZmXX9AZmZmZuZsgECamZmZGSuBQM3MzMxM6YFAAAAAAICngkAzMzMzs2WDQGZmZmbmI4RAmpmZmRnihEDNzMzMTKCFQAAAAACAXoZAMzMzM7Mch0BmZmZm5tqHQJqZmZkZmYhAzczMzExXiUAAAAAAgBWKQDMzMzOz04pAZmZmZuaRi0CamZmZGVCMQM3MzMxMDo1AAAAAAIDMjUAzMzMzs4qOQGZmZmbmSI9A\",\"dtype\":\"float64\",\"shape\":[75]}},\"selected\":{\"id\":\"62bec24e-5f71-4705-a944-079d7e96f14a\",\"type\":\"Selection\"},\"selection_policy\":{\"id\":\"f01b8c61-5511-494c-b44d-a847a7325368\",\"type\":\"UnionRenderers\"}},\"id\":\"683b831d-1719-4d82-b39a-5e81401b7ba2\",\"type\":\"ColumnDataSource\"},{\"attributes\":{},\"id\":\"eb207b27-ad94-4eaf-be8d-f9c2a00105b6\",\"type\":\"UnionRenderers\"},{\"attributes\":{\"fill_alpha\":{\"value\":0.1},\"fill_color\":{\"value\":\"#1f77b4\"},\"line_alpha\":{\"value\":0.1},\"line_color\":{\"value\":\"#1f77b4\"},\"x\":{\"field\":\"x\"},\"y\":{\"field\":\"y\"}},\"id\":\"63fd7684-d349-4469-84de-484aad8c1937\",\"type\":\"Circle\"},{\"attributes\":{\"callback\":null,\"data\":{\"x\":{\"__ndarray__\":\"lDpM1XQXRMAFF6ZxNa0gwHCnHAXUbgLAKtQ1wYrC/D9FxtulFmEOQP5YslfSxA5AOKODYVMWBEBdIJ52wwXlPzFnm7hs1em/XLMviZjm9b9CnYpB15jxv0RIuQD5Y9+/RovD2MA/rz8D29G5z3TZP/bN869g5N4/UIntTu370z90ZO9+bnufP8RcFGbU3dC/p2A/DuxB4L8AhfElsKrgv1qifCEi7dG/yF1QcoDrc79nWaOxprapvwAe3KirqNO/TSo9cdE017+0H9YJvPmwv3m3mG05hdg/uF6cSI1B1z86OJjzYG23P8mWdwcliZU/edt6OD+20D883fr0jWjVP/dRHDnkS8M/ZCxaOrtXoL8RhiuHFydNPyQDWws3aqw/cD606fgKbD9wP8a8agOuvxMVoMpr6re/uoDE49yOur+4l7ODLuO2v3DupXnxc7G/scCujP5wsL8LZ7lngiCgv8/ThvJxmLe/Zl6ZTacuub8zRPpn3ousv3TXeXViva+/yps8kfALtL9cbNQ5eSezv4QRSAhS/6u/ojl1gJ7jor9bqkPH8nKYv4bBtdG/r5S/z6BuIBwslL90FF8iG56Yv4oVwYqSWpq/C4TZMyyHkr+86Lga2ZVmP1dz/igVTaE/R4eQWU9LrT9n+cgSB9yuP1KuINXJfKY/w3Dyf6jrlz9YbuOyNdJuP3g9cQdJ4mY/7I7HpHBRhj+TQwjrpmSgPxMl+cjoq6k/NFQbVbNysD/on6H+AbayPwVnbS0s7LM/pHSa0J6utD9pY2MleFi1P3cTYzZUzrQ/\",\"dtype\":\"float64\",\"shape\":[75]},\"y\":{\"__ndarray__\":\"GhExyth1ND/Sv8nbtpRIP2vylNV0PVE/aTum7souWD/At0SJ8fVgPw3Iuahxymc/MSNhhJWvcD/bTfBN02d3P2zb5nxnaoA/CD5h5MAGhz8NmeH1TyaQP+zrCsc9p5Y/LbKd76fGnz/bLW5ISEmmPww9YvTcQq8/JV2OstnstT8Er5Y7M8G+P0c+r3jqkcU/5h99k6ZBzj88bCIzFzjVP4enV8oyxN0//yH99nXg5D8qOpLLf0jtP5kqGJXUifQ/c9cS8kHP/D+/DpwzojQEQIEmwoanVwxA4lgXt9HgE0BSSZ2AJuIbQAMJih9jjiNA5q4l5INuK0AwTKYKRj0zQNv5fmq8/DpAaCJseHrtQkB/+zpwzoxKQM3MzMzMeFJAZmZmZmZqWEAAAAAAAFxeQM3MzMzMJmJAmpmZmZkfZUBmZmZmZhhoQDMzMzMzEWtAAAAAAAAKbkBmZmZmZoFwQM3MzMzM/XFAMzMzMzN6c0CamZmZmfZ0QAAAAAAAc3ZAZmZmZmbvd0DNzMzMzGt5QDMzMzMz6HpAmpmZmZlkfEAAAAAAAOF9QGZmZmZmXX9AZmZmZuZsgECamZmZGSuBQM3MzMxM6YFAAAAAAICngkAzMzMzs2WDQGZmZmbmI4RAmpmZmRnihEDNzMzMTKCFQAAAAACAXoZAMzMzM7Mch0BmZmZm5tqHQJqZmZkZmYhAzczMzExXiUAAAAAAgBWKQDMzMzOz04pAZmZmZuaRi0CamZmZGVCMQM3MzMxMDo1AAAAAAIDMjUAzMzMzs4qOQGZmZmbmSI9A\",\"dtype\":\"float64\",\"shape\":[75]}},\"selected\":{\"id\":\"d211e953-5dd6-46d0-aad8-25d96e3773d0\",\"type\":\"Selection\"},\"selection_policy\":{\"id\":\"e989300f-a264-452c-a71b-0b4509d66c48\",\"type\":\"UnionRenderers\"}},\"id\":\"145b1766-552d-4956-8bc3-985bf122c87a\",\"type\":\"ColumnDataSource\"},{\"attributes\":{},\"id\":\"5e0fd73b-db72-4e1f-b149-99a4b5e5788f\",\"type\":\"BasicTickFormatter\"},{\"attributes\":{\"active_drag\":\"auto\",\"active_inspect\":\"auto\",\"active_scroll\":\"auto\",\"active_tap\":\"auto\",\"tools\":[{\"id\":\"9a1362aa-da01-4188-b124-4f30b71d83d1\",\"type\":\"PanTool\"},{\"id\":\"a3e77801-3d84-407f-aaec-980bc8baad57\",\"type\":\"WheelZoomTool\"},{\"id\":\"dffaa800-1ac6-4adf-a4e5-070d0620bad7\",\"type\":\"BoxZoomTool\"},{\"id\":\"79a7bcb7-c5d9-4e0c-ad73-3b00c99b0250\",\"type\":\"SaveTool\"},{\"id\":\"c3edd236-1488-4de1-813e-e29aa2f46317\",\"type\":\"ResetTool\"},{\"id\":\"7682aae6-cf28-4a38-913d-48d6c67c9585\",\"type\":\"HelpTool\"}]},\"id\":\"15d3b637-8eb8-4e3f-a33b-bbeee67b451a\",\"type\":\"Toolbar\"},{\"attributes\":{\"items\":[{\"id\":\"be925522-f660-4fb9-93b1-0b85f6d33b06\",\"type\":\"LegendItem\"},{\"id\":\"9514152f-f073-4ecf-bfc2-feb7eae13a9b\",\"type\":\"LegendItem\"},{\"id\":\"888bd041-748e-4fe2-a4ad-bc4c375bcefc\",\"type\":\"LegendItem\"}],\"label_text_font_size\":{\"value\":\"8pt\"},\"location\":\"top_center\",\"orientation\":\"horizontal\",\"plot\":{\"id\":\"c2c9e210-0beb-4aef-a740-147dd5312a71\",\"subtype\":\"Figure\",\"type\":\"Plot\"}},\"id\":\"2157ab28-e2f3-4183-bd4c-e0932d29597f\",\"type\":\"Legend\"},{\"attributes\":{\"callback\":null,\"end\":2.3135974773013004,\"start\":-0.22728810577130001},\"id\":\"c56b98f9-ef4d-4159-91f2-92336f5c3128\",\"type\":\"Range1d\"},{\"attributes\":{\"axis_label\":\"cooling rate [K/day]\",\"formatter\":{\"id\":\"5e0fd73b-db72-4e1f-b149-99a4b5e5788f\",\"type\":\"BasicTickFormatter\"},\"plot\":{\"id\":\"b7cc4534-be38-4101-bbaa-9a52a5e9e1fc\",\"subtype\":\"Figure\",\"type\":\"Plot\"},\"ticker\":{\"id\":\"fc829824-d07c-4489-b936-e47b13a43b6c\",\"type\":\"BasicTicker\"}},\"id\":\"35f74f31-69e2-477c-8a80-fc15fc048abf\",\"type\":\"LinearAxis\"},{\"attributes\":{},\"id\":\"d211e953-5dd6-46d0-aad8-25d96e3773d0\",\"type\":\"Selection\"},{\"attributes\":{\"callback\":null,\"data\":{\"x\":{\"__ndarray__\":\"cm1sTMT3VEDEyvjosEJHQOKI6DjzCUNArgQWV9awPkB9Lm8XG3M4QEz+Qv6iYzNA7eV8HaPLLkCX1QHyTpMoQFBmYSYetiNAUB04GtGpH0AmFyVE5j8ZQJca9QPGqBNALJP+OOHHDEBNxaf7QF8AQKtislomWuw/cW2dcO6A9T/uJJvfPu0EQIaQLTI/JQ1AxGiII+PmEkCJvfVeuCsYQD6ZBhGbHB9AXQw69DTYJEAsubcwKucqQNuT9D5OmipAJyi3szEJJUBlNebh5WkgQDDcPHBr2xlArtlANXuQFEBdJadFHckQQI2Avh0ZsQtAjYiwt1rsBUCL0SDoVBgAQK6C0nEEjvc/CggLSme58T9sXU2orFPnP0v0JYz9Gdg/vT38vxYczD9nBQTe6kHHP1IhkEXJwKo/8OZnhCVAub+xtVgCpmqzP6DUpY6g0+k/PKK3T1h4+D8RTDjQc1EAQG/dAQs7TwJAQt2eHpPLAEBWEh074x//PyCap9ZSGf4/rEzaTySm/T+7aXhHRmr9P688KeqeNP0/ruZ4EemD/D8olrZcn9T7P0+vNc9hW/s/i9VVL+4P+z+0NzC24uz6P8731Kza8vo/xFf4SHzq+z+gYyHpvHb8P68ROkiFevw/BAjYdCga/D8AUp8VbW77P3JrF/nKmvo/qCQeGfq++T/dplwHJfn4P2G4p+Uva/g/OzZ0RqMZ+D8dmn/iar73P/OuA7Ka8PY/gaaeQHGn9T9hkyjAH1L0P3aZGhdAU/M/n8VP/g7P8j+90HxHNvfyPwhNBtgrqvk/\",\"dtype\":\"float64\",\"shape\":[75]},\"y\":{\"__ndarray__\":\"GhExyth1ND/Sv8nbtpRIP2vylNV0PVE/aTum7souWD/At0SJ8fVgPw3Iuahxymc/MSNhhJWvcD/bTfBN02d3P2zb5nxnaoA/CD5h5MAGhz8NmeH1TyaQP+zrCsc9p5Y/LbKd76fGnz/bLW5ISEmmPww9YvTcQq8/JV2OstnstT8Er5Y7M8G+P0c+r3jqkcU/5h99k6ZBzj88bCIzFzjVP4enV8oyxN0//yH99nXg5D8qOpLLf0jtP5kqGJXUifQ/c9cS8kHP/D+/DpwzojQEQIEmwoanVwxA4lgXt9HgE0BSSZ2AJuIbQAMJih9jjiNA5q4l5INuK0AwTKYKRj0zQNv5fmq8/DpAaCJseHrtQkB/+zpwzoxKQM3MzMzMeFJAZmZmZmZqWEAAAAAAAFxeQM3MzMzMJmJAmpmZmZkfZUBmZmZmZhhoQDMzMzMzEWtAAAAAAAAKbkBmZmZmZoFwQM3MzMzM/XFAMzMzMzN6c0CamZmZmfZ0QAAAAAAAc3ZAZmZmZmbvd0DNzMzMzGt5QDMzMzMz6HpAmpmZmZlkfEAAAAAAAOF9QGZmZmZmXX9AZmZmZuZsgECamZmZGSuBQM3MzMxM6YFAAAAAAICngkAzMzMzs2WDQGZmZmbmI4RAmpmZmRnihEDNzMzMTKCFQAAAAACAXoZAMzMzM7Mch0BmZmZm5tqHQJqZmZkZmYhAzczMzExXiUAAAAAAgBWKQDMzMzOz04pAZmZmZuaRi0CamZmZGVCMQM3MzMxMDo1AAAAAAIDMjUAzMzMzs4qOQGZmZmbmSI9A\",\"dtype\":\"float64\",\"shape\":[75]}},\"selected\":{\"id\":\"12dac67d-a0e0-4a06-9cce-5e196319902a\",\"type\":\"Selection\"},\"selection_policy\":{\"id\":\"e1b8ad0c-d1aa-495f-846b-4b586b2588bd\",\"type\":\"UnionRenderers\"}},\"id\":\"3d2b0b22-ca9d-4acc-b6b1-b409516f88d2\",\"type\":\"ColumnDataSource\"},{\"attributes\":{\"source\":{\"id\":\"683b831d-1719-4d82-b39a-5e81401b7ba2\",\"type\":\"ColumnDataSource\"}},\"id\":\"b09c2e2c-c8dc-4cb9-9735-1891edb7242e\",\"type\":\"CDSView\"},{\"attributes\":{},\"id\":\"ab0cf078-0ee1-4bc1-916f-dfe069e7f993\",\"type\":\"LinearScale\"},{\"attributes\":{},\"id\":\"0d07536f-06f9-4683-a451-2be8f6f6aabd\",\"type\":\"ResetTool\"},{\"attributes\":{\"above\":[{\"id\":\"2157ab28-e2f3-4183-bd4c-e0932d29597f\",\"type\":\"Legend\"}],\"below\":[{\"id\":\"505f8e01-f926-41ed-ad85-c6dba99c186e\",\"type\":\"LinearAxis\"}],\"left\":[{\"id\":\"f8a2dc15-6072-433d-84a0-5529d821a9ec\",\"type\":\"LinearAxis\"}],\"plot_width\":300,\"renderers\":[{\"id\":\"505f8e01-f926-41ed-ad85-c6dba99c186e\",\"type\":\"LinearAxis\"},{\"id\":\"fa284df2-c85f-4aff-887c-63a985b91401\",\"type\":\"Grid\"},{\"id\":\"f8a2dc15-6072-433d-84a0-5529d821a9ec\",\"type\":\"LinearAxis\"},{\"id\":\"ae5983da-f3cc-47cb-8e97-0486e38d68a5\",\"type\":\"Grid\"},{\"id\":\"a9a6f1fb-7195-4242-a4c1-991d9990cfb7\",\"type\":\"BoxAnnotation\"},{\"id\":\"0a916d14-6a36-4dba-b8e1-cf68b1a2b600\",\"type\":\"GlyphRenderer\"},{\"id\":\"c6841874-28c1-4db9-91ba-11712ff2acb7\",\"type\":\"GlyphRenderer\"},{\"id\":\"aba124c3-1071-4801-898b-5c5cd10efa5d\",\"type\":\"GlyphRenderer\"},{\"id\":\"7b52ac82-e532-47a8-be7f-6835b0fe156c\",\"type\":\"GlyphRenderer\"},{\"id\":\"ab38e7d1-8f04-4780-af8a-9d36241bbf5f\",\"type\":\"GlyphRenderer\"},{\"id\":\"2157ab28-e2f3-4183-bd4c-e0932d29597f\",\"type\":\"Legend\"}],\"title\":{\"id\":\"680371c0-31e5-4e71-8977-72ca13d9288e\",\"type\":\"Title\"},\"toolbar\":{\"id\":\"c9676206-03b7-438c-88f6-53453a028859\",\"type\":\"Toolbar\"},\"toolbar_location\":null,\"x_range\":{\"id\":\"c56b98f9-ef4d-4159-91f2-92336f5c3128\",\"type\":\"Range1d\"},\"x_scale\":{\"id\":\"783d541d-2b03-4062-be9e-b5aaa6a41f25\",\"type\":\"LinearScale\"},\"y_range\":{\"id\":\"a8b6ba1b-38e8-44a8-9b1a-e36a9be3ce2f\",\"type\":\"Range1d\"},\"y_scale\":{\"id\":\"e1018dad-5a48-4538-8f47-73bb70d20eae\",\"type\":\"LinearScale\"}},\"id\":\"c2c9e210-0beb-4aef-a740-147dd5312a71\",\"subtype\":\"Figure\",\"type\":\"Plot\"},{\"attributes\":{\"callback\":null,\"end\":0.7323360194662635,\"start\":-1.576281364019664},\"id\":\"c0aeb06e-b25b-4610-97d5-1198a0ff7d13\",\"type\":\"Range1d\"},{\"attributes\":{\"bottom_units\":\"screen\",\"fill_alpha\":{\"value\":0.5},\"fill_color\":{\"value\":\"lightgrey\"},\"left_units\":\"screen\",\"level\":\"overlay\",\"line_alpha\":{\"value\":1.0},\"line_color\":{\"value\":\"black\"},\"line_dash\":[4,4],\"line_width\":{\"value\":2},\"plot\":null,\"render_mode\":\"css\",\"right_units\":\"screen\",\"top_units\":\"screen\"},\"id\":\"a9a6f1fb-7195-4242-a4c1-991d9990cfb7\",\"type\":\"BoxAnnotation\"},{\"attributes\":{},\"id\":\"21e6f561-feea-44da-9710-cdd99c4524ad\",\"type\":\"UnionRenderers\"},{\"attributes\":{},\"id\":\"e22dd340-a2f7-4968-9df7-fe16f68da3bf\",\"type\":\"Selection\"},{\"attributes\":{\"data_source\":{\"id\":\"3d2b0b22-ca9d-4acc-b6b1-b409516f88d2\",\"type\":\"ColumnDataSource\"},\"glyph\":{\"id\":\"e0e6c354-5b25-476b-9781-65b3d2ea6785\",\"type\":\"Circle\"},\"hover_glyph\":null,\"muted_glyph\":null,\"nonselection_glyph\":{\"id\":\"63fd7684-d349-4469-84de-484aad8c1937\",\"type\":\"Circle\"},\"selection_glyph\":null,\"view\":{\"id\":\"59a66f99-c3cb-4ead-be8e-67f7b8befd70\",\"type\":\"CDSView\"}},\"id\":\"c6841874-28c1-4db9-91ba-11712ff2acb7\",\"type\":\"GlyphRenderer\"},{\"attributes\":{\"children\":[{\"id\":\"c2c9e210-0beb-4aef-a740-147dd5312a71\",\"subtype\":\"Figure\",\"type\":\"Plot\"},{\"id\":\"ef0e978d-c9ce-4984-8fbf-ad6c0b6eb8d3\",\"subtype\":\"Figure\",\"type\":\"Plot\"},{\"id\":\"b7cc4534-be38-4101-bbaa-9a52a5e9e1fc\",\"subtype\":\"Figure\",\"type\":\"Plot\"}]},\"id\":\"2af84315-900e-4b7a-bea6-7bd6e1d762ca\",\"type\":\"Row\"},{\"attributes\":{\"source\":{\"id\":\"3d2b0b22-ca9d-4acc-b6b1-b409516f88d2\",\"type\":\"ColumnDataSource\"}},\"id\":\"59a66f99-c3cb-4ead-be8e-67f7b8befd70\",\"type\":\"CDSView\"},{\"attributes\":{},\"id\":\"62bec24e-5f71-4705-a944-079d7e96f14a\",\"type\":\"Selection\"},{\"attributes\":{},\"id\":\"e1b8ad0c-d1aa-495f-846b-4b586b2588bd\",\"type\":\"UnionRenderers\"},{\"attributes\":{\"line_alpha\":0.1,\"line_color\":\"#1f77b4\",\"line_width\":1.5,\"x\":{\"field\":\"x\"},\"y\":{\"field\":\"y\"}},\"id\":\"d95bd431-fe70-4da7-baa7-c7f19e68cf8f\",\"type\":\"Line\"},{\"attributes\":{},\"id\":\"0c5fe0a6-df37-4efb-9bab-96da5b0bdfcb\",\"type\":\"Selection\"},{\"attributes\":{},\"id\":\"e1dc609e-3cd8-4aa9-8d0a-31853b54832c\",\"type\":\"UnionRenderers\"},{\"attributes\":{\"toolbar\":{\"id\":\"66f3f3d2-8917-45f0-8e03-479008076688\",\"type\":\"ProxyToolbar\"},\"toolbar_location\":\"above\"},\"id\":\"f1c0784a-5ade-4c3e-967e-1abdc63bbb72\",\"type\":\"ToolbarBox\"},{\"attributes\":{\"source\":{\"id\":\"e47cd13f-fac5-4dfe-9765-168c3491b894\",\"type\":\"ColumnDataSource\"}},\"id\":\"39594aa4-80d6-4f8d-bf1b-f4ba5889d0bb\",\"type\":\"CDSView\"},{\"attributes\":{},\"id\":\"217f90a4-9db8-493e-be8e-f5a5e3afef5a\",\"type\":\"Selection\"},{\"attributes\":{},\"id\":\"9ab4a101-f442-470e-978e-35181dc0f1c9\",\"type\":\"LogScale\"},{\"attributes\":{},\"id\":\"e1018dad-5a48-4538-8f47-73bb70d20eae\",\"type\":\"LinearScale\"},{\"attributes\":{\"line_color\":\"#4daf4a\",\"line_width\":1.5,\"x\":{\"field\":\"x\"},\"y\":{\"field\":\"y\"}},\"id\":\"8da18e25-926e-4274-bf57-2b8cdd76ad80\",\"type\":\"Line\"},{\"attributes\":{},\"id\":\"1b03d978-4d67-4afa-b967-c718f4a33c9d\",\"type\":\"UnionRenderers\"},{\"attributes\":{\"children\":[{\"id\":\"2af84315-900e-4b7a-bea6-7bd6e1d762ca\",\"type\":\"Row\"}]},\"id\":\"d12d5713-5090-41bc-a16d-55f93daf9d40\",\"type\":\"Column\"},{\"attributes\":{\"callback\":null,\"end\":0.01,\"start\":1020},\"id\":\"88c5ec2f-3988-4979-9a72-73b6d99480a1\",\"type\":\"Range1d\"},{\"attributes\":{\"ticker\":null},\"id\":\"0eb908c9-4a23-474d-8389-7ca7bb055288\",\"type\":\"LogTickFormatter\"},{\"attributes\":{\"plot\":null,\"text\":\"\"},\"id\":\"1953b56a-5309-4caf-9bcf-d32652dc6548\",\"type\":\"Title\"},{\"attributes\":{},\"id\":\"df1a1033-bde6-41ed-b762-67b7842e61d5\",\"type\":\"Selection\"},{\"attributes\":{\"label\":{\"value\":\"CLIRAD (single-run)\"},\"renderers\":[{\"id\":\"0a916d14-6a36-4dba-b8e1-cf68b1a2b600\",\"type\":\"GlyphRenderer\"}]},\"id\":\"be925522-f660-4fb9-93b1-0b85f6d33b06\",\"type\":\"LegendItem\"},{\"attributes\":{\"axis_label\":\"cooling rate [K/day]\",\"formatter\":{\"id\":\"77008f54-e941-41c4-9c96-8a92a2149f7e\",\"type\":\"BasicTickFormatter\"},\"plot\":{\"id\":\"ef0e978d-c9ce-4984-8fbf-ad6c0b6eb8d3\",\"subtype\":\"Figure\",\"type\":\"Plot\"},\"ticker\":{\"id\":\"36a76f64-f3fe-485f-9f4c-be1eeaf6cdb8\",\"type\":\"BasicTicker\"}},\"id\":\"48e4b18f-7e33-4c40-a80a-e9e609a654a3\",\"type\":\"LinearAxis\"},{\"attributes\":{\"items\":[{\"id\":\"9838daa9-5918-40e0-801b-1dfeb4df8c19\",\"type\":\"LegendItem\"},{\"id\":\"fbf99fed-593e-49ec-a68d-749ecdd0af28\",\"type\":\"LegendItem\"},{\"id\":\"c102c16e-7601-4131-b639-0fdd42b52de8\",\"type\":\"LegendItem\"}],\"label_text_font_size\":{\"value\":\"8pt\"},\"location\":\"top_center\",\"orientation\":\"horizontal\",\"plot\":{\"id\":\"ef0e978d-c9ce-4984-8fbf-ad6c0b6eb8d3\",\"subtype\":\"Figure\",\"type\":\"Plot\"}},\"id\":\"5fc09bc8-9931-4fc4-8053-3979d450a130\",\"type\":\"Legend\"},{\"attributes\":{\"callback\":null,\"data\":{\"x\":{\"__ndarray__\":\"MXhf+wfXU0AZbvNjswdFQLQWsEQVdUFA5TlpnhT9QUB/x1dOYK05QImjxHmcEjZA9jYDSBB3L0AISPl4H6wqQBPuuwfAzyJAOcHprUZAIUB7WWpkesAXQJoT1Uq+ChVArO/8u0EXCkBgVNlshzgCQMeNQ+Nzu/I/POwv1Qzh+D9QxMRmcj8DQOrE7tC4mAxAQsLBRIlHEkAi4cPYoDEXQEeDpjRjzB1ASZ0GEfCuI0DVFj11sssnQOMiVKSMHyhAWRHvUxNoJEDo8cjD4g8gQLGGvR2NDRpAdpI3nV5oFECtyWH9Lp4QQIZQd9bvmwtAkshlnu1BBkBMysnQf1UAQHZJU/DYZ/c/HoEhV+G48T/rSm4vc/TmP3EgV4cD49g/xmy6+4w7zz+bEsjh3uDDPw5SRMRogKs/4GPKdPc1a78lazVXN1vCP/B84ODeUug/LOyxgXDV9z+/DBHyZAwAQAOIY+fy/QFAahF3XKCUAECV0GHvGsz+P+X4k4Nhvf0/RO/IqI98/T8rkW+v/zT9P59vGMDsAv0/zEX7plCY/D/E3siS8kj7P2yUMv+hDvs/RmrXDaYs+z+c9f5GCO36P58nVCbr7vo/Qus8hbcy/D+rD5hFMCf9P4t6dxofnPw/bRp4QYZ2/D/q8NNiN2b8P5YTVw9ESPw/l1Dy0X/K+j+WKih3ZdD5P2k8OYxHjvk/hceGh5N4+T8lpPahWSn5P6vJnePt4vY/UuhmxnXI9T8miFqdE+D0Pz7qfx5CR/Q/0khvq2US9D9LfVdHQGv0P9syeEmwYfg/\",\"dtype\":\"float64\",\"shape\":[75]},\"y\":{\"__ndarray__\":\"hLndy31yND/6fmq8dJNIP8n9DkWBPlE/aDum7souWD/b4a/JGvVgP9f34SAhymc/ZvM4DOavcD+z0M5pFmh3PxuC4zJuaoA/xjcUPlsHhz8uHAjJAiaQP9ieWRKgppY/oI7HDFTGnz+a5h2n6EimPzS6g9iZQq8/IuAQqtTstT9SSZ2AJsK+P4nS3uALk8U/ih9j7lpCzj+ASL99HTjVP4enV8oyxN0/ACL99nXg5D9fmEwVjErtPyUGgZVDi/Q/AiuHFtnO/D9OYhBYOTQEQPHSTWIQWAxA4XoUrkfhE0D8qfHSTeIbQMh2vp8ajyNArkfhehRuK0Bcj8L1KDwzQFyPwvUo/DpAPgrXo3DtQkDNzMzMzIxKQClcj8L1eFJAKVyPwvVoWECamZmZmVleQGZmZmZmJmJAAAAAAAAgZUCamZmZmRloQJqZmZmZEWtAmpmZmZkJbkCamZmZmYFwQGZmZmZm/nFAZmZmZmZ6c0BmZmZmZvZ0QDQzMzMzc3ZAAAAAAADwd0AAAAAAAGx5QAAAAAAA6HpAzMzMzMxkfEDMzMzMzOB9QM3MzMzMXH9AzczMzMxsgEAzMzMzMyuBQDMzMzMz6YFAMzMzMzOngkCamZmZmWWDQAAAAAAAJIRAAAAAAADihEAAAAAAAKCFQGZmZmZmXoZAzczMzMwch0DNzMzMzNqHQM3MzMzMmIhAMzMzMzNXiUCamZmZmRWKQAAAAAAA1IpAAAAAAACSi0AAAAAAAFCMQGZmZmZmDo1AzczMzMzMjUDNzMzMzIqOQM3MzMzMSI9A\",\"dtype\":\"float64\",\"shape\":[75]}},\"selected\":{\"id\":\"df1a1033-bde6-41ed-b762-67b7842e61d5\",\"type\":\"Selection\"},\"selection_policy\":{\"id\":\"3d89fb26-8220-4210-ae4a-e7a6f863837b\",\"type\":\"UnionRenderers\"}},\"id\":\"c1ddf227-96f0-40ba-9fa5-9a0db0f1c3fd\",\"type\":\"ColumnDataSource\"},{\"attributes\":{\"source\":{\"id\":\"c1ddf227-96f0-40ba-9fa5-9a0db0f1c3fd\",\"type\":\"ColumnDataSource\"}},\"id\":\"c5145119-5c26-4558-a0e8-f83460e4fe84\",\"type\":\"CDSView\"},{\"attributes\":{\"axis_label\":\"pressure [mb]\",\"formatter\":{\"id\":\"0eb908c9-4a23-474d-8389-7ca7bb055288\",\"type\":\"LogTickFormatter\"},\"plot\":{\"id\":\"ef0e978d-c9ce-4984-8fbf-ad6c0b6eb8d3\",\"subtype\":\"Figure\",\"type\":\"Plot\"},\"ticker\":{\"id\":\"42902dff-e4a2-486c-a3f7-ba8fc7120931\",\"type\":\"LogTicker\"}},\"id\":\"6048a407-8ced-4b4c-959f-372fde649473\",\"type\":\"LogAxis\"},{\"attributes\":{},\"id\":\"cee47910-b3a8-4513-a9ef-e766c6b2af79\",\"type\":\"UnionRenderers\"},{\"attributes\":{},\"id\":\"3d89fb26-8220-4210-ae4a-e7a6f863837b\",\"type\":\"UnionRenderers\"},{\"attributes\":{},\"id\":\"42b33085-fa64-43b8-9ded-663285ef843d\",\"type\":\"Selection\"},{\"attributes\":{\"callback\":null,\"end\":13.588032473712698,\"start\":-0.3389161750427},\"id\":\"203517c1-5dac-4936-a9c8-ea5794d197ed\",\"type\":\"Range1d\"},{\"attributes\":{\"plot\":{\"id\":\"ef0e978d-c9ce-4984-8fbf-ad6c0b6eb8d3\",\"subtype\":\"Figure\",\"type\":\"Plot\"},\"ticker\":{\"id\":\"36a76f64-f3fe-485f-9f4c-be1eeaf6cdb8\",\"type\":\"BasicTicker\"}},\"id\":\"54210b62-ae87-414b-bb86-5f7a74c594dc\",\"type\":\"Grid\"},{\"attributes\":{},\"id\":\"d2b3d0b7-8e12-496d-9b01-d99c7244fb49\",\"type\":\"LogScale\"},{\"attributes\":{},\"id\":\"36a76f64-f3fe-485f-9f4c-be1eeaf6cdb8\",\"type\":\"BasicTicker\"},{\"attributes\":{\"callback\":null,\"data\":{\"x\":{\"__ndarray__\":\"MXhf+wfXU0AZbvNjswdFQLQWsEQVdUFA5TlpnhT9QUB/x1dOYK05QImjxHmcEjZA9jYDSBB3L0AISPl4H6wqQBPuuwfAzyJAOcHprUZAIUB7WWpkesAXQJoT1Uq+ChVArO/8u0EXCkBgVNlshzgCQMeNQ+Nzu/I/POwv1Qzh+D9QxMRmcj8DQOrE7tC4mAxAQsLBRIlHEkAi4cPYoDEXQEeDpjRjzB1ASZ0GEfCuI0DVFj11sssnQOMiVKSMHyhAWRHvUxNoJEDo8cjD4g8gQLGGvR2NDRpAdpI3nV5oFECtyWH9Lp4QQIZQd9bvmwtAkshlnu1BBkBMysnQf1UAQHZJU/DYZ/c/HoEhV+G48T/rSm4vc/TmP3EgV4cD49g/xmy6+4w7zz+bEsjh3uDDPw5SRMRogKs/4GPKdPc1a78lazVXN1vCP/B84ODeUug/LOyxgXDV9z+/DBHyZAwAQAOIY+fy/QFAahF3XKCUAECV0GHvGsz+P+X4k4Nhvf0/RO/IqI98/T8rkW+v/zT9P59vGMDsAv0/zEX7plCY/D/E3siS8kj7P2yUMv+hDvs/RmrXDaYs+z+c9f5GCO36P58nVCbr7vo/Qus8hbcy/D+rD5hFMCf9P4t6dxofnPw/bRp4QYZ2/D/q8NNiN2b8P5YTVw9ESPw/l1Dy0X/K+j+WKih3ZdD5P2k8OYxHjvk/hceGh5N4+T8lpPahWSn5P6vJnePt4vY/UuhmxnXI9T8miFqdE+D0Pz7qfx5CR/Q/0khvq2US9D9LfVdHQGv0P9syeEmwYfg/\",\"dtype\":\"float64\",\"shape\":[75]},\"y\":{\"__ndarray__\":\"hLndy31yND/6fmq8dJNIP8n9DkWBPlE/aDum7souWD/b4a/JGvVgP9f34SAhymc/ZvM4DOavcD+z0M5pFmh3PxuC4zJuaoA/xjcUPlsHhz8uHAjJAiaQP9ieWRKgppY/oI7HDFTGnz+a5h2n6EimPzS6g9iZQq8/IuAQqtTstT9SSZ2AJsK+P4nS3uALk8U/ih9j7lpCzj+ASL99HTjVP4enV8oyxN0/ACL99nXg5D9fmEwVjErtPyUGgZVDi/Q/AiuHFtnO/D9OYhBYOTQEQPHSTWIQWAxA4XoUrkfhE0D8qfHSTeIbQMh2vp8ajyNArkfhehRuK0Bcj8L1KDwzQFyPwvUo/DpAPgrXo3DtQkDNzMzMzIxKQClcj8L1eFJAKVyPwvVoWECamZmZmVleQGZmZmZmJmJAAAAAAAAgZUCamZmZmRloQJqZmZmZEWtAmpmZmZkJbkCamZmZmYFwQGZmZmZm/nFAZmZmZmZ6c0BmZmZmZvZ0QDQzMzMzc3ZAAAAAAADwd0AAAAAAAGx5QAAAAAAA6HpAzMzMzMxkfEDMzMzMzOB9QM3MzMzMXH9AzczMzMxsgEAzMzMzMyuBQDMzMzMz6YFAMzMzMzOngkCamZmZmWWDQAAAAAAAJIRAAAAAAADihEAAAAAAAKCFQGZmZmZmXoZAzczMzMwch0DNzMzMzNqHQM3MzMzMmIhAMzMzMzNXiUCamZmZmRWKQAAAAAAA1IpAAAAAAACSi0AAAAAAAFCMQGZmZmZmDo1AzczMzMzMjUDNzMzMzIqOQM3MzMzMSI9A\",\"dtype\":\"float64\",\"shape\":[75]}},\"selected\":{\"id\":\"0c5fe0a6-df37-4efb-9bab-96da5b0bdfcb\",\"type\":\"Selection\"},\"selection_policy\":{\"id\":\"e1dc609e-3cd8-4aa9-8d0a-31853b54832c\",\"type\":\"UnionRenderers\"}},\"id\":\"797eb92d-8005-4942-a7b1-e6925a43cb11\",\"type\":\"ColumnDataSource\"},{\"attributes\":{\"label\":{\"value\":\"old CLIRAD (H2012)\"},\"renderers\":[{\"id\":\"7b52ac82-e532-47a8-be7f-6835b0fe156c\",\"type\":\"GlyphRenderer\"},{\"id\":\"ab38e7d1-8f04-4780-af8a-9d36241bbf5f\",\"type\":\"GlyphRenderer\"}]},\"id\":\"888bd041-748e-4fe2-a4ad-bc4c375bcefc\",\"type\":\"LegendItem\"},{\"attributes\":{\"above\":[{\"id\":\"7565135f-2238-4db9-a59d-ba9e528a6eeb\",\"type\":\"Legend\"}],\"below\":[{\"id\":\"35f74f31-69e2-477c-8a80-fc15fc048abf\",\"type\":\"LinearAxis\"}],\"left\":[{\"id\":\"e734a153-7abe-4f0a-97a2-f565f3733838\",\"type\":\"LogAxis\"}],\"plot_width\":300,\"renderers\":[{\"id\":\"35f74f31-69e2-477c-8a80-fc15fc048abf\",\"type\":\"LinearAxis\"},{\"id\":\"3fcf4afd-9a0a-45fb-abec-7e16b919beba\",\"type\":\"Grid\"},{\"id\":\"e734a153-7abe-4f0a-97a2-f565f3733838\",\"type\":\"LogAxis\"},{\"id\":\"b47e8ef2-0cf2-4d38-919b-0f94e62bbd7e\",\"type\":\"Grid\"},{\"id\":\"c345da17-f841-4087-8317-734542b11a64\",\"type\":\"BoxAnnotation\"},{\"id\":\"8f74d8e5-32d8-4df0-bec2-e9192d1b808b\",\"type\":\"GlyphRenderer\"},{\"id\":\"8c0e32b5-770d-46ff-906a-8955f4e8c64b\",\"type\":\"GlyphRenderer\"},{\"id\":\"61d9938b-bf37-4539-af78-25431dee09ee\",\"type\":\"GlyphRenderer\"},{\"id\":\"7565135f-2238-4db9-a59d-ba9e528a6eeb\",\"type\":\"Legend\"}],\"title\":{\"id\":\"bba4fc9c-2445-48cd-a844-d21954847a80\",\"type\":\"Title\"},\"toolbar\":{\"id\":\"15d3b637-8eb8-4e3f-a33b-bbeee67b451a\",\"type\":\"Toolbar\"},\"toolbar_location\":null,\"x_range\":{\"id\":\"c0aeb06e-b25b-4610-97d5-1198a0ff7d13\",\"type\":\"Range1d\"},\"x_scale\":{\"id\":\"ab0cf078-0ee1-4bc1-916f-dfe069e7f993\",\"type\":\"LinearScale\"},\"y_range\":{\"id\":\"88c5ec2f-3988-4979-9a72-73b6d99480a1\",\"type\":\"Range1d\"},\"y_scale\":{\"id\":\"9ab4a101-f442-470e-978e-35181dc0f1c9\",\"type\":\"LogScale\"}},\"id\":\"b7cc4534-be38-4101-bbaa-9a52a5e9e1fc\",\"subtype\":\"Figure\",\"type\":\"Plot\"},{\"attributes\":{},\"id\":\"081fa831-b701-4572-8a7f-83f716d6d6b1\",\"type\":\"LinearScale\"},{\"attributes\":{\"fill_alpha\":{\"value\":0.7},\"fill_color\":{\"value\":\"#984ea3\"},\"line_alpha\":{\"value\":0.7},\"line_color\":{\"value\":\"#984ea3\"},\"x\":{\"field\":\"x\"},\"y\":{\"field\":\"y\"}},\"id\":\"89f02ac4-1147-428c-8355-ad4f5c29022e\",\"type\":\"Square\"},{\"attributes\":{\"line_alpha\":0.1,\"line_color\":\"#1f77b4\",\"line_width\":1.5,\"x\":{\"field\":\"x\"},\"y\":{\"field\":\"y\"}},\"id\":\"639515b9-7ea8-48fc-bfce-7d96414c562c\",\"type\":\"Line\"},{\"attributes\":{\"active_drag\":\"auto\",\"active_inspect\":\"auto\",\"active_scroll\":\"auto\",\"active_tap\":\"auto\",\"tools\":[{\"id\":\"5c7fcb8c-fcc9-4bd6-a84d-364d7a571a44\",\"type\":\"PanTool\"},{\"id\":\"99f49346-776f-4d56-bf99-5810bf378926\",\"type\":\"WheelZoomTool\"},{\"id\":\"bcbe63b4-8f8d-46fc-801d-e80e5f4ac375\",\"type\":\"BoxZoomTool\"},{\"id\":\"57ec8c89-36e8-40db-9d1d-af9e61673cf2\",\"type\":\"SaveTool\"},{\"id\":\"3af5c369-67da-4640-acb6-25e0e7161d0d\",\"type\":\"ResetTool\"},{\"id\":\"83df7dc9-07d8-4f44-b537-a3bb1f17766b\",\"type\":\"HelpTool\"}]},\"id\":\"ff35f4ec-08ba-478c-8ead-a9177c6c859e\",\"type\":\"Toolbar\"},{\"attributes\":{},\"id\":\"4e3b878d-b4fd-40d4-8392-c8886cc5455d\",\"type\":\"Selection\"},{\"attributes\":{\"source\":{\"id\":\"797eb92d-8005-4942-a7b1-e6925a43cb11\",\"type\":\"ColumnDataSource\"}},\"id\":\"982187bd-8568-4525-88c6-0f9ebbc38aa3\",\"type\":\"CDSView\"},{\"attributes\":{\"data_source\":{\"id\":\"d8c0c543-670a-4b0b-87a7-06a5b660cd1e\",\"type\":\"ColumnDataSource\"},\"glyph\":{\"id\":\"8da18e25-926e-4274-bf57-2b8cdd76ad80\",\"type\":\"Line\"},\"hover_glyph\":null,\"muted_glyph\":null,\"nonselection_glyph\":{\"id\":\"d95bd431-fe70-4da7-baa7-c7f19e68cf8f\",\"type\":\"Line\"},\"selection_glyph\":null,\"view\":{\"id\":\"86e44e13-b057-4467-b6ad-e23496a7efc7\",\"type\":\"CDSView\"}},\"id\":\"aba124c3-1071-4801-898b-5c5cd10efa5d\",\"type\":\"GlyphRenderer\"},{\"attributes\":{},\"id\":\"77008f54-e941-41c4-9c96-8a92a2149f7e\",\"type\":\"BasicTickFormatter\"},{\"attributes\":{\"data_source\":{\"id\":\"c1ddf227-96f0-40ba-9fa5-9a0db0f1c3fd\",\"type\":\"ColumnDataSource\"},\"glyph\":{\"id\":\"df54a70d-3211-4bc3-b81a-18b628162318\",\"type\":\"Line\"},\"hover_glyph\":null,\"muted_glyph\":null,\"nonselection_glyph\":{\"id\":\"639515b9-7ea8-48fc-bfce-7d96414c562c\",\"type\":\"Line\"},\"selection_glyph\":null,\"view\":{\"id\":\"c5145119-5c26-4558-a0e8-f83460e4fe84\",\"type\":\"CDSView\"}},\"id\":\"ab38e7d1-8f04-4780-af8a-9d36241bbf5f\",\"type\":\"GlyphRenderer\"},{\"attributes\":{\"line_alpha\":0.5,\"line_color\":\"#984ea3\",\"line_width\":1.5,\"x\":{\"field\":\"x\"},\"y\":{\"field\":\"y\"}},\"id\":\"df54a70d-3211-4bc3-b81a-18b628162318\",\"type\":\"Line\"},{\"attributes\":{\"fill_alpha\":{\"value\":0.1},\"fill_color\":{\"value\":\"#1f77b4\"},\"line_alpha\":{\"value\":0.1},\"line_color\":{\"value\":\"#1f77b4\"},\"x\":{\"field\":\"x\"},\"y\":{\"field\":\"y\"}},\"id\":\"6f44401d-58be-4eee-b946-1f636c6a1847\",\"type\":\"Square\"},{\"attributes\":{\"source\":{\"id\":\"d8c0c543-670a-4b0b-87a7-06a5b660cd1e\",\"type\":\"ColumnDataSource\"}},\"id\":\"86e44e13-b057-4467-b6ad-e23496a7efc7\",\"type\":\"CDSView\"},{\"attributes\":{\"data_source\":{\"id\":\"797eb92d-8005-4942-a7b1-e6925a43cb11\",\"type\":\"ColumnDataSource\"},\"glyph\":{\"id\":\"89f02ac4-1147-428c-8355-ad4f5c29022e\",\"type\":\"Square\"},\"hover_glyph\":null,\"muted_glyph\":null,\"nonselection_glyph\":{\"id\":\"6f44401d-58be-4eee-b946-1f636c6a1847\",\"type\":\"Square\"},\"selection_glyph\":null,\"view\":{\"id\":\"982187bd-8568-4525-88c6-0f9ebbc38aa3\",\"type\":\"CDSView\"}},\"id\":\"7b52ac82-e532-47a8-be7f-6835b0fe156c\",\"type\":\"GlyphRenderer\"},{\"attributes\":{\"label\":{\"value\":\"CRD\"},\"renderers\":[{\"id\":\"c6841874-28c1-4db9-91ba-11712ff2acb7\",\"type\":\"GlyphRenderer\"},{\"id\":\"aba124c3-1071-4801-898b-5c5cd10efa5d\",\"type\":\"GlyphRenderer\"}]},\"id\":\"9514152f-f073-4ecf-bfc2-feb7eae13a9b\",\"type\":\"LegendItem\"},{\"attributes\":{\"line_alpha\":0.6,\"line_color\":\"#377eb8\",\"line_dash\":[6],\"line_width\":5,\"x\":{\"field\":\"x\"},\"y\":{\"field\":\"y\"}},\"id\":\"790b8323-eea3-4869-9f9a-8c39016aa983\",\"type\":\"Line\"}],\"root_ids\":[\"e9ec3997-9c0c-4f41-97f9-cb9108efe589\"]},\"title\":\"Bokeh Application\",\"version\":\"0.12.16\"}};\n",
       "  var render_items = [{\"docid\":\"c6c107c0-059c-4407-b41f-d61739c47981\",\"elementid\":\"bd41b514-809e-45bf-b2d5-82a4c5a219b9\",\"modelid\":\"e9ec3997-9c0c-4f41-97f9-cb9108efe589\"}];\n",
       "  root.Bokeh.embed.embed_items_notebook(docs_json, render_items);\n",
       "\n",
       "  }\n",
       "  if (root.Bokeh !== undefined) {\n",
       "    embed_document(root);\n",
       "  } else {\n",
       "    var attempts = 0;\n",
       "    var timer = setInterval(function(root) {\n",
       "      if (root.Bokeh !== undefined) {\n",
       "        embed_document(root);\n",
       "        clearInterval(timer);\n",
       "      }\n",
       "      attempts++;\n",
       "      if (attempts > 100) {\n",
       "        console.log(\"Bokeh: ERROR: Unable to run BokehJS code because BokehJS library is missing\")\n",
       "        clearInterval(timer);\n",
       "      }\n",
       "    }, 10, root)\n",
       "  }\n",
       "})(window);"
      ],
      "application/vnd.bokehjs_exec.v0+json": ""
     },
     "metadata": {
      "application/vnd.bokehjs_exec.v0+json": {
       "id": "e9ec3997-9c0c-4f41-97f9-cb9108efe589"
      }
     },
     "output_type": "display_data"
    },
    {
     "data": {
      "text/markdown": [
       "*FIGURE.* Cooling rates & difference."
      ],
      "text/plain": [
       "<IPython.core.display.Markdown object>"
      ]
     },
     "metadata": {},
     "output_type": "display_data"
    },
    {
     "data": {
      "text/html": [
       "<a id=\"Fluxes._mls.\"></a>"
      ],
      "text/plain": [
       "<IPython.core.display.HTML object>"
      ]
     },
     "metadata": {},
     "output_type": "display_data"
    },
    {
     "data": {
      "text/markdown": [
       "# Fluxes. mls."
      ],
      "text/plain": [
       "<IPython.core.display.Markdown object>"
      ]
     },
     "metadata": {},
     "output_type": "display_data"
    },
    {
     "data": {
      "text/html": [
       "\n",
       "<div class=\"bk-root\">\n",
       "    <div class=\"bk-plotdiv\" id=\"b7e9ebfd-2b62-4fbd-827f-4c568b5e4478\"></div>\n",
       "</div>"
      ]
     },
     "metadata": {},
     "output_type": "display_data"
    },
    {
     "data": {
      "application/javascript": [
       "(function(root) {\n",
       "  function embed_document(root) {\n",
       "    \n",
       "  var docs_json = {\"9d9b5edb-3259-441e-aa00-8dfe3300b14a\":{\"roots\":{\"references\":[{\"attributes\":{\"plot\":{\"id\":\"52ed0060-234f-4b00-86ae-71e1a5553b20\",\"subtype\":\"Figure\",\"type\":\"Plot\"},\"ticker\":{\"id\":\"026ccdb4-c014-483b-8285-3adb5bea6d6e\",\"type\":\"CategoricalTicker\"}},\"id\":\"63d2b1de-f2cf-4975-a442-8b69e5ee8cd3\",\"type\":\"Grid\"},{\"attributes\":{\"callback\":null,\"factors\":[\"1\",\"2\",\"3\",\"4\",\"5\",\"6\",\"7\",\"8\",\"9\",\"10\",\"11\"]},\"id\":\"f96f9acd-3f21-480b-a44c-6b7545b5c22e\",\"type\":\"FactorRange\"},{\"attributes\":{\"callback\":null,\"data\":{\"band\":[\"1\",\"2\",\"3\",\"4\",\"5\",\"6\",\"7\",\"8\",\"9\",\"10\",\"11\"],\"flux\":{\"__ndarray__\":\"AAAAAyUF9r4AgsR29wDYPwC4H/DAANO/ANyul6YIsD+Ajh6/t+nfPwB0ImabwLM/ALE8WXvplz9ANwHhnkLAP4A0KnCyDcY/AKBF71TAjT8AcGzRXW2APw==\",\"dtype\":\"float64\",\"shape\":[11]}},\"selected\":{\"id\":\"095aea37-ee07-4bda-8dce-fd11acad4a6c\",\"type\":\"Selection\"},\"selection_policy\":{\"id\":\"c092963e-62fc-43f1-8933-38d21c0ef8d0\",\"type\":\"UnionRenderers\"}},\"id\":\"85abb9d8-c463-474d-8463-fe87abc5f369\",\"type\":\"ColumnDataSource\"},{\"attributes\":{\"callback\":null,\"factors\":[\"1\",\"2\",\"3\",\"4\",\"5\",\"6\",\"7\",\"8\",\"9\",\"10\",\"11\"]},\"id\":\"82536d49-a087-4323-ab67-c37168915802\",\"type\":\"FactorRange\"},{\"attributes\":{\"data_source\":{\"id\":\"85abb9d8-c463-474d-8463-fe87abc5f369\",\"type\":\"ColumnDataSource\"},\"glyph\":{\"id\":\"c608ed66-1652-45ef-b559-1300785ae747\",\"type\":\"VBar\"},\"hover_glyph\":null,\"muted_glyph\":null,\"nonselection_glyph\":{\"id\":\"52b05209-d335-4dd3-96ae-656f261f69dd\",\"type\":\"VBar\"},\"selection_glyph\":null,\"view\":{\"id\":\"fab81f55-3cfe-440f-b07a-f3afc5bf9454\",\"type\":\"CDSView\"}},\"id\":\"8ddb6cfe-da8a-4c7d-a80d-280d07352a8a\",\"type\":\"GlyphRenderer\"},{\"attributes\":{},\"id\":\"301cef40-ab06-46b2-b5aa-482c95f91048\",\"type\":\"CategoricalScale\"},{\"attributes\":{\"callback\":null,\"factors\":[\"1\",\"2\",\"3\",\"4\",\"5\",\"6\",\"7\",\"8\",\"9\",\"10\",\"11\"]},\"id\":\"b9038092-599a-4c6d-8ffa-f8019529e4dc\",\"type\":\"FactorRange\"},{\"attributes\":{\"data_source\":{\"id\":\"4896e5fa-8d1c-406e-bf46-de88c296cd01\",\"type\":\"ColumnDataSource\"},\"glyph\":{\"id\":\"c164f8d5-6013-4a79-b268-6650d80660be\",\"type\":\"VBar\"},\"hover_glyph\":null,\"muted_glyph\":null,\"nonselection_glyph\":{\"id\":\"2cd23064-da96-4820-ab50-e2363fa1978b\",\"type\":\"VBar\"},\"selection_glyph\":null,\"view\":{\"id\":\"1263264f-2cdb-4eb8-9eb1-030cfb45b0c8\",\"type\":\"CDSView\"}},\"id\":\"ae8e2035-59d3-4cea-ba62-a6bbc0917d41\",\"type\":\"GlyphRenderer\"},{\"attributes\":{\"plot\":null,\"text\":\"SFC flux. CLIRAD (single-run) - CRD.\"},\"id\":\"277c0084-8f0f-40d3-8f80-68638589abe3\",\"type\":\"Title\"},{\"attributes\":{\"plot\":null,\"text\":\"TOA flux. CLIRAD (single-run) - CRD.\"},\"id\":\"2b058d2b-a4c6-434a-8db8-3e2e7b023131\",\"type\":\"Title\"},{\"attributes\":{},\"id\":\"2ee7d880-9a0b-44c6-a1c7-cd07a8b31c54\",\"type\":\"ResetTool\"},{\"attributes\":{},\"id\":\"0d32fa56-cf4e-41b4-9a1b-8b5ffbadae3c\",\"type\":\"LinearScale\"},{\"attributes\":{\"active_drag\":\"auto\",\"active_inspect\":\"auto\",\"active_scroll\":\"auto\",\"active_tap\":\"auto\",\"tools\":[{\"id\":\"78751c2d-c097-4d3c-aa4d-eeccf1456c31\",\"type\":\"PanTool\"},{\"id\":\"5c438e6a-9095-4ebd-97a0-9407c0980e08\",\"type\":\"WheelZoomTool\"},{\"id\":\"de1448c3-1198-4b91-bf65-4acdc64d308b\",\"type\":\"BoxZoomTool\"},{\"id\":\"247298a6-e385-4157-8616-c46906481759\",\"type\":\"SaveTool\"},{\"id\":\"1888d627-364a-4578-9ac7-690f9e69b603\",\"type\":\"ResetTool\"},{\"id\":\"1bbe1907-241f-4725-a156-b58dc2fd2d70\",\"type\":\"HelpTool\"}]},\"id\":\"c9fa5815-7844-4ded-a19a-83e0de5ed4c3\",\"type\":\"Toolbar\"},{\"attributes\":{\"bottom_units\":\"screen\",\"fill_alpha\":{\"value\":0.5},\"fill_color\":{\"value\":\"lightgrey\"},\"left_units\":\"screen\",\"level\":\"overlay\",\"line_alpha\":{\"value\":1.0},\"line_color\":{\"value\":\"black\"},\"line_dash\":[4,4],\"line_width\":{\"value\":2},\"plot\":null,\"render_mode\":\"css\",\"right_units\":\"screen\",\"top_units\":\"screen\"},\"id\":\"78d61f35-5116-4ab8-b7dc-723b81c63bf7\",\"type\":\"BoxAnnotation\"},{\"attributes\":{},\"id\":\"56bdbea4-1e73-4aff-b140-8ac0491bf27a\",\"type\":\"CategoricalScale\"},{\"attributes\":{\"fill_color\":{\"value\":\"#1f77b4\"},\"line_color\":{\"value\":\"#1f77b4\"},\"top\":{\"field\":\"flux\"},\"width\":{\"value\":0.9},\"x\":{\"field\":\"band\"}},\"id\":\"c164f8d5-6013-4a79-b268-6650d80660be\",\"type\":\"VBar\"},{\"attributes\":{\"below\":[{\"id\":\"0de5c5c8-8357-46f3-9f76-45f242725454\",\"type\":\"CategoricalAxis\"}],\"left\":[{\"id\":\"84283387-bbe3-4f23-a9bc-de66d7c3ba8e\",\"type\":\"LinearAxis\"}],\"plot_height\":300,\"plot_width\":300,\"renderers\":[{\"id\":\"0de5c5c8-8357-46f3-9f76-45f242725454\",\"type\":\"CategoricalAxis\"},{\"id\":\"be9b4edf-3312-40a7-8ba8-5fe9f6b2969f\",\"type\":\"Grid\"},{\"id\":\"84283387-bbe3-4f23-a9bc-de66d7c3ba8e\",\"type\":\"LinearAxis\"},{\"id\":\"18842145-469c-4c87-b8b7-97126f9bb052\",\"type\":\"Grid\"},{\"id\":\"78d61f35-5116-4ab8-b7dc-723b81c63bf7\",\"type\":\"BoxAnnotation\"},{\"id\":\"8ddb6cfe-da8a-4c7d-a80d-280d07352a8a\",\"type\":\"GlyphRenderer\"}],\"title\":{\"id\":\"277c0084-8f0f-40d3-8f80-68638589abe3\",\"type\":\"Title\"},\"toolbar\":{\"id\":\"9b2bef2f-e5a7-4618-afa2-2611a9b90d7d\",\"type\":\"Toolbar\"},\"toolbar_location\":null,\"x_range\":{\"id\":\"f96f9acd-3f21-480b-a44c-6b7545b5c22e\",\"type\":\"FactorRange\"},\"x_scale\":{\"id\":\"3c679728-a684-443a-a218-734af0e31d4e\",\"type\":\"CategoricalScale\"},\"y_range\":{\"id\":\"d5854152-8594-4f88-ac93-9b5bec5df6a0\",\"type\":\"DataRange1d\"},\"y_scale\":{\"id\":\"d2a20402-9c1b-4376-abe8-b53074317090\",\"type\":\"LinearScale\"}},\"id\":\"c45d02f7-e2a5-40e5-83f0-c595eb05c636\",\"subtype\":\"Figure\",\"type\":\"Plot\"},{\"attributes\":{\"dimension\":1,\"plot\":{\"id\":\"52ed0060-234f-4b00-86ae-71e1a5553b20\",\"subtype\":\"Figure\",\"type\":\"Plot\"},\"ticker\":{\"id\":\"c0078bdd-1cfd-461b-bb80-bb1a0c00f5ac\",\"type\":\"BasicTicker\"}},\"id\":\"da3bb6d1-225b-4c72-9146-19fa95aa4bb1\",\"type\":\"Grid\"},{\"attributes\":{},\"id\":\"026ccdb4-c014-483b-8285-3adb5bea6d6e\",\"type\":\"CategoricalTicker\"},{\"attributes\":{\"below\":[{\"id\":\"33a3dcb1-7b4c-48dc-bbc6-6d00b7a8ebe7\",\"type\":\"CategoricalAxis\"}],\"left\":[{\"id\":\"28125f06-6e20-4987-be6e-9f53a1c6701a\",\"type\":\"LinearAxis\"}],\"plot_height\":300,\"plot_width\":300,\"renderers\":[{\"id\":\"33a3dcb1-7b4c-48dc-bbc6-6d00b7a8ebe7\",\"type\":\"CategoricalAxis\"},{\"id\":\"f30a3e7d-1fd5-4522-af40-59fcdcd2c2d1\",\"type\":\"Grid\"},{\"id\":\"28125f06-6e20-4987-be6e-9f53a1c6701a\",\"type\":\"LinearAxis\"},{\"id\":\"4031188d-8844-4082-b699-f8af1c766c03\",\"type\":\"Grid\"},{\"id\":\"00dc4032-bb71-46ae-b823-e6425cf647da\",\"type\":\"BoxAnnotation\"},{\"id\":\"ac5706e2-7cab-4133-a7a5-382fc1b533af\",\"type\":\"GlyphRenderer\"}],\"title\":{\"id\":\"f137c991-5887-4dee-b89e-1c6cd8a4f589\",\"type\":\"Title\"},\"toolbar\":{\"id\":\"c9fa5815-7844-4ded-a19a-83e0de5ed4c3\",\"type\":\"Toolbar\"},\"toolbar_location\":null,\"x_range\":{\"id\":\"b9038092-599a-4c6d-8ffa-f8019529e4dc\",\"type\":\"FactorRange\"},\"x_scale\":{\"id\":\"56bdbea4-1e73-4aff-b140-8ac0491bf27a\",\"type\":\"CategoricalScale\"},\"y_range\":{\"id\":\"10168e62-1136-4384-825a-4cfd43fb4d6f\",\"type\":\"DataRange1d\"},\"y_scale\":{\"id\":\"9b47b695-ef6d-4bc0-878d-a218c70f0a5d\",\"type\":\"LinearScale\"}},\"id\":\"55fe74ef-d04a-406a-9ca4-c1f784740e5c\",\"subtype\":\"Figure\",\"type\":\"Plot\"},{\"attributes\":{\"callback\":null,\"data\":{\"band\":[\"1\",\"2\",\"3\",\"4\",\"5\",\"6\",\"7\",\"8\",\"9\",\"10\",\"11\"],\"flux\":{\"__ndarray__\":\"AEILCRhdyD+AzEHQ0arSP0DMe5xpwtO/gGStodRe0z/ASgaAKm7QPwBwl/2607G/QKz+CMOA2D8AUN8yp8vKPwC2wvS9hpC/YNQ5UPHJwD9AvtXft8awPw==\",\"dtype\":\"float64\",\"shape\":[11]}},\"selected\":{\"id\":\"f8635ba7-bf92-4589-94e8-b4049b526274\",\"type\":\"Selection\"},\"selection_policy\":{\"id\":\"d5316602-2781-4517-b35c-3be822326d41\",\"type\":\"UnionRenderers\"}},\"id\":\"4896e5fa-8d1c-406e-bf46-de88c296cd01\",\"type\":\"ColumnDataSource\"},{\"attributes\":{},\"id\":\"9b47b695-ef6d-4bc0-878d-a218c70f0a5d\",\"type\":\"LinearScale\"},{\"attributes\":{\"source\":{\"id\":\"4896e5fa-8d1c-406e-bf46-de88c296cd01\",\"type\":\"ColumnDataSource\"}},\"id\":\"1263264f-2cdb-4eb8-9eb1-030cfb45b0c8\",\"type\":\"CDSView\"},{\"attributes\":{\"callback\":null},\"id\":\"10168e62-1136-4384-825a-4cfd43fb4d6f\",\"type\":\"DataRange1d\"},{\"attributes\":{\"active_drag\":\"auto\",\"active_inspect\":\"auto\",\"active_scroll\":\"auto\",\"active_tap\":\"auto\",\"tools\":[{\"id\":\"a281b804-6173-4146-9aec-2cd78f1bb92e\",\"type\":\"PanTool\"},{\"id\":\"83c1a137-2846-4fd3-942f-948843bc26b3\",\"type\":\"WheelZoomTool\"},{\"id\":\"7b078961-692c-4cbd-9dea-b8613fc6a18d\",\"type\":\"BoxZoomTool\"},{\"id\":\"28d9f1ba-4e88-4a34-ab9c-0af62f137579\",\"type\":\"SaveTool\"},{\"id\":\"2ee7d880-9a0b-44c6-a1c7-cd07a8b31c54\",\"type\":\"ResetTool\"},{\"id\":\"891bda66-6466-41ce-be4e-f43a5e740235\",\"type\":\"HelpTool\"}]},\"id\":\"9b2bef2f-e5a7-4618-afa2-2611a9b90d7d\",\"type\":\"Toolbar\"},{\"attributes\":{\"callback\":null,\"data\":{\"band\":[\"1\",\"2\",\"3\",\"4\",\"5\",\"6\",\"7\",\"8\",\"9\",\"10\",\"11\"],\"flux\":{\"__ndarray__\":\"AIMde81dyD8AYEI3wVi1vwBYNyirM4i/ANGnfnO5zj9A+KOoM/fOvwBuLCgMysK/AHAlOzYC1z8A/DIYIxK1P8BJ06BoHsi/QL8FwBXcvT8AZ1U6DnKtPw==\",\"dtype\":\"float64\",\"shape\":[11]}},\"selected\":{\"id\":\"08421cb5-8725-4a5d-9781-1f204e7ceb35\",\"type\":\"Selection\"},\"selection_policy\":{\"id\":\"b6d5aa49-f275-43a5-8805-2fd9253af198\",\"type\":\"UnionRenderers\"}},\"id\":\"9e860cb9-2b14-4d1a-9805-a18d2a2352b3\",\"type\":\"ColumnDataSource\"},{\"attributes\":{\"axis_label\":\"spectral band\",\"formatter\":{\"id\":\"d93468f0-4889-448d-9ac5-8485ddfaeff0\",\"type\":\"CategoricalTickFormatter\"},\"plot\":{\"id\":\"55fe74ef-d04a-406a-9ca4-c1f784740e5c\",\"subtype\":\"Figure\",\"type\":\"Plot\"},\"ticker\":{\"id\":\"00fe3a94-ca44-459b-8396-929060440c97\",\"type\":\"CategoricalTicker\"}},\"id\":\"33a3dcb1-7b4c-48dc-bbc6-6d00b7a8ebe7\",\"type\":\"CategoricalAxis\"},{\"attributes\":{\"axis_label\":\"flux (W m-2)\",\"formatter\":{\"id\":\"d678d9bc-3402-4541-9715-0e48d5afadab\",\"type\":\"BasicTickFormatter\"},\"plot\":{\"id\":\"52ed0060-234f-4b00-86ae-71e1a5553b20\",\"subtype\":\"Figure\",\"type\":\"Plot\"},\"ticker\":{\"id\":\"c0078bdd-1cfd-461b-bb80-bb1a0c00f5ac\",\"type\":\"BasicTicker\"}},\"id\":\"3bfaee8d-e312-4e09-afef-80e09437497a\",\"type\":\"LinearAxis\"},{\"attributes\":{\"active_drag\":\"auto\",\"active_inspect\":\"auto\",\"active_scroll\":\"auto\",\"active_tap\":\"auto\",\"tools\":[{\"id\":\"25e4d17c-c329-4040-8759-b0f3f05be583\",\"type\":\"PanTool\"},{\"id\":\"1da0aeda-78e0-4a3d-9181-450167afdc67\",\"type\":\"WheelZoomTool\"},{\"id\":\"e47d107b-c07d-4dc2-b39c-ac52cfde11a6\",\"type\":\"BoxZoomTool\"},{\"id\":\"f653d9e3-ce63-49c9-a67d-16db28f48ab4\",\"type\":\"SaveTool\"},{\"id\":\"9310ab26-70f0-44dc-9295-bb37f289dcdc\",\"type\":\"ResetTool\"},{\"id\":\"efdc9200-e2e8-467c-a021-fde0f7758362\",\"type\":\"HelpTool\"}]},\"id\":\"7d2d4249-fd47-4bdf-a9fe-308cb569c031\",\"type\":\"Toolbar\"},{\"attributes\":{},\"id\":\"f3f5bb25-c787-40d2-b786-be7741687003\",\"type\":\"BasicTickFormatter\"},{\"attributes\":{\"axis_label\":\"spectral band\",\"formatter\":{\"id\":\"bc04d9b9-212a-48b4-b9d9-cf8f9cbd62e6\",\"type\":\"CategoricalTickFormatter\"},\"plot\":{\"id\":\"52ed0060-234f-4b00-86ae-71e1a5553b20\",\"subtype\":\"Figure\",\"type\":\"Plot\"},\"ticker\":{\"id\":\"026ccdb4-c014-483b-8285-3adb5bea6d6e\",\"type\":\"CategoricalTicker\"}},\"id\":\"da5dd2d3-6c5e-4f0c-9330-51a3a5e24634\",\"type\":\"CategoricalAxis\"},{\"attributes\":{},\"id\":\"891bda66-6466-41ce-be4e-f43a5e740235\",\"type\":\"HelpTool\"},{\"attributes\":{\"plot\":null,\"text\":\"Atmosphere heating. CLIRAD (single-run) - CRD.\"},\"id\":\"f137c991-5887-4dee-b89e-1c6cd8a4f589\",\"type\":\"Title\"},{\"attributes\":{\"fill_alpha\":{\"value\":0.1},\"fill_color\":{\"value\":\"#1f77b4\"},\"line_alpha\":{\"value\":0.1},\"line_color\":{\"value\":\"#1f77b4\"},\"top\":{\"field\":\"flux\"},\"width\":{\"value\":0.9},\"x\":{\"field\":\"band\"}},\"id\":\"2cd23064-da96-4820-ab50-e2363fa1978b\",\"type\":\"VBar\"},{\"attributes\":{\"callback\":null},\"id\":\"fe510100-a925-4bad-9c41-b3b8744dac69\",\"type\":\"DataRange1d\"},{\"attributes\":{},\"id\":\"d93468f0-4889-448d-9ac5-8485ddfaeff0\",\"type\":\"CategoricalTickFormatter\"},{\"attributes\":{},\"id\":\"c0078bdd-1cfd-461b-bb80-bb1a0c00f5ac\",\"type\":\"BasicTicker\"},{\"attributes\":{\"overlay\":{\"id\":\"00dc4032-bb71-46ae-b823-e6425cf647da\",\"type\":\"BoxAnnotation\"}},\"id\":\"de1448c3-1198-4b91-bf65-4acdc64d308b\",\"type\":\"BoxZoomTool\"},{\"attributes\":{},\"id\":\"78751c2d-c097-4d3c-aa4d-eeccf1456c31\",\"type\":\"PanTool\"},{\"attributes\":{},\"id\":\"00fe3a94-ca44-459b-8396-929060440c97\",\"type\":\"CategoricalTicker\"},{\"attributes\":{},\"id\":\"247298a6-e385-4157-8616-c46906481759\",\"type\":\"SaveTool\"},{\"attributes\":{},\"id\":\"1da0aeda-78e0-4a3d-9181-450167afdc67\",\"type\":\"WheelZoomTool\"},{\"attributes\":{},\"id\":\"28d9f1ba-4e88-4a34-ab9c-0af62f137579\",\"type\":\"SaveTool\"},{\"attributes\":{},\"id\":\"efdc9200-e2e8-467c-a021-fde0f7758362\",\"type\":\"HelpTool\"},{\"attributes\":{},\"id\":\"bc04d9b9-212a-48b4-b9d9-cf8f9cbd62e6\",\"type\":\"CategoricalTickFormatter\"},{\"attributes\":{},\"id\":\"e456947c-0325-48ba-9ade-a7d0490d1256\",\"type\":\"CategoricalTicker\"},{\"attributes\":{\"tools\":[{\"id\":\"25e4d17c-c329-4040-8759-b0f3f05be583\",\"type\":\"PanTool\"},{\"id\":\"1da0aeda-78e0-4a3d-9181-450167afdc67\",\"type\":\"WheelZoomTool\"},{\"id\":\"e47d107b-c07d-4dc2-b39c-ac52cfde11a6\",\"type\":\"BoxZoomTool\"},{\"id\":\"f653d9e3-ce63-49c9-a67d-16db28f48ab4\",\"type\":\"SaveTool\"},{\"id\":\"9310ab26-70f0-44dc-9295-bb37f289dcdc\",\"type\":\"ResetTool\"},{\"id\":\"efdc9200-e2e8-467c-a021-fde0f7758362\",\"type\":\"HelpTool\"},{\"id\":\"a281b804-6173-4146-9aec-2cd78f1bb92e\",\"type\":\"PanTool\"},{\"id\":\"83c1a137-2846-4fd3-942f-948843bc26b3\",\"type\":\"WheelZoomTool\"},{\"id\":\"7b078961-692c-4cbd-9dea-b8613fc6a18d\",\"type\":\"BoxZoomTool\"},{\"id\":\"28d9f1ba-4e88-4a34-ab9c-0af62f137579\",\"type\":\"SaveTool\"},{\"id\":\"2ee7d880-9a0b-44c6-a1c7-cd07a8b31c54\",\"type\":\"ResetTool\"},{\"id\":\"891bda66-6466-41ce-be4e-f43a5e740235\",\"type\":\"HelpTool\"},{\"id\":\"78751c2d-c097-4d3c-aa4d-eeccf1456c31\",\"type\":\"PanTool\"},{\"id\":\"5c438e6a-9095-4ebd-97a0-9407c0980e08\",\"type\":\"WheelZoomTool\"},{\"id\":\"de1448c3-1198-4b91-bf65-4acdc64d308b\",\"type\":\"BoxZoomTool\"},{\"id\":\"247298a6-e385-4157-8616-c46906481759\",\"type\":\"SaveTool\"},{\"id\":\"1888d627-364a-4578-9ac7-690f9e69b603\",\"type\":\"ResetTool\"},{\"id\":\"1bbe1907-241f-4725-a156-b58dc2fd2d70\",\"type\":\"HelpTool\"}]},\"id\":\"ee050811-c75d-43fd-bced-a236df803d2a\",\"type\":\"ProxyToolbar\"},{\"attributes\":{\"dimension\":1,\"plot\":{\"id\":\"55fe74ef-d04a-406a-9ca4-c1f784740e5c\",\"subtype\":\"Figure\",\"type\":\"Plot\"},\"ticker\":{\"id\":\"2f3b8006-2096-4d1c-9600-a3b5215aa177\",\"type\":\"BasicTicker\"}},\"id\":\"4031188d-8844-4082-b699-f8af1c766c03\",\"type\":\"Grid\"},{\"attributes\":{},\"id\":\"5c438e6a-9095-4ebd-97a0-9407c0980e08\",\"type\":\"WheelZoomTool\"},{\"attributes\":{\"bottom_units\":\"screen\",\"fill_alpha\":{\"value\":0.5},\"fill_color\":{\"value\":\"lightgrey\"},\"left_units\":\"screen\",\"level\":\"overlay\",\"line_alpha\":{\"value\":1.0},\"line_color\":{\"value\":\"black\"},\"line_dash\":[4,4],\"line_width\":{\"value\":2},\"plot\":null,\"render_mode\":\"css\",\"right_units\":\"screen\",\"top_units\":\"screen\"},\"id\":\"e933d69b-f531-4aa6-a872-1b4901b1c13f\",\"type\":\"BoxAnnotation\"},{\"attributes\":{},\"id\":\"095aea37-ee07-4bda-8dce-fd11acad4a6c\",\"type\":\"Selection\"},{\"attributes\":{},\"id\":\"d678d9bc-3402-4541-9715-0e48d5afadab\",\"type\":\"BasicTickFormatter\"},{\"attributes\":{},\"id\":\"1bbe1907-241f-4725-a156-b58dc2fd2d70\",\"type\":\"HelpTool\"},{\"attributes\":{\"plot\":{\"id\":\"c45d02f7-e2a5-40e5-83f0-c595eb05c636\",\"subtype\":\"Figure\",\"type\":\"Plot\"},\"ticker\":{\"id\":\"e456947c-0325-48ba-9ade-a7d0490d1256\",\"type\":\"CategoricalTicker\"}},\"id\":\"be9b4edf-3312-40a7-8ba8-5fe9f6b2969f\",\"type\":\"Grid\"},{\"attributes\":{\"axis_label\":\"flux (W m-2)\",\"formatter\":{\"id\":\"f3f5bb25-c787-40d2-b786-be7741687003\",\"type\":\"BasicTickFormatter\"},\"plot\":{\"id\":\"55fe74ef-d04a-406a-9ca4-c1f784740e5c\",\"subtype\":\"Figure\",\"type\":\"Plot\"},\"ticker\":{\"id\":\"2f3b8006-2096-4d1c-9600-a3b5215aa177\",\"type\":\"BasicTicker\"}},\"id\":\"28125f06-6e20-4987-be6e-9f53a1c6701a\",\"type\":\"LinearAxis\"},{\"attributes\":{},\"id\":\"1888d627-364a-4578-9ac7-690f9e69b603\",\"type\":\"ResetTool\"},{\"attributes\":{\"source\":{\"id\":\"9e860cb9-2b14-4d1a-9805-a18d2a2352b3\",\"type\":\"ColumnDataSource\"}},\"id\":\"eac85edc-8769-42e9-8f92-780dacc87402\",\"type\":\"CDSView\"},{\"attributes\":{},\"id\":\"83c1a137-2846-4fd3-942f-948843bc26b3\",\"type\":\"WheelZoomTool\"},{\"attributes\":{\"bottom_units\":\"screen\",\"fill_alpha\":{\"value\":0.5},\"fill_color\":{\"value\":\"lightgrey\"},\"left_units\":\"screen\",\"level\":\"overlay\",\"line_alpha\":{\"value\":1.0},\"line_color\":{\"value\":\"black\"},\"line_dash\":[4,4],\"line_width\":{\"value\":2},\"plot\":null,\"render_mode\":\"css\",\"right_units\":\"screen\",\"top_units\":\"screen\"},\"id\":\"00dc4032-bb71-46ae-b823-e6425cf647da\",\"type\":\"BoxAnnotation\"},{\"attributes\":{\"children\":[{\"id\":\"27455621-ec21-42ed-a22b-b2e7dc2008a0\",\"type\":\"ToolbarBox\"},{\"id\":\"d577c7e4-271a-4d9b-9ad1-0415d7952802\",\"type\":\"Column\"}]},\"id\":\"01a29383-c33d-41fa-9a97-71d2ddcab388\",\"type\":\"Column\"},{\"attributes\":{\"source\":{\"id\":\"85abb9d8-c463-474d-8463-fe87abc5f369\",\"type\":\"ColumnDataSource\"}},\"id\":\"fab81f55-3cfe-440f-b07a-f3afc5bf9454\",\"type\":\"CDSView\"},{\"attributes\":{\"children\":[{\"id\":\"bb505b43-1a75-4d06-bacb-a443b684f725\",\"type\":\"Row\"}]},\"id\":\"d577c7e4-271a-4d9b-9ad1-0415d7952802\",\"type\":\"Column\"},{\"attributes\":{\"dimension\":1,\"plot\":{\"id\":\"c45d02f7-e2a5-40e5-83f0-c595eb05c636\",\"subtype\":\"Figure\",\"type\":\"Plot\"},\"ticker\":{\"id\":\"e1c5b2c8-6cfd-47cc-8119-8817154ed19a\",\"type\":\"BasicTicker\"}},\"id\":\"18842145-469c-4c87-b8b7-97126f9bb052\",\"type\":\"Grid\"},{\"attributes\":{},\"id\":\"4d3aa398-bc9f-4b0d-88da-068c58934fe7\",\"type\":\"BasicTickFormatter\"},{\"attributes\":{},\"id\":\"f8635ba7-bf92-4589-94e8-b4049b526274\",\"type\":\"Selection\"},{\"attributes\":{},\"id\":\"2f3b8006-2096-4d1c-9600-a3b5215aa177\",\"type\":\"BasicTicker\"},{\"attributes\":{},\"id\":\"e1c5b2c8-6cfd-47cc-8119-8817154ed19a\",\"type\":\"BasicTicker\"},{\"attributes\":{},\"id\":\"d5316602-2781-4517-b35c-3be822326d41\",\"type\":\"UnionRenderers\"},{\"attributes\":{\"axis_label\":\"flux (W m-2)\",\"formatter\":{\"id\":\"4d3aa398-bc9f-4b0d-88da-068c58934fe7\",\"type\":\"BasicTickFormatter\"},\"plot\":{\"id\":\"c45d02f7-e2a5-40e5-83f0-c595eb05c636\",\"subtype\":\"Figure\",\"type\":\"Plot\"},\"ticker\":{\"id\":\"e1c5b2c8-6cfd-47cc-8119-8817154ed19a\",\"type\":\"BasicTicker\"}},\"id\":\"84283387-bbe3-4f23-a9bc-de66d7c3ba8e\",\"type\":\"LinearAxis\"},{\"attributes\":{\"overlay\":{\"id\":\"78d61f35-5116-4ab8-b7dc-723b81c63bf7\",\"type\":\"BoxAnnotation\"}},\"id\":\"7b078961-692c-4cbd-9dea-b8613fc6a18d\",\"type\":\"BoxZoomTool\"},{\"attributes\":{\"fill_alpha\":{\"value\":0.1},\"fill_color\":{\"value\":\"#1f77b4\"},\"line_alpha\":{\"value\":0.1},\"line_color\":{\"value\":\"#1f77b4\"},\"top\":{\"field\":\"flux\"},\"width\":{\"value\":0.9},\"x\":{\"field\":\"band\"}},\"id\":\"d7a4e2ff-d6bd-4bc6-92c4-d651eeb413a8\",\"type\":\"VBar\"},{\"attributes\":{},\"id\":\"a281b804-6173-4146-9aec-2cd78f1bb92e\",\"type\":\"PanTool\"},{\"attributes\":{\"overlay\":{\"id\":\"e933d69b-f531-4aa6-a872-1b4901b1c13f\",\"type\":\"BoxAnnotation\"}},\"id\":\"e47d107b-c07d-4dc2-b39c-ac52cfde11a6\",\"type\":\"BoxZoomTool\"},{\"attributes\":{\"toolbar\":{\"id\":\"ee050811-c75d-43fd-bced-a236df803d2a\",\"type\":\"ProxyToolbar\"},\"toolbar_location\":\"above\"},\"id\":\"27455621-ec21-42ed-a22b-b2e7dc2008a0\",\"type\":\"ToolbarBox\"},{\"attributes\":{\"children\":[{\"id\":\"52ed0060-234f-4b00-86ae-71e1a5553b20\",\"subtype\":\"Figure\",\"type\":\"Plot\"},{\"id\":\"c45d02f7-e2a5-40e5-83f0-c595eb05c636\",\"subtype\":\"Figure\",\"type\":\"Plot\"},{\"id\":\"55fe74ef-d04a-406a-9ca4-c1f784740e5c\",\"subtype\":\"Figure\",\"type\":\"Plot\"}]},\"id\":\"bb505b43-1a75-4d06-bacb-a443b684f725\",\"type\":\"Row\"},{\"attributes\":{},\"id\":\"c092963e-62fc-43f1-8933-38d21c0ef8d0\",\"type\":\"UnionRenderers\"},{\"attributes\":{\"axis_label\":\"spectral band\",\"formatter\":{\"id\":\"9ec41fab-0be0-4517-b866-0be7b3907700\",\"type\":\"CategoricalTickFormatter\"},\"plot\":{\"id\":\"c45d02f7-e2a5-40e5-83f0-c595eb05c636\",\"subtype\":\"Figure\",\"type\":\"Plot\"},\"ticker\":{\"id\":\"e456947c-0325-48ba-9ade-a7d0490d1256\",\"type\":\"CategoricalTicker\"}},\"id\":\"0de5c5c8-8357-46f3-9f76-45f242725454\",\"type\":\"CategoricalAxis\"},{\"attributes\":{\"fill_alpha\":{\"value\":0.1},\"fill_color\":{\"value\":\"#1f77b4\"},\"line_alpha\":{\"value\":0.1},\"line_color\":{\"value\":\"#1f77b4\"},\"top\":{\"field\":\"flux\"},\"width\":{\"value\":0.9},\"x\":{\"field\":\"band\"}},\"id\":\"52b05209-d335-4dd3-96ae-656f261f69dd\",\"type\":\"VBar\"},{\"attributes\":{},\"id\":\"f653d9e3-ce63-49c9-a67d-16db28f48ab4\",\"type\":\"SaveTool\"},{\"attributes\":{},\"id\":\"9310ab26-70f0-44dc-9295-bb37f289dcdc\",\"type\":\"ResetTool\"},{\"attributes\":{\"fill_color\":{\"value\":\"#1f77b4\"},\"line_color\":{\"value\":\"#1f77b4\"},\"top\":{\"field\":\"flux\"},\"width\":{\"value\":0.9},\"x\":{\"field\":\"band\"}},\"id\":\"c608ed66-1652-45ef-b559-1300785ae747\",\"type\":\"VBar\"},{\"attributes\":{\"below\":[{\"id\":\"da5dd2d3-6c5e-4f0c-9330-51a3a5e24634\",\"type\":\"CategoricalAxis\"}],\"left\":[{\"id\":\"3bfaee8d-e312-4e09-afef-80e09437497a\",\"type\":\"LinearAxis\"}],\"plot_height\":300,\"plot_width\":300,\"renderers\":[{\"id\":\"da5dd2d3-6c5e-4f0c-9330-51a3a5e24634\",\"type\":\"CategoricalAxis\"},{\"id\":\"63d2b1de-f2cf-4975-a442-8b69e5ee8cd3\",\"type\":\"Grid\"},{\"id\":\"3bfaee8d-e312-4e09-afef-80e09437497a\",\"type\":\"LinearAxis\"},{\"id\":\"da3bb6d1-225b-4c72-9146-19fa95aa4bb1\",\"type\":\"Grid\"},{\"id\":\"e933d69b-f531-4aa6-a872-1b4901b1c13f\",\"type\":\"BoxAnnotation\"},{\"id\":\"ae8e2035-59d3-4cea-ba62-a6bbc0917d41\",\"type\":\"GlyphRenderer\"}],\"title\":{\"id\":\"2b058d2b-a4c6-434a-8db8-3e2e7b023131\",\"type\":\"Title\"},\"toolbar\":{\"id\":\"7d2d4249-fd47-4bdf-a9fe-308cb569c031\",\"type\":\"Toolbar\"},\"toolbar_location\":null,\"x_range\":{\"id\":\"82536d49-a087-4323-ab67-c37168915802\",\"type\":\"FactorRange\"},\"x_scale\":{\"id\":\"301cef40-ab06-46b2-b5aa-482c95f91048\",\"type\":\"CategoricalScale\"},\"y_range\":{\"id\":\"fe510100-a925-4bad-9c41-b3b8744dac69\",\"type\":\"DataRange1d\"},\"y_scale\":{\"id\":\"0d32fa56-cf4e-41b4-9a1b-8b5ffbadae3c\",\"type\":\"LinearScale\"}},\"id\":\"52ed0060-234f-4b00-86ae-71e1a5553b20\",\"subtype\":\"Figure\",\"type\":\"Plot\"},{\"attributes\":{\"data_source\":{\"id\":\"9e860cb9-2b14-4d1a-9805-a18d2a2352b3\",\"type\":\"ColumnDataSource\"},\"glyph\":{\"id\":\"7adb4b80-1b3b-4bea-a43f-d5720aa62371\",\"type\":\"VBar\"},\"hover_glyph\":null,\"muted_glyph\":null,\"nonselection_glyph\":{\"id\":\"d7a4e2ff-d6bd-4bc6-92c4-d651eeb413a8\",\"type\":\"VBar\"},\"selection_glyph\":null,\"view\":{\"id\":\"eac85edc-8769-42e9-8f92-780dacc87402\",\"type\":\"CDSView\"}},\"id\":\"ac5706e2-7cab-4133-a7a5-382fc1b533af\",\"type\":\"GlyphRenderer\"},{\"attributes\":{},\"id\":\"25e4d17c-c329-4040-8759-b0f3f05be583\",\"type\":\"PanTool\"},{\"attributes\":{},\"id\":\"08421cb5-8725-4a5d-9781-1f204e7ceb35\",\"type\":\"Selection\"},{\"attributes\":{},\"id\":\"b6d5aa49-f275-43a5-8805-2fd9253af198\",\"type\":\"UnionRenderers\"},{\"attributes\":{\"fill_color\":{\"value\":\"#1f77b4\"},\"line_color\":{\"value\":\"#1f77b4\"},\"top\":{\"field\":\"flux\"},\"width\":{\"value\":0.9},\"x\":{\"field\":\"band\"}},\"id\":\"7adb4b80-1b3b-4bea-a43f-d5720aa62371\",\"type\":\"VBar\"},{\"attributes\":{\"plot\":{\"id\":\"55fe74ef-d04a-406a-9ca4-c1f784740e5c\",\"subtype\":\"Figure\",\"type\":\"Plot\"},\"ticker\":{\"id\":\"00fe3a94-ca44-459b-8396-929060440c97\",\"type\":\"CategoricalTicker\"}},\"id\":\"f30a3e7d-1fd5-4522-af40-59fcdcd2c2d1\",\"type\":\"Grid\"},{\"attributes\":{},\"id\":\"3c679728-a684-443a-a218-734af0e31d4e\",\"type\":\"CategoricalScale\"},{\"attributes\":{},\"id\":\"9ec41fab-0be0-4517-b866-0be7b3907700\",\"type\":\"CategoricalTickFormatter\"},{\"attributes\":{},\"id\":\"d2a20402-9c1b-4376-abe8-b53074317090\",\"type\":\"LinearScale\"},{\"attributes\":{\"callback\":null},\"id\":\"d5854152-8594-4f88-ac93-9b5bec5df6a0\",\"type\":\"DataRange1d\"}],\"root_ids\":[\"01a29383-c33d-41fa-9a97-71d2ddcab388\"]},\"title\":\"Bokeh Application\",\"version\":\"0.12.16\"}};\n",
       "  var render_items = [{\"docid\":\"9d9b5edb-3259-441e-aa00-8dfe3300b14a\",\"elementid\":\"b7e9ebfd-2b62-4fbd-827f-4c568b5e4478\",\"modelid\":\"01a29383-c33d-41fa-9a97-71d2ddcab388\"}];\n",
       "  root.Bokeh.embed.embed_items_notebook(docs_json, render_items);\n",
       "\n",
       "  }\n",
       "  if (root.Bokeh !== undefined) {\n",
       "    embed_document(root);\n",
       "  } else {\n",
       "    var attempts = 0;\n",
       "    var timer = setInterval(function(root) {\n",
       "      if (root.Bokeh !== undefined) {\n",
       "        embed_document(root);\n",
       "        clearInterval(timer);\n",
       "      }\n",
       "      attempts++;\n",
       "      if (attempts > 100) {\n",
       "        console.log(\"Bokeh: ERROR: Unable to run BokehJS code because BokehJS library is missing\")\n",
       "        clearInterval(timer);\n",
       "      }\n",
       "    }, 10, root)\n",
       "  }\n",
       "})(window);"
      ],
      "application/vnd.bokehjs_exec.v0+json": ""
     },
     "metadata": {
      "application/vnd.bokehjs_exec.v0+json": {
       "id": "01a29383-c33d-41fa-9a97-71d2ddcab388"
      }
     },
     "output_type": "display_data"
    },
    {
     "data": {
      "text/markdown": [
       "*FIGURE.* Difference between CLIRAD and CRD in TOA, SFC and net atmosphere flux, in each spectral band."
      ],
      "text/plain": [
       "<IPython.core.display.Markdown object>"
      ]
     },
     "metadata": {},
     "output_type": "display_data"
    },
    {
     "data": {
      "text/html": [
       "<div>\n",
       "<style scoped>\n",
       "    .dataframe tbody tr th:only-of-type {\n",
       "        vertical-align: middle;\n",
       "    }\n",
       "\n",
       "    .dataframe tbody tr th {\n",
       "        vertical-align: top;\n",
       "    }\n",
       "\n",
       "    .dataframe thead th {\n",
       "        text-align: right;\n",
       "    }\n",
       "</style>\n",
       "<table border=\"1\" class=\"dataframe\">\n",
       "  <thead>\n",
       "    <tr style=\"text-align: right;\">\n",
       "      <th></th>\n",
       "      <th>OLR flux</th>\n",
       "      <th>SFC flux</th>\n",
       "      <th>ATM heating</th>\n",
       "    </tr>\n",
       "    <tr>\n",
       "      <th>Sum over bands</th>\n",
       "      <th></th>\n",
       "      <th></th>\n",
       "      <th></th>\n",
       "    </tr>\n",
       "  </thead>\n",
       "  <tbody>\n",
       "    <tr>\n",
       "      <th>old CLIRAD - CRD</th>\n",
       "      <td>0.14</td>\n",
       "      <td>2.01</td>\n",
       "      <td>-1.73</td>\n",
       "    </tr>\n",
       "    <tr>\n",
       "      <th>CLIRAD (single-run) - CRD</th>\n",
       "      <td>1.44</td>\n",
       "      <td>1.06</td>\n",
       "      <td>0.37</td>\n",
       "    </tr>\n",
       "    <tr>\n",
       "      <th>CRD</th>\n",
       "      <td>-290.39</td>\n",
       "      <td>308.14</td>\n",
       "      <td>-174.89</td>\n",
       "    </tr>\n",
       "  </tbody>\n",
       "</table>\n",
       "</div>"
      ],
      "text/plain": [
       "                           OLR flux  SFC flux  ATM heating\n",
       "Sum over bands                                            \n",
       "old CLIRAD - CRD               0.14      2.01        -1.73\n",
       "CLIRAD (single-run) - CRD      1.44      1.06         0.37\n",
       "CRD                         -290.39    308.14      -174.89"
      ]
     },
     "metadata": {},
     "output_type": "display_data"
    },
    {
     "data": {
      "text/markdown": [
       "*TABLE.* Difference between CLIRAD and CRD in TOA, SFC and net atmosphere flux, over all spectral bands. CRD's TOA, SFC and net atmosphere flux, over all spectral bands."
      ],
      "text/plain": [
       "<IPython.core.display.Markdown object>"
      ]
     },
     "metadata": {},
     "output_type": "display_data"
    },
    {
     "data": {
      "text/html": [
       "<a id=\"Cooling_rates._saw.\"></a>"
      ],
      "text/plain": [
       "<IPython.core.display.HTML object>"
      ]
     },
     "metadata": {},
     "output_type": "display_data"
    },
    {
     "data": {
      "text/markdown": [
       "# Cooling rates. saw."
      ],
      "text/plain": [
       "<IPython.core.display.Markdown object>"
      ]
     },
     "metadata": {},
     "output_type": "display_data"
    },
    {
     "data": {
      "text/html": [
       "\n",
       "<div class=\"bk-root\">\n",
       "    <div class=\"bk-plotdiv\" id=\"8efb297c-80b8-4ec1-89b8-d366301d8cd1\"></div>\n",
       "</div>"
      ]
     },
     "metadata": {},
     "output_type": "display_data"
    },
    {
     "data": {
      "application/javascript": [
       "(function(root) {\n",
       "  function embed_document(root) {\n",
       "    \n",
       "  var docs_json = {\"df10b442-bf19-4588-9d19-31a2d663d454\":{\"roots\":{\"references\":[{\"attributes\":{},\"id\":\"8a750303-ac93-40eb-9b77-b7a519f8a192\",\"type\":\"HelpTool\"},{\"attributes\":{\"axis_label\":\"pressure [mb]\",\"formatter\":{\"id\":\"100a0d99-9fc6-4a73-ad01-8dcf7d98f1c4\",\"type\":\"BasicTickFormatter\"},\"plot\":{\"id\":\"b525708e-3d78-47df-93ea-443eb1292449\",\"subtype\":\"Figure\",\"type\":\"Plot\"},\"ticker\":{\"id\":\"c378acb4-42bc-441b-828a-cde57fbfa6d5\",\"type\":\"BasicTicker\"}},\"id\":\"2058b787-fc02-4d50-82d6-9f659b2248d7\",\"type\":\"LinearAxis\"},{\"attributes\":{\"label\":{\"value\":\"CRD\"},\"renderers\":[{\"id\":\"add5a976-7032-452e-8a1c-554bb97f9c4d\",\"type\":\"GlyphRenderer\"},{\"id\":\"5fa8a67f-a454-4a1d-a4de-9cdf20cb40ce\",\"type\":\"GlyphRenderer\"}]},\"id\":\"05c1f168-4311-433e-9ac3-52f8fea516d8\",\"type\":\"LegendItem\"},{\"attributes\":{\"axis_label\":\"pressure [mb]\",\"formatter\":{\"id\":\"6b1bf254-a306-4944-9309-ea0f2de4ac07\",\"type\":\"LogTickFormatter\"},\"plot\":{\"id\":\"9917c66f-dc53-49b9-b7c0-301c913e6bf8\",\"subtype\":\"Figure\",\"type\":\"Plot\"},\"ticker\":{\"id\":\"ef42b58b-018e-4c05-aed7-535d7fc4a498\",\"type\":\"LogTicker\"}},\"id\":\"f5eba54c-7eb9-4cca-9cbb-f993b37ce4d4\",\"type\":\"LogAxis\"},{\"attributes\":{\"line_alpha\":0.8,\"line_color\":\"#984ea3\",\"line_width\":1.5,\"x\":{\"field\":\"x\"},\"y\":{\"field\":\"y\"}},\"id\":\"53719917-4810-4bc9-a36a-cb6f941da5bc\",\"type\":\"Line\"},{\"attributes\":{\"dimension\":1,\"plot\":{\"id\":\"b525708e-3d78-47df-93ea-443eb1292449\",\"subtype\":\"Figure\",\"type\":\"Plot\"},\"ticker\":{\"id\":\"c378acb4-42bc-441b-828a-cde57fbfa6d5\",\"type\":\"BasicTicker\"}},\"id\":\"9bc5f1cd-6c8b-499f-b7af-b27dc62948d8\",\"type\":\"Grid\"},{\"attributes\":{},\"id\":\"c378acb4-42bc-441b-828a-cde57fbfa6d5\",\"type\":\"BasicTicker\"},{\"attributes\":{\"callback\":null,\"end\":1.5925615157941,\"start\":0.25183241957589997},\"id\":\"1594d2e8-80ea-4581-8ac6-1e376b02a985\",\"type\":\"Range1d\"},{\"attributes\":{},\"id\":\"48d11b44-b150-482b-9947-ba9fa179521d\",\"type\":\"UnionRenderers\"},{\"attributes\":{\"children\":[{\"id\":\"7f1ac642-b97e-4019-a5a5-25e3d307f75b\",\"type\":\"Row\"}]},\"id\":\"19cdcfdb-633e-41ec-8cf9-5804646979f9\",\"type\":\"Column\"},{\"attributes\":{\"callback\":null,\"data\":{\"x\":{\"__ndarray__\":\"vqV1b5iVQEBniRUI1408QHodlS+yWj5AaajueQL1PkBzqCsoCwc+QJAUvzrUiTtAk1AcojDZN0CQ4jiX0dEzQOTBTc5+gDBALKa3dyJCLUBSHd3kbFEsQG7Dv3Q92ixAtiC24eC3LUA8yLLyoD0tQItnzWFQoipAuPt7tVNJJ0CsLGia63YkQCr98Cpl0iJAcr8HE62kIkC9eua7DLwjQE5pZjYbKyZASWv9fDWsJUCoZfFIHyghQD7Nzo0lYxlAtLqmtxVoE0DB7DN1DrUPQNeJxk7evQpApHk0Sw3PBUCbUhHaMyUCQKE+NsHccP8/vVRVGukF/T+8FZz7vdP4PzG0Sl17KvQ/8lIV4Dsa8T9LBaqK0LzuPxdJQ2idU+w/Rq/LljR25z/SkiWdKCLhP73uQ4lOwt0/I4ru02of3T/DqtrgA5reP88DIXUrQd4/GWtkya/W3D9Kvuhhi1LaP5amyqWV4dI/aPmvWGH10D93EtKvjzbcPzkT5E8zu+M/ARo5UqKw6z+mavrMrSryPwxnB/tKb/U/w8VGyryU9z85BYSKqnP4P+6jNB5mcfg/Ok6G5pRA+D+rwQ3XN/P3PxX01KaOgvc/uPaszbnq9j+iu1Piezn2Pw2ydCTohvU/QKroHRzA9D80OXPOWvHzP1n1zQeRGvM/OdJqX3hR8j9nJFiaKKrxP/v4D99FOPE/jP48+30X8T9By2zwu1rxP5B+kVbQsvE/ENlZV3lo8T9dKvo5wZvvP7hfO+rBm+o/4PBJAnCm5T93Fxxt8lbhP+EnXVR1Edc/\",\"dtype\":\"float64\",\"shape\":[75]},\"y\":{\"__ndarray__\":\"GhExyth1ND/Sv8nbtpRIP2vylNV0PVE/aTum7souWD/At0SJ8fVgPw3Iuahxymc/MSNhhJWvcD/bTfBN02d3P2zb5nxnaoA/CD5h5MAGhz8NmeH1TyaQP+zrCsc9p5Y/LbKd76fGnz/bLW5ISEmmPww9YvTcQq8/JV2OstnstT8Er5Y7M8G+P0c+r3jqkcU/5h99k6ZBzj88bCIzFzjVP4enV8oyxN0//yH99nXg5D8qOpLLf0jtP5kqGJXUifQ/c9cS8kHP/D+/DpwzojQEQIEmwoanVwxA4lgXt9HgE0BSSZ2AJuIbQAMJih9jjiNA5q4l5INuK0AwTKYKRj0zQNv5fmq8/DpAaCJseHrtQkB/+zpwzoxKQM3MzMzMeFJAZmZmZmZqWEAAAAAAAFxeQM3MzMzMJmJAmpmZmZkfZUBmZmZmZhhoQDMzMzMzEWtAAAAAAAAKbkBmZmZmZoFwQM3MzMzM/XFAMzMzMzN6c0CamZmZmfZ0QAAAAAAAc3ZAZmZmZmbvd0DNzMzMzGt5QDMzMzMz6HpAmpmZmZlkfEAAAAAAAOF9QGZmZmZmXX9AZmZmZuZsgECamZmZGSuBQM3MzMxM6YFAAAAAAICngkAzMzMzs2WDQGZmZmbmI4RAmpmZmRnihEDNzMzMTKCFQAAAAACAXoZAMzMzM7Mch0BmZmZm5tqHQJqZmZkZmYhAzczMzExXiUAAAAAAgBWKQDMzMzOz04pAZmZmZuaRi0CamZmZGVCMQM3MzMxMDo1AAAAAAIDMjUAzMzMzs4qOQGZmZmbmSI9A\",\"dtype\":\"float64\",\"shape\":[75]}},\"selected\":{\"id\":\"d317716c-c910-416c-8d69-16b3959928f8\",\"type\":\"Selection\"},\"selection_policy\":{\"id\":\"f42457ca-a576-4323-b77d-54f61c316196\",\"type\":\"UnionRenderers\"}},\"id\":\"800e3dec-2826-4fce-b440-79a0faf045b2\",\"type\":\"ColumnDataSource\"},{\"attributes\":{},\"id\":\"9030b68a-a45e-4ba5-9e82-e77f6d923b28\",\"type\":\"LinearScale\"},{\"attributes\":{},\"id\":\"7c5ba5e5-22cf-41bf-80b8-d51ee0bca993\",\"type\":\"ResetTool\"},{\"attributes\":{\"items\":[{\"id\":\"db4c01d5-6679-4112-bddb-e583aa010677\",\"type\":\"LegendItem\"},{\"id\":\"bfd2b6df-25be-43fc-b148-b50e5a81fc9f\",\"type\":\"LegendItem\"}],\"label_text_font_size\":{\"value\":\"8pt\"},\"location\":\"top_center\",\"orientation\":\"horizontal\",\"plot\":{\"id\":\"b525708e-3d78-47df-93ea-443eb1292449\",\"subtype\":\"Figure\",\"type\":\"Plot\"}},\"id\":\"bbdffe19-60c1-479d-9d43-b91b4e35341f\",\"type\":\"Legend\"},{\"attributes\":{\"callback\":null,\"data\":{\"x\":{\"__ndarray__\":\"46eMdFLeQ8B9d47eavcYwAFqXP0rpwPAScHOCM8a8j96lf6VU5oLQO0RvW3X2A9AGoJd103KBkAP36wbfTjrPxEnm+Kgmu2/jjJkQ7xk+r8Gp82FcRn0v4JJrMvHvtS/a3FUdPWy4D/G+CwESvHuP5LPhhZrDu0/EKFopX0r2T/fSIyUoL3Qv+BYMwRkTOW//diJnDVe5b/kn+HI7FDavw+mer06gcG/xNQ7u1/Qsj+ClLx+uHPBP/WqjAa1prm/kJcSD0lZzb/9g3PiN/ygv7kzir6tV9E/FXtljRTn0T/Xmw9JBPu7P52unb4YHaA/S6lh4WMgxD9r8hHl3+7MP5bjzcDCqsA/s1S5uxjne7/8UgB26GhdPwL3t4VGBrM/eLflLXuzpz+JY5jMAsGZv/WWllLX6LO/Eh/dqhlJtr/aPBekLeqyv+2mBjl3Pq2/q9aJnAYDpr8M+apy3WWbv31qZ+xnuJG/Lnx3/TLfh78uR7c1ts9UvxI97BpXBHe/6irRglq8m7+ZuFnQsbiqvyUrUX4Ef6q/TtD9zO6kor9doGw0ziOjv/9qoVaYfKq/9fL7Ricpqr/7RtrWptukv4BD8d4ldZ6/FQTqA8Dulr/0VNNH+hqSv1JJ0OL7kIa/hq53k+ldgL+y2VzyjRp7v9y5nNmJLoC/OBqte1D9gb9i7CT+x1J/v6CehIT2knC/DKq+b1NuYD8KFW/IbdmEP0pHH0RJgJA/tCj3OFx2lT/karuh2vSYP5hB+AOmm5o/Lcfmg9blmT9tVo1HKLuZP/byeh9rp5g/\",\"dtype\":\"float64\",\"shape\":[75]},\"y\":{\"__ndarray__\":\"GhExyth1ND/Sv8nbtpRIP2vylNV0PVE/aTum7souWD/At0SJ8fVgPw3Iuahxymc/MSNhhJWvcD/bTfBN02d3P2zb5nxnaoA/CD5h5MAGhz8NmeH1TyaQP+zrCsc9p5Y/LbKd76fGnz/bLW5ISEmmPww9YvTcQq8/JV2OstnstT8Er5Y7M8G+P0c+r3jqkcU/5h99k6ZBzj88bCIzFzjVP4enV8oyxN0//yH99nXg5D8qOpLLf0jtP5kqGJXUifQ/c9cS8kHP/D+/DpwzojQEQIEmwoanVwxA4lgXt9HgE0BSSZ2AJuIbQAMJih9jjiNA5q4l5INuK0AwTKYKRj0zQNv5fmq8/DpAaCJseHrtQkB/+zpwzoxKQM3MzMzMeFJAZmZmZmZqWEAAAAAAAFxeQM3MzMzMJmJAmpmZmZkfZUBmZmZmZhhoQDMzMzMzEWtAAAAAAAAKbkBmZmZmZoFwQM3MzMzM/XFAMzMzMzN6c0CamZmZmfZ0QAAAAAAAc3ZAZmZmZmbvd0DNzMzMzGt5QDMzMzMz6HpAmpmZmZlkfEAAAAAAAOF9QGZmZmZmXX9AZmZmZuZsgECamZmZGSuBQM3MzMxM6YFAAAAAAICngkAzMzMzs2WDQGZmZmbmI4RAmpmZmRnihEDNzMzMTKCFQAAAAACAXoZAMzMzM7Mch0BmZmZm5tqHQJqZmZkZmYhAzczMzExXiUAAAAAAgBWKQDMzMzOz04pAZmZmZuaRi0CamZmZGVCMQM3MzMxMDo1AAAAAAIDMjUAzMzMzs4qOQGZmZmbmSI9A\",\"dtype\":\"float64\",\"shape\":[75]}},\"selected\":{\"id\":\"3f92fae0-d28d-4f8c-92af-ad7209d444b1\",\"type\":\"Selection\"},\"selection_policy\":{\"id\":\"03596f5e-2890-4b16-aa62-cb304670f407\",\"type\":\"UnionRenderers\"}},\"id\":\"c9c29984-1a0f-4fbf-9edc-384a8e760406\",\"type\":\"ColumnDataSource\"},{\"attributes\":{},\"id\":\"d4263a74-b802-4b81-bbbc-a16d3698e366\",\"type\":\"PanTool\"},{\"attributes\":{\"plot\":{\"id\":\"9917c66f-dc53-49b9-b7c0-301c913e6bf8\",\"subtype\":\"Figure\",\"type\":\"Plot\"},\"ticker\":{\"id\":\"76539f31-4ceb-47e0-b8ae-f0d76436b43e\",\"type\":\"BasicTicker\"}},\"id\":\"c294f304-3cf8-4e80-97f3-cf3e0a9affab\",\"type\":\"Grid\"},{\"attributes\":{},\"id\":\"43592533-02a8-4c09-a5bf-df3435ec9af7\",\"type\":\"HelpTool\"},{\"attributes\":{},\"id\":\"048a641e-c969-4838-91dd-892aadd05f24\",\"type\":\"PanTool\"},{\"attributes\":{\"plot\":{\"id\":\"b525708e-3d78-47df-93ea-443eb1292449\",\"subtype\":\"Figure\",\"type\":\"Plot\"},\"ticker\":{\"id\":\"129ae085-0b61-45c8-8304-0c351c415cc0\",\"type\":\"BasicTicker\"}},\"id\":\"d15301be-43e7-413b-a6c3-1618b2682974\",\"type\":\"Grid\"},{\"attributes\":{\"overlay\":{\"id\":\"f81a1265-c9d4-401b-9b49-56cb8eeeb83c\",\"type\":\"BoxAnnotation\"}},\"id\":\"43804b05-373f-46bb-a8de-f190ad1dc87b\",\"type\":\"BoxZoomTool\"},{\"attributes\":{},\"id\":\"1984bc55-be99-4acf-9638-8a29cc026b29\",\"type\":\"WheelZoomTool\"},{\"attributes\":{},\"id\":\"195c34a2-9f64-456a-9d8c-a35acc25fcde\",\"type\":\"WheelZoomTool\"},{\"attributes\":{\"dimension\":1,\"plot\":{\"id\":\"9917c66f-dc53-49b9-b7c0-301c913e6bf8\",\"subtype\":\"Figure\",\"type\":\"Plot\"},\"ticker\":{\"id\":\"ef42b58b-018e-4c05-aed7-535d7fc4a498\",\"type\":\"LogTicker\"}},\"id\":\"dabf4043-2805-4f78-875c-9bd8c45ad422\",\"type\":\"Grid\"},{\"attributes\":{\"label\":{\"value\":\"CLIRAD (single-run)\"},\"renderers\":[{\"id\":\"10ecf8a0-e751-4ec4-8d07-2ddf83576b58\",\"type\":\"GlyphRenderer\"}]},\"id\":\"47086017-f2b8-4f38-9d91-35ccafb6468b\",\"type\":\"LegendItem\"},{\"attributes\":{\"axis_label\":\"cooling rate [K/day]\",\"formatter\":{\"id\":\"166fa332-1be0-470a-bf62-74bfc4650b0d\",\"type\":\"BasicTickFormatter\"},\"plot\":{\"id\":\"b525708e-3d78-47df-93ea-443eb1292449\",\"subtype\":\"Figure\",\"type\":\"Plot\"},\"ticker\":{\"id\":\"129ae085-0b61-45c8-8304-0c351c415cc0\",\"type\":\"BasicTicker\"}},\"id\":\"eb673fd2-2dff-4ead-a7bf-b6ff5ff04e41\",\"type\":\"LinearAxis\"},{\"attributes\":{\"overlay\":{\"id\":\"2249a777-321b-4777-a9ef-9a734be3bb69\",\"type\":\"BoxAnnotation\"}},\"id\":\"94ca96d1-9d2b-4882-ae5e-5803aed08ad3\",\"type\":\"BoxZoomTool\"},{\"attributes\":{\"line_alpha\":0.1,\"line_color\":\"#1f77b4\",\"line_dash\":[6],\"line_width\":5,\"x\":{\"field\":\"x\"},\"y\":{\"field\":\"y\"}},\"id\":\"9b43c413-7f9d-4406-86ef-a44fb3688e72\",\"type\":\"Line\"},{\"attributes\":{\"fill_alpha\":{\"value\":0.1},\"fill_color\":{\"value\":\"#1f77b4\"},\"line_alpha\":{\"value\":0.1},\"line_color\":{\"value\":\"#1f77b4\"},\"x\":{\"field\":\"x\"},\"y\":{\"field\":\"y\"}},\"id\":\"8b47c9e8-66ec-4488-a293-8f7af9700e32\",\"type\":\"Circle\"},{\"attributes\":{\"callback\":null,\"data\":{\"x\":{\"__ndarray__\":\"vqV1b5iVQEBniRUI1408QHodlS+yWj5AaajueQL1PkBzqCsoCwc+QJAUvzrUiTtAk1AcojDZN0CQ4jiX0dEzQOTBTc5+gDBALKa3dyJCLUBSHd3kbFEsQG7Dv3Q92ixAtiC24eC3LUA8yLLyoD0tQItnzWFQoipAuPt7tVNJJ0CsLGia63YkQCr98Cpl0iJAcr8HE62kIkC9eua7DLwjQE5pZjYbKyZASWv9fDWsJUCoZfFIHyghQD7Nzo0lYxlAtLqmtxVoE0DB7DN1DrUPQNeJxk7evQpApHk0Sw3PBUCbUhHaMyUCQKE+NsHccP8/vVRVGukF/T+8FZz7vdP4PzG0Sl17KvQ/8lIV4Dsa8T9LBaqK0LzuPxdJQ2idU+w/Rq/LljR25z/SkiWdKCLhP73uQ4lOwt0/I4ru02of3T/DqtrgA5reP88DIXUrQd4/GWtkya/W3D9Kvuhhi1LaP5amyqWV4dI/aPmvWGH10D93EtKvjzbcPzkT5E8zu+M/ARo5UqKw6z+mavrMrSryPwxnB/tKb/U/w8VGyryU9z85BYSKqnP4P+6jNB5mcfg/Ok6G5pRA+D+rwQ3XN/P3PxX01KaOgvc/uPaszbnq9j+iu1Piezn2Pw2ydCTohvU/QKroHRzA9D80OXPOWvHzP1n1zQeRGvM/OdJqX3hR8j9nJFiaKKrxP/v4D99FOPE/jP48+30X8T9By2zwu1rxP5B+kVbQsvE/ENlZV3lo8T9dKvo5wZvvP7hfO+rBm+o/4PBJAnCm5T93Fxxt8lbhP+EnXVR1Edc/\",\"dtype\":\"float64\",\"shape\":[75]},\"y\":{\"__ndarray__\":\"GhExyth1ND/Sv8nbtpRIP2vylNV0PVE/aTum7souWD/At0SJ8fVgPw3Iuahxymc/MSNhhJWvcD/bTfBN02d3P2zb5nxnaoA/CD5h5MAGhz8NmeH1TyaQP+zrCsc9p5Y/LbKd76fGnz/bLW5ISEmmPww9YvTcQq8/JV2OstnstT8Er5Y7M8G+P0c+r3jqkcU/5h99k6ZBzj88bCIzFzjVP4enV8oyxN0//yH99nXg5D8qOpLLf0jtP5kqGJXUifQ/c9cS8kHP/D+/DpwzojQEQIEmwoanVwxA4lgXt9HgE0BSSZ2AJuIbQAMJih9jjiNA5q4l5INuK0AwTKYKRj0zQNv5fmq8/DpAaCJseHrtQkB/+zpwzoxKQM3MzMzMeFJAZmZmZmZqWEAAAAAAAFxeQM3MzMzMJmJAmpmZmZkfZUBmZmZmZhhoQDMzMzMzEWtAAAAAAAAKbkBmZmZmZoFwQM3MzMzM/XFAMzMzMzN6c0CamZmZmfZ0QAAAAAAAc3ZAZmZmZmbvd0DNzMzMzGt5QDMzMzMz6HpAmpmZmZlkfEAAAAAAAOF9QGZmZmZmXX9AZmZmZuZsgECamZmZGSuBQM3MzMxM6YFAAAAAAICngkAzMzMzs2WDQGZmZmbmI4RAmpmZmRnihEDNzMzMTKCFQAAAAACAXoZAMzMzM7Mch0BmZmZm5tqHQJqZmZkZmYhAzczMzExXiUAAAAAAgBWKQDMzMzOz04pAZmZmZuaRi0CamZmZGVCMQM3MzMxMDo1AAAAAAIDMjUAzMzMzs4qOQGZmZmbmSI9A\",\"dtype\":\"float64\",\"shape\":[75]}},\"selected\":{\"id\":\"74473952-5bbb-4216-84fd-81a5055e519e\",\"type\":\"Selection\"},\"selection_policy\":{\"id\":\"48d11b44-b150-482b-9947-ba9fa179521d\",\"type\":\"UnionRenderers\"}},\"id\":\"ee38ddba-2a94-4804-b349-a7cd4f188a8a\",\"type\":\"ColumnDataSource\"},{\"attributes\":{\"bottom_units\":\"screen\",\"fill_alpha\":{\"value\":0.5},\"fill_color\":{\"value\":\"lightgrey\"},\"left_units\":\"screen\",\"level\":\"overlay\",\"line_alpha\":{\"value\":1.0},\"line_color\":{\"value\":\"black\"},\"line_dash\":[4,4],\"line_width\":{\"value\":2},\"plot\":null,\"render_mode\":\"css\",\"right_units\":\"screen\",\"top_units\":\"screen\"},\"id\":\"2249a777-321b-4777-a9ef-9a734be3bb69\",\"type\":\"BoxAnnotation\"},{\"attributes\":{\"data_source\":{\"id\":\"c9c29984-1a0f-4fbf-9edc-384a8e760406\",\"type\":\"ColumnDataSource\"},\"glyph\":{\"id\":\"0fcc2ab3-5d27-4890-94f4-77f04a42354c\",\"type\":\"Circle\"},\"hover_glyph\":null,\"muted_glyph\":null,\"nonselection_glyph\":{\"id\":\"8b47c9e8-66ec-4488-a293-8f7af9700e32\",\"type\":\"Circle\"},\"selection_glyph\":null,\"view\":{\"id\":\"d643481b-6fab-4dc8-a74d-410051817eae\",\"type\":\"CDSView\"}},\"id\":\"caa415d4-887a-4d08-b21a-fe148e32cf58\",\"type\":\"GlyphRenderer\"},{\"attributes\":{},\"id\":\"129ae085-0b61-45c8-8304-0c351c415cc0\",\"type\":\"BasicTicker\"},{\"attributes\":{},\"id\":\"76539f31-4ceb-47e0-b8ae-f0d76436b43e\",\"type\":\"BasicTicker\"},{\"attributes\":{\"line_alpha\":0.6,\"line_color\":\"#377eb8\",\"line_dash\":[6],\"line_width\":5,\"x\":{\"field\":\"x\"},\"y\":{\"field\":\"y\"}},\"id\":\"9775a331-d424-493e-8211-84cc82176c52\",\"type\":\"Line\"},{\"attributes\":{\"callback\":null,\"data\":{\"x\":{\"__ndarray__\":\"46eMdFLeQ8B9d47eavcYwAFqXP0rpwPAScHOCM8a8j96lf6VU5oLQO0RvW3X2A9AGoJd103KBkAP36wbfTjrPxEnm+Kgmu2/jjJkQ7xk+r8Gp82FcRn0v4JJrMvHvtS/a3FUdPWy4D/G+CwESvHuP5LPhhZrDu0/EKFopX0r2T/fSIyUoL3Qv+BYMwRkTOW//diJnDVe5b/kn+HI7FDavw+mer06gcG/xNQ7u1/Qsj+ClLx+uHPBP/WqjAa1prm/kJcSD0lZzb/9g3PiN/ygv7kzir6tV9E/FXtljRTn0T/Xmw9JBPu7P52unb4YHaA/S6lh4WMgxD9r8hHl3+7MP5bjzcDCqsA/s1S5uxjne7/8UgB26GhdPwL3t4VGBrM/eLflLXuzpz+JY5jMAsGZv/WWllLX6LO/Eh/dqhlJtr/aPBekLeqyv+2mBjl3Pq2/q9aJnAYDpr8M+apy3WWbv31qZ+xnuJG/Lnx3/TLfh78uR7c1ts9UvxI97BpXBHe/6irRglq8m7+ZuFnQsbiqvyUrUX4Ef6q/TtD9zO6kor9doGw0ziOjv/9qoVaYfKq/9fL7Ricpqr/7RtrWptukv4BD8d4ldZ6/FQTqA8Dulr/0VNNH+hqSv1JJ0OL7kIa/hq53k+ldgL+y2VzyjRp7v9y5nNmJLoC/OBqte1D9gb9i7CT+x1J/v6CehIT2knC/DKq+b1NuYD8KFW/IbdmEP0pHH0RJgJA/tCj3OFx2lT/karuh2vSYP5hB+AOmm5o/Lcfmg9blmT9tVo1HKLuZP/byeh9rp5g/\",\"dtype\":\"float64\",\"shape\":[75]},\"y\":{\"__ndarray__\":\"GhExyth1ND/Sv8nbtpRIP2vylNV0PVE/aTum7souWD/At0SJ8fVgPw3Iuahxymc/MSNhhJWvcD/bTfBN02d3P2zb5nxnaoA/CD5h5MAGhz8NmeH1TyaQP+zrCsc9p5Y/LbKd76fGnz/bLW5ISEmmPww9YvTcQq8/JV2OstnstT8Er5Y7M8G+P0c+r3jqkcU/5h99k6ZBzj88bCIzFzjVP4enV8oyxN0//yH99nXg5D8qOpLLf0jtP5kqGJXUifQ/c9cS8kHP/D+/DpwzojQEQIEmwoanVwxA4lgXt9HgE0BSSZ2AJuIbQAMJih9jjiNA5q4l5INuK0AwTKYKRj0zQNv5fmq8/DpAaCJseHrtQkB/+zpwzoxKQM3MzMzMeFJAZmZmZmZqWEAAAAAAAFxeQM3MzMzMJmJAmpmZmZkfZUBmZmZmZhhoQDMzMzMzEWtAAAAAAAAKbkBmZmZmZoFwQM3MzMzM/XFAMzMzMzN6c0CamZmZmfZ0QAAAAAAAc3ZAZmZmZmbvd0DNzMzMzGt5QDMzMzMz6HpAmpmZmZlkfEAAAAAAAOF9QGZmZmZmXX9AZmZmZuZsgECamZmZGSuBQM3MzMxM6YFAAAAAAICngkAzMzMzs2WDQGZmZmbmI4RAmpmZmRnihEDNzMzMTKCFQAAAAACAXoZAMzMzM7Mch0BmZmZm5tqHQJqZmZkZmYhAzczMzExXiUAAAAAAgBWKQDMzMzOz04pAZmZmZuaRi0CamZmZGVCMQM3MzMxMDo1AAAAAAIDMjUAzMzMzs4qOQGZmZmbmSI9A\",\"dtype\":\"float64\",\"shape\":[75]}},\"selected\":{\"id\":\"92580d5b-c358-4267-b107-d275f80b442d\",\"type\":\"Selection\"},\"selection_policy\":{\"id\":\"642a4d41-f03c-4d72-82a5-ff4f7c0d8c74\",\"type\":\"UnionRenderers\"}},\"id\":\"2169b0d1-b389-40c1-9664-1456dbac93c2\",\"type\":\"ColumnDataSource\"},{\"attributes\":{\"axis_label\":\"cooling rate [K/day]\",\"formatter\":{\"id\":\"c105d3c4-de3e-40b3-b6f6-58e7649c3f99\",\"type\":\"BasicTickFormatter\"},\"plot\":{\"id\":\"9917c66f-dc53-49b9-b7c0-301c913e6bf8\",\"subtype\":\"Figure\",\"type\":\"Plot\"},\"ticker\":{\"id\":\"76539f31-4ceb-47e0-b8ae-f0d76436b43e\",\"type\":\"BasicTicker\"}},\"id\":\"159a695f-4058-444b-bef0-0bf252b97226\",\"type\":\"LinearAxis\"},{\"attributes\":{\"source\":{\"id\":\"c9c29984-1a0f-4fbf-9edc-384a8e760406\",\"type\":\"ColumnDataSource\"}},\"id\":\"d643481b-6fab-4dc8-a74d-410051817eae\",\"type\":\"CDSView\"},{\"attributes\":{\"bottom_units\":\"screen\",\"fill_alpha\":{\"value\":0.5},\"fill_color\":{\"value\":\"lightgrey\"},\"left_units\":\"screen\",\"level\":\"overlay\",\"line_alpha\":{\"value\":1.0},\"line_color\":{\"value\":\"black\"},\"line_dash\":[4,4],\"line_width\":{\"value\":2},\"plot\":null,\"render_mode\":\"css\",\"right_units\":\"screen\",\"top_units\":\"screen\"},\"id\":\"f81a1265-c9d4-401b-9b49-56cb8eeeb83c\",\"type\":\"BoxAnnotation\"},{\"attributes\":{},\"id\":\"ac7856a6-98e5-47b8-95d4-6ba20be4052d\",\"type\":\"LogScale\"},{\"attributes\":{\"fill_alpha\":{\"value\":0.7},\"fill_color\":{\"value\":\"#984ea3\"},\"line_alpha\":{\"value\":0.7},\"line_color\":{\"value\":\"#984ea3\"},\"x\":{\"field\":\"x\"},\"y\":{\"field\":\"y\"}},\"id\":\"0fcc2ab3-5d27-4890-94f4-77f04a42354c\",\"type\":\"Circle\"},{\"attributes\":{\"callback\":null,\"end\":0.9931197174736404,\"start\":-1.6757590827576396},\"id\":\"23270aa4-24fe-4d51-bed5-d4a72c60980f\",\"type\":\"Range1d\"},{\"attributes\":{},\"id\":\"942fa462-5a95-452a-94d9-9b31e3267dc5\",\"type\":\"SaveTool\"},{\"attributes\":{},\"id\":\"60b9640e-f9b6-4273-b7ec-ccc78d8a6400\",\"type\":\"ResetTool\"},{\"attributes\":{},\"id\":\"8892fc07-517d-45d7-990d-65eb701bcfdd\",\"type\":\"LinearScale\"},{\"attributes\":{},\"id\":\"54351574-41ed-47fb-8451-b2db779bd289\",\"type\":\"LinearScale\"},{\"attributes\":{\"active_drag\":\"auto\",\"active_inspect\":\"auto\",\"active_scroll\":\"auto\",\"active_tap\":\"auto\",\"tools\":[{\"id\":\"048a641e-c969-4838-91dd-892aadd05f24\",\"type\":\"PanTool\"},{\"id\":\"1984bc55-be99-4acf-9638-8a29cc026b29\",\"type\":\"WheelZoomTool\"},{\"id\":\"94ca96d1-9d2b-4882-ae5e-5803aed08ad3\",\"type\":\"BoxZoomTool\"},{\"id\":\"942fa462-5a95-452a-94d9-9b31e3267dc5\",\"type\":\"SaveTool\"},{\"id\":\"7c5ba5e5-22cf-41bf-80b8-d51ee0bca993\",\"type\":\"ResetTool\"},{\"id\":\"43592533-02a8-4c09-a5bf-df3435ec9af7\",\"type\":\"HelpTool\"}]},\"id\":\"4955a711-ff97-408b-a505-2b86f23e3e39\",\"type\":\"Toolbar\"},{\"attributes\":{},\"id\":\"3c0ca194-696a-4760-a0f7-51a08ea78182\",\"type\":\"SaveTool\"},{\"attributes\":{\"num_minor_ticks\":10},\"id\":\"ef42b58b-018e-4c05-aed7-535d7fc4a498\",\"type\":\"LogTicker\"},{\"attributes\":{},\"id\":\"74473952-5bbb-4216-84fd-81a5055e519e\",\"type\":\"Selection\"},{\"attributes\":{\"data_source\":{\"id\":\"74715c0d-8747-4aae-a70f-1be8bdba2415\",\"type\":\"ColumnDataSource\"},\"glyph\":{\"id\":\"a79f895e-7ba2-4563-ac43-0d0e8b6fedae\",\"type\":\"Line\"},\"hover_glyph\":null,\"muted_glyph\":null,\"nonselection_glyph\":{\"id\":\"8db44130-6954-488e-a303-f4fe035002c5\",\"type\":\"Line\"},\"selection_glyph\":null,\"view\":{\"id\":\"41c5b581-cccd-4259-868f-ef9b52cf34c8\",\"type\":\"CDSView\"}},\"id\":\"5fa8a67f-a454-4a1d-a4de-9cdf20cb40ce\",\"type\":\"GlyphRenderer\"},{\"attributes\":{\"line_alpha\":0.1,\"line_color\":\"#1f77b4\",\"line_width\":1.5,\"x\":{\"field\":\"x\"},\"y\":{\"field\":\"y\"}},\"id\":\"8db44130-6954-488e-a303-f4fe035002c5\",\"type\":\"Line\"},{\"attributes\":{\"label\":{\"value\":\"CLIRAD (single-run) - CRD\"},\"renderers\":[{\"id\":\"caa415d4-887a-4d08-b21a-fe148e32cf58\",\"type\":\"GlyphRenderer\"},{\"id\":\"92c737a8-7bf7-430b-ba1c-7a6594bfbb27\",\"type\":\"GlyphRenderer\"}]},\"id\":\"f272df27-a32f-45c7-b737-7bc53fdf46e5\",\"type\":\"LegendItem\"},{\"attributes\":{},\"id\":\"3801d035-7642-472a-ae0a-6af26decf2d2\",\"type\":\"Selection\"},{\"attributes\":{},\"id\":\"3cbb8bc4-fbd1-4efd-bcb5-fecf238db929\",\"type\":\"Selection\"},{\"attributes\":{\"plot\":null,\"text\":\"\"},\"id\":\"ae6d7e19-dd3a-4cae-b760-ff0bfe7f7f69\",\"type\":\"Title\"},{\"attributes\":{},\"id\":\"100a0d99-9fc6-4a73-ad01-8dcf7d98f1c4\",\"type\":\"BasicTickFormatter\"},{\"attributes\":{\"callback\":null,\"data\":{\"x\":{\"__ndarray__\":\"0CYBcvU5UkCik9zf2GVBQF1VoNfLZ0BAVLxhiVXTPUDD1Wu1wJM6QFJyB025jjdAU6Aw5+b/NECYe1uuDfgyQB6bYtVTbTFAPxYSAF1HMEA00pYVm9QuQLolHbMzgC1AntlwirGsLECv+G9SjE4rQJH6ZLBp0ShAsLZQyPd/JkDyjgyf2PwkQLgyNGsrJyRAA13QbJD6I0C8hy0ilI4kQOVTXCEgcSZAovOGvZSGJUBVc/ZmUOIgQOf/6GHAyRlAcE8fAOBSFEDRur1U//gPQGFD9ZbokghAQsqHuSqSA0C91ci3W0UBQCtRQfvz7/4/kh8pntyB+j9t1/n+4TX1P773MAUjFfI/RgzR+CI28T8hBW8WHK7uPzVKjJfU8uk/0FPt4/z65T/wVYqzMPDhPz7K9C5CXuE/8+hSn9hY4T/9PPCkR6rhP1XsIC599OA/66X1nBCX3z/YbRM56QjcPz4dkSQc/dM/S7Wb8Fq00T+/yQdmX0vcP7TrGf476eM/WqNPJoWO7D9qOH1bcwDzP2bw+R5DQ/Y/RLSuQOQp+D8+aif8yAz5P0Wv6eBKRfk/0i2+IN4R+T/ik8QNFZr4PyS5UD5j/Pc/yJ68zXRG9z/2CHPL54H2P59SOhwKtPU/npkP8dfg9D8NlmVcdQz0P80ugRvuOvM/byxiAHN18j9USVZie8nxP5l9lNXYSPE/OB+F0UYP8T8Y7dsUCTHxP3EBgTHPcPE/bfx15p8S8T8FT+xkGtTuP6mdG7rkxuk/pboqTkHX5D/CrN8qGYngP7R4ZaL+htU/\",\"dtype\":\"float64\",\"shape\":[75]},\"y\":{\"__ndarray__\":\"GhExyth1ND/Sv8nbtpRIP2vylNV0PVE/aTum7souWD/At0SJ8fVgPw3Iuahxymc/MSNhhJWvcD/bTfBN02d3P2zb5nxnaoA/CD5h5MAGhz8NmeH1TyaQP+zrCsc9p5Y/LbKd76fGnz/bLW5ISEmmPww9YvTcQq8/JV2OstnstT8Er5Y7M8G+P0c+r3jqkcU/5h99k6ZBzj88bCIzFzjVP4enV8oyxN0//yH99nXg5D8qOpLLf0jtP5kqGJXUifQ/c9cS8kHP/D+/DpwzojQEQIEmwoanVwxA4lgXt9HgE0BSSZ2AJuIbQAMJih9jjiNA5q4l5INuK0AwTKYKRj0zQNv5fmq8/DpAaCJseHrtQkB/+zpwzoxKQM3MzMzMeFJAZmZmZmZqWEAAAAAAAFxeQM3MzMzMJmJAmpmZmZkfZUBmZmZmZhhoQDMzMzMzEWtAAAAAAAAKbkBmZmZmZoFwQM3MzMzM/XFAMzMzMzN6c0CamZmZmfZ0QAAAAAAAc3ZAZmZmZmbvd0DNzMzMzGt5QDMzMzMz6HpAmpmZmZlkfEAAAAAAAOF9QGZmZmZmXX9AZmZmZuZsgECamZmZGSuBQM3MzMxM6YFAAAAAAICngkAzMzMzs2WDQGZmZmbmI4RAmpmZmRnihEDNzMzMTKCFQAAAAACAXoZAMzMzM7Mch0BmZmZm5tqHQJqZmZkZmYhAzczMzExXiUAAAAAAgBWKQDMzMzOz04pAZmZmZuaRi0CamZmZGVCMQM3MzMxMDo1AAAAAAIDMjUAzMzMzs4qOQGZmZmbmSI9A\",\"dtype\":\"float64\",\"shape\":[75]}},\"selected\":{\"id\":\"eaeda759-0bad-4162-9b01-b80b0fb3b4a8\",\"type\":\"Selection\"},\"selection_policy\":{\"id\":\"a0807541-12a6-44e2-8106-da84b7e8b749\",\"type\":\"UnionRenderers\"}},\"id\":\"6a4a4c52-8be9-495a-a3c0-9cd7cd2aab0d\",\"type\":\"ColumnDataSource\"},{\"attributes\":{},\"id\":\"d317716c-c910-416c-8d69-16b3959928f8\",\"type\":\"Selection\"},{\"attributes\":{\"line_color\":\"#4daf4a\",\"line_width\":1.5,\"x\":{\"field\":\"x\"},\"y\":{\"field\":\"y\"}},\"id\":\"a79f895e-7ba2-4563-ac43-0d0e8b6fedae\",\"type\":\"Line\"},{\"attributes\":{},\"id\":\"d58174b5-caba-4357-9acb-156a92980b65\",\"type\":\"Selection\"},{\"attributes\":{},\"id\":\"a0807541-12a6-44e2-8106-da84b7e8b749\",\"type\":\"UnionRenderers\"},{\"attributes\":{\"ticker\":null},\"id\":\"b44e69ae-e812-4a96-a7d5-ebc4c3eb58ff\",\"type\":\"LogTickFormatter\"},{\"attributes\":{\"callback\":null,\"data\":{\"x\":{\"__ndarray__\":\"0CYBcvU5UkCik9zf2GVBQF1VoNfLZ0BAVLxhiVXTPUDD1Wu1wJM6QFJyB025jjdAU6Aw5+b/NECYe1uuDfgyQB6bYtVTbTFAPxYSAF1HMEA00pYVm9QuQLolHbMzgC1AntlwirGsLECv+G9SjE4rQJH6ZLBp0ShAsLZQyPd/JkDyjgyf2PwkQLgyNGsrJyRAA13QbJD6I0C8hy0ilI4kQOVTXCEgcSZAovOGvZSGJUBVc/ZmUOIgQOf/6GHAyRlAcE8fAOBSFEDRur1U//gPQGFD9ZbokghAQsqHuSqSA0C91ci3W0UBQCtRQfvz7/4/kh8pntyB+j9t1/n+4TX1P773MAUjFfI/RgzR+CI28T8hBW8WHK7uPzVKjJfU8uk/0FPt4/z65T/wVYqzMPDhPz7K9C5CXuE/8+hSn9hY4T/9PPCkR6rhP1XsIC599OA/66X1nBCX3z/YbRM56QjcPz4dkSQc/dM/S7Wb8Fq00T+/yQdmX0vcP7TrGf476eM/WqNPJoWO7D9qOH1bcwDzP2bw+R5DQ/Y/RLSuQOQp+D8+aif8yAz5P0Wv6eBKRfk/0i2+IN4R+T/ik8QNFZr4PyS5UD5j/Pc/yJ68zXRG9z/2CHPL54H2P59SOhwKtPU/npkP8dfg9D8NlmVcdQz0P80ugRvuOvM/byxiAHN18j9USVZie8nxP5l9lNXYSPE/OB+F0UYP8T8Y7dsUCTHxP3EBgTHPcPE/bfx15p8S8T8FT+xkGtTuP6mdG7rkxuk/pboqTkHX5D/CrN8qGYngP7R4ZaL+htU/\",\"dtype\":\"float64\",\"shape\":[75]},\"y\":{\"__ndarray__\":\"GhExyth1ND/Sv8nbtpRIP2vylNV0PVE/aTum7souWD/At0SJ8fVgPw3Iuahxymc/MSNhhJWvcD/bTfBN02d3P2zb5nxnaoA/CD5h5MAGhz8NmeH1TyaQP+zrCsc9p5Y/LbKd76fGnz/bLW5ISEmmPww9YvTcQq8/JV2OstnstT8Er5Y7M8G+P0c+r3jqkcU/5h99k6ZBzj88bCIzFzjVP4enV8oyxN0//yH99nXg5D8qOpLLf0jtP5kqGJXUifQ/c9cS8kHP/D+/DpwzojQEQIEmwoanVwxA4lgXt9HgE0BSSZ2AJuIbQAMJih9jjiNA5q4l5INuK0AwTKYKRj0zQNv5fmq8/DpAaCJseHrtQkB/+zpwzoxKQM3MzMzMeFJAZmZmZmZqWEAAAAAAAFxeQM3MzMzMJmJAmpmZmZkfZUBmZmZmZhhoQDMzMzMzEWtAAAAAAAAKbkBmZmZmZoFwQM3MzMzM/XFAMzMzMzN6c0CamZmZmfZ0QAAAAAAAc3ZAZmZmZmbvd0DNzMzMzGt5QDMzMzMz6HpAmpmZmZlkfEAAAAAAAOF9QGZmZmZmXX9AZmZmZuZsgECamZmZGSuBQM3MzMxM6YFAAAAAAICngkAzMzMzs2WDQGZmZmbmI4RAmpmZmRnihEDNzMzMTKCFQAAAAACAXoZAMzMzM7Mch0BmZmZm5tqHQJqZmZkZmYhAzczMzExXiUAAAAAAgBWKQDMzMzOz04pAZmZmZuaRi0CamZmZGVCMQM3MzMxMDo1AAAAAAIDMjUAzMzMzs4qOQGZmZmbmSI9A\",\"dtype\":\"float64\",\"shape\":[75]}},\"selected\":{\"id\":\"d58174b5-caba-4357-9acb-156a92980b65\",\"type\":\"Selection\"},\"selection_policy\":{\"id\":\"3190b943-0f6f-48c8-ac98-cc4187ea4d4e\",\"type\":\"UnionRenderers\"}},\"id\":\"74715c0d-8747-4aae-a70f-1be8bdba2415\",\"type\":\"ColumnDataSource\"},{\"attributes\":{},\"id\":\"f42457ca-a576-4323-b77d-54f61c316196\",\"type\":\"UnionRenderers\"},{\"attributes\":{\"plot\":null,\"text\":\"\"},\"id\":\"beb987f1-4bbd-4e87-a732-34df54455071\",\"type\":\"Title\"},{\"attributes\":{},\"id\":\"166fa332-1be0-470a-bf62-74bfc4650b0d\",\"type\":\"BasicTickFormatter\"},{\"attributes\":{\"data_source\":{\"id\":\"6a4a4c52-8be9-495a-a3c0-9cd7cd2aab0d\",\"type\":\"ColumnDataSource\"},\"glyph\":{\"id\":\"a33b2c6b-3b94-45a3-ba5c-f78e13da3623\",\"type\":\"Circle\"},\"hover_glyph\":null,\"muted_glyph\":null,\"nonselection_glyph\":{\"id\":\"b92d7fdb-d055-4b9f-b5da-6e9444304a0b\",\"type\":\"Circle\"},\"selection_glyph\":null,\"view\":{\"id\":\"a8427340-b44a-4598-9097-a2120e9979b5\",\"type\":\"CDSView\"}},\"id\":\"add5a976-7032-452e-8a1c-554bb97f9c4d\",\"type\":\"GlyphRenderer\"},{\"attributes\":{\"plot\":null,\"text\":\"\"},\"id\":\"fa1cd185-1772-49a9-8662-fcf17fde4361\",\"type\":\"Title\"},{\"attributes\":{\"source\":{\"id\":\"6a4a4c52-8be9-495a-a3c0-9cd7cd2aab0d\",\"type\":\"ColumnDataSource\"}},\"id\":\"a8427340-b44a-4598-9097-a2120e9979b5\",\"type\":\"CDSView\"},{\"attributes\":{\"ticker\":null},\"id\":\"6b1bf254-a306-4944-9309-ea0f2de4ac07\",\"type\":\"LogTickFormatter\"},{\"attributes\":{},\"id\":\"f6410697-16e7-43be-b90e-6b2008ca9c72\",\"type\":\"BasicTickFormatter\"},{\"attributes\":{},\"id\":\"3ca02123-f746-49d6-a59e-c55f4d737257\",\"type\":\"UnionRenderers\"},{\"attributes\":{},\"id\":\"fe388375-1768-4412-96f8-586692c5f277\",\"type\":\"UnionRenderers\"},{\"attributes\":{},\"id\":\"92580d5b-c358-4267-b107-d275f80b442d\",\"type\":\"Selection\"},{\"attributes\":{},\"id\":\"3190b943-0f6f-48c8-ac98-cc4187ea4d4e\",\"type\":\"UnionRenderers\"},{\"attributes\":{},\"id\":\"eaeda759-0bad-4162-9b01-b80b0fb3b4a8\",\"type\":\"Selection\"},{\"attributes\":{},\"id\":\"03596f5e-2890-4b16-aa62-cb304670f407\",\"type\":\"UnionRenderers\"},{\"attributes\":{},\"id\":\"c105d3c4-de3e-40b3-b6f6-58e7649c3f99\",\"type\":\"BasicTickFormatter\"},{\"attributes\":{\"fill_alpha\":{\"value\":0.7},\"fill_color\":{\"value\":\"#4daf4a\"},\"line_alpha\":{\"value\":0.7},\"line_color\":{\"value\":\"#4daf4a\"},\"x\":{\"field\":\"x\"},\"y\":{\"field\":\"y\"}},\"id\":\"a33b2c6b-3b94-45a3-ba5c-f78e13da3623\",\"type\":\"Circle\"},{\"attributes\":{\"callback\":null,\"end\":0.01,\"start\":1020},\"id\":\"2ea5a958-20af-479d-afce-c866bbeb0e16\",\"type\":\"Range1d\"},{\"attributes\":{},\"id\":\"3f92fae0-d28d-4f8c-92af-ad7209d444b1\",\"type\":\"Selection\"},{\"attributes\":{\"source\":{\"id\":\"ee38ddba-2a94-4804-b349-a7cd4f188a8a\",\"type\":\"ColumnDataSource\"}},\"id\":\"ee02c754-272e-45a2-a489-9071a22fa9c6\",\"type\":\"CDSView\"},{\"attributes\":{},\"id\":\"642a4d41-f03c-4d72-82a5-ff4f7c0d8c74\",\"type\":\"UnionRenderers\"},{\"attributes\":{\"children\":[{\"id\":\"342eb5a0-3925-4c63-8fd1-6b97eaff2ccf\",\"type\":\"ToolbarBox\"},{\"id\":\"19cdcfdb-633e-41ec-8cf9-5804646979f9\",\"type\":\"Column\"}]},\"id\":\"040342d0-79f1-4592-8f84-faf077aadbff\",\"type\":\"Column\"},{\"attributes\":{\"toolbar\":{\"id\":\"b25ea6fd-a9bc-4b4b-9670-f75a060591de\",\"type\":\"ProxyToolbar\"},\"toolbar_location\":\"above\"},\"id\":\"342eb5a0-3925-4c63-8fd1-6b97eaff2ccf\",\"type\":\"ToolbarBox\"},{\"attributes\":{\"fill_alpha\":{\"value\":0.1},\"fill_color\":{\"value\":\"#1f77b4\"},\"line_alpha\":{\"value\":0.1},\"line_color\":{\"value\":\"#1f77b4\"},\"x\":{\"field\":\"x\"},\"y\":{\"field\":\"y\"}},\"id\":\"b92d7fdb-d055-4b9f-b5da-6e9444304a0b\",\"type\":\"Circle\"},{\"attributes\":{\"tools\":[{\"id\":\"d4263a74-b802-4b81-bbbc-a16d3698e366\",\"type\":\"PanTool\"},{\"id\":\"195c34a2-9f64-456a-9d8c-a35acc25fcde\",\"type\":\"WheelZoomTool\"},{\"id\":\"43804b05-373f-46bb-a8de-f190ad1dc87b\",\"type\":\"BoxZoomTool\"},{\"id\":\"3c0ca194-696a-4760-a0f7-51a08ea78182\",\"type\":\"SaveTool\"},{\"id\":\"60b9640e-f9b6-4273-b7ec-ccc78d8a6400\",\"type\":\"ResetTool\"},{\"id\":\"8a750303-ac93-40eb-9b77-b7a519f8a192\",\"type\":\"HelpTool\"},{\"id\":\"abcfca93-248f-430f-91df-f2c8e609db63\",\"type\":\"PanTool\"},{\"id\":\"217de5d1-8f83-4e95-b529-902607dd2dc0\",\"type\":\"WheelZoomTool\"},{\"id\":\"207fe2cf-61b5-46c1-9ee6-53983f1136b5\",\"type\":\"BoxZoomTool\"},{\"id\":\"6d9eeaa2-8da7-4946-995c-931e0fb159fe\",\"type\":\"SaveTool\"},{\"id\":\"445395b5-f6ac-47a1-a56d-4ed9d2574019\",\"type\":\"ResetTool\"},{\"id\":\"98d41f90-82e6-469e-b078-f4a61717429b\",\"type\":\"HelpTool\"},{\"id\":\"048a641e-c969-4838-91dd-892aadd05f24\",\"type\":\"PanTool\"},{\"id\":\"1984bc55-be99-4acf-9638-8a29cc026b29\",\"type\":\"WheelZoomTool\"},{\"id\":\"94ca96d1-9d2b-4882-ae5e-5803aed08ad3\",\"type\":\"BoxZoomTool\"},{\"id\":\"942fa462-5a95-452a-94d9-9b31e3267dc5\",\"type\":\"SaveTool\"},{\"id\":\"7c5ba5e5-22cf-41bf-80b8-d51ee0bca993\",\"type\":\"ResetTool\"},{\"id\":\"43592533-02a8-4c09-a5bf-df3435ec9af7\",\"type\":\"HelpTool\"}]},\"id\":\"b25ea6fd-a9bc-4b4b-9670-f75a060591de\",\"type\":\"ProxyToolbar\"},{\"attributes\":{\"axis_label\":\"cooling rate [K/day]\",\"formatter\":{\"id\":\"f6410697-16e7-43be-b90e-6b2008ca9c72\",\"type\":\"BasicTickFormatter\"},\"plot\":{\"id\":\"cc502b90-3ef3-4727-8b3e-3a9ab61556ab\",\"subtype\":\"Figure\",\"type\":\"Plot\"},\"ticker\":{\"id\":\"11634c23-8faa-4997-b31d-a457d980065c\",\"type\":\"BasicTicker\"}},\"id\":\"36e14e0b-61a6-4be0-969e-08ae8bb69ad7\",\"type\":\"LinearAxis\"},{\"attributes\":{},\"id\":\"6d9eeaa2-8da7-4946-995c-931e0fb159fe\",\"type\":\"SaveTool\"},{\"attributes\":{\"axis_label\":\"pressure [mb]\",\"formatter\":{\"id\":\"b44e69ae-e812-4a96-a7d5-ebc4c3eb58ff\",\"type\":\"LogTickFormatter\"},\"plot\":{\"id\":\"cc502b90-3ef3-4727-8b3e-3a9ab61556ab\",\"subtype\":\"Figure\",\"type\":\"Plot\"},\"ticker\":{\"id\":\"0450b5dc-98a8-4a81-ad1a-99aea871b26d\",\"type\":\"LogTicker\"}},\"id\":\"274b5f1f-3d87-4f8a-93cb-8fce18629526\",\"type\":\"LogAxis\"},{\"attributes\":{},\"id\":\"217de5d1-8f83-4e95-b529-902607dd2dc0\",\"type\":\"WheelZoomTool\"},{\"attributes\":{\"active_drag\":\"auto\",\"active_inspect\":\"auto\",\"active_scroll\":\"auto\",\"active_tap\":\"auto\",\"tools\":[{\"id\":\"d4263a74-b802-4b81-bbbc-a16d3698e366\",\"type\":\"PanTool\"},{\"id\":\"195c34a2-9f64-456a-9d8c-a35acc25fcde\",\"type\":\"WheelZoomTool\"},{\"id\":\"43804b05-373f-46bb-a8de-f190ad1dc87b\",\"type\":\"BoxZoomTool\"},{\"id\":\"3c0ca194-696a-4760-a0f7-51a08ea78182\",\"type\":\"SaveTool\"},{\"id\":\"60b9640e-f9b6-4273-b7ec-ccc78d8a6400\",\"type\":\"ResetTool\"},{\"id\":\"8a750303-ac93-40eb-9b77-b7a519f8a192\",\"type\":\"HelpTool\"}]},\"id\":\"253a4926-2734-45de-8eac-0a315fe285e4\",\"type\":\"Toolbar\"},{\"attributes\":{},\"id\":\"445395b5-f6ac-47a1-a56d-4ed9d2574019\",\"type\":\"ResetTool\"},{\"attributes\":{\"above\":[{\"id\":\"bbdffe19-60c1-479d-9d43-b91b4e35341f\",\"type\":\"Legend\"}],\"below\":[{\"id\":\"eb673fd2-2dff-4ead-a7bf-b6ff5ff04e41\",\"type\":\"LinearAxis\"}],\"left\":[{\"id\":\"2058b787-fc02-4d50-82d6-9f659b2248d7\",\"type\":\"LinearAxis\"}],\"plot_width\":300,\"renderers\":[{\"id\":\"eb673fd2-2dff-4ead-a7bf-b6ff5ff04e41\",\"type\":\"LinearAxis\"},{\"id\":\"d15301be-43e7-413b-a6c3-1618b2682974\",\"type\":\"Grid\"},{\"id\":\"2058b787-fc02-4d50-82d6-9f659b2248d7\",\"type\":\"LinearAxis\"},{\"id\":\"9bc5f1cd-6c8b-499f-b7af-b27dc62948d8\",\"type\":\"Grid\"},{\"id\":\"f81a1265-c9d4-401b-9b49-56cb8eeeb83c\",\"type\":\"BoxAnnotation\"},{\"id\":\"26fb6720-6b5a-4c0e-b577-2938dd2b36f7\",\"type\":\"GlyphRenderer\"},{\"id\":\"f81d20db-539a-453a-bec0-edd6ace4137d\",\"type\":\"GlyphRenderer\"},{\"id\":\"a907840b-0f0c-4225-ac3d-2ec9ca9f7ca6\",\"type\":\"GlyphRenderer\"},{\"id\":\"bbdffe19-60c1-479d-9d43-b91b4e35341f\",\"type\":\"Legend\"}],\"title\":{\"id\":\"ae6d7e19-dd3a-4cae-b760-ff0bfe7f7f69\",\"type\":\"Title\"},\"toolbar\":{\"id\":\"253a4926-2734-45de-8eac-0a315fe285e4\",\"type\":\"Toolbar\"},\"toolbar_location\":null,\"x_range\":{\"id\":\"1594d2e8-80ea-4581-8ac6-1e376b02a985\",\"type\":\"Range1d\"},\"x_scale\":{\"id\":\"9030b68a-a45e-4ba5-9e82-e77f6d923b28\",\"type\":\"LinearScale\"},\"y_range\":{\"id\":\"776d7a4d-b6e2-437b-a9ce-3b7723aa906d\",\"type\":\"Range1d\"},\"y_scale\":{\"id\":\"54351574-41ed-47fb-8451-b2db779bd289\",\"type\":\"LinearScale\"}},\"id\":\"b525708e-3d78-47df-93ea-443eb1292449\",\"subtype\":\"Figure\",\"type\":\"Plot\"},{\"attributes\":{\"fill_alpha\":{\"value\":0.7},\"fill_color\":{\"value\":\"#4daf4a\"},\"line_alpha\":{\"value\":0.7},\"line_color\":{\"value\":\"#4daf4a\"},\"x\":{\"field\":\"x\"},\"y\":{\"field\":\"y\"}},\"id\":\"48fedef2-bee8-4f31-9607-23226dcb202b\",\"type\":\"Circle\"},{\"attributes\":{\"overlay\":{\"id\":\"3324bce0-e8af-44b3-9e17-6836da4ed808\",\"type\":\"BoxAnnotation\"}},\"id\":\"207fe2cf-61b5-46c1-9ee6-53983f1136b5\",\"type\":\"BoxZoomTool\"},{\"attributes\":{\"callback\":null,\"end\":0.01,\"start\":1020},\"id\":\"776d7a4d-b6e2-437b-a9ce-3b7723aa906d\",\"type\":\"Range1d\"},{\"attributes\":{\"line_alpha\":0.1,\"line_color\":\"#1f77b4\",\"line_width\":1.5,\"x\":{\"field\":\"x\"},\"y\":{\"field\":\"y\"}},\"id\":\"199471fc-e651-47ed-9d61-503e192bc03b\",\"type\":\"Line\"},{\"attributes\":{},\"id\":\"f8b38fcb-033e-43cc-ac6c-03309723332d\",\"type\":\"LogScale\"},{\"attributes\":{\"fill_alpha\":{\"value\":0.1},\"fill_color\":{\"value\":\"#1f77b4\"},\"line_alpha\":{\"value\":0.1},\"line_color\":{\"value\":\"#1f77b4\"},\"x\":{\"field\":\"x\"},\"y\":{\"field\":\"y\"}},\"id\":\"315d5c85-3674-4ad9-8822-9fb1a0de99ec\",\"type\":\"Circle\"},{\"attributes\":{\"label\":{\"value\":\"CRD\"},\"renderers\":[{\"id\":\"f81d20db-539a-453a-bec0-edd6ace4137d\",\"type\":\"GlyphRenderer\"},{\"id\":\"a907840b-0f0c-4225-ac3d-2ec9ca9f7ca6\",\"type\":\"GlyphRenderer\"}]},\"id\":\"bfd2b6df-25be-43fc-b148-b50e5a81fc9f\",\"type\":\"LegendItem\"},{\"attributes\":{},\"id\":\"80c1ed15-cfdd-4588-8746-714ea57aab2a\",\"type\":\"LinearScale\"},{\"attributes\":{\"items\":[{\"id\":\"f272df27-a32f-45c7-b737-7bc53fdf46e5\",\"type\":\"LegendItem\"}],\"label_text_font_size\":{\"value\":\"8pt\"},\"location\":\"top_center\",\"orientation\":\"horizontal\",\"plot\":{\"id\":\"9917c66f-dc53-49b9-b7c0-301c913e6bf8\",\"subtype\":\"Figure\",\"type\":\"Plot\"}},\"id\":\"b2d7ac9a-b091-4a7e-8537-483691a4cae8\",\"type\":\"Legend\"},{\"attributes\":{\"source\":{\"id\":\"fa9e0dc9-7876-4fbd-9971-dfe3291a7926\",\"type\":\"ColumnDataSource\"}},\"id\":\"7fc15ad1-fc07-47f2-bfe5-8e7d00cffa8a\",\"type\":\"CDSView\"},{\"attributes\":{\"plot\":{\"id\":\"cc502b90-3ef3-4727-8b3e-3a9ab61556ab\",\"subtype\":\"Figure\",\"type\":\"Plot\"},\"ticker\":{\"id\":\"11634c23-8faa-4997-b31d-a457d980065c\",\"type\":\"BasicTicker\"}},\"id\":\"106eb9a1-9f9f-45a0-b851-e13151129cbe\",\"type\":\"Grid\"},{\"attributes\":{\"callback\":null,\"data\":{\"x\":{\"__ndarray__\":\"0CYBcvU5UkCik9zf2GVBQF1VoNfLZ0BAVLxhiVXTPUDD1Wu1wJM6QFJyB025jjdAU6Aw5+b/NECYe1uuDfgyQB6bYtVTbTFAPxYSAF1HMEA00pYVm9QuQLolHbMzgC1AntlwirGsLECv+G9SjE4rQJH6ZLBp0ShAsLZQyPd/JkDyjgyf2PwkQLgyNGsrJyRAA13QbJD6I0C8hy0ilI4kQOVTXCEgcSZAovOGvZSGJUBVc/ZmUOIgQOf/6GHAyRlAcE8fAOBSFEDRur1U//gPQGFD9ZbokghAQsqHuSqSA0C91ci3W0UBQCtRQfvz7/4/kh8pntyB+j9t1/n+4TX1P773MAUjFfI/RgzR+CI28T8hBW8WHK7uPzVKjJfU8uk/0FPt4/z65T/wVYqzMPDhPz7K9C5CXuE/8+hSn9hY4T/9PPCkR6rhP1XsIC599OA/66X1nBCX3z/YbRM56QjcPz4dkSQc/dM/S7Wb8Fq00T+/yQdmX0vcP7TrGf476eM/WqNPJoWO7D9qOH1bcwDzP2bw+R5DQ/Y/RLSuQOQp+D8+aif8yAz5P0Wv6eBKRfk/0i2+IN4R+T/ik8QNFZr4PyS5UD5j/Pc/yJ68zXRG9z/2CHPL54H2P59SOhwKtPU/npkP8dfg9D8NlmVcdQz0P80ugRvuOvM/byxiAHN18j9USVZie8nxP5l9lNXYSPE/OB+F0UYP8T8Y7dsUCTHxP3EBgTHPcPE/bfx15p8S8T8FT+xkGtTuP6mdG7rkxuk/pboqTkHX5D/CrN8qGYngP7R4ZaL+htU/\",\"dtype\":\"float64\",\"shape\":[75]},\"y\":{\"__ndarray__\":\"GhExyth1ND/Sv8nbtpRIP2vylNV0PVE/aTum7souWD/At0SJ8fVgPw3Iuahxymc/MSNhhJWvcD/bTfBN02d3P2zb5nxnaoA/CD5h5MAGhz8NmeH1TyaQP+zrCsc9p5Y/LbKd76fGnz/bLW5ISEmmPww9YvTcQq8/JV2OstnstT8Er5Y7M8G+P0c+r3jqkcU/5h99k6ZBzj88bCIzFzjVP4enV8oyxN0//yH99nXg5D8qOpLLf0jtP5kqGJXUifQ/c9cS8kHP/D+/DpwzojQEQIEmwoanVwxA4lgXt9HgE0BSSZ2AJuIbQAMJih9jjiNA5q4l5INuK0AwTKYKRj0zQNv5fmq8/DpAaCJseHrtQkB/+zpwzoxKQM3MzMzMeFJAZmZmZmZqWEAAAAAAAFxeQM3MzMzMJmJAmpmZmZkfZUBmZmZmZhhoQDMzMzMzEWtAAAAAAAAKbkBmZmZmZoFwQM3MzMzM/XFAMzMzMzN6c0CamZmZmfZ0QAAAAAAAc3ZAZmZmZmbvd0DNzMzMzGt5QDMzMzMz6HpAmpmZmZlkfEAAAAAAAOF9QGZmZmZmXX9AZmZmZuZsgECamZmZGSuBQM3MzMxM6YFAAAAAAICngkAzMzMzs2WDQGZmZmbmI4RAmpmZmRnihEDNzMzMTKCFQAAAAACAXoZAMzMzM7Mch0BmZmZm5tqHQJqZmZkZmYhAzczMzExXiUAAAAAAgBWKQDMzMzOz04pAZmZmZuaRi0CamZmZGVCMQM3MzMxMDo1AAAAAAIDMjUAzMzMzs4qOQGZmZmbmSI9A\",\"dtype\":\"float64\",\"shape\":[75]}},\"selected\":{\"id\":\"3cbb8bc4-fbd1-4efd-bcb5-fecf238db929\",\"type\":\"Selection\"},\"selection_policy\":{\"id\":\"fe388375-1768-4412-96f8-586692c5f277\",\"type\":\"UnionRenderers\"}},\"id\":\"fa9e0dc9-7876-4fbd-9971-dfe3291a7926\",\"type\":\"ColumnDataSource\"},{\"attributes\":{\"children\":[{\"id\":\"b525708e-3d78-47df-93ea-443eb1292449\",\"subtype\":\"Figure\",\"type\":\"Plot\"},{\"id\":\"cc502b90-3ef3-4727-8b3e-3a9ab61556ab\",\"subtype\":\"Figure\",\"type\":\"Plot\"},{\"id\":\"9917c66f-dc53-49b9-b7c0-301c913e6bf8\",\"subtype\":\"Figure\",\"type\":\"Plot\"}]},\"id\":\"7f1ac642-b97e-4019-a5a5-25e3d307f75b\",\"type\":\"Row\"},{\"attributes\":{\"label\":{\"value\":\"CLIRAD (single-run)\"},\"renderers\":[{\"id\":\"26fb6720-6b5a-4c0e-b577-2938dd2b36f7\",\"type\":\"GlyphRenderer\"}]},\"id\":\"db4c01d5-6679-4112-bddb-e583aa010677\",\"type\":\"LegendItem\"},{\"attributes\":{\"callback\":null,\"data\":{\"x\":{\"__ndarray__\":\"0CYBcvU5UkCik9zf2GVBQF1VoNfLZ0BAVLxhiVXTPUDD1Wu1wJM6QFJyB025jjdAU6Aw5+b/NECYe1uuDfgyQB6bYtVTbTFAPxYSAF1HMEA00pYVm9QuQLolHbMzgC1AntlwirGsLECv+G9SjE4rQJH6ZLBp0ShAsLZQyPd/JkDyjgyf2PwkQLgyNGsrJyRAA13QbJD6I0C8hy0ilI4kQOVTXCEgcSZAovOGvZSGJUBVc/ZmUOIgQOf/6GHAyRlAcE8fAOBSFEDRur1U//gPQGFD9ZbokghAQsqHuSqSA0C91ci3W0UBQCtRQfvz7/4/kh8pntyB+j9t1/n+4TX1P773MAUjFfI/RgzR+CI28T8hBW8WHK7uPzVKjJfU8uk/0FPt4/z65T/wVYqzMPDhPz7K9C5CXuE/8+hSn9hY4T/9PPCkR6rhP1XsIC599OA/66X1nBCX3z/YbRM56QjcPz4dkSQc/dM/S7Wb8Fq00T+/yQdmX0vcP7TrGf476eM/WqNPJoWO7D9qOH1bcwDzP2bw+R5DQ/Y/RLSuQOQp+D8+aif8yAz5P0Wv6eBKRfk/0i2+IN4R+T/ik8QNFZr4PyS5UD5j/Pc/yJ68zXRG9z/2CHPL54H2P59SOhwKtPU/npkP8dfg9D8NlmVcdQz0P80ugRvuOvM/byxiAHN18j9USVZie8nxP5l9lNXYSPE/OB+F0UYP8T8Y7dsUCTHxP3EBgTHPcPE/bfx15p8S8T8FT+xkGtTuP6mdG7rkxuk/pboqTkHX5D/CrN8qGYngP7R4ZaL+htU/\",\"dtype\":\"float64\",\"shape\":[75]},\"y\":{\"__ndarray__\":\"GhExyth1ND/Sv8nbtpRIP2vylNV0PVE/aTum7souWD/At0SJ8fVgPw3Iuahxymc/MSNhhJWvcD/bTfBN02d3P2zb5nxnaoA/CD5h5MAGhz8NmeH1TyaQP+zrCsc9p5Y/LbKd76fGnz/bLW5ISEmmPww9YvTcQq8/JV2OstnstT8Er5Y7M8G+P0c+r3jqkcU/5h99k6ZBzj88bCIzFzjVP4enV8oyxN0//yH99nXg5D8qOpLLf0jtP5kqGJXUifQ/c9cS8kHP/D+/DpwzojQEQIEmwoanVwxA4lgXt9HgE0BSSZ2AJuIbQAMJih9jjiNA5q4l5INuK0AwTKYKRj0zQNv5fmq8/DpAaCJseHrtQkB/+zpwzoxKQM3MzMzMeFJAZmZmZmZqWEAAAAAAAFxeQM3MzMzMJmJAmpmZmZkfZUBmZmZmZhhoQDMzMzMzEWtAAAAAAAAKbkBmZmZmZoFwQM3MzMzM/XFAMzMzMzN6c0CamZmZmfZ0QAAAAAAAc3ZAZmZmZmbvd0DNzMzMzGt5QDMzMzMz6HpAmpmZmZlkfEAAAAAAAOF9QGZmZmZmXX9AZmZmZuZsgECamZmZGSuBQM3MzMxM6YFAAAAAAICngkAzMzMzs2WDQGZmZmbmI4RAmpmZmRnihEDNzMzMTKCFQAAAAACAXoZAMzMzM7Mch0BmZmZm5tqHQJqZmZkZmYhAzczMzExXiUAAAAAAgBWKQDMzMzOz04pAZmZmZuaRi0CamZmZGVCMQM3MzMxMDo1AAAAAAIDMjUAzMzMzs4qOQGZmZmbmSI9A\",\"dtype\":\"float64\",\"shape\":[75]}},\"selected\":{\"id\":\"3801d035-7642-472a-ae0a-6af26decf2d2\",\"type\":\"Selection\"},\"selection_policy\":{\"id\":\"3ca02123-f746-49d6-a59e-c55f4d737257\",\"type\":\"UnionRenderers\"}},\"id\":\"94eed735-128b-4c94-ba3c-cea06e5588f5\",\"type\":\"ColumnDataSource\"},{\"attributes\":{\"active_drag\":\"auto\",\"active_inspect\":\"auto\",\"active_scroll\":\"auto\",\"active_tap\":\"auto\",\"tools\":[{\"id\":\"abcfca93-248f-430f-91df-f2c8e609db63\",\"type\":\"PanTool\"},{\"id\":\"217de5d1-8f83-4e95-b529-902607dd2dc0\",\"type\":\"WheelZoomTool\"},{\"id\":\"207fe2cf-61b5-46c1-9ee6-53983f1136b5\",\"type\":\"BoxZoomTool\"},{\"id\":\"6d9eeaa2-8da7-4946-995c-931e0fb159fe\",\"type\":\"SaveTool\"},{\"id\":\"445395b5-f6ac-47a1-a56d-4ed9d2574019\",\"type\":\"ResetTool\"},{\"id\":\"98d41f90-82e6-469e-b078-f4a61717429b\",\"type\":\"HelpTool\"}]},\"id\":\"ac68bba8-2dd7-4d68-8528-1bef48dfbc8e\",\"type\":\"Toolbar\"},{\"attributes\":{\"callback\":null,\"end\":0.01,\"start\":1020},\"id\":\"51cd0814-6c54-436c-a625-9cb423eab48c\",\"type\":\"Range1d\"},{\"attributes\":{},\"id\":\"98d41f90-82e6-469e-b078-f4a61717429b\",\"type\":\"HelpTool\"},{\"attributes\":{\"source\":{\"id\":\"2169b0d1-b389-40c1-9664-1456dbac93c2\",\"type\":\"ColumnDataSource\"}},\"id\":\"9b752796-00f5-47f0-b877-31c1e446711d\",\"type\":\"CDSView\"},{\"attributes\":{\"items\":[{\"id\":\"47086017-f2b8-4f38-9d91-35ccafb6468b\",\"type\":\"LegendItem\"},{\"id\":\"05c1f168-4311-433e-9ac3-52f8fea516d8\",\"type\":\"LegendItem\"}],\"label_text_font_size\":{\"value\":\"8pt\"},\"location\":\"top_center\",\"orientation\":\"horizontal\",\"plot\":{\"id\":\"cc502b90-3ef3-4727-8b3e-3a9ab61556ab\",\"subtype\":\"Figure\",\"type\":\"Plot\"}},\"id\":\"cf0cae48-5b84-4ec9-b22e-bf22e7882edb\",\"type\":\"Legend\"},{\"attributes\":{\"line_alpha\":0.1,\"line_color\":\"#1f77b4\",\"line_width\":1.5,\"x\":{\"field\":\"x\"},\"y\":{\"field\":\"y\"}},\"id\":\"c90a1818-1135-47df-a7d2-fd62d9d9e38a\",\"type\":\"Line\"},{\"attributes\":{\"data_source\":{\"id\":\"94eed735-128b-4c94-ba3c-cea06e5588f5\",\"type\":\"ColumnDataSource\"},\"glyph\":{\"id\":\"48fedef2-bee8-4f31-9607-23226dcb202b\",\"type\":\"Circle\"},\"hover_glyph\":null,\"muted_glyph\":null,\"nonselection_glyph\":{\"id\":\"315d5c85-3674-4ad9-8822-9fb1a0de99ec\",\"type\":\"Circle\"},\"selection_glyph\":null,\"view\":{\"id\":\"6727b54d-2295-4f7a-bd1c-767676f8eb98\",\"type\":\"CDSView\"}},\"id\":\"f81d20db-539a-453a-bec0-edd6ace4137d\",\"type\":\"GlyphRenderer\"},{\"attributes\":{\"dimension\":1,\"plot\":{\"id\":\"cc502b90-3ef3-4727-8b3e-3a9ab61556ab\",\"subtype\":\"Figure\",\"type\":\"Plot\"},\"ticker\":{\"id\":\"0450b5dc-98a8-4a81-ad1a-99aea871b26d\",\"type\":\"LogTicker\"}},\"id\":\"c7009282-05ed-4d86-974a-0d61a87f6d2f\",\"type\":\"Grid\"},{\"attributes\":{\"source\":{\"id\":\"94eed735-128b-4c94-ba3c-cea06e5588f5\",\"type\":\"ColumnDataSource\"}},\"id\":\"6727b54d-2295-4f7a-bd1c-767676f8eb98\",\"type\":\"CDSView\"},{\"attributes\":{\"callback\":null,\"end\":16.437000024214036,\"start\":0.29680535696996},\"id\":\"4fd3811b-5324-4da6-925d-e1da74730a70\",\"type\":\"Range1d\"},{\"attributes\":{\"line_color\":\"#4daf4a\",\"line_width\":1.5,\"x\":{\"field\":\"x\"},\"y\":{\"field\":\"y\"}},\"id\":\"fd4ec110-9ab4-42a5-9c90-349ad42f9bd4\",\"type\":\"Line\"},{\"attributes\":{\"data_source\":{\"id\":\"800e3dec-2826-4fce-b440-79a0faf045b2\",\"type\":\"ColumnDataSource\"},\"glyph\":{\"id\":\"9775a331-d424-493e-8211-84cc82176c52\",\"type\":\"Line\"},\"hover_glyph\":null,\"muted_glyph\":null,\"nonselection_glyph\":{\"id\":\"9b43c413-7f9d-4406-86ef-a44fb3688e72\",\"type\":\"Line\"},\"selection_glyph\":null,\"view\":{\"id\":\"7c19a0a6-ccc2-4f5c-bee3-9c94431e3521\",\"type\":\"CDSView\"}},\"id\":\"26fb6720-6b5a-4c0e-b577-2938dd2b36f7\",\"type\":\"GlyphRenderer\"},{\"attributes\":{},\"id\":\"abcfca93-248f-430f-91df-f2c8e609db63\",\"type\":\"PanTool\"},{\"attributes\":{\"bottom_units\":\"screen\",\"fill_alpha\":{\"value\":0.5},\"fill_color\":{\"value\":\"lightgrey\"},\"left_units\":\"screen\",\"level\":\"overlay\",\"line_alpha\":{\"value\":1.0},\"line_color\":{\"value\":\"black\"},\"line_dash\":[4,4],\"line_width\":{\"value\":2},\"plot\":null,\"render_mode\":\"css\",\"right_units\":\"screen\",\"top_units\":\"screen\"},\"id\":\"3324bce0-e8af-44b3-9e17-6836da4ed808\",\"type\":\"BoxAnnotation\"},{\"attributes\":{\"source\":{\"id\":\"800e3dec-2826-4fce-b440-79a0faf045b2\",\"type\":\"ColumnDataSource\"}},\"id\":\"7c19a0a6-ccc2-4f5c-bee3-9c94431e3521\",\"type\":\"CDSView\"},{\"attributes\":{\"num_minor_ticks\":10},\"id\":\"0450b5dc-98a8-4a81-ad1a-99aea871b26d\",\"type\":\"LogTicker\"},{\"attributes\":{\"source\":{\"id\":\"74715c0d-8747-4aae-a70f-1be8bdba2415\",\"type\":\"ColumnDataSource\"}},\"id\":\"41c5b581-cccd-4259-868f-ef9b52cf34c8\",\"type\":\"CDSView\"},{\"attributes\":{\"line_alpha\":0.6,\"line_color\":\"#377eb8\",\"line_dash\":[6],\"line_width\":5,\"x\":{\"field\":\"x\"},\"y\":{\"field\":\"y\"}},\"id\":\"6c52e5ce-1229-4858-accf-fd46b84fa391\",\"type\":\"Line\"},{\"attributes\":{\"data_source\":{\"id\":\"fa9e0dc9-7876-4fbd-9971-dfe3291a7926\",\"type\":\"ColumnDataSource\"},\"glyph\":{\"id\":\"fd4ec110-9ab4-42a5-9c90-349ad42f9bd4\",\"type\":\"Line\"},\"hover_glyph\":null,\"muted_glyph\":null,\"nonselection_glyph\":{\"id\":\"199471fc-e651-47ed-9d61-503e192bc03b\",\"type\":\"Line\"},\"selection_glyph\":null,\"view\":{\"id\":\"7fc15ad1-fc07-47f2-bfe5-8e7d00cffa8a\",\"type\":\"CDSView\"}},\"id\":\"a907840b-0f0c-4225-ac3d-2ec9ca9f7ca6\",\"type\":\"GlyphRenderer\"},{\"attributes\":{},\"id\":\"11634c23-8faa-4997-b31d-a457d980065c\",\"type\":\"BasicTicker\"},{\"attributes\":{\"data_source\":{\"id\":\"2169b0d1-b389-40c1-9664-1456dbac93c2\",\"type\":\"ColumnDataSource\"},\"glyph\":{\"id\":\"53719917-4810-4bc9-a36a-cb6f941da5bc\",\"type\":\"Line\"},\"hover_glyph\":null,\"muted_glyph\":null,\"nonselection_glyph\":{\"id\":\"c90a1818-1135-47df-a7d2-fd62d9d9e38a\",\"type\":\"Line\"},\"selection_glyph\":null,\"view\":{\"id\":\"9b752796-00f5-47f0-b877-31c1e446711d\",\"type\":\"CDSView\"}},\"id\":\"92c737a8-7bf7-430b-ba1c-7a6594bfbb27\",\"type\":\"GlyphRenderer\"},{\"attributes\":{\"data_source\":{\"id\":\"ee38ddba-2a94-4804-b349-a7cd4f188a8a\",\"type\":\"ColumnDataSource\"},\"glyph\":{\"id\":\"6c52e5ce-1229-4858-accf-fd46b84fa391\",\"type\":\"Line\"},\"hover_glyph\":null,\"muted_glyph\":null,\"nonselection_glyph\":{\"id\":\"7991e696-dee0-4b22-bb47-482f0aea1c22\",\"type\":\"Line\"},\"selection_glyph\":null,\"view\":{\"id\":\"ee02c754-272e-45a2-a489-9071a22fa9c6\",\"type\":\"CDSView\"}},\"id\":\"10ecf8a0-e751-4ec4-8d07-2ddf83576b58\",\"type\":\"GlyphRenderer\"},{\"attributes\":{\"line_alpha\":0.1,\"line_color\":\"#1f77b4\",\"line_dash\":[6],\"line_width\":5,\"x\":{\"field\":\"x\"},\"y\":{\"field\":\"y\"}},\"id\":\"7991e696-dee0-4b22-bb47-482f0aea1c22\",\"type\":\"Line\"},{\"attributes\":{\"above\":[{\"id\":\"b2d7ac9a-b091-4a7e-8537-483691a4cae8\",\"type\":\"Legend\"}],\"below\":[{\"id\":\"159a695f-4058-444b-bef0-0bf252b97226\",\"type\":\"LinearAxis\"}],\"left\":[{\"id\":\"f5eba54c-7eb9-4cca-9cbb-f993b37ce4d4\",\"type\":\"LogAxis\"}],\"plot_width\":300,\"renderers\":[{\"id\":\"159a695f-4058-444b-bef0-0bf252b97226\",\"type\":\"LinearAxis\"},{\"id\":\"c294f304-3cf8-4e80-97f3-cf3e0a9affab\",\"type\":\"Grid\"},{\"id\":\"f5eba54c-7eb9-4cca-9cbb-f993b37ce4d4\",\"type\":\"LogAxis\"},{\"id\":\"dabf4043-2805-4f78-875c-9bd8c45ad422\",\"type\":\"Grid\"},{\"id\":\"2249a777-321b-4777-a9ef-9a734be3bb69\",\"type\":\"BoxAnnotation\"},{\"id\":\"caa415d4-887a-4d08-b21a-fe148e32cf58\",\"type\":\"GlyphRenderer\"},{\"id\":\"92c737a8-7bf7-430b-ba1c-7a6594bfbb27\",\"type\":\"GlyphRenderer\"},{\"id\":\"b2d7ac9a-b091-4a7e-8537-483691a4cae8\",\"type\":\"Legend\"}],\"title\":{\"id\":\"fa1cd185-1772-49a9-8662-fcf17fde4361\",\"type\":\"Title\"},\"toolbar\":{\"id\":\"4955a711-ff97-408b-a505-2b86f23e3e39\",\"type\":\"Toolbar\"},\"toolbar_location\":null,\"x_range\":{\"id\":\"23270aa4-24fe-4d51-bed5-d4a72c60980f\",\"type\":\"Range1d\"},\"x_scale\":{\"id\":\"8892fc07-517d-45d7-990d-65eb701bcfdd\",\"type\":\"LinearScale\"},\"y_range\":{\"id\":\"2ea5a958-20af-479d-afce-c866bbeb0e16\",\"type\":\"Range1d\"},\"y_scale\":{\"id\":\"ac7856a6-98e5-47b8-95d4-6ba20be4052d\",\"type\":\"LogScale\"}},\"id\":\"9917c66f-dc53-49b9-b7c0-301c913e6bf8\",\"subtype\":\"Figure\",\"type\":\"Plot\"},{\"attributes\":{\"above\":[{\"id\":\"cf0cae48-5b84-4ec9-b22e-bf22e7882edb\",\"type\":\"Legend\"}],\"below\":[{\"id\":\"36e14e0b-61a6-4be0-969e-08ae8bb69ad7\",\"type\":\"LinearAxis\"}],\"left\":[{\"id\":\"274b5f1f-3d87-4f8a-93cb-8fce18629526\",\"type\":\"LogAxis\"}],\"plot_width\":300,\"renderers\":[{\"id\":\"36e14e0b-61a6-4be0-969e-08ae8bb69ad7\",\"type\":\"LinearAxis\"},{\"id\":\"106eb9a1-9f9f-45a0-b851-e13151129cbe\",\"type\":\"Grid\"},{\"id\":\"274b5f1f-3d87-4f8a-93cb-8fce18629526\",\"type\":\"LogAxis\"},{\"id\":\"c7009282-05ed-4d86-974a-0d61a87f6d2f\",\"type\":\"Grid\"},{\"id\":\"3324bce0-e8af-44b3-9e17-6836da4ed808\",\"type\":\"BoxAnnotation\"},{\"id\":\"10ecf8a0-e751-4ec4-8d07-2ddf83576b58\",\"type\":\"GlyphRenderer\"},{\"id\":\"add5a976-7032-452e-8a1c-554bb97f9c4d\",\"type\":\"GlyphRenderer\"},{\"id\":\"5fa8a67f-a454-4a1d-a4de-9cdf20cb40ce\",\"type\":\"GlyphRenderer\"},{\"id\":\"cf0cae48-5b84-4ec9-b22e-bf22e7882edb\",\"type\":\"Legend\"}],\"title\":{\"id\":\"beb987f1-4bbd-4e87-a732-34df54455071\",\"type\":\"Title\"},\"toolbar\":{\"id\":\"ac68bba8-2dd7-4d68-8528-1bef48dfbc8e\",\"type\":\"Toolbar\"},\"toolbar_location\":null,\"x_range\":{\"id\":\"4fd3811b-5324-4da6-925d-e1da74730a70\",\"type\":\"Range1d\"},\"x_scale\":{\"id\":\"80c1ed15-cfdd-4588-8746-714ea57aab2a\",\"type\":\"LinearScale\"},\"y_range\":{\"id\":\"51cd0814-6c54-436c-a625-9cb423eab48c\",\"type\":\"Range1d\"},\"y_scale\":{\"id\":\"f8b38fcb-033e-43cc-ac6c-03309723332d\",\"type\":\"LogScale\"}},\"id\":\"cc502b90-3ef3-4727-8b3e-3a9ab61556ab\",\"subtype\":\"Figure\",\"type\":\"Plot\"}],\"root_ids\":[\"040342d0-79f1-4592-8f84-faf077aadbff\"]},\"title\":\"Bokeh Application\",\"version\":\"0.12.16\"}};\n",
       "  var render_items = [{\"docid\":\"df10b442-bf19-4588-9d19-31a2d663d454\",\"elementid\":\"8efb297c-80b8-4ec1-89b8-d366301d8cd1\",\"modelid\":\"040342d0-79f1-4592-8f84-faf077aadbff\"}];\n",
       "  root.Bokeh.embed.embed_items_notebook(docs_json, render_items);\n",
       "\n",
       "  }\n",
       "  if (root.Bokeh !== undefined) {\n",
       "    embed_document(root);\n",
       "  } else {\n",
       "    var attempts = 0;\n",
       "    var timer = setInterval(function(root) {\n",
       "      if (root.Bokeh !== undefined) {\n",
       "        embed_document(root);\n",
       "        clearInterval(timer);\n",
       "      }\n",
       "      attempts++;\n",
       "      if (attempts > 100) {\n",
       "        console.log(\"Bokeh: ERROR: Unable to run BokehJS code because BokehJS library is missing\")\n",
       "        clearInterval(timer);\n",
       "      }\n",
       "    }, 10, root)\n",
       "  }\n",
       "})(window);"
      ],
      "application/vnd.bokehjs_exec.v0+json": ""
     },
     "metadata": {
      "application/vnd.bokehjs_exec.v0+json": {
       "id": "040342d0-79f1-4592-8f84-faf077aadbff"
      }
     },
     "output_type": "display_data"
    },
    {
     "data": {
      "text/markdown": [
       "*FIGURE.* Cooling rates & difference."
      ],
      "text/plain": [
       "<IPython.core.display.Markdown object>"
      ]
     },
     "metadata": {},
     "output_type": "display_data"
    },
    {
     "data": {
      "text/html": [
       "<a id=\"Fluxes._saw.\"></a>"
      ],
      "text/plain": [
       "<IPython.core.display.HTML object>"
      ]
     },
     "metadata": {},
     "output_type": "display_data"
    },
    {
     "data": {
      "text/markdown": [
       "# Fluxes. saw."
      ],
      "text/plain": [
       "<IPython.core.display.Markdown object>"
      ]
     },
     "metadata": {},
     "output_type": "display_data"
    },
    {
     "data": {
      "text/html": [
       "\n",
       "<div class=\"bk-root\">\n",
       "    <div class=\"bk-plotdiv\" id=\"ede602d3-f5a8-4bfc-84ab-aef34034497d\"></div>\n",
       "</div>"
      ]
     },
     "metadata": {},
     "output_type": "display_data"
    },
    {
     "data": {
      "application/javascript": [
       "(function(root) {\n",
       "  function embed_document(root) {\n",
       "    \n",
       "  var docs_json = {\"e46b75fc-0ba1-4c00-8a34-7dceb93f9339\":{\"roots\":{\"references\":[{\"attributes\":{},\"id\":\"e287eb23-e22d-4c16-8296-ab6a25a191e1\",\"type\":\"SaveTool\"},{\"attributes\":{},\"id\":\"24d02df7-890f-4ff5-b162-a1e676f74fea\",\"type\":\"CategoricalScale\"},{\"attributes\":{},\"id\":\"71b3cfe9-6d5e-4a5e-a8e5-0d97171fdc03\",\"type\":\"CategoricalTickFormatter\"},{\"attributes\":{\"bottom_units\":\"screen\",\"fill_alpha\":{\"value\":0.5},\"fill_color\":{\"value\":\"lightgrey\"},\"left_units\":\"screen\",\"level\":\"overlay\",\"line_alpha\":{\"value\":1.0},\"line_color\":{\"value\":\"black\"},\"line_dash\":[4,4],\"line_width\":{\"value\":2},\"plot\":null,\"render_mode\":\"css\",\"right_units\":\"screen\",\"top_units\":\"screen\"},\"id\":\"3e258d36-522d-4de5-8e89-1e9f28ba3888\",\"type\":\"BoxAnnotation\"},{\"attributes\":{},\"id\":\"fe1f1627-92d1-46b6-8f03-d9eec7f593ae\",\"type\":\"WheelZoomTool\"},{\"attributes\":{\"axis_label\":\"flux (W m-2)\",\"formatter\":{\"id\":\"0bea5025-7bef-47f7-baf6-78897061a138\",\"type\":\"BasicTickFormatter\"},\"plot\":{\"id\":\"ecedf67b-0e15-40e6-8759-bad76624adbd\",\"subtype\":\"Figure\",\"type\":\"Plot\"},\"ticker\":{\"id\":\"7549c614-3bab-4f1b-a589-0defc331ff38\",\"type\":\"BasicTicker\"}},\"id\":\"2fac4449-16a3-4b22-a430-e22b6a2418c2\",\"type\":\"LinearAxis\"},{\"attributes\":{},\"id\":\"2606d2a9-296e-4477-a85c-a03b8c6d0962\",\"type\":\"Selection\"},{\"attributes\":{},\"id\":\"9716f040-dfc4-46bc-9e02-bab67ca35bfd\",\"type\":\"CategoricalTicker\"},{\"attributes\":{},\"id\":\"a7048d83-b4e7-4ecd-886a-f7a2c969a667\",\"type\":\"CategoricalTicker\"},{\"attributes\":{\"below\":[{\"id\":\"718f9962-c8ab-460b-a141-d041d29760f2\",\"type\":\"CategoricalAxis\"}],\"left\":[{\"id\":\"a28fea28-d1c7-4c74-a3e8-39f968401b57\",\"type\":\"LinearAxis\"}],\"plot_height\":300,\"plot_width\":300,\"renderers\":[{\"id\":\"718f9962-c8ab-460b-a141-d041d29760f2\",\"type\":\"CategoricalAxis\"},{\"id\":\"ae571ed4-5112-4675-b780-20f5adaf09b8\",\"type\":\"Grid\"},{\"id\":\"a28fea28-d1c7-4c74-a3e8-39f968401b57\",\"type\":\"LinearAxis\"},{\"id\":\"0225c4c3-15c5-44b1-b530-b73f81b0d284\",\"type\":\"Grid\"},{\"id\":\"5d5a9a1f-ac82-4b1d-91ac-7fcbc8421fc3\",\"type\":\"BoxAnnotation\"},{\"id\":\"d81433f3-bc16-46cf-b27a-dbd5897f6b0e\",\"type\":\"GlyphRenderer\"}],\"title\":{\"id\":\"4b013899-7a07-41cf-b122-16bf1b5824b0\",\"type\":\"Title\"},\"toolbar\":{\"id\":\"e20ebc32-3ae1-4abb-bcea-8c34e4e598a6\",\"type\":\"Toolbar\"},\"toolbar_location\":null,\"x_range\":{\"id\":\"774045f4-425c-44ad-86b0-0493eae26b93\",\"type\":\"FactorRange\"},\"x_scale\":{\"id\":\"46b113bc-8024-4c1c-af99-90984a6bf2de\",\"type\":\"CategoricalScale\"},\"y_range\":{\"id\":\"676361a3-d361-4e16-a354-1165f86f6a1e\",\"type\":\"DataRange1d\"},\"y_scale\":{\"id\":\"7f61e35b-3c01-4d6f-87a0-09506cdcac25\",\"type\":\"LinearScale\"}},\"id\":\"1427c8b5-46da-437e-9e76-e83ef3810322\",\"subtype\":\"Figure\",\"type\":\"Plot\"},{\"attributes\":{\"dimension\":1,\"plot\":{\"id\":\"ecedf67b-0e15-40e6-8759-bad76624adbd\",\"subtype\":\"Figure\",\"type\":\"Plot\"},\"ticker\":{\"id\":\"7549c614-3bab-4f1b-a589-0defc331ff38\",\"type\":\"BasicTicker\"}},\"id\":\"2cb2d5b1-3304-4989-9c8b-ddfc569da085\",\"type\":\"Grid\"},{\"attributes\":{},\"id\":\"1a7c8773-7ebf-44fb-a0d7-d267967b7cee\",\"type\":\"UnionRenderers\"},{\"attributes\":{\"active_drag\":\"auto\",\"active_inspect\":\"auto\",\"active_scroll\":\"auto\",\"active_tap\":\"auto\",\"tools\":[{\"id\":\"ab336e44-69a3-4ffc-aabb-abaf400a5091\",\"type\":\"PanTool\"},{\"id\":\"fe1f1627-92d1-46b6-8f03-d9eec7f593ae\",\"type\":\"WheelZoomTool\"},{\"id\":\"b5ce79de-43e4-41e1-8d7d-0eb7fe7cf554\",\"type\":\"BoxZoomTool\"},{\"id\":\"e287eb23-e22d-4c16-8296-ab6a25a191e1\",\"type\":\"SaveTool\"},{\"id\":\"c78e65ae-9691-4738-9f33-d4a7e63551f6\",\"type\":\"ResetTool\"},{\"id\":\"dab148f0-8702-4bdd-92d8-81837cd03b29\",\"type\":\"HelpTool\"}]},\"id\":\"db5c3969-8b8b-4126-94c7-e15724ff2293\",\"type\":\"Toolbar\"},{\"attributes\":{\"axis_label\":\"flux (W m-2)\",\"formatter\":{\"id\":\"c179f21b-dfc5-4e9c-b80c-64bb20bc0d76\",\"type\":\"BasicTickFormatter\"},\"plot\":{\"id\":\"35f1d400-c7be-4906-8de2-866ad5dc9edf\",\"subtype\":\"Figure\",\"type\":\"Plot\"},\"ticker\":{\"id\":\"9aead090-5f88-4465-8166-dc4907d9082b\",\"type\":\"BasicTicker\"}},\"id\":\"374f5858-075c-4555-a2fe-56d13e95c855\",\"type\":\"LinearAxis\"},{\"attributes\":{},\"id\":\"d365300d-43ae-42d9-ac4a-7882bc6a24a5\",\"type\":\"UnionRenderers\"},{\"attributes\":{\"plot\":null,\"text\":\"Atmosphere heating. CLIRAD (single-run) - CRD.\"},\"id\":\"ad870c96-eff1-4f1a-a185-022370c7cecc\",\"type\":\"Title\"},{\"attributes\":{},\"id\":\"14aa7710-005a-445b-953f-a9c230774564\",\"type\":\"CategoricalScale\"},{\"attributes\":{\"tools\":[{\"id\":\"4cee6ab8-e63b-436b-878f-666300b043bf\",\"type\":\"PanTool\"},{\"id\":\"3c978688-4e2f-4e2c-8bb3-fa2d15baf323\",\"type\":\"WheelZoomTool\"},{\"id\":\"6a2ff255-fd6c-4bbe-9620-c7aa4f2cce3d\",\"type\":\"BoxZoomTool\"},{\"id\":\"75297c2d-3c7a-41d5-97a2-3abf69e42338\",\"type\":\"SaveTool\"},{\"id\":\"2b3f1770-9275-4be7-8d5a-fe206fbda723\",\"type\":\"ResetTool\"},{\"id\":\"01e92059-e9af-4ffd-95f4-817999bafe3e\",\"type\":\"HelpTool\"},{\"id\":\"f6e33759-d392-4b6b-895f-60f5f3e4956c\",\"type\":\"PanTool\"},{\"id\":\"83681286-e48c-4f38-9c2d-2d175e6b8d68\",\"type\":\"WheelZoomTool\"},{\"id\":\"64b8c1e1-6800-460e-a5e6-ce7044e310d5\",\"type\":\"BoxZoomTool\"},{\"id\":\"a02ed4e9-e22b-429c-9ca8-b8a318cf41d3\",\"type\":\"SaveTool\"},{\"id\":\"07a74489-6139-450f-8878-fd86e86a711b\",\"type\":\"ResetTool\"},{\"id\":\"9df26259-6f20-45a8-8bb0-59fe37e7f730\",\"type\":\"HelpTool\"},{\"id\":\"ab336e44-69a3-4ffc-aabb-abaf400a5091\",\"type\":\"PanTool\"},{\"id\":\"fe1f1627-92d1-46b6-8f03-d9eec7f593ae\",\"type\":\"WheelZoomTool\"},{\"id\":\"b5ce79de-43e4-41e1-8d7d-0eb7fe7cf554\",\"type\":\"BoxZoomTool\"},{\"id\":\"e287eb23-e22d-4c16-8296-ab6a25a191e1\",\"type\":\"SaveTool\"},{\"id\":\"c78e65ae-9691-4738-9f33-d4a7e63551f6\",\"type\":\"ResetTool\"},{\"id\":\"dab148f0-8702-4bdd-92d8-81837cd03b29\",\"type\":\"HelpTool\"}]},\"id\":\"1039a8bd-9788-4198-a393-d65befa76b4a\",\"type\":\"ProxyToolbar\"},{\"attributes\":{},\"id\":\"9df26259-6f20-45a8-8bb0-59fe37e7f730\",\"type\":\"HelpTool\"},{\"attributes\":{\"bottom_units\":\"screen\",\"fill_alpha\":{\"value\":0.5},\"fill_color\":{\"value\":\"lightgrey\"},\"left_units\":\"screen\",\"level\":\"overlay\",\"line_alpha\":{\"value\":1.0},\"line_color\":{\"value\":\"black\"},\"line_dash\":[4,4],\"line_width\":{\"value\":2},\"plot\":null,\"render_mode\":\"css\",\"right_units\":\"screen\",\"top_units\":\"screen\"},\"id\":\"7da93f8d-a0a3-4e4c-bddd-97df2947d51c\",\"type\":\"BoxAnnotation\"},{\"attributes\":{\"axis_label\":\"spectral band\",\"formatter\":{\"id\":\"92a19eab-b0c3-469e-a498-14b8ec31a127\",\"type\":\"CategoricalTickFormatter\"},\"plot\":{\"id\":\"35f1d400-c7be-4906-8de2-866ad5dc9edf\",\"subtype\":\"Figure\",\"type\":\"Plot\"},\"ticker\":{\"id\":\"a7048d83-b4e7-4ecd-886a-f7a2c969a667\",\"type\":\"CategoricalTicker\"}},\"id\":\"a8e4cc08-b635-4807-807d-4f21c164e564\",\"type\":\"CategoricalAxis\"},{\"attributes\":{\"callback\":null,\"data\":{\"band\":[\"1\",\"2\",\"3\",\"4\",\"5\",\"6\",\"7\",\"8\",\"9\",\"10\",\"11\"],\"flux\":{\"__ndarray__\":\"gOIKWg6Vxz8AZUNIJ1zKP8BwLN5+r9w/QMdlApwjxj+ArqKa7WW4vwBJ8fEJ2bU/gB6GVidnzD8AlIyLWeWIvwDBKhcq/4o/gEM6lz1kpb+AJgqhQRKPPw==\",\"dtype\":\"float64\",\"shape\":[11]}},\"selected\":{\"id\":\"f3ad95cb-e825-4f5c-8cce-4370046abe27\",\"type\":\"Selection\"},\"selection_policy\":{\"id\":\"06ec994e-962d-4f81-baff-f0b4d103cf3c\",\"type\":\"UnionRenderers\"}},\"id\":\"6b27c2d0-89c9-4a27-8568-e90b6f174ecb\",\"type\":\"ColumnDataSource\"},{\"attributes\":{\"children\":[{\"id\":\"6381efca-b14e-4167-b786-1ae1c2e7cf01\",\"type\":\"ToolbarBox\"},{\"id\":\"b9ab2f67-ff05-495b-bff6-e5be2653aea8\",\"type\":\"Column\"}]},\"id\":\"c428b581-7fb5-4d9e-b641-18645c8a5113\",\"type\":\"Column\"},{\"attributes\":{\"fill_alpha\":{\"value\":0.1},\"fill_color\":{\"value\":\"#1f77b4\"},\"line_alpha\":{\"value\":0.1},\"line_color\":{\"value\":\"#1f77b4\"},\"top\":{\"field\":\"flux\"},\"width\":{\"value\":0.9},\"x\":{\"field\":\"band\"}},\"id\":\"9c7d74fd-bf41-4178-a284-207d96e5581d\",\"type\":\"VBar\"},{\"attributes\":{\"callback\":null},\"id\":\"7b1ae175-316d-476d-a3b0-baf4a76954f8\",\"type\":\"DataRange1d\"},{\"attributes\":{\"data_source\":{\"id\":\"6b27c2d0-89c9-4a27-8568-e90b6f174ecb\",\"type\":\"ColumnDataSource\"},\"glyph\":{\"id\":\"cc74f488-08b8-4833-bae6-d2e2cd5064d9\",\"type\":\"VBar\"},\"hover_glyph\":null,\"muted_glyph\":null,\"nonselection_glyph\":{\"id\":\"9c7d74fd-bf41-4178-a284-207d96e5581d\",\"type\":\"VBar\"},\"selection_glyph\":null,\"view\":{\"id\":\"73c5d742-1d6f-4616-80c7-8a803a4c9b53\",\"type\":\"CDSView\"}},\"id\":\"e0922350-0701-4419-a885-dbc4d2260c8d\",\"type\":\"GlyphRenderer\"},{\"attributes\":{},\"id\":\"841ffbec-3015-4c17-ac5e-4313a2c75932\",\"type\":\"LinearScale\"},{\"attributes\":{},\"id\":\"f3ad95cb-e825-4f5c-8cce-4370046abe27\",\"type\":\"Selection\"},{\"attributes\":{},\"id\":\"0bea5025-7bef-47f7-baf6-78897061a138\",\"type\":\"BasicTickFormatter\"},{\"attributes\":{},\"id\":\"9aead090-5f88-4465-8166-dc4907d9082b\",\"type\":\"BasicTicker\"},{\"attributes\":{\"below\":[{\"id\":\"42715ff8-6d5e-4ac3-8e10-051c07f01884\",\"type\":\"CategoricalAxis\"}],\"left\":[{\"id\":\"2fac4449-16a3-4b22-a430-e22b6a2418c2\",\"type\":\"LinearAxis\"}],\"plot_height\":300,\"plot_width\":300,\"renderers\":[{\"id\":\"42715ff8-6d5e-4ac3-8e10-051c07f01884\",\"type\":\"CategoricalAxis\"},{\"id\":\"24fcd7e2-3f49-4b0a-a868-c73271d93812\",\"type\":\"Grid\"},{\"id\":\"2fac4449-16a3-4b22-a430-e22b6a2418c2\",\"type\":\"LinearAxis\"},{\"id\":\"2cb2d5b1-3304-4989-9c8b-ddfc569da085\",\"type\":\"Grid\"},{\"id\":\"3e258d36-522d-4de5-8e89-1e9f28ba3888\",\"type\":\"BoxAnnotation\"},{\"id\":\"e0922350-0701-4419-a885-dbc4d2260c8d\",\"type\":\"GlyphRenderer\"}],\"title\":{\"id\":\"ad870c96-eff1-4f1a-a185-022370c7cecc\",\"type\":\"Title\"},\"toolbar\":{\"id\":\"db5c3969-8b8b-4126-94c7-e15724ff2293\",\"type\":\"Toolbar\"},\"toolbar_location\":null,\"x_range\":{\"id\":\"a90caf19-7cb2-4d77-bc5a-7a26bb4bcd22\",\"type\":\"FactorRange\"},\"x_scale\":{\"id\":\"24d02df7-890f-4ff5-b162-a1e676f74fea\",\"type\":\"CategoricalScale\"},\"y_range\":{\"id\":\"7b1ae175-316d-476d-a3b0-baf4a76954f8\",\"type\":\"DataRange1d\"},\"y_scale\":{\"id\":\"ab192af7-9432-4af6-b230-41eaa070ef56\",\"type\":\"LinearScale\"}},\"id\":\"ecedf67b-0e15-40e6-8759-bad76624adbd\",\"subtype\":\"Figure\",\"type\":\"Plot\"},{\"attributes\":{\"active_drag\":\"auto\",\"active_inspect\":\"auto\",\"active_scroll\":\"auto\",\"active_tap\":\"auto\",\"tools\":[{\"id\":\"4cee6ab8-e63b-436b-878f-666300b043bf\",\"type\":\"PanTool\"},{\"id\":\"3c978688-4e2f-4e2c-8bb3-fa2d15baf323\",\"type\":\"WheelZoomTool\"},{\"id\":\"6a2ff255-fd6c-4bbe-9620-c7aa4f2cce3d\",\"type\":\"BoxZoomTool\"},{\"id\":\"75297c2d-3c7a-41d5-97a2-3abf69e42338\",\"type\":\"SaveTool\"},{\"id\":\"2b3f1770-9275-4be7-8d5a-fe206fbda723\",\"type\":\"ResetTool\"},{\"id\":\"01e92059-e9af-4ffd-95f4-817999bafe3e\",\"type\":\"HelpTool\"}]},\"id\":\"e20ebc32-3ae1-4abb-bcea-8c34e4e598a6\",\"type\":\"Toolbar\"},{\"attributes\":{},\"id\":\"dab148f0-8702-4bdd-92d8-81837cd03b29\",\"type\":\"HelpTool\"},{\"attributes\":{\"callback\":null},\"id\":\"58bfa607-7048-49aa-8abe-d256d97ab5ae\",\"type\":\"DataRange1d\"},{\"attributes\":{},\"id\":\"ca7b9ada-f501-429b-bb0c-3169a3bd6192\",\"type\":\"BasicTickFormatter\"},{\"attributes\":{\"toolbar\":{\"id\":\"1039a8bd-9788-4198-a393-d65befa76b4a\",\"type\":\"ProxyToolbar\"},\"toolbar_location\":\"above\"},\"id\":\"6381efca-b14e-4167-b786-1ae1c2e7cf01\",\"type\":\"ToolbarBox\"},{\"attributes\":{\"plot\":{\"id\":\"35f1d400-c7be-4906-8de2-866ad5dc9edf\",\"subtype\":\"Figure\",\"type\":\"Plot\"},\"ticker\":{\"id\":\"a7048d83-b4e7-4ecd-886a-f7a2c969a667\",\"type\":\"CategoricalTicker\"}},\"id\":\"5628e5d8-8793-43a8-8162-72b42a7402ef\",\"type\":\"Grid\"},{\"attributes\":{},\"id\":\"e9263f44-cd3b-405c-9324-2a591a8da294\",\"type\":\"CategoricalTickFormatter\"},{\"attributes\":{},\"id\":\"c78e65ae-9691-4738-9f33-d4a7e63551f6\",\"type\":\"ResetTool\"},{\"attributes\":{},\"id\":\"ab336e44-69a3-4ffc-aabb-abaf400a5091\",\"type\":\"PanTool\"},{\"attributes\":{\"plot\":null,\"text\":\"TOA flux. CLIRAD (single-run) - CRD.\"},\"id\":\"4b013899-7a07-41cf-b122-16bf1b5824b0\",\"type\":\"Title\"},{\"attributes\":{},\"id\":\"ab192af7-9432-4af6-b230-41eaa070ef56\",\"type\":\"LinearScale\"},{\"attributes\":{},\"id\":\"c179f21b-dfc5-4e9c-b80c-64bb20bc0d76\",\"type\":\"BasicTickFormatter\"},{\"attributes\":{\"children\":[{\"id\":\"2d5bb523-abb0-4e42-af61-f2203632e5ef\",\"type\":\"Row\"}]},\"id\":\"b9ab2f67-ff05-495b-bff6-e5be2653aea8\",\"type\":\"Column\"},{\"attributes\":{\"fill_color\":{\"value\":\"#1f77b4\"},\"line_color\":{\"value\":\"#1f77b4\"},\"top\":{\"field\":\"flux\"},\"width\":{\"value\":0.9},\"x\":{\"field\":\"band\"}},\"id\":\"cc74f488-08b8-4833-bae6-d2e2cd5064d9\",\"type\":\"VBar\"},{\"attributes\":{\"overlay\":{\"id\":\"3e258d36-522d-4de5-8e89-1e9f28ba3888\",\"type\":\"BoxAnnotation\"}},\"id\":\"b5ce79de-43e4-41e1-8d7d-0eb7fe7cf554\",\"type\":\"BoxZoomTool\"},{\"attributes\":{},\"id\":\"a02ed4e9-e22b-429c-9ca8-b8a318cf41d3\",\"type\":\"SaveTool\"},{\"attributes\":{},\"id\":\"06ec994e-962d-4f81-baff-f0b4d103cf3c\",\"type\":\"UnionRenderers\"},{\"attributes\":{\"source\":{\"id\":\"08ac0667-fc9c-4f7a-90e1-55a44f9273a6\",\"type\":\"ColumnDataSource\"}},\"id\":\"a61afba7-4217-4819-9366-8cf364645df8\",\"type\":\"CDSView\"},{\"attributes\":{\"callback\":null,\"data\":{\"band\":[\"1\",\"2\",\"3\",\"4\",\"5\",\"6\",\"7\",\"8\",\"9\",\"10\",\"11\"],\"flux\":{\"__ndarray__\":\"gGLUtfY+xz8ABgWlaOWyPwDVO9wODbO/gApHkEqx0D8Ans4VpYS4PwDQ+uk/a46/IIOj5NU50j+AqrUwC+24P4BE2safqKA/AGgLdJJSdb+AbxLeeT2TPw==\",\"dtype\":\"float64\",\"shape\":[11]}},\"selected\":{\"id\":\"2606d2a9-296e-4477-a85c-a03b8c6d0962\",\"type\":\"Selection\"},\"selection_policy\":{\"id\":\"1a7c8773-7ebf-44fb-a0d7-d267967b7cee\",\"type\":\"UnionRenderers\"}},\"id\":\"976df45d-42c7-44bd-ac59-6f598f23e871\",\"type\":\"ColumnDataSource\"},{\"attributes\":{\"source\":{\"id\":\"6b27c2d0-89c9-4a27-8568-e90b6f174ecb\",\"type\":\"ColumnDataSource\"}},\"id\":\"73c5d742-1d6f-4616-80c7-8a803a4c9b53\",\"type\":\"CDSView\"},{\"attributes\":{\"children\":[{\"id\":\"1427c8b5-46da-437e-9e76-e83ef3810322\",\"subtype\":\"Figure\",\"type\":\"Plot\"},{\"id\":\"35f1d400-c7be-4906-8de2-866ad5dc9edf\",\"subtype\":\"Figure\",\"type\":\"Plot\"},{\"id\":\"ecedf67b-0e15-40e6-8759-bad76624adbd\",\"subtype\":\"Figure\",\"type\":\"Plot\"}]},\"id\":\"2d5bb523-abb0-4e42-af61-f2203632e5ef\",\"type\":\"Row\"},{\"attributes\":{},\"id\":\"241952c3-37e9-4dcf-8010-c67a53f51823\",\"type\":\"Selection\"},{\"attributes\":{\"callback\":null,\"factors\":[\"1\",\"2\",\"3\",\"4\",\"5\",\"6\",\"7\",\"8\",\"9\",\"10\",\"11\"]},\"id\":\"a90caf19-7cb2-4d77-bc5a-7a26bb4bcd22\",\"type\":\"FactorRange\"},{\"attributes\":{},\"id\":\"92a19eab-b0c3-469e-a498-14b8ec31a127\",\"type\":\"CategoricalTickFormatter\"},{\"attributes\":{\"plot\":{\"id\":\"ecedf67b-0e15-40e6-8759-bad76624adbd\",\"subtype\":\"Figure\",\"type\":\"Plot\"},\"ticker\":{\"id\":\"9716f040-dfc4-46bc-9e02-bab67ca35bfd\",\"type\":\"CategoricalTicker\"}},\"id\":\"24fcd7e2-3f49-4b0a-a868-c73271d93812\",\"type\":\"Grid\"},{\"attributes\":{},\"id\":\"7549c614-3bab-4f1b-a589-0defc331ff38\",\"type\":\"BasicTicker\"},{\"attributes\":{\"axis_label\":\"spectral band\",\"formatter\":{\"id\":\"71b3cfe9-6d5e-4a5e-a8e5-0d97171fdc03\",\"type\":\"CategoricalTickFormatter\"},\"plot\":{\"id\":\"ecedf67b-0e15-40e6-8759-bad76624adbd\",\"subtype\":\"Figure\",\"type\":\"Plot\"},\"ticker\":{\"id\":\"9716f040-dfc4-46bc-9e02-bab67ca35bfd\",\"type\":\"CategoricalTicker\"}},\"id\":\"42715ff8-6d5e-4ac3-8e10-051c07f01884\",\"type\":\"CategoricalAxis\"},{\"attributes\":{},\"id\":\"3c978688-4e2f-4e2c-8bb3-fa2d15baf323\",\"type\":\"WheelZoomTool\"},{\"attributes\":{\"fill_alpha\":{\"value\":0.1},\"fill_color\":{\"value\":\"#1f77b4\"},\"line_alpha\":{\"value\":0.1},\"line_color\":{\"value\":\"#1f77b4\"},\"top\":{\"field\":\"flux\"},\"width\":{\"value\":0.9},\"x\":{\"field\":\"band\"}},\"id\":\"949da97b-cdf1-491b-ae37-4ce0e7eda82c\",\"type\":\"VBar\"},{\"attributes\":{\"callback\":null,\"factors\":[\"1\",\"2\",\"3\",\"4\",\"5\",\"6\",\"7\",\"8\",\"9\",\"10\",\"11\"]},\"id\":\"180424e5-810a-47ce-a808-0a48b6382416\",\"type\":\"FactorRange\"},{\"attributes\":{\"source\":{\"id\":\"976df45d-42c7-44bd-ac59-6f598f23e871\",\"type\":\"ColumnDataSource\"}},\"id\":\"c31157b1-cac1-4274-be81-d95816a127b9\",\"type\":\"CDSView\"},{\"attributes\":{\"bottom_units\":\"screen\",\"fill_alpha\":{\"value\":0.5},\"fill_color\":{\"value\":\"lightgrey\"},\"left_units\":\"screen\",\"level\":\"overlay\",\"line_alpha\":{\"value\":1.0},\"line_color\":{\"value\":\"black\"},\"line_dash\":[4,4],\"line_width\":{\"value\":2},\"plot\":null,\"render_mode\":\"css\",\"right_units\":\"screen\",\"top_units\":\"screen\"},\"id\":\"5d5a9a1f-ac82-4b1d-91ac-7fcbc8421fc3\",\"type\":\"BoxAnnotation\"},{\"attributes\":{},\"id\":\"83681286-e48c-4f38-9c2d-2d175e6b8d68\",\"type\":\"WheelZoomTool\"},{\"attributes\":{},\"id\":\"46b113bc-8024-4c1c-af99-90984a6bf2de\",\"type\":\"CategoricalScale\"},{\"attributes\":{\"axis_label\":\"spectral band\",\"formatter\":{\"id\":\"e9263f44-cd3b-405c-9324-2a591a8da294\",\"type\":\"CategoricalTickFormatter\"},\"plot\":{\"id\":\"1427c8b5-46da-437e-9e76-e83ef3810322\",\"subtype\":\"Figure\",\"type\":\"Plot\"},\"ticker\":{\"id\":\"6d4b81ac-0453-4c0c-8cc3-c0273af5d4d1\",\"type\":\"CategoricalTicker\"}},\"id\":\"718f9962-c8ab-460b-a141-d041d29760f2\",\"type\":\"CategoricalAxis\"},{\"attributes\":{},\"id\":\"07a74489-6139-450f-8878-fd86e86a711b\",\"type\":\"ResetTool\"},{\"attributes\":{},\"id\":\"0ffe6fc9-b5e7-4334-80c9-5cd27352b564\",\"type\":\"BasicTicker\"},{\"attributes\":{},\"id\":\"4cee6ab8-e63b-436b-878f-666300b043bf\",\"type\":\"PanTool\"},{\"attributes\":{\"plot\":null,\"text\":\"SFC flux. CLIRAD (single-run) - CRD.\"},\"id\":\"7751b155-0aac-4e1b-bbaf-dac8065af214\",\"type\":\"Title\"},{\"attributes\":{\"callback\":null,\"factors\":[\"1\",\"2\",\"3\",\"4\",\"5\",\"6\",\"7\",\"8\",\"9\",\"10\",\"11\"]},\"id\":\"774045f4-425c-44ad-86b0-0493eae26b93\",\"type\":\"FactorRange\"},{\"attributes\":{},\"id\":\"f6e33759-d392-4b6b-895f-60f5f3e4956c\",\"type\":\"PanTool\"},{\"attributes\":{\"dimension\":1,\"plot\":{\"id\":\"35f1d400-c7be-4906-8de2-866ad5dc9edf\",\"subtype\":\"Figure\",\"type\":\"Plot\"},\"ticker\":{\"id\":\"9aead090-5f88-4465-8166-dc4907d9082b\",\"type\":\"BasicTicker\"}},\"id\":\"1d56330b-0a12-4c30-b3c7-51a41f684d5c\",\"type\":\"Grid\"},{\"attributes\":{\"overlay\":{\"id\":\"7da93f8d-a0a3-4e4c-bddd-97df2947d51c\",\"type\":\"BoxAnnotation\"}},\"id\":\"64b8c1e1-6800-460e-a5e6-ce7044e310d5\",\"type\":\"BoxZoomTool\"},{\"attributes\":{\"callback\":null,\"data\":{\"band\":[\"1\",\"2\",\"3\",\"4\",\"5\",\"6\",\"7\",\"8\",\"9\",\"10\",\"11\"],\"flux\":{\"__ndarray__\":\"AEDdJAaBZb8Asg5HV+nAvwA2IEJcueC/AAeY+Q5+tj/A8wOyMnXIPyAWSPVCprm/QFhl8EEZsD8ghGffaAm8PwDdJRad0ZM/AJDEy9O5oj8Ad2DnQ6NtPw==\",\"dtype\":\"float64\",\"shape\":[11]}},\"selected\":{\"id\":\"241952c3-37e9-4dcf-8010-c67a53f51823\",\"type\":\"Selection\"},\"selection_policy\":{\"id\":\"d365300d-43ae-42d9-ac4a-7882bc6a24a5\",\"type\":\"UnionRenderers\"}},\"id\":\"08ac0667-fc9c-4f7a-90e1-55a44f9273a6\",\"type\":\"ColumnDataSource\"},{\"attributes\":{},\"id\":\"6d4b81ac-0453-4c0c-8cc3-c0273af5d4d1\",\"type\":\"CategoricalTicker\"},{\"attributes\":{},\"id\":\"01e92059-e9af-4ffd-95f4-817999bafe3e\",\"type\":\"HelpTool\"},{\"attributes\":{},\"id\":\"7f61e35b-3c01-4d6f-87a0-09506cdcac25\",\"type\":\"LinearScale\"},{\"attributes\":{},\"id\":\"2b3f1770-9275-4be7-8d5a-fe206fbda723\",\"type\":\"ResetTool\"},{\"attributes\":{\"fill_color\":{\"value\":\"#1f77b4\"},\"line_color\":{\"value\":\"#1f77b4\"},\"top\":{\"field\":\"flux\"},\"width\":{\"value\":0.9},\"x\":{\"field\":\"band\"}},\"id\":\"8d39fd14-8118-4d0c-b7ec-39a24a532c55\",\"type\":\"VBar\"},{\"attributes\":{\"overlay\":{\"id\":\"5d5a9a1f-ac82-4b1d-91ac-7fcbc8421fc3\",\"type\":\"BoxAnnotation\"}},\"id\":\"6a2ff255-fd6c-4bbe-9620-c7aa4f2cce3d\",\"type\":\"BoxZoomTool\"},{\"attributes\":{\"active_drag\":\"auto\",\"active_inspect\":\"auto\",\"active_scroll\":\"auto\",\"active_tap\":\"auto\",\"tools\":[{\"id\":\"f6e33759-d392-4b6b-895f-60f5f3e4956c\",\"type\":\"PanTool\"},{\"id\":\"83681286-e48c-4f38-9c2d-2d175e6b8d68\",\"type\":\"WheelZoomTool\"},{\"id\":\"64b8c1e1-6800-460e-a5e6-ce7044e310d5\",\"type\":\"BoxZoomTool\"},{\"id\":\"a02ed4e9-e22b-429c-9ca8-b8a318cf41d3\",\"type\":\"SaveTool\"},{\"id\":\"07a74489-6139-450f-8878-fd86e86a711b\",\"type\":\"ResetTool\"},{\"id\":\"9df26259-6f20-45a8-8bb0-59fe37e7f730\",\"type\":\"HelpTool\"}]},\"id\":\"2e2fd568-d0e8-487a-b3d7-7271a1067de7\",\"type\":\"Toolbar\"},{\"attributes\":{},\"id\":\"75297c2d-3c7a-41d5-97a2-3abf69e42338\",\"type\":\"SaveTool\"},{\"attributes\":{\"data_source\":{\"id\":\"976df45d-42c7-44bd-ac59-6f598f23e871\",\"type\":\"ColumnDataSource\"},\"glyph\":{\"id\":\"033f00c9-a3e6-462f-bc51-4f088ca02315\",\"type\":\"VBar\"},\"hover_glyph\":null,\"muted_glyph\":null,\"nonselection_glyph\":{\"id\":\"949da97b-cdf1-491b-ae37-4ce0e7eda82c\",\"type\":\"VBar\"},\"selection_glyph\":null,\"view\":{\"id\":\"c31157b1-cac1-4274-be81-d95816a127b9\",\"type\":\"CDSView\"}},\"id\":\"d81433f3-bc16-46cf-b27a-dbd5897f6b0e\",\"type\":\"GlyphRenderer\"},{\"attributes\":{\"data_source\":{\"id\":\"08ac0667-fc9c-4f7a-90e1-55a44f9273a6\",\"type\":\"ColumnDataSource\"},\"glyph\":{\"id\":\"8d39fd14-8118-4d0c-b7ec-39a24a532c55\",\"type\":\"VBar\"},\"hover_glyph\":null,\"muted_glyph\":null,\"nonselection_glyph\":{\"id\":\"a03f223b-4af1-4242-9e0b-2f68fb5d5697\",\"type\":\"VBar\"},\"selection_glyph\":null,\"view\":{\"id\":\"a61afba7-4217-4819-9366-8cf364645df8\",\"type\":\"CDSView\"}},\"id\":\"cc8a2021-4658-43fb-9215-e07b2bed8473\",\"type\":\"GlyphRenderer\"},{\"attributes\":{\"fill_alpha\":{\"value\":0.1},\"fill_color\":{\"value\":\"#1f77b4\"},\"line_alpha\":{\"value\":0.1},\"line_color\":{\"value\":\"#1f77b4\"},\"top\":{\"field\":\"flux\"},\"width\":{\"value\":0.9},\"x\":{\"field\":\"band\"}},\"id\":\"a03f223b-4af1-4242-9e0b-2f68fb5d5697\",\"type\":\"VBar\"},{\"attributes\":{\"callback\":null},\"id\":\"676361a3-d361-4e16-a354-1165f86f6a1e\",\"type\":\"DataRange1d\"},{\"attributes\":{\"plot\":{\"id\":\"1427c8b5-46da-437e-9e76-e83ef3810322\",\"subtype\":\"Figure\",\"type\":\"Plot\"},\"ticker\":{\"id\":\"6d4b81ac-0453-4c0c-8cc3-c0273af5d4d1\",\"type\":\"CategoricalTicker\"}},\"id\":\"ae571ed4-5112-4675-b780-20f5adaf09b8\",\"type\":\"Grid\"},{\"attributes\":{\"below\":[{\"id\":\"a8e4cc08-b635-4807-807d-4f21c164e564\",\"type\":\"CategoricalAxis\"}],\"left\":[{\"id\":\"374f5858-075c-4555-a2fe-56d13e95c855\",\"type\":\"LinearAxis\"}],\"plot_height\":300,\"plot_width\":300,\"renderers\":[{\"id\":\"a8e4cc08-b635-4807-807d-4f21c164e564\",\"type\":\"CategoricalAxis\"},{\"id\":\"5628e5d8-8793-43a8-8162-72b42a7402ef\",\"type\":\"Grid\"},{\"id\":\"374f5858-075c-4555-a2fe-56d13e95c855\",\"type\":\"LinearAxis\"},{\"id\":\"1d56330b-0a12-4c30-b3c7-51a41f684d5c\",\"type\":\"Grid\"},{\"id\":\"7da93f8d-a0a3-4e4c-bddd-97df2947d51c\",\"type\":\"BoxAnnotation\"},{\"id\":\"cc8a2021-4658-43fb-9215-e07b2bed8473\",\"type\":\"GlyphRenderer\"}],\"title\":{\"id\":\"7751b155-0aac-4e1b-bbaf-dac8065af214\",\"type\":\"Title\"},\"toolbar\":{\"id\":\"2e2fd568-d0e8-487a-b3d7-7271a1067de7\",\"type\":\"Toolbar\"},\"toolbar_location\":null,\"x_range\":{\"id\":\"180424e5-810a-47ce-a808-0a48b6382416\",\"type\":\"FactorRange\"},\"x_scale\":{\"id\":\"14aa7710-005a-445b-953f-a9c230774564\",\"type\":\"CategoricalScale\"},\"y_range\":{\"id\":\"58bfa607-7048-49aa-8abe-d256d97ab5ae\",\"type\":\"DataRange1d\"},\"y_scale\":{\"id\":\"841ffbec-3015-4c17-ac5e-4313a2c75932\",\"type\":\"LinearScale\"}},\"id\":\"35f1d400-c7be-4906-8de2-866ad5dc9edf\",\"subtype\":\"Figure\",\"type\":\"Plot\"},{\"attributes\":{\"axis_label\":\"flux (W m-2)\",\"formatter\":{\"id\":\"ca7b9ada-f501-429b-bb0c-3169a3bd6192\",\"type\":\"BasicTickFormatter\"},\"plot\":{\"id\":\"1427c8b5-46da-437e-9e76-e83ef3810322\",\"subtype\":\"Figure\",\"type\":\"Plot\"},\"ticker\":{\"id\":\"0ffe6fc9-b5e7-4334-80c9-5cd27352b564\",\"type\":\"BasicTicker\"}},\"id\":\"a28fea28-d1c7-4c74-a3e8-39f968401b57\",\"type\":\"LinearAxis\"},{\"attributes\":{\"fill_color\":{\"value\":\"#1f77b4\"},\"line_color\":{\"value\":\"#1f77b4\"},\"top\":{\"field\":\"flux\"},\"width\":{\"value\":0.9},\"x\":{\"field\":\"band\"}},\"id\":\"033f00c9-a3e6-462f-bc51-4f088ca02315\",\"type\":\"VBar\"},{\"attributes\":{\"dimension\":1,\"plot\":{\"id\":\"1427c8b5-46da-437e-9e76-e83ef3810322\",\"subtype\":\"Figure\",\"type\":\"Plot\"},\"ticker\":{\"id\":\"0ffe6fc9-b5e7-4334-80c9-5cd27352b564\",\"type\":\"BasicTicker\"}},\"id\":\"0225c4c3-15c5-44b1-b530-b73f81b0d284\",\"type\":\"Grid\"}],\"root_ids\":[\"c428b581-7fb5-4d9e-b641-18645c8a5113\"]},\"title\":\"Bokeh Application\",\"version\":\"0.12.16\"}};\n",
       "  var render_items = [{\"docid\":\"e46b75fc-0ba1-4c00-8a34-7dceb93f9339\",\"elementid\":\"ede602d3-f5a8-4bfc-84ab-aef34034497d\",\"modelid\":\"c428b581-7fb5-4d9e-b641-18645c8a5113\"}];\n",
       "  root.Bokeh.embed.embed_items_notebook(docs_json, render_items);\n",
       "\n",
       "  }\n",
       "  if (root.Bokeh !== undefined) {\n",
       "    embed_document(root);\n",
       "  } else {\n",
       "    var attempts = 0;\n",
       "    var timer = setInterval(function(root) {\n",
       "      if (root.Bokeh !== undefined) {\n",
       "        embed_document(root);\n",
       "        clearInterval(timer);\n",
       "      }\n",
       "      attempts++;\n",
       "      if (attempts > 100) {\n",
       "        console.log(\"Bokeh: ERROR: Unable to run BokehJS code because BokehJS library is missing\")\n",
       "        clearInterval(timer);\n",
       "      }\n",
       "    }, 10, root)\n",
       "  }\n",
       "})(window);"
      ],
      "application/vnd.bokehjs_exec.v0+json": ""
     },
     "metadata": {
      "application/vnd.bokehjs_exec.v0+json": {
       "id": "c428b581-7fb5-4d9e-b641-18645c8a5113"
      }
     },
     "output_type": "display_data"
    },
    {
     "data": {
      "text/markdown": [
       "*FIGURE.* Difference between CLIRAD and CRD in TOA, SFC and net atmosphere flux, in each spectral band."
      ],
      "text/plain": [
       "<IPython.core.display.Markdown object>"
      ]
     },
     "metadata": {},
     "output_type": "display_data"
    },
    {
     "data": {
      "text/html": [
       "<div>\n",
       "<style scoped>\n",
       "    .dataframe tbody tr th:only-of-type {\n",
       "        vertical-align: middle;\n",
       "    }\n",
       "\n",
       "    .dataframe tbody tr th {\n",
       "        vertical-align: top;\n",
       "    }\n",
       "\n",
       "    .dataframe thead th {\n",
       "        text-align: right;\n",
       "    }\n",
       "</style>\n",
       "<table border=\"1\" class=\"dataframe\">\n",
       "  <thead>\n",
       "    <tr style=\"text-align: right;\">\n",
       "      <th></th>\n",
       "      <th>OLR flux</th>\n",
       "      <th>SFC flux</th>\n",
       "      <th>ATM heating</th>\n",
       "    </tr>\n",
       "    <tr>\n",
       "      <th>Sum over bands</th>\n",
       "      <th></th>\n",
       "      <th></th>\n",
       "      <th></th>\n",
       "    </tr>\n",
       "  </thead>\n",
       "  <tbody>\n",
       "    <tr>\n",
       "      <th>CLIRAD (single-run) - CRD</th>\n",
       "      <td>0.95</td>\n",
       "      <td>-0.25</td>\n",
       "      <td>1.20</td>\n",
       "    </tr>\n",
       "    <tr>\n",
       "      <th>CRD</th>\n",
       "      <td>-201.06</td>\n",
       "      <td>166.03</td>\n",
       "      <td>-119.67</td>\n",
       "    </tr>\n",
       "  </tbody>\n",
       "</table>\n",
       "</div>"
      ],
      "text/plain": [
       "                           OLR flux  SFC flux  ATM heating\n",
       "Sum over bands                                            \n",
       "CLIRAD (single-run) - CRD      0.95     -0.25         1.20\n",
       "CRD                         -201.06    166.03      -119.67"
      ]
     },
     "metadata": {},
     "output_type": "display_data"
    },
    {
     "data": {
      "text/markdown": [
       "*TABLE.* Difference between CLIRAD and CRD in TOA, SFC and net atmosphere flux, over all spectral bands. CRD's TOA, SFC and net atmosphere flux, over all spectral bands."
      ],
      "text/plain": [
       "<IPython.core.display.Markdown object>"
      ]
     },
     "metadata": {},
     "output_type": "display_data"
    },
    {
     "data": {
      "text/html": [
       "<a id=\"Cooling_rates._trp.\"></a>"
      ],
      "text/plain": [
       "<IPython.core.display.HTML object>"
      ]
     },
     "metadata": {},
     "output_type": "display_data"
    },
    {
     "data": {
      "text/markdown": [
       "# Cooling rates. trp."
      ],
      "text/plain": [
       "<IPython.core.display.Markdown object>"
      ]
     },
     "metadata": {},
     "output_type": "display_data"
    },
    {
     "data": {
      "text/html": [
       "\n",
       "<div class=\"bk-root\">\n",
       "    <div class=\"bk-plotdiv\" id=\"4a53a1a4-4eef-4050-b96c-2621a4e12c98\"></div>\n",
       "</div>"
      ]
     },
     "metadata": {},
     "output_type": "display_data"
    },
    {
     "data": {
      "application/javascript": [
       "(function(root) {\n",
       "  function embed_document(root) {\n",
       "    \n",
       "  var docs_json = {\"919e87b3-efa3-49b1-9fae-df8f3029f5b6\":{\"roots\":{\"references\":[{\"attributes\":{\"callback\":null,\"data\":{\"x\":{\"__ndarray__\":\"LMunYk39Q8Ac5K+9hYUgwIuHOhlXuwLAltV0icEP/D9ciMBqEyYOQEEvTS9sxQ5Akk9ePE5KBEBV+YTOHajmP0UGQEYAPOi/26+cD3089b9RgP4ixk/xv2pCEiHW8N6/GNT09DSytT/Kk68oN1bdP5RqKCa/LOE/YmhRqpmQ1j+D3wAMgUGxP40ANRFImNG/b5TAzltJ4b93Tf0tBlrhv5JF8PwOotO/yD6A/KBOur9reWwStWugv/MPMWgcr8u/rZU+ATxJ17/n7rKlU1u7v8f5KS9Xc9Q/muf1wbaL1T8ggupVl+y3Pwkh51b/r4M/w1qKxkMAzj/nAwroXAHUP/bkiLMW2sA/v0hl7WNDrr+1pe499ZWfv9o6NmjZxqA/95zSSzc7ob+UsRdWjz20v71+6uaRs7C/+X9FsH1grr8qqtuiDoqwv/veDk+K7rC/oYoVcMSwsr/AVG4iegyqv8COVhfARrG/bSpkjUcQwL95TI8x4tS0v2fiAevrqa+/3yquglu/tb+EPm/QvZO1v0Saxz0SE62/KAA0MRAroL98A/o1rOuUv5xdm1QPNJa/BBD2d4TEnb+s0wwxb7Gevw8FodMrGY2/ELH9AWJUkD/kYw0wVsimP1j+QEJfPa0/yPRVyTKKqD+dXllL/K+ZP+BU0s9DiWA/pBF2C9aYdb8wCUuYxyNyP9paSq4LzJs/wKdJ7WDkrD/5xKXwwaeyP7rBqbSWVrM/9WC/z4tmtD/eSPcgj3W1P+wv9xzjibY/cN7nmK2Fuj/8Nzaan4S+P5S4FKuUC8A/\",\"dtype\":\"float64\",\"shape\":[75]},\"y\":{\"__ndarray__\":\"GhExyth1ND/Sv8nbtpRIP2vylNV0PVE/aTum7souWD/At0SJ8fVgPw3Iuahxymc/MSNhhJWvcD/bTfBN02d3P2zb5nxnaoA/CD5h5MAGhz8NmeH1TyaQP+zrCsc9p5Y/LbKd76fGnz/bLW5ISEmmPww9YvTcQq8/JV2OstnstT8Er5Y7M8G+P0c+r3jqkcU/5h99k6ZBzj88bCIzFzjVP4enV8oyxN0//yH99nXg5D8qOpLLf0jtP5kqGJXUifQ/c9cS8kHP/D+/DpwzojQEQIEmwoanVwxA4lgXt9HgE0BSSZ2AJuIbQAMJih9jjiNA5q4l5INuK0AwTKYKRj0zQNv5fmq8/DpAaCJseHrtQkB/+zpwzoxKQM3MzMzMeFJAZmZmZmZqWEAAAAAAAFxeQM3MzMzMJmJAmpmZmZkfZUBmZmZmZhhoQDMzMzMzEWtAAAAAAAAKbkBmZmZmZoFwQM3MzMzM/XFAMzMzMzN6c0CamZmZmfZ0QAAAAAAAc3ZAZmZmZmbvd0DNzMzMzGt5QDMzMzMz6HpAmpmZmZlkfEAAAAAAAOF9QGZmZmZmXX9AZmZmZuZsgECamZmZGSuBQM3MzMxM6YFAAAAAAICngkAzMzMzs2WDQGZmZmbmI4RAmpmZmRnihEDNzMzMTKCFQAAAAACAXoZAMzMzM7Mch0BmZmZm5tqHQJqZmZkZmYhAzczMzExXiUAAAAAAgBWKQDMzMzOz04pAZmZmZuaRi0CamZmZGVCMQM3MzMxMDo1AAAAAAIDMjUAzMzMzs4qOQGZmZmbmSI9A\",\"dtype\":\"float64\",\"shape\":[75]}},\"selected\":{\"id\":\"f707ba5f-eada-4c0d-8a94-4a444ccc726d\",\"type\":\"Selection\"},\"selection_policy\":{\"id\":\"f4a64829-74ab-4307-97b4-f485ee5825c7\",\"type\":\"UnionRenderers\"}},\"id\":\"7595676b-a3c8-499c-b9e4-7734d326a9c8\",\"type\":\"ColumnDataSource\"},{\"attributes\":{},\"id\":\"4faa6db8-288d-4393-8a4c-ef717432b71a\",\"type\":\"LinearScale\"},{\"attributes\":{\"num_minor_ticks\":10},\"id\":\"56017a0b-e3c0-4e86-9a7a-3a19076d3b7b\",\"type\":\"LogTicker\"},{\"attributes\":{},\"id\":\"41d226ae-10a9-42fb-a285-2069ca086763\",\"type\":\"SaveTool\"},{\"attributes\":{\"fill_alpha\":{\"value\":0.7},\"fill_color\":{\"value\":\"#984ea3\"},\"line_alpha\":{\"value\":0.7},\"line_color\":{\"value\":\"#984ea3\"},\"x\":{\"field\":\"x\"},\"y\":{\"field\":\"y\"}},\"id\":\"dabcc907-530d-46e0-8fad-20728ef75911\",\"type\":\"Circle\"},{\"attributes\":{\"items\":[{\"id\":\"6c709b22-43a4-400c-a54c-eedcbd886823\",\"type\":\"LegendItem\"}],\"label_text_font_size\":{\"value\":\"8pt\"},\"location\":\"top_center\",\"orientation\":\"horizontal\",\"plot\":{\"id\":\"db35e56c-cc6a-4f26-b876-0200ffb3e45b\",\"subtype\":\"Figure\",\"type\":\"Plot\"}},\"id\":\"6ecaab1e-25dd-4067-95d0-e39a1083de52\",\"type\":\"Legend\"},{\"attributes\":{\"callback\":null,\"data\":{\"x\":{\"__ndarray__\":\"LMunYk39Q8Ac5K+9hYUgwIuHOhlXuwLAltV0icEP/D9ciMBqEyYOQEEvTS9sxQ5Akk9ePE5KBEBV+YTOHajmP0UGQEYAPOi/26+cD3089b9RgP4ixk/xv2pCEiHW8N6/GNT09DSytT/Kk68oN1bdP5RqKCa/LOE/YmhRqpmQ1j+D3wAMgUGxP40ANRFImNG/b5TAzltJ4b93Tf0tBlrhv5JF8PwOotO/yD6A/KBOur9reWwStWugv/MPMWgcr8u/rZU+ATxJ17/n7rKlU1u7v8f5KS9Xc9Q/muf1wbaL1T8ggupVl+y3Pwkh51b/r4M/w1qKxkMAzj/nAwroXAHUP/bkiLMW2sA/v0hl7WNDrr+1pe499ZWfv9o6NmjZxqA/95zSSzc7ob+UsRdWjz20v71+6uaRs7C/+X9FsH1grr8qqtuiDoqwv/veDk+K7rC/oYoVcMSwsr/AVG4iegyqv8COVhfARrG/bSpkjUcQwL95TI8x4tS0v2fiAevrqa+/3yquglu/tb+EPm/QvZO1v0Saxz0SE62/KAA0MRAroL98A/o1rOuUv5xdm1QPNJa/BBD2d4TEnb+s0wwxb7Gevw8FodMrGY2/ELH9AWJUkD/kYw0wVsimP1j+QEJfPa0/yPRVyTKKqD+dXllL/K+ZP+BU0s9DiWA/pBF2C9aYdb8wCUuYxyNyP9paSq4LzJs/wKdJ7WDkrD/5xKXwwaeyP7rBqbSWVrM/9WC/z4tmtD/eSPcgj3W1P+wv9xzjibY/cN7nmK2Fuj/8Nzaan4S+P5S4FKuUC8A/\",\"dtype\":\"float64\",\"shape\":[75]},\"y\":{\"__ndarray__\":\"GhExyth1ND/Sv8nbtpRIP2vylNV0PVE/aTum7souWD/At0SJ8fVgPw3Iuahxymc/MSNhhJWvcD/bTfBN02d3P2zb5nxnaoA/CD5h5MAGhz8NmeH1TyaQP+zrCsc9p5Y/LbKd76fGnz/bLW5ISEmmPww9YvTcQq8/JV2OstnstT8Er5Y7M8G+P0c+r3jqkcU/5h99k6ZBzj88bCIzFzjVP4enV8oyxN0//yH99nXg5D8qOpLLf0jtP5kqGJXUifQ/c9cS8kHP/D+/DpwzojQEQIEmwoanVwxA4lgXt9HgE0BSSZ2AJuIbQAMJih9jjiNA5q4l5INuK0AwTKYKRj0zQNv5fmq8/DpAaCJseHrtQkB/+zpwzoxKQM3MzMzMeFJAZmZmZmZqWEAAAAAAAFxeQM3MzMzMJmJAmpmZmZkfZUBmZmZmZhhoQDMzMzMzEWtAAAAAAAAKbkBmZmZmZoFwQM3MzMzM/XFAMzMzMzN6c0CamZmZmfZ0QAAAAAAAc3ZAZmZmZmbvd0DNzMzMzGt5QDMzMzMz6HpAmpmZmZlkfEAAAAAAAOF9QGZmZmZmXX9AZmZmZuZsgECamZmZGSuBQM3MzMxM6YFAAAAAAICngkAzMzMzs2WDQGZmZmbmI4RAmpmZmRnihEDNzMzMTKCFQAAAAACAXoZAMzMzM7Mch0BmZmZm5tqHQJqZmZkZmYhAzczMzExXiUAAAAAAgBWKQDMzMzOz04pAZmZmZuaRi0CamZmZGVCMQM3MzMxMDo1AAAAAAIDMjUAzMzMzs4qOQGZmZmbmSI9A\",\"dtype\":\"float64\",\"shape\":[75]}},\"selected\":{\"id\":\"bb4a859a-8a58-4476-8f0e-4d310a28a7ac\",\"type\":\"Selection\"},\"selection_policy\":{\"id\":\"76bd165f-de25-461f-8f82-3a6e49ec78b0\",\"type\":\"UnionRenderers\"}},\"id\":\"d4f0266f-4d00-4261-b961-52066aeafaa6\",\"type\":\"ColumnDataSource\"},{\"attributes\":{},\"id\":\"f8217129-5e2f-4343-9e54-a65d2f148830\",\"type\":\"PanTool\"},{\"attributes\":{},\"id\":\"18ec82ab-dac3-4951-b0e3-e10b1e095c75\",\"type\":\"Selection\"},{\"attributes\":{\"dimension\":1,\"plot\":{\"id\":\"db35e56c-cc6a-4f26-b876-0200ffb3e45b\",\"subtype\":\"Figure\",\"type\":\"Plot\"},\"ticker\":{\"id\":\"56017a0b-e3c0-4e86-9a7a-3a19076d3b7b\",\"type\":\"LogTicker\"}},\"id\":\"aa8d68ad-9ae9-4895-a22e-ae21fa26d0d1\",\"type\":\"Grid\"},{\"attributes\":{\"items\":[{\"id\":\"e43724ab-1c26-437c-a9f7-e52e002d887d\",\"type\":\"LegendItem\"},{\"id\":\"70c786af-e14c-433f-8132-082ccfffe543\",\"type\":\"LegendItem\"}],\"label_text_font_size\":{\"value\":\"8pt\"},\"location\":\"top_center\",\"orientation\":\"horizontal\",\"plot\":{\"id\":\"6da534a7-679c-4e54-8789-5e8e26cfdc5c\",\"subtype\":\"Figure\",\"type\":\"Plot\"}},\"id\":\"509d4beb-9e45-42f5-8b49-726b640bc9af\",\"type\":\"Legend\"},{\"attributes\":{},\"id\":\"c633e700-56d3-4081-b4b1-daca761f442c\",\"type\":\"BasicTicker\"},{\"attributes\":{},\"id\":\"b0743c84-e2dd-47ab-b958-759cee2e648e\",\"type\":\"UnionRenderers\"},{\"attributes\":{\"above\":[{\"id\":\"6ecaab1e-25dd-4067-95d0-e39a1083de52\",\"type\":\"Legend\"}],\"below\":[{\"id\":\"8a6f2c3b-7460-4053-9050-0d6e1d31a1c5\",\"type\":\"LinearAxis\"}],\"left\":[{\"id\":\"1d49be68-9c02-48f1-b1c8-104302b536f4\",\"type\":\"LogAxis\"}],\"plot_width\":300,\"renderers\":[{\"id\":\"8a6f2c3b-7460-4053-9050-0d6e1d31a1c5\",\"type\":\"LinearAxis\"},{\"id\":\"288d8771-8189-4d2a-828c-6979e54369e1\",\"type\":\"Grid\"},{\"id\":\"1d49be68-9c02-48f1-b1c8-104302b536f4\",\"type\":\"LogAxis\"},{\"id\":\"aa8d68ad-9ae9-4895-a22e-ae21fa26d0d1\",\"type\":\"Grid\"},{\"id\":\"3e02bc9e-6855-4c4a-8781-663145e90d2e\",\"type\":\"BoxAnnotation\"},{\"id\":\"16534210-7204-4287-8c62-64f879a9f657\",\"type\":\"GlyphRenderer\"},{\"id\":\"9f9a78b4-b4cd-4158-a226-1e10b6d31fa8\",\"type\":\"GlyphRenderer\"},{\"id\":\"6ecaab1e-25dd-4067-95d0-e39a1083de52\",\"type\":\"Legend\"}],\"title\":{\"id\":\"f72509c3-1f45-423c-9eb3-6d3a2cafb6be\",\"type\":\"Title\"},\"toolbar\":{\"id\":\"f60dfecf-d097-454d-b2fb-085fe1199ffd\",\"type\":\"Toolbar\"},\"toolbar_location\":null,\"x_range\":{\"id\":\"808200b8-2af2-430c-a77d-196feafc1f15\",\"type\":\"Range1d\"},\"x_scale\":{\"id\":\"8ee6bf51-ae89-48e3-85f6-2bd565d0e1a3\",\"type\":\"LinearScale\"},\"y_range\":{\"id\":\"d80888ff-4195-4852-a891-7e9247bb321f\",\"type\":\"Range1d\"},\"y_scale\":{\"id\":\"04f999fb-32ad-4a2d-8771-6402ee6853f2\",\"type\":\"LogScale\"}},\"id\":\"db35e56c-cc6a-4f26-b876-0200ffb3e45b\",\"subtype\":\"Figure\",\"type\":\"Plot\"},{\"attributes\":{},\"id\":\"61324402-7323-432c-888e-d20618e73cd8\",\"type\":\"HelpTool\"},{\"attributes\":{\"fill_alpha\":{\"value\":0.1},\"fill_color\":{\"value\":\"#1f77b4\"},\"line_alpha\":{\"value\":0.1},\"line_color\":{\"value\":\"#1f77b4\"},\"x\":{\"field\":\"x\"},\"y\":{\"field\":\"y\"}},\"id\":\"2f1e66c6-d4e3-4789-889d-65f0580b52f9\",\"type\":\"Circle\"},{\"attributes\":{\"axis_label\":\"cooling rate [K/day]\",\"formatter\":{\"id\":\"4814f124-337a-4ee0-9ebd-647e7011718b\",\"type\":\"BasicTickFormatter\"},\"plot\":{\"id\":\"6da534a7-679c-4e54-8789-5e8e26cfdc5c\",\"subtype\":\"Figure\",\"type\":\"Plot\"},\"ticker\":{\"id\":\"222c8fda-cf08-4969-8615-6dece05f84cb\",\"type\":\"BasicTicker\"}},\"id\":\"27d3221c-31b2-4989-891e-3fd8cc8ac8b8\",\"type\":\"LinearAxis\"},{\"attributes\":{\"callback\":null,\"end\":0.5553520401785079,\"start\":-1.3459075044057083},\"id\":\"808200b8-2af2-430c-a77d-196feafc1f15\",\"type\":\"Range1d\"},{\"attributes\":{\"callback\":null,\"end\":0.01,\"start\":1020},\"id\":\"bd352405-6c0f-46e4-a011-5c1c25f4e6a4\",\"type\":\"Range1d\"},{\"attributes\":{\"axis_label\":\"pressure [mb]\",\"formatter\":{\"id\":\"4d826aee-99c6-4c56-a0b4-8ce925753255\",\"type\":\"BasicTickFormatter\"},\"plot\":{\"id\":\"6da534a7-679c-4e54-8789-5e8e26cfdc5c\",\"subtype\":\"Figure\",\"type\":\"Plot\"},\"ticker\":{\"id\":\"b166d0e1-4234-4dec-ae1f-930141c85dd1\",\"type\":\"BasicTicker\"}},\"id\":\"22d7dda5-9941-4718-bd91-b6237dfe98e9\",\"type\":\"LinearAxis\"},{\"attributes\":{\"children\":[{\"id\":\"87006e42-b9f9-4303-86be-2fd0b3a37156\",\"type\":\"Row\"}]},\"id\":\"7d77073a-e196-4d45-a9dc-cd8c932d1e01\",\"type\":\"Column\"},{\"attributes\":{},\"id\":\"147372e2-fdff-4881-b01f-4fe622b7f21f\",\"type\":\"LinearScale\"},{\"attributes\":{},\"id\":\"04f999fb-32ad-4a2d-8771-6402ee6853f2\",\"type\":\"LogScale\"},{\"attributes\":{\"plot\":{\"id\":\"6da534a7-679c-4e54-8789-5e8e26cfdc5c\",\"subtype\":\"Figure\",\"type\":\"Plot\"},\"ticker\":{\"id\":\"222c8fda-cf08-4969-8615-6dece05f84cb\",\"type\":\"BasicTicker\"}},\"id\":\"2f7236cd-b449-49f8-a012-4d071db57b45\",\"type\":\"Grid\"},{\"attributes\":{\"active_drag\":\"auto\",\"active_inspect\":\"auto\",\"active_scroll\":\"auto\",\"active_tap\":\"auto\",\"tools\":[{\"id\":\"7ae01d0d-a6a5-4b82-a892-4fd3b3b9637a\",\"type\":\"PanTool\"},{\"id\":\"e7907ddf-3e57-40af-a3a9-caaef56a8d90\",\"type\":\"WheelZoomTool\"},{\"id\":\"c6ebd57e-6ab4-486f-a7bf-d29b2928dd05\",\"type\":\"BoxZoomTool\"},{\"id\":\"cc6041ac-1692-4e46-a89a-1266ee2f75c7\",\"type\":\"SaveTool\"},{\"id\":\"b3e672ba-769b-4232-99f6-6b662742ff00\",\"type\":\"ResetTool\"},{\"id\":\"ca404ce3-55db-46a9-91dd-90b6c615ce6f\",\"type\":\"HelpTool\"}]},\"id\":\"e213417a-9e8f-416e-8118-3025ffda4785\",\"type\":\"Toolbar\"},{\"attributes\":{\"line_alpha\":0.8,\"line_color\":\"#984ea3\",\"line_width\":1.5,\"x\":{\"field\":\"x\"},\"y\":{\"field\":\"y\"}},\"id\":\"93a84e91-0217-4401-8671-83d9ea1afb92\",\"type\":\"Line\"},{\"attributes\":{\"bottom_units\":\"screen\",\"fill_alpha\":{\"value\":0.5},\"fill_color\":{\"value\":\"lightgrey\"},\"left_units\":\"screen\",\"level\":\"overlay\",\"line_alpha\":{\"value\":1.0},\"line_color\":{\"value\":\"black\"},\"line_dash\":[4,4],\"line_width\":{\"value\":2},\"plot\":null,\"render_mode\":\"css\",\"right_units\":\"screen\",\"top_units\":\"screen\"},\"id\":\"3e02bc9e-6855-4c4a-8781-663145e90d2e\",\"type\":\"BoxAnnotation\"},{\"attributes\":{\"above\":[{\"id\":\"86b8f521-cd8b-4989-8073-09a1d0a993b2\",\"type\":\"Legend\"}],\"below\":[{\"id\":\"9a75aeb6-7ee7-45a0-954d-6b1d063e9cd2\",\"type\":\"LinearAxis\"}],\"left\":[{\"id\":\"3fc9efb3-099a-4348-8975-62e11a1ef044\",\"type\":\"LogAxis\"}],\"plot_width\":300,\"renderers\":[{\"id\":\"9a75aeb6-7ee7-45a0-954d-6b1d063e9cd2\",\"type\":\"LinearAxis\"},{\"id\":\"fd2a7716-03a7-4c81-b0a8-106b6e15d124\",\"type\":\"Grid\"},{\"id\":\"3fc9efb3-099a-4348-8975-62e11a1ef044\",\"type\":\"LogAxis\"},{\"id\":\"8feea3d3-154e-4555-b6cd-62321158c6f9\",\"type\":\"Grid\"},{\"id\":\"8b331218-8524-41c4-aa00-3406d0fbf305\",\"type\":\"BoxAnnotation\"},{\"id\":\"d5815c88-cfa0-49e7-bed8-20ad4171204d\",\"type\":\"GlyphRenderer\"},{\"id\":\"083f6770-b45d-43f0-be00-3f4847be6d1a\",\"type\":\"GlyphRenderer\"},{\"id\":\"ad1bc1e9-b56f-4870-947f-ca3d48198814\",\"type\":\"GlyphRenderer\"},{\"id\":\"86b8f521-cd8b-4989-8073-09a1d0a993b2\",\"type\":\"Legend\"}],\"title\":{\"id\":\"ffee0ba1-4639-407c-a614-0b70a63bc570\",\"type\":\"Title\"},\"toolbar\":{\"id\":\"e7025e60-c39b-486d-825d-7fb49c44edc4\",\"type\":\"Toolbar\"},\"toolbar_location\":null,\"x_range\":{\"id\":\"488523ae-b4f8-4ca5-870b-5223387920fb\",\"type\":\"Range1d\"},\"x_scale\":{\"id\":\"9b5ca242-cd68-4bbb-9401-61faaeeba341\",\"type\":\"LinearScale\"},\"y_range\":{\"id\":\"11aa0b0f-e2e6-4a1f-97ba-f2e268fb1a4c\",\"type\":\"Range1d\"},\"y_scale\":{\"id\":\"3b07c7af-261f-44bd-ac6c-93707a55012e\",\"type\":\"LogScale\"}},\"id\":\"407310df-89e8-49e1-8dbf-c898bad36d5b\",\"subtype\":\"Figure\",\"type\":\"Plot\"},{\"attributes\":{\"axis_label\":\"pressure [mb]\",\"formatter\":{\"id\":\"a8ae47d5-2df9-47ad-b7d6-12336c99ffc5\",\"type\":\"LogTickFormatter\"},\"plot\":{\"id\":\"db35e56c-cc6a-4f26-b876-0200ffb3e45b\",\"subtype\":\"Figure\",\"type\":\"Plot\"},\"ticker\":{\"id\":\"56017a0b-e3c0-4e86-9a7a-3a19076d3b7b\",\"type\":\"LogTicker\"}},\"id\":\"1d49be68-9c02-48f1-b1c8-104302b536f4\",\"type\":\"LogAxis\"},{\"attributes\":{\"callback\":null,\"end\":0.01,\"start\":1020},\"id\":\"d80888ff-4195-4852-a891-7e9247bb321f\",\"type\":\"Range1d\"},{\"attributes\":{},\"id\":\"b3e672ba-769b-4232-99f6-6b662742ff00\",\"type\":\"ResetTool\"},{\"attributes\":{\"active_drag\":\"auto\",\"active_inspect\":\"auto\",\"active_scroll\":\"auto\",\"active_tap\":\"auto\",\"tools\":[{\"id\":\"f8217129-5e2f-4343-9e54-a65d2f148830\",\"type\":\"PanTool\"},{\"id\":\"643de37e-e282-41df-9e27-fe692171bc6b\",\"type\":\"WheelZoomTool\"},{\"id\":\"444abd94-a0b4-4e2e-a3c9-1f1377dd9578\",\"type\":\"BoxZoomTool\"},{\"id\":\"41d226ae-10a9-42fb-a285-2069ca086763\",\"type\":\"SaveTool\"},{\"id\":\"d7df49c6-1907-48e0-823d-e8b63d9c0f1c\",\"type\":\"ResetTool\"},{\"id\":\"61324402-7323-432c-888e-d20618e73cd8\",\"type\":\"HelpTool\"}]},\"id\":\"f60dfecf-d097-454d-b2fb-085fe1199ffd\",\"type\":\"Toolbar\"},{\"attributes\":{},\"id\":\"d7df49c6-1907-48e0-823d-e8b63d9c0f1c\",\"type\":\"ResetTool\"},{\"attributes\":{\"above\":[{\"id\":\"509d4beb-9e45-42f5-8b49-726b640bc9af\",\"type\":\"Legend\"}],\"below\":[{\"id\":\"27d3221c-31b2-4989-891e-3fd8cc8ac8b8\",\"type\":\"LinearAxis\"}],\"left\":[{\"id\":\"22d7dda5-9941-4718-bd91-b6237dfe98e9\",\"type\":\"LinearAxis\"}],\"plot_width\":300,\"renderers\":[{\"id\":\"27d3221c-31b2-4989-891e-3fd8cc8ac8b8\",\"type\":\"LinearAxis\"},{\"id\":\"2f7236cd-b449-49f8-a012-4d071db57b45\",\"type\":\"Grid\"},{\"id\":\"22d7dda5-9941-4718-bd91-b6237dfe98e9\",\"type\":\"LinearAxis\"},{\"id\":\"d5d6b09a-16b1-4980-9b18-e26d05b55308\",\"type\":\"Grid\"},{\"id\":\"8f5c1439-4740-4e6c-8951-0a587a06a190\",\"type\":\"BoxAnnotation\"},{\"id\":\"0bc63370-7095-452f-a76f-0f0335b13321\",\"type\":\"GlyphRenderer\"},{\"id\":\"09fb210e-74ad-40f7-9892-b52897811541\",\"type\":\"GlyphRenderer\"},{\"id\":\"33a8316e-c127-492c-967f-bbfce531ff67\",\"type\":\"GlyphRenderer\"},{\"id\":\"509d4beb-9e45-42f5-8b49-726b640bc9af\",\"type\":\"Legend\"}],\"title\":{\"id\":\"6ab19537-6482-4871-81af-293bc9a403b4\",\"type\":\"Title\"},\"toolbar\":{\"id\":\"e213417a-9e8f-416e-8118-3025ffda4785\",\"type\":\"Toolbar\"},\"toolbar_location\":null,\"x_range\":{\"id\":\"855b9880-7f21-4c2e-b170-7884eb13f149\",\"type\":\"Range1d\"},\"x_scale\":{\"id\":\"4faa6db8-288d-4393-8a4c-ef717432b71a\",\"type\":\"LinearScale\"},\"y_range\":{\"id\":\"bd352405-6c0f-46e4-a011-5c1c25f4e6a4\",\"type\":\"Range1d\"},\"y_scale\":{\"id\":\"147372e2-fdff-4881-b01f-4fe622b7f21f\",\"type\":\"LinearScale\"}},\"id\":\"6da534a7-679c-4e54-8789-5e8e26cfdc5c\",\"subtype\":\"Figure\",\"type\":\"Plot\"},{\"attributes\":{},\"id\":\"8ee6bf51-ae89-48e3-85f6-2bd565d0e1a3\",\"type\":\"LinearScale\"},{\"attributes\":{},\"id\":\"222c8fda-cf08-4969-8615-6dece05f84cb\",\"type\":\"BasicTicker\"},{\"attributes\":{\"children\":[{\"id\":\"68bf6fb7-18ae-4623-8328-4aaa5ed27656\",\"type\":\"ToolbarBox\"},{\"id\":\"7d77073a-e196-4d45-a9dc-cd8c932d1e01\",\"type\":\"Column\"}]},\"id\":\"20b13f20-ebcf-414d-a032-11ec1f94ecd6\",\"type\":\"Column\"},{\"attributes\":{\"axis_label\":\"cooling rate [K/day]\",\"formatter\":{\"id\":\"bee55440-71bd-4a92-b0fe-a0ef9eadbc37\",\"type\":\"BasicTickFormatter\"},\"plot\":{\"id\":\"db35e56c-cc6a-4f26-b876-0200ffb3e45b\",\"subtype\":\"Figure\",\"type\":\"Plot\"},\"ticker\":{\"id\":\"c633e700-56d3-4081-b4b1-daca761f442c\",\"type\":\"BasicTicker\"}},\"id\":\"8a6f2c3b-7460-4053-9050-0d6e1d31a1c5\",\"type\":\"LinearAxis\"},{\"attributes\":{\"source\":{\"id\":\"d4f0266f-4d00-4261-b961-52066aeafaa6\",\"type\":\"ColumnDataSource\"}},\"id\":\"10f38cbe-33e0-4b4a-aaed-a1587f55f472\",\"type\":\"CDSView\"},{\"attributes\":{\"overlay\":{\"id\":\"3e02bc9e-6855-4c4a-8781-663145e90d2e\",\"type\":\"BoxAnnotation\"}},\"id\":\"444abd94-a0b4-4e2e-a3c9-1f1377dd9578\",\"type\":\"BoxZoomTool\"},{\"attributes\":{},\"id\":\"ca404ce3-55db-46a9-91dd-90b6c615ce6f\",\"type\":\"HelpTool\"},{\"attributes\":{\"plot\":{\"id\":\"db35e56c-cc6a-4f26-b876-0200ffb3e45b\",\"subtype\":\"Figure\",\"type\":\"Plot\"},\"ticker\":{\"id\":\"c633e700-56d3-4081-b4b1-daca761f442c\",\"type\":\"BasicTicker\"}},\"id\":\"288d8771-8189-4d2a-828c-6979e54369e1\",\"type\":\"Grid\"},{\"attributes\":{},\"id\":\"643de37e-e282-41df-9e27-fe692171bc6b\",\"type\":\"WheelZoomTool\"},{\"attributes\":{\"line_alpha\":0.1,\"line_color\":\"#1f77b4\",\"line_width\":1.5,\"x\":{\"field\":\"x\"},\"y\":{\"field\":\"y\"}},\"id\":\"eb649879-68eb-43d9-a029-9ec62c88ce53\",\"type\":\"Line\"},{\"attributes\":{\"plot\":null,\"text\":\"\"},\"id\":\"f72509c3-1f45-423c-9eb3-6d3a2cafb6be\",\"type\":\"Title\"},{\"attributes\":{},\"id\":\"3741bcc6-a71e-4532-9add-34b8697abd7b\",\"type\":\"UnionRenderers\"},{\"attributes\":{},\"id\":\"4d826aee-99c6-4c56-a0b4-8ce925753255\",\"type\":\"BasicTickFormatter\"},{\"attributes\":{},\"id\":\"bb4a859a-8a58-4476-8f0e-4d310a28a7ac\",\"type\":\"Selection\"},{\"attributes\":{},\"id\":\"c616f5ae-5c69-493a-86b0-3368a9c16fa0\",\"type\":\"Selection\"},{\"attributes\":{\"ticker\":null},\"id\":\"a8ae47d5-2df9-47ad-b7d6-12336c99ffc5\",\"type\":\"LogTickFormatter\"},{\"attributes\":{},\"id\":\"f4a64829-74ab-4307-97b4-f485ee5825c7\",\"type\":\"UnionRenderers\"},{\"attributes\":{},\"id\":\"bee55440-71bd-4a92-b0fe-a0ef9eadbc37\",\"type\":\"BasicTickFormatter\"},{\"attributes\":{},\"id\":\"07a4aec0-fc0d-4964-b9d0-946f927b94af\",\"type\":\"BasicTickFormatter\"},{\"attributes\":{\"tools\":[{\"id\":\"7ae01d0d-a6a5-4b82-a892-4fd3b3b9637a\",\"type\":\"PanTool\"},{\"id\":\"e7907ddf-3e57-40af-a3a9-caaef56a8d90\",\"type\":\"WheelZoomTool\"},{\"id\":\"c6ebd57e-6ab4-486f-a7bf-d29b2928dd05\",\"type\":\"BoxZoomTool\"},{\"id\":\"cc6041ac-1692-4e46-a89a-1266ee2f75c7\",\"type\":\"SaveTool\"},{\"id\":\"b3e672ba-769b-4232-99f6-6b662742ff00\",\"type\":\"ResetTool\"},{\"id\":\"ca404ce3-55db-46a9-91dd-90b6c615ce6f\",\"type\":\"HelpTool\"},{\"id\":\"01717f17-8962-4864-8c52-3d2c16d91dd9\",\"type\":\"PanTool\"},{\"id\":\"073324c6-18da-4ac5-9bbb-a937b061b3fb\",\"type\":\"WheelZoomTool\"},{\"id\":\"aebd10b1-85a9-403d-8c7d-4792988a23b2\",\"type\":\"BoxZoomTool\"},{\"id\":\"04586bab-402d-43b8-97ae-6335e747f954\",\"type\":\"SaveTool\"},{\"id\":\"2194b0c4-b5f8-4975-9a38-0551679e1cb4\",\"type\":\"ResetTool\"},{\"id\":\"f59c517a-0fe5-420e-9393-5cc93259132f\",\"type\":\"HelpTool\"},{\"id\":\"f8217129-5e2f-4343-9e54-a65d2f148830\",\"type\":\"PanTool\"},{\"id\":\"643de37e-e282-41df-9e27-fe692171bc6b\",\"type\":\"WheelZoomTool\"},{\"id\":\"444abd94-a0b4-4e2e-a3c9-1f1377dd9578\",\"type\":\"BoxZoomTool\"},{\"id\":\"41d226ae-10a9-42fb-a285-2069ca086763\",\"type\":\"SaveTool\"},{\"id\":\"d7df49c6-1907-48e0-823d-e8b63d9c0f1c\",\"type\":\"ResetTool\"},{\"id\":\"61324402-7323-432c-888e-d20618e73cd8\",\"type\":\"HelpTool\"}]},\"id\":\"b0419b6f-5fa1-4053-9d89-06c57306bb8e\",\"type\":\"ProxyToolbar\"},{\"attributes\":{\"data_source\":{\"id\":\"7595676b-a3c8-499c-b9e4-7734d326a9c8\",\"type\":\"ColumnDataSource\"},\"glyph\":{\"id\":\"93a84e91-0217-4401-8671-83d9ea1afb92\",\"type\":\"Line\"},\"hover_glyph\":null,\"muted_glyph\":null,\"nonselection_glyph\":{\"id\":\"eb649879-68eb-43d9-a029-9ec62c88ce53\",\"type\":\"Line\"},\"selection_glyph\":null,\"view\":{\"id\":\"00854e59-1805-4f95-9944-ba2c36afb5c3\",\"type\":\"CDSView\"}},\"id\":\"9f9a78b4-b4cd-4158-a226-1e10b6d31fa8\",\"type\":\"GlyphRenderer\"},{\"attributes\":{},\"id\":\"c62527c2-d187-46bd-a7dc-9a1715162ca0\",\"type\":\"Selection\"},{\"attributes\":{\"children\":[{\"id\":\"6da534a7-679c-4e54-8789-5e8e26cfdc5c\",\"subtype\":\"Figure\",\"type\":\"Plot\"},{\"id\":\"407310df-89e8-49e1-8dbf-c898bad36d5b\",\"subtype\":\"Figure\",\"type\":\"Plot\"},{\"id\":\"db35e56c-cc6a-4f26-b876-0200ffb3e45b\",\"subtype\":\"Figure\",\"type\":\"Plot\"}]},\"id\":\"87006e42-b9f9-4303-86be-2fd0b3a37156\",\"type\":\"Row\"},{\"attributes\":{},\"id\":\"1bfcd6d5-07cc-4d69-820e-f5af231249ca\",\"type\":\"UnionRenderers\"},{\"attributes\":{},\"id\":\"0c30fd80-bffe-4719-b9bd-73a56cef1e63\",\"type\":\"Selection\"},{\"attributes\":{\"plot\":null,\"text\":\"\"},\"id\":\"6ab19537-6482-4871-81af-293bc9a403b4\",\"type\":\"Title\"},{\"attributes\":{},\"id\":\"4814f124-337a-4ee0-9ebd-647e7011718b\",\"type\":\"BasicTickFormatter\"},{\"attributes\":{\"toolbar\":{\"id\":\"b0419b6f-5fa1-4053-9d89-06c57306bb8e\",\"type\":\"ProxyToolbar\"},\"toolbar_location\":\"above\"},\"id\":\"68bf6fb7-18ae-4623-8328-4aaa5ed27656\",\"type\":\"ToolbarBox\"},{\"attributes\":{},\"id\":\"ca60d9d4-bfc2-4215-8761-14db21d880a1\",\"type\":\"UnionRenderers\"},{\"attributes\":{},\"id\":\"0465eca5-32dc-4d1c-9300-caef6ad35dc0\",\"type\":\"UnionRenderers\"},{\"attributes\":{\"plot\":null,\"text\":\"\"},\"id\":\"ffee0ba1-4639-407c-a614-0b70a63bc570\",\"type\":\"Title\"},{\"attributes\":{},\"id\":\"f707ba5f-eada-4c0d-8a94-4a444ccc726d\",\"type\":\"Selection\"},{\"attributes\":{\"source\":{\"id\":\"7595676b-a3c8-499c-b9e4-7734d326a9c8\",\"type\":\"ColumnDataSource\"}},\"id\":\"00854e59-1805-4f95-9944-ba2c36afb5c3\",\"type\":\"CDSView\"},{\"attributes\":{},\"id\":\"ee9bdb6f-7f1f-42dd-b36e-a32f64671cd6\",\"type\":\"Selection\"},{\"attributes\":{\"label\":{\"value\":\"CLIRAD (single-run) - CRD\"},\"renderers\":[{\"id\":\"16534210-7204-4287-8c62-64f879a9f657\",\"type\":\"GlyphRenderer\"},{\"id\":\"9f9a78b4-b4cd-4158-a226-1e10b6d31fa8\",\"type\":\"GlyphRenderer\"}]},\"id\":\"6c709b22-43a4-400c-a54c-eedcbd886823\",\"type\":\"LegendItem\"},{\"attributes\":{},\"id\":\"76bd165f-de25-461f-8f82-3a6e49ec78b0\",\"type\":\"UnionRenderers\"},{\"attributes\":{},\"id\":\"78013f28-3872-408e-ae36-8912e0f59f99\",\"type\":\"UnionRenderers\"},{\"attributes\":{},\"id\":\"6876e64e-d6d5-4320-bf5c-b6b1e50e6642\",\"type\":\"Selection\"},{\"attributes\":{\"ticker\":null},\"id\":\"04cea016-e29b-40a6-827a-4e27c533b095\",\"type\":\"LogTickFormatter\"},{\"attributes\":{\"label\":{\"value\":\"CRD\"},\"renderers\":[{\"id\":\"09fb210e-74ad-40f7-9892-b52897811541\",\"type\":\"GlyphRenderer\"},{\"id\":\"33a8316e-c127-492c-967f-bbfce531ff67\",\"type\":\"GlyphRenderer\"}]},\"id\":\"70c786af-e14c-433f-8132-082ccfffe543\",\"type\":\"LegendItem\"},{\"attributes\":{},\"id\":\"7ae01d0d-a6a5-4b82-a892-4fd3b3b9637a\",\"type\":\"PanTool\"},{\"attributes\":{\"line_color\":\"#4daf4a\",\"line_width\":1.5,\"x\":{\"field\":\"x\"},\"y\":{\"field\":\"y\"}},\"id\":\"1cf09dae-68fb-404a-a9e6-bb790eab4005\",\"type\":\"Line\"},{\"attributes\":{\"callback\":null,\"data\":{\"x\":{\"__ndarray__\":\"Yxlqbm+ERUCfEHbdZtJCQHMp8yq2s0FAAJUFUIwcQEBJWyN61BQ8QJUnkfZfKTdAynQADuznMUDY1C1RfQIqQF3YXqIbRiJA89FWWK6YGkCGqR9viDYVQBR8d6GIARJA3zAo7q6LDUAswFtGCCgDQBo0+2gB2P4/S+06XyykBUBl5ikk4zwMQCyrDuoNmhBAxaq5FELcE0B09O0mtU0ZQDMF214MDCFAnq0rDeACJ0BCCf4xEBooQAGFwUQOhSRASDnRvZcnIUBM/s1f41UcQCWnH2HLVxhAegnX3D8qFEBLXtIp9sEPQLUeTUhrNQlAFLFY31E0BUAnVwVmnXEAQOuPf2i5n/Q/p4a52Y/l5T8Xr2YEZ67QP2MhQ5r7M8K/vLDjY47q3r91uF7PG3jYv4B7icnEOny/S5Jn6G29xD/APJIujWbYP+ynlBH2mew/aYU8Vnar9j8ZaMSyfMn9P3fGNuHJ5QBAhbttfVV/AUA+6nuKrUICQGjMNoSiSAJA5Mhh5UETAUBdyD6ffH4AQATwovE8TQBAJqtUX8UtAEAyDlG6ngMAQPZKXdGtnP8/rpZHOJ5A/z/YCvt2yQn/P33WnBheEf8/P13dsdhG/z/YzPFvb2n/P+ujAhA/a/8/0qXq5C1T/z9UIjCm/gH/Pyo+3feq4P0/FOVMv7bR/D9zgoJ+ojf6P3phNLx/o/c/d+jobh/19T8BOwIy14X0P/W7B9Byy/M/Ab4e/mic8z/CJQkDxLXzPzisearUF/Q/IZsGMusJ9T8UytzivMD2PynoXnY7qgFA\",\"dtype\":\"float64\",\"shape\":[75]},\"y\":{\"__ndarray__\":\"GhExyth1ND/Sv8nbtpRIP2vylNV0PVE/aTum7souWD/At0SJ8fVgPw3Iuahxymc/MSNhhJWvcD/bTfBN02d3P2zb5nxnaoA/CD5h5MAGhz8NmeH1TyaQP+zrCsc9p5Y/LbKd76fGnz/bLW5ISEmmPww9YvTcQq8/JV2OstnstT8Er5Y7M8G+P0c+r3jqkcU/5h99k6ZBzj88bCIzFzjVP4enV8oyxN0//yH99nXg5D8qOpLLf0jtP5kqGJXUifQ/c9cS8kHP/D+/DpwzojQEQIEmwoanVwxA4lgXt9HgE0BSSZ2AJuIbQAMJih9jjiNA5q4l5INuK0AwTKYKRj0zQNv5fmq8/DpAaCJseHrtQkB/+zpwzoxKQM3MzMzMeFJAZmZmZmZqWEAAAAAAAFxeQM3MzMzMJmJAmpmZmZkfZUBmZmZmZhhoQDMzMzMzEWtAAAAAAAAKbkBmZmZmZoFwQM3MzMzM/XFAMzMzMzN6c0CamZmZmfZ0QAAAAAAAc3ZAZmZmZmbvd0DNzMzMzGt5QDMzMzMz6HpAmpmZmZlkfEAAAAAAAOF9QGZmZmZmXX9AZmZmZuZsgECamZmZGSuBQM3MzMxM6YFAAAAAAICngkAzMzMzs2WDQGZmZmbmI4RAmpmZmRnihEDNzMzMTKCFQAAAAACAXoZAMzMzM7Mch0BmZmZm5tqHQJqZmZkZmYhAzczMzExXiUAAAAAAgBWKQDMzMzOz04pAZmZmZuaRi0CamZmZGVCMQM3MzMxMDo1AAAAAAIDMjUAzMzMzs4qOQGZmZmbmSI9A\",\"dtype\":\"float64\",\"shape\":[75]}},\"selected\":{\"id\":\"c62527c2-d187-46bd-a7dc-9a1715162ca0\",\"type\":\"Selection\"},\"selection_policy\":{\"id\":\"3741bcc6-a71e-4532-9add-34b8697abd7b\",\"type\":\"UnionRenderers\"}},\"id\":\"726a4588-2efe-4944-8fa0-91b47af27eaa\",\"type\":\"ColumnDataSource\"},{\"attributes\":{\"plot\":{\"id\":\"407310df-89e8-49e1-8dbf-c898bad36d5b\",\"subtype\":\"Figure\",\"type\":\"Plot\"},\"ticker\":{\"id\":\"a0fc434d-9159-4305-b50d-06835db26755\",\"type\":\"BasicTicker\"}},\"id\":\"fd2a7716-03a7-4c81-b0a8-106b6e15d124\",\"type\":\"Grid\"},{\"attributes\":{\"source\":{\"id\":\"5bb3fc65-1f88-4067-9e4f-f00c07a8fd00\",\"type\":\"ColumnDataSource\"}},\"id\":\"30721758-2b42-4424-af91-ca3cf72225f0\",\"type\":\"CDSView\"},{\"attributes\":{\"axis_label\":\"cooling rate [K/day]\",\"formatter\":{\"id\":\"07a4aec0-fc0d-4964-b9d0-946f927b94af\",\"type\":\"BasicTickFormatter\"},\"plot\":{\"id\":\"407310df-89e8-49e1-8dbf-c898bad36d5b\",\"subtype\":\"Figure\",\"type\":\"Plot\"},\"ticker\":{\"id\":\"a0fc434d-9159-4305-b50d-06835db26755\",\"type\":\"BasicTicker\"}},\"id\":\"9a75aeb6-7ee7-45a0-954d-6b1d063e9cd2\",\"type\":\"LinearAxis\"},{\"attributes\":{\"dimension\":1,\"plot\":{\"id\":\"6da534a7-679c-4e54-8789-5e8e26cfdc5c\",\"subtype\":\"Figure\",\"type\":\"Plot\"},\"ticker\":{\"id\":\"b166d0e1-4234-4dec-ae1f-930141c85dd1\",\"type\":\"BasicTicker\"}},\"id\":\"d5d6b09a-16b1-4980-9b18-e26d05b55308\",\"type\":\"Grid\"},{\"attributes\":{},\"id\":\"a0fc434d-9159-4305-b50d-06835db26755\",\"type\":\"BasicTicker\"},{\"attributes\":{\"source\":{\"id\":\"b6b72604-0561-43ed-9773-8cc7c66db0f8\",\"type\":\"ColumnDataSource\"}},\"id\":\"df04eec7-7a55-4992-9a2d-786b73fc7fdf\",\"type\":\"CDSView\"},{\"attributes\":{\"source\":{\"id\":\"4ff0e0eb-d55f-420d-8119-67f15ea9a467\",\"type\":\"ColumnDataSource\"}},\"id\":\"41da2b3e-791b-4514-9121-0a0f3875f98d\",\"type\":\"CDSView\"},{\"attributes\":{\"line_alpha\":0.1,\"line_color\":\"#1f77b4\",\"line_width\":1.5,\"x\":{\"field\":\"x\"},\"y\":{\"field\":\"y\"}},\"id\":\"b9bbbc2f-d2e7-4321-aad8-fae982a7ac5a\",\"type\":\"Line\"},{\"attributes\":{\"data_source\":{\"id\":\"d4f0266f-4d00-4261-b961-52066aeafaa6\",\"type\":\"ColumnDataSource\"},\"glyph\":{\"id\":\"dabcc907-530d-46e0-8fad-20728ef75911\",\"type\":\"Circle\"},\"hover_glyph\":null,\"muted_glyph\":null,\"nonselection_glyph\":{\"id\":\"2f1e66c6-d4e3-4789-889d-65f0580b52f9\",\"type\":\"Circle\"},\"selection_glyph\":null,\"view\":{\"id\":\"10f38cbe-33e0-4b4a-aaed-a1587f55f472\",\"type\":\"CDSView\"}},\"id\":\"16534210-7204-4287-8c62-64f879a9f657\",\"type\":\"GlyphRenderer\"},{\"attributes\":{\"active_drag\":\"auto\",\"active_inspect\":\"auto\",\"active_scroll\":\"auto\",\"active_tap\":\"auto\",\"tools\":[{\"id\":\"01717f17-8962-4864-8c52-3d2c16d91dd9\",\"type\":\"PanTool\"},{\"id\":\"073324c6-18da-4ac5-9bbb-a937b061b3fb\",\"type\":\"WheelZoomTool\"},{\"id\":\"aebd10b1-85a9-403d-8c7d-4792988a23b2\",\"type\":\"BoxZoomTool\"},{\"id\":\"04586bab-402d-43b8-97ae-6335e747f954\",\"type\":\"SaveTool\"},{\"id\":\"2194b0c4-b5f8-4975-9a38-0551679e1cb4\",\"type\":\"ResetTool\"},{\"id\":\"f59c517a-0fe5-420e-9393-5cc93259132f\",\"type\":\"HelpTool\"}]},\"id\":\"e7025e60-c39b-486d-825d-7fb49c44edc4\",\"type\":\"Toolbar\"},{\"attributes\":{\"label\":{\"value\":\"CLIRAD (single-run)\"},\"renderers\":[{\"id\":\"0bc63370-7095-452f-a76f-0f0335b13321\",\"type\":\"GlyphRenderer\"}]},\"id\":\"e43724ab-1c26-437c-a9f7-e52e002d887d\",\"type\":\"LegendItem\"},{\"attributes\":{},\"id\":\"9b5ca242-cd68-4bbb-9401-61faaeeba341\",\"type\":\"LinearScale\"},{\"attributes\":{\"num_minor_ticks\":10},\"id\":\"3cef84d5-5da6-4d25-af28-ed152196acfb\",\"type\":\"LogTicker\"},{\"attributes\":{\"callback\":null,\"data\":{\"x\":{\"__ndarray__\":\"R/KIaN7AVEClCeJMyPNGQOvRhpxr30JAptxzhxx4PkA7SssMElA4QK6Bp3CyUDNAsVXpjES9LkBFhUV0+5coQMHYwqbbySNA6f09nM3nH0CaSd/3eYoZQDmgiAOW8BNAPYqARh3eDEBkm4vCgvr+P9D+5tWhQfY/P8DwKRnSAkBq38kb17ILQDT7IWuSsxFAUr2Rjm0FFkAinq3s9XgbQGCHwtYcqSFAG64kT303J0C7dRDneyooQD9JYrbK8yRA9S3bneHhIUAIymSuUMMcQIkHLe6VEBdAAau3cITREkA6CiNvkQIPQJU39ki7IQlAaAvwok1UA0BXLQiS4+L7P0xzDpJ2hPI/NNuPGMbJ5z91mUVYxqfSPxqwUPSxZca/G11peifD3L8QzNj5t2jTvwzOozTL360/SPJ4VI1VzD9KJ0nXEIncP8yDdlvHt+4/Et49nYLW9z++2teD4Jn+P+568eH/bwFALf5D9lmAAkCiZAicVOkCQPPT4jNKxwJAOjp3wTzBAUBSQsKNGisBQG4OmjqJwQBAJ3sZoHFuAEA5Ar0Sdi0AQGy4rw5+9f8/7W4nSrC3/z8mPr8zj4T/P4UYRHCQS/8/embVKYcF/z+5YXG+LLP+P/qb8BVUgf4/KvafTtyO/j/avAK1Ppv+PwJV9VVm2P0/JFtYlU/n/D9sN+q2fiX6Pw44e41PNPc/Opt+Z/wN9T+x3vcSW1vzP9ofvWQJlvI/8sciQQBW8j80sfkQa17yPzg5qng2r/I/Oh14WJBh8z+VZjnpctj0P6CcrSuCqQBA\",\"dtype\":\"float64\",\"shape\":[75]},\"y\":{\"__ndarray__\":\"GhExyth1ND/Sv8nbtpRIP2vylNV0PVE/aTum7souWD/At0SJ8fVgPw3Iuahxymc/MSNhhJWvcD/bTfBN02d3P2zb5nxnaoA/CD5h5MAGhz8NmeH1TyaQP+zrCsc9p5Y/LbKd76fGnz/bLW5ISEmmPww9YvTcQq8/JV2OstnstT8Er5Y7M8G+P0c+r3jqkcU/5h99k6ZBzj88bCIzFzjVP4enV8oyxN0//yH99nXg5D8qOpLLf0jtP5kqGJXUifQ/c9cS8kHP/D+/DpwzojQEQIEmwoanVwxA4lgXt9HgE0BSSZ2AJuIbQAMJih9jjiNA5q4l5INuK0AwTKYKRj0zQNv5fmq8/DpAaCJseHrtQkB/+zpwzoxKQM3MzMzMeFJAZmZmZmZqWEAAAAAAAFxeQM3MzMzMJmJAmpmZmZkfZUBmZmZmZhhoQDMzMzMzEWtAAAAAAAAKbkBmZmZmZoFwQM3MzMzM/XFAMzMzMzN6c0CamZmZmfZ0QAAAAAAAc3ZAZmZmZmbvd0DNzMzMzGt5QDMzMzMz6HpAmpmZmZlkfEAAAAAAAOF9QGZmZmZmXX9AZmZmZuZsgECamZmZGSuBQM3MzMxM6YFAAAAAAICngkAzMzMzs2WDQGZmZmbmI4RAmpmZmRnihEDNzMzMTKCFQAAAAACAXoZAMzMzM7Mch0BmZmZm5tqHQJqZmZkZmYhAzczMzExXiUAAAAAAgBWKQDMzMzOz04pAZmZmZuaRi0CamZmZGVCMQM3MzMxMDo1AAAAAAIDMjUAzMzMzs4qOQGZmZmbmSI9A\",\"dtype\":\"float64\",\"shape\":[75]}},\"selected\":{\"id\":\"0c30fd80-bffe-4719-b9bd-73a56cef1e63\",\"type\":\"Selection\"},\"selection_policy\":{\"id\":\"ca60d9d4-bfc2-4215-8761-14db21d880a1\",\"type\":\"UnionRenderers\"}},\"id\":\"b6b72604-0561-43ed-9773-8cc7c66db0f8\",\"type\":\"ColumnDataSource\"},{\"attributes\":{},\"id\":\"2194b0c4-b5f8-4975-9a38-0551679e1cb4\",\"type\":\"ResetTool\"},{\"attributes\":{\"data_source\":{\"id\":\"4ff0e0eb-d55f-420d-8119-67f15ea9a467\",\"type\":\"ColumnDataSource\"},\"glyph\":{\"id\":\"34c00368-456a-4a84-9daa-afb52010a3c2\",\"type\":\"Circle\"},\"hover_glyph\":null,\"muted_glyph\":null,\"nonselection_glyph\":{\"id\":\"4a868c6f-88bd-4ce8-af61-1303e8d56e8a\",\"type\":\"Circle\"},\"selection_glyph\":null,\"view\":{\"id\":\"41da2b3e-791b-4514-9121-0a0f3875f98d\",\"type\":\"CDSView\"}},\"id\":\"09fb210e-74ad-40f7-9892-b52897811541\",\"type\":\"GlyphRenderer\"},{\"attributes\":{\"callback\":null,\"end\":2.3924008819310005,\"start\":-0.511536145891},\"id\":\"855b9880-7f21-4c2e-b170-7884eb13f149\",\"type\":\"Range1d\"},{\"attributes\":{\"callback\":null,\"data\":{\"x\":{\"__ndarray__\":\"Yxlqbm+ERUCfEHbdZtJCQHMp8yq2s0FAAJUFUIwcQEBJWyN61BQ8QJUnkfZfKTdAynQADuznMUDY1C1RfQIqQF3YXqIbRiJA89FWWK6YGkCGqR9viDYVQBR8d6GIARJA3zAo7q6LDUAswFtGCCgDQBo0+2gB2P4/S+06XyykBUBl5ikk4zwMQCyrDuoNmhBAxaq5FELcE0B09O0mtU0ZQDMF214MDCFAnq0rDeACJ0BCCf4xEBooQAGFwUQOhSRASDnRvZcnIUBM/s1f41UcQCWnH2HLVxhAegnX3D8qFEBLXtIp9sEPQLUeTUhrNQlAFLFY31E0BUAnVwVmnXEAQOuPf2i5n/Q/p4a52Y/l5T8Xr2YEZ67QP2MhQ5r7M8K/vLDjY47q3r91uF7PG3jYv4B7icnEOny/S5Jn6G29xD/APJIujWbYP+ynlBH2mew/aYU8Vnar9j8ZaMSyfMn9P3fGNuHJ5QBAhbttfVV/AUA+6nuKrUICQGjMNoSiSAJA5Mhh5UETAUBdyD6ffH4AQATwovE8TQBAJqtUX8UtAEAyDlG6ngMAQPZKXdGtnP8/rpZHOJ5A/z/YCvt2yQn/P33WnBheEf8/P13dsdhG/z/YzPFvb2n/P+ujAhA/a/8/0qXq5C1T/z9UIjCm/gH/Pyo+3feq4P0/FOVMv7bR/D9zgoJ+ojf6P3phNLx/o/c/d+jobh/19T8BOwIy14X0P/W7B9Byy/M/Ab4e/mic8z/CJQkDxLXzPzisearUF/Q/IZsGMusJ9T8UytzivMD2PynoXnY7qgFA\",\"dtype\":\"float64\",\"shape\":[75]},\"y\":{\"__ndarray__\":\"GhExyth1ND/Sv8nbtpRIP2vylNV0PVE/aTum7souWD/At0SJ8fVgPw3Iuahxymc/MSNhhJWvcD/bTfBN02d3P2zb5nxnaoA/CD5h5MAGhz8NmeH1TyaQP+zrCsc9p5Y/LbKd76fGnz/bLW5ISEmmPww9YvTcQq8/JV2OstnstT8Er5Y7M8G+P0c+r3jqkcU/5h99k6ZBzj88bCIzFzjVP4enV8oyxN0//yH99nXg5D8qOpLLf0jtP5kqGJXUifQ/c9cS8kHP/D+/DpwzojQEQIEmwoanVwxA4lgXt9HgE0BSSZ2AJuIbQAMJih9jjiNA5q4l5INuK0AwTKYKRj0zQNv5fmq8/DpAaCJseHrtQkB/+zpwzoxKQM3MzMzMeFJAZmZmZmZqWEAAAAAAAFxeQM3MzMzMJmJAmpmZmZkfZUBmZmZmZhhoQDMzMzMzEWtAAAAAAAAKbkBmZmZmZoFwQM3MzMzM/XFAMzMzMzN6c0CamZmZmfZ0QAAAAAAAc3ZAZmZmZmbvd0DNzMzMzGt5QDMzMzMz6HpAmpmZmZlkfEAAAAAAAOF9QGZmZmZmXX9AZmZmZuZsgECamZmZGSuBQM3MzMxM6YFAAAAAAICngkAzMzMzs2WDQGZmZmbmI4RAmpmZmRnihEDNzMzMTKCFQAAAAACAXoZAMzMzM7Mch0BmZmZm5tqHQJqZmZkZmYhAzczMzExXiUAAAAAAgBWKQDMzMzOz04pAZmZmZuaRi0CamZmZGVCMQM3MzMxMDo1AAAAAAIDMjUAzMzMzs4qOQGZmZmbmSI9A\",\"dtype\":\"float64\",\"shape\":[75]}},\"selected\":{\"id\":\"18ec82ab-dac3-4951-b0e3-e10b1e095c75\",\"type\":\"Selection\"},\"selection_policy\":{\"id\":\"b0743c84-e2dd-47ab-b958-759cee2e648e\",\"type\":\"UnionRenderers\"}},\"id\":\"289a7e68-8bd1-4bbe-a30d-20d02235141e\",\"type\":\"ColumnDataSource\"},{\"attributes\":{\"line_alpha\":0.6,\"line_color\":\"#377eb8\",\"line_dash\":[6],\"line_width\":5,\"x\":{\"field\":\"x\"},\"y\":{\"field\":\"y\"}},\"id\":\"e23fb406-2b8e-4233-a992-ed19b3723fa9\",\"type\":\"Line\"},{\"attributes\":{},\"id\":\"f59c517a-0fe5-420e-9393-5cc93259132f\",\"type\":\"HelpTool\"},{\"attributes\":{},\"id\":\"073324c6-18da-4ac5-9bbb-a937b061b3fb\",\"type\":\"WheelZoomTool\"},{\"attributes\":{},\"id\":\"e7907ddf-3e57-40af-a3a9-caaef56a8d90\",\"type\":\"WheelZoomTool\"},{\"attributes\":{},\"id\":\"3b07c7af-261f-44bd-ac6c-93707a55012e\",\"type\":\"LogScale\"},{\"attributes\":{},\"id\":\"cc6041ac-1692-4e46-a89a-1266ee2f75c7\",\"type\":\"SaveTool\"},{\"attributes\":{\"overlay\":{\"id\":\"8b331218-8524-41c4-aa00-3406d0fbf305\",\"type\":\"BoxAnnotation\"}},\"id\":\"aebd10b1-85a9-403d-8c7d-4792988a23b2\",\"type\":\"BoxZoomTool\"},{\"attributes\":{\"data_source\":{\"id\":\"b6b72604-0561-43ed-9773-8cc7c66db0f8\",\"type\":\"ColumnDataSource\"},\"glyph\":{\"id\":\"1cf09dae-68fb-404a-a9e6-bb790eab4005\",\"type\":\"Line\"},\"hover_glyph\":null,\"muted_glyph\":null,\"nonselection_glyph\":{\"id\":\"b9bbbc2f-d2e7-4321-aad8-fae982a7ac5a\",\"type\":\"Line\"},\"selection_glyph\":null,\"view\":{\"id\":\"df04eec7-7a55-4992-9a2d-786b73fc7fdf\",\"type\":\"CDSView\"}},\"id\":\"33a8316e-c127-492c-967f-bbfce531ff67\",\"type\":\"GlyphRenderer\"},{\"attributes\":{\"bottom_units\":\"screen\",\"fill_alpha\":{\"value\":0.5},\"fill_color\":{\"value\":\"lightgrey\"},\"left_units\":\"screen\",\"level\":\"overlay\",\"line_alpha\":{\"value\":1.0},\"line_color\":{\"value\":\"black\"},\"line_dash\":[4,4],\"line_width\":{\"value\":2},\"plot\":null,\"render_mode\":\"css\",\"right_units\":\"screen\",\"top_units\":\"screen\"},\"id\":\"8b331218-8524-41c4-aa00-3406d0fbf305\",\"type\":\"BoxAnnotation\"},{\"attributes\":{},\"id\":\"b166d0e1-4234-4dec-ae1f-930141c85dd1\",\"type\":\"BasicTicker\"},{\"attributes\":{\"line_alpha\":0.1,\"line_color\":\"#1f77b4\",\"line_dash\":[6],\"line_width\":5,\"x\":{\"field\":\"x\"},\"y\":{\"field\":\"y\"}},\"id\":\"75da8e58-9f02-44a9-bf92-3f320093ac11\",\"type\":\"Line\"},{\"attributes\":{\"callback\":null,\"end\":12.208636979048098,\"start\":-0.6087266022981},\"id\":\"488523ae-b4f8-4ca5-870b-5223387920fb\",\"type\":\"Range1d\"},{\"attributes\":{},\"id\":\"04586bab-402d-43b8-97ae-6335e747f954\",\"type\":\"SaveTool\"},{\"attributes\":{},\"id\":\"01717f17-8962-4864-8c52-3d2c16d91dd9\",\"type\":\"PanTool\"},{\"attributes\":{\"dimension\":1,\"plot\":{\"id\":\"407310df-89e8-49e1-8dbf-c898bad36d5b\",\"subtype\":\"Figure\",\"type\":\"Plot\"},\"ticker\":{\"id\":\"3cef84d5-5da6-4d25-af28-ed152196acfb\",\"type\":\"LogTicker\"}},\"id\":\"8feea3d3-154e-4555-b6cd-62321158c6f9\",\"type\":\"Grid\"},{\"attributes\":{\"axis_label\":\"pressure [mb]\",\"formatter\":{\"id\":\"04cea016-e29b-40a6-827a-4e27c533b095\",\"type\":\"LogTickFormatter\"},\"plot\":{\"id\":\"407310df-89e8-49e1-8dbf-c898bad36d5b\",\"subtype\":\"Figure\",\"type\":\"Plot\"},\"ticker\":{\"id\":\"3cef84d5-5da6-4d25-af28-ed152196acfb\",\"type\":\"LogTicker\"}},\"id\":\"3fc9efb3-099a-4348-8975-62e11a1ef044\",\"type\":\"LogAxis\"},{\"attributes\":{\"items\":[{\"id\":\"30f8d694-3975-449f-bcd1-3caf3d902f98\",\"type\":\"LegendItem\"},{\"id\":\"170ae50c-ab1a-4a4d-a2b2-78ccb7924ad5\",\"type\":\"LegendItem\"}],\"label_text_font_size\":{\"value\":\"8pt\"},\"location\":\"top_center\",\"orientation\":\"horizontal\",\"plot\":{\"id\":\"407310df-89e8-49e1-8dbf-c898bad36d5b\",\"subtype\":\"Figure\",\"type\":\"Plot\"}},\"id\":\"86b8f521-cd8b-4989-8073-09a1d0a993b2\",\"type\":\"Legend\"},{\"attributes\":{\"label\":{\"value\":\"CLIRAD (single-run)\"},\"renderers\":[{\"id\":\"d5815c88-cfa0-49e7-bed8-20ad4171204d\",\"type\":\"GlyphRenderer\"}]},\"id\":\"30f8d694-3975-449f-bcd1-3caf3d902f98\",\"type\":\"LegendItem\"},{\"attributes\":{\"data_source\":{\"id\":\"289a7e68-8bd1-4bbe-a30d-20d02235141e\",\"type\":\"ColumnDataSource\"},\"glyph\":{\"id\":\"e23fb406-2b8e-4233-a992-ed19b3723fa9\",\"type\":\"Line\"},\"hover_glyph\":null,\"muted_glyph\":null,\"nonselection_glyph\":{\"id\":\"75da8e58-9f02-44a9-bf92-3f320093ac11\",\"type\":\"Line\"},\"selection_glyph\":null,\"view\":{\"id\":\"b197b05c-de50-4ab3-a9fd-cd291e3e9ed4\",\"type\":\"CDSView\"}},\"id\":\"d5815c88-cfa0-49e7-bed8-20ad4171204d\",\"type\":\"GlyphRenderer\"},{\"attributes\":{\"source\":{\"id\":\"726a4588-2efe-4944-8fa0-91b47af27eaa\",\"type\":\"ColumnDataSource\"}},\"id\":\"10e06219-bd0d-4e49-88f9-fad8c1ae75f9\",\"type\":\"CDSView\"},{\"attributes\":{\"fill_alpha\":{\"value\":0.1},\"fill_color\":{\"value\":\"#1f77b4\"},\"line_alpha\":{\"value\":0.1},\"line_color\":{\"value\":\"#1f77b4\"},\"x\":{\"field\":\"x\"},\"y\":{\"field\":\"y\"}},\"id\":\"4445bf3b-44a0-43ed-9066-91e58583dad9\",\"type\":\"Circle\"},{\"attributes\":{\"line_alpha\":0.6,\"line_color\":\"#377eb8\",\"line_dash\":[6],\"line_width\":5,\"x\":{\"field\":\"x\"},\"y\":{\"field\":\"y\"}},\"id\":\"bfcf2989-8f54-4593-bbc6-f52f20bb3596\",\"type\":\"Line\"},{\"attributes\":{\"data_source\":{\"id\":\"5bb3fc65-1f88-4067-9e4f-f00c07a8fd00\",\"type\":\"ColumnDataSource\"},\"glyph\":{\"id\":\"007d1f37-43d0-449f-96b8-8c3687626b38\",\"type\":\"Line\"},\"hover_glyph\":null,\"muted_glyph\":null,\"nonselection_glyph\":{\"id\":\"f2c73cd8-b69d-42e8-a328-30f98f2854c0\",\"type\":\"Line\"},\"selection_glyph\":null,\"view\":{\"id\":\"30721758-2b42-4424-af91-ca3cf72225f0\",\"type\":\"CDSView\"}},\"id\":\"ad1bc1e9-b56f-4870-947f-ca3d48198814\",\"type\":\"GlyphRenderer\"},{\"attributes\":{\"fill_alpha\":{\"value\":0.7},\"fill_color\":{\"value\":\"#4daf4a\"},\"line_alpha\":{\"value\":0.7},\"line_color\":{\"value\":\"#4daf4a\"},\"x\":{\"field\":\"x\"},\"y\":{\"field\":\"y\"}},\"id\":\"e0de2960-107c-4d93-9b45-33c4546f68da\",\"type\":\"Circle\"},{\"attributes\":{\"fill_alpha\":{\"value\":0.7},\"fill_color\":{\"value\":\"#4daf4a\"},\"line_alpha\":{\"value\":0.7},\"line_color\":{\"value\":\"#4daf4a\"},\"x\":{\"field\":\"x\"},\"y\":{\"field\":\"y\"}},\"id\":\"34c00368-456a-4a84-9daa-afb52010a3c2\",\"type\":\"Circle\"},{\"attributes\":{\"source\":{\"id\":\"289a7e68-8bd1-4bbe-a30d-20d02235141e\",\"type\":\"ColumnDataSource\"}},\"id\":\"b197b05c-de50-4ab3-a9fd-cd291e3e9ed4\",\"type\":\"CDSView\"},{\"attributes\":{\"fill_alpha\":{\"value\":0.1},\"fill_color\":{\"value\":\"#1f77b4\"},\"line_alpha\":{\"value\":0.1},\"line_color\":{\"value\":\"#1f77b4\"},\"x\":{\"field\":\"x\"},\"y\":{\"field\":\"y\"}},\"id\":\"4a868c6f-88bd-4ce8-af61-1303e8d56e8a\",\"type\":\"Circle\"},{\"attributes\":{\"callback\":null,\"data\":{\"x\":{\"__ndarray__\":\"R/KIaN7AVEClCeJMyPNGQOvRhpxr30JAptxzhxx4PkA7SssMElA4QK6Bp3CyUDNAsVXpjES9LkBFhUV0+5coQMHYwqbbySNA6f09nM3nH0CaSd/3eYoZQDmgiAOW8BNAPYqARh3eDEBkm4vCgvr+P9D+5tWhQfY/P8DwKRnSAkBq38kb17ILQDT7IWuSsxFAUr2Rjm0FFkAinq3s9XgbQGCHwtYcqSFAG64kT303J0C7dRDneyooQD9JYrbK8yRA9S3bneHhIUAIymSuUMMcQIkHLe6VEBdAAau3cITREkA6CiNvkQIPQJU39ki7IQlAaAvwok1UA0BXLQiS4+L7P0xzDpJ2hPI/NNuPGMbJ5z91mUVYxqfSPxqwUPSxZca/G11peifD3L8QzNj5t2jTvwzOozTL360/SPJ4VI1VzD9KJ0nXEIncP8yDdlvHt+4/Et49nYLW9z++2teD4Jn+P+568eH/bwFALf5D9lmAAkCiZAicVOkCQPPT4jNKxwJAOjp3wTzBAUBSQsKNGisBQG4OmjqJwQBAJ3sZoHFuAEA5Ar0Sdi0AQGy4rw5+9f8/7W4nSrC3/z8mPr8zj4T/P4UYRHCQS/8/embVKYcF/z+5YXG+LLP+P/qb8BVUgf4/KvafTtyO/j/avAK1Ppv+PwJV9VVm2P0/JFtYlU/n/D9sN+q2fiX6Pw44e41PNPc/Opt+Z/wN9T+x3vcSW1vzP9ofvWQJlvI/8sciQQBW8j80sfkQa17yPzg5qng2r/I/Oh14WJBh8z+VZjnpctj0P6CcrSuCqQBA\",\"dtype\":\"float64\",\"shape\":[75]},\"y\":{\"__ndarray__\":\"GhExyth1ND/Sv8nbtpRIP2vylNV0PVE/aTum7souWD/At0SJ8fVgPw3Iuahxymc/MSNhhJWvcD/bTfBN02d3P2zb5nxnaoA/CD5h5MAGhz8NmeH1TyaQP+zrCsc9p5Y/LbKd76fGnz/bLW5ISEmmPww9YvTcQq8/JV2OstnstT8Er5Y7M8G+P0c+r3jqkcU/5h99k6ZBzj88bCIzFzjVP4enV8oyxN0//yH99nXg5D8qOpLLf0jtP5kqGJXUifQ/c9cS8kHP/D+/DpwzojQEQIEmwoanVwxA4lgXt9HgE0BSSZ2AJuIbQAMJih9jjiNA5q4l5INuK0AwTKYKRj0zQNv5fmq8/DpAaCJseHrtQkB/+zpwzoxKQM3MzMzMeFJAZmZmZmZqWEAAAAAAAFxeQM3MzMzMJmJAmpmZmZkfZUBmZmZmZhhoQDMzMzMzEWtAAAAAAAAKbkBmZmZmZoFwQM3MzMzM/XFAMzMzMzN6c0CamZmZmfZ0QAAAAAAAc3ZAZmZmZmbvd0DNzMzMzGt5QDMzMzMz6HpAmpmZmZlkfEAAAAAAAOF9QGZmZmZmXX9AZmZmZuZsgECamZmZGSuBQM3MzMxM6YFAAAAAAICngkAzMzMzs2WDQGZmZmbmI4RAmpmZmRnihEDNzMzMTKCFQAAAAACAXoZAMzMzM7Mch0BmZmZm5tqHQJqZmZkZmYhAzczMzExXiUAAAAAAgBWKQDMzMzOz04pAZmZmZuaRi0CamZmZGVCMQM3MzMxMDo1AAAAAAIDMjUAzMzMzs4qOQGZmZmbmSI9A\",\"dtype\":\"float64\",\"shape\":[75]}},\"selected\":{\"id\":\"ee9bdb6f-7f1f-42dd-b36e-a32f64671cd6\",\"type\":\"Selection\"},\"selection_policy\":{\"id\":\"1bfcd6d5-07cc-4d69-820e-f5af231249ca\",\"type\":\"UnionRenderers\"}},\"id\":\"4ff0e0eb-d55f-420d-8119-67f15ea9a467\",\"type\":\"ColumnDataSource\"},{\"attributes\":{\"data_source\":{\"id\":\"726a4588-2efe-4944-8fa0-91b47af27eaa\",\"type\":\"ColumnDataSource\"},\"glyph\":{\"id\":\"bfcf2989-8f54-4593-bbc6-f52f20bb3596\",\"type\":\"Line\"},\"hover_glyph\":null,\"muted_glyph\":null,\"nonselection_glyph\":{\"id\":\"f22c9056-ebbc-4d2e-abf3-26aa606e331e\",\"type\":\"Line\"},\"selection_glyph\":null,\"view\":{\"id\":\"10e06219-bd0d-4e49-88f9-fad8c1ae75f9\",\"type\":\"CDSView\"}},\"id\":\"0bc63370-7095-452f-a76f-0f0335b13321\",\"type\":\"GlyphRenderer\"},{\"attributes\":{\"label\":{\"value\":\"CRD\"},\"renderers\":[{\"id\":\"083f6770-b45d-43f0-be00-3f4847be6d1a\",\"type\":\"GlyphRenderer\"},{\"id\":\"ad1bc1e9-b56f-4870-947f-ca3d48198814\",\"type\":\"GlyphRenderer\"}]},\"id\":\"170ae50c-ab1a-4a4d-a2b2-78ccb7924ad5\",\"type\":\"LegendItem\"},{\"attributes\":{\"bottom_units\":\"screen\",\"fill_alpha\":{\"value\":0.5},\"fill_color\":{\"value\":\"lightgrey\"},\"left_units\":\"screen\",\"level\":\"overlay\",\"line_alpha\":{\"value\":1.0},\"line_color\":{\"value\":\"black\"},\"line_dash\":[4,4],\"line_width\":{\"value\":2},\"plot\":null,\"render_mode\":\"css\",\"right_units\":\"screen\",\"top_units\":\"screen\"},\"id\":\"8f5c1439-4740-4e6c-8951-0a587a06a190\",\"type\":\"BoxAnnotation\"},{\"attributes\":{\"source\":{\"id\":\"ffda92aa-3210-4e14-ad5b-87eb22a911dc\",\"type\":\"ColumnDataSource\"}},\"id\":\"21f3389b-b7ea-4bae-ba16-62b9295d6d62\",\"type\":\"CDSView\"},{\"attributes\":{\"callback\":null,\"data\":{\"x\":{\"__ndarray__\":\"R/KIaN7AVEClCeJMyPNGQOvRhpxr30JAptxzhxx4PkA7SssMElA4QK6Bp3CyUDNAsVXpjES9LkBFhUV0+5coQMHYwqbbySNA6f09nM3nH0CaSd/3eYoZQDmgiAOW8BNAPYqARh3eDEBkm4vCgvr+P9D+5tWhQfY/P8DwKRnSAkBq38kb17ILQDT7IWuSsxFAUr2Rjm0FFkAinq3s9XgbQGCHwtYcqSFAG64kT303J0C7dRDneyooQD9JYrbK8yRA9S3bneHhIUAIymSuUMMcQIkHLe6VEBdAAau3cITREkA6CiNvkQIPQJU39ki7IQlAaAvwok1UA0BXLQiS4+L7P0xzDpJ2hPI/NNuPGMbJ5z91mUVYxqfSPxqwUPSxZca/G11peifD3L8QzNj5t2jTvwzOozTL360/SPJ4VI1VzD9KJ0nXEIncP8yDdlvHt+4/Et49nYLW9z++2teD4Jn+P+568eH/bwFALf5D9lmAAkCiZAicVOkCQPPT4jNKxwJAOjp3wTzBAUBSQsKNGisBQG4OmjqJwQBAJ3sZoHFuAEA5Ar0Sdi0AQGy4rw5+9f8/7W4nSrC3/z8mPr8zj4T/P4UYRHCQS/8/embVKYcF/z+5YXG+LLP+P/qb8BVUgf4/KvafTtyO/j/avAK1Ppv+PwJV9VVm2P0/JFtYlU/n/D9sN+q2fiX6Pw44e41PNPc/Opt+Z/wN9T+x3vcSW1vzP9ofvWQJlvI/8sciQQBW8j80sfkQa17yPzg5qng2r/I/Oh14WJBh8z+VZjnpctj0P6CcrSuCqQBA\",\"dtype\":\"float64\",\"shape\":[75]},\"y\":{\"__ndarray__\":\"GhExyth1ND/Sv8nbtpRIP2vylNV0PVE/aTum7souWD/At0SJ8fVgPw3Iuahxymc/MSNhhJWvcD/bTfBN02d3P2zb5nxnaoA/CD5h5MAGhz8NmeH1TyaQP+zrCsc9p5Y/LbKd76fGnz/bLW5ISEmmPww9YvTcQq8/JV2OstnstT8Er5Y7M8G+P0c+r3jqkcU/5h99k6ZBzj88bCIzFzjVP4enV8oyxN0//yH99nXg5D8qOpLLf0jtP5kqGJXUifQ/c9cS8kHP/D+/DpwzojQEQIEmwoanVwxA4lgXt9HgE0BSSZ2AJuIbQAMJih9jjiNA5q4l5INuK0AwTKYKRj0zQNv5fmq8/DpAaCJseHrtQkB/+zpwzoxKQM3MzMzMeFJAZmZmZmZqWEAAAAAAAFxeQM3MzMzMJmJAmpmZmZkfZUBmZmZmZhhoQDMzMzMzEWtAAAAAAAAKbkBmZmZmZoFwQM3MzMzM/XFAMzMzMzN6c0CamZmZmfZ0QAAAAAAAc3ZAZmZmZmbvd0DNzMzMzGt5QDMzMzMz6HpAmpmZmZlkfEAAAAAAAOF9QGZmZmZmXX9AZmZmZuZsgECamZmZGSuBQM3MzMxM6YFAAAAAAICngkAzMzMzs2WDQGZmZmbmI4RAmpmZmRnihEDNzMzMTKCFQAAAAACAXoZAMzMzM7Mch0BmZmZm5tqHQJqZmZkZmYhAzczMzExXiUAAAAAAgBWKQDMzMzOz04pAZmZmZuaRi0CamZmZGVCMQM3MzMxMDo1AAAAAAIDMjUAzMzMzs4qOQGZmZmbmSI9A\",\"dtype\":\"float64\",\"shape\":[75]}},\"selected\":{\"id\":\"6876e64e-d6d5-4320-bf5c-b6b1e50e6642\",\"type\":\"Selection\"},\"selection_policy\":{\"id\":\"78013f28-3872-408e-ae36-8912e0f59f99\",\"type\":\"UnionRenderers\"}},\"id\":\"ffda92aa-3210-4e14-ad5b-87eb22a911dc\",\"type\":\"ColumnDataSource\"},{\"attributes\":{\"callback\":null,\"data\":{\"x\":{\"__ndarray__\":\"R/KIaN7AVEClCeJMyPNGQOvRhpxr30JAptxzhxx4PkA7SssMElA4QK6Bp3CyUDNAsVXpjES9LkBFhUV0+5coQMHYwqbbySNA6f09nM3nH0CaSd/3eYoZQDmgiAOW8BNAPYqARh3eDEBkm4vCgvr+P9D+5tWhQfY/P8DwKRnSAkBq38kb17ILQDT7IWuSsxFAUr2Rjm0FFkAinq3s9XgbQGCHwtYcqSFAG64kT303J0C7dRDneyooQD9JYrbK8yRA9S3bneHhIUAIymSuUMMcQIkHLe6VEBdAAau3cITREkA6CiNvkQIPQJU39ki7IQlAaAvwok1UA0BXLQiS4+L7P0xzDpJ2hPI/NNuPGMbJ5z91mUVYxqfSPxqwUPSxZca/G11peifD3L8QzNj5t2jTvwzOozTL360/SPJ4VI1VzD9KJ0nXEIncP8yDdlvHt+4/Et49nYLW9z++2teD4Jn+P+568eH/bwFALf5D9lmAAkCiZAicVOkCQPPT4jNKxwJAOjp3wTzBAUBSQsKNGisBQG4OmjqJwQBAJ3sZoHFuAEA5Ar0Sdi0AQGy4rw5+9f8/7W4nSrC3/z8mPr8zj4T/P4UYRHCQS/8/embVKYcF/z+5YXG+LLP+P/qb8BVUgf4/KvafTtyO/j/avAK1Ppv+PwJV9VVm2P0/JFtYlU/n/D9sN+q2fiX6Pw44e41PNPc/Opt+Z/wN9T+x3vcSW1vzP9ofvWQJlvI/8sciQQBW8j80sfkQa17yPzg5qng2r/I/Oh14WJBh8z+VZjnpctj0P6CcrSuCqQBA\",\"dtype\":\"float64\",\"shape\":[75]},\"y\":{\"__ndarray__\":\"GhExyth1ND/Sv8nbtpRIP2vylNV0PVE/aTum7souWD/At0SJ8fVgPw3Iuahxymc/MSNhhJWvcD/bTfBN02d3P2zb5nxnaoA/CD5h5MAGhz8NmeH1TyaQP+zrCsc9p5Y/LbKd76fGnz/bLW5ISEmmPww9YvTcQq8/JV2OstnstT8Er5Y7M8G+P0c+r3jqkcU/5h99k6ZBzj88bCIzFzjVP4enV8oyxN0//yH99nXg5D8qOpLLf0jtP5kqGJXUifQ/c9cS8kHP/D+/DpwzojQEQIEmwoanVwxA4lgXt9HgE0BSSZ2AJuIbQAMJih9jjiNA5q4l5INuK0AwTKYKRj0zQNv5fmq8/DpAaCJseHrtQkB/+zpwzoxKQM3MzMzMeFJAZmZmZmZqWEAAAAAAAFxeQM3MzMzMJmJAmpmZmZkfZUBmZmZmZhhoQDMzMzMzEWtAAAAAAAAKbkBmZmZmZoFwQM3MzMzM/XFAMzMzMzN6c0CamZmZmfZ0QAAAAAAAc3ZAZmZmZmbvd0DNzMzMzGt5QDMzMzMz6HpAmpmZmZlkfEAAAAAAAOF9QGZmZmZmXX9AZmZmZuZsgECamZmZGSuBQM3MzMxM6YFAAAAAAICngkAzMzMzs2WDQGZmZmbmI4RAmpmZmRnihEDNzMzMTKCFQAAAAACAXoZAMzMzM7Mch0BmZmZm5tqHQJqZmZkZmYhAzczMzExXiUAAAAAAgBWKQDMzMzOz04pAZmZmZuaRi0CamZmZGVCMQM3MzMxMDo1AAAAAAIDMjUAzMzMzs4qOQGZmZmbmSI9A\",\"dtype\":\"float64\",\"shape\":[75]}},\"selected\":{\"id\":\"c616f5ae-5c69-493a-86b0-3368a9c16fa0\",\"type\":\"Selection\"},\"selection_policy\":{\"id\":\"0465eca5-32dc-4d1c-9300-caef6ad35dc0\",\"type\":\"UnionRenderers\"}},\"id\":\"5bb3fc65-1f88-4067-9e4f-f00c07a8fd00\",\"type\":\"ColumnDataSource\"},{\"attributes\":{\"line_alpha\":0.1,\"line_color\":\"#1f77b4\",\"line_dash\":[6],\"line_width\":5,\"x\":{\"field\":\"x\"},\"y\":{\"field\":\"y\"}},\"id\":\"f22c9056-ebbc-4d2e-abf3-26aa606e331e\",\"type\":\"Line\"},{\"attributes\":{\"data_source\":{\"id\":\"ffda92aa-3210-4e14-ad5b-87eb22a911dc\",\"type\":\"ColumnDataSource\"},\"glyph\":{\"id\":\"e0de2960-107c-4d93-9b45-33c4546f68da\",\"type\":\"Circle\"},\"hover_glyph\":null,\"muted_glyph\":null,\"nonselection_glyph\":{\"id\":\"4445bf3b-44a0-43ed-9066-91e58583dad9\",\"type\":\"Circle\"},\"selection_glyph\":null,\"view\":{\"id\":\"21f3389b-b7ea-4bae-ba16-62b9295d6d62\",\"type\":\"CDSView\"}},\"id\":\"083f6770-b45d-43f0-be00-3f4847be6d1a\",\"type\":\"GlyphRenderer\"},{\"attributes\":{\"overlay\":{\"id\":\"8f5c1439-4740-4e6c-8951-0a587a06a190\",\"type\":\"BoxAnnotation\"}},\"id\":\"c6ebd57e-6ab4-486f-a7bf-d29b2928dd05\",\"type\":\"BoxZoomTool\"},{\"attributes\":{\"callback\":null,\"end\":0.01,\"start\":1020},\"id\":\"11aa0b0f-e2e6-4a1f-97ba-f2e268fb1a4c\",\"type\":\"Range1d\"},{\"attributes\":{\"line_alpha\":0.1,\"line_color\":\"#1f77b4\",\"line_width\":1.5,\"x\":{\"field\":\"x\"},\"y\":{\"field\":\"y\"}},\"id\":\"f2c73cd8-b69d-42e8-a328-30f98f2854c0\",\"type\":\"Line\"},{\"attributes\":{\"line_color\":\"#4daf4a\",\"line_width\":1.5,\"x\":{\"field\":\"x\"},\"y\":{\"field\":\"y\"}},\"id\":\"007d1f37-43d0-449f-96b8-8c3687626b38\",\"type\":\"Line\"}],\"root_ids\":[\"20b13f20-ebcf-414d-a032-11ec1f94ecd6\"]},\"title\":\"Bokeh Application\",\"version\":\"0.12.16\"}};\n",
       "  var render_items = [{\"docid\":\"919e87b3-efa3-49b1-9fae-df8f3029f5b6\",\"elementid\":\"4a53a1a4-4eef-4050-b96c-2621a4e12c98\",\"modelid\":\"20b13f20-ebcf-414d-a032-11ec1f94ecd6\"}];\n",
       "  root.Bokeh.embed.embed_items_notebook(docs_json, render_items);\n",
       "\n",
       "  }\n",
       "  if (root.Bokeh !== undefined) {\n",
       "    embed_document(root);\n",
       "  } else {\n",
       "    var attempts = 0;\n",
       "    var timer = setInterval(function(root) {\n",
       "      if (root.Bokeh !== undefined) {\n",
       "        embed_document(root);\n",
       "        clearInterval(timer);\n",
       "      }\n",
       "      attempts++;\n",
       "      if (attempts > 100) {\n",
       "        console.log(\"Bokeh: ERROR: Unable to run BokehJS code because BokehJS library is missing\")\n",
       "        clearInterval(timer);\n",
       "      }\n",
       "    }, 10, root)\n",
       "  }\n",
       "})(window);"
      ],
      "application/vnd.bokehjs_exec.v0+json": ""
     },
     "metadata": {
      "application/vnd.bokehjs_exec.v0+json": {
       "id": "20b13f20-ebcf-414d-a032-11ec1f94ecd6"
      }
     },
     "output_type": "display_data"
    },
    {
     "data": {
      "text/markdown": [
       "*FIGURE.* Cooling rates & difference."
      ],
      "text/plain": [
       "<IPython.core.display.Markdown object>"
      ]
     },
     "metadata": {},
     "output_type": "display_data"
    },
    {
     "data": {
      "text/html": [
       "<a id=\"Fluxes._trp.\"></a>"
      ],
      "text/plain": [
       "<IPython.core.display.HTML object>"
      ]
     },
     "metadata": {},
     "output_type": "display_data"
    },
    {
     "data": {
      "text/markdown": [
       "# Fluxes. trp."
      ],
      "text/plain": [
       "<IPython.core.display.Markdown object>"
      ]
     },
     "metadata": {},
     "output_type": "display_data"
    },
    {
     "data": {
      "text/html": [
       "\n",
       "<div class=\"bk-root\">\n",
       "    <div class=\"bk-plotdiv\" id=\"886f6fe2-e91a-4327-9281-32ffa2bfc559\"></div>\n",
       "</div>"
      ]
     },
     "metadata": {},
     "output_type": "display_data"
    },
    {
     "data": {
      "application/javascript": [
       "(function(root) {\n",
       "  function embed_document(root) {\n",
       "    \n",
       "  var docs_json = {\"ebcc14d5-3a93-4c2f-97fe-10a53ad070d9\":{\"roots\":{\"references\":[{\"attributes\":{\"callback\":null},\"id\":\"9e04b217-21b6-4ce2-a32b-6d3bfec71670\",\"type\":\"DataRange1d\"},{\"attributes\":{},\"id\":\"19c83298-1e6a-4e53-859e-c56783a85dae\",\"type\":\"BasicTickFormatter\"},{\"attributes\":{\"overlay\":{\"id\":\"0cf9137e-17de-4e46-b36f-bdbcab9d50f4\",\"type\":\"BoxAnnotation\"}},\"id\":\"dd58f295-e08a-4b00-9155-2c79e877ae84\",\"type\":\"BoxZoomTool\"},{\"attributes\":{\"data_source\":{\"id\":\"4bf95537-1f00-492a-86e8-5b0a872c86ff\",\"type\":\"ColumnDataSource\"},\"glyph\":{\"id\":\"b05199c4-ebb2-46fc-9acb-d60f639edfc9\",\"type\":\"VBar\"},\"hover_glyph\":null,\"muted_glyph\":null,\"nonselection_glyph\":{\"id\":\"b1dedc4b-9f1b-4977-bb58-da4477cca11e\",\"type\":\"VBar\"},\"selection_glyph\":null,\"view\":{\"id\":\"473f6763-1cf9-4c99-b77e-1997da3d28aa\",\"type\":\"CDSView\"}},\"id\":\"78585484-53d3-44bf-aa18-ba35adaa6a0c\",\"type\":\"GlyphRenderer\"},{\"attributes\":{},\"id\":\"669d5e1d-14a2-4731-b720-5fd8d22f9bff\",\"type\":\"SaveTool\"},{\"attributes\":{\"active_drag\":\"auto\",\"active_inspect\":\"auto\",\"active_scroll\":\"auto\",\"active_tap\":\"auto\",\"tools\":[{\"id\":\"ef1605da-81c1-4502-a55d-6123d77fb8b0\",\"type\":\"PanTool\"},{\"id\":\"523d2245-a9a9-411a-8228-b4b01332d127\",\"type\":\"WheelZoomTool\"},{\"id\":\"583fe861-d037-4b3f-98d4-855bed1b61db\",\"type\":\"BoxZoomTool\"},{\"id\":\"669d5e1d-14a2-4731-b720-5fd8d22f9bff\",\"type\":\"SaveTool\"},{\"id\":\"90af8a91-ecdf-4610-ab13-fe00c73870f9\",\"type\":\"ResetTool\"},{\"id\":\"a366e1ee-8b63-406b-b43a-d477daf943d9\",\"type\":\"HelpTool\"}]},\"id\":\"c2d3da73-dc20-4566-9945-dc0058365655\",\"type\":\"Toolbar\"},{\"attributes\":{},\"id\":\"4bdd7141-df57-456e-b353-f0d189024507\",\"type\":\"UnionRenderers\"},{\"attributes\":{},\"id\":\"a390b388-15d1-4b21-a076-469ea546bc92\",\"type\":\"HelpTool\"},{\"attributes\":{},\"id\":\"e2973727-4d6e-417b-8a9e-3d425b89b4ae\",\"type\":\"CategoricalTicker\"},{\"attributes\":{\"tools\":[{\"id\":\"ef1605da-81c1-4502-a55d-6123d77fb8b0\",\"type\":\"PanTool\"},{\"id\":\"523d2245-a9a9-411a-8228-b4b01332d127\",\"type\":\"WheelZoomTool\"},{\"id\":\"583fe861-d037-4b3f-98d4-855bed1b61db\",\"type\":\"BoxZoomTool\"},{\"id\":\"669d5e1d-14a2-4731-b720-5fd8d22f9bff\",\"type\":\"SaveTool\"},{\"id\":\"90af8a91-ecdf-4610-ab13-fe00c73870f9\",\"type\":\"ResetTool\"},{\"id\":\"a366e1ee-8b63-406b-b43a-d477daf943d9\",\"type\":\"HelpTool\"},{\"id\":\"8397f6c0-efb9-4d20-911b-3be8b27768a3\",\"type\":\"PanTool\"},{\"id\":\"8d98b14a-d5ef-452d-b7e5-ce101be6cc84\",\"type\":\"WheelZoomTool\"},{\"id\":\"6963ed4f-33cc-4a0b-883d-0b8932ddc486\",\"type\":\"BoxZoomTool\"},{\"id\":\"77fef62b-61a1-4f02-986a-72e6c7780023\",\"type\":\"SaveTool\"},{\"id\":\"d1f4ff45-2710-4ba5-8734-eb66d67ed8ac\",\"type\":\"ResetTool\"},{\"id\":\"2da135f4-c439-4996-a2a3-c0dbb8642bda\",\"type\":\"HelpTool\"},{\"id\":\"1b6b401a-ecfb-46f8-9b3d-2530786dc41c\",\"type\":\"PanTool\"},{\"id\":\"a5287e81-b9d6-4c85-9e6f-b2324dde018d\",\"type\":\"WheelZoomTool\"},{\"id\":\"dd58f295-e08a-4b00-9155-2c79e877ae84\",\"type\":\"BoxZoomTool\"},{\"id\":\"d4f00b15-72c1-4f3d-af67-00983384dc1d\",\"type\":\"SaveTool\"},{\"id\":\"0c647e4e-5883-407f-864f-1547299e2b06\",\"type\":\"ResetTool\"},{\"id\":\"a390b388-15d1-4b21-a076-469ea546bc92\",\"type\":\"HelpTool\"}]},\"id\":\"f5613125-519e-411a-a5f4-6479dbdef4b5\",\"type\":\"ProxyToolbar\"},{\"attributes\":{\"dimension\":1,\"plot\":{\"id\":\"03b7c1ce-d29c-4334-90b2-7f67855e5544\",\"subtype\":\"Figure\",\"type\":\"Plot\"},\"ticker\":{\"id\":\"c1acacbb-fbfa-47db-b37c-f77d93728512\",\"type\":\"BasicTicker\"}},\"id\":\"eb5ffbc2-5036-44d6-8513-094ac628e8c4\",\"type\":\"Grid\"},{\"attributes\":{},\"id\":\"89aa2272-aea6-4aee-b76a-38085fce174e\",\"type\":\"Selection\"},{\"attributes\":{\"dimension\":1,\"plot\":{\"id\":\"4212d7a3-90e0-4561-ac22-c5f0ff04a180\",\"subtype\":\"Figure\",\"type\":\"Plot\"},\"ticker\":{\"id\":\"3d28d35b-1da3-479c-9869-4b4cf2e30850\",\"type\":\"BasicTicker\"}},\"id\":\"6d89f76f-9cc5-4129-97fe-141533506630\",\"type\":\"Grid\"},{\"attributes\":{\"source\":{\"id\":\"7757adc6-3ee9-46f3-908a-1bb091e7bcd1\",\"type\":\"ColumnDataSource\"}},\"id\":\"434d2e0e-170b-483b-9195-145ab514567e\",\"type\":\"CDSView\"},{\"attributes\":{\"callback\":null,\"factors\":[\"1\",\"2\",\"3\",\"4\",\"5\",\"6\",\"7\",\"8\",\"9\",\"10\",\"11\"]},\"id\":\"f2fa0bcc-8465-452b-8e62-f690edf8d08e\",\"type\":\"FactorRange\"},{\"attributes\":{\"callback\":null,\"data\":{\"band\":[\"1\",\"2\",\"3\",\"4\",\"5\",\"6\",\"7\",\"8\",\"9\",\"10\",\"11\"],\"flux\":{\"__ndarray__\":\"AID6S2L7yj8AhLZzzD+yPwC8gsh9Brm/ABW46Y0C4D8gA5fHmpHSvwDp7GRwlN+/gOE/3UCBxT8AVKwahLmdv0C4FKEiGNC/wG+hI6BfwD9Ab6jOWVWpPw==\",\"dtype\":\"float64\",\"shape\":[11]}},\"selected\":{\"id\":\"89aa2272-aea6-4aee-b76a-38085fce174e\",\"type\":\"Selection\"},\"selection_policy\":{\"id\":\"76f8a564-9efb-491d-b30d-7e47a2cf431a\",\"type\":\"UnionRenderers\"}},\"id\":\"7757adc6-3ee9-46f3-908a-1bb091e7bcd1\",\"type\":\"ColumnDataSource\"},{\"attributes\":{\"data_source\":{\"id\":\"7757adc6-3ee9-46f3-908a-1bb091e7bcd1\",\"type\":\"ColumnDataSource\"},\"glyph\":{\"id\":\"08cdb664-cb82-4b39-9d7c-509df3918c56\",\"type\":\"VBar\"},\"hover_glyph\":null,\"muted_glyph\":null,\"nonselection_glyph\":{\"id\":\"2337ded2-4f90-4170-87bd-d1efdfd20e8d\",\"type\":\"VBar\"},\"selection_glyph\":null,\"view\":{\"id\":\"434d2e0e-170b-483b-9195-145ab514567e\",\"type\":\"CDSView\"}},\"id\":\"c90f6519-c42d-412b-9303-ae9a95dfa374\",\"type\":\"GlyphRenderer\"},{\"attributes\":{},\"id\":\"ef1605da-81c1-4502-a55d-6123d77fb8b0\",\"type\":\"PanTool\"},{\"attributes\":{},\"id\":\"1b6b401a-ecfb-46f8-9b3d-2530786dc41c\",\"type\":\"PanTool\"},{\"attributes\":{\"bottom_units\":\"screen\",\"fill_alpha\":{\"value\":0.5},\"fill_color\":{\"value\":\"lightgrey\"},\"left_units\":\"screen\",\"level\":\"overlay\",\"line_alpha\":{\"value\":1.0},\"line_color\":{\"value\":\"black\"},\"line_dash\":[4,4],\"line_width\":{\"value\":2},\"plot\":null,\"render_mode\":\"css\",\"right_units\":\"screen\",\"top_units\":\"screen\"},\"id\":\"0cf9137e-17de-4e46-b36f-bdbcab9d50f4\",\"type\":\"BoxAnnotation\"},{\"attributes\":{\"axis_label\":\"flux (W m-2)\",\"formatter\":{\"id\":\"0e5f0b6d-1ea3-43b2-9c54-27f1571e45c0\",\"type\":\"BasicTickFormatter\"},\"plot\":{\"id\":\"03b7c1ce-d29c-4334-90b2-7f67855e5544\",\"subtype\":\"Figure\",\"type\":\"Plot\"},\"ticker\":{\"id\":\"c1acacbb-fbfa-47db-b37c-f77d93728512\",\"type\":\"BasicTicker\"}},\"id\":\"fb997b66-1238-4169-b936-e777fe21deca\",\"type\":\"LinearAxis\"},{\"attributes\":{},\"id\":\"90af8a91-ecdf-4610-ab13-fe00c73870f9\",\"type\":\"ResetTool\"},{\"attributes\":{},\"id\":\"0e0329ec-6233-401a-8911-27e9b3929848\",\"type\":\"Selection\"},{\"attributes\":{},\"id\":\"cd8c0d45-48d5-49bf-97d2-95a8587f4844\",\"type\":\"CategoricalScale\"},{\"attributes\":{},\"id\":\"3d28d35b-1da3-479c-9869-4b4cf2e30850\",\"type\":\"BasicTicker\"},{\"attributes\":{\"bottom_units\":\"screen\",\"fill_alpha\":{\"value\":0.5},\"fill_color\":{\"value\":\"lightgrey\"},\"left_units\":\"screen\",\"level\":\"overlay\",\"line_alpha\":{\"value\":1.0},\"line_color\":{\"value\":\"black\"},\"line_dash\":[4,4],\"line_width\":{\"value\":2},\"plot\":null,\"render_mode\":\"css\",\"right_units\":\"screen\",\"top_units\":\"screen\"},\"id\":\"955d73dc-c90c-4ea7-8c98-cb04ff865973\",\"type\":\"BoxAnnotation\"},{\"attributes\":{\"axis_label\":\"flux (W m-2)\",\"formatter\":{\"id\":\"19c83298-1e6a-4e53-859e-c56783a85dae\",\"type\":\"BasicTickFormatter\"},\"plot\":{\"id\":\"4212d7a3-90e0-4561-ac22-c5f0ff04a180\",\"subtype\":\"Figure\",\"type\":\"Plot\"},\"ticker\":{\"id\":\"3d28d35b-1da3-479c-9869-4b4cf2e30850\",\"type\":\"BasicTicker\"}},\"id\":\"2e82df6a-0304-4ccc-9ea6-13466b37375e\",\"type\":\"LinearAxis\"},{\"attributes\":{},\"id\":\"0fd9b1a0-f1c8-4d91-b770-a6ad9ff144c1\",\"type\":\"UnionRenderers\"},{\"attributes\":{\"children\":[{\"id\":\"38995c4f-c2f5-4f37-a708-69b6fcb40197\",\"type\":\"Row\"}]},\"id\":\"bc2ad2dc-f588-4730-8b28-52e0fb1a16dd\",\"type\":\"Column\"},{\"attributes\":{\"callback\":null,\"data\":{\"band\":[\"1\",\"2\",\"3\",\"4\",\"5\",\"6\",\"7\",\"8\",\"9\",\"10\",\"11\"],\"flux\":{\"__ndarray__\":\"AADADkbs874Ak+S5vg/QPwANMzSeCMq/ABTRr62frj8A8Z2Y9WLjP6As7j8yHd0/gB2NQ/0usj/A0phaAGTRP0Churn429E/AFDtmpDWiD8AO3arQl6wPw==\",\"dtype\":\"float64\",\"shape\":[11]}},\"selected\":{\"id\":\"0e0329ec-6233-401a-8911-27e9b3929848\",\"type\":\"Selection\"},\"selection_policy\":{\"id\":\"0fd9b1a0-f1c8-4d91-b770-a6ad9ff144c1\",\"type\":\"UnionRenderers\"}},\"id\":\"4f2fab72-e61b-42e0-a4b2-ed379bb198c0\",\"type\":\"ColumnDataSource\"},{\"attributes\":{\"below\":[{\"id\":\"d058a842-a6d2-4f89-a36d-ea02b6a9bc17\",\"type\":\"CategoricalAxis\"}],\"left\":[{\"id\":\"2e82df6a-0304-4ccc-9ea6-13466b37375e\",\"type\":\"LinearAxis\"}],\"plot_height\":300,\"plot_width\":300,\"renderers\":[{\"id\":\"d058a842-a6d2-4f89-a36d-ea02b6a9bc17\",\"type\":\"CategoricalAxis\"},{\"id\":\"bc823fc5-ce5b-4e9e-b05c-7058c33058e1\",\"type\":\"Grid\"},{\"id\":\"2e82df6a-0304-4ccc-9ea6-13466b37375e\",\"type\":\"LinearAxis\"},{\"id\":\"6d89f76f-9cc5-4129-97fe-141533506630\",\"type\":\"Grid\"},{\"id\":\"0cf9137e-17de-4e46-b36f-bdbcab9d50f4\",\"type\":\"BoxAnnotation\"},{\"id\":\"c90f6519-c42d-412b-9303-ae9a95dfa374\",\"type\":\"GlyphRenderer\"}],\"title\":{\"id\":\"14097115-1562-40f9-97ce-3efbd0c86264\",\"type\":\"Title\"},\"toolbar\":{\"id\":\"049e60e4-d542-4e27-b1eb-ed1ddff3d18a\",\"type\":\"Toolbar\"},\"toolbar_location\":null,\"x_range\":{\"id\":\"f2fa0bcc-8465-452b-8e62-f690edf8d08e\",\"type\":\"FactorRange\"},\"x_scale\":{\"id\":\"cd8c0d45-48d5-49bf-97d2-95a8587f4844\",\"type\":\"CategoricalScale\"},\"y_range\":{\"id\":\"9e04b217-21b6-4ce2-a32b-6d3bfec71670\",\"type\":\"DataRange1d\"},\"y_scale\":{\"id\":\"82da2d37-4224-4e7e-968f-6961092fe452\",\"type\":\"LinearScale\"}},\"id\":\"4212d7a3-90e0-4561-ac22-c5f0ff04a180\",\"subtype\":\"Figure\",\"type\":\"Plot\"},{\"attributes\":{\"fill_alpha\":{\"value\":0.1},\"fill_color\":{\"value\":\"#1f77b4\"},\"line_alpha\":{\"value\":0.1},\"line_color\":{\"value\":\"#1f77b4\"},\"top\":{\"field\":\"flux\"},\"width\":{\"value\":0.9},\"x\":{\"field\":\"band\"}},\"id\":\"b1dedc4b-9f1b-4977-bb58-da4477cca11e\",\"type\":\"VBar\"},{\"attributes\":{\"active_drag\":\"auto\",\"active_inspect\":\"auto\",\"active_scroll\":\"auto\",\"active_tap\":\"auto\",\"tools\":[{\"id\":\"1b6b401a-ecfb-46f8-9b3d-2530786dc41c\",\"type\":\"PanTool\"},{\"id\":\"a5287e81-b9d6-4c85-9e6f-b2324dde018d\",\"type\":\"WheelZoomTool\"},{\"id\":\"dd58f295-e08a-4b00-9155-2c79e877ae84\",\"type\":\"BoxZoomTool\"},{\"id\":\"d4f00b15-72c1-4f3d-af67-00983384dc1d\",\"type\":\"SaveTool\"},{\"id\":\"0c647e4e-5883-407f-864f-1547299e2b06\",\"type\":\"ResetTool\"},{\"id\":\"a390b388-15d1-4b21-a076-469ea546bc92\",\"type\":\"HelpTool\"}]},\"id\":\"049e60e4-d542-4e27-b1eb-ed1ddff3d18a\",\"type\":\"Toolbar\"},{\"attributes\":{},\"id\":\"c4747669-ca61-4d78-a662-7f19f04ef903\",\"type\":\"CategoricalTickFormatter\"},{\"attributes\":{},\"id\":\"82da2d37-4224-4e7e-968f-6961092fe452\",\"type\":\"LinearScale\"},{\"attributes\":{\"plot\":{\"id\":\"4212d7a3-90e0-4561-ac22-c5f0ff04a180\",\"subtype\":\"Figure\",\"type\":\"Plot\"},\"ticker\":{\"id\":\"75398cfc-5957-4bc6-9f80-62a7c6b4e5c2\",\"type\":\"CategoricalTicker\"}},\"id\":\"bc823fc5-ce5b-4e9e-b05c-7058c33058e1\",\"type\":\"Grid\"},{\"attributes\":{},\"id\":\"5fa41552-db8e-407e-a225-deb89f76ac88\",\"type\":\"Selection\"},{\"attributes\":{},\"id\":\"a5287e81-b9d6-4c85-9e6f-b2324dde018d\",\"type\":\"WheelZoomTool\"},{\"attributes\":{},\"id\":\"75398cfc-5957-4bc6-9f80-62a7c6b4e5c2\",\"type\":\"CategoricalTicker\"},{\"attributes\":{\"plot\":{\"id\":\"03b7c1ce-d29c-4334-90b2-7f67855e5544\",\"subtype\":\"Figure\",\"type\":\"Plot\"},\"ticker\":{\"id\":\"e2973727-4d6e-417b-8a9e-3d425b89b4ae\",\"type\":\"CategoricalTicker\"}},\"id\":\"e079a76d-0cde-4631-b34c-a8059cfa9d80\",\"type\":\"Grid\"},{\"attributes\":{\"plot\":null,\"text\":\"Atmosphere heating. CLIRAD (single-run) - CRD.\"},\"id\":\"14097115-1562-40f9-97ce-3efbd0c86264\",\"type\":\"Title\"},{\"attributes\":{},\"id\":\"523d2245-a9a9-411a-8228-b4b01332d127\",\"type\":\"WheelZoomTool\"},{\"attributes\":{\"callback\":null},\"id\":\"1d8b1284-3d49-4059-82d6-8bced882b029\",\"type\":\"DataRange1d\"},{\"attributes\":{\"fill_color\":{\"value\":\"#1f77b4\"},\"line_color\":{\"value\":\"#1f77b4\"},\"top\":{\"field\":\"flux\"},\"width\":{\"value\":0.9},\"x\":{\"field\":\"band\"}},\"id\":\"08cdb664-cb82-4b39-9d7c-509df3918c56\",\"type\":\"VBar\"},{\"attributes\":{\"plot\":null,\"text\":\"TOA flux. CLIRAD (single-run) - CRD.\"},\"id\":\"d6e3ed47-33e5-4d74-8e01-f5e5b06a3411\",\"type\":\"Title\"},{\"attributes\":{\"source\":{\"id\":\"4bf95537-1f00-492a-86e8-5b0a872c86ff\",\"type\":\"ColumnDataSource\"}},\"id\":\"473f6763-1cf9-4c99-b77e-1997da3d28aa\",\"type\":\"CDSView\"},{\"attributes\":{},\"id\":\"2bfdb885-50a3-4350-bf53-579f8003cfa6\",\"type\":\"LinearScale\"},{\"attributes\":{},\"id\":\"e5386dbf-37b9-486b-9e53-7bd52955b103\",\"type\":\"BasicTickFormatter\"},{\"attributes\":{},\"id\":\"cea029bf-b0ca-48e9-9501-d809aea90dfc\",\"type\":\"CategoricalScale\"},{\"attributes\":{},\"id\":\"d4f00b15-72c1-4f3d-af67-00983384dc1d\",\"type\":\"SaveTool\"},{\"attributes\":{},\"id\":\"affad552-e79d-45a3-a8f1-3e381db8b9a1\",\"type\":\"CategoricalTickFormatter\"},{\"attributes\":{},\"id\":\"0c647e4e-5883-407f-864f-1547299e2b06\",\"type\":\"ResetTool\"},{\"attributes\":{\"axis_label\":\"spectral band\",\"formatter\":{\"id\":\"c4747669-ca61-4d78-a662-7f19f04ef903\",\"type\":\"CategoricalTickFormatter\"},\"plot\":{\"id\":\"03b7c1ce-d29c-4334-90b2-7f67855e5544\",\"subtype\":\"Figure\",\"type\":\"Plot\"},\"ticker\":{\"id\":\"e2973727-4d6e-417b-8a9e-3d425b89b4ae\",\"type\":\"CategoricalTicker\"}},\"id\":\"9fd5b92a-ea46-4576-abfd-22199083538f\",\"type\":\"CategoricalAxis\"},{\"attributes\":{\"overlay\":{\"id\":\"955d73dc-c90c-4ea7-8c98-cb04ff865973\",\"type\":\"BoxAnnotation\"}},\"id\":\"583fe861-d037-4b3f-98d4-855bed1b61db\",\"type\":\"BoxZoomTool\"},{\"attributes\":{\"children\":[{\"id\":\"03b7c1ce-d29c-4334-90b2-7f67855e5544\",\"subtype\":\"Figure\",\"type\":\"Plot\"},{\"id\":\"aba68b7e-8235-4361-9de5-1325daed490c\",\"subtype\":\"Figure\",\"type\":\"Plot\"},{\"id\":\"4212d7a3-90e0-4561-ac22-c5f0ff04a180\",\"subtype\":\"Figure\",\"type\":\"Plot\"}]},\"id\":\"38995c4f-c2f5-4f37-a708-69b6fcb40197\",\"type\":\"Row\"},{\"attributes\":{\"callback\":null,\"factors\":[\"1\",\"2\",\"3\",\"4\",\"5\",\"6\",\"7\",\"8\",\"9\",\"10\",\"11\"]},\"id\":\"caf423c3-7f4f-4d77-8a5e-a1fcb7b80e7c\",\"type\":\"FactorRange\"},{\"attributes\":{\"plot\":null,\"text\":\"SFC flux. CLIRAD (single-run) - CRD.\"},\"id\":\"73f02345-e31f-40a9-a95e-4e2a7dfd6871\",\"type\":\"Title\"},{\"attributes\":{},\"id\":\"76f8a564-9efb-491d-b30d-7e47a2cf431a\",\"type\":\"UnionRenderers\"},{\"attributes\":{},\"id\":\"0e5f0b6d-1ea3-43b2-9c54-27f1571e45c0\",\"type\":\"BasicTickFormatter\"},{\"attributes\":{\"axis_label\":\"spectral band\",\"formatter\":{\"id\":\"affad552-e79d-45a3-a8f1-3e381db8b9a1\",\"type\":\"CategoricalTickFormatter\"},\"plot\":{\"id\":\"4212d7a3-90e0-4561-ac22-c5f0ff04a180\",\"subtype\":\"Figure\",\"type\":\"Plot\"},\"ticker\":{\"id\":\"75398cfc-5957-4bc6-9f80-62a7c6b4e5c2\",\"type\":\"CategoricalTicker\"}},\"id\":\"d058a842-a6d2-4f89-a36d-ea02b6a9bc17\",\"type\":\"CategoricalAxis\"},{\"attributes\":{},\"id\":\"a366e1ee-8b63-406b-b43a-d477daf943d9\",\"type\":\"HelpTool\"},{\"attributes\":{\"bottom_units\":\"screen\",\"fill_alpha\":{\"value\":0.5},\"fill_color\":{\"value\":\"lightgrey\"},\"left_units\":\"screen\",\"level\":\"overlay\",\"line_alpha\":{\"value\":1.0},\"line_color\":{\"value\":\"black\"},\"line_dash\":[4,4],\"line_width\":{\"value\":2},\"plot\":null,\"render_mode\":\"css\",\"right_units\":\"screen\",\"top_units\":\"screen\"},\"id\":\"8d77096e-3525-47d3-8e70-cc9bd74c927f\",\"type\":\"BoxAnnotation\"},{\"attributes\":{},\"id\":\"877f4e83-4f51-4274-a7b9-89be30252393\",\"type\":\"CategoricalTickFormatter\"},{\"attributes\":{},\"id\":\"c1acacbb-fbfa-47db-b37c-f77d93728512\",\"type\":\"BasicTicker\"},{\"attributes\":{\"fill_alpha\":{\"value\":0.1},\"fill_color\":{\"value\":\"#1f77b4\"},\"line_alpha\":{\"value\":0.1},\"line_color\":{\"value\":\"#1f77b4\"},\"top\":{\"field\":\"flux\"},\"width\":{\"value\":0.9},\"x\":{\"field\":\"band\"}},\"id\":\"2337ded2-4f90-4170-87bd-d1efdfd20e8d\",\"type\":\"VBar\"},{\"attributes\":{\"toolbar\":{\"id\":\"f5613125-519e-411a-a5f4-6479dbdef4b5\",\"type\":\"ProxyToolbar\"},\"toolbar_location\":\"above\"},\"id\":\"2976cec1-a0c8-48e6-bf65-652dd1a0bfa5\",\"type\":\"ToolbarBox\"},{\"attributes\":{\"children\":[{\"id\":\"2976cec1-a0c8-48e6-bf65-652dd1a0bfa5\",\"type\":\"ToolbarBox\"},{\"id\":\"bc2ad2dc-f588-4730-8b28-52e0fb1a16dd\",\"type\":\"Column\"}]},\"id\":\"3119d645-18ff-406b-af56-43c94064ac8d\",\"type\":\"Column\"},{\"attributes\":{\"fill_alpha\":{\"value\":0.1},\"fill_color\":{\"value\":\"#1f77b4\"},\"line_alpha\":{\"value\":0.1},\"line_color\":{\"value\":\"#1f77b4\"},\"top\":{\"field\":\"flux\"},\"width\":{\"value\":0.9},\"x\":{\"field\":\"band\"}},\"id\":\"01783ba9-6a96-412b-aee8-bbb357f5dacb\",\"type\":\"VBar\"},{\"attributes\":{\"plot\":{\"id\":\"aba68b7e-8235-4361-9de5-1325daed490c\",\"subtype\":\"Figure\",\"type\":\"Plot\"},\"ticker\":{\"id\":\"36d7b71d-a730-4355-9ab6-17a53dc34a39\",\"type\":\"CategoricalTicker\"}},\"id\":\"1a97df9e-a97a-4c7e-8e9c-2f40e43156db\",\"type\":\"Grid\"},{\"attributes\":{\"below\":[{\"id\":\"6e36b9ef-4374-493e-ae26-b7a04679cd73\",\"type\":\"CategoricalAxis\"}],\"left\":[{\"id\":\"9e284c3a-2eb3-419b-9eb6-44fac1b34393\",\"type\":\"LinearAxis\"}],\"plot_height\":300,\"plot_width\":300,\"renderers\":[{\"id\":\"6e36b9ef-4374-493e-ae26-b7a04679cd73\",\"type\":\"CategoricalAxis\"},{\"id\":\"1a97df9e-a97a-4c7e-8e9c-2f40e43156db\",\"type\":\"Grid\"},{\"id\":\"9e284c3a-2eb3-419b-9eb6-44fac1b34393\",\"type\":\"LinearAxis\"},{\"id\":\"f3c00a68-acc6-43f1-8134-e7b4469bf482\",\"type\":\"Grid\"},{\"id\":\"8d77096e-3525-47d3-8e70-cc9bd74c927f\",\"type\":\"BoxAnnotation\"},{\"id\":\"e3defee1-ce3e-455f-8dbe-830c6455835e\",\"type\":\"GlyphRenderer\"}],\"title\":{\"id\":\"73f02345-e31f-40a9-a95e-4e2a7dfd6871\",\"type\":\"Title\"},\"toolbar\":{\"id\":\"eaba0bc9-7e27-44f1-a48d-de20f482762d\",\"type\":\"Toolbar\"},\"toolbar_location\":null,\"x_range\":{\"id\":\"7f17bbf9-7d53-47f7-9faf-d6885652fb97\",\"type\":\"FactorRange\"},\"x_scale\":{\"id\":\"8ed382fd-55b7-443f-b017-ca6656431551\",\"type\":\"CategoricalScale\"},\"y_range\":{\"id\":\"cbdef21f-6b4f-4707-827a-b7133df1dec1\",\"type\":\"DataRange1d\"},\"y_scale\":{\"id\":\"64ae834d-17eb-48b4-84f4-2528b4449102\",\"type\":\"LinearScale\"}},\"id\":\"aba68b7e-8235-4361-9de5-1325daed490c\",\"subtype\":\"Figure\",\"type\":\"Plot\"},{\"attributes\":{\"below\":[{\"id\":\"9fd5b92a-ea46-4576-abfd-22199083538f\",\"type\":\"CategoricalAxis\"}],\"left\":[{\"id\":\"fb997b66-1238-4169-b936-e777fe21deca\",\"type\":\"LinearAxis\"}],\"plot_height\":300,\"plot_width\":300,\"renderers\":[{\"id\":\"9fd5b92a-ea46-4576-abfd-22199083538f\",\"type\":\"CategoricalAxis\"},{\"id\":\"e079a76d-0cde-4631-b34c-a8059cfa9d80\",\"type\":\"Grid\"},{\"id\":\"fb997b66-1238-4169-b936-e777fe21deca\",\"type\":\"LinearAxis\"},{\"id\":\"eb5ffbc2-5036-44d6-8513-094ac628e8c4\",\"type\":\"Grid\"},{\"id\":\"955d73dc-c90c-4ea7-8c98-cb04ff865973\",\"type\":\"BoxAnnotation\"},{\"id\":\"78585484-53d3-44bf-aa18-ba35adaa6a0c\",\"type\":\"GlyphRenderer\"}],\"title\":{\"id\":\"d6e3ed47-33e5-4d74-8e01-f5e5b06a3411\",\"type\":\"Title\"},\"toolbar\":{\"id\":\"c2d3da73-dc20-4566-9945-dc0058365655\",\"type\":\"Toolbar\"},\"toolbar_location\":null,\"x_range\":{\"id\":\"caf423c3-7f4f-4d77-8a5e-a1fcb7b80e7c\",\"type\":\"FactorRange\"},\"x_scale\":{\"id\":\"cea029bf-b0ca-48e9-9501-d809aea90dfc\",\"type\":\"CategoricalScale\"},\"y_range\":{\"id\":\"1d8b1284-3d49-4059-82d6-8bced882b029\",\"type\":\"DataRange1d\"},\"y_scale\":{\"id\":\"2bfdb885-50a3-4350-bf53-579f8003cfa6\",\"type\":\"LinearScale\"}},\"id\":\"03b7c1ce-d29c-4334-90b2-7f67855e5544\",\"subtype\":\"Figure\",\"type\":\"Plot\"},{\"attributes\":{\"axis_label\":\"flux (W m-2)\",\"formatter\":{\"id\":\"e5386dbf-37b9-486b-9e53-7bd52955b103\",\"type\":\"BasicTickFormatter\"},\"plot\":{\"id\":\"aba68b7e-8235-4361-9de5-1325daed490c\",\"subtype\":\"Figure\",\"type\":\"Plot\"},\"ticker\":{\"id\":\"fef82748-81f4-4de0-85e3-cef0f75ea486\",\"type\":\"BasicTicker\"}},\"id\":\"9e284c3a-2eb3-419b-9eb6-44fac1b34393\",\"type\":\"LinearAxis\"},{\"attributes\":{\"axis_label\":\"spectral band\",\"formatter\":{\"id\":\"877f4e83-4f51-4274-a7b9-89be30252393\",\"type\":\"CategoricalTickFormatter\"},\"plot\":{\"id\":\"aba68b7e-8235-4361-9de5-1325daed490c\",\"subtype\":\"Figure\",\"type\":\"Plot\"},\"ticker\":{\"id\":\"36d7b71d-a730-4355-9ab6-17a53dc34a39\",\"type\":\"CategoricalTicker\"}},\"id\":\"6e36b9ef-4374-493e-ae26-b7a04679cd73\",\"type\":\"CategoricalAxis\"},{\"attributes\":{},\"id\":\"8ed382fd-55b7-443f-b017-ca6656431551\",\"type\":\"CategoricalScale\"},{\"attributes\":{},\"id\":\"d1f4ff45-2710-4ba5-8734-eb66d67ed8ac\",\"type\":\"ResetTool\"},{\"attributes\":{},\"id\":\"2da135f4-c439-4996-a2a3-c0dbb8642bda\",\"type\":\"HelpTool\"},{\"attributes\":{\"callback\":null},\"id\":\"cbdef21f-6b4f-4707-827a-b7133df1dec1\",\"type\":\"DataRange1d\"},{\"attributes\":{},\"id\":\"77fef62b-61a1-4f02-986a-72e6c7780023\",\"type\":\"SaveTool\"},{\"attributes\":{\"dimension\":1,\"plot\":{\"id\":\"aba68b7e-8235-4361-9de5-1325daed490c\",\"subtype\":\"Figure\",\"type\":\"Plot\"},\"ticker\":{\"id\":\"fef82748-81f4-4de0-85e3-cef0f75ea486\",\"type\":\"BasicTicker\"}},\"id\":\"f3c00a68-acc6-43f1-8134-e7b4469bf482\",\"type\":\"Grid\"},{\"attributes\":{\"active_drag\":\"auto\",\"active_inspect\":\"auto\",\"active_scroll\":\"auto\",\"active_tap\":\"auto\",\"tools\":[{\"id\":\"8397f6c0-efb9-4d20-911b-3be8b27768a3\",\"type\":\"PanTool\"},{\"id\":\"8d98b14a-d5ef-452d-b7e5-ce101be6cc84\",\"type\":\"WheelZoomTool\"},{\"id\":\"6963ed4f-33cc-4a0b-883d-0b8932ddc486\",\"type\":\"BoxZoomTool\"},{\"id\":\"77fef62b-61a1-4f02-986a-72e6c7780023\",\"type\":\"SaveTool\"},{\"id\":\"d1f4ff45-2710-4ba5-8734-eb66d67ed8ac\",\"type\":\"ResetTool\"},{\"id\":\"2da135f4-c439-4996-a2a3-c0dbb8642bda\",\"type\":\"HelpTool\"}]},\"id\":\"eaba0bc9-7e27-44f1-a48d-de20f482762d\",\"type\":\"Toolbar\"},{\"attributes\":{},\"id\":\"64ae834d-17eb-48b4-84f4-2528b4449102\",\"type\":\"LinearScale\"},{\"attributes\":{},\"id\":\"8d98b14a-d5ef-452d-b7e5-ce101be6cc84\",\"type\":\"WheelZoomTool\"},{\"attributes\":{\"fill_color\":{\"value\":\"#1f77b4\"},\"line_color\":{\"value\":\"#1f77b4\"},\"top\":{\"field\":\"flux\"},\"width\":{\"value\":0.9},\"x\":{\"field\":\"band\"}},\"id\":\"423403a9-5f6f-4ed5-b023-72e5932cb399\",\"type\":\"VBar\"},{\"attributes\":{\"source\":{\"id\":\"4f2fab72-e61b-42e0-a4b2-ed379bb198c0\",\"type\":\"ColumnDataSource\"}},\"id\":\"ca1e071b-acdd-4d0e-886d-d38e981528b7\",\"type\":\"CDSView\"},{\"attributes\":{\"callback\":null,\"factors\":[\"1\",\"2\",\"3\",\"4\",\"5\",\"6\",\"7\",\"8\",\"9\",\"10\",\"11\"]},\"id\":\"7f17bbf9-7d53-47f7-9faf-d6885652fb97\",\"type\":\"FactorRange\"},{\"attributes\":{\"callback\":null,\"data\":{\"band\":[\"1\",\"2\",\"3\",\"4\",\"5\",\"6\",\"7\",\"8\",\"9\",\"10\",\"11\"],\"flux\":{\"__ndarray__\":\"AMHG9e/6yj8ARFVMpZ/UP8A1I4PcRdO/wKT4+ITs4T8A9+Y3TDTUPwDo9SfxuaO/gPm7d9SYzj+AUMHhBRHPPwAu4dBbPJw/4PGprSLtwT+A9UyK6gi9Pw==\",\"dtype\":\"float64\",\"shape\":[11]}},\"selected\":{\"id\":\"5fa41552-db8e-407e-a225-deb89f76ac88\",\"type\":\"Selection\"},\"selection_policy\":{\"id\":\"4bdd7141-df57-456e-b353-f0d189024507\",\"type\":\"UnionRenderers\"}},\"id\":\"4bf95537-1f00-492a-86e8-5b0a872c86ff\",\"type\":\"ColumnDataSource\"},{\"attributes\":{},\"id\":\"fef82748-81f4-4de0-85e3-cef0f75ea486\",\"type\":\"BasicTicker\"},{\"attributes\":{},\"id\":\"36d7b71d-a730-4355-9ab6-17a53dc34a39\",\"type\":\"CategoricalTicker\"},{\"attributes\":{},\"id\":\"8397f6c0-efb9-4d20-911b-3be8b27768a3\",\"type\":\"PanTool\"},{\"attributes\":{\"data_source\":{\"id\":\"4f2fab72-e61b-42e0-a4b2-ed379bb198c0\",\"type\":\"ColumnDataSource\"},\"glyph\":{\"id\":\"423403a9-5f6f-4ed5-b023-72e5932cb399\",\"type\":\"VBar\"},\"hover_glyph\":null,\"muted_glyph\":null,\"nonselection_glyph\":{\"id\":\"01783ba9-6a96-412b-aee8-bbb357f5dacb\",\"type\":\"VBar\"},\"selection_glyph\":null,\"view\":{\"id\":\"ca1e071b-acdd-4d0e-886d-d38e981528b7\",\"type\":\"CDSView\"}},\"id\":\"e3defee1-ce3e-455f-8dbe-830c6455835e\",\"type\":\"GlyphRenderer\"},{\"attributes\":{\"overlay\":{\"id\":\"8d77096e-3525-47d3-8e70-cc9bd74c927f\",\"type\":\"BoxAnnotation\"}},\"id\":\"6963ed4f-33cc-4a0b-883d-0b8932ddc486\",\"type\":\"BoxZoomTool\"},{\"attributes\":{\"fill_color\":{\"value\":\"#1f77b4\"},\"line_color\":{\"value\":\"#1f77b4\"},\"top\":{\"field\":\"flux\"},\"width\":{\"value\":0.9},\"x\":{\"field\":\"band\"}},\"id\":\"b05199c4-ebb2-46fc-9acb-d60f639edfc9\",\"type\":\"VBar\"}],\"root_ids\":[\"3119d645-18ff-406b-af56-43c94064ac8d\"]},\"title\":\"Bokeh Application\",\"version\":\"0.12.16\"}};\n",
       "  var render_items = [{\"docid\":\"ebcc14d5-3a93-4c2f-97fe-10a53ad070d9\",\"elementid\":\"886f6fe2-e91a-4327-9281-32ffa2bfc559\",\"modelid\":\"3119d645-18ff-406b-af56-43c94064ac8d\"}];\n",
       "  root.Bokeh.embed.embed_items_notebook(docs_json, render_items);\n",
       "\n",
       "  }\n",
       "  if (root.Bokeh !== undefined) {\n",
       "    embed_document(root);\n",
       "  } else {\n",
       "    var attempts = 0;\n",
       "    var timer = setInterval(function(root) {\n",
       "      if (root.Bokeh !== undefined) {\n",
       "        embed_document(root);\n",
       "        clearInterval(timer);\n",
       "      }\n",
       "      attempts++;\n",
       "      if (attempts > 100) {\n",
       "        console.log(\"Bokeh: ERROR: Unable to run BokehJS code because BokehJS library is missing\")\n",
       "        clearInterval(timer);\n",
       "      }\n",
       "    }, 10, root)\n",
       "  }\n",
       "})(window);"
      ],
      "application/vnd.bokehjs_exec.v0+json": ""
     },
     "metadata": {
      "application/vnd.bokehjs_exec.v0+json": {
       "id": "3119d645-18ff-406b-af56-43c94064ac8d"
      }
     },
     "output_type": "display_data"
    },
    {
     "data": {
      "text/markdown": [
       "*FIGURE.* Difference between CLIRAD and CRD in TOA, SFC and net atmosphere flux, in each spectral band."
      ],
      "text/plain": [
       "<IPython.core.display.Markdown object>"
      ]
     },
     "metadata": {},
     "output_type": "display_data"
    },
    {
     "data": {
      "text/html": [
       "<div>\n",
       "<style scoped>\n",
       "    .dataframe tbody tr th:only-of-type {\n",
       "        vertical-align: middle;\n",
       "    }\n",
       "\n",
       "    .dataframe tbody tr th {\n",
       "        vertical-align: top;\n",
       "    }\n",
       "\n",
       "    .dataframe thead th {\n",
       "        text-align: right;\n",
       "    }\n",
       "</style>\n",
       "<table border=\"1\" class=\"dataframe\">\n",
       "  <thead>\n",
       "    <tr style=\"text-align: right;\">\n",
       "      <th></th>\n",
       "      <th>OLR flux</th>\n",
       "      <th>SFC flux</th>\n",
       "      <th>ATM heating</th>\n",
       "    </tr>\n",
       "    <tr>\n",
       "      <th>Sum over bands</th>\n",
       "      <th></th>\n",
       "      <th></th>\n",
       "      <th></th>\n",
       "    </tr>\n",
       "  </thead>\n",
       "  <tbody>\n",
       "    <tr>\n",
       "      <th>CLIRAD (single-run) - CRD</th>\n",
       "      <td>1.83</td>\n",
       "      <td>1.87</td>\n",
       "      <td>-0.03</td>\n",
       "    </tr>\n",
       "    <tr>\n",
       "      <th>CRD</th>\n",
       "      <td>-303.40</td>\n",
       "      <td>337.24</td>\n",
       "      <td>-181.37</td>\n",
       "    </tr>\n",
       "  </tbody>\n",
       "</table>\n",
       "</div>"
      ],
      "text/plain": [
       "                           OLR flux  SFC flux  ATM heating\n",
       "Sum over bands                                            \n",
       "CLIRAD (single-run) - CRD      1.83      1.87        -0.03\n",
       "CRD                         -303.40    337.24      -181.37"
      ]
     },
     "metadata": {},
     "output_type": "display_data"
    },
    {
     "data": {
      "text/markdown": [
       "*TABLE.* Difference between CLIRAD and CRD in TOA, SFC and net atmosphere flux, over all spectral bands. CRD's TOA, SFC and net atmosphere flux, over all spectral bands."
      ],
      "text/plain": [
       "<IPython.core.display.Markdown object>"
      ]
     },
     "metadata": {},
     "output_type": "display_data"
    }
   ],
   "source": [
    "def show_html(s):\n",
    "    display.display(display.HTML(s))\n",
    "\n",
    "    \n",
    "def show_markdown(s):\n",
    "    display.display(display.Markdown(s))\n",
    "\n",
    "\n",
    "def script():\n",
    "    \n",
    "    d_atm = {'mls': 'mid-latitude summer',\n",
    "             'saw': 'sub-arctic winter',\n",
    "             'trp': 'tropical'}\n",
    "    \n",
    "    title = ('## Results over entire range of molecules'\n",
    "             ' and spectral bands')\n",
    "    \n",
    "    s_makeup = 'Makeup of atmosphere.'\n",
    "    s_atmpro = '# {}'\n",
    "    s_cool = 'Cooling rates. {}.'\n",
    "    s_flux = 'Fluxes. {}.'\n",
    "    \n",
    "    atmpros = ['mls', 'saw', 'trp']\n",
    "    \n",
    "    # TOC\n",
    "    show_markdown(title)\n",
    "    show_markdown('### Table of Contents')\n",
    "    show_html(climahtml.getHTML_hrefanchor(s_makeup))\n",
    "    for atmpro in atmpros:\n",
    "        show_markdown('**' + d_atm[atmpro] + '**')\n",
    "        show_html(climahtml.getHTML_hrefanchor(s_cool.format(atmpro)))\n",
    "        show_html(climahtml.getHTML_hrefanchor(s_flux.format(atmpro)))\n",
    "\n",
    "        \n",
    "    # Atmosphere makeup\n",
    "    show_html(climahtml.getHTML_idanchor(s_makeup))\n",
    "    show_markdown(climahtml.getMarkdown_sectitle(s_makeup))\n",
    "    show_makeup()\n",
    "        \n",
    "    for atmpro in atmpros:\n",
    "        show_html(climahtml.getHTML_idanchor(s_cool.format(atmpro)))\n",
    "        show_markdown(\n",
    "            climahtml.getMarkdown_sectitle(s_cool.format(atmpro)))\n",
    "        show_cool(atmpro=atmpro)\n",
    "        show_html(climahtml.getHTML_idanchor(s_flux.format(atmpro)))\n",
    "        show_markdown(\n",
    "            climahtml.getMarkdown_sectitle(s_flux.format(atmpro)))\n",
    "        show_hist_flux(atmpro=atmpro)\n",
    "        show_tb_flux(atmpro=atmpro)\n",
    "    \n",
    "    \n",
    "script()  "
   ]
  },
  {
   "cell_type": "code",
   "execution_count": null,
   "metadata": {
    "collapsed": true
   },
   "outputs": [],
   "source": []
  },
  {
   "cell_type": "code",
   "execution_count": 14,
   "metadata": {},
   "outputs": [
    {
     "data": {
      "text/html": [
       "<script>\n",
       "code_show=true; \n",
       "function code_toggle() {\n",
       " if (code_show){\n",
       " $('div.input').hide();\n",
       " } else {\n",
       " $('div.input').show();\n",
       " }\n",
       " code_show = !code_show\n",
       "} \n",
       "$( document ).ready(code_toggle);\n",
       "</script>\n",
       "<form action=\"javascript:code_toggle()\"><input type=\"submit\" value=\"Click here to toggle on/off the raw code.\"></form>"
      ],
      "text/plain": [
       "<IPython.core.display.HTML object>"
      ]
     },
     "execution_count": 14,
     "metadata": {},
     "output_type": "execute_result"
    }
   ],
   "source": [
    "display.HTML('''<script>\n",
    "code_show=true; \n",
    "function code_toggle() {\n",
    " if (code_show){\n",
    " $('div.input').hide();\n",
    " } else {\n",
    " $('div.input').show();\n",
    " }\n",
    " code_show = !code_show\n",
    "} \n",
    "$( document ).ready(code_toggle);\n",
    "</script>\n",
    "<form action=\"javascript:code_toggle()\"><input type=\"submit\" value=\"Click here to toggle on/off the raw code.\"></form>''')"
   ]
  },
  {
   "cell_type": "code",
   "execution_count": null,
   "metadata": {
    "collapsed": true
   },
   "outputs": [],
   "source": []
  }
 ],
 "metadata": {
  "kernelspec": {
   "display_name": "Python 3",
   "language": "python",
   "name": "python3"
  },
  "language_info": {
   "codemirror_mode": {
    "name": "ipython",
    "version": 3
   },
   "file_extension": ".py",
   "mimetype": "text/x-python",
   "name": "python",
   "nbconvert_exporter": "python",
   "pygments_lexer": "ipython3",
   "version": "3.6.1"
  }
 },
 "nbformat": 4,
 "nbformat_minor": 2
}
