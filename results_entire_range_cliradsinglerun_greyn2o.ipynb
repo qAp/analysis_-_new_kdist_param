{
 "cells": [
  {
   "cell_type": "code",
   "execution_count": 1,
   "metadata": {
    "collapsed": true
   },
   "outputs": [],
   "source": [
    "import os\n",
    "import ast\n",
    "import json\n",
    "import importlib \n",
    "import itertools\n",
    "import collections\n",
    "import pprint\n",
    "\n",
    "from bokeh.io import output_notebook, show\n",
    "from bokeh.layouts import gridplot\n",
    "from bokeh.plotting import figure\n",
    "from bokeh.models import Range1d, Legend, ColumnDataSource, FactorRange\n",
    "from bokeh.palettes import all_palettes\n",
    "from bokeh.transform import factor_cmap\n",
    "\n",
    "import matplotlib\n",
    "import matplotlib.pyplot as plt\n",
    "import numpy as np\n",
    "import pandas as pd\n",
    "import xarray as xr\n",
    "\n",
    "\n",
    "import climatools.lblnew.bestfit_params as bestfits\n",
    "from climatools.lblnew import setup_bestfit, setup_overlap\n",
    "import climatools.lblnew.pipeline as pipe_lblnew\n",
    "import climatools.cliradlw.setup as setup_cliradlw\n",
    "import climatools.cliradlw.pipeline as pipe_cliradlw\n",
    "\n",
    "import climatools.html.html as climahtml\n",
    "from climatools.lblnew.dataio import *\n",
    "from climatools.plot.plot import *\n",
    "\n",
    "\n",
    "from IPython import display\n",
    "\n",
    "#importlib.reload(bestfits)\n",
    "#importlib.reload(setup_bestfit)\n",
    "#importlib.reload(setup_overlap)\n",
    "#importlib.reload(pipe_lblnew)\n",
    "#importlib.reload(setup_cliradlw)\n",
    "#importlib.reload(pipe_cliradlw)"
   ]
  },
  {
   "cell_type": "code",
   "execution_count": 2,
   "metadata": {
    "scrolled": true
   },
   "outputs": [
    {
     "data": {
      "text/html": [
       "\n",
       "    <div class=\"bk-root\">\n",
       "        <a href=\"https://bokeh.pydata.org\" target=\"_blank\" class=\"bk-logo bk-logo-small bk-logo-notebook\"></a>\n",
       "        <span id=\"e0dc903e-c240-479d-b544-b6ef7b0cf700\">Loading BokehJS ...</span>\n",
       "    </div>"
      ]
     },
     "metadata": {},
     "output_type": "display_data"
    },
    {
     "data": {
      "application/javascript": [
       "\n",
       "(function(root) {\n",
       "  function now() {\n",
       "    return new Date();\n",
       "  }\n",
       "\n",
       "  var force = true;\n",
       "\n",
       "  if (typeof (root._bokeh_onload_callbacks) === \"undefined\" || force === true) {\n",
       "    root._bokeh_onload_callbacks = [];\n",
       "    root._bokeh_is_loading = undefined;\n",
       "  }\n",
       "\n",
       "  var JS_MIME_TYPE = 'application/javascript';\n",
       "  var HTML_MIME_TYPE = 'text/html';\n",
       "  var EXEC_MIME_TYPE = 'application/vnd.bokehjs_exec.v0+json';\n",
       "  var CLASS_NAME = 'output_bokeh rendered_html';\n",
       "\n",
       "  /**\n",
       "   * Render data to the DOM node\n",
       "   */\n",
       "  function render(props, node) {\n",
       "    var script = document.createElement(\"script\");\n",
       "    node.appendChild(script);\n",
       "  }\n",
       "\n",
       "  /**\n",
       "   * Handle when an output is cleared or removed\n",
       "   */\n",
       "  function handleClearOutput(event, handle) {\n",
       "    var cell = handle.cell;\n",
       "\n",
       "    var id = cell.output_area._bokeh_element_id;\n",
       "    var server_id = cell.output_area._bokeh_server_id;\n",
       "    // Clean up Bokeh references\n",
       "    if (id !== undefined) {\n",
       "      Bokeh.index[id].model.document.clear();\n",
       "      delete Bokeh.index[id];\n",
       "    }\n",
       "\n",
       "    if (server_id !== undefined) {\n",
       "      // Clean up Bokeh references\n",
       "      var cmd = \"from bokeh.io.state import curstate; print(curstate().uuid_to_server['\" + server_id + \"'].get_sessions()[0].document.roots[0]._id)\";\n",
       "      cell.notebook.kernel.execute(cmd, {\n",
       "        iopub: {\n",
       "          output: function(msg) {\n",
       "            var element_id = msg.content.text.trim();\n",
       "            Bokeh.index[element_id].model.document.clear();\n",
       "            delete Bokeh.index[element_id];\n",
       "          }\n",
       "        }\n",
       "      });\n",
       "      // Destroy server and session\n",
       "      var cmd = \"import bokeh.io.notebook as ion; ion.destroy_server('\" + server_id + \"')\";\n",
       "      cell.notebook.kernel.execute(cmd);\n",
       "    }\n",
       "  }\n",
       "\n",
       "  /**\n",
       "   * Handle when a new output is added\n",
       "   */\n",
       "  function handleAddOutput(event, handle) {\n",
       "    var output_area = handle.output_area;\n",
       "    var output = handle.output;\n",
       "\n",
       "    // limit handleAddOutput to display_data with EXEC_MIME_TYPE content only\n",
       "    if ((output.output_type != \"display_data\") || (!output.data.hasOwnProperty(EXEC_MIME_TYPE))) {\n",
       "      return\n",
       "    }\n",
       "\n",
       "    var toinsert = output_area.element.find(\".\" + CLASS_NAME.split(' ')[0]);\n",
       "\n",
       "    if (output.metadata[EXEC_MIME_TYPE][\"id\"] !== undefined) {\n",
       "      toinsert[toinsert.length - 1].firstChild.textContent = output.data[JS_MIME_TYPE];\n",
       "      // store reference to embed id on output_area\n",
       "      output_area._bokeh_element_id = output.metadata[EXEC_MIME_TYPE][\"id\"];\n",
       "    }\n",
       "    if (output.metadata[EXEC_MIME_TYPE][\"server_id\"] !== undefined) {\n",
       "      var bk_div = document.createElement(\"div\");\n",
       "      bk_div.innerHTML = output.data[HTML_MIME_TYPE];\n",
       "      var script_attrs = bk_div.children[0].attributes;\n",
       "      for (var i = 0; i < script_attrs.length; i++) {\n",
       "        toinsert[toinsert.length - 1].firstChild.setAttribute(script_attrs[i].name, script_attrs[i].value);\n",
       "      }\n",
       "      // store reference to server id on output_area\n",
       "      output_area._bokeh_server_id = output.metadata[EXEC_MIME_TYPE][\"server_id\"];\n",
       "    }\n",
       "  }\n",
       "\n",
       "  function register_renderer(events, OutputArea) {\n",
       "\n",
       "    function append_mime(data, metadata, element) {\n",
       "      // create a DOM node to render to\n",
       "      var toinsert = this.create_output_subarea(\n",
       "        metadata,\n",
       "        CLASS_NAME,\n",
       "        EXEC_MIME_TYPE\n",
       "      );\n",
       "      this.keyboard_manager.register_events(toinsert);\n",
       "      // Render to node\n",
       "      var props = {data: data, metadata: metadata[EXEC_MIME_TYPE]};\n",
       "      render(props, toinsert[toinsert.length - 1]);\n",
       "      element.append(toinsert);\n",
       "      return toinsert\n",
       "    }\n",
       "\n",
       "    /* Handle when an output is cleared or removed */\n",
       "    events.on('clear_output.CodeCell', handleClearOutput);\n",
       "    events.on('delete.Cell', handleClearOutput);\n",
       "\n",
       "    /* Handle when a new output is added */\n",
       "    events.on('output_added.OutputArea', handleAddOutput);\n",
       "\n",
       "    /**\n",
       "     * Register the mime type and append_mime function with output_area\n",
       "     */\n",
       "    OutputArea.prototype.register_mime_type(EXEC_MIME_TYPE, append_mime, {\n",
       "      /* Is output safe? */\n",
       "      safe: true,\n",
       "      /* Index of renderer in `output_area.display_order` */\n",
       "      index: 0\n",
       "    });\n",
       "  }\n",
       "\n",
       "  // register the mime type if in Jupyter Notebook environment and previously unregistered\n",
       "  if (root.Jupyter !== undefined) {\n",
       "    var events = require('base/js/events');\n",
       "    var OutputArea = require('notebook/js/outputarea').OutputArea;\n",
       "\n",
       "    if (OutputArea.prototype.mime_types().indexOf(EXEC_MIME_TYPE) == -1) {\n",
       "      register_renderer(events, OutputArea);\n",
       "    }\n",
       "  }\n",
       "\n",
       "  \n",
       "  if (typeof (root._bokeh_timeout) === \"undefined\" || force === true) {\n",
       "    root._bokeh_timeout = Date.now() + 5000;\n",
       "    root._bokeh_failed_load = false;\n",
       "  }\n",
       "\n",
       "  var NB_LOAD_WARNING = {'data': {'text/html':\n",
       "     \"<div style='background-color: #fdd'>\\n\"+\n",
       "     \"<p>\\n\"+\n",
       "     \"BokehJS does not appear to have successfully loaded. If loading BokehJS from CDN, this \\n\"+\n",
       "     \"may be due to a slow or bad network connection. Possible fixes:\\n\"+\n",
       "     \"</p>\\n\"+\n",
       "     \"<ul>\\n\"+\n",
       "     \"<li>re-rerun `output_notebook()` to attempt to load from CDN again, or</li>\\n\"+\n",
       "     \"<li>use INLINE resources instead, as so:</li>\\n\"+\n",
       "     \"</ul>\\n\"+\n",
       "     \"<code>\\n\"+\n",
       "     \"from bokeh.resources import INLINE\\n\"+\n",
       "     \"output_notebook(resources=INLINE)\\n\"+\n",
       "     \"</code>\\n\"+\n",
       "     \"</div>\"}};\n",
       "\n",
       "  function display_loaded() {\n",
       "    var el = document.getElementById(\"e0dc903e-c240-479d-b544-b6ef7b0cf700\");\n",
       "    if (el != null) {\n",
       "      el.textContent = \"BokehJS is loading...\";\n",
       "    }\n",
       "    if (root.Bokeh !== undefined) {\n",
       "      if (el != null) {\n",
       "        el.textContent = \"BokehJS \" + root.Bokeh.version + \" successfully loaded.\";\n",
       "      }\n",
       "    } else if (Date.now() < root._bokeh_timeout) {\n",
       "      setTimeout(display_loaded, 100)\n",
       "    }\n",
       "  }\n",
       "\n",
       "\n",
       "  function run_callbacks() {\n",
       "    try {\n",
       "      root._bokeh_onload_callbacks.forEach(function(callback) { callback() });\n",
       "    }\n",
       "    finally {\n",
       "      delete root._bokeh_onload_callbacks\n",
       "    }\n",
       "    console.info(\"Bokeh: all callbacks have finished\");\n",
       "  }\n",
       "\n",
       "  function load_libs(js_urls, callback) {\n",
       "    root._bokeh_onload_callbacks.push(callback);\n",
       "    if (root._bokeh_is_loading > 0) {\n",
       "      console.log(\"Bokeh: BokehJS is being loaded, scheduling callback at\", now());\n",
       "      return null;\n",
       "    }\n",
       "    if (js_urls == null || js_urls.length === 0) {\n",
       "      run_callbacks();\n",
       "      return null;\n",
       "    }\n",
       "    console.log(\"Bokeh: BokehJS not loaded, scheduling load and callback at\", now());\n",
       "    root._bokeh_is_loading = js_urls.length;\n",
       "    for (var i = 0; i < js_urls.length; i++) {\n",
       "      var url = js_urls[i];\n",
       "      var s = document.createElement('script');\n",
       "      s.src = url;\n",
       "      s.async = false;\n",
       "      s.onreadystatechange = s.onload = function() {\n",
       "        root._bokeh_is_loading--;\n",
       "        if (root._bokeh_is_loading === 0) {\n",
       "          console.log(\"Bokeh: all BokehJS libraries loaded\");\n",
       "          run_callbacks()\n",
       "        }\n",
       "      };\n",
       "      s.onerror = function() {\n",
       "        console.warn(\"failed to load library \" + url);\n",
       "      };\n",
       "      console.log(\"Bokeh: injecting script tag for BokehJS library: \", url);\n",
       "      document.getElementsByTagName(\"head\")[0].appendChild(s);\n",
       "    }\n",
       "  };var element = document.getElementById(\"e0dc903e-c240-479d-b544-b6ef7b0cf700\");\n",
       "  if (element == null) {\n",
       "    console.log(\"Bokeh: ERROR: autoload.js configured with elementid 'e0dc903e-c240-479d-b544-b6ef7b0cf700' but no matching script tag was found. \")\n",
       "    return false;\n",
       "  }\n",
       "\n",
       "  var js_urls = [\"https://cdn.pydata.org/bokeh/release/bokeh-0.12.16.min.js\", \"https://cdn.pydata.org/bokeh/release/bokeh-widgets-0.12.16.min.js\", \"https://cdn.pydata.org/bokeh/release/bokeh-tables-0.12.16.min.js\", \"https://cdn.pydata.org/bokeh/release/bokeh-gl-0.12.16.min.js\"];\n",
       "\n",
       "  var inline_js = [\n",
       "    function(Bokeh) {\n",
       "      Bokeh.set_log_level(\"info\");\n",
       "    },\n",
       "    \n",
       "    function(Bokeh) {\n",
       "      \n",
       "    },\n",
       "    function(Bokeh) {\n",
       "      console.log(\"Bokeh: injecting CSS: https://cdn.pydata.org/bokeh/release/bokeh-0.12.16.min.css\");\n",
       "      Bokeh.embed.inject_css(\"https://cdn.pydata.org/bokeh/release/bokeh-0.12.16.min.css\");\n",
       "      console.log(\"Bokeh: injecting CSS: https://cdn.pydata.org/bokeh/release/bokeh-widgets-0.12.16.min.css\");\n",
       "      Bokeh.embed.inject_css(\"https://cdn.pydata.org/bokeh/release/bokeh-widgets-0.12.16.min.css\");\n",
       "      console.log(\"Bokeh: injecting CSS: https://cdn.pydata.org/bokeh/release/bokeh-tables-0.12.16.min.css\");\n",
       "      Bokeh.embed.inject_css(\"https://cdn.pydata.org/bokeh/release/bokeh-tables-0.12.16.min.css\");\n",
       "    }\n",
       "  ];\n",
       "\n",
       "  function run_inline_js() {\n",
       "    \n",
       "    if ((root.Bokeh !== undefined) || (force === true)) {\n",
       "      for (var i = 0; i < inline_js.length; i++) {\n",
       "        inline_js[i].call(root, root.Bokeh);\n",
       "      }if (force === true) {\n",
       "        display_loaded();\n",
       "      }} else if (Date.now() < root._bokeh_timeout) {\n",
       "      setTimeout(run_inline_js, 100);\n",
       "    } else if (!root._bokeh_failed_load) {\n",
       "      console.log(\"Bokeh: BokehJS failed to load within specified timeout.\");\n",
       "      root._bokeh_failed_load = true;\n",
       "    } else if (force !== true) {\n",
       "      var cell = $(document.getElementById(\"e0dc903e-c240-479d-b544-b6ef7b0cf700\")).parents('.cell').data().cell;\n",
       "      cell.output_area.append_execute_result(NB_LOAD_WARNING)\n",
       "    }\n",
       "\n",
       "  }\n",
       "\n",
       "  if (root._bokeh_is_loading === 0) {\n",
       "    console.log(\"Bokeh: BokehJS loaded, going straight to plotting\");\n",
       "    run_inline_js();\n",
       "  } else {\n",
       "    load_libs(js_urls, function() {\n",
       "      console.log(\"Bokeh: BokehJS plotting callback run at\", now());\n",
       "      run_inline_js();\n",
       "    });\n",
       "  }\n",
       "}(window));"
      ],
      "application/vnd.bokehjs_load.v0+json": "\n(function(root) {\n  function now() {\n    return new Date();\n  }\n\n  var force = true;\n\n  if (typeof (root._bokeh_onload_callbacks) === \"undefined\" || force === true) {\n    root._bokeh_onload_callbacks = [];\n    root._bokeh_is_loading = undefined;\n  }\n\n  \n\n  \n  if (typeof (root._bokeh_timeout) === \"undefined\" || force === true) {\n    root._bokeh_timeout = Date.now() + 5000;\n    root._bokeh_failed_load = false;\n  }\n\n  var NB_LOAD_WARNING = {'data': {'text/html':\n     \"<div style='background-color: #fdd'>\\n\"+\n     \"<p>\\n\"+\n     \"BokehJS does not appear to have successfully loaded. If loading BokehJS from CDN, this \\n\"+\n     \"may be due to a slow or bad network connection. Possible fixes:\\n\"+\n     \"</p>\\n\"+\n     \"<ul>\\n\"+\n     \"<li>re-rerun `output_notebook()` to attempt to load from CDN again, or</li>\\n\"+\n     \"<li>use INLINE resources instead, as so:</li>\\n\"+\n     \"</ul>\\n\"+\n     \"<code>\\n\"+\n     \"from bokeh.resources import INLINE\\n\"+\n     \"output_notebook(resources=INLINE)\\n\"+\n     \"</code>\\n\"+\n     \"</div>\"}};\n\n  function display_loaded() {\n    var el = document.getElementById(\"e0dc903e-c240-479d-b544-b6ef7b0cf700\");\n    if (el != null) {\n      el.textContent = \"BokehJS is loading...\";\n    }\n    if (root.Bokeh !== undefined) {\n      if (el != null) {\n        el.textContent = \"BokehJS \" + root.Bokeh.version + \" successfully loaded.\";\n      }\n    } else if (Date.now() < root._bokeh_timeout) {\n      setTimeout(display_loaded, 100)\n    }\n  }\n\n\n  function run_callbacks() {\n    try {\n      root._bokeh_onload_callbacks.forEach(function(callback) { callback() });\n    }\n    finally {\n      delete root._bokeh_onload_callbacks\n    }\n    console.info(\"Bokeh: all callbacks have finished\");\n  }\n\n  function load_libs(js_urls, callback) {\n    root._bokeh_onload_callbacks.push(callback);\n    if (root._bokeh_is_loading > 0) {\n      console.log(\"Bokeh: BokehJS is being loaded, scheduling callback at\", now());\n      return null;\n    }\n    if (js_urls == null || js_urls.length === 0) {\n      run_callbacks();\n      return null;\n    }\n    console.log(\"Bokeh: BokehJS not loaded, scheduling load and callback at\", now());\n    root._bokeh_is_loading = js_urls.length;\n    for (var i = 0; i < js_urls.length; i++) {\n      var url = js_urls[i];\n      var s = document.createElement('script');\n      s.src = url;\n      s.async = false;\n      s.onreadystatechange = s.onload = function() {\n        root._bokeh_is_loading--;\n        if (root._bokeh_is_loading === 0) {\n          console.log(\"Bokeh: all BokehJS libraries loaded\");\n          run_callbacks()\n        }\n      };\n      s.onerror = function() {\n        console.warn(\"failed to load library \" + url);\n      };\n      console.log(\"Bokeh: injecting script tag for BokehJS library: \", url);\n      document.getElementsByTagName(\"head\")[0].appendChild(s);\n    }\n  };var element = document.getElementById(\"e0dc903e-c240-479d-b544-b6ef7b0cf700\");\n  if (element == null) {\n    console.log(\"Bokeh: ERROR: autoload.js configured with elementid 'e0dc903e-c240-479d-b544-b6ef7b0cf700' but no matching script tag was found. \")\n    return false;\n  }\n\n  var js_urls = [\"https://cdn.pydata.org/bokeh/release/bokeh-0.12.16.min.js\", \"https://cdn.pydata.org/bokeh/release/bokeh-widgets-0.12.16.min.js\", \"https://cdn.pydata.org/bokeh/release/bokeh-tables-0.12.16.min.js\", \"https://cdn.pydata.org/bokeh/release/bokeh-gl-0.12.16.min.js\"];\n\n  var inline_js = [\n    function(Bokeh) {\n      Bokeh.set_log_level(\"info\");\n    },\n    \n    function(Bokeh) {\n      \n    },\n    function(Bokeh) {\n      console.log(\"Bokeh: injecting CSS: https://cdn.pydata.org/bokeh/release/bokeh-0.12.16.min.css\");\n      Bokeh.embed.inject_css(\"https://cdn.pydata.org/bokeh/release/bokeh-0.12.16.min.css\");\n      console.log(\"Bokeh: injecting CSS: https://cdn.pydata.org/bokeh/release/bokeh-widgets-0.12.16.min.css\");\n      Bokeh.embed.inject_css(\"https://cdn.pydata.org/bokeh/release/bokeh-widgets-0.12.16.min.css\");\n      console.log(\"Bokeh: injecting CSS: https://cdn.pydata.org/bokeh/release/bokeh-tables-0.12.16.min.css\");\n      Bokeh.embed.inject_css(\"https://cdn.pydata.org/bokeh/release/bokeh-tables-0.12.16.min.css\");\n    }\n  ];\n\n  function run_inline_js() {\n    \n    if ((root.Bokeh !== undefined) || (force === true)) {\n      for (var i = 0; i < inline_js.length; i++) {\n        inline_js[i].call(root, root.Bokeh);\n      }if (force === true) {\n        display_loaded();\n      }} else if (Date.now() < root._bokeh_timeout) {\n      setTimeout(run_inline_js, 100);\n    } else if (!root._bokeh_failed_load) {\n      console.log(\"Bokeh: BokehJS failed to load within specified timeout.\");\n      root._bokeh_failed_load = true;\n    } else if (force !== true) {\n      var cell = $(document.getElementById(\"e0dc903e-c240-479d-b544-b6ef7b0cf700\")).parents('.cell').data().cell;\n      cell.output_area.append_execute_result(NB_LOAD_WARNING)\n    }\n\n  }\n\n  if (root._bokeh_is_loading === 0) {\n    console.log(\"Bokeh: BokehJS loaded, going straight to plotting\");\n    run_inline_js();\n  } else {\n    load_libs(js_urls, function() {\n      console.log(\"Bokeh: BokehJS plotting callback run at\", now());\n      run_inline_js();\n    });\n  }\n}(window));"
     },
     "metadata": {},
     "output_type": "display_data"
    }
   ],
   "source": [
    "output_notebook()"
   ]
  },
  {
   "cell_type": "code",
   "execution_count": 3,
   "metadata": {
    "collapsed": true
   },
   "outputs": [],
   "source": [
    "'''\n",
    "Get the clirad-lw and lblnew `param`s for all spectral bands.  \n",
    "These are returned by functions `clirad_params_atm` and\n",
    "`lblnew_params_atm`, respectively.\n",
    "'''\n",
    "\n",
    "def molecules_byband_atm():\n",
    "    return {1: {'h2o': 'atmpro'},\n",
    "            2: {'h2o': 'atmpro'}, \n",
    "            3: {'co2': 0.0004, 'h2o': 'atmpro', 'n2o': 3.2e-07},\n",
    "            4: {'co2': 0.0004, 'h2o': 'atmpro'},\n",
    "            5: {'co2': 0.0004, 'h2o': 'atmpro'},\n",
    "            6: {'co2': 0.0004, 'h2o': 'atmpro'},\n",
    "            7: {'co2': 0.0004, 'h2o': 'atmpro', 'o3': 'atmpro'},\n",
    "            8: {'h2o': 'atmpro'},\n",
    "            9: {'ch4': 1.8e-06, 'h2o': 'atmpro', 'n2o': 3.2e-07},\n",
    "            10: {'h2o': 'atmpro'},\n",
    "            11: {'co2': 0.0004, 'h2o': 'atmpro'}}\n",
    "\n",
    "\n",
    "def greyabsorbers_by_band_atm():\n",
    "    return {1: {'con': 'atmpro'},\n",
    "            2: {'con': 'atmpro'},\n",
    "            3: {'con': 'atmpro'},\n",
    "            4: {'con': 'atmpro'},\n",
    "            5: {'con': 'atmpro'},\n",
    "            6: {'con': 'atmpro'}, \n",
    "            7: {'con': 'atmpro'},\n",
    "            8: {'con': 'atmpro', 'n2o': 3.2e-7}, \n",
    "            9: {'con': 'atmpro'}, \n",
    "            10: None,\n",
    "            11: None}\n",
    "\n",
    "\n",
    "def clirad_params_atm(atmpro='mls'):\n",
    "    d = {}\n",
    "    for band, molecule in molecules_byband_atm().items():\n",
    "        for param in setup_cliradlw.test_cases():\n",
    "            if [band] == param['band'] and molecule == param['molecule']:\n",
    "                param['atmpro'] = atmpro\n",
    "                d[band] = param\n",
    "                break                \n",
    "    return d\n",
    "\n",
    "\n",
    "def clirad_params_atm_singlerun(atmpro='mls'):\n",
    "    '''\n",
    "    Returns param of clirad-lw run that is equivalent to the total\n",
    "    of all the runs listed in molecules_byband_atm().  In order\n",
    "    for the output to be compatible with clirad_data_atm(), it will\n",
    "    be a list.\n",
    "    '''\n",
    "    param0 = {'band': [1, 2, 3, 4, 5, 6, 7, 8, 9, 10, 11],\n",
    "              'commitnumber': '4f1ff0e',\n",
    "              'molecule': {'ch4': 1.8e-06,\n",
    "                           'co2': 0.0004,\n",
    "                           'h2o': 'atmpro',\n",
    "                           'n2o': 3.2e-07,\n",
    "                           'o3': 'atmpro'}}\n",
    "    \n",
    "    d_atmpros = {'mls': 294, 'saw': 257, 'trp': 300}\n",
    "    \n",
    "    param = param0.copy()\n",
    "    param['atmpro'] = atmpro\n",
    "    param['tsfc'] = d_atmpros[atmpro]\n",
    "    \n",
    "    d = {}\n",
    "    d['all'] = param\n",
    "    return d\n",
    "\n",
    "\n",
    "def analysis_dirs_atm(atmpro='mls'):\n",
    "    params = clirad_params_atm(atmpro=atmpro)\n",
    "    return {band: pipe_cliradlw.get_analysis_dir(param=param,\n",
    "                                                 setup=setup_cliradlw) \n",
    "            for band, param in params.items()}\n",
    "\n",
    "\n",
    "def lblnew_params_atm(atmpro='mls'):\n",
    "    dirs = analysis_dirs_atm(atmpro=atmpro)\n",
    "    \n",
    "    d = {}\n",
    "    for band, dirname in dirs.items():\n",
    "        with open(os.path.join(dirname, 'param.py'), \n",
    "                  mode='r', encoding='utf-8') as f:\n",
    "            _, l = f.readlines()\n",
    "        \n",
    "        s = l.split('=')[1].strip()\n",
    "        d[band] = ast.literal_eval(s)\n",
    "        \n",
    "    return d\n"
   ]
  },
  {
   "cell_type": "code",
   "execution_count": 4,
   "metadata": {
    "collapsed": true
   },
   "outputs": [],
   "source": [
    "def db_getdir():\n",
    "    atmpro = 'mls'\n",
    "    params = clirad_params_atm_singlerun(atmpro=atmpro)\n",
    "    param = params['all']\n",
    "    \n",
    "    fdir = pipe_cliradlw.get_fortran_dir(param=param, \n",
    "                                         setup=setup_cliradlw)\n",
    "    return fdir\n",
    "\n",
    "\n",
    "def db_ktable():\n",
    "    fdir = db_getdir()    \n",
    "    fpath = os.path.join(fdir, 'ktable.dat')\n",
    "    \n",
    "    df = pd.read_csv(fpath, sep=r'\\s+')\n",
    "    df = df.set_index(['band', 'mid', 'il', 'it', 'g'])\n",
    "    ds = xr.Dataset.from_dataframe(df)\n",
    "    return ds\n",
    "\n",
    "\n",
    "def db_ng_dgs():\n",
    "    fdir = db_getdir()\n",
    "    fpath = os.path.join(fdir, 'ng_dgs.dat')\n",
    "    \n",
    "    df = pd.read_csv(fpath, sep=r'\\s+')\n",
    "    df = df.set_index(['band', 'mid', 'g'])\n",
    "    ds = xr.Dataset.from_dataframe(df)\n",
    "    return ds\n"
   ]
  },
  {
   "cell_type": "code",
   "execution_count": 5,
   "metadata": {
    "collapsed": true
   },
   "outputs": [],
   "source": [
    "def show_makeup():\n",
    "    df = pd.DataFrame()\n",
    "\n",
    "    for band, molecule in molecules_byband_atm().items():\n",
    "        for name, conc in molecule.items():\n",
    "            df.loc[name, band] = str(conc)\n",
    "\n",
    "    df = df.fillna(0)\n",
    "    df.columns.name = 'clirad band'\n",
    "    df.index.name = 'molecule'\n",
    "    \n",
    "    display.display(df)\n",
    "    \n",
    "    display.display(\n",
    "        display.Markdown('*TABLE.* Non-grey absorbers in the atmosphere.'))\n",
    "\n",
    "\n",
    "def show_grey_makeup():\n",
    "    df = pd.DataFrame()\n",
    "    \n",
    "    for band, molecule in greyabsorbers_by_band_atm().items():\n",
    "        if molecule == None:\n",
    "            pass\n",
    "        else:\n",
    "            for name, conc in molecule.items():\n",
    "                df.loc[name, band] = str(conc)\n",
    "                \n",
    "    df = df.fillna(0)\n",
    "    df.columns.name = 'clirad band'\n",
    "    df.index.name = 'absorber'\n",
    "    \n",
    "    display.display(df)\n",
    "    display.display(\n",
    "        display.Markdown('*TABLE.* Grey absorbers in the atmosphere.')\n",
    "    )"
   ]
  },
  {
   "cell_type": "code",
   "execution_count": 6,
   "metadata": {
    "collapsed": true
   },
   "outputs": [],
   "source": [
    "def load_output_file(path_csv):\n",
    "    '''\n",
    "    Load lblnew output .csv file to xarray.Dataset\n",
    "    \n",
    "    Parameters\n",
    "    ----------\n",
    "    path_csv: str\n",
    "              Path to the .csv file to be loaded.\n",
    "    ds: xarray.Dataset\n",
    "        Data in the input file in the form of an xarray.Dataset.\n",
    "    '''\n",
    "    toindex = ['band', 'pressure', 'igg', 'g']    \n",
    "    df = pd.read_csv(path_csv, sep=r'\\s+')\n",
    "    df = df.set_index([i for i in toindex if i in df.columns])\n",
    "    df = df.rename(columns={'sfu': 'flug',\n",
    "                            'sfd': 'fldg',\n",
    "                            'fnet': 'fnetg',\n",
    "                            'coolr': 'coolrg'})\n",
    "    ds = xr.Dataset.from_dataframe(df)\n",
    "\n",
    "    for l in ('level', 'layer'):\n",
    "        if l in ds.data_vars:\n",
    "            if len(ds[l].dims) > 1:\n",
    "                surface = {d: 0 for d in ds.dims if d != 'pressure'}\n",
    "                coord_level = ds[l][surface]\n",
    "                ds.coords[l] = ('pressure', coord_level)\n",
    "            else:\n",
    "                ds.coords[l] = ('pressure', ds[l])\n",
    "    \n",
    "    return ds"
   ]
  },
  {
   "cell_type": "code",
   "execution_count": 7,
   "metadata": {
    "collapsed": true
   },
   "outputs": [],
   "source": [
    "def lblnew_setup(param=None):\n",
    "    if 'ng_refs' in param:\n",
    "        return {'setup': setup_bestfit,\n",
    "                'fname_flux_crd': 'output_flux.dat',\n",
    "                'fname_cool_crd': 'output_coolr.dat',\n",
    "                'fname_flux_wgt': 'output_wfluxg.dat',\n",
    "                'fname_cool_wgt': 'output_wcoolrg.dat'}\n",
    "    else:\n",
    "        return {'setup': setup_overlap,\n",
    "                'fname_flux_crd': 'output_flux.dat',\n",
    "                'fname_cool_crd': 'output_coolr.dat',\n",
    "                'fname_flux_wgt': 'output_wflux.dat',\n",
    "                'fname_cool_wgt': 'output_wcoolr.dat'}\n",
    "\n",
    "    \n",
    "def load_lblnew_data(param):\n",
    "    \n",
    "    fname_dsname = [('fname_flux_crd', 'ds_flux_crd'),\n",
    "                    ('fname_cool_crd', 'ds_cool_crd'),\n",
    "                    ('fname_flux_wgt', 'ds_flux_wgt'),\n",
    "                    ('fname_cool_wgt', 'ds_cool_wgt')]\n",
    "    \n",
    "    d = lblnew_setup(param)\n",
    "    dir_fortran = pipe_lblnew.get_dir_case(param, setup=d['setup'])\n",
    "    \n",
    "    data_dict = {}\n",
    "    for fname, dsname in fname_dsname:\n",
    "        fpath = os.path.join(dir_fortran, d[fname])\n",
    "        data_dict[dsname] = load_output_file(fpath)\n",
    "    return data_dict"
   ]
  },
  {
   "cell_type": "code",
   "execution_count": 8,
   "metadata": {
    "collapsed": true
   },
   "outputs": [],
   "source": [
    "def crd_data_atm(params_atm):\n",
    "    '''\n",
    "    Parameters\n",
    "    ----------\n",
    "    \n",
    "    params_atm: dict\n",
    "                Parameter dictionary for each band.\n",
    "                \n",
    "    d: dict\n",
    "       'flux': xr.Dataset. [pressure, band]\n",
    "               Fluxes.\n",
    "       'cool': xr.Dataset. [pressure, band]\n",
    "               Cooling rate.\n",
    "    \n",
    "    '''\n",
    "    \n",
    "    results_atm = {band: load_lblnew_data(param) \n",
    "                   for band, param in params_atm.items()}\n",
    "    \n",
    "    bands = [band for band, _ in params_atm.items()]\n",
    "    fluxs = [d['ds_flux_crd'] for _, d in results_atm.items()]\n",
    "    cools = [d['ds_cool_crd'] for _, d in results_atm.items()]\n",
    "    \n",
    "    d = {}\n",
    "    d['flux'] = xr.concat(fluxs, dim=bands).rename({'concat_dim': 'band'})\n",
    "    d['cool'] = xr.concat(cools, dim=bands).rename({'concat_dim': 'band'})\n",
    "    return d        \n",
    "        \n",
    "        \n",
    "\n",
    "def clirad_data_atm(params_atm):\n",
    "    \n",
    "    dirnames = [pipe_cliradlw.get_fortran_dir(param,\n",
    "                                              setup=setup_cliradlw)\n",
    "                for _, param in params_atm.items()]\n",
    "    \n",
    "    fpaths_flux = [os.path.join(n, 'output_flux.dat') for n in dirnames]\n",
    "    fpaths_cool = [os.path.join(n, 'output_coolr.dat') for n in dirnames]\n",
    "    \n",
    "    fluxs = [load_output_file(p) for p in fpaths_flux]    \n",
    "    cools = [load_output_file(p) for p in fpaths_cool]\n",
    "    \n",
    "    d = {}\n",
    "    d['flux'] = sum(fluxs)\n",
    "    d['cool'] = sum(cools)\n",
    "    return d\n",
    "\n"
   ]
  },
  {
   "cell_type": "code",
   "execution_count": 9,
   "metadata": {
    "collapsed": true
   },
   "outputs": [],
   "source": [
    "\n",
    "\n",
    "import rtmtools.clirad.sw.wrangle as cliradwrangle\n",
    "\n",
    "import importlib\n",
    "importlib.reload(cliradwrangle)\n",
    "\n",
    "def oldclirad_data_atm():\n",
    "    '''\n",
    "    Load the OLD clirad's results. mls only.\n",
    "    '''\n",
    "    fpath = os.path.join('/chia_cluster/home/jackyu/radiation',\n",
    "                         'clirad-lw',\n",
    "                         'LW',\n",
    "                         'examples',\n",
    "                         'mls75_h2o_atmpro_co2_.0004_o3_atmpro_n2o_3.2e-7_ch4_1.8e-6_H2012',\n",
    "                         'OUTPUT_CLIRAD.dat')\n",
    "    \n",
    "    ds = cliradwrangle.load_OUTPUT_CLIRAD(readfrom=fpath)\n",
    "    \n",
    "    ds_cool = xr.Dataset()\n",
    "    ds_cool.coords['pressure'] = ('pressure', ds['layer_pressure'])\n",
    "    ds_cool.coords['band'] = ('band', ds['spectral_band'])\n",
    "    ds_cool['coolrg'] = (('band', 'pressure'), - ds['heating_rate'])\n",
    "    \n",
    "    ds_flux = xr.Dataset()\n",
    "    ds_flux.coords['pressure'] = ('pressure', ds['level_pressure'])\n",
    "    ds_flux.coords['band'] = ('band', ds['spectral_band'])\n",
    "    ds_flux['flug'] = (('band', 'pressure'), ds['flux_up'])\n",
    "    ds_flux['fldg'] = (('band', 'pressure'), ds['flux_down'])\n",
    "    ds_flux['fnetg'] = (('band', 'pressure'), ds['net_flux'])\n",
    "    \n",
    "    \n",
    "    d = {}\n",
    "    d['cool'] = ds_cool\n",
    "    d['flux'] = ds_flux\n",
    "    return d\n"
   ]
  },
  {
   "cell_type": "code",
   "execution_count": 10,
   "metadata": {
    "collapsed": true
   },
   "outputs": [],
   "source": [
    "def fmt_cool(ds_in):\n",
    "    ds = ds_in.copy(deep=True)\n",
    "    if 'igg' in ds.dims:\n",
    "        ds = ds.sel(igg=1)\n",
    "\n",
    "    if 'g' in ds.dims:\n",
    "        ds = ds.sum('g')\n",
    "            \n",
    "    if 'band' in ds.dims:\n",
    "        try:\n",
    "            ds = ds.squeeze('band')\n",
    "        except ValueError:\n",
    "            ds = ds.sum('band')\n",
    "                \n",
    "    return ds['coolrg']\n",
    "\n",
    "\n",
    "\n",
    "def nice_xlims(pltdata=None, prange=None):\n",
    "    \n",
    "    def get_slice(srs):\n",
    "        return srs.sel(pressure=slice(*prange))\n",
    "    \n",
    "    srss = [d['srs'] for d in pltdata]\n",
    "    vmin = min([get_slice(srs).min() for srs in srss])\n",
    "    vmax = max([get_slice(srs).max() for srs in srss])\n",
    "    dv = (vmax - vmin) * .01\n",
    "    return float(vmin - dv), float(vmax + dv)\n",
    "\n",
    "\n",
    "    \n",
    "def plt_cool_bokeh(pltdata=None, \n",
    "                   y_axis_type='linear', prange=(50, 1050)):\n",
    "    \n",
    "    ymin = 1e-2 \n",
    "    ymax = 1020\n",
    "    \n",
    "    p2 = figure(y_axis_type=y_axis_type, plot_width=300)\n",
    "    xmin, xmax = nice_xlims(pltdata, prange=prange)\n",
    "    \n",
    "    rs = []\n",
    "    for d in pltdata:\n",
    "        rd = []\n",
    "        if 'marker' in d:\n",
    "            r_mark = getattr(p2, d['marker'])(d['srs'].values, \n",
    "                        d['srs'].coords['pressure'].values,\n",
    "                        color=d['color'], alpha=.7)\n",
    "            rd.append(r_mark)\n",
    "        r_line = p2.line(d['srs'].values, \n",
    "                         d['srs'].coords['pressure'].values,\n",
    "                         color=d['color'], alpha=d['alpha'], \n",
    "                         line_width=d['line_width'], \n",
    "                         line_dash=d['line_dash'])\n",
    "        rd.append(r_line)\n",
    "      \n",
    "        rs.append(rd)\n",
    "        \n",
    "    p2.y_range = Range1d(ymax, ymin)  \n",
    "    p2.yaxis.axis_label = 'pressure [mb]'\n",
    "    \n",
    "    p2.x_range = Range1d(xmin, xmax)\n",
    "    p2.xaxis.axis_label = 'cooling rate [K/day]'\n",
    "    \n",
    "    items = [(d['label'], r) for r, d in zip(rs, pltdata)]\n",
    "    legend = Legend(items=items, location=(10, 0))\n",
    "    legend.label_text_font_size = '8pt'\n",
    "    p2.add_layout(legend, 'above')\n",
    "    p2.legend.orientation = 'horizontal'\n",
    "    p2.legend.location = 'top_center'\n",
    "    \n",
    "    return p2"
   ]
  },
  {
   "cell_type": "code",
   "execution_count": 11,
   "metadata": {
    "collapsed": true
   },
   "outputs": [],
   "source": [
    "def pltdata_cool(atmpro='mls'):\n",
    "    \n",
    "    d_clirad_singlerun = clirad_data_atm(\n",
    "        clirad_params_atm_singlerun(atmpro=atmpro))\n",
    "    d_clirad = clirad_data_atm(clirad_params_atm(atmpro=atmpro))\n",
    "    d_crd = crd_data_atm(lblnew_params_atm(atmpro=atmpro))\n",
    "\n",
    "    ds_clirad_singlerun = d_clirad_singlerun['cool']\n",
    "    ds_clirad = d_clirad['cool']\n",
    "    ds_crd = d_crd['cool']\n",
    "\n",
    "    colors = all_palettes['Set1'][4]\n",
    "    \n",
    "    data = [\n",
    "        {'label': 'CLIRAD (single-run)',\n",
    "        'srs': fmt_cool(ds_clirad_singlerun),\n",
    "        'line_dash': 'dashed', 'line_width': 5,\n",
    "        'color': colors[1], 'alpha': .6},\n",
    "        {'label': 'CRD',\n",
    "         'srs': fmt_cool(ds_crd),\n",
    "         'line_dash': 'solid', 'line_width': 1.5,\n",
    "         'marker': 'circle', 'marker_size': 5,\n",
    "         'color': colors[2], 'alpha': 1}\n",
    "    ]\n",
    "#        {'label': 'CLIRAD',\n",
    "#         'srs': fmt_cool(ds_clirad),\n",
    "#         'line_dash': 'dashed', 'line_width': 5,\n",
    "#         'color': colors[0], 'alpha': .6}\n",
    "        \n",
    "\n",
    "    \n",
    "    # include old CLIRAD's results for mls profile\n",
    "    if atmpro == 'mls':\n",
    "        d_oldclirad = oldclirad_data_atm()\n",
    "        ds_oldclirad = d_oldclirad['cool']        \n",
    "        data.append(\n",
    "            {'label': 'old CLIRAD (H2012)',\n",
    "             'srs': fmt_cool(ds_oldclirad),\n",
    "             'line_dash': 'solid', 'line_width': 1.5,\n",
    "             'marker': 'square', 'marker_size': 3,\n",
    "             'color': colors[3], 'alpha': .5})\n",
    "    return data\n",
    "\n",
    "\n",
    "def pltdata_cooldiff(atmpro='mls'):\n",
    "    \n",
    "    d_clirad_singlerun = clirad_data_atm(\n",
    "        clirad_params_atm_singlerun(atmpro=atmpro))\n",
    "    d_clirad = clirad_data_atm(clirad_params_atm(atmpro=atmpro))\n",
    "    d_crd = crd_data_atm(lblnew_params_atm(atmpro=atmpro))\n",
    "    \n",
    "    ds_clirad_singlerun = d_clirad_singlerun['cool']\n",
    "    ds_clirad = d_clirad['cool']\n",
    "    ds_crd = d_crd['cool']\n",
    "    \n",
    "    ds_diff = ds_clirad_singlerun - ds_crd\n",
    "    \n",
    "    colors = all_palettes['Set1'][4]\n",
    "    \n",
    "    data = [\n",
    "        {'label': 'CLIRAD (single-run) - CRD',\n",
    "         'srs': fmt_cool(ds_diff),\n",
    "         'line_dash': 'solid', 'line_width': 1.5, \n",
    "         'marker': 'circle', 'marker_size': 7,\n",
    "         'color': colors[3], 'alpha': .8}\n",
    "    ]\n",
    "    \n",
    "    # include old CLIRAD's results for mls profile\n",
    "    if atmpro == 'mls':\n",
    "        d_oldclirad = oldclirad_data_atm()\n",
    "        ds_oldclirad = d_oldclirad['cool']\n",
    "        ds_oldclirad.coords['pressure'] = ds_crd.coords['pressure']\n",
    "        ds_diff_old = ds_oldclirad.sum('band') - ds_crd.sum('band')\n",
    "        data.append(\n",
    "            {'label': 'old CLIRAD (H2012) - CRD',\n",
    "             'srs': fmt_cool(ds_diff_old),\n",
    "             'line_dash': 'dashed', 'line_width': 4,\n",
    "             'color': colors[1], 'alpha': .5}\n",
    "        )\n",
    "    return data\n",
    "\n",
    "\n",
    "def show_cool(atmpro='mls'):\n",
    "    \n",
    "    data_cool = pltdata_cool(atmpro=atmpro)\n",
    "    p_cool_liny = plt_cool_bokeh(pltdata=data_cool)\n",
    "    p_cool_logy = plt_cool_bokeh(pltdata=data_cool, \n",
    "                                 y_axis_type='log',\n",
    "                                 prange=(.01, 200))\n",
    "    \n",
    "    data_cooldiff = pltdata_cooldiff(atmpro=atmpro)\n",
    "    p_cooldiff_logy = plt_cool_bokeh(pltdata=data_cooldiff,\n",
    "                                     y_axis_type='log',\n",
    "                                     prange=(.01, 200))\n",
    "    \n",
    "    everything = gridplot(p_cool_liny, p_cool_logy, \n",
    "                          p_cooldiff_logy,\n",
    "                          ncols=3)\n",
    "    show(everything)\n",
    "    display.display(\n",
    "        display.Markdown('*FIGURE.* Cooling rates & difference.'))\n",
    "\n",
    "\n",
    "    "
   ]
  },
  {
   "cell_type": "code",
   "execution_count": null,
   "metadata": {
    "collapsed": true
   },
   "outputs": [],
   "source": []
  },
  {
   "cell_type": "code",
   "execution_count": 12,
   "metadata": {
    "collapsed": true,
    "scrolled": false
   },
   "outputs": [],
   "source": [
    "\n",
    "\n",
    "def hist_band_vs_flux(da, title='Title'):\n",
    "       \n",
    "    bands = [str(b.values) for b in da['band']]\n",
    "\n",
    "    source = ColumnDataSource(\n",
    "        data={'band': bands, 'flux': da.values})\n",
    "\n",
    "    p = figure(x_range=bands, title=title)\n",
    "    p.vbar(source=source, x='band', top='flux', width=.9)\n",
    "\n",
    "    p.yaxis.axis_label = 'flux (W m-2)'\n",
    "    p.xaxis.axis_label = 'spectral band'\n",
    "    \n",
    "    return p\n",
    "\n",
    "\n",
    "def show_hist_flux(atmpro='mls'):\n",
    "    ds_crd = crd_data_atm(lblnew_params_atm(atmpro=atmpro))['flux']\n",
    "    ds_clirad = clirad_data_atm(\n",
    "        clirad_params_atm(atmpro=atmpro))['flux']\n",
    "    ds_clirad_singlerun = clirad_data_atm(\n",
    "        clirad_params_atm_singlerun(atmpro=atmpro))['flux']\n",
    "    \n",
    "    ip, varname = 0, 'flug'\n",
    "    da = (ds_clirad_singlerun - ds_crd).isel(pressure=ip)[varname]\n",
    "    p_toa = hist_band_vs_flux(da, \n",
    "        title='TOA flux. CLIRAD (single-run) - CRD.')\n",
    "\n",
    "    ip, varname = -1, 'fldg'\n",
    "    da = (ds_clirad_singlerun - ds_crd).isel(pressure=ip)[varname]\n",
    "    p_sfc = hist_band_vs_flux(da, \n",
    "        title='SFC flux. CLIRAD (single-run) - CRD.')    \n",
    "    \n",
    "    atm_crd = (ds_crd.isel(pressure=0) \n",
    "               - ds_crd.isel(pressure=-1))['fnetg']\n",
    "    atm_clirad_singlerun = (ds_clirad_singlerun.isel(pressure=0) \n",
    "                  - ds_clirad_singlerun.isel(pressure=-1))['fnetg']\n",
    "    da = atm_clirad_singlerun - atm_crd\n",
    "    p_atm = hist_band_vs_flux(da, \n",
    "        title='Atmosphere heating. CLIRAD (single-run) - CRD.')\n",
    "\n",
    "    everything = gridplot(p_toa, p_sfc, p_atm, ncols=3, \n",
    "                          plot_width=300, plot_height=300)\n",
    "    \n",
    "    show(everything)\n",
    "    display.display(\n",
    "        display.Markdown('*FIGURE.* Difference between CLIRAD and CRD'\n",
    "          ' in TOA, SFC and net atmosphere flux,'\n",
    "          ' in each spectral band.'))\n",
    "\n",
    "\n",
    "    \n",
    "def show_tb_flux(atmpro='mls'):\n",
    "    ds_crd = crd_data_atm(lblnew_params_atm(atmpro=atmpro))['flux']\n",
    "    olr_crd = ds_crd['flug'].isel(pressure=0)\n",
    "    sfc_crd = ds_crd['fldg'].isel(pressure=-1)\n",
    "    atm_crd = (ds_crd.isel(pressure=0)\n",
    "               - ds_crd.isel(pressure=-1))['fnetg']\n",
    "    \n",
    "    ds_clirad = clirad_data_atm(\n",
    "        clirad_params_atm(atmpro=atmpro))['flux']\n",
    "    olr_clirad = ds_clirad['flug'].isel(pressure=0)\n",
    "    sfc_clirad = ds_clirad['fldg'].isel(pressure=-1)\n",
    "    atm_clirad = (ds_clirad.isel(pressure=0)\n",
    "                  - ds_clirad.isel(pressure=-1))['fnetg']\n",
    "\n",
    "    ds_clirad_singlerun = clirad_data_atm(\n",
    "        clirad_params_atm_singlerun(atmpro=atmpro))['flux']\n",
    "    olr_clirad_singlerun = ds_clirad_singlerun['flug'].isel(pressure=0)\n",
    "    sfc_clirad_singlerun = ds_clirad_singlerun['fldg'].isel(pressure=-1)\n",
    "    atm_clirad_singlerun = (ds_clirad_singlerun.isel(pressure=0)\n",
    "                  - ds_clirad_singlerun.isel(pressure=-1))['fnetg']\n",
    "    \n",
    "    if atmpro == 'mls':\n",
    "        ds_oldclirad = oldclirad_data_atm()['flux']\n",
    "        ds_oldclirad['pressure'] = ds_crd['pressure']\n",
    "        olr_oldclirad = ds_oldclirad['flug'].isel(pressure=0)\n",
    "        sfc_oldclirad = ds_oldclirad['fldg'].isel(pressure=-1)\n",
    "        atm_oldclirad = (ds_oldclirad.isel(pressure=0)\n",
    "                         - ds_oldclirad.isel(pressure=-1))['fnetg']\n",
    "        \n",
    "    \n",
    "    \n",
    "    df = pd.DataFrame()\n",
    "    df.index.name = 'Sum over bands'\n",
    "    \n",
    "    if atmpro == 'mls':\n",
    "        df.loc['old CLIRAD - CRD', 'OLR flux'] = (olr_oldclirad.sum('band') - olr_crd.sum('band')).values\n",
    "        df.loc['old CLIRAD - CRD', 'SFC flux'] = (sfc_oldclirad.sum('band') - sfc_crd.sum('band')).values\n",
    "        df.loc['old CLIRAD - CRD', 'ATM heating'] = (atm_oldclirad.sum('band') - atm_crd.sum('band')).values\n",
    "    \n",
    "    df.loc['CLIRAD (single-run) - CRD', 'OLR flux'] = (olr_clirad_singlerun - olr_crd).sum('band').values\n",
    "    df.loc['CLIRAD (single-run) - CRD', 'SFC flux'] = (sfc_clirad_singlerun - sfc_crd).sum('band').values\n",
    "    df.loc['CLIRAD (single-run) - CRD', 'ATM heating'] = (atm_clirad_singlerun - atm_crd).sum('band').values\n",
    "\n",
    "    df.loc['CRD', 'OLR flux'] = olr_crd.sum('band').values\n",
    "    df.loc['CRD', 'SFC flux'] = sfc_crd.sum('band').values\n",
    "    df.loc['CRD', 'ATM heating'] = atm_crd.sum('band').values\n",
    "        \n",
    "    df = df.astype('float').round(2)\n",
    "    \n",
    "    display.display(df)\n",
    "    display.display(\n",
    "        display.Markdown('*TABLE.* Difference between CLIRAD and CRD'\n",
    "          ' in TOA, SFC and net atmosphere flux,'\n",
    "          ' over all spectral bands. CRD\\'s'\n",
    "          ' TOA, SFC and net atmosphere flux,'\n",
    "          ' over all spectral bands.'))\n"
   ]
  },
  {
   "cell_type": "code",
   "execution_count": 13,
   "metadata": {
    "scrolled": false
   },
   "outputs": [
    {
     "data": {
      "text/markdown": [
       "## Results over entire range of molecules and spectral bands"
      ],
      "text/plain": [
       "<IPython.core.display.Markdown object>"
      ]
     },
     "metadata": {},
     "output_type": "display_data"
    },
    {
     "data": {
      "text/markdown": [
       "### Table of Contents"
      ],
      "text/plain": [
       "<IPython.core.display.Markdown object>"
      ]
     },
     "metadata": {},
     "output_type": "display_data"
    },
    {
     "data": {
      "text/html": [
       "<a href=\"#Makeup_of_atmosphere.\">Makeup of atmosphere.</a>"
      ],
      "text/plain": [
       "<IPython.core.display.HTML object>"
      ]
     },
     "metadata": {},
     "output_type": "display_data"
    },
    {
     "data": {
      "text/markdown": [
       "**mid-latitude summer**"
      ],
      "text/plain": [
       "<IPython.core.display.Markdown object>"
      ]
     },
     "metadata": {},
     "output_type": "display_data"
    },
    {
     "data": {
      "text/html": [
       "<a href=\"#Cooling_rates._mls.\">Cooling rates. mls.</a>"
      ],
      "text/plain": [
       "<IPython.core.display.HTML object>"
      ]
     },
     "metadata": {},
     "output_type": "display_data"
    },
    {
     "data": {
      "text/html": [
       "<a href=\"#Fluxes._mls.\">Fluxes. mls.</a>"
      ],
      "text/plain": [
       "<IPython.core.display.HTML object>"
      ]
     },
     "metadata": {},
     "output_type": "display_data"
    },
    {
     "data": {
      "text/markdown": [
       "**sub-arctic winter**"
      ],
      "text/plain": [
       "<IPython.core.display.Markdown object>"
      ]
     },
     "metadata": {},
     "output_type": "display_data"
    },
    {
     "data": {
      "text/html": [
       "<a href=\"#Cooling_rates._saw.\">Cooling rates. saw.</a>"
      ],
      "text/plain": [
       "<IPython.core.display.HTML object>"
      ]
     },
     "metadata": {},
     "output_type": "display_data"
    },
    {
     "data": {
      "text/html": [
       "<a href=\"#Fluxes._saw.\">Fluxes. saw.</a>"
      ],
      "text/plain": [
       "<IPython.core.display.HTML object>"
      ]
     },
     "metadata": {},
     "output_type": "display_data"
    },
    {
     "data": {
      "text/markdown": [
       "**tropical**"
      ],
      "text/plain": [
       "<IPython.core.display.Markdown object>"
      ]
     },
     "metadata": {},
     "output_type": "display_data"
    },
    {
     "data": {
      "text/html": [
       "<a href=\"#Cooling_rates._trp.\">Cooling rates. trp.</a>"
      ],
      "text/plain": [
       "<IPython.core.display.HTML object>"
      ]
     },
     "metadata": {},
     "output_type": "display_data"
    },
    {
     "data": {
      "text/html": [
       "<a href=\"#Fluxes._trp.\">Fluxes. trp.</a>"
      ],
      "text/plain": [
       "<IPython.core.display.HTML object>"
      ]
     },
     "metadata": {},
     "output_type": "display_data"
    },
    {
     "data": {
      "text/html": [
       "<a id=\"Makeup_of_atmosphere.\"></a>"
      ],
      "text/plain": [
       "<IPython.core.display.HTML object>"
      ]
     },
     "metadata": {},
     "output_type": "display_data"
    },
    {
     "data": {
      "text/markdown": [
       "# Makeup of atmosphere."
      ],
      "text/plain": [
       "<IPython.core.display.Markdown object>"
      ]
     },
     "metadata": {},
     "output_type": "display_data"
    },
    {
     "data": {
      "text/html": [
       "<div>\n",
       "<style scoped>\n",
       "    .dataframe tbody tr th:only-of-type {\n",
       "        vertical-align: middle;\n",
       "    }\n",
       "\n",
       "    .dataframe tbody tr th {\n",
       "        vertical-align: top;\n",
       "    }\n",
       "\n",
       "    .dataframe thead th {\n",
       "        text-align: right;\n",
       "    }\n",
       "</style>\n",
       "<table border=\"1\" class=\"dataframe\">\n",
       "  <thead>\n",
       "    <tr style=\"text-align: right;\">\n",
       "      <th>clirad band</th>\n",
       "      <th>1</th>\n",
       "      <th>2</th>\n",
       "      <th>3</th>\n",
       "      <th>4</th>\n",
       "      <th>5</th>\n",
       "      <th>6</th>\n",
       "      <th>7</th>\n",
       "      <th>8</th>\n",
       "      <th>9</th>\n",
       "      <th>10</th>\n",
       "      <th>11</th>\n",
       "    </tr>\n",
       "    <tr>\n",
       "      <th>molecule</th>\n",
       "      <th></th>\n",
       "      <th></th>\n",
       "      <th></th>\n",
       "      <th></th>\n",
       "      <th></th>\n",
       "      <th></th>\n",
       "      <th></th>\n",
       "      <th></th>\n",
       "      <th></th>\n",
       "      <th></th>\n",
       "      <th></th>\n",
       "    </tr>\n",
       "  </thead>\n",
       "  <tbody>\n",
       "    <tr>\n",
       "      <th>h2o</th>\n",
       "      <td>atmpro</td>\n",
       "      <td>atmpro</td>\n",
       "      <td>atmpro</td>\n",
       "      <td>atmpro</td>\n",
       "      <td>atmpro</td>\n",
       "      <td>atmpro</td>\n",
       "      <td>atmpro</td>\n",
       "      <td>atmpro</td>\n",
       "      <td>atmpro</td>\n",
       "      <td>atmpro</td>\n",
       "      <td>atmpro</td>\n",
       "    </tr>\n",
       "    <tr>\n",
       "      <th>co2</th>\n",
       "      <td>0</td>\n",
       "      <td>0</td>\n",
       "      <td>0.0004</td>\n",
       "      <td>0.0004</td>\n",
       "      <td>0.0004</td>\n",
       "      <td>0.0004</td>\n",
       "      <td>0.0004</td>\n",
       "      <td>0</td>\n",
       "      <td>0</td>\n",
       "      <td>0</td>\n",
       "      <td>0.0004</td>\n",
       "    </tr>\n",
       "    <tr>\n",
       "      <th>n2o</th>\n",
       "      <td>0</td>\n",
       "      <td>0</td>\n",
       "      <td>3.2e-07</td>\n",
       "      <td>0</td>\n",
       "      <td>0</td>\n",
       "      <td>0</td>\n",
       "      <td>0</td>\n",
       "      <td>0</td>\n",
       "      <td>3.2e-07</td>\n",
       "      <td>0</td>\n",
       "      <td>0</td>\n",
       "    </tr>\n",
       "    <tr>\n",
       "      <th>o3</th>\n",
       "      <td>0</td>\n",
       "      <td>0</td>\n",
       "      <td>0</td>\n",
       "      <td>0</td>\n",
       "      <td>0</td>\n",
       "      <td>0</td>\n",
       "      <td>atmpro</td>\n",
       "      <td>0</td>\n",
       "      <td>0</td>\n",
       "      <td>0</td>\n",
       "      <td>0</td>\n",
       "    </tr>\n",
       "    <tr>\n",
       "      <th>ch4</th>\n",
       "      <td>0</td>\n",
       "      <td>0</td>\n",
       "      <td>0</td>\n",
       "      <td>0</td>\n",
       "      <td>0</td>\n",
       "      <td>0</td>\n",
       "      <td>0</td>\n",
       "      <td>0</td>\n",
       "      <td>1.8e-06</td>\n",
       "      <td>0</td>\n",
       "      <td>0</td>\n",
       "    </tr>\n",
       "  </tbody>\n",
       "</table>\n",
       "</div>"
      ],
      "text/plain": [
       "clirad band      1       2        3       4       5       6       7       8   \\\n",
       "molecule                                                                       \n",
       "h2o          atmpro  atmpro   atmpro  atmpro  atmpro  atmpro  atmpro  atmpro   \n",
       "co2               0       0   0.0004  0.0004  0.0004  0.0004  0.0004       0   \n",
       "n2o               0       0  3.2e-07       0       0       0       0       0   \n",
       "o3                0       0        0       0       0       0  atmpro       0   \n",
       "ch4               0       0        0       0       0       0       0       0   \n",
       "\n",
       "clirad band       9       10      11  \n",
       "molecule                              \n",
       "h2o           atmpro  atmpro  atmpro  \n",
       "co2                0       0  0.0004  \n",
       "n2o          3.2e-07       0       0  \n",
       "o3                 0       0       0  \n",
       "ch4          1.8e-06       0       0  "
      ]
     },
     "metadata": {},
     "output_type": "display_data"
    },
    {
     "data": {
      "text/markdown": [
       "*TABLE.* Non-grey absorbers in the atmosphere."
      ],
      "text/plain": [
       "<IPython.core.display.Markdown object>"
      ]
     },
     "metadata": {},
     "output_type": "display_data"
    },
    {
     "data": {
      "text/html": [
       "<a id=\"Cooling_rates._mls.\"></a>"
      ],
      "text/plain": [
       "<IPython.core.display.HTML object>"
      ]
     },
     "metadata": {},
     "output_type": "display_data"
    },
    {
     "data": {
      "text/markdown": [
       "# Cooling rates. mls."
      ],
      "text/plain": [
       "<IPython.core.display.Markdown object>"
      ]
     },
     "metadata": {},
     "output_type": "display_data"
    },
    {
     "data": {
      "text/html": [
       "\n",
       "<div class=\"bk-root\">\n",
       "    <div class=\"bk-plotdiv\" id=\"966e1ad9-9ef7-4e78-8875-bf162f2bf131\"></div>\n",
       "</div>"
      ]
     },
     "metadata": {},
     "output_type": "display_data"
    },
    {
     "data": {
      "application/javascript": [
       "(function(root) {\n",
       "  function embed_document(root) {\n",
       "    \n",
       "  var docs_json = {\"b419e4cc-81e4-4d04-a23d-c05f9512765a\":{\"roots\":{\"references\":[{\"attributes\":{\"callback\":null,\"end\":0.7045058116694413,\"start\":-1.3893255719681132},\"id\":\"c99f45d9-cc1e-405c-b717-dc43d3508787\",\"type\":\"Range1d\"},{\"attributes\":{\"line_alpha\":0.1,\"line_color\":\"#1f77b4\",\"line_dash\":[6],\"line_width\":4,\"x\":{\"field\":\"x\"},\"y\":{\"field\":\"y\"}},\"id\":\"97da1ffe-27c0-4734-aabd-268dba210b1f\",\"type\":\"Line\"},{\"attributes\":{\"above\":[{\"id\":\"c1991c8b-4249-4dbf-a4a9-1dccb022194d\",\"type\":\"Legend\"}],\"below\":[{\"id\":\"bbdbc9ed-55e4-4085-92c9-d93987cabe3a\",\"type\":\"LinearAxis\"}],\"left\":[{\"id\":\"4e664ab2-7e81-4928-a55d-dbbcce956801\",\"type\":\"LinearAxis\"}],\"plot_width\":300,\"renderers\":[{\"id\":\"bbdbc9ed-55e4-4085-92c9-d93987cabe3a\",\"type\":\"LinearAxis\"},{\"id\":\"5470d5b4-9b8f-4b01-a202-571fff41b93e\",\"type\":\"Grid\"},{\"id\":\"4e664ab2-7e81-4928-a55d-dbbcce956801\",\"type\":\"LinearAxis\"},{\"id\":\"fb0221ab-747d-4a2d-81af-506305670e76\",\"type\":\"Grid\"},{\"id\":\"f04589f0-38e7-46ea-ba3a-0062baccae88\",\"type\":\"BoxAnnotation\"},{\"id\":\"94d1e573-2d89-46cf-be21-7fab4b0fc780\",\"type\":\"GlyphRenderer\"},{\"id\":\"b47f5f5c-6020-4086-a174-c0933b4eb0bc\",\"type\":\"GlyphRenderer\"},{\"id\":\"09b865c4-559e-47f0-8d09-45dc7285d63e\",\"type\":\"GlyphRenderer\"},{\"id\":\"1e3501cc-0d48-424c-a1f4-3d190f477d0e\",\"type\":\"GlyphRenderer\"},{\"id\":\"2aae93c3-e990-45fb-b981-b435262d4ab8\",\"type\":\"GlyphRenderer\"},{\"id\":\"c1991c8b-4249-4dbf-a4a9-1dccb022194d\",\"type\":\"Legend\"}],\"title\":{\"id\":\"37f9c8e0-7690-40b0-8bfe-c8d9144bf39f\",\"type\":\"Title\"},\"toolbar\":{\"id\":\"b968a0c8-10f3-48da-9468-068eef0122a9\",\"type\":\"Toolbar\"},\"toolbar_location\":null,\"x_range\":{\"id\":\"243ec12f-7c11-4854-b56b-cd4f24ab2d61\",\"type\":\"Range1d\"},\"x_scale\":{\"id\":\"281b3149-1b6e-4b50-a198-e59ed8ec55ba\",\"type\":\"LinearScale\"},\"y_range\":{\"id\":\"0f5442e9-cd26-4425-b624-46f70451dd4a\",\"type\":\"Range1d\"},\"y_scale\":{\"id\":\"b5e34bac-60ff-44df-95ef-814517ee11b3\",\"type\":\"LinearScale\"}},\"id\":\"4b60fddf-d6c3-4af0-bee3-14a76d9cf258\",\"subtype\":\"Figure\",\"type\":\"Plot\"},{\"attributes\":{\"num_minor_ticks\":10},\"id\":\"0bf52044-be13-4d9a-8da8-496307e4a637\",\"type\":\"LogTicker\"},{\"attributes\":{},\"id\":\"5fad7032-e3cb-4e87-8adc-fddcc4b5a1b5\",\"type\":\"UnionRenderers\"},{\"attributes\":{\"items\":[{\"id\":\"abcc6ac9-1f88-445b-b31b-0e6e8edda652\",\"type\":\"LegendItem\"},{\"id\":\"379d534b-254f-4261-a723-c05aebe40014\",\"type\":\"LegendItem\"}],\"label_text_font_size\":{\"value\":\"8pt\"},\"location\":\"top_center\",\"orientation\":\"horizontal\",\"plot\":{\"id\":\"0bc9176a-ab40-426e-ab38-64c64f6d55a9\",\"subtype\":\"Figure\",\"type\":\"Plot\"}},\"id\":\"206da7c8-83ef-4c80-8b07-a679fa98364c\",\"type\":\"Legend\"},{\"attributes\":{\"active_drag\":\"auto\",\"active_inspect\":\"auto\",\"active_scroll\":\"auto\",\"active_tap\":\"auto\",\"tools\":[{\"id\":\"5544e0ef-1bc8-45ac-8793-a5bf413dad8f\",\"type\":\"PanTool\"},{\"id\":\"dae92b10-0cc9-42d2-99c8-e6bc79d57e47\",\"type\":\"WheelZoomTool\"},{\"id\":\"01bfac42-7237-485a-a758-e7670966924c\",\"type\":\"BoxZoomTool\"},{\"id\":\"2ae83334-80da-4527-95ae-8f5782bb3050\",\"type\":\"SaveTool\"},{\"id\":\"9343a9bb-4911-402d-9aab-14a641667bc8\",\"type\":\"ResetTool\"},{\"id\":\"14eeb9e3-2896-4f28-bd0e-8f0cf127bfe3\",\"type\":\"HelpTool\"}]},\"id\":\"b968a0c8-10f3-48da-9468-068eef0122a9\",\"type\":\"Toolbar\"},{\"attributes\":{\"axis_label\":\"cooling rate [K/day]\",\"formatter\":{\"id\":\"a1cf4240-92c4-4ce2-a83e-43310d881683\",\"type\":\"BasicTickFormatter\"},\"plot\":{\"id\":\"0bc9176a-ab40-426e-ab38-64c64f6d55a9\",\"subtype\":\"Figure\",\"type\":\"Plot\"},\"ticker\":{\"id\":\"68d7a2ab-4f72-4992-9489-1db869714c37\",\"type\":\"BasicTicker\"}},\"id\":\"e016a75a-821f-4c00-9f4c-dea8924bac9f\",\"type\":\"LinearAxis\"},{\"attributes\":{\"line_alpha\":0.1,\"line_color\":\"#1f77b4\",\"line_dash\":[6],\"line_width\":5,\"x\":{\"field\":\"x\"},\"y\":{\"field\":\"y\"}},\"id\":\"49883f77-31aa-47f4-9a1e-2be7359510f4\",\"type\":\"Line\"},{\"attributes\":{\"overlay\":{\"id\":\"f04589f0-38e7-46ea-ba3a-0062baccae88\",\"type\":\"BoxAnnotation\"}},\"id\":\"01bfac42-7237-485a-a758-e7670966924c\",\"type\":\"BoxZoomTool\"},{\"attributes\":{},\"id\":\"b5e34bac-60ff-44df-95ef-814517ee11b3\",\"type\":\"LinearScale\"},{\"attributes\":{},\"id\":\"a64e1053-9ae5-44a1-a53e-c7547766c17d\",\"type\":\"HelpTool\"},{\"attributes\":{\"axis_label\":\"pressure [mb]\",\"formatter\":{\"id\":\"ad882b45-d596-4b15-9184-59bc9cd1518b\",\"type\":\"BasicTickFormatter\"},\"plot\":{\"id\":\"4b60fddf-d6c3-4af0-bee3-14a76d9cf258\",\"subtype\":\"Figure\",\"type\":\"Plot\"},\"ticker\":{\"id\":\"00a1e213-8573-4970-b515-fd3767da76ff\",\"type\":\"BasicTicker\"}},\"id\":\"4e664ab2-7e81-4928-a55d-dbbcce956801\",\"type\":\"LinearAxis\"},{\"attributes\":{},\"id\":\"14eeb9e3-2896-4f28-bd0e-8f0cf127bfe3\",\"type\":\"HelpTool\"},{\"attributes\":{},\"id\":\"c74f9e32-16fa-4f78-a914-f39831555e4b\",\"type\":\"WheelZoomTool\"},{\"attributes\":{\"plot\":{\"id\":\"4b60fddf-d6c3-4af0-bee3-14a76d9cf258\",\"subtype\":\"Figure\",\"type\":\"Plot\"},\"ticker\":{\"id\":\"557c07b7-2f8c-4d2b-99ab-8509b73e4187\",\"type\":\"BasicTicker\"}},\"id\":\"5470d5b4-9b8f-4b01-a202-571fff41b93e\",\"type\":\"Grid\"},{\"attributes\":{\"num_minor_ticks\":10},\"id\":\"f1c96a3f-4b31-4e60-9240-676e3fae14e3\",\"type\":\"LogTicker\"},{\"attributes\":{\"data_source\":{\"id\":\"850e1a9c-ce28-4513-9d36-89ba5bc76587\",\"type\":\"ColumnDataSource\"},\"glyph\":{\"id\":\"70480ea4-e140-456f-9f80-7200fa6308a8\",\"type\":\"Line\"},\"hover_glyph\":null,\"muted_glyph\":null,\"nonselection_glyph\":{\"id\":\"49883f77-31aa-47f4-9a1e-2be7359510f4\",\"type\":\"Line\"},\"selection_glyph\":null,\"view\":{\"id\":\"8ed23c12-533a-45f7-bf9e-26f99df06557\",\"type\":\"CDSView\"}},\"id\":\"94d1e573-2d89-46cf-be21-7fab4b0fc780\",\"type\":\"GlyphRenderer\"},{\"attributes\":{},\"id\":\"b641e379-cbcb-4e7f-a7df-31070101ca75\",\"type\":\"LogScale\"},{\"attributes\":{},\"id\":\"00a1e213-8573-4970-b515-fd3767da76ff\",\"type\":\"BasicTicker\"},{\"attributes\":{},\"id\":\"5a097e7e-266e-4bfd-b7dc-b461509245cd\",\"type\":\"Selection\"},{\"attributes\":{\"children\":[{\"id\":\"990ab4ca-833f-4cba-b2d5-4b37a89fecef\",\"type\":\"ToolbarBox\"},{\"id\":\"8728c56f-c1a4-4032-95ee-1a8d2dcd2afd\",\"type\":\"Column\"}]},\"id\":\"646b6050-3bfe-4a27-9705-8313ac6bf801\",\"type\":\"Column\"},{\"attributes\":{\"overlay\":{\"id\":\"8f8cdda6-0599-4279-b0fb-d0ba6a45ed72\",\"type\":\"BoxAnnotation\"}},\"id\":\"2c055fa2-9739-4d70-9e10-e4ae2dabcae0\",\"type\":\"BoxZoomTool\"},{\"attributes\":{\"children\":[{\"id\":\"4b60fddf-d6c3-4af0-bee3-14a76d9cf258\",\"subtype\":\"Figure\",\"type\":\"Plot\"},{\"id\":\"f3df2a22-c2f1-43ad-870e-59fae185e589\",\"subtype\":\"Figure\",\"type\":\"Plot\"},{\"id\":\"0bc9176a-ab40-426e-ab38-64c64f6d55a9\",\"subtype\":\"Figure\",\"type\":\"Plot\"}]},\"id\":\"c0804772-3a71-4e5a-b55a-e3ed5404508d\",\"type\":\"Row\"},{\"attributes\":{},\"id\":\"68d7a2ab-4f72-4992-9489-1db869714c37\",\"type\":\"BasicTicker\"},{\"attributes\":{\"callback\":null,\"data\":{\"x\":{\"__ndarray__\":\"TaCMwxPYRUACRY+MYxdDQGq+lvgF40FA+LCUgX8+QEBGpyrsPT88QGxJOUk9PDdAXufu+pvoMUCdt2spq+MpQNyv11rHGCJAeTDs9yowGkDTb8JzsNkUQBGG6XOGshFAWaFhPOBEDUCvAOLy2o0DQNQkVlkr5vU/xM9YxOl/+j+4A5m8NSwFQO0Ea6WECQtArnzAoaXeEEDqjDdaYhYWQBjP7u7I/R1AUsIrhLfVJEDVFQaKc80qQOuyreEI/SlA0z4tKItPJEAnidJp8kcgQKdnFge/YxtAm5/KCZQEFkA9hnXJ0iYRQLpvzWcr3AtA/OO/niIDCEAzLcCmZsUCQO0M9viA9/k/pzY4cKk28T9PKC9u9lrnP69UkW1Ep9s/tw6jo0KMzD8V66RdIIK/P8kIsE8OFKW/1DMWNIHnyb9GENcKRMSLv9IWcV8ipec/MLbsZkhx9z91ZpnG8RAAQNGmbXt3kgFAThIy5B0CAEA4QN1HhDv+P2XL+8JnG/0/74LGRmVl/D/2Ituzzjf8PyL85lmkVPw/3jx1Hczs+z99h5mR03L7P0rY7s+iCPs/BhvUvj2/+j9gu6ZJaor6P3nzqWJwifo/tPEomF+g+z8TwK7VB4L8P0sFgvHtBP0/Poyk74IE/T/KmTVOTWX8P+VwwEexTvs/bO4du6ge+j+TGDYijgj5P/9wKwqhdvg/WsW9J0ZG+D853NcZkEH4Px14S/j5vfc/xFvwdZyu9j9frRLgf331P+hv8dkCkvQ/6WxZ6/gZ9D/0BtPJvUz0P0B+bBsR9/o/\",\"dtype\":\"float64\",\"shape\":[75]},\"y\":{\"__ndarray__\":\"GhExyth1ND/Sv8nbtpRIP2vylNV0PVE/aTum7souWD/At0SJ8fVgPw3Iuahxymc/MSNhhJWvcD/bTfBN02d3P2zb5nxnaoA/CD5h5MAGhz8NmeH1TyaQP+zrCsc9p5Y/LbKd76fGnz/bLW5ISEmmPww9YvTcQq8/JV2OstnstT8Er5Y7M8G+P0c+r3jqkcU/5h99k6ZBzj88bCIzFzjVP4enV8oyxN0//yH99nXg5D8qOpLLf0jtP5kqGJXUifQ/c9cS8kHP/D+/DpwzojQEQIEmwoanVwxA4lgXt9HgE0BSSZ2AJuIbQAMJih9jjiNA5q4l5INuK0AwTKYKRj0zQNv5fmq8/DpAaCJseHrtQkB/+zpwzoxKQM3MzMzMeFJAZmZmZmZqWEAAAAAAAFxeQM3MzMzMJmJAmpmZmZkfZUBmZmZmZhhoQDMzMzMzEWtAAAAAAAAKbkBmZmZmZoFwQM3MzMzM/XFAMzMzMzN6c0CamZmZmfZ0QAAAAAAAc3ZAZmZmZmbvd0DNzMzMzGt5QDMzMzMz6HpAmpmZmZlkfEAAAAAAAOF9QGZmZmZmXX9AZmZmZuZsgECamZmZGSuBQM3MzMxM6YFAAAAAAICngkAzMzMzs2WDQGZmZmbmI4RAmpmZmRnihEDNzMzMTKCFQAAAAACAXoZAMzMzM7Mch0BmZmZm5tqHQJqZmZkZmYhAzczMzExXiUAAAAAAgBWKQDMzMzOz04pAZmZmZuaRi0CamZmZGVCMQM3MzMxMDo1AAAAAAIDMjUAzMzMzs4qOQGZmZmbmSI9A\",\"dtype\":\"float64\",\"shape\":[75]}},\"selected\":{\"id\":\"b9aabb5b-87d0-4be6-beac-a27d08dbf849\",\"type\":\"Selection\"},\"selection_policy\":{\"id\":\"e569572e-0313-4de6-83f0-594346e3820d\",\"type\":\"UnionRenderers\"}},\"id\":\"fd7af4c0-bdec-4ac5-ade7-eed84dd4de99\",\"type\":\"ColumnDataSource\"},{\"attributes\":{},\"id\":\"5544e0ef-1bc8-45ac-8793-a5bf413dad8f\",\"type\":\"PanTool\"},{\"attributes\":{},\"id\":\"9343a9bb-4911-402d-9aab-14a641667bc8\",\"type\":\"ResetTool\"},{\"attributes\":{\"callback\":null,\"end\":0.01,\"start\":1020},\"id\":\"cc9c0e74-e0f2-4962-8e71-fd2c64448305\",\"type\":\"Range1d\"},{\"attributes\":{\"tools\":[{\"id\":\"5544e0ef-1bc8-45ac-8793-a5bf413dad8f\",\"type\":\"PanTool\"},{\"id\":\"dae92b10-0cc9-42d2-99c8-e6bc79d57e47\",\"type\":\"WheelZoomTool\"},{\"id\":\"01bfac42-7237-485a-a758-e7670966924c\",\"type\":\"BoxZoomTool\"},{\"id\":\"2ae83334-80da-4527-95ae-8f5782bb3050\",\"type\":\"SaveTool\"},{\"id\":\"9343a9bb-4911-402d-9aab-14a641667bc8\",\"type\":\"ResetTool\"},{\"id\":\"14eeb9e3-2896-4f28-bd0e-8f0cf127bfe3\",\"type\":\"HelpTool\"},{\"id\":\"25ff55d2-55f1-4c86-8da0-e8bbfa810beb\",\"type\":\"PanTool\"},{\"id\":\"c74f9e32-16fa-4f78-a914-f39831555e4b\",\"type\":\"WheelZoomTool\"},{\"id\":\"2c055fa2-9739-4d70-9e10-e4ae2dabcae0\",\"type\":\"BoxZoomTool\"},{\"id\":\"bc946170-e3e5-42a2-97ec-9161b7414db7\",\"type\":\"SaveTool\"},{\"id\":\"2efb01c2-d55f-454a-817a-840a36572a92\",\"type\":\"ResetTool\"},{\"id\":\"a64e1053-9ae5-44a1-a53e-c7547766c17d\",\"type\":\"HelpTool\"},{\"id\":\"856c58b9-731b-429a-889e-f5557394d10c\",\"type\":\"PanTool\"},{\"id\":\"b66c2c06-edb1-4b91-841e-7d2972b36bc4\",\"type\":\"WheelZoomTool\"},{\"id\":\"f3251c71-f1c3-4edd-914b-0cb0c9ef32a8\",\"type\":\"BoxZoomTool\"},{\"id\":\"a360953e-42b2-445d-85ca-9c2a76600290\",\"type\":\"SaveTool\"},{\"id\":\"8cad95b7-8465-47e1-9dfa-5d4070061ad3\",\"type\":\"ResetTool\"},{\"id\":\"fdd444e9-7c2e-44ca-9eee-2f817b65ca86\",\"type\":\"HelpTool\"}]},\"id\":\"8477be57-6694-45f4-8d3d-b32a40d9476d\",\"type\":\"ProxyToolbar\"},{\"attributes\":{\"axis_label\":\"pressure [mb]\",\"formatter\":{\"id\":\"579aabf8-9cb3-49b0-8f0a-54e20fe68668\",\"type\":\"LogTickFormatter\"},\"plot\":{\"id\":\"f3df2a22-c2f1-43ad-870e-59fae185e589\",\"subtype\":\"Figure\",\"type\":\"Plot\"},\"ticker\":{\"id\":\"f1c96a3f-4b31-4e60-9240-676e3fae14e3\",\"type\":\"LogTicker\"}},\"id\":\"3dc5dd17-6643-4b72-aea0-d94981a7df06\",\"type\":\"LogAxis\"},{\"attributes\":{},\"id\":\"677c9f68-f79d-4583-8d1e-ce87399b4906\",\"type\":\"Selection\"},{\"attributes\":{\"callback\":null,\"end\":0.01,\"start\":1020},\"id\":\"0f5442e9-cd26-4425-b624-46f70451dd4a\",\"type\":\"Range1d\"},{\"attributes\":{},\"id\":\"0abd48c4-ffa9-4982-82ef-4123b797da47\",\"type\":\"UnionRenderers\"},{\"attributes\":{},\"id\":\"6c46641c-aca3-4dcd-b264-0e094987b24c\",\"type\":\"BasicTicker\"},{\"attributes\":{},\"id\":\"dae92b10-0cc9-42d2-99c8-e6bc79d57e47\",\"type\":\"WheelZoomTool\"},{\"attributes\":{},\"id\":\"281b3149-1b6e-4b50-a198-e59ed8ec55ba\",\"type\":\"LinearScale\"},{\"attributes\":{\"plot\":{\"id\":\"0bc9176a-ab40-426e-ab38-64c64f6d55a9\",\"subtype\":\"Figure\",\"type\":\"Plot\"},\"ticker\":{\"id\":\"68d7a2ab-4f72-4992-9489-1db869714c37\",\"type\":\"BasicTicker\"}},\"id\":\"4e9e97af-8355-4c0b-97dd-00a1aa8138f5\",\"type\":\"Grid\"},{\"attributes\":{\"plot\":{\"id\":\"f3df2a22-c2f1-43ad-870e-59fae185e589\",\"subtype\":\"Figure\",\"type\":\"Plot\"},\"ticker\":{\"id\":\"6c46641c-aca3-4dcd-b264-0e094987b24c\",\"type\":\"BasicTicker\"}},\"id\":\"e9213601-8f46-4d56-99f9-284139d387ab\",\"type\":\"Grid\"},{\"attributes\":{},\"id\":\"2efb01c2-d55f-454a-817a-840a36572a92\",\"type\":\"ResetTool\"},{\"attributes\":{\"dimension\":1,\"plot\":{\"id\":\"f3df2a22-c2f1-43ad-870e-59fae185e589\",\"subtype\":\"Figure\",\"type\":\"Plot\"},\"ticker\":{\"id\":\"f1c96a3f-4b31-4e60-9240-676e3fae14e3\",\"type\":\"LogTicker\"}},\"id\":\"a40f5730-a373-45c3-bdd7-3cad1fcbac9b\",\"type\":\"Grid\"},{\"attributes\":{},\"id\":\"bc946170-e3e5-42a2-97ec-9161b7414db7\",\"type\":\"SaveTool\"},{\"attributes\":{},\"id\":\"a25ff78a-8f1d-48bd-ae90-2d13624d6eac\",\"type\":\"Selection\"},{\"attributes\":{},\"id\":\"25ff55d2-55f1-4c86-8da0-e8bbfa810beb\",\"type\":\"PanTool\"},{\"attributes\":{\"callback\":null,\"end\":2.3135974773013004,\"start\":-0.22728810577130001},\"id\":\"243ec12f-7c11-4854-b56b-cd4f24ab2d61\",\"type\":\"Range1d\"},{\"attributes\":{\"bottom_units\":\"screen\",\"fill_alpha\":{\"value\":0.5},\"fill_color\":{\"value\":\"lightgrey\"},\"left_units\":\"screen\",\"level\":\"overlay\",\"line_alpha\":{\"value\":1.0},\"line_color\":{\"value\":\"black\"},\"line_dash\":[4,4],\"line_width\":{\"value\":2},\"plot\":null,\"render_mode\":\"css\",\"right_units\":\"screen\",\"top_units\":\"screen\"},\"id\":\"8f8cdda6-0599-4279-b0fb-d0ba6a45ed72\",\"type\":\"BoxAnnotation\"},{\"attributes\":{\"axis_label\":\"cooling rate [K/day]\",\"formatter\":{\"id\":\"9b0540b7-423d-4fe4-9969-bc891c6f7996\",\"type\":\"BasicTickFormatter\"},\"plot\":{\"id\":\"4b60fddf-d6c3-4af0-bee3-14a76d9cf258\",\"subtype\":\"Figure\",\"type\":\"Plot\"},\"ticker\":{\"id\":\"557c07b7-2f8c-4d2b-99ab-8509b73e4187\",\"type\":\"BasicTicker\"}},\"id\":\"bbdbc9ed-55e4-4085-92c9-d93987cabe3a\",\"type\":\"LinearAxis\"},{\"attributes\":{\"dimension\":1,\"plot\":{\"id\":\"0bc9176a-ab40-426e-ab38-64c64f6d55a9\",\"subtype\":\"Figure\",\"type\":\"Plot\"},\"ticker\":{\"id\":\"0bf52044-be13-4d9a-8da8-496307e4a637\",\"type\":\"LogTicker\"}},\"id\":\"aa06c20b-0f75-4dd7-901e-eb0d71832391\",\"type\":\"Grid\"},{\"attributes\":{\"line_alpha\":0.6,\"line_color\":\"#377eb8\",\"line_dash\":[6],\"line_width\":5,\"x\":{\"field\":\"x\"},\"y\":{\"field\":\"y\"}},\"id\":\"70480ea4-e140-456f-9f80-7200fa6308a8\",\"type\":\"Line\"},{\"attributes\":{},\"id\":\"66d9513e-dd4d-404b-b006-08b788bd202f\",\"type\":\"Selection\"},{\"attributes\":{\"toolbar\":{\"id\":\"8477be57-6694-45f4-8d3d-b32a40d9476d\",\"type\":\"ProxyToolbar\"},\"toolbar_location\":\"above\"},\"id\":\"990ab4ca-833f-4cba-b2d5-4b37a89fecef\",\"type\":\"ToolbarBox\"},{\"attributes\":{\"fill_alpha\":{\"value\":0.1},\"fill_color\":{\"value\":\"#1f77b4\"},\"line_alpha\":{\"value\":0.1},\"line_color\":{\"value\":\"#1f77b4\"},\"x\":{\"field\":\"x\"},\"y\":{\"field\":\"y\"}},\"id\":\"4f6c0161-cb5f-4dc6-b9eb-fb2d1674fdaf\",\"type\":\"Circle\"},{\"attributes\":{\"items\":[{\"id\":\"a21a9842-e13e-4da0-b4a1-9cc690564083\",\"type\":\"LegendItem\"},{\"id\":\"926003fc-9389-4c4a-bb0c-b44f2de95734\",\"type\":\"LegendItem\"},{\"id\":\"7b3d07d5-6515-4f9d-b937-4fa6ebf78955\",\"type\":\"LegendItem\"}],\"label_text_font_size\":{\"value\":\"8pt\"},\"location\":\"top_center\",\"orientation\":\"horizontal\",\"plot\":{\"id\":\"4b60fddf-d6c3-4af0-bee3-14a76d9cf258\",\"subtype\":\"Figure\",\"type\":\"Plot\"}},\"id\":\"c1991c8b-4249-4dbf-a4a9-1dccb022194d\",\"type\":\"Legend\"},{\"attributes\":{},\"id\":\"2ae83334-80da-4527-95ae-8f5782bb3050\",\"type\":\"SaveTool\"},{\"attributes\":{},\"id\":\"557c07b7-2f8c-4d2b-99ab-8509b73e4187\",\"type\":\"BasicTicker\"},{\"attributes\":{\"axis_label\":\"pressure [mb]\",\"formatter\":{\"id\":\"fc7db509-3f71-4614-9096-0d83f5aebed3\",\"type\":\"LogTickFormatter\"},\"plot\":{\"id\":\"0bc9176a-ab40-426e-ab38-64c64f6d55a9\",\"subtype\":\"Figure\",\"type\":\"Plot\"},\"ticker\":{\"id\":\"0bf52044-be13-4d9a-8da8-496307e4a637\",\"type\":\"LogTicker\"}},\"id\":\"85f420a9-8fd7-4040-93e2-df872147acec\",\"type\":\"LogAxis\"},{\"attributes\":{\"bottom_units\":\"screen\",\"fill_alpha\":{\"value\":0.5},\"fill_color\":{\"value\":\"lightgrey\"},\"left_units\":\"screen\",\"level\":\"overlay\",\"line_alpha\":{\"value\":1.0},\"line_color\":{\"value\":\"black\"},\"line_dash\":[4,4],\"line_width\":{\"value\":2},\"plot\":null,\"render_mode\":\"css\",\"right_units\":\"screen\",\"top_units\":\"screen\"},\"id\":\"f04589f0-38e7-46ea-ba3a-0062baccae88\",\"type\":\"BoxAnnotation\"},{\"attributes\":{\"callback\":null,\"data\":{\"x\":{\"__ndarray__\":\"TaCMwxPYRUACRY+MYxdDQGq+lvgF40FA+LCUgX8+QEBGpyrsPT88QGxJOUk9PDdAXufu+pvoMUCdt2spq+MpQNyv11rHGCJAeTDs9yowGkDTb8JzsNkUQBGG6XOGshFAWaFhPOBEDUCvAOLy2o0DQNQkVlkr5vU/xM9YxOl/+j+4A5m8NSwFQO0Ea6WECQtArnzAoaXeEEDqjDdaYhYWQBjP7u7I/R1AUsIrhLfVJEDVFQaKc80qQOuyreEI/SlA0z4tKItPJEAnidJp8kcgQKdnFge/YxtAm5/KCZQEFkA9hnXJ0iYRQLpvzWcr3AtA/OO/niIDCEAzLcCmZsUCQO0M9viA9/k/pzY4cKk28T9PKC9u9lrnP69UkW1Ep9s/tw6jo0KMzD8V66RdIIK/P8kIsE8OFKW/1DMWNIHnyb9GENcKRMSLv9IWcV8ipec/MLbsZkhx9z91ZpnG8RAAQNGmbXt3kgFAThIy5B0CAEA4QN1HhDv+P2XL+8JnG/0/74LGRmVl/D/2Ituzzjf8PyL85lmkVPw/3jx1Hczs+z99h5mR03L7P0rY7s+iCPs/BhvUvj2/+j9gu6ZJaor6P3nzqWJwifo/tPEomF+g+z8TwK7VB4L8P0sFgvHtBP0/Poyk74IE/T/KmTVOTWX8P+VwwEexTvs/bO4du6ge+j+TGDYijgj5P/9wKwqhdvg/WsW9J0ZG+D853NcZkEH4Px14S/j5vfc/xFvwdZyu9j9frRLgf331P+hv8dkCkvQ/6WxZ6/gZ9D/0BtPJvUz0P0B+bBsR9/o/\",\"dtype\":\"float64\",\"shape\":[75]},\"y\":{\"__ndarray__\":\"GhExyth1ND/Sv8nbtpRIP2vylNV0PVE/aTum7souWD/At0SJ8fVgPw3Iuahxymc/MSNhhJWvcD/bTfBN02d3P2zb5nxnaoA/CD5h5MAGhz8NmeH1TyaQP+zrCsc9p5Y/LbKd76fGnz/bLW5ISEmmPww9YvTcQq8/JV2OstnstT8Er5Y7M8G+P0c+r3jqkcU/5h99k6ZBzj88bCIzFzjVP4enV8oyxN0//yH99nXg5D8qOpLLf0jtP5kqGJXUifQ/c9cS8kHP/D+/DpwzojQEQIEmwoanVwxA4lgXt9HgE0BSSZ2AJuIbQAMJih9jjiNA5q4l5INuK0AwTKYKRj0zQNv5fmq8/DpAaCJseHrtQkB/+zpwzoxKQM3MzMzMeFJAZmZmZmZqWEAAAAAAAFxeQM3MzMzMJmJAmpmZmZkfZUBmZmZmZhhoQDMzMzMzEWtAAAAAAAAKbkBmZmZmZoFwQM3MzMzM/XFAMzMzMzN6c0CamZmZmfZ0QAAAAAAAc3ZAZmZmZmbvd0DNzMzMzGt5QDMzMzMz6HpAmpmZmZlkfEAAAAAAAOF9QGZmZmZmXX9AZmZmZuZsgECamZmZGSuBQM3MzMxM6YFAAAAAAICngkAzMzMzs2WDQGZmZmbmI4RAmpmZmRnihEDNzMzMTKCFQAAAAACAXoZAMzMzM7Mch0BmZmZm5tqHQJqZmZkZmYhAzczMzExXiUAAAAAAgBWKQDMzMzOz04pAZmZmZuaRi0CamZmZGVCMQM3MzMxMDo1AAAAAAIDMjUAzMzMzs4qOQGZmZmbmSI9A\",\"dtype\":\"float64\",\"shape\":[75]}},\"selected\":{\"id\":\"a25ff78a-8f1d-48bd-ae90-2d13624d6eac\",\"type\":\"Selection\"},\"selection_policy\":{\"id\":\"5fad7032-e3cb-4e87-8adc-fddcc4b5a1b5\",\"type\":\"UnionRenderers\"}},\"id\":\"850e1a9c-ce28-4513-9d36-89ba5bc76587\",\"type\":\"ColumnDataSource\"},{\"attributes\":{\"line_alpha\":0.1,\"line_color\":\"#1f77b4\",\"line_dash\":[6],\"line_width\":5,\"x\":{\"field\":\"x\"},\"y\":{\"field\":\"y\"}},\"id\":\"74f9b65c-caaf-4407-8fde-b04dd38302e5\",\"type\":\"Line\"},{\"attributes\":{\"line_alpha\":0.6,\"line_color\":\"#377eb8\",\"line_dash\":[6],\"line_width\":5,\"x\":{\"field\":\"x\"},\"y\":{\"field\":\"y\"}},\"id\":\"48546c49-b88d-4784-a1f4-065ca0e55a2d\",\"type\":\"Line\"},{\"attributes\":{\"active_drag\":\"auto\",\"active_inspect\":\"auto\",\"active_scroll\":\"auto\",\"active_tap\":\"auto\",\"tools\":[{\"id\":\"856c58b9-731b-429a-889e-f5557394d10c\",\"type\":\"PanTool\"},{\"id\":\"b66c2c06-edb1-4b91-841e-7d2972b36bc4\",\"type\":\"WheelZoomTool\"},{\"id\":\"f3251c71-f1c3-4edd-914b-0cb0c9ef32a8\",\"type\":\"BoxZoomTool\"},{\"id\":\"a360953e-42b2-445d-85ca-9c2a76600290\",\"type\":\"SaveTool\"},{\"id\":\"8cad95b7-8465-47e1-9dfa-5d4070061ad3\",\"type\":\"ResetTool\"},{\"id\":\"fdd444e9-7c2e-44ca-9eee-2f817b65ca86\",\"type\":\"HelpTool\"}]},\"id\":\"ae0c22b2-1568-4854-af4e-eec0f259ba57\",\"type\":\"Toolbar\"},{\"attributes\":{\"fill_alpha\":{\"value\":0.7},\"fill_color\":{\"value\":\"#984ea3\"},\"line_alpha\":{\"value\":0.7},\"line_color\":{\"value\":\"#984ea3\"},\"x\":{\"field\":\"x\"},\"y\":{\"field\":\"y\"}},\"id\":\"b48139d5-0726-41a9-98e1-975ef0dbe025\",\"type\":\"Circle\"},{\"attributes\":{\"plot\":null,\"text\":\"\"},\"id\":\"74f87617-1420-46e2-9908-c8cbdfc3356b\",\"type\":\"Title\"},{\"attributes\":{\"dimension\":1,\"plot\":{\"id\":\"4b60fddf-d6c3-4af0-bee3-14a76d9cf258\",\"subtype\":\"Figure\",\"type\":\"Plot\"},\"ticker\":{\"id\":\"00a1e213-8573-4970-b515-fd3767da76ff\",\"type\":\"BasicTicker\"}},\"id\":\"fb0221ab-747d-4a2d-81af-506305670e76\",\"type\":\"Grid\"},{\"attributes\":{\"source\":{\"id\":\"c6602a7f-6e11-4ee7-a9f0-87cd0d56bae2\",\"type\":\"ColumnDataSource\"}},\"id\":\"cd1d850f-41ae-40ed-9a4a-3d99d791bb99\",\"type\":\"CDSView\"},{\"attributes\":{\"line_alpha\":0.1,\"line_color\":\"#1f77b4\",\"line_width\":1.5,\"x\":{\"field\":\"x\"},\"y\":{\"field\":\"y\"}},\"id\":\"8afb3534-312b-450b-bef1-69434d509d80\",\"type\":\"Line\"},{\"attributes\":{},\"id\":\"8cad95b7-8465-47e1-9dfa-5d4070061ad3\",\"type\":\"ResetTool\"},{\"attributes\":{},\"id\":\"b66c2c06-edb1-4b91-841e-7d2972b36bc4\",\"type\":\"WheelZoomTool\"},{\"attributes\":{\"line_alpha\":0.1,\"line_color\":\"#1f77b4\",\"line_width\":1.5,\"x\":{\"field\":\"x\"},\"y\":{\"field\":\"y\"}},\"id\":\"74434085-b98c-49ef-84bf-fbaea805570c\",\"type\":\"Line\"},{\"attributes\":{\"source\":{\"id\":\"5c9d8374-ea1e-42e1-a519-bb7afdf53bef\",\"type\":\"ColumnDataSource\"}},\"id\":\"8aced99c-20dd-4ec8-8652-69c647ed3cd0\",\"type\":\"CDSView\"},{\"attributes\":{\"source\":{\"id\":\"976f5c1c-5286-42dd-8912-feffe2a2e3f5\",\"type\":\"ColumnDataSource\"}},\"id\":\"341a28f7-5e30-41ce-b5f6-686c3b6c6ca9\",\"type\":\"CDSView\"},{\"attributes\":{\"label\":{\"value\":\"CLIRAD (single-run) - CRD\"},\"renderers\":[{\"id\":\"2a305cb2-0c70-4201-aedc-50a30ff570eb\",\"type\":\"GlyphRenderer\"},{\"id\":\"46c9336a-57ce-43d4-afa0-879ff0b236a4\",\"type\":\"GlyphRenderer\"}]},\"id\":\"abcc6ac9-1f88-445b-b31b-0e6e8edda652\",\"type\":\"LegendItem\"},{\"attributes\":{},\"id\":\"ad882b45-d596-4b15-9184-59bc9cd1518b\",\"type\":\"BasicTickFormatter\"},{\"attributes\":{\"fill_alpha\":{\"value\":0.7},\"fill_color\":{\"value\":\"#4daf4a\"},\"line_alpha\":{\"value\":0.7},\"line_color\":{\"value\":\"#4daf4a\"},\"x\":{\"field\":\"x\"},\"y\":{\"field\":\"y\"}},\"id\":\"1231f46e-9494-4cb5-bb6c-aad3b06bc2b2\",\"type\":\"Circle\"},{\"attributes\":{},\"id\":\"a1cf4240-92c4-4ce2-a83e-43310d881683\",\"type\":\"BasicTickFormatter\"},{\"attributes\":{\"data_source\":{\"id\":\"fd7af4c0-bdec-4ac5-ade7-eed84dd4de99\",\"type\":\"ColumnDataSource\"},\"glyph\":{\"id\":\"48546c49-b88d-4784-a1f4-065ca0e55a2d\",\"type\":\"Line\"},\"hover_glyph\":null,\"muted_glyph\":null,\"nonselection_glyph\":{\"id\":\"74f9b65c-caaf-4407-8fde-b04dd38302e5\",\"type\":\"Line\"},\"selection_glyph\":null,\"view\":{\"id\":\"5f95091c-fdf1-43d5-af76-59a2e361c993\",\"type\":\"CDSView\"}},\"id\":\"a11211a8-a7c3-46d9-bbde-63a128f0d189\",\"type\":\"GlyphRenderer\"},{\"attributes\":{\"source\":{\"id\":\"850e1a9c-ce28-4513-9d36-89ba5bc76587\",\"type\":\"ColumnDataSource\"}},\"id\":\"8ed23c12-533a-45f7-bf9e-26f99df06557\",\"type\":\"CDSView\"},{\"attributes\":{\"data_source\":{\"id\":\"eff833c2-3982-40da-8b78-7a228dc8751f\",\"type\":\"ColumnDataSource\"},\"glyph\":{\"id\":\"277b522c-4f94-4b48-9f60-3261eeaa4293\",\"type\":\"Line\"},\"hover_glyph\":null,\"muted_glyph\":null,\"nonselection_glyph\":{\"id\":\"97da1ffe-27c0-4734-aabd-268dba210b1f\",\"type\":\"Line\"},\"selection_glyph\":null,\"view\":{\"id\":\"0f6da540-69cc-48c1-bec6-e4be87af8927\",\"type\":\"CDSView\"}},\"id\":\"558ed234-2f45-42c2-837a-bb2669ab17e3\",\"type\":\"GlyphRenderer\"},{\"attributes\":{\"above\":[{\"id\":\"206da7c8-83ef-4c80-8b07-a679fa98364c\",\"type\":\"Legend\"}],\"below\":[{\"id\":\"e016a75a-821f-4c00-9f4c-dea8924bac9f\",\"type\":\"LinearAxis\"}],\"left\":[{\"id\":\"85f420a9-8fd7-4040-93e2-df872147acec\",\"type\":\"LogAxis\"}],\"plot_width\":300,\"renderers\":[{\"id\":\"e016a75a-821f-4c00-9f4c-dea8924bac9f\",\"type\":\"LinearAxis\"},{\"id\":\"4e9e97af-8355-4c0b-97dd-00a1aa8138f5\",\"type\":\"Grid\"},{\"id\":\"85f420a9-8fd7-4040-93e2-df872147acec\",\"type\":\"LogAxis\"},{\"id\":\"aa06c20b-0f75-4dd7-901e-eb0d71832391\",\"type\":\"Grid\"},{\"id\":\"1901cf7f-eb9a-4edb-951c-8903d10e3284\",\"type\":\"BoxAnnotation\"},{\"id\":\"2a305cb2-0c70-4201-aedc-50a30ff570eb\",\"type\":\"GlyphRenderer\"},{\"id\":\"46c9336a-57ce-43d4-afa0-879ff0b236a4\",\"type\":\"GlyphRenderer\"},{\"id\":\"558ed234-2f45-42c2-837a-bb2669ab17e3\",\"type\":\"GlyphRenderer\"},{\"id\":\"206da7c8-83ef-4c80-8b07-a679fa98364c\",\"type\":\"Legend\"}],\"title\":{\"id\":\"7793d4c1-99ff-417a-bbed-c12576329806\",\"type\":\"Title\"},\"toolbar\":{\"id\":\"ae0c22b2-1568-4854-af4e-eec0f259ba57\",\"type\":\"Toolbar\"},\"toolbar_location\":null,\"x_range\":{\"id\":\"c99f45d9-cc1e-405c-b717-dc43d3508787\",\"type\":\"Range1d\"},\"x_scale\":{\"id\":\"07b06eb5-b1dc-4f1b-9fe1-525d3a8576d6\",\"type\":\"LinearScale\"},\"y_range\":{\"id\":\"493ab693-76f4-4347-b20d-0838e2ec127a\",\"type\":\"Range1d\"},\"y_scale\":{\"id\":\"b641e379-cbcb-4e7f-a7df-31070101ca75\",\"type\":\"LogScale\"}},\"id\":\"0bc9176a-ab40-426e-ab38-64c64f6d55a9\",\"subtype\":\"Figure\",\"type\":\"Plot\"},{\"attributes\":{\"callback\":null,\"end\":0.01,\"start\":1020},\"id\":\"493ab693-76f4-4347-b20d-0838e2ec127a\",\"type\":\"Range1d\"},{\"attributes\":{\"callback\":null,\"data\":{\"x\":{\"__ndarray__\":\"lDpM1XQXRMAFF6ZxNa0gwHCnHAXUbgLAKtQ1wYrC/D9FxtulFmEOQP5YslfSxA5AOKODYVMWBEBdIJ52wwXlPzFnm7hs1em/XLMviZjm9b9CnYpB15jxv0RIuQD5Y9+/RovD2MA/rz8D29G5z3TZP/bN869g5N4/UIntTu370z90ZO9+bnufP8RcFGbU3dC/p2A/DuxB4L8AhfElsKrgv1qifCEi7dG/yF1QcoDrc79nWaOxprapvwAe3KirqNO/TSo9cdE017+0H9YJvPmwv3m3mG05hdg/uF6cSI1B1z86OJjzYG23P8mWdwcliZU/edt6OD+20D883fr0jWjVP/dRHDnkS8M/ZCxaOrtXoL8RhiuHFydNPyQDWws3aqw/cD606fgKbD9wP8a8agOuvxMVoMpr6re/uoDE49yOur+4l7ODLuO2v3DupXnxc7G/scCujP5wsL8LZ7lngiCgv8/ThvJxmLe/Zl6ZTacuub8zRPpn3ousv3TXeXViva+/yps8kfALtL9cbNQ5eSezv4QRSAhS/6u/ojl1gJ7jor9bqkPH8nKYv4bBtdG/r5S/z6BuIBwslL90FF8iG56Yv4oVwYqSWpq/C4TZMyyHkr+86Lga2ZVmP1dz/igVTaE/R4eQWU9LrT9n+cgSB9yuP1KuINXJfKY/w3Dyf6jrlz9YbuOyNdJuP3g9cQdJ4mY/7I7HpHBRhj+TQwjrpmSgPxMl+cjoq6k/NFQbVbNysD/on6H+AbayPwVnbS0s7LM/pHSa0J6utD9pY2MleFi1P3cTYzZUzrQ/\",\"dtype\":\"float64\",\"shape\":[75]},\"y\":{\"__ndarray__\":\"GhExyth1ND/Sv8nbtpRIP2vylNV0PVE/aTum7souWD/At0SJ8fVgPw3Iuahxymc/MSNhhJWvcD/bTfBN02d3P2zb5nxnaoA/CD5h5MAGhz8NmeH1TyaQP+zrCsc9p5Y/LbKd76fGnz/bLW5ISEmmPww9YvTcQq8/JV2OstnstT8Er5Y7M8G+P0c+r3jqkcU/5h99k6ZBzj88bCIzFzjVP4enV8oyxN0//yH99nXg5D8qOpLLf0jtP5kqGJXUifQ/c9cS8kHP/D+/DpwzojQEQIEmwoanVwxA4lgXt9HgE0BSSZ2AJuIbQAMJih9jjiNA5q4l5INuK0AwTKYKRj0zQNv5fmq8/DpAaCJseHrtQkB/+zpwzoxKQM3MzMzMeFJAZmZmZmZqWEAAAAAAAFxeQM3MzMzMJmJAmpmZmZkfZUBmZmZmZhhoQDMzMzMzEWtAAAAAAAAKbkBmZmZmZoFwQM3MzMzM/XFAMzMzMzN6c0CamZmZmfZ0QAAAAAAAc3ZAZmZmZmbvd0DNzMzMzGt5QDMzMzMz6HpAmpmZmZlkfEAAAAAAAOF9QGZmZmZmXX9AZmZmZuZsgECamZmZGSuBQM3MzMxM6YFAAAAAAICngkAzMzMzs2WDQGZmZmbmI4RAmpmZmRnihEDNzMzMTKCFQAAAAACAXoZAMzMzM7Mch0BmZmZm5tqHQJqZmZkZmYhAzczMzExXiUAAAAAAgBWKQDMzMzOz04pAZmZmZuaRi0CamZmZGVCMQM3MzMxMDo1AAAAAAIDMjUAzMzMzs4qOQGZmZmbmSI9A\",\"dtype\":\"float64\",\"shape\":[75]}},\"selected\":{\"id\":\"8a3fcf80-f6a9-4928-8c65-588c50fe02e4\",\"type\":\"Selection\"},\"selection_policy\":{\"id\":\"c33b5427-326a-4bfb-9457-73eb7a938f64\",\"type\":\"UnionRenderers\"}},\"id\":\"5f2cae62-6ac2-4782-a4af-a3c010478b88\",\"type\":\"ColumnDataSource\"},{\"attributes\":{\"label\":{\"value\":\"old CLIRAD (H2012)\"},\"renderers\":[{\"id\":\"7f7ecb15-1b8a-433d-9196-ca49c98837bf\",\"type\":\"GlyphRenderer\"},{\"id\":\"0d64dea6-97c9-4e13-a7bb-a6692c7830e2\",\"type\":\"GlyphRenderer\"}]},\"id\":\"4c523458-f8b5-4d22-aca1-f77d45058814\",\"type\":\"LegendItem\"},{\"attributes\":{},\"id\":\"8a3fcf80-f6a9-4928-8c65-588c50fe02e4\",\"type\":\"Selection\"},{\"attributes\":{\"label\":{\"value\":\"old CLIRAD (H2012) - CRD\"},\"renderers\":[{\"id\":\"558ed234-2f45-42c2-837a-bb2669ab17e3\",\"type\":\"GlyphRenderer\"}]},\"id\":\"379d534b-254f-4261-a723-c05aebe40014\",\"type\":\"LegendItem\"},{\"attributes\":{\"callback\":null,\"data\":{\"x\":{\"__ndarray__\":\"zhhdnl3RU0CKgDdE+dxEQP6f5duhdUFAMJBr6ewEQkAADxZQyK45QBmX3ka8EDZAjl8alnlwL0CeYJlYHKIqQJoaoQNWxSJAwL4t7BozIUBMkS56I6AXQBxPe4ld/BRAnMjiKz2HCkCJCgdQ/WcBQKJTvluRvOg/j/JpYJwB9j+fcxKIKREEQOwUvOtLFw1AV0At7oRoEkD5lECKxjYXQAdydNQ0jR1ACbyvRZLfI0CO3MmPRGApQCcUNq4qNylA6VN9h30SJECRnP+HbGofQDQKaukXmhlAteFC/mL9E0CTDffT91MQQEkVAKh1YwtAqFesCIQRBkATatBMXLz/P4fvYPUXo/Y/tDrQnFTK8T/fneFQ7xLnP14aDQuCJtc/5BrOx2LRzT+fE4V0bnvHP3ueIXamhrA/cWaxNtALrr92uqPyMJK3P6q5+U821+g/ckrZjXL49z/TaxRJZAUAQPzVLij27QFAige8XqaCAEAv4Q7keaX+P0VyKG35kv0/XHVqXZRQ/T/+RskYEAv9PwKD1IjB3fw/JBko3yJ2/D//mRCM5iX7P/btQHcr5vo/xTCcdQr9+j+f/V+tjrf6P0Wt2HvLrvo/9IV/x6br+z/bYX40veD8P8+HZwkyUvw/CkxgoI8l/D8QA+bsYB78P2eu9w7DDvw/khNJm3qS+j8vZ0xHVJ75Py0d1shscPk/NKgVKiiK+T/NNtzstIr5P4ps72zyaPc/TlSpuPUj9j9S2qZu6gj1P2XVmdu6VPQ/t/WgjjEZ9D+np734CoH0P1P4Q57qwfo/\",\"dtype\":\"float64\",\"shape\":[75]},\"y\":{\"__ndarray__\":\"hLndy31yND/6fmq8dJNIP8n9DkWBPlE/aDum7souWD/b4a/JGvVgP9f34SAhymc/ZvM4DOavcD+z0M5pFmh3PxuC4zJuaoA/xjcUPlsHhz8uHAjJAiaQP9ieWRKgppY/oI7HDFTGnz+a5h2n6EimPzS6g9iZQq8/IuAQqtTstT9SSZ2AJsK+P4nS3uALk8U/ih9j7lpCzj+ASL99HTjVP4enV8oyxN0/ACL99nXg5D9fmEwVjErtPyUGgZVDi/Q/AiuHFtnO/D9OYhBYOTQEQPHSTWIQWAxA4XoUrkfhE0D8qfHSTeIbQMh2vp8ajyNArkfhehRuK0Bcj8L1KDwzQFyPwvUo/DpAPgrXo3DtQkDNzMzMzIxKQClcj8L1eFJAKVyPwvVoWECamZmZmVleQGZmZmZmJmJAAAAAAAAgZUCamZmZmRloQJqZmZmZEWtAmpmZmZkJbkCamZmZmYFwQGZmZmZm/nFAZmZmZmZ6c0BmZmZmZvZ0QDQzMzMzc3ZAAAAAAADwd0AAAAAAAGx5QAAAAAAA6HpAzMzMzMxkfEDMzMzMzOB9QM3MzMzMXH9AzczMzMxsgEAzMzMzMyuBQDMzMzMz6YFAMzMzMzOngkCamZmZmWWDQAAAAAAAJIRAAAAAAADihEAAAAAAAKCFQGZmZmZmXoZAzczMzMwch0DNzMzMzNqHQM3MzMzMmIhAMzMzMzNXiUCamZmZmRWKQAAAAAAA1IpAAAAAAACSi0AAAAAAAFCMQGZmZmZmDo1AzczMzMzMjUDNzMzMzIqOQM3MzMzMSI9A\",\"dtype\":\"float64\",\"shape\":[75]}},\"selected\":{\"id\":\"fb0a1d96-8673-409c-9147-24cbbd027ca1\",\"type\":\"Selection\"},\"selection_policy\":{\"id\":\"89930f10-fc58-40c7-a4cf-5d460c1e2ba6\",\"type\":\"UnionRenderers\"}},\"id\":\"3b667077-562a-4665-ad2a-a76818e40015\",\"type\":\"ColumnDataSource\"},{\"attributes\":{\"ticker\":null},\"id\":\"fc7db509-3f71-4614-9096-0d83f5aebed3\",\"type\":\"LogTickFormatter\"},{\"attributes\":{\"plot\":null,\"text\":\"\"},\"id\":\"37f9c8e0-7690-40b0-8bfe-c8d9144bf39f\",\"type\":\"Title\"},{\"attributes\":{\"callback\":null,\"data\":{\"x\":{\"__ndarray__\":\"cm1sTMT3VEDEyvjosEJHQOKI6DjzCUNArgQWV9awPkB9Lm8XG3M4QEz+Qv6iYzNA7eV8HaPLLkCX1QHyTpMoQFBmYSYetiNAUB04GtGpH0AmFyVE5j8ZQJca9QPGqBNALJP+OOHHDEBNxaf7QF8AQKtislomWuw/cW2dcO6A9T/uJJvfPu0EQIaQLTI/JQ1AxGiII+PmEkCJvfVeuCsYQD6ZBhGbHB9AXQw69DTYJEAsubcwKucqQNuT9D5OmipAJyi3szEJJUBlNebh5WkgQDDcPHBr2xlArtlANXuQFEBdJadFHckQQI2Avh0ZsQtAjYiwt1rsBUCL0SDoVBgAQK6C0nEEjvc/CggLSme58T9sXU2orFPnP0v0JYz9Gdg/vT38vxYczD9nBQTe6kHHP1IhkEXJwKo/8OZnhCVAub+xtVgCpmqzP6DUpY6g0+k/PKK3T1h4+D8RTDjQc1EAQG/dAQs7TwJAQt2eHpPLAEBWEh074x//PyCap9ZSGf4/rEzaTySm/T+7aXhHRmr9P688KeqeNP0/ruZ4EemD/D8olrZcn9T7P0+vNc9hW/s/i9VVL+4P+z+0NzC24uz6P8731Kza8vo/xFf4SHzq+z+gYyHpvHb8P68ROkiFevw/BAjYdCga/D8AUp8VbW77P3JrF/nKmvo/qCQeGfq++T/dplwHJfn4P2G4p+Uva/g/OzZ0RqMZ+D8dmn/iar73P/OuA7Ka8PY/gaaeQHGn9T9hkyjAH1L0P3aZGhdAU/M/n8VP/g7P8j+90HxHNvfyPwhNBtgrqvk/\",\"dtype\":\"float64\",\"shape\":[75]},\"y\":{\"__ndarray__\":\"GhExyth1ND/Sv8nbtpRIP2vylNV0PVE/aTum7souWD/At0SJ8fVgPw3Iuahxymc/MSNhhJWvcD/bTfBN02d3P2zb5nxnaoA/CD5h5MAGhz8NmeH1TyaQP+zrCsc9p5Y/LbKd76fGnz/bLW5ISEmmPww9YvTcQq8/JV2OstnstT8Er5Y7M8G+P0c+r3jqkcU/5h99k6ZBzj88bCIzFzjVP4enV8oyxN0//yH99nXg5D8qOpLLf0jtP5kqGJXUifQ/c9cS8kHP/D+/DpwzojQEQIEmwoanVwxA4lgXt9HgE0BSSZ2AJuIbQAMJih9jjiNA5q4l5INuK0AwTKYKRj0zQNv5fmq8/DpAaCJseHrtQkB/+zpwzoxKQM3MzMzMeFJAZmZmZmZqWEAAAAAAAFxeQM3MzMzMJmJAmpmZmZkfZUBmZmZmZhhoQDMzMzMzEWtAAAAAAAAKbkBmZmZmZoFwQM3MzMzM/XFAMzMzMzN6c0CamZmZmfZ0QAAAAAAAc3ZAZmZmZmbvd0DNzMzMzGt5QDMzMzMz6HpAmpmZmZlkfEAAAAAAAOF9QGZmZmZmXX9AZmZmZuZsgECamZmZGSuBQM3MzMxM6YFAAAAAAICngkAzMzMzs2WDQGZmZmbmI4RAmpmZmRnihEDNzMzMTKCFQAAAAACAXoZAMzMzM7Mch0BmZmZm5tqHQJqZmZkZmYhAzczMzExXiUAAAAAAgBWKQDMzMzOz04pAZmZmZuaRi0CamZmZGVCMQM3MzMxMDo1AAAAAAIDMjUAzMzMzs4qOQGZmZmbmSI9A\",\"dtype\":\"float64\",\"shape\":[75]}},\"selected\":{\"id\":\"823a3f3c-83f7-4603-87d3-36a0126f40c7\",\"type\":\"Selection\"},\"selection_policy\":{\"id\":\"7676ffe5-a37c-4344-91ff-583433b46192\",\"type\":\"UnionRenderers\"}},\"id\":\"5c9d8374-ea1e-42e1-a519-bb7afdf53bef\",\"type\":\"ColumnDataSource\"},{\"attributes\":{\"label\":{\"value\":\"CLIRAD (single-run)\"},\"renderers\":[{\"id\":\"94d1e573-2d89-46cf-be21-7fab4b0fc780\",\"type\":\"GlyphRenderer\"}]},\"id\":\"a21a9842-e13e-4da0-b4a1-9cc690564083\",\"type\":\"LegendItem\"},{\"attributes\":{},\"id\":\"38c3aa98-0334-429d-9d48-17fc42fce9a3\",\"type\":\"UnionRenderers\"},{\"attributes\":{},\"id\":\"9cb951f7-e260-48e9-bbd0-5b944d87cefe\",\"type\":\"UnionRenderers\"},{\"attributes\":{\"callback\":null,\"end\":13.588032473712698,\"start\":-0.3389161750427},\"id\":\"2738ebf3-53d5-483d-9ff2-82adc38bb7c3\",\"type\":\"Range1d\"},{\"attributes\":{},\"id\":\"a21384af-be2d-404b-80e6-3aba5e465e0e\",\"type\":\"BasicTickFormatter\"},{\"attributes\":{\"fill_alpha\":{\"value\":0.1},\"fill_color\":{\"value\":\"#1f77b4\"},\"line_alpha\":{\"value\":0.1},\"line_color\":{\"value\":\"#1f77b4\"},\"x\":{\"field\":\"x\"},\"y\":{\"field\":\"y\"}},\"id\":\"d10c9071-f423-44e9-a5d9-ddc4cc8ef4d4\",\"type\":\"Circle\"},{\"attributes\":{},\"id\":\"856c58b9-731b-429a-889e-f5557394d10c\",\"type\":\"PanTool\"},{\"attributes\":{\"callback\":null,\"data\":{\"x\":{\"__ndarray__\":\"cm1sTMT3VEDEyvjosEJHQOKI6DjzCUNArgQWV9awPkB9Lm8XG3M4QEz+Qv6iYzNA7eV8HaPLLkCX1QHyTpMoQFBmYSYetiNAUB04GtGpH0AmFyVE5j8ZQJca9QPGqBNALJP+OOHHDEBNxaf7QF8AQKtislomWuw/cW2dcO6A9T/uJJvfPu0EQIaQLTI/JQ1AxGiII+PmEkCJvfVeuCsYQD6ZBhGbHB9AXQw69DTYJEAsubcwKucqQNuT9D5OmipAJyi3szEJJUBlNebh5WkgQDDcPHBr2xlArtlANXuQFEBdJadFHckQQI2Avh0ZsQtAjYiwt1rsBUCL0SDoVBgAQK6C0nEEjvc/CggLSme58T9sXU2orFPnP0v0JYz9Gdg/vT38vxYczD9nBQTe6kHHP1IhkEXJwKo/8OZnhCVAub+xtVgCpmqzP6DUpY6g0+k/PKK3T1h4+D8RTDjQc1EAQG/dAQs7TwJAQt2eHpPLAEBWEh074x//PyCap9ZSGf4/rEzaTySm/T+7aXhHRmr9P688KeqeNP0/ruZ4EemD/D8olrZcn9T7P0+vNc9hW/s/i9VVL+4P+z+0NzC24uz6P8731Kza8vo/xFf4SHzq+z+gYyHpvHb8P68ROkiFevw/BAjYdCga/D8AUp8VbW77P3JrF/nKmvo/qCQeGfq++T/dplwHJfn4P2G4p+Uva/g/OzZ0RqMZ+D8dmn/iar73P/OuA7Ka8PY/gaaeQHGn9T9hkyjAH1L0P3aZGhdAU/M/n8VP/g7P8j+90HxHNvfyPwhNBtgrqvk/\",\"dtype\":\"float64\",\"shape\":[75]},\"y\":{\"__ndarray__\":\"GhExyth1ND/Sv8nbtpRIP2vylNV0PVE/aTum7souWD/At0SJ8fVgPw3Iuahxymc/MSNhhJWvcD/bTfBN02d3P2zb5nxnaoA/CD5h5MAGhz8NmeH1TyaQP+zrCsc9p5Y/LbKd76fGnz/bLW5ISEmmPww9YvTcQq8/JV2OstnstT8Er5Y7M8G+P0c+r3jqkcU/5h99k6ZBzj88bCIzFzjVP4enV8oyxN0//yH99nXg5D8qOpLLf0jtP5kqGJXUifQ/c9cS8kHP/D+/DpwzojQEQIEmwoanVwxA4lgXt9HgE0BSSZ2AJuIbQAMJih9jjiNA5q4l5INuK0AwTKYKRj0zQNv5fmq8/DpAaCJseHrtQkB/+zpwzoxKQM3MzMzMeFJAZmZmZmZqWEAAAAAAAFxeQM3MzMzMJmJAmpmZmZkfZUBmZmZmZhhoQDMzMzMzEWtAAAAAAAAKbkBmZmZmZoFwQM3MzMzM/XFAMzMzMzN6c0CamZmZmfZ0QAAAAAAAc3ZAZmZmZmbvd0DNzMzMzGt5QDMzMzMz6HpAmpmZmZlkfEAAAAAAAOF9QGZmZmZmXX9AZmZmZuZsgECamZmZGSuBQM3MzMxM6YFAAAAAAICngkAzMzMzs2WDQGZmZmbmI4RAmpmZmRnihEDNzMzMTKCFQAAAAACAXoZAMzMzM7Mch0BmZmZm5tqHQJqZmZkZmYhAzczMzExXiUAAAAAAgBWKQDMzMzOz04pAZmZmZuaRi0CamZmZGVCMQM3MzMxMDo1AAAAAAIDMjUAzMzMzs4qOQGZmZmbmSI9A\",\"dtype\":\"float64\",\"shape\":[75]}},\"selected\":{\"id\":\"677c9f68-f79d-4583-8d1e-ce87399b4906\",\"type\":\"Selection\"},\"selection_policy\":{\"id\":\"38c3aa98-0334-429d-9d48-17fc42fce9a3\",\"type\":\"UnionRenderers\"}},\"id\":\"77567c44-afdc-48fc-81f5-e09d1b826413\",\"type\":\"ColumnDataSource\"},{\"attributes\":{\"fill_alpha\":{\"value\":0.1},\"fill_color\":{\"value\":\"#1f77b4\"},\"line_alpha\":{\"value\":0.1},\"line_color\":{\"value\":\"#1f77b4\"},\"x\":{\"field\":\"x\"},\"y\":{\"field\":\"y\"}},\"id\":\"c9ebad2e-0099-47d6-a295-e7835d5f783f\",\"type\":\"Square\"},{\"attributes\":{\"fill_alpha\":{\"value\":0.1},\"fill_color\":{\"value\":\"#1f77b4\"},\"line_alpha\":{\"value\":0.1},\"line_color\":{\"value\":\"#1f77b4\"},\"x\":{\"field\":\"x\"},\"y\":{\"field\":\"y\"}},\"id\":\"f25f62af-1ca6-40ae-9eef-04b954c380ac\",\"type\":\"Square\"},{\"attributes\":{},\"id\":\"fb0a1d96-8673-409c-9147-24cbbd027ca1\",\"type\":\"Selection\"},{\"attributes\":{},\"id\":\"76c92ee0-3963-4869-bfe0-2a2a2d53edb2\",\"type\":\"LogScale\"},{\"attributes\":{\"callback\":null,\"data\":{\"x\":{\"__ndarray__\":\"QEr14GpmEsDQUQomvS0TwECOLtAVRQnAyG4E7w1kFUAwCG6K07rzP2jG3ETKaAVAIDSvE8+a1D84WLw0a3bwP8B2CVgEGd6/gAEb8SXj5T+gXWifLPzZv1BIY1h4OdU/gFTeaCAF0r/AU/RFxYvAP0h4oPen7Ly/wKOQ+b0VoD/gKRbxqoK7vwA09+KM5nu/QBvKVo2Xv78AEqWWOp7Ov3BzIslj9ti/gApK0VUU37/gyd0OWm7ov0D75ws5Mua/wIc6h4XW3r+Q48y885XWvwB/tLThVLC/IP++3wZjwr+A8gVsXEm9vwDRmm/daKO/gI3nfaiUkj/AQE7cYBOdv+BkMo6PXa2/AKoyxVLtcD9A4+/aVS+Av6A9GyNwb46/cNIdfcBUiz8AHIdAy8FcP5BuzJoOMok/b2ce0np0pD8UEyzBK56QP8Beg9VHjZ+/gPKVd3D5n7+AD/jI4QOjv8DcwbQ4Uai/AG61+C87or/ASYzDVZqev2D75C8ty6C/ANT1m/xjlb9Ar8iri82Xv0BrLlVYt5W/ABSboWSMa78ghb8UGtelv0BWMP2VTZ2/AMakubnjcr+ACh1oBKqKv0CiEj/MA5G/AADjcuinMj/Ajj/XEoCaPwDwRGmfKYS/AAyIEFfOZj8AItboev6lP1AvBF6BP7c/QN1dRRBwqj9ACvj956WkP8BM5jLOU7A/kB8XOk4Itz8Ay8mloMS8P8Bl77ruFZ4/QHOrAh4hnz8g3sjPVdmmP/C+80esF7A/gAETBSmitD+gbg0US524P7C02mPse7E/\",\"dtype\":\"float64\",\"shape\":[75]},\"y\":{\"__ndarray__\":\"GhExyth1ND/Sv8nbtpRIP2vylNV0PVE/aTum7souWD/At0SJ8fVgPw3Iuahxymc/MSNhhJWvcD/bTfBN02d3P2zb5nxnaoA/CD5h5MAGhz8NmeH1TyaQP+zrCsc9p5Y/LbKd76fGnz/bLW5ISEmmPww9YvTcQq8/JV2OstnstT8Er5Y7M8G+P0c+r3jqkcU/5h99k6ZBzj88bCIzFzjVP4enV8oyxN0//yH99nXg5D8qOpLLf0jtP5kqGJXUifQ/c9cS8kHP/D+/DpwzojQEQIEmwoanVwxA4lgXt9HgE0BSSZ2AJuIbQAMJih9jjiNA5q4l5INuK0AwTKYKRj0zQNv5fmq8/DpAaCJseHrtQkB/+zpwzoxKQM3MzMzMeFJAZmZmZmZqWEAAAAAAAFxeQM3MzMzMJmJAmpmZmZkfZUBmZmZmZhhoQDMzMzMzEWtAAAAAAAAKbkBmZmZmZoFwQM3MzMzM/XFAMzMzMzN6c0CamZmZmfZ0QAAAAAAAc3ZAZmZmZmbvd0DNzMzMzGt5QDMzMzMz6HpAmpmZmZlkfEAAAAAAAOF9QGZmZmZmXX9AZmZmZuZsgECamZmZGSuBQM3MzMxM6YFAAAAAAICngkAzMzMzs2WDQGZmZmbmI4RAmpmZmRnihEDNzMzMTKCFQAAAAACAXoZAMzMzM7Mch0BmZmZm5tqHQJqZmZkZmYhAzczMzExXiUAAAAAAgBWKQDMzMzOz04pAZmZmZuaRi0CamZmZGVCMQM3MzMxMDo1AAAAAAIDMjUAzMzMzs4qOQGZmZmbmSI9A\",\"dtype\":\"float64\",\"shape\":[75]}},\"selected\":{\"id\":\"5a097e7e-266e-4bfd-b7dc-b461509245cd\",\"type\":\"Selection\"},\"selection_policy\":{\"id\":\"47716d51-09d9-4d76-898b-4366ab6bb095\",\"type\":\"UnionRenderers\"}},\"id\":\"eff833c2-3982-40da-8b78-7a228dc8751f\",\"type\":\"ColumnDataSource\"},{\"attributes\":{\"data_source\":{\"id\":\"cdc47277-d792-4dba-bc20-47a4bd66944a\",\"type\":\"ColumnDataSource\"},\"glyph\":{\"id\":\"6105b241-f2b8-47ce-a35b-e9bd5fe40a2b\",\"type\":\"Line\"},\"hover_glyph\":null,\"muted_glyph\":null,\"nonselection_glyph\":{\"id\":\"46039514-1f02-465f-ad62-f60dd096d780\",\"type\":\"Line\"},\"selection_glyph\":null,\"view\":{\"id\":\"db72ff2c-582d-4fa5-98c1-258ac507af12\",\"type\":\"CDSView\"}},\"id\":\"2aae93c3-e990-45fb-b981-b435262d4ab8\",\"type\":\"GlyphRenderer\"},{\"attributes\":{},\"id\":\"823a3f3c-83f7-4603-87d3-36a0126f40c7\",\"type\":\"Selection\"},{\"attributes\":{},\"id\":\"fabf85d8-45e7-43e8-8fc6-710fce36ca6b\",\"type\":\"UnionRenderers\"},{\"attributes\":{\"overlay\":{\"id\":\"1901cf7f-eb9a-4edb-951c-8903d10e3284\",\"type\":\"BoxAnnotation\"}},\"id\":\"f3251c71-f1c3-4edd-914b-0cb0c9ef32a8\",\"type\":\"BoxZoomTool\"},{\"attributes\":{\"line_alpha\":0.1,\"line_color\":\"#1f77b4\",\"line_width\":1.5,\"x\":{\"field\":\"x\"},\"y\":{\"field\":\"y\"}},\"id\":\"46039514-1f02-465f-ad62-f60dd096d780\",\"type\":\"Line\"},{\"attributes\":{\"data_source\":{\"id\":\"976f5c1c-5286-42dd-8912-feffe2a2e3f5\",\"type\":\"ColumnDataSource\"},\"glyph\":{\"id\":\"083c6b8a-731d-46e8-8aed-d6909d25a8be\",\"type\":\"Line\"},\"hover_glyph\":null,\"muted_glyph\":null,\"nonselection_glyph\":{\"id\":\"c1b18c71-a6d1-4fd6-a369-a328fc979f02\",\"type\":\"Line\"},\"selection_glyph\":null,\"view\":{\"id\":\"341a28f7-5e30-41ce-b5f6-686c3b6c6ca9\",\"type\":\"CDSView\"}},\"id\":\"86b29d29-638c-4b83-8b22-46c312447b4a\",\"type\":\"GlyphRenderer\"},{\"attributes\":{},\"id\":\"9b0540b7-423d-4fe4-9969-bc891c6f7996\",\"type\":\"BasicTickFormatter\"},{\"attributes\":{},\"id\":\"fdd444e9-7c2e-44ca-9eee-2f817b65ca86\",\"type\":\"HelpTool\"},{\"attributes\":{\"callback\":null,\"data\":{\"x\":{\"__ndarray__\":\"zhhdnl3RU0CKgDdE+dxEQP6f5duhdUFAMJBr6ewEQkAADxZQyK45QBmX3ka8EDZAjl8alnlwL0CeYJlYHKIqQJoaoQNWxSJAwL4t7BozIUBMkS56I6AXQBxPe4ld/BRAnMjiKz2HCkCJCgdQ/WcBQKJTvluRvOg/j/JpYJwB9j+fcxKIKREEQOwUvOtLFw1AV0At7oRoEkD5lECKxjYXQAdydNQ0jR1ACbyvRZLfI0CO3MmPRGApQCcUNq4qNylA6VN9h30SJECRnP+HbGofQDQKaukXmhlAteFC/mL9E0CTDffT91MQQEkVAKh1YwtAqFesCIQRBkATatBMXLz/P4fvYPUXo/Y/tDrQnFTK8T/fneFQ7xLnP14aDQuCJtc/5BrOx2LRzT+fE4V0bnvHP3ueIXamhrA/cWaxNtALrr92uqPyMJK3P6q5+U821+g/ckrZjXL49z/TaxRJZAUAQPzVLij27QFAige8XqaCAEAv4Q7keaX+P0VyKG35kv0/XHVqXZRQ/T/+RskYEAv9PwKD1IjB3fw/JBko3yJ2/D//mRCM5iX7P/btQHcr5vo/xTCcdQr9+j+f/V+tjrf6P0Wt2HvLrvo/9IV/x6br+z/bYX40veD8P8+HZwkyUvw/CkxgoI8l/D8QA+bsYB78P2eu9w7DDvw/khNJm3qS+j8vZ0xHVJ75Py0d1shscPk/NKgVKiiK+T/NNtzstIr5P4ps72zyaPc/TlSpuPUj9j9S2qZu6gj1P2XVmdu6VPQ/t/WgjjEZ9D+np734CoH0P1P4Q57qwfo/\",\"dtype\":\"float64\",\"shape\":[75]},\"y\":{\"__ndarray__\":\"hLndy31yND/6fmq8dJNIP8n9DkWBPlE/aDum7souWD/b4a/JGvVgP9f34SAhymc/ZvM4DOavcD+z0M5pFmh3PxuC4zJuaoA/xjcUPlsHhz8uHAjJAiaQP9ieWRKgppY/oI7HDFTGnz+a5h2n6EimPzS6g9iZQq8/IuAQqtTstT9SSZ2AJsK+P4nS3uALk8U/ih9j7lpCzj+ASL99HTjVP4enV8oyxN0/ACL99nXg5D9fmEwVjErtPyUGgZVDi/Q/AiuHFtnO/D9OYhBYOTQEQPHSTWIQWAxA4XoUrkfhE0D8qfHSTeIbQMh2vp8ajyNArkfhehRuK0Bcj8L1KDwzQFyPwvUo/DpAPgrXo3DtQkDNzMzMzIxKQClcj8L1eFJAKVyPwvVoWECamZmZmVleQGZmZmZmJmJAAAAAAAAgZUCamZmZmRloQJqZmZmZEWtAmpmZmZkJbkCamZmZmYFwQGZmZmZm/nFAZmZmZmZ6c0BmZmZmZvZ0QDQzMzMzc3ZAAAAAAADwd0AAAAAAAGx5QAAAAAAA6HpAzMzMzMxkfEDMzMzMzOB9QM3MzMzMXH9AzczMzMxsgEAzMzMzMyuBQDMzMzMz6YFAMzMzMzOngkCamZmZmWWDQAAAAAAAJIRAAAAAAADihEAAAAAAAKCFQGZmZmZmXoZAzczMzMwch0DNzMzMzNqHQM3MzMzMmIhAMzMzMzNXiUCamZmZmRWKQAAAAAAA1IpAAAAAAACSi0AAAAAAAFCMQGZmZmZmDo1AzczMzMzMjUDNzMzMzIqOQM3MzMzMSI9A\",\"dtype\":\"float64\",\"shape\":[75]}},\"selected\":{\"id\":\"4a4ca428-db9c-4966-ab89-fcc1fb62927c\",\"type\":\"Selection\"},\"selection_policy\":{\"id\":\"9cb951f7-e260-48e9-bbd0-5b944d87cefe\",\"type\":\"UnionRenderers\"}},\"id\":\"cdc47277-d792-4dba-bc20-47a4bd66944a\",\"type\":\"ColumnDataSource\"},{\"attributes\":{\"axis_label\":\"cooling rate [K/day]\",\"formatter\":{\"id\":\"a21384af-be2d-404b-80e6-3aba5e465e0e\",\"type\":\"BasicTickFormatter\"},\"plot\":{\"id\":\"f3df2a22-c2f1-43ad-870e-59fae185e589\",\"subtype\":\"Figure\",\"type\":\"Plot\"},\"ticker\":{\"id\":\"6c46641c-aca3-4dcd-b264-0e094987b24c\",\"type\":\"BasicTicker\"}},\"id\":\"4108276b-8c5c-43ab-92c7-8f16f451e7c4\",\"type\":\"LinearAxis\"},{\"attributes\":{\"callback\":null,\"data\":{\"x\":{\"__ndarray__\":\"zhhdnl3RU0CKgDdE+dxEQP6f5duhdUFAMJBr6ewEQkAADxZQyK45QBmX3ka8EDZAjl8alnlwL0CeYJlYHKIqQJoaoQNWxSJAwL4t7BozIUBMkS56I6AXQBxPe4ld/BRAnMjiKz2HCkCJCgdQ/WcBQKJTvluRvOg/j/JpYJwB9j+fcxKIKREEQOwUvOtLFw1AV0At7oRoEkD5lECKxjYXQAdydNQ0jR1ACbyvRZLfI0CO3MmPRGApQCcUNq4qNylA6VN9h30SJECRnP+HbGofQDQKaukXmhlAteFC/mL9E0CTDffT91MQQEkVAKh1YwtAqFesCIQRBkATatBMXLz/P4fvYPUXo/Y/tDrQnFTK8T/fneFQ7xLnP14aDQuCJtc/5BrOx2LRzT+fE4V0bnvHP3ueIXamhrA/cWaxNtALrr92uqPyMJK3P6q5+U821+g/ckrZjXL49z/TaxRJZAUAQPzVLij27QFAige8XqaCAEAv4Q7keaX+P0VyKG35kv0/XHVqXZRQ/T/+RskYEAv9PwKD1IjB3fw/JBko3yJ2/D//mRCM5iX7P/btQHcr5vo/xTCcdQr9+j+f/V+tjrf6P0Wt2HvLrvo/9IV/x6br+z/bYX40veD8P8+HZwkyUvw/CkxgoI8l/D8QA+bsYB78P2eu9w7DDvw/khNJm3qS+j8vZ0xHVJ75Py0d1shscPk/NKgVKiiK+T/NNtzstIr5P4ps72zyaPc/TlSpuPUj9j9S2qZu6gj1P2XVmdu6VPQ/t/WgjjEZ9D+np734CoH0P1P4Q57qwfo/\",\"dtype\":\"float64\",\"shape\":[75]},\"y\":{\"__ndarray__\":\"hLndy31yND/6fmq8dJNIP8n9DkWBPlE/aDum7souWD/b4a/JGvVgP9f34SAhymc/ZvM4DOavcD+z0M5pFmh3PxuC4zJuaoA/xjcUPlsHhz8uHAjJAiaQP9ieWRKgppY/oI7HDFTGnz+a5h2n6EimPzS6g9iZQq8/IuAQqtTstT9SSZ2AJsK+P4nS3uALk8U/ih9j7lpCzj+ASL99HTjVP4enV8oyxN0/ACL99nXg5D9fmEwVjErtPyUGgZVDi/Q/AiuHFtnO/D9OYhBYOTQEQPHSTWIQWAxA4XoUrkfhE0D8qfHSTeIbQMh2vp8ajyNArkfhehRuK0Bcj8L1KDwzQFyPwvUo/DpAPgrXo3DtQkDNzMzMzIxKQClcj8L1eFJAKVyPwvVoWECamZmZmVleQGZmZmZmJmJAAAAAAAAgZUCamZmZmRloQJqZmZmZEWtAmpmZmZkJbkCamZmZmYFwQGZmZmZm/nFAZmZmZmZ6c0BmZmZmZvZ0QDQzMzMzc3ZAAAAAAADwd0AAAAAAAGx5QAAAAAAA6HpAzMzMzMxkfEDMzMzMzOB9QM3MzMzMXH9AzczMzMxsgEAzMzMzMyuBQDMzMzMz6YFAMzMzMzOngkCamZmZmWWDQAAAAAAAJIRAAAAAAADihEAAAAAAAKCFQGZmZmZmXoZAzczMzMwch0DNzMzMzNqHQM3MzMzMmIhAMzMzMzNXiUCamZmZmRWKQAAAAAAA1IpAAAAAAACSi0AAAAAAAFCMQGZmZmZmDo1AzczMzMzMjUDNzMzMzIqOQM3MzMzMSI9A\",\"dtype\":\"float64\",\"shape\":[75]}},\"selected\":{\"id\":\"cbb66b8d-0dbb-44f5-948a-c3b34ed478aa\",\"type\":\"Selection\"},\"selection_policy\":{\"id\":\"e1341eec-da63-4da0-b9bb-e9366fd7d054\",\"type\":\"UnionRenderers\"}},\"id\":\"54af3721-e9d5-4327-aa28-b2b3355ca677\",\"type\":\"ColumnDataSource\"},{\"attributes\":{\"data_source\":{\"id\":\"3b667077-562a-4665-ad2a-a76818e40015\",\"type\":\"ColumnDataSource\"},\"glyph\":{\"id\":\"e3837c78-b240-498b-8105-ba87cacf2c58\",\"type\":\"Line\"},\"hover_glyph\":null,\"muted_glyph\":null,\"nonselection_glyph\":{\"id\":\"8afb3534-312b-450b-bef1-69434d509d80\",\"type\":\"Line\"},\"selection_glyph\":null,\"view\":{\"id\":\"7c354446-26d4-482d-9076-6a09cdaf1ae1\",\"type\":\"CDSView\"}},\"id\":\"0d64dea6-97c9-4e13-a7bb-a6692c7830e2\",\"type\":\"GlyphRenderer\"},{\"attributes\":{\"source\":{\"id\":\"cdc47277-d792-4dba-bc20-47a4bd66944a\",\"type\":\"ColumnDataSource\"}},\"id\":\"db72ff2c-582d-4fa5-98c1-258ac507af12\",\"type\":\"CDSView\"},{\"attributes\":{\"label\":{\"value\":\"CRD\"},\"renderers\":[{\"id\":\"b47f5f5c-6020-4086-a174-c0933b4eb0bc\",\"type\":\"GlyphRenderer\"},{\"id\":\"09b865c4-559e-47f0-8d09-45dc7285d63e\",\"type\":\"GlyphRenderer\"}]},\"id\":\"926003fc-9389-4c4a-bb0c-b44f2de95734\",\"type\":\"LegendItem\"},{\"attributes\":{\"items\":[{\"id\":\"7a9b39c6-752e-4020-89fb-1ca3e13cfeeb\",\"type\":\"LegendItem\"},{\"id\":\"e36d3acb-65f7-4193-a65a-74b8c2f6f184\",\"type\":\"LegendItem\"},{\"id\":\"4c523458-f8b5-4d22-aca1-f77d45058814\",\"type\":\"LegendItem\"}],\"label_text_font_size\":{\"value\":\"8pt\"},\"location\":\"top_center\",\"orientation\":\"horizontal\",\"plot\":{\"id\":\"f3df2a22-c2f1-43ad-870e-59fae185e589\",\"subtype\":\"Figure\",\"type\":\"Plot\"}},\"id\":\"b4448a18-b464-433b-acd0-04ea8254b371\",\"type\":\"Legend\"},{\"attributes\":{},\"id\":\"a360953e-42b2-445d-85ca-9c2a76600290\",\"type\":\"SaveTool\"},{\"attributes\":{},\"id\":\"96bb5957-fbe6-4f0a-bf66-b98cc75ea9b7\",\"type\":\"UnionRenderers\"},{\"attributes\":{\"label\":{\"value\":\"old CLIRAD (H2012)\"},\"renderers\":[{\"id\":\"1e3501cc-0d48-424c-a1f4-3d190f477d0e\",\"type\":\"GlyphRenderer\"},{\"id\":\"2aae93c3-e990-45fb-b981-b435262d4ab8\",\"type\":\"GlyphRenderer\"}]},\"id\":\"7b3d07d5-6515-4f9d-b937-4fa6ebf78955\",\"type\":\"LegendItem\"},{\"attributes\":{\"line_alpha\":0.1,\"line_color\":\"#1f77b4\",\"line_width\":1.5,\"x\":{\"field\":\"x\"},\"y\":{\"field\":\"y\"}},\"id\":\"c1b18c71-a6d1-4fd6-a369-a328fc979f02\",\"type\":\"Line\"},{\"attributes\":{\"source\":{\"id\":\"fd7af4c0-bdec-4ac5-ade7-eed84dd4de99\",\"type\":\"ColumnDataSource\"}},\"id\":\"5f95091c-fdf1-43d5-af76-59a2e361c993\",\"type\":\"CDSView\"},{\"attributes\":{\"callback\":null,\"data\":{\"x\":{\"__ndarray__\":\"lDpM1XQXRMAFF6ZxNa0gwHCnHAXUbgLAKtQ1wYrC/D9FxtulFmEOQP5YslfSxA5AOKODYVMWBEBdIJ52wwXlPzFnm7hs1em/XLMviZjm9b9CnYpB15jxv0RIuQD5Y9+/RovD2MA/rz8D29G5z3TZP/bN869g5N4/UIntTu370z90ZO9+bnufP8RcFGbU3dC/p2A/DuxB4L8AhfElsKrgv1qifCEi7dG/yF1QcoDrc79nWaOxprapvwAe3KirqNO/TSo9cdE017+0H9YJvPmwv3m3mG05hdg/uF6cSI1B1z86OJjzYG23P8mWdwcliZU/edt6OD+20D883fr0jWjVP/dRHDnkS8M/ZCxaOrtXoL8RhiuHFydNPyQDWws3aqw/cD606fgKbD9wP8a8agOuvxMVoMpr6re/uoDE49yOur+4l7ODLuO2v3DupXnxc7G/scCujP5wsL8LZ7lngiCgv8/ThvJxmLe/Zl6ZTacuub8zRPpn3ousv3TXeXViva+/yps8kfALtL9cbNQ5eSezv4QRSAhS/6u/ojl1gJ7jor9bqkPH8nKYv4bBtdG/r5S/z6BuIBwslL90FF8iG56Yv4oVwYqSWpq/C4TZMyyHkr+86Lga2ZVmP1dz/igVTaE/R4eQWU9LrT9n+cgSB9yuP1KuINXJfKY/w3Dyf6jrlz9YbuOyNdJuP3g9cQdJ4mY/7I7HpHBRhj+TQwjrpmSgPxMl+cjoq6k/NFQbVbNysD/on6H+AbayPwVnbS0s7LM/pHSa0J6utD9pY2MleFi1P3cTYzZUzrQ/\",\"dtype\":\"float64\",\"shape\":[75]},\"y\":{\"__ndarray__\":\"GhExyth1ND/Sv8nbtpRIP2vylNV0PVE/aTum7souWD/At0SJ8fVgPw3Iuahxymc/MSNhhJWvcD/bTfBN02d3P2zb5nxnaoA/CD5h5MAGhz8NmeH1TyaQP+zrCsc9p5Y/LbKd76fGnz/bLW5ISEmmPww9YvTcQq8/JV2OstnstT8Er5Y7M8G+P0c+r3jqkcU/5h99k6ZBzj88bCIzFzjVP4enV8oyxN0//yH99nXg5D8qOpLLf0jtP5kqGJXUifQ/c9cS8kHP/D+/DpwzojQEQIEmwoanVwxA4lgXt9HgE0BSSZ2AJuIbQAMJih9jjiNA5q4l5INuK0AwTKYKRj0zQNv5fmq8/DpAaCJseHrtQkB/+zpwzoxKQM3MzMzMeFJAZmZmZmZqWEAAAAAAAFxeQM3MzMzMJmJAmpmZmZkfZUBmZmZmZhhoQDMzMzMzEWtAAAAAAAAKbkBmZmZmZoFwQM3MzMzM/XFAMzMzMzN6c0CamZmZmfZ0QAAAAAAAc3ZAZmZmZmbvd0DNzMzMzGt5QDMzMzMz6HpAmpmZmZlkfEAAAAAAAOF9QGZmZmZmXX9AZmZmZuZsgECamZmZGSuBQM3MzMxM6YFAAAAAAICngkAzMzMzs2WDQGZmZmbmI4RAmpmZmRnihEDNzMzMTKCFQAAAAACAXoZAMzMzM7Mch0BmZmZm5tqHQJqZmZkZmYhAzczMzExXiUAAAAAAgBWKQDMzMzOz04pAZmZmZuaRi0CamZmZGVCMQM3MzMxMDo1AAAAAAIDMjUAzMzMzs4qOQGZmZmbmSI9A\",\"dtype\":\"float64\",\"shape\":[75]}},\"selected\":{\"id\":\"ae9e509d-f68f-4d25-88db-f34fee2a7c91\",\"type\":\"Selection\"},\"selection_policy\":{\"id\":\"fabf85d8-45e7-43e8-8fc6-710fce36ca6b\",\"type\":\"UnionRenderers\"}},\"id\":\"81fd5425-61c3-45f1-8c12-923655c54f48\",\"type\":\"ColumnDataSource\"},{\"attributes\":{},\"id\":\"a296a9c0-a5bd-4ac9-b339-72fd050796f6\",\"type\":\"LinearScale\"},{\"attributes\":{\"label\":{\"value\":\"CLIRAD (single-run)\"},\"renderers\":[{\"id\":\"a11211a8-a7c3-46d9-bbde-63a128f0d189\",\"type\":\"GlyphRenderer\"}]},\"id\":\"7a9b39c6-752e-4020-89fb-1ca3e13cfeeb\",\"type\":\"LegendItem\"},{\"attributes\":{},\"id\":\"7676ffe5-a37c-4344-91ff-583433b46192\",\"type\":\"UnionRenderers\"},{\"attributes\":{},\"id\":\"89930f10-fc58-40c7-a4cf-5d460c1e2ba6\",\"type\":\"UnionRenderers\"},{\"attributes\":{\"callback\":null,\"data\":{\"x\":{\"__ndarray__\":\"zhhdnl3RU0CKgDdE+dxEQP6f5duhdUFAMJBr6ewEQkAADxZQyK45QBmX3ka8EDZAjl8alnlwL0CeYJlYHKIqQJoaoQNWxSJAwL4t7BozIUBMkS56I6AXQBxPe4ld/BRAnMjiKz2HCkCJCgdQ/WcBQKJTvluRvOg/j/JpYJwB9j+fcxKIKREEQOwUvOtLFw1AV0At7oRoEkD5lECKxjYXQAdydNQ0jR1ACbyvRZLfI0CO3MmPRGApQCcUNq4qNylA6VN9h30SJECRnP+HbGofQDQKaukXmhlAteFC/mL9E0CTDffT91MQQEkVAKh1YwtAqFesCIQRBkATatBMXLz/P4fvYPUXo/Y/tDrQnFTK8T/fneFQ7xLnP14aDQuCJtc/5BrOx2LRzT+fE4V0bnvHP3ueIXamhrA/cWaxNtALrr92uqPyMJK3P6q5+U821+g/ckrZjXL49z/TaxRJZAUAQPzVLij27QFAige8XqaCAEAv4Q7keaX+P0VyKG35kv0/XHVqXZRQ/T/+RskYEAv9PwKD1IjB3fw/JBko3yJ2/D//mRCM5iX7P/btQHcr5vo/xTCcdQr9+j+f/V+tjrf6P0Wt2HvLrvo/9IV/x6br+z/bYX40veD8P8+HZwkyUvw/CkxgoI8l/D8QA+bsYB78P2eu9w7DDvw/khNJm3qS+j8vZ0xHVJ75Py0d1shscPk/NKgVKiiK+T/NNtzstIr5P4ps72zyaPc/TlSpuPUj9j9S2qZu6gj1P2XVmdu6VPQ/t/WgjjEZ9D+np734CoH0P1P4Q57qwfo/\",\"dtype\":\"float64\",\"shape\":[75]},\"y\":{\"__ndarray__\":\"hLndy31yND/6fmq8dJNIP8n9DkWBPlE/aDum7souWD/b4a/JGvVgP9f34SAhymc/ZvM4DOavcD+z0M5pFmh3PxuC4zJuaoA/xjcUPlsHhz8uHAjJAiaQP9ieWRKgppY/oI7HDFTGnz+a5h2n6EimPzS6g9iZQq8/IuAQqtTstT9SSZ2AJsK+P4nS3uALk8U/ih9j7lpCzj+ASL99HTjVP4enV8oyxN0/ACL99nXg5D9fmEwVjErtPyUGgZVDi/Q/AiuHFtnO/D9OYhBYOTQEQPHSTWIQWAxA4XoUrkfhE0D8qfHSTeIbQMh2vp8ajyNArkfhehRuK0Bcj8L1KDwzQFyPwvUo/DpAPgrXo3DtQkDNzMzMzIxKQClcj8L1eFJAKVyPwvVoWECamZmZmVleQGZmZmZmJmJAAAAAAAAgZUCamZmZmRloQJqZmZmZEWtAmpmZmZkJbkCamZmZmYFwQGZmZmZm/nFAZmZmZmZ6c0BmZmZmZvZ0QDQzMzMzc3ZAAAAAAADwd0AAAAAAAGx5QAAAAAAA6HpAzMzMzMxkfEDMzMzMzOB9QM3MzMzMXH9AzczMzMxsgEAzMzMzMyuBQDMzMzMz6YFAMzMzMzOngkCamZmZmWWDQAAAAAAAJIRAAAAAAADihEAAAAAAAKCFQGZmZmZmXoZAzczMzMwch0DNzMzMzNqHQM3MzMzMmIhAMzMzMzNXiUCamZmZmRWKQAAAAAAA1IpAAAAAAACSi0AAAAAAAFCMQGZmZmZmDo1AzczMzMzMjUDNzMzMzIqOQM3MzMzMSI9A\",\"dtype\":\"float64\",\"shape\":[75]}},\"selected\":{\"id\":\"e448db36-b186-4551-9b2a-0cae4f726fb3\",\"type\":\"Selection\"},\"selection_policy\":{\"id\":\"0abd48c4-ffa9-4982-82ef-4123b797da47\",\"type\":\"UnionRenderers\"}},\"id\":\"70040d48-c7b3-43c9-81f2-593595c1c111\",\"type\":\"ColumnDataSource\"},{\"attributes\":{\"line_alpha\":0.8,\"line_color\":\"#984ea3\",\"line_width\":1.5,\"x\":{\"field\":\"x\"},\"y\":{\"field\":\"y\"}},\"id\":\"79961383-b2ea-49a1-8fb0-114afe98662f\",\"type\":\"Line\"},{\"attributes\":{\"line_alpha\":0.5,\"line_color\":\"#377eb8\",\"line_dash\":[6],\"line_width\":4,\"x\":{\"field\":\"x\"},\"y\":{\"field\":\"y\"}},\"id\":\"277b522c-4f94-4b48-9f60-3261eeaa4293\",\"type\":\"Line\"},{\"attributes\":{\"data_source\":{\"id\":\"5c9d8374-ea1e-42e1-a519-bb7afdf53bef\",\"type\":\"ColumnDataSource\"},\"glyph\":{\"id\":\"7078076c-772a-4d28-b096-6e4e060a169a\",\"type\":\"Circle\"},\"hover_glyph\":null,\"muted_glyph\":null,\"nonselection_glyph\":{\"id\":\"d10c9071-f423-44e9-a5d9-ddc4cc8ef4d4\",\"type\":\"Circle\"},\"selection_glyph\":null,\"view\":{\"id\":\"8aced99c-20dd-4ec8-8652-69c647ed3cd0\",\"type\":\"CDSView\"}},\"id\":\"74cbfe2b-dbb4-4da3-bcd3-848edf0ec44a\",\"type\":\"GlyphRenderer\"},{\"attributes\":{\"plot\":null,\"text\":\"\"},\"id\":\"7793d4c1-99ff-417a-bbed-c12576329806\",\"type\":\"Title\"},{\"attributes\":{\"fill_alpha\":{\"value\":0.7},\"fill_color\":{\"value\":\"#984ea3\"},\"line_alpha\":{\"value\":0.7},\"line_color\":{\"value\":\"#984ea3\"},\"x\":{\"field\":\"x\"},\"y\":{\"field\":\"y\"}},\"id\":\"a7a9af4b-e944-4ec5-ba90-0c178f97bbe7\",\"type\":\"Square\"},{\"attributes\":{},\"id\":\"b9aabb5b-87d0-4be6-beac-a27d08dbf849\",\"type\":\"Selection\"},{\"attributes\":{\"source\":{\"id\":\"70040d48-c7b3-43c9-81f2-593595c1c111\",\"type\":\"ColumnDataSource\"}},\"id\":\"2d3b0dec-7d7e-496c-af9c-58799f9a88ed\",\"type\":\"CDSView\"},{\"attributes\":{\"label\":{\"value\":\"CRD\"},\"renderers\":[{\"id\":\"74cbfe2b-dbb4-4da3-bcd3-848edf0ec44a\",\"type\":\"GlyphRenderer\"},{\"id\":\"86b29d29-638c-4b83-8b22-46c312447b4a\",\"type\":\"GlyphRenderer\"}]},\"id\":\"e36d3acb-65f7-4193-a65a-74b8c2f6f184\",\"type\":\"LegendItem\"},{\"attributes\":{\"above\":[{\"id\":\"b4448a18-b464-433b-acd0-04ea8254b371\",\"type\":\"Legend\"}],\"below\":[{\"id\":\"4108276b-8c5c-43ab-92c7-8f16f451e7c4\",\"type\":\"LinearAxis\"}],\"left\":[{\"id\":\"3dc5dd17-6643-4b72-aea0-d94981a7df06\",\"type\":\"LogAxis\"}],\"plot_width\":300,\"renderers\":[{\"id\":\"4108276b-8c5c-43ab-92c7-8f16f451e7c4\",\"type\":\"LinearAxis\"},{\"id\":\"e9213601-8f46-4d56-99f9-284139d387ab\",\"type\":\"Grid\"},{\"id\":\"3dc5dd17-6643-4b72-aea0-d94981a7df06\",\"type\":\"LogAxis\"},{\"id\":\"a40f5730-a373-45c3-bdd7-3cad1fcbac9b\",\"type\":\"Grid\"},{\"id\":\"8f8cdda6-0599-4279-b0fb-d0ba6a45ed72\",\"type\":\"BoxAnnotation\"},{\"id\":\"a11211a8-a7c3-46d9-bbde-63a128f0d189\",\"type\":\"GlyphRenderer\"},{\"id\":\"74cbfe2b-dbb4-4da3-bcd3-848edf0ec44a\",\"type\":\"GlyphRenderer\"},{\"id\":\"86b29d29-638c-4b83-8b22-46c312447b4a\",\"type\":\"GlyphRenderer\"},{\"id\":\"7f7ecb15-1b8a-433d-9196-ca49c98837bf\",\"type\":\"GlyphRenderer\"},{\"id\":\"0d64dea6-97c9-4e13-a7bb-a6692c7830e2\",\"type\":\"GlyphRenderer\"},{\"id\":\"b4448a18-b464-433b-acd0-04ea8254b371\",\"type\":\"Legend\"}],\"title\":{\"id\":\"74f87617-1420-46e2-9908-c8cbdfc3356b\",\"type\":\"Title\"},\"toolbar\":{\"id\":\"7a865f7d-144c-40c5-af6f-8bd03bea41c9\",\"type\":\"Toolbar\"},\"toolbar_location\":null,\"x_range\":{\"id\":\"2738ebf3-53d5-483d-9ff2-82adc38bb7c3\",\"type\":\"Range1d\"},\"x_scale\":{\"id\":\"a296a9c0-a5bd-4ac9-b339-72fd050796f6\",\"type\":\"LinearScale\"},\"y_range\":{\"id\":\"cc9c0e74-e0f2-4962-8e71-fd2c64448305\",\"type\":\"Range1d\"},\"y_scale\":{\"id\":\"76c92ee0-3963-4869-bfe0-2a2a2d53edb2\",\"type\":\"LogScale\"}},\"id\":\"f3df2a22-c2f1-43ad-870e-59fae185e589\",\"subtype\":\"Figure\",\"type\":\"Plot\"},{\"attributes\":{\"line_alpha\":0.5,\"line_color\":\"#984ea3\",\"line_width\":1.5,\"x\":{\"field\":\"x\"},\"y\":{\"field\":\"y\"}},\"id\":\"6105b241-f2b8-47ce-a35b-e9bd5fe40a2b\",\"type\":\"Line\"},{\"attributes\":{\"source\":{\"id\":\"3b667077-562a-4665-ad2a-a76818e40015\",\"type\":\"ColumnDataSource\"}},\"id\":\"7c354446-26d4-482d-9076-6a09cdaf1ae1\",\"type\":\"CDSView\"},{\"attributes\":{\"source\":{\"id\":\"eff833c2-3982-40da-8b78-7a228dc8751f\",\"type\":\"ColumnDataSource\"}},\"id\":\"0f6da540-69cc-48c1-bec6-e4be87af8927\",\"type\":\"CDSView\"},{\"attributes\":{},\"id\":\"cbb66b8d-0dbb-44f5-948a-c3b34ed478aa\",\"type\":\"Selection\"},{\"attributes\":{\"line_alpha\":0.1,\"line_color\":\"#1f77b4\",\"line_width\":1.5,\"x\":{\"field\":\"x\"},\"y\":{\"field\":\"y\"}},\"id\":\"90bdd617-4ca8-4a60-9ba2-52d34a00408b\",\"type\":\"Line\"},{\"attributes\":{\"ticker\":null},\"id\":\"579aabf8-9cb3-49b0-8f0a-54e20fe68668\",\"type\":\"LogTickFormatter\"},{\"attributes\":{\"fill_alpha\":{\"value\":0.7},\"fill_color\":{\"value\":\"#4daf4a\"},\"line_alpha\":{\"value\":0.7},\"line_color\":{\"value\":\"#4daf4a\"},\"x\":{\"field\":\"x\"},\"y\":{\"field\":\"y\"}},\"id\":\"7078076c-772a-4d28-b096-6e4e060a169a\",\"type\":\"Circle\"},{\"attributes\":{\"line_color\":\"#4daf4a\",\"line_width\":1.5,\"x\":{\"field\":\"x\"},\"y\":{\"field\":\"y\"}},\"id\":\"b946b31c-6650-477d-8a72-7de3982206f2\",\"type\":\"Line\"},{\"attributes\":{\"children\":[{\"id\":\"c0804772-3a71-4e5a-b55a-e3ed5404508d\",\"type\":\"Row\"}]},\"id\":\"8728c56f-c1a4-4032-95ee-1a8d2dcd2afd\",\"type\":\"Column\"},{\"attributes\":{},\"id\":\"47716d51-09d9-4d76-898b-4366ab6bb095\",\"type\":\"UnionRenderers\"},{\"attributes\":{\"data_source\":{\"id\":\"77567c44-afdc-48fc-81f5-e09d1b826413\",\"type\":\"ColumnDataSource\"},\"glyph\":{\"id\":\"1231f46e-9494-4cb5-bb6c-aad3b06bc2b2\",\"type\":\"Circle\"},\"hover_glyph\":null,\"muted_glyph\":null,\"nonselection_glyph\":{\"id\":\"47c4760d-f2f6-47a9-9e6e-9cd3d3c00aca\",\"type\":\"Circle\"},\"selection_glyph\":null,\"view\":{\"id\":\"263e86fd-b2c3-4fed-8fcd-49240f880f8c\",\"type\":\"CDSView\"}},\"id\":\"b47f5f5c-6020-4086-a174-c0933b4eb0bc\",\"type\":\"GlyphRenderer\"},{\"attributes\":{\"source\":{\"id\":\"81fd5425-61c3-45f1-8c12-923655c54f48\",\"type\":\"ColumnDataSource\"}},\"id\":\"7e56a541-8488-4a24-bb82-cc636a2c682e\",\"type\":\"CDSView\"},{\"attributes\":{\"active_drag\":\"auto\",\"active_inspect\":\"auto\",\"active_scroll\":\"auto\",\"active_tap\":\"auto\",\"tools\":[{\"id\":\"25ff55d2-55f1-4c86-8da0-e8bbfa810beb\",\"type\":\"PanTool\"},{\"id\":\"c74f9e32-16fa-4f78-a914-f39831555e4b\",\"type\":\"WheelZoomTool\"},{\"id\":\"2c055fa2-9739-4d70-9e10-e4ae2dabcae0\",\"type\":\"BoxZoomTool\"},{\"id\":\"bc946170-e3e5-42a2-97ec-9161b7414db7\",\"type\":\"SaveTool\"},{\"id\":\"2efb01c2-d55f-454a-817a-840a36572a92\",\"type\":\"ResetTool\"},{\"id\":\"a64e1053-9ae5-44a1-a53e-c7547766c17d\",\"type\":\"HelpTool\"}]},\"id\":\"7a865f7d-144c-40c5-af6f-8bd03bea41c9\",\"type\":\"Toolbar\"},{\"attributes\":{\"data_source\":{\"id\":\"81fd5425-61c3-45f1-8c12-923655c54f48\",\"type\":\"ColumnDataSource\"},\"glyph\":{\"id\":\"b48139d5-0726-41a9-98e1-975ef0dbe025\",\"type\":\"Circle\"},\"hover_glyph\":null,\"muted_glyph\":null,\"nonselection_glyph\":{\"id\":\"4f6c0161-cb5f-4dc6-b9eb-fb2d1674fdaf\",\"type\":\"Circle\"},\"selection_glyph\":null,\"view\":{\"id\":\"7e56a541-8488-4a24-bb82-cc636a2c682e\",\"type\":\"CDSView\"}},\"id\":\"2a305cb2-0c70-4201-aedc-50a30ff570eb\",\"type\":\"GlyphRenderer\"},{\"attributes\":{},\"id\":\"07b06eb5-b1dc-4f1b-9fe1-525d3a8576d6\",\"type\":\"LinearScale\"},{\"attributes\":{\"data_source\":{\"id\":\"54af3721-e9d5-4327-aa28-b2b3355ca677\",\"type\":\"ColumnDataSource\"},\"glyph\":{\"id\":\"a7a9af4b-e944-4ec5-ba90-0c178f97bbe7\",\"type\":\"Square\"},\"hover_glyph\":null,\"muted_glyph\":null,\"nonselection_glyph\":{\"id\":\"f25f62af-1ca6-40ae-9eef-04b954c380ac\",\"type\":\"Square\"},\"selection_glyph\":null,\"view\":{\"id\":\"45cb3036-868d-4733-9a64-3d95fb2a7ab5\",\"type\":\"CDSView\"}},\"id\":\"7f7ecb15-1b8a-433d-9196-ca49c98837bf\",\"type\":\"GlyphRenderer\"},{\"attributes\":{\"data_source\":{\"id\":\"70040d48-c7b3-43c9-81f2-593595c1c111\",\"type\":\"ColumnDataSource\"},\"glyph\":{\"id\":\"e0aef619-4ae6-42a0-8560-64b7c963530e\",\"type\":\"Square\"},\"hover_glyph\":null,\"muted_glyph\":null,\"nonselection_glyph\":{\"id\":\"c9ebad2e-0099-47d6-a295-e7835d5f783f\",\"type\":\"Square\"},\"selection_glyph\":null,\"view\":{\"id\":\"2d3b0dec-7d7e-496c-af9c-58799f9a88ed\",\"type\":\"CDSView\"}},\"id\":\"1e3501cc-0d48-424c-a1f4-3d190f477d0e\",\"type\":\"GlyphRenderer\"},{\"attributes\":{\"fill_alpha\":{\"value\":0.1},\"fill_color\":{\"value\":\"#1f77b4\"},\"line_alpha\":{\"value\":0.1},\"line_color\":{\"value\":\"#1f77b4\"},\"x\":{\"field\":\"x\"},\"y\":{\"field\":\"y\"}},\"id\":\"47c4760d-f2f6-47a9-9e6e-9cd3d3c00aca\",\"type\":\"Circle\"},{\"attributes\":{\"callback\":null,\"data\":{\"x\":{\"__ndarray__\":\"cm1sTMT3VEDEyvjosEJHQOKI6DjzCUNArgQWV9awPkB9Lm8XG3M4QEz+Qv6iYzNA7eV8HaPLLkCX1QHyTpMoQFBmYSYetiNAUB04GtGpH0AmFyVE5j8ZQJca9QPGqBNALJP+OOHHDEBNxaf7QF8AQKtislomWuw/cW2dcO6A9T/uJJvfPu0EQIaQLTI/JQ1AxGiII+PmEkCJvfVeuCsYQD6ZBhGbHB9AXQw69DTYJEAsubcwKucqQNuT9D5OmipAJyi3szEJJUBlNebh5WkgQDDcPHBr2xlArtlANXuQFEBdJadFHckQQI2Avh0ZsQtAjYiwt1rsBUCL0SDoVBgAQK6C0nEEjvc/CggLSme58T9sXU2orFPnP0v0JYz9Gdg/vT38vxYczD9nBQTe6kHHP1IhkEXJwKo/8OZnhCVAub+xtVgCpmqzP6DUpY6g0+k/PKK3T1h4+D8RTDjQc1EAQG/dAQs7TwJAQt2eHpPLAEBWEh074x//PyCap9ZSGf4/rEzaTySm/T+7aXhHRmr9P688KeqeNP0/ruZ4EemD/D8olrZcn9T7P0+vNc9hW/s/i9VVL+4P+z+0NzC24uz6P8731Kza8vo/xFf4SHzq+z+gYyHpvHb8P68ROkiFevw/BAjYdCga/D8AUp8VbW77P3JrF/nKmvo/qCQeGfq++T/dplwHJfn4P2G4p+Uva/g/OzZ0RqMZ+D8dmn/iar73P/OuA7Ka8PY/gaaeQHGn9T9hkyjAH1L0P3aZGhdAU/M/n8VP/g7P8j+90HxHNvfyPwhNBtgrqvk/\",\"dtype\":\"float64\",\"shape\":[75]},\"y\":{\"__ndarray__\":\"GhExyth1ND/Sv8nbtpRIP2vylNV0PVE/aTum7souWD/At0SJ8fVgPw3Iuahxymc/MSNhhJWvcD/bTfBN02d3P2zb5nxnaoA/CD5h5MAGhz8NmeH1TyaQP+zrCsc9p5Y/LbKd76fGnz/bLW5ISEmmPww9YvTcQq8/JV2OstnstT8Er5Y7M8G+P0c+r3jqkcU/5h99k6ZBzj88bCIzFzjVP4enV8oyxN0//yH99nXg5D8qOpLLf0jtP5kqGJXUifQ/c9cS8kHP/D+/DpwzojQEQIEmwoanVwxA4lgXt9HgE0BSSZ2AJuIbQAMJih9jjiNA5q4l5INuK0AwTKYKRj0zQNv5fmq8/DpAaCJseHrtQkB/+zpwzoxKQM3MzMzMeFJAZmZmZmZqWEAAAAAAAFxeQM3MzMzMJmJAmpmZmZkfZUBmZmZmZhhoQDMzMzMzEWtAAAAAAAAKbkBmZmZmZoFwQM3MzMzM/XFAMzMzMzN6c0CamZmZmfZ0QAAAAAAAc3ZAZmZmZmbvd0DNzMzMzGt5QDMzMzMz6HpAmpmZmZlkfEAAAAAAAOF9QGZmZmZmXX9AZmZmZuZsgECamZmZGSuBQM3MzMxM6YFAAAAAAICngkAzMzMzs2WDQGZmZmbmI4RAmpmZmRnihEDNzMzMTKCFQAAAAACAXoZAMzMzM7Mch0BmZmZm5tqHQJqZmZkZmYhAzczMzExXiUAAAAAAgBWKQDMzMzOz04pAZmZmZuaRi0CamZmZGVCMQM3MzMxMDo1AAAAAAIDMjUAzMzMzs4qOQGZmZmbmSI9A\",\"dtype\":\"float64\",\"shape\":[75]}},\"selected\":{\"id\":\"66d9513e-dd4d-404b-b006-08b788bd202f\",\"type\":\"Selection\"},\"selection_policy\":{\"id\":\"96bb5957-fbe6-4f0a-bf66-b98cc75ea9b7\",\"type\":\"UnionRenderers\"}},\"id\":\"c6602a7f-6e11-4ee7-a9f0-87cd0d56bae2\",\"type\":\"ColumnDataSource\"},{\"attributes\":{\"source\":{\"id\":\"54af3721-e9d5-4327-aa28-b2b3355ca677\",\"type\":\"ColumnDataSource\"}},\"id\":\"45cb3036-868d-4733-9a64-3d95fb2a7ab5\",\"type\":\"CDSView\"},{\"attributes\":{\"fill_alpha\":{\"value\":0.7},\"fill_color\":{\"value\":\"#984ea3\"},\"line_alpha\":{\"value\":0.7},\"line_color\":{\"value\":\"#984ea3\"},\"x\":{\"field\":\"x\"},\"y\":{\"field\":\"y\"}},\"id\":\"e0aef619-4ae6-42a0-8560-64b7c963530e\",\"type\":\"Square\"},{\"attributes\":{},\"id\":\"651578ad-5691-4a3e-a0e0-e79df3ebdc24\",\"type\":\"UnionRenderers\"},{\"attributes\":{},\"id\":\"e448db36-b186-4551-9b2a-0cae4f726fb3\",\"type\":\"Selection\"},{\"attributes\":{},\"id\":\"e1341eec-da63-4da0-b9bb-e9366fd7d054\",\"type\":\"UnionRenderers\"},{\"attributes\":{},\"id\":\"4a4ca428-db9c-4966-ab89-fcc1fb62927c\",\"type\":\"Selection\"},{\"attributes\":{},\"id\":\"ae9e509d-f68f-4d25-88db-f34fee2a7c91\",\"type\":\"Selection\"},{\"attributes\":{\"bottom_units\":\"screen\",\"fill_alpha\":{\"value\":0.5},\"fill_color\":{\"value\":\"lightgrey\"},\"left_units\":\"screen\",\"level\":\"overlay\",\"line_alpha\":{\"value\":1.0},\"line_color\":{\"value\":\"black\"},\"line_dash\":[4,4],\"line_width\":{\"value\":2},\"plot\":null,\"render_mode\":\"css\",\"right_units\":\"screen\",\"top_units\":\"screen\"},\"id\":\"1901cf7f-eb9a-4edb-951c-8903d10e3284\",\"type\":\"BoxAnnotation\"},{\"attributes\":{\"data_source\":{\"id\":\"c6602a7f-6e11-4ee7-a9f0-87cd0d56bae2\",\"type\":\"ColumnDataSource\"},\"glyph\":{\"id\":\"b946b31c-6650-477d-8a72-7de3982206f2\",\"type\":\"Line\"},\"hover_glyph\":null,\"muted_glyph\":null,\"nonselection_glyph\":{\"id\":\"74434085-b98c-49ef-84bf-fbaea805570c\",\"type\":\"Line\"},\"selection_glyph\":null,\"view\":{\"id\":\"cd1d850f-41ae-40ed-9a4a-3d99d791bb99\",\"type\":\"CDSView\"}},\"id\":\"09b865c4-559e-47f0-8d09-45dc7285d63e\",\"type\":\"GlyphRenderer\"},{\"attributes\":{\"line_color\":\"#4daf4a\",\"line_width\":1.5,\"x\":{\"field\":\"x\"},\"y\":{\"field\":\"y\"}},\"id\":\"083c6b8a-731d-46e8-8aed-d6909d25a8be\",\"type\":\"Line\"},{\"attributes\":{\"line_alpha\":0.5,\"line_color\":\"#984ea3\",\"line_width\":1.5,\"x\":{\"field\":\"x\"},\"y\":{\"field\":\"y\"}},\"id\":\"e3837c78-b240-498b-8105-ba87cacf2c58\",\"type\":\"Line\"},{\"attributes\":{\"data_source\":{\"id\":\"5f2cae62-6ac2-4782-a4af-a3c010478b88\",\"type\":\"ColumnDataSource\"},\"glyph\":{\"id\":\"79961383-b2ea-49a1-8fb0-114afe98662f\",\"type\":\"Line\"},\"hover_glyph\":null,\"muted_glyph\":null,\"nonselection_glyph\":{\"id\":\"90bdd617-4ca8-4a60-9ba2-52d34a00408b\",\"type\":\"Line\"},\"selection_glyph\":null,\"view\":{\"id\":\"23709883-0528-41d1-8e8c-7ff1ea17cf8c\",\"type\":\"CDSView\"}},\"id\":\"46c9336a-57ce-43d4-afa0-879ff0b236a4\",\"type\":\"GlyphRenderer\"},{\"attributes\":{},\"id\":\"2953ad33-2ce4-499c-b50d-bcabd7eb685c\",\"type\":\"Selection\"},{\"attributes\":{},\"id\":\"c33b5427-326a-4bfb-9457-73eb7a938f64\",\"type\":\"UnionRenderers\"},{\"attributes\":{\"source\":{\"id\":\"77567c44-afdc-48fc-81f5-e09d1b826413\",\"type\":\"ColumnDataSource\"}},\"id\":\"263e86fd-b2c3-4fed-8fcd-49240f880f8c\",\"type\":\"CDSView\"},{\"attributes\":{\"callback\":null,\"data\":{\"x\":{\"__ndarray__\":\"cm1sTMT3VEDEyvjosEJHQOKI6DjzCUNArgQWV9awPkB9Lm8XG3M4QEz+Qv6iYzNA7eV8HaPLLkCX1QHyTpMoQFBmYSYetiNAUB04GtGpH0AmFyVE5j8ZQJca9QPGqBNALJP+OOHHDEBNxaf7QF8AQKtislomWuw/cW2dcO6A9T/uJJvfPu0EQIaQLTI/JQ1AxGiII+PmEkCJvfVeuCsYQD6ZBhGbHB9AXQw69DTYJEAsubcwKucqQNuT9D5OmipAJyi3szEJJUBlNebh5WkgQDDcPHBr2xlArtlANXuQFEBdJadFHckQQI2Avh0ZsQtAjYiwt1rsBUCL0SDoVBgAQK6C0nEEjvc/CggLSme58T9sXU2orFPnP0v0JYz9Gdg/vT38vxYczD9nBQTe6kHHP1IhkEXJwKo/8OZnhCVAub+xtVgCpmqzP6DUpY6g0+k/PKK3T1h4+D8RTDjQc1EAQG/dAQs7TwJAQt2eHpPLAEBWEh074x//PyCap9ZSGf4/rEzaTySm/T+7aXhHRmr9P688KeqeNP0/ruZ4EemD/D8olrZcn9T7P0+vNc9hW/s/i9VVL+4P+z+0NzC24uz6P8731Kza8vo/xFf4SHzq+z+gYyHpvHb8P68ROkiFevw/BAjYdCga/D8AUp8VbW77P3JrF/nKmvo/qCQeGfq++T/dplwHJfn4P2G4p+Uva/g/OzZ0RqMZ+D8dmn/iar73P/OuA7Ka8PY/gaaeQHGn9T9hkyjAH1L0P3aZGhdAU/M/n8VP/g7P8j+90HxHNvfyPwhNBtgrqvk/\",\"dtype\":\"float64\",\"shape\":[75]},\"y\":{\"__ndarray__\":\"GhExyth1ND/Sv8nbtpRIP2vylNV0PVE/aTum7souWD/At0SJ8fVgPw3Iuahxymc/MSNhhJWvcD/bTfBN02d3P2zb5nxnaoA/CD5h5MAGhz8NmeH1TyaQP+zrCsc9p5Y/LbKd76fGnz/bLW5ISEmmPww9YvTcQq8/JV2OstnstT8Er5Y7M8G+P0c+r3jqkcU/5h99k6ZBzj88bCIzFzjVP4enV8oyxN0//yH99nXg5D8qOpLLf0jtP5kqGJXUifQ/c9cS8kHP/D+/DpwzojQEQIEmwoanVwxA4lgXt9HgE0BSSZ2AJuIbQAMJih9jjiNA5q4l5INuK0AwTKYKRj0zQNv5fmq8/DpAaCJseHrtQkB/+zpwzoxKQM3MzMzMeFJAZmZmZmZqWEAAAAAAAFxeQM3MzMzMJmJAmpmZmZkfZUBmZmZmZhhoQDMzMzMzEWtAAAAAAAAKbkBmZmZmZoFwQM3MzMzM/XFAMzMzMzN6c0CamZmZmfZ0QAAAAAAAc3ZAZmZmZmbvd0DNzMzMzGt5QDMzMzMz6HpAmpmZmZlkfEAAAAAAAOF9QGZmZmZmXX9AZmZmZuZsgECamZmZGSuBQM3MzMxM6YFAAAAAAICngkAzMzMzs2WDQGZmZmbmI4RAmpmZmRnihEDNzMzMTKCFQAAAAACAXoZAMzMzM7Mch0BmZmZm5tqHQJqZmZkZmYhAzczMzExXiUAAAAAAgBWKQDMzMzOz04pAZmZmZuaRi0CamZmZGVCMQM3MzMxMDo1AAAAAAIDMjUAzMzMzs4qOQGZmZmbmSI9A\",\"dtype\":\"float64\",\"shape\":[75]}},\"selected\":{\"id\":\"2953ad33-2ce4-499c-b50d-bcabd7eb685c\",\"type\":\"Selection\"},\"selection_policy\":{\"id\":\"651578ad-5691-4a3e-a0e0-e79df3ebdc24\",\"type\":\"UnionRenderers\"}},\"id\":\"976f5c1c-5286-42dd-8912-feffe2a2e3f5\",\"type\":\"ColumnDataSource\"},{\"attributes\":{\"source\":{\"id\":\"5f2cae62-6ac2-4782-a4af-a3c010478b88\",\"type\":\"ColumnDataSource\"}},\"id\":\"23709883-0528-41d1-8e8c-7ff1ea17cf8c\",\"type\":\"CDSView\"},{\"attributes\":{},\"id\":\"e569572e-0313-4de6-83f0-594346e3820d\",\"type\":\"UnionRenderers\"}],\"root_ids\":[\"646b6050-3bfe-4a27-9705-8313ac6bf801\"]},\"title\":\"Bokeh Application\",\"version\":\"0.12.16\"}};\n",
       "  var render_items = [{\"docid\":\"b419e4cc-81e4-4d04-a23d-c05f9512765a\",\"elementid\":\"966e1ad9-9ef7-4e78-8875-bf162f2bf131\",\"modelid\":\"646b6050-3bfe-4a27-9705-8313ac6bf801\"}];\n",
       "  root.Bokeh.embed.embed_items_notebook(docs_json, render_items);\n",
       "\n",
       "  }\n",
       "  if (root.Bokeh !== undefined) {\n",
       "    embed_document(root);\n",
       "  } else {\n",
       "    var attempts = 0;\n",
       "    var timer = setInterval(function(root) {\n",
       "      if (root.Bokeh !== undefined) {\n",
       "        embed_document(root);\n",
       "        clearInterval(timer);\n",
       "      }\n",
       "      attempts++;\n",
       "      if (attempts > 100) {\n",
       "        console.log(\"Bokeh: ERROR: Unable to run BokehJS code because BokehJS library is missing\")\n",
       "        clearInterval(timer);\n",
       "      }\n",
       "    }, 10, root)\n",
       "  }\n",
       "})(window);"
      ],
      "application/vnd.bokehjs_exec.v0+json": ""
     },
     "metadata": {
      "application/vnd.bokehjs_exec.v0+json": {
       "id": "646b6050-3bfe-4a27-9705-8313ac6bf801"
      }
     },
     "output_type": "display_data"
    },
    {
     "data": {
      "text/markdown": [
       "*FIGURE.* Cooling rates & difference."
      ],
      "text/plain": [
       "<IPython.core.display.Markdown object>"
      ]
     },
     "metadata": {},
     "output_type": "display_data"
    },
    {
     "data": {
      "text/html": [
       "<a id=\"Fluxes._mls.\"></a>"
      ],
      "text/plain": [
       "<IPython.core.display.HTML object>"
      ]
     },
     "metadata": {},
     "output_type": "display_data"
    },
    {
     "data": {
      "text/markdown": [
       "# Fluxes. mls."
      ],
      "text/plain": [
       "<IPython.core.display.Markdown object>"
      ]
     },
     "metadata": {},
     "output_type": "display_data"
    },
    {
     "data": {
      "text/html": [
       "\n",
       "<div class=\"bk-root\">\n",
       "    <div class=\"bk-plotdiv\" id=\"71526164-8863-472e-a892-47bdf90188ba\"></div>\n",
       "</div>"
      ]
     },
     "metadata": {},
     "output_type": "display_data"
    },
    {
     "data": {
      "application/javascript": [
       "(function(root) {\n",
       "  function embed_document(root) {\n",
       "    \n",
       "  var docs_json = {\"8e057988-277c-4c48-a1d9-686842f09fe1\":{\"roots\":{\"references\":[{\"attributes\":{\"fill_color\":{\"value\":\"#1f77b4\"},\"line_color\":{\"value\":\"#1f77b4\"},\"top\":{\"field\":\"flux\"},\"width\":{\"value\":0.9},\"x\":{\"field\":\"band\"}},\"id\":\"55ce40d3-378b-43b9-b28f-0f60da2b74c5\",\"type\":\"VBar\"},{\"attributes\":{\"dimension\":1,\"plot\":{\"id\":\"4e1fbcd9-68df-4ef5-8dd4-38633cfdc2f7\",\"subtype\":\"Figure\",\"type\":\"Plot\"},\"ticker\":{\"id\":\"389df2ae-e8cf-4ae4-897f-edf3dc942ba1\",\"type\":\"BasicTicker\"}},\"id\":\"adacf928-a2cc-4f15-8f42-b5c9592743e2\",\"type\":\"Grid\"},{\"attributes\":{\"plot\":{\"id\":\"4e1fbcd9-68df-4ef5-8dd4-38633cfdc2f7\",\"subtype\":\"Figure\",\"type\":\"Plot\"},\"ticker\":{\"id\":\"6a942079-f29a-4821-b2c5-a97e1ea4afdb\",\"type\":\"CategoricalTicker\"}},\"id\":\"2d4608ce-52a6-4cfe-88b0-439e42c9662f\",\"type\":\"Grid\"},{\"attributes\":{\"axis_label\":\"flux (W m-2)\",\"formatter\":{\"id\":\"1baf2893-0f98-4b96-9bbf-40a11276afeb\",\"type\":\"BasicTickFormatter\"},\"plot\":{\"id\":\"ee1940be-26db-4f62-b27d-2d2a3db782a4\",\"subtype\":\"Figure\",\"type\":\"Plot\"},\"ticker\":{\"id\":\"7272b735-afcf-427c-a06d-4bc9eb71127a\",\"type\":\"BasicTicker\"}},\"id\":\"040fbc90-d9bd-419f-b131-2e977f49ec11\",\"type\":\"LinearAxis\"},{\"attributes\":{\"active_drag\":\"auto\",\"active_inspect\":\"auto\",\"active_scroll\":\"auto\",\"active_tap\":\"auto\",\"tools\":[{\"id\":\"fc02a539-37a7-4136-886b-3840c11dec1a\",\"type\":\"PanTool\"},{\"id\":\"58cfa117-22d3-420b-8def-12990f61c7af\",\"type\":\"WheelZoomTool\"},{\"id\":\"23a89dc7-2dfd-462c-88b2-b7abd295be6d\",\"type\":\"BoxZoomTool\"},{\"id\":\"27f413e3-f5ee-416e-ba2d-b21e58e7bd8d\",\"type\":\"SaveTool\"},{\"id\":\"0ac1a947-d247-4fb0-8087-5722ce2836d7\",\"type\":\"ResetTool\"},{\"id\":\"07680181-88f1-4cae-85e0-b78d339c3b9e\",\"type\":\"HelpTool\"}]},\"id\":\"5f7fa645-21f9-4bd7-afe8-5c5b6fb1ad01\",\"type\":\"Toolbar\"},{\"attributes\":{\"plot\":{\"id\":\"ee1940be-26db-4f62-b27d-2d2a3db782a4\",\"subtype\":\"Figure\",\"type\":\"Plot\"},\"ticker\":{\"id\":\"9e6be7ca-cf1e-491b-8c4d-4ecf90de0f4c\",\"type\":\"CategoricalTicker\"}},\"id\":\"1f4f7452-6d9d-4f0f-a84f-91689f5db8c5\",\"type\":\"Grid\"},{\"attributes\":{\"plot\":null,\"text\":\"TOA flux. CLIRAD (single-run) - CRD.\"},\"id\":\"e6b85e8e-48a7-4900-8679-533016b1bdc7\",\"type\":\"Title\"},{\"attributes\":{},\"id\":\"b25a1bd7-cda5-4cfb-8188-059e11d3fb02\",\"type\":\"HelpTool\"},{\"attributes\":{\"bottom_units\":\"screen\",\"fill_alpha\":{\"value\":0.5},\"fill_color\":{\"value\":\"lightgrey\"},\"left_units\":\"screen\",\"level\":\"overlay\",\"line_alpha\":{\"value\":1.0},\"line_color\":{\"value\":\"black\"},\"line_dash\":[4,4],\"line_width\":{\"value\":2},\"plot\":null,\"render_mode\":\"css\",\"right_units\":\"screen\",\"top_units\":\"screen\"},\"id\":\"f58b4cc6-8f07-4b15-b96c-d585f2569dab\",\"type\":\"BoxAnnotation\"},{\"attributes\":{\"dimension\":1,\"plot\":{\"id\":\"ee1940be-26db-4f62-b27d-2d2a3db782a4\",\"subtype\":\"Figure\",\"type\":\"Plot\"},\"ticker\":{\"id\":\"7272b735-afcf-427c-a06d-4bc9eb71127a\",\"type\":\"BasicTicker\"}},\"id\":\"b816ac52-a0da-411e-b385-7b61a85c7858\",\"type\":\"Grid\"},{\"attributes\":{\"data_source\":{\"id\":\"b08ec63e-b1cd-4f80-99fc-822c31aa1172\",\"type\":\"ColumnDataSource\"},\"glyph\":{\"id\":\"55ce40d3-378b-43b9-b28f-0f60da2b74c5\",\"type\":\"VBar\"},\"hover_glyph\":null,\"muted_glyph\":null,\"nonselection_glyph\":{\"id\":\"9fb10a11-7d6b-4984-bf41-ba6ecdffdbc2\",\"type\":\"VBar\"},\"selection_glyph\":null,\"view\":{\"id\":\"9d0d6dd3-52d7-4e31-9ede-fcd07521b390\",\"type\":\"CDSView\"}},\"id\":\"cb22aea8-2173-4b01-9e15-cf6e26b53a11\",\"type\":\"GlyphRenderer\"},{\"attributes\":{\"axis_label\":\"spectral band\",\"formatter\":{\"id\":\"1599019a-9d00-4fdb-aa8a-cd067027531d\",\"type\":\"CategoricalTickFormatter\"},\"plot\":{\"id\":\"ee1940be-26db-4f62-b27d-2d2a3db782a4\",\"subtype\":\"Figure\",\"type\":\"Plot\"},\"ticker\":{\"id\":\"9e6be7ca-cf1e-491b-8c4d-4ecf90de0f4c\",\"type\":\"CategoricalTicker\"}},\"id\":\"fdee7184-dcc0-4f58-aa75-5019944b41fb\",\"type\":\"CategoricalAxis\"},{\"attributes\":{},\"id\":\"3d6f7cbb-9482-4410-a35f-699fb1e9eee7\",\"type\":\"WheelZoomTool\"},{\"attributes\":{\"fill_alpha\":{\"value\":0.1},\"fill_color\":{\"value\":\"#1f77b4\"},\"line_alpha\":{\"value\":0.1},\"line_color\":{\"value\":\"#1f77b4\"},\"top\":{\"field\":\"flux\"},\"width\":{\"value\":0.9},\"x\":{\"field\":\"band\"}},\"id\":\"9fb10a11-7d6b-4984-bf41-ba6ecdffdbc2\",\"type\":\"VBar\"},{\"attributes\":{},\"id\":\"a4a9f565-1bd9-4042-9474-0da5666aba9a\",\"type\":\"ResetTool\"},{\"attributes\":{},\"id\":\"26b0ea15-fd7e-49e4-9c77-2189b1b0c6e2\",\"type\":\"PanTool\"},{\"attributes\":{\"source\":{\"id\":\"b08ec63e-b1cd-4f80-99fc-822c31aa1172\",\"type\":\"ColumnDataSource\"}},\"id\":\"9d0d6dd3-52d7-4e31-9ede-fcd07521b390\",\"type\":\"CDSView\"},{\"attributes\":{},\"id\":\"da109ec9-dcc9-4b6d-af03-631b0751abe2\",\"type\":\"SaveTool\"},{\"attributes\":{},\"id\":\"2386cebf-21a0-49cd-ad67-f1f1281c0559\",\"type\":\"CategoricalScale\"},{\"attributes\":{\"axis_label\":\"flux (W m-2)\",\"formatter\":{\"id\":\"59b4f408-2f46-40fb-8a4c-1359eb14ac87\",\"type\":\"BasicTickFormatter\"},\"plot\":{\"id\":\"4e1fbcd9-68df-4ef5-8dd4-38633cfdc2f7\",\"subtype\":\"Figure\",\"type\":\"Plot\"},\"ticker\":{\"id\":\"389df2ae-e8cf-4ae4-897f-edf3dc942ba1\",\"type\":\"BasicTicker\"}},\"id\":\"7c2873a0-082e-4799-b978-2532e3dbbbab\",\"type\":\"LinearAxis\"},{\"attributes\":{\"tools\":[{\"id\":\"26b0ea15-fd7e-49e4-9c77-2189b1b0c6e2\",\"type\":\"PanTool\"},{\"id\":\"3d6f7cbb-9482-4410-a35f-699fb1e9eee7\",\"type\":\"WheelZoomTool\"},{\"id\":\"67eae727-a009-4ce4-9c01-bcc2e41046a6\",\"type\":\"BoxZoomTool\"},{\"id\":\"da109ec9-dcc9-4b6d-af03-631b0751abe2\",\"type\":\"SaveTool\"},{\"id\":\"a4a9f565-1bd9-4042-9474-0da5666aba9a\",\"type\":\"ResetTool\"},{\"id\":\"b25a1bd7-cda5-4cfb-8188-059e11d3fb02\",\"type\":\"HelpTool\"},{\"id\":\"fc02a539-37a7-4136-886b-3840c11dec1a\",\"type\":\"PanTool\"},{\"id\":\"58cfa117-22d3-420b-8def-12990f61c7af\",\"type\":\"WheelZoomTool\"},{\"id\":\"23a89dc7-2dfd-462c-88b2-b7abd295be6d\",\"type\":\"BoxZoomTool\"},{\"id\":\"27f413e3-f5ee-416e-ba2d-b21e58e7bd8d\",\"type\":\"SaveTool\"},{\"id\":\"0ac1a947-d247-4fb0-8087-5722ce2836d7\",\"type\":\"ResetTool\"},{\"id\":\"07680181-88f1-4cae-85e0-b78d339c3b9e\",\"type\":\"HelpTool\"},{\"id\":\"71ba72e3-0e6b-4b57-a542-757b9892fb57\",\"type\":\"PanTool\"},{\"id\":\"3fa6bc06-ceee-4bb9-8fbf-54cb513a48c1\",\"type\":\"WheelZoomTool\"},{\"id\":\"19d92969-68e1-41b3-b86f-0e8cfa1d679e\",\"type\":\"BoxZoomTool\"},{\"id\":\"f43b837f-0f0a-4860-baf0-23818c957e4c\",\"type\":\"SaveTool\"},{\"id\":\"ea64aa50-bbfb-49fc-8f02-709e9bef2efd\",\"type\":\"ResetTool\"},{\"id\":\"c10c4822-b2f5-4907-8458-30e61271abdc\",\"type\":\"HelpTool\"}]},\"id\":\"24f3d2cb-7f93-4a86-8f77-374ddeab7faf\",\"type\":\"ProxyToolbar\"},{\"attributes\":{\"plot\":null,\"text\":\"SFC flux. CLIRAD (single-run) - CRD.\"},\"id\":\"28287ab3-0f5d-4b71-bb8f-760655dcddc1\",\"type\":\"Title\"},{\"attributes\":{\"fill_color\":{\"value\":\"#1f77b4\"},\"line_color\":{\"value\":\"#1f77b4\"},\"top\":{\"field\":\"flux\"},\"width\":{\"value\":0.9},\"x\":{\"field\":\"band\"}},\"id\":\"c3fc57df-0e10-49ba-aae9-055d93cc9226\",\"type\":\"VBar\"},{\"attributes\":{},\"id\":\"3cd77684-bf46-4b81-8759-8ff82db62baa\",\"type\":\"CategoricalScale\"},{\"attributes\":{},\"id\":\"0ac1a947-d247-4fb0-8087-5722ce2836d7\",\"type\":\"ResetTool\"},{\"attributes\":{\"callback\":null},\"id\":\"a60c6726-c0b4-44d3-ac66-41014804e105\",\"type\":\"DataRange1d\"},{\"attributes\":{\"active_drag\":\"auto\",\"active_inspect\":\"auto\",\"active_scroll\":\"auto\",\"active_tap\":\"auto\",\"tools\":[{\"id\":\"26b0ea15-fd7e-49e4-9c77-2189b1b0c6e2\",\"type\":\"PanTool\"},{\"id\":\"3d6f7cbb-9482-4410-a35f-699fb1e9eee7\",\"type\":\"WheelZoomTool\"},{\"id\":\"67eae727-a009-4ce4-9c01-bcc2e41046a6\",\"type\":\"BoxZoomTool\"},{\"id\":\"da109ec9-dcc9-4b6d-af03-631b0751abe2\",\"type\":\"SaveTool\"},{\"id\":\"a4a9f565-1bd9-4042-9474-0da5666aba9a\",\"type\":\"ResetTool\"},{\"id\":\"b25a1bd7-cda5-4cfb-8188-059e11d3fb02\",\"type\":\"HelpTool\"}]},\"id\":\"56151ef1-b12f-44c4-8c7b-53ad67181aad\",\"type\":\"Toolbar\"},{\"attributes\":{},\"id\":\"389df2ae-e8cf-4ae4-897f-edf3dc942ba1\",\"type\":\"BasicTicker\"},{\"attributes\":{\"callback\":null},\"id\":\"f1244ccd-4abe-4bb5-9fba-f0dd40c61848\",\"type\":\"DataRange1d\"},{\"attributes\":{},\"id\":\"6a942079-f29a-4821-b2c5-a97e1ea4afdb\",\"type\":\"CategoricalTicker\"},{\"attributes\":{\"overlay\":{\"id\":\"f58b4cc6-8f07-4b15-b96c-d585f2569dab\",\"type\":\"BoxAnnotation\"}},\"id\":\"67eae727-a009-4ce4-9c01-bcc2e41046a6\",\"type\":\"BoxZoomTool\"},{\"attributes\":{\"callback\":null,\"factors\":[\"1\",\"2\",\"3\",\"4\",\"5\",\"6\",\"7\",\"8\",\"9\",\"10\",\"11\"]},\"id\":\"cead8f0b-af0a-4baf-80aa-49913c750b6c\",\"type\":\"FactorRange\"},{\"attributes\":{},\"id\":\"3d067551-1f9d-4809-a954-5e6bd59d0e1f\",\"type\":\"CategoricalTickFormatter\"},{\"attributes\":{\"callback\":null,\"factors\":[\"1\",\"2\",\"3\",\"4\",\"5\",\"6\",\"7\",\"8\",\"9\",\"10\",\"11\"]},\"id\":\"029eedd9-ea4b-46a8-9657-f4f77415ea1d\",\"type\":\"FactorRange\"},{\"attributes\":{},\"id\":\"e1c29bdf-2c00-4d1e-884e-69cc2248f575\",\"type\":\"LinearScale\"},{\"attributes\":{},\"id\":\"9e6be7ca-cf1e-491b-8c4d-4ecf90de0f4c\",\"type\":\"CategoricalTicker\"},{\"attributes\":{\"axis_label\":\"spectral band\",\"formatter\":{\"id\":\"4931afb6-8725-4495-8b87-497880873e3e\",\"type\":\"CategoricalTickFormatter\"},\"plot\":{\"id\":\"4e1fbcd9-68df-4ef5-8dd4-38633cfdc2f7\",\"subtype\":\"Figure\",\"type\":\"Plot\"},\"ticker\":{\"id\":\"6a942079-f29a-4821-b2c5-a97e1ea4afdb\",\"type\":\"CategoricalTicker\"}},\"id\":\"7cd8c5a1-3d82-4383-a978-d6ae8cd3ed36\",\"type\":\"CategoricalAxis\"},{\"attributes\":{\"source\":{\"id\":\"4dfd9249-ea62-4105-8112-8d079250f496\",\"type\":\"ColumnDataSource\"}},\"id\":\"dc53fe94-2a01-430d-b23a-781f5df36c46\",\"type\":\"CDSView\"},{\"attributes\":{},\"id\":\"7272b735-afcf-427c-a06d-4bc9eb71127a\",\"type\":\"BasicTicker\"},{\"attributes\":{},\"id\":\"2ed6393d-49a7-4942-a5a1-765a32408756\",\"type\":\"LinearScale\"},{\"attributes\":{\"overlay\":{\"id\":\"0abc30ac-4e71-4fa1-9ce9-2d58e154df38\",\"type\":\"BoxAnnotation\"}},\"id\":\"23a89dc7-2dfd-462c-88b2-b7abd295be6d\",\"type\":\"BoxZoomTool\"},{\"attributes\":{},\"id\":\"9fd1b468-9347-4089-a2cc-d57aeb3f78dc\",\"type\":\"UnionRenderers\"},{\"attributes\":{\"callback\":null,\"factors\":[\"1\",\"2\",\"3\",\"4\",\"5\",\"6\",\"7\",\"8\",\"9\",\"10\",\"11\"]},\"id\":\"e639ee92-a7a1-4cd0-b937-d3814176f5bd\",\"type\":\"FactorRange\"},{\"attributes\":{\"below\":[{\"id\":\"4779d9cd-2d16-4226-ad4b-d87907efa5a9\",\"type\":\"CategoricalAxis\"}],\"left\":[{\"id\":\"a6463d47-1141-4253-9b1b-2a43c77fb5ea\",\"type\":\"LinearAxis\"}],\"plot_height\":300,\"plot_width\":300,\"renderers\":[{\"id\":\"4779d9cd-2d16-4226-ad4b-d87907efa5a9\",\"type\":\"CategoricalAxis\"},{\"id\":\"23cfaeb1-fb55-4277-a601-615ca0d4630a\",\"type\":\"Grid\"},{\"id\":\"a6463d47-1141-4253-9b1b-2a43c77fb5ea\",\"type\":\"LinearAxis\"},{\"id\":\"32646c44-8d99-4299-92f0-6f7be4f46d24\",\"type\":\"Grid\"},{\"id\":\"226c7161-0703-4c9d-9d4a-f495ed38da30\",\"type\":\"BoxAnnotation\"},{\"id\":\"a3a28bf1-5a60-4500-99f9-05b41703c70d\",\"type\":\"GlyphRenderer\"}],\"title\":{\"id\":\"e8fed0af-035b-4d32-9a90-d8725e1bde97\",\"type\":\"Title\"},\"toolbar\":{\"id\":\"6730a227-d430-4d09-bae6-c9b3c38e2c98\",\"type\":\"Toolbar\"},\"toolbar_location\":null,\"x_range\":{\"id\":\"e639ee92-a7a1-4cd0-b937-d3814176f5bd\",\"type\":\"FactorRange\"},\"x_scale\":{\"id\":\"873a2062-05e5-417b-961c-042b281bc35e\",\"type\":\"CategoricalScale\"},\"y_range\":{\"id\":\"6f4601a2-64f3-4e2d-8e23-c9502e21cdda\",\"type\":\"DataRange1d\"},\"y_scale\":{\"id\":\"9fa8ddc0-326d-4008-acdd-d127c5940d0d\",\"type\":\"LinearScale\"}},\"id\":\"7631c1d8-22b4-4c86-90a8-afc650ff7512\",\"subtype\":\"Figure\",\"type\":\"Plot\"},{\"attributes\":{\"data_source\":{\"id\":\"4dfd9249-ea62-4105-8112-8d079250f496\",\"type\":\"ColumnDataSource\"},\"glyph\":{\"id\":\"c3fc57df-0e10-49ba-aae9-055d93cc9226\",\"type\":\"VBar\"},\"hover_glyph\":null,\"muted_glyph\":null,\"nonselection_glyph\":{\"id\":\"4e84667e-4961-40ee-948a-e5e8f8439c00\",\"type\":\"VBar\"},\"selection_glyph\":null,\"view\":{\"id\":\"dc53fe94-2a01-430d-b23a-781f5df36c46\",\"type\":\"CDSView\"}},\"id\":\"09d480b0-e359-4328-924d-461f2b214943\",\"type\":\"GlyphRenderer\"},{\"attributes\":{\"source\":{\"id\":\"2e6f7891-3393-4fb4-bfbb-f4effc4c9c21\",\"type\":\"ColumnDataSource\"}},\"id\":\"b4380c38-f357-4f0f-a472-936042962dc5\",\"type\":\"CDSView\"},{\"attributes\":{},\"id\":\"9fa8ddc0-326d-4008-acdd-d127c5940d0d\",\"type\":\"LinearScale\"},{\"attributes\":{\"bottom_units\":\"screen\",\"fill_alpha\":{\"value\":0.5},\"fill_color\":{\"value\":\"lightgrey\"},\"left_units\":\"screen\",\"level\":\"overlay\",\"line_alpha\":{\"value\":1.0},\"line_color\":{\"value\":\"black\"},\"line_dash\":[4,4],\"line_width\":{\"value\":2},\"plot\":null,\"render_mode\":\"css\",\"right_units\":\"screen\",\"top_units\":\"screen\"},\"id\":\"0abc30ac-4e71-4fa1-9ce9-2d58e154df38\",\"type\":\"BoxAnnotation\"},{\"attributes\":{\"callback\":null},\"id\":\"6f4601a2-64f3-4e2d-8e23-c9502e21cdda\",\"type\":\"DataRange1d\"},{\"attributes\":{\"fill_alpha\":{\"value\":0.1},\"fill_color\":{\"value\":\"#1f77b4\"},\"line_alpha\":{\"value\":0.1},\"line_color\":{\"value\":\"#1f77b4\"},\"top\":{\"field\":\"flux\"},\"width\":{\"value\":0.9},\"x\":{\"field\":\"band\"}},\"id\":\"bd9e4b4d-29b8-4276-bc3a-bd4a1716305a\",\"type\":\"VBar\"},{\"attributes\":{\"overlay\":{\"id\":\"226c7161-0703-4c9d-9d4a-f495ed38da30\",\"type\":\"BoxAnnotation\"}},\"id\":\"19d92969-68e1-41b3-b86f-0e8cfa1d679e\",\"type\":\"BoxZoomTool\"},{\"attributes\":{},\"id\":\"ab3ea05e-60a2-42d3-b3d1-1d0d0a82cf39\",\"type\":\"Selection\"},{\"attributes\":{\"children\":[{\"id\":\"e0e439b9-75bd-43e7-881d-3bbaa71b1341\",\"type\":\"Row\"}]},\"id\":\"75921e37-729a-46bd-a8c6-50067368712c\",\"type\":\"Column\"},{\"attributes\":{\"children\":[{\"id\":\"ee1940be-26db-4f62-b27d-2d2a3db782a4\",\"subtype\":\"Figure\",\"type\":\"Plot\"},{\"id\":\"4e1fbcd9-68df-4ef5-8dd4-38633cfdc2f7\",\"subtype\":\"Figure\",\"type\":\"Plot\"},{\"id\":\"7631c1d8-22b4-4c86-90a8-afc650ff7512\",\"subtype\":\"Figure\",\"type\":\"Plot\"}]},\"id\":\"e0e439b9-75bd-43e7-881d-3bbaa71b1341\",\"type\":\"Row\"},{\"attributes\":{},\"id\":\"27f413e3-f5ee-416e-ba2d-b21e58e7bd8d\",\"type\":\"SaveTool\"},{\"attributes\":{\"callback\":null,\"data\":{\"band\":[\"1\",\"2\",\"3\",\"4\",\"5\",\"6\",\"7\",\"8\",\"9\",\"10\",\"11\"],\"flux\":{\"__ndarray__\":\"AEILCRhdyD+AzEHQ0arSP0DMe5xpwtO/gGStodRe0z/ASgaAKm7QPwBwl/2607G/QKz+CMOA2D8AUN8yp8vKPwC2wvS9hpC/YNQ5UPHJwD9AvtXft8awPw==\",\"dtype\":\"float64\",\"shape\":[11]}},\"selected\":{\"id\":\"751d7a3f-2e46-4c22-93ef-fefa02b82edf\",\"type\":\"Selection\"},\"selection_policy\":{\"id\":\"9fd1b468-9347-4089-a2cc-d57aeb3f78dc\",\"type\":\"UnionRenderers\"}},\"id\":\"b08ec63e-b1cd-4f80-99fc-822c31aa1172\",\"type\":\"ColumnDataSource\"},{\"attributes\":{\"callback\":null,\"data\":{\"band\":[\"1\",\"2\",\"3\",\"4\",\"5\",\"6\",\"7\",\"8\",\"9\",\"10\",\"11\"],\"flux\":{\"__ndarray__\":\"AAAAAyUF9r4AgsR29wDYPwC4H/DAANO/ANyul6YIsD+Ajh6/t+nfPwB0ImabwLM/ALE8WXvplz9ANwHhnkLAP4A0KnCyDcY/AKBF71TAjT8AcGzRXW2APw==\",\"dtype\":\"float64\",\"shape\":[11]}},\"selected\":{\"id\":\"ab3ea05e-60a2-42d3-b3d1-1d0d0a82cf39\",\"type\":\"Selection\"},\"selection_policy\":{\"id\":\"e43f0cc3-8c07-4490-8bf4-8feeec215799\",\"type\":\"UnionRenderers\"}},\"id\":\"4dfd9249-ea62-4105-8112-8d079250f496\",\"type\":\"ColumnDataSource\"},{\"attributes\":{},\"id\":\"58cfa117-22d3-420b-8def-12990f61c7af\",\"type\":\"WheelZoomTool\"},{\"attributes\":{\"data_source\":{\"id\":\"2e6f7891-3393-4fb4-bfbb-f4effc4c9c21\",\"type\":\"ColumnDataSource\"},\"glyph\":{\"id\":\"d8d1629e-bfb5-4d35-b6c8-7b96911956cc\",\"type\":\"VBar\"},\"hover_glyph\":null,\"muted_glyph\":null,\"nonselection_glyph\":{\"id\":\"bd9e4b4d-29b8-4276-bc3a-bd4a1716305a\",\"type\":\"VBar\"},\"selection_glyph\":null,\"view\":{\"id\":\"b4380c38-f357-4f0f-a472-936042962dc5\",\"type\":\"CDSView\"}},\"id\":\"a3a28bf1-5a60-4500-99f9-05b41703c70d\",\"type\":\"GlyphRenderer\"},{\"attributes\":{},\"id\":\"e43f0cc3-8c07-4490-8bf4-8feeec215799\",\"type\":\"UnionRenderers\"},{\"attributes\":{},\"id\":\"71ba72e3-0e6b-4b57-a542-757b9892fb57\",\"type\":\"PanTool\"},{\"attributes\":{\"below\":[{\"id\":\"7cd8c5a1-3d82-4383-a978-d6ae8cd3ed36\",\"type\":\"CategoricalAxis\"}],\"left\":[{\"id\":\"7c2873a0-082e-4799-b978-2532e3dbbbab\",\"type\":\"LinearAxis\"}],\"plot_height\":300,\"plot_width\":300,\"renderers\":[{\"id\":\"7cd8c5a1-3d82-4383-a978-d6ae8cd3ed36\",\"type\":\"CategoricalAxis\"},{\"id\":\"2d4608ce-52a6-4cfe-88b0-439e42c9662f\",\"type\":\"Grid\"},{\"id\":\"7c2873a0-082e-4799-b978-2532e3dbbbab\",\"type\":\"LinearAxis\"},{\"id\":\"adacf928-a2cc-4f15-8f42-b5c9592743e2\",\"type\":\"Grid\"},{\"id\":\"0abc30ac-4e71-4fa1-9ce9-2d58e154df38\",\"type\":\"BoxAnnotation\"},{\"id\":\"09d480b0-e359-4328-924d-461f2b214943\",\"type\":\"GlyphRenderer\"}],\"title\":{\"id\":\"28287ab3-0f5d-4b71-bb8f-760655dcddc1\",\"type\":\"Title\"},\"toolbar\":{\"id\":\"5f7fa645-21f9-4bd7-afe8-5c5b6fb1ad01\",\"type\":\"Toolbar\"},\"toolbar_location\":null,\"x_range\":{\"id\":\"cead8f0b-af0a-4baf-80aa-49913c750b6c\",\"type\":\"FactorRange\"},\"x_scale\":{\"id\":\"2386cebf-21a0-49cd-ad67-f1f1281c0559\",\"type\":\"CategoricalScale\"},\"y_range\":{\"id\":\"f1244ccd-4abe-4bb5-9fba-f0dd40c61848\",\"type\":\"DataRange1d\"},\"y_scale\":{\"id\":\"e1c29bdf-2c00-4d1e-884e-69cc2248f575\",\"type\":\"LinearScale\"}},\"id\":\"4e1fbcd9-68df-4ef5-8dd4-38633cfdc2f7\",\"subtype\":\"Figure\",\"type\":\"Plot\"},{\"attributes\":{},\"id\":\"ea64aa50-bbfb-49fc-8f02-709e9bef2efd\",\"type\":\"ResetTool\"},{\"attributes\":{\"callback\":null,\"data\":{\"band\":[\"1\",\"2\",\"3\",\"4\",\"5\",\"6\",\"7\",\"8\",\"9\",\"10\",\"11\"],\"flux\":{\"__ndarray__\":\"AIMde81dyD8AYEI3wVi1vwBYNyirM4i/ANGnfnO5zj9A+KOoM/fOvwBuLCgMysK/AHAlOzYC1z8A/DIYIxK1P8BJ06BoHsi/QL8FwBXcvT8AZ1U6DnKtPw==\",\"dtype\":\"float64\",\"shape\":[11]}},\"selected\":{\"id\":\"e31c3379-0cc9-4bcb-bfc7-45eb376dee85\",\"type\":\"Selection\"},\"selection_policy\":{\"id\":\"b8952fe4-6989-4fde-be63-ba833c43dddd\",\"type\":\"UnionRenderers\"}},\"id\":\"2e6f7891-3393-4fb4-bfbb-f4effc4c9c21\",\"type\":\"ColumnDataSource\"},{\"attributes\":{\"active_drag\":\"auto\",\"active_inspect\":\"auto\",\"active_scroll\":\"auto\",\"active_tap\":\"auto\",\"tools\":[{\"id\":\"71ba72e3-0e6b-4b57-a542-757b9892fb57\",\"type\":\"PanTool\"},{\"id\":\"3fa6bc06-ceee-4bb9-8fbf-54cb513a48c1\",\"type\":\"WheelZoomTool\"},{\"id\":\"19d92969-68e1-41b3-b86f-0e8cfa1d679e\",\"type\":\"BoxZoomTool\"},{\"id\":\"f43b837f-0f0a-4860-baf0-23818c957e4c\",\"type\":\"SaveTool\"},{\"id\":\"ea64aa50-bbfb-49fc-8f02-709e9bef2efd\",\"type\":\"ResetTool\"},{\"id\":\"c10c4822-b2f5-4907-8458-30e61271abdc\",\"type\":\"HelpTool\"}]},\"id\":\"6730a227-d430-4d09-bae6-c9b3c38e2c98\",\"type\":\"Toolbar\"},{\"attributes\":{\"dimension\":1,\"plot\":{\"id\":\"7631c1d8-22b4-4c86-90a8-afc650ff7512\",\"subtype\":\"Figure\",\"type\":\"Plot\"},\"ticker\":{\"id\":\"fbd105a2-7ac3-436b-bdc0-1ba3e42a017d\",\"type\":\"BasicTicker\"}},\"id\":\"32646c44-8d99-4299-92f0-6f7be4f46d24\",\"type\":\"Grid\"},{\"attributes\":{\"plot\":{\"id\":\"7631c1d8-22b4-4c86-90a8-afc650ff7512\",\"subtype\":\"Figure\",\"type\":\"Plot\"},\"ticker\":{\"id\":\"d76293e8-cd27-4e6c-b322-c136a2d624a9\",\"type\":\"CategoricalTicker\"}},\"id\":\"23cfaeb1-fb55-4277-a601-615ca0d4630a\",\"type\":\"Grid\"},{\"attributes\":{},\"id\":\"751d7a3f-2e46-4c22-93ef-fefa02b82edf\",\"type\":\"Selection\"},{\"attributes\":{},\"id\":\"59b4f408-2f46-40fb-8a4c-1359eb14ac87\",\"type\":\"BasicTickFormatter\"},{\"attributes\":{},\"id\":\"873a2062-05e5-417b-961c-042b281bc35e\",\"type\":\"CategoricalScale\"},{\"attributes\":{},\"id\":\"0606a687-bf8c-4352-bd33-4ebe4eac32b7\",\"type\":\"BasicTickFormatter\"},{\"attributes\":{\"toolbar\":{\"id\":\"24f3d2cb-7f93-4a86-8f77-374ddeab7faf\",\"type\":\"ProxyToolbar\"},\"toolbar_location\":\"above\"},\"id\":\"be11951f-8974-4677-8b01-dc9998e9e5f8\",\"type\":\"ToolbarBox\"},{\"attributes\":{\"below\":[{\"id\":\"fdee7184-dcc0-4f58-aa75-5019944b41fb\",\"type\":\"CategoricalAxis\"}],\"left\":[{\"id\":\"040fbc90-d9bd-419f-b131-2e977f49ec11\",\"type\":\"LinearAxis\"}],\"plot_height\":300,\"plot_width\":300,\"renderers\":[{\"id\":\"fdee7184-dcc0-4f58-aa75-5019944b41fb\",\"type\":\"CategoricalAxis\"},{\"id\":\"1f4f7452-6d9d-4f0f-a84f-91689f5db8c5\",\"type\":\"Grid\"},{\"id\":\"040fbc90-d9bd-419f-b131-2e977f49ec11\",\"type\":\"LinearAxis\"},{\"id\":\"b816ac52-a0da-411e-b385-7b61a85c7858\",\"type\":\"Grid\"},{\"id\":\"f58b4cc6-8f07-4b15-b96c-d585f2569dab\",\"type\":\"BoxAnnotation\"},{\"id\":\"cb22aea8-2173-4b01-9e15-cf6e26b53a11\",\"type\":\"GlyphRenderer\"}],\"title\":{\"id\":\"e6b85e8e-48a7-4900-8679-533016b1bdc7\",\"type\":\"Title\"},\"toolbar\":{\"id\":\"56151ef1-b12f-44c4-8c7b-53ad67181aad\",\"type\":\"Toolbar\"},\"toolbar_location\":null,\"x_range\":{\"id\":\"029eedd9-ea4b-46a8-9657-f4f77415ea1d\",\"type\":\"FactorRange\"},\"x_scale\":{\"id\":\"3cd77684-bf46-4b81-8759-8ff82db62baa\",\"type\":\"CategoricalScale\"},\"y_range\":{\"id\":\"a60c6726-c0b4-44d3-ac66-41014804e105\",\"type\":\"DataRange1d\"},\"y_scale\":{\"id\":\"2ed6393d-49a7-4942-a5a1-765a32408756\",\"type\":\"LinearScale\"}},\"id\":\"ee1940be-26db-4f62-b27d-2d2a3db782a4\",\"subtype\":\"Figure\",\"type\":\"Plot\"},{\"attributes\":{},\"id\":\"e31c3379-0cc9-4bcb-bfc7-45eb376dee85\",\"type\":\"Selection\"},{\"attributes\":{\"axis_label\":\"spectral band\",\"formatter\":{\"id\":\"3d067551-1f9d-4809-a954-5e6bd59d0e1f\",\"type\":\"CategoricalTickFormatter\"},\"plot\":{\"id\":\"7631c1d8-22b4-4c86-90a8-afc650ff7512\",\"subtype\":\"Figure\",\"type\":\"Plot\"},\"ticker\":{\"id\":\"d76293e8-cd27-4e6c-b322-c136a2d624a9\",\"type\":\"CategoricalTicker\"}},\"id\":\"4779d9cd-2d16-4226-ad4b-d87907efa5a9\",\"type\":\"CategoricalAxis\"},{\"attributes\":{\"axis_label\":\"flux (W m-2)\",\"formatter\":{\"id\":\"0606a687-bf8c-4352-bd33-4ebe4eac32b7\",\"type\":\"BasicTickFormatter\"},\"plot\":{\"id\":\"7631c1d8-22b4-4c86-90a8-afc650ff7512\",\"subtype\":\"Figure\",\"type\":\"Plot\"},\"ticker\":{\"id\":\"fbd105a2-7ac3-436b-bdc0-1ba3e42a017d\",\"type\":\"BasicTicker\"}},\"id\":\"a6463d47-1141-4253-9b1b-2a43c77fb5ea\",\"type\":\"LinearAxis\"},{\"attributes\":{},\"id\":\"1baf2893-0f98-4b96-9bbf-40a11276afeb\",\"type\":\"BasicTickFormatter\"},{\"attributes\":{\"bottom_units\":\"screen\",\"fill_alpha\":{\"value\":0.5},\"fill_color\":{\"value\":\"lightgrey\"},\"left_units\":\"screen\",\"level\":\"overlay\",\"line_alpha\":{\"value\":1.0},\"line_color\":{\"value\":\"black\"},\"line_dash\":[4,4],\"line_width\":{\"value\":2},\"plot\":null,\"render_mode\":\"css\",\"right_units\":\"screen\",\"top_units\":\"screen\"},\"id\":\"226c7161-0703-4c9d-9d4a-f495ed38da30\",\"type\":\"BoxAnnotation\"},{\"attributes\":{},\"id\":\"fc02a539-37a7-4136-886b-3840c11dec1a\",\"type\":\"PanTool\"},{\"attributes\":{},\"id\":\"f43b837f-0f0a-4860-baf0-23818c957e4c\",\"type\":\"SaveTool\"},{\"attributes\":{},\"id\":\"fbd105a2-7ac3-436b-bdc0-1ba3e42a017d\",\"type\":\"BasicTicker\"},{\"attributes\":{\"plot\":null,\"text\":\"Atmosphere heating. CLIRAD (single-run) - CRD.\"},\"id\":\"e8fed0af-035b-4d32-9a90-d8725e1bde97\",\"type\":\"Title\"},{\"attributes\":{},\"id\":\"d76293e8-cd27-4e6c-b322-c136a2d624a9\",\"type\":\"CategoricalTicker\"},{\"attributes\":{\"children\":[{\"id\":\"be11951f-8974-4677-8b01-dc9998e9e5f8\",\"type\":\"ToolbarBox\"},{\"id\":\"75921e37-729a-46bd-a8c6-50067368712c\",\"type\":\"Column\"}]},\"id\":\"2f1e184e-5da9-46b9-8fae-3eca8401dddf\",\"type\":\"Column\"},{\"attributes\":{},\"id\":\"1599019a-9d00-4fdb-aa8a-cd067027531d\",\"type\":\"CategoricalTickFormatter\"},{\"attributes\":{},\"id\":\"3fa6bc06-ceee-4bb9-8fbf-54cb513a48c1\",\"type\":\"WheelZoomTool\"},{\"attributes\":{},\"id\":\"b8952fe4-6989-4fde-be63-ba833c43dddd\",\"type\":\"UnionRenderers\"},{\"attributes\":{},\"id\":\"c10c4822-b2f5-4907-8458-30e61271abdc\",\"type\":\"HelpTool\"},{\"attributes\":{\"fill_color\":{\"value\":\"#1f77b4\"},\"line_color\":{\"value\":\"#1f77b4\"},\"top\":{\"field\":\"flux\"},\"width\":{\"value\":0.9},\"x\":{\"field\":\"band\"}},\"id\":\"d8d1629e-bfb5-4d35-b6c8-7b96911956cc\",\"type\":\"VBar\"},{\"attributes\":{},\"id\":\"07680181-88f1-4cae-85e0-b78d339c3b9e\",\"type\":\"HelpTool\"},{\"attributes\":{\"fill_alpha\":{\"value\":0.1},\"fill_color\":{\"value\":\"#1f77b4\"},\"line_alpha\":{\"value\":0.1},\"line_color\":{\"value\":\"#1f77b4\"},\"top\":{\"field\":\"flux\"},\"width\":{\"value\":0.9},\"x\":{\"field\":\"band\"}},\"id\":\"4e84667e-4961-40ee-948a-e5e8f8439c00\",\"type\":\"VBar\"},{\"attributes\":{},\"id\":\"4931afb6-8725-4495-8b87-497880873e3e\",\"type\":\"CategoricalTickFormatter\"}],\"root_ids\":[\"2f1e184e-5da9-46b9-8fae-3eca8401dddf\"]},\"title\":\"Bokeh Application\",\"version\":\"0.12.16\"}};\n",
       "  var render_items = [{\"docid\":\"8e057988-277c-4c48-a1d9-686842f09fe1\",\"elementid\":\"71526164-8863-472e-a892-47bdf90188ba\",\"modelid\":\"2f1e184e-5da9-46b9-8fae-3eca8401dddf\"}];\n",
       "  root.Bokeh.embed.embed_items_notebook(docs_json, render_items);\n",
       "\n",
       "  }\n",
       "  if (root.Bokeh !== undefined) {\n",
       "    embed_document(root);\n",
       "  } else {\n",
       "    var attempts = 0;\n",
       "    var timer = setInterval(function(root) {\n",
       "      if (root.Bokeh !== undefined) {\n",
       "        embed_document(root);\n",
       "        clearInterval(timer);\n",
       "      }\n",
       "      attempts++;\n",
       "      if (attempts > 100) {\n",
       "        console.log(\"Bokeh: ERROR: Unable to run BokehJS code because BokehJS library is missing\")\n",
       "        clearInterval(timer);\n",
       "      }\n",
       "    }, 10, root)\n",
       "  }\n",
       "})(window);"
      ],
      "application/vnd.bokehjs_exec.v0+json": ""
     },
     "metadata": {
      "application/vnd.bokehjs_exec.v0+json": {
       "id": "2f1e184e-5da9-46b9-8fae-3eca8401dddf"
      }
     },
     "output_type": "display_data"
    },
    {
     "data": {
      "text/markdown": [
       "*FIGURE.* Difference between CLIRAD and CRD in TOA, SFC and net atmosphere flux, in each spectral band."
      ],
      "text/plain": [
       "<IPython.core.display.Markdown object>"
      ]
     },
     "metadata": {},
     "output_type": "display_data"
    },
    {
     "data": {
      "text/html": [
       "<div>\n",
       "<style scoped>\n",
       "    .dataframe tbody tr th:only-of-type {\n",
       "        vertical-align: middle;\n",
       "    }\n",
       "\n",
       "    .dataframe tbody tr th {\n",
       "        vertical-align: top;\n",
       "    }\n",
       "\n",
       "    .dataframe thead th {\n",
       "        text-align: right;\n",
       "    }\n",
       "</style>\n",
       "<table border=\"1\" class=\"dataframe\">\n",
       "  <thead>\n",
       "    <tr style=\"text-align: right;\">\n",
       "      <th></th>\n",
       "      <th>OLR flux</th>\n",
       "      <th>SFC flux</th>\n",
       "      <th>ATM heating</th>\n",
       "    </tr>\n",
       "    <tr>\n",
       "      <th>Sum over bands</th>\n",
       "      <th></th>\n",
       "      <th></th>\n",
       "      <th></th>\n",
       "    </tr>\n",
       "  </thead>\n",
       "  <tbody>\n",
       "    <tr>\n",
       "      <th>old CLIRAD - CRD</th>\n",
       "      <td>0.09</td>\n",
       "      <td>1.54</td>\n",
       "      <td>-1.31</td>\n",
       "    </tr>\n",
       "    <tr>\n",
       "      <th>CLIRAD (single-run) - CRD</th>\n",
       "      <td>1.44</td>\n",
       "      <td>1.06</td>\n",
       "      <td>0.37</td>\n",
       "    </tr>\n",
       "    <tr>\n",
       "      <th>CRD</th>\n",
       "      <td>-290.39</td>\n",
       "      <td>308.14</td>\n",
       "      <td>-174.89</td>\n",
       "    </tr>\n",
       "  </tbody>\n",
       "</table>\n",
       "</div>"
      ],
      "text/plain": [
       "                           OLR flux  SFC flux  ATM heating\n",
       "Sum over bands                                            \n",
       "old CLIRAD - CRD               0.09      1.54        -1.31\n",
       "CLIRAD (single-run) - CRD      1.44      1.06         0.37\n",
       "CRD                         -290.39    308.14      -174.89"
      ]
     },
     "metadata": {},
     "output_type": "display_data"
    },
    {
     "data": {
      "text/markdown": [
       "*TABLE.* Difference between CLIRAD and CRD in TOA, SFC and net atmosphere flux, over all spectral bands. CRD's TOA, SFC and net atmosphere flux, over all spectral bands."
      ],
      "text/plain": [
       "<IPython.core.display.Markdown object>"
      ]
     },
     "metadata": {},
     "output_type": "display_data"
    },
    {
     "data": {
      "text/html": [
       "<a id=\"Cooling_rates._saw.\"></a>"
      ],
      "text/plain": [
       "<IPython.core.display.HTML object>"
      ]
     },
     "metadata": {},
     "output_type": "display_data"
    },
    {
     "data": {
      "text/markdown": [
       "# Cooling rates. saw."
      ],
      "text/plain": [
       "<IPython.core.display.Markdown object>"
      ]
     },
     "metadata": {},
     "output_type": "display_data"
    },
    {
     "data": {
      "text/html": [
       "\n",
       "<div class=\"bk-root\">\n",
       "    <div class=\"bk-plotdiv\" id=\"cbc25ce4-027e-4a42-9c22-58189cb494c7\"></div>\n",
       "</div>"
      ]
     },
     "metadata": {},
     "output_type": "display_data"
    },
    {
     "data": {
      "application/javascript": [
       "(function(root) {\n",
       "  function embed_document(root) {\n",
       "    \n",
       "  var docs_json = {\"da1cb76e-b99d-4508-9734-6c711911e319\":{\"roots\":{\"references\":[{\"attributes\":{\"overlay\":{\"id\":\"f46fdb72-dc76-4932-a5f4-4a0fa9fa3fd7\",\"type\":\"BoxAnnotation\"}},\"id\":\"db9103c2-d53c-4094-b82b-a2a88fc92371\",\"type\":\"BoxZoomTool\"},{\"attributes\":{},\"id\":\"f0d7a465-ea68-4df4-82cc-6f807a908b9f\",\"type\":\"Selection\"},{\"attributes\":{},\"id\":\"5560a27d-cfe9-4938-b181-95fa6efe6af0\",\"type\":\"UnionRenderers\"},{\"attributes\":{},\"id\":\"d4ca4267-2800-4a2f-adb5-b47a95ac7a92\",\"type\":\"BasicTickFormatter\"},{\"attributes\":{},\"id\":\"0b02e27c-412d-4264-b292-3c0d22cf7567\",\"type\":\"ResetTool\"},{\"attributes\":{\"source\":{\"id\":\"5747c09a-c524-441a-adb6-68258cb96938\",\"type\":\"ColumnDataSource\"}},\"id\":\"4260685a-481c-4694-aff5-7509652f139e\",\"type\":\"CDSView\"},{\"attributes\":{},\"id\":\"ef7a2124-f61b-4fa3-a3a6-894a88c6faeb\",\"type\":\"Selection\"},{\"attributes\":{\"label\":{\"value\":\"CRD\"},\"renderers\":[{\"id\":\"366e4f96-5b32-4c6d-995e-9dbdaa1f1ad5\",\"type\":\"GlyphRenderer\"},{\"id\":\"0655dad9-9427-44b9-b4cf-589eb0f6c449\",\"type\":\"GlyphRenderer\"}]},\"id\":\"b2026023-ca72-4896-b1bc-da9bfe6148c8\",\"type\":\"LegendItem\"},{\"attributes\":{\"data_source\":{\"id\":\"5747c09a-c524-441a-adb6-68258cb96938\",\"type\":\"ColumnDataSource\"},\"glyph\":{\"id\":\"7005fac5-6ccf-4660-8090-0a7b178da86e\",\"type\":\"Circle\"},\"hover_glyph\":null,\"muted_glyph\":null,\"nonselection_glyph\":{\"id\":\"33943b03-b88c-4c98-aff8-17de60e25f27\",\"type\":\"Circle\"},\"selection_glyph\":null,\"view\":{\"id\":\"4260685a-481c-4694-aff5-7509652f139e\",\"type\":\"CDSView\"}},\"id\":\"366e4f96-5b32-4c6d-995e-9dbdaa1f1ad5\",\"type\":\"GlyphRenderer\"},{\"attributes\":{\"source\":{\"id\":\"13ed5b1e-6b7f-4724-967a-e7fef5dc62f3\",\"type\":\"ColumnDataSource\"}},\"id\":\"1b720a69-52f9-4b3a-a4e3-2e79e206c092\",\"type\":\"CDSView\"},{\"attributes\":{},\"id\":\"4968f623-bbbc-412c-a212-16773e4361e8\",\"type\":\"UnionRenderers\"},{\"attributes\":{},\"id\":\"779fa10f-23d9-42ba-b4a1-f72cf8636b93\",\"type\":\"HelpTool\"},{\"attributes\":{\"source\":{\"id\":\"eda19ea1-87e6-4eeb-b1d4-cf0f99f233c8\",\"type\":\"ColumnDataSource\"}},\"id\":\"9510c188-ef04-4a03-88ee-d727a4f95fde\",\"type\":\"CDSView\"},{\"attributes\":{\"callback\":null,\"data\":{\"x\":{\"__ndarray__\":\"46eMdFLeQ8B9d47eavcYwAFqXP0rpwPAScHOCM8a8j96lf6VU5oLQO0RvW3X2A9AGoJd103KBkAP36wbfTjrPxEnm+Kgmu2/jjJkQ7xk+r8Gp82FcRn0v4JJrMvHvtS/a3FUdPWy4D/G+CwESvHuP5LPhhZrDu0/EKFopX0r2T/fSIyUoL3Qv+BYMwRkTOW//diJnDVe5b/kn+HI7FDavw+mer06gcG/xNQ7u1/Qsj+ClLx+uHPBP/WqjAa1prm/kJcSD0lZzb/9g3PiN/ygv7kzir6tV9E/FXtljRTn0T/Xmw9JBPu7P52unb4YHaA/S6lh4WMgxD9r8hHl3+7MP5bjzcDCqsA/s1S5uxjne7/8UgB26GhdPwL3t4VGBrM/eLflLXuzpz+JY5jMAsGZv/WWllLX6LO/Eh/dqhlJtr/aPBekLeqyv+2mBjl3Pq2/q9aJnAYDpr8M+apy3WWbv31qZ+xnuJG/Lnx3/TLfh78uR7c1ts9UvxI97BpXBHe/6irRglq8m7+ZuFnQsbiqvyUrUX4Ef6q/TtD9zO6kor9doGw0ziOjv/9qoVaYfKq/9fL7Ricpqr/7RtrWptukv4BD8d4ldZ6/FQTqA8Dulr/0VNNH+hqSv1JJ0OL7kIa/hq53k+ldgL+y2VzyjRp7v9y5nNmJLoC/OBqte1D9gb9i7CT+x1J/v6CehIT2knC/DKq+b1NuYD8KFW/IbdmEP0pHH0RJgJA/tCj3OFx2lT/karuh2vSYP5hB+AOmm5o/Lcfmg9blmT9tVo1HKLuZP/byeh9rp5g/\",\"dtype\":\"float64\",\"shape\":[75]},\"y\":{\"__ndarray__\":\"GhExyth1ND/Sv8nbtpRIP2vylNV0PVE/aTum7souWD/At0SJ8fVgPw3Iuahxymc/MSNhhJWvcD/bTfBN02d3P2zb5nxnaoA/CD5h5MAGhz8NmeH1TyaQP+zrCsc9p5Y/LbKd76fGnz/bLW5ISEmmPww9YvTcQq8/JV2OstnstT8Er5Y7M8G+P0c+r3jqkcU/5h99k6ZBzj88bCIzFzjVP4enV8oyxN0//yH99nXg5D8qOpLLf0jtP5kqGJXUifQ/c9cS8kHP/D+/DpwzojQEQIEmwoanVwxA4lgXt9HgE0BSSZ2AJuIbQAMJih9jjiNA5q4l5INuK0AwTKYKRj0zQNv5fmq8/DpAaCJseHrtQkB/+zpwzoxKQM3MzMzMeFJAZmZmZmZqWEAAAAAAAFxeQM3MzMzMJmJAmpmZmZkfZUBmZmZmZhhoQDMzMzMzEWtAAAAAAAAKbkBmZmZmZoFwQM3MzMzM/XFAMzMzMzN6c0CamZmZmfZ0QAAAAAAAc3ZAZmZmZmbvd0DNzMzMzGt5QDMzMzMz6HpAmpmZmZlkfEAAAAAAAOF9QGZmZmZmXX9AZmZmZuZsgECamZmZGSuBQM3MzMxM6YFAAAAAAICngkAzMzMzs2WDQGZmZmbmI4RAmpmZmRnihEDNzMzMTKCFQAAAAACAXoZAMzMzM7Mch0BmZmZm5tqHQJqZmZkZmYhAzczMzExXiUAAAAAAgBWKQDMzMzOz04pAZmZmZuaRi0CamZmZGVCMQM3MzMxMDo1AAAAAAIDMjUAzMzMzs4qOQGZmZmbmSI9A\",\"dtype\":\"float64\",\"shape\":[75]}},\"selected\":{\"id\":\"7c9af29d-e3b3-4094-9e56-5901fcb33919\",\"type\":\"Selection\"},\"selection_policy\":{\"id\":\"b3bda07f-b6cf-42ba-8c4d-02390d9f538d\",\"type\":\"UnionRenderers\"}},\"id\":\"93c45fdb-1350-4bc0-89e8-198887aef4c9\",\"type\":\"ColumnDataSource\"},{\"attributes\":{\"overlay\":{\"id\":\"d89fbf06-4f45-4e75-822e-12ed51c08642\",\"type\":\"BoxAnnotation\"}},\"id\":\"53be4e12-7aba-4393-977d-609ac4e40b9d\",\"type\":\"BoxZoomTool\"},{\"attributes\":{\"above\":[{\"id\":\"d5c1779f-3ebb-40c4-9f57-a37f72786fb6\",\"type\":\"Legend\"}],\"below\":[{\"id\":\"10431e97-f527-4353-9823-29de4ab0f172\",\"type\":\"LinearAxis\"}],\"left\":[{\"id\":\"abc51e53-86db-4651-b434-85ea3c70399c\",\"type\":\"LogAxis\"}],\"plot_width\":300,\"renderers\":[{\"id\":\"10431e97-f527-4353-9823-29de4ab0f172\",\"type\":\"LinearAxis\"},{\"id\":\"b5294bae-b344-4383-8226-0b35986bafe1\",\"type\":\"Grid\"},{\"id\":\"abc51e53-86db-4651-b434-85ea3c70399c\",\"type\":\"LogAxis\"},{\"id\":\"3a63bf46-5583-4fd3-8e14-183cb119101e\",\"type\":\"Grid\"},{\"id\":\"f46fdb72-dc76-4932-a5f4-4a0fa9fa3fd7\",\"type\":\"BoxAnnotation\"},{\"id\":\"9caa7554-3dcd-49a9-9dd9-888639e9eb23\",\"type\":\"GlyphRenderer\"},{\"id\":\"a652c73f-bc8d-480a-b2df-9f0477932f01\",\"type\":\"GlyphRenderer\"},{\"id\":\"d5c1779f-3ebb-40c4-9f57-a37f72786fb6\",\"type\":\"Legend\"}],\"title\":{\"id\":\"0e717587-04a3-4824-b7be-ea6fb535ce2b\",\"type\":\"Title\"},\"toolbar\":{\"id\":\"1b7604f1-bc5e-43bf-a267-68634e3cdf53\",\"type\":\"Toolbar\"},\"toolbar_location\":null,\"x_range\":{\"id\":\"ba96a151-1543-4f74-a8d1-9fefee6cd445\",\"type\":\"Range1d\"},\"x_scale\":{\"id\":\"193985ba-a866-4495-9c8c-9ec72a828c40\",\"type\":\"LinearScale\"},\"y_range\":{\"id\":\"b785009a-d95e-462c-aafe-af1ba8cafd15\",\"type\":\"Range1d\"},\"y_scale\":{\"id\":\"03c32dd9-16f7-4580-ab6d-6f6e841ee4bc\",\"type\":\"LogScale\"}},\"id\":\"4bc5e510-7868-48d7-8161-4198a0f923dd\",\"subtype\":\"Figure\",\"type\":\"Plot\"},{\"attributes\":{\"fill_alpha\":{\"value\":0.1},\"fill_color\":{\"value\":\"#1f77b4\"},\"line_alpha\":{\"value\":0.1},\"line_color\":{\"value\":\"#1f77b4\"},\"x\":{\"field\":\"x\"},\"y\":{\"field\":\"y\"}},\"id\":\"33943b03-b88c-4c98-aff8-17de60e25f27\",\"type\":\"Circle\"},{\"attributes\":{\"ticker\":null},\"id\":\"e0f1454a-f0a4-4192-99cd-6724fc62ed86\",\"type\":\"LogTickFormatter\"},{\"attributes\":{\"line_alpha\":0.8,\"line_color\":\"#984ea3\",\"line_width\":1.5,\"x\":{\"field\":\"x\"},\"y\":{\"field\":\"y\"}},\"id\":\"8c5b8bb7-b3fc-468d-8172-4ce03c2ae6d4\",\"type\":\"Line\"},{\"attributes\":{},\"id\":\"333e6c7b-1d19-4ca2-9160-ce38f32a23be\",\"type\":\"UnionRenderers\"},{\"attributes\":{\"plot\":null,\"text\":\"\"},\"id\":\"0e717587-04a3-4824-b7be-ea6fb535ce2b\",\"type\":\"Title\"},{\"attributes\":{\"callback\":null,\"data\":{\"x\":{\"__ndarray__\":\"0CYBcvU5UkCik9zf2GVBQF1VoNfLZ0BAVLxhiVXTPUDD1Wu1wJM6QFJyB025jjdAU6Aw5+b/NECYe1uuDfgyQB6bYtVTbTFAPxYSAF1HMEA00pYVm9QuQLolHbMzgC1AntlwirGsLECv+G9SjE4rQJH6ZLBp0ShAsLZQyPd/JkDyjgyf2PwkQLgyNGsrJyRAA13QbJD6I0C8hy0ilI4kQOVTXCEgcSZAovOGvZSGJUBVc/ZmUOIgQOf/6GHAyRlAcE8fAOBSFEDRur1U//gPQGFD9ZbokghAQsqHuSqSA0C91ci3W0UBQCtRQfvz7/4/kh8pntyB+j9t1/n+4TX1P773MAUjFfI/RgzR+CI28T8hBW8WHK7uPzVKjJfU8uk/0FPt4/z65T/wVYqzMPDhPz7K9C5CXuE/8+hSn9hY4T/9PPCkR6rhP1XsIC599OA/66X1nBCX3z/YbRM56QjcPz4dkSQc/dM/S7Wb8Fq00T+/yQdmX0vcP7TrGf476eM/WqNPJoWO7D9qOH1bcwDzP2bw+R5DQ/Y/RLSuQOQp+D8+aif8yAz5P0Wv6eBKRfk/0i2+IN4R+T/ik8QNFZr4PyS5UD5j/Pc/yJ68zXRG9z/2CHPL54H2P59SOhwKtPU/npkP8dfg9D8NlmVcdQz0P80ugRvuOvM/byxiAHN18j9USVZie8nxP5l9lNXYSPE/OB+F0UYP8T8Y7dsUCTHxP3EBgTHPcPE/bfx15p8S8T8FT+xkGtTuP6mdG7rkxuk/pboqTkHX5D/CrN8qGYngP7R4ZaL+htU/\",\"dtype\":\"float64\",\"shape\":[75]},\"y\":{\"__ndarray__\":\"GhExyth1ND/Sv8nbtpRIP2vylNV0PVE/aTum7souWD/At0SJ8fVgPw3Iuahxymc/MSNhhJWvcD/bTfBN02d3P2zb5nxnaoA/CD5h5MAGhz8NmeH1TyaQP+zrCsc9p5Y/LbKd76fGnz/bLW5ISEmmPww9YvTcQq8/JV2OstnstT8Er5Y7M8G+P0c+r3jqkcU/5h99k6ZBzj88bCIzFzjVP4enV8oyxN0//yH99nXg5D8qOpLLf0jtP5kqGJXUifQ/c9cS8kHP/D+/DpwzojQEQIEmwoanVwxA4lgXt9HgE0BSSZ2AJuIbQAMJih9jjiNA5q4l5INuK0AwTKYKRj0zQNv5fmq8/DpAaCJseHrtQkB/+zpwzoxKQM3MzMzMeFJAZmZmZmZqWEAAAAAAAFxeQM3MzMzMJmJAmpmZmZkfZUBmZmZmZhhoQDMzMzMzEWtAAAAAAAAKbkBmZmZmZoFwQM3MzMzM/XFAMzMzMzN6c0CamZmZmfZ0QAAAAAAAc3ZAZmZmZmbvd0DNzMzMzGt5QDMzMzMz6HpAmpmZmZlkfEAAAAAAAOF9QGZmZmZmXX9AZmZmZuZsgECamZmZGSuBQM3MzMxM6YFAAAAAAICngkAzMzMzs2WDQGZmZmbmI4RAmpmZmRnihEDNzMzMTKCFQAAAAACAXoZAMzMzM7Mch0BmZmZm5tqHQJqZmZkZmYhAzczMzExXiUAAAAAAgBWKQDMzMzOz04pAZmZmZuaRi0CamZmZGVCMQM3MzMxMDo1AAAAAAIDMjUAzMzMzs4qOQGZmZmbmSI9A\",\"dtype\":\"float64\",\"shape\":[75]}},\"selected\":{\"id\":\"f0d7a465-ea68-4df4-82cc-6f807a908b9f\",\"type\":\"Selection\"},\"selection_policy\":{\"id\":\"9b998b7d-e3e2-4fe8-a255-12b764f736db\",\"type\":\"UnionRenderers\"}},\"id\":\"5747c09a-c524-441a-adb6-68258cb96938\",\"type\":\"ColumnDataSource\"},{\"attributes\":{},\"id\":\"0007813c-32be-4b12-a958-513fdaf7d1b7\",\"type\":\"SaveTool\"},{\"attributes\":{\"ticker\":null},\"id\":\"88ab107f-6d0a-4cf7-b287-57d01d1f3f32\",\"type\":\"LogTickFormatter\"},{\"attributes\":{},\"id\":\"c4a8bd4e-1e19-4e71-8979-00bdea7c984d\",\"type\":\"UnionRenderers\"},{\"attributes\":{},\"id\":\"b3bda07f-b6cf-42ba-8c4d-02390d9f538d\",\"type\":\"UnionRenderers\"},{\"attributes\":{},\"id\":\"f7a1cef1-c3af-4606-a586-7aaf50c3a13d\",\"type\":\"Selection\"},{\"attributes\":{},\"id\":\"ed86086d-3893-4726-ad6a-ee39f00f422b\",\"type\":\"BasicTickFormatter\"},{\"attributes\":{\"line_alpha\":0.1,\"line_color\":\"#1f77b4\",\"line_width\":1.5,\"x\":{\"field\":\"x\"},\"y\":{\"field\":\"y\"}},\"id\":\"26d2af7f-2b70-4378-a307-3ff6ad093b61\",\"type\":\"Line\"},{\"attributes\":{},\"id\":\"a695c150-306e-48f5-9800-bbec2489e58b\",\"type\":\"UnionRenderers\"},{\"attributes\":{\"bottom_units\":\"screen\",\"fill_alpha\":{\"value\":0.5},\"fill_color\":{\"value\":\"lightgrey\"},\"left_units\":\"screen\",\"level\":\"overlay\",\"line_alpha\":{\"value\":1.0},\"line_color\":{\"value\":\"black\"},\"line_dash\":[4,4],\"line_width\":{\"value\":2},\"plot\":null,\"render_mode\":\"css\",\"right_units\":\"screen\",\"top_units\":\"screen\"},\"id\":\"d89fbf06-4f45-4e75-822e-12ed51c08642\",\"type\":\"BoxAnnotation\"},{\"attributes\":{},\"id\":\"fae2c767-dbd7-4098-bab4-88f11d0111cf\",\"type\":\"HelpTool\"},{\"attributes\":{},\"id\":\"fbac5cbb-e42b-4ed7-a294-8a288a953192\",\"type\":\"Selection\"},{\"attributes\":{},\"id\":\"037e963d-d531-4fee-8622-b5217bcc99e3\",\"type\":\"SaveTool\"},{\"attributes\":{\"data_source\":{\"id\":\"13ed5b1e-6b7f-4724-967a-e7fef5dc62f3\",\"type\":\"ColumnDataSource\"},\"glyph\":{\"id\":\"90fbde42-5ccb-4d5c-b863-575de5fbbaca\",\"type\":\"Circle\"},\"hover_glyph\":null,\"muted_glyph\":null,\"nonselection_glyph\":{\"id\":\"9b3c445a-543b-406e-aa1e-d42b02a5ac1f\",\"type\":\"Circle\"},\"selection_glyph\":null,\"view\":{\"id\":\"1b720a69-52f9-4b3a-a4e3-2e79e206c092\",\"type\":\"CDSView\"}},\"id\":\"9caa7554-3dcd-49a9-9dd9-888639e9eb23\",\"type\":\"GlyphRenderer\"},{\"attributes\":{\"source\":{\"id\":\"93c45fdb-1350-4bc0-89e8-198887aef4c9\",\"type\":\"ColumnDataSource\"}},\"id\":\"048169a1-3ccd-405a-9a14-a23b31e0ad90\",\"type\":\"CDSView\"},{\"attributes\":{\"plot\":null,\"text\":\"\"},\"id\":\"e8702c1c-aede-482b-93f9-77d573c10f6c\",\"type\":\"Title\"},{\"attributes\":{},\"id\":\"07d76f28-8937-4776-812b-24ae568b9e0f\",\"type\":\"Selection\"},{\"attributes\":{},\"id\":\"b86b02b6-22d1-4781-9d2f-7170f44a9324\",\"type\":\"PanTool\"},{\"attributes\":{\"label\":{\"value\":\"CLIRAD (single-run) - CRD\"},\"renderers\":[{\"id\":\"9caa7554-3dcd-49a9-9dd9-888639e9eb23\",\"type\":\"GlyphRenderer\"},{\"id\":\"a652c73f-bc8d-480a-b2df-9f0477932f01\",\"type\":\"GlyphRenderer\"}]},\"id\":\"6e5b8f7a-07aa-4cc4-8c0a-de1b69347369\",\"type\":\"LegendItem\"},{\"attributes\":{\"children\":[{\"id\":\"6e42878f-2e7f-4823-8285-c392e809bad6\",\"subtype\":\"Figure\",\"type\":\"Plot\"},{\"id\":\"2bd1c004-cc96-4b34-9947-987c1d5207d0\",\"subtype\":\"Figure\",\"type\":\"Plot\"},{\"id\":\"4bc5e510-7868-48d7-8161-4198a0f923dd\",\"subtype\":\"Figure\",\"type\":\"Plot\"}]},\"id\":\"4d1127da-4d17-4424-8801-b90a59eb0bb3\",\"type\":\"Row\"},{\"attributes\":{},\"id\":\"ef319064-6390-493d-b0f9-60b3a359d20a\",\"type\":\"BasicTickFormatter\"},{\"attributes\":{\"fill_alpha\":{\"value\":0.7},\"fill_color\":{\"value\":\"#4daf4a\"},\"line_alpha\":{\"value\":0.7},\"line_color\":{\"value\":\"#4daf4a\"},\"x\":{\"field\":\"x\"},\"y\":{\"field\":\"y\"}},\"id\":\"7005fac5-6ccf-4660-8090-0a7b178da86e\",\"type\":\"Circle\"},{\"attributes\":{\"fill_alpha\":{\"value\":0.1},\"fill_color\":{\"value\":\"#1f77b4\"},\"line_alpha\":{\"value\":0.1},\"line_color\":{\"value\":\"#1f77b4\"},\"x\":{\"field\":\"x\"},\"y\":{\"field\":\"y\"}},\"id\":\"9b3c445a-543b-406e-aa1e-d42b02a5ac1f\",\"type\":\"Circle\"},{\"attributes\":{\"plot\":null,\"text\":\"\"},\"id\":\"89624aa9-7141-42fe-93e6-e3d386c29f1d\",\"type\":\"Title\"},{\"attributes\":{\"line_color\":\"#4daf4a\",\"line_width\":1.5,\"x\":{\"field\":\"x\"},\"y\":{\"field\":\"y\"}},\"id\":\"d3feb441-2ce9-4f3b-b820-f397733ddd6b\",\"type\":\"Line\"},{\"attributes\":{\"callback\":null,\"data\":{\"x\":{\"__ndarray__\":\"0CYBcvU5UkCik9zf2GVBQF1VoNfLZ0BAVLxhiVXTPUDD1Wu1wJM6QFJyB025jjdAU6Aw5+b/NECYe1uuDfgyQB6bYtVTbTFAPxYSAF1HMEA00pYVm9QuQLolHbMzgC1AntlwirGsLECv+G9SjE4rQJH6ZLBp0ShAsLZQyPd/JkDyjgyf2PwkQLgyNGsrJyRAA13QbJD6I0C8hy0ilI4kQOVTXCEgcSZAovOGvZSGJUBVc/ZmUOIgQOf/6GHAyRlAcE8fAOBSFEDRur1U//gPQGFD9ZbokghAQsqHuSqSA0C91ci3W0UBQCtRQfvz7/4/kh8pntyB+j9t1/n+4TX1P773MAUjFfI/RgzR+CI28T8hBW8WHK7uPzVKjJfU8uk/0FPt4/z65T/wVYqzMPDhPz7K9C5CXuE/8+hSn9hY4T/9PPCkR6rhP1XsIC599OA/66X1nBCX3z/YbRM56QjcPz4dkSQc/dM/S7Wb8Fq00T+/yQdmX0vcP7TrGf476eM/WqNPJoWO7D9qOH1bcwDzP2bw+R5DQ/Y/RLSuQOQp+D8+aif8yAz5P0Wv6eBKRfk/0i2+IN4R+T/ik8QNFZr4PyS5UD5j/Pc/yJ68zXRG9z/2CHPL54H2P59SOhwKtPU/npkP8dfg9D8NlmVcdQz0P80ugRvuOvM/byxiAHN18j9USVZie8nxP5l9lNXYSPE/OB+F0UYP8T8Y7dsUCTHxP3EBgTHPcPE/bfx15p8S8T8FT+xkGtTuP6mdG7rkxuk/pboqTkHX5D/CrN8qGYngP7R4ZaL+htU/\",\"dtype\":\"float64\",\"shape\":[75]},\"y\":{\"__ndarray__\":\"GhExyth1ND/Sv8nbtpRIP2vylNV0PVE/aTum7souWD/At0SJ8fVgPw3Iuahxymc/MSNhhJWvcD/bTfBN02d3P2zb5nxnaoA/CD5h5MAGhz8NmeH1TyaQP+zrCsc9p5Y/LbKd76fGnz/bLW5ISEmmPww9YvTcQq8/JV2OstnstT8Er5Y7M8G+P0c+r3jqkcU/5h99k6ZBzj88bCIzFzjVP4enV8oyxN0//yH99nXg5D8qOpLLf0jtP5kqGJXUifQ/c9cS8kHP/D+/DpwzojQEQIEmwoanVwxA4lgXt9HgE0BSSZ2AJuIbQAMJih9jjiNA5q4l5INuK0AwTKYKRj0zQNv5fmq8/DpAaCJseHrtQkB/+zpwzoxKQM3MzMzMeFJAZmZmZmZqWEAAAAAAAFxeQM3MzMzMJmJAmpmZmZkfZUBmZmZmZhhoQDMzMzMzEWtAAAAAAAAKbkBmZmZmZoFwQM3MzMzM/XFAMzMzMzN6c0CamZmZmfZ0QAAAAAAAc3ZAZmZmZmbvd0DNzMzMzGt5QDMzMzMz6HpAmpmZmZlkfEAAAAAAAOF9QGZmZmZmXX9AZmZmZuZsgECamZmZGSuBQM3MzMxM6YFAAAAAAICngkAzMzMzs2WDQGZmZmbmI4RAmpmZmRnihEDNzMzMTKCFQAAAAACAXoZAMzMzM7Mch0BmZmZm5tqHQJqZmZkZmYhAzczMzExXiUAAAAAAgBWKQDMzMzOz04pAZmZmZuaRi0CamZmZGVCMQM3MzMxMDo1AAAAAAIDMjUAzMzMzs4qOQGZmZmbmSI9A\",\"dtype\":\"float64\",\"shape\":[75]}},\"selected\":{\"id\":\"ef7a2124-f61b-4fa3-a3a6-894a88c6faeb\",\"type\":\"Selection\"},\"selection_policy\":{\"id\":\"333e6c7b-1d19-4ca2-9160-ce38f32a23be\",\"type\":\"UnionRenderers\"}},\"id\":\"4d12e43a-861a-4af4-a005-816993e27fd3\",\"type\":\"ColumnDataSource\"},{\"attributes\":{\"children\":[{\"id\":\"4d1127da-4d17-4424-8801-b90a59eb0bb3\",\"type\":\"Row\"}]},\"id\":\"ae327b95-6358-44dc-94ea-58f70dd87e87\",\"type\":\"Column\"},{\"attributes\":{},\"id\":\"466d1bc5-53de-4525-8a19-78626bcba567\",\"type\":\"Selection\"},{\"attributes\":{},\"id\":\"d96c5a1b-f2fc-41c3-bbc4-35ca1c5a9250\",\"type\":\"BasicTickFormatter\"},{\"attributes\":{\"line_alpha\":0.1,\"line_color\":\"#1f77b4\",\"line_width\":1.5,\"x\":{\"field\":\"x\"},\"y\":{\"field\":\"y\"}},\"id\":\"ac5e378b-3e46-4ad5-b995-ff560ce9bc38\",\"type\":\"Line\"},{\"attributes\":{\"data_source\":{\"id\":\"eda19ea1-87e6-4eeb-b1d4-cf0f99f233c8\",\"type\":\"ColumnDataSource\"},\"glyph\":{\"id\":\"d2166388-d55b-46bb-a8de-a0f9cdaa1911\",\"type\":\"Line\"},\"hover_glyph\":null,\"muted_glyph\":null,\"nonselection_glyph\":{\"id\":\"3967a3e7-f0ea-486d-a351-1d688b3dfeab\",\"type\":\"Line\"},\"selection_glyph\":null,\"view\":{\"id\":\"9510c188-ef04-4a03-88ee-d727a4f95fde\",\"type\":\"CDSView\"}},\"id\":\"62503d4b-3a3a-46d8-b380-2f3484575bdc\",\"type\":\"GlyphRenderer\"},{\"attributes\":{\"fill_alpha\":{\"value\":0.7},\"fill_color\":{\"value\":\"#984ea3\"},\"line_alpha\":{\"value\":0.7},\"line_color\":{\"value\":\"#984ea3\"},\"x\":{\"field\":\"x\"},\"y\":{\"field\":\"y\"}},\"id\":\"90fbde42-5ccb-4d5c-b863-575de5fbbaca\",\"type\":\"Circle\"},{\"attributes\":{},\"id\":\"9b998b7d-e3e2-4fe8-a255-12b764f736db\",\"type\":\"UnionRenderers\"},{\"attributes\":{\"bottom_units\":\"screen\",\"fill_alpha\":{\"value\":0.5},\"fill_color\":{\"value\":\"lightgrey\"},\"left_units\":\"screen\",\"level\":\"overlay\",\"line_alpha\":{\"value\":1.0},\"line_color\":{\"value\":\"black\"},\"line_dash\":[4,4],\"line_width\":{\"value\":2},\"plot\":null,\"render_mode\":\"css\",\"right_units\":\"screen\",\"top_units\":\"screen\"},\"id\":\"f46fdb72-dc76-4932-a5f4-4a0fa9fa3fd7\",\"type\":\"BoxAnnotation\"},{\"attributes\":{\"callback\":null,\"data\":{\"x\":{\"__ndarray__\":\"46eMdFLeQ8B9d47eavcYwAFqXP0rpwPAScHOCM8a8j96lf6VU5oLQO0RvW3X2A9AGoJd103KBkAP36wbfTjrPxEnm+Kgmu2/jjJkQ7xk+r8Gp82FcRn0v4JJrMvHvtS/a3FUdPWy4D/G+CwESvHuP5LPhhZrDu0/EKFopX0r2T/fSIyUoL3Qv+BYMwRkTOW//diJnDVe5b/kn+HI7FDavw+mer06gcG/xNQ7u1/Qsj+ClLx+uHPBP/WqjAa1prm/kJcSD0lZzb/9g3PiN/ygv7kzir6tV9E/FXtljRTn0T/Xmw9JBPu7P52unb4YHaA/S6lh4WMgxD9r8hHl3+7MP5bjzcDCqsA/s1S5uxjne7/8UgB26GhdPwL3t4VGBrM/eLflLXuzpz+JY5jMAsGZv/WWllLX6LO/Eh/dqhlJtr/aPBekLeqyv+2mBjl3Pq2/q9aJnAYDpr8M+apy3WWbv31qZ+xnuJG/Lnx3/TLfh78uR7c1ts9UvxI97BpXBHe/6irRglq8m7+ZuFnQsbiqvyUrUX4Ef6q/TtD9zO6kor9doGw0ziOjv/9qoVaYfKq/9fL7Ricpqr/7RtrWptukv4BD8d4ldZ6/FQTqA8Dulr/0VNNH+hqSv1JJ0OL7kIa/hq53k+ldgL+y2VzyjRp7v9y5nNmJLoC/OBqte1D9gb9i7CT+x1J/v6CehIT2knC/DKq+b1NuYD8KFW/IbdmEP0pHH0RJgJA/tCj3OFx2lT/karuh2vSYP5hB+AOmm5o/Lcfmg9blmT9tVo1HKLuZP/byeh9rp5g/\",\"dtype\":\"float64\",\"shape\":[75]},\"y\":{\"__ndarray__\":\"GhExyth1ND/Sv8nbtpRIP2vylNV0PVE/aTum7souWD/At0SJ8fVgPw3Iuahxymc/MSNhhJWvcD/bTfBN02d3P2zb5nxnaoA/CD5h5MAGhz8NmeH1TyaQP+zrCsc9p5Y/LbKd76fGnz/bLW5ISEmmPww9YvTcQq8/JV2OstnstT8Er5Y7M8G+P0c+r3jqkcU/5h99k6ZBzj88bCIzFzjVP4enV8oyxN0//yH99nXg5D8qOpLLf0jtP5kqGJXUifQ/c9cS8kHP/D+/DpwzojQEQIEmwoanVwxA4lgXt9HgE0BSSZ2AJuIbQAMJih9jjiNA5q4l5INuK0AwTKYKRj0zQNv5fmq8/DpAaCJseHrtQkB/+zpwzoxKQM3MzMzMeFJAZmZmZmZqWEAAAAAAAFxeQM3MzMzMJmJAmpmZmZkfZUBmZmZmZhhoQDMzMzMzEWtAAAAAAAAKbkBmZmZmZoFwQM3MzMzM/XFAMzMzMzN6c0CamZmZmfZ0QAAAAAAAc3ZAZmZmZmbvd0DNzMzMzGt5QDMzMzMz6HpAmpmZmZlkfEAAAAAAAOF9QGZmZmZmXX9AZmZmZuZsgECamZmZGSuBQM3MzMxM6YFAAAAAAICngkAzMzMzs2WDQGZmZmbmI4RAmpmZmRnihEDNzMzMTKCFQAAAAACAXoZAMzMzM7Mch0BmZmZm5tqHQJqZmZkZmYhAzczMzExXiUAAAAAAgBWKQDMzMzOz04pAZmZmZuaRi0CamZmZGVCMQM3MzMxMDo1AAAAAAIDMjUAzMzMzs4qOQGZmZmbmSI9A\",\"dtype\":\"float64\",\"shape\":[75]}},\"selected\":{\"id\":\"a25735f4-caeb-4d24-8cd8-bfa1a9fee715\",\"type\":\"Selection\"},\"selection_policy\":{\"id\":\"c4a8bd4e-1e19-4e71-8979-00bdea7c984d\",\"type\":\"UnionRenderers\"}},\"id\":\"13ed5b1e-6b7f-4724-967a-e7fef5dc62f3\",\"type\":\"ColumnDataSource\"},{\"attributes\":{\"data_source\":{\"id\":\"93c45fdb-1350-4bc0-89e8-198887aef4c9\",\"type\":\"ColumnDataSource\"},\"glyph\":{\"id\":\"8c5b8bb7-b3fc-468d-8172-4ce03c2ae6d4\",\"type\":\"Line\"},\"hover_glyph\":null,\"muted_glyph\":null,\"nonselection_glyph\":{\"id\":\"ac5e378b-3e46-4ad5-b995-ff560ce9bc38\",\"type\":\"Line\"},\"selection_glyph\":null,\"view\":{\"id\":\"048169a1-3ccd-405a-9a14-a23b31e0ad90\",\"type\":\"CDSView\"}},\"id\":\"a652c73f-bc8d-480a-b2df-9f0477932f01\",\"type\":\"GlyphRenderer\"},{\"attributes\":{\"line_alpha\":0.1,\"line_color\":\"#1f77b4\",\"line_dash\":[6],\"line_width\":5,\"x\":{\"field\":\"x\"},\"y\":{\"field\":\"y\"}},\"id\":\"3967a3e7-f0ea-486d-a351-1d688b3dfeab\",\"type\":\"Line\"},{\"attributes\":{},\"id\":\"a25735f4-caeb-4d24-8cd8-bfa1a9fee715\",\"type\":\"Selection\"},{\"attributes\":{},\"id\":\"357f63eb-adf5-457f-ad54-44e82b7ba846\",\"type\":\"WheelZoomTool\"},{\"attributes\":{},\"id\":\"1e7a361a-0336-4994-a731-9d6b1b71cf83\",\"type\":\"ResetTool\"},{\"attributes\":{\"data_source\":{\"id\":\"4d12e43a-861a-4af4-a005-816993e27fd3\",\"type\":\"ColumnDataSource\"},\"glyph\":{\"id\":\"d3feb441-2ce9-4f3b-b820-f397733ddd6b\",\"type\":\"Line\"},\"hover_glyph\":null,\"muted_glyph\":null,\"nonselection_glyph\":{\"id\":\"26d2af7f-2b70-4378-a307-3ff6ad093b61\",\"type\":\"Line\"},\"selection_glyph\":null,\"view\":{\"id\":\"53d233ce-ca21-4848-987e-fb1c37c0364e\",\"type\":\"CDSView\"}},\"id\":\"0655dad9-9427-44b9-b4cf-589eb0f6c449\",\"type\":\"GlyphRenderer\"},{\"attributes\":{},\"id\":\"9f542643-36a8-49fe-8753-d0cb61a2554b\",\"type\":\"HelpTool\"},{\"attributes\":{},\"id\":\"d135ba71-64e9-449a-aef3-48a367d76655\",\"type\":\"ResetTool\"},{\"attributes\":{\"bottom_units\":\"screen\",\"fill_alpha\":{\"value\":0.5},\"fill_color\":{\"value\":\"lightgrey\"},\"left_units\":\"screen\",\"level\":\"overlay\",\"line_alpha\":{\"value\":1.0},\"line_color\":{\"value\":\"black\"},\"line_dash\":[4,4],\"line_width\":{\"value\":2},\"plot\":null,\"render_mode\":\"css\",\"right_units\":\"screen\",\"top_units\":\"screen\"},\"id\":\"58ee83bc-e0bb-41f4-bb11-3bc5836a781e\",\"type\":\"BoxAnnotation\"},{\"attributes\":{},\"id\":\"03c32dd9-16f7-4580-ab6d-6f6e841ee4bc\",\"type\":\"LogScale\"},{\"attributes\":{\"callback\":null,\"end\":0.01,\"start\":1020},\"id\":\"b785009a-d95e-462c-aafe-af1ba8cafd15\",\"type\":\"Range1d\"},{\"attributes\":{\"dimension\":1,\"plot\":{\"id\":\"4bc5e510-7868-48d7-8161-4198a0f923dd\",\"subtype\":\"Figure\",\"type\":\"Plot\"},\"ticker\":{\"id\":\"c4c5b5f4-6dc0-429e-85ea-4843e42fd06c\",\"type\":\"LogTicker\"}},\"id\":\"3a63bf46-5583-4fd3-8e14-183cb119101e\",\"type\":\"Grid\"},{\"attributes\":{},\"id\":\"02faa9dc-8614-4ba3-9e4f-cadfcebdce3b\",\"type\":\"SaveTool\"},{\"attributes\":{\"overlay\":{\"id\":\"58ee83bc-e0bb-41f4-bb11-3bc5836a781e\",\"type\":\"BoxAnnotation\"}},\"id\":\"e186de72-a749-4e41-b9ba-99ea045f3e09\",\"type\":\"BoxZoomTool\"},{\"attributes\":{\"axis_label\":\"cooling rate [K/day]\",\"formatter\":{\"id\":\"d96c5a1b-f2fc-41c3-bbc4-35ca1c5a9250\",\"type\":\"BasicTickFormatter\"},\"plot\":{\"id\":\"4bc5e510-7868-48d7-8161-4198a0f923dd\",\"subtype\":\"Figure\",\"type\":\"Plot\"},\"ticker\":{\"id\":\"91ecf4f1-49c3-473e-b3ce-cc9d279207b1\",\"type\":\"BasicTicker\"}},\"id\":\"10431e97-f527-4353-9823-29de4ab0f172\",\"type\":\"LinearAxis\"},{\"attributes\":{},\"id\":\"193985ba-a866-4495-9c8c-9ec72a828c40\",\"type\":\"LinearScale\"},{\"attributes\":{\"axis_label\":\"pressure [mb]\",\"formatter\":{\"id\":\"88ab107f-6d0a-4cf7-b287-57d01d1f3f32\",\"type\":\"LogTickFormatter\"},\"plot\":{\"id\":\"4bc5e510-7868-48d7-8161-4198a0f923dd\",\"subtype\":\"Figure\",\"type\":\"Plot\"},\"ticker\":{\"id\":\"c4c5b5f4-6dc0-429e-85ea-4843e42fd06c\",\"type\":\"LogTicker\"}},\"id\":\"abc51e53-86db-4651-b434-85ea3c70399c\",\"type\":\"LogAxis\"},{\"attributes\":{},\"id\":\"bbf95fcb-f2fb-4c7a-9cc3-e6a8ceef82c5\",\"type\":\"UnionRenderers\"},{\"attributes\":{\"items\":[{\"id\":\"6e5b8f7a-07aa-4cc4-8c0a-de1b69347369\",\"type\":\"LegendItem\"}],\"label_text_font_size\":{\"value\":\"8pt\"},\"location\":\"top_center\",\"orientation\":\"horizontal\",\"plot\":{\"id\":\"4bc5e510-7868-48d7-8161-4198a0f923dd\",\"subtype\":\"Figure\",\"type\":\"Plot\"}},\"id\":\"d5c1779f-3ebb-40c4-9f57-a37f72786fb6\",\"type\":\"Legend\"},{\"attributes\":{\"num_minor_ticks\":10},\"id\":\"c4c5b5f4-6dc0-429e-85ea-4843e42fd06c\",\"type\":\"LogTicker\"},{\"attributes\":{\"dimension\":1,\"plot\":{\"id\":\"6e42878f-2e7f-4823-8285-c392e809bad6\",\"subtype\":\"Figure\",\"type\":\"Plot\"},\"ticker\":{\"id\":\"6aa17308-57bf-430b-8914-5e62aad8da62\",\"type\":\"BasicTicker\"}},\"id\":\"fb194b35-f947-4654-9cc0-dec8a0108374\",\"type\":\"Grid\"},{\"attributes\":{\"line_alpha\":0.6,\"line_color\":\"#377eb8\",\"line_dash\":[6],\"line_width\":5,\"x\":{\"field\":\"x\"},\"y\":{\"field\":\"y\"}},\"id\":\"85dd2dd3-1d3a-4e68-9ad0-6bf0c97ae5ba\",\"type\":\"Line\"},{\"attributes\":{\"line_alpha\":0.1,\"line_color\":\"#1f77b4\",\"line_dash\":[6],\"line_width\":5,\"x\":{\"field\":\"x\"},\"y\":{\"field\":\"y\"}},\"id\":\"e7d909b2-a6fb-4dc0-ae28-77f5c985f6b3\",\"type\":\"Line\"},{\"attributes\":{},\"id\":\"91ecf4f1-49c3-473e-b3ce-cc9d279207b1\",\"type\":\"BasicTicker\"},{\"attributes\":{},\"id\":\"4265b771-a0d2-4097-bcfb-66496e80cbc5\",\"type\":\"WheelZoomTool\"},{\"attributes\":{},\"id\":\"31aba63e-1ad3-47b9-b172-55b07baae526\",\"type\":\"PanTool\"},{\"attributes\":{\"plot\":{\"id\":\"4bc5e510-7868-48d7-8161-4198a0f923dd\",\"subtype\":\"Figure\",\"type\":\"Plot\"},\"ticker\":{\"id\":\"91ecf4f1-49c3-473e-b3ce-cc9d279207b1\",\"type\":\"BasicTicker\"}},\"id\":\"b5294bae-b344-4383-8226-0b35986bafe1\",\"type\":\"Grid\"},{\"attributes\":{\"callback\":null,\"end\":0.9931197174736404,\"start\":-1.6757590827576396},\"id\":\"ba96a151-1543-4f74-a8d1-9fefee6cd445\",\"type\":\"Range1d\"},{\"attributes\":{\"callback\":null,\"data\":{\"x\":{\"__ndarray__\":\"0CYBcvU5UkCik9zf2GVBQF1VoNfLZ0BAVLxhiVXTPUDD1Wu1wJM6QFJyB025jjdAU6Aw5+b/NECYe1uuDfgyQB6bYtVTbTFAPxYSAF1HMEA00pYVm9QuQLolHbMzgC1AntlwirGsLECv+G9SjE4rQJH6ZLBp0ShAsLZQyPd/JkDyjgyf2PwkQLgyNGsrJyRAA13QbJD6I0C8hy0ilI4kQOVTXCEgcSZAovOGvZSGJUBVc/ZmUOIgQOf/6GHAyRlAcE8fAOBSFEDRur1U//gPQGFD9ZbokghAQsqHuSqSA0C91ci3W0UBQCtRQfvz7/4/kh8pntyB+j9t1/n+4TX1P773MAUjFfI/RgzR+CI28T8hBW8WHK7uPzVKjJfU8uk/0FPt4/z65T/wVYqzMPDhPz7K9C5CXuE/8+hSn9hY4T/9PPCkR6rhP1XsIC599OA/66X1nBCX3z/YbRM56QjcPz4dkSQc/dM/S7Wb8Fq00T+/yQdmX0vcP7TrGf476eM/WqNPJoWO7D9qOH1bcwDzP2bw+R5DQ/Y/RLSuQOQp+D8+aif8yAz5P0Wv6eBKRfk/0i2+IN4R+T/ik8QNFZr4PyS5UD5j/Pc/yJ68zXRG9z/2CHPL54H2P59SOhwKtPU/npkP8dfg9D8NlmVcdQz0P80ugRvuOvM/byxiAHN18j9USVZie8nxP5l9lNXYSPE/OB+F0UYP8T8Y7dsUCTHxP3EBgTHPcPE/bfx15p8S8T8FT+xkGtTuP6mdG7rkxuk/pboqTkHX5D/CrN8qGYngP7R4ZaL+htU/\",\"dtype\":\"float64\",\"shape\":[75]},\"y\":{\"__ndarray__\":\"GhExyth1ND/Sv8nbtpRIP2vylNV0PVE/aTum7souWD/At0SJ8fVgPw3Iuahxymc/MSNhhJWvcD/bTfBN02d3P2zb5nxnaoA/CD5h5MAGhz8NmeH1TyaQP+zrCsc9p5Y/LbKd76fGnz/bLW5ISEmmPww9YvTcQq8/JV2OstnstT8Er5Y7M8G+P0c+r3jqkcU/5h99k6ZBzj88bCIzFzjVP4enV8oyxN0//yH99nXg5D8qOpLLf0jtP5kqGJXUifQ/c9cS8kHP/D+/DpwzojQEQIEmwoanVwxA4lgXt9HgE0BSSZ2AJuIbQAMJih9jjiNA5q4l5INuK0AwTKYKRj0zQNv5fmq8/DpAaCJseHrtQkB/+zpwzoxKQM3MzMzMeFJAZmZmZmZqWEAAAAAAAFxeQM3MzMzMJmJAmpmZmZkfZUBmZmZmZhhoQDMzMzMzEWtAAAAAAAAKbkBmZmZmZoFwQM3MzMzM/XFAMzMzMzN6c0CamZmZmfZ0QAAAAAAAc3ZAZmZmZmbvd0DNzMzMzGt5QDMzMzMz6HpAmpmZmZlkfEAAAAAAAOF9QGZmZmZmXX9AZmZmZuZsgECamZmZGSuBQM3MzMxM6YFAAAAAAICngkAzMzMzs2WDQGZmZmbmI4RAmpmZmRnihEDNzMzMTKCFQAAAAACAXoZAMzMzM7Mch0BmZmZm5tqHQJqZmZkZmYhAzczMzExXiUAAAAAAgBWKQDMzMzOz04pAZmZmZuaRi0CamZmZGVCMQM3MzMxMDo1AAAAAAIDMjUAzMzMzs4qOQGZmZmbmSI9A\",\"dtype\":\"float64\",\"shape\":[75]}},\"selected\":{\"id\":\"f7a1cef1-c3af-4606-a586-7aaf50c3a13d\",\"type\":\"Selection\"},\"selection_policy\":{\"id\":\"5560a27d-cfe9-4938-b181-95fa6efe6af0\",\"type\":\"UnionRenderers\"}},\"id\":\"02c44f11-5af8-483d-af95-a010dde0be78\",\"type\":\"ColumnDataSource\"},{\"attributes\":{\"fill_alpha\":{\"value\":0.1},\"fill_color\":{\"value\":\"#1f77b4\"},\"line_alpha\":{\"value\":0.1},\"line_color\":{\"value\":\"#1f77b4\"},\"x\":{\"field\":\"x\"},\"y\":{\"field\":\"y\"}},\"id\":\"0a70e9a5-f046-4c1b-8a61-96a8d5f462e8\",\"type\":\"Circle\"},{\"attributes\":{},\"id\":\"7c9af29d-e3b3-4094-9e56-5901fcb33919\",\"type\":\"Selection\"},{\"attributes\":{\"axis_label\":\"cooling rate [K/day]\",\"formatter\":{\"id\":\"ed86086d-3893-4726-ad6a-ee39f00f422b\",\"type\":\"BasicTickFormatter\"},\"plot\":{\"id\":\"2bd1c004-cc96-4b34-9947-987c1d5207d0\",\"subtype\":\"Figure\",\"type\":\"Plot\"},\"ticker\":{\"id\":\"4fb18dfb-70ee-4cb2-ae0b-0d3cb7b7dfcf\",\"type\":\"BasicTicker\"}},\"id\":\"b2e55595-79a0-42f3-909d-712f9ad49c66\",\"type\":\"LinearAxis\"},{\"attributes\":{\"children\":[{\"id\":\"3e34077b-6de9-4230-be43-a4c8b35ab05d\",\"type\":\"ToolbarBox\"},{\"id\":\"ae327b95-6358-44dc-94ea-58f70dd87e87\",\"type\":\"Column\"}]},\"id\":\"dc902e08-6641-4611-8fec-709ede3993cf\",\"type\":\"Column\"},{\"attributes\":{\"callback\":null,\"end\":16.437000024214036,\"start\":0.29680535696996},\"id\":\"4774c8e9-b63d-48df-b99f-d9ea96e635ac\",\"type\":\"Range1d\"},{\"attributes\":{\"data_source\":{\"id\":\"12b66caa-2778-4003-b2ad-13a80be7171d\",\"type\":\"ColumnDataSource\"},\"glyph\":{\"id\":\"2974ad39-ced8-4e09-b59a-47ed1ea3a83d\",\"type\":\"Circle\"},\"hover_glyph\":null,\"muted_glyph\":null,\"nonselection_glyph\":{\"id\":\"0a70e9a5-f046-4c1b-8a61-96a8d5f462e8\",\"type\":\"Circle\"},\"selection_glyph\":null,\"view\":{\"id\":\"38bde1b0-c63f-400a-9d66-912b6ccdb435\",\"type\":\"CDSView\"}},\"id\":\"bebafd0b-7c31-49dd-9d7f-e9938ea43f54\",\"type\":\"GlyphRenderer\"},{\"attributes\":{\"callback\":null,\"data\":{\"x\":{\"__ndarray__\":\"vqV1b5iVQEBniRUI1408QHodlS+yWj5AaajueQL1PkBzqCsoCwc+QJAUvzrUiTtAk1AcojDZN0CQ4jiX0dEzQOTBTc5+gDBALKa3dyJCLUBSHd3kbFEsQG7Dv3Q92ixAtiC24eC3LUA8yLLyoD0tQItnzWFQoipAuPt7tVNJJ0CsLGia63YkQCr98Cpl0iJAcr8HE62kIkC9eua7DLwjQE5pZjYbKyZASWv9fDWsJUCoZfFIHyghQD7Nzo0lYxlAtLqmtxVoE0DB7DN1DrUPQNeJxk7evQpApHk0Sw3PBUCbUhHaMyUCQKE+NsHccP8/vVRVGukF/T+8FZz7vdP4PzG0Sl17KvQ/8lIV4Dsa8T9LBaqK0LzuPxdJQ2idU+w/Rq/LljR25z/SkiWdKCLhP73uQ4lOwt0/I4ru02of3T/DqtrgA5reP88DIXUrQd4/GWtkya/W3D9Kvuhhi1LaP5amyqWV4dI/aPmvWGH10D93EtKvjzbcPzkT5E8zu+M/ARo5UqKw6z+mavrMrSryPwxnB/tKb/U/w8VGyryU9z85BYSKqnP4P+6jNB5mcfg/Ok6G5pRA+D+rwQ3XN/P3PxX01KaOgvc/uPaszbnq9j+iu1Piezn2Pw2ydCTohvU/QKroHRzA9D80OXPOWvHzP1n1zQeRGvM/OdJqX3hR8j9nJFiaKKrxP/v4D99FOPE/jP48+30X8T9By2zwu1rxP5B+kVbQsvE/ENlZV3lo8T9dKvo5wZvvP7hfO+rBm+o/4PBJAnCm5T93Fxxt8lbhP+EnXVR1Edc/\",\"dtype\":\"float64\",\"shape\":[75]},\"y\":{\"__ndarray__\":\"GhExyth1ND/Sv8nbtpRIP2vylNV0PVE/aTum7souWD/At0SJ8fVgPw3Iuahxymc/MSNhhJWvcD/bTfBN02d3P2zb5nxnaoA/CD5h5MAGhz8NmeH1TyaQP+zrCsc9p5Y/LbKd76fGnz/bLW5ISEmmPww9YvTcQq8/JV2OstnstT8Er5Y7M8G+P0c+r3jqkcU/5h99k6ZBzj88bCIzFzjVP4enV8oyxN0//yH99nXg5D8qOpLLf0jtP5kqGJXUifQ/c9cS8kHP/D+/DpwzojQEQIEmwoanVwxA4lgXt9HgE0BSSZ2AJuIbQAMJih9jjiNA5q4l5INuK0AwTKYKRj0zQNv5fmq8/DpAaCJseHrtQkB/+zpwzoxKQM3MzMzMeFJAZmZmZmZqWEAAAAAAAFxeQM3MzMzMJmJAmpmZmZkfZUBmZmZmZhhoQDMzMzMzEWtAAAAAAAAKbkBmZmZmZoFwQM3MzMzM/XFAMzMzMzN6c0CamZmZmfZ0QAAAAAAAc3ZAZmZmZmbvd0DNzMzMzGt5QDMzMzMz6HpAmpmZmZlkfEAAAAAAAOF9QGZmZmZmXX9AZmZmZuZsgECamZmZGSuBQM3MzMxM6YFAAAAAAICngkAzMzMzs2WDQGZmZmbmI4RAmpmZmRnihEDNzMzMTKCFQAAAAACAXoZAMzMzM7Mch0BmZmZm5tqHQJqZmZkZmYhAzczMzExXiUAAAAAAgBWKQDMzMzOz04pAZmZmZuaRi0CamZmZGVCMQM3MzMxMDo1AAAAAAIDMjUAzMzMzs4qOQGZmZmbmSI9A\",\"dtype\":\"float64\",\"shape\":[75]}},\"selected\":{\"id\":\"fbac5cbb-e42b-4ed7-a294-8a288a953192\",\"type\":\"Selection\"},\"selection_policy\":{\"id\":\"bbf95fcb-f2fb-4c7a-9cc3-e6a8ceef82c5\",\"type\":\"UnionRenderers\"}},\"id\":\"eda19ea1-87e6-4eeb-b1d4-cf0f99f233c8\",\"type\":\"ColumnDataSource\"},{\"attributes\":{},\"id\":\"e8d97d96-0c08-4f32-be6d-8939016b5b6c\",\"type\":\"LogScale\"},{\"attributes\":{\"tools\":[{\"id\":\"b7f29824-34d7-441a-9128-c59c67cff154\",\"type\":\"PanTool\"},{\"id\":\"0cca6563-8a62-4f83-ad73-f9e5782cdf2b\",\"type\":\"WheelZoomTool\"},{\"id\":\"e186de72-a749-4e41-b9ba-99ea045f3e09\",\"type\":\"BoxZoomTool\"},{\"id\":\"02faa9dc-8614-4ba3-9e4f-cadfcebdce3b\",\"type\":\"SaveTool\"},{\"id\":\"d135ba71-64e9-449a-aef3-48a367d76655\",\"type\":\"ResetTool\"},{\"id\":\"9f542643-36a8-49fe-8753-d0cb61a2554b\",\"type\":\"HelpTool\"},{\"id\":\"b86b02b6-22d1-4781-9d2f-7170f44a9324\",\"type\":\"PanTool\"},{\"id\":\"357f63eb-adf5-457f-ad54-44e82b7ba846\",\"type\":\"WheelZoomTool\"},{\"id\":\"53be4e12-7aba-4393-977d-609ac4e40b9d\",\"type\":\"BoxZoomTool\"},{\"id\":\"037e963d-d531-4fee-8622-b5217bcc99e3\",\"type\":\"SaveTool\"},{\"id\":\"1e7a361a-0336-4994-a731-9d6b1b71cf83\",\"type\":\"ResetTool\"},{\"id\":\"fae2c767-dbd7-4098-bab4-88f11d0111cf\",\"type\":\"HelpTool\"},{\"id\":\"31aba63e-1ad3-47b9-b172-55b07baae526\",\"type\":\"PanTool\"},{\"id\":\"4265b771-a0d2-4097-bcfb-66496e80cbc5\",\"type\":\"WheelZoomTool\"},{\"id\":\"db9103c2-d53c-4094-b82b-a2a88fc92371\",\"type\":\"BoxZoomTool\"},{\"id\":\"0007813c-32be-4b12-a958-513fdaf7d1b7\",\"type\":\"SaveTool\"},{\"id\":\"0b02e27c-412d-4264-b292-3c0d22cf7567\",\"type\":\"ResetTool\"},{\"id\":\"779fa10f-23d9-42ba-b4a1-f72cf8636b93\",\"type\":\"HelpTool\"}]},\"id\":\"fe2b3f9c-10c7-4f28-b955-4f0afcdff43f\",\"type\":\"ProxyToolbar\"},{\"attributes\":{\"num_minor_ticks\":10},\"id\":\"ac4a0e15-dea0-49c3-b0c6-68c69bedc2e2\",\"type\":\"LogTicker\"},{\"attributes\":{\"line_alpha\":0.1,\"line_color\":\"#1f77b4\",\"line_width\":1.5,\"x\":{\"field\":\"x\"},\"y\":{\"field\":\"y\"}},\"id\":\"96d2b1a8-f087-438c-a0b5-c8db6aa8299d\",\"type\":\"Line\"},{\"attributes\":{\"above\":[{\"id\":\"ef695e3c-879a-435c-a47d-8e4df5083757\",\"type\":\"Legend\"}],\"below\":[{\"id\":\"b2e55595-79a0-42f3-909d-712f9ad49c66\",\"type\":\"LinearAxis\"}],\"left\":[{\"id\":\"9c0f0462-9b6e-4117-9cc2-a546df716b79\",\"type\":\"LogAxis\"}],\"plot_width\":300,\"renderers\":[{\"id\":\"b2e55595-79a0-42f3-909d-712f9ad49c66\",\"type\":\"LinearAxis\"},{\"id\":\"d03cc2e2-0a1b-4689-877d-ebdd904885ac\",\"type\":\"Grid\"},{\"id\":\"9c0f0462-9b6e-4117-9cc2-a546df716b79\",\"type\":\"LogAxis\"},{\"id\":\"3fbec26e-2110-4395-b8cf-54a321555b06\",\"type\":\"Grid\"},{\"id\":\"d89fbf06-4f45-4e75-822e-12ed51c08642\",\"type\":\"BoxAnnotation\"},{\"id\":\"62503d4b-3a3a-46d8-b380-2f3484575bdc\",\"type\":\"GlyphRenderer\"},{\"id\":\"366e4f96-5b32-4c6d-995e-9dbdaa1f1ad5\",\"type\":\"GlyphRenderer\"},{\"id\":\"0655dad9-9427-44b9-b4cf-589eb0f6c449\",\"type\":\"GlyphRenderer\"},{\"id\":\"ef695e3c-879a-435c-a47d-8e4df5083757\",\"type\":\"Legend\"}],\"title\":{\"id\":\"89624aa9-7141-42fe-93e6-e3d386c29f1d\",\"type\":\"Title\"},\"toolbar\":{\"id\":\"33a12a13-89f8-4954-b885-506f86434191\",\"type\":\"Toolbar\"},\"toolbar_location\":null,\"x_range\":{\"id\":\"4774c8e9-b63d-48df-b99f-d9ea96e635ac\",\"type\":\"Range1d\"},\"x_scale\":{\"id\":\"b609893b-f538-4bcc-a714-2ecd87250ccf\",\"type\":\"LinearScale\"},\"y_range\":{\"id\":\"19012924-ce64-4189-94e6-c0e57ada1608\",\"type\":\"Range1d\"},\"y_scale\":{\"id\":\"e8d97d96-0c08-4f32-be6d-8939016b5b6c\",\"type\":\"LogScale\"}},\"id\":\"2bd1c004-cc96-4b34-9947-987c1d5207d0\",\"subtype\":\"Figure\",\"type\":\"Plot\"},{\"attributes\":{\"items\":[{\"id\":\"a6902e9b-71fb-44d3-9dda-b378f2751782\",\"type\":\"LegendItem\"},{\"id\":\"b2026023-ca72-4896-b1bc-da9bfe6148c8\",\"type\":\"LegendItem\"}],\"label_text_font_size\":{\"value\":\"8pt\"},\"location\":\"top_center\",\"orientation\":\"horizontal\",\"plot\":{\"id\":\"2bd1c004-cc96-4b34-9947-987c1d5207d0\",\"subtype\":\"Figure\",\"type\":\"Plot\"}},\"id\":\"ef695e3c-879a-435c-a47d-8e4df5083757\",\"type\":\"Legend\"},{\"attributes\":{\"data_source\":{\"id\":\"02c44f11-5af8-483d-af95-a010dde0be78\",\"type\":\"ColumnDataSource\"},\"glyph\":{\"id\":\"0a96fcab-87db-45b8-9c58-94ea7ff94006\",\"type\":\"Line\"},\"hover_glyph\":null,\"muted_glyph\":null,\"nonselection_glyph\":{\"id\":\"96d2b1a8-f087-438c-a0b5-c8db6aa8299d\",\"type\":\"Line\"},\"selection_glyph\":null,\"view\":{\"id\":\"18bcb952-f682-4bee-abde-b7257d5ad0ad\",\"type\":\"CDSView\"}},\"id\":\"c699cf64-fb88-41ca-83d1-c68c432a8ec8\",\"type\":\"GlyphRenderer\"},{\"attributes\":{\"data_source\":{\"id\":\"0d21d147-76ae-4f7d-bfbb-f3b167ff3f77\",\"type\":\"ColumnDataSource\"},\"glyph\":{\"id\":\"85dd2dd3-1d3a-4e68-9ad0-6bf0c97ae5ba\",\"type\":\"Line\"},\"hover_glyph\":null,\"muted_glyph\":null,\"nonselection_glyph\":{\"id\":\"e7d909b2-a6fb-4dc0-ae28-77f5c985f6b3\",\"type\":\"Line\"},\"selection_glyph\":null,\"view\":{\"id\":\"dd917e53-9928-4fa4-a20c-48917a518162\",\"type\":\"CDSView\"}},\"id\":\"98afb7c1-d8b8-422b-93a2-3f60615523e1\",\"type\":\"GlyphRenderer\"},{\"attributes\":{\"source\":{\"id\":\"0d21d147-76ae-4f7d-bfbb-f3b167ff3f77\",\"type\":\"ColumnDataSource\"}},\"id\":\"dd917e53-9928-4fa4-a20c-48917a518162\",\"type\":\"CDSView\"},{\"attributes\":{\"source\":{\"id\":\"02c44f11-5af8-483d-af95-a010dde0be78\",\"type\":\"ColumnDataSource\"}},\"id\":\"18bcb952-f682-4bee-abde-b7257d5ad0ad\",\"type\":\"CDSView\"},{\"attributes\":{},\"id\":\"b609893b-f538-4bcc-a714-2ecd87250ccf\",\"type\":\"LinearScale\"},{\"attributes\":{\"line_alpha\":0.6,\"line_color\":\"#377eb8\",\"line_dash\":[6],\"line_width\":5,\"x\":{\"field\":\"x\"},\"y\":{\"field\":\"y\"}},\"id\":\"d2166388-d55b-46bb-a8de-a0f9cdaa1911\",\"type\":\"Line\"},{\"attributes\":{\"callback\":null,\"data\":{\"x\":{\"__ndarray__\":\"0CYBcvU5UkCik9zf2GVBQF1VoNfLZ0BAVLxhiVXTPUDD1Wu1wJM6QFJyB025jjdAU6Aw5+b/NECYe1uuDfgyQB6bYtVTbTFAPxYSAF1HMEA00pYVm9QuQLolHbMzgC1AntlwirGsLECv+G9SjE4rQJH6ZLBp0ShAsLZQyPd/JkDyjgyf2PwkQLgyNGsrJyRAA13QbJD6I0C8hy0ilI4kQOVTXCEgcSZAovOGvZSGJUBVc/ZmUOIgQOf/6GHAyRlAcE8fAOBSFEDRur1U//gPQGFD9ZbokghAQsqHuSqSA0C91ci3W0UBQCtRQfvz7/4/kh8pntyB+j9t1/n+4TX1P773MAUjFfI/RgzR+CI28T8hBW8WHK7uPzVKjJfU8uk/0FPt4/z65T/wVYqzMPDhPz7K9C5CXuE/8+hSn9hY4T/9PPCkR6rhP1XsIC599OA/66X1nBCX3z/YbRM56QjcPz4dkSQc/dM/S7Wb8Fq00T+/yQdmX0vcP7TrGf476eM/WqNPJoWO7D9qOH1bcwDzP2bw+R5DQ/Y/RLSuQOQp+D8+aif8yAz5P0Wv6eBKRfk/0i2+IN4R+T/ik8QNFZr4PyS5UD5j/Pc/yJ68zXRG9z/2CHPL54H2P59SOhwKtPU/npkP8dfg9D8NlmVcdQz0P80ugRvuOvM/byxiAHN18j9USVZie8nxP5l9lNXYSPE/OB+F0UYP8T8Y7dsUCTHxP3EBgTHPcPE/bfx15p8S8T8FT+xkGtTuP6mdG7rkxuk/pboqTkHX5D/CrN8qGYngP7R4ZaL+htU/\",\"dtype\":\"float64\",\"shape\":[75]},\"y\":{\"__ndarray__\":\"GhExyth1ND/Sv8nbtpRIP2vylNV0PVE/aTum7souWD/At0SJ8fVgPw3Iuahxymc/MSNhhJWvcD/bTfBN02d3P2zb5nxnaoA/CD5h5MAGhz8NmeH1TyaQP+zrCsc9p5Y/LbKd76fGnz/bLW5ISEmmPww9YvTcQq8/JV2OstnstT8Er5Y7M8G+P0c+r3jqkcU/5h99k6ZBzj88bCIzFzjVP4enV8oyxN0//yH99nXg5D8qOpLLf0jtP5kqGJXUifQ/c9cS8kHP/D+/DpwzojQEQIEmwoanVwxA4lgXt9HgE0BSSZ2AJuIbQAMJih9jjiNA5q4l5INuK0AwTKYKRj0zQNv5fmq8/DpAaCJseHrtQkB/+zpwzoxKQM3MzMzMeFJAZmZmZmZqWEAAAAAAAFxeQM3MzMzMJmJAmpmZmZkfZUBmZmZmZhhoQDMzMzMzEWtAAAAAAAAKbkBmZmZmZoFwQM3MzMzM/XFAMzMzMzN6c0CamZmZmfZ0QAAAAAAAc3ZAZmZmZmbvd0DNzMzMzGt5QDMzMzMz6HpAmpmZmZlkfEAAAAAAAOF9QGZmZmZmXX9AZmZmZuZsgECamZmZGSuBQM3MzMxM6YFAAAAAAICngkAzMzMzs2WDQGZmZmbmI4RAmpmZmRnihEDNzMzMTKCFQAAAAACAXoZAMzMzM7Mch0BmZmZm5tqHQJqZmZkZmYhAzczMzExXiUAAAAAAgBWKQDMzMzOz04pAZmZmZuaRi0CamZmZGVCMQM3MzMxMDo1AAAAAAIDMjUAzMzMzs4qOQGZmZmbmSI9A\",\"dtype\":\"float64\",\"shape\":[75]}},\"selected\":{\"id\":\"466d1bc5-53de-4525-8a19-78626bcba567\",\"type\":\"Selection\"},\"selection_policy\":{\"id\":\"4968f623-bbbc-412c-a212-16773e4361e8\",\"type\":\"UnionRenderers\"}},\"id\":\"12b66caa-2778-4003-b2ad-13a80be7171d\",\"type\":\"ColumnDataSource\"},{\"attributes\":{\"label\":{\"value\":\"CRD\"},\"renderers\":[{\"id\":\"bebafd0b-7c31-49dd-9d7f-e9938ea43f54\",\"type\":\"GlyphRenderer\"},{\"id\":\"c699cf64-fb88-41ca-83d1-c68c432a8ec8\",\"type\":\"GlyphRenderer\"}]},\"id\":\"2909842c-9086-400c-b78a-bdfc8cec8a5f\",\"type\":\"LegendItem\"},{\"attributes\":{\"source\":{\"id\":\"4d12e43a-861a-4af4-a005-816993e27fd3\",\"type\":\"ColumnDataSource\"}},\"id\":\"53d233ce-ca21-4848-987e-fb1c37c0364e\",\"type\":\"CDSView\"},{\"attributes\":{\"line_color\":\"#4daf4a\",\"line_width\":1.5,\"x\":{\"field\":\"x\"},\"y\":{\"field\":\"y\"}},\"id\":\"0a96fcab-87db-45b8-9c58-94ea7ff94006\",\"type\":\"Line\"},{\"attributes\":{\"callback\":null,\"end\":0.01,\"start\":1020},\"id\":\"19012924-ce64-4189-94e6-c0e57ada1608\",\"type\":\"Range1d\"},{\"attributes\":{\"active_drag\":\"auto\",\"active_inspect\":\"auto\",\"active_scroll\":\"auto\",\"active_tap\":\"auto\",\"tools\":[{\"id\":\"31aba63e-1ad3-47b9-b172-55b07baae526\",\"type\":\"PanTool\"},{\"id\":\"4265b771-a0d2-4097-bcfb-66496e80cbc5\",\"type\":\"WheelZoomTool\"},{\"id\":\"db9103c2-d53c-4094-b82b-a2a88fc92371\",\"type\":\"BoxZoomTool\"},{\"id\":\"0007813c-32be-4b12-a958-513fdaf7d1b7\",\"type\":\"SaveTool\"},{\"id\":\"0b02e27c-412d-4264-b292-3c0d22cf7567\",\"type\":\"ResetTool\"},{\"id\":\"779fa10f-23d9-42ba-b4a1-f72cf8636b93\",\"type\":\"HelpTool\"}]},\"id\":\"1b7604f1-bc5e-43bf-a267-68634e3cdf53\",\"type\":\"Toolbar\"},{\"attributes\":{\"label\":{\"value\":\"CLIRAD (single-run)\"},\"renderers\":[{\"id\":\"98afb7c1-d8b8-422b-93a2-3f60615523e1\",\"type\":\"GlyphRenderer\"}]},\"id\":\"1a077d58-2c4d-427a-8c3d-157420222149\",\"type\":\"LegendItem\"},{\"attributes\":{\"source\":{\"id\":\"12b66caa-2778-4003-b2ad-13a80be7171d\",\"type\":\"ColumnDataSource\"}},\"id\":\"38bde1b0-c63f-400a-9d66-912b6ccdb435\",\"type\":\"CDSView\"},{\"attributes\":{\"toolbar\":{\"id\":\"fe2b3f9c-10c7-4f28-b955-4f0afcdff43f\",\"type\":\"ProxyToolbar\"},\"toolbar_location\":\"above\"},\"id\":\"3e34077b-6de9-4230-be43-a4c8b35ab05d\",\"type\":\"ToolbarBox\"},{\"attributes\":{\"active_drag\":\"auto\",\"active_inspect\":\"auto\",\"active_scroll\":\"auto\",\"active_tap\":\"auto\",\"tools\":[{\"id\":\"b86b02b6-22d1-4781-9d2f-7170f44a9324\",\"type\":\"PanTool\"},{\"id\":\"357f63eb-adf5-457f-ad54-44e82b7ba846\",\"type\":\"WheelZoomTool\"},{\"id\":\"53be4e12-7aba-4393-977d-609ac4e40b9d\",\"type\":\"BoxZoomTool\"},{\"id\":\"037e963d-d531-4fee-8622-b5217bcc99e3\",\"type\":\"SaveTool\"},{\"id\":\"1e7a361a-0336-4994-a731-9d6b1b71cf83\",\"type\":\"ResetTool\"},{\"id\":\"fae2c767-dbd7-4098-bab4-88f11d0111cf\",\"type\":\"HelpTool\"}]},\"id\":\"33a12a13-89f8-4954-b885-506f86434191\",\"type\":\"Toolbar\"},{\"attributes\":{},\"id\":\"4fb18dfb-70ee-4cb2-ae0b-0d3cb7b7dfcf\",\"type\":\"BasicTicker\"},{\"attributes\":{\"plot\":{\"id\":\"2bd1c004-cc96-4b34-9947-987c1d5207d0\",\"subtype\":\"Figure\",\"type\":\"Plot\"},\"ticker\":{\"id\":\"4fb18dfb-70ee-4cb2-ae0b-0d3cb7b7dfcf\",\"type\":\"BasicTicker\"}},\"id\":\"d03cc2e2-0a1b-4689-877d-ebdd904885ac\",\"type\":\"Grid\"},{\"attributes\":{\"dimension\":1,\"plot\":{\"id\":\"2bd1c004-cc96-4b34-9947-987c1d5207d0\",\"subtype\":\"Figure\",\"type\":\"Plot\"},\"ticker\":{\"id\":\"ac4a0e15-dea0-49c3-b0c6-68c69bedc2e2\",\"type\":\"LogTicker\"}},\"id\":\"3fbec26e-2110-4395-b8cf-54a321555b06\",\"type\":\"Grid\"},{\"attributes\":{\"fill_alpha\":{\"value\":0.7},\"fill_color\":{\"value\":\"#4daf4a\"},\"line_alpha\":{\"value\":0.7},\"line_color\":{\"value\":\"#4daf4a\"},\"x\":{\"field\":\"x\"},\"y\":{\"field\":\"y\"}},\"id\":\"2974ad39-ced8-4e09-b59a-47ed1ea3a83d\",\"type\":\"Circle\"},{\"attributes\":{\"axis_label\":\"pressure [mb]\",\"formatter\":{\"id\":\"e0f1454a-f0a4-4192-99cd-6724fc62ed86\",\"type\":\"LogTickFormatter\"},\"plot\":{\"id\":\"2bd1c004-cc96-4b34-9947-987c1d5207d0\",\"subtype\":\"Figure\",\"type\":\"Plot\"},\"ticker\":{\"id\":\"ac4a0e15-dea0-49c3-b0c6-68c69bedc2e2\",\"type\":\"LogTicker\"}},\"id\":\"9c0f0462-9b6e-4117-9cc2-a546df716b79\",\"type\":\"LogAxis\"},{\"attributes\":{},\"id\":\"0cca6563-8a62-4f83-ad73-f9e5782cdf2b\",\"type\":\"WheelZoomTool\"},{\"attributes\":{},\"id\":\"3ce5c95f-f44a-4aca-ae07-6fdfb4b8af47\",\"type\":\"LinearScale\"},{\"attributes\":{\"callback\":null,\"end\":0.01,\"start\":1020},\"id\":\"098ac8d0-a4fa-40ea-9961-fba591fd792a\",\"type\":\"Range1d\"},{\"attributes\":{},\"id\":\"b7f29824-34d7-441a-9128-c59c67cff154\",\"type\":\"PanTool\"},{\"attributes\":{\"axis_label\":\"pressure [mb]\",\"formatter\":{\"id\":\"ef319064-6390-493d-b0f9-60b3a359d20a\",\"type\":\"BasicTickFormatter\"},\"plot\":{\"id\":\"6e42878f-2e7f-4823-8285-c392e809bad6\",\"subtype\":\"Figure\",\"type\":\"Plot\"},\"ticker\":{\"id\":\"6aa17308-57bf-430b-8914-5e62aad8da62\",\"type\":\"BasicTicker\"}},\"id\":\"b88cfc4d-5d2c-4262-82e7-772bd1f7b301\",\"type\":\"LinearAxis\"},{\"attributes\":{\"callback\":null,\"data\":{\"x\":{\"__ndarray__\":\"vqV1b5iVQEBniRUI1408QHodlS+yWj5AaajueQL1PkBzqCsoCwc+QJAUvzrUiTtAk1AcojDZN0CQ4jiX0dEzQOTBTc5+gDBALKa3dyJCLUBSHd3kbFEsQG7Dv3Q92ixAtiC24eC3LUA8yLLyoD0tQItnzWFQoipAuPt7tVNJJ0CsLGia63YkQCr98Cpl0iJAcr8HE62kIkC9eua7DLwjQE5pZjYbKyZASWv9fDWsJUCoZfFIHyghQD7Nzo0lYxlAtLqmtxVoE0DB7DN1DrUPQNeJxk7evQpApHk0Sw3PBUCbUhHaMyUCQKE+NsHccP8/vVRVGukF/T+8FZz7vdP4PzG0Sl17KvQ/8lIV4Dsa8T9LBaqK0LzuPxdJQ2idU+w/Rq/LljR25z/SkiWdKCLhP73uQ4lOwt0/I4ru02of3T/DqtrgA5reP88DIXUrQd4/GWtkya/W3D9Kvuhhi1LaP5amyqWV4dI/aPmvWGH10D93EtKvjzbcPzkT5E8zu+M/ARo5UqKw6z+mavrMrSryPwxnB/tKb/U/w8VGyryU9z85BYSKqnP4P+6jNB5mcfg/Ok6G5pRA+D+rwQ3XN/P3PxX01KaOgvc/uPaszbnq9j+iu1Piezn2Pw2ydCTohvU/QKroHRzA9D80OXPOWvHzP1n1zQeRGvM/OdJqX3hR8j9nJFiaKKrxP/v4D99FOPE/jP48+30X8T9By2zwu1rxP5B+kVbQsvE/ENlZV3lo8T9dKvo5wZvvP7hfO+rBm+o/4PBJAnCm5T93Fxxt8lbhP+EnXVR1Edc/\",\"dtype\":\"float64\",\"shape\":[75]},\"y\":{\"__ndarray__\":\"GhExyth1ND/Sv8nbtpRIP2vylNV0PVE/aTum7souWD/At0SJ8fVgPw3Iuahxymc/MSNhhJWvcD/bTfBN02d3P2zb5nxnaoA/CD5h5MAGhz8NmeH1TyaQP+zrCsc9p5Y/LbKd76fGnz/bLW5ISEmmPww9YvTcQq8/JV2OstnstT8Er5Y7M8G+P0c+r3jqkcU/5h99k6ZBzj88bCIzFzjVP4enV8oyxN0//yH99nXg5D8qOpLLf0jtP5kqGJXUifQ/c9cS8kHP/D+/DpwzojQEQIEmwoanVwxA4lgXt9HgE0BSSZ2AJuIbQAMJih9jjiNA5q4l5INuK0AwTKYKRj0zQNv5fmq8/DpAaCJseHrtQkB/+zpwzoxKQM3MzMzMeFJAZmZmZmZqWEAAAAAAAFxeQM3MzMzMJmJAmpmZmZkfZUBmZmZmZhhoQDMzMzMzEWtAAAAAAAAKbkBmZmZmZoFwQM3MzMzM/XFAMzMzMzN6c0CamZmZmfZ0QAAAAAAAc3ZAZmZmZmbvd0DNzMzMzGt5QDMzMzMz6HpAmpmZmZlkfEAAAAAAAOF9QGZmZmZmXX9AZmZmZuZsgECamZmZGSuBQM3MzMxM6YFAAAAAAICngkAzMzMzs2WDQGZmZmbmI4RAmpmZmRnihEDNzMzMTKCFQAAAAACAXoZAMzMzM7Mch0BmZmZm5tqHQJqZmZkZmYhAzczMzExXiUAAAAAAgBWKQDMzMzOz04pAZmZmZuaRi0CamZmZGVCMQM3MzMxMDo1AAAAAAIDMjUAzMzMzs4qOQGZmZmbmSI9A\",\"dtype\":\"float64\",\"shape\":[75]}},\"selected\":{\"id\":\"07d76f28-8937-4776-812b-24ae568b9e0f\",\"type\":\"Selection\"},\"selection_policy\":{\"id\":\"a695c150-306e-48f5-9800-bbec2489e58b\",\"type\":\"UnionRenderers\"}},\"id\":\"0d21d147-76ae-4f7d-bfbb-f3b167ff3f77\",\"type\":\"ColumnDataSource\"},{\"attributes\":{\"label\":{\"value\":\"CLIRAD (single-run)\"},\"renderers\":[{\"id\":\"62503d4b-3a3a-46d8-b380-2f3484575bdc\",\"type\":\"GlyphRenderer\"}]},\"id\":\"a6902e9b-71fb-44d3-9dda-b378f2751782\",\"type\":\"LegendItem\"},{\"attributes\":{\"above\":[{\"id\":\"6a2c5c40-8d3e-4262-b22d-d8c6d5a86bd3\",\"type\":\"Legend\"}],\"below\":[{\"id\":\"7ac30c60-22d2-4a8b-9bea-54e6d7c95953\",\"type\":\"LinearAxis\"}],\"left\":[{\"id\":\"b88cfc4d-5d2c-4262-82e7-772bd1f7b301\",\"type\":\"LinearAxis\"}],\"plot_width\":300,\"renderers\":[{\"id\":\"7ac30c60-22d2-4a8b-9bea-54e6d7c95953\",\"type\":\"LinearAxis\"},{\"id\":\"6a181374-9ff3-46c2-8292-d6060cc7c252\",\"type\":\"Grid\"},{\"id\":\"b88cfc4d-5d2c-4262-82e7-772bd1f7b301\",\"type\":\"LinearAxis\"},{\"id\":\"fb194b35-f947-4654-9cc0-dec8a0108374\",\"type\":\"Grid\"},{\"id\":\"58ee83bc-e0bb-41f4-bb11-3bc5836a781e\",\"type\":\"BoxAnnotation\"},{\"id\":\"98afb7c1-d8b8-422b-93a2-3f60615523e1\",\"type\":\"GlyphRenderer\"},{\"id\":\"bebafd0b-7c31-49dd-9d7f-e9938ea43f54\",\"type\":\"GlyphRenderer\"},{\"id\":\"c699cf64-fb88-41ca-83d1-c68c432a8ec8\",\"type\":\"GlyphRenderer\"},{\"id\":\"6a2c5c40-8d3e-4262-b22d-d8c6d5a86bd3\",\"type\":\"Legend\"}],\"title\":{\"id\":\"e8702c1c-aede-482b-93f9-77d573c10f6c\",\"type\":\"Title\"},\"toolbar\":{\"id\":\"41044c42-af50-4bb8-ac14-8f26465f1e04\",\"type\":\"Toolbar\"},\"toolbar_location\":null,\"x_range\":{\"id\":\"8712aac8-432f-4f4c-9edc-696a1932427c\",\"type\":\"Range1d\"},\"x_scale\":{\"id\":\"43d02a37-1bd8-48ec-b722-2969d3f28108\",\"type\":\"LinearScale\"},\"y_range\":{\"id\":\"098ac8d0-a4fa-40ea-9961-fba591fd792a\",\"type\":\"Range1d\"},\"y_scale\":{\"id\":\"3ce5c95f-f44a-4aca-ae07-6fdfb4b8af47\",\"type\":\"LinearScale\"}},\"id\":\"6e42878f-2e7f-4823-8285-c392e809bad6\",\"subtype\":\"Figure\",\"type\":\"Plot\"},{\"attributes\":{},\"id\":\"3da67ea1-ea32-4d83-b06b-2654da678ece\",\"type\":\"BasicTicker\"},{\"attributes\":{\"axis_label\":\"cooling rate [K/day]\",\"formatter\":{\"id\":\"d4ca4267-2800-4a2f-adb5-b47a95ac7a92\",\"type\":\"BasicTickFormatter\"},\"plot\":{\"id\":\"6e42878f-2e7f-4823-8285-c392e809bad6\",\"subtype\":\"Figure\",\"type\":\"Plot\"},\"ticker\":{\"id\":\"3da67ea1-ea32-4d83-b06b-2654da678ece\",\"type\":\"BasicTicker\"}},\"id\":\"7ac30c60-22d2-4a8b-9bea-54e6d7c95953\",\"type\":\"LinearAxis\"},{\"attributes\":{\"plot\":{\"id\":\"6e42878f-2e7f-4823-8285-c392e809bad6\",\"subtype\":\"Figure\",\"type\":\"Plot\"},\"ticker\":{\"id\":\"3da67ea1-ea32-4d83-b06b-2654da678ece\",\"type\":\"BasicTicker\"}},\"id\":\"6a181374-9ff3-46c2-8292-d6060cc7c252\",\"type\":\"Grid\"},{\"attributes\":{},\"id\":\"6aa17308-57bf-430b-8914-5e62aad8da62\",\"type\":\"BasicTicker\"},{\"attributes\":{},\"id\":\"43d02a37-1bd8-48ec-b722-2969d3f28108\",\"type\":\"LinearScale\"},{\"attributes\":{\"callback\":null,\"end\":1.5925615157941,\"start\":0.25183241957589997},\"id\":\"8712aac8-432f-4f4c-9edc-696a1932427c\",\"type\":\"Range1d\"},{\"attributes\":{\"active_drag\":\"auto\",\"active_inspect\":\"auto\",\"active_scroll\":\"auto\",\"active_tap\":\"auto\",\"tools\":[{\"id\":\"b7f29824-34d7-441a-9128-c59c67cff154\",\"type\":\"PanTool\"},{\"id\":\"0cca6563-8a62-4f83-ad73-f9e5782cdf2b\",\"type\":\"WheelZoomTool\"},{\"id\":\"e186de72-a749-4e41-b9ba-99ea045f3e09\",\"type\":\"BoxZoomTool\"},{\"id\":\"02faa9dc-8614-4ba3-9e4f-cadfcebdce3b\",\"type\":\"SaveTool\"},{\"id\":\"d135ba71-64e9-449a-aef3-48a367d76655\",\"type\":\"ResetTool\"},{\"id\":\"9f542643-36a8-49fe-8753-d0cb61a2554b\",\"type\":\"HelpTool\"}]},\"id\":\"41044c42-af50-4bb8-ac14-8f26465f1e04\",\"type\":\"Toolbar\"},{\"attributes\":{\"items\":[{\"id\":\"1a077d58-2c4d-427a-8c3d-157420222149\",\"type\":\"LegendItem\"},{\"id\":\"2909842c-9086-400c-b78a-bdfc8cec8a5f\",\"type\":\"LegendItem\"}],\"label_text_font_size\":{\"value\":\"8pt\"},\"location\":\"top_center\",\"orientation\":\"horizontal\",\"plot\":{\"id\":\"6e42878f-2e7f-4823-8285-c392e809bad6\",\"subtype\":\"Figure\",\"type\":\"Plot\"}},\"id\":\"6a2c5c40-8d3e-4262-b22d-d8c6d5a86bd3\",\"type\":\"Legend\"}],\"root_ids\":[\"dc902e08-6641-4611-8fec-709ede3993cf\"]},\"title\":\"Bokeh Application\",\"version\":\"0.12.16\"}};\n",
       "  var render_items = [{\"docid\":\"da1cb76e-b99d-4508-9734-6c711911e319\",\"elementid\":\"cbc25ce4-027e-4a42-9c22-58189cb494c7\",\"modelid\":\"dc902e08-6641-4611-8fec-709ede3993cf\"}];\n",
       "  root.Bokeh.embed.embed_items_notebook(docs_json, render_items);\n",
       "\n",
       "  }\n",
       "  if (root.Bokeh !== undefined) {\n",
       "    embed_document(root);\n",
       "  } else {\n",
       "    var attempts = 0;\n",
       "    var timer = setInterval(function(root) {\n",
       "      if (root.Bokeh !== undefined) {\n",
       "        embed_document(root);\n",
       "        clearInterval(timer);\n",
       "      }\n",
       "      attempts++;\n",
       "      if (attempts > 100) {\n",
       "        console.log(\"Bokeh: ERROR: Unable to run BokehJS code because BokehJS library is missing\")\n",
       "        clearInterval(timer);\n",
       "      }\n",
       "    }, 10, root)\n",
       "  }\n",
       "})(window);"
      ],
      "application/vnd.bokehjs_exec.v0+json": ""
     },
     "metadata": {
      "application/vnd.bokehjs_exec.v0+json": {
       "id": "dc902e08-6641-4611-8fec-709ede3993cf"
      }
     },
     "output_type": "display_data"
    },
    {
     "data": {
      "text/markdown": [
       "*FIGURE.* Cooling rates & difference."
      ],
      "text/plain": [
       "<IPython.core.display.Markdown object>"
      ]
     },
     "metadata": {},
     "output_type": "display_data"
    },
    {
     "data": {
      "text/html": [
       "<a id=\"Fluxes._saw.\"></a>"
      ],
      "text/plain": [
       "<IPython.core.display.HTML object>"
      ]
     },
     "metadata": {},
     "output_type": "display_data"
    },
    {
     "data": {
      "text/markdown": [
       "# Fluxes. saw."
      ],
      "text/plain": [
       "<IPython.core.display.Markdown object>"
      ]
     },
     "metadata": {},
     "output_type": "display_data"
    },
    {
     "data": {
      "text/html": [
       "\n",
       "<div class=\"bk-root\">\n",
       "    <div class=\"bk-plotdiv\" id=\"a7a22ae3-d8de-4161-92fc-d22df7bc890d\"></div>\n",
       "</div>"
      ]
     },
     "metadata": {},
     "output_type": "display_data"
    },
    {
     "data": {
      "application/javascript": [
       "(function(root) {\n",
       "  function embed_document(root) {\n",
       "    \n",
       "  var docs_json = {\"4de1c4ab-0270-4625-96fc-28add3c54956\":{\"roots\":{\"references\":[{\"attributes\":{},\"id\":\"b11d5c00-437b-4245-926a-5acaac5b4328\",\"type\":\"ResetTool\"},{\"attributes\":{\"data_source\":{\"id\":\"8edacb91-b16a-456a-a584-017b59ce2547\",\"type\":\"ColumnDataSource\"},\"glyph\":{\"id\":\"2662ae85-6933-4ec0-a96c-9930355771c3\",\"type\":\"VBar\"},\"hover_glyph\":null,\"muted_glyph\":null,\"nonselection_glyph\":{\"id\":\"9b71fb7c-378a-4907-b34f-3a42cfac01b2\",\"type\":\"VBar\"},\"selection_glyph\":null,\"view\":{\"id\":\"4ae4be6d-dfdc-443e-bb81-70d072d7baa2\",\"type\":\"CDSView\"}},\"id\":\"a2b5b3a3-e081-455e-aec7-717daf06367e\",\"type\":\"GlyphRenderer\"},{\"attributes\":{},\"id\":\"48520ded-db33-47ba-838d-39f04ff90c5f\",\"type\":\"UnionRenderers\"},{\"attributes\":{\"bottom_units\":\"screen\",\"fill_alpha\":{\"value\":0.5},\"fill_color\":{\"value\":\"lightgrey\"},\"left_units\":\"screen\",\"level\":\"overlay\",\"line_alpha\":{\"value\":1.0},\"line_color\":{\"value\":\"black\"},\"line_dash\":[4,4],\"line_width\":{\"value\":2},\"plot\":null,\"render_mode\":\"css\",\"right_units\":\"screen\",\"top_units\":\"screen\"},\"id\":\"f0079fa4-b1b5-4444-8e84-de32aaf8105c\",\"type\":\"BoxAnnotation\"},{\"attributes\":{},\"id\":\"bcdd715a-8cbb-41d4-a9f2-342ef66c1d51\",\"type\":\"CategoricalTicker\"},{\"attributes\":{},\"id\":\"b98b8073-e4fe-4090-845f-89ac426d48d0\",\"type\":\"CategoricalScale\"},{\"attributes\":{},\"id\":\"8a2f068b-b35d-43a4-93bf-c2cda4a18064\",\"type\":\"LinearScale\"},{\"attributes\":{},\"id\":\"518a0ee7-72c6-4a86-bd7d-49af38658fd9\",\"type\":\"WheelZoomTool\"},{\"attributes\":{\"fill_alpha\":{\"value\":0.1},\"fill_color\":{\"value\":\"#1f77b4\"},\"line_alpha\":{\"value\":0.1},\"line_color\":{\"value\":\"#1f77b4\"},\"top\":{\"field\":\"flux\"},\"width\":{\"value\":0.9},\"x\":{\"field\":\"band\"}},\"id\":\"9b71fb7c-378a-4907-b34f-3a42cfac01b2\",\"type\":\"VBar\"},{\"attributes\":{\"source\":{\"id\":\"8edacb91-b16a-456a-a584-017b59ce2547\",\"type\":\"ColumnDataSource\"}},\"id\":\"4ae4be6d-dfdc-443e-bb81-70d072d7baa2\",\"type\":\"CDSView\"},{\"attributes\":{\"overlay\":{\"id\":\"f0079fa4-b1b5-4444-8e84-de32aaf8105c\",\"type\":\"BoxAnnotation\"}},\"id\":\"f239e81d-dfe1-42d4-95b1-6c6b0f9e8950\",\"type\":\"BoxZoomTool\"},{\"attributes\":{\"fill_color\":{\"value\":\"#1f77b4\"},\"line_color\":{\"value\":\"#1f77b4\"},\"top\":{\"field\":\"flux\"},\"width\":{\"value\":0.9},\"x\":{\"field\":\"band\"}},\"id\":\"7570f579-9be3-46ac-9769-2b6cb1d1db23\",\"type\":\"VBar\"},{\"attributes\":{\"callback\":null,\"factors\":[\"1\",\"2\",\"3\",\"4\",\"5\",\"6\",\"7\",\"8\",\"9\",\"10\",\"11\"]},\"id\":\"9f0ae7d2-bfad-49fd-b05f-31c707841383\",\"type\":\"FactorRange\"},{\"attributes\":{\"axis_label\":\"spectral band\",\"formatter\":{\"id\":\"019cbb6d-70d6-44a1-8979-815419e48221\",\"type\":\"CategoricalTickFormatter\"},\"plot\":{\"id\":\"5c9aba12-54c2-4a00-80bd-9dbc4b59801c\",\"subtype\":\"Figure\",\"type\":\"Plot\"},\"ticker\":{\"id\":\"bcdd715a-8cbb-41d4-a9f2-342ef66c1d51\",\"type\":\"CategoricalTicker\"}},\"id\":\"b24a9a63-e7b0-45ae-b78f-88d9c9fa4c69\",\"type\":\"CategoricalAxis\"},{\"attributes\":{\"dimension\":1,\"plot\":{\"id\":\"5c9aba12-54c2-4a00-80bd-9dbc4b59801c\",\"subtype\":\"Figure\",\"type\":\"Plot\"},\"ticker\":{\"id\":\"f720537f-31ea-41d5-9db9-c803df7f0155\",\"type\":\"BasicTicker\"}},\"id\":\"6f857f8e-9bcc-413c-96db-ba5ba64fc55f\",\"type\":\"Grid\"},{\"attributes\":{},\"id\":\"e743a854-0e48-444c-9470-f6f6923114f9\",\"type\":\"WheelZoomTool\"},{\"attributes\":{\"active_drag\":\"auto\",\"active_inspect\":\"auto\",\"active_scroll\":\"auto\",\"active_tap\":\"auto\",\"tools\":[{\"id\":\"7e1782ba-0808-4b0a-ba61-6941b06b7840\",\"type\":\"PanTool\"},{\"id\":\"f1b88789-914d-4b84-8f30-ad7d0084d79e\",\"type\":\"WheelZoomTool\"},{\"id\":\"81a02a24-d576-4a96-b499-dc3abdf9f0e0\",\"type\":\"BoxZoomTool\"},{\"id\":\"838d5232-115e-4d56-b745-23dc9f4b84b7\",\"type\":\"SaveTool\"},{\"id\":\"69711043-7763-4025-9cfb-120bee868efb\",\"type\":\"ResetTool\"},{\"id\":\"23d24110-7689-4e4a-b758-9b591d6164ac\",\"type\":\"HelpTool\"}]},\"id\":\"f521893f-d0ab-4daf-8dad-a3f5a96a6c7a\",\"type\":\"Toolbar\"},{\"attributes\":{\"fill_color\":{\"value\":\"#1f77b4\"},\"line_color\":{\"value\":\"#1f77b4\"},\"top\":{\"field\":\"flux\"},\"width\":{\"value\":0.9},\"x\":{\"field\":\"band\"}},\"id\":\"2662ae85-6933-4ec0-a96c-9930355771c3\",\"type\":\"VBar\"},{\"attributes\":{\"source\":{\"id\":\"ad8d42ee-a178-42ae-b8d3-1f5566484c43\",\"type\":\"ColumnDataSource\"}},\"id\":\"6e08f670-05a8-44b0-a6ce-de389a7d40fc\",\"type\":\"CDSView\"},{\"attributes\":{},\"id\":\"a3b5f1b6-990f-4a27-b4be-0071220763d5\",\"type\":\"PanTool\"},{\"attributes\":{\"callback\":null,\"data\":{\"band\":[\"1\",\"2\",\"3\",\"4\",\"5\",\"6\",\"7\",\"8\",\"9\",\"10\",\"11\"],\"flux\":{\"__ndarray__\":\"gGLUtfY+xz8ABgWlaOWyPwDVO9wODbO/gApHkEqx0D8Ans4VpYS4PwDQ+uk/a46/IIOj5NU50j+AqrUwC+24P4BE2safqKA/AGgLdJJSdb+AbxLeeT2TPw==\",\"dtype\":\"float64\",\"shape\":[11]}},\"selected\":{\"id\":\"117f4675-3584-4de0-ada5-3c71e6957a61\",\"type\":\"Selection\"},\"selection_policy\":{\"id\":\"bacf0133-e711-4e65-ac3b-99251f1b269f\",\"type\":\"UnionRenderers\"}},\"id\":\"8edacb91-b16a-456a-a584-017b59ce2547\",\"type\":\"ColumnDataSource\"},{\"attributes\":{\"callback\":null,\"data\":{\"band\":[\"1\",\"2\",\"3\",\"4\",\"5\",\"6\",\"7\",\"8\",\"9\",\"10\",\"11\"],\"flux\":{\"__ndarray__\":\"AEDdJAaBZb8Asg5HV+nAvwA2IEJcueC/AAeY+Q5+tj/A8wOyMnXIPyAWSPVCprm/QFhl8EEZsD8ghGffaAm8PwDdJRad0ZM/AJDEy9O5oj8Ad2DnQ6NtPw==\",\"dtype\":\"float64\",\"shape\":[11]}},\"selected\":{\"id\":\"15472b41-fda5-45e5-8a8b-c274676cd18a\",\"type\":\"Selection\"},\"selection_policy\":{\"id\":\"48520ded-db33-47ba-838d-39f04ff90c5f\",\"type\":\"UnionRenderers\"}},\"id\":\"ad8d42ee-a178-42ae-b8d3-1f5566484c43\",\"type\":\"ColumnDataSource\"},{\"attributes\":{},\"id\":\"538d96a3-93dc-40c2-91ee-5f9c9477b69f\",\"type\":\"CategoricalTicker\"},{\"attributes\":{},\"id\":\"3460814b-d58e-47b9-ba1a-b83c897c5957\",\"type\":\"CategoricalScale\"},{\"attributes\":{\"callback\":null},\"id\":\"5d0e1e57-0bc4-40ec-96da-cafd296a7c82\",\"type\":\"DataRange1d\"},{\"attributes\":{},\"id\":\"15472b41-fda5-45e5-8a8b-c274676cd18a\",\"type\":\"Selection\"},{\"attributes\":{\"axis_label\":\"spectral band\",\"formatter\":{\"id\":\"f2b9b61d-fae8-4a70-96d9-2bd0f04e9a0b\",\"type\":\"CategoricalTickFormatter\"},\"plot\":{\"id\":\"d35f91f2-f2b0-4d48-a230-dc3b12eec182\",\"subtype\":\"Figure\",\"type\":\"Plot\"},\"ticker\":{\"id\":\"538d96a3-93dc-40c2-91ee-5f9c9477b69f\",\"type\":\"CategoricalTicker\"}},\"id\":\"ab755941-42d0-47c8-bd44-f76c35c2f1b8\",\"type\":\"CategoricalAxis\"},{\"attributes\":{},\"id\":\"9cc7a7ab-1fc4-42a2-ba5f-aa0a5f409b30\",\"type\":\"PanTool\"},{\"attributes\":{},\"id\":\"e704be15-271e-4ea5-8b5b-738aca971f06\",\"type\":\"SaveTool\"},{\"attributes\":{\"axis_label\":\"flux (W m-2)\",\"formatter\":{\"id\":\"22a2660f-212e-4b03-8369-ff0aba351475\",\"type\":\"BasicTickFormatter\"},\"plot\":{\"id\":\"5c9aba12-54c2-4a00-80bd-9dbc4b59801c\",\"subtype\":\"Figure\",\"type\":\"Plot\"},\"ticker\":{\"id\":\"f720537f-31ea-41d5-9db9-c803df7f0155\",\"type\":\"BasicTicker\"}},\"id\":\"017f68e4-2258-4045-b360-545cb93e5b33\",\"type\":\"LinearAxis\"},{\"attributes\":{\"callback\":null,\"factors\":[\"1\",\"2\",\"3\",\"4\",\"5\",\"6\",\"7\",\"8\",\"9\",\"10\",\"11\"]},\"id\":\"d3036d74-6610-4f6c-963d-81825fd57f95\",\"type\":\"FactorRange\"},{\"attributes\":{\"plot\":null,\"text\":\"Atmosphere heating. CLIRAD (single-run) - CRD.\"},\"id\":\"cccdca34-7a9c-4c6e-8479-2de0f8491519\",\"type\":\"Title\"},{\"attributes\":{\"overlay\":{\"id\":\"9d10a460-f508-45c8-8d0f-bffbe7c8c9fc\",\"type\":\"BoxAnnotation\"}},\"id\":\"35e158f8-e7aa-4b40-93b5-0e0811fde138\",\"type\":\"BoxZoomTool\"},{\"attributes\":{\"plot\":{\"id\":\"5c9aba12-54c2-4a00-80bd-9dbc4b59801c\",\"subtype\":\"Figure\",\"type\":\"Plot\"},\"ticker\":{\"id\":\"bcdd715a-8cbb-41d4-a9f2-342ef66c1d51\",\"type\":\"CategoricalTicker\"}},\"id\":\"f4319b03-cc07-4ca7-8b0e-ca02e2f6cdb0\",\"type\":\"Grid\"},{\"attributes\":{},\"id\":\"2eb6b0ce-dca9-43a2-abc9-ccd73e05311e\",\"type\":\"LinearScale\"},{\"attributes\":{\"below\":[{\"id\":\"ab755941-42d0-47c8-bd44-f76c35c2f1b8\",\"type\":\"CategoricalAxis\"}],\"left\":[{\"id\":\"b889af14-1d2a-43e4-a6ab-ea2b3ca3db42\",\"type\":\"LinearAxis\"}],\"plot_height\":300,\"plot_width\":300,\"renderers\":[{\"id\":\"ab755941-42d0-47c8-bd44-f76c35c2f1b8\",\"type\":\"CategoricalAxis\"},{\"id\":\"68d44df6-0480-49bd-a938-e34766cc9ec2\",\"type\":\"Grid\"},{\"id\":\"b889af14-1d2a-43e4-a6ab-ea2b3ca3db42\",\"type\":\"LinearAxis\"},{\"id\":\"437da768-4f85-4bb9-b3ce-aecc88e47362\",\"type\":\"Grid\"},{\"id\":\"9831dc50-faf9-46c6-8960-4bfe5b7bfb55\",\"type\":\"BoxAnnotation\"},{\"id\":\"c7eaf519-2057-460f-a115-3b49900cc921\",\"type\":\"GlyphRenderer\"}],\"title\":{\"id\":\"cccdca34-7a9c-4c6e-8479-2de0f8491519\",\"type\":\"Title\"},\"toolbar\":{\"id\":\"f521893f-d0ab-4daf-8dad-a3f5a96a6c7a\",\"type\":\"Toolbar\"},\"toolbar_location\":null,\"x_range\":{\"id\":\"9f0ae7d2-bfad-49fd-b05f-31c707841383\",\"type\":\"FactorRange\"},\"x_scale\":{\"id\":\"3460814b-d58e-47b9-ba1a-b83c897c5957\",\"type\":\"CategoricalScale\"},\"y_range\":{\"id\":\"5d0e1e57-0bc4-40ec-96da-cafd296a7c82\",\"type\":\"DataRange1d\"},\"y_scale\":{\"id\":\"8a2f068b-b35d-43a4-93bf-c2cda4a18064\",\"type\":\"LinearScale\"}},\"id\":\"d35f91f2-f2b0-4d48-a230-dc3b12eec182\",\"subtype\":\"Figure\",\"type\":\"Plot\"},{\"attributes\":{\"callback\":null},\"id\":\"8a6d2377-4212-4e41-b3db-232a6623f4d5\",\"type\":\"DataRange1d\"},{\"attributes\":{\"fill_alpha\":{\"value\":0.1},\"fill_color\":{\"value\":\"#1f77b4\"},\"line_alpha\":{\"value\":0.1},\"line_color\":{\"value\":\"#1f77b4\"},\"top\":{\"field\":\"flux\"},\"width\":{\"value\":0.9},\"x\":{\"field\":\"band\"}},\"id\":\"e9e785c2-9adc-405b-9758-fae7b6f4d540\",\"type\":\"VBar\"},{\"attributes\":{},\"id\":\"f720537f-31ea-41d5-9db9-c803df7f0155\",\"type\":\"BasicTicker\"},{\"attributes\":{\"children\":[{\"id\":\"2fef33b8-cba2-4c07-a6e1-78fbcee7626e\",\"type\":\"ToolbarBox\"},{\"id\":\"47e03e69-473f-427b-885e-815bebd3014e\",\"type\":\"Column\"}]},\"id\":\"092af5a6-a8ad-4a21-80ce-fa65eaf31aae\",\"type\":\"Column\"},{\"attributes\":{\"dimension\":1,\"plot\":{\"id\":\"d35f91f2-f2b0-4d48-a230-dc3b12eec182\",\"subtype\":\"Figure\",\"type\":\"Plot\"},\"ticker\":{\"id\":\"e84dbd7d-edbe-43a6-813e-8c80a2ff2da9\",\"type\":\"BasicTicker\"}},\"id\":\"437da768-4f85-4bb9-b3ce-aecc88e47362\",\"type\":\"Grid\"},{\"attributes\":{\"below\":[{\"id\":\"4df87dff-9ffb-4b96-b1ad-4bb8b0e93870\",\"type\":\"CategoricalAxis\"}],\"left\":[{\"id\":\"6135ffe6-faa2-4a62-8125-e5440060fe2d\",\"type\":\"LinearAxis\"}],\"plot_height\":300,\"plot_width\":300,\"renderers\":[{\"id\":\"4df87dff-9ffb-4b96-b1ad-4bb8b0e93870\",\"type\":\"CategoricalAxis\"},{\"id\":\"07b71021-b28b-4965-988b-bc5d1df7acc4\",\"type\":\"Grid\"},{\"id\":\"6135ffe6-faa2-4a62-8125-e5440060fe2d\",\"type\":\"LinearAxis\"},{\"id\":\"08a68e46-9060-4e68-87eb-711962a5c913\",\"type\":\"Grid\"},{\"id\":\"f0079fa4-b1b5-4444-8e84-de32aaf8105c\",\"type\":\"BoxAnnotation\"},{\"id\":\"e7f0dcc9-2dbf-4a69-9e1c-38bf5414a5f6\",\"type\":\"GlyphRenderer\"}],\"title\":{\"id\":\"78dc88d1-1e90-4cc7-b6e2-a7722d4c1cd8\",\"type\":\"Title\"},\"toolbar\":{\"id\":\"c4260106-0e47-4cb3-bb42-d58c7d91c463\",\"type\":\"Toolbar\"},\"toolbar_location\":null,\"x_range\":{\"id\":\"ed5e2236-ff9d-4728-80dd-f8e533bfb2d7\",\"type\":\"FactorRange\"},\"x_scale\":{\"id\":\"73c8a854-04f4-4c1e-bc4b-d6d3bd5ec3bc\",\"type\":\"CategoricalScale\"},\"y_range\":{\"id\":\"5b2541b6-142d-4929-8c3e-c0759693af14\",\"type\":\"DataRange1d\"},\"y_scale\":{\"id\":\"02a4ce0b-cee8-4c00-8934-376f5485de2c\",\"type\":\"LinearScale\"}},\"id\":\"4e1a7404-42a9-440c-a2f3-d0698afd933c\",\"subtype\":\"Figure\",\"type\":\"Plot\"},{\"attributes\":{},\"id\":\"e696aaf6-50ad-4760-b47a-947e9cab6131\",\"type\":\"BasicTickFormatter\"},{\"attributes\":{\"children\":[{\"id\":\"5c9aba12-54c2-4a00-80bd-9dbc4b59801c\",\"subtype\":\"Figure\",\"type\":\"Plot\"},{\"id\":\"4e1a7404-42a9-440c-a2f3-d0698afd933c\",\"subtype\":\"Figure\",\"type\":\"Plot\"},{\"id\":\"d35f91f2-f2b0-4d48-a230-dc3b12eec182\",\"subtype\":\"Figure\",\"type\":\"Plot\"}]},\"id\":\"5bcfe59b-e8e1-4fcc-96d3-01a41e11f240\",\"type\":\"Row\"},{\"attributes\":{},\"id\":\"71c9debe-0c24-4232-bf4d-043c46f1303a\",\"type\":\"ResetTool\"},{\"attributes\":{\"axis_label\":\"flux (W m-2)\",\"formatter\":{\"id\":\"e696aaf6-50ad-4760-b47a-947e9cab6131\",\"type\":\"BasicTickFormatter\"},\"plot\":{\"id\":\"4e1a7404-42a9-440c-a2f3-d0698afd933c\",\"subtype\":\"Figure\",\"type\":\"Plot\"},\"ticker\":{\"id\":\"e3274211-d17d-4e94-ae32-3c4798471309\",\"type\":\"BasicTicker\"}},\"id\":\"6135ffe6-faa2-4a62-8125-e5440060fe2d\",\"type\":\"LinearAxis\"},{\"attributes\":{\"plot\":{\"id\":\"d35f91f2-f2b0-4d48-a230-dc3b12eec182\",\"subtype\":\"Figure\",\"type\":\"Plot\"},\"ticker\":{\"id\":\"538d96a3-93dc-40c2-91ee-5f9c9477b69f\",\"type\":\"CategoricalTicker\"}},\"id\":\"68d44df6-0480-49bd-a938-e34766cc9ec2\",\"type\":\"Grid\"},{\"attributes\":{\"fill_alpha\":{\"value\":0.1},\"fill_color\":{\"value\":\"#1f77b4\"},\"line_alpha\":{\"value\":0.1},\"line_color\":{\"value\":\"#1f77b4\"},\"top\":{\"field\":\"flux\"},\"width\":{\"value\":0.9},\"x\":{\"field\":\"band\"}},\"id\":\"b98a8dc8-1cf8-4c41-8f26-bee58e27ccb1\",\"type\":\"VBar\"},{\"attributes\":{},\"id\":\"019cbb6d-70d6-44a1-8979-815419e48221\",\"type\":\"CategoricalTickFormatter\"},{\"attributes\":{\"tools\":[{\"id\":\"9cc7a7ab-1fc4-42a2-ba5f-aa0a5f409b30\",\"type\":\"PanTool\"},{\"id\":\"e743a854-0e48-444c-9470-f6f6923114f9\",\"type\":\"WheelZoomTool\"},{\"id\":\"35e158f8-e7aa-4b40-93b5-0e0811fde138\",\"type\":\"BoxZoomTool\"},{\"id\":\"95b0dbfc-7c26-4a46-b02a-80ae310bb3c4\",\"type\":\"SaveTool\"},{\"id\":\"71c9debe-0c24-4232-bf4d-043c46f1303a\",\"type\":\"ResetTool\"},{\"id\":\"df1ac93b-bb83-411a-a7cc-93862ebd3fc1\",\"type\":\"HelpTool\"},{\"id\":\"a3b5f1b6-990f-4a27-b4be-0071220763d5\",\"type\":\"PanTool\"},{\"id\":\"518a0ee7-72c6-4a86-bd7d-49af38658fd9\",\"type\":\"WheelZoomTool\"},{\"id\":\"f239e81d-dfe1-42d4-95b1-6c6b0f9e8950\",\"type\":\"BoxZoomTool\"},{\"id\":\"e704be15-271e-4ea5-8b5b-738aca971f06\",\"type\":\"SaveTool\"},{\"id\":\"b11d5c00-437b-4245-926a-5acaac5b4328\",\"type\":\"ResetTool\"},{\"id\":\"6d4e7f26-52b7-43d7-80e5-ac04c72c145e\",\"type\":\"HelpTool\"},{\"id\":\"7e1782ba-0808-4b0a-ba61-6941b06b7840\",\"type\":\"PanTool\"},{\"id\":\"f1b88789-914d-4b84-8f30-ad7d0084d79e\",\"type\":\"WheelZoomTool\"},{\"id\":\"81a02a24-d576-4a96-b499-dc3abdf9f0e0\",\"type\":\"BoxZoomTool\"},{\"id\":\"838d5232-115e-4d56-b745-23dc9f4b84b7\",\"type\":\"SaveTool\"},{\"id\":\"69711043-7763-4025-9cfb-120bee868efb\",\"type\":\"ResetTool\"},{\"id\":\"23d24110-7689-4e4a-b758-9b591d6164ac\",\"type\":\"HelpTool\"}]},\"id\":\"462edda6-a836-468c-9908-834315d924ad\",\"type\":\"ProxyToolbar\"},{\"attributes\":{},\"id\":\"f2b9b61d-fae8-4a70-96d9-2bd0f04e9a0b\",\"type\":\"CategoricalTickFormatter\"},{\"attributes\":{\"data_source\":{\"id\":\"20ff2db4-2691-41ef-97ac-baecdb14f6c1\",\"type\":\"ColumnDataSource\"},\"glyph\":{\"id\":\"94d6815a-3f79-4a97-997d-24566ea01abb\",\"type\":\"VBar\"},\"hover_glyph\":null,\"muted_glyph\":null,\"nonselection_glyph\":{\"id\":\"b98a8dc8-1cf8-4c41-8f26-bee58e27ccb1\",\"type\":\"VBar\"},\"selection_glyph\":null,\"view\":{\"id\":\"ca10d3d8-e583-4268-ac23-35808e53539c\",\"type\":\"CDSView\"}},\"id\":\"c7eaf519-2057-460f-a115-3b49900cc921\",\"type\":\"GlyphRenderer\"},{\"attributes\":{\"below\":[{\"id\":\"b24a9a63-e7b0-45ae-b78f-88d9c9fa4c69\",\"type\":\"CategoricalAxis\"}],\"left\":[{\"id\":\"017f68e4-2258-4045-b360-545cb93e5b33\",\"type\":\"LinearAxis\"}],\"plot_height\":300,\"plot_width\":300,\"renderers\":[{\"id\":\"b24a9a63-e7b0-45ae-b78f-88d9c9fa4c69\",\"type\":\"CategoricalAxis\"},{\"id\":\"f4319b03-cc07-4ca7-8b0e-ca02e2f6cdb0\",\"type\":\"Grid\"},{\"id\":\"017f68e4-2258-4045-b360-545cb93e5b33\",\"type\":\"LinearAxis\"},{\"id\":\"6f857f8e-9bcc-413c-96db-ba5ba64fc55f\",\"type\":\"Grid\"},{\"id\":\"9d10a460-f508-45c8-8d0f-bffbe7c8c9fc\",\"type\":\"BoxAnnotation\"},{\"id\":\"a2b5b3a3-e081-455e-aec7-717daf06367e\",\"type\":\"GlyphRenderer\"}],\"title\":{\"id\":\"5a255615-11c7-49c1-aa2a-662223d3867c\",\"type\":\"Title\"},\"toolbar\":{\"id\":\"849a994f-6ace-4727-ad8a-0a189446bbfb\",\"type\":\"Toolbar\"},\"toolbar_location\":null,\"x_range\":{\"id\":\"d3036d74-6610-4f6c-963d-81825fd57f95\",\"type\":\"FactorRange\"},\"x_scale\":{\"id\":\"b98b8073-e4fe-4090-845f-89ac426d48d0\",\"type\":\"CategoricalScale\"},\"y_range\":{\"id\":\"8a6d2377-4212-4e41-b3db-232a6623f4d5\",\"type\":\"DataRange1d\"},\"y_scale\":{\"id\":\"2eb6b0ce-dca9-43a2-abc9-ccd73e05311e\",\"type\":\"LinearScale\"}},\"id\":\"5c9aba12-54c2-4a00-80bd-9dbc4b59801c\",\"subtype\":\"Figure\",\"type\":\"Plot\"},{\"attributes\":{},\"id\":\"69711043-7763-4025-9cfb-120bee868efb\",\"type\":\"ResetTool\"},{\"attributes\":{},\"id\":\"e3274211-d17d-4e94-ae32-3c4798471309\",\"type\":\"BasicTicker\"},{\"attributes\":{},\"id\":\"23d24110-7689-4e4a-b758-9b591d6164ac\",\"type\":\"HelpTool\"},{\"attributes\":{\"plot\":null,\"text\":\"TOA flux. CLIRAD (single-run) - CRD.\"},\"id\":\"5a255615-11c7-49c1-aa2a-662223d3867c\",\"type\":\"Title\"},{\"attributes\":{},\"id\":\"ae5b254a-0741-46b2-88cd-c26bbcfe0f16\",\"type\":\"CategoricalTickFormatter\"},{\"attributes\":{\"children\":[{\"id\":\"5bcfe59b-e8e1-4fcc-96d3-01a41e11f240\",\"type\":\"Row\"}]},\"id\":\"47e03e69-473f-427b-885e-815bebd3014e\",\"type\":\"Column\"},{\"attributes\":{\"dimension\":1,\"plot\":{\"id\":\"4e1a7404-42a9-440c-a2f3-d0698afd933c\",\"subtype\":\"Figure\",\"type\":\"Plot\"},\"ticker\":{\"id\":\"e3274211-d17d-4e94-ae32-3c4798471309\",\"type\":\"BasicTicker\"}},\"id\":\"08a68e46-9060-4e68-87eb-711962a5c913\",\"type\":\"Grid\"},{\"attributes\":{\"callback\":null,\"factors\":[\"1\",\"2\",\"3\",\"4\",\"5\",\"6\",\"7\",\"8\",\"9\",\"10\",\"11\"]},\"id\":\"ed5e2236-ff9d-4728-80dd-f8e533bfb2d7\",\"type\":\"FactorRange\"},{\"attributes\":{},\"id\":\"6d4e7f26-52b7-43d7-80e5-ac04c72c145e\",\"type\":\"HelpTool\"},{\"attributes\":{\"source\":{\"id\":\"20ff2db4-2691-41ef-97ac-baecdb14f6c1\",\"type\":\"ColumnDataSource\"}},\"id\":\"ca10d3d8-e583-4268-ac23-35808e53539c\",\"type\":\"CDSView\"},{\"attributes\":{},\"id\":\"e84dbd7d-edbe-43a6-813e-8c80a2ff2da9\",\"type\":\"BasicTicker\"},{\"attributes\":{\"callback\":null},\"id\":\"5b2541b6-142d-4929-8c3e-c0759693af14\",\"type\":\"DataRange1d\"},{\"attributes\":{\"plot\":{\"id\":\"4e1a7404-42a9-440c-a2f3-d0698afd933c\",\"subtype\":\"Figure\",\"type\":\"Plot\"},\"ticker\":{\"id\":\"990252ad-3de1-4018-b751-e3cd07cbf582\",\"type\":\"CategoricalTicker\"}},\"id\":\"07b71021-b28b-4965-988b-bc5d1df7acc4\",\"type\":\"Grid\"},{\"attributes\":{},\"id\":\"22a2660f-212e-4b03-8369-ff0aba351475\",\"type\":\"BasicTickFormatter\"},{\"attributes\":{},\"id\":\"7e1782ba-0808-4b0a-ba61-6941b06b7840\",\"type\":\"PanTool\"},{\"attributes\":{\"callback\":null,\"data\":{\"band\":[\"1\",\"2\",\"3\",\"4\",\"5\",\"6\",\"7\",\"8\",\"9\",\"10\",\"11\"],\"flux\":{\"__ndarray__\":\"gOIKWg6Vxz8AZUNIJ1zKP8BwLN5+r9w/QMdlApwjxj+ArqKa7WW4vwBJ8fEJ2bU/gB6GVidnzD8AlIyLWeWIvwDBKhcq/4o/gEM6lz1kpb+AJgqhQRKPPw==\",\"dtype\":\"float64\",\"shape\":[11]}},\"selected\":{\"id\":\"282918b8-f76a-4367-b03f-fffad98ec21d\",\"type\":\"Selection\"},\"selection_policy\":{\"id\":\"b26bea6f-babe-4b57-9a13-376d2252236f\",\"type\":\"UnionRenderers\"}},\"id\":\"20ff2db4-2691-41ef-97ac-baecdb14f6c1\",\"type\":\"ColumnDataSource\"},{\"attributes\":{\"active_drag\":\"auto\",\"active_inspect\":\"auto\",\"active_scroll\":\"auto\",\"active_tap\":\"auto\",\"tools\":[{\"id\":\"a3b5f1b6-990f-4a27-b4be-0071220763d5\",\"type\":\"PanTool\"},{\"id\":\"518a0ee7-72c6-4a86-bd7d-49af38658fd9\",\"type\":\"WheelZoomTool\"},{\"id\":\"f239e81d-dfe1-42d4-95b1-6c6b0f9e8950\",\"type\":\"BoxZoomTool\"},{\"id\":\"e704be15-271e-4ea5-8b5b-738aca971f06\",\"type\":\"SaveTool\"},{\"id\":\"b11d5c00-437b-4245-926a-5acaac5b4328\",\"type\":\"ResetTool\"},{\"id\":\"6d4e7f26-52b7-43d7-80e5-ac04c72c145e\",\"type\":\"HelpTool\"}]},\"id\":\"c4260106-0e47-4cb3-bb42-d58c7d91c463\",\"type\":\"Toolbar\"},{\"attributes\":{},\"id\":\"282918b8-f76a-4367-b03f-fffad98ec21d\",\"type\":\"Selection\"},{\"attributes\":{\"overlay\":{\"id\":\"9831dc50-faf9-46c6-8960-4bfe5b7bfb55\",\"type\":\"BoxAnnotation\"}},\"id\":\"81a02a24-d576-4a96-b499-dc3abdf9f0e0\",\"type\":\"BoxZoomTool\"},{\"attributes\":{\"axis_label\":\"spectral band\",\"formatter\":{\"id\":\"ae5b254a-0741-46b2-88cd-c26bbcfe0f16\",\"type\":\"CategoricalTickFormatter\"},\"plot\":{\"id\":\"4e1a7404-42a9-440c-a2f3-d0698afd933c\",\"subtype\":\"Figure\",\"type\":\"Plot\"},\"ticker\":{\"id\":\"990252ad-3de1-4018-b751-e3cd07cbf582\",\"type\":\"CategoricalTicker\"}},\"id\":\"4df87dff-9ffb-4b96-b1ad-4bb8b0e93870\",\"type\":\"CategoricalAxis\"},{\"attributes\":{},\"id\":\"27fc1a77-43d8-4c1c-b730-cf8fc9ba4af3\",\"type\":\"BasicTickFormatter\"},{\"attributes\":{},\"id\":\"bacf0133-e711-4e65-ac3b-99251f1b269f\",\"type\":\"UnionRenderers\"},{\"attributes\":{\"fill_color\":{\"value\":\"#1f77b4\"},\"line_color\":{\"value\":\"#1f77b4\"},\"top\":{\"field\":\"flux\"},\"width\":{\"value\":0.9},\"x\":{\"field\":\"band\"}},\"id\":\"94d6815a-3f79-4a97-997d-24566ea01abb\",\"type\":\"VBar\"},{\"attributes\":{},\"id\":\"df1ac93b-bb83-411a-a7cc-93862ebd3fc1\",\"type\":\"HelpTool\"},{\"attributes\":{\"bottom_units\":\"screen\",\"fill_alpha\":{\"value\":0.5},\"fill_color\":{\"value\":\"lightgrey\"},\"left_units\":\"screen\",\"level\":\"overlay\",\"line_alpha\":{\"value\":1.0},\"line_color\":{\"value\":\"black\"},\"line_dash\":[4,4],\"line_width\":{\"value\":2},\"plot\":null,\"render_mode\":\"css\",\"right_units\":\"screen\",\"top_units\":\"screen\"},\"id\":\"9d10a460-f508-45c8-8d0f-bffbe7c8c9fc\",\"type\":\"BoxAnnotation\"},{\"attributes\":{\"active_drag\":\"auto\",\"active_inspect\":\"auto\",\"active_scroll\":\"auto\",\"active_tap\":\"auto\",\"tools\":[{\"id\":\"9cc7a7ab-1fc4-42a2-ba5f-aa0a5f409b30\",\"type\":\"PanTool\"},{\"id\":\"e743a854-0e48-444c-9470-f6f6923114f9\",\"type\":\"WheelZoomTool\"},{\"id\":\"35e158f8-e7aa-4b40-93b5-0e0811fde138\",\"type\":\"BoxZoomTool\"},{\"id\":\"95b0dbfc-7c26-4a46-b02a-80ae310bb3c4\",\"type\":\"SaveTool\"},{\"id\":\"71c9debe-0c24-4232-bf4d-043c46f1303a\",\"type\":\"ResetTool\"},{\"id\":\"df1ac93b-bb83-411a-a7cc-93862ebd3fc1\",\"type\":\"HelpTool\"}]},\"id\":\"849a994f-6ace-4727-ad8a-0a189446bbfb\",\"type\":\"Toolbar\"},{\"attributes\":{\"bottom_units\":\"screen\",\"fill_alpha\":{\"value\":0.5},\"fill_color\":{\"value\":\"lightgrey\"},\"left_units\":\"screen\",\"level\":\"overlay\",\"line_alpha\":{\"value\":1.0},\"line_color\":{\"value\":\"black\"},\"line_dash\":[4,4],\"line_width\":{\"value\":2},\"plot\":null,\"render_mode\":\"css\",\"right_units\":\"screen\",\"top_units\":\"screen\"},\"id\":\"9831dc50-faf9-46c6-8960-4bfe5b7bfb55\",\"type\":\"BoxAnnotation\"},{\"attributes\":{},\"id\":\"02a4ce0b-cee8-4c00-8934-376f5485de2c\",\"type\":\"LinearScale\"},{\"attributes\":{},\"id\":\"117f4675-3584-4de0-ada5-3c71e6957a61\",\"type\":\"Selection\"},{\"attributes\":{},\"id\":\"f1b88789-914d-4b84-8f30-ad7d0084d79e\",\"type\":\"WheelZoomTool\"},{\"attributes\":{\"axis_label\":\"flux (W m-2)\",\"formatter\":{\"id\":\"27fc1a77-43d8-4c1c-b730-cf8fc9ba4af3\",\"type\":\"BasicTickFormatter\"},\"plot\":{\"id\":\"d35f91f2-f2b0-4d48-a230-dc3b12eec182\",\"subtype\":\"Figure\",\"type\":\"Plot\"},\"ticker\":{\"id\":\"e84dbd7d-edbe-43a6-813e-8c80a2ff2da9\",\"type\":\"BasicTicker\"}},\"id\":\"b889af14-1d2a-43e4-a6ab-ea2b3ca3db42\",\"type\":\"LinearAxis\"},{\"attributes\":{},\"id\":\"990252ad-3de1-4018-b751-e3cd07cbf582\",\"type\":\"CategoricalTicker\"},{\"attributes\":{},\"id\":\"73c8a854-04f4-4c1e-bc4b-d6d3bd5ec3bc\",\"type\":\"CategoricalScale\"},{\"attributes\":{},\"id\":\"b26bea6f-babe-4b57-9a13-376d2252236f\",\"type\":\"UnionRenderers\"},{\"attributes\":{},\"id\":\"95b0dbfc-7c26-4a46-b02a-80ae310bb3c4\",\"type\":\"SaveTool\"},{\"attributes\":{\"toolbar\":{\"id\":\"462edda6-a836-468c-9908-834315d924ad\",\"type\":\"ProxyToolbar\"},\"toolbar_location\":\"above\"},\"id\":\"2fef33b8-cba2-4c07-a6e1-78fbcee7626e\",\"type\":\"ToolbarBox\"},{\"attributes\":{\"data_source\":{\"id\":\"ad8d42ee-a178-42ae-b8d3-1f5566484c43\",\"type\":\"ColumnDataSource\"},\"glyph\":{\"id\":\"7570f579-9be3-46ac-9769-2b6cb1d1db23\",\"type\":\"VBar\"},\"hover_glyph\":null,\"muted_glyph\":null,\"nonselection_glyph\":{\"id\":\"e9e785c2-9adc-405b-9758-fae7b6f4d540\",\"type\":\"VBar\"},\"selection_glyph\":null,\"view\":{\"id\":\"6e08f670-05a8-44b0-a6ce-de389a7d40fc\",\"type\":\"CDSView\"}},\"id\":\"e7f0dcc9-2dbf-4a69-9e1c-38bf5414a5f6\",\"type\":\"GlyphRenderer\"},{\"attributes\":{\"plot\":null,\"text\":\"SFC flux. CLIRAD (single-run) - CRD.\"},\"id\":\"78dc88d1-1e90-4cc7-b6e2-a7722d4c1cd8\",\"type\":\"Title\"},{\"attributes\":{},\"id\":\"838d5232-115e-4d56-b745-23dc9f4b84b7\",\"type\":\"SaveTool\"}],\"root_ids\":[\"092af5a6-a8ad-4a21-80ce-fa65eaf31aae\"]},\"title\":\"Bokeh Application\",\"version\":\"0.12.16\"}};\n",
       "  var render_items = [{\"docid\":\"4de1c4ab-0270-4625-96fc-28add3c54956\",\"elementid\":\"a7a22ae3-d8de-4161-92fc-d22df7bc890d\",\"modelid\":\"092af5a6-a8ad-4a21-80ce-fa65eaf31aae\"}];\n",
       "  root.Bokeh.embed.embed_items_notebook(docs_json, render_items);\n",
       "\n",
       "  }\n",
       "  if (root.Bokeh !== undefined) {\n",
       "    embed_document(root);\n",
       "  } else {\n",
       "    var attempts = 0;\n",
       "    var timer = setInterval(function(root) {\n",
       "      if (root.Bokeh !== undefined) {\n",
       "        embed_document(root);\n",
       "        clearInterval(timer);\n",
       "      }\n",
       "      attempts++;\n",
       "      if (attempts > 100) {\n",
       "        console.log(\"Bokeh: ERROR: Unable to run BokehJS code because BokehJS library is missing\")\n",
       "        clearInterval(timer);\n",
       "      }\n",
       "    }, 10, root)\n",
       "  }\n",
       "})(window);"
      ],
      "application/vnd.bokehjs_exec.v0+json": ""
     },
     "metadata": {
      "application/vnd.bokehjs_exec.v0+json": {
       "id": "092af5a6-a8ad-4a21-80ce-fa65eaf31aae"
      }
     },
     "output_type": "display_data"
    },
    {
     "data": {
      "text/markdown": [
       "*FIGURE.* Difference between CLIRAD and CRD in TOA, SFC and net atmosphere flux, in each spectral band."
      ],
      "text/plain": [
       "<IPython.core.display.Markdown object>"
      ]
     },
     "metadata": {},
     "output_type": "display_data"
    },
    {
     "data": {
      "text/html": [
       "<div>\n",
       "<style scoped>\n",
       "    .dataframe tbody tr th:only-of-type {\n",
       "        vertical-align: middle;\n",
       "    }\n",
       "\n",
       "    .dataframe tbody tr th {\n",
       "        vertical-align: top;\n",
       "    }\n",
       "\n",
       "    .dataframe thead th {\n",
       "        text-align: right;\n",
       "    }\n",
       "</style>\n",
       "<table border=\"1\" class=\"dataframe\">\n",
       "  <thead>\n",
       "    <tr style=\"text-align: right;\">\n",
       "      <th></th>\n",
       "      <th>OLR flux</th>\n",
       "      <th>SFC flux</th>\n",
       "      <th>ATM heating</th>\n",
       "    </tr>\n",
       "    <tr>\n",
       "      <th>Sum over bands</th>\n",
       "      <th></th>\n",
       "      <th></th>\n",
       "      <th></th>\n",
       "    </tr>\n",
       "  </thead>\n",
       "  <tbody>\n",
       "    <tr>\n",
       "      <th>CLIRAD (single-run) - CRD</th>\n",
       "      <td>0.95</td>\n",
       "      <td>-0.25</td>\n",
       "      <td>1.20</td>\n",
       "    </tr>\n",
       "    <tr>\n",
       "      <th>CRD</th>\n",
       "      <td>-201.06</td>\n",
       "      <td>166.03</td>\n",
       "      <td>-119.67</td>\n",
       "    </tr>\n",
       "  </tbody>\n",
       "</table>\n",
       "</div>"
      ],
      "text/plain": [
       "                           OLR flux  SFC flux  ATM heating\n",
       "Sum over bands                                            \n",
       "CLIRAD (single-run) - CRD      0.95     -0.25         1.20\n",
       "CRD                         -201.06    166.03      -119.67"
      ]
     },
     "metadata": {},
     "output_type": "display_data"
    },
    {
     "data": {
      "text/markdown": [
       "*TABLE.* Difference between CLIRAD and CRD in TOA, SFC and net atmosphere flux, over all spectral bands. CRD's TOA, SFC and net atmosphere flux, over all spectral bands."
      ],
      "text/plain": [
       "<IPython.core.display.Markdown object>"
      ]
     },
     "metadata": {},
     "output_type": "display_data"
    },
    {
     "data": {
      "text/html": [
       "<a id=\"Cooling_rates._trp.\"></a>"
      ],
      "text/plain": [
       "<IPython.core.display.HTML object>"
      ]
     },
     "metadata": {},
     "output_type": "display_data"
    },
    {
     "data": {
      "text/markdown": [
       "# Cooling rates. trp."
      ],
      "text/plain": [
       "<IPython.core.display.Markdown object>"
      ]
     },
     "metadata": {},
     "output_type": "display_data"
    },
    {
     "data": {
      "text/html": [
       "\n",
       "<div class=\"bk-root\">\n",
       "    <div class=\"bk-plotdiv\" id=\"8c564ddd-f5ed-4ebf-a7c4-0c7bfe6460ed\"></div>\n",
       "</div>"
      ]
     },
     "metadata": {},
     "output_type": "display_data"
    },
    {
     "data": {
      "application/javascript": [
       "(function(root) {\n",
       "  function embed_document(root) {\n",
       "    \n",
       "  var docs_json = {\"4e22a16c-993b-4efc-a87b-d73967e1092f\":{\"roots\":{\"references\":[{\"attributes\":{\"callback\":null,\"data\":{\"x\":{\"__ndarray__\":\"LMunYk39Q8Ac5K+9hYUgwIuHOhlXuwLAltV0icEP/D9ciMBqEyYOQEEvTS9sxQ5Akk9ePE5KBEBV+YTOHajmP0UGQEYAPOi/26+cD3089b9RgP4ixk/xv2pCEiHW8N6/GNT09DSytT/Kk68oN1bdP5RqKCa/LOE/YmhRqpmQ1j+D3wAMgUGxP40ANRFImNG/b5TAzltJ4b93Tf0tBlrhv5JF8PwOotO/yD6A/KBOur9reWwStWugv/MPMWgcr8u/rZU+ATxJ17/n7rKlU1u7v8f5KS9Xc9Q/muf1wbaL1T8ggupVl+y3Pwkh51b/r4M/w1qKxkMAzj/nAwroXAHUP/bkiLMW2sA/v0hl7WNDrr+1pe499ZWfv9o6NmjZxqA/95zSSzc7ob+UsRdWjz20v71+6uaRs7C/+X9FsH1grr8qqtuiDoqwv/veDk+K7rC/oYoVcMSwsr/AVG4iegyqv8COVhfARrG/bSpkjUcQwL95TI8x4tS0v2fiAevrqa+/3yquglu/tb+EPm/QvZO1v0Saxz0SE62/KAA0MRAroL98A/o1rOuUv5xdm1QPNJa/BBD2d4TEnb+s0wwxb7Gevw8FodMrGY2/ELH9AWJUkD/kYw0wVsimP1j+QEJfPa0/yPRVyTKKqD+dXllL/K+ZP+BU0s9DiWA/pBF2C9aYdb8wCUuYxyNyP9paSq4LzJs/wKdJ7WDkrD/5xKXwwaeyP7rBqbSWVrM/9WC/z4tmtD/eSPcgj3W1P+wv9xzjibY/cN7nmK2Fuj/8Nzaan4S+P5S4FKuUC8A/\",\"dtype\":\"float64\",\"shape\":[75]},\"y\":{\"__ndarray__\":\"GhExyth1ND/Sv8nbtpRIP2vylNV0PVE/aTum7souWD/At0SJ8fVgPw3Iuahxymc/MSNhhJWvcD/bTfBN02d3P2zb5nxnaoA/CD5h5MAGhz8NmeH1TyaQP+zrCsc9p5Y/LbKd76fGnz/bLW5ISEmmPww9YvTcQq8/JV2OstnstT8Er5Y7M8G+P0c+r3jqkcU/5h99k6ZBzj88bCIzFzjVP4enV8oyxN0//yH99nXg5D8qOpLLf0jtP5kqGJXUifQ/c9cS8kHP/D+/DpwzojQEQIEmwoanVwxA4lgXt9HgE0BSSZ2AJuIbQAMJih9jjiNA5q4l5INuK0AwTKYKRj0zQNv5fmq8/DpAaCJseHrtQkB/+zpwzoxKQM3MzMzMeFJAZmZmZmZqWEAAAAAAAFxeQM3MzMzMJmJAmpmZmZkfZUBmZmZmZhhoQDMzMzMzEWtAAAAAAAAKbkBmZmZmZoFwQM3MzMzM/XFAMzMzMzN6c0CamZmZmfZ0QAAAAAAAc3ZAZmZmZmbvd0DNzMzMzGt5QDMzMzMz6HpAmpmZmZlkfEAAAAAAAOF9QGZmZmZmXX9AZmZmZuZsgECamZmZGSuBQM3MzMxM6YFAAAAAAICngkAzMzMzs2WDQGZmZmbmI4RAmpmZmRnihEDNzMzMTKCFQAAAAACAXoZAMzMzM7Mch0BmZmZm5tqHQJqZmZkZmYhAzczMzExXiUAAAAAAgBWKQDMzMzOz04pAZmZmZuaRi0CamZmZGVCMQM3MzMxMDo1AAAAAAIDMjUAzMzMzs4qOQGZmZmbmSI9A\",\"dtype\":\"float64\",\"shape\":[75]}},\"selected\":{\"id\":\"666203cf-0248-4227-8c06-d31b5a538c1f\",\"type\":\"Selection\"},\"selection_policy\":{\"id\":\"a2ba98ef-7d1b-4339-b56b-105025df7c08\",\"type\":\"UnionRenderers\"}},\"id\":\"6c2aad3c-b215-4df1-ba22-c2f09e3e1d8c\",\"type\":\"ColumnDataSource\"},{\"attributes\":{\"callback\":null,\"end\":0.01,\"start\":1020},\"id\":\"6e7cd5a4-574b-4d6a-93a1-b6a2d1093526\",\"type\":\"Range1d\"},{\"attributes\":{},\"id\":\"8ebb6ac7-327b-4bf0-b66e-5e2fb5e6e1b3\",\"type\":\"LogScale\"},{\"attributes\":{},\"id\":\"0e072c42-b743-4b2d-9dc7-e1b5c2434a08\",\"type\":\"BasicTicker\"},{\"attributes\":{\"axis_label\":\"cooling rate [K/day]\",\"formatter\":{\"id\":\"33eb0a66-2986-4620-b92f-09278ef383f6\",\"type\":\"BasicTickFormatter\"},\"plot\":{\"id\":\"46ce41e1-9d08-4ab6-9ecd-7265a5a960c5\",\"subtype\":\"Figure\",\"type\":\"Plot\"},\"ticker\":{\"id\":\"0e072c42-b743-4b2d-9dc7-e1b5c2434a08\",\"type\":\"BasicTicker\"}},\"id\":\"fee5f6ef-bf4b-4926-b179-805d1a3d89b1\",\"type\":\"LinearAxis\"},{\"attributes\":{\"callback\":null,\"end\":0.5553520401785079,\"start\":-1.3459075044057083},\"id\":\"6bbcbcf5-0064-4d48-9453-e3618cc0bf4e\",\"type\":\"Range1d\"},{\"attributes\":{\"active_drag\":\"auto\",\"active_inspect\":\"auto\",\"active_scroll\":\"auto\",\"active_tap\":\"auto\",\"tools\":[{\"id\":\"f1f60729-5da9-47c2-a3b5-81f595369481\",\"type\":\"PanTool\"},{\"id\":\"d3799f4e-b257-410b-8843-22d044d91c55\",\"type\":\"WheelZoomTool\"},{\"id\":\"57b6c290-5e84-488f-b341-011e94df3bdd\",\"type\":\"BoxZoomTool\"},{\"id\":\"aed9c725-2331-4510-b83a-80aea05ede4e\",\"type\":\"SaveTool\"},{\"id\":\"f0493eeb-de9c-4585-a8f0-5f96040c2055\",\"type\":\"ResetTool\"},{\"id\":\"6c5ef543-00ae-46fe-b6b2-7aacccc1151a\",\"type\":\"HelpTool\"}]},\"id\":\"eed63af8-25c5-4bd7-9eb0-281f24152211\",\"type\":\"Toolbar\"},{\"attributes\":{\"plot\":{\"id\":\"46ce41e1-9d08-4ab6-9ecd-7265a5a960c5\",\"subtype\":\"Figure\",\"type\":\"Plot\"},\"ticker\":{\"id\":\"0e072c42-b743-4b2d-9dc7-e1b5c2434a08\",\"type\":\"BasicTicker\"}},\"id\":\"634ed103-a281-4e68-b424-7cebac01db6b\",\"type\":\"Grid\"},{\"attributes\":{\"items\":[{\"id\":\"f6321447-9d2b-45da-9daf-77317180dc0d\",\"type\":\"LegendItem\"}],\"label_text_font_size\":{\"value\":\"8pt\"},\"location\":\"top_center\",\"orientation\":\"horizontal\",\"plot\":{\"id\":\"46ce41e1-9d08-4ab6-9ecd-7265a5a960c5\",\"subtype\":\"Figure\",\"type\":\"Plot\"}},\"id\":\"bddd249f-4977-42a8-a402-2eb1d742209a\",\"type\":\"Legend\"},{\"attributes\":{},\"id\":\"249ad410-1e3d-4112-a73a-9d1b4abfb1af\",\"type\":\"LinearScale\"},{\"attributes\":{\"line_color\":\"#4daf4a\",\"line_width\":1.5,\"x\":{\"field\":\"x\"},\"y\":{\"field\":\"y\"}},\"id\":\"5676886c-9dd7-400c-888d-baebd286fdbe\",\"type\":\"Line\"},{\"attributes\":{},\"id\":\"205a1eb2-6aff-4497-aeee-08efe1e9a66e\",\"type\":\"BasicTickFormatter\"},{\"attributes\":{\"above\":[{\"id\":\"81c89dab-89fb-434b-9bcb-842b9afb009e\",\"type\":\"Legend\"}],\"below\":[{\"id\":\"bf184fd0-948b-4dab-8aef-f3aa94ebf970\",\"type\":\"LinearAxis\"}],\"left\":[{\"id\":\"ec0b15e9-a5d0-45c0-8172-59c5560cd707\",\"type\":\"LogAxis\"}],\"plot_width\":300,\"renderers\":[{\"id\":\"bf184fd0-948b-4dab-8aef-f3aa94ebf970\",\"type\":\"LinearAxis\"},{\"id\":\"2fbe9915-fa30-4363-8ce4-5a4b2be165bb\",\"type\":\"Grid\"},{\"id\":\"ec0b15e9-a5d0-45c0-8172-59c5560cd707\",\"type\":\"LogAxis\"},{\"id\":\"c5cfca97-0249-42db-9318-172eb1c913b9\",\"type\":\"Grid\"},{\"id\":\"5bb491b7-08e8-426f-8cbc-f4051fa4cb11\",\"type\":\"BoxAnnotation\"},{\"id\":\"f9911564-e9eb-46e1-828a-448cbe2b76cc\",\"type\":\"GlyphRenderer\"},{\"id\":\"80f076e2-3bcc-422e-a320-12b521653aed\",\"type\":\"GlyphRenderer\"},{\"id\":\"757adcee-f36c-4c73-8363-26257cc08607\",\"type\":\"GlyphRenderer\"},{\"id\":\"81c89dab-89fb-434b-9bcb-842b9afb009e\",\"type\":\"Legend\"}],\"title\":{\"id\":\"919095cd-1a6a-442e-9c86-024037ee12ec\",\"type\":\"Title\"},\"toolbar\":{\"id\":\"11f4aadd-b0e9-4ffb-a58d-8daa4a0cef1c\",\"type\":\"Toolbar\"},\"toolbar_location\":null,\"x_range\":{\"id\":\"374bc53c-0229-4e57-8c7a-17303a351ffb\",\"type\":\"Range1d\"},\"x_scale\":{\"id\":\"49b4fa54-73d9-4a09-913c-314c64d50b7b\",\"type\":\"LinearScale\"},\"y_range\":{\"id\":\"a5abc33e-38b1-416d-9dcf-116da622b5eb\",\"type\":\"Range1d\"},\"y_scale\":{\"id\":\"8197c091-e5f0-4727-a6d0-19ac8aef34b8\",\"type\":\"LogScale\"}},\"id\":\"5f294c65-9dcf-4aab-bb55-a43c7e3431bc\",\"subtype\":\"Figure\",\"type\":\"Plot\"},{\"attributes\":{\"data_source\":{\"id\":\"6c2aad3c-b215-4df1-ba22-c2f09e3e1d8c\",\"type\":\"ColumnDataSource\"},\"glyph\":{\"id\":\"f7face81-1413-4fc8-84ac-2794673323b5\",\"type\":\"Circle\"},\"hover_glyph\":null,\"muted_glyph\":null,\"nonselection_glyph\":{\"id\":\"b86e5b73-b5ea-4855-bb42-cf40c8489fbe\",\"type\":\"Circle\"},\"selection_glyph\":null,\"view\":{\"id\":\"e4cb893c-7d12-4041-a3f6-b53e1de911c5\",\"type\":\"CDSView\"}},\"id\":\"f0948385-9f04-44d0-861b-4126fceedba5\",\"type\":\"GlyphRenderer\"},{\"attributes\":{},\"id\":\"e854a9e2-37e5-4f6e-9d61-c95043a8c8d3\",\"type\":\"Selection\"},{\"attributes\":{\"data_source\":{\"id\":\"b27a51e8-787c-4c9b-9fe9-12dd1fd16ce5\",\"type\":\"ColumnDataSource\"},\"glyph\":{\"id\":\"562efb6d-5063-4b76-87a3-b4ddf9e04c01\",\"type\":\"Line\"},\"hover_glyph\":null,\"muted_glyph\":null,\"nonselection_glyph\":{\"id\":\"ac7f1a1b-72a9-4776-8f8d-49b1e695b52f\",\"type\":\"Line\"},\"selection_glyph\":null,\"view\":{\"id\":\"e4a416dc-7d13-4892-883f-5f757e264371\",\"type\":\"CDSView\"}},\"id\":\"10bbf0d5-1483-4ea9-affc-3ae3bc8bd716\",\"type\":\"GlyphRenderer\"},{\"attributes\":{\"source\":{\"id\":\"b27a51e8-787c-4c9b-9fe9-12dd1fd16ce5\",\"type\":\"ColumnDataSource\"}},\"id\":\"e4a416dc-7d13-4892-883f-5f757e264371\",\"type\":\"CDSView\"},{\"attributes\":{\"toolbar\":{\"id\":\"06923ca1-2b24-49ad-a7a6-e5a31e3e2c16\",\"type\":\"ProxyToolbar\"},\"toolbar_location\":\"above\"},\"id\":\"c09296c0-6a37-4f94-8cce-f854dd502f5d\",\"type\":\"ToolbarBox\"},{\"attributes\":{\"children\":[{\"id\":\"c09296c0-6a37-4f94-8cce-f854dd502f5d\",\"type\":\"ToolbarBox\"},{\"id\":\"b46f0fef-f3de-4411-ad03-59ee1746878f\",\"type\":\"Column\"}]},\"id\":\"a7d57c08-571c-4e85-b2f6-233f015e47e2\",\"type\":\"Column\"},{\"attributes\":{\"line_alpha\":0.8,\"line_color\":\"#984ea3\",\"line_width\":1.5,\"x\":{\"field\":\"x\"},\"y\":{\"field\":\"y\"}},\"id\":\"562efb6d-5063-4b76-87a3-b4ddf9e04c01\",\"type\":\"Line\"},{\"attributes\":{\"source\":{\"id\":\"5c5221fb-1de8-4139-91db-490c791f1d35\",\"type\":\"ColumnDataSource\"}},\"id\":\"254a4894-e8a3-4d55-9e2b-f93db684b357\",\"type\":\"CDSView\"},{\"attributes\":{},\"id\":\"9b74d868-d38c-403d-a0cd-475d2d9ef6ce\",\"type\":\"UnionRenderers\"},{\"attributes\":{\"data_source\":{\"id\":\"9d8c772e-5457-446a-94a4-d8bc39e9c658\",\"type\":\"ColumnDataSource\"},\"glyph\":{\"id\":\"906569d2-26df-474a-b0c4-bdc341058f31\",\"type\":\"Circle\"},\"hover_glyph\":null,\"muted_glyph\":null,\"nonselection_glyph\":{\"id\":\"907f9b58-0da2-4e15-8783-4d98e34c3838\",\"type\":\"Circle\"},\"selection_glyph\":null,\"view\":{\"id\":\"dc4e62d5-84eb-4a52-9fe1-882d515a3bef\",\"type\":\"CDSView\"}},\"id\":\"80f076e2-3bcc-422e-a320-12b521653aed\",\"type\":\"GlyphRenderer\"},{\"attributes\":{\"label\":{\"value\":\"CRD\"},\"renderers\":[{\"id\":\"80f076e2-3bcc-422e-a320-12b521653aed\",\"type\":\"GlyphRenderer\"},{\"id\":\"757adcee-f36c-4c73-8363-26257cc08607\",\"type\":\"GlyphRenderer\"}]},\"id\":\"e146b926-04ae-4b27-9f5f-62fe32e47116\",\"type\":\"LegendItem\"},{\"attributes\":{\"fill_alpha\":{\"value\":0.7},\"fill_color\":{\"value\":\"#984ea3\"},\"line_alpha\":{\"value\":0.7},\"line_color\":{\"value\":\"#984ea3\"},\"x\":{\"field\":\"x\"},\"y\":{\"field\":\"y\"}},\"id\":\"f7face81-1413-4fc8-84ac-2794673323b5\",\"type\":\"Circle\"},{\"attributes\":{\"source\":{\"id\":\"6c2aad3c-b215-4df1-ba22-c2f09e3e1d8c\",\"type\":\"ColumnDataSource\"}},\"id\":\"e4cb893c-7d12-4041-a3f6-b53e1de911c5\",\"type\":\"CDSView\"},{\"attributes\":{\"source\":{\"id\":\"6e0b163b-af9c-4d56-ab60-04d2303af0ff\",\"type\":\"ColumnDataSource\"}},\"id\":\"ea7ab6ac-fd27-4e5d-b0f1-659e9af7627b\",\"type\":\"CDSView\"},{\"attributes\":{\"fill_alpha\":{\"value\":0.1},\"fill_color\":{\"value\":\"#1f77b4\"},\"line_alpha\":{\"value\":0.1},\"line_color\":{\"value\":\"#1f77b4\"},\"x\":{\"field\":\"x\"},\"y\":{\"field\":\"y\"}},\"id\":\"907f9b58-0da2-4e15-8783-4d98e34c3838\",\"type\":\"Circle\"},{\"attributes\":{\"data_source\":{\"id\":\"a4f6c167-24dc-4fa3-a1be-17126cbbf1eb\",\"type\":\"ColumnDataSource\"},\"glyph\":{\"id\":\"5676886c-9dd7-400c-888d-baebd286fdbe\",\"type\":\"Line\"},\"hover_glyph\":null,\"muted_glyph\":null,\"nonselection_glyph\":{\"id\":\"c2afdc2a-414b-439a-88f4-7d288974a0ef\",\"type\":\"Line\"},\"selection_glyph\":null,\"view\":{\"id\":\"3d09d46d-d90f-4910-a7be-652a81bde41e\",\"type\":\"CDSView\"}},\"id\":\"757adcee-f36c-4c73-8363-26257cc08607\",\"type\":\"GlyphRenderer\"},{\"attributes\":{\"ticker\":null},\"id\":\"a76a0b3a-9ae2-46e1-9f79-3adf8129754d\",\"type\":\"LogTickFormatter\"},{\"attributes\":{},\"id\":\"329569d5-4317-4a02-ad98-fcbd1b9400e5\",\"type\":\"UnionRenderers\"},{\"attributes\":{\"fill_alpha\":{\"value\":0.1},\"fill_color\":{\"value\":\"#1f77b4\"},\"line_alpha\":{\"value\":0.1},\"line_color\":{\"value\":\"#1f77b4\"},\"x\":{\"field\":\"x\"},\"y\":{\"field\":\"y\"}},\"id\":\"b86e5b73-b5ea-4855-bb42-cf40c8489fbe\",\"type\":\"Circle\"},{\"attributes\":{\"label\":{\"value\":\"CLIRAD (single-run) - CRD\"},\"renderers\":[{\"id\":\"f0948385-9f04-44d0-861b-4126fceedba5\",\"type\":\"GlyphRenderer\"},{\"id\":\"10bbf0d5-1483-4ea9-affc-3ae3bc8bd716\",\"type\":\"GlyphRenderer\"}]},\"id\":\"f6321447-9d2b-45da-9daf-77317180dc0d\",\"type\":\"LegendItem\"},{\"attributes\":{},\"id\":\"5637262a-c933-4483-876f-e7646f0be450\",\"type\":\"BasicTickFormatter\"},{\"attributes\":{\"line_alpha\":0.1,\"line_color\":\"#1f77b4\",\"line_dash\":[6],\"line_width\":5,\"x\":{\"field\":\"x\"},\"y\":{\"field\":\"y\"}},\"id\":\"c79faba8-b9d2-4816-8a83-b0d167ab8484\",\"type\":\"Line\"},{\"attributes\":{\"line_alpha\":0.1,\"line_color\":\"#1f77b4\",\"line_width\":1.5,\"x\":{\"field\":\"x\"},\"y\":{\"field\":\"y\"}},\"id\":\"c2afdc2a-414b-439a-88f4-7d288974a0ef\",\"type\":\"Line\"},{\"attributes\":{\"fill_alpha\":{\"value\":0.7},\"fill_color\":{\"value\":\"#4daf4a\"},\"line_alpha\":{\"value\":0.7},\"line_color\":{\"value\":\"#4daf4a\"},\"x\":{\"field\":\"x\"},\"y\":{\"field\":\"y\"}},\"id\":\"1c6a8f3c-65e9-489b-8779-eaee19f54fdd\",\"type\":\"Circle\"},{\"attributes\":{\"line_alpha\":0.6,\"line_color\":\"#377eb8\",\"line_dash\":[6],\"line_width\":5,\"x\":{\"field\":\"x\"},\"y\":{\"field\":\"y\"}},\"id\":\"3f83eb55-b9aa-4ca0-bb0b-0231fd6c06a9\",\"type\":\"Line\"},{\"attributes\":{\"callback\":null,\"data\":{\"x\":{\"__ndarray__\":\"R/KIaN7AVEClCeJMyPNGQOvRhpxr30JAptxzhxx4PkA7SssMElA4QK6Bp3CyUDNAsVXpjES9LkBFhUV0+5coQMHYwqbbySNA6f09nM3nH0CaSd/3eYoZQDmgiAOW8BNAPYqARh3eDEBkm4vCgvr+P9D+5tWhQfY/P8DwKRnSAkBq38kb17ILQDT7IWuSsxFAUr2Rjm0FFkAinq3s9XgbQGCHwtYcqSFAG64kT303J0C7dRDneyooQD9JYrbK8yRA9S3bneHhIUAIymSuUMMcQIkHLe6VEBdAAau3cITREkA6CiNvkQIPQJU39ki7IQlAaAvwok1UA0BXLQiS4+L7P0xzDpJ2hPI/NNuPGMbJ5z91mUVYxqfSPxqwUPSxZca/G11peifD3L8QzNj5t2jTvwzOozTL360/SPJ4VI1VzD9KJ0nXEIncP8yDdlvHt+4/Et49nYLW9z++2teD4Jn+P+568eH/bwFALf5D9lmAAkCiZAicVOkCQPPT4jNKxwJAOjp3wTzBAUBSQsKNGisBQG4OmjqJwQBAJ3sZoHFuAEA5Ar0Sdi0AQGy4rw5+9f8/7W4nSrC3/z8mPr8zj4T/P4UYRHCQS/8/embVKYcF/z+5YXG+LLP+P/qb8BVUgf4/KvafTtyO/j/avAK1Ppv+PwJV9VVm2P0/JFtYlU/n/D9sN+q2fiX6Pw44e41PNPc/Opt+Z/wN9T+x3vcSW1vzP9ofvWQJlvI/8sciQQBW8j80sfkQa17yPzg5qng2r/I/Oh14WJBh8z+VZjnpctj0P6CcrSuCqQBA\",\"dtype\":\"float64\",\"shape\":[75]},\"y\":{\"__ndarray__\":\"GhExyth1ND/Sv8nbtpRIP2vylNV0PVE/aTum7souWD/At0SJ8fVgPw3Iuahxymc/MSNhhJWvcD/bTfBN02d3P2zb5nxnaoA/CD5h5MAGhz8NmeH1TyaQP+zrCsc9p5Y/LbKd76fGnz/bLW5ISEmmPww9YvTcQq8/JV2OstnstT8Er5Y7M8G+P0c+r3jqkcU/5h99k6ZBzj88bCIzFzjVP4enV8oyxN0//yH99nXg5D8qOpLLf0jtP5kqGJXUifQ/c9cS8kHP/D+/DpwzojQEQIEmwoanVwxA4lgXt9HgE0BSSZ2AJuIbQAMJih9jjiNA5q4l5INuK0AwTKYKRj0zQNv5fmq8/DpAaCJseHrtQkB/+zpwzoxKQM3MzMzMeFJAZmZmZmZqWEAAAAAAAFxeQM3MzMzMJmJAmpmZmZkfZUBmZmZmZhhoQDMzMzMzEWtAAAAAAAAKbkBmZmZmZoFwQM3MzMzM/XFAMzMzMzN6c0CamZmZmfZ0QAAAAAAAc3ZAZmZmZmbvd0DNzMzMzGt5QDMzMzMz6HpAmpmZmZlkfEAAAAAAAOF9QGZmZmZmXX9AZmZmZuZsgECamZmZGSuBQM3MzMxM6YFAAAAAAICngkAzMzMzs2WDQGZmZmbmI4RAmpmZmRnihEDNzMzMTKCFQAAAAACAXoZAMzMzM7Mch0BmZmZm5tqHQJqZmZkZmYhAzczMzExXiUAAAAAAgBWKQDMzMzOz04pAZmZmZuaRi0CamZmZGVCMQM3MzMxMDo1AAAAAAIDMjUAzMzMzs4qOQGZmZmbmSI9A\",\"dtype\":\"float64\",\"shape\":[75]}},\"selected\":{\"id\":\"d7b6faa5-9631-4e67-b74d-a75ae6b2f6ce\",\"type\":\"Selection\"},\"selection_policy\":{\"id\":\"afa2c67e-ea6a-405e-8817-22ede170d02c\",\"type\":\"UnionRenderers\"}},\"id\":\"9d8c772e-5457-446a-94a4-d8bc39e9c658\",\"type\":\"ColumnDataSource\"},{\"attributes\":{\"data_source\":{\"id\":\"6e0b163b-af9c-4d56-ab60-04d2303af0ff\",\"type\":\"ColumnDataSource\"},\"glyph\":{\"id\":\"1c6a8f3c-65e9-489b-8779-eaee19f54fdd\",\"type\":\"Circle\"},\"hover_glyph\":null,\"muted_glyph\":null,\"nonselection_glyph\":{\"id\":\"49e832cd-dbbf-43fd-83b6-57354bec58c6\",\"type\":\"Circle\"},\"selection_glyph\":null,\"view\":{\"id\":\"ea7ab6ac-fd27-4e5d-b0f1-659e9af7627b\",\"type\":\"CDSView\"}},\"id\":\"d9ed9ef6-3188-47c1-be73-5fd5a3ad7f98\",\"type\":\"GlyphRenderer\"},{\"attributes\":{},\"id\":\"573f22f9-5b9f-4404-99a7-ee08ca889965\",\"type\":\"UnionRenderers\"},{\"attributes\":{\"plot\":null,\"text\":\"\"},\"id\":\"919095cd-1a6a-442e-9c86-024037ee12ec\",\"type\":\"Title\"},{\"attributes\":{\"callback\":null,\"data\":{\"x\":{\"__ndarray__\":\"R/KIaN7AVEClCeJMyPNGQOvRhpxr30JAptxzhxx4PkA7SssMElA4QK6Bp3CyUDNAsVXpjES9LkBFhUV0+5coQMHYwqbbySNA6f09nM3nH0CaSd/3eYoZQDmgiAOW8BNAPYqARh3eDEBkm4vCgvr+P9D+5tWhQfY/P8DwKRnSAkBq38kb17ILQDT7IWuSsxFAUr2Rjm0FFkAinq3s9XgbQGCHwtYcqSFAG64kT303J0C7dRDneyooQD9JYrbK8yRA9S3bneHhIUAIymSuUMMcQIkHLe6VEBdAAau3cITREkA6CiNvkQIPQJU39ki7IQlAaAvwok1UA0BXLQiS4+L7P0xzDpJ2hPI/NNuPGMbJ5z91mUVYxqfSPxqwUPSxZca/G11peifD3L8QzNj5t2jTvwzOozTL360/SPJ4VI1VzD9KJ0nXEIncP8yDdlvHt+4/Et49nYLW9z++2teD4Jn+P+568eH/bwFALf5D9lmAAkCiZAicVOkCQPPT4jNKxwJAOjp3wTzBAUBSQsKNGisBQG4OmjqJwQBAJ3sZoHFuAEA5Ar0Sdi0AQGy4rw5+9f8/7W4nSrC3/z8mPr8zj4T/P4UYRHCQS/8/embVKYcF/z+5YXG+LLP+P/qb8BVUgf4/KvafTtyO/j/avAK1Ppv+PwJV9VVm2P0/JFtYlU/n/D9sN+q2fiX6Pw44e41PNPc/Opt+Z/wN9T+x3vcSW1vzP9ofvWQJlvI/8sciQQBW8j80sfkQa17yPzg5qng2r/I/Oh14WJBh8z+VZjnpctj0P6CcrSuCqQBA\",\"dtype\":\"float64\",\"shape\":[75]},\"y\":{\"__ndarray__\":\"GhExyth1ND/Sv8nbtpRIP2vylNV0PVE/aTum7souWD/At0SJ8fVgPw3Iuahxymc/MSNhhJWvcD/bTfBN02d3P2zb5nxnaoA/CD5h5MAGhz8NmeH1TyaQP+zrCsc9p5Y/LbKd76fGnz/bLW5ISEmmPww9YvTcQq8/JV2OstnstT8Er5Y7M8G+P0c+r3jqkcU/5h99k6ZBzj88bCIzFzjVP4enV8oyxN0//yH99nXg5D8qOpLLf0jtP5kqGJXUifQ/c9cS8kHP/D+/DpwzojQEQIEmwoanVwxA4lgXt9HgE0BSSZ2AJuIbQAMJih9jjiNA5q4l5INuK0AwTKYKRj0zQNv5fmq8/DpAaCJseHrtQkB/+zpwzoxKQM3MzMzMeFJAZmZmZmZqWEAAAAAAAFxeQM3MzMzMJmJAmpmZmZkfZUBmZmZmZhhoQDMzMzMzEWtAAAAAAAAKbkBmZmZmZoFwQM3MzMzM/XFAMzMzMzN6c0CamZmZmfZ0QAAAAAAAc3ZAZmZmZmbvd0DNzMzMzGt5QDMzMzMz6HpAmpmZmZlkfEAAAAAAAOF9QGZmZmZmXX9AZmZmZuZsgECamZmZGSuBQM3MzMxM6YFAAAAAAICngkAzMzMzs2WDQGZmZmbmI4RAmpmZmRnihEDNzMzMTKCFQAAAAACAXoZAMzMzM7Mch0BmZmZm5tqHQJqZmZkZmYhAzczMzExXiUAAAAAAgBWKQDMzMzOz04pAZmZmZuaRi0CamZmZGVCMQM3MzMxMDo1AAAAAAIDMjUAzMzMzs4qOQGZmZmbmSI9A\",\"dtype\":\"float64\",\"shape\":[75]}},\"selected\":{\"id\":\"3737ac32-6975-483d-ada5-4c8d91c74171\",\"type\":\"Selection\"},\"selection_policy\":{\"id\":\"9b74d868-d38c-403d-a0cd-475d2d9ef6ce\",\"type\":\"UnionRenderers\"}},\"id\":\"6e0b163b-af9c-4d56-ab60-04d2303af0ff\",\"type\":\"ColumnDataSource\"},{\"attributes\":{},\"id\":\"51853c4e-c43a-4a6a-a9b7-49583479c2b8\",\"type\":\"Selection\"},{\"attributes\":{},\"id\":\"f1cbbc9b-7ecf-45a3-8504-cba747084b05\",\"type\":\"BasicTickFormatter\"},{\"attributes\":{},\"id\":\"afc5b626-091e-41f4-bc0b-f1d8cec7bc94\",\"type\":\"UnionRenderers\"},{\"attributes\":{\"ticker\":null},\"id\":\"ec9430f9-e021-4603-a573-23ce93464a45\",\"type\":\"LogTickFormatter\"},{\"attributes\":{\"callback\":null,\"data\":{\"x\":{\"__ndarray__\":\"LMunYk39Q8Ac5K+9hYUgwIuHOhlXuwLAltV0icEP/D9ciMBqEyYOQEEvTS9sxQ5Akk9ePE5KBEBV+YTOHajmP0UGQEYAPOi/26+cD3089b9RgP4ixk/xv2pCEiHW8N6/GNT09DSytT/Kk68oN1bdP5RqKCa/LOE/YmhRqpmQ1j+D3wAMgUGxP40ANRFImNG/b5TAzltJ4b93Tf0tBlrhv5JF8PwOotO/yD6A/KBOur9reWwStWugv/MPMWgcr8u/rZU+ATxJ17/n7rKlU1u7v8f5KS9Xc9Q/muf1wbaL1T8ggupVl+y3Pwkh51b/r4M/w1qKxkMAzj/nAwroXAHUP/bkiLMW2sA/v0hl7WNDrr+1pe499ZWfv9o6NmjZxqA/95zSSzc7ob+UsRdWjz20v71+6uaRs7C/+X9FsH1grr8qqtuiDoqwv/veDk+K7rC/oYoVcMSwsr/AVG4iegyqv8COVhfARrG/bSpkjUcQwL95TI8x4tS0v2fiAevrqa+/3yquglu/tb+EPm/QvZO1v0Saxz0SE62/KAA0MRAroL98A/o1rOuUv5xdm1QPNJa/BBD2d4TEnb+s0wwxb7Gevw8FodMrGY2/ELH9AWJUkD/kYw0wVsimP1j+QEJfPa0/yPRVyTKKqD+dXllL/K+ZP+BU0s9DiWA/pBF2C9aYdb8wCUuYxyNyP9paSq4LzJs/wKdJ7WDkrD/5xKXwwaeyP7rBqbSWVrM/9WC/z4tmtD/eSPcgj3W1P+wv9xzjibY/cN7nmK2Fuj/8Nzaan4S+P5S4FKuUC8A/\",\"dtype\":\"float64\",\"shape\":[75]},\"y\":{\"__ndarray__\":\"GhExyth1ND/Sv8nbtpRIP2vylNV0PVE/aTum7souWD/At0SJ8fVgPw3Iuahxymc/MSNhhJWvcD/bTfBN02d3P2zb5nxnaoA/CD5h5MAGhz8NmeH1TyaQP+zrCsc9p5Y/LbKd76fGnz/bLW5ISEmmPww9YvTcQq8/JV2OstnstT8Er5Y7M8G+P0c+r3jqkcU/5h99k6ZBzj88bCIzFzjVP4enV8oyxN0//yH99nXg5D8qOpLLf0jtP5kqGJXUifQ/c9cS8kHP/D+/DpwzojQEQIEmwoanVwxA4lgXt9HgE0BSSZ2AJuIbQAMJih9jjiNA5q4l5INuK0AwTKYKRj0zQNv5fmq8/DpAaCJseHrtQkB/+zpwzoxKQM3MzMzMeFJAZmZmZmZqWEAAAAAAAFxeQM3MzMzMJmJAmpmZmZkfZUBmZmZmZhhoQDMzMzMzEWtAAAAAAAAKbkBmZmZmZoFwQM3MzMzM/XFAMzMzMzN6c0CamZmZmfZ0QAAAAAAAc3ZAZmZmZmbvd0DNzMzMzGt5QDMzMzMz6HpAmpmZmZlkfEAAAAAAAOF9QGZmZmZmXX9AZmZmZuZsgECamZmZGSuBQM3MzMxM6YFAAAAAAICngkAzMzMzs2WDQGZmZmbmI4RAmpmZmRnihEDNzMzMTKCFQAAAAACAXoZAMzMzM7Mch0BmZmZm5tqHQJqZmZkZmYhAzczMzExXiUAAAAAAgBWKQDMzMzOz04pAZmZmZuaRi0CamZmZGVCMQM3MzMxMDo1AAAAAAIDMjUAzMzMzs4qOQGZmZmbmSI9A\",\"dtype\":\"float64\",\"shape\":[75]}},\"selected\":{\"id\":\"e854a9e2-37e5-4f6e-9d61-c95043a8c8d3\",\"type\":\"Selection\"},\"selection_policy\":{\"id\":\"329569d5-4317-4a02-ad98-fcbd1b9400e5\",\"type\":\"UnionRenderers\"}},\"id\":\"b27a51e8-787c-4c9b-9fe9-12dd1fd16ce5\",\"type\":\"ColumnDataSource\"},{\"attributes\":{\"source\":{\"id\":\"7853ccb3-4c63-4b5d-ba16-29b77e9eab74\",\"type\":\"ColumnDataSource\"}},\"id\":\"9bccdfb0-f0b5-4f52-96cd-fe87c70e8b25\",\"type\":\"CDSView\"},{\"attributes\":{\"line_alpha\":0.1,\"line_color\":\"#1f77b4\",\"line_width\":1.5,\"x\":{\"field\":\"x\"},\"y\":{\"field\":\"y\"}},\"id\":\"ac7f1a1b-72a9-4776-8f8d-49b1e695b52f\",\"type\":\"Line\"},{\"attributes\":{\"plot\":null,\"text\":\"\"},\"id\":\"17343932-f853-4311-985b-c400a9ee61f2\",\"type\":\"Title\"},{\"attributes\":{\"source\":{\"id\":\"9d8c772e-5457-446a-94a4-d8bc39e9c658\",\"type\":\"ColumnDataSource\"}},\"id\":\"dc4e62d5-84eb-4a52-9fe1-882d515a3bef\",\"type\":\"CDSView\"},{\"attributes\":{},\"id\":\"d7b6faa5-9631-4e67-b74d-a75ae6b2f6ce\",\"type\":\"Selection\"},{\"attributes\":{},\"id\":\"afa2c67e-ea6a-405e-8817-22ede170d02c\",\"type\":\"UnionRenderers\"},{\"attributes\":{\"label\":{\"value\":\"CLIRAD (single-run)\"},\"renderers\":[{\"id\":\"f9911564-e9eb-46e1-828a-448cbe2b76cc\",\"type\":\"GlyphRenderer\"}]},\"id\":\"fc54e1ca-d8eb-4e5e-a502-aaa1779a7847\",\"type\":\"LegendItem\"},{\"attributes\":{},\"id\":\"103f3a05-38cb-4a57-8d8b-dc4b5c286c2a\",\"type\":\"UnionRenderers\"},{\"attributes\":{\"children\":[{\"id\":\"143b15cd-dd62-4806-b495-fe3f76773ceb\",\"subtype\":\"Figure\",\"type\":\"Plot\"},{\"id\":\"5f294c65-9dcf-4aab-bb55-a43c7e3431bc\",\"subtype\":\"Figure\",\"type\":\"Plot\"},{\"id\":\"46ce41e1-9d08-4ab6-9ecd-7265a5a960c5\",\"subtype\":\"Figure\",\"type\":\"Plot\"}]},\"id\":\"d6e9c311-d43f-438e-b693-006df887fdca\",\"type\":\"Row\"},{\"attributes\":{},\"id\":\"a8b4dc95-5c7c-48ed-8551-803cf406fea8\",\"type\":\"Selection\"},{\"attributes\":{\"callback\":null,\"data\":{\"x\":{\"__ndarray__\":\"R/KIaN7AVEClCeJMyPNGQOvRhpxr30JAptxzhxx4PkA7SssMElA4QK6Bp3CyUDNAsVXpjES9LkBFhUV0+5coQMHYwqbbySNA6f09nM3nH0CaSd/3eYoZQDmgiAOW8BNAPYqARh3eDEBkm4vCgvr+P9D+5tWhQfY/P8DwKRnSAkBq38kb17ILQDT7IWuSsxFAUr2Rjm0FFkAinq3s9XgbQGCHwtYcqSFAG64kT303J0C7dRDneyooQD9JYrbK8yRA9S3bneHhIUAIymSuUMMcQIkHLe6VEBdAAau3cITREkA6CiNvkQIPQJU39ki7IQlAaAvwok1UA0BXLQiS4+L7P0xzDpJ2hPI/NNuPGMbJ5z91mUVYxqfSPxqwUPSxZca/G11peifD3L8QzNj5t2jTvwzOozTL360/SPJ4VI1VzD9KJ0nXEIncP8yDdlvHt+4/Et49nYLW9z++2teD4Jn+P+568eH/bwFALf5D9lmAAkCiZAicVOkCQPPT4jNKxwJAOjp3wTzBAUBSQsKNGisBQG4OmjqJwQBAJ3sZoHFuAEA5Ar0Sdi0AQGy4rw5+9f8/7W4nSrC3/z8mPr8zj4T/P4UYRHCQS/8/embVKYcF/z+5YXG+LLP+P/qb8BVUgf4/KvafTtyO/j/avAK1Ppv+PwJV9VVm2P0/JFtYlU/n/D9sN+q2fiX6Pw44e41PNPc/Opt+Z/wN9T+x3vcSW1vzP9ofvWQJlvI/8sciQQBW8j80sfkQa17yPzg5qng2r/I/Oh14WJBh8z+VZjnpctj0P6CcrSuCqQBA\",\"dtype\":\"float64\",\"shape\":[75]},\"y\":{\"__ndarray__\":\"GhExyth1ND/Sv8nbtpRIP2vylNV0PVE/aTum7souWD/At0SJ8fVgPw3Iuahxymc/MSNhhJWvcD/bTfBN02d3P2zb5nxnaoA/CD5h5MAGhz8NmeH1TyaQP+zrCsc9p5Y/LbKd76fGnz/bLW5ISEmmPww9YvTcQq8/JV2OstnstT8Er5Y7M8G+P0c+r3jqkcU/5h99k6ZBzj88bCIzFzjVP4enV8oyxN0//yH99nXg5D8qOpLLf0jtP5kqGJXUifQ/c9cS8kHP/D+/DpwzojQEQIEmwoanVwxA4lgXt9HgE0BSSZ2AJuIbQAMJih9jjiNA5q4l5INuK0AwTKYKRj0zQNv5fmq8/DpAaCJseHrtQkB/+zpwzoxKQM3MzMzMeFJAZmZmZmZqWEAAAAAAAFxeQM3MzMzMJmJAmpmZmZkfZUBmZmZmZhhoQDMzMzMzEWtAAAAAAAAKbkBmZmZmZoFwQM3MzMzM/XFAMzMzMzN6c0CamZmZmfZ0QAAAAAAAc3ZAZmZmZmbvd0DNzMzMzGt5QDMzMzMz6HpAmpmZmZlkfEAAAAAAAOF9QGZmZmZmXX9AZmZmZuZsgECamZmZGSuBQM3MzMxM6YFAAAAAAICngkAzMzMzs2WDQGZmZmbmI4RAmpmZmRnihEDNzMzMTKCFQAAAAACAXoZAMzMzM7Mch0BmZmZm5tqHQJqZmZkZmYhAzczMzExXiUAAAAAAgBWKQDMzMzOz04pAZmZmZuaRi0CamZmZGVCMQM3MzMxMDo1AAAAAAIDMjUAzMzMzs4qOQGZmZmbmSI9A\",\"dtype\":\"float64\",\"shape\":[75]}},\"selected\":{\"id\":\"a8b4dc95-5c7c-48ed-8551-803cf406fea8\",\"type\":\"Selection\"},\"selection_policy\":{\"id\":\"573f22f9-5b9f-4404-99a7-ee08ca889965\",\"type\":\"UnionRenderers\"}},\"id\":\"51ffeb9f-a155-4a84-a2db-3916671d889e\",\"type\":\"ColumnDataSource\"},{\"attributes\":{\"plot\":null,\"text\":\"\"},\"id\":\"8911cfd1-4c05-422f-b952-3ee216853d17\",\"type\":\"Title\"},{\"attributes\":{\"fill_alpha\":{\"value\":0.7},\"fill_color\":{\"value\":\"#4daf4a\"},\"line_alpha\":{\"value\":0.7},\"line_color\":{\"value\":\"#4daf4a\"},\"x\":{\"field\":\"x\"},\"y\":{\"field\":\"y\"}},\"id\":\"906569d2-26df-474a-b0c4-bdc341058f31\",\"type\":\"Circle\"},{\"attributes\":{},\"id\":\"666203cf-0248-4227-8c06-d31b5a538c1f\",\"type\":\"Selection\"},{\"attributes\":{},\"id\":\"33eb0a66-2986-4620-b92f-09278ef383f6\",\"type\":\"BasicTickFormatter\"},{\"attributes\":{\"children\":[{\"id\":\"d6e9c311-d43f-438e-b693-006df887fdca\",\"type\":\"Row\"}]},\"id\":\"b46f0fef-f3de-4411-ad03-59ee1746878f\",\"type\":\"Column\"},{\"attributes\":{\"callback\":null,\"data\":{\"x\":{\"__ndarray__\":\"R/KIaN7AVEClCeJMyPNGQOvRhpxr30JAptxzhxx4PkA7SssMElA4QK6Bp3CyUDNAsVXpjES9LkBFhUV0+5coQMHYwqbbySNA6f09nM3nH0CaSd/3eYoZQDmgiAOW8BNAPYqARh3eDEBkm4vCgvr+P9D+5tWhQfY/P8DwKRnSAkBq38kb17ILQDT7IWuSsxFAUr2Rjm0FFkAinq3s9XgbQGCHwtYcqSFAG64kT303J0C7dRDneyooQD9JYrbK8yRA9S3bneHhIUAIymSuUMMcQIkHLe6VEBdAAau3cITREkA6CiNvkQIPQJU39ki7IQlAaAvwok1UA0BXLQiS4+L7P0xzDpJ2hPI/NNuPGMbJ5z91mUVYxqfSPxqwUPSxZca/G11peifD3L8QzNj5t2jTvwzOozTL360/SPJ4VI1VzD9KJ0nXEIncP8yDdlvHt+4/Et49nYLW9z++2teD4Jn+P+568eH/bwFALf5D9lmAAkCiZAicVOkCQPPT4jNKxwJAOjp3wTzBAUBSQsKNGisBQG4OmjqJwQBAJ3sZoHFuAEA5Ar0Sdi0AQGy4rw5+9f8/7W4nSrC3/z8mPr8zj4T/P4UYRHCQS/8/embVKYcF/z+5YXG+LLP+P/qb8BVUgf4/KvafTtyO/j/avAK1Ppv+PwJV9VVm2P0/JFtYlU/n/D9sN+q2fiX6Pw44e41PNPc/Opt+Z/wN9T+x3vcSW1vzP9ofvWQJlvI/8sciQQBW8j80sfkQa17yPzg5qng2r/I/Oh14WJBh8z+VZjnpctj0P6CcrSuCqQBA\",\"dtype\":\"float64\",\"shape\":[75]},\"y\":{\"__ndarray__\":\"GhExyth1ND/Sv8nbtpRIP2vylNV0PVE/aTum7souWD/At0SJ8fVgPw3Iuahxymc/MSNhhJWvcD/bTfBN02d3P2zb5nxnaoA/CD5h5MAGhz8NmeH1TyaQP+zrCsc9p5Y/LbKd76fGnz/bLW5ISEmmPww9YvTcQq8/JV2OstnstT8Er5Y7M8G+P0c+r3jqkcU/5h99k6ZBzj88bCIzFzjVP4enV8oyxN0//yH99nXg5D8qOpLLf0jtP5kqGJXUifQ/c9cS8kHP/D+/DpwzojQEQIEmwoanVwxA4lgXt9HgE0BSSZ2AJuIbQAMJih9jjiNA5q4l5INuK0AwTKYKRj0zQNv5fmq8/DpAaCJseHrtQkB/+zpwzoxKQM3MzMzMeFJAZmZmZmZqWEAAAAAAAFxeQM3MzMzMJmJAmpmZmZkfZUBmZmZmZhhoQDMzMzMzEWtAAAAAAAAKbkBmZmZmZoFwQM3MzMzM/XFAMzMzMzN6c0CamZmZmfZ0QAAAAAAAc3ZAZmZmZmbvd0DNzMzMzGt5QDMzMzMz6HpAmpmZmZlkfEAAAAAAAOF9QGZmZmZmXX9AZmZmZuZsgECamZmZGSuBQM3MzMxM6YFAAAAAAICngkAzMzMzs2WDQGZmZmbmI4RAmpmZmRnihEDNzMzMTKCFQAAAAACAXoZAMzMzM7Mch0BmZmZm5tqHQJqZmZkZmYhAzczMzExXiUAAAAAAgBWKQDMzMzOz04pAZmZmZuaRi0CamZmZGVCMQM3MzMxMDo1AAAAAAIDMjUAzMzMzs4qOQGZmZmbmSI9A\",\"dtype\":\"float64\",\"shape\":[75]}},\"selected\":{\"id\":\"51853c4e-c43a-4a6a-a9b7-49583479c2b8\",\"type\":\"Selection\"},\"selection_policy\":{\"id\":\"afc5b626-091e-41f4-bc0b-f1d8cec7bc94\",\"type\":\"UnionRenderers\"}},\"id\":\"a4f6c167-24dc-4fa3-a1be-17126cbbf1eb\",\"type\":\"ColumnDataSource\"},{\"attributes\":{},\"id\":\"00f1f391-f91a-4619-b909-391734c68faa\",\"type\":\"UnionRenderers\"},{\"attributes\":{\"line_alpha\":0.1,\"line_color\":\"#1f77b4\",\"line_dash\":[6],\"line_width\":5,\"x\":{\"field\":\"x\"},\"y\":{\"field\":\"y\"}},\"id\":\"69afaafc-3d44-4137-8047-afa6c449d543\",\"type\":\"Line\"},{\"attributes\":{\"tools\":[{\"id\":\"a67d698c-6f83-40b5-bc8a-c43f53a47513\",\"type\":\"PanTool\"},{\"id\":\"5f0445a0-e81c-4cb8-b532-4bccc1af9719\",\"type\":\"WheelZoomTool\"},{\"id\":\"8dc935ae-760a-47f3-923c-9e1f616f2614\",\"type\":\"BoxZoomTool\"},{\"id\":\"2657dda0-8066-4984-8f60-afdc8ac28646\",\"type\":\"SaveTool\"},{\"id\":\"56e60761-1222-4e1b-b4cb-41e8a4e82ee9\",\"type\":\"ResetTool\"},{\"id\":\"8d4f64c8-720c-4880-bbc7-9afdbbd74c61\",\"type\":\"HelpTool\"},{\"id\":\"ba66ede2-9062-4eaa-99d5-f887b4fda0cd\",\"type\":\"PanTool\"},{\"id\":\"59a316cd-ead0-4870-b1a9-9d4a14f5f067\",\"type\":\"WheelZoomTool\"},{\"id\":\"4fb22e2f-daf6-4f9b-9cbc-36bbb38a3e8f\",\"type\":\"BoxZoomTool\"},{\"id\":\"f985f1e0-f318-4da3-91ca-832d20058aae\",\"type\":\"SaveTool\"},{\"id\":\"f4697712-7f6f-4219-9845-be5fc7a49381\",\"type\":\"ResetTool\"},{\"id\":\"5dd9f383-68e9-4212-a213-853863ab546b\",\"type\":\"HelpTool\"},{\"id\":\"f1f60729-5da9-47c2-a3b5-81f595369481\",\"type\":\"PanTool\"},{\"id\":\"d3799f4e-b257-410b-8843-22d044d91c55\",\"type\":\"WheelZoomTool\"},{\"id\":\"57b6c290-5e84-488f-b341-011e94df3bdd\",\"type\":\"BoxZoomTool\"},{\"id\":\"aed9c725-2331-4510-b83a-80aea05ede4e\",\"type\":\"SaveTool\"},{\"id\":\"f0493eeb-de9c-4585-a8f0-5f96040c2055\",\"type\":\"ResetTool\"},{\"id\":\"6c5ef543-00ae-46fe-b6b2-7aacccc1151a\",\"type\":\"HelpTool\"}]},\"id\":\"06923ca1-2b24-49ad-a7a6-e5a31e3e2c16\",\"type\":\"ProxyToolbar\"},{\"attributes\":{},\"id\":\"3afe5e13-afa4-43e8-a416-16621e545f5a\",\"type\":\"Selection\"},{\"attributes\":{},\"id\":\"a2ba98ef-7d1b-4339-b56b-105025df7c08\",\"type\":\"UnionRenderers\"},{\"attributes\":{\"data_source\":{\"id\":\"5c5221fb-1de8-4139-91db-490c791f1d35\",\"type\":\"ColumnDataSource\"},\"glyph\":{\"id\":\"3f83eb55-b9aa-4ca0-bb0b-0231fd6c06a9\",\"type\":\"Line\"},\"hover_glyph\":null,\"muted_glyph\":null,\"nonselection_glyph\":{\"id\":\"69afaafc-3d44-4137-8047-afa6c449d543\",\"type\":\"Line\"},\"selection_glyph\":null,\"view\":{\"id\":\"254a4894-e8a3-4d55-9e2b-f93db684b357\",\"type\":\"CDSView\"}},\"id\":\"a53f16de-e7d3-4e1a-8fbd-3b25d44b83f6\",\"type\":\"GlyphRenderer\"},{\"attributes\":{},\"id\":\"3737ac32-6975-483d-ada5-4c8d91c74171\",\"type\":\"Selection\"},{\"attributes\":{\"fill_alpha\":{\"value\":0.1},\"fill_color\":{\"value\":\"#1f77b4\"},\"line_alpha\":{\"value\":0.1},\"line_color\":{\"value\":\"#1f77b4\"},\"x\":{\"field\":\"x\"},\"y\":{\"field\":\"y\"}},\"id\":\"49e832cd-dbbf-43fd-83b6-57354bec58c6\",\"type\":\"Circle\"},{\"attributes\":{\"above\":[{\"id\":\"bddd249f-4977-42a8-a402-2eb1d742209a\",\"type\":\"Legend\"}],\"below\":[{\"id\":\"fee5f6ef-bf4b-4926-b179-805d1a3d89b1\",\"type\":\"LinearAxis\"}],\"left\":[{\"id\":\"97024d3b-0912-478f-8790-872fbd0c2376\",\"type\":\"LogAxis\"}],\"plot_width\":300,\"renderers\":[{\"id\":\"fee5f6ef-bf4b-4926-b179-805d1a3d89b1\",\"type\":\"LinearAxis\"},{\"id\":\"634ed103-a281-4e68-b424-7cebac01db6b\",\"type\":\"Grid\"},{\"id\":\"97024d3b-0912-478f-8790-872fbd0c2376\",\"type\":\"LogAxis\"},{\"id\":\"4934ecaf-2af9-4a77-b740-08ecd83c04cc\",\"type\":\"Grid\"},{\"id\":\"81a58452-f249-44f8-8806-a458f2eb5c2e\",\"type\":\"BoxAnnotation\"},{\"id\":\"f0948385-9f04-44d0-861b-4126fceedba5\",\"type\":\"GlyphRenderer\"},{\"id\":\"10bbf0d5-1483-4ea9-affc-3ae3bc8bd716\",\"type\":\"GlyphRenderer\"},{\"id\":\"bddd249f-4977-42a8-a402-2eb1d742209a\",\"type\":\"Legend\"}],\"title\":{\"id\":\"8911cfd1-4c05-422f-b952-3ee216853d17\",\"type\":\"Title\"},\"toolbar\":{\"id\":\"eed63af8-25c5-4bd7-9eb0-281f24152211\",\"type\":\"Toolbar\"},\"toolbar_location\":null,\"x_range\":{\"id\":\"6bbcbcf5-0064-4d48-9453-e3618cc0bf4e\",\"type\":\"Range1d\"},\"x_scale\":{\"id\":\"249ad410-1e3d-4112-a73a-9d1b4abfb1af\",\"type\":\"LinearScale\"},\"y_range\":{\"id\":\"6e7cd5a4-574b-4d6a-93a1-b6a2d1093526\",\"type\":\"Range1d\"},\"y_scale\":{\"id\":\"8ebb6ac7-327b-4bf0-b66e-5e2fb5e6e1b3\",\"type\":\"LogScale\"}},\"id\":\"46ce41e1-9d08-4ab6-9ecd-7265a5a960c5\",\"subtype\":\"Figure\",\"type\":\"Plot\"},{\"attributes\":{},\"id\":\"0b5b5807-3245-4075-9f66-f9f8f8584df9\",\"type\":\"LinearScale\"},{\"attributes\":{\"plot\":{\"id\":\"143b15cd-dd62-4806-b495-fe3f76773ceb\",\"subtype\":\"Figure\",\"type\":\"Plot\"},\"ticker\":{\"id\":\"be28d2b5-150f-4635-b477-9fd00980343d\",\"type\":\"BasicTicker\"}},\"id\":\"beeb7e15-7d82-40e7-a8e0-0dd7778b6d87\",\"type\":\"Grid\"},{\"attributes\":{\"dimension\":1,\"plot\":{\"id\":\"143b15cd-dd62-4806-b495-fe3f76773ceb\",\"subtype\":\"Figure\",\"type\":\"Plot\"},\"ticker\":{\"id\":\"68c2a0b5-7660-4269-870c-6f003daba211\",\"type\":\"BasicTicker\"}},\"id\":\"88732fa4-7172-45af-a048-a5c030bf074f\",\"type\":\"Grid\"},{\"attributes\":{},\"id\":\"f0493eeb-de9c-4585-a8f0-5f96040c2055\",\"type\":\"ResetTool\"},{\"attributes\":{\"above\":[{\"id\":\"252b5b0d-2d97-4182-a689-4f260ee2658f\",\"type\":\"Legend\"}],\"below\":[{\"id\":\"2b80778c-6905-4651-b2cd-9b4c88dbbfbf\",\"type\":\"LinearAxis\"}],\"left\":[{\"id\":\"85000b77-849c-46d3-9fe7-1e40d58d421b\",\"type\":\"LinearAxis\"}],\"plot_width\":300,\"renderers\":[{\"id\":\"2b80778c-6905-4651-b2cd-9b4c88dbbfbf\",\"type\":\"LinearAxis\"},{\"id\":\"beeb7e15-7d82-40e7-a8e0-0dd7778b6d87\",\"type\":\"Grid\"},{\"id\":\"85000b77-849c-46d3-9fe7-1e40d58d421b\",\"type\":\"LinearAxis\"},{\"id\":\"88732fa4-7172-45af-a048-a5c030bf074f\",\"type\":\"Grid\"},{\"id\":\"a3501abf-75ff-4b5b-95cb-3bfae96119cc\",\"type\":\"BoxAnnotation\"},{\"id\":\"a53f16de-e7d3-4e1a-8fbd-3b25d44b83f6\",\"type\":\"GlyphRenderer\"},{\"id\":\"d9ed9ef6-3188-47c1-be73-5fd5a3ad7f98\",\"type\":\"GlyphRenderer\"},{\"id\":\"783fd496-639e-4d54-96e7-206868cc5ff5\",\"type\":\"GlyphRenderer\"},{\"id\":\"252b5b0d-2d97-4182-a689-4f260ee2658f\",\"type\":\"Legend\"}],\"title\":{\"id\":\"17343932-f853-4311-985b-c400a9ee61f2\",\"type\":\"Title\"},\"toolbar\":{\"id\":\"c329de01-10a6-4b96-959d-bc7df5c6e2bc\",\"type\":\"Toolbar\"},\"toolbar_location\":null,\"x_range\":{\"id\":\"faabd61b-0c58-4709-95de-d367e1e8ae6f\",\"type\":\"Range1d\"},\"x_scale\":{\"id\":\"0b5b5807-3245-4075-9f66-f9f8f8584df9\",\"type\":\"LinearScale\"},\"y_range\":{\"id\":\"48588c10-8a84-4bbb-80b0-0beb62f8312f\",\"type\":\"Range1d\"},\"y_scale\":{\"id\":\"3a7691ac-b900-4799-a4b0-af0f41581b39\",\"type\":\"LinearScale\"}},\"id\":\"143b15cd-dd62-4806-b495-fe3f76773ceb\",\"subtype\":\"Figure\",\"type\":\"Plot\"},{\"attributes\":{\"axis_label\":\"pressure [mb]\",\"formatter\":{\"id\":\"ec9430f9-e021-4603-a573-23ce93464a45\",\"type\":\"LogTickFormatter\"},\"plot\":{\"id\":\"46ce41e1-9d08-4ab6-9ecd-7265a5a960c5\",\"subtype\":\"Figure\",\"type\":\"Plot\"},\"ticker\":{\"id\":\"6cbb889f-5180-41c7-b75d-2be9b4cd98eb\",\"type\":\"LogTicker\"}},\"id\":\"97024d3b-0912-478f-8790-872fbd0c2376\",\"type\":\"LogAxis\"},{\"attributes\":{},\"id\":\"56e60761-1222-4e1b-b4cb-41e8a4e82ee9\",\"type\":\"ResetTool\"},{\"attributes\":{},\"id\":\"be28d2b5-150f-4635-b477-9fd00980343d\",\"type\":\"BasicTicker\"},{\"attributes\":{\"line_alpha\":0.1,\"line_color\":\"#1f77b4\",\"line_width\":1.5,\"x\":{\"field\":\"x\"},\"y\":{\"field\":\"y\"}},\"id\":\"dcc1484c-141b-4dee-b6bd-50b9fab17b2a\",\"type\":\"Line\"},{\"attributes\":{},\"id\":\"396600c6-43a4-4483-affc-4e1c12c1178b\",\"type\":\"BasicTicker\"},{\"attributes\":{\"line_color\":\"#4daf4a\",\"line_width\":1.5,\"x\":{\"field\":\"x\"},\"y\":{\"field\":\"y\"}},\"id\":\"3afd91c9-9a4e-42d0-9537-9fb19b6f1cc4\",\"type\":\"Line\"},{\"attributes\":{\"num_minor_ticks\":10},\"id\":\"f6aa44d0-2358-4044-a277-5b58840e02c0\",\"type\":\"LogTicker\"},{\"attributes\":{\"callback\":null,\"data\":{\"x\":{\"__ndarray__\":\"Yxlqbm+ERUCfEHbdZtJCQHMp8yq2s0FAAJUFUIwcQEBJWyN61BQ8QJUnkfZfKTdAynQADuznMUDY1C1RfQIqQF3YXqIbRiJA89FWWK6YGkCGqR9viDYVQBR8d6GIARJA3zAo7q6LDUAswFtGCCgDQBo0+2gB2P4/S+06XyykBUBl5ikk4zwMQCyrDuoNmhBAxaq5FELcE0B09O0mtU0ZQDMF214MDCFAnq0rDeACJ0BCCf4xEBooQAGFwUQOhSRASDnRvZcnIUBM/s1f41UcQCWnH2HLVxhAegnX3D8qFEBLXtIp9sEPQLUeTUhrNQlAFLFY31E0BUAnVwVmnXEAQOuPf2i5n/Q/p4a52Y/l5T8Xr2YEZ67QP2MhQ5r7M8K/vLDjY47q3r91uF7PG3jYv4B7icnEOny/S5Jn6G29xD/APJIujWbYP+ynlBH2mew/aYU8Vnar9j8ZaMSyfMn9P3fGNuHJ5QBAhbttfVV/AUA+6nuKrUICQGjMNoSiSAJA5Mhh5UETAUBdyD6ffH4AQATwovE8TQBAJqtUX8UtAEAyDlG6ngMAQPZKXdGtnP8/rpZHOJ5A/z/YCvt2yQn/P33WnBheEf8/P13dsdhG/z/YzPFvb2n/P+ujAhA/a/8/0qXq5C1T/z9UIjCm/gH/Pyo+3feq4P0/FOVMv7bR/D9zgoJ+ojf6P3phNLx/o/c/d+jobh/19T8BOwIy14X0P/W7B9Byy/M/Ab4e/mic8z/CJQkDxLXzPzisearUF/Q/IZsGMusJ9T8UytzivMD2PynoXnY7qgFA\",\"dtype\":\"float64\",\"shape\":[75]},\"y\":{\"__ndarray__\":\"GhExyth1ND/Sv8nbtpRIP2vylNV0PVE/aTum7souWD/At0SJ8fVgPw3Iuahxymc/MSNhhJWvcD/bTfBN02d3P2zb5nxnaoA/CD5h5MAGhz8NmeH1TyaQP+zrCsc9p5Y/LbKd76fGnz/bLW5ISEmmPww9YvTcQq8/JV2OstnstT8Er5Y7M8G+P0c+r3jqkcU/5h99k6ZBzj88bCIzFzjVP4enV8oyxN0//yH99nXg5D8qOpLLf0jtP5kqGJXUifQ/c9cS8kHP/D+/DpwzojQEQIEmwoanVwxA4lgXt9HgE0BSSZ2AJuIbQAMJih9jjiNA5q4l5INuK0AwTKYKRj0zQNv5fmq8/DpAaCJseHrtQkB/+zpwzoxKQM3MzMzMeFJAZmZmZmZqWEAAAAAAAFxeQM3MzMzMJmJAmpmZmZkfZUBmZmZmZhhoQDMzMzMzEWtAAAAAAAAKbkBmZmZmZoFwQM3MzMzM/XFAMzMzMzN6c0CamZmZmfZ0QAAAAAAAc3ZAZmZmZmbvd0DNzMzMzGt5QDMzMzMz6HpAmpmZmZlkfEAAAAAAAOF9QGZmZmZmXX9AZmZmZuZsgECamZmZGSuBQM3MzMxM6YFAAAAAAICngkAzMzMzs2WDQGZmZmbmI4RAmpmZmRnihEDNzMzMTKCFQAAAAACAXoZAMzMzM7Mch0BmZmZm5tqHQJqZmZkZmYhAzczMzExXiUAAAAAAgBWKQDMzMzOz04pAZmZmZuaRi0CamZmZGVCMQM3MzMxMDo1AAAAAAIDMjUAzMzMzs4qOQGZmZmbmSI9A\",\"dtype\":\"float64\",\"shape\":[75]}},\"selected\":{\"id\":\"9baf7ce5-7105-4780-865e-f69dc125319f\",\"type\":\"Selection\"},\"selection_policy\":{\"id\":\"103f3a05-38cb-4a57-8d8b-dc4b5c286c2a\",\"type\":\"UnionRenderers\"}},\"id\":\"7853ccb3-4c63-4b5d-ba16-29b77e9eab74\",\"type\":\"ColumnDataSource\"},{\"attributes\":{\"callback\":null,\"end\":2.3924008819310005,\"start\":-0.511536145891},\"id\":\"faabd61b-0c58-4709-95de-d367e1e8ae6f\",\"type\":\"Range1d\"},{\"attributes\":{},\"id\":\"f985f1e0-f318-4da3-91ca-832d20058aae\",\"type\":\"SaveTool\"},{\"attributes\":{\"callback\":null,\"data\":{\"x\":{\"__ndarray__\":\"Yxlqbm+ERUCfEHbdZtJCQHMp8yq2s0FAAJUFUIwcQEBJWyN61BQ8QJUnkfZfKTdAynQADuznMUDY1C1RfQIqQF3YXqIbRiJA89FWWK6YGkCGqR9viDYVQBR8d6GIARJA3zAo7q6LDUAswFtGCCgDQBo0+2gB2P4/S+06XyykBUBl5ikk4zwMQCyrDuoNmhBAxaq5FELcE0B09O0mtU0ZQDMF214MDCFAnq0rDeACJ0BCCf4xEBooQAGFwUQOhSRASDnRvZcnIUBM/s1f41UcQCWnH2HLVxhAegnX3D8qFEBLXtIp9sEPQLUeTUhrNQlAFLFY31E0BUAnVwVmnXEAQOuPf2i5n/Q/p4a52Y/l5T8Xr2YEZ67QP2MhQ5r7M8K/vLDjY47q3r91uF7PG3jYv4B7icnEOny/S5Jn6G29xD/APJIujWbYP+ynlBH2mew/aYU8Vnar9j8ZaMSyfMn9P3fGNuHJ5QBAhbttfVV/AUA+6nuKrUICQGjMNoSiSAJA5Mhh5UETAUBdyD6ffH4AQATwovE8TQBAJqtUX8UtAEAyDlG6ngMAQPZKXdGtnP8/rpZHOJ5A/z/YCvt2yQn/P33WnBheEf8/P13dsdhG/z/YzPFvb2n/P+ujAhA/a/8/0qXq5C1T/z9UIjCm/gH/Pyo+3feq4P0/FOVMv7bR/D9zgoJ+ojf6P3phNLx/o/c/d+jobh/19T8BOwIy14X0P/W7B9Byy/M/Ab4e/mic8z/CJQkDxLXzPzisearUF/Q/IZsGMusJ9T8UytzivMD2PynoXnY7qgFA\",\"dtype\":\"float64\",\"shape\":[75]},\"y\":{\"__ndarray__\":\"GhExyth1ND/Sv8nbtpRIP2vylNV0PVE/aTum7souWD/At0SJ8fVgPw3Iuahxymc/MSNhhJWvcD/bTfBN02d3P2zb5nxnaoA/CD5h5MAGhz8NmeH1TyaQP+zrCsc9p5Y/LbKd76fGnz/bLW5ISEmmPww9YvTcQq8/JV2OstnstT8Er5Y7M8G+P0c+r3jqkcU/5h99k6ZBzj88bCIzFzjVP4enV8oyxN0//yH99nXg5D8qOpLLf0jtP5kqGJXUifQ/c9cS8kHP/D+/DpwzojQEQIEmwoanVwxA4lgXt9HgE0BSSZ2AJuIbQAMJih9jjiNA5q4l5INuK0AwTKYKRj0zQNv5fmq8/DpAaCJseHrtQkB/+zpwzoxKQM3MzMzMeFJAZmZmZmZqWEAAAAAAAFxeQM3MzMzMJmJAmpmZmZkfZUBmZmZmZhhoQDMzMzMzEWtAAAAAAAAKbkBmZmZmZoFwQM3MzMzM/XFAMzMzMzN6c0CamZmZmfZ0QAAAAAAAc3ZAZmZmZmbvd0DNzMzMzGt5QDMzMzMz6HpAmpmZmZlkfEAAAAAAAOF9QGZmZmZmXX9AZmZmZuZsgECamZmZGSuBQM3MzMxM6YFAAAAAAICngkAzMzMzs2WDQGZmZmbmI4RAmpmZmRnihEDNzMzMTKCFQAAAAACAXoZAMzMzM7Mch0BmZmZm5tqHQJqZmZkZmYhAzczMzExXiUAAAAAAgBWKQDMzMzOz04pAZmZmZuaRi0CamZmZGVCMQM3MzMxMDo1AAAAAAIDMjUAzMzMzs4qOQGZmZmbmSI9A\",\"dtype\":\"float64\",\"shape\":[75]}},\"selected\":{\"id\":\"3afe5e13-afa4-43e8-a416-16621e545f5a\",\"type\":\"Selection\"},\"selection_policy\":{\"id\":\"00f1f391-f91a-4619-b909-391734c68faa\",\"type\":\"UnionRenderers\"}},\"id\":\"5c5221fb-1de8-4139-91db-490c791f1d35\",\"type\":\"ColumnDataSource\"},{\"attributes\":{},\"id\":\"59a316cd-ead0-4870-b1a9-9d4a14f5f067\",\"type\":\"WheelZoomTool\"},{\"attributes\":{\"axis_label\":\"pressure [mb]\",\"formatter\":{\"id\":\"f1cbbc9b-7ecf-45a3-8504-cba747084b05\",\"type\":\"BasicTickFormatter\"},\"plot\":{\"id\":\"143b15cd-dd62-4806-b495-fe3f76773ceb\",\"subtype\":\"Figure\",\"type\":\"Plot\"},\"ticker\":{\"id\":\"68c2a0b5-7660-4269-870c-6f003daba211\",\"type\":\"BasicTicker\"}},\"id\":\"85000b77-849c-46d3-9fe7-1e40d58d421b\",\"type\":\"LinearAxis\"},{\"attributes\":{},\"id\":\"8197c091-e5f0-4727-a6d0-19ac8aef34b8\",\"type\":\"LogScale\"},{\"attributes\":{},\"id\":\"a67d698c-6f83-40b5-bc8a-c43f53a47513\",\"type\":\"PanTool\"},{\"attributes\":{},\"id\":\"d3799f4e-b257-410b-8843-22d044d91c55\",\"type\":\"WheelZoomTool\"},{\"attributes\":{\"overlay\":{\"id\":\"a3501abf-75ff-4b5b-95cb-3bfae96119cc\",\"type\":\"BoxAnnotation\"}},\"id\":\"8dc935ae-760a-47f3-923c-9e1f616f2614\",\"type\":\"BoxZoomTool\"},{\"attributes\":{},\"id\":\"5dd9f383-68e9-4212-a213-853863ab546b\",\"type\":\"HelpTool\"},{\"attributes\":{\"bottom_units\":\"screen\",\"fill_alpha\":{\"value\":0.5},\"fill_color\":{\"value\":\"lightgrey\"},\"left_units\":\"screen\",\"level\":\"overlay\",\"line_alpha\":{\"value\":1.0},\"line_color\":{\"value\":\"black\"},\"line_dash\":[4,4],\"line_width\":{\"value\":2},\"plot\":null,\"render_mode\":\"css\",\"right_units\":\"screen\",\"top_units\":\"screen\"},\"id\":\"a3501abf-75ff-4b5b-95cb-3bfae96119cc\",\"type\":\"BoxAnnotation\"},{\"attributes\":{\"source\":{\"id\":\"a4f6c167-24dc-4fa3-a1be-17126cbbf1eb\",\"type\":\"ColumnDataSource\"}},\"id\":\"3d09d46d-d90f-4910-a7be-652a81bde41e\",\"type\":\"CDSView\"},{\"attributes\":{\"num_minor_ticks\":10},\"id\":\"6cbb889f-5180-41c7-b75d-2be9b4cd98eb\",\"type\":\"LogTicker\"},{\"attributes\":{\"bottom_units\":\"screen\",\"fill_alpha\":{\"value\":0.5},\"fill_color\":{\"value\":\"lightgrey\"},\"left_units\":\"screen\",\"level\":\"overlay\",\"line_alpha\":{\"value\":1.0},\"line_color\":{\"value\":\"black\"},\"line_dash\":[4,4],\"line_width\":{\"value\":2},\"plot\":null,\"render_mode\":\"css\",\"right_units\":\"screen\",\"top_units\":\"screen\"},\"id\":\"5bb491b7-08e8-426f-8cbc-f4051fa4cb11\",\"type\":\"BoxAnnotation\"},{\"attributes\":{\"callback\":null,\"end\":0.01,\"start\":1020},\"id\":\"48588c10-8a84-4bbb-80b0-0beb62f8312f\",\"type\":\"Range1d\"},{\"attributes\":{},\"id\":\"aed9c725-2331-4510-b83a-80aea05ede4e\",\"type\":\"SaveTool\"},{\"attributes\":{},\"id\":\"49b4fa54-73d9-4a09-913c-314c64d50b7b\",\"type\":\"LinearScale\"},{\"attributes\":{\"dimension\":1,\"plot\":{\"id\":\"46ce41e1-9d08-4ab6-9ecd-7265a5a960c5\",\"subtype\":\"Figure\",\"type\":\"Plot\"},\"ticker\":{\"id\":\"6cbb889f-5180-41c7-b75d-2be9b4cd98eb\",\"type\":\"LogTicker\"}},\"id\":\"4934ecaf-2af9-4a77-b740-08ecd83c04cc\",\"type\":\"Grid\"},{\"attributes\":{\"callback\":null,\"end\":0.01,\"start\":1020},\"id\":\"a5abc33e-38b1-416d-9dcf-116da622b5eb\",\"type\":\"Range1d\"},{\"attributes\":{},\"id\":\"5f0445a0-e81c-4cb8-b532-4bccc1af9719\",\"type\":\"WheelZoomTool\"},{\"attributes\":{\"label\":{\"value\":\"CLIRAD (single-run)\"},\"renderers\":[{\"id\":\"a53f16de-e7d3-4e1a-8fbd-3b25d44b83f6\",\"type\":\"GlyphRenderer\"}]},\"id\":\"01d6eeaa-e157-4588-8517-8ac88ac2bb39\",\"type\":\"LegendItem\"},{\"attributes\":{\"active_drag\":\"auto\",\"active_inspect\":\"auto\",\"active_scroll\":\"auto\",\"active_tap\":\"auto\",\"tools\":[{\"id\":\"ba66ede2-9062-4eaa-99d5-f887b4fda0cd\",\"type\":\"PanTool\"},{\"id\":\"59a316cd-ead0-4870-b1a9-9d4a14f5f067\",\"type\":\"WheelZoomTool\"},{\"id\":\"4fb22e2f-daf6-4f9b-9cbc-36bbb38a3e8f\",\"type\":\"BoxZoomTool\"},{\"id\":\"f985f1e0-f318-4da3-91ca-832d20058aae\",\"type\":\"SaveTool\"},{\"id\":\"f4697712-7f6f-4219-9845-be5fc7a49381\",\"type\":\"ResetTool\"},{\"id\":\"5dd9f383-68e9-4212-a213-853863ab546b\",\"type\":\"HelpTool\"}]},\"id\":\"11f4aadd-b0e9-4ffb-a58d-8daa4a0cef1c\",\"type\":\"Toolbar\"},{\"attributes\":{},\"id\":\"3a7691ac-b900-4799-a4b0-af0f41581b39\",\"type\":\"LinearScale\"},{\"attributes\":{\"label\":{\"value\":\"CRD\"},\"renderers\":[{\"id\":\"d9ed9ef6-3188-47c1-be73-5fd5a3ad7f98\",\"type\":\"GlyphRenderer\"},{\"id\":\"783fd496-639e-4d54-96e7-206868cc5ff5\",\"type\":\"GlyphRenderer\"}]},\"id\":\"55c9e14a-6fbf-4681-be17-ec12da96f682\",\"type\":\"LegendItem\"},{\"attributes\":{\"active_drag\":\"auto\",\"active_inspect\":\"auto\",\"active_scroll\":\"auto\",\"active_tap\":\"auto\",\"tools\":[{\"id\":\"a67d698c-6f83-40b5-bc8a-c43f53a47513\",\"type\":\"PanTool\"},{\"id\":\"5f0445a0-e81c-4cb8-b532-4bccc1af9719\",\"type\":\"WheelZoomTool\"},{\"id\":\"8dc935ae-760a-47f3-923c-9e1f616f2614\",\"type\":\"BoxZoomTool\"},{\"id\":\"2657dda0-8066-4984-8f60-afdc8ac28646\",\"type\":\"SaveTool\"},{\"id\":\"56e60761-1222-4e1b-b4cb-41e8a4e82ee9\",\"type\":\"ResetTool\"},{\"id\":\"8d4f64c8-720c-4880-bbc7-9afdbbd74c61\",\"type\":\"HelpTool\"}]},\"id\":\"c329de01-10a6-4b96-959d-bc7df5c6e2bc\",\"type\":\"Toolbar\"},{\"attributes\":{\"callback\":null,\"end\":12.208636979048098,\"start\":-0.6087266022981},\"id\":\"374bc53c-0229-4e57-8c7a-17303a351ffb\",\"type\":\"Range1d\"},{\"attributes\":{\"data_source\":{\"id\":\"51ffeb9f-a155-4a84-a2db-3916671d889e\",\"type\":\"ColumnDataSource\"},\"glyph\":{\"id\":\"3afd91c9-9a4e-42d0-9537-9fb19b6f1cc4\",\"type\":\"Line\"},\"hover_glyph\":null,\"muted_glyph\":null,\"nonselection_glyph\":{\"id\":\"dcc1484c-141b-4dee-b6bd-50b9fab17b2a\",\"type\":\"Line\"},\"selection_glyph\":null,\"view\":{\"id\":\"bd2c5c14-e3a5-4950-933f-d3eea936a916\",\"type\":\"CDSView\"}},\"id\":\"783fd496-639e-4d54-96e7-206868cc5ff5\",\"type\":\"GlyphRenderer\"},{\"attributes\":{},\"id\":\"ba66ede2-9062-4eaa-99d5-f887b4fda0cd\",\"type\":\"PanTool\"},{\"attributes\":{\"axis_label\":\"cooling rate [K/day]\",\"formatter\":{\"id\":\"5637262a-c933-4483-876f-e7646f0be450\",\"type\":\"BasicTickFormatter\"},\"plot\":{\"id\":\"143b15cd-dd62-4806-b495-fe3f76773ceb\",\"subtype\":\"Figure\",\"type\":\"Plot\"},\"ticker\":{\"id\":\"be28d2b5-150f-4635-b477-9fd00980343d\",\"type\":\"BasicTicker\"}},\"id\":\"2b80778c-6905-4651-b2cd-9b4c88dbbfbf\",\"type\":\"LinearAxis\"},{\"attributes\":{\"overlay\":{\"id\":\"81a58452-f249-44f8-8806-a458f2eb5c2e\",\"type\":\"BoxAnnotation\"}},\"id\":\"57b6c290-5e84-488f-b341-011e94df3bdd\",\"type\":\"BoxZoomTool\"},{\"attributes\":{\"line_alpha\":0.6,\"line_color\":\"#377eb8\",\"line_dash\":[6],\"line_width\":5,\"x\":{\"field\":\"x\"},\"y\":{\"field\":\"y\"}},\"id\":\"db97e379-3561-4582-9290-0deb029204e3\",\"type\":\"Line\"},{\"attributes\":{},\"id\":\"68c2a0b5-7660-4269-870c-6f003daba211\",\"type\":\"BasicTicker\"},{\"attributes\":{},\"id\":\"f4697712-7f6f-4219-9845-be5fc7a49381\",\"type\":\"ResetTool\"},{\"attributes\":{\"items\":[{\"id\":\"01d6eeaa-e157-4588-8517-8ac88ac2bb39\",\"type\":\"LegendItem\"},{\"id\":\"55c9e14a-6fbf-4681-be17-ec12da96f682\",\"type\":\"LegendItem\"}],\"label_text_font_size\":{\"value\":\"8pt\"},\"location\":\"top_center\",\"orientation\":\"horizontal\",\"plot\":{\"id\":\"143b15cd-dd62-4806-b495-fe3f76773ceb\",\"subtype\":\"Figure\",\"type\":\"Plot\"}},\"id\":\"252b5b0d-2d97-4182-a689-4f260ee2658f\",\"type\":\"Legend\"},{\"attributes\":{},\"id\":\"f1f60729-5da9-47c2-a3b5-81f595369481\",\"type\":\"PanTool\"},{\"attributes\":{\"plot\":{\"id\":\"5f294c65-9dcf-4aab-bb55-a43c7e3431bc\",\"subtype\":\"Figure\",\"type\":\"Plot\"},\"ticker\":{\"id\":\"396600c6-43a4-4483-affc-4e1c12c1178b\",\"type\":\"BasicTicker\"}},\"id\":\"2fbe9915-fa30-4363-8ce4-5a4b2be165bb\",\"type\":\"Grid\"},{\"attributes\":{\"axis_label\":\"pressure [mb]\",\"formatter\":{\"id\":\"a76a0b3a-9ae2-46e1-9f79-3adf8129754d\",\"type\":\"LogTickFormatter\"},\"plot\":{\"id\":\"5f294c65-9dcf-4aab-bb55-a43c7e3431bc\",\"subtype\":\"Figure\",\"type\":\"Plot\"},\"ticker\":{\"id\":\"f6aa44d0-2358-4044-a277-5b58840e02c0\",\"type\":\"LogTicker\"}},\"id\":\"ec0b15e9-a5d0-45c0-8172-59c5560cd707\",\"type\":\"LogAxis\"},{\"attributes\":{},\"id\":\"6c5ef543-00ae-46fe-b6b2-7aacccc1151a\",\"type\":\"HelpTool\"},{\"attributes\":{\"dimension\":1,\"plot\":{\"id\":\"5f294c65-9dcf-4aab-bb55-a43c7e3431bc\",\"subtype\":\"Figure\",\"type\":\"Plot\"},\"ticker\":{\"id\":\"f6aa44d0-2358-4044-a277-5b58840e02c0\",\"type\":\"LogTicker\"}},\"id\":\"c5cfca97-0249-42db-9318-172eb1c913b9\",\"type\":\"Grid\"},{\"attributes\":{},\"id\":\"8d4f64c8-720c-4880-bbc7-9afdbbd74c61\",\"type\":\"HelpTool\"},{\"attributes\":{\"source\":{\"id\":\"51ffeb9f-a155-4a84-a2db-3916671d889e\",\"type\":\"ColumnDataSource\"}},\"id\":\"bd2c5c14-e3a5-4950-933f-d3eea936a916\",\"type\":\"CDSView\"},{\"attributes\":{\"axis_label\":\"cooling rate [K/day]\",\"formatter\":{\"id\":\"205a1eb2-6aff-4497-aeee-08efe1e9a66e\",\"type\":\"BasicTickFormatter\"},\"plot\":{\"id\":\"5f294c65-9dcf-4aab-bb55-a43c7e3431bc\",\"subtype\":\"Figure\",\"type\":\"Plot\"},\"ticker\":{\"id\":\"396600c6-43a4-4483-affc-4e1c12c1178b\",\"type\":\"BasicTicker\"}},\"id\":\"bf184fd0-948b-4dab-8aef-f3aa94ebf970\",\"type\":\"LinearAxis\"},{\"attributes\":{\"items\":[{\"id\":\"fc54e1ca-d8eb-4e5e-a502-aaa1779a7847\",\"type\":\"LegendItem\"},{\"id\":\"e146b926-04ae-4b27-9f5f-62fe32e47116\",\"type\":\"LegendItem\"}],\"label_text_font_size\":{\"value\":\"8pt\"},\"location\":\"top_center\",\"orientation\":\"horizontal\",\"plot\":{\"id\":\"5f294c65-9dcf-4aab-bb55-a43c7e3431bc\",\"subtype\":\"Figure\",\"type\":\"Plot\"}},\"id\":\"81c89dab-89fb-434b-9bcb-842b9afb009e\",\"type\":\"Legend\"},{\"attributes\":{\"overlay\":{\"id\":\"5bb491b7-08e8-426f-8cbc-f4051fa4cb11\",\"type\":\"BoxAnnotation\"}},\"id\":\"4fb22e2f-daf6-4f9b-9cbc-36bbb38a3e8f\",\"type\":\"BoxZoomTool\"},{\"attributes\":{\"bottom_units\":\"screen\",\"fill_alpha\":{\"value\":0.5},\"fill_color\":{\"value\":\"lightgrey\"},\"left_units\":\"screen\",\"level\":\"overlay\",\"line_alpha\":{\"value\":1.0},\"line_color\":{\"value\":\"black\"},\"line_dash\":[4,4],\"line_width\":{\"value\":2},\"plot\":null,\"render_mode\":\"css\",\"right_units\":\"screen\",\"top_units\":\"screen\"},\"id\":\"81a58452-f249-44f8-8806-a458f2eb5c2e\",\"type\":\"BoxAnnotation\"},{\"attributes\":{},\"id\":\"2657dda0-8066-4984-8f60-afdc8ac28646\",\"type\":\"SaveTool\"},{\"attributes\":{\"data_source\":{\"id\":\"7853ccb3-4c63-4b5d-ba16-29b77e9eab74\",\"type\":\"ColumnDataSource\"},\"glyph\":{\"id\":\"db97e379-3561-4582-9290-0deb029204e3\",\"type\":\"Line\"},\"hover_glyph\":null,\"muted_glyph\":null,\"nonselection_glyph\":{\"id\":\"c79faba8-b9d2-4816-8a83-b0d167ab8484\",\"type\":\"Line\"},\"selection_glyph\":null,\"view\":{\"id\":\"9bccdfb0-f0b5-4f52-96cd-fe87c70e8b25\",\"type\":\"CDSView\"}},\"id\":\"f9911564-e9eb-46e1-828a-448cbe2b76cc\",\"type\":\"GlyphRenderer\"},{\"attributes\":{},\"id\":\"9baf7ce5-7105-4780-865e-f69dc125319f\",\"type\":\"Selection\"}],\"root_ids\":[\"a7d57c08-571c-4e85-b2f6-233f015e47e2\"]},\"title\":\"Bokeh Application\",\"version\":\"0.12.16\"}};\n",
       "  var render_items = [{\"docid\":\"4e22a16c-993b-4efc-a87b-d73967e1092f\",\"elementid\":\"8c564ddd-f5ed-4ebf-a7c4-0c7bfe6460ed\",\"modelid\":\"a7d57c08-571c-4e85-b2f6-233f015e47e2\"}];\n",
       "  root.Bokeh.embed.embed_items_notebook(docs_json, render_items);\n",
       "\n",
       "  }\n",
       "  if (root.Bokeh !== undefined) {\n",
       "    embed_document(root);\n",
       "  } else {\n",
       "    var attempts = 0;\n",
       "    var timer = setInterval(function(root) {\n",
       "      if (root.Bokeh !== undefined) {\n",
       "        embed_document(root);\n",
       "        clearInterval(timer);\n",
       "      }\n",
       "      attempts++;\n",
       "      if (attempts > 100) {\n",
       "        console.log(\"Bokeh: ERROR: Unable to run BokehJS code because BokehJS library is missing\")\n",
       "        clearInterval(timer);\n",
       "      }\n",
       "    }, 10, root)\n",
       "  }\n",
       "})(window);"
      ],
      "application/vnd.bokehjs_exec.v0+json": ""
     },
     "metadata": {
      "application/vnd.bokehjs_exec.v0+json": {
       "id": "a7d57c08-571c-4e85-b2f6-233f015e47e2"
      }
     },
     "output_type": "display_data"
    },
    {
     "data": {
      "text/markdown": [
       "*FIGURE.* Cooling rates & difference."
      ],
      "text/plain": [
       "<IPython.core.display.Markdown object>"
      ]
     },
     "metadata": {},
     "output_type": "display_data"
    },
    {
     "data": {
      "text/html": [
       "<a id=\"Fluxes._trp.\"></a>"
      ],
      "text/plain": [
       "<IPython.core.display.HTML object>"
      ]
     },
     "metadata": {},
     "output_type": "display_data"
    },
    {
     "data": {
      "text/markdown": [
       "# Fluxes. trp."
      ],
      "text/plain": [
       "<IPython.core.display.Markdown object>"
      ]
     },
     "metadata": {},
     "output_type": "display_data"
    },
    {
     "data": {
      "text/html": [
       "\n",
       "<div class=\"bk-root\">\n",
       "    <div class=\"bk-plotdiv\" id=\"dce943fe-e910-4ff6-9055-1f3f848f2def\"></div>\n",
       "</div>"
      ]
     },
     "metadata": {},
     "output_type": "display_data"
    },
    {
     "data": {
      "application/javascript": [
       "(function(root) {\n",
       "  function embed_document(root) {\n",
       "    \n",
       "  var docs_json = {\"ba2b4f63-3063-4f0f-8110-dd881e5f9ad2\":{\"roots\":{\"references\":[{\"attributes\":{\"data_source\":{\"id\":\"413a6ae3-3c14-46f7-a7c4-d2aba018d4cc\",\"type\":\"ColumnDataSource\"},\"glyph\":{\"id\":\"a08ba4f9-a70c-47ea-96f1-f9e7146f5d39\",\"type\":\"VBar\"},\"hover_glyph\":null,\"muted_glyph\":null,\"nonselection_glyph\":{\"id\":\"f4764b9a-316f-4938-ae3a-f14a82c3c25f\",\"type\":\"VBar\"},\"selection_glyph\":null,\"view\":{\"id\":\"5a904f7d-260c-42a4-9205-8e5b5cf60727\",\"type\":\"CDSView\"}},\"id\":\"a94b00ba-05eb-4e4b-aa2d-e749423a2751\",\"type\":\"GlyphRenderer\"},{\"attributes\":{\"source\":{\"id\":\"68d2bbd6-fa17-439c-a30f-a9d8558b577a\",\"type\":\"ColumnDataSource\"}},\"id\":\"77204d96-d612-4431-8e21-bf6f166534a8\",\"type\":\"CDSView\"},{\"attributes\":{},\"id\":\"ee4835bb-92fb-4743-ad2d-7149d0a152fd\",\"type\":\"CategoricalTickFormatter\"},{\"attributes\":{\"overlay\":{\"id\":\"150d7fe7-1479-4f5e-a058-2879c0a973dd\",\"type\":\"BoxAnnotation\"}},\"id\":\"eed9eaa2-9067-4d00-af27-edd3c830bf57\",\"type\":\"BoxZoomTool\"},{\"attributes\":{},\"id\":\"a3544a33-9eb1-425e-ba38-cc4c1021d82d\",\"type\":\"UnionRenderers\"},{\"attributes\":{},\"id\":\"2ce8adad-9cb5-4eb6-a78c-14f538eb323a\",\"type\":\"PanTool\"},{\"attributes\":{\"callback\":null,\"data\":{\"band\":[\"1\",\"2\",\"3\",\"4\",\"5\",\"6\",\"7\",\"8\",\"9\",\"10\",\"11\"],\"flux\":{\"__ndarray__\":\"AMHG9e/6yj8ARFVMpZ/UP8A1I4PcRdO/wKT4+ITs4T8A9+Y3TDTUPwDo9SfxuaO/gPm7d9SYzj+AUMHhBRHPPwAu4dBbPJw/4PGprSLtwT+A9UyK6gi9Pw==\",\"dtype\":\"float64\",\"shape\":[11]}},\"selected\":{\"id\":\"4b86dc62-1924-4433-ac15-ae93aed13c68\",\"type\":\"Selection\"},\"selection_policy\":{\"id\":\"a3544a33-9eb1-425e-ba38-cc4c1021d82d\",\"type\":\"UnionRenderers\"}},\"id\":\"68d2bbd6-fa17-439c-a30f-a9d8558b577a\",\"type\":\"ColumnDataSource\"},{\"attributes\":{\"fill_alpha\":{\"value\":0.1},\"fill_color\":{\"value\":\"#1f77b4\"},\"line_alpha\":{\"value\":0.1},\"line_color\":{\"value\":\"#1f77b4\"},\"top\":{\"field\":\"flux\"},\"width\":{\"value\":0.9},\"x\":{\"field\":\"band\"}},\"id\":\"d026e182-f50a-475f-abc4-88e4dc65b738\",\"type\":\"VBar\"},{\"attributes\":{},\"id\":\"572da30e-e809-42a7-b9dc-cbeae2f250d8\",\"type\":\"CategoricalTicker\"},{\"attributes\":{},\"id\":\"4b86dc62-1924-4433-ac15-ae93aed13c68\",\"type\":\"Selection\"},{\"attributes\":{},\"id\":\"002c5864-40e7-42a3-a194-ec0f2717404a\",\"type\":\"Selection\"},{\"attributes\":{\"callback\":null,\"data\":{\"band\":[\"1\",\"2\",\"3\",\"4\",\"5\",\"6\",\"7\",\"8\",\"9\",\"10\",\"11\"],\"flux\":{\"__ndarray__\":\"AID6S2L7yj8AhLZzzD+yPwC8gsh9Brm/ABW46Y0C4D8gA5fHmpHSvwDp7GRwlN+/gOE/3UCBxT8AVKwahLmdv0C4FKEiGNC/wG+hI6BfwD9Ab6jOWVWpPw==\",\"dtype\":\"float64\",\"shape\":[11]}},\"selected\":{\"id\":\"002c5864-40e7-42a3-a194-ec0f2717404a\",\"type\":\"Selection\"},\"selection_policy\":{\"id\":\"1bfac329-c295-41e9-bfd0-09f956c18600\",\"type\":\"UnionRenderers\"}},\"id\":\"413a6ae3-3c14-46f7-a7c4-d2aba018d4cc\",\"type\":\"ColumnDataSource\"},{\"attributes\":{\"plot\":{\"id\":\"da845a85-5857-4ad7-8963-04def9f8bc5d\",\"subtype\":\"Figure\",\"type\":\"Plot\"},\"ticker\":{\"id\":\"572da30e-e809-42a7-b9dc-cbeae2f250d8\",\"type\":\"CategoricalTicker\"}},\"id\":\"2d3193a9-86bc-45ea-a11a-e3706ff767b0\",\"type\":\"Grid\"},{\"attributes\":{\"plot\":null,\"text\":\"TOA flux. CLIRAD (single-run) - CRD.\"},\"id\":\"3ad5a1b3-4faa-4fc2-ad39-55e777df961b\",\"type\":\"Title\"},{\"attributes\":{\"dimension\":1,\"plot\":{\"id\":\"93ca31d6-0245-4aab-ade6-4614bb7d1ef1\",\"subtype\":\"Figure\",\"type\":\"Plot\"},\"ticker\":{\"id\":\"329de481-88fb-4c51-8e5e-c35490267122\",\"type\":\"BasicTicker\"}},\"id\":\"e74bf802-c1b8-436d-9f5e-b7fab403534f\",\"type\":\"Grid\"},{\"attributes\":{\"callback\":null,\"factors\":[\"1\",\"2\",\"3\",\"4\",\"5\",\"6\",\"7\",\"8\",\"9\",\"10\",\"11\"]},\"id\":\"5bb7f0a4-21a7-454f-82e3-c07873e5058b\",\"type\":\"FactorRange\"},{\"attributes\":{},\"id\":\"bf7b9d34-0eeb-488b-88b4-85a1e356293c\",\"type\":\"HelpTool\"},{\"attributes\":{\"fill_color\":{\"value\":\"#1f77b4\"},\"line_color\":{\"value\":\"#1f77b4\"},\"top\":{\"field\":\"flux\"},\"width\":{\"value\":0.9},\"x\":{\"field\":\"band\"}},\"id\":\"5c8a9cae-d4da-4c1e-a3fd-becf58fe0686\",\"type\":\"VBar\"},{\"attributes\":{},\"id\":\"d11125d1-fe64-4fa0-9b44-c0fdf4a18b2a\",\"type\":\"CategoricalTickFormatter\"},{\"attributes\":{\"active_drag\":\"auto\",\"active_inspect\":\"auto\",\"active_scroll\":\"auto\",\"active_tap\":\"auto\",\"tools\":[{\"id\":\"2ce8adad-9cb5-4eb6-a78c-14f538eb323a\",\"type\":\"PanTool\"},{\"id\":\"06188d53-f634-43e6-abfb-64c2377935e0\",\"type\":\"WheelZoomTool\"},{\"id\":\"7db0e5b7-14f6-44c5-9676-e4d1e4554877\",\"type\":\"BoxZoomTool\"},{\"id\":\"55feeef8-1023-48c1-948d-421f8f08a080\",\"type\":\"SaveTool\"},{\"id\":\"5b4e7467-ede6-448f-aedc-ac767b61a877\",\"type\":\"ResetTool\"},{\"id\":\"fe7c6474-3c82-42c0-86f0-b7d8c4db6bde\",\"type\":\"HelpTool\"}]},\"id\":\"7fef72ff-27bd-4008-bcca-7aface6a2dc3\",\"type\":\"Toolbar\"},{\"attributes\":{},\"id\":\"3cbefe3a-3833-4dc8-b09b-a71ac2bc6331\",\"type\":\"UnionRenderers\"},{\"attributes\":{},\"id\":\"55feeef8-1023-48c1-948d-421f8f08a080\",\"type\":\"SaveTool\"},{\"attributes\":{\"children\":[{\"id\":\"7c9ea3ca-e200-4915-9d5f-981c38dd965b\",\"type\":\"Row\"}]},\"id\":\"21b36d30-c27d-4ea6-b047-519efef432e3\",\"type\":\"Column\"},{\"attributes\":{\"plot\":null,\"text\":\"SFC flux. CLIRAD (single-run) - CRD.\"},\"id\":\"450dabfa-a776-4ecb-86ba-42c893476657\",\"type\":\"Title\"},{\"attributes\":{\"children\":[{\"id\":\"a6a72b58-443d-4022-9240-e933ae9735c6\",\"type\":\"ToolbarBox\"},{\"id\":\"21b36d30-c27d-4ea6-b047-519efef432e3\",\"type\":\"Column\"}]},\"id\":\"2b6d7069-4c0d-4ecd-9ec2-2d6414a081ff\",\"type\":\"Column\"},{\"attributes\":{\"bottom_units\":\"screen\",\"fill_alpha\":{\"value\":0.5},\"fill_color\":{\"value\":\"lightgrey\"},\"left_units\":\"screen\",\"level\":\"overlay\",\"line_alpha\":{\"value\":1.0},\"line_color\":{\"value\":\"black\"},\"line_dash\":[4,4],\"line_width\":{\"value\":2},\"plot\":null,\"render_mode\":\"css\",\"right_units\":\"screen\",\"top_units\":\"screen\"},\"id\":\"3a9124e3-5dbb-47a3-8819-1140b0ab6aef\",\"type\":\"BoxAnnotation\"},{\"attributes\":{},\"id\":\"bd24796c-8049-449f-8c29-aab3b2aaf107\",\"type\":\"BasicTicker\"},{\"attributes\":{\"toolbar\":{\"id\":\"5fe525e1-b7ed-4ff5-ae9e-14f8e7ada32e\",\"type\":\"ProxyToolbar\"},\"toolbar_location\":\"above\"},\"id\":\"a6a72b58-443d-4022-9240-e933ae9735c6\",\"type\":\"ToolbarBox\"},{\"attributes\":{\"callback\":null},\"id\":\"ff3639c0-be82-4e5e-aee3-824fa6f90351\",\"type\":\"DataRange1d\"},{\"attributes\":{\"overlay\":{\"id\":\"3a9124e3-5dbb-47a3-8819-1140b0ab6aef\",\"type\":\"BoxAnnotation\"}},\"id\":\"7db0e5b7-14f6-44c5-9676-e4d1e4554877\",\"type\":\"BoxZoomTool\"},{\"attributes\":{},\"id\":\"f02f094e-7172-414c-8ae4-1ed49fece9a1\",\"type\":\"ResetTool\"},{\"attributes\":{\"fill_color\":{\"value\":\"#1f77b4\"},\"line_color\":{\"value\":\"#1f77b4\"},\"top\":{\"field\":\"flux\"},\"width\":{\"value\":0.9},\"x\":{\"field\":\"band\"}},\"id\":\"a08ba4f9-a70c-47ea-96f1-f9e7146f5d39\",\"type\":\"VBar\"},{\"attributes\":{},\"id\":\"06188d53-f634-43e6-abfb-64c2377935e0\",\"type\":\"WheelZoomTool\"},{\"attributes\":{},\"id\":\"44e6d7df-abe5-4be7-bb74-a7afa527a1a6\",\"type\":\"SaveTool\"},{\"attributes\":{},\"id\":\"ea4c2035-5de5-4f8f-b3a5-6fe0af2099f3\",\"type\":\"CategoricalScale\"},{\"attributes\":{},\"id\":\"fe7c6474-3c82-42c0-86f0-b7d8c4db6bde\",\"type\":\"HelpTool\"},{\"attributes\":{\"children\":[{\"id\":\"da845a85-5857-4ad7-8963-04def9f8bc5d\",\"subtype\":\"Figure\",\"type\":\"Plot\"},{\"id\":\"93ca31d6-0245-4aab-ade6-4614bb7d1ef1\",\"subtype\":\"Figure\",\"type\":\"Plot\"},{\"id\":\"dd856f5d-8e68-45f3-bcb9-683314ed26ea\",\"subtype\":\"Figure\",\"type\":\"Plot\"}]},\"id\":\"7c9ea3ca-e200-4915-9d5f-981c38dd965b\",\"type\":\"Row\"},{\"attributes\":{},\"id\":\"237da865-f4fa-4e88-9c13-c9d56c120789\",\"type\":\"BasicTickFormatter\"},{\"attributes\":{\"axis_label\":\"spectral band\",\"formatter\":{\"id\":\"ee4835bb-92fb-4743-ad2d-7149d0a152fd\",\"type\":\"CategoricalTickFormatter\"},\"plot\":{\"id\":\"da845a85-5857-4ad7-8963-04def9f8bc5d\",\"subtype\":\"Figure\",\"type\":\"Plot\"},\"ticker\":{\"id\":\"572da30e-e809-42a7-b9dc-cbeae2f250d8\",\"type\":\"CategoricalTicker\"}},\"id\":\"6cebbc56-3f1c-4bdd-94bb-cdd2ef8189a4\",\"type\":\"CategoricalAxis\"},{\"attributes\":{\"dimension\":1,\"plot\":{\"id\":\"dd856f5d-8e68-45f3-bcb9-683314ed26ea\",\"subtype\":\"Figure\",\"type\":\"Plot\"},\"ticker\":{\"id\":\"bd24796c-8049-449f-8c29-aab3b2aaf107\",\"type\":\"BasicTicker\"}},\"id\":\"f6fb3f6a-665a-492e-9bae-7739944963fe\",\"type\":\"Grid\"},{\"attributes\":{\"fill_color\":{\"value\":\"#1f77b4\"},\"line_color\":{\"value\":\"#1f77b4\"},\"top\":{\"field\":\"flux\"},\"width\":{\"value\":0.9},\"x\":{\"field\":\"band\"}},\"id\":\"a07207a8-c574-4330-bae5-999cbc8e522d\",\"type\":\"VBar\"},{\"attributes\":{\"fill_alpha\":{\"value\":0.1},\"fill_color\":{\"value\":\"#1f77b4\"},\"line_alpha\":{\"value\":0.1},\"line_color\":{\"value\":\"#1f77b4\"},\"top\":{\"field\":\"flux\"},\"width\":{\"value\":0.9},\"x\":{\"field\":\"band\"}},\"id\":\"f4764b9a-316f-4938-ae3a-f14a82c3c25f\",\"type\":\"VBar\"},{\"attributes\":{},\"id\":\"51ca4bd6-41e7-419b-9725-e5bbf8bbbe1f\",\"type\":\"HelpTool\"},{\"attributes\":{},\"id\":\"529a3a95-564c-4ab9-bf77-d0543144d86c\",\"type\":\"WheelZoomTool\"},{\"attributes\":{},\"id\":\"333151c0-479c-427c-97d6-1ccc134ec5cc\",\"type\":\"Selection\"},{\"attributes\":{\"below\":[{\"id\":\"6cebbc56-3f1c-4bdd-94bb-cdd2ef8189a4\",\"type\":\"CategoricalAxis\"}],\"left\":[{\"id\":\"a493fc91-aff9-46c8-b449-44327e0672b4\",\"type\":\"LinearAxis\"}],\"plot_height\":300,\"plot_width\":300,\"renderers\":[{\"id\":\"6cebbc56-3f1c-4bdd-94bb-cdd2ef8189a4\",\"type\":\"CategoricalAxis\"},{\"id\":\"2d3193a9-86bc-45ea-a11a-e3706ff767b0\",\"type\":\"Grid\"},{\"id\":\"a493fc91-aff9-46c8-b449-44327e0672b4\",\"type\":\"LinearAxis\"},{\"id\":\"73ce7d46-1a5e-4a9e-93ca-56ef97b8ed42\",\"type\":\"Grid\"},{\"id\":\"3a9124e3-5dbb-47a3-8819-1140b0ab6aef\",\"type\":\"BoxAnnotation\"},{\"id\":\"7c7dd739-f257-4400-9c23-d7dd9d9bada8\",\"type\":\"GlyphRenderer\"}],\"title\":{\"id\":\"3ad5a1b3-4faa-4fc2-ad39-55e777df961b\",\"type\":\"Title\"},\"toolbar\":{\"id\":\"7fef72ff-27bd-4008-bcca-7aface6a2dc3\",\"type\":\"Toolbar\"},\"toolbar_location\":null,\"x_range\":{\"id\":\"5bb7f0a4-21a7-454f-82e3-c07873e5058b\",\"type\":\"FactorRange\"},\"x_scale\":{\"id\":\"ea4c2035-5de5-4f8f-b3a5-6fe0af2099f3\",\"type\":\"CategoricalScale\"},\"y_range\":{\"id\":\"ff3639c0-be82-4e5e-aee3-824fa6f90351\",\"type\":\"DataRange1d\"},\"y_scale\":{\"id\":\"4a9ccd8d-5f22-4ebb-8def-2a65500aa802\",\"type\":\"LinearScale\"}},\"id\":\"da845a85-5857-4ad7-8963-04def9f8bc5d\",\"subtype\":\"Figure\",\"type\":\"Plot\"},{\"attributes\":{\"fill_alpha\":{\"value\":0.1},\"fill_color\":{\"value\":\"#1f77b4\"},\"line_alpha\":{\"value\":0.1},\"line_color\":{\"value\":\"#1f77b4\"},\"top\":{\"field\":\"flux\"},\"width\":{\"value\":0.9},\"x\":{\"field\":\"band\"}},\"id\":\"51992833-ceff-4de4-890b-75c22493d1c3\",\"type\":\"VBar\"},{\"attributes\":{},\"id\":\"1bfac329-c295-41e9-bfd0-09f956c18600\",\"type\":\"UnionRenderers\"},{\"attributes\":{\"below\":[{\"id\":\"17db0282-527a-4de3-a898-8b152defde48\",\"type\":\"CategoricalAxis\"}],\"left\":[{\"id\":\"8e595665-d364-4cff-afb5-5866241e8ee3\",\"type\":\"LinearAxis\"}],\"plot_height\":300,\"plot_width\":300,\"renderers\":[{\"id\":\"17db0282-527a-4de3-a898-8b152defde48\",\"type\":\"CategoricalAxis\"},{\"id\":\"2ec99d11-7edd-4ae3-acca-e4f031243cdc\",\"type\":\"Grid\"},{\"id\":\"8e595665-d364-4cff-afb5-5866241e8ee3\",\"type\":\"LinearAxis\"},{\"id\":\"e74bf802-c1b8-436d-9f5e-b7fab403534f\",\"type\":\"Grid\"},{\"id\":\"150d7fe7-1479-4f5e-a058-2879c0a973dd\",\"type\":\"BoxAnnotation\"},{\"id\":\"dba53d6a-fed9-46c0-91c4-b72123d4ec6c\",\"type\":\"GlyphRenderer\"}],\"title\":{\"id\":\"450dabfa-a776-4ecb-86ba-42c893476657\",\"type\":\"Title\"},\"toolbar\":{\"id\":\"6ecd91c0-4643-4da6-8def-b63e5b3b6d74\",\"type\":\"Toolbar\"},\"toolbar_location\":null,\"x_range\":{\"id\":\"940d3c8f-f10c-40c7-b23c-523f9b62550a\",\"type\":\"FactorRange\"},\"x_scale\":{\"id\":\"99e1e1bf-f95a-4499-afc8-85aa7b4b48ce\",\"type\":\"CategoricalScale\"},\"y_range\":{\"id\":\"0481260a-dfe8-44cb-bb63-2cb96bdb4fdb\",\"type\":\"DataRange1d\"},\"y_scale\":{\"id\":\"5997a1fc-2330-4539-9175-083ff7cbd0b5\",\"type\":\"LinearScale\"}},\"id\":\"93ca31d6-0245-4aab-ade6-4614bb7d1ef1\",\"subtype\":\"Figure\",\"type\":\"Plot\"},{\"attributes\":{},\"id\":\"aaee10d9-9b0b-401a-8735-558d39c5ae3d\",\"type\":\"BasicTicker\"},{\"attributes\":{\"axis_label\":\"flux (W m-2)\",\"formatter\":{\"id\":\"1e913449-1047-415f-9fd4-83acb4767861\",\"type\":\"BasicTickFormatter\"},\"plot\":{\"id\":\"dd856f5d-8e68-45f3-bcb9-683314ed26ea\",\"subtype\":\"Figure\",\"type\":\"Plot\"},\"ticker\":{\"id\":\"bd24796c-8049-449f-8c29-aab3b2aaf107\",\"type\":\"BasicTicker\"}},\"id\":\"fb78a623-a868-41bb-9f41-136d8f9baf8d\",\"type\":\"LinearAxis\"},{\"attributes\":{\"callback\":null,\"data\":{\"band\":[\"1\",\"2\",\"3\",\"4\",\"5\",\"6\",\"7\",\"8\",\"9\",\"10\",\"11\"],\"flux\":{\"__ndarray__\":\"AADADkbs874Ak+S5vg/QPwANMzSeCMq/ABTRr62frj8A8Z2Y9WLjP6As7j8yHd0/gB2NQ/0usj/A0phaAGTRP0Churn429E/AFDtmpDWiD8AO3arQl6wPw==\",\"dtype\":\"float64\",\"shape\":[11]}},\"selected\":{\"id\":\"333151c0-479c-427c-97d6-1ccc134ec5cc\",\"type\":\"Selection\"},\"selection_policy\":{\"id\":\"3cbefe3a-3833-4dc8-b09b-a71ac2bc6331\",\"type\":\"UnionRenderers\"}},\"id\":\"f163f8fe-5373-40bb-8063-8f7d491168b3\",\"type\":\"ColumnDataSource\"},{\"attributes\":{},\"id\":\"506effdc-850d-4f69-81dc-b41c9e8e496b\",\"type\":\"WheelZoomTool\"},{\"attributes\":{},\"id\":\"4a9ccd8d-5f22-4ebb-8def-2a65500aa802\",\"type\":\"LinearScale\"},{\"attributes\":{},\"id\":\"927382d9-33c7-4542-9059-20e43f665beb\",\"type\":\"BasicTickFormatter\"},{\"attributes\":{\"plot\":{\"id\":\"dd856f5d-8e68-45f3-bcb9-683314ed26ea\",\"subtype\":\"Figure\",\"type\":\"Plot\"},\"ticker\":{\"id\":\"fe79c3fa-b538-40c3-a450-2176b7ae45f2\",\"type\":\"CategoricalTicker\"}},\"id\":\"f4de31b4-3edb-4d52-bc24-02e3eb08f94b\",\"type\":\"Grid\"},{\"attributes\":{\"dimension\":1,\"plot\":{\"id\":\"da845a85-5857-4ad7-8963-04def9f8bc5d\",\"subtype\":\"Figure\",\"type\":\"Plot\"},\"ticker\":{\"id\":\"aaee10d9-9b0b-401a-8735-558d39c5ae3d\",\"type\":\"BasicTicker\"}},\"id\":\"73ce7d46-1a5e-4a9e-93ca-56ef97b8ed42\",\"type\":\"Grid\"},{\"attributes\":{},\"id\":\"fe79c3fa-b538-40c3-a450-2176b7ae45f2\",\"type\":\"CategoricalTicker\"},{\"attributes\":{\"tools\":[{\"id\":\"2ce8adad-9cb5-4eb6-a78c-14f538eb323a\",\"type\":\"PanTool\"},{\"id\":\"06188d53-f634-43e6-abfb-64c2377935e0\",\"type\":\"WheelZoomTool\"},{\"id\":\"7db0e5b7-14f6-44c5-9676-e4d1e4554877\",\"type\":\"BoxZoomTool\"},{\"id\":\"55feeef8-1023-48c1-948d-421f8f08a080\",\"type\":\"SaveTool\"},{\"id\":\"5b4e7467-ede6-448f-aedc-ac767b61a877\",\"type\":\"ResetTool\"},{\"id\":\"fe7c6474-3c82-42c0-86f0-b7d8c4db6bde\",\"type\":\"HelpTool\"},{\"id\":\"6a649c70-9970-46f9-959f-0e0fc7e00862\",\"type\":\"PanTool\"},{\"id\":\"529a3a95-564c-4ab9-bf77-d0543144d86c\",\"type\":\"WheelZoomTool\"},{\"id\":\"eed9eaa2-9067-4d00-af27-edd3c830bf57\",\"type\":\"BoxZoomTool\"},{\"id\":\"ad52eaaf-6560-4428-b08c-121737c363b9\",\"type\":\"SaveTool\"},{\"id\":\"f02f094e-7172-414c-8ae4-1ed49fece9a1\",\"type\":\"ResetTool\"},{\"id\":\"bf7b9d34-0eeb-488b-88b4-85a1e356293c\",\"type\":\"HelpTool\"},{\"id\":\"ac7e9c5c-f18c-43c2-bd35-7b17bd5ce5d0\",\"type\":\"PanTool\"},{\"id\":\"506effdc-850d-4f69-81dc-b41c9e8e496b\",\"type\":\"WheelZoomTool\"},{\"id\":\"4d41ae1b-75b4-4881-9eac-12d7c5c8321a\",\"type\":\"BoxZoomTool\"},{\"id\":\"44e6d7df-abe5-4be7-bb74-a7afa527a1a6\",\"type\":\"SaveTool\"},{\"id\":\"9f1c3d01-b8fb-4393-b46b-fd44ec0134a1\",\"type\":\"ResetTool\"},{\"id\":\"51ca4bd6-41e7-419b-9725-e5bbf8bbbe1f\",\"type\":\"HelpTool\"}]},\"id\":\"5fe525e1-b7ed-4ff5-ae9e-14f8e7ada32e\",\"type\":\"ProxyToolbar\"},{\"attributes\":{\"axis_label\":\"flux (W m-2)\",\"formatter\":{\"id\":\"927382d9-33c7-4542-9059-20e43f665beb\",\"type\":\"BasicTickFormatter\"},\"plot\":{\"id\":\"da845a85-5857-4ad7-8963-04def9f8bc5d\",\"subtype\":\"Figure\",\"type\":\"Plot\"},\"ticker\":{\"id\":\"aaee10d9-9b0b-401a-8735-558d39c5ae3d\",\"type\":\"BasicTicker\"}},\"id\":\"a493fc91-aff9-46c8-b449-44327e0672b4\",\"type\":\"LinearAxis\"},{\"attributes\":{},\"id\":\"1e913449-1047-415f-9fd4-83acb4767861\",\"type\":\"BasicTickFormatter\"},{\"attributes\":{\"overlay\":{\"id\":\"d532982a-e8d1-4acb-b788-6d5ebe068b3a\",\"type\":\"BoxAnnotation\"}},\"id\":\"4d41ae1b-75b4-4881-9eac-12d7c5c8321a\",\"type\":\"BoxZoomTool\"},{\"attributes\":{\"data_source\":{\"id\":\"f163f8fe-5373-40bb-8063-8f7d491168b3\",\"type\":\"ColumnDataSource\"},\"glyph\":{\"id\":\"a07207a8-c574-4330-bae5-999cbc8e522d\",\"type\":\"VBar\"},\"hover_glyph\":null,\"muted_glyph\":null,\"nonselection_glyph\":{\"id\":\"d026e182-f50a-475f-abc4-88e4dc65b738\",\"type\":\"VBar\"},\"selection_glyph\":null,\"view\":{\"id\":\"5cb576d9-7b7c-4f6e-8062-a141c1b6e99b\",\"type\":\"CDSView\"}},\"id\":\"dba53d6a-fed9-46c0-91c4-b72123d4ec6c\",\"type\":\"GlyphRenderer\"},{\"attributes\":{},\"id\":\"ac7e9c5c-f18c-43c2-bd35-7b17bd5ce5d0\",\"type\":\"PanTool\"},{\"attributes\":{},\"id\":\"ad52eaaf-6560-4428-b08c-121737c363b9\",\"type\":\"SaveTool\"},{\"attributes\":{},\"id\":\"5b4e7467-ede6-448f-aedc-ac767b61a877\",\"type\":\"ResetTool\"},{\"attributes\":{\"data_source\":{\"id\":\"68d2bbd6-fa17-439c-a30f-a9d8558b577a\",\"type\":\"ColumnDataSource\"},\"glyph\":{\"id\":\"5c8a9cae-d4da-4c1e-a3fd-becf58fe0686\",\"type\":\"VBar\"},\"hover_glyph\":null,\"muted_glyph\":null,\"nonselection_glyph\":{\"id\":\"51992833-ceff-4de4-890b-75c22493d1c3\",\"type\":\"VBar\"},\"selection_glyph\":null,\"view\":{\"id\":\"77204d96-d612-4431-8e21-bf6f166534a8\",\"type\":\"CDSView\"}},\"id\":\"7c7dd739-f257-4400-9c23-d7dd9d9bada8\",\"type\":\"GlyphRenderer\"},{\"attributes\":{},\"id\":\"6a649c70-9970-46f9-959f-0e0fc7e00862\",\"type\":\"PanTool\"},{\"attributes\":{\"source\":{\"id\":\"413a6ae3-3c14-46f7-a7c4-d2aba018d4cc\",\"type\":\"ColumnDataSource\"}},\"id\":\"5a904f7d-260c-42a4-9205-8e5b5cf60727\",\"type\":\"CDSView\"},{\"attributes\":{\"bottom_units\":\"screen\",\"fill_alpha\":{\"value\":0.5},\"fill_color\":{\"value\":\"lightgrey\"},\"left_units\":\"screen\",\"level\":\"overlay\",\"line_alpha\":{\"value\":1.0},\"line_color\":{\"value\":\"black\"},\"line_dash\":[4,4],\"line_width\":{\"value\":2},\"plot\":null,\"render_mode\":\"css\",\"right_units\":\"screen\",\"top_units\":\"screen\"},\"id\":\"d532982a-e8d1-4acb-b788-6d5ebe068b3a\",\"type\":\"BoxAnnotation\"},{\"attributes\":{},\"id\":\"9f1c3d01-b8fb-4393-b46b-fd44ec0134a1\",\"type\":\"ResetTool\"},{\"attributes\":{\"callback\":null},\"id\":\"0481260a-dfe8-44cb-bb63-2cb96bdb4fdb\",\"type\":\"DataRange1d\"},{\"attributes\":{\"active_drag\":\"auto\",\"active_inspect\":\"auto\",\"active_scroll\":\"auto\",\"active_tap\":\"auto\",\"tools\":[{\"id\":\"ac7e9c5c-f18c-43c2-bd35-7b17bd5ce5d0\",\"type\":\"PanTool\"},{\"id\":\"506effdc-850d-4f69-81dc-b41c9e8e496b\",\"type\":\"WheelZoomTool\"},{\"id\":\"4d41ae1b-75b4-4881-9eac-12d7c5c8321a\",\"type\":\"BoxZoomTool\"},{\"id\":\"44e6d7df-abe5-4be7-bb74-a7afa527a1a6\",\"type\":\"SaveTool\"},{\"id\":\"9f1c3d01-b8fb-4393-b46b-fd44ec0134a1\",\"type\":\"ResetTool\"},{\"id\":\"51ca4bd6-41e7-419b-9725-e5bbf8bbbe1f\",\"type\":\"HelpTool\"}]},\"id\":\"16dbbd88-8643-48bf-8bd7-c36cbeccd453\",\"type\":\"Toolbar\"},{\"attributes\":{},\"id\":\"61a80eb2-d42e-47bf-be2b-54e1d79a44e0\",\"type\":\"LinearScale\"},{\"attributes\":{\"source\":{\"id\":\"f163f8fe-5373-40bb-8063-8f7d491168b3\",\"type\":\"ColumnDataSource\"}},\"id\":\"5cb576d9-7b7c-4f6e-8062-a141c1b6e99b\",\"type\":\"CDSView\"},{\"attributes\":{\"callback\":null,\"factors\":[\"1\",\"2\",\"3\",\"4\",\"5\",\"6\",\"7\",\"8\",\"9\",\"10\",\"11\"]},\"id\":\"940d3c8f-f10c-40c7-b23c-523f9b62550a\",\"type\":\"FactorRange\"},{\"attributes\":{},\"id\":\"a7f296e8-c079-4efe-a117-a8d23d23dfa0\",\"type\":\"CategoricalTicker\"},{\"attributes\":{\"callback\":null,\"factors\":[\"1\",\"2\",\"3\",\"4\",\"5\",\"6\",\"7\",\"8\",\"9\",\"10\",\"11\"]},\"id\":\"426145c4-7d8b-47bf-89ec-63068a6fdb87\",\"type\":\"FactorRange\"},{\"attributes\":{},\"id\":\"9f85fbe6-77dd-4204-ac9d-e8c7ea7de80e\",\"type\":\"CategoricalTickFormatter\"},{\"attributes\":{\"axis_label\":\"flux (W m-2)\",\"formatter\":{\"id\":\"237da865-f4fa-4e88-9c13-c9d56c120789\",\"type\":\"BasicTickFormatter\"},\"plot\":{\"id\":\"93ca31d6-0245-4aab-ade6-4614bb7d1ef1\",\"subtype\":\"Figure\",\"type\":\"Plot\"},\"ticker\":{\"id\":\"329de481-88fb-4c51-8e5e-c35490267122\",\"type\":\"BasicTicker\"}},\"id\":\"8e595665-d364-4cff-afb5-5866241e8ee3\",\"type\":\"LinearAxis\"},{\"attributes\":{\"active_drag\":\"auto\",\"active_inspect\":\"auto\",\"active_scroll\":\"auto\",\"active_tap\":\"auto\",\"tools\":[{\"id\":\"6a649c70-9970-46f9-959f-0e0fc7e00862\",\"type\":\"PanTool\"},{\"id\":\"529a3a95-564c-4ab9-bf77-d0543144d86c\",\"type\":\"WheelZoomTool\"},{\"id\":\"eed9eaa2-9067-4d00-af27-edd3c830bf57\",\"type\":\"BoxZoomTool\"},{\"id\":\"ad52eaaf-6560-4428-b08c-121737c363b9\",\"type\":\"SaveTool\"},{\"id\":\"f02f094e-7172-414c-8ae4-1ed49fece9a1\",\"type\":\"ResetTool\"},{\"id\":\"bf7b9d34-0eeb-488b-88b4-85a1e356293c\",\"type\":\"HelpTool\"}]},\"id\":\"6ecd91c0-4643-4da6-8def-b63e5b3b6d74\",\"type\":\"Toolbar\"},{\"attributes\":{\"plot\":null,\"text\":\"Atmosphere heating. CLIRAD (single-run) - CRD.\"},\"id\":\"a205554c-9830-4573-9fa1-0dffb21ec7c6\",\"type\":\"Title\"},{\"attributes\":{\"plot\":{\"id\":\"93ca31d6-0245-4aab-ade6-4614bb7d1ef1\",\"subtype\":\"Figure\",\"type\":\"Plot\"},\"ticker\":{\"id\":\"a7f296e8-c079-4efe-a117-a8d23d23dfa0\",\"type\":\"CategoricalTicker\"}},\"id\":\"2ec99d11-7edd-4ae3-acca-e4f031243cdc\",\"type\":\"Grid\"},{\"attributes\":{},\"id\":\"329de481-88fb-4c51-8e5e-c35490267122\",\"type\":\"BasicTicker\"},{\"attributes\":{},\"id\":\"5997a1fc-2330-4539-9175-083ff7cbd0b5\",\"type\":\"LinearScale\"},{\"attributes\":{\"bottom_units\":\"screen\",\"fill_alpha\":{\"value\":0.5},\"fill_color\":{\"value\":\"lightgrey\"},\"left_units\":\"screen\",\"level\":\"overlay\",\"line_alpha\":{\"value\":1.0},\"line_color\":{\"value\":\"black\"},\"line_dash\":[4,4],\"line_width\":{\"value\":2},\"plot\":null,\"render_mode\":\"css\",\"right_units\":\"screen\",\"top_units\":\"screen\"},\"id\":\"150d7fe7-1479-4f5e-a058-2879c0a973dd\",\"type\":\"BoxAnnotation\"},{\"attributes\":{},\"id\":\"c5227171-c712-4405-8b27-86c2a8d52237\",\"type\":\"CategoricalScale\"},{\"attributes\":{\"below\":[{\"id\":\"0a80ed2d-46b1-4745-96cd-f2206717b2a3\",\"type\":\"CategoricalAxis\"}],\"left\":[{\"id\":\"fb78a623-a868-41bb-9f41-136d8f9baf8d\",\"type\":\"LinearAxis\"}],\"plot_height\":300,\"plot_width\":300,\"renderers\":[{\"id\":\"0a80ed2d-46b1-4745-96cd-f2206717b2a3\",\"type\":\"CategoricalAxis\"},{\"id\":\"f4de31b4-3edb-4d52-bc24-02e3eb08f94b\",\"type\":\"Grid\"},{\"id\":\"fb78a623-a868-41bb-9f41-136d8f9baf8d\",\"type\":\"LinearAxis\"},{\"id\":\"f6fb3f6a-665a-492e-9bae-7739944963fe\",\"type\":\"Grid\"},{\"id\":\"d532982a-e8d1-4acb-b788-6d5ebe068b3a\",\"type\":\"BoxAnnotation\"},{\"id\":\"a94b00ba-05eb-4e4b-aa2d-e749423a2751\",\"type\":\"GlyphRenderer\"}],\"title\":{\"id\":\"a205554c-9830-4573-9fa1-0dffb21ec7c6\",\"type\":\"Title\"},\"toolbar\":{\"id\":\"16dbbd88-8643-48bf-8bd7-c36cbeccd453\",\"type\":\"Toolbar\"},\"toolbar_location\":null,\"x_range\":{\"id\":\"426145c4-7d8b-47bf-89ec-63068a6fdb87\",\"type\":\"FactorRange\"},\"x_scale\":{\"id\":\"c5227171-c712-4405-8b27-86c2a8d52237\",\"type\":\"CategoricalScale\"},\"y_range\":{\"id\":\"f58a521a-e1b2-46db-940e-48c8fafc0621\",\"type\":\"DataRange1d\"},\"y_scale\":{\"id\":\"61a80eb2-d42e-47bf-be2b-54e1d79a44e0\",\"type\":\"LinearScale\"}},\"id\":\"dd856f5d-8e68-45f3-bcb9-683314ed26ea\",\"subtype\":\"Figure\",\"type\":\"Plot\"},{\"attributes\":{},\"id\":\"99e1e1bf-f95a-4499-afc8-85aa7b4b48ce\",\"type\":\"CategoricalScale\"},{\"attributes\":{\"callback\":null},\"id\":\"f58a521a-e1b2-46db-940e-48c8fafc0621\",\"type\":\"DataRange1d\"},{\"attributes\":{\"axis_label\":\"spectral band\",\"formatter\":{\"id\":\"d11125d1-fe64-4fa0-9b44-c0fdf4a18b2a\",\"type\":\"CategoricalTickFormatter\"},\"plot\":{\"id\":\"93ca31d6-0245-4aab-ade6-4614bb7d1ef1\",\"subtype\":\"Figure\",\"type\":\"Plot\"},\"ticker\":{\"id\":\"a7f296e8-c079-4efe-a117-a8d23d23dfa0\",\"type\":\"CategoricalTicker\"}},\"id\":\"17db0282-527a-4de3-a898-8b152defde48\",\"type\":\"CategoricalAxis\"},{\"attributes\":{\"axis_label\":\"spectral band\",\"formatter\":{\"id\":\"9f85fbe6-77dd-4204-ac9d-e8c7ea7de80e\",\"type\":\"CategoricalTickFormatter\"},\"plot\":{\"id\":\"dd856f5d-8e68-45f3-bcb9-683314ed26ea\",\"subtype\":\"Figure\",\"type\":\"Plot\"},\"ticker\":{\"id\":\"fe79c3fa-b538-40c3-a450-2176b7ae45f2\",\"type\":\"CategoricalTicker\"}},\"id\":\"0a80ed2d-46b1-4745-96cd-f2206717b2a3\",\"type\":\"CategoricalAxis\"}],\"root_ids\":[\"2b6d7069-4c0d-4ecd-9ec2-2d6414a081ff\"]},\"title\":\"Bokeh Application\",\"version\":\"0.12.16\"}};\n",
       "  var render_items = [{\"docid\":\"ba2b4f63-3063-4f0f-8110-dd881e5f9ad2\",\"elementid\":\"dce943fe-e910-4ff6-9055-1f3f848f2def\",\"modelid\":\"2b6d7069-4c0d-4ecd-9ec2-2d6414a081ff\"}];\n",
       "  root.Bokeh.embed.embed_items_notebook(docs_json, render_items);\n",
       "\n",
       "  }\n",
       "  if (root.Bokeh !== undefined) {\n",
       "    embed_document(root);\n",
       "  } else {\n",
       "    var attempts = 0;\n",
       "    var timer = setInterval(function(root) {\n",
       "      if (root.Bokeh !== undefined) {\n",
       "        embed_document(root);\n",
       "        clearInterval(timer);\n",
       "      }\n",
       "      attempts++;\n",
       "      if (attempts > 100) {\n",
       "        console.log(\"Bokeh: ERROR: Unable to run BokehJS code because BokehJS library is missing\")\n",
       "        clearInterval(timer);\n",
       "      }\n",
       "    }, 10, root)\n",
       "  }\n",
       "})(window);"
      ],
      "application/vnd.bokehjs_exec.v0+json": ""
     },
     "metadata": {
      "application/vnd.bokehjs_exec.v0+json": {
       "id": "2b6d7069-4c0d-4ecd-9ec2-2d6414a081ff"
      }
     },
     "output_type": "display_data"
    },
    {
     "data": {
      "text/markdown": [
       "*FIGURE.* Difference between CLIRAD and CRD in TOA, SFC and net atmosphere flux, in each spectral band."
      ],
      "text/plain": [
       "<IPython.core.display.Markdown object>"
      ]
     },
     "metadata": {},
     "output_type": "display_data"
    },
    {
     "data": {
      "text/html": [
       "<div>\n",
       "<style scoped>\n",
       "    .dataframe tbody tr th:only-of-type {\n",
       "        vertical-align: middle;\n",
       "    }\n",
       "\n",
       "    .dataframe tbody tr th {\n",
       "        vertical-align: top;\n",
       "    }\n",
       "\n",
       "    .dataframe thead th {\n",
       "        text-align: right;\n",
       "    }\n",
       "</style>\n",
       "<table border=\"1\" class=\"dataframe\">\n",
       "  <thead>\n",
       "    <tr style=\"text-align: right;\">\n",
       "      <th></th>\n",
       "      <th>OLR flux</th>\n",
       "      <th>SFC flux</th>\n",
       "      <th>ATM heating</th>\n",
       "    </tr>\n",
       "    <tr>\n",
       "      <th>Sum over bands</th>\n",
       "      <th></th>\n",
       "      <th></th>\n",
       "      <th></th>\n",
       "    </tr>\n",
       "  </thead>\n",
       "  <tbody>\n",
       "    <tr>\n",
       "      <th>CLIRAD (single-run) - CRD</th>\n",
       "      <td>1.83</td>\n",
       "      <td>1.87</td>\n",
       "      <td>-0.03</td>\n",
       "    </tr>\n",
       "    <tr>\n",
       "      <th>CRD</th>\n",
       "      <td>-303.40</td>\n",
       "      <td>337.24</td>\n",
       "      <td>-181.37</td>\n",
       "    </tr>\n",
       "  </tbody>\n",
       "</table>\n",
       "</div>"
      ],
      "text/plain": [
       "                           OLR flux  SFC flux  ATM heating\n",
       "Sum over bands                                            \n",
       "CLIRAD (single-run) - CRD      1.83      1.87        -0.03\n",
       "CRD                         -303.40    337.24      -181.37"
      ]
     },
     "metadata": {},
     "output_type": "display_data"
    },
    {
     "data": {
      "text/markdown": [
       "*TABLE.* Difference between CLIRAD and CRD in TOA, SFC and net atmosphere flux, over all spectral bands. CRD's TOA, SFC and net atmosphere flux, over all spectral bands."
      ],
      "text/plain": [
       "<IPython.core.display.Markdown object>"
      ]
     },
     "metadata": {},
     "output_type": "display_data"
    }
   ],
   "source": [
    "def show_html(s):\n",
    "    display.display(display.HTML(s))\n",
    "\n",
    "    \n",
    "def show_markdown(s):\n",
    "    display.display(display.Markdown(s))\n",
    "\n",
    "\n",
    "def script():\n",
    "    \n",
    "    d_atm = {'mls': 'mid-latitude summer',\n",
    "             'saw': 'sub-arctic winter',\n",
    "             'trp': 'tropical'}\n",
    "    \n",
    "    title = ('## Results over entire range of molecules'\n",
    "             ' and spectral bands')\n",
    "    \n",
    "    s_makeup = 'Makeup of atmosphere.'\n",
    "    s_atmpro = '# {}'\n",
    "    s_cool = 'Cooling rates. {}.'\n",
    "    s_flux = 'Fluxes. {}.'\n",
    "    \n",
    "    atmpros = ['mls', 'saw', 'trp']\n",
    "    \n",
    "    # TOC\n",
    "    show_markdown(title)\n",
    "    show_markdown('### Table of Contents')\n",
    "    show_html(climahtml.getHTML_hrefanchor(s_makeup))\n",
    "    for atmpro in atmpros:\n",
    "        show_markdown('**' + d_atm[atmpro] + '**')\n",
    "        show_html(climahtml.getHTML_hrefanchor(s_cool.format(atmpro)))\n",
    "        show_html(climahtml.getHTML_hrefanchor(s_flux.format(atmpro)))\n",
    "\n",
    "        \n",
    "    # Atmosphere makeup\n",
    "    show_html(climahtml.getHTML_idanchor(s_makeup))\n",
    "    show_markdown(climahtml.getMarkdown_sectitle(s_makeup))\n",
    "    show_makeup()\n",
    "        \n",
    "    for atmpro in atmpros:\n",
    "        show_html(climahtml.getHTML_idanchor(s_cool.format(atmpro)))\n",
    "        show_markdown(\n",
    "            climahtml.getMarkdown_sectitle(s_cool.format(atmpro)))\n",
    "        show_cool(atmpro=atmpro)\n",
    "        show_html(climahtml.getHTML_idanchor(s_flux.format(atmpro)))\n",
    "        show_markdown(\n",
    "            climahtml.getMarkdown_sectitle(s_flux.format(atmpro)))\n",
    "        show_hist_flux(atmpro=atmpro)\n",
    "        show_tb_flux(atmpro=atmpro)\n",
    "    \n",
    "    \n",
    "script()  "
   ]
  },
  {
   "cell_type": "code",
   "execution_count": null,
   "metadata": {
    "collapsed": true
   },
   "outputs": [],
   "source": []
  },
  {
   "cell_type": "code",
   "execution_count": 14,
   "metadata": {},
   "outputs": [
    {
     "data": {
      "text/html": [
       "<script>\n",
       "code_show=true; \n",
       "function code_toggle() {\n",
       " if (code_show){\n",
       " $('div.input').hide();\n",
       " } else {\n",
       " $('div.input').show();\n",
       " }\n",
       " code_show = !code_show\n",
       "} \n",
       "$( document ).ready(code_toggle);\n",
       "</script>\n",
       "<form action=\"javascript:code_toggle()\"><input type=\"submit\" value=\"Click here to toggle on/off the raw code.\"></form>"
      ],
      "text/plain": [
       "<IPython.core.display.HTML object>"
      ]
     },
     "execution_count": 14,
     "metadata": {},
     "output_type": "execute_result"
    }
   ],
   "source": [
    "display.HTML('''<script>\n",
    "code_show=true; \n",
    "function code_toggle() {\n",
    " if (code_show){\n",
    " $('div.input').hide();\n",
    " } else {\n",
    " $('div.input').show();\n",
    " }\n",
    " code_show = !code_show\n",
    "} \n",
    "$( document ).ready(code_toggle);\n",
    "</script>\n",
    "<form action=\"javascript:code_toggle()\"><input type=\"submit\" value=\"Click here to toggle on/off the raw code.\"></form>''')"
   ]
  },
  {
   "cell_type": "code",
   "execution_count": null,
   "metadata": {
    "collapsed": true
   },
   "outputs": [],
   "source": []
  }
 ],
 "metadata": {
  "kernelspec": {
   "display_name": "Python 3",
   "language": "python",
   "name": "python3"
  },
  "language_info": {
   "codemirror_mode": {
    "name": "ipython",
    "version": 3
   },
   "file_extension": ".py",
   "mimetype": "text/x-python",
   "name": "python",
   "nbconvert_exporter": "python",
   "pygments_lexer": "ipython3",
   "version": "3.6.1"
  }
 },
 "nbformat": 4,
 "nbformat_minor": 2
}
