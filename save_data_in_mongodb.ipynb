{
 "cells": [
  {
   "cell_type": "code",
   "execution_count": 8,
   "metadata": {
    "collapsed": true
   },
   "outputs": [],
   "source": [
    "%reload_ext autoreload\n",
    "%autoreload 2"
   ]
  },
  {
   "cell_type": "code",
   "execution_count": 183,
   "metadata": {
    "collapsed": true
   },
   "outputs": [],
   "source": [
    "import os\n",
    "import pprint\n",
    "import io\n",
    "\n",
    "import pymongo\n",
    "import json\n",
    "import pandas as pd\n",
    "\n",
    "import climatools.lblnew.setup_bestfit as setup_bestfit\n",
    "import climatools.lblnew.runrecord_bestfit as runrecord_bestfit\n",
    "import climatools.lblnew.pipeline as pipeline\n"
   ]
  },
  {
   "cell_type": "code",
   "execution_count": 206,
   "metadata": {
    "collapsed": true
   },
   "outputs": [],
   "source": [
    "client = pymongo.MongoClient('localhost', 27017, connect=False)"
   ]
  },
  {
   "cell_type": "code",
   "execution_count": 207,
   "metadata": {
    "collapsed": true
   },
   "outputs": [],
   "source": [
    "db = client.lblnew"
   ]
  },
  {
   "cell_type": "code",
   "execution_count": 208,
   "metadata": {
    "collapsed": true
   },
   "outputs": [],
   "source": [
    "collection = db.bestfit_lw"
   ]
  },
  {
   "cell_type": "code",
   "execution_count": 209,
   "metadata": {
    "collapsed": true
   },
   "outputs": [],
   "source": [
    "def params_co2_band3b_2x():\n",
    "    return [param for param in runrecord.params() \n",
    "            if param['molecule'] == 'co2'\n",
    "            if param['band'] == '3b'\n",
    "            if param['conc'] == 800e-6\n",
    "            if param['dv'] == .001]\n",
    "\n",
    "\n",
    "\n",
    "def params_n2o_band07_2x():\n",
    "    return [param for param in runrecord.params()\n",
    "            if param['molecule'] == 'n2o'\n",
    "            if param['band'] == '7'\n",
    "            if param['conc'] == 6.4e-7\n",
    "            if param['dv'] == .001]"
   ]
  },
  {
   "cell_type": "code",
   "execution_count": 210,
   "metadata": {
    "collapsed": true
   },
   "outputs": [],
   "source": [
    "params = params_co2_band3b_2x() + params_n2o_band07_2x()"
   ]
  },
  {
   "cell_type": "code",
   "execution_count": 211,
   "metadata": {},
   "outputs": [
    {
     "data": {
      "text/plain": [
       "['out_361017',\n",
       " 'debug_dtku.dat',\n",
       " 'output_wcoolrg.dat',\n",
       " 'test_refatm_data.f',\n",
       " 'output_wfluxg.dat',\n",
       " 'lblnew-bestfit.f',\n",
       " 'output_flux.dat',\n",
       " 'output_fluxg.dat',\n",
       " 'lblnew.exe',\n",
       " 'err_361017',\n",
       " 'output_coolr.dat',\n",
       " 'output_coolrg.dat',\n",
       " 'lblcom.f',\n",
       " 'abscom.dat',\n",
       " 'dgdgs.dat',\n",
       " 'lblnew.sub']"
      ]
     },
     "execution_count": 211,
     "metadata": {},
     "output_type": "execute_result"
    }
   ],
   "source": [
    "os.listdir(pipeline.get_dir_case(params[0], setup=setup_bestfit))"
   ]
  },
  {
   "cell_type": "code",
   "execution_count": 212,
   "metadata": {
    "collapsed": true
   },
   "outputs": [],
   "source": [
    "def make_doc(param=None):\n",
    "    '''\n",
    "    Makes a Mongodb document for an lblnew-bestfit run.\n",
    "    \n",
    "    Parameters\n",
    "    ----------\n",
    "    param: dict\n",
    "        lblnew-bestfit input parameters.\n",
    "    doc: dict\n",
    "        lblnew-bestfit input (param) and output (flux and cooling rate)\n",
    "    '''\n",
    "    fnames = ['output_wfluxg.dat', 'output_wcoolrg.dat',\n",
    "              'output_fluxg.dat', 'output_coolrg.dat',\n",
    "              'output_flux.dat', 'output_coolr.dat']\n",
    "\n",
    "    dir_fortran = pipeline.get_dir_case(param=param, \n",
    "                                        setup=setup_bestfit)\n",
    "    \n",
    "    fnames = [n for n in os.listdir(dir_fortran) if n.endswith('.dat')]\n",
    "    \n",
    "    s_outputs = []\n",
    "    for fname in fnames:\n",
    "        with open(os.path.join(dir_fortran, fname), \n",
    "                  mode='r', encoding='utf-8') as f:\n",
    "            s = f.read()\n",
    "        \n",
    "        s_outputs.append(s)\n",
    "    \n",
    "    doc = {}\n",
    "    doc['param'] = param\n",
    "    \n",
    "    for fname, s in zip(fnames, s_outputs):\n",
    "        doc[fname.split('.')[0]] = s\n",
    "    \n",
    "    return doc\n",
    "\n",
    "\n",
    "\n",
    "def make_query(param=None):\n",
    "    '''\n",
    "    Returns the MongoDB query for a lblnew-bestfit \n",
    "    run's document.\n",
    "    \n",
    "    Parameters\n",
    "    ----------\n",
    "    param: dict\n",
    "    lblnew-bestfit input parameters.\n",
    "    '''\n",
    "    return {'param.' + name: value for name, value in param.items()}\n",
    "    "
   ]
  },
  {
   "cell_type": "code",
   "execution_count": 213,
   "metadata": {},
   "outputs": [
    {
     "data": {
      "text/plain": [
       "<pymongo.results.InsertManyResult at 0x2ae4b9029f78>"
      ]
     },
     "execution_count": 213,
     "metadata": {},
     "output_type": "execute_result"
    }
   ],
   "source": [
    "docs = (make_doc(param=param) for param in params)\n",
    "collection.insert_many(docs)"
   ]
  },
  {
   "cell_type": "code",
   "execution_count": 199,
   "metadata": {},
   "outputs": [
    {
     "data": {
      "text/plain": [
       "<pymongo.results.DeleteResult at 0x2ae4b9022cf0>"
      ]
     },
     "execution_count": 199,
     "metadata": {},
     "output_type": "execute_result"
    }
   ],
   "source": [
    "collection.delete_many({'param.molecule': 'n2o'})"
   ]
  },
  {
   "cell_type": "code",
   "execution_count": 214,
   "metadata": {},
   "outputs": [
    {
     "data": {
      "text/plain": [
       "6"
      ]
     },
     "execution_count": 214,
     "metadata": {},
     "output_type": "execute_result"
    }
   ],
   "source": [
    "collection.count()"
   ]
  },
  {
   "cell_type": "code",
   "execution_count": 215,
   "metadata": {},
   "outputs": [
    {
     "ename": "KeyError",
     "evalue": "''",
     "output_type": "error",
     "traceback": [
      "\u001b[0;31m---------------------------------------------------------------------------\u001b[0m",
      "\u001b[0;31mKeyError\u001b[0m                                  Traceback (most recent call last)",
      "\u001b[0;32m<ipython-input-215-14e179a840eb>\u001b[0m in \u001b[0;36m<module>\u001b[0;34m()\u001b[0m\n\u001b[1;32m      5\u001b[0m \u001b[0mresult\u001b[0m \u001b[0;34m=\u001b[0m \u001b[0mcollection\u001b[0m\u001b[0;34m.\u001b[0m\u001b[0mfind_one\u001b[0m\u001b[0;34m(\u001b[0m\u001b[0mquery\u001b[0m\u001b[0;34m)\u001b[0m\u001b[0;34m\u001b[0m\u001b[0m\n\u001b[1;32m      6\u001b[0m \u001b[0;34m\u001b[0m\u001b[0m\n\u001b[0;32m----> 7\u001b[0;31m pd.read_csv(io.StringIO(result['']),\n\u001b[0m\u001b[1;32m      8\u001b[0m             sep=r'\\s+')\n",
      "\u001b[0;31mKeyError\u001b[0m: ''"
     ]
    }
   ],
   "source": [
    "query = make_query(param=params[3])\n",
    "\n",
    "collection.count(query)\n",
    "\n",
    "result = collection.find_one(query)\n",
    "\n",
    "pd.read_csv(io.StringIO(result['']),\n",
    "            sep=r'\\s+')"
   ]
  },
  {
   "cell_type": "code",
   "execution_count": null,
   "metadata": {
    "collapsed": true
   },
   "outputs": [],
   "source": [
    "\n",
    "io.StringIO()"
   ]
  }
 ],
 "metadata": {
  "kernelspec": {
   "display_name": "Python 3",
   "language": "python",
   "name": "python3"
  },
  "language_info": {
   "codemirror_mode": {
    "name": "ipython",
    "version": 3
   },
   "file_extension": ".py",
   "mimetype": "text/x-python",
   "name": "python",
   "nbconvert_exporter": "python",
   "pygments_lexer": "ipython3",
   "version": "3.6.1"
  }
 },
 "nbformat": 4,
 "nbformat_minor": 2
}
