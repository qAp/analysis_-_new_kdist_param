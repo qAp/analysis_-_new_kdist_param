{
 "cells": [
  {
   "cell_type": "code",
   "execution_count": 398,
   "metadata": {
    "collapsed": true
   },
   "outputs": [],
   "source": [
    "import os\n",
    "import ast\n",
    "import json\n",
    "import importlib \n",
    "import itertools\n",
    "import collections\n",
    "import pprint\n",
    "\n",
    "from bokeh.io import output_notebook, show\n",
    "from bokeh.layouts import gridplot\n",
    "from bokeh.plotting import figure\n",
    "from bokeh.models import Range1d, Legend, ColumnDataSource, FactorRange\n",
    "from bokeh.palettes import all_palettes\n",
    "from bokeh.transform import factor_cmap\n",
    "\n",
    "import matplotlib\n",
    "import matplotlib.pyplot as plt\n",
    "import numpy as np\n",
    "import pandas as pd\n",
    "import xarray as xr\n",
    "\n",
    "\n",
    "import climatools.lblnew.bestfit_params as bestfits\n",
    "from climatools.lblnew import setup_bestfit, setup_overlap\n",
    "import climatools.lblnew.pipeline as pipe_lblnew\n",
    "import climatools.cliradlw.setup as setup_cliradlw\n",
    "import climatools.cliradlw.pipeline as pipe_cliradlw\n",
    "\n",
    "import climatools.html.html as climahtml\n",
    "from climatools.lblnew.dataio import *\n",
    "from climatools.plot.plot import *\n",
    "\n",
    "\n",
    "from IPython import display\n",
    "\n",
    "#importlib.reload(bestfits)\n",
    "#importlib.reload(setup_bestfit)\n",
    "#importlib.reload(setup_overlap)\n",
    "#importlib.reload(pipe_lblnew)\n",
    "#importlib.reload(setup_cliradlw)\n",
    "#importlib.reload(pipe_cliradlw)"
   ]
  },
  {
   "cell_type": "code",
   "execution_count": 399,
   "metadata": {
    "scrolled": true
   },
   "outputs": [
    {
     "data": {
      "text/html": [
       "\n",
       "    <div class=\"bk-root\">\n",
       "        <a href=\"https://bokeh.pydata.org\" target=\"_blank\" class=\"bk-logo bk-logo-small bk-logo-notebook\"></a>\n",
       "        <span id=\"b3c41ed7-def4-4ba7-baaf-1aa167dc2745\">Loading BokehJS ...</span>\n",
       "    </div>"
      ]
     },
     "metadata": {},
     "output_type": "display_data"
    },
    {
     "data": {
      "application/javascript": [
       "\n",
       "(function(root) {\n",
       "  function now() {\n",
       "    return new Date();\n",
       "  }\n",
       "\n",
       "  var force = true;\n",
       "\n",
       "  if (typeof (root._bokeh_onload_callbacks) === \"undefined\" || force === true) {\n",
       "    root._bokeh_onload_callbacks = [];\n",
       "    root._bokeh_is_loading = undefined;\n",
       "  }\n",
       "\n",
       "  var JS_MIME_TYPE = 'application/javascript';\n",
       "  var HTML_MIME_TYPE = 'text/html';\n",
       "  var EXEC_MIME_TYPE = 'application/vnd.bokehjs_exec.v0+json';\n",
       "  var CLASS_NAME = 'output_bokeh rendered_html';\n",
       "\n",
       "  /**\n",
       "   * Render data to the DOM node\n",
       "   */\n",
       "  function render(props, node) {\n",
       "    var script = document.createElement(\"script\");\n",
       "    node.appendChild(script);\n",
       "  }\n",
       "\n",
       "  /**\n",
       "   * Handle when an output is cleared or removed\n",
       "   */\n",
       "  function handleClearOutput(event, handle) {\n",
       "    var cell = handle.cell;\n",
       "\n",
       "    var id = cell.output_area._bokeh_element_id;\n",
       "    var server_id = cell.output_area._bokeh_server_id;\n",
       "    // Clean up Bokeh references\n",
       "    if (id !== undefined) {\n",
       "      Bokeh.index[id].model.document.clear();\n",
       "      delete Bokeh.index[id];\n",
       "    }\n",
       "\n",
       "    if (server_id !== undefined) {\n",
       "      // Clean up Bokeh references\n",
       "      var cmd = \"from bokeh.io.state import curstate; print(curstate().uuid_to_server['\" + server_id + \"'].get_sessions()[0].document.roots[0]._id)\";\n",
       "      cell.notebook.kernel.execute(cmd, {\n",
       "        iopub: {\n",
       "          output: function(msg) {\n",
       "            var element_id = msg.content.text.trim();\n",
       "            Bokeh.index[element_id].model.document.clear();\n",
       "            delete Bokeh.index[element_id];\n",
       "          }\n",
       "        }\n",
       "      });\n",
       "      // Destroy server and session\n",
       "      var cmd = \"import bokeh.io.notebook as ion; ion.destroy_server('\" + server_id + \"')\";\n",
       "      cell.notebook.kernel.execute(cmd);\n",
       "    }\n",
       "  }\n",
       "\n",
       "  /**\n",
       "   * Handle when a new output is added\n",
       "   */\n",
       "  function handleAddOutput(event, handle) {\n",
       "    var output_area = handle.output_area;\n",
       "    var output = handle.output;\n",
       "\n",
       "    // limit handleAddOutput to display_data with EXEC_MIME_TYPE content only\n",
       "    if ((output.output_type != \"display_data\") || (!output.data.hasOwnProperty(EXEC_MIME_TYPE))) {\n",
       "      return\n",
       "    }\n",
       "\n",
       "    var toinsert = output_area.element.find(\".\" + CLASS_NAME.split(' ')[0]);\n",
       "\n",
       "    if (output.metadata[EXEC_MIME_TYPE][\"id\"] !== undefined) {\n",
       "      toinsert[toinsert.length - 1].firstChild.textContent = output.data[JS_MIME_TYPE];\n",
       "      // store reference to embed id on output_area\n",
       "      output_area._bokeh_element_id = output.metadata[EXEC_MIME_TYPE][\"id\"];\n",
       "    }\n",
       "    if (output.metadata[EXEC_MIME_TYPE][\"server_id\"] !== undefined) {\n",
       "      var bk_div = document.createElement(\"div\");\n",
       "      bk_div.innerHTML = output.data[HTML_MIME_TYPE];\n",
       "      var script_attrs = bk_div.children[0].attributes;\n",
       "      for (var i = 0; i < script_attrs.length; i++) {\n",
       "        toinsert[toinsert.length - 1].firstChild.setAttribute(script_attrs[i].name, script_attrs[i].value);\n",
       "      }\n",
       "      // store reference to server id on output_area\n",
       "      output_area._bokeh_server_id = output.metadata[EXEC_MIME_TYPE][\"server_id\"];\n",
       "    }\n",
       "  }\n",
       "\n",
       "  function register_renderer(events, OutputArea) {\n",
       "\n",
       "    function append_mime(data, metadata, element) {\n",
       "      // create a DOM node to render to\n",
       "      var toinsert = this.create_output_subarea(\n",
       "        metadata,\n",
       "        CLASS_NAME,\n",
       "        EXEC_MIME_TYPE\n",
       "      );\n",
       "      this.keyboard_manager.register_events(toinsert);\n",
       "      // Render to node\n",
       "      var props = {data: data, metadata: metadata[EXEC_MIME_TYPE]};\n",
       "      render(props, toinsert[toinsert.length - 1]);\n",
       "      element.append(toinsert);\n",
       "      return toinsert\n",
       "    }\n",
       "\n",
       "    /* Handle when an output is cleared or removed */\n",
       "    events.on('clear_output.CodeCell', handleClearOutput);\n",
       "    events.on('delete.Cell', handleClearOutput);\n",
       "\n",
       "    /* Handle when a new output is added */\n",
       "    events.on('output_added.OutputArea', handleAddOutput);\n",
       "\n",
       "    /**\n",
       "     * Register the mime type and append_mime function with output_area\n",
       "     */\n",
       "    OutputArea.prototype.register_mime_type(EXEC_MIME_TYPE, append_mime, {\n",
       "      /* Is output safe? */\n",
       "      safe: true,\n",
       "      /* Index of renderer in `output_area.display_order` */\n",
       "      index: 0\n",
       "    });\n",
       "  }\n",
       "\n",
       "  // register the mime type if in Jupyter Notebook environment and previously unregistered\n",
       "  if (root.Jupyter !== undefined) {\n",
       "    var events = require('base/js/events');\n",
       "    var OutputArea = require('notebook/js/outputarea').OutputArea;\n",
       "\n",
       "    if (OutputArea.prototype.mime_types().indexOf(EXEC_MIME_TYPE) == -1) {\n",
       "      register_renderer(events, OutputArea);\n",
       "    }\n",
       "  }\n",
       "\n",
       "  \n",
       "  if (typeof (root._bokeh_timeout) === \"undefined\" || force === true) {\n",
       "    root._bokeh_timeout = Date.now() + 5000;\n",
       "    root._bokeh_failed_load = false;\n",
       "  }\n",
       "\n",
       "  var NB_LOAD_WARNING = {'data': {'text/html':\n",
       "     \"<div style='background-color: #fdd'>\\n\"+\n",
       "     \"<p>\\n\"+\n",
       "     \"BokehJS does not appear to have successfully loaded. If loading BokehJS from CDN, this \\n\"+\n",
       "     \"may be due to a slow or bad network connection. Possible fixes:\\n\"+\n",
       "     \"</p>\\n\"+\n",
       "     \"<ul>\\n\"+\n",
       "     \"<li>re-rerun `output_notebook()` to attempt to load from CDN again, or</li>\\n\"+\n",
       "     \"<li>use INLINE resources instead, as so:</li>\\n\"+\n",
       "     \"</ul>\\n\"+\n",
       "     \"<code>\\n\"+\n",
       "     \"from bokeh.resources import INLINE\\n\"+\n",
       "     \"output_notebook(resources=INLINE)\\n\"+\n",
       "     \"</code>\\n\"+\n",
       "     \"</div>\"}};\n",
       "\n",
       "  function display_loaded() {\n",
       "    var el = document.getElementById(\"b3c41ed7-def4-4ba7-baaf-1aa167dc2745\");\n",
       "    if (el != null) {\n",
       "      el.textContent = \"BokehJS is loading...\";\n",
       "    }\n",
       "    if (root.Bokeh !== undefined) {\n",
       "      if (el != null) {\n",
       "        el.textContent = \"BokehJS \" + root.Bokeh.version + \" successfully loaded.\";\n",
       "      }\n",
       "    } else if (Date.now() < root._bokeh_timeout) {\n",
       "      setTimeout(display_loaded, 100)\n",
       "    }\n",
       "  }\n",
       "\n",
       "\n",
       "  function run_callbacks() {\n",
       "    try {\n",
       "      root._bokeh_onload_callbacks.forEach(function(callback) { callback() });\n",
       "    }\n",
       "    finally {\n",
       "      delete root._bokeh_onload_callbacks\n",
       "    }\n",
       "    console.info(\"Bokeh: all callbacks have finished\");\n",
       "  }\n",
       "\n",
       "  function load_libs(js_urls, callback) {\n",
       "    root._bokeh_onload_callbacks.push(callback);\n",
       "    if (root._bokeh_is_loading > 0) {\n",
       "      console.log(\"Bokeh: BokehJS is being loaded, scheduling callback at\", now());\n",
       "      return null;\n",
       "    }\n",
       "    if (js_urls == null || js_urls.length === 0) {\n",
       "      run_callbacks();\n",
       "      return null;\n",
       "    }\n",
       "    console.log(\"Bokeh: BokehJS not loaded, scheduling load and callback at\", now());\n",
       "    root._bokeh_is_loading = js_urls.length;\n",
       "    for (var i = 0; i < js_urls.length; i++) {\n",
       "      var url = js_urls[i];\n",
       "      var s = document.createElement('script');\n",
       "      s.src = url;\n",
       "      s.async = false;\n",
       "      s.onreadystatechange = s.onload = function() {\n",
       "        root._bokeh_is_loading--;\n",
       "        if (root._bokeh_is_loading === 0) {\n",
       "          console.log(\"Bokeh: all BokehJS libraries loaded\");\n",
       "          run_callbacks()\n",
       "        }\n",
       "      };\n",
       "      s.onerror = function() {\n",
       "        console.warn(\"failed to load library \" + url);\n",
       "      };\n",
       "      console.log(\"Bokeh: injecting script tag for BokehJS library: \", url);\n",
       "      document.getElementsByTagName(\"head\")[0].appendChild(s);\n",
       "    }\n",
       "  };var element = document.getElementById(\"b3c41ed7-def4-4ba7-baaf-1aa167dc2745\");\n",
       "  if (element == null) {\n",
       "    console.log(\"Bokeh: ERROR: autoload.js configured with elementid 'b3c41ed7-def4-4ba7-baaf-1aa167dc2745' but no matching script tag was found. \")\n",
       "    return false;\n",
       "  }\n",
       "\n",
       "  var js_urls = [\"https://cdn.pydata.org/bokeh/release/bokeh-0.12.16.min.js\", \"https://cdn.pydata.org/bokeh/release/bokeh-widgets-0.12.16.min.js\", \"https://cdn.pydata.org/bokeh/release/bokeh-tables-0.12.16.min.js\", \"https://cdn.pydata.org/bokeh/release/bokeh-gl-0.12.16.min.js\"];\n",
       "\n",
       "  var inline_js = [\n",
       "    function(Bokeh) {\n",
       "      Bokeh.set_log_level(\"info\");\n",
       "    },\n",
       "    \n",
       "    function(Bokeh) {\n",
       "      \n",
       "    },\n",
       "    function(Bokeh) {\n",
       "      console.log(\"Bokeh: injecting CSS: https://cdn.pydata.org/bokeh/release/bokeh-0.12.16.min.css\");\n",
       "      Bokeh.embed.inject_css(\"https://cdn.pydata.org/bokeh/release/bokeh-0.12.16.min.css\");\n",
       "      console.log(\"Bokeh: injecting CSS: https://cdn.pydata.org/bokeh/release/bokeh-widgets-0.12.16.min.css\");\n",
       "      Bokeh.embed.inject_css(\"https://cdn.pydata.org/bokeh/release/bokeh-widgets-0.12.16.min.css\");\n",
       "      console.log(\"Bokeh: injecting CSS: https://cdn.pydata.org/bokeh/release/bokeh-tables-0.12.16.min.css\");\n",
       "      Bokeh.embed.inject_css(\"https://cdn.pydata.org/bokeh/release/bokeh-tables-0.12.16.min.css\");\n",
       "    }\n",
       "  ];\n",
       "\n",
       "  function run_inline_js() {\n",
       "    \n",
       "    if ((root.Bokeh !== undefined) || (force === true)) {\n",
       "      for (var i = 0; i < inline_js.length; i++) {\n",
       "        inline_js[i].call(root, root.Bokeh);\n",
       "      }if (force === true) {\n",
       "        display_loaded();\n",
       "      }} else if (Date.now() < root._bokeh_timeout) {\n",
       "      setTimeout(run_inline_js, 100);\n",
       "    } else if (!root._bokeh_failed_load) {\n",
       "      console.log(\"Bokeh: BokehJS failed to load within specified timeout.\");\n",
       "      root._bokeh_failed_load = true;\n",
       "    } else if (force !== true) {\n",
       "      var cell = $(document.getElementById(\"b3c41ed7-def4-4ba7-baaf-1aa167dc2745\")).parents('.cell').data().cell;\n",
       "      cell.output_area.append_execute_result(NB_LOAD_WARNING)\n",
       "    }\n",
       "\n",
       "  }\n",
       "\n",
       "  if (root._bokeh_is_loading === 0) {\n",
       "    console.log(\"Bokeh: BokehJS loaded, going straight to plotting\");\n",
       "    run_inline_js();\n",
       "  } else {\n",
       "    load_libs(js_urls, function() {\n",
       "      console.log(\"Bokeh: BokehJS plotting callback run at\", now());\n",
       "      run_inline_js();\n",
       "    });\n",
       "  }\n",
       "}(window));"
      ],
      "application/vnd.bokehjs_load.v0+json": "\n(function(root) {\n  function now() {\n    return new Date();\n  }\n\n  var force = true;\n\n  if (typeof (root._bokeh_onload_callbacks) === \"undefined\" || force === true) {\n    root._bokeh_onload_callbacks = [];\n    root._bokeh_is_loading = undefined;\n  }\n\n  \n\n  \n  if (typeof (root._bokeh_timeout) === \"undefined\" || force === true) {\n    root._bokeh_timeout = Date.now() + 5000;\n    root._bokeh_failed_load = false;\n  }\n\n  var NB_LOAD_WARNING = {'data': {'text/html':\n     \"<div style='background-color: #fdd'>\\n\"+\n     \"<p>\\n\"+\n     \"BokehJS does not appear to have successfully loaded. If loading BokehJS from CDN, this \\n\"+\n     \"may be due to a slow or bad network connection. Possible fixes:\\n\"+\n     \"</p>\\n\"+\n     \"<ul>\\n\"+\n     \"<li>re-rerun `output_notebook()` to attempt to load from CDN again, or</li>\\n\"+\n     \"<li>use INLINE resources instead, as so:</li>\\n\"+\n     \"</ul>\\n\"+\n     \"<code>\\n\"+\n     \"from bokeh.resources import INLINE\\n\"+\n     \"output_notebook(resources=INLINE)\\n\"+\n     \"</code>\\n\"+\n     \"</div>\"}};\n\n  function display_loaded() {\n    var el = document.getElementById(\"b3c41ed7-def4-4ba7-baaf-1aa167dc2745\");\n    if (el != null) {\n      el.textContent = \"BokehJS is loading...\";\n    }\n    if (root.Bokeh !== undefined) {\n      if (el != null) {\n        el.textContent = \"BokehJS \" + root.Bokeh.version + \" successfully loaded.\";\n      }\n    } else if (Date.now() < root._bokeh_timeout) {\n      setTimeout(display_loaded, 100)\n    }\n  }\n\n\n  function run_callbacks() {\n    try {\n      root._bokeh_onload_callbacks.forEach(function(callback) { callback() });\n    }\n    finally {\n      delete root._bokeh_onload_callbacks\n    }\n    console.info(\"Bokeh: all callbacks have finished\");\n  }\n\n  function load_libs(js_urls, callback) {\n    root._bokeh_onload_callbacks.push(callback);\n    if (root._bokeh_is_loading > 0) {\n      console.log(\"Bokeh: BokehJS is being loaded, scheduling callback at\", now());\n      return null;\n    }\n    if (js_urls == null || js_urls.length === 0) {\n      run_callbacks();\n      return null;\n    }\n    console.log(\"Bokeh: BokehJS not loaded, scheduling load and callback at\", now());\n    root._bokeh_is_loading = js_urls.length;\n    for (var i = 0; i < js_urls.length; i++) {\n      var url = js_urls[i];\n      var s = document.createElement('script');\n      s.src = url;\n      s.async = false;\n      s.onreadystatechange = s.onload = function() {\n        root._bokeh_is_loading--;\n        if (root._bokeh_is_loading === 0) {\n          console.log(\"Bokeh: all BokehJS libraries loaded\");\n          run_callbacks()\n        }\n      };\n      s.onerror = function() {\n        console.warn(\"failed to load library \" + url);\n      };\n      console.log(\"Bokeh: injecting script tag for BokehJS library: \", url);\n      document.getElementsByTagName(\"head\")[0].appendChild(s);\n    }\n  };var element = document.getElementById(\"b3c41ed7-def4-4ba7-baaf-1aa167dc2745\");\n  if (element == null) {\n    console.log(\"Bokeh: ERROR: autoload.js configured with elementid 'b3c41ed7-def4-4ba7-baaf-1aa167dc2745' but no matching script tag was found. \")\n    return false;\n  }\n\n  var js_urls = [\"https://cdn.pydata.org/bokeh/release/bokeh-0.12.16.min.js\", \"https://cdn.pydata.org/bokeh/release/bokeh-widgets-0.12.16.min.js\", \"https://cdn.pydata.org/bokeh/release/bokeh-tables-0.12.16.min.js\", \"https://cdn.pydata.org/bokeh/release/bokeh-gl-0.12.16.min.js\"];\n\n  var inline_js = [\n    function(Bokeh) {\n      Bokeh.set_log_level(\"info\");\n    },\n    \n    function(Bokeh) {\n      \n    },\n    function(Bokeh) {\n      console.log(\"Bokeh: injecting CSS: https://cdn.pydata.org/bokeh/release/bokeh-0.12.16.min.css\");\n      Bokeh.embed.inject_css(\"https://cdn.pydata.org/bokeh/release/bokeh-0.12.16.min.css\");\n      console.log(\"Bokeh: injecting CSS: https://cdn.pydata.org/bokeh/release/bokeh-widgets-0.12.16.min.css\");\n      Bokeh.embed.inject_css(\"https://cdn.pydata.org/bokeh/release/bokeh-widgets-0.12.16.min.css\");\n      console.log(\"Bokeh: injecting CSS: https://cdn.pydata.org/bokeh/release/bokeh-tables-0.12.16.min.css\");\n      Bokeh.embed.inject_css(\"https://cdn.pydata.org/bokeh/release/bokeh-tables-0.12.16.min.css\");\n    }\n  ];\n\n  function run_inline_js() {\n    \n    if ((root.Bokeh !== undefined) || (force === true)) {\n      for (var i = 0; i < inline_js.length; i++) {\n        inline_js[i].call(root, root.Bokeh);\n      }if (force === true) {\n        display_loaded();\n      }} else if (Date.now() < root._bokeh_timeout) {\n      setTimeout(run_inline_js, 100);\n    } else if (!root._bokeh_failed_load) {\n      console.log(\"Bokeh: BokehJS failed to load within specified timeout.\");\n      root._bokeh_failed_load = true;\n    } else if (force !== true) {\n      var cell = $(document.getElementById(\"b3c41ed7-def4-4ba7-baaf-1aa167dc2745\")).parents('.cell').data().cell;\n      cell.output_area.append_execute_result(NB_LOAD_WARNING)\n    }\n\n  }\n\n  if (root._bokeh_is_loading === 0) {\n    console.log(\"Bokeh: BokehJS loaded, going straight to plotting\");\n    run_inline_js();\n  } else {\n    load_libs(js_urls, function() {\n      console.log(\"Bokeh: BokehJS plotting callback run at\", now());\n      run_inline_js();\n    });\n  }\n}(window));"
     },
     "metadata": {},
     "output_type": "display_data"
    }
   ],
   "source": [
    "output_notebook()"
   ]
  },
  {
   "cell_type": "code",
   "execution_count": 400,
   "metadata": {
    "collapsed": true
   },
   "outputs": [],
   "source": [
    "'''\n",
    "Get the clirad-lw and lblnew `param`s for all spectral bands.  \n",
    "These are returned by functions `clirad_params_atm` and\n",
    "`lblnew_params_atm`, respectively.\n",
    "'''\n",
    "\n",
    "def molecules_byband_atm():\n",
    "    return {1: {'h2o': 'atmpro'},\n",
    "            2: {'h2o': 'atmpro'}, \n",
    "            3: {'co2': 0.0004, 'h2o': 'atmpro', 'n2o': 3.2e-07},\n",
    "            4: {'co2': 0.0004, 'h2o': 'atmpro'},\n",
    "            5: {'co2': 0.0004, 'h2o': 'atmpro'},\n",
    "            6: {'co2': 0.0004, 'h2o': 'atmpro'},\n",
    "            7: {'co2': 0.0004, 'h2o': 'atmpro', 'o3': 'atmpro'},\n",
    "            8: {'h2o': 'atmpro'},\n",
    "            9: {'ch4': 1.8e-06, 'h2o': 'atmpro', 'n2o': 3.2e-07},\n",
    "            10: {'h2o': 'atmpro'},\n",
    "            11: {'co2': 0.0004, 'h2o': 'atmpro'}}\n",
    "\n",
    "\n",
    "def greyabsorbers_by_band_atm():\n",
    "    return {1: None,\n",
    "            2: None,\n",
    "            3: None,\n",
    "            4: None,\n",
    "            5: None,\n",
    "            6: None, \n",
    "            7: None,\n",
    "            8: {'n2o': 3.2e-7}, \n",
    "            9: None, \n",
    "            10: None,\n",
    "            11: None}\n",
    "\n",
    "\n",
    "def clirad_params_atm(atmpro='mls'):\n",
    "    d = {}\n",
    "    for band, molecule in molecules_byband_atm().items():\n",
    "        for param in setup_cliradlw.test_cases():\n",
    "            if [band] == param['band'] and molecule == param['molecule']:\n",
    "                param['atmpro'] = atmpro\n",
    "                d[band] = param\n",
    "                break                \n",
    "    return d\n",
    "\n",
    "\n",
    "def clirad_params_atm_singlerun(atmpro='mls'):\n",
    "    '''\n",
    "    Returns param of clirad-lw run that is equivalent to the total\n",
    "    of all the runs listed in molecules_byband_atm().  In order\n",
    "    for the output to be compatible with clirad_data_atm(), it will\n",
    "    be a list.\n",
    "    '''\n",
    "    param0 = {'band': [1, 2, 3, 4, 5, 6, 7, 8, 9, 10, 11],\n",
    "              'commitnumber': '31e448b',\n",
    "              'molecule': {'ch4': 1.8e-06,\n",
    "                           'co2': 0.0004,\n",
    "                           'h2o': 'atmpro',\n",
    "                           'n2o': 3.2e-07,\n",
    "                           'o3': 'atmpro'}}\n",
    "    \n",
    "    d_atmpros = {'mls': 294, 'saw': 257, 'trp': 300}\n",
    "    \n",
    "    param = param0.copy()\n",
    "    param['atmpro'] = atmpro\n",
    "    param['tsfc'] = d_atmpros[atmpro]\n",
    "    \n",
    "    d = {}\n",
    "    d['all'] = param\n",
    "    return d\n",
    "\n",
    "\n",
    "def analysis_dirs_atm(atmpro='mls'):\n",
    "    params = clirad_params_atm(atmpro=atmpro)\n",
    "    return {band: pipe_cliradlw.get_analysis_dir(param=param,\n",
    "                                                 setup=setup_cliradlw) \n",
    "            for band, param in params.items()}\n",
    "\n",
    "\n",
    "def lblnew_params_atm(atmpro='mls'):\n",
    "    dirs = analysis_dirs_atm(atmpro=atmpro)\n",
    "    \n",
    "    d = {}\n",
    "    for band, dirname in dirs.items():\n",
    "        with open(os.path.join(dirname, 'param.py'), \n",
    "                  mode='r', encoding='utf-8') as f:\n",
    "            _, l = f.readlines()\n",
    "        \n",
    "        s = l.split('=')[1].strip()\n",
    "        d[band] = ast.literal_eval(s)\n",
    "        \n",
    "    return d\n"
   ]
  },
  {
   "cell_type": "code",
   "execution_count": 401,
   "metadata": {
    "collapsed": true
   },
   "outputs": [],
   "source": [
    "def db_getdir():\n",
    "    atmpro = 'mls'\n",
    "    params = clirad_params_atm_singlerun(atmpro=atmpro)\n",
    "    param = params['all']\n",
    "    \n",
    "    fdir = pipe_cliradlw.get_fortran_dir(param=param, \n",
    "                                         setup=setup_cliradlw)\n",
    "    return fdir\n",
    "\n",
    "\n",
    "def db_ktable():\n",
    "    fdir = db_getdir()    \n",
    "    fpath = os.path.join(fdir, 'ktable.dat')\n",
    "    \n",
    "    df = pd.read_csv(fpath, sep=r'\\s+')\n",
    "    df = df.set_index(['band', 'mid', 'il', 'it', 'g'])\n",
    "    ds = xr.Dataset.from_dataframe(df)\n",
    "    return ds\n",
    "\n",
    "\n",
    "def db_ng_dgs():\n",
    "    fdir = db_getdir()\n",
    "    fpath = os.path.join(fdir, 'ng_dgs.dat')\n",
    "    \n",
    "    df = pd.read_csv(fpath, sep=r'\\s+')\n",
    "    df = df.set_index(['band', 'mid', 'g'])\n",
    "    ds = xr.Dataset.from_dataframe(df)\n",
    "    return ds\n"
   ]
  },
  {
   "cell_type": "code",
   "execution_count": 402,
   "metadata": {
    "collapsed": true
   },
   "outputs": [],
   "source": [
    "def show_makeup():\n",
    "    df = pd.DataFrame()\n",
    "\n",
    "    for band, molecule in molecules_byband_atm().items():\n",
    "        for name, conc in molecule.items():\n",
    "            df.loc[name, band] = str(conc)\n",
    "\n",
    "    df = df.fillna(0)\n",
    "    df.columns.name = 'clirad band'\n",
    "    df.index.name = 'molecule'\n",
    "    \n",
    "    display.display(df)\n",
    "    \n",
    "    display.display(\n",
    "        display.Markdown('*TABLE.* Non-grey absorbers in the atmosphere.'))\n",
    "\n",
    "\n",
    "def show_grey_makeup():\n",
    "    df = pd.DataFrame()\n",
    "    \n",
    "    for band, molecule in greyabsorbers_by_band_atm().items():\n",
    "        if molecule == None:\n",
    "            pass\n",
    "        else:\n",
    "            for name, conc in molecule.items():\n",
    "                df.loc[name, band] = str(conc)\n",
    "                \n",
    "    df = df.fillna(0)\n",
    "    df.columns.name = 'clirad band'\n",
    "    df.index.name = 'absorber'\n",
    "    \n",
    "    display.display(df)\n",
    "    display.display(\n",
    "        display.Markdown('*TABLE.* Grey absorbers in the atmosphere.')\n",
    "    )"
   ]
  },
  {
   "cell_type": "code",
   "execution_count": 403,
   "metadata": {
    "collapsed": true
   },
   "outputs": [],
   "source": [
    "def load_output_file(path_csv):\n",
    "    '''\n",
    "    Load lblnew output .csv file to xarray.Dataset\n",
    "    \n",
    "    Parameters\n",
    "    ----------\n",
    "    path_csv: str\n",
    "              Path to the .csv file to be loaded.\n",
    "    ds: xarray.Dataset\n",
    "        Data in the input file in the form of an xarray.Dataset.\n",
    "    '''\n",
    "    toindex = ['band', 'pressure', 'igg', 'g']    \n",
    "    df = pd.read_csv(path_csv, sep=r'\\s+')\n",
    "    df = df.set_index([i for i in toindex if i in df.columns])\n",
    "    df = df.rename(columns={'sfu': 'flug',\n",
    "                            'sfd': 'fldg',\n",
    "                            'fnet': 'fnetg',\n",
    "                            'coolr': 'coolrg'})\n",
    "    ds = xr.Dataset.from_dataframe(df)\n",
    "\n",
    "    for l in ('level', 'layer'):\n",
    "        if l in ds.data_vars:\n",
    "            if len(ds[l].dims) > 1:\n",
    "                surface = {d: 0 for d in ds.dims if d != 'pressure'}\n",
    "                coord_level = ds[l][surface]\n",
    "                ds.coords[l] = ('pressure', coord_level)\n",
    "            else:\n",
    "                ds.coords[l] = ('pressure', ds[l])\n",
    "    \n",
    "    return ds"
   ]
  },
  {
   "cell_type": "code",
   "execution_count": 404,
   "metadata": {
    "collapsed": true
   },
   "outputs": [],
   "source": [
    "def lblnew_setup(param=None):\n",
    "    if 'ng_refs' in param:\n",
    "        return {'setup': setup_bestfit,\n",
    "                'fname_flux_crd': 'output_flux.dat',\n",
    "                'fname_cool_crd': 'output_coolr.dat',\n",
    "                'fname_flux_wgt': 'output_wfluxg.dat',\n",
    "                'fname_cool_wgt': 'output_wcoolrg.dat'}\n",
    "    else:\n",
    "        return {'setup': setup_overlap,\n",
    "                'fname_flux_crd': 'output_flux.dat',\n",
    "                'fname_cool_crd': 'output_coolr.dat',\n",
    "                'fname_flux_wgt': 'output_wflux.dat',\n",
    "                'fname_cool_wgt': 'output_wcoolr.dat'}\n",
    "\n",
    "    \n",
    "def load_lblnew_data(param):\n",
    "    \n",
    "    fname_dsname = [('fname_flux_crd', 'ds_flux_crd'),\n",
    "                    ('fname_cool_crd', 'ds_cool_crd'),\n",
    "                    ('fname_flux_wgt', 'ds_flux_wgt'),\n",
    "                    ('fname_cool_wgt', 'ds_cool_wgt')]\n",
    "    \n",
    "    d = lblnew_setup(param)\n",
    "    dir_fortran = pipe_lblnew.get_dir_case(param, setup=d['setup'])\n",
    "    \n",
    "    data_dict = {}\n",
    "    for fname, dsname in fname_dsname:\n",
    "        fpath = os.path.join(dir_fortran, d[fname])\n",
    "        data_dict[dsname] = load_output_file(fpath)\n",
    "    return data_dict"
   ]
  },
  {
   "cell_type": "code",
   "execution_count": 405,
   "metadata": {
    "collapsed": true
   },
   "outputs": [],
   "source": [
    "def crd_data_atm(params_atm):\n",
    "    '''\n",
    "    Parameters\n",
    "    ----------\n",
    "    \n",
    "    params_atm: dict\n",
    "                Parameter dictionary for each band.\n",
    "                \n",
    "    d: dict\n",
    "       'flux': xr.Dataset. [pressure, band]\n",
    "               Fluxes.\n",
    "       'cool': xr.Dataset. [pressure, band]\n",
    "               Cooling rate.\n",
    "    \n",
    "    '''\n",
    "    \n",
    "    results_atm = {band: load_lblnew_data(param) \n",
    "                   for band, param in params_atm.items()}\n",
    "    \n",
    "    bands = [band for band, _ in params_atm.items()]\n",
    "    fluxs = [d['ds_flux_crd'] for _, d in results_atm.items()]\n",
    "    cools = [d['ds_cool_crd'] for _, d in results_atm.items()]\n",
    "    \n",
    "    d = {}\n",
    "    d['flux'] = xr.concat(fluxs, dim=bands).rename({'concat_dim': 'band'})\n",
    "    d['cool'] = xr.concat(cools, dim=bands).rename({'concat_dim': 'band'})\n",
    "    return d        \n",
    "        \n",
    "        \n",
    "\n",
    "def clirad_data_atm(params_atm):\n",
    "    \n",
    "    dirnames = [pipe_cliradlw.get_fortran_dir(param,\n",
    "                                              setup=setup_cliradlw)\n",
    "                for _, param in params_atm.items()]\n",
    "    \n",
    "    fpaths_flux = [os.path.join(n, 'output_flux.dat') for n in dirnames]\n",
    "    fpaths_cool = [os.path.join(n, 'output_coolr.dat') for n in dirnames]\n",
    "    \n",
    "    fluxs = [load_output_file(p) for p in fpaths_flux]    \n",
    "    cools = [load_output_file(p) for p in fpaths_cool]\n",
    "    \n",
    "    d = {}\n",
    "    d['flux'] = sum(fluxs)\n",
    "    d['cool'] = sum(cools)\n",
    "    return d\n",
    "\n"
   ]
  },
  {
   "cell_type": "code",
   "execution_count": 406,
   "metadata": {
    "collapsed": true
   },
   "outputs": [],
   "source": [
    "\n",
    "\n",
    "import rtmtools.clirad.sw.wrangle as cliradwrangle\n",
    "\n",
    "import importlib\n",
    "importlib.reload(cliradwrangle)\n",
    "\n",
    "def oldclirad_data_atm():\n",
    "    '''\n",
    "    Load the OLD clirad's results. mls only.\n",
    "    '''\n",
    "    fpath = os.path.join('/chia_cluster/home/jackyu/radiation',\n",
    "                         'clirad-lw',\n",
    "                         'LW',\n",
    "                         'examples',\n",
    "                         'mls75_h2o_atmpro_co2_.0004_o3_atmpro_n2o_3.2e-7_ch4_1.8e-6_H2012',\n",
    "                         'OUTPUT_CLIRAD.dat')\n",
    "    \n",
    "    ds = cliradwrangle.load_OUTPUT_CLIRAD(readfrom=fpath)\n",
    "    \n",
    "    ds_cool = xr.Dataset()\n",
    "    ds_cool.coords['pressure'] = ('pressure', ds['layer_pressure'])\n",
    "    ds_cool.coords['band'] = ('band', ds['spectral_band'])\n",
    "    ds_cool['coolrg'] = (('band', 'pressure'), - ds['heating_rate'])\n",
    "    \n",
    "    ds_flux = xr.Dataset()\n",
    "    ds_flux.coords['pressure'] = ('pressure', ds['level_pressure'])\n",
    "    ds_flux.coords['band'] = ('band', ds['spectral_band'])\n",
    "    ds_flux['flug'] = (('band', 'pressure'), ds['flux_up'])\n",
    "    ds_flux['fldg'] = (('band', 'pressure'), ds['flux_down'])\n",
    "    ds_flux['fnetg'] = (('band', 'pressure'), ds['net_flux'])\n",
    "    \n",
    "    \n",
    "    d = {}\n",
    "    d['cool'] = ds_cool\n",
    "    d['flux'] = ds_flux\n",
    "    return d\n"
   ]
  },
  {
   "cell_type": "code",
   "execution_count": 407,
   "metadata": {
    "collapsed": true
   },
   "outputs": [],
   "source": [
    "def fmt_cool(ds_in):\n",
    "    ds = ds_in.copy(deep=True)\n",
    "    if 'igg' in ds.dims:\n",
    "        ds = ds.sel(igg=1)\n",
    "\n",
    "    if 'g' in ds.dims:\n",
    "        ds = ds.sum('g')\n",
    "            \n",
    "    if 'band' in ds.dims:\n",
    "        try:\n",
    "            ds = ds.squeeze('band')\n",
    "        except ValueError:\n",
    "            ds = ds.sum('band')\n",
    "                \n",
    "    return ds['coolrg']\n",
    "\n",
    "\n",
    "\n",
    "def nice_xlims(pltdata=None, prange=None):\n",
    "    \n",
    "    def get_slice(srs):\n",
    "        return srs.sel(pressure=slice(*prange))\n",
    "    \n",
    "    srss = [d['srs'] for d in pltdata]\n",
    "    vmin = min([get_slice(srs).min() for srs in srss])\n",
    "    vmax = max([get_slice(srs).max() for srs in srss])\n",
    "    dv = (vmax - vmin) * .01\n",
    "    return float(vmin - dv), float(vmax + dv)\n",
    "\n",
    "\n",
    "    \n",
    "def plt_cool_bokeh(pltdata=None, \n",
    "                   y_axis_type='linear', prange=(50, 1050)):\n",
    "    \n",
    "    ymin = 1e-2 \n",
    "    ymax = 1020\n",
    "    \n",
    "    p2 = figure(y_axis_type=y_axis_type, plot_width=300)\n",
    "    xmin, xmax = nice_xlims(pltdata, prange=prange)\n",
    "    \n",
    "    rs = []\n",
    "    for d in pltdata:\n",
    "        rd = []\n",
    "        if 'marker' in d:\n",
    "            r_mark = getattr(p2, d['marker'])(d['srs'].values, \n",
    "                        d['srs'].coords['pressure'].values,\n",
    "                        color=d['color'], alpha=.7)\n",
    "            rd.append(r_mark)\n",
    "        r_line = p2.line(d['srs'].values, \n",
    "                         d['srs'].coords['pressure'].values,\n",
    "                         color=d['color'], alpha=d['alpha'], \n",
    "                         line_width=d['line_width'], \n",
    "                         line_dash=d['line_dash'])\n",
    "        rd.append(r_line)\n",
    "      \n",
    "        rs.append(rd)\n",
    "        \n",
    "    p2.y_range = Range1d(ymax, ymin)  \n",
    "    p2.yaxis.axis_label = 'pressure [mb]'\n",
    "    \n",
    "    p2.x_range = Range1d(xmin, xmax)\n",
    "    p2.xaxis.axis_label = 'cooling rate [K/day]'\n",
    "    \n",
    "    items = [(d['label'], r) for r, d in zip(rs, pltdata)]\n",
    "    legend = Legend(items=items, location=(10, 0))\n",
    "    legend.label_text_font_size = '8pt'\n",
    "    p2.add_layout(legend, 'above')\n",
    "    p2.legend.orientation = 'horizontal'\n",
    "    p2.legend.location = 'top_center'\n",
    "    \n",
    "    return p2"
   ]
  },
  {
   "cell_type": "code",
   "execution_count": 408,
   "metadata": {
    "collapsed": true
   },
   "outputs": [],
   "source": [
    "def pltdata_cool(atmpro='mls'):\n",
    "    \n",
    "    d_clirad_singlerun = clirad_data_atm(\n",
    "        clirad_params_atm_singlerun(atmpro=atmpro))\n",
    "    d_clirad = clirad_data_atm(clirad_params_atm(atmpro=atmpro))\n",
    "    d_crd = crd_data_atm(lblnew_params_atm(atmpro=atmpro))\n",
    "\n",
    "    ds_clirad_singlerun = d_clirad_singlerun['cool']\n",
    "    ds_clirad = d_clirad['cool']\n",
    "    ds_crd = d_crd['cool']\n",
    "\n",
    "    colors = all_palettes['Set1'][4]\n",
    "    \n",
    "    data = [\n",
    "        {'label': 'CLIRAD (single-run)',\n",
    "        'srs': fmt_cool(ds_clirad_singlerun),\n",
    "        'line_dash': 'dashed', 'line_width': 5,\n",
    "        'color': colors[1], 'alpha': .6},\n",
    "        {'label': 'CRD',\n",
    "         'srs': fmt_cool(ds_crd),\n",
    "         'line_dash': 'solid', 'line_width': 1.5,\n",
    "         'marker': 'circle', 'marker_size': 5,\n",
    "         'color': colors[2], 'alpha': 1}\n",
    "    ]\n",
    "#        {'label': 'CLIRAD',\n",
    "#         'srs': fmt_cool(ds_clirad),\n",
    "#         'line_dash': 'dashed', 'line_width': 5,\n",
    "#         'color': colors[0], 'alpha': .6}\n",
    "        \n",
    "\n",
    "    \n",
    "    # include old CLIRAD's results for mls profile\n",
    "    if atmpro == 'mls':\n",
    "        d_oldclirad = oldclirad_data_atm()\n",
    "        ds_oldclirad = d_oldclirad['cool']        \n",
    "        data.append(\n",
    "            {'label': 'old CLIRAD (H2012)',\n",
    "             'srs': fmt_cool(ds_oldclirad),\n",
    "             'line_dash': 'solid', 'line_width': 1.5,\n",
    "             'marker': 'square', 'marker_size': 3,\n",
    "             'color': colors[3], 'alpha': .5})\n",
    "    return data\n",
    "\n",
    "\n",
    "def pltdata_cooldiff(atmpro='mls'):\n",
    "    \n",
    "    d_clirad_singlerun = clirad_data_atm(\n",
    "        clirad_params_atm_singlerun(atmpro=atmpro))\n",
    "    d_clirad = clirad_data_atm(clirad_params_atm(atmpro=atmpro))\n",
    "    d_crd = crd_data_atm(lblnew_params_atm(atmpro=atmpro))\n",
    "    \n",
    "    ds_clirad_singlerun = d_clirad_singlerun['cool']\n",
    "    ds_clirad = d_clirad['cool']\n",
    "    ds_crd = d_crd['cool']\n",
    "    \n",
    "    ds_diff = ds_clirad_singlerun - ds_crd\n",
    "    \n",
    "    colors = all_palettes['Set1'][4]\n",
    "    \n",
    "    data = [\n",
    "        {'label': 'CLIRAD (single-run) - CRD',\n",
    "         'srs': fmt_cool(ds_diff),\n",
    "         'line_dash': 'solid', 'line_width': 1.5, \n",
    "         'marker': 'circle', 'marker_size': 7,\n",
    "         'color': colors[3], 'alpha': .8}\n",
    "    ]\n",
    "    \n",
    "    # include old CLIRAD's results for mls profile\n",
    "    if atmpro == 'mls':\n",
    "        d_oldclirad = oldclirad_data_atm()\n",
    "        ds_oldclirad = d_oldclirad['cool']\n",
    "        ds_oldclirad.coords['pressure'] = ds_crd.coords['pressure']\n",
    "        ds_diff_old = ds_oldclirad.sum('band') - ds_crd.sum('band')\n",
    "        data.append(\n",
    "            {'label': 'old CLIRAD (H2012) - CRD',\n",
    "             'srs': fmt_cool(ds_diff_old),\n",
    "             'line_dash': 'dashed', 'line_width': 4,\n",
    "             'color': colors[1], 'alpha': .5}\n",
    "        )\n",
    "    return data\n",
    "\n",
    "\n",
    "def show_cool(atmpro='mls'):\n",
    "    \n",
    "    data_cool = pltdata_cool(atmpro=atmpro)\n",
    "    p_cool_liny = plt_cool_bokeh(pltdata=data_cool)\n",
    "    p_cool_logy = plt_cool_bokeh(pltdata=data_cool, \n",
    "                                 y_axis_type='log',\n",
    "                                 prange=(.01, 200))\n",
    "    \n",
    "    data_cooldiff = pltdata_cooldiff(atmpro=atmpro)\n",
    "    p_cooldiff_logy = plt_cool_bokeh(pltdata=data_cooldiff,\n",
    "                                     y_axis_type='log',\n",
    "                                     prange=(.01, 200))\n",
    "    \n",
    "    everything = gridplot(p_cool_liny, p_cool_logy, \n",
    "                          p_cooldiff_logy,\n",
    "                          ncols=3)\n",
    "    show(everything)\n",
    "    display.display(\n",
    "        display.Markdown('*FIGURE.* Cooling rates & difference.'))\n",
    "\n",
    "\n",
    "    "
   ]
  },
  {
   "cell_type": "code",
   "execution_count": null,
   "metadata": {
    "collapsed": true
   },
   "outputs": [],
   "source": []
  },
  {
   "cell_type": "code",
   "execution_count": 409,
   "metadata": {
    "collapsed": true,
    "scrolled": false
   },
   "outputs": [],
   "source": [
    "\n",
    "\n",
    "def hist_band_vs_flux(da, title='Title'):\n",
    "       \n",
    "    bands = [str(b.values) for b in da['band']]\n",
    "\n",
    "    source = ColumnDataSource(\n",
    "        data={'band': bands, 'flux': da.values})\n",
    "\n",
    "    p = figure(x_range=bands, title=title)\n",
    "    p.vbar(source=source, x='band', top='flux', width=.9)\n",
    "\n",
    "    p.yaxis.axis_label = 'flux (W m-2)'\n",
    "    p.xaxis.axis_label = 'spectral band'\n",
    "    \n",
    "    return p\n",
    "\n",
    "\n",
    "def show_hist_flux(atmpro='mls'):\n",
    "    ds_crd = crd_data_atm(lblnew_params_atm(atmpro=atmpro))['flux']\n",
    "    ds_clirad = clirad_data_atm(\n",
    "        clirad_params_atm(atmpro=atmpro))['flux']\n",
    "    ds_clirad_singlerun = clirad_data_atm(\n",
    "        clirad_params_atm_singlerun(atmpro=atmpro))['flux']\n",
    "    \n",
    "    ip, varname = 0, 'flug'\n",
    "    da = (ds_clirad_singlerun - ds_crd).isel(pressure=ip)[varname]\n",
    "    p_toa = hist_band_vs_flux(da, \n",
    "        title='TOA flux. CLIRAD (single-run) - CRD.')\n",
    "\n",
    "    ip, varname = -1, 'fldg'\n",
    "    da = (ds_clirad_singlerun - ds_crd).isel(pressure=ip)[varname]\n",
    "    p_sfc = hist_band_vs_flux(da, \n",
    "        title='SFC flux. CLIRAD (single-run) - CRD.')    \n",
    "    \n",
    "    atm_crd = (ds_crd.isel(pressure=0) \n",
    "               - ds_crd.isel(pressure=-1))['fnetg']\n",
    "    atm_clirad_singlerun = (ds_clirad_singlerun.isel(pressure=0) \n",
    "                  - ds_clirad_singlerun.isel(pressure=-1))['fnetg']\n",
    "    da = atm_clirad_singlerun - atm_crd\n",
    "    p_atm = hist_band_vs_flux(da, \n",
    "        title='Atmosphere heating. CLIRAD (single-run) - CRD.')\n",
    "\n",
    "    everything = gridplot(p_toa, p_sfc, p_atm, ncols=3, \n",
    "                          plot_width=300, plot_height=300)\n",
    "    \n",
    "    show(everything)\n",
    "    display.display(\n",
    "        display.Markdown('*FIGURE.* Difference between CLIRAD and CRD'\n",
    "          ' in TOA, SFC and net atmosphere flux,'\n",
    "          ' in each spectral band.'))\n",
    "\n",
    "\n",
    "    \n",
    "def show_tb_flux(atmpro='mls'):\n",
    "    ds_crd = crd_data_atm(lblnew_params_atm(atmpro=atmpro))['flux']\n",
    "    olr_crd = ds_crd['flug'].isel(pressure=0)\n",
    "    sfc_crd = ds_crd['fldg'].isel(pressure=-1)\n",
    "    atm_crd = (ds_crd.isel(pressure=0)\n",
    "               - ds_crd.isel(pressure=-1))['fnetg']\n",
    "    \n",
    "    ds_clirad = clirad_data_atm(\n",
    "        clirad_params_atm(atmpro=atmpro))['flux']\n",
    "    olr_clirad = ds_clirad['flug'].isel(pressure=0)\n",
    "    sfc_clirad = ds_clirad['fldg'].isel(pressure=-1)\n",
    "    atm_clirad = (ds_clirad.isel(pressure=0)\n",
    "                  - ds_clirad.isel(pressure=-1))['fnetg']\n",
    "\n",
    "    ds_clirad_singlerun = clirad_data_atm(\n",
    "        clirad_params_atm_singlerun(atmpro=atmpro))['flux']\n",
    "    olr_clirad_singlerun = ds_clirad_singlerun['flug'].isel(pressure=0)\n",
    "    sfc_clirad_singlerun = ds_clirad_singlerun['fldg'].isel(pressure=-1)\n",
    "    atm_clirad_singlerun = (ds_clirad_singlerun.isel(pressure=0)\n",
    "                  - ds_clirad_singlerun.isel(pressure=-1))['fnetg']\n",
    "    \n",
    "    if atmpro == 'mls':\n",
    "        ds_oldclirad = oldclirad_data_atm()['flux']\n",
    "        ds_oldclirad['pressure'] = ds_crd['pressure']\n",
    "        olr_oldclirad = ds_oldclirad['flug'].isel(pressure=0)\n",
    "        sfc_oldclirad = ds_oldclirad['fldg'].isel(pressure=-1)\n",
    "        atm_oldclirad = (ds_oldclirad.isel(pressure=0)\n",
    "                         - ds_oldclirad.isel(pressure=-1))['fnetg']\n",
    "        \n",
    "    \n",
    "    \n",
    "    df = pd.DataFrame()\n",
    "    df.index.name = 'Sum over bands'\n",
    "    \n",
    "    if atmpro == 'mls':\n",
    "        df.loc['old CLIRAD - CRD', 'OLR flux'] = (olr_oldclirad.sum('band') - olr_crd.sum('band')).values\n",
    "        df.loc['old CLIRAD - CRD', 'SFC flux'] = (sfc_oldclirad.sum('band') - sfc_crd.sum('band')).values\n",
    "        df.loc['old CLIRAD - CRD', 'ATM heating'] = (atm_oldclirad.sum('band') - atm_crd.sum('band')).values\n",
    "    \n",
    "    df.loc['CLIRAD (single-run) - CRD', 'OLR flux'] = (olr_clirad_singlerun - olr_crd).sum('band').values\n",
    "    df.loc['CLIRAD (single-run) - CRD', 'SFC flux'] = (sfc_clirad_singlerun - sfc_crd).sum('band').values\n",
    "    df.loc['CLIRAD (single-run) - CRD', 'ATM heating'] = (atm_clirad_singlerun - atm_crd).sum('band').values\n",
    "\n",
    "    df.loc['CRD', 'OLR flux'] = olr_crd.sum('band').values\n",
    "    df.loc['CRD', 'SFC flux'] = sfc_crd.sum('band').values\n",
    "    df.loc['CRD', 'ATM heating'] = atm_crd.sum('band').values\n",
    "        \n",
    "    df = df.astype('float').round(2)\n",
    "    \n",
    "    display.display(df)\n",
    "    display.display(\n",
    "        display.Markdown('*TABLE.* Difference between CLIRAD and CRD'\n",
    "          ' in TOA, SFC and net atmosphere flux,'\n",
    "          ' over all spectral bands. CRD\\'s'\n",
    "          ' TOA, SFC and net atmosphere flux,'\n",
    "          ' over all spectral bands.'))\n"
   ]
  },
  {
   "cell_type": "code",
   "execution_count": 410,
   "metadata": {
    "scrolled": false
   },
   "outputs": [
    {
     "data": {
      "text/markdown": [
       "## Results over entire range of molecules and spectral bands"
      ],
      "text/plain": [
       "<IPython.core.display.Markdown object>"
      ]
     },
     "metadata": {},
     "output_type": "display_data"
    },
    {
     "data": {
      "text/markdown": [
       "### Table of Contents"
      ],
      "text/plain": [
       "<IPython.core.display.Markdown object>"
      ]
     },
     "metadata": {},
     "output_type": "display_data"
    },
    {
     "data": {
      "text/html": [
       "<a href=\"#Makeup_of_atmosphere.\">Makeup of atmosphere.</a>"
      ],
      "text/plain": [
       "<IPython.core.display.HTML object>"
      ]
     },
     "metadata": {},
     "output_type": "display_data"
    },
    {
     "data": {
      "text/markdown": [
       "**mid-latitude summer**"
      ],
      "text/plain": [
       "<IPython.core.display.Markdown object>"
      ]
     },
     "metadata": {},
     "output_type": "display_data"
    },
    {
     "data": {
      "text/html": [
       "<a href=\"#Cooling_rates._mls.\">Cooling rates. mls.</a>"
      ],
      "text/plain": [
       "<IPython.core.display.HTML object>"
      ]
     },
     "metadata": {},
     "output_type": "display_data"
    },
    {
     "data": {
      "text/html": [
       "<a href=\"#Fluxes._mls.\">Fluxes. mls.</a>"
      ],
      "text/plain": [
       "<IPython.core.display.HTML object>"
      ]
     },
     "metadata": {},
     "output_type": "display_data"
    },
    {
     "data": {
      "text/markdown": [
       "**sub-arctic winter**"
      ],
      "text/plain": [
       "<IPython.core.display.Markdown object>"
      ]
     },
     "metadata": {},
     "output_type": "display_data"
    },
    {
     "data": {
      "text/html": [
       "<a href=\"#Cooling_rates._saw.\">Cooling rates. saw.</a>"
      ],
      "text/plain": [
       "<IPython.core.display.HTML object>"
      ]
     },
     "metadata": {},
     "output_type": "display_data"
    },
    {
     "data": {
      "text/html": [
       "<a href=\"#Fluxes._saw.\">Fluxes. saw.</a>"
      ],
      "text/plain": [
       "<IPython.core.display.HTML object>"
      ]
     },
     "metadata": {},
     "output_type": "display_data"
    },
    {
     "data": {
      "text/markdown": [
       "**tropical**"
      ],
      "text/plain": [
       "<IPython.core.display.Markdown object>"
      ]
     },
     "metadata": {},
     "output_type": "display_data"
    },
    {
     "data": {
      "text/html": [
       "<a href=\"#Cooling_rates._trp.\">Cooling rates. trp.</a>"
      ],
      "text/plain": [
       "<IPython.core.display.HTML object>"
      ]
     },
     "metadata": {},
     "output_type": "display_data"
    },
    {
     "data": {
      "text/html": [
       "<a href=\"#Fluxes._trp.\">Fluxes. trp.</a>"
      ],
      "text/plain": [
       "<IPython.core.display.HTML object>"
      ]
     },
     "metadata": {},
     "output_type": "display_data"
    },
    {
     "data": {
      "text/html": [
       "<a id=\"Makeup_of_atmosphere.\"></a>"
      ],
      "text/plain": [
       "<IPython.core.display.HTML object>"
      ]
     },
     "metadata": {},
     "output_type": "display_data"
    },
    {
     "data": {
      "text/markdown": [
       "# Makeup of atmosphere."
      ],
      "text/plain": [
       "<IPython.core.display.Markdown object>"
      ]
     },
     "metadata": {},
     "output_type": "display_data"
    },
    {
     "data": {
      "text/html": [
       "<div>\n",
       "<style scoped>\n",
       "    .dataframe tbody tr th:only-of-type {\n",
       "        vertical-align: middle;\n",
       "    }\n",
       "\n",
       "    .dataframe tbody tr th {\n",
       "        vertical-align: top;\n",
       "    }\n",
       "\n",
       "    .dataframe thead th {\n",
       "        text-align: right;\n",
       "    }\n",
       "</style>\n",
       "<table border=\"1\" class=\"dataframe\">\n",
       "  <thead>\n",
       "    <tr style=\"text-align: right;\">\n",
       "      <th>clirad band</th>\n",
       "      <th>1</th>\n",
       "      <th>2</th>\n",
       "      <th>3</th>\n",
       "      <th>4</th>\n",
       "      <th>5</th>\n",
       "      <th>6</th>\n",
       "      <th>7</th>\n",
       "      <th>8</th>\n",
       "      <th>9</th>\n",
       "      <th>10</th>\n",
       "      <th>11</th>\n",
       "    </tr>\n",
       "    <tr>\n",
       "      <th>molecule</th>\n",
       "      <th></th>\n",
       "      <th></th>\n",
       "      <th></th>\n",
       "      <th></th>\n",
       "      <th></th>\n",
       "      <th></th>\n",
       "      <th></th>\n",
       "      <th></th>\n",
       "      <th></th>\n",
       "      <th></th>\n",
       "      <th></th>\n",
       "    </tr>\n",
       "  </thead>\n",
       "  <tbody>\n",
       "    <tr>\n",
       "      <th>h2o</th>\n",
       "      <td>atmpro</td>\n",
       "      <td>atmpro</td>\n",
       "      <td>atmpro</td>\n",
       "      <td>atmpro</td>\n",
       "      <td>atmpro</td>\n",
       "      <td>atmpro</td>\n",
       "      <td>atmpro</td>\n",
       "      <td>atmpro</td>\n",
       "      <td>atmpro</td>\n",
       "      <td>atmpro</td>\n",
       "      <td>atmpro</td>\n",
       "    </tr>\n",
       "    <tr>\n",
       "      <th>co2</th>\n",
       "      <td>0</td>\n",
       "      <td>0</td>\n",
       "      <td>0.0004</td>\n",
       "      <td>0.0004</td>\n",
       "      <td>0.0004</td>\n",
       "      <td>0.0004</td>\n",
       "      <td>0.0004</td>\n",
       "      <td>0</td>\n",
       "      <td>0</td>\n",
       "      <td>0</td>\n",
       "      <td>0.0004</td>\n",
       "    </tr>\n",
       "    <tr>\n",
       "      <th>n2o</th>\n",
       "      <td>0</td>\n",
       "      <td>0</td>\n",
       "      <td>3.2e-07</td>\n",
       "      <td>0</td>\n",
       "      <td>0</td>\n",
       "      <td>0</td>\n",
       "      <td>0</td>\n",
       "      <td>0</td>\n",
       "      <td>3.2e-07</td>\n",
       "      <td>0</td>\n",
       "      <td>0</td>\n",
       "    </tr>\n",
       "    <tr>\n",
       "      <th>o3</th>\n",
       "      <td>0</td>\n",
       "      <td>0</td>\n",
       "      <td>0</td>\n",
       "      <td>0</td>\n",
       "      <td>0</td>\n",
       "      <td>0</td>\n",
       "      <td>atmpro</td>\n",
       "      <td>0</td>\n",
       "      <td>0</td>\n",
       "      <td>0</td>\n",
       "      <td>0</td>\n",
       "    </tr>\n",
       "    <tr>\n",
       "      <th>ch4</th>\n",
       "      <td>0</td>\n",
       "      <td>0</td>\n",
       "      <td>0</td>\n",
       "      <td>0</td>\n",
       "      <td>0</td>\n",
       "      <td>0</td>\n",
       "      <td>0</td>\n",
       "      <td>0</td>\n",
       "      <td>1.8e-06</td>\n",
       "      <td>0</td>\n",
       "      <td>0</td>\n",
       "    </tr>\n",
       "  </tbody>\n",
       "</table>\n",
       "</div>"
      ],
      "text/plain": [
       "clirad band      1       2        3       4       5       6       7       8   \\\n",
       "molecule                                                                       \n",
       "h2o          atmpro  atmpro   atmpro  atmpro  atmpro  atmpro  atmpro  atmpro   \n",
       "co2               0       0   0.0004  0.0004  0.0004  0.0004  0.0004       0   \n",
       "n2o               0       0  3.2e-07       0       0       0       0       0   \n",
       "o3                0       0        0       0       0       0  atmpro       0   \n",
       "ch4               0       0        0       0       0       0       0       0   \n",
       "\n",
       "clirad band       9       10      11  \n",
       "molecule                              \n",
       "h2o           atmpro  atmpro  atmpro  \n",
       "co2                0       0  0.0004  \n",
       "n2o          3.2e-07       0       0  \n",
       "o3                 0       0       0  \n",
       "ch4          1.8e-06       0       0  "
      ]
     },
     "metadata": {},
     "output_type": "display_data"
    },
    {
     "data": {
      "text/markdown": [
       "*TABLE.* Non-grey absorbers in the atmosphere."
      ],
      "text/plain": [
       "<IPython.core.display.Markdown object>"
      ]
     },
     "metadata": {},
     "output_type": "display_data"
    },
    {
     "data": {
      "text/html": [
       "<div>\n",
       "<style scoped>\n",
       "    .dataframe tbody tr th:only-of-type {\n",
       "        vertical-align: middle;\n",
       "    }\n",
       "\n",
       "    .dataframe tbody tr th {\n",
       "        vertical-align: top;\n",
       "    }\n",
       "\n",
       "    .dataframe thead th {\n",
       "        text-align: right;\n",
       "    }\n",
       "</style>\n",
       "<table border=\"1\" class=\"dataframe\">\n",
       "  <thead>\n",
       "    <tr style=\"text-align: right;\">\n",
       "      <th>clirad band</th>\n",
       "      <th>8</th>\n",
       "    </tr>\n",
       "    <tr>\n",
       "      <th>absorber</th>\n",
       "      <th></th>\n",
       "    </tr>\n",
       "  </thead>\n",
       "  <tbody>\n",
       "    <tr>\n",
       "      <th>n2o</th>\n",
       "      <td>3.2e-07</td>\n",
       "    </tr>\n",
       "  </tbody>\n",
       "</table>\n",
       "</div>"
      ],
      "text/plain": [
       "clirad band        8\n",
       "absorber            \n",
       "n2o          3.2e-07"
      ]
     },
     "metadata": {},
     "output_type": "display_data"
    },
    {
     "data": {
      "text/markdown": [
       "*TABLE.* Grey absorbers in the atmosphere."
      ],
      "text/plain": [
       "<IPython.core.display.Markdown object>"
      ]
     },
     "metadata": {},
     "output_type": "display_data"
    },
    {
     "data": {
      "text/html": [
       "<a id=\"Cooling_rates._mls.\"></a>"
      ],
      "text/plain": [
       "<IPython.core.display.HTML object>"
      ]
     },
     "metadata": {},
     "output_type": "display_data"
    },
    {
     "data": {
      "text/markdown": [
       "# Cooling rates. mls."
      ],
      "text/plain": [
       "<IPython.core.display.Markdown object>"
      ]
     },
     "metadata": {},
     "output_type": "display_data"
    },
    {
     "data": {
      "text/html": [
       "\n",
       "<div class=\"bk-root\">\n",
       "    <div class=\"bk-plotdiv\" id=\"cb543985-e091-455c-b3c3-357a26ecf860\"></div>\n",
       "</div>"
      ]
     },
     "metadata": {},
     "output_type": "display_data"
    },
    {
     "data": {
      "application/javascript": [
       "(function(root) {\n",
       "  function embed_document(root) {\n",
       "    \n",
       "  var docs_json = {\"fe94a9d6-ef0d-4746-afa0-6f2f7cdb9ee2\":{\"roots\":{\"references\":[{\"attributes\":{},\"id\":\"ae7b1041-47fd-4dce-87a8-32ce6f6ee927\",\"type\":\"SaveTool\"},{\"attributes\":{},\"id\":\"7fa40d3b-b59b-461e-8fc1-8449513cb384\",\"type\":\"UnionRenderers\"},{\"attributes\":{},\"id\":\"c419a3af-4cf6-4dee-b647-1391a3bd4ac7\",\"type\":\"UnionRenderers\"},{\"attributes\":{\"bottom_units\":\"screen\",\"fill_alpha\":{\"value\":0.5},\"fill_color\":{\"value\":\"lightgrey\"},\"left_units\":\"screen\",\"level\":\"overlay\",\"line_alpha\":{\"value\":1.0},\"line_color\":{\"value\":\"black\"},\"line_dash\":[4,4],\"line_width\":{\"value\":2},\"plot\":null,\"render_mode\":\"css\",\"right_units\":\"screen\",\"top_units\":\"screen\"},\"id\":\"cd50c914-ac7c-4c4b-accb-2f4f4ebfabb4\",\"type\":\"BoxAnnotation\"},{\"attributes\":{},\"id\":\"b60aa51d-f3d7-417e-87fd-bfaee9e2e1ec\",\"type\":\"Selection\"},{\"attributes\":{\"plot\":null,\"text\":\"\"},\"id\":\"5d94e222-32c0-4ae5-9aca-b4a9513888e0\",\"type\":\"Title\"},{\"attributes\":{\"callback\":null,\"end\":0.01,\"start\":1020},\"id\":\"9917bcc3-12ec-438e-87bb-9817acfc6d0b\",\"type\":\"Range1d\"},{\"attributes\":{\"line_alpha\":0.1,\"line_color\":\"#1f77b4\",\"line_width\":1.5,\"x\":{\"field\":\"x\"},\"y\":{\"field\":\"y\"}},\"id\":\"6f9acc22-b1a1-4b1d-a8c9-6e1cb91829bb\",\"type\":\"Line\"},{\"attributes\":{\"overlay\":{\"id\":\"a5d07a94-f5ae-4bd5-8b8a-c1db55699b7b\",\"type\":\"BoxAnnotation\"}},\"id\":\"797237e5-98d4-42ef-a6c0-3f1421791299\",\"type\":\"BoxZoomTool\"},{\"attributes\":{\"data_source\":{\"id\":\"37320803-a7a3-49b2-b421-fa4dc18a42ec\",\"type\":\"ColumnDataSource\"},\"glyph\":{\"id\":\"1fd285a9-12aa-447f-9d03-67252159ab36\",\"type\":\"Line\"},\"hover_glyph\":null,\"muted_glyph\":null,\"nonselection_glyph\":{\"id\":\"6f9acc22-b1a1-4b1d-a8c9-6e1cb91829bb\",\"type\":\"Line\"},\"selection_glyph\":null,\"view\":{\"id\":\"65cec51d-a77b-4285-aabb-3af4a4f47b6b\",\"type\":\"CDSView\"}},\"id\":\"54bc5d11-b082-43dd-8757-6e9660d1936b\",\"type\":\"GlyphRenderer\"},{\"attributes\":{\"source\":{\"id\":\"37320803-a7a3-49b2-b421-fa4dc18a42ec\",\"type\":\"ColumnDataSource\"}},\"id\":\"65cec51d-a77b-4285-aabb-3af4a4f47b6b\",\"type\":\"CDSView\"},{\"attributes\":{\"children\":[{\"id\":\"0f391878-16a9-4cf3-859e-ee0594f7f9a0\",\"type\":\"Row\"}]},\"id\":\"371864f2-5bb2-4ac1-897d-2a8772049104\",\"type\":\"Column\"},{\"attributes\":{\"callback\":null,\"end\":2.3144235529463004,\"start\":-0.31072174591630003},\"id\":\"a8fa8928-14e3-4ba2-b601-983bb4d69874\",\"type\":\"Range1d\"},{\"attributes\":{\"fill_alpha\":{\"value\":0.1},\"fill_color\":{\"value\":\"#1f77b4\"},\"line_alpha\":{\"value\":0.1},\"line_color\":{\"value\":\"#1f77b4\"},\"x\":{\"field\":\"x\"},\"y\":{\"field\":\"y\"}},\"id\":\"68102393-00f1-4cf2-a108-3ecc3c782fe2\",\"type\":\"Circle\"},{\"attributes\":{\"label\":{\"value\":\"old CLIRAD (H2012) - CRD\"},\"renderers\":[{\"id\":\"34e2f21f-055e-4a0c-889c-d7939a63caa3\",\"type\":\"GlyphRenderer\"}]},\"id\":\"20d2506f-ebb2-44c2-8622-4d474c3d1dd7\",\"type\":\"LegendItem\"},{\"attributes\":{\"active_drag\":\"auto\",\"active_inspect\":\"auto\",\"active_scroll\":\"auto\",\"active_tap\":\"auto\",\"tools\":[{\"id\":\"c9d59748-6e31-4f3f-92df-fdda54e3ceec\",\"type\":\"PanTool\"},{\"id\":\"3731b3aa-1a60-43c7-b4d9-f322b3cb3aeb\",\"type\":\"WheelZoomTool\"},{\"id\":\"797237e5-98d4-42ef-a6c0-3f1421791299\",\"type\":\"BoxZoomTool\"},{\"id\":\"ae7b1041-47fd-4dce-87a8-32ce6f6ee927\",\"type\":\"SaveTool\"},{\"id\":\"7707949b-d2d5-4818-b8d7-b2d942099f5b\",\"type\":\"ResetTool\"},{\"id\":\"ac63ad9f-a2f7-41c8-947b-2061efcca6a3\",\"type\":\"HelpTool\"}]},\"id\":\"25ebdc5f-ee9c-4b97-b66f-2c40e5260db4\",\"type\":\"Toolbar\"},{\"attributes\":{},\"id\":\"c54cd37b-e700-4483-980c-5e4a78a0ad08\",\"type\":\"LinearScale\"},{\"attributes\":{\"line_alpha\":0.1,\"line_color\":\"#1f77b4\",\"line_dash\":[6],\"line_width\":5,\"x\":{\"field\":\"x\"},\"y\":{\"field\":\"y\"}},\"id\":\"1a13cfcf-835c-4bf9-a7f9-20bccfdbba5d\",\"type\":\"Line\"},{\"attributes\":{\"label\":{\"value\":\"CLIRAD (single-run) - CRD\"},\"renderers\":[{\"id\":\"04f77bb5-dec0-40d9-be3c-237beb87d2d1\",\"type\":\"GlyphRenderer\"},{\"id\":\"54bc5d11-b082-43dd-8757-6e9660d1936b\",\"type\":\"GlyphRenderer\"}]},\"id\":\"8763365d-c660-4cd8-9ca7-0ea9066be7e1\",\"type\":\"LegendItem\"},{\"attributes\":{},\"id\":\"a144652e-99d9-4762-94fd-9df69effe729\",\"type\":\"BasicTickFormatter\"},{\"attributes\":{\"bottom_units\":\"screen\",\"fill_alpha\":{\"value\":0.5},\"fill_color\":{\"value\":\"lightgrey\"},\"left_units\":\"screen\",\"level\":\"overlay\",\"line_alpha\":{\"value\":1.0},\"line_color\":{\"value\":\"black\"},\"line_dash\":[4,4],\"line_width\":{\"value\":2},\"plot\":null,\"render_mode\":\"css\",\"right_units\":\"screen\",\"top_units\":\"screen\"},\"id\":\"6c45144e-9c60-4bc4-b2ff-a9e40a621049\",\"type\":\"BoxAnnotation\"},{\"attributes\":{},\"id\":\"7e46785c-ef57-4351-a307-03d1df562384\",\"type\":\"HelpTool\"},{\"attributes\":{\"callback\":null,\"data\":{\"x\":{\"__ndarray__\":\"wslBu4c5X8DjWvQVopuKwBkAb4yrZFbAXkedSOTaK8CprE7g3L0UwASksvghUxfAdPzHHGG56L8AeNDVDNUVwE4ntEvGcP6/1UvNiAFrE8CLlhzx13L8v2JOCMccbgDAqdL0iozrDcC03KsoA7RSwLqTaA1UTmPA4mYwTs90W8AMAtWcirRGwOdqfb5PdUHA4GmCegEIPcDsekMiaqI3wGW5TvKZKjLAf+BJP1mRIUCY01AS6BdKQEgkXUnLjEFAx+vY4cGbDECh9EzI5xX5vyX7n4wUUfS/CP+noPOS779hSxP1q2fmv4vvUi7mNdW/0EYcn5x6nD+sWvoYt1awP5JlBSSNnpW/1FVbsuNVsr+1TlUku0+WvypXBSmvBHo/1Eh3UTszoL/ms5zHaDKtvzXAIxmAQ72/H0HZ61Dax7+lxVBeY8LFv/xmnMRGXba/fiydMj3zsL/Osz25N2ygv/tp30vRnLe/oN0rjoMrub/zX0prZLCsv5ziwZAMFbC/8FnaLeJVtL8V/3xHg46zvyyQJhTX66y//SV8KlaMpL/TUpyBD5Cdv9SGnC7z7Jy/Jyc+7keAn7/OdqdLn46jvwwmK/OQUaa/oN/Knj8apb+0d6g7iWebvzz2W2InTWS/RJdERhtRiz/oOXeVl/eAP7tP0qss1ZC/aTKHs4qWpr/AOpsADTeyv8sjMMV5mbO/CGLEMdeRsr/c80M/L+mrv92qP1Dbd6a/gFnoHYMipb8GLyP4xBqnv2vHkIn726q/6EEzkO51r78nlbEgG2iyv7YN4IOQWZu/\",\"dtype\":\"float64\",\"shape\":[75]},\"y\":{\"__ndarray__\":\"GhExyth1ND/Sv8nbtpRIP2vylNV0PVE/aTum7souWD/At0SJ8fVgPw3Iuahxymc/MSNhhJWvcD/bTfBN02d3P2zb5nxnaoA/CD5h5MAGhz8NmeH1TyaQP+zrCsc9p5Y/LbKd76fGnz/bLW5ISEmmPww9YvTcQq8/JV2OstnstT8Er5Y7M8G+P0c+r3jqkcU/5h99k6ZBzj88bCIzFzjVP4enV8oyxN0//yH99nXg5D8qOpLLf0jtP5kqGJXUifQ/c9cS8kHP/D+/DpwzojQEQIEmwoanVwxA4lgXt9HgE0BSSZ2AJuIbQAMJih9jjiNA5q4l5INuK0AwTKYKRj0zQNv5fmq8/DpAaCJseHrtQkB/+zpwzoxKQM3MzMzMeFJAZmZmZmZqWEAAAAAAAFxeQM3MzMzMJmJAmpmZmZkfZUBmZmZmZhhoQDMzMzMzEWtAAAAAAAAKbkBmZmZmZoFwQM3MzMzM/XFAMzMzMzN6c0CamZmZmfZ0QAAAAAAAc3ZAZmZmZmbvd0DNzMzMzGt5QDMzMzMz6HpAmpmZmZlkfEAAAAAAAOF9QGZmZmZmXX9AZmZmZuZsgECamZmZGSuBQM3MzMxM6YFAAAAAAICngkAzMzMzs2WDQGZmZmbmI4RAmpmZmRnihEDNzMzMTKCFQAAAAACAXoZAMzMzM7Mch0BmZmZm5tqHQJqZmZkZmYhAzczMzExXiUAAAAAAgBWKQDMzMzOz04pAZmZmZuaRi0CamZmZGVCMQM3MzMxMDo1AAAAAAIDMjUAzMzMzs4qOQGZmZmbmSI9A\",\"dtype\":\"float64\",\"shape\":[75]}},\"selected\":{\"id\":\"bfe7a5c7-0705-4729-9e6d-3f549636d3b6\",\"type\":\"Selection\"},\"selection_policy\":{\"id\":\"4b653555-fbc1-4d1a-8607-c6ee40e91314\",\"type\":\"UnionRenderers\"}},\"id\":\"b284ad49-c8b2-45da-b92b-4d742642c63d\",\"type\":\"ColumnDataSource\"},{\"attributes\":{},\"id\":\"7b73574d-beb4-4e57-9ea3-0cdeeb0490bd\",\"type\":\"LinearScale\"},{\"attributes\":{\"callback\":null,\"data\":{\"x\":{\"__ndarray__\":\"wslBu4c5X8DjWvQVopuKwBkAb4yrZFbAXkedSOTaK8CprE7g3L0UwASksvghUxfAdPzHHGG56L8AeNDVDNUVwE4ntEvGcP6/1UvNiAFrE8CLlhzx13L8v2JOCMccbgDAqdL0iozrDcC03KsoA7RSwLqTaA1UTmPA4mYwTs90W8AMAtWcirRGwOdqfb5PdUHA4GmCegEIPcDsekMiaqI3wGW5TvKZKjLAf+BJP1mRIUCY01AS6BdKQEgkXUnLjEFAx+vY4cGbDECh9EzI5xX5vyX7n4wUUfS/CP+noPOS779hSxP1q2fmv4vvUi7mNdW/0EYcn5x6nD+sWvoYt1awP5JlBSSNnpW/1FVbsuNVsr+1TlUku0+WvypXBSmvBHo/1Eh3UTszoL/ms5zHaDKtvzXAIxmAQ72/H0HZ61Dax7+lxVBeY8LFv/xmnMRGXba/fiydMj3zsL/Osz25N2ygv/tp30vRnLe/oN0rjoMrub/zX0prZLCsv5ziwZAMFbC/8FnaLeJVtL8V/3xHg46zvyyQJhTX66y//SV8KlaMpL/TUpyBD5Cdv9SGnC7z7Jy/Jyc+7keAn7/OdqdLn46jvwwmK/OQUaa/oN/Knj8apb+0d6g7iWebvzz2W2InTWS/RJdERhtRiz/oOXeVl/eAP7tP0qss1ZC/aTKHs4qWpr/AOpsADTeyv8sjMMV5mbO/CGLEMdeRsr/c80M/L+mrv92qP1Dbd6a/gFnoHYMipb8GLyP4xBqnv2vHkIn726q/6EEzkO51r78nlbEgG2iyv7YN4IOQWZu/\",\"dtype\":\"float64\",\"shape\":[75]},\"y\":{\"__ndarray__\":\"GhExyth1ND/Sv8nbtpRIP2vylNV0PVE/aTum7souWD/At0SJ8fVgPw3Iuahxymc/MSNhhJWvcD/bTfBN02d3P2zb5nxnaoA/CD5h5MAGhz8NmeH1TyaQP+zrCsc9p5Y/LbKd76fGnz/bLW5ISEmmPww9YvTcQq8/JV2OstnstT8Er5Y7M8G+P0c+r3jqkcU/5h99k6ZBzj88bCIzFzjVP4enV8oyxN0//yH99nXg5D8qOpLLf0jtP5kqGJXUifQ/c9cS8kHP/D+/DpwzojQEQIEmwoanVwxA4lgXt9HgE0BSSZ2AJuIbQAMJih9jjiNA5q4l5INuK0AwTKYKRj0zQNv5fmq8/DpAaCJseHrtQkB/+zpwzoxKQM3MzMzMeFJAZmZmZmZqWEAAAAAAAFxeQM3MzMzMJmJAmpmZmZkfZUBmZmZmZhhoQDMzMzMzEWtAAAAAAAAKbkBmZmZmZoFwQM3MzMzM/XFAMzMzMzN6c0CamZmZmfZ0QAAAAAAAc3ZAZmZmZmbvd0DNzMzMzGt5QDMzMzMz6HpAmpmZmZlkfEAAAAAAAOF9QGZmZmZmXX9AZmZmZuZsgECamZmZGSuBQM3MzMxM6YFAAAAAAICngkAzMzMzs2WDQGZmZmbmI4RAmpmZmRnihEDNzMzMTKCFQAAAAACAXoZAMzMzM7Mch0BmZmZm5tqHQJqZmZkZmYhAzczMzExXiUAAAAAAgBWKQDMzMzOz04pAZmZmZuaRi0CamZmZGVCMQM3MzMxMDo1AAAAAAIDMjUAzMzMzs4qOQGZmZmbmSI9A\",\"dtype\":\"float64\",\"shape\":[75]}},\"selected\":{\"id\":\"0ce0992e-2541-41b3-af59-aba81ffe9c96\",\"type\":\"Selection\"},\"selection_policy\":{\"id\":\"e6b4bcca-ee56-460a-97ac-6f7adfb853d7\",\"type\":\"UnionRenderers\"}},\"id\":\"37320803-a7a3-49b2-b421-fa4dc18a42ec\",\"type\":\"ColumnDataSource\"},{\"attributes\":{\"line_alpha\":0.8,\"line_color\":\"#984ea3\",\"line_width\":1.5,\"x\":{\"field\":\"x\"},\"y\":{\"field\":\"y\"}},\"id\":\"1fd285a9-12aa-447f-9d03-67252159ab36\",\"type\":\"Line\"},{\"attributes\":{},\"id\":\"303f3fbe-2dd1-446b-8075-2323806b8110\",\"type\":\"Selection\"},{\"attributes\":{\"source\":{\"id\":\"b284ad49-c8b2-45da-b92b-4d742642c63d\",\"type\":\"ColumnDataSource\"}},\"id\":\"45de0053-c95b-449b-9e41-30afeba433f9\",\"type\":\"CDSView\"},{\"attributes\":{\"items\":[{\"id\":\"37fd4ce4-61e6-4a19-8a20-def5b411f627\",\"type\":\"LegendItem\"},{\"id\":\"c499e19a-2ad8-45c8-a46f-f9997120cc55\",\"type\":\"LegendItem\"},{\"id\":\"a8879ea9-1fc1-4b57-a8eb-2aaf567c50e0\",\"type\":\"LegendItem\"}],\"label_text_font_size\":{\"value\":\"8pt\"},\"location\":\"top_center\",\"orientation\":\"horizontal\",\"plot\":{\"id\":\"6d128a03-107c-4946-aeaa-b508a2708023\",\"subtype\":\"Figure\",\"type\":\"Plot\"}},\"id\":\"4882457b-272d-48de-a4b9-fff19fabcf5d\",\"type\":\"Legend\"},{\"attributes\":{},\"id\":\"60f7e98f-4ccd-421d-ad2a-448d8de38678\",\"type\":\"ResetTool\"},{\"attributes\":{},\"id\":\"bcee6d65-a490-4bb7-b3bf-65d2c0a7b391\",\"type\":\"WheelZoomTool\"},{\"attributes\":{},\"id\":\"08b4215d-2538-423e-ba52-acfb19737ee6\",\"type\":\"WheelZoomTool\"},{\"attributes\":{\"callback\":null,\"end\":54.25311506214453,\"start\":-156.51410560053753},\"id\":\"cd5cc3c1-c5b4-4a7d-976d-404f103f24a0\",\"type\":\"Range1d\"},{\"attributes\":{\"bottom_units\":\"screen\",\"fill_alpha\":{\"value\":0.5},\"fill_color\":{\"value\":\"lightgrey\"},\"left_units\":\"screen\",\"level\":\"overlay\",\"line_alpha\":{\"value\":1.0},\"line_color\":{\"value\":\"black\"},\"line_dash\":[4,4],\"line_width\":{\"value\":2},\"plot\":null,\"render_mode\":\"css\",\"right_units\":\"screen\",\"top_units\":\"screen\"},\"id\":\"a5d07a94-f5ae-4bd5-8b8a-c1db55699b7b\",\"type\":\"BoxAnnotation\"},{\"attributes\":{\"line_alpha\":0.1,\"line_color\":\"#1f77b4\",\"line_width\":1.5,\"x\":{\"field\":\"x\"},\"y\":{\"field\":\"y\"}},\"id\":\"8bdd2b18-67e5-4091-9037-4a42df786630\",\"type\":\"Line\"},{\"attributes\":{\"callback\":null,\"end\":0.01,\"start\":1020},\"id\":\"9ccf8799-0657-4264-b9d6-30088826f835\",\"type\":\"Range1d\"},{\"attributes\":{},\"id\":\"da270616-ce4a-458d-ad1c-7aefba52bed7\",\"type\":\"ResetTool\"},{\"attributes\":{\"axis_label\":\"cooling rate [K/day]\",\"formatter\":{\"id\":\"d3d83e64-2182-4d33-a0dd-d91ba55e1513\",\"type\":\"BasicTickFormatter\"},\"plot\":{\"id\":\"d77ab9b6-7f8d-4428-ae1b-8c4d4598d9d6\",\"subtype\":\"Figure\",\"type\":\"Plot\"},\"ticker\":{\"id\":\"ee95fe0a-f9d7-4f82-84c9-e5286a465f90\",\"type\":\"BasicTicker\"}},\"id\":\"12a25d16-a0c3-4a8a-9c6d-055aa4cc5e9c\",\"type\":\"LinearAxis\"},{\"attributes\":{\"axis_label\":\"pressure [mb]\",\"formatter\":{\"id\":\"5240af4f-ac21-442d-9113-713749d787c4\",\"type\":\"LogTickFormatter\"},\"plot\":{\"id\":\"8fa708ce-87af-46f5-84fd-4f4099c2bba8\",\"subtype\":\"Figure\",\"type\":\"Plot\"},\"ticker\":{\"id\":\"a55419f9-e0af-4fa5-91d1-f95bf8b9c526\",\"type\":\"LogTicker\"}},\"id\":\"98449909-fecc-4fc1-bb0d-810c44ef9a74\",\"type\":\"LogAxis\"},{\"attributes\":{\"source\":{\"id\":\"d52e7c02-113e-4293-8204-fa403e8d2d91\",\"type\":\"ColumnDataSource\"}},\"id\":\"e2160b14-988a-4e4d-b141-a374091d3567\",\"type\":\"CDSView\"},{\"attributes\":{\"fill_alpha\":{\"value\":0.1},\"fill_color\":{\"value\":\"#1f77b4\"},\"line_alpha\":{\"value\":0.1},\"line_color\":{\"value\":\"#1f77b4\"},\"x\":{\"field\":\"x\"},\"y\":{\"field\":\"y\"}},\"id\":\"0442576a-f857-454e-a454-a401237394b7\",\"type\":\"Square\"},{\"attributes\":{\"overlay\":{\"id\":\"6c45144e-9c60-4bc4-b2ff-a9e40a621049\",\"type\":\"BoxAnnotation\"}},\"id\":\"b5bd5533-9af3-4429-a36e-b56cb53c6820\",\"type\":\"BoxZoomTool\"},{\"attributes\":{\"children\":[{\"id\":\"a3430a34-5ebe-4fcf-ac20-39f8614d8f8d\",\"type\":\"ToolbarBox\"},{\"id\":\"371864f2-5bb2-4ac1-897d-2a8772049104\",\"type\":\"Column\"}]},\"id\":\"942ed771-8545-4e71-847f-0b219cdef59d\",\"type\":\"Column\"},{\"attributes\":{},\"id\":\"f8e599a5-4e0f-48cb-9e6c-5ab475f59e18\",\"type\":\"LinearScale\"},{\"attributes\":{},\"id\":\"b815eb90-612e-4e6d-b3eb-d393eee09608\",\"type\":\"UnionRenderers\"},{\"attributes\":{\"dimension\":1,\"plot\":{\"id\":\"8fa708ce-87af-46f5-84fd-4f4099c2bba8\",\"subtype\":\"Figure\",\"type\":\"Plot\"},\"ticker\":{\"id\":\"a55419f9-e0af-4fa5-91d1-f95bf8b9c526\",\"type\":\"LogTicker\"}},\"id\":\"3143ccd5-b46c-4859-980b-82387843f83c\",\"type\":\"Grid\"},{\"attributes\":{\"line_color\":\"#4daf4a\",\"line_width\":1.5,\"x\":{\"field\":\"x\"},\"y\":{\"field\":\"y\"}},\"id\":\"5c38ee3c-d6ca-441f-b3dc-0a554ccec585\",\"type\":\"Line\"},{\"attributes\":{},\"id\":\"baf4cc67-b685-47c0-8f2e-ea5492344ffa\",\"type\":\"PanTool\"},{\"attributes\":{\"num_minor_ticks\":10},\"id\":\"a55419f9-e0af-4fa5-91d1-f95bf8b9c526\",\"type\":\"LogTicker\"},{\"attributes\":{\"fill_alpha\":{\"value\":0.7},\"fill_color\":{\"value\":\"#984ea3\"},\"line_alpha\":{\"value\":0.7},\"line_color\":{\"value\":\"#984ea3\"},\"x\":{\"field\":\"x\"},\"y\":{\"field\":\"y\"}},\"id\":\"4895c00a-6dde-49bd-95b1-a52a77f804d6\",\"type\":\"Circle\"},{\"attributes\":{\"source\":{\"id\":\"07791840-71ee-42c5-ab0f-5c46a80718e1\",\"type\":\"ColumnDataSource\"}},\"id\":\"b3472229-9dc4-438c-a54d-d22e9f23a8a4\",\"type\":\"CDSView\"},{\"attributes\":{\"line_alpha\":0.5,\"line_color\":\"#984ea3\",\"line_width\":1.5,\"x\":{\"field\":\"x\"},\"y\":{\"field\":\"y\"}},\"id\":\"b4ae31b6-937e-43e2-8b66-2fffb1a39f09\",\"type\":\"Line\"},{\"attributes\":{\"source\":{\"id\":\"0ff38995-5f20-4141-beb2-d80d3ee980d8\",\"type\":\"ColumnDataSource\"}},\"id\":\"8d93da36-ca70-4ebb-97d4-77fae14156b4\",\"type\":\"CDSView\"},{\"attributes\":{\"above\":[{\"id\":\"ff4265af-d28e-4519-94c5-76c1e09ccdaf\",\"type\":\"Legend\"}],\"below\":[{\"id\":\"4da0a365-ea1c-4ffe-8ac9-d143ea86195c\",\"type\":\"LinearAxis\"}],\"left\":[{\"id\":\"98449909-fecc-4fc1-bb0d-810c44ef9a74\",\"type\":\"LogAxis\"}],\"plot_width\":300,\"renderers\":[{\"id\":\"4da0a365-ea1c-4ffe-8ac9-d143ea86195c\",\"type\":\"LinearAxis\"},{\"id\":\"9cb382e7-c9ea-4af8-a5c0-b9dd9b4e25ee\",\"type\":\"Grid\"},{\"id\":\"98449909-fecc-4fc1-bb0d-810c44ef9a74\",\"type\":\"LogAxis\"},{\"id\":\"3143ccd5-b46c-4859-980b-82387843f83c\",\"type\":\"Grid\"},{\"id\":\"6c45144e-9c60-4bc4-b2ff-a9e40a621049\",\"type\":\"BoxAnnotation\"},{\"id\":\"04f77bb5-dec0-40d9-be3c-237beb87d2d1\",\"type\":\"GlyphRenderer\"},{\"id\":\"54bc5d11-b082-43dd-8757-6e9660d1936b\",\"type\":\"GlyphRenderer\"},{\"id\":\"34e2f21f-055e-4a0c-889c-d7939a63caa3\",\"type\":\"GlyphRenderer\"},{\"id\":\"ff4265af-d28e-4519-94c5-76c1e09ccdaf\",\"type\":\"Legend\"}],\"title\":{\"id\":\"7a2e77f3-1301-4236-8980-d1299b372f6f\",\"type\":\"Title\"},\"toolbar\":{\"id\":\"9af75dc7-9bc5-4764-821b-269c561ebb3b\",\"type\":\"Toolbar\"},\"toolbar_location\":null,\"x_range\":{\"id\":\"cd5cc3c1-c5b4-4a7d-976d-404f103f24a0\",\"type\":\"Range1d\"},\"x_scale\":{\"id\":\"7203a3a6-9339-4220-8075-3f2ce1d2fb7c\",\"type\":\"LinearScale\"},\"y_range\":{\"id\":\"90c92e01-f65c-4431-b78d-36d3ff5eb530\",\"type\":\"Range1d\"},\"y_scale\":{\"id\":\"5468e822-bc3e-4ca8-be68-3bf5245d570f\",\"type\":\"LogScale\"}},\"id\":\"8fa708ce-87af-46f5-84fd-4f4099c2bba8\",\"subtype\":\"Figure\",\"type\":\"Plot\"},{\"attributes\":{\"data_source\":{\"id\":\"1653f32b-9fb5-40df-a1e7-036a67a04036\",\"type\":\"ColumnDataSource\"},\"glyph\":{\"id\":\"5c38ee3c-d6ca-441f-b3dc-0a554ccec585\",\"type\":\"Line\"},\"hover_glyph\":null,\"muted_glyph\":null,\"nonselection_glyph\":{\"id\":\"8bdd2b18-67e5-4091-9037-4a42df786630\",\"type\":\"Line\"},\"selection_glyph\":null,\"view\":{\"id\":\"eacc9542-a0b5-4f1b-a5c9-e4951b5797a9\",\"type\":\"CDSView\"}},\"id\":\"8c284f09-b425-4f91-81f9-acbded96d5cb\",\"type\":\"GlyphRenderer\"},{\"attributes\":{\"label\":{\"value\":\"CRD\"},\"renderers\":[{\"id\":\"c3891cf0-21e6-4a43-ab53-2221889a1b7c\",\"type\":\"GlyphRenderer\"},{\"id\":\"8c284f09-b425-4f91-81f9-acbded96d5cb\",\"type\":\"GlyphRenderer\"}]},\"id\":\"c499e19a-2ad8-45c8-a46f-f9997120cc55\",\"type\":\"LegendItem\"},{\"attributes\":{},\"id\":\"ac63ad9f-a2f7-41c8-947b-2061efcca6a3\",\"type\":\"HelpTool\"},{\"attributes\":{},\"id\":\"ee95fe0a-f9d7-4f82-84c9-e5286a465f90\",\"type\":\"BasicTicker\"},{\"attributes\":{\"data_source\":{\"id\":\"0ff38995-5f20-4141-beb2-d80d3ee980d8\",\"type\":\"ColumnDataSource\"},\"glyph\":{\"id\":\"be5feeeb-ddea-45d4-af4a-255ce68001d5\",\"type\":\"Square\"},\"hover_glyph\":null,\"muted_glyph\":null,\"nonselection_glyph\":{\"id\":\"0442576a-f857-454e-a454-a401237394b7\",\"type\":\"Square\"},\"selection_glyph\":null,\"view\":{\"id\":\"8d93da36-ca70-4ebb-97d4-77fae14156b4\",\"type\":\"CDSView\"}},\"id\":\"65904791-c844-4361-a4fe-f72487acb4b8\",\"type\":\"GlyphRenderer\"},{\"attributes\":{},\"id\":\"7c40e7f5-b650-495a-9d0b-99525e758425\",\"type\":\"LogScale\"},{\"attributes\":{},\"id\":\"7f5fa88c-b856-457d-bcf0-9b75ee7778d9\",\"type\":\"Selection\"},{\"attributes\":{\"label\":{\"value\":\"CLIRAD (single-run)\"},\"renderers\":[{\"id\":\"61df9122-6e59-4cff-80c6-c511edb22506\",\"type\":\"GlyphRenderer\"}]},\"id\":\"37fd4ce4-61e6-4a19-8a20-def5b411f627\",\"type\":\"LegendItem\"},{\"attributes\":{\"callback\":null,\"data\":{\"x\":{\"__ndarray__\":\"obiq3YaDRMA1zmQHdyeJwFN39d9jv0nA/2DHMmTDMEBTg1vfo0MzQJSqLAC1HStAJmawCw1ALUAvMzMOkVEbQMzC1bkK0B9A9aLVIp99CECB8d1HMCMSQMvm4UBv4wZAzvdjH7U6wr+Kns4gCTFSwFjhDef5MWPAK/FtlMseW8C+T9uutmVFwLwjtZb3RT/AsE+gsUhOOMCLC4YKfJcxwCsmGlzmxiTAb/bBGcc0M0DyYD9P2WhQQD5JGtleM0hAF2MtLCIwLEClLbnRUY4aQGbdFE0mxxRAztkrwRyeEEDhdwmOT/gLQJsi9FdcCglAGsHu8E8lBkBgpOigCpsAQBhtQj2KN/c/rVLlDgmU8D/3sirPLqHmP6gJykgQgtg/iWue60cPyD/bsDlYoeq/Pw1ft+w2xq+/S5oG1zE90r+a1Ui6IBq4v8FHErb3B+c/dM+NfCRp9z9CVVPxwg8AQCDiooBUkgFAVH4tAjcCAEBav8IXYDr+P/d7mw0CGP0/Daf8LMZg/D/LmQATXjH8Py0IiDFATfw/ewUlYIbf+z/bJLAeX177PzU9ewKu5/o/7dycD+2R+j/8+9K7bVD6P5+eOyVOQPo/yAACTKpB+z/AwTLEHgn8P7XjiLRecPw/MpFkq8pQ/D9yQMpEXJD7PzMiaEZ2V/o/FeuBw0UK+T8w81I3tNX3PyS2VEmYMfc/GvBX04Xw9j9+eoVoId/2P52xgdfbPPY/tWOvJ13+9D/oeWeYSZnzPzwTzjpgfPI/jyvOiV/T8T9rt3GVtNDxP9DM9pXFPPk/\",\"dtype\":\"float64\",\"shape\":[75]},\"y\":{\"__ndarray__\":\"GhExyth1ND/Sv8nbtpRIP2vylNV0PVE/aTum7souWD/At0SJ8fVgPw3Iuahxymc/MSNhhJWvcD/bTfBN02d3P2zb5nxnaoA/CD5h5MAGhz8NmeH1TyaQP+zrCsc9p5Y/LbKd76fGnz/bLW5ISEmmPww9YvTcQq8/JV2OstnstT8Er5Y7M8G+P0c+r3jqkcU/5h99k6ZBzj88bCIzFzjVP4enV8oyxN0//yH99nXg5D8qOpLLf0jtP5kqGJXUifQ/c9cS8kHP/D+/DpwzojQEQIEmwoanVwxA4lgXt9HgE0BSSZ2AJuIbQAMJih9jjiNA5q4l5INuK0AwTKYKRj0zQNv5fmq8/DpAaCJseHrtQkB/+zpwzoxKQM3MzMzMeFJAZmZmZmZqWEAAAAAAAFxeQM3MzMzMJmJAmpmZmZkfZUBmZmZmZhhoQDMzMzMzEWtAAAAAAAAKbkBmZmZmZoFwQM3MzMzM/XFAMzMzMzN6c0CamZmZmfZ0QAAAAAAAc3ZAZmZmZmbvd0DNzMzMzGt5QDMzMzMz6HpAmpmZmZlkfEAAAAAAAOF9QGZmZmZmXX9AZmZmZuZsgECamZmZGSuBQM3MzMxM6YFAAAAAAICngkAzMzMzs2WDQGZmZmbmI4RAmpmZmRnihEDNzMzMTKCFQAAAAACAXoZAMzMzM7Mch0BmZmZm5tqHQJqZmZkZmYhAzczMzExXiUAAAAAAgBWKQDMzMzOz04pAZmZmZuaRi0CamZmZGVCMQM3MzMxMDo1AAAAAAIDMjUAzMzMzs4qOQGZmZmbmSI9A\",\"dtype\":\"float64\",\"shape\":[75]}},\"selected\":{\"id\":\"b60aa51d-f3d7-417e-87fd-bfaee9e2e1ec\",\"type\":\"Selection\"},\"selection_policy\":{\"id\":\"b6eb8fe9-8fb3-4516-8d15-b69097673740\",\"type\":\"UnionRenderers\"}},\"id\":\"dd735b9c-ec21-4605-9daf-7a34d4d326e9\",\"type\":\"ColumnDataSource\"},{\"attributes\":{\"fill_alpha\":{\"value\":0.7},\"fill_color\":{\"value\":\"#984ea3\"},\"line_alpha\":{\"value\":0.7},\"line_color\":{\"value\":\"#984ea3\"},\"x\":{\"field\":\"x\"},\"y\":{\"field\":\"y\"}},\"id\":\"be5feeeb-ddea-45d4-af4a-255ce68001d5\",\"type\":\"Square\"},{\"attributes\":{\"source\":{\"id\":\"1653f32b-9fb5-40df-a1e7-036a67a04036\",\"type\":\"ColumnDataSource\"}},\"id\":\"eacc9542-a0b5-4f1b-a5c9-e4951b5797a9\",\"type\":\"CDSView\"},{\"attributes\":{\"callback\":null,\"data\":{\"x\":{\"__ndarray__\":\"MXhf+wfXU0AZbvNjswdFQLQWsEQVdUFA5TlpnhT9QUB/x1dOYK05QImjxHmcEjZA9jYDSBB3L0AISPl4H6wqQBPuuwfAzyJAOcHprUZAIUB7WWpkesAXQJoT1Uq+ChVArO/8u0EXCkBgVNlshzgCQMeNQ+Nzu/I/POwv1Qzh+D9QxMRmcj8DQOrE7tC4mAxAQsLBRIlHEkAi4cPYoDEXQEeDpjRjzB1ASZ0GEfCuI0DVFj11sssnQOMiVKSMHyhAWRHvUxNoJEDo8cjD4g8gQLGGvR2NDRpAdpI3nV5oFECtyWH9Lp4QQIZQd9bvmwtAkshlnu1BBkBMysnQf1UAQHZJU/DYZ/c/HoEhV+G48T/rSm4vc/TmP3EgV4cD49g/xmy6+4w7zz+bEsjh3uDDPw5SRMRogKs/4GPKdPc1a78lazVXN1vCP/B84ODeUug/LOyxgXDV9z+/DBHyZAwAQAOIY+fy/QFAahF3XKCUAECV0GHvGsz+P+X4k4Nhvf0/RO/IqI98/T8rkW+v/zT9P59vGMDsAv0/zEX7plCY/D/E3siS8kj7P2yUMv+hDvs/RmrXDaYs+z+c9f5GCO36P58nVCbr7vo/Qus8hbcy/D+rD5hFMCf9P4t6dxofnPw/bRp4QYZ2/D/q8NNiN2b8P5YTVw9ESPw/l1Dy0X/K+j+WKih3ZdD5P2k8OYxHjvk/hceGh5N4+T8lpPahWSn5P6vJnePt4vY/UuhmxnXI9T8miFqdE+D0Pz7qfx5CR/Q/0khvq2US9D9LfVdHQGv0P9syeEmwYfg/\",\"dtype\":\"float64\",\"shape\":[75]},\"y\":{\"__ndarray__\":\"hLndy31yND/6fmq8dJNIP8n9DkWBPlE/aDum7souWD/b4a/JGvVgP9f34SAhymc/ZvM4DOavcD+z0M5pFmh3PxuC4zJuaoA/xjcUPlsHhz8uHAjJAiaQP9ieWRKgppY/oI7HDFTGnz+a5h2n6EimPzS6g9iZQq8/IuAQqtTstT9SSZ2AJsK+P4nS3uALk8U/ih9j7lpCzj+ASL99HTjVP4enV8oyxN0/ACL99nXg5D9fmEwVjErtPyUGgZVDi/Q/AiuHFtnO/D9OYhBYOTQEQPHSTWIQWAxA4XoUrkfhE0D8qfHSTeIbQMh2vp8ajyNArkfhehRuK0Bcj8L1KDwzQFyPwvUo/DpAPgrXo3DtQkDNzMzMzIxKQClcj8L1eFJAKVyPwvVoWECamZmZmVleQGZmZmZmJmJAAAAAAAAgZUCamZmZmRloQJqZmZmZEWtAmpmZmZkJbkCamZmZmYFwQGZmZmZm/nFAZmZmZmZ6c0BmZmZmZvZ0QDQzMzMzc3ZAAAAAAADwd0AAAAAAAGx5QAAAAAAA6HpAzMzMzMxkfEDMzMzMzOB9QM3MzMzMXH9AzczMzMxsgEAzMzMzMyuBQDMzMzMz6YFAMzMzMzOngkCamZmZmWWDQAAAAAAAJIRAAAAAAADihEAAAAAAAKCFQGZmZmZmXoZAzczMzMwch0DNzMzMzNqHQM3MzMzMmIhAMzMzMzNXiUCamZmZmRWKQAAAAAAA1IpAAAAAAACSi0AAAAAAAFCMQGZmZmZmDo1AzczMzMzMjUDNzMzMzIqOQM3MzMzMSI9A\",\"dtype\":\"float64\",\"shape\":[75]}},\"selected\":{\"id\":\"45158bab-6790-47a5-88ab-ae4e6d8e4bb3\",\"type\":\"Selection\"},\"selection_policy\":{\"id\":\"76a27914-660c-4579-a079-06ed0a561c45\",\"type\":\"UnionRenderers\"}},\"id\":\"07791840-71ee-42c5-ab0f-5c46a80718e1\",\"type\":\"ColumnDataSource\"},{\"attributes\":{},\"id\":\"dc59e8a2-bb59-4717-a90a-98f9392aa517\",\"type\":\"HelpTool\"},{\"attributes\":{\"callback\":null,\"data\":{\"x\":{\"__ndarray__\":\"MXhf+wfXU0AZbvNjswdFQLQWsEQVdUFA5TlpnhT9QUB/x1dOYK05QImjxHmcEjZA9jYDSBB3L0AISPl4H6wqQBPuuwfAzyJAOcHprUZAIUB7WWpkesAXQJoT1Uq+ChVArO/8u0EXCkBgVNlshzgCQMeNQ+Nzu/I/POwv1Qzh+D9QxMRmcj8DQOrE7tC4mAxAQsLBRIlHEkAi4cPYoDEXQEeDpjRjzB1ASZ0GEfCuI0DVFj11sssnQOMiVKSMHyhAWRHvUxNoJEDo8cjD4g8gQLGGvR2NDRpAdpI3nV5oFECtyWH9Lp4QQIZQd9bvmwtAkshlnu1BBkBMysnQf1UAQHZJU/DYZ/c/HoEhV+G48T/rSm4vc/TmP3EgV4cD49g/xmy6+4w7zz+bEsjh3uDDPw5SRMRogKs/4GPKdPc1a78lazVXN1vCP/B84ODeUug/LOyxgXDV9z+/DBHyZAwAQAOIY+fy/QFAahF3XKCUAECV0GHvGsz+P+X4k4Nhvf0/RO/IqI98/T8rkW+v/zT9P59vGMDsAv0/zEX7plCY/D/E3siS8kj7P2yUMv+hDvs/RmrXDaYs+z+c9f5GCO36P58nVCbr7vo/Qus8hbcy/D+rD5hFMCf9P4t6dxofnPw/bRp4QYZ2/D/q8NNiN2b8P5YTVw9ESPw/l1Dy0X/K+j+WKih3ZdD5P2k8OYxHjvk/hceGh5N4+T8lpPahWSn5P6vJnePt4vY/UuhmxnXI9T8miFqdE+D0Pz7qfx5CR/Q/0khvq2US9D9LfVdHQGv0P9syeEmwYfg/\",\"dtype\":\"float64\",\"shape\":[75]},\"y\":{\"__ndarray__\":\"hLndy31yND/6fmq8dJNIP8n9DkWBPlE/aDum7souWD/b4a/JGvVgP9f34SAhymc/ZvM4DOavcD+z0M5pFmh3PxuC4zJuaoA/xjcUPlsHhz8uHAjJAiaQP9ieWRKgppY/oI7HDFTGnz+a5h2n6EimPzS6g9iZQq8/IuAQqtTstT9SSZ2AJsK+P4nS3uALk8U/ih9j7lpCzj+ASL99HTjVP4enV8oyxN0/ACL99nXg5D9fmEwVjErtPyUGgZVDi/Q/AiuHFtnO/D9OYhBYOTQEQPHSTWIQWAxA4XoUrkfhE0D8qfHSTeIbQMh2vp8ajyNArkfhehRuK0Bcj8L1KDwzQFyPwvUo/DpAPgrXo3DtQkDNzMzMzIxKQClcj8L1eFJAKVyPwvVoWECamZmZmVleQGZmZmZmJmJAAAAAAAAgZUCamZmZmRloQJqZmZmZEWtAmpmZmZkJbkCamZmZmYFwQGZmZmZm/nFAZmZmZmZ6c0BmZmZmZvZ0QDQzMzMzc3ZAAAAAAADwd0AAAAAAAGx5QAAAAAAA6HpAzMzMzMxkfEDMzMzMzOB9QM3MzMzMXH9AzczMzMxsgEAzMzMzMyuBQDMzMzMz6YFAMzMzMzOngkCamZmZmWWDQAAAAAAAJIRAAAAAAADihEAAAAAAAKCFQGZmZmZmXoZAzczMzMwch0DNzMzMzNqHQM3MzMzMmIhAMzMzMzNXiUCamZmZmRWKQAAAAAAA1IpAAAAAAACSi0AAAAAAAFCMQGZmZmZmDo1AzczMzMzMjUDNzMzMzIqOQM3MzMzMSI9A\",\"dtype\":\"float64\",\"shape\":[75]}},\"selected\":{\"id\":\"03280850-9767-44a0-913b-73d806c0ef88\",\"type\":\"Selection\"},\"selection_policy\":{\"id\":\"b815eb90-612e-4e6d-b3eb-d393eee09608\",\"type\":\"UnionRenderers\"}},\"id\":\"0ff38995-5f20-4141-beb2-d80d3ee980d8\",\"type\":\"ColumnDataSource\"},{\"attributes\":{\"plot\":{\"id\":\"d77ab9b6-7f8d-4428-ae1b-8c4d4598d9d6\",\"subtype\":\"Figure\",\"type\":\"Plot\"},\"ticker\":{\"id\":\"ee95fe0a-f9d7-4f82-84c9-e5286a465f90\",\"type\":\"BasicTicker\"}},\"id\":\"6a74700e-a100-45ce-8293-6c3ebaecf64a\",\"type\":\"Grid\"},{\"attributes\":{\"callback\":null,\"end\":67.83026371506051,\"start\":-155.75375587511053},\"id\":\"e25c0207-9629-413c-a82b-b175cba0d049\",\"type\":\"Range1d\"},{\"attributes\":{},\"id\":\"7707949b-d2d5-4818-b8d7-b2d942099f5b\",\"type\":\"ResetTool\"},{\"attributes\":{},\"id\":\"57195375-90d5-4ad0-8f22-53397bf328b1\",\"type\":\"SaveTool\"},{\"attributes\":{\"source\":{\"id\":\"58e0b85f-ed13-4bb4-9598-0300eb83d83a\",\"type\":\"ColumnDataSource\"}},\"id\":\"363eea83-c5cb-4019-864d-87f771d2caa1\",\"type\":\"CDSView\"},{\"attributes\":{\"above\":[{\"id\":\"ccf0da5f-185f-43c6-98ba-dc92ef7dcf83\",\"type\":\"Legend\"}],\"below\":[{\"id\":\"12a25d16-a0c3-4a8a-9c6d-055aa4cc5e9c\",\"type\":\"LinearAxis\"}],\"left\":[{\"id\":\"1135618c-e8bb-41d2-8ef8-497c4378b6d4\",\"type\":\"LogAxis\"}],\"plot_width\":300,\"renderers\":[{\"id\":\"12a25d16-a0c3-4a8a-9c6d-055aa4cc5e9c\",\"type\":\"LinearAxis\"},{\"id\":\"6a74700e-a100-45ce-8293-6c3ebaecf64a\",\"type\":\"Grid\"},{\"id\":\"1135618c-e8bb-41d2-8ef8-497c4378b6d4\",\"type\":\"LogAxis\"},{\"id\":\"bf7f7126-587d-459c-90a9-35dedd02aa1c\",\"type\":\"Grid\"},{\"id\":\"cd50c914-ac7c-4c4b-accb-2f4f4ebfabb4\",\"type\":\"BoxAnnotation\"},{\"id\":\"e24cc2aa-708d-42e1-a68a-5a602a451b9f\",\"type\":\"GlyphRenderer\"},{\"id\":\"a36967c8-9ced-46a0-94c7-2ae9beaa951f\",\"type\":\"GlyphRenderer\"},{\"id\":\"b1eca441-4a54-4f80-a3cc-33b64acb046d\",\"type\":\"GlyphRenderer\"},{\"id\":\"26f06396-ed95-4e2f-91bb-069a3946e35b\",\"type\":\"GlyphRenderer\"},{\"id\":\"3b6fe3e9-e268-4f07-9c19-2e176e6c8b76\",\"type\":\"GlyphRenderer\"},{\"id\":\"ccf0da5f-185f-43c6-98ba-dc92ef7dcf83\",\"type\":\"Legend\"}],\"title\":{\"id\":\"2f312cf8-567d-40eb-9a88-96bb175fe6cd\",\"type\":\"Title\"},\"toolbar\":{\"id\":\"97f8df61-390f-4858-88aa-85016e62454b\",\"type\":\"Toolbar\"},\"toolbar_location\":null,\"x_range\":{\"id\":\"e25c0207-9629-413c-a82b-b175cba0d049\",\"type\":\"Range1d\"},\"x_scale\":{\"id\":\"f8e599a5-4e0f-48cb-9e6c-5ab475f59e18\",\"type\":\"LinearScale\"},\"y_range\":{\"id\":\"9ccf8799-0657-4264-b9d6-30088826f835\",\"type\":\"Range1d\"},\"y_scale\":{\"id\":\"7c40e7f5-b650-495a-9d0b-99525e758425\",\"type\":\"LogScale\"}},\"id\":\"d77ab9b6-7f8d-4428-ae1b-8c4d4598d9d6\",\"subtype\":\"Figure\",\"type\":\"Plot\"},{\"attributes\":{\"callback\":null,\"data\":{\"x\":{\"__ndarray__\":\"obiq3YaDRMA1zmQHdyeJwFN39d9jv0nA/2DHMmTDMEBTg1vfo0MzQJSqLAC1HStAJmawCw1ALUAvMzMOkVEbQMzC1bkK0B9A9aLVIp99CECB8d1HMCMSQMvm4UBv4wZAzvdjH7U6wr+Kns4gCTFSwFjhDef5MWPAK/FtlMseW8C+T9uutmVFwLwjtZb3RT/AsE+gsUhOOMCLC4YKfJcxwCsmGlzmxiTAb/bBGcc0M0DyYD9P2WhQQD5JGtleM0hAF2MtLCIwLEClLbnRUY4aQGbdFE0mxxRAztkrwRyeEEDhdwmOT/gLQJsi9FdcCglAGsHu8E8lBkBgpOigCpsAQBhtQj2KN/c/rVLlDgmU8D/3sirPLqHmP6gJykgQgtg/iWue60cPyD/bsDlYoeq/Pw1ft+w2xq+/S5oG1zE90r+a1Ui6IBq4v8FHErb3B+c/dM+NfCRp9z9CVVPxwg8AQCDiooBUkgFAVH4tAjcCAEBav8IXYDr+P/d7mw0CGP0/Daf8LMZg/D/LmQATXjH8Py0IiDFATfw/ewUlYIbf+z/bJLAeX177PzU9ewKu5/o/7dycD+2R+j/8+9K7bVD6P5+eOyVOQPo/yAACTKpB+z/AwTLEHgn8P7XjiLRecPw/MpFkq8pQ/D9yQMpEXJD7PzMiaEZ2V/o/FeuBw0UK+T8w81I3tNX3PyS2VEmYMfc/GvBX04Xw9j9+eoVoId/2P52xgdfbPPY/tWOvJ13+9D/oeWeYSZnzPzwTzjpgfPI/jyvOiV/T8T9rt3GVtNDxP9DM9pXFPPk/\",\"dtype\":\"float64\",\"shape\":[75]},\"y\":{\"__ndarray__\":\"GhExyth1ND/Sv8nbtpRIP2vylNV0PVE/aTum7souWD/At0SJ8fVgPw3Iuahxymc/MSNhhJWvcD/bTfBN02d3P2zb5nxnaoA/CD5h5MAGhz8NmeH1TyaQP+zrCsc9p5Y/LbKd76fGnz/bLW5ISEmmPww9YvTcQq8/JV2OstnstT8Er5Y7M8G+P0c+r3jqkcU/5h99k6ZBzj88bCIzFzjVP4enV8oyxN0//yH99nXg5D8qOpLLf0jtP5kqGJXUifQ/c9cS8kHP/D+/DpwzojQEQIEmwoanVwxA4lgXt9HgE0BSSZ2AJuIbQAMJih9jjiNA5q4l5INuK0AwTKYKRj0zQNv5fmq8/DpAaCJseHrtQkB/+zpwzoxKQM3MzMzMeFJAZmZmZmZqWEAAAAAAAFxeQM3MzMzMJmJAmpmZmZkfZUBmZmZmZhhoQDMzMzMzEWtAAAAAAAAKbkBmZmZmZoFwQM3MzMzM/XFAMzMzMzN6c0CamZmZmfZ0QAAAAAAAc3ZAZmZmZmbvd0DNzMzMzGt5QDMzMzMz6HpAmpmZmZlkfEAAAAAAAOF9QGZmZmZmXX9AZmZmZuZsgECamZmZGSuBQM3MzMxM6YFAAAAAAICngkAzMzMzs2WDQGZmZmbmI4RAmpmZmRnihEDNzMzMTKCFQAAAAACAXoZAMzMzM7Mch0BmZmZm5tqHQJqZmZkZmYhAzczMzExXiUAAAAAAgBWKQDMzMzOz04pAZmZmZuaRi0CamZmZGVCMQM3MzMxMDo1AAAAAAIDMjUAzMzMzs4qOQGZmZmbmSI9A\",\"dtype\":\"float64\",\"shape\":[75]}},\"selected\":{\"id\":\"7f5fa88c-b856-457d-bcf0-9b75ee7778d9\",\"type\":\"Selection\"},\"selection_policy\":{\"id\":\"7fa40d3b-b59b-461e-8fc1-8449513cb384\",\"type\":\"UnionRenderers\"}},\"id\":\"12753c84-e6a1-4cbe-93d3-b9cb671a3753\",\"type\":\"ColumnDataSource\"},{\"attributes\":{\"callback\":null,\"data\":{\"x\":{\"__ndarray__\":\"cm1sTMT3VEDEyvjosEJHQOKI6DjzCUNArgQWV9awPkB9Lm8XG3M4QEz+Qv6iYzNA7eV8HaPLLkCX1QHyTpMoQFBmYSYetiNAUB04GtGpH0AmFyVE5j8ZQJca9QPGqBNALJP+OOHHDEBNxaf7QF8AQKtislomWuw/cW2dcO6A9T/uJJvfPu0EQIaQLTI/JQ1AxGiII+PmEkCJvfVeuCsYQD6ZBhGbHB9AXQw69DTYJEAsubcwKucqQNuT9D5OmipAJyi3szEJJUBlNebh5WkgQDDcPHBr2xlArtlANXuQFEBdJadFHckQQI2Avh0ZsQtAjYiwt1rsBUCL0SDoVBgAQK6C0nEEjvc/CggLSme58T9sXU2orFPnP0v0JYz9Gdg/vT38vxYczD9nBQTe6kHHP1IhkEXJwKo/8OZnhCVAub+xtVgCpmqzP6DUpY6g0+k/PKK3T1h4+D8RTDjQc1EAQG/dAQs7TwJAQt2eHpPLAEBWEh074x//PyCap9ZSGf4/rEzaTySm/T+7aXhHRmr9P688KeqeNP0/ruZ4EemD/D8olrZcn9T7P0+vNc9hW/s/i9VVL+4P+z+0NzC24uz6P8731Kza8vo/xFf4SHzq+z+gYyHpvHb8P68ROkiFevw/BAjYdCga/D8AUp8VbW77P3JrF/nKmvo/qCQeGfq++T/dplwHJfn4P2G4p+Uva/g/OzZ0RqMZ+D8dmn/iar73P/OuA7Ka8PY/gaaeQHGn9T9hkyjAH1L0P3aZGhdAU/M/n8VP/g7P8j+90HxHNvfyPwhNBtgrqvk/\",\"dtype\":\"float64\",\"shape\":[75]},\"y\":{\"__ndarray__\":\"GhExyth1ND/Sv8nbtpRIP2vylNV0PVE/aTum7souWD/At0SJ8fVgPw3Iuahxymc/MSNhhJWvcD/bTfBN02d3P2zb5nxnaoA/CD5h5MAGhz8NmeH1TyaQP+zrCsc9p5Y/LbKd76fGnz/bLW5ISEmmPww9YvTcQq8/JV2OstnstT8Er5Y7M8G+P0c+r3jqkcU/5h99k6ZBzj88bCIzFzjVP4enV8oyxN0//yH99nXg5D8qOpLLf0jtP5kqGJXUifQ/c9cS8kHP/D+/DpwzojQEQIEmwoanVwxA4lgXt9HgE0BSSZ2AJuIbQAMJih9jjiNA5q4l5INuK0AwTKYKRj0zQNv5fmq8/DpAaCJseHrtQkB/+zpwzoxKQM3MzMzMeFJAZmZmZmZqWEAAAAAAAFxeQM3MzMzMJmJAmpmZmZkfZUBmZmZmZhhoQDMzMzMzEWtAAAAAAAAKbkBmZmZmZoFwQM3MzMzM/XFAMzMzMzN6c0CamZmZmfZ0QAAAAAAAc3ZAZmZmZmbvd0DNzMzMzGt5QDMzMzMz6HpAmpmZmZlkfEAAAAAAAOF9QGZmZmZmXX9AZmZmZuZsgECamZmZGSuBQM3MzMxM6YFAAAAAAICngkAzMzMzs2WDQGZmZmbmI4RAmpmZmRnihEDNzMzMTKCFQAAAAACAXoZAMzMzM7Mch0BmZmZm5tqHQJqZmZkZmYhAzczMzExXiUAAAAAAgBWKQDMzMzOz04pAZmZmZuaRi0CamZmZGVCMQM3MzMxMDo1AAAAAAIDMjUAzMzMzs4qOQGZmZmbmSI9A\",\"dtype\":\"float64\",\"shape\":[75]}},\"selected\":{\"id\":\"4645423f-a07a-43db-b404-6df73a191623\",\"type\":\"Selection\"},\"selection_policy\":{\"id\":\"bd241a14-3bec-4fdf-9107-040495b618fa\",\"type\":\"UnionRenderers\"}},\"id\":\"1653f32b-9fb5-40df-a1e7-036a67a04036\",\"type\":\"ColumnDataSource\"},{\"attributes\":{\"callback\":null,\"end\":0.01,\"start\":1020},\"id\":\"90c92e01-f65c-4431-b78d-36d3ff5eb530\",\"type\":\"Range1d\"},{\"attributes\":{\"line_alpha\":0.1,\"line_color\":\"#1f77b4\",\"line_width\":1.5,\"x\":{\"field\":\"x\"},\"y\":{\"field\":\"y\"}},\"id\":\"334c18ea-3445-4b7a-a14c-9bd516170118\",\"type\":\"Line\"},{\"attributes\":{\"active_drag\":\"auto\",\"active_inspect\":\"auto\",\"active_scroll\":\"auto\",\"active_tap\":\"auto\",\"tools\":[{\"id\":\"eabcb922-4905-4374-8389-736a8d02d2da\",\"type\":\"PanTool\"},{\"id\":\"bcee6d65-a490-4bb7-b3bf-65d2c0a7b391\",\"type\":\"WheelZoomTool\"},{\"id\":\"9c075755-bb7b-433e-b6ac-521dd0c084cd\",\"type\":\"BoxZoomTool\"},{\"id\":\"e3e1f76d-2168-4b87-ab96-31be064bd267\",\"type\":\"SaveTool\"},{\"id\":\"60f7e98f-4ccd-421d-ad2a-448d8de38678\",\"type\":\"ResetTool\"},{\"id\":\"7e46785c-ef57-4351-a307-03d1df562384\",\"type\":\"HelpTool\"}]},\"id\":\"97f8df61-390f-4858-88aa-85016e62454b\",\"type\":\"Toolbar\"},{\"attributes\":{},\"id\":\"eabcb922-4905-4374-8389-736a8d02d2da\",\"type\":\"PanTool\"},{\"attributes\":{\"tools\":[{\"id\":\"c9d59748-6e31-4f3f-92df-fdda54e3ceec\",\"type\":\"PanTool\"},{\"id\":\"3731b3aa-1a60-43c7-b4d9-f322b3cb3aeb\",\"type\":\"WheelZoomTool\"},{\"id\":\"797237e5-98d4-42ef-a6c0-3f1421791299\",\"type\":\"BoxZoomTool\"},{\"id\":\"ae7b1041-47fd-4dce-87a8-32ce6f6ee927\",\"type\":\"SaveTool\"},{\"id\":\"7707949b-d2d5-4818-b8d7-b2d942099f5b\",\"type\":\"ResetTool\"},{\"id\":\"ac63ad9f-a2f7-41c8-947b-2061efcca6a3\",\"type\":\"HelpTool\"},{\"id\":\"eabcb922-4905-4374-8389-736a8d02d2da\",\"type\":\"PanTool\"},{\"id\":\"bcee6d65-a490-4bb7-b3bf-65d2c0a7b391\",\"type\":\"WheelZoomTool\"},{\"id\":\"9c075755-bb7b-433e-b6ac-521dd0c084cd\",\"type\":\"BoxZoomTool\"},{\"id\":\"e3e1f76d-2168-4b87-ab96-31be064bd267\",\"type\":\"SaveTool\"},{\"id\":\"60f7e98f-4ccd-421d-ad2a-448d8de38678\",\"type\":\"ResetTool\"},{\"id\":\"7e46785c-ef57-4351-a307-03d1df562384\",\"type\":\"HelpTool\"},{\"id\":\"baf4cc67-b685-47c0-8f2e-ea5492344ffa\",\"type\":\"PanTool\"},{\"id\":\"08b4215d-2538-423e-ba52-acfb19737ee6\",\"type\":\"WheelZoomTool\"},{\"id\":\"b5bd5533-9af3-4429-a36e-b56cb53c6820\",\"type\":\"BoxZoomTool\"},{\"id\":\"57195375-90d5-4ad0-8f22-53397bf328b1\",\"type\":\"SaveTool\"},{\"id\":\"da270616-ce4a-458d-ad1c-7aefba52bed7\",\"type\":\"ResetTool\"},{\"id\":\"dc59e8a2-bb59-4717-a90a-98f9392aa517\",\"type\":\"HelpTool\"}]},\"id\":\"4bf5ff67-e0c4-4ddc-af10-70e138c66330\",\"type\":\"ProxyToolbar\"},{\"attributes\":{\"overlay\":{\"id\":\"cd50c914-ac7c-4c4b-accb-2f4f4ebfabb4\",\"type\":\"BoxAnnotation\"}},\"id\":\"9c075755-bb7b-433e-b6ac-521dd0c084cd\",\"type\":\"BoxZoomTool\"},{\"attributes\":{\"toolbar\":{\"id\":\"4bf5ff67-e0c4-4ddc-af10-70e138c66330\",\"type\":\"ProxyToolbar\"},\"toolbar_location\":\"above\"},\"id\":\"a3430a34-5ebe-4fcf-ac20-39f8614d8f8d\",\"type\":\"ToolbarBox\"},{\"attributes\":{\"data_source\":{\"id\":\"dd735b9c-ec21-4605-9daf-7a34d4d326e9\",\"type\":\"ColumnDataSource\"},\"glyph\":{\"id\":\"3084e62a-2783-4755-b923-61658f05d23d\",\"type\":\"Line\"},\"hover_glyph\":null,\"muted_glyph\":null,\"nonselection_glyph\":{\"id\":\"1a13cfcf-835c-4bf9-a7f9-20bccfdbba5d\",\"type\":\"Line\"},\"selection_glyph\":null,\"view\":{\"id\":\"27a145c7-d915-4eca-929b-852a28b92c40\",\"type\":\"CDSView\"}},\"id\":\"e24cc2aa-708d-42e1-a68a-5a602a451b9f\",\"type\":\"GlyphRenderer\"},{\"attributes\":{\"data_source\":{\"id\":\"d52e7c02-113e-4293-8204-fa403e8d2d91\",\"type\":\"ColumnDataSource\"},\"glyph\":{\"id\":\"9910aa2e-e9b3-455d-b3fa-b7f161d60e85\",\"type\":\"Line\"},\"hover_glyph\":null,\"muted_glyph\":null,\"nonselection_glyph\":{\"id\":\"f8903c2d-6223-4279-9ed1-77bab4cbe517\",\"type\":\"Line\"},\"selection_glyph\":null,\"view\":{\"id\":\"e2160b14-988a-4e4d-b141-a374091d3567\",\"type\":\"CDSView\"}},\"id\":\"34e2f21f-055e-4a0c-889c-d7939a63caa3\",\"type\":\"GlyphRenderer\"},{\"attributes\":{\"label\":{\"value\":\"old CLIRAD (H2012)\"},\"renderers\":[{\"id\":\"65904791-c844-4361-a4fe-f72487acb4b8\",\"type\":\"GlyphRenderer\"},{\"id\":\"35eccef5-1e8c-4be5-a331-4abb9aa5c461\",\"type\":\"GlyphRenderer\"}]},\"id\":\"a8879ea9-1fc1-4b57-a8eb-2aaf567c50e0\",\"type\":\"LegendItem\"},{\"attributes\":{\"data_source\":{\"id\":\"07791840-71ee-42c5-ab0f-5c46a80718e1\",\"type\":\"ColumnDataSource\"},\"glyph\":{\"id\":\"b4ae31b6-937e-43e2-8b66-2fffb1a39f09\",\"type\":\"Line\"},\"hover_glyph\":null,\"muted_glyph\":null,\"nonselection_glyph\":{\"id\":\"334c18ea-3445-4b7a-a14c-9bd516170118\",\"type\":\"Line\"},\"selection_glyph\":null,\"view\":{\"id\":\"b3472229-9dc4-438c-a54d-d22e9f23a8a4\",\"type\":\"CDSView\"}},\"id\":\"35eccef5-1e8c-4be5-a331-4abb9aa5c461\",\"type\":\"GlyphRenderer\"},{\"attributes\":{},\"id\":\"45158bab-6790-47a5-88ab-ae4e6d8e4bb3\",\"type\":\"Selection\"},{\"attributes\":{\"line_alpha\":0.1,\"line_color\":\"#1f77b4\",\"line_dash\":[6],\"line_width\":4,\"x\":{\"field\":\"x\"},\"y\":{\"field\":\"y\"}},\"id\":\"f8903c2d-6223-4279-9ed1-77bab4cbe517\",\"type\":\"Line\"},{\"attributes\":{\"items\":[{\"id\":\"8da23861-0d99-45e0-a6d1-1ce9928063bb\",\"type\":\"LegendItem\"},{\"id\":\"7ac54798-a157-4312-bb4a-12dafbff192b\",\"type\":\"LegendItem\"},{\"id\":\"106aeb4e-ef6d-408f-a152-6fcb8d6fa138\",\"type\":\"LegendItem\"}],\"label_text_font_size\":{\"value\":\"8pt\"},\"location\":\"top_center\",\"orientation\":\"horizontal\",\"plot\":{\"id\":\"d77ab9b6-7f8d-4428-ae1b-8c4d4598d9d6\",\"subtype\":\"Figure\",\"type\":\"Plot\"}},\"id\":\"ccf0da5f-185f-43c6-98ba-dc92ef7dcf83\",\"type\":\"Legend\"},{\"attributes\":{\"source\":{\"id\":\"dd735b9c-ec21-4605-9daf-7a34d4d326e9\",\"type\":\"ColumnDataSource\"}},\"id\":\"27a145c7-d915-4eca-929b-852a28b92c40\",\"type\":\"CDSView\"},{\"attributes\":{\"data_source\":{\"id\":\"823906e9-7b7d-4f9d-b02d-047e547b65c7\",\"type\":\"ColumnDataSource\"},\"glyph\":{\"id\":\"04541b2c-0c60-4ba1-aa7b-f38239e61cbf\",\"type\":\"Circle\"},\"hover_glyph\":null,\"muted_glyph\":null,\"nonselection_glyph\":{\"id\":\"12c0797c-b967-4ac7-aa37-941db260da5f\",\"type\":\"Circle\"},\"selection_glyph\":null,\"view\":{\"id\":\"4395a6cd-72bc-4abe-bb1f-225ff069b12f\",\"type\":\"CDSView\"}},\"id\":\"a36967c8-9ced-46a0-94c7-2ae9beaa951f\",\"type\":\"GlyphRenderer\"},{\"attributes\":{\"plot\":null,\"text\":\"\"},\"id\":\"2f312cf8-567d-40eb-9a88-96bb175fe6cd\",\"type\":\"Title\"},{\"attributes\":{},\"id\":\"c9d59748-6e31-4f3f-92df-fdda54e3ceec\",\"type\":\"PanTool\"},{\"attributes\":{\"callback\":null,\"data\":{\"x\":{\"__ndarray__\":\"cm1sTMT3VEDEyvjosEJHQOKI6DjzCUNArgQWV9awPkB9Lm8XG3M4QEz+Qv6iYzNA7eV8HaPLLkCX1QHyTpMoQFBmYSYetiNAUB04GtGpH0AmFyVE5j8ZQJca9QPGqBNALJP+OOHHDEBNxaf7QF8AQKtislomWuw/cW2dcO6A9T/uJJvfPu0EQIaQLTI/JQ1AxGiII+PmEkCJvfVeuCsYQD6ZBhGbHB9AXQw69DTYJEAsubcwKucqQNuT9D5OmipAJyi3szEJJUBlNebh5WkgQDDcPHBr2xlArtlANXuQFEBdJadFHckQQI2Avh0ZsQtAjYiwt1rsBUCL0SDoVBgAQK6C0nEEjvc/CggLSme58T9sXU2orFPnP0v0JYz9Gdg/vT38vxYczD9nBQTe6kHHP1IhkEXJwKo/8OZnhCVAub+xtVgCpmqzP6DUpY6g0+k/PKK3T1h4+D8RTDjQc1EAQG/dAQs7TwJAQt2eHpPLAEBWEh074x//PyCap9ZSGf4/rEzaTySm/T+7aXhHRmr9P688KeqeNP0/ruZ4EemD/D8olrZcn9T7P0+vNc9hW/s/i9VVL+4P+z+0NzC24uz6P8731Kza8vo/xFf4SHzq+z+gYyHpvHb8P68ROkiFevw/BAjYdCga/D8AUp8VbW77P3JrF/nKmvo/qCQeGfq++T/dplwHJfn4P2G4p+Uva/g/OzZ0RqMZ+D8dmn/iar73P/OuA7Ka8PY/gaaeQHGn9T9hkyjAH1L0P3aZGhdAU/M/n8VP/g7P8j+90HxHNvfyPwhNBtgrqvk/\",\"dtype\":\"float64\",\"shape\":[75]},\"y\":{\"__ndarray__\":\"GhExyth1ND/Sv8nbtpRIP2vylNV0PVE/aTum7souWD/At0SJ8fVgPw3Iuahxymc/MSNhhJWvcD/bTfBN02d3P2zb5nxnaoA/CD5h5MAGhz8NmeH1TyaQP+zrCsc9p5Y/LbKd76fGnz/bLW5ISEmmPww9YvTcQq8/JV2OstnstT8Er5Y7M8G+P0c+r3jqkcU/5h99k6ZBzj88bCIzFzjVP4enV8oyxN0//yH99nXg5D8qOpLLf0jtP5kqGJXUifQ/c9cS8kHP/D+/DpwzojQEQIEmwoanVwxA4lgXt9HgE0BSSZ2AJuIbQAMJih9jjiNA5q4l5INuK0AwTKYKRj0zQNv5fmq8/DpAaCJseHrtQkB/+zpwzoxKQM3MzMzMeFJAZmZmZmZqWEAAAAAAAFxeQM3MzMzMJmJAmpmZmZkfZUBmZmZmZhhoQDMzMzMzEWtAAAAAAAAKbkBmZmZmZoFwQM3MzMzM/XFAMzMzMzN6c0CamZmZmfZ0QAAAAAAAc3ZAZmZmZmbvd0DNzMzMzGt5QDMzMzMz6HpAmpmZmZlkfEAAAAAAAOF9QGZmZmZmXX9AZmZmZuZsgECamZmZGSuBQM3MzMxM6YFAAAAAAICngkAzMzMzs2WDQGZmZmbmI4RAmpmZmRnihEDNzMzMTKCFQAAAAACAXoZAMzMzM7Mch0BmZmZm5tqHQJqZmZkZmYhAzczMzExXiUAAAAAAgBWKQDMzMzOz04pAZmZmZuaRi0CamZmZGVCMQM3MzMxMDo1AAAAAAIDMjUAzMzMzs4qOQGZmZmbmSI9A\",\"dtype\":\"float64\",\"shape\":[75]}},\"selected\":{\"id\":\"3428e647-6db2-499b-9f77-3d665f155153\",\"type\":\"Selection\"},\"selection_policy\":{\"id\":\"6fc4e5b7-d366-4625-b281-1254f6e28aac\",\"type\":\"UnionRenderers\"}},\"id\":\"823906e9-7b7d-4f9d-b02d-047e547b65c7\",\"type\":\"ColumnDataSource\"},{\"attributes\":{\"children\":[{\"id\":\"6d128a03-107c-4946-aeaa-b508a2708023\",\"subtype\":\"Figure\",\"type\":\"Plot\"},{\"id\":\"d77ab9b6-7f8d-4428-ae1b-8c4d4598d9d6\",\"subtype\":\"Figure\",\"type\":\"Plot\"},{\"id\":\"8fa708ce-87af-46f5-84fd-4f4099c2bba8\",\"subtype\":\"Figure\",\"type\":\"Plot\"}]},\"id\":\"0f391878-16a9-4cf3-859e-ee0594f7f9a0\",\"type\":\"Row\"},{\"attributes\":{\"fill_alpha\":{\"value\":0.7},\"fill_color\":{\"value\":\"#4daf4a\"},\"line_alpha\":{\"value\":0.7},\"line_color\":{\"value\":\"#4daf4a\"},\"x\":{\"field\":\"x\"},\"y\":{\"field\":\"y\"}},\"id\":\"04541b2c-0c60-4ba1-aa7b-f38239e61cbf\",\"type\":\"Circle\"},{\"attributes\":{\"active_drag\":\"auto\",\"active_inspect\":\"auto\",\"active_scroll\":\"auto\",\"active_tap\":\"auto\",\"tools\":[{\"id\":\"baf4cc67-b685-47c0-8f2e-ea5492344ffa\",\"type\":\"PanTool\"},{\"id\":\"08b4215d-2538-423e-ba52-acfb19737ee6\",\"type\":\"WheelZoomTool\"},{\"id\":\"b5bd5533-9af3-4429-a36e-b56cb53c6820\",\"type\":\"BoxZoomTool\"},{\"id\":\"57195375-90d5-4ad0-8f22-53397bf328b1\",\"type\":\"SaveTool\"},{\"id\":\"da270616-ce4a-458d-ad1c-7aefba52bed7\",\"type\":\"ResetTool\"},{\"id\":\"dc59e8a2-bb59-4717-a90a-98f9392aa517\",\"type\":\"HelpTool\"}]},\"id\":\"9af75dc7-9bc5-4764-821b-269c561ebb3b\",\"type\":\"Toolbar\"},{\"attributes\":{},\"id\":\"d3d83e64-2182-4d33-a0dd-d91ba55e1513\",\"type\":\"BasicTickFormatter\"},{\"attributes\":{\"callback\":null,\"data\":{\"x\":{\"__ndarray__\":\"cm1sTMT3VEDEyvjosEJHQOKI6DjzCUNArgQWV9awPkB9Lm8XG3M4QEz+Qv6iYzNA7eV8HaPLLkCX1QHyTpMoQFBmYSYetiNAUB04GtGpH0AmFyVE5j8ZQJca9QPGqBNALJP+OOHHDEBNxaf7QF8AQKtislomWuw/cW2dcO6A9T/uJJvfPu0EQIaQLTI/JQ1AxGiII+PmEkCJvfVeuCsYQD6ZBhGbHB9AXQw69DTYJEAsubcwKucqQNuT9D5OmipAJyi3szEJJUBlNebh5WkgQDDcPHBr2xlArtlANXuQFEBdJadFHckQQI2Avh0ZsQtAjYiwt1rsBUCL0SDoVBgAQK6C0nEEjvc/CggLSme58T9sXU2orFPnP0v0JYz9Gdg/vT38vxYczD9nBQTe6kHHP1IhkEXJwKo/8OZnhCVAub+xtVgCpmqzP6DUpY6g0+k/PKK3T1h4+D8RTDjQc1EAQG/dAQs7TwJAQt2eHpPLAEBWEh074x//PyCap9ZSGf4/rEzaTySm/T+7aXhHRmr9P688KeqeNP0/ruZ4EemD/D8olrZcn9T7P0+vNc9hW/s/i9VVL+4P+z+0NzC24uz6P8731Kza8vo/xFf4SHzq+z+gYyHpvHb8P68ROkiFevw/BAjYdCga/D8AUp8VbW77P3JrF/nKmvo/qCQeGfq++T/dplwHJfn4P2G4p+Uva/g/OzZ0RqMZ+D8dmn/iar73P/OuA7Ka8PY/gaaeQHGn9T9hkyjAH1L0P3aZGhdAU/M/n8VP/g7P8j+90HxHNvfyPwhNBtgrqvk/\",\"dtype\":\"float64\",\"shape\":[75]},\"y\":{\"__ndarray__\":\"GhExyth1ND/Sv8nbtpRIP2vylNV0PVE/aTum7souWD/At0SJ8fVgPw3Iuahxymc/MSNhhJWvcD/bTfBN02d3P2zb5nxnaoA/CD5h5MAGhz8NmeH1TyaQP+zrCsc9p5Y/LbKd76fGnz/bLW5ISEmmPww9YvTcQq8/JV2OstnstT8Er5Y7M8G+P0c+r3jqkcU/5h99k6ZBzj88bCIzFzjVP4enV8oyxN0//yH99nXg5D8qOpLLf0jtP5kqGJXUifQ/c9cS8kHP/D+/DpwzojQEQIEmwoanVwxA4lgXt9HgE0BSSZ2AJuIbQAMJih9jjiNA5q4l5INuK0AwTKYKRj0zQNv5fmq8/DpAaCJseHrtQkB/+zpwzoxKQM3MzMzMeFJAZmZmZmZqWEAAAAAAAFxeQM3MzMzMJmJAmpmZmZkfZUBmZmZmZhhoQDMzMzMzEWtAAAAAAAAKbkBmZmZmZoFwQM3MzMzM/XFAMzMzMzN6c0CamZmZmfZ0QAAAAAAAc3ZAZmZmZmbvd0DNzMzMzGt5QDMzMzMz6HpAmpmZmZlkfEAAAAAAAOF9QGZmZmZmXX9AZmZmZuZsgECamZmZGSuBQM3MzMxM6YFAAAAAAICngkAzMzMzs2WDQGZmZmbmI4RAmpmZmRnihEDNzMzMTKCFQAAAAACAXoZAMzMzM7Mch0BmZmZm5tqHQJqZmZkZmYhAzczMzExXiUAAAAAAgBWKQDMzMzOz04pAZmZmZuaRi0CamZmZGVCMQM3MzMxMDo1AAAAAAIDMjUAzMzMzs4qOQGZmZmbmSI9A\",\"dtype\":\"float64\",\"shape\":[75]}},\"selected\":{\"id\":\"3aa1c1b7-8389-4f65-a7cc-ab4142239026\",\"type\":\"Selection\"},\"selection_policy\":{\"id\":\"1f3c89e8-18e6-42ea-bce1-29d1c653d142\",\"type\":\"UnionRenderers\"}},\"id\":\"8b03f710-c695-4ba8-85bc-41e963de20a9\",\"type\":\"ColumnDataSource\"},{\"attributes\":{\"source\":{\"id\":\"823906e9-7b7d-4f9d-b02d-047e547b65c7\",\"type\":\"ColumnDataSource\"}},\"id\":\"4395a6cd-72bc-4abe-bb1f-225ff069b12f\",\"type\":\"CDSView\"},{\"attributes\":{\"data_source\":{\"id\":\"8b03f710-c695-4ba8-85bc-41e963de20a9\",\"type\":\"ColumnDataSource\"},\"glyph\":{\"id\":\"f12f8aae-8b7c-423c-ab58-d8489e5cc76e\",\"type\":\"Line\"},\"hover_glyph\":null,\"muted_glyph\":null,\"nonselection_glyph\":{\"id\":\"b4ffac51-9de8-4d89-8c84-1962a6b806f4\",\"type\":\"Line\"},\"selection_glyph\":null,\"view\":{\"id\":\"5e0ce63f-7fc0-4c33-a18b-500d0934ea86\",\"type\":\"CDSView\"}},\"id\":\"b1eca441-4a54-4f80-a3cc-33b64acb046d\",\"type\":\"GlyphRenderer\"},{\"attributes\":{},\"id\":\"76a27914-660c-4579-a079-06ed0a561c45\",\"type\":\"UnionRenderers\"},{\"attributes\":{},\"id\":\"e3e1f76d-2168-4b87-ab96-31be064bd267\",\"type\":\"SaveTool\"},{\"attributes\":{\"line_alpha\":0.5,\"line_color\":\"#984ea3\",\"line_width\":1.5,\"x\":{\"field\":\"x\"},\"y\":{\"field\":\"y\"}},\"id\":\"f7c35673-14fb-4837-822c-7c61205b1a14\",\"type\":\"Line\"},{\"attributes\":{\"callback\":null,\"data\":{\"x\":{\"__ndarray__\":\"MXhf+wfXU0AZbvNjswdFQLQWsEQVdUFA5TlpnhT9QUB/x1dOYK05QImjxHmcEjZA9jYDSBB3L0AISPl4H6wqQBPuuwfAzyJAOcHprUZAIUB7WWpkesAXQJoT1Uq+ChVArO/8u0EXCkBgVNlshzgCQMeNQ+Nzu/I/POwv1Qzh+D9QxMRmcj8DQOrE7tC4mAxAQsLBRIlHEkAi4cPYoDEXQEeDpjRjzB1ASZ0GEfCuI0DVFj11sssnQOMiVKSMHyhAWRHvUxNoJEDo8cjD4g8gQLGGvR2NDRpAdpI3nV5oFECtyWH9Lp4QQIZQd9bvmwtAkshlnu1BBkBMysnQf1UAQHZJU/DYZ/c/HoEhV+G48T/rSm4vc/TmP3EgV4cD49g/xmy6+4w7zz+bEsjh3uDDPw5SRMRogKs/4GPKdPc1a78lazVXN1vCP/B84ODeUug/LOyxgXDV9z+/DBHyZAwAQAOIY+fy/QFAahF3XKCUAECV0GHvGsz+P+X4k4Nhvf0/RO/IqI98/T8rkW+v/zT9P59vGMDsAv0/zEX7plCY/D/E3siS8kj7P2yUMv+hDvs/RmrXDaYs+z+c9f5GCO36P58nVCbr7vo/Qus8hbcy/D+rD5hFMCf9P4t6dxofnPw/bRp4QYZ2/D/q8NNiN2b8P5YTVw9ESPw/l1Dy0X/K+j+WKih3ZdD5P2k8OYxHjvk/hceGh5N4+T8lpPahWSn5P6vJnePt4vY/UuhmxnXI9T8miFqdE+D0Pz7qfx5CR/Q/0khvq2US9D9LfVdHQGv0P9syeEmwYfg/\",\"dtype\":\"float64\",\"shape\":[75]},\"y\":{\"__ndarray__\":\"hLndy31yND/6fmq8dJNIP8n9DkWBPlE/aDum7souWD/b4a/JGvVgP9f34SAhymc/ZvM4DOavcD+z0M5pFmh3PxuC4zJuaoA/xjcUPlsHhz8uHAjJAiaQP9ieWRKgppY/oI7HDFTGnz+a5h2n6EimPzS6g9iZQq8/IuAQqtTstT9SSZ2AJsK+P4nS3uALk8U/ih9j7lpCzj+ASL99HTjVP4enV8oyxN0/ACL99nXg5D9fmEwVjErtPyUGgZVDi/Q/AiuHFtnO/D9OYhBYOTQEQPHSTWIQWAxA4XoUrkfhE0D8qfHSTeIbQMh2vp8ajyNArkfhehRuK0Bcj8L1KDwzQFyPwvUo/DpAPgrXo3DtQkDNzMzMzIxKQClcj8L1eFJAKVyPwvVoWECamZmZmVleQGZmZmZmJmJAAAAAAAAgZUCamZmZmRloQJqZmZmZEWtAmpmZmZkJbkCamZmZmYFwQGZmZmZm/nFAZmZmZmZ6c0BmZmZmZvZ0QDQzMzMzc3ZAAAAAAADwd0AAAAAAAGx5QAAAAAAA6HpAzMzMzMxkfEDMzMzMzOB9QM3MzMzMXH9AzczMzMxsgEAzMzMzMyuBQDMzMzMz6YFAMzMzMzOngkCamZmZmWWDQAAAAAAAJIRAAAAAAADihEAAAAAAAKCFQGZmZmZmXoZAzczMzMwch0DNzMzMzNqHQM3MzMzMmIhAMzMzMzNXiUCamZmZmRWKQAAAAAAA1IpAAAAAAACSi0AAAAAAAFCMQGZmZmZmDo1AzczMzMzMjUDNzMzMzIqOQM3MzMzMSI9A\",\"dtype\":\"float64\",\"shape\":[75]}},\"selected\":{\"id\":\"c8a9fc6c-35fa-4087-8ce2-b6767bf0d9cd\",\"type\":\"Selection\"},\"selection_policy\":{\"id\":\"853c8fb1-5f3d-426a-8506-00fc96b8805c\",\"type\":\"UnionRenderers\"}},\"id\":\"b50db738-98b3-4d6f-a797-40c785b18507\",\"type\":\"ColumnDataSource\"},{\"attributes\":{\"line_alpha\":0.1,\"line_color\":\"#1f77b4\",\"line_width\":1.5,\"x\":{\"field\":\"x\"},\"y\":{\"field\":\"y\"}},\"id\":\"b4ffac51-9de8-4d89-8c84-1962a6b806f4\",\"type\":\"Line\"},{\"attributes\":{\"line_alpha\":0.1,\"line_color\":\"#1f77b4\",\"line_width\":1.5,\"x\":{\"field\":\"x\"},\"y\":{\"field\":\"y\"}},\"id\":\"614ddb4d-e729-4da2-8bd4-f152344063af\",\"type\":\"Line\"},{\"attributes\":{\"label\":{\"value\":\"CRD\"},\"renderers\":[{\"id\":\"a36967c8-9ced-46a0-94c7-2ae9beaa951f\",\"type\":\"GlyphRenderer\"},{\"id\":\"b1eca441-4a54-4f80-a3cc-33b64acb046d\",\"type\":\"GlyphRenderer\"}]},\"id\":\"7ac54798-a157-4312-bb4a-12dafbff192b\",\"type\":\"LegendItem\"},{\"attributes\":{\"data_source\":{\"id\":\"c690eb7a-a3ba-4e96-84f5-e4f910af150d\",\"type\":\"ColumnDataSource\"},\"glyph\":{\"id\":\"85c2ec06-b74c-4546-90e2-2d7b969c8065\",\"type\":\"Square\"},\"hover_glyph\":null,\"muted_glyph\":null,\"nonselection_glyph\":{\"id\":\"0fe6c077-7a6a-4f99-8cf7-ec7ebf18e528\",\"type\":\"Square\"},\"selection_glyph\":null,\"view\":{\"id\":\"eb6483b2-0d44-473c-9917-ddd2d3d10878\",\"type\":\"CDSView\"}},\"id\":\"26f06396-ed95-4e2f-91bb-069a3946e35b\",\"type\":\"GlyphRenderer\"},{\"attributes\":{\"label\":{\"value\":\"CLIRAD (single-run)\"},\"renderers\":[{\"id\":\"e24cc2aa-708d-42e1-a68a-5a602a451b9f\",\"type\":\"GlyphRenderer\"}]},\"id\":\"8da23861-0d99-45e0-a6d1-1ce9928063bb\",\"type\":\"LegendItem\"},{\"attributes\":{\"fill_alpha\":{\"value\":0.1},\"fill_color\":{\"value\":\"#1f77b4\"},\"line_alpha\":{\"value\":0.1},\"line_color\":{\"value\":\"#1f77b4\"},\"x\":{\"field\":\"x\"},\"y\":{\"field\":\"y\"}},\"id\":\"12c0797c-b967-4ac7-aa37-941db260da5f\",\"type\":\"Circle\"},{\"attributes\":{},\"id\":\"03280850-9767-44a0-913b-73d806c0ef88\",\"type\":\"Selection\"},{\"attributes\":{\"label\":{\"value\":\"old CLIRAD (H2012)\"},\"renderers\":[{\"id\":\"26f06396-ed95-4e2f-91bb-069a3946e35b\",\"type\":\"GlyphRenderer\"},{\"id\":\"3b6fe3e9-e268-4f07-9c19-2e176e6c8b76\",\"type\":\"GlyphRenderer\"}]},\"id\":\"106aeb4e-ef6d-408f-a152-6fcb8d6fa138\",\"type\":\"LegendItem\"},{\"attributes\":{\"fill_alpha\":{\"value\":0.7},\"fill_color\":{\"value\":\"#984ea3\"},\"line_alpha\":{\"value\":0.7},\"line_color\":{\"value\":\"#984ea3\"},\"x\":{\"field\":\"x\"},\"y\":{\"field\":\"y\"}},\"id\":\"85c2ec06-b74c-4546-90e2-2d7b969c8065\",\"type\":\"Square\"},{\"attributes\":{},\"id\":\"4645423f-a07a-43db-b404-6df73a191623\",\"type\":\"Selection\"},{\"attributes\":{\"source\":{\"id\":\"b50db738-98b3-4d6f-a797-40c785b18507\",\"type\":\"ColumnDataSource\"}},\"id\":\"4751e83a-02d9-495c-8ffa-640e7f6bcf62\",\"type\":\"CDSView\"},{\"attributes\":{\"data_source\":{\"id\":\"b50db738-98b3-4d6f-a797-40c785b18507\",\"type\":\"ColumnDataSource\"},\"glyph\":{\"id\":\"f7c35673-14fb-4837-822c-7c61205b1a14\",\"type\":\"Line\"},\"hover_glyph\":null,\"muted_glyph\":null,\"nonselection_glyph\":{\"id\":\"614ddb4d-e729-4da2-8bd4-f152344063af\",\"type\":\"Line\"},\"selection_glyph\":null,\"view\":{\"id\":\"4751e83a-02d9-495c-8ffa-640e7f6bcf62\",\"type\":\"CDSView\"}},\"id\":\"3b6fe3e9-e268-4f07-9c19-2e176e6c8b76\",\"type\":\"GlyphRenderer\"},{\"attributes\":{\"source\":{\"id\":\"c690eb7a-a3ba-4e96-84f5-e4f910af150d\",\"type\":\"ColumnDataSource\"}},\"id\":\"eb6483b2-0d44-473c-9917-ddd2d3d10878\",\"type\":\"CDSView\"},{\"attributes\":{\"ticker\":null},\"id\":\"8d8aead9-1fcb-45ee-9818-ac8a370c6efc\",\"type\":\"LogTickFormatter\"},{\"attributes\":{\"line_color\":\"#4daf4a\",\"line_width\":1.5,\"x\":{\"field\":\"x\"},\"y\":{\"field\":\"y\"}},\"id\":\"f12f8aae-8b7c-423c-ab58-d8489e5cc76e\",\"type\":\"Line\"},{\"attributes\":{\"above\":[{\"id\":\"4882457b-272d-48de-a4b9-fff19fabcf5d\",\"type\":\"Legend\"}],\"below\":[{\"id\":\"29162f20-4825-4aac-86f3-23c5ed0d07fc\",\"type\":\"LinearAxis\"}],\"left\":[{\"id\":\"0b98b6cb-95fa-4c12-87e0-802979d6ceeb\",\"type\":\"LinearAxis\"}],\"plot_width\":300,\"renderers\":[{\"id\":\"29162f20-4825-4aac-86f3-23c5ed0d07fc\",\"type\":\"LinearAxis\"},{\"id\":\"4c673835-f810-455a-84f0-8b22d1fadd85\",\"type\":\"Grid\"},{\"id\":\"0b98b6cb-95fa-4c12-87e0-802979d6ceeb\",\"type\":\"LinearAxis\"},{\"id\":\"c356ac9b-ce4b-4359-95fd-0347b8e11767\",\"type\":\"Grid\"},{\"id\":\"a5d07a94-f5ae-4bd5-8b8a-c1db55699b7b\",\"type\":\"BoxAnnotation\"},{\"id\":\"61df9122-6e59-4cff-80c6-c511edb22506\",\"type\":\"GlyphRenderer\"},{\"id\":\"c3891cf0-21e6-4a43-ab53-2221889a1b7c\",\"type\":\"GlyphRenderer\"},{\"id\":\"8c284f09-b425-4f91-81f9-acbded96d5cb\",\"type\":\"GlyphRenderer\"},{\"id\":\"65904791-c844-4361-a4fe-f72487acb4b8\",\"type\":\"GlyphRenderer\"},{\"id\":\"35eccef5-1e8c-4be5-a331-4abb9aa5c461\",\"type\":\"GlyphRenderer\"},{\"id\":\"4882457b-272d-48de-a4b9-fff19fabcf5d\",\"type\":\"Legend\"}],\"title\":{\"id\":\"5d94e222-32c0-4ae5-9aca-b4a9513888e0\",\"type\":\"Title\"},\"toolbar\":{\"id\":\"25ebdc5f-ee9c-4b97-b66f-2c40e5260db4\",\"type\":\"Toolbar\"},\"toolbar_location\":null,\"x_range\":{\"id\":\"a8fa8928-14e3-4ba2-b601-983bb4d69874\",\"type\":\"Range1d\"},\"x_scale\":{\"id\":\"7b73574d-beb4-4e57-9ea3-0cdeeb0490bd\",\"type\":\"LinearScale\"},\"y_range\":{\"id\":\"9917bcc3-12ec-438e-87bb-9817acfc6d0b\",\"type\":\"Range1d\"},\"y_scale\":{\"id\":\"c54cd37b-e700-4483-980c-5e4a78a0ad08\",\"type\":\"LinearScale\"}},\"id\":\"6d128a03-107c-4946-aeaa-b508a2708023\",\"subtype\":\"Figure\",\"type\":\"Plot\"},{\"attributes\":{\"line_alpha\":0.6,\"line_color\":\"#377eb8\",\"line_dash\":[6],\"line_width\":5,\"x\":{\"field\":\"x\"},\"y\":{\"field\":\"y\"}},\"id\":\"3084e62a-2783-4755-b923-61658f05d23d\",\"type\":\"Line\"},{\"attributes\":{\"source\":{\"id\":\"8b03f710-c695-4ba8-85bc-41e963de20a9\",\"type\":\"ColumnDataSource\"}},\"id\":\"5e0ce63f-7fc0-4c33-a18b-500d0934ea86\",\"type\":\"CDSView\"},{\"attributes\":{\"fill_alpha\":{\"value\":0.1},\"fill_color\":{\"value\":\"#1f77b4\"},\"line_alpha\":{\"value\":0.1},\"line_color\":{\"value\":\"#1f77b4\"},\"x\":{\"field\":\"x\"},\"y\":{\"field\":\"y\"}},\"id\":\"0fe6c077-7a6a-4f99-8cf7-ec7ebf18e528\",\"type\":\"Square\"},{\"attributes\":{},\"id\":\"4de55d5e-36f2-419a-b3b2-9ae692c60d64\",\"type\":\"BasicTickFormatter\"},{\"attributes\":{},\"id\":\"5468e822-bc3e-4ca8-be68-3bf5245d570f\",\"type\":\"LogScale\"},{\"attributes\":{\"callback\":null,\"data\":{\"x\":{\"__ndarray__\":\"MXhf+wfXU0AZbvNjswdFQLQWsEQVdUFA5TlpnhT9QUB/x1dOYK05QImjxHmcEjZA9jYDSBB3L0AISPl4H6wqQBPuuwfAzyJAOcHprUZAIUB7WWpkesAXQJoT1Uq+ChVArO/8u0EXCkBgVNlshzgCQMeNQ+Nzu/I/POwv1Qzh+D9QxMRmcj8DQOrE7tC4mAxAQsLBRIlHEkAi4cPYoDEXQEeDpjRjzB1ASZ0GEfCuI0DVFj11sssnQOMiVKSMHyhAWRHvUxNoJEDo8cjD4g8gQLGGvR2NDRpAdpI3nV5oFECtyWH9Lp4QQIZQd9bvmwtAkshlnu1BBkBMysnQf1UAQHZJU/DYZ/c/HoEhV+G48T/rSm4vc/TmP3EgV4cD49g/xmy6+4w7zz+bEsjh3uDDPw5SRMRogKs/4GPKdPc1a78lazVXN1vCP/B84ODeUug/LOyxgXDV9z+/DBHyZAwAQAOIY+fy/QFAahF3XKCUAECV0GHvGsz+P+X4k4Nhvf0/RO/IqI98/T8rkW+v/zT9P59vGMDsAv0/zEX7plCY/D/E3siS8kj7P2yUMv+hDvs/RmrXDaYs+z+c9f5GCO36P58nVCbr7vo/Qus8hbcy/D+rD5hFMCf9P4t6dxofnPw/bRp4QYZ2/D/q8NNiN2b8P5YTVw9ESPw/l1Dy0X/K+j+WKih3ZdD5P2k8OYxHjvk/hceGh5N4+T8lpPahWSn5P6vJnePt4vY/UuhmxnXI9T8miFqdE+D0Pz7qfx5CR/Q/0khvq2US9D9LfVdHQGv0P9syeEmwYfg/\",\"dtype\":\"float64\",\"shape\":[75]},\"y\":{\"__ndarray__\":\"hLndy31yND/6fmq8dJNIP8n9DkWBPlE/aDum7souWD/b4a/JGvVgP9f34SAhymc/ZvM4DOavcD+z0M5pFmh3PxuC4zJuaoA/xjcUPlsHhz8uHAjJAiaQP9ieWRKgppY/oI7HDFTGnz+a5h2n6EimPzS6g9iZQq8/IuAQqtTstT9SSZ2AJsK+P4nS3uALk8U/ih9j7lpCzj+ASL99HTjVP4enV8oyxN0/ACL99nXg5D9fmEwVjErtPyUGgZVDi/Q/AiuHFtnO/D9OYhBYOTQEQPHSTWIQWAxA4XoUrkfhE0D8qfHSTeIbQMh2vp8ajyNArkfhehRuK0Bcj8L1KDwzQFyPwvUo/DpAPgrXo3DtQkDNzMzMzIxKQClcj8L1eFJAKVyPwvVoWECamZmZmVleQGZmZmZmJmJAAAAAAAAgZUCamZmZmRloQJqZmZmZEWtAmpmZmZkJbkCamZmZmYFwQGZmZmZm/nFAZmZmZmZ6c0BmZmZmZvZ0QDQzMzMzc3ZAAAAAAADwd0AAAAAAAGx5QAAAAAAA6HpAzMzMzMxkfEDMzMzMzOB9QM3MzMzMXH9AzczMzMxsgEAzMzMzMyuBQDMzMzMz6YFAMzMzMzOngkCamZmZmWWDQAAAAAAAJIRAAAAAAADihEAAAAAAAKCFQGZmZmZmXoZAzczMzMwch0DNzMzMzNqHQM3MzMzMmIhAMzMzMzNXiUCamZmZmRWKQAAAAAAA1IpAAAAAAACSi0AAAAAAAFCMQGZmZmZmDo1AzczMzMzMjUDNzMzMzIqOQM3MzMzMSI9A\",\"dtype\":\"float64\",\"shape\":[75]}},\"selected\":{\"id\":\"72fa7965-c9d1-4d41-bd02-a77a232841e1\",\"type\":\"Selection\"},\"selection_policy\":{\"id\":\"31588743-911a-465a-9138-40543eca2499\",\"type\":\"UnionRenderers\"}},\"id\":\"c690eb7a-a3ba-4e96-84f5-e4f910af150d\",\"type\":\"ColumnDataSource\"},{\"attributes\":{\"plot\":null,\"text\":\"\"},\"id\":\"7a2e77f3-1301-4236-8980-d1299b372f6f\",\"type\":\"Title\"},{\"attributes\":{},\"id\":\"bd241a14-3bec-4fdf-9107-040495b618fa\",\"type\":\"UnionRenderers\"},{\"attributes\":{},\"id\":\"4b653555-fbc1-4d1a-8607-c6ee40e91314\",\"type\":\"UnionRenderers\"},{\"attributes\":{\"axis_label\":\"pressure [mb]\",\"formatter\":{\"id\":\"a144652e-99d9-4762-94fd-9df69effe729\",\"type\":\"BasicTickFormatter\"},\"plot\":{\"id\":\"6d128a03-107c-4946-aeaa-b508a2708023\",\"subtype\":\"Figure\",\"type\":\"Plot\"},\"ticker\":{\"id\":\"a2d14292-9674-458a-bcf6-3a7f121c9d4a\",\"type\":\"BasicTicker\"}},\"id\":\"0b98b6cb-95fa-4c12-87e0-802979d6ceeb\",\"type\":\"LinearAxis\"},{\"attributes\":{\"plot\":{\"id\":\"6d128a03-107c-4946-aeaa-b508a2708023\",\"subtype\":\"Figure\",\"type\":\"Plot\"},\"ticker\":{\"id\":\"578c67b0-af94-4c9d-80fe-e640cad8dcd1\",\"type\":\"BasicTicker\"}},\"id\":\"4c673835-f810-455a-84f0-8b22d1fadd85\",\"type\":\"Grid\"},{\"attributes\":{},\"id\":\"b6eb8fe9-8fb3-4516-8d15-b69097673740\",\"type\":\"UnionRenderers\"},{\"attributes\":{},\"id\":\"31588743-911a-465a-9138-40543eca2499\",\"type\":\"UnionRenderers\"},{\"attributes\":{\"line_alpha\":0.5,\"line_color\":\"#377eb8\",\"line_dash\":[6],\"line_width\":4,\"x\":{\"field\":\"x\"},\"y\":{\"field\":\"y\"}},\"id\":\"9910aa2e-e9b3-455d-b3fa-b7f161d60e85\",\"type\":\"Line\"},{\"attributes\":{},\"id\":\"0ce0992e-2541-41b3-af59-aba81ffe9c96\",\"type\":\"Selection\"},{\"attributes\":{\"data_source\":{\"id\":\"58e0b85f-ed13-4bb4-9598-0300eb83d83a\",\"type\":\"ColumnDataSource\"},\"glyph\":{\"id\":\"a831e9ad-8272-40ab-bf29-67f641223d25\",\"type\":\"Circle\"},\"hover_glyph\":null,\"muted_glyph\":null,\"nonselection_glyph\":{\"id\":\"eafec4d2-f555-4390-a605-c35f8da68c64\",\"type\":\"Circle\"},\"selection_glyph\":null,\"view\":{\"id\":\"363eea83-c5cb-4019-864d-87f771d2caa1\",\"type\":\"CDSView\"}},\"id\":\"c3891cf0-21e6-4a43-ab53-2221889a1b7c\",\"type\":\"GlyphRenderer\"},{\"attributes\":{\"line_alpha\":0.6,\"line_color\":\"#377eb8\",\"line_dash\":[6],\"line_width\":5,\"x\":{\"field\":\"x\"},\"y\":{\"field\":\"y\"}},\"id\":\"7c3e8f45-449a-4f65-9f89-02bb824f0ad4\",\"type\":\"Line\"},{\"attributes\":{\"plot\":{\"id\":\"8fa708ce-87af-46f5-84fd-4f4099c2bba8\",\"subtype\":\"Figure\",\"type\":\"Plot\"},\"ticker\":{\"id\":\"59d79fc2-4721-4715-b071-5fe210a5d8a9\",\"type\":\"BasicTicker\"}},\"id\":\"9cb382e7-c9ea-4af8-a5c0-b9dd9b4e25ee\",\"type\":\"Grid\"},{\"attributes\":{\"dimension\":1,\"plot\":{\"id\":\"d77ab9b6-7f8d-4428-ae1b-8c4d4598d9d6\",\"subtype\":\"Figure\",\"type\":\"Plot\"},\"ticker\":{\"id\":\"c434ed9e-f104-4fe3-b90e-5d4fa28eb376\",\"type\":\"LogTicker\"}},\"id\":\"bf7f7126-587d-459c-90a9-35dedd02aa1c\",\"type\":\"Grid\"},{\"attributes\":{},\"id\":\"3731b3aa-1a60-43c7-b4d9-f322b3cb3aeb\",\"type\":\"WheelZoomTool\"},{\"attributes\":{\"ticker\":null},\"id\":\"5240af4f-ac21-442d-9113-713749d787c4\",\"type\":\"LogTickFormatter\"},{\"attributes\":{\"axis_label\":\"cooling rate [K/day]\",\"formatter\":{\"id\":\"8d72959e-380b-418e-bf58-e2f949e33004\",\"type\":\"BasicTickFormatter\"},\"plot\":{\"id\":\"8fa708ce-87af-46f5-84fd-4f4099c2bba8\",\"subtype\":\"Figure\",\"type\":\"Plot\"},\"ticker\":{\"id\":\"59d79fc2-4721-4715-b071-5fe210a5d8a9\",\"type\":\"BasicTicker\"}},\"id\":\"4da0a365-ea1c-4ffe-8ac9-d143ea86195c\",\"type\":\"LinearAxis\"},{\"attributes\":{},\"id\":\"a2d14292-9674-458a-bcf6-3a7f121c9d4a\",\"type\":\"BasicTicker\"},{\"attributes\":{},\"id\":\"8d72959e-380b-418e-bf58-e2f949e33004\",\"type\":\"BasicTickFormatter\"},{\"attributes\":{\"callback\":null,\"data\":{\"x\":{\"__ndarray__\":\"cm1sTMT3VEDEyvjosEJHQOKI6DjzCUNArgQWV9awPkB9Lm8XG3M4QEz+Qv6iYzNA7eV8HaPLLkCX1QHyTpMoQFBmYSYetiNAUB04GtGpH0AmFyVE5j8ZQJca9QPGqBNALJP+OOHHDEBNxaf7QF8AQKtislomWuw/cW2dcO6A9T/uJJvfPu0EQIaQLTI/JQ1AxGiII+PmEkCJvfVeuCsYQD6ZBhGbHB9AXQw69DTYJEAsubcwKucqQNuT9D5OmipAJyi3szEJJUBlNebh5WkgQDDcPHBr2xlArtlANXuQFEBdJadFHckQQI2Avh0ZsQtAjYiwt1rsBUCL0SDoVBgAQK6C0nEEjvc/CggLSme58T9sXU2orFPnP0v0JYz9Gdg/vT38vxYczD9nBQTe6kHHP1IhkEXJwKo/8OZnhCVAub+xtVgCpmqzP6DUpY6g0+k/PKK3T1h4+D8RTDjQc1EAQG/dAQs7TwJAQt2eHpPLAEBWEh074x//PyCap9ZSGf4/rEzaTySm/T+7aXhHRmr9P688KeqeNP0/ruZ4EemD/D8olrZcn9T7P0+vNc9hW/s/i9VVL+4P+z+0NzC24uz6P8731Kza8vo/xFf4SHzq+z+gYyHpvHb8P68ROkiFevw/BAjYdCga/D8AUp8VbW77P3JrF/nKmvo/qCQeGfq++T/dplwHJfn4P2G4p+Uva/g/OzZ0RqMZ+D8dmn/iar73P/OuA7Ka8PY/gaaeQHGn9T9hkyjAH1L0P3aZGhdAU/M/n8VP/g7P8j+90HxHNvfyPwhNBtgrqvk/\",\"dtype\":\"float64\",\"shape\":[75]},\"y\":{\"__ndarray__\":\"GhExyth1ND/Sv8nbtpRIP2vylNV0PVE/aTum7souWD/At0SJ8fVgPw3Iuahxymc/MSNhhJWvcD/bTfBN02d3P2zb5nxnaoA/CD5h5MAGhz8NmeH1TyaQP+zrCsc9p5Y/LbKd76fGnz/bLW5ISEmmPww9YvTcQq8/JV2OstnstT8Er5Y7M8G+P0c+r3jqkcU/5h99k6ZBzj88bCIzFzjVP4enV8oyxN0//yH99nXg5D8qOpLLf0jtP5kqGJXUifQ/c9cS8kHP/D+/DpwzojQEQIEmwoanVwxA4lgXt9HgE0BSSZ2AJuIbQAMJih9jjiNA5q4l5INuK0AwTKYKRj0zQNv5fmq8/DpAaCJseHrtQkB/+zpwzoxKQM3MzMzMeFJAZmZmZmZqWEAAAAAAAFxeQM3MzMzMJmJAmpmZmZkfZUBmZmZmZhhoQDMzMzMzEWtAAAAAAAAKbkBmZmZmZoFwQM3MzMzM/XFAMzMzMzN6c0CamZmZmfZ0QAAAAAAAc3ZAZmZmZmbvd0DNzMzMzGt5QDMzMzMz6HpAmpmZmZlkfEAAAAAAAOF9QGZmZmZmXX9AZmZmZuZsgECamZmZGSuBQM3MzMxM6YFAAAAAAICngkAzMzMzs2WDQGZmZmbmI4RAmpmZmRnihEDNzMzMTKCFQAAAAACAXoZAMzMzM7Mch0BmZmZm5tqHQJqZmZkZmYhAzczMzExXiUAAAAAAgBWKQDMzMzOz04pAZmZmZuaRi0CamZmZGVCMQM3MzMxMDo1AAAAAAIDMjUAzMzMzs4qOQGZmZmbmSI9A\",\"dtype\":\"float64\",\"shape\":[75]}},\"selected\":{\"id\":\"303f3fbe-2dd1-446b-8075-2323806b8110\",\"type\":\"Selection\"},\"selection_policy\":{\"id\":\"c419a3af-4cf6-4dee-b647-1391a3bd4ac7\",\"type\":\"UnionRenderers\"}},\"id\":\"58e0b85f-ed13-4bb4-9598-0300eb83d83a\",\"type\":\"ColumnDataSource\"},{\"attributes\":{\"line_alpha\":0.1,\"line_color\":\"#1f77b4\",\"line_dash\":[6],\"line_width\":5,\"x\":{\"field\":\"x\"},\"y\":{\"field\":\"y\"}},\"id\":\"1ebbe8d8-a69b-4818-bd3d-3b2e697e1429\",\"type\":\"Line\"},{\"attributes\":{},\"id\":\"04c3ed2e-3c09-4f99-8529-d80396e322aa\",\"type\":\"UnionRenderers\"},{\"attributes\":{\"fill_alpha\":{\"value\":0.1},\"fill_color\":{\"value\":\"#1f77b4\"},\"line_alpha\":{\"value\":0.1},\"line_color\":{\"value\":\"#1f77b4\"},\"x\":{\"field\":\"x\"},\"y\":{\"field\":\"y\"}},\"id\":\"eafec4d2-f555-4390-a605-c35f8da68c64\",\"type\":\"Circle\"},{\"attributes\":{},\"id\":\"bfe7a5c7-0705-4729-9e6d-3f549636d3b6\",\"type\":\"Selection\"},{\"attributes\":{\"dimension\":1,\"plot\":{\"id\":\"6d128a03-107c-4946-aeaa-b508a2708023\",\"subtype\":\"Figure\",\"type\":\"Plot\"},\"ticker\":{\"id\":\"a2d14292-9674-458a-bcf6-3a7f121c9d4a\",\"type\":\"BasicTicker\"}},\"id\":\"c356ac9b-ce4b-4359-95fd-0347b8e11767\",\"type\":\"Grid\"},{\"attributes\":{},\"id\":\"6fc4e5b7-d366-4625-b281-1254f6e28aac\",\"type\":\"UnionRenderers\"},{\"attributes\":{},\"id\":\"853c8fb1-5f3d-426a-8506-00fc96b8805c\",\"type\":\"UnionRenderers\"},{\"attributes\":{},\"id\":\"e6b4bcca-ee56-460a-97ac-6f7adfb853d7\",\"type\":\"UnionRenderers\"},{\"attributes\":{},\"id\":\"3aa1c1b7-8389-4f65-a7cc-ab4142239026\",\"type\":\"Selection\"},{\"attributes\":{},\"id\":\"c8a9fc6c-35fa-4087-8ce2-b6767bf0d9cd\",\"type\":\"Selection\"},{\"attributes\":{\"data_source\":{\"id\":\"12753c84-e6a1-4cbe-93d3-b9cb671a3753\",\"type\":\"ColumnDataSource\"},\"glyph\":{\"id\":\"7c3e8f45-449a-4f65-9f89-02bb824f0ad4\",\"type\":\"Line\"},\"hover_glyph\":null,\"muted_glyph\":null,\"nonselection_glyph\":{\"id\":\"1ebbe8d8-a69b-4818-bd3d-3b2e697e1429\",\"type\":\"Line\"},\"selection_glyph\":null,\"view\":{\"id\":\"33dcaccb-2099-4b5d-87a1-36d9b120a73f\",\"type\":\"CDSView\"}},\"id\":\"61df9122-6e59-4cff-80c6-c511edb22506\",\"type\":\"GlyphRenderer\"},{\"attributes\":{\"axis_label\":\"cooling rate [K/day]\",\"formatter\":{\"id\":\"4de55d5e-36f2-419a-b3b2-9ae692c60d64\",\"type\":\"BasicTickFormatter\"},\"plot\":{\"id\":\"6d128a03-107c-4946-aeaa-b508a2708023\",\"subtype\":\"Figure\",\"type\":\"Plot\"},\"ticker\":{\"id\":\"578c67b0-af94-4c9d-80fe-e640cad8dcd1\",\"type\":\"BasicTicker\"}},\"id\":\"29162f20-4825-4aac-86f3-23c5ed0d07fc\",\"type\":\"LinearAxis\"},{\"attributes\":{},\"id\":\"578c67b0-af94-4c9d-80fe-e640cad8dcd1\",\"type\":\"BasicTicker\"},{\"attributes\":{\"source\":{\"id\":\"12753c84-e6a1-4cbe-93d3-b9cb671a3753\",\"type\":\"ColumnDataSource\"}},\"id\":\"33dcaccb-2099-4b5d-87a1-36d9b120a73f\",\"type\":\"CDSView\"},{\"attributes\":{\"callback\":null,\"data\":{\"x\":{\"__ndarray__\":\"EFTPEMULEsBY5Soo7NcRwOAih0PfTQnAcLzxlkslFUAgkIluU6TzP+gpDdzLdwVAICHKUKVt1T+Ik7s3hMbwP6AHr9TDy9y/ECnbDOK15j+w2qv7vfbXvzCQ/22EH9Y/ABwN6PuE1b8w8RgTZ5TNP8ZxqdeCOdI/WPaTJPMAyz/gCWaNx9zKv4Bz2SfMkLG/QNDU2Dvrw7/gjDvG8ELPv3BfAcZ9A9W/QPE2M06U4r+4EtXbvdv4v8CHA9UM1vO/wNkC+csj1L9A31CHx4DGv4BAVcDWEKk/AJyjBEwOpL8A2K0iJHelvwAHMEdHKYW/QAFQrblkpT+AYHxUdJWePwCcnL/AFYO/AIDdMF2+IL9AoMQ3Xs6Hv8CEJWa/IIk/SHjx3bH7mD9glt/hXwibv4AXhtbv81c/0ZPByHVmuD+ZIBKsyEuxPwB7VdwaDKi/AMK2wPlcpL+A1M+Jt0OhvwBblecIUqS/AOzlE2F5m79AcNDuEvKUv8BO6MRU/Ja/ALSuiFPKhL8ASGwETKOKvwCIZggV2Yi/AB5fgpVndD+A7LY9mXWhv8C4xgD0L5O/ALuUgd63fD8AAPReZ8gCPwB4gQY0fE+/gN8kEc8Okj9ggdWOaw6mPwButB7pzIA/QJoEKHMXlz9A3ZOmSfmuP0CC+mOR17o/8L5CjVu4sD8gd3D5DeiqP4BAGGl6MbI/oBQpEQTvtT+AoHD36662PwCQysucWWu/gOgg5EKCgD+gmD6me76hPwAZquxAgK4/MDP40Wo1tD/gyKr9n0C3P9Ci4ei4h7S/\",\"dtype\":\"float64\",\"shape\":[75]},\"y\":{\"__ndarray__\":\"GhExyth1ND/Sv8nbtpRIP2vylNV0PVE/aTum7souWD/At0SJ8fVgPw3Iuahxymc/MSNhhJWvcD/bTfBN02d3P2zb5nxnaoA/CD5h5MAGhz8NmeH1TyaQP+zrCsc9p5Y/LbKd76fGnz/bLW5ISEmmPww9YvTcQq8/JV2OstnstT8Er5Y7M8G+P0c+r3jqkcU/5h99k6ZBzj88bCIzFzjVP4enV8oyxN0//yH99nXg5D8qOpLLf0jtP5kqGJXUifQ/c9cS8kHP/D+/DpwzojQEQIEmwoanVwxA4lgXt9HgE0BSSZ2AJuIbQAMJih9jjiNA5q4l5INuK0AwTKYKRj0zQNv5fmq8/DpAaCJseHrtQkB/+zpwzoxKQM3MzMzMeFJAZmZmZmZqWEAAAAAAAFxeQM3MzMzMJmJAmpmZmZkfZUBmZmZmZhhoQDMzMzMzEWtAAAAAAAAKbkBmZmZmZoFwQM3MzMzM/XFAMzMzMzN6c0CamZmZmfZ0QAAAAAAAc3ZAZmZmZmbvd0DNzMzMzGt5QDMzMzMz6HpAmpmZmZlkfEAAAAAAAOF9QGZmZmZmXX9AZmZmZuZsgECamZmZGSuBQM3MzMxM6YFAAAAAAICngkAzMzMzs2WDQGZmZmbmI4RAmpmZmRnihEDNzMzMTKCFQAAAAACAXoZAMzMzM7Mch0BmZmZm5tqHQJqZmZkZmYhAzczMzExXiUAAAAAAgBWKQDMzMzOz04pAZmZmZuaRi0CamZmZGVCMQM3MzMxMDo1AAAAAAIDMjUAzMzMzs4qOQGZmZmbmSI9A\",\"dtype\":\"float64\",\"shape\":[75]}},\"selected\":{\"id\":\"2abf5422-0c9e-40e9-8a77-0c46ab4ff8f0\",\"type\":\"Selection\"},\"selection_policy\":{\"id\":\"04c3ed2e-3c09-4f99-8529-d80396e322aa\",\"type\":\"UnionRenderers\"}},\"id\":\"d52e7c02-113e-4293-8204-fa403e8d2d91\",\"type\":\"ColumnDataSource\"},{\"attributes\":{\"axis_label\":\"pressure [mb]\",\"formatter\":{\"id\":\"8d8aead9-1fcb-45ee-9818-ac8a370c6efc\",\"type\":\"LogTickFormatter\"},\"plot\":{\"id\":\"d77ab9b6-7f8d-4428-ae1b-8c4d4598d9d6\",\"subtype\":\"Figure\",\"type\":\"Plot\"},\"ticker\":{\"id\":\"c434ed9e-f104-4fe3-b90e-5d4fa28eb376\",\"type\":\"LogTicker\"}},\"id\":\"1135618c-e8bb-41d2-8ef8-497c4378b6d4\",\"type\":\"LogAxis\"},{\"attributes\":{},\"id\":\"59d79fc2-4721-4715-b071-5fe210a5d8a9\",\"type\":\"BasicTicker\"},{\"attributes\":{},\"id\":\"3428e647-6db2-499b-9f77-3d665f155153\",\"type\":\"Selection\"},{\"attributes\":{},\"id\":\"1f3c89e8-18e6-42ea-bce1-29d1c653d142\",\"type\":\"UnionRenderers\"},{\"attributes\":{\"num_minor_ticks\":10},\"id\":\"c434ed9e-f104-4fe3-b90e-5d4fa28eb376\",\"type\":\"LogTicker\"},{\"attributes\":{\"items\":[{\"id\":\"8763365d-c660-4cd8-9ca7-0ea9066be7e1\",\"type\":\"LegendItem\"},{\"id\":\"20d2506f-ebb2-44c2-8622-4d474c3d1dd7\",\"type\":\"LegendItem\"}],\"label_text_font_size\":{\"value\":\"8pt\"},\"location\":\"top_center\",\"orientation\":\"horizontal\",\"plot\":{\"id\":\"8fa708ce-87af-46f5-84fd-4f4099c2bba8\",\"subtype\":\"Figure\",\"type\":\"Plot\"}},\"id\":\"ff4265af-d28e-4519-94c5-76c1e09ccdaf\",\"type\":\"Legend\"},{\"attributes\":{},\"id\":\"7203a3a6-9339-4220-8075-3f2ce1d2fb7c\",\"type\":\"LinearScale\"},{\"attributes\":{},\"id\":\"72fa7965-c9d1-4d41-bd02-a77a232841e1\",\"type\":\"Selection\"},{\"attributes\":{},\"id\":\"2abf5422-0c9e-40e9-8a77-0c46ab4ff8f0\",\"type\":\"Selection\"},{\"attributes\":{\"data_source\":{\"id\":\"b284ad49-c8b2-45da-b92b-4d742642c63d\",\"type\":\"ColumnDataSource\"},\"glyph\":{\"id\":\"4895c00a-6dde-49bd-95b1-a52a77f804d6\",\"type\":\"Circle\"},\"hover_glyph\":null,\"muted_glyph\":null,\"nonselection_glyph\":{\"id\":\"68102393-00f1-4cf2-a108-3ecc3c782fe2\",\"type\":\"Circle\"},\"selection_glyph\":null,\"view\":{\"id\":\"45de0053-c95b-449b-9e41-30afeba433f9\",\"type\":\"CDSView\"}},\"id\":\"04f77bb5-dec0-40d9-be3c-237beb87d2d1\",\"type\":\"GlyphRenderer\"},{\"attributes\":{\"fill_alpha\":{\"value\":0.7},\"fill_color\":{\"value\":\"#4daf4a\"},\"line_alpha\":{\"value\":0.7},\"line_color\":{\"value\":\"#4daf4a\"},\"x\":{\"field\":\"x\"},\"y\":{\"field\":\"y\"}},\"id\":\"a831e9ad-8272-40ab-bf29-67f641223d25\",\"type\":\"Circle\"}],\"root_ids\":[\"942ed771-8545-4e71-847f-0b219cdef59d\"]},\"title\":\"Bokeh Application\",\"version\":\"0.12.16\"}};\n",
       "  var render_items = [{\"docid\":\"fe94a9d6-ef0d-4746-afa0-6f2f7cdb9ee2\",\"elementid\":\"cb543985-e091-455c-b3c3-357a26ecf860\",\"modelid\":\"942ed771-8545-4e71-847f-0b219cdef59d\"}];\n",
       "  root.Bokeh.embed.embed_items_notebook(docs_json, render_items);\n",
       "\n",
       "  }\n",
       "  if (root.Bokeh !== undefined) {\n",
       "    embed_document(root);\n",
       "  } else {\n",
       "    var attempts = 0;\n",
       "    var timer = setInterval(function(root) {\n",
       "      if (root.Bokeh !== undefined) {\n",
       "        embed_document(root);\n",
       "        clearInterval(timer);\n",
       "      }\n",
       "      attempts++;\n",
       "      if (attempts > 100) {\n",
       "        console.log(\"Bokeh: ERROR: Unable to run BokehJS code because BokehJS library is missing\")\n",
       "        clearInterval(timer);\n",
       "      }\n",
       "    }, 10, root)\n",
       "  }\n",
       "})(window);"
      ],
      "application/vnd.bokehjs_exec.v0+json": ""
     },
     "metadata": {
      "application/vnd.bokehjs_exec.v0+json": {
       "id": "942ed771-8545-4e71-847f-0b219cdef59d"
      }
     },
     "output_type": "display_data"
    },
    {
     "data": {
      "text/markdown": [
       "*FIGURE.* Cooling rates & difference."
      ],
      "text/plain": [
       "<IPython.core.display.Markdown object>"
      ]
     },
     "metadata": {},
     "output_type": "display_data"
    },
    {
     "data": {
      "text/html": [
       "<a id=\"Fluxes._mls.\"></a>"
      ],
      "text/plain": [
       "<IPython.core.display.HTML object>"
      ]
     },
     "metadata": {},
     "output_type": "display_data"
    },
    {
     "data": {
      "text/markdown": [
       "# Fluxes. mls."
      ],
      "text/plain": [
       "<IPython.core.display.Markdown object>"
      ]
     },
     "metadata": {},
     "output_type": "display_data"
    },
    {
     "data": {
      "text/html": [
       "\n",
       "<div class=\"bk-root\">\n",
       "    <div class=\"bk-plotdiv\" id=\"039573ef-88ea-4e71-91b6-3e956f5503d2\"></div>\n",
       "</div>"
      ]
     },
     "metadata": {},
     "output_type": "display_data"
    },
    {
     "data": {
      "application/javascript": [
       "(function(root) {\n",
       "  function embed_document(root) {\n",
       "    \n",
       "  var docs_json = {\"44fe7bab-5085-4533-b6b0-35dd6de37e4c\":{\"roots\":{\"references\":[{\"attributes\":{},\"id\":\"68f20fa1-6d17-48b2-bd98-42314aaa79fb\",\"type\":\"CategoricalTicker\"},{\"attributes\":{},\"id\":\"4ad12905-fae0-4998-a33c-fe0dfff1aaea\",\"type\":\"PanTool\"},{\"attributes\":{\"fill_color\":{\"value\":\"#1f77b4\"},\"line_color\":{\"value\":\"#1f77b4\"},\"top\":{\"field\":\"flux\"},\"width\":{\"value\":0.9},\"x\":{\"field\":\"band\"}},\"id\":\"15de95ae-f284-4f43-b463-67feade2ce4e\",\"type\":\"VBar\"},{\"attributes\":{\"dimension\":1,\"plot\":{\"id\":\"bdfa4fa3-0e17-4788-96f5-76f5a0d028c3\",\"subtype\":\"Figure\",\"type\":\"Plot\"},\"ticker\":{\"id\":\"3e73ef5b-b02e-44c6-9c07-0f2ae8beccd3\",\"type\":\"BasicTicker\"}},\"id\":\"aa00bff2-d13a-44f4-8ca2-2fe5b3662b76\",\"type\":\"Grid\"},{\"attributes\":{\"data_source\":{\"id\":\"50775853-84a7-4f9c-b3c9-403676f15245\",\"type\":\"ColumnDataSource\"},\"glyph\":{\"id\":\"0eed5277-c740-4b32-8497-7a50af7bab2b\",\"type\":\"VBar\"},\"hover_glyph\":null,\"muted_glyph\":null,\"nonselection_glyph\":{\"id\":\"e21376b0-13f0-4f1e-9b76-93943a37775d\",\"type\":\"VBar\"},\"selection_glyph\":null,\"view\":{\"id\":\"5c21f789-1975-4aa8-a09a-a7d2499d6f64\",\"type\":\"CDSView\"}},\"id\":\"118bc2b9-a2e8-4866-a878-f4b4d2f2bc43\",\"type\":\"GlyphRenderer\"},{\"attributes\":{\"fill_alpha\":{\"value\":0.1},\"fill_color\":{\"value\":\"#1f77b4\"},\"line_alpha\":{\"value\":0.1},\"line_color\":{\"value\":\"#1f77b4\"},\"top\":{\"field\":\"flux\"},\"width\":{\"value\":0.9},\"x\":{\"field\":\"band\"}},\"id\":\"e21376b0-13f0-4f1e-9b76-93943a37775d\",\"type\":\"VBar\"},{\"attributes\":{},\"id\":\"82350b42-3ee9-4416-8b6e-dccb53389219\",\"type\":\"HelpTool\"},{\"attributes\":{},\"id\":\"f35c2a2c-3003-4b37-907f-e80fa96d7dcf\",\"type\":\"CategoricalScale\"},{\"attributes\":{\"overlay\":{\"id\":\"369a2e3f-5855-463d-8829-19f230e8e577\",\"type\":\"BoxAnnotation\"}},\"id\":\"d24f0931-529d-4d91-a3e4-13fb0b004056\",\"type\":\"BoxZoomTool\"},{\"attributes\":{\"callback\":null},\"id\":\"7fccde64-b36d-423d-9992-4e9bb2250704\",\"type\":\"DataRange1d\"},{\"attributes\":{\"axis_label\":\"spectral band\",\"formatter\":{\"id\":\"88dd012a-3358-49dc-8371-d528c864c2de\",\"type\":\"CategoricalTickFormatter\"},\"plot\":{\"id\":\"bdfa4fa3-0e17-4788-96f5-76f5a0d028c3\",\"subtype\":\"Figure\",\"type\":\"Plot\"},\"ticker\":{\"id\":\"68f20fa1-6d17-48b2-bd98-42314aaa79fb\",\"type\":\"CategoricalTicker\"}},\"id\":\"10f0948a-9482-4538-acc7-b1cfbc2fe060\",\"type\":\"CategoricalAxis\"},{\"attributes\":{},\"id\":\"3e73ef5b-b02e-44c6-9c07-0f2ae8beccd3\",\"type\":\"BasicTicker\"},{\"attributes\":{\"axis_label\":\"flux (W m-2)\",\"formatter\":{\"id\":\"f3de0899-7062-450d-a7bd-f6c92075124d\",\"type\":\"BasicTickFormatter\"},\"plot\":{\"id\":\"bdfa4fa3-0e17-4788-96f5-76f5a0d028c3\",\"subtype\":\"Figure\",\"type\":\"Plot\"},\"ticker\":{\"id\":\"3e73ef5b-b02e-44c6-9c07-0f2ae8beccd3\",\"type\":\"BasicTicker\"}},\"id\":\"ce11a694-d2c8-4935-acd4-c33f3860a9d5\",\"type\":\"LinearAxis\"},{\"attributes\":{\"data_source\":{\"id\":\"992c5f48-afc3-49b3-8e17-ed447b6c4d86\",\"type\":\"ColumnDataSource\"},\"glyph\":{\"id\":\"15de95ae-f284-4f43-b463-67feade2ce4e\",\"type\":\"VBar\"},\"hover_glyph\":null,\"muted_glyph\":null,\"nonselection_glyph\":{\"id\":\"79055493-85cd-4189-9e73-bc265143c522\",\"type\":\"VBar\"},\"selection_glyph\":null,\"view\":{\"id\":\"2d5a7784-70a4-4c61-934d-471836931703\",\"type\":\"CDSView\"}},\"id\":\"cd97add3-b9ab-4d0d-b581-a1876d331cc8\",\"type\":\"GlyphRenderer\"},{\"attributes\":{},\"id\":\"97792f60-8ccf-456d-bbd4-fd05e02c0f86\",\"type\":\"WheelZoomTool\"},{\"attributes\":{\"callback\":null,\"data\":{\"band\":[\"1\",\"2\",\"3\",\"4\",\"5\",\"6\",\"7\",\"8\",\"9\",\"10\",\"11\"],\"flux\":{\"__ndarray__\":\"AAAAAyUF9r4AgsR29wDYPwC4H/DAANO/ANyul6YIsD+Ajh6/t+nfPwB0ImabwLM/ALE8WXvplz/oLi76r8owQIA0KnCyDcY/AKBF71TAjT8AcGzRXW2APw==\",\"dtype\":\"float64\",\"shape\":[11]}},\"selected\":{\"id\":\"895a62d5-614f-4cb5-9c15-1ad89c7966a7\",\"type\":\"Selection\"},\"selection_policy\":{\"id\":\"e5716a8c-7129-45dc-9690-dc5a5453d99a\",\"type\":\"UnionRenderers\"}},\"id\":\"50775853-84a7-4f9c-b3c9-403676f15245\",\"type\":\"ColumnDataSource\"},{\"attributes\":{\"plot\":null,\"text\":\"TOA flux. CLIRAD (single-run) - CRD.\"},\"id\":\"a27b21b1-d155-4e12-b698-7720ffdbba9f\",\"type\":\"Title\"},{\"attributes\":{\"fill_alpha\":{\"value\":0.1},\"fill_color\":{\"value\":\"#1f77b4\"},\"line_alpha\":{\"value\":0.1},\"line_color\":{\"value\":\"#1f77b4\"},\"top\":{\"field\":\"flux\"},\"width\":{\"value\":0.9},\"x\":{\"field\":\"band\"}},\"id\":\"79055493-85cd-4189-9e73-bc265143c522\",\"type\":\"VBar\"},{\"attributes\":{},\"id\":\"11e7c78f-13d9-447c-a6bf-9280e84f71b7\",\"type\":\"LinearScale\"},{\"attributes\":{\"callback\":null,\"data\":{\"band\":[\"1\",\"2\",\"3\",\"4\",\"5\",\"6\",\"7\",\"8\",\"9\",\"10\",\"11\"],\"flux\":{\"__ndarray__\":\"AIMde81dyD8AYEI3wVi1vwBYNyirM4i/ANGnfnO5zj9A+KOoM/fOvwBuLCgMysK/AHAlOzYC1z8sB0L+DuUTQMBJ06BoHsi/QL8FwBXcvT8AZ1U6DnKtPw==\",\"dtype\":\"float64\",\"shape\":[11]}},\"selected\":{\"id\":\"845ec8cc-620e-4e91-8450-3997ae7b8f99\",\"type\":\"Selection\"},\"selection_policy\":{\"id\":\"427d1535-af04-41c4-8b07-cc6f7d70d401\",\"type\":\"UnionRenderers\"}},\"id\":\"24c91fd3-4db0-4c5e-a9c4-c0cb4619ddf4\",\"type\":\"ColumnDataSource\"},{\"attributes\":{\"plot\":{\"id\":\"bdfa4fa3-0e17-4788-96f5-76f5a0d028c3\",\"subtype\":\"Figure\",\"type\":\"Plot\"},\"ticker\":{\"id\":\"68f20fa1-6d17-48b2-bd98-42314aaa79fb\",\"type\":\"CategoricalTicker\"}},\"id\":\"adfc4925-d541-4233-9429-367d137c9159\",\"type\":\"Grid\"},{\"attributes\":{\"callback\":null,\"factors\":[\"1\",\"2\",\"3\",\"4\",\"5\",\"6\",\"7\",\"8\",\"9\",\"10\",\"11\"]},\"id\":\"e2243e70-0695-462f-af35-592a8c115813\",\"type\":\"FactorRange\"},{\"attributes\":{\"bottom_units\":\"screen\",\"fill_alpha\":{\"value\":0.5},\"fill_color\":{\"value\":\"lightgrey\"},\"left_units\":\"screen\",\"level\":\"overlay\",\"line_alpha\":{\"value\":1.0},\"line_color\":{\"value\":\"black\"},\"line_dash\":[4,4],\"line_width\":{\"value\":2},\"plot\":null,\"render_mode\":\"css\",\"right_units\":\"screen\",\"top_units\":\"screen\"},\"id\":\"369a2e3f-5855-463d-8829-19f230e8e577\",\"type\":\"BoxAnnotation\"},{\"attributes\":{},\"id\":\"bbc42af7-9cfc-431a-b6ab-9ddf8fc64162\",\"type\":\"ResetTool\"},{\"attributes\":{\"below\":[{\"id\":\"10f0948a-9482-4538-acc7-b1cfbc2fe060\",\"type\":\"CategoricalAxis\"}],\"left\":[{\"id\":\"ce11a694-d2c8-4935-acd4-c33f3860a9d5\",\"type\":\"LinearAxis\"}],\"plot_height\":300,\"plot_width\":300,\"renderers\":[{\"id\":\"10f0948a-9482-4538-acc7-b1cfbc2fe060\",\"type\":\"CategoricalAxis\"},{\"id\":\"adfc4925-d541-4233-9429-367d137c9159\",\"type\":\"Grid\"},{\"id\":\"ce11a694-d2c8-4935-acd4-c33f3860a9d5\",\"type\":\"LinearAxis\"},{\"id\":\"aa00bff2-d13a-44f4-8ca2-2fe5b3662b76\",\"type\":\"Grid\"},{\"id\":\"369a2e3f-5855-463d-8829-19f230e8e577\",\"type\":\"BoxAnnotation\"},{\"id\":\"cd97add3-b9ab-4d0d-b581-a1876d331cc8\",\"type\":\"GlyphRenderer\"}],\"title\":{\"id\":\"a27b21b1-d155-4e12-b698-7720ffdbba9f\",\"type\":\"Title\"},\"toolbar\":{\"id\":\"6972239c-13ef-4c83-a0ff-2aff5746ec10\",\"type\":\"Toolbar\"},\"toolbar_location\":null,\"x_range\":{\"id\":\"e2243e70-0695-462f-af35-592a8c115813\",\"type\":\"FactorRange\"},\"x_scale\":{\"id\":\"f35c2a2c-3003-4b37-907f-e80fa96d7dcf\",\"type\":\"CategoricalScale\"},\"y_range\":{\"id\":\"7fccde64-b36d-423d-9992-4e9bb2250704\",\"type\":\"DataRange1d\"},\"y_scale\":{\"id\":\"11e7c78f-13d9-447c-a6bf-9280e84f71b7\",\"type\":\"LinearScale\"}},\"id\":\"bdfa4fa3-0e17-4788-96f5-76f5a0d028c3\",\"subtype\":\"Figure\",\"type\":\"Plot\"},{\"attributes\":{},\"id\":\"6e6a3d1d-90b4-4a2f-bf08-d82cf5f86d79\",\"type\":\"SaveTool\"},{\"attributes\":{\"source\":{\"id\":\"992c5f48-afc3-49b3-8e17-ed447b6c4d86\",\"type\":\"ColumnDataSource\"}},\"id\":\"2d5a7784-70a4-4c61-934d-471836931703\",\"type\":\"CDSView\"},{\"attributes\":{\"active_drag\":\"auto\",\"active_inspect\":\"auto\",\"active_scroll\":\"auto\",\"active_tap\":\"auto\",\"tools\":[{\"id\":\"4ad12905-fae0-4998-a33c-fe0dfff1aaea\",\"type\":\"PanTool\"},{\"id\":\"97792f60-8ccf-456d-bbd4-fd05e02c0f86\",\"type\":\"WheelZoomTool\"},{\"id\":\"d24f0931-529d-4d91-a3e4-13fb0b004056\",\"type\":\"BoxZoomTool\"},{\"id\":\"6e6a3d1d-90b4-4a2f-bf08-d82cf5f86d79\",\"type\":\"SaveTool\"},{\"id\":\"bbc42af7-9cfc-431a-b6ab-9ddf8fc64162\",\"type\":\"ResetTool\"},{\"id\":\"82350b42-3ee9-4416-8b6e-dccb53389219\",\"type\":\"HelpTool\"}]},\"id\":\"6972239c-13ef-4c83-a0ff-2aff5746ec10\",\"type\":\"Toolbar\"},{\"attributes\":{\"active_drag\":\"auto\",\"active_inspect\":\"auto\",\"active_scroll\":\"auto\",\"active_tap\":\"auto\",\"tools\":[{\"id\":\"0d112989-4959-4357-980a-727640a10c3c\",\"type\":\"PanTool\"},{\"id\":\"c201e5b9-c6a8-4d64-a206-76e256e6b853\",\"type\":\"WheelZoomTool\"},{\"id\":\"87e04a36-71fb-442c-a527-7363b369d9d9\",\"type\":\"BoxZoomTool\"},{\"id\":\"bdd91c3a-62f1-4117-b4b2-9a67f5355641\",\"type\":\"SaveTool\"},{\"id\":\"f57ac57b-2f8d-4a81-8722-d64b52687412\",\"type\":\"ResetTool\"},{\"id\":\"5448f19d-ca5e-4327-912e-2a231c546cb8\",\"type\":\"HelpTool\"}]},\"id\":\"36d42871-dde9-473c-87d2-0ccf235d07e5\",\"type\":\"Toolbar\"},{\"attributes\":{\"callback\":null,\"factors\":[\"1\",\"2\",\"3\",\"4\",\"5\",\"6\",\"7\",\"8\",\"9\",\"10\",\"11\"]},\"id\":\"290192d4-ab68-4ee1-b809-96cfafe3cff7\",\"type\":\"FactorRange\"},{\"attributes\":{},\"id\":\"3e2d03c2-877b-4576-b9da-ca4fe76a7734\",\"type\":\"CategoricalTicker\"},{\"attributes\":{},\"id\":\"384045cd-9161-471e-ba9b-75875a9aa5ff\",\"type\":\"PanTool\"},{\"attributes\":{\"below\":[{\"id\":\"8abaede8-83e6-466e-a8c7-24424c57321b\",\"type\":\"CategoricalAxis\"}],\"left\":[{\"id\":\"43195d8e-ebca-43a5-b8ac-7cf044718df1\",\"type\":\"LinearAxis\"}],\"plot_height\":300,\"plot_width\":300,\"renderers\":[{\"id\":\"8abaede8-83e6-466e-a8c7-24424c57321b\",\"type\":\"CategoricalAxis\"},{\"id\":\"47c7d1d1-6a13-422f-8064-c695b317e8c5\",\"type\":\"Grid\"},{\"id\":\"43195d8e-ebca-43a5-b8ac-7cf044718df1\",\"type\":\"LinearAxis\"},{\"id\":\"c73488a9-880b-444a-9a0e-05dbe72b99ec\",\"type\":\"Grid\"},{\"id\":\"c18803f4-1a1e-4b95-8347-366d3a814481\",\"type\":\"BoxAnnotation\"},{\"id\":\"b98bf646-6ed1-4d56-ac5a-6811a0cc44c6\",\"type\":\"GlyphRenderer\"}],\"title\":{\"id\":\"7ed057b4-49d2-4874-9d7b-0cd103661556\",\"type\":\"Title\"},\"toolbar\":{\"id\":\"47c7e23d-f212-48cb-acda-7623baca80af\",\"type\":\"Toolbar\"},\"toolbar_location\":null,\"x_range\":{\"id\":\"290192d4-ab68-4ee1-b809-96cfafe3cff7\",\"type\":\"FactorRange\"},\"x_scale\":{\"id\":\"e1c0dadd-5586-45d0-8c27-ea5f0c039c41\",\"type\":\"CategoricalScale\"},\"y_range\":{\"id\":\"5cdd23da-688e-437a-b2c7-96addcab6eec\",\"type\":\"DataRange1d\"},\"y_scale\":{\"id\":\"2ccae5e0-3b43-429d-afba-759bd6b5bb5d\",\"type\":\"LinearScale\"}},\"id\":\"4fb3dac0-a31c-4dea-a2f4-715a2fcb8c2a\",\"subtype\":\"Figure\",\"type\":\"Plot\"},{\"attributes\":{\"fill_color\":{\"value\":\"#1f77b4\"},\"line_color\":{\"value\":\"#1f77b4\"},\"top\":{\"field\":\"flux\"},\"width\":{\"value\":0.9},\"x\":{\"field\":\"band\"}},\"id\":\"0eed5277-c740-4b32-8497-7a50af7bab2b\",\"type\":\"VBar\"},{\"attributes\":{},\"id\":\"59e83d74-9cc7-4a94-afe1-c75e805ec5c9\",\"type\":\"HelpTool\"},{\"attributes\":{},\"id\":\"4905d3f7-c72b-4fdc-86b3-c9a5a48ee127\",\"type\":\"CategoricalScale\"},{\"attributes\":{},\"id\":\"427d1535-af04-41c4-8b07-cc6f7d70d401\",\"type\":\"UnionRenderers\"},{\"attributes\":{\"children\":[{\"id\":\"d0ea688b-9db9-458e-a993-156d647bbb76\",\"type\":\"Row\"}]},\"id\":\"b2836392-a93b-4715-9097-359f41d6fccf\",\"type\":\"Column\"},{\"attributes\":{},\"id\":\"5a82d953-7a2b-4c1f-8221-a539b8b59c4a\",\"type\":\"BasicTickFormatter\"},{\"attributes\":{},\"id\":\"63e98ade-9cdf-43cf-98bb-67f4b16a938e\",\"type\":\"LinearScale\"},{\"attributes\":{},\"id\":\"44fe7327-6291-4b42-8fea-a75b96f6f8ee\",\"type\":\"CategoricalTickFormatter\"},{\"attributes\":{\"overlay\":{\"id\":\"0ac98116-60be-4b7d-b49c-74e1362a133e\",\"type\":\"BoxAnnotation\"}},\"id\":\"87e04a36-71fb-442c-a527-7363b369d9d9\",\"type\":\"BoxZoomTool\"},{\"attributes\":{},\"id\":\"4bd3efad-1224-4710-b2b7-6103e8c1c3df\",\"type\":\"WheelZoomTool\"},{\"attributes\":{\"callback\":null,\"data\":{\"band\":[\"1\",\"2\",\"3\",\"4\",\"5\",\"6\",\"7\",\"8\",\"9\",\"10\",\"11\"],\"flux\":{\"__ndarray__\":\"AEILCRhdyD+AzEHQ0arSP0DMe5xpwtO/gGStodRe0z/ASgaAKm7QPwBwl/2607G/QKz+CMOA2D8v10dM9VszQAC2wvS9hpC/YNQ5UPHJwD9AvtXft8awPw==\",\"dtype\":\"float64\",\"shape\":[11]}},\"selected\":{\"id\":\"5fb66c96-595f-4758-86e2-be6c3ab4ba0a\",\"type\":\"Selection\"},\"selection_policy\":{\"id\":\"a90d80b6-15eb-48e1-9e44-b8cd09d27197\",\"type\":\"UnionRenderers\"}},\"id\":\"992c5f48-afc3-49b3-8e17-ed447b6c4d86\",\"type\":\"ColumnDataSource\"},{\"attributes\":{\"below\":[{\"id\":\"7012a13d-3ccd-4b7d-8b80-10dee814feed\",\"type\":\"CategoricalAxis\"}],\"left\":[{\"id\":\"deaabf5f-9d8b-42c1-b739-2c7615e715ae\",\"type\":\"LinearAxis\"}],\"plot_height\":300,\"plot_width\":300,\"renderers\":[{\"id\":\"7012a13d-3ccd-4b7d-8b80-10dee814feed\",\"type\":\"CategoricalAxis\"},{\"id\":\"4c8e2ba8-9587-4604-b96f-d97b790ffab4\",\"type\":\"Grid\"},{\"id\":\"deaabf5f-9d8b-42c1-b739-2c7615e715ae\",\"type\":\"LinearAxis\"},{\"id\":\"284a21a8-cca8-4365-abb4-12c710b736ec\",\"type\":\"Grid\"},{\"id\":\"0ac98116-60be-4b7d-b49c-74e1362a133e\",\"type\":\"BoxAnnotation\"},{\"id\":\"118bc2b9-a2e8-4866-a878-f4b4d2f2bc43\",\"type\":\"GlyphRenderer\"}],\"title\":{\"id\":\"8b7aaede-f717-459a-916a-e9506f7d8509\",\"type\":\"Title\"},\"toolbar\":{\"id\":\"36d42871-dde9-473c-87d2-0ccf235d07e5\",\"type\":\"Toolbar\"},\"toolbar_location\":null,\"x_range\":{\"id\":\"35529cea-dbe2-455e-9f58-ba02a3ba2d04\",\"type\":\"FactorRange\"},\"x_scale\":{\"id\":\"4905d3f7-c72b-4fdc-86b3-c9a5a48ee127\",\"type\":\"CategoricalScale\"},\"y_range\":{\"id\":\"1304d4bf-40ae-4701-aa62-10ea48f9604b\",\"type\":\"DataRange1d\"},\"y_scale\":{\"id\":\"63e98ade-9cdf-43cf-98bb-67f4b16a938e\",\"type\":\"LinearScale\"}},\"id\":\"7594c9a4-633e-4197-94eb-d1b457579c22\",\"subtype\":\"Figure\",\"type\":\"Plot\"},{\"attributes\":{},\"id\":\"f3de0899-7062-450d-a7bd-f6c92075124d\",\"type\":\"BasicTickFormatter\"},{\"attributes\":{\"bottom_units\":\"screen\",\"fill_alpha\":{\"value\":0.5},\"fill_color\":{\"value\":\"lightgrey\"},\"left_units\":\"screen\",\"level\":\"overlay\",\"line_alpha\":{\"value\":1.0},\"line_color\":{\"value\":\"black\"},\"line_dash\":[4,4],\"line_width\":{\"value\":2},\"plot\":null,\"render_mode\":\"css\",\"right_units\":\"screen\",\"top_units\":\"screen\"},\"id\":\"0ac98116-60be-4b7d-b49c-74e1362a133e\",\"type\":\"BoxAnnotation\"},{\"attributes\":{\"fill_alpha\":{\"value\":0.1},\"fill_color\":{\"value\":\"#1f77b4\"},\"line_alpha\":{\"value\":0.1},\"line_color\":{\"value\":\"#1f77b4\"},\"top\":{\"field\":\"flux\"},\"width\":{\"value\":0.9},\"x\":{\"field\":\"band\"}},\"id\":\"4cd97c6c-b494-4016-8f01-acc0d56ec8bc\",\"type\":\"VBar\"},{\"attributes\":{\"source\":{\"id\":\"24c91fd3-4db0-4c5e-a9c4-c0cb4619ddf4\",\"type\":\"ColumnDataSource\"}},\"id\":\"32c176f5-7216-482e-a147-b2f24d454e47\",\"type\":\"CDSView\"},{\"attributes\":{\"active_drag\":\"auto\",\"active_inspect\":\"auto\",\"active_scroll\":\"auto\",\"active_tap\":\"auto\",\"tools\":[{\"id\":\"384045cd-9161-471e-ba9b-75875a9aa5ff\",\"type\":\"PanTool\"},{\"id\":\"4bd3efad-1224-4710-b2b7-6103e8c1c3df\",\"type\":\"WheelZoomTool\"},{\"id\":\"bf04995c-d77c-46e6-aa9e-1257a8593098\",\"type\":\"BoxZoomTool\"},{\"id\":\"57853225-be36-43ff-8709-b04e99f1e5a0\",\"type\":\"SaveTool\"},{\"id\":\"de714586-7744-4696-bc2f-4bc47cce4087\",\"type\":\"ResetTool\"},{\"id\":\"59e83d74-9cc7-4a94-afe1-c75e805ec5c9\",\"type\":\"HelpTool\"}]},\"id\":\"47c7e23d-f212-48cb-acda-7623baca80af\",\"type\":\"Toolbar\"},{\"attributes\":{},\"id\":\"5fb66c96-595f-4758-86e2-be6c3ab4ba0a\",\"type\":\"Selection\"},{\"attributes\":{\"tools\":[{\"id\":\"4ad12905-fae0-4998-a33c-fe0dfff1aaea\",\"type\":\"PanTool\"},{\"id\":\"97792f60-8ccf-456d-bbd4-fd05e02c0f86\",\"type\":\"WheelZoomTool\"},{\"id\":\"d24f0931-529d-4d91-a3e4-13fb0b004056\",\"type\":\"BoxZoomTool\"},{\"id\":\"6e6a3d1d-90b4-4a2f-bf08-d82cf5f86d79\",\"type\":\"SaveTool\"},{\"id\":\"bbc42af7-9cfc-431a-b6ab-9ddf8fc64162\",\"type\":\"ResetTool\"},{\"id\":\"82350b42-3ee9-4416-8b6e-dccb53389219\",\"type\":\"HelpTool\"},{\"id\":\"0d112989-4959-4357-980a-727640a10c3c\",\"type\":\"PanTool\"},{\"id\":\"c201e5b9-c6a8-4d64-a206-76e256e6b853\",\"type\":\"WheelZoomTool\"},{\"id\":\"87e04a36-71fb-442c-a527-7363b369d9d9\",\"type\":\"BoxZoomTool\"},{\"id\":\"bdd91c3a-62f1-4117-b4b2-9a67f5355641\",\"type\":\"SaveTool\"},{\"id\":\"f57ac57b-2f8d-4a81-8722-d64b52687412\",\"type\":\"ResetTool\"},{\"id\":\"5448f19d-ca5e-4327-912e-2a231c546cb8\",\"type\":\"HelpTool\"},{\"id\":\"384045cd-9161-471e-ba9b-75875a9aa5ff\",\"type\":\"PanTool\"},{\"id\":\"4bd3efad-1224-4710-b2b7-6103e8c1c3df\",\"type\":\"WheelZoomTool\"},{\"id\":\"bf04995c-d77c-46e6-aa9e-1257a8593098\",\"type\":\"BoxZoomTool\"},{\"id\":\"57853225-be36-43ff-8709-b04e99f1e5a0\",\"type\":\"SaveTool\"},{\"id\":\"de714586-7744-4696-bc2f-4bc47cce4087\",\"type\":\"ResetTool\"},{\"id\":\"59e83d74-9cc7-4a94-afe1-c75e805ec5c9\",\"type\":\"HelpTool\"}]},\"id\":\"3a6840f3-9a4d-4b92-84e2-a52c34a3e672\",\"type\":\"ProxyToolbar\"},{\"attributes\":{},\"id\":\"de1a979a-ca47-48ad-8f86-392801f9cfe3\",\"type\":\"BasicTicker\"},{\"attributes\":{\"axis_label\":\"spectral band\",\"formatter\":{\"id\":\"7b0cb811-99a5-4f85-a6cf-5fac44de80f1\",\"type\":\"CategoricalTickFormatter\"},\"plot\":{\"id\":\"7594c9a4-633e-4197-94eb-d1b457579c22\",\"subtype\":\"Figure\",\"type\":\"Plot\"},\"ticker\":{\"id\":\"191ce1d7-52df-4ab2-ac4a-ff77bb5c3357\",\"type\":\"CategoricalTicker\"}},\"id\":\"7012a13d-3ccd-4b7d-8b80-10dee814feed\",\"type\":\"CategoricalAxis\"},{\"attributes\":{},\"id\":\"845ec8cc-620e-4e91-8450-3997ae7b8f99\",\"type\":\"Selection\"},{\"attributes\":{\"data_source\":{\"id\":\"24c91fd3-4db0-4c5e-a9c4-c0cb4619ddf4\",\"type\":\"ColumnDataSource\"},\"glyph\":{\"id\":\"5718ebc0-d24a-493f-874f-a48cada571de\",\"type\":\"VBar\"},\"hover_glyph\":null,\"muted_glyph\":null,\"nonselection_glyph\":{\"id\":\"4cd97c6c-b494-4016-8f01-acc0d56ec8bc\",\"type\":\"VBar\"},\"selection_glyph\":null,\"view\":{\"id\":\"32c176f5-7216-482e-a147-b2f24d454e47\",\"type\":\"CDSView\"}},\"id\":\"b98bf646-6ed1-4d56-ac5a-6811a0cc44c6\",\"type\":\"GlyphRenderer\"},{\"attributes\":{},\"id\":\"bebd08ba-58ec-4858-b9bf-0d27bccff3d4\",\"type\":\"BasicTickFormatter\"},{\"attributes\":{\"toolbar\":{\"id\":\"3a6840f3-9a4d-4b92-84e2-a52c34a3e672\",\"type\":\"ProxyToolbar\"},\"toolbar_location\":\"above\"},\"id\":\"a2d3c8c1-55e0-4305-b7ba-45f155158b40\",\"type\":\"ToolbarBox\"},{\"attributes\":{\"plot\":null,\"text\":\"Atmosphere heating. CLIRAD (single-run) - CRD.\"},\"id\":\"7ed057b4-49d2-4874-9d7b-0cd103661556\",\"type\":\"Title\"},{\"attributes\":{\"children\":[{\"id\":\"a2d3c8c1-55e0-4305-b7ba-45f155158b40\",\"type\":\"ToolbarBox\"},{\"id\":\"b2836392-a93b-4715-9097-359f41d6fccf\",\"type\":\"Column\"}]},\"id\":\"939bc72e-b1a8-4082-99f2-4190a72eb9cc\",\"type\":\"Column\"},{\"attributes\":{\"source\":{\"id\":\"50775853-84a7-4f9c-b3c9-403676f15245\",\"type\":\"ColumnDataSource\"}},\"id\":\"5c21f789-1975-4aa8-a09a-a7d2499d6f64\",\"type\":\"CDSView\"},{\"attributes\":{},\"id\":\"bdd91c3a-62f1-4117-b4b2-9a67f5355641\",\"type\":\"SaveTool\"},{\"attributes\":{},\"id\":\"7b0cb811-99a5-4f85-a6cf-5fac44de80f1\",\"type\":\"CategoricalTickFormatter\"},{\"attributes\":{\"children\":[{\"id\":\"bdfa4fa3-0e17-4788-96f5-76f5a0d028c3\",\"subtype\":\"Figure\",\"type\":\"Plot\"},{\"id\":\"7594c9a4-633e-4197-94eb-d1b457579c22\",\"subtype\":\"Figure\",\"type\":\"Plot\"},{\"id\":\"4fb3dac0-a31c-4dea-a2f4-715a2fcb8c2a\",\"subtype\":\"Figure\",\"type\":\"Plot\"}]},\"id\":\"d0ea688b-9db9-458e-a993-156d647bbb76\",\"type\":\"Row\"},{\"attributes\":{\"plot\":null,\"text\":\"SFC flux. CLIRAD (single-run) - CRD.\"},\"id\":\"8b7aaede-f717-459a-916a-e9506f7d8509\",\"type\":\"Title\"},{\"attributes\":{\"plot\":{\"id\":\"7594c9a4-633e-4197-94eb-d1b457579c22\",\"subtype\":\"Figure\",\"type\":\"Plot\"},\"ticker\":{\"id\":\"191ce1d7-52df-4ab2-ac4a-ff77bb5c3357\",\"type\":\"CategoricalTicker\"}},\"id\":\"4c8e2ba8-9587-4604-b96f-d97b790ffab4\",\"type\":\"Grid\"},{\"attributes\":{},\"id\":\"de714586-7744-4696-bc2f-4bc47cce4087\",\"type\":\"ResetTool\"},{\"attributes\":{\"callback\":null,\"factors\":[\"1\",\"2\",\"3\",\"4\",\"5\",\"6\",\"7\",\"8\",\"9\",\"10\",\"11\"]},\"id\":\"35529cea-dbe2-455e-9f58-ba02a3ba2d04\",\"type\":\"FactorRange\"},{\"attributes\":{},\"id\":\"e1c0dadd-5586-45d0-8c27-ea5f0c039c41\",\"type\":\"CategoricalScale\"},{\"attributes\":{},\"id\":\"895a62d5-614f-4cb5-9c15-1ad89c7966a7\",\"type\":\"Selection\"},{\"attributes\":{},\"id\":\"a90d80b6-15eb-48e1-9e44-b8cd09d27197\",\"type\":\"UnionRenderers\"},{\"attributes\":{\"axis_label\":\"flux (W m-2)\",\"formatter\":{\"id\":\"bebd08ba-58ec-4858-b9bf-0d27bccff3d4\",\"type\":\"BasicTickFormatter\"},\"plot\":{\"id\":\"7594c9a4-633e-4197-94eb-d1b457579c22\",\"subtype\":\"Figure\",\"type\":\"Plot\"},\"ticker\":{\"id\":\"91a7eefc-146a-4cb5-89e8-da6dd484807f\",\"type\":\"BasicTicker\"}},\"id\":\"deaabf5f-9d8b-42c1-b739-2c7615e715ae\",\"type\":\"LinearAxis\"},{\"attributes\":{\"callback\":null},\"id\":\"1304d4bf-40ae-4701-aa62-10ea48f9604b\",\"type\":\"DataRange1d\"},{\"attributes\":{},\"id\":\"88dd012a-3358-49dc-8371-d528c864c2de\",\"type\":\"CategoricalTickFormatter\"},{\"attributes\":{\"fill_color\":{\"value\":\"#1f77b4\"},\"line_color\":{\"value\":\"#1f77b4\"},\"top\":{\"field\":\"flux\"},\"width\":{\"value\":0.9},\"x\":{\"field\":\"band\"}},\"id\":\"5718ebc0-d24a-493f-874f-a48cada571de\",\"type\":\"VBar\"},{\"attributes\":{},\"id\":\"e5716a8c-7129-45dc-9690-dc5a5453d99a\",\"type\":\"UnionRenderers\"},{\"attributes\":{},\"id\":\"2ccae5e0-3b43-429d-afba-759bd6b5bb5d\",\"type\":\"LinearScale\"},{\"attributes\":{\"axis_label\":\"spectral band\",\"formatter\":{\"id\":\"44fe7327-6291-4b42-8fea-a75b96f6f8ee\",\"type\":\"CategoricalTickFormatter\"},\"plot\":{\"id\":\"4fb3dac0-a31c-4dea-a2f4-715a2fcb8c2a\",\"subtype\":\"Figure\",\"type\":\"Plot\"},\"ticker\":{\"id\":\"3e2d03c2-877b-4576-b9da-ca4fe76a7734\",\"type\":\"CategoricalTicker\"}},\"id\":\"8abaede8-83e6-466e-a8c7-24424c57321b\",\"type\":\"CategoricalAxis\"},{\"attributes\":{},\"id\":\"c201e5b9-c6a8-4d64-a206-76e256e6b853\",\"type\":\"WheelZoomTool\"},{\"attributes\":{},\"id\":\"0d112989-4959-4357-980a-727640a10c3c\",\"type\":\"PanTool\"},{\"attributes\":{\"plot\":{\"id\":\"4fb3dac0-a31c-4dea-a2f4-715a2fcb8c2a\",\"subtype\":\"Figure\",\"type\":\"Plot\"},\"ticker\":{\"id\":\"3e2d03c2-877b-4576-b9da-ca4fe76a7734\",\"type\":\"CategoricalTicker\"}},\"id\":\"47c7d1d1-6a13-422f-8064-c695b317e8c5\",\"type\":\"Grid\"},{\"attributes\":{\"axis_label\":\"flux (W m-2)\",\"formatter\":{\"id\":\"5a82d953-7a2b-4c1f-8221-a539b8b59c4a\",\"type\":\"BasicTickFormatter\"},\"plot\":{\"id\":\"4fb3dac0-a31c-4dea-a2f4-715a2fcb8c2a\",\"subtype\":\"Figure\",\"type\":\"Plot\"},\"ticker\":{\"id\":\"de1a979a-ca47-48ad-8f86-392801f9cfe3\",\"type\":\"BasicTicker\"}},\"id\":\"43195d8e-ebca-43a5-b8ac-7cf044718df1\",\"type\":\"LinearAxis\"},{\"attributes\":{},\"id\":\"91a7eefc-146a-4cb5-89e8-da6dd484807f\",\"type\":\"BasicTicker\"},{\"attributes\":{\"dimension\":1,\"plot\":{\"id\":\"7594c9a4-633e-4197-94eb-d1b457579c22\",\"subtype\":\"Figure\",\"type\":\"Plot\"},\"ticker\":{\"id\":\"91a7eefc-146a-4cb5-89e8-da6dd484807f\",\"type\":\"BasicTicker\"}},\"id\":\"284a21a8-cca8-4365-abb4-12c710b736ec\",\"type\":\"Grid\"},{\"attributes\":{\"callback\":null},\"id\":\"5cdd23da-688e-437a-b2c7-96addcab6eec\",\"type\":\"DataRange1d\"},{\"attributes\":{},\"id\":\"f57ac57b-2f8d-4a81-8722-d64b52687412\",\"type\":\"ResetTool\"},{\"attributes\":{\"dimension\":1,\"plot\":{\"id\":\"4fb3dac0-a31c-4dea-a2f4-715a2fcb8c2a\",\"subtype\":\"Figure\",\"type\":\"Plot\"},\"ticker\":{\"id\":\"de1a979a-ca47-48ad-8f86-392801f9cfe3\",\"type\":\"BasicTicker\"}},\"id\":\"c73488a9-880b-444a-9a0e-05dbe72b99ec\",\"type\":\"Grid\"},{\"attributes\":{},\"id\":\"191ce1d7-52df-4ab2-ac4a-ff77bb5c3357\",\"type\":\"CategoricalTicker\"},{\"attributes\":{\"overlay\":{\"id\":\"c18803f4-1a1e-4b95-8347-366d3a814481\",\"type\":\"BoxAnnotation\"}},\"id\":\"bf04995c-d77c-46e6-aa9e-1257a8593098\",\"type\":\"BoxZoomTool\"},{\"attributes\":{},\"id\":\"57853225-be36-43ff-8709-b04e99f1e5a0\",\"type\":\"SaveTool\"},{\"attributes\":{},\"id\":\"5448f19d-ca5e-4327-912e-2a231c546cb8\",\"type\":\"HelpTool\"},{\"attributes\":{\"bottom_units\":\"screen\",\"fill_alpha\":{\"value\":0.5},\"fill_color\":{\"value\":\"lightgrey\"},\"left_units\":\"screen\",\"level\":\"overlay\",\"line_alpha\":{\"value\":1.0},\"line_color\":{\"value\":\"black\"},\"line_dash\":[4,4],\"line_width\":{\"value\":2},\"plot\":null,\"render_mode\":\"css\",\"right_units\":\"screen\",\"top_units\":\"screen\"},\"id\":\"c18803f4-1a1e-4b95-8347-366d3a814481\",\"type\":\"BoxAnnotation\"}],\"root_ids\":[\"939bc72e-b1a8-4082-99f2-4190a72eb9cc\"]},\"title\":\"Bokeh Application\",\"version\":\"0.12.16\"}};\n",
       "  var render_items = [{\"docid\":\"44fe7bab-5085-4533-b6b0-35dd6de37e4c\",\"elementid\":\"039573ef-88ea-4e71-91b6-3e956f5503d2\",\"modelid\":\"939bc72e-b1a8-4082-99f2-4190a72eb9cc\"}];\n",
       "  root.Bokeh.embed.embed_items_notebook(docs_json, render_items);\n",
       "\n",
       "  }\n",
       "  if (root.Bokeh !== undefined) {\n",
       "    embed_document(root);\n",
       "  } else {\n",
       "    var attempts = 0;\n",
       "    var timer = setInterval(function(root) {\n",
       "      if (root.Bokeh !== undefined) {\n",
       "        embed_document(root);\n",
       "        clearInterval(timer);\n",
       "      }\n",
       "      attempts++;\n",
       "      if (attempts > 100) {\n",
       "        console.log(\"Bokeh: ERROR: Unable to run BokehJS code because BokehJS library is missing\")\n",
       "        clearInterval(timer);\n",
       "      }\n",
       "    }, 10, root)\n",
       "  }\n",
       "})(window);"
      ],
      "application/vnd.bokehjs_exec.v0+json": ""
     },
     "metadata": {
      "application/vnd.bokehjs_exec.v0+json": {
       "id": "939bc72e-b1a8-4082-99f2-4190a72eb9cc"
      }
     },
     "output_type": "display_data"
    },
    {
     "data": {
      "text/markdown": [
       "*FIGURE.* Difference between CLIRAD and CRD in TOA, SFC and net atmosphere flux, in each spectral band."
      ],
      "text/plain": [
       "<IPython.core.display.Markdown object>"
      ]
     },
     "metadata": {},
     "output_type": "display_data"
    },
    {
     "data": {
      "text/html": [
       "<div>\n",
       "<style scoped>\n",
       "    .dataframe tbody tr th:only-of-type {\n",
       "        vertical-align: middle;\n",
       "    }\n",
       "\n",
       "    .dataframe tbody tr th {\n",
       "        vertical-align: top;\n",
       "    }\n",
       "\n",
       "    .dataframe thead th {\n",
       "        text-align: right;\n",
       "    }\n",
       "</style>\n",
       "<table border=\"1\" class=\"dataframe\">\n",
       "  <thead>\n",
       "    <tr style=\"text-align: right;\">\n",
       "      <th></th>\n",
       "      <th>OLR flux</th>\n",
       "      <th>SFC flux</th>\n",
       "      <th>ATM heating</th>\n",
       "    </tr>\n",
       "    <tr>\n",
       "      <th>Sum over bands</th>\n",
       "      <th></th>\n",
       "      <th></th>\n",
       "      <th></th>\n",
       "    </tr>\n",
       "  </thead>\n",
       "  <tbody>\n",
       "    <tr>\n",
       "      <th>old CLIRAD - CRD</th>\n",
       "      <td>0.14</td>\n",
       "      <td>2.01</td>\n",
       "      <td>-1.73</td>\n",
       "    </tr>\n",
       "    <tr>\n",
       "      <th>CLIRAD (single-run) - CRD</th>\n",
       "      <td>20.59</td>\n",
       "      <td>17.73</td>\n",
       "      <td>5.27</td>\n",
       "    </tr>\n",
       "    <tr>\n",
       "      <th>CRD</th>\n",
       "      <td>-290.39</td>\n",
       "      <td>308.14</td>\n",
       "      <td>-174.89</td>\n",
       "    </tr>\n",
       "  </tbody>\n",
       "</table>\n",
       "</div>"
      ],
      "text/plain": [
       "                           OLR flux  SFC flux  ATM heating\n",
       "Sum over bands                                            \n",
       "old CLIRAD - CRD               0.14      2.01        -1.73\n",
       "CLIRAD (single-run) - CRD     20.59     17.73         5.27\n",
       "CRD                         -290.39    308.14      -174.89"
      ]
     },
     "metadata": {},
     "output_type": "display_data"
    },
    {
     "data": {
      "text/markdown": [
       "*TABLE.* Difference between CLIRAD and CRD in TOA, SFC and net atmosphere flux, over all spectral bands. CRD's TOA, SFC and net atmosphere flux, over all spectral bands."
      ],
      "text/plain": [
       "<IPython.core.display.Markdown object>"
      ]
     },
     "metadata": {},
     "output_type": "display_data"
    },
    {
     "data": {
      "text/html": [
       "<a id=\"Cooling_rates._saw.\"></a>"
      ],
      "text/plain": [
       "<IPython.core.display.HTML object>"
      ]
     },
     "metadata": {},
     "output_type": "display_data"
    },
    {
     "data": {
      "text/markdown": [
       "# Cooling rates. saw."
      ],
      "text/plain": [
       "<IPython.core.display.Markdown object>"
      ]
     },
     "metadata": {},
     "output_type": "display_data"
    },
    {
     "data": {
      "text/html": [
       "\n",
       "<div class=\"bk-root\">\n",
       "    <div class=\"bk-plotdiv\" id=\"e2d1d27a-5882-4c14-b16d-9d2e18e606ef\"></div>\n",
       "</div>"
      ]
     },
     "metadata": {},
     "output_type": "display_data"
    },
    {
     "data": {
      "application/javascript": [
       "(function(root) {\n",
       "  function embed_document(root) {\n",
       "    \n",
       "  var docs_json = {\"88e039df-e146-4d8d-8d1e-f86f0a6dda70\":{\"roots\":{\"references\":[{\"attributes\":{\"plot\":{\"id\":\"4fb24ab6-b81d-4062-b18c-7ec16316b903\",\"subtype\":\"Figure\",\"type\":\"Plot\"},\"ticker\":{\"id\":\"0b4939c6-49bd-4e22-b7c3-f001960b714c\",\"type\":\"BasicTicker\"}},\"id\":\"2acd5f5b-e9eb-45f7-bffa-f3cdb6d1d0a4\",\"type\":\"Grid\"},{\"attributes\":{\"plot\":null,\"text\":\"\"},\"id\":\"483ba37a-5e49-44bd-b146-b23b3aabb061\",\"type\":\"Title\"},{\"attributes\":{},\"id\":\"ef1bfed4-6cea-4777-998c-f1410cd8f02f\",\"type\":\"BasicTickFormatter\"},{\"attributes\":{\"plot\":null,\"text\":\"\"},\"id\":\"98bbbdb7-0210-4f04-ba98-c200d3f423dc\",\"type\":\"Title\"},{\"attributes\":{},\"id\":\"00a8c625-4c7a-4a9a-9011-b3243ddd1098\",\"type\":\"BasicTickFormatter\"},{\"attributes\":{\"line_color\":\"#4daf4a\",\"line_width\":1.5,\"x\":{\"field\":\"x\"},\"y\":{\"field\":\"y\"}},\"id\":\"ef2dafda-3017-4a2d-97a6-b298953da5ba\",\"type\":\"Line\"},{\"attributes\":{\"label\":{\"value\":\"CLIRAD (single-run) - CRD\"},\"renderers\":[{\"id\":\"a56d7d6e-c4af-4dd2-975d-f6e27e269e82\",\"type\":\"GlyphRenderer\"},{\"id\":\"b2bac8f9-b632-45f4-bbc8-b8a94cb36388\",\"type\":\"GlyphRenderer\"}]},\"id\":\"1253a3db-1946-4d1f-a4b0-49a36165e705\",\"type\":\"LegendItem\"},{\"attributes\":{\"children\":[{\"id\":\"4fb24ab6-b81d-4062-b18c-7ec16316b903\",\"subtype\":\"Figure\",\"type\":\"Plot\"},{\"id\":\"e9c86d34-fc5b-493d-935d-5601bdd2983c\",\"subtype\":\"Figure\",\"type\":\"Plot\"},{\"id\":\"e5fdf0b0-e3de-4fd5-829d-c69141d5d776\",\"subtype\":\"Figure\",\"type\":\"Plot\"}]},\"id\":\"90a1a197-20d9-40d8-94ea-3c11b6895647\",\"type\":\"Row\"},{\"attributes\":{\"axis_label\":\"cooling rate [K/day]\",\"formatter\":{\"id\":\"eea8447f-ffce-4750-ab51-004876063e70\",\"type\":\"BasicTickFormatter\"},\"plot\":{\"id\":\"4fb24ab6-b81d-4062-b18c-7ec16316b903\",\"subtype\":\"Figure\",\"type\":\"Plot\"},\"ticker\":{\"id\":\"0b4939c6-49bd-4e22-b7c3-f001960b714c\",\"type\":\"BasicTicker\"}},\"id\":\"4c0dbdd8-2622-4675-8390-77c59cd25cf9\",\"type\":\"LinearAxis\"},{\"attributes\":{\"data_source\":{\"id\":\"fcd725fe-b060-444d-a3e7-a9727bc547af\",\"type\":\"ColumnDataSource\"},\"glyph\":{\"id\":\"ef2dafda-3017-4a2d-97a6-b298953da5ba\",\"type\":\"Line\"},\"hover_glyph\":null,\"muted_glyph\":null,\"nonselection_glyph\":{\"id\":\"33a207bc-bd45-434f-b035-7182da9115a9\",\"type\":\"Line\"},\"selection_glyph\":null,\"view\":{\"id\":\"31cc7c66-0130-4fce-94f3-2f02f57693e9\",\"type\":\"CDSView\"}},\"id\":\"8982e35d-0ec9-42ca-a3bc-903e5ae98afa\",\"type\":\"GlyphRenderer\"},{\"attributes\":{\"line_alpha\":0.6,\"line_color\":\"#377eb8\",\"line_dash\":[6],\"line_width\":5,\"x\":{\"field\":\"x\"},\"y\":{\"field\":\"y\"}},\"id\":\"e95587b6-0317-460e-87c9-eda04258afa3\",\"type\":\"Line\"},{\"attributes\":{},\"id\":\"cd198053-2d87-4cfd-9547-64b3ec568e35\",\"type\":\"UnionRenderers\"},{\"attributes\":{\"ticker\":null},\"id\":\"b74874d8-4940-4bde-93fd-92da8409e6ef\",\"type\":\"LogTickFormatter\"},{\"attributes\":{\"line_alpha\":0.1,\"line_color\":\"#1f77b4\",\"line_width\":1.5,\"x\":{\"field\":\"x\"},\"y\":{\"field\":\"y\"}},\"id\":\"12c9e5cd-dd50-428f-8cbd-90be3499e333\",\"type\":\"Line\"},{\"attributes\":{},\"id\":\"8661b8a2-5ee8-4fd9-a348-8ea5b544da02\",\"type\":\"UnionRenderers\"},{\"attributes\":{},\"id\":\"583f22a0-40ed-43b1-aba8-b30e51cf8d75\",\"type\":\"Selection\"},{\"attributes\":{\"data_source\":{\"id\":\"fb622398-e387-4318-873a-fa800e4aab7b\",\"type\":\"ColumnDataSource\"},\"glyph\":{\"id\":\"f7838b95-af69-4c82-821b-eab16f08aa9c\",\"type\":\"Line\"},\"hover_glyph\":null,\"muted_glyph\":null,\"nonselection_glyph\":{\"id\":\"12c9e5cd-dd50-428f-8cbd-90be3499e333\",\"type\":\"Line\"},\"selection_glyph\":null,\"view\":{\"id\":\"926ef81f-30b2-4e79-9f73-3efd4f63504d\",\"type\":\"CDSView\"}},\"id\":\"36f4a5ea-2674-4e5b-9703-6530c3359c73\",\"type\":\"GlyphRenderer\"},{\"attributes\":{\"plot\":null,\"text\":\"\"},\"id\":\"f4fb74cd-4ef0-41cf-bdb9-378bf5daf38a\",\"type\":\"Title\"},{\"attributes\":{\"overlay\":{\"id\":\"d0fc0926-ecc9-4197-967b-4a2ace8a0a59\",\"type\":\"BoxAnnotation\"}},\"id\":\"98ac89a8-a7ad-49fd-a231-e00c2a4125eb\",\"type\":\"BoxZoomTool\"},{\"attributes\":{\"data_source\":{\"id\":\"094f7ce2-f8e0-4e17-938f-120a74929801\",\"type\":\"ColumnDataSource\"},\"glyph\":{\"id\":\"f467cef1-7392-47c7-a073-0db42e2c9982\",\"type\":\"Line\"},\"hover_glyph\":null,\"muted_glyph\":null,\"nonselection_glyph\":{\"id\":\"1a195ef6-991e-4579-bc8c-015783691cc5\",\"type\":\"Line\"},\"selection_glyph\":null,\"view\":{\"id\":\"17f97a60-847b-4305-a8f9-4daae215d51a\",\"type\":\"CDSView\"}},\"id\":\"b2bac8f9-b632-45f4-bbc8-b8a94cb36388\",\"type\":\"GlyphRenderer\"},{\"attributes\":{},\"id\":\"ddb7eb3e-0025-4c39-b187-8514cd8db155\",\"type\":\"Selection\"},{\"attributes\":{},\"id\":\"ad34c7a3-1bdd-4aac-a8c6-505b3f605897\",\"type\":\"WheelZoomTool\"},{\"attributes\":{\"tools\":[{\"id\":\"246b3c62-e58a-4520-888d-eee1c565b91a\",\"type\":\"PanTool\"},{\"id\":\"e258e1dd-3742-4ff3-8fb8-1657157b7382\",\"type\":\"WheelZoomTool\"},{\"id\":\"33403a03-30fe-49e8-a958-4579a7b8cd77\",\"type\":\"BoxZoomTool\"},{\"id\":\"fffde8a0-08a4-467d-8761-23f7ac303622\",\"type\":\"SaveTool\"},{\"id\":\"ff159e35-b76e-4ff2-b5f8-86ece57cfe32\",\"type\":\"ResetTool\"},{\"id\":\"516d3989-46d6-4f3f-b552-df555a54dafa\",\"type\":\"HelpTool\"},{\"id\":\"3d4e20ca-af18-4260-842a-04351132e2f5\",\"type\":\"PanTool\"},{\"id\":\"01e15168-f2d8-4a90-be7d-53b788a7c43b\",\"type\":\"WheelZoomTool\"},{\"id\":\"503f84ec-22d4-4a54-ac9e-50e161b60baa\",\"type\":\"BoxZoomTool\"},{\"id\":\"74dc5cf2-dc05-4a2f-8f3a-51b899a214b4\",\"type\":\"SaveTool\"},{\"id\":\"8742eb83-2f03-4a8a-a072-758d5cb1f745\",\"type\":\"ResetTool\"},{\"id\":\"9e7238c4-74cf-45b9-aaae-9c4cf2673cd1\",\"type\":\"HelpTool\"},{\"id\":\"6ad9ef9d-937f-4200-ba40-eedea08feb03\",\"type\":\"PanTool\"},{\"id\":\"ad34c7a3-1bdd-4aac-a8c6-505b3f605897\",\"type\":\"WheelZoomTool\"},{\"id\":\"98ac89a8-a7ad-49fd-a231-e00c2a4125eb\",\"type\":\"BoxZoomTool\"},{\"id\":\"47175b8c-703f-4787-9133-a159adffa593\",\"type\":\"SaveTool\"},{\"id\":\"373029e5-d824-4098-af84-3ea0c1198502\",\"type\":\"ResetTool\"},{\"id\":\"d8d2c237-ae47-4b47-977b-a24ca52e4e85\",\"type\":\"HelpTool\"}]},\"id\":\"2bfc8ac8-00cc-4440-9337-dd545f8743c7\",\"type\":\"ProxyToolbar\"},{\"attributes\":{},\"id\":\"a9223c33-cb1e-40a8-b2d3-c87b53c6d251\",\"type\":\"BasicTickFormatter\"},{\"attributes\":{},\"id\":\"15b51c9d-8647-4810-bda7-4c3f15df5d70\",\"type\":\"UnionRenderers\"},{\"attributes\":{\"active_drag\":\"auto\",\"active_inspect\":\"auto\",\"active_scroll\":\"auto\",\"active_tap\":\"auto\",\"tools\":[{\"id\":\"3d4e20ca-af18-4260-842a-04351132e2f5\",\"type\":\"PanTool\"},{\"id\":\"01e15168-f2d8-4a90-be7d-53b788a7c43b\",\"type\":\"WheelZoomTool\"},{\"id\":\"503f84ec-22d4-4a54-ac9e-50e161b60baa\",\"type\":\"BoxZoomTool\"},{\"id\":\"74dc5cf2-dc05-4a2f-8f3a-51b899a214b4\",\"type\":\"SaveTool\"},{\"id\":\"8742eb83-2f03-4a8a-a072-758d5cb1f745\",\"type\":\"ResetTool\"},{\"id\":\"9e7238c4-74cf-45b9-aaae-9c4cf2673cd1\",\"type\":\"HelpTool\"}]},\"id\":\"f7c2afd0-9473-44c4-9996-50cf2e4373d5\",\"type\":\"Toolbar\"},{\"attributes\":{},\"id\":\"c69bb4e5-a952-490f-8edf-896d0e916d82\",\"type\":\"Selection\"},{\"attributes\":{\"source\":{\"id\":\"094f7ce2-f8e0-4e17-938f-120a74929801\",\"type\":\"ColumnDataSource\"}},\"id\":\"17f97a60-847b-4305-a8f9-4daae215d51a\",\"type\":\"CDSView\"},{\"attributes\":{\"axis_label\":\"pressure [mb]\",\"formatter\":{\"id\":\"ef1bfed4-6cea-4777-998c-f1410cd8f02f\",\"type\":\"BasicTickFormatter\"},\"plot\":{\"id\":\"4fb24ab6-b81d-4062-b18c-7ec16316b903\",\"subtype\":\"Figure\",\"type\":\"Plot\"},\"ticker\":{\"id\":\"2d6e12b7-886e-4195-baf9-1494fbd4edb6\",\"type\":\"BasicTicker\"}},\"id\":\"fefa64ab-1e40-42bd-a061-0ff541dc38a9\",\"type\":\"LinearAxis\"},{\"attributes\":{},\"id\":\"99843d84-b7a6-4cbd-802d-88f54505a84f\",\"type\":\"UnionRenderers\"},{\"attributes\":{\"dimension\":1,\"plot\":{\"id\":\"4fb24ab6-b81d-4062-b18c-7ec16316b903\",\"subtype\":\"Figure\",\"type\":\"Plot\"},\"ticker\":{\"id\":\"2d6e12b7-886e-4195-baf9-1494fbd4edb6\",\"type\":\"BasicTicker\"}},\"id\":\"dacaf517-3435-4752-b341-46af8c864f69\",\"type\":\"Grid\"},{\"attributes\":{},\"id\":\"d8d2c237-ae47-4b47-977b-a24ca52e4e85\",\"type\":\"HelpTool\"},{\"attributes\":{},\"id\":\"61a78eb8-167f-45b5-820a-60f327524182\",\"type\":\"UnionRenderers\"},{\"attributes\":{\"ticker\":null},\"id\":\"b6549374-6123-4fcc-8403-c0d6eaccd69d\",\"type\":\"LogTickFormatter\"},{\"attributes\":{},\"id\":\"0b4939c6-49bd-4e22-b7c3-f001960b714c\",\"type\":\"BasicTicker\"},{\"attributes\":{\"children\":[{\"id\":\"fd546f91-b8ee-4aa9-964d-75617dac54ad\",\"type\":\"ToolbarBox\"},{\"id\":\"72cb1741-24b5-4b81-a4f1-bd04c5786109\",\"type\":\"Column\"}]},\"id\":\"f19778f6-ee51-4991-921e-2d1a483f2d76\",\"type\":\"Column\"},{\"attributes\":{},\"id\":\"47175b8c-703f-4787-9133-a159adffa593\",\"type\":\"SaveTool\"},{\"attributes\":{\"line_alpha\":0.1,\"line_color\":\"#1f77b4\",\"line_width\":1.5,\"x\":{\"field\":\"x\"},\"y\":{\"field\":\"y\"}},\"id\":\"33a207bc-bd45-434f-b035-7182da9115a9\",\"type\":\"Line\"},{\"attributes\":{},\"id\":\"9ca6cda9-6ab6-4c1d-8a96-c3dbdcd3b138\",\"type\":\"UnionRenderers\"},{\"attributes\":{\"above\":[{\"id\":\"76572d3e-d2b9-4a9a-9370-7cd80e8c1926\",\"type\":\"Legend\"}],\"below\":[{\"id\":\"4c0dbdd8-2622-4675-8390-77c59cd25cf9\",\"type\":\"LinearAxis\"}],\"left\":[{\"id\":\"fefa64ab-1e40-42bd-a061-0ff541dc38a9\",\"type\":\"LinearAxis\"}],\"plot_width\":300,\"renderers\":[{\"id\":\"4c0dbdd8-2622-4675-8390-77c59cd25cf9\",\"type\":\"LinearAxis\"},{\"id\":\"2acd5f5b-e9eb-45f7-bffa-f3cdb6d1d0a4\",\"type\":\"Grid\"},{\"id\":\"fefa64ab-1e40-42bd-a061-0ff541dc38a9\",\"type\":\"LinearAxis\"},{\"id\":\"dacaf517-3435-4752-b341-46af8c864f69\",\"type\":\"Grid\"},{\"id\":\"4b83599e-b3e7-49c0-a300-91ebe96961aa\",\"type\":\"BoxAnnotation\"},{\"id\":\"52d182ac-a421-430b-876c-a525b166e4fa\",\"type\":\"GlyphRenderer\"},{\"id\":\"e5db7072-a0f6-4540-b935-b4be3504d848\",\"type\":\"GlyphRenderer\"},{\"id\":\"36f4a5ea-2674-4e5b-9703-6530c3359c73\",\"type\":\"GlyphRenderer\"},{\"id\":\"76572d3e-d2b9-4a9a-9370-7cd80e8c1926\",\"type\":\"Legend\"}],\"title\":{\"id\":\"483ba37a-5e49-44bd-b146-b23b3aabb061\",\"type\":\"Title\"},\"toolbar\":{\"id\":\"afc5f6ca-ee02-40fc-96a0-1febd11345b7\",\"type\":\"Toolbar\"},\"toolbar_location\":null,\"x_range\":{\"id\":\"634ef9b7-8055-4353-a4a4-5d5293f76831\",\"type\":\"Range1d\"},\"x_scale\":{\"id\":\"f553a1b7-4d84-41b0-98bc-96061c76136a\",\"type\":\"LinearScale\"},\"y_range\":{\"id\":\"12f0faeb-fbae-4a9a-a67d-6d996af7e39c\",\"type\":\"Range1d\"},\"y_scale\":{\"id\":\"32017e06-fe92-42a5-983d-050a8116211e\",\"type\":\"LinearScale\"}},\"id\":\"4fb24ab6-b81d-4062-b18c-7ec16316b903\",\"subtype\":\"Figure\",\"type\":\"Plot\"},{\"attributes\":{\"children\":[{\"id\":\"90a1a197-20d9-40d8-94ea-3c11b6895647\",\"type\":\"Row\"}]},\"id\":\"72cb1741-24b5-4b81-a4f1-bd04c5786109\",\"type\":\"Column\"},{\"attributes\":{\"line_color\":\"#4daf4a\",\"line_width\":1.5,\"x\":{\"field\":\"x\"},\"y\":{\"field\":\"y\"}},\"id\":\"f7838b95-af69-4c82-821b-eab16f08aa9c\",\"type\":\"Line\"},{\"attributes\":{},\"id\":\"545ccc4a-e246-43d3-992a-19296a620914\",\"type\":\"Selection\"},{\"attributes\":{},\"id\":\"d07829e7-8670-4d3b-bdac-f7f07391a19b\",\"type\":\"Selection\"},{\"attributes\":{},\"id\":\"32017e06-fe92-42a5-983d-050a8116211e\",\"type\":\"LinearScale\"},{\"attributes\":{},\"id\":\"2d6e12b7-886e-4195-baf9-1494fbd4edb6\",\"type\":\"BasicTicker\"},{\"attributes\":{},\"id\":\"0beaa159-8940-4060-a948-e4129fc5e118\",\"type\":\"UnionRenderers\"},{\"attributes\":{\"items\":[{\"id\":\"d85481d8-c6b7-4f6d-818c-6e9031714607\",\"type\":\"LegendItem\"},{\"id\":\"6e4775f6-8a31-4bd2-b1e1-5d6e8c58c788\",\"type\":\"LegendItem\"}],\"label_text_font_size\":{\"value\":\"8pt\"},\"location\":\"top_center\",\"orientation\":\"horizontal\",\"plot\":{\"id\":\"4fb24ab6-b81d-4062-b18c-7ec16316b903\",\"subtype\":\"Figure\",\"type\":\"Plot\"}},\"id\":\"76572d3e-d2b9-4a9a-9370-7cd80e8c1926\",\"type\":\"Legend\"},{\"attributes\":{\"label\":{\"value\":\"CLIRAD (single-run)\"},\"renderers\":[{\"id\":\"52d182ac-a421-430b-876c-a525b166e4fa\",\"type\":\"GlyphRenderer\"}]},\"id\":\"d85481d8-c6b7-4f6d-818c-6e9031714607\",\"type\":\"LegendItem\"},{\"attributes\":{},\"id\":\"abab3df7-4bad-480a-a5ff-805baa241bfc\",\"type\":\"Selection\"},{\"attributes\":{},\"id\":\"373029e5-d824-4098-af84-3ea0c1198502\",\"type\":\"ResetTool\"},{\"attributes\":{\"toolbar\":{\"id\":\"2bfc8ac8-00cc-4440-9337-dd545f8743c7\",\"type\":\"ProxyToolbar\"},\"toolbar_location\":\"above\"},\"id\":\"fd546f91-b8ee-4aa9-964d-75617dac54ad\",\"type\":\"ToolbarBox\"},{\"attributes\":{\"callback\":null,\"data\":{\"x\":{\"__ndarray__\":\"0CYBcvU5UkCik9zf2GVBQF1VoNfLZ0BAVLxhiVXTPUDD1Wu1wJM6QFJyB025jjdAU6Aw5+b/NECYe1uuDfgyQB6bYtVTbTFAPxYSAF1HMEA00pYVm9QuQLolHbMzgC1AntlwirGsLECv+G9SjE4rQJH6ZLBp0ShAsLZQyPd/JkDyjgyf2PwkQLgyNGsrJyRAA13QbJD6I0C8hy0ilI4kQOVTXCEgcSZAovOGvZSGJUBVc/ZmUOIgQOf/6GHAyRlAcE8fAOBSFEDRur1U//gPQGFD9ZbokghAQsqHuSqSA0C91ci3W0UBQCtRQfvz7/4/kh8pntyB+j9t1/n+4TX1P773MAUjFfI/RgzR+CI28T8hBW8WHK7uPzVKjJfU8uk/0FPt4/z65T/wVYqzMPDhPz7K9C5CXuE/8+hSn9hY4T/9PPCkR6rhP1XsIC599OA/66X1nBCX3z/YbRM56QjcPz4dkSQc/dM/S7Wb8Fq00T+/yQdmX0vcP7TrGf476eM/WqNPJoWO7D9qOH1bcwDzP2bw+R5DQ/Y/RLSuQOQp+D8+aif8yAz5P0Wv6eBKRfk/0i2+IN4R+T/ik8QNFZr4PyS5UD5j/Pc/yJ68zXRG9z/2CHPL54H2P59SOhwKtPU/npkP8dfg9D8NlmVcdQz0P80ugRvuOvM/byxiAHN18j9USVZie8nxP5l9lNXYSPE/OB+F0UYP8T8Y7dsUCTHxP3EBgTHPcPE/bfx15p8S8T8FT+xkGtTuP6mdG7rkxuk/pboqTkHX5D/CrN8qGYngP7R4ZaL+htU/\",\"dtype\":\"float64\",\"shape\":[75]},\"y\":{\"__ndarray__\":\"GhExyth1ND/Sv8nbtpRIP2vylNV0PVE/aTum7souWD/At0SJ8fVgPw3Iuahxymc/MSNhhJWvcD/bTfBN02d3P2zb5nxnaoA/CD5h5MAGhz8NmeH1TyaQP+zrCsc9p5Y/LbKd76fGnz/bLW5ISEmmPww9YvTcQq8/JV2OstnstT8Er5Y7M8G+P0c+r3jqkcU/5h99k6ZBzj88bCIzFzjVP4enV8oyxN0//yH99nXg5D8qOpLLf0jtP5kqGJXUifQ/c9cS8kHP/D+/DpwzojQEQIEmwoanVwxA4lgXt9HgE0BSSZ2AJuIbQAMJih9jjiNA5q4l5INuK0AwTKYKRj0zQNv5fmq8/DpAaCJseHrtQkB/+zpwzoxKQM3MzMzMeFJAZmZmZmZqWEAAAAAAAFxeQM3MzMzMJmJAmpmZmZkfZUBmZmZmZhhoQDMzMzMzEWtAAAAAAAAKbkBmZmZmZoFwQM3MzMzM/XFAMzMzMzN6c0CamZmZmfZ0QAAAAAAAc3ZAZmZmZmbvd0DNzMzMzGt5QDMzMzMz6HpAmpmZmZlkfEAAAAAAAOF9QGZmZmZmXX9AZmZmZuZsgECamZmZGSuBQM3MzMxM6YFAAAAAAICngkAzMzMzs2WDQGZmZmbmI4RAmpmZmRnihEDNzMzMTKCFQAAAAACAXoZAMzMzM7Mch0BmZmZm5tqHQJqZmZkZmYhAzczMzExXiUAAAAAAgBWKQDMzMzOz04pAZmZmZuaRi0CamZmZGVCMQM3MzMxMDo1AAAAAAIDMjUAzMzMzs4qOQGZmZmbmSI9A\",\"dtype\":\"float64\",\"shape\":[75]}},\"selected\":{\"id\":\"545ccc4a-e246-43d3-992a-19296a620914\",\"type\":\"Selection\"},\"selection_policy\":{\"id\":\"9ca6cda9-6ab6-4c1d-8a96-c3dbdcd3b138\",\"type\":\"UnionRenderers\"}},\"id\":\"fb622398-e387-4318-873a-fa800e4aab7b\",\"type\":\"ColumnDataSource\"},{\"attributes\":{\"num_minor_ticks\":10},\"id\":\"c4dc728c-69b1-48c0-b51b-068d8517d627\",\"type\":\"LogTicker\"},{\"attributes\":{\"dimension\":1,\"plot\":{\"id\":\"e9c86d34-fc5b-493d-935d-5601bdd2983c\",\"subtype\":\"Figure\",\"type\":\"Plot\"},\"ticker\":{\"id\":\"e0cc6635-f317-4737-bc73-6e5b0d6cf232\",\"type\":\"LogTicker\"}},\"id\":\"0c88a060-9cca-46ac-9a67-c69f13bfc660\",\"type\":\"Grid\"},{\"attributes\":{\"source\":{\"id\":\"f6c6f90e-f593-43d3-a769-9d5dec178035\",\"type\":\"ColumnDataSource\"}},\"id\":\"74c426b8-65c5-4d3e-963a-084d6da63dbf\",\"type\":\"CDSView\"},{\"attributes\":{\"callback\":null,\"data\":{\"x\":{\"__ndarray__\":\"rdQuh64IgMB3nrXQXH2ywFZxscjTKYPAUtI3PKW/ecAdqUTK/cJzwMy4dt9iIm3A7JZvZxw4ZsB11pb8yglhwNM7WRjDp1rAif2iqX4SVMDXzY9fBFpOwGvBPGJRHEXAB0IyOwZuOkC5MlT1glJNQAxLzYbB4TJA+IvBykLlD8Dn06J2KiANwKlxddHbIwnAH58aXAa0A8Csr+hAJBL/P4gH5d3Hi0RAytZgkBFFQkBU2CsIxoQKQMC0p+EtEA7AzPjevh2+BMCd0KVpGDb5v5FFEK50gPW/k+uTTSCI7r/TVfsd5pDUvxZYhloP+rW/rXfzNDBKrj/m865nAGKkP7KJLehWemq/qqtW+jcUnr/IH59T6WhUP1/dEa+IALY/mPGX0yP+sT8UDNYKq6mGv0m3KPjWg7O/1pHuQXkFtr9cgC6UOqayvzTj+wBxtKy/rcLaSIeTpb9IM80efCigv6cgc7and62/SKfP2UAKsr8W5eGiNY2cv8Ax2QfmbIO/ZPKiiHZsnb+o87+qwpKrvxbinIvDIqu/5jsDEodho7/MCRFVwr2jv7Sd5j1zJ6u/oZYpZEjbqr/BaRQdCJOlv7wbVbsa6J+/rFjTS/xwmL+B2z0Tdl6Uv2SJTtoJK4y/9AIEHhllib8byIj/zASJv6jqiXIWa4+//r98Uqdskr8Uu6rW+7KSv7CfK552EI+/GrG6eHAVgL9i0YIuYpp4P5begpXY75Q/5ASDMUNfnz+o/vEmC9SeP6SfPWFJNZc/4rGgVu91jj9Uq3Yopu2IP+LiTCEFx3C/\",\"dtype\":\"float64\",\"shape\":[75]},\"y\":{\"__ndarray__\":\"GhExyth1ND/Sv8nbtpRIP2vylNV0PVE/aTum7souWD/At0SJ8fVgPw3Iuahxymc/MSNhhJWvcD/bTfBN02d3P2zb5nxnaoA/CD5h5MAGhz8NmeH1TyaQP+zrCsc9p5Y/LbKd76fGnz/bLW5ISEmmPww9YvTcQq8/JV2OstnstT8Er5Y7M8G+P0c+r3jqkcU/5h99k6ZBzj88bCIzFzjVP4enV8oyxN0//yH99nXg5D8qOpLLf0jtP5kqGJXUifQ/c9cS8kHP/D+/DpwzojQEQIEmwoanVwxA4lgXt9HgE0BSSZ2AJuIbQAMJih9jjiNA5q4l5INuK0AwTKYKRj0zQNv5fmq8/DpAaCJseHrtQkB/+zpwzoxKQM3MzMzMeFJAZmZmZmZqWEAAAAAAAFxeQM3MzMzMJmJAmpmZmZkfZUBmZmZmZhhoQDMzMzMzEWtAAAAAAAAKbkBmZmZmZoFwQM3MzMzM/XFAMzMzMzN6c0CamZmZmfZ0QAAAAAAAc3ZAZmZmZmbvd0DNzMzMzGt5QDMzMzMz6HpAmpmZmZlkfEAAAAAAAOF9QGZmZmZmXX9AZmZmZuZsgECamZmZGSuBQM3MzMxM6YFAAAAAAICngkAzMzMzs2WDQGZmZmbmI4RAmpmZmRnihEDNzMzMTKCFQAAAAACAXoZAMzMzM7Mch0BmZmZm5tqHQJqZmZkZmYhAzczMzExXiUAAAAAAgBWKQDMzMzOz04pAZmZmZuaRi0CamZmZGVCMQM3MzMxMDo1AAAAAAIDMjUAzMzMzs4qOQGZmZmbmSI9A\",\"dtype\":\"float64\",\"shape\":[75]}},\"selected\":{\"id\":\"abab3df7-4bad-480a-a5ff-805baa241bfc\",\"type\":\"Selection\"},\"selection_policy\":{\"id\":\"8661b8a2-5ee8-4fd9-a348-8ea5b544da02\",\"type\":\"UnionRenderers\"}},\"id\":\"c42ae6de-9e9e-4ba1-bd20-72a6e6581e1a\",\"type\":\"ColumnDataSource\"},{\"attributes\":{},\"id\":\"8742eb83-2f03-4a8a-a072-758d5cb1f745\",\"type\":\"ResetTool\"},{\"attributes\":{\"axis_label\":\"pressure [mb]\",\"formatter\":{\"id\":\"b6549374-6123-4fcc-8403-c0d6eaccd69d\",\"type\":\"LogTickFormatter\"},\"plot\":{\"id\":\"e9c86d34-fc5b-493d-935d-5601bdd2983c\",\"subtype\":\"Figure\",\"type\":\"Plot\"},\"ticker\":{\"id\":\"e0cc6635-f317-4737-bc73-6e5b0d6cf232\",\"type\":\"LogTicker\"}},\"id\":\"c9cab61e-74bc-4624-8396-84d8cc136086\",\"type\":\"LogAxis\"},{\"attributes\":{\"callback\":null,\"end\":1.5931496434531,\"start\":0.1924315260169},\"id\":\"634ef9b7-8055-4353-a4a4-5d5293f76831\",\"type\":\"Range1d\"},{\"attributes\":{\"callback\":null,\"data\":{\"x\":{\"__ndarray__\":\"0CYBcvU5UkCik9zf2GVBQF1VoNfLZ0BAVLxhiVXTPUDD1Wu1wJM6QFJyB025jjdAU6Aw5+b/NECYe1uuDfgyQB6bYtVTbTFAPxYSAF1HMEA00pYVm9QuQLolHbMzgC1AntlwirGsLECv+G9SjE4rQJH6ZLBp0ShAsLZQyPd/JkDyjgyf2PwkQLgyNGsrJyRAA13QbJD6I0C8hy0ilI4kQOVTXCEgcSZAovOGvZSGJUBVc/ZmUOIgQOf/6GHAyRlAcE8fAOBSFEDRur1U//gPQGFD9ZbokghAQsqHuSqSA0C91ci3W0UBQCtRQfvz7/4/kh8pntyB+j9t1/n+4TX1P773MAUjFfI/RgzR+CI28T8hBW8WHK7uPzVKjJfU8uk/0FPt4/z65T/wVYqzMPDhPz7K9C5CXuE/8+hSn9hY4T/9PPCkR6rhP1XsIC599OA/66X1nBCX3z/YbRM56QjcPz4dkSQc/dM/S7Wb8Fq00T+/yQdmX0vcP7TrGf476eM/WqNPJoWO7D9qOH1bcwDzP2bw+R5DQ/Y/RLSuQOQp+D8+aif8yAz5P0Wv6eBKRfk/0i2+IN4R+T/ik8QNFZr4PyS5UD5j/Pc/yJ68zXRG9z/2CHPL54H2P59SOhwKtPU/npkP8dfg9D8NlmVcdQz0P80ugRvuOvM/byxiAHN18j9USVZie8nxP5l9lNXYSPE/OB+F0UYP8T8Y7dsUCTHxP3EBgTHPcPE/bfx15p8S8T8FT+xkGtTuP6mdG7rkxuk/pboqTkHX5D/CrN8qGYngP7R4ZaL+htU/\",\"dtype\":\"float64\",\"shape\":[75]},\"y\":{\"__ndarray__\":\"GhExyth1ND/Sv8nbtpRIP2vylNV0PVE/aTum7souWD/At0SJ8fVgPw3Iuahxymc/MSNhhJWvcD/bTfBN02d3P2zb5nxnaoA/CD5h5MAGhz8NmeH1TyaQP+zrCsc9p5Y/LbKd76fGnz/bLW5ISEmmPww9YvTcQq8/JV2OstnstT8Er5Y7M8G+P0c+r3jqkcU/5h99k6ZBzj88bCIzFzjVP4enV8oyxN0//yH99nXg5D8qOpLLf0jtP5kqGJXUifQ/c9cS8kHP/D+/DpwzojQEQIEmwoanVwxA4lgXt9HgE0BSSZ2AJuIbQAMJih9jjiNA5q4l5INuK0AwTKYKRj0zQNv5fmq8/DpAaCJseHrtQkB/+zpwzoxKQM3MzMzMeFJAZmZmZmZqWEAAAAAAAFxeQM3MzMzMJmJAmpmZmZkfZUBmZmZmZhhoQDMzMzMzEWtAAAAAAAAKbkBmZmZmZoFwQM3MzMzM/XFAMzMzMzN6c0CamZmZmfZ0QAAAAAAAc3ZAZmZmZmbvd0DNzMzMzGt5QDMzMzMz6HpAmpmZmZlkfEAAAAAAAOF9QGZmZmZmXX9AZmZmZuZsgECamZmZGSuBQM3MzMxM6YFAAAAAAICngkAzMzMzs2WDQGZmZmbmI4RAmpmZmRnihEDNzMzMTKCFQAAAAACAXoZAMzMzM7Mch0BmZmZm5tqHQJqZmZkZmYhAzczMzExXiUAAAAAAgBWKQDMzMzOz04pAZmZmZuaRi0CamZmZGVCMQM3MzMxMDo1AAAAAAIDMjUAzMzMzs4qOQGZmZmbmSI9A\",\"dtype\":\"float64\",\"shape\":[75]}},\"selected\":{\"id\":\"efc5d351-6eb8-4f56-8bf0-9f5747836ce7\",\"type\":\"Selection\"},\"selection_policy\":{\"id\":\"0beaa159-8940-4060-a948-e4129fc5e118\",\"type\":\"UnionRenderers\"}},\"id\":\"f64dfe11-d6f2-498b-86de-a937d5877273\",\"type\":\"ColumnDataSource\"},{\"attributes\":{},\"id\":\"8bff66b9-b415-4b9c-9e53-336de4890818\",\"type\":\"Selection\"},{\"attributes\":{},\"id\":\"efc5d351-6eb8-4f56-8bf0-9f5747836ce7\",\"type\":\"Selection\"},{\"attributes\":{\"data_source\":{\"id\":\"c42ae6de-9e9e-4ba1-bd20-72a6e6581e1a\",\"type\":\"ColumnDataSource\"},\"glyph\":{\"id\":\"a2b5eb26-2218-46ca-93b4-f8924c09b140\",\"type\":\"Circle\"},\"hover_glyph\":null,\"muted_glyph\":null,\"nonselection_glyph\":{\"id\":\"f2b7cd01-f7a5-474f-8bce-a02241ec6e2f\",\"type\":\"Circle\"},\"selection_glyph\":null,\"view\":{\"id\":\"716d918e-4147-4550-999d-17f1199810c5\",\"type\":\"CDSView\"}},\"id\":\"a56d7d6e-c4af-4dd2-975d-f6e27e269e82\",\"type\":\"GlyphRenderer\"},{\"attributes\":{\"fill_alpha\":{\"value\":0.7},\"fill_color\":{\"value\":\"#4daf4a\"},\"line_alpha\":{\"value\":0.7},\"line_color\":{\"value\":\"#4daf4a\"},\"x\":{\"field\":\"x\"},\"y\":{\"field\":\"y\"}},\"id\":\"e28f9cd6-ca25-40b7-8335-d4ec2d45aba6\",\"type\":\"Circle\"},{\"attributes\":{\"fill_alpha\":{\"value\":0.7},\"fill_color\":{\"value\":\"#984ea3\"},\"line_alpha\":{\"value\":0.7},\"line_color\":{\"value\":\"#984ea3\"},\"x\":{\"field\":\"x\"},\"y\":{\"field\":\"y\"}},\"id\":\"a2b5eb26-2218-46ca-93b4-f8924c09b140\",\"type\":\"Circle\"},{\"attributes\":{\"fill_alpha\":{\"value\":0.1},\"fill_color\":{\"value\":\"#1f77b4\"},\"line_alpha\":{\"value\":0.1},\"line_color\":{\"value\":\"#1f77b4\"},\"x\":{\"field\":\"x\"},\"y\":{\"field\":\"y\"}},\"id\":\"f2b7cd01-f7a5-474f-8bce-a02241ec6e2f\",\"type\":\"Circle\"},{\"attributes\":{\"data_source\":{\"id\":\"8f2440cd-0842-4221-be0f-a92ea78b5f64\",\"type\":\"ColumnDataSource\"},\"glyph\":{\"id\":\"7792e3f7-83ea-41e0-ba8d-cc922a1c70fb\",\"type\":\"Line\"},\"hover_glyph\":null,\"muted_glyph\":null,\"nonselection_glyph\":{\"id\":\"3b20c681-f781-403c-8ca9-671b5167e9a8\",\"type\":\"Line\"},\"selection_glyph\":null,\"view\":{\"id\":\"8e53234d-7fd6-4e5e-b4c9-79c55f610775\",\"type\":\"CDSView\"}},\"id\":\"31be8817-392f-4b8b-8118-07c45d06581f\",\"type\":\"GlyphRenderer\"},{\"attributes\":{\"data_source\":{\"id\":\"d13666c1-91de-4251-bf2a-2c77d9fe25f7\",\"type\":\"ColumnDataSource\"},\"glyph\":{\"id\":\"e95587b6-0317-460e-87c9-eda04258afa3\",\"type\":\"Line\"},\"hover_glyph\":null,\"muted_glyph\":null,\"nonselection_glyph\":{\"id\":\"a75fbf36-a3d2-4a2e-8c9e-6236d355d33b\",\"type\":\"Line\"},\"selection_glyph\":null,\"view\":{\"id\":\"ab7ea347-1ae1-452e-854b-09efb36d5134\",\"type\":\"CDSView\"}},\"id\":\"52d182ac-a421-430b-876c-a525b166e4fa\",\"type\":\"GlyphRenderer\"},{\"attributes\":{\"data_source\":{\"id\":\"f6c6f90e-f593-43d3-a769-9d5dec178035\",\"type\":\"ColumnDataSource\"},\"glyph\":{\"id\":\"99b8756c-0499-4099-9ee9-abee63737670\",\"type\":\"Circle\"},\"hover_glyph\":null,\"muted_glyph\":null,\"nonselection_glyph\":{\"id\":\"5a365e15-25d7-4961-9c3b-73631f1ab445\",\"type\":\"Circle\"},\"selection_glyph\":null,\"view\":{\"id\":\"74c426b8-65c5-4d3e-963a-084d6da63dbf\",\"type\":\"CDSView\"}},\"id\":\"e5db7072-a0f6-4540-b935-b4be3504d848\",\"type\":\"GlyphRenderer\"},{\"attributes\":{\"source\":{\"id\":\"d13666c1-91de-4251-bf2a-2c77d9fe25f7\",\"type\":\"ColumnDataSource\"}},\"id\":\"ab7ea347-1ae1-452e-854b-09efb36d5134\",\"type\":\"CDSView\"},{\"attributes\":{\"plot\":{\"id\":\"e9c86d34-fc5b-493d-935d-5601bdd2983c\",\"subtype\":\"Figure\",\"type\":\"Plot\"},\"ticker\":{\"id\":\"f06f8987-efba-4ae6-86ca-f877f360e8ed\",\"type\":\"BasicTicker\"}},\"id\":\"1f076d6f-802e-471f-830f-738107af2437\",\"type\":\"Grid\"},{\"attributes\":{\"callback\":null,\"end\":0.01,\"start\":1020},\"id\":\"8ffc3de2-e864-401a-813c-199905426dca\",\"type\":\"Range1d\"},{\"attributes\":{},\"id\":\"ec560657-7a2e-4f6e-ad98-5c0d3f56e70b\",\"type\":\"UnionRenderers\"},{\"attributes\":{\"line_alpha\":0.8,\"line_color\":\"#984ea3\",\"line_width\":1.5,\"x\":{\"field\":\"x\"},\"y\":{\"field\":\"y\"}},\"id\":\"f467cef1-7392-47c7-a073-0db42e2c9982\",\"type\":\"Line\"},{\"attributes\":{\"dimension\":1,\"plot\":{\"id\":\"e5fdf0b0-e3de-4fd5-829d-c69141d5d776\",\"subtype\":\"Figure\",\"type\":\"Plot\"},\"ticker\":{\"id\":\"c4dc728c-69b1-48c0-b51b-068d8517d627\",\"type\":\"LogTicker\"}},\"id\":\"9fcd6c82-f935-47b2-b841-9b7d63ac75e1\",\"type\":\"Grid\"},{\"attributes\":{\"bottom_units\":\"screen\",\"fill_alpha\":{\"value\":0.5},\"fill_color\":{\"value\":\"lightgrey\"},\"left_units\":\"screen\",\"level\":\"overlay\",\"line_alpha\":{\"value\":1.0},\"line_color\":{\"value\":\"black\"},\"line_dash\":[4,4],\"line_width\":{\"value\":2},\"plot\":null,\"render_mode\":\"css\",\"right_units\":\"screen\",\"top_units\":\"screen\"},\"id\":\"e21a0488-9e80-4c33-8115-f8560e2f055a\",\"type\":\"BoxAnnotation\"},{\"attributes\":{\"bottom_units\":\"screen\",\"fill_alpha\":{\"value\":0.5},\"fill_color\":{\"value\":\"lightgrey\"},\"left_units\":\"screen\",\"level\":\"overlay\",\"line_alpha\":{\"value\":1.0},\"line_color\":{\"value\":\"black\"},\"line_dash\":[4,4],\"line_width\":{\"value\":2},\"plot\":null,\"render_mode\":\"css\",\"right_units\":\"screen\",\"top_units\":\"screen\"},\"id\":\"d0fc0926-ecc9-4197-967b-4a2ace8a0a59\",\"type\":\"BoxAnnotation\"},{\"attributes\":{\"axis_label\":\"pressure [mb]\",\"formatter\":{\"id\":\"b74874d8-4940-4bde-93fd-92da8409e6ef\",\"type\":\"LogTickFormatter\"},\"plot\":{\"id\":\"e5fdf0b0-e3de-4fd5-829d-c69141d5d776\",\"subtype\":\"Figure\",\"type\":\"Plot\"},\"ticker\":{\"id\":\"c4dc728c-69b1-48c0-b51b-068d8517d627\",\"type\":\"LogTicker\"}},\"id\":\"ee79f783-139c-4523-9762-ecef4f643061\",\"type\":\"LogAxis\"},{\"attributes\":{},\"id\":\"3d4e20ca-af18-4260-842a-04351132e2f5\",\"type\":\"PanTool\"},{\"attributes\":{\"overlay\":{\"id\":\"e21a0488-9e80-4c33-8115-f8560e2f055a\",\"type\":\"BoxAnnotation\"}},\"id\":\"503f84ec-22d4-4a54-ac9e-50e161b60baa\",\"type\":\"BoxZoomTool\"},{\"attributes\":{\"line_alpha\":0.6,\"line_color\":\"#377eb8\",\"line_dash\":[6],\"line_width\":5,\"x\":{\"field\":\"x\"},\"y\":{\"field\":\"y\"}},\"id\":\"7792e3f7-83ea-41e0-ba8d-cc922a1c70fb\",\"type\":\"Line\"},{\"attributes\":{\"source\":{\"id\":\"fb622398-e387-4318-873a-fa800e4aab7b\",\"type\":\"ColumnDataSource\"}},\"id\":\"926ef81f-30b2-4e79-9f73-3efd4f63504d\",\"type\":\"CDSView\"},{\"attributes\":{},\"id\":\"f06f8987-efba-4ae6-86ca-f877f360e8ed\",\"type\":\"BasicTicker\"},{\"attributes\":{},\"id\":\"01e15168-f2d8-4a90-be7d-53b788a7c43b\",\"type\":\"WheelZoomTool\"},{\"attributes\":{\"line_alpha\":0.1,\"line_color\":\"#1f77b4\",\"line_dash\":[6],\"line_width\":5,\"x\":{\"field\":\"x\"},\"y\":{\"field\":\"y\"}},\"id\":\"a75fbf36-a3d2-4a2e-8c9e-6236d355d33b\",\"type\":\"Line\"},{\"attributes\":{\"source\":{\"id\":\"fcd725fe-b060-444d-a3e7-a9727bc547af\",\"type\":\"ColumnDataSource\"}},\"id\":\"31cc7c66-0130-4fce-94f3-2f02f57693e9\",\"type\":\"CDSView\"},{\"attributes\":{\"axis_label\":\"cooling rate [K/day]\",\"formatter\":{\"id\":\"a9223c33-cb1e-40a8-b2d3-c87b53c6d251\",\"type\":\"BasicTickFormatter\"},\"plot\":{\"id\":\"e9c86d34-fc5b-493d-935d-5601bdd2983c\",\"subtype\":\"Figure\",\"type\":\"Plot\"},\"ticker\":{\"id\":\"f06f8987-efba-4ae6-86ca-f877f360e8ed\",\"type\":\"BasicTicker\"}},\"id\":\"7b264463-0e47-4cb2-b32c-b6669b35242c\",\"type\":\"LinearAxis\"},{\"attributes\":{},\"id\":\"9e7238c4-74cf-45b9-aaae-9c4cf2673cd1\",\"type\":\"HelpTool\"},{\"attributes\":{\"fill_alpha\":{\"value\":0.1},\"fill_color\":{\"value\":\"#1f77b4\"},\"line_alpha\":{\"value\":0.1},\"line_color\":{\"value\":\"#1f77b4\"},\"x\":{\"field\":\"x\"},\"y\":{\"field\":\"y\"}},\"id\":\"6cfd403f-0e8e-4886-86ca-04a510f0355c\",\"type\":\"Circle\"},{\"attributes\":{\"callback\":null,\"end\":73.6611183917533,\"start\":-65.3733005916833},\"id\":\"b156c402-b7d4-4be4-80d0-110154a0392e\",\"type\":\"Range1d\"},{\"attributes\":{},\"id\":\"74dc5cf2-dc05-4a2f-8f3a-51b899a214b4\",\"type\":\"SaveTool\"},{\"attributes\":{\"num_minor_ticks\":10},\"id\":\"e0cc6635-f317-4737-bc73-6e5b0d6cf232\",\"type\":\"LogTicker\"},{\"attributes\":{\"source\":{\"id\":\"8f2440cd-0842-4221-be0f-a92ea78b5f64\",\"type\":\"ColumnDataSource\"}},\"id\":\"8e53234d-7fd6-4e5e-b4c9-79c55f610775\",\"type\":\"CDSView\"},{\"attributes\":{\"line_alpha\":0.1,\"line_color\":\"#1f77b4\",\"line_width\":1.5,\"x\":{\"field\":\"x\"},\"y\":{\"field\":\"y\"}},\"id\":\"1a195ef6-991e-4579-bc8c-015783691cc5\",\"type\":\"Line\"},{\"attributes\":{},\"id\":\"6ad9ef9d-937f-4200-ba40-eedea08feb03\",\"type\":\"PanTool\"},{\"attributes\":{},\"id\":\"f979c7d9-1c60-4f2f-b194-9c76fbd6af17\",\"type\":\"LinearScale\"},{\"attributes\":{},\"id\":\"eea8447f-ffce-4750-ab51-004876063e70\",\"type\":\"BasicTickFormatter\"},{\"attributes\":{},\"id\":\"281c8d57-025f-45d4-9bf3-6815c61c025d\",\"type\":\"LogScale\"},{\"attributes\":{},\"id\":\"3e92feca-b3dc-4622-bab6-019e81c6c8a1\",\"type\":\"LogScale\"},{\"attributes\":{\"callback\":null,\"data\":{\"x\":{\"__ndarray__\":\"pV/dsd+Ce8BP5fUekVqywP9rNwtXI4LAjLah42/id8DB6+2+wRlywILK1bWLMGrA4YKJih+YY8ADzpaNklVdwA2VACNuTFbA+3eeaacAUMBMGSqa3aRGwPfv6uqIeDvAa1c1gC9iREBzGPgEExNSQFXI/152Sj9AYqdAK04NHUDys8cCnGkbQJqsre1ovBtAdGqTqx0bHkCxnUqq2HAoQIEcPOYPKEpAsZPCv7amR0BraQHpgYMnQBJLKuJSgwVAF6ZfQaLnA0CC0uof810DQC5B2n9cpfs/up5FTEXg9z8E1hLofWb9P6vrmAVTkP0/UrvQHy50+z8OTzcC8tj1P/ngvNnlB/I/mLHnGNK98D+y1BiLULjuP+OFbq3lsuw/AlJgXsE66D++/V4HipXhP6hm35+O290/ci0q7lIw3T/i2dSkAKveP0ZcIjxsUt4/mU3as5/k3D9xxzm12QPaPym5wi0nTtA/75ZPdJVjyj9tq9kLjILaP+yG+mWIm+M/xYsKciGj6z/OOCdG3SPyP1UJnQItavU/ZpoeCNiO9z/u4X7p2m74P1h6+kYPbPg/HOGc3QM7+D+V8NvMfO33P7RkY9PCfPc/ZlGN3LDk9j+IESbzbTD2P421hQi0e/U/l5HTvg2u9D99hGbCa9rzP/ganO4X/PI/bjkYY8Ar8j9nnvtyr37xP1omWOi3CvE/1amT8Bvv8D/pbwp3o0nxP+0M15OOxPE/gQg88xyQ8T/73iO+usrvP6iKJQWPgOo/bj2FCxlR5T9xh4HDz+zgPyZF4I3iQ9U/\",\"dtype\":\"float64\",\"shape\":[75]},\"y\":{\"__ndarray__\":\"GhExyth1ND/Sv8nbtpRIP2vylNV0PVE/aTum7souWD/At0SJ8fVgPw3Iuahxymc/MSNhhJWvcD/bTfBN02d3P2zb5nxnaoA/CD5h5MAGhz8NmeH1TyaQP+zrCsc9p5Y/LbKd76fGnz/bLW5ISEmmPww9YvTcQq8/JV2OstnstT8Er5Y7M8G+P0c+r3jqkcU/5h99k6ZBzj88bCIzFzjVP4enV8oyxN0//yH99nXg5D8qOpLLf0jtP5kqGJXUifQ/c9cS8kHP/D+/DpwzojQEQIEmwoanVwxA4lgXt9HgE0BSSZ2AJuIbQAMJih9jjiNA5q4l5INuK0AwTKYKRj0zQNv5fmq8/DpAaCJseHrtQkB/+zpwzoxKQM3MzMzMeFJAZmZmZmZqWEAAAAAAAFxeQM3MzMzMJmJAmpmZmZkfZUBmZmZmZhhoQDMzMzMzEWtAAAAAAAAKbkBmZmZmZoFwQM3MzMzM/XFAMzMzMzN6c0CamZmZmfZ0QAAAAAAAc3ZAZmZmZmbvd0DNzMzMzGt5QDMzMzMz6HpAmpmZmZlkfEAAAAAAAOF9QGZmZmZmXX9AZmZmZuZsgECamZmZGSuBQM3MzMxM6YFAAAAAAICngkAzMzMzs2WDQGZmZmbmI4RAmpmZmRnihEDNzMzMTKCFQAAAAACAXoZAMzMzM7Mch0BmZmZm5tqHQJqZmZkZmYhAzczMzExXiUAAAAAAgBWKQDMzMzOz04pAZmZmZuaRi0CamZmZGVCMQM3MzMxMDo1AAAAAAIDMjUAzMzMzs4qOQGZmZmbmSI9A\",\"dtype\":\"float64\",\"shape\":[75]}},\"selected\":{\"id\":\"8bff66b9-b415-4b9c-9e53-336de4890818\",\"type\":\"Selection\"},\"selection_policy\":{\"id\":\"ec560657-7a2e-4f6e-ad98-5c0d3f56e70b\",\"type\":\"UnionRenderers\"}},\"id\":\"8f2440cd-0842-4221-be0f-a92ea78b5f64\",\"type\":\"ColumnDataSource\"},{\"attributes\":{},\"id\":\"f553a1b7-4d84-41b0-98bc-96061c76136a\",\"type\":\"LinearScale\"},{\"attributes\":{\"label\":{\"value\":\"CLIRAD (single-run)\"},\"renderers\":[{\"id\":\"31be8817-392f-4b8b-8118-07c45d06581f\",\"type\":\"GlyphRenderer\"}]},\"id\":\"c2b972b3-f64d-4d12-86a1-f0169872a58b\",\"type\":\"LegendItem\"},{\"attributes\":{\"callback\":null,\"data\":{\"x\":{\"__ndarray__\":\"0CYBcvU5UkCik9zf2GVBQF1VoNfLZ0BAVLxhiVXTPUDD1Wu1wJM6QFJyB025jjdAU6Aw5+b/NECYe1uuDfgyQB6bYtVTbTFAPxYSAF1HMEA00pYVm9QuQLolHbMzgC1AntlwirGsLECv+G9SjE4rQJH6ZLBp0ShAsLZQyPd/JkDyjgyf2PwkQLgyNGsrJyRAA13QbJD6I0C8hy0ilI4kQOVTXCEgcSZAovOGvZSGJUBVc/ZmUOIgQOf/6GHAyRlAcE8fAOBSFEDRur1U//gPQGFD9ZbokghAQsqHuSqSA0C91ci3W0UBQCtRQfvz7/4/kh8pntyB+j9t1/n+4TX1P773MAUjFfI/RgzR+CI28T8hBW8WHK7uPzVKjJfU8uk/0FPt4/z65T/wVYqzMPDhPz7K9C5CXuE/8+hSn9hY4T/9PPCkR6rhP1XsIC599OA/66X1nBCX3z/YbRM56QjcPz4dkSQc/dM/S7Wb8Fq00T+/yQdmX0vcP7TrGf476eM/WqNPJoWO7D9qOH1bcwDzP2bw+R5DQ/Y/RLSuQOQp+D8+aif8yAz5P0Wv6eBKRfk/0i2+IN4R+T/ik8QNFZr4PyS5UD5j/Pc/yJ68zXRG9z/2CHPL54H2P59SOhwKtPU/npkP8dfg9D8NlmVcdQz0P80ugRvuOvM/byxiAHN18j9USVZie8nxP5l9lNXYSPE/OB+F0UYP8T8Y7dsUCTHxP3EBgTHPcPE/bfx15p8S8T8FT+xkGtTuP6mdG7rkxuk/pboqTkHX5D/CrN8qGYngP7R4ZaL+htU/\",\"dtype\":\"float64\",\"shape\":[75]},\"y\":{\"__ndarray__\":\"GhExyth1ND/Sv8nbtpRIP2vylNV0PVE/aTum7souWD/At0SJ8fVgPw3Iuahxymc/MSNhhJWvcD/bTfBN02d3P2zb5nxnaoA/CD5h5MAGhz8NmeH1TyaQP+zrCsc9p5Y/LbKd76fGnz/bLW5ISEmmPww9YvTcQq8/JV2OstnstT8Er5Y7M8G+P0c+r3jqkcU/5h99k6ZBzj88bCIzFzjVP4enV8oyxN0//yH99nXg5D8qOpLLf0jtP5kqGJXUifQ/c9cS8kHP/D+/DpwzojQEQIEmwoanVwxA4lgXt9HgE0BSSZ2AJuIbQAMJih9jjiNA5q4l5INuK0AwTKYKRj0zQNv5fmq8/DpAaCJseHrtQkB/+zpwzoxKQM3MzMzMeFJAZmZmZmZqWEAAAAAAAFxeQM3MzMzMJmJAmpmZmZkfZUBmZmZmZhhoQDMzMzMzEWtAAAAAAAAKbkBmZmZmZoFwQM3MzMzM/XFAMzMzMzN6c0CamZmZmfZ0QAAAAAAAc3ZAZmZmZmbvd0DNzMzMzGt5QDMzMzMz6HpAmpmZmZlkfEAAAAAAAOF9QGZmZmZmXX9AZmZmZuZsgECamZmZGSuBQM3MzMxM6YFAAAAAAICngkAzMzMzs2WDQGZmZmbmI4RAmpmZmRnihEDNzMzMTKCFQAAAAACAXoZAMzMzM7Mch0BmZmZm5tqHQJqZmZkZmYhAzczMzExXiUAAAAAAgBWKQDMzMzOz04pAZmZmZuaRi0CamZmZGVCMQM3MzMxMDo1AAAAAAIDMjUAzMzMzs4qOQGZmZmbmSI9A\",\"dtype\":\"float64\",\"shape\":[75]}},\"selected\":{\"id\":\"c69bb4e5-a952-490f-8edf-896d0e916d82\",\"type\":\"Selection\"},\"selection_policy\":{\"id\":\"cd198053-2d87-4cfd-9547-64b3ec568e35\",\"type\":\"UnionRenderers\"}},\"id\":\"f6c6f90e-f593-43d3-a769-9d5dec178035\",\"type\":\"ColumnDataSource\"},{\"attributes\":{\"fill_alpha\":{\"value\":0.7},\"fill_color\":{\"value\":\"#4daf4a\"},\"line_alpha\":{\"value\":0.7},\"line_color\":{\"value\":\"#4daf4a\"},\"x\":{\"field\":\"x\"},\"y\":{\"field\":\"y\"}},\"id\":\"99b8756c-0499-4099-9ee9-abee63737670\",\"type\":\"Circle\"},{\"attributes\":{\"fill_alpha\":{\"value\":0.1},\"fill_color\":{\"value\":\"#1f77b4\"},\"line_alpha\":{\"value\":0.1},\"line_color\":{\"value\":\"#1f77b4\"},\"x\":{\"field\":\"x\"},\"y\":{\"field\":\"y\"}},\"id\":\"5a365e15-25d7-4961-9c3b-73631f1ab445\",\"type\":\"Circle\"},{\"attributes\":{},\"id\":\"208fc0d0-ef7d-4507-baab-1cef4500ae89\",\"type\":\"LinearScale\"},{\"attributes\":{\"line_alpha\":0.1,\"line_color\":\"#1f77b4\",\"line_dash\":[6],\"line_width\":5,\"x\":{\"field\":\"x\"},\"y\":{\"field\":\"y\"}},\"id\":\"3b20c681-f781-403c-8ca9-671b5167e9a8\",\"type\":\"Line\"},{\"attributes\":{\"active_drag\":\"auto\",\"active_inspect\":\"auto\",\"active_scroll\":\"auto\",\"active_tap\":\"auto\",\"tools\":[{\"id\":\"6ad9ef9d-937f-4200-ba40-eedea08feb03\",\"type\":\"PanTool\"},{\"id\":\"ad34c7a3-1bdd-4aac-a8c6-505b3f605897\",\"type\":\"WheelZoomTool\"},{\"id\":\"98ac89a8-a7ad-49fd-a231-e00c2a4125eb\",\"type\":\"BoxZoomTool\"},{\"id\":\"47175b8c-703f-4787-9133-a159adffa593\",\"type\":\"SaveTool\"},{\"id\":\"373029e5-d824-4098-af84-3ea0c1198502\",\"type\":\"ResetTool\"},{\"id\":\"d8d2c237-ae47-4b47-977b-a24ca52e4e85\",\"type\":\"HelpTool\"}]},\"id\":\"4f95a1c4-4442-4775-8af1-f8d9d710e5c4\",\"type\":\"Toolbar\"},{\"attributes\":{\"overlay\":{\"id\":\"4b83599e-b3e7-49c0-a300-91ebe96961aa\",\"type\":\"BoxAnnotation\"}},\"id\":\"33403a03-30fe-49e8-a958-4579a7b8cd77\",\"type\":\"BoxZoomTool\"},{\"attributes\":{\"bottom_units\":\"screen\",\"fill_alpha\":{\"value\":0.5},\"fill_color\":{\"value\":\"lightgrey\"},\"left_units\":\"screen\",\"level\":\"overlay\",\"line_alpha\":{\"value\":1.0},\"line_color\":{\"value\":\"black\"},\"line_dash\":[4,4],\"line_width\":{\"value\":2},\"plot\":null,\"render_mode\":\"css\",\"right_units\":\"screen\",\"top_units\":\"screen\"},\"id\":\"4b83599e-b3e7-49c0-a300-91ebe96961aa\",\"type\":\"BoxAnnotation\"},{\"attributes\":{},\"id\":\"fffde8a0-08a4-467d-8761-23f7ac303622\",\"type\":\"SaveTool\"},{\"attributes\":{},\"id\":\"e258e1dd-3742-4ff3-8fb8-1657157b7382\",\"type\":\"WheelZoomTool\"},{\"attributes\":{},\"id\":\"87e5dc9b-263c-4ee6-991e-bc67904a8b98\",\"type\":\"BasicTicker\"},{\"attributes\":{\"items\":[{\"id\":\"1253a3db-1946-4d1f-a4b0-49a36165e705\",\"type\":\"LegendItem\"}],\"label_text_font_size\":{\"value\":\"8pt\"},\"location\":\"top_center\",\"orientation\":\"horizontal\",\"plot\":{\"id\":\"e5fdf0b0-e3de-4fd5-829d-c69141d5d776\",\"subtype\":\"Figure\",\"type\":\"Plot\"}},\"id\":\"db817992-e75b-4bb4-bd8e-3c272e40df02\",\"type\":\"Legend\"},{\"attributes\":{\"callback\":null,\"data\":{\"x\":{\"__ndarray__\":\"0CYBcvU5UkCik9zf2GVBQF1VoNfLZ0BAVLxhiVXTPUDD1Wu1wJM6QFJyB025jjdAU6Aw5+b/NECYe1uuDfgyQB6bYtVTbTFAPxYSAF1HMEA00pYVm9QuQLolHbMzgC1AntlwirGsLECv+G9SjE4rQJH6ZLBp0ShAsLZQyPd/JkDyjgyf2PwkQLgyNGsrJyRAA13QbJD6I0C8hy0ilI4kQOVTXCEgcSZAovOGvZSGJUBVc/ZmUOIgQOf/6GHAyRlAcE8fAOBSFEDRur1U//gPQGFD9ZbokghAQsqHuSqSA0C91ci3W0UBQCtRQfvz7/4/kh8pntyB+j9t1/n+4TX1P773MAUjFfI/RgzR+CI28T8hBW8WHK7uPzVKjJfU8uk/0FPt4/z65T/wVYqzMPDhPz7K9C5CXuE/8+hSn9hY4T/9PPCkR6rhP1XsIC599OA/66X1nBCX3z/YbRM56QjcPz4dkSQc/dM/S7Wb8Fq00T+/yQdmX0vcP7TrGf476eM/WqNPJoWO7D9qOH1bcwDzP2bw+R5DQ/Y/RLSuQOQp+D8+aif8yAz5P0Wv6eBKRfk/0i2+IN4R+T/ik8QNFZr4PyS5UD5j/Pc/yJ68zXRG9z/2CHPL54H2P59SOhwKtPU/npkP8dfg9D8NlmVcdQz0P80ugRvuOvM/byxiAHN18j9USVZie8nxP5l9lNXYSPE/OB+F0UYP8T8Y7dsUCTHxP3EBgTHPcPE/bfx15p8S8T8FT+xkGtTuP6mdG7rkxuk/pboqTkHX5D/CrN8qGYngP7R4ZaL+htU/\",\"dtype\":\"float64\",\"shape\":[75]},\"y\":{\"__ndarray__\":\"GhExyth1ND/Sv8nbtpRIP2vylNV0PVE/aTum7souWD/At0SJ8fVgPw3Iuahxymc/MSNhhJWvcD/bTfBN02d3P2zb5nxnaoA/CD5h5MAGhz8NmeH1TyaQP+zrCsc9p5Y/LbKd76fGnz/bLW5ISEmmPww9YvTcQq8/JV2OstnstT8Er5Y7M8G+P0c+r3jqkcU/5h99k6ZBzj88bCIzFzjVP4enV8oyxN0//yH99nXg5D8qOpLLf0jtP5kqGJXUifQ/c9cS8kHP/D+/DpwzojQEQIEmwoanVwxA4lgXt9HgE0BSSZ2AJuIbQAMJih9jjiNA5q4l5INuK0AwTKYKRj0zQNv5fmq8/DpAaCJseHrtQkB/+zpwzoxKQM3MzMzMeFJAZmZmZmZqWEAAAAAAAFxeQM3MzMzMJmJAmpmZmZkfZUBmZmZmZhhoQDMzMzMzEWtAAAAAAAAKbkBmZmZmZoFwQM3MzMzM/XFAMzMzMzN6c0CamZmZmfZ0QAAAAAAAc3ZAZmZmZmbvd0DNzMzMzGt5QDMzMzMz6HpAmpmZmZlkfEAAAAAAAOF9QGZmZmZmXX9AZmZmZuZsgECamZmZGSuBQM3MzMxM6YFAAAAAAICngkAzMzMzs2WDQGZmZmbmI4RAmpmZmRnihEDNzMzMTKCFQAAAAACAXoZAMzMzM7Mch0BmZmZm5tqHQJqZmZkZmYhAzczMzExXiUAAAAAAgBWKQDMzMzOz04pAZmZmZuaRi0CamZmZGVCMQM3MzMxMDo1AAAAAAIDMjUAzMzMzs4qOQGZmZmbmSI9A\",\"dtype\":\"float64\",\"shape\":[75]}},\"selected\":{\"id\":\"583f22a0-40ed-43b1-aba8-b30e51cf8d75\",\"type\":\"Selection\"},\"selection_policy\":{\"id\":\"61a78eb8-167f-45b5-820a-60f327524182\",\"type\":\"UnionRenderers\"}},\"id\":\"fcd725fe-b060-444d-a3e7-a9727bc547af\",\"type\":\"ColumnDataSource\"},{\"attributes\":{\"callback\":null,\"data\":{\"x\":{\"__ndarray__\":\"pV/dsd+Ce8BP5fUekVqywP9rNwtXI4LAjLah42/id8DB6+2+wRlywILK1bWLMGrA4YKJih+YY8ADzpaNklVdwA2VACNuTFbA+3eeaacAUMBMGSqa3aRGwPfv6uqIeDvAa1c1gC9iREBzGPgEExNSQFXI/152Sj9AYqdAK04NHUDys8cCnGkbQJqsre1ovBtAdGqTqx0bHkCxnUqq2HAoQIEcPOYPKEpAsZPCv7amR0BraQHpgYMnQBJLKuJSgwVAF6ZfQaLnA0CC0uof810DQC5B2n9cpfs/up5FTEXg9z8E1hLofWb9P6vrmAVTkP0/UrvQHy50+z8OTzcC8tj1P/ngvNnlB/I/mLHnGNK98D+y1BiLULjuP+OFbq3lsuw/AlJgXsE66D++/V4HipXhP6hm35+O290/ci0q7lIw3T/i2dSkAKveP0ZcIjxsUt4/mU3as5/k3D9xxzm12QPaPym5wi0nTtA/75ZPdJVjyj9tq9kLjILaP+yG+mWIm+M/xYsKciGj6z/OOCdG3SPyP1UJnQItavU/ZpoeCNiO9z/u4X7p2m74P1h6+kYPbPg/HOGc3QM7+D+V8NvMfO33P7RkY9PCfPc/ZlGN3LDk9j+IESbzbTD2P421hQi0e/U/l5HTvg2u9D99hGbCa9rzP/ganO4X/PI/bjkYY8Ar8j9nnvtyr37xP1omWOi3CvE/1amT8Bvv8D/pbwp3o0nxP+0M15OOxPE/gQg88xyQ8T/73iO+usrvP6iKJQWPgOo/bj2FCxlR5T9xh4HDz+zgPyZF4I3iQ9U/\",\"dtype\":\"float64\",\"shape\":[75]},\"y\":{\"__ndarray__\":\"GhExyth1ND/Sv8nbtpRIP2vylNV0PVE/aTum7souWD/At0SJ8fVgPw3Iuahxymc/MSNhhJWvcD/bTfBN02d3P2zb5nxnaoA/CD5h5MAGhz8NmeH1TyaQP+zrCsc9p5Y/LbKd76fGnz/bLW5ISEmmPww9YvTcQq8/JV2OstnstT8Er5Y7M8G+P0c+r3jqkcU/5h99k6ZBzj88bCIzFzjVP4enV8oyxN0//yH99nXg5D8qOpLLf0jtP5kqGJXUifQ/c9cS8kHP/D+/DpwzojQEQIEmwoanVwxA4lgXt9HgE0BSSZ2AJuIbQAMJih9jjiNA5q4l5INuK0AwTKYKRj0zQNv5fmq8/DpAaCJseHrtQkB/+zpwzoxKQM3MzMzMeFJAZmZmZmZqWEAAAAAAAFxeQM3MzMzMJmJAmpmZmZkfZUBmZmZmZhhoQDMzMzMzEWtAAAAAAAAKbkBmZmZmZoFwQM3MzMzM/XFAMzMzMzN6c0CamZmZmfZ0QAAAAAAAc3ZAZmZmZmbvd0DNzMzMzGt5QDMzMzMz6HpAmpmZmZlkfEAAAAAAAOF9QGZmZmZmXX9AZmZmZuZsgECamZmZGSuBQM3MzMxM6YFAAAAAAICngkAzMzMzs2WDQGZmZmbmI4RAmpmZmRnihEDNzMzMTKCFQAAAAACAXoZAMzMzM7Mch0BmZmZm5tqHQJqZmZkZmYhAzczMzExXiUAAAAAAgBWKQDMzMzOz04pAZmZmZuaRi0CamZmZGVCMQM3MzMxMDo1AAAAAAIDMjUAzMzMzs4qOQGZmZmbmSI9A\",\"dtype\":\"float64\",\"shape\":[75]}},\"selected\":{\"id\":\"ddb7eb3e-0025-4c39-b187-8514cd8db155\",\"type\":\"Selection\"},\"selection_policy\":{\"id\":\"99843d84-b7a6-4cbd-802d-88f54505a84f\",\"type\":\"UnionRenderers\"}},\"id\":\"d13666c1-91de-4251-bf2a-2c77d9fe25f7\",\"type\":\"ColumnDataSource\"},{\"attributes\":{\"active_drag\":\"auto\",\"active_inspect\":\"auto\",\"active_scroll\":\"auto\",\"active_tap\":\"auto\",\"tools\":[{\"id\":\"246b3c62-e58a-4520-888d-eee1c565b91a\",\"type\":\"PanTool\"},{\"id\":\"e258e1dd-3742-4ff3-8fb8-1657157b7382\",\"type\":\"WheelZoomTool\"},{\"id\":\"33403a03-30fe-49e8-a958-4579a7b8cd77\",\"type\":\"BoxZoomTool\"},{\"id\":\"fffde8a0-08a4-467d-8761-23f7ac303622\",\"type\":\"SaveTool\"},{\"id\":\"ff159e35-b76e-4ff2-b5f8-86ece57cfe32\",\"type\":\"ResetTool\"},{\"id\":\"516d3989-46d6-4f3f-b552-df555a54dafa\",\"type\":\"HelpTool\"}]},\"id\":\"afc5f6ca-ee02-40fc-96a0-1febd11345b7\",\"type\":\"Toolbar\"},{\"attributes\":{\"axis_label\":\"cooling rate [K/day]\",\"formatter\":{\"id\":\"00a8c625-4c7a-4a9a-9011-b3243ddd1098\",\"type\":\"BasicTickFormatter\"},\"plot\":{\"id\":\"e5fdf0b0-e3de-4fd5-829d-c69141d5d776\",\"subtype\":\"Figure\",\"type\":\"Plot\"},\"ticker\":{\"id\":\"87e5dc9b-263c-4ee6-991e-bc67904a8b98\",\"type\":\"BasicTicker\"}},\"id\":\"7f2551d5-0a07-4bc4-8a1c-ef1ecb4f5db9\",\"type\":\"LinearAxis\"},{\"attributes\":{\"callback\":null,\"end\":60.03395755468864,\"start\":-81.67831689827263},\"id\":\"9eeafc76-90e3-4307-9ad8-9a3682bc9a13\",\"type\":\"Range1d\"},{\"attributes\":{\"above\":[{\"id\":\"6c5a44bc-7265-4d91-83a2-c8c37bf51f6c\",\"type\":\"Legend\"}],\"below\":[{\"id\":\"7b264463-0e47-4cb2-b32c-b6669b35242c\",\"type\":\"LinearAxis\"}],\"left\":[{\"id\":\"c9cab61e-74bc-4624-8396-84d8cc136086\",\"type\":\"LogAxis\"}],\"plot_width\":300,\"renderers\":[{\"id\":\"7b264463-0e47-4cb2-b32c-b6669b35242c\",\"type\":\"LinearAxis\"},{\"id\":\"1f076d6f-802e-471f-830f-738107af2437\",\"type\":\"Grid\"},{\"id\":\"c9cab61e-74bc-4624-8396-84d8cc136086\",\"type\":\"LogAxis\"},{\"id\":\"0c88a060-9cca-46ac-9a67-c69f13bfc660\",\"type\":\"Grid\"},{\"id\":\"e21a0488-9e80-4c33-8115-f8560e2f055a\",\"type\":\"BoxAnnotation\"},{\"id\":\"31be8817-392f-4b8b-8118-07c45d06581f\",\"type\":\"GlyphRenderer\"},{\"id\":\"5f04008c-472f-481e-9f3d-1bdfb9930d74\",\"type\":\"GlyphRenderer\"},{\"id\":\"8982e35d-0ec9-42ca-a3bc-903e5ae98afa\",\"type\":\"GlyphRenderer\"},{\"id\":\"6c5a44bc-7265-4d91-83a2-c8c37bf51f6c\",\"type\":\"Legend\"}],\"title\":{\"id\":\"f4fb74cd-4ef0-41cf-bdb9-378bf5daf38a\",\"type\":\"Title\"},\"toolbar\":{\"id\":\"f7c2afd0-9473-44c4-9996-50cf2e4373d5\",\"type\":\"Toolbar\"},\"toolbar_location\":null,\"x_range\":{\"id\":\"b156c402-b7d4-4be4-80d0-110154a0392e\",\"type\":\"Range1d\"},\"x_scale\":{\"id\":\"f979c7d9-1c60-4f2f-b194-9c76fbd6af17\",\"type\":\"LinearScale\"},\"y_range\":{\"id\":\"8ffc3de2-e864-401a-813c-199905426dca\",\"type\":\"Range1d\"},\"y_scale\":{\"id\":\"281c8d57-025f-45d4-9bf3-6815c61c025d\",\"type\":\"LogScale\"}},\"id\":\"e9c86d34-fc5b-493d-935d-5601bdd2983c\",\"subtype\":\"Figure\",\"type\":\"Plot\"},{\"attributes\":{\"items\":[{\"id\":\"c2b972b3-f64d-4d12-86a1-f0169872a58b\",\"type\":\"LegendItem\"},{\"id\":\"4936c4d0-c4e6-4439-a619-fa779bd013f9\",\"type\":\"LegendItem\"}],\"label_text_font_size\":{\"value\":\"8pt\"},\"location\":\"top_center\",\"orientation\":\"horizontal\",\"plot\":{\"id\":\"e9c86d34-fc5b-493d-935d-5601bdd2983c\",\"subtype\":\"Figure\",\"type\":\"Plot\"}},\"id\":\"6c5a44bc-7265-4d91-83a2-c8c37bf51f6c\",\"type\":\"Legend\"},{\"attributes\":{\"callback\":null,\"data\":{\"x\":{\"__ndarray__\":\"rdQuh64IgMB3nrXQXH2ywFZxscjTKYPAUtI3PKW/ecAdqUTK/cJzwMy4dt9iIm3A7JZvZxw4ZsB11pb8yglhwNM7WRjDp1rAif2iqX4SVMDXzY9fBFpOwGvBPGJRHEXAB0IyOwZuOkC5MlT1glJNQAxLzYbB4TJA+IvBykLlD8Dn06J2KiANwKlxddHbIwnAH58aXAa0A8Csr+hAJBL/P4gH5d3Hi0RAytZgkBFFQkBU2CsIxoQKQMC0p+EtEA7AzPjevh2+BMCd0KVpGDb5v5FFEK50gPW/k+uTTSCI7r/TVfsd5pDUvxZYhloP+rW/rXfzNDBKrj/m865nAGKkP7KJLehWemq/qqtW+jcUnr/IH59T6WhUP1/dEa+IALY/mPGX0yP+sT8UDNYKq6mGv0m3KPjWg7O/1pHuQXkFtr9cgC6UOqayvzTj+wBxtKy/rcLaSIeTpb9IM80efCigv6cgc7and62/SKfP2UAKsr8W5eGiNY2cv8Ax2QfmbIO/ZPKiiHZsnb+o87+qwpKrvxbinIvDIqu/5jsDEodho7/MCRFVwr2jv7Sd5j1zJ6u/oZYpZEjbqr/BaRQdCJOlv7wbVbsa6J+/rFjTS/xwmL+B2z0Tdl6Uv2SJTtoJK4y/9AIEHhllib8byIj/zASJv6jqiXIWa4+//r98Uqdskr8Uu6rW+7KSv7CfK552EI+/GrG6eHAVgL9i0YIuYpp4P5begpXY75Q/5ASDMUNfnz+o/vEmC9SeP6SfPWFJNZc/4rGgVu91jj9Uq3Yopu2IP+LiTCEFx3C/\",\"dtype\":\"float64\",\"shape\":[75]},\"y\":{\"__ndarray__\":\"GhExyth1ND/Sv8nbtpRIP2vylNV0PVE/aTum7souWD/At0SJ8fVgPw3Iuahxymc/MSNhhJWvcD/bTfBN02d3P2zb5nxnaoA/CD5h5MAGhz8NmeH1TyaQP+zrCsc9p5Y/LbKd76fGnz/bLW5ISEmmPww9YvTcQq8/JV2OstnstT8Er5Y7M8G+P0c+r3jqkcU/5h99k6ZBzj88bCIzFzjVP4enV8oyxN0//yH99nXg5D8qOpLLf0jtP5kqGJXUifQ/c9cS8kHP/D+/DpwzojQEQIEmwoanVwxA4lgXt9HgE0BSSZ2AJuIbQAMJih9jjiNA5q4l5INuK0AwTKYKRj0zQNv5fmq8/DpAaCJseHrtQkB/+zpwzoxKQM3MzMzMeFJAZmZmZmZqWEAAAAAAAFxeQM3MzMzMJmJAmpmZmZkfZUBmZmZmZhhoQDMzMzMzEWtAAAAAAAAKbkBmZmZmZoFwQM3MzMzM/XFAMzMzMzN6c0CamZmZmfZ0QAAAAAAAc3ZAZmZmZmbvd0DNzMzMzGt5QDMzMzMz6HpAmpmZmZlkfEAAAAAAAOF9QGZmZmZmXX9AZmZmZuZsgECamZmZGSuBQM3MzMxM6YFAAAAAAICngkAzMzMzs2WDQGZmZmbmI4RAmpmZmRnihEDNzMzMTKCFQAAAAACAXoZAMzMzM7Mch0BmZmZm5tqHQJqZmZkZmYhAzczMzExXiUAAAAAAgBWKQDMzMzOz04pAZmZmZuaRi0CamZmZGVCMQM3MzMxMDo1AAAAAAIDMjUAzMzMzs4qOQGZmZmbmSI9A\",\"dtype\":\"float64\",\"shape\":[75]}},\"selected\":{\"id\":\"d07829e7-8670-4d3b-bdac-f7f07391a19b\",\"type\":\"Selection\"},\"selection_policy\":{\"id\":\"15b51c9d-8647-4810-bda7-4c3f15df5d70\",\"type\":\"UnionRenderers\"}},\"id\":\"094f7ce2-f8e0-4e17-938f-120a74929801\",\"type\":\"ColumnDataSource\"},{\"attributes\":{\"source\":{\"id\":\"c42ae6de-9e9e-4ba1-bd20-72a6e6581e1a\",\"type\":\"ColumnDataSource\"}},\"id\":\"716d918e-4147-4550-999d-17f1199810c5\",\"type\":\"CDSView\"},{\"attributes\":{\"label\":{\"value\":\"CRD\"},\"renderers\":[{\"id\":\"5f04008c-472f-481e-9f3d-1bdfb9930d74\",\"type\":\"GlyphRenderer\"},{\"id\":\"8982e35d-0ec9-42ca-a3bc-903e5ae98afa\",\"type\":\"GlyphRenderer\"}]},\"id\":\"4936c4d0-c4e6-4439-a619-fa779bd013f9\",\"type\":\"LegendItem\"},{\"attributes\":{\"plot\":{\"id\":\"e5fdf0b0-e3de-4fd5-829d-c69141d5d776\",\"subtype\":\"Figure\",\"type\":\"Plot\"},\"ticker\":{\"id\":\"87e5dc9b-263c-4ee6-991e-bc67904a8b98\",\"type\":\"BasicTicker\"}},\"id\":\"0bdadf72-4e3c-447b-8ec6-27d6b68c6890\",\"type\":\"Grid\"},{\"attributes\":{\"data_source\":{\"id\":\"f64dfe11-d6f2-498b-86de-a937d5877273\",\"type\":\"ColumnDataSource\"},\"glyph\":{\"id\":\"e28f9cd6-ca25-40b7-8335-d4ec2d45aba6\",\"type\":\"Circle\"},\"hover_glyph\":null,\"muted_glyph\":null,\"nonselection_glyph\":{\"id\":\"6cfd403f-0e8e-4886-86ca-04a510f0355c\",\"type\":\"Circle\"},\"selection_glyph\":null,\"view\":{\"id\":\"cbbfd485-a57b-4ad3-9cf5-e05c8e66c365\",\"type\":\"CDSView\"}},\"id\":\"5f04008c-472f-481e-9f3d-1bdfb9930d74\",\"type\":\"GlyphRenderer\"},{\"attributes\":{\"above\":[{\"id\":\"db817992-e75b-4bb4-bd8e-3c272e40df02\",\"type\":\"Legend\"}],\"below\":[{\"id\":\"7f2551d5-0a07-4bc4-8a1c-ef1ecb4f5db9\",\"type\":\"LinearAxis\"}],\"left\":[{\"id\":\"ee79f783-139c-4523-9762-ecef4f643061\",\"type\":\"LogAxis\"}],\"plot_width\":300,\"renderers\":[{\"id\":\"7f2551d5-0a07-4bc4-8a1c-ef1ecb4f5db9\",\"type\":\"LinearAxis\"},{\"id\":\"0bdadf72-4e3c-447b-8ec6-27d6b68c6890\",\"type\":\"Grid\"},{\"id\":\"ee79f783-139c-4523-9762-ecef4f643061\",\"type\":\"LogAxis\"},{\"id\":\"9fcd6c82-f935-47b2-b841-9b7d63ac75e1\",\"type\":\"Grid\"},{\"id\":\"d0fc0926-ecc9-4197-967b-4a2ace8a0a59\",\"type\":\"BoxAnnotation\"},{\"id\":\"a56d7d6e-c4af-4dd2-975d-f6e27e269e82\",\"type\":\"GlyphRenderer\"},{\"id\":\"b2bac8f9-b632-45f4-bbc8-b8a94cb36388\",\"type\":\"GlyphRenderer\"},{\"id\":\"db817992-e75b-4bb4-bd8e-3c272e40df02\",\"type\":\"Legend\"}],\"title\":{\"id\":\"98bbbdb7-0210-4f04-ba98-c200d3f423dc\",\"type\":\"Title\"},\"toolbar\":{\"id\":\"4f95a1c4-4442-4775-8af1-f8d9d710e5c4\",\"type\":\"Toolbar\"},\"toolbar_location\":null,\"x_range\":{\"id\":\"9eeafc76-90e3-4307-9ad8-9a3682bc9a13\",\"type\":\"Range1d\"},\"x_scale\":{\"id\":\"208fc0d0-ef7d-4507-baab-1cef4500ae89\",\"type\":\"LinearScale\"},\"y_range\":{\"id\":\"f85c9dff-dbe1-4f37-865d-4d9f012a922c\",\"type\":\"Range1d\"},\"y_scale\":{\"id\":\"3e92feca-b3dc-4622-bab6-019e81c6c8a1\",\"type\":\"LogScale\"}},\"id\":\"e5fdf0b0-e3de-4fd5-829d-c69141d5d776\",\"subtype\":\"Figure\",\"type\":\"Plot\"},{\"attributes\":{\"callback\":null,\"end\":0.01,\"start\":1020},\"id\":\"12f0faeb-fbae-4a9a-a67d-6d996af7e39c\",\"type\":\"Range1d\"},{\"attributes\":{\"source\":{\"id\":\"f64dfe11-d6f2-498b-86de-a937d5877273\",\"type\":\"ColumnDataSource\"}},\"id\":\"cbbfd485-a57b-4ad3-9cf5-e05c8e66c365\",\"type\":\"CDSView\"},{\"attributes\":{\"callback\":null,\"end\":0.01,\"start\":1020},\"id\":\"f85c9dff-dbe1-4f37-865d-4d9f012a922c\",\"type\":\"Range1d\"},{\"attributes\":{\"label\":{\"value\":\"CRD\"},\"renderers\":[{\"id\":\"e5db7072-a0f6-4540-b935-b4be3504d848\",\"type\":\"GlyphRenderer\"},{\"id\":\"36f4a5ea-2674-4e5b-9703-6530c3359c73\",\"type\":\"GlyphRenderer\"}]},\"id\":\"6e4775f6-8a31-4bd2-b1e1-5d6e8c58c788\",\"type\":\"LegendItem\"},{\"attributes\":{},\"id\":\"516d3989-46d6-4f3f-b552-df555a54dafa\",\"type\":\"HelpTool\"},{\"attributes\":{},\"id\":\"ff159e35-b76e-4ff2-b5f8-86ece57cfe32\",\"type\":\"ResetTool\"},{\"attributes\":{},\"id\":\"246b3c62-e58a-4520-888d-eee1c565b91a\",\"type\":\"PanTool\"}],\"root_ids\":[\"f19778f6-ee51-4991-921e-2d1a483f2d76\"]},\"title\":\"Bokeh Application\",\"version\":\"0.12.16\"}};\n",
       "  var render_items = [{\"docid\":\"88e039df-e146-4d8d-8d1e-f86f0a6dda70\",\"elementid\":\"e2d1d27a-5882-4c14-b16d-9d2e18e606ef\",\"modelid\":\"f19778f6-ee51-4991-921e-2d1a483f2d76\"}];\n",
       "  root.Bokeh.embed.embed_items_notebook(docs_json, render_items);\n",
       "\n",
       "  }\n",
       "  if (root.Bokeh !== undefined) {\n",
       "    embed_document(root);\n",
       "  } else {\n",
       "    var attempts = 0;\n",
       "    var timer = setInterval(function(root) {\n",
       "      if (root.Bokeh !== undefined) {\n",
       "        embed_document(root);\n",
       "        clearInterval(timer);\n",
       "      }\n",
       "      attempts++;\n",
       "      if (attempts > 100) {\n",
       "        console.log(\"Bokeh: ERROR: Unable to run BokehJS code because BokehJS library is missing\")\n",
       "        clearInterval(timer);\n",
       "      }\n",
       "    }, 10, root)\n",
       "  }\n",
       "})(window);"
      ],
      "application/vnd.bokehjs_exec.v0+json": ""
     },
     "metadata": {
      "application/vnd.bokehjs_exec.v0+json": {
       "id": "f19778f6-ee51-4991-921e-2d1a483f2d76"
      }
     },
     "output_type": "display_data"
    },
    {
     "data": {
      "text/markdown": [
       "*FIGURE.* Cooling rates & difference."
      ],
      "text/plain": [
       "<IPython.core.display.Markdown object>"
      ]
     },
     "metadata": {},
     "output_type": "display_data"
    },
    {
     "data": {
      "text/html": [
       "<a id=\"Fluxes._saw.\"></a>"
      ],
      "text/plain": [
       "<IPython.core.display.HTML object>"
      ]
     },
     "metadata": {},
     "output_type": "display_data"
    },
    {
     "data": {
      "text/markdown": [
       "# Fluxes. saw."
      ],
      "text/plain": [
       "<IPython.core.display.Markdown object>"
      ]
     },
     "metadata": {},
     "output_type": "display_data"
    },
    {
     "data": {
      "text/html": [
       "\n",
       "<div class=\"bk-root\">\n",
       "    <div class=\"bk-plotdiv\" id=\"9359e035-df41-4ba1-8a85-fa2ab56232fe\"></div>\n",
       "</div>"
      ]
     },
     "metadata": {},
     "output_type": "display_data"
    },
    {
     "data": {
      "application/javascript": [
       "(function(root) {\n",
       "  function embed_document(root) {\n",
       "    \n",
       "  var docs_json = {\"71aee0ba-3966-4f32-802d-89358a511784\":{\"roots\":{\"references\":[{\"attributes\":{},\"id\":\"1ffb9aee-c5d9-4323-a3f1-ec6ca29b2154\",\"type\":\"UnionRenderers\"},{\"attributes\":{\"callback\":null,\"data\":{\"band\":[\"1\",\"2\",\"3\",\"4\",\"5\",\"6\",\"7\",\"8\",\"9\",\"10\",\"11\"],\"flux\":{\"__ndarray__\":\"gOIKWg6Vxz8AZUNIJ1zKP8BwLN5+r9w/QMdlApwjxj+ArqKa7WW4vwBJ8fEJ2bU/gB6GVidnzD8YI9W04XniPwDBKhcq/4o/gEM6lz1kpb+AJgqhQRKPPw==\",\"dtype\":\"float64\",\"shape\":[11]}},\"selected\":{\"id\":\"b9586fdc-59a1-4940-832f-0626d0ee76ef\",\"type\":\"Selection\"},\"selection_policy\":{\"id\":\"1ffb9aee-c5d9-4323-a3f1-ec6ca29b2154\",\"type\":\"UnionRenderers\"}},\"id\":\"d3043810-98b6-4aeb-a5a7-88dd144e7c87\",\"type\":\"ColumnDataSource\"},{\"attributes\":{},\"id\":\"084e253e-a4e2-43cb-b300-5bba8857e0b7\",\"type\":\"CategoricalScale\"},{\"attributes\":{},\"id\":\"99cf804b-c6c7-49d7-b690-63ea492fa473\",\"type\":\"BasicTickFormatter\"},{\"attributes\":{},\"id\":\"56834196-2bee-4d33-ad65-17d96cc7c453\",\"type\":\"HelpTool\"},{\"attributes\":{\"source\":{\"id\":\"d3043810-98b6-4aeb-a5a7-88dd144e7c87\",\"type\":\"ColumnDataSource\"}},\"id\":\"9a2ba755-4fda-4b24-8f4c-48b8b3604b5c\",\"type\":\"CDSView\"},{\"attributes\":{},\"id\":\"825e9597-c8b9-4c45-b447-919cd533b441\",\"type\":\"ResetTool\"},{\"attributes\":{\"plot\":{\"id\":\"03aff8ff-ea6e-4a93-8c20-14cec755f1ba\",\"subtype\":\"Figure\",\"type\":\"Plot\"},\"ticker\":{\"id\":\"bad34dad-cb31-4528-9847-a0e824b02075\",\"type\":\"CategoricalTicker\"}},\"id\":\"ea087104-7579-4e81-8b40-73aa4edea55e\",\"type\":\"Grid\"},{\"attributes\":{},\"id\":\"6663e314-6a01-484f-9bfb-db62ae6155e8\",\"type\":\"SaveTool\"},{\"attributes\":{\"axis_label\":\"flux (W m-2)\",\"formatter\":{\"id\":\"75dd9fa1-ebfc-4eaf-a86e-6cc4bc346702\",\"type\":\"BasicTickFormatter\"},\"plot\":{\"id\":\"03aff8ff-ea6e-4a93-8c20-14cec755f1ba\",\"subtype\":\"Figure\",\"type\":\"Plot\"},\"ticker\":{\"id\":\"b97fabfa-13ab-4996-ab64-1fb5b7aa41d9\",\"type\":\"BasicTicker\"}},\"id\":\"f6648636-ce1a-4a98-a628-baa82e4e3340\",\"type\":\"LinearAxis\"},{\"attributes\":{},\"id\":\"1f81c1b4-59f3-4dff-a740-08e33bc01a73\",\"type\":\"LinearScale\"},{\"attributes\":{\"bottom_units\":\"screen\",\"fill_alpha\":{\"value\":0.5},\"fill_color\":{\"value\":\"lightgrey\"},\"left_units\":\"screen\",\"level\":\"overlay\",\"line_alpha\":{\"value\":1.0},\"line_color\":{\"value\":\"black\"},\"line_dash\":[4,4],\"line_width\":{\"value\":2},\"plot\":null,\"render_mode\":\"css\",\"right_units\":\"screen\",\"top_units\":\"screen\"},\"id\":\"aabc6cf4-b651-49a4-ad86-f0b933b9e7f9\",\"type\":\"BoxAnnotation\"},{\"attributes\":{},\"id\":\"ba087511-3160-4631-ab7d-acc3c2d4576c\",\"type\":\"ResetTool\"},{\"attributes\":{\"below\":[{\"id\":\"27d596a3-6f56-4342-a802-2fa0d561e12f\",\"type\":\"CategoricalAxis\"}],\"left\":[{\"id\":\"38224c75-73b9-4f31-823b-36cff5c4673a\",\"type\":\"LinearAxis\"}],\"plot_height\":300,\"plot_width\":300,\"renderers\":[{\"id\":\"27d596a3-6f56-4342-a802-2fa0d561e12f\",\"type\":\"CategoricalAxis\"},{\"id\":\"932e92c5-4776-48b8-b990-a3c57f841050\",\"type\":\"Grid\"},{\"id\":\"38224c75-73b9-4f31-823b-36cff5c4673a\",\"type\":\"LinearAxis\"},{\"id\":\"690215f0-7064-4441-959b-ed28d01ad338\",\"type\":\"Grid\"},{\"id\":\"77290b25-3e73-48a8-8f90-bef35b99ae58\",\"type\":\"BoxAnnotation\"},{\"id\":\"912fea11-4bef-4469-b586-d50592faa6fc\",\"type\":\"GlyphRenderer\"}],\"title\":{\"id\":\"ac7844f1-ba5c-4d98-af1d-86870944fede\",\"type\":\"Title\"},\"toolbar\":{\"id\":\"093130f1-4579-4ef9-b578-2c1dab3e825f\",\"type\":\"Toolbar\"},\"toolbar_location\":null,\"x_range\":{\"id\":\"beb63a65-4de3-4e04-b667-d0029df53c33\",\"type\":\"FactorRange\"},\"x_scale\":{\"id\":\"46292e23-dfd6-4407-a26a-f38a259722fd\",\"type\":\"CategoricalScale\"},\"y_range\":{\"id\":\"71298b74-db71-4614-a6a4-07be0aaeaec8\",\"type\":\"DataRange1d\"},\"y_scale\":{\"id\":\"9a52c4df-5f7a-4e11-8c04-7d522c9b83a1\",\"type\":\"LinearScale\"}},\"id\":\"4f91624b-86c4-418a-a288-6d75ffae0a57\",\"subtype\":\"Figure\",\"type\":\"Plot\"},{\"attributes\":{\"dimension\":1,\"plot\":{\"id\":\"03aff8ff-ea6e-4a93-8c20-14cec755f1ba\",\"subtype\":\"Figure\",\"type\":\"Plot\"},\"ticker\":{\"id\":\"b97fabfa-13ab-4996-ab64-1fb5b7aa41d9\",\"type\":\"BasicTicker\"}},\"id\":\"c6ddcde0-38f5-456e-b343-7d026a96f276\",\"type\":\"Grid\"},{\"attributes\":{},\"id\":\"cea713bc-d5cb-4cfb-9b8a-e14b3eb5d23d\",\"type\":\"SaveTool\"},{\"attributes\":{\"fill_color\":{\"value\":\"#1f77b4\"},\"line_color\":{\"value\":\"#1f77b4\"},\"top\":{\"field\":\"flux\"},\"width\":{\"value\":0.9},\"x\":{\"field\":\"band\"}},\"id\":\"b9e5913d-cd7f-46b2-b0e1-e49233938f2c\",\"type\":\"VBar\"},{\"attributes\":{\"data_source\":{\"id\":\"dcdbc1c5-826f-42fe-9cf8-ba6c85d2a0b7\",\"type\":\"ColumnDataSource\"},\"glyph\":{\"id\":\"3c844a91-3426-4b67-942f-8553f3e067f5\",\"type\":\"VBar\"},\"hover_glyph\":null,\"muted_glyph\":null,\"nonselection_glyph\":{\"id\":\"b32d98dd-225f-446d-8681-37056c7acec9\",\"type\":\"VBar\"},\"selection_glyph\":null,\"view\":{\"id\":\"fba47902-23c4-469a-9e41-fe2f3fb08e5e\",\"type\":\"CDSView\"}},\"id\":\"09674867-83fc-4597-8eb8-4b14fe53d23f\",\"type\":\"GlyphRenderer\"},{\"attributes\":{},\"id\":\"6c726c83-f477-48de-8f11-9a001f5c8982\",\"type\":\"UnionRenderers\"},{\"attributes\":{},\"id\":\"103b6dc1-b063-41fa-be35-51d9d89246fa\",\"type\":\"CategoricalTickFormatter\"},{\"attributes\":{},\"id\":\"34d8c353-be13-45a6-ae34-de10854e995e\",\"type\":\"BasicTicker\"},{\"attributes\":{},\"id\":\"cef7e6a0-53fd-4e96-99b6-f1b16e829f25\",\"type\":\"ResetTool\"},{\"attributes\":{},\"id\":\"2cb4e34b-31f8-48e2-85c7-c8a0d30cf2e5\",\"type\":\"WheelZoomTool\"},{\"attributes\":{},\"id\":\"15f716d7-51ae-449b-aac3-cd802ecc2723\",\"type\":\"PanTool\"},{\"attributes\":{\"bottom_units\":\"screen\",\"fill_alpha\":{\"value\":0.5},\"fill_color\":{\"value\":\"lightgrey\"},\"left_units\":\"screen\",\"level\":\"overlay\",\"line_alpha\":{\"value\":1.0},\"line_color\":{\"value\":\"black\"},\"line_dash\":[4,4],\"line_width\":{\"value\":2},\"plot\":null,\"render_mode\":\"css\",\"right_units\":\"screen\",\"top_units\":\"screen\"},\"id\":\"767cd1a1-2394-4ae9-ab8e-9b1b0d256c25\",\"type\":\"BoxAnnotation\"},{\"attributes\":{\"callback\":null,\"data\":{\"band\":[\"1\",\"2\",\"3\",\"4\",\"5\",\"6\",\"7\",\"8\",\"9\",\"10\",\"11\"],\"flux\":{\"__ndarray__\":\"AEDdJAaBZb8Asg5HV+nAvwA2IEJcueC/AAeY+Q5+tj/A8wOyMnXIPyAWSPVCprm/QFhl8EEZsD+a+d2NaBkjQADdJRad0ZM/AJDEy9O5oj8Ad2DnQ6NtPw==\",\"dtype\":\"float64\",\"shape\":[11]}},\"selected\":{\"id\":\"ae987389-b8c5-4324-a2d4-c98fbc4d62a7\",\"type\":\"Selection\"},\"selection_policy\":{\"id\":\"6c726c83-f477-48de-8f11-9a001f5c8982\",\"type\":\"UnionRenderers\"}},\"id\":\"dcdbc1c5-826f-42fe-9cf8-ba6c85d2a0b7\",\"type\":\"ColumnDataSource\"},{\"attributes\":{\"dimension\":1,\"plot\":{\"id\":\"597ef7a0-fd31-4d49-8654-6a378de2c8ad\",\"subtype\":\"Figure\",\"type\":\"Plot\"},\"ticker\":{\"id\":\"34d8c353-be13-45a6-ae34-de10854e995e\",\"type\":\"BasicTicker\"}},\"id\":\"bca94acb-9272-4dbd-928a-d28c87ce86e0\",\"type\":\"Grid\"},{\"attributes\":{},\"id\":\"2eb564a4-b363-4b35-8c3e-deed3d7f537d\",\"type\":\"UnionRenderers\"},{\"attributes\":{\"tools\":[{\"id\":\"702c06e2-387f-4d2a-8a28-8a5702728ce5\",\"type\":\"PanTool\"},{\"id\":\"f0f7fa9f-06dc-4a18-b3e8-8b977c106bd4\",\"type\":\"WheelZoomTool\"},{\"id\":\"c345c1b5-e314-4fc4-8049-5917d6255aca\",\"type\":\"BoxZoomTool\"},{\"id\":\"6663e314-6a01-484f-9bfb-db62ae6155e8\",\"type\":\"SaveTool\"},{\"id\":\"ba087511-3160-4631-ab7d-acc3c2d4576c\",\"type\":\"ResetTool\"},{\"id\":\"8f4334c5-2dea-41e3-a2d8-209e101fbe63\",\"type\":\"HelpTool\"},{\"id\":\"15f716d7-51ae-449b-aac3-cd802ecc2723\",\"type\":\"PanTool\"},{\"id\":\"57df4029-453b-403a-9b10-fb77607cca21\",\"type\":\"WheelZoomTool\"},{\"id\":\"bb588835-f7d2-49b8-9626-b9b07544f79b\",\"type\":\"BoxZoomTool\"},{\"id\":\"cea713bc-d5cb-4cfb-9b8a-e14b3eb5d23d\",\"type\":\"SaveTool\"},{\"id\":\"cef7e6a0-53fd-4e96-99b6-f1b16e829f25\",\"type\":\"ResetTool\"},{\"id\":\"56834196-2bee-4d33-ad65-17d96cc7c453\",\"type\":\"HelpTool\"},{\"id\":\"23d9f349-c70f-4755-b584-b206e3c0684e\",\"type\":\"PanTool\"},{\"id\":\"2cb4e34b-31f8-48e2-85c7-c8a0d30cf2e5\",\"type\":\"WheelZoomTool\"},{\"id\":\"01d3e695-abbb-4e07-81e1-f6c310508bcc\",\"type\":\"BoxZoomTool\"},{\"id\":\"e8f105bc-79df-4412-aa57-dc4dd73859b8\",\"type\":\"SaveTool\"},{\"id\":\"825e9597-c8b9-4c45-b447-919cd533b441\",\"type\":\"ResetTool\"},{\"id\":\"b0fdeb9c-6a02-4fb1-be69-76cb31b1fa86\",\"type\":\"HelpTool\"}]},\"id\":\"f10041ff-91be-4ddf-8898-de82d7778af8\",\"type\":\"ProxyToolbar\"},{\"attributes\":{},\"id\":\"ae987389-b8c5-4324-a2d4-c98fbc4d62a7\",\"type\":\"Selection\"},{\"attributes\":{},\"id\":\"43eac811-28c1-4540-982c-838e07d39214\",\"type\":\"Selection\"},{\"attributes\":{},\"id\":\"e8f105bc-79df-4412-aa57-dc4dd73859b8\",\"type\":\"SaveTool\"},{\"attributes\":{\"callback\":null,\"factors\":[\"1\",\"2\",\"3\",\"4\",\"5\",\"6\",\"7\",\"8\",\"9\",\"10\",\"11\"]},\"id\":\"7e04ddd5-4381-4524-b6ad-cd1063809be4\",\"type\":\"FactorRange\"},{\"attributes\":{\"active_drag\":\"auto\",\"active_inspect\":\"auto\",\"active_scroll\":\"auto\",\"active_tap\":\"auto\",\"tools\":[{\"id\":\"15f716d7-51ae-449b-aac3-cd802ecc2723\",\"type\":\"PanTool\"},{\"id\":\"57df4029-453b-403a-9b10-fb77607cca21\",\"type\":\"WheelZoomTool\"},{\"id\":\"bb588835-f7d2-49b8-9626-b9b07544f79b\",\"type\":\"BoxZoomTool\"},{\"id\":\"cea713bc-d5cb-4cfb-9b8a-e14b3eb5d23d\",\"type\":\"SaveTool\"},{\"id\":\"cef7e6a0-53fd-4e96-99b6-f1b16e829f25\",\"type\":\"ResetTool\"},{\"id\":\"56834196-2bee-4d33-ad65-17d96cc7c453\",\"type\":\"HelpTool\"}]},\"id\":\"dc8538a3-f53b-40b2-b322-cfb95c58b0db\",\"type\":\"Toolbar\"},{\"attributes\":{\"fill_alpha\":{\"value\":0.1},\"fill_color\":{\"value\":\"#1f77b4\"},\"line_alpha\":{\"value\":0.1},\"line_color\":{\"value\":\"#1f77b4\"},\"top\":{\"field\":\"flux\"},\"width\":{\"value\":0.9},\"x\":{\"field\":\"band\"}},\"id\":\"578daa4d-e995-44ad-aece-6f17b2db2b97\",\"type\":\"VBar\"},{\"attributes\":{\"axis_label\":\"spectral band\",\"formatter\":{\"id\":\"103b6dc1-b063-41fa-be35-51d9d89246fa\",\"type\":\"CategoricalTickFormatter\"},\"plot\":{\"id\":\"03aff8ff-ea6e-4a93-8c20-14cec755f1ba\",\"subtype\":\"Figure\",\"type\":\"Plot\"},\"ticker\":{\"id\":\"bad34dad-cb31-4528-9847-a0e824b02075\",\"type\":\"CategoricalTicker\"}},\"id\":\"7919caf4-0824-4969-9371-67aff0a0642f\",\"type\":\"CategoricalAxis\"},{\"attributes\":{},\"id\":\"23d9f349-c70f-4755-b584-b206e3c0684e\",\"type\":\"PanTool\"},{\"attributes\":{\"children\":[{\"id\":\"4f91624b-86c4-418a-a288-6d75ffae0a57\",\"subtype\":\"Figure\",\"type\":\"Plot\"},{\"id\":\"03aff8ff-ea6e-4a93-8c20-14cec755f1ba\",\"subtype\":\"Figure\",\"type\":\"Plot\"},{\"id\":\"597ef7a0-fd31-4d49-8654-6a378de2c8ad\",\"subtype\":\"Figure\",\"type\":\"Plot\"}]},\"id\":\"322897e0-d7e2-430b-ab3d-6039f5236b2e\",\"type\":\"Row\"},{\"attributes\":{},\"id\":\"bbf30c28-4da1-4853-814b-6046d94b9f60\",\"type\":\"BasicTickFormatter\"},{\"attributes\":{\"children\":[{\"id\":\"077ba67f-392c-4098-b3e2-7fc5174a8b3c\",\"type\":\"ToolbarBox\"},{\"id\":\"ebde1d68-fc07-4056-a891-bb371f1edc10\",\"type\":\"Column\"}]},\"id\":\"9d75b83d-216c-4809-ac95-7e609dd0e941\",\"type\":\"Column\"},{\"attributes\":{},\"id\":\"b9586fdc-59a1-4940-832f-0626d0ee76ef\",\"type\":\"Selection\"},{\"attributes\":{\"data_source\":{\"id\":\"d3043810-98b6-4aeb-a5a7-88dd144e7c87\",\"type\":\"ColumnDataSource\"},\"glyph\":{\"id\":\"b9e5913d-cd7f-46b2-b0e1-e49233938f2c\",\"type\":\"VBar\"},\"hover_glyph\":null,\"muted_glyph\":null,\"nonselection_glyph\":{\"id\":\"578daa4d-e995-44ad-aece-6f17b2db2b97\",\"type\":\"VBar\"},\"selection_glyph\":null,\"view\":{\"id\":\"9a2ba755-4fda-4b24-8f4c-48b8b3604b5c\",\"type\":\"CDSView\"}},\"id\":\"b31e0dc4-0b0e-4af2-9204-95a37f3e6e0d\",\"type\":\"GlyphRenderer\"},{\"attributes\":{\"fill_alpha\":{\"value\":0.1},\"fill_color\":{\"value\":\"#1f77b4\"},\"line_alpha\":{\"value\":0.1},\"line_color\":{\"value\":\"#1f77b4\"},\"top\":{\"field\":\"flux\"},\"width\":{\"value\":0.9},\"x\":{\"field\":\"band\"}},\"id\":\"b32d98dd-225f-446d-8681-37056c7acec9\",\"type\":\"VBar\"},{\"attributes\":{\"overlay\":{\"id\":\"77290b25-3e73-48a8-8f90-bef35b99ae58\",\"type\":\"BoxAnnotation\"}},\"id\":\"c345c1b5-e314-4fc4-8049-5917d6255aca\",\"type\":\"BoxZoomTool\"},{\"attributes\":{\"below\":[{\"id\":\"7919caf4-0824-4969-9371-67aff0a0642f\",\"type\":\"CategoricalAxis\"}],\"left\":[{\"id\":\"f6648636-ce1a-4a98-a628-baa82e4e3340\",\"type\":\"LinearAxis\"}],\"plot_height\":300,\"plot_width\":300,\"renderers\":[{\"id\":\"7919caf4-0824-4969-9371-67aff0a0642f\",\"type\":\"CategoricalAxis\"},{\"id\":\"ea087104-7579-4e81-8b40-73aa4edea55e\",\"type\":\"Grid\"},{\"id\":\"f6648636-ce1a-4a98-a628-baa82e4e3340\",\"type\":\"LinearAxis\"},{\"id\":\"c6ddcde0-38f5-456e-b343-7d026a96f276\",\"type\":\"Grid\"},{\"id\":\"aabc6cf4-b651-49a4-ad86-f0b933b9e7f9\",\"type\":\"BoxAnnotation\"},{\"id\":\"09674867-83fc-4597-8eb8-4b14fe53d23f\",\"type\":\"GlyphRenderer\"}],\"title\":{\"id\":\"e98c720a-1bcc-4006-a304-a15892f882c5\",\"type\":\"Title\"},\"toolbar\":{\"id\":\"dc8538a3-f53b-40b2-b322-cfb95c58b0db\",\"type\":\"Toolbar\"},\"toolbar_location\":null,\"x_range\":{\"id\":\"7e04ddd5-4381-4524-b6ad-cd1063809be4\",\"type\":\"FactorRange\"},\"x_scale\":{\"id\":\"084e253e-a4e2-43cb-b300-5bba8857e0b7\",\"type\":\"CategoricalScale\"},\"y_range\":{\"id\":\"1597fd1d-4049-4623-ac08-f19a8814ce59\",\"type\":\"DataRange1d\"},\"y_scale\":{\"id\":\"1f81c1b4-59f3-4dff-a740-08e33bc01a73\",\"type\":\"LinearScale\"}},\"id\":\"03aff8ff-ea6e-4a93-8c20-14cec755f1ba\",\"subtype\":\"Figure\",\"type\":\"Plot\"},{\"attributes\":{\"overlay\":{\"id\":\"767cd1a1-2394-4ae9-ab8e-9b1b0d256c25\",\"type\":\"BoxAnnotation\"}},\"id\":\"01d3e695-abbb-4e07-81e1-f6c310508bcc\",\"type\":\"BoxZoomTool\"},{\"attributes\":{},\"id\":\"a0ae0d66-3397-4629-88da-54ec1d27a377\",\"type\":\"CategoricalTickFormatter\"},{\"attributes\":{},\"id\":\"b0fdeb9c-6a02-4fb1-be69-76cb31b1fa86\",\"type\":\"HelpTool\"},{\"attributes\":{},\"id\":\"75dd9fa1-ebfc-4eaf-a86e-6cc4bc346702\",\"type\":\"BasicTickFormatter\"},{\"attributes\":{\"fill_color\":{\"value\":\"#1f77b4\"},\"line_color\":{\"value\":\"#1f77b4\"},\"top\":{\"field\":\"flux\"},\"width\":{\"value\":0.9},\"x\":{\"field\":\"band\"}},\"id\":\"3c844a91-3426-4b67-942f-8553f3e067f5\",\"type\":\"VBar\"},{\"attributes\":{\"children\":[{\"id\":\"322897e0-d7e2-430b-ab3d-6039f5236b2e\",\"type\":\"Row\"}]},\"id\":\"ebde1d68-fc07-4056-a891-bb371f1edc10\",\"type\":\"Column\"},{\"attributes\":{\"overlay\":{\"id\":\"aabc6cf4-b651-49a4-ad86-f0b933b9e7f9\",\"type\":\"BoxAnnotation\"}},\"id\":\"bb588835-f7d2-49b8-9626-b9b07544f79b\",\"type\":\"BoxZoomTool\"},{\"attributes\":{\"plot\":null,\"text\":\"SFC flux. CLIRAD (single-run) - CRD.\"},\"id\":\"e98c720a-1bcc-4006-a304-a15892f882c5\",\"type\":\"Title\"},{\"attributes\":{},\"id\":\"b97fabfa-13ab-4996-ab64-1fb5b7aa41d9\",\"type\":\"BasicTicker\"},{\"attributes\":{\"toolbar\":{\"id\":\"f10041ff-91be-4ddf-8898-de82d7778af8\",\"type\":\"ProxyToolbar\"},\"toolbar_location\":\"above\"},\"id\":\"077ba67f-392c-4098-b3e2-7fc5174a8b3c\",\"type\":\"ToolbarBox\"},{\"attributes\":{},\"id\":\"bad34dad-cb31-4528-9847-a0e824b02075\",\"type\":\"CategoricalTicker\"},{\"attributes\":{},\"id\":\"57df4029-453b-403a-9b10-fb77607cca21\",\"type\":\"WheelZoomTool\"},{\"attributes\":{\"callback\":null},\"id\":\"1597fd1d-4049-4623-ac08-f19a8814ce59\",\"type\":\"DataRange1d\"},{\"attributes\":{},\"id\":\"46292e23-dfd6-4407-a26a-f38a259722fd\",\"type\":\"CategoricalScale\"},{\"attributes\":{\"source\":{\"id\":\"4dbb4217-9bd7-4801-96a8-83db604a4199\",\"type\":\"ColumnDataSource\"}},\"id\":\"fa68755a-ce36-4678-b10e-002776e940a8\",\"type\":\"CDSView\"},{\"attributes\":{\"callback\":null,\"data\":{\"band\":[\"1\",\"2\",\"3\",\"4\",\"5\",\"6\",\"7\",\"8\",\"9\",\"10\",\"11\"],\"flux\":{\"__ndarray__\":\"gGLUtfY+xz8ABgWlaOWyPwDVO9wODbO/gApHkEqx0D8Ans4VpYS4PwDQ+uk/a46/IIOj5NU50j+vC/WqhLUeQIBE2safqKA/AGgLdJJSdb+AbxLeeT2TPw==\",\"dtype\":\"float64\",\"shape\":[11]}},\"selected\":{\"id\":\"43eac811-28c1-4540-982c-838e07d39214\",\"type\":\"Selection\"},\"selection_policy\":{\"id\":\"2eb564a4-b363-4b35-8c3e-deed3d7f537d\",\"type\":\"UnionRenderers\"}},\"id\":\"4dbb4217-9bd7-4801-96a8-83db604a4199\",\"type\":\"ColumnDataSource\"},{\"attributes\":{},\"id\":\"f0f7fa9f-06dc-4a18-b3e8-8b977c106bd4\",\"type\":\"WheelZoomTool\"},{\"attributes\":{},\"id\":\"0ca665d6-ff05-4f38-9dec-35fe810d8b9c\",\"type\":\"BasicTicker\"},{\"attributes\":{\"plot\":null,\"text\":\"Atmosphere heating. CLIRAD (single-run) - CRD.\"},\"id\":\"856ef5cf-b94d-4ddc-9171-44f0bb08ef60\",\"type\":\"Title\"},{\"attributes\":{},\"id\":\"ab3d55b3-a3a7-4cb2-abb1-1f4bf95633ac\",\"type\":\"LinearScale\"},{\"attributes\":{},\"id\":\"59d4dbae-ac1d-42b5-b6cb-15a58ad2e6b9\",\"type\":\"CategoricalTicker\"},{\"attributes\":{\"plot\":{\"id\":\"4f91624b-86c4-418a-a288-6d75ffae0a57\",\"subtype\":\"Figure\",\"type\":\"Plot\"},\"ticker\":{\"id\":\"59d4dbae-ac1d-42b5-b6cb-15a58ad2e6b9\",\"type\":\"CategoricalTicker\"}},\"id\":\"932e92c5-4776-48b8-b990-a3c57f841050\",\"type\":\"Grid\"},{\"attributes\":{\"axis_label\":\"spectral band\",\"formatter\":{\"id\":\"a0ae0d66-3397-4629-88da-54ec1d27a377\",\"type\":\"CategoricalTickFormatter\"},\"plot\":{\"id\":\"4f91624b-86c4-418a-a288-6d75ffae0a57\",\"subtype\":\"Figure\",\"type\":\"Plot\"},\"ticker\":{\"id\":\"59d4dbae-ac1d-42b5-b6cb-15a58ad2e6b9\",\"type\":\"CategoricalTicker\"}},\"id\":\"27d596a3-6f56-4342-a802-2fa0d561e12f\",\"type\":\"CategoricalAxis\"},{\"attributes\":{\"callback\":null},\"id\":\"a826ba30-36a2-48d1-91fa-886bfb668932\",\"type\":\"DataRange1d\"},{\"attributes\":{\"callback\":null},\"id\":\"71298b74-db71-4614-a6a4-07be0aaeaec8\",\"type\":\"DataRange1d\"},{\"attributes\":{\"below\":[{\"id\":\"af0e9a49-f896-4b32-a89c-b0bc5dbc7e93\",\"type\":\"CategoricalAxis\"}],\"left\":[{\"id\":\"84767bd4-eb7b-4f53-a171-77129fef9147\",\"type\":\"LinearAxis\"}],\"plot_height\":300,\"plot_width\":300,\"renderers\":[{\"id\":\"af0e9a49-f896-4b32-a89c-b0bc5dbc7e93\",\"type\":\"CategoricalAxis\"},{\"id\":\"b8523bec-b655-4a91-bebf-1417a97f0810\",\"type\":\"Grid\"},{\"id\":\"84767bd4-eb7b-4f53-a171-77129fef9147\",\"type\":\"LinearAxis\"},{\"id\":\"bca94acb-9272-4dbd-928a-d28c87ce86e0\",\"type\":\"Grid\"},{\"id\":\"767cd1a1-2394-4ae9-ab8e-9b1b0d256c25\",\"type\":\"BoxAnnotation\"},{\"id\":\"b31e0dc4-0b0e-4af2-9204-95a37f3e6e0d\",\"type\":\"GlyphRenderer\"}],\"title\":{\"id\":\"856ef5cf-b94d-4ddc-9171-44f0bb08ef60\",\"type\":\"Title\"},\"toolbar\":{\"id\":\"7420fc72-dcff-45b1-98af-f61ec484d5e3\",\"type\":\"Toolbar\"},\"toolbar_location\":null,\"x_range\":{\"id\":\"4bbe2067-7c5e-4302-8ea8-254aabe08822\",\"type\":\"FactorRange\"},\"x_scale\":{\"id\":\"6f238c25-9974-423e-b542-d1fb27a995d0\",\"type\":\"CategoricalScale\"},\"y_range\":{\"id\":\"a826ba30-36a2-48d1-91fa-886bfb668932\",\"type\":\"DataRange1d\"},\"y_scale\":{\"id\":\"ab3d55b3-a3a7-4cb2-abb1-1f4bf95633ac\",\"type\":\"LinearScale\"}},\"id\":\"597ef7a0-fd31-4d49-8654-6a378de2c8ad\",\"subtype\":\"Figure\",\"type\":\"Plot\"},{\"attributes\":{\"callback\":null,\"factors\":[\"1\",\"2\",\"3\",\"4\",\"5\",\"6\",\"7\",\"8\",\"9\",\"10\",\"11\"]},\"id\":\"beb63a65-4de3-4e04-b667-d0029df53c33\",\"type\":\"FactorRange\"},{\"attributes\":{\"active_drag\":\"auto\",\"active_inspect\":\"auto\",\"active_scroll\":\"auto\",\"active_tap\":\"auto\",\"tools\":[{\"id\":\"702c06e2-387f-4d2a-8a28-8a5702728ce5\",\"type\":\"PanTool\"},{\"id\":\"f0f7fa9f-06dc-4a18-b3e8-8b977c106bd4\",\"type\":\"WheelZoomTool\"},{\"id\":\"c345c1b5-e314-4fc4-8049-5917d6255aca\",\"type\":\"BoxZoomTool\"},{\"id\":\"6663e314-6a01-484f-9bfb-db62ae6155e8\",\"type\":\"SaveTool\"},{\"id\":\"ba087511-3160-4631-ab7d-acc3c2d4576c\",\"type\":\"ResetTool\"},{\"id\":\"8f4334c5-2dea-41e3-a2d8-209e101fbe63\",\"type\":\"HelpTool\"}]},\"id\":\"093130f1-4579-4ef9-b578-2c1dab3e825f\",\"type\":\"Toolbar\"},{\"attributes\":{\"source\":{\"id\":\"dcdbc1c5-826f-42fe-9cf8-ba6c85d2a0b7\",\"type\":\"ColumnDataSource\"}},\"id\":\"fba47902-23c4-469a-9e41-fe2f3fb08e5e\",\"type\":\"CDSView\"},{\"attributes\":{\"fill_alpha\":{\"value\":0.1},\"fill_color\":{\"value\":\"#1f77b4\"},\"line_alpha\":{\"value\":0.1},\"line_color\":{\"value\":\"#1f77b4\"},\"top\":{\"field\":\"flux\"},\"width\":{\"value\":0.9},\"x\":{\"field\":\"band\"}},\"id\":\"805ed533-0308-41a2-8010-67498e5b95a6\",\"type\":\"VBar\"},{\"attributes\":{},\"id\":\"9532cee0-1a8e-4153-8d63-24ab623a4e2f\",\"type\":\"CategoricalTickFormatter\"},{\"attributes\":{\"dimension\":1,\"plot\":{\"id\":\"4f91624b-86c4-418a-a288-6d75ffae0a57\",\"subtype\":\"Figure\",\"type\":\"Plot\"},\"ticker\":{\"id\":\"0ca665d6-ff05-4f38-9dec-35fe810d8b9c\",\"type\":\"BasicTicker\"}},\"id\":\"690215f0-7064-4441-959b-ed28d01ad338\",\"type\":\"Grid\"},{\"attributes\":{\"bottom_units\":\"screen\",\"fill_alpha\":{\"value\":0.5},\"fill_color\":{\"value\":\"lightgrey\"},\"left_units\":\"screen\",\"level\":\"overlay\",\"line_alpha\":{\"value\":1.0},\"line_color\":{\"value\":\"black\"},\"line_dash\":[4,4],\"line_width\":{\"value\":2},\"plot\":null,\"render_mode\":\"css\",\"right_units\":\"screen\",\"top_units\":\"screen\"},\"id\":\"77290b25-3e73-48a8-8f90-bef35b99ae58\",\"type\":\"BoxAnnotation\"},{\"attributes\":{\"callback\":null,\"factors\":[\"1\",\"2\",\"3\",\"4\",\"5\",\"6\",\"7\",\"8\",\"9\",\"10\",\"11\"]},\"id\":\"4bbe2067-7c5e-4302-8ea8-254aabe08822\",\"type\":\"FactorRange\"},{\"attributes\":{},\"id\":\"0d089589-93a0-404b-9837-631aca73dfaf\",\"type\":\"CategoricalTicker\"},{\"attributes\":{\"plot\":null,\"text\":\"TOA flux. CLIRAD (single-run) - CRD.\"},\"id\":\"ac7844f1-ba5c-4d98-af1d-86870944fede\",\"type\":\"Title\"},{\"attributes\":{},\"id\":\"9a52c4df-5f7a-4e11-8c04-7d522c9b83a1\",\"type\":\"LinearScale\"},{\"attributes\":{},\"id\":\"702c06e2-387f-4d2a-8a28-8a5702728ce5\",\"type\":\"PanTool\"},{\"attributes\":{\"axis_label\":\"flux (W m-2)\",\"formatter\":{\"id\":\"99cf804b-c6c7-49d7-b690-63ea492fa473\",\"type\":\"BasicTickFormatter\"},\"plot\":{\"id\":\"4f91624b-86c4-418a-a288-6d75ffae0a57\",\"subtype\":\"Figure\",\"type\":\"Plot\"},\"ticker\":{\"id\":\"0ca665d6-ff05-4f38-9dec-35fe810d8b9c\",\"type\":\"BasicTicker\"}},\"id\":\"38224c75-73b9-4f31-823b-36cff5c4673a\",\"type\":\"LinearAxis\"},{\"attributes\":{\"fill_color\":{\"value\":\"#1f77b4\"},\"line_color\":{\"value\":\"#1f77b4\"},\"top\":{\"field\":\"flux\"},\"width\":{\"value\":0.9},\"x\":{\"field\":\"band\"}},\"id\":\"129b2654-de80-4cd7-ad56-b1ff52967e2e\",\"type\":\"VBar\"},{\"attributes\":{\"active_drag\":\"auto\",\"active_inspect\":\"auto\",\"active_scroll\":\"auto\",\"active_tap\":\"auto\",\"tools\":[{\"id\":\"23d9f349-c70f-4755-b584-b206e3c0684e\",\"type\":\"PanTool\"},{\"id\":\"2cb4e34b-31f8-48e2-85c7-c8a0d30cf2e5\",\"type\":\"WheelZoomTool\"},{\"id\":\"01d3e695-abbb-4e07-81e1-f6c310508bcc\",\"type\":\"BoxZoomTool\"},{\"id\":\"e8f105bc-79df-4412-aa57-dc4dd73859b8\",\"type\":\"SaveTool\"},{\"id\":\"825e9597-c8b9-4c45-b447-919cd533b441\",\"type\":\"ResetTool\"},{\"id\":\"b0fdeb9c-6a02-4fb1-be69-76cb31b1fa86\",\"type\":\"HelpTool\"}]},\"id\":\"7420fc72-dcff-45b1-98af-f61ec484d5e3\",\"type\":\"Toolbar\"},{\"attributes\":{\"plot\":{\"id\":\"597ef7a0-fd31-4d49-8654-6a378de2c8ad\",\"subtype\":\"Figure\",\"type\":\"Plot\"},\"ticker\":{\"id\":\"0d089589-93a0-404b-9837-631aca73dfaf\",\"type\":\"CategoricalTicker\"}},\"id\":\"b8523bec-b655-4a91-bebf-1417a97f0810\",\"type\":\"Grid\"},{\"attributes\":{},\"id\":\"8f4334c5-2dea-41e3-a2d8-209e101fbe63\",\"type\":\"HelpTool\"},{\"attributes\":{},\"id\":\"6f238c25-9974-423e-b542-d1fb27a995d0\",\"type\":\"CategoricalScale\"},{\"attributes\":{\"axis_label\":\"spectral band\",\"formatter\":{\"id\":\"9532cee0-1a8e-4153-8d63-24ab623a4e2f\",\"type\":\"CategoricalTickFormatter\"},\"plot\":{\"id\":\"597ef7a0-fd31-4d49-8654-6a378de2c8ad\",\"subtype\":\"Figure\",\"type\":\"Plot\"},\"ticker\":{\"id\":\"0d089589-93a0-404b-9837-631aca73dfaf\",\"type\":\"CategoricalTicker\"}},\"id\":\"af0e9a49-f896-4b32-a89c-b0bc5dbc7e93\",\"type\":\"CategoricalAxis\"},{\"attributes\":{\"axis_label\":\"flux (W m-2)\",\"formatter\":{\"id\":\"bbf30c28-4da1-4853-814b-6046d94b9f60\",\"type\":\"BasicTickFormatter\"},\"plot\":{\"id\":\"597ef7a0-fd31-4d49-8654-6a378de2c8ad\",\"subtype\":\"Figure\",\"type\":\"Plot\"},\"ticker\":{\"id\":\"34d8c353-be13-45a6-ae34-de10854e995e\",\"type\":\"BasicTicker\"}},\"id\":\"84767bd4-eb7b-4f53-a171-77129fef9147\",\"type\":\"LinearAxis\"},{\"attributes\":{\"data_source\":{\"id\":\"4dbb4217-9bd7-4801-96a8-83db604a4199\",\"type\":\"ColumnDataSource\"},\"glyph\":{\"id\":\"129b2654-de80-4cd7-ad56-b1ff52967e2e\",\"type\":\"VBar\"},\"hover_glyph\":null,\"muted_glyph\":null,\"nonselection_glyph\":{\"id\":\"805ed533-0308-41a2-8010-67498e5b95a6\",\"type\":\"VBar\"},\"selection_glyph\":null,\"view\":{\"id\":\"fa68755a-ce36-4678-b10e-002776e940a8\",\"type\":\"CDSView\"}},\"id\":\"912fea11-4bef-4469-b586-d50592faa6fc\",\"type\":\"GlyphRenderer\"}],\"root_ids\":[\"9d75b83d-216c-4809-ac95-7e609dd0e941\"]},\"title\":\"Bokeh Application\",\"version\":\"0.12.16\"}};\n",
       "  var render_items = [{\"docid\":\"71aee0ba-3966-4f32-802d-89358a511784\",\"elementid\":\"9359e035-df41-4ba1-8a85-fa2ab56232fe\",\"modelid\":\"9d75b83d-216c-4809-ac95-7e609dd0e941\"}];\n",
       "  root.Bokeh.embed.embed_items_notebook(docs_json, render_items);\n",
       "\n",
       "  }\n",
       "  if (root.Bokeh !== undefined) {\n",
       "    embed_document(root);\n",
       "  } else {\n",
       "    var attempts = 0;\n",
       "    var timer = setInterval(function(root) {\n",
       "      if (root.Bokeh !== undefined) {\n",
       "        embed_document(root);\n",
       "        clearInterval(timer);\n",
       "      }\n",
       "      attempts++;\n",
       "      if (attempts > 100) {\n",
       "        console.log(\"Bokeh: ERROR: Unable to run BokehJS code because BokehJS library is missing\")\n",
       "        clearInterval(timer);\n",
       "      }\n",
       "    }, 10, root)\n",
       "  }\n",
       "})(window);"
      ],
      "application/vnd.bokehjs_exec.v0+json": ""
     },
     "metadata": {
      "application/vnd.bokehjs_exec.v0+json": {
       "id": "9d75b83d-216c-4809-ac95-7e609dd0e941"
      }
     },
     "output_type": "display_data"
    },
    {
     "data": {
      "text/markdown": [
       "*FIGURE.* Difference between CLIRAD and CRD in TOA, SFC and net atmosphere flux, in each spectral band."
      ],
      "text/plain": [
       "<IPython.core.display.Markdown object>"
      ]
     },
     "metadata": {},
     "output_type": "display_data"
    },
    {
     "data": {
      "text/html": [
       "<div>\n",
       "<style scoped>\n",
       "    .dataframe tbody tr th:only-of-type {\n",
       "        vertical-align: middle;\n",
       "    }\n",
       "\n",
       "    .dataframe tbody tr th {\n",
       "        vertical-align: top;\n",
       "    }\n",
       "\n",
       "    .dataframe thead th {\n",
       "        text-align: right;\n",
       "    }\n",
       "</style>\n",
       "<table border=\"1\" class=\"dataframe\">\n",
       "  <thead>\n",
       "    <tr style=\"text-align: right;\">\n",
       "      <th></th>\n",
       "      <th>OLR flux</th>\n",
       "      <th>SFC flux</th>\n",
       "      <th>ATM heating</th>\n",
       "    </tr>\n",
       "    <tr>\n",
       "      <th>Sum over bands</th>\n",
       "      <th></th>\n",
       "      <th></th>\n",
       "      <th></th>\n",
       "    </tr>\n",
       "  </thead>\n",
       "  <tbody>\n",
       "    <tr>\n",
       "      <th>CLIRAD (single-run) - CRD</th>\n",
       "      <td>8.53</td>\n",
       "      <td>9.19</td>\n",
       "      <td>1.79</td>\n",
       "    </tr>\n",
       "    <tr>\n",
       "      <th>CRD</th>\n",
       "      <td>-201.06</td>\n",
       "      <td>166.03</td>\n",
       "      <td>-119.67</td>\n",
       "    </tr>\n",
       "  </tbody>\n",
       "</table>\n",
       "</div>"
      ],
      "text/plain": [
       "                           OLR flux  SFC flux  ATM heating\n",
       "Sum over bands                                            \n",
       "CLIRAD (single-run) - CRD      8.53      9.19         1.79\n",
       "CRD                         -201.06    166.03      -119.67"
      ]
     },
     "metadata": {},
     "output_type": "display_data"
    },
    {
     "data": {
      "text/markdown": [
       "*TABLE.* Difference between CLIRAD and CRD in TOA, SFC and net atmosphere flux, over all spectral bands. CRD's TOA, SFC and net atmosphere flux, over all spectral bands."
      ],
      "text/plain": [
       "<IPython.core.display.Markdown object>"
      ]
     },
     "metadata": {},
     "output_type": "display_data"
    },
    {
     "data": {
      "text/html": [
       "<a id=\"Cooling_rates._trp.\"></a>"
      ],
      "text/plain": [
       "<IPython.core.display.HTML object>"
      ]
     },
     "metadata": {},
     "output_type": "display_data"
    },
    {
     "data": {
      "text/markdown": [
       "# Cooling rates. trp."
      ],
      "text/plain": [
       "<IPython.core.display.Markdown object>"
      ]
     },
     "metadata": {},
     "output_type": "display_data"
    },
    {
     "data": {
      "text/html": [
       "\n",
       "<div class=\"bk-root\">\n",
       "    <div class=\"bk-plotdiv\" id=\"9af151f0-772e-45dc-b1d8-527d542bdcb6\"></div>\n",
       "</div>"
      ]
     },
     "metadata": {},
     "output_type": "display_data"
    },
    {
     "data": {
      "application/javascript": [
       "(function(root) {\n",
       "  function embed_document(root) {\n",
       "    \n",
       "  var docs_json = {\"9b3c3a4e-e337-44c9-bcd1-9f9f54cdfd3d\":{\"roots\":{\"references\":[{\"attributes\":{},\"id\":\"9616c80c-d169-4790-bef2-18ebddf9ca8e\",\"type\":\"BasicTickFormatter\"},{\"attributes\":{\"above\":[{\"id\":\"f535d996-7c35-4e60-a610-989e8866a0bc\",\"type\":\"Legend\"}],\"below\":[{\"id\":\"f8f428c7-4845-46ee-9a29-7a30b03ca34c\",\"type\":\"LinearAxis\"}],\"left\":[{\"id\":\"0d81392f-8bb0-4376-b955-0407b45e45f9\",\"type\":\"LogAxis\"}],\"plot_width\":300,\"renderers\":[{\"id\":\"f8f428c7-4845-46ee-9a29-7a30b03ca34c\",\"type\":\"LinearAxis\"},{\"id\":\"1dfe2555-ce8b-4cdf-be1b-d6540933bd07\",\"type\":\"Grid\"},{\"id\":\"0d81392f-8bb0-4376-b955-0407b45e45f9\",\"type\":\"LogAxis\"},{\"id\":\"b3c144c8-dbdc-4d3e-98f5-64c0769fd0c1\",\"type\":\"Grid\"},{\"id\":\"7dd651a0-86b9-4e09-834b-91e596ed1717\",\"type\":\"BoxAnnotation\"},{\"id\":\"46dc1ebd-8738-4624-b261-04f1b61b1f68\",\"type\":\"GlyphRenderer\"},{\"id\":\"c39b625d-16da-4331-bf93-bfc8ffe3f246\",\"type\":\"GlyphRenderer\"},{\"id\":\"f535d996-7c35-4e60-a610-989e8866a0bc\",\"type\":\"Legend\"}],\"title\":{\"id\":\"c9f32541-b160-4a1b-a216-0ece83864776\",\"type\":\"Title\"},\"toolbar\":{\"id\":\"b1b09d52-9d8a-47b3-a12d-ec1e257006ff\",\"type\":\"Toolbar\"},\"toolbar_location\":null,\"x_range\":{\"id\":\"06e37dac-8982-4fe1-a058-a098e0c68a77\",\"type\":\"Range1d\"},\"x_scale\":{\"id\":\"b29e7aab-cb64-4621-93c5-e1d00b73c86c\",\"type\":\"LinearScale\"},\"y_range\":{\"id\":\"3eb424b5-2966-490a-9940-8106643fd03f\",\"type\":\"Range1d\"},\"y_scale\":{\"id\":\"50d28bc8-807a-441c-ae2f-bd888e67d563\",\"type\":\"LogScale\"}},\"id\":\"77c7c7fe-4119-4d03-8828-6c638988b0c9\",\"subtype\":\"Figure\",\"type\":\"Plot\"},{\"attributes\":{\"source\":{\"id\":\"1c08e2d4-3156-4de0-9005-3374ce1fa30b\",\"type\":\"ColumnDataSource\"}},\"id\":\"e354b5be-95b3-4513-a04c-9df00614f5b9\",\"type\":\"CDSView\"},{\"attributes\":{\"plot\":null,\"text\":\"\"},\"id\":\"fe476807-1c55-4660-82ea-7dead78d3608\",\"type\":\"Title\"},{\"attributes\":{\"source\":{\"id\":\"49f84717-8b8e-45ad-8e08-cfe984027747\",\"type\":\"ColumnDataSource\"}},\"id\":\"6951a1cc-b19b-401a-a449-adf3b9e43834\",\"type\":\"CDSView\"},{\"attributes\":{\"line_alpha\":0.1,\"line_color\":\"#1f77b4\",\"line_width\":1.5,\"x\":{\"field\":\"x\"},\"y\":{\"field\":\"y\"}},\"id\":\"a099efd4-7d53-4667-9ba6-bba77f43cbf1\",\"type\":\"Line\"},{\"attributes\":{},\"id\":\"0089f954-2ca0-47ff-8312-6010900a8fd8\",\"type\":\"UnionRenderers\"},{\"attributes\":{\"children\":[{\"id\":\"39647a9e-5493-4a3b-af4e-3daf3c1410c4\",\"type\":\"Row\"}]},\"id\":\"1ff40020-cf00-4921-be5c-41617e7dde7b\",\"type\":\"Column\"},{\"attributes\":{},\"id\":\"5179512b-df93-4339-9f0a-e4d3929ac36a\",\"type\":\"UnionRenderers\"},{\"attributes\":{\"data_source\":{\"id\":\"49f84717-8b8e-45ad-8e08-cfe984027747\",\"type\":\"ColumnDataSource\"},\"glyph\":{\"id\":\"3a8876d5-fa08-4fd7-add8-81e7810edb64\",\"type\":\"Line\"},\"hover_glyph\":null,\"muted_glyph\":null,\"nonselection_glyph\":{\"id\":\"e5dfdc4c-25c3-417a-8784-e6c54d39f260\",\"type\":\"Line\"},\"selection_glyph\":null,\"view\":{\"id\":\"6951a1cc-b19b-401a-a449-adf3b9e43834\",\"type\":\"CDSView\"}},\"id\":\"3f3530a8-b58c-47e2-a832-2b5fe6a1c024\",\"type\":\"GlyphRenderer\"},{\"attributes\":{\"data_source\":{\"id\":\"1c08e2d4-3156-4de0-9005-3374ce1fa30b\",\"type\":\"ColumnDataSource\"},\"glyph\":{\"id\":\"25803f56-a43e-4e4f-b534-93bc21e9ae00\",\"type\":\"Circle\"},\"hover_glyph\":null,\"muted_glyph\":null,\"nonselection_glyph\":{\"id\":\"b58d6fee-b60c-4f16-b4bf-4ba2cf71f159\",\"type\":\"Circle\"},\"selection_glyph\":null,\"view\":{\"id\":\"e354b5be-95b3-4513-a04c-9df00614f5b9\",\"type\":\"CDSView\"}},\"id\":\"6758cd5b-dee1-4fbb-bca4-e80bbdbea79a\",\"type\":\"GlyphRenderer\"},{\"attributes\":{\"data_source\":{\"id\":\"bd7d87ef-c611-4b26-a794-210eb0ef56b3\",\"type\":\"ColumnDataSource\"},\"glyph\":{\"id\":\"368a48d3-ede5-4fdc-9c14-b7d3445f6d11\",\"type\":\"Circle\"},\"hover_glyph\":null,\"muted_glyph\":null,\"nonselection_glyph\":{\"id\":\"e74d0a85-29f6-46bc-8efb-a432df4adf2d\",\"type\":\"Circle\"},\"selection_glyph\":null,\"view\":{\"id\":\"cd482c41-e431-42e3-9cfd-aaaa96db3536\",\"type\":\"CDSView\"}},\"id\":\"603c06e8-8857-4a9f-ad67-028bdf22d53b\",\"type\":\"GlyphRenderer\"},{\"attributes\":{\"label\":{\"value\":\"CRD\"},\"renderers\":[{\"id\":\"6758cd5b-dee1-4fbb-bca4-e80bbdbea79a\",\"type\":\"GlyphRenderer\"},{\"id\":\"042b7602-c90d-4aee-b5e6-9d90f9894f0f\",\"type\":\"GlyphRenderer\"}]},\"id\":\"68d456f9-4c35-4ff8-bf91-e24729b81c5f\",\"type\":\"LegendItem\"},{\"attributes\":{\"line_color\":\"#4daf4a\",\"line_width\":1.5,\"x\":{\"field\":\"x\"},\"y\":{\"field\":\"y\"}},\"id\":\"89fd72af-32cd-4d6c-b7ea-7377696e8a30\",\"type\":\"Line\"},{\"attributes\":{\"fill_alpha\":{\"value\":0.7},\"fill_color\":{\"value\":\"#4daf4a\"},\"line_alpha\":{\"value\":0.7},\"line_color\":{\"value\":\"#4daf4a\"},\"x\":{\"field\":\"x\"},\"y\":{\"field\":\"y\"}},\"id\":\"25803f56-a43e-4e4f-b534-93bc21e9ae00\",\"type\":\"Circle\"},{\"attributes\":{},\"id\":\"bb6bc5a8-23b0-44eb-bf37-ecbdbf81de49\",\"type\":\"LinearScale\"},{\"attributes\":{\"callback\":null,\"data\":{\"x\":{\"__ndarray__\":\"R/KIaN7AVEClCeJMyPNGQOvRhpxr30JAptxzhxx4PkA7SssMElA4QK6Bp3CyUDNAsVXpjES9LkBFhUV0+5coQMHYwqbbySNA6f09nM3nH0CaSd/3eYoZQDmgiAOW8BNAPYqARh3eDEBkm4vCgvr+P9D+5tWhQfY/P8DwKRnSAkBq38kb17ILQDT7IWuSsxFAUr2Rjm0FFkAinq3s9XgbQGCHwtYcqSFAG64kT303J0C7dRDneyooQD9JYrbK8yRA9S3bneHhIUAIymSuUMMcQIkHLe6VEBdAAau3cITREkA6CiNvkQIPQJU39ki7IQlAaAvwok1UA0BXLQiS4+L7P0xzDpJ2hPI/NNuPGMbJ5z91mUVYxqfSPxqwUPSxZca/G11peifD3L8QzNj5t2jTvwzOozTL360/SPJ4VI1VzD9KJ0nXEIncP8yDdlvHt+4/Et49nYLW9z++2teD4Jn+P+568eH/bwFALf5D9lmAAkCiZAicVOkCQPPT4jNKxwJAOjp3wTzBAUBSQsKNGisBQG4OmjqJwQBAJ3sZoHFuAEA5Ar0Sdi0AQGy4rw5+9f8/7W4nSrC3/z8mPr8zj4T/P4UYRHCQS/8/embVKYcF/z+5YXG+LLP+P/qb8BVUgf4/KvafTtyO/j/avAK1Ppv+PwJV9VVm2P0/JFtYlU/n/D9sN+q2fiX6Pw44e41PNPc/Opt+Z/wN9T+x3vcSW1vzP9ofvWQJlvI/8sciQQBW8j80sfkQa17yPzg5qng2r/I/Oh14WJBh8z+VZjnpctj0P6CcrSuCqQBA\",\"dtype\":\"float64\",\"shape\":[75]},\"y\":{\"__ndarray__\":\"GhExyth1ND/Sv8nbtpRIP2vylNV0PVE/aTum7souWD/At0SJ8fVgPw3Iuahxymc/MSNhhJWvcD/bTfBN02d3P2zb5nxnaoA/CD5h5MAGhz8NmeH1TyaQP+zrCsc9p5Y/LbKd76fGnz/bLW5ISEmmPww9YvTcQq8/JV2OstnstT8Er5Y7M8G+P0c+r3jqkcU/5h99k6ZBzj88bCIzFzjVP4enV8oyxN0//yH99nXg5D8qOpLLf0jtP5kqGJXUifQ/c9cS8kHP/D+/DpwzojQEQIEmwoanVwxA4lgXt9HgE0BSSZ2AJuIbQAMJih9jjiNA5q4l5INuK0AwTKYKRj0zQNv5fmq8/DpAaCJseHrtQkB/+zpwzoxKQM3MzMzMeFJAZmZmZmZqWEAAAAAAAFxeQM3MzMzMJmJAmpmZmZkfZUBmZmZmZhhoQDMzMzMzEWtAAAAAAAAKbkBmZmZmZoFwQM3MzMzM/XFAMzMzMzN6c0CamZmZmfZ0QAAAAAAAc3ZAZmZmZmbvd0DNzMzMzGt5QDMzMzMz6HpAmpmZmZlkfEAAAAAAAOF9QGZmZmZmXX9AZmZmZuZsgECamZmZGSuBQM3MzMxM6YFAAAAAAICngkAzMzMzs2WDQGZmZmbmI4RAmpmZmRnihEDNzMzMTKCFQAAAAACAXoZAMzMzM7Mch0BmZmZm5tqHQJqZmZkZmYhAzczMzExXiUAAAAAAgBWKQDMzMzOz04pAZmZmZuaRi0CamZmZGVCMQM3MzMxMDo1AAAAAAIDMjUAzMzMzs4qOQGZmZmbmSI9A\",\"dtype\":\"float64\",\"shape\":[75]}},\"selected\":{\"id\":\"fc1b2122-3068-46bf-a043-5499dc5ff7bd\",\"type\":\"Selection\"},\"selection_policy\":{\"id\":\"5179512b-df93-4339-9f0a-e4d3929ac36a\",\"type\":\"UnionRenderers\"}},\"id\":\"3f176522-73de-483f-be2e-ec74d8290413\",\"type\":\"ColumnDataSource\"},{\"attributes\":{\"callback\":null,\"data\":{\"x\":{\"__ndarray__\":\"UERDXQSvTMBz590vSjiMwM/XEQA6OglAX/XO1aahJ0A8foU7W3EuQPg+Xol1xzBAe3RZPOdRIED+RTt2dLEkQP6bw/uVnxJAI2KU3QXgEUA2L5ctykgOQA0sRSbC5gNAdP9GTZ7+J8CBLhrpNjBgwA+Fau3SkmPAL8xxZYWyUsClJZecnM9BwMrXNkPrOzvAGgYfj6iWNMAMrNXymXkswKacxqSlcBBAN+FEjrKzTUBsnogdRD9JQOLc0m4cxzNAhqO9V7OYKUA2DpBHq6IZQN8nyDiYshNADGqGL68hEUDf+m+74ecLQDeE3htvwAZAUoAF996lA0BYAMoUsO/+P0xUfE37pPM/3nny4eGo5z+JEARiN6fQP6tfBGRjWtC/QLIpQ6oB5b9bruNV0dnfv0jvf2U8QZC/jKNO33sPxD9HlJCZTirYP7wPwg9OhOw/wD19MxKm9j8n73zzXcX9P3aRW6155ABA9uImy5J+AUCu2+yEoUACQB7Og4DjRAJAaho4dnYMAUAWgvpgInQAQIAvrxnlPgBA3/7lxhUbAECET3bG4NX/P7xxF2mcYv8/7lCjAHD2/j9wDg/i267+P1rOUwrfn/4/G254A2S6/j/VcE0VnsD+P8/ygrHBq/4/n0fUKkuL/j9DMCAR2Tv+P5kEao/pAf0/1jIrcaOc+z9+2kBrkqD4PxqWDZ5dvfU/u19BNmLg8z/EaGzkQGjyP/uBOu+4nvE/KjcFvS1Q8T9IWh1ujjbxP3U0TibwVfE/0X2UbND+8T/CxQ3lq1zzP3dIPmqkkQBA\",\"dtype\":\"float64\",\"shape\":[75]},\"y\":{\"__ndarray__\":\"GhExyth1ND/Sv8nbtpRIP2vylNV0PVE/aTum7souWD/At0SJ8fVgPw3Iuahxymc/MSNhhJWvcD/bTfBN02d3P2zb5nxnaoA/CD5h5MAGhz8NmeH1TyaQP+zrCsc9p5Y/LbKd76fGnz/bLW5ISEmmPww9YvTcQq8/JV2OstnstT8Er5Y7M8G+P0c+r3jqkcU/5h99k6ZBzj88bCIzFzjVP4enV8oyxN0//yH99nXg5D8qOpLLf0jtP5kqGJXUifQ/c9cS8kHP/D+/DpwzojQEQIEmwoanVwxA4lgXt9HgE0BSSZ2AJuIbQAMJih9jjiNA5q4l5INuK0AwTKYKRj0zQNv5fmq8/DpAaCJseHrtQkB/+zpwzoxKQM3MzMzMeFJAZmZmZmZqWEAAAAAAAFxeQM3MzMzMJmJAmpmZmZkfZUBmZmZmZhhoQDMzMzMzEWtAAAAAAAAKbkBmZmZmZoFwQM3MzMzM/XFAMzMzMzN6c0CamZmZmfZ0QAAAAAAAc3ZAZmZmZmbvd0DNzMzMzGt5QDMzMzMz6HpAmpmZmZlkfEAAAAAAAOF9QGZmZmZmXX9AZmZmZuZsgECamZmZGSuBQM3MzMxM6YFAAAAAAICngkAzMzMzs2WDQGZmZmbmI4RAmpmZmRnihEDNzMzMTKCFQAAAAACAXoZAMzMzM7Mch0BmZmZm5tqHQJqZmZkZmYhAzczMzExXiUAAAAAAgBWKQDMzMzOz04pAZmZmZuaRi0CamZmZGVCMQM3MzMxMDo1AAAAAAIDMjUAzMzMzs4qOQGZmZmbmSI9A\",\"dtype\":\"float64\",\"shape\":[75]}},\"selected\":{\"id\":\"e17a4908-42c7-496d-955c-3175f959a6e9\",\"type\":\"Selection\"},\"selection_policy\":{\"id\":\"f62f81ad-38f9-4b70-b171-058c375af876\",\"type\":\"UnionRenderers\"}},\"id\":\"49f84717-8b8e-45ad-8e08-cfe984027747\",\"type\":\"ColumnDataSource\"},{\"attributes\":{\"bottom_units\":\"screen\",\"fill_alpha\":{\"value\":0.5},\"fill_color\":{\"value\":\"lightgrey\"},\"left_units\":\"screen\",\"level\":\"overlay\",\"line_alpha\":{\"value\":1.0},\"line_color\":{\"value\":\"black\"},\"line_dash\":[4,4],\"line_width\":{\"value\":2},\"plot\":null,\"render_mode\":\"css\",\"right_units\":\"screen\",\"top_units\":\"screen\"},\"id\":\"54af4fb6-960f-4269-9bdc-72d2f2951a7d\",\"type\":\"BoxAnnotation\"},{\"attributes\":{\"fill_alpha\":{\"value\":0.1},\"fill_color\":{\"value\":\"#1f77b4\"},\"line_alpha\":{\"value\":0.1},\"line_color\":{\"value\":\"#1f77b4\"},\"x\":{\"field\":\"x\"},\"y\":{\"field\":\"y\"}},\"id\":\"b58d6fee-b60c-4f16-b4bf-4ba2cf71f159\",\"type\":\"Circle\"},{\"attributes\":{\"plot\":{\"id\":\"68068395-283f-4f78-8dbb-da52523b1323\",\"subtype\":\"Figure\",\"type\":\"Plot\"},\"ticker\":{\"id\":\"7dfaae56-65a8-453e-8f9a-1e31a1e03768\",\"type\":\"BasicTicker\"}},\"id\":\"19babb6e-e562-4adc-926d-d926354845d6\",\"type\":\"Grid\"},{\"attributes\":{},\"id\":\"fc1b2122-3068-46bf-a043-5499dc5ff7bd\",\"type\":\"Selection\"},{\"attributes\":{\"callback\":null,\"end\":2.3941347527580006,\"start\":-0.686657099418},\"id\":\"38b5e514-8367-4a6d-882b-343483342746\",\"type\":\"Range1d\"},{\"attributes\":{\"source\":{\"id\":\"b8055b89-ed2f-4255-9aa1-58a9793eddff\",\"type\":\"ColumnDataSource\"}},\"id\":\"adf2af25-a3e0-49cc-a728-5c997200bbd7\",\"type\":\"CDSView\"},{\"attributes\":{\"source\":{\"id\":\"aacd17b4-50b3-4ace-a9af-86157f9847f7\",\"type\":\"ColumnDataSource\"}},\"id\":\"d18e7931-50c4-4d98-b47d-1886e36a6b46\",\"type\":\"CDSView\"},{\"attributes\":{\"dimension\":1,\"plot\":{\"id\":\"68068395-283f-4f78-8dbb-da52523b1323\",\"subtype\":\"Figure\",\"type\":\"Plot\"},\"ticker\":{\"id\":\"69aa90eb-3f6f-43a1-82d9-9b603c3a2ee2\",\"type\":\"BasicTicker\"}},\"id\":\"49b8ee1f-6272-40f9-805f-edad766886c9\",\"type\":\"Grid\"},{\"attributes\":{\"callback\":null,\"data\":{\"x\":{\"__ndarray__\":\"R/KIaN7AVEClCeJMyPNGQOvRhpxr30JAptxzhxx4PkA7SssMElA4QK6Bp3CyUDNAsVXpjES9LkBFhUV0+5coQMHYwqbbySNA6f09nM3nH0CaSd/3eYoZQDmgiAOW8BNAPYqARh3eDEBkm4vCgvr+P9D+5tWhQfY/P8DwKRnSAkBq38kb17ILQDT7IWuSsxFAUr2Rjm0FFkAinq3s9XgbQGCHwtYcqSFAG64kT303J0C7dRDneyooQD9JYrbK8yRA9S3bneHhIUAIymSuUMMcQIkHLe6VEBdAAau3cITREkA6CiNvkQIPQJU39ki7IQlAaAvwok1UA0BXLQiS4+L7P0xzDpJ2hPI/NNuPGMbJ5z91mUVYxqfSPxqwUPSxZca/G11peifD3L8QzNj5t2jTvwzOozTL360/SPJ4VI1VzD9KJ0nXEIncP8yDdlvHt+4/Et49nYLW9z++2teD4Jn+P+568eH/bwFALf5D9lmAAkCiZAicVOkCQPPT4jNKxwJAOjp3wTzBAUBSQsKNGisBQG4OmjqJwQBAJ3sZoHFuAEA5Ar0Sdi0AQGy4rw5+9f8/7W4nSrC3/z8mPr8zj4T/P4UYRHCQS/8/embVKYcF/z+5YXG+LLP+P/qb8BVUgf4/KvafTtyO/j/avAK1Ppv+PwJV9VVm2P0/JFtYlU/n/D9sN+q2fiX6Pw44e41PNPc/Opt+Z/wN9T+x3vcSW1vzP9ofvWQJlvI/8sciQQBW8j80sfkQa17yPzg5qng2r/I/Oh14WJBh8z+VZjnpctj0P6CcrSuCqQBA\",\"dtype\":\"float64\",\"shape\":[75]},\"y\":{\"__ndarray__\":\"GhExyth1ND/Sv8nbtpRIP2vylNV0PVE/aTum7souWD/At0SJ8fVgPw3Iuahxymc/MSNhhJWvcD/bTfBN02d3P2zb5nxnaoA/CD5h5MAGhz8NmeH1TyaQP+zrCsc9p5Y/LbKd76fGnz/bLW5ISEmmPww9YvTcQq8/JV2OstnstT8Er5Y7M8G+P0c+r3jqkcU/5h99k6ZBzj88bCIzFzjVP4enV8oyxN0//yH99nXg5D8qOpLLf0jtP5kqGJXUifQ/c9cS8kHP/D+/DpwzojQEQIEmwoanVwxA4lgXt9HgE0BSSZ2AJuIbQAMJih9jjiNA5q4l5INuK0AwTKYKRj0zQNv5fmq8/DpAaCJseHrtQkB/+zpwzoxKQM3MzMzMeFJAZmZmZmZqWEAAAAAAAFxeQM3MzMzMJmJAmpmZmZkfZUBmZmZmZhhoQDMzMzMzEWtAAAAAAAAKbkBmZmZmZoFwQM3MzMzM/XFAMzMzMzN6c0CamZmZmfZ0QAAAAAAAc3ZAZmZmZmbvd0DNzMzMzGt5QDMzMzMz6HpAmpmZmZlkfEAAAAAAAOF9QGZmZmZmXX9AZmZmZuZsgECamZmZGSuBQM3MzMxM6YFAAAAAAICngkAzMzMzs2WDQGZmZmbmI4RAmpmZmRnihEDNzMzMTKCFQAAAAACAXoZAMzMzM7Mch0BmZmZm5tqHQJqZmZkZmYhAzczMzExXiUAAAAAAgBWKQDMzMzOz04pAZmZmZuaRi0CamZmZGVCMQM3MzMxMDo1AAAAAAIDMjUAzMzMzs4qOQGZmZmbmSI9A\",\"dtype\":\"float64\",\"shape\":[75]}},\"selected\":{\"id\":\"893b5c60-aac9-4b55-ae19-2f3662b89556\",\"type\":\"Selection\"},\"selection_policy\":{\"id\":\"0089f954-2ca0-47ff-8312-6010900a8fd8\",\"type\":\"UnionRenderers\"}},\"id\":\"1c08e2d4-3156-4de0-9005-3374ce1fa30b\",\"type\":\"ColumnDataSource\"},{\"attributes\":{\"fill_alpha\":{\"value\":0.7},\"fill_color\":{\"value\":\"#4daf4a\"},\"line_alpha\":{\"value\":0.7},\"line_color\":{\"value\":\"#4daf4a\"},\"x\":{\"field\":\"x\"},\"y\":{\"field\":\"y\"}},\"id\":\"368a48d3-ede5-4fdc-9c14-b7d3445f6d11\",\"type\":\"Circle\"},{\"attributes\":{},\"id\":\"69aa90eb-3f6f-43a1-82d9-9b603c3a2ee2\",\"type\":\"BasicTicker\"},{\"attributes\":{\"callback\":null,\"data\":{\"x\":{\"__ndarray__\":\"R/KIaN7AVEClCeJMyPNGQOvRhpxr30JAptxzhxx4PkA7SssMElA4QK6Bp3CyUDNAsVXpjES9LkBFhUV0+5coQMHYwqbbySNA6f09nM3nH0CaSd/3eYoZQDmgiAOW8BNAPYqARh3eDEBkm4vCgvr+P9D+5tWhQfY/P8DwKRnSAkBq38kb17ILQDT7IWuSsxFAUr2Rjm0FFkAinq3s9XgbQGCHwtYcqSFAG64kT303J0C7dRDneyooQD9JYrbK8yRA9S3bneHhIUAIymSuUMMcQIkHLe6VEBdAAau3cITREkA6CiNvkQIPQJU39ki7IQlAaAvwok1UA0BXLQiS4+L7P0xzDpJ2hPI/NNuPGMbJ5z91mUVYxqfSPxqwUPSxZca/G11peifD3L8QzNj5t2jTvwzOozTL360/SPJ4VI1VzD9KJ0nXEIncP8yDdlvHt+4/Et49nYLW9z++2teD4Jn+P+568eH/bwFALf5D9lmAAkCiZAicVOkCQPPT4jNKxwJAOjp3wTzBAUBSQsKNGisBQG4OmjqJwQBAJ3sZoHFuAEA5Ar0Sdi0AQGy4rw5+9f8/7W4nSrC3/z8mPr8zj4T/P4UYRHCQS/8/embVKYcF/z+5YXG+LLP+P/qb8BVUgf4/KvafTtyO/j/avAK1Ppv+PwJV9VVm2P0/JFtYlU/n/D9sN+q2fiX6Pw44e41PNPc/Opt+Z/wN9T+x3vcSW1vzP9ofvWQJlvI/8sciQQBW8j80sfkQa17yPzg5qng2r/I/Oh14WJBh8z+VZjnpctj0P6CcrSuCqQBA\",\"dtype\":\"float64\",\"shape\":[75]},\"y\":{\"__ndarray__\":\"GhExyth1ND/Sv8nbtpRIP2vylNV0PVE/aTum7souWD/At0SJ8fVgPw3Iuahxymc/MSNhhJWvcD/bTfBN02d3P2zb5nxnaoA/CD5h5MAGhz8NmeH1TyaQP+zrCsc9p5Y/LbKd76fGnz/bLW5ISEmmPww9YvTcQq8/JV2OstnstT8Er5Y7M8G+P0c+r3jqkcU/5h99k6ZBzj88bCIzFzjVP4enV8oyxN0//yH99nXg5D8qOpLLf0jtP5kqGJXUifQ/c9cS8kHP/D+/DpwzojQEQIEmwoanVwxA4lgXt9HgE0BSSZ2AJuIbQAMJih9jjiNA5q4l5INuK0AwTKYKRj0zQNv5fmq8/DpAaCJseHrtQkB/+zpwzoxKQM3MzMzMeFJAZmZmZmZqWEAAAAAAAFxeQM3MzMzMJmJAmpmZmZkfZUBmZmZmZhhoQDMzMzMzEWtAAAAAAAAKbkBmZmZmZoFwQM3MzMzM/XFAMzMzMzN6c0CamZmZmfZ0QAAAAAAAc3ZAZmZmZmbvd0DNzMzMzGt5QDMzMzMz6HpAmpmZmZlkfEAAAAAAAOF9QGZmZmZmXX9AZmZmZuZsgECamZmZGSuBQM3MzMxM6YFAAAAAAICngkAzMzMzs2WDQGZmZmbmI4RAmpmZmRnihEDNzMzMTKCFQAAAAACAXoZAMzMzM7Mch0BmZmZm5tqHQJqZmZkZmYhAzczMzExXiUAAAAAAgBWKQDMzMzOz04pAZmZmZuaRi0CamZmZGVCMQM3MzMxMDo1AAAAAAIDMjUAzMzMzs4qOQGZmZmbmSI9A\",\"dtype\":\"float64\",\"shape\":[75]}},\"selected\":{\"id\":\"4676d91e-5aed-44e6-b285-d6a1096b0259\",\"type\":\"Selection\"},\"selection_policy\":{\"id\":\"2e269d65-029a-4d34-b93b-3175bff5b220\",\"type\":\"UnionRenderers\"}},\"id\":\"bd7d87ef-c611-4b26-a794-210eb0ef56b3\",\"type\":\"ColumnDataSource\"},{\"attributes\":{\"label\":{\"value\":\"CLIRAD (single-run)\"},\"renderers\":[{\"id\":\"3f3530a8-b58c-47e2-a832-2b5fe6a1c024\",\"type\":\"GlyphRenderer\"}]},\"id\":\"fd512249-5853-4487-ab58-23742bf9e3b0\",\"type\":\"LegendItem\"},{\"attributes\":{\"data_source\":{\"id\":\"3f176522-73de-483f-be2e-ec74d8290413\",\"type\":\"ColumnDataSource\"},\"glyph\":{\"id\":\"89fd72af-32cd-4d6c-b7ea-7377696e8a30\",\"type\":\"Line\"},\"hover_glyph\":null,\"muted_glyph\":null,\"nonselection_glyph\":{\"id\":\"a099efd4-7d53-4667-9ba6-bba77f43cbf1\",\"type\":\"Line\"},\"selection_glyph\":null,\"view\":{\"id\":\"e0eb2ad3-8859-49c5-a0c4-a74e384f15e4\",\"type\":\"CDSView\"}},\"id\":\"042b7602-c90d-4aee-b5e6-9d90f9894f0f\",\"type\":\"GlyphRenderer\"},{\"attributes\":{\"plot\":null,\"text\":\"\"},\"id\":\"c9f32541-b160-4a1b-a216-0ece83864776\",\"type\":\"Title\"},{\"attributes\":{\"line_alpha\":0.1,\"line_color\":\"#1f77b4\",\"line_dash\":[6],\"line_width\":5,\"x\":{\"field\":\"x\"},\"y\":{\"field\":\"y\"}},\"id\":\"e5dfdc4c-25c3-417a-8784-e6c54d39f260\",\"type\":\"Line\"},{\"attributes\":{\"callback\":null,\"end\":0.01,\"start\":1020},\"id\":\"3eb424b5-2966-490a-9940-8106643fd03f\",\"type\":\"Range1d\"},{\"attributes\":{},\"id\":\"4814b194-2983-4f8c-a421-bc4a8c0e4c49\",\"type\":\"HelpTool\"},{\"attributes\":{\"axis_label\":\"pressure [mb]\",\"formatter\":{\"id\":\"e12878b4-913c-4b0c-bb75-a49a1b680ef1\",\"type\":\"BasicTickFormatter\"},\"plot\":{\"id\":\"68068395-283f-4f78-8dbb-da52523b1323\",\"subtype\":\"Figure\",\"type\":\"Plot\"},\"ticker\":{\"id\":\"69aa90eb-3f6f-43a1-82d9-9b603c3a2ee2\",\"type\":\"BasicTicker\"}},\"id\":\"3fa9362b-94f8-460e-b495-d0b1adb6b683\",\"type\":\"LinearAxis\"},{\"attributes\":{\"axis_label\":\"cooling rate [K/day]\",\"formatter\":{\"id\":\"c8327e8d-f97e-4947-80c7-270a8cd20dfc\",\"type\":\"BasicTickFormatter\"},\"plot\":{\"id\":\"d3da7ec7-4799-4a07-ac81-daf7e7e283f3\",\"subtype\":\"Figure\",\"type\":\"Plot\"},\"ticker\":{\"id\":\"9da3326e-c09a-4ea6-af59-8cd5877ef346\",\"type\":\"BasicTicker\"}},\"id\":\"8333ab92-3572-41a2-bb92-654b4fd21808\",\"type\":\"LinearAxis\"},{\"attributes\":{\"items\":[{\"id\":\"fd512249-5853-4487-ab58-23742bf9e3b0\",\"type\":\"LegendItem\"},{\"id\":\"1ffdafe0-6e4d-49d6-906f-17872a944019\",\"type\":\"LegendItem\"}],\"label_text_font_size\":{\"value\":\"8pt\"},\"location\":\"top_center\",\"orientation\":\"horizontal\",\"plot\":{\"id\":\"68068395-283f-4f78-8dbb-da52523b1323\",\"subtype\":\"Figure\",\"type\":\"Plot\"}},\"id\":\"1cad36a9-9061-48dd-b586-143015d8717b\",\"type\":\"Legend\"},{\"attributes\":{\"label\":{\"value\":\"CRD\"},\"renderers\":[{\"id\":\"603c06e8-8857-4a9f-ad67-028bdf22d53b\",\"type\":\"GlyphRenderer\"},{\"id\":\"8ace5e21-e373-449c-b87d-a433e4a0696f\",\"type\":\"GlyphRenderer\"}]},\"id\":\"1ffdafe0-6e4d-49d6-906f-17872a944019\",\"type\":\"LegendItem\"},{\"attributes\":{},\"id\":\"c8327e8d-f97e-4947-80c7-270a8cd20dfc\",\"type\":\"BasicTickFormatter\"},{\"attributes\":{\"line_alpha\":0.6,\"line_color\":\"#377eb8\",\"line_dash\":[6],\"line_width\":5,\"x\":{\"field\":\"x\"},\"y\":{\"field\":\"y\"}},\"id\":\"ff488599-0a8e-4cc3-b4bc-4f08274322d1\",\"type\":\"Line\"},{\"attributes\":{\"line_alpha\":0.8,\"line_color\":\"#984ea3\",\"line_width\":1.5,\"x\":{\"field\":\"x\"},\"y\":{\"field\":\"y\"}},\"id\":\"084af59e-e45f-4d76-ae57-b463c920bdf0\",\"type\":\"Line\"},{\"attributes\":{},\"id\":\"2888fe9c-6266-4337-93b8-ef76d674e6d1\",\"type\":\"ResetTool\"},{\"attributes\":{\"above\":[{\"id\":\"1cad36a9-9061-48dd-b586-143015d8717b\",\"type\":\"Legend\"}],\"below\":[{\"id\":\"5db8dc8c-4428-4bea-84b9-1a380d408ff1\",\"type\":\"LinearAxis\"}],\"left\":[{\"id\":\"3fa9362b-94f8-460e-b495-d0b1adb6b683\",\"type\":\"LinearAxis\"}],\"plot_width\":300,\"renderers\":[{\"id\":\"5db8dc8c-4428-4bea-84b9-1a380d408ff1\",\"type\":\"LinearAxis\"},{\"id\":\"19babb6e-e562-4adc-926d-d926354845d6\",\"type\":\"Grid\"},{\"id\":\"3fa9362b-94f8-460e-b495-d0b1adb6b683\",\"type\":\"LinearAxis\"},{\"id\":\"49b8ee1f-6272-40f9-805f-edad766886c9\",\"type\":\"Grid\"},{\"id\":\"54af4fb6-960f-4269-9bdc-72d2f2951a7d\",\"type\":\"BoxAnnotation\"},{\"id\":\"3f3530a8-b58c-47e2-a832-2b5fe6a1c024\",\"type\":\"GlyphRenderer\"},{\"id\":\"603c06e8-8857-4a9f-ad67-028bdf22d53b\",\"type\":\"GlyphRenderer\"},{\"id\":\"8ace5e21-e373-449c-b87d-a433e4a0696f\",\"type\":\"GlyphRenderer\"},{\"id\":\"1cad36a9-9061-48dd-b586-143015d8717b\",\"type\":\"Legend\"}],\"title\":{\"id\":\"7f5fec90-6ee7-46e0-b571-ce507007e79f\",\"type\":\"Title\"},\"toolbar\":{\"id\":\"2edef691-dd09-4a0d-9ca8-b34018445ff5\",\"type\":\"Toolbar\"},\"toolbar_location\":null,\"x_range\":{\"id\":\"38b5e514-8367-4a6d-882b-343483342746\",\"type\":\"Range1d\"},\"x_scale\":{\"id\":\"d948c2db-8b85-4ca9-a305-6e0f2d84d87c\",\"type\":\"LinearScale\"},\"y_range\":{\"id\":\"92ed335f-0ab9-4992-8d73-d0d4e179bf6d\",\"type\":\"Range1d\"},\"y_scale\":{\"id\":\"bb6bc5a8-23b0-44eb-bf37-ecbdbf81de49\",\"type\":\"LinearScale\"}},\"id\":\"68068395-283f-4f78-8dbb-da52523b1323\",\"subtype\":\"Figure\",\"type\":\"Plot\"},{\"attributes\":{},\"id\":\"5215af7c-79d8-4983-8265-3a548dc2283b\",\"type\":\"SaveTool\"},{\"attributes\":{\"source\":{\"id\":\"68c0c17e-d447-41c0-9b0e-29e2ea875301\",\"type\":\"ColumnDataSource\"}},\"id\":\"b3d4844b-7e2a-41ba-8787-d61844290d5e\",\"type\":\"CDSView\"},{\"attributes\":{\"callback\":null,\"data\":{\"x\":{\"__ndarray__\":\"N0qVSzCMYcAMCKy0hqeNwG+0hfzHS0HA9mGMHEmnMsA/FhHeyC4iwKoVSjrnSQTAZ8IfobrWHMAl+lHwNzT/v4MVwlEh9BTAjjdTfY8PDMD/YyfCKcwEwGYUzOBp+gPAAyLnniU2L8C4RZ/uK25gwA5TFjFWv2PAMVLBLhZJU8Cbw1MOyopDwJdW/93PqD/Ab3XD8gMYOsCNPZZ0Chs1wBdyvgiU4RLAsbV7OtPlR0D9gMQjpTRDQIRwQydumiJAQ9aJ50bbDkCL3qU2KwXpv079Jqvt7+q/Tw8UE1T92r/TepidfdXYv+eavWhhCtO/ozpdBVVkpD8XmA4WZGbIPwEQ3rZLCLI/vaqwThtycL9MRwyydwSgv3wecKcpnrS/yA7UF1qAyr+UxBW4MuLIv9fisbM0ALO/eZ1U6iKMsL8MTOL2CHuxv4qgo13Km7G/MgUKnAYHs7/vcl0LUpCqv9QuvZLGcLG/YbPRsXIcwL91HnHjYha1v2u64GvWTLC/JPrjZ8mYtr9VB/iYBd+2v4vdWx2EVLC/8BHfTPbWpL8Mnnbga6Ggvw7WCLM0XKK//r+DMAkoqL+/9gU2araqv5VFCb4sdqW/xBc+l8nIkr9sOR64reJqP2ZqK8nNNoU/oGN0XR6JTL+DJaP4aNmXv9YMatGYz6q/84TSQsKqtL/DzpW6xE64v0Qf2vYeb7e/77fTE6PZsr+0vW7RRWOuv7C7U7AO6q6/ewzZQShdsL+8bsUtyn2yv0BMwCVllLW/lvY5vv4rtr8iDbpCcLy3v2gpVG/B3Ye/\",\"dtype\":\"float64\",\"shape\":[75]},\"y\":{\"__ndarray__\":\"GhExyth1ND/Sv8nbtpRIP2vylNV0PVE/aTum7souWD/At0SJ8fVgPw3Iuahxymc/MSNhhJWvcD/bTfBN02d3P2zb5nxnaoA/CD5h5MAGhz8NmeH1TyaQP+zrCsc9p5Y/LbKd76fGnz/bLW5ISEmmPww9YvTcQq8/JV2OstnstT8Er5Y7M8G+P0c+r3jqkcU/5h99k6ZBzj88bCIzFzjVP4enV8oyxN0//yH99nXg5D8qOpLLf0jtP5kqGJXUifQ/c9cS8kHP/D+/DpwzojQEQIEmwoanVwxA4lgXt9HgE0BSSZ2AJuIbQAMJih9jjiNA5q4l5INuK0AwTKYKRj0zQNv5fmq8/DpAaCJseHrtQkB/+zpwzoxKQM3MzMzMeFJAZmZmZmZqWEAAAAAAAFxeQM3MzMzMJmJAmpmZmZkfZUBmZmZmZhhoQDMzMzMzEWtAAAAAAAAKbkBmZmZmZoFwQM3MzMzM/XFAMzMzMzN6c0CamZmZmfZ0QAAAAAAAc3ZAZmZmZmbvd0DNzMzMzGt5QDMzMzMz6HpAmpmZmZlkfEAAAAAAAOF9QGZmZmZmXX9AZmZmZuZsgECamZmZGSuBQM3MzMxM6YFAAAAAAICngkAzMzMzs2WDQGZmZmbmI4RAmpmZmRnihEDNzMzMTKCFQAAAAACAXoZAMzMzM7Mch0BmZmZm5tqHQJqZmZkZmYhAzczMzExXiUAAAAAAgBWKQDMzMzOz04pAZmZmZuaRi0CamZmZGVCMQM3MzMxMDo1AAAAAAIDMjUAzMzMzs4qOQGZmZmbmSI9A\",\"dtype\":\"float64\",\"shape\":[75]}},\"selected\":{\"id\":\"069fa9a3-00e9-4a08-9366-e0fc0c6a80e8\",\"type\":\"Selection\"},\"selection_policy\":{\"id\":\"cdd5871f-d2d4-468e-84fc-b69be8a3e458\",\"type\":\"UnionRenderers\"}},\"id\":\"68c0c17e-d447-41c0-9b0e-29e2ea875301\",\"type\":\"ColumnDataSource\"},{\"attributes\":{\"plot\":null,\"text\":\"\"},\"id\":\"7f5fec90-6ee7-46e0-b571-ce507007e79f\",\"type\":\"Title\"},{\"attributes\":{\"active_drag\":\"auto\",\"active_inspect\":\"auto\",\"active_scroll\":\"auto\",\"active_tap\":\"auto\",\"tools\":[{\"id\":\"cf29a8c9-1ee8-49a7-8a35-511cd6f5fa2b\",\"type\":\"PanTool\"},{\"id\":\"e2d8a44f-0301-41d7-a213-195236b68049\",\"type\":\"WheelZoomTool\"},{\"id\":\"4da64fdf-7771-4dcc-8cab-a9886cacce8e\",\"type\":\"BoxZoomTool\"},{\"id\":\"5215af7c-79d8-4983-8265-3a548dc2283b\",\"type\":\"SaveTool\"},{\"id\":\"2888fe9c-6266-4337-93b8-ef76d674e6d1\",\"type\":\"ResetTool\"},{\"id\":\"4814b194-2983-4f8c-a421-bc4a8c0e4c49\",\"type\":\"HelpTool\"}]},\"id\":\"2edef691-dd09-4a0d-9ca8-b34018445ff5\",\"type\":\"Toolbar\"},{\"attributes\":{\"line_alpha\":0.1,\"line_color\":\"#1f77b4\",\"line_width\":1.5,\"x\":{\"field\":\"x\"},\"y\":{\"field\":\"y\"}},\"id\":\"e7c887db-8bd3-48fa-935f-22e72f748c65\",\"type\":\"Line\"},{\"attributes\":{\"axis_label\":\"pressure [mb]\",\"formatter\":{\"id\":\"8ff0683e-23e7-44af-adeb-4705a39a3599\",\"type\":\"LogTickFormatter\"},\"plot\":{\"id\":\"d3da7ec7-4799-4a07-ac81-daf7e7e283f3\",\"subtype\":\"Figure\",\"type\":\"Plot\"},\"ticker\":{\"id\":\"4ba35de9-d4f3-4fb9-8edf-c2e15c75e99e\",\"type\":\"LogTicker\"}},\"id\":\"93520077-3ba2-467f-828c-a1466ae31fa4\",\"type\":\"LogAxis\"},{\"attributes\":{},\"id\":\"0b524df7-47dd-49ef-b5d6-782df3ae18a6\",\"type\":\"UnionRenderers\"},{\"attributes\":{\"label\":{\"value\":\"CLIRAD (single-run) - CRD\"},\"renderers\":[{\"id\":\"46dc1ebd-8738-4624-b261-04f1b61b1f68\",\"type\":\"GlyphRenderer\"},{\"id\":\"c39b625d-16da-4331-bf93-bfc8ffe3f246\",\"type\":\"GlyphRenderer\"}]},\"id\":\"2ce85abd-817d-4dde-b07d-ee64315e5388\",\"type\":\"LegendItem\"},{\"attributes\":{},\"id\":\"2e269d65-029a-4d34-b93b-3175bff5b220\",\"type\":\"UnionRenderers\"},{\"attributes\":{\"callback\":null,\"data\":{\"x\":{\"__ndarray__\":\"N0qVSzCMYcAMCKy0hqeNwG+0hfzHS0HA9mGMHEmnMsA/FhHeyC4iwKoVSjrnSQTAZ8IfobrWHMAl+lHwNzT/v4MVwlEh9BTAjjdTfY8PDMD/YyfCKcwEwGYUzOBp+gPAAyLnniU2L8C4RZ/uK25gwA5TFjFWv2PAMVLBLhZJU8Cbw1MOyopDwJdW/93PqD/Ab3XD8gMYOsCNPZZ0Chs1wBdyvgiU4RLAsbV7OtPlR0D9gMQjpTRDQIRwQydumiJAQ9aJ50bbDkCL3qU2KwXpv079Jqvt7+q/Tw8UE1T92r/TepidfdXYv+eavWhhCtO/ozpdBVVkpD8XmA4WZGbIPwEQ3rZLCLI/vaqwThtycL9MRwyydwSgv3wecKcpnrS/yA7UF1qAyr+UxBW4MuLIv9fisbM0ALO/eZ1U6iKMsL8MTOL2CHuxv4qgo13Km7G/MgUKnAYHs7/vcl0LUpCqv9QuvZLGcLG/YbPRsXIcwL91HnHjYha1v2u64GvWTLC/JPrjZ8mYtr9VB/iYBd+2v4vdWx2EVLC/8BHfTPbWpL8Mnnbga6Ggvw7WCLM0XKK//r+DMAkoqL+/9gU2araqv5VFCb4sdqW/xBc+l8nIkr9sOR64reJqP2ZqK8nNNoU/oGN0XR6JTL+DJaP4aNmXv9YMatGYz6q/84TSQsKqtL/DzpW6xE64v0Qf2vYeb7e/77fTE6PZsr+0vW7RRWOuv7C7U7AO6q6/ewzZQShdsL+8bsUtyn2yv0BMwCVllLW/lvY5vv4rtr8iDbpCcLy3v2gpVG/B3Ye/\",\"dtype\":\"float64\",\"shape\":[75]},\"y\":{\"__ndarray__\":\"GhExyth1ND/Sv8nbtpRIP2vylNV0PVE/aTum7souWD/At0SJ8fVgPw3Iuahxymc/MSNhhJWvcD/bTfBN02d3P2zb5nxnaoA/CD5h5MAGhz8NmeH1TyaQP+zrCsc9p5Y/LbKd76fGnz/bLW5ISEmmPww9YvTcQq8/JV2OstnstT8Er5Y7M8G+P0c+r3jqkcU/5h99k6ZBzj88bCIzFzjVP4enV8oyxN0//yH99nXg5D8qOpLLf0jtP5kqGJXUifQ/c9cS8kHP/D+/DpwzojQEQIEmwoanVwxA4lgXt9HgE0BSSZ2AJuIbQAMJih9jjiNA5q4l5INuK0AwTKYKRj0zQNv5fmq8/DpAaCJseHrtQkB/+zpwzoxKQM3MzMzMeFJAZmZmZmZqWEAAAAAAAFxeQM3MzMzMJmJAmpmZmZkfZUBmZmZmZhhoQDMzMzMzEWtAAAAAAAAKbkBmZmZmZoFwQM3MzMzM/XFAMzMzMzN6c0CamZmZmfZ0QAAAAAAAc3ZAZmZmZmbvd0DNzMzMzGt5QDMzMzMz6HpAmpmZmZlkfEAAAAAAAOF9QGZmZmZmXX9AZmZmZuZsgECamZmZGSuBQM3MzMxM6YFAAAAAAICngkAzMzMzs2WDQGZmZmbmI4RAmpmZmRnihEDNzMzMTKCFQAAAAACAXoZAMzMzM7Mch0BmZmZm5tqHQJqZmZkZmYhAzczMzExXiUAAAAAAgBWKQDMzMzOz04pAZmZmZuaRi0CamZmZGVCMQM3MzMxMDo1AAAAAAIDMjUAzMzMzs4qOQGZmZmbmSI9A\",\"dtype\":\"float64\",\"shape\":[75]}},\"selected\":{\"id\":\"911e0700-36e7-4407-bd9a-bca7fccf7d7d\",\"type\":\"Selection\"},\"selection_policy\":{\"id\":\"10e99de0-7d97-49e5-afff-d7b438e3f3d4\",\"type\":\"UnionRenderers\"}},\"id\":\"fd4c0c04-cbe3-45ff-8cdf-32c3cf09f65c\",\"type\":\"ColumnDataSource\"},{\"attributes\":{\"dimension\":1,\"plot\":{\"id\":\"d3da7ec7-4799-4a07-ac81-daf7e7e283f3\",\"subtype\":\"Figure\",\"type\":\"Plot\"},\"ticker\":{\"id\":\"4ba35de9-d4f3-4fb9-8edf-c2e15c75e99e\",\"type\":\"LogTicker\"}},\"id\":\"01142a17-3e73-4be2-806e-5f08f52ec860\",\"type\":\"Grid\"},{\"attributes\":{},\"id\":\"cbee9411-0894-409f-8fa8-7440f1e3164f\",\"type\":\"LinearScale\"},{\"attributes\":{},\"id\":\"e1dc57a2-90c0-4c87-860c-3e9c08edd84e\",\"type\":\"LogScale\"},{\"attributes\":{\"overlay\":{\"id\":\"54af4fb6-960f-4269-9bdc-72d2f2951a7d\",\"type\":\"BoxAnnotation\"}},\"id\":\"4da64fdf-7771-4dcc-8cab-a9886cacce8e\",\"type\":\"BoxZoomTool\"},{\"attributes\":{\"items\":[{\"id\":\"ef4b17ea-b63e-45ff-8afa-6812adc4f4b8\",\"type\":\"LegendItem\"},{\"id\":\"68d456f9-4c35-4ff8-bf91-e24729b81c5f\",\"type\":\"LegendItem\"}],\"label_text_font_size\":{\"value\":\"8pt\"},\"location\":\"top_center\",\"orientation\":\"horizontal\",\"plot\":{\"id\":\"d3da7ec7-4799-4a07-ac81-daf7e7e283f3\",\"subtype\":\"Figure\",\"type\":\"Plot\"}},\"id\":\"ce4238a9-432e-48c2-9954-31f34f2e9c10\",\"type\":\"Legend\"},{\"attributes\":{},\"id\":\"cf29a8c9-1ee8-49a7-8a35-511cd6f5fa2b\",\"type\":\"PanTool\"},{\"attributes\":{},\"id\":\"e2d8a44f-0301-41d7-a213-195236b68049\",\"type\":\"WheelZoomTool\"},{\"attributes\":{},\"id\":\"f62f81ad-38f9-4b70-b171-058c375af876\",\"type\":\"UnionRenderers\"},{\"attributes\":{\"children\":[{\"id\":\"68068395-283f-4f78-8dbb-da52523b1323\",\"subtype\":\"Figure\",\"type\":\"Plot\"},{\"id\":\"d3da7ec7-4799-4a07-ac81-daf7e7e283f3\",\"subtype\":\"Figure\",\"type\":\"Plot\"},{\"id\":\"77c7c7fe-4119-4d03-8828-6c638988b0c9\",\"subtype\":\"Figure\",\"type\":\"Plot\"}]},\"id\":\"39647a9e-5493-4a3b-af4e-3daf3c1410c4\",\"type\":\"Row\"},{\"attributes\":{\"callback\":null,\"end\":0.01,\"start\":1020},\"id\":\"0a568564-8e4f-4ea3-963f-87fd76c8058a\",\"type\":\"Range1d\"},{\"attributes\":{},\"id\":\"d051b0d1-bbce-48e1-afc2-9be05a9ad1a8\",\"type\":\"PanTool\"},{\"attributes\":{\"data_source\":{\"id\":\"68c0c17e-d447-41c0-9b0e-29e2ea875301\",\"type\":\"ColumnDataSource\"},\"glyph\":{\"id\":\"084af59e-e45f-4d76-ae57-b463c920bdf0\",\"type\":\"Line\"},\"hover_glyph\":null,\"muted_glyph\":null,\"nonselection_glyph\":{\"id\":\"e7c887db-8bd3-48fa-935f-22e72f748c65\",\"type\":\"Line\"},\"selection_glyph\":null,\"view\":{\"id\":\"b3d4844b-7e2a-41ba-8787-d61844290d5e\",\"type\":\"CDSView\"}},\"id\":\"c39b625d-16da-4331-bf93-bfc8ffe3f246\",\"type\":\"GlyphRenderer\"},{\"attributes\":{},\"id\":\"9da3326e-c09a-4ea6-af59-8cd5877ef346\",\"type\":\"BasicTicker\"},{\"attributes\":{\"fill_alpha\":{\"value\":0.1},\"fill_color\":{\"value\":\"#1f77b4\"},\"line_alpha\":{\"value\":0.1},\"line_color\":{\"value\":\"#1f77b4\"},\"x\":{\"field\":\"x\"},\"y\":{\"field\":\"y\"}},\"id\":\"0ed683ab-e1e6-470a-8747-bfda21d21ab5\",\"type\":\"Circle\"},{\"attributes\":{\"ticker\":null},\"id\":\"8ff0683e-23e7-44af-adeb-4705a39a3599\",\"type\":\"LogTickFormatter\"},{\"attributes\":{\"plot\":{\"id\":\"d3da7ec7-4799-4a07-ac81-daf7e7e283f3\",\"subtype\":\"Figure\",\"type\":\"Plot\"},\"ticker\":{\"id\":\"9da3326e-c09a-4ea6-af59-8cd5877ef346\",\"type\":\"BasicTicker\"}},\"id\":\"a04ad97f-621a-4c1d-91ea-dff503ee163e\",\"type\":\"Grid\"},{\"attributes\":{\"num_minor_ticks\":10},\"id\":\"4ba35de9-d4f3-4fb9-8edf-c2e15c75e99e\",\"type\":\"LogTicker\"},{\"attributes\":{\"fill_alpha\":{\"value\":0.7},\"fill_color\":{\"value\":\"#984ea3\"},\"line_alpha\":{\"value\":0.7},\"line_color\":{\"value\":\"#984ea3\"},\"x\":{\"field\":\"x\"},\"y\":{\"field\":\"y\"}},\"id\":\"dc52e432-4a29-44f0-be58-a673ec94c1cc\",\"type\":\"Circle\"},{\"attributes\":{},\"id\":\"4676d91e-5aed-44e6-b285-d6a1096b0259\",\"type\":\"Selection\"},{\"attributes\":{\"active_drag\":\"auto\",\"active_inspect\":\"auto\",\"active_scroll\":\"auto\",\"active_tap\":\"auto\",\"tools\":[{\"id\":\"d051b0d1-bbce-48e1-afc2-9be05a9ad1a8\",\"type\":\"PanTool\"},{\"id\":\"80638861-551a-43c8-beeb-514383e2a2af\",\"type\":\"WheelZoomTool\"},{\"id\":\"f79ddd13-720f-45bb-ace3-83e7b88210b4\",\"type\":\"BoxZoomTool\"},{\"id\":\"1405fd65-6456-4022-ac3c-0e380b8e4ca6\",\"type\":\"SaveTool\"},{\"id\":\"c44a3c0d-e69d-4657-a90c-6b76a70cd1db\",\"type\":\"ResetTool\"},{\"id\":\"f219d216-389c-4baf-a9e4-76e55bafdb9c\",\"type\":\"HelpTool\"}]},\"id\":\"9a0969ee-8fc6-44bc-a1b4-51baec4657eb\",\"type\":\"Toolbar\"},{\"attributes\":{\"ticker\":null},\"id\":\"4b202775-31bb-471c-bb6d-8c830487f16b\",\"type\":\"LogTickFormatter\"},{\"attributes\":{\"overlay\":{\"id\":\"63ecdc27-4786-45a0-b3a0-147a5b3f9e4d\",\"type\":\"BoxAnnotation\"}},\"id\":\"f79ddd13-720f-45bb-ace3-83e7b88210b4\",\"type\":\"BoxZoomTool\"},{\"attributes\":{\"data_source\":{\"id\":\"aacd17b4-50b3-4ace-a9af-86157f9847f7\",\"type\":\"ColumnDataSource\"},\"glyph\":{\"id\":\"2b832f61-0282-4c31-a3c6-bd7d7ffb66a1\",\"type\":\"Line\"},\"hover_glyph\":null,\"muted_glyph\":null,\"nonselection_glyph\":{\"id\":\"ac6a514a-3da1-47e1-8909-d6dcface0d84\",\"type\":\"Line\"},\"selection_glyph\":null,\"view\":{\"id\":\"d18e7931-50c4-4d98-b47d-1886e36a6b46\",\"type\":\"CDSView\"}},\"id\":\"8ace5e21-e373-449c-b87d-a433e4a0696f\",\"type\":\"GlyphRenderer\"},{\"attributes\":{},\"id\":\"73eeb11b-4ef4-4855-bcf1-2063595fc4d7\",\"type\":\"Selection\"},{\"attributes\":{},\"id\":\"cdd5871f-d2d4-468e-84fc-b69be8a3e458\",\"type\":\"UnionRenderers\"},{\"attributes\":{},\"id\":\"4aa0bb3e-945f-42cf-8a34-897d635a0af9\",\"type\":\"WheelZoomTool\"},{\"attributes\":{},\"id\":\"10e99de0-7d97-49e5-afff-d7b438e3f3d4\",\"type\":\"UnionRenderers\"},{\"attributes\":{},\"id\":\"b1dade60-8b73-4f56-957b-63b4563768f7\",\"type\":\"SaveTool\"},{\"attributes\":{\"bottom_units\":\"screen\",\"fill_alpha\":{\"value\":0.5},\"fill_color\":{\"value\":\"lightgrey\"},\"left_units\":\"screen\",\"level\":\"overlay\",\"line_alpha\":{\"value\":1.0},\"line_color\":{\"value\":\"black\"},\"line_dash\":[4,4],\"line_width\":{\"value\":2},\"plot\":null,\"render_mode\":\"css\",\"right_units\":\"screen\",\"top_units\":\"screen\"},\"id\":\"7dd651a0-86b9-4e09-834b-91e596ed1717\",\"type\":\"BoxAnnotation\"},{\"attributes\":{},\"id\":\"1405fd65-6456-4022-ac3c-0e380b8e4ca6\",\"type\":\"SaveTool\"},{\"attributes\":{\"line_alpha\":0.1,\"line_color\":\"#1f77b4\",\"line_width\":1.5,\"x\":{\"field\":\"x\"},\"y\":{\"field\":\"y\"}},\"id\":\"ac6a514a-3da1-47e1-8909-d6dcface0d84\",\"type\":\"Line\"},{\"attributes\":{},\"id\":\"893b5c60-aac9-4b55-ae19-2f3662b89556\",\"type\":\"Selection\"},{\"attributes\":{\"toolbar\":{\"id\":\"8c97d1f4-74d0-422a-89ba-47bdcdc383e8\",\"type\":\"ProxyToolbar\"},\"toolbar_location\":\"above\"},\"id\":\"f72bb511-8ff8-4291-998e-636702660374\",\"type\":\"ToolbarBox\"},{\"attributes\":{},\"id\":\"5adb3def-aa75-4efb-b444-c321a9fce0e0\",\"type\":\"PanTool\"},{\"attributes\":{\"above\":[{\"id\":\"ce4238a9-432e-48c2-9954-31f34f2e9c10\",\"type\":\"Legend\"}],\"below\":[{\"id\":\"8333ab92-3572-41a2-bb92-654b4fd21808\",\"type\":\"LinearAxis\"}],\"left\":[{\"id\":\"93520077-3ba2-467f-828c-a1466ae31fa4\",\"type\":\"LogAxis\"}],\"plot_width\":300,\"renderers\":[{\"id\":\"8333ab92-3572-41a2-bb92-654b4fd21808\",\"type\":\"LinearAxis\"},{\"id\":\"a04ad97f-621a-4c1d-91ea-dff503ee163e\",\"type\":\"Grid\"},{\"id\":\"93520077-3ba2-467f-828c-a1466ae31fa4\",\"type\":\"LogAxis\"},{\"id\":\"01142a17-3e73-4be2-806e-5f08f52ec860\",\"type\":\"Grid\"},{\"id\":\"63ecdc27-4786-45a0-b3a0-147a5b3f9e4d\",\"type\":\"BoxAnnotation\"},{\"id\":\"639e9856-27cf-4903-9224-9b79a0ea2b67\",\"type\":\"GlyphRenderer\"},{\"id\":\"6758cd5b-dee1-4fbb-bca4-e80bbdbea79a\",\"type\":\"GlyphRenderer\"},{\"id\":\"042b7602-c90d-4aee-b5e6-9d90f9894f0f\",\"type\":\"GlyphRenderer\"},{\"id\":\"ce4238a9-432e-48c2-9954-31f34f2e9c10\",\"type\":\"Legend\"}],\"title\":{\"id\":\"fe476807-1c55-4660-82ea-7dead78d3608\",\"type\":\"Title\"},\"toolbar\":{\"id\":\"9a0969ee-8fc6-44bc-a1b4-51baec4657eb\",\"type\":\"Toolbar\"},\"toolbar_location\":null,\"x_range\":{\"id\":\"9a87e782-259a-440b-88ef-801af7b8ef95\",\"type\":\"Range1d\"},\"x_scale\":{\"id\":\"cbee9411-0894-409f-8fa8-7440f1e3164f\",\"type\":\"LinearScale\"},\"y_range\":{\"id\":\"0a568564-8e4f-4ea3-963f-87fd76c8058a\",\"type\":\"Range1d\"},\"y_scale\":{\"id\":\"e1dc57a2-90c0-4c87-860c-3e9c08edd84e\",\"type\":\"LogScale\"}},\"id\":\"d3da7ec7-4799-4a07-ac81-daf7e7e283f3\",\"subtype\":\"Figure\",\"type\":\"Plot\"},{\"attributes\":{\"callback\":null,\"end\":61.5638079343314,\"start\":-158.7481693200714},\"id\":\"9a87e782-259a-440b-88ef-801af7b8ef95\",\"type\":\"Range1d\"},{\"attributes\":{\"callback\":null,\"data\":{\"x\":{\"__ndarray__\":\"R/KIaN7AVEClCeJMyPNGQOvRhpxr30JAptxzhxx4PkA7SssMElA4QK6Bp3CyUDNAsVXpjES9LkBFhUV0+5coQMHYwqbbySNA6f09nM3nH0CaSd/3eYoZQDmgiAOW8BNAPYqARh3eDEBkm4vCgvr+P9D+5tWhQfY/P8DwKRnSAkBq38kb17ILQDT7IWuSsxFAUr2Rjm0FFkAinq3s9XgbQGCHwtYcqSFAG64kT303J0C7dRDneyooQD9JYrbK8yRA9S3bneHhIUAIymSuUMMcQIkHLe6VEBdAAau3cITREkA6CiNvkQIPQJU39ki7IQlAaAvwok1UA0BXLQiS4+L7P0xzDpJ2hPI/NNuPGMbJ5z91mUVYxqfSPxqwUPSxZca/G11peifD3L8QzNj5t2jTvwzOozTL360/SPJ4VI1VzD9KJ0nXEIncP8yDdlvHt+4/Et49nYLW9z++2teD4Jn+P+568eH/bwFALf5D9lmAAkCiZAicVOkCQPPT4jNKxwJAOjp3wTzBAUBSQsKNGisBQG4OmjqJwQBAJ3sZoHFuAEA5Ar0Sdi0AQGy4rw5+9f8/7W4nSrC3/z8mPr8zj4T/P4UYRHCQS/8/embVKYcF/z+5YXG+LLP+P/qb8BVUgf4/KvafTtyO/j/avAK1Ppv+PwJV9VVm2P0/JFtYlU/n/D9sN+q2fiX6Pw44e41PNPc/Opt+Z/wN9T+x3vcSW1vzP9ofvWQJlvI/8sciQQBW8j80sfkQa17yPzg5qng2r/I/Oh14WJBh8z+VZjnpctj0P6CcrSuCqQBA\",\"dtype\":\"float64\",\"shape\":[75]},\"y\":{\"__ndarray__\":\"GhExyth1ND/Sv8nbtpRIP2vylNV0PVE/aTum7souWD/At0SJ8fVgPw3Iuahxymc/MSNhhJWvcD/bTfBN02d3P2zb5nxnaoA/CD5h5MAGhz8NmeH1TyaQP+zrCsc9p5Y/LbKd76fGnz/bLW5ISEmmPww9YvTcQq8/JV2OstnstT8Er5Y7M8G+P0c+r3jqkcU/5h99k6ZBzj88bCIzFzjVP4enV8oyxN0//yH99nXg5D8qOpLLf0jtP5kqGJXUifQ/c9cS8kHP/D+/DpwzojQEQIEmwoanVwxA4lgXt9HgE0BSSZ2AJuIbQAMJih9jjiNA5q4l5INuK0AwTKYKRj0zQNv5fmq8/DpAaCJseHrtQkB/+zpwzoxKQM3MzMzMeFJAZmZmZmZqWEAAAAAAAFxeQM3MzMzMJmJAmpmZmZkfZUBmZmZmZhhoQDMzMzMzEWtAAAAAAAAKbkBmZmZmZoFwQM3MzMzM/XFAMzMzMzN6c0CamZmZmfZ0QAAAAAAAc3ZAZmZmZmbvd0DNzMzMzGt5QDMzMzMz6HpAmpmZmZlkfEAAAAAAAOF9QGZmZmZmXX9AZmZmZuZsgECamZmZGSuBQM3MzMxM6YFAAAAAAICngkAzMzMzs2WDQGZmZmbmI4RAmpmZmRnihEDNzMzMTKCFQAAAAACAXoZAMzMzM7Mch0BmZmZm5tqHQJqZmZkZmYhAzczMzExXiUAAAAAAgBWKQDMzMzOz04pAZmZmZuaRi0CamZmZGVCMQM3MzMxMDo1AAAAAAIDMjUAzMzMzs4qOQGZmZmbmSI9A\",\"dtype\":\"float64\",\"shape\":[75]}},\"selected\":{\"id\":\"f3116782-7b9d-459b-a023-0d81bf99fb80\",\"type\":\"Selection\"},\"selection_policy\":{\"id\":\"0b524df7-47dd-49ef-b5d6-782df3ae18a6\",\"type\":\"UnionRenderers\"}},\"id\":\"aacd17b4-50b3-4ace-a9af-86157f9847f7\",\"type\":\"ColumnDataSource\"},{\"attributes\":{\"callback\":null,\"data\":{\"x\":{\"__ndarray__\":\"UERDXQSvTMBz590vSjiMwM/XEQA6OglAX/XO1aahJ0A8foU7W3EuQPg+Xol1xzBAe3RZPOdRIED+RTt2dLEkQP6bw/uVnxJAI2KU3QXgEUA2L5ctykgOQA0sRSbC5gNAdP9GTZ7+J8CBLhrpNjBgwA+Fau3SkmPAL8xxZYWyUsClJZecnM9BwMrXNkPrOzvAGgYfj6iWNMAMrNXymXkswKacxqSlcBBAN+FEjrKzTUBsnogdRD9JQOLc0m4cxzNAhqO9V7OYKUA2DpBHq6IZQN8nyDiYshNADGqGL68hEUDf+m+74ecLQDeE3htvwAZAUoAF996lA0BYAMoUsO/+P0xUfE37pPM/3nny4eGo5z+JEARiN6fQP6tfBGRjWtC/QLIpQ6oB5b9bruNV0dnfv0jvf2U8QZC/jKNO33sPxD9HlJCZTirYP7wPwg9OhOw/wD19MxKm9j8n73zzXcX9P3aRW6155ABA9uImy5J+AUCu2+yEoUACQB7Og4DjRAJAaho4dnYMAUAWgvpgInQAQIAvrxnlPgBA3/7lxhUbAECET3bG4NX/P7xxF2mcYv8/7lCjAHD2/j9wDg/i267+P1rOUwrfn/4/G254A2S6/j/VcE0VnsD+P8/ygrHBq/4/n0fUKkuL/j9DMCAR2Tv+P5kEao/pAf0/1jIrcaOc+z9+2kBrkqD4PxqWDZ5dvfU/u19BNmLg8z/EaGzkQGjyP/uBOu+4nvE/KjcFvS1Q8T9IWh1ujjbxP3U0TibwVfE/0X2UbND+8T/CxQ3lq1zzP3dIPmqkkQBA\",\"dtype\":\"float64\",\"shape\":[75]},\"y\":{\"__ndarray__\":\"GhExyth1ND/Sv8nbtpRIP2vylNV0PVE/aTum7souWD/At0SJ8fVgPw3Iuahxymc/MSNhhJWvcD/bTfBN02d3P2zb5nxnaoA/CD5h5MAGhz8NmeH1TyaQP+zrCsc9p5Y/LbKd76fGnz/bLW5ISEmmPww9YvTcQq8/JV2OstnstT8Er5Y7M8G+P0c+r3jqkcU/5h99k6ZBzj88bCIzFzjVP4enV8oyxN0//yH99nXg5D8qOpLLf0jtP5kqGJXUifQ/c9cS8kHP/D+/DpwzojQEQIEmwoanVwxA4lgXt9HgE0BSSZ2AJuIbQAMJih9jjiNA5q4l5INuK0AwTKYKRj0zQNv5fmq8/DpAaCJseHrtQkB/+zpwzoxKQM3MzMzMeFJAZmZmZmZqWEAAAAAAAFxeQM3MzMzMJmJAmpmZmZkfZUBmZmZmZhhoQDMzMzMzEWtAAAAAAAAKbkBmZmZmZoFwQM3MzMzM/XFAMzMzMzN6c0CamZmZmfZ0QAAAAAAAc3ZAZmZmZmbvd0DNzMzMzGt5QDMzMzMz6HpAmpmZmZlkfEAAAAAAAOF9QGZmZmZmXX9AZmZmZuZsgECamZmZGSuBQM3MzMxM6YFAAAAAAICngkAzMzMzs2WDQGZmZmbmI4RAmpmZmRnihEDNzMzMTKCFQAAAAACAXoZAMzMzM7Mch0BmZmZm5tqHQJqZmZkZmYhAzczMzExXiUAAAAAAgBWKQDMzMzOz04pAZmZmZuaRi0CamZmZGVCMQM3MzMxMDo1AAAAAAIDMjUAzMzMzs4qOQGZmZmbmSI9A\",\"dtype\":\"float64\",\"shape\":[75]}},\"selected\":{\"id\":\"73eeb11b-4ef4-4855-bcf1-2063595fc4d7\",\"type\":\"Selection\"},\"selection_policy\":{\"id\":\"e5aacb5b-9a26-49be-9d6e-a358be6aa197\",\"type\":\"UnionRenderers\"}},\"id\":\"b8055b89-ed2f-4255-9aa1-58a9793eddff\",\"type\":\"ColumnDataSource\"},{\"attributes\":{\"overlay\":{\"id\":\"7dd651a0-86b9-4e09-834b-91e596ed1717\",\"type\":\"BoxAnnotation\"}},\"id\":\"46931cb4-b5ac-4a22-a7bc-f5838be0bfb0\",\"type\":\"BoxZoomTool\"},{\"attributes\":{\"source\":{\"id\":\"bd7d87ef-c611-4b26-a794-210eb0ef56b3\",\"type\":\"ColumnDataSource\"}},\"id\":\"cd482c41-e431-42e3-9cfd-aaaa96db3536\",\"type\":\"CDSView\"},{\"attributes\":{},\"id\":\"045b89d8-c9ae-430a-b736-b9771d908c45\",\"type\":\"HelpTool\"},{\"attributes\":{},\"id\":\"7dfaae56-65a8-453e-8f9a-1e31a1e03768\",\"type\":\"BasicTicker\"},{\"attributes\":{\"bottom_units\":\"screen\",\"fill_alpha\":{\"value\":0.5},\"fill_color\":{\"value\":\"lightgrey\"},\"left_units\":\"screen\",\"level\":\"overlay\",\"line_alpha\":{\"value\":1.0},\"line_color\":{\"value\":\"black\"},\"line_dash\":[4,4],\"line_width\":{\"value\":2},\"plot\":null,\"render_mode\":\"css\",\"right_units\":\"screen\",\"top_units\":\"screen\"},\"id\":\"63ecdc27-4786-45a0-b3a0-147a5b3f9e4d\",\"type\":\"BoxAnnotation\"},{\"attributes\":{\"children\":[{\"id\":\"f72bb511-8ff8-4291-998e-636702660374\",\"type\":\"ToolbarBox\"},{\"id\":\"1ff40020-cf00-4921-be5c-41617e7dde7b\",\"type\":\"Column\"}]},\"id\":\"671eb711-cfbf-4ff5-8583-2786dd2cd94d\",\"type\":\"Column\"},{\"attributes\":{\"data_source\":{\"id\":\"b8055b89-ed2f-4255-9aa1-58a9793eddff\",\"type\":\"ColumnDataSource\"},\"glyph\":{\"id\":\"ff488599-0a8e-4cc3-b4bc-4f08274322d1\",\"type\":\"Line\"},\"hover_glyph\":null,\"muted_glyph\":null,\"nonselection_glyph\":{\"id\":\"fb0d4c5a-a37c-4c6f-8640-113fdb883dc2\",\"type\":\"Line\"},\"selection_glyph\":null,\"view\":{\"id\":\"adf2af25-a3e0-49cc-a728-5c997200bbd7\",\"type\":\"CDSView\"}},\"id\":\"639e9856-27cf-4903-9224-9b79a0ea2b67\",\"type\":\"GlyphRenderer\"},{\"attributes\":{},\"id\":\"069fa9a3-00e9-4a08-9366-e0fc0c6a80e8\",\"type\":\"Selection\"},{\"attributes\":{\"line_color\":\"#4daf4a\",\"line_width\":1.5,\"x\":{\"field\":\"x\"},\"y\":{\"field\":\"y\"}},\"id\":\"2b832f61-0282-4c31-a3c6-bd7d7ffb66a1\",\"type\":\"Line\"},{\"attributes\":{\"tools\":[{\"id\":\"cf29a8c9-1ee8-49a7-8a35-511cd6f5fa2b\",\"type\":\"PanTool\"},{\"id\":\"e2d8a44f-0301-41d7-a213-195236b68049\",\"type\":\"WheelZoomTool\"},{\"id\":\"4da64fdf-7771-4dcc-8cab-a9886cacce8e\",\"type\":\"BoxZoomTool\"},{\"id\":\"5215af7c-79d8-4983-8265-3a548dc2283b\",\"type\":\"SaveTool\"},{\"id\":\"2888fe9c-6266-4337-93b8-ef76d674e6d1\",\"type\":\"ResetTool\"},{\"id\":\"4814b194-2983-4f8c-a421-bc4a8c0e4c49\",\"type\":\"HelpTool\"},{\"id\":\"d051b0d1-bbce-48e1-afc2-9be05a9ad1a8\",\"type\":\"PanTool\"},{\"id\":\"80638861-551a-43c8-beeb-514383e2a2af\",\"type\":\"WheelZoomTool\"},{\"id\":\"f79ddd13-720f-45bb-ace3-83e7b88210b4\",\"type\":\"BoxZoomTool\"},{\"id\":\"1405fd65-6456-4022-ac3c-0e380b8e4ca6\",\"type\":\"SaveTool\"},{\"id\":\"c44a3c0d-e69d-4657-a90c-6b76a70cd1db\",\"type\":\"ResetTool\"},{\"id\":\"f219d216-389c-4baf-a9e4-76e55bafdb9c\",\"type\":\"HelpTool\"},{\"id\":\"5adb3def-aa75-4efb-b444-c321a9fce0e0\",\"type\":\"PanTool\"},{\"id\":\"4aa0bb3e-945f-42cf-8a34-897d635a0af9\",\"type\":\"WheelZoomTool\"},{\"id\":\"46931cb4-b5ac-4a22-a7bc-f5838be0bfb0\",\"type\":\"BoxZoomTool\"},{\"id\":\"b1dade60-8b73-4f56-957b-63b4563768f7\",\"type\":\"SaveTool\"},{\"id\":\"3ccddacc-fb11-487a-9c2e-4183b06bc185\",\"type\":\"ResetTool\"},{\"id\":\"045b89d8-c9ae-430a-b736-b9771d908c45\",\"type\":\"HelpTool\"}]},\"id\":\"8c97d1f4-74d0-422a-89ba-47bdcdc383e8\",\"type\":\"ProxyToolbar\"},{\"attributes\":{},\"id\":\"e12878b4-913c-4b0c-bb75-a49a1b680ef1\",\"type\":\"BasicTickFormatter\"},{\"attributes\":{},\"id\":\"911e0700-36e7-4407-bd9a-bca7fccf7d7d\",\"type\":\"Selection\"},{\"attributes\":{},\"id\":\"c44a3c0d-e69d-4657-a90c-6b76a70cd1db\",\"type\":\"ResetTool\"},{\"attributes\":{\"line_alpha\":0.6,\"line_color\":\"#377eb8\",\"line_dash\":[6],\"line_width\":5,\"x\":{\"field\":\"x\"},\"y\":{\"field\":\"y\"}},\"id\":\"3a8876d5-fa08-4fd7-add8-81e7810edb64\",\"type\":\"Line\"},{\"attributes\":{},\"id\":\"e17a4908-42c7-496d-955c-3175f959a6e9\",\"type\":\"Selection\"},{\"attributes\":{},\"id\":\"f219d216-389c-4baf-a9e4-76e55bafdb9c\",\"type\":\"HelpTool\"},{\"attributes\":{},\"id\":\"3ccddacc-fb11-487a-9c2e-4183b06bc185\",\"type\":\"ResetTool\"},{\"attributes\":{},\"id\":\"f3116782-7b9d-459b-a023-0d81bf99fb80\",\"type\":\"Selection\"},{\"attributes\":{\"source\":{\"id\":\"3f176522-73de-483f-be2e-ec74d8290413\",\"type\":\"ColumnDataSource\"}},\"id\":\"e0eb2ad3-8859-49c5-a0c4-a74e384f15e4\",\"type\":\"CDSView\"},{\"attributes\":{},\"id\":\"50d28bc8-807a-441c-ae2f-bd888e67d563\",\"type\":\"LogScale\"},{\"attributes\":{},\"id\":\"223f7b27-1336-4427-b3d3-f9420858e3d8\",\"type\":\"BasicTicker\"},{\"attributes\":{\"fill_alpha\":{\"value\":0.1},\"fill_color\":{\"value\":\"#1f77b4\"},\"line_alpha\":{\"value\":0.1},\"line_color\":{\"value\":\"#1f77b4\"},\"x\":{\"field\":\"x\"},\"y\":{\"field\":\"y\"}},\"id\":\"e74d0a85-29f6-46bc-8efb-a432df4adf2d\",\"type\":\"Circle\"},{\"attributes\":{\"plot\":{\"id\":\"77c7c7fe-4119-4d03-8828-6c638988b0c9\",\"subtype\":\"Figure\",\"type\":\"Plot\"},\"ticker\":{\"id\":\"223f7b27-1336-4427-b3d3-f9420858e3d8\",\"type\":\"BasicTicker\"}},\"id\":\"1dfe2555-ce8b-4cdf-be1b-d6540933bd07\",\"type\":\"Grid\"},{\"attributes\":{\"callback\":null,\"end\":49.853256482072084,\"start\":-160.03701925482034},\"id\":\"06e37dac-8982-4fe1-a058-a098e0c68a77\",\"type\":\"Range1d\"},{\"attributes\":{\"label\":{\"value\":\"CLIRAD (single-run)\"},\"renderers\":[{\"id\":\"639e9856-27cf-4903-9224-9b79a0ea2b67\",\"type\":\"GlyphRenderer\"}]},\"id\":\"ef4b17ea-b63e-45ff-8afa-6812adc4f4b8\",\"type\":\"LegendItem\"},{\"attributes\":{},\"id\":\"e5aacb5b-9a26-49be-9d6e-a358be6aa197\",\"type\":\"UnionRenderers\"},{\"attributes\":{\"axis_label\":\"pressure [mb]\",\"formatter\":{\"id\":\"4b202775-31bb-471c-bb6d-8c830487f16b\",\"type\":\"LogTickFormatter\"},\"plot\":{\"id\":\"77c7c7fe-4119-4d03-8828-6c638988b0c9\",\"subtype\":\"Figure\",\"type\":\"Plot\"},\"ticker\":{\"id\":\"1d0fecea-faab-4e6b-8d12-f81bb2bf94ac\",\"type\":\"LogTicker\"}},\"id\":\"0d81392f-8bb0-4376-b955-0407b45e45f9\",\"type\":\"LogAxis\"},{\"attributes\":{\"dimension\":1,\"plot\":{\"id\":\"77c7c7fe-4119-4d03-8828-6c638988b0c9\",\"subtype\":\"Figure\",\"type\":\"Plot\"},\"ticker\":{\"id\":\"1d0fecea-faab-4e6b-8d12-f81bb2bf94ac\",\"type\":\"LogTicker\"}},\"id\":\"b3c144c8-dbdc-4d3e-98f5-64c0769fd0c1\",\"type\":\"Grid\"},{\"attributes\":{\"source\":{\"id\":\"fd4c0c04-cbe3-45ff-8cdf-32c3cf09f65c\",\"type\":\"ColumnDataSource\"}},\"id\":\"8b66b6df-5d5c-461b-bf52-5d2ef488a738\",\"type\":\"CDSView\"},{\"attributes\":{\"items\":[{\"id\":\"2ce85abd-817d-4dde-b07d-ee64315e5388\",\"type\":\"LegendItem\"}],\"label_text_font_size\":{\"value\":\"8pt\"},\"location\":\"top_center\",\"orientation\":\"horizontal\",\"plot\":{\"id\":\"77c7c7fe-4119-4d03-8828-6c638988b0c9\",\"subtype\":\"Figure\",\"type\":\"Plot\"}},\"id\":\"f535d996-7c35-4e60-a610-989e8866a0bc\",\"type\":\"Legend\"},{\"attributes\":{\"active_drag\":\"auto\",\"active_inspect\":\"auto\",\"active_scroll\":\"auto\",\"active_tap\":\"auto\",\"tools\":[{\"id\":\"5adb3def-aa75-4efb-b444-c321a9fce0e0\",\"type\":\"PanTool\"},{\"id\":\"4aa0bb3e-945f-42cf-8a34-897d635a0af9\",\"type\":\"WheelZoomTool\"},{\"id\":\"46931cb4-b5ac-4a22-a7bc-f5838be0bfb0\",\"type\":\"BoxZoomTool\"},{\"id\":\"b1dade60-8b73-4f56-957b-63b4563768f7\",\"type\":\"SaveTool\"},{\"id\":\"3ccddacc-fb11-487a-9c2e-4183b06bc185\",\"type\":\"ResetTool\"},{\"id\":\"045b89d8-c9ae-430a-b736-b9771d908c45\",\"type\":\"HelpTool\"}]},\"id\":\"b1b09d52-9d8a-47b3-a12d-ec1e257006ff\",\"type\":\"Toolbar\"},{\"attributes\":{\"axis_label\":\"cooling rate [K/day]\",\"formatter\":{\"id\":\"b6e9b7fd-12f9-4604-9f18-dd162fc90b73\",\"type\":\"BasicTickFormatter\"},\"plot\":{\"id\":\"68068395-283f-4f78-8dbb-da52523b1323\",\"subtype\":\"Figure\",\"type\":\"Plot\"},\"ticker\":{\"id\":\"7dfaae56-65a8-453e-8f9a-1e31a1e03768\",\"type\":\"BasicTicker\"}},\"id\":\"5db8dc8c-4428-4bea-84b9-1a380d408ff1\",\"type\":\"LinearAxis\"},{\"attributes\":{},\"id\":\"80638861-551a-43c8-beeb-514383e2a2af\",\"type\":\"WheelZoomTool\"},{\"attributes\":{\"callback\":null,\"end\":0.01,\"start\":1020},\"id\":\"92ed335f-0ab9-4992-8d73-d0d4e179bf6d\",\"type\":\"Range1d\"},{\"attributes\":{\"num_minor_ticks\":10},\"id\":\"1d0fecea-faab-4e6b-8d12-f81bb2bf94ac\",\"type\":\"LogTicker\"},{\"attributes\":{\"axis_label\":\"cooling rate [K/day]\",\"formatter\":{\"id\":\"9616c80c-d169-4790-bef2-18ebddf9ca8e\",\"type\":\"BasicTickFormatter\"},\"plot\":{\"id\":\"77c7c7fe-4119-4d03-8828-6c638988b0c9\",\"subtype\":\"Figure\",\"type\":\"Plot\"},\"ticker\":{\"id\":\"223f7b27-1336-4427-b3d3-f9420858e3d8\",\"type\":\"BasicTicker\"}},\"id\":\"f8f428c7-4845-46ee-9a29-7a30b03ca34c\",\"type\":\"LinearAxis\"},{\"attributes\":{\"data_source\":{\"id\":\"fd4c0c04-cbe3-45ff-8cdf-32c3cf09f65c\",\"type\":\"ColumnDataSource\"},\"glyph\":{\"id\":\"dc52e432-4a29-44f0-be58-a673ec94c1cc\",\"type\":\"Circle\"},\"hover_glyph\":null,\"muted_glyph\":null,\"nonselection_glyph\":{\"id\":\"0ed683ab-e1e6-470a-8747-bfda21d21ab5\",\"type\":\"Circle\"},\"selection_glyph\":null,\"view\":{\"id\":\"8b66b6df-5d5c-461b-bf52-5d2ef488a738\",\"type\":\"CDSView\"}},\"id\":\"46dc1ebd-8738-4624-b261-04f1b61b1f68\",\"type\":\"GlyphRenderer\"},{\"attributes\":{\"line_alpha\":0.1,\"line_color\":\"#1f77b4\",\"line_dash\":[6],\"line_width\":5,\"x\":{\"field\":\"x\"},\"y\":{\"field\":\"y\"}},\"id\":\"fb0d4c5a-a37c-4c6f-8640-113fdb883dc2\",\"type\":\"Line\"},{\"attributes\":{},\"id\":\"b6e9b7fd-12f9-4604-9f18-dd162fc90b73\",\"type\":\"BasicTickFormatter\"},{\"attributes\":{},\"id\":\"b29e7aab-cb64-4621-93c5-e1d00b73c86c\",\"type\":\"LinearScale\"},{\"attributes\":{},\"id\":\"d948c2db-8b85-4ca9-a305-6e0f2d84d87c\",\"type\":\"LinearScale\"}],\"root_ids\":[\"671eb711-cfbf-4ff5-8583-2786dd2cd94d\"]},\"title\":\"Bokeh Application\",\"version\":\"0.12.16\"}};\n",
       "  var render_items = [{\"docid\":\"9b3c3a4e-e337-44c9-bcd1-9f9f54cdfd3d\",\"elementid\":\"9af151f0-772e-45dc-b1d8-527d542bdcb6\",\"modelid\":\"671eb711-cfbf-4ff5-8583-2786dd2cd94d\"}];\n",
       "  root.Bokeh.embed.embed_items_notebook(docs_json, render_items);\n",
       "\n",
       "  }\n",
       "  if (root.Bokeh !== undefined) {\n",
       "    embed_document(root);\n",
       "  } else {\n",
       "    var attempts = 0;\n",
       "    var timer = setInterval(function(root) {\n",
       "      if (root.Bokeh !== undefined) {\n",
       "        embed_document(root);\n",
       "        clearInterval(timer);\n",
       "      }\n",
       "      attempts++;\n",
       "      if (attempts > 100) {\n",
       "        console.log(\"Bokeh: ERROR: Unable to run BokehJS code because BokehJS library is missing\")\n",
       "        clearInterval(timer);\n",
       "      }\n",
       "    }, 10, root)\n",
       "  }\n",
       "})(window);"
      ],
      "application/vnd.bokehjs_exec.v0+json": ""
     },
     "metadata": {
      "application/vnd.bokehjs_exec.v0+json": {
       "id": "671eb711-cfbf-4ff5-8583-2786dd2cd94d"
      }
     },
     "output_type": "display_data"
    },
    {
     "data": {
      "text/markdown": [
       "*FIGURE.* Cooling rates & difference."
      ],
      "text/plain": [
       "<IPython.core.display.Markdown object>"
      ]
     },
     "metadata": {},
     "output_type": "display_data"
    },
    {
     "data": {
      "text/html": [
       "<a id=\"Fluxes._trp.\"></a>"
      ],
      "text/plain": [
       "<IPython.core.display.HTML object>"
      ]
     },
     "metadata": {},
     "output_type": "display_data"
    },
    {
     "data": {
      "text/markdown": [
       "# Fluxes. trp."
      ],
      "text/plain": [
       "<IPython.core.display.Markdown object>"
      ]
     },
     "metadata": {},
     "output_type": "display_data"
    },
    {
     "data": {
      "text/html": [
       "\n",
       "<div class=\"bk-root\">\n",
       "    <div class=\"bk-plotdiv\" id=\"4eb60e6e-4d3f-4a0b-a68a-229d7a65954f\"></div>\n",
       "</div>"
      ]
     },
     "metadata": {},
     "output_type": "display_data"
    },
    {
     "data": {
      "application/javascript": [
       "(function(root) {\n",
       "  function embed_document(root) {\n",
       "    \n",
       "  var docs_json = {\"5a920e4e-a0ed-46d4-9402-84c9736a7233\":{\"roots\":{\"references\":[{\"attributes\":{},\"id\":\"612367b7-a293-49e2-9cd4-660abcfc0da8\",\"type\":\"WheelZoomTool\"},{\"attributes\":{\"axis_label\":\"flux (W m-2)\",\"formatter\":{\"id\":\"bc3a8c60-0d2d-4861-a7da-d1237c540a9a\",\"type\":\"BasicTickFormatter\"},\"plot\":{\"id\":\"c4b39d45-6865-4430-ad50-1474b3e4496d\",\"subtype\":\"Figure\",\"type\":\"Plot\"},\"ticker\":{\"id\":\"7578ae99-771a-4244-84fd-2d0dacce924a\",\"type\":\"BasicTicker\"}},\"id\":\"d03d4498-2579-4fcb-ab26-24e812d0f7ff\",\"type\":\"LinearAxis\"},{\"attributes\":{\"callback\":null},\"id\":\"62d610ce-9cf4-4273-a177-ba75e92e0d9a\",\"type\":\"DataRange1d\"},{\"attributes\":{\"overlay\":{\"id\":\"789079cd-7a0e-4cb3-8e9a-a31c9730974b\",\"type\":\"BoxAnnotation\"}},\"id\":\"4ef2b4d2-211e-42e9-be7a-df717e7a96be\",\"type\":\"BoxZoomTool\"},{\"attributes\":{\"callback\":null,\"factors\":[\"1\",\"2\",\"3\",\"4\",\"5\",\"6\",\"7\",\"8\",\"9\",\"10\",\"11\"]},\"id\":\"cd57b3ea-b08f-467c-842f-0df39162d572\",\"type\":\"FactorRange\"},{\"attributes\":{\"callback\":null,\"data\":{\"band\":[\"1\",\"2\",\"3\",\"4\",\"5\",\"6\",\"7\",\"8\",\"9\",\"10\",\"11\"],\"flux\":{\"__ndarray__\":\"AADADkbs874Ak+S5vg/QPwANMzSeCMq/ABTRr62frj8A8Z2Y9WLjP6As7j8yHd0/gB2NQ/0usj+4401+i2QxQEChurn429E/AFDtmpDWiD8AO3arQl6wPw==\",\"dtype\":\"float64\",\"shape\":[11]}},\"selected\":{\"id\":\"d052b539-2c0f-4eda-890c-f72e8afe2f15\",\"type\":\"Selection\"},\"selection_policy\":{\"id\":\"3b0cd829-38ff-498d-bad9-d065b8d8665e\",\"type\":\"UnionRenderers\"}},\"id\":\"6f013296-19ce-4237-bb95-b44730d70d28\",\"type\":\"ColumnDataSource\"},{\"attributes\":{\"plot\":null,\"text\":\"Atmosphere heating. CLIRAD (single-run) - CRD.\"},\"id\":\"e9e20eb7-818c-49e7-ac19-a017f673e8fb\",\"type\":\"Title\"},{\"attributes\":{},\"id\":\"e2789709-5431-4277-9e8d-9f7950364d3c\",\"type\":\"CategoricalScale\"},{\"attributes\":{},\"id\":\"ed647dab-6604-4910-8d49-919d9ca3b8e3\",\"type\":\"CategoricalTickFormatter\"},{\"attributes\":{\"axis_label\":\"spectral band\",\"formatter\":{\"id\":\"ed647dab-6604-4910-8d49-919d9ca3b8e3\",\"type\":\"CategoricalTickFormatter\"},\"plot\":{\"id\":\"cd8431b0-9145-45cb-9ea0-e58a1398bf23\",\"subtype\":\"Figure\",\"type\":\"Plot\"},\"ticker\":{\"id\":\"73167a32-b3ee-46b5-83d8-e06a0a337966\",\"type\":\"CategoricalTicker\"}},\"id\":\"2ca44048-924d-490f-bf96-02c56928d40f\",\"type\":\"CategoricalAxis\"},{\"attributes\":{\"toolbar\":{\"id\":\"72e06615-93d1-4e0f-b436-a9127d54a8a5\",\"type\":\"ProxyToolbar\"},\"toolbar_location\":\"above\"},\"id\":\"179480cd-bbd1-459a-aeba-f044fd7e4700\",\"type\":\"ToolbarBox\"},{\"attributes\":{\"dimension\":1,\"plot\":{\"id\":\"cd8431b0-9145-45cb-9ea0-e58a1398bf23\",\"subtype\":\"Figure\",\"type\":\"Plot\"},\"ticker\":{\"id\":\"2c60cab1-3453-4bc9-9d47-3979d3f2a677\",\"type\":\"BasicTicker\"}},\"id\":\"0c227485-08ab-40e1-9be0-ef8e272cb9aa\",\"type\":\"Grid\"},{\"attributes\":{},\"id\":\"69e16610-8678-457f-b40e-f92773b2ff82\",\"type\":\"CategoricalTickFormatter\"},{\"attributes\":{},\"id\":\"73167a32-b3ee-46b5-83d8-e06a0a337966\",\"type\":\"CategoricalTicker\"},{\"attributes\":{},\"id\":\"d9174bb2-9a56-4c36-aaf8-7de9c9293d62\",\"type\":\"ResetTool\"},{\"attributes\":{},\"id\":\"d7dfcfc0-b758-4ca4-b879-cb0cc96074e1\",\"type\":\"ResetTool\"},{\"attributes\":{\"active_drag\":\"auto\",\"active_inspect\":\"auto\",\"active_scroll\":\"auto\",\"active_tap\":\"auto\",\"tools\":[{\"id\":\"c531b410-3de2-42da-99fd-6cd6ad137942\",\"type\":\"PanTool\"},{\"id\":\"16fc6e1e-c63b-4b59-b985-dba9f37f82d2\",\"type\":\"WheelZoomTool\"},{\"id\":\"c7e6dfc3-f8ed-4d3a-a8d6-466435c6d89f\",\"type\":\"BoxZoomTool\"},{\"id\":\"30c5acd7-0d92-45a5-867c-4b6a7f6408ac\",\"type\":\"SaveTool\"},{\"id\":\"d7dfcfc0-b758-4ca4-b879-cb0cc96074e1\",\"type\":\"ResetTool\"},{\"id\":\"f550a412-add2-4425-ae68-ad9fa6e77f56\",\"type\":\"HelpTool\"}]},\"id\":\"98149416-e408-4b64-81e6-6c8efeb69f09\",\"type\":\"Toolbar\"},{\"attributes\":{\"bottom_units\":\"screen\",\"fill_alpha\":{\"value\":0.5},\"fill_color\":{\"value\":\"lightgrey\"},\"left_units\":\"screen\",\"level\":\"overlay\",\"line_alpha\":{\"value\":1.0},\"line_color\":{\"value\":\"black\"},\"line_dash\":[4,4],\"line_width\":{\"value\":2},\"plot\":null,\"render_mode\":\"css\",\"right_units\":\"screen\",\"top_units\":\"screen\"},\"id\":\"789079cd-7a0e-4cb3-8e9a-a31c9730974b\",\"type\":\"BoxAnnotation\"},{\"attributes\":{\"plot\":{\"id\":\"c4b39d45-6865-4430-ad50-1474b3e4496d\",\"subtype\":\"Figure\",\"type\":\"Plot\"},\"ticker\":{\"id\":\"e1dde2cd-fc05-4d7a-895c-677883db3bd5\",\"type\":\"CategoricalTicker\"}},\"id\":\"a2d3ab83-273e-41bf-83e0-82cc533099f5\",\"type\":\"Grid\"},{\"attributes\":{},\"id\":\"efcdc96b-0a8d-418b-ad04-03dfd01ea2b9\",\"type\":\"CategoricalTickFormatter\"},{\"attributes\":{},\"id\":\"2c60cab1-3453-4bc9-9d47-3979d3f2a677\",\"type\":\"BasicTicker\"},{\"attributes\":{\"plot\":null,\"text\":\"SFC flux. CLIRAD (single-run) - CRD.\"},\"id\":\"b8dadea8-7e56-4644-b116-4b1f1395d641\",\"type\":\"Title\"},{\"attributes\":{\"data_source\":{\"id\":\"0a62fa76-3aff-4a93-832f-a94eea8f7a40\",\"type\":\"ColumnDataSource\"},\"glyph\":{\"id\":\"0feacd3a-08d4-40c8-b045-2b82709df240\",\"type\":\"VBar\"},\"hover_glyph\":null,\"muted_glyph\":null,\"nonselection_glyph\":{\"id\":\"468cb6b0-319f-4f5f-815c-50067b01b333\",\"type\":\"VBar\"},\"selection_glyph\":null,\"view\":{\"id\":\"d4ef3989-6897-48f9-ab07-e1b5669a62a0\",\"type\":\"CDSView\"}},\"id\":\"d0bcab31-e549-413d-8cdb-750b5e7000b2\",\"type\":\"GlyphRenderer\"},{\"attributes\":{},\"id\":\"9bec6f4e-d37c-48de-92b2-bb3669af9831\",\"type\":\"BasicTickFormatter\"},{\"attributes\":{},\"id\":\"a571cce3-a081-47eb-a1b9-e329e4de31f0\",\"type\":\"PanTool\"},{\"attributes\":{\"dimension\":1,\"plot\":{\"id\":\"fc48c794-1469-4d7b-bf92-722fc62df377\",\"subtype\":\"Figure\",\"type\":\"Plot\"},\"ticker\":{\"id\":\"40c5dc96-a4f5-4b3e-820d-07fd421a9de2\",\"type\":\"BasicTicker\"}},\"id\":\"32b43634-cc87-49e4-b793-55e1638521ab\",\"type\":\"Grid\"},{\"attributes\":{\"children\":[{\"id\":\"fc48c794-1469-4d7b-bf92-722fc62df377\",\"subtype\":\"Figure\",\"type\":\"Plot\"},{\"id\":\"cd8431b0-9145-45cb-9ea0-e58a1398bf23\",\"subtype\":\"Figure\",\"type\":\"Plot\"},{\"id\":\"c4b39d45-6865-4430-ad50-1474b3e4496d\",\"subtype\":\"Figure\",\"type\":\"Plot\"}]},\"id\":\"51cddace-d59f-4d83-be83-01da50e1787e\",\"type\":\"Row\"},{\"attributes\":{},\"id\":\"e1dde2cd-fc05-4d7a-895c-677883db3bd5\",\"type\":\"CategoricalTicker\"},{\"attributes\":{},\"id\":\"1d38d23a-a18f-4007-a650-2cdded9ba756\",\"type\":\"CategoricalScale\"},{\"attributes\":{},\"id\":\"bff63793-ce8a-49f8-b73f-2d964902f851\",\"type\":\"UnionRenderers\"},{\"attributes\":{},\"id\":\"f550a412-add2-4425-ae68-ad9fa6e77f56\",\"type\":\"HelpTool\"},{\"attributes\":{},\"id\":\"84435944-54fa-4c4e-9068-7d1d993edcbb\",\"type\":\"Selection\"},{\"attributes\":{},\"id\":\"40c5dc96-a4f5-4b3e-820d-07fd421a9de2\",\"type\":\"BasicTicker\"},{\"attributes\":{},\"id\":\"b6c88747-b7c4-4f24-8fa0-26de0cdcbc07\",\"type\":\"LinearScale\"},{\"attributes\":{\"fill_color\":{\"value\":\"#1f77b4\"},\"line_color\":{\"value\":\"#1f77b4\"},\"top\":{\"field\":\"flux\"},\"width\":{\"value\":0.9},\"x\":{\"field\":\"band\"}},\"id\":\"8a676742-17c2-4764-beef-6dd64634915b\",\"type\":\"VBar\"},{\"attributes\":{\"overlay\":{\"id\":\"88a494b8-22e6-4bf9-87d4-e9bb018a2be3\",\"type\":\"BoxAnnotation\"}},\"id\":\"e4450db7-ef18-43fe-90a2-b43eef3d92a2\",\"type\":\"BoxZoomTool\"},{\"attributes\":{\"bottom_units\":\"screen\",\"fill_alpha\":{\"value\":0.5},\"fill_color\":{\"value\":\"lightgrey\"},\"left_units\":\"screen\",\"level\":\"overlay\",\"line_alpha\":{\"value\":1.0},\"line_color\":{\"value\":\"black\"},\"line_dash\":[4,4],\"line_width\":{\"value\":2},\"plot\":null,\"render_mode\":\"css\",\"right_units\":\"screen\",\"top_units\":\"screen\"},\"id\":\"bcedad81-2057-4233-a30e-0d3509236611\",\"type\":\"BoxAnnotation\"},{\"attributes\":{},\"id\":\"2c8a37df-67df-4c71-ae22-4b755f7b89d5\",\"type\":\"BasicTickFormatter\"},{\"attributes\":{\"plot\":{\"id\":\"cd8431b0-9145-45cb-9ea0-e58a1398bf23\",\"subtype\":\"Figure\",\"type\":\"Plot\"},\"ticker\":{\"id\":\"73167a32-b3ee-46b5-83d8-e06a0a337966\",\"type\":\"CategoricalTicker\"}},\"id\":\"bc1a9499-6b08-40bc-bc8b-16c843eb0f63\",\"type\":\"Grid\"},{\"attributes\":{\"overlay\":{\"id\":\"bcedad81-2057-4233-a30e-0d3509236611\",\"type\":\"BoxAnnotation\"}},\"id\":\"c7e6dfc3-f8ed-4d3a-a8d6-466435c6d89f\",\"type\":\"BoxZoomTool\"},{\"attributes\":{},\"id\":\"e528a5b8-0a96-4cfb-bdcd-f0a74b23681a\",\"type\":\"ResetTool\"},{\"attributes\":{},\"id\":\"c531b410-3de2-42da-99fd-6cd6ad137942\",\"type\":\"PanTool\"},{\"attributes\":{\"callback\":null,\"data\":{\"band\":[\"1\",\"2\",\"3\",\"4\",\"5\",\"6\",\"7\",\"8\",\"9\",\"10\",\"11\"],\"flux\":{\"__ndarray__\":\"AMHG9e/6yj8ARFVMpZ/UP8A1I4PcRdO/wKT4+ITs4T8A9+Y3TDTUPwDo9SfxuaO/gPm7d9SYzj+hSQeQRl41QAAu4dBbPJw/4PGprSLtwT+A9UyK6gi9Pw==\",\"dtype\":\"float64\",\"shape\":[11]}},\"selected\":{\"id\":\"84435944-54fa-4c4e-9068-7d1d993edcbb\",\"type\":\"Selection\"},\"selection_policy\":{\"id\":\"bff63793-ce8a-49f8-b73f-2d964902f851\",\"type\":\"UnionRenderers\"}},\"id\":\"60a8d1bf-760c-456e-95da-83031630a7d2\",\"type\":\"ColumnDataSource\"},{\"attributes\":{\"callback\":null,\"data\":{\"band\":[\"1\",\"2\",\"3\",\"4\",\"5\",\"6\",\"7\",\"8\",\"9\",\"10\",\"11\"],\"flux\":{\"__ndarray__\":\"AID6S2L7yj8AhLZzzD+yPwC8gsh9Brm/ABW46Y0C4D8gA5fHmpHSvwDp7GRwlN+/gOE/3UCBxT8E45y1NJ0ZQEC4FKEiGNC/wG+hI6BfwD9Ab6jOWVWpPw==\",\"dtype\":\"float64\",\"shape\":[11]}},\"selected\":{\"id\":\"e25ebcae-cfb6-4d63-b1d8-9578d26fd701\",\"type\":\"Selection\"},\"selection_policy\":{\"id\":\"f63374d2-29dc-4fd7-b85e-6ff706ef8933\",\"type\":\"UnionRenderers\"}},\"id\":\"0a62fa76-3aff-4a93-832f-a94eea8f7a40\",\"type\":\"ColumnDataSource\"},{\"attributes\":{},\"id\":\"16fc6e1e-c63b-4b59-b985-dba9f37f82d2\",\"type\":\"WheelZoomTool\"},{\"attributes\":{\"data_source\":{\"id\":\"6f013296-19ce-4237-bb95-b44730d70d28\",\"type\":\"ColumnDataSource\"},\"glyph\":{\"id\":\"8a676742-17c2-4764-beef-6dd64634915b\",\"type\":\"VBar\"},\"hover_glyph\":null,\"muted_glyph\":null,\"nonselection_glyph\":{\"id\":\"e45ae290-c995-4db1-8425-160613168a3e\",\"type\":\"VBar\"},\"selection_glyph\":null,\"view\":{\"id\":\"47e5e4c5-7d7a-4bec-a582-1100b2013809\",\"type\":\"CDSView\"}},\"id\":\"940ebe4c-5613-42f9-a856-ff74db6700d5\",\"type\":\"GlyphRenderer\"},{\"attributes\":{\"dimension\":1,\"plot\":{\"id\":\"c4b39d45-6865-4430-ad50-1474b3e4496d\",\"subtype\":\"Figure\",\"type\":\"Plot\"},\"ticker\":{\"id\":\"7578ae99-771a-4244-84fd-2d0dacce924a\",\"type\":\"BasicTicker\"}},\"id\":\"ba182980-b637-4c4f-8468-0b0a98f9a4db\",\"type\":\"Grid\"},{\"attributes\":{},\"id\":\"08137abe-211a-4864-864a-47ab630723ef\",\"type\":\"SaveTool\"},{\"attributes\":{\"callback\":null},\"id\":\"02fa425d-d206-4f06-90a8-25f44398002a\",\"type\":\"DataRange1d\"},{\"attributes\":{\"axis_label\":\"spectral band\",\"formatter\":{\"id\":\"efcdc96b-0a8d-418b-ad04-03dfd01ea2b9\",\"type\":\"CategoricalTickFormatter\"},\"plot\":{\"id\":\"c4b39d45-6865-4430-ad50-1474b3e4496d\",\"subtype\":\"Figure\",\"type\":\"Plot\"},\"ticker\":{\"id\":\"e1dde2cd-fc05-4d7a-895c-677883db3bd5\",\"type\":\"CategoricalTicker\"}},\"id\":\"91cfb449-1fc8-47eb-a284-bcbf018833be\",\"type\":\"CategoricalAxis\"},{\"attributes\":{\"callback\":null,\"factors\":[\"1\",\"2\",\"3\",\"4\",\"5\",\"6\",\"7\",\"8\",\"9\",\"10\",\"11\"]},\"id\":\"344f975a-5187-4da0-b8c9-4d03d7f7bee9\",\"type\":\"FactorRange\"},{\"attributes\":{\"fill_color\":{\"value\":\"#1f77b4\"},\"line_color\":{\"value\":\"#1f77b4\"},\"top\":{\"field\":\"flux\"},\"width\":{\"value\":0.9},\"x\":{\"field\":\"band\"}},\"id\":\"0feacd3a-08d4-40c8-b045-2b82709df240\",\"type\":\"VBar\"},{\"attributes\":{\"active_drag\":\"auto\",\"active_inspect\":\"auto\",\"active_scroll\":\"auto\",\"active_tap\":\"auto\",\"tools\":[{\"id\":\"62420763-67b7-485a-a665-2172cc54cc19\",\"type\":\"PanTool\"},{\"id\":\"b8da95a2-4f14-42fa-bc8d-52e165aacee8\",\"type\":\"WheelZoomTool\"},{\"id\":\"4ef2b4d2-211e-42e9-be7a-df717e7a96be\",\"type\":\"BoxZoomTool\"},{\"id\":\"08137abe-211a-4864-864a-47ab630723ef\",\"type\":\"SaveTool\"},{\"id\":\"e528a5b8-0a96-4cfb-bdcd-f0a74b23681a\",\"type\":\"ResetTool\"},{\"id\":\"199c1866-eaac-441a-9281-15e220015b55\",\"type\":\"HelpTool\"}]},\"id\":\"4eb2dcf7-4bae-4b23-9d6f-578406c8a7aa\",\"type\":\"Toolbar\"},{\"attributes\":{},\"id\":\"e25ebcae-cfb6-4d63-b1d8-9578d26fd701\",\"type\":\"Selection\"},{\"attributes\":{\"bottom_units\":\"screen\",\"fill_alpha\":{\"value\":0.5},\"fill_color\":{\"value\":\"lightgrey\"},\"left_units\":\"screen\",\"level\":\"overlay\",\"line_alpha\":{\"value\":1.0},\"line_color\":{\"value\":\"black\"},\"line_dash\":[4,4],\"line_width\":{\"value\":2},\"plot\":null,\"render_mode\":\"css\",\"right_units\":\"screen\",\"top_units\":\"screen\"},\"id\":\"88a494b8-22e6-4bf9-87d4-e9bb018a2be3\",\"type\":\"BoxAnnotation\"},{\"attributes\":{\"axis_label\":\"flux (W m-2)\",\"formatter\":{\"id\":\"9bec6f4e-d37c-48de-92b2-bb3669af9831\",\"type\":\"BasicTickFormatter\"},\"plot\":{\"id\":\"cd8431b0-9145-45cb-9ea0-e58a1398bf23\",\"subtype\":\"Figure\",\"type\":\"Plot\"},\"ticker\":{\"id\":\"2c60cab1-3453-4bc9-9d47-3979d3f2a677\",\"type\":\"BasicTicker\"}},\"id\":\"f5a9e3ee-33cf-4b03-a85f-51b86b8f22fa\",\"type\":\"LinearAxis\"},{\"attributes\":{\"source\":{\"id\":\"6f013296-19ce-4237-bb95-b44730d70d28\",\"type\":\"ColumnDataSource\"}},\"id\":\"47e5e4c5-7d7a-4bec-a582-1100b2013809\",\"type\":\"CDSView\"},{\"attributes\":{},\"id\":\"199c1866-eaac-441a-9281-15e220015b55\",\"type\":\"HelpTool\"},{\"attributes\":{\"children\":[{\"id\":\"51cddace-d59f-4d83-be83-01da50e1787e\",\"type\":\"Row\"}]},\"id\":\"beace3eb-f409-41a1-adbe-deb52bf61668\",\"type\":\"Column\"},{\"attributes\":{\"below\":[{\"id\":\"91cfb449-1fc8-47eb-a284-bcbf018833be\",\"type\":\"CategoricalAxis\"}],\"left\":[{\"id\":\"d03d4498-2579-4fcb-ab26-24e812d0f7ff\",\"type\":\"LinearAxis\"}],\"plot_height\":300,\"plot_width\":300,\"renderers\":[{\"id\":\"91cfb449-1fc8-47eb-a284-bcbf018833be\",\"type\":\"CategoricalAxis\"},{\"id\":\"a2d3ab83-273e-41bf-83e0-82cc533099f5\",\"type\":\"Grid\"},{\"id\":\"d03d4498-2579-4fcb-ab26-24e812d0f7ff\",\"type\":\"LinearAxis\"},{\"id\":\"ba182980-b637-4c4f-8468-0b0a98f9a4db\",\"type\":\"Grid\"},{\"id\":\"789079cd-7a0e-4cb3-8e9a-a31c9730974b\",\"type\":\"BoxAnnotation\"},{\"id\":\"d0bcab31-e549-413d-8cdb-750b5e7000b2\",\"type\":\"GlyphRenderer\"}],\"title\":{\"id\":\"e9e20eb7-818c-49e7-ac19-a017f673e8fb\",\"type\":\"Title\"},\"toolbar\":{\"id\":\"4eb2dcf7-4bae-4b23-9d6f-578406c8a7aa\",\"type\":\"Toolbar\"},\"toolbar_location\":null,\"x_range\":{\"id\":\"cd57b3ea-b08f-467c-842f-0df39162d572\",\"type\":\"FactorRange\"},\"x_scale\":{\"id\":\"e2789709-5431-4277-9e8d-9f7950364d3c\",\"type\":\"CategoricalScale\"},\"y_range\":{\"id\":\"62d610ce-9cf4-4273-a177-ba75e92e0d9a\",\"type\":\"DataRange1d\"},\"y_scale\":{\"id\":\"b6c88747-b7c4-4f24-8fa0-26de0cdcbc07\",\"type\":\"LinearScale\"}},\"id\":\"c4b39d45-6865-4430-ad50-1474b3e4496d\",\"subtype\":\"Figure\",\"type\":\"Plot\"},{\"attributes\":{},\"id\":\"f0299999-3123-4de2-9e27-abe472c21937\",\"type\":\"LinearScale\"},{\"attributes\":{},\"id\":\"62420763-67b7-485a-a665-2172cc54cc19\",\"type\":\"PanTool\"},{\"attributes\":{\"fill_color\":{\"value\":\"#1f77b4\"},\"line_color\":{\"value\":\"#1f77b4\"},\"top\":{\"field\":\"flux\"},\"width\":{\"value\":0.9},\"x\":{\"field\":\"band\"}},\"id\":\"5e8502f5-3d65-4a91-82b4-485af5231a6d\",\"type\":\"VBar\"},{\"attributes\":{\"fill_alpha\":{\"value\":0.1},\"fill_color\":{\"value\":\"#1f77b4\"},\"line_alpha\":{\"value\":0.1},\"line_color\":{\"value\":\"#1f77b4\"},\"top\":{\"field\":\"flux\"},\"width\":{\"value\":0.9},\"x\":{\"field\":\"band\"}},\"id\":\"468cb6b0-319f-4f5f-815c-50067b01b333\",\"type\":\"VBar\"},{\"attributes\":{},\"id\":\"d052b539-2c0f-4eda-890c-f72e8afe2f15\",\"type\":\"Selection\"},{\"attributes\":{\"source\":{\"id\":\"0a62fa76-3aff-4a93-832f-a94eea8f7a40\",\"type\":\"ColumnDataSource\"}},\"id\":\"d4ef3989-6897-48f9-ab07-e1b5669a62a0\",\"type\":\"CDSView\"},{\"attributes\":{},\"id\":\"104743e3-dcec-4359-9ca4-f21ef603e1fa\",\"type\":\"SaveTool\"},{\"attributes\":{\"source\":{\"id\":\"60a8d1bf-760c-456e-95da-83031630a7d2\",\"type\":\"ColumnDataSource\"}},\"id\":\"5c0daf23-7673-47d6-8d57-628f7c051e01\",\"type\":\"CDSView\"},{\"attributes\":{},\"id\":\"b9fd8968-c21c-4d28-970e-55f00dcaa025\",\"type\":\"HelpTool\"},{\"attributes\":{},\"id\":\"30c5acd7-0d92-45a5-867c-4b6a7f6408ac\",\"type\":\"SaveTool\"},{\"attributes\":{},\"id\":\"3b0cd829-38ff-498d-bad9-d065b8d8665e\",\"type\":\"UnionRenderers\"},{\"attributes\":{},\"id\":\"b8da95a2-4f14-42fa-bc8d-52e165aacee8\",\"type\":\"WheelZoomTool\"},{\"attributes\":{},\"id\":\"7578ae99-771a-4244-84fd-2d0dacce924a\",\"type\":\"BasicTicker\"},{\"attributes\":{\"fill_alpha\":{\"value\":0.1},\"fill_color\":{\"value\":\"#1f77b4\"},\"line_alpha\":{\"value\":0.1},\"line_color\":{\"value\":\"#1f77b4\"},\"top\":{\"field\":\"flux\"},\"width\":{\"value\":0.9},\"x\":{\"field\":\"band\"}},\"id\":\"e45ae290-c995-4db1-8425-160613168a3e\",\"type\":\"VBar\"},{\"attributes\":{},\"id\":\"f63374d2-29dc-4fd7-b85e-6ff706ef8933\",\"type\":\"UnionRenderers\"},{\"attributes\":{\"plot\":null,\"text\":\"TOA flux. CLIRAD (single-run) - CRD.\"},\"id\":\"0f4fc6fd-7156-4fdb-b2d6-12a558900186\",\"type\":\"Title\"},{\"attributes\":{\"below\":[{\"id\":\"122e354f-2f1c-4fc6-a8f7-e6235c0de6f2\",\"type\":\"CategoricalAxis\"}],\"left\":[{\"id\":\"2567c611-df7b-45f9-9051-bbade6137f95\",\"type\":\"LinearAxis\"}],\"plot_height\":300,\"plot_width\":300,\"renderers\":[{\"id\":\"122e354f-2f1c-4fc6-a8f7-e6235c0de6f2\",\"type\":\"CategoricalAxis\"},{\"id\":\"b3ec58da-5bd2-4fc4-89bd-021e53da87b5\",\"type\":\"Grid\"},{\"id\":\"2567c611-df7b-45f9-9051-bbade6137f95\",\"type\":\"LinearAxis\"},{\"id\":\"32b43634-cc87-49e4-b793-55e1638521ab\",\"type\":\"Grid\"},{\"id\":\"88a494b8-22e6-4bf9-87d4-e9bb018a2be3\",\"type\":\"BoxAnnotation\"},{\"id\":\"e9db27a3-278d-47d5-8a19-d318fa5b7707\",\"type\":\"GlyphRenderer\"}],\"title\":{\"id\":\"0f4fc6fd-7156-4fdb-b2d6-12a558900186\",\"type\":\"Title\"},\"toolbar\":{\"id\":\"01948063-38cc-4487-ae66-9f21fdce4f34\",\"type\":\"Toolbar\"},\"toolbar_location\":null,\"x_range\":{\"id\":\"a5f54600-9b50-423c-83f4-c3cfd619ff5d\",\"type\":\"FactorRange\"},\"x_scale\":{\"id\":\"5606b919-f792-47a1-9fb7-3062ad47dace\",\"type\":\"CategoricalScale\"},\"y_range\":{\"id\":\"5154eeea-f927-4170-a15f-9c57efd80f71\",\"type\":\"DataRange1d\"},\"y_scale\":{\"id\":\"bb9b56e0-93e6-4fc0-b208-8c1e658bd70f\",\"type\":\"LinearScale\"}},\"id\":\"fc48c794-1469-4d7b-bf92-722fc62df377\",\"subtype\":\"Figure\",\"type\":\"Plot\"},{\"attributes\":{},\"id\":\"05f0d6ff-b283-4fcb-922f-eaa2e6882d79\",\"type\":\"CategoricalTicker\"},{\"attributes\":{},\"id\":\"bc3a8c60-0d2d-4861-a7da-d1237c540a9a\",\"type\":\"BasicTickFormatter\"},{\"attributes\":{\"tools\":[{\"id\":\"a571cce3-a081-47eb-a1b9-e329e4de31f0\",\"type\":\"PanTool\"},{\"id\":\"612367b7-a293-49e2-9cd4-660abcfc0da8\",\"type\":\"WheelZoomTool\"},{\"id\":\"e4450db7-ef18-43fe-90a2-b43eef3d92a2\",\"type\":\"BoxZoomTool\"},{\"id\":\"104743e3-dcec-4359-9ca4-f21ef603e1fa\",\"type\":\"SaveTool\"},{\"id\":\"d9174bb2-9a56-4c36-aaf8-7de9c9293d62\",\"type\":\"ResetTool\"},{\"id\":\"b9fd8968-c21c-4d28-970e-55f00dcaa025\",\"type\":\"HelpTool\"},{\"id\":\"c531b410-3de2-42da-99fd-6cd6ad137942\",\"type\":\"PanTool\"},{\"id\":\"16fc6e1e-c63b-4b59-b985-dba9f37f82d2\",\"type\":\"WheelZoomTool\"},{\"id\":\"c7e6dfc3-f8ed-4d3a-a8d6-466435c6d89f\",\"type\":\"BoxZoomTool\"},{\"id\":\"30c5acd7-0d92-45a5-867c-4b6a7f6408ac\",\"type\":\"SaveTool\"},{\"id\":\"d7dfcfc0-b758-4ca4-b879-cb0cc96074e1\",\"type\":\"ResetTool\"},{\"id\":\"f550a412-add2-4425-ae68-ad9fa6e77f56\",\"type\":\"HelpTool\"},{\"id\":\"62420763-67b7-485a-a665-2172cc54cc19\",\"type\":\"PanTool\"},{\"id\":\"b8da95a2-4f14-42fa-bc8d-52e165aacee8\",\"type\":\"WheelZoomTool\"},{\"id\":\"4ef2b4d2-211e-42e9-be7a-df717e7a96be\",\"type\":\"BoxZoomTool\"},{\"id\":\"08137abe-211a-4864-864a-47ab630723ef\",\"type\":\"SaveTool\"},{\"id\":\"e528a5b8-0a96-4cfb-bdcd-f0a74b23681a\",\"type\":\"ResetTool\"},{\"id\":\"199c1866-eaac-441a-9281-15e220015b55\",\"type\":\"HelpTool\"}]},\"id\":\"72e06615-93d1-4e0f-b436-a9127d54a8a5\",\"type\":\"ProxyToolbar\"},{\"attributes\":{\"callback\":null,\"factors\":[\"1\",\"2\",\"3\",\"4\",\"5\",\"6\",\"7\",\"8\",\"9\",\"10\",\"11\"]},\"id\":\"a5f54600-9b50-423c-83f4-c3cfd619ff5d\",\"type\":\"FactorRange\"},{\"attributes\":{\"axis_label\":\"spectral band\",\"formatter\":{\"id\":\"69e16610-8678-457f-b40e-f92773b2ff82\",\"type\":\"CategoricalTickFormatter\"},\"plot\":{\"id\":\"fc48c794-1469-4d7b-bf92-722fc62df377\",\"subtype\":\"Figure\",\"type\":\"Plot\"},\"ticker\":{\"id\":\"05f0d6ff-b283-4fcb-922f-eaa2e6882d79\",\"type\":\"CategoricalTicker\"}},\"id\":\"122e354f-2f1c-4fc6-a8f7-e6235c0de6f2\",\"type\":\"CategoricalAxis\"},{\"attributes\":{\"children\":[{\"id\":\"179480cd-bbd1-459a-aeba-f044fd7e4700\",\"type\":\"ToolbarBox\"},{\"id\":\"beace3eb-f409-41a1-adbe-deb52bf61668\",\"type\":\"Column\"}]},\"id\":\"d32b7360-e164-4f53-9b2f-d5b640de9d3f\",\"type\":\"Column\"},{\"attributes\":{},\"id\":\"5606b919-f792-47a1-9fb7-3062ad47dace\",\"type\":\"CategoricalScale\"},{\"attributes\":{\"below\":[{\"id\":\"2ca44048-924d-490f-bf96-02c56928d40f\",\"type\":\"CategoricalAxis\"}],\"left\":[{\"id\":\"f5a9e3ee-33cf-4b03-a85f-51b86b8f22fa\",\"type\":\"LinearAxis\"}],\"plot_height\":300,\"plot_width\":300,\"renderers\":[{\"id\":\"2ca44048-924d-490f-bf96-02c56928d40f\",\"type\":\"CategoricalAxis\"},{\"id\":\"bc1a9499-6b08-40bc-bc8b-16c843eb0f63\",\"type\":\"Grid\"},{\"id\":\"f5a9e3ee-33cf-4b03-a85f-51b86b8f22fa\",\"type\":\"LinearAxis\"},{\"id\":\"0c227485-08ab-40e1-9be0-ef8e272cb9aa\",\"type\":\"Grid\"},{\"id\":\"bcedad81-2057-4233-a30e-0d3509236611\",\"type\":\"BoxAnnotation\"},{\"id\":\"940ebe4c-5613-42f9-a856-ff74db6700d5\",\"type\":\"GlyphRenderer\"}],\"title\":{\"id\":\"b8dadea8-7e56-4644-b116-4b1f1395d641\",\"type\":\"Title\"},\"toolbar\":{\"id\":\"98149416-e408-4b64-81e6-6c8efeb69f09\",\"type\":\"Toolbar\"},\"toolbar_location\":null,\"x_range\":{\"id\":\"344f975a-5187-4da0-b8c9-4d03d7f7bee9\",\"type\":\"FactorRange\"},\"x_scale\":{\"id\":\"1d38d23a-a18f-4007-a650-2cdded9ba756\",\"type\":\"CategoricalScale\"},\"y_range\":{\"id\":\"02fa425d-d206-4f06-90a8-25f44398002a\",\"type\":\"DataRange1d\"},\"y_scale\":{\"id\":\"f0299999-3123-4de2-9e27-abe472c21937\",\"type\":\"LinearScale\"}},\"id\":\"cd8431b0-9145-45cb-9ea0-e58a1398bf23\",\"subtype\":\"Figure\",\"type\":\"Plot\"},{\"attributes\":{\"active_drag\":\"auto\",\"active_inspect\":\"auto\",\"active_scroll\":\"auto\",\"active_tap\":\"auto\",\"tools\":[{\"id\":\"a571cce3-a081-47eb-a1b9-e329e4de31f0\",\"type\":\"PanTool\"},{\"id\":\"612367b7-a293-49e2-9cd4-660abcfc0da8\",\"type\":\"WheelZoomTool\"},{\"id\":\"e4450db7-ef18-43fe-90a2-b43eef3d92a2\",\"type\":\"BoxZoomTool\"},{\"id\":\"104743e3-dcec-4359-9ca4-f21ef603e1fa\",\"type\":\"SaveTool\"},{\"id\":\"d9174bb2-9a56-4c36-aaf8-7de9c9293d62\",\"type\":\"ResetTool\"},{\"id\":\"b9fd8968-c21c-4d28-970e-55f00dcaa025\",\"type\":\"HelpTool\"}]},\"id\":\"01948063-38cc-4487-ae66-9f21fdce4f34\",\"type\":\"Toolbar\"},{\"attributes\":{\"plot\":{\"id\":\"fc48c794-1469-4d7b-bf92-722fc62df377\",\"subtype\":\"Figure\",\"type\":\"Plot\"},\"ticker\":{\"id\":\"05f0d6ff-b283-4fcb-922f-eaa2e6882d79\",\"type\":\"CategoricalTicker\"}},\"id\":\"b3ec58da-5bd2-4fc4-89bd-021e53da87b5\",\"type\":\"Grid\"},{\"attributes\":{},\"id\":\"bb9b56e0-93e6-4fc0-b208-8c1e658bd70f\",\"type\":\"LinearScale\"},{\"attributes\":{\"data_source\":{\"id\":\"60a8d1bf-760c-456e-95da-83031630a7d2\",\"type\":\"ColumnDataSource\"},\"glyph\":{\"id\":\"5e8502f5-3d65-4a91-82b4-485af5231a6d\",\"type\":\"VBar\"},\"hover_glyph\":null,\"muted_glyph\":null,\"nonselection_glyph\":{\"id\":\"4212e01c-7416-4ff7-b2de-df8eb7de039c\",\"type\":\"VBar\"},\"selection_glyph\":null,\"view\":{\"id\":\"5c0daf23-7673-47d6-8d57-628f7c051e01\",\"type\":\"CDSView\"}},\"id\":\"e9db27a3-278d-47d5-8a19-d318fa5b7707\",\"type\":\"GlyphRenderer\"},{\"attributes\":{\"callback\":null},\"id\":\"5154eeea-f927-4170-a15f-9c57efd80f71\",\"type\":\"DataRange1d\"},{\"attributes\":{\"axis_label\":\"flux (W m-2)\",\"formatter\":{\"id\":\"2c8a37df-67df-4c71-ae22-4b755f7b89d5\",\"type\":\"BasicTickFormatter\"},\"plot\":{\"id\":\"fc48c794-1469-4d7b-bf92-722fc62df377\",\"subtype\":\"Figure\",\"type\":\"Plot\"},\"ticker\":{\"id\":\"40c5dc96-a4f5-4b3e-820d-07fd421a9de2\",\"type\":\"BasicTicker\"}},\"id\":\"2567c611-df7b-45f9-9051-bbade6137f95\",\"type\":\"LinearAxis\"},{\"attributes\":{\"fill_alpha\":{\"value\":0.1},\"fill_color\":{\"value\":\"#1f77b4\"},\"line_alpha\":{\"value\":0.1},\"line_color\":{\"value\":\"#1f77b4\"},\"top\":{\"field\":\"flux\"},\"width\":{\"value\":0.9},\"x\":{\"field\":\"band\"}},\"id\":\"4212e01c-7416-4ff7-b2de-df8eb7de039c\",\"type\":\"VBar\"}],\"root_ids\":[\"d32b7360-e164-4f53-9b2f-d5b640de9d3f\"]},\"title\":\"Bokeh Application\",\"version\":\"0.12.16\"}};\n",
       "  var render_items = [{\"docid\":\"5a920e4e-a0ed-46d4-9402-84c9736a7233\",\"elementid\":\"4eb60e6e-4d3f-4a0b-a68a-229d7a65954f\",\"modelid\":\"d32b7360-e164-4f53-9b2f-d5b640de9d3f\"}];\n",
       "  root.Bokeh.embed.embed_items_notebook(docs_json, render_items);\n",
       "\n",
       "  }\n",
       "  if (root.Bokeh !== undefined) {\n",
       "    embed_document(root);\n",
       "  } else {\n",
       "    var attempts = 0;\n",
       "    var timer = setInterval(function(root) {\n",
       "      if (root.Bokeh !== undefined) {\n",
       "        embed_document(root);\n",
       "        clearInterval(timer);\n",
       "      }\n",
       "      attempts++;\n",
       "      if (attempts > 100) {\n",
       "        console.log(\"Bokeh: ERROR: Unable to run BokehJS code because BokehJS library is missing\")\n",
       "        clearInterval(timer);\n",
       "      }\n",
       "    }, 10, root)\n",
       "  }\n",
       "})(window);"
      ],
      "application/vnd.bokehjs_exec.v0+json": ""
     },
     "metadata": {
      "application/vnd.bokehjs_exec.v0+json": {
       "id": "d32b7360-e164-4f53-9b2f-d5b640de9d3f"
      }
     },
     "output_type": "display_data"
    },
    {
     "data": {
      "text/markdown": [
       "*FIGURE.* Difference between CLIRAD and CRD in TOA, SFC and net atmosphere flux, in each spectral band."
      ],
      "text/plain": [
       "<IPython.core.display.Markdown object>"
      ]
     },
     "metadata": {},
     "output_type": "display_data"
    },
    {
     "data": {
      "text/html": [
       "<div>\n",
       "<style scoped>\n",
       "    .dataframe tbody tr th:only-of-type {\n",
       "        vertical-align: middle;\n",
       "    }\n",
       "\n",
       "    .dataframe tbody tr th {\n",
       "        vertical-align: top;\n",
       "    }\n",
       "\n",
       "    .dataframe thead th {\n",
       "        text-align: right;\n",
       "    }\n",
       "</style>\n",
       "<table border=\"1\" class=\"dataframe\">\n",
       "  <thead>\n",
       "    <tr style=\"text-align: right;\">\n",
       "      <th></th>\n",
       "      <th>OLR flux</th>\n",
       "      <th>SFC flux</th>\n",
       "      <th>ATM heating</th>\n",
       "    </tr>\n",
       "    <tr>\n",
       "      <th>Sum over bands</th>\n",
       "      <th></th>\n",
       "      <th></th>\n",
       "      <th></th>\n",
       "    </tr>\n",
       "  </thead>\n",
       "  <tbody>\n",
       "    <tr>\n",
       "      <th>CLIRAD (single-run) - CRD</th>\n",
       "      <td>22.96</td>\n",
       "      <td>18.99</td>\n",
       "      <td>6.40</td>\n",
       "    </tr>\n",
       "    <tr>\n",
       "      <th>CRD</th>\n",
       "      <td>-303.40</td>\n",
       "      <td>337.24</td>\n",
       "      <td>-181.37</td>\n",
       "    </tr>\n",
       "  </tbody>\n",
       "</table>\n",
       "</div>"
      ],
      "text/plain": [
       "                           OLR flux  SFC flux  ATM heating\n",
       "Sum over bands                                            \n",
       "CLIRAD (single-run) - CRD     22.96     18.99         6.40\n",
       "CRD                         -303.40    337.24      -181.37"
      ]
     },
     "metadata": {},
     "output_type": "display_data"
    },
    {
     "data": {
      "text/markdown": [
       "*TABLE.* Difference between CLIRAD and CRD in TOA, SFC and net atmosphere flux, over all spectral bands. CRD's TOA, SFC and net atmosphere flux, over all spectral bands."
      ],
      "text/plain": [
       "<IPython.core.display.Markdown object>"
      ]
     },
     "metadata": {},
     "output_type": "display_data"
    }
   ],
   "source": [
    "def show_html(s):\n",
    "    display.display(display.HTML(s))\n",
    "\n",
    "    \n",
    "def show_markdown(s):\n",
    "    display.display(display.Markdown(s))\n",
    "\n",
    "\n",
    "def script():\n",
    "    \n",
    "    d_atm = {'mls': 'mid-latitude summer',\n",
    "             'saw': 'sub-arctic winter',\n",
    "             'trp': 'tropical'}\n",
    "    \n",
    "    title = ('## Results over entire range of molecules'\n",
    "             ' and spectral bands')\n",
    "    \n",
    "    s_makeup = 'Makeup of atmosphere.'\n",
    "    s_atmpro = '# {}'\n",
    "    s_cool = 'Cooling rates. {}.'\n",
    "    s_flux = 'Fluxes. {}.'\n",
    "    \n",
    "    atmpros = ['mls', 'saw', 'trp']\n",
    "    \n",
    "    # TOC\n",
    "    show_markdown(title)\n",
    "    show_markdown('### Table of Contents')\n",
    "    show_html(climahtml.getHTML_hrefanchor(s_makeup))\n",
    "    for atmpro in atmpros:\n",
    "        show_markdown('**' + d_atm[atmpro] + '**')\n",
    "        show_html(climahtml.getHTML_hrefanchor(s_cool.format(atmpro)))\n",
    "        show_html(climahtml.getHTML_hrefanchor(s_flux.format(atmpro)))\n",
    "\n",
    "        \n",
    "    # Atmosphere makeup\n",
    "    show_html(climahtml.getHTML_idanchor(s_makeup))\n",
    "    show_markdown(climahtml.getMarkdown_sectitle(s_makeup))\n",
    "    show_makeup()\n",
    "    show_grey_makeup()\n",
    "        \n",
    "    for atmpro in atmpros:\n",
    "        show_html(climahtml.getHTML_idanchor(s_cool.format(atmpro)))\n",
    "        show_markdown(\n",
    "            climahtml.getMarkdown_sectitle(s_cool.format(atmpro)))\n",
    "        show_cool(atmpro=atmpro)\n",
    "        show_html(climahtml.getHTML_idanchor(s_flux.format(atmpro)))\n",
    "        show_markdown(\n",
    "            climahtml.getMarkdown_sectitle(s_flux.format(atmpro)))\n",
    "        show_hist_flux(atmpro=atmpro)\n",
    "        show_tb_flux(atmpro=atmpro)\n",
    "    \n",
    "    \n",
    "script()  "
   ]
  },
  {
   "cell_type": "code",
   "execution_count": null,
   "metadata": {
    "collapsed": true
   },
   "outputs": [],
   "source": []
  },
  {
   "cell_type": "code",
   "execution_count": 411,
   "metadata": {},
   "outputs": [
    {
     "data": {
      "text/html": [
       "<script>\n",
       "code_show=true; \n",
       "function code_toggle() {\n",
       " if (code_show){\n",
       " $('div.input').hide();\n",
       " } else {\n",
       " $('div.input').show();\n",
       " }\n",
       " code_show = !code_show\n",
       "} \n",
       "$( document ).ready(code_toggle);\n",
       "</script>\n",
       "<form action=\"javascript:code_toggle()\"><input type=\"submit\" value=\"Click here to toggle on/off the raw code.\"></form>"
      ],
      "text/plain": [
       "<IPython.core.display.HTML object>"
      ]
     },
     "execution_count": 411,
     "metadata": {},
     "output_type": "execute_result"
    }
   ],
   "source": [
    "display.HTML('''<script>\n",
    "code_show=true; \n",
    "function code_toggle() {\n",
    " if (code_show){\n",
    " $('div.input').hide();\n",
    " } else {\n",
    " $('div.input').show();\n",
    " }\n",
    " code_show = !code_show\n",
    "} \n",
    "$( document ).ready(code_toggle);\n",
    "</script>\n",
    "<form action=\"javascript:code_toggle()\"><input type=\"submit\" value=\"Click here to toggle on/off the raw code.\"></form>''')"
   ]
  },
  {
   "cell_type": "code",
   "execution_count": null,
   "metadata": {
    "collapsed": true
   },
   "outputs": [],
   "source": []
  }
 ],
 "metadata": {
  "kernelspec": {
   "display_name": "Python 3",
   "language": "python",
   "name": "python3"
  },
  "language_info": {
   "codemirror_mode": {
    "name": "ipython",
    "version": 3
   },
   "file_extension": ".py",
   "mimetype": "text/x-python",
   "name": "python",
   "nbconvert_exporter": "python",
   "pygments_lexer": "ipython3",
   "version": "3.6.1"
  }
 },
 "nbformat": 4,
 "nbformat_minor": 2
}
