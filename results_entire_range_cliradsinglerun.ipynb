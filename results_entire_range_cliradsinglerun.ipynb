{
 "cells": [
  {
   "cell_type": "code",
   "execution_count": 270,
   "metadata": {
    "collapsed": true
   },
   "outputs": [],
   "source": [
    "import os\n",
    "import ast\n",
    "import json\n",
    "import importlib \n",
    "import itertools\n",
    "import collections\n",
    "import pprint\n",
    "\n",
    "from bokeh.io import output_notebook, show\n",
    "from bokeh.layouts import gridplot\n",
    "from bokeh.plotting import figure\n",
    "from bokeh.models import Range1d, Legend, ColumnDataSource, FactorRange\n",
    "from bokeh.palettes import all_palettes\n",
    "from bokeh.transform import factor_cmap\n",
    "\n",
    "import matplotlib\n",
    "import matplotlib.pyplot as plt\n",
    "import numpy as np\n",
    "import pandas as pd\n",
    "import xarray as xr\n",
    "\n",
    "\n",
    "import climatools.lblnew.bestfit_params as bestfits\n",
    "from climatools.lblnew import setup_bestfit, setup_overlap\n",
    "import climatools.lblnew.pipeline as pipe_lblnew\n",
    "import climatools.cliradlw.setup as setup_cliradlw\n",
    "import climatools.cliradlw.pipeline as pipe_cliradlw\n",
    "\n",
    "import climatools.html.html as climahtml\n",
    "from climatools.lblnew.dataio import *\n",
    "from climatools.plot.plot import *\n",
    "\n",
    "\n",
    "from IPython import display\n",
    "\n",
    "#importlib.reload(bestfits)\n",
    "#importlib.reload(setup_bestfit)\n",
    "#importlib.reload(setup_overlap)\n",
    "#importlib.reload(pipe_lblnew)\n",
    "#importlib.reload(setup_cliradlw)\n",
    "#importlib.reload(pipe_cliradlw)"
   ]
  },
  {
   "cell_type": "code",
   "execution_count": 271,
   "metadata": {},
   "outputs": [
    {
     "data": {
      "text/html": [
       "\n",
       "    <div class=\"bk-root\">\n",
       "        <a href=\"https://bokeh.pydata.org\" target=\"_blank\" class=\"bk-logo bk-logo-small bk-logo-notebook\"></a>\n",
       "        <span id=\"0caf3dc6-e755-43d2-b619-577c3c759128\">Loading BokehJS ...</span>\n",
       "    </div>"
      ]
     },
     "metadata": {},
     "output_type": "display_data"
    },
    {
     "data": {
      "application/javascript": [
       "\n",
       "(function(root) {\n",
       "  function now() {\n",
       "    return new Date();\n",
       "  }\n",
       "\n",
       "  var force = true;\n",
       "\n",
       "  if (typeof (root._bokeh_onload_callbacks) === \"undefined\" || force === true) {\n",
       "    root._bokeh_onload_callbacks = [];\n",
       "    root._bokeh_is_loading = undefined;\n",
       "  }\n",
       "\n",
       "  var JS_MIME_TYPE = 'application/javascript';\n",
       "  var HTML_MIME_TYPE = 'text/html';\n",
       "  var EXEC_MIME_TYPE = 'application/vnd.bokehjs_exec.v0+json';\n",
       "  var CLASS_NAME = 'output_bokeh rendered_html';\n",
       "\n",
       "  /**\n",
       "   * Render data to the DOM node\n",
       "   */\n",
       "  function render(props, node) {\n",
       "    var script = document.createElement(\"script\");\n",
       "    node.appendChild(script);\n",
       "  }\n",
       "\n",
       "  /**\n",
       "   * Handle when an output is cleared or removed\n",
       "   */\n",
       "  function handleClearOutput(event, handle) {\n",
       "    var cell = handle.cell;\n",
       "\n",
       "    var id = cell.output_area._bokeh_element_id;\n",
       "    var server_id = cell.output_area._bokeh_server_id;\n",
       "    // Clean up Bokeh references\n",
       "    if (id !== undefined) {\n",
       "      Bokeh.index[id].model.document.clear();\n",
       "      delete Bokeh.index[id];\n",
       "    }\n",
       "\n",
       "    if (server_id !== undefined) {\n",
       "      // Clean up Bokeh references\n",
       "      var cmd = \"from bokeh.io.state import curstate; print(curstate().uuid_to_server['\" + server_id + \"'].get_sessions()[0].document.roots[0]._id)\";\n",
       "      cell.notebook.kernel.execute(cmd, {\n",
       "        iopub: {\n",
       "          output: function(msg) {\n",
       "            var element_id = msg.content.text.trim();\n",
       "            Bokeh.index[element_id].model.document.clear();\n",
       "            delete Bokeh.index[element_id];\n",
       "          }\n",
       "        }\n",
       "      });\n",
       "      // Destroy server and session\n",
       "      var cmd = \"import bokeh.io.notebook as ion; ion.destroy_server('\" + server_id + \"')\";\n",
       "      cell.notebook.kernel.execute(cmd);\n",
       "    }\n",
       "  }\n",
       "\n",
       "  /**\n",
       "   * Handle when a new output is added\n",
       "   */\n",
       "  function handleAddOutput(event, handle) {\n",
       "    var output_area = handle.output_area;\n",
       "    var output = handle.output;\n",
       "\n",
       "    // limit handleAddOutput to display_data with EXEC_MIME_TYPE content only\n",
       "    if ((output.output_type != \"display_data\") || (!output.data.hasOwnProperty(EXEC_MIME_TYPE))) {\n",
       "      return\n",
       "    }\n",
       "\n",
       "    var toinsert = output_area.element.find(\".\" + CLASS_NAME.split(' ')[0]);\n",
       "\n",
       "    if (output.metadata[EXEC_MIME_TYPE][\"id\"] !== undefined) {\n",
       "      toinsert[toinsert.length - 1].firstChild.textContent = output.data[JS_MIME_TYPE];\n",
       "      // store reference to embed id on output_area\n",
       "      output_area._bokeh_element_id = output.metadata[EXEC_MIME_TYPE][\"id\"];\n",
       "    }\n",
       "    if (output.metadata[EXEC_MIME_TYPE][\"server_id\"] !== undefined) {\n",
       "      var bk_div = document.createElement(\"div\");\n",
       "      bk_div.innerHTML = output.data[HTML_MIME_TYPE];\n",
       "      var script_attrs = bk_div.children[0].attributes;\n",
       "      for (var i = 0; i < script_attrs.length; i++) {\n",
       "        toinsert[toinsert.length - 1].firstChild.setAttribute(script_attrs[i].name, script_attrs[i].value);\n",
       "      }\n",
       "      // store reference to server id on output_area\n",
       "      output_area._bokeh_server_id = output.metadata[EXEC_MIME_TYPE][\"server_id\"];\n",
       "    }\n",
       "  }\n",
       "\n",
       "  function register_renderer(events, OutputArea) {\n",
       "\n",
       "    function append_mime(data, metadata, element) {\n",
       "      // create a DOM node to render to\n",
       "      var toinsert = this.create_output_subarea(\n",
       "        metadata,\n",
       "        CLASS_NAME,\n",
       "        EXEC_MIME_TYPE\n",
       "      );\n",
       "      this.keyboard_manager.register_events(toinsert);\n",
       "      // Render to node\n",
       "      var props = {data: data, metadata: metadata[EXEC_MIME_TYPE]};\n",
       "      render(props, toinsert[toinsert.length - 1]);\n",
       "      element.append(toinsert);\n",
       "      return toinsert\n",
       "    }\n",
       "\n",
       "    /* Handle when an output is cleared or removed */\n",
       "    events.on('clear_output.CodeCell', handleClearOutput);\n",
       "    events.on('delete.Cell', handleClearOutput);\n",
       "\n",
       "    /* Handle when a new output is added */\n",
       "    events.on('output_added.OutputArea', handleAddOutput);\n",
       "\n",
       "    /**\n",
       "     * Register the mime type and append_mime function with output_area\n",
       "     */\n",
       "    OutputArea.prototype.register_mime_type(EXEC_MIME_TYPE, append_mime, {\n",
       "      /* Is output safe? */\n",
       "      safe: true,\n",
       "      /* Index of renderer in `output_area.display_order` */\n",
       "      index: 0\n",
       "    });\n",
       "  }\n",
       "\n",
       "  // register the mime type if in Jupyter Notebook environment and previously unregistered\n",
       "  if (root.Jupyter !== undefined) {\n",
       "    var events = require('base/js/events');\n",
       "    var OutputArea = require('notebook/js/outputarea').OutputArea;\n",
       "\n",
       "    if (OutputArea.prototype.mime_types().indexOf(EXEC_MIME_TYPE) == -1) {\n",
       "      register_renderer(events, OutputArea);\n",
       "    }\n",
       "  }\n",
       "\n",
       "  \n",
       "  if (typeof (root._bokeh_timeout) === \"undefined\" || force === true) {\n",
       "    root._bokeh_timeout = Date.now() + 5000;\n",
       "    root._bokeh_failed_load = false;\n",
       "  }\n",
       "\n",
       "  var NB_LOAD_WARNING = {'data': {'text/html':\n",
       "     \"<div style='background-color: #fdd'>\\n\"+\n",
       "     \"<p>\\n\"+\n",
       "     \"BokehJS does not appear to have successfully loaded. If loading BokehJS from CDN, this \\n\"+\n",
       "     \"may be due to a slow or bad network connection. Possible fixes:\\n\"+\n",
       "     \"</p>\\n\"+\n",
       "     \"<ul>\\n\"+\n",
       "     \"<li>re-rerun `output_notebook()` to attempt to load from CDN again, or</li>\\n\"+\n",
       "     \"<li>use INLINE resources instead, as so:</li>\\n\"+\n",
       "     \"</ul>\\n\"+\n",
       "     \"<code>\\n\"+\n",
       "     \"from bokeh.resources import INLINE\\n\"+\n",
       "     \"output_notebook(resources=INLINE)\\n\"+\n",
       "     \"</code>\\n\"+\n",
       "     \"</div>\"}};\n",
       "\n",
       "  function display_loaded() {\n",
       "    var el = document.getElementById(\"0caf3dc6-e755-43d2-b619-577c3c759128\");\n",
       "    if (el != null) {\n",
       "      el.textContent = \"BokehJS is loading...\";\n",
       "    }\n",
       "    if (root.Bokeh !== undefined) {\n",
       "      if (el != null) {\n",
       "        el.textContent = \"BokehJS \" + root.Bokeh.version + \" successfully loaded.\";\n",
       "      }\n",
       "    } else if (Date.now() < root._bokeh_timeout) {\n",
       "      setTimeout(display_loaded, 100)\n",
       "    }\n",
       "  }\n",
       "\n",
       "\n",
       "  function run_callbacks() {\n",
       "    try {\n",
       "      root._bokeh_onload_callbacks.forEach(function(callback) { callback() });\n",
       "    }\n",
       "    finally {\n",
       "      delete root._bokeh_onload_callbacks\n",
       "    }\n",
       "    console.info(\"Bokeh: all callbacks have finished\");\n",
       "  }\n",
       "\n",
       "  function load_libs(js_urls, callback) {\n",
       "    root._bokeh_onload_callbacks.push(callback);\n",
       "    if (root._bokeh_is_loading > 0) {\n",
       "      console.log(\"Bokeh: BokehJS is being loaded, scheduling callback at\", now());\n",
       "      return null;\n",
       "    }\n",
       "    if (js_urls == null || js_urls.length === 0) {\n",
       "      run_callbacks();\n",
       "      return null;\n",
       "    }\n",
       "    console.log(\"Bokeh: BokehJS not loaded, scheduling load and callback at\", now());\n",
       "    root._bokeh_is_loading = js_urls.length;\n",
       "    for (var i = 0; i < js_urls.length; i++) {\n",
       "      var url = js_urls[i];\n",
       "      var s = document.createElement('script');\n",
       "      s.src = url;\n",
       "      s.async = false;\n",
       "      s.onreadystatechange = s.onload = function() {\n",
       "        root._bokeh_is_loading--;\n",
       "        if (root._bokeh_is_loading === 0) {\n",
       "          console.log(\"Bokeh: all BokehJS libraries loaded\");\n",
       "          run_callbacks()\n",
       "        }\n",
       "      };\n",
       "      s.onerror = function() {\n",
       "        console.warn(\"failed to load library \" + url);\n",
       "      };\n",
       "      console.log(\"Bokeh: injecting script tag for BokehJS library: \", url);\n",
       "      document.getElementsByTagName(\"head\")[0].appendChild(s);\n",
       "    }\n",
       "  };var element = document.getElementById(\"0caf3dc6-e755-43d2-b619-577c3c759128\");\n",
       "  if (element == null) {\n",
       "    console.log(\"Bokeh: ERROR: autoload.js configured with elementid '0caf3dc6-e755-43d2-b619-577c3c759128' but no matching script tag was found. \")\n",
       "    return false;\n",
       "  }\n",
       "\n",
       "  var js_urls = [\"https://cdn.pydata.org/bokeh/release/bokeh-0.12.16.min.js\", \"https://cdn.pydata.org/bokeh/release/bokeh-widgets-0.12.16.min.js\", \"https://cdn.pydata.org/bokeh/release/bokeh-tables-0.12.16.min.js\", \"https://cdn.pydata.org/bokeh/release/bokeh-gl-0.12.16.min.js\"];\n",
       "\n",
       "  var inline_js = [\n",
       "    function(Bokeh) {\n",
       "      Bokeh.set_log_level(\"info\");\n",
       "    },\n",
       "    \n",
       "    function(Bokeh) {\n",
       "      \n",
       "    },\n",
       "    function(Bokeh) {\n",
       "      console.log(\"Bokeh: injecting CSS: https://cdn.pydata.org/bokeh/release/bokeh-0.12.16.min.css\");\n",
       "      Bokeh.embed.inject_css(\"https://cdn.pydata.org/bokeh/release/bokeh-0.12.16.min.css\");\n",
       "      console.log(\"Bokeh: injecting CSS: https://cdn.pydata.org/bokeh/release/bokeh-widgets-0.12.16.min.css\");\n",
       "      Bokeh.embed.inject_css(\"https://cdn.pydata.org/bokeh/release/bokeh-widgets-0.12.16.min.css\");\n",
       "      console.log(\"Bokeh: injecting CSS: https://cdn.pydata.org/bokeh/release/bokeh-tables-0.12.16.min.css\");\n",
       "      Bokeh.embed.inject_css(\"https://cdn.pydata.org/bokeh/release/bokeh-tables-0.12.16.min.css\");\n",
       "    }\n",
       "  ];\n",
       "\n",
       "  function run_inline_js() {\n",
       "    \n",
       "    if ((root.Bokeh !== undefined) || (force === true)) {\n",
       "      for (var i = 0; i < inline_js.length; i++) {\n",
       "        inline_js[i].call(root, root.Bokeh);\n",
       "      }if (force === true) {\n",
       "        display_loaded();\n",
       "      }} else if (Date.now() < root._bokeh_timeout) {\n",
       "      setTimeout(run_inline_js, 100);\n",
       "    } else if (!root._bokeh_failed_load) {\n",
       "      console.log(\"Bokeh: BokehJS failed to load within specified timeout.\");\n",
       "      root._bokeh_failed_load = true;\n",
       "    } else if (force !== true) {\n",
       "      var cell = $(document.getElementById(\"0caf3dc6-e755-43d2-b619-577c3c759128\")).parents('.cell').data().cell;\n",
       "      cell.output_area.append_execute_result(NB_LOAD_WARNING)\n",
       "    }\n",
       "\n",
       "  }\n",
       "\n",
       "  if (root._bokeh_is_loading === 0) {\n",
       "    console.log(\"Bokeh: BokehJS loaded, going straight to plotting\");\n",
       "    run_inline_js();\n",
       "  } else {\n",
       "    load_libs(js_urls, function() {\n",
       "      console.log(\"Bokeh: BokehJS plotting callback run at\", now());\n",
       "      run_inline_js();\n",
       "    });\n",
       "  }\n",
       "}(window));"
      ],
      "application/vnd.bokehjs_load.v0+json": "\n(function(root) {\n  function now() {\n    return new Date();\n  }\n\n  var force = true;\n\n  if (typeof (root._bokeh_onload_callbacks) === \"undefined\" || force === true) {\n    root._bokeh_onload_callbacks = [];\n    root._bokeh_is_loading = undefined;\n  }\n\n  \n\n  \n  if (typeof (root._bokeh_timeout) === \"undefined\" || force === true) {\n    root._bokeh_timeout = Date.now() + 5000;\n    root._bokeh_failed_load = false;\n  }\n\n  var NB_LOAD_WARNING = {'data': {'text/html':\n     \"<div style='background-color: #fdd'>\\n\"+\n     \"<p>\\n\"+\n     \"BokehJS does not appear to have successfully loaded. If loading BokehJS from CDN, this \\n\"+\n     \"may be due to a slow or bad network connection. Possible fixes:\\n\"+\n     \"</p>\\n\"+\n     \"<ul>\\n\"+\n     \"<li>re-rerun `output_notebook()` to attempt to load from CDN again, or</li>\\n\"+\n     \"<li>use INLINE resources instead, as so:</li>\\n\"+\n     \"</ul>\\n\"+\n     \"<code>\\n\"+\n     \"from bokeh.resources import INLINE\\n\"+\n     \"output_notebook(resources=INLINE)\\n\"+\n     \"</code>\\n\"+\n     \"</div>\"}};\n\n  function display_loaded() {\n    var el = document.getElementById(\"0caf3dc6-e755-43d2-b619-577c3c759128\");\n    if (el != null) {\n      el.textContent = \"BokehJS is loading...\";\n    }\n    if (root.Bokeh !== undefined) {\n      if (el != null) {\n        el.textContent = \"BokehJS \" + root.Bokeh.version + \" successfully loaded.\";\n      }\n    } else if (Date.now() < root._bokeh_timeout) {\n      setTimeout(display_loaded, 100)\n    }\n  }\n\n\n  function run_callbacks() {\n    try {\n      root._bokeh_onload_callbacks.forEach(function(callback) { callback() });\n    }\n    finally {\n      delete root._bokeh_onload_callbacks\n    }\n    console.info(\"Bokeh: all callbacks have finished\");\n  }\n\n  function load_libs(js_urls, callback) {\n    root._bokeh_onload_callbacks.push(callback);\n    if (root._bokeh_is_loading > 0) {\n      console.log(\"Bokeh: BokehJS is being loaded, scheduling callback at\", now());\n      return null;\n    }\n    if (js_urls == null || js_urls.length === 0) {\n      run_callbacks();\n      return null;\n    }\n    console.log(\"Bokeh: BokehJS not loaded, scheduling load and callback at\", now());\n    root._bokeh_is_loading = js_urls.length;\n    for (var i = 0; i < js_urls.length; i++) {\n      var url = js_urls[i];\n      var s = document.createElement('script');\n      s.src = url;\n      s.async = false;\n      s.onreadystatechange = s.onload = function() {\n        root._bokeh_is_loading--;\n        if (root._bokeh_is_loading === 0) {\n          console.log(\"Bokeh: all BokehJS libraries loaded\");\n          run_callbacks()\n        }\n      };\n      s.onerror = function() {\n        console.warn(\"failed to load library \" + url);\n      };\n      console.log(\"Bokeh: injecting script tag for BokehJS library: \", url);\n      document.getElementsByTagName(\"head\")[0].appendChild(s);\n    }\n  };var element = document.getElementById(\"0caf3dc6-e755-43d2-b619-577c3c759128\");\n  if (element == null) {\n    console.log(\"Bokeh: ERROR: autoload.js configured with elementid '0caf3dc6-e755-43d2-b619-577c3c759128' but no matching script tag was found. \")\n    return false;\n  }\n\n  var js_urls = [\"https://cdn.pydata.org/bokeh/release/bokeh-0.12.16.min.js\", \"https://cdn.pydata.org/bokeh/release/bokeh-widgets-0.12.16.min.js\", \"https://cdn.pydata.org/bokeh/release/bokeh-tables-0.12.16.min.js\", \"https://cdn.pydata.org/bokeh/release/bokeh-gl-0.12.16.min.js\"];\n\n  var inline_js = [\n    function(Bokeh) {\n      Bokeh.set_log_level(\"info\");\n    },\n    \n    function(Bokeh) {\n      \n    },\n    function(Bokeh) {\n      console.log(\"Bokeh: injecting CSS: https://cdn.pydata.org/bokeh/release/bokeh-0.12.16.min.css\");\n      Bokeh.embed.inject_css(\"https://cdn.pydata.org/bokeh/release/bokeh-0.12.16.min.css\");\n      console.log(\"Bokeh: injecting CSS: https://cdn.pydata.org/bokeh/release/bokeh-widgets-0.12.16.min.css\");\n      Bokeh.embed.inject_css(\"https://cdn.pydata.org/bokeh/release/bokeh-widgets-0.12.16.min.css\");\n      console.log(\"Bokeh: injecting CSS: https://cdn.pydata.org/bokeh/release/bokeh-tables-0.12.16.min.css\");\n      Bokeh.embed.inject_css(\"https://cdn.pydata.org/bokeh/release/bokeh-tables-0.12.16.min.css\");\n    }\n  ];\n\n  function run_inline_js() {\n    \n    if ((root.Bokeh !== undefined) || (force === true)) {\n      for (var i = 0; i < inline_js.length; i++) {\n        inline_js[i].call(root, root.Bokeh);\n      }if (force === true) {\n        display_loaded();\n      }} else if (Date.now() < root._bokeh_timeout) {\n      setTimeout(run_inline_js, 100);\n    } else if (!root._bokeh_failed_load) {\n      console.log(\"Bokeh: BokehJS failed to load within specified timeout.\");\n      root._bokeh_failed_load = true;\n    } else if (force !== true) {\n      var cell = $(document.getElementById(\"0caf3dc6-e755-43d2-b619-577c3c759128\")).parents('.cell').data().cell;\n      cell.output_area.append_execute_result(NB_LOAD_WARNING)\n    }\n\n  }\n\n  if (root._bokeh_is_loading === 0) {\n    console.log(\"Bokeh: BokehJS loaded, going straight to plotting\");\n    run_inline_js();\n  } else {\n    load_libs(js_urls, function() {\n      console.log(\"Bokeh: BokehJS plotting callback run at\", now());\n      run_inline_js();\n    });\n  }\n}(window));"
     },
     "metadata": {},
     "output_type": "display_data"
    }
   ],
   "source": [
    "output_notebook()"
   ]
  },
  {
   "cell_type": "code",
   "execution_count": 272,
   "metadata": {
    "collapsed": true
   },
   "outputs": [],
   "source": [
    "'''\n",
    "Get the clirad-lw and lblnew `param`s for all spectral bands.  \n",
    "These are returned by functions `clirad_params_atm` and\n",
    "`lblnew_params_atm`, respectively.\n",
    "'''\n",
    "\n",
    "def molecules_byband_atm():\n",
    "    return {1: {'h2o': 'atmpro'},\n",
    "            2: {'h2o': 'atmpro'}, \n",
    "            3: {'co2': 0.0004, 'h2o': 'atmpro', 'n2o': 3.2e-07},\n",
    "            4: {'co2': 0.0004, 'h2o': 'atmpro'},\n",
    "            5: {'co2': 0.0004, 'h2o': 'atmpro'},\n",
    "            6: {'co2': 0.0004, 'h2o': 'atmpro'},\n",
    "            7: {'co2': 0.0004, 'h2o': 'atmpro', 'o3': 'atmpro'},\n",
    "            8: {'h2o': 'atmpro'},\n",
    "            9: {'ch4': 1.8e-06, 'h2o': 'atmpro', 'n2o': 3.2e-07},\n",
    "            10: {'h2o': 'atmpro'},\n",
    "            11: {'co2': 0.0004, 'h2o': 'atmpro'}}\n",
    "\n",
    "\n",
    "def clirad_params_atm(atmpro='mls'):\n",
    "    d = {}\n",
    "    for band, molecule in molecules_byband_atm().items():\n",
    "        for param in setup_cliradlw.test_cases():\n",
    "            if [band] == param['band'] and molecule == param['molecule']:\n",
    "                param['atmpro'] = atmpro\n",
    "                d[band] = param\n",
    "                break                \n",
    "    return d\n",
    "\n",
    "\n",
    "def clirad_params_atm_singlerun(atmpro='mls'):\n",
    "    '''\n",
    "    Returns param of clirad-lw run that is equivalent to the total\n",
    "    of all the runs listed in molecules_byband_atm().  In order\n",
    "    for the output to be compatible with clirad_data_atm(), it will\n",
    "    be a list.\n",
    "    '''\n",
    "    param0 = {'band': [1, 2, 3, 4, 5, 6, 7, 8, 9, 10, 11],\n",
    "              'commitnumber': '9751ec1',\n",
    "              'molecule': {'ch4': 1.8e-06,\n",
    "                           'co2': 0.0004,\n",
    "                           'h2o': 'atmpro',\n",
    "                           'n2o': 3.2e-07,\n",
    "                           'o3': 'atmpro'}}\n",
    "    \n",
    "    d_atmpros = {'mls': 294, 'saw': 257, 'trp': 300}\n",
    "    \n",
    "    param = param0.copy()\n",
    "    param['atmpro'] = atmpro\n",
    "    param['tsfc'] = d_atmpros[atmpro]\n",
    "    \n",
    "    d = {}\n",
    "    d['all'] = param\n",
    "    return d\n",
    "\n",
    "\n",
    "def analysis_dirs_atm(atmpro='mls'):\n",
    "    params = clirad_params_atm(atmpro=atmpro)\n",
    "    return {band: pipe_cliradlw.get_analysis_dir(param=param,\n",
    "                                                 setup=setup_cliradlw) \n",
    "            for band, param in params.items()}\n",
    "\n",
    "\n",
    "def lblnew_params_atm(atmpro='mls'):\n",
    "    dirs = analysis_dirs_atm(atmpro=atmpro)\n",
    "    \n",
    "    d = {}\n",
    "    for band, dirname in dirs.items():\n",
    "        with open(os.path.join(dirname, 'param.py'), \n",
    "                  mode='r', encoding='utf-8') as f:\n",
    "            _, l = f.readlines()\n",
    "        \n",
    "        s = l.split('=')[1].strip()\n",
    "        d[band] = ast.literal_eval(s)\n",
    "        \n",
    "    return d\n"
   ]
  },
  {
   "cell_type": "code",
   "execution_count": 273,
   "metadata": {
    "collapsed": true
   },
   "outputs": [],
   "source": [
    "def db_getdir():\n",
    "    atmpro = 'mls'\n",
    "    params = clirad_params_atm_singlerun(atmpro=atmpro)\n",
    "    param = params['all']\n",
    "    \n",
    "    fdir = pipe_cliradlw.get_fortran_dir(param=param, \n",
    "                                         setup=setup_cliradlw)\n",
    "    return fdir\n",
    "\n",
    "\n",
    "def db_ktable():\n",
    "    fdir = db_getdir()    \n",
    "    fpath = os.path.join(fdir, 'ktable.dat')\n",
    "    \n",
    "    df = pd.read_csv(fpath, sep=r'\\s+')\n",
    "    df = df.set_index(['band', 'mid', 'il', 'it', 'g'])\n",
    "    ds = xr.Dataset.from_dataframe(df)\n",
    "    return ds\n",
    "\n",
    "\n",
    "def db_ng_dgs():\n",
    "    fdir = db_getdir()\n",
    "    fpath = os.path.join(fdir, 'ng_dgs.dat')\n",
    "    \n",
    "    df = pd.read_csv(fpath, sep=r'\\s+')\n",
    "    df = df.set_index(['band', 'mid', 'g'])\n",
    "    ds = xr.Dataset.from_dataframe(df)\n",
    "    return ds\n"
   ]
  },
  {
   "cell_type": "code",
   "execution_count": 274,
   "metadata": {
    "collapsed": true
   },
   "outputs": [],
   "source": [
    "def show_makeup():\n",
    "    df = pd.DataFrame()\n",
    "\n",
    "    for band, molecule in molecules_byband_atm().items():\n",
    "        for name, conc in molecule.items():\n",
    "            df.loc[name, band] = str(conc)\n",
    "\n",
    "    df = df.fillna(0)\n",
    "    df.columns.name = 'clirad band'\n",
    "    df.index.name = 'molecule'\n",
    "    \n",
    "    display.display(df)\n",
    "    \n",
    "    display.display(\n",
    "        display.Markdown('*TABLE.* The makeup of the atmosphere.'))\n",
    "\n"
   ]
  },
  {
   "cell_type": "code",
   "execution_count": 275,
   "metadata": {
    "collapsed": true
   },
   "outputs": [],
   "source": [
    "def load_output_file(path_csv):\n",
    "    '''\n",
    "    Load lblnew output .csv file to xarray.Dataset\n",
    "    \n",
    "    Parameters\n",
    "    ----------\n",
    "    path_csv: str\n",
    "              Path to the .csv file to be loaded.\n",
    "    ds: xarray.Dataset\n",
    "        Data in the input file in the form of an xarray.Dataset.\n",
    "    '''\n",
    "    toindex = ['band', 'pressure', 'igg', 'g']    \n",
    "    df = pd.read_csv(path_csv, sep=r'\\s+')\n",
    "    df = df.set_index([i for i in toindex if i in df.columns])\n",
    "    df = df.rename(columns={'sfu': 'flug',\n",
    "                            'sfd': 'fldg',\n",
    "                            'fnet': 'fnetg',\n",
    "                            'coolr': 'coolrg'})\n",
    "    ds = xr.Dataset.from_dataframe(df)\n",
    "\n",
    "    for l in ('level', 'layer'):\n",
    "        if l in ds.data_vars:\n",
    "            if len(ds[l].dims) > 1:\n",
    "                surface = {d: 0 for d in ds.dims if d != 'pressure'}\n",
    "                coord_level = ds[l][surface]\n",
    "                ds.coords[l] = ('pressure', coord_level)\n",
    "            else:\n",
    "                ds.coords[l] = ('pressure', ds[l])\n",
    "    \n",
    "    return ds"
   ]
  },
  {
   "cell_type": "code",
   "execution_count": 276,
   "metadata": {
    "collapsed": true
   },
   "outputs": [],
   "source": [
    "def lblnew_setup(param=None):\n",
    "    if 'ng_refs' in param:\n",
    "        return {'setup': setup_bestfit,\n",
    "                'fname_flux_crd': 'output_flux.dat',\n",
    "                'fname_cool_crd': 'output_coolr.dat',\n",
    "                'fname_flux_wgt': 'output_wfluxg.dat',\n",
    "                'fname_cool_wgt': 'output_wcoolrg.dat'}\n",
    "    else:\n",
    "        return {'setup': setup_overlap,\n",
    "                'fname_flux_crd': 'output_flux.dat',\n",
    "                'fname_cool_crd': 'output_coolr.dat',\n",
    "                'fname_flux_wgt': 'output_wflux.dat',\n",
    "                'fname_cool_wgt': 'output_wcoolr.dat'}\n",
    "\n",
    "    \n",
    "def load_lblnew_data(param):\n",
    "    \n",
    "    fname_dsname = [('fname_flux_crd', 'ds_flux_crd'),\n",
    "                    ('fname_cool_crd', 'ds_cool_crd'),\n",
    "                    ('fname_flux_wgt', 'ds_flux_wgt'),\n",
    "                    ('fname_cool_wgt', 'ds_cool_wgt')]\n",
    "    \n",
    "    d = lblnew_setup(param)\n",
    "    dir_fortran = pipe_lblnew.get_dir_case(param, setup=d['setup'])\n",
    "    \n",
    "    data_dict = {}\n",
    "    for fname, dsname in fname_dsname:\n",
    "        fpath = os.path.join(dir_fortran, d[fname])\n",
    "        data_dict[dsname] = load_output_file(fpath)\n",
    "    return data_dict"
   ]
  },
  {
   "cell_type": "code",
   "execution_count": 277,
   "metadata": {
    "collapsed": true
   },
   "outputs": [],
   "source": [
    "def crd_data_atm(params_atm):\n",
    "    '''\n",
    "    Parameters\n",
    "    ----------\n",
    "    \n",
    "    params_atm: dict\n",
    "                Parameter dictionary for each band.\n",
    "                \n",
    "    d: dict\n",
    "       'flux': xr.Dataset. [pressure, band]\n",
    "               Fluxes.\n",
    "       'cool': xr.Dataset. [pressure, band]\n",
    "               Cooling rate.\n",
    "    \n",
    "    '''\n",
    "    \n",
    "    results_atm = {band: load_lblnew_data(param) \n",
    "                   for band, param in params_atm.items()}\n",
    "    \n",
    "    bands = [band for band, _ in params_atm.items()]\n",
    "    fluxs = [d['ds_flux_crd'] for _, d in results_atm.items()]\n",
    "    cools = [d['ds_cool_crd'] for _, d in results_atm.items()]\n",
    "    \n",
    "    d = {}\n",
    "    d['flux'] = xr.concat(fluxs, dim=bands).rename({'concat_dim': 'band'})\n",
    "    d['cool'] = xr.concat(cools, dim=bands).rename({'concat_dim': 'band'})\n",
    "    return d        \n",
    "        \n",
    "        \n",
    "\n",
    "def clirad_data_atm(params_atm):\n",
    "    \n",
    "    dirnames = [pipe_cliradlw.get_fortran_dir(param,\n",
    "                                              setup=setup_cliradlw)\n",
    "                for _, param in params_atm.items()]\n",
    "    \n",
    "    fpaths_flux = [os.path.join(n, 'output_flux.dat') for n in dirnames]\n",
    "    fpaths_cool = [os.path.join(n, 'output_coolr.dat') for n in dirnames]\n",
    "    \n",
    "    fluxs = [load_output_file(p) for p in fpaths_flux]    \n",
    "    cools = [load_output_file(p) for p in fpaths_cool]\n",
    "    \n",
    "    d = {}\n",
    "    d['flux'] = sum(fluxs)\n",
    "    d['cool'] = sum(cools)\n",
    "    return d\n",
    "\n"
   ]
  },
  {
   "cell_type": "code",
   "execution_count": 278,
   "metadata": {
    "collapsed": true
   },
   "outputs": [],
   "source": [
    "\n",
    "\n",
    "import rtmtools.clirad.sw.wrangle as cliradwrangle\n",
    "\n",
    "import importlib\n",
    "importlib.reload(cliradwrangle)\n",
    "\n",
    "def oldclirad_data_atm():\n",
    "    '''\n",
    "    Load the OLD clirad's results. mls only.\n",
    "    '''\n",
    "    fpath = os.path.join('/chia_cluster/home/jackyu/radiation',\n",
    "                         'clirad-lw',\n",
    "                         'LW',\n",
    "                         'examples',\n",
    "                         'mls75_h2o_atmpro_co2_.0004_o3_atmpro_n2o_3.2e-7_ch4_1.8e-6_H2012',\n",
    "                         'OUTPUT_CLIRAD.dat')\n",
    "    \n",
    "    ds = cliradwrangle.load_OUTPUT_CLIRAD(readfrom=fpath)\n",
    "    \n",
    "    ds_cool = xr.Dataset()\n",
    "    ds_cool.coords['pressure'] = ('pressure', ds['layer_pressure'])\n",
    "    ds_cool.coords['band'] = ('band', ds['spectral_band'])\n",
    "    ds_cool['coolrg'] = (('band', 'pressure'), - ds['heating_rate'])\n",
    "    \n",
    "    ds_flux = xr.Dataset()\n",
    "    ds_flux.coords['pressure'] = ('pressure', ds['level_pressure'])\n",
    "    ds_flux.coords['band'] = ('band', ds['spectral_band'])\n",
    "    ds_flux['flug'] = (('band', 'pressure'), ds['flux_up'])\n",
    "    ds_flux['fldg'] = (('band', 'pressure'), ds['flux_down'])\n",
    "    ds_flux['fnetg'] = (('band', 'pressure'), ds['net_flux'])\n",
    "    \n",
    "    \n",
    "    d = {}\n",
    "    d['cool'] = ds_cool\n",
    "    d['flux'] = ds_flux\n",
    "    return d\n"
   ]
  },
  {
   "cell_type": "code",
   "execution_count": 279,
   "metadata": {
    "collapsed": true
   },
   "outputs": [],
   "source": [
    "def fmt_cool(ds_in):\n",
    "    ds = ds_in.copy(deep=True)\n",
    "    if 'igg' in ds.dims:\n",
    "        ds = ds.sel(igg=1)\n",
    "\n",
    "    if 'g' in ds.dims:\n",
    "        ds = ds.sum('g')\n",
    "            \n",
    "    if 'band' in ds.dims:\n",
    "        try:\n",
    "            ds = ds.squeeze('band')\n",
    "        except ValueError:\n",
    "            ds = ds.sum('band')\n",
    "                \n",
    "    return ds['coolrg']\n",
    "\n",
    "\n",
    "\n",
    "def nice_xlims(pltdata=None, prange=None):\n",
    "    \n",
    "    def get_slice(srs):\n",
    "        return srs.sel(pressure=slice(*prange))\n",
    "    \n",
    "    srss = [d['srs'] for d in pltdata]\n",
    "    vmin = min([get_slice(srs).min() for srs in srss])\n",
    "    vmax = max([get_slice(srs).max() for srs in srss])\n",
    "    dv = (vmax - vmin) * .01\n",
    "    return float(vmin - dv), float(vmax + dv)\n",
    "\n",
    "\n",
    "    \n",
    "def plt_cool_bokeh(pltdata=None, \n",
    "                   y_axis_type='linear', prange=(50, 1050)):\n",
    "    \n",
    "    ymin = 1e-2 \n",
    "    ymax = 1020\n",
    "    \n",
    "    p2 = figure(y_axis_type=y_axis_type, plot_width=300)\n",
    "    xmin, xmax = nice_xlims(pltdata, prange=prange)\n",
    "    \n",
    "    rs = []\n",
    "    for d in pltdata:\n",
    "        rd = []\n",
    "        if 'marker' in d:\n",
    "            r_mark = getattr(p2, d['marker'])(d['srs'].values, \n",
    "                        d['srs'].coords['pressure'].values,\n",
    "                        color=d['color'], alpha=.7)\n",
    "            rd.append(r_mark)\n",
    "        r_line = p2.line(d['srs'].values, \n",
    "                         d['srs'].coords['pressure'].values,\n",
    "                         color=d['color'], alpha=d['alpha'], \n",
    "                         line_width=d['line_width'], \n",
    "                         line_dash=d['line_dash'])\n",
    "        rd.append(r_line)\n",
    "      \n",
    "        rs.append(rd)\n",
    "        \n",
    "    p2.y_range = Range1d(ymax, ymin)  \n",
    "    p2.yaxis.axis_label = 'pressure [mb]'\n",
    "    \n",
    "    p2.x_range = Range1d(xmin, xmax)\n",
    "    p2.xaxis.axis_label = 'cooling rate [K/day]'\n",
    "    \n",
    "    items = [(d['label'], r) for r, d in zip(rs, pltdata)]\n",
    "    legend = Legend(items=items, location=(10, 0))\n",
    "    legend.label_text_font_size = '8pt'\n",
    "    p2.add_layout(legend, 'above')\n",
    "    p2.legend.orientation = 'horizontal'\n",
    "    p2.legend.location = 'top_center'\n",
    "    \n",
    "    return p2"
   ]
  },
  {
   "cell_type": "code",
   "execution_count": 280,
   "metadata": {
    "collapsed": true
   },
   "outputs": [],
   "source": [
    "def pltdata_cool(atmpro='mls'):\n",
    "    \n",
    "    d_clirad_singlerun = clirad_data_atm(\n",
    "        clirad_params_atm_singlerun(atmpro=atmpro))\n",
    "    d_clirad = clirad_data_atm(clirad_params_atm(atmpro=atmpro))\n",
    "    d_crd = crd_data_atm(lblnew_params_atm(atmpro=atmpro))\n",
    "\n",
    "    ds_clirad_singlerun = d_clirad_singlerun['cool']\n",
    "    ds_clirad = d_clirad['cool']\n",
    "    ds_crd = d_crd['cool']\n",
    "\n",
    "    colors = all_palettes['Set1'][4]\n",
    "    \n",
    "    data = [\n",
    "        {'label': 'CLIRAD (single-run)',\n",
    "        'srs': fmt_cool(ds_clirad_singlerun),\n",
    "        'line_dash': 'dashed', 'line_width': 5,\n",
    "        'color': colors[1], 'alpha': .6},\n",
    "        {'label': 'CRD',\n",
    "         'srs': fmt_cool(ds_crd),\n",
    "         'line_dash': 'solid', 'line_width': 1.5,\n",
    "         'marker': 'circle', 'marker_size': 5,\n",
    "         'color': colors[2], 'alpha': 1}\n",
    "    ]\n",
    "#        {'label': 'CLIRAD',\n",
    "#         'srs': fmt_cool(ds_clirad),\n",
    "#         'line_dash': 'dashed', 'line_width': 5,\n",
    "#         'color': colors[0], 'alpha': .6}\n",
    "        \n",
    "\n",
    "    \n",
    "    # include old CLIRAD's results for mls profile\n",
    "    if atmpro == 'mls':\n",
    "        d_oldclirad = oldclirad_data_atm()\n",
    "        ds_oldclirad = d_oldclirad['cool']        \n",
    "        data.append(\n",
    "            {'label': 'old CLIRAD (H2012)',\n",
    "             'srs': fmt_cool(ds_oldclirad),\n",
    "             'line_dash': 'solid', 'line_width': 1.5,\n",
    "             'marker': 'square', 'marker_size': 3,\n",
    "             'color': colors[3], 'alpha': .5})\n",
    "    return data\n",
    "\n",
    "\n",
    "def pltdata_cooldiff(atmpro='mls'):\n",
    "    \n",
    "    d_clirad_singlerun = clirad_data_atm(\n",
    "        clirad_params_atm_singlerun(atmpro=atmpro))\n",
    "    d_clirad = clirad_data_atm(clirad_params_atm(atmpro=atmpro))\n",
    "    d_crd = crd_data_atm(lblnew_params_atm(atmpro=atmpro))\n",
    "    \n",
    "    ds_clirad_singlerun = d_clirad_singlerun['cool']\n",
    "    ds_clirad = d_clirad['cool']\n",
    "    ds_crd = d_crd['cool']\n",
    "    \n",
    "    ds_diff = ds_clirad_singlerun - ds_crd\n",
    "    \n",
    "    colors = all_palettes['Set1'][4]\n",
    "    \n",
    "    data = [\n",
    "        {'label': 'CLIRAD (single-run) - CRD',\n",
    "         'srs': fmt_cool(ds_diff),\n",
    "         'line_dash': 'solid', 'line_width': 1.5, \n",
    "         'marker': 'circle', 'marker_size': 7,\n",
    "         'color': colors[3], 'alpha': .8}\n",
    "    ]\n",
    "    \n",
    "    # include old CLIRAD's results for mls profile\n",
    "    if atmpro == 'mls':\n",
    "        d_oldclirad = oldclirad_data_atm()\n",
    "        ds_oldclirad = d_oldclirad['cool']\n",
    "        ds_oldclirad.coords['pressure'] = ds_crd.coords['pressure']\n",
    "        ds_diff_old = ds_oldclirad.sum('band') - ds_crd.sum('band')\n",
    "        data.append(\n",
    "            {'label': 'old CLIRAD (H2012) - CRD',\n",
    "             'srs': fmt_cool(ds_diff_old),\n",
    "             'line_dash': 'dashed', 'line_width': 4,\n",
    "             'color': colors[1], 'alpha': .5}\n",
    "        )\n",
    "    return data\n",
    "\n",
    "\n",
    "def show_cool(atmpro='mls'):\n",
    "    \n",
    "    data_cool = pltdata_cool(atmpro=atmpro)\n",
    "    p_cool_liny = plt_cool_bokeh(pltdata=data_cool)\n",
    "    p_cool_logy = plt_cool_bokeh(pltdata=data_cool, \n",
    "                                 y_axis_type='log',\n",
    "                                 prange=(.01, 200))\n",
    "    \n",
    "    data_cooldiff = pltdata_cooldiff(atmpro=atmpro)\n",
    "    p_cooldiff_logy = plt_cool_bokeh(pltdata=data_cooldiff,\n",
    "                                     y_axis_type='log',\n",
    "                                     prange=(.01, 200))\n",
    "    \n",
    "    everything = gridplot(p_cool_liny, p_cool_logy, \n",
    "                          p_cooldiff_logy,\n",
    "                          ncols=3)\n",
    "    show(everything)\n",
    "    display.display(\n",
    "        display.Markdown('*FIGURE.* Cooling rates & difference.'))\n",
    "\n",
    "\n",
    "    "
   ]
  },
  {
   "cell_type": "code",
   "execution_count": null,
   "metadata": {
    "collapsed": true
   },
   "outputs": [],
   "source": []
  },
  {
   "cell_type": "code",
   "execution_count": 281,
   "metadata": {
    "collapsed": true,
    "scrolled": false
   },
   "outputs": [],
   "source": [
    "\n",
    "\n",
    "def hist_band_vs_flux(da, title='Title'):\n",
    "       \n",
    "    bands = [str(b.values) for b in da['band']]\n",
    "\n",
    "    source = ColumnDataSource(\n",
    "        data={'band': bands, 'flux': da.values})\n",
    "\n",
    "    p = figure(x_range=bands, title=title)\n",
    "    p.vbar(source=source, x='band', top='flux', width=.9)\n",
    "\n",
    "    p.yaxis.axis_label = 'flux (W m-2)'\n",
    "    p.xaxis.axis_label = 'spectral band'\n",
    "    \n",
    "    return p\n",
    "\n",
    "\n",
    "def show_hist_flux(atmpro='mls'):\n",
    "    ds_crd = crd_data_atm(lblnew_params_atm(atmpro=atmpro))['flux']\n",
    "    ds_clirad = clirad_data_atm(\n",
    "        clirad_params_atm(atmpro=atmpro))['flux']\n",
    "    ds_clirad_singlerun = clirad_data_atm(\n",
    "        clirad_params_atm_singlerun(atmpro=atmpro))['flux']\n",
    "    \n",
    "    ip, varname = 0, 'flug'\n",
    "    da = (ds_clirad_singlerun - ds_crd).isel(pressure=ip)[varname]\n",
    "    p_toa = hist_band_vs_flux(da, \n",
    "        title='TOA flux. CLIRAD (single-run) - CRD.')\n",
    "\n",
    "    ip, varname = -1, 'fldg'\n",
    "    da = (ds_clirad_singlerun - ds_crd).isel(pressure=ip)[varname]\n",
    "    p_sfc = hist_band_vs_flux(da, \n",
    "        title='SFC flux. CLIRAD (single-run) - CRD.')    \n",
    "    \n",
    "    atm_crd = (ds_crd.isel(pressure=0) \n",
    "               - ds_crd.isel(pressure=-1))['fnetg']\n",
    "    atm_clirad_singlerun = (ds_clirad_singlerun.isel(pressure=0) \n",
    "                  - ds_clirad_singlerun.isel(pressure=-1))['fnetg']\n",
    "    da = atm_clirad_singlerun - atm_crd\n",
    "    p_atm = hist_band_vs_flux(da, \n",
    "        title='Atmosphere heating. CLIRAD (single-run) - CRD.')\n",
    "\n",
    "    everything = gridplot(p_toa, p_sfc, p_atm, ncols=3, \n",
    "                          plot_width=300, plot_height=300)\n",
    "    \n",
    "    show(everything)\n",
    "    display.display(\n",
    "        display.Markdown('*FIGURE.* Difference between CLIRAD and CRD'\n",
    "          ' in TOA, SFC and net atmosphere flux,'\n",
    "          ' in each spectral band.'))\n",
    "\n",
    "\n",
    "    \n",
    "def show_tb_flux(atmpro='mls'):\n",
    "    ds_crd = crd_data_atm(lblnew_params_atm(atmpro=atmpro))['flux']\n",
    "    olr_crd = ds_crd['flug'].isel(pressure=0)\n",
    "    sfc_crd = ds_crd['fldg'].isel(pressure=-1)\n",
    "    atm_crd = (ds_crd.isel(pressure=0)\n",
    "               - ds_crd.isel(pressure=-1))['fnetg']\n",
    "    \n",
    "    ds_clirad = clirad_data_atm(\n",
    "        clirad_params_atm(atmpro=atmpro))['flux']\n",
    "    olr_clirad = ds_clirad['flug'].isel(pressure=0)\n",
    "    sfc_clirad = ds_clirad['fldg'].isel(pressure=-1)\n",
    "    atm_clirad = (ds_clirad.isel(pressure=0)\n",
    "                  - ds_clirad.isel(pressure=-1))['fnetg']\n",
    "\n",
    "    ds_clirad_singlerun = clirad_data_atm(\n",
    "        clirad_params_atm_singlerun(atmpro=atmpro))['flux']\n",
    "    olr_clirad_singlerun = ds_clirad_singlerun['flug'].isel(pressure=0)\n",
    "    sfc_clirad_singlerun = ds_clirad_singlerun['fldg'].isel(pressure=-1)\n",
    "    atm_clirad_singlerun = (ds_clirad_singlerun.isel(pressure=0)\n",
    "                  - ds_clirad_singlerun.isel(pressure=-1))['fnetg']\n",
    "    \n",
    "    if atmpro == 'mls':\n",
    "        ds_oldclirad = oldclirad_data_atm()['flux']\n",
    "        ds_oldclirad['pressure'] = ds_crd['pressure']\n",
    "        olr_oldclirad = ds_oldclirad['flug'].isel(pressure=0)\n",
    "        sfc_oldclirad = ds_oldclirad['fldg'].isel(pressure=-1)\n",
    "        atm_oldclirad = (ds_oldclirad.isel(pressure=0)\n",
    "                         - ds_oldclirad.isel(pressure=-1))['fnetg']\n",
    "        \n",
    "    \n",
    "    \n",
    "    df = pd.DataFrame()\n",
    "    df.index.name = 'Sum over bands'\n",
    "    \n",
    "    if atmpro == 'mls':\n",
    "        df.loc['old CLIRAD - CRD', 'OLR flux'] = (olr_oldclirad.sum('band') - olr_crd.sum('band')).values\n",
    "        df.loc['old CLIRAD - CRD', 'SFC flux'] = (sfc_oldclirad.sum('band') - sfc_crd.sum('band')).values\n",
    "        df.loc['old CLIRAD - CRD', 'ATM heating'] = (atm_oldclirad.sum('band') - atm_crd.sum('band')).values\n",
    "    \n",
    "    df.loc['CLIRAD (single-run) - CRD', 'OLR flux'] = (olr_clirad_singlerun - olr_crd).sum('band').values\n",
    "    df.loc['CLIRAD (single-run) - CRD', 'SFC flux'] = (sfc_clirad_singlerun - sfc_crd).sum('band').values\n",
    "    df.loc['CLIRAD (single-run) - CRD', 'ATM heating'] = (atm_clirad_singlerun - atm_crd).sum('band').values\n",
    "\n",
    "    df.loc['CRD', 'OLR flux'] = olr_crd.sum('band').values\n",
    "    df.loc['CRD', 'SFC flux'] = sfc_crd.sum('band').values\n",
    "    df.loc['CRD', 'ATM heating'] = atm_crd.sum('band').values\n",
    "        \n",
    "    df = df.astype('float').round(2)\n",
    "    \n",
    "    display.display(df)\n",
    "    display.display(\n",
    "        display.Markdown('*TABLE.* Difference between CLIRAD and CRD'\n",
    "          ' in TOA, SFC and net atmosphere flux,'\n",
    "          ' over all spectral bands. CRD\\'s'\n",
    "          ' TOA, SFC and net atmosphere flux,'\n",
    "          ' over all spectral bands.'))\n"
   ]
  },
  {
   "cell_type": "code",
   "execution_count": 282,
   "metadata": {
    "scrolled": false
   },
   "outputs": [
    {
     "data": {
      "text/markdown": [
       "## Results over entire range of molecules and spectral bands"
      ],
      "text/plain": [
       "<IPython.core.display.Markdown object>"
      ]
     },
     "metadata": {},
     "output_type": "display_data"
    },
    {
     "data": {
      "text/markdown": [
       "### Table of Contents"
      ],
      "text/plain": [
       "<IPython.core.display.Markdown object>"
      ]
     },
     "metadata": {},
     "output_type": "display_data"
    },
    {
     "data": {
      "text/html": [
       "<a href=\"#Makeup_of_atmosphere.\">Makeup of atmosphere.</a>"
      ],
      "text/plain": [
       "<IPython.core.display.HTML object>"
      ]
     },
     "metadata": {},
     "output_type": "display_data"
    },
    {
     "data": {
      "text/markdown": [
       "**mid-latitude summer**"
      ],
      "text/plain": [
       "<IPython.core.display.Markdown object>"
      ]
     },
     "metadata": {},
     "output_type": "display_data"
    },
    {
     "data": {
      "text/html": [
       "<a href=\"#Cooling_rates._mls.\">Cooling rates. mls.</a>"
      ],
      "text/plain": [
       "<IPython.core.display.HTML object>"
      ]
     },
     "metadata": {},
     "output_type": "display_data"
    },
    {
     "data": {
      "text/html": [
       "<a href=\"#Fluxes._mls.\">Fluxes. mls.</a>"
      ],
      "text/plain": [
       "<IPython.core.display.HTML object>"
      ]
     },
     "metadata": {},
     "output_type": "display_data"
    },
    {
     "data": {
      "text/markdown": [
       "**sub-arctic winter**"
      ],
      "text/plain": [
       "<IPython.core.display.Markdown object>"
      ]
     },
     "metadata": {},
     "output_type": "display_data"
    },
    {
     "data": {
      "text/html": [
       "<a href=\"#Cooling_rates._saw.\">Cooling rates. saw.</a>"
      ],
      "text/plain": [
       "<IPython.core.display.HTML object>"
      ]
     },
     "metadata": {},
     "output_type": "display_data"
    },
    {
     "data": {
      "text/html": [
       "<a href=\"#Fluxes._saw.\">Fluxes. saw.</a>"
      ],
      "text/plain": [
       "<IPython.core.display.HTML object>"
      ]
     },
     "metadata": {},
     "output_type": "display_data"
    },
    {
     "data": {
      "text/markdown": [
       "**tropical**"
      ],
      "text/plain": [
       "<IPython.core.display.Markdown object>"
      ]
     },
     "metadata": {},
     "output_type": "display_data"
    },
    {
     "data": {
      "text/html": [
       "<a href=\"#Cooling_rates._trp.\">Cooling rates. trp.</a>"
      ],
      "text/plain": [
       "<IPython.core.display.HTML object>"
      ]
     },
     "metadata": {},
     "output_type": "display_data"
    },
    {
     "data": {
      "text/html": [
       "<a href=\"#Fluxes._trp.\">Fluxes. trp.</a>"
      ],
      "text/plain": [
       "<IPython.core.display.HTML object>"
      ]
     },
     "metadata": {},
     "output_type": "display_data"
    },
    {
     "data": {
      "text/html": [
       "<a id=\"Makeup_of_atmosphere.\"></a>"
      ],
      "text/plain": [
       "<IPython.core.display.HTML object>"
      ]
     },
     "metadata": {},
     "output_type": "display_data"
    },
    {
     "data": {
      "text/markdown": [
       "# Makeup of atmosphere."
      ],
      "text/plain": [
       "<IPython.core.display.Markdown object>"
      ]
     },
     "metadata": {},
     "output_type": "display_data"
    },
    {
     "data": {
      "text/html": [
       "<div>\n",
       "<style scoped>\n",
       "    .dataframe tbody tr th:only-of-type {\n",
       "        vertical-align: middle;\n",
       "    }\n",
       "\n",
       "    .dataframe tbody tr th {\n",
       "        vertical-align: top;\n",
       "    }\n",
       "\n",
       "    .dataframe thead th {\n",
       "        text-align: right;\n",
       "    }\n",
       "</style>\n",
       "<table border=\"1\" class=\"dataframe\">\n",
       "  <thead>\n",
       "    <tr style=\"text-align: right;\">\n",
       "      <th>clirad band</th>\n",
       "      <th>1</th>\n",
       "      <th>2</th>\n",
       "      <th>3</th>\n",
       "      <th>4</th>\n",
       "      <th>5</th>\n",
       "      <th>6</th>\n",
       "      <th>7</th>\n",
       "      <th>8</th>\n",
       "      <th>9</th>\n",
       "      <th>10</th>\n",
       "      <th>11</th>\n",
       "    </tr>\n",
       "    <tr>\n",
       "      <th>molecule</th>\n",
       "      <th></th>\n",
       "      <th></th>\n",
       "      <th></th>\n",
       "      <th></th>\n",
       "      <th></th>\n",
       "      <th></th>\n",
       "      <th></th>\n",
       "      <th></th>\n",
       "      <th></th>\n",
       "      <th></th>\n",
       "      <th></th>\n",
       "    </tr>\n",
       "  </thead>\n",
       "  <tbody>\n",
       "    <tr>\n",
       "      <th>h2o</th>\n",
       "      <td>atmpro</td>\n",
       "      <td>atmpro</td>\n",
       "      <td>atmpro</td>\n",
       "      <td>atmpro</td>\n",
       "      <td>atmpro</td>\n",
       "      <td>atmpro</td>\n",
       "      <td>atmpro</td>\n",
       "      <td>atmpro</td>\n",
       "      <td>atmpro</td>\n",
       "      <td>atmpro</td>\n",
       "      <td>atmpro</td>\n",
       "    </tr>\n",
       "    <tr>\n",
       "      <th>co2</th>\n",
       "      <td>0</td>\n",
       "      <td>0</td>\n",
       "      <td>0.0004</td>\n",
       "      <td>0.0004</td>\n",
       "      <td>0.0004</td>\n",
       "      <td>0.0004</td>\n",
       "      <td>0.0004</td>\n",
       "      <td>0</td>\n",
       "      <td>0</td>\n",
       "      <td>0</td>\n",
       "      <td>0.0004</td>\n",
       "    </tr>\n",
       "    <tr>\n",
       "      <th>n2o</th>\n",
       "      <td>0</td>\n",
       "      <td>0</td>\n",
       "      <td>3.2e-07</td>\n",
       "      <td>0</td>\n",
       "      <td>0</td>\n",
       "      <td>0</td>\n",
       "      <td>0</td>\n",
       "      <td>0</td>\n",
       "      <td>3.2e-07</td>\n",
       "      <td>0</td>\n",
       "      <td>0</td>\n",
       "    </tr>\n",
       "    <tr>\n",
       "      <th>o3</th>\n",
       "      <td>0</td>\n",
       "      <td>0</td>\n",
       "      <td>0</td>\n",
       "      <td>0</td>\n",
       "      <td>0</td>\n",
       "      <td>0</td>\n",
       "      <td>atmpro</td>\n",
       "      <td>0</td>\n",
       "      <td>0</td>\n",
       "      <td>0</td>\n",
       "      <td>0</td>\n",
       "    </tr>\n",
       "    <tr>\n",
       "      <th>ch4</th>\n",
       "      <td>0</td>\n",
       "      <td>0</td>\n",
       "      <td>0</td>\n",
       "      <td>0</td>\n",
       "      <td>0</td>\n",
       "      <td>0</td>\n",
       "      <td>0</td>\n",
       "      <td>0</td>\n",
       "      <td>1.8e-06</td>\n",
       "      <td>0</td>\n",
       "      <td>0</td>\n",
       "    </tr>\n",
       "  </tbody>\n",
       "</table>\n",
       "</div>"
      ],
      "text/plain": [
       "clirad band      1       2        3       4       5       6       7       8   \\\n",
       "molecule                                                                       \n",
       "h2o          atmpro  atmpro   atmpro  atmpro  atmpro  atmpro  atmpro  atmpro   \n",
       "co2               0       0   0.0004  0.0004  0.0004  0.0004  0.0004       0   \n",
       "n2o               0       0  3.2e-07       0       0       0       0       0   \n",
       "o3                0       0        0       0       0       0  atmpro       0   \n",
       "ch4               0       0        0       0       0       0       0       0   \n",
       "\n",
       "clirad band       9       10      11  \n",
       "molecule                              \n",
       "h2o           atmpro  atmpro  atmpro  \n",
       "co2                0       0  0.0004  \n",
       "n2o          3.2e-07       0       0  \n",
       "o3                 0       0       0  \n",
       "ch4          1.8e-06       0       0  "
      ]
     },
     "metadata": {},
     "output_type": "display_data"
    },
    {
     "data": {
      "text/markdown": [
       "*TABLE.* The makeup of the atmosphere."
      ],
      "text/plain": [
       "<IPython.core.display.Markdown object>"
      ]
     },
     "metadata": {},
     "output_type": "display_data"
    },
    {
     "data": {
      "text/html": [
       "<a id=\"Cooling_rates._mls.\"></a>"
      ],
      "text/plain": [
       "<IPython.core.display.HTML object>"
      ]
     },
     "metadata": {},
     "output_type": "display_data"
    },
    {
     "data": {
      "text/markdown": [
       "# Cooling rates. mls."
      ],
      "text/plain": [
       "<IPython.core.display.Markdown object>"
      ]
     },
     "metadata": {},
     "output_type": "display_data"
    },
    {
     "data": {
      "text/html": [
       "\n",
       "<div class=\"bk-root\">\n",
       "    <div class=\"bk-plotdiv\" id=\"03c038b6-bab8-499f-baef-d0d925dc358c\"></div>\n",
       "</div>"
      ]
     },
     "metadata": {},
     "output_type": "display_data"
    },
    {
     "data": {
      "application/javascript": [
       "(function(root) {\n",
       "  function embed_document(root) {\n",
       "    \n",
       "  var docs_json = {\"bd82f6e1-4cb2-4b4b-9146-cc95c2fce705\":{\"roots\":{\"references\":[{\"attributes\":{},\"id\":\"f4e53f1c-b756-4c75-919d-977c5733d7de\",\"type\":\"Selection\"},{\"attributes\":{\"callback\":null,\"data\":{\"x\":{\"__ndarray__\":\"gQ5mi53YRUDCbWvm8BdDQNH2NI+S40FAiJm9PAs/QEBWuYGjU0A8QGL5HTtRPTdA+qSpHa7pMUAu3Lmly+UpQJPUAjnkGiJAiIC6KF00GkD8JPLi2t0UQPkZqhKpthFAXgmBeRVNDUDo1yrq/pUDQBJCuTYK9vU/dtFpy5OO+j/mD7q8ijIFQB7JG9aeDgtAKZPg33XgEEB3e15vURcWQASfV5qt/R1A31afOw7VJEBkZ/sSPswqQPJ8sfjH+ylASXHMMLlOJECnFuR/okcgQKATN+gOZBtALtOaGrQFFkBYLwnonigRQH3MfkLg4AtAJbaM1c4ICEAqMLR+58sCQGn6INO6Bfo/9OD7FbZF8T+Hs4EjcHrnP564dUqD6Ns/JQfYEdIQzT9x/Lwc00XAP+SGDp6tAKO/xAoZ+sRjyb+ScdT6eNyDv/4NISJvwuc/0BNwzqJ+9z+OhxM/9RYAQGCVqWPPlwFApa4RsMkGAECakb3Sg0P+P/wSdfkQIv0/okwaebtq/D8NcsI81zv8PzS6YIBmV/w/t/rzZVDu+z9vHpSuI3P7PzxXiTLKB/s/+xEut0e9+j80CdGvY4f6P91Lpyhohfo/hq2DgXOb+z8jUdf2UHz8P+0LQT6D/vw/NxBjOnr9/D975RKvuF38PyqTiuWeRvs/G8nM6yIW+j8IPCAwnv/4P9UcYY9Qbfg/OqB8rKY8+D929obcuzf4P6/7j5gVtPc/VtnblNCk9j8Yh5Uy8nP1P2TvKkPTiPQ/Kaw4REER9D/JF0FfkkT0P/aWmIV77/o/\",\"dtype\":\"float64\",\"shape\":[75]},\"y\":{\"__ndarray__\":\"GhExyth1ND/Sv8nbtpRIP2vylNV0PVE/aTum7souWD/At0SJ8fVgPw3Iuahxymc/MSNhhJWvcD/bTfBN02d3P2zb5nxnaoA/CD5h5MAGhz8NmeH1TyaQP+zrCsc9p5Y/LbKd76fGnz/bLW5ISEmmPww9YvTcQq8/JV2OstnstT8Er5Y7M8G+P0c+r3jqkcU/5h99k6ZBzj88bCIzFzjVP4enV8oyxN0//yH99nXg5D8qOpLLf0jtP5kqGJXUifQ/c9cS8kHP/D+/DpwzojQEQIEmwoanVwxA4lgXt9HgE0BSSZ2AJuIbQAMJih9jjiNA5q4l5INuK0AwTKYKRj0zQNv5fmq8/DpAaCJseHrtQkB/+zpwzoxKQM3MzMzMeFJAZmZmZmZqWEAAAAAAAFxeQM3MzMzMJmJAmpmZmZkfZUBmZmZmZhhoQDMzMzMzEWtAAAAAAAAKbkBmZmZmZoFwQM3MzMzM/XFAMzMzMzN6c0CamZmZmfZ0QAAAAAAAc3ZAZmZmZmbvd0DNzMzMzGt5QDMzMzMz6HpAmpmZmZlkfEAAAAAAAOF9QGZmZmZmXX9AZmZmZuZsgECamZmZGSuBQM3MzMxM6YFAAAAAAICngkAzMzMzs2WDQGZmZmbmI4RAmpmZmRnihEDNzMzMTKCFQAAAAACAXoZAMzMzM7Mch0BmZmZm5tqHQJqZmZkZmYhAzczMzExXiUAAAAAAgBWKQDMzMzOz04pAZmZmZuaRi0CamZmZGVCMQM3MzMxMDo1AAAAAAIDMjUAzMzMzs4qOQGZmZmbmSI9A\",\"dtype\":\"float64\",\"shape\":[75]}},\"selected\":{\"id\":\"c0e36cfe-697c-416d-bc6d-1c93f845ef9b\",\"type\":\"Selection\"},\"selection_policy\":{\"id\":\"bd6e5b24-be7a-4c96-b7f8-e9e95deaa921\",\"type\":\"UnionRenderers\"}},\"id\":\"3ace31e0-4cb5-4468-8b4a-fa1d2f208ba6\",\"type\":\"ColumnDataSource\"},{\"attributes\":{},\"id\":\"bd6e5b24-be7a-4c96-b7f8-e9e95deaa921\",\"type\":\"UnionRenderers\"},{\"attributes\":{},\"id\":\"671a5f6b-2fcf-4ccf-aa56-76ad29de9cc4\",\"type\":\"BasicTickFormatter\"},{\"attributes\":{\"line_alpha\":0.1,\"line_color\":\"#1f77b4\",\"line_dash\":[6],\"line_width\":5,\"x\":{\"field\":\"x\"},\"y\":{\"field\":\"y\"}},\"id\":\"342d0fb1-8917-413e-9dcd-8bd8ed4b5f6b\",\"type\":\"Line\"},{\"attributes\":{\"above\":[{\"id\":\"ca8f48f4-8761-4a66-811c-d50818f85bbe\",\"type\":\"Legend\"}],\"below\":[{\"id\":\"fcac19e5-0b14-438e-b6fa-7c673f1b7a48\",\"type\":\"LinearAxis\"}],\"left\":[{\"id\":\"978ad575-8619-4d08-bc0f-f7125706e47e\",\"type\":\"LogAxis\"}],\"plot_width\":300,\"renderers\":[{\"id\":\"fcac19e5-0b14-438e-b6fa-7c673f1b7a48\",\"type\":\"LinearAxis\"},{\"id\":\"c88ed950-9f9b-41a7-9d32-fdfbae310d26\",\"type\":\"Grid\"},{\"id\":\"978ad575-8619-4d08-bc0f-f7125706e47e\",\"type\":\"LogAxis\"},{\"id\":\"6013f23d-498b-4ace-a01c-5cbc482b3c3f\",\"type\":\"Grid\"},{\"id\":\"2253edae-aaf7-4cd0-b061-b82c276abe6a\",\"type\":\"BoxAnnotation\"},{\"id\":\"46c83d33-7023-4ae3-86e0-6f8ace7cdbac\",\"type\":\"GlyphRenderer\"},{\"id\":\"5b9ddc5a-0f83-4b0e-9a32-71ef71c8ff34\",\"type\":\"GlyphRenderer\"},{\"id\":\"fa646190-e317-4b1b-ba22-d6e4c9c24104\",\"type\":\"GlyphRenderer\"},{\"id\":\"ca8f48f4-8761-4a66-811c-d50818f85bbe\",\"type\":\"Legend\"}],\"title\":{\"id\":\"af79baab-4c20-4c22-bed2-1e89e1d05e71\",\"type\":\"Title\"},\"toolbar\":{\"id\":\"cfa4edf7-4e97-4483-954e-e393b25f24df\",\"type\":\"Toolbar\"},\"toolbar_location\":null,\"x_range\":{\"id\":\"ee007d76-628c-42ad-8e6a-e17ba66fca3f\",\"type\":\"Range1d\"},\"x_scale\":{\"id\":\"43f2c9c8-f3a3-41a4-b23b-1de174ab3d64\",\"type\":\"LinearScale\"},\"y_range\":{\"id\":\"8d9153ba-baaa-42fc-8a8f-7880c020a561\",\"type\":\"Range1d\"},\"y_scale\":{\"id\":\"5c78204b-d038-468d-8914-5ab2d850dd24\",\"type\":\"LogScale\"}},\"id\":\"267681b2-a1a1-480a-b04e-28dd59e041aa\",\"subtype\":\"Figure\",\"type\":\"Plot\"},{\"attributes\":{\"items\":[{\"id\":\"bcc45734-b55d-4460-bc11-5b46ebff5c70\",\"type\":\"LegendItem\"},{\"id\":\"65924e25-00c0-47dc-b8c3-fd8987da4aa4\",\"type\":\"LegendItem\"},{\"id\":\"4da0b521-e1da-4670-b30d-a447527836f9\",\"type\":\"LegendItem\"}],\"label_text_font_size\":{\"value\":\"8pt\"},\"location\":\"top_center\",\"orientation\":\"horizontal\",\"plot\":{\"id\":\"b54cbe26-5c67-4bd6-9a4e-d9e5b8126d80\",\"subtype\":\"Figure\",\"type\":\"Plot\"}},\"id\":\"f4bf96a0-0ce1-4b6d-888d-6e6826e5f5c1\",\"type\":\"Legend\"},{\"attributes\":{},\"id\":\"7fbf86da-2e8d-4165-89fe-0927cabc63fa\",\"type\":\"UnionRenderers\"},{\"attributes\":{\"toolbar\":{\"id\":\"c1dce8ba-4d49-4a29-ac62-9b34b612cdef\",\"type\":\"ProxyToolbar\"},\"toolbar_location\":\"above\"},\"id\":\"05cbc88b-c66f-40c4-9b6c-21083638e58a\",\"type\":\"ToolbarBox\"},{\"attributes\":{\"children\":[{\"id\":\"05cbc88b-c66f-40c4-9b6c-21083638e58a\",\"type\":\"ToolbarBox\"},{\"id\":\"73a414f2-e1d3-4da9-ab78-9519156c60dc\",\"type\":\"Column\"}]},\"id\":\"9231537b-c47c-4a68-8e85-5e2d046ccada\",\"type\":\"Column\"},{\"attributes\":{},\"id\":\"c10de3c6-73b6-4a02-9e31-d0bcc0d0037c\",\"type\":\"UnionRenderers\"},{\"attributes\":{},\"id\":\"9cb16966-1cfd-491d-af69-b48250f843ba\",\"type\":\"Selection\"},{\"attributes\":{},\"id\":\"f2af1e5f-35db-4f1e-b4a4-be6800f604db\",\"type\":\"UnionRenderers\"},{\"attributes\":{},\"id\":\"0ca11a33-e05b-4270-999f-fb8b4ca71372\",\"type\":\"Selection\"},{\"attributes\":{\"ticker\":null},\"id\":\"4cb7b8ff-3fcc-4dec-8675-64cf8ed784a2\",\"type\":\"LogTickFormatter\"},{\"attributes\":{},\"id\":\"3e28c8c0-9c81-4d76-a27e-ce98fd2e279d\",\"type\":\"Selection\"},{\"attributes\":{\"bottom_units\":\"screen\",\"fill_alpha\":{\"value\":0.5},\"fill_color\":{\"value\":\"lightgrey\"},\"left_units\":\"screen\",\"level\":\"overlay\",\"line_alpha\":{\"value\":1.0},\"line_color\":{\"value\":\"black\"},\"line_dash\":[4,4],\"line_width\":{\"value\":2},\"plot\":null,\"render_mode\":\"css\",\"right_units\":\"screen\",\"top_units\":\"screen\"},\"id\":\"2253edae-aaf7-4cd0-b061-b82c276abe6a\",\"type\":\"BoxAnnotation\"},{\"attributes\":{\"active_drag\":\"auto\",\"active_inspect\":\"auto\",\"active_scroll\":\"auto\",\"active_tap\":\"auto\",\"tools\":[{\"id\":\"d31ddbc7-3cba-4e8e-8074-8bcff97d7731\",\"type\":\"PanTool\"},{\"id\":\"197f76c1-3725-4b1c-912f-95fbf47164bc\",\"type\":\"WheelZoomTool\"},{\"id\":\"f3452e05-c271-4233-af0f-05cc7b94973b\",\"type\":\"BoxZoomTool\"},{\"id\":\"d3da73c3-6929-4e9e-8593-b33082d7c7b0\",\"type\":\"SaveTool\"},{\"id\":\"11838226-cefc-4bb6-8a64-d7b224547f3b\",\"type\":\"ResetTool\"},{\"id\":\"43682453-cefc-456a-8543-10f294b7d98a\",\"type\":\"HelpTool\"}]},\"id\":\"cfa4edf7-4e97-4483-954e-e393b25f24df\",\"type\":\"Toolbar\"},{\"attributes\":{\"overlay\":{\"id\":\"2253edae-aaf7-4cd0-b061-b82c276abe6a\",\"type\":\"BoxAnnotation\"}},\"id\":\"f3452e05-c271-4233-af0f-05cc7b94973b\",\"type\":\"BoxZoomTool\"},{\"attributes\":{},\"id\":\"6563568f-6447-4b4f-9179-ec14ba0aaeb8\",\"type\":\"UnionRenderers\"},{\"attributes\":{},\"id\":\"4dcb7b27-c6a1-4ebc-8191-c9695ece260e\",\"type\":\"UnionRenderers\"},{\"attributes\":{\"line_alpha\":0.6,\"line_color\":\"#377eb8\",\"line_dash\":[6],\"line_width\":5,\"x\":{\"field\":\"x\"},\"y\":{\"field\":\"y\"}},\"id\":\"9e5a1589-f7a5-4b1c-8504-f489a82c31ce\",\"type\":\"Line\"},{\"attributes\":{},\"id\":\"d31ddbc7-3cba-4e8e-8074-8bcff97d7731\",\"type\":\"PanTool\"},{\"attributes\":{\"callback\":null,\"data\":{\"x\":{\"__ndarray__\":\"cm1sTMT3VEDEyvjosEJHQOKI6DjzCUNArgQWV9awPkB9Lm8XG3M4QEz+Qv6iYzNA7eV8HaPLLkCX1QHyTpMoQFBmYSYetiNAUB04GtGpH0AmFyVE5j8ZQJca9QPGqBNALJP+OOHHDEBNxaf7QF8AQKtislomWuw/cW2dcO6A9T/uJJvfPu0EQIaQLTI/JQ1AxGiII+PmEkCJvfVeuCsYQD6ZBhGbHB9AXQw69DTYJEAsubcwKucqQNuT9D5OmipAJyi3szEJJUBlNebh5WkgQDDcPHBr2xlArtlANXuQFEBdJadFHckQQI2Avh0ZsQtAjYiwt1rsBUCL0SDoVBgAQK6C0nEEjvc/CggLSme58T9sXU2orFPnP0v0JYz9Gdg/vT38vxYczD9nBQTe6kHHP1IhkEXJwKo/8OZnhCVAub+xtVgCpmqzP6DUpY6g0+k/PKK3T1h4+D8RTDjQc1EAQG/dAQs7TwJAQt2eHpPLAEBWEh074x//PyCap9ZSGf4/rEzaTySm/T+7aXhHRmr9P688KeqeNP0/ruZ4EemD/D8olrZcn9T7P0+vNc9hW/s/i9VVL+4P+z+0NzC24uz6P8731Kza8vo/xFf4SHzq+z+gYyHpvHb8P68ROkiFevw/BAjYdCga/D8AUp8VbW77P3JrF/nKmvo/qCQeGfq++T/dplwHJfn4P2G4p+Uva/g/OzZ0RqMZ+D8dmn/iar73P/OuA7Ka8PY/gaaeQHGn9T9hkyjAH1L0P3aZGhdAU/M/n8VP/g7P8j+90HxHNvfyPwhNBtgrqvk/\",\"dtype\":\"float64\",\"shape\":[75]},\"y\":{\"__ndarray__\":\"GhExyth1ND/Sv8nbtpRIP2vylNV0PVE/aTum7souWD/At0SJ8fVgPw3Iuahxymc/MSNhhJWvcD/bTfBN02d3P2zb5nxnaoA/CD5h5MAGhz8NmeH1TyaQP+zrCsc9p5Y/LbKd76fGnz/bLW5ISEmmPww9YvTcQq8/JV2OstnstT8Er5Y7M8G+P0c+r3jqkcU/5h99k6ZBzj88bCIzFzjVP4enV8oyxN0//yH99nXg5D8qOpLLf0jtP5kqGJXUifQ/c9cS8kHP/D+/DpwzojQEQIEmwoanVwxA4lgXt9HgE0BSSZ2AJuIbQAMJih9jjiNA5q4l5INuK0AwTKYKRj0zQNv5fmq8/DpAaCJseHrtQkB/+zpwzoxKQM3MzMzMeFJAZmZmZmZqWEAAAAAAAFxeQM3MzMzMJmJAmpmZmZkfZUBmZmZmZhhoQDMzMzMzEWtAAAAAAAAKbkBmZmZmZoFwQM3MzMzM/XFAMzMzMzN6c0CamZmZmfZ0QAAAAAAAc3ZAZmZmZmbvd0DNzMzMzGt5QDMzMzMz6HpAmpmZmZlkfEAAAAAAAOF9QGZmZmZmXX9AZmZmZuZsgECamZmZGSuBQM3MzMxM6YFAAAAAAICngkAzMzMzs2WDQGZmZmbmI4RAmpmZmRnihEDNzMzMTKCFQAAAAACAXoZAMzMzM7Mch0BmZmZm5tqHQJqZmZkZmYhAzczMzExXiUAAAAAAgBWKQDMzMzOz04pAZmZmZuaRi0CamZmZGVCMQM3MzMxMDo1AAAAAAIDMjUAzMzMzs4qOQGZmZmbmSI9A\",\"dtype\":\"float64\",\"shape\":[75]}},\"selected\":{\"id\":\"3e28c8c0-9c81-4d76-a27e-ce98fd2e279d\",\"type\":\"Selection\"},\"selection_policy\":{\"id\":\"2f738657-e122-4846-b6b0-eedf60b301e7\",\"type\":\"UnionRenderers\"}},\"id\":\"e5d48657-4445-4441-9a61-6806482e329c\",\"type\":\"ColumnDataSource\"},{\"attributes\":{\"plot\":null,\"text\":\"\"},\"id\":\"af79baab-4c20-4c22-bed2-1e89e1d05e71\",\"type\":\"Title\"},{\"attributes\":{\"fill_alpha\":{\"value\":0.1},\"fill_color\":{\"value\":\"#1f77b4\"},\"line_alpha\":{\"value\":0.1},\"line_color\":{\"value\":\"#1f77b4\"},\"x\":{\"field\":\"x\"},\"y\":{\"field\":\"y\"}},\"id\":\"f848e879-9506-475a-bb18-83721b158f0d\",\"type\":\"Circle\"},{\"attributes\":{},\"id\":\"a027b7ba-6e84-47d9-af03-a6aafd9e9791\",\"type\":\"Selection\"},{\"attributes\":{},\"id\":\"eac82bf8-9fc1-4b76-8ff9-21ad2120de4d\",\"type\":\"Selection\"},{\"attributes\":{\"label\":{\"value\":\"CRD\"},\"renderers\":[{\"id\":\"58654093-392b-4dbd-9816-00f3cb4022ca\",\"type\":\"GlyphRenderer\"},{\"id\":\"7504ddf9-29ea-4a3b-a791-48313dd3e75f\",\"type\":\"GlyphRenderer\"}]},\"id\":\"65924e25-00c0-47dc-b8c3-fd8987da4aa4\",\"type\":\"LegendItem\"},{\"attributes\":{\"source\":{\"id\":\"6e36edca-b404-48f6-8323-efe915da009e\",\"type\":\"ColumnDataSource\"}},\"id\":\"d1e8c660-6dca-4e9d-bfd5-b8c370ca1cf3\",\"type\":\"CDSView\"},{\"attributes\":{\"data_source\":{\"id\":\"6e36edca-b404-48f6-8323-efe915da009e\",\"type\":\"ColumnDataSource\"},\"glyph\":{\"id\":\"acff8366-2d11-4dd9-b27e-69227dcb8430\",\"type\":\"Circle\"},\"hover_glyph\":null,\"muted_glyph\":null,\"nonselection_glyph\":{\"id\":\"f848e879-9506-475a-bb18-83721b158f0d\",\"type\":\"Circle\"},\"selection_glyph\":null,\"view\":{\"id\":\"d1e8c660-6dca-4e9d-bfd5-b8c370ca1cf3\",\"type\":\"CDSView\"}},\"id\":\"58654093-392b-4dbd-9816-00f3cb4022ca\",\"type\":\"GlyphRenderer\"},{\"attributes\":{},\"id\":\"1913d7b5-221c-47e0-a6f9-3df0f7a45d29\",\"type\":\"Selection\"},{\"attributes\":{\"line_alpha\":0.1,\"line_color\":\"#1f77b4\",\"line_width\":1.5,\"x\":{\"field\":\"x\"},\"y\":{\"field\":\"y\"}},\"id\":\"454c9b42-146f-4d68-b1a3-e16098df9cca\",\"type\":\"Line\"},{\"attributes\":{\"source\":{\"id\":\"3a687232-dec4-4630-91a0-948b67716cca\",\"type\":\"ColumnDataSource\"}},\"id\":\"b65dac6b-5867-4592-aeb7-42b20d7bff7f\",\"type\":\"CDSView\"},{\"attributes\":{\"callback\":null,\"data\":{\"x\":{\"__ndarray__\":\"MXhf+wfXU0AZbvNjswdFQLQWsEQVdUFA5TlpnhT9QUB/x1dOYK05QImjxHmcEjZA9jYDSBB3L0AISPl4H6wqQBPuuwfAzyJAOcHprUZAIUB7WWpkesAXQJoT1Uq+ChVArO/8u0EXCkBgVNlshzgCQMeNQ+Nzu/I/POwv1Qzh+D9QxMRmcj8DQOrE7tC4mAxAQsLBRIlHEkAi4cPYoDEXQEeDpjRjzB1ASZ0GEfCuI0DVFj11sssnQOMiVKSMHyhAWRHvUxNoJEDo8cjD4g8gQLGGvR2NDRpAdpI3nV5oFECtyWH9Lp4QQIZQd9bvmwtAkshlnu1BBkBMysnQf1UAQHZJU/DYZ/c/HoEhV+G48T/rSm4vc/TmP3EgV4cD49g/xmy6+4w7zz+bEsjh3uDDPw5SRMRogKs/4GPKdPc1a78lazVXN1vCP/B84ODeUug/LOyxgXDV9z+/DBHyZAwAQAOIY+fy/QFAahF3XKCUAECV0GHvGsz+P+X4k4Nhvf0/RO/IqI98/T8rkW+v/zT9P59vGMDsAv0/zEX7plCY/D/E3siS8kj7P2yUMv+hDvs/RmrXDaYs+z+c9f5GCO36P58nVCbr7vo/Qus8hbcy/D+rD5hFMCf9P4t6dxofnPw/bRp4QYZ2/D/q8NNiN2b8P5YTVw9ESPw/l1Dy0X/K+j+WKih3ZdD5P2k8OYxHjvk/hceGh5N4+T8lpPahWSn5P6vJnePt4vY/UuhmxnXI9T8miFqdE+D0Pz7qfx5CR/Q/0khvq2US9D9LfVdHQGv0P9syeEmwYfg/\",\"dtype\":\"float64\",\"shape\":[75]},\"y\":{\"__ndarray__\":\"hLndy31yND/6fmq8dJNIP8n9DkWBPlE/aDum7souWD/b4a/JGvVgP9f34SAhymc/ZvM4DOavcD+z0M5pFmh3PxuC4zJuaoA/xjcUPlsHhz8uHAjJAiaQP9ieWRKgppY/oI7HDFTGnz+a5h2n6EimPzS6g9iZQq8/IuAQqtTstT9SSZ2AJsK+P4nS3uALk8U/ih9j7lpCzj+ASL99HTjVP4enV8oyxN0/ACL99nXg5D9fmEwVjErtPyUGgZVDi/Q/AiuHFtnO/D9OYhBYOTQEQPHSTWIQWAxA4XoUrkfhE0D8qfHSTeIbQMh2vp8ajyNArkfhehRuK0Bcj8L1KDwzQFyPwvUo/DpAPgrXo3DtQkDNzMzMzIxKQClcj8L1eFJAKVyPwvVoWECamZmZmVleQGZmZmZmJmJAAAAAAAAgZUCamZmZmRloQJqZmZmZEWtAmpmZmZkJbkCamZmZmYFwQGZmZmZm/nFAZmZmZmZ6c0BmZmZmZvZ0QDQzMzMzc3ZAAAAAAADwd0AAAAAAAGx5QAAAAAAA6HpAzMzMzMxkfEDMzMzMzOB9QM3MzMzMXH9AzczMzMxsgEAzMzMzMyuBQDMzMzMz6YFAMzMzMzOngkCamZmZmWWDQAAAAAAAJIRAAAAAAADihEAAAAAAAKCFQGZmZmZmXoZAzczMzMwch0DNzMzMzNqHQM3MzMzMmIhAMzMzMzNXiUCamZmZmRWKQAAAAAAA1IpAAAAAAACSi0AAAAAAAFCMQGZmZmZmDo1AzczMzMzMjUDNzMzMzIqOQM3MzMzMSI9A\",\"dtype\":\"float64\",\"shape\":[75]}},\"selected\":{\"id\":\"19e014b6-9b12-4ff6-bd2f-a7bdf44d078d\",\"type\":\"Selection\"},\"selection_policy\":{\"id\":\"4dcb7b27-c6a1-4ebc-8191-c9695ece260e\",\"type\":\"UnionRenderers\"}},\"id\":\"1afc4866-06cf-417e-86b0-cc5bc840e71d\",\"type\":\"ColumnDataSource\"},{\"attributes\":{\"plot\":{\"id\":\"9bdd3ae1-3900-4667-bc4c-fda747580630\",\"subtype\":\"Figure\",\"type\":\"Plot\"},\"ticker\":{\"id\":\"9992f54c-9482-445b-8477-e8ecfc46aac5\",\"type\":\"BasicTicker\"}},\"id\":\"999f5215-6ede-40fa-aa18-f2410dd2ea97\",\"type\":\"Grid\"},{\"attributes\":{\"source\":{\"id\":\"6ab011a7-1e61-448b-a689-180685fb44f2\",\"type\":\"ColumnDataSource\"}},\"id\":\"027b27e6-4bc1-4150-acee-e3a06392a6c5\",\"type\":\"CDSView\"},{\"attributes\":{},\"id\":\"197f76c1-3725-4b1c-912f-95fbf47164bc\",\"type\":\"WheelZoomTool\"},{\"attributes\":{\"line_alpha\":0.5,\"line_color\":\"#984ea3\",\"line_width\":1.5,\"x\":{\"field\":\"x\"},\"y\":{\"field\":\"y\"}},\"id\":\"cf977346-1576-48b6-91d8-4af2fe7e680c\",\"type\":\"Line\"},{\"attributes\":{\"source\":{\"id\":\"1afc4866-06cf-417e-86b0-cc5bc840e71d\",\"type\":\"ColumnDataSource\"}},\"id\":\"3407c5c2-1fdd-47c6-b583-204ca0ec3e72\",\"type\":\"CDSView\"},{\"attributes\":{},\"id\":\"ad141022-0c57-462c-9cb0-a85f20903e4e\",\"type\":\"BasicTickFormatter\"},{\"attributes\":{},\"id\":\"c3b2f8c4-c7cf-4a14-9a0e-56f014f98981\",\"type\":\"Selection\"},{\"attributes\":{\"axis_label\":\"cooling rate [K/day]\",\"formatter\":{\"id\":\"b8e1c7e1-9bdd-4cf2-8095-241b0e5c9cf3\",\"type\":\"BasicTickFormatter\"},\"plot\":{\"id\":\"9bdd3ae1-3900-4667-bc4c-fda747580630\",\"subtype\":\"Figure\",\"type\":\"Plot\"},\"ticker\":{\"id\":\"9992f54c-9482-445b-8477-e8ecfc46aac5\",\"type\":\"BasicTicker\"}},\"id\":\"c3707adf-662e-4d09-b622-80ca69416f2d\",\"type\":\"LinearAxis\"},{\"attributes\":{\"line_alpha\":0.8,\"line_color\":\"#984ea3\",\"line_width\":1.5,\"x\":{\"field\":\"x\"},\"y\":{\"field\":\"y\"}},\"id\":\"a2e8e451-b8e2-4a26-ad25-05139baab3fa\",\"type\":\"Line\"},{\"attributes\":{\"active_drag\":\"auto\",\"active_inspect\":\"auto\",\"active_scroll\":\"auto\",\"active_tap\":\"auto\",\"tools\":[{\"id\":\"81de2171-5002-48ca-9500-658a41d1b688\",\"type\":\"PanTool\"},{\"id\":\"a293de2d-cd08-4bfa-b5aa-6bcf7441ee95\",\"type\":\"WheelZoomTool\"},{\"id\":\"6b189b5c-a9f4-4b14-b82c-4feee02a58d2\",\"type\":\"BoxZoomTool\"},{\"id\":\"518f7787-f637-4a8d-85f9-755619c80827\",\"type\":\"SaveTool\"},{\"id\":\"2320cf1f-4940-4d09-bcd6-b168a3e49d70\",\"type\":\"ResetTool\"},{\"id\":\"3f280e93-54f6-4aa3-b213-1db6f4f93bc4\",\"type\":\"HelpTool\"}]},\"id\":\"9c2fe66b-539b-4521-aa59-4203ada223b1\",\"type\":\"Toolbar\"},{\"attributes\":{},\"id\":\"9992f54c-9482-445b-8477-e8ecfc46aac5\",\"type\":\"BasicTicker\"},{\"attributes\":{\"dimension\":1,\"plot\":{\"id\":\"9bdd3ae1-3900-4667-bc4c-fda747580630\",\"subtype\":\"Figure\",\"type\":\"Plot\"},\"ticker\":{\"id\":\"9906ef43-8963-4ec4-903b-6826d6a94845\",\"type\":\"LogTicker\"}},\"id\":\"c69c7a79-3480-4eff-8a1c-54eafffe7ca6\",\"type\":\"Grid\"},{\"attributes\":{\"line_color\":\"#4daf4a\",\"line_width\":1.5,\"x\":{\"field\":\"x\"},\"y\":{\"field\":\"y\"}},\"id\":\"7e8c95c7-c726-4e88-94da-6dbfef47dccd\",\"type\":\"Line\"},{\"attributes\":{\"label\":{\"value\":\"CLIRAD (single-run)\"},\"renderers\":[{\"id\":\"44a718ff-7619-4f40-855e-186caddddd94\",\"type\":\"GlyphRenderer\"}]},\"id\":\"bcc45734-b55d-4460-bc11-5b46ebff5c70\",\"type\":\"LegendItem\"},{\"attributes\":{\"line_alpha\":0.1,\"line_color\":\"#1f77b4\",\"line_width\":1.5,\"x\":{\"field\":\"x\"},\"y\":{\"field\":\"y\"}},\"id\":\"4bf98ca3-0793-4075-9403-3c90fda494dc\",\"type\":\"Line\"},{\"attributes\":{\"callback\":null,\"data\":{\"x\":{\"__ndarray__\":\"YcxyDesWRMAIdDUKAKsgwBohOZsKZgLAJeZSJgLU/D/FVpRgxGkOQKzY1+ZxzQ5AIpBZd+QeBEB2aYA7yyflP8Ab6dWes+m/IHP2xc/V9b+dyMuELYjxv9IJsBTPId+/TcZOEIimsD/RlBh077XZP+5CgCXcI98/FpAxa5U21D+mvbpH91KhP0I7juACtdC/1aw+HWoz4L+eELp8N6Pgv46j72rX7tG/sPOr1cQ1eb8yylG8HeyqvzLdYsjI0NO/iNtWXRBP17+iXw8BsSGxvwV3o383itg/95efVY5T1z8Wf4KYaOC3Pxz4JWCS45c/xGzh7qDj0D/z9Jq0lJzVP9S9cwqzvcM/ncXJA03snL/+DCuavWFzP5gifvItdK4/6ix5O2qXfj/VIxwFX/CrvyFUz3G74La/my7Kb2SHub/iQ7MhNea1vxA1JmSLibC/ec3xKLA2r7/CQWKSSD+dv/kBCet07ba/jdOl0S2ZuL/hF/AL7Yurv4nkUKY76K6/oQAAbI22s7/sel+r8Oayv1lPEDkNp6u/hX6dcBWzor/B7Z2I616YvxIFFivn5ZS/kePwCZ6plL+En8uXwV+Zv6r8aguhXJu/hY8q3THCk78YErbXNlBWP49H38C+f6A/WwZhsThqrD+Qb3Iuc+mtP/D2ZI59eqU/qxypqzTKlT/wr1QOo+RZP+CjI8tNBUE/JP80BLOBgT9iFteBPlSeP2eXidFcb6g/plqmh+qrrz+CO88mJx2yP91eBcEyWbM/pmiOXiQjtD+1cER8wdW0P/GeJNn6VLQ/\",\"dtype\":\"float64\",\"shape\":[75]},\"y\":{\"__ndarray__\":\"GhExyth1ND/Sv8nbtpRIP2vylNV0PVE/aTum7souWD/At0SJ8fVgPw3Iuahxymc/MSNhhJWvcD/bTfBN02d3P2zb5nxnaoA/CD5h5MAGhz8NmeH1TyaQP+zrCsc9p5Y/LbKd76fGnz/bLW5ISEmmPww9YvTcQq8/JV2OstnstT8Er5Y7M8G+P0c+r3jqkcU/5h99k6ZBzj88bCIzFzjVP4enV8oyxN0//yH99nXg5D8qOpLLf0jtP5kqGJXUifQ/c9cS8kHP/D+/DpwzojQEQIEmwoanVwxA4lgXt9HgE0BSSZ2AJuIbQAMJih9jjiNA5q4l5INuK0AwTKYKRj0zQNv5fmq8/DpAaCJseHrtQkB/+zpwzoxKQM3MzMzMeFJAZmZmZmZqWEAAAAAAAFxeQM3MzMzMJmJAmpmZmZkfZUBmZmZmZhhoQDMzMzMzEWtAAAAAAAAKbkBmZmZmZoFwQM3MzMzM/XFAMzMzMzN6c0CamZmZmfZ0QAAAAAAAc3ZAZmZmZmbvd0DNzMzMzGt5QDMzMzMz6HpAmpmZmZlkfEAAAAAAAOF9QGZmZmZmXX9AZmZmZuZsgECamZmZGSuBQM3MzMxM6YFAAAAAAICngkAzMzMzs2WDQGZmZmbmI4RAmpmZmRnihEDNzMzMTKCFQAAAAACAXoZAMzMzM7Mch0BmZmZm5tqHQJqZmZkZmYhAzczMzExXiUAAAAAAgBWKQDMzMzOz04pAZmZmZuaRi0CamZmZGVCMQM3MzMxMDo1AAAAAAIDMjUAzMzMzs4qOQGZmZmbmSI9A\",\"dtype\":\"float64\",\"shape\":[75]}},\"selected\":{\"id\":\"c3b2f8c4-c7cf-4a14-9a0e-56f014f98981\",\"type\":\"Selection\"},\"selection_policy\":{\"id\":\"71488ec2-d61c-4fe0-8dbb-6e15c8c08b15\",\"type\":\"UnionRenderers\"}},\"id\":\"f29d874d-edfe-4931-b62b-d42ce98222e0\",\"type\":\"ColumnDataSource\"},{\"attributes\":{},\"id\":\"66a75a17-a044-4379-8d95-37b51e31a3d1\",\"type\":\"UnionRenderers\"},{\"attributes\":{\"data_source\":{\"id\":\"e5d48657-4445-4441-9a61-6806482e329c\",\"type\":\"ColumnDataSource\"},\"glyph\":{\"id\":\"7e8c95c7-c726-4e88-94da-6dbfef47dccd\",\"type\":\"Line\"},\"hover_glyph\":null,\"muted_glyph\":null,\"nonselection_glyph\":{\"id\":\"454c9b42-146f-4d68-b1a3-e16098df9cca\",\"type\":\"Line\"},\"selection_glyph\":null,\"view\":{\"id\":\"c9580b3c-b10b-4e3f-a005-0b8c981ca4f4\",\"type\":\"CDSView\"}},\"id\":\"7504ddf9-29ea-4a3b-a791-48313dd3e75f\",\"type\":\"GlyphRenderer\"},{\"attributes\":{\"source\":{\"id\":\"b0ea6ce5-8c04-495d-a0d8-593f11b4c4c4\",\"type\":\"ColumnDataSource\"}},\"id\":\"fba7ef7e-3aa3-4fda-b65b-fc9ef4868337\",\"type\":\"CDSView\"},{\"attributes\":{\"axis_label\":\"pressure [mb]\",\"formatter\":{\"id\":\"4cb7b8ff-3fcc-4dec-8675-64cf8ed784a2\",\"type\":\"LogTickFormatter\"},\"plot\":{\"id\":\"9bdd3ae1-3900-4667-bc4c-fda747580630\",\"subtype\":\"Figure\",\"type\":\"Plot\"},\"ticker\":{\"id\":\"9906ef43-8963-4ec4-903b-6826d6a94845\",\"type\":\"LogTicker\"}},\"id\":\"164c2b85-dad4-4718-be79-24e833b6ec47\",\"type\":\"LogAxis\"},{\"attributes\":{\"above\":[{\"id\":\"f4bf96a0-0ce1-4b6d-888d-6e6826e5f5c1\",\"type\":\"Legend\"}],\"below\":[{\"id\":\"7d7daaa0-7a41-4985-85d5-a786cda59a0b\",\"type\":\"LinearAxis\"}],\"left\":[{\"id\":\"28ec08b5-d716-4b8b-b54e-2c4343243150\",\"type\":\"LinearAxis\"}],\"plot_width\":300,\"renderers\":[{\"id\":\"7d7daaa0-7a41-4985-85d5-a786cda59a0b\",\"type\":\"LinearAxis\"},{\"id\":\"f8b716b9-f97e-4153-8c13-2f7f6b32b809\",\"type\":\"Grid\"},{\"id\":\"28ec08b5-d716-4b8b-b54e-2c4343243150\",\"type\":\"LinearAxis\"},{\"id\":\"ee31f047-06ca-41ad-b98e-0425d92aedbb\",\"type\":\"Grid\"},{\"id\":\"81e2d0aa-a8aa-4a34-84a2-9a2df41f4eb7\",\"type\":\"BoxAnnotation\"},{\"id\":\"44a718ff-7619-4f40-855e-186caddddd94\",\"type\":\"GlyphRenderer\"},{\"id\":\"58654093-392b-4dbd-9816-00f3cb4022ca\",\"type\":\"GlyphRenderer\"},{\"id\":\"7504ddf9-29ea-4a3b-a791-48313dd3e75f\",\"type\":\"GlyphRenderer\"},{\"id\":\"12022612-98a7-4750-a010-751eb3547fd0\",\"type\":\"GlyphRenderer\"},{\"id\":\"ffc4895d-c5b8-4ff8-a550-fa2070f395a5\",\"type\":\"GlyphRenderer\"},{\"id\":\"f4bf96a0-0ce1-4b6d-888d-6e6826e5f5c1\",\"type\":\"Legend\"}],\"title\":{\"id\":\"6bb537e9-281c-4f2a-8022-ba4c134a2d08\",\"type\":\"Title\"},\"toolbar\":{\"id\":\"15c8faf3-5965-4f3b-86ef-8b8a8c68176d\",\"type\":\"Toolbar\"},\"toolbar_location\":null,\"x_range\":{\"id\":\"fa65b522-816a-4cc6-af3a-9b67b4d39167\",\"type\":\"Range1d\"},\"x_scale\":{\"id\":\"06fe4d08-56f2-4795-a75b-5cc3a8ce0e73\",\"type\":\"LinearScale\"},\"y_range\":{\"id\":\"b9c89375-9b7e-43ed-984f-cec7d84daa16\",\"type\":\"Range1d\"},\"y_scale\":{\"id\":\"cdb4a245-32cd-4696-8ff4-a3543de4af78\",\"type\":\"LinearScale\"}},\"id\":\"b54cbe26-5c67-4bd6-9a4e-d9e5b8126d80\",\"subtype\":\"Figure\",\"type\":\"Plot\"},{\"attributes\":{\"label\":{\"value\":\"old CLIRAD (H2012)\"},\"renderers\":[{\"id\":\"12022612-98a7-4750-a010-751eb3547fd0\",\"type\":\"GlyphRenderer\"},{\"id\":\"ffc4895d-c5b8-4ff8-a550-fa2070f395a5\",\"type\":\"GlyphRenderer\"}]},\"id\":\"4da0b521-e1da-4670-b30d-a447527836f9\",\"type\":\"LegendItem\"},{\"attributes\":{\"data_source\":{\"id\":\"f29d874d-edfe-4931-b62b-d42ce98222e0\",\"type\":\"ColumnDataSource\"},\"glyph\":{\"id\":\"a2e8e451-b8e2-4a26-ad25-05139baab3fa\",\"type\":\"Line\"},\"hover_glyph\":null,\"muted_glyph\":null,\"nonselection_glyph\":{\"id\":\"4bf98ca3-0793-4075-9403-3c90fda494dc\",\"type\":\"Line\"},\"selection_glyph\":null,\"view\":{\"id\":\"bf45d7c3-6620-425a-8d6a-f44f3b8df0b6\",\"type\":\"CDSView\"}},\"id\":\"5b9ddc5a-0f83-4b0e-9a32-71ef71c8ff34\",\"type\":\"GlyphRenderer\"},{\"attributes\":{\"fill_alpha\":{\"value\":0.1},\"fill_color\":{\"value\":\"#1f77b4\"},\"line_alpha\":{\"value\":0.1},\"line_color\":{\"value\":\"#1f77b4\"},\"x\":{\"field\":\"x\"},\"y\":{\"field\":\"y\"}},\"id\":\"f14431a9-ef17-44dd-b6cb-5c4b6e8e15d2\",\"type\":\"Square\"},{\"attributes\":{},\"id\":\"2f738657-e122-4846-b6b0-eedf60b301e7\",\"type\":\"UnionRenderers\"},{\"attributes\":{\"source\":{\"id\":\"e5d48657-4445-4441-9a61-6806482e329c\",\"type\":\"ColumnDataSource\"}},\"id\":\"c9580b3c-b10b-4e3f-a005-0b8c981ca4f4\",\"type\":\"CDSView\"},{\"attributes\":{\"items\":[{\"id\":\"734504ee-20fc-4158-90ff-823f7e0ba875\",\"type\":\"LegendItem\"},{\"id\":\"2cdc976f-fe89-4c35-8c0c-9f411d16da8f\",\"type\":\"LegendItem\"}],\"label_text_font_size\":{\"value\":\"8pt\"},\"location\":\"top_center\",\"orientation\":\"horizontal\",\"plot\":{\"id\":\"267681b2-a1a1-480a-b04e-28dd59e041aa\",\"subtype\":\"Figure\",\"type\":\"Plot\"}},\"id\":\"ca8f48f4-8761-4a66-811c-d50818f85bbe\",\"type\":\"Legend\"},{\"attributes\":{\"num_minor_ticks\":10},\"id\":\"9906ef43-8963-4ec4-903b-6826d6a94845\",\"type\":\"LogTicker\"},{\"attributes\":{\"data_source\":{\"id\":\"b0ea6ce5-8c04-495d-a0d8-593f11b4c4c4\",\"type\":\"ColumnDataSource\"},\"glyph\":{\"id\":\"cf977346-1576-48b6-91d8-4af2fe7e680c\",\"type\":\"Line\"},\"hover_glyph\":null,\"muted_glyph\":null,\"nonselection_glyph\":{\"id\":\"49f17f6a-d415-4e7b-98ad-57cdb62b4a15\",\"type\":\"Line\"},\"selection_glyph\":null,\"view\":{\"id\":\"fba7ef7e-3aa3-4fda-b65b-fc9ef4868337\",\"type\":\"CDSView\"}},\"id\":\"ffc4895d-c5b8-4ff8-a550-fa2070f395a5\",\"type\":\"GlyphRenderer\"},{\"attributes\":{\"fill_alpha\":{\"value\":0.7},\"fill_color\":{\"value\":\"#4daf4a\"},\"line_alpha\":{\"value\":0.7},\"line_color\":{\"value\":\"#4daf4a\"},\"x\":{\"field\":\"x\"},\"y\":{\"field\":\"y\"}},\"id\":\"acff8366-2d11-4dd9-b27e-69227dcb8430\",\"type\":\"Circle\"},{\"attributes\":{\"above\":[{\"id\":\"95823c06-35f7-464f-b741-5a5629289440\",\"type\":\"Legend\"}],\"below\":[{\"id\":\"c3707adf-662e-4d09-b622-80ca69416f2d\",\"type\":\"LinearAxis\"}],\"left\":[{\"id\":\"164c2b85-dad4-4718-be79-24e833b6ec47\",\"type\":\"LogAxis\"}],\"plot_width\":300,\"renderers\":[{\"id\":\"c3707adf-662e-4d09-b622-80ca69416f2d\",\"type\":\"LinearAxis\"},{\"id\":\"999f5215-6ede-40fa-aa18-f2410dd2ea97\",\"type\":\"Grid\"},{\"id\":\"164c2b85-dad4-4718-be79-24e833b6ec47\",\"type\":\"LogAxis\"},{\"id\":\"c69c7a79-3480-4eff-8a1c-54eafffe7ca6\",\"type\":\"Grid\"},{\"id\":\"8f4ecb8b-2e34-4588-8a67-a5fa385ae147\",\"type\":\"BoxAnnotation\"},{\"id\":\"29a9120d-818a-4d7c-933f-c6fbd0c6cb8b\",\"type\":\"GlyphRenderer\"},{\"id\":\"423069a4-1d34-4856-8f6f-30f82df18bd1\",\"type\":\"GlyphRenderer\"},{\"id\":\"f8e50303-8c3c-4888-a86f-b46b8d0e656d\",\"type\":\"GlyphRenderer\"},{\"id\":\"0addc5df-a36a-4b22-bc69-27c63f5044a5\",\"type\":\"GlyphRenderer\"},{\"id\":\"d6e9e0fe-723a-4d39-b730-1a5496385aac\",\"type\":\"GlyphRenderer\"},{\"id\":\"95823c06-35f7-464f-b741-5a5629289440\",\"type\":\"Legend\"}],\"title\":{\"id\":\"49f65de7-9d80-49e8-ac95-16b784e913cb\",\"type\":\"Title\"},\"toolbar\":{\"id\":\"9c2fe66b-539b-4521-aa59-4203ada223b1\",\"type\":\"Toolbar\"},\"toolbar_location\":null,\"x_range\":{\"id\":\"578579b9-d3f2-488b-adcd-026774781d0f\",\"type\":\"Range1d\"},\"x_scale\":{\"id\":\"cb92273c-1bca-4684-b34a-14ce8095ee3c\",\"type\":\"LinearScale\"},\"y_range\":{\"id\":\"7951ab9f-b30d-4b88-ae24-38f4bd8f6f3e\",\"type\":\"Range1d\"},\"y_scale\":{\"id\":\"79f07669-1552-45ec-80b9-2b48ffc7ccba\",\"type\":\"LogScale\"}},\"id\":\"9bdd3ae1-3900-4667-bc4c-fda747580630\",\"subtype\":\"Figure\",\"type\":\"Plot\"},{\"attributes\":{\"callback\":null,\"data\":{\"x\":{\"__ndarray__\":\"cm1sTMT3VEDEyvjosEJHQOKI6DjzCUNArgQWV9awPkB9Lm8XG3M4QEz+Qv6iYzNA7eV8HaPLLkCX1QHyTpMoQFBmYSYetiNAUB04GtGpH0AmFyVE5j8ZQJca9QPGqBNALJP+OOHHDEBNxaf7QF8AQKtislomWuw/cW2dcO6A9T/uJJvfPu0EQIaQLTI/JQ1AxGiII+PmEkCJvfVeuCsYQD6ZBhGbHB9AXQw69DTYJEAsubcwKucqQNuT9D5OmipAJyi3szEJJUBlNebh5WkgQDDcPHBr2xlArtlANXuQFEBdJadFHckQQI2Avh0ZsQtAjYiwt1rsBUCL0SDoVBgAQK6C0nEEjvc/CggLSme58T9sXU2orFPnP0v0JYz9Gdg/vT38vxYczD9nBQTe6kHHP1IhkEXJwKo/8OZnhCVAub+xtVgCpmqzP6DUpY6g0+k/PKK3T1h4+D8RTDjQc1EAQG/dAQs7TwJAQt2eHpPLAEBWEh074x//PyCap9ZSGf4/rEzaTySm/T+7aXhHRmr9P688KeqeNP0/ruZ4EemD/D8olrZcn9T7P0+vNc9hW/s/i9VVL+4P+z+0NzC24uz6P8731Kza8vo/xFf4SHzq+z+gYyHpvHb8P68ROkiFevw/BAjYdCga/D8AUp8VbW77P3JrF/nKmvo/qCQeGfq++T/dplwHJfn4P2G4p+Uva/g/OzZ0RqMZ+D8dmn/iar73P/OuA7Ka8PY/gaaeQHGn9T9hkyjAH1L0P3aZGhdAU/M/n8VP/g7P8j+90HxHNvfyPwhNBtgrqvk/\",\"dtype\":\"float64\",\"shape\":[75]},\"y\":{\"__ndarray__\":\"GhExyth1ND/Sv8nbtpRIP2vylNV0PVE/aTum7souWD/At0SJ8fVgPw3Iuahxymc/MSNhhJWvcD/bTfBN02d3P2zb5nxnaoA/CD5h5MAGhz8NmeH1TyaQP+zrCsc9p5Y/LbKd76fGnz/bLW5ISEmmPww9YvTcQq8/JV2OstnstT8Er5Y7M8G+P0c+r3jqkcU/5h99k6ZBzj88bCIzFzjVP4enV8oyxN0//yH99nXg5D8qOpLLf0jtP5kqGJXUifQ/c9cS8kHP/D+/DpwzojQEQIEmwoanVwxA4lgXt9HgE0BSSZ2AJuIbQAMJih9jjiNA5q4l5INuK0AwTKYKRj0zQNv5fmq8/DpAaCJseHrtQkB/+zpwzoxKQM3MzMzMeFJAZmZmZmZqWEAAAAAAAFxeQM3MzMzMJmJAmpmZmZkfZUBmZmZmZhhoQDMzMzMzEWtAAAAAAAAKbkBmZmZmZoFwQM3MzMzM/XFAMzMzMzN6c0CamZmZmfZ0QAAAAAAAc3ZAZmZmZmbvd0DNzMzMzGt5QDMzMzMz6HpAmpmZmZlkfEAAAAAAAOF9QGZmZmZmXX9AZmZmZuZsgECamZmZGSuBQM3MzMxM6YFAAAAAAICngkAzMzMzs2WDQGZmZmbmI4RAmpmZmRnihEDNzMzMTKCFQAAAAACAXoZAMzMzM7Mch0BmZmZm5tqHQJqZmZkZmYhAzczMzExXiUAAAAAAgBWKQDMzMzOz04pAZmZmZuaRi0CamZmZGVCMQM3MzMxMDo1AAAAAAIDMjUAzMzMzs4qOQGZmZmbmSI9A\",\"dtype\":\"float64\",\"shape\":[75]}},\"selected\":{\"id\":\"f02f82f5-0ba6-45ec-98b8-318aee21186f\",\"type\":\"Selection\"},\"selection_policy\":{\"id\":\"6563568f-6447-4b4f-9179-ec14ba0aaeb8\",\"type\":\"UnionRenderers\"}},\"id\":\"6e36edca-b404-48f6-8323-efe915da009e\",\"type\":\"ColumnDataSource\"},{\"attributes\":{\"source\":{\"id\":\"3ace31e0-4cb5-4468-8b4a-fa1d2f208ba6\",\"type\":\"ColumnDataSource\"}},\"id\":\"1c7b188e-becb-4d00-b071-a114ff0111e6\",\"type\":\"CDSView\"},{\"attributes\":{\"data_source\":{\"id\":\"1afc4866-06cf-417e-86b0-cc5bc840e71d\",\"type\":\"ColumnDataSource\"},\"glyph\":{\"id\":\"676ea657-8cd2-4b19-9302-5ab6fbd8df86\",\"type\":\"Square\"},\"hover_glyph\":null,\"muted_glyph\":null,\"nonselection_glyph\":{\"id\":\"f14431a9-ef17-44dd-b6cb-5c4b6e8e15d2\",\"type\":\"Square\"},\"selection_glyph\":null,\"view\":{\"id\":\"3407c5c2-1fdd-47c6-b583-204ca0ec3e72\",\"type\":\"CDSView\"}},\"id\":\"12022612-98a7-4750-a010-751eb3547fd0\",\"type\":\"GlyphRenderer\"},{\"attributes\":{\"fill_alpha\":{\"value\":0.7},\"fill_color\":{\"value\":\"#984ea3\"},\"line_alpha\":{\"value\":0.7},\"line_color\":{\"value\":\"#984ea3\"},\"x\":{\"field\":\"x\"},\"y\":{\"field\":\"y\"}},\"id\":\"676ea657-8cd2-4b19-9302-5ab6fbd8df86\",\"type\":\"Square\"},{\"attributes\":{\"data_source\":{\"id\":\"6ab011a7-1e61-448b-a689-180685fb44f2\",\"type\":\"ColumnDataSource\"},\"glyph\":{\"id\":\"9e5a1589-f7a5-4b1c-8504-f489a82c31ce\",\"type\":\"Line\"},\"hover_glyph\":null,\"muted_glyph\":null,\"nonselection_glyph\":{\"id\":\"fb64ad29-1c5c-4c8c-bad6-943ac94afca8\",\"type\":\"Line\"},\"selection_glyph\":null,\"view\":{\"id\":\"027b27e6-4bc1-4150-acee-e3a06392a6c5\",\"type\":\"CDSView\"}},\"id\":\"44a718ff-7619-4f40-855e-186caddddd94\",\"type\":\"GlyphRenderer\"},{\"attributes\":{},\"id\":\"06fe4d08-56f2-4795-a75b-5cc3a8ce0e73\",\"type\":\"LinearScale\"},{\"attributes\":{\"callback\":null,\"data\":{\"x\":{\"__ndarray__\":\"MXhf+wfXU0AZbvNjswdFQLQWsEQVdUFA5TlpnhT9QUB/x1dOYK05QImjxHmcEjZA9jYDSBB3L0AISPl4H6wqQBPuuwfAzyJAOcHprUZAIUB7WWpkesAXQJoT1Uq+ChVArO/8u0EXCkBgVNlshzgCQMeNQ+Nzu/I/POwv1Qzh+D9QxMRmcj8DQOrE7tC4mAxAQsLBRIlHEkAi4cPYoDEXQEeDpjRjzB1ASZ0GEfCuI0DVFj11sssnQOMiVKSMHyhAWRHvUxNoJEDo8cjD4g8gQLGGvR2NDRpAdpI3nV5oFECtyWH9Lp4QQIZQd9bvmwtAkshlnu1BBkBMysnQf1UAQHZJU/DYZ/c/HoEhV+G48T/rSm4vc/TmP3EgV4cD49g/xmy6+4w7zz+bEsjh3uDDPw5SRMRogKs/4GPKdPc1a78lazVXN1vCP/B84ODeUug/LOyxgXDV9z+/DBHyZAwAQAOIY+fy/QFAahF3XKCUAECV0GHvGsz+P+X4k4Nhvf0/RO/IqI98/T8rkW+v/zT9P59vGMDsAv0/zEX7plCY/D/E3siS8kj7P2yUMv+hDvs/RmrXDaYs+z+c9f5GCO36P58nVCbr7vo/Qus8hbcy/D+rD5hFMCf9P4t6dxofnPw/bRp4QYZ2/D/q8NNiN2b8P5YTVw9ESPw/l1Dy0X/K+j+WKih3ZdD5P2k8OYxHjvk/hceGh5N4+T8lpPahWSn5P6vJnePt4vY/UuhmxnXI9T8miFqdE+D0Pz7qfx5CR/Q/0khvq2US9D9LfVdHQGv0P9syeEmwYfg/\",\"dtype\":\"float64\",\"shape\":[75]},\"y\":{\"__ndarray__\":\"hLndy31yND/6fmq8dJNIP8n9DkWBPlE/aDum7souWD/b4a/JGvVgP9f34SAhymc/ZvM4DOavcD+z0M5pFmh3PxuC4zJuaoA/xjcUPlsHhz8uHAjJAiaQP9ieWRKgppY/oI7HDFTGnz+a5h2n6EimPzS6g9iZQq8/IuAQqtTstT9SSZ2AJsK+P4nS3uALk8U/ih9j7lpCzj+ASL99HTjVP4enV8oyxN0/ACL99nXg5D9fmEwVjErtPyUGgZVDi/Q/AiuHFtnO/D9OYhBYOTQEQPHSTWIQWAxA4XoUrkfhE0D8qfHSTeIbQMh2vp8ajyNArkfhehRuK0Bcj8L1KDwzQFyPwvUo/DpAPgrXo3DtQkDNzMzMzIxKQClcj8L1eFJAKVyPwvVoWECamZmZmVleQGZmZmZmJmJAAAAAAAAgZUCamZmZmRloQJqZmZmZEWtAmpmZmZkJbkCamZmZmYFwQGZmZmZm/nFAZmZmZmZ6c0BmZmZmZvZ0QDQzMzMzc3ZAAAAAAADwd0AAAAAAAGx5QAAAAAAA6HpAzMzMzMxkfEDMzMzMzOB9QM3MzMzMXH9AzczMzMxsgEAzMzMzMyuBQDMzMzMz6YFAMzMzMzOngkCamZmZmWWDQAAAAAAAJIRAAAAAAADihEAAAAAAAKCFQGZmZmZmXoZAzczMzMwch0DNzMzMzNqHQM3MzMzMmIhAMzMzMzNXiUCamZmZmRWKQAAAAAAA1IpAAAAAAACSi0AAAAAAAFCMQGZmZmZmDo1AzczMzMzMjUDNzMzMzIqOQM3MzMzMSI9A\",\"dtype\":\"float64\",\"shape\":[75]}},\"selected\":{\"id\":\"a027b7ba-6e84-47d9-af03-a6aafd9e9791\",\"type\":\"Selection\"},\"selection_policy\":{\"id\":\"7e39df54-201d-4a32-b4f3-267fa396c15f\",\"type\":\"UnionRenderers\"}},\"id\":\"b0ea6ce5-8c04-495d-a0d8-593f11b4c4c4\",\"type\":\"ColumnDataSource\"},{\"attributes\":{\"line_alpha\":0.1,\"line_color\":\"#1f77b4\",\"line_dash\":[6],\"line_width\":5,\"x\":{\"field\":\"x\"},\"y\":{\"field\":\"y\"}},\"id\":\"fb64ad29-1c5c-4c8c-bad6-943ac94afca8\",\"type\":\"Line\"},{\"attributes\":{},\"id\":\"79f07669-1552-45ec-80b9-2b48ffc7ccba\",\"type\":\"LogScale\"},{\"attributes\":{},\"id\":\"f02f82f5-0ba6-45ec-98b8-318aee21186f\",\"type\":\"Selection\"},{\"attributes\":{\"line_alpha\":0.1,\"line_color\":\"#1f77b4\",\"line_width\":1.5,\"x\":{\"field\":\"x\"},\"y\":{\"field\":\"y\"}},\"id\":\"49f17f6a-d415-4e7b-98ad-57cdb62b4a15\",\"type\":\"Line\"},{\"attributes\":{\"items\":[{\"id\":\"fbd5653e-b3fb-4d90-be20-5224b1f015bb\",\"type\":\"LegendItem\"},{\"id\":\"db0bda23-4de9-49db-b89b-3d22d29d748f\",\"type\":\"LegendItem\"},{\"id\":\"af8bfafa-c418-499d-99a4-00e0be8e6eba\",\"type\":\"LegendItem\"}],\"label_text_font_size\":{\"value\":\"8pt\"},\"location\":\"top_center\",\"orientation\":\"horizontal\",\"plot\":{\"id\":\"9bdd3ae1-3900-4667-bc4c-fda747580630\",\"subtype\":\"Figure\",\"type\":\"Plot\"}},\"id\":\"95823c06-35f7-464f-b741-5a5629289440\",\"type\":\"Legend\"},{\"attributes\":{\"data_source\":{\"id\":\"3a687232-dec4-4630-91a0-948b67716cca\",\"type\":\"ColumnDataSource\"},\"glyph\":{\"id\":\"247057d7-176e-4356-9a2d-3926f7a7863b\",\"type\":\"Circle\"},\"hover_glyph\":null,\"muted_glyph\":null,\"nonselection_glyph\":{\"id\":\"e6b7bafd-4970-4b62-a55e-137647020244\",\"type\":\"Circle\"},\"selection_glyph\":null,\"view\":{\"id\":\"b65dac6b-5867-4592-aeb7-42b20d7bff7f\",\"type\":\"CDSView\"}},\"id\":\"46c83d33-7023-4ae3-86e0-6f8ace7cdbac\",\"type\":\"GlyphRenderer\"},{\"attributes\":{},\"id\":\"cb92273c-1bca-4684-b34a-14ce8095ee3c\",\"type\":\"LinearScale\"},{\"attributes\":{\"overlay\":{\"id\":\"8f4ecb8b-2e34-4588-8a67-a5fa385ae147\",\"type\":\"BoxAnnotation\"}},\"id\":\"6b189b5c-a9f4-4b14-b82c-4feee02a58d2\",\"type\":\"BoxZoomTool\"},{\"attributes\":{\"dimension\":1,\"plot\":{\"id\":\"b54cbe26-5c67-4bd6-9a4e-d9e5b8126d80\",\"subtype\":\"Figure\",\"type\":\"Plot\"},\"ticker\":{\"id\":\"52bfe275-8695-4d64-b283-efbb5440e7ff\",\"type\":\"BasicTicker\"}},\"id\":\"ee31f047-06ca-41ad-b98e-0425d92aedbb\",\"type\":\"Grid\"},{\"attributes\":{\"callback\":null,\"end\":13.587992271301857,\"start\":-0.33485573154785997},\"id\":\"578579b9-d3f2-488b-adcd-026774781d0f\",\"type\":\"Range1d\"},{\"attributes\":{},\"id\":\"d1e2c6a1-84ca-481b-a4e9-698f290190e4\",\"type\":\"SaveTool\"},{\"attributes\":{},\"id\":\"518f7787-f637-4a8d-85f9-755619c80827\",\"type\":\"SaveTool\"},{\"attributes\":{},\"id\":\"2320cf1f-4940-4d09-bcd6-b168a3e49d70\",\"type\":\"ResetTool\"},{\"attributes\":{\"bottom_units\":\"screen\",\"fill_alpha\":{\"value\":0.5},\"fill_color\":{\"value\":\"lightgrey\"},\"left_units\":\"screen\",\"level\":\"overlay\",\"line_alpha\":{\"value\":1.0},\"line_color\":{\"value\":\"black\"},\"line_dash\":[4,4],\"line_width\":{\"value\":2},\"plot\":null,\"render_mode\":\"css\",\"right_units\":\"screen\",\"top_units\":\"screen\"},\"id\":\"81e2d0aa-a8aa-4a34-84a2-9a2df41f4eb7\",\"type\":\"BoxAnnotation\"},{\"attributes\":{\"line_alpha\":0.1,\"line_color\":\"#1f77b4\",\"line_width\":1.5,\"x\":{\"field\":\"x\"},\"y\":{\"field\":\"y\"}},\"id\":\"0566b6f2-014a-4f0a-aeea-17df24092d84\",\"type\":\"Line\"},{\"attributes\":{\"label\":{\"value\":\"old CLIRAD (H2012)\"},\"renderers\":[{\"id\":\"0addc5df-a36a-4b22-bc69-27c63f5044a5\",\"type\":\"GlyphRenderer\"},{\"id\":\"d6e9e0fe-723a-4d39-b730-1a5496385aac\",\"type\":\"GlyphRenderer\"}]},\"id\":\"af8bfafa-c418-499d-99a4-00e0be8e6eba\",\"type\":\"LegendItem\"},{\"attributes\":{\"callback\":null,\"end\":2.3135572748904605,\"start\":-0.22322766227646001},\"id\":\"fa65b522-816a-4cc6-af3a-9b67b4d39167\",\"type\":\"Range1d\"},{\"attributes\":{},\"id\":\"5c78204b-d038-468d-8914-5ab2d850dd24\",\"type\":\"LogScale\"},{\"attributes\":{\"callback\":null,\"data\":{\"x\":{\"__ndarray__\":\"EFTPEMULEsBY5Soo7NcRwOAih0PfTQnAcLzxlkslFUAgkIluU6TzP+gpDdzLdwVAICHKUKVt1T+Ik7s3hMbwP6AHr9TDy9y/ECnbDOK15j+w2qv7vfbXvzCQ/22EH9Y/ABwN6PuE1b8w8RgTZ5TNP8ZxqdeCOdI/WPaTJPMAyz/gCWaNx9zKv4Bz2SfMkLG/QNDU2Dvrw7/gjDvG8ELPv3BfAcZ9A9W/QPE2M06U4r+4EtXbvdv4v8CHA9UM1vO/wNkC+csj1L9A31CHx4DGv4BAVcDWEKk/AJyjBEwOpL8A2K0iJHelvwAHMEdHKYW/QAFQrblkpT+AYHxUdJWePwCcnL/AFYO/AIDdMF2+IL9AoMQ3Xs6Hv8CEJWa/IIk/SHjx3bH7mD9glt/hXwibv4AXhtbv81c/0ZPByHVmuD+ZIBKsyEuxPwB7VdwaDKi/AMK2wPlcpL+A1M+Jt0OhvwBblecIUqS/AOzlE2F5m79AcNDuEvKUv8BO6MRU/Ja/ALSuiFPKhL8ASGwETKOKvwCIZggV2Yi/AB5fgpVndD+A7LY9mXWhv8C4xgD0L5O/ALuUgd63fD8AAPReZ8gCPwB4gQY0fE+/gN8kEc8Okj9ggdWOaw6mPwButB7pzIA/QJoEKHMXlz9A3ZOmSfmuP0CC+mOR17o/8L5CjVu4sD8gd3D5DeiqP4BAGGl6MbI/oBQpEQTvtT+AoHD36662PwCQysucWWu/gOgg5EKCgD+gmD6me76hPwAZquxAgK4/MDP40Wo1tD/gyKr9n0C3P9Ci4ei4h7S/\",\"dtype\":\"float64\",\"shape\":[75]},\"y\":{\"__ndarray__\":\"GhExyth1ND/Sv8nbtpRIP2vylNV0PVE/aTum7souWD/At0SJ8fVgPw3Iuahxymc/MSNhhJWvcD/bTfBN02d3P2zb5nxnaoA/CD5h5MAGhz8NmeH1TyaQP+zrCsc9p5Y/LbKd76fGnz/bLW5ISEmmPww9YvTcQq8/JV2OstnstT8Er5Y7M8G+P0c+r3jqkcU/5h99k6ZBzj88bCIzFzjVP4enV8oyxN0//yH99nXg5D8qOpLLf0jtP5kqGJXUifQ/c9cS8kHP/D+/DpwzojQEQIEmwoanVwxA4lgXt9HgE0BSSZ2AJuIbQAMJih9jjiNA5q4l5INuK0AwTKYKRj0zQNv5fmq8/DpAaCJseHrtQkB/+zpwzoxKQM3MzMzMeFJAZmZmZmZqWEAAAAAAAFxeQM3MzMzMJmJAmpmZmZkfZUBmZmZmZhhoQDMzMzMzEWtAAAAAAAAKbkBmZmZmZoFwQM3MzMzM/XFAMzMzMzN6c0CamZmZmfZ0QAAAAAAAc3ZAZmZmZmbvd0DNzMzMzGt5QDMzMzMz6HpAmpmZmZlkfEAAAAAAAOF9QGZmZmZmXX9AZmZmZuZsgECamZmZGSuBQM3MzMxM6YFAAAAAAICngkAzMzMzs2WDQGZmZmbmI4RAmpmZmRnihEDNzMzMTKCFQAAAAACAXoZAMzMzM7Mch0BmZmZm5tqHQJqZmZkZmYhAzczMzExXiUAAAAAAgBWKQDMzMzOz04pAZmZmZuaRi0CamZmZGVCMQM3MzMxMDo1AAAAAAIDMjUAzMzMzs4qOQGZmZmbmSI9A\",\"dtype\":\"float64\",\"shape\":[75]}},\"selected\":{\"id\":\"b9ddea87-a5b7-46ce-9a2a-c702785df6cc\",\"type\":\"Selection\"},\"selection_policy\":{\"id\":\"13edd839-6cff-45f1-85dc-d96638ed0a75\",\"type\":\"UnionRenderers\"}},\"id\":\"1cefca6e-d120-481f-b7ae-60e02d447fa0\",\"type\":\"ColumnDataSource\"},{\"attributes\":{},\"id\":\"083de5d1-7bc4-46a3-a527-bbc116232730\",\"type\":\"WheelZoomTool\"},{\"attributes\":{\"callback\":null,\"data\":{\"x\":{\"__ndarray__\":\"gQ5mi53YRUDCbWvm8BdDQNH2NI+S40FAiJm9PAs/QEBWuYGjU0A8QGL5HTtRPTdA+qSpHa7pMUAu3Lmly+UpQJPUAjnkGiJAiIC6KF00GkD8JPLi2t0UQPkZqhKpthFAXgmBeRVNDUDo1yrq/pUDQBJCuTYK9vU/dtFpy5OO+j/mD7q8ijIFQB7JG9aeDgtAKZPg33XgEEB3e15vURcWQASfV5qt/R1A31afOw7VJEBkZ/sSPswqQPJ8sfjH+ylASXHMMLlOJECnFuR/okcgQKATN+gOZBtALtOaGrQFFkBYLwnonigRQH3MfkLg4AtAJbaM1c4ICEAqMLR+58sCQGn6INO6Bfo/9OD7FbZF8T+Hs4EjcHrnP564dUqD6Ns/JQfYEdIQzT9x/Lwc00XAP+SGDp6tAKO/xAoZ+sRjyb+ScdT6eNyDv/4NISJvwuc/0BNwzqJ+9z+OhxM/9RYAQGCVqWPPlwFApa4RsMkGAECakb3Sg0P+P/wSdfkQIv0/okwaebtq/D8NcsI81zv8PzS6YIBmV/w/t/rzZVDu+z9vHpSuI3P7PzxXiTLKB/s/+xEut0e9+j80CdGvY4f6P91Lpyhohfo/hq2DgXOb+z8jUdf2UHz8P+0LQT6D/vw/NxBjOnr9/D975RKvuF38PyqTiuWeRvs/G8nM6yIW+j8IPCAwnv/4P9UcYY9Qbfg/OqB8rKY8+D929obcuzf4P6/7j5gVtPc/VtnblNCk9j8Yh5Uy8nP1P2TvKkPTiPQ/Kaw4REER9D/JF0FfkkT0P/aWmIV77/o/\",\"dtype\":\"float64\",\"shape\":[75]},\"y\":{\"__ndarray__\":\"GhExyth1ND/Sv8nbtpRIP2vylNV0PVE/aTum7souWD/At0SJ8fVgPw3Iuahxymc/MSNhhJWvcD/bTfBN02d3P2zb5nxnaoA/CD5h5MAGhz8NmeH1TyaQP+zrCsc9p5Y/LbKd76fGnz/bLW5ISEmmPww9YvTcQq8/JV2OstnstT8Er5Y7M8G+P0c+r3jqkcU/5h99k6ZBzj88bCIzFzjVP4enV8oyxN0//yH99nXg5D8qOpLLf0jtP5kqGJXUifQ/c9cS8kHP/D+/DpwzojQEQIEmwoanVwxA4lgXt9HgE0BSSZ2AJuIbQAMJih9jjiNA5q4l5INuK0AwTKYKRj0zQNv5fmq8/DpAaCJseHrtQkB/+zpwzoxKQM3MzMzMeFJAZmZmZmZqWEAAAAAAAFxeQM3MzMzMJmJAmpmZmZkfZUBmZmZmZhhoQDMzMzMzEWtAAAAAAAAKbkBmZmZmZoFwQM3MzMzM/XFAMzMzMzN6c0CamZmZmfZ0QAAAAAAAc3ZAZmZmZmbvd0DNzMzMzGt5QDMzMzMz6HpAmpmZmZlkfEAAAAAAAOF9QGZmZmZmXX9AZmZmZuZsgECamZmZGSuBQM3MzMxM6YFAAAAAAICngkAzMzMzs2WDQGZmZmbmI4RAmpmZmRnihEDNzMzMTKCFQAAAAACAXoZAMzMzM7Mch0BmZmZm5tqHQJqZmZkZmYhAzczMzExXiUAAAAAAgBWKQDMzMzOz04pAZmZmZuaRi0CamZmZGVCMQM3MzMxMDo1AAAAAAIDMjUAzMzMzs4qOQGZmZmbmSI9A\",\"dtype\":\"float64\",\"shape\":[75]}},\"selected\":{\"id\":\"eac82bf8-9fc1-4b76-8ff9-21ad2120de4d\",\"type\":\"Selection\"},\"selection_policy\":{\"id\":\"008ac3f0-5ae0-4844-a3d5-42275a96e41a\",\"type\":\"UnionRenderers\"}},\"id\":\"6ab011a7-1e61-448b-a689-180685fb44f2\",\"type\":\"ColumnDataSource\"},{\"attributes\":{\"label\":{\"value\":\"CLIRAD (single-run)\"},\"renderers\":[{\"id\":\"29a9120d-818a-4d7c-933f-c6fbd0c6cb8b\",\"type\":\"GlyphRenderer\"}]},\"id\":\"fbd5653e-b3fb-4d90-be20-5224b1f015bb\",\"type\":\"LegendItem\"},{\"attributes\":{},\"id\":\"219f9664-cb38-4f23-9c89-a2305d288f9e\",\"type\":\"BasicTicker\"},{\"attributes\":{\"axis_label\":\"pressure [mb]\",\"formatter\":{\"id\":\"40db7593-0e29-4e7a-848b-f71cccfa0441\",\"type\":\"BasicTickFormatter\"},\"plot\":{\"id\":\"b54cbe26-5c67-4bd6-9a4e-d9e5b8126d80\",\"subtype\":\"Figure\",\"type\":\"Plot\"},\"ticker\":{\"id\":\"52bfe275-8695-4d64-b283-efbb5440e7ff\",\"type\":\"BasicTicker\"}},\"id\":\"28ec08b5-d716-4b8b-b54e-2c4343243150\",\"type\":\"LinearAxis\"},{\"attributes\":{\"data_source\":{\"id\":\"279187f8-1ac3-42ad-8bf5-9fe940331d78\",\"type\":\"ColumnDataSource\"},\"glyph\":{\"id\":\"8157411b-18f9-4377-b4e8-61302ccdcc30\",\"type\":\"Circle\"},\"hover_glyph\":null,\"muted_glyph\":null,\"nonselection_glyph\":{\"id\":\"ca8d5b4d-129a-4080-a8df-0b7a189ef0e3\",\"type\":\"Circle\"},\"selection_glyph\":null,\"view\":{\"id\":\"da0d0162-dd4e-4f34-88c1-49f82e42270c\",\"type\":\"CDSView\"}},\"id\":\"423069a4-1d34-4856-8f6f-30f82df18bd1\",\"type\":\"GlyphRenderer\"},{\"attributes\":{\"plot\":null,\"text\":\"\"},\"id\":\"49f65de7-9d80-49e8-ac95-16b784e913cb\",\"type\":\"Title\"},{\"attributes\":{\"data_source\":{\"id\":\"502f70ee-af19-41c5-9d17-c4d7bccd3f6f\",\"type\":\"ColumnDataSource\"},\"glyph\":{\"id\":\"c8ba7d40-42ed-450b-abdc-0ed762e821c1\",\"type\":\"Line\"},\"hover_glyph\":null,\"muted_glyph\":null,\"nonselection_glyph\":{\"id\":\"f88f7494-4458-404e-9f12-e80fb1a3d644\",\"type\":\"Line\"},\"selection_glyph\":null,\"view\":{\"id\":\"ddd0fc21-09a8-495a-91b9-47b57d87a485\",\"type\":\"CDSView\"}},\"id\":\"d6e9e0fe-723a-4d39-b730-1a5496385aac\",\"type\":\"GlyphRenderer\"},{\"attributes\":{\"overlay\":{\"id\":\"81e2d0aa-a8aa-4a34-84a2-9a2df41f4eb7\",\"type\":\"BoxAnnotation\"}},\"id\":\"7b968673-1514-4a0f-8535-5d8e81f37dcc\",\"type\":\"BoxZoomTool\"},{\"attributes\":{},\"id\":\"d3da73c3-6929-4e9e-8593-b33082d7c7b0\",\"type\":\"SaveTool\"},{\"attributes\":{},\"id\":\"b8e1c7e1-9bdd-4cf2-8095-241b0e5c9cf3\",\"type\":\"BasicTickFormatter\"},{\"attributes\":{},\"id\":\"3f280e93-54f6-4aa3-b213-1db6f4f93bc4\",\"type\":\"HelpTool\"},{\"attributes\":{},\"id\":\"11838226-cefc-4bb6-8a64-d7b224547f3b\",\"type\":\"ResetTool\"},{\"attributes\":{\"callback\":null,\"data\":{\"x\":{\"__ndarray__\":\"YcxyDesWRMAIdDUKAKsgwBohOZsKZgLAJeZSJgLU/D/FVpRgxGkOQKzY1+ZxzQ5AIpBZd+QeBEB2aYA7yyflP8Ab6dWes+m/IHP2xc/V9b+dyMuELYjxv9IJsBTPId+/TcZOEIimsD/RlBh077XZP+5CgCXcI98/FpAxa5U21D+mvbpH91KhP0I7juACtdC/1aw+HWoz4L+eELp8N6Pgv46j72rX7tG/sPOr1cQ1eb8yylG8HeyqvzLdYsjI0NO/iNtWXRBP17+iXw8BsSGxvwV3o383itg/95efVY5T1z8Wf4KYaOC3Pxz4JWCS45c/xGzh7qDj0D/z9Jq0lJzVP9S9cwqzvcM/ncXJA03snL/+DCuavWFzP5gifvItdK4/6ix5O2qXfj/VIxwFX/CrvyFUz3G74La/my7Kb2SHub/iQ7MhNea1vxA1JmSLibC/ec3xKLA2r7/CQWKSSD+dv/kBCet07ba/jdOl0S2ZuL/hF/AL7Yurv4nkUKY76K6/oQAAbI22s7/sel+r8Oayv1lPEDkNp6u/hX6dcBWzor/B7Z2I616YvxIFFivn5ZS/kePwCZ6plL+En8uXwV+Zv6r8aguhXJu/hY8q3THCk78YErbXNlBWP49H38C+f6A/WwZhsThqrD+Qb3Iuc+mtP/D2ZI59eqU/qxypqzTKlT/wr1QOo+RZP+CjI8tNBUE/JP80BLOBgT9iFteBPlSeP2eXidFcb6g/plqmh+qrrz+CO88mJx2yP91eBcEyWbM/pmiOXiQjtD+1cER8wdW0P/GeJNn6VLQ/\",\"dtype\":\"float64\",\"shape\":[75]},\"y\":{\"__ndarray__\":\"GhExyth1ND/Sv8nbtpRIP2vylNV0PVE/aTum7souWD/At0SJ8fVgPw3Iuahxymc/MSNhhJWvcD/bTfBN02d3P2zb5nxnaoA/CD5h5MAGhz8NmeH1TyaQP+zrCsc9p5Y/LbKd76fGnz/bLW5ISEmmPww9YvTcQq8/JV2OstnstT8Er5Y7M8G+P0c+r3jqkcU/5h99k6ZBzj88bCIzFzjVP4enV8oyxN0//yH99nXg5D8qOpLLf0jtP5kqGJXUifQ/c9cS8kHP/D+/DpwzojQEQIEmwoanVwxA4lgXt9HgE0BSSZ2AJuIbQAMJih9jjiNA5q4l5INuK0AwTKYKRj0zQNv5fmq8/DpAaCJseHrtQkB/+zpwzoxKQM3MzMzMeFJAZmZmZmZqWEAAAAAAAFxeQM3MzMzMJmJAmpmZmZkfZUBmZmZmZhhoQDMzMzMzEWtAAAAAAAAKbkBmZmZmZoFwQM3MzMzM/XFAMzMzMzN6c0CamZmZmfZ0QAAAAAAAc3ZAZmZmZmbvd0DNzMzMzGt5QDMzMzMz6HpAmpmZmZlkfEAAAAAAAOF9QGZmZmZmXX9AZmZmZuZsgECamZmZGSuBQM3MzMxM6YFAAAAAAICngkAzMzMzs2WDQGZmZmbmI4RAmpmZmRnihEDNzMzMTKCFQAAAAACAXoZAMzMzM7Mch0BmZmZm5tqHQJqZmZkZmYhAzczMzExXiUAAAAAAgBWKQDMzMzOz04pAZmZmZuaRi0CamZmZGVCMQM3MzMxMDo1AAAAAAIDMjUAzMzMzs4qOQGZmZmbmSI9A\",\"dtype\":\"float64\",\"shape\":[75]}},\"selected\":{\"id\":\"1668ec75-8523-4c15-b2c8-19f6694712a1\",\"type\":\"Selection\"},\"selection_policy\":{\"id\":\"14ab064b-ddba-4dde-a910-054ec0ab5aa0\",\"type\":\"UnionRenderers\"}},\"id\":\"3a687232-dec4-4630-91a0-948b67716cca\",\"type\":\"ColumnDataSource\"},{\"attributes\":{\"callback\":null,\"end\":0.01,\"start\":1020},\"id\":\"b9c89375-9b7e-43ed-984f-cec7d84daa16\",\"type\":\"Range1d\"},{\"attributes\":{},\"id\":\"c0e36cfe-697c-416d-bc6d-1c93f845ef9b\",\"type\":\"Selection\"},{\"attributes\":{},\"id\":\"8fa548e0-7d40-4025-aa5f-b234264f8699\",\"type\":\"HelpTool\"},{\"attributes\":{\"plot\":{\"id\":\"267681b2-a1a1-480a-b04e-28dd59e041aa\",\"subtype\":\"Figure\",\"type\":\"Plot\"},\"ticker\":{\"id\":\"219f9664-cb38-4f23-9c89-a2305d288f9e\",\"type\":\"BasicTicker\"}},\"id\":\"c88ed950-9f9b-41a7-9d32-fdfbae310d26\",\"type\":\"Grid\"},{\"attributes\":{\"children\":[{\"id\":\"2ed6eed6-1e6d-4b58-b146-65a2fcab8bbf\",\"type\":\"Row\"}]},\"id\":\"73a414f2-e1d3-4da9-ab78-9519156c60dc\",\"type\":\"Column\"},{\"attributes\":{\"line_color\":\"#4daf4a\",\"line_width\":1.5,\"x\":{\"field\":\"x\"},\"y\":{\"field\":\"y\"}},\"id\":\"ff6746a9-039b-4e0e-89de-1796766d99ce\",\"type\":\"Line\"},{\"attributes\":{\"axis_label\":\"pressure [mb]\",\"formatter\":{\"id\":\"5d515558-8e24-4e22-837e-0a2d0c0c394f\",\"type\":\"LogTickFormatter\"},\"plot\":{\"id\":\"267681b2-a1a1-480a-b04e-28dd59e041aa\",\"subtype\":\"Figure\",\"type\":\"Plot\"},\"ticker\":{\"id\":\"53b1512f-be2e-4a19-99cf-10f9289732bb\",\"type\":\"LogTicker\"}},\"id\":\"978ad575-8619-4d08-bc0f-f7125706e47e\",\"type\":\"LogAxis\"},{\"attributes\":{\"line_alpha\":0.6,\"line_color\":\"#377eb8\",\"line_dash\":[6],\"line_width\":5,\"x\":{\"field\":\"x\"},\"y\":{\"field\":\"y\"}},\"id\":\"c5981a66-606f-416c-ae90-b0ca10cf1b65\",\"type\":\"Line\"},{\"attributes\":{},\"id\":\"008ac3f0-5ae0-4844-a3d5-42275a96e41a\",\"type\":\"UnionRenderers\"},{\"attributes\":{},\"id\":\"7e39df54-201d-4a32-b4f3-267fa396c15f\",\"type\":\"UnionRenderers\"},{\"attributes\":{\"label\":{\"value\":\"CLIRAD (single-run) - CRD\"},\"renderers\":[{\"id\":\"46c83d33-7023-4ae3-86e0-6f8ace7cdbac\",\"type\":\"GlyphRenderer\"},{\"id\":\"5b9ddc5a-0f83-4b0e-9a32-71ef71c8ff34\",\"type\":\"GlyphRenderer\"}]},\"id\":\"734504ee-20fc-4158-90ff-823f7e0ba875\",\"type\":\"LegendItem\"},{\"attributes\":{\"callback\":null,\"data\":{\"x\":{\"__ndarray__\":\"MXhf+wfXU0AZbvNjswdFQLQWsEQVdUFA5TlpnhT9QUB/x1dOYK05QImjxHmcEjZA9jYDSBB3L0AISPl4H6wqQBPuuwfAzyJAOcHprUZAIUB7WWpkesAXQJoT1Uq+ChVArO/8u0EXCkBgVNlshzgCQMeNQ+Nzu/I/POwv1Qzh+D9QxMRmcj8DQOrE7tC4mAxAQsLBRIlHEkAi4cPYoDEXQEeDpjRjzB1ASZ0GEfCuI0DVFj11sssnQOMiVKSMHyhAWRHvUxNoJEDo8cjD4g8gQLGGvR2NDRpAdpI3nV5oFECtyWH9Lp4QQIZQd9bvmwtAkshlnu1BBkBMysnQf1UAQHZJU/DYZ/c/HoEhV+G48T/rSm4vc/TmP3EgV4cD49g/xmy6+4w7zz+bEsjh3uDDPw5SRMRogKs/4GPKdPc1a78lazVXN1vCP/B84ODeUug/LOyxgXDV9z+/DBHyZAwAQAOIY+fy/QFAahF3XKCUAECV0GHvGsz+P+X4k4Nhvf0/RO/IqI98/T8rkW+v/zT9P59vGMDsAv0/zEX7plCY/D/E3siS8kj7P2yUMv+hDvs/RmrXDaYs+z+c9f5GCO36P58nVCbr7vo/Qus8hbcy/D+rD5hFMCf9P4t6dxofnPw/bRp4QYZ2/D/q8NNiN2b8P5YTVw9ESPw/l1Dy0X/K+j+WKih3ZdD5P2k8OYxHjvk/hceGh5N4+T8lpPahWSn5P6vJnePt4vY/UuhmxnXI9T8miFqdE+D0Pz7qfx5CR/Q/0khvq2US9D9LfVdHQGv0P9syeEmwYfg/\",\"dtype\":\"float64\",\"shape\":[75]},\"y\":{\"__ndarray__\":\"hLndy31yND/6fmq8dJNIP8n9DkWBPlE/aDum7souWD/b4a/JGvVgP9f34SAhymc/ZvM4DOavcD+z0M5pFmh3PxuC4zJuaoA/xjcUPlsHhz8uHAjJAiaQP9ieWRKgppY/oI7HDFTGnz+a5h2n6EimPzS6g9iZQq8/IuAQqtTstT9SSZ2AJsK+P4nS3uALk8U/ih9j7lpCzj+ASL99HTjVP4enV8oyxN0/ACL99nXg5D9fmEwVjErtPyUGgZVDi/Q/AiuHFtnO/D9OYhBYOTQEQPHSTWIQWAxA4XoUrkfhE0D8qfHSTeIbQMh2vp8ajyNArkfhehRuK0Bcj8L1KDwzQFyPwvUo/DpAPgrXo3DtQkDNzMzMzIxKQClcj8L1eFJAKVyPwvVoWECamZmZmVleQGZmZmZmJmJAAAAAAAAgZUCamZmZmRloQJqZmZmZEWtAmpmZmZkJbkCamZmZmYFwQGZmZmZm/nFAZmZmZmZ6c0BmZmZmZvZ0QDQzMzMzc3ZAAAAAAADwd0AAAAAAAGx5QAAAAAAA6HpAzMzMzMxkfEDMzMzMzOB9QM3MzMzMXH9AzczMzMxsgEAzMzMzMyuBQDMzMzMz6YFAMzMzMzOngkCamZmZmWWDQAAAAAAAJIRAAAAAAADihEAAAAAAAKCFQGZmZmZmXoZAzczMzMwch0DNzMzMzNqHQM3MzMzMmIhAMzMzMzNXiUCamZmZmRWKQAAAAAAA1IpAAAAAAACSi0AAAAAAAFCMQGZmZmZmDo1AzczMzMzMjUDNzMzMzIqOQM3MzMzMSI9A\",\"dtype\":\"float64\",\"shape\":[75]}},\"selected\":{\"id\":\"0ca11a33-e05b-4270-999f-fb8b4ca71372\",\"type\":\"Selection\"},\"selection_policy\":{\"id\":\"c10de3c6-73b6-4a02-9e31-d0bcc0d0037c\",\"type\":\"UnionRenderers\"}},\"id\":\"daa99bf0-e73a-41fc-84a9-fc0d6f1788b7\",\"type\":\"ColumnDataSource\"},{\"attributes\":{\"callback\":null,\"end\":0.01,\"start\":1020},\"id\":\"8d9153ba-baaa-42fc-8a8f-7880c020a561\",\"type\":\"Range1d\"},{\"attributes\":{\"source\":{\"id\":\"279187f8-1ac3-42ad-8bf5-9fe940331d78\",\"type\":\"ColumnDataSource\"}},\"id\":\"da0d0162-dd4e-4f34-88c1-49f82e42270c\",\"type\":\"CDSView\"},{\"attributes\":{},\"id\":\"13edd839-6cff-45f1-85dc-d96638ed0a75\",\"type\":\"UnionRenderers\"},{\"attributes\":{\"callback\":null,\"data\":{\"x\":{\"__ndarray__\":\"cm1sTMT3VEDEyvjosEJHQOKI6DjzCUNArgQWV9awPkB9Lm8XG3M4QEz+Qv6iYzNA7eV8HaPLLkCX1QHyTpMoQFBmYSYetiNAUB04GtGpH0AmFyVE5j8ZQJca9QPGqBNALJP+OOHHDEBNxaf7QF8AQKtislomWuw/cW2dcO6A9T/uJJvfPu0EQIaQLTI/JQ1AxGiII+PmEkCJvfVeuCsYQD6ZBhGbHB9AXQw69DTYJEAsubcwKucqQNuT9D5OmipAJyi3szEJJUBlNebh5WkgQDDcPHBr2xlArtlANXuQFEBdJadFHckQQI2Avh0ZsQtAjYiwt1rsBUCL0SDoVBgAQK6C0nEEjvc/CggLSme58T9sXU2orFPnP0v0JYz9Gdg/vT38vxYczD9nBQTe6kHHP1IhkEXJwKo/8OZnhCVAub+xtVgCpmqzP6DUpY6g0+k/PKK3T1h4+D8RTDjQc1EAQG/dAQs7TwJAQt2eHpPLAEBWEh074x//PyCap9ZSGf4/rEzaTySm/T+7aXhHRmr9P688KeqeNP0/ruZ4EemD/D8olrZcn9T7P0+vNc9hW/s/i9VVL+4P+z+0NzC24uz6P8731Kza8vo/xFf4SHzq+z+gYyHpvHb8P68ROkiFevw/BAjYdCga/D8AUp8VbW77P3JrF/nKmvo/qCQeGfq++T/dplwHJfn4P2G4p+Uva/g/OzZ0RqMZ+D8dmn/iar73P/OuA7Ka8PY/gaaeQHGn9T9hkyjAH1L0P3aZGhdAU/M/n8VP/g7P8j+90HxHNvfyPwhNBtgrqvk/\",\"dtype\":\"float64\",\"shape\":[75]},\"y\":{\"__ndarray__\":\"GhExyth1ND/Sv8nbtpRIP2vylNV0PVE/aTum7souWD/At0SJ8fVgPw3Iuahxymc/MSNhhJWvcD/bTfBN02d3P2zb5nxnaoA/CD5h5MAGhz8NmeH1TyaQP+zrCsc9p5Y/LbKd76fGnz/bLW5ISEmmPww9YvTcQq8/JV2OstnstT8Er5Y7M8G+P0c+r3jqkcU/5h99k6ZBzj88bCIzFzjVP4enV8oyxN0//yH99nXg5D8qOpLLf0jtP5kqGJXUifQ/c9cS8kHP/D+/DpwzojQEQIEmwoanVwxA4lgXt9HgE0BSSZ2AJuIbQAMJih9jjiNA5q4l5INuK0AwTKYKRj0zQNv5fmq8/DpAaCJseHrtQkB/+zpwzoxKQM3MzMzMeFJAZmZmZmZqWEAAAAAAAFxeQM3MzMzMJmJAmpmZmZkfZUBmZmZmZhhoQDMzMzMzEWtAAAAAAAAKbkBmZmZmZoFwQM3MzMzM/XFAMzMzMzN6c0CamZmZmfZ0QAAAAAAAc3ZAZmZmZmbvd0DNzMzMzGt5QDMzMzMz6HpAmpmZmZlkfEAAAAAAAOF9QGZmZmZmXX9AZmZmZuZsgECamZmZGSuBQM3MzMxM6YFAAAAAAICngkAzMzMzs2WDQGZmZmbmI4RAmpmZmRnihEDNzMzMTKCFQAAAAACAXoZAMzMzM7Mch0BmZmZm5tqHQJqZmZkZmYhAzczMzExXiUAAAAAAgBWKQDMzMzOz04pAZmZmZuaRi0CamZmZGVCMQM3MzMxMDo1AAAAAAIDMjUAzMzMzs4qOQGZmZmbmSI9A\",\"dtype\":\"float64\",\"shape\":[75]}},\"selected\":{\"id\":\"9cb16966-1cfd-491d-af69-b48250f843ba\",\"type\":\"Selection\"},\"selection_policy\":{\"id\":\"7fbf86da-2e8d-4165-89fe-0927cabc63fa\",\"type\":\"UnionRenderers\"}},\"id\":\"864bfee4-7246-491a-a5b8-05498f30e727\",\"type\":\"ColumnDataSource\"},{\"attributes\":{\"label\":{\"value\":\"CRD\"},\"renderers\":[{\"id\":\"423069a4-1d34-4856-8f6f-30f82df18bd1\",\"type\":\"GlyphRenderer\"},{\"id\":\"f8e50303-8c3c-4888-a86f-b46b8d0e656d\",\"type\":\"GlyphRenderer\"}]},\"id\":\"db0bda23-4de9-49db-b89b-3d22d29d748f\",\"type\":\"LegendItem\"},{\"attributes\":{},\"id\":\"b0188379-f63e-4889-9911-0f15ed1a13b6\",\"type\":\"BasicTicker\"},{\"attributes\":{},\"id\":\"40db7593-0e29-4e7a-848b-f71cccfa0441\",\"type\":\"BasicTickFormatter\"},{\"attributes\":{\"line_alpha\":0.5,\"line_color\":\"#984ea3\",\"line_width\":1.5,\"x\":{\"field\":\"x\"},\"y\":{\"field\":\"y\"}},\"id\":\"c8ba7d40-42ed-450b-abdc-0ed762e821c1\",\"type\":\"Line\"},{\"attributes\":{\"fill_alpha\":{\"value\":0.1},\"fill_color\":{\"value\":\"#1f77b4\"},\"line_alpha\":{\"value\":0.1},\"line_color\":{\"value\":\"#1f77b4\"},\"x\":{\"field\":\"x\"},\"y\":{\"field\":\"y\"}},\"id\":\"ca8d5b4d-129a-4080-a8df-0b7a189ef0e3\",\"type\":\"Circle\"},{\"attributes\":{\"dimension\":1,\"plot\":{\"id\":\"267681b2-a1a1-480a-b04e-28dd59e041aa\",\"subtype\":\"Figure\",\"type\":\"Plot\"},\"ticker\":{\"id\":\"53b1512f-be2e-4a19-99cf-10f9289732bb\",\"type\":\"LogTicker\"}},\"id\":\"6013f23d-498b-4ace-a01c-5cbc482b3c3f\",\"type\":\"Grid\"},{\"attributes\":{\"source\":{\"id\":\"1cefca6e-d120-481f-b7ae-60e02d447fa0\",\"type\":\"ColumnDataSource\"}},\"id\":\"21f11899-7d67-482d-b850-27ff8c3202d5\",\"type\":\"CDSView\"},{\"attributes\":{\"callback\":null,\"end\":0.01,\"start\":1020},\"id\":\"7951ab9f-b30d-4b88-ae24-38f4bd8f6f3e\",\"type\":\"Range1d\"},{\"attributes\":{},\"id\":\"a293de2d-cd08-4bfa-b5aa-6bcf7441ee95\",\"type\":\"WheelZoomTool\"},{\"attributes\":{\"children\":[{\"id\":\"b54cbe26-5c67-4bd6-9a4e-d9e5b8126d80\",\"subtype\":\"Figure\",\"type\":\"Plot\"},{\"id\":\"9bdd3ae1-3900-4667-bc4c-fda747580630\",\"subtype\":\"Figure\",\"type\":\"Plot\"},{\"id\":\"267681b2-a1a1-480a-b04e-28dd59e041aa\",\"subtype\":\"Figure\",\"type\":\"Plot\"}]},\"id\":\"2ed6eed6-1e6d-4b58-b146-65a2fcab8bbf\",\"type\":\"Row\"},{\"attributes\":{},\"id\":\"81de2171-5002-48ca-9500-658a41d1b688\",\"type\":\"PanTool\"},{\"attributes\":{\"active_drag\":\"auto\",\"active_inspect\":\"auto\",\"active_scroll\":\"auto\",\"active_tap\":\"auto\",\"tools\":[{\"id\":\"a1dfca5e-f88c-47e3-abf5-4bf106c1a7ef\",\"type\":\"PanTool\"},{\"id\":\"083de5d1-7bc4-46a3-a527-bbc116232730\",\"type\":\"WheelZoomTool\"},{\"id\":\"7b968673-1514-4a0f-8535-5d8e81f37dcc\",\"type\":\"BoxZoomTool\"},{\"id\":\"d1e2c6a1-84ca-481b-a4e9-698f290190e4\",\"type\":\"SaveTool\"},{\"id\":\"e5a8a329-0bfe-4f62-859a-32d6318c25ba\",\"type\":\"ResetTool\"},{\"id\":\"8fa548e0-7d40-4025-aa5f-b234264f8699\",\"type\":\"HelpTool\"}]},\"id\":\"15c8faf3-5965-4f3b-86ef-8b8a8c68176d\",\"type\":\"Toolbar\"},{\"attributes\":{\"axis_label\":\"cooling rate [K/day]\",\"formatter\":{\"id\":\"671a5f6b-2fcf-4ccf-aa56-76ad29de9cc4\",\"type\":\"BasicTickFormatter\"},\"plot\":{\"id\":\"b54cbe26-5c67-4bd6-9a4e-d9e5b8126d80\",\"subtype\":\"Figure\",\"type\":\"Plot\"},\"ticker\":{\"id\":\"b0188379-f63e-4889-9911-0f15ed1a13b6\",\"type\":\"BasicTicker\"}},\"id\":\"7d7daaa0-7a41-4985-85d5-a786cda59a0b\",\"type\":\"LinearAxis\"},{\"attributes\":{\"axis_label\":\"cooling rate [K/day]\",\"formatter\":{\"id\":\"ad141022-0c57-462c-9cb0-a85f20903e4e\",\"type\":\"BasicTickFormatter\"},\"plot\":{\"id\":\"267681b2-a1a1-480a-b04e-28dd59e041aa\",\"subtype\":\"Figure\",\"type\":\"Plot\"},\"ticker\":{\"id\":\"219f9664-cb38-4f23-9c89-a2305d288f9e\",\"type\":\"BasicTicker\"}},\"id\":\"fcac19e5-0b14-438e-b6fa-7c673f1b7a48\",\"type\":\"LinearAxis\"},{\"attributes\":{\"bottom_units\":\"screen\",\"fill_alpha\":{\"value\":0.5},\"fill_color\":{\"value\":\"lightgrey\"},\"left_units\":\"screen\",\"level\":\"overlay\",\"line_alpha\":{\"value\":1.0},\"line_color\":{\"value\":\"black\"},\"line_dash\":[4,4],\"line_width\":{\"value\":2},\"plot\":null,\"render_mode\":\"css\",\"right_units\":\"screen\",\"top_units\":\"screen\"},\"id\":\"8f4ecb8b-2e34-4588-8a67-a5fa385ae147\",\"type\":\"BoxAnnotation\"},{\"attributes\":{\"line_alpha\":0.5,\"line_color\":\"#377eb8\",\"line_dash\":[6],\"line_width\":4,\"x\":{\"field\":\"x\"},\"y\":{\"field\":\"y\"}},\"id\":\"b01cd1e5-c781-4a3b-8197-f7d2d8618db3\",\"type\":\"Line\"},{\"attributes\":{},\"id\":\"43682453-cefc-456a-8543-10f294b7d98a\",\"type\":\"HelpTool\"},{\"attributes\":{},\"id\":\"b9ddea87-a5b7-46ce-9a2a-c702785df6cc\",\"type\":\"Selection\"},{\"attributes\":{\"fill_alpha\":{\"value\":0.1},\"fill_color\":{\"value\":\"#1f77b4\"},\"line_alpha\":{\"value\":0.1},\"line_color\":{\"value\":\"#1f77b4\"},\"x\":{\"field\":\"x\"},\"y\":{\"field\":\"y\"}},\"id\":\"c834c110-e868-4644-a229-a980d53d3408\",\"type\":\"Square\"},{\"attributes\":{\"plot\":null,\"text\":\"\"},\"id\":\"6bb537e9-281c-4f2a-8022-ba4c134a2d08\",\"type\":\"Title\"},{\"attributes\":{\"data_source\":{\"id\":\"3ace31e0-4cb5-4468-8b4a-fa1d2f208ba6\",\"type\":\"ColumnDataSource\"},\"glyph\":{\"id\":\"c5981a66-606f-416c-ae90-b0ca10cf1b65\",\"type\":\"Line\"},\"hover_glyph\":null,\"muted_glyph\":null,\"nonselection_glyph\":{\"id\":\"342d0fb1-8917-413e-9dcd-8bd8ed4b5f6b\",\"type\":\"Line\"},\"selection_glyph\":null,\"view\":{\"id\":\"1c7b188e-becb-4d00-b071-a114ff0111e6\",\"type\":\"CDSView\"}},\"id\":\"29a9120d-818a-4d7c-933f-c6fbd0c6cb8b\",\"type\":\"GlyphRenderer\"},{\"attributes\":{\"source\":{\"id\":\"f29d874d-edfe-4931-b62b-d42ce98222e0\",\"type\":\"ColumnDataSource\"}},\"id\":\"bf45d7c3-6620-425a-8d6a-f44f3b8df0b6\",\"type\":\"CDSView\"},{\"attributes\":{\"callback\":null,\"data\":{\"x\":{\"__ndarray__\":\"cm1sTMT3VEDEyvjosEJHQOKI6DjzCUNArgQWV9awPkB9Lm8XG3M4QEz+Qv6iYzNA7eV8HaPLLkCX1QHyTpMoQFBmYSYetiNAUB04GtGpH0AmFyVE5j8ZQJca9QPGqBNALJP+OOHHDEBNxaf7QF8AQKtislomWuw/cW2dcO6A9T/uJJvfPu0EQIaQLTI/JQ1AxGiII+PmEkCJvfVeuCsYQD6ZBhGbHB9AXQw69DTYJEAsubcwKucqQNuT9D5OmipAJyi3szEJJUBlNebh5WkgQDDcPHBr2xlArtlANXuQFEBdJadFHckQQI2Avh0ZsQtAjYiwt1rsBUCL0SDoVBgAQK6C0nEEjvc/CggLSme58T9sXU2orFPnP0v0JYz9Gdg/vT38vxYczD9nBQTe6kHHP1IhkEXJwKo/8OZnhCVAub+xtVgCpmqzP6DUpY6g0+k/PKK3T1h4+D8RTDjQc1EAQG/dAQs7TwJAQt2eHpPLAEBWEh074x//PyCap9ZSGf4/rEzaTySm/T+7aXhHRmr9P688KeqeNP0/ruZ4EemD/D8olrZcn9T7P0+vNc9hW/s/i9VVL+4P+z+0NzC24uz6P8731Kza8vo/xFf4SHzq+z+gYyHpvHb8P68ROkiFevw/BAjYdCga/D8AUp8VbW77P3JrF/nKmvo/qCQeGfq++T/dplwHJfn4P2G4p+Uva/g/OzZ0RqMZ+D8dmn/iar73P/OuA7Ka8PY/gaaeQHGn9T9hkyjAH1L0P3aZGhdAU/M/n8VP/g7P8j+90HxHNvfyPwhNBtgrqvk/\",\"dtype\":\"float64\",\"shape\":[75]},\"y\":{\"__ndarray__\":\"GhExyth1ND/Sv8nbtpRIP2vylNV0PVE/aTum7souWD/At0SJ8fVgPw3Iuahxymc/MSNhhJWvcD/bTfBN02d3P2zb5nxnaoA/CD5h5MAGhz8NmeH1TyaQP+zrCsc9p5Y/LbKd76fGnz/bLW5ISEmmPww9YvTcQq8/JV2OstnstT8Er5Y7M8G+P0c+r3jqkcU/5h99k6ZBzj88bCIzFzjVP4enV8oyxN0//yH99nXg5D8qOpLLf0jtP5kqGJXUifQ/c9cS8kHP/D+/DpwzojQEQIEmwoanVwxA4lgXt9HgE0BSSZ2AJuIbQAMJih9jjiNA5q4l5INuK0AwTKYKRj0zQNv5fmq8/DpAaCJseHrtQkB/+zpwzoxKQM3MzMzMeFJAZmZmZmZqWEAAAAAAAFxeQM3MzMzMJmJAmpmZmZkfZUBmZmZmZhhoQDMzMzMzEWtAAAAAAAAKbkBmZmZmZoFwQM3MzMzM/XFAMzMzMzN6c0CamZmZmfZ0QAAAAAAAc3ZAZmZmZmbvd0DNzMzMzGt5QDMzMzMz6HpAmpmZmZlkfEAAAAAAAOF9QGZmZmZmXX9AZmZmZuZsgECamZmZGSuBQM3MzMxM6YFAAAAAAICngkAzMzMzs2WDQGZmZmbmI4RAmpmZmRnihEDNzMzMTKCFQAAAAACAXoZAMzMzM7Mch0BmZmZm5tqHQJqZmZkZmYhAzczMzExXiUAAAAAAgBWKQDMzMzOz04pAZmZmZuaRi0CamZmZGVCMQM3MzMxMDo1AAAAAAIDMjUAzMzMzs4qOQGZmZmbmSI9A\",\"dtype\":\"float64\",\"shape\":[75]}},\"selected\":{\"id\":\"f4e53f1c-b756-4c75-919d-977c5733d7de\",\"type\":\"Selection\"},\"selection_policy\":{\"id\":\"f2af1e5f-35db-4f1e-b4a4-be6800f604db\",\"type\":\"UnionRenderers\"}},\"id\":\"279187f8-1ac3-42ad-8bf5-9fe940331d78\",\"type\":\"ColumnDataSource\"},{\"attributes\":{\"data_source\":{\"id\":\"daa99bf0-e73a-41fc-84a9-fc0d6f1788b7\",\"type\":\"ColumnDataSource\"},\"glyph\":{\"id\":\"c193288f-b575-48b3-a547-750a2c9c2fd6\",\"type\":\"Square\"},\"hover_glyph\":null,\"muted_glyph\":null,\"nonselection_glyph\":{\"id\":\"c834c110-e868-4644-a229-a980d53d3408\",\"type\":\"Square\"},\"selection_glyph\":null,\"view\":{\"id\":\"f8ef2585-ac1c-4ec2-b400-636935fc63fb\",\"type\":\"CDSView\"}},\"id\":\"0addc5df-a36a-4b22-bc69-27c63f5044a5\",\"type\":\"GlyphRenderer\"},{\"attributes\":{\"callback\":null,\"data\":{\"x\":{\"__ndarray__\":\"MXhf+wfXU0AZbvNjswdFQLQWsEQVdUFA5TlpnhT9QUB/x1dOYK05QImjxHmcEjZA9jYDSBB3L0AISPl4H6wqQBPuuwfAzyJAOcHprUZAIUB7WWpkesAXQJoT1Uq+ChVArO/8u0EXCkBgVNlshzgCQMeNQ+Nzu/I/POwv1Qzh+D9QxMRmcj8DQOrE7tC4mAxAQsLBRIlHEkAi4cPYoDEXQEeDpjRjzB1ASZ0GEfCuI0DVFj11sssnQOMiVKSMHyhAWRHvUxNoJEDo8cjD4g8gQLGGvR2NDRpAdpI3nV5oFECtyWH9Lp4QQIZQd9bvmwtAkshlnu1BBkBMysnQf1UAQHZJU/DYZ/c/HoEhV+G48T/rSm4vc/TmP3EgV4cD49g/xmy6+4w7zz+bEsjh3uDDPw5SRMRogKs/4GPKdPc1a78lazVXN1vCP/B84ODeUug/LOyxgXDV9z+/DBHyZAwAQAOIY+fy/QFAahF3XKCUAECV0GHvGsz+P+X4k4Nhvf0/RO/IqI98/T8rkW+v/zT9P59vGMDsAv0/zEX7plCY/D/E3siS8kj7P2yUMv+hDvs/RmrXDaYs+z+c9f5GCO36P58nVCbr7vo/Qus8hbcy/D+rD5hFMCf9P4t6dxofnPw/bRp4QYZ2/D/q8NNiN2b8P5YTVw9ESPw/l1Dy0X/K+j+WKih3ZdD5P2k8OYxHjvk/hceGh5N4+T8lpPahWSn5P6vJnePt4vY/UuhmxnXI9T8miFqdE+D0Pz7qfx5CR/Q/0khvq2US9D9LfVdHQGv0P9syeEmwYfg/\",\"dtype\":\"float64\",\"shape\":[75]},\"y\":{\"__ndarray__\":\"hLndy31yND/6fmq8dJNIP8n9DkWBPlE/aDum7souWD/b4a/JGvVgP9f34SAhymc/ZvM4DOavcD+z0M5pFmh3PxuC4zJuaoA/xjcUPlsHhz8uHAjJAiaQP9ieWRKgppY/oI7HDFTGnz+a5h2n6EimPzS6g9iZQq8/IuAQqtTstT9SSZ2AJsK+P4nS3uALk8U/ih9j7lpCzj+ASL99HTjVP4enV8oyxN0/ACL99nXg5D9fmEwVjErtPyUGgZVDi/Q/AiuHFtnO/D9OYhBYOTQEQPHSTWIQWAxA4XoUrkfhE0D8qfHSTeIbQMh2vp8ajyNArkfhehRuK0Bcj8L1KDwzQFyPwvUo/DpAPgrXo3DtQkDNzMzMzIxKQClcj8L1eFJAKVyPwvVoWECamZmZmVleQGZmZmZmJmJAAAAAAAAgZUCamZmZmRloQJqZmZmZEWtAmpmZmZkJbkCamZmZmYFwQGZmZmZm/nFAZmZmZmZ6c0BmZmZmZvZ0QDQzMzMzc3ZAAAAAAADwd0AAAAAAAGx5QAAAAAAA6HpAzMzMzMxkfEDMzMzMzOB9QM3MzMzMXH9AzczMzMxsgEAzMzMzMyuBQDMzMzMz6YFAMzMzMzOngkCamZmZmWWDQAAAAAAAJIRAAAAAAADihEAAAAAAAKCFQGZmZmZmXoZAzczMzMwch0DNzMzMzNqHQM3MzMzMmIhAMzMzMzNXiUCamZmZmRWKQAAAAAAA1IpAAAAAAACSi0AAAAAAAFCMQGZmZmZmDo1AzczMzMzMjUDNzMzMzIqOQM3MzMzMSI9A\",\"dtype\":\"float64\",\"shape\":[75]}},\"selected\":{\"id\":\"1913d7b5-221c-47e0-a6f9-3df0f7a45d29\",\"type\":\"Selection\"},\"selection_policy\":{\"id\":\"66a75a17-a044-4379-8d95-37b51e31a3d1\",\"type\":\"UnionRenderers\"}},\"id\":\"502f70ee-af19-41c5-9d17-c4d7bccd3f6f\",\"type\":\"ColumnDataSource\"},{\"attributes\":{\"ticker\":null},\"id\":\"5d515558-8e24-4e22-837e-0a2d0c0c394f\",\"type\":\"LogTickFormatter\"},{\"attributes\":{\"data_source\":{\"id\":\"864bfee4-7246-491a-a5b8-05498f30e727\",\"type\":\"ColumnDataSource\"},\"glyph\":{\"id\":\"ff6746a9-039b-4e0e-89de-1796766d99ce\",\"type\":\"Line\"},\"hover_glyph\":null,\"muted_glyph\":null,\"nonselection_glyph\":{\"id\":\"0566b6f2-014a-4f0a-aeea-17df24092d84\",\"type\":\"Line\"},\"selection_glyph\":null,\"view\":{\"id\":\"62caaf1a-3cca-4186-be65-a38c2be395bb\",\"type\":\"CDSView\"}},\"id\":\"f8e50303-8c3c-4888-a86f-b46b8d0e656d\",\"type\":\"GlyphRenderer\"},{\"attributes\":{\"line_alpha\":0.1,\"line_color\":\"#1f77b4\",\"line_width\":1.5,\"x\":{\"field\":\"x\"},\"y\":{\"field\":\"y\"}},\"id\":\"f88f7494-4458-404e-9f12-e80fb1a3d644\",\"type\":\"Line\"},{\"attributes\":{\"data_source\":{\"id\":\"1cefca6e-d120-481f-b7ae-60e02d447fa0\",\"type\":\"ColumnDataSource\"},\"glyph\":{\"id\":\"b01cd1e5-c781-4a3b-8197-f7d2d8618db3\",\"type\":\"Line\"},\"hover_glyph\":null,\"muted_glyph\":null,\"nonselection_glyph\":{\"id\":\"74ac7389-c1d7-4dbe-a10d-4a3883bb9888\",\"type\":\"Line\"},\"selection_glyph\":null,\"view\":{\"id\":\"21f11899-7d67-482d-b850-27ff8c3202d5\",\"type\":\"CDSView\"}},\"id\":\"fa646190-e317-4b1b-ba22-d6e4c9c24104\",\"type\":\"GlyphRenderer\"},{\"attributes\":{\"tools\":[{\"id\":\"a1dfca5e-f88c-47e3-abf5-4bf106c1a7ef\",\"type\":\"PanTool\"},{\"id\":\"083de5d1-7bc4-46a3-a527-bbc116232730\",\"type\":\"WheelZoomTool\"},{\"id\":\"7b968673-1514-4a0f-8535-5d8e81f37dcc\",\"type\":\"BoxZoomTool\"},{\"id\":\"d1e2c6a1-84ca-481b-a4e9-698f290190e4\",\"type\":\"SaveTool\"},{\"id\":\"e5a8a329-0bfe-4f62-859a-32d6318c25ba\",\"type\":\"ResetTool\"},{\"id\":\"8fa548e0-7d40-4025-aa5f-b234264f8699\",\"type\":\"HelpTool\"},{\"id\":\"81de2171-5002-48ca-9500-658a41d1b688\",\"type\":\"PanTool\"},{\"id\":\"a293de2d-cd08-4bfa-b5aa-6bcf7441ee95\",\"type\":\"WheelZoomTool\"},{\"id\":\"6b189b5c-a9f4-4b14-b82c-4feee02a58d2\",\"type\":\"BoxZoomTool\"},{\"id\":\"518f7787-f637-4a8d-85f9-755619c80827\",\"type\":\"SaveTool\"},{\"id\":\"2320cf1f-4940-4d09-bcd6-b168a3e49d70\",\"type\":\"ResetTool\"},{\"id\":\"3f280e93-54f6-4aa3-b213-1db6f4f93bc4\",\"type\":\"HelpTool\"},{\"id\":\"d31ddbc7-3cba-4e8e-8074-8bcff97d7731\",\"type\":\"PanTool\"},{\"id\":\"197f76c1-3725-4b1c-912f-95fbf47164bc\",\"type\":\"WheelZoomTool\"},{\"id\":\"f3452e05-c271-4233-af0f-05cc7b94973b\",\"type\":\"BoxZoomTool\"},{\"id\":\"d3da73c3-6929-4e9e-8593-b33082d7c7b0\",\"type\":\"SaveTool\"},{\"id\":\"11838226-cefc-4bb6-8a64-d7b224547f3b\",\"type\":\"ResetTool\"},{\"id\":\"43682453-cefc-456a-8543-10f294b7d98a\",\"type\":\"HelpTool\"}]},\"id\":\"c1dce8ba-4d49-4a29-ac62-9b34b612cdef\",\"type\":\"ProxyToolbar\"},{\"attributes\":{\"fill_alpha\":{\"value\":0.7},\"fill_color\":{\"value\":\"#984ea3\"},\"line_alpha\":{\"value\":0.7},\"line_color\":{\"value\":\"#984ea3\"},\"x\":{\"field\":\"x\"},\"y\":{\"field\":\"y\"}},\"id\":\"c193288f-b575-48b3-a547-750a2c9c2fd6\",\"type\":\"Square\"},{\"attributes\":{},\"id\":\"e5a8a329-0bfe-4f62-859a-32d6318c25ba\",\"type\":\"ResetTool\"},{\"attributes\":{\"line_alpha\":0.1,\"line_color\":\"#1f77b4\",\"line_dash\":[6],\"line_width\":4,\"x\":{\"field\":\"x\"},\"y\":{\"field\":\"y\"}},\"id\":\"74ac7389-c1d7-4dbe-a10d-4a3883bb9888\",\"type\":\"Line\"},{\"attributes\":{},\"id\":\"71488ec2-d61c-4fe0-8dbb-6e15c8c08b15\",\"type\":\"UnionRenderers\"},{\"attributes\":{\"num_minor_ticks\":10},\"id\":\"53b1512f-be2e-4a19-99cf-10f9289732bb\",\"type\":\"LogTicker\"},{\"attributes\":{},\"id\":\"19e014b6-9b12-4ff6-bd2f-a7bdf44d078d\",\"type\":\"Selection\"},{\"attributes\":{},\"id\":\"cdb4a245-32cd-4696-8ff4-a3543de4af78\",\"type\":\"LinearScale\"},{\"attributes\":{},\"id\":\"43f2c9c8-f3a3-41a4-b23b-1de174ab3d64\",\"type\":\"LinearScale\"},{\"attributes\":{},\"id\":\"52bfe275-8695-4d64-b283-efbb5440e7ff\",\"type\":\"BasicTicker\"},{\"attributes\":{\"fill_alpha\":{\"value\":0.1},\"fill_color\":{\"value\":\"#1f77b4\"},\"line_alpha\":{\"value\":0.1},\"line_color\":{\"value\":\"#1f77b4\"},\"x\":{\"field\":\"x\"},\"y\":{\"field\":\"y\"}},\"id\":\"e6b7bafd-4970-4b62-a55e-137647020244\",\"type\":\"Circle\"},{\"attributes\":{\"source\":{\"id\":\"daa99bf0-e73a-41fc-84a9-fc0d6f1788b7\",\"type\":\"ColumnDataSource\"}},\"id\":\"f8ef2585-ac1c-4ec2-b400-636935fc63fb\",\"type\":\"CDSView\"},{\"attributes\":{},\"id\":\"a1dfca5e-f88c-47e3-abf5-4bf106c1a7ef\",\"type\":\"PanTool\"},{\"attributes\":{\"source\":{\"id\":\"502f70ee-af19-41c5-9d17-c4d7bccd3f6f\",\"type\":\"ColumnDataSource\"}},\"id\":\"ddd0fc21-09a8-495a-91b9-47b57d87a485\",\"type\":\"CDSView\"},{\"attributes\":{\"label\":{\"value\":\"old CLIRAD (H2012) - CRD\"},\"renderers\":[{\"id\":\"fa646190-e317-4b1b-ba22-d6e4c9c24104\",\"type\":\"GlyphRenderer\"}]},\"id\":\"2cdc976f-fe89-4c35-8c0c-9f411d16da8f\",\"type\":\"LegendItem\"},{\"attributes\":{},\"id\":\"14ab064b-ddba-4dde-a910-054ec0ab5aa0\",\"type\":\"UnionRenderers\"},{\"attributes\":{\"fill_alpha\":{\"value\":0.7},\"fill_color\":{\"value\":\"#4daf4a\"},\"line_alpha\":{\"value\":0.7},\"line_color\":{\"value\":\"#4daf4a\"},\"x\":{\"field\":\"x\"},\"y\":{\"field\":\"y\"}},\"id\":\"8157411b-18f9-4377-b4e8-61302ccdcc30\",\"type\":\"Circle\"},{\"attributes\":{\"callback\":null,\"end\":0.7323360194662635,\"start\":-1.576281364019664},\"id\":\"ee007d76-628c-42ad-8e6a-e17ba66fca3f\",\"type\":\"Range1d\"},{\"attributes\":{\"plot\":{\"id\":\"b54cbe26-5c67-4bd6-9a4e-d9e5b8126d80\",\"subtype\":\"Figure\",\"type\":\"Plot\"},\"ticker\":{\"id\":\"b0188379-f63e-4889-9911-0f15ed1a13b6\",\"type\":\"BasicTicker\"}},\"id\":\"f8b716b9-f97e-4153-8c13-2f7f6b32b809\",\"type\":\"Grid\"},{\"attributes\":{\"source\":{\"id\":\"864bfee4-7246-491a-a5b8-05498f30e727\",\"type\":\"ColumnDataSource\"}},\"id\":\"62caaf1a-3cca-4186-be65-a38c2be395bb\",\"type\":\"CDSView\"},{\"attributes\":{},\"id\":\"1668ec75-8523-4c15-b2c8-19f6694712a1\",\"type\":\"Selection\"},{\"attributes\":{\"fill_alpha\":{\"value\":0.7},\"fill_color\":{\"value\":\"#984ea3\"},\"line_alpha\":{\"value\":0.7},\"line_color\":{\"value\":\"#984ea3\"},\"x\":{\"field\":\"x\"},\"y\":{\"field\":\"y\"}},\"id\":\"247057d7-176e-4356-9a2d-3926f7a7863b\",\"type\":\"Circle\"}],\"root_ids\":[\"9231537b-c47c-4a68-8e85-5e2d046ccada\"]},\"title\":\"Bokeh Application\",\"version\":\"0.12.16\"}};\n",
       "  var render_items = [{\"docid\":\"bd82f6e1-4cb2-4b4b-9146-cc95c2fce705\",\"elementid\":\"03c038b6-bab8-499f-baef-d0d925dc358c\",\"modelid\":\"9231537b-c47c-4a68-8e85-5e2d046ccada\"}];\n",
       "  root.Bokeh.embed.embed_items_notebook(docs_json, render_items);\n",
       "\n",
       "  }\n",
       "  if (root.Bokeh !== undefined) {\n",
       "    embed_document(root);\n",
       "  } else {\n",
       "    var attempts = 0;\n",
       "    var timer = setInterval(function(root) {\n",
       "      if (root.Bokeh !== undefined) {\n",
       "        embed_document(root);\n",
       "        clearInterval(timer);\n",
       "      }\n",
       "      attempts++;\n",
       "      if (attempts > 100) {\n",
       "        console.log(\"Bokeh: ERROR: Unable to run BokehJS code because BokehJS library is missing\")\n",
       "        clearInterval(timer);\n",
       "      }\n",
       "    }, 10, root)\n",
       "  }\n",
       "})(window);"
      ],
      "application/vnd.bokehjs_exec.v0+json": ""
     },
     "metadata": {
      "application/vnd.bokehjs_exec.v0+json": {
       "id": "9231537b-c47c-4a68-8e85-5e2d046ccada"
      }
     },
     "output_type": "display_data"
    },
    {
     "data": {
      "text/markdown": [
       "*FIGURE.* Cooling rates & difference."
      ],
      "text/plain": [
       "<IPython.core.display.Markdown object>"
      ]
     },
     "metadata": {},
     "output_type": "display_data"
    },
    {
     "data": {
      "text/html": [
       "<a id=\"Fluxes._mls.\"></a>"
      ],
      "text/plain": [
       "<IPython.core.display.HTML object>"
      ]
     },
     "metadata": {},
     "output_type": "display_data"
    },
    {
     "data": {
      "text/markdown": [
       "# Fluxes. mls."
      ],
      "text/plain": [
       "<IPython.core.display.Markdown object>"
      ]
     },
     "metadata": {},
     "output_type": "display_data"
    },
    {
     "data": {
      "text/html": [
       "\n",
       "<div class=\"bk-root\">\n",
       "    <div class=\"bk-plotdiv\" id=\"08e745de-54c0-4c8c-91b1-3d5ca8fb976e\"></div>\n",
       "</div>"
      ]
     },
     "metadata": {},
     "output_type": "display_data"
    },
    {
     "data": {
      "application/javascript": [
       "(function(root) {\n",
       "  function embed_document(root) {\n",
       "    \n",
       "  var docs_json = {\"a9898cef-09b0-42d2-bee7-913fb881e7f7\":{\"roots\":{\"references\":[{\"attributes\":{},\"id\":\"78453425-b5b3-4939-a718-3acaa36cec4f\",\"type\":\"WheelZoomTool\"},{\"attributes\":{},\"id\":\"44de5838-f248-40c5-8fd2-64455b599aa2\",\"type\":\"CategoricalScale\"},{\"attributes\":{\"active_drag\":\"auto\",\"active_inspect\":\"auto\",\"active_scroll\":\"auto\",\"active_tap\":\"auto\",\"tools\":[{\"id\":\"42c4f819-a692-4cf4-8be1-f91e5de8b739\",\"type\":\"PanTool\"},{\"id\":\"8bebad59-8cf9-4b2d-a6f2-e158e64a4136\",\"type\":\"WheelZoomTool\"},{\"id\":\"d162a2f7-4328-467d-87f2-1ee743939369\",\"type\":\"BoxZoomTool\"},{\"id\":\"f6487bee-71cc-43a7-94bb-235c03a588ea\",\"type\":\"SaveTool\"},{\"id\":\"9b169464-2507-4430-a8bf-514f0e970512\",\"type\":\"ResetTool\"},{\"id\":\"730c84a5-cb59-4be5-a56b-9b72c3cf10d1\",\"type\":\"HelpTool\"}]},\"id\":\"1bfc2686-c3f6-4815-ab86-b3e9d3e5a437\",\"type\":\"Toolbar\"},{\"attributes\":{\"active_drag\":\"auto\",\"active_inspect\":\"auto\",\"active_scroll\":\"auto\",\"active_tap\":\"auto\",\"tools\":[{\"id\":\"8716497c-94f5-498c-ba5e-68f3894bf4fd\",\"type\":\"PanTool\"},{\"id\":\"6f3996b3-c532-49a8-b094-bb3a05b3171a\",\"type\":\"WheelZoomTool\"},{\"id\":\"aed9bb6c-8f49-4c69-a443-0a7ad05b893d\",\"type\":\"BoxZoomTool\"},{\"id\":\"c34bcf13-909b-48c1-8c0c-9166392df372\",\"type\":\"SaveTool\"},{\"id\":\"a5f87e73-f260-4dcc-a68b-0d4579991226\",\"type\":\"ResetTool\"},{\"id\":\"ad7090e3-39c5-4814-a148-9e30c26e990c\",\"type\":\"HelpTool\"}]},\"id\":\"9a615437-5f95-4801-abce-277bc1b57b51\",\"type\":\"Toolbar\"},{\"attributes\":{},\"id\":\"4c496e3f-c7e7-4a73-98e3-b1301a04a889\",\"type\":\"PanTool\"},{\"attributes\":{},\"id\":\"fa3b0f3b-9814-419e-88ca-1794bb42b60f\",\"type\":\"CategoricalTickFormatter\"},{\"attributes\":{\"data_source\":{\"id\":\"b0df0292-4991-47f8-85a9-333723d219a6\",\"type\":\"ColumnDataSource\"},\"glyph\":{\"id\":\"a72ec2ed-8ce1-4540-befc-7efc76b6f2e4\",\"type\":\"VBar\"},\"hover_glyph\":null,\"muted_glyph\":null,\"nonselection_glyph\":{\"id\":\"cb1ad79f-3a0f-4310-8c04-051ccf47a402\",\"type\":\"VBar\"},\"selection_glyph\":null,\"view\":{\"id\":\"e2b4ff7b-50de-49c0-8a1a-377069a5338d\",\"type\":\"CDSView\"}},\"id\":\"4c6a2875-0c53-4fc5-bd11-02213750edfe\",\"type\":\"GlyphRenderer\"},{\"attributes\":{\"dimension\":1,\"plot\":{\"id\":\"70cdbf3c-dad7-4da8-9473-80b797158f08\",\"subtype\":\"Figure\",\"type\":\"Plot\"},\"ticker\":{\"id\":\"9cd9f84c-fbc5-4e64-8a93-63e1d196bdda\",\"type\":\"BasicTicker\"}},\"id\":\"50fac11c-3e37-41da-a2cc-db2823ababa5\",\"type\":\"Grid\"},{\"attributes\":{\"source\":{\"id\":\"17300090-237d-4eef-a6e8-f5d398a6b355\",\"type\":\"ColumnDataSource\"}},\"id\":\"edbe4a75-b0e6-4dc0-9b7f-e9a504b00981\",\"type\":\"CDSView\"},{\"attributes\":{\"data_source\":{\"id\":\"17300090-237d-4eef-a6e8-f5d398a6b355\",\"type\":\"ColumnDataSource\"},\"glyph\":{\"id\":\"594eeaf2-f8bd-4447-8dfa-abbc100add89\",\"type\":\"VBar\"},\"hover_glyph\":null,\"muted_glyph\":null,\"nonselection_glyph\":{\"id\":\"ac8dc481-491c-471e-aca5-647037c8e854\",\"type\":\"VBar\"},\"selection_glyph\":null,\"view\":{\"id\":\"edbe4a75-b0e6-4dc0-9b7f-e9a504b00981\",\"type\":\"CDSView\"}},\"id\":\"c8c67d99-06b9-4767-924c-a1756bb7df51\",\"type\":\"GlyphRenderer\"},{\"attributes\":{\"plot\":null,\"text\":\"TOA flux. CLIRAD (single-run) - CRD.\"},\"id\":\"bf4b7c55-b997-4c95-9d1e-168e74982d17\",\"type\":\"Title\"},{\"attributes\":{},\"id\":\"9cd9f84c-fbc5-4e64-8a93-63e1d196bdda\",\"type\":\"BasicTicker\"},{\"attributes\":{\"axis_label\":\"flux (W m-2)\",\"formatter\":{\"id\":\"be144d3e-12b7-4131-b495-12a769c77ccd\",\"type\":\"BasicTickFormatter\"},\"plot\":{\"id\":\"70cdbf3c-dad7-4da8-9473-80b797158f08\",\"subtype\":\"Figure\",\"type\":\"Plot\"},\"ticker\":{\"id\":\"9cd9f84c-fbc5-4e64-8a93-63e1d196bdda\",\"type\":\"BasicTicker\"}},\"id\":\"74d5d3e3-8f1b-4171-8891-bfe4592cd8de\",\"type\":\"LinearAxis\"},{\"attributes\":{\"callback\":null},\"id\":\"ce626e97-4166-45f0-9d7e-83ef5eca35af\",\"type\":\"DataRange1d\"},{\"attributes\":{},\"id\":\"dd8c94a1-87c1-4924-a617-c50c8e62df0d\",\"type\":\"SaveTool\"},{\"attributes\":{},\"id\":\"24e262d0-bd34-4ecc-af24-6e67f99b2c23\",\"type\":\"ResetTool\"},{\"attributes\":{\"below\":[{\"id\":\"2e63d362-0393-4069-94f7-f71afa5e3b5d\",\"type\":\"CategoricalAxis\"}],\"left\":[{\"id\":\"54a26623-9fc1-4420-88a1-c3fdb58d0dcb\",\"type\":\"LinearAxis\"}],\"plot_height\":300,\"plot_width\":300,\"renderers\":[{\"id\":\"2e63d362-0393-4069-94f7-f71afa5e3b5d\",\"type\":\"CategoricalAxis\"},{\"id\":\"9394307c-b318-4705-b6a4-da7964ecedc3\",\"type\":\"Grid\"},{\"id\":\"54a26623-9fc1-4420-88a1-c3fdb58d0dcb\",\"type\":\"LinearAxis\"},{\"id\":\"fb3e7852-071b-4d6b-98e4-e6f593a2bfe7\",\"type\":\"Grid\"},{\"id\":\"9307f5be-041f-40a9-879b-734acf80dd31\",\"type\":\"BoxAnnotation\"},{\"id\":\"d34a154b-8ae4-4317-bb2a-09f50664f10a\",\"type\":\"GlyphRenderer\"}],\"title\":{\"id\":\"99ffd20d-2cef-4223-95c0-3a5c299d9f42\",\"type\":\"Title\"},\"toolbar\":{\"id\":\"9a615437-5f95-4801-abce-277bc1b57b51\",\"type\":\"Toolbar\"},\"toolbar_location\":null,\"x_range\":{\"id\":\"ee6723f4-6e5c-4d2e-892c-4de3b3884387\",\"type\":\"FactorRange\"},\"x_scale\":{\"id\":\"cf9b435d-5d11-435b-9cf4-7d14cfa9dc1a\",\"type\":\"CategoricalScale\"},\"y_range\":{\"id\":\"3373220b-8ee3-4d1b-9352-d7888687085d\",\"type\":\"DataRange1d\"},\"y_scale\":{\"id\":\"9bec36ad-95dd-44b1-bb4b-23ec302db0cf\",\"type\":\"LinearScale\"}},\"id\":\"738abe48-501d-4fc3-a124-7e36e6e3b872\",\"subtype\":\"Figure\",\"type\":\"Plot\"},{\"attributes\":{\"overlay\":{\"id\":\"5c4084f0-fa20-438b-b93d-74bdcb016433\",\"type\":\"BoxAnnotation\"}},\"id\":\"47cbb8e3-5b41-47ae-8b24-ee79ee2f78df\",\"type\":\"BoxZoomTool\"},{\"attributes\":{\"plot\":null,\"text\":\"Atmosphere heating. CLIRAD (single-run) - CRD.\"},\"id\":\"99ffd20d-2cef-4223-95c0-3a5c299d9f42\",\"type\":\"Title\"},{\"attributes\":{\"callback\":null,\"factors\":[\"1\",\"2\",\"3\",\"4\",\"5\",\"6\",\"7\",\"8\",\"9\",\"10\",\"11\"]},\"id\":\"c45499ee-8dc0-4ba6-927c-c2f3463aa0a1\",\"type\":\"FactorRange\"},{\"attributes\":{},\"id\":\"1edd80c3-6f9b-4b7f-a8f1-f98ffb9e1e57\",\"type\":\"HelpTool\"},{\"attributes\":{\"callback\":null,\"data\":{\"band\":[\"1\",\"2\",\"3\",\"4\",\"5\",\"6\",\"7\",\"8\",\"9\",\"10\",\"11\"],\"flux\":{\"__ndarray__\":\"AEILCRhdyD+AzEHQ0arSP0DMe5xpwtO/gGStodRe0z/ASgaAKm7QPwBwl/2607G/QKz+CMOA2D8ASdv4E5W5vwC2wvS9hpC/YNQ5UPHJwD9AvtXft8awPw==\",\"dtype\":\"float64\",\"shape\":[11]}},\"selected\":{\"id\":\"dbc3d1cd-2d68-4a46-b025-803fec9d2cae\",\"type\":\"Selection\"},\"selection_policy\":{\"id\":\"51f1f16e-bea9-438b-8316-1afd54335d50\",\"type\":\"UnionRenderers\"}},\"id\":\"b0df0292-4991-47f8-85a9-333723d219a6\",\"type\":\"ColumnDataSource\"},{\"attributes\":{\"bottom_units\":\"screen\",\"fill_alpha\":{\"value\":0.5},\"fill_color\":{\"value\":\"lightgrey\"},\"left_units\":\"screen\",\"level\":\"overlay\",\"line_alpha\":{\"value\":1.0},\"line_color\":{\"value\":\"black\"},\"line_dash\":[4,4],\"line_width\":{\"value\":2},\"plot\":null,\"render_mode\":\"css\",\"right_units\":\"screen\",\"top_units\":\"screen\"},\"id\":\"5c4084f0-fa20-438b-b93d-74bdcb016433\",\"type\":\"BoxAnnotation\"},{\"attributes\":{},\"id\":\"83bf1bc0-8879-463b-97fd-1bbcaff8a132\",\"type\":\"CategoricalTicker\"},{\"attributes\":{\"fill_color\":{\"value\":\"#1f77b4\"},\"line_color\":{\"value\":\"#1f77b4\"},\"top\":{\"field\":\"flux\"},\"width\":{\"value\":0.9},\"x\":{\"field\":\"band\"}},\"id\":\"c46bdfd4-8f6e-4c52-9f51-cdeffbe82215\",\"type\":\"VBar\"},{\"attributes\":{},\"id\":\"ad7090e3-39c5-4814-a148-9e30c26e990c\",\"type\":\"HelpTool\"},{\"attributes\":{},\"id\":\"122514b4-56f1-4c71-86d0-0a154163897a\",\"type\":\"CategoricalTicker\"},{\"attributes\":{},\"id\":\"910fa5f9-3ea4-48f8-a897-6842ec34b5f2\",\"type\":\"LinearScale\"},{\"attributes\":{},\"id\":\"c7924c32-c386-4667-9ad4-f04223447b0c\",\"type\":\"UnionRenderers\"},{\"attributes\":{\"axis_label\":\"spectral band\",\"formatter\":{\"id\":\"fa3b0f3b-9814-419e-88ca-1794bb42b60f\",\"type\":\"CategoricalTickFormatter\"},\"plot\":{\"id\":\"738abe48-501d-4fc3-a124-7e36e6e3b872\",\"subtype\":\"Figure\",\"type\":\"Plot\"},\"ticker\":{\"id\":\"122514b4-56f1-4c71-86d0-0a154163897a\",\"type\":\"CategoricalTicker\"}},\"id\":\"2e63d362-0393-4069-94f7-f71afa5e3b5d\",\"type\":\"CategoricalAxis\"},{\"attributes\":{},\"id\":\"42c4f819-a692-4cf4-8be1-f91e5de8b739\",\"type\":\"PanTool\"},{\"attributes\":{\"fill_color\":{\"value\":\"#1f77b4\"},\"line_color\":{\"value\":\"#1f77b4\"},\"top\":{\"field\":\"flux\"},\"width\":{\"value\":0.9},\"x\":{\"field\":\"band\"}},\"id\":\"594eeaf2-f8bd-4447-8dfa-abbc100add89\",\"type\":\"VBar\"},{\"attributes\":{\"callback\":null,\"factors\":[\"1\",\"2\",\"3\",\"4\",\"5\",\"6\",\"7\",\"8\",\"9\",\"10\",\"11\"]},\"id\":\"ee6723f4-6e5c-4d2e-892c-4de3b3884387\",\"type\":\"FactorRange\"},{\"attributes\":{\"children\":[{\"id\":\"d2058e17-3cfa-43e7-b67b-0eb7aef1a6d4\",\"subtype\":\"Figure\",\"type\":\"Plot\"},{\"id\":\"70cdbf3c-dad7-4da8-9473-80b797158f08\",\"subtype\":\"Figure\",\"type\":\"Plot\"},{\"id\":\"738abe48-501d-4fc3-a124-7e36e6e3b872\",\"subtype\":\"Figure\",\"type\":\"Plot\"}]},\"id\":\"3c3d89ea-6f64-4cf4-82df-6d6ccf2858e3\",\"type\":\"Row\"},{\"attributes\":{\"below\":[{\"id\":\"4f03c070-5897-4874-bf57-c193da80fd7d\",\"type\":\"CategoricalAxis\"}],\"left\":[{\"id\":\"74d5d3e3-8f1b-4171-8891-bfe4592cd8de\",\"type\":\"LinearAxis\"}],\"plot_height\":300,\"plot_width\":300,\"renderers\":[{\"id\":\"4f03c070-5897-4874-bf57-c193da80fd7d\",\"type\":\"CategoricalAxis\"},{\"id\":\"e3eca2c1-d8cc-408e-b0e5-1e6669a3d3b3\",\"type\":\"Grid\"},{\"id\":\"74d5d3e3-8f1b-4171-8891-bfe4592cd8de\",\"type\":\"LinearAxis\"},{\"id\":\"50fac11c-3e37-41da-a2cc-db2823ababa5\",\"type\":\"Grid\"},{\"id\":\"5c4084f0-fa20-438b-b93d-74bdcb016433\",\"type\":\"BoxAnnotation\"},{\"id\":\"c8c67d99-06b9-4767-924c-a1756bb7df51\",\"type\":\"GlyphRenderer\"}],\"title\":{\"id\":\"5688fbc7-e7ac-44bb-bd8f-e173a02c3819\",\"type\":\"Title\"},\"toolbar\":{\"id\":\"742e3972-4510-4110-ba87-c683ca807d15\",\"type\":\"Toolbar\"},\"toolbar_location\":null,\"x_range\":{\"id\":\"069e9672-5ab9-4e90-aa36-17739118f57a\",\"type\":\"FactorRange\"},\"x_scale\":{\"id\":\"c6399c42-4b96-44d3-86d2-571238665562\",\"type\":\"CategoricalScale\"},\"y_range\":{\"id\":\"c725e6f2-2fa6-4f7d-a092-83fd68475118\",\"type\":\"DataRange1d\"},\"y_scale\":{\"id\":\"61e40807-1542-49cf-95af-defce721e648\",\"type\":\"LinearScale\"}},\"id\":\"70cdbf3c-dad7-4da8-9473-80b797158f08\",\"subtype\":\"Figure\",\"type\":\"Plot\"},{\"attributes\":{},\"id\":\"9b169464-2507-4430-a8bf-514f0e970512\",\"type\":\"ResetTool\"},{\"attributes\":{\"dimension\":1,\"plot\":{\"id\":\"d2058e17-3cfa-43e7-b67b-0eb7aef1a6d4\",\"subtype\":\"Figure\",\"type\":\"Plot\"},\"ticker\":{\"id\":\"d2d01233-96c2-49ee-9c10-d561fdb35c19\",\"type\":\"BasicTicker\"}},\"id\":\"77bc9411-3004-4192-94fb-c4ab39de6798\",\"type\":\"Grid\"},{\"attributes\":{},\"id\":\"be144d3e-12b7-4131-b495-12a769c77ccd\",\"type\":\"BasicTickFormatter\"},{\"attributes\":{},\"id\":\"8716497c-94f5-498c-ba5e-68f3894bf4fd\",\"type\":\"PanTool\"},{\"attributes\":{\"active_drag\":\"auto\",\"active_inspect\":\"auto\",\"active_scroll\":\"auto\",\"active_tap\":\"auto\",\"tools\":[{\"id\":\"4c496e3f-c7e7-4a73-98e3-b1301a04a889\",\"type\":\"PanTool\"},{\"id\":\"78453425-b5b3-4939-a718-3acaa36cec4f\",\"type\":\"WheelZoomTool\"},{\"id\":\"47cbb8e3-5b41-47ae-8b24-ee79ee2f78df\",\"type\":\"BoxZoomTool\"},{\"id\":\"dd8c94a1-87c1-4924-a617-c50c8e62df0d\",\"type\":\"SaveTool\"},{\"id\":\"24e262d0-bd34-4ecc-af24-6e67f99b2c23\",\"type\":\"ResetTool\"},{\"id\":\"1edd80c3-6f9b-4b7f-a8f1-f98ffb9e1e57\",\"type\":\"HelpTool\"}]},\"id\":\"742e3972-4510-4110-ba87-c683ca807d15\",\"type\":\"Toolbar\"},{\"attributes\":{\"overlay\":{\"id\":\"9307f5be-041f-40a9-879b-734acf80dd31\",\"type\":\"BoxAnnotation\"}},\"id\":\"aed9bb6c-8f49-4c69-a443-0a7ad05b893d\",\"type\":\"BoxZoomTool\"},{\"attributes\":{\"dimension\":1,\"plot\":{\"id\":\"738abe48-501d-4fc3-a124-7e36e6e3b872\",\"subtype\":\"Figure\",\"type\":\"Plot\"},\"ticker\":{\"id\":\"22f64452-59a7-4823-a378-29e0acef9a10\",\"type\":\"BasicTicker\"}},\"id\":\"fb3e7852-071b-4d6b-98e4-e6f593a2bfe7\",\"type\":\"Grid\"},{\"attributes\":{},\"id\":\"9134bc2b-2398-4359-88ea-2c500e1e596a\",\"type\":\"CategoricalTickFormatter\"},{\"attributes\":{},\"id\":\"cf9b435d-5d11-435b-9cf4-7d14cfa9dc1a\",\"type\":\"CategoricalScale\"},{\"attributes\":{},\"id\":\"c34bcf13-909b-48c1-8c0c-9166392df372\",\"type\":\"SaveTool\"},{\"attributes\":{},\"id\":\"6f3996b3-c532-49a8-b094-bb3a05b3171a\",\"type\":\"WheelZoomTool\"},{\"attributes\":{},\"id\":\"539d7965-0083-49d7-ba0c-d1485b26fefe\",\"type\":\"Selection\"},{\"attributes\":{\"callback\":null},\"id\":\"c725e6f2-2fa6-4f7d-a092-83fd68475118\",\"type\":\"DataRange1d\"},{\"attributes\":{},\"id\":\"ab6c0805-4af9-4f65-a2fe-158e4711be5c\",\"type\":\"BasicTickFormatter\"},{\"attributes\":{\"data_source\":{\"id\":\"3f77b037-0acd-4add-b49c-2daad73f1379\",\"type\":\"ColumnDataSource\"},\"glyph\":{\"id\":\"c46bdfd4-8f6e-4c52-9f51-cdeffbe82215\",\"type\":\"VBar\"},\"hover_glyph\":null,\"muted_glyph\":null,\"nonselection_glyph\":{\"id\":\"6913ec95-aa54-4912-a202-fb9636a95b10\",\"type\":\"VBar\"},\"selection_glyph\":null,\"view\":{\"id\":\"dcc431ee-8060-4776-857e-17a8a38baccf\",\"type\":\"CDSView\"}},\"id\":\"d34a154b-8ae4-4317-bb2a-09f50664f10a\",\"type\":\"GlyphRenderer\"},{\"attributes\":{\"toolbar\":{\"id\":\"8d002c04-0b83-4f55-9f37-f48a87ed1285\",\"type\":\"ProxyToolbar\"},\"toolbar_location\":\"above\"},\"id\":\"10f60b01-b763-45a2-8ee5-0d154f6d306d\",\"type\":\"ToolbarBox\"},{\"attributes\":{},\"id\":\"9bec36ad-95dd-44b1-bb4b-23ec302db0cf\",\"type\":\"LinearScale\"},{\"attributes\":{\"callback\":null,\"data\":{\"band\":[\"1\",\"2\",\"3\",\"4\",\"5\",\"6\",\"7\",\"8\",\"9\",\"10\",\"11\"],\"flux\":{\"__ndarray__\":\"AIMde81dyD8AYEI3wVi1vwBYNyirM4i/ANGnfnO5zj9A+KOoM/fOvwBuLCgMysK/AHAlOzYC1z8A5hw8E5qkP8BJ06BoHsi/QL8FwBXcvT8AZ1U6DnKtPw==\",\"dtype\":\"float64\",\"shape\":[11]}},\"selected\":{\"id\":\"ea1c6a4c-4b22-4689-9204-46e00be2b0f2\",\"type\":\"Selection\"},\"selection_policy\":{\"id\":\"c7924c32-c386-4667-9ad4-f04223447b0c\",\"type\":\"UnionRenderers\"}},\"id\":\"3f77b037-0acd-4add-b49c-2daad73f1379\",\"type\":\"ColumnDataSource\"},{\"attributes\":{\"callback\":null},\"id\":\"3373220b-8ee3-4d1b-9352-d7888687085d\",\"type\":\"DataRange1d\"},{\"attributes\":{},\"id\":\"cba8bbd4-5883-4e7e-baf6-74058b881679\",\"type\":\"CategoricalTicker\"},{\"attributes\":{\"below\":[{\"id\":\"eca80f2c-a885-4c65-82a7-35f49e389eb0\",\"type\":\"CategoricalAxis\"}],\"left\":[{\"id\":\"e1e37f17-b81b-4a34-80a3-4689a54455b3\",\"type\":\"LinearAxis\"}],\"plot_height\":300,\"plot_width\":300,\"renderers\":[{\"id\":\"eca80f2c-a885-4c65-82a7-35f49e389eb0\",\"type\":\"CategoricalAxis\"},{\"id\":\"8ee67f29-44a9-4f06-9767-b384f6eda836\",\"type\":\"Grid\"},{\"id\":\"e1e37f17-b81b-4a34-80a3-4689a54455b3\",\"type\":\"LinearAxis\"},{\"id\":\"77bc9411-3004-4192-94fb-c4ab39de6798\",\"type\":\"Grid\"},{\"id\":\"61438791-f6f7-441f-8311-a431077c3665\",\"type\":\"BoxAnnotation\"},{\"id\":\"4c6a2875-0c53-4fc5-bd11-02213750edfe\",\"type\":\"GlyphRenderer\"}],\"title\":{\"id\":\"bf4b7c55-b997-4c95-9d1e-168e74982d17\",\"type\":\"Title\"},\"toolbar\":{\"id\":\"1bfc2686-c3f6-4815-ab86-b3e9d3e5a437\",\"type\":\"Toolbar\"},\"toolbar_location\":null,\"x_range\":{\"id\":\"c45499ee-8dc0-4ba6-927c-c2f3463aa0a1\",\"type\":\"FactorRange\"},\"x_scale\":{\"id\":\"44de5838-f248-40c5-8fd2-64455b599aa2\",\"type\":\"CategoricalScale\"},\"y_range\":{\"id\":\"ce626e97-4166-45f0-9d7e-83ef5eca35af\",\"type\":\"DataRange1d\"},\"y_scale\":{\"id\":\"910fa5f9-3ea4-48f8-a897-6842ec34b5f2\",\"type\":\"LinearScale\"}},\"id\":\"d2058e17-3cfa-43e7-b67b-0eb7aef1a6d4\",\"subtype\":\"Figure\",\"type\":\"Plot\"},{\"attributes\":{},\"id\":\"6224c16b-8ba6-4bad-ba07-cb19df95982f\",\"type\":\"UnionRenderers\"},{\"attributes\":{\"axis_label\":\"spectral band\",\"formatter\":{\"id\":\"9134bc2b-2398-4359-88ea-2c500e1e596a\",\"type\":\"CategoricalTickFormatter\"},\"plot\":{\"id\":\"70cdbf3c-dad7-4da8-9473-80b797158f08\",\"subtype\":\"Figure\",\"type\":\"Plot\"},\"ticker\":{\"id\":\"cba8bbd4-5883-4e7e-baf6-74058b881679\",\"type\":\"CategoricalTicker\"}},\"id\":\"4f03c070-5897-4874-bf57-c193da80fd7d\",\"type\":\"CategoricalAxis\"},{\"attributes\":{},\"id\":\"730c84a5-cb59-4be5-a56b-9b72c3cf10d1\",\"type\":\"HelpTool\"},{\"attributes\":{\"fill_color\":{\"value\":\"#1f77b4\"},\"line_color\":{\"value\":\"#1f77b4\"},\"top\":{\"field\":\"flux\"},\"width\":{\"value\":0.9},\"x\":{\"field\":\"band\"}},\"id\":\"a72ec2ed-8ce1-4540-befc-7efc76b6f2e4\",\"type\":\"VBar\"},{\"attributes\":{\"children\":[{\"id\":\"3c3d89ea-6f64-4cf4-82df-6d6ccf2858e3\",\"type\":\"Row\"}]},\"id\":\"616d0b9e-4c1d-4704-8434-28e12a44b037\",\"type\":\"Column\"},{\"attributes\":{\"bottom_units\":\"screen\",\"fill_alpha\":{\"value\":0.5},\"fill_color\":{\"value\":\"lightgrey\"},\"left_units\":\"screen\",\"level\":\"overlay\",\"line_alpha\":{\"value\":1.0},\"line_color\":{\"value\":\"black\"},\"line_dash\":[4,4],\"line_width\":{\"value\":2},\"plot\":null,\"render_mode\":\"css\",\"right_units\":\"screen\",\"top_units\":\"screen\"},\"id\":\"9307f5be-041f-40a9-879b-734acf80dd31\",\"type\":\"BoxAnnotation\"},{\"attributes\":{\"bottom_units\":\"screen\",\"fill_alpha\":{\"value\":0.5},\"fill_color\":{\"value\":\"lightgrey\"},\"left_units\":\"screen\",\"level\":\"overlay\",\"line_alpha\":{\"value\":1.0},\"line_color\":{\"value\":\"black\"},\"line_dash\":[4,4],\"line_width\":{\"value\":2},\"plot\":null,\"render_mode\":\"css\",\"right_units\":\"screen\",\"top_units\":\"screen\"},\"id\":\"61438791-f6f7-441f-8311-a431077c3665\",\"type\":\"BoxAnnotation\"},{\"attributes\":{},\"id\":\"a70b24fe-0347-4bc1-9295-e08db817a525\",\"type\":\"CategoricalTickFormatter\"},{\"attributes\":{\"fill_alpha\":{\"value\":0.1},\"fill_color\":{\"value\":\"#1f77b4\"},\"line_alpha\":{\"value\":0.1},\"line_color\":{\"value\":\"#1f77b4\"},\"top\":{\"field\":\"flux\"},\"width\":{\"value\":0.9},\"x\":{\"field\":\"band\"}},\"id\":\"6913ec95-aa54-4912-a202-fb9636a95b10\",\"type\":\"VBar\"},{\"attributes\":{\"axis_label\":\"flux (W m-2)\",\"formatter\":{\"id\":\"3e261a95-bf86-48bd-885f-b0e15b85e78f\",\"type\":\"BasicTickFormatter\"},\"plot\":{\"id\":\"d2058e17-3cfa-43e7-b67b-0eb7aef1a6d4\",\"subtype\":\"Figure\",\"type\":\"Plot\"},\"ticker\":{\"id\":\"d2d01233-96c2-49ee-9c10-d561fdb35c19\",\"type\":\"BasicTicker\"}},\"id\":\"e1e37f17-b81b-4a34-80a3-4689a54455b3\",\"type\":\"LinearAxis\"},{\"attributes\":{\"fill_alpha\":{\"value\":0.1},\"fill_color\":{\"value\":\"#1f77b4\"},\"line_alpha\":{\"value\":0.1},\"line_color\":{\"value\":\"#1f77b4\"},\"top\":{\"field\":\"flux\"},\"width\":{\"value\":0.9},\"x\":{\"field\":\"band\"}},\"id\":\"ac8dc481-491c-471e-aca5-647037c8e854\",\"type\":\"VBar\"},{\"attributes\":{},\"id\":\"51f1f16e-bea9-438b-8316-1afd54335d50\",\"type\":\"UnionRenderers\"},{\"attributes\":{},\"id\":\"f6487bee-71cc-43a7-94bb-235c03a588ea\",\"type\":\"SaveTool\"},{\"attributes\":{\"axis_label\":\"spectral band\",\"formatter\":{\"id\":\"a70b24fe-0347-4bc1-9295-e08db817a525\",\"type\":\"CategoricalTickFormatter\"},\"plot\":{\"id\":\"d2058e17-3cfa-43e7-b67b-0eb7aef1a6d4\",\"subtype\":\"Figure\",\"type\":\"Plot\"},\"ticker\":{\"id\":\"83bf1bc0-8879-463b-97fd-1bbcaff8a132\",\"type\":\"CategoricalTicker\"}},\"id\":\"eca80f2c-a885-4c65-82a7-35f49e389eb0\",\"type\":\"CategoricalAxis\"},{\"attributes\":{},\"id\":\"61e40807-1542-49cf-95af-defce721e648\",\"type\":\"LinearScale\"},{\"attributes\":{\"source\":{\"id\":\"3f77b037-0acd-4add-b49c-2daad73f1379\",\"type\":\"ColumnDataSource\"}},\"id\":\"dcc431ee-8060-4776-857e-17a8a38baccf\",\"type\":\"CDSView\"},{\"attributes\":{\"plot\":{\"id\":\"d2058e17-3cfa-43e7-b67b-0eb7aef1a6d4\",\"subtype\":\"Figure\",\"type\":\"Plot\"},\"ticker\":{\"id\":\"83bf1bc0-8879-463b-97fd-1bbcaff8a132\",\"type\":\"CategoricalTicker\"}},\"id\":\"8ee67f29-44a9-4f06-9767-b384f6eda836\",\"type\":\"Grid\"},{\"attributes\":{\"overlay\":{\"id\":\"61438791-f6f7-441f-8311-a431077c3665\",\"type\":\"BoxAnnotation\"}},\"id\":\"d162a2f7-4328-467d-87f2-1ee743939369\",\"type\":\"BoxZoomTool\"},{\"attributes\":{\"source\":{\"id\":\"b0df0292-4991-47f8-85a9-333723d219a6\",\"type\":\"ColumnDataSource\"}},\"id\":\"e2b4ff7b-50de-49c0-8a1a-377069a5338d\",\"type\":\"CDSView\"},{\"attributes\":{\"plot\":{\"id\":\"70cdbf3c-dad7-4da8-9473-80b797158f08\",\"subtype\":\"Figure\",\"type\":\"Plot\"},\"ticker\":{\"id\":\"cba8bbd4-5883-4e7e-baf6-74058b881679\",\"type\":\"CategoricalTicker\"}},\"id\":\"e3eca2c1-d8cc-408e-b0e5-1e6669a3d3b3\",\"type\":\"Grid\"},{\"attributes\":{},\"id\":\"22f64452-59a7-4823-a378-29e0acef9a10\",\"type\":\"BasicTicker\"},{\"attributes\":{},\"id\":\"ea1c6a4c-4b22-4689-9204-46e00be2b0f2\",\"type\":\"Selection\"},{\"attributes\":{\"tools\":[{\"id\":\"42c4f819-a692-4cf4-8be1-f91e5de8b739\",\"type\":\"PanTool\"},{\"id\":\"8bebad59-8cf9-4b2d-a6f2-e158e64a4136\",\"type\":\"WheelZoomTool\"},{\"id\":\"d162a2f7-4328-467d-87f2-1ee743939369\",\"type\":\"BoxZoomTool\"},{\"id\":\"f6487bee-71cc-43a7-94bb-235c03a588ea\",\"type\":\"SaveTool\"},{\"id\":\"9b169464-2507-4430-a8bf-514f0e970512\",\"type\":\"ResetTool\"},{\"id\":\"730c84a5-cb59-4be5-a56b-9b72c3cf10d1\",\"type\":\"HelpTool\"},{\"id\":\"4c496e3f-c7e7-4a73-98e3-b1301a04a889\",\"type\":\"PanTool\"},{\"id\":\"78453425-b5b3-4939-a718-3acaa36cec4f\",\"type\":\"WheelZoomTool\"},{\"id\":\"47cbb8e3-5b41-47ae-8b24-ee79ee2f78df\",\"type\":\"BoxZoomTool\"},{\"id\":\"dd8c94a1-87c1-4924-a617-c50c8e62df0d\",\"type\":\"SaveTool\"},{\"id\":\"24e262d0-bd34-4ecc-af24-6e67f99b2c23\",\"type\":\"ResetTool\"},{\"id\":\"1edd80c3-6f9b-4b7f-a8f1-f98ffb9e1e57\",\"type\":\"HelpTool\"},{\"id\":\"8716497c-94f5-498c-ba5e-68f3894bf4fd\",\"type\":\"PanTool\"},{\"id\":\"6f3996b3-c532-49a8-b094-bb3a05b3171a\",\"type\":\"WheelZoomTool\"},{\"id\":\"aed9bb6c-8f49-4c69-a443-0a7ad05b893d\",\"type\":\"BoxZoomTool\"},{\"id\":\"c34bcf13-909b-48c1-8c0c-9166392df372\",\"type\":\"SaveTool\"},{\"id\":\"a5f87e73-f260-4dcc-a68b-0d4579991226\",\"type\":\"ResetTool\"},{\"id\":\"ad7090e3-39c5-4814-a148-9e30c26e990c\",\"type\":\"HelpTool\"}]},\"id\":\"8d002c04-0b83-4f55-9f37-f48a87ed1285\",\"type\":\"ProxyToolbar\"},{\"attributes\":{\"callback\":null,\"factors\":[\"1\",\"2\",\"3\",\"4\",\"5\",\"6\",\"7\",\"8\",\"9\",\"10\",\"11\"]},\"id\":\"069e9672-5ab9-4e90-aa36-17739118f57a\",\"type\":\"FactorRange\"},{\"attributes\":{\"children\":[{\"id\":\"10f60b01-b763-45a2-8ee5-0d154f6d306d\",\"type\":\"ToolbarBox\"},{\"id\":\"616d0b9e-4c1d-4704-8434-28e12a44b037\",\"type\":\"Column\"}]},\"id\":\"1918b75e-0195-4c5d-9728-9fcca10653a9\",\"type\":\"Column\"},{\"attributes\":{},\"id\":\"d2d01233-96c2-49ee-9c10-d561fdb35c19\",\"type\":\"BasicTicker\"},{\"attributes\":{\"plot\":null,\"text\":\"SFC flux. CLIRAD (single-run) - CRD.\"},\"id\":\"5688fbc7-e7ac-44bb-bd8f-e173a02c3819\",\"type\":\"Title\"},{\"attributes\":{},\"id\":\"3e261a95-bf86-48bd-885f-b0e15b85e78f\",\"type\":\"BasicTickFormatter\"},{\"attributes\":{},\"id\":\"8bebad59-8cf9-4b2d-a6f2-e158e64a4136\",\"type\":\"WheelZoomTool\"},{\"attributes\":{},\"id\":\"a5f87e73-f260-4dcc-a68b-0d4579991226\",\"type\":\"ResetTool\"},{\"attributes\":{},\"id\":\"c6399c42-4b96-44d3-86d2-571238665562\",\"type\":\"CategoricalScale\"},{\"attributes\":{\"plot\":{\"id\":\"738abe48-501d-4fc3-a124-7e36e6e3b872\",\"subtype\":\"Figure\",\"type\":\"Plot\"},\"ticker\":{\"id\":\"122514b4-56f1-4c71-86d0-0a154163897a\",\"type\":\"CategoricalTicker\"}},\"id\":\"9394307c-b318-4705-b6a4-da7964ecedc3\",\"type\":\"Grid\"},{\"attributes\":{},\"id\":\"dbc3d1cd-2d68-4a46-b025-803fec9d2cae\",\"type\":\"Selection\"},{\"attributes\":{\"fill_alpha\":{\"value\":0.1},\"fill_color\":{\"value\":\"#1f77b4\"},\"line_alpha\":{\"value\":0.1},\"line_color\":{\"value\":\"#1f77b4\"},\"top\":{\"field\":\"flux\"},\"width\":{\"value\":0.9},\"x\":{\"field\":\"band\"}},\"id\":\"cb1ad79f-3a0f-4310-8c04-051ccf47a402\",\"type\":\"VBar\"},{\"attributes\":{\"axis_label\":\"flux (W m-2)\",\"formatter\":{\"id\":\"ab6c0805-4af9-4f65-a2fe-158e4711be5c\",\"type\":\"BasicTickFormatter\"},\"plot\":{\"id\":\"738abe48-501d-4fc3-a124-7e36e6e3b872\",\"subtype\":\"Figure\",\"type\":\"Plot\"},\"ticker\":{\"id\":\"22f64452-59a7-4823-a378-29e0acef9a10\",\"type\":\"BasicTicker\"}},\"id\":\"54a26623-9fc1-4420-88a1-c3fdb58d0dcb\",\"type\":\"LinearAxis\"},{\"attributes\":{\"callback\":null,\"data\":{\"band\":[\"1\",\"2\",\"3\",\"4\",\"5\",\"6\",\"7\",\"8\",\"9\",\"10\",\"11\"],\"flux\":{\"__ndarray__\":\"AAAAAyUF9r4AgsR29wDYPwC4H/DAANO/ANyul6YIsD+Ajh6/t+nfPwB0ImabwLM/ALE8WXvplz9gN3gVCPHBv4A0KnCyDcY/AKBF71TAjT8AcGzRXW2APw==\",\"dtype\":\"float64\",\"shape\":[11]}},\"selected\":{\"id\":\"539d7965-0083-49d7-ba0c-d1485b26fefe\",\"type\":\"Selection\"},\"selection_policy\":{\"id\":\"6224c16b-8ba6-4bad-ba07-cb19df95982f\",\"type\":\"UnionRenderers\"}},\"id\":\"17300090-237d-4eef-a6e8-f5d398a6b355\",\"type\":\"ColumnDataSource\"}],\"root_ids\":[\"1918b75e-0195-4c5d-9728-9fcca10653a9\"]},\"title\":\"Bokeh Application\",\"version\":\"0.12.16\"}};\n",
       "  var render_items = [{\"docid\":\"a9898cef-09b0-42d2-bee7-913fb881e7f7\",\"elementid\":\"08e745de-54c0-4c8c-91b1-3d5ca8fb976e\",\"modelid\":\"1918b75e-0195-4c5d-9728-9fcca10653a9\"}];\n",
       "  root.Bokeh.embed.embed_items_notebook(docs_json, render_items);\n",
       "\n",
       "  }\n",
       "  if (root.Bokeh !== undefined) {\n",
       "    embed_document(root);\n",
       "  } else {\n",
       "    var attempts = 0;\n",
       "    var timer = setInterval(function(root) {\n",
       "      if (root.Bokeh !== undefined) {\n",
       "        embed_document(root);\n",
       "        clearInterval(timer);\n",
       "      }\n",
       "      attempts++;\n",
       "      if (attempts > 100) {\n",
       "        console.log(\"Bokeh: ERROR: Unable to run BokehJS code because BokehJS library is missing\")\n",
       "        clearInterval(timer);\n",
       "      }\n",
       "    }, 10, root)\n",
       "  }\n",
       "})(window);"
      ],
      "application/vnd.bokehjs_exec.v0+json": ""
     },
     "metadata": {
      "application/vnd.bokehjs_exec.v0+json": {
       "id": "1918b75e-0195-4c5d-9728-9fcca10653a9"
      }
     },
     "output_type": "display_data"
    },
    {
     "data": {
      "text/markdown": [
       "*FIGURE.* Difference between CLIRAD and CRD in TOA, SFC and net atmosphere flux, in each spectral band."
      ],
      "text/plain": [
       "<IPython.core.display.Markdown object>"
      ]
     },
     "metadata": {},
     "output_type": "display_data"
    },
    {
     "data": {
      "text/html": [
       "<div>\n",
       "<style scoped>\n",
       "    .dataframe tbody tr th:only-of-type {\n",
       "        vertical-align: middle;\n",
       "    }\n",
       "\n",
       "    .dataframe tbody tr th {\n",
       "        vertical-align: top;\n",
       "    }\n",
       "\n",
       "    .dataframe thead th {\n",
       "        text-align: right;\n",
       "    }\n",
       "</style>\n",
       "<table border=\"1\" class=\"dataframe\">\n",
       "  <thead>\n",
       "    <tr style=\"text-align: right;\">\n",
       "      <th></th>\n",
       "      <th>OLR flux</th>\n",
       "      <th>SFC flux</th>\n",
       "      <th>ATM heating</th>\n",
       "    </tr>\n",
       "    <tr>\n",
       "      <th>Sum over bands</th>\n",
       "      <th></th>\n",
       "      <th></th>\n",
       "      <th></th>\n",
       "    </tr>\n",
       "  </thead>\n",
       "  <tbody>\n",
       "    <tr>\n",
       "      <th>old CLIRAD - CRD</th>\n",
       "      <td>0.14</td>\n",
       "      <td>2.01</td>\n",
       "      <td>-1.73</td>\n",
       "    </tr>\n",
       "    <tr>\n",
       "      <th>CLIRAD (single-run) - CRD</th>\n",
       "      <td>1.13</td>\n",
       "      <td>0.79</td>\n",
       "      <td>0.33</td>\n",
       "    </tr>\n",
       "    <tr>\n",
       "      <th>CRD</th>\n",
       "      <td>-290.39</td>\n",
       "      <td>308.14</td>\n",
       "      <td>-174.89</td>\n",
       "    </tr>\n",
       "  </tbody>\n",
       "</table>\n",
       "</div>"
      ],
      "text/plain": [
       "                           OLR flux  SFC flux  ATM heating\n",
       "Sum over bands                                            \n",
       "old CLIRAD - CRD               0.14      2.01        -1.73\n",
       "CLIRAD (single-run) - CRD      1.13      0.79         0.33\n",
       "CRD                         -290.39    308.14      -174.89"
      ]
     },
     "metadata": {},
     "output_type": "display_data"
    },
    {
     "data": {
      "text/markdown": [
       "*TABLE.* Difference between CLIRAD and CRD in TOA, SFC and net atmosphere flux, over all spectral bands. CRD's TOA, SFC and net atmosphere flux, over all spectral bands."
      ],
      "text/plain": [
       "<IPython.core.display.Markdown object>"
      ]
     },
     "metadata": {},
     "output_type": "display_data"
    },
    {
     "data": {
      "text/html": [
       "<a id=\"Cooling_rates._saw.\"></a>"
      ],
      "text/plain": [
       "<IPython.core.display.HTML object>"
      ]
     },
     "metadata": {},
     "output_type": "display_data"
    },
    {
     "data": {
      "text/markdown": [
       "# Cooling rates. saw."
      ],
      "text/plain": [
       "<IPython.core.display.Markdown object>"
      ]
     },
     "metadata": {},
     "output_type": "display_data"
    },
    {
     "data": {
      "text/html": [
       "\n",
       "<div class=\"bk-root\">\n",
       "    <div class=\"bk-plotdiv\" id=\"46545f02-3229-4ab1-b1a9-4e571879a8d3\"></div>\n",
       "</div>"
      ]
     },
     "metadata": {},
     "output_type": "display_data"
    },
    {
     "data": {
      "application/javascript": [
       "(function(root) {\n",
       "  function embed_document(root) {\n",
       "    \n",
       "  var docs_json = {\"08246828-73dc-4121-8bac-bd246c1003d2\":{\"roots\":{\"references\":[{\"attributes\":{},\"id\":\"06169d0a-bd36-4729-adde-4424b7f85673\",\"type\":\"Selection\"},{\"attributes\":{\"callback\":null,\"data\":{\"x\":{\"__ndarray__\":\"TBmAl62VQEDPEKM2KI48QD1glXb6Wj5AL87F+0D1PkDLKAwUPwc+QCB7W7v8iTtAtMs0uUzZN0BWY+NX4NEzQGtNrhl/gDBA2D3w2wNCLUBhMc20LFEsQMSh3yrZ2SxAddHY/lW3LUCQJQyh8TwtQDsZ7GODoSpAi6Dn/2tIJ0DnDLMq6HUkQIhNfOlE0SJADOiE4G6jIkCA/E90r7ojQD4p//OgKSZA0QfX6dGqJUCyytltEichQGghgfXIYRlAYiDp91xnE0B2wNHWtrQPQJ4m9qB2vgpAeJDQ8VfQBUDZ0VLI7iYCQFfZT3TydP8/LweR0IUK/T/QULeHxNj4P2vv6z6eL/Q/zgHEDC0f8T/QFWBxKcbuP44Jru1pXOw/gHqFfZV+5z+OfasQZCrhP6t1AyXK0t0/lna9be4v3T/c2Wqej6reP35gz5e/Ud4/nMqPj0zn3D8LaSXAL2PaPwxLIAIe8tI/ycIIktEE0T/QBmDBekPcP1FO88ASwOM/Iq2sIt+z6z9G6FH1eCvyPxuVEdtBb/U/iGRHMeCT9z8UPT1a/HH4P34cIRzqbvg/BVL+/E89+D8UZw90MO/3Pxe6cKnMffc/gpFKgkbl9j+HrQkEYjP2P3zN2LsygPU/XbOBIde49D8Mb12IkenzP3WIqqFOEvM/areay8ZI8j+L6oiWEKHxPzKOAUHPLvE/uT5D5rAN8T9sYOhno1DxP+7HZ16AqPE/jCnpRRNe8T/L5uQkGIfvP9VKN758h+o/8f1zKreS5T9uCZ6e1UPhP0M/OoB87NY/\",\"dtype\":\"float64\",\"shape\":[75]},\"y\":{\"__ndarray__\":\"GhExyth1ND/Sv8nbtpRIP2vylNV0PVE/aTum7souWD/At0SJ8fVgPw3Iuahxymc/MSNhhJWvcD/bTfBN02d3P2zb5nxnaoA/CD5h5MAGhz8NmeH1TyaQP+zrCsc9p5Y/LbKd76fGnz/bLW5ISEmmPww9YvTcQq8/JV2OstnstT8Er5Y7M8G+P0c+r3jqkcU/5h99k6ZBzj88bCIzFzjVP4enV8oyxN0//yH99nXg5D8qOpLLf0jtP5kqGJXUifQ/c9cS8kHP/D+/DpwzojQEQIEmwoanVwxA4lgXt9HgE0BSSZ2AJuIbQAMJih9jjiNA5q4l5INuK0AwTKYKRj0zQNv5fmq8/DpAaCJseHrtQkB/+zpwzoxKQM3MzMzMeFJAZmZmZmZqWEAAAAAAAFxeQM3MzMzMJmJAmpmZmZkfZUBmZmZmZhhoQDMzMzMzEWtAAAAAAAAKbkBmZmZmZoFwQM3MzMzM/XFAMzMzMzN6c0CamZmZmfZ0QAAAAAAAc3ZAZmZmZmbvd0DNzMzMzGt5QDMzMzMz6HpAmpmZmZlkfEAAAAAAAOF9QGZmZmZmXX9AZmZmZuZsgECamZmZGSuBQM3MzMxM6YFAAAAAAICngkAzMzMzs2WDQGZmZmbmI4RAmpmZmRnihEDNzMzMTKCFQAAAAACAXoZAMzMzM7Mch0BmZmZm5tqHQJqZmZkZmYhAzczMzExXiUAAAAAAgBWKQDMzMzOz04pAZmZmZuaRi0CamZmZGVCMQM3MzMxMDo1AAAAAAIDMjUAzMzMzs4qOQGZmZmbmSI9A\",\"dtype\":\"float64\",\"shape\":[75]}},\"selected\":{\"id\":\"1ab5d60d-7682-447d-a601-b31072b7ccab\",\"type\":\"Selection\"},\"selection_policy\":{\"id\":\"c64685c4-a77f-436f-9b55-20cb85068e5d\",\"type\":\"UnionRenderers\"}},\"id\":\"595fd020-9ab4-42ff-b35a-5fa8ea142de1\",\"type\":\"ColumnDataSource\"},{\"attributes\":{},\"id\":\"b4ef0a6a-cedb-4e49-a804-f191d16d88f3\",\"type\":\"LogScale\"},{\"attributes\":{},\"id\":\"27599540-ddbc-442c-a8d2-6743a9552a63\",\"type\":\"Selection\"},{\"attributes\":{},\"id\":\"3ff06c8e-beb6-4c7e-afeb-2f3ee5c3de48\",\"type\":\"UnionRenderers\"},{\"attributes\":{},\"id\":\"9290e603-39ed-4434-a2d1-ba25991aad18\",\"type\":\"UnionRenderers\"},{\"attributes\":{},\"id\":\"cf73a6b9-a623-4605-8a34-1ab6706b8547\",\"type\":\"UnionRenderers\"},{\"attributes\":{\"label\":{\"value\":\"CRD\"},\"renderers\":[{\"id\":\"eb2eea38-1bad-4138-8cd0-493a8d8bd715\",\"type\":\"GlyphRenderer\"},{\"id\":\"cbf1a5c8-2965-4186-9957-6b628da48c73\",\"type\":\"GlyphRenderer\"}]},\"id\":\"9c306be6-a2c9-4810-bc05-deb20fb34aea\",\"type\":\"LegendItem\"},{\"attributes\":{},\"id\":\"51ae1a58-865e-4ff2-a127-8ac4d32e725a\",\"type\":\"UnionRenderers\"},{\"attributes\":{\"axis_label\":\"pressure [mb]\",\"formatter\":{\"id\":\"ea02d34d-c50d-4c2f-b278-bdf5356ccbb6\",\"type\":\"LogTickFormatter\"},\"plot\":{\"id\":\"cc034967-7530-4d34-86d8-80875eb59312\",\"subtype\":\"Figure\",\"type\":\"Plot\"},\"ticker\":{\"id\":\"01e0f3da-1405-45b8-ad19-5f356d0d1c27\",\"type\":\"LogTicker\"}},\"id\":\"323e222d-1a17-4161-b4db-73566b519831\",\"type\":\"LogAxis\"},{\"attributes\":{\"ticker\":null},\"id\":\"ea02d34d-c50d-4c2f-b278-bdf5356ccbb6\",\"type\":\"LogTickFormatter\"},{\"attributes\":{\"plot\":null,\"text\":\"\"},\"id\":\"8380831f-0d62-4755-8339-49d5ff42ede8\",\"type\":\"Title\"},{\"attributes\":{\"ticker\":null},\"id\":\"1a0840cc-1286-4e67-8e1b-aaf3debdbc9d\",\"type\":\"LogTickFormatter\"},{\"attributes\":{\"axis_label\":\"cooling rate [K/day]\",\"formatter\":{\"id\":\"1449c4c4-2955-4bc6-a1fc-03ce7597802c\",\"type\":\"BasicTickFormatter\"},\"plot\":{\"id\":\"0824ab5b-3a10-428e-804f-cfef174ad8c6\",\"subtype\":\"Figure\",\"type\":\"Plot\"},\"ticker\":{\"id\":\"66c02850-f7fb-4dd2-8a19-8622e61a0843\",\"type\":\"BasicTicker\"}},\"id\":\"1f041874-794f-458a-bc11-d73152c7a747\",\"type\":\"LinearAxis\"},{\"attributes\":{\"plot\":null,\"text\":\"\"},\"id\":\"26ba3337-d82f-496f-9700-105fbdf8fa3f\",\"type\":\"Title\"},{\"attributes\":{\"plot\":{\"id\":\"cc034967-7530-4d34-86d8-80875eb59312\",\"subtype\":\"Figure\",\"type\":\"Plot\"},\"ticker\":{\"id\":\"e8d4080d-913a-4aad-81d7-e6ea11632376\",\"type\":\"BasicTicker\"}},\"id\":\"baafd60f-05db-46e4-9dee-daa85c2b9aa2\",\"type\":\"Grid\"},{\"attributes\":{\"callback\":null,\"data\":{\"x\":{\"__ndarray__\":\"0CYBcvU5UkCik9zf2GVBQF1VoNfLZ0BAVLxhiVXTPUDD1Wu1wJM6QFJyB025jjdAU6Aw5+b/NECYe1uuDfgyQB6bYtVTbTFAPxYSAF1HMEA00pYVm9QuQLolHbMzgC1AntlwirGsLECv+G9SjE4rQJH6ZLBp0ShAsLZQyPd/JkDyjgyf2PwkQLgyNGsrJyRAA13QbJD6I0C8hy0ilI4kQOVTXCEgcSZAovOGvZSGJUBVc/ZmUOIgQOf/6GHAyRlAcE8fAOBSFEDRur1U//gPQGFD9ZbokghAQsqHuSqSA0C91ci3W0UBQCtRQfvz7/4/kh8pntyB+j9t1/n+4TX1P773MAUjFfI/RgzR+CI28T8hBW8WHK7uPzVKjJfU8uk/0FPt4/z65T/wVYqzMPDhPz7K9C5CXuE/8+hSn9hY4T/9PPCkR6rhP1XsIC599OA/66X1nBCX3z/YbRM56QjcPz4dkSQc/dM/S7Wb8Fq00T+/yQdmX0vcP7TrGf476eM/WqNPJoWO7D9qOH1bcwDzP2bw+R5DQ/Y/RLSuQOQp+D8+aif8yAz5P0Wv6eBKRfk/0i2+IN4R+T/ik8QNFZr4PyS5UD5j/Pc/yJ68zXRG9z/2CHPL54H2P59SOhwKtPU/npkP8dfg9D8NlmVcdQz0P80ugRvuOvM/byxiAHN18j9USVZie8nxP5l9lNXYSPE/OB+F0UYP8T8Y7dsUCTHxP3EBgTHPcPE/bfx15p8S8T8FT+xkGtTuP6mdG7rkxuk/pboqTkHX5D/CrN8qGYngP7R4ZaL+htU/\",\"dtype\":\"float64\",\"shape\":[75]},\"y\":{\"__ndarray__\":\"GhExyth1ND/Sv8nbtpRIP2vylNV0PVE/aTum7souWD/At0SJ8fVgPw3Iuahxymc/MSNhhJWvcD/bTfBN02d3P2zb5nxnaoA/CD5h5MAGhz8NmeH1TyaQP+zrCsc9p5Y/LbKd76fGnz/bLW5ISEmmPww9YvTcQq8/JV2OstnstT8Er5Y7M8G+P0c+r3jqkcU/5h99k6ZBzj88bCIzFzjVP4enV8oyxN0//yH99nXg5D8qOpLLf0jtP5kqGJXUifQ/c9cS8kHP/D+/DpwzojQEQIEmwoanVwxA4lgXt9HgE0BSSZ2AJuIbQAMJih9jjiNA5q4l5INuK0AwTKYKRj0zQNv5fmq8/DpAaCJseHrtQkB/+zpwzoxKQM3MzMzMeFJAZmZmZmZqWEAAAAAAAFxeQM3MzMzMJmJAmpmZmZkfZUBmZmZmZhhoQDMzMzMzEWtAAAAAAAAKbkBmZmZmZoFwQM3MzMzM/XFAMzMzMzN6c0CamZmZmfZ0QAAAAAAAc3ZAZmZmZmbvd0DNzMzMzGt5QDMzMzMz6HpAmpmZmZlkfEAAAAAAAOF9QGZmZmZmXX9AZmZmZuZsgECamZmZGSuBQM3MzMxM6YFAAAAAAICngkAzMzMzs2WDQGZmZmbmI4RAmpmZmRnihEDNzMzMTKCFQAAAAACAXoZAMzMzM7Mch0BmZmZm5tqHQJqZmZkZmYhAzczMzExXiUAAAAAAgBWKQDMzMzOz04pAZmZmZuaRi0CamZmZGVCMQM3MzMxMDo1AAAAAAIDMjUAzMzMzs4qOQGZmZmbmSI9A\",\"dtype\":\"float64\",\"shape\":[75]}},\"selected\":{\"id\":\"cd1685c1-0f50-4ac4-baaf-66f23afabd87\",\"type\":\"Selection\"},\"selection_policy\":{\"id\":\"d8c431d0-f320-45c2-94b1-ceb843527be2\",\"type\":\"UnionRenderers\"}},\"id\":\"68fcee83-3fc1-41a1-9db4-ccadb0eb0bec\",\"type\":\"ColumnDataSource\"},{\"attributes\":{},\"id\":\"aa999bf6-d4f9-4efb-8f15-74ce67803234\",\"type\":\"Selection\"},{\"attributes\":{\"data_source\":{\"id\":\"bcf27c33-c422-43f6-86e7-f072edff66bd\",\"type\":\"ColumnDataSource\"},\"glyph\":{\"id\":\"d39ac286-28db-4329-8a53-f40ba9c0e8f8\",\"type\":\"Line\"},\"hover_glyph\":null,\"muted_glyph\":null,\"nonselection_glyph\":{\"id\":\"c99fa8b5-c40b-4f7d-8ce7-515b9c5d3ec1\",\"type\":\"Line\"},\"selection_glyph\":null,\"view\":{\"id\":\"35783561-ee68-4597-84cb-ba02ae94bc4b\",\"type\":\"CDSView\"}},\"id\":\"9be02303-524a-402a-a219-26c277f0be56\",\"type\":\"GlyphRenderer\"},{\"attributes\":{\"source\":{\"id\":\"68fcee83-3fc1-41a1-9db4-ccadb0eb0bec\",\"type\":\"ColumnDataSource\"}},\"id\":\"7b9b7dd8-d6f4-41ca-ab7d-867b8e397a84\",\"type\":\"CDSView\"},{\"attributes\":{\"fill_alpha\":{\"value\":0.7},\"fill_color\":{\"value\":\"#4daf4a\"},\"line_alpha\":{\"value\":0.7},\"line_color\":{\"value\":\"#4daf4a\"},\"x\":{\"field\":\"x\"},\"y\":{\"field\":\"y\"}},\"id\":\"21776e31-c64f-44b4-96af-c4abe2c15aab\",\"type\":\"Circle\"},{\"attributes\":{\"num_minor_ticks\":10},\"id\":\"01e0f3da-1405-45b8-ad19-5f356d0d1c27\",\"type\":\"LogTicker\"},{\"attributes\":{},\"id\":\"b4721b9e-efff-47b8-afa0-cda1c2299af1\",\"type\":\"BasicTickFormatter\"},{\"attributes\":{},\"id\":\"dbf9a71b-61c6-4ea2-9631-1a42fe76b7e3\",\"type\":\"BasicTickFormatter\"},{\"attributes\":{\"callback\":null,\"data\":{\"x\":{\"__ndarray__\":\"0CYBcvU5UkCik9zf2GVBQF1VoNfLZ0BAVLxhiVXTPUDD1Wu1wJM6QFJyB025jjdAU6Aw5+b/NECYe1uuDfgyQB6bYtVTbTFAPxYSAF1HMEA00pYVm9QuQLolHbMzgC1AntlwirGsLECv+G9SjE4rQJH6ZLBp0ShAsLZQyPd/JkDyjgyf2PwkQLgyNGsrJyRAA13QbJD6I0C8hy0ilI4kQOVTXCEgcSZAovOGvZSGJUBVc/ZmUOIgQOf/6GHAyRlAcE8fAOBSFEDRur1U//gPQGFD9ZbokghAQsqHuSqSA0C91ci3W0UBQCtRQfvz7/4/kh8pntyB+j9t1/n+4TX1P773MAUjFfI/RgzR+CI28T8hBW8WHK7uPzVKjJfU8uk/0FPt4/z65T/wVYqzMPDhPz7K9C5CXuE/8+hSn9hY4T/9PPCkR6rhP1XsIC599OA/66X1nBCX3z/YbRM56QjcPz4dkSQc/dM/S7Wb8Fq00T+/yQdmX0vcP7TrGf476eM/WqNPJoWO7D9qOH1bcwDzP2bw+R5DQ/Y/RLSuQOQp+D8+aif8yAz5P0Wv6eBKRfk/0i2+IN4R+T/ik8QNFZr4PyS5UD5j/Pc/yJ68zXRG9z/2CHPL54H2P59SOhwKtPU/npkP8dfg9D8NlmVcdQz0P80ugRvuOvM/byxiAHN18j9USVZie8nxP5l9lNXYSPE/OB+F0UYP8T8Y7dsUCTHxP3EBgTHPcPE/bfx15p8S8T8FT+xkGtTuP6mdG7rkxuk/pboqTkHX5D/CrN8qGYngP7R4ZaL+htU/\",\"dtype\":\"float64\",\"shape\":[75]},\"y\":{\"__ndarray__\":\"GhExyth1ND/Sv8nbtpRIP2vylNV0PVE/aTum7souWD/At0SJ8fVgPw3Iuahxymc/MSNhhJWvcD/bTfBN02d3P2zb5nxnaoA/CD5h5MAGhz8NmeH1TyaQP+zrCsc9p5Y/LbKd76fGnz/bLW5ISEmmPww9YvTcQq8/JV2OstnstT8Er5Y7M8G+P0c+r3jqkcU/5h99k6ZBzj88bCIzFzjVP4enV8oyxN0//yH99nXg5D8qOpLLf0jtP5kqGJXUifQ/c9cS8kHP/D+/DpwzojQEQIEmwoanVwxA4lgXt9HgE0BSSZ2AJuIbQAMJih9jjiNA5q4l5INuK0AwTKYKRj0zQNv5fmq8/DpAaCJseHrtQkB/+zpwzoxKQM3MzMzMeFJAZmZmZmZqWEAAAAAAAFxeQM3MzMzMJmJAmpmZmZkfZUBmZmZmZhhoQDMzMzMzEWtAAAAAAAAKbkBmZmZmZoFwQM3MzMzM/XFAMzMzMzN6c0CamZmZmfZ0QAAAAAAAc3ZAZmZmZmbvd0DNzMzMzGt5QDMzMzMz6HpAmpmZmZlkfEAAAAAAAOF9QGZmZmZmXX9AZmZmZuZsgECamZmZGSuBQM3MzMxM6YFAAAAAAICngkAzMzMzs2WDQGZmZmbmI4RAmpmZmRnihEDNzMzMTKCFQAAAAACAXoZAMzMzM7Mch0BmZmZm5tqHQJqZmZkZmYhAzczMzExXiUAAAAAAgBWKQDMzMzOz04pAZmZmZuaRi0CamZmZGVCMQM3MzMxMDo1AAAAAAIDMjUAzMzMzs4qOQGZmZmbmSI9A\",\"dtype\":\"float64\",\"shape\":[75]}},\"selected\":{\"id\":\"aa999bf6-d4f9-4efb-8f15-74ce67803234\",\"type\":\"Selection\"},\"selection_policy\":{\"id\":\"51ae1a58-865e-4ff2-a127-8ac4d32e725a\",\"type\":\"UnionRenderers\"}},\"id\":\"a76ee9d4-454f-4d9b-9aad-10b70b331577\",\"type\":\"ColumnDataSource\"},{\"attributes\":{\"data_source\":{\"id\":\"68fcee83-3fc1-41a1-9db4-ccadb0eb0bec\",\"type\":\"ColumnDataSource\"},\"glyph\":{\"id\":\"21776e31-c64f-44b4-96af-c4abe2c15aab\",\"type\":\"Circle\"},\"hover_glyph\":null,\"muted_glyph\":null,\"nonselection_glyph\":{\"id\":\"fd8ba144-29b8-4af7-bcc2-e28632f0c6e8\",\"type\":\"Circle\"},\"selection_glyph\":null,\"view\":{\"id\":\"7b9b7dd8-d6f4-41ca-ab7d-867b8e397a84\",\"type\":\"CDSView\"}},\"id\":\"6df07899-68ba-4c7a-b0da-5ebaef0156f8\",\"type\":\"GlyphRenderer\"},{\"attributes\":{\"callback\":null,\"data\":{\"x\":{\"__ndarray__\":\"VjSCTD3eQ8DYWVgkJvYYwNpTWsXppAPAux1BJrce8j9BmAL18psLQH1GoHIb2g9AHlshkC7LBkDP9/wwVTrrPyu2iXaXmu2/L3WfIbFl+r+VBk0Gcxv0v8J+sAdRy9S/UH1/Rkeq4D8IzsLpVObuP4jqcTibAe0/eTvd8oYO2T+OQTCLDt7Qv/dSfhtoXuW/V0+3xBhy5b94Z7G7lXzav/6pSlfL38G/zBgKKJYesj/I1tW4gTDBP4Gg9xnb/bm/6OHFBmFwzb/Jlv56HxKhv/EZB1BwXNE/tDFGwmnx0T+dgz8RYjK8P0oF0SHPn6A/1zw/k0lFxD8Gy+tFFBfNP2i9183Z08A/N3gKDez1dr+ErhDxWg1oP7z6DbGqTLM/FGuCmYk5qD8ZDNtblLmYvzx7mOPoprO/Rm2hQwsHtr9zgNat/qeyv3TBkyPWuay/lNouayB+pb/vTOCOl1uavx4jDSfir5C/H1Be0ivxhb9YuwufkpI/v2KxTpOelHS/zMZedMBUm7+XBGrFTJ+qv1BpC30ogKq/qPfp7IHAor8ApUU9lFmjv/JYEpkYzKq/kHn7d8SRqr/cmaU2k1ylvxjD/zelpZ+/nlGD3JJLmL/E21bacaGTv/6RwjCw64m/2h/zxmcAhL/NgBME6nGBv9orU+u8T4S/oIG6YxpWhr8lZK/mZTWEv+Zn75KUCXq/gNkHHrReOb9kVHMMU5p/P9Y9Y3OW2Is/nkfL3Nfckj+u+BL/t1+WP0aldYMAE5g/U2koibtulz9Klct3jleXPw5pTN3dV5Y/\",\"dtype\":\"float64\",\"shape\":[75]},\"y\":{\"__ndarray__\":\"GhExyth1ND/Sv8nbtpRIP2vylNV0PVE/aTum7souWD/At0SJ8fVgPw3Iuahxymc/MSNhhJWvcD/bTfBN02d3P2zb5nxnaoA/CD5h5MAGhz8NmeH1TyaQP+zrCsc9p5Y/LbKd76fGnz/bLW5ISEmmPww9YvTcQq8/JV2OstnstT8Er5Y7M8G+P0c+r3jqkcU/5h99k6ZBzj88bCIzFzjVP4enV8oyxN0//yH99nXg5D8qOpLLf0jtP5kqGJXUifQ/c9cS8kHP/D+/DpwzojQEQIEmwoanVwxA4lgXt9HgE0BSSZ2AJuIbQAMJih9jjiNA5q4l5INuK0AwTKYKRj0zQNv5fmq8/DpAaCJseHrtQkB/+zpwzoxKQM3MzMzMeFJAZmZmZmZqWEAAAAAAAFxeQM3MzMzMJmJAmpmZmZkfZUBmZmZmZhhoQDMzMzMzEWtAAAAAAAAKbkBmZmZmZoFwQM3MzMzM/XFAMzMzMzN6c0CamZmZmfZ0QAAAAAAAc3ZAZmZmZmbvd0DNzMzMzGt5QDMzMzMz6HpAmpmZmZlkfEAAAAAAAOF9QGZmZmZmXX9AZmZmZuZsgECamZmZGSuBQM3MzMxM6YFAAAAAAICngkAzMzMzs2WDQGZmZmbmI4RAmpmZmRnihEDNzMzMTKCFQAAAAACAXoZAMzMzM7Mch0BmZmZm5tqHQJqZmZkZmYhAzczMzExXiUAAAAAAgBWKQDMzMzOz04pAZmZmZuaRi0CamZmZGVCMQM3MzMxMDo1AAAAAAIDMjUAzMzMzs4qOQGZmZmbmSI9A\",\"dtype\":\"float64\",\"shape\":[75]}},\"selected\":{\"id\":\"a2da5ff0-46b7-44b0-8482-251703b6466e\",\"type\":\"Selection\"},\"selection_policy\":{\"id\":\"e7693b25-5a9c-47ad-9579-6ca141c10616\",\"type\":\"UnionRenderers\"}},\"id\":\"143a7cc3-100e-496f-860d-2691f4aa2ae5\",\"type\":\"ColumnDataSource\"},{\"attributes\":{},\"id\":\"d8c431d0-f320-45c2-94b1-ceb843527be2\",\"type\":\"UnionRenderers\"},{\"attributes\":{\"active_drag\":\"auto\",\"active_inspect\":\"auto\",\"active_scroll\":\"auto\",\"active_tap\":\"auto\",\"tools\":[{\"id\":\"5b93ff54-3275-4831-a5b5-0d4ba6a3ea86\",\"type\":\"PanTool\"},{\"id\":\"535e19a1-e17f-4b4b-bf14-09afc52a6e69\",\"type\":\"WheelZoomTool\"},{\"id\":\"5239c445-470c-4632-9f30-8fae9a5bb0c4\",\"type\":\"BoxZoomTool\"},{\"id\":\"18036856-bbee-4920-b8f0-33bab5d0538d\",\"type\":\"SaveTool\"},{\"id\":\"83745c43-e80b-4524-a760-1fc7d23d4b69\",\"type\":\"ResetTool\"},{\"id\":\"b54ed983-ff0d-4fe8-9cfa-a465ba340207\",\"type\":\"HelpTool\"}]},\"id\":\"b4c9f65d-6cb4-4a4a-ae1b-2d741848272b\",\"type\":\"Toolbar\"},{\"attributes\":{},\"id\":\"da5127d0-9d84-45a6-a75d-e037411f0b2d\",\"type\":\"Selection\"},{\"attributes\":{\"callback\":null,\"end\":0.01,\"start\":1020},\"id\":\"4ced851d-e3f2-4341-800a-7df5eba98de1\",\"type\":\"Range1d\"},{\"attributes\":{\"callback\":null,\"end\":0.01,\"start\":1020},\"id\":\"6ac3829e-0bff-4fbe-8fdc-66dfee430982\",\"type\":\"Range1d\"},{\"attributes\":{\"source\":{\"id\":\"341be940-6b6e-4e3d-8625-0d7156c146cc\",\"type\":\"ColumnDataSource\"}},\"id\":\"c32ed9ec-17a5-4fce-aadf-f563e74fd9fe\",\"type\":\"CDSView\"},{\"attributes\":{\"callback\":null,\"end\":0.01,\"start\":1020},\"id\":\"8ded5a21-6935-4645-ae1f-3b907cb93576\",\"type\":\"Range1d\"},{\"attributes\":{\"above\":[{\"id\":\"ed1b25b3-e23d-4823-8b70-a1f7614444c6\",\"type\":\"Legend\"}],\"below\":[{\"id\":\"252742cc-c5b7-448a-998b-c1618a41638a\",\"type\":\"LinearAxis\"}],\"left\":[{\"id\":\"323e222d-1a17-4161-b4db-73566b519831\",\"type\":\"LogAxis\"}],\"plot_width\":300,\"renderers\":[{\"id\":\"252742cc-c5b7-448a-998b-c1618a41638a\",\"type\":\"LinearAxis\"},{\"id\":\"baafd60f-05db-46e4-9dee-daa85c2b9aa2\",\"type\":\"Grid\"},{\"id\":\"323e222d-1a17-4161-b4db-73566b519831\",\"type\":\"LogAxis\"},{\"id\":\"4737d186-713c-4ff7-ac99-ba31f372e340\",\"type\":\"Grid\"},{\"id\":\"cd7c9417-f992-4fac-9fa3-ef3f41373839\",\"type\":\"BoxAnnotation\"},{\"id\":\"62020d93-8c57-4790-a98e-2469bc08f867\",\"type\":\"GlyphRenderer\"},{\"id\":\"46b67130-c33c-4c5e-9e23-407a52b01e82\",\"type\":\"GlyphRenderer\"},{\"id\":\"ed1b25b3-e23d-4823-8b70-a1f7614444c6\",\"type\":\"Legend\"}],\"title\":{\"id\":\"26ba3337-d82f-496f-9700-105fbdf8fa3f\",\"type\":\"Title\"},\"toolbar\":{\"id\":\"e54d2bd6-b81b-4a2a-b85e-e605503df463\",\"type\":\"Toolbar\"},\"toolbar_location\":null,\"x_range\":{\"id\":\"7d936b61-5734-49e9-9fdf-faceaf35f235\",\"type\":\"Range1d\"},\"x_scale\":{\"id\":\"af3ec49c-ffd4-4a3d-b2d4-924f4dae3be5\",\"type\":\"LinearScale\"},\"y_range\":{\"id\":\"6ac3829e-0bff-4fbe-8fdc-66dfee430982\",\"type\":\"Range1d\"},\"y_scale\":{\"id\":\"b4ef0a6a-cedb-4e49-a804-f191d16d88f3\",\"type\":\"LogScale\"}},\"id\":\"cc034967-7530-4d34-86d8-80875eb59312\",\"subtype\":\"Figure\",\"type\":\"Plot\"},{\"attributes\":{},\"id\":\"f607cf89-208e-4395-a44d-f2c4d7832e93\",\"type\":\"BasicTickFormatter\"},{\"attributes\":{\"line_alpha\":0.8,\"line_color\":\"#984ea3\",\"line_width\":1.5,\"x\":{\"field\":\"x\"},\"y\":{\"field\":\"y\"}},\"id\":\"c5f219bd-5b45-4056-a9cf-b94dcfbb36d6\",\"type\":\"Line\"},{\"attributes\":{},\"id\":\"1ab5d60d-7682-447d-a601-b31072b7ccab\",\"type\":\"Selection\"},{\"attributes\":{\"above\":[{\"id\":\"c689b461-84a5-4697-985a-93bf91638bc0\",\"type\":\"Legend\"}],\"below\":[{\"id\":\"920508a4-8cb5-41a9-a818-fa1a8a4ae23b\",\"type\":\"LinearAxis\"}],\"left\":[{\"id\":\"86c541d2-28b8-4a53-b893-743f903a363a\",\"type\":\"LogAxis\"}],\"plot_width\":300,\"renderers\":[{\"id\":\"920508a4-8cb5-41a9-a818-fa1a8a4ae23b\",\"type\":\"LinearAxis\"},{\"id\":\"ad79e286-c624-4be3-b80b-62cfa170fab5\",\"type\":\"Grid\"},{\"id\":\"86c541d2-28b8-4a53-b893-743f903a363a\",\"type\":\"LogAxis\"},{\"id\":\"bb970ac4-fcff-48d7-acef-6737552f7e1b\",\"type\":\"Grid\"},{\"id\":\"70b3f9a8-37e6-49d5-85e8-ce9b3ffb81e4\",\"type\":\"BoxAnnotation\"},{\"id\":\"f20f86a5-d6b7-42db-87f0-4dec8982b85b\",\"type\":\"GlyphRenderer\"},{\"id\":\"eb2eea38-1bad-4138-8cd0-493a8d8bd715\",\"type\":\"GlyphRenderer\"},{\"id\":\"cbf1a5c8-2965-4186-9957-6b628da48c73\",\"type\":\"GlyphRenderer\"},{\"id\":\"c689b461-84a5-4697-985a-93bf91638bc0\",\"type\":\"Legend\"}],\"title\":{\"id\":\"8380831f-0d62-4755-8339-49d5ff42ede8\",\"type\":\"Title\"},\"toolbar\":{\"id\":\"007479ac-ed0b-4b36-b7da-a2695f3b5e16\",\"type\":\"Toolbar\"},\"toolbar_location\":null,\"x_range\":{\"id\":\"a5749c33-f87c-427f-bb27-287fcc9ce020\",\"type\":\"Range1d\"},\"x_scale\":{\"id\":\"c48cf1f7-a97b-49cd-8421-a1f42f971805\",\"type\":\"LinearScale\"},\"y_range\":{\"id\":\"4ced851d-e3f2-4341-800a-7df5eba98de1\",\"type\":\"Range1d\"},\"y_scale\":{\"id\":\"823152fb-f065-4cb4-a181-ac19ee5f8b41\",\"type\":\"LogScale\"}},\"id\":\"f9d53f03-f829-41ec-bb50-2782902b876a\",\"subtype\":\"Figure\",\"type\":\"Plot\"},{\"attributes\":{\"fill_alpha\":{\"value\":0.7},\"fill_color\":{\"value\":\"#984ea3\"},\"line_alpha\":{\"value\":0.7},\"line_color\":{\"value\":\"#984ea3\"},\"x\":{\"field\":\"x\"},\"y\":{\"field\":\"y\"}},\"id\":\"4fb3a71b-19b2-463d-958b-0bc8c3abd4f5\",\"type\":\"Circle\"},{\"attributes\":{\"callback\":null,\"end\":0.9917710995134403,\"start\":-1.6759815666374394},\"id\":\"7d936b61-5734-49e9-9fdf-faceaf35f235\",\"type\":\"Range1d\"},{\"attributes\":{},\"id\":\"1449c4c4-2955-4bc6-a1fc-03ce7597802c\",\"type\":\"BasicTickFormatter\"},{\"attributes\":{\"label\":{\"value\":\"CLIRAD (single-run)\"},\"renderers\":[{\"id\":\"f20f86a5-d6b7-42db-87f0-4dec8982b85b\",\"type\":\"GlyphRenderer\"}]},\"id\":\"7f526295-7249-4955-9b1f-b4fcc4c8f44b\",\"type\":\"LegendItem\"},{\"attributes\":{\"data_source\":{\"id\":\"341be940-6b6e-4e3d-8625-0d7156c146cc\",\"type\":\"ColumnDataSource\"},\"glyph\":{\"id\":\"4fb3a71b-19b2-463d-958b-0bc8c3abd4f5\",\"type\":\"Circle\"},\"hover_glyph\":null,\"muted_glyph\":null,\"nonselection_glyph\":{\"id\":\"1ed1f5a3-aec3-4377-9547-6615db009a64\",\"type\":\"Circle\"},\"selection_glyph\":null,\"view\":{\"id\":\"c32ed9ec-17a5-4fce-aadf-f563e74fd9fe\",\"type\":\"CDSView\"}},\"id\":\"62020d93-8c57-4790-a98e-2469bc08f867\",\"type\":\"GlyphRenderer\"},{\"attributes\":{},\"id\":\"cd1685c1-0f50-4ac4-baaf-66f23afabd87\",\"type\":\"Selection\"},{\"attributes\":{\"active_drag\":\"auto\",\"active_inspect\":\"auto\",\"active_scroll\":\"auto\",\"active_tap\":\"auto\",\"tools\":[{\"id\":\"45b98172-ec64-43be-859c-35315e869934\",\"type\":\"PanTool\"},{\"id\":\"13d7bc58-8e0a-434c-91fd-dcc72d206aeb\",\"type\":\"WheelZoomTool\"},{\"id\":\"45300156-8bab-4d66-9c33-03ce165fdfe7\",\"type\":\"BoxZoomTool\"},{\"id\":\"a42c930b-049d-480e-a426-0674fdf5946e\",\"type\":\"SaveTool\"},{\"id\":\"fa6839e7-989c-4737-9df6-00b46bc24ce2\",\"type\":\"ResetTool\"},{\"id\":\"985fd136-9c7c-4621-80fb-e1cd7a206301\",\"type\":\"HelpTool\"}]},\"id\":\"e54d2bd6-b81b-4a2a-b85e-e605503df463\",\"type\":\"Toolbar\"},{\"attributes\":{},\"id\":\"4aec72a6-94e4-4e12-82f4-37e46066923a\",\"type\":\"UnionRenderers\"},{\"attributes\":{\"fill_alpha\":{\"value\":0.1},\"fill_color\":{\"value\":\"#1f77b4\"},\"line_alpha\":{\"value\":0.1},\"line_color\":{\"value\":\"#1f77b4\"},\"x\":{\"field\":\"x\"},\"y\":{\"field\":\"y\"}},\"id\":\"1ed1f5a3-aec3-4377-9547-6615db009a64\",\"type\":\"Circle\"},{\"attributes\":{\"children\":[{\"id\":\"2459c68f-8890-4a27-8678-5b0ba6fc411d\",\"type\":\"ToolbarBox\"},{\"id\":\"259f739f-5f6a-4b66-aeef-2e7bd7748db0\",\"type\":\"Column\"}]},\"id\":\"c13232a0-9e11-48ff-8f24-b658d759c2c9\",\"type\":\"Column\"},{\"attributes\":{\"line_alpha\":0.1,\"line_color\":\"#1f77b4\",\"line_dash\":[6],\"line_width\":5,\"x\":{\"field\":\"x\"},\"y\":{\"field\":\"y\"}},\"id\":\"c99fa8b5-c40b-4f7d-8ce7-515b9c5d3ec1\",\"type\":\"Line\"},{\"attributes\":{\"tools\":[{\"id\":\"5b93ff54-3275-4831-a5b5-0d4ba6a3ea86\",\"type\":\"PanTool\"},{\"id\":\"535e19a1-e17f-4b4b-bf14-09afc52a6e69\",\"type\":\"WheelZoomTool\"},{\"id\":\"5239c445-470c-4632-9f30-8fae9a5bb0c4\",\"type\":\"BoxZoomTool\"},{\"id\":\"18036856-bbee-4920-b8f0-33bab5d0538d\",\"type\":\"SaveTool\"},{\"id\":\"83745c43-e80b-4524-a760-1fc7d23d4b69\",\"type\":\"ResetTool\"},{\"id\":\"b54ed983-ff0d-4fe8-9cfa-a465ba340207\",\"type\":\"HelpTool\"},{\"id\":\"072d33f8-6b29-4785-9475-0e6f9dead9db\",\"type\":\"PanTool\"},{\"id\":\"7fc6385d-4d4f-42bc-b614-b9af7d0af028\",\"type\":\"WheelZoomTool\"},{\"id\":\"828e906a-01d4-402b-8a1a-620136b846f6\",\"type\":\"BoxZoomTool\"},{\"id\":\"13f2a991-f562-407f-ba1a-10b1051e3853\",\"type\":\"SaveTool\"},{\"id\":\"5a2253f2-98c5-447c-a927-ea5ea163d2b5\",\"type\":\"ResetTool\"},{\"id\":\"a8cf59bb-8288-41ca-93f8-3de2a683be6d\",\"type\":\"HelpTool\"},{\"id\":\"45b98172-ec64-43be-859c-35315e869934\",\"type\":\"PanTool\"},{\"id\":\"13d7bc58-8e0a-434c-91fd-dcc72d206aeb\",\"type\":\"WheelZoomTool\"},{\"id\":\"45300156-8bab-4d66-9c33-03ce165fdfe7\",\"type\":\"BoxZoomTool\"},{\"id\":\"a42c930b-049d-480e-a426-0674fdf5946e\",\"type\":\"SaveTool\"},{\"id\":\"fa6839e7-989c-4737-9df6-00b46bc24ce2\",\"type\":\"ResetTool\"},{\"id\":\"985fd136-9c7c-4621-80fb-e1cd7a206301\",\"type\":\"HelpTool\"}]},\"id\":\"bdfeadde-5bcd-489c-960f-c1f19cbfd94f\",\"type\":\"ProxyToolbar\"},{\"attributes\":{\"data_source\":{\"id\":\"e07630a5-1dda-4f7f-834d-1e5538cf8ea3\",\"type\":\"ColumnDataSource\"},\"glyph\":{\"id\":\"b530a91a-a272-497c-967c-0771eb8055b1\",\"type\":\"Circle\"},\"hover_glyph\":null,\"muted_glyph\":null,\"nonselection_glyph\":{\"id\":\"dfab9105-b119-426c-aa84-7f1c79c7e83f\",\"type\":\"Circle\"},\"selection_glyph\":null,\"view\":{\"id\":\"1b00d3a9-99c7-43d6-bd11-6c3377bf784b\",\"type\":\"CDSView\"}},\"id\":\"eb2eea38-1bad-4138-8cd0-493a8d8bd715\",\"type\":\"GlyphRenderer\"},{\"attributes\":{},\"id\":\"a2da5ff0-46b7-44b0-8482-251703b6466e\",\"type\":\"Selection\"},{\"attributes\":{\"callback\":null,\"data\":{\"x\":{\"__ndarray__\":\"0CYBcvU5UkCik9zf2GVBQF1VoNfLZ0BAVLxhiVXTPUDD1Wu1wJM6QFJyB025jjdAU6Aw5+b/NECYe1uuDfgyQB6bYtVTbTFAPxYSAF1HMEA00pYVm9QuQLolHbMzgC1AntlwirGsLECv+G9SjE4rQJH6ZLBp0ShAsLZQyPd/JkDyjgyf2PwkQLgyNGsrJyRAA13QbJD6I0C8hy0ilI4kQOVTXCEgcSZAovOGvZSGJUBVc/ZmUOIgQOf/6GHAyRlAcE8fAOBSFEDRur1U//gPQGFD9ZbokghAQsqHuSqSA0C91ci3W0UBQCtRQfvz7/4/kh8pntyB+j9t1/n+4TX1P773MAUjFfI/RgzR+CI28T8hBW8WHK7uPzVKjJfU8uk/0FPt4/z65T/wVYqzMPDhPz7K9C5CXuE/8+hSn9hY4T/9PPCkR6rhP1XsIC599OA/66X1nBCX3z/YbRM56QjcPz4dkSQc/dM/S7Wb8Fq00T+/yQdmX0vcP7TrGf476eM/WqNPJoWO7D9qOH1bcwDzP2bw+R5DQ/Y/RLSuQOQp+D8+aif8yAz5P0Wv6eBKRfk/0i2+IN4R+T/ik8QNFZr4PyS5UD5j/Pc/yJ68zXRG9z/2CHPL54H2P59SOhwKtPU/npkP8dfg9D8NlmVcdQz0P80ugRvuOvM/byxiAHN18j9USVZie8nxP5l9lNXYSPE/OB+F0UYP8T8Y7dsUCTHxP3EBgTHPcPE/bfx15p8S8T8FT+xkGtTuP6mdG7rkxuk/pboqTkHX5D/CrN8qGYngP7R4ZaL+htU/\",\"dtype\":\"float64\",\"shape\":[75]},\"y\":{\"__ndarray__\":\"GhExyth1ND/Sv8nbtpRIP2vylNV0PVE/aTum7souWD/At0SJ8fVgPw3Iuahxymc/MSNhhJWvcD/bTfBN02d3P2zb5nxnaoA/CD5h5MAGhz8NmeH1TyaQP+zrCsc9p5Y/LbKd76fGnz/bLW5ISEmmPww9YvTcQq8/JV2OstnstT8Er5Y7M8G+P0c+r3jqkcU/5h99k6ZBzj88bCIzFzjVP4enV8oyxN0//yH99nXg5D8qOpLLf0jtP5kqGJXUifQ/c9cS8kHP/D+/DpwzojQEQIEmwoanVwxA4lgXt9HgE0BSSZ2AJuIbQAMJih9jjiNA5q4l5INuK0AwTKYKRj0zQNv5fmq8/DpAaCJseHrtQkB/+zpwzoxKQM3MzMzMeFJAZmZmZmZqWEAAAAAAAFxeQM3MzMzMJmJAmpmZmZkfZUBmZmZmZhhoQDMzMzMzEWtAAAAAAAAKbkBmZmZmZoFwQM3MzMzM/XFAMzMzMzN6c0CamZmZmfZ0QAAAAAAAc3ZAZmZmZmbvd0DNzMzMzGt5QDMzMzMz6HpAmpmZmZlkfEAAAAAAAOF9QGZmZmZmXX9AZmZmZuZsgECamZmZGSuBQM3MzMxM6YFAAAAAAICngkAzMzMzs2WDQGZmZmbmI4RAmpmZmRnihEDNzMzMTKCFQAAAAACAXoZAMzMzM7Mch0BmZmZm5tqHQJqZmZkZmYhAzczMzExXiUAAAAAAgBWKQDMzMzOz04pAZmZmZuaRi0CamZmZGVCMQM3MzMxMDo1AAAAAAIDMjUAzMzMzs4qOQGZmZmbmSI9A\",\"dtype\":\"float64\",\"shape\":[75]}},\"selected\":{\"id\":\"5323238e-5a61-4226-bc71-b58c0b698ed6\",\"type\":\"Selection\"},\"selection_policy\":{\"id\":\"cf73a6b9-a623-4605-8a34-1ab6706b8547\",\"type\":\"UnionRenderers\"}},\"id\":\"e07630a5-1dda-4f7f-834d-1e5538cf8ea3\",\"type\":\"ColumnDataSource\"},{\"attributes\":{\"source\":{\"id\":\"595fd020-9ab4-42ff-b35a-5fa8ea142de1\",\"type\":\"ColumnDataSource\"}},\"id\":\"75d1d57f-0c7c-4491-9d83-b34cedc120d9\",\"type\":\"CDSView\"},{\"attributes\":{\"line_alpha\":0.1,\"line_color\":\"#1f77b4\",\"line_width\":1.5,\"x\":{\"field\":\"x\"},\"y\":{\"field\":\"y\"}},\"id\":\"e26f8844-be51-44d9-9154-d9efc1e78527\",\"type\":\"Line\"},{\"attributes\":{\"data_source\":{\"id\":\"595fd020-9ab4-42ff-b35a-5fa8ea142de1\",\"type\":\"ColumnDataSource\"},\"glyph\":{\"id\":\"b5554faf-e17a-4d1c-882b-bfe644a0e26f\",\"type\":\"Line\"},\"hover_glyph\":null,\"muted_glyph\":null,\"nonselection_glyph\":{\"id\":\"2ebe85af-5224-42c8-b08b-cdaf6b87407a\",\"type\":\"Line\"},\"selection_glyph\":null,\"view\":{\"id\":\"75d1d57f-0c7c-4491-9d83-b34cedc120d9\",\"type\":\"CDSView\"}},\"id\":\"f20f86a5-d6b7-42db-87f0-4dec8982b85b\",\"type\":\"GlyphRenderer\"},{\"attributes\":{},\"id\":\"e7693b25-5a9c-47ad-9579-6ca141c10616\",\"type\":\"UnionRenderers\"},{\"attributes\":{\"line_alpha\":0.1,\"line_color\":\"#1f77b4\",\"line_dash\":[6],\"line_width\":5,\"x\":{\"field\":\"x\"},\"y\":{\"field\":\"y\"}},\"id\":\"2ebe85af-5224-42c8-b08b-cdaf6b87407a\",\"type\":\"Line\"},{\"attributes\":{},\"id\":\"5edb78fc-99fd-4e39-86d5-c3cdf68fc124\",\"type\":\"LinearScale\"},{\"attributes\":{},\"id\":\"e8d4080d-913a-4aad-81d7-e6ea11632376\",\"type\":\"BasicTicker\"},{\"attributes\":{\"data_source\":{\"id\":\"c1ab4271-8352-4af1-b2f7-5463bf27c05a\",\"type\":\"ColumnDataSource\"},\"glyph\":{\"id\":\"9d3b450b-19c4-4325-bb50-9f9ee68e2cb6\",\"type\":\"Line\"},\"hover_glyph\":null,\"muted_glyph\":null,\"nonselection_glyph\":{\"id\":\"e26f8844-be51-44d9-9154-d9efc1e78527\",\"type\":\"Line\"},\"selection_glyph\":null,\"view\":{\"id\":\"f893e86e-1685-4d64-9f7c-bd05e938bcf3\",\"type\":\"CDSView\"}},\"id\":\"cbf1a5c8-2965-4186-9957-6b628da48c73\",\"type\":\"GlyphRenderer\"},{\"attributes\":{\"fill_alpha\":{\"value\":0.1},\"fill_color\":{\"value\":\"#1f77b4\"},\"line_alpha\":{\"value\":0.1},\"line_color\":{\"value\":\"#1f77b4\"},\"x\":{\"field\":\"x\"},\"y\":{\"field\":\"y\"}},\"id\":\"dfab9105-b119-426c-aa84-7f1c79c7e83f\",\"type\":\"Circle\"},{\"attributes\":{\"fill_alpha\":{\"value\":0.7},\"fill_color\":{\"value\":\"#4daf4a\"},\"line_alpha\":{\"value\":0.7},\"line_color\":{\"value\":\"#4daf4a\"},\"x\":{\"field\":\"x\"},\"y\":{\"field\":\"y\"}},\"id\":\"b530a91a-a272-497c-967c-0771eb8055b1\",\"type\":\"Circle\"},{\"attributes\":{\"source\":{\"id\":\"e07630a5-1dda-4f7f-834d-1e5538cf8ea3\",\"type\":\"ColumnDataSource\"}},\"id\":\"1b00d3a9-99c7-43d6-bd11-6c3377bf784b\",\"type\":\"CDSView\"},{\"attributes\":{\"line_color\":\"#4daf4a\",\"line_width\":1.5,\"x\":{\"field\":\"x\"},\"y\":{\"field\":\"y\"}},\"id\":\"9d3b450b-19c4-4325-bb50-9f9ee68e2cb6\",\"type\":\"Line\"},{\"attributes\":{\"toolbar\":{\"id\":\"bdfeadde-5bcd-489c-960f-c1f19cbfd94f\",\"type\":\"ProxyToolbar\"},\"toolbar_location\":\"above\"},\"id\":\"2459c68f-8890-4a27-8678-5b0ba6fc411d\",\"type\":\"ToolbarBox\"},{\"attributes\":{\"callback\":null,\"data\":{\"x\":{\"__ndarray__\":\"0CYBcvU5UkCik9zf2GVBQF1VoNfLZ0BAVLxhiVXTPUDD1Wu1wJM6QFJyB025jjdAU6Aw5+b/NECYe1uuDfgyQB6bYtVTbTFAPxYSAF1HMEA00pYVm9QuQLolHbMzgC1AntlwirGsLECv+G9SjE4rQJH6ZLBp0ShAsLZQyPd/JkDyjgyf2PwkQLgyNGsrJyRAA13QbJD6I0C8hy0ilI4kQOVTXCEgcSZAovOGvZSGJUBVc/ZmUOIgQOf/6GHAyRlAcE8fAOBSFEDRur1U//gPQGFD9ZbokghAQsqHuSqSA0C91ci3W0UBQCtRQfvz7/4/kh8pntyB+j9t1/n+4TX1P773MAUjFfI/RgzR+CI28T8hBW8WHK7uPzVKjJfU8uk/0FPt4/z65T/wVYqzMPDhPz7K9C5CXuE/8+hSn9hY4T/9PPCkR6rhP1XsIC599OA/66X1nBCX3z/YbRM56QjcPz4dkSQc/dM/S7Wb8Fq00T+/yQdmX0vcP7TrGf476eM/WqNPJoWO7D9qOH1bcwDzP2bw+R5DQ/Y/RLSuQOQp+D8+aif8yAz5P0Wv6eBKRfk/0i2+IN4R+T/ik8QNFZr4PyS5UD5j/Pc/yJ68zXRG9z/2CHPL54H2P59SOhwKtPU/npkP8dfg9D8NlmVcdQz0P80ugRvuOvM/byxiAHN18j9USVZie8nxP5l9lNXYSPE/OB+F0UYP8T8Y7dsUCTHxP3EBgTHPcPE/bfx15p8S8T8FT+xkGtTuP6mdG7rkxuk/pboqTkHX5D/CrN8qGYngP7R4ZaL+htU/\",\"dtype\":\"float64\",\"shape\":[75]},\"y\":{\"__ndarray__\":\"GhExyth1ND/Sv8nbtpRIP2vylNV0PVE/aTum7souWD/At0SJ8fVgPw3Iuahxymc/MSNhhJWvcD/bTfBN02d3P2zb5nxnaoA/CD5h5MAGhz8NmeH1TyaQP+zrCsc9p5Y/LbKd76fGnz/bLW5ISEmmPww9YvTcQq8/JV2OstnstT8Er5Y7M8G+P0c+r3jqkcU/5h99k6ZBzj88bCIzFzjVP4enV8oyxN0//yH99nXg5D8qOpLLf0jtP5kqGJXUifQ/c9cS8kHP/D+/DpwzojQEQIEmwoanVwxA4lgXt9HgE0BSSZ2AJuIbQAMJih9jjiNA5q4l5INuK0AwTKYKRj0zQNv5fmq8/DpAaCJseHrtQkB/+zpwzoxKQM3MzMzMeFJAZmZmZmZqWEAAAAAAAFxeQM3MzMzMJmJAmpmZmZkfZUBmZmZmZhhoQDMzMzMzEWtAAAAAAAAKbkBmZmZmZoFwQM3MzMzM/XFAMzMzMzN6c0CamZmZmfZ0QAAAAAAAc3ZAZmZmZmbvd0DNzMzMzGt5QDMzMzMz6HpAmpmZmZlkfEAAAAAAAOF9QGZmZmZmXX9AZmZmZuZsgECamZmZGSuBQM3MzMxM6YFAAAAAAICngkAzMzMzs2WDQGZmZmbmI4RAmpmZmRnihEDNzMzMTKCFQAAAAACAXoZAMzMzM7Mch0BmZmZm5tqHQJqZmZkZmYhAzczMzExXiUAAAAAAgBWKQDMzMzOz04pAZmZmZuaRi0CamZmZGVCMQM3MzMxMDo1AAAAAAIDMjUAzMzMzs4qOQGZmZmbmSI9A\",\"dtype\":\"float64\",\"shape\":[75]}},\"selected\":{\"id\":\"27599540-ddbc-442c-a8d2-6743a9552a63\",\"type\":\"Selection\"},\"selection_policy\":{\"id\":\"3ff06c8e-beb6-4c7e-afeb-2f3ee5c3de48\",\"type\":\"UnionRenderers\"}},\"id\":\"c1ab4271-8352-4af1-b2f7-5463bf27c05a\",\"type\":\"ColumnDataSource\"},{\"attributes\":{\"items\":[{\"id\":\"6da12466-3505-4f15-a41b-586214525f09\",\"type\":\"LegendItem\"}],\"label_text_font_size\":{\"value\":\"8pt\"},\"location\":\"top_center\",\"orientation\":\"horizontal\",\"plot\":{\"id\":\"cc034967-7530-4d34-86d8-80875eb59312\",\"subtype\":\"Figure\",\"type\":\"Plot\"}},\"id\":\"ed1b25b3-e23d-4823-8b70-a1f7614444c6\",\"type\":\"Legend\"},{\"attributes\":{\"source\":{\"id\":\"143a7cc3-100e-496f-860d-2691f4aa2ae5\",\"type\":\"ColumnDataSource\"}},\"id\":\"ad9eb3aa-ebb6-4da2-90bc-a05194739ad8\",\"type\":\"CDSView\"},{\"attributes\":{\"above\":[{\"id\":\"ec6b6220-7073-4435-b4f4-919d6f370983\",\"type\":\"Legend\"}],\"below\":[{\"id\":\"1f041874-794f-458a-bc11-d73152c7a747\",\"type\":\"LinearAxis\"}],\"left\":[{\"id\":\"0e6e63f5-af76-414e-a3af-20e7b5411adb\",\"type\":\"LinearAxis\"}],\"plot_width\":300,\"renderers\":[{\"id\":\"1f041874-794f-458a-bc11-d73152c7a747\",\"type\":\"LinearAxis\"},{\"id\":\"f471b70b-08dd-4b6d-937d-17e9a55dbd00\",\"type\":\"Grid\"},{\"id\":\"0e6e63f5-af76-414e-a3af-20e7b5411adb\",\"type\":\"LinearAxis\"},{\"id\":\"6ac08dcf-7044-4d70-858c-629afaffdca6\",\"type\":\"Grid\"},{\"id\":\"6ca1fed7-fabf-40ad-8fec-f864bf5cef37\",\"type\":\"BoxAnnotation\"},{\"id\":\"9be02303-524a-402a-a219-26c277f0be56\",\"type\":\"GlyphRenderer\"},{\"id\":\"6df07899-68ba-4c7a-b0da-5ebaef0156f8\",\"type\":\"GlyphRenderer\"},{\"id\":\"f631cca8-b9ae-46b8-84dd-b1f1d1f2e7ee\",\"type\":\"GlyphRenderer\"},{\"id\":\"ec6b6220-7073-4435-b4f4-919d6f370983\",\"type\":\"Legend\"}],\"title\":{\"id\":\"23546e8e-67c2-42fc-80ba-e9f34f462e3f\",\"type\":\"Title\"},\"toolbar\":{\"id\":\"b4c9f65d-6cb4-4a4a-ae1b-2d741848272b\",\"type\":\"Toolbar\"},\"toolbar_location\":null,\"x_range\":{\"id\":\"fdc9ec03-9105-41c2-b8dd-830d01fa0879\",\"type\":\"Range1d\"},\"x_scale\":{\"id\":\"5edb78fc-99fd-4e39-86d5-c3cdf68fc124\",\"type\":\"LinearScale\"},\"y_range\":{\"id\":\"8ded5a21-6935-4645-ae1f-3b907cb93576\",\"type\":\"Range1d\"},\"y_scale\":{\"id\":\"0e0c1f32-6dfe-49b5-aa14-1e6a5b0d0fc9\",\"type\":\"LinearScale\"}},\"id\":\"0824ab5b-3a10-428e-804f-cfef174ad8c6\",\"subtype\":\"Figure\",\"type\":\"Plot\"},{\"attributes\":{\"line_color\":\"#4daf4a\",\"line_width\":1.5,\"x\":{\"field\":\"x\"},\"y\":{\"field\":\"y\"}},\"id\":\"4bea8b8b-d26d-4f23-a185-19ec94d6c38b\",\"type\":\"Line\"},{\"attributes\":{\"source\":{\"id\":\"a76ee9d4-454f-4d9b-9aad-10b70b331577\",\"type\":\"ColumnDataSource\"}},\"id\":\"6d773271-cdbf-417e-8206-94a1b465405c\",\"type\":\"CDSView\"},{\"attributes\":{},\"id\":\"c64685c4-a77f-436f-9b55-20cb85068e5d\",\"type\":\"UnionRenderers\"},{\"attributes\":{\"axis_label\":\"pressure [mb]\",\"formatter\":{\"id\":\"f607cf89-208e-4395-a44d-f2c4d7832e93\",\"type\":\"BasicTickFormatter\"},\"plot\":{\"id\":\"0824ab5b-3a10-428e-804f-cfef174ad8c6\",\"subtype\":\"Figure\",\"type\":\"Plot\"},\"ticker\":{\"id\":\"1be9e812-3348-496e-879b-1a15d8674215\",\"type\":\"BasicTicker\"}},\"id\":\"0e6e63f5-af76-414e-a3af-20e7b5411adb\",\"type\":\"LinearAxis\"},{\"attributes\":{},\"id\":\"18036856-bbee-4920-b8f0-33bab5d0538d\",\"type\":\"SaveTool\"},{\"attributes\":{},\"id\":\"823152fb-f065-4cb4-a181-ac19ee5f8b41\",\"type\":\"LogScale\"},{\"attributes\":{\"children\":[{\"id\":\"764bce40-7793-409b-a0fa-4b57bed68110\",\"type\":\"Row\"}]},\"id\":\"259f739f-5f6a-4b66-aeef-2e7bd7748db0\",\"type\":\"Column\"},{\"attributes\":{\"axis_label\":\"cooling rate [K/day]\",\"formatter\":{\"id\":\"dbf9a71b-61c6-4ea2-9631-1a42fe76b7e3\",\"type\":\"BasicTickFormatter\"},\"plot\":{\"id\":\"f9d53f03-f829-41ec-bb50-2782902b876a\",\"subtype\":\"Figure\",\"type\":\"Plot\"},\"ticker\":{\"id\":\"6be7978a-77f7-4824-8d0b-96d32dba2711\",\"type\":\"BasicTicker\"}},\"id\":\"920508a4-8cb5-41a9-a818-fa1a8a4ae23b\",\"type\":\"LinearAxis\"},{\"attributes\":{\"axis_label\":\"cooling rate [K/day]\",\"formatter\":{\"id\":\"b4721b9e-efff-47b8-afa0-cda1c2299af1\",\"type\":\"BasicTickFormatter\"},\"plot\":{\"id\":\"cc034967-7530-4d34-86d8-80875eb59312\",\"subtype\":\"Figure\",\"type\":\"Plot\"},\"ticker\":{\"id\":\"e8d4080d-913a-4aad-81d7-e6ea11632376\",\"type\":\"BasicTicker\"}},\"id\":\"252742cc-c5b7-448a-998b-c1618a41638a\",\"type\":\"LinearAxis\"},{\"attributes\":{},\"id\":\"072d33f8-6b29-4785-9475-0e6f9dead9db\",\"type\":\"PanTool\"},{\"attributes\":{\"overlay\":{\"id\":\"70b3f9a8-37e6-49d5-85e8-ce9b3ffb81e4\",\"type\":\"BoxAnnotation\"}},\"id\":\"828e906a-01d4-402b-8a1a-620136b846f6\",\"type\":\"BoxZoomTool\"},{\"attributes\":{\"plot\":null,\"text\":\"\"},\"id\":\"23546e8e-67c2-42fc-80ba-e9f34f462e3f\",\"type\":\"Title\"},{\"attributes\":{\"plot\":{\"id\":\"f9d53f03-f829-41ec-bb50-2782902b876a\",\"subtype\":\"Figure\",\"type\":\"Plot\"},\"ticker\":{\"id\":\"6be7978a-77f7-4824-8d0b-96d32dba2711\",\"type\":\"BasicTicker\"}},\"id\":\"ad79e286-c624-4be3-b80b-62cfa170fab5\",\"type\":\"Grid\"},{\"attributes\":{\"dimension\":1,\"plot\":{\"id\":\"f9d53f03-f829-41ec-bb50-2782902b876a\",\"subtype\":\"Figure\",\"type\":\"Plot\"},\"ticker\":{\"id\":\"e19f8032-1687-4890-b9fa-7dbe601280c4\",\"type\":\"LogTicker\"}},\"id\":\"bb970ac4-fcff-48d7-acef-6737552f7e1b\",\"type\":\"Grid\"},{\"attributes\":{},\"id\":\"1be9e812-3348-496e-879b-1a15d8674215\",\"type\":\"BasicTicker\"},{\"attributes\":{},\"id\":\"5b93ff54-3275-4831-a5b5-0d4ba6a3ea86\",\"type\":\"PanTool\"},{\"attributes\":{\"label\":{\"value\":\"CLIRAD (single-run) - CRD\"},\"renderers\":[{\"id\":\"62020d93-8c57-4790-a98e-2469bc08f867\",\"type\":\"GlyphRenderer\"},{\"id\":\"46b67130-c33c-4c5e-9e23-407a52b01e82\",\"type\":\"GlyphRenderer\"}]},\"id\":\"6da12466-3505-4f15-a41b-586214525f09\",\"type\":\"LegendItem\"},{\"attributes\":{\"children\":[{\"id\":\"0824ab5b-3a10-428e-804f-cfef174ad8c6\",\"subtype\":\"Figure\",\"type\":\"Plot\"},{\"id\":\"f9d53f03-f829-41ec-bb50-2782902b876a\",\"subtype\":\"Figure\",\"type\":\"Plot\"},{\"id\":\"cc034967-7530-4d34-86d8-80875eb59312\",\"subtype\":\"Figure\",\"type\":\"Plot\"}]},\"id\":\"764bce40-7793-409b-a0fa-4b57bed68110\",\"type\":\"Row\"},{\"attributes\":{\"bottom_units\":\"screen\",\"fill_alpha\":{\"value\":0.5},\"fill_color\":{\"value\":\"lightgrey\"},\"left_units\":\"screen\",\"level\":\"overlay\",\"line_alpha\":{\"value\":1.0},\"line_color\":{\"value\":\"black\"},\"line_dash\":[4,4],\"line_width\":{\"value\":2},\"plot\":null,\"render_mode\":\"css\",\"right_units\":\"screen\",\"top_units\":\"screen\"},\"id\":\"70b3f9a8-37e6-49d5-85e8-ce9b3ffb81e4\",\"type\":\"BoxAnnotation\"},{\"attributes\":{\"callback\":null,\"data\":{\"x\":{\"__ndarray__\":\"VjSCTD3eQ8DYWVgkJvYYwNpTWsXppAPAux1BJrce8j9BmAL18psLQH1GoHIb2g9AHlshkC7LBkDP9/wwVTrrPyu2iXaXmu2/L3WfIbFl+r+VBk0Gcxv0v8J+sAdRy9S/UH1/Rkeq4D8IzsLpVObuP4jqcTibAe0/eTvd8oYO2T+OQTCLDt7Qv/dSfhtoXuW/V0+3xBhy5b94Z7G7lXzav/6pSlfL38G/zBgKKJYesj/I1tW4gTDBP4Gg9xnb/bm/6OHFBmFwzb/Jlv56HxKhv/EZB1BwXNE/tDFGwmnx0T+dgz8RYjK8P0oF0SHPn6A/1zw/k0lFxD8Gy+tFFBfNP2i9183Z08A/N3gKDez1dr+ErhDxWg1oP7z6DbGqTLM/FGuCmYk5qD8ZDNtblLmYvzx7mOPoprO/Rm2hQwsHtr9zgNat/qeyv3TBkyPWuay/lNouayB+pb/vTOCOl1uavx4jDSfir5C/H1Be0ivxhb9YuwufkpI/v2KxTpOelHS/zMZedMBUm7+XBGrFTJ+qv1BpC30ogKq/qPfp7IHAor8ApUU9lFmjv/JYEpkYzKq/kHn7d8SRqr/cmaU2k1ylvxjD/zelpZ+/nlGD3JJLmL/E21bacaGTv/6RwjCw64m/2h/zxmcAhL/NgBME6nGBv9orU+u8T4S/oIG6YxpWhr8lZK/mZTWEv+Zn75KUCXq/gNkHHrReOb9kVHMMU5p/P9Y9Y3OW2Is/nkfL3Nfckj+u+BL/t1+WP0aldYMAE5g/U2koibtulz9Klct3jleXPw5pTN3dV5Y/\",\"dtype\":\"float64\",\"shape\":[75]},\"y\":{\"__ndarray__\":\"GhExyth1ND/Sv8nbtpRIP2vylNV0PVE/aTum7souWD/At0SJ8fVgPw3Iuahxymc/MSNhhJWvcD/bTfBN02d3P2zb5nxnaoA/CD5h5MAGhz8NmeH1TyaQP+zrCsc9p5Y/LbKd76fGnz/bLW5ISEmmPww9YvTcQq8/JV2OstnstT8Er5Y7M8G+P0c+r3jqkcU/5h99k6ZBzj88bCIzFzjVP4enV8oyxN0//yH99nXg5D8qOpLLf0jtP5kqGJXUifQ/c9cS8kHP/D+/DpwzojQEQIEmwoanVwxA4lgXt9HgE0BSSZ2AJuIbQAMJih9jjiNA5q4l5INuK0AwTKYKRj0zQNv5fmq8/DpAaCJseHrtQkB/+zpwzoxKQM3MzMzMeFJAZmZmZmZqWEAAAAAAAFxeQM3MzMzMJmJAmpmZmZkfZUBmZmZmZhhoQDMzMzMzEWtAAAAAAAAKbkBmZmZmZoFwQM3MzMzM/XFAMzMzMzN6c0CamZmZmfZ0QAAAAAAAc3ZAZmZmZmbvd0DNzMzMzGt5QDMzMzMz6HpAmpmZmZlkfEAAAAAAAOF9QGZmZmZmXX9AZmZmZuZsgECamZmZGSuBQM3MzMxM6YFAAAAAAICngkAzMzMzs2WDQGZmZmbmI4RAmpmZmRnihEDNzMzMTKCFQAAAAACAXoZAMzMzM7Mch0BmZmZm5tqHQJqZmZkZmYhAzczMzExXiUAAAAAAgBWKQDMzMzOz04pAZmZmZuaRi0CamZmZGVCMQM3MzMxMDo1AAAAAAIDMjUAzMzMzs4qOQGZmZmbmSI9A\",\"dtype\":\"float64\",\"shape\":[75]}},\"selected\":{\"id\":\"06169d0a-bd36-4729-adde-4424b7f85673\",\"type\":\"Selection\"},\"selection_policy\":{\"id\":\"9290e603-39ed-4434-a2d1-ba25991aad18\",\"type\":\"UnionRenderers\"}},\"id\":\"341be940-6b6e-4e3d-8625-0d7156c146cc\",\"type\":\"ColumnDataSource\"},{\"attributes\":{\"overlay\":{\"id\":\"6ca1fed7-fabf-40ad-8fec-f864bf5cef37\",\"type\":\"BoxAnnotation\"}},\"id\":\"5239c445-470c-4632-9f30-8fae9a5bb0c4\",\"type\":\"BoxZoomTool\"},{\"attributes\":{},\"id\":\"b54ed983-ff0d-4fe8-9cfa-a465ba340207\",\"type\":\"HelpTool\"},{\"attributes\":{\"active_drag\":\"auto\",\"active_inspect\":\"auto\",\"active_scroll\":\"auto\",\"active_tap\":\"auto\",\"tools\":[{\"id\":\"072d33f8-6b29-4785-9475-0e6f9dead9db\",\"type\":\"PanTool\"},{\"id\":\"7fc6385d-4d4f-42bc-b614-b9af7d0af028\",\"type\":\"WheelZoomTool\"},{\"id\":\"828e906a-01d4-402b-8a1a-620136b846f6\",\"type\":\"BoxZoomTool\"},{\"id\":\"13f2a991-f562-407f-ba1a-10b1051e3853\",\"type\":\"SaveTool\"},{\"id\":\"5a2253f2-98c5-447c-a927-ea5ea163d2b5\",\"type\":\"ResetTool\"},{\"id\":\"a8cf59bb-8288-41ca-93f8-3de2a683be6d\",\"type\":\"HelpTool\"}]},\"id\":\"007479ac-ed0b-4b36-b7da-a2695f3b5e16\",\"type\":\"Toolbar\"},{\"attributes\":{},\"id\":\"5a2253f2-98c5-447c-a927-ea5ea163d2b5\",\"type\":\"ResetTool\"},{\"attributes\":{},\"id\":\"fa6839e7-989c-4737-9df6-00b46bc24ce2\",\"type\":\"ResetTool\"},{\"attributes\":{\"bottom_units\":\"screen\",\"fill_alpha\":{\"value\":0.5},\"fill_color\":{\"value\":\"lightgrey\"},\"left_units\":\"screen\",\"level\":\"overlay\",\"line_alpha\":{\"value\":1.0},\"line_color\":{\"value\":\"black\"},\"line_dash\":[4,4],\"line_width\":{\"value\":2},\"plot\":null,\"render_mode\":\"css\",\"right_units\":\"screen\",\"top_units\":\"screen\"},\"id\":\"6ca1fed7-fabf-40ad-8fec-f864bf5cef37\",\"type\":\"BoxAnnotation\"},{\"attributes\":{\"line_alpha\":0.1,\"line_color\":\"#1f77b4\",\"line_width\":1.5,\"x\":{\"field\":\"x\"},\"y\":{\"field\":\"y\"}},\"id\":\"aad64cfb-0da9-4e53-92d3-3b8ff6839e7c\",\"type\":\"Line\"},{\"attributes\":{\"num_minor_ticks\":10},\"id\":\"e19f8032-1687-4890-b9fa-7dbe601280c4\",\"type\":\"LogTicker\"},{\"attributes\":{},\"id\":\"13f2a991-f562-407f-ba1a-10b1051e3853\",\"type\":\"SaveTool\"},{\"attributes\":{\"data_source\":{\"id\":\"a76ee9d4-454f-4d9b-9aad-10b70b331577\",\"type\":\"ColumnDataSource\"},\"glyph\":{\"id\":\"4bea8b8b-d26d-4f23-a185-19ec94d6c38b\",\"type\":\"Line\"},\"hover_glyph\":null,\"muted_glyph\":null,\"nonselection_glyph\":{\"id\":\"aad64cfb-0da9-4e53-92d3-3b8ff6839e7c\",\"type\":\"Line\"},\"selection_glyph\":null,\"view\":{\"id\":\"6d773271-cdbf-417e-8206-94a1b465405c\",\"type\":\"CDSView\"}},\"id\":\"f631cca8-b9ae-46b8-84dd-b1f1d1f2e7ee\",\"type\":\"GlyphRenderer\"},{\"attributes\":{\"line_alpha\":0.6,\"line_color\":\"#377eb8\",\"line_dash\":[6],\"line_width\":5,\"x\":{\"field\":\"x\"},\"y\":{\"field\":\"y\"}},\"id\":\"d39ac286-28db-4329-8a53-f40ba9c0e8f8\",\"type\":\"Line\"},{\"attributes\":{\"label\":{\"value\":\"CLIRAD (single-run)\"},\"renderers\":[{\"id\":\"9be02303-524a-402a-a219-26c277f0be56\",\"type\":\"GlyphRenderer\"}]},\"id\":\"e4381c16-f82e-4702-ba9b-636b450ef185\",\"type\":\"LegendItem\"},{\"attributes\":{\"bottom_units\":\"screen\",\"fill_alpha\":{\"value\":0.5},\"fill_color\":{\"value\":\"lightgrey\"},\"left_units\":\"screen\",\"level\":\"overlay\",\"line_alpha\":{\"value\":1.0},\"line_color\":{\"value\":\"black\"},\"line_dash\":[4,4],\"line_width\":{\"value\":2},\"plot\":null,\"render_mode\":\"css\",\"right_units\":\"screen\",\"top_units\":\"screen\"},\"id\":\"cd7c9417-f992-4fac-9fa3-ef3f41373839\",\"type\":\"BoxAnnotation\"},{\"attributes\":{},\"id\":\"5323238e-5a61-4226-bc71-b58c0b698ed6\",\"type\":\"Selection\"},{\"attributes\":{},\"id\":\"45b98172-ec64-43be-859c-35315e869934\",\"type\":\"PanTool\"},{\"attributes\":{\"items\":[{\"id\":\"7f526295-7249-4955-9b1f-b4fcc4c8f44b\",\"type\":\"LegendItem\"},{\"id\":\"9c306be6-a2c9-4810-bc05-deb20fb34aea\",\"type\":\"LegendItem\"}],\"label_text_font_size\":{\"value\":\"8pt\"},\"location\":\"top_center\",\"orientation\":\"horizontal\",\"plot\":{\"id\":\"f9d53f03-f829-41ec-bb50-2782902b876a\",\"subtype\":\"Figure\",\"type\":\"Plot\"}},\"id\":\"c689b461-84a5-4697-985a-93bf91638bc0\",\"type\":\"Legend\"},{\"attributes\":{\"callback\":null,\"data\":{\"x\":{\"__ndarray__\":\"TBmAl62VQEDPEKM2KI48QD1glXb6Wj5AL87F+0D1PkDLKAwUPwc+QCB7W7v8iTtAtMs0uUzZN0BWY+NX4NEzQGtNrhl/gDBA2D3w2wNCLUBhMc20LFEsQMSh3yrZ2SxAddHY/lW3LUCQJQyh8TwtQDsZ7GODoSpAi6Dn/2tIJ0DnDLMq6HUkQIhNfOlE0SJADOiE4G6jIkCA/E90r7ojQD4p//OgKSZA0QfX6dGqJUCyytltEichQGghgfXIYRlAYiDp91xnE0B2wNHWtrQPQJ4m9qB2vgpAeJDQ8VfQBUDZ0VLI7iYCQFfZT3TydP8/LweR0IUK/T/QULeHxNj4P2vv6z6eL/Q/zgHEDC0f8T/QFWBxKcbuP44Jru1pXOw/gHqFfZV+5z+OfasQZCrhP6t1AyXK0t0/lna9be4v3T/c2Wqej6reP35gz5e/Ud4/nMqPj0zn3D8LaSXAL2PaPwxLIAIe8tI/ycIIktEE0T/QBmDBekPcP1FO88ASwOM/Iq2sIt+z6z9G6FH1eCvyPxuVEdtBb/U/iGRHMeCT9z8UPT1a/HH4P34cIRzqbvg/BVL+/E89+D8UZw90MO/3Pxe6cKnMffc/gpFKgkbl9j+HrQkEYjP2P3zN2LsygPU/XbOBIde49D8Mb12IkenzP3WIqqFOEvM/areay8ZI8j+L6oiWEKHxPzKOAUHPLvE/uT5D5rAN8T9sYOhno1DxP+7HZ16AqPE/jCnpRRNe8T/L5uQkGIfvP9VKN758h+o/8f1zKreS5T9uCZ6e1UPhP0M/OoB87NY/\",\"dtype\":\"float64\",\"shape\":[75]},\"y\":{\"__ndarray__\":\"GhExyth1ND/Sv8nbtpRIP2vylNV0PVE/aTum7souWD/At0SJ8fVgPw3Iuahxymc/MSNhhJWvcD/bTfBN02d3P2zb5nxnaoA/CD5h5MAGhz8NmeH1TyaQP+zrCsc9p5Y/LbKd76fGnz/bLW5ISEmmPww9YvTcQq8/JV2OstnstT8Er5Y7M8G+P0c+r3jqkcU/5h99k6ZBzj88bCIzFzjVP4enV8oyxN0//yH99nXg5D8qOpLLf0jtP5kqGJXUifQ/c9cS8kHP/D+/DpwzojQEQIEmwoanVwxA4lgXt9HgE0BSSZ2AJuIbQAMJih9jjiNA5q4l5INuK0AwTKYKRj0zQNv5fmq8/DpAaCJseHrtQkB/+zpwzoxKQM3MzMzMeFJAZmZmZmZqWEAAAAAAAFxeQM3MzMzMJmJAmpmZmZkfZUBmZmZmZhhoQDMzMzMzEWtAAAAAAAAKbkBmZmZmZoFwQM3MzMzM/XFAMzMzMzN6c0CamZmZmfZ0QAAAAAAAc3ZAZmZmZmbvd0DNzMzMzGt5QDMzMzMz6HpAmpmZmZlkfEAAAAAAAOF9QGZmZmZmXX9AZmZmZuZsgECamZmZGSuBQM3MzMxM6YFAAAAAAICngkAzMzMzs2WDQGZmZmbmI4RAmpmZmRnihEDNzMzMTKCFQAAAAACAXoZAMzMzM7Mch0BmZmZm5tqHQJqZmZkZmYhAzczMzExXiUAAAAAAgBWKQDMzMzOz04pAZmZmZuaRi0CamZmZGVCMQM3MzMxMDo1AAAAAAIDMjUAzMzMzs4qOQGZmZmbmSI9A\",\"dtype\":\"float64\",\"shape\":[75]}},\"selected\":{\"id\":\"da5127d0-9d84-45a6-a75d-e037411f0b2d\",\"type\":\"Selection\"},\"selection_policy\":{\"id\":\"4aec72a6-94e4-4e12-82f4-37e46066923a\",\"type\":\"UnionRenderers\"}},\"id\":\"bcf27c33-c422-43f6-86e7-f072edff66bd\",\"type\":\"ColumnDataSource\"},{\"attributes\":{\"label\":{\"value\":\"CRD\"},\"renderers\":[{\"id\":\"6df07899-68ba-4c7a-b0da-5ebaef0156f8\",\"type\":\"GlyphRenderer\"},{\"id\":\"f631cca8-b9ae-46b8-84dd-b1f1d1f2e7ee\",\"type\":\"GlyphRenderer\"}]},\"id\":\"055014ca-e43f-413c-96be-8724d5ddb9e9\",\"type\":\"LegendItem\"},{\"attributes\":{\"line_alpha\":0.1,\"line_color\":\"#1f77b4\",\"line_width\":1.5,\"x\":{\"field\":\"x\"},\"y\":{\"field\":\"y\"}},\"id\":\"3d7a99c2-89fb-4e2a-a2e5-b60b4d6a93fa\",\"type\":\"Line\"},{\"attributes\":{\"data_source\":{\"id\":\"143a7cc3-100e-496f-860d-2691f4aa2ae5\",\"type\":\"ColumnDataSource\"},\"glyph\":{\"id\":\"c5f219bd-5b45-4056-a9cf-b94dcfbb36d6\",\"type\":\"Line\"},\"hover_glyph\":null,\"muted_glyph\":null,\"nonselection_glyph\":{\"id\":\"3d7a99c2-89fb-4e2a-a2e5-b60b4d6a93fa\",\"type\":\"Line\"},\"selection_glyph\":null,\"view\":{\"id\":\"ad9eb3aa-ebb6-4da2-90bc-a05194739ad8\",\"type\":\"CDSView\"}},\"id\":\"46b67130-c33c-4c5e-9e23-407a52b01e82\",\"type\":\"GlyphRenderer\"},{\"attributes\":{\"plot\":{\"id\":\"0824ab5b-3a10-428e-804f-cfef174ad8c6\",\"subtype\":\"Figure\",\"type\":\"Plot\"},\"ticker\":{\"id\":\"66c02850-f7fb-4dd2-8a19-8622e61a0843\",\"type\":\"BasicTicker\"}},\"id\":\"f471b70b-08dd-4b6d-937d-17e9a55dbd00\",\"type\":\"Grid\"},{\"attributes\":{\"source\":{\"id\":\"c1ab4271-8352-4af1-b2f7-5463bf27c05a\",\"type\":\"ColumnDataSource\"}},\"id\":\"f893e86e-1685-4d64-9f7c-bd05e938bcf3\",\"type\":\"CDSView\"},{\"attributes\":{\"axis_label\":\"pressure [mb]\",\"formatter\":{\"id\":\"1a0840cc-1286-4e67-8e1b-aaf3debdbc9d\",\"type\":\"LogTickFormatter\"},\"plot\":{\"id\":\"f9d53f03-f829-41ec-bb50-2782902b876a\",\"subtype\":\"Figure\",\"type\":\"Plot\"},\"ticker\":{\"id\":\"e19f8032-1687-4890-b9fa-7dbe601280c4\",\"type\":\"LogTicker\"}},\"id\":\"86c541d2-28b8-4a53-b893-743f903a363a\",\"type\":\"LogAxis\"},{\"attributes\":{\"dimension\":1,\"plot\":{\"id\":\"cc034967-7530-4d34-86d8-80875eb59312\",\"subtype\":\"Figure\",\"type\":\"Plot\"},\"ticker\":{\"id\":\"01e0f3da-1405-45b8-ad19-5f356d0d1c27\",\"type\":\"LogTicker\"}},\"id\":\"4737d186-713c-4ff7-ac99-ba31f372e340\",\"type\":\"Grid\"},{\"attributes\":{},\"id\":\"0e0c1f32-6dfe-49b5-aa14-1e6a5b0d0fc9\",\"type\":\"LinearScale\"},{\"attributes\":{\"items\":[{\"id\":\"e4381c16-f82e-4702-ba9b-636b450ef185\",\"type\":\"LegendItem\"},{\"id\":\"055014ca-e43f-413c-96be-8724d5ddb9e9\",\"type\":\"LegendItem\"}],\"label_text_font_size\":{\"value\":\"8pt\"},\"location\":\"top_center\",\"orientation\":\"horizontal\",\"plot\":{\"id\":\"0824ab5b-3a10-428e-804f-cfef174ad8c6\",\"subtype\":\"Figure\",\"type\":\"Plot\"}},\"id\":\"ec6b6220-7073-4435-b4f4-919d6f370983\",\"type\":\"Legend\"},{\"attributes\":{},\"id\":\"7fc6385d-4d4f-42bc-b614-b9af7d0af028\",\"type\":\"WheelZoomTool\"},{\"attributes\":{\"callback\":null,\"end\":1.5925520929577701,\"start\":0.25278412604523004},\"id\":\"fdc9ec03-9105-41c2-b8dd-830d01fa0879\",\"type\":\"Range1d\"},{\"attributes\":{\"source\":{\"id\":\"bcf27c33-c422-43f6-86e7-f072edff66bd\",\"type\":\"ColumnDataSource\"}},\"id\":\"35783561-ee68-4597-84cb-ba02ae94bc4b\",\"type\":\"CDSView\"},{\"attributes\":{},\"id\":\"6be7978a-77f7-4824-8d0b-96d32dba2711\",\"type\":\"BasicTicker\"},{\"attributes\":{},\"id\":\"a8cf59bb-8288-41ca-93f8-3de2a683be6d\",\"type\":\"HelpTool\"},{\"attributes\":{},\"id\":\"af3ec49c-ffd4-4a3d-b2d4-924f4dae3be5\",\"type\":\"LinearScale\"},{\"attributes\":{},\"id\":\"83745c43-e80b-4524-a760-1fc7d23d4b69\",\"type\":\"ResetTool\"},{\"attributes\":{},\"id\":\"a42c930b-049d-480e-a426-0674fdf5946e\",\"type\":\"SaveTool\"},{\"attributes\":{\"dimension\":1,\"plot\":{\"id\":\"0824ab5b-3a10-428e-804f-cfef174ad8c6\",\"subtype\":\"Figure\",\"type\":\"Plot\"},\"ticker\":{\"id\":\"1be9e812-3348-496e-879b-1a15d8674215\",\"type\":\"BasicTicker\"}},\"id\":\"6ac08dcf-7044-4d70-858c-629afaffdca6\",\"type\":\"Grid\"},{\"attributes\":{\"callback\":null,\"end\":16.436989944828248,\"start\":0.29782337493475003},\"id\":\"a5749c33-f87c-427f-bb27-287fcc9ce020\",\"type\":\"Range1d\"},{\"attributes\":{},\"id\":\"985fd136-9c7c-4621-80fb-e1cd7a206301\",\"type\":\"HelpTool\"},{\"attributes\":{},\"id\":\"c48cf1f7-a97b-49cd-8421-a1f42f971805\",\"type\":\"LinearScale\"},{\"attributes\":{\"line_alpha\":0.6,\"line_color\":\"#377eb8\",\"line_dash\":[6],\"line_width\":5,\"x\":{\"field\":\"x\"},\"y\":{\"field\":\"y\"}},\"id\":\"b5554faf-e17a-4d1c-882b-bfe644a0e26f\",\"type\":\"Line\"},{\"attributes\":{},\"id\":\"13d7bc58-8e0a-434c-91fd-dcc72d206aeb\",\"type\":\"WheelZoomTool\"},{\"attributes\":{},\"id\":\"66c02850-f7fb-4dd2-8a19-8622e61a0843\",\"type\":\"BasicTicker\"},{\"attributes\":{\"overlay\":{\"id\":\"cd7c9417-f992-4fac-9fa3-ef3f41373839\",\"type\":\"BoxAnnotation\"}},\"id\":\"45300156-8bab-4d66-9c33-03ce165fdfe7\",\"type\":\"BoxZoomTool\"},{\"attributes\":{},\"id\":\"535e19a1-e17f-4b4b-bf14-09afc52a6e69\",\"type\":\"WheelZoomTool\"},{\"attributes\":{\"fill_alpha\":{\"value\":0.1},\"fill_color\":{\"value\":\"#1f77b4\"},\"line_alpha\":{\"value\":0.1},\"line_color\":{\"value\":\"#1f77b4\"},\"x\":{\"field\":\"x\"},\"y\":{\"field\":\"y\"}},\"id\":\"fd8ba144-29b8-4af7-bcc2-e28632f0c6e8\",\"type\":\"Circle\"}],\"root_ids\":[\"c13232a0-9e11-48ff-8f24-b658d759c2c9\"]},\"title\":\"Bokeh Application\",\"version\":\"0.12.16\"}};\n",
       "  var render_items = [{\"docid\":\"08246828-73dc-4121-8bac-bd246c1003d2\",\"elementid\":\"46545f02-3229-4ab1-b1a9-4e571879a8d3\",\"modelid\":\"c13232a0-9e11-48ff-8f24-b658d759c2c9\"}];\n",
       "  root.Bokeh.embed.embed_items_notebook(docs_json, render_items);\n",
       "\n",
       "  }\n",
       "  if (root.Bokeh !== undefined) {\n",
       "    embed_document(root);\n",
       "  } else {\n",
       "    var attempts = 0;\n",
       "    var timer = setInterval(function(root) {\n",
       "      if (root.Bokeh !== undefined) {\n",
       "        embed_document(root);\n",
       "        clearInterval(timer);\n",
       "      }\n",
       "      attempts++;\n",
       "      if (attempts > 100) {\n",
       "        console.log(\"Bokeh: ERROR: Unable to run BokehJS code because BokehJS library is missing\")\n",
       "        clearInterval(timer);\n",
       "      }\n",
       "    }, 10, root)\n",
       "  }\n",
       "})(window);"
      ],
      "application/vnd.bokehjs_exec.v0+json": ""
     },
     "metadata": {
      "application/vnd.bokehjs_exec.v0+json": {
       "id": "c13232a0-9e11-48ff-8f24-b658d759c2c9"
      }
     },
     "output_type": "display_data"
    },
    {
     "data": {
      "text/markdown": [
       "*FIGURE.* Cooling rates & difference."
      ],
      "text/plain": [
       "<IPython.core.display.Markdown object>"
      ]
     },
     "metadata": {},
     "output_type": "display_data"
    },
    {
     "data": {
      "text/html": [
       "<a id=\"Fluxes._saw.\"></a>"
      ],
      "text/plain": [
       "<IPython.core.display.HTML object>"
      ]
     },
     "metadata": {},
     "output_type": "display_data"
    },
    {
     "data": {
      "text/markdown": [
       "# Fluxes. saw."
      ],
      "text/plain": [
       "<IPython.core.display.Markdown object>"
      ]
     },
     "metadata": {},
     "output_type": "display_data"
    },
    {
     "data": {
      "text/html": [
       "\n",
       "<div class=\"bk-root\">\n",
       "    <div class=\"bk-plotdiv\" id=\"3e42e65d-2c62-4a15-94fa-751950398ea1\"></div>\n",
       "</div>"
      ]
     },
     "metadata": {},
     "output_type": "display_data"
    },
    {
     "data": {
      "application/javascript": [
       "(function(root) {\n",
       "  function embed_document(root) {\n",
       "    \n",
       "  var docs_json = {\"d9418c61-2218-462d-bddb-333cae9085fd\":{\"roots\":{\"references\":[{\"attributes\":{\"axis_label\":\"flux (W m-2)\",\"formatter\":{\"id\":\"5cef8f1f-7d7b-4622-840e-d2da722434ae\",\"type\":\"BasicTickFormatter\"},\"plot\":{\"id\":\"5ab1af02-a94a-4c54-81b2-8d36a04fbd85\",\"subtype\":\"Figure\",\"type\":\"Plot\"},\"ticker\":{\"id\":\"4f65cfd0-5a13-4888-85cc-d1b0fd76f59a\",\"type\":\"BasicTicker\"}},\"id\":\"3d3a40f5-a187-4cb8-94ac-6e36373be7e0\",\"type\":\"LinearAxis\"},{\"attributes\":{\"data_source\":{\"id\":\"ed85ccaa-5310-43cf-9fab-8e1db2cda035\",\"type\":\"ColumnDataSource\"},\"glyph\":{\"id\":\"c2fcc454-1ccf-470c-b900-591b1839fc5d\",\"type\":\"VBar\"},\"hover_glyph\":null,\"muted_glyph\":null,\"nonselection_glyph\":{\"id\":\"cc6940fd-71c2-4d5c-ae42-f19193d0996b\",\"type\":\"VBar\"},\"selection_glyph\":null,\"view\":{\"id\":\"b8c0bfcf-870e-4fbb-8e92-3bb8688e3bea\",\"type\":\"CDSView\"}},\"id\":\"336e994e-65b9-4532-8c6c-7bf8a838db26\",\"type\":\"GlyphRenderer\"},{\"attributes\":{\"source\":{\"id\":\"733b9eb0-a7ea-4bfa-b220-be191f774da1\",\"type\":\"ColumnDataSource\"}},\"id\":\"f807c611-cefa-4c6f-b398-f4fcc6eb157e\",\"type\":\"CDSView\"},{\"attributes\":{},\"id\":\"c153f191-cbba-4d6d-9a66-4ab9ebf52b23\",\"type\":\"PanTool\"},{\"attributes\":{\"fill_color\":{\"value\":\"#1f77b4\"},\"line_color\":{\"value\":\"#1f77b4\"},\"top\":{\"field\":\"flux\"},\"width\":{\"value\":0.9},\"x\":{\"field\":\"band\"}},\"id\":\"c2fcc454-1ccf-470c-b900-591b1839fc5d\",\"type\":\"VBar\"},{\"attributes\":{},\"id\":\"a9edeb36-e2fe-49bb-82c2-8bbe03bb009a\",\"type\":\"CategoricalTickFormatter\"},{\"attributes\":{\"axis_label\":\"spectral band\",\"formatter\":{\"id\":\"94740da4-6663-4632-b797-a1344fabecc2\",\"type\":\"CategoricalTickFormatter\"},\"plot\":{\"id\":\"66784824-d72b-4de2-bc92-075829dd0112\",\"subtype\":\"Figure\",\"type\":\"Plot\"},\"ticker\":{\"id\":\"21d0018f-a4d5-4ea9-96e0-f95eac494d47\",\"type\":\"CategoricalTicker\"}},\"id\":\"923c0648-1201-4929-94bd-48147df854df\",\"type\":\"CategoricalAxis\"},{\"attributes\":{},\"id\":\"8c98bc66-bf60-4235-90c9-42f5fa02743e\",\"type\":\"PanTool\"},{\"attributes\":{\"source\":{\"id\":\"ed85ccaa-5310-43cf-9fab-8e1db2cda035\",\"type\":\"ColumnDataSource\"}},\"id\":\"b8c0bfcf-870e-4fbb-8e92-3bb8688e3bea\",\"type\":\"CDSView\"},{\"attributes\":{\"fill_color\":{\"value\":\"#1f77b4\"},\"line_color\":{\"value\":\"#1f77b4\"},\"top\":{\"field\":\"flux\"},\"width\":{\"value\":0.9},\"x\":{\"field\":\"band\"}},\"id\":\"fd2ea28b-0249-4d5c-a761-7f6b159034a5\",\"type\":\"VBar\"},{\"attributes\":{\"overlay\":{\"id\":\"dc7e0aaf-5ab2-4ad0-bb6b-e5f49320a665\",\"type\":\"BoxAnnotation\"}},\"id\":\"0052ce25-bc9c-4be4-b5d4-fb27e9186764\",\"type\":\"BoxZoomTool\"},{\"attributes\":{\"callback\":null,\"factors\":[\"1\",\"2\",\"3\",\"4\",\"5\",\"6\",\"7\",\"8\",\"9\",\"10\",\"11\"]},\"id\":\"9f318fd2-1d75-4963-9b8e-08bb8d0f1b5e\",\"type\":\"FactorRange\"},{\"attributes\":{\"callback\":null,\"factors\":[\"1\",\"2\",\"3\",\"4\",\"5\",\"6\",\"7\",\"8\",\"9\",\"10\",\"11\"]},\"id\":\"82a192af-01df-422c-b064-70a50de08b41\",\"type\":\"FactorRange\"},{\"attributes\":{},\"id\":\"cedbaac1-11dd-4411-bebc-d18565e01516\",\"type\":\"LinearScale\"},{\"attributes\":{},\"id\":\"c823f69b-4699-4a72-b4a8-242f874a770e\",\"type\":\"BasicTicker\"},{\"attributes\":{\"fill_alpha\":{\"value\":0.1},\"fill_color\":{\"value\":\"#1f77b4\"},\"line_alpha\":{\"value\":0.1},\"line_color\":{\"value\":\"#1f77b4\"},\"top\":{\"field\":\"flux\"},\"width\":{\"value\":0.9},\"x\":{\"field\":\"band\"}},\"id\":\"cc6940fd-71c2-4d5c-ae42-f19193d0996b\",\"type\":\"VBar\"},{\"attributes\":{},\"id\":\"a312bdab-1036-4c1a-b290-31e437d20fee\",\"type\":\"SaveTool\"},{\"attributes\":{},\"id\":\"215f28ad-753d-4d97-92b6-cb0ffd35da4c\",\"type\":\"CategoricalScale\"},{\"attributes\":{},\"id\":\"fee4995d-7aab-4bb7-829d-d91bfefe8e4a\",\"type\":\"WheelZoomTool\"},{\"attributes\":{\"children\":[{\"id\":\"b6d1c40e-94ae-4a19-9468-582bd8a7576d\",\"type\":\"Row\"}]},\"id\":\"2ec2439e-8568-4f14-80d5-73dba211a5d0\",\"type\":\"Column\"},{\"attributes\":{\"axis_label\":\"flux (W m-2)\",\"formatter\":{\"id\":\"db2e65fa-3093-4782-80d7-94940e2997ac\",\"type\":\"BasicTickFormatter\"},\"plot\":{\"id\":\"66784824-d72b-4de2-bc92-075829dd0112\",\"subtype\":\"Figure\",\"type\":\"Plot\"},\"ticker\":{\"id\":\"c823f69b-4699-4a72-b4a8-242f874a770e\",\"type\":\"BasicTicker\"}},\"id\":\"3c0cad0c-2f06-4158-bf26-f4f42a3c4f39\",\"type\":\"LinearAxis\"},{\"attributes\":{\"dimension\":1,\"plot\":{\"id\":\"66784824-d72b-4de2-bc92-075829dd0112\",\"subtype\":\"Figure\",\"type\":\"Plot\"},\"ticker\":{\"id\":\"c823f69b-4699-4a72-b4a8-242f874a770e\",\"type\":\"BasicTicker\"}},\"id\":\"117b777f-a76b-438b-924e-e4894337fc40\",\"type\":\"Grid\"},{\"attributes\":{\"plot\":{\"id\":\"5ab1af02-a94a-4c54-81b2-8d36a04fbd85\",\"subtype\":\"Figure\",\"type\":\"Plot\"},\"ticker\":{\"id\":\"ce421b61-4b1d-4be9-9bc6-2f4bfd418eb0\",\"type\":\"CategoricalTicker\"}},\"id\":\"8c368cf9-7ae1-43c7-a9e5-021574ebd0af\",\"type\":\"Grid\"},{\"attributes\":{\"active_drag\":\"auto\",\"active_inspect\":\"auto\",\"active_scroll\":\"auto\",\"active_tap\":\"auto\",\"tools\":[{\"id\":\"8c98bc66-bf60-4235-90c9-42f5fa02743e\",\"type\":\"PanTool\"},{\"id\":\"dcda5f61-3e9e-474b-b2fa-27fa403a910e\",\"type\":\"WheelZoomTool\"},{\"id\":\"71655090-a893-4645-ae47-aca9d7baac84\",\"type\":\"BoxZoomTool\"},{\"id\":\"a0f64470-1d8f-47cc-b098-d7afbb9c2308\",\"type\":\"SaveTool\"},{\"id\":\"6082de09-14d3-4cf0-9c6f-e62b352f1056\",\"type\":\"ResetTool\"},{\"id\":\"33c1eeee-ea17-41a1-9119-07c12c593c21\",\"type\":\"HelpTool\"}]},\"id\":\"3b4a41d3-d844-4d62-a4af-502f9c741ad6\",\"type\":\"Toolbar\"},{\"attributes\":{},\"id\":\"56e538c5-3110-433b-9f82-86de98b18142\",\"type\":\"HelpTool\"},{\"attributes\":{\"dimension\":1,\"plot\":{\"id\":\"5ab1af02-a94a-4c54-81b2-8d36a04fbd85\",\"subtype\":\"Figure\",\"type\":\"Plot\"},\"ticker\":{\"id\":\"4f65cfd0-5a13-4888-85cc-d1b0fd76f59a\",\"type\":\"BasicTicker\"}},\"id\":\"76d0d60c-11f1-4e2d-8daf-3ceed763b650\",\"type\":\"Grid\"},{\"attributes\":{},\"id\":\"21d0018f-a4d5-4ea9-96e0-f95eac494d47\",\"type\":\"CategoricalTicker\"},{\"attributes\":{},\"id\":\"6082de09-14d3-4cf0-9c6f-e62b352f1056\",\"type\":\"ResetTool\"},{\"attributes\":{},\"id\":\"dcda5f61-3e9e-474b-b2fa-27fa403a910e\",\"type\":\"WheelZoomTool\"},{\"attributes\":{\"toolbar\":{\"id\":\"56cf3852-d093-4400-a896-5152accde00c\",\"type\":\"ProxyToolbar\"},\"toolbar_location\":\"above\"},\"id\":\"076b14d4-7008-40c4-b0a0-53edd31be5d4\",\"type\":\"ToolbarBox\"},{\"attributes\":{\"plot\":{\"id\":\"66784824-d72b-4de2-bc92-075829dd0112\",\"subtype\":\"Figure\",\"type\":\"Plot\"},\"ticker\":{\"id\":\"21d0018f-a4d5-4ea9-96e0-f95eac494d47\",\"type\":\"CategoricalTicker\"}},\"id\":\"9168a0c5-dbce-42a3-95dc-3eece39216f1\",\"type\":\"Grid\"},{\"attributes\":{\"callback\":null},\"id\":\"639d555a-6c00-47cc-8ff4-cfa081dfe131\",\"type\":\"DataRange1d\"},{\"attributes\":{\"callback\":null},\"id\":\"041826f8-caa6-4e06-950f-e9b721ddc615\",\"type\":\"DataRange1d\"},{\"attributes\":{\"children\":[{\"id\":\"076b14d4-7008-40c4-b0a0-53edd31be5d4\",\"type\":\"ToolbarBox\"},{\"id\":\"2ec2439e-8568-4f14-80d5-73dba211a5d0\",\"type\":\"Column\"}]},\"id\":\"1637f453-fdaa-46c3-a3f3-cf06e136e375\",\"type\":\"Column\"},{\"attributes\":{},\"id\":\"a0f64470-1d8f-47cc-b098-d7afbb9c2308\",\"type\":\"SaveTool\"},{\"attributes\":{\"data_source\":{\"id\":\"733b9eb0-a7ea-4bfa-b220-be191f774da1\",\"type\":\"ColumnDataSource\"},\"glyph\":{\"id\":\"fd2ea28b-0249-4d5c-a761-7f6b159034a5\",\"type\":\"VBar\"},\"hover_glyph\":null,\"muted_glyph\":null,\"nonselection_glyph\":{\"id\":\"a1dab692-1d56-4118-a0c8-8945d491739e\",\"type\":\"VBar\"},\"selection_glyph\":null,\"view\":{\"id\":\"f807c611-cefa-4c6f-b398-f4fcc6eb157e\",\"type\":\"CDSView\"}},\"id\":\"7416dc6d-9ea5-44e4-aacd-dfc0035c4e31\",\"type\":\"GlyphRenderer\"},{\"attributes\":{},\"id\":\"428e4e85-f02f-4d89-8c15-298a68f0eec6\",\"type\":\"LinearScale\"},{\"attributes\":{},\"id\":\"05e60001-25e0-43aa-9f2b-61fed750ec81\",\"type\":\"ResetTool\"},{\"attributes\":{\"axis_label\":\"spectral band\",\"formatter\":{\"id\":\"a9edeb36-e2fe-49bb-82c2-8bbe03bb009a\",\"type\":\"CategoricalTickFormatter\"},\"plot\":{\"id\":\"5ab1af02-a94a-4c54-81b2-8d36a04fbd85\",\"subtype\":\"Figure\",\"type\":\"Plot\"},\"ticker\":{\"id\":\"ce421b61-4b1d-4be9-9bc6-2f4bfd418eb0\",\"type\":\"CategoricalTicker\"}},\"id\":\"d2e251de-c783-43e4-814d-c1ad4370b384\",\"type\":\"CategoricalAxis\"},{\"attributes\":{},\"id\":\"4f65cfd0-5a13-4888-85cc-d1b0fd76f59a\",\"type\":\"BasicTicker\"},{\"attributes\":{},\"id\":\"ce421b61-4b1d-4be9-9bc6-2f4bfd418eb0\",\"type\":\"CategoricalTicker\"},{\"attributes\":{},\"id\":\"d26a059f-7d14-4018-8f50-39d550c11684\",\"type\":\"CategoricalScale\"},{\"attributes\":{\"plot\":null,\"text\":\"Atmosphere heating. CLIRAD (single-run) - CRD.\"},\"id\":\"1ce2edc3-e7fb-4c7a-955a-9ec537ece160\",\"type\":\"Title\"},{\"attributes\":{\"below\":[{\"id\":\"d2e251de-c783-43e4-814d-c1ad4370b384\",\"type\":\"CategoricalAxis\"}],\"left\":[{\"id\":\"3d3a40f5-a187-4cb8-94ac-6e36373be7e0\",\"type\":\"LinearAxis\"}],\"plot_height\":300,\"plot_width\":300,\"renderers\":[{\"id\":\"d2e251de-c783-43e4-814d-c1ad4370b384\",\"type\":\"CategoricalAxis\"},{\"id\":\"8c368cf9-7ae1-43c7-a9e5-021574ebd0af\",\"type\":\"Grid\"},{\"id\":\"3d3a40f5-a187-4cb8-94ac-6e36373be7e0\",\"type\":\"LinearAxis\"},{\"id\":\"76d0d60c-11f1-4e2d-8daf-3ceed763b650\",\"type\":\"Grid\"},{\"id\":\"892f5cd4-f32c-4698-a51f-e254c1f8b6cc\",\"type\":\"BoxAnnotation\"},{\"id\":\"336e994e-65b9-4532-8c6c-7bf8a838db26\",\"type\":\"GlyphRenderer\"}],\"title\":{\"id\":\"1ce2edc3-e7fb-4c7a-955a-9ec537ece160\",\"type\":\"Title\"},\"toolbar\":{\"id\":\"3b4a41d3-d844-4d62-a4af-502f9c741ad6\",\"type\":\"Toolbar\"},\"toolbar_location\":null,\"x_range\":{\"id\":\"82a192af-01df-422c-b064-70a50de08b41\",\"type\":\"FactorRange\"},\"x_scale\":{\"id\":\"215f28ad-753d-4d97-92b6-cb0ffd35da4c\",\"type\":\"CategoricalScale\"},\"y_range\":{\"id\":\"041826f8-caa6-4e06-950f-e9b721ddc615\",\"type\":\"DataRange1d\"},\"y_scale\":{\"id\":\"428e4e85-f02f-4d89-8c15-298a68f0eec6\",\"type\":\"LinearScale\"}},\"id\":\"5ab1af02-a94a-4c54-81b2-8d36a04fbd85\",\"subtype\":\"Figure\",\"type\":\"Plot\"},{\"attributes\":{\"overlay\":{\"id\":\"892f5cd4-f32c-4698-a51f-e254c1f8b6cc\",\"type\":\"BoxAnnotation\"}},\"id\":\"71655090-a893-4645-ae47-aca9d7baac84\",\"type\":\"BoxZoomTool\"},{\"attributes\":{\"callback\":null,\"factors\":[\"1\",\"2\",\"3\",\"4\",\"5\",\"6\",\"7\",\"8\",\"9\",\"10\",\"11\"]},\"id\":\"9c88ccb7-d591-48bb-8a9a-569e6c06a382\",\"type\":\"FactorRange\"},{\"attributes\":{\"plot\":null,\"text\":\"TOA flux. CLIRAD (single-run) - CRD.\"},\"id\":\"94217e90-ebeb-49b3-8d71-2dc96ac9a608\",\"type\":\"Title\"},{\"attributes\":{},\"id\":\"bdf3594f-74a2-48dc-a194-36af70e0b62b\",\"type\":\"CategoricalTickFormatter\"},{\"attributes\":{\"dimension\":1,\"plot\":{\"id\":\"01518243-49ae-43c6-8c54-7086097d7043\",\"subtype\":\"Figure\",\"type\":\"Plot\"},\"ticker\":{\"id\":\"ca300cfa-2271-4e18-b128-d6fb5374b5c9\",\"type\":\"BasicTicker\"}},\"id\":\"22ae85bd-7245-4eeb-85c5-297fec117f0b\",\"type\":\"Grid\"},{\"attributes\":{\"callback\":null,\"data\":{\"band\":[\"1\",\"2\",\"3\",\"4\",\"5\",\"6\",\"7\",\"8\",\"9\",\"10\",\"11\"],\"flux\":{\"__ndarray__\":\"gOIKWg6Vxz8AZUNIJ1zKP8BwLN5+r9w/QMdlApwjxj+ArqKa7WW4vwBJ8fEJ2bU/gB6GVidnzD+AUnx8QnawPwDBKhcq/4o/gEM6lz1kpb+AJgqhQRKPPw==\",\"dtype\":\"float64\",\"shape\":[11]}},\"selected\":{\"id\":\"7b772220-1a04-4cf7-a5ab-b361a6503ab3\",\"type\":\"Selection\"},\"selection_policy\":{\"id\":\"a8defeea-077b-4ae3-bda0-32f8eb3046eb\",\"type\":\"UnionRenderers\"}},\"id\":\"ed85ccaa-5310-43cf-9fab-8e1db2cda035\",\"type\":\"ColumnDataSource\"},{\"attributes\":{\"bottom_units\":\"screen\",\"fill_alpha\":{\"value\":0.5},\"fill_color\":{\"value\":\"lightgrey\"},\"left_units\":\"screen\",\"level\":\"overlay\",\"line_alpha\":{\"value\":1.0},\"line_color\":{\"value\":\"black\"},\"line_dash\":[4,4],\"line_width\":{\"value\":2},\"plot\":null,\"render_mode\":\"css\",\"right_units\":\"screen\",\"top_units\":\"screen\"},\"id\":\"977a3d12-e016-44d1-a24a-fb6d40a3d4bd\",\"type\":\"BoxAnnotation\"},{\"attributes\":{\"plot\":null,\"text\":\"SFC flux. CLIRAD (single-run) - CRD.\"},\"id\":\"831178b3-7142-4f52-b327-949dc0d73a8f\",\"type\":\"Title\"},{\"attributes\":{},\"id\":\"dd448ff6-cc83-4e71-9a3f-167212203ac7\",\"type\":\"Selection\"},{\"attributes\":{\"below\":[{\"id\":\"923c0648-1201-4929-94bd-48147df854df\",\"type\":\"CategoricalAxis\"}],\"left\":[{\"id\":\"3c0cad0c-2f06-4158-bf26-f4f42a3c4f39\",\"type\":\"LinearAxis\"}],\"plot_height\":300,\"plot_width\":300,\"renderers\":[{\"id\":\"923c0648-1201-4929-94bd-48147df854df\",\"type\":\"CategoricalAxis\"},{\"id\":\"9168a0c5-dbce-42a3-95dc-3eece39216f1\",\"type\":\"Grid\"},{\"id\":\"3c0cad0c-2f06-4158-bf26-f4f42a3c4f39\",\"type\":\"LinearAxis\"},{\"id\":\"117b777f-a76b-438b-924e-e4894337fc40\",\"type\":\"Grid\"},{\"id\":\"dc7e0aaf-5ab2-4ad0-bb6b-e5f49320a665\",\"type\":\"BoxAnnotation\"},{\"id\":\"7416dc6d-9ea5-44e4-aacd-dfc0035c4e31\",\"type\":\"GlyphRenderer\"}],\"title\":{\"id\":\"831178b3-7142-4f52-b327-949dc0d73a8f\",\"type\":\"Title\"},\"toolbar\":{\"id\":\"a9a20869-9e9b-435c-93df-592284db975a\",\"type\":\"Toolbar\"},\"toolbar_location\":null,\"x_range\":{\"id\":\"9f318fd2-1d75-4963-9b8e-08bb8d0f1b5e\",\"type\":\"FactorRange\"},\"x_scale\":{\"id\":\"d26a059f-7d14-4018-8f50-39d550c11684\",\"type\":\"CategoricalScale\"},\"y_range\":{\"id\":\"639d555a-6c00-47cc-8ff4-cfa081dfe131\",\"type\":\"DataRange1d\"},\"y_scale\":{\"id\":\"cedbaac1-11dd-4411-bebc-d18565e01516\",\"type\":\"LinearScale\"}},\"id\":\"66784824-d72b-4de2-bc92-075829dd0112\",\"subtype\":\"Figure\",\"type\":\"Plot\"},{\"attributes\":{\"axis_label\":\"spectral band\",\"formatter\":{\"id\":\"bdf3594f-74a2-48dc-a194-36af70e0b62b\",\"type\":\"CategoricalTickFormatter\"},\"plot\":{\"id\":\"01518243-49ae-43c6-8c54-7086097d7043\",\"subtype\":\"Figure\",\"type\":\"Plot\"},\"ticker\":{\"id\":\"ad0977f0-4e32-4b6b-92cb-1347363c3f9b\",\"type\":\"CategoricalTicker\"}},\"id\":\"f9f3e502-2f35-41c8-95a3-cd7df7261a39\",\"type\":\"CategoricalAxis\"},{\"attributes\":{\"fill_color\":{\"value\":\"#1f77b4\"},\"line_color\":{\"value\":\"#1f77b4\"},\"top\":{\"field\":\"flux\"},\"width\":{\"value\":0.9},\"x\":{\"field\":\"band\"}},\"id\":\"a20149dc-292f-4644-98a9-0c8de2271e9d\",\"type\":\"VBar\"},{\"attributes\":{\"source\":{\"id\":\"a0468f09-14a5-444d-ad65-d9ce0584b4d3\",\"type\":\"ColumnDataSource\"}},\"id\":\"6387f2fa-68c0-4ba2-8c7d-6e44b099fb27\",\"type\":\"CDSView\"},{\"attributes\":{\"callback\":null,\"data\":{\"band\":[\"1\",\"2\",\"3\",\"4\",\"5\",\"6\",\"7\",\"8\",\"9\",\"10\",\"11\"],\"flux\":{\"__ndarray__\":\"AEDdJAaBZb8Asg5HV+nAvwA2IEJcueC/AAeY+Q5+tj/A8wOyMnXIPyAWSPVCprm/QFhl8EEZsD/ga9jnGC20vwDdJRad0ZM/AJDEy9O5oj8Ad2DnQ6NtPw==\",\"dtype\":\"float64\",\"shape\":[11]}},\"selected\":{\"id\":\"c2140792-4a77-4bc7-a37f-cf7f07235d03\",\"type\":\"Selection\"},\"selection_policy\":{\"id\":\"3f4af972-d31a-4efe-b81c-7380c67d6ee0\",\"type\":\"UnionRenderers\"}},\"id\":\"733b9eb0-a7ea-4bfa-b220-be191f774da1\",\"type\":\"ColumnDataSource\"},{\"attributes\":{},\"id\":\"ca11f072-8c0f-4592-a931-c49c22fade04\",\"type\":\"PanTool\"},{\"attributes\":{},\"id\":\"398ff3be-d4fc-4bd3-be0d-a8e937e5a95f\",\"type\":\"CategoricalScale\"},{\"attributes\":{},\"id\":\"ad0977f0-4e32-4b6b-92cb-1347363c3f9b\",\"type\":\"CategoricalTicker\"},{\"attributes\":{\"below\":[{\"id\":\"f9f3e502-2f35-41c8-95a3-cd7df7261a39\",\"type\":\"CategoricalAxis\"}],\"left\":[{\"id\":\"db7768c7-b761-4000-b00b-3639a7196752\",\"type\":\"LinearAxis\"}],\"plot_height\":300,\"plot_width\":300,\"renderers\":[{\"id\":\"f9f3e502-2f35-41c8-95a3-cd7df7261a39\",\"type\":\"CategoricalAxis\"},{\"id\":\"31790835-b49b-48fb-b0a8-40995ae38f63\",\"type\":\"Grid\"},{\"id\":\"db7768c7-b761-4000-b00b-3639a7196752\",\"type\":\"LinearAxis\"},{\"id\":\"22ae85bd-7245-4eeb-85c5-297fec117f0b\",\"type\":\"Grid\"},{\"id\":\"977a3d12-e016-44d1-a24a-fb6d40a3d4bd\",\"type\":\"BoxAnnotation\"},{\"id\":\"ad1b50bb-f16a-47ef-8bed-e9c66a4c2d42\",\"type\":\"GlyphRenderer\"}],\"title\":{\"id\":\"94217e90-ebeb-49b3-8d71-2dc96ac9a608\",\"type\":\"Title\"},\"toolbar\":{\"id\":\"90edaaee-c7ff-4310-ba60-40f08630c54e\",\"type\":\"Toolbar\"},\"toolbar_location\":null,\"x_range\":{\"id\":\"9c88ccb7-d591-48bb-8a9a-569e6c06a382\",\"type\":\"FactorRange\"},\"x_scale\":{\"id\":\"398ff3be-d4fc-4bd3-be0d-a8e937e5a95f\",\"type\":\"CategoricalScale\"},\"y_range\":{\"id\":\"40461f92-7a2e-485a-9678-52a38e48d2d9\",\"type\":\"DataRange1d\"},\"y_scale\":{\"id\":\"b1dde599-9337-4759-974c-7a55e4424742\",\"type\":\"LinearScale\"}},\"id\":\"01518243-49ae-43c6-8c54-7086097d7043\",\"subtype\":\"Figure\",\"type\":\"Plot\"},{\"attributes\":{\"fill_alpha\":{\"value\":0.1},\"fill_color\":{\"value\":\"#1f77b4\"},\"line_alpha\":{\"value\":0.1},\"line_color\":{\"value\":\"#1f77b4\"},\"top\":{\"field\":\"flux\"},\"width\":{\"value\":0.9},\"x\":{\"field\":\"band\"}},\"id\":\"a1dab692-1d56-4118-a0c8-8945d491739e\",\"type\":\"VBar\"},{\"attributes\":{},\"id\":\"f3092c49-6828-4c91-aa4b-4efa4fabacfc\",\"type\":\"SaveTool\"},{\"attributes\":{\"callback\":null},\"id\":\"40461f92-7a2e-485a-9678-52a38e48d2d9\",\"type\":\"DataRange1d\"},{\"attributes\":{\"active_drag\":\"auto\",\"active_inspect\":\"auto\",\"active_scroll\":\"auto\",\"active_tap\":\"auto\",\"tools\":[{\"id\":\"c153f191-cbba-4d6d-9a66-4ab9ebf52b23\",\"type\":\"PanTool\"},{\"id\":\"fee4995d-7aab-4bb7-829d-d91bfefe8e4a\",\"type\":\"WheelZoomTool\"},{\"id\":\"0052ce25-bc9c-4be4-b5d4-fb27e9186764\",\"type\":\"BoxZoomTool\"},{\"id\":\"a312bdab-1036-4c1a-b290-31e437d20fee\",\"type\":\"SaveTool\"},{\"id\":\"05e60001-25e0-43aa-9f2b-61fed750ec81\",\"type\":\"ResetTool\"},{\"id\":\"56e538c5-3110-433b-9f82-86de98b18142\",\"type\":\"HelpTool\"}]},\"id\":\"a9a20869-9e9b-435c-93df-592284db975a\",\"type\":\"Toolbar\"},{\"attributes\":{},\"id\":\"b1dde599-9337-4759-974c-7a55e4424742\",\"type\":\"LinearScale\"},{\"attributes\":{\"bottom_units\":\"screen\",\"fill_alpha\":{\"value\":0.5},\"fill_color\":{\"value\":\"lightgrey\"},\"left_units\":\"screen\",\"level\":\"overlay\",\"line_alpha\":{\"value\":1.0},\"line_color\":{\"value\":\"black\"},\"line_dash\":[4,4],\"line_width\":{\"value\":2},\"plot\":null,\"render_mode\":\"css\",\"right_units\":\"screen\",\"top_units\":\"screen\"},\"id\":\"dc7e0aaf-5ab2-4ad0-bb6b-e5f49320a665\",\"type\":\"BoxAnnotation\"},{\"attributes\":{\"tools\":[{\"id\":\"ca11f072-8c0f-4592-a931-c49c22fade04\",\"type\":\"PanTool\"},{\"id\":\"4a6a8d00-0ada-4f4a-b850-e00a4a6e1ba0\",\"type\":\"WheelZoomTool\"},{\"id\":\"1cd10b23-f5fa-4aec-9256-35bdc58e4452\",\"type\":\"BoxZoomTool\"},{\"id\":\"f3092c49-6828-4c91-aa4b-4efa4fabacfc\",\"type\":\"SaveTool\"},{\"id\":\"257f1324-def9-4c9e-8040-43e531ee4d61\",\"type\":\"ResetTool\"},{\"id\":\"2e70d283-0a3c-4ae5-b0e9-eeda894991b2\",\"type\":\"HelpTool\"},{\"id\":\"c153f191-cbba-4d6d-9a66-4ab9ebf52b23\",\"type\":\"PanTool\"},{\"id\":\"fee4995d-7aab-4bb7-829d-d91bfefe8e4a\",\"type\":\"WheelZoomTool\"},{\"id\":\"0052ce25-bc9c-4be4-b5d4-fb27e9186764\",\"type\":\"BoxZoomTool\"},{\"id\":\"a312bdab-1036-4c1a-b290-31e437d20fee\",\"type\":\"SaveTool\"},{\"id\":\"05e60001-25e0-43aa-9f2b-61fed750ec81\",\"type\":\"ResetTool\"},{\"id\":\"56e538c5-3110-433b-9f82-86de98b18142\",\"type\":\"HelpTool\"},{\"id\":\"8c98bc66-bf60-4235-90c9-42f5fa02743e\",\"type\":\"PanTool\"},{\"id\":\"dcda5f61-3e9e-474b-b2fa-27fa403a910e\",\"type\":\"WheelZoomTool\"},{\"id\":\"71655090-a893-4645-ae47-aca9d7baac84\",\"type\":\"BoxZoomTool\"},{\"id\":\"a0f64470-1d8f-47cc-b098-d7afbb9c2308\",\"type\":\"SaveTool\"},{\"id\":\"6082de09-14d3-4cf0-9c6f-e62b352f1056\",\"type\":\"ResetTool\"},{\"id\":\"33c1eeee-ea17-41a1-9119-07c12c593c21\",\"type\":\"HelpTool\"}]},\"id\":\"56cf3852-d093-4400-a896-5152accde00c\",\"type\":\"ProxyToolbar\"},{\"attributes\":{\"active_drag\":\"auto\",\"active_inspect\":\"auto\",\"active_scroll\":\"auto\",\"active_tap\":\"auto\",\"tools\":[{\"id\":\"ca11f072-8c0f-4592-a931-c49c22fade04\",\"type\":\"PanTool\"},{\"id\":\"4a6a8d00-0ada-4f4a-b850-e00a4a6e1ba0\",\"type\":\"WheelZoomTool\"},{\"id\":\"1cd10b23-f5fa-4aec-9256-35bdc58e4452\",\"type\":\"BoxZoomTool\"},{\"id\":\"f3092c49-6828-4c91-aa4b-4efa4fabacfc\",\"type\":\"SaveTool\"},{\"id\":\"257f1324-def9-4c9e-8040-43e531ee4d61\",\"type\":\"ResetTool\"},{\"id\":\"2e70d283-0a3c-4ae5-b0e9-eeda894991b2\",\"type\":\"HelpTool\"}]},\"id\":\"90edaaee-c7ff-4310-ba60-40f08630c54e\",\"type\":\"Toolbar\"},{\"attributes\":{},\"id\":\"4a6a8d00-0ada-4f4a-b850-e00a4a6e1ba0\",\"type\":\"WheelZoomTool\"},{\"attributes\":{\"data_source\":{\"id\":\"a0468f09-14a5-444d-ad65-d9ce0584b4d3\",\"type\":\"ColumnDataSource\"},\"glyph\":{\"id\":\"a20149dc-292f-4644-98a9-0c8de2271e9d\",\"type\":\"VBar\"},\"hover_glyph\":null,\"muted_glyph\":null,\"nonselection_glyph\":{\"id\":\"c0677879-880f-4d42-b8dd-360f9fa43e61\",\"type\":\"VBar\"},\"selection_glyph\":null,\"view\":{\"id\":\"6387f2fa-68c0-4ba2-8c7d-6e44b099fb27\",\"type\":\"CDSView\"}},\"id\":\"ad1b50bb-f16a-47ef-8bed-e9c66a4c2d42\",\"type\":\"GlyphRenderer\"},{\"attributes\":{},\"id\":\"5cef8f1f-7d7b-4622-840e-d2da722434ae\",\"type\":\"BasicTickFormatter\"},{\"attributes\":{},\"id\":\"3f4af972-d31a-4efe-b81c-7380c67d6ee0\",\"type\":\"UnionRenderers\"},{\"attributes\":{},\"id\":\"bc5920f5-995b-4522-80f2-68ecf670e0ad\",\"type\":\"BasicTickFormatter\"},{\"attributes\":{\"overlay\":{\"id\":\"977a3d12-e016-44d1-a24a-fb6d40a3d4bd\",\"type\":\"BoxAnnotation\"}},\"id\":\"1cd10b23-f5fa-4aec-9256-35bdc58e4452\",\"type\":\"BoxZoomTool\"},{\"attributes\":{\"children\":[{\"id\":\"01518243-49ae-43c6-8c54-7086097d7043\",\"subtype\":\"Figure\",\"type\":\"Plot\"},{\"id\":\"66784824-d72b-4de2-bc92-075829dd0112\",\"subtype\":\"Figure\",\"type\":\"Plot\"},{\"id\":\"5ab1af02-a94a-4c54-81b2-8d36a04fbd85\",\"subtype\":\"Figure\",\"type\":\"Plot\"}]},\"id\":\"b6d1c40e-94ae-4a19-9468-582bd8a7576d\",\"type\":\"Row\"},{\"attributes\":{},\"id\":\"a8defeea-077b-4ae3-bda0-32f8eb3046eb\",\"type\":\"UnionRenderers\"},{\"attributes\":{},\"id\":\"2e70d283-0a3c-4ae5-b0e9-eeda894991b2\",\"type\":\"HelpTool\"},{\"attributes\":{},\"id\":\"33c1eeee-ea17-41a1-9119-07c12c593c21\",\"type\":\"HelpTool\"},{\"attributes\":{\"bottom_units\":\"screen\",\"fill_alpha\":{\"value\":0.5},\"fill_color\":{\"value\":\"lightgrey\"},\"left_units\":\"screen\",\"level\":\"overlay\",\"line_alpha\":{\"value\":1.0},\"line_color\":{\"value\":\"black\"},\"line_dash\":[4,4],\"line_width\":{\"value\":2},\"plot\":null,\"render_mode\":\"css\",\"right_units\":\"screen\",\"top_units\":\"screen\"},\"id\":\"892f5cd4-f32c-4698-a51f-e254c1f8b6cc\",\"type\":\"BoxAnnotation\"},{\"attributes\":{},\"id\":\"ca300cfa-2271-4e18-b128-d6fb5374b5c9\",\"type\":\"BasicTicker\"},{\"attributes\":{},\"id\":\"7b772220-1a04-4cf7-a5ab-b361a6503ab3\",\"type\":\"Selection\"},{\"attributes\":{},\"id\":\"db2e65fa-3093-4782-80d7-94940e2997ac\",\"type\":\"BasicTickFormatter\"},{\"attributes\":{\"plot\":{\"id\":\"01518243-49ae-43c6-8c54-7086097d7043\",\"subtype\":\"Figure\",\"type\":\"Plot\"},\"ticker\":{\"id\":\"ad0977f0-4e32-4b6b-92cb-1347363c3f9b\",\"type\":\"CategoricalTicker\"}},\"id\":\"31790835-b49b-48fb-b0a8-40995ae38f63\",\"type\":\"Grid\"},{\"attributes\":{\"callback\":null,\"data\":{\"band\":[\"1\",\"2\",\"3\",\"4\",\"5\",\"6\",\"7\",\"8\",\"9\",\"10\",\"11\"],\"flux\":{\"__ndarray__\":\"gGLUtfY+xz8ABgWlaOWyPwDVO9wODbO/gApHkEqx0D8Ans4VpYS4PwDQ+uk/a46/IIOj5NU50j8AHErtRbSNv4BE2safqKA/AGgLdJJSdb+AbxLeeT2TPw==\",\"dtype\":\"float64\",\"shape\":[11]}},\"selected\":{\"id\":\"dd448ff6-cc83-4e71-9a3f-167212203ac7\",\"type\":\"Selection\"},\"selection_policy\":{\"id\":\"5f974af3-639b-4278-9e3e-c9255d8166f8\",\"type\":\"UnionRenderers\"}},\"id\":\"a0468f09-14a5-444d-ad65-d9ce0584b4d3\",\"type\":\"ColumnDataSource\"},{\"attributes\":{},\"id\":\"94740da4-6663-4632-b797-a1344fabecc2\",\"type\":\"CategoricalTickFormatter\"},{\"attributes\":{\"fill_alpha\":{\"value\":0.1},\"fill_color\":{\"value\":\"#1f77b4\"},\"line_alpha\":{\"value\":0.1},\"line_color\":{\"value\":\"#1f77b4\"},\"top\":{\"field\":\"flux\"},\"width\":{\"value\":0.9},\"x\":{\"field\":\"band\"}},\"id\":\"c0677879-880f-4d42-b8dd-360f9fa43e61\",\"type\":\"VBar\"},{\"attributes\":{},\"id\":\"5f974af3-639b-4278-9e3e-c9255d8166f8\",\"type\":\"UnionRenderers\"},{\"attributes\":{},\"id\":\"257f1324-def9-4c9e-8040-43e531ee4d61\",\"type\":\"ResetTool\"},{\"attributes\":{},\"id\":\"c2140792-4a77-4bc7-a37f-cf7f07235d03\",\"type\":\"Selection\"},{\"attributes\":{\"axis_label\":\"flux (W m-2)\",\"formatter\":{\"id\":\"bc5920f5-995b-4522-80f2-68ecf670e0ad\",\"type\":\"BasicTickFormatter\"},\"plot\":{\"id\":\"01518243-49ae-43c6-8c54-7086097d7043\",\"subtype\":\"Figure\",\"type\":\"Plot\"},\"ticker\":{\"id\":\"ca300cfa-2271-4e18-b128-d6fb5374b5c9\",\"type\":\"BasicTicker\"}},\"id\":\"db7768c7-b761-4000-b00b-3639a7196752\",\"type\":\"LinearAxis\"}],\"root_ids\":[\"1637f453-fdaa-46c3-a3f3-cf06e136e375\"]},\"title\":\"Bokeh Application\",\"version\":\"0.12.16\"}};\n",
       "  var render_items = [{\"docid\":\"d9418c61-2218-462d-bddb-333cae9085fd\",\"elementid\":\"3e42e65d-2c62-4a15-94fa-751950398ea1\",\"modelid\":\"1637f453-fdaa-46c3-a3f3-cf06e136e375\"}];\n",
       "  root.Bokeh.embed.embed_items_notebook(docs_json, render_items);\n",
       "\n",
       "  }\n",
       "  if (root.Bokeh !== undefined) {\n",
       "    embed_document(root);\n",
       "  } else {\n",
       "    var attempts = 0;\n",
       "    var timer = setInterval(function(root) {\n",
       "      if (root.Bokeh !== undefined) {\n",
       "        embed_document(root);\n",
       "        clearInterval(timer);\n",
       "      }\n",
       "      attempts++;\n",
       "      if (attempts > 100) {\n",
       "        console.log(\"Bokeh: ERROR: Unable to run BokehJS code because BokehJS library is missing\")\n",
       "        clearInterval(timer);\n",
       "      }\n",
       "    }, 10, root)\n",
       "  }\n",
       "})(window);"
      ],
      "application/vnd.bokehjs_exec.v0+json": ""
     },
     "metadata": {
      "application/vnd.bokehjs_exec.v0+json": {
       "id": "1637f453-fdaa-46c3-a3f3-cf06e136e375"
      }
     },
     "output_type": "display_data"
    },
    {
     "data": {
      "text/markdown": [
       "*FIGURE.* Difference between CLIRAD and CRD in TOA, SFC and net atmosphere flux, in each spectral band."
      ],
      "text/plain": [
       "<IPython.core.display.Markdown object>"
      ]
     },
     "metadata": {},
     "output_type": "display_data"
    },
    {
     "data": {
      "text/html": [
       "<div>\n",
       "<style scoped>\n",
       "    .dataframe tbody tr th:only-of-type {\n",
       "        vertical-align: middle;\n",
       "    }\n",
       "\n",
       "    .dataframe tbody tr th {\n",
       "        vertical-align: top;\n",
       "    }\n",
       "\n",
       "    .dataframe thead th {\n",
       "        text-align: right;\n",
       "    }\n",
       "</style>\n",
       "<table border=\"1\" class=\"dataframe\">\n",
       "  <thead>\n",
       "    <tr style=\"text-align: right;\">\n",
       "      <th></th>\n",
       "      <th>OLR flux</th>\n",
       "      <th>SFC flux</th>\n",
       "      <th>ATM heating</th>\n",
       "    </tr>\n",
       "    <tr>\n",
       "      <th>Sum over bands</th>\n",
       "      <th></th>\n",
       "      <th></th>\n",
       "      <th></th>\n",
       "    </tr>\n",
       "  </thead>\n",
       "  <tbody>\n",
       "    <tr>\n",
       "      <th>CLIRAD (single-run) - CRD</th>\n",
       "      <td>0.84</td>\n",
       "      <td>-0.44</td>\n",
       "      <td>1.27</td>\n",
       "    </tr>\n",
       "    <tr>\n",
       "      <th>CRD</th>\n",
       "      <td>-201.06</td>\n",
       "      <td>166.03</td>\n",
       "      <td>-119.67</td>\n",
       "    </tr>\n",
       "  </tbody>\n",
       "</table>\n",
       "</div>"
      ],
      "text/plain": [
       "                           OLR flux  SFC flux  ATM heating\n",
       "Sum over bands                                            \n",
       "CLIRAD (single-run) - CRD      0.84     -0.44         1.27\n",
       "CRD                         -201.06    166.03      -119.67"
      ]
     },
     "metadata": {},
     "output_type": "display_data"
    },
    {
     "data": {
      "text/markdown": [
       "*TABLE.* Difference between CLIRAD and CRD in TOA, SFC and net atmosphere flux, over all spectral bands. CRD's TOA, SFC and net atmosphere flux, over all spectral bands."
      ],
      "text/plain": [
       "<IPython.core.display.Markdown object>"
      ]
     },
     "metadata": {},
     "output_type": "display_data"
    },
    {
     "data": {
      "text/html": [
       "<a id=\"Cooling_rates._trp.\"></a>"
      ],
      "text/plain": [
       "<IPython.core.display.HTML object>"
      ]
     },
     "metadata": {},
     "output_type": "display_data"
    },
    {
     "data": {
      "text/markdown": [
       "# Cooling rates. trp."
      ],
      "text/plain": [
       "<IPython.core.display.Markdown object>"
      ]
     },
     "metadata": {},
     "output_type": "display_data"
    },
    {
     "data": {
      "text/html": [
       "\n",
       "<div class=\"bk-root\">\n",
       "    <div class=\"bk-plotdiv\" id=\"0ec77f52-e1ba-4871-bc51-6605ddd296af\"></div>\n",
       "</div>"
      ]
     },
     "metadata": {},
     "output_type": "display_data"
    },
    {
     "data": {
      "application/javascript": [
       "(function(root) {\n",
       "  function embed_document(root) {\n",
       "    \n",
       "  var docs_json = {\"cc1ad055-0f55-43bb-afe7-cc6fc5c00b37\":{\"roots\":{\"references\":[{\"attributes\":{},\"id\":\"06e2fbfc-64a3-43b7-a502-3bc082073eb8\",\"type\":\"Selection\"},{\"attributes\":{\"line_alpha\":0.1,\"line_color\":\"#1f77b4\",\"line_dash\":[6],\"line_width\":5,\"x\":{\"field\":\"x\"},\"y\":{\"field\":\"y\"}},\"id\":\"f65eb859-7ae8-4f93-a357-39edd7f22595\",\"type\":\"Line\"},{\"attributes\":{\"data_source\":{\"id\":\"69495cb0-1815-4cd3-96f4-a582142ae48c\",\"type\":\"ColumnDataSource\"},\"glyph\":{\"id\":\"5adf87f9-99fa-4e8d-9ee8-365ec362b88e\",\"type\":\"Circle\"},\"hover_glyph\":null,\"muted_glyph\":null,\"nonselection_glyph\":{\"id\":\"469eee80-038f-4f38-893c-d11bc0a2c6d0\",\"type\":\"Circle\"},\"selection_glyph\":null,\"view\":{\"id\":\"359745a6-9860-462e-bde9-c2cb7e1faa7f\",\"type\":\"CDSView\"}},\"id\":\"1ccf23a6-b4d0-49da-9c28-9c0199b95e87\",\"type\":\"GlyphRenderer\"},{\"attributes\":{\"bottom_units\":\"screen\",\"fill_alpha\":{\"value\":0.5},\"fill_color\":{\"value\":\"lightgrey\"},\"left_units\":\"screen\",\"level\":\"overlay\",\"line_alpha\":{\"value\":1.0},\"line_color\":{\"value\":\"black\"},\"line_dash\":[4,4],\"line_width\":{\"value\":2},\"plot\":null,\"render_mode\":\"css\",\"right_units\":\"screen\",\"top_units\":\"screen\"},\"id\":\"2e3d6a66-757b-485a-90e6-37558b7c59d4\",\"type\":\"BoxAnnotation\"},{\"attributes\":{\"bottom_units\":\"screen\",\"fill_alpha\":{\"value\":0.5},\"fill_color\":{\"value\":\"lightgrey\"},\"left_units\":\"screen\",\"level\":\"overlay\",\"line_alpha\":{\"value\":1.0},\"line_color\":{\"value\":\"black\"},\"line_dash\":[4,4],\"line_width\":{\"value\":2},\"plot\":null,\"render_mode\":\"css\",\"right_units\":\"screen\",\"top_units\":\"screen\"},\"id\":\"e4bd950b-4418-428b-97f9-a1740bb423e8\",\"type\":\"BoxAnnotation\"},{\"attributes\":{},\"id\":\"12121cb7-5e33-43a5-b069-ed3a90d24aea\",\"type\":\"SaveTool\"},{\"attributes\":{\"line_alpha\":0.6,\"line_color\":\"#377eb8\",\"line_dash\":[6],\"line_width\":5,\"x\":{\"field\":\"x\"},\"y\":{\"field\":\"y\"}},\"id\":\"08485cc5-041e-4385-bd0f-57cda6daeb07\",\"type\":\"Line\"},{\"attributes\":{\"dimension\":1,\"plot\":{\"id\":\"77c62378-1ef2-49e9-bed2-7e5229f59a36\",\"subtype\":\"Figure\",\"type\":\"Plot\"},\"ticker\":{\"id\":\"26bed8aa-66fc-424c-8eeb-cf1fe52f2654\",\"type\":\"LogTicker\"}},\"id\":\"55ac6a1f-20a4-40f2-8a52-5c588955babc\",\"type\":\"Grid\"},{\"attributes\":{\"overlay\":{\"id\":\"e4bd950b-4418-428b-97f9-a1740bb423e8\",\"type\":\"BoxAnnotation\"}},\"id\":\"cb093aa7-324b-4a28-af4d-be5a0bea9a35\",\"type\":\"BoxZoomTool\"},{\"attributes\":{\"callback\":null,\"data\":{\"x\":{\"__ndarray__\":\"liAxAAmFRUA7boauBNNCQEpiRRJTtEFAvhK5RygdQEAnn9x/ChY8QBsyIRqUKjdAMD0zOB7pMUDEt3KX3QQqQE5PBNB3SCJA6NjTUF6dGkDTtUfiLzsVQL0Sjm8nBhJA/DvUw9qUDUDkg8wWHTEDQPqPmlKB6f4/+3yWOi+sBUBavERq4UMMQLVhH27xnBBAfwWOfm3eE0DummfvB08ZQAaUixg3DCFArKetlIYCJ0Cs7TuihhkoQB+fXFuzhCRAQi/iYYwnIUBZuHizlFYcQC1AvJM7WRhAg3T9xFgsFEA0HebAUMcPQGmxsGLKOwlAuRjZ7ZQ7BUAmhydNp3kAQNl7ZywnsfQ/bePIZtQK5j8GONhrav7QPxDDyUYoicG/tW4zfJCS3r80aRMuziHYv2KS/mjbLl+/fwV3ehhXxT+O1XwUPq7YP7JEdD4ju+w/6QCXA6269j/1X/IRTNf9P3eY3xv76wBA9MudvM6EAUC4nZXZbkcCQJZjjxetTAJAN+UlS5cWAUCXT334HoEAQPbZ2qEuTwBAxddFMwkvAEAgAG4tOAQAQIwWdH+UnP8/BWSLQ0Y//z+ZMGChRAf/P7Wo5GjCDf8/mQ+WHj5C/z+7FkMl7WP/Px29Y3brZP8/oy7TqCBM/z/lglFOVvr+P18JCfCU2P0/cmhc+6zJ/D8DIuChwy/6P76YinnXm/c/Z9o81bPt9T/nsnvwZn70P/MHGE0DxPM/L8l+pxuV8z/YaqQova7zP2CtsiQ0EfQ/P+H9lMkD9T+yagFyKrv2P/6hXMS+pwFA\",\"dtype\":\"float64\",\"shape\":[75]},\"y\":{\"__ndarray__\":\"GhExyth1ND/Sv8nbtpRIP2vylNV0PVE/aTum7souWD/At0SJ8fVgPw3Iuahxymc/MSNhhJWvcD/bTfBN02d3P2zb5nxnaoA/CD5h5MAGhz8NmeH1TyaQP+zrCsc9p5Y/LbKd76fGnz/bLW5ISEmmPww9YvTcQq8/JV2OstnstT8Er5Y7M8G+P0c+r3jqkcU/5h99k6ZBzj88bCIzFzjVP4enV8oyxN0//yH99nXg5D8qOpLLf0jtP5kqGJXUifQ/c9cS8kHP/D+/DpwzojQEQIEmwoanVwxA4lgXt9HgE0BSSZ2AJuIbQAMJih9jjiNA5q4l5INuK0AwTKYKRj0zQNv5fmq8/DpAaCJseHrtQkB/+zpwzoxKQM3MzMzMeFJAZmZmZmZqWEAAAAAAAFxeQM3MzMzMJmJAmpmZmZkfZUBmZmZmZhhoQDMzMzMzEWtAAAAAAAAKbkBmZmZmZoFwQM3MzMzM/XFAMzMzMzN6c0CamZmZmfZ0QAAAAAAAc3ZAZmZmZmbvd0DNzMzMzGt5QDMzMzMz6HpAmpmZmZlkfEAAAAAAAOF9QGZmZmZmXX9AZmZmZuZsgECamZmZGSuBQM3MzMxM6YFAAAAAAICngkAzMzMzs2WDQGZmZmbmI4RAmpmZmRnihEDNzMzMTKCFQAAAAACAXoZAMzMzM7Mch0BmZmZm5tqHQJqZmZkZmYhAzczMzExXiUAAAAAAgBWKQDMzMzOz04pAZmZmZuaRi0CamZmZGVCMQM3MzMxMDo1AAAAAAIDMjUAzMzMzs4qOQGZmZmbmSI9A\",\"dtype\":\"float64\",\"shape\":[75]}},\"selected\":{\"id\":\"9dfc0e14-d0bd-428b-ae62-533ad3e73a72\",\"type\":\"Selection\"},\"selection_policy\":{\"id\":\"87b3a08e-3101-4a9b-9afa-17c176ffad59\",\"type\":\"UnionRenderers\"}},\"id\":\"544fdb22-1b89-4231-97fe-4cb7e36fe93c\",\"type\":\"ColumnDataSource\"},{\"attributes\":{\"source\":{\"id\":\"69495cb0-1815-4cd3-96f4-a582142ae48c\",\"type\":\"ColumnDataSource\"}},\"id\":\"359745a6-9860-462e-bde9-c2cb7e1faa7f\",\"type\":\"CDSView\"},{\"attributes\":{},\"id\":\"0b78b9b2-653d-4cd9-a903-ec6009e98979\",\"type\":\"HelpTool\"},{\"attributes\":{\"line_color\":\"#4daf4a\",\"line_width\":1.5,\"x\":{\"field\":\"x\"},\"y\":{\"field\":\"y\"}},\"id\":\"79169faf-ed6d-4d16-b870-10e2bd23b655\",\"type\":\"Line\"},{\"attributes\":{\"callback\":null,\"data\":{\"x\":{\"__ndarray__\":\"R/KIaN7AVEClCeJMyPNGQOvRhpxr30JAptxzhxx4PkA7SssMElA4QK6Bp3CyUDNAsVXpjES9LkBFhUV0+5coQMHYwqbbySNA6f09nM3nH0CaSd/3eYoZQDmgiAOW8BNAPYqARh3eDEBkm4vCgvr+P9D+5tWhQfY/P8DwKRnSAkBq38kb17ILQDT7IWuSsxFAUr2Rjm0FFkAinq3s9XgbQGCHwtYcqSFAG64kT303J0C7dRDneyooQD9JYrbK8yRA9S3bneHhIUAIymSuUMMcQIkHLe6VEBdAAau3cITREkA6CiNvkQIPQJU39ki7IQlAaAvwok1UA0BXLQiS4+L7P0xzDpJ2hPI/NNuPGMbJ5z91mUVYxqfSPxqwUPSxZca/G11peifD3L8QzNj5t2jTvwzOozTL360/SPJ4VI1VzD9KJ0nXEIncP8yDdlvHt+4/Et49nYLW9z++2teD4Jn+P+568eH/bwFALf5D9lmAAkCiZAicVOkCQPPT4jNKxwJAOjp3wTzBAUBSQsKNGisBQG4OmjqJwQBAJ3sZoHFuAEA5Ar0Sdi0AQGy4rw5+9f8/7W4nSrC3/z8mPr8zj4T/P4UYRHCQS/8/embVKYcF/z+5YXG+LLP+P/qb8BVUgf4/KvafTtyO/j/avAK1Ppv+PwJV9VVm2P0/JFtYlU/n/D9sN+q2fiX6Pw44e41PNPc/Opt+Z/wN9T+x3vcSW1vzP9ofvWQJlvI/8sciQQBW8j80sfkQa17yPzg5qng2r/I/Oh14WJBh8z+VZjnpctj0P6CcrSuCqQBA\",\"dtype\":\"float64\",\"shape\":[75]},\"y\":{\"__ndarray__\":\"GhExyth1ND/Sv8nbtpRIP2vylNV0PVE/aTum7souWD/At0SJ8fVgPw3Iuahxymc/MSNhhJWvcD/bTfBN02d3P2zb5nxnaoA/CD5h5MAGhz8NmeH1TyaQP+zrCsc9p5Y/LbKd76fGnz/bLW5ISEmmPww9YvTcQq8/JV2OstnstT8Er5Y7M8G+P0c+r3jqkcU/5h99k6ZBzj88bCIzFzjVP4enV8oyxN0//yH99nXg5D8qOpLLf0jtP5kqGJXUifQ/c9cS8kHP/D+/DpwzojQEQIEmwoanVwxA4lgXt9HgE0BSSZ2AJuIbQAMJih9jjiNA5q4l5INuK0AwTKYKRj0zQNv5fmq8/DpAaCJseHrtQkB/+zpwzoxKQM3MzMzMeFJAZmZmZmZqWEAAAAAAAFxeQM3MzMzMJmJAmpmZmZkfZUBmZmZmZhhoQDMzMzMzEWtAAAAAAAAKbkBmZmZmZoFwQM3MzMzM/XFAMzMzMzN6c0CamZmZmfZ0QAAAAAAAc3ZAZmZmZmbvd0DNzMzMzGt5QDMzMzMz6HpAmpmZmZlkfEAAAAAAAOF9QGZmZmZmXX9AZmZmZuZsgECamZmZGSuBQM3MzMxM6YFAAAAAAICngkAzMzMzs2WDQGZmZmbmI4RAmpmZmRnihEDNzMzMTKCFQAAAAACAXoZAMzMzM7Mch0BmZmZm5tqHQJqZmZkZmYhAzczMzExXiUAAAAAAgBWKQDMzMzOz04pAZmZmZuaRi0CamZmZGVCMQM3MzMxMDo1AAAAAAIDMjUAzMzMzs4qOQGZmZmbmSI9A\",\"dtype\":\"float64\",\"shape\":[75]}},\"selected\":{\"id\":\"6e9d4530-66a2-4c2d-8c5c-8ee29ac3ae5b\",\"type\":\"Selection\"},\"selection_policy\":{\"id\":\"b29f0c2a-d4f4-48d8-ad9e-87a30f2fa892\",\"type\":\"UnionRenderers\"}},\"id\":\"69495cb0-1815-4cd3-96f4-a582142ae48c\",\"type\":\"ColumnDataSource\"},{\"attributes\":{},\"id\":\"6e9d4530-66a2-4c2d-8c5c-8ee29ac3ae5b\",\"type\":\"Selection\"},{\"attributes\":{},\"id\":\"41ff1739-4d32-48c4-999c-45ab40574057\",\"type\":\"ResetTool\"},{\"attributes\":{\"callback\":null,\"data\":{\"x\":{\"__ndarray__\":\"R/KIaN7AVEClCeJMyPNGQOvRhpxr30JAptxzhxx4PkA7SssMElA4QK6Bp3CyUDNAsVXpjES9LkBFhUV0+5coQMHYwqbbySNA6f09nM3nH0CaSd/3eYoZQDmgiAOW8BNAPYqARh3eDEBkm4vCgvr+P9D+5tWhQfY/P8DwKRnSAkBq38kb17ILQDT7IWuSsxFAUr2Rjm0FFkAinq3s9XgbQGCHwtYcqSFAG64kT303J0C7dRDneyooQD9JYrbK8yRA9S3bneHhIUAIymSuUMMcQIkHLe6VEBdAAau3cITREkA6CiNvkQIPQJU39ki7IQlAaAvwok1UA0BXLQiS4+L7P0xzDpJ2hPI/NNuPGMbJ5z91mUVYxqfSPxqwUPSxZca/G11peifD3L8QzNj5t2jTvwzOozTL360/SPJ4VI1VzD9KJ0nXEIncP8yDdlvHt+4/Et49nYLW9z++2teD4Jn+P+568eH/bwFALf5D9lmAAkCiZAicVOkCQPPT4jNKxwJAOjp3wTzBAUBSQsKNGisBQG4OmjqJwQBAJ3sZoHFuAEA5Ar0Sdi0AQGy4rw5+9f8/7W4nSrC3/z8mPr8zj4T/P4UYRHCQS/8/embVKYcF/z+5YXG+LLP+P/qb8BVUgf4/KvafTtyO/j/avAK1Ppv+PwJV9VVm2P0/JFtYlU/n/D9sN+q2fiX6Pw44e41PNPc/Opt+Z/wN9T+x3vcSW1vzP9ofvWQJlvI/8sciQQBW8j80sfkQa17yPzg5qng2r/I/Oh14WJBh8z+VZjnpctj0P6CcrSuCqQBA\",\"dtype\":\"float64\",\"shape\":[75]},\"y\":{\"__ndarray__\":\"GhExyth1ND/Sv8nbtpRIP2vylNV0PVE/aTum7souWD/At0SJ8fVgPw3Iuahxymc/MSNhhJWvcD/bTfBN02d3P2zb5nxnaoA/CD5h5MAGhz8NmeH1TyaQP+zrCsc9p5Y/LbKd76fGnz/bLW5ISEmmPww9YvTcQq8/JV2OstnstT8Er5Y7M8G+P0c+r3jqkcU/5h99k6ZBzj88bCIzFzjVP4enV8oyxN0//yH99nXg5D8qOpLLf0jtP5kqGJXUifQ/c9cS8kHP/D+/DpwzojQEQIEmwoanVwxA4lgXt9HgE0BSSZ2AJuIbQAMJih9jjiNA5q4l5INuK0AwTKYKRj0zQNv5fmq8/DpAaCJseHrtQkB/+zpwzoxKQM3MzMzMeFJAZmZmZmZqWEAAAAAAAFxeQM3MzMzMJmJAmpmZmZkfZUBmZmZmZhhoQDMzMzMzEWtAAAAAAAAKbkBmZmZmZoFwQM3MzMzM/XFAMzMzMzN6c0CamZmZmfZ0QAAAAAAAc3ZAZmZmZmbvd0DNzMzMzGt5QDMzMzMz6HpAmpmZmZlkfEAAAAAAAOF9QGZmZmZmXX9AZmZmZuZsgECamZmZGSuBQM3MzMxM6YFAAAAAAICngkAzMzMzs2WDQGZmZmbmI4RAmpmZmRnihEDNzMzMTKCFQAAAAACAXoZAMzMzM7Mch0BmZmZm5tqHQJqZmZkZmYhAzczMzExXiUAAAAAAgBWKQDMzMzOz04pAZmZmZuaRi0CamZmZGVCMQM3MzMxMDo1AAAAAAIDMjUAzMzMzs4qOQGZmZmbmSI9A\",\"dtype\":\"float64\",\"shape\":[75]}},\"selected\":{\"id\":\"f1a31be5-2415-41a3-bf44-33ea93e60406\",\"type\":\"Selection\"},\"selection_policy\":{\"id\":\"1a37e35c-4f11-4ed5-aba5-b401c5d7c1cf\",\"type\":\"UnionRenderers\"}},\"id\":\"3385ce92-0a88-4e2d-ab01-ef3944a04b95\",\"type\":\"ColumnDataSource\"},{\"attributes\":{\"source\":{\"id\":\"d7a7a1c7-baef-45f4-8b8b-d040ef260f2a\",\"type\":\"ColumnDataSource\"}},\"id\":\"13578cee-f7a6-490c-9c8d-c902505c059f\",\"type\":\"CDSView\"},{\"attributes\":{\"label\":{\"value\":\"CLIRAD (single-run) - CRD\"},\"renderers\":[{\"id\":\"e1ee25e7-4677-4a62-83d3-ffceeb525ac1\",\"type\":\"GlyphRenderer\"},{\"id\":\"8ff44cbc-9ce5-49c4-bba1-c80d4cf7e146\",\"type\":\"GlyphRenderer\"}]},\"id\":\"76617533-d223-4ad7-ac30-f9870cf17b31\",\"type\":\"LegendItem\"},{\"attributes\":{\"data_source\":{\"id\":\"544fdb22-1b89-4231-97fe-4cb7e36fe93c\",\"type\":\"ColumnDataSource\"},\"glyph\":{\"id\":\"08485cc5-041e-4385-bd0f-57cda6daeb07\",\"type\":\"Line\"},\"hover_glyph\":null,\"muted_glyph\":null,\"nonselection_glyph\":{\"id\":\"7584533e-273b-4541-90b1-6ef26dae9f55\",\"type\":\"Line\"},\"selection_glyph\":null,\"view\":{\"id\":\"cec43752-f7bc-46f2-a025-dbe949023525\",\"type\":\"CDSView\"}},\"id\":\"82d062ce-9886-4642-90d2-68185e1cc87a\",\"type\":\"GlyphRenderer\"},{\"attributes\":{},\"id\":\"696bc9ae-170b-4586-aa14-d0da7912f47e\",\"type\":\"WheelZoomTool\"},{\"attributes\":{\"plot\":null,\"text\":\"\"},\"id\":\"5f46282c-dc5f-4b64-bdf3-013ec6734fe0\",\"type\":\"Title\"},{\"attributes\":{\"children\":[{\"id\":\"ab4bf672-3b95-4308-ad5d-b17adc5c1cbc\",\"subtype\":\"Figure\",\"type\":\"Plot\"},{\"id\":\"77c62378-1ef2-49e9-bed2-7e5229f59a36\",\"subtype\":\"Figure\",\"type\":\"Plot\"},{\"id\":\"28a5548f-9779-449a-a712-d2fbd934628d\",\"subtype\":\"Figure\",\"type\":\"Plot\"}]},\"id\":\"894bb518-6013-4553-a5e6-2becc1f4fa89\",\"type\":\"Row\"},{\"attributes\":{},\"id\":\"86b73e1e-0340-4d11-8b7e-6c4be90732da\",\"type\":\"HelpTool\"},{\"attributes\":{},\"id\":\"12acd191-b396-4df2-883f-8cd3ec7d452d\",\"type\":\"BasicTickFormatter\"},{\"attributes\":{\"data_source\":{\"id\":\"3385ce92-0a88-4e2d-ab01-ef3944a04b95\",\"type\":\"ColumnDataSource\"},\"glyph\":{\"id\":\"79169faf-ed6d-4d16-b870-10e2bd23b655\",\"type\":\"Line\"},\"hover_glyph\":null,\"muted_glyph\":null,\"nonselection_glyph\":{\"id\":\"61ea5b45-2590-4721-bf1a-21ed31734111\",\"type\":\"Line\"},\"selection_glyph\":null,\"view\":{\"id\":\"d4f58344-b47d-4159-b6c0-6910f91727eb\",\"type\":\"CDSView\"}},\"id\":\"d2169414-18a3-4ec2-a271-ed96c79095ff\",\"type\":\"GlyphRenderer\"},{\"attributes\":{},\"id\":\"027d5ea5-9346-4b6c-a2b9-9b9a4b9af039\",\"type\":\"PanTool\"},{\"attributes\":{\"axis_label\":\"cooling rate [K/day]\",\"formatter\":{\"id\":\"f199cf4d-8225-4daa-8d9e-9caaa8b227aa\",\"type\":\"BasicTickFormatter\"},\"plot\":{\"id\":\"ab4bf672-3b95-4308-ad5d-b17adc5c1cbc\",\"subtype\":\"Figure\",\"type\":\"Plot\"},\"ticker\":{\"id\":\"a8cfe604-636f-4585-87a5-9335d20dac2d\",\"type\":\"BasicTicker\"}},\"id\":\"cf597f45-2568-4547-9404-83e9b56146db\",\"type\":\"LinearAxis\"},{\"attributes\":{\"source\":{\"id\":\"eacef15f-220f-40a2-b549-5ac036f135b5\",\"type\":\"ColumnDataSource\"}},\"id\":\"bce060a7-6cca-4a84-9b62-adcc4d0b78a9\",\"type\":\"CDSView\"},{\"attributes\":{},\"id\":\"47153eca-41b3-4e9a-8213-f2cb24fd7869\",\"type\":\"UnionRenderers\"},{\"attributes\":{\"plot\":{\"id\":\"77c62378-1ef2-49e9-bed2-7e5229f59a36\",\"subtype\":\"Figure\",\"type\":\"Plot\"},\"ticker\":{\"id\":\"3a7ac882-9340-4f6d-b43e-26d7b6549649\",\"type\":\"BasicTicker\"}},\"id\":\"e93627bc-b518-4010-b262-1920021500d9\",\"type\":\"Grid\"},{\"attributes\":{\"plot\":{\"id\":\"28a5548f-9779-449a-a712-d2fbd934628d\",\"subtype\":\"Figure\",\"type\":\"Plot\"},\"ticker\":{\"id\":\"7caa6499-5372-4548-aac3-311b72d88dd4\",\"type\":\"BasicTicker\"}},\"id\":\"8423ad79-cad4-4723-9cc2-e8806b1823da\",\"type\":\"Grid\"},{\"attributes\":{\"callback\":null,\"end\":0.5596213662811859,\"start\":-1.3413269281465863},\"id\":\"e9429ffb-f587-4394-be37-489b2e48b4c0\",\"type\":\"Range1d\"},{\"attributes\":{},\"id\":\"f34b2f8f-2a22-4188-ae9a-a008672d0c36\",\"type\":\"PanTool\"},{\"attributes\":{\"data_source\":{\"id\":\"333006c2-640d-497f-b8cf-a3134bce6aba\",\"type\":\"ColumnDataSource\"},\"glyph\":{\"id\":\"bec1c366-3503-4796-a781-5dbf32b03906\",\"type\":\"Circle\"},\"hover_glyph\":null,\"muted_glyph\":null,\"nonselection_glyph\":{\"id\":\"3d8900c4-a2d8-418f-867a-e3318b178c81\",\"type\":\"Circle\"},\"selection_glyph\":null,\"view\":{\"id\":\"fe269f8a-0885-4aa6-b211-bed345ebd5e4\",\"type\":\"CDSView\"}},\"id\":\"9765d4aa-c906-4bd9-a310-0e019eaa3454\",\"type\":\"GlyphRenderer\"},{\"attributes\":{},\"id\":\"45130157-1aca-4e6b-b472-2f091c6d58cd\",\"type\":\"LogScale\"},{\"attributes\":{},\"id\":\"57e3a8c3-7d03-4e41-b97e-3442f3ddf618\",\"type\":\"BasicTicker\"},{\"attributes\":{\"active_drag\":\"auto\",\"active_inspect\":\"auto\",\"active_scroll\":\"auto\",\"active_tap\":\"auto\",\"tools\":[{\"id\":\"f34b2f8f-2a22-4188-ae9a-a008672d0c36\",\"type\":\"PanTool\"},{\"id\":\"96f16410-d6f9-49f5-bc86-5b15376abeca\",\"type\":\"WheelZoomTool\"},{\"id\":\"2b7ff889-c9bf-4694-afa3-6a8a3b43c41d\",\"type\":\"BoxZoomTool\"},{\"id\":\"0519b40e-6e5a-458a-9db4-17a8b9db3f02\",\"type\":\"SaveTool\"},{\"id\":\"1d82ad56-b9d7-4dd5-a0c1-a45484b2f436\",\"type\":\"ResetTool\"},{\"id\":\"0b78b9b2-653d-4cd9-a903-ec6009e98979\",\"type\":\"HelpTool\"}]},\"id\":\"419ac84d-9f1f-45bb-bbcf-745d730e93cc\",\"type\":\"Toolbar\"},{\"attributes\":{},\"id\":\"7caa6499-5372-4548-aac3-311b72d88dd4\",\"type\":\"BasicTicker\"},{\"attributes\":{\"active_drag\":\"auto\",\"active_inspect\":\"auto\",\"active_scroll\":\"auto\",\"active_tap\":\"auto\",\"tools\":[{\"id\":\"d6c170cb-cea6-4be1-b1ec-bb2bac15770d\",\"type\":\"PanTool\"},{\"id\":\"6b4639d5-2f3b-4de0-ad3b-182b4d063ee2\",\"type\":\"WheelZoomTool\"},{\"id\":\"ff04a234-6c8f-4bef-ab11-ac04875dfccb\",\"type\":\"BoxZoomTool\"},{\"id\":\"90850f4f-004f-4e1c-8265-98daea31fb1c\",\"type\":\"SaveTool\"},{\"id\":\"cb70c0f7-8cc4-4f9f-ba33-edc002e94191\",\"type\":\"ResetTool\"},{\"id\":\"0d39da40-5828-43f2-9cc1-3b8f7e0afc26\",\"type\":\"HelpTool\"}]},\"id\":\"c97e3f57-0e0f-46f6-8f8b-a4a83b5af059\",\"type\":\"Toolbar\"},{\"attributes\":{\"dimension\":1,\"plot\":{\"id\":\"ab4bf672-3b95-4308-ad5d-b17adc5c1cbc\",\"subtype\":\"Figure\",\"type\":\"Plot\"},\"ticker\":{\"id\":\"57e3a8c3-7d03-4e41-b97e-3442f3ddf618\",\"type\":\"BasicTicker\"}},\"id\":\"84d800e7-1272-432e-b317-7968877ce064\",\"type\":\"Grid\"},{\"attributes\":{\"items\":[{\"id\":\"76617533-d223-4ad7-ac30-f9870cf17b31\",\"type\":\"LegendItem\"}],\"label_text_font_size\":{\"value\":\"8pt\"},\"location\":\"top_center\",\"orientation\":\"horizontal\",\"plot\":{\"id\":\"28a5548f-9779-449a-a712-d2fbd934628d\",\"subtype\":\"Figure\",\"type\":\"Plot\"}},\"id\":\"7e8b0668-24af-41b2-96b7-2f14b17ac282\",\"type\":\"Legend\"},{\"attributes\":{},\"id\":\"f199cf4d-8225-4daa-8d9e-9caaa8b227aa\",\"type\":\"BasicTickFormatter\"},{\"attributes\":{\"above\":[{\"id\":\"67a26555-7f48-4304-b2db-f2834be8c327\",\"type\":\"Legend\"}],\"below\":[{\"id\":\"cf597f45-2568-4547-9404-83e9b56146db\",\"type\":\"LinearAxis\"}],\"left\":[{\"id\":\"13bfea95-93ab-4a41-aa55-5890703565b4\",\"type\":\"LinearAxis\"}],\"plot_width\":300,\"renderers\":[{\"id\":\"cf597f45-2568-4547-9404-83e9b56146db\",\"type\":\"LinearAxis\"},{\"id\":\"4cf142f7-09ef-4c16-a291-fb3564041e57\",\"type\":\"Grid\"},{\"id\":\"13bfea95-93ab-4a41-aa55-5890703565b4\",\"type\":\"LinearAxis\"},{\"id\":\"84d800e7-1272-432e-b317-7968877ce064\",\"type\":\"Grid\"},{\"id\":\"2e3d6a66-757b-485a-90e6-37558b7c59d4\",\"type\":\"BoxAnnotation\"},{\"id\":\"b635bfb8-b23d-43df-9801-c8c77f09ec5b\",\"type\":\"GlyphRenderer\"},{\"id\":\"1ccf23a6-b4d0-49da-9c28-9c0199b95e87\",\"type\":\"GlyphRenderer\"},{\"id\":\"d2169414-18a3-4ec2-a271-ed96c79095ff\",\"type\":\"GlyphRenderer\"},{\"id\":\"67a26555-7f48-4304-b2db-f2834be8c327\",\"type\":\"Legend\"}],\"title\":{\"id\":\"5f46282c-dc5f-4b64-bdf3-013ec6734fe0\",\"type\":\"Title\"},\"toolbar\":{\"id\":\"419ac84d-9f1f-45bb-bbcf-745d730e93cc\",\"type\":\"Toolbar\"},\"toolbar_location\":null,\"x_range\":{\"id\":\"1a0009a1-5ccd-46bf-a16f-a13742ec74c1\",\"type\":\"Range1d\"},\"x_scale\":{\"id\":\"27e57dca-f993-4717-824b-de85c5518494\",\"type\":\"LinearScale\"},\"y_range\":{\"id\":\"83f3a430-681c-40d8-a8a2-628a76810d95\",\"type\":\"Range1d\"},\"y_scale\":{\"id\":\"eaea032a-4f3b-4afc-bf65-3e3ed61d7830\",\"type\":\"LinearScale\"}},\"id\":\"ab4bf672-3b95-4308-ad5d-b17adc5c1cbc\",\"subtype\":\"Figure\",\"type\":\"Plot\"},{\"attributes\":{},\"id\":\"ef75b3b8-8012-41e4-93ac-4b4a41e92ab3\",\"type\":\"LinearScale\"},{\"attributes\":{\"axis_label\":\"cooling rate [K/day]\",\"formatter\":{\"id\":\"45c9cb7b-6299-4d88-8cb4-2bd573c152df\",\"type\":\"BasicTickFormatter\"},\"plot\":{\"id\":\"28a5548f-9779-449a-a712-d2fbd934628d\",\"subtype\":\"Figure\",\"type\":\"Plot\"},\"ticker\":{\"id\":\"7caa6499-5372-4548-aac3-311b72d88dd4\",\"type\":\"BasicTicker\"}},\"id\":\"001d424a-2f2e-4469-9ffa-17aca59f155e\",\"type\":\"LinearAxis\"},{\"attributes\":{},\"id\":\"0519b40e-6e5a-458a-9db4-17a8b9db3f02\",\"type\":\"SaveTool\"},{\"attributes\":{\"line_alpha\":0.6,\"line_color\":\"#377eb8\",\"line_dash\":[6],\"line_width\":5,\"x\":{\"field\":\"x\"},\"y\":{\"field\":\"y\"}},\"id\":\"f6683294-53f0-4aeb-93d5-cf7a044b63c4\",\"type\":\"Line\"},{\"attributes\":{\"callback\":null,\"end\":0.01,\"start\":1020},\"id\":\"e074f597-f314-44d5-8453-d86df6bc5cb0\",\"type\":\"Range1d\"},{\"attributes\":{},\"id\":\"37420306-1d38-4ab4-811e-1f877ef5416d\",\"type\":\"UnionRenderers\"},{\"attributes\":{\"tools\":[{\"id\":\"f34b2f8f-2a22-4188-ae9a-a008672d0c36\",\"type\":\"PanTool\"},{\"id\":\"96f16410-d6f9-49f5-bc86-5b15376abeca\",\"type\":\"WheelZoomTool\"},{\"id\":\"2b7ff889-c9bf-4694-afa3-6a8a3b43c41d\",\"type\":\"BoxZoomTool\"},{\"id\":\"0519b40e-6e5a-458a-9db4-17a8b9db3f02\",\"type\":\"SaveTool\"},{\"id\":\"1d82ad56-b9d7-4dd5-a0c1-a45484b2f436\",\"type\":\"ResetTool\"},{\"id\":\"0b78b9b2-653d-4cd9-a903-ec6009e98979\",\"type\":\"HelpTool\"},{\"id\":\"027d5ea5-9346-4b6c-a2b9-9b9a4b9af039\",\"type\":\"PanTool\"},{\"id\":\"696bc9ae-170b-4586-aa14-d0da7912f47e\",\"type\":\"WheelZoomTool\"},{\"id\":\"cb093aa7-324b-4a28-af4d-be5a0bea9a35\",\"type\":\"BoxZoomTool\"},{\"id\":\"12121cb7-5e33-43a5-b069-ed3a90d24aea\",\"type\":\"SaveTool\"},{\"id\":\"41ff1739-4d32-48c4-999c-45ab40574057\",\"type\":\"ResetTool\"},{\"id\":\"86b73e1e-0340-4d11-8b7e-6c4be90732da\",\"type\":\"HelpTool\"},{\"id\":\"d6c170cb-cea6-4be1-b1ec-bb2bac15770d\",\"type\":\"PanTool\"},{\"id\":\"6b4639d5-2f3b-4de0-ad3b-182b4d063ee2\",\"type\":\"WheelZoomTool\"},{\"id\":\"ff04a234-6c8f-4bef-ab11-ac04875dfccb\",\"type\":\"BoxZoomTool\"},{\"id\":\"90850f4f-004f-4e1c-8265-98daea31fb1c\",\"type\":\"SaveTool\"},{\"id\":\"cb70c0f7-8cc4-4f9f-ba33-edc002e94191\",\"type\":\"ResetTool\"},{\"id\":\"0d39da40-5828-43f2-9cc1-3b8f7e0afc26\",\"type\":\"HelpTool\"}]},\"id\":\"19131e47-4832-48a0-87d1-e0eb76628dcc\",\"type\":\"ProxyToolbar\"},{\"attributes\":{\"label\":{\"value\":\"CLIRAD (single-run)\"},\"renderers\":[{\"id\":\"b635bfb8-b23d-43df-9801-c8c77f09ec5b\",\"type\":\"GlyphRenderer\"}]},\"id\":\"3e484cd0-9533-482e-b120-5f0ac84d8927\",\"type\":\"LegendItem\"},{\"attributes\":{},\"id\":\"96f16410-d6f9-49f5-bc86-5b15376abeca\",\"type\":\"WheelZoomTool\"},{\"attributes\":{\"plot\":null,\"text\":\"\"},\"id\":\"c1431c35-aa17-4f70-ab35-dfd2b5837c28\",\"type\":\"Title\"},{\"attributes\":{\"label\":{\"value\":\"CRD\"},\"renderers\":[{\"id\":\"9765d4aa-c906-4bd9-a310-0e019eaa3454\",\"type\":\"GlyphRenderer\"},{\"id\":\"2c5feff5-30a2-45ed-bfd4-f7a9ce7464af\",\"type\":\"GlyphRenderer\"}]},\"id\":\"4c9cb388-2e7a-4c37-9c5e-babf82466087\",\"type\":\"LegendItem\"},{\"attributes\":{\"ticker\":null},\"id\":\"a07643f4-9430-485e-8aa3-ebc0bd26ef8d\",\"type\":\"LogTickFormatter\"},{\"attributes\":{\"overlay\":{\"id\":\"2e3d6a66-757b-485a-90e6-37558b7c59d4\",\"type\":\"BoxAnnotation\"}},\"id\":\"2b7ff889-c9bf-4694-afa3-6a8a3b43c41d\",\"type\":\"BoxZoomTool\"},{\"attributes\":{\"label\":{\"value\":\"CLIRAD (single-run)\"},\"renderers\":[{\"id\":\"82d062ce-9886-4642-90d2-68185e1cc87a\",\"type\":\"GlyphRenderer\"}]},\"id\":\"8b782a8e-2094-4af4-afda-5027e2628afb\",\"type\":\"LegendItem\"},{\"attributes\":{\"fill_alpha\":{\"value\":0.1},\"fill_color\":{\"value\":\"#1f77b4\"},\"line_alpha\":{\"value\":0.1},\"line_color\":{\"value\":\"#1f77b4\"},\"x\":{\"field\":\"x\"},\"y\":{\"field\":\"y\"}},\"id\":\"469eee80-038f-4f38-893c-d11bc0a2c6d0\",\"type\":\"Circle\"},{\"attributes\":{\"above\":[{\"id\":\"ee3697e6-2098-421b-ad0d-deb5c44c7640\",\"type\":\"Legend\"}],\"below\":[{\"id\":\"21e11cc7-091e-44af-867c-3e2e3c518301\",\"type\":\"LinearAxis\"}],\"left\":[{\"id\":\"9f0ce243-ce94-4cec-928d-29262ac3ed07\",\"type\":\"LogAxis\"}],\"plot_width\":300,\"renderers\":[{\"id\":\"21e11cc7-091e-44af-867c-3e2e3c518301\",\"type\":\"LinearAxis\"},{\"id\":\"e93627bc-b518-4010-b262-1920021500d9\",\"type\":\"Grid\"},{\"id\":\"9f0ce243-ce94-4cec-928d-29262ac3ed07\",\"type\":\"LogAxis\"},{\"id\":\"55ac6a1f-20a4-40f2-8a52-5c588955babc\",\"type\":\"Grid\"},{\"id\":\"e4bd950b-4418-428b-97f9-a1740bb423e8\",\"type\":\"BoxAnnotation\"},{\"id\":\"82d062ce-9886-4642-90d2-68185e1cc87a\",\"type\":\"GlyphRenderer\"},{\"id\":\"9765d4aa-c906-4bd9-a310-0e019eaa3454\",\"type\":\"GlyphRenderer\"},{\"id\":\"2c5feff5-30a2-45ed-bfd4-f7a9ce7464af\",\"type\":\"GlyphRenderer\"},{\"id\":\"ee3697e6-2098-421b-ad0d-deb5c44c7640\",\"type\":\"Legend\"}],\"title\":{\"id\":\"92dec67c-19a8-46ae-8c8d-77cb7e51877b\",\"type\":\"Title\"},\"toolbar\":{\"id\":\"8a13789f-4c5a-4d7e-9e88-447bbadc5dd1\",\"type\":\"Toolbar\"},\"toolbar_location\":null,\"x_range\":{\"id\":\"704db817-bb06-470a-87b5-10e2d58b6f44\",\"type\":\"Range1d\"},\"x_scale\":{\"id\":\"f2cb4c69-cceb-460e-97fe-116ade205e50\",\"type\":\"LinearScale\"},\"y_range\":{\"id\":\"e074f597-f314-44d5-8453-d86df6bc5cb0\",\"type\":\"Range1d\"},\"y_scale\":{\"id\":\"5d424c5c-547e-4887-9d01-d7122188771d\",\"type\":\"LogScale\"}},\"id\":\"77c62378-1ef2-49e9-bed2-7e5229f59a36\",\"subtype\":\"Figure\",\"type\":\"Plot\"},{\"attributes\":{\"data_source\":{\"id\":\"d7a7a1c7-baef-45f4-8b8b-d040ef260f2a\",\"type\":\"ColumnDataSource\"},\"glyph\":{\"id\":\"f6683294-53f0-4aeb-93d5-cf7a044b63c4\",\"type\":\"Line\"},\"hover_glyph\":null,\"muted_glyph\":null,\"nonselection_glyph\":{\"id\":\"f65eb859-7ae8-4f93-a357-39edd7f22595\",\"type\":\"Line\"},\"selection_glyph\":null,\"view\":{\"id\":\"13578cee-f7a6-490c-9c8d-c902505c059f\",\"type\":\"CDSView\"}},\"id\":\"b635bfb8-b23d-43df-9801-c8c77f09ec5b\",\"type\":\"GlyphRenderer\"},{\"attributes\":{\"toolbar\":{\"id\":\"19131e47-4832-48a0-87d1-e0eb76628dcc\",\"type\":\"ProxyToolbar\"},\"toolbar_location\":\"above\"},\"id\":\"960eab39-e716-47d1-9dc6-79609b7981d9\",\"type\":\"ToolbarBox\"},{\"attributes\":{\"line_alpha\":0.1,\"line_color\":\"#1f77b4\",\"line_dash\":[6],\"line_width\":5,\"x\":{\"field\":\"x\"},\"y\":{\"field\":\"y\"}},\"id\":\"7584533e-273b-4541-90b1-6ef26dae9f55\",\"type\":\"Line\"},{\"attributes\":{\"active_drag\":\"auto\",\"active_inspect\":\"auto\",\"active_scroll\":\"auto\",\"active_tap\":\"auto\",\"tools\":[{\"id\":\"027d5ea5-9346-4b6c-a2b9-9b9a4b9af039\",\"type\":\"PanTool\"},{\"id\":\"696bc9ae-170b-4586-aa14-d0da7912f47e\",\"type\":\"WheelZoomTool\"},{\"id\":\"cb093aa7-324b-4a28-af4d-be5a0bea9a35\",\"type\":\"BoxZoomTool\"},{\"id\":\"12121cb7-5e33-43a5-b069-ed3a90d24aea\",\"type\":\"SaveTool\"},{\"id\":\"41ff1739-4d32-48c4-999c-45ab40574057\",\"type\":\"ResetTool\"},{\"id\":\"86b73e1e-0340-4d11-8b7e-6c4be90732da\",\"type\":\"HelpTool\"}]},\"id\":\"8a13789f-4c5a-4d7e-9e88-447bbadc5dd1\",\"type\":\"Toolbar\"},{\"attributes\":{},\"id\":\"1d82ad56-b9d7-4dd5-a0c1-a45484b2f436\",\"type\":\"ResetTool\"},{\"attributes\":{\"children\":[{\"id\":\"960eab39-e716-47d1-9dc6-79609b7981d9\",\"type\":\"ToolbarBox\"},{\"id\":\"59fb04aa-8c3e-4627-b6c6-94065beae731\",\"type\":\"Column\"}]},\"id\":\"a80d0376-9948-4105-ae4a-c8bd632a8bbc\",\"type\":\"Column\"},{\"attributes\":{},\"id\":\"fd29c159-1ca1-43ad-ba82-574c44e92c6a\",\"type\":\"Selection\"},{\"attributes\":{\"callback\":null,\"end\":0.01,\"start\":1020},\"id\":\"83f3a430-681c-40d8-a8a2-628a76810d95\",\"type\":\"Range1d\"},{\"attributes\":{},\"id\":\"45c9cb7b-6299-4d88-8cb4-2bd573c152df\",\"type\":\"BasicTickFormatter\"},{\"attributes\":{\"source\":{\"id\":\"3385ce92-0a88-4e2d-ab01-ef3944a04b95\",\"type\":\"ColumnDataSource\"}},\"id\":\"d4f58344-b47d-4159-b6c0-6910f91727eb\",\"type\":\"CDSView\"},{\"attributes\":{},\"id\":\"be2ddae4-ebe1-4d4e-ba95-37abfcca8dbe\",\"type\":\"UnionRenderers\"},{\"attributes\":{\"fill_alpha\":{\"value\":0.7},\"fill_color\":{\"value\":\"#4daf4a\"},\"line_alpha\":{\"value\":0.7},\"line_color\":{\"value\":\"#4daf4a\"},\"x\":{\"field\":\"x\"},\"y\":{\"field\":\"y\"}},\"id\":\"5adf87f9-99fa-4e8d-9ee8-365ec362b88e\",\"type\":\"Circle\"},{\"attributes\":{},\"id\":\"0d4e0de1-3507-400e-98a0-5bc92881ba61\",\"type\":\"Selection\"},{\"attributes\":{},\"id\":\"0d39da40-5828-43f2-9cc1-3b8f7e0afc26\",\"type\":\"HelpTool\"},{\"attributes\":{\"callback\":null,\"data\":{\"x\":{\"__ndarray__\":\"liAxAAmFRUA7boauBNNCQEpiRRJTtEFAvhK5RygdQEAnn9x/ChY8QBsyIRqUKjdAMD0zOB7pMUDEt3KX3QQqQE5PBNB3SCJA6NjTUF6dGkDTtUfiLzsVQL0Sjm8nBhJA/DvUw9qUDUDkg8wWHTEDQPqPmlKB6f4/+3yWOi+sBUBavERq4UMMQLVhH27xnBBAfwWOfm3eE0DummfvB08ZQAaUixg3DCFArKetlIYCJ0Cs7TuihhkoQB+fXFuzhCRAQi/iYYwnIUBZuHizlFYcQC1AvJM7WRhAg3T9xFgsFEA0HebAUMcPQGmxsGLKOwlAuRjZ7ZQ7BUAmhydNp3kAQNl7ZywnsfQ/bePIZtQK5j8GONhrav7QPxDDyUYoicG/tW4zfJCS3r80aRMuziHYv2KS/mjbLl+/fwV3ehhXxT+O1XwUPq7YP7JEdD4ju+w/6QCXA6269j/1X/IRTNf9P3eY3xv76wBA9MudvM6EAUC4nZXZbkcCQJZjjxetTAJAN+UlS5cWAUCXT334HoEAQPbZ2qEuTwBAxddFMwkvAEAgAG4tOAQAQIwWdH+UnP8/BWSLQ0Y//z+ZMGChRAf/P7Wo5GjCDf8/mQ+WHj5C/z+7FkMl7WP/Px29Y3brZP8/oy7TqCBM/z/lglFOVvr+P18JCfCU2P0/cmhc+6zJ/D8DIuChwy/6P76YinnXm/c/Z9o81bPt9T/nsnvwZn70P/MHGE0DxPM/L8l+pxuV8z/YaqQova7zP2CtsiQ0EfQ/P+H9lMkD9T+yagFyKrv2P/6hXMS+pwFA\",\"dtype\":\"float64\",\"shape\":[75]},\"y\":{\"__ndarray__\":\"GhExyth1ND/Sv8nbtpRIP2vylNV0PVE/aTum7souWD/At0SJ8fVgPw3Iuahxymc/MSNhhJWvcD/bTfBN02d3P2zb5nxnaoA/CD5h5MAGhz8NmeH1TyaQP+zrCsc9p5Y/LbKd76fGnz/bLW5ISEmmPww9YvTcQq8/JV2OstnstT8Er5Y7M8G+P0c+r3jqkcU/5h99k6ZBzj88bCIzFzjVP4enV8oyxN0//yH99nXg5D8qOpLLf0jtP5kqGJXUifQ/c9cS8kHP/D+/DpwzojQEQIEmwoanVwxA4lgXt9HgE0BSSZ2AJuIbQAMJih9jjiNA5q4l5INuK0AwTKYKRj0zQNv5fmq8/DpAaCJseHrtQkB/+zpwzoxKQM3MzMzMeFJAZmZmZmZqWEAAAAAAAFxeQM3MzMzMJmJAmpmZmZkfZUBmZmZmZhhoQDMzMzMzEWtAAAAAAAAKbkBmZmZmZoFwQM3MzMzM/XFAMzMzMzN6c0CamZmZmfZ0QAAAAAAAc3ZAZmZmZmbvd0DNzMzMzGt5QDMzMzMz6HpAmpmZmZlkfEAAAAAAAOF9QGZmZmZmXX9AZmZmZuZsgECamZmZGSuBQM3MzMxM6YFAAAAAAICngkAzMzMzs2WDQGZmZmbmI4RAmpmZmRnihEDNzMzMTKCFQAAAAACAXoZAMzMzM7Mch0BmZmZm5tqHQJqZmZkZmYhAzczMzExXiUAAAAAAgBWKQDMzMzOz04pAZmZmZuaRi0CamZmZGVCMQM3MzMxMDo1AAAAAAIDMjUAzMzMzs4qOQGZmZmbmSI9A\",\"dtype\":\"float64\",\"shape\":[75]}},\"selected\":{\"id\":\"06e2fbfc-64a3-43b7-a502-3bc082073eb8\",\"type\":\"Selection\"},\"selection_policy\":{\"id\":\"47153eca-41b3-4e9a-8213-f2cb24fd7869\",\"type\":\"UnionRenderers\"}},\"id\":\"d7a7a1c7-baef-45f4-8b8b-d040ef260f2a\",\"type\":\"ColumnDataSource\"},{\"attributes\":{\"line_color\":\"#4daf4a\",\"line_width\":1.5,\"x\":{\"field\":\"x\"},\"y\":{\"field\":\"y\"}},\"id\":\"e727d17d-be7d-4c20-86a0-3f33169469f0\",\"type\":\"Line\"},{\"attributes\":{\"bottom_units\":\"screen\",\"fill_alpha\":{\"value\":0.5},\"fill_color\":{\"value\":\"lightgrey\"},\"left_units\":\"screen\",\"level\":\"overlay\",\"line_alpha\":{\"value\":1.0},\"line_color\":{\"value\":\"black\"},\"line_dash\":[4,4],\"line_width\":{\"value\":2},\"plot\":null,\"render_mode\":\"css\",\"right_units\":\"screen\",\"top_units\":\"screen\"},\"id\":\"565540a4-2910-4456-93d6-1ae9246ca9ce\",\"type\":\"BoxAnnotation\"},{\"attributes\":{\"label\":{\"value\":\"CRD\"},\"renderers\":[{\"id\":\"1ccf23a6-b4d0-49da-9c28-9c0199b95e87\",\"type\":\"GlyphRenderer\"},{\"id\":\"d2169414-18a3-4ec2-a271-ed96c79095ff\",\"type\":\"GlyphRenderer\"}]},\"id\":\"7bf6d41c-819e-48a3-834c-9a2fb9008cd0\",\"type\":\"LegendItem\"},{\"attributes\":{},\"id\":\"7025e7e8-edf0-41b7-9f49-b0a93885029a\",\"type\":\"UnionRenderers\"},{\"attributes\":{\"above\":[{\"id\":\"7e8b0668-24af-41b2-96b7-2f14b17ac282\",\"type\":\"Legend\"}],\"below\":[{\"id\":\"001d424a-2f2e-4469-9ffa-17aca59f155e\",\"type\":\"LinearAxis\"}],\"left\":[{\"id\":\"2973c235-d128-4f50-9d48-2cafc8055a5f\",\"type\":\"LogAxis\"}],\"plot_width\":300,\"renderers\":[{\"id\":\"001d424a-2f2e-4469-9ffa-17aca59f155e\",\"type\":\"LinearAxis\"},{\"id\":\"8423ad79-cad4-4723-9cc2-e8806b1823da\",\"type\":\"Grid\"},{\"id\":\"2973c235-d128-4f50-9d48-2cafc8055a5f\",\"type\":\"LogAxis\"},{\"id\":\"c2320b59-ac50-45a8-a2c6-53cae266297f\",\"type\":\"Grid\"},{\"id\":\"565540a4-2910-4456-93d6-1ae9246ca9ce\",\"type\":\"BoxAnnotation\"},{\"id\":\"e1ee25e7-4677-4a62-83d3-ffceeb525ac1\",\"type\":\"GlyphRenderer\"},{\"id\":\"8ff44cbc-9ce5-49c4-bba1-c80d4cf7e146\",\"type\":\"GlyphRenderer\"},{\"id\":\"7e8b0668-24af-41b2-96b7-2f14b17ac282\",\"type\":\"Legend\"}],\"title\":{\"id\":\"c1431c35-aa17-4f70-ab35-dfd2b5837c28\",\"type\":\"Title\"},\"toolbar\":{\"id\":\"c97e3f57-0e0f-46f6-8f8b-a4a83b5af059\",\"type\":\"Toolbar\"},\"toolbar_location\":null,\"x_range\":{\"id\":\"e9429ffb-f587-4394-be37-489b2e48b4c0\",\"type\":\"Range1d\"},\"x_scale\":{\"id\":\"ef75b3b8-8012-41e4-93ac-4b4a41e92ab3\",\"type\":\"LinearScale\"},\"y_range\":{\"id\":\"8d92d700-2c70-4b5d-a582-78dd12895153\",\"type\":\"Range1d\"},\"y_scale\":{\"id\":\"45130157-1aca-4e6b-b472-2f091c6d58cd\",\"type\":\"LogScale\"}},\"id\":\"28a5548f-9779-449a-a712-d2fbd934628d\",\"subtype\":\"Figure\",\"type\":\"Plot\"},{\"attributes\":{\"plot\":{\"id\":\"ab4bf672-3b95-4308-ad5d-b17adc5c1cbc\",\"subtype\":\"Figure\",\"type\":\"Plot\"},\"ticker\":{\"id\":\"a8cfe604-636f-4585-87a5-9335d20dac2d\",\"type\":\"BasicTicker\"}},\"id\":\"4cf142f7-09ef-4c16-a291-fb3564041e57\",\"type\":\"Grid\"},{\"attributes\":{},\"id\":\"f2cb4c69-cceb-460e-97fe-116ade205e50\",\"type\":\"LinearScale\"},{\"attributes\":{\"axis_label\":\"cooling rate [K/day]\",\"formatter\":{\"id\":\"2a7f4578-d775-45cc-a2cc-6e3e8269cc00\",\"type\":\"BasicTickFormatter\"},\"plot\":{\"id\":\"77c62378-1ef2-49e9-bed2-7e5229f59a36\",\"subtype\":\"Figure\",\"type\":\"Plot\"},\"ticker\":{\"id\":\"3a7ac882-9340-4f6d-b43e-26d7b6549649\",\"type\":\"BasicTicker\"}},\"id\":\"21e11cc7-091e-44af-867c-3e2e3c518301\",\"type\":\"LinearAxis\"},{\"attributes\":{\"line_alpha\":0.8,\"line_color\":\"#984ea3\",\"line_width\":1.5,\"x\":{\"field\":\"x\"},\"y\":{\"field\":\"y\"}},\"id\":\"fcabbb3f-2c7a-4e87-99cf-9fc9e1e7da51\",\"type\":\"Line\"},{\"attributes\":{\"plot\":null,\"text\":\"\"},\"id\":\"92dec67c-19a8-46ae-8c8d-77cb7e51877b\",\"type\":\"Title\"},{\"attributes\":{\"children\":[{\"id\":\"894bb518-6013-4553-a5e6-2becc1f4fa89\",\"type\":\"Row\"}]},\"id\":\"59fb04aa-8c3e-4627-b6c6-94065beae731\",\"type\":\"Column\"},{\"attributes\":{},\"id\":\"90850f4f-004f-4e1c-8265-98daea31fb1c\",\"type\":\"SaveTool\"},{\"attributes\":{\"callback\":null,\"data\":{\"x\":{\"__ndarray__\":\"R/KIaN7AVEClCeJMyPNGQOvRhpxr30JAptxzhxx4PkA7SssMElA4QK6Bp3CyUDNAsVXpjES9LkBFhUV0+5coQMHYwqbbySNA6f09nM3nH0CaSd/3eYoZQDmgiAOW8BNAPYqARh3eDEBkm4vCgvr+P9D+5tWhQfY/P8DwKRnSAkBq38kb17ILQDT7IWuSsxFAUr2Rjm0FFkAinq3s9XgbQGCHwtYcqSFAG64kT303J0C7dRDneyooQD9JYrbK8yRA9S3bneHhIUAIymSuUMMcQIkHLe6VEBdAAau3cITREkA6CiNvkQIPQJU39ki7IQlAaAvwok1UA0BXLQiS4+L7P0xzDpJ2hPI/NNuPGMbJ5z91mUVYxqfSPxqwUPSxZca/G11peifD3L8QzNj5t2jTvwzOozTL360/SPJ4VI1VzD9KJ0nXEIncP8yDdlvHt+4/Et49nYLW9z++2teD4Jn+P+568eH/bwFALf5D9lmAAkCiZAicVOkCQPPT4jNKxwJAOjp3wTzBAUBSQsKNGisBQG4OmjqJwQBAJ3sZoHFuAEA5Ar0Sdi0AQGy4rw5+9f8/7W4nSrC3/z8mPr8zj4T/P4UYRHCQS/8/embVKYcF/z+5YXG+LLP+P/qb8BVUgf4/KvafTtyO/j/avAK1Ppv+PwJV9VVm2P0/JFtYlU/n/D9sN+q2fiX6Pw44e41PNPc/Opt+Z/wN9T+x3vcSW1vzP9ofvWQJlvI/8sciQQBW8j80sfkQa17yPzg5qng2r/I/Oh14WJBh8z+VZjnpctj0P6CcrSuCqQBA\",\"dtype\":\"float64\",\"shape\":[75]},\"y\":{\"__ndarray__\":\"GhExyth1ND/Sv8nbtpRIP2vylNV0PVE/aTum7souWD/At0SJ8fVgPw3Iuahxymc/MSNhhJWvcD/bTfBN02d3P2zb5nxnaoA/CD5h5MAGhz8NmeH1TyaQP+zrCsc9p5Y/LbKd76fGnz/bLW5ISEmmPww9YvTcQq8/JV2OstnstT8Er5Y7M8G+P0c+r3jqkcU/5h99k6ZBzj88bCIzFzjVP4enV8oyxN0//yH99nXg5D8qOpLLf0jtP5kqGJXUifQ/c9cS8kHP/D+/DpwzojQEQIEmwoanVwxA4lgXt9HgE0BSSZ2AJuIbQAMJih9jjiNA5q4l5INuK0AwTKYKRj0zQNv5fmq8/DpAaCJseHrtQkB/+zpwzoxKQM3MzMzMeFJAZmZmZmZqWEAAAAAAAFxeQM3MzMzMJmJAmpmZmZkfZUBmZmZmZhhoQDMzMzMzEWtAAAAAAAAKbkBmZmZmZoFwQM3MzMzM/XFAMzMzMzN6c0CamZmZmfZ0QAAAAAAAc3ZAZmZmZmbvd0DNzMzMzGt5QDMzMzMz6HpAmpmZmZlkfEAAAAAAAOF9QGZmZmZmXX9AZmZmZuZsgECamZmZGSuBQM3MzMxM6YFAAAAAAICngkAzMzMzs2WDQGZmZmbmI4RAmpmZmRnihEDNzMzMTKCFQAAAAACAXoZAMzMzM7Mch0BmZmZm5tqHQJqZmZkZmYhAzczMzExXiUAAAAAAgBWKQDMzMzOz04pAZmZmZuaRi0CamZmZGVCMQM3MzMxMDo1AAAAAAIDMjUAzMzMzs4qOQGZmZmbmSI9A\",\"dtype\":\"float64\",\"shape\":[75]}},\"selected\":{\"id\":\"fdc45167-3106-4cd2-bf29-95428185d11c\",\"type\":\"Selection\"},\"selection_policy\":{\"id\":\"7025e7e8-edf0-41b7-9f49-b0a93885029a\",\"type\":\"UnionRenderers\"}},\"id\":\"333006c2-640d-497f-b8cf-a3134bce6aba\",\"type\":\"ColumnDataSource\"},{\"attributes\":{\"axis_label\":\"pressure [mb]\",\"formatter\":{\"id\":\"89bef193-4273-4f35-a539-fb1579085bd4\",\"type\":\"LogTickFormatter\"},\"plot\":{\"id\":\"77c62378-1ef2-49e9-bed2-7e5229f59a36\",\"subtype\":\"Figure\",\"type\":\"Plot\"},\"ticker\":{\"id\":\"26bed8aa-66fc-424c-8eeb-cf1fe52f2654\",\"type\":\"LogTicker\"}},\"id\":\"9f0ce243-ce94-4cec-928d-29262ac3ed07\",\"type\":\"LogAxis\"},{\"attributes\":{\"items\":[{\"id\":\"8b782a8e-2094-4af4-afda-5027e2628afb\",\"type\":\"LegendItem\"},{\"id\":\"4c9cb388-2e7a-4c37-9c5e-babf82466087\",\"type\":\"LegendItem\"}],\"label_text_font_size\":{\"value\":\"8pt\"},\"location\":\"top_center\",\"orientation\":\"horizontal\",\"plot\":{\"id\":\"77c62378-1ef2-49e9-bed2-7e5229f59a36\",\"subtype\":\"Figure\",\"type\":\"Plot\"}},\"id\":\"ee3697e6-2098-421b-ad0d-deb5c44c7640\",\"type\":\"Legend\"},{\"attributes\":{\"source\":{\"id\":\"544fdb22-1b89-4231-97fe-4cb7e36fe93c\",\"type\":\"ColumnDataSource\"}},\"id\":\"cec43752-f7bc-46f2-a025-dbe949023525\",\"type\":\"CDSView\"},{\"attributes\":{},\"id\":\"f1a31be5-2415-41a3-bf44-33ea93e60406\",\"type\":\"Selection\"},{\"attributes\":{},\"id\":\"2a7f4578-d775-45cc-a2cc-6e3e8269cc00\",\"type\":\"BasicTickFormatter\"},{\"attributes\":{\"source\":{\"id\":\"7ea0ead1-c538-486e-9a41-774dbdb644cf\",\"type\":\"ColumnDataSource\"}},\"id\":\"e7cea3b6-c41c-4495-a2e7-ded37e4b8351\",\"type\":\"CDSView\"},{\"attributes\":{},\"id\":\"1a37e35c-4f11-4ed5-aba5-b401c5d7c1cf\",\"type\":\"UnionRenderers\"},{\"attributes\":{\"dimension\":1,\"plot\":{\"id\":\"28a5548f-9779-449a-a712-d2fbd934628d\",\"subtype\":\"Figure\",\"type\":\"Plot\"},\"ticker\":{\"id\":\"91eb4550-7236-469d-bd86-6f1781aa5cf9\",\"type\":\"LogTicker\"}},\"id\":\"c2320b59-ac50-45a8-a2c6-53cae266297f\",\"type\":\"Grid\"},{\"attributes\":{\"callback\":null,\"end\":0.01,\"start\":1020},\"id\":\"8d92d700-2c70-4b5d-a582-78dd12895153\",\"type\":\"Range1d\"},{\"attributes\":{\"data_source\":{\"id\":\"7ea0ead1-c538-486e-9a41-774dbdb644cf\",\"type\":\"ColumnDataSource\"},\"glyph\":{\"id\":\"9315cbb9-5108-49a3-8ed8-897382a61ba3\",\"type\":\"Circle\"},\"hover_glyph\":null,\"muted_glyph\":null,\"nonselection_glyph\":{\"id\":\"a813812c-ef94-4714-baeb-31e4466e3842\",\"type\":\"Circle\"},\"selection_glyph\":null,\"view\":{\"id\":\"e7cea3b6-c41c-4495-a2e7-ded37e4b8351\",\"type\":\"CDSView\"}},\"id\":\"e1ee25e7-4677-4a62-83d3-ffceeb525ac1\",\"type\":\"GlyphRenderer\"},{\"attributes\":{},\"id\":\"b29f0c2a-d4f4-48d8-ad9e-87a30f2fa892\",\"type\":\"UnionRenderers\"},{\"attributes\":{\"num_minor_ticks\":10},\"id\":\"26bed8aa-66fc-424c-8eeb-cf1fe52f2654\",\"type\":\"LogTicker\"},{\"attributes\":{\"fill_alpha\":{\"value\":0.7},\"fill_color\":{\"value\":\"#984ea3\"},\"line_alpha\":{\"value\":0.7},\"line_color\":{\"value\":\"#984ea3\"},\"x\":{\"field\":\"x\"},\"y\":{\"field\":\"y\"}},\"id\":\"9315cbb9-5108-49a3-8ed8-897382a61ba3\",\"type\":\"Circle\"},{\"attributes\":{},\"id\":\"87b3a08e-3101-4a9b-9afa-17c176ffad59\",\"type\":\"UnionRenderers\"},{\"attributes\":{},\"id\":\"a8cfe604-636f-4585-87a5-9335d20dac2d\",\"type\":\"BasicTicker\"},{\"attributes\":{\"num_minor_ticks\":10},\"id\":\"91eb4550-7236-469d-bd86-6f1781aa5cf9\",\"type\":\"LogTicker\"},{\"attributes\":{\"fill_alpha\":{\"value\":0.1},\"fill_color\":{\"value\":\"#1f77b4\"},\"line_alpha\":{\"value\":0.1},\"line_color\":{\"value\":\"#1f77b4\"},\"x\":{\"field\":\"x\"},\"y\":{\"field\":\"y\"}},\"id\":\"a813812c-ef94-4714-baeb-31e4466e3842\",\"type\":\"Circle\"},{\"attributes\":{},\"id\":\"eaea032a-4f3b-4afc-bf65-3e3ed61d7830\",\"type\":\"LinearScale\"},{\"attributes\":{\"data_source\":{\"id\":\"eacef15f-220f-40a2-b549-5ac036f135b5\",\"type\":\"ColumnDataSource\"},\"glyph\":{\"id\":\"e727d17d-be7d-4c20-86a0-3f33169469f0\",\"type\":\"Line\"},\"hover_glyph\":null,\"muted_glyph\":null,\"nonselection_glyph\":{\"id\":\"f3fd4c06-2df4-4401-95ed-5a3fc0649728\",\"type\":\"Line\"},\"selection_glyph\":null,\"view\":{\"id\":\"bce060a7-6cca-4a84-9b62-adcc4d0b78a9\",\"type\":\"CDSView\"}},\"id\":\"2c5feff5-30a2-45ed-bfd4-f7a9ce7464af\",\"type\":\"GlyphRenderer\"},{\"attributes\":{\"callback\":null,\"data\":{\"x\":{\"__ndarray__\":\"+cPg0LP8Q8CobW55DoMgwBv6FqSIsQLAho3kf0Aj/D9ap4qYwy8OQG+DzUsNzw5AxJL0jd9TBEAJKNMyIs7mPyqX6Gs9Fui/B5SoLb0p9b8dT15WKD3xv87XqD/ppt6/njd2qq/Xtj+IsTWs3Z7dP1IiZ/m+T+E/3uUthbDQ1j8unlvPSSGyPwqYKdAPatG/ob4dgAA44b+hGTDqb0/hvy5r3sa3nNO/PTeDO117ur+OD4jURPWgv4GIasHWxcu/WtYff6dK17+vawS7/i67v0WK81haitQ/KZhcREWt1T8/X2I46pe4P7nUeboZD4o/D9WQrnR0zj/ggxshrEHUP2hEyNKEZcE/X3xvHBvvq7/PFtbGvpWavye0G7YmcqM/gBmhHJD2nL+RdOrQWOSyv57C6w9C2a6/J7MHaNP5q7/hjWIWltauv5rxI9BByq+/qdJtmlm9sb8lWa88jlKov85OPMKYgLC//kbGNGdxv78v3VhOuDy0v/UW3BRHp66/jqAqyq5Utb8wV56ocj+1v8sdzS+mlqy/NrHRaTa0n7/4DIGn8p6UvyR46M5jOpa/WroCp4Eanr9uY8OXpFKfvyXpt68D546/m49UYHpbjj9RoDbaDBimP3AkZA7scqw/7g5nRouopz8Fg7FT5sWXPwCwL9oJTQc/RLPy+5mifb8AMtXr1YlkP+Yr2AP74Zk/tOXHt+32qz9ZQz3YvTCyP5KBroWe37I/zRPAZbbxsz80mqt6IQW1P3RCh8DaH7Y/QEBcyJMjuj/gQYCMeCu+P7+r4BWTx78/\",\"dtype\":\"float64\",\"shape\":[75]},\"y\":{\"__ndarray__\":\"GhExyth1ND/Sv8nbtpRIP2vylNV0PVE/aTum7souWD/At0SJ8fVgPw3Iuahxymc/MSNhhJWvcD/bTfBN02d3P2zb5nxnaoA/CD5h5MAGhz8NmeH1TyaQP+zrCsc9p5Y/LbKd76fGnz/bLW5ISEmmPww9YvTcQq8/JV2OstnstT8Er5Y7M8G+P0c+r3jqkcU/5h99k6ZBzj88bCIzFzjVP4enV8oyxN0//yH99nXg5D8qOpLLf0jtP5kqGJXUifQ/c9cS8kHP/D+/DpwzojQEQIEmwoanVwxA4lgXt9HgE0BSSZ2AJuIbQAMJih9jjiNA5q4l5INuK0AwTKYKRj0zQNv5fmq8/DpAaCJseHrtQkB/+zpwzoxKQM3MzMzMeFJAZmZmZmZqWEAAAAAAAFxeQM3MzMzMJmJAmpmZmZkfZUBmZmZmZhhoQDMzMzMzEWtAAAAAAAAKbkBmZmZmZoFwQM3MzMzM/XFAMzMzMzN6c0CamZmZmfZ0QAAAAAAAc3ZAZmZmZmbvd0DNzMzMzGt5QDMzMzMz6HpAmpmZmZlkfEAAAAAAAOF9QGZmZmZmXX9AZmZmZuZsgECamZmZGSuBQM3MzMxM6YFAAAAAAICngkAzMzMzs2WDQGZmZmbmI4RAmpmZmRnihEDNzMzMTKCFQAAAAACAXoZAMzMzM7Mch0BmZmZm5tqHQJqZmZkZmYhAzczMzExXiUAAAAAAgBWKQDMzMzOz04pAZmZmZuaRi0CamZmZGVCMQM3MzMxMDo1AAAAAAIDMjUAzMzMzs4qOQGZmZmbmSI9A\",\"dtype\":\"float64\",\"shape\":[75]}},\"selected\":{\"id\":\"fd29c159-1ca1-43ad-ba82-574c44e92c6a\",\"type\":\"Selection\"},\"selection_policy\":{\"id\":\"37420306-1d38-4ab4-811e-1f877ef5416d\",\"type\":\"UnionRenderers\"}},\"id\":\"7ea0ead1-c538-486e-9a41-774dbdb644cf\",\"type\":\"ColumnDataSource\"},{\"attributes\":{\"items\":[{\"id\":\"3e484cd0-9533-482e-b120-5f0ac84d8927\",\"type\":\"LegendItem\"},{\"id\":\"7bf6d41c-819e-48a3-834c-9a2fb9008cd0\",\"type\":\"LegendItem\"}],\"label_text_font_size\":{\"value\":\"8pt\"},\"location\":\"top_center\",\"orientation\":\"horizontal\",\"plot\":{\"id\":\"ab4bf672-3b95-4308-ad5d-b17adc5c1cbc\",\"subtype\":\"Figure\",\"type\":\"Plot\"}},\"id\":\"67a26555-7f48-4304-b2db-f2834be8c327\",\"type\":\"Legend\"},{\"attributes\":{},\"id\":\"743327c2-cccc-4983-89b5-5bada4c28586\",\"type\":\"UnionRenderers\"},{\"attributes\":{\"line_alpha\":0.1,\"line_color\":\"#1f77b4\",\"line_width\":1.5,\"x\":{\"field\":\"x\"},\"y\":{\"field\":\"y\"}},\"id\":\"61ea5b45-2590-4721-bf1a-21ed31734111\",\"type\":\"Line\"},{\"attributes\":{},\"id\":\"6b4639d5-2f3b-4de0-ad3b-182b4d063ee2\",\"type\":\"WheelZoomTool\"},{\"attributes\":{\"axis_label\":\"pressure [mb]\",\"formatter\":{\"id\":\"a07643f4-9430-485e-8aa3-ebc0bd26ef8d\",\"type\":\"LogTickFormatter\"},\"plot\":{\"id\":\"28a5548f-9779-449a-a712-d2fbd934628d\",\"subtype\":\"Figure\",\"type\":\"Plot\"},\"ticker\":{\"id\":\"91eb4550-7236-469d-bd86-6f1781aa5cf9\",\"type\":\"LogTicker\"}},\"id\":\"2973c235-d128-4f50-9d48-2cafc8055a5f\",\"type\":\"LogAxis\"},{\"attributes\":{\"fill_alpha\":{\"value\":0.1},\"fill_color\":{\"value\":\"#1f77b4\"},\"line_alpha\":{\"value\":0.1},\"line_color\":{\"value\":\"#1f77b4\"},\"x\":{\"field\":\"x\"},\"y\":{\"field\":\"y\"}},\"id\":\"3d8900c4-a2d8-418f-867a-e3318b178c81\",\"type\":\"Circle\"},{\"attributes\":{\"source\":{\"id\":\"4847e8b5-febc-417e-bef2-c813f0efe410\",\"type\":\"ColumnDataSource\"}},\"id\":\"a3522569-b297-462f-93a3-496614bf1644\",\"type\":\"CDSView\"},{\"attributes\":{},\"id\":\"5d424c5c-547e-4887-9d01-d7122188771d\",\"type\":\"LogScale\"},{\"attributes\":{\"callback\":null,\"end\":12.208583273105388,\"start\":-0.6033023020843901},\"id\":\"704db817-bb06-470a-87b5-10e2d58b6f44\",\"type\":\"Range1d\"},{\"attributes\":{\"callback\":null,\"end\":2.3923471759882906,\"start\":-0.5061118456772901},\"id\":\"1a0009a1-5ccd-46bf-a16f-a13742ec74c1\",\"type\":\"Range1d\"},{\"attributes\":{\"callback\":null,\"data\":{\"x\":{\"__ndarray__\":\"R/KIaN7AVEClCeJMyPNGQOvRhpxr30JAptxzhxx4PkA7SssMElA4QK6Bp3CyUDNAsVXpjES9LkBFhUV0+5coQMHYwqbbySNA6f09nM3nH0CaSd/3eYoZQDmgiAOW8BNAPYqARh3eDEBkm4vCgvr+P9D+5tWhQfY/P8DwKRnSAkBq38kb17ILQDT7IWuSsxFAUr2Rjm0FFkAinq3s9XgbQGCHwtYcqSFAG64kT303J0C7dRDneyooQD9JYrbK8yRA9S3bneHhIUAIymSuUMMcQIkHLe6VEBdAAau3cITREkA6CiNvkQIPQJU39ki7IQlAaAvwok1UA0BXLQiS4+L7P0xzDpJ2hPI/NNuPGMbJ5z91mUVYxqfSPxqwUPSxZca/G11peifD3L8QzNj5t2jTvwzOozTL360/SPJ4VI1VzD9KJ0nXEIncP8yDdlvHt+4/Et49nYLW9z++2teD4Jn+P+568eH/bwFALf5D9lmAAkCiZAicVOkCQPPT4jNKxwJAOjp3wTzBAUBSQsKNGisBQG4OmjqJwQBAJ3sZoHFuAEA5Ar0Sdi0AQGy4rw5+9f8/7W4nSrC3/z8mPr8zj4T/P4UYRHCQS/8/embVKYcF/z+5YXG+LLP+P/qb8BVUgf4/KvafTtyO/j/avAK1Ppv+PwJV9VVm2P0/JFtYlU/n/D9sN+q2fiX6Pw44e41PNPc/Opt+Z/wN9T+x3vcSW1vzP9ofvWQJlvI/8sciQQBW8j80sfkQa17yPzg5qng2r/I/Oh14WJBh8z+VZjnpctj0P6CcrSuCqQBA\",\"dtype\":\"float64\",\"shape\":[75]},\"y\":{\"__ndarray__\":\"GhExyth1ND/Sv8nbtpRIP2vylNV0PVE/aTum7souWD/At0SJ8fVgPw3Iuahxymc/MSNhhJWvcD/bTfBN02d3P2zb5nxnaoA/CD5h5MAGhz8NmeH1TyaQP+zrCsc9p5Y/LbKd76fGnz/bLW5ISEmmPww9YvTcQq8/JV2OstnstT8Er5Y7M8G+P0c+r3jqkcU/5h99k6ZBzj88bCIzFzjVP4enV8oyxN0//yH99nXg5D8qOpLLf0jtP5kqGJXUifQ/c9cS8kHP/D+/DpwzojQEQIEmwoanVwxA4lgXt9HgE0BSSZ2AJuIbQAMJih9jjiNA5q4l5INuK0AwTKYKRj0zQNv5fmq8/DpAaCJseHrtQkB/+zpwzoxKQM3MzMzMeFJAZmZmZmZqWEAAAAAAAFxeQM3MzMzMJmJAmpmZmZkfZUBmZmZmZhhoQDMzMzMzEWtAAAAAAAAKbkBmZmZmZoFwQM3MzMzM/XFAMzMzMzN6c0CamZmZmfZ0QAAAAAAAc3ZAZmZmZmbvd0DNzMzMzGt5QDMzMzMz6HpAmpmZmZlkfEAAAAAAAOF9QGZmZmZmXX9AZmZmZuZsgECamZmZGSuBQM3MzMxM6YFAAAAAAICngkAzMzMzs2WDQGZmZmbmI4RAmpmZmRnihEDNzMzMTKCFQAAAAACAXoZAMzMzM7Mch0BmZmZm5tqHQJqZmZkZmYhAzczMzExXiUAAAAAAgBWKQDMzMzOz04pAZmZmZuaRi0CamZmZGVCMQM3MzMxMDo1AAAAAAIDMjUAzMzMzs4qOQGZmZmbmSI9A\",\"dtype\":\"float64\",\"shape\":[75]}},\"selected\":{\"id\":\"2af6f3b3-3647-487d-9a0b-f5f794dd3e3d\",\"type\":\"Selection\"},\"selection_policy\":{\"id\":\"743327c2-cccc-4983-89b5-5bada4c28586\",\"type\":\"UnionRenderers\"}},\"id\":\"eacef15f-220f-40a2-b549-5ac036f135b5\",\"type\":\"ColumnDataSource\"},{\"attributes\":{\"callback\":null,\"data\":{\"x\":{\"__ndarray__\":\"+cPg0LP8Q8CobW55DoMgwBv6FqSIsQLAho3kf0Aj/D9ap4qYwy8OQG+DzUsNzw5AxJL0jd9TBEAJKNMyIs7mPyqX6Gs9Fui/B5SoLb0p9b8dT15WKD3xv87XqD/ppt6/njd2qq/Xtj+IsTWs3Z7dP1IiZ/m+T+E/3uUthbDQ1j8unlvPSSGyPwqYKdAPatG/ob4dgAA44b+hGTDqb0/hvy5r3sa3nNO/PTeDO117ur+OD4jURPWgv4GIasHWxcu/WtYff6dK17+vawS7/i67v0WK81haitQ/KZhcREWt1T8/X2I46pe4P7nUeboZD4o/D9WQrnR0zj/ggxshrEHUP2hEyNKEZcE/X3xvHBvvq7/PFtbGvpWavye0G7YmcqM/gBmhHJD2nL+RdOrQWOSyv57C6w9C2a6/J7MHaNP5q7/hjWIWltauv5rxI9BByq+/qdJtmlm9sb8lWa88jlKov85OPMKYgLC//kbGNGdxv78v3VhOuDy0v/UW3BRHp66/jqAqyq5Utb8wV56ocj+1v8sdzS+mlqy/NrHRaTa0n7/4DIGn8p6UvyR46M5jOpa/WroCp4Eanr9uY8OXpFKfvyXpt68D546/m49UYHpbjj9RoDbaDBimP3AkZA7scqw/7g5nRouopz8Fg7FT5sWXPwCwL9oJTQc/RLPy+5mifb8AMtXr1YlkP+Yr2AP74Zk/tOXHt+32qz9ZQz3YvTCyP5KBroWe37I/zRPAZbbxsz80mqt6IQW1P3RCh8DaH7Y/QEBcyJMjuj/gQYCMeCu+P7+r4BWTx78/\",\"dtype\":\"float64\",\"shape\":[75]},\"y\":{\"__ndarray__\":\"GhExyth1ND/Sv8nbtpRIP2vylNV0PVE/aTum7souWD/At0SJ8fVgPw3Iuahxymc/MSNhhJWvcD/bTfBN02d3P2zb5nxnaoA/CD5h5MAGhz8NmeH1TyaQP+zrCsc9p5Y/LbKd76fGnz/bLW5ISEmmPww9YvTcQq8/JV2OstnstT8Er5Y7M8G+P0c+r3jqkcU/5h99k6ZBzj88bCIzFzjVP4enV8oyxN0//yH99nXg5D8qOpLLf0jtP5kqGJXUifQ/c9cS8kHP/D+/DpwzojQEQIEmwoanVwxA4lgXt9HgE0BSSZ2AJuIbQAMJih9jjiNA5q4l5INuK0AwTKYKRj0zQNv5fmq8/DpAaCJseHrtQkB/+zpwzoxKQM3MzMzMeFJAZmZmZmZqWEAAAAAAAFxeQM3MzMzMJmJAmpmZmZkfZUBmZmZmZhhoQDMzMzMzEWtAAAAAAAAKbkBmZmZmZoFwQM3MzMzM/XFAMzMzMzN6c0CamZmZmfZ0QAAAAAAAc3ZAZmZmZmbvd0DNzMzMzGt5QDMzMzMz6HpAmpmZmZlkfEAAAAAAAOF9QGZmZmZmXX9AZmZmZuZsgECamZmZGSuBQM3MzMxM6YFAAAAAAICngkAzMzMzs2WDQGZmZmbmI4RAmpmZmRnihEDNzMzMTKCFQAAAAACAXoZAMzMzM7Mch0BmZmZm5tqHQJqZmZkZmYhAzczMzExXiUAAAAAAgBWKQDMzMzOz04pAZmZmZuaRi0CamZmZGVCMQM3MzMxMDo1AAAAAAIDMjUAzMzMzs4qOQGZmZmbmSI9A\",\"dtype\":\"float64\",\"shape\":[75]}},\"selected\":{\"id\":\"0d4e0de1-3507-400e-98a0-5bc92881ba61\",\"type\":\"Selection\"},\"selection_policy\":{\"id\":\"be2ddae4-ebe1-4d4e-ba95-37abfcca8dbe\",\"type\":\"UnionRenderers\"}},\"id\":\"4847e8b5-febc-417e-bef2-c813f0efe410\",\"type\":\"ColumnDataSource\"},{\"attributes\":{\"fill_alpha\":{\"value\":0.7},\"fill_color\":{\"value\":\"#4daf4a\"},\"line_alpha\":{\"value\":0.7},\"line_color\":{\"value\":\"#4daf4a\"},\"x\":{\"field\":\"x\"},\"y\":{\"field\":\"y\"}},\"id\":\"bec1c366-3503-4796-a781-5dbf32b03906\",\"type\":\"Circle\"},{\"attributes\":{},\"id\":\"3a7ac882-9340-4f6d-b43e-26d7b6549649\",\"type\":\"BasicTicker\"},{\"attributes\":{\"source\":{\"id\":\"333006c2-640d-497f-b8cf-a3134bce6aba\",\"type\":\"ColumnDataSource\"}},\"id\":\"fe269f8a-0885-4aa6-b211-bed345ebd5e4\",\"type\":\"CDSView\"},{\"attributes\":{\"line_alpha\":0.1,\"line_color\":\"#1f77b4\",\"line_width\":1.5,\"x\":{\"field\":\"x\"},\"y\":{\"field\":\"y\"}},\"id\":\"55ff388b-5262-4667-82d3-241512392edb\",\"type\":\"Line\"},{\"attributes\":{\"axis_label\":\"pressure [mb]\",\"formatter\":{\"id\":\"12acd191-b396-4df2-883f-8cd3ec7d452d\",\"type\":\"BasicTickFormatter\"},\"plot\":{\"id\":\"ab4bf672-3b95-4308-ad5d-b17adc5c1cbc\",\"subtype\":\"Figure\",\"type\":\"Plot\"},\"ticker\":{\"id\":\"57e3a8c3-7d03-4e41-b97e-3442f3ddf618\",\"type\":\"BasicTicker\"}},\"id\":\"13bfea95-93ab-4a41-aa55-5890703565b4\",\"type\":\"LinearAxis\"},{\"attributes\":{},\"id\":\"27e57dca-f993-4717-824b-de85c5518494\",\"type\":\"LinearScale\"},{\"attributes\":{},\"id\":\"d6c170cb-cea6-4be1-b1ec-bb2bac15770d\",\"type\":\"PanTool\"},{\"attributes\":{\"data_source\":{\"id\":\"4847e8b5-febc-417e-bef2-c813f0efe410\",\"type\":\"ColumnDataSource\"},\"glyph\":{\"id\":\"fcabbb3f-2c7a-4e87-99cf-9fc9e1e7da51\",\"type\":\"Line\"},\"hover_glyph\":null,\"muted_glyph\":null,\"nonselection_glyph\":{\"id\":\"55ff388b-5262-4667-82d3-241512392edb\",\"type\":\"Line\"},\"selection_glyph\":null,\"view\":{\"id\":\"a3522569-b297-462f-93a3-496614bf1644\",\"type\":\"CDSView\"}},\"id\":\"8ff44cbc-9ce5-49c4-bba1-c80d4cf7e146\",\"type\":\"GlyphRenderer\"},{\"attributes\":{\"ticker\":null},\"id\":\"89bef193-4273-4f35-a539-fb1579085bd4\",\"type\":\"LogTickFormatter\"},{\"attributes\":{},\"id\":\"9dfc0e14-d0bd-428b-ae62-533ad3e73a72\",\"type\":\"Selection\"},{\"attributes\":{},\"id\":\"cb70c0f7-8cc4-4f9f-ba33-edc002e94191\",\"type\":\"ResetTool\"},{\"attributes\":{\"overlay\":{\"id\":\"565540a4-2910-4456-93d6-1ae9246ca9ce\",\"type\":\"BoxAnnotation\"}},\"id\":\"ff04a234-6c8f-4bef-ab11-ac04875dfccb\",\"type\":\"BoxZoomTool\"},{\"attributes\":{},\"id\":\"2af6f3b3-3647-487d-9a0b-f5f794dd3e3d\",\"type\":\"Selection\"},{\"attributes\":{\"line_alpha\":0.1,\"line_color\":\"#1f77b4\",\"line_width\":1.5,\"x\":{\"field\":\"x\"},\"y\":{\"field\":\"y\"}},\"id\":\"f3fd4c06-2df4-4401-95ed-5a3fc0649728\",\"type\":\"Line\"},{\"attributes\":{},\"id\":\"fdc45167-3106-4cd2-bf29-95428185d11c\",\"type\":\"Selection\"}],\"root_ids\":[\"a80d0376-9948-4105-ae4a-c8bd632a8bbc\"]},\"title\":\"Bokeh Application\",\"version\":\"0.12.16\"}};\n",
       "  var render_items = [{\"docid\":\"cc1ad055-0f55-43bb-afe7-cc6fc5c00b37\",\"elementid\":\"0ec77f52-e1ba-4871-bc51-6605ddd296af\",\"modelid\":\"a80d0376-9948-4105-ae4a-c8bd632a8bbc\"}];\n",
       "  root.Bokeh.embed.embed_items_notebook(docs_json, render_items);\n",
       "\n",
       "  }\n",
       "  if (root.Bokeh !== undefined) {\n",
       "    embed_document(root);\n",
       "  } else {\n",
       "    var attempts = 0;\n",
       "    var timer = setInterval(function(root) {\n",
       "      if (root.Bokeh !== undefined) {\n",
       "        embed_document(root);\n",
       "        clearInterval(timer);\n",
       "      }\n",
       "      attempts++;\n",
       "      if (attempts > 100) {\n",
       "        console.log(\"Bokeh: ERROR: Unable to run BokehJS code because BokehJS library is missing\")\n",
       "        clearInterval(timer);\n",
       "      }\n",
       "    }, 10, root)\n",
       "  }\n",
       "})(window);"
      ],
      "application/vnd.bokehjs_exec.v0+json": ""
     },
     "metadata": {
      "application/vnd.bokehjs_exec.v0+json": {
       "id": "a80d0376-9948-4105-ae4a-c8bd632a8bbc"
      }
     },
     "output_type": "display_data"
    },
    {
     "data": {
      "text/markdown": [
       "*FIGURE.* Cooling rates & difference."
      ],
      "text/plain": [
       "<IPython.core.display.Markdown object>"
      ]
     },
     "metadata": {},
     "output_type": "display_data"
    },
    {
     "data": {
      "text/html": [
       "<a id=\"Fluxes._trp.\"></a>"
      ],
      "text/plain": [
       "<IPython.core.display.HTML object>"
      ]
     },
     "metadata": {},
     "output_type": "display_data"
    },
    {
     "data": {
      "text/markdown": [
       "# Fluxes. trp."
      ],
      "text/plain": [
       "<IPython.core.display.Markdown object>"
      ]
     },
     "metadata": {},
     "output_type": "display_data"
    },
    {
     "data": {
      "text/html": [
       "\n",
       "<div class=\"bk-root\">\n",
       "    <div class=\"bk-plotdiv\" id=\"602dcdff-fac5-4cd2-80ac-bce7263996bc\"></div>\n",
       "</div>"
      ]
     },
     "metadata": {},
     "output_type": "display_data"
    },
    {
     "data": {
      "application/javascript": [
       "(function(root) {\n",
       "  function embed_document(root) {\n",
       "    \n",
       "  var docs_json = {\"3bab11a4-1237-44b1-8828-f1c2b4de88dd\":{\"roots\":{\"references\":[{\"attributes\":{\"overlay\":{\"id\":\"8623fa14-6971-4439-b07e-4303db5fe04f\",\"type\":\"BoxAnnotation\"}},\"id\":\"f9c8d92c-7c81-4382-bf89-bc202542792e\",\"type\":\"BoxZoomTool\"},{\"attributes\":{\"data_source\":{\"id\":\"b203faee-b804-45ec-9436-d788f3ca2a06\",\"type\":\"ColumnDataSource\"},\"glyph\":{\"id\":\"e301b25b-42dd-417f-aab9-b4387229757c\",\"type\":\"VBar\"},\"hover_glyph\":null,\"muted_glyph\":null,\"nonselection_glyph\":{\"id\":\"2d0b09b6-dc8c-48ac-aaf2-6e9e687f4cf7\",\"type\":\"VBar\"},\"selection_glyph\":null,\"view\":{\"id\":\"4dcb97f3-b347-405d-9484-f91d9661c87e\",\"type\":\"CDSView\"}},\"id\":\"2c2d304c-33ef-4ff0-a703-69faae5e1a47\",\"type\":\"GlyphRenderer\"},{\"attributes\":{\"callback\":null,\"factors\":[\"1\",\"2\",\"3\",\"4\",\"5\",\"6\",\"7\",\"8\",\"9\",\"10\",\"11\"]},\"id\":\"d7be8727-239e-440e-b9e7-d409f22d94a5\",\"type\":\"FactorRange\"},{\"attributes\":{\"fill_color\":{\"value\":\"#1f77b4\"},\"line_color\":{\"value\":\"#1f77b4\"},\"top\":{\"field\":\"flux\"},\"width\":{\"value\":0.9},\"x\":{\"field\":\"band\"}},\"id\":\"e301b25b-42dd-417f-aab9-b4387229757c\",\"type\":\"VBar\"},{\"attributes\":{\"callback\":null},\"id\":\"0c2fa317-40ca-410d-bc39-013286118744\",\"type\":\"DataRange1d\"},{\"attributes\":{},\"id\":\"c0a61d4d-228b-4c49-9184-f81bd9e30f76\",\"type\":\"BasicTickFormatter\"},{\"attributes\":{},\"id\":\"e261455f-910f-46a5-bcc6-c633ac16ce50\",\"type\":\"ResetTool\"},{\"attributes\":{\"overlay\":{\"id\":\"c04b66cd-2ecf-456c-9e9e-6421e70ccb29\",\"type\":\"BoxAnnotation\"}},\"id\":\"3c6f66bd-7b1b-4cf2-aaba-85550a0b77fe\",\"type\":\"BoxZoomTool\"},{\"attributes\":{\"children\":[{\"id\":\"79bf1471-9764-4998-bb54-bc2b922f3d48\",\"subtype\":\"Figure\",\"type\":\"Plot\"},{\"id\":\"53cb7fab-1ae6-42c9-8e3d-29d1899a4723\",\"subtype\":\"Figure\",\"type\":\"Plot\"},{\"id\":\"7267e997-33e2-4f71-911c-26a335ad21cf\",\"subtype\":\"Figure\",\"type\":\"Plot\"}]},\"id\":\"42af2a61-9bb7-43de-ac3c-3daa45eb2e00\",\"type\":\"Row\"},{\"attributes\":{},\"id\":\"6f18ff1d-54d9-4e4d-af85-7c232eb9dcf7\",\"type\":\"Selection\"},{\"attributes\":{},\"id\":\"a63d1664-d3ee-4c47-82db-e7f01347342d\",\"type\":\"HelpTool\"},{\"attributes\":{},\"id\":\"d3ac3a18-cd79-4a97-84aa-a164c29d12f6\",\"type\":\"CategoricalTickFormatter\"},{\"attributes\":{\"bottom_units\":\"screen\",\"fill_alpha\":{\"value\":0.5},\"fill_color\":{\"value\":\"lightgrey\"},\"left_units\":\"screen\",\"level\":\"overlay\",\"line_alpha\":{\"value\":1.0},\"line_color\":{\"value\":\"black\"},\"line_dash\":[4,4],\"line_width\":{\"value\":2},\"plot\":null,\"render_mode\":\"css\",\"right_units\":\"screen\",\"top_units\":\"screen\"},\"id\":\"c04b66cd-2ecf-456c-9e9e-6421e70ccb29\",\"type\":\"BoxAnnotation\"},{\"attributes\":{},\"id\":\"845bcd7f-175d-4be7-bac8-ec7cc61eaaea\",\"type\":\"LinearScale\"},{\"attributes\":{\"children\":[{\"id\":\"42af2a61-9bb7-43de-ac3c-3daa45eb2e00\",\"type\":\"Row\"}]},\"id\":\"5483f2f8-cdb1-4692-964c-6bc1ee175c24\",\"type\":\"Column\"},{\"attributes\":{},\"id\":\"3a3f3f64-9fe6-4348-a017-f7173a1a09c2\",\"type\":\"PanTool\"},{\"attributes\":{\"axis_label\":\"flux (W m-2)\",\"formatter\":{\"id\":\"3ad10e04-57bc-4f55-a01e-7db5092936b9\",\"type\":\"BasicTickFormatter\"},\"plot\":{\"id\":\"79bf1471-9764-4998-bb54-bc2b922f3d48\",\"subtype\":\"Figure\",\"type\":\"Plot\"},\"ticker\":{\"id\":\"caa3efd9-f00b-4c0a-984d-722dc7fd1bda\",\"type\":\"BasicTicker\"}},\"id\":\"b1d49a30-3c1e-46b4-a422-ae69609fe0ef\",\"type\":\"LinearAxis\"},{\"attributes\":{},\"id\":\"86b98589-0bb6-4395-9be1-3633a9cd732b\",\"type\":\"CategoricalTicker\"},{\"attributes\":{\"source\":{\"id\":\"6095d481-d743-4b32-a5a8-2fbe1d96aff3\",\"type\":\"ColumnDataSource\"}},\"id\":\"d2537575-6695-4ec5-8943-18eee4062dce\",\"type\":\"CDSView\"},{\"attributes\":{},\"id\":\"3d7eadd3-1daf-4e8c-ba85-933138f1875f\",\"type\":\"SaveTool\"},{\"attributes\":{},\"id\":\"d4b47a12-a7a2-40f8-b10e-4e1ddd8d4762\",\"type\":\"CategoricalScale\"},{\"attributes\":{\"below\":[{\"id\":\"2365e2d8-7469-4504-bd9e-9b0d607f307e\",\"type\":\"CategoricalAxis\"}],\"left\":[{\"id\":\"c8783e98-3aa2-42a5-a446-826064eb3138\",\"type\":\"LinearAxis\"}],\"plot_height\":300,\"plot_width\":300,\"renderers\":[{\"id\":\"2365e2d8-7469-4504-bd9e-9b0d607f307e\",\"type\":\"CategoricalAxis\"},{\"id\":\"c9ed902b-c49d-4b5e-b8e0-666762915c13\",\"type\":\"Grid\"},{\"id\":\"c8783e98-3aa2-42a5-a446-826064eb3138\",\"type\":\"LinearAxis\"},{\"id\":\"3fdb2700-2601-4b0d-bac3-f792079d05cc\",\"type\":\"Grid\"},{\"id\":\"c04b66cd-2ecf-456c-9e9e-6421e70ccb29\",\"type\":\"BoxAnnotation\"},{\"id\":\"57204c7c-f0f7-4903-a322-33e8114da821\",\"type\":\"GlyphRenderer\"}],\"title\":{\"id\":\"4b78055b-394d-41cf-a460-b0597fd91542\",\"type\":\"Title\"},\"toolbar\":{\"id\":\"ee30d89b-918b-4cc6-a4e2-f114a6c2faac\",\"type\":\"Toolbar\"},\"toolbar_location\":null,\"x_range\":{\"id\":\"d7be8727-239e-440e-b9e7-d409f22d94a5\",\"type\":\"FactorRange\"},\"x_scale\":{\"id\":\"d4b47a12-a7a2-40f8-b10e-4e1ddd8d4762\",\"type\":\"CategoricalScale\"},\"y_range\":{\"id\":\"0c2fa317-40ca-410d-bc39-013286118744\",\"type\":\"DataRange1d\"},\"y_scale\":{\"id\":\"845bcd7f-175d-4be7-bac8-ec7cc61eaaea\",\"type\":\"LinearScale\"}},\"id\":\"53cb7fab-1ae6-42c9-8e3d-29d1899a4723\",\"subtype\":\"Figure\",\"type\":\"Plot\"},{\"attributes\":{\"toolbar\":{\"id\":\"a384e9e4-ff1a-4ff8-92e5-50df1870f286\",\"type\":\"ProxyToolbar\"},\"toolbar_location\":\"above\"},\"id\":\"b5bcb070-4910-40a7-917a-c0ac9fe4e639\",\"type\":\"ToolbarBox\"},{\"attributes\":{},\"id\":\"2a7b48b3-5d3e-4cb2-8e40-a09a370856c4\",\"type\":\"CategoricalScale\"},{\"attributes\":{},\"id\":\"868729b6-c4a2-4250-ac31-6df884c65f79\",\"type\":\"HelpTool\"},{\"attributes\":{\"axis_label\":\"spectral band\",\"formatter\":{\"id\":\"942bb72b-b8b3-4b0d-adbc-2b994c10fe92\",\"type\":\"CategoricalTickFormatter\"},\"plot\":{\"id\":\"53cb7fab-1ae6-42c9-8e3d-29d1899a4723\",\"subtype\":\"Figure\",\"type\":\"Plot\"},\"ticker\":{\"id\":\"86b98589-0bb6-4395-9be1-3633a9cd732b\",\"type\":\"CategoricalTicker\"}},\"id\":\"2365e2d8-7469-4504-bd9e-9b0d607f307e\",\"type\":\"CategoricalAxis\"},{\"attributes\":{\"callback\":null,\"data\":{\"band\":[\"1\",\"2\",\"3\",\"4\",\"5\",\"6\",\"7\",\"8\",\"9\",\"10\",\"11\"],\"flux\":{\"__ndarray__\":\"AID6S2L7yj8AhLZzzD+yPwC8gsh9Brm/ABW46Y0C4D8gA5fHmpHSvwDp7GRwlN+/gOE/3UCBxT8AhjlBmxzAv0C4FKEiGNC/wG+hI6BfwD9Ab6jOWVWpPw==\",\"dtype\":\"float64\",\"shape\":[11]}},\"selected\":{\"id\":\"6f18ff1d-54d9-4e4d-af85-7c232eb9dcf7\",\"type\":\"Selection\"},\"selection_policy\":{\"id\":\"05dc688a-a4a0-4dd4-b856-7e7f96b65478\",\"type\":\"UnionRenderers\"}},\"id\":\"1b7e198a-dcf8-4b14-a502-fd2ac414317c\",\"type\":\"ColumnDataSource\"},{\"attributes\":{\"plot\":null,\"text\":\"SFC flux. CLIRAD (single-run) - CRD.\"},\"id\":\"4b78055b-394d-41cf-a460-b0597fd91542\",\"type\":\"Title\"},{\"attributes\":{\"active_drag\":\"auto\",\"active_inspect\":\"auto\",\"active_scroll\":\"auto\",\"active_tap\":\"auto\",\"tools\":[{\"id\":\"3a3f3f64-9fe6-4348-a017-f7173a1a09c2\",\"type\":\"PanTool\"},{\"id\":\"c0f6092a-1e88-422d-aa7c-cd0db5790a0b\",\"type\":\"WheelZoomTool\"},{\"id\":\"3c6f66bd-7b1b-4cf2-aaba-85550a0b77fe\",\"type\":\"BoxZoomTool\"},{\"id\":\"cc3d132c-d67c-4aa3-8da2-280ced8a36c1\",\"type\":\"SaveTool\"},{\"id\":\"9f2106f9-a9b3-45bf-ba6f-b7b478b414a0\",\"type\":\"ResetTool\"},{\"id\":\"868729b6-c4a2-4250-ac31-6df884c65f79\",\"type\":\"HelpTool\"}]},\"id\":\"ee30d89b-918b-4cc6-a4e2-f114a6c2faac\",\"type\":\"Toolbar\"},{\"attributes\":{\"tools\":[{\"id\":\"0dadcf5c-741d-4b91-b48c-bdce22955416\",\"type\":\"PanTool\"},{\"id\":\"f35c146b-3292-4829-8d3d-4622e5c3aae9\",\"type\":\"WheelZoomTool\"},{\"id\":\"f9c8d92c-7c81-4382-bf89-bc202542792e\",\"type\":\"BoxZoomTool\"},{\"id\":\"3d7eadd3-1daf-4e8c-ba85-933138f1875f\",\"type\":\"SaveTool\"},{\"id\":\"e261455f-910f-46a5-bcc6-c633ac16ce50\",\"type\":\"ResetTool\"},{\"id\":\"a63d1664-d3ee-4c47-82db-e7f01347342d\",\"type\":\"HelpTool\"},{\"id\":\"3a3f3f64-9fe6-4348-a017-f7173a1a09c2\",\"type\":\"PanTool\"},{\"id\":\"c0f6092a-1e88-422d-aa7c-cd0db5790a0b\",\"type\":\"WheelZoomTool\"},{\"id\":\"3c6f66bd-7b1b-4cf2-aaba-85550a0b77fe\",\"type\":\"BoxZoomTool\"},{\"id\":\"cc3d132c-d67c-4aa3-8da2-280ced8a36c1\",\"type\":\"SaveTool\"},{\"id\":\"9f2106f9-a9b3-45bf-ba6f-b7b478b414a0\",\"type\":\"ResetTool\"},{\"id\":\"868729b6-c4a2-4250-ac31-6df884c65f79\",\"type\":\"HelpTool\"},{\"id\":\"cebef004-ea7e-407f-80d9-5400a8f68548\",\"type\":\"PanTool\"},{\"id\":\"e0219c42-0be2-4fec-ad2b-941cb8139d35\",\"type\":\"WheelZoomTool\"},{\"id\":\"13abf5a8-2790-4709-8204-ae32e9b908f1\",\"type\":\"BoxZoomTool\"},{\"id\":\"3dff0c8a-00a0-4769-b809-48b3e0ac4a74\",\"type\":\"SaveTool\"},{\"id\":\"db2c0565-edab-46db-9cfc-a45ebd23ee1a\",\"type\":\"ResetTool\"},{\"id\":\"0073e349-37c0-4866-b994-434cfe88ef13\",\"type\":\"HelpTool\"}]},\"id\":\"a384e9e4-ff1a-4ff8-92e5-50df1870f286\",\"type\":\"ProxyToolbar\"},{\"attributes\":{\"axis_label\":\"spectral band\",\"formatter\":{\"id\":\"bc6a600e-1e4d-4161-98b9-eba4e47c072a\",\"type\":\"CategoricalTickFormatter\"},\"plot\":{\"id\":\"79bf1471-9764-4998-bb54-bc2b922f3d48\",\"subtype\":\"Figure\",\"type\":\"Plot\"},\"ticker\":{\"id\":\"34042f75-2b69-4c0f-9f49-5a9d639f34eb\",\"type\":\"CategoricalTicker\"}},\"id\":\"d2e1f048-4609-48cd-a632-321b354621d1\",\"type\":\"CategoricalAxis\"},{\"attributes\":{\"callback\":null,\"factors\":[\"1\",\"2\",\"3\",\"4\",\"5\",\"6\",\"7\",\"8\",\"9\",\"10\",\"11\"]},\"id\":\"5f20d5cc-5685-45c2-a221-26b879f7c388\",\"type\":\"FactorRange\"},{\"attributes\":{\"bottom_units\":\"screen\",\"fill_alpha\":{\"value\":0.5},\"fill_color\":{\"value\":\"lightgrey\"},\"left_units\":\"screen\",\"level\":\"overlay\",\"line_alpha\":{\"value\":1.0},\"line_color\":{\"value\":\"black\"},\"line_dash\":[4,4],\"line_width\":{\"value\":2},\"plot\":null,\"render_mode\":\"css\",\"right_units\":\"screen\",\"top_units\":\"screen\"},\"id\":\"8623fa14-6971-4439-b07e-4303db5fe04f\",\"type\":\"BoxAnnotation\"},{\"attributes\":{\"fill_color\":{\"value\":\"#1f77b4\"},\"line_color\":{\"value\":\"#1f77b4\"},\"top\":{\"field\":\"flux\"},\"width\":{\"value\":0.9},\"x\":{\"field\":\"band\"}},\"id\":\"a3f2c372-e8d4-4b86-a835-67f30125d7db\",\"type\":\"VBar\"},{\"attributes\":{\"dimension\":1,\"plot\":{\"id\":\"79bf1471-9764-4998-bb54-bc2b922f3d48\",\"subtype\":\"Figure\",\"type\":\"Plot\"},\"ticker\":{\"id\":\"caa3efd9-f00b-4c0a-984d-722dc7fd1bda\",\"type\":\"BasicTicker\"}},\"id\":\"5d707b67-bfc7-457e-ad84-6931c7d849ea\",\"type\":\"Grid\"},{\"attributes\":{\"active_drag\":\"auto\",\"active_inspect\":\"auto\",\"active_scroll\":\"auto\",\"active_tap\":\"auto\",\"tools\":[{\"id\":\"0dadcf5c-741d-4b91-b48c-bdce22955416\",\"type\":\"PanTool\"},{\"id\":\"f35c146b-3292-4829-8d3d-4622e5c3aae9\",\"type\":\"WheelZoomTool\"},{\"id\":\"f9c8d92c-7c81-4382-bf89-bc202542792e\",\"type\":\"BoxZoomTool\"},{\"id\":\"3d7eadd3-1daf-4e8c-ba85-933138f1875f\",\"type\":\"SaveTool\"},{\"id\":\"e261455f-910f-46a5-bcc6-c633ac16ce50\",\"type\":\"ResetTool\"},{\"id\":\"a63d1664-d3ee-4c47-82db-e7f01347342d\",\"type\":\"HelpTool\"}]},\"id\":\"3a11cfc7-f731-405d-81ed-9a044532aa2f\",\"type\":\"Toolbar\"},{\"attributes\":{},\"id\":\"34042f75-2b69-4c0f-9f49-5a9d639f34eb\",\"type\":\"CategoricalTicker\"},{\"attributes\":{},\"id\":\"db2abae0-a1f3-47a9-8c72-261136b6f919\",\"type\":\"BasicTicker\"},{\"attributes\":{},\"id\":\"c0f6092a-1e88-422d-aa7c-cd0db5790a0b\",\"type\":\"WheelZoomTool\"},{\"attributes\":{\"dimension\":1,\"plot\":{\"id\":\"53cb7fab-1ae6-42c9-8e3d-29d1899a4723\",\"subtype\":\"Figure\",\"type\":\"Plot\"},\"ticker\":{\"id\":\"db2abae0-a1f3-47a9-8c72-261136b6f919\",\"type\":\"BasicTicker\"}},\"id\":\"3fdb2700-2601-4b0d-bac3-f792079d05cc\",\"type\":\"Grid\"},{\"attributes\":{\"children\":[{\"id\":\"b5bcb070-4910-40a7-917a-c0ac9fe4e639\",\"type\":\"ToolbarBox\"},{\"id\":\"5483f2f8-cdb1-4692-964c-6bc1ee175c24\",\"type\":\"Column\"}]},\"id\":\"86685c75-2f2b-4ac2-96d9-e0df76a3a351\",\"type\":\"Column\"},{\"attributes\":{\"plot\":null,\"text\":\"TOA flux. CLIRAD (single-run) - CRD.\"},\"id\":\"36aae56c-b8f8-42de-a5af-0c5ac4b48cca\",\"type\":\"Title\"},{\"attributes\":{},\"id\":\"cc3d132c-d67c-4aa3-8da2-280ced8a36c1\",\"type\":\"SaveTool\"},{\"attributes\":{},\"id\":\"f35c146b-3292-4829-8d3d-4622e5c3aae9\",\"type\":\"WheelZoomTool\"},{\"attributes\":{\"callback\":null},\"id\":\"d8824a48-df99-47f4-b933-bc023e5eecac\",\"type\":\"DataRange1d\"},{\"attributes\":{\"callback\":null,\"data\":{\"band\":[\"1\",\"2\",\"3\",\"4\",\"5\",\"6\",\"7\",\"8\",\"9\",\"10\",\"11\"],\"flux\":{\"__ndarray__\":\"AMHG9e/6yj8ARFVMpZ/UP8A1I4PcRdO/wKT4+ITs4T8A9+Y3TDTUPwDo9SfxuaO/gPm7d9SYzj8AbToCuFm8vwAu4dBbPJw/4PGprSLtwT+A9UyK6gi9Pw==\",\"dtype\":\"float64\",\"shape\":[11]}},\"selected\":{\"id\":\"317e66c8-ee37-48ec-baf2-05b7a8cdf722\",\"type\":\"Selection\"},\"selection_policy\":{\"id\":\"b687dead-aac5-436d-bd0b-c20e96159f4a\",\"type\":\"UnionRenderers\"}},\"id\":\"b203faee-b804-45ec-9436-d788f3ca2a06\",\"type\":\"ColumnDataSource\"},{\"attributes\":{\"below\":[{\"id\":\"d2e1f048-4609-48cd-a632-321b354621d1\",\"type\":\"CategoricalAxis\"}],\"left\":[{\"id\":\"b1d49a30-3c1e-46b4-a422-ae69609fe0ef\",\"type\":\"LinearAxis\"}],\"plot_height\":300,\"plot_width\":300,\"renderers\":[{\"id\":\"d2e1f048-4609-48cd-a632-321b354621d1\",\"type\":\"CategoricalAxis\"},{\"id\":\"f0f4381b-3683-43d0-80fa-6afee574b1c9\",\"type\":\"Grid\"},{\"id\":\"b1d49a30-3c1e-46b4-a422-ae69609fe0ef\",\"type\":\"LinearAxis\"},{\"id\":\"5d707b67-bfc7-457e-ad84-6931c7d849ea\",\"type\":\"Grid\"},{\"id\":\"8623fa14-6971-4439-b07e-4303db5fe04f\",\"type\":\"BoxAnnotation\"},{\"id\":\"2c2d304c-33ef-4ff0-a703-69faae5e1a47\",\"type\":\"GlyphRenderer\"}],\"title\":{\"id\":\"36aae56c-b8f8-42de-a5af-0c5ac4b48cca\",\"type\":\"Title\"},\"toolbar\":{\"id\":\"3a11cfc7-f731-405d-81ed-9a044532aa2f\",\"type\":\"Toolbar\"},\"toolbar_location\":null,\"x_range\":{\"id\":\"5f20d5cc-5685-45c2-a221-26b879f7c388\",\"type\":\"FactorRange\"},\"x_scale\":{\"id\":\"2a7b48b3-5d3e-4cb2-8e40-a09a370856c4\",\"type\":\"CategoricalScale\"},\"y_range\":{\"id\":\"d8824a48-df99-47f4-b933-bc023e5eecac\",\"type\":\"DataRange1d\"},\"y_scale\":{\"id\":\"660b68ab-4534-4291-a79c-6972cbd51ebd\",\"type\":\"LinearScale\"}},\"id\":\"79bf1471-9764-4998-bb54-bc2b922f3d48\",\"subtype\":\"Figure\",\"type\":\"Plot\"},{\"attributes\":{\"fill_alpha\":{\"value\":0.1},\"fill_color\":{\"value\":\"#1f77b4\"},\"line_alpha\":{\"value\":0.1},\"line_color\":{\"value\":\"#1f77b4\"},\"top\":{\"field\":\"flux\"},\"width\":{\"value\":0.9},\"x\":{\"field\":\"band\"}},\"id\":\"2d0b09b6-dc8c-48ac-aaf2-6e9e687f4cf7\",\"type\":\"VBar\"},{\"attributes\":{},\"id\":\"660b68ab-4534-4291-a79c-6972cbd51ebd\",\"type\":\"LinearScale\"},{\"attributes\":{\"source\":{\"id\":\"b203faee-b804-45ec-9436-d788f3ca2a06\",\"type\":\"ColumnDataSource\"}},\"id\":\"4dcb97f3-b347-405d-9484-f91d9661c87e\",\"type\":\"CDSView\"},{\"attributes\":{},\"id\":\"0dadcf5c-741d-4b91-b48c-bdce22955416\",\"type\":\"PanTool\"},{\"attributes\":{\"axis_label\":\"flux (W m-2)\",\"formatter\":{\"id\":\"fb55cf48-0bc5-4845-8806-11b012ee6dd7\",\"type\":\"BasicTickFormatter\"},\"plot\":{\"id\":\"53cb7fab-1ae6-42c9-8e3d-29d1899a4723\",\"subtype\":\"Figure\",\"type\":\"Plot\"},\"ticker\":{\"id\":\"db2abae0-a1f3-47a9-8c72-261136b6f919\",\"type\":\"BasicTicker\"}},\"id\":\"c8783e98-3aa2-42a5-a446-826064eb3138\",\"type\":\"LinearAxis\"},{\"attributes\":{},\"id\":\"05dc688a-a4a0-4dd4-b856-7e7f96b65478\",\"type\":\"UnionRenderers\"},{\"attributes\":{\"plot\":{\"id\":\"79bf1471-9764-4998-bb54-bc2b922f3d48\",\"subtype\":\"Figure\",\"type\":\"Plot\"},\"ticker\":{\"id\":\"34042f75-2b69-4c0f-9f49-5a9d639f34eb\",\"type\":\"CategoricalTicker\"}},\"id\":\"f0f4381b-3683-43d0-80fa-6afee574b1c9\",\"type\":\"Grid\"},{\"attributes\":{\"plot\":{\"id\":\"53cb7fab-1ae6-42c9-8e3d-29d1899a4723\",\"subtype\":\"Figure\",\"type\":\"Plot\"},\"ticker\":{\"id\":\"86b98589-0bb6-4395-9be1-3633a9cd732b\",\"type\":\"CategoricalTicker\"}},\"id\":\"c9ed902b-c49d-4b5e-b8e0-666762915c13\",\"type\":\"Grid\"},{\"attributes\":{},\"id\":\"9f2106f9-a9b3-45bf-ba6f-b7b478b414a0\",\"type\":\"ResetTool\"},{\"attributes\":{},\"id\":\"caa3efd9-f00b-4c0a-984d-722dc7fd1bda\",\"type\":\"BasicTicker\"},{\"attributes\":{\"axis_label\":\"flux (W m-2)\",\"formatter\":{\"id\":\"c0a61d4d-228b-4c49-9184-f81bd9e30f76\",\"type\":\"BasicTickFormatter\"},\"plot\":{\"id\":\"7267e997-33e2-4f71-911c-26a335ad21cf\",\"subtype\":\"Figure\",\"type\":\"Plot\"},\"ticker\":{\"id\":\"a94e9f7a-742a-4425-be34-75bb5f14da3e\",\"type\":\"BasicTicker\"}},\"id\":\"f02c186d-0028-4bc2-8d0e-3acc920b453c\",\"type\":\"LinearAxis\"},{\"attributes\":{\"callback\":null,\"factors\":[\"1\",\"2\",\"3\",\"4\",\"5\",\"6\",\"7\",\"8\",\"9\",\"10\",\"11\"]},\"id\":\"83006a97-11e9-45ce-bdce-f51e2080fa48\",\"type\":\"FactorRange\"},{\"attributes\":{\"fill_alpha\":{\"value\":0.1},\"fill_color\":{\"value\":\"#1f77b4\"},\"line_alpha\":{\"value\":0.1},\"line_color\":{\"value\":\"#1f77b4\"},\"top\":{\"field\":\"flux\"},\"width\":{\"value\":0.9},\"x\":{\"field\":\"band\"}},\"id\":\"72f89379-9c14-4c2c-b5e3-c5c57571af34\",\"type\":\"VBar\"},{\"attributes\":{},\"id\":\"a94e9f7a-742a-4425-be34-75bb5f14da3e\",\"type\":\"BasicTicker\"},{\"attributes\":{},\"id\":\"3dff0c8a-00a0-4769-b809-48b3e0ac4a74\",\"type\":\"SaveTool\"},{\"attributes\":{},\"id\":\"7444cc1d-670f-4f2b-97dc-01c99510536a\",\"type\":\"CategoricalScale\"},{\"attributes\":{},\"id\":\"0073e349-37c0-4866-b994-434cfe88ef13\",\"type\":\"HelpTool\"},{\"attributes\":{},\"id\":\"004b8853-9130-4d15-8ecf-7e5e6f2958f3\",\"type\":\"LinearScale\"},{\"attributes\":{\"callback\":null},\"id\":\"19aa8dbb-8466-433c-9fd0-7c6d90407c4d\",\"type\":\"DataRange1d\"},{\"attributes\":{\"bottom_units\":\"screen\",\"fill_alpha\":{\"value\":0.5},\"fill_color\":{\"value\":\"lightgrey\"},\"left_units\":\"screen\",\"level\":\"overlay\",\"line_alpha\":{\"value\":1.0},\"line_color\":{\"value\":\"black\"},\"line_dash\":[4,4],\"line_width\":{\"value\":2},\"plot\":null,\"render_mode\":\"css\",\"right_units\":\"screen\",\"top_units\":\"screen\"},\"id\":\"473ee562-d319-454c-9634-99610214be1b\",\"type\":\"BoxAnnotation\"},{\"attributes\":{\"plot\":{\"id\":\"7267e997-33e2-4f71-911c-26a335ad21cf\",\"subtype\":\"Figure\",\"type\":\"Plot\"},\"ticker\":{\"id\":\"2403f080-a3bf-4e7c-b09f-891f4d5c5e50\",\"type\":\"CategoricalTicker\"}},\"id\":\"9c9b3442-c594-4d7c-a846-0e587f333f86\",\"type\":\"Grid\"},{\"attributes\":{},\"id\":\"2403f080-a3bf-4e7c-b09f-891f4d5c5e50\",\"type\":\"CategoricalTicker\"},{\"attributes\":{\"data_source\":{\"id\":\"1b7e198a-dcf8-4b14-a502-fd2ac414317c\",\"type\":\"ColumnDataSource\"},\"glyph\":{\"id\":\"0ad4b086-b32a-4588-ac01-04cb0096839c\",\"type\":\"VBar\"},\"hover_glyph\":null,\"muted_glyph\":null,\"nonselection_glyph\":{\"id\":\"72f89379-9c14-4c2c-b5e3-c5c57571af34\",\"type\":\"VBar\"},\"selection_glyph\":null,\"view\":{\"id\":\"0191a17f-0ed8-4859-8f46-38c8ae2e1507\",\"type\":\"CDSView\"}},\"id\":\"bf68554e-8af9-4780-ae61-748ad3075c33\",\"type\":\"GlyphRenderer\"},{\"attributes\":{\"active_drag\":\"auto\",\"active_inspect\":\"auto\",\"active_scroll\":\"auto\",\"active_tap\":\"auto\",\"tools\":[{\"id\":\"cebef004-ea7e-407f-80d9-5400a8f68548\",\"type\":\"PanTool\"},{\"id\":\"e0219c42-0be2-4fec-ad2b-941cb8139d35\",\"type\":\"WheelZoomTool\"},{\"id\":\"13abf5a8-2790-4709-8204-ae32e9b908f1\",\"type\":\"BoxZoomTool\"},{\"id\":\"3dff0c8a-00a0-4769-b809-48b3e0ac4a74\",\"type\":\"SaveTool\"},{\"id\":\"db2c0565-edab-46db-9cfc-a45ebd23ee1a\",\"type\":\"ResetTool\"},{\"id\":\"0073e349-37c0-4866-b994-434cfe88ef13\",\"type\":\"HelpTool\"}]},\"id\":\"62e022a3-232d-48bb-92e6-3f288143c5b1\",\"type\":\"Toolbar\"},{\"attributes\":{\"below\":[{\"id\":\"d8b8899b-3014-4e23-be09-00ca2fa0d1fd\",\"type\":\"CategoricalAxis\"}],\"left\":[{\"id\":\"f02c186d-0028-4bc2-8d0e-3acc920b453c\",\"type\":\"LinearAxis\"}],\"plot_height\":300,\"plot_width\":300,\"renderers\":[{\"id\":\"d8b8899b-3014-4e23-be09-00ca2fa0d1fd\",\"type\":\"CategoricalAxis\"},{\"id\":\"9c9b3442-c594-4d7c-a846-0e587f333f86\",\"type\":\"Grid\"},{\"id\":\"f02c186d-0028-4bc2-8d0e-3acc920b453c\",\"type\":\"LinearAxis\"},{\"id\":\"82e9d667-bf09-4a80-a269-9a2e8e248aca\",\"type\":\"Grid\"},{\"id\":\"473ee562-d319-454c-9634-99610214be1b\",\"type\":\"BoxAnnotation\"},{\"id\":\"bf68554e-8af9-4780-ae61-748ad3075c33\",\"type\":\"GlyphRenderer\"}],\"title\":{\"id\":\"778f2b2b-34ac-436f-a669-cfafb1504e8f\",\"type\":\"Title\"},\"toolbar\":{\"id\":\"62e022a3-232d-48bb-92e6-3f288143c5b1\",\"type\":\"Toolbar\"},\"toolbar_location\":null,\"x_range\":{\"id\":\"83006a97-11e9-45ce-bdce-f51e2080fa48\",\"type\":\"FactorRange\"},\"x_scale\":{\"id\":\"7444cc1d-670f-4f2b-97dc-01c99510536a\",\"type\":\"CategoricalScale\"},\"y_range\":{\"id\":\"19aa8dbb-8466-433c-9fd0-7c6d90407c4d\",\"type\":\"DataRange1d\"},\"y_scale\":{\"id\":\"004b8853-9130-4d15-8ecf-7e5e6f2958f3\",\"type\":\"LinearScale\"}},\"id\":\"7267e997-33e2-4f71-911c-26a335ad21cf\",\"subtype\":\"Figure\",\"type\":\"Plot\"},{\"attributes\":{},\"id\":\"3ad10e04-57bc-4f55-a01e-7db5092936b9\",\"type\":\"BasicTickFormatter\"},{\"attributes\":{},\"id\":\"e3c2424d-5d3e-48f7-8b57-7d146dd3c882\",\"type\":\"Selection\"},{\"attributes\":{},\"id\":\"bc6a600e-1e4d-4161-98b9-eba4e47c072a\",\"type\":\"CategoricalTickFormatter\"},{\"attributes\":{\"axis_label\":\"spectral band\",\"formatter\":{\"id\":\"d3ac3a18-cd79-4a97-84aa-a164c29d12f6\",\"type\":\"CategoricalTickFormatter\"},\"plot\":{\"id\":\"7267e997-33e2-4f71-911c-26a335ad21cf\",\"subtype\":\"Figure\",\"type\":\"Plot\"},\"ticker\":{\"id\":\"2403f080-a3bf-4e7c-b09f-891f4d5c5e50\",\"type\":\"CategoricalTicker\"}},\"id\":\"d8b8899b-3014-4e23-be09-00ca2fa0d1fd\",\"type\":\"CategoricalAxis\"},{\"attributes\":{\"plot\":null,\"text\":\"Atmosphere heating. CLIRAD (single-run) - CRD.\"},\"id\":\"778f2b2b-34ac-436f-a669-cfafb1504e8f\",\"type\":\"Title\"},{\"attributes\":{},\"id\":\"b687dead-aac5-436d-bd0b-c20e96159f4a\",\"type\":\"UnionRenderers\"},{\"attributes\":{},\"id\":\"cebef004-ea7e-407f-80d9-5400a8f68548\",\"type\":\"PanTool\"},{\"attributes\":{\"fill_color\":{\"value\":\"#1f77b4\"},\"line_color\":{\"value\":\"#1f77b4\"},\"top\":{\"field\":\"flux\"},\"width\":{\"value\":0.9},\"x\":{\"field\":\"band\"}},\"id\":\"0ad4b086-b32a-4588-ac01-04cb0096839c\",\"type\":\"VBar\"},{\"attributes\":{},\"id\":\"f25e845c-3c16-4225-85da-5aab7d898132\",\"type\":\"UnionRenderers\"},{\"attributes\":{},\"id\":\"fb55cf48-0bc5-4845-8806-11b012ee6dd7\",\"type\":\"BasicTickFormatter\"},{\"attributes\":{},\"id\":\"317e66c8-ee37-48ec-baf2-05b7a8cdf722\",\"type\":\"Selection\"},{\"attributes\":{\"fill_alpha\":{\"value\":0.1},\"fill_color\":{\"value\":\"#1f77b4\"},\"line_alpha\":{\"value\":0.1},\"line_color\":{\"value\":\"#1f77b4\"},\"top\":{\"field\":\"flux\"},\"width\":{\"value\":0.9},\"x\":{\"field\":\"band\"}},\"id\":\"222a6dbc-d714-4500-9e59-679af8f4642a\",\"type\":\"VBar\"},{\"attributes\":{\"callback\":null,\"data\":{\"band\":[\"1\",\"2\",\"3\",\"4\",\"5\",\"6\",\"7\",\"8\",\"9\",\"10\",\"11\"],\"flux\":{\"__ndarray__\":\"AADADkbs874Ak+S5vg/QPwANMzSeCMq/ABTRr62frj8A8Z2Y9WLjP6As7j8yHd0/gB2NQ/0usj8AQGTbs/iOP0Churn429E/AFDtmpDWiD8AO3arQl6wPw==\",\"dtype\":\"float64\",\"shape\":[11]}},\"selected\":{\"id\":\"e3c2424d-5d3e-48f7-8b57-7d146dd3c882\",\"type\":\"Selection\"},\"selection_policy\":{\"id\":\"f25e845c-3c16-4225-85da-5aab7d898132\",\"type\":\"UnionRenderers\"}},\"id\":\"6095d481-d743-4b32-a5a8-2fbe1d96aff3\",\"type\":\"ColumnDataSource\"},{\"attributes\":{\"dimension\":1,\"plot\":{\"id\":\"7267e997-33e2-4f71-911c-26a335ad21cf\",\"subtype\":\"Figure\",\"type\":\"Plot\"},\"ticker\":{\"id\":\"a94e9f7a-742a-4425-be34-75bb5f14da3e\",\"type\":\"BasicTicker\"}},\"id\":\"82e9d667-bf09-4a80-a269-9a2e8e248aca\",\"type\":\"Grid\"},{\"attributes\":{\"overlay\":{\"id\":\"473ee562-d319-454c-9634-99610214be1b\",\"type\":\"BoxAnnotation\"}},\"id\":\"13abf5a8-2790-4709-8204-ae32e9b908f1\",\"type\":\"BoxZoomTool\"},{\"attributes\":{\"data_source\":{\"id\":\"6095d481-d743-4b32-a5a8-2fbe1d96aff3\",\"type\":\"ColumnDataSource\"},\"glyph\":{\"id\":\"a3f2c372-e8d4-4b86-a835-67f30125d7db\",\"type\":\"VBar\"},\"hover_glyph\":null,\"muted_glyph\":null,\"nonselection_glyph\":{\"id\":\"222a6dbc-d714-4500-9e59-679af8f4642a\",\"type\":\"VBar\"},\"selection_glyph\":null,\"view\":{\"id\":\"d2537575-6695-4ec5-8943-18eee4062dce\",\"type\":\"CDSView\"}},\"id\":\"57204c7c-f0f7-4903-a322-33e8114da821\",\"type\":\"GlyphRenderer\"},{\"attributes\":{},\"id\":\"e0219c42-0be2-4fec-ad2b-941cb8139d35\",\"type\":\"WheelZoomTool\"},{\"attributes\":{},\"id\":\"942bb72b-b8b3-4b0d-adbc-2b994c10fe92\",\"type\":\"CategoricalTickFormatter\"},{\"attributes\":{},\"id\":\"db2c0565-edab-46db-9cfc-a45ebd23ee1a\",\"type\":\"ResetTool\"},{\"attributes\":{\"source\":{\"id\":\"1b7e198a-dcf8-4b14-a502-fd2ac414317c\",\"type\":\"ColumnDataSource\"}},\"id\":\"0191a17f-0ed8-4859-8f46-38c8ae2e1507\",\"type\":\"CDSView\"}],\"root_ids\":[\"86685c75-2f2b-4ac2-96d9-e0df76a3a351\"]},\"title\":\"Bokeh Application\",\"version\":\"0.12.16\"}};\n",
       "  var render_items = [{\"docid\":\"3bab11a4-1237-44b1-8828-f1c2b4de88dd\",\"elementid\":\"602dcdff-fac5-4cd2-80ac-bce7263996bc\",\"modelid\":\"86685c75-2f2b-4ac2-96d9-e0df76a3a351\"}];\n",
       "  root.Bokeh.embed.embed_items_notebook(docs_json, render_items);\n",
       "\n",
       "  }\n",
       "  if (root.Bokeh !== undefined) {\n",
       "    embed_document(root);\n",
       "  } else {\n",
       "    var attempts = 0;\n",
       "    var timer = setInterval(function(root) {\n",
       "      if (root.Bokeh !== undefined) {\n",
       "        embed_document(root);\n",
       "        clearInterval(timer);\n",
       "      }\n",
       "      attempts++;\n",
       "      if (attempts > 100) {\n",
       "        console.log(\"Bokeh: ERROR: Unable to run BokehJS code because BokehJS library is missing\")\n",
       "        clearInterval(timer);\n",
       "      }\n",
       "    }, 10, root)\n",
       "  }\n",
       "})(window);"
      ],
      "application/vnd.bokehjs_exec.v0+json": ""
     },
     "metadata": {
      "application/vnd.bokehjs_exec.v0+json": {
       "id": "86685c75-2f2b-4ac2-96d9-e0df76a3a351"
      }
     },
     "output_type": "display_data"
    },
    {
     "data": {
      "text/markdown": [
       "*FIGURE.* Difference between CLIRAD and CRD in TOA, SFC and net atmosphere flux, in each spectral band."
      ],
      "text/plain": [
       "<IPython.core.display.Markdown object>"
      ]
     },
     "metadata": {},
     "output_type": "display_data"
    },
    {
     "data": {
      "text/html": [
       "<div>\n",
       "<style scoped>\n",
       "    .dataframe tbody tr th:only-of-type {\n",
       "        vertical-align: middle;\n",
       "    }\n",
       "\n",
       "    .dataframe tbody tr th {\n",
       "        vertical-align: top;\n",
       "    }\n",
       "\n",
       "    .dataframe thead th {\n",
       "        text-align: right;\n",
       "    }\n",
       "</style>\n",
       "<table border=\"1\" class=\"dataframe\">\n",
       "  <thead>\n",
       "    <tr style=\"text-align: right;\">\n",
       "      <th></th>\n",
       "      <th>OLR flux</th>\n",
       "      <th>SFC flux</th>\n",
       "      <th>ATM heating</th>\n",
       "    </tr>\n",
       "    <tr>\n",
       "      <th>Sum over bands</th>\n",
       "      <th></th>\n",
       "      <th></th>\n",
       "      <th></th>\n",
       "    </tr>\n",
       "  </thead>\n",
       "  <tbody>\n",
       "    <tr>\n",
       "      <th>CLIRAD (single-run) - CRD</th>\n",
       "      <td>1.48</td>\n",
       "      <td>1.61</td>\n",
       "      <td>-0.13</td>\n",
       "    </tr>\n",
       "    <tr>\n",
       "      <th>CRD</th>\n",
       "      <td>-303.40</td>\n",
       "      <td>337.24</td>\n",
       "      <td>-181.37</td>\n",
       "    </tr>\n",
       "  </tbody>\n",
       "</table>\n",
       "</div>"
      ],
      "text/plain": [
       "                           OLR flux  SFC flux  ATM heating\n",
       "Sum over bands                                            \n",
       "CLIRAD (single-run) - CRD      1.48      1.61        -0.13\n",
       "CRD                         -303.40    337.24      -181.37"
      ]
     },
     "metadata": {},
     "output_type": "display_data"
    },
    {
     "data": {
      "text/markdown": [
       "*TABLE.* Difference between CLIRAD and CRD in TOA, SFC and net atmosphere flux, over all spectral bands. CRD's TOA, SFC and net atmosphere flux, over all spectral bands."
      ],
      "text/plain": [
       "<IPython.core.display.Markdown object>"
      ]
     },
     "metadata": {},
     "output_type": "display_data"
    }
   ],
   "source": [
    "def show_html(s):\n",
    "    display.display(display.HTML(s))\n",
    "\n",
    "    \n",
    "def show_markdown(s):\n",
    "    display.display(display.Markdown(s))\n",
    "\n",
    "\n",
    "def script():\n",
    "    \n",
    "    d_atm = {'mls': 'mid-latitude summer',\n",
    "             'saw': 'sub-arctic winter',\n",
    "             'trp': 'tropical'}\n",
    "    \n",
    "    title = ('## Results over entire range of molecules'\n",
    "             ' and spectral bands')\n",
    "    \n",
    "    s_makeup = 'Makeup of atmosphere.'\n",
    "    s_atmpro = '# {}'\n",
    "    s_cool = 'Cooling rates. {}.'\n",
    "    s_flux = 'Fluxes. {}.'\n",
    "    \n",
    "    atmpros = ['mls', 'saw', 'trp']\n",
    "    \n",
    "    # TOC\n",
    "    show_markdown(title)\n",
    "    show_markdown('### Table of Contents')\n",
    "    show_html(climahtml.getHTML_hrefanchor(s_makeup))\n",
    "    for atmpro in atmpros:\n",
    "        show_markdown('**' + d_atm[atmpro] + '**')\n",
    "        show_html(climahtml.getHTML_hrefanchor(s_cool.format(atmpro)))\n",
    "        show_html(climahtml.getHTML_hrefanchor(s_flux.format(atmpro)))\n",
    "\n",
    "        \n",
    "    # Atmosphere makeup\n",
    "    show_html(climahtml.getHTML_idanchor(s_makeup))\n",
    "    show_markdown(climahtml.getMarkdown_sectitle(s_makeup))\n",
    "    show_makeup()\n",
    "        \n",
    "    for atmpro in atmpros:\n",
    "        show_html(climahtml.getHTML_idanchor(s_cool.format(atmpro)))\n",
    "        show_markdown(\n",
    "            climahtml.getMarkdown_sectitle(s_cool.format(atmpro)))\n",
    "        show_cool(atmpro=atmpro)\n",
    "        show_html(climahtml.getHTML_idanchor(s_flux.format(atmpro)))\n",
    "        show_markdown(\n",
    "            climahtml.getMarkdown_sectitle(s_flux.format(atmpro)))\n",
    "        show_hist_flux(atmpro=atmpro)\n",
    "        show_tb_flux(atmpro=atmpro)\n",
    "    \n",
    "    \n",
    "script()  "
   ]
  },
  {
   "cell_type": "code",
   "execution_count": null,
   "metadata": {
    "collapsed": true
   },
   "outputs": [],
   "source": []
  },
  {
   "cell_type": "code",
   "execution_count": 283,
   "metadata": {},
   "outputs": [
    {
     "data": {
      "text/html": [
       "<script>\n",
       "code_show=true; \n",
       "function code_toggle() {\n",
       " if (code_show){\n",
       " $('div.input').hide();\n",
       " } else {\n",
       " $('div.input').show();\n",
       " }\n",
       " code_show = !code_show\n",
       "} \n",
       "$( document ).ready(code_toggle);\n",
       "</script>\n",
       "<form action=\"javascript:code_toggle()\"><input type=\"submit\" value=\"Click here to toggle on/off the raw code.\"></form>"
      ],
      "text/plain": [
       "<IPython.core.display.HTML object>"
      ]
     },
     "execution_count": 283,
     "metadata": {},
     "output_type": "execute_result"
    }
   ],
   "source": [
    "display.HTML('''<script>\n",
    "code_show=true; \n",
    "function code_toggle() {\n",
    " if (code_show){\n",
    " $('div.input').hide();\n",
    " } else {\n",
    " $('div.input').show();\n",
    " }\n",
    " code_show = !code_show\n",
    "} \n",
    "$( document ).ready(code_toggle);\n",
    "</script>\n",
    "<form action=\"javascript:code_toggle()\"><input type=\"submit\" value=\"Click here to toggle on/off the raw code.\"></form>''')"
   ]
  },
  {
   "cell_type": "code",
   "execution_count": null,
   "metadata": {
    "collapsed": true
   },
   "outputs": [],
   "source": []
  }
 ],
 "metadata": {
  "kernelspec": {
   "display_name": "Python 3",
   "language": "python",
   "name": "python3"
  },
  "language_info": {
   "codemirror_mode": {
    "name": "ipython",
    "version": 3
   },
   "file_extension": ".py",
   "mimetype": "text/x-python",
   "name": "python",
   "nbconvert_exporter": "python",
   "pygments_lexer": "ipython3",
   "version": "3.6.1"
  }
 },
 "nbformat": 4,
 "nbformat_minor": 2
}
