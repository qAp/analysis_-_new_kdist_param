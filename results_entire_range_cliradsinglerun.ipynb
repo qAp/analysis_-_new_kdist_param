{
 "cells": [
  {
   "cell_type": "code",
   "execution_count": 735,
   "metadata": {
    "collapsed": true
   },
   "outputs": [],
   "source": [
    "import os\n",
    "import ast\n",
    "import json\n",
    "import importlib \n",
    "import itertools\n",
    "import collections\n",
    "import pprint\n",
    "\n",
    "from bokeh.io import output_notebook, show\n",
    "from bokeh.layouts import gridplot\n",
    "from bokeh.plotting import figure\n",
    "from bokeh.models import Range1d, Legend, ColumnDataSource, FactorRange\n",
    "from bokeh.palettes import all_palettes\n",
    "from bokeh.transform import factor_cmap\n",
    "\n",
    "import matplotlib\n",
    "import matplotlib.pyplot as plt\n",
    "import numpy as np\n",
    "import pandas as pd\n",
    "import xarray as xr\n",
    "\n",
    "\n",
    "import climatools.lblnew.bestfit_params as bestfits\n",
    "from climatools.lblnew import setup_bestfit, setup_overlap\n",
    "import climatools.lblnew.pipeline as pipe_lblnew\n",
    "import climatools.cliradlw.setup as setup_cliradlw\n",
    "import climatools.cliradlw.pipeline as pipe_cliradlw\n",
    "\n",
    "import climatools.html.html as climahtml\n",
    "from climatools.lblnew.dataio import *\n",
    "from climatools.plot.plot import *\n",
    "\n",
    "\n",
    "from IPython import display\n",
    "\n",
    "#importlib.reload(bestfits)\n",
    "#importlib.reload(setup_bestfit)\n",
    "#importlib.reload(setup_overlap)\n",
    "#importlib.reload(pipe_lblnew)\n",
    "#importlib.reload(setup_cliradlw)\n",
    "#importlib.reload(pipe_cliradlw)"
   ]
  },
  {
   "cell_type": "code",
   "execution_count": 736,
   "metadata": {
    "scrolled": true
   },
   "outputs": [
    {
     "data": {
      "text/html": [
       "\n",
       "    <div class=\"bk-root\">\n",
       "        <a href=\"https://bokeh.pydata.org\" target=\"_blank\" class=\"bk-logo bk-logo-small bk-logo-notebook\"></a>\n",
       "        <span id=\"1aaa88c1-fd3b-4e0a-a8e3-8eb638d40dc8\">Loading BokehJS ...</span>\n",
       "    </div>"
      ]
     },
     "metadata": {},
     "output_type": "display_data"
    },
    {
     "data": {
      "application/javascript": [
       "\n",
       "(function(root) {\n",
       "  function now() {\n",
       "    return new Date();\n",
       "  }\n",
       "\n",
       "  var force = true;\n",
       "\n",
       "  if (typeof (root._bokeh_onload_callbacks) === \"undefined\" || force === true) {\n",
       "    root._bokeh_onload_callbacks = [];\n",
       "    root._bokeh_is_loading = undefined;\n",
       "  }\n",
       "\n",
       "  var JS_MIME_TYPE = 'application/javascript';\n",
       "  var HTML_MIME_TYPE = 'text/html';\n",
       "  var EXEC_MIME_TYPE = 'application/vnd.bokehjs_exec.v0+json';\n",
       "  var CLASS_NAME = 'output_bokeh rendered_html';\n",
       "\n",
       "  /**\n",
       "   * Render data to the DOM node\n",
       "   */\n",
       "  function render(props, node) {\n",
       "    var script = document.createElement(\"script\");\n",
       "    node.appendChild(script);\n",
       "  }\n",
       "\n",
       "  /**\n",
       "   * Handle when an output is cleared or removed\n",
       "   */\n",
       "  function handleClearOutput(event, handle) {\n",
       "    var cell = handle.cell;\n",
       "\n",
       "    var id = cell.output_area._bokeh_element_id;\n",
       "    var server_id = cell.output_area._bokeh_server_id;\n",
       "    // Clean up Bokeh references\n",
       "    if (id !== undefined) {\n",
       "      Bokeh.index[id].model.document.clear();\n",
       "      delete Bokeh.index[id];\n",
       "    }\n",
       "\n",
       "    if (server_id !== undefined) {\n",
       "      // Clean up Bokeh references\n",
       "      var cmd = \"from bokeh.io.state import curstate; print(curstate().uuid_to_server['\" + server_id + \"'].get_sessions()[0].document.roots[0]._id)\";\n",
       "      cell.notebook.kernel.execute(cmd, {\n",
       "        iopub: {\n",
       "          output: function(msg) {\n",
       "            var element_id = msg.content.text.trim();\n",
       "            Bokeh.index[element_id].model.document.clear();\n",
       "            delete Bokeh.index[element_id];\n",
       "          }\n",
       "        }\n",
       "      });\n",
       "      // Destroy server and session\n",
       "      var cmd = \"import bokeh.io.notebook as ion; ion.destroy_server('\" + server_id + \"')\";\n",
       "      cell.notebook.kernel.execute(cmd);\n",
       "    }\n",
       "  }\n",
       "\n",
       "  /**\n",
       "   * Handle when a new output is added\n",
       "   */\n",
       "  function handleAddOutput(event, handle) {\n",
       "    var output_area = handle.output_area;\n",
       "    var output = handle.output;\n",
       "\n",
       "    // limit handleAddOutput to display_data with EXEC_MIME_TYPE content only\n",
       "    if ((output.output_type != \"display_data\") || (!output.data.hasOwnProperty(EXEC_MIME_TYPE))) {\n",
       "      return\n",
       "    }\n",
       "\n",
       "    var toinsert = output_area.element.find(\".\" + CLASS_NAME.split(' ')[0]);\n",
       "\n",
       "    if (output.metadata[EXEC_MIME_TYPE][\"id\"] !== undefined) {\n",
       "      toinsert[toinsert.length - 1].firstChild.textContent = output.data[JS_MIME_TYPE];\n",
       "      // store reference to embed id on output_area\n",
       "      output_area._bokeh_element_id = output.metadata[EXEC_MIME_TYPE][\"id\"];\n",
       "    }\n",
       "    if (output.metadata[EXEC_MIME_TYPE][\"server_id\"] !== undefined) {\n",
       "      var bk_div = document.createElement(\"div\");\n",
       "      bk_div.innerHTML = output.data[HTML_MIME_TYPE];\n",
       "      var script_attrs = bk_div.children[0].attributes;\n",
       "      for (var i = 0; i < script_attrs.length; i++) {\n",
       "        toinsert[toinsert.length - 1].firstChild.setAttribute(script_attrs[i].name, script_attrs[i].value);\n",
       "      }\n",
       "      // store reference to server id on output_area\n",
       "      output_area._bokeh_server_id = output.metadata[EXEC_MIME_TYPE][\"server_id\"];\n",
       "    }\n",
       "  }\n",
       "\n",
       "  function register_renderer(events, OutputArea) {\n",
       "\n",
       "    function append_mime(data, metadata, element) {\n",
       "      // create a DOM node to render to\n",
       "      var toinsert = this.create_output_subarea(\n",
       "        metadata,\n",
       "        CLASS_NAME,\n",
       "        EXEC_MIME_TYPE\n",
       "      );\n",
       "      this.keyboard_manager.register_events(toinsert);\n",
       "      // Render to node\n",
       "      var props = {data: data, metadata: metadata[EXEC_MIME_TYPE]};\n",
       "      render(props, toinsert[toinsert.length - 1]);\n",
       "      element.append(toinsert);\n",
       "      return toinsert\n",
       "    }\n",
       "\n",
       "    /* Handle when an output is cleared or removed */\n",
       "    events.on('clear_output.CodeCell', handleClearOutput);\n",
       "    events.on('delete.Cell', handleClearOutput);\n",
       "\n",
       "    /* Handle when a new output is added */\n",
       "    events.on('output_added.OutputArea', handleAddOutput);\n",
       "\n",
       "    /**\n",
       "     * Register the mime type and append_mime function with output_area\n",
       "     */\n",
       "    OutputArea.prototype.register_mime_type(EXEC_MIME_TYPE, append_mime, {\n",
       "      /* Is output safe? */\n",
       "      safe: true,\n",
       "      /* Index of renderer in `output_area.display_order` */\n",
       "      index: 0\n",
       "    });\n",
       "  }\n",
       "\n",
       "  // register the mime type if in Jupyter Notebook environment and previously unregistered\n",
       "  if (root.Jupyter !== undefined) {\n",
       "    var events = require('base/js/events');\n",
       "    var OutputArea = require('notebook/js/outputarea').OutputArea;\n",
       "\n",
       "    if (OutputArea.prototype.mime_types().indexOf(EXEC_MIME_TYPE) == -1) {\n",
       "      register_renderer(events, OutputArea);\n",
       "    }\n",
       "  }\n",
       "\n",
       "  \n",
       "  if (typeof (root._bokeh_timeout) === \"undefined\" || force === true) {\n",
       "    root._bokeh_timeout = Date.now() + 5000;\n",
       "    root._bokeh_failed_load = false;\n",
       "  }\n",
       "\n",
       "  var NB_LOAD_WARNING = {'data': {'text/html':\n",
       "     \"<div style='background-color: #fdd'>\\n\"+\n",
       "     \"<p>\\n\"+\n",
       "     \"BokehJS does not appear to have successfully loaded. If loading BokehJS from CDN, this \\n\"+\n",
       "     \"may be due to a slow or bad network connection. Possible fixes:\\n\"+\n",
       "     \"</p>\\n\"+\n",
       "     \"<ul>\\n\"+\n",
       "     \"<li>re-rerun `output_notebook()` to attempt to load from CDN again, or</li>\\n\"+\n",
       "     \"<li>use INLINE resources instead, as so:</li>\\n\"+\n",
       "     \"</ul>\\n\"+\n",
       "     \"<code>\\n\"+\n",
       "     \"from bokeh.resources import INLINE\\n\"+\n",
       "     \"output_notebook(resources=INLINE)\\n\"+\n",
       "     \"</code>\\n\"+\n",
       "     \"</div>\"}};\n",
       "\n",
       "  function display_loaded() {\n",
       "    var el = document.getElementById(\"1aaa88c1-fd3b-4e0a-a8e3-8eb638d40dc8\");\n",
       "    if (el != null) {\n",
       "      el.textContent = \"BokehJS is loading...\";\n",
       "    }\n",
       "    if (root.Bokeh !== undefined) {\n",
       "      if (el != null) {\n",
       "        el.textContent = \"BokehJS \" + root.Bokeh.version + \" successfully loaded.\";\n",
       "      }\n",
       "    } else if (Date.now() < root._bokeh_timeout) {\n",
       "      setTimeout(display_loaded, 100)\n",
       "    }\n",
       "  }\n",
       "\n",
       "\n",
       "  function run_callbacks() {\n",
       "    try {\n",
       "      root._bokeh_onload_callbacks.forEach(function(callback) { callback() });\n",
       "    }\n",
       "    finally {\n",
       "      delete root._bokeh_onload_callbacks\n",
       "    }\n",
       "    console.info(\"Bokeh: all callbacks have finished\");\n",
       "  }\n",
       "\n",
       "  function load_libs(js_urls, callback) {\n",
       "    root._bokeh_onload_callbacks.push(callback);\n",
       "    if (root._bokeh_is_loading > 0) {\n",
       "      console.log(\"Bokeh: BokehJS is being loaded, scheduling callback at\", now());\n",
       "      return null;\n",
       "    }\n",
       "    if (js_urls == null || js_urls.length === 0) {\n",
       "      run_callbacks();\n",
       "      return null;\n",
       "    }\n",
       "    console.log(\"Bokeh: BokehJS not loaded, scheduling load and callback at\", now());\n",
       "    root._bokeh_is_loading = js_urls.length;\n",
       "    for (var i = 0; i < js_urls.length; i++) {\n",
       "      var url = js_urls[i];\n",
       "      var s = document.createElement('script');\n",
       "      s.src = url;\n",
       "      s.async = false;\n",
       "      s.onreadystatechange = s.onload = function() {\n",
       "        root._bokeh_is_loading--;\n",
       "        if (root._bokeh_is_loading === 0) {\n",
       "          console.log(\"Bokeh: all BokehJS libraries loaded\");\n",
       "          run_callbacks()\n",
       "        }\n",
       "      };\n",
       "      s.onerror = function() {\n",
       "        console.warn(\"failed to load library \" + url);\n",
       "      };\n",
       "      console.log(\"Bokeh: injecting script tag for BokehJS library: \", url);\n",
       "      document.getElementsByTagName(\"head\")[0].appendChild(s);\n",
       "    }\n",
       "  };var element = document.getElementById(\"1aaa88c1-fd3b-4e0a-a8e3-8eb638d40dc8\");\n",
       "  if (element == null) {\n",
       "    console.log(\"Bokeh: ERROR: autoload.js configured with elementid '1aaa88c1-fd3b-4e0a-a8e3-8eb638d40dc8' but no matching script tag was found. \")\n",
       "    return false;\n",
       "  }\n",
       "\n",
       "  var js_urls = [\"https://cdn.pydata.org/bokeh/release/bokeh-0.12.16.min.js\", \"https://cdn.pydata.org/bokeh/release/bokeh-widgets-0.12.16.min.js\", \"https://cdn.pydata.org/bokeh/release/bokeh-tables-0.12.16.min.js\", \"https://cdn.pydata.org/bokeh/release/bokeh-gl-0.12.16.min.js\"];\n",
       "\n",
       "  var inline_js = [\n",
       "    function(Bokeh) {\n",
       "      Bokeh.set_log_level(\"info\");\n",
       "    },\n",
       "    \n",
       "    function(Bokeh) {\n",
       "      \n",
       "    },\n",
       "    function(Bokeh) {\n",
       "      console.log(\"Bokeh: injecting CSS: https://cdn.pydata.org/bokeh/release/bokeh-0.12.16.min.css\");\n",
       "      Bokeh.embed.inject_css(\"https://cdn.pydata.org/bokeh/release/bokeh-0.12.16.min.css\");\n",
       "      console.log(\"Bokeh: injecting CSS: https://cdn.pydata.org/bokeh/release/bokeh-widgets-0.12.16.min.css\");\n",
       "      Bokeh.embed.inject_css(\"https://cdn.pydata.org/bokeh/release/bokeh-widgets-0.12.16.min.css\");\n",
       "      console.log(\"Bokeh: injecting CSS: https://cdn.pydata.org/bokeh/release/bokeh-tables-0.12.16.min.css\");\n",
       "      Bokeh.embed.inject_css(\"https://cdn.pydata.org/bokeh/release/bokeh-tables-0.12.16.min.css\");\n",
       "    }\n",
       "  ];\n",
       "\n",
       "  function run_inline_js() {\n",
       "    \n",
       "    if ((root.Bokeh !== undefined) || (force === true)) {\n",
       "      for (var i = 0; i < inline_js.length; i++) {\n",
       "        inline_js[i].call(root, root.Bokeh);\n",
       "      }if (force === true) {\n",
       "        display_loaded();\n",
       "      }} else if (Date.now() < root._bokeh_timeout) {\n",
       "      setTimeout(run_inline_js, 100);\n",
       "    } else if (!root._bokeh_failed_load) {\n",
       "      console.log(\"Bokeh: BokehJS failed to load within specified timeout.\");\n",
       "      root._bokeh_failed_load = true;\n",
       "    } else if (force !== true) {\n",
       "      var cell = $(document.getElementById(\"1aaa88c1-fd3b-4e0a-a8e3-8eb638d40dc8\")).parents('.cell').data().cell;\n",
       "      cell.output_area.append_execute_result(NB_LOAD_WARNING)\n",
       "    }\n",
       "\n",
       "  }\n",
       "\n",
       "  if (root._bokeh_is_loading === 0) {\n",
       "    console.log(\"Bokeh: BokehJS loaded, going straight to plotting\");\n",
       "    run_inline_js();\n",
       "  } else {\n",
       "    load_libs(js_urls, function() {\n",
       "      console.log(\"Bokeh: BokehJS plotting callback run at\", now());\n",
       "      run_inline_js();\n",
       "    });\n",
       "  }\n",
       "}(window));"
      ],
      "application/vnd.bokehjs_load.v0+json": "\n(function(root) {\n  function now() {\n    return new Date();\n  }\n\n  var force = true;\n\n  if (typeof (root._bokeh_onload_callbacks) === \"undefined\" || force === true) {\n    root._bokeh_onload_callbacks = [];\n    root._bokeh_is_loading = undefined;\n  }\n\n  \n\n  \n  if (typeof (root._bokeh_timeout) === \"undefined\" || force === true) {\n    root._bokeh_timeout = Date.now() + 5000;\n    root._bokeh_failed_load = false;\n  }\n\n  var NB_LOAD_WARNING = {'data': {'text/html':\n     \"<div style='background-color: #fdd'>\\n\"+\n     \"<p>\\n\"+\n     \"BokehJS does not appear to have successfully loaded. If loading BokehJS from CDN, this \\n\"+\n     \"may be due to a slow or bad network connection. Possible fixes:\\n\"+\n     \"</p>\\n\"+\n     \"<ul>\\n\"+\n     \"<li>re-rerun `output_notebook()` to attempt to load from CDN again, or</li>\\n\"+\n     \"<li>use INLINE resources instead, as so:</li>\\n\"+\n     \"</ul>\\n\"+\n     \"<code>\\n\"+\n     \"from bokeh.resources import INLINE\\n\"+\n     \"output_notebook(resources=INLINE)\\n\"+\n     \"</code>\\n\"+\n     \"</div>\"}};\n\n  function display_loaded() {\n    var el = document.getElementById(\"1aaa88c1-fd3b-4e0a-a8e3-8eb638d40dc8\");\n    if (el != null) {\n      el.textContent = \"BokehJS is loading...\";\n    }\n    if (root.Bokeh !== undefined) {\n      if (el != null) {\n        el.textContent = \"BokehJS \" + root.Bokeh.version + \" successfully loaded.\";\n      }\n    } else if (Date.now() < root._bokeh_timeout) {\n      setTimeout(display_loaded, 100)\n    }\n  }\n\n\n  function run_callbacks() {\n    try {\n      root._bokeh_onload_callbacks.forEach(function(callback) { callback() });\n    }\n    finally {\n      delete root._bokeh_onload_callbacks\n    }\n    console.info(\"Bokeh: all callbacks have finished\");\n  }\n\n  function load_libs(js_urls, callback) {\n    root._bokeh_onload_callbacks.push(callback);\n    if (root._bokeh_is_loading > 0) {\n      console.log(\"Bokeh: BokehJS is being loaded, scheduling callback at\", now());\n      return null;\n    }\n    if (js_urls == null || js_urls.length === 0) {\n      run_callbacks();\n      return null;\n    }\n    console.log(\"Bokeh: BokehJS not loaded, scheduling load and callback at\", now());\n    root._bokeh_is_loading = js_urls.length;\n    for (var i = 0; i < js_urls.length; i++) {\n      var url = js_urls[i];\n      var s = document.createElement('script');\n      s.src = url;\n      s.async = false;\n      s.onreadystatechange = s.onload = function() {\n        root._bokeh_is_loading--;\n        if (root._bokeh_is_loading === 0) {\n          console.log(\"Bokeh: all BokehJS libraries loaded\");\n          run_callbacks()\n        }\n      };\n      s.onerror = function() {\n        console.warn(\"failed to load library \" + url);\n      };\n      console.log(\"Bokeh: injecting script tag for BokehJS library: \", url);\n      document.getElementsByTagName(\"head\")[0].appendChild(s);\n    }\n  };var element = document.getElementById(\"1aaa88c1-fd3b-4e0a-a8e3-8eb638d40dc8\");\n  if (element == null) {\n    console.log(\"Bokeh: ERROR: autoload.js configured with elementid '1aaa88c1-fd3b-4e0a-a8e3-8eb638d40dc8' but no matching script tag was found. \")\n    return false;\n  }\n\n  var js_urls = [\"https://cdn.pydata.org/bokeh/release/bokeh-0.12.16.min.js\", \"https://cdn.pydata.org/bokeh/release/bokeh-widgets-0.12.16.min.js\", \"https://cdn.pydata.org/bokeh/release/bokeh-tables-0.12.16.min.js\", \"https://cdn.pydata.org/bokeh/release/bokeh-gl-0.12.16.min.js\"];\n\n  var inline_js = [\n    function(Bokeh) {\n      Bokeh.set_log_level(\"info\");\n    },\n    \n    function(Bokeh) {\n      \n    },\n    function(Bokeh) {\n      console.log(\"Bokeh: injecting CSS: https://cdn.pydata.org/bokeh/release/bokeh-0.12.16.min.css\");\n      Bokeh.embed.inject_css(\"https://cdn.pydata.org/bokeh/release/bokeh-0.12.16.min.css\");\n      console.log(\"Bokeh: injecting CSS: https://cdn.pydata.org/bokeh/release/bokeh-widgets-0.12.16.min.css\");\n      Bokeh.embed.inject_css(\"https://cdn.pydata.org/bokeh/release/bokeh-widgets-0.12.16.min.css\");\n      console.log(\"Bokeh: injecting CSS: https://cdn.pydata.org/bokeh/release/bokeh-tables-0.12.16.min.css\");\n      Bokeh.embed.inject_css(\"https://cdn.pydata.org/bokeh/release/bokeh-tables-0.12.16.min.css\");\n    }\n  ];\n\n  function run_inline_js() {\n    \n    if ((root.Bokeh !== undefined) || (force === true)) {\n      for (var i = 0; i < inline_js.length; i++) {\n        inline_js[i].call(root, root.Bokeh);\n      }if (force === true) {\n        display_loaded();\n      }} else if (Date.now() < root._bokeh_timeout) {\n      setTimeout(run_inline_js, 100);\n    } else if (!root._bokeh_failed_load) {\n      console.log(\"Bokeh: BokehJS failed to load within specified timeout.\");\n      root._bokeh_failed_load = true;\n    } else if (force !== true) {\n      var cell = $(document.getElementById(\"1aaa88c1-fd3b-4e0a-a8e3-8eb638d40dc8\")).parents('.cell').data().cell;\n      cell.output_area.append_execute_result(NB_LOAD_WARNING)\n    }\n\n  }\n\n  if (root._bokeh_is_loading === 0) {\n    console.log(\"Bokeh: BokehJS loaded, going straight to plotting\");\n    run_inline_js();\n  } else {\n    load_libs(js_urls, function() {\n      console.log(\"Bokeh: BokehJS plotting callback run at\", now());\n      run_inline_js();\n    });\n  }\n}(window));"
     },
     "metadata": {},
     "output_type": "display_data"
    }
   ],
   "source": [
    "output_notebook()"
   ]
  },
  {
   "cell_type": "code",
   "execution_count": 737,
   "metadata": {
    "collapsed": true
   },
   "outputs": [],
   "source": [
    "'''\n",
    "Get the clirad-lw and lblnew `param`s for all spectral bands.  \n",
    "These are returned by functions `clirad_params_atm` and\n",
    "`lblnew_params_atm`, respectively.\n",
    "'''\n",
    "\n",
    "def molecules_byband_atm():\n",
    "    return {1: {'h2o': 'atmpro'},\n",
    "            2: {'h2o': 'atmpro'}, \n",
    "            3: {'co2': 0.0004, 'h2o': 'atmpro', 'n2o': 3.2e-07},\n",
    "            4: {'co2': 0.0004, 'h2o': 'atmpro'},\n",
    "            5: {'co2': 0.0004, 'h2o': 'atmpro'},\n",
    "            6: {'co2': 0.0004, 'h2o': 'atmpro'},\n",
    "            7: {'co2': 0.0004, 'h2o': 'atmpro', 'o3': 'atmpro'},\n",
    "            8: {'h2o': 'atmpro'},\n",
    "            9: {'ch4': 1.8e-06, 'h2o': 'atmpro', 'n2o': 3.2e-07},\n",
    "            10: {'h2o': 'atmpro'},\n",
    "            11: {'co2': 0.0004, 'h2o': 'atmpro'}}\n",
    "\n",
    "\n",
    "def greyabsorbers_by_band_atm():\n",
    "    return {1: {'con': 'atmpro'},\n",
    "            2: {'con': 'atmpro'},\n",
    "            3: {'con': 'atmpro'},\n",
    "            4: {'con': 'atmpro'},\n",
    "            5: {'con': 'atmpro'},\n",
    "            6: {'con': 'atmpro'}, \n",
    "            7: {'con': 'atmpro'},\n",
    "            8: {'con': 'atmpro', 'n2o': 3.2e-7}, \n",
    "            9: {'con': 'atmpro'}, \n",
    "            10: None,\n",
    "            11: None}\n",
    "\n",
    "\n",
    "def clirad_params_atm(atmpro='mls'):\n",
    "    d = {}\n",
    "    for band, molecule in molecules_byband_atm().items():\n",
    "        for param in setup_cliradlw.test_cases():\n",
    "            if [band] == param['band'] and molecule == param['molecule']:\n",
    "                param['atmpro'] = atmpro\n",
    "                d[band] = param\n",
    "                break                \n",
    "    return d\n",
    "\n",
    "\n",
    "def clirad_params_atm_singlerun(atmpro='mls'):\n",
    "    '''\n",
    "    Returns param of clirad-lw run that is equivalent to the total\n",
    "    of all the runs listed in molecules_byband_atm().  In order\n",
    "    for the output to be compatible with clirad_data_atm(), it will\n",
    "    be a list.\n",
    "    '''\n",
    "    param0 = {'band': [1, 2, 3, 4, 5, 6, 7, 8, 9, 10, 11],\n",
    "              'commitnumber': '328b6a6',\n",
    "              'molecule': {'ch4': 1.8e-06,\n",
    "                           'co2': 0.0004,\n",
    "                           'h2o': 'atmpro',\n",
    "                           'n2o': 3.2e-07,\n",
    "                           'o3': 'atmpro'}}\n",
    "    \n",
    "    d_atmpros = {'mls': 294, 'saw': 257, 'trp': 300}\n",
    "    \n",
    "    param = param0.copy()\n",
    "    param['atmpro'] = atmpro\n",
    "    param['tsfc'] = d_atmpros[atmpro]\n",
    "    \n",
    "    d = {}\n",
    "    d['all'] = param\n",
    "    return d\n",
    "\n",
    "\n",
    "def analysis_dirs_atm(atmpro='mls'):\n",
    "    params = clirad_params_atm(atmpro=atmpro)\n",
    "    return {band: pipe_cliradlw.get_analysis_dir(param=param,\n",
    "                                                 setup=setup_cliradlw) \n",
    "            for band, param in params.items()}\n",
    "\n",
    "\n",
    "def lblnew_params_atm(atmpro='mls'):\n",
    "    dirs = analysis_dirs_atm(atmpro=atmpro)\n",
    "    \n",
    "    d = {}\n",
    "    for band, dirname in dirs.items():\n",
    "        with open(os.path.join(dirname, 'param.py'), \n",
    "                  mode='r', encoding='utf-8') as f:\n",
    "            _, l = f.readlines()\n",
    "        \n",
    "        s = l.split('=')[1].strip()\n",
    "        d[band] = ast.literal_eval(s)\n",
    "        \n",
    "    return d\n"
   ]
  },
  {
   "cell_type": "code",
   "execution_count": 738,
   "metadata": {
    "collapsed": true
   },
   "outputs": [],
   "source": [
    "def db_getdir():\n",
    "    atmpro = 'mls'\n",
    "    params = clirad_params_atm_singlerun(atmpro=atmpro)\n",
    "    param = params['all']\n",
    "    \n",
    "    fdir = pipe_cliradlw.get_fortran_dir(param=param, \n",
    "                                         setup=setup_cliradlw)\n",
    "    return fdir\n",
    "\n",
    "\n",
    "def db_ktable():\n",
    "    fdir = db_getdir()    \n",
    "    fpath = os.path.join(fdir, 'ktable.dat')\n",
    "    \n",
    "    df = pd.read_csv(fpath, sep=r'\\s+')\n",
    "    df = df.set_index(['band', 'mid', 'il', 'it', 'g'])\n",
    "    ds = xr.Dataset.from_dataframe(df)\n",
    "    return ds\n",
    "\n",
    "\n",
    "def db_ng_dgs():\n",
    "    fdir = db_getdir()\n",
    "    fpath = os.path.join(fdir, 'ng_dgs.dat')\n",
    "    \n",
    "    df = pd.read_csv(fpath, sep=r'\\s+')\n",
    "    df = df.set_index(['band', 'mid', 'g'])\n",
    "    ds = xr.Dataset.from_dataframe(df)\n",
    "    return ds\n"
   ]
  },
  {
   "cell_type": "code",
   "execution_count": 739,
   "metadata": {
    "collapsed": true
   },
   "outputs": [],
   "source": [
    "def show_makeup():\n",
    "    df = pd.DataFrame()\n",
    "\n",
    "    for band, molecule in molecules_byband_atm().items():\n",
    "        for name, conc in molecule.items():\n",
    "            df.loc[name, band] = str(conc)\n",
    "\n",
    "    df = df.fillna(0)\n",
    "    df.columns.name = 'clirad band'\n",
    "    df.index.name = 'molecule'\n",
    "    \n",
    "    display.display(df)\n",
    "    \n",
    "    display.display(\n",
    "        display.Markdown('*TABLE.* Non-grey absorbers in the atmosphere.'))\n",
    "\n",
    "\n",
    "def show_grey_makeup():\n",
    "    df = pd.DataFrame()\n",
    "    \n",
    "    for band, molecule in greyabsorbers_by_band_atm().items():\n",
    "        if molecule == None:\n",
    "            pass\n",
    "        else:\n",
    "            for name, conc in molecule.items():\n",
    "                df.loc[name, band] = str(conc)\n",
    "                \n",
    "    df = df.fillna(0)\n",
    "    df.columns.name = 'clirad band'\n",
    "    df.index.name = 'absorber'\n",
    "    \n",
    "    display.display(df)\n",
    "    display.display(\n",
    "        display.Markdown('*TABLE.* Grey absorbers in the atmosphere.')\n",
    "    )"
   ]
  },
  {
   "cell_type": "code",
   "execution_count": 740,
   "metadata": {
    "collapsed": true
   },
   "outputs": [],
   "source": [
    "def load_output_file(path_csv):\n",
    "    '''\n",
    "    Load lblnew output .csv file to xarray.Dataset\n",
    "    \n",
    "    Parameters\n",
    "    ----------\n",
    "    path_csv: str\n",
    "              Path to the .csv file to be loaded.\n",
    "    ds: xarray.Dataset\n",
    "        Data in the input file in the form of an xarray.Dataset.\n",
    "    '''\n",
    "    toindex = ['band', 'pressure', 'igg', 'g']    \n",
    "    df = pd.read_csv(path_csv, sep=r'\\s+')\n",
    "    df = df.set_index([i for i in toindex if i in df.columns])\n",
    "    df = df.rename(columns={'sfu': 'flug',\n",
    "                            'sfd': 'fldg',\n",
    "                            'fnet': 'fnetg',\n",
    "                            'coolr': 'coolrg'})\n",
    "    ds = xr.Dataset.from_dataframe(df)\n",
    "\n",
    "    for l in ('level', 'layer'):\n",
    "        if l in ds.data_vars:\n",
    "            if len(ds[l].dims) > 1:\n",
    "                surface = {d: 0 for d in ds.dims if d != 'pressure'}\n",
    "                coord_level = ds[l][surface]\n",
    "                ds.coords[l] = ('pressure', coord_level)\n",
    "            else:\n",
    "                ds.coords[l] = ('pressure', ds[l])\n",
    "    \n",
    "    return ds"
   ]
  },
  {
   "cell_type": "code",
   "execution_count": 741,
   "metadata": {
    "collapsed": true
   },
   "outputs": [],
   "source": [
    "def lblnew_setup(param=None):\n",
    "    if 'ng_refs' in param:\n",
    "        return {'setup': setup_bestfit,\n",
    "                'fname_flux_crd': 'output_flux.dat',\n",
    "                'fname_cool_crd': 'output_coolr.dat',\n",
    "                'fname_flux_wgt': 'output_wfluxg.dat',\n",
    "                'fname_cool_wgt': 'output_wcoolrg.dat'}\n",
    "    else:\n",
    "        return {'setup': setup_overlap,\n",
    "                'fname_flux_crd': 'output_flux.dat',\n",
    "                'fname_cool_crd': 'output_coolr.dat',\n",
    "                'fname_flux_wgt': 'output_wflux.dat',\n",
    "                'fname_cool_wgt': 'output_wcoolr.dat'}\n",
    "\n",
    "    \n",
    "def load_lblnew_data(param):\n",
    "    \n",
    "    fname_dsname = [('fname_flux_crd', 'ds_flux_crd'),\n",
    "                    ('fname_cool_crd', 'ds_cool_crd'),\n",
    "                    ('fname_flux_wgt', 'ds_flux_wgt'),\n",
    "                    ('fname_cool_wgt', 'ds_cool_wgt')]\n",
    "    \n",
    "    d = lblnew_setup(param)\n",
    "    dir_fortran = pipe_lblnew.get_dir_case(param, setup=d['setup'])\n",
    "    \n",
    "    data_dict = {}\n",
    "    for fname, dsname in fname_dsname:\n",
    "        fpath = os.path.join(dir_fortran, d[fname])\n",
    "        data_dict[dsname] = load_output_file(fpath)\n",
    "    return data_dict"
   ]
  },
  {
   "cell_type": "code",
   "execution_count": 742,
   "metadata": {
    "collapsed": true
   },
   "outputs": [],
   "source": [
    "def crd_data_atm(params_atm):\n",
    "    '''\n",
    "    Parameters\n",
    "    ----------\n",
    "    \n",
    "    params_atm: dict\n",
    "                Parameter dictionary for each band.\n",
    "                \n",
    "    d: dict\n",
    "       'flux': xr.Dataset. [pressure, band]\n",
    "               Fluxes.\n",
    "       'cool': xr.Dataset. [pressure, band]\n",
    "               Cooling rate.\n",
    "    \n",
    "    '''\n",
    "    \n",
    "    results_atm = {band: load_lblnew_data(param) \n",
    "                   for band, param in params_atm.items()}\n",
    "    \n",
    "    bands = [band for band, _ in params_atm.items()]\n",
    "    fluxs = [d['ds_flux_crd'] for _, d in results_atm.items()]\n",
    "    cools = [d['ds_cool_crd'] for _, d in results_atm.items()]\n",
    "    \n",
    "    d = {}\n",
    "    d['flux'] = xr.concat(fluxs, dim=bands).rename({'concat_dim': 'band'})\n",
    "    d['cool'] = xr.concat(cools, dim=bands).rename({'concat_dim': 'band'})\n",
    "    return d        \n",
    "        \n",
    "        \n",
    "\n",
    "def clirad_data_atm(params_atm):\n",
    "    \n",
    "    dirnames = [pipe_cliradlw.get_fortran_dir(param,\n",
    "                                              setup=setup_cliradlw)\n",
    "                for _, param in params_atm.items()]\n",
    "    \n",
    "    fpaths_flux = [os.path.join(n, 'output_flux.dat') for n in dirnames]\n",
    "    fpaths_cool = [os.path.join(n, 'output_coolr.dat') for n in dirnames]\n",
    "    \n",
    "    fluxs = [load_output_file(p) for p in fpaths_flux]    \n",
    "    cools = [load_output_file(p) for p in fpaths_cool]\n",
    "    \n",
    "    d = {}\n",
    "    d['flux'] = sum(fluxs)\n",
    "    d['cool'] = sum(cools)\n",
    "    return d\n",
    "\n"
   ]
  },
  {
   "cell_type": "code",
   "execution_count": 743,
   "metadata": {
    "collapsed": true
   },
   "outputs": [],
   "source": [
    "\n",
    "\n",
    "import rtmtools.clirad.sw.wrangle as cliradwrangle\n",
    "\n",
    "import importlib\n",
    "importlib.reload(cliradwrangle)\n",
    "\n",
    "def oldclirad_data_atm():\n",
    "    '''\n",
    "    Load the OLD clirad's results. mls only.\n",
    "    '''\n",
    "    fpath = os.path.join('/chia_cluster/home/jackyu/radiation',\n",
    "                         'clirad-lw',\n",
    "                         'LW',\n",
    "                         'examples',\n",
    "                         'mls75_h2o_atmpro_co2_.0004_o3_atmpro_n2o_3.2e-7_ch4_1.8e-6_H2012',\n",
    "                         'OUTPUT_CLIRAD.dat')\n",
    "    \n",
    "    ds = cliradwrangle.load_OUTPUT_CLIRAD(readfrom=fpath)\n",
    "    \n",
    "    ds_cool = xr.Dataset()\n",
    "    ds_cool.coords['pressure'] = ('pressure', ds['layer_pressure'])\n",
    "    ds_cool.coords['band'] = ('band', ds['spectral_band'])\n",
    "    ds_cool['coolrg'] = (('band', 'pressure'), - ds['heating_rate'])\n",
    "    \n",
    "    ds_flux = xr.Dataset()\n",
    "    ds_flux.coords['pressure'] = ('pressure', ds['level_pressure'])\n",
    "    ds_flux.coords['band'] = ('band', ds['spectral_band'])\n",
    "    ds_flux['flug'] = (('band', 'pressure'), ds['flux_up'])\n",
    "    ds_flux['fldg'] = (('band', 'pressure'), ds['flux_down'])\n",
    "    ds_flux['fnetg'] = (('band', 'pressure'), ds['net_flux'])\n",
    "    \n",
    "    \n",
    "    d = {}\n",
    "    d['cool'] = ds_cool\n",
    "    d['flux'] = ds_flux\n",
    "    return d\n"
   ]
  },
  {
   "cell_type": "code",
   "execution_count": 744,
   "metadata": {
    "collapsed": true
   },
   "outputs": [],
   "source": [
    "def fmt_cool(ds_in):\n",
    "    ds = ds_in.copy(deep=True)\n",
    "    if 'igg' in ds.dims:\n",
    "        ds = ds.sel(igg=1)\n",
    "\n",
    "    if 'g' in ds.dims:\n",
    "        ds = ds.sum('g')\n",
    "            \n",
    "    if 'band' in ds.dims:\n",
    "        try:\n",
    "            ds = ds.squeeze('band')\n",
    "        except ValueError:\n",
    "            ds = ds.sum('band')\n",
    "                \n",
    "    return ds['coolrg']\n",
    "\n",
    "\n",
    "\n",
    "def nice_xlims(pltdata=None, prange=None):\n",
    "    \n",
    "    def get_slice(srs):\n",
    "        return srs.sel(pressure=slice(*prange))\n",
    "    \n",
    "    srss = [d['srs'] for d in pltdata]\n",
    "    vmin = min([get_slice(srs).min() for srs in srss])\n",
    "    vmax = max([get_slice(srs).max() for srs in srss])\n",
    "    dv = (vmax - vmin) * .01\n",
    "    return float(vmin - dv), float(vmax + dv)\n",
    "\n",
    "\n",
    "    \n",
    "def plt_cool_bokeh(pltdata=None, \n",
    "                   y_axis_type='linear', prange=(50, 1050)):\n",
    "    \n",
    "    ymin = 1e-2 \n",
    "    ymax = 1020\n",
    "    \n",
    "    p2 = figure(y_axis_type=y_axis_type, plot_width=300)\n",
    "    xmin, xmax = nice_xlims(pltdata, prange=prange)\n",
    "    \n",
    "    rs = []\n",
    "    for d in pltdata:\n",
    "        rd = []\n",
    "        if 'marker' in d:\n",
    "            r_mark = getattr(p2, d['marker'])(d['srs'].values, \n",
    "                        d['srs'].coords['pressure'].values,\n",
    "                        color=d['color'], alpha=.7)\n",
    "            rd.append(r_mark)\n",
    "        r_line = p2.line(d['srs'].values, \n",
    "                         d['srs'].coords['pressure'].values,\n",
    "                         color=d['color'], alpha=d['alpha'], \n",
    "                         line_width=d['line_width'], \n",
    "                         line_dash=d['line_dash'])\n",
    "        rd.append(r_line)\n",
    "      \n",
    "        rs.append(rd)\n",
    "        \n",
    "    p2.y_range = Range1d(ymax, ymin)  \n",
    "    p2.yaxis.axis_label = 'pressure [mb]'\n",
    "    \n",
    "    p2.x_range = Range1d(xmin, xmax)\n",
    "    p2.xaxis.axis_label = 'cooling rate [K/day]'\n",
    "    \n",
    "    items = [(d['label'], r) for r, d in zip(rs, pltdata)]\n",
    "    legend = Legend(items=items, location=(10, 0))\n",
    "    legend.label_text_font_size = '8pt'\n",
    "    p2.add_layout(legend, 'above')\n",
    "    p2.legend.orientation = 'horizontal'\n",
    "    p2.legend.location = 'top_center'\n",
    "    \n",
    "    return p2"
   ]
  },
  {
   "cell_type": "code",
   "execution_count": 745,
   "metadata": {
    "collapsed": true
   },
   "outputs": [],
   "source": [
    "def pltdata_cool(atmpro='mls'):\n",
    "    \n",
    "    d_clirad_singlerun = clirad_data_atm(\n",
    "        clirad_params_atm_singlerun(atmpro=atmpro))\n",
    "    d_clirad = clirad_data_atm(clirad_params_atm(atmpro=atmpro))\n",
    "    d_crd = crd_data_atm(lblnew_params_atm(atmpro=atmpro))\n",
    "\n",
    "    ds_clirad_singlerun = d_clirad_singlerun['cool']\n",
    "    ds_clirad = d_clirad['cool']\n",
    "    ds_crd = d_crd['cool']\n",
    "\n",
    "    colors = all_palettes['Set1'][4]\n",
    "    \n",
    "    data = [\n",
    "        {'label': 'CLIRAD (single-run)',\n",
    "        'srs': fmt_cool(ds_clirad_singlerun),\n",
    "        'line_dash': 'dashed', 'line_width': 5,\n",
    "        'color': colors[1], 'alpha': .6},\n",
    "        {'label': 'CRD',\n",
    "         'srs': fmt_cool(ds_crd),\n",
    "         'line_dash': 'solid', 'line_width': 1.5,\n",
    "         'marker': 'circle', 'marker_size': 5,\n",
    "         'color': colors[2], 'alpha': 1}\n",
    "    ]\n",
    "#        {'label': 'CLIRAD',\n",
    "#         'srs': fmt_cool(ds_clirad),\n",
    "#         'line_dash': 'dashed', 'line_width': 5,\n",
    "#         'color': colors[0], 'alpha': .6}\n",
    "        \n",
    "\n",
    "    \n",
    "    # include old CLIRAD's results for mls profile\n",
    "    if atmpro == 'mls':\n",
    "        d_oldclirad = oldclirad_data_atm()\n",
    "        ds_oldclirad = d_oldclirad['cool']        \n",
    "        data.append(\n",
    "            {'label': 'old CLIRAD (H2012)',\n",
    "             'srs': fmt_cool(ds_oldclirad),\n",
    "             'line_dash': 'solid', 'line_width': 1.5,\n",
    "             'marker': 'square', 'marker_size': 3,\n",
    "             'color': colors[3], 'alpha': .5})\n",
    "    return data\n",
    "\n",
    "\n",
    "def pltdata_cooldiff(atmpro='mls'):\n",
    "    \n",
    "    d_clirad_singlerun = clirad_data_atm(\n",
    "        clirad_params_atm_singlerun(atmpro=atmpro))\n",
    "    d_clirad = clirad_data_atm(clirad_params_atm(atmpro=atmpro))\n",
    "    d_crd = crd_data_atm(lblnew_params_atm(atmpro=atmpro))\n",
    "    \n",
    "    ds_clirad_singlerun = d_clirad_singlerun['cool']\n",
    "    ds_clirad = d_clirad['cool']\n",
    "    ds_crd = d_crd['cool']\n",
    "    \n",
    "    ds_diff = ds_clirad_singlerun - ds_crd\n",
    "    \n",
    "    colors = all_palettes['Set1'][4]\n",
    "    \n",
    "    data = [\n",
    "        {'label': 'CLIRAD (single-run) - CRD',\n",
    "         'srs': fmt_cool(ds_diff),\n",
    "         'line_dash': 'solid', 'line_width': 1.5, \n",
    "         'marker': 'circle', 'marker_size': 7,\n",
    "         'color': colors[3], 'alpha': .8}\n",
    "    ]\n",
    "    \n",
    "    # include old CLIRAD's results for mls profile\n",
    "    if atmpro == 'mls':\n",
    "        d_oldclirad = oldclirad_data_atm()\n",
    "        ds_oldclirad = d_oldclirad['cool']\n",
    "        ds_oldclirad.coords['pressure'] = ds_crd.coords['pressure']\n",
    "        ds_diff_old = ds_oldclirad.sum('band') - ds_crd.sum('band')\n",
    "        data.append(\n",
    "            {'label': 'old CLIRAD (H2012) - CRD',\n",
    "             'srs': fmt_cool(ds_diff_old),\n",
    "             'line_dash': 'dashed', 'line_width': 4,\n",
    "             'color': colors[1], 'alpha': .5}\n",
    "        )\n",
    "    return data\n",
    "\n",
    "\n",
    "def show_cool(atmpro='mls'):\n",
    "    \n",
    "    data_cool = pltdata_cool(atmpro=atmpro)\n",
    "    p_cool_liny = plt_cool_bokeh(pltdata=data_cool)\n",
    "    p_cool_logy = plt_cool_bokeh(pltdata=data_cool, \n",
    "                                 y_axis_type='log',\n",
    "                                 prange=(.01, 200))\n",
    "    \n",
    "    data_cooldiff = pltdata_cooldiff(atmpro=atmpro)\n",
    "    p_cooldiff_logy = plt_cool_bokeh(pltdata=data_cooldiff,\n",
    "                                     y_axis_type='log',\n",
    "                                     prange=(.01, 200))\n",
    "    \n",
    "    everything = gridplot(p_cool_liny, p_cool_logy, \n",
    "                          p_cooldiff_logy,\n",
    "                          ncols=3)\n",
    "    show(everything)\n",
    "    display.display(\n",
    "        display.Markdown('*FIGURE.* Cooling rates & difference.'))\n",
    "\n",
    "\n",
    "    "
   ]
  },
  {
   "cell_type": "code",
   "execution_count": null,
   "metadata": {
    "collapsed": true
   },
   "outputs": [],
   "source": []
  },
  {
   "cell_type": "code",
   "execution_count": 746,
   "metadata": {
    "collapsed": true,
    "scrolled": false
   },
   "outputs": [],
   "source": [
    "\n",
    "\n",
    "def hist_band_vs_flux(da, title='Title'):\n",
    "       \n",
    "    bands = [str(b.values) for b in da['band']]\n",
    "\n",
    "    source = ColumnDataSource(\n",
    "        data={'band': bands, 'flux': da.values})\n",
    "\n",
    "    p = figure(x_range=bands, title=title)\n",
    "    p.vbar(source=source, x='band', top='flux', width=.9)\n",
    "\n",
    "    p.yaxis.axis_label = 'flux (W m-2)'\n",
    "    p.xaxis.axis_label = 'spectral band'\n",
    "    \n",
    "    return p\n",
    "\n",
    "\n",
    "def show_hist_flux(atmpro='mls'):\n",
    "    ds_crd = crd_data_atm(lblnew_params_atm(atmpro=atmpro))['flux']\n",
    "    ds_clirad = clirad_data_atm(\n",
    "        clirad_params_atm(atmpro=atmpro))['flux']\n",
    "    ds_clirad_singlerun = clirad_data_atm(\n",
    "        clirad_params_atm_singlerun(atmpro=atmpro))['flux']\n",
    "    \n",
    "    ip, varname = 0, 'flug'\n",
    "    da = (ds_clirad_singlerun - ds_crd).isel(pressure=ip)[varname]\n",
    "    p_toa = hist_band_vs_flux(da, \n",
    "        title='TOA flux. CLIRAD (single-run) - CRD.')\n",
    "\n",
    "    ip, varname = -1, 'fldg'\n",
    "    da = (ds_clirad_singlerun - ds_crd).isel(pressure=ip)[varname]\n",
    "    p_sfc = hist_band_vs_flux(da, \n",
    "        title='SFC flux. CLIRAD (single-run) - CRD.')    \n",
    "    \n",
    "    atm_crd = (ds_crd.isel(pressure=0) \n",
    "               - ds_crd.isel(pressure=-1))['fnetg']\n",
    "    atm_clirad_singlerun = (ds_clirad_singlerun.isel(pressure=0) \n",
    "                  - ds_clirad_singlerun.isel(pressure=-1))['fnetg']\n",
    "    da = atm_clirad_singlerun - atm_crd\n",
    "    p_atm = hist_band_vs_flux(da, \n",
    "        title='Atmosphere heating. CLIRAD (single-run) - CRD.')\n",
    "\n",
    "    everything = gridplot(p_toa, p_sfc, p_atm, ncols=3, \n",
    "                          plot_width=300, plot_height=300)\n",
    "    \n",
    "    show(everything)\n",
    "    display.display(\n",
    "        display.Markdown('*FIGURE.* Difference between CLIRAD and CRD'\n",
    "          ' in TOA, SFC and net atmosphere flux,'\n",
    "          ' in each spectral band.'))\n",
    "\n",
    "\n",
    "    \n",
    "def show_tb_flux(atmpro='mls'):\n",
    "    ds_crd = crd_data_atm(lblnew_params_atm(atmpro=atmpro))['flux']\n",
    "    olr_crd = ds_crd['flug'].isel(pressure=0)\n",
    "    sfc_crd = ds_crd['fldg'].isel(pressure=-1)\n",
    "    atm_crd = (ds_crd.isel(pressure=0)\n",
    "               - ds_crd.isel(pressure=-1))['fnetg']\n",
    "    \n",
    "    ds_clirad = clirad_data_atm(\n",
    "        clirad_params_atm(atmpro=atmpro))['flux']\n",
    "    olr_clirad = ds_clirad['flug'].isel(pressure=0)\n",
    "    sfc_clirad = ds_clirad['fldg'].isel(pressure=-1)\n",
    "    atm_clirad = (ds_clirad.isel(pressure=0)\n",
    "                  - ds_clirad.isel(pressure=-1))['fnetg']\n",
    "\n",
    "    ds_clirad_singlerun = clirad_data_atm(\n",
    "        clirad_params_atm_singlerun(atmpro=atmpro))['flux']\n",
    "    olr_clirad_singlerun = ds_clirad_singlerun['flug'].isel(pressure=0)\n",
    "    sfc_clirad_singlerun = ds_clirad_singlerun['fldg'].isel(pressure=-1)\n",
    "    atm_clirad_singlerun = (ds_clirad_singlerun.isel(pressure=0)\n",
    "                  - ds_clirad_singlerun.isel(pressure=-1))['fnetg']\n",
    "    \n",
    "    if atmpro == 'mls':\n",
    "        ds_oldclirad = oldclirad_data_atm()['flux']\n",
    "        ds_oldclirad['pressure'] = ds_crd['pressure']\n",
    "        olr_oldclirad = ds_oldclirad['flug'].isel(pressure=0)\n",
    "        sfc_oldclirad = ds_oldclirad['fldg'].isel(pressure=-1)\n",
    "        atm_oldclirad = (ds_oldclirad.isel(pressure=0)\n",
    "                         - ds_oldclirad.isel(pressure=-1))['fnetg']\n",
    "        \n",
    "    \n",
    "    \n",
    "    df = pd.DataFrame()\n",
    "    df.index.name = 'Sum over bands'\n",
    "    \n",
    "    if atmpro == 'mls':\n",
    "        df.loc['old CLIRAD - CRD', 'OLR flux'] = (olr_oldclirad.sum('band') - olr_crd.sum('band')).values\n",
    "        df.loc['old CLIRAD - CRD', 'SFC flux'] = (sfc_oldclirad.sum('band') - sfc_crd.sum('band')).values\n",
    "        df.loc['old CLIRAD - CRD', 'ATM heating'] = (atm_oldclirad.sum('band') - atm_crd.sum('band')).values\n",
    "    \n",
    "    df.loc['CLIRAD (single-run) - CRD', 'OLR flux'] = (olr_clirad_singlerun - olr_crd).sum('band').values\n",
    "    df.loc['CLIRAD (single-run) - CRD', 'SFC flux'] = (sfc_clirad_singlerun - sfc_crd).sum('band').values\n",
    "    df.loc['CLIRAD (single-run) - CRD', 'ATM heating'] = (atm_clirad_singlerun - atm_crd).sum('band').values\n",
    "\n",
    "    df.loc['CRD', 'OLR flux'] = olr_crd.sum('band').values\n",
    "    df.loc['CRD', 'SFC flux'] = sfc_crd.sum('band').values\n",
    "    df.loc['CRD', 'ATM heating'] = atm_crd.sum('band').values\n",
    "        \n",
    "    df = df.astype('float').round(2)\n",
    "    \n",
    "    display.display(df)\n",
    "    display.display(\n",
    "        display.Markdown('*TABLE.* Difference between CLIRAD and CRD'\n",
    "          ' in TOA, SFC and net atmosphere flux,'\n",
    "          ' over all spectral bands. CRD\\'s'\n",
    "          ' TOA, SFC and net atmosphere flux,'\n",
    "          ' over all spectral bands.'))\n"
   ]
  },
  {
   "cell_type": "code",
   "execution_count": 747,
   "metadata": {
    "scrolled": false
   },
   "outputs": [
    {
     "data": {
      "text/markdown": [
       "## Results over entire range of molecules and spectral bands"
      ],
      "text/plain": [
       "<IPython.core.display.Markdown object>"
      ]
     },
     "metadata": {},
     "output_type": "display_data"
    },
    {
     "data": {
      "text/markdown": [
       "### Table of Contents"
      ],
      "text/plain": [
       "<IPython.core.display.Markdown object>"
      ]
     },
     "metadata": {},
     "output_type": "display_data"
    },
    {
     "data": {
      "text/html": [
       "<a href=\"#Makeup_of_atmosphere.\">Makeup of atmosphere.</a>"
      ],
      "text/plain": [
       "<IPython.core.display.HTML object>"
      ]
     },
     "metadata": {},
     "output_type": "display_data"
    },
    {
     "data": {
      "text/markdown": [
       "**mid-latitude summer**"
      ],
      "text/plain": [
       "<IPython.core.display.Markdown object>"
      ]
     },
     "metadata": {},
     "output_type": "display_data"
    },
    {
     "data": {
      "text/html": [
       "<a href=\"#Cooling_rates._mls.\">Cooling rates. mls.</a>"
      ],
      "text/plain": [
       "<IPython.core.display.HTML object>"
      ]
     },
     "metadata": {},
     "output_type": "display_data"
    },
    {
     "data": {
      "text/html": [
       "<a href=\"#Fluxes._mls.\">Fluxes. mls.</a>"
      ],
      "text/plain": [
       "<IPython.core.display.HTML object>"
      ]
     },
     "metadata": {},
     "output_type": "display_data"
    },
    {
     "data": {
      "text/markdown": [
       "**sub-arctic winter**"
      ],
      "text/plain": [
       "<IPython.core.display.Markdown object>"
      ]
     },
     "metadata": {},
     "output_type": "display_data"
    },
    {
     "data": {
      "text/html": [
       "<a href=\"#Cooling_rates._saw.\">Cooling rates. saw.</a>"
      ],
      "text/plain": [
       "<IPython.core.display.HTML object>"
      ]
     },
     "metadata": {},
     "output_type": "display_data"
    },
    {
     "data": {
      "text/html": [
       "<a href=\"#Fluxes._saw.\">Fluxes. saw.</a>"
      ],
      "text/plain": [
       "<IPython.core.display.HTML object>"
      ]
     },
     "metadata": {},
     "output_type": "display_data"
    },
    {
     "data": {
      "text/markdown": [
       "**tropical**"
      ],
      "text/plain": [
       "<IPython.core.display.Markdown object>"
      ]
     },
     "metadata": {},
     "output_type": "display_data"
    },
    {
     "data": {
      "text/html": [
       "<a href=\"#Cooling_rates._trp.\">Cooling rates. trp.</a>"
      ],
      "text/plain": [
       "<IPython.core.display.HTML object>"
      ]
     },
     "metadata": {},
     "output_type": "display_data"
    },
    {
     "data": {
      "text/html": [
       "<a href=\"#Fluxes._trp.\">Fluxes. trp.</a>"
      ],
      "text/plain": [
       "<IPython.core.display.HTML object>"
      ]
     },
     "metadata": {},
     "output_type": "display_data"
    },
    {
     "data": {
      "text/html": [
       "<a id=\"Makeup_of_atmosphere.\"></a>"
      ],
      "text/plain": [
       "<IPython.core.display.HTML object>"
      ]
     },
     "metadata": {},
     "output_type": "display_data"
    },
    {
     "data": {
      "text/markdown": [
       "# Makeup of atmosphere."
      ],
      "text/plain": [
       "<IPython.core.display.Markdown object>"
      ]
     },
     "metadata": {},
     "output_type": "display_data"
    },
    {
     "data": {
      "text/html": [
       "<div>\n",
       "<style scoped>\n",
       "    .dataframe tbody tr th:only-of-type {\n",
       "        vertical-align: middle;\n",
       "    }\n",
       "\n",
       "    .dataframe tbody tr th {\n",
       "        vertical-align: top;\n",
       "    }\n",
       "\n",
       "    .dataframe thead th {\n",
       "        text-align: right;\n",
       "    }\n",
       "</style>\n",
       "<table border=\"1\" class=\"dataframe\">\n",
       "  <thead>\n",
       "    <tr style=\"text-align: right;\">\n",
       "      <th>clirad band</th>\n",
       "      <th>1</th>\n",
       "      <th>2</th>\n",
       "      <th>3</th>\n",
       "      <th>4</th>\n",
       "      <th>5</th>\n",
       "      <th>6</th>\n",
       "      <th>7</th>\n",
       "      <th>8</th>\n",
       "      <th>9</th>\n",
       "      <th>10</th>\n",
       "      <th>11</th>\n",
       "    </tr>\n",
       "    <tr>\n",
       "      <th>molecule</th>\n",
       "      <th></th>\n",
       "      <th></th>\n",
       "      <th></th>\n",
       "      <th></th>\n",
       "      <th></th>\n",
       "      <th></th>\n",
       "      <th></th>\n",
       "      <th></th>\n",
       "      <th></th>\n",
       "      <th></th>\n",
       "      <th></th>\n",
       "    </tr>\n",
       "  </thead>\n",
       "  <tbody>\n",
       "    <tr>\n",
       "      <th>h2o</th>\n",
       "      <td>atmpro</td>\n",
       "      <td>atmpro</td>\n",
       "      <td>atmpro</td>\n",
       "      <td>atmpro</td>\n",
       "      <td>atmpro</td>\n",
       "      <td>atmpro</td>\n",
       "      <td>atmpro</td>\n",
       "      <td>atmpro</td>\n",
       "      <td>atmpro</td>\n",
       "      <td>atmpro</td>\n",
       "      <td>atmpro</td>\n",
       "    </tr>\n",
       "    <tr>\n",
       "      <th>co2</th>\n",
       "      <td>0</td>\n",
       "      <td>0</td>\n",
       "      <td>0.0004</td>\n",
       "      <td>0.0004</td>\n",
       "      <td>0.0004</td>\n",
       "      <td>0.0004</td>\n",
       "      <td>0.0004</td>\n",
       "      <td>0</td>\n",
       "      <td>0</td>\n",
       "      <td>0</td>\n",
       "      <td>0.0004</td>\n",
       "    </tr>\n",
       "    <tr>\n",
       "      <th>n2o</th>\n",
       "      <td>0</td>\n",
       "      <td>0</td>\n",
       "      <td>3.2e-07</td>\n",
       "      <td>0</td>\n",
       "      <td>0</td>\n",
       "      <td>0</td>\n",
       "      <td>0</td>\n",
       "      <td>0</td>\n",
       "      <td>3.2e-07</td>\n",
       "      <td>0</td>\n",
       "      <td>0</td>\n",
       "    </tr>\n",
       "    <tr>\n",
       "      <th>o3</th>\n",
       "      <td>0</td>\n",
       "      <td>0</td>\n",
       "      <td>0</td>\n",
       "      <td>0</td>\n",
       "      <td>0</td>\n",
       "      <td>0</td>\n",
       "      <td>atmpro</td>\n",
       "      <td>0</td>\n",
       "      <td>0</td>\n",
       "      <td>0</td>\n",
       "      <td>0</td>\n",
       "    </tr>\n",
       "    <tr>\n",
       "      <th>ch4</th>\n",
       "      <td>0</td>\n",
       "      <td>0</td>\n",
       "      <td>0</td>\n",
       "      <td>0</td>\n",
       "      <td>0</td>\n",
       "      <td>0</td>\n",
       "      <td>0</td>\n",
       "      <td>0</td>\n",
       "      <td>1.8e-06</td>\n",
       "      <td>0</td>\n",
       "      <td>0</td>\n",
       "    </tr>\n",
       "  </tbody>\n",
       "</table>\n",
       "</div>"
      ],
      "text/plain": [
       "clirad band      1       2        3       4       5       6       7       8   \\\n",
       "molecule                                                                       \n",
       "h2o          atmpro  atmpro   atmpro  atmpro  atmpro  atmpro  atmpro  atmpro   \n",
       "co2               0       0   0.0004  0.0004  0.0004  0.0004  0.0004       0   \n",
       "n2o               0       0  3.2e-07       0       0       0       0       0   \n",
       "o3                0       0        0       0       0       0  atmpro       0   \n",
       "ch4               0       0        0       0       0       0       0       0   \n",
       "\n",
       "clirad band       9       10      11  \n",
       "molecule                              \n",
       "h2o           atmpro  atmpro  atmpro  \n",
       "co2                0       0  0.0004  \n",
       "n2o          3.2e-07       0       0  \n",
       "o3                 0       0       0  \n",
       "ch4          1.8e-06       0       0  "
      ]
     },
     "metadata": {},
     "output_type": "display_data"
    },
    {
     "data": {
      "text/markdown": [
       "*TABLE.* Non-grey absorbers in the atmosphere."
      ],
      "text/plain": [
       "<IPython.core.display.Markdown object>"
      ]
     },
     "metadata": {},
     "output_type": "display_data"
    },
    {
     "data": {
      "text/html": [
       "<div>\n",
       "<style scoped>\n",
       "    .dataframe tbody tr th:only-of-type {\n",
       "        vertical-align: middle;\n",
       "    }\n",
       "\n",
       "    .dataframe tbody tr th {\n",
       "        vertical-align: top;\n",
       "    }\n",
       "\n",
       "    .dataframe thead th {\n",
       "        text-align: right;\n",
       "    }\n",
       "</style>\n",
       "<table border=\"1\" class=\"dataframe\">\n",
       "  <thead>\n",
       "    <tr style=\"text-align: right;\">\n",
       "      <th>clirad band</th>\n",
       "      <th>1</th>\n",
       "      <th>2</th>\n",
       "      <th>3</th>\n",
       "      <th>4</th>\n",
       "      <th>5</th>\n",
       "      <th>6</th>\n",
       "      <th>7</th>\n",
       "      <th>8</th>\n",
       "      <th>9</th>\n",
       "    </tr>\n",
       "    <tr>\n",
       "      <th>absorber</th>\n",
       "      <th></th>\n",
       "      <th></th>\n",
       "      <th></th>\n",
       "      <th></th>\n",
       "      <th></th>\n",
       "      <th></th>\n",
       "      <th></th>\n",
       "      <th></th>\n",
       "      <th></th>\n",
       "    </tr>\n",
       "  </thead>\n",
       "  <tbody>\n",
       "    <tr>\n",
       "      <th>con</th>\n",
       "      <td>atmpro</td>\n",
       "      <td>atmpro</td>\n",
       "      <td>atmpro</td>\n",
       "      <td>atmpro</td>\n",
       "      <td>atmpro</td>\n",
       "      <td>atmpro</td>\n",
       "      <td>atmpro</td>\n",
       "      <td>atmpro</td>\n",
       "      <td>atmpro</td>\n",
       "    </tr>\n",
       "    <tr>\n",
       "      <th>n2o</th>\n",
       "      <td>0</td>\n",
       "      <td>0</td>\n",
       "      <td>0</td>\n",
       "      <td>0</td>\n",
       "      <td>0</td>\n",
       "      <td>0</td>\n",
       "      <td>0</td>\n",
       "      <td>3.2e-07</td>\n",
       "      <td>0</td>\n",
       "    </tr>\n",
       "  </tbody>\n",
       "</table>\n",
       "</div>"
      ],
      "text/plain": [
       "clirad band       1       2       3       4       5       6       7        8  \\\n",
       "absorber                                                                       \n",
       "con          atmpro  atmpro  atmpro  atmpro  atmpro  atmpro  atmpro   atmpro   \n",
       "n2o               0       0       0       0       0       0       0  3.2e-07   \n",
       "\n",
       "clirad band       9  \n",
       "absorber             \n",
       "con          atmpro  \n",
       "n2o               0  "
      ]
     },
     "metadata": {},
     "output_type": "display_data"
    },
    {
     "data": {
      "text/markdown": [
       "*TABLE.* Grey absorbers in the atmosphere."
      ],
      "text/plain": [
       "<IPython.core.display.Markdown object>"
      ]
     },
     "metadata": {},
     "output_type": "display_data"
    },
    {
     "data": {
      "text/html": [
       "<a id=\"Cooling_rates._mls.\"></a>"
      ],
      "text/plain": [
       "<IPython.core.display.HTML object>"
      ]
     },
     "metadata": {},
     "output_type": "display_data"
    },
    {
     "data": {
      "text/markdown": [
       "# Cooling rates. mls."
      ],
      "text/plain": [
       "<IPython.core.display.Markdown object>"
      ]
     },
     "metadata": {},
     "output_type": "display_data"
    },
    {
     "data": {
      "text/html": [
       "\n",
       "<div class=\"bk-root\">\n",
       "    <div class=\"bk-plotdiv\" id=\"90f3612d-cc3a-4ce0-b867-fda2ccce0659\"></div>\n",
       "</div>"
      ]
     },
     "metadata": {},
     "output_type": "display_data"
    },
    {
     "data": {
      "application/javascript": [
       "(function(root) {\n",
       "  function embed_document(root) {\n",
       "    \n",
       "  var docs_json = {\"8d6283b3-efa7-4c9a-b8f1-ccc2eecf5ad5\":{\"roots\":{\"references\":[{\"attributes\":{},\"id\":\"7d301ee9-750a-4cfe-97a1-8462f74bac87\",\"type\":\"UnionRenderers\"},{\"attributes\":{\"fill_alpha\":{\"value\":0.7},\"fill_color\":{\"value\":\"#984ea3\"},\"line_alpha\":{\"value\":0.7},\"line_color\":{\"value\":\"#984ea3\"},\"x\":{\"field\":\"x\"},\"y\":{\"field\":\"y\"}},\"id\":\"7307f4f3-5cfc-41a9-b9c8-7fdf447e29d0\",\"type\":\"Circle\"},{\"attributes\":{},\"id\":\"361f2d22-4f1f-4616-b80f-1cb7aed67d28\",\"type\":\"UnionRenderers\"},{\"attributes\":{\"children\":[{\"id\":\"3ac748cd-47af-46a7-ab2e-95695927568c\",\"subtype\":\"Figure\",\"type\":\"Plot\"},{\"id\":\"60ddfeb0-c427-4fb4-8948-abe4930c8dfd\",\"subtype\":\"Figure\",\"type\":\"Plot\"},{\"id\":\"061be780-fc4e-4726-8629-383a2f5de9f8\",\"subtype\":\"Figure\",\"type\":\"Plot\"}]},\"id\":\"68ebca80-ddca-4410-89fa-54d842a5f051\",\"type\":\"Row\"},{\"attributes\":{\"active_drag\":\"auto\",\"active_inspect\":\"auto\",\"active_scroll\":\"auto\",\"active_tap\":\"auto\",\"tools\":[{\"id\":\"8d7bcd96-96b3-47dd-8eba-2048136fdf94\",\"type\":\"PanTool\"},{\"id\":\"5dd6d3c6-5013-4952-b268-260d7a5aed94\",\"type\":\"WheelZoomTool\"},{\"id\":\"d5b0ff14-6c6d-49d4-92e1-e704fbd97fe2\",\"type\":\"BoxZoomTool\"},{\"id\":\"8ced2636-c473-43c8-a30d-873ad96be2e5\",\"type\":\"SaveTool\"},{\"id\":\"bc9bfca3-418b-4b38-8a18-b8e86431bf6f\",\"type\":\"ResetTool\"},{\"id\":\"fed7f0fc-777f-49ae-9a4d-136ddcae7a7f\",\"type\":\"HelpTool\"}]},\"id\":\"89c7cf4e-e52b-45fe-a5f9-cbf82b569a1c\",\"type\":\"Toolbar\"},{\"attributes\":{\"callback\":null,\"end\":0.7323360194662635,\"start\":-1.576281364019664},\"id\":\"453366a5-f5b6-402d-9042-d12842102f06\",\"type\":\"Range1d\"},{\"attributes\":{\"line_alpha\":0.1,\"line_color\":\"#1f77b4\",\"line_dash\":[6],\"line_width\":5,\"x\":{\"field\":\"x\"},\"y\":{\"field\":\"y\"}},\"id\":\"5d4d5247-228c-4ee1-8a84-24d9f183e1c1\",\"type\":\"Line\"},{\"attributes\":{\"callback\":null,\"end\":0.01,\"start\":1020},\"id\":\"9ddcb3c4-345a-44ca-bb64-8480677eecec\",\"type\":\"Range1d\"},{\"attributes\":{\"callback\":null,\"data\":{\"x\":{\"__ndarray__\":\"cm1sTMT3VEDEyvjosEJHQOKI6DjzCUNArgQWV9awPkB9Lm8XG3M4QEz+Qv6iYzNA7eV8HaPLLkCX1QHyTpMoQFBmYSYetiNAUB04GtGpH0AmFyVE5j8ZQJca9QPGqBNALJP+OOHHDEBNxaf7QF8AQKtislomWuw/cW2dcO6A9T/uJJvfPu0EQIaQLTI/JQ1AxGiII+PmEkCJvfVeuCsYQD6ZBhGbHB9AXQw69DTYJEAsubcwKucqQNuT9D5OmipAJyi3szEJJUBlNebh5WkgQDDcPHBr2xlArtlANXuQFEBdJadFHckQQI2Avh0ZsQtAjYiwt1rsBUCL0SDoVBgAQK6C0nEEjvc/CggLSme58T9sXU2orFPnP0v0JYz9Gdg/vT38vxYczD9nBQTe6kHHP1IhkEXJwKo/8OZnhCVAub+xtVgCpmqzP6DUpY6g0+k/PKK3T1h4+D8RTDjQc1EAQG/dAQs7TwJAQt2eHpPLAEBWEh074x//PyCap9ZSGf4/rEzaTySm/T+7aXhHRmr9P688KeqeNP0/ruZ4EemD/D8olrZcn9T7P0+vNc9hW/s/i9VVL+4P+z+0NzC24uz6P8731Kza8vo/xFf4SHzq+z+gYyHpvHb8P68ROkiFevw/BAjYdCga/D8AUp8VbW77P3JrF/nKmvo/qCQeGfq++T/dplwHJfn4P2G4p+Uva/g/OzZ0RqMZ+D8dmn/iar73P/OuA7Ka8PY/gaaeQHGn9T9hkyjAH1L0P3aZGhdAU/M/n8VP/g7P8j+90HxHNvfyPwhNBtgrqvk/\",\"dtype\":\"float64\",\"shape\":[75]},\"y\":{\"__ndarray__\":\"GhExyth1ND/Sv8nbtpRIP2vylNV0PVE/aTum7souWD/At0SJ8fVgPw3Iuahxymc/MSNhhJWvcD/bTfBN02d3P2zb5nxnaoA/CD5h5MAGhz8NmeH1TyaQP+zrCsc9p5Y/LbKd76fGnz/bLW5ISEmmPww9YvTcQq8/JV2OstnstT8Er5Y7M8G+P0c+r3jqkcU/5h99k6ZBzj88bCIzFzjVP4enV8oyxN0//yH99nXg5D8qOpLLf0jtP5kqGJXUifQ/c9cS8kHP/D+/DpwzojQEQIEmwoanVwxA4lgXt9HgE0BSSZ2AJuIbQAMJih9jjiNA5q4l5INuK0AwTKYKRj0zQNv5fmq8/DpAaCJseHrtQkB/+zpwzoxKQM3MzMzMeFJAZmZmZmZqWEAAAAAAAFxeQM3MzMzMJmJAmpmZmZkfZUBmZmZmZhhoQDMzMzMzEWtAAAAAAAAKbkBmZmZmZoFwQM3MzMzM/XFAMzMzMzN6c0CamZmZmfZ0QAAAAAAAc3ZAZmZmZmbvd0DNzMzMzGt5QDMzMzMz6HpAmpmZmZlkfEAAAAAAAOF9QGZmZmZmXX9AZmZmZuZsgECamZmZGSuBQM3MzMxM6YFAAAAAAICngkAzMzMzs2WDQGZmZmbmI4RAmpmZmRnihEDNzMzMTKCFQAAAAACAXoZAMzMzM7Mch0BmZmZm5tqHQJqZmZkZmYhAzczMzExXiUAAAAAAgBWKQDMzMzOz04pAZmZmZuaRi0CamZmZGVCMQM3MzMxMDo1AAAAAAIDMjUAzMzMzs4qOQGZmZmbmSI9A\",\"dtype\":\"float64\",\"shape\":[75]}},\"selected\":{\"id\":\"261b944d-ad63-48bb-b2ee-f2392a3c8e06\",\"type\":\"Selection\"},\"selection_policy\":{\"id\":\"98e98ab9-dc50-4c06-b7bf-5b9c9f993e18\",\"type\":\"UnionRenderers\"}},\"id\":\"c5f690ef-0a33-46b9-abf2-3f31796bbd11\",\"type\":\"ColumnDataSource\"},{\"attributes\":{},\"id\":\"323dfd98-50f4-4629-a73a-1f8f4031fe8e\",\"type\":\"UnionRenderers\"},{\"attributes\":{\"plot\":{\"id\":\"3ac748cd-47af-46a7-ab2e-95695927568c\",\"subtype\":\"Figure\",\"type\":\"Plot\"},\"ticker\":{\"id\":\"61b69ccf-f5e3-4364-a700-6af14dcd5032\",\"type\":\"BasicTicker\"}},\"id\":\"08ec92b1-cd77-4ff9-8e76-22a3c75b8f28\",\"type\":\"Grid\"},{\"attributes\":{\"tools\":[{\"id\":\"57e9120d-b50d-45a7-83d6-ba42d565eb95\",\"type\":\"PanTool\"},{\"id\":\"23996fca-7a0f-4368-96a5-f96f2d3f04f4\",\"type\":\"WheelZoomTool\"},{\"id\":\"18dc4ab0-b1a0-4df9-9ad5-00c012ed31fd\",\"type\":\"BoxZoomTool\"},{\"id\":\"44598389-ea91-4594-b5db-f460c2557b55\",\"type\":\"SaveTool\"},{\"id\":\"14479fcb-aa6b-40db-9d8c-caa7d7b6727e\",\"type\":\"ResetTool\"},{\"id\":\"44c520ee-12fc-4399-9569-b072c2c5f845\",\"type\":\"HelpTool\"},{\"id\":\"9d0f4546-d580-4ea3-9343-20adacb6c1f5\",\"type\":\"PanTool\"},{\"id\":\"898c9ce5-7dfc-439a-923c-0705fd6cd8f5\",\"type\":\"WheelZoomTool\"},{\"id\":\"b8a8c735-227d-42db-b4cf-a2cec1184c42\",\"type\":\"BoxZoomTool\"},{\"id\":\"d0b8e6d0-9cd2-4340-b124-3e0a821e1f10\",\"type\":\"SaveTool\"},{\"id\":\"f6556d21-0829-42f3-9437-c31ff340d3e0\",\"type\":\"ResetTool\"},{\"id\":\"8cf3f567-1400-4ffd-bd85-7e41bf256b40\",\"type\":\"HelpTool\"},{\"id\":\"8d7bcd96-96b3-47dd-8eba-2048136fdf94\",\"type\":\"PanTool\"},{\"id\":\"5dd6d3c6-5013-4952-b268-260d7a5aed94\",\"type\":\"WheelZoomTool\"},{\"id\":\"d5b0ff14-6c6d-49d4-92e1-e704fbd97fe2\",\"type\":\"BoxZoomTool\"},{\"id\":\"8ced2636-c473-43c8-a30d-873ad96be2e5\",\"type\":\"SaveTool\"},{\"id\":\"bc9bfca3-418b-4b38-8a18-b8e86431bf6f\",\"type\":\"ResetTool\"},{\"id\":\"fed7f0fc-777f-49ae-9a4d-136ddcae7a7f\",\"type\":\"HelpTool\"}]},\"id\":\"5035b5a0-55b3-4b65-9b86-148a941f7383\",\"type\":\"ProxyToolbar\"},{\"attributes\":{},\"id\":\"817f0497-16f4-44a1-be9f-dd2eadefdca9\",\"type\":\"BasicTickFormatter\"},{\"attributes\":{\"active_drag\":\"auto\",\"active_inspect\":\"auto\",\"active_scroll\":\"auto\",\"active_tap\":\"auto\",\"tools\":[{\"id\":\"57e9120d-b50d-45a7-83d6-ba42d565eb95\",\"type\":\"PanTool\"},{\"id\":\"23996fca-7a0f-4368-96a5-f96f2d3f04f4\",\"type\":\"WheelZoomTool\"},{\"id\":\"18dc4ab0-b1a0-4df9-9ad5-00c012ed31fd\",\"type\":\"BoxZoomTool\"},{\"id\":\"44598389-ea91-4594-b5db-f460c2557b55\",\"type\":\"SaveTool\"},{\"id\":\"14479fcb-aa6b-40db-9d8c-caa7d7b6727e\",\"type\":\"ResetTool\"},{\"id\":\"44c520ee-12fc-4399-9569-b072c2c5f845\",\"type\":\"HelpTool\"}]},\"id\":\"378ba94e-f68f-4d00-9716-f41bf855ce0a\",\"type\":\"Toolbar\"},{\"attributes\":{\"plot\":null,\"text\":\"\"},\"id\":\"1312af65-b730-4f03-8a99-d66bb08bbb99\",\"type\":\"Title\"},{\"attributes\":{},\"id\":\"8cf3f567-1400-4ffd-bd85-7e41bf256b40\",\"type\":\"HelpTool\"},{\"attributes\":{\"data_source\":{\"id\":\"b7367801-6937-4ed5-89b5-1474f7a9f99d\",\"type\":\"ColumnDataSource\"},\"glyph\":{\"id\":\"78760cd0-fd58-40b6-8d82-a8595339b667\",\"type\":\"Line\"},\"hover_glyph\":null,\"muted_glyph\":null,\"nonselection_glyph\":{\"id\":\"5d4d5247-228c-4ee1-8a84-24d9f183e1c1\",\"type\":\"Line\"},\"selection_glyph\":null,\"view\":{\"id\":\"18194276-3d81-4544-bd03-c83de9089def\",\"type\":\"CDSView\"}},\"id\":\"f0581969-97b3-4ad7-8894-88d3d7b023c6\",\"type\":\"GlyphRenderer\"},{\"attributes\":{},\"id\":\"a8e2b6b9-6324-4795-bfea-cb0986cb0b81\",\"type\":\"Selection\"},{\"attributes\":{\"children\":[{\"id\":\"019a99be-7991-4876-8f5c-f93c8fdb4ca6\",\"type\":\"ToolbarBox\"},{\"id\":\"3bf5d991-61d6-48dd-859f-d371db1c7dc3\",\"type\":\"Column\"}]},\"id\":\"8941ef6a-a0bd-49b2-98b2-2f9feeeb3855\",\"type\":\"Column\"},{\"attributes\":{\"axis_label\":\"cooling rate [K/day]\",\"formatter\":{\"id\":\"817f0497-16f4-44a1-be9f-dd2eadefdca9\",\"type\":\"BasicTickFormatter\"},\"plot\":{\"id\":\"061be780-fc4e-4726-8629-383a2f5de9f8\",\"subtype\":\"Figure\",\"type\":\"Plot\"},\"ticker\":{\"id\":\"89c6b87b-e55f-492d-9c41-1cb8d9627e9f\",\"type\":\"BasicTicker\"}},\"id\":\"e9faf96e-7d12-481b-a678-5e9ea488aa3d\",\"type\":\"LinearAxis\"},{\"attributes\":{},\"id\":\"285c264e-7eac-4356-a14d-02d1a251e956\",\"type\":\"BasicTickFormatter\"},{\"attributes\":{},\"id\":\"352a7865-82f4-464f-aee9-a24c1bdfa73b\",\"type\":\"BasicTicker\"},{\"attributes\":{},\"id\":\"2e56234a-5909-458d-8120-f279acf496fc\",\"type\":\"Selection\"},{\"attributes\":{\"ticker\":null},\"id\":\"439f60aa-743b-4eaa-9871-c3091dbf56b6\",\"type\":\"LogTickFormatter\"},{\"attributes\":{},\"id\":\"11f071ef-24d3-4a4a-af12-4047044d7381\",\"type\":\"UnionRenderers\"},{\"attributes\":{\"toolbar\":{\"id\":\"5035b5a0-55b3-4b65-9b86-148a941f7383\",\"type\":\"ProxyToolbar\"},\"toolbar_location\":\"above\"},\"id\":\"019a99be-7991-4876-8f5c-f93c8fdb4ca6\",\"type\":\"ToolbarBox\"},{\"attributes\":{\"axis_label\":\"pressure [mb]\",\"formatter\":{\"id\":\"27b443f1-5233-438a-8ef3-0cbd626e5147\",\"type\":\"BasicTickFormatter\"},\"plot\":{\"id\":\"3ac748cd-47af-46a7-ab2e-95695927568c\",\"subtype\":\"Figure\",\"type\":\"Plot\"},\"ticker\":{\"id\":\"352a7865-82f4-464f-aee9-a24c1bdfa73b\",\"type\":\"BasicTicker\"}},\"id\":\"f70752ca-eac2-4554-95b8-86fe29f94244\",\"type\":\"LinearAxis\"},{\"attributes\":{},\"id\":\"76856e38-75cd-4823-a19c-6503b090c681\",\"type\":\"Selection\"},{\"attributes\":{\"children\":[{\"id\":\"68ebca80-ddca-4410-89fa-54d842a5f051\",\"type\":\"Row\"}]},\"id\":\"3bf5d991-61d6-48dd-859f-d371db1c7dc3\",\"type\":\"Column\"},{\"attributes\":{\"items\":[{\"id\":\"8d9481f0-e442-4191-b23f-75541e73cf32\",\"type\":\"LegendItem\"},{\"id\":\"862bc544-29b5-48e4-a143-5c151caeccbb\",\"type\":\"LegendItem\"}],\"label_text_font_size\":{\"value\":\"8pt\"},\"location\":\"top_center\",\"orientation\":\"horizontal\",\"plot\":{\"id\":\"061be780-fc4e-4726-8629-383a2f5de9f8\",\"subtype\":\"Figure\",\"type\":\"Plot\"}},\"id\":\"db9612cc-46ac-468b-83de-5d17fdc00793\",\"type\":\"Legend\"},{\"attributes\":{},\"id\":\"5faccc24-f121-4fc7-bf40-11161437318d\",\"type\":\"UnionRenderers\"},{\"attributes\":{\"plot\":null,\"text\":\"\"},\"id\":\"4c085424-998c-487e-a05a-430453600fcb\",\"type\":\"Title\"},{\"attributes\":{},\"id\":\"6b29b191-e9b5-4dbd-b4d0-bce6dfe40e96\",\"type\":\"Selection\"},{\"attributes\":{},\"id\":\"61b69ccf-f5e3-4364-a700-6af14dcd5032\",\"type\":\"BasicTicker\"},{\"attributes\":{\"data_source\":{\"id\":\"3e1393d9-18bc-4e7d-8c69-5d8a6554dd9c\",\"type\":\"ColumnDataSource\"},\"glyph\":{\"id\":\"c59c45af-7ce1-49ef-9a5b-f0a86b9f1555\",\"type\":\"Line\"},\"hover_glyph\":null,\"muted_glyph\":null,\"nonselection_glyph\":{\"id\":\"10ce92c2-98c2-437b-a8bd-84b42d7af2bf\",\"type\":\"Line\"},\"selection_glyph\":null,\"view\":{\"id\":\"37b3ffc3-cfc5-4021-a454-a85087ee46ce\",\"type\":\"CDSView\"}},\"id\":\"912f6a4f-04ec-4a9e-8c15-64b2497dadcd\",\"type\":\"GlyphRenderer\"},{\"attributes\":{},\"id\":\"27b443f1-5233-438a-8ef3-0cbd626e5147\",\"type\":\"BasicTickFormatter\"},{\"attributes\":{\"callback\":null,\"data\":{\"x\":{\"__ndarray__\":\"QW/ChKHYRUABfBHv8BdDQO7pX4+S40FAjlrTPAs/QEBi55KjU0A8QOVEIjtRPTdAAW6pHa7pMUBoDUjHy+UpQJPUAjnkGiJAkii6KF00GkDyfPLi2t0UQPkZqhKpthFAXgmBeRVNDUDo1yrq/pUDQBJCuTYK9vU/YoFqy5OO+j/mD7q8ijIFQB7JG9aeDgtAKZPg33XgEEB3e15vURcWQASfV5qt/R1A31afOw7VJEBkZ/sSPswqQPJ8sfjH+ylASXHMMLlOJECnFuR/okcgQKATN+gOZBtALtOaGrQFFkBYLwnonigRQH3MfkLg4AtAJbaM1c4ICEAqMLR+58sCQGn6INO6Bfo/9OD7FbZF8T+Hs4EjcHrnP564dUqD6Ns/JQfYEdIQzT9x/Lwc00XAP+SGDp6tAKO/xAoZ+sRjyb+ScdT6eNyDv/4NISJvwuc/0BNwzqJ+9z+OhxM/9RYAQGCVqWPPlwFApa4RsMkGAECakb3Sg0P+P/wSdfkQIv0/okwaebtq/D8NcsI81zv8PzS6YIBmV/w/t/rzZVDu+z9vHpSuI3P7PzxXiTLKB/s/+xEut0e9+j80CdGvY4f6P91Lpyhohfo/hq2DgXOb+z8jUdf2UHz8P+0LQT6D/vw/NxBjOnr9/D975RKvuF38PyqTiuWeRvs/G8nM6yIW+j8IPCAwnv/4P9UcYY9Qbfg/OqB8rKY8+D929obcuzf4P6/7j5gVtPc/VtnblNCk9j8Yh5Uy8nP1P2TvKkPTiPQ/Kaw4REER9D/JF0FfkkT0P3ZX+ULhOlbA\",\"dtype\":\"float64\",\"shape\":[75]},\"y\":{\"__ndarray__\":\"GhExyth1ND/Sv8nbtpRIP2vylNV0PVE/aTum7souWD/At0SJ8fVgPw3Iuahxymc/MSNhhJWvcD/bTfBN02d3P2zb5nxnaoA/CD5h5MAGhz8NmeH1TyaQP+zrCsc9p5Y/LbKd76fGnz/bLW5ISEmmPww9YvTcQq8/JV2OstnstT8Er5Y7M8G+P0c+r3jqkcU/5h99k6ZBzj88bCIzFzjVP4enV8oyxN0//yH99nXg5D8qOpLLf0jtP5kqGJXUifQ/c9cS8kHP/D+/DpwzojQEQIEmwoanVwxA4lgXt9HgE0BSSZ2AJuIbQAMJih9jjiNA5q4l5INuK0AwTKYKRj0zQNv5fmq8/DpAaCJseHrtQkB/+zpwzoxKQM3MzMzMeFJAZmZmZmZqWEAAAAAAAFxeQM3MzMzMJmJAmpmZmZkfZUBmZmZmZhhoQDMzMzMzEWtAAAAAAAAKbkBmZmZmZoFwQM3MzMzM/XFAMzMzMzN6c0CamZmZmfZ0QAAAAAAAc3ZAZmZmZmbvd0DNzMzMzGt5QDMzMzMz6HpAmpmZmZlkfEAAAAAAAOF9QGZmZmZmXX9AZmZmZuZsgECamZmZGSuBQM3MzMxM6YFAAAAAAICngkAzMzMzs2WDQGZmZmbmI4RAmpmZmRnihEDNzMzMTKCFQAAAAACAXoZAMzMzM7Mch0BmZmZm5tqHQJqZmZkZmYhAzczMzExXiUAAAAAAgBWKQDMzMzOz04pAZmZmZuaRi0CamZmZGVCMQM3MzMxMDo1AAAAAAIDMjUAzMzMzs4qOQGZmZmbmSI9A\",\"dtype\":\"float64\",\"shape\":[75]}},\"selected\":{\"id\":\"8fe10cda-0900-45d5-bc78-69724c7b57cf\",\"type\":\"Selection\"},\"selection_policy\":{\"id\":\"aebcf402-50c6-431d-bcad-2943ae089aff\",\"type\":\"UnionRenderers\"}},\"id\":\"33e57359-4800-4f13-b9bd-f528d8bd9fee\",\"type\":\"ColumnDataSource\"},{\"attributes\":{},\"id\":\"fed7f0fc-777f-49ae-9a4d-136ddcae7a7f\",\"type\":\"HelpTool\"},{\"attributes\":{\"axis_label\":\"pressure [mb]\",\"formatter\":{\"id\":\"cf7fbb4f-8a21-41ab-aae0-00acaed96ca8\",\"type\":\"LogTickFormatter\"},\"plot\":{\"id\":\"60ddfeb0-c427-4fb4-8948-abe4930c8dfd\",\"subtype\":\"Figure\",\"type\":\"Plot\"},\"ticker\":{\"id\":\"c4e44fb7-933d-42b8-b5b4-515f3895d7b9\",\"type\":\"LogTicker\"}},\"id\":\"b72df93f-abcc-4074-980e-90a920dfb73c\",\"type\":\"LogAxis\"},{\"attributes\":{\"label\":{\"value\":\"CRD\"},\"renderers\":[{\"id\":\"c42ccf5d-fe22-4d94-b142-1167148a8b7e\",\"type\":\"GlyphRenderer\"},{\"id\":\"d21caa46-c738-4fc9-b2cc-04b52103d61f\",\"type\":\"GlyphRenderer\"}]},\"id\":\"8ff0bfba-efdf-4703-bf1c-de2b17435380\",\"type\":\"LegendItem\"},{\"attributes\":{\"items\":[{\"id\":\"16c9b8be-e2da-45cb-971c-d9b201751ab3\",\"type\":\"LegendItem\"},{\"id\":\"8ff0bfba-efdf-4703-bf1c-de2b17435380\",\"type\":\"LegendItem\"},{\"id\":\"c4f73068-c1bd-4a60-8066-0425ffee8d1f\",\"type\":\"LegendItem\"}],\"label_text_font_size\":{\"value\":\"8pt\"},\"location\":\"top_center\",\"orientation\":\"horizontal\",\"plot\":{\"id\":\"3ac748cd-47af-46a7-ab2e-95695927568c\",\"subtype\":\"Figure\",\"type\":\"Plot\"}},\"id\":\"98a4dca6-3195-4f74-a9e8-14fe8817dbf1\",\"type\":\"Legend\"},{\"attributes\":{\"plot\":null,\"text\":\"\"},\"id\":\"921b4de8-03a5-4a85-b1be-89265dbc2ce2\",\"type\":\"Title\"},{\"attributes\":{\"callback\":null,\"end\":3.2007736914533003,\"start\":-89.83208573512327},\"id\":\"cb867058-6007-4388-bc88-849df73632a9\",\"type\":\"Range1d\"},{\"attributes\":{},\"id\":\"f1f2b108-3c4a-4c2a-be3b-8c104718a862\",\"type\":\"UnionRenderers\"},{\"attributes\":{},\"id\":\"a4cd57d6-c5a6-42ef-9440-527c37ec8710\",\"type\":\"UnionRenderers\"},{\"attributes\":{\"line_alpha\":0.5,\"line_color\":\"#377eb8\",\"line_dash\":[6],\"line_width\":4,\"x\":{\"field\":\"x\"},\"y\":{\"field\":\"y\"}},\"id\":\"4a0f813e-7c4c-4eb2-90a3-5bb057cf66ec\",\"type\":\"Line\"},{\"attributes\":{\"bottom_units\":\"screen\",\"fill_alpha\":{\"value\":0.5},\"fill_color\":{\"value\":\"lightgrey\"},\"left_units\":\"screen\",\"level\":\"overlay\",\"line_alpha\":{\"value\":1.0},\"line_color\":{\"value\":\"black\"},\"line_dash\":[4,4],\"line_width\":{\"value\":2},\"plot\":null,\"render_mode\":\"css\",\"right_units\":\"screen\",\"top_units\":\"screen\"},\"id\":\"1d7b1748-ec14-46d4-abb3-0ced650a6439\",\"type\":\"BoxAnnotation\"},{\"attributes\":{\"dimension\":1,\"plot\":{\"id\":\"061be780-fc4e-4726-8629-383a2f5de9f8\",\"subtype\":\"Figure\",\"type\":\"Plot\"},\"ticker\":{\"id\":\"bbf38850-b848-48aa-a245-03434d410a51\",\"type\":\"LogTicker\"}},\"id\":\"6f43fcc1-3d0b-4cc2-bfba-1dbcf5ca3cd7\",\"type\":\"Grid\"},{\"attributes\":{\"source\":{\"id\":\"77100726-a8a3-4237-a941-e804f40f2ea7\",\"type\":\"ColumnDataSource\"}},\"id\":\"9165d7a1-f458-4702-b575-7aeb141d159a\",\"type\":\"CDSView\"},{\"attributes\":{},\"id\":\"aebcf402-50c6-431d-bcad-2943ae089aff\",\"type\":\"UnionRenderers\"},{\"attributes\":{\"data_source\":{\"id\":\"77100726-a8a3-4237-a941-e804f40f2ea7\",\"type\":\"ColumnDataSource\"},\"glyph\":{\"id\":\"4a0f813e-7c4c-4eb2-90a3-5bb057cf66ec\",\"type\":\"Line\"},\"hover_glyph\":null,\"muted_glyph\":null,\"nonselection_glyph\":{\"id\":\"f7f4b291-aaeb-4774-a5b2-d21d0692b5e6\",\"type\":\"Line\"},\"selection_glyph\":null,\"view\":{\"id\":\"9165d7a1-f458-4702-b575-7aeb141d159a\",\"type\":\"CDSView\"}},\"id\":\"4db70f00-82ad-4440-9378-3986db1384d3\",\"type\":\"GlyphRenderer\"},{\"attributes\":{\"source\":{\"id\":\"3e1393d9-18bc-4e7d-8c69-5d8a6554dd9c\",\"type\":\"ColumnDataSource\"}},\"id\":\"37b3ffc3-cfc5-4021-a454-a85087ee46ce\",\"type\":\"CDSView\"},{\"attributes\":{\"line_alpha\":0.8,\"line_color\":\"#984ea3\",\"line_width\":1.5,\"x\":{\"field\":\"x\"},\"y\":{\"field\":\"y\"}},\"id\":\"c59c45af-7ce1-49ef-9a5b-f0a86b9f1555\",\"type\":\"Line\"},{\"attributes\":{\"label\":{\"value\":\"CLIRAD (single-run) - CRD\"},\"renderers\":[{\"id\":\"f1fc2a8f-7257-4572-8918-6dc1f3209307\",\"type\":\"GlyphRenderer\"},{\"id\":\"912f6a4f-04ec-4a9e-8c15-64b2497dadcd\",\"type\":\"GlyphRenderer\"}]},\"id\":\"8d9481f0-e442-4191-b23f-75541e73cf32\",\"type\":\"LegendItem\"},{\"attributes\":{\"label\":{\"value\":\"old CLIRAD (H2012) - CRD\"},\"renderers\":[{\"id\":\"4db70f00-82ad-4440-9378-3986db1384d3\",\"type\":\"GlyphRenderer\"}]},\"id\":\"862bc544-29b5-48e4-a143-5c151caeccbb\",\"type\":\"LegendItem\"},{\"attributes\":{\"callback\":null,\"data\":{\"x\":{\"__ndarray__\":\"oGsWFOcWRMAMO53n/6ogwD3viZgKZgLA/QYLKQLU/D8kxx1hxGkOQMQ0+uZxzQ5AVNhXd+QeBEAOfWNUzSflP8Ab6dWes+m/+NL3xc/V9b/FaMqELYjxv9IJsBTPId+/TcZOEIimsD/RlBh077XZP+5CgCXcI98/xk80a5U21D+mvbpH91KhP0I7juACtdC/1aw+HWoz4L+eELp8N6Pgv46j72rX7tG/sPOr1cQ1eb8yylG8HeyqvzLdYsjI0NO/iNtWXRBP17+iXw8BsSGxvwV3o383itg/95efVY5T1z8Wf4KYaOC3Pxz4JWCS45c/xGzh7qDj0D/z9Jq0lJzVP9S9cwqzvcM/ncXJA03snL/+DCuavWFzP5gifvItdK4/6ix5O2qXfj/VIxwFX/CrvyFUz3G74La/my7Kb2SHub/iQ7MhNea1vxA1JmSLibC/ec3xKLA2r7/CQWKSSD+dv/kBCet07ba/jdOl0S2ZuL/hF/AL7Yurv4nkUKY76K6/oQAAbI22s7/sel+r8Oayv1lPEDkNp6u/hX6dcBWzor/B7Z2I616YvxIFFivn5ZS/kePwCZ6plL+En8uXwV+Zv6r8aguhXJu/hY8q3THCk78YErbXNlBWP49H38C+f6A/WwZhsThqrD+Qb3Iuc+mtP/D2ZI59eqU/qxypqzTKlT/wr1QOo+RZP+CjI8tNBUE/JP80BLOBgT9iFteBPlSeP2eXidFcb6g/plqmh+qrrz+CO88mJx2yP91eBcEyWbM/pmiOXiQjtD+1cER8wdW0P61wWfKJoVbA\",\"dtype\":\"float64\",\"shape\":[75]},\"y\":{\"__ndarray__\":\"GhExyth1ND/Sv8nbtpRIP2vylNV0PVE/aTum7souWD/At0SJ8fVgPw3Iuahxymc/MSNhhJWvcD/bTfBN02d3P2zb5nxnaoA/CD5h5MAGhz8NmeH1TyaQP+zrCsc9p5Y/LbKd76fGnz/bLW5ISEmmPww9YvTcQq8/JV2OstnstT8Er5Y7M8G+P0c+r3jqkcU/5h99k6ZBzj88bCIzFzjVP4enV8oyxN0//yH99nXg5D8qOpLLf0jtP5kqGJXUifQ/c9cS8kHP/D+/DpwzojQEQIEmwoanVwxA4lgXt9HgE0BSSZ2AJuIbQAMJih9jjiNA5q4l5INuK0AwTKYKRj0zQNv5fmq8/DpAaCJseHrtQkB/+zpwzoxKQM3MzMzMeFJAZmZmZmZqWEAAAAAAAFxeQM3MzMzMJmJAmpmZmZkfZUBmZmZmZhhoQDMzMzMzEWtAAAAAAAAKbkBmZmZmZoFwQM3MzMzM/XFAMzMzMzN6c0CamZmZmfZ0QAAAAAAAc3ZAZmZmZmbvd0DNzMzMzGt5QDMzMzMz6HpAmpmZmZlkfEAAAAAAAOF9QGZmZmZmXX9AZmZmZuZsgECamZmZGSuBQM3MzMxM6YFAAAAAAICngkAzMzMzs2WDQGZmZmbmI4RAmpmZmRnihEDNzMzMTKCFQAAAAACAXoZAMzMzM7Mch0BmZmZm5tqHQJqZmZkZmYhAzczMzExXiUAAAAAAgBWKQDMzMzOz04pAZmZmZuaRi0CamZmZGVCMQM3MzMxMDo1AAAAAAIDMjUAzMzMzs4qOQGZmZmbmSI9A\",\"dtype\":\"float64\",\"shape\":[75]}},\"selected\":{\"id\":\"2e56234a-5909-458d-8120-f279acf496fc\",\"type\":\"Selection\"},\"selection_policy\":{\"id\":\"7d301ee9-750a-4cfe-97a1-8462f74bac87\",\"type\":\"UnionRenderers\"}},\"id\":\"3e1393d9-18bc-4e7d-8c69-5d8a6554dd9c\",\"type\":\"ColumnDataSource\"},{\"attributes\":{},\"id\":\"aedbefe7-4456-4825-b0e3-f27dcdcad33b\",\"type\":\"Selection\"},{\"attributes\":{\"line_alpha\":0.1,\"line_color\":\"#1f77b4\",\"line_width\":1.5,\"x\":{\"field\":\"x\"},\"y\":{\"field\":\"y\"}},\"id\":\"10ce92c2-98c2-437b-a8bd-84b42d7af2bf\",\"type\":\"Line\"},{\"attributes\":{},\"id\":\"8fe10cda-0900-45d5-bc78-69724c7b57cf\",\"type\":\"Selection\"},{\"attributes\":{\"line_alpha\":0.1,\"line_color\":\"#1f77b4\",\"line_dash\":[6],\"line_width\":4,\"x\":{\"field\":\"x\"},\"y\":{\"field\":\"y\"}},\"id\":\"f7f4b291-aaeb-4774-a5b2-d21d0692b5e6\",\"type\":\"Line\"},{\"attributes\":{},\"id\":\"98e98ab9-dc50-4c06-b7bf-5b9c9f993e18\",\"type\":\"UnionRenderers\"},{\"attributes\":{\"callback\":null,\"data\":{\"x\":{\"__ndarray__\":\"EFTPEMULEsBY5Soo7NcRwOAih0PfTQnAcLzxlkslFUAgkIluU6TzP+gpDdzLdwVAICHKUKVt1T+Ik7s3hMbwP6AHr9TDy9y/ECnbDOK15j+w2qv7vfbXvzCQ/22EH9Y/ABwN6PuE1b8w8RgTZ5TNP8ZxqdeCOdI/WPaTJPMAyz/gCWaNx9zKv4Bz2SfMkLG/QNDU2Dvrw7/gjDvG8ELPv3BfAcZ9A9W/QPE2M06U4r+4EtXbvdv4v8CHA9UM1vO/wNkC+csj1L9A31CHx4DGv4BAVcDWEKk/AJyjBEwOpL8A2K0iJHelvwAHMEdHKYW/QAFQrblkpT+AYHxUdJWePwCcnL/AFYO/AIDdMF2+IL9AoMQ3Xs6Hv8CEJWa/IIk/SHjx3bH7mD9glt/hXwibv4AXhtbv81c/0ZPByHVmuD+ZIBKsyEuxPwB7VdwaDKi/AMK2wPlcpL+A1M+Jt0OhvwBblecIUqS/AOzlE2F5m79AcNDuEvKUv8BO6MRU/Ja/ALSuiFPKhL8ASGwETKOKvwCIZggV2Yi/AB5fgpVndD+A7LY9mXWhv8C4xgD0L5O/ALuUgd63fD8AAPReZ8gCPwB4gQY0fE+/gN8kEc8Okj9ggdWOaw6mPwButB7pzIA/QJoEKHMXlz9A3ZOmSfmuP0CC+mOR17o/8L5CjVu4sD8gd3D5DeiqP4BAGGl6MbI/oBQpEQTvtT+AoHD36662PwCQysucWWu/gOgg5EKCgD+gmD6me76hPwAZquxAgK4/MDP40Wo1tD/gyKr9n0C3P9Ci4ei4h7S/\",\"dtype\":\"float64\",\"shape\":[75]},\"y\":{\"__ndarray__\":\"GhExyth1ND/Sv8nbtpRIP2vylNV0PVE/aTum7souWD/At0SJ8fVgPw3Iuahxymc/MSNhhJWvcD/bTfBN02d3P2zb5nxnaoA/CD5h5MAGhz8NmeH1TyaQP+zrCsc9p5Y/LbKd76fGnz/bLW5ISEmmPww9YvTcQq8/JV2OstnstT8Er5Y7M8G+P0c+r3jqkcU/5h99k6ZBzj88bCIzFzjVP4enV8oyxN0//yH99nXg5D8qOpLLf0jtP5kqGJXUifQ/c9cS8kHP/D+/DpwzojQEQIEmwoanVwxA4lgXt9HgE0BSSZ2AJuIbQAMJih9jjiNA5q4l5INuK0AwTKYKRj0zQNv5fmq8/DpAaCJseHrtQkB/+zpwzoxKQM3MzMzMeFJAZmZmZmZqWEAAAAAAAFxeQM3MzMzMJmJAmpmZmZkfZUBmZmZmZhhoQDMzMzMzEWtAAAAAAAAKbkBmZmZmZoFwQM3MzMzM/XFAMzMzMzN6c0CamZmZmfZ0QAAAAAAAc3ZAZmZmZmbvd0DNzMzMzGt5QDMzMzMz6HpAmpmZmZlkfEAAAAAAAOF9QGZmZmZmXX9AZmZmZuZsgECamZmZGSuBQM3MzMxM6YFAAAAAAICngkAzMzMzs2WDQGZmZmbmI4RAmpmZmRnihEDNzMzMTKCFQAAAAACAXoZAMzMzM7Mch0BmZmZm5tqHQJqZmZkZmYhAzczMzExXiUAAAAAAgBWKQDMzMzOz04pAZmZmZuaRi0CamZmZGVCMQM3MzMxMDo1AAAAAAIDMjUAzMzMzs4qOQGZmZmbmSI9A\",\"dtype\":\"float64\",\"shape\":[75]}},\"selected\":{\"id\":\"6b29b191-e9b5-4dbd-b4d0-bce6dfe40e96\",\"type\":\"Selection\"},\"selection_policy\":{\"id\":\"5faccc24-f121-4fc7-bf40-11161437318d\",\"type\":\"UnionRenderers\"}},\"id\":\"77100726-a8a3-4237-a941-e804f40f2ea7\",\"type\":\"ColumnDataSource\"},{\"attributes\":{\"num_minor_ticks\":10},\"id\":\"bbf38850-b848-48aa-a245-03434d410a51\",\"type\":\"LogTicker\"},{\"attributes\":{},\"id\":\"2a7631f3-7736-4103-a709-01024e5c59fd\",\"type\":\"Selection\"},{\"attributes\":{},\"id\":\"54bd26e0-a66c-43f9-bf6f-4ea92899b668\",\"type\":\"Selection\"},{\"attributes\":{},\"id\":\"f6556d21-0829-42f3-9437-c31ff340d3e0\",\"type\":\"ResetTool\"},{\"attributes\":{},\"id\":\"22ac4c3f-265b-4bbc-bbe9-805992f1ae55\",\"type\":\"LinearScale\"},{\"attributes\":{},\"id\":\"784b87af-435f-4408-bfcf-d2a07aa9c6e9\",\"type\":\"Selection\"},{\"attributes\":{},\"id\":\"261b944d-ad63-48bb-b2ee-f2392a3c8e06\",\"type\":\"Selection\"},{\"attributes\":{\"callback\":null,\"data\":{\"x\":{\"__ndarray__\":\"oGsWFOcWRMAMO53n/6ogwD3viZgKZgLA/QYLKQLU/D8kxx1hxGkOQMQ0+uZxzQ5AVNhXd+QeBEAOfWNUzSflP8Ab6dWes+m/+NL3xc/V9b/FaMqELYjxv9IJsBTPId+/TcZOEIimsD/RlBh077XZP+5CgCXcI98/xk80a5U21D+mvbpH91KhP0I7juACtdC/1aw+HWoz4L+eELp8N6Pgv46j72rX7tG/sPOr1cQ1eb8yylG8HeyqvzLdYsjI0NO/iNtWXRBP17+iXw8BsSGxvwV3o383itg/95efVY5T1z8Wf4KYaOC3Pxz4JWCS45c/xGzh7qDj0D/z9Jq0lJzVP9S9cwqzvcM/ncXJA03snL/+DCuavWFzP5gifvItdK4/6ix5O2qXfj/VIxwFX/CrvyFUz3G74La/my7Kb2SHub/iQ7MhNea1vxA1JmSLibC/ec3xKLA2r7/CQWKSSD+dv/kBCet07ba/jdOl0S2ZuL/hF/AL7Yurv4nkUKY76K6/oQAAbI22s7/sel+r8Oayv1lPEDkNp6u/hX6dcBWzor/B7Z2I616YvxIFFivn5ZS/kePwCZ6plL+En8uXwV+Zv6r8aguhXJu/hY8q3THCk78YErbXNlBWP49H38C+f6A/WwZhsThqrD+Qb3Iuc+mtP/D2ZI59eqU/qxypqzTKlT/wr1QOo+RZP+CjI8tNBUE/JP80BLOBgT9iFteBPlSeP2eXidFcb6g/plqmh+qrrz+CO88mJx2yP91eBcEyWbM/pmiOXiQjtD+1cER8wdW0P61wWfKJoVbA\",\"dtype\":\"float64\",\"shape\":[75]},\"y\":{\"__ndarray__\":\"GhExyth1ND/Sv8nbtpRIP2vylNV0PVE/aTum7souWD/At0SJ8fVgPw3Iuahxymc/MSNhhJWvcD/bTfBN02d3P2zb5nxnaoA/CD5h5MAGhz8NmeH1TyaQP+zrCsc9p5Y/LbKd76fGnz/bLW5ISEmmPww9YvTcQq8/JV2OstnstT8Er5Y7M8G+P0c+r3jqkcU/5h99k6ZBzj88bCIzFzjVP4enV8oyxN0//yH99nXg5D8qOpLLf0jtP5kqGJXUifQ/c9cS8kHP/D+/DpwzojQEQIEmwoanVwxA4lgXt9HgE0BSSZ2AJuIbQAMJih9jjiNA5q4l5INuK0AwTKYKRj0zQNv5fmq8/DpAaCJseHrtQkB/+zpwzoxKQM3MzMzMeFJAZmZmZmZqWEAAAAAAAFxeQM3MzMzMJmJAmpmZmZkfZUBmZmZmZhhoQDMzMzMzEWtAAAAAAAAKbkBmZmZmZoFwQM3MzMzM/XFAMzMzMzN6c0CamZmZmfZ0QAAAAAAAc3ZAZmZmZmbvd0DNzMzMzGt5QDMzMzMz6HpAmpmZmZlkfEAAAAAAAOF9QGZmZmZmXX9AZmZmZuZsgECamZmZGSuBQM3MzMxM6YFAAAAAAICngkAzMzMzs2WDQGZmZmbmI4RAmpmZmRnihEDNzMzMTKCFQAAAAACAXoZAMzMzM7Mch0BmZmZm5tqHQJqZmZkZmYhAzczMzExXiUAAAAAAgBWKQDMzMzOz04pAZmZmZuaRi0CamZmZGVCMQM3MzMxMDo1AAAAAAIDMjUAzMzMzs4qOQGZmZmbmSI9A\",\"dtype\":\"float64\",\"shape\":[75]}},\"selected\":{\"id\":\"a8e2b6b9-6324-4795-bfea-cb0986cb0b81\",\"type\":\"Selection\"},\"selection_policy\":{\"id\":\"11f071ef-24d3-4a4a-af12-4047044d7381\",\"type\":\"UnionRenderers\"}},\"id\":\"bc5de432-3fb8-4f4a-a39c-324102146853\",\"type\":\"ColumnDataSource\"},{\"attributes\":{\"dimension\":1,\"plot\":{\"id\":\"60ddfeb0-c427-4fb4-8948-abe4930c8dfd\",\"subtype\":\"Figure\",\"type\":\"Plot\"},\"ticker\":{\"id\":\"c4e44fb7-933d-42b8-b5b4-515f3895d7b9\",\"type\":\"LogTicker\"}},\"id\":\"73cd538b-5ac1-4315-ac8f-386b37fbf6ab\",\"type\":\"Grid\"},{\"attributes\":{\"fill_alpha\":{\"value\":0.1},\"fill_color\":{\"value\":\"#1f77b4\"},\"line_alpha\":{\"value\":0.1},\"line_color\":{\"value\":\"#1f77b4\"},\"x\":{\"field\":\"x\"},\"y\":{\"field\":\"y\"}},\"id\":\"f78d23e4-1d4c-4556-81e3-ab7abc7a4ae8\",\"type\":\"Circle\"},{\"attributes\":{\"source\":{\"id\":\"a4e8a4b7-b91a-4e49-b283-c06b10dc311b\",\"type\":\"ColumnDataSource\"}},\"id\":\"962da85a-e4e9-40a5-af03-872bdc7bc76e\",\"type\":\"CDSView\"},{\"attributes\":{\"fill_alpha\":{\"value\":0.1},\"fill_color\":{\"value\":\"#1f77b4\"},\"line_alpha\":{\"value\":0.1},\"line_color\":{\"value\":\"#1f77b4\"},\"x\":{\"field\":\"x\"},\"y\":{\"field\":\"y\"}},\"id\":\"ec6dc5fe-ce35-4ffd-a650-eb3fe2e8ea20\",\"type\":\"Circle\"},{\"attributes\":{\"callback\":null,\"end\":0.01,\"start\":1020},\"id\":\"206f1d10-03d3-46d8-aeda-af71dc60e1fc\",\"type\":\"Range1d\"},{\"attributes\":{\"data_source\":{\"id\":\"a4e8a4b7-b91a-4e49-b283-c06b10dc311b\",\"type\":\"ColumnDataSource\"},\"glyph\":{\"id\":\"5b600634-33e1-4715-82a2-a5205bf7232b\",\"type\":\"Line\"},\"hover_glyph\":null,\"muted_glyph\":null,\"nonselection_glyph\":{\"id\":\"78c76873-23c2-4df7-8e75-cdc7673ee231\",\"type\":\"Line\"},\"selection_glyph\":null,\"view\":{\"id\":\"962da85a-e4e9-40a5-af03-872bdc7bc76e\",\"type\":\"CDSView\"}},\"id\":\"d18dd1da-00ef-403e-989e-6c43690181cc\",\"type\":\"GlyphRenderer\"},{\"attributes\":{\"overlay\":{\"id\":\"1d7b1748-ec14-46d4-abb3-0ced650a6439\",\"type\":\"BoxAnnotation\"}},\"id\":\"d5b0ff14-6c6d-49d4-92e1-e704fbd97fe2\",\"type\":\"BoxZoomTool\"},{\"attributes\":{\"fill_alpha\":{\"value\":0.1},\"fill_color\":{\"value\":\"#1f77b4\"},\"line_alpha\":{\"value\":0.1},\"line_color\":{\"value\":\"#1f77b4\"},\"x\":{\"field\":\"x\"},\"y\":{\"field\":\"y\"}},\"id\":\"c8abd4db-fa62-4bdf-876b-8f5ef4679b7b\",\"type\":\"Square\"},{\"attributes\":{\"source\":{\"id\":\"fefdef1f-120d-42fa-a7f1-dfd56f1eed19\",\"type\":\"ColumnDataSource\"}},\"id\":\"ff09993b-2765-4644-9dc6-37ebbf71dec5\",\"type\":\"CDSView\"},{\"attributes\":{\"above\":[{\"id\":\"98a4dca6-3195-4f74-a9e8-14fe8817dbf1\",\"type\":\"Legend\"}],\"below\":[{\"id\":\"92485c98-c953-4df6-bd67-de2947c055a5\",\"type\":\"LinearAxis\"}],\"left\":[{\"id\":\"f70752ca-eac2-4554-95b8-86fe29f94244\",\"type\":\"LinearAxis\"}],\"plot_width\":300,\"renderers\":[{\"id\":\"92485c98-c953-4df6-bd67-de2947c055a5\",\"type\":\"LinearAxis\"},{\"id\":\"08ec92b1-cd77-4ff9-8e76-22a3c75b8f28\",\"type\":\"Grid\"},{\"id\":\"f70752ca-eac2-4554-95b8-86fe29f94244\",\"type\":\"LinearAxis\"},{\"id\":\"91d79392-66bb-4e80-85eb-516054f8afd7\",\"type\":\"Grid\"},{\"id\":\"99fe48ad-359a-455b-bd83-7303c733a992\",\"type\":\"BoxAnnotation\"},{\"id\":\"84b5324f-530c-408a-8b1b-211fbee13038\",\"type\":\"GlyphRenderer\"},{\"id\":\"c42ccf5d-fe22-4d94-b142-1167148a8b7e\",\"type\":\"GlyphRenderer\"},{\"id\":\"d21caa46-c738-4fc9-b2cc-04b52103d61f\",\"type\":\"GlyphRenderer\"},{\"id\":\"f383d31a-4491-45d7-8531-4b85ea3919e1\",\"type\":\"GlyphRenderer\"},{\"id\":\"96c9a392-643d-4d69-a46f-cc85517414ee\",\"type\":\"GlyphRenderer\"},{\"id\":\"98a4dca6-3195-4f74-a9e8-14fe8817dbf1\",\"type\":\"Legend\"}],\"title\":{\"id\":\"921b4de8-03a5-4a85-b1be-89265dbc2ce2\",\"type\":\"Title\"},\"toolbar\":{\"id\":\"378ba94e-f68f-4d00-9716-f41bf855ce0a\",\"type\":\"Toolbar\"},\"toolbar_location\":null,\"x_range\":{\"id\":\"cb867058-6007-4388-bc88-849df73632a9\",\"type\":\"Range1d\"},\"x_scale\":{\"id\":\"22ac4c3f-265b-4bbc-bbe9-805992f1ae55\",\"type\":\"LinearScale\"},\"y_range\":{\"id\":\"9ddcb3c4-345a-44ca-bb64-8480677eecec\",\"type\":\"Range1d\"},\"y_scale\":{\"id\":\"c78ccc6d-b6d8-415f-9b3c-b03581e3d226\",\"type\":\"LinearScale\"}},\"id\":\"3ac748cd-47af-46a7-ab2e-95695927568c\",\"subtype\":\"Figure\",\"type\":\"Plot\"},{\"attributes\":{},\"id\":\"57e9120d-b50d-45a7-83d6-ba42d565eb95\",\"type\":\"PanTool\"},{\"attributes\":{},\"id\":\"8815a52d-9ba4-46c9-b466-ad33ca76cc51\",\"type\":\"Selection\"},{\"attributes\":{},\"id\":\"4c00d410-8355-474b-a8bf-e3c94a8064fc\",\"type\":\"LogScale\"},{\"attributes\":{\"axis_label\":\"pressure [mb]\",\"formatter\":{\"id\":\"439f60aa-743b-4eaa-9871-c3091dbf56b6\",\"type\":\"LogTickFormatter\"},\"plot\":{\"id\":\"061be780-fc4e-4726-8629-383a2f5de9f8\",\"subtype\":\"Figure\",\"type\":\"Plot\"},\"ticker\":{\"id\":\"bbf38850-b848-48aa-a245-03434d410a51\",\"type\":\"LogTicker\"}},\"id\":\"bd768731-64f5-49b1-9013-b011b4b271ff\",\"type\":\"LogAxis\"},{\"attributes\":{\"line_alpha\":0.1,\"line_color\":\"#1f77b4\",\"line_width\":1.5,\"x\":{\"field\":\"x\"},\"y\":{\"field\":\"y\"}},\"id\":\"78c76873-23c2-4df7-8e75-cdc7673ee231\",\"type\":\"Line\"},{\"attributes\":{},\"id\":\"bc9bfca3-418b-4b38-8a18-b8e86431bf6f\",\"type\":\"ResetTool\"},{\"attributes\":{\"data_source\":{\"id\":\"c5f690ef-0a33-46b9-abf2-3f31796bbd11\",\"type\":\"ColumnDataSource\"},\"glyph\":{\"id\":\"e2b83995-7b39-4cd4-b63a-d04e13b1fa57\",\"type\":\"Circle\"},\"hover_glyph\":null,\"muted_glyph\":null,\"nonselection_glyph\":{\"id\":\"ec6dc5fe-ce35-4ffd-a650-eb3fe2e8ea20\",\"type\":\"Circle\"},\"selection_glyph\":null,\"view\":{\"id\":\"65a2e4ad-f32a-4dbd-aef5-3a49098bd9fd\",\"type\":\"CDSView\"}},\"id\":\"e5c22127-602d-4a5d-9fda-2f582605cb24\",\"type\":\"GlyphRenderer\"},{\"attributes\":{\"callback\":null,\"data\":{\"x\":{\"__ndarray__\":\"MXhf+wfXU0AZbvNjswdFQLQWsEQVdUFA5TlpnhT9QUB/x1dOYK05QImjxHmcEjZA9jYDSBB3L0AISPl4H6wqQBPuuwfAzyJAOcHprUZAIUB7WWpkesAXQJoT1Uq+ChVArO/8u0EXCkBgVNlshzgCQMeNQ+Nzu/I/POwv1Qzh+D9QxMRmcj8DQOrE7tC4mAxAQsLBRIlHEkAi4cPYoDEXQEeDpjRjzB1ASZ0GEfCuI0DVFj11sssnQOMiVKSMHyhAWRHvUxNoJEDo8cjD4g8gQLGGvR2NDRpAdpI3nV5oFECtyWH9Lp4QQIZQd9bvmwtAkshlnu1BBkBMysnQf1UAQHZJU/DYZ/c/HoEhV+G48T/rSm4vc/TmP3EgV4cD49g/xmy6+4w7zz+bEsjh3uDDPw5SRMRogKs/4GPKdPc1a78lazVXN1vCP/B84ODeUug/LOyxgXDV9z+/DBHyZAwAQAOIY+fy/QFAahF3XKCUAECV0GHvGsz+P+X4k4Nhvf0/RO/IqI98/T8rkW+v/zT9P59vGMDsAv0/zEX7plCY/D/E3siS8kj7P2yUMv+hDvs/RmrXDaYs+z+c9f5GCO36P58nVCbr7vo/Qus8hbcy/D+rD5hFMCf9P4t6dxofnPw/bRp4QYZ2/D/q8NNiN2b8P5YTVw9ESPw/l1Dy0X/K+j+WKih3ZdD5P2k8OYxHjvk/hceGh5N4+T8lpPahWSn5P6vJnePt4vY/UuhmxnXI9T8miFqdE+D0Pz7qfx5CR/Q/0khvq2US9D9LfVdHQGv0P9syeEmwYfg/\",\"dtype\":\"float64\",\"shape\":[75]},\"y\":{\"__ndarray__\":\"hLndy31yND/6fmq8dJNIP8n9DkWBPlE/aDum7souWD/b4a/JGvVgP9f34SAhymc/ZvM4DOavcD+z0M5pFmh3PxuC4zJuaoA/xjcUPlsHhz8uHAjJAiaQP9ieWRKgppY/oI7HDFTGnz+a5h2n6EimPzS6g9iZQq8/IuAQqtTstT9SSZ2AJsK+P4nS3uALk8U/ih9j7lpCzj+ASL99HTjVP4enV8oyxN0/ACL99nXg5D9fmEwVjErtPyUGgZVDi/Q/AiuHFtnO/D9OYhBYOTQEQPHSTWIQWAxA4XoUrkfhE0D8qfHSTeIbQMh2vp8ajyNArkfhehRuK0Bcj8L1KDwzQFyPwvUo/DpAPgrXo3DtQkDNzMzMzIxKQClcj8L1eFJAKVyPwvVoWECamZmZmVleQGZmZmZmJmJAAAAAAAAgZUCamZmZmRloQJqZmZmZEWtAmpmZmZkJbkCamZmZmYFwQGZmZmZm/nFAZmZmZmZ6c0BmZmZmZvZ0QDQzMzMzc3ZAAAAAAADwd0AAAAAAAGx5QAAAAAAA6HpAzMzMzMxkfEDMzMzMzOB9QM3MzMzMXH9AzczMzMxsgEAzMzMzMyuBQDMzMzMz6YFAMzMzMzOngkCamZmZmWWDQAAAAAAAJIRAAAAAAADihEAAAAAAAKCFQGZmZmZmXoZAzczMzMwch0DNzMzMzNqHQM3MzMzMmIhAMzMzMzNXiUCamZmZmRWKQAAAAAAA1IpAAAAAAACSi0AAAAAAAFCMQGZmZmZmDo1AzczMzMzMjUDNzMzMzIqOQM3MzMzMSI9A\",\"dtype\":\"float64\",\"shape\":[75]}},\"selected\":{\"id\":\"784b87af-435f-4408-bfcf-d2a07aa9c6e9\",\"type\":\"Selection\"},\"selection_policy\":{\"id\":\"361f2d22-4f1f-4616-b80f-1cb7aed67d28\",\"type\":\"UnionRenderers\"}},\"id\":\"fefdef1f-120d-42fa-a7f1-dfd56f1eed19\",\"type\":\"ColumnDataSource\"},{\"attributes\":{\"callback\":null,\"data\":{\"x\":{\"__ndarray__\":\"cm1sTMT3VEDEyvjosEJHQOKI6DjzCUNArgQWV9awPkB9Lm8XG3M4QEz+Qv6iYzNA7eV8HaPLLkCX1QHyTpMoQFBmYSYetiNAUB04GtGpH0AmFyVE5j8ZQJca9QPGqBNALJP+OOHHDEBNxaf7QF8AQKtislomWuw/cW2dcO6A9T/uJJvfPu0EQIaQLTI/JQ1AxGiII+PmEkCJvfVeuCsYQD6ZBhGbHB9AXQw69DTYJEAsubcwKucqQNuT9D5OmipAJyi3szEJJUBlNebh5WkgQDDcPHBr2xlArtlANXuQFEBdJadFHckQQI2Avh0ZsQtAjYiwt1rsBUCL0SDoVBgAQK6C0nEEjvc/CggLSme58T9sXU2orFPnP0v0JYz9Gdg/vT38vxYczD9nBQTe6kHHP1IhkEXJwKo/8OZnhCVAub+xtVgCpmqzP6DUpY6g0+k/PKK3T1h4+D8RTDjQc1EAQG/dAQs7TwJAQt2eHpPLAEBWEh074x//PyCap9ZSGf4/rEzaTySm/T+7aXhHRmr9P688KeqeNP0/ruZ4EemD/D8olrZcn9T7P0+vNc9hW/s/i9VVL+4P+z+0NzC24uz6P8731Kza8vo/xFf4SHzq+z+gYyHpvHb8P68ROkiFevw/BAjYdCga/D8AUp8VbW77P3JrF/nKmvo/qCQeGfq++T/dplwHJfn4P2G4p+Uva/g/OzZ0RqMZ+D8dmn/iar73P/OuA7Ka8PY/gaaeQHGn9T9hkyjAH1L0P3aZGhdAU/M/n8VP/g7P8j+90HxHNvfyPwhNBtgrqvk/\",\"dtype\":\"float64\",\"shape\":[75]},\"y\":{\"__ndarray__\":\"GhExyth1ND/Sv8nbtpRIP2vylNV0PVE/aTum7souWD/At0SJ8fVgPw3Iuahxymc/MSNhhJWvcD/bTfBN02d3P2zb5nxnaoA/CD5h5MAGhz8NmeH1TyaQP+zrCsc9p5Y/LbKd76fGnz/bLW5ISEmmPww9YvTcQq8/JV2OstnstT8Er5Y7M8G+P0c+r3jqkcU/5h99k6ZBzj88bCIzFzjVP4enV8oyxN0//yH99nXg5D8qOpLLf0jtP5kqGJXUifQ/c9cS8kHP/D+/DpwzojQEQIEmwoanVwxA4lgXt9HgE0BSSZ2AJuIbQAMJih9jjiNA5q4l5INuK0AwTKYKRj0zQNv5fmq8/DpAaCJseHrtQkB/+zpwzoxKQM3MzMzMeFJAZmZmZmZqWEAAAAAAAFxeQM3MzMzMJmJAmpmZmZkfZUBmZmZmZhhoQDMzMzMzEWtAAAAAAAAKbkBmZmZmZoFwQM3MzMzM/XFAMzMzMzN6c0CamZmZmfZ0QAAAAAAAc3ZAZmZmZmbvd0DNzMzMzGt5QDMzMzMz6HpAmpmZmZlkfEAAAAAAAOF9QGZmZmZmXX9AZmZmZuZsgECamZmZGSuBQM3MzMxM6YFAAAAAAICngkAzMzMzs2WDQGZmZmbmI4RAmpmZmRnihEDNzMzMTKCFQAAAAACAXoZAMzMzM7Mch0BmZmZm5tqHQJqZmZkZmYhAzczMzExXiUAAAAAAgBWKQDMzMzOz04pAZmZmZuaRi0CamZmZGVCMQM3MzMxMDo1AAAAAAIDMjUAzMzMzs4qOQGZmZmbmSI9A\",\"dtype\":\"float64\",\"shape\":[75]}},\"selected\":{\"id\":\"2a7631f3-7736-4103-a709-01024e5c59fd\",\"type\":\"Selection\"},\"selection_policy\":{\"id\":\"f1f2b108-3c4a-4c2a-be3b-8c104718a862\",\"type\":\"UnionRenderers\"}},\"id\":\"a4e8a4b7-b91a-4e49-b283-c06b10dc311b\",\"type\":\"ColumnDataSource\"},{\"attributes\":{},\"id\":\"8ced2636-c473-43c8-a30d-873ad96be2e5\",\"type\":\"SaveTool\"},{\"attributes\":{\"line_color\":\"#4daf4a\",\"line_width\":1.5,\"x\":{\"field\":\"x\"},\"y\":{\"field\":\"y\"}},\"id\":\"5b600634-33e1-4715-82a2-a5205bf7232b\",\"type\":\"Line\"},{\"attributes\":{\"callback\":null,\"data\":{\"x\":{\"__ndarray__\":\"MXhf+wfXU0AZbvNjswdFQLQWsEQVdUFA5TlpnhT9QUB/x1dOYK05QImjxHmcEjZA9jYDSBB3L0AISPl4H6wqQBPuuwfAzyJAOcHprUZAIUB7WWpkesAXQJoT1Uq+ChVArO/8u0EXCkBgVNlshzgCQMeNQ+Nzu/I/POwv1Qzh+D9QxMRmcj8DQOrE7tC4mAxAQsLBRIlHEkAi4cPYoDEXQEeDpjRjzB1ASZ0GEfCuI0DVFj11sssnQOMiVKSMHyhAWRHvUxNoJEDo8cjD4g8gQLGGvR2NDRpAdpI3nV5oFECtyWH9Lp4QQIZQd9bvmwtAkshlnu1BBkBMysnQf1UAQHZJU/DYZ/c/HoEhV+G48T/rSm4vc/TmP3EgV4cD49g/xmy6+4w7zz+bEsjh3uDDPw5SRMRogKs/4GPKdPc1a78lazVXN1vCP/B84ODeUug/LOyxgXDV9z+/DBHyZAwAQAOIY+fy/QFAahF3XKCUAECV0GHvGsz+P+X4k4Nhvf0/RO/IqI98/T8rkW+v/zT9P59vGMDsAv0/zEX7plCY/D/E3siS8kj7P2yUMv+hDvs/RmrXDaYs+z+c9f5GCO36P58nVCbr7vo/Qus8hbcy/D+rD5hFMCf9P4t6dxofnPw/bRp4QYZ2/D/q8NNiN2b8P5YTVw9ESPw/l1Dy0X/K+j+WKih3ZdD5P2k8OYxHjvk/hceGh5N4+T8lpPahWSn5P6vJnePt4vY/UuhmxnXI9T8miFqdE+D0Pz7qfx5CR/Q/0khvq2US9D9LfVdHQGv0P9syeEmwYfg/\",\"dtype\":\"float64\",\"shape\":[75]},\"y\":{\"__ndarray__\":\"hLndy31yND/6fmq8dJNIP8n9DkWBPlE/aDum7souWD/b4a/JGvVgP9f34SAhymc/ZvM4DOavcD+z0M5pFmh3PxuC4zJuaoA/xjcUPlsHhz8uHAjJAiaQP9ieWRKgppY/oI7HDFTGnz+a5h2n6EimPzS6g9iZQq8/IuAQqtTstT9SSZ2AJsK+P4nS3uALk8U/ih9j7lpCzj+ASL99HTjVP4enV8oyxN0/ACL99nXg5D9fmEwVjErtPyUGgZVDi/Q/AiuHFtnO/D9OYhBYOTQEQPHSTWIQWAxA4XoUrkfhE0D8qfHSTeIbQMh2vp8ajyNArkfhehRuK0Bcj8L1KDwzQFyPwvUo/DpAPgrXo3DtQkDNzMzMzIxKQClcj8L1eFJAKVyPwvVoWECamZmZmVleQGZmZmZmJmJAAAAAAAAgZUCamZmZmRloQJqZmZmZEWtAmpmZmZkJbkCamZmZmYFwQGZmZmZm/nFAZmZmZmZ6c0BmZmZmZvZ0QDQzMzMzc3ZAAAAAAADwd0AAAAAAAGx5QAAAAAAA6HpAzMzMzMxkfEDMzMzMzOB9QM3MzMzMXH9AzczMzMxsgEAzMzMzMyuBQDMzMzMz6YFAMzMzMzOngkCamZmZmWWDQAAAAAAAJIRAAAAAAADihEAAAAAAAKCFQGZmZmZmXoZAzczMzMwch0DNzMzMzNqHQM3MzMzMmIhAMzMzMzNXiUCamZmZmRWKQAAAAAAA1IpAAAAAAACSi0AAAAAAAFCMQGZmZmZmDo1AzczMzMzMjUDNzMzMzIqOQM3MzMzMSI9A\",\"dtype\":\"float64\",\"shape\":[75]}},\"selected\":{\"id\":\"76856e38-75cd-4823-a19c-6503b090c681\",\"type\":\"Selection\"},\"selection_policy\":{\"id\":\"323dfd98-50f4-4629-a73a-1f8f4031fe8e\",\"type\":\"UnionRenderers\"}},\"id\":\"959af437-db52-4486-98ea-752e5b717688\",\"type\":\"ColumnDataSource\"},{\"attributes\":{\"data_source\":{\"id\":\"fefdef1f-120d-42fa-a7f1-dfd56f1eed19\",\"type\":\"ColumnDataSource\"},\"glyph\":{\"id\":\"63e9dc6d-f3c8-4e1c-aa64-ca2f3ddef308\",\"type\":\"Square\"},\"hover_glyph\":null,\"muted_glyph\":null,\"nonselection_glyph\":{\"id\":\"c8abd4db-fa62-4bdf-876b-8f5ef4679b7b\",\"type\":\"Square\"},\"selection_glyph\":null,\"view\":{\"id\":\"ff09993b-2765-4644-9dc6-37ebbf71dec5\",\"type\":\"CDSView\"}},\"id\":\"699f779d-040a-420e-9e17-fcd970c30c2a\",\"type\":\"GlyphRenderer\"},{\"attributes\":{\"fill_alpha\":{\"value\":0.7},\"fill_color\":{\"value\":\"#4daf4a\"},\"line_alpha\":{\"value\":0.7},\"line_color\":{\"value\":\"#4daf4a\"},\"x\":{\"field\":\"x\"},\"y\":{\"field\":\"y\"}},\"id\":\"e2b83995-7b39-4cd4-b63a-d04e13b1fa57\",\"type\":\"Circle\"},{\"attributes\":{},\"id\":\"2d5fb524-ffb6-4de1-82b4-2a29a1917f3e\",\"type\":\"LinearScale\"},{\"attributes\":{\"source\":{\"id\":\"c5f690ef-0a33-46b9-abf2-3f31796bbd11\",\"type\":\"ColumnDataSource\"}},\"id\":\"65a2e4ad-f32a-4dbd-aef5-3a49098bd9fd\",\"type\":\"CDSView\"},{\"attributes\":{\"line_alpha\":0.5,\"line_color\":\"#984ea3\",\"line_width\":1.5,\"x\":{\"field\":\"x\"},\"y\":{\"field\":\"y\"}},\"id\":\"cd7f9df6-946e-49c9-9f5d-8bfe2b9c5a49\",\"type\":\"Line\"},{\"attributes\":{\"fill_alpha\":{\"value\":0.7},\"fill_color\":{\"value\":\"#984ea3\"},\"line_alpha\":{\"value\":0.7},\"line_color\":{\"value\":\"#984ea3\"},\"x\":{\"field\":\"x\"},\"y\":{\"field\":\"y\"}},\"id\":\"63e9dc6d-f3c8-4e1c-aa64-ca2f3ddef308\",\"type\":\"Square\"},{\"attributes\":{},\"id\":\"237c4f31-9139-4af0-8170-f3e0204b92f8\",\"type\":\"Selection\"},{\"attributes\":{\"callback\":null,\"data\":{\"x\":{\"__ndarray__\":\"MXhf+wfXU0AZbvNjswdFQLQWsEQVdUFA5TlpnhT9QUB/x1dOYK05QImjxHmcEjZA9jYDSBB3L0AISPl4H6wqQBPuuwfAzyJAOcHprUZAIUB7WWpkesAXQJoT1Uq+ChVArO/8u0EXCkBgVNlshzgCQMeNQ+Nzu/I/POwv1Qzh+D9QxMRmcj8DQOrE7tC4mAxAQsLBRIlHEkAi4cPYoDEXQEeDpjRjzB1ASZ0GEfCuI0DVFj11sssnQOMiVKSMHyhAWRHvUxNoJEDo8cjD4g8gQLGGvR2NDRpAdpI3nV5oFECtyWH9Lp4QQIZQd9bvmwtAkshlnu1BBkBMysnQf1UAQHZJU/DYZ/c/HoEhV+G48T/rSm4vc/TmP3EgV4cD49g/xmy6+4w7zz+bEsjh3uDDPw5SRMRogKs/4GPKdPc1a78lazVXN1vCP/B84ODeUug/LOyxgXDV9z+/DBHyZAwAQAOIY+fy/QFAahF3XKCUAECV0GHvGsz+P+X4k4Nhvf0/RO/IqI98/T8rkW+v/zT9P59vGMDsAv0/zEX7plCY/D/E3siS8kj7P2yUMv+hDvs/RmrXDaYs+z+c9f5GCO36P58nVCbr7vo/Qus8hbcy/D+rD5hFMCf9P4t6dxofnPw/bRp4QYZ2/D/q8NNiN2b8P5YTVw9ESPw/l1Dy0X/K+j+WKih3ZdD5P2k8OYxHjvk/hceGh5N4+T8lpPahWSn5P6vJnePt4vY/UuhmxnXI9T8miFqdE+D0Pz7qfx5CR/Q/0khvq2US9D9LfVdHQGv0P9syeEmwYfg/\",\"dtype\":\"float64\",\"shape\":[75]},\"y\":{\"__ndarray__\":\"hLndy31yND/6fmq8dJNIP8n9DkWBPlE/aDum7souWD/b4a/JGvVgP9f34SAhymc/ZvM4DOavcD+z0M5pFmh3PxuC4zJuaoA/xjcUPlsHhz8uHAjJAiaQP9ieWRKgppY/oI7HDFTGnz+a5h2n6EimPzS6g9iZQq8/IuAQqtTstT9SSZ2AJsK+P4nS3uALk8U/ih9j7lpCzj+ASL99HTjVP4enV8oyxN0/ACL99nXg5D9fmEwVjErtPyUGgZVDi/Q/AiuHFtnO/D9OYhBYOTQEQPHSTWIQWAxA4XoUrkfhE0D8qfHSTeIbQMh2vp8ajyNArkfhehRuK0Bcj8L1KDwzQFyPwvUo/DpAPgrXo3DtQkDNzMzMzIxKQClcj8L1eFJAKVyPwvVoWECamZmZmVleQGZmZmZmJmJAAAAAAAAgZUCamZmZmRloQJqZmZmZEWtAmpmZmZkJbkCamZmZmYFwQGZmZmZm/nFAZmZmZmZ6c0BmZmZmZvZ0QDQzMzMzc3ZAAAAAAADwd0AAAAAAAGx5QAAAAAAA6HpAzMzMzMxkfEDMzMzMzOB9QM3MzMzMXH9AzczMzMxsgEAzMzMzMyuBQDMzMzMz6YFAMzMzMzOngkCamZmZmWWDQAAAAAAAJIRAAAAAAADihEAAAAAAAKCFQGZmZmZmXoZAzczMzMwch0DNzMzMzNqHQM3MzMzMmIhAMzMzMzNXiUCamZmZmRWKQAAAAAAA1IpAAAAAAACSi0AAAAAAAFCMQGZmZmZmDo1AzczMzMzMjUDNzMzMzIqOQM3MzMzMSI9A\",\"dtype\":\"float64\",\"shape\":[75]}},\"selected\":{\"id\":\"8815a52d-9ba4-46c9-b466-ad33ca76cc51\",\"type\":\"Selection\"},\"selection_policy\":{\"id\":\"4a9307f4-5e0d-4078-87e2-7e799c9d83c8\",\"type\":\"UnionRenderers\"}},\"id\":\"d7c400f4-7fc3-4910-8c0b-5ab675cc21a3\",\"type\":\"ColumnDataSource\"},{\"attributes\":{},\"id\":\"4a9307f4-5e0d-4078-87e2-7e799c9d83c8\",\"type\":\"UnionRenderers\"},{\"attributes\":{\"line_alpha\":0.1,\"line_color\":\"#1f77b4\",\"line_width\":1.5,\"x\":{\"field\":\"x\"},\"y\":{\"field\":\"y\"}},\"id\":\"1aa13a0e-00bb-4b44-b4f9-6578a23258f6\",\"type\":\"Line\"},{\"attributes\":{\"data_source\":{\"id\":\"b9a5428f-cafe-4071-b7c3-0203688727f9\",\"type\":\"ColumnDataSource\"},\"glyph\":{\"id\":\"dbaec830-578e-4152-83db-4058c65bb712\",\"type\":\"Square\"},\"hover_glyph\":null,\"muted_glyph\":null,\"nonselection_glyph\":{\"id\":\"72d90e3e-e52a-4dca-86e0-2da03ea45b7a\",\"type\":\"Square\"},\"selection_glyph\":null,\"view\":{\"id\":\"397ccca3-76a7-4990-ba12-84d3251ce12c\",\"type\":\"CDSView\"}},\"id\":\"f383d31a-4491-45d7-8531-4b85ea3919e1\",\"type\":\"GlyphRenderer\"},{\"attributes\":{\"ticker\":null},\"id\":\"cf7fbb4f-8a21-41ab-aae0-00acaed96ca8\",\"type\":\"LogTickFormatter\"},{\"attributes\":{\"overlay\":{\"id\":\"3d95c08c-dca2-478d-85b0-43502ae120b7\",\"type\":\"BoxAnnotation\"}},\"id\":\"b8a8c735-227d-42db-b4cf-a2cec1184c42\",\"type\":\"BoxZoomTool\"},{\"attributes\":{\"line_alpha\":0.1,\"line_color\":\"#1f77b4\",\"line_width\":1.5,\"x\":{\"field\":\"x\"},\"y\":{\"field\":\"y\"}},\"id\":\"75821c50-f046-47ee-9f67-18242feacc59\",\"type\":\"Line\"},{\"attributes\":{\"data_source\":{\"id\":\"33e57359-4800-4f13-b9bd-f528d8bd9fee\",\"type\":\"ColumnDataSource\"},\"glyph\":{\"id\":\"b6f1f8f8-3bff-4d58-be03-dba84f8a5c6a\",\"type\":\"Line\"},\"hover_glyph\":null,\"muted_glyph\":null,\"nonselection_glyph\":{\"id\":\"21278364-0d12-4074-9eba-574700cd12cf\",\"type\":\"Line\"},\"selection_glyph\":null,\"view\":{\"id\":\"15720061-2d4e-4b66-9c91-c50a0b71f19e\",\"type\":\"CDSView\"}},\"id\":\"84b5324f-530c-408a-8b1b-211fbee13038\",\"type\":\"GlyphRenderer\"},{\"attributes\":{\"source\":{\"id\":\"33e57359-4800-4f13-b9bd-f528d8bd9fee\",\"type\":\"ColumnDataSource\"}},\"id\":\"15720061-2d4e-4b66-9c91-c50a0b71f19e\",\"type\":\"CDSView\"},{\"attributes\":{},\"id\":\"14479fcb-aa6b-40db-9d8c-caa7d7b6727e\",\"type\":\"ResetTool\"},{\"attributes\":{},\"id\":\"02872dd2-b8a7-4b84-b9ec-80307060d2f3\",\"type\":\"UnionRenderers\"},{\"attributes\":{\"data_source\":{\"id\":\"22f45c58-e774-4439-b20e-5cd75318ef1d\",\"type\":\"ColumnDataSource\"},\"glyph\":{\"id\":\"a7fd504a-aa6e-4ea0-8433-7c7f2757a29d\",\"type\":\"Circle\"},\"hover_glyph\":null,\"muted_glyph\":null,\"nonselection_glyph\":{\"id\":\"d82146f5-0172-4e75-a470-20d6773e9789\",\"type\":\"Circle\"},\"selection_glyph\":null,\"view\":{\"id\":\"8e651100-afa9-40d0-9afb-7680bdf63cbf\",\"type\":\"CDSView\"}},\"id\":\"c42ccf5d-fe22-4d94-b142-1167148a8b7e\",\"type\":\"GlyphRenderer\"},{\"attributes\":{\"fill_alpha\":{\"value\":0.7},\"fill_color\":{\"value\":\"#984ea3\"},\"line_alpha\":{\"value\":0.7},\"line_color\":{\"value\":\"#984ea3\"},\"x\":{\"field\":\"x\"},\"y\":{\"field\":\"y\"}},\"id\":\"dbaec830-578e-4152-83db-4058c65bb712\",\"type\":\"Square\"},{\"attributes\":{\"label\":{\"value\":\"CLIRAD (single-run)\"},\"renderers\":[{\"id\":\"f0581969-97b3-4ad7-8894-88d3d7b023c6\",\"type\":\"GlyphRenderer\"}]},\"id\":\"929c79aa-bc75-47b8-a634-8205b50caf7e\",\"type\":\"LegendItem\"},{\"attributes\":{\"data_source\":{\"id\":\"b823928f-2962-4ca6-8174-61de4c4bb27b\",\"type\":\"ColumnDataSource\"},\"glyph\":{\"id\":\"562de333-cc5b-4b03-a0e5-0ab4e589290b\",\"type\":\"Line\"},\"hover_glyph\":null,\"muted_glyph\":null,\"nonselection_glyph\":{\"id\":\"75821c50-f046-47ee-9f67-18242feacc59\",\"type\":\"Line\"},\"selection_glyph\":null,\"view\":{\"id\":\"7ee412d0-0422-4aeb-8157-b4d3cd9a446c\",\"type\":\"CDSView\"}},\"id\":\"d21caa46-c738-4fc9-b2cc-04b52103d61f\",\"type\":\"GlyphRenderer\"},{\"attributes\":{\"overlay\":{\"id\":\"99fe48ad-359a-455b-bd83-7303c733a992\",\"type\":\"BoxAnnotation\"}},\"id\":\"18dc4ab0-b1a0-4df9-9ad5-00c012ed31fd\",\"type\":\"BoxZoomTool\"},{\"attributes\":{},\"id\":\"898c9ce5-7dfc-439a-923c-0705fd6cd8f5\",\"type\":\"WheelZoomTool\"},{\"attributes\":{\"source\":{\"id\":\"22f45c58-e774-4439-b20e-5cd75318ef1d\",\"type\":\"ColumnDataSource\"}},\"id\":\"8e651100-afa9-40d0-9afb-7680bdf63cbf\",\"type\":\"CDSView\"},{\"attributes\":{\"above\":[{\"id\":\"2bbfec63-fb1d-4fd9-b749-f3cc56789e26\",\"type\":\"Legend\"}],\"below\":[{\"id\":\"b25f276e-b89b-4bc9-a1ba-2b3f6cd8bc90\",\"type\":\"LinearAxis\"}],\"left\":[{\"id\":\"b72df93f-abcc-4074-980e-90a920dfb73c\",\"type\":\"LogAxis\"}],\"plot_width\":300,\"renderers\":[{\"id\":\"b25f276e-b89b-4bc9-a1ba-2b3f6cd8bc90\",\"type\":\"LinearAxis\"},{\"id\":\"feb4bfbe-1ca2-4927-9043-ecfbcf9d6765\",\"type\":\"Grid\"},{\"id\":\"b72df93f-abcc-4074-980e-90a920dfb73c\",\"type\":\"LogAxis\"},{\"id\":\"73cd538b-5ac1-4315-ac8f-386b37fbf6ab\",\"type\":\"Grid\"},{\"id\":\"3d95c08c-dca2-478d-85b0-43502ae120b7\",\"type\":\"BoxAnnotation\"},{\"id\":\"f0581969-97b3-4ad7-8894-88d3d7b023c6\",\"type\":\"GlyphRenderer\"},{\"id\":\"e5c22127-602d-4a5d-9fda-2f582605cb24\",\"type\":\"GlyphRenderer\"},{\"id\":\"d18dd1da-00ef-403e-989e-6c43690181cc\",\"type\":\"GlyphRenderer\"},{\"id\":\"699f779d-040a-420e-9e17-fcd970c30c2a\",\"type\":\"GlyphRenderer\"},{\"id\":\"b87dc5de-a6cd-4976-bd39-8ab2c2f1387f\",\"type\":\"GlyphRenderer\"},{\"id\":\"2bbfec63-fb1d-4fd9-b749-f3cc56789e26\",\"type\":\"Legend\"}],\"title\":{\"id\":\"1312af65-b730-4f03-8a99-d66bb08bbb99\",\"type\":\"Title\"},\"toolbar\":{\"id\":\"721e7647-498b-448e-a9a7-4f74904b10a7\",\"type\":\"Toolbar\"},\"toolbar_location\":null,\"x_range\":{\"id\":\"9007f970-4abb-44b1-bdc7-119be8700c09\",\"type\":\"Range1d\"},\"x_scale\":{\"id\":\"82af151d-1ac6-4e29-aed4-bf79ca74ced2\",\"type\":\"LinearScale\"},\"y_range\":{\"id\":\"0329d701-2a35-4d80-99db-dedab3675efc\",\"type\":\"Range1d\"},\"y_scale\":{\"id\":\"5b1079ff-ce51-45cf-bfed-006260c50ed2\",\"type\":\"LogScale\"}},\"id\":\"60ddfeb0-c427-4fb4-8948-abe4930c8dfd\",\"subtype\":\"Figure\",\"type\":\"Plot\"},{\"attributes\":{},\"id\":\"c78ccc6d-b6d8-415f-9b3c-b03581e3d226\",\"type\":\"LinearScale\"},{\"attributes\":{\"line_alpha\":0.1,\"line_color\":\"#1f77b4\",\"line_width\":1.5,\"x\":{\"field\":\"x\"},\"y\":{\"field\":\"y\"}},\"id\":\"fd5c4d88-3822-4aa1-a025-4f666a1972db\",\"type\":\"Line\"},{\"attributes\":{\"callback\":null,\"data\":{\"x\":{\"__ndarray__\":\"cm1sTMT3VEDEyvjosEJHQOKI6DjzCUNArgQWV9awPkB9Lm8XG3M4QEz+Qv6iYzNA7eV8HaPLLkCX1QHyTpMoQFBmYSYetiNAUB04GtGpH0AmFyVE5j8ZQJca9QPGqBNALJP+OOHHDEBNxaf7QF8AQKtislomWuw/cW2dcO6A9T/uJJvfPu0EQIaQLTI/JQ1AxGiII+PmEkCJvfVeuCsYQD6ZBhGbHB9AXQw69DTYJEAsubcwKucqQNuT9D5OmipAJyi3szEJJUBlNebh5WkgQDDcPHBr2xlArtlANXuQFEBdJadFHckQQI2Avh0ZsQtAjYiwt1rsBUCL0SDoVBgAQK6C0nEEjvc/CggLSme58T9sXU2orFPnP0v0JYz9Gdg/vT38vxYczD9nBQTe6kHHP1IhkEXJwKo/8OZnhCVAub+xtVgCpmqzP6DUpY6g0+k/PKK3T1h4+D8RTDjQc1EAQG/dAQs7TwJAQt2eHpPLAEBWEh074x//PyCap9ZSGf4/rEzaTySm/T+7aXhHRmr9P688KeqeNP0/ruZ4EemD/D8olrZcn9T7P0+vNc9hW/s/i9VVL+4P+z+0NzC24uz6P8731Kza8vo/xFf4SHzq+z+gYyHpvHb8P68ROkiFevw/BAjYdCga/D8AUp8VbW77P3JrF/nKmvo/qCQeGfq++T/dplwHJfn4P2G4p+Uva/g/OzZ0RqMZ+D8dmn/iar73P/OuA7Ka8PY/gaaeQHGn9T9hkyjAH1L0P3aZGhdAU/M/n8VP/g7P8j+90HxHNvfyPwhNBtgrqvk/\",\"dtype\":\"float64\",\"shape\":[75]},\"y\":{\"__ndarray__\":\"GhExyth1ND/Sv8nbtpRIP2vylNV0PVE/aTum7souWD/At0SJ8fVgPw3Iuahxymc/MSNhhJWvcD/bTfBN02d3P2zb5nxnaoA/CD5h5MAGhz8NmeH1TyaQP+zrCsc9p5Y/LbKd76fGnz/bLW5ISEmmPww9YvTcQq8/JV2OstnstT8Er5Y7M8G+P0c+r3jqkcU/5h99k6ZBzj88bCIzFzjVP4enV8oyxN0//yH99nXg5D8qOpLLf0jtP5kqGJXUifQ/c9cS8kHP/D+/DpwzojQEQIEmwoanVwxA4lgXt9HgE0BSSZ2AJuIbQAMJih9jjiNA5q4l5INuK0AwTKYKRj0zQNv5fmq8/DpAaCJseHrtQkB/+zpwzoxKQM3MzMzMeFJAZmZmZmZqWEAAAAAAAFxeQM3MzMzMJmJAmpmZmZkfZUBmZmZmZhhoQDMzMzMzEWtAAAAAAAAKbkBmZmZmZoFwQM3MzMzM/XFAMzMzMzN6c0CamZmZmfZ0QAAAAAAAc3ZAZmZmZmbvd0DNzMzMzGt5QDMzMzMz6HpAmpmZmZlkfEAAAAAAAOF9QGZmZmZmXX9AZmZmZuZsgECamZmZGSuBQM3MzMxM6YFAAAAAAICngkAzMzMzs2WDQGZmZmbmI4RAmpmZmRnihEDNzMzMTKCFQAAAAACAXoZAMzMzM7Mch0BmZmZm5tqHQJqZmZkZmYhAzczMzExXiUAAAAAAgBWKQDMzMzOz04pAZmZmZuaRi0CamZmZGVCMQM3MzMxMDo1AAAAAAIDMjUAzMzMzs4qOQGZmZmbmSI9A\",\"dtype\":\"float64\",\"shape\":[75]}},\"selected\":{\"id\":\"237c4f31-9139-4af0-8170-f3e0204b92f8\",\"type\":\"Selection\"},\"selection_policy\":{\"id\":\"ceb4abee-1619-4a70-85f5-66ba6241d84b\",\"type\":\"UnionRenderers\"}},\"id\":\"b823928f-2962-4ca6-8174-61de4c4bb27b\",\"type\":\"ColumnDataSource\"},{\"attributes\":{\"items\":[{\"id\":\"929c79aa-bc75-47b8-a634-8205b50caf7e\",\"type\":\"LegendItem\"},{\"id\":\"0b382ac9-a1c0-49b4-9c96-c395eee7eff9\",\"type\":\"LegendItem\"},{\"id\":\"e869e110-49b5-49d3-9fdb-ece36f9aeab9\",\"type\":\"LegendItem\"}],\"label_text_font_size\":{\"value\":\"8pt\"},\"location\":\"top_center\",\"orientation\":\"horizontal\",\"plot\":{\"id\":\"60ddfeb0-c427-4fb4-8948-abe4930c8dfd\",\"subtype\":\"Figure\",\"type\":\"Plot\"}},\"id\":\"2bbfec63-fb1d-4fd9-b749-f3cc56789e26\",\"type\":\"Legend\"},{\"attributes\":{\"source\":{\"id\":\"b7367801-6937-4ed5-89b5-1474f7a9f99d\",\"type\":\"ColumnDataSource\"}},\"id\":\"18194276-3d81-4544-bd03-c83de9089def\",\"type\":\"CDSView\"},{\"attributes\":{},\"id\":\"ceb4abee-1619-4a70-85f5-66ba6241d84b\",\"type\":\"UnionRenderers\"},{\"attributes\":{\"above\":[{\"id\":\"db9612cc-46ac-468b-83de-5d17fdc00793\",\"type\":\"Legend\"}],\"below\":[{\"id\":\"e9faf96e-7d12-481b-a678-5e9ea488aa3d\",\"type\":\"LinearAxis\"}],\"left\":[{\"id\":\"bd768731-64f5-49b1-9013-b011b4b271ff\",\"type\":\"LogAxis\"}],\"plot_width\":300,\"renderers\":[{\"id\":\"e9faf96e-7d12-481b-a678-5e9ea488aa3d\",\"type\":\"LinearAxis\"},{\"id\":\"cdf9ac50-1c9e-45fb-a30a-664093cd578a\",\"type\":\"Grid\"},{\"id\":\"bd768731-64f5-49b1-9013-b011b4b271ff\",\"type\":\"LogAxis\"},{\"id\":\"6f43fcc1-3d0b-4cc2-bfba-1dbcf5ca3cd7\",\"type\":\"Grid\"},{\"id\":\"1d7b1748-ec14-46d4-abb3-0ced650a6439\",\"type\":\"BoxAnnotation\"},{\"id\":\"f1fc2a8f-7257-4572-8918-6dc1f3209307\",\"type\":\"GlyphRenderer\"},{\"id\":\"912f6a4f-04ec-4a9e-8c15-64b2497dadcd\",\"type\":\"GlyphRenderer\"},{\"id\":\"4db70f00-82ad-4440-9378-3986db1384d3\",\"type\":\"GlyphRenderer\"},{\"id\":\"db9612cc-46ac-468b-83de-5d17fdc00793\",\"type\":\"Legend\"}],\"title\":{\"id\":\"4c085424-998c-487e-a05a-430453600fcb\",\"type\":\"Title\"},\"toolbar\":{\"id\":\"89c7cf4e-e52b-45fe-a5f9-cbf82b569a1c\",\"type\":\"Toolbar\"},\"toolbar_location\":null,\"x_range\":{\"id\":\"453366a5-f5b6-402d-9042-d12842102f06\",\"type\":\"Range1d\"},\"x_scale\":{\"id\":\"2d5fb524-ffb6-4de1-82b4-2a29a1917f3e\",\"type\":\"LinearScale\"},\"y_range\":{\"id\":\"206f1d10-03d3-46d8-aeda-af71dc60e1fc\",\"type\":\"Range1d\"},\"y_scale\":{\"id\":\"4c00d410-8355-474b-a8bf-e3c94a8064fc\",\"type\":\"LogScale\"}},\"id\":\"061be780-fc4e-4726-8629-383a2f5de9f8\",\"subtype\":\"Figure\",\"type\":\"Plot\"},{\"attributes\":{\"label\":{\"value\":\"CLIRAD (single-run)\"},\"renderers\":[{\"id\":\"84b5324f-530c-408a-8b1b-211fbee13038\",\"type\":\"GlyphRenderer\"}]},\"id\":\"16c9b8be-e2da-45cb-971c-d9b201751ab3\",\"type\":\"LegendItem\"},{\"attributes\":{},\"id\":\"89c6b87b-e55f-492d-9c41-1cb8d9627e9f\",\"type\":\"BasicTicker\"},{\"attributes\":{\"callback\":null,\"data\":{\"x\":{\"__ndarray__\":\"MXhf+wfXU0AZbvNjswdFQLQWsEQVdUFA5TlpnhT9QUB/x1dOYK05QImjxHmcEjZA9jYDSBB3L0AISPl4H6wqQBPuuwfAzyJAOcHprUZAIUB7WWpkesAXQJoT1Uq+ChVArO/8u0EXCkBgVNlshzgCQMeNQ+Nzu/I/POwv1Qzh+D9QxMRmcj8DQOrE7tC4mAxAQsLBRIlHEkAi4cPYoDEXQEeDpjRjzB1ASZ0GEfCuI0DVFj11sssnQOMiVKSMHyhAWRHvUxNoJEDo8cjD4g8gQLGGvR2NDRpAdpI3nV5oFECtyWH9Lp4QQIZQd9bvmwtAkshlnu1BBkBMysnQf1UAQHZJU/DYZ/c/HoEhV+G48T/rSm4vc/TmP3EgV4cD49g/xmy6+4w7zz+bEsjh3uDDPw5SRMRogKs/4GPKdPc1a78lazVXN1vCP/B84ODeUug/LOyxgXDV9z+/DBHyZAwAQAOIY+fy/QFAahF3XKCUAECV0GHvGsz+P+X4k4Nhvf0/RO/IqI98/T8rkW+v/zT9P59vGMDsAv0/zEX7plCY/D/E3siS8kj7P2yUMv+hDvs/RmrXDaYs+z+c9f5GCO36P58nVCbr7vo/Qus8hbcy/D+rD5hFMCf9P4t6dxofnPw/bRp4QYZ2/D/q8NNiN2b8P5YTVw9ESPw/l1Dy0X/K+j+WKih3ZdD5P2k8OYxHjvk/hceGh5N4+T8lpPahWSn5P6vJnePt4vY/UuhmxnXI9T8miFqdE+D0Pz7qfx5CR/Q/0khvq2US9D9LfVdHQGv0P9syeEmwYfg/\",\"dtype\":\"float64\",\"shape\":[75]},\"y\":{\"__ndarray__\":\"hLndy31yND/6fmq8dJNIP8n9DkWBPlE/aDum7souWD/b4a/JGvVgP9f34SAhymc/ZvM4DOavcD+z0M5pFmh3PxuC4zJuaoA/xjcUPlsHhz8uHAjJAiaQP9ieWRKgppY/oI7HDFTGnz+a5h2n6EimPzS6g9iZQq8/IuAQqtTstT9SSZ2AJsK+P4nS3uALk8U/ih9j7lpCzj+ASL99HTjVP4enV8oyxN0/ACL99nXg5D9fmEwVjErtPyUGgZVDi/Q/AiuHFtnO/D9OYhBYOTQEQPHSTWIQWAxA4XoUrkfhE0D8qfHSTeIbQMh2vp8ajyNArkfhehRuK0Bcj8L1KDwzQFyPwvUo/DpAPgrXo3DtQkDNzMzMzIxKQClcj8L1eFJAKVyPwvVoWECamZmZmVleQGZmZmZmJmJAAAAAAAAgZUCamZmZmRloQJqZmZmZEWtAmpmZmZkJbkCamZmZmYFwQGZmZmZm/nFAZmZmZmZ6c0BmZmZmZvZ0QDQzMzMzc3ZAAAAAAADwd0AAAAAAAGx5QAAAAAAA6HpAzMzMzMxkfEDMzMzMzOB9QM3MzMzMXH9AzczMzMxsgEAzMzMzMyuBQDMzMzMz6YFAMzMzMzOngkCamZmZmWWDQAAAAAAAJIRAAAAAAADihEAAAAAAAKCFQGZmZmZmXoZAzczMzMwch0DNzMzMzNqHQM3MzMzMmIhAMzMzMzNXiUCamZmZmRWKQAAAAAAA1IpAAAAAAACSi0AAAAAAAFCMQGZmZmZmDo1AzczMzMzMjUDNzMzMzIqOQM3MzMzMSI9A\",\"dtype\":\"float64\",\"shape\":[75]}},\"selected\":{\"id\":\"aedbefe7-4456-4825-b0e3-f27dcdcad33b\",\"type\":\"Selection\"},\"selection_policy\":{\"id\":\"6efd5b08-b285-4f67-a59c-c3bd2c865f8f\",\"type\":\"UnionRenderers\"}},\"id\":\"b9a5428f-cafe-4071-b7c3-0203688727f9\",\"type\":\"ColumnDataSource\"},{\"attributes\":{},\"id\":\"44c520ee-12fc-4399-9569-b072c2c5f845\",\"type\":\"HelpTool\"},{\"attributes\":{\"source\":{\"id\":\"bc5de432-3fb8-4f4a-a39c-324102146853\",\"type\":\"ColumnDataSource\"}},\"id\":\"24832af7-59ce-49e2-8842-925d2f5ce8aa\",\"type\":\"CDSView\"},{\"attributes\":{},\"id\":\"44598389-ea91-4594-b5db-f460c2557b55\",\"type\":\"SaveTool\"},{\"attributes\":{\"axis_label\":\"cooling rate [K/day]\",\"formatter\":{\"id\":\"285c264e-7eac-4356-a14d-02d1a251e956\",\"type\":\"BasicTickFormatter\"},\"plot\":{\"id\":\"3ac748cd-47af-46a7-ab2e-95695927568c\",\"subtype\":\"Figure\",\"type\":\"Plot\"},\"ticker\":{\"id\":\"61b69ccf-f5e3-4364-a700-6af14dcd5032\",\"type\":\"BasicTicker\"}},\"id\":\"92485c98-c953-4df6-bd67-de2947c055a5\",\"type\":\"LinearAxis\"},{\"attributes\":{\"label\":{\"value\":\"old CLIRAD (H2012)\"},\"renderers\":[{\"id\":\"699f779d-040a-420e-9e17-fcd970c30c2a\",\"type\":\"GlyphRenderer\"},{\"id\":\"b87dc5de-a6cd-4976-bd39-8ab2c2f1387f\",\"type\":\"GlyphRenderer\"}]},\"id\":\"e869e110-49b5-49d3-9fdb-ece36f9aeab9\",\"type\":\"LegendItem\"},{\"attributes\":{\"data_source\":{\"id\":\"bc5de432-3fb8-4f4a-a39c-324102146853\",\"type\":\"ColumnDataSource\"},\"glyph\":{\"id\":\"7307f4f3-5cfc-41a9-b9c8-7fdf447e29d0\",\"type\":\"Circle\"},\"hover_glyph\":null,\"muted_glyph\":null,\"nonselection_glyph\":{\"id\":\"f78d23e4-1d4c-4556-81e3-ab7abc7a4ae8\",\"type\":\"Circle\"},\"selection_glyph\":null,\"view\":{\"id\":\"24832af7-59ce-49e2-8842-925d2f5ce8aa\",\"type\":\"CDSView\"}},\"id\":\"f1fc2a8f-7257-4572-8918-6dc1f3209307\",\"type\":\"GlyphRenderer\"},{\"attributes\":{},\"id\":\"5b1079ff-ce51-45cf-bfed-006260c50ed2\",\"type\":\"LogScale\"},{\"attributes\":{\"fill_alpha\":{\"value\":0.7},\"fill_color\":{\"value\":\"#4daf4a\"},\"line_alpha\":{\"value\":0.7},\"line_color\":{\"value\":\"#4daf4a\"},\"x\":{\"field\":\"x\"},\"y\":{\"field\":\"y\"}},\"id\":\"a7fd504a-aa6e-4ea0-8433-7c7f2757a29d\",\"type\":\"Circle\"},{\"attributes\":{\"axis_label\":\"cooling rate [K/day]\",\"formatter\":{\"id\":\"f49840c3-5d1d-4258-ae2f-010bb401a204\",\"type\":\"BasicTickFormatter\"},\"plot\":{\"id\":\"60ddfeb0-c427-4fb4-8948-abe4930c8dfd\",\"subtype\":\"Figure\",\"type\":\"Plot\"},\"ticker\":{\"id\":\"fd0dad48-811f-4032-bc06-3525bc45fd5f\",\"type\":\"BasicTicker\"}},\"id\":\"b25f276e-b89b-4bc9-a1ba-2b3f6cd8bc90\",\"type\":\"LinearAxis\"},{\"attributes\":{\"source\":{\"id\":\"b823928f-2962-4ca6-8174-61de4c4bb27b\",\"type\":\"ColumnDataSource\"}},\"id\":\"7ee412d0-0422-4aeb-8157-b4d3cd9a446c\",\"type\":\"CDSView\"},{\"attributes\":{\"active_drag\":\"auto\",\"active_inspect\":\"auto\",\"active_scroll\":\"auto\",\"active_tap\":\"auto\",\"tools\":[{\"id\":\"9d0f4546-d580-4ea3-9343-20adacb6c1f5\",\"type\":\"PanTool\"},{\"id\":\"898c9ce5-7dfc-439a-923c-0705fd6cd8f5\",\"type\":\"WheelZoomTool\"},{\"id\":\"b8a8c735-227d-42db-b4cf-a2cec1184c42\",\"type\":\"BoxZoomTool\"},{\"id\":\"d0b8e6d0-9cd2-4340-b124-3e0a821e1f10\",\"type\":\"SaveTool\"},{\"id\":\"f6556d21-0829-42f3-9437-c31ff340d3e0\",\"type\":\"ResetTool\"},{\"id\":\"8cf3f567-1400-4ffd-bd85-7e41bf256b40\",\"type\":\"HelpTool\"}]},\"id\":\"721e7647-498b-448e-a9a7-4f74904b10a7\",\"type\":\"Toolbar\"},{\"attributes\":{\"bottom_units\":\"screen\",\"fill_alpha\":{\"value\":0.5},\"fill_color\":{\"value\":\"lightgrey\"},\"left_units\":\"screen\",\"level\":\"overlay\",\"line_alpha\":{\"value\":1.0},\"line_color\":{\"value\":\"black\"},\"line_dash\":[4,4],\"line_width\":{\"value\":2},\"plot\":null,\"render_mode\":\"css\",\"right_units\":\"screen\",\"top_units\":\"screen\"},\"id\":\"99fe48ad-359a-455b-bd83-7303c733a992\",\"type\":\"BoxAnnotation\"},{\"attributes\":{\"num_minor_ticks\":10},\"id\":\"c4e44fb7-933d-42b8-b5b4-515f3895d7b9\",\"type\":\"LogTicker\"},{\"attributes\":{},\"id\":\"8d7bcd96-96b3-47dd-8eba-2048136fdf94\",\"type\":\"PanTool\"},{\"attributes\":{\"label\":{\"value\":\"CRD\"},\"renderers\":[{\"id\":\"e5c22127-602d-4a5d-9fda-2f582605cb24\",\"type\":\"GlyphRenderer\"},{\"id\":\"d18dd1da-00ef-403e-989e-6c43690181cc\",\"type\":\"GlyphRenderer\"}]},\"id\":\"0b382ac9-a1c0-49b4-9c96-c395eee7eff9\",\"type\":\"LegendItem\"},{\"attributes\":{},\"id\":\"82af151d-1ac6-4e29-aed4-bf79ca74ced2\",\"type\":\"LinearScale\"},{\"attributes\":{\"callback\":null,\"end\":0.01,\"start\":1020},\"id\":\"0329d701-2a35-4d80-99db-dedab3675efc\",\"type\":\"Range1d\"},{\"attributes\":{\"data_source\":{\"id\":\"d7c400f4-7fc3-4910-8c0b-5ab675cc21a3\",\"type\":\"ColumnDataSource\"},\"glyph\":{\"id\":\"fbba73be-f5eb-4fee-8b6b-bd77cec52e1a\",\"type\":\"Line\"},\"hover_glyph\":null,\"muted_glyph\":null,\"nonselection_glyph\":{\"id\":\"1aa13a0e-00bb-4b44-b4f9-6578a23258f6\",\"type\":\"Line\"},\"selection_glyph\":null,\"view\":{\"id\":\"68429ed3-f898-4894-8c1d-bfc1ffb67d8b\",\"type\":\"CDSView\"}},\"id\":\"96c9a392-643d-4d69-a46f-cc85517414ee\",\"type\":\"GlyphRenderer\"},{\"attributes\":{},\"id\":\"f49840c3-5d1d-4258-ae2f-010bb401a204\",\"type\":\"BasicTickFormatter\"},{\"attributes\":{\"callback\":null,\"end\":13.587992271301857,\"start\":-0.33485573154785997},\"id\":\"9007f970-4abb-44b1-bdc7-119be8700c09\",\"type\":\"Range1d\"},{\"attributes\":{\"label\":{\"value\":\"old CLIRAD (H2012)\"},\"renderers\":[{\"id\":\"f383d31a-4491-45d7-8531-4b85ea3919e1\",\"type\":\"GlyphRenderer\"},{\"id\":\"96c9a392-643d-4d69-a46f-cc85517414ee\",\"type\":\"GlyphRenderer\"}]},\"id\":\"c4f73068-c1bd-4a60-8066-0425ffee8d1f\",\"type\":\"LegendItem\"},{\"attributes\":{\"plot\":{\"id\":\"061be780-fc4e-4726-8629-383a2f5de9f8\",\"subtype\":\"Figure\",\"type\":\"Plot\"},\"ticker\":{\"id\":\"89c6b87b-e55f-492d-9c41-1cb8d9627e9f\",\"type\":\"BasicTicker\"}},\"id\":\"cdf9ac50-1c9e-45fb-a30a-664093cd578a\",\"type\":\"Grid\"},{\"attributes\":{\"callback\":null,\"data\":{\"x\":{\"__ndarray__\":\"QW/ChKHYRUABfBHv8BdDQO7pX4+S40FAjlrTPAs/QEBi55KjU0A8QOVEIjtRPTdAAW6pHa7pMUBoDUjHy+UpQJPUAjnkGiJAkii6KF00GkDyfPLi2t0UQPkZqhKpthFAXgmBeRVNDUDo1yrq/pUDQBJCuTYK9vU/YoFqy5OO+j/mD7q8ijIFQB7JG9aeDgtAKZPg33XgEEB3e15vURcWQASfV5qt/R1A31afOw7VJEBkZ/sSPswqQPJ8sfjH+ylASXHMMLlOJECnFuR/okcgQKATN+gOZBtALtOaGrQFFkBYLwnonigRQH3MfkLg4AtAJbaM1c4ICEAqMLR+58sCQGn6INO6Bfo/9OD7FbZF8T+Hs4EjcHrnP564dUqD6Ns/JQfYEdIQzT9x/Lwc00XAP+SGDp6tAKO/xAoZ+sRjyb+ScdT6eNyDv/4NISJvwuc/0BNwzqJ+9z+OhxM/9RYAQGCVqWPPlwFApa4RsMkGAECakb3Sg0P+P/wSdfkQIv0/okwaebtq/D8NcsI81zv8PzS6YIBmV/w/t/rzZVDu+z9vHpSuI3P7PzxXiTLKB/s/+xEut0e9+j80CdGvY4f6P91Lpyhohfo/hq2DgXOb+z8jUdf2UHz8P+0LQT6D/vw/NxBjOnr9/D975RKvuF38PyqTiuWeRvs/G8nM6yIW+j8IPCAwnv/4P9UcYY9Qbfg/OqB8rKY8+D929obcuzf4P6/7j5gVtPc/VtnblNCk9j8Yh5Uy8nP1P2TvKkPTiPQ/Kaw4REER9D/JF0FfkkT0P3ZX+ULhOlbA\",\"dtype\":\"float64\",\"shape\":[75]},\"y\":{\"__ndarray__\":\"GhExyth1ND/Sv8nbtpRIP2vylNV0PVE/aTum7souWD/At0SJ8fVgPw3Iuahxymc/MSNhhJWvcD/bTfBN02d3P2zb5nxnaoA/CD5h5MAGhz8NmeH1TyaQP+zrCsc9p5Y/LbKd76fGnz/bLW5ISEmmPww9YvTcQq8/JV2OstnstT8Er5Y7M8G+P0c+r3jqkcU/5h99k6ZBzj88bCIzFzjVP4enV8oyxN0//yH99nXg5D8qOpLLf0jtP5kqGJXUifQ/c9cS8kHP/D+/DpwzojQEQIEmwoanVwxA4lgXt9HgE0BSSZ2AJuIbQAMJih9jjiNA5q4l5INuK0AwTKYKRj0zQNv5fmq8/DpAaCJseHrtQkB/+zpwzoxKQM3MzMzMeFJAZmZmZmZqWEAAAAAAAFxeQM3MzMzMJmJAmpmZmZkfZUBmZmZmZhhoQDMzMzMzEWtAAAAAAAAKbkBmZmZmZoFwQM3MzMzM/XFAMzMzMzN6c0CamZmZmfZ0QAAAAAAAc3ZAZmZmZmbvd0DNzMzMzGt5QDMzMzMz6HpAmpmZmZlkfEAAAAAAAOF9QGZmZmZmXX9AZmZmZuZsgECamZmZGSuBQM3MzMxM6YFAAAAAAICngkAzMzMzs2WDQGZmZmbmI4RAmpmZmRnihEDNzMzMTKCFQAAAAACAXoZAMzMzM7Mch0BmZmZm5tqHQJqZmZkZmYhAzczMzExXiUAAAAAAgBWKQDMzMzOz04pAZmZmZuaRi0CamZmZGVCMQM3MzMxMDo1AAAAAAIDMjUAzMzMzs4qOQGZmZmbmSI9A\",\"dtype\":\"float64\",\"shape\":[75]}},\"selected\":{\"id\":\"cf9c0549-f015-47d4-98a2-a6225e3ac3f9\",\"type\":\"Selection\"},\"selection_policy\":{\"id\":\"02872dd2-b8a7-4b84-b9ec-80307060d2f3\",\"type\":\"UnionRenderers\"}},\"id\":\"b7367801-6937-4ed5-89b5-1474f7a9f99d\",\"type\":\"ColumnDataSource\"},{\"attributes\":{\"fill_alpha\":{\"value\":0.1},\"fill_color\":{\"value\":\"#1f77b4\"},\"line_alpha\":{\"value\":0.1},\"line_color\":{\"value\":\"#1f77b4\"},\"x\":{\"field\":\"x\"},\"y\":{\"field\":\"y\"}},\"id\":\"d82146f5-0172-4e75-a470-20d6773e9789\",\"type\":\"Circle\"},{\"attributes\":{},\"id\":\"5dd6d3c6-5013-4952-b268-260d7a5aed94\",\"type\":\"WheelZoomTool\"},{\"attributes\":{\"callback\":null,\"data\":{\"x\":{\"__ndarray__\":\"cm1sTMT3VEDEyvjosEJHQOKI6DjzCUNArgQWV9awPkB9Lm8XG3M4QEz+Qv6iYzNA7eV8HaPLLkCX1QHyTpMoQFBmYSYetiNAUB04GtGpH0AmFyVE5j8ZQJca9QPGqBNALJP+OOHHDEBNxaf7QF8AQKtislomWuw/cW2dcO6A9T/uJJvfPu0EQIaQLTI/JQ1AxGiII+PmEkCJvfVeuCsYQD6ZBhGbHB9AXQw69DTYJEAsubcwKucqQNuT9D5OmipAJyi3szEJJUBlNebh5WkgQDDcPHBr2xlArtlANXuQFEBdJadFHckQQI2Avh0ZsQtAjYiwt1rsBUCL0SDoVBgAQK6C0nEEjvc/CggLSme58T9sXU2orFPnP0v0JYz9Gdg/vT38vxYczD9nBQTe6kHHP1IhkEXJwKo/8OZnhCVAub+xtVgCpmqzP6DUpY6g0+k/PKK3T1h4+D8RTDjQc1EAQG/dAQs7TwJAQt2eHpPLAEBWEh074x//PyCap9ZSGf4/rEzaTySm/T+7aXhHRmr9P688KeqeNP0/ruZ4EemD/D8olrZcn9T7P0+vNc9hW/s/i9VVL+4P+z+0NzC24uz6P8731Kza8vo/xFf4SHzq+z+gYyHpvHb8P68ROkiFevw/BAjYdCga/D8AUp8VbW77P3JrF/nKmvo/qCQeGfq++T/dplwHJfn4P2G4p+Uva/g/OzZ0RqMZ+D8dmn/iar73P/OuA7Ka8PY/gaaeQHGn9T9hkyjAH1L0P3aZGhdAU/M/n8VP/g7P8j+90HxHNvfyPwhNBtgrqvk/\",\"dtype\":\"float64\",\"shape\":[75]},\"y\":{\"__ndarray__\":\"GhExyth1ND/Sv8nbtpRIP2vylNV0PVE/aTum7souWD/At0SJ8fVgPw3Iuahxymc/MSNhhJWvcD/bTfBN02d3P2zb5nxnaoA/CD5h5MAGhz8NmeH1TyaQP+zrCsc9p5Y/LbKd76fGnz/bLW5ISEmmPww9YvTcQq8/JV2OstnstT8Er5Y7M8G+P0c+r3jqkcU/5h99k6ZBzj88bCIzFzjVP4enV8oyxN0//yH99nXg5D8qOpLLf0jtP5kqGJXUifQ/c9cS8kHP/D+/DpwzojQEQIEmwoanVwxA4lgXt9HgE0BSSZ2AJuIbQAMJih9jjiNA5q4l5INuK0AwTKYKRj0zQNv5fmq8/DpAaCJseHrtQkB/+zpwzoxKQM3MzMzMeFJAZmZmZmZqWEAAAAAAAFxeQM3MzMzMJmJAmpmZmZkfZUBmZmZmZhhoQDMzMzMzEWtAAAAAAAAKbkBmZmZmZoFwQM3MzMzM/XFAMzMzMzN6c0CamZmZmfZ0QAAAAAAAc3ZAZmZmZmbvd0DNzMzMzGt5QDMzMzMz6HpAmpmZmZlkfEAAAAAAAOF9QGZmZmZmXX9AZmZmZuZsgECamZmZGSuBQM3MzMxM6YFAAAAAAICngkAzMzMzs2WDQGZmZmbmI4RAmpmZmRnihEDNzMzMTKCFQAAAAACAXoZAMzMzM7Mch0BmZmZm5tqHQJqZmZkZmYhAzczMzExXiUAAAAAAgBWKQDMzMzOz04pAZmZmZuaRi0CamZmZGVCMQM3MzMxMDo1AAAAAAIDMjUAzMzMzs4qOQGZmZmbmSI9A\",\"dtype\":\"float64\",\"shape\":[75]}},\"selected\":{\"id\":\"54bd26e0-a66c-43f9-bf6f-4ea92899b668\",\"type\":\"Selection\"},\"selection_policy\":{\"id\":\"a4cd57d6-c5a6-42ef-9440-527c37ec8710\",\"type\":\"UnionRenderers\"}},\"id\":\"22f45c58-e774-4439-b20e-5cd75318ef1d\",\"type\":\"ColumnDataSource\"},{\"attributes\":{\"line_alpha\":0.6,\"line_color\":\"#377eb8\",\"line_dash\":[6],\"line_width\":5,\"x\":{\"field\":\"x\"},\"y\":{\"field\":\"y\"}},\"id\":\"78760cd0-fd58-40b6-8d82-a8595339b667\",\"type\":\"Line\"},{\"attributes\":{\"plot\":{\"id\":\"60ddfeb0-c427-4fb4-8948-abe4930c8dfd\",\"subtype\":\"Figure\",\"type\":\"Plot\"},\"ticker\":{\"id\":\"fd0dad48-811f-4032-bc06-3525bc45fd5f\",\"type\":\"BasicTicker\"}},\"id\":\"feb4bfbe-1ca2-4927-9043-ecfbcf9d6765\",\"type\":\"Grid\"},{\"attributes\":{\"line_alpha\":0.6,\"line_color\":\"#377eb8\",\"line_dash\":[6],\"line_width\":5,\"x\":{\"field\":\"x\"},\"y\":{\"field\":\"y\"}},\"id\":\"b6f1f8f8-3bff-4d58-be03-dba84f8a5c6a\",\"type\":\"Line\"},{\"attributes\":{},\"id\":\"d0b8e6d0-9cd2-4340-b124-3e0a821e1f10\",\"type\":\"SaveTool\"},{\"attributes\":{\"line_color\":\"#4daf4a\",\"line_width\":1.5,\"x\":{\"field\":\"x\"},\"y\":{\"field\":\"y\"}},\"id\":\"562de333-cc5b-4b03-a0e5-0ab4e589290b\",\"type\":\"Line\"},{\"attributes\":{\"line_alpha\":0.1,\"line_color\":\"#1f77b4\",\"line_dash\":[6],\"line_width\":5,\"x\":{\"field\":\"x\"},\"y\":{\"field\":\"y\"}},\"id\":\"21278364-0d12-4074-9eba-574700cd12cf\",\"type\":\"Line\"},{\"attributes\":{},\"id\":\"cf9c0549-f015-47d4-98a2-a6225e3ac3f9\",\"type\":\"Selection\"},{\"attributes\":{},\"id\":\"6efd5b08-b285-4f67-a59c-c3bd2c865f8f\",\"type\":\"UnionRenderers\"},{\"attributes\":{},\"id\":\"9d0f4546-d580-4ea3-9343-20adacb6c1f5\",\"type\":\"PanTool\"},{\"attributes\":{\"dimension\":1,\"plot\":{\"id\":\"3ac748cd-47af-46a7-ab2e-95695927568c\",\"subtype\":\"Figure\",\"type\":\"Plot\"},\"ticker\":{\"id\":\"352a7865-82f4-464f-aee9-a24c1bdfa73b\",\"type\":\"BasicTicker\"}},\"id\":\"91d79392-66bb-4e80-85eb-516054f8afd7\",\"type\":\"Grid\"},{\"attributes\":{\"fill_alpha\":{\"value\":0.1},\"fill_color\":{\"value\":\"#1f77b4\"},\"line_alpha\":{\"value\":0.1},\"line_color\":{\"value\":\"#1f77b4\"},\"x\":{\"field\":\"x\"},\"y\":{\"field\":\"y\"}},\"id\":\"72d90e3e-e52a-4dca-86e0-2da03ea45b7a\",\"type\":\"Square\"},{\"attributes\":{\"source\":{\"id\":\"d7c400f4-7fc3-4910-8c0b-5ab675cc21a3\",\"type\":\"ColumnDataSource\"}},\"id\":\"68429ed3-f898-4894-8c1d-bfc1ffb67d8b\",\"type\":\"CDSView\"},{\"attributes\":{\"source\":{\"id\":\"b9a5428f-cafe-4071-b7c3-0203688727f9\",\"type\":\"ColumnDataSource\"}},\"id\":\"397ccca3-76a7-4990-ba12-84d3251ce12c\",\"type\":\"CDSView\"},{\"attributes\":{\"line_alpha\":0.5,\"line_color\":\"#984ea3\",\"line_width\":1.5,\"x\":{\"field\":\"x\"},\"y\":{\"field\":\"y\"}},\"id\":\"fbba73be-f5eb-4fee-8b6b-bd77cec52e1a\",\"type\":\"Line\"},{\"attributes\":{},\"id\":\"fd0dad48-811f-4032-bc06-3525bc45fd5f\",\"type\":\"BasicTicker\"},{\"attributes\":{},\"id\":\"23996fca-7a0f-4368-96a5-f96f2d3f04f4\",\"type\":\"WheelZoomTool\"},{\"attributes\":{\"source\":{\"id\":\"959af437-db52-4486-98ea-752e5b717688\",\"type\":\"ColumnDataSource\"}},\"id\":\"e1bad121-2db4-40cf-9eec-c5c61a2e3e4b\",\"type\":\"CDSView\"},{\"attributes\":{\"data_source\":{\"id\":\"959af437-db52-4486-98ea-752e5b717688\",\"type\":\"ColumnDataSource\"},\"glyph\":{\"id\":\"cd7f9df6-946e-49c9-9f5d-8bfe2b9c5a49\",\"type\":\"Line\"},\"hover_glyph\":null,\"muted_glyph\":null,\"nonselection_glyph\":{\"id\":\"fd5c4d88-3822-4aa1-a025-4f666a1972db\",\"type\":\"Line\"},\"selection_glyph\":null,\"view\":{\"id\":\"e1bad121-2db4-40cf-9eec-c5c61a2e3e4b\",\"type\":\"CDSView\"}},\"id\":\"b87dc5de-a6cd-4976-bd39-8ab2c2f1387f\",\"type\":\"GlyphRenderer\"},{\"attributes\":{\"bottom_units\":\"screen\",\"fill_alpha\":{\"value\":0.5},\"fill_color\":{\"value\":\"lightgrey\"},\"left_units\":\"screen\",\"level\":\"overlay\",\"line_alpha\":{\"value\":1.0},\"line_color\":{\"value\":\"black\"},\"line_dash\":[4,4],\"line_width\":{\"value\":2},\"plot\":null,\"render_mode\":\"css\",\"right_units\":\"screen\",\"top_units\":\"screen\"},\"id\":\"3d95c08c-dca2-478d-85b0-43502ae120b7\",\"type\":\"BoxAnnotation\"}],\"root_ids\":[\"8941ef6a-a0bd-49b2-98b2-2f9feeeb3855\"]},\"title\":\"Bokeh Application\",\"version\":\"0.12.16\"}};\n",
       "  var render_items = [{\"docid\":\"8d6283b3-efa7-4c9a-b8f1-ccc2eecf5ad5\",\"elementid\":\"90f3612d-cc3a-4ce0-b867-fda2ccce0659\",\"modelid\":\"8941ef6a-a0bd-49b2-98b2-2f9feeeb3855\"}];\n",
       "  root.Bokeh.embed.embed_items_notebook(docs_json, render_items);\n",
       "\n",
       "  }\n",
       "  if (root.Bokeh !== undefined) {\n",
       "    embed_document(root);\n",
       "  } else {\n",
       "    var attempts = 0;\n",
       "    var timer = setInterval(function(root) {\n",
       "      if (root.Bokeh !== undefined) {\n",
       "        embed_document(root);\n",
       "        clearInterval(timer);\n",
       "      }\n",
       "      attempts++;\n",
       "      if (attempts > 100) {\n",
       "        console.log(\"Bokeh: ERROR: Unable to run BokehJS code because BokehJS library is missing\")\n",
       "        clearInterval(timer);\n",
       "      }\n",
       "    }, 10, root)\n",
       "  }\n",
       "})(window);"
      ],
      "application/vnd.bokehjs_exec.v0+json": ""
     },
     "metadata": {
      "application/vnd.bokehjs_exec.v0+json": {
       "id": "8941ef6a-a0bd-49b2-98b2-2f9feeeb3855"
      }
     },
     "output_type": "display_data"
    },
    {
     "data": {
      "text/markdown": [
       "*FIGURE.* Cooling rates & difference."
      ],
      "text/plain": [
       "<IPython.core.display.Markdown object>"
      ]
     },
     "metadata": {},
     "output_type": "display_data"
    },
    {
     "data": {
      "text/html": [
       "<a id=\"Fluxes._mls.\"></a>"
      ],
      "text/plain": [
       "<IPython.core.display.HTML object>"
      ]
     },
     "metadata": {},
     "output_type": "display_data"
    },
    {
     "data": {
      "text/markdown": [
       "# Fluxes. mls."
      ],
      "text/plain": [
       "<IPython.core.display.Markdown object>"
      ]
     },
     "metadata": {},
     "output_type": "display_data"
    },
    {
     "data": {
      "text/html": [
       "\n",
       "<div class=\"bk-root\">\n",
       "    <div class=\"bk-plotdiv\" id=\"875475ec-81d0-4bce-985a-a7645e410cd0\"></div>\n",
       "</div>"
      ]
     },
     "metadata": {},
     "output_type": "display_data"
    },
    {
     "data": {
      "application/javascript": [
       "(function(root) {\n",
       "  function embed_document(root) {\n",
       "    \n",
       "  var docs_json = {\"b3560d9f-6f3c-4205-ada9-3ee82d0e6c21\":{\"roots\":{\"references\":[{\"attributes\":{\"data_source\":{\"id\":\"a5144ac5-fa0e-4e5e-a7c4-dae197badf2f\",\"type\":\"ColumnDataSource\"},\"glyph\":{\"id\":\"390f852c-a91a-41da-b966-9a5980e025fb\",\"type\":\"VBar\"},\"hover_glyph\":null,\"muted_glyph\":null,\"nonselection_glyph\":{\"id\":\"ecb323a3-120e-4319-9bae-6236889912d4\",\"type\":\"VBar\"},\"selection_glyph\":null,\"view\":{\"id\":\"aac2bbac-6345-4c07-ad02-c1fd9ea56588\",\"type\":\"CDSView\"}},\"id\":\"f7c9742a-0086-428c-8608-a4694a762c53\",\"type\":\"GlyphRenderer\"},{\"attributes\":{},\"id\":\"84aaa135-feeb-4a95-9a0f-94a5c58e4249\",\"type\":\"SaveTool\"},{\"attributes\":{\"children\":[{\"id\":\"b09a1c38-3e2e-4a01-a765-4174f683d046\",\"type\":\"ToolbarBox\"},{\"id\":\"2c8f6c97-a495-4ec6-a47a-37382096d23a\",\"type\":\"Column\"}]},\"id\":\"0bfec56e-fa3d-482a-b943-66426b7d3f11\",\"type\":\"Column\"},{\"attributes\":{\"callback\":null},\"id\":\"19c9d37e-c6bb-482c-a0d8-f7728f063110\",\"type\":\"DataRange1d\"},{\"attributes\":{\"plot\":null,\"text\":\"TOA flux. CLIRAD (single-run) - CRD.\"},\"id\":\"7d652f09-1ab0-4c7e-89ae-1e2c03ccba54\",\"type\":\"Title\"},{\"attributes\":{\"callback\":null},\"id\":\"0963992d-6150-46df-a6a2-f3f3d0081fab\",\"type\":\"DataRange1d\"},{\"attributes\":{\"axis_label\":\"spectral band\",\"formatter\":{\"id\":\"f2623eb2-5b11-48f4-99a2-428ae6b226b0\",\"type\":\"CategoricalTickFormatter\"},\"plot\":{\"id\":\"91d6ae6e-8da3-49da-8da4-0c81cbab3c87\",\"subtype\":\"Figure\",\"type\":\"Plot\"},\"ticker\":{\"id\":\"db8a6e22-6270-49c5-a237-d0ec6610addc\",\"type\":\"CategoricalTicker\"}},\"id\":\"c7311357-b747-4292-8716-f0423cc19a5e\",\"type\":\"CategoricalAxis\"},{\"attributes\":{\"dimension\":1,\"plot\":{\"id\":\"12c562ff-77ad-42db-b118-a2b8a754c1e0\",\"subtype\":\"Figure\",\"type\":\"Plot\"},\"ticker\":{\"id\":\"0433adff-af8a-4172-ad92-97183b1f7bbe\",\"type\":\"BasicTicker\"}},\"id\":\"4fc085da-fb2a-4ec0-a0f1-35f1babd4f39\",\"type\":\"Grid\"},{\"attributes\":{},\"id\":\"c401e175-ba56-4c08-8090-646c3acee517\",\"type\":\"BasicTicker\"},{\"attributes\":{\"axis_label\":\"flux (W m-2)\",\"formatter\":{\"id\":\"3689c746-6845-460c-9d3c-503dc96af56a\",\"type\":\"BasicTickFormatter\"},\"plot\":{\"id\":\"91d6ae6e-8da3-49da-8da4-0c81cbab3c87\",\"subtype\":\"Figure\",\"type\":\"Plot\"},\"ticker\":{\"id\":\"c401e175-ba56-4c08-8090-646c3acee517\",\"type\":\"BasicTicker\"}},\"id\":\"e1011a56-aae7-47e1-a236-ac1408e295a4\",\"type\":\"LinearAxis\"},{\"attributes\":{},\"id\":\"3b68f604-78ac-4d6e-9b05-0a987d64f540\",\"type\":\"UnionRenderers\"},{\"attributes\":{},\"id\":\"847eba50-98a7-449f-8257-f0a946852ba9\",\"type\":\"LinearScale\"},{\"attributes\":{},\"id\":\"8bb25ab4-999d-418e-bbb9-f0d9e3aa0243\",\"type\":\"ResetTool\"},{\"attributes\":{\"plot\":{\"id\":\"12c562ff-77ad-42db-b118-a2b8a754c1e0\",\"subtype\":\"Figure\",\"type\":\"Plot\"},\"ticker\":{\"id\":\"a930f5b8-7eff-4407-b793-2d921e1d9e01\",\"type\":\"CategoricalTicker\"}},\"id\":\"296faf37-e389-48db-abbd-d98c79147cce\",\"type\":\"Grid\"},{\"attributes\":{\"fill_alpha\":{\"value\":0.1},\"fill_color\":{\"value\":\"#1f77b4\"},\"line_alpha\":{\"value\":0.1},\"line_color\":{\"value\":\"#1f77b4\"},\"top\":{\"field\":\"flux\"},\"width\":{\"value\":0.9},\"x\":{\"field\":\"band\"}},\"id\":\"ecb323a3-120e-4319-9bae-6236889912d4\",\"type\":\"VBar\"},{\"attributes\":{\"bottom_units\":\"screen\",\"fill_alpha\":{\"value\":0.5},\"fill_color\":{\"value\":\"lightgrey\"},\"left_units\":\"screen\",\"level\":\"overlay\",\"line_alpha\":{\"value\":1.0},\"line_color\":{\"value\":\"black\"},\"line_dash\":[4,4],\"line_width\":{\"value\":2},\"plot\":null,\"render_mode\":\"css\",\"right_units\":\"screen\",\"top_units\":\"screen\"},\"id\":\"648b1e02-6e2a-42b0-9fd2-ae34a8f99e02\",\"type\":\"BoxAnnotation\"},{\"attributes\":{},\"id\":\"a930f5b8-7eff-4407-b793-2d921e1d9e01\",\"type\":\"CategoricalTicker\"},{\"attributes\":{},\"id\":\"21198ec4-23b7-4ff8-8271-83ba0162e851\",\"type\":\"SaveTool\"},{\"attributes\":{\"overlay\":{\"id\":\"648b1e02-6e2a-42b0-9fd2-ae34a8f99e02\",\"type\":\"BoxAnnotation\"}},\"id\":\"14c0d2d4-68c3-496e-b5b6-9f25ccfedc0e\",\"type\":\"BoxZoomTool\"},{\"attributes\":{\"callback\":null,\"factors\":[\"1\",\"2\",\"3\",\"4\",\"5\",\"6\",\"7\",\"8\",\"9\",\"10\",\"11\"]},\"id\":\"15da98ac-756c-4b10-bc4f-826e330d2367\",\"type\":\"FactorRange\"},{\"attributes\":{},\"id\":\"c90d12ec-30d3-4e0c-9fe4-241426524c90\",\"type\":\"LinearScale\"},{\"attributes\":{},\"id\":\"6e058641-f2d1-4844-a392-f1707c12fbd9\",\"type\":\"Selection\"},{\"attributes\":{},\"id\":\"fac5f75e-eeee-438a-b189-bd6679c5557a\",\"type\":\"UnionRenderers\"},{\"attributes\":{},\"id\":\"c4ca1098-9dff-4440-bb82-07a1825f4b1e\",\"type\":\"HelpTool\"},{\"attributes\":{\"fill_alpha\":{\"value\":0.1},\"fill_color\":{\"value\":\"#1f77b4\"},\"line_alpha\":{\"value\":0.1},\"line_color\":{\"value\":\"#1f77b4\"},\"top\":{\"field\":\"flux\"},\"width\":{\"value\":0.9},\"x\":{\"field\":\"band\"}},\"id\":\"ab07f968-962a-4487-8b1e-d2026afbe0da\",\"type\":\"VBar\"},{\"attributes\":{\"children\":[{\"id\":\"12c562ff-77ad-42db-b118-a2b8a754c1e0\",\"subtype\":\"Figure\",\"type\":\"Plot\"},{\"id\":\"91d6ae6e-8da3-49da-8da4-0c81cbab3c87\",\"subtype\":\"Figure\",\"type\":\"Plot\"},{\"id\":\"b60b97d6-09f0-42fb-a2c5-627fb865a3d2\",\"subtype\":\"Figure\",\"type\":\"Plot\"}]},\"id\":\"dd285f77-7a2c-47af-87d5-4a2380b245d6\",\"type\":\"Row\"},{\"attributes\":{\"dimension\":1,\"plot\":{\"id\":\"b60b97d6-09f0-42fb-a2c5-627fb865a3d2\",\"subtype\":\"Figure\",\"type\":\"Plot\"},\"ticker\":{\"id\":\"fe94f3e7-5fd2-48ba-b0dd-f5c54e5000b0\",\"type\":\"BasicTicker\"}},\"id\":\"ed117489-0ca5-448f-b2f2-15d4b561657b\",\"type\":\"Grid\"},{\"attributes\":{},\"id\":\"35be9fd6-ea8f-42be-a485-66981bbb68fd\",\"type\":\"CategoricalTickFormatter\"},{\"attributes\":{},\"id\":\"e95e803c-56f1-41c4-89c1-9575ebb55ede\",\"type\":\"PanTool\"},{\"attributes\":{\"bottom_units\":\"screen\",\"fill_alpha\":{\"value\":0.5},\"fill_color\":{\"value\":\"lightgrey\"},\"left_units\":\"screen\",\"level\":\"overlay\",\"line_alpha\":{\"value\":1.0},\"line_color\":{\"value\":\"black\"},\"line_dash\":[4,4],\"line_width\":{\"value\":2},\"plot\":null,\"render_mode\":\"css\",\"right_units\":\"screen\",\"top_units\":\"screen\"},\"id\":\"649850b3-d71e-452f-8ec3-5fa9be5b5e74\",\"type\":\"BoxAnnotation\"},{\"attributes\":{},\"id\":\"0eb740d1-f205-4102-aefb-65cb4848ea88\",\"type\":\"WheelZoomTool\"},{\"attributes\":{\"fill_color\":{\"value\":\"#1f77b4\"},\"line_color\":{\"value\":\"#1f77b4\"},\"top\":{\"field\":\"flux\"},\"width\":{\"value\":0.9},\"x\":{\"field\":\"band\"}},\"id\":\"390f852c-a91a-41da-b966-9a5980e025fb\",\"type\":\"VBar\"},{\"attributes\":{\"data_source\":{\"id\":\"aa24580a-95b2-4752-bc94-fcf376021d6f\",\"type\":\"ColumnDataSource\"},\"glyph\":{\"id\":\"71e63576-2476-4be1-8d0b-95ac6da68220\",\"type\":\"VBar\"},\"hover_glyph\":null,\"muted_glyph\":null,\"nonselection_glyph\":{\"id\":\"f69bcc97-ac7f-434c-9b3d-33d17b4a15f2\",\"type\":\"VBar\"},\"selection_glyph\":null,\"view\":{\"id\":\"033e5630-6ea2-4d17-bde2-0d637a6808a7\",\"type\":\"CDSView\"}},\"id\":\"3ed132c0-ca2f-4fa0-be44-a4090cb35679\",\"type\":\"GlyphRenderer\"},{\"attributes\":{\"fill_color\":{\"value\":\"#1f77b4\"},\"line_color\":{\"value\":\"#1f77b4\"},\"top\":{\"field\":\"flux\"},\"width\":{\"value\":0.9},\"x\":{\"field\":\"band\"}},\"id\":\"60e1bcaf-3258-401d-b73c-59a094539384\",\"type\":\"VBar\"},{\"attributes\":{},\"id\":\"f44c43e6-d5c1-4abd-bb68-fae3a59a9495\",\"type\":\"PanTool\"},{\"attributes\":{},\"id\":\"4b58f236-ac50-4b16-bebc-693690ee4378\",\"type\":\"WheelZoomTool\"},{\"attributes\":{\"fill_alpha\":{\"value\":0.1},\"fill_color\":{\"value\":\"#1f77b4\"},\"line_alpha\":{\"value\":0.1},\"line_color\":{\"value\":\"#1f77b4\"},\"top\":{\"field\":\"flux\"},\"width\":{\"value\":0.9},\"x\":{\"field\":\"band\"}},\"id\":\"f69bcc97-ac7f-434c-9b3d-33d17b4a15f2\",\"type\":\"VBar\"},{\"attributes\":{\"fill_color\":{\"value\":\"#1f77b4\"},\"line_color\":{\"value\":\"#1f77b4\"},\"top\":{\"field\":\"flux\"},\"width\":{\"value\":0.9},\"x\":{\"field\":\"band\"}},\"id\":\"71e63576-2476-4be1-8d0b-95ac6da68220\",\"type\":\"VBar\"},{\"attributes\":{},\"id\":\"db215757-d036-46ce-aaf9-270c6f74f77f\",\"type\":\"CategoricalScale\"},{\"attributes\":{\"children\":[{\"id\":\"dd285f77-7a2c-47af-87d5-4a2380b245d6\",\"type\":\"Row\"}]},\"id\":\"2c8f6c97-a495-4ec6-a47a-37382096d23a\",\"type\":\"Column\"},{\"attributes\":{},\"id\":\"8fdbbdae-c169-4b8f-a46a-cf1c79cbec8f\",\"type\":\"BasicTickFormatter\"},{\"attributes\":{\"source\":{\"id\":\"a5144ac5-fa0e-4e5e-a7c4-dae197badf2f\",\"type\":\"ColumnDataSource\"}},\"id\":\"aac2bbac-6345-4c07-ad02-c1fd9ea56588\",\"type\":\"CDSView\"},{\"attributes\":{\"source\":{\"id\":\"aa24580a-95b2-4752-bc94-fcf376021d6f\",\"type\":\"ColumnDataSource\"}},\"id\":\"033e5630-6ea2-4d17-bde2-0d637a6808a7\",\"type\":\"CDSView\"},{\"attributes\":{\"source\":{\"id\":\"54442eaa-8897-4648-97e1-3698dab45ffc\",\"type\":\"ColumnDataSource\"}},\"id\":\"b52a1eda-42dd-4579-ad84-85da0de29951\",\"type\":\"CDSView\"},{\"attributes\":{},\"id\":\"db8a6e22-6270-49c5-a237-d0ec6610addc\",\"type\":\"CategoricalTicker\"},{\"attributes\":{\"data_source\":{\"id\":\"54442eaa-8897-4648-97e1-3698dab45ffc\",\"type\":\"ColumnDataSource\"},\"glyph\":{\"id\":\"60e1bcaf-3258-401d-b73c-59a094539384\",\"type\":\"VBar\"},\"hover_glyph\":null,\"muted_glyph\":null,\"nonselection_glyph\":{\"id\":\"ab07f968-962a-4487-8b1e-d2026afbe0da\",\"type\":\"VBar\"},\"selection_glyph\":null,\"view\":{\"id\":\"b52a1eda-42dd-4579-ad84-85da0de29951\",\"type\":\"CDSView\"}},\"id\":\"d2d8a9cf-90f4-4fd7-840f-afb7b2d8fdb3\",\"type\":\"GlyphRenderer\"},{\"attributes\":{\"active_drag\":\"auto\",\"active_inspect\":\"auto\",\"active_scroll\":\"auto\",\"active_tap\":\"auto\",\"tools\":[{\"id\":\"44378904-0ef2-43fe-a0e9-a5f26d2ad437\",\"type\":\"PanTool\"},{\"id\":\"33098009-6004-4910-8ae5-7d9d6d446f38\",\"type\":\"WheelZoomTool\"},{\"id\":\"6b7f94fb-ea4c-4bbe-90d9-a606d9d545ac\",\"type\":\"BoxZoomTool\"},{\"id\":\"700973a3-098d-46ba-85ac-a74e2b0f2dfd\",\"type\":\"SaveTool\"},{\"id\":\"ba8bf924-0b0e-4ead-bd09-15d662a6309d\",\"type\":\"ResetTool\"},{\"id\":\"74ce73f5-c2f6-4564-93f3-5ecc55e6e17d\",\"type\":\"HelpTool\"}]},\"id\":\"cd9f5154-adac-4f1f-9b40-74e939842ad4\",\"type\":\"Toolbar\"},{\"attributes\":{},\"id\":\"3689c746-6845-460c-9d3c-503dc96af56a\",\"type\":\"BasicTickFormatter\"},{\"attributes\":{\"toolbar\":{\"id\":\"c4401a0e-6afd-462e-bc0d-8ecb529e3018\",\"type\":\"ProxyToolbar\"},\"toolbar_location\":\"above\"},\"id\":\"b09a1c38-3e2e-4a01-a765-4174f683d046\",\"type\":\"ToolbarBox\"},{\"attributes\":{\"below\":[{\"id\":\"65b3919c-1583-4153-a9a3-03d72c92caa7\",\"type\":\"CategoricalAxis\"}],\"left\":[{\"id\":\"9386f5cb-3a2f-4267-9957-c44612797e05\",\"type\":\"LinearAxis\"}],\"plot_height\":300,\"plot_width\":300,\"renderers\":[{\"id\":\"65b3919c-1583-4153-a9a3-03d72c92caa7\",\"type\":\"CategoricalAxis\"},{\"id\":\"296faf37-e389-48db-abbd-d98c79147cce\",\"type\":\"Grid\"},{\"id\":\"9386f5cb-3a2f-4267-9957-c44612797e05\",\"type\":\"LinearAxis\"},{\"id\":\"4fc085da-fb2a-4ec0-a0f1-35f1babd4f39\",\"type\":\"Grid\"},{\"id\":\"87b71fd3-83c6-49d2-bcee-23f93b9863ec\",\"type\":\"BoxAnnotation\"},{\"id\":\"f7c9742a-0086-428c-8608-a4694a762c53\",\"type\":\"GlyphRenderer\"}],\"title\":{\"id\":\"7d652f09-1ab0-4c7e-89ae-1e2c03ccba54\",\"type\":\"Title\"},\"toolbar\":{\"id\":\"83a12592-7b7e-4d09-a80b-22e741469573\",\"type\":\"Toolbar\"},\"toolbar_location\":null,\"x_range\":{\"id\":\"15da98ac-756c-4b10-bc4f-826e330d2367\",\"type\":\"FactorRange\"},\"x_scale\":{\"id\":\"abfcc92f-886d-4022-864f-ca88587ae946\",\"type\":\"CategoricalScale\"},\"y_range\":{\"id\":\"0963992d-6150-46df-a6a2-f3f3d0081fab\",\"type\":\"DataRange1d\"},\"y_scale\":{\"id\":\"c90d12ec-30d3-4e0c-9fe4-241426524c90\",\"type\":\"LinearScale\"}},\"id\":\"12c562ff-77ad-42db-b118-a2b8a754c1e0\",\"subtype\":\"Figure\",\"type\":\"Plot\"},{\"attributes\":{},\"id\":\"1910e6ae-96d1-4853-bc36-3af99c5049b5\",\"type\":\"BasicTickFormatter\"},{\"attributes\":{\"plot\":null,\"text\":\"SFC flux. CLIRAD (single-run) - CRD.\"},\"id\":\"999fac3e-8915-42c7-b368-0f31714042c7\",\"type\":\"Title\"},{\"attributes\":{},\"id\":\"0433adff-af8a-4172-ad92-97183b1f7bbe\",\"type\":\"BasicTicker\"},{\"attributes\":{\"axis_label\":\"flux (W m-2)\",\"formatter\":{\"id\":\"8fdbbdae-c169-4b8f-a46a-cf1c79cbec8f\",\"type\":\"BasicTickFormatter\"},\"plot\":{\"id\":\"12c562ff-77ad-42db-b118-a2b8a754c1e0\",\"subtype\":\"Figure\",\"type\":\"Plot\"},\"ticker\":{\"id\":\"0433adff-af8a-4172-ad92-97183b1f7bbe\",\"type\":\"BasicTicker\"}},\"id\":\"9386f5cb-3a2f-4267-9957-c44612797e05\",\"type\":\"LinearAxis\"},{\"attributes\":{},\"id\":\"abfcc92f-886d-4022-864f-ca88587ae946\",\"type\":\"CategoricalScale\"},{\"attributes\":{\"below\":[{\"id\":\"c7311357-b747-4292-8716-f0423cc19a5e\",\"type\":\"CategoricalAxis\"}],\"left\":[{\"id\":\"e1011a56-aae7-47e1-a236-ac1408e295a4\",\"type\":\"LinearAxis\"}],\"plot_height\":300,\"plot_width\":300,\"renderers\":[{\"id\":\"c7311357-b747-4292-8716-f0423cc19a5e\",\"type\":\"CategoricalAxis\"},{\"id\":\"e7fcab5c-6d07-469d-a1fe-79bb91d14fad\",\"type\":\"Grid\"},{\"id\":\"e1011a56-aae7-47e1-a236-ac1408e295a4\",\"type\":\"LinearAxis\"},{\"id\":\"8e27d1aa-a903-4d25-961f-05546ffdc3db\",\"type\":\"Grid\"},{\"id\":\"649850b3-d71e-452f-8ec3-5fa9be5b5e74\",\"type\":\"BoxAnnotation\"},{\"id\":\"d2d8a9cf-90f4-4fd7-840f-afb7b2d8fdb3\",\"type\":\"GlyphRenderer\"}],\"title\":{\"id\":\"999fac3e-8915-42c7-b368-0f31714042c7\",\"type\":\"Title\"},\"toolbar\":{\"id\":\"cd9f5154-adac-4f1f-9b40-74e939842ad4\",\"type\":\"Toolbar\"},\"toolbar_location\":null,\"x_range\":{\"id\":\"45352244-f26e-4b4f-83ff-91a6e00c99bb\",\"type\":\"FactorRange\"},\"x_scale\":{\"id\":\"db215757-d036-46ce-aaf9-270c6f74f77f\",\"type\":\"CategoricalScale\"},\"y_range\":{\"id\":\"19c9d37e-c6bb-482c-a0d8-f7728f063110\",\"type\":\"DataRange1d\"},\"y_scale\":{\"id\":\"847eba50-98a7-449f-8257-f0a946852ba9\",\"type\":\"LinearScale\"}},\"id\":\"91d6ae6e-8da3-49da-8da4-0c81cbab3c87\",\"subtype\":\"Figure\",\"type\":\"Plot\"},{\"attributes\":{\"axis_label\":\"spectral band\",\"formatter\":{\"id\":\"35be9fd6-ea8f-42be-a485-66981bbb68fd\",\"type\":\"CategoricalTickFormatter\"},\"plot\":{\"id\":\"12c562ff-77ad-42db-b118-a2b8a754c1e0\",\"subtype\":\"Figure\",\"type\":\"Plot\"},\"ticker\":{\"id\":\"a930f5b8-7eff-4407-b793-2d921e1d9e01\",\"type\":\"CategoricalTicker\"}},\"id\":\"65b3919c-1583-4153-a9a3-03d72c92caa7\",\"type\":\"CategoricalAxis\"},{\"attributes\":{},\"id\":\"f2623eb2-5b11-48f4-99a2-428ae6b226b0\",\"type\":\"CategoricalTickFormatter\"},{\"attributes\":{\"callback\":null,\"factors\":[\"1\",\"2\",\"3\",\"4\",\"5\",\"6\",\"7\",\"8\",\"9\",\"10\",\"11\"]},\"id\":\"45352244-f26e-4b4f-83ff-91a6e00c99bb\",\"type\":\"FactorRange\"},{\"attributes\":{\"active_drag\":\"auto\",\"active_inspect\":\"auto\",\"active_scroll\":\"auto\",\"active_tap\":\"auto\",\"tools\":[{\"id\":\"e95e803c-56f1-41c4-89c1-9575ebb55ede\",\"type\":\"PanTool\"},{\"id\":\"4b58f236-ac50-4b16-bebc-693690ee4378\",\"type\":\"WheelZoomTool\"},{\"id\":\"ef0198b5-73fe-4148-8266-2ae28d571cb5\",\"type\":\"BoxZoomTool\"},{\"id\":\"84aaa135-feeb-4a95-9a0f-94a5c58e4249\",\"type\":\"SaveTool\"},{\"id\":\"bd6dac19-999b-4be5-8d33-9a3320c11631\",\"type\":\"ResetTool\"},{\"id\":\"ab4247c3-5a57-491a-97d8-7b3ea498afc4\",\"type\":\"HelpTool\"}]},\"id\":\"83a12592-7b7e-4d09-a80b-22e741469573\",\"type\":\"Toolbar\"},{\"attributes\":{\"tools\":[{\"id\":\"e95e803c-56f1-41c4-89c1-9575ebb55ede\",\"type\":\"PanTool\"},{\"id\":\"4b58f236-ac50-4b16-bebc-693690ee4378\",\"type\":\"WheelZoomTool\"},{\"id\":\"ef0198b5-73fe-4148-8266-2ae28d571cb5\",\"type\":\"BoxZoomTool\"},{\"id\":\"84aaa135-feeb-4a95-9a0f-94a5c58e4249\",\"type\":\"SaveTool\"},{\"id\":\"bd6dac19-999b-4be5-8d33-9a3320c11631\",\"type\":\"ResetTool\"},{\"id\":\"ab4247c3-5a57-491a-97d8-7b3ea498afc4\",\"type\":\"HelpTool\"},{\"id\":\"44378904-0ef2-43fe-a0e9-a5f26d2ad437\",\"type\":\"PanTool\"},{\"id\":\"33098009-6004-4910-8ae5-7d9d6d446f38\",\"type\":\"WheelZoomTool\"},{\"id\":\"6b7f94fb-ea4c-4bbe-90d9-a606d9d545ac\",\"type\":\"BoxZoomTool\"},{\"id\":\"700973a3-098d-46ba-85ac-a74e2b0f2dfd\",\"type\":\"SaveTool\"},{\"id\":\"ba8bf924-0b0e-4ead-bd09-15d662a6309d\",\"type\":\"ResetTool\"},{\"id\":\"74ce73f5-c2f6-4564-93f3-5ecc55e6e17d\",\"type\":\"HelpTool\"},{\"id\":\"f44c43e6-d5c1-4abd-bb68-fae3a59a9495\",\"type\":\"PanTool\"},{\"id\":\"0eb740d1-f205-4102-aefb-65cb4848ea88\",\"type\":\"WheelZoomTool\"},{\"id\":\"14c0d2d4-68c3-496e-b5b6-9f25ccfedc0e\",\"type\":\"BoxZoomTool\"},{\"id\":\"21198ec4-23b7-4ff8-8271-83ba0162e851\",\"type\":\"SaveTool\"},{\"id\":\"8bb25ab4-999d-418e-bbb9-f0d9e3aa0243\",\"type\":\"ResetTool\"},{\"id\":\"c4ca1098-9dff-4440-bb82-07a1825f4b1e\",\"type\":\"HelpTool\"}]},\"id\":\"c4401a0e-6afd-462e-bc0d-8ecb529e3018\",\"type\":\"ProxyToolbar\"},{\"attributes\":{},\"id\":\"78818b81-e5c6-4485-96b5-674ce37ea07f\",\"type\":\"Selection\"},{\"attributes\":{},\"id\":\"c347a40f-38ec-41f0-ab28-4c48469535a5\",\"type\":\"UnionRenderers\"},{\"attributes\":{\"overlay\":{\"id\":\"87b71fd3-83c6-49d2-bcee-23f93b9863ec\",\"type\":\"BoxAnnotation\"}},\"id\":\"ef0198b5-73fe-4148-8266-2ae28d571cb5\",\"type\":\"BoxZoomTool\"},{\"attributes\":{},\"id\":\"e988da59-7588-44ad-9e93-d3db48704d5b\",\"type\":\"Selection\"},{\"attributes\":{\"plot\":{\"id\":\"91d6ae6e-8da3-49da-8da4-0c81cbab3c87\",\"subtype\":\"Figure\",\"type\":\"Plot\"},\"ticker\":{\"id\":\"db8a6e22-6270-49c5-a237-d0ec6610addc\",\"type\":\"CategoricalTicker\"}},\"id\":\"e7fcab5c-6d07-469d-a1fe-79bb91d14fad\",\"type\":\"Grid\"},{\"attributes\":{\"bottom_units\":\"screen\",\"fill_alpha\":{\"value\":0.5},\"fill_color\":{\"value\":\"lightgrey\"},\"left_units\":\"screen\",\"level\":\"overlay\",\"line_alpha\":{\"value\":1.0},\"line_color\":{\"value\":\"black\"},\"line_dash\":[4,4],\"line_width\":{\"value\":2},\"plot\":null,\"render_mode\":\"css\",\"right_units\":\"screen\",\"top_units\":\"screen\"},\"id\":\"87b71fd3-83c6-49d2-bcee-23f93b9863ec\",\"type\":\"BoxAnnotation\"},{\"attributes\":{\"callback\":null,\"data\":{\"band\":[\"1\",\"2\",\"3\",\"4\",\"5\",\"6\",\"7\",\"8\",\"9\",\"10\",\"11\"],\"flux\":{\"__ndarray__\":\"AEILCRhdyD+AzEHQ0arSP0DMe5xpwtO/gGStodRe0z/ASgaAKm7QPwBwl/2607G/QKz+CMOA2D8ASdv4E5W5vwC2wvS9hpC/YNQ5UPHJwD9AvtXft8awPw==\",\"dtype\":\"float64\",\"shape\":[11]}},\"selected\":{\"id\":\"e988da59-7588-44ad-9e93-d3db48704d5b\",\"type\":\"Selection\"},\"selection_policy\":{\"id\":\"3b68f604-78ac-4d6e-9b05-0a987d64f540\",\"type\":\"UnionRenderers\"}},\"id\":\"a5144ac5-fa0e-4e5e-a7c4-dae197badf2f\",\"type\":\"ColumnDataSource\"},{\"attributes\":{\"dimension\":1,\"plot\":{\"id\":\"91d6ae6e-8da3-49da-8da4-0c81cbab3c87\",\"subtype\":\"Figure\",\"type\":\"Plot\"},\"ticker\":{\"id\":\"c401e175-ba56-4c08-8090-646c3acee517\",\"type\":\"BasicTicker\"}},\"id\":\"8e27d1aa-a903-4d25-961f-05546ffdc3db\",\"type\":\"Grid\"},{\"attributes\":{\"callback\":null,\"data\":{\"band\":[\"1\",\"2\",\"3\",\"4\",\"5\",\"6\",\"7\",\"8\",\"9\",\"10\",\"11\"],\"flux\":{\"__ndarray__\":\"AAAAAyUF9r4AgsR29wDYPwC4H/DAANO/ANyul6YIsD+Ajh6/t+nfPwB0ImabwLM/ALE8WXvplz9gN3gVCPHBv4A0KnCyDcY/AKBF71TAjT8AcGzRXW2APw==\",\"dtype\":\"float64\",\"shape\":[11]}},\"selected\":{\"id\":\"6e058641-f2d1-4844-a392-f1707c12fbd9\",\"type\":\"Selection\"},\"selection_policy\":{\"id\":\"fac5f75e-eeee-438a-b189-bd6679c5557a\",\"type\":\"UnionRenderers\"}},\"id\":\"54442eaa-8897-4648-97e1-3698dab45ffc\",\"type\":\"ColumnDataSource\"},{\"attributes\":{},\"id\":\"74ce73f5-c2f6-4564-93f3-5ecc55e6e17d\",\"type\":\"HelpTool\"},{\"attributes\":{\"callback\":null},\"id\":\"31e90a21-5bf9-44a7-953a-e2a803cbed45\",\"type\":\"DataRange1d\"},{\"attributes\":{},\"id\":\"ab4247c3-5a57-491a-97d8-7b3ea498afc4\",\"type\":\"HelpTool\"},{\"attributes\":{\"callback\":null,\"data\":{\"band\":[\"1\",\"2\",\"3\",\"4\",\"5\",\"6\",\"7\",\"8\",\"9\",\"10\",\"11\"],\"flux\":{\"__ndarray__\":\"a+Lbw/chTkA4JElrZxc5QDIPqh56bDFAnBaCPaLgOECoJyzxgPZNQOyUDtb/+TVANbdCWI09NkCaDwh0Jh0pQNTrYA7M4xtA7ru/zSSOEEAAZ1U6DnKtPw==\",\"dtype\":\"float64\",\"shape\":[11]}},\"selected\":{\"id\":\"78818b81-e5c6-4485-96b5-674ce37ea07f\",\"type\":\"Selection\"},\"selection_policy\":{\"id\":\"c347a40f-38ec-41f0-ab28-4c48469535a5\",\"type\":\"UnionRenderers\"}},\"id\":\"aa24580a-95b2-4752-bc94-fcf376021d6f\",\"type\":\"ColumnDataSource\"},{\"attributes\":{},\"id\":\"fe94f3e7-5fd2-48ba-b0dd-f5c54e5000b0\",\"type\":\"BasicTicker\"},{\"attributes\":{\"below\":[{\"id\":\"a47658ab-2e2b-43aa-b957-020d959f5c8e\",\"type\":\"CategoricalAxis\"}],\"left\":[{\"id\":\"9964b12e-d786-410f-8d97-cf82ead73025\",\"type\":\"LinearAxis\"}],\"plot_height\":300,\"plot_width\":300,\"renderers\":[{\"id\":\"a47658ab-2e2b-43aa-b957-020d959f5c8e\",\"type\":\"CategoricalAxis\"},{\"id\":\"83a2b9ea-a5f8-4835-8fe2-d5f0df0e8edb\",\"type\":\"Grid\"},{\"id\":\"9964b12e-d786-410f-8d97-cf82ead73025\",\"type\":\"LinearAxis\"},{\"id\":\"ed117489-0ca5-448f-b2f2-15d4b561657b\",\"type\":\"Grid\"},{\"id\":\"648b1e02-6e2a-42b0-9fd2-ae34a8f99e02\",\"type\":\"BoxAnnotation\"},{\"id\":\"3ed132c0-ca2f-4fa0-be44-a4090cb35679\",\"type\":\"GlyphRenderer\"}],\"title\":{\"id\":\"2f3d44fa-1283-41a4-a1db-f41859062a31\",\"type\":\"Title\"},\"toolbar\":{\"id\":\"2e88d6e7-9d00-4d03-8dbb-ecee1b335b21\",\"type\":\"Toolbar\"},\"toolbar_location\":null,\"x_range\":{\"id\":\"40d9d29b-ad88-4d4a-a388-7a044f6412b1\",\"type\":\"FactorRange\"},\"x_scale\":{\"id\":\"c24556d9-f2ba-4469-adb7-26e664c35932\",\"type\":\"CategoricalScale\"},\"y_range\":{\"id\":\"31e90a21-5bf9-44a7-953a-e2a803cbed45\",\"type\":\"DataRange1d\"},\"y_scale\":{\"id\":\"4e292502-d406-419c-8540-6cbcce98a2e5\",\"type\":\"LinearScale\"}},\"id\":\"b60b97d6-09f0-42fb-a2c5-627fb865a3d2\",\"subtype\":\"Figure\",\"type\":\"Plot\"},{\"attributes\":{\"active_drag\":\"auto\",\"active_inspect\":\"auto\",\"active_scroll\":\"auto\",\"active_tap\":\"auto\",\"tools\":[{\"id\":\"f44c43e6-d5c1-4abd-bb68-fae3a59a9495\",\"type\":\"PanTool\"},{\"id\":\"0eb740d1-f205-4102-aefb-65cb4848ea88\",\"type\":\"WheelZoomTool\"},{\"id\":\"14c0d2d4-68c3-496e-b5b6-9f25ccfedc0e\",\"type\":\"BoxZoomTool\"},{\"id\":\"21198ec4-23b7-4ff8-8271-83ba0162e851\",\"type\":\"SaveTool\"},{\"id\":\"8bb25ab4-999d-418e-bbb9-f0d9e3aa0243\",\"type\":\"ResetTool\"},{\"id\":\"c4ca1098-9dff-4440-bb82-07a1825f4b1e\",\"type\":\"HelpTool\"}]},\"id\":\"2e88d6e7-9d00-4d03-8dbb-ecee1b335b21\",\"type\":\"Toolbar\"},{\"attributes\":{},\"id\":\"4e292502-d406-419c-8540-6cbcce98a2e5\",\"type\":\"LinearScale\"},{\"attributes\":{},\"id\":\"bd6dac19-999b-4be5-8d33-9a3320c11631\",\"type\":\"ResetTool\"},{\"attributes\":{},\"id\":\"3d1cf08b-2f03-459b-84b2-054c3a24d158\",\"type\":\"CategoricalTickFormatter\"},{\"attributes\":{\"plot\":null,\"text\":\"Atmosphere heating. CLIRAD (single-run) - CRD.\"},\"id\":\"2f3d44fa-1283-41a4-a1db-f41859062a31\",\"type\":\"Title\"},{\"attributes\":{},\"id\":\"ba8bf924-0b0e-4ead-bd09-15d662a6309d\",\"type\":\"ResetTool\"},{\"attributes\":{},\"id\":\"c24556d9-f2ba-4469-adb7-26e664c35932\",\"type\":\"CategoricalScale\"},{\"attributes\":{},\"id\":\"700973a3-098d-46ba-85ac-a74e2b0f2dfd\",\"type\":\"SaveTool\"},{\"attributes\":{\"axis_label\":\"spectral band\",\"formatter\":{\"id\":\"3d1cf08b-2f03-459b-84b2-054c3a24d158\",\"type\":\"CategoricalTickFormatter\"},\"plot\":{\"id\":\"b60b97d6-09f0-42fb-a2c5-627fb865a3d2\",\"subtype\":\"Figure\",\"type\":\"Plot\"},\"ticker\":{\"id\":\"1805f483-f720-43a5-ae9a-f04174559e9e\",\"type\":\"CategoricalTicker\"}},\"id\":\"a47658ab-2e2b-43aa-b957-020d959f5c8e\",\"type\":\"CategoricalAxis\"},{\"attributes\":{\"callback\":null,\"factors\":[\"1\",\"2\",\"3\",\"4\",\"5\",\"6\",\"7\",\"8\",\"9\",\"10\",\"11\"]},\"id\":\"40d9d29b-ad88-4d4a-a388-7a044f6412b1\",\"type\":\"FactorRange\"},{\"attributes\":{},\"id\":\"1805f483-f720-43a5-ae9a-f04174559e9e\",\"type\":\"CategoricalTicker\"},{\"attributes\":{\"axis_label\":\"flux (W m-2)\",\"formatter\":{\"id\":\"1910e6ae-96d1-4853-bc36-3af99c5049b5\",\"type\":\"BasicTickFormatter\"},\"plot\":{\"id\":\"b60b97d6-09f0-42fb-a2c5-627fb865a3d2\",\"subtype\":\"Figure\",\"type\":\"Plot\"},\"ticker\":{\"id\":\"fe94f3e7-5fd2-48ba-b0dd-f5c54e5000b0\",\"type\":\"BasicTicker\"}},\"id\":\"9964b12e-d786-410f-8d97-cf82ead73025\",\"type\":\"LinearAxis\"},{\"attributes\":{},\"id\":\"44378904-0ef2-43fe-a0e9-a5f26d2ad437\",\"type\":\"PanTool\"},{\"attributes\":{\"plot\":{\"id\":\"b60b97d6-09f0-42fb-a2c5-627fb865a3d2\",\"subtype\":\"Figure\",\"type\":\"Plot\"},\"ticker\":{\"id\":\"1805f483-f720-43a5-ae9a-f04174559e9e\",\"type\":\"CategoricalTicker\"}},\"id\":\"83a2b9ea-a5f8-4835-8fe2-d5f0df0e8edb\",\"type\":\"Grid\"},{\"attributes\":{},\"id\":\"33098009-6004-4910-8ae5-7d9d6d446f38\",\"type\":\"WheelZoomTool\"},{\"attributes\":{\"overlay\":{\"id\":\"649850b3-d71e-452f-8ec3-5fa9be5b5e74\",\"type\":\"BoxAnnotation\"}},\"id\":\"6b7f94fb-ea4c-4bbe-90d9-a606d9d545ac\",\"type\":\"BoxZoomTool\"}],\"root_ids\":[\"0bfec56e-fa3d-482a-b943-66426b7d3f11\"]},\"title\":\"Bokeh Application\",\"version\":\"0.12.16\"}};\n",
       "  var render_items = [{\"docid\":\"b3560d9f-6f3c-4205-ada9-3ee82d0e6c21\",\"elementid\":\"875475ec-81d0-4bce-985a-a7645e410cd0\",\"modelid\":\"0bfec56e-fa3d-482a-b943-66426b7d3f11\"}];\n",
       "  root.Bokeh.embed.embed_items_notebook(docs_json, render_items);\n",
       "\n",
       "  }\n",
       "  if (root.Bokeh !== undefined) {\n",
       "    embed_document(root);\n",
       "  } else {\n",
       "    var attempts = 0;\n",
       "    var timer = setInterval(function(root) {\n",
       "      if (root.Bokeh !== undefined) {\n",
       "        embed_document(root);\n",
       "        clearInterval(timer);\n",
       "      }\n",
       "      attempts++;\n",
       "      if (attempts > 100) {\n",
       "        console.log(\"Bokeh: ERROR: Unable to run BokehJS code because BokehJS library is missing\")\n",
       "        clearInterval(timer);\n",
       "      }\n",
       "    }, 10, root)\n",
       "  }\n",
       "})(window);"
      ],
      "application/vnd.bokehjs_exec.v0+json": ""
     },
     "metadata": {
      "application/vnd.bokehjs_exec.v0+json": {
       "id": "0bfec56e-fa3d-482a-b943-66426b7d3f11"
      }
     },
     "output_type": "display_data"
    },
    {
     "data": {
      "text/markdown": [
       "*FIGURE.* Difference between CLIRAD and CRD in TOA, SFC and net atmosphere flux, in each spectral band."
      ],
      "text/plain": [
       "<IPython.core.display.Markdown object>"
      ]
     },
     "metadata": {},
     "output_type": "display_data"
    },
    {
     "data": {
      "text/html": [
       "<div>\n",
       "<style scoped>\n",
       "    .dataframe tbody tr th:only-of-type {\n",
       "        vertical-align: middle;\n",
       "    }\n",
       "\n",
       "    .dataframe tbody tr th {\n",
       "        vertical-align: top;\n",
       "    }\n",
       "\n",
       "    .dataframe thead th {\n",
       "        text-align: right;\n",
       "    }\n",
       "</style>\n",
       "<table border=\"1\" class=\"dataframe\">\n",
       "  <thead>\n",
       "    <tr style=\"text-align: right;\">\n",
       "      <th></th>\n",
       "      <th>OLR flux</th>\n",
       "      <th>SFC flux</th>\n",
       "      <th>ATM heating</th>\n",
       "    </tr>\n",
       "    <tr>\n",
       "      <th>Sum over bands</th>\n",
       "      <th></th>\n",
       "      <th></th>\n",
       "      <th></th>\n",
       "    </tr>\n",
       "  </thead>\n",
       "  <tbody>\n",
       "    <tr>\n",
       "      <th>old CLIRAD - CRD</th>\n",
       "      <td>0.14</td>\n",
       "      <td>2.01</td>\n",
       "      <td>-1.73</td>\n",
       "    </tr>\n",
       "    <tr>\n",
       "      <th>CLIRAD (single-run) - CRD</th>\n",
       "      <td>1.13</td>\n",
       "      <td>0.79</td>\n",
       "      <td>255.53</td>\n",
       "    </tr>\n",
       "    <tr>\n",
       "      <th>CRD</th>\n",
       "      <td>-290.39</td>\n",
       "      <td>308.14</td>\n",
       "      <td>-174.89</td>\n",
       "    </tr>\n",
       "  </tbody>\n",
       "</table>\n",
       "</div>"
      ],
      "text/plain": [
       "                           OLR flux  SFC flux  ATM heating\n",
       "Sum over bands                                            \n",
       "old CLIRAD - CRD               0.14      2.01        -1.73\n",
       "CLIRAD (single-run) - CRD      1.13      0.79       255.53\n",
       "CRD                         -290.39    308.14      -174.89"
      ]
     },
     "metadata": {},
     "output_type": "display_data"
    },
    {
     "data": {
      "text/markdown": [
       "*TABLE.* Difference between CLIRAD and CRD in TOA, SFC and net atmosphere flux, over all spectral bands. CRD's TOA, SFC and net atmosphere flux, over all spectral bands."
      ],
      "text/plain": [
       "<IPython.core.display.Markdown object>"
      ]
     },
     "metadata": {},
     "output_type": "display_data"
    },
    {
     "data": {
      "text/html": [
       "<a id=\"Cooling_rates._saw.\"></a>"
      ],
      "text/plain": [
       "<IPython.core.display.HTML object>"
      ]
     },
     "metadata": {},
     "output_type": "display_data"
    },
    {
     "data": {
      "text/markdown": [
       "# Cooling rates. saw."
      ],
      "text/plain": [
       "<IPython.core.display.Markdown object>"
      ]
     },
     "metadata": {},
     "output_type": "display_data"
    },
    {
     "data": {
      "text/html": [
       "\n",
       "<div class=\"bk-root\">\n",
       "    <div class=\"bk-plotdiv\" id=\"cfaacc90-bcaa-4d9f-8a19-4fcf5c64bded\"></div>\n",
       "</div>"
      ]
     },
     "metadata": {},
     "output_type": "display_data"
    },
    {
     "data": {
      "application/javascript": [
       "(function(root) {\n",
       "  function embed_document(root) {\n",
       "    \n",
       "  var docs_json = {\"29a5f99e-e8bf-4aea-a3e2-8c415dabaf3a\":{\"roots\":{\"references\":[{\"attributes\":{},\"id\":\"b67911b2-fb2f-4fe7-9ec6-c8a94bc21eb9\",\"type\":\"LogScale\"},{\"attributes\":{\"label\":{\"value\":\"CLIRAD (single-run)\"},\"renderers\":[{\"id\":\"9a6d959a-f9ce-4afb-b839-f38c6053b148\",\"type\":\"GlyphRenderer\"}]},\"id\":\"c6602c94-80d5-4822-8350-0477d97caeab\",\"type\":\"LegendItem\"},{\"attributes\":{},\"id\":\"0edf7994-5a64-4f1e-8221-b0a009e533bc\",\"type\":\"LinearScale\"},{\"attributes\":{},\"id\":\"8e2cb1be-9ac0-47ee-99fe-f51017b9e9ee\",\"type\":\"UnionRenderers\"},{\"attributes\":{\"items\":[{\"id\":\"2c018081-7fa0-4bf5-9a40-5824150e70e1\",\"type\":\"LegendItem\"}],\"label_text_font_size\":{\"value\":\"8pt\"},\"location\":\"top_center\",\"orientation\":\"horizontal\",\"plot\":{\"id\":\"699b96f0-c0c8-4a24-8669-841814a8296e\",\"subtype\":\"Figure\",\"type\":\"Plot\"}},\"id\":\"693864c3-2e53-4254-85c7-ce059995b0ed\",\"type\":\"Legend\"},{\"attributes\":{},\"id\":\"17881393-331c-4604-993b-c2a48563bd78\",\"type\":\"ResetTool\"},{\"attributes\":{},\"id\":\"15b2f40c-6b25-4d6c-8159-c8fbf93721ff\",\"type\":\"SaveTool\"},{\"attributes\":{\"axis_label\":\"cooling rate [K/day]\",\"formatter\":{\"id\":\"74956808-e54e-40cd-aeb6-4c5043efcfa6\",\"type\":\"BasicTickFormatter\"},\"plot\":{\"id\":\"699b96f0-c0c8-4a24-8669-841814a8296e\",\"subtype\":\"Figure\",\"type\":\"Plot\"},\"ticker\":{\"id\":\"52cf8d9a-8eae-4501-b775-792df26ffac3\",\"type\":\"BasicTicker\"}},\"id\":\"a841bf2c-19fc-4595-a956-f9544dca76a4\",\"type\":\"LinearAxis\"},{\"attributes\":{},\"id\":\"4cbcd937-097b-4e7a-83a7-d72dd2bfe558\",\"type\":\"Selection\"},{\"attributes\":{\"callback\":null,\"end\":2.1896727816369,\"start\":-60.05640543054691},\"id\":\"178621f3-c068-4cf4-90e4-73d8a77714c6\",\"type\":\"Range1d\"},{\"attributes\":{\"active_drag\":\"auto\",\"active_inspect\":\"auto\",\"active_scroll\":\"auto\",\"active_tap\":\"auto\",\"tools\":[{\"id\":\"708e3870-2316-44e3-962b-31e1b83ed8f5\",\"type\":\"PanTool\"},{\"id\":\"8c122fdb-63fa-4687-bb1e-173188be74d3\",\"type\":\"WheelZoomTool\"},{\"id\":\"382ae135-64f4-4656-aa8c-e510182243d7\",\"type\":\"BoxZoomTool\"},{\"id\":\"72b36a13-ad88-481a-be4f-c16c1dc0ba2d\",\"type\":\"SaveTool\"},{\"id\":\"3429a108-049c-408e-ab6e-857c7d549de9\",\"type\":\"ResetTool\"},{\"id\":\"12af38ed-3f1b-4928-8f6c-0b9a5422bd72\",\"type\":\"HelpTool\"}]},\"id\":\"d456a1c9-2da9-4822-a69e-dd4b6f8e0f70\",\"type\":\"Toolbar\"},{\"attributes\":{},\"id\":\"e036cbb4-93e0-4c51-bbb3-18f5d2b1820b\",\"type\":\"BasicTicker\"},{\"attributes\":{},\"id\":\"ec397523-9fa2-4381-ae2a-cae1d715473a\",\"type\":\"BasicTicker\"},{\"attributes\":{\"callback\":null,\"end\":0.9917710995134403,\"start\":-1.6759815666374394},\"id\":\"8eea07b1-8e02-4770-8ae6-acbb7b3cf979\",\"type\":\"Range1d\"},{\"attributes\":{\"dimension\":1,\"plot\":{\"id\":\"2281c6d3-311a-4ffd-a7fd-c64f83e5f5f2\",\"subtype\":\"Figure\",\"type\":\"Plot\"},\"ticker\":{\"id\":\"ec397523-9fa2-4381-ae2a-cae1d715473a\",\"type\":\"BasicTicker\"}},\"id\":\"5322014f-ee60-4be4-9db8-bbbc7802c443\",\"type\":\"Grid\"},{\"attributes\":{\"source\":{\"id\":\"a8bfd7d6-f4ce-4e7d-8595-e219d284beaa\",\"type\":\"ColumnDataSource\"}},\"id\":\"4a018679-7b1f-419f-a038-b2ca2f7406fa\",\"type\":\"CDSView\"},{\"attributes\":{},\"id\":\"87a22a91-ca79-4019-8571-73e893a4ee06\",\"type\":\"PanTool\"},{\"attributes\":{\"bottom_units\":\"screen\",\"fill_alpha\":{\"value\":0.5},\"fill_color\":{\"value\":\"lightgrey\"},\"left_units\":\"screen\",\"level\":\"overlay\",\"line_alpha\":{\"value\":1.0},\"line_color\":{\"value\":\"black\"},\"line_dash\":[4,4],\"line_width\":{\"value\":2},\"plot\":null,\"render_mode\":\"css\",\"right_units\":\"screen\",\"top_units\":\"screen\"},\"id\":\"d5f0c28d-b7c2-4bdd-ba44-04c250c3f0d0\",\"type\":\"BoxAnnotation\"},{\"attributes\":{\"axis_label\":\"pressure [mb]\",\"formatter\":{\"id\":\"42ac59e2-369b-4b52-87f0-69c4f4ce1146\",\"type\":\"BasicTickFormatter\"},\"plot\":{\"id\":\"2281c6d3-311a-4ffd-a7fd-c64f83e5f5f2\",\"subtype\":\"Figure\",\"type\":\"Plot\"},\"ticker\":{\"id\":\"ec397523-9fa2-4381-ae2a-cae1d715473a\",\"type\":\"BasicTicker\"}},\"id\":\"553219fc-6951-4da8-9ed9-baaaaaf75fa0\",\"type\":\"LinearAxis\"},{\"attributes\":{\"data_source\":{\"id\":\"a8bfd7d6-f4ce-4e7d-8595-e219d284beaa\",\"type\":\"ColumnDataSource\"},\"glyph\":{\"id\":\"76781130-6262-4e8e-a8fa-2849663d9c41\",\"type\":\"Line\"},\"hover_glyph\":null,\"muted_glyph\":null,\"nonselection_glyph\":{\"id\":\"27ec6a05-fce7-4edc-b4cb-654b9277fb7b\",\"type\":\"Line\"},\"selection_glyph\":null,\"view\":{\"id\":\"4a018679-7b1f-419f-a038-b2ca2f7406fa\",\"type\":\"CDSView\"}},\"id\":\"6274cacf-041c-429e-9d46-a3fbfa6df9ac\",\"type\":\"GlyphRenderer\"},{\"attributes\":{},\"id\":\"5fd58ab5-2859-49d1-823a-c901b15a6e07\",\"type\":\"HelpTool\"},{\"attributes\":{\"overlay\":{\"id\":\"d5f0c28d-b7c2-4bdd-ba44-04c250c3f0d0\",\"type\":\"BoxAnnotation\"}},\"id\":\"818a57b3-9563-4f1c-9f45-558346b7dae3\",\"type\":\"BoxZoomTool\"},{\"attributes\":{},\"id\":\"fcb41207-2d42-430d-ac4a-47f02fcac314\",\"type\":\"HelpTool\"},{\"attributes\":{\"axis_label\":\"cooling rate [K/day]\",\"formatter\":{\"id\":\"dc6a528c-9c55-4cdb-a188-c857c09b0e77\",\"type\":\"BasicTickFormatter\"},\"plot\":{\"id\":\"2281c6d3-311a-4ffd-a7fd-c64f83e5f5f2\",\"subtype\":\"Figure\",\"type\":\"Plot\"},\"ticker\":{\"id\":\"e036cbb4-93e0-4c51-bbb3-18f5d2b1820b\",\"type\":\"BasicTicker\"}},\"id\":\"f7147a2c-6c7f-4229-8a86-bd8e0c6a5920\",\"type\":\"LinearAxis\"},{\"attributes\":{\"line_color\":\"#4daf4a\",\"line_width\":1.5,\"x\":{\"field\":\"x\"},\"y\":{\"field\":\"y\"}},\"id\":\"25ca4f41-0efb-47a6-9f1b-b0bb69ea7250\",\"type\":\"Line\"},{\"attributes\":{\"plot\":{\"id\":\"2281c6d3-311a-4ffd-a7fd-c64f83e5f5f2\",\"subtype\":\"Figure\",\"type\":\"Plot\"},\"ticker\":{\"id\":\"e036cbb4-93e0-4c51-bbb3-18f5d2b1820b\",\"type\":\"BasicTicker\"}},\"id\":\"59240e67-286d-4f61-9f09-46958aabe383\",\"type\":\"Grid\"},{\"attributes\":{},\"id\":\"11be0a8f-8a61-44b8-ad83-70f553393d9d\",\"type\":\"LinearScale\"},{\"attributes\":{\"data_source\":{\"id\":\"e8e8ac2e-eb01-4528-bb4a-5809cc44c260\",\"type\":\"ColumnDataSource\"},\"glyph\":{\"id\":\"25ca4f41-0efb-47a6-9f1b-b0bb69ea7250\",\"type\":\"Line\"},\"hover_glyph\":null,\"muted_glyph\":null,\"nonselection_glyph\":{\"id\":\"75725b3c-c624-458a-a643-9c36c1f127a9\",\"type\":\"Line\"},\"selection_glyph\":null,\"view\":{\"id\":\"12a84255-0ab2-41e9-a250-3e214770a3f6\",\"type\":\"CDSView\"}},\"id\":\"d2030066-b7e2-41bd-8b48-31e25ee530ad\",\"type\":\"GlyphRenderer\"},{\"attributes\":{},\"id\":\"e846481c-b6c7-4ffe-acc5-0c02c4439879\",\"type\":\"ResetTool\"},{\"attributes\":{},\"id\":\"0f852c2b-695d-4f78-970d-4fc4140fd15d\",\"type\":\"WheelZoomTool\"},{\"attributes\":{},\"id\":\"541038bb-82fb-4897-b87f-0080b2ebae6e\",\"type\":\"PanTool\"},{\"attributes\":{},\"id\":\"52cf8d9a-8eae-4501-b775-792df26ffac3\",\"type\":\"BasicTicker\"},{\"attributes\":{\"children\":[{\"id\":\"4f3cf968-3eec-4166-b32e-0a02fa388a2e\",\"type\":\"ToolbarBox\"},{\"id\":\"0fe6d97d-5477-4422-aa4c-1848c96cea74\",\"type\":\"Column\"}]},\"id\":\"3fd24a66-b380-4291-b2e8-5db39acfbf79\",\"type\":\"Column\"},{\"attributes\":{\"toolbar\":{\"id\":\"4c486b8f-580d-4e30-9a3f-0252602d82eb\",\"type\":\"ProxyToolbar\"},\"toolbar_location\":\"above\"},\"id\":\"4f3cf968-3eec-4166-b32e-0a02fa388a2e\",\"type\":\"ToolbarBox\"},{\"attributes\":{},\"id\":\"60fc877e-1ace-4a8d-9455-10b64a0a9a19\",\"type\":\"WheelZoomTool\"},{\"attributes\":{},\"id\":\"9fcfd144-bd3a-4c35-9019-74f0a389505e\",\"type\":\"SaveTool\"},{\"attributes\":{\"dimension\":1,\"plot\":{\"id\":\"d8509e75-2931-4b02-a08b-85fb41ba8793\",\"subtype\":\"Figure\",\"type\":\"Plot\"},\"ticker\":{\"id\":\"b6111c95-11aa-4ed4-855c-4aea0c624eda\",\"type\":\"LogTicker\"}},\"id\":\"d4331648-c8bc-4ba6-917c-424773786ce1\",\"type\":\"Grid\"},{\"attributes\":{},\"id\":\"e8861882-8fb8-4676-a514-0f3fe6372efa\",\"type\":\"LinearScale\"},{\"attributes\":{\"above\":[{\"id\":\"9ea80ae1-f7b4-4dfd-9701-c17f45419c87\",\"type\":\"Legend\"}],\"below\":[{\"id\":\"b98d335f-db09-4eb3-bbfc-bf858348064b\",\"type\":\"LinearAxis\"}],\"left\":[{\"id\":\"590f5375-6ac4-4a40-92e8-006c4276a91a\",\"type\":\"LogAxis\"}],\"plot_width\":300,\"renderers\":[{\"id\":\"b98d335f-db09-4eb3-bbfc-bf858348064b\",\"type\":\"LinearAxis\"},{\"id\":\"a5b7e040-3129-4d53-a87f-771ccd81e5d4\",\"type\":\"Grid\"},{\"id\":\"590f5375-6ac4-4a40-92e8-006c4276a91a\",\"type\":\"LogAxis\"},{\"id\":\"d4331648-c8bc-4ba6-917c-424773786ce1\",\"type\":\"Grid\"},{\"id\":\"a82dc8ba-ee8f-4f6a-8e3c-fe9b0e06f6e0\",\"type\":\"BoxAnnotation\"},{\"id\":\"9a6d959a-f9ce-4afb-b839-f38c6053b148\",\"type\":\"GlyphRenderer\"},{\"id\":\"177dcc8d-55e5-45c0-a298-d81d5873b35f\",\"type\":\"GlyphRenderer\"},{\"id\":\"d2030066-b7e2-41bd-8b48-31e25ee530ad\",\"type\":\"GlyphRenderer\"},{\"id\":\"9ea80ae1-f7b4-4dfd-9701-c17f45419c87\",\"type\":\"Legend\"}],\"title\":{\"id\":\"d6fcf99f-24ba-4e4b-9507-045c59be7c40\",\"type\":\"Title\"},\"toolbar\":{\"id\":\"d456a1c9-2da9-4822-a69e-dd4b6f8e0f70\",\"type\":\"Toolbar\"},\"toolbar_location\":null,\"x_range\":{\"id\":\"9378274b-996d-424a-850e-807018b49ef1\",\"type\":\"Range1d\"},\"x_scale\":{\"id\":\"409fffef-6143-467d-bfed-c25182195a44\",\"type\":\"LinearScale\"},\"y_range\":{\"id\":\"764c5feb-9ced-43e7-b56b-a1cc6a256666\",\"type\":\"Range1d\"},\"y_scale\":{\"id\":\"9f5d09ed-8953-4f5e-9138-309c05ed16be\",\"type\":\"LogScale\"}},\"id\":\"d8509e75-2931-4b02-a08b-85fb41ba8793\",\"subtype\":\"Figure\",\"type\":\"Plot\"},{\"attributes\":{\"axis_label\":\"cooling rate [K/day]\",\"formatter\":{\"id\":\"8d2438b2-9aa2-4922-b1bd-87ef97feeaf7\",\"type\":\"BasicTickFormatter\"},\"plot\":{\"id\":\"d8509e75-2931-4b02-a08b-85fb41ba8793\",\"subtype\":\"Figure\",\"type\":\"Plot\"},\"ticker\":{\"id\":\"ec364b92-9cd8-4af1-9a03-9b59f6c90c84\",\"type\":\"BasicTicker\"}},\"id\":\"b98d335f-db09-4eb3-bbfc-bf858348064b\",\"type\":\"LinearAxis\"},{\"attributes\":{\"plot\":{\"id\":\"d8509e75-2931-4b02-a08b-85fb41ba8793\",\"subtype\":\"Figure\",\"type\":\"Plot\"},\"ticker\":{\"id\":\"ec364b92-9cd8-4af1-9a03-9b59f6c90c84\",\"type\":\"BasicTicker\"}},\"id\":\"a5b7e040-3129-4d53-a87f-771ccd81e5d4\",\"type\":\"Grid\"},{\"attributes\":{\"data_source\":{\"id\":\"7d84d824-7d80-4e77-b7fc-4e30c5a12037\",\"type\":\"ColumnDataSource\"},\"glyph\":{\"id\":\"daa23e0c-daa6-491e-a4c8-acecf0aaded0\",\"type\":\"Line\"},\"hover_glyph\":null,\"muted_glyph\":null,\"nonselection_glyph\":{\"id\":\"a859b50d-68c7-41b5-a2bc-bc4689a8f295\",\"type\":\"Line\"},\"selection_glyph\":null,\"view\":{\"id\":\"21135dfb-3971-4e76-9fff-06d6e26469df\",\"type\":\"CDSView\"}},\"id\":\"df905223-9768-40ad-8853-2304ca1830c6\",\"type\":\"GlyphRenderer\"},{\"attributes\":{\"active_drag\":\"auto\",\"active_inspect\":\"auto\",\"active_scroll\":\"auto\",\"active_tap\":\"auto\",\"tools\":[{\"id\":\"87a22a91-ca79-4019-8571-73e893a4ee06\",\"type\":\"PanTool\"},{\"id\":\"0f852c2b-695d-4f78-970d-4fc4140fd15d\",\"type\":\"WheelZoomTool\"},{\"id\":\"818a57b3-9563-4f1c-9f45-558346b7dae3\",\"type\":\"BoxZoomTool\"},{\"id\":\"15b2f40c-6b25-4d6c-8159-c8fbf93721ff\",\"type\":\"SaveTool\"},{\"id\":\"e846481c-b6c7-4ffe-acc5-0c02c4439879\",\"type\":\"ResetTool\"},{\"id\":\"5fd58ab5-2859-49d1-823a-c901b15a6e07\",\"type\":\"HelpTool\"}]},\"id\":\"c03a11c2-276e-4a37-9e29-40f0295ecbab\",\"type\":\"Toolbar\"},{\"attributes\":{\"fill_alpha\":{\"value\":0.1},\"fill_color\":{\"value\":\"#1f77b4\"},\"line_alpha\":{\"value\":0.1},\"line_color\":{\"value\":\"#1f77b4\"},\"x\":{\"field\":\"x\"},\"y\":{\"field\":\"y\"}},\"id\":\"68486e9d-6726-4caa-b01f-bd7441b6cbaf\",\"type\":\"Circle\"},{\"attributes\":{\"bottom_units\":\"screen\",\"fill_alpha\":{\"value\":0.5},\"fill_color\":{\"value\":\"lightgrey\"},\"left_units\":\"screen\",\"level\":\"overlay\",\"line_alpha\":{\"value\":1.0},\"line_color\":{\"value\":\"black\"},\"line_dash\":[4,4],\"line_width\":{\"value\":2},\"plot\":null,\"render_mode\":\"css\",\"right_units\":\"screen\",\"top_units\":\"screen\"},\"id\":\"a82dc8ba-ee8f-4f6a-8e3c-fe9b0e06f6e0\",\"type\":\"BoxAnnotation\"},{\"attributes\":{\"source\":{\"id\":\"7d84d824-7d80-4e77-b7fc-4e30c5a12037\",\"type\":\"ColumnDataSource\"}},\"id\":\"21135dfb-3971-4e76-9fff-06d6e26469df\",\"type\":\"CDSView\"},{\"attributes\":{\"line_alpha\":0.6,\"line_color\":\"#377eb8\",\"line_dash\":[6],\"line_width\":5,\"x\":{\"field\":\"x\"},\"y\":{\"field\":\"y\"}},\"id\":\"daa23e0c-daa6-491e-a4c8-acecf0aaded0\",\"type\":\"Line\"},{\"attributes\":{\"items\":[{\"id\":\"c6602c94-80d5-4822-8350-0477d97caeab\",\"type\":\"LegendItem\"},{\"id\":\"32973f99-c3b7-485f-9c57-5e4a10832a34\",\"type\":\"LegendItem\"}],\"label_text_font_size\":{\"value\":\"8pt\"},\"location\":\"top_center\",\"orientation\":\"horizontal\",\"plot\":{\"id\":\"d8509e75-2931-4b02-a08b-85fb41ba8793\",\"subtype\":\"Figure\",\"type\":\"Plot\"}},\"id\":\"9ea80ae1-f7b4-4dfd-9701-c17f45419c87\",\"type\":\"Legend\"},{\"attributes\":{\"axis_label\":\"pressure [mb]\",\"formatter\":{\"id\":\"0e310f44-0d8e-43a8-b81e-1c1f8fbf3801\",\"type\":\"LogTickFormatter\"},\"plot\":{\"id\":\"d8509e75-2931-4b02-a08b-85fb41ba8793\",\"subtype\":\"Figure\",\"type\":\"Plot\"},\"ticker\":{\"id\":\"b6111c95-11aa-4ed4-855c-4aea0c624eda\",\"type\":\"LogTicker\"}},\"id\":\"590f5375-6ac4-4a40-92e8-006c4276a91a\",\"type\":\"LogAxis\"},{\"attributes\":{\"num_minor_ticks\":10},\"id\":\"b6111c95-11aa-4ed4-855c-4aea0c624eda\",\"type\":\"LogTicker\"},{\"attributes\":{},\"id\":\"9f5d09ed-8953-4f5e-9138-309c05ed16be\",\"type\":\"LogScale\"},{\"attributes\":{\"source\":{\"id\":\"a4e6c079-9bfa-44d3-b771-34cc86e68282\",\"type\":\"ColumnDataSource\"}},\"id\":\"820b51c6-7290-4ca9-8667-23f4ee06157d\",\"type\":\"CDSView\"},{\"attributes\":{\"label\":{\"value\":\"CRD\"},\"renderers\":[{\"id\":\"177dcc8d-55e5-45c0-a298-d81d5873b35f\",\"type\":\"GlyphRenderer\"},{\"id\":\"d2030066-b7e2-41bd-8b48-31e25ee530ad\",\"type\":\"GlyphRenderer\"}]},\"id\":\"32973f99-c3b7-485f-9c57-5e4a10832a34\",\"type\":\"LegendItem\"},{\"attributes\":{\"data_source\":{\"id\":\"a4e6c079-9bfa-44d3-b771-34cc86e68282\",\"type\":\"ColumnDataSource\"},\"glyph\":{\"id\":\"a7db7d5b-770e-4cf8-af8d-9f0a952a5998\",\"type\":\"Circle\"},\"hover_glyph\":null,\"muted_glyph\":null,\"nonselection_glyph\":{\"id\":\"68486e9d-6726-4caa-b01f-bd7441b6cbaf\",\"type\":\"Circle\"},\"selection_glyph\":null,\"view\":{\"id\":\"820b51c6-7290-4ca9-8667-23f4ee06157d\",\"type\":\"CDSView\"}},\"id\":\"177dcc8d-55e5-45c0-a298-d81d5873b35f\",\"type\":\"GlyphRenderer\"},{\"attributes\":{\"line_alpha\":0.1,\"line_color\":\"#1f77b4\",\"line_width\":1.5,\"x\":{\"field\":\"x\"},\"y\":{\"field\":\"y\"}},\"id\":\"75725b3c-c624-458a-a643-9c36c1f127a9\",\"type\":\"Line\"},{\"attributes\":{\"items\":[{\"id\":\"b991e426-1bd2-45d4-ac93-90f236254066\",\"type\":\"LegendItem\"},{\"id\":\"597095d0-67e1-4b05-841c-541e8414ff53\",\"type\":\"LegendItem\"}],\"label_text_font_size\":{\"value\":\"8pt\"},\"location\":\"top_center\",\"orientation\":\"horizontal\",\"plot\":{\"id\":\"2281c6d3-311a-4ffd-a7fd-c64f83e5f5f2\",\"subtype\":\"Figure\",\"type\":\"Plot\"}},\"id\":\"a2bd207e-3cf1-487d-bccb-af8a68e5f5cd\",\"type\":\"Legend\"},{\"attributes\":{},\"id\":\"ec364b92-9cd8-4af1-9a03-9b59f6c90c84\",\"type\":\"BasicTicker\"},{\"attributes\":{\"callback\":null,\"data\":{\"x\":{\"__ndarray__\":\"0CYBcvU5UkCik9zf2GVBQF1VoNfLZ0BAVLxhiVXTPUDD1Wu1wJM6QFJyB025jjdAU6Aw5+b/NECYe1uuDfgyQB6bYtVTbTFAPxYSAF1HMEA00pYVm9QuQLolHbMzgC1AntlwirGsLECv+G9SjE4rQJH6ZLBp0ShAsLZQyPd/JkDyjgyf2PwkQLgyNGsrJyRAA13QbJD6I0C8hy0ilI4kQOVTXCEgcSZAovOGvZSGJUBVc/ZmUOIgQOf/6GHAyRlAcE8fAOBSFEDRur1U//gPQGFD9ZbokghAQsqHuSqSA0C91ci3W0UBQCtRQfvz7/4/kh8pntyB+j9t1/n+4TX1P773MAUjFfI/RgzR+CI28T8hBW8WHK7uPzVKjJfU8uk/0FPt4/z65T/wVYqzMPDhPz7K9C5CXuE/8+hSn9hY4T/9PPCkR6rhP1XsIC599OA/66X1nBCX3z/YbRM56QjcPz4dkSQc/dM/S7Wb8Fq00T+/yQdmX0vcP7TrGf476eM/WqNPJoWO7D9qOH1bcwDzP2bw+R5DQ/Y/RLSuQOQp+D8+aif8yAz5P0Wv6eBKRfk/0i2+IN4R+T/ik8QNFZr4PyS5UD5j/Pc/yJ68zXRG9z/2CHPL54H2P59SOhwKtPU/npkP8dfg9D8NlmVcdQz0P80ugRvuOvM/byxiAHN18j9USVZie8nxP5l9lNXYSPE/OB+F0UYP8T8Y7dsUCTHxP3EBgTHPcPE/bfx15p8S8T8FT+xkGtTuP6mdG7rkxuk/pboqTkHX5D/CrN8qGYngP7R4ZaL+htU/\",\"dtype\":\"float64\",\"shape\":[75]},\"y\":{\"__ndarray__\":\"GhExyth1ND/Sv8nbtpRIP2vylNV0PVE/aTum7souWD/At0SJ8fVgPw3Iuahxymc/MSNhhJWvcD/bTfBN02d3P2zb5nxnaoA/CD5h5MAGhz8NmeH1TyaQP+zrCsc9p5Y/LbKd76fGnz/bLW5ISEmmPww9YvTcQq8/JV2OstnstT8Er5Y7M8G+P0c+r3jqkcU/5h99k6ZBzj88bCIzFzjVP4enV8oyxN0//yH99nXg5D8qOpLLf0jtP5kqGJXUifQ/c9cS8kHP/D+/DpwzojQEQIEmwoanVwxA4lgXt9HgE0BSSZ2AJuIbQAMJih9jjiNA5q4l5INuK0AwTKYKRj0zQNv5fmq8/DpAaCJseHrtQkB/+zpwzoxKQM3MzMzMeFJAZmZmZmZqWEAAAAAAAFxeQM3MzMzMJmJAmpmZmZkfZUBmZmZmZhhoQDMzMzMzEWtAAAAAAAAKbkBmZmZmZoFwQM3MzMzM/XFAMzMzMzN6c0CamZmZmfZ0QAAAAAAAc3ZAZmZmZmbvd0DNzMzMzGt5QDMzMzMz6HpAmpmZmZlkfEAAAAAAAOF9QGZmZmZmXX9AZmZmZuZsgECamZmZGSuBQM3MzMxM6YFAAAAAAICngkAzMzMzs2WDQGZmZmbmI4RAmpmZmRnihEDNzMzMTKCFQAAAAACAXoZAMzMzM7Mch0BmZmZm5tqHQJqZmZkZmYhAzczMzExXiUAAAAAAgBWKQDMzMzOz04pAZmZmZuaRi0CamZmZGVCMQM3MzMxMDo1AAAAAAIDMjUAzMzMzs4qOQGZmZmbmSI9A\",\"dtype\":\"float64\",\"shape\":[75]}},\"selected\":{\"id\":\"fed4f7c8-ad79-4f6d-a9d1-7714fa4c8bfe\",\"type\":\"Selection\"},\"selection_policy\":{\"id\":\"be2e78a2-3bb2-4a30-af80-8655cac4fdf0\",\"type\":\"UnionRenderers\"}},\"id\":\"a4e6c079-9bfa-44d3-b771-34cc86e68282\",\"type\":\"ColumnDataSource\"},{\"attributes\":{\"bottom_units\":\"screen\",\"fill_alpha\":{\"value\":0.5},\"fill_color\":{\"value\":\"lightgrey\"},\"left_units\":\"screen\",\"level\":\"overlay\",\"line_alpha\":{\"value\":1.0},\"line_color\":{\"value\":\"black\"},\"line_dash\":[4,4],\"line_width\":{\"value\":2},\"plot\":null,\"render_mode\":\"css\",\"right_units\":\"screen\",\"top_units\":\"screen\"},\"id\":\"1744459f-122d-4ef7-b4d3-6404180bc5a6\",\"type\":\"BoxAnnotation\"},{\"attributes\":{\"fill_alpha\":{\"value\":0.1},\"fill_color\":{\"value\":\"#1f77b4\"},\"line_alpha\":{\"value\":0.1},\"line_color\":{\"value\":\"#1f77b4\"},\"x\":{\"field\":\"x\"},\"y\":{\"field\":\"y\"}},\"id\":\"28bd88a3-69ba-48b2-8248-824266db5e14\",\"type\":\"Circle\"},{\"attributes\":{\"source\":{\"id\":\"0ed1e6f6-cac3-4cf6-8383-8660c78fd35e\",\"type\":\"ColumnDataSource\"}},\"id\":\"b7ce6ab2-b8be-4b8a-90b7-47255dac5bab\",\"type\":\"CDSView\"},{\"attributes\":{\"callback\":null,\"data\":{\"x\":{\"__ndarray__\":\"0CYBcvU5UkCik9zf2GVBQF1VoNfLZ0BAVLxhiVXTPUDD1Wu1wJM6QFJyB025jjdAU6Aw5+b/NECYe1uuDfgyQB6bYtVTbTFAPxYSAF1HMEA00pYVm9QuQLolHbMzgC1AntlwirGsLECv+G9SjE4rQJH6ZLBp0ShAsLZQyPd/JkDyjgyf2PwkQLgyNGsrJyRAA13QbJD6I0C8hy0ilI4kQOVTXCEgcSZAovOGvZSGJUBVc/ZmUOIgQOf/6GHAyRlAcE8fAOBSFEDRur1U//gPQGFD9ZbokghAQsqHuSqSA0C91ci3W0UBQCtRQfvz7/4/kh8pntyB+j9t1/n+4TX1P773MAUjFfI/RgzR+CI28T8hBW8WHK7uPzVKjJfU8uk/0FPt4/z65T/wVYqzMPDhPz7K9C5CXuE/8+hSn9hY4T/9PPCkR6rhP1XsIC599OA/66X1nBCX3z/YbRM56QjcPz4dkSQc/dM/S7Wb8Fq00T+/yQdmX0vcP7TrGf476eM/WqNPJoWO7D9qOH1bcwDzP2bw+R5DQ/Y/RLSuQOQp+D8+aif8yAz5P0Wv6eBKRfk/0i2+IN4R+T/ik8QNFZr4PyS5UD5j/Pc/yJ68zXRG9z/2CHPL54H2P59SOhwKtPU/npkP8dfg9D8NlmVcdQz0P80ugRvuOvM/byxiAHN18j9USVZie8nxP5l9lNXYSPE/OB+F0UYP8T8Y7dsUCTHxP3EBgTHPcPE/bfx15p8S8T8FT+xkGtTuP6mdG7rkxuk/pboqTkHX5D/CrN8qGYngP7R4ZaL+htU/\",\"dtype\":\"float64\",\"shape\":[75]},\"y\":{\"__ndarray__\":\"GhExyth1ND/Sv8nbtpRIP2vylNV0PVE/aTum7souWD/At0SJ8fVgPw3Iuahxymc/MSNhhJWvcD/bTfBN02d3P2zb5nxnaoA/CD5h5MAGhz8NmeH1TyaQP+zrCsc9p5Y/LbKd76fGnz/bLW5ISEmmPww9YvTcQq8/JV2OstnstT8Er5Y7M8G+P0c+r3jqkcU/5h99k6ZBzj88bCIzFzjVP4enV8oyxN0//yH99nXg5D8qOpLLf0jtP5kqGJXUifQ/c9cS8kHP/D+/DpwzojQEQIEmwoanVwxA4lgXt9HgE0BSSZ2AJuIbQAMJih9jjiNA5q4l5INuK0AwTKYKRj0zQNv5fmq8/DpAaCJseHrtQkB/+zpwzoxKQM3MzMzMeFJAZmZmZmZqWEAAAAAAAFxeQM3MzMzMJmJAmpmZmZkfZUBmZmZmZhhoQDMzMzMzEWtAAAAAAAAKbkBmZmZmZoFwQM3MzMzM/XFAMzMzMzN6c0CamZmZmfZ0QAAAAAAAc3ZAZmZmZmbvd0DNzMzMzGt5QDMzMzMz6HpAmpmZmZlkfEAAAAAAAOF9QGZmZmZmXX9AZmZmZuZsgECamZmZGSuBQM3MzMxM6YFAAAAAAICngkAzMzMzs2WDQGZmZmbmI4RAmpmZmRnihEDNzMzMTKCFQAAAAACAXoZAMzMzM7Mch0BmZmZm5tqHQJqZmZkZmYhAzczMzExXiUAAAAAAgBWKQDMzMzOz04pAZmZmZuaRi0CamZmZGVCMQM3MzMxMDo1AAAAAAIDMjUAzMzMzs4qOQGZmZmbmSI9A\",\"dtype\":\"float64\",\"shape\":[75]}},\"selected\":{\"id\":\"41d58bc4-badf-45bd-bc2f-d869fe820206\",\"type\":\"Selection\"},\"selection_policy\":{\"id\":\"7164c0b8-7a0c-47dd-8d58-ef5bb239feff\",\"type\":\"UnionRenderers\"}},\"id\":\"c2c300e1-b1a5-44ee-907a-846eb8b52d1f\",\"type\":\"ColumnDataSource\"},{\"attributes\":{},\"id\":\"8d2438b2-9aa2-4922-b1bd-87ef97feeaf7\",\"type\":\"BasicTickFormatter\"},{\"attributes\":{\"plot\":null,\"text\":\"\"},\"id\":\"70f08177-fb70-496a-8198-3559df7606e9\",\"type\":\"Title\"},{\"attributes\":{\"label\":{\"value\":\"CRD\"},\"renderers\":[{\"id\":\"10f06206-1cc0-4847-a35c-c3d910452591\",\"type\":\"GlyphRenderer\"},{\"id\":\"6274cacf-041c-429e-9d46-a3fbfa6df9ac\",\"type\":\"GlyphRenderer\"}]},\"id\":\"597095d0-67e1-4b05-841c-541e8414ff53\",\"type\":\"LegendItem\"},{\"attributes\":{},\"id\":\"20197c50-df43-4f74-9f65-62331d74c0b0\",\"type\":\"Selection\"},{\"attributes\":{},\"id\":\"a1aca3e9-79e4-44d5-aead-222dcc72d7f7\",\"type\":\"UnionRenderers\"},{\"attributes\":{\"callback\":null,\"end\":0.01,\"start\":1020},\"id\":\"764c5feb-9ced-43e7-b56b-a1cc6a256666\",\"type\":\"Range1d\"},{\"attributes\":{\"plot\":null,\"text\":\"\"},\"id\":\"d6fcf99f-24ba-4e4b-9507-045c59be7c40\",\"type\":\"Title\"},{\"attributes\":{\"source\":{\"id\":\"213fe96c-114f-4d72-9379-e6214aff9567\",\"type\":\"ColumnDataSource\"}},\"id\":\"ffd64147-73de-404a-91b2-94b477305990\",\"type\":\"CDSView\"},{\"attributes\":{\"tools\":[{\"id\":\"87a22a91-ca79-4019-8571-73e893a4ee06\",\"type\":\"PanTool\"},{\"id\":\"0f852c2b-695d-4f78-970d-4fc4140fd15d\",\"type\":\"WheelZoomTool\"},{\"id\":\"818a57b3-9563-4f1c-9f45-558346b7dae3\",\"type\":\"BoxZoomTool\"},{\"id\":\"15b2f40c-6b25-4d6c-8159-c8fbf93721ff\",\"type\":\"SaveTool\"},{\"id\":\"e846481c-b6c7-4ffe-acc5-0c02c4439879\",\"type\":\"ResetTool\"},{\"id\":\"5fd58ab5-2859-49d1-823a-c901b15a6e07\",\"type\":\"HelpTool\"},{\"id\":\"708e3870-2316-44e3-962b-31e1b83ed8f5\",\"type\":\"PanTool\"},{\"id\":\"8c122fdb-63fa-4687-bb1e-173188be74d3\",\"type\":\"WheelZoomTool\"},{\"id\":\"382ae135-64f4-4656-aa8c-e510182243d7\",\"type\":\"BoxZoomTool\"},{\"id\":\"72b36a13-ad88-481a-be4f-c16c1dc0ba2d\",\"type\":\"SaveTool\"},{\"id\":\"3429a108-049c-408e-ab6e-857c7d549de9\",\"type\":\"ResetTool\"},{\"id\":\"12af38ed-3f1b-4928-8f6c-0b9a5422bd72\",\"type\":\"HelpTool\"},{\"id\":\"541038bb-82fb-4897-b87f-0080b2ebae6e\",\"type\":\"PanTool\"},{\"id\":\"60fc877e-1ace-4a8d-9455-10b64a0a9a19\",\"type\":\"WheelZoomTool\"},{\"id\":\"6cb97e64-2316-4a83-a386-fbb60d270c00\",\"type\":\"BoxZoomTool\"},{\"id\":\"9fcfd144-bd3a-4c35-9019-74f0a389505e\",\"type\":\"SaveTool\"},{\"id\":\"17881393-331c-4604-993b-c2a48563bd78\",\"type\":\"ResetTool\"},{\"id\":\"fcb41207-2d42-430d-ac4a-47f02fcac314\",\"type\":\"HelpTool\"}]},\"id\":\"4c486b8f-580d-4e30-9a3f-0252602d82eb\",\"type\":\"ProxyToolbar\"},{\"attributes\":{\"fill_alpha\":{\"value\":0.7},\"fill_color\":{\"value\":\"#4daf4a\"},\"line_alpha\":{\"value\":0.7},\"line_color\":{\"value\":\"#4daf4a\"},\"x\":{\"field\":\"x\"},\"y\":{\"field\":\"y\"}},\"id\":\"6dfe1124-574f-485d-9c75-e9443644fc15\",\"type\":\"Circle\"},{\"attributes\":{\"ticker\":null},\"id\":\"0e310f44-0d8e-43a8-b81e-1c1f8fbf3801\",\"type\":\"LogTickFormatter\"},{\"attributes\":{\"ticker\":null},\"id\":\"d3b21782-c0ce-43a3-bbc6-b01947d00278\",\"type\":\"LogTickFormatter\"},{\"attributes\":{\"line_alpha\":0.6,\"line_color\":\"#377eb8\",\"line_dash\":[6],\"line_width\":5,\"x\":{\"field\":\"x\"},\"y\":{\"field\":\"y\"}},\"id\":\"15b2652d-cb87-4f9a-990b-6c44da522dca\",\"type\":\"Line\"},{\"attributes\":{\"callback\":null,\"end\":0.01,\"start\":1020},\"id\":\"c7b1196b-5298-4e56-b866-e90177ecd6a2\",\"type\":\"Range1d\"},{\"attributes\":{},\"id\":\"74956808-e54e-40cd-aeb6-4c5043efcfa6\",\"type\":\"BasicTickFormatter\"},{\"attributes\":{\"callback\":null,\"end\":0.01,\"start\":1020},\"id\":\"4b7eb4db-0d65-49b5-9523-2037c7baee13\",\"type\":\"Range1d\"},{\"attributes\":{},\"id\":\"6209c85c-a1d3-46fa-adaa-3880891bf977\",\"type\":\"Selection\"},{\"attributes\":{},\"id\":\"409fffef-6143-467d-bfed-c25182195a44\",\"type\":\"LinearScale\"},{\"attributes\":{\"data_source\":{\"id\":\"8c89b153-33fd-400e-9600-2b8d807ba175\",\"type\":\"ColumnDataSource\"},\"glyph\":{\"id\":\"3b76d83c-6280-426f-8207-5a4f60a11948\",\"type\":\"Circle\"},\"hover_glyph\":null,\"muted_glyph\":null,\"nonselection_glyph\":{\"id\":\"28bd88a3-69ba-48b2-8248-824266db5e14\",\"type\":\"Circle\"},\"selection_glyph\":null,\"view\":{\"id\":\"21e06d6f-2144-48bc-a2c1-b638b47e9fda\",\"type\":\"CDSView\"}},\"id\":\"4b50602b-e9a0-428d-8d9d-fcf10071a4d1\",\"type\":\"GlyphRenderer\"},{\"attributes\":{\"line_alpha\":0.1,\"line_color\":\"#1f77b4\",\"line_dash\":[6],\"line_width\":5,\"x\":{\"field\":\"x\"},\"y\":{\"field\":\"y\"}},\"id\":\"a859b50d-68c7-41b5-a2bc-bc4689a8f295\",\"type\":\"Line\"},{\"attributes\":{},\"id\":\"1efbdc35-8906-4a3d-bd91-cc171ff5e8d2\",\"type\":\"Selection\"},{\"attributes\":{},\"id\":\"42ac59e2-369b-4b52-87f0-69c4f4ce1146\",\"type\":\"BasicTickFormatter\"},{\"attributes\":{},\"id\":\"3b3d3c3e-7199-43a4-aaba-7749579b0105\",\"type\":\"UnionRenderers\"},{\"attributes\":{\"above\":[{\"id\":\"a2bd207e-3cf1-487d-bccb-af8a68e5f5cd\",\"type\":\"Legend\"}],\"below\":[{\"id\":\"f7147a2c-6c7f-4229-8a86-bd8e0c6a5920\",\"type\":\"LinearAxis\"}],\"left\":[{\"id\":\"553219fc-6951-4da8-9ed9-baaaaaf75fa0\",\"type\":\"LinearAxis\"}],\"plot_width\":300,\"renderers\":[{\"id\":\"f7147a2c-6c7f-4229-8a86-bd8e0c6a5920\",\"type\":\"LinearAxis\"},{\"id\":\"59240e67-286d-4f61-9f09-46958aabe383\",\"type\":\"Grid\"},{\"id\":\"553219fc-6951-4da8-9ed9-baaaaaf75fa0\",\"type\":\"LinearAxis\"},{\"id\":\"5322014f-ee60-4be4-9db8-bbbc7802c443\",\"type\":\"Grid\"},{\"id\":\"d5f0c28d-b7c2-4bdd-ba44-04c250c3f0d0\",\"type\":\"BoxAnnotation\"},{\"id\":\"df905223-9768-40ad-8853-2304ca1830c6\",\"type\":\"GlyphRenderer\"},{\"id\":\"10f06206-1cc0-4847-a35c-c3d910452591\",\"type\":\"GlyphRenderer\"},{\"id\":\"6274cacf-041c-429e-9d46-a3fbfa6df9ac\",\"type\":\"GlyphRenderer\"},{\"id\":\"a2bd207e-3cf1-487d-bccb-af8a68e5f5cd\",\"type\":\"Legend\"}],\"title\":{\"id\":\"a9346d8f-3693-49cb-9213-1a21631eff36\",\"type\":\"Title\"},\"toolbar\":{\"id\":\"c03a11c2-276e-4a37-9e29-40f0295ecbab\",\"type\":\"Toolbar\"},\"toolbar_location\":null,\"x_range\":{\"id\":\"178621f3-c068-4cf4-90e4-73d8a77714c6\",\"type\":\"Range1d\"},\"x_scale\":{\"id\":\"e8861882-8fb8-4676-a514-0f3fe6372efa\",\"type\":\"LinearScale\"},\"y_range\":{\"id\":\"4b7eb4db-0d65-49b5-9523-2037c7baee13\",\"type\":\"Range1d\"},\"y_scale\":{\"id\":\"0edf7994-5a64-4f1e-8221-b0a009e533bc\",\"type\":\"LinearScale\"}},\"id\":\"2281c6d3-311a-4ffd-a7fd-c64f83e5f5f2\",\"subtype\":\"Figure\",\"type\":\"Plot\"},{\"attributes\":{\"label\":{\"value\":\"CLIRAD (single-run) - CRD\"},\"renderers\":[{\"id\":\"4b50602b-e9a0-428d-8d9d-fcf10071a4d1\",\"type\":\"GlyphRenderer\"},{\"id\":\"680745fc-6fbe-4ab7-988e-deaf2bff8ca0\",\"type\":\"GlyphRenderer\"}]},\"id\":\"2c018081-7fa0-4bf5-9a40-5824150e70e1\",\"type\":\"LegendItem\"},{\"attributes\":{\"data_source\":{\"id\":\"0ed1e6f6-cac3-4cf6-8383-8660c78fd35e\",\"type\":\"ColumnDataSource\"},\"glyph\":{\"id\":\"1a12318d-267e-4bf4-9c77-33b84f918a41\",\"type\":\"Line\"},\"hover_glyph\":null,\"muted_glyph\":null,\"nonselection_glyph\":{\"id\":\"ea7d5b8a-f0e4-45a1-87a7-923f709228ef\",\"type\":\"Line\"},\"selection_glyph\":null,\"view\":{\"id\":\"b7ce6ab2-b8be-4b8a-90b7-47255dac5bab\",\"type\":\"CDSView\"}},\"id\":\"680745fc-6fbe-4ab7-988e-deaf2bff8ca0\",\"type\":\"GlyphRenderer\"},{\"attributes\":{\"callback\":null,\"data\":{\"x\":{\"__ndarray__\":\"LVz7uCfeQ8ChGUaLJfYYwCMb75vopAPAb3fOabke8j9lWIgE9JsLQOXvyvkb2g9APnR7Fi/LBkCmSIIxVTrrPyu2iXaXmu2/L3WfIbFl+r+C9ZYDcxv0v8J+sAdRy9S/UH1/Rkeq4D8IzsLpVObuP4jqcTibAe0/eTvd8oYO2T+OQTCLDt7Qv5ji9BpoXuW/V0+3xBhy5b94Z7G7lXzav/6pSlfL38G/zBgKKJYesj/I1tW4gTDBP4Gg9xnb/bm/6OHFBmFwzb/Jlv56HxKhv/EZB1BwXNE/tDFGwmnx0T+dgz8RYjK8P0oF0SHPn6A/1zw/k0lFxD8Gy+tFFBfNP2i9183Z08A/N3gKDez1dr+ErhDxWg1oP7z6DbGqTLM/FGuCmYk5qD8ZDNtblLmYvzx7mOPoprO/Rm2hQwsHtr9zgNat/qeyv3TBkyPWuay/lNouayB+pb/vTOCOl1uavx4jDSfir5C/H1Be0ivxhb9YuwufkpI/v2KxTpOelHS/zMZedMBUm7+XBGrFTJ+qv1BpC30ogKq/qPfp7IHAor8ApUU9lFmjv/JYEpkYzKq/kHn7d8SRqr/cmaU2k1ylvxjD/zelpZ+/nlGD3JJLmL/E21bacaGTv/6RwjCw64m/2h/zxmcAhL/NgBME6nGBv9orU+u8T4S/oIG6YxpWhr8lZK/mZTWEv+Zn75KUCXq/gNkHHrReOb9kVHMMU5p/P9Y9Y3OW2Is/nkfL3Nfckj+u+BL/t1+WP0aldYMAE5g/U2koibtulz9Klct3jleXPz7Rumwp5E3A\",\"dtype\":\"float64\",\"shape\":[75]},\"y\":{\"__ndarray__\":\"GhExyth1ND/Sv8nbtpRIP2vylNV0PVE/aTum7souWD/At0SJ8fVgPw3Iuahxymc/MSNhhJWvcD/bTfBN02d3P2zb5nxnaoA/CD5h5MAGhz8NmeH1TyaQP+zrCsc9p5Y/LbKd76fGnz/bLW5ISEmmPww9YvTcQq8/JV2OstnstT8Er5Y7M8G+P0c+r3jqkcU/5h99k6ZBzj88bCIzFzjVP4enV8oyxN0//yH99nXg5D8qOpLLf0jtP5kqGJXUifQ/c9cS8kHP/D+/DpwzojQEQIEmwoanVwxA4lgXt9HgE0BSSZ2AJuIbQAMJih9jjiNA5q4l5INuK0AwTKYKRj0zQNv5fmq8/DpAaCJseHrtQkB/+zpwzoxKQM3MzMzMeFJAZmZmZmZqWEAAAAAAAFxeQM3MzMzMJmJAmpmZmZkfZUBmZmZmZhhoQDMzMzMzEWtAAAAAAAAKbkBmZmZmZoFwQM3MzMzM/XFAMzMzMzN6c0CamZmZmfZ0QAAAAAAAc3ZAZmZmZmbvd0DNzMzMzGt5QDMzMzMz6HpAmpmZmZlkfEAAAAAAAOF9QGZmZmZmXX9AZmZmZuZsgECamZmZGSuBQM3MzMxM6YFAAAAAAICngkAzMzMzs2WDQGZmZmbmI4RAmpmZmRnihEDNzMzMTKCFQAAAAACAXoZAMzMzM7Mch0BmZmZm5tqHQJqZmZkZmYhAzczMzExXiUAAAAAAgBWKQDMzMzOz04pAZmZmZuaRi0CamZmZGVCMQM3MzMxMDo1AAAAAAIDMjUAzMzMzs4qOQGZmZmbmSI9A\",\"dtype\":\"float64\",\"shape\":[75]}},\"selected\":{\"id\":\"085b65eb-9c20-40a0-9147-aed0274c81d2\",\"type\":\"Selection\"},\"selection_policy\":{\"id\":\"36acdb52-dc9f-4542-b313-b8c671ce6168\",\"type\":\"UnionRenderers\"}},\"id\":\"0ed1e6f6-cac3-4cf6-8383-8660c78fd35e\",\"type\":\"ColumnDataSource\"},{\"attributes\":{\"active_drag\":\"auto\",\"active_inspect\":\"auto\",\"active_scroll\":\"auto\",\"active_tap\":\"auto\",\"tools\":[{\"id\":\"541038bb-82fb-4897-b87f-0080b2ebae6e\",\"type\":\"PanTool\"},{\"id\":\"60fc877e-1ace-4a8d-9455-10b64a0a9a19\",\"type\":\"WheelZoomTool\"},{\"id\":\"6cb97e64-2316-4a83-a386-fbb60d270c00\",\"type\":\"BoxZoomTool\"},{\"id\":\"9fcfd144-bd3a-4c35-9019-74f0a389505e\",\"type\":\"SaveTool\"},{\"id\":\"17881393-331c-4604-993b-c2a48563bd78\",\"type\":\"ResetTool\"},{\"id\":\"fcb41207-2d42-430d-ac4a-47f02fcac314\",\"type\":\"HelpTool\"}]},\"id\":\"56c3429b-5f46-44f1-b629-3d97e2482af8\",\"type\":\"Toolbar\"},{\"attributes\":{},\"id\":\"fed4f7c8-ad79-4f6d-a9d1-7714fa4c8bfe\",\"type\":\"Selection\"},{\"attributes\":{},\"id\":\"be2e78a2-3bb2-4a30-af80-8655cac4fdf0\",\"type\":\"UnionRenderers\"},{\"attributes\":{},\"id\":\"085b65eb-9c20-40a0-9147-aed0274c81d2\",\"type\":\"Selection\"},{\"attributes\":{\"fill_alpha\":{\"value\":0.1},\"fill_color\":{\"value\":\"#1f77b4\"},\"line_alpha\":{\"value\":0.1},\"line_color\":{\"value\":\"#1f77b4\"},\"x\":{\"field\":\"x\"},\"y\":{\"field\":\"y\"}},\"id\":\"b4efea42-44ee-4434-8a33-6e59a7365868\",\"type\":\"Circle\"},{\"attributes\":{\"fill_alpha\":{\"value\":0.7},\"fill_color\":{\"value\":\"#984ea3\"},\"line_alpha\":{\"value\":0.7},\"line_color\":{\"value\":\"#984ea3\"},\"x\":{\"field\":\"x\"},\"y\":{\"field\":\"y\"}},\"id\":\"3b76d83c-6280-426f-8207-5a4f60a11948\",\"type\":\"Circle\"},{\"attributes\":{},\"id\":\"87f576e6-63e5-4feb-975f-f1745fb68d34\",\"type\":\"UnionRenderers\"},{\"attributes\":{},\"id\":\"7164c0b8-7a0c-47dd-8d58-ef5bb239feff\",\"type\":\"UnionRenderers\"},{\"attributes\":{\"callback\":null,\"end\":16.436989944828248,\"start\":0.29782337493475003},\"id\":\"9378274b-996d-424a-850e-807018b49ef1\",\"type\":\"Range1d\"},{\"attributes\":{\"callback\":null,\"data\":{\"x\":{\"__ndarray__\":\"dPEGK8OVQEDeoOdcKI48QFbHwpv6Wj5Ay6P+H0H1PkDQ4Pw1Pwc+QE/QQMz8iTtA2A4AykzZN0DdjedX4NEzQGtNrhl/gDBA2D3w2wNCLUCD8yO1LFEsQMSh3yrZ2SxAddHY/lW3LUCQJQyh8TwtQDsZ7GODoSpAi6Dn/2tIJ0DnDLMq6HUkQI7khOlE0SJADOiE4G6jIkCA/E90r7ojQD4p//OgKSZA0QfX6dGqJUCyytltEichQGghgfXIYRlAYiDp91xnE0B2wNHWtrQPQJ4m9qB2vgpAeJDQ8VfQBUDZ0VLI7iYCQFfZT3TydP8/LweR0IUK/T/QULeHxNj4P2vv6z6eL/Q/zgHEDC0f8T/QFWBxKcbuP44Jru1pXOw/gHqFfZV+5z+OfasQZCrhP6t1AyXK0t0/lna9be4v3T/c2Wqej6reP35gz5e/Ud4/nMqPj0zn3D8LaSXAL2PaPwxLIAIe8tI/ycIIktEE0T/QBmDBekPcP1FO88ASwOM/Iq2sIt+z6z9G6FH1eCvyPxuVEdtBb/U/iGRHMeCT9z8UPT1a/HH4P34cIRzqbvg/BVL+/E89+D8UZw90MO/3Pxe6cKnMffc/gpFKgkbl9j+HrQkEYjP2P3zN2LsygPU/XbOBIde49D8Mb12IkenzP3WIqqFOEvM/areay8ZI8j+L6oiWEKHxPzKOAUHPLvE/uT5D5rAN8T9sYOhno1DxP+7HZ16AqPE/jCnpRRNe8T/L5uQkGIfvP9VKN758h+o/8f1zKreS5T9uCZ6e1UPhP00Gdm8buU3A\",\"dtype\":\"float64\",\"shape\":[75]},\"y\":{\"__ndarray__\":\"GhExyth1ND/Sv8nbtpRIP2vylNV0PVE/aTum7souWD/At0SJ8fVgPw3Iuahxymc/MSNhhJWvcD/bTfBN02d3P2zb5nxnaoA/CD5h5MAGhz8NmeH1TyaQP+zrCsc9p5Y/LbKd76fGnz/bLW5ISEmmPww9YvTcQq8/JV2OstnstT8Er5Y7M8G+P0c+r3jqkcU/5h99k6ZBzj88bCIzFzjVP4enV8oyxN0//yH99nXg5D8qOpLLf0jtP5kqGJXUifQ/c9cS8kHP/D+/DpwzojQEQIEmwoanVwxA4lgXt9HgE0BSSZ2AJuIbQAMJih9jjiNA5q4l5INuK0AwTKYKRj0zQNv5fmq8/DpAaCJseHrtQkB/+zpwzoxKQM3MzMzMeFJAZmZmZmZqWEAAAAAAAFxeQM3MzMzMJmJAmpmZmZkfZUBmZmZmZhhoQDMzMzMzEWtAAAAAAAAKbkBmZmZmZoFwQM3MzMzM/XFAMzMzMzN6c0CamZmZmfZ0QAAAAAAAc3ZAZmZmZmbvd0DNzMzMzGt5QDMzMzMz6HpAmpmZmZlkfEAAAAAAAOF9QGZmZmZmXX9AZmZmZuZsgECamZmZGSuBQM3MzMxM6YFAAAAAAICngkAzMzMzs2WDQGZmZmbmI4RAmpmZmRnihEDNzMzMTKCFQAAAAACAXoZAMzMzM7Mch0BmZmZm5tqHQJqZmZkZmYhAzczMzExXiUAAAAAAgBWKQDMzMzOz04pAZmZmZuaRi0CamZmZGVCMQM3MzMxMDo1AAAAAAIDMjUAzMzMzs4qOQGZmZmbmSI9A\",\"dtype\":\"float64\",\"shape\":[75]}},\"selected\":{\"id\":\"20197c50-df43-4f74-9f65-62331d74c0b0\",\"type\":\"Selection\"},\"selection_policy\":{\"id\":\"87f576e6-63e5-4feb-975f-f1745fb68d34\",\"type\":\"UnionRenderers\"}},\"id\":\"7d84d824-7d80-4e77-b7fc-4e30c5a12037\",\"type\":\"ColumnDataSource\"},{\"attributes\":{},\"id\":\"901918d0-7fa9-49cc-b43c-e1e0d35a9b11\",\"type\":\"Selection\"},{\"attributes\":{},\"id\":\"41d58bc4-badf-45bd-bc2f-d869fe820206\",\"type\":\"Selection\"},{\"attributes\":{\"callback\":null,\"data\":{\"x\":{\"__ndarray__\":\"LVz7uCfeQ8ChGUaLJfYYwCMb75vopAPAb3fOabke8j9lWIgE9JsLQOXvyvkb2g9APnR7Fi/LBkCmSIIxVTrrPyu2iXaXmu2/L3WfIbFl+r+C9ZYDcxv0v8J+sAdRy9S/UH1/Rkeq4D8IzsLpVObuP4jqcTibAe0/eTvd8oYO2T+OQTCLDt7Qv5ji9BpoXuW/V0+3xBhy5b94Z7G7lXzav/6pSlfL38G/zBgKKJYesj/I1tW4gTDBP4Gg9xnb/bm/6OHFBmFwzb/Jlv56HxKhv/EZB1BwXNE/tDFGwmnx0T+dgz8RYjK8P0oF0SHPn6A/1zw/k0lFxD8Gy+tFFBfNP2i9183Z08A/N3gKDez1dr+ErhDxWg1oP7z6DbGqTLM/FGuCmYk5qD8ZDNtblLmYvzx7mOPoprO/Rm2hQwsHtr9zgNat/qeyv3TBkyPWuay/lNouayB+pb/vTOCOl1uavx4jDSfir5C/H1Be0ivxhb9YuwufkpI/v2KxTpOelHS/zMZedMBUm7+XBGrFTJ+qv1BpC30ogKq/qPfp7IHAor8ApUU9lFmjv/JYEpkYzKq/kHn7d8SRqr/cmaU2k1ylvxjD/zelpZ+/nlGD3JJLmL/E21bacaGTv/6RwjCw64m/2h/zxmcAhL/NgBME6nGBv9orU+u8T4S/oIG6YxpWhr8lZK/mZTWEv+Zn75KUCXq/gNkHHrReOb9kVHMMU5p/P9Y9Y3OW2Is/nkfL3Nfckj+u+BL/t1+WP0aldYMAE5g/U2koibtulz9Klct3jleXPz7Rumwp5E3A\",\"dtype\":\"float64\",\"shape\":[75]},\"y\":{\"__ndarray__\":\"GhExyth1ND/Sv8nbtpRIP2vylNV0PVE/aTum7souWD/At0SJ8fVgPw3Iuahxymc/MSNhhJWvcD/bTfBN02d3P2zb5nxnaoA/CD5h5MAGhz8NmeH1TyaQP+zrCsc9p5Y/LbKd76fGnz/bLW5ISEmmPww9YvTcQq8/JV2OstnstT8Er5Y7M8G+P0c+r3jqkcU/5h99k6ZBzj88bCIzFzjVP4enV8oyxN0//yH99nXg5D8qOpLLf0jtP5kqGJXUifQ/c9cS8kHP/D+/DpwzojQEQIEmwoanVwxA4lgXt9HgE0BSSZ2AJuIbQAMJih9jjiNA5q4l5INuK0AwTKYKRj0zQNv5fmq8/DpAaCJseHrtQkB/+zpwzoxKQM3MzMzMeFJAZmZmZmZqWEAAAAAAAFxeQM3MzMzMJmJAmpmZmZkfZUBmZmZmZhhoQDMzMzMzEWtAAAAAAAAKbkBmZmZmZoFwQM3MzMzM/XFAMzMzMzN6c0CamZmZmfZ0QAAAAAAAc3ZAZmZmZmbvd0DNzMzMzGt5QDMzMzMz6HpAmpmZmZlkfEAAAAAAAOF9QGZmZmZmXX9AZmZmZuZsgECamZmZGSuBQM3MzMxM6YFAAAAAAICngkAzMzMzs2WDQGZmZmbmI4RAmpmZmRnihEDNzMzMTKCFQAAAAACAXoZAMzMzM7Mch0BmZmZm5tqHQJqZmZkZmYhAzczMzExXiUAAAAAAgBWKQDMzMzOz04pAZmZmZuaRi0CamZmZGVCMQM3MzMxMDo1AAAAAAIDMjUAzMzMzs4qOQGZmZmbmSI9A\",\"dtype\":\"float64\",\"shape\":[75]}},\"selected\":{\"id\":\"4cbcd937-097b-4e7a-83a7-d72dd2bfe558\",\"type\":\"Selection\"},\"selection_policy\":{\"id\":\"8e2cb1be-9ac0-47ee-99fe-f51017b9e9ee\",\"type\":\"UnionRenderers\"}},\"id\":\"8c89b153-33fd-400e-9600-2b8d807ba175\",\"type\":\"ColumnDataSource\"},{\"attributes\":{\"children\":[{\"id\":\"2281c6d3-311a-4ffd-a7fd-c64f83e5f5f2\",\"subtype\":\"Figure\",\"type\":\"Plot\"},{\"id\":\"d8509e75-2931-4b02-a08b-85fb41ba8793\",\"subtype\":\"Figure\",\"type\":\"Plot\"},{\"id\":\"699b96f0-c0c8-4a24-8669-841814a8296e\",\"subtype\":\"Figure\",\"type\":\"Plot\"}]},\"id\":\"ed24cd0b-edf2-40e5-b3a6-bee18b69f386\",\"type\":\"Row\"},{\"attributes\":{\"plot\":null,\"text\":\"\"},\"id\":\"a9346d8f-3693-49cb-9213-1a21631eff36\",\"type\":\"Title\"},{\"attributes\":{\"children\":[{\"id\":\"ed24cd0b-edf2-40e5-b3a6-bee18b69f386\",\"type\":\"Row\"}]},\"id\":\"0fe6d97d-5477-4422-aa4c-1848c96cea74\",\"type\":\"Column\"},{\"attributes\":{},\"id\":\"36acdb52-dc9f-4542-b313-b8c671ce6168\",\"type\":\"UnionRenderers\"},{\"attributes\":{\"data_source\":{\"id\":\"c2c300e1-b1a5-44ee-907a-846eb8b52d1f\",\"type\":\"ColumnDataSource\"},\"glyph\":{\"id\":\"6dfe1124-574f-485d-9c75-e9443644fc15\",\"type\":\"Circle\"},\"hover_glyph\":null,\"muted_glyph\":null,\"nonselection_glyph\":{\"id\":\"b4efea42-44ee-4434-8a33-6e59a7365868\",\"type\":\"Circle\"},\"selection_glyph\":null,\"view\":{\"id\":\"6607e717-cb74-4899-81c7-1249aa69fdb3\",\"type\":\"CDSView\"}},\"id\":\"10f06206-1cc0-4847-a35c-c3d910452591\",\"type\":\"GlyphRenderer\"},{\"attributes\":{\"source\":{\"id\":\"8c89b153-33fd-400e-9600-2b8d807ba175\",\"type\":\"ColumnDataSource\"}},\"id\":\"21e06d6f-2144-48bc-a2c1-b638b47e9fda\",\"type\":\"CDSView\"},{\"attributes\":{},\"id\":\"dfda4293-fb00-41d8-a467-6683ec901bc7\",\"type\":\"UnionRenderers\"},{\"attributes\":{\"overlay\":{\"id\":\"a82dc8ba-ee8f-4f6a-8e3c-fe9b0e06f6e0\",\"type\":\"BoxAnnotation\"}},\"id\":\"382ae135-64f4-4656-aa8c-e510182243d7\",\"type\":\"BoxZoomTool\"},{\"attributes\":{\"dimension\":1,\"plot\":{\"id\":\"699b96f0-c0c8-4a24-8669-841814a8296e\",\"subtype\":\"Figure\",\"type\":\"Plot\"},\"ticker\":{\"id\":\"3449116d-55be-46a1-ad9f-bb024ef8d6b9\",\"type\":\"LogTicker\"}},\"id\":\"febbb2c4-7b1d-4f65-85ff-36879bfd67c9\",\"type\":\"Grid\"},{\"attributes\":{},\"id\":\"dc6a528c-9c55-4cdb-a188-c857c09b0e77\",\"type\":\"BasicTickFormatter\"},{\"attributes\":{\"line_color\":\"#4daf4a\",\"line_width\":1.5,\"x\":{\"field\":\"x\"},\"y\":{\"field\":\"y\"}},\"id\":\"76781130-6262-4e8e-a8fa-2849663d9c41\",\"type\":\"Line\"},{\"attributes\":{\"callback\":null,\"data\":{\"x\":{\"__ndarray__\":\"0CYBcvU5UkCik9zf2GVBQF1VoNfLZ0BAVLxhiVXTPUDD1Wu1wJM6QFJyB025jjdAU6Aw5+b/NECYe1uuDfgyQB6bYtVTbTFAPxYSAF1HMEA00pYVm9QuQLolHbMzgC1AntlwirGsLECv+G9SjE4rQJH6ZLBp0ShAsLZQyPd/JkDyjgyf2PwkQLgyNGsrJyRAA13QbJD6I0C8hy0ilI4kQOVTXCEgcSZAovOGvZSGJUBVc/ZmUOIgQOf/6GHAyRlAcE8fAOBSFEDRur1U//gPQGFD9ZbokghAQsqHuSqSA0C91ci3W0UBQCtRQfvz7/4/kh8pntyB+j9t1/n+4TX1P773MAUjFfI/RgzR+CI28T8hBW8WHK7uPzVKjJfU8uk/0FPt4/z65T/wVYqzMPDhPz7K9C5CXuE/8+hSn9hY4T/9PPCkR6rhP1XsIC599OA/66X1nBCX3z/YbRM56QjcPz4dkSQc/dM/S7Wb8Fq00T+/yQdmX0vcP7TrGf476eM/WqNPJoWO7D9qOH1bcwDzP2bw+R5DQ/Y/RLSuQOQp+D8+aif8yAz5P0Wv6eBKRfk/0i2+IN4R+T/ik8QNFZr4PyS5UD5j/Pc/yJ68zXRG9z/2CHPL54H2P59SOhwKtPU/npkP8dfg9D8NlmVcdQz0P80ugRvuOvM/byxiAHN18j9USVZie8nxP5l9lNXYSPE/OB+F0UYP8T8Y7dsUCTHxP3EBgTHPcPE/bfx15p8S8T8FT+xkGtTuP6mdG7rkxuk/pboqTkHX5D/CrN8qGYngP7R4ZaL+htU/\",\"dtype\":\"float64\",\"shape\":[75]},\"y\":{\"__ndarray__\":\"GhExyth1ND/Sv8nbtpRIP2vylNV0PVE/aTum7souWD/At0SJ8fVgPw3Iuahxymc/MSNhhJWvcD/bTfBN02d3P2zb5nxnaoA/CD5h5MAGhz8NmeH1TyaQP+zrCsc9p5Y/LbKd76fGnz/bLW5ISEmmPww9YvTcQq8/JV2OstnstT8Er5Y7M8G+P0c+r3jqkcU/5h99k6ZBzj88bCIzFzjVP4enV8oyxN0//yH99nXg5D8qOpLLf0jtP5kqGJXUifQ/c9cS8kHP/D+/DpwzojQEQIEmwoanVwxA4lgXt9HgE0BSSZ2AJuIbQAMJih9jjiNA5q4l5INuK0AwTKYKRj0zQNv5fmq8/DpAaCJseHrtQkB/+zpwzoxKQM3MzMzMeFJAZmZmZmZqWEAAAAAAAFxeQM3MzMzMJmJAmpmZmZkfZUBmZmZmZhhoQDMzMzMzEWtAAAAAAAAKbkBmZmZmZoFwQM3MzMzM/XFAMzMzMzN6c0CamZmZmfZ0QAAAAAAAc3ZAZmZmZmbvd0DNzMzMzGt5QDMzMzMz6HpAmpmZmZlkfEAAAAAAAOF9QGZmZmZmXX9AZmZmZuZsgECamZmZGSuBQM3MzMxM6YFAAAAAAICngkAzMzMzs2WDQGZmZmbmI4RAmpmZmRnihEDNzMzMTKCFQAAAAACAXoZAMzMzM7Mch0BmZmZm5tqHQJqZmZkZmYhAzczMzExXiUAAAAAAgBWKQDMzMzOz04pAZmZmZuaRi0CamZmZGVCMQM3MzMxMDo1AAAAAAIDMjUAzMzMzs4qOQGZmZmbmSI9A\",\"dtype\":\"float64\",\"shape\":[75]}},\"selected\":{\"id\":\"6209c85c-a1d3-46fa-adaa-3880891bf977\",\"type\":\"Selection\"},\"selection_policy\":{\"id\":\"3b3d3c3e-7199-43a4-aaba-7749579b0105\",\"type\":\"UnionRenderers\"}},\"id\":\"a8bfd7d6-f4ce-4e7d-8595-e219d284beaa\",\"type\":\"ColumnDataSource\"},{\"attributes\":{},\"id\":\"3429a108-049c-408e-ab6e-857c7d549de9\",\"type\":\"ResetTool\"},{\"attributes\":{\"label\":{\"value\":\"CLIRAD (single-run)\"},\"renderers\":[{\"id\":\"df905223-9768-40ad-8853-2304ca1830c6\",\"type\":\"GlyphRenderer\"}]},\"id\":\"b991e426-1bd2-45d4-ac93-90f236254066\",\"type\":\"LegendItem\"},{\"attributes\":{\"fill_alpha\":{\"value\":0.7},\"fill_color\":{\"value\":\"#4daf4a\"},\"line_alpha\":{\"value\":0.7},\"line_color\":{\"value\":\"#4daf4a\"},\"x\":{\"field\":\"x\"},\"y\":{\"field\":\"y\"}},\"id\":\"a7db7d5b-770e-4cf8-af8d-9f0a952a5998\",\"type\":\"Circle\"},{\"attributes\":{\"overlay\":{\"id\":\"1744459f-122d-4ef7-b4d3-6404180bc5a6\",\"type\":\"BoxAnnotation\"}},\"id\":\"6cb97e64-2316-4a83-a386-fbb60d270c00\",\"type\":\"BoxZoomTool\"},{\"attributes\":{\"line_alpha\":0.1,\"line_color\":\"#1f77b4\",\"line_dash\":[6],\"line_width\":5,\"x\":{\"field\":\"x\"},\"y\":{\"field\":\"y\"}},\"id\":\"af732681-ce0b-4f72-bfc3-ddcefd6eca23\",\"type\":\"Line\"},{\"attributes\":{\"plot\":{\"id\":\"699b96f0-c0c8-4a24-8669-841814a8296e\",\"subtype\":\"Figure\",\"type\":\"Plot\"},\"ticker\":{\"id\":\"52cf8d9a-8eae-4501-b775-792df26ffac3\",\"type\":\"BasicTicker\"}},\"id\":\"27619194-a2eb-475f-8934-b7b8fa0401fe\",\"type\":\"Grid\"},{\"attributes\":{\"line_alpha\":0.1,\"line_color\":\"#1f77b4\",\"line_width\":1.5,\"x\":{\"field\":\"x\"},\"y\":{\"field\":\"y\"}},\"id\":\"ea7d5b8a-f0e4-45a1-87a7-923f709228ef\",\"type\":\"Line\"},{\"attributes\":{\"data_source\":{\"id\":\"213fe96c-114f-4d72-9379-e6214aff9567\",\"type\":\"ColumnDataSource\"},\"glyph\":{\"id\":\"15b2652d-cb87-4f9a-990b-6c44da522dca\",\"type\":\"Line\"},\"hover_glyph\":null,\"muted_glyph\":null,\"nonselection_glyph\":{\"id\":\"af732681-ce0b-4f72-bfc3-ddcefd6eca23\",\"type\":\"Line\"},\"selection_glyph\":null,\"view\":{\"id\":\"ffd64147-73de-404a-91b2-94b477305990\",\"type\":\"CDSView\"}},\"id\":\"9a6d959a-f9ce-4afb-b839-f38c6053b148\",\"type\":\"GlyphRenderer\"},{\"attributes\":{},\"id\":\"12af38ed-3f1b-4928-8f6c-0b9a5422bd72\",\"type\":\"HelpTool\"},{\"attributes\":{},\"id\":\"72b36a13-ad88-481a-be4f-c16c1dc0ba2d\",\"type\":\"SaveTool\"},{\"attributes\":{\"source\":{\"id\":\"e8e8ac2e-eb01-4528-bb4a-5809cc44c260\",\"type\":\"ColumnDataSource\"}},\"id\":\"12a84255-0ab2-41e9-a250-3e214770a3f6\",\"type\":\"CDSView\"},{\"attributes\":{\"callback\":null,\"data\":{\"x\":{\"__ndarray__\":\"dPEGK8OVQEDeoOdcKI48QFbHwpv6Wj5Ay6P+H0H1PkDQ4Pw1Pwc+QE/QQMz8iTtA2A4AykzZN0DdjedX4NEzQGtNrhl/gDBA2D3w2wNCLUCD8yO1LFEsQMSh3yrZ2SxAddHY/lW3LUCQJQyh8TwtQDsZ7GODoSpAi6Dn/2tIJ0DnDLMq6HUkQI7khOlE0SJADOiE4G6jIkCA/E90r7ojQD4p//OgKSZA0QfX6dGqJUCyytltEichQGghgfXIYRlAYiDp91xnE0B2wNHWtrQPQJ4m9qB2vgpAeJDQ8VfQBUDZ0VLI7iYCQFfZT3TydP8/LweR0IUK/T/QULeHxNj4P2vv6z6eL/Q/zgHEDC0f8T/QFWBxKcbuP44Jru1pXOw/gHqFfZV+5z+OfasQZCrhP6t1AyXK0t0/lna9be4v3T/c2Wqej6reP35gz5e/Ud4/nMqPj0zn3D8LaSXAL2PaPwxLIAIe8tI/ycIIktEE0T/QBmDBekPcP1FO88ASwOM/Iq2sIt+z6z9G6FH1eCvyPxuVEdtBb/U/iGRHMeCT9z8UPT1a/HH4P34cIRzqbvg/BVL+/E89+D8UZw90MO/3Pxe6cKnMffc/gpFKgkbl9j+HrQkEYjP2P3zN2LsygPU/XbOBIde49D8Mb12IkenzP3WIqqFOEvM/areay8ZI8j+L6oiWEKHxPzKOAUHPLvE/uT5D5rAN8T9sYOhno1DxP+7HZ16AqPE/jCnpRRNe8T/L5uQkGIfvP9VKN758h+o/8f1zKreS5T9uCZ6e1UPhP00Gdm8buU3A\",\"dtype\":\"float64\",\"shape\":[75]},\"y\":{\"__ndarray__\":\"GhExyth1ND/Sv8nbtpRIP2vylNV0PVE/aTum7souWD/At0SJ8fVgPw3Iuahxymc/MSNhhJWvcD/bTfBN02d3P2zb5nxnaoA/CD5h5MAGhz8NmeH1TyaQP+zrCsc9p5Y/LbKd76fGnz/bLW5ISEmmPww9YvTcQq8/JV2OstnstT8Er5Y7M8G+P0c+r3jqkcU/5h99k6ZBzj88bCIzFzjVP4enV8oyxN0//yH99nXg5D8qOpLLf0jtP5kqGJXUifQ/c9cS8kHP/D+/DpwzojQEQIEmwoanVwxA4lgXt9HgE0BSSZ2AJuIbQAMJih9jjiNA5q4l5INuK0AwTKYKRj0zQNv5fmq8/DpAaCJseHrtQkB/+zpwzoxKQM3MzMzMeFJAZmZmZmZqWEAAAAAAAFxeQM3MzMzMJmJAmpmZmZkfZUBmZmZmZhhoQDMzMzMzEWtAAAAAAAAKbkBmZmZmZoFwQM3MzMzM/XFAMzMzMzN6c0CamZmZmfZ0QAAAAAAAc3ZAZmZmZmbvd0DNzMzMzGt5QDMzMzMz6HpAmpmZmZlkfEAAAAAAAOF9QGZmZmZmXX9AZmZmZuZsgECamZmZGSuBQM3MzMxM6YFAAAAAAICngkAzMzMzs2WDQGZmZmbmI4RAmpmZmRnihEDNzMzMTKCFQAAAAACAXoZAMzMzM7Mch0BmZmZm5tqHQJqZmZkZmYhAzczMzExXiUAAAAAAgBWKQDMzMzOz04pAZmZmZuaRi0CamZmZGVCMQM3MzMxMDo1AAAAAAIDMjUAzMzMzs4qOQGZmZmbmSI9A\",\"dtype\":\"float64\",\"shape\":[75]}},\"selected\":{\"id\":\"901918d0-7fa9-49cc-b43c-e1e0d35a9b11\",\"type\":\"Selection\"},\"selection_policy\":{\"id\":\"a1aca3e9-79e4-44d5-aead-222dcc72d7f7\",\"type\":\"UnionRenderers\"}},\"id\":\"213fe96c-114f-4d72-9379-e6214aff9567\",\"type\":\"ColumnDataSource\"},{\"attributes\":{\"callback\":null,\"data\":{\"x\":{\"__ndarray__\":\"0CYBcvU5UkCik9zf2GVBQF1VoNfLZ0BAVLxhiVXTPUDD1Wu1wJM6QFJyB025jjdAU6Aw5+b/NECYe1uuDfgyQB6bYtVTbTFAPxYSAF1HMEA00pYVm9QuQLolHbMzgC1AntlwirGsLECv+G9SjE4rQJH6ZLBp0ShAsLZQyPd/JkDyjgyf2PwkQLgyNGsrJyRAA13QbJD6I0C8hy0ilI4kQOVTXCEgcSZAovOGvZSGJUBVc/ZmUOIgQOf/6GHAyRlAcE8fAOBSFEDRur1U//gPQGFD9ZbokghAQsqHuSqSA0C91ci3W0UBQCtRQfvz7/4/kh8pntyB+j9t1/n+4TX1P773MAUjFfI/RgzR+CI28T8hBW8WHK7uPzVKjJfU8uk/0FPt4/z65T/wVYqzMPDhPz7K9C5CXuE/8+hSn9hY4T/9PPCkR6rhP1XsIC599OA/66X1nBCX3z/YbRM56QjcPz4dkSQc/dM/S7Wb8Fq00T+/yQdmX0vcP7TrGf476eM/WqNPJoWO7D9qOH1bcwDzP2bw+R5DQ/Y/RLSuQOQp+D8+aif8yAz5P0Wv6eBKRfk/0i2+IN4R+T/ik8QNFZr4PyS5UD5j/Pc/yJ68zXRG9z/2CHPL54H2P59SOhwKtPU/npkP8dfg9D8NlmVcdQz0P80ugRvuOvM/byxiAHN18j9USVZie8nxP5l9lNXYSPE/OB+F0UYP8T8Y7dsUCTHxP3EBgTHPcPE/bfx15p8S8T8FT+xkGtTuP6mdG7rkxuk/pboqTkHX5D/CrN8qGYngP7R4ZaL+htU/\",\"dtype\":\"float64\",\"shape\":[75]},\"y\":{\"__ndarray__\":\"GhExyth1ND/Sv8nbtpRIP2vylNV0PVE/aTum7souWD/At0SJ8fVgPw3Iuahxymc/MSNhhJWvcD/bTfBN02d3P2zb5nxnaoA/CD5h5MAGhz8NmeH1TyaQP+zrCsc9p5Y/LbKd76fGnz/bLW5ISEmmPww9YvTcQq8/JV2OstnstT8Er5Y7M8G+P0c+r3jqkcU/5h99k6ZBzj88bCIzFzjVP4enV8oyxN0//yH99nXg5D8qOpLLf0jtP5kqGJXUifQ/c9cS8kHP/D+/DpwzojQEQIEmwoanVwxA4lgXt9HgE0BSSZ2AJuIbQAMJih9jjiNA5q4l5INuK0AwTKYKRj0zQNv5fmq8/DpAaCJseHrtQkB/+zpwzoxKQM3MzMzMeFJAZmZmZmZqWEAAAAAAAFxeQM3MzMzMJmJAmpmZmZkfZUBmZmZmZhhoQDMzMzMzEWtAAAAAAAAKbkBmZmZmZoFwQM3MzMzM/XFAMzMzMzN6c0CamZmZmfZ0QAAAAAAAc3ZAZmZmZmbvd0DNzMzMzGt5QDMzMzMz6HpAmpmZmZlkfEAAAAAAAOF9QGZmZmZmXX9AZmZmZuZsgECamZmZGSuBQM3MzMxM6YFAAAAAAICngkAzMzMzs2WDQGZmZmbmI4RAmpmZmRnihEDNzMzMTKCFQAAAAACAXoZAMzMzM7Mch0BmZmZm5tqHQJqZmZkZmYhAzczMzExXiUAAAAAAgBWKQDMzMzOz04pAZmZmZuaRi0CamZmZGVCMQM3MzMxMDo1AAAAAAIDMjUAzMzMzs4qOQGZmZmbmSI9A\",\"dtype\":\"float64\",\"shape\":[75]}},\"selected\":{\"id\":\"1efbdc35-8906-4a3d-bd91-cc171ff5e8d2\",\"type\":\"Selection\"},\"selection_policy\":{\"id\":\"dfda4293-fb00-41d8-a467-6683ec901bc7\",\"type\":\"UnionRenderers\"}},\"id\":\"e8e8ac2e-eb01-4528-bb4a-5809cc44c260\",\"type\":\"ColumnDataSource\"},{\"attributes\":{\"above\":[{\"id\":\"693864c3-2e53-4254-85c7-ce059995b0ed\",\"type\":\"Legend\"}],\"below\":[{\"id\":\"a841bf2c-19fc-4595-a956-f9544dca76a4\",\"type\":\"LinearAxis\"}],\"left\":[{\"id\":\"bdfcc54b-087f-4ff1-84a3-64d3d5d38d9d\",\"type\":\"LogAxis\"}],\"plot_width\":300,\"renderers\":[{\"id\":\"a841bf2c-19fc-4595-a956-f9544dca76a4\",\"type\":\"LinearAxis\"},{\"id\":\"27619194-a2eb-475f-8934-b7b8fa0401fe\",\"type\":\"Grid\"},{\"id\":\"bdfcc54b-087f-4ff1-84a3-64d3d5d38d9d\",\"type\":\"LogAxis\"},{\"id\":\"febbb2c4-7b1d-4f65-85ff-36879bfd67c9\",\"type\":\"Grid\"},{\"id\":\"1744459f-122d-4ef7-b4d3-6404180bc5a6\",\"type\":\"BoxAnnotation\"},{\"id\":\"4b50602b-e9a0-428d-8d9d-fcf10071a4d1\",\"type\":\"GlyphRenderer\"},{\"id\":\"680745fc-6fbe-4ab7-988e-deaf2bff8ca0\",\"type\":\"GlyphRenderer\"},{\"id\":\"693864c3-2e53-4254-85c7-ce059995b0ed\",\"type\":\"Legend\"}],\"title\":{\"id\":\"70f08177-fb70-496a-8198-3559df7606e9\",\"type\":\"Title\"},\"toolbar\":{\"id\":\"56c3429b-5f46-44f1-b629-3d97e2482af8\",\"type\":\"Toolbar\"},\"toolbar_location\":null,\"x_range\":{\"id\":\"8eea07b1-8e02-4770-8ae6-acbb7b3cf979\",\"type\":\"Range1d\"},\"x_scale\":{\"id\":\"11be0a8f-8a61-44b8-ad83-70f553393d9d\",\"type\":\"LinearScale\"},\"y_range\":{\"id\":\"c7b1196b-5298-4e56-b866-e90177ecd6a2\",\"type\":\"Range1d\"},\"y_scale\":{\"id\":\"b67911b2-fb2f-4fe7-9ec6-c8a94bc21eb9\",\"type\":\"LogScale\"}},\"id\":\"699b96f0-c0c8-4a24-8669-841814a8296e\",\"subtype\":\"Figure\",\"type\":\"Plot\"},{\"attributes\":{\"num_minor_ticks\":10},\"id\":\"3449116d-55be-46a1-ad9f-bb024ef8d6b9\",\"type\":\"LogTicker\"},{\"attributes\":{\"line_alpha\":0.8,\"line_color\":\"#984ea3\",\"line_width\":1.5,\"x\":{\"field\":\"x\"},\"y\":{\"field\":\"y\"}},\"id\":\"1a12318d-267e-4bf4-9c77-33b84f918a41\",\"type\":\"Line\"},{\"attributes\":{\"source\":{\"id\":\"c2c300e1-b1a5-44ee-907a-846eb8b52d1f\",\"type\":\"ColumnDataSource\"}},\"id\":\"6607e717-cb74-4899-81c7-1249aa69fdb3\",\"type\":\"CDSView\"},{\"attributes\":{\"axis_label\":\"pressure [mb]\",\"formatter\":{\"id\":\"d3b21782-c0ce-43a3-bbc6-b01947d00278\",\"type\":\"LogTickFormatter\"},\"plot\":{\"id\":\"699b96f0-c0c8-4a24-8669-841814a8296e\",\"subtype\":\"Figure\",\"type\":\"Plot\"},\"ticker\":{\"id\":\"3449116d-55be-46a1-ad9f-bb024ef8d6b9\",\"type\":\"LogTicker\"}},\"id\":\"bdfcc54b-087f-4ff1-84a3-64d3d5d38d9d\",\"type\":\"LogAxis\"},{\"attributes\":{\"line_alpha\":0.1,\"line_color\":\"#1f77b4\",\"line_width\":1.5,\"x\":{\"field\":\"x\"},\"y\":{\"field\":\"y\"}},\"id\":\"27ec6a05-fce7-4edc-b4cb-654b9277fb7b\",\"type\":\"Line\"},{\"attributes\":{},\"id\":\"8c122fdb-63fa-4687-bb1e-173188be74d3\",\"type\":\"WheelZoomTool\"},{\"attributes\":{},\"id\":\"708e3870-2316-44e3-962b-31e1b83ed8f5\",\"type\":\"PanTool\"}],\"root_ids\":[\"3fd24a66-b380-4291-b2e8-5db39acfbf79\"]},\"title\":\"Bokeh Application\",\"version\":\"0.12.16\"}};\n",
       "  var render_items = [{\"docid\":\"29a5f99e-e8bf-4aea-a3e2-8c415dabaf3a\",\"elementid\":\"cfaacc90-bcaa-4d9f-8a19-4fcf5c64bded\",\"modelid\":\"3fd24a66-b380-4291-b2e8-5db39acfbf79\"}];\n",
       "  root.Bokeh.embed.embed_items_notebook(docs_json, render_items);\n",
       "\n",
       "  }\n",
       "  if (root.Bokeh !== undefined) {\n",
       "    embed_document(root);\n",
       "  } else {\n",
       "    var attempts = 0;\n",
       "    var timer = setInterval(function(root) {\n",
       "      if (root.Bokeh !== undefined) {\n",
       "        embed_document(root);\n",
       "        clearInterval(timer);\n",
       "      }\n",
       "      attempts++;\n",
       "      if (attempts > 100) {\n",
       "        console.log(\"Bokeh: ERROR: Unable to run BokehJS code because BokehJS library is missing\")\n",
       "        clearInterval(timer);\n",
       "      }\n",
       "    }, 10, root)\n",
       "  }\n",
       "})(window);"
      ],
      "application/vnd.bokehjs_exec.v0+json": ""
     },
     "metadata": {
      "application/vnd.bokehjs_exec.v0+json": {
       "id": "3fd24a66-b380-4291-b2e8-5db39acfbf79"
      }
     },
     "output_type": "display_data"
    },
    {
     "data": {
      "text/markdown": [
       "*FIGURE.* Cooling rates & difference."
      ],
      "text/plain": [
       "<IPython.core.display.Markdown object>"
      ]
     },
     "metadata": {},
     "output_type": "display_data"
    },
    {
     "data": {
      "text/html": [
       "<a id=\"Fluxes._saw.\"></a>"
      ],
      "text/plain": [
       "<IPython.core.display.HTML object>"
      ]
     },
     "metadata": {},
     "output_type": "display_data"
    },
    {
     "data": {
      "text/markdown": [
       "# Fluxes. saw."
      ],
      "text/plain": [
       "<IPython.core.display.Markdown object>"
      ]
     },
     "metadata": {},
     "output_type": "display_data"
    },
    {
     "data": {
      "text/html": [
       "\n",
       "<div class=\"bk-root\">\n",
       "    <div class=\"bk-plotdiv\" id=\"cdf06354-6705-4506-9d06-a8346df198af\"></div>\n",
       "</div>"
      ]
     },
     "metadata": {},
     "output_type": "display_data"
    },
    {
     "data": {
      "application/javascript": [
       "(function(root) {\n",
       "  function embed_document(root) {\n",
       "    \n",
       "  var docs_json = {\"53d9805f-0025-4d4e-b925-397bfe89fd86\":{\"roots\":{\"references\":[{\"attributes\":{},\"id\":\"8b1a2e4d-9f6a-4108-814f-833a5c15a404\",\"type\":\"SaveTool\"},{\"attributes\":{\"axis_label\":\"flux (W m-2)\",\"formatter\":{\"id\":\"4b4ae4a5-943b-4893-abf8-5074e97dfef0\",\"type\":\"BasicTickFormatter\"},\"plot\":{\"id\":\"e5f2f9f1-be76-407e-b557-569b35817b17\",\"subtype\":\"Figure\",\"type\":\"Plot\"},\"ticker\":{\"id\":\"4792b3a3-b309-45be-a94b-597ca4f3c36d\",\"type\":\"BasicTicker\"}},\"id\":\"3960a904-dec4-47c2-91b3-6d66414446cb\",\"type\":\"LinearAxis\"},{\"attributes\":{},\"id\":\"c1b94d7d-aec3-4d6a-8fdb-e4a100b21964\",\"type\":\"CategoricalTickFormatter\"},{\"attributes\":{},\"id\":\"8455d935-f2e6-494b-8dd8-94d2870b4bc5\",\"type\":\"LinearScale\"},{\"attributes\":{\"active_drag\":\"auto\",\"active_inspect\":\"auto\",\"active_scroll\":\"auto\",\"active_tap\":\"auto\",\"tools\":[{\"id\":\"b02bda90-4f5f-4548-b0c1-ac1f5bfe9076\",\"type\":\"PanTool\"},{\"id\":\"f6400496-60ca-4530-86dc-eba09be4b4f7\",\"type\":\"WheelZoomTool\"},{\"id\":\"30edb71e-2b35-4cf6-a46b-8cde23cbccac\",\"type\":\"BoxZoomTool\"},{\"id\":\"8b1a2e4d-9f6a-4108-814f-833a5c15a404\",\"type\":\"SaveTool\"},{\"id\":\"4975508c-05ec-43eb-984d-2090aac41544\",\"type\":\"ResetTool\"},{\"id\":\"62ebdf5a-f1f1-4c36-adcf-eb883478a811\",\"type\":\"HelpTool\"}]},\"id\":\"471fea04-1c31-4a40-a10a-3b8fb3e84e9b\",\"type\":\"Toolbar\"},{\"attributes\":{},\"id\":\"e9937bb1-19b9-4b30-b7d4-b0b0558ca1f7\",\"type\":\"CategoricalTickFormatter\"},{\"attributes\":{},\"id\":\"d1a27eac-8622-4f6e-a8db-440a845d3899\",\"type\":\"UnionRenderers\"},{\"attributes\":{\"data_source\":{\"id\":\"41f8d452-92d0-4c32-a322-18e5f3405026\",\"type\":\"ColumnDataSource\"},\"glyph\":{\"id\":\"b13128a6-07cb-4f09-8bb0-e47552c38ad1\",\"type\":\"VBar\"},\"hover_glyph\":null,\"muted_glyph\":null,\"nonselection_glyph\":{\"id\":\"2ef0c88d-0f26-4a0d-9fe9-ffc7ebd60eec\",\"type\":\"VBar\"},\"selection_glyph\":null,\"view\":{\"id\":\"42d24c93-6ba9-4b2b-b4b7-ce93de01aad5\",\"type\":\"CDSView\"}},\"id\":\"6c67018c-ebc7-4639-bf68-ab011dc07819\",\"type\":\"GlyphRenderer\"},{\"attributes\":{\"callback\":null,\"factors\":[\"1\",\"2\",\"3\",\"4\",\"5\",\"6\",\"7\",\"8\",\"9\",\"10\",\"11\"]},\"id\":\"9fd72edb-3bc3-4b6a-9267-6be03ba5a93e\",\"type\":\"FactorRange\"},{\"attributes\":{\"bottom_units\":\"screen\",\"fill_alpha\":{\"value\":0.5},\"fill_color\":{\"value\":\"lightgrey\"},\"left_units\":\"screen\",\"level\":\"overlay\",\"line_alpha\":{\"value\":1.0},\"line_color\":{\"value\":\"black\"},\"line_dash\":[4,4],\"line_width\":{\"value\":2},\"plot\":null,\"render_mode\":\"css\",\"right_units\":\"screen\",\"top_units\":\"screen\"},\"id\":\"01dfb160-e2b7-438c-abcd-8da90353452b\",\"type\":\"BoxAnnotation\"},{\"attributes\":{\"data_source\":{\"id\":\"13ef7b3f-60fb-4a13-88c6-2695f3849b89\",\"type\":\"ColumnDataSource\"},\"glyph\":{\"id\":\"8d6aa165-b8c6-4864-82aa-8b7466460e24\",\"type\":\"VBar\"},\"hover_glyph\":null,\"muted_glyph\":null,\"nonselection_glyph\":{\"id\":\"94471f5c-acb2-42ff-b5f3-57d60bd6ce23\",\"type\":\"VBar\"},\"selection_glyph\":null,\"view\":{\"id\":\"cd5fda3f-fe60-4307-8e6a-a3aa7341dbcd\",\"type\":\"CDSView\"}},\"id\":\"77f9f596-dd9d-466d-b942-50da9c00aa41\",\"type\":\"GlyphRenderer\"},{\"attributes\":{\"fill_alpha\":{\"value\":0.1},\"fill_color\":{\"value\":\"#1f77b4\"},\"line_alpha\":{\"value\":0.1},\"line_color\":{\"value\":\"#1f77b4\"},\"top\":{\"field\":\"flux\"},\"width\":{\"value\":0.9},\"x\":{\"field\":\"band\"}},\"id\":\"ee1b4255-2b1f-4a69-b178-6615eb0eac89\",\"type\":\"VBar\"},{\"attributes\":{\"overlay\":{\"id\":\"01dfb160-e2b7-438c-abcd-8da90353452b\",\"type\":\"BoxAnnotation\"}},\"id\":\"9a4b0f9d-b8e0-409b-a5da-e248111bc10d\",\"type\":\"BoxZoomTool\"},{\"attributes\":{\"dimension\":1,\"plot\":{\"id\":\"ec83e13b-441d-4c75-b7a5-80586b768a78\",\"subtype\":\"Figure\",\"type\":\"Plot\"},\"ticker\":{\"id\":\"e9d9fcc8-4b81-44ef-a519-0d75afc313ce\",\"type\":\"BasicTicker\"}},\"id\":\"3f3e40a1-2866-4d2c-8d34-2acb295c0b6d\",\"type\":\"Grid\"},{\"attributes\":{},\"id\":\"3f081c75-1822-4e3a-9c13-accb526bdbd7\",\"type\":\"Selection\"},{\"attributes\":{},\"id\":\"f5a39f72-d064-42b8-b74b-77c45354ec0c\",\"type\":\"Selection\"},{\"attributes\":{},\"id\":\"62ebdf5a-f1f1-4c36-adcf-eb883478a811\",\"type\":\"HelpTool\"},{\"attributes\":{},\"id\":\"ef80bfe3-59cd-46f7-8b6d-828ab05871c9\",\"type\":\"WheelZoomTool\"},{\"attributes\":{\"axis_label\":\"flux (W m-2)\",\"formatter\":{\"id\":\"4622ca25-205c-4608-bb9b-34482e6508bd\",\"type\":\"BasicTickFormatter\"},\"plot\":{\"id\":\"ec83e13b-441d-4c75-b7a5-80586b768a78\",\"subtype\":\"Figure\",\"type\":\"Plot\"},\"ticker\":{\"id\":\"e9d9fcc8-4b81-44ef-a519-0d75afc313ce\",\"type\":\"BasicTicker\"}},\"id\":\"9f79882b-f6d0-47e7-b837-f7fc1c27bd0f\",\"type\":\"LinearAxis\"},{\"attributes\":{},\"id\":\"8b0c5df0-7d22-4d82-afe1-0b5c6406cb0e\",\"type\":\"WheelZoomTool\"},{\"attributes\":{},\"id\":\"7c45962c-c83c-4b21-82f8-e6b899cc553a\",\"type\":\"SaveTool\"},{\"attributes\":{},\"id\":\"4b4ae4a5-943b-4893-abf8-5074e97dfef0\",\"type\":\"BasicTickFormatter\"},{\"attributes\":{\"source\":{\"id\":\"13ef7b3f-60fb-4a13-88c6-2695f3849b89\",\"type\":\"ColumnDataSource\"}},\"id\":\"cd5fda3f-fe60-4307-8e6a-a3aa7341dbcd\",\"type\":\"CDSView\"},{\"attributes\":{\"dimension\":1,\"plot\":{\"id\":\"bec90a2e-7823-4963-b577-2e3bdc12b377\",\"subtype\":\"Figure\",\"type\":\"Plot\"},\"ticker\":{\"id\":\"7342410e-ffc3-4ab4-b3d7-2744090b0f28\",\"type\":\"BasicTicker\"}},\"id\":\"6ca4908f-7ff1-48ac-93a2-f7c0b04b5b0c\",\"type\":\"Grid\"},{\"attributes\":{},\"id\":\"4792b3a3-b309-45be-a94b-597ca4f3c36d\",\"type\":\"BasicTicker\"},{\"attributes\":{\"dimension\":1,\"plot\":{\"id\":\"e5f2f9f1-be76-407e-b557-569b35817b17\",\"subtype\":\"Figure\",\"type\":\"Plot\"},\"ticker\":{\"id\":\"4792b3a3-b309-45be-a94b-597ca4f3c36d\",\"type\":\"BasicTicker\"}},\"id\":\"89f973f0-a01c-452a-b426-124ff30cce3a\",\"type\":\"Grid\"},{\"attributes\":{},\"id\":\"9948663c-892e-4d6c-bc3c-5726041d48a8\",\"type\":\"Selection\"},{\"attributes\":{},\"id\":\"f1ff87df-4bc8-4c39-899f-b63416411830\",\"type\":\"PanTool\"},{\"attributes\":{\"data_source\":{\"id\":\"825e363f-6b0f-4e6c-8dfe-77bb384438f3\",\"type\":\"ColumnDataSource\"},\"glyph\":{\"id\":\"eeca3bb7-21b4-4be6-b752-0ca5b3a97d3a\",\"type\":\"VBar\"},\"hover_glyph\":null,\"muted_glyph\":null,\"nonselection_glyph\":{\"id\":\"ee1b4255-2b1f-4a69-b178-6615eb0eac89\",\"type\":\"VBar\"},\"selection_glyph\":null,\"view\":{\"id\":\"ca3f8e4f-8214-47be-9f42-1eff7a6499d7\",\"type\":\"CDSView\"}},\"id\":\"236e11e1-c978-4a3a-8d54-d3d7285d8f82\",\"type\":\"GlyphRenderer\"},{\"attributes\":{\"bottom_units\":\"screen\",\"fill_alpha\":{\"value\":0.5},\"fill_color\":{\"value\":\"lightgrey\"},\"left_units\":\"screen\",\"level\":\"overlay\",\"line_alpha\":{\"value\":1.0},\"line_color\":{\"value\":\"black\"},\"line_dash\":[4,4],\"line_width\":{\"value\":2},\"plot\":null,\"render_mode\":\"css\",\"right_units\":\"screen\",\"top_units\":\"screen\"},\"id\":\"c5736c25-e7e9-4a83-8865-5105e322c762\",\"type\":\"BoxAnnotation\"},{\"attributes\":{\"source\":{\"id\":\"825e363f-6b0f-4e6c-8dfe-77bb384438f3\",\"type\":\"ColumnDataSource\"}},\"id\":\"ca3f8e4f-8214-47be-9f42-1eff7a6499d7\",\"type\":\"CDSView\"},{\"attributes\":{\"bottom_units\":\"screen\",\"fill_alpha\":{\"value\":0.5},\"fill_color\":{\"value\":\"lightgrey\"},\"left_units\":\"screen\",\"level\":\"overlay\",\"line_alpha\":{\"value\":1.0},\"line_color\":{\"value\":\"black\"},\"line_dash\":[4,4],\"line_width\":{\"value\":2},\"plot\":null,\"render_mode\":\"css\",\"right_units\":\"screen\",\"top_units\":\"screen\"},\"id\":\"e717c285-b2e2-44da-8120-091c294a8049\",\"type\":\"BoxAnnotation\"},{\"attributes\":{\"children\":[{\"id\":\"547f73db-5542-496d-b11a-cde6c4f3e79e\",\"type\":\"Row\"}]},\"id\":\"43af3f15-7e76-4eb0-87b0-65e3f8c54208\",\"type\":\"Column\"},{\"attributes\":{},\"id\":\"e9d9fcc8-4b81-44ef-a519-0d75afc313ce\",\"type\":\"BasicTicker\"},{\"attributes\":{\"plot\":null,\"text\":\"Atmosphere heating. CLIRAD (single-run) - CRD.\"},\"id\":\"a58e6dcd-5e7d-40fa-be6b-ec9294bf6db9\",\"type\":\"Title\"},{\"attributes\":{},\"id\":\"9542addf-790e-47ab-8861-a42272fbd824\",\"type\":\"CategoricalTicker\"},{\"attributes\":{\"children\":[{\"id\":\"ebda742c-ab6d-4f78-990d-ad4f139abdfc\",\"type\":\"ToolbarBox\"},{\"id\":\"43af3f15-7e76-4eb0-87b0-65e3f8c54208\",\"type\":\"Column\"}]},\"id\":\"e04a96bc-b2f8-4125-a2f4-5b61fd4e712f\",\"type\":\"Column\"},{\"attributes\":{\"overlay\":{\"id\":\"e717c285-b2e2-44da-8120-091c294a8049\",\"type\":\"BoxAnnotation\"}},\"id\":\"2e207adf-4d6c-4a11-bcbe-0a5c91691b15\",\"type\":\"BoxZoomTool\"},{\"attributes\":{\"plot\":{\"id\":\"e5f2f9f1-be76-407e-b557-569b35817b17\",\"subtype\":\"Figure\",\"type\":\"Plot\"},\"ticker\":{\"id\":\"9542addf-790e-47ab-8861-a42272fbd824\",\"type\":\"CategoricalTicker\"}},\"id\":\"68c98366-81eb-49da-8c11-56e630c72ba4\",\"type\":\"Grid\"},{\"attributes\":{},\"id\":\"2e1ccfba-18c9-42da-9b38-53623588a2d9\",\"type\":\"HelpTool\"},{\"attributes\":{\"callback\":null},\"id\":\"5de85e4c-cf03-4a61-8661-2141e5012681\",\"type\":\"DataRange1d\"},{\"attributes\":{\"axis_label\":\"spectral band\",\"formatter\":{\"id\":\"e9937bb1-19b9-4b30-b7d4-b0b0558ca1f7\",\"type\":\"CategoricalTickFormatter\"},\"plot\":{\"id\":\"ec83e13b-441d-4c75-b7a5-80586b768a78\",\"subtype\":\"Figure\",\"type\":\"Plot\"},\"ticker\":{\"id\":\"df9c8acf-4d68-4234-9d29-2b853ef7bb07\",\"type\":\"CategoricalTicker\"}},\"id\":\"b668e7a4-84a1-418f-9eb4-4c16ca827296\",\"type\":\"CategoricalAxis\"},{\"attributes\":{\"axis_label\":\"spectral band\",\"formatter\":{\"id\":\"41456b92-ad35-4d30-9286-6c8593a37a4e\",\"type\":\"CategoricalTickFormatter\"},\"plot\":{\"id\":\"e5f2f9f1-be76-407e-b557-569b35817b17\",\"subtype\":\"Figure\",\"type\":\"Plot\"},\"ticker\":{\"id\":\"9542addf-790e-47ab-8861-a42272fbd824\",\"type\":\"CategoricalTicker\"}},\"id\":\"e6e235ee-ed7c-4048-a6ad-8f1fec3dd060\",\"type\":\"CategoricalAxis\"},{\"attributes\":{},\"id\":\"4975508c-05ec-43eb-984d-2090aac41544\",\"type\":\"ResetTool\"},{\"attributes\":{},\"id\":\"3fd7d5af-b1e4-44ee-9242-a07f52af482f\",\"type\":\"CategoricalScale\"},{\"attributes\":{},\"id\":\"12e5b351-0dbe-495a-a5ae-d952c26469ac\",\"type\":\"UnionRenderers\"},{\"attributes\":{},\"id\":\"1932e09f-72c3-43d8-9ac3-c1ead9adda4d\",\"type\":\"UnionRenderers\"},{\"attributes\":{\"toolbar\":{\"id\":\"1a32eeac-2209-4e1e-b5eb-0e547b355e98\",\"type\":\"ProxyToolbar\"},\"toolbar_location\":\"above\"},\"id\":\"ebda742c-ab6d-4f78-990d-ad4f139abdfc\",\"type\":\"ToolbarBox\"},{\"attributes\":{},\"id\":\"2bae0156-9f17-470c-b4a0-012888506eea\",\"type\":\"ResetTool\"},{\"attributes\":{},\"id\":\"3d88de22-4731-4dbd-b9ac-7140d9c4236a\",\"type\":\"SaveTool\"},{\"attributes\":{},\"id\":\"f6400496-60ca-4530-86dc-eba09be4b4f7\",\"type\":\"WheelZoomTool\"},{\"attributes\":{\"fill_color\":{\"value\":\"#1f77b4\"},\"line_color\":{\"value\":\"#1f77b4\"},\"top\":{\"field\":\"flux\"},\"width\":{\"value\":0.9},\"x\":{\"field\":\"band\"}},\"id\":\"8d6aa165-b8c6-4864-82aa-8b7466460e24\",\"type\":\"VBar\"},{\"attributes\":{},\"id\":\"fa8f17a0-8c65-4ccf-9f77-8b071961b21e\",\"type\":\"ResetTool\"},{\"attributes\":{},\"id\":\"b02bda90-4f5f-4548-b0c1-ac1f5bfe9076\",\"type\":\"PanTool\"},{\"attributes\":{\"below\":[{\"id\":\"b668e7a4-84a1-418f-9eb4-4c16ca827296\",\"type\":\"CategoricalAxis\"}],\"left\":[{\"id\":\"9f79882b-f6d0-47e7-b837-f7fc1c27bd0f\",\"type\":\"LinearAxis\"}],\"plot_height\":300,\"plot_width\":300,\"renderers\":[{\"id\":\"b668e7a4-84a1-418f-9eb4-4c16ca827296\",\"type\":\"CategoricalAxis\"},{\"id\":\"92dabfe2-af48-4ec7-8074-bf6f135f082f\",\"type\":\"Grid\"},{\"id\":\"9f79882b-f6d0-47e7-b837-f7fc1c27bd0f\",\"type\":\"LinearAxis\"},{\"id\":\"3f3e40a1-2866-4d2c-8d34-2acb295c0b6d\",\"type\":\"Grid\"},{\"id\":\"c5736c25-e7e9-4a83-8865-5105e322c762\",\"type\":\"BoxAnnotation\"},{\"id\":\"236e11e1-c978-4a3a-8d54-d3d7285d8f82\",\"type\":\"GlyphRenderer\"}],\"title\":{\"id\":\"a58e6dcd-5e7d-40fa-be6b-ec9294bf6db9\",\"type\":\"Title\"},\"toolbar\":{\"id\":\"471fea04-1c31-4a40-a10a-3b8fb3e84e9b\",\"type\":\"Toolbar\"},\"toolbar_location\":null,\"x_range\":{\"id\":\"9fd72edb-3bc3-4b6a-9267-6be03ba5a93e\",\"type\":\"FactorRange\"},\"x_scale\":{\"id\":\"bd989b31-0637-465a-85f9-2779643707a1\",\"type\":\"CategoricalScale\"},\"y_range\":{\"id\":\"5de85e4c-cf03-4a61-8661-2141e5012681\",\"type\":\"DataRange1d\"},\"y_scale\":{\"id\":\"8455d935-f2e6-494b-8dd8-94d2870b4bc5\",\"type\":\"LinearScale\"}},\"id\":\"ec83e13b-441d-4c75-b7a5-80586b768a78\",\"subtype\":\"Figure\",\"type\":\"Plot\"},{\"attributes\":{},\"id\":\"df9c8acf-4d68-4234-9d29-2b853ef7bb07\",\"type\":\"CategoricalTicker\"},{\"attributes\":{\"fill_alpha\":{\"value\":0.1},\"fill_color\":{\"value\":\"#1f77b4\"},\"line_alpha\":{\"value\":0.1},\"line_color\":{\"value\":\"#1f77b4\"},\"top\":{\"field\":\"flux\"},\"width\":{\"value\":0.9},\"x\":{\"field\":\"band\"}},\"id\":\"2ef0c88d-0f26-4a0d-9fe9-ffc7ebd60eec\",\"type\":\"VBar\"},{\"attributes\":{},\"id\":\"48784b77-31e0-457b-b8ee-53c1fe11ea1b\",\"type\":\"HelpTool\"},{\"attributes\":{\"callback\":null,\"data\":{\"band\":[\"1\",\"2\",\"3\",\"4\",\"5\",\"6\",\"7\",\"8\",\"9\",\"10\",\"11\"],\"flux\":{\"__ndarray__\":\"gGLUtfY+xz8ABgWlaOWyPwDVO9wODbO/gApHkEqx0D8Ans4VpYS4PwDQ+uk/a46/IIOj5NU50j8AHErtRbSNv4BE2safqKA/AGgLdJJSdb+AbxLeeT2TPw==\",\"dtype\":\"float64\",\"shape\":[11]}},\"selected\":{\"id\":\"f5a39f72-d064-42b8-b74b-77c45354ec0c\",\"type\":\"Selection\"},\"selection_policy\":{\"id\":\"d1a27eac-8622-4f6e-a8db-440a845d3899\",\"type\":\"UnionRenderers\"}},\"id\":\"13ef7b3f-60fb-4a13-88c6-2695f3849b89\",\"type\":\"ColumnDataSource\"},{\"attributes\":{\"children\":[{\"id\":\"e5f2f9f1-be76-407e-b557-569b35817b17\",\"subtype\":\"Figure\",\"type\":\"Plot\"},{\"id\":\"bec90a2e-7823-4963-b577-2e3bdc12b377\",\"subtype\":\"Figure\",\"type\":\"Plot\"},{\"id\":\"ec83e13b-441d-4c75-b7a5-80586b768a78\",\"subtype\":\"Figure\",\"type\":\"Plot\"}]},\"id\":\"547f73db-5542-496d-b11a-cde6c4f3e79e\",\"type\":\"Row\"},{\"attributes\":{},\"id\":\"41456b92-ad35-4d30-9286-6c8593a37a4e\",\"type\":\"CategoricalTickFormatter\"},{\"attributes\":{},\"id\":\"9132141c-cf56-428c-adab-bbc7de57e5ab\",\"type\":\"LinearScale\"},{\"attributes\":{\"tools\":[{\"id\":\"f1ff87df-4bc8-4c39-899f-b63416411830\",\"type\":\"PanTool\"},{\"id\":\"8b0c5df0-7d22-4d82-afe1-0b5c6406cb0e\",\"type\":\"WheelZoomTool\"},{\"id\":\"2e207adf-4d6c-4a11-bcbe-0a5c91691b15\",\"type\":\"BoxZoomTool\"},{\"id\":\"3d88de22-4731-4dbd-b9ac-7140d9c4236a\",\"type\":\"SaveTool\"},{\"id\":\"2bae0156-9f17-470c-b4a0-012888506eea\",\"type\":\"ResetTool\"},{\"id\":\"48784b77-31e0-457b-b8ee-53c1fe11ea1b\",\"type\":\"HelpTool\"},{\"id\":\"ae91c604-7efc-4b9d-a2e1-97a1a533822d\",\"type\":\"PanTool\"},{\"id\":\"ef80bfe3-59cd-46f7-8b6d-828ab05871c9\",\"type\":\"WheelZoomTool\"},{\"id\":\"9a4b0f9d-b8e0-409b-a5da-e248111bc10d\",\"type\":\"BoxZoomTool\"},{\"id\":\"7c45962c-c83c-4b21-82f8-e6b899cc553a\",\"type\":\"SaveTool\"},{\"id\":\"fa8f17a0-8c65-4ccf-9f77-8b071961b21e\",\"type\":\"ResetTool\"},{\"id\":\"2e1ccfba-18c9-42da-9b38-53623588a2d9\",\"type\":\"HelpTool\"},{\"id\":\"b02bda90-4f5f-4548-b0c1-ac1f5bfe9076\",\"type\":\"PanTool\"},{\"id\":\"f6400496-60ca-4530-86dc-eba09be4b4f7\",\"type\":\"WheelZoomTool\"},{\"id\":\"30edb71e-2b35-4cf6-a46b-8cde23cbccac\",\"type\":\"BoxZoomTool\"},{\"id\":\"8b1a2e4d-9f6a-4108-814f-833a5c15a404\",\"type\":\"SaveTool\"},{\"id\":\"4975508c-05ec-43eb-984d-2090aac41544\",\"type\":\"ResetTool\"},{\"id\":\"62ebdf5a-f1f1-4c36-adcf-eb883478a811\",\"type\":\"HelpTool\"}]},\"id\":\"1a32eeac-2209-4e1e-b5eb-0e547b355e98\",\"type\":\"ProxyToolbar\"},{\"attributes\":{\"fill_alpha\":{\"value\":0.1},\"fill_color\":{\"value\":\"#1f77b4\"},\"line_alpha\":{\"value\":0.1},\"line_color\":{\"value\":\"#1f77b4\"},\"top\":{\"field\":\"flux\"},\"width\":{\"value\":0.9},\"x\":{\"field\":\"band\"}},\"id\":\"94471f5c-acb2-42ff-b5f3-57d60bd6ce23\",\"type\":\"VBar\"},{\"attributes\":{\"fill_color\":{\"value\":\"#1f77b4\"},\"line_color\":{\"value\":\"#1f77b4\"},\"top\":{\"field\":\"flux\"},\"width\":{\"value\":0.9},\"x\":{\"field\":\"band\"}},\"id\":\"eeca3bb7-21b4-4be6-b752-0ca5b3a97d3a\",\"type\":\"VBar\"},{\"attributes\":{\"plot\":{\"id\":\"ec83e13b-441d-4c75-b7a5-80586b768a78\",\"subtype\":\"Figure\",\"type\":\"Plot\"},\"ticker\":{\"id\":\"df9c8acf-4d68-4234-9d29-2b853ef7bb07\",\"type\":\"CategoricalTicker\"}},\"id\":\"92dabfe2-af48-4ec7-8074-bf6f135f082f\",\"type\":\"Grid\"},{\"attributes\":{},\"id\":\"43c20436-afcc-4406-bcbe-2213be98be5e\",\"type\":\"BasicTickFormatter\"},{\"attributes\":{},\"id\":\"ae91c604-7efc-4b9d-a2e1-97a1a533822d\",\"type\":\"PanTool\"},{\"attributes\":{},\"id\":\"bd989b31-0637-465a-85f9-2779643707a1\",\"type\":\"CategoricalScale\"},{\"attributes\":{\"overlay\":{\"id\":\"c5736c25-e7e9-4a83-8865-5105e322c762\",\"type\":\"BoxAnnotation\"}},\"id\":\"30edb71e-2b35-4cf6-a46b-8cde23cbccac\",\"type\":\"BoxZoomTool\"},{\"attributes\":{\"plot\":null,\"text\":\"SFC flux. CLIRAD (single-run) - CRD.\"},\"id\":\"f83cb067-1fc9-4881-89c1-a286bab8723a\",\"type\":\"Title\"},{\"attributes\":{\"callback\":null},\"id\":\"64ab8848-90f1-4c47-bf57-6506b4230cd9\",\"type\":\"DataRange1d\"},{\"attributes\":{},\"id\":\"ca809849-3bc0-4c72-872f-bb64d2ad0e2e\",\"type\":\"LinearScale\"},{\"attributes\":{\"callback\":null,\"data\":{\"band\":[\"1\",\"2\",\"3\",\"4\",\"5\",\"6\",\"7\",\"8\",\"9\",\"10\",\"11\"],\"flux\":{\"__ndarray__\":\"AEDdJAaBZb8Asg5HV+nAvwA2IEJcueC/AAeY+Q5+tj/A8wOyMnXIPyAWSPVCprm/QFhl8EEZsD/ga9jnGC20vwDdJRad0ZM/AJDEy9O5oj8Ad2DnQ6NtPw==\",\"dtype\":\"float64\",\"shape\":[11]}},\"selected\":{\"id\":\"9948663c-892e-4d6c-bc3c-5726041d48a8\",\"type\":\"Selection\"},\"selection_policy\":{\"id\":\"1932e09f-72c3-43d8-9ac3-c1ead9adda4d\",\"type\":\"UnionRenderers\"}},\"id\":\"41f8d452-92d0-4c32-a322-18e5f3405026\",\"type\":\"ColumnDataSource\"},{\"attributes\":{\"below\":[{\"id\":\"61543da3-383e-48dd-9c81-286c8b32dc98\",\"type\":\"CategoricalAxis\"}],\"left\":[{\"id\":\"e3261c5a-1768-45f5-8227-3b6f44a07227\",\"type\":\"LinearAxis\"}],\"plot_height\":300,\"plot_width\":300,\"renderers\":[{\"id\":\"61543da3-383e-48dd-9c81-286c8b32dc98\",\"type\":\"CategoricalAxis\"},{\"id\":\"26a46c1f-5585-44d9-9cf3-49357e82f221\",\"type\":\"Grid\"},{\"id\":\"e3261c5a-1768-45f5-8227-3b6f44a07227\",\"type\":\"LinearAxis\"},{\"id\":\"6ca4908f-7ff1-48ac-93a2-f7c0b04b5b0c\",\"type\":\"Grid\"},{\"id\":\"01dfb160-e2b7-438c-abcd-8da90353452b\",\"type\":\"BoxAnnotation\"},{\"id\":\"6c67018c-ebc7-4639-bf68-ab011dc07819\",\"type\":\"GlyphRenderer\"}],\"title\":{\"id\":\"f83cb067-1fc9-4881-89c1-a286bab8723a\",\"type\":\"Title\"},\"toolbar\":{\"id\":\"0f495715-354b-41d3-9350-b2756f7c17fd\",\"type\":\"Toolbar\"},\"toolbar_location\":null,\"x_range\":{\"id\":\"d09e0247-583c-4d35-83e8-f0a48421f1da\",\"type\":\"FactorRange\"},\"x_scale\":{\"id\":\"c440c636-dcdf-4dad-a6bc-167119eb4e0f\",\"type\":\"CategoricalScale\"},\"y_range\":{\"id\":\"9b8c93d3-a927-4f93-ac02-e90900a3f65d\",\"type\":\"DataRange1d\"},\"y_scale\":{\"id\":\"ca809849-3bc0-4c72-872f-bb64d2ad0e2e\",\"type\":\"LinearScale\"}},\"id\":\"bec90a2e-7823-4963-b577-2e3bdc12b377\",\"subtype\":\"Figure\",\"type\":\"Plot\"},{\"attributes\":{},\"id\":\"d09beeb3-31e8-4793-a9cf-36c3337005f1\",\"type\":\"CategoricalTicker\"},{\"attributes\":{\"fill_color\":{\"value\":\"#1f77b4\"},\"line_color\":{\"value\":\"#1f77b4\"},\"top\":{\"field\":\"flux\"},\"width\":{\"value\":0.9},\"x\":{\"field\":\"band\"}},\"id\":\"b13128a6-07cb-4f09-8bb0-e47552c38ad1\",\"type\":\"VBar\"},{\"attributes\":{\"axis_label\":\"spectral band\",\"formatter\":{\"id\":\"c1b94d7d-aec3-4d6a-8fdb-e4a100b21964\",\"type\":\"CategoricalTickFormatter\"},\"plot\":{\"id\":\"bec90a2e-7823-4963-b577-2e3bdc12b377\",\"subtype\":\"Figure\",\"type\":\"Plot\"},\"ticker\":{\"id\":\"d09beeb3-31e8-4793-a9cf-36c3337005f1\",\"type\":\"CategoricalTicker\"}},\"id\":\"61543da3-383e-48dd-9c81-286c8b32dc98\",\"type\":\"CategoricalAxis\"},{\"attributes\":{\"callback\":null,\"factors\":[\"1\",\"2\",\"3\",\"4\",\"5\",\"6\",\"7\",\"8\",\"9\",\"10\",\"11\"]},\"id\":\"d09e0247-583c-4d35-83e8-f0a48421f1da\",\"type\":\"FactorRange\"},{\"attributes\":{\"axis_label\":\"flux (W m-2)\",\"formatter\":{\"id\":\"43c20436-afcc-4406-bcbe-2213be98be5e\",\"type\":\"BasicTickFormatter\"},\"plot\":{\"id\":\"bec90a2e-7823-4963-b577-2e3bdc12b377\",\"subtype\":\"Figure\",\"type\":\"Plot\"},\"ticker\":{\"id\":\"7342410e-ffc3-4ab4-b3d7-2744090b0f28\",\"type\":\"BasicTicker\"}},\"id\":\"e3261c5a-1768-45f5-8227-3b6f44a07227\",\"type\":\"LinearAxis\"},{\"attributes\":{\"callback\":null,\"factors\":[\"1\",\"2\",\"3\",\"4\",\"5\",\"6\",\"7\",\"8\",\"9\",\"10\",\"11\"]},\"id\":\"3a86fcbf-32b6-4ae9-acf1-a3dfbe2a2f88\",\"type\":\"FactorRange\"},{\"attributes\":{},\"id\":\"4622ca25-205c-4608-bb9b-34482e6508bd\",\"type\":\"BasicTickFormatter\"},{\"attributes\":{\"callback\":null},\"id\":\"9b8c93d3-a927-4f93-ac02-e90900a3f65d\",\"type\":\"DataRange1d\"},{\"attributes\":{\"source\":{\"id\":\"41f8d452-92d0-4c32-a322-18e5f3405026\",\"type\":\"ColumnDataSource\"}},\"id\":\"42d24c93-6ba9-4b2b-b4b7-ce93de01aad5\",\"type\":\"CDSView\"},{\"attributes\":{},\"id\":\"c440c636-dcdf-4dad-a6bc-167119eb4e0f\",\"type\":\"CategoricalScale\"},{\"attributes\":{},\"id\":\"7342410e-ffc3-4ab4-b3d7-2744090b0f28\",\"type\":\"BasicTicker\"},{\"attributes\":{\"active_drag\":\"auto\",\"active_inspect\":\"auto\",\"active_scroll\":\"auto\",\"active_tap\":\"auto\",\"tools\":[{\"id\":\"f1ff87df-4bc8-4c39-899f-b63416411830\",\"type\":\"PanTool\"},{\"id\":\"8b0c5df0-7d22-4d82-afe1-0b5c6406cb0e\",\"type\":\"WheelZoomTool\"},{\"id\":\"2e207adf-4d6c-4a11-bcbe-0a5c91691b15\",\"type\":\"BoxZoomTool\"},{\"id\":\"3d88de22-4731-4dbd-b9ac-7140d9c4236a\",\"type\":\"SaveTool\"},{\"id\":\"2bae0156-9f17-470c-b4a0-012888506eea\",\"type\":\"ResetTool\"},{\"id\":\"48784b77-31e0-457b-b8ee-53c1fe11ea1b\",\"type\":\"HelpTool\"}]},\"id\":\"6709b4f9-7208-480c-9658-3bd48048290e\",\"type\":\"Toolbar\"},{\"attributes\":{\"plot\":null,\"text\":\"TOA flux. CLIRAD (single-run) - CRD.\"},\"id\":\"04d8ae1e-fbaa-438d-80ac-cc48a07d61e4\",\"type\":\"Title\"},{\"attributes\":{\"plot\":{\"id\":\"bec90a2e-7823-4963-b577-2e3bdc12b377\",\"subtype\":\"Figure\",\"type\":\"Plot\"},\"ticker\":{\"id\":\"d09beeb3-31e8-4793-a9cf-36c3337005f1\",\"type\":\"CategoricalTicker\"}},\"id\":\"26a46c1f-5585-44d9-9cf3-49357e82f221\",\"type\":\"Grid\"},{\"attributes\":{\"callback\":null,\"data\":{\"band\":[\"1\",\"2\",\"3\",\"4\",\"5\",\"6\",\"7\",\"8\",\"9\",\"10\",\"11\"],\"flux\":{\"__ndarray__\":\"aDvoCh0GSkCgZd0/FvwzQBHTGXMy8CxAqoPnnihqMEDXv+szZ1VAQFThz/BmfSVAzAcEOpPmJEAOVNfrJ60bQHp1jgHZmxNA3BqzGoKr8T+AJgqhQRKPPw==\",\"dtype\":\"float64\",\"shape\":[11]}},\"selected\":{\"id\":\"3f081c75-1822-4e3a-9c13-accb526bdbd7\",\"type\":\"Selection\"},\"selection_policy\":{\"id\":\"12e5b351-0dbe-495a-a5ae-d952c26469ac\",\"type\":\"UnionRenderers\"}},\"id\":\"825e363f-6b0f-4e6c-8dfe-77bb384438f3\",\"type\":\"ColumnDataSource\"},{\"attributes\":{\"active_drag\":\"auto\",\"active_inspect\":\"auto\",\"active_scroll\":\"auto\",\"active_tap\":\"auto\",\"tools\":[{\"id\":\"ae91c604-7efc-4b9d-a2e1-97a1a533822d\",\"type\":\"PanTool\"},{\"id\":\"ef80bfe3-59cd-46f7-8b6d-828ab05871c9\",\"type\":\"WheelZoomTool\"},{\"id\":\"9a4b0f9d-b8e0-409b-a5da-e248111bc10d\",\"type\":\"BoxZoomTool\"},{\"id\":\"7c45962c-c83c-4b21-82f8-e6b899cc553a\",\"type\":\"SaveTool\"},{\"id\":\"fa8f17a0-8c65-4ccf-9f77-8b071961b21e\",\"type\":\"ResetTool\"},{\"id\":\"2e1ccfba-18c9-42da-9b38-53623588a2d9\",\"type\":\"HelpTool\"}]},\"id\":\"0f495715-354b-41d3-9350-b2756f7c17fd\",\"type\":\"Toolbar\"},{\"attributes\":{\"below\":[{\"id\":\"e6e235ee-ed7c-4048-a6ad-8f1fec3dd060\",\"type\":\"CategoricalAxis\"}],\"left\":[{\"id\":\"3960a904-dec4-47c2-91b3-6d66414446cb\",\"type\":\"LinearAxis\"}],\"plot_height\":300,\"plot_width\":300,\"renderers\":[{\"id\":\"e6e235ee-ed7c-4048-a6ad-8f1fec3dd060\",\"type\":\"CategoricalAxis\"},{\"id\":\"68c98366-81eb-49da-8c11-56e630c72ba4\",\"type\":\"Grid\"},{\"id\":\"3960a904-dec4-47c2-91b3-6d66414446cb\",\"type\":\"LinearAxis\"},{\"id\":\"89f973f0-a01c-452a-b426-124ff30cce3a\",\"type\":\"Grid\"},{\"id\":\"e717c285-b2e2-44da-8120-091c294a8049\",\"type\":\"BoxAnnotation\"},{\"id\":\"77f9f596-dd9d-466d-b942-50da9c00aa41\",\"type\":\"GlyphRenderer\"}],\"title\":{\"id\":\"04d8ae1e-fbaa-438d-80ac-cc48a07d61e4\",\"type\":\"Title\"},\"toolbar\":{\"id\":\"6709b4f9-7208-480c-9658-3bd48048290e\",\"type\":\"Toolbar\"},\"toolbar_location\":null,\"x_range\":{\"id\":\"3a86fcbf-32b6-4ae9-acf1-a3dfbe2a2f88\",\"type\":\"FactorRange\"},\"x_scale\":{\"id\":\"3fd7d5af-b1e4-44ee-9242-a07f52af482f\",\"type\":\"CategoricalScale\"},\"y_range\":{\"id\":\"64ab8848-90f1-4c47-bf57-6506b4230cd9\",\"type\":\"DataRange1d\"},\"y_scale\":{\"id\":\"9132141c-cf56-428c-adab-bbc7de57e5ab\",\"type\":\"LinearScale\"}},\"id\":\"e5f2f9f1-be76-407e-b557-569b35817b17\",\"subtype\":\"Figure\",\"type\":\"Plot\"}],\"root_ids\":[\"e04a96bc-b2f8-4125-a2f4-5b61fd4e712f\"]},\"title\":\"Bokeh Application\",\"version\":\"0.12.16\"}};\n",
       "  var render_items = [{\"docid\":\"53d9805f-0025-4d4e-b925-397bfe89fd86\",\"elementid\":\"cdf06354-6705-4506-9d06-a8346df198af\",\"modelid\":\"e04a96bc-b2f8-4125-a2f4-5b61fd4e712f\"}];\n",
       "  root.Bokeh.embed.embed_items_notebook(docs_json, render_items);\n",
       "\n",
       "  }\n",
       "  if (root.Bokeh !== undefined) {\n",
       "    embed_document(root);\n",
       "  } else {\n",
       "    var attempts = 0;\n",
       "    var timer = setInterval(function(root) {\n",
       "      if (root.Bokeh !== undefined) {\n",
       "        embed_document(root);\n",
       "        clearInterval(timer);\n",
       "      }\n",
       "      attempts++;\n",
       "      if (attempts > 100) {\n",
       "        console.log(\"Bokeh: ERROR: Unable to run BokehJS code because BokehJS library is missing\")\n",
       "        clearInterval(timer);\n",
       "      }\n",
       "    }, 10, root)\n",
       "  }\n",
       "})(window);"
      ],
      "application/vnd.bokehjs_exec.v0+json": ""
     },
     "metadata": {
      "application/vnd.bokehjs_exec.v0+json": {
       "id": "e04a96bc-b2f8-4125-a2f4-5b61fd4e712f"
      }
     },
     "output_type": "display_data"
    },
    {
     "data": {
      "text/markdown": [
       "*FIGURE.* Difference between CLIRAD and CRD in TOA, SFC and net atmosphere flux, in each spectral band."
      ],
      "text/plain": [
       "<IPython.core.display.Markdown object>"
      ]
     },
     "metadata": {},
     "output_type": "display_data"
    },
    {
     "data": {
      "text/html": [
       "<div>\n",
       "<style scoped>\n",
       "    .dataframe tbody tr th:only-of-type {\n",
       "        vertical-align: middle;\n",
       "    }\n",
       "\n",
       "    .dataframe tbody tr th {\n",
       "        vertical-align: top;\n",
       "    }\n",
       "\n",
       "    .dataframe thead th {\n",
       "        text-align: right;\n",
       "    }\n",
       "</style>\n",
       "<table border=\"1\" class=\"dataframe\">\n",
       "  <thead>\n",
       "    <tr style=\"text-align: right;\">\n",
       "      <th></th>\n",
       "      <th>OLR flux</th>\n",
       "      <th>SFC flux</th>\n",
       "      <th>ATM heating</th>\n",
       "    </tr>\n",
       "    <tr>\n",
       "      <th>Sum over bands</th>\n",
       "      <th></th>\n",
       "      <th></th>\n",
       "      <th></th>\n",
       "    </tr>\n",
       "  </thead>\n",
       "  <tbody>\n",
       "    <tr>\n",
       "      <th>CLIRAD (single-run) - CRD</th>\n",
       "      <td>0.84</td>\n",
       "      <td>-0.44</td>\n",
       "      <td>169.72</td>\n",
       "    </tr>\n",
       "    <tr>\n",
       "      <th>CRD</th>\n",
       "      <td>-201.06</td>\n",
       "      <td>166.03</td>\n",
       "      <td>-119.67</td>\n",
       "    </tr>\n",
       "  </tbody>\n",
       "</table>\n",
       "</div>"
      ],
      "text/plain": [
       "                           OLR flux  SFC flux  ATM heating\n",
       "Sum over bands                                            \n",
       "CLIRAD (single-run) - CRD      0.84     -0.44       169.72\n",
       "CRD                         -201.06    166.03      -119.67"
      ]
     },
     "metadata": {},
     "output_type": "display_data"
    },
    {
     "data": {
      "text/markdown": [
       "*TABLE.* Difference between CLIRAD and CRD in TOA, SFC and net atmosphere flux, over all spectral bands. CRD's TOA, SFC and net atmosphere flux, over all spectral bands."
      ],
      "text/plain": [
       "<IPython.core.display.Markdown object>"
      ]
     },
     "metadata": {},
     "output_type": "display_data"
    },
    {
     "data": {
      "text/html": [
       "<a id=\"Cooling_rates._trp.\"></a>"
      ],
      "text/plain": [
       "<IPython.core.display.HTML object>"
      ]
     },
     "metadata": {},
     "output_type": "display_data"
    },
    {
     "data": {
      "text/markdown": [
       "# Cooling rates. trp."
      ],
      "text/plain": [
       "<IPython.core.display.Markdown object>"
      ]
     },
     "metadata": {},
     "output_type": "display_data"
    },
    {
     "data": {
      "text/html": [
       "\n",
       "<div class=\"bk-root\">\n",
       "    <div class=\"bk-plotdiv\" id=\"45fb63a3-308f-48ce-9790-a5a021e98acf\"></div>\n",
       "</div>"
      ]
     },
     "metadata": {},
     "output_type": "display_data"
    },
    {
     "data": {
      "application/javascript": [
       "(function(root) {\n",
       "  function embed_document(root) {\n",
       "    \n",
       "  var docs_json = {\"96fb7ac8-4140-433f-befd-6eda0683f06b\":{\"roots\":{\"references\":[{\"attributes\":{\"data_source\":{\"id\":\"9b18933e-78fa-4d0b-bde2-cd7a0d315761\",\"type\":\"ColumnDataSource\"},\"glyph\":{\"id\":\"6d4f95f1-6c8c-49e4-85dd-81acee9b5284\",\"type\":\"Line\"},\"hover_glyph\":null,\"muted_glyph\":null,\"nonselection_glyph\":{\"id\":\"c294ab34-780f-4ec7-8b3d-8dd4ffa4418e\",\"type\":\"Line\"},\"selection_glyph\":null,\"view\":{\"id\":\"8b65f16f-fd88-4cb9-ac65-08eaa564aedf\",\"type\":\"CDSView\"}},\"id\":\"787cc762-ad33-4bff-b9ac-c8eacfc32c70\",\"type\":\"GlyphRenderer\"},{\"attributes\":{\"above\":[{\"id\":\"e915abca-ec36-4ea5-8a89-60b18a677144\",\"type\":\"Legend\"}],\"below\":[{\"id\":\"0b44ffb8-482d-4a0d-a933-ec84b16a5045\",\"type\":\"LinearAxis\"}],\"left\":[{\"id\":\"00f81157-61af-4bb8-997a-4acdcaf049d6\",\"type\":\"LogAxis\"}],\"plot_width\":300,\"renderers\":[{\"id\":\"0b44ffb8-482d-4a0d-a933-ec84b16a5045\",\"type\":\"LinearAxis\"},{\"id\":\"d6bab190-936f-4c6d-beea-49ae858313b2\",\"type\":\"Grid\"},{\"id\":\"00f81157-61af-4bb8-997a-4acdcaf049d6\",\"type\":\"LogAxis\"},{\"id\":\"e04be3bc-a872-43e8-b066-6dda46b5e5b4\",\"type\":\"Grid\"},{\"id\":\"7aced8a9-7755-4f25-aae5-7fc99dff420a\",\"type\":\"BoxAnnotation\"},{\"id\":\"11b33ed0-3789-4d78-bd2d-59dd0c9485f6\",\"type\":\"GlyphRenderer\"},{\"id\":\"15aff076-e099-4a80-8164-6d54cd986dbf\",\"type\":\"GlyphRenderer\"},{\"id\":\"30ca8852-2564-4202-82eb-467f3743f91c\",\"type\":\"GlyphRenderer\"},{\"id\":\"e915abca-ec36-4ea5-8a89-60b18a677144\",\"type\":\"Legend\"}],\"title\":{\"id\":\"d48cb34a-5a68-4d1b-8807-d7343640c5ca\",\"type\":\"Title\"},\"toolbar\":{\"id\":\"dd0947ac-efce-4b98-b44e-4f87b511a698\",\"type\":\"Toolbar\"},\"toolbar_location\":null,\"x_range\":{\"id\":\"b96c3b79-077f-4d17-ab4e-cee78536e2c5\",\"type\":\"Range1d\"},\"x_scale\":{\"id\":\"1b5600c6-7519-4b99-b4ba-e86e14a0fb13\",\"type\":\"LinearScale\"},\"y_range\":{\"id\":\"3d2f7468-b108-4026-9bfd-05da629f5ccd\",\"type\":\"Range1d\"},\"y_scale\":{\"id\":\"f42f2244-9b8d-4d07-8543-31d22bc5a5c5\",\"type\":\"LogScale\"}},\"id\":\"cf374cd8-10eb-4611-b752-2a565bf08554\",\"subtype\":\"Figure\",\"type\":\"Plot\"},{\"attributes\":{\"callback\":null,\"end\":0.5596213662811859,\"start\":-1.3413269281465863},\"id\":\"4ff2b8ba-b27f-4ddf-b6a8-878c92b0108a\",\"type\":\"Range1d\"},{\"attributes\":{\"source\":{\"id\":\"93eea448-6264-4c21-8e98-cdc7860d1f55\",\"type\":\"ColumnDataSource\"}},\"id\":\"da70eff3-d059-49a3-8728-f1162a8d3a81\",\"type\":\"CDSView\"},{\"attributes\":{\"data_source\":{\"id\":\"ff34c70e-268a-49a6-a019-e91e28c4cc9a\",\"type\":\"ColumnDataSource\"},\"glyph\":{\"id\":\"e3897c4a-a94a-44da-8d62-bffabb00ed15\",\"type\":\"Line\"},\"hover_glyph\":null,\"muted_glyph\":null,\"nonselection_glyph\":{\"id\":\"5bf35c39-894c-48b6-a785-0b5069082bdd\",\"type\":\"Line\"},\"selection_glyph\":null,\"view\":{\"id\":\"e05a332d-deef-4a54-a180-791e7702e0be\",\"type\":\"CDSView\"}},\"id\":\"11b33ed0-3789-4d78-bd2d-59dd0c9485f6\",\"type\":\"GlyphRenderer\"},{\"attributes\":{\"callback\":null,\"data\":{\"x\":{\"__ndarray__\":\"R/KIaN7AVEClCeJMyPNGQOvRhpxr30JAptxzhxx4PkA7SssMElA4QK6Bp3CyUDNAsVXpjES9LkBFhUV0+5coQMHYwqbbySNA6f09nM3nH0CaSd/3eYoZQDmgiAOW8BNAPYqARh3eDEBkm4vCgvr+P9D+5tWhQfY/P8DwKRnSAkBq38kb17ILQDT7IWuSsxFAUr2Rjm0FFkAinq3s9XgbQGCHwtYcqSFAG64kT303J0C7dRDneyooQD9JYrbK8yRA9S3bneHhIUAIymSuUMMcQIkHLe6VEBdAAau3cITREkA6CiNvkQIPQJU39ki7IQlAaAvwok1UA0BXLQiS4+L7P0xzDpJ2hPI/NNuPGMbJ5z91mUVYxqfSPxqwUPSxZca/G11peifD3L8QzNj5t2jTvwzOozTL360/SPJ4VI1VzD9KJ0nXEIncP8yDdlvHt+4/Et49nYLW9z++2teD4Jn+P+568eH/bwFALf5D9lmAAkCiZAicVOkCQPPT4jNKxwJAOjp3wTzBAUBSQsKNGisBQG4OmjqJwQBAJ3sZoHFuAEA5Ar0Sdi0AQGy4rw5+9f8/7W4nSrC3/z8mPr8zj4T/P4UYRHCQS/8/embVKYcF/z+5YXG+LLP+P/qb8BVUgf4/KvafTtyO/j/avAK1Ppv+PwJV9VVm2P0/JFtYlU/n/D9sN+q2fiX6Pw44e41PNPc/Opt+Z/wN9T+x3vcSW1vzP9ofvWQJlvI/8sciQQBW8j80sfkQa17yPzg5qng2r/I/Oh14WJBh8z+VZjnpctj0P6CcrSuCqQBA\",\"dtype\":\"float64\",\"shape\":[75]},\"y\":{\"__ndarray__\":\"GhExyth1ND/Sv8nbtpRIP2vylNV0PVE/aTum7souWD/At0SJ8fVgPw3Iuahxymc/MSNhhJWvcD/bTfBN02d3P2zb5nxnaoA/CD5h5MAGhz8NmeH1TyaQP+zrCsc9p5Y/LbKd76fGnz/bLW5ISEmmPww9YvTcQq8/JV2OstnstT8Er5Y7M8G+P0c+r3jqkcU/5h99k6ZBzj88bCIzFzjVP4enV8oyxN0//yH99nXg5D8qOpLLf0jtP5kqGJXUifQ/c9cS8kHP/D+/DpwzojQEQIEmwoanVwxA4lgXt9HgE0BSSZ2AJuIbQAMJih9jjiNA5q4l5INuK0AwTKYKRj0zQNv5fmq8/DpAaCJseHrtQkB/+zpwzoxKQM3MzMzMeFJAZmZmZmZqWEAAAAAAAFxeQM3MzMzMJmJAmpmZmZkfZUBmZmZmZhhoQDMzMzMzEWtAAAAAAAAKbkBmZmZmZoFwQM3MzMzM/XFAMzMzMzN6c0CamZmZmfZ0QAAAAAAAc3ZAZmZmZmbvd0DNzMzMzGt5QDMzMzMz6HpAmpmZmZlkfEAAAAAAAOF9QGZmZmZmXX9AZmZmZuZsgECamZmZGSuBQM3MzMxM6YFAAAAAAICngkAzMzMzs2WDQGZmZmbmI4RAmpmZmRnihEDNzMzMTKCFQAAAAACAXoZAMzMzM7Mch0BmZmZm5tqHQJqZmZkZmYhAzczMzExXiUAAAAAAgBWKQDMzMzOz04pAZmZmZuaRi0CamZmZGVCMQM3MzMxMDo1AAAAAAIDMjUAzMzMzs4qOQGZmZmbmSI9A\",\"dtype\":\"float64\",\"shape\":[75]}},\"selected\":{\"id\":\"aab0c36e-3ea0-41dc-95cd-364aec9950a5\",\"type\":\"Selection\"},\"selection_policy\":{\"id\":\"70e58f95-b08b-4632-95fc-ac79e11396e3\",\"type\":\"UnionRenderers\"}},\"id\":\"969a9a43-f18d-467f-884e-49af9e6becc9\",\"type\":\"ColumnDataSource\"},{\"attributes\":{},\"id\":\"4b037ae3-c0bf-454f-93d2-78e5b58222f6\",\"type\":\"LinearScale\"},{\"attributes\":{\"active_drag\":\"auto\",\"active_inspect\":\"auto\",\"active_scroll\":\"auto\",\"active_tap\":\"auto\",\"tools\":[{\"id\":\"ebbb703e-8a4c-4207-afbd-8b2e78a7ade0\",\"type\":\"PanTool\"},{\"id\":\"384102cf-345f-4cd0-b837-ea8083ad14a4\",\"type\":\"WheelZoomTool\"},{\"id\":\"c2cd948e-aed3-480c-a93b-e6da891d4d8c\",\"type\":\"BoxZoomTool\"},{\"id\":\"08c71c0b-963d-4cec-adaa-d377c7cf1a73\",\"type\":\"SaveTool\"},{\"id\":\"9c3cf117-5877-4a0d-b0ae-5bfc02001388\",\"type\":\"ResetTool\"},{\"id\":\"025896ad-2b58-4241-bb56-a126c31c8a6b\",\"type\":\"HelpTool\"}]},\"id\":\"dd0947ac-efce-4b98-b44e-4f87b511a698\",\"type\":\"Toolbar\"},{\"attributes\":{\"active_drag\":\"auto\",\"active_inspect\":\"auto\",\"active_scroll\":\"auto\",\"active_tap\":\"auto\",\"tools\":[{\"id\":\"3ef2529a-349d-4481-b429-7d52d9311414\",\"type\":\"PanTool\"},{\"id\":\"6ca858ba-281a-4ccd-823f-18635731b7b7\",\"type\":\"WheelZoomTool\"},{\"id\":\"8f79a92e-4a63-4e93-a7ed-8241a6b5108c\",\"type\":\"BoxZoomTool\"},{\"id\":\"4d438f29-dab5-4133-912d-aba25a1130c0\",\"type\":\"SaveTool\"},{\"id\":\"952f2713-0735-49b5-a7d2-2ef349aa7f27\",\"type\":\"ResetTool\"},{\"id\":\"a968fa50-4086-4886-b0e4-a8348030c8df\",\"type\":\"HelpTool\"}]},\"id\":\"1ccb356b-e14d-45e5-8589-94eee4c7f96f\",\"type\":\"Toolbar\"},{\"attributes\":{\"label\":{\"value\":\"CRD\"},\"renderers\":[{\"id\":\"0a39c49e-d22e-403a-a70f-5239593f5960\",\"type\":\"GlyphRenderer\"},{\"id\":\"48c50f59-4a1d-4395-9242-d7c47bb9c429\",\"type\":\"GlyphRenderer\"}]},\"id\":\"73c36ab1-adf4-4985-988c-42baa1ba06a4\",\"type\":\"LegendItem\"},{\"attributes\":{\"source\":{\"id\":\"16d6e262-59e5-45b5-9288-ebd509802359\",\"type\":\"ColumnDataSource\"}},\"id\":\"e58a015b-163a-41e9-ae22-3bc7851a80f4\",\"type\":\"CDSView\"},{\"attributes\":{\"callback\":null,\"data\":{\"x\":{\"__ndarray__\":\"R/KIaN7AVEClCeJMyPNGQOvRhpxr30JAptxzhxx4PkA7SssMElA4QK6Bp3CyUDNAsVXpjES9LkBFhUV0+5coQMHYwqbbySNA6f09nM3nH0CaSd/3eYoZQDmgiAOW8BNAPYqARh3eDEBkm4vCgvr+P9D+5tWhQfY/P8DwKRnSAkBq38kb17ILQDT7IWuSsxFAUr2Rjm0FFkAinq3s9XgbQGCHwtYcqSFAG64kT303J0C7dRDneyooQD9JYrbK8yRA9S3bneHhIUAIymSuUMMcQIkHLe6VEBdAAau3cITREkA6CiNvkQIPQJU39ki7IQlAaAvwok1UA0BXLQiS4+L7P0xzDpJ2hPI/NNuPGMbJ5z91mUVYxqfSPxqwUPSxZca/G11peifD3L8QzNj5t2jTvwzOozTL360/SPJ4VI1VzD9KJ0nXEIncP8yDdlvHt+4/Et49nYLW9z++2teD4Jn+P+568eH/bwFALf5D9lmAAkCiZAicVOkCQPPT4jNKxwJAOjp3wTzBAUBSQsKNGisBQG4OmjqJwQBAJ3sZoHFuAEA5Ar0Sdi0AQGy4rw5+9f8/7W4nSrC3/z8mPr8zj4T/P4UYRHCQS/8/embVKYcF/z+5YXG+LLP+P/qb8BVUgf4/KvafTtyO/j/avAK1Ppv+PwJV9VVm2P0/JFtYlU/n/D9sN+q2fiX6Pw44e41PNPc/Opt+Z/wN9T+x3vcSW1vzP9ofvWQJlvI/8sciQQBW8j80sfkQa17yPzg5qng2r/I/Oh14WJBh8z+VZjnpctj0P6CcrSuCqQBA\",\"dtype\":\"float64\",\"shape\":[75]},\"y\":{\"__ndarray__\":\"GhExyth1ND/Sv8nbtpRIP2vylNV0PVE/aTum7souWD/At0SJ8fVgPw3Iuahxymc/MSNhhJWvcD/bTfBN02d3P2zb5nxnaoA/CD5h5MAGhz8NmeH1TyaQP+zrCsc9p5Y/LbKd76fGnz/bLW5ISEmmPww9YvTcQq8/JV2OstnstT8Er5Y7M8G+P0c+r3jqkcU/5h99k6ZBzj88bCIzFzjVP4enV8oyxN0//yH99nXg5D8qOpLLf0jtP5kqGJXUifQ/c9cS8kHP/D+/DpwzojQEQIEmwoanVwxA4lgXt9HgE0BSSZ2AJuIbQAMJih9jjiNA5q4l5INuK0AwTKYKRj0zQNv5fmq8/DpAaCJseHrtQkB/+zpwzoxKQM3MzMzMeFJAZmZmZmZqWEAAAAAAAFxeQM3MzMzMJmJAmpmZmZkfZUBmZmZmZhhoQDMzMzMzEWtAAAAAAAAKbkBmZmZmZoFwQM3MzMzM/XFAMzMzMzN6c0CamZmZmfZ0QAAAAAAAc3ZAZmZmZmbvd0DNzMzMzGt5QDMzMzMz6HpAmpmZmZlkfEAAAAAAAOF9QGZmZmZmXX9AZmZmZuZsgECamZmZGSuBQM3MzMxM6YFAAAAAAICngkAzMzMzs2WDQGZmZmbmI4RAmpmZmRnihEDNzMzMTKCFQAAAAACAXoZAMzMzM7Mch0BmZmZm5tqHQJqZmZkZmYhAzczMzExXiUAAAAAAgBWKQDMzMzOz04pAZmZmZuaRi0CamZmZGVCMQM3MzMxMDo1AAAAAAIDMjUAzMzMzs4qOQGZmZmbmSI9A\",\"dtype\":\"float64\",\"shape\":[75]}},\"selected\":{\"id\":\"895e7c2b-cd25-4807-af43-2c8b7a436746\",\"type\":\"Selection\"},\"selection_policy\":{\"id\":\"8b5d9bc1-0584-41c2-bd92-cd30ebfac814\",\"type\":\"UnionRenderers\"}},\"id\":\"16d6e262-59e5-45b5-9288-ebd509802359\",\"type\":\"ColumnDataSource\"},{\"attributes\":{\"source\":{\"id\":\"ccbdcca6-39c4-4c2a-a69c-0418040662e1\",\"type\":\"ColumnDataSource\"}},\"id\":\"c9ec17fa-0142-43c0-92ac-a38308c0b411\",\"type\":\"CDSView\"},{\"attributes\":{\"line_alpha\":0.1,\"line_color\":\"#1f77b4\",\"line_width\":1.5,\"x\":{\"field\":\"x\"},\"y\":{\"field\":\"y\"}},\"id\":\"6cb0abac-d911-42e3-a5bc-15ffecff9945\",\"type\":\"Line\"},{\"attributes\":{\"fill_alpha\":{\"value\":0.1},\"fill_color\":{\"value\":\"#1f77b4\"},\"line_alpha\":{\"value\":0.1},\"line_color\":{\"value\":\"#1f77b4\"},\"x\":{\"field\":\"x\"},\"y\":{\"field\":\"y\"}},\"id\":\"a18d08fc-58a6-4088-881f-869d13c5c95c\",\"type\":\"Circle\"},{\"attributes\":{\"num_minor_ticks\":10},\"id\":\"4995019e-7cab-40f2-874d-8e6bd4ced651\",\"type\":\"LogTicker\"},{\"attributes\":{\"line_alpha\":0.1,\"line_color\":\"#1f77b4\",\"line_dash\":[6],\"line_width\":5,\"x\":{\"field\":\"x\"},\"y\":{\"field\":\"y\"}},\"id\":\"c294ab34-780f-4ec7-8b3d-8dd4ffa4418e\",\"type\":\"Line\"},{\"attributes\":{\"line_color\":\"#4daf4a\",\"line_width\":1.5,\"x\":{\"field\":\"x\"},\"y\":{\"field\":\"y\"}},\"id\":\"2b588eb2-a139-42ef-ba6a-2ecee0e352f7\",\"type\":\"Line\"},{\"attributes\":{},\"id\":\"fd53eebc-3d67-4a3d-80e1-72f379d701ca\",\"type\":\"LinearScale\"},{\"attributes\":{\"dimension\":1,\"plot\":{\"id\":\"0be40859-68e3-4f0b-9126-a68a6adc5d17\",\"subtype\":\"Figure\",\"type\":\"Plot\"},\"ticker\":{\"id\":\"4995019e-7cab-40f2-874d-8e6bd4ced651\",\"type\":\"LogTicker\"}},\"id\":\"3e8c57f2-7b81-4c7e-a5d2-bc783bee0836\",\"type\":\"Grid\"},{\"attributes\":{\"source\":{\"id\":\"ff34c70e-268a-49a6-a019-e91e28c4cc9a\",\"type\":\"ColumnDataSource\"}},\"id\":\"e05a332d-deef-4a54-a180-791e7702e0be\",\"type\":\"CDSView\"},{\"attributes\":{\"callback\":null,\"data\":{\"x\":{\"__ndarray__\":\"R/KIaN7AVEClCeJMyPNGQOvRhpxr30JAptxzhxx4PkA7SssMElA4QK6Bp3CyUDNAsVXpjES9LkBFhUV0+5coQMHYwqbbySNA6f09nM3nH0CaSd/3eYoZQDmgiAOW8BNAPYqARh3eDEBkm4vCgvr+P9D+5tWhQfY/P8DwKRnSAkBq38kb17ILQDT7IWuSsxFAUr2Rjm0FFkAinq3s9XgbQGCHwtYcqSFAG64kT303J0C7dRDneyooQD9JYrbK8yRA9S3bneHhIUAIymSuUMMcQIkHLe6VEBdAAau3cITREkA6CiNvkQIPQJU39ki7IQlAaAvwok1UA0BXLQiS4+L7P0xzDpJ2hPI/NNuPGMbJ5z91mUVYxqfSPxqwUPSxZca/G11peifD3L8QzNj5t2jTvwzOozTL360/SPJ4VI1VzD9KJ0nXEIncP8yDdlvHt+4/Et49nYLW9z++2teD4Jn+P+568eH/bwFALf5D9lmAAkCiZAicVOkCQPPT4jNKxwJAOjp3wTzBAUBSQsKNGisBQG4OmjqJwQBAJ3sZoHFuAEA5Ar0Sdi0AQGy4rw5+9f8/7W4nSrC3/z8mPr8zj4T/P4UYRHCQS/8/embVKYcF/z+5YXG+LLP+P/qb8BVUgf4/KvafTtyO/j/avAK1Ppv+PwJV9VVm2P0/JFtYlU/n/D9sN+q2fiX6Pw44e41PNPc/Opt+Z/wN9T+x3vcSW1vzP9ofvWQJlvI/8sciQQBW8j80sfkQa17yPzg5qng2r/I/Oh14WJBh8z+VZjnpctj0P6CcrSuCqQBA\",\"dtype\":\"float64\",\"shape\":[75]},\"y\":{\"__ndarray__\":\"GhExyth1ND/Sv8nbtpRIP2vylNV0PVE/aTum7souWD/At0SJ8fVgPw3Iuahxymc/MSNhhJWvcD/bTfBN02d3P2zb5nxnaoA/CD5h5MAGhz8NmeH1TyaQP+zrCsc9p5Y/LbKd76fGnz/bLW5ISEmmPww9YvTcQq8/JV2OstnstT8Er5Y7M8G+P0c+r3jqkcU/5h99k6ZBzj88bCIzFzjVP4enV8oyxN0//yH99nXg5D8qOpLLf0jtP5kqGJXUifQ/c9cS8kHP/D+/DpwzojQEQIEmwoanVwxA4lgXt9HgE0BSSZ2AJuIbQAMJih9jjiNA5q4l5INuK0AwTKYKRj0zQNv5fmq8/DpAaCJseHrtQkB/+zpwzoxKQM3MzMzMeFJAZmZmZmZqWEAAAAAAAFxeQM3MzMzMJmJAmpmZmZkfZUBmZmZmZhhoQDMzMzMzEWtAAAAAAAAKbkBmZmZmZoFwQM3MzMzM/XFAMzMzMzN6c0CamZmZmfZ0QAAAAAAAc3ZAZmZmZmbvd0DNzMzMzGt5QDMzMzMz6HpAmpmZmZlkfEAAAAAAAOF9QGZmZmZmXX9AZmZmZuZsgECamZmZGSuBQM3MzMxM6YFAAAAAAICngkAzMzMzs2WDQGZmZmbmI4RAmpmZmRnihEDNzMzMTKCFQAAAAACAXoZAMzMzM7Mch0BmZmZm5tqHQJqZmZkZmYhAzczMzExXiUAAAAAAgBWKQDMzMzOz04pAZmZmZuaRi0CamZmZGVCMQM3MzMxMDo1AAAAAAIDMjUAzMzMzs4qOQGZmZmbmSI9A\",\"dtype\":\"float64\",\"shape\":[75]}},\"selected\":{\"id\":\"31bb34bc-f7d7-4e19-8637-ee49a6aba868\",\"type\":\"Selection\"},\"selection_policy\":{\"id\":\"335df8d7-f046-4514-9eab-0f43b12e17f1\",\"type\":\"UnionRenderers\"}},\"id\":\"93eea448-6264-4c21-8e98-cdc7860d1f55\",\"type\":\"ColumnDataSource\"},{\"attributes\":{\"fill_alpha\":{\"value\":0.7},\"fill_color\":{\"value\":\"#4daf4a\"},\"line_alpha\":{\"value\":0.7},\"line_color\":{\"value\":\"#4daf4a\"},\"x\":{\"field\":\"x\"},\"y\":{\"field\":\"y\"}},\"id\":\"75af6490-2419-4cdd-a54e-4a2338392044\",\"type\":\"Circle\"},{\"attributes\":{\"items\":[{\"id\":\"1fcab82a-f484-4d4b-81b2-bd6ed7eedee0\",\"type\":\"LegendItem\"}],\"label_text_font_size\":{\"value\":\"8pt\"},\"location\":\"top_center\",\"orientation\":\"horizontal\",\"plot\":{\"id\":\"0be40859-68e3-4f0b-9126-a68a6adc5d17\",\"subtype\":\"Figure\",\"type\":\"Plot\"}},\"id\":\"0e0b6573-3971-4cc1-a970-3dde8e13e61a\",\"type\":\"Legend\"},{\"attributes\":{\"label\":{\"value\":\"CLIRAD (single-run)\"},\"renderers\":[{\"id\":\"787cc762-ad33-4bff-b9ac-c8eacfc32c70\",\"type\":\"GlyphRenderer\"}]},\"id\":\"397b4676-fde5-4642-929f-c709240e4070\",\"type\":\"LegendItem\"},{\"attributes\":{\"data_source\":{\"id\":\"93eea448-6264-4c21-8e98-cdc7860d1f55\",\"type\":\"ColumnDataSource\"},\"glyph\":{\"id\":\"75af6490-2419-4cdd-a54e-4a2338392044\",\"type\":\"Circle\"},\"hover_glyph\":null,\"muted_glyph\":null,\"nonselection_glyph\":{\"id\":\"a18d08fc-58a6-4088-881f-869d13c5c95c\",\"type\":\"Circle\"},\"selection_glyph\":null,\"view\":{\"id\":\"da70eff3-d059-49a3-8728-f1162a8d3a81\",\"type\":\"CDSView\"}},\"id\":\"15aff076-e099-4a80-8164-6d54cd986dbf\",\"type\":\"GlyphRenderer\"},{\"attributes\":{},\"id\":\"1b5600c6-7519-4b99-b4ba-e86e14a0fb13\",\"type\":\"LinearScale\"},{\"attributes\":{\"active_drag\":\"auto\",\"active_inspect\":\"auto\",\"active_scroll\":\"auto\",\"active_tap\":\"auto\",\"tools\":[{\"id\":\"bf8c15ab-df2c-4741-9f32-ad63368f5d2f\",\"type\":\"PanTool\"},{\"id\":\"388fd823-95a5-42f0-b10f-04108b80e5fc\",\"type\":\"WheelZoomTool\"},{\"id\":\"77911a57-df81-4925-94bb-e6c277d2f080\",\"type\":\"BoxZoomTool\"},{\"id\":\"98c0dfbd-bd71-4ace-be5f-4223a10fcc95\",\"type\":\"SaveTool\"},{\"id\":\"6174164b-1a8f-46a4-9f82-ced6b7ec2fd8\",\"type\":\"ResetTool\"},{\"id\":\"dc5b3e62-828b-4703-9876-1977cc96827b\",\"type\":\"HelpTool\"}]},\"id\":\"5597fc48-865c-49c7-ba1b-540db1dc909c\",\"type\":\"Toolbar\"},{\"attributes\":{\"dimension\":1,\"plot\":{\"id\":\"6d09a16d-a13b-41e8-b266-dcbd43bd0e1f\",\"subtype\":\"Figure\",\"type\":\"Plot\"},\"ticker\":{\"id\":\"006aefda-9201-4275-a9a9-205e2dd70eea\",\"type\":\"BasicTicker\"}},\"id\":\"87702bd1-1b9c-4836-872c-71c5898d0900\",\"type\":\"Grid\"},{\"attributes\":{},\"id\":\"e0b95372-d14c-431f-b8c5-22496cd8f44b\",\"type\":\"LogScale\"},{\"attributes\":{},\"id\":\"dbe69e96-e7e3-4384-8ef2-a8f559c7978b\",\"type\":\"BasicTicker\"},{\"attributes\":{\"data_source\":{\"id\":\"969a9a43-f18d-467f-884e-49af9e6becc9\",\"type\":\"ColumnDataSource\"},\"glyph\":{\"id\":\"df16c654-ade6-4b22-9e99-b4b707820946\",\"type\":\"Circle\"},\"hover_glyph\":null,\"muted_glyph\":null,\"nonselection_glyph\":{\"id\":\"6e8e7969-a4dc-44be-8c5f-1eb2f547367a\",\"type\":\"Circle\"},\"selection_glyph\":null,\"view\":{\"id\":\"725d3866-1c19-4e30-a010-857ed9170c78\",\"type\":\"CDSView\"}},\"id\":\"0a39c49e-d22e-403a-a70f-5239593f5960\",\"type\":\"GlyphRenderer\"},{\"attributes\":{\"fill_alpha\":{\"value\":0.7},\"fill_color\":{\"value\":\"#4daf4a\"},\"line_alpha\":{\"value\":0.7},\"line_color\":{\"value\":\"#4daf4a\"},\"x\":{\"field\":\"x\"},\"y\":{\"field\":\"y\"}},\"id\":\"df16c654-ade6-4b22-9e99-b4b707820946\",\"type\":\"Circle\"},{\"attributes\":{\"fill_alpha\":{\"value\":0.1},\"fill_color\":{\"value\":\"#1f77b4\"},\"line_alpha\":{\"value\":0.1},\"line_color\":{\"value\":\"#1f77b4\"},\"x\":{\"field\":\"x\"},\"y\":{\"field\":\"y\"}},\"id\":\"6e8e7969-a4dc-44be-8c5f-1eb2f547367a\",\"type\":\"Circle\"},{\"attributes\":{\"callback\":null,\"data\":{\"x\":{\"__ndarray__\":\"lAalGK/8Q8CGE5pWDoMgwKSl1BqIsQLA3tedj0Ej/D/B1EsfxC8OQNnO7ksNzw5ASFT1jd9TBED76MoyIs7mP/K34Ws9Fui/B5SoLb0p9b9BHa9TKD3xv87XqD/ppt6/njd2qq/Xtj+IsTWs3Z7dP1IiZ/m+T+E/3uUthbDQ1j8unlvPSSGyPwqYKdAPatG/ob4dgAA44b+hGTDqb0/hvy5r3sa3nNO/PTeDO117ur+OD4jURPWgv4GIasHWxcu/WtYff6dK17+vawS7/i67v0WK81haitQ/KZhcREWt1T8/X2I46pe4PzW+eboZD4o/D9WQrnR0zj/ggxshrEHUP2hEyNKEZcE/X3xvHBvvq7/PFtbGvpWavye0G7YmcqM/gBmhHJD2nL+RdOrQWOSyv57C6w9C2a6/J7MHaNP5q7/hjWIWltauv5rxI9BByq+/qdJtmlm9sb8lWa88jlKov85OPMKYgLC//kbGNGdxv78v3VhOuDy0v/UW3BRHp66/jqAqyq5Utb8wV56ocj+1v8sdzS+mlqy/NrHRaTa0n7/4DIGn8p6UvyR46M5jOpa/WroCp4Eanr9uY8OXpFKfvyXpt68D546/m49UYHpbjj9RoDbaDBimP3AkZA7scqw/7g5nRouopz8Fg7FT5sWXPwCwL9oJTQc/RLPy+5mifb8AMtXr1YlkP+Yr2AP74Zk/tOXHt+32qz9ZQz3YvTCyP5KBroWe37I/zRPAZbbxsz80mqt6IQW1P3RCh8DaH7Y/QEBcyJMjuj/gQYCMeCu+P5L4jnpFvFfA\",\"dtype\":\"float64\",\"shape\":[75]},\"y\":{\"__ndarray__\":\"GhExyth1ND/Sv8nbtpRIP2vylNV0PVE/aTum7souWD/At0SJ8fVgPw3Iuahxymc/MSNhhJWvcD/bTfBN02d3P2zb5nxnaoA/CD5h5MAGhz8NmeH1TyaQP+zrCsc9p5Y/LbKd76fGnz/bLW5ISEmmPww9YvTcQq8/JV2OstnstT8Er5Y7M8G+P0c+r3jqkcU/5h99k6ZBzj88bCIzFzjVP4enV8oyxN0//yH99nXg5D8qOpLLf0jtP5kqGJXUifQ/c9cS8kHP/D+/DpwzojQEQIEmwoanVwxA4lgXt9HgE0BSSZ2AJuIbQAMJih9jjiNA5q4l5INuK0AwTKYKRj0zQNv5fmq8/DpAaCJseHrtQkB/+zpwzoxKQM3MzMzMeFJAZmZmZmZqWEAAAAAAAFxeQM3MzMzMJmJAmpmZmZkfZUBmZmZmZhhoQDMzMzMzEWtAAAAAAAAKbkBmZmZmZoFwQM3MzMzM/XFAMzMzMzN6c0CamZmZmfZ0QAAAAAAAc3ZAZmZmZmbvd0DNzMzMzGt5QDMzMzMz6HpAmpmZmZlkfEAAAAAAAOF9QGZmZmZmXX9AZmZmZuZsgECamZmZGSuBQM3MzMxM6YFAAAAAAICngkAzMzMzs2WDQGZmZmbmI4RAmpmZmRnihEDNzMzMTKCFQAAAAACAXoZAMzMzM7Mch0BmZmZm5tqHQJqZmZkZmYhAzczMzExXiUAAAAAAgBWKQDMzMzOz04pAZmZmZuaRi0CamZmZGVCMQM3MzMxMDo1AAAAAAIDMjUAzMzMzs4qOQGZmZmbmSI9A\",\"dtype\":\"float64\",\"shape\":[75]}},\"selected\":{\"id\":\"d98f2767-6ff1-4110-806e-5ec2c96d544f\",\"type\":\"Selection\"},\"selection_policy\":{\"id\":\"c60f53a6-6ce7-4cfd-9675-98ad3e9f2559\",\"type\":\"UnionRenderers\"}},\"id\":\"8733ca79-c87f-4354-87dd-5cb7839da0e0\",\"type\":\"ColumnDataSource\"},{\"attributes\":{},\"id\":\"006aefda-9201-4275-a9a9-205e2dd70eea\",\"type\":\"BasicTicker\"},{\"attributes\":{\"callback\":null,\"end\":12.208583273105388,\"start\":-0.6033023020843901},\"id\":\"b96c3b79-077f-4d17-ab4e-cee78536e2c5\",\"type\":\"Range1d\"},{\"attributes\":{\"line_alpha\":0.1,\"line_color\":\"#1f77b4\",\"line_dash\":[6],\"line_width\":5,\"x\":{\"field\":\"x\"},\"y\":{\"field\":\"y\"}},\"id\":\"5bf35c39-894c-48b6-a785-0b5069082bdd\",\"type\":\"Line\"},{\"attributes\":{\"callback\":null,\"data\":{\"x\":{\"__ndarray__\":\"+91suA2FRUDEhDu3BNNCQJGH2RpTtEFAEt02UCgdQEDVxLSQChY8QIhbJRqUKjdAYVUzOB7pMUDTM3KX3QQqQEK9BNB3SCJA6NjTUF6dGkBKgvPiLzsVQL0Sjm8nBhJA/DvUw9qUDUDkg8wWHTEDQPqPmlKB6f4/+3yWOi+sBUBavERq4UMMQLVhH27xnBBAfwWOfm3eE0DummfvB08ZQAaUixg3DCFArKetlIYCJ0Cs7TuihhkoQB+fXFuzhCRAQi/iYYwnIUBZuHizlFYcQC1AvJM7WRhAg3T9xFgsFEA0HebAUMcPQFKxsGLKOwlAuRjZ7ZQ7BUAmhydNp3kAQNl7ZywnsfQ/bePIZtQK5j8GONhrav7QPxDDyUYoicG/tW4zfJCS3r80aRMuziHYv2KS/mjbLl+/fwV3ehhXxT+O1XwUPq7YP7JEdD4ju+w/6QCXA6269j/1X/IRTNf9P3eY3xv76wBA9MudvM6EAUC4nZXZbkcCQJZjjxetTAJAN+UlS5cWAUCXT334HoEAQPbZ2qEuTwBAxddFMwkvAEAgAG4tOAQAQIwWdH+UnP8/BWSLQ0Y//z+ZMGChRAf/P7Wo5GjCDf8/mQ+WHj5C/z+7FkMl7WP/Px29Y3brZP8/oy7TqCBM/z/lglFOVvr+P18JCfCU2P0/cmhc+6zJ/D8DIuChwy/6P76YinnXm/c/Z9o81bPt9T/nsnvwZn70P/MHGE0DxPM/L8l+pxuV8z/YaqQova7zP2CtsiQ0EfQ/P+H9lMkD9T+yagFyKrv2P62LMWn5NlfA\",\"dtype\":\"float64\",\"shape\":[75]},\"y\":{\"__ndarray__\":\"GhExyth1ND/Sv8nbtpRIP2vylNV0PVE/aTum7souWD/At0SJ8fVgPw3Iuahxymc/MSNhhJWvcD/bTfBN02d3P2zb5nxnaoA/CD5h5MAGhz8NmeH1TyaQP+zrCsc9p5Y/LbKd76fGnz/bLW5ISEmmPww9YvTcQq8/JV2OstnstT8Er5Y7M8G+P0c+r3jqkcU/5h99k6ZBzj88bCIzFzjVP4enV8oyxN0//yH99nXg5D8qOpLLf0jtP5kqGJXUifQ/c9cS8kHP/D+/DpwzojQEQIEmwoanVwxA4lgXt9HgE0BSSZ2AJuIbQAMJih9jjiNA5q4l5INuK0AwTKYKRj0zQNv5fmq8/DpAaCJseHrtQkB/+zpwzoxKQM3MzMzMeFJAZmZmZmZqWEAAAAAAAFxeQM3MzMzMJmJAmpmZmZkfZUBmZmZmZhhoQDMzMzMzEWtAAAAAAAAKbkBmZmZmZoFwQM3MzMzM/XFAMzMzMzN6c0CamZmZmfZ0QAAAAAAAc3ZAZmZmZmbvd0DNzMzMzGt5QDMzMzMz6HpAmpmZmZlkfEAAAAAAAOF9QGZmZmZmXX9AZmZmZuZsgECamZmZGSuBQM3MzMxM6YFAAAAAAICngkAzMzMzs2WDQGZmZmbmI4RAmpmZmRnihEDNzMzMTKCFQAAAAACAXoZAMzMzM7Mch0BmZmZm5tqHQJqZmZkZmYhAzczMzExXiUAAAAAAgBWKQDMzMzOz04pAZmZmZuaRi0CamZmZGVCMQM3MzMxMDo1AAAAAAIDMjUAzMzMzs4qOQGZmZmbmSI9A\",\"dtype\":\"float64\",\"shape\":[75]}},\"selected\":{\"id\":\"61e41f5c-a5a2-484b-b66c-7b89ae651d35\",\"type\":\"Selection\"},\"selection_policy\":{\"id\":\"0839b83b-7093-41df-9ba0-6cbfe1e612d5\",\"type\":\"UnionRenderers\"}},\"id\":\"ff34c70e-268a-49a6-a019-e91e28c4cc9a\",\"type\":\"ColumnDataSource\"},{\"attributes\":{},\"id\":\"4d438f29-dab5-4133-912d-aba25a1130c0\",\"type\":\"SaveTool\"},{\"attributes\":{},\"id\":\"a1c5ba0f-3324-41ef-b653-dce4fe7c5407\",\"type\":\"BasicTicker\"},{\"attributes\":{\"bottom_units\":\"screen\",\"fill_alpha\":{\"value\":0.5},\"fill_color\":{\"value\":\"lightgrey\"},\"left_units\":\"screen\",\"level\":\"overlay\",\"line_alpha\":{\"value\":1.0},\"line_color\":{\"value\":\"black\"},\"line_dash\":[4,4],\"line_width\":{\"value\":2},\"plot\":null,\"render_mode\":\"css\",\"right_units\":\"screen\",\"top_units\":\"screen\"},\"id\":\"36163288-17d5-4954-ba99-df9fafaae09d\",\"type\":\"BoxAnnotation\"},{\"attributes\":{\"callback\":null,\"end\":0.01,\"start\":1020},\"id\":\"3d2f7468-b108-4026-9bfd-05da629f5ccd\",\"type\":\"Range1d\"},{\"attributes\":{\"source\":{\"id\":\"969a9a43-f18d-467f-884e-49af9e6becc9\",\"type\":\"ColumnDataSource\"}},\"id\":\"725d3866-1c19-4e30-a010-857ed9170c78\",\"type\":\"CDSView\"},{\"attributes\":{\"line_alpha\":0.1,\"line_color\":\"#1f77b4\",\"line_width\":1.5,\"x\":{\"field\":\"x\"},\"y\":{\"field\":\"y\"}},\"id\":\"c00a8904-2a67-4893-9582-d6b88ce688d8\",\"type\":\"Line\"},{\"attributes\":{},\"id\":\"a2bfc790-e7f1-44fe-9340-f5f5b7ceb14c\",\"type\":\"BasicTickFormatter\"},{\"attributes\":{},\"id\":\"61e41f5c-a5a2-484b-b66c-7b89ae651d35\",\"type\":\"Selection\"},{\"attributes\":{},\"id\":\"6ca858ba-281a-4ccd-823f-18635731b7b7\",\"type\":\"WheelZoomTool\"},{\"attributes\":{\"axis_label\":\"cooling rate [K/day]\",\"formatter\":{\"id\":\"72f9c23b-db0a-4b5f-91c0-fea9c0962bf1\",\"type\":\"BasicTickFormatter\"},\"plot\":{\"id\":\"0be40859-68e3-4f0b-9126-a68a6adc5d17\",\"subtype\":\"Figure\",\"type\":\"Plot\"},\"ticker\":{\"id\":\"dbe69e96-e7e3-4384-8ef2-a8f559c7978b\",\"type\":\"BasicTicker\"}},\"id\":\"2a2cf98f-7cc3-4d4c-9618-9587bd452741\",\"type\":\"LinearAxis\"},{\"attributes\":{\"plot\":{\"id\":\"6d09a16d-a13b-41e8-b266-dcbd43bd0e1f\",\"subtype\":\"Figure\",\"type\":\"Plot\"},\"ticker\":{\"id\":\"a1c5ba0f-3324-41ef-b653-dce4fe7c5407\",\"type\":\"BasicTicker\"}},\"id\":\"67b37dd7-6c08-4725-9184-b7b353efffa7\",\"type\":\"Grid\"},{\"attributes\":{},\"id\":\"bf8c15ab-df2c-4741-9f32-ad63368f5d2f\",\"type\":\"PanTool\"},{\"attributes\":{},\"id\":\"c26b06b8-064f-48d5-bfba-23a268e09f20\",\"type\":\"LinearScale\"},{\"attributes\":{\"callback\":null,\"data\":{\"x\":{\"__ndarray__\":\"R/KIaN7AVEClCeJMyPNGQOvRhpxr30JAptxzhxx4PkA7SssMElA4QK6Bp3CyUDNAsVXpjES9LkBFhUV0+5coQMHYwqbbySNA6f09nM3nH0CaSd/3eYoZQDmgiAOW8BNAPYqARh3eDEBkm4vCgvr+P9D+5tWhQfY/P8DwKRnSAkBq38kb17ILQDT7IWuSsxFAUr2Rjm0FFkAinq3s9XgbQGCHwtYcqSFAG64kT303J0C7dRDneyooQD9JYrbK8yRA9S3bneHhIUAIymSuUMMcQIkHLe6VEBdAAau3cITREkA6CiNvkQIPQJU39ki7IQlAaAvwok1UA0BXLQiS4+L7P0xzDpJ2hPI/NNuPGMbJ5z91mUVYxqfSPxqwUPSxZca/G11peifD3L8QzNj5t2jTvwzOozTL360/SPJ4VI1VzD9KJ0nXEIncP8yDdlvHt+4/Et49nYLW9z++2teD4Jn+P+568eH/bwFALf5D9lmAAkCiZAicVOkCQPPT4jNKxwJAOjp3wTzBAUBSQsKNGisBQG4OmjqJwQBAJ3sZoHFuAEA5Ar0Sdi0AQGy4rw5+9f8/7W4nSrC3/z8mPr8zj4T/P4UYRHCQS/8/embVKYcF/z+5YXG+LLP+P/qb8BVUgf4/KvafTtyO/j/avAK1Ppv+PwJV9VVm2P0/JFtYlU/n/D9sN+q2fiX6Pw44e41PNPc/Opt+Z/wN9T+x3vcSW1vzP9ofvWQJlvI/8sciQQBW8j80sfkQa17yPzg5qng2r/I/Oh14WJBh8z+VZjnpctj0P6CcrSuCqQBA\",\"dtype\":\"float64\",\"shape\":[75]},\"y\":{\"__ndarray__\":\"GhExyth1ND/Sv8nbtpRIP2vylNV0PVE/aTum7souWD/At0SJ8fVgPw3Iuahxymc/MSNhhJWvcD/bTfBN02d3P2zb5nxnaoA/CD5h5MAGhz8NmeH1TyaQP+zrCsc9p5Y/LbKd76fGnz/bLW5ISEmmPww9YvTcQq8/JV2OstnstT8Er5Y7M8G+P0c+r3jqkcU/5h99k6ZBzj88bCIzFzjVP4enV8oyxN0//yH99nXg5D8qOpLLf0jtP5kqGJXUifQ/c9cS8kHP/D+/DpwzojQEQIEmwoanVwxA4lgXt9HgE0BSSZ2AJuIbQAMJih9jjiNA5q4l5INuK0AwTKYKRj0zQNv5fmq8/DpAaCJseHrtQkB/+zpwzoxKQM3MzMzMeFJAZmZmZmZqWEAAAAAAAFxeQM3MzMzMJmJAmpmZmZkfZUBmZmZmZhhoQDMzMzMzEWtAAAAAAAAKbkBmZmZmZoFwQM3MzMzM/XFAMzMzMzN6c0CamZmZmfZ0QAAAAAAAc3ZAZmZmZmbvd0DNzMzMzGt5QDMzMzMz6HpAmpmZmZlkfEAAAAAAAOF9QGZmZmZmXX9AZmZmZuZsgECamZmZGSuBQM3MzMxM6YFAAAAAAICngkAzMzMzs2WDQGZmZmbmI4RAmpmZmRnihEDNzMzMTKCFQAAAAACAXoZAMzMzM7Mch0BmZmZm5tqHQJqZmZkZmYhAzczMzExXiUAAAAAAgBWKQDMzMzOz04pAZmZmZuaRi0CamZmZGVCMQM3MzMxMDo1AAAAAAIDMjUAzMzMzs4qOQGZmZmbmSI9A\",\"dtype\":\"float64\",\"shape\":[75]}},\"selected\":{\"id\":\"09814355-5afc-4611-a2ac-37c2ba37ee21\",\"type\":\"Selection\"},\"selection_policy\":{\"id\":\"4afa2c3e-1b2d-4bc8-9b37-ecd2da4e7ce4\",\"type\":\"UnionRenderers\"}},\"id\":\"ccbdcca6-39c4-4c2a-a69c-0418040662e1\",\"type\":\"ColumnDataSource\"},{\"attributes\":{\"data_source\":{\"id\":\"ccbdcca6-39c4-4c2a-a69c-0418040662e1\",\"type\":\"ColumnDataSource\"},\"glyph\":{\"id\":\"f497e37b-598f-4430-a351-7d697eb9b806\",\"type\":\"Line\"},\"hover_glyph\":null,\"muted_glyph\":null,\"nonselection_glyph\":{\"id\":\"c00a8904-2a67-4893-9582-d6b88ce688d8\",\"type\":\"Line\"},\"selection_glyph\":null,\"view\":{\"id\":\"c9ec17fa-0142-43c0-92ac-a38308c0b411\",\"type\":\"CDSView\"}},\"id\":\"48c50f59-4a1d-4395-9242-d7c47bb9c429\",\"type\":\"GlyphRenderer\"},{\"attributes\":{\"items\":[{\"id\":\"397b4676-fde5-4642-929f-c709240e4070\",\"type\":\"LegendItem\"},{\"id\":\"73c36ab1-adf4-4985-988c-42baa1ba06a4\",\"type\":\"LegendItem\"}],\"label_text_font_size\":{\"value\":\"8pt\"},\"location\":\"top_center\",\"orientation\":\"horizontal\",\"plot\":{\"id\":\"6d09a16d-a13b-41e8-b266-dcbd43bd0e1f\",\"subtype\":\"Figure\",\"type\":\"Plot\"}},\"id\":\"718e057c-7fee-4140-b083-fafa633e3495\",\"type\":\"Legend\"},{\"attributes\":{\"overlay\":{\"id\":\"36163288-17d5-4954-ba99-df9fafaae09d\",\"type\":\"BoxAnnotation\"}},\"id\":\"8f79a92e-4a63-4e93-a7ed-8241a6b5108c\",\"type\":\"BoxZoomTool\"},{\"attributes\":{\"callback\":null,\"end\":0.01,\"start\":1020},\"id\":\"b644376f-629c-459d-a45f-83ae517571e7\",\"type\":\"Range1d\"},{\"attributes\":{},\"id\":\"a968fa50-4086-4886-b0e4-a8348030c8df\",\"type\":\"HelpTool\"},{\"attributes\":{},\"id\":\"952f2713-0735-49b5-a7d2-2ef349aa7f27\",\"type\":\"ResetTool\"},{\"attributes\":{\"above\":[{\"id\":\"718e057c-7fee-4140-b083-fafa633e3495\",\"type\":\"Legend\"}],\"below\":[{\"id\":\"4140e7d5-e9e5-4ebf-b730-59da5773f7b6\",\"type\":\"LinearAxis\"}],\"left\":[{\"id\":\"95d0b609-b7fe-4db9-bf78-c3c57f359df1\",\"type\":\"LinearAxis\"}],\"plot_width\":300,\"renderers\":[{\"id\":\"4140e7d5-e9e5-4ebf-b730-59da5773f7b6\",\"type\":\"LinearAxis\"},{\"id\":\"67b37dd7-6c08-4725-9184-b7b353efffa7\",\"type\":\"Grid\"},{\"id\":\"95d0b609-b7fe-4db9-bf78-c3c57f359df1\",\"type\":\"LinearAxis\"},{\"id\":\"87702bd1-1b9c-4836-872c-71c5898d0900\",\"type\":\"Grid\"},{\"id\":\"e3a3920c-5a10-4d84-a63e-ca4b25ad763a\",\"type\":\"BoxAnnotation\"},{\"id\":\"787cc762-ad33-4bff-b9ac-c8eacfc32c70\",\"type\":\"GlyphRenderer\"},{\"id\":\"0a39c49e-d22e-403a-a70f-5239593f5960\",\"type\":\"GlyphRenderer\"},{\"id\":\"48c50f59-4a1d-4395-9242-d7c47bb9c429\",\"type\":\"GlyphRenderer\"},{\"id\":\"718e057c-7fee-4140-b083-fafa633e3495\",\"type\":\"Legend\"}],\"title\":{\"id\":\"41c2ffdc-209b-43a7-8b93-c6582ae47a20\",\"type\":\"Title\"},\"toolbar\":{\"id\":\"5597fc48-865c-49c7-ba1b-540db1dc909c\",\"type\":\"Toolbar\"},\"toolbar_location\":null,\"x_range\":{\"id\":\"e795b9d5-5d4c-47ee-8375-0428e2a081cb\",\"type\":\"Range1d\"},\"x_scale\":{\"id\":\"c26b06b8-064f-48d5-bfba-23a268e09f20\",\"type\":\"LinearScale\"},\"y_range\":{\"id\":\"b644376f-629c-459d-a45f-83ae517571e7\",\"type\":\"Range1d\"},\"y_scale\":{\"id\":\"4b037ae3-c0bf-454f-93d2-78e5b58222f6\",\"type\":\"LinearScale\"}},\"id\":\"6d09a16d-a13b-41e8-b266-dcbd43bd0e1f\",\"subtype\":\"Figure\",\"type\":\"Plot\"},{\"attributes\":{\"axis_label\":\"pressure [mb]\",\"formatter\":{\"id\":\"92d38dbb-ad02-4153-861f-c8233fed8683\",\"type\":\"BasicTickFormatter\"},\"plot\":{\"id\":\"6d09a16d-a13b-41e8-b266-dcbd43bd0e1f\",\"subtype\":\"Figure\",\"type\":\"Plot\"},\"ticker\":{\"id\":\"006aefda-9201-4275-a9a9-205e2dd70eea\",\"type\":\"BasicTicker\"}},\"id\":\"95d0b609-b7fe-4db9-bf78-c3c57f359df1\",\"type\":\"LinearAxis\"},{\"attributes\":{\"callback\":null,\"end\":3.3161599485207005,\"start\":-93.8112018714507},\"id\":\"e795b9d5-5d4c-47ee-8375-0428e2a081cb\",\"type\":\"Range1d\"},{\"attributes\":{\"line_color\":\"#4daf4a\",\"line_width\":1.5,\"x\":{\"field\":\"x\"},\"y\":{\"field\":\"y\"}},\"id\":\"f497e37b-598f-4430-a351-7d697eb9b806\",\"type\":\"Line\"},{\"attributes\":{},\"id\":\"8b5d9bc1-0584-41c2-bd92-cd30ebfac814\",\"type\":\"UnionRenderers\"},{\"attributes\":{},\"id\":\"72f9c23b-db0a-4b5f-91c0-fea9c0962bf1\",\"type\":\"BasicTickFormatter\"},{\"attributes\":{\"source\":{\"id\":\"8733ca79-c87f-4354-87dd-5cb7839da0e0\",\"type\":\"ColumnDataSource\"}},\"id\":\"92041214-70fa-4394-8fa0-b0c117209e32\",\"type\":\"CDSView\"},{\"attributes\":{\"data_source\":{\"id\":\"8733ca79-c87f-4354-87dd-5cb7839da0e0\",\"type\":\"ColumnDataSource\"},\"glyph\":{\"id\":\"605ac3ae-f887-467a-b7d6-c19443be623c\",\"type\":\"Circle\"},\"hover_glyph\":null,\"muted_glyph\":null,\"nonselection_glyph\":{\"id\":\"b7237969-776b-43ee-b2c3-7f9c56d796be\",\"type\":\"Circle\"},\"selection_glyph\":null,\"view\":{\"id\":\"92041214-70fa-4394-8fa0-b0c117209e32\",\"type\":\"CDSView\"}},\"id\":\"8450d201-2207-4a44-bffa-d718325a56b3\",\"type\":\"GlyphRenderer\"},{\"attributes\":{},\"id\":\"aab0c36e-3ea0-41dc-95cd-364aec9950a5\",\"type\":\"Selection\"},{\"attributes\":{},\"id\":\"f42f2244-9b8d-4d07-8543-31d22bc5a5c5\",\"type\":\"LogScale\"},{\"attributes\":{},\"id\":\"09814355-5afc-4611-a2ac-37c2ba37ee21\",\"type\":\"Selection\"},{\"attributes\":{\"num_minor_ticks\":10},\"id\":\"bf1d057a-1dad-447c-ac51-72ef28b97223\",\"type\":\"LogTicker\"},{\"attributes\":{},\"id\":\"dc5b3e62-828b-4703-9876-1977cc96827b\",\"type\":\"HelpTool\"},{\"attributes\":{\"callback\":null,\"end\":0.01,\"start\":1020},\"id\":\"dcde2b8f-86ef-4803-94ed-a653f5f175e0\",\"type\":\"Range1d\"},{\"attributes\":{},\"id\":\"6174164b-1a8f-46a4-9f82-ced6b7ec2fd8\",\"type\":\"ResetTool\"},{\"attributes\":{},\"id\":\"3ef2529a-349d-4481-b429-7d52d9311414\",\"type\":\"PanTool\"},{\"attributes\":{\"tools\":[{\"id\":\"bf8c15ab-df2c-4741-9f32-ad63368f5d2f\",\"type\":\"PanTool\"},{\"id\":\"388fd823-95a5-42f0-b10f-04108b80e5fc\",\"type\":\"WheelZoomTool\"},{\"id\":\"77911a57-df81-4925-94bb-e6c277d2f080\",\"type\":\"BoxZoomTool\"},{\"id\":\"98c0dfbd-bd71-4ace-be5f-4223a10fcc95\",\"type\":\"SaveTool\"},{\"id\":\"6174164b-1a8f-46a4-9f82-ced6b7ec2fd8\",\"type\":\"ResetTool\"},{\"id\":\"dc5b3e62-828b-4703-9876-1977cc96827b\",\"type\":\"HelpTool\"},{\"id\":\"ebbb703e-8a4c-4207-afbd-8b2e78a7ade0\",\"type\":\"PanTool\"},{\"id\":\"384102cf-345f-4cd0-b837-ea8083ad14a4\",\"type\":\"WheelZoomTool\"},{\"id\":\"c2cd948e-aed3-480c-a93b-e6da891d4d8c\",\"type\":\"BoxZoomTool\"},{\"id\":\"08c71c0b-963d-4cec-adaa-d377c7cf1a73\",\"type\":\"SaveTool\"},{\"id\":\"9c3cf117-5877-4a0d-b0ae-5bfc02001388\",\"type\":\"ResetTool\"},{\"id\":\"025896ad-2b58-4241-bb56-a126c31c8a6b\",\"type\":\"HelpTool\"},{\"id\":\"3ef2529a-349d-4481-b429-7d52d9311414\",\"type\":\"PanTool\"},{\"id\":\"6ca858ba-281a-4ccd-823f-18635731b7b7\",\"type\":\"WheelZoomTool\"},{\"id\":\"8f79a92e-4a63-4e93-a7ed-8241a6b5108c\",\"type\":\"BoxZoomTool\"},{\"id\":\"4d438f29-dab5-4133-912d-aba25a1130c0\",\"type\":\"SaveTool\"},{\"id\":\"952f2713-0735-49b5-a7d2-2ef349aa7f27\",\"type\":\"ResetTool\"},{\"id\":\"a968fa50-4086-4886-b0e4-a8348030c8df\",\"type\":\"HelpTool\"}]},\"id\":\"24ed73a1-06dd-40e2-a546-c3db9f89c7d5\",\"type\":\"ProxyToolbar\"},{\"attributes\":{},\"id\":\"ebbb703e-8a4c-4207-afbd-8b2e78a7ade0\",\"type\":\"PanTool\"},{\"attributes\":{},\"id\":\"0839b83b-7093-41df-9ba0-6cbfe1e612d5\",\"type\":\"UnionRenderers\"},{\"attributes\":{\"ticker\":null},\"id\":\"683f47e1-7a99-4b7a-abbc-02df43b10d2d\",\"type\":\"LogTickFormatter\"},{\"attributes\":{\"dimension\":1,\"plot\":{\"id\":\"cf374cd8-10eb-4611-b752-2a565bf08554\",\"subtype\":\"Figure\",\"type\":\"Plot\"},\"ticker\":{\"id\":\"bf1d057a-1dad-447c-ac51-72ef28b97223\",\"type\":\"LogTicker\"}},\"id\":\"e04be3bc-a872-43e8-b066-6dda46b5e5b4\",\"type\":\"Grid\"},{\"attributes\":{\"label\":{\"value\":\"CLIRAD (single-run)\"},\"renderers\":[{\"id\":\"11b33ed0-3789-4d78-bd2d-59dd0c9485f6\",\"type\":\"GlyphRenderer\"}]},\"id\":\"76551d4f-fb85-4160-b0f5-0a6b952ea76b\",\"type\":\"LegendItem\"},{\"attributes\":{\"overlay\":{\"id\":\"7aced8a9-7755-4f25-aae5-7fc99dff420a\",\"type\":\"BoxAnnotation\"}},\"id\":\"c2cd948e-aed3-480c-a93b-e6da891d4d8c\",\"type\":\"BoxZoomTool\"},{\"attributes\":{\"plot\":null,\"text\":\"\"},\"id\":\"d48cb34a-5a68-4d1b-8807-d7343640c5ca\",\"type\":\"Title\"},{\"attributes\":{\"source\":{\"id\":\"9b18933e-78fa-4d0b-bde2-cd7a0d315761\",\"type\":\"ColumnDataSource\"}},\"id\":\"8b65f16f-fd88-4cb9-ac65-08eaa564aedf\",\"type\":\"CDSView\"},{\"attributes\":{},\"id\":\"d98f2767-6ff1-4110-806e-5ec2c96d544f\",\"type\":\"Selection\"},{\"attributes\":{\"bottom_units\":\"screen\",\"fill_alpha\":{\"value\":0.5},\"fill_color\":{\"value\":\"lightgrey\"},\"left_units\":\"screen\",\"level\":\"overlay\",\"line_alpha\":{\"value\":1.0},\"line_color\":{\"value\":\"black\"},\"line_dash\":[4,4],\"line_width\":{\"value\":2},\"plot\":null,\"render_mode\":\"css\",\"right_units\":\"screen\",\"top_units\":\"screen\"},\"id\":\"7aced8a9-7755-4f25-aae5-7fc99dff420a\",\"type\":\"BoxAnnotation\"},{\"attributes\":{\"line_alpha\":0.1,\"line_color\":\"#1f77b4\",\"line_width\":1.5,\"x\":{\"field\":\"x\"},\"y\":{\"field\":\"y\"}},\"id\":\"c683c6c4-005d-4c4c-ab0b-67a1cfd1eb93\",\"type\":\"Line\"},{\"attributes\":{\"ticker\":null},\"id\":\"92c0596a-f524-4aaa-98b4-5a86e701e5b3\",\"type\":\"LogTickFormatter\"},{\"attributes\":{},\"id\":\"335df8d7-f046-4514-9eab-0f43b12e17f1\",\"type\":\"UnionRenderers\"},{\"attributes\":{\"overlay\":{\"id\":\"e3a3920c-5a10-4d84-a63e-ca4b25ad763a\",\"type\":\"BoxAnnotation\"}},\"id\":\"77911a57-df81-4925-94bb-e6c277d2f080\",\"type\":\"BoxZoomTool\"},{\"attributes\":{},\"id\":\"895e7c2b-cd25-4807-af43-2c8b7a436746\",\"type\":\"Selection\"},{\"attributes\":{\"callback\":null,\"data\":{\"x\":{\"__ndarray__\":\"lAalGK/8Q8CGE5pWDoMgwKSl1BqIsQLA3tedj0Ej/D/B1EsfxC8OQNnO7ksNzw5ASFT1jd9TBED76MoyIs7mP/K34Ws9Fui/B5SoLb0p9b9BHa9TKD3xv87XqD/ppt6/njd2qq/Xtj+IsTWs3Z7dP1IiZ/m+T+E/3uUthbDQ1j8unlvPSSGyPwqYKdAPatG/ob4dgAA44b+hGTDqb0/hvy5r3sa3nNO/PTeDO117ur+OD4jURPWgv4GIasHWxcu/WtYff6dK17+vawS7/i67v0WK81haitQ/KZhcREWt1T8/X2I46pe4PzW+eboZD4o/D9WQrnR0zj/ggxshrEHUP2hEyNKEZcE/X3xvHBvvq7/PFtbGvpWavye0G7YmcqM/gBmhHJD2nL+RdOrQWOSyv57C6w9C2a6/J7MHaNP5q7/hjWIWltauv5rxI9BByq+/qdJtmlm9sb8lWa88jlKov85OPMKYgLC//kbGNGdxv78v3VhOuDy0v/UW3BRHp66/jqAqyq5Utb8wV56ocj+1v8sdzS+mlqy/NrHRaTa0n7/4DIGn8p6UvyR46M5jOpa/WroCp4Eanr9uY8OXpFKfvyXpt68D546/m49UYHpbjj9RoDbaDBimP3AkZA7scqw/7g5nRouopz8Fg7FT5sWXPwCwL9oJTQc/RLPy+5mifb8AMtXr1YlkP+Yr2AP74Zk/tOXHt+32qz9ZQz3YvTCyP5KBroWe37I/zRPAZbbxsz80mqt6IQW1P3RCh8DaH7Y/QEBcyJMjuj/gQYCMeCu+P5L4jnpFvFfA\",\"dtype\":\"float64\",\"shape\":[75]},\"y\":{\"__ndarray__\":\"GhExyth1ND/Sv8nbtpRIP2vylNV0PVE/aTum7souWD/At0SJ8fVgPw3Iuahxymc/MSNhhJWvcD/bTfBN02d3P2zb5nxnaoA/CD5h5MAGhz8NmeH1TyaQP+zrCsc9p5Y/LbKd76fGnz/bLW5ISEmmPww9YvTcQq8/JV2OstnstT8Er5Y7M8G+P0c+r3jqkcU/5h99k6ZBzj88bCIzFzjVP4enV8oyxN0//yH99nXg5D8qOpLLf0jtP5kqGJXUifQ/c9cS8kHP/D+/DpwzojQEQIEmwoanVwxA4lgXt9HgE0BSSZ2AJuIbQAMJih9jjiNA5q4l5INuK0AwTKYKRj0zQNv5fmq8/DpAaCJseHrtQkB/+zpwzoxKQM3MzMzMeFJAZmZmZmZqWEAAAAAAAFxeQM3MzMzMJmJAmpmZmZkfZUBmZmZmZhhoQDMzMzMzEWtAAAAAAAAKbkBmZmZmZoFwQM3MzMzM/XFAMzMzMzN6c0CamZmZmfZ0QAAAAAAAc3ZAZmZmZmbvd0DNzMzMzGt5QDMzMzMz6HpAmpmZmZlkfEAAAAAAAOF9QGZmZmZmXX9AZmZmZuZsgECamZmZGSuBQM3MzMxM6YFAAAAAAICngkAzMzMzs2WDQGZmZmbmI4RAmpmZmRnihEDNzMzMTKCFQAAAAACAXoZAMzMzM7Mch0BmZmZm5tqHQJqZmZkZmYhAzczMzExXiUAAAAAAgBWKQDMzMzOz04pAZmZmZuaRi0CamZmZGVCMQM3MzMxMDo1AAAAAAIDMjUAzMzMzs4qOQGZmZmbmSI9A\",\"dtype\":\"float64\",\"shape\":[75]}},\"selected\":{\"id\":\"7ee5357e-01bb-4c14-a4d2-87c329365798\",\"type\":\"Selection\"},\"selection_policy\":{\"id\":\"239f72c0-4aea-4df5-a31c-2d776aa8a65b\",\"type\":\"UnionRenderers\"}},\"id\":\"543c5292-927c-4e83-b08f-b95fd3e42eb9\",\"type\":\"ColumnDataSource\"},{\"attributes\":{\"line_alpha\":0.8,\"line_color\":\"#984ea3\",\"line_width\":1.5,\"x\":{\"field\":\"x\"},\"y\":{\"field\":\"y\"}},\"id\":\"31c603d6-5ac1-40d2-a05b-3170c08a1ca0\",\"type\":\"Line\"},{\"attributes\":{},\"id\":\"eeefe4dc-e913-4d24-a88f-13353de3497d\",\"type\":\"BasicTickFormatter\"},{\"attributes\":{\"above\":[{\"id\":\"0e0b6573-3971-4cc1-a970-3dde8e13e61a\",\"type\":\"Legend\"}],\"below\":[{\"id\":\"2a2cf98f-7cc3-4d4c-9618-9587bd452741\",\"type\":\"LinearAxis\"}],\"left\":[{\"id\":\"d6448590-a693-4e0b-b47c-1e14a194409c\",\"type\":\"LogAxis\"}],\"plot_width\":300,\"renderers\":[{\"id\":\"2a2cf98f-7cc3-4d4c-9618-9587bd452741\",\"type\":\"LinearAxis\"},{\"id\":\"2b91506a-c1b7-462d-95f9-7b8dfdd27576\",\"type\":\"Grid\"},{\"id\":\"d6448590-a693-4e0b-b47c-1e14a194409c\",\"type\":\"LogAxis\"},{\"id\":\"3e8c57f2-7b81-4c7e-a5d2-bc783bee0836\",\"type\":\"Grid\"},{\"id\":\"36163288-17d5-4954-ba99-df9fafaae09d\",\"type\":\"BoxAnnotation\"},{\"id\":\"8450d201-2207-4a44-bffa-d718325a56b3\",\"type\":\"GlyphRenderer\"},{\"id\":\"42e46458-3889-4048-8326-5ea20d43f068\",\"type\":\"GlyphRenderer\"},{\"id\":\"0e0b6573-3971-4cc1-a970-3dde8e13e61a\",\"type\":\"Legend\"}],\"title\":{\"id\":\"fcc26fd7-5392-49d8-bd4f-6a2bbddd9805\",\"type\":\"Title\"},\"toolbar\":{\"id\":\"1ccb356b-e14d-45e5-8589-94eee4c7f96f\",\"type\":\"Toolbar\"},\"toolbar_location\":null,\"x_range\":{\"id\":\"4ff2b8ba-b27f-4ddf-b6a8-878c92b0108a\",\"type\":\"Range1d\"},\"x_scale\":{\"id\":\"fd53eebc-3d67-4a3d-80e1-72f379d701ca\",\"type\":\"LinearScale\"},\"y_range\":{\"id\":\"dcde2b8f-86ef-4803-94ed-a653f5f175e0\",\"type\":\"Range1d\"},\"y_scale\":{\"id\":\"e0b95372-d14c-431f-b8c5-22496cd8f44b\",\"type\":\"LogScale\"}},\"id\":\"0be40859-68e3-4f0b-9126-a68a6adc5d17\",\"subtype\":\"Figure\",\"type\":\"Plot\"},{\"attributes\":{\"data_source\":{\"id\":\"16d6e262-59e5-45b5-9288-ebd509802359\",\"type\":\"ColumnDataSource\"},\"glyph\":{\"id\":\"2b588eb2-a139-42ef-ba6a-2ecee0e352f7\",\"type\":\"Line\"},\"hover_glyph\":null,\"muted_glyph\":null,\"nonselection_glyph\":{\"id\":\"6cb0abac-d911-42e3-a5bc-15ffecff9945\",\"type\":\"Line\"},\"selection_glyph\":null,\"view\":{\"id\":\"e58a015b-163a-41e9-ae22-3bc7851a80f4\",\"type\":\"CDSView\"}},\"id\":\"30ca8852-2564-4202-82eb-467f3743f91c\",\"type\":\"GlyphRenderer\"},{\"attributes\":{},\"id\":\"388fd823-95a5-42f0-b10f-04108b80e5fc\",\"type\":\"WheelZoomTool\"},{\"attributes\":{\"plot\":{\"id\":\"cf374cd8-10eb-4611-b752-2a565bf08554\",\"subtype\":\"Figure\",\"type\":\"Plot\"},\"ticker\":{\"id\":\"e80e594d-c636-4117-a160-bb0b7f98a215\",\"type\":\"BasicTicker\"}},\"id\":\"d6bab190-936f-4c6d-beea-49ae858313b2\",\"type\":\"Grid\"},{\"attributes\":{\"axis_label\":\"pressure [mb]\",\"formatter\":{\"id\":\"683f47e1-7a99-4b7a-abbc-02df43b10d2d\",\"type\":\"LogTickFormatter\"},\"plot\":{\"id\":\"0be40859-68e3-4f0b-9126-a68a6adc5d17\",\"subtype\":\"Figure\",\"type\":\"Plot\"},\"ticker\":{\"id\":\"4995019e-7cab-40f2-874d-8e6bd4ced651\",\"type\":\"LogTicker\"}},\"id\":\"d6448590-a693-4e0b-b47c-1e14a194409c\",\"type\":\"LogAxis\"},{\"attributes\":{},\"id\":\"4afa2c3e-1b2d-4bc8-9b37-ecd2da4e7ce4\",\"type\":\"UnionRenderers\"},{\"attributes\":{},\"id\":\"655fd3c7-fe84-4808-bfb9-e4fa5afd8a08\",\"type\":\"UnionRenderers\"},{\"attributes\":{\"fill_alpha\":{\"value\":0.1},\"fill_color\":{\"value\":\"#1f77b4\"},\"line_alpha\":{\"value\":0.1},\"line_color\":{\"value\":\"#1f77b4\"},\"x\":{\"field\":\"x\"},\"y\":{\"field\":\"y\"}},\"id\":\"b7237969-776b-43ee-b2c3-7f9c56d796be\",\"type\":\"Circle\"},{\"attributes\":{},\"id\":\"239f72c0-4aea-4df5-a31c-2d776aa8a65b\",\"type\":\"UnionRenderers\"},{\"attributes\":{},\"id\":\"9c3cf117-5877-4a0d-b0ae-5bfc02001388\",\"type\":\"ResetTool\"},{\"attributes\":{\"source\":{\"id\":\"543c5292-927c-4e83-b08f-b95fd3e42eb9\",\"type\":\"ColumnDataSource\"}},\"id\":\"7840bb3d-7c52-4a89-a585-e57bd8823203\",\"type\":\"CDSView\"},{\"attributes\":{\"items\":[{\"id\":\"76551d4f-fb85-4160-b0f5-0a6b952ea76b\",\"type\":\"LegendItem\"},{\"id\":\"e4297a73-f510-45d0-91fb-eb9415a57bb5\",\"type\":\"LegendItem\"}],\"label_text_font_size\":{\"value\":\"8pt\"},\"location\":\"top_center\",\"orientation\":\"horizontal\",\"plot\":{\"id\":\"cf374cd8-10eb-4611-b752-2a565bf08554\",\"subtype\":\"Figure\",\"type\":\"Plot\"}},\"id\":\"e915abca-ec36-4ea5-8a89-60b18a677144\",\"type\":\"Legend\"},{\"attributes\":{\"plot\":{\"id\":\"0be40859-68e3-4f0b-9126-a68a6adc5d17\",\"subtype\":\"Figure\",\"type\":\"Plot\"},\"ticker\":{\"id\":\"dbe69e96-e7e3-4384-8ef2-a8f559c7978b\",\"type\":\"BasicTicker\"}},\"id\":\"2b91506a-c1b7-462d-95f9-7b8dfdd27576\",\"type\":\"Grid\"},{\"attributes\":{\"fill_alpha\":{\"value\":0.7},\"fill_color\":{\"value\":\"#984ea3\"},\"line_alpha\":{\"value\":0.7},\"line_color\":{\"value\":\"#984ea3\"},\"x\":{\"field\":\"x\"},\"y\":{\"field\":\"y\"}},\"id\":\"605ac3ae-f887-467a-b7d6-c19443be623c\",\"type\":\"Circle\"},{\"attributes\":{\"line_alpha\":0.6,\"line_color\":\"#377eb8\",\"line_dash\":[6],\"line_width\":5,\"x\":{\"field\":\"x\"},\"y\":{\"field\":\"y\"}},\"id\":\"e3897c4a-a94a-44da-8d62-bffabb00ed15\",\"type\":\"Line\"},{\"attributes\":{\"label\":{\"value\":\"CRD\"},\"renderers\":[{\"id\":\"15aff076-e099-4a80-8164-6d54cd986dbf\",\"type\":\"GlyphRenderer\"},{\"id\":\"30ca8852-2564-4202-82eb-467f3743f91c\",\"type\":\"GlyphRenderer\"}]},\"id\":\"e4297a73-f510-45d0-91fb-eb9415a57bb5\",\"type\":\"LegendItem\"},{\"attributes\":{\"label\":{\"value\":\"CLIRAD (single-run) - CRD\"},\"renderers\":[{\"id\":\"8450d201-2207-4a44-bffa-d718325a56b3\",\"type\":\"GlyphRenderer\"},{\"id\":\"42e46458-3889-4048-8326-5ea20d43f068\",\"type\":\"GlyphRenderer\"}]},\"id\":\"1fcab82a-f484-4d4b-81b2-bd6ed7eedee0\",\"type\":\"LegendItem\"},{\"attributes\":{},\"id\":\"92d38dbb-ad02-4153-861f-c8233fed8683\",\"type\":\"BasicTickFormatter\"},{\"attributes\":{},\"id\":\"384102cf-345f-4cd0-b837-ea8083ad14a4\",\"type\":\"WheelZoomTool\"},{\"attributes\":{},\"id\":\"025896ad-2b58-4241-bb56-a126c31c8a6b\",\"type\":\"HelpTool\"},{\"attributes\":{\"children\":[{\"id\":\"a1c98048-9686-43d3-af33-8f2e8c4608d0\",\"type\":\"ToolbarBox\"},{\"id\":\"79821237-502e-450e-9922-f49c0f32c22b\",\"type\":\"Column\"}]},\"id\":\"60359351-ea10-497f-b814-3ac0d2dcdb4b\",\"type\":\"Column\"},{\"attributes\":{\"toolbar\":{\"id\":\"24ed73a1-06dd-40e2-a546-c3db9f89c7d5\",\"type\":\"ProxyToolbar\"},\"toolbar_location\":\"above\"},\"id\":\"a1c98048-9686-43d3-af33-8f2e8c4608d0\",\"type\":\"ToolbarBox\"},{\"attributes\":{},\"id\":\"c60f53a6-6ce7-4cfd-9675-98ad3e9f2559\",\"type\":\"UnionRenderers\"},{\"attributes\":{\"data_source\":{\"id\":\"543c5292-927c-4e83-b08f-b95fd3e42eb9\",\"type\":\"ColumnDataSource\"},\"glyph\":{\"id\":\"31c603d6-5ac1-40d2-a05b-3170c08a1ca0\",\"type\":\"Line\"},\"hover_glyph\":null,\"muted_glyph\":null,\"nonselection_glyph\":{\"id\":\"c683c6c4-005d-4c4c-ab0b-67a1cfd1eb93\",\"type\":\"Line\"},\"selection_glyph\":null,\"view\":{\"id\":\"7840bb3d-7c52-4a89-a585-e57bd8823203\",\"type\":\"CDSView\"}},\"id\":\"42e46458-3889-4048-8326-5ea20d43f068\",\"type\":\"GlyphRenderer\"},{\"attributes\":{\"axis_label\":\"pressure [mb]\",\"formatter\":{\"id\":\"92c0596a-f524-4aaa-98b4-5a86e701e5b3\",\"type\":\"LogTickFormatter\"},\"plot\":{\"id\":\"cf374cd8-10eb-4611-b752-2a565bf08554\",\"subtype\":\"Figure\",\"type\":\"Plot\"},\"ticker\":{\"id\":\"bf1d057a-1dad-447c-ac51-72ef28b97223\",\"type\":\"LogTicker\"}},\"id\":\"00f81157-61af-4bb8-997a-4acdcaf049d6\",\"type\":\"LogAxis\"},{\"attributes\":{},\"id\":\"e80e594d-c636-4117-a160-bb0b7f98a215\",\"type\":\"BasicTicker\"},{\"attributes\":{},\"id\":\"98c0dfbd-bd71-4ace-be5f-4223a10fcc95\",\"type\":\"SaveTool\"},{\"attributes\":{\"line_alpha\":0.6,\"line_color\":\"#377eb8\",\"line_dash\":[6],\"line_width\":5,\"x\":{\"field\":\"x\"},\"y\":{\"field\":\"y\"}},\"id\":\"6d4f95f1-6c8c-49e4-85dd-81acee9b5284\",\"type\":\"Line\"},{\"attributes\":{\"children\":[{\"id\":\"6d09a16d-a13b-41e8-b266-dcbd43bd0e1f\",\"subtype\":\"Figure\",\"type\":\"Plot\"},{\"id\":\"cf374cd8-10eb-4611-b752-2a565bf08554\",\"subtype\":\"Figure\",\"type\":\"Plot\"},{\"id\":\"0be40859-68e3-4f0b-9126-a68a6adc5d17\",\"subtype\":\"Figure\",\"type\":\"Plot\"}]},\"id\":\"fbf240e1-bee5-461a-b204-09d53a8d8192\",\"type\":\"Row\"},{\"attributes\":{\"axis_label\":\"cooling rate [K/day]\",\"formatter\":{\"id\":\"eeefe4dc-e913-4d24-a88f-13353de3497d\",\"type\":\"BasicTickFormatter\"},\"plot\":{\"id\":\"cf374cd8-10eb-4611-b752-2a565bf08554\",\"subtype\":\"Figure\",\"type\":\"Plot\"},\"ticker\":{\"id\":\"e80e594d-c636-4117-a160-bb0b7f98a215\",\"type\":\"BasicTicker\"}},\"id\":\"0b44ffb8-482d-4a0d-a933-ec84b16a5045\",\"type\":\"LinearAxis\"},{\"attributes\":{\"children\":[{\"id\":\"fbf240e1-bee5-461a-b204-09d53a8d8192\",\"type\":\"Row\"}]},\"id\":\"79821237-502e-450e-9922-f49c0f32c22b\",\"type\":\"Column\"},{\"attributes\":{\"plot\":null,\"text\":\"\"},\"id\":\"41c2ffdc-209b-43a7-8b93-c6582ae47a20\",\"type\":\"Title\"},{\"attributes\":{\"callback\":null,\"data\":{\"x\":{\"__ndarray__\":\"+91suA2FRUDEhDu3BNNCQJGH2RpTtEFAEt02UCgdQEDVxLSQChY8QIhbJRqUKjdAYVUzOB7pMUDTM3KX3QQqQEK9BNB3SCJA6NjTUF6dGkBKgvPiLzsVQL0Sjm8nBhJA/DvUw9qUDUDkg8wWHTEDQPqPmlKB6f4/+3yWOi+sBUBavERq4UMMQLVhH27xnBBAfwWOfm3eE0DummfvB08ZQAaUixg3DCFArKetlIYCJ0Cs7TuihhkoQB+fXFuzhCRAQi/iYYwnIUBZuHizlFYcQC1AvJM7WRhAg3T9xFgsFEA0HebAUMcPQFKxsGLKOwlAuRjZ7ZQ7BUAmhydNp3kAQNl7ZywnsfQ/bePIZtQK5j8GONhrav7QPxDDyUYoicG/tW4zfJCS3r80aRMuziHYv2KS/mjbLl+/fwV3ehhXxT+O1XwUPq7YP7JEdD4ju+w/6QCXA6269j/1X/IRTNf9P3eY3xv76wBA9MudvM6EAUC4nZXZbkcCQJZjjxetTAJAN+UlS5cWAUCXT334HoEAQPbZ2qEuTwBAxddFMwkvAEAgAG4tOAQAQIwWdH+UnP8/BWSLQ0Y//z+ZMGChRAf/P7Wo5GjCDf8/mQ+WHj5C/z+7FkMl7WP/Px29Y3brZP8/oy7TqCBM/z/lglFOVvr+P18JCfCU2P0/cmhc+6zJ/D8DIuChwy/6P76YinnXm/c/Z9o81bPt9T/nsnvwZn70P/MHGE0DxPM/L8l+pxuV8z/YaqQova7zP2CtsiQ0EfQ/P+H9lMkD9T+yagFyKrv2P62LMWn5NlfA\",\"dtype\":\"float64\",\"shape\":[75]},\"y\":{\"__ndarray__\":\"GhExyth1ND/Sv8nbtpRIP2vylNV0PVE/aTum7souWD/At0SJ8fVgPw3Iuahxymc/MSNhhJWvcD/bTfBN02d3P2zb5nxnaoA/CD5h5MAGhz8NmeH1TyaQP+zrCsc9p5Y/LbKd76fGnz/bLW5ISEmmPww9YvTcQq8/JV2OstnstT8Er5Y7M8G+P0c+r3jqkcU/5h99k6ZBzj88bCIzFzjVP4enV8oyxN0//yH99nXg5D8qOpLLf0jtP5kqGJXUifQ/c9cS8kHP/D+/DpwzojQEQIEmwoanVwxA4lgXt9HgE0BSSZ2AJuIbQAMJih9jjiNA5q4l5INuK0AwTKYKRj0zQNv5fmq8/DpAaCJseHrtQkB/+zpwzoxKQM3MzMzMeFJAZmZmZmZqWEAAAAAAAFxeQM3MzMzMJmJAmpmZmZkfZUBmZmZmZhhoQDMzMzMzEWtAAAAAAAAKbkBmZmZmZoFwQM3MzMzM/XFAMzMzMzN6c0CamZmZmfZ0QAAAAAAAc3ZAZmZmZmbvd0DNzMzMzGt5QDMzMzMz6HpAmpmZmZlkfEAAAAAAAOF9QGZmZmZmXX9AZmZmZuZsgECamZmZGSuBQM3MzMxM6YFAAAAAAICngkAzMzMzs2WDQGZmZmbmI4RAmpmZmRnihEDNzMzMTKCFQAAAAACAXoZAMzMzM7Mch0BmZmZm5tqHQJqZmZkZmYhAzczMzExXiUAAAAAAgBWKQDMzMzOz04pAZmZmZuaRi0CamZmZGVCMQM3MzMxMDo1AAAAAAIDMjUAzMzMzs4qOQGZmZmbmSI9A\",\"dtype\":\"float64\",\"shape\":[75]}},\"selected\":{\"id\":\"9eba7037-06c2-48d2-aaee-644dd6397c37\",\"type\":\"Selection\"},\"selection_policy\":{\"id\":\"655fd3c7-fe84-4808-bfb9-e4fa5afd8a08\",\"type\":\"UnionRenderers\"}},\"id\":\"9b18933e-78fa-4d0b-bde2-cd7a0d315761\",\"type\":\"ColumnDataSource\"},{\"attributes\":{},\"id\":\"9eba7037-06c2-48d2-aaee-644dd6397c37\",\"type\":\"Selection\"},{\"attributes\":{},\"id\":\"7ee5357e-01bb-4c14-a4d2-87c329365798\",\"type\":\"Selection\"},{\"attributes\":{},\"id\":\"31bb34bc-f7d7-4e19-8637-ee49a6aba868\",\"type\":\"Selection\"},{\"attributes\":{\"axis_label\":\"cooling rate [K/day]\",\"formatter\":{\"id\":\"a2bfc790-e7f1-44fe-9340-f5f5b7ceb14c\",\"type\":\"BasicTickFormatter\"},\"plot\":{\"id\":\"6d09a16d-a13b-41e8-b266-dcbd43bd0e1f\",\"subtype\":\"Figure\",\"type\":\"Plot\"},\"ticker\":{\"id\":\"a1c5ba0f-3324-41ef-b653-dce4fe7c5407\",\"type\":\"BasicTicker\"}},\"id\":\"4140e7d5-e9e5-4ebf-b730-59da5773f7b6\",\"type\":\"LinearAxis\"},{\"attributes\":{},\"id\":\"70e58f95-b08b-4632-95fc-ac79e11396e3\",\"type\":\"UnionRenderers\"},{\"attributes\":{\"plot\":null,\"text\":\"\"},\"id\":\"fcc26fd7-5392-49d8-bd4f-6a2bbddd9805\",\"type\":\"Title\"},{\"attributes\":{\"bottom_units\":\"screen\",\"fill_alpha\":{\"value\":0.5},\"fill_color\":{\"value\":\"lightgrey\"},\"left_units\":\"screen\",\"level\":\"overlay\",\"line_alpha\":{\"value\":1.0},\"line_color\":{\"value\":\"black\"},\"line_dash\":[4,4],\"line_width\":{\"value\":2},\"plot\":null,\"render_mode\":\"css\",\"right_units\":\"screen\",\"top_units\":\"screen\"},\"id\":\"e3a3920c-5a10-4d84-a63e-ca4b25ad763a\",\"type\":\"BoxAnnotation\"},{\"attributes\":{},\"id\":\"08c71c0b-963d-4cec-adaa-d377c7cf1a73\",\"type\":\"SaveTool\"}],\"root_ids\":[\"60359351-ea10-497f-b814-3ac0d2dcdb4b\"]},\"title\":\"Bokeh Application\",\"version\":\"0.12.16\"}};\n",
       "  var render_items = [{\"docid\":\"96fb7ac8-4140-433f-befd-6eda0683f06b\",\"elementid\":\"45fb63a3-308f-48ce-9790-a5a021e98acf\",\"modelid\":\"60359351-ea10-497f-b814-3ac0d2dcdb4b\"}];\n",
       "  root.Bokeh.embed.embed_items_notebook(docs_json, render_items);\n",
       "\n",
       "  }\n",
       "  if (root.Bokeh !== undefined) {\n",
       "    embed_document(root);\n",
       "  } else {\n",
       "    var attempts = 0;\n",
       "    var timer = setInterval(function(root) {\n",
       "      if (root.Bokeh !== undefined) {\n",
       "        embed_document(root);\n",
       "        clearInterval(timer);\n",
       "      }\n",
       "      attempts++;\n",
       "      if (attempts > 100) {\n",
       "        console.log(\"Bokeh: ERROR: Unable to run BokehJS code because BokehJS library is missing\")\n",
       "        clearInterval(timer);\n",
       "      }\n",
       "    }, 10, root)\n",
       "  }\n",
       "})(window);"
      ],
      "application/vnd.bokehjs_exec.v0+json": ""
     },
     "metadata": {
      "application/vnd.bokehjs_exec.v0+json": {
       "id": "60359351-ea10-497f-b814-3ac0d2dcdb4b"
      }
     },
     "output_type": "display_data"
    },
    {
     "data": {
      "text/markdown": [
       "*FIGURE.* Cooling rates & difference."
      ],
      "text/plain": [
       "<IPython.core.display.Markdown object>"
      ]
     },
     "metadata": {},
     "output_type": "display_data"
    },
    {
     "data": {
      "text/html": [
       "<a id=\"Fluxes._trp.\"></a>"
      ],
      "text/plain": [
       "<IPython.core.display.HTML object>"
      ]
     },
     "metadata": {},
     "output_type": "display_data"
    },
    {
     "data": {
      "text/markdown": [
       "# Fluxes. trp."
      ],
      "text/plain": [
       "<IPython.core.display.Markdown object>"
      ]
     },
     "metadata": {},
     "output_type": "display_data"
    },
    {
     "data": {
      "text/html": [
       "\n",
       "<div class=\"bk-root\">\n",
       "    <div class=\"bk-plotdiv\" id=\"790a357b-92b8-40a9-8e17-e704dc69b2f1\"></div>\n",
       "</div>"
      ]
     },
     "metadata": {},
     "output_type": "display_data"
    },
    {
     "data": {
      "application/javascript": [
       "(function(root) {\n",
       "  function embed_document(root) {\n",
       "    \n",
       "  var docs_json = {\"26fb8345-3b15-4a8e-b7ee-0b214dcc7e85\":{\"roots\":{\"references\":[{\"attributes\":{\"below\":[{\"id\":\"f8fc6ab3-6765-436c-86e0-3ee4efd07c1c\",\"type\":\"CategoricalAxis\"}],\"left\":[{\"id\":\"81e9bd12-fc41-4c1f-acf7-e30e382f17d9\",\"type\":\"LinearAxis\"}],\"plot_height\":300,\"plot_width\":300,\"renderers\":[{\"id\":\"f8fc6ab3-6765-436c-86e0-3ee4efd07c1c\",\"type\":\"CategoricalAxis\"},{\"id\":\"871a3072-17b4-4133-abea-d1beea394106\",\"type\":\"Grid\"},{\"id\":\"81e9bd12-fc41-4c1f-acf7-e30e382f17d9\",\"type\":\"LinearAxis\"},{\"id\":\"5f665b5e-99b5-4e6c-9926-7f4ec78ae712\",\"type\":\"Grid\"},{\"id\":\"0e45868a-043e-4d05-bd7c-432b4e99cd60\",\"type\":\"BoxAnnotation\"},{\"id\":\"b5fba6e7-7fa9-4693-a899-14b4dd29b46d\",\"type\":\"GlyphRenderer\"}],\"title\":{\"id\":\"f3230f3f-7064-4400-af7a-d382a6ba1a82\",\"type\":\"Title\"},\"toolbar\":{\"id\":\"d0e913cc-bff6-438e-8169-1f2f8e7421f2\",\"type\":\"Toolbar\"},\"toolbar_location\":null,\"x_range\":{\"id\":\"9fee924d-7de7-4123-a5ce-02cda68c9fe0\",\"type\":\"FactorRange\"},\"x_scale\":{\"id\":\"121039e6-e919-4daa-a388-515eb5527618\",\"type\":\"CategoricalScale\"},\"y_range\":{\"id\":\"b70607d3-116b-47d7-ac2f-966aa5266ec0\",\"type\":\"DataRange1d\"},\"y_scale\":{\"id\":\"70a73d11-8298-4f5d-b673-8140760fa2a7\",\"type\":\"LinearScale\"}},\"id\":\"6486b2ca-bcab-4e0b-bc8d-3e77fd82a782\",\"subtype\":\"Figure\",\"type\":\"Plot\"},{\"attributes\":{},\"id\":\"7e0a161a-af2e-468f-ac33-2560c354bddc\",\"type\":\"BasicTickFormatter\"},{\"attributes\":{\"callback\":null,\"data\":{\"band\":[\"1\",\"2\",\"3\",\"4\",\"5\",\"6\",\"7\",\"8\",\"9\",\"10\",\"11\"],\"flux\":{\"__ndarray__\":\"AMHG9e/6yj8ARFVMpZ/UP8A1I4PcRdO/wKT4+ITs4T8A9+Y3TDTUPwDo9SfxuaO/gPm7d9SYzj8AbToCuFm8vwAu4dBbPJw/4PGprSLtwT+A9UyK6gi9Pw==\",\"dtype\":\"float64\",\"shape\":[11]}},\"selected\":{\"id\":\"2638d7d1-f9d3-4aba-91a7-b3ef5b512e63\",\"type\":\"Selection\"},\"selection_policy\":{\"id\":\"fb9efc63-5b56-4498-be3a-565382e56a87\",\"type\":\"UnionRenderers\"}},\"id\":\"9d272df1-9932-4f9d-b562-835621384174\",\"type\":\"ColumnDataSource\"},{\"attributes\":{\"callback\":null,\"data\":{\"band\":[\"1\",\"2\",\"3\",\"4\",\"5\",\"6\",\"7\",\"8\",\"9\",\"10\",\"11\"],\"flux\":{\"__ndarray__\":\"NAgH1syKTkCMQau8soY5QAKcOX9uFy9AsTXXQCUxOkBYchWL3y5QQJha7zfaaTlAehfvx+0XOEDcykv+J+cpQHpZf/BGSx1Aa82YesThEkBAb6jOWVWpPw==\",\"dtype\":\"float64\",\"shape\":[11]}},\"selected\":{\"id\":\"976d3532-4fb3-4d23-85f7-fd2c5b2238c7\",\"type\":\"Selection\"},\"selection_policy\":{\"id\":\"4a1d1ba4-c21c-4bb0-9bbc-85b982baf3d9\",\"type\":\"UnionRenderers\"}},\"id\":\"5c0b0b45-bbaa-4a2f-a7c6-3f722b3aed81\",\"type\":\"ColumnDataSource\"},{\"attributes\":{\"below\":[{\"id\":\"a899ede4-e87b-4277-9a73-206dd0fb8fd5\",\"type\":\"CategoricalAxis\"}],\"left\":[{\"id\":\"3e4f3ca5-d478-4891-b182-47f0cef61fe1\",\"type\":\"LinearAxis\"}],\"plot_height\":300,\"plot_width\":300,\"renderers\":[{\"id\":\"a899ede4-e87b-4277-9a73-206dd0fb8fd5\",\"type\":\"CategoricalAxis\"},{\"id\":\"0e683082-2cfc-4505-9a38-20f358167400\",\"type\":\"Grid\"},{\"id\":\"3e4f3ca5-d478-4891-b182-47f0cef61fe1\",\"type\":\"LinearAxis\"},{\"id\":\"a163db04-0ee4-4c74-8279-bc24917c3d5c\",\"type\":\"Grid\"},{\"id\":\"703c0910-be62-4008-bf6d-e2e4f7f8aa81\",\"type\":\"BoxAnnotation\"},{\"id\":\"5d479756-d311-42ae-9aa0-7cc6359ef895\",\"type\":\"GlyphRenderer\"}],\"title\":{\"id\":\"23fe2b06-b2c1-4a4a-b9d9-0142615d4c16\",\"type\":\"Title\"},\"toolbar\":{\"id\":\"912dfb80-d7b6-448e-8f93-4edb368ee2f9\",\"type\":\"Toolbar\"},\"toolbar_location\":null,\"x_range\":{\"id\":\"237f09c8-5321-4003-9c4f-775541413b7f\",\"type\":\"FactorRange\"},\"x_scale\":{\"id\":\"39bdd4bb-b75d-4c85-8329-287ee17e8f96\",\"type\":\"CategoricalScale\"},\"y_range\":{\"id\":\"3b07ea5d-8533-4027-9db9-8fe2e4c4394b\",\"type\":\"DataRange1d\"},\"y_scale\":{\"id\":\"842053f6-4868-4850-bd59-3e60a0dbd726\",\"type\":\"LinearScale\"}},\"id\":\"d03094e2-fef1-4042-8fdd-cfa0bf6ee2f8\",\"subtype\":\"Figure\",\"type\":\"Plot\"},{\"attributes\":{\"bottom_units\":\"screen\",\"fill_alpha\":{\"value\":0.5},\"fill_color\":{\"value\":\"lightgrey\"},\"left_units\":\"screen\",\"level\":\"overlay\",\"line_alpha\":{\"value\":1.0},\"line_color\":{\"value\":\"black\"},\"line_dash\":[4,4],\"line_width\":{\"value\":2},\"plot\":null,\"render_mode\":\"css\",\"right_units\":\"screen\",\"top_units\":\"screen\"},\"id\":\"b6403ed3-37e3-48af-8df1-1a4139b06771\",\"type\":\"BoxAnnotation\"},{\"attributes\":{},\"id\":\"1152e643-b1a2-4748-83f2-277face29004\",\"type\":\"CategoricalTicker\"},{\"attributes\":{},\"id\":\"4a1d1ba4-c21c-4bb0-9bbc-85b982baf3d9\",\"type\":\"UnionRenderers\"},{\"attributes\":{\"axis_label\":\"spectral band\",\"formatter\":{\"id\":\"8b1dbac9-352c-487d-9a28-a1081a338285\",\"type\":\"CategoricalTickFormatter\"},\"plot\":{\"id\":\"7ad959fa-2da9-435a-b430-83d4bb163b4f\",\"subtype\":\"Figure\",\"type\":\"Plot\"},\"ticker\":{\"id\":\"49c56a33-b2c1-45f3-927e-342295ff23d3\",\"type\":\"CategoricalTicker\"}},\"id\":\"3945a171-2f63-4804-8720-cceee15ed14c\",\"type\":\"CategoricalAxis\"},{\"attributes\":{\"plot\":null,\"text\":\"TOA flux. CLIRAD (single-run) - CRD.\"},\"id\":\"23fe2b06-b2c1-4a4a-b9d9-0142615d4c16\",\"type\":\"Title\"},{\"attributes\":{},\"id\":\"52780811-e577-4519-8c9e-567136f8ac46\",\"type\":\"CategoricalScale\"},{\"attributes\":{},\"id\":\"ce5c322f-ac04-4e36-bf86-1fa92bf69451\",\"type\":\"PanTool\"},{\"attributes\":{},\"id\":\"2dc65c51-612d-4cdd-97cc-a3f7974c4465\",\"type\":\"WheelZoomTool\"},{\"attributes\":{\"active_drag\":\"auto\",\"active_inspect\":\"auto\",\"active_scroll\":\"auto\",\"active_tap\":\"auto\",\"tools\":[{\"id\":\"ce5c322f-ac04-4e36-bf86-1fa92bf69451\",\"type\":\"PanTool\"},{\"id\":\"e2ae7fd0-f2af-4576-995c-16f1efb1b96c\",\"type\":\"WheelZoomTool\"},{\"id\":\"c98d47b3-0892-46b8-9ba4-2550948d0299\",\"type\":\"BoxZoomTool\"},{\"id\":\"549a342f-dfe2-4362-b08a-8b5a1040262e\",\"type\":\"SaveTool\"},{\"id\":\"e6d11b3a-7805-4c01-a28f-177f3c945480\",\"type\":\"ResetTool\"},{\"id\":\"8dcbf238-53f3-4c9d-af39-6760f8928089\",\"type\":\"HelpTool\"}]},\"id\":\"912dfb80-d7b6-448e-8f93-4edb368ee2f9\",\"type\":\"Toolbar\"},{\"attributes\":{},\"id\":\"8f23b8de-dce9-49cf-9936-a1b7d35662df\",\"type\":\"BasicTicker\"},{\"attributes\":{},\"id\":\"b9ce3338-551d-406b-bb20-0978339f14f1\",\"type\":\"PanTool\"},{\"attributes\":{\"children\":[{\"id\":\"6ecaa6e8-a126-48f5-871a-2bfc36232e05\",\"type\":\"ToolbarBox\"},{\"id\":\"09395655-0b72-41a2-8907-23d22dca05c2\",\"type\":\"Column\"}]},\"id\":\"99cbfb5e-cde5-46ca-9b9f-a831e72a8983\",\"type\":\"Column\"},{\"attributes\":{},\"id\":\"773c247b-a5cc-4206-b698-1b6463326326\",\"type\":\"CategoricalTickFormatter\"},{\"attributes\":{\"axis_label\":\"flux (W m-2)\",\"formatter\":{\"id\":\"5b9d82a4-28d9-4635-b935-22b63db19a16\",\"type\":\"BasicTickFormatter\"},\"plot\":{\"id\":\"6486b2ca-bcab-4e0b-bc8d-3e77fd82a782\",\"subtype\":\"Figure\",\"type\":\"Plot\"},\"ticker\":{\"id\":\"2944188f-6a55-43c8-8a51-2be3618e32a0\",\"type\":\"BasicTicker\"}},\"id\":\"81e9bd12-fc41-4c1f-acf7-e30e382f17d9\",\"type\":\"LinearAxis\"},{\"attributes\":{\"callback\":null},\"id\":\"3b07ea5d-8533-4027-9db9-8fe2e4c4394b\",\"type\":\"DataRange1d\"},{\"attributes\":{},\"id\":\"c7c98c29-ab68-4b03-ae21-52247bbe53fe\",\"type\":\"ResetTool\"},{\"attributes\":{\"dimension\":1,\"plot\":{\"id\":\"7ad959fa-2da9-435a-b430-83d4bb163b4f\",\"subtype\":\"Figure\",\"type\":\"Plot\"},\"ticker\":{\"id\":\"9d5616fe-6595-4192-b12d-5edef33edff9\",\"type\":\"BasicTicker\"}},\"id\":\"9bb0f66e-db03-4014-9f16-69e04731bf24\",\"type\":\"Grid\"},{\"attributes\":{},\"id\":\"8b1dbac9-352c-487d-9a28-a1081a338285\",\"type\":\"CategoricalTickFormatter\"},{\"attributes\":{},\"id\":\"2efa9f93-218b-4c93-a38c-b51703b1d323\",\"type\":\"LinearScale\"},{\"attributes\":{},\"id\":\"79f15caa-70f5-486f-9f99-f515398e702e\",\"type\":\"Selection\"},{\"attributes\":{\"callback\":null,\"factors\":[\"1\",\"2\",\"3\",\"4\",\"5\",\"6\",\"7\",\"8\",\"9\",\"10\",\"11\"]},\"id\":\"9fee924d-7de7-4123-a5ce-02cda68c9fe0\",\"type\":\"FactorRange\"},{\"attributes\":{},\"id\":\"121039e6-e919-4daa-a388-515eb5527618\",\"type\":\"CategoricalScale\"},{\"attributes\":{\"callback\":null},\"id\":\"b70607d3-116b-47d7-ac2f-966aa5266ec0\",\"type\":\"DataRange1d\"},{\"attributes\":{},\"id\":\"f1cca088-3ca7-49f7-b79c-ebdf640a8b22\",\"type\":\"UnionRenderers\"},{\"attributes\":{\"axis_label\":\"spectral band\",\"formatter\":{\"id\":\"773c247b-a5cc-4206-b698-1b6463326326\",\"type\":\"CategoricalTickFormatter\"},\"plot\":{\"id\":\"d03094e2-fef1-4042-8fdd-cfa0bf6ee2f8\",\"subtype\":\"Figure\",\"type\":\"Plot\"},\"ticker\":{\"id\":\"1152e643-b1a2-4748-83f2-277face29004\",\"type\":\"CategoricalTicker\"}},\"id\":\"a899ede4-e87b-4277-9a73-206dd0fb8fd5\",\"type\":\"CategoricalAxis\"},{\"attributes\":{\"axis_label\":\"flux (W m-2)\",\"formatter\":{\"id\":\"7e0a161a-af2e-468f-ac33-2560c354bddc\",\"type\":\"BasicTickFormatter\"},\"plot\":{\"id\":\"7ad959fa-2da9-435a-b430-83d4bb163b4f\",\"subtype\":\"Figure\",\"type\":\"Plot\"},\"ticker\":{\"id\":\"9d5616fe-6595-4192-b12d-5edef33edff9\",\"type\":\"BasicTicker\"}},\"id\":\"8fbf19bc-a42d-4d01-b6bb-21d3cd13c041\",\"type\":\"LinearAxis\"},{\"attributes\":{\"source\":{\"id\":\"11a3b57d-040b-48ae-888d-3961622c6391\",\"type\":\"ColumnDataSource\"}},\"id\":\"72cf3312-409f-4eb3-9052-0b809f6014b2\",\"type\":\"CDSView\"},{\"attributes\":{},\"id\":\"5b9d82a4-28d9-4635-b935-22b63db19a16\",\"type\":\"BasicTickFormatter\"},{\"attributes\":{\"fill_alpha\":{\"value\":0.1},\"fill_color\":{\"value\":\"#1f77b4\"},\"line_alpha\":{\"value\":0.1},\"line_color\":{\"value\":\"#1f77b4\"},\"top\":{\"field\":\"flux\"},\"width\":{\"value\":0.9},\"x\":{\"field\":\"band\"}},\"id\":\"1850c026-4a9d-4704-85eb-3a028bae00ed\",\"type\":\"VBar\"},{\"attributes\":{\"fill_color\":{\"value\":\"#1f77b4\"},\"line_color\":{\"value\":\"#1f77b4\"},\"top\":{\"field\":\"flux\"},\"width\":{\"value\":0.9},\"x\":{\"field\":\"band\"}},\"id\":\"b054efca-15d4-4176-a576-d4ae6c275df2\",\"type\":\"VBar\"},{\"attributes\":{},\"id\":\"859209a0-f485-406a-935b-e6d9dd25ba8b\",\"type\":\"HelpTool\"},{\"attributes\":{\"overlay\":{\"id\":\"703c0910-be62-4008-bf6d-e2e4f7f8aa81\",\"type\":\"BoxAnnotation\"}},\"id\":\"c98d47b3-0892-46b8-9ba4-2550948d0299\",\"type\":\"BoxZoomTool\"},{\"attributes\":{},\"id\":\"a1b5d2eb-0999-48dd-94bd-7d440097254a\",\"type\":\"SaveTool\"},{\"attributes\":{},\"id\":\"1b635346-63a4-4a44-9630-bfebdb0a20a2\",\"type\":\"CategoricalTickFormatter\"},{\"attributes\":{},\"id\":\"38bba2af-d34f-4ff7-8fdb-927260455208\",\"type\":\"PanTool\"},{\"attributes\":{},\"id\":\"506f66dd-65c0-4195-80f5-d1f89eaf611a\",\"type\":\"WheelZoomTool\"},{\"attributes\":{\"source\":{\"id\":\"9d272df1-9932-4f9d-b562-835621384174\",\"type\":\"ColumnDataSource\"}},\"id\":\"d994bc80-7509-4587-978e-f845df5c9d39\",\"type\":\"CDSView\"},{\"attributes\":{},\"id\":\"e6d11b3a-7805-4c01-a28f-177f3c945480\",\"type\":\"ResetTool\"},{\"attributes\":{\"children\":[{\"id\":\"e9f318bc-73df-4626-9ad8-ff67526735ed\",\"type\":\"Row\"}]},\"id\":\"09395655-0b72-41a2-8907-23d22dca05c2\",\"type\":\"Column\"},{\"attributes\":{\"axis_label\":\"flux (W m-2)\",\"formatter\":{\"id\":\"30f3d246-5db0-428b-af13-8408acdfdc88\",\"type\":\"BasicTickFormatter\"},\"plot\":{\"id\":\"d03094e2-fef1-4042-8fdd-cfa0bf6ee2f8\",\"subtype\":\"Figure\",\"type\":\"Plot\"},\"ticker\":{\"id\":\"8f23b8de-dce9-49cf-9936-a1b7d35662df\",\"type\":\"BasicTicker\"}},\"id\":\"3e4f3ca5-d478-4891-b182-47f0cef61fe1\",\"type\":\"LinearAxis\"},{\"attributes\":{},\"id\":\"2944188f-6a55-43c8-8a51-2be3618e32a0\",\"type\":\"BasicTicker\"},{\"attributes\":{},\"id\":\"8dcbf238-53f3-4c9d-af39-6760f8928089\",\"type\":\"HelpTool\"},{\"attributes\":{},\"id\":\"976d3532-4fb3-4d23-85f7-fd2c5b2238c7\",\"type\":\"Selection\"},{\"attributes\":{\"toolbar\":{\"id\":\"417e178b-7b3c-4330-98f5-0171b2eff679\",\"type\":\"ProxyToolbar\"},\"toolbar_location\":\"above\"},\"id\":\"6ecaa6e8-a126-48f5-871a-2bfc36232e05\",\"type\":\"ToolbarBox\"},{\"attributes\":{\"dimension\":1,\"plot\":{\"id\":\"6486b2ca-bcab-4e0b-bc8d-3e77fd82a782\",\"subtype\":\"Figure\",\"type\":\"Plot\"},\"ticker\":{\"id\":\"2944188f-6a55-43c8-8a51-2be3618e32a0\",\"type\":\"BasicTicker\"}},\"id\":\"5f665b5e-99b5-4e6c-9926-7f4ec78ae712\",\"type\":\"Grid\"},{\"attributes\":{\"callback\":null},\"id\":\"efb445f1-8277-41b8-a10e-fe1b28359363\",\"type\":\"DataRange1d\"},{\"attributes\":{\"callback\":null,\"data\":{\"band\":[\"1\",\"2\",\"3\",\"4\",\"5\",\"6\",\"7\",\"8\",\"9\",\"10\",\"11\"],\"flux\":{\"__ndarray__\":\"AADADkbs874Ak+S5vg/QPwANMzSeCMq/ABTRr62frj8A8Z2Y9WLjP6As7j8yHd0/gB2NQ/0usj8AQGTbs/iOP0Churn429E/AFDtmpDWiD8AO3arQl6wPw==\",\"dtype\":\"float64\",\"shape\":[11]}},\"selected\":{\"id\":\"79f15caa-70f5-486f-9f99-f515398e702e\",\"type\":\"Selection\"},\"selection_policy\":{\"id\":\"f1cca088-3ca7-49f7-b79c-ebdf640a8b22\",\"type\":\"UnionRenderers\"}},\"id\":\"11a3b57d-040b-48ae-888d-3961622c6391\",\"type\":\"ColumnDataSource\"},{\"attributes\":{\"fill_color\":{\"value\":\"#1f77b4\"},\"line_color\":{\"value\":\"#1f77b4\"},\"top\":{\"field\":\"flux\"},\"width\":{\"value\":0.9},\"x\":{\"field\":\"band\"}},\"id\":\"eaaa6030-d553-402e-872c-9dad808debee\",\"type\":\"VBar\"},{\"attributes\":{},\"id\":\"e2ae7fd0-f2af-4576-995c-16f1efb1b96c\",\"type\":\"WheelZoomTool\"},{\"attributes\":{\"bottom_units\":\"screen\",\"fill_alpha\":{\"value\":0.5},\"fill_color\":{\"value\":\"lightgrey\"},\"left_units\":\"screen\",\"level\":\"overlay\",\"line_alpha\":{\"value\":1.0},\"line_color\":{\"value\":\"black\"},\"line_dash\":[4,4],\"line_width\":{\"value\":2},\"plot\":null,\"render_mode\":\"css\",\"right_units\":\"screen\",\"top_units\":\"screen\"},\"id\":\"703c0910-be62-4008-bf6d-e2e4f7f8aa81\",\"type\":\"BoxAnnotation\"},{\"attributes\":{\"below\":[{\"id\":\"3945a171-2f63-4804-8720-cceee15ed14c\",\"type\":\"CategoricalAxis\"}],\"left\":[{\"id\":\"8fbf19bc-a42d-4d01-b6bb-21d3cd13c041\",\"type\":\"LinearAxis\"}],\"plot_height\":300,\"plot_width\":300,\"renderers\":[{\"id\":\"3945a171-2f63-4804-8720-cceee15ed14c\",\"type\":\"CategoricalAxis\"},{\"id\":\"aacd05bb-f5fc-48ed-bcbe-33220cf9bcd9\",\"type\":\"Grid\"},{\"id\":\"8fbf19bc-a42d-4d01-b6bb-21d3cd13c041\",\"type\":\"LinearAxis\"},{\"id\":\"9bb0f66e-db03-4014-9f16-69e04731bf24\",\"type\":\"Grid\"},{\"id\":\"b6403ed3-37e3-48af-8df1-1a4139b06771\",\"type\":\"BoxAnnotation\"},{\"id\":\"39b6fc53-bc33-4ac3-9390-3abf8ba49ed0\",\"type\":\"GlyphRenderer\"}],\"title\":{\"id\":\"efc2ce19-ac0b-4585-b609-785a86d866f3\",\"type\":\"Title\"},\"toolbar\":{\"id\":\"704021f3-f882-4bbd-b7f9-032a558d8ddf\",\"type\":\"Toolbar\"},\"toolbar_location\":null,\"x_range\":{\"id\":\"b270542f-e380-4e48-aa66-0079594ff912\",\"type\":\"FactorRange\"},\"x_scale\":{\"id\":\"52780811-e577-4519-8c9e-567136f8ac46\",\"type\":\"CategoricalScale\"},\"y_range\":{\"id\":\"efb445f1-8277-41b8-a10e-fe1b28359363\",\"type\":\"DataRange1d\"},\"y_scale\":{\"id\":\"2efa9f93-218b-4c93-a38c-b51703b1d323\",\"type\":\"LinearScale\"}},\"id\":\"7ad959fa-2da9-435a-b430-83d4bb163b4f\",\"subtype\":\"Figure\",\"type\":\"Plot\"},{\"attributes\":{\"callback\":null,\"factors\":[\"1\",\"2\",\"3\",\"4\",\"5\",\"6\",\"7\",\"8\",\"9\",\"10\",\"11\"]},\"id\":\"b270542f-e380-4e48-aa66-0079594ff912\",\"type\":\"FactorRange\"},{\"attributes\":{},\"id\":\"30f3d246-5db0-428b-af13-8408acdfdc88\",\"type\":\"BasicTickFormatter\"},{\"attributes\":{},\"id\":\"1ca61bd8-7abf-43e8-a2ba-175f00728bfc\",\"type\":\"HelpTool\"},{\"attributes\":{\"data_source\":{\"id\":\"9d272df1-9932-4f9d-b562-835621384174\",\"type\":\"ColumnDataSource\"},\"glyph\":{\"id\":\"2401c250-6907-41b1-9a5e-85baa7902e3c\",\"type\":\"VBar\"},\"hover_glyph\":null,\"muted_glyph\":null,\"nonselection_glyph\":{\"id\":\"15acf259-d453-47e0-9553-08c455768563\",\"type\":\"VBar\"},\"selection_glyph\":null,\"view\":{\"id\":\"d994bc80-7509-4587-978e-f845df5c9d39\",\"type\":\"CDSView\"}},\"id\":\"5d479756-d311-42ae-9aa0-7cc6359ef895\",\"type\":\"GlyphRenderer\"},{\"attributes\":{\"fill_alpha\":{\"value\":0.1},\"fill_color\":{\"value\":\"#1f77b4\"},\"line_alpha\":{\"value\":0.1},\"line_color\":{\"value\":\"#1f77b4\"},\"top\":{\"field\":\"flux\"},\"width\":{\"value\":0.9},\"x\":{\"field\":\"band\"}},\"id\":\"9b3c9840-1e0f-4b89-b286-b91d9f2005a5\",\"type\":\"VBar\"},{\"attributes\":{\"fill_alpha\":{\"value\":0.1},\"fill_color\":{\"value\":\"#1f77b4\"},\"line_alpha\":{\"value\":0.1},\"line_color\":{\"value\":\"#1f77b4\"},\"top\":{\"field\":\"flux\"},\"width\":{\"value\":0.9},\"x\":{\"field\":\"band\"}},\"id\":\"15acf259-d453-47e0-9553-08c455768563\",\"type\":\"VBar\"},{\"attributes\":{},\"id\":\"39bdd4bb-b75d-4c85-8329-287ee17e8f96\",\"type\":\"CategoricalScale\"},{\"attributes\":{\"overlay\":{\"id\":\"0e45868a-043e-4d05-bd7c-432b4e99cd60\",\"type\":\"BoxAnnotation\"}},\"id\":\"c0fdfb2d-a3e8-49b3-883e-408d747e2377\",\"type\":\"BoxZoomTool\"},{\"attributes\":{},\"id\":\"de3ecc6b-db37-4d3f-8800-ddcf95b05b75\",\"type\":\"SaveTool\"},{\"attributes\":{\"callback\":null,\"factors\":[\"1\",\"2\",\"3\",\"4\",\"5\",\"6\",\"7\",\"8\",\"9\",\"10\",\"11\"]},\"id\":\"237f09c8-5321-4003-9c4f-775541413b7f\",\"type\":\"FactorRange\"},{\"attributes\":{\"plot\":{\"id\":\"d03094e2-fef1-4042-8fdd-cfa0bf6ee2f8\",\"subtype\":\"Figure\",\"type\":\"Plot\"},\"ticker\":{\"id\":\"1152e643-b1a2-4748-83f2-277face29004\",\"type\":\"CategoricalTicker\"}},\"id\":\"0e683082-2cfc-4505-9a38-20f358167400\",\"type\":\"Grid\"},{\"attributes\":{\"plot\":null,\"text\":\"Atmosphere heating. CLIRAD (single-run) - CRD.\"},\"id\":\"efc2ce19-ac0b-4585-b609-785a86d866f3\",\"type\":\"Title\"},{\"attributes\":{\"overlay\":{\"id\":\"b6403ed3-37e3-48af-8df1-1a4139b06771\",\"type\":\"BoxAnnotation\"}},\"id\":\"290ea795-c0a6-485e-8973-4bf5c2bc301d\",\"type\":\"BoxZoomTool\"},{\"attributes\":{},\"id\":\"e1806840-3f95-4628-9c39-cf751904b571\",\"type\":\"ResetTool\"},{\"attributes\":{\"fill_color\":{\"value\":\"#1f77b4\"},\"line_color\":{\"value\":\"#1f77b4\"},\"top\":{\"field\":\"flux\"},\"width\":{\"value\":0.9},\"x\":{\"field\":\"band\"}},\"id\":\"2401c250-6907-41b1-9a5e-85baa7902e3c\",\"type\":\"VBar\"},{\"attributes\":{},\"id\":\"2638d7d1-f9d3-4aba-91a7-b3ef5b512e63\",\"type\":\"Selection\"},{\"attributes\":{\"plot\":{\"id\":\"6486b2ca-bcab-4e0b-bc8d-3e77fd82a782\",\"subtype\":\"Figure\",\"type\":\"Plot\"},\"ticker\":{\"id\":\"b6f140fe-6208-4b5d-bb45-fd4f0ee06d95\",\"type\":\"CategoricalTicker\"}},\"id\":\"871a3072-17b4-4133-abea-d1beea394106\",\"type\":\"Grid\"},{\"attributes\":{},\"id\":\"49c56a33-b2c1-45f3-927e-342295ff23d3\",\"type\":\"CategoricalTicker\"},{\"attributes\":{\"children\":[{\"id\":\"d03094e2-fef1-4042-8fdd-cfa0bf6ee2f8\",\"subtype\":\"Figure\",\"type\":\"Plot\"},{\"id\":\"6486b2ca-bcab-4e0b-bc8d-3e77fd82a782\",\"subtype\":\"Figure\",\"type\":\"Plot\"},{\"id\":\"7ad959fa-2da9-435a-b430-83d4bb163b4f\",\"subtype\":\"Figure\",\"type\":\"Plot\"}]},\"id\":\"e9f318bc-73df-4626-9ad8-ff67526735ed\",\"type\":\"Row\"},{\"attributes\":{},\"id\":\"549a342f-dfe2-4362-b08a-8b5a1040262e\",\"type\":\"SaveTool\"},{\"attributes\":{\"axis_label\":\"spectral band\",\"formatter\":{\"id\":\"1b635346-63a4-4a44-9630-bfebdb0a20a2\",\"type\":\"CategoricalTickFormatter\"},\"plot\":{\"id\":\"6486b2ca-bcab-4e0b-bc8d-3e77fd82a782\",\"subtype\":\"Figure\",\"type\":\"Plot\"},\"ticker\":{\"id\":\"b6f140fe-6208-4b5d-bb45-fd4f0ee06d95\",\"type\":\"CategoricalTicker\"}},\"id\":\"f8fc6ab3-6765-436c-86e0-3ee4efd07c1c\",\"type\":\"CategoricalAxis\"},{\"attributes\":{\"data_source\":{\"id\":\"11a3b57d-040b-48ae-888d-3961622c6391\",\"type\":\"ColumnDataSource\"},\"glyph\":{\"id\":\"eaaa6030-d553-402e-872c-9dad808debee\",\"type\":\"VBar\"},\"hover_glyph\":null,\"muted_glyph\":null,\"nonselection_glyph\":{\"id\":\"1850c026-4a9d-4704-85eb-3a028bae00ed\",\"type\":\"VBar\"},\"selection_glyph\":null,\"view\":{\"id\":\"72cf3312-409f-4eb3-9052-0b809f6014b2\",\"type\":\"CDSView\"}},\"id\":\"b5fba6e7-7fa9-4693-a899-14b4dd29b46d\",\"type\":\"GlyphRenderer\"},{\"attributes\":{},\"id\":\"fb9efc63-5b56-4498-be3a-565382e56a87\",\"type\":\"UnionRenderers\"},{\"attributes\":{\"active_drag\":\"auto\",\"active_inspect\":\"auto\",\"active_scroll\":\"auto\",\"active_tap\":\"auto\",\"tools\":[{\"id\":\"38bba2af-d34f-4ff7-8fdb-927260455208\",\"type\":\"PanTool\"},{\"id\":\"506f66dd-65c0-4195-80f5-d1f89eaf611a\",\"type\":\"WheelZoomTool\"},{\"id\":\"c0fdfb2d-a3e8-49b3-883e-408d747e2377\",\"type\":\"BoxZoomTool\"},{\"id\":\"a1b5d2eb-0999-48dd-94bd-7d440097254a\",\"type\":\"SaveTool\"},{\"id\":\"c7c98c29-ab68-4b03-ae21-52247bbe53fe\",\"type\":\"ResetTool\"},{\"id\":\"1ca61bd8-7abf-43e8-a2ba-175f00728bfc\",\"type\":\"HelpTool\"}]},\"id\":\"d0e913cc-bff6-438e-8169-1f2f8e7421f2\",\"type\":\"Toolbar\"},{\"attributes\":{},\"id\":\"9d5616fe-6595-4192-b12d-5edef33edff9\",\"type\":\"BasicTicker\"},{\"attributes\":{\"data_source\":{\"id\":\"5c0b0b45-bbaa-4a2f-a7c6-3f722b3aed81\",\"type\":\"ColumnDataSource\"},\"glyph\":{\"id\":\"b054efca-15d4-4176-a576-d4ae6c275df2\",\"type\":\"VBar\"},\"hover_glyph\":null,\"muted_glyph\":null,\"nonselection_glyph\":{\"id\":\"9b3c9840-1e0f-4b89-b286-b91d9f2005a5\",\"type\":\"VBar\"},\"selection_glyph\":null,\"view\":{\"id\":\"fa6e27ad-7a0b-4ddb-9506-2262c9f10745\",\"type\":\"CDSView\"}},\"id\":\"39b6fc53-bc33-4ac3-9390-3abf8ba49ed0\",\"type\":\"GlyphRenderer\"},{\"attributes\":{\"tools\":[{\"id\":\"ce5c322f-ac04-4e36-bf86-1fa92bf69451\",\"type\":\"PanTool\"},{\"id\":\"e2ae7fd0-f2af-4576-995c-16f1efb1b96c\",\"type\":\"WheelZoomTool\"},{\"id\":\"c98d47b3-0892-46b8-9ba4-2550948d0299\",\"type\":\"BoxZoomTool\"},{\"id\":\"549a342f-dfe2-4362-b08a-8b5a1040262e\",\"type\":\"SaveTool\"},{\"id\":\"e6d11b3a-7805-4c01-a28f-177f3c945480\",\"type\":\"ResetTool\"},{\"id\":\"8dcbf238-53f3-4c9d-af39-6760f8928089\",\"type\":\"HelpTool\"},{\"id\":\"38bba2af-d34f-4ff7-8fdb-927260455208\",\"type\":\"PanTool\"},{\"id\":\"506f66dd-65c0-4195-80f5-d1f89eaf611a\",\"type\":\"WheelZoomTool\"},{\"id\":\"c0fdfb2d-a3e8-49b3-883e-408d747e2377\",\"type\":\"BoxZoomTool\"},{\"id\":\"a1b5d2eb-0999-48dd-94bd-7d440097254a\",\"type\":\"SaveTool\"},{\"id\":\"c7c98c29-ab68-4b03-ae21-52247bbe53fe\",\"type\":\"ResetTool\"},{\"id\":\"1ca61bd8-7abf-43e8-a2ba-175f00728bfc\",\"type\":\"HelpTool\"},{\"id\":\"b9ce3338-551d-406b-bb20-0978339f14f1\",\"type\":\"PanTool\"},{\"id\":\"2dc65c51-612d-4cdd-97cc-a3f7974c4465\",\"type\":\"WheelZoomTool\"},{\"id\":\"290ea795-c0a6-485e-8973-4bf5c2bc301d\",\"type\":\"BoxZoomTool\"},{\"id\":\"de3ecc6b-db37-4d3f-8800-ddcf95b05b75\",\"type\":\"SaveTool\"},{\"id\":\"e1806840-3f95-4628-9c39-cf751904b571\",\"type\":\"ResetTool\"},{\"id\":\"859209a0-f485-406a-935b-e6d9dd25ba8b\",\"type\":\"HelpTool\"}]},\"id\":\"417e178b-7b3c-4330-98f5-0171b2eff679\",\"type\":\"ProxyToolbar\"},{\"attributes\":{\"source\":{\"id\":\"5c0b0b45-bbaa-4a2f-a7c6-3f722b3aed81\",\"type\":\"ColumnDataSource\"}},\"id\":\"fa6e27ad-7a0b-4ddb-9506-2262c9f10745\",\"type\":\"CDSView\"},{\"attributes\":{},\"id\":\"70a73d11-8298-4f5d-b673-8140760fa2a7\",\"type\":\"LinearScale\"},{\"attributes\":{\"plot\":{\"id\":\"7ad959fa-2da9-435a-b430-83d4bb163b4f\",\"subtype\":\"Figure\",\"type\":\"Plot\"},\"ticker\":{\"id\":\"49c56a33-b2c1-45f3-927e-342295ff23d3\",\"type\":\"CategoricalTicker\"}},\"id\":\"aacd05bb-f5fc-48ed-bcbe-33220cf9bcd9\",\"type\":\"Grid\"},{\"attributes\":{},\"id\":\"b6f140fe-6208-4b5d-bb45-fd4f0ee06d95\",\"type\":\"CategoricalTicker\"},{\"attributes\":{\"active_drag\":\"auto\",\"active_inspect\":\"auto\",\"active_scroll\":\"auto\",\"active_tap\":\"auto\",\"tools\":[{\"id\":\"b9ce3338-551d-406b-bb20-0978339f14f1\",\"type\":\"PanTool\"},{\"id\":\"2dc65c51-612d-4cdd-97cc-a3f7974c4465\",\"type\":\"WheelZoomTool\"},{\"id\":\"290ea795-c0a6-485e-8973-4bf5c2bc301d\",\"type\":\"BoxZoomTool\"},{\"id\":\"de3ecc6b-db37-4d3f-8800-ddcf95b05b75\",\"type\":\"SaveTool\"},{\"id\":\"e1806840-3f95-4628-9c39-cf751904b571\",\"type\":\"ResetTool\"},{\"id\":\"859209a0-f485-406a-935b-e6d9dd25ba8b\",\"type\":\"HelpTool\"}]},\"id\":\"704021f3-f882-4bbd-b7f9-032a558d8ddf\",\"type\":\"Toolbar\"},{\"attributes\":{\"dimension\":1,\"plot\":{\"id\":\"d03094e2-fef1-4042-8fdd-cfa0bf6ee2f8\",\"subtype\":\"Figure\",\"type\":\"Plot\"},\"ticker\":{\"id\":\"8f23b8de-dce9-49cf-9936-a1b7d35662df\",\"type\":\"BasicTicker\"}},\"id\":\"a163db04-0ee4-4c74-8279-bc24917c3d5c\",\"type\":\"Grid\"},{\"attributes\":{\"plot\":null,\"text\":\"SFC flux. CLIRAD (single-run) - CRD.\"},\"id\":\"f3230f3f-7064-4400-af7a-d382a6ba1a82\",\"type\":\"Title\"},{\"attributes\":{},\"id\":\"842053f6-4868-4850-bd59-3e60a0dbd726\",\"type\":\"LinearScale\"},{\"attributes\":{\"bottom_units\":\"screen\",\"fill_alpha\":{\"value\":0.5},\"fill_color\":{\"value\":\"lightgrey\"},\"left_units\":\"screen\",\"level\":\"overlay\",\"line_alpha\":{\"value\":1.0},\"line_color\":{\"value\":\"black\"},\"line_dash\":[4,4],\"line_width\":{\"value\":2},\"plot\":null,\"render_mode\":\"css\",\"right_units\":\"screen\",\"top_units\":\"screen\"},\"id\":\"0e45868a-043e-4d05-bd7c-432b4e99cd60\",\"type\":\"BoxAnnotation\"}],\"root_ids\":[\"99cbfb5e-cde5-46ca-9b9f-a831e72a8983\"]},\"title\":\"Bokeh Application\",\"version\":\"0.12.16\"}};\n",
       "  var render_items = [{\"docid\":\"26fb8345-3b15-4a8e-b7ee-0b214dcc7e85\",\"elementid\":\"790a357b-92b8-40a9-8e17-e704dc69b2f1\",\"modelid\":\"99cbfb5e-cde5-46ca-9b9f-a831e72a8983\"}];\n",
       "  root.Bokeh.embed.embed_items_notebook(docs_json, render_items);\n",
       "\n",
       "  }\n",
       "  if (root.Bokeh !== undefined) {\n",
       "    embed_document(root);\n",
       "  } else {\n",
       "    var attempts = 0;\n",
       "    var timer = setInterval(function(root) {\n",
       "      if (root.Bokeh !== undefined) {\n",
       "        embed_document(root);\n",
       "        clearInterval(timer);\n",
       "      }\n",
       "      attempts++;\n",
       "      if (attempts > 100) {\n",
       "        console.log(\"Bokeh: ERROR: Unable to run BokehJS code because BokehJS library is missing\")\n",
       "        clearInterval(timer);\n",
       "      }\n",
       "    }, 10, root)\n",
       "  }\n",
       "})(window);"
      ],
      "application/vnd.bokehjs_exec.v0+json": ""
     },
     "metadata": {
      "application/vnd.bokehjs_exec.v0+json": {
       "id": "99cbfb5e-cde5-46ca-9b9f-a831e72a8983"
      }
     },
     "output_type": "display_data"
    },
    {
     "data": {
      "text/markdown": [
       "*FIGURE.* Difference between CLIRAD and CRD in TOA, SFC and net atmosphere flux, in each spectral band."
      ],
      "text/plain": [
       "<IPython.core.display.Markdown object>"
      ]
     },
     "metadata": {},
     "output_type": "display_data"
    },
    {
     "data": {
      "text/html": [
       "<div>\n",
       "<style scoped>\n",
       "    .dataframe tbody tr th:only-of-type {\n",
       "        vertical-align: middle;\n",
       "    }\n",
       "\n",
       "    .dataframe tbody tr th {\n",
       "        vertical-align: top;\n",
       "    }\n",
       "\n",
       "    .dataframe thead th {\n",
       "        text-align: right;\n",
       "    }\n",
       "</style>\n",
       "<table border=\"1\" class=\"dataframe\">\n",
       "  <thead>\n",
       "    <tr style=\"text-align: right;\">\n",
       "      <th></th>\n",
       "      <th>OLR flux</th>\n",
       "      <th>SFC flux</th>\n",
       "      <th>ATM heating</th>\n",
       "    </tr>\n",
       "    <tr>\n",
       "      <th>Sum over bands</th>\n",
       "      <th></th>\n",
       "      <th></th>\n",
       "      <th></th>\n",
       "    </tr>\n",
       "  </thead>\n",
       "  <tbody>\n",
       "    <tr>\n",
       "      <th>CLIRAD (single-run) - CRD</th>\n",
       "      <td>1.48</td>\n",
       "      <td>1.61</td>\n",
       "      <td>267.63</td>\n",
       "    </tr>\n",
       "    <tr>\n",
       "      <th>CRD</th>\n",
       "      <td>-303.40</td>\n",
       "      <td>337.24</td>\n",
       "      <td>-181.37</td>\n",
       "    </tr>\n",
       "  </tbody>\n",
       "</table>\n",
       "</div>"
      ],
      "text/plain": [
       "                           OLR flux  SFC flux  ATM heating\n",
       "Sum over bands                                            \n",
       "CLIRAD (single-run) - CRD      1.48      1.61       267.63\n",
       "CRD                         -303.40    337.24      -181.37"
      ]
     },
     "metadata": {},
     "output_type": "display_data"
    },
    {
     "data": {
      "text/markdown": [
       "*TABLE.* Difference between CLIRAD and CRD in TOA, SFC and net atmosphere flux, over all spectral bands. CRD's TOA, SFC and net atmosphere flux, over all spectral bands."
      ],
      "text/plain": [
       "<IPython.core.display.Markdown object>"
      ]
     },
     "metadata": {},
     "output_type": "display_data"
    }
   ],
   "source": [
    "def show_html(s):\n",
    "    display.display(display.HTML(s))\n",
    "\n",
    "    \n",
    "def show_markdown(s):\n",
    "    display.display(display.Markdown(s))\n",
    "\n",
    "\n",
    "def script():\n",
    "    \n",
    "    d_atm = {'mls': 'mid-latitude summer',\n",
    "             'saw': 'sub-arctic winter',\n",
    "             'trp': 'tropical'}\n",
    "    \n",
    "    title = ('## Results over entire range of molecules'\n",
    "             ' and spectral bands')\n",
    "    \n",
    "    s_makeup = 'Makeup of atmosphere.'\n",
    "    s_atmpro = '# {}'\n",
    "    s_cool = 'Cooling rates. {}.'\n",
    "    s_flux = 'Fluxes. {}.'\n",
    "    \n",
    "    atmpros = ['mls', 'saw', 'trp']\n",
    "    \n",
    "    # TOC\n",
    "    show_markdown(title)\n",
    "    show_markdown('### Table of Contents')\n",
    "    show_html(climahtml.getHTML_hrefanchor(s_makeup))\n",
    "    for atmpro in atmpros:\n",
    "        show_markdown('**' + d_atm[atmpro] + '**')\n",
    "        show_html(climahtml.getHTML_hrefanchor(s_cool.format(atmpro)))\n",
    "        show_html(climahtml.getHTML_hrefanchor(s_flux.format(atmpro)))\n",
    "\n",
    "        \n",
    "    # Atmosphere makeup\n",
    "    show_html(climahtml.getHTML_idanchor(s_makeup))\n",
    "    show_markdown(climahtml.getMarkdown_sectitle(s_makeup))\n",
    "    show_makeup()\n",
    "    show_grey_makeup()\n",
    "        \n",
    "    for atmpro in atmpros:\n",
    "        show_html(climahtml.getHTML_idanchor(s_cool.format(atmpro)))\n",
    "        show_markdown(\n",
    "            climahtml.getMarkdown_sectitle(s_cool.format(atmpro)))\n",
    "        show_cool(atmpro=atmpro)\n",
    "        show_html(climahtml.getHTML_idanchor(s_flux.format(atmpro)))\n",
    "        show_markdown(\n",
    "            climahtml.getMarkdown_sectitle(s_flux.format(atmpro)))\n",
    "        show_hist_flux(atmpro=atmpro)\n",
    "        show_tb_flux(atmpro=atmpro)\n",
    "    \n",
    "    \n",
    "script()  "
   ]
  },
  {
   "cell_type": "code",
   "execution_count": null,
   "metadata": {
    "collapsed": true
   },
   "outputs": [],
   "source": []
  },
  {
   "cell_type": "code",
   "execution_count": 748,
   "metadata": {},
   "outputs": [
    {
     "data": {
      "text/html": [
       "<script>\n",
       "code_show=true; \n",
       "function code_toggle() {\n",
       " if (code_show){\n",
       " $('div.input').hide();\n",
       " } else {\n",
       " $('div.input').show();\n",
       " }\n",
       " code_show = !code_show\n",
       "} \n",
       "$( document ).ready(code_toggle);\n",
       "</script>\n",
       "<form action=\"javascript:code_toggle()\"><input type=\"submit\" value=\"Click here to toggle on/off the raw code.\"></form>"
      ],
      "text/plain": [
       "<IPython.core.display.HTML object>"
      ]
     },
     "execution_count": 748,
     "metadata": {},
     "output_type": "execute_result"
    }
   ],
   "source": [
    "display.HTML('''<script>\n",
    "code_show=true; \n",
    "function code_toggle() {\n",
    " if (code_show){\n",
    " $('div.input').hide();\n",
    " } else {\n",
    " $('div.input').show();\n",
    " }\n",
    " code_show = !code_show\n",
    "} \n",
    "$( document ).ready(code_toggle);\n",
    "</script>\n",
    "<form action=\"javascript:code_toggle()\"><input type=\"submit\" value=\"Click here to toggle on/off the raw code.\"></form>''')"
   ]
  },
  {
   "cell_type": "code",
   "execution_count": null,
   "metadata": {
    "collapsed": true
   },
   "outputs": [],
   "source": []
  }
 ],
 "metadata": {
  "kernelspec": {
   "display_name": "Python 3",
   "language": "python",
   "name": "python3"
  },
  "language_info": {
   "codemirror_mode": {
    "name": "ipython",
    "version": 3
   },
   "file_extension": ".py",
   "mimetype": "text/x-python",
   "name": "python",
   "nbconvert_exporter": "python",
   "pygments_lexer": "ipython3",
   "version": "3.6.1"
  }
 },
 "nbformat": 4,
 "nbformat_minor": 2
}
