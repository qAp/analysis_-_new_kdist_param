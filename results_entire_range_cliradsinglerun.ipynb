{
 "cells": [
  {
   "cell_type": "code",
   "execution_count": 877,
   "metadata": {
    "collapsed": true
   },
   "outputs": [],
   "source": [
    "import os\n",
    "import ast\n",
    "import json\n",
    "import importlib \n",
    "import itertools\n",
    "import collections\n",
    "import pprint\n",
    "\n",
    "from bokeh.io import output_notebook, show\n",
    "from bokeh.layouts import gridplot\n",
    "from bokeh.plotting import figure\n",
    "from bokeh.models import Range1d, Legend, ColumnDataSource, FactorRange\n",
    "from bokeh.palettes import all_palettes\n",
    "from bokeh.transform import factor_cmap\n",
    "\n",
    "import matplotlib\n",
    "import matplotlib.pyplot as plt\n",
    "import numpy as np\n",
    "import pandas as pd\n",
    "import xarray as xr\n",
    "\n",
    "\n",
    "import climatools.lblnew.bestfit_params as bestfits\n",
    "from climatools.lblnew import setup_bestfit, setup_overlap\n",
    "import climatools.lblnew.pipeline as pipe_lblnew\n",
    "import climatools.cliradlw.setup as setup_cliradlw\n",
    "import climatools.cliradlw.pipeline as pipe_cliradlw\n",
    "\n",
    "import climatools.html.html as climahtml\n",
    "from climatools.lblnew.dataio import *\n",
    "from climatools.plot.plot import *\n",
    "\n",
    "\n",
    "from IPython import display\n",
    "\n",
    "#importlib.reload(bestfits)\n",
    "#importlib.reload(setup_bestfit)\n",
    "#importlib.reload(setup_overlap)\n",
    "#importlib.reload(pipe_lblnew)\n",
    "#importlib.reload(setup_cliradlw)\n",
    "#importlib.reload(pipe_cliradlw)"
   ]
  },
  {
   "cell_type": "code",
   "execution_count": 878,
   "metadata": {
    "scrolled": true
   },
   "outputs": [
    {
     "data": {
      "text/html": [
       "\n",
       "    <div class=\"bk-root\">\n",
       "        <a href=\"https://bokeh.pydata.org\" target=\"_blank\" class=\"bk-logo bk-logo-small bk-logo-notebook\"></a>\n",
       "        <span id=\"196712d1-3ac8-4855-9d05-15cef7d9a604\">Loading BokehJS ...</span>\n",
       "    </div>"
      ]
     },
     "metadata": {},
     "output_type": "display_data"
    },
    {
     "data": {
      "application/javascript": [
       "\n",
       "(function(root) {\n",
       "  function now() {\n",
       "    return new Date();\n",
       "  }\n",
       "\n",
       "  var force = true;\n",
       "\n",
       "  if (typeof (root._bokeh_onload_callbacks) === \"undefined\" || force === true) {\n",
       "    root._bokeh_onload_callbacks = [];\n",
       "    root._bokeh_is_loading = undefined;\n",
       "  }\n",
       "\n",
       "  var JS_MIME_TYPE = 'application/javascript';\n",
       "  var HTML_MIME_TYPE = 'text/html';\n",
       "  var EXEC_MIME_TYPE = 'application/vnd.bokehjs_exec.v0+json';\n",
       "  var CLASS_NAME = 'output_bokeh rendered_html';\n",
       "\n",
       "  /**\n",
       "   * Render data to the DOM node\n",
       "   */\n",
       "  function render(props, node) {\n",
       "    var script = document.createElement(\"script\");\n",
       "    node.appendChild(script);\n",
       "  }\n",
       "\n",
       "  /**\n",
       "   * Handle when an output is cleared or removed\n",
       "   */\n",
       "  function handleClearOutput(event, handle) {\n",
       "    var cell = handle.cell;\n",
       "\n",
       "    var id = cell.output_area._bokeh_element_id;\n",
       "    var server_id = cell.output_area._bokeh_server_id;\n",
       "    // Clean up Bokeh references\n",
       "    if (id !== undefined) {\n",
       "      Bokeh.index[id].model.document.clear();\n",
       "      delete Bokeh.index[id];\n",
       "    }\n",
       "\n",
       "    if (server_id !== undefined) {\n",
       "      // Clean up Bokeh references\n",
       "      var cmd = \"from bokeh.io.state import curstate; print(curstate().uuid_to_server['\" + server_id + \"'].get_sessions()[0].document.roots[0]._id)\";\n",
       "      cell.notebook.kernel.execute(cmd, {\n",
       "        iopub: {\n",
       "          output: function(msg) {\n",
       "            var element_id = msg.content.text.trim();\n",
       "            Bokeh.index[element_id].model.document.clear();\n",
       "            delete Bokeh.index[element_id];\n",
       "          }\n",
       "        }\n",
       "      });\n",
       "      // Destroy server and session\n",
       "      var cmd = \"import bokeh.io.notebook as ion; ion.destroy_server('\" + server_id + \"')\";\n",
       "      cell.notebook.kernel.execute(cmd);\n",
       "    }\n",
       "  }\n",
       "\n",
       "  /**\n",
       "   * Handle when a new output is added\n",
       "   */\n",
       "  function handleAddOutput(event, handle) {\n",
       "    var output_area = handle.output_area;\n",
       "    var output = handle.output;\n",
       "\n",
       "    // limit handleAddOutput to display_data with EXEC_MIME_TYPE content only\n",
       "    if ((output.output_type != \"display_data\") || (!output.data.hasOwnProperty(EXEC_MIME_TYPE))) {\n",
       "      return\n",
       "    }\n",
       "\n",
       "    var toinsert = output_area.element.find(\".\" + CLASS_NAME.split(' ')[0]);\n",
       "\n",
       "    if (output.metadata[EXEC_MIME_TYPE][\"id\"] !== undefined) {\n",
       "      toinsert[toinsert.length - 1].firstChild.textContent = output.data[JS_MIME_TYPE];\n",
       "      // store reference to embed id on output_area\n",
       "      output_area._bokeh_element_id = output.metadata[EXEC_MIME_TYPE][\"id\"];\n",
       "    }\n",
       "    if (output.metadata[EXEC_MIME_TYPE][\"server_id\"] !== undefined) {\n",
       "      var bk_div = document.createElement(\"div\");\n",
       "      bk_div.innerHTML = output.data[HTML_MIME_TYPE];\n",
       "      var script_attrs = bk_div.children[0].attributes;\n",
       "      for (var i = 0; i < script_attrs.length; i++) {\n",
       "        toinsert[toinsert.length - 1].firstChild.setAttribute(script_attrs[i].name, script_attrs[i].value);\n",
       "      }\n",
       "      // store reference to server id on output_area\n",
       "      output_area._bokeh_server_id = output.metadata[EXEC_MIME_TYPE][\"server_id\"];\n",
       "    }\n",
       "  }\n",
       "\n",
       "  function register_renderer(events, OutputArea) {\n",
       "\n",
       "    function append_mime(data, metadata, element) {\n",
       "      // create a DOM node to render to\n",
       "      var toinsert = this.create_output_subarea(\n",
       "        metadata,\n",
       "        CLASS_NAME,\n",
       "        EXEC_MIME_TYPE\n",
       "      );\n",
       "      this.keyboard_manager.register_events(toinsert);\n",
       "      // Render to node\n",
       "      var props = {data: data, metadata: metadata[EXEC_MIME_TYPE]};\n",
       "      render(props, toinsert[toinsert.length - 1]);\n",
       "      element.append(toinsert);\n",
       "      return toinsert\n",
       "    }\n",
       "\n",
       "    /* Handle when an output is cleared or removed */\n",
       "    events.on('clear_output.CodeCell', handleClearOutput);\n",
       "    events.on('delete.Cell', handleClearOutput);\n",
       "\n",
       "    /* Handle when a new output is added */\n",
       "    events.on('output_added.OutputArea', handleAddOutput);\n",
       "\n",
       "    /**\n",
       "     * Register the mime type and append_mime function with output_area\n",
       "     */\n",
       "    OutputArea.prototype.register_mime_type(EXEC_MIME_TYPE, append_mime, {\n",
       "      /* Is output safe? */\n",
       "      safe: true,\n",
       "      /* Index of renderer in `output_area.display_order` */\n",
       "      index: 0\n",
       "    });\n",
       "  }\n",
       "\n",
       "  // register the mime type if in Jupyter Notebook environment and previously unregistered\n",
       "  if (root.Jupyter !== undefined) {\n",
       "    var events = require('base/js/events');\n",
       "    var OutputArea = require('notebook/js/outputarea').OutputArea;\n",
       "\n",
       "    if (OutputArea.prototype.mime_types().indexOf(EXEC_MIME_TYPE) == -1) {\n",
       "      register_renderer(events, OutputArea);\n",
       "    }\n",
       "  }\n",
       "\n",
       "  \n",
       "  if (typeof (root._bokeh_timeout) === \"undefined\" || force === true) {\n",
       "    root._bokeh_timeout = Date.now() + 5000;\n",
       "    root._bokeh_failed_load = false;\n",
       "  }\n",
       "\n",
       "  var NB_LOAD_WARNING = {'data': {'text/html':\n",
       "     \"<div style='background-color: #fdd'>\\n\"+\n",
       "     \"<p>\\n\"+\n",
       "     \"BokehJS does not appear to have successfully loaded. If loading BokehJS from CDN, this \\n\"+\n",
       "     \"may be due to a slow or bad network connection. Possible fixes:\\n\"+\n",
       "     \"</p>\\n\"+\n",
       "     \"<ul>\\n\"+\n",
       "     \"<li>re-rerun `output_notebook()` to attempt to load from CDN again, or</li>\\n\"+\n",
       "     \"<li>use INLINE resources instead, as so:</li>\\n\"+\n",
       "     \"</ul>\\n\"+\n",
       "     \"<code>\\n\"+\n",
       "     \"from bokeh.resources import INLINE\\n\"+\n",
       "     \"output_notebook(resources=INLINE)\\n\"+\n",
       "     \"</code>\\n\"+\n",
       "     \"</div>\"}};\n",
       "\n",
       "  function display_loaded() {\n",
       "    var el = document.getElementById(\"196712d1-3ac8-4855-9d05-15cef7d9a604\");\n",
       "    if (el != null) {\n",
       "      el.textContent = \"BokehJS is loading...\";\n",
       "    }\n",
       "    if (root.Bokeh !== undefined) {\n",
       "      if (el != null) {\n",
       "        el.textContent = \"BokehJS \" + root.Bokeh.version + \" successfully loaded.\";\n",
       "      }\n",
       "    } else if (Date.now() < root._bokeh_timeout) {\n",
       "      setTimeout(display_loaded, 100)\n",
       "    }\n",
       "  }\n",
       "\n",
       "\n",
       "  function run_callbacks() {\n",
       "    try {\n",
       "      root._bokeh_onload_callbacks.forEach(function(callback) { callback() });\n",
       "    }\n",
       "    finally {\n",
       "      delete root._bokeh_onload_callbacks\n",
       "    }\n",
       "    console.info(\"Bokeh: all callbacks have finished\");\n",
       "  }\n",
       "\n",
       "  function load_libs(js_urls, callback) {\n",
       "    root._bokeh_onload_callbacks.push(callback);\n",
       "    if (root._bokeh_is_loading > 0) {\n",
       "      console.log(\"Bokeh: BokehJS is being loaded, scheduling callback at\", now());\n",
       "      return null;\n",
       "    }\n",
       "    if (js_urls == null || js_urls.length === 0) {\n",
       "      run_callbacks();\n",
       "      return null;\n",
       "    }\n",
       "    console.log(\"Bokeh: BokehJS not loaded, scheduling load and callback at\", now());\n",
       "    root._bokeh_is_loading = js_urls.length;\n",
       "    for (var i = 0; i < js_urls.length; i++) {\n",
       "      var url = js_urls[i];\n",
       "      var s = document.createElement('script');\n",
       "      s.src = url;\n",
       "      s.async = false;\n",
       "      s.onreadystatechange = s.onload = function() {\n",
       "        root._bokeh_is_loading--;\n",
       "        if (root._bokeh_is_loading === 0) {\n",
       "          console.log(\"Bokeh: all BokehJS libraries loaded\");\n",
       "          run_callbacks()\n",
       "        }\n",
       "      };\n",
       "      s.onerror = function() {\n",
       "        console.warn(\"failed to load library \" + url);\n",
       "      };\n",
       "      console.log(\"Bokeh: injecting script tag for BokehJS library: \", url);\n",
       "      document.getElementsByTagName(\"head\")[0].appendChild(s);\n",
       "    }\n",
       "  };var element = document.getElementById(\"196712d1-3ac8-4855-9d05-15cef7d9a604\");\n",
       "  if (element == null) {\n",
       "    console.log(\"Bokeh: ERROR: autoload.js configured with elementid '196712d1-3ac8-4855-9d05-15cef7d9a604' but no matching script tag was found. \")\n",
       "    return false;\n",
       "  }\n",
       "\n",
       "  var js_urls = [\"https://cdn.pydata.org/bokeh/release/bokeh-0.12.16.min.js\", \"https://cdn.pydata.org/bokeh/release/bokeh-widgets-0.12.16.min.js\", \"https://cdn.pydata.org/bokeh/release/bokeh-tables-0.12.16.min.js\", \"https://cdn.pydata.org/bokeh/release/bokeh-gl-0.12.16.min.js\"];\n",
       "\n",
       "  var inline_js = [\n",
       "    function(Bokeh) {\n",
       "      Bokeh.set_log_level(\"info\");\n",
       "    },\n",
       "    \n",
       "    function(Bokeh) {\n",
       "      \n",
       "    },\n",
       "    function(Bokeh) {\n",
       "      console.log(\"Bokeh: injecting CSS: https://cdn.pydata.org/bokeh/release/bokeh-0.12.16.min.css\");\n",
       "      Bokeh.embed.inject_css(\"https://cdn.pydata.org/bokeh/release/bokeh-0.12.16.min.css\");\n",
       "      console.log(\"Bokeh: injecting CSS: https://cdn.pydata.org/bokeh/release/bokeh-widgets-0.12.16.min.css\");\n",
       "      Bokeh.embed.inject_css(\"https://cdn.pydata.org/bokeh/release/bokeh-widgets-0.12.16.min.css\");\n",
       "      console.log(\"Bokeh: injecting CSS: https://cdn.pydata.org/bokeh/release/bokeh-tables-0.12.16.min.css\");\n",
       "      Bokeh.embed.inject_css(\"https://cdn.pydata.org/bokeh/release/bokeh-tables-0.12.16.min.css\");\n",
       "    }\n",
       "  ];\n",
       "\n",
       "  function run_inline_js() {\n",
       "    \n",
       "    if ((root.Bokeh !== undefined) || (force === true)) {\n",
       "      for (var i = 0; i < inline_js.length; i++) {\n",
       "        inline_js[i].call(root, root.Bokeh);\n",
       "      }if (force === true) {\n",
       "        display_loaded();\n",
       "      }} else if (Date.now() < root._bokeh_timeout) {\n",
       "      setTimeout(run_inline_js, 100);\n",
       "    } else if (!root._bokeh_failed_load) {\n",
       "      console.log(\"Bokeh: BokehJS failed to load within specified timeout.\");\n",
       "      root._bokeh_failed_load = true;\n",
       "    } else if (force !== true) {\n",
       "      var cell = $(document.getElementById(\"196712d1-3ac8-4855-9d05-15cef7d9a604\")).parents('.cell').data().cell;\n",
       "      cell.output_area.append_execute_result(NB_LOAD_WARNING)\n",
       "    }\n",
       "\n",
       "  }\n",
       "\n",
       "  if (root._bokeh_is_loading === 0) {\n",
       "    console.log(\"Bokeh: BokehJS loaded, going straight to plotting\");\n",
       "    run_inline_js();\n",
       "  } else {\n",
       "    load_libs(js_urls, function() {\n",
       "      console.log(\"Bokeh: BokehJS plotting callback run at\", now());\n",
       "      run_inline_js();\n",
       "    });\n",
       "  }\n",
       "}(window));"
      ],
      "application/vnd.bokehjs_load.v0+json": "\n(function(root) {\n  function now() {\n    return new Date();\n  }\n\n  var force = true;\n\n  if (typeof (root._bokeh_onload_callbacks) === \"undefined\" || force === true) {\n    root._bokeh_onload_callbacks = [];\n    root._bokeh_is_loading = undefined;\n  }\n\n  \n\n  \n  if (typeof (root._bokeh_timeout) === \"undefined\" || force === true) {\n    root._bokeh_timeout = Date.now() + 5000;\n    root._bokeh_failed_load = false;\n  }\n\n  var NB_LOAD_WARNING = {'data': {'text/html':\n     \"<div style='background-color: #fdd'>\\n\"+\n     \"<p>\\n\"+\n     \"BokehJS does not appear to have successfully loaded. If loading BokehJS from CDN, this \\n\"+\n     \"may be due to a slow or bad network connection. Possible fixes:\\n\"+\n     \"</p>\\n\"+\n     \"<ul>\\n\"+\n     \"<li>re-rerun `output_notebook()` to attempt to load from CDN again, or</li>\\n\"+\n     \"<li>use INLINE resources instead, as so:</li>\\n\"+\n     \"</ul>\\n\"+\n     \"<code>\\n\"+\n     \"from bokeh.resources import INLINE\\n\"+\n     \"output_notebook(resources=INLINE)\\n\"+\n     \"</code>\\n\"+\n     \"</div>\"}};\n\n  function display_loaded() {\n    var el = document.getElementById(\"196712d1-3ac8-4855-9d05-15cef7d9a604\");\n    if (el != null) {\n      el.textContent = \"BokehJS is loading...\";\n    }\n    if (root.Bokeh !== undefined) {\n      if (el != null) {\n        el.textContent = \"BokehJS \" + root.Bokeh.version + \" successfully loaded.\";\n      }\n    } else if (Date.now() < root._bokeh_timeout) {\n      setTimeout(display_loaded, 100)\n    }\n  }\n\n\n  function run_callbacks() {\n    try {\n      root._bokeh_onload_callbacks.forEach(function(callback) { callback() });\n    }\n    finally {\n      delete root._bokeh_onload_callbacks\n    }\n    console.info(\"Bokeh: all callbacks have finished\");\n  }\n\n  function load_libs(js_urls, callback) {\n    root._bokeh_onload_callbacks.push(callback);\n    if (root._bokeh_is_loading > 0) {\n      console.log(\"Bokeh: BokehJS is being loaded, scheduling callback at\", now());\n      return null;\n    }\n    if (js_urls == null || js_urls.length === 0) {\n      run_callbacks();\n      return null;\n    }\n    console.log(\"Bokeh: BokehJS not loaded, scheduling load and callback at\", now());\n    root._bokeh_is_loading = js_urls.length;\n    for (var i = 0; i < js_urls.length; i++) {\n      var url = js_urls[i];\n      var s = document.createElement('script');\n      s.src = url;\n      s.async = false;\n      s.onreadystatechange = s.onload = function() {\n        root._bokeh_is_loading--;\n        if (root._bokeh_is_loading === 0) {\n          console.log(\"Bokeh: all BokehJS libraries loaded\");\n          run_callbacks()\n        }\n      };\n      s.onerror = function() {\n        console.warn(\"failed to load library \" + url);\n      };\n      console.log(\"Bokeh: injecting script tag for BokehJS library: \", url);\n      document.getElementsByTagName(\"head\")[0].appendChild(s);\n    }\n  };var element = document.getElementById(\"196712d1-3ac8-4855-9d05-15cef7d9a604\");\n  if (element == null) {\n    console.log(\"Bokeh: ERROR: autoload.js configured with elementid '196712d1-3ac8-4855-9d05-15cef7d9a604' but no matching script tag was found. \")\n    return false;\n  }\n\n  var js_urls = [\"https://cdn.pydata.org/bokeh/release/bokeh-0.12.16.min.js\", \"https://cdn.pydata.org/bokeh/release/bokeh-widgets-0.12.16.min.js\", \"https://cdn.pydata.org/bokeh/release/bokeh-tables-0.12.16.min.js\", \"https://cdn.pydata.org/bokeh/release/bokeh-gl-0.12.16.min.js\"];\n\n  var inline_js = [\n    function(Bokeh) {\n      Bokeh.set_log_level(\"info\");\n    },\n    \n    function(Bokeh) {\n      \n    },\n    function(Bokeh) {\n      console.log(\"Bokeh: injecting CSS: https://cdn.pydata.org/bokeh/release/bokeh-0.12.16.min.css\");\n      Bokeh.embed.inject_css(\"https://cdn.pydata.org/bokeh/release/bokeh-0.12.16.min.css\");\n      console.log(\"Bokeh: injecting CSS: https://cdn.pydata.org/bokeh/release/bokeh-widgets-0.12.16.min.css\");\n      Bokeh.embed.inject_css(\"https://cdn.pydata.org/bokeh/release/bokeh-widgets-0.12.16.min.css\");\n      console.log(\"Bokeh: injecting CSS: https://cdn.pydata.org/bokeh/release/bokeh-tables-0.12.16.min.css\");\n      Bokeh.embed.inject_css(\"https://cdn.pydata.org/bokeh/release/bokeh-tables-0.12.16.min.css\");\n    }\n  ];\n\n  function run_inline_js() {\n    \n    if ((root.Bokeh !== undefined) || (force === true)) {\n      for (var i = 0; i < inline_js.length; i++) {\n        inline_js[i].call(root, root.Bokeh);\n      }if (force === true) {\n        display_loaded();\n      }} else if (Date.now() < root._bokeh_timeout) {\n      setTimeout(run_inline_js, 100);\n    } else if (!root._bokeh_failed_load) {\n      console.log(\"Bokeh: BokehJS failed to load within specified timeout.\");\n      root._bokeh_failed_load = true;\n    } else if (force !== true) {\n      var cell = $(document.getElementById(\"196712d1-3ac8-4855-9d05-15cef7d9a604\")).parents('.cell').data().cell;\n      cell.output_area.append_execute_result(NB_LOAD_WARNING)\n    }\n\n  }\n\n  if (root._bokeh_is_loading === 0) {\n    console.log(\"Bokeh: BokehJS loaded, going straight to plotting\");\n    run_inline_js();\n  } else {\n    load_libs(js_urls, function() {\n      console.log(\"Bokeh: BokehJS plotting callback run at\", now());\n      run_inline_js();\n    });\n  }\n}(window));"
     },
     "metadata": {},
     "output_type": "display_data"
    }
   ],
   "source": [
    "output_notebook()"
   ]
  },
  {
   "cell_type": "code",
   "execution_count": 879,
   "metadata": {
    "collapsed": true
   },
   "outputs": [],
   "source": [
    "'''\n",
    "Get the clirad-lw and lblnew `param`s for all spectral bands.  \n",
    "These are returned by functions `clirad_params_atm` and\n",
    "`lblnew_params_atm`, respectively.\n",
    "'''\n",
    "\n",
    "def molecules_byband_atm():\n",
    "    return {1: {'h2o': 'atmpro'},\n",
    "            2: {'h2o': 'atmpro'}, \n",
    "            3: {'co2': 0.0004, 'h2o': 'atmpro', 'n2o': 3.2e-07},\n",
    "            4: {'co2': 0.0004, 'h2o': 'atmpro'},\n",
    "            5: {'co2': 0.0004, 'h2o': 'atmpro'},\n",
    "            6: {'co2': 0.0004, 'h2o': 'atmpro'},\n",
    "            7: {'co2': 0.0004, 'h2o': 'atmpro', 'o3': 'atmpro'},\n",
    "            8: {'h2o': 'atmpro'},\n",
    "            9: {'ch4': 1.8e-06, 'h2o': 'atmpro', 'n2o': 3.2e-07},\n",
    "            10: {'h2o': 'atmpro'},\n",
    "            11: {'co2': 0.0004, 'h2o': 'atmpro'}}\n",
    "\n",
    "\n",
    "def greyabsorbers_by_band_atm():\n",
    "    return {1: {'con': 'atmpro'},\n",
    "            2: {'con': 'atmpro'},\n",
    "            3: {'con': 'atmpro'},\n",
    "            4: {'con': 'atmpro'},\n",
    "            5: {'con': 'atmpro'},\n",
    "            6: {'con': 'atmpro'}, \n",
    "            7: {'con': 'atmpro'},\n",
    "            8: {'con': 'atmpro', 'n2o': 3.2e-7}, \n",
    "            9: {'con': 'atmpro'}, \n",
    "            10: None,\n",
    "            11: None}\n",
    "\n",
    "\n",
    "def clirad_params_atm(atmpro='mls'):\n",
    "    d = {}\n",
    "    for band, molecule in molecules_byband_atm().items():\n",
    "        for param in setup_cliradlw.test_cases():\n",
    "            if [band] == param['band'] and molecule == param['molecule']:\n",
    "                param['atmpro'] = atmpro\n",
    "                d[band] = param\n",
    "                break                \n",
    "    return d\n",
    "\n",
    "\n",
    "def clirad_params_atm_singlerun(atmpro='mls'):\n",
    "    '''\n",
    "    Returns param of clirad-lw run that is equivalent to the total\n",
    "    of all the runs listed in molecules_byband_atm().  In order\n",
    "    for the output to be compatible with clirad_data_atm(), it will\n",
    "    be a list.\n",
    "    '''\n",
    "    param0 = {'band': [1, 2, 3, 4, 5, 6, 7, 8, 9, 10, 11],\n",
    "              'commitnumber': '692f34b',\n",
    "              'molecule': {'ch4': 1.8e-06,\n",
    "                           'co2': 0.0004,\n",
    "                           'h2o': 'atmpro',\n",
    "                           'n2o': 3.2e-07,\n",
    "                           'o3': 'atmpro'}}\n",
    "    \n",
    "    d_atmpros = {'mls': 294, 'saw': 257, 'trp': 300}\n",
    "    \n",
    "    param = param0.copy()\n",
    "    param['atmpro'] = atmpro\n",
    "    param['tsfc'] = d_atmpros[atmpro]\n",
    "    \n",
    "    d = {}\n",
    "    d['all'] = param\n",
    "    return d\n",
    "\n",
    "\n",
    "def analysis_dirs_atm(atmpro='mls'):\n",
    "    params = clirad_params_atm(atmpro=atmpro)\n",
    "    return {band: pipe_cliradlw.get_analysis_dir(param=param,\n",
    "                                                 setup=setup_cliradlw) \n",
    "            for band, param in params.items()}\n",
    "\n",
    "\n",
    "def lblnew_params_atm(atmpro='mls'):\n",
    "    dirs = analysis_dirs_atm(atmpro=atmpro)\n",
    "    \n",
    "    d = {}\n",
    "    for band, dirname in dirs.items():\n",
    "        with open(os.path.join(dirname, 'param.py'), \n",
    "                  mode='r', encoding='utf-8') as f:\n",
    "            _, l = f.readlines()\n",
    "        \n",
    "        s = l.split('=')[1].strip()\n",
    "        d[band] = ast.literal_eval(s)\n",
    "        \n",
    "    return d\n"
   ]
  },
  {
   "cell_type": "code",
   "execution_count": 880,
   "metadata": {
    "collapsed": true
   },
   "outputs": [],
   "source": [
    "def db_getdir():\n",
    "    atmpro = 'mls'\n",
    "    params = clirad_params_atm_singlerun(atmpro=atmpro)\n",
    "    param = params['all']\n",
    "    \n",
    "    fdir = pipe_cliradlw.get_fortran_dir(param=param, \n",
    "                                         setup=setup_cliradlw)\n",
    "    return fdir\n",
    "\n",
    "\n",
    "def db_ktable():\n",
    "    fdir = db_getdir()    \n",
    "    fpath = os.path.join(fdir, 'ktable.dat')\n",
    "    \n",
    "    df = pd.read_csv(fpath, sep=r'\\s+')\n",
    "    df = df.set_index(['band', 'mid', 'il', 'it', 'g'])\n",
    "    ds = xr.Dataset.from_dataframe(df)\n",
    "    return ds\n",
    "\n",
    "\n",
    "def db_ng_dgs():\n",
    "    fdir = db_getdir()\n",
    "    fpath = os.path.join(fdir, 'ng_dgs.dat')\n",
    "    \n",
    "    df = pd.read_csv(fpath, sep=r'\\s+')\n",
    "    df = df.set_index(['band', 'mid', 'g'])\n",
    "    ds = xr.Dataset.from_dataframe(df)\n",
    "    return ds\n"
   ]
  },
  {
   "cell_type": "code",
   "execution_count": 881,
   "metadata": {
    "collapsed": true
   },
   "outputs": [],
   "source": [
    "def show_makeup():\n",
    "    df = pd.DataFrame()\n",
    "\n",
    "    for band, molecule in molecules_byband_atm().items():\n",
    "        for name, conc in molecule.items():\n",
    "            df.loc[name, band] = str(conc)\n",
    "\n",
    "    df = df.fillna(0)\n",
    "    df.columns.name = 'clirad band'\n",
    "    df.index.name = 'molecule'\n",
    "    \n",
    "    display.display(df)\n",
    "    \n",
    "    display.display(\n",
    "        display.Markdown('*TABLE.* Non-grey absorbers in the atmosphere.'))\n",
    "\n",
    "\n",
    "def show_grey_makeup():\n",
    "    df = pd.DataFrame()\n",
    "    \n",
    "    for band, molecule in greyabsorbers_by_band_atm().items():\n",
    "        if molecule == None:\n",
    "            pass\n",
    "        else:\n",
    "            for name, conc in molecule.items():\n",
    "                df.loc[name, band] = str(conc)\n",
    "                \n",
    "    df = df.fillna(0)\n",
    "    df.columns.name = 'clirad band'\n",
    "    df.index.name = 'absorber'\n",
    "    \n",
    "    display.display(df)\n",
    "    display.display(\n",
    "        display.Markdown('*TABLE.* Grey absorbers in the atmosphere.')\n",
    "    )"
   ]
  },
  {
   "cell_type": "code",
   "execution_count": 882,
   "metadata": {
    "collapsed": true
   },
   "outputs": [],
   "source": [
    "def load_output_file(path_csv):\n",
    "    '''\n",
    "    Load lblnew output .csv file to xarray.Dataset\n",
    "    \n",
    "    Parameters\n",
    "    ----------\n",
    "    path_csv: str\n",
    "              Path to the .csv file to be loaded.\n",
    "    ds: xarray.Dataset\n",
    "        Data in the input file in the form of an xarray.Dataset.\n",
    "    '''\n",
    "    toindex = ['band', 'pressure', 'igg', 'g']    \n",
    "    df = pd.read_csv(path_csv, sep=r'\\s+')\n",
    "    df = df.set_index([i for i in toindex if i in df.columns])\n",
    "    df = df.rename(columns={'sfu': 'flug',\n",
    "                            'sfd': 'fldg',\n",
    "                            'fnet': 'fnetg',\n",
    "                            'coolr': 'coolrg'})\n",
    "    ds = xr.Dataset.from_dataframe(df)\n",
    "\n",
    "    for l in ('level', 'layer'):\n",
    "        if l in ds.data_vars:\n",
    "            if len(ds[l].dims) > 1:\n",
    "                surface = {d: 0 for d in ds.dims if d != 'pressure'}\n",
    "                coord_level = ds[l][surface]\n",
    "                ds.coords[l] = ('pressure', coord_level)\n",
    "            else:\n",
    "                ds.coords[l] = ('pressure', ds[l])\n",
    "    \n",
    "    return ds"
   ]
  },
  {
   "cell_type": "code",
   "execution_count": 883,
   "metadata": {
    "collapsed": true
   },
   "outputs": [],
   "source": [
    "def lblnew_setup(param=None):\n",
    "    if 'ng_refs' in param:\n",
    "        return {'setup': setup_bestfit,\n",
    "                'fname_flux_crd': 'output_flux.dat',\n",
    "                'fname_cool_crd': 'output_coolr.dat',\n",
    "                'fname_flux_wgt': 'output_wfluxg.dat',\n",
    "                'fname_cool_wgt': 'output_wcoolrg.dat'}\n",
    "    else:\n",
    "        return {'setup': setup_overlap,\n",
    "                'fname_flux_crd': 'output_flux.dat',\n",
    "                'fname_cool_crd': 'output_coolr.dat',\n",
    "                'fname_flux_wgt': 'output_wflux.dat',\n",
    "                'fname_cool_wgt': 'output_wcoolr.dat'}\n",
    "\n",
    "    \n",
    "def load_lblnew_data(param):\n",
    "    \n",
    "    fname_dsname = [('fname_flux_crd', 'ds_flux_crd'),\n",
    "                    ('fname_cool_crd', 'ds_cool_crd'),\n",
    "                    ('fname_flux_wgt', 'ds_flux_wgt'),\n",
    "                    ('fname_cool_wgt', 'ds_cool_wgt')]\n",
    "    \n",
    "    d = lblnew_setup(param)\n",
    "    dir_fortran = pipe_lblnew.get_dir_case(param, setup=d['setup'])\n",
    "    \n",
    "    data_dict = {}\n",
    "    for fname, dsname in fname_dsname:\n",
    "        fpath = os.path.join(dir_fortran, d[fname])\n",
    "        data_dict[dsname] = load_output_file(fpath)\n",
    "    return data_dict"
   ]
  },
  {
   "cell_type": "code",
   "execution_count": 884,
   "metadata": {
    "collapsed": true
   },
   "outputs": [],
   "source": [
    "def crd_data_atm(params_atm):\n",
    "    '''\n",
    "    Parameters\n",
    "    ----------\n",
    "    \n",
    "    params_atm: dict\n",
    "                Parameter dictionary for each band.\n",
    "                \n",
    "    d: dict\n",
    "       'flux': xr.Dataset. [pressure, band]\n",
    "               Fluxes.\n",
    "       'cool': xr.Dataset. [pressure, band]\n",
    "               Cooling rate.\n",
    "    \n",
    "    '''\n",
    "    \n",
    "    results_atm = {band: load_lblnew_data(param) \n",
    "                   for band, param in params_atm.items()}\n",
    "    \n",
    "    bands = [band for band, _ in params_atm.items()]\n",
    "    fluxs = [d['ds_flux_crd'] for _, d in results_atm.items()]\n",
    "    cools = [d['ds_cool_crd'] for _, d in results_atm.items()]\n",
    "    \n",
    "    d = {}\n",
    "    d['flux'] = xr.concat(fluxs, dim=bands).rename({'concat_dim': 'band'})\n",
    "    d['cool'] = xr.concat(cools, dim=bands).rename({'concat_dim': 'band'})\n",
    "    return d        \n",
    "        \n",
    "        \n",
    "\n",
    "def clirad_data_atm(params_atm):\n",
    "    \n",
    "    dirnames = [pipe_cliradlw.get_fortran_dir(param,\n",
    "                                              setup=setup_cliradlw)\n",
    "                for _, param in params_atm.items()]\n",
    "    \n",
    "    fpaths_flux = [os.path.join(n, 'output_flux.dat') for n in dirnames]\n",
    "    fpaths_cool = [os.path.join(n, 'output_coolr.dat') for n in dirnames]\n",
    "    \n",
    "    fluxs = [load_output_file(p) for p in fpaths_flux]    \n",
    "    cools = [load_output_file(p) for p in fpaths_cool]\n",
    "    \n",
    "    d = {}\n",
    "    d['flux'] = sum(fluxs)\n",
    "    d['cool'] = sum(cools)\n",
    "    return d\n",
    "\n"
   ]
  },
  {
   "cell_type": "code",
   "execution_count": 885,
   "metadata": {
    "collapsed": true
   },
   "outputs": [],
   "source": [
    "\n",
    "\n",
    "import rtmtools.clirad.sw.wrangle as cliradwrangle\n",
    "\n",
    "import importlib\n",
    "importlib.reload(cliradwrangle)\n",
    "\n",
    "def oldclirad_data_atm():\n",
    "    '''\n",
    "    Load the OLD clirad's results. mls only.\n",
    "    '''\n",
    "    fpath = os.path.join('/chia_cluster/home/jackyu/radiation',\n",
    "                         'clirad-lw',\n",
    "                         'LW',\n",
    "                         'examples',\n",
    "                         'mls75_h2o_atmpro_co2_.0004_o3_atmpro_n2o_3.2e-7_ch4_1.8e-6_H2012',\n",
    "                         'OUTPUT_CLIRAD.dat')\n",
    "    \n",
    "    ds = cliradwrangle.load_OUTPUT_CLIRAD(readfrom=fpath)\n",
    "    \n",
    "    ds_cool = xr.Dataset()\n",
    "    ds_cool.coords['pressure'] = ('pressure', ds['layer_pressure'])\n",
    "    ds_cool.coords['band'] = ('band', ds['spectral_band'])\n",
    "    ds_cool['coolrg'] = (('band', 'pressure'), - ds['heating_rate'])\n",
    "    \n",
    "    ds_flux = xr.Dataset()\n",
    "    ds_flux.coords['pressure'] = ('pressure', ds['level_pressure'])\n",
    "    ds_flux.coords['band'] = ('band', ds['spectral_band'])\n",
    "    ds_flux['flug'] = (('band', 'pressure'), ds['flux_up'])\n",
    "    ds_flux['fldg'] = (('band', 'pressure'), ds['flux_down'])\n",
    "    ds_flux['fnetg'] = (('band', 'pressure'), ds['net_flux'])\n",
    "    \n",
    "    \n",
    "    d = {}\n",
    "    d['cool'] = ds_cool\n",
    "    d['flux'] = ds_flux\n",
    "    return d\n"
   ]
  },
  {
   "cell_type": "code",
   "execution_count": 886,
   "metadata": {
    "collapsed": true
   },
   "outputs": [],
   "source": [
    "def fmt_cool(ds_in):\n",
    "    ds = ds_in.copy(deep=True)\n",
    "    if 'igg' in ds.dims:\n",
    "        ds = ds.sel(igg=1)\n",
    "\n",
    "    if 'g' in ds.dims:\n",
    "        ds = ds.sum('g')\n",
    "            \n",
    "    if 'band' in ds.dims:\n",
    "        try:\n",
    "            ds = ds.squeeze('band')\n",
    "        except ValueError:\n",
    "            ds = ds.sum('band')\n",
    "                \n",
    "    return ds['coolrg']\n",
    "\n",
    "\n",
    "\n",
    "def nice_xlims(pltdata=None, prange=None):\n",
    "    \n",
    "    def get_slice(srs):\n",
    "        return srs.sel(pressure=slice(*prange))\n",
    "    \n",
    "    srss = [d['srs'] for d in pltdata]\n",
    "    vmin = min([get_slice(srs).min() for srs in srss])\n",
    "    vmax = max([get_slice(srs).max() for srs in srss])\n",
    "    dv = (vmax - vmin) * .01\n",
    "    return float(vmin - dv), float(vmax + dv)\n",
    "\n",
    "\n",
    "    \n",
    "def plt_cool_bokeh(pltdata=None, \n",
    "                   y_axis_type='linear', prange=(50, 1050)):\n",
    "    \n",
    "    ymin = 1e-2 \n",
    "    ymax = 1020\n",
    "    \n",
    "    p2 = figure(y_axis_type=y_axis_type, plot_width=300)\n",
    "    xmin, xmax = nice_xlims(pltdata, prange=prange)\n",
    "    \n",
    "    rs = []\n",
    "    for d in pltdata:\n",
    "        rd = []\n",
    "        if 'marker' in d:\n",
    "            r_mark = getattr(p2, d['marker'])(d['srs'].values, \n",
    "                        d['srs'].coords['pressure'].values,\n",
    "                        color=d['color'], alpha=.7)\n",
    "            rd.append(r_mark)\n",
    "        r_line = p2.line(d['srs'].values, \n",
    "                         d['srs'].coords['pressure'].values,\n",
    "                         color=d['color'], alpha=d['alpha'], \n",
    "                         line_width=d['line_width'], \n",
    "                         line_dash=d['line_dash'])\n",
    "        rd.append(r_line)\n",
    "      \n",
    "        rs.append(rd)\n",
    "        \n",
    "    p2.y_range = Range1d(ymax, ymin)  \n",
    "    p2.yaxis.axis_label = 'pressure [mb]'\n",
    "    \n",
    "    p2.x_range = Range1d(xmin, xmax)\n",
    "    p2.xaxis.axis_label = 'cooling rate [K/day]'\n",
    "    \n",
    "    items = [(d['label'], r) for r, d in zip(rs, pltdata)]\n",
    "    legend = Legend(items=items, location=(10, 0))\n",
    "    legend.label_text_font_size = '8pt'\n",
    "    p2.add_layout(legend, 'above')\n",
    "    p2.legend.orientation = 'horizontal'\n",
    "    p2.legend.location = 'top_center'\n",
    "    \n",
    "    return p2"
   ]
  },
  {
   "cell_type": "code",
   "execution_count": 887,
   "metadata": {
    "collapsed": true
   },
   "outputs": [],
   "source": [
    "def pltdata_cool(atmpro='mls'):\n",
    "    \n",
    "    d_clirad_singlerun = clirad_data_atm(\n",
    "        clirad_params_atm_singlerun(atmpro=atmpro))\n",
    "    d_clirad = clirad_data_atm(clirad_params_atm(atmpro=atmpro))\n",
    "    d_crd = crd_data_atm(lblnew_params_atm(atmpro=atmpro))\n",
    "\n",
    "    ds_clirad_singlerun = d_clirad_singlerun['cool']\n",
    "    ds_clirad = d_clirad['cool']\n",
    "    ds_crd = d_crd['cool']\n",
    "\n",
    "    colors = all_palettes['Set1'][4]\n",
    "    \n",
    "    data = [\n",
    "        {'label': 'CLIRAD (single-run)',\n",
    "        'srs': fmt_cool(ds_clirad_singlerun),\n",
    "        'line_dash': 'dashed', 'line_width': 5,\n",
    "        'color': colors[1], 'alpha': .6},\n",
    "        {'label': 'CRD',\n",
    "         'srs': fmt_cool(ds_crd),\n",
    "         'line_dash': 'solid', 'line_width': 1.5,\n",
    "         'marker': 'circle', 'marker_size': 5,\n",
    "         'color': colors[2], 'alpha': 1}\n",
    "    ]\n",
    "#        {'label': 'CLIRAD',\n",
    "#         'srs': fmt_cool(ds_clirad),\n",
    "#         'line_dash': 'dashed', 'line_width': 5,\n",
    "#         'color': colors[0], 'alpha': .6}\n",
    "        \n",
    "\n",
    "    \n",
    "    # include old CLIRAD's results for mls profile\n",
    "    if atmpro == 'mls':\n",
    "        d_oldclirad = oldclirad_data_atm()\n",
    "        ds_oldclirad = d_oldclirad['cool']        \n",
    "        data.append(\n",
    "            {'label': 'old CLIRAD (H2012)',\n",
    "             'srs': fmt_cool(ds_oldclirad),\n",
    "             'line_dash': 'solid', 'line_width': 1.5,\n",
    "             'marker': 'square', 'marker_size': 3,\n",
    "             'color': colors[3], 'alpha': .5})\n",
    "    return data\n",
    "\n",
    "\n",
    "def pltdata_cooldiff(atmpro='mls'):\n",
    "    \n",
    "    d_clirad_singlerun = clirad_data_atm(\n",
    "        clirad_params_atm_singlerun(atmpro=atmpro))\n",
    "    d_clirad = clirad_data_atm(clirad_params_atm(atmpro=atmpro))\n",
    "    d_crd = crd_data_atm(lblnew_params_atm(atmpro=atmpro))\n",
    "    \n",
    "    ds_clirad_singlerun = d_clirad_singlerun['cool']\n",
    "    ds_clirad = d_clirad['cool']\n",
    "    ds_crd = d_crd['cool']\n",
    "    \n",
    "    ds_diff = ds_clirad_singlerun - ds_crd\n",
    "    \n",
    "    colors = all_palettes['Set1'][4]\n",
    "    \n",
    "    data = [\n",
    "        {'label': 'CLIRAD (single-run) - CRD',\n",
    "         'srs': fmt_cool(ds_diff),\n",
    "         'line_dash': 'solid', 'line_width': 1.5, \n",
    "         'marker': 'circle', 'marker_size': 7,\n",
    "         'color': colors[3], 'alpha': .8}\n",
    "    ]\n",
    "    \n",
    "    # include old CLIRAD's results for mls profile\n",
    "    if atmpro == 'mls':\n",
    "        d_oldclirad = oldclirad_data_atm()\n",
    "        ds_oldclirad = d_oldclirad['cool']\n",
    "        ds_oldclirad.coords['pressure'] = ds_crd.coords['pressure']\n",
    "        ds_diff_old = ds_oldclirad.sum('band') - ds_crd.sum('band')\n",
    "        data.append(\n",
    "            {'label': 'old CLIRAD (H2012) - CRD',\n",
    "             'srs': fmt_cool(ds_diff_old),\n",
    "             'line_dash': 'dashed', 'line_width': 4,\n",
    "             'color': colors[1], 'alpha': .5}\n",
    "        )\n",
    "    return data\n",
    "\n",
    "\n",
    "def show_cool(atmpro='mls'):\n",
    "    \n",
    "    data_cool = pltdata_cool(atmpro=atmpro)\n",
    "    p_cool_liny = plt_cool_bokeh(pltdata=data_cool)\n",
    "    p_cool_logy = plt_cool_bokeh(pltdata=data_cool, \n",
    "                                 y_axis_type='log',\n",
    "                                 prange=(.01, 200))\n",
    "    \n",
    "    data_cooldiff = pltdata_cooldiff(atmpro=atmpro)\n",
    "    p_cooldiff_logy = plt_cool_bokeh(pltdata=data_cooldiff,\n",
    "                                     y_axis_type='log',\n",
    "                                     prange=(.01, 200))\n",
    "    \n",
    "    everything = gridplot(p_cool_liny, p_cool_logy, \n",
    "                          p_cooldiff_logy,\n",
    "                          ncols=3)\n",
    "    show(everything)\n",
    "    display.display(\n",
    "        display.Markdown('*FIGURE.* Cooling rates & difference.'))\n",
    "\n",
    "\n",
    "    "
   ]
  },
  {
   "cell_type": "code",
   "execution_count": null,
   "metadata": {
    "collapsed": true
   },
   "outputs": [],
   "source": []
  },
  {
   "cell_type": "code",
   "execution_count": 888,
   "metadata": {
    "collapsed": true,
    "scrolled": false
   },
   "outputs": [],
   "source": [
    "\n",
    "\n",
    "def hist_band_vs_flux(da, title='Title'):\n",
    "       \n",
    "    bands = [str(b.values) for b in da['band']]\n",
    "\n",
    "    source = ColumnDataSource(\n",
    "        data={'band': bands, 'flux': da.values})\n",
    "\n",
    "    p = figure(x_range=bands, title=title)\n",
    "    p.vbar(source=source, x='band', top='flux', width=.9)\n",
    "\n",
    "    p.yaxis.axis_label = 'flux (W m-2)'\n",
    "    p.xaxis.axis_label = 'spectral band'\n",
    "    \n",
    "    return p\n",
    "\n",
    "\n",
    "def show_hist_flux(atmpro='mls'):\n",
    "    ds_crd = crd_data_atm(lblnew_params_atm(atmpro=atmpro))['flux']\n",
    "    ds_clirad = clirad_data_atm(\n",
    "        clirad_params_atm(atmpro=atmpro))['flux']\n",
    "    ds_clirad_singlerun = clirad_data_atm(\n",
    "        clirad_params_atm_singlerun(atmpro=atmpro))['flux']\n",
    "    \n",
    "    ip, varname = 0, 'flug'\n",
    "    da = (ds_clirad_singlerun - ds_crd).isel(pressure=ip)[varname]\n",
    "    p_toa = hist_band_vs_flux(da, \n",
    "        title='TOA flux. CLIRAD (single-run) - CRD.')\n",
    "\n",
    "    ip, varname = -1, 'fldg'\n",
    "    da = (ds_clirad_singlerun - ds_crd).isel(pressure=ip)[varname]\n",
    "    p_sfc = hist_band_vs_flux(da, \n",
    "        title='SFC flux. CLIRAD (single-run) - CRD.')    \n",
    "    \n",
    "    atm_crd = (ds_crd.isel(pressure=0) \n",
    "               - ds_crd.isel(pressure=-1))['fnetg']\n",
    "    atm_clirad_singlerun = (ds_clirad_singlerun.isel(pressure=0) \n",
    "                  - ds_clirad_singlerun.isel(pressure=-1))['fnetg']\n",
    "    da = atm_clirad_singlerun - atm_crd\n",
    "    p_atm = hist_band_vs_flux(da, \n",
    "        title='Atmosphere heating. CLIRAD (single-run) - CRD.')\n",
    "\n",
    "    everything = gridplot(p_toa, p_sfc, p_atm, ncols=3, \n",
    "                          plot_width=300, plot_height=300)\n",
    "    \n",
    "    show(everything)\n",
    "    display.display(\n",
    "        display.Markdown('*FIGURE.* Difference between CLIRAD and CRD'\n",
    "          ' in TOA, SFC and net atmosphere flux,'\n",
    "          ' in each spectral band.'))\n",
    "\n",
    "\n",
    "    \n",
    "def show_tb_flux(atmpro='mls'):\n",
    "    \n",
    "    def fmt(da_in):\n",
    "        da = da_in.copy(deep=True)\n",
    "        if 'igg' in da.dims:\n",
    "            da = da.sel(igg=1)\n",
    "            \n",
    "        if 'g' in da.dims:\n",
    "            da = da.sum('g')\n",
    "        \n",
    "        if 'band' in da.dims:\n",
    "            try:\n",
    "                da = da.squeeze('band')\n",
    "            except ValueError:\n",
    "                da = da.sum('band')\n",
    "                \n",
    "        return da\n",
    "    \n",
    "    ds_crd = crd_data_atm(lblnew_params_atm(atmpro=atmpro))['flux']\n",
    "    olr_crd = ds_crd['flug'].isel(pressure=0)\n",
    "    sfc_crd = ds_crd['fldg'].isel(pressure=-1)\n",
    "    atm_crd = (ds_crd.isel(pressure=0)\n",
    "               - ds_crd.isel(pressure=-1))['fnetg']\n",
    "    \n",
    "    ds_clirad = clirad_data_atm(\n",
    "        clirad_params_atm(atmpro=atmpro))['flux']\n",
    "    olr_clirad = ds_clirad['flug'].isel(pressure=0)\n",
    "    sfc_clirad = ds_clirad['fldg'].isel(pressure=-1)\n",
    "    atm_clirad = (ds_clirad.isel(pressure=0)\n",
    "                  - ds_clirad.isel(pressure=-1))['fnetg']\n",
    "\n",
    "    ds_clirad_singlerun = clirad_data_atm(\n",
    "        clirad_params_atm_singlerun(atmpro=atmpro))['flux']\n",
    "    olr_clirad_singlerun = ds_clirad_singlerun['flug'].isel(pressure=0)\n",
    "    sfc_clirad_singlerun = ds_clirad_singlerun['fldg'].isel(pressure=-1)\n",
    "    atm_clirad_singlerun = (ds_clirad_singlerun.isel(pressure=0)\n",
    "                  - ds_clirad_singlerun.isel(pressure=-1))['fnetg']\n",
    "    \n",
    "    if atmpro == 'mls':\n",
    "        ds_oldclirad = oldclirad_data_atm()['flux']\n",
    "        ds_oldclirad['pressure'] = ds_crd['pressure']\n",
    "        olr_oldclirad = ds_oldclirad['flug'].isel(pressure=0)\n",
    "        sfc_oldclirad = ds_oldclirad['fldg'].isel(pressure=-1)\n",
    "        atm_oldclirad = (ds_oldclirad.isel(pressure=0)\n",
    "                         - ds_oldclirad.isel(pressure=-1))['fnetg']\n",
    "        \n",
    "    \n",
    "    \n",
    "    df = pd.DataFrame()\n",
    "    df.index.name = 'Sum over bands'\n",
    "    \n",
    "    if atmpro == 'mls':\n",
    "        df.loc['old CLIRAD - CRD', \n",
    "               'OLR flux'] = (fmt(olr_oldclirad)\n",
    "                              - fmt(olr_crd)).values\n",
    "        df.loc['old CLIRAD - CRD', \n",
    "               'SFC flux'] = (fmt(sfc_oldclirad)\n",
    "                              - fmt(sfc_crd)).values\n",
    "        df.loc['old CLIRAD - CRD', \n",
    "               'ATM heating'] = (fmt(atm_oldclirad)\n",
    "                                 - fmt(atm_crd)).values\n",
    "    \n",
    "    df.loc['CLIRAD (single-run) - CRD', \n",
    "           'OLR flux'] = (fmt(olr_clirad_singlerun) \n",
    "                          - fmt(olr_crd)).values\n",
    "    df.loc['CLIRAD (single-run) - CRD', \n",
    "           'SFC flux'] = (fmt(sfc_clirad_singlerun) \n",
    "                          - fmt(sfc_crd)).values\n",
    "    df.loc['CLIRAD (single-run) - CRD', \n",
    "           'ATM heating'] = (fmt(atm_clirad_singlerun) \n",
    "                             - fmt(atm_crd)).values\n",
    "\n",
    "    df.loc['CRD', 'OLR flux'] = fmt(olr_crd).values\n",
    "    df.loc['CRD', 'SFC flux'] = fmt(sfc_crd).values\n",
    "    df.loc['CRD', 'ATM heating'] = fmt(atm_crd).values\n",
    "        \n",
    "    df = df.astype('float').round(2)\n",
    "    \n",
    "    display.display(df)\n",
    "    display.display(\n",
    "        display.Markdown('*TABLE.* Difference between CLIRAD and CRD'\n",
    "          ' in TOA, SFC and net atmosphere flux,'\n",
    "          ' over all spectral bands. CRD\\'s'\n",
    "          ' TOA, SFC and net atmosphere flux,'\n",
    "          ' over all spectral bands.'))\n"
   ]
  },
  {
   "cell_type": "code",
   "execution_count": 889,
   "metadata": {
    "scrolled": false
   },
   "outputs": [
    {
     "data": {
      "text/markdown": [
       "## Results over entire range of molecules and spectral bands"
      ],
      "text/plain": [
       "<IPython.core.display.Markdown object>"
      ]
     },
     "metadata": {},
     "output_type": "display_data"
    },
    {
     "data": {
      "text/markdown": [
       "### Table of Contents"
      ],
      "text/plain": [
       "<IPython.core.display.Markdown object>"
      ]
     },
     "metadata": {},
     "output_type": "display_data"
    },
    {
     "data": {
      "text/html": [
       "<a href=\"#Makeup_of_atmosphere.\">Makeup of atmosphere.</a>"
      ],
      "text/plain": [
       "<IPython.core.display.HTML object>"
      ]
     },
     "metadata": {},
     "output_type": "display_data"
    },
    {
     "data": {
      "text/markdown": [
       "**mid-latitude summer**"
      ],
      "text/plain": [
       "<IPython.core.display.Markdown object>"
      ]
     },
     "metadata": {},
     "output_type": "display_data"
    },
    {
     "data": {
      "text/html": [
       "<a href=\"#Cooling_rates._mls.\">Cooling rates. mls.</a>"
      ],
      "text/plain": [
       "<IPython.core.display.HTML object>"
      ]
     },
     "metadata": {},
     "output_type": "display_data"
    },
    {
     "data": {
      "text/html": [
       "<a href=\"#Fluxes._mls.\">Fluxes. mls.</a>"
      ],
      "text/plain": [
       "<IPython.core.display.HTML object>"
      ]
     },
     "metadata": {},
     "output_type": "display_data"
    },
    {
     "data": {
      "text/markdown": [
       "**sub-arctic winter**"
      ],
      "text/plain": [
       "<IPython.core.display.Markdown object>"
      ]
     },
     "metadata": {},
     "output_type": "display_data"
    },
    {
     "data": {
      "text/html": [
       "<a href=\"#Cooling_rates._saw.\">Cooling rates. saw.</a>"
      ],
      "text/plain": [
       "<IPython.core.display.HTML object>"
      ]
     },
     "metadata": {},
     "output_type": "display_data"
    },
    {
     "data": {
      "text/html": [
       "<a href=\"#Fluxes._saw.\">Fluxes. saw.</a>"
      ],
      "text/plain": [
       "<IPython.core.display.HTML object>"
      ]
     },
     "metadata": {},
     "output_type": "display_data"
    },
    {
     "data": {
      "text/markdown": [
       "**tropical**"
      ],
      "text/plain": [
       "<IPython.core.display.Markdown object>"
      ]
     },
     "metadata": {},
     "output_type": "display_data"
    },
    {
     "data": {
      "text/html": [
       "<a href=\"#Cooling_rates._trp.\">Cooling rates. trp.</a>"
      ],
      "text/plain": [
       "<IPython.core.display.HTML object>"
      ]
     },
     "metadata": {},
     "output_type": "display_data"
    },
    {
     "data": {
      "text/html": [
       "<a href=\"#Fluxes._trp.\">Fluxes. trp.</a>"
      ],
      "text/plain": [
       "<IPython.core.display.HTML object>"
      ]
     },
     "metadata": {},
     "output_type": "display_data"
    },
    {
     "data": {
      "text/html": [
       "<a id=\"Makeup_of_atmosphere.\"></a>"
      ],
      "text/plain": [
       "<IPython.core.display.HTML object>"
      ]
     },
     "metadata": {},
     "output_type": "display_data"
    },
    {
     "data": {
      "text/markdown": [
       "# Makeup of atmosphere."
      ],
      "text/plain": [
       "<IPython.core.display.Markdown object>"
      ]
     },
     "metadata": {},
     "output_type": "display_data"
    },
    {
     "data": {
      "text/html": [
       "<div>\n",
       "<style scoped>\n",
       "    .dataframe tbody tr th:only-of-type {\n",
       "        vertical-align: middle;\n",
       "    }\n",
       "\n",
       "    .dataframe tbody tr th {\n",
       "        vertical-align: top;\n",
       "    }\n",
       "\n",
       "    .dataframe thead th {\n",
       "        text-align: right;\n",
       "    }\n",
       "</style>\n",
       "<table border=\"1\" class=\"dataframe\">\n",
       "  <thead>\n",
       "    <tr style=\"text-align: right;\">\n",
       "      <th>clirad band</th>\n",
       "      <th>1</th>\n",
       "      <th>2</th>\n",
       "      <th>3</th>\n",
       "      <th>4</th>\n",
       "      <th>5</th>\n",
       "      <th>6</th>\n",
       "      <th>7</th>\n",
       "      <th>8</th>\n",
       "      <th>9</th>\n",
       "      <th>10</th>\n",
       "      <th>11</th>\n",
       "    </tr>\n",
       "    <tr>\n",
       "      <th>molecule</th>\n",
       "      <th></th>\n",
       "      <th></th>\n",
       "      <th></th>\n",
       "      <th></th>\n",
       "      <th></th>\n",
       "      <th></th>\n",
       "      <th></th>\n",
       "      <th></th>\n",
       "      <th></th>\n",
       "      <th></th>\n",
       "      <th></th>\n",
       "    </tr>\n",
       "  </thead>\n",
       "  <tbody>\n",
       "    <tr>\n",
       "      <th>h2o</th>\n",
       "      <td>atmpro</td>\n",
       "      <td>atmpro</td>\n",
       "      <td>atmpro</td>\n",
       "      <td>atmpro</td>\n",
       "      <td>atmpro</td>\n",
       "      <td>atmpro</td>\n",
       "      <td>atmpro</td>\n",
       "      <td>atmpro</td>\n",
       "      <td>atmpro</td>\n",
       "      <td>atmpro</td>\n",
       "      <td>atmpro</td>\n",
       "    </tr>\n",
       "    <tr>\n",
       "      <th>co2</th>\n",
       "      <td>0</td>\n",
       "      <td>0</td>\n",
       "      <td>0.0004</td>\n",
       "      <td>0.0004</td>\n",
       "      <td>0.0004</td>\n",
       "      <td>0.0004</td>\n",
       "      <td>0.0004</td>\n",
       "      <td>0</td>\n",
       "      <td>0</td>\n",
       "      <td>0</td>\n",
       "      <td>0.0004</td>\n",
       "    </tr>\n",
       "    <tr>\n",
       "      <th>n2o</th>\n",
       "      <td>0</td>\n",
       "      <td>0</td>\n",
       "      <td>3.2e-07</td>\n",
       "      <td>0</td>\n",
       "      <td>0</td>\n",
       "      <td>0</td>\n",
       "      <td>0</td>\n",
       "      <td>0</td>\n",
       "      <td>3.2e-07</td>\n",
       "      <td>0</td>\n",
       "      <td>0</td>\n",
       "    </tr>\n",
       "    <tr>\n",
       "      <th>o3</th>\n",
       "      <td>0</td>\n",
       "      <td>0</td>\n",
       "      <td>0</td>\n",
       "      <td>0</td>\n",
       "      <td>0</td>\n",
       "      <td>0</td>\n",
       "      <td>atmpro</td>\n",
       "      <td>0</td>\n",
       "      <td>0</td>\n",
       "      <td>0</td>\n",
       "      <td>0</td>\n",
       "    </tr>\n",
       "    <tr>\n",
       "      <th>ch4</th>\n",
       "      <td>0</td>\n",
       "      <td>0</td>\n",
       "      <td>0</td>\n",
       "      <td>0</td>\n",
       "      <td>0</td>\n",
       "      <td>0</td>\n",
       "      <td>0</td>\n",
       "      <td>0</td>\n",
       "      <td>1.8e-06</td>\n",
       "      <td>0</td>\n",
       "      <td>0</td>\n",
       "    </tr>\n",
       "  </tbody>\n",
       "</table>\n",
       "</div>"
      ],
      "text/plain": [
       "clirad band      1       2        3       4       5       6       7       8   \\\n",
       "molecule                                                                       \n",
       "h2o          atmpro  atmpro   atmpro  atmpro  atmpro  atmpro  atmpro  atmpro   \n",
       "co2               0       0   0.0004  0.0004  0.0004  0.0004  0.0004       0   \n",
       "n2o               0       0  3.2e-07       0       0       0       0       0   \n",
       "o3                0       0        0       0       0       0  atmpro       0   \n",
       "ch4               0       0        0       0       0       0       0       0   \n",
       "\n",
       "clirad band       9       10      11  \n",
       "molecule                              \n",
       "h2o           atmpro  atmpro  atmpro  \n",
       "co2                0       0  0.0004  \n",
       "n2o          3.2e-07       0       0  \n",
       "o3                 0       0       0  \n",
       "ch4          1.8e-06       0       0  "
      ]
     },
     "metadata": {},
     "output_type": "display_data"
    },
    {
     "data": {
      "text/markdown": [
       "*TABLE.* Non-grey absorbers in the atmosphere."
      ],
      "text/plain": [
       "<IPython.core.display.Markdown object>"
      ]
     },
     "metadata": {},
     "output_type": "display_data"
    },
    {
     "data": {
      "text/html": [
       "<div>\n",
       "<style scoped>\n",
       "    .dataframe tbody tr th:only-of-type {\n",
       "        vertical-align: middle;\n",
       "    }\n",
       "\n",
       "    .dataframe tbody tr th {\n",
       "        vertical-align: top;\n",
       "    }\n",
       "\n",
       "    .dataframe thead th {\n",
       "        text-align: right;\n",
       "    }\n",
       "</style>\n",
       "<table border=\"1\" class=\"dataframe\">\n",
       "  <thead>\n",
       "    <tr style=\"text-align: right;\">\n",
       "      <th>clirad band</th>\n",
       "      <th>1</th>\n",
       "      <th>2</th>\n",
       "      <th>3</th>\n",
       "      <th>4</th>\n",
       "      <th>5</th>\n",
       "      <th>6</th>\n",
       "      <th>7</th>\n",
       "      <th>8</th>\n",
       "      <th>9</th>\n",
       "    </tr>\n",
       "    <tr>\n",
       "      <th>absorber</th>\n",
       "      <th></th>\n",
       "      <th></th>\n",
       "      <th></th>\n",
       "      <th></th>\n",
       "      <th></th>\n",
       "      <th></th>\n",
       "      <th></th>\n",
       "      <th></th>\n",
       "      <th></th>\n",
       "    </tr>\n",
       "  </thead>\n",
       "  <tbody>\n",
       "    <tr>\n",
       "      <th>con</th>\n",
       "      <td>atmpro</td>\n",
       "      <td>atmpro</td>\n",
       "      <td>atmpro</td>\n",
       "      <td>atmpro</td>\n",
       "      <td>atmpro</td>\n",
       "      <td>atmpro</td>\n",
       "      <td>atmpro</td>\n",
       "      <td>atmpro</td>\n",
       "      <td>atmpro</td>\n",
       "    </tr>\n",
       "    <tr>\n",
       "      <th>n2o</th>\n",
       "      <td>0</td>\n",
       "      <td>0</td>\n",
       "      <td>0</td>\n",
       "      <td>0</td>\n",
       "      <td>0</td>\n",
       "      <td>0</td>\n",
       "      <td>0</td>\n",
       "      <td>3.2e-07</td>\n",
       "      <td>0</td>\n",
       "    </tr>\n",
       "  </tbody>\n",
       "</table>\n",
       "</div>"
      ],
      "text/plain": [
       "clirad band       1       2       3       4       5       6       7        8  \\\n",
       "absorber                                                                       \n",
       "con          atmpro  atmpro  atmpro  atmpro  atmpro  atmpro  atmpro   atmpro   \n",
       "n2o               0       0       0       0       0       0       0  3.2e-07   \n",
       "\n",
       "clirad band       9  \n",
       "absorber             \n",
       "con          atmpro  \n",
       "n2o               0  "
      ]
     },
     "metadata": {},
     "output_type": "display_data"
    },
    {
     "data": {
      "text/markdown": [
       "*TABLE.* Grey absorbers in the atmosphere."
      ],
      "text/plain": [
       "<IPython.core.display.Markdown object>"
      ]
     },
     "metadata": {},
     "output_type": "display_data"
    },
    {
     "data": {
      "text/html": [
       "<a id=\"Cooling_rates._mls.\"></a>"
      ],
      "text/plain": [
       "<IPython.core.display.HTML object>"
      ]
     },
     "metadata": {},
     "output_type": "display_data"
    },
    {
     "data": {
      "text/markdown": [
       "# Cooling rates. mls."
      ],
      "text/plain": [
       "<IPython.core.display.Markdown object>"
      ]
     },
     "metadata": {},
     "output_type": "display_data"
    },
    {
     "data": {
      "text/html": [
       "\n",
       "<div class=\"bk-root\">\n",
       "    <div class=\"bk-plotdiv\" id=\"34a434e0-c735-4bba-b4a4-adddfc8c9a41\"></div>\n",
       "</div>"
      ]
     },
     "metadata": {},
     "output_type": "display_data"
    },
    {
     "data": {
      "application/javascript": [
       "(function(root) {\n",
       "  function embed_document(root) {\n",
       "    \n",
       "  var docs_json = {\"1c1eefab-a580-4e50-8446-53a60f49a66e\":{\"roots\":{\"references\":[{\"attributes\":{\"data_source\":{\"id\":\"bd689250-595d-4f00-91b7-2b3babc29db2\",\"type\":\"ColumnDataSource\"},\"glyph\":{\"id\":\"2733ba4c-510f-423a-b832-290c95b2dc1d\",\"type\":\"Line\"},\"hover_glyph\":null,\"muted_glyph\":null,\"nonselection_glyph\":{\"id\":\"19d9c8a6-09b4-472f-8bd5-8bfa10851590\",\"type\":\"Line\"},\"selection_glyph\":null,\"view\":{\"id\":\"eda62acc-a8f9-4c8f-9d8a-f20df1ed5d94\",\"type\":\"CDSView\"}},\"id\":\"f6369133-86bb-451f-9503-275e5bb99169\",\"type\":\"GlyphRenderer\"},{\"attributes\":{\"source\":{\"id\":\"86bdc24a-a47c-4048-8853-73c196d67ac5\",\"type\":\"ColumnDataSource\"}},\"id\":\"6697474f-c015-4eec-9092-aca1970dfda0\",\"type\":\"CDSView\"},{\"attributes\":{\"line_alpha\":0.1,\"line_color\":\"#1f77b4\",\"line_width\":1.5,\"x\":{\"field\":\"x\"},\"y\":{\"field\":\"y\"}},\"id\":\"4712da94-7dfd-47ee-8149-098ac1933451\",\"type\":\"Line\"},{\"attributes\":{\"fill_alpha\":{\"value\":0.1},\"fill_color\":{\"value\":\"#1f77b4\"},\"line_alpha\":{\"value\":0.1},\"line_color\":{\"value\":\"#1f77b4\"},\"x\":{\"field\":\"x\"},\"y\":{\"field\":\"y\"}},\"id\":\"d0fcee35-389b-4aec-99a5-7ad5e36afa25\",\"type\":\"Circle\"},{\"attributes\":{},\"id\":\"be8602dd-621f-4dc4-aca9-085c8189624a\",\"type\":\"LinearScale\"},{\"attributes\":{\"fill_alpha\":{\"value\":0.7},\"fill_color\":{\"value\":\"#984ea3\"},\"line_alpha\":{\"value\":0.7},\"line_color\":{\"value\":\"#984ea3\"},\"x\":{\"field\":\"x\"},\"y\":{\"field\":\"y\"}},\"id\":\"309f1d5d-aadf-438f-b79d-eeae92ae213d\",\"type\":\"Square\"},{\"attributes\":{\"line_alpha\":0.1,\"line_color\":\"#1f77b4\",\"line_dash\":[6],\"line_width\":5,\"x\":{\"field\":\"x\"},\"y\":{\"field\":\"y\"}},\"id\":\"53c8deac-c551-4930-ae5a-2cbae40bc312\",\"type\":\"Line\"},{\"attributes\":{},\"id\":\"75778c73-0661-4c7a-97a2-eaea13c42af4\",\"type\":\"PanTool\"},{\"attributes\":{},\"id\":\"0cd493cb-83a4-4131-8093-0be075b5c80c\",\"type\":\"BasicTicker\"},{\"attributes\":{\"source\":{\"id\":\"d8c6a932-f843-498b-ba12-658938bdbb86\",\"type\":\"ColumnDataSource\"}},\"id\":\"4f4097f2-9ad5-44fc-bb72-7fd738ccddc6\",\"type\":\"CDSView\"},{\"attributes\":{\"callback\":null,\"data\":{\"x\":{\"__ndarray__\":\"zhhdnl3RU0CKgDdE+dxEQP6f5duhdUFAMJBr6ewEQkAADxZQyK45QBmX3ka8EDZAjl8alnlwL0CeYJlYHKIqQJoaoQNWxSJAwL4t7BozIUBMkS56I6AXQBxPe4ld/BRAnMjiKz2HCkCJCgdQ/WcBQKJTvluRvOg/j/JpYJwB9j+fcxKIKREEQOwUvOtLFw1AV0At7oRoEkD5lECKxjYXQAdydNQ0jR1ACbyvRZLfI0CO3MmPRGApQCcUNq4qNylA6VN9h30SJECRnP+HbGofQDQKaukXmhlAteFC/mL9E0CTDffT91MQQEkVAKh1YwtAqFesCIQRBkATatBMXLz/P4fvYPUXo/Y/tDrQnFTK8T/fneFQ7xLnP14aDQuCJtc/5BrOx2LRzT+fE4V0bnvHP3ueIXamhrA/cWaxNtALrr92uqPyMJK3P6q5+U821+g/ckrZjXL49z/TaxRJZAUAQPzVLij27QFAige8XqaCAEAv4Q7keaX+P0VyKG35kv0/XHVqXZRQ/T/+RskYEAv9PwKD1IjB3fw/JBko3yJ2/D//mRCM5iX7P/btQHcr5vo/xTCcdQr9+j+f/V+tjrf6P0Wt2HvLrvo/9IV/x6br+z/bYX40veD8P8+HZwkyUvw/CkxgoI8l/D8QA+bsYB78P2eu9w7DDvw/khNJm3qS+j8vZ0xHVJ75Py0d1shscPk/NKgVKiiK+T/NNtzstIr5P4ps72zyaPc/TlSpuPUj9j9S2qZu6gj1P2XVmdu6VPQ/t/WgjjEZ9D+np734CoH0P1P4Q57qwfo/\",\"dtype\":\"float64\",\"shape\":[75]},\"y\":{\"__ndarray__\":\"hLndy31yND/6fmq8dJNIP8n9DkWBPlE/aDum7souWD/b4a/JGvVgP9f34SAhymc/ZvM4DOavcD+z0M5pFmh3PxuC4zJuaoA/xjcUPlsHhz8uHAjJAiaQP9ieWRKgppY/oI7HDFTGnz+a5h2n6EimPzS6g9iZQq8/IuAQqtTstT9SSZ2AJsK+P4nS3uALk8U/ih9j7lpCzj+ASL99HTjVP4enV8oyxN0/ACL99nXg5D9fmEwVjErtPyUGgZVDi/Q/AiuHFtnO/D9OYhBYOTQEQPHSTWIQWAxA4XoUrkfhE0D8qfHSTeIbQMh2vp8ajyNArkfhehRuK0Bcj8L1KDwzQFyPwvUo/DpAPgrXo3DtQkDNzMzMzIxKQClcj8L1eFJAKVyPwvVoWECamZmZmVleQGZmZmZmJmJAAAAAAAAgZUCamZmZmRloQJqZmZmZEWtAmpmZmZkJbkCamZmZmYFwQGZmZmZm/nFAZmZmZmZ6c0BmZmZmZvZ0QDQzMzMzc3ZAAAAAAADwd0AAAAAAAGx5QAAAAAAA6HpAzMzMzMxkfEDMzMzMzOB9QM3MzMzMXH9AzczMzMxsgEAzMzMzMyuBQDMzMzMz6YFAMzMzMzOngkCamZmZmWWDQAAAAAAAJIRAAAAAAADihEAAAAAAAKCFQGZmZmZmXoZAzczMzMwch0DNzMzMzNqHQM3MzMzMmIhAMzMzMzNXiUCamZmZmRWKQAAAAAAA1IpAAAAAAACSi0AAAAAAAFCMQGZmZmZmDo1AzczMzMzMjUDNzMzMzIqOQM3MzMzMSI9A\",\"dtype\":\"float64\",\"shape\":[75]}},\"selected\":{\"id\":\"6e27a65f-aa3a-492e-833b-e3d0af67c9fb\",\"type\":\"Selection\"},\"selection_policy\":{\"id\":\"fa0ca37a-423d-4a6a-a658-f0ad58485cd8\",\"type\":\"UnionRenderers\"}},\"id\":\"a730348e-2d80-49cc-b018-d61482227fc9\",\"type\":\"ColumnDataSource\"},{\"attributes\":{\"callback\":null,\"data\":{\"x\":{\"__ndarray__\":\"zhhdnl3RU0CKgDdE+dxEQP6f5duhdUFAMJBr6ewEQkAADxZQyK45QBmX3ka8EDZAjl8alnlwL0CeYJlYHKIqQJoaoQNWxSJAwL4t7BozIUBMkS56I6AXQBxPe4ld/BRAnMjiKz2HCkCJCgdQ/WcBQKJTvluRvOg/j/JpYJwB9j+fcxKIKREEQOwUvOtLFw1AV0At7oRoEkD5lECKxjYXQAdydNQ0jR1ACbyvRZLfI0CO3MmPRGApQCcUNq4qNylA6VN9h30SJECRnP+HbGofQDQKaukXmhlAteFC/mL9E0CTDffT91MQQEkVAKh1YwtAqFesCIQRBkATatBMXLz/P4fvYPUXo/Y/tDrQnFTK8T/fneFQ7xLnP14aDQuCJtc/5BrOx2LRzT+fE4V0bnvHP3ueIXamhrA/cWaxNtALrr92uqPyMJK3P6q5+U821+g/ckrZjXL49z/TaxRJZAUAQPzVLij27QFAige8XqaCAEAv4Q7keaX+P0VyKG35kv0/XHVqXZRQ/T/+RskYEAv9PwKD1IjB3fw/JBko3yJ2/D//mRCM5iX7P/btQHcr5vo/xTCcdQr9+j+f/V+tjrf6P0Wt2HvLrvo/9IV/x6br+z/bYX40veD8P8+HZwkyUvw/CkxgoI8l/D8QA+bsYB78P2eu9w7DDvw/khNJm3qS+j8vZ0xHVJ75Py0d1shscPk/NKgVKiiK+T/NNtzstIr5P4ps72zyaPc/TlSpuPUj9j9S2qZu6gj1P2XVmdu6VPQ/t/WgjjEZ9D+np734CoH0P1P4Q57qwfo/\",\"dtype\":\"float64\",\"shape\":[75]},\"y\":{\"__ndarray__\":\"hLndy31yND/6fmq8dJNIP8n9DkWBPlE/aDum7souWD/b4a/JGvVgP9f34SAhymc/ZvM4DOavcD+z0M5pFmh3PxuC4zJuaoA/xjcUPlsHhz8uHAjJAiaQP9ieWRKgppY/oI7HDFTGnz+a5h2n6EimPzS6g9iZQq8/IuAQqtTstT9SSZ2AJsK+P4nS3uALk8U/ih9j7lpCzj+ASL99HTjVP4enV8oyxN0/ACL99nXg5D9fmEwVjErtPyUGgZVDi/Q/AiuHFtnO/D9OYhBYOTQEQPHSTWIQWAxA4XoUrkfhE0D8qfHSTeIbQMh2vp8ajyNArkfhehRuK0Bcj8L1KDwzQFyPwvUo/DpAPgrXo3DtQkDNzMzMzIxKQClcj8L1eFJAKVyPwvVoWECamZmZmVleQGZmZmZmJmJAAAAAAAAgZUCamZmZmRloQJqZmZmZEWtAmpmZmZkJbkCamZmZmYFwQGZmZmZm/nFAZmZmZmZ6c0BmZmZmZvZ0QDQzMzMzc3ZAAAAAAADwd0AAAAAAAGx5QAAAAAAA6HpAzMzMzMxkfEDMzMzMzOB9QM3MzMzMXH9AzczMzMxsgEAzMzMzMyuBQDMzMzMz6YFAMzMzMzOngkCamZmZmWWDQAAAAAAAJIRAAAAAAADihEAAAAAAAKCFQGZmZmZmXoZAzczMzMwch0DNzMzMzNqHQM3MzMzMmIhAMzMzMzNXiUCamZmZmRWKQAAAAAAA1IpAAAAAAACSi0AAAAAAAFCMQGZmZmZmDo1AzczMzMzMjUDNzMzMzIqOQM3MzMzMSI9A\",\"dtype\":\"float64\",\"shape\":[75]}},\"selected\":{\"id\":\"b9e5f2f9-b1d0-4440-8f0c-3281ec7272e1\",\"type\":\"Selection\"},\"selection_policy\":{\"id\":\"53a9931e-bb9a-480b-adab-92faa7c16177\",\"type\":\"UnionRenderers\"}},\"id\":\"19a9c90a-9703-4249-a855-040f786fae89\",\"type\":\"ColumnDataSource\"},{\"attributes\":{\"data_source\":{\"id\":\"8c9f3417-d686-4465-9ba0-9e34454a6cd7\",\"type\":\"ColumnDataSource\"},\"glyph\":{\"id\":\"2a19d89d-e821-45bc-a140-1f5856d91f78\",\"type\":\"Line\"},\"hover_glyph\":null,\"muted_glyph\":null,\"nonselection_glyph\":{\"id\":\"53c8deac-c551-4930-ae5a-2cbae40bc312\",\"type\":\"Line\"},\"selection_glyph\":null,\"view\":{\"id\":\"b29e51c1-6e91-401d-a967-06608d8f0555\",\"type\":\"CDSView\"}},\"id\":\"6db81349-4542-4500-a7a6-d3c61e052951\",\"type\":\"GlyphRenderer\"},{\"attributes\":{\"callback\":null,\"data\":{\"x\":{\"__ndarray__\":\"zhhdnl3RU0CKgDdE+dxEQP6f5duhdUFAMJBr6ewEQkAADxZQyK45QBmX3ka8EDZAjl8alnlwL0CeYJlYHKIqQJoaoQNWxSJAwL4t7BozIUBMkS56I6AXQBxPe4ld/BRAnMjiKz2HCkCJCgdQ/WcBQKJTvluRvOg/j/JpYJwB9j+fcxKIKREEQOwUvOtLFw1AV0At7oRoEkD5lECKxjYXQAdydNQ0jR1ACbyvRZLfI0CO3MmPRGApQCcUNq4qNylA6VN9h30SJECRnP+HbGofQDQKaukXmhlAteFC/mL9E0CTDffT91MQQEkVAKh1YwtAqFesCIQRBkATatBMXLz/P4fvYPUXo/Y/tDrQnFTK8T/fneFQ7xLnP14aDQuCJtc/5BrOx2LRzT+fE4V0bnvHP3ueIXamhrA/cWaxNtALrr92uqPyMJK3P6q5+U821+g/ckrZjXL49z/TaxRJZAUAQPzVLij27QFAige8XqaCAEAv4Q7keaX+P0VyKG35kv0/XHVqXZRQ/T/+RskYEAv9PwKD1IjB3fw/JBko3yJ2/D//mRCM5iX7P/btQHcr5vo/xTCcdQr9+j+f/V+tjrf6P0Wt2HvLrvo/9IV/x6br+z/bYX40veD8P8+HZwkyUvw/CkxgoI8l/D8QA+bsYB78P2eu9w7DDvw/khNJm3qS+j8vZ0xHVJ75Py0d1shscPk/NKgVKiiK+T/NNtzstIr5P4ps72zyaPc/TlSpuPUj9j9S2qZu6gj1P2XVmdu6VPQ/t/WgjjEZ9D+np734CoH0P1P4Q57qwfo/\",\"dtype\":\"float64\",\"shape\":[75]},\"y\":{\"__ndarray__\":\"hLndy31yND/6fmq8dJNIP8n9DkWBPlE/aDum7souWD/b4a/JGvVgP9f34SAhymc/ZvM4DOavcD+z0M5pFmh3PxuC4zJuaoA/xjcUPlsHhz8uHAjJAiaQP9ieWRKgppY/oI7HDFTGnz+a5h2n6EimPzS6g9iZQq8/IuAQqtTstT9SSZ2AJsK+P4nS3uALk8U/ih9j7lpCzj+ASL99HTjVP4enV8oyxN0/ACL99nXg5D9fmEwVjErtPyUGgZVDi/Q/AiuHFtnO/D9OYhBYOTQEQPHSTWIQWAxA4XoUrkfhE0D8qfHSTeIbQMh2vp8ajyNArkfhehRuK0Bcj8L1KDwzQFyPwvUo/DpAPgrXo3DtQkDNzMzMzIxKQClcj8L1eFJAKVyPwvVoWECamZmZmVleQGZmZmZmJmJAAAAAAAAgZUCamZmZmRloQJqZmZmZEWtAmpmZmZkJbkCamZmZmYFwQGZmZmZm/nFAZmZmZmZ6c0BmZmZmZvZ0QDQzMzMzc3ZAAAAAAADwd0AAAAAAAGx5QAAAAAAA6HpAzMzMzMxkfEDMzMzMzOB9QM3MzMzMXH9AzczMzMxsgEAzMzMzMyuBQDMzMzMz6YFAMzMzMzOngkCamZmZmWWDQAAAAAAAJIRAAAAAAADihEAAAAAAAKCFQGZmZmZmXoZAzczMzMwch0DNzMzMzNqHQM3MzMzMmIhAMzMzMzNXiUCamZmZmRWKQAAAAAAA1IpAAAAAAACSi0AAAAAAAFCMQGZmZmZmDo1AzczMzMzMjUDNzMzMzIqOQM3MzMzMSI9A\",\"dtype\":\"float64\",\"shape\":[75]}},\"selected\":{\"id\":\"9f0b00ee-2a10-4834-b462-c5145e18ad59\",\"type\":\"Selection\"},\"selection_policy\":{\"id\":\"04f09930-c083-4b20-98b5-69b5a228acb5\",\"type\":\"UnionRenderers\"}},\"id\":\"86bdc24a-a47c-4048-8853-73c196d67ac5\",\"type\":\"ColumnDataSource\"},{\"attributes\":{},\"id\":\"a2c3862d-d2ee-4e1c-a9b6-4892c43966bc\",\"type\":\"BasicTickFormatter\"},{\"attributes\":{},\"id\":\"16ed0a28-ff0a-41f2-8f3d-aa2c7117d0eb\",\"type\":\"UnionRenderers\"},{\"attributes\":{},\"id\":\"fe7ef73a-a2ff-4dc3-9f1d-ebffa12783b1\",\"type\":\"LinearScale\"},{\"attributes\":{\"num_minor_ticks\":10},\"id\":\"720764cc-5d4e-4fc4-a2d5-b57b6195689e\",\"type\":\"LogTicker\"},{\"attributes\":{\"above\":[{\"id\":\"b11ff6ff-c95a-4a6e-9c87-1aeb87965ae2\",\"type\":\"Legend\"}],\"below\":[{\"id\":\"4ea991c5-0445-4057-897b-14934708a68d\",\"type\":\"LinearAxis\"}],\"left\":[{\"id\":\"3dd8395b-ad09-487c-8515-3684fe450797\",\"type\":\"LogAxis\"}],\"plot_width\":300,\"renderers\":[{\"id\":\"4ea991c5-0445-4057-897b-14934708a68d\",\"type\":\"LinearAxis\"},{\"id\":\"a247352f-eaf8-4b9e-85ca-6f9a45e9118d\",\"type\":\"Grid\"},{\"id\":\"3dd8395b-ad09-487c-8515-3684fe450797\",\"type\":\"LogAxis\"},{\"id\":\"222a962b-056b-4198-a223-ae527797b0a6\",\"type\":\"Grid\"},{\"id\":\"341fd2ac-bd0b-4d9f-8ce7-0950e7049f01\",\"type\":\"BoxAnnotation\"},{\"id\":\"5e6ccf45-2d46-4f94-89d8-f968da903441\",\"type\":\"GlyphRenderer\"},{\"id\":\"9a3747d0-6150-4f8c-a6ae-166a96e77304\",\"type\":\"GlyphRenderer\"},{\"id\":\"db5d4bb4-f07a-42c3-95d5-37b3887f88f7\",\"type\":\"GlyphRenderer\"},{\"id\":\"b11ff6ff-c95a-4a6e-9c87-1aeb87965ae2\",\"type\":\"Legend\"}],\"title\":{\"id\":\"2e7ea0fb-9850-4594-9451-b481d54329b0\",\"type\":\"Title\"},\"toolbar\":{\"id\":\"5e4e77e5-6096-45bd-9fd3-945036869c74\",\"type\":\"Toolbar\"},\"toolbar_location\":null,\"x_range\":{\"id\":\"efdd1e2e-d51f-4d19-845d-7ef80c2f1acc\",\"type\":\"Range1d\"},\"x_scale\":{\"id\":\"461ae7cd-851e-40fe-9e28-442df442720d\",\"type\":\"LinearScale\"},\"y_range\":{\"id\":\"0ea1a951-d413-4821-810c-e4c21d8c924c\",\"type\":\"Range1d\"},\"y_scale\":{\"id\":\"621bed5a-90eb-4139-9357-a06413d9cf58\",\"type\":\"LogScale\"}},\"id\":\"4092a4ef-f3c3-4475-bddc-fa51d9ff8c82\",\"subtype\":\"Figure\",\"type\":\"Plot\"},{\"attributes\":{},\"id\":\"15d4c748-7dac-45cc-ad89-4805c93193bc\",\"type\":\"UnionRenderers\"},{\"attributes\":{\"data_source\":{\"id\":\"5d6967d2-f3ba-4b20-a889-591d3ee980a5\",\"type\":\"ColumnDataSource\"},\"glyph\":{\"id\":\"e050e174-4254-4d6a-80eb-393e294d9574\",\"type\":\"Circle\"},\"hover_glyph\":null,\"muted_glyph\":null,\"nonselection_glyph\":{\"id\":\"d0fcee35-389b-4aec-99a5-7ad5e36afa25\",\"type\":\"Circle\"},\"selection_glyph\":null,\"view\":{\"id\":\"d9e91d86-d6e6-482b-8e74-7856a4c43ff6\",\"type\":\"CDSView\"}},\"id\":\"f4bb3b30-d272-47f3-bb63-d33bd4dcccb9\",\"type\":\"GlyphRenderer\"},{\"attributes\":{\"data_source\":{\"id\":\"a730348e-2d80-49cc-b018-d61482227fc9\",\"type\":\"ColumnDataSource\"},\"glyph\":{\"id\":\"963ff725-9109-4217-94ea-35745bcf9be7\",\"type\":\"Square\"},\"hover_glyph\":null,\"muted_glyph\":null,\"nonselection_glyph\":{\"id\":\"754335cc-52cf-40a3-8872-460142dce259\",\"type\":\"Square\"},\"selection_glyph\":null,\"view\":{\"id\":\"06baa48a-3989-4052-9551-d46a7b962b4e\",\"type\":\"CDSView\"}},\"id\":\"0ebf0dd5-4698-4301-b88b-f183960b2f0e\",\"type\":\"GlyphRenderer\"},{\"attributes\":{\"callback\":null,\"end\":0.01,\"start\":1020},\"id\":\"8fccd3d6-4079-4b8b-b0cc-2371bae67a91\",\"type\":\"Range1d\"},{\"attributes\":{\"fill_alpha\":{\"value\":0.7},\"fill_color\":{\"value\":\"#984ea3\"},\"line_alpha\":{\"value\":0.7},\"line_color\":{\"value\":\"#984ea3\"},\"x\":{\"field\":\"x\"},\"y\":{\"field\":\"y\"}},\"id\":\"963ff725-9109-4217-94ea-35745bcf9be7\",\"type\":\"Square\"},{\"attributes\":{\"source\":{\"id\":\"8c9f3417-d686-4465-9ba0-9e34454a6cd7\",\"type\":\"ColumnDataSource\"}},\"id\":\"b29e51c1-6e91-401d-a967-06608d8f0555\",\"type\":\"CDSView\"},{\"attributes\":{},\"id\":\"1c1406af-daa4-4436-a55a-f47abb26dfbb\",\"type\":\"BasicTickFormatter\"},{\"attributes\":{\"ticker\":null},\"id\":\"4d0d27c9-e036-433f-913a-c01a02ba33c8\",\"type\":\"LogTickFormatter\"},{\"attributes\":{\"callback\":null,\"data\":{\"x\":{\"__ndarray__\":\"NOdvazPZRUDc8yShiBhDQKFQzRs25EFAIvT/6ro/QEAeRoCoy0E8QLZUhVbiPjdAZ7gXuVjrMUC8VTzMVOkpQF4/NuWhHiJA8BYaY0U8GkDNGg3QNeYUQAnkw/F3vxFAqRTOLJ9fDUDsrqLZeqkDQJdu+q2NIPY/7iB8GpvD+j/n0SM5LlYFQGooM1yJPQtANXh0Js3+EEAEnLgHDD4WQDnt6GrDLh5Ax7WIfFz0JEB+qL1p0fMqQDwXTBZJLCpAa0Hv1oCIJEAK2kvbM4wgQFYl+hDx/htAnjQ3jNOqFkApWEuc39gRQI9OPP5/YQ1A/SZ6kkGqCUCYtZxizn8EQGh3jDAZm/0/Dbjzub429T+MdA8rDQXwP5MPcA72YeY/6Tv+mreV3T/ey51xZbTVP45R4y85CcU/uHrhZxsJgr9XfVqOi1LFPznA7pYpd+0/IG5ZOx6h+j8wU8dODO8BQBcCko+qCwRAhjH50Ta9JkBxfDnfy/8gQHfqTMSUVfE/f1gp2wT6IEAluOdp3zTrP0r+QvggCSlAGmRyOi67LcDquYJ+q7PZvxJhXxaKYMq/3XjWmyaLsb9an57xl7OnP6OSTuUz58I/H2l4z3T0zj8+od/zB3TUP4UDfFtS7Ng/bBCtp6sa3T8/rjPchYjgPxJpezrueuI/vICJyg665D/aRPf+13jnPzkn8PJfHew/1KOhLYR8K0AtjOowA1YCQHutU0c4fcM/VabNdXAZ3r9uPvnk9gWivzrk2qBTCLI/nHdr+8hdwz8+pWrGoHbPPytZcVH9OOc/\",\"dtype\":\"float64\",\"shape\":[75]},\"y\":{\"__ndarray__\":\"GhExyth1ND/Sv8nbtpRIP2vylNV0PVE/aTum7souWD/At0SJ8fVgPw3Iuahxymc/MSNhhJWvcD/bTfBN02d3P2zb5nxnaoA/CD5h5MAGhz8NmeH1TyaQP+zrCsc9p5Y/LbKd76fGnz/bLW5ISEmmPww9YvTcQq8/JV2OstnstT8Er5Y7M8G+P0c+r3jqkcU/5h99k6ZBzj88bCIzFzjVP4enV8oyxN0//yH99nXg5D8qOpLLf0jtP5kqGJXUifQ/c9cS8kHP/D+/DpwzojQEQIEmwoanVwxA4lgXt9HgE0BSSZ2AJuIbQAMJih9jjiNA5q4l5INuK0AwTKYKRj0zQNv5fmq8/DpAaCJseHrtQkB/+zpwzoxKQM3MzMzMeFJAZmZmZmZqWEAAAAAAAFxeQM3MzMzMJmJAmpmZmZkfZUBmZmZmZhhoQDMzMzMzEWtAAAAAAAAKbkBmZmZmZoFwQM3MzMzM/XFAMzMzMzN6c0CamZmZmfZ0QAAAAAAAc3ZAZmZmZmbvd0DNzMzMzGt5QDMzMzMz6HpAmpmZmZlkfEAAAAAAAOF9QGZmZmZmXX9AZmZmZuZsgECamZmZGSuBQM3MzMxM6YFAAAAAAICngkAzMzMzs2WDQGZmZmbmI4RAmpmZmRnihEDNzMzMTKCFQAAAAACAXoZAMzMzM7Mch0BmZmZm5tqHQJqZmZkZmYhAzczMzExXiUAAAAAAgBWKQDMzMzOz04pAZmZmZuaRi0CamZmZGVCMQM3MzMxMDo1AAAAAAIDMjUAzMzMzs4qOQGZmZmbmSI9A\",\"dtype\":\"float64\",\"shape\":[75]}},\"selected\":{\"id\":\"0b628a78-a52f-4669-b312-dea91542010f\",\"type\":\"Selection\"},\"selection_policy\":{\"id\":\"15d4c748-7dac-45cc-ad89-4805c93193bc\",\"type\":\"UnionRenderers\"}},\"id\":\"8c9f3417-d686-4465-9ba0-9e34454a6cd7\",\"type\":\"ColumnDataSource\"},{\"attributes\":{\"bottom_units\":\"screen\",\"fill_alpha\":{\"value\":0.5},\"fill_color\":{\"value\":\"lightgrey\"},\"left_units\":\"screen\",\"level\":\"overlay\",\"line_alpha\":{\"value\":1.0},\"line_color\":{\"value\":\"black\"},\"line_dash\":[4,4],\"line_width\":{\"value\":2},\"plot\":null,\"render_mode\":\"css\",\"right_units\":\"screen\",\"top_units\":\"screen\"},\"id\":\"fb31ff81-c9b7-4e74-b461-43a63b427a60\",\"type\":\"BoxAnnotation\"},{\"attributes\":{\"source\":{\"id\":\"5d6967d2-f3ba-4b20-a889-591d3ee980a5\",\"type\":\"ColumnDataSource\"}},\"id\":\"d9e91d86-d6e6-482b-8e74-7856a4c43ff6\",\"type\":\"CDSView\"},{\"attributes\":{\"callback\":null,\"data\":{\"x\":{\"__ndarray__\":\"sPNoLVUWRMCcW08foaggwBGEs9HRWwLASjme7vfp/D8IvYiIhHUOQGCzEsL62Q5AgyvKUjksBEBVAqijXWDlPx9vshLEd+m/gBl43C629b9d8V/QwWbxv89oEyPhlN6/Xy/web73sj8BTdfvzlHaPwT1hALqzd8/9M16p7IK1T/PPSti1juqP9KBpl9de86/wAg/0V+B3r9bGNJzxdrev2mAtcP0us2/BGqpTognrD98od4Lck6ZP0woHypKgcu/jdf8mBsW0L9AUtKy/CaxPzZJ6gUtHOE/i9eyt8LS4D/BLENqJfzQPx7g3AduBss/hvNM1jbv3T8xkO/p5Z3hP+XS5/pSNNg/G4BFf7vqyz9aF6Nb22zRP9wqupDuqdQ/EzoAdlgPzz9UkjcF4CbEP3CS/rwNsrw/l7drFwL/tj/+RFwacTq3P8hcR0JIHL0/GF8OXS9GwT/2cfDoh9nJP4VKAkn4xss/NHpRClKKIkBNtKvvnjcaQFFftSR8h+m/1B1cooCKGkBUGwklrZ/vv7LW/RqNYiVAd8BQrtWlMMBRoisexSABwHKbARJzp/6/Fz0TmaAo/L+5QqP2RS/6v3klKzD0lfi/okoJr+0L+L9Reynsuln3v80QW7FwP/a/6cPsin3T9L/heoUnKirzv+q22dtTXfG/lciyZ+XD7r/cCMIPcnnqv4hJX9j/uOS/DR3TxE95KEB+/Kr+NtvpP0M5GanzgPS/FRASXs0t/b9VXVB3T+L0vzPrDN26MvK/q1bi3lVj8L8q+F5dxBDuv+RAm15aG+y/\",\"dtype\":\"float64\",\"shape\":[75]},\"y\":{\"__ndarray__\":\"GhExyth1ND/Sv8nbtpRIP2vylNV0PVE/aTum7souWD/At0SJ8fVgPw3Iuahxymc/MSNhhJWvcD/bTfBN02d3P2zb5nxnaoA/CD5h5MAGhz8NmeH1TyaQP+zrCsc9p5Y/LbKd76fGnz/bLW5ISEmmPww9YvTcQq8/JV2OstnstT8Er5Y7M8G+P0c+r3jqkcU/5h99k6ZBzj88bCIzFzjVP4enV8oyxN0//yH99nXg5D8qOpLLf0jtP5kqGJXUifQ/c9cS8kHP/D+/DpwzojQEQIEmwoanVwxA4lgXt9HgE0BSSZ2AJuIbQAMJih9jjiNA5q4l5INuK0AwTKYKRj0zQNv5fmq8/DpAaCJseHrtQkB/+zpwzoxKQM3MzMzMeFJAZmZmZmZqWEAAAAAAAFxeQM3MzMzMJmJAmpmZmZkfZUBmZmZmZhhoQDMzMzMzEWtAAAAAAAAKbkBmZmZmZoFwQM3MzMzM/XFAMzMzMzN6c0CamZmZmfZ0QAAAAAAAc3ZAZmZmZmbvd0DNzMzMzGt5QDMzMzMz6HpAmpmZmZlkfEAAAAAAAOF9QGZmZmZmXX9AZmZmZuZsgECamZmZGSuBQM3MzMxM6YFAAAAAAICngkAzMzMzs2WDQGZmZmbmI4RAmpmZmRnihEDNzMzMTKCFQAAAAACAXoZAMzMzM7Mch0BmZmZm5tqHQJqZmZkZmYhAzczMzExXiUAAAAAAgBWKQDMzMzOz04pAZmZmZuaRi0CamZmZGVCMQM3MzMxMDo1AAAAAAIDMjUAzMzMzs4qOQGZmZmbmSI9A\",\"dtype\":\"float64\",\"shape\":[75]}},\"selected\":{\"id\":\"9899185d-be72-4a08-87b1-e09531e15e3b\",\"type\":\"Selection\"},\"selection_policy\":{\"id\":\"a922bf8c-b70b-462d-b5a9-66565a51066b\",\"type\":\"UnionRenderers\"}},\"id\":\"8c98b9a3-5813-44af-977b-a765db56eb1a\",\"type\":\"ColumnDataSource\"},{\"attributes\":{\"line_color\":\"#4daf4a\",\"line_width\":1.5,\"x\":{\"field\":\"x\"},\"y\":{\"field\":\"y\"}},\"id\":\"78452832-ac4e-4a2d-9c67-ec453ccb98fe\",\"type\":\"Line\"},{\"attributes\":{\"line_alpha\":0.1,\"line_color\":\"#1f77b4\",\"line_dash\":[6],\"line_width\":5,\"x\":{\"field\":\"x\"},\"y\":{\"field\":\"y\"}},\"id\":\"01d13728-babc-4819-ba2f-9d6e64e8c184\",\"type\":\"Line\"},{\"attributes\":{\"data_source\":{\"id\":\"cb60c218-2a6a-4a4e-9b46-466e71187b3f\",\"type\":\"ColumnDataSource\"},\"glyph\":{\"id\":\"78452832-ac4e-4a2d-9c67-ec453ccb98fe\",\"type\":\"Line\"},\"hover_glyph\":null,\"muted_glyph\":null,\"nonselection_glyph\":{\"id\":\"ea76cfc9-04e2-47bb-9517-6ab45556b5af\",\"type\":\"Line\"},\"selection_glyph\":null,\"view\":{\"id\":\"8c3077f8-4edf-4a49-8a8b-979ddec45b2c\",\"type\":\"CDSView\"}},\"id\":\"506a4922-83ff-4f0f-9566-7b9de3c0efb8\",\"type\":\"GlyphRenderer\"},{\"attributes\":{\"overlay\":{\"id\":\"b03554d0-3705-4baf-9e51-edd3521eac2c\",\"type\":\"BoxAnnotation\"}},\"id\":\"82f27147-4ffb-4b3c-bf9b-34dfd878ff55\",\"type\":\"BoxZoomTool\"},{\"attributes\":{\"data_source\":{\"id\":\"19a9c90a-9703-4249-a855-040f786fae89\",\"type\":\"ColumnDataSource\"},\"glyph\":{\"id\":\"0c4398a5-a570-4999-a560-aa9476bd4abc\",\"type\":\"Line\"},\"hover_glyph\":null,\"muted_glyph\":null,\"nonselection_glyph\":{\"id\":\"4bf63b80-e13e-426e-bce2-02d86128cba9\",\"type\":\"Line\"},\"selection_glyph\":null,\"view\":{\"id\":\"6d116eb7-0010-43af-8f50-4798a6e03892\",\"type\":\"CDSView\"}},\"id\":\"0c9140a4-1c1e-48fc-911b-847606188362\",\"type\":\"GlyphRenderer\"},{\"attributes\":{\"label\":{\"value\":\"CLIRAD (single-run)\"},\"renderers\":[{\"id\":\"6db81349-4542-4500-a7a6-d3c61e052951\",\"type\":\"GlyphRenderer\"}]},\"id\":\"c584c362-edb3-4952-a029-de66a80966b1\",\"type\":\"LegendItem\"},{\"attributes\":{},\"id\":\"4f1eb0c9-638d-4bb1-b30e-7fb7de23739b\",\"type\":\"WheelZoomTool\"},{\"attributes\":{\"axis_label\":\"pressure [mb]\",\"formatter\":{\"id\":\"5d7a8f7f-bf35-481a-a232-8ab7b5b9e392\",\"type\":\"BasicTickFormatter\"},\"plot\":{\"id\":\"ec176c1d-9db9-48dd-a998-bb2a9a3d789a\",\"subtype\":\"Figure\",\"type\":\"Plot\"},\"ticker\":{\"id\":\"dcf747cd-ad13-4195-9395-11f6f5086ae5\",\"type\":\"BasicTicker\"}},\"id\":\"066b3aa3-838e-4e60-a5d6-61779543837b\",\"type\":\"LinearAxis\"},{\"attributes\":{\"line_alpha\":0.1,\"line_color\":\"#1f77b4\",\"line_width\":1.5,\"x\":{\"field\":\"x\"},\"y\":{\"field\":\"y\"}},\"id\":\"4bf63b80-e13e-426e-bce2-02d86128cba9\",\"type\":\"Line\"},{\"attributes\":{\"plot\":null,\"text\":\"\"},\"id\":\"61703db8-c2cc-490b-89b7-8dd834eaa623\",\"type\":\"Title\"},{\"attributes\":{\"line_alpha\":0.1,\"line_color\":\"#1f77b4\",\"line_width\":1.5,\"x\":{\"field\":\"x\"},\"y\":{\"field\":\"y\"}},\"id\":\"19d9c8a6-09b4-472f-8bd5-8bfa10851590\",\"type\":\"Line\"},{\"attributes\":{\"source\":{\"id\":\"cb60c218-2a6a-4a4e-9b46-466e71187b3f\",\"type\":\"ColumnDataSource\"}},\"id\":\"8c3077f8-4edf-4a49-8a8b-979ddec45b2c\",\"type\":\"CDSView\"},{\"attributes\":{\"callback\":null,\"data\":{\"x\":{\"__ndarray__\":\"cm1sTMT3VEDEyvjosEJHQOKI6DjzCUNArgQWV9awPkB9Lm8XG3M4QEz+Qv6iYzNA7eV8HaPLLkCX1QHyTpMoQFBmYSYetiNAUB04GtGpH0AmFyVE5j8ZQJca9QPGqBNALJP+OOHHDEBNxaf7QF8AQKtislomWuw/cW2dcO6A9T/uJJvfPu0EQIaQLTI/JQ1AxGiII+PmEkCJvfVeuCsYQD6ZBhGbHB9AXQw69DTYJEAsubcwKucqQNuT9D5OmipAJyi3szEJJUBlNebh5WkgQDDcPHBr2xlArtlANXuQFEBdJadFHckQQI2Avh0ZsQtAjYiwt1rsBUCL0SDoVBgAQK6C0nEEjvc/CggLSme58T9sXU2orFPnP0v0JYz9Gdg/vT38vxYczD9nBQTe6kHHP1IhkEXJwKo/8OZnhCVAub+xtVgCpmqzP6DUpY6g0+k/PKK3T1h4+D8RTDjQc1EAQG/dAQs7TwJAQt2eHpPLAEBWEh074x//PyCap9ZSGf4/rEzaTySm/T+7aXhHRmr9P688KeqeNP0/ruZ4EemD/D8olrZcn9T7P0+vNc9hW/s/i9VVL+4P+z+0NzC24uz6P8731Kza8vo/xFf4SHzq+z+gYyHpvHb8P68ROkiFevw/BAjYdCga/D8AUp8VbW77P3JrF/nKmvo/qCQeGfq++T/dplwHJfn4P2G4p+Uva/g/OzZ0RqMZ+D8dmn/iar73P/OuA7Ka8PY/gaaeQHGn9T9hkyjAH1L0P3aZGhdAU/M/n8VP/g7P8j+90HxHNvfyPwhNBtgrqvk/\",\"dtype\":\"float64\",\"shape\":[75]},\"y\":{\"__ndarray__\":\"GhExyth1ND/Sv8nbtpRIP2vylNV0PVE/aTum7souWD/At0SJ8fVgPw3Iuahxymc/MSNhhJWvcD/bTfBN02d3P2zb5nxnaoA/CD5h5MAGhz8NmeH1TyaQP+zrCsc9p5Y/LbKd76fGnz/bLW5ISEmmPww9YvTcQq8/JV2OstnstT8Er5Y7M8G+P0c+r3jqkcU/5h99k6ZBzj88bCIzFzjVP4enV8oyxN0//yH99nXg5D8qOpLLf0jtP5kqGJXUifQ/c9cS8kHP/D+/DpwzojQEQIEmwoanVwxA4lgXt9HgE0BSSZ2AJuIbQAMJih9jjiNA5q4l5INuK0AwTKYKRj0zQNv5fmq8/DpAaCJseHrtQkB/+zpwzoxKQM3MzMzMeFJAZmZmZmZqWEAAAAAAAFxeQM3MzMzMJmJAmpmZmZkfZUBmZmZmZhhoQDMzMzMzEWtAAAAAAAAKbkBmZmZmZoFwQM3MzMzM/XFAMzMzMzN6c0CamZmZmfZ0QAAAAAAAc3ZAZmZmZmbvd0DNzMzMzGt5QDMzMzMz6HpAmpmZmZlkfEAAAAAAAOF9QGZmZmZmXX9AZmZmZuZsgECamZmZGSuBQM3MzMxM6YFAAAAAAICngkAzMzMzs2WDQGZmZmbmI4RAmpmZmRnihEDNzMzMTKCFQAAAAACAXoZAMzMzM7Mch0BmZmZm5tqHQJqZmZkZmYhAzczMzExXiUAAAAAAgBWKQDMzMzOz04pAZmZmZuaRi0CamZmZGVCMQM3MzMxMDo1AAAAAAIDMjUAzMzMzs4qOQGZmZmbmSI9A\",\"dtype\":\"float64\",\"shape\":[75]}},\"selected\":{\"id\":\"e38342f4-733c-4c11-b2d9-4c8f650c5d4b\",\"type\":\"Selection\"},\"selection_policy\":{\"id\":\"e7eeb781-d1b0-4b76-9e14-4c7b89e8ee45\",\"type\":\"UnionRenderers\"}},\"id\":\"5d6967d2-f3ba-4b20-a889-591d3ee980a5\",\"type\":\"ColumnDataSource\"},{\"attributes\":{\"bottom_units\":\"screen\",\"fill_alpha\":{\"value\":0.5},\"fill_color\":{\"value\":\"lightgrey\"},\"left_units\":\"screen\",\"level\":\"overlay\",\"line_alpha\":{\"value\":1.0},\"line_color\":{\"value\":\"black\"},\"line_dash\":[4,4],\"line_width\":{\"value\":2},\"plot\":null,\"render_mode\":\"css\",\"right_units\":\"screen\",\"top_units\":\"screen\"},\"id\":\"b03554d0-3705-4baf-9e51-edd3521eac2c\",\"type\":\"BoxAnnotation\"},{\"attributes\":{\"fill_alpha\":{\"value\":0.7},\"fill_color\":{\"value\":\"#4daf4a\"},\"line_alpha\":{\"value\":0.7},\"line_color\":{\"value\":\"#4daf4a\"},\"x\":{\"field\":\"x\"},\"y\":{\"field\":\"y\"}},\"id\":\"e050e174-4254-4d6a-80eb-393e294d9574\",\"type\":\"Circle\"},{\"attributes\":{\"fill_alpha\":{\"value\":0.1},\"fill_color\":{\"value\":\"#1f77b4\"},\"line_alpha\":{\"value\":0.1},\"line_color\":{\"value\":\"#1f77b4\"},\"x\":{\"field\":\"x\"},\"y\":{\"field\":\"y\"}},\"id\":\"b344fd2c-dcc9-4eec-ab81-422e22c84b1a\",\"type\":\"Square\"},{\"attributes\":{},\"id\":\"67d45f7c-4cd5-4577-b0d1-357ede2c0eca\",\"type\":\"HelpTool\"},{\"attributes\":{\"plot\":{\"id\":\"ec176c1d-9db9-48dd-a998-bb2a9a3d789a\",\"subtype\":\"Figure\",\"type\":\"Plot\"},\"ticker\":{\"id\":\"0cd493cb-83a4-4131-8093-0be075b5c80c\",\"type\":\"BasicTicker\"}},\"id\":\"c361926f-d1de-4c37-af03-3facbffe4cff\",\"type\":\"Grid\"},{\"attributes\":{\"axis_label\":\"cooling rate [K/day]\",\"formatter\":{\"id\":\"c94b6fd9-b699-479b-a04b-d4a93b028fab\",\"type\":\"BasicTickFormatter\"},\"plot\":{\"id\":\"ec176c1d-9db9-48dd-a998-bb2a9a3d789a\",\"subtype\":\"Figure\",\"type\":\"Plot\"},\"ticker\":{\"id\":\"0cd493cb-83a4-4131-8093-0be075b5c80c\",\"type\":\"BasicTicker\"}},\"id\":\"ccf47517-0f84-4897-a22a-7576484cbcbd\",\"type\":\"LinearAxis\"},{\"attributes\":{\"source\":{\"id\":\"a730348e-2d80-49cc-b018-d61482227fc9\",\"type\":\"ColumnDataSource\"}},\"id\":\"06baa48a-3989-4052-9551-d46a7b962b4e\",\"type\":\"CDSView\"},{\"attributes\":{},\"id\":\"9a2618c8-6b57-460b-b481-be0a118982a8\",\"type\":\"SaveTool\"},{\"attributes\":{},\"id\":\"a922bf8c-b70b-462d-b5a9-66565a51066b\",\"type\":\"UnionRenderers\"},{\"attributes\":{\"label\":{\"value\":\"CRD\"},\"renderers\":[{\"id\":\"aa464cdf-4e3a-4227-8484-472aa82455da\",\"type\":\"GlyphRenderer\"},{\"id\":\"506a4922-83ff-4f0f-9566-7b9de3c0efb8\",\"type\":\"GlyphRenderer\"}]},\"id\":\"30cc7e60-0fa9-4e8d-8082-1ac92861be90\",\"type\":\"LegendItem\"},{\"attributes\":{},\"id\":\"966b9b1e-aca1-41a0-8f42-a33f45174053\",\"type\":\"ResetTool\"},{\"attributes\":{\"line_alpha\":0.5,\"line_color\":\"#984ea3\",\"line_width\":1.5,\"x\":{\"field\":\"x\"},\"y\":{\"field\":\"y\"}},\"id\":\"2733ba4c-510f-423a-b832-290c95b2dc1d\",\"type\":\"Line\"},{\"attributes\":{\"source\":{\"id\":\"19a9c90a-9703-4249-a855-040f786fae89\",\"type\":\"ColumnDataSource\"}},\"id\":\"6d116eb7-0010-43af-8f50-4798a6e03892\",\"type\":\"CDSView\"},{\"attributes\":{\"callback\":null,\"end\":0.01,\"start\":1020},\"id\":\"8d5ae3b1-d9aa-4740-ae09-1c6a5396f910\",\"type\":\"Range1d\"},{\"attributes\":{\"line_alpha\":0.1,\"line_color\":\"#1f77b4\",\"line_width\":1.5,\"x\":{\"field\":\"x\"},\"y\":{\"field\":\"y\"}},\"id\":\"ea76cfc9-04e2-47bb-9517-6ab45556b5af\",\"type\":\"Line\"},{\"attributes\":{},\"id\":\"dcf747cd-ad13-4195-9395-11f6f5086ae5\",\"type\":\"BasicTicker\"},{\"attributes\":{\"data_source\":{\"id\":\"d8c6a932-f843-498b-ba12-658938bdbb86\",\"type\":\"ColumnDataSource\"},\"glyph\":{\"id\":\"ede10301-17e9-45a1-a692-c8377b8841ff\",\"type\":\"Line\"},\"hover_glyph\":null,\"muted_glyph\":null,\"nonselection_glyph\":{\"id\":\"4712da94-7dfd-47ee-8149-098ac1933451\",\"type\":\"Line\"},\"selection_glyph\":null,\"view\":{\"id\":\"4f4097f2-9ad5-44fc-bb72-7fd738ccddc6\",\"type\":\"CDSView\"}},\"id\":\"759f3603-49a1-4124-b433-f30e20b0b981\",\"type\":\"GlyphRenderer\"},{\"attributes\":{},\"id\":\"299c8cb1-fee9-44cc-a14d-7568d503df56\",\"type\":\"Selection\"},{\"attributes\":{\"callback\":null,\"end\":0.01,\"start\":1020},\"id\":\"0ea1a951-d413-4821-810c-e4c21d8c924c\",\"type\":\"Range1d\"},{\"attributes\":{\"callback\":null,\"data\":{\"x\":{\"__ndarray__\":\"zhhdnl3RU0CKgDdE+dxEQP6f5duhdUFAMJBr6ewEQkAADxZQyK45QBmX3ka8EDZAjl8alnlwL0CeYJlYHKIqQJoaoQNWxSJAwL4t7BozIUBMkS56I6AXQBxPe4ld/BRAnMjiKz2HCkCJCgdQ/WcBQKJTvluRvOg/j/JpYJwB9j+fcxKIKREEQOwUvOtLFw1AV0At7oRoEkD5lECKxjYXQAdydNQ0jR1ACbyvRZLfI0CO3MmPRGApQCcUNq4qNylA6VN9h30SJECRnP+HbGofQDQKaukXmhlAteFC/mL9E0CTDffT91MQQEkVAKh1YwtAqFesCIQRBkATatBMXLz/P4fvYPUXo/Y/tDrQnFTK8T/fneFQ7xLnP14aDQuCJtc/5BrOx2LRzT+fE4V0bnvHP3ueIXamhrA/cWaxNtALrr92uqPyMJK3P6q5+U821+g/ckrZjXL49z/TaxRJZAUAQPzVLij27QFAige8XqaCAEAv4Q7keaX+P0VyKG35kv0/XHVqXZRQ/T/+RskYEAv9PwKD1IjB3fw/JBko3yJ2/D//mRCM5iX7P/btQHcr5vo/xTCcdQr9+j+f/V+tjrf6P0Wt2HvLrvo/9IV/x6br+z/bYX40veD8P8+HZwkyUvw/CkxgoI8l/D8QA+bsYB78P2eu9w7DDvw/khNJm3qS+j8vZ0xHVJ75Py0d1shscPk/NKgVKiiK+T/NNtzstIr5P4ps72zyaPc/TlSpuPUj9j9S2qZu6gj1P2XVmdu6VPQ/t/WgjjEZ9D+np734CoH0P1P4Q57qwfo/\",\"dtype\":\"float64\",\"shape\":[75]},\"y\":{\"__ndarray__\":\"hLndy31yND/6fmq8dJNIP8n9DkWBPlE/aDum7souWD/b4a/JGvVgP9f34SAhymc/ZvM4DOavcD+z0M5pFmh3PxuC4zJuaoA/xjcUPlsHhz8uHAjJAiaQP9ieWRKgppY/oI7HDFTGnz+a5h2n6EimPzS6g9iZQq8/IuAQqtTstT9SSZ2AJsK+P4nS3uALk8U/ih9j7lpCzj+ASL99HTjVP4enV8oyxN0/ACL99nXg5D9fmEwVjErtPyUGgZVDi/Q/AiuHFtnO/D9OYhBYOTQEQPHSTWIQWAxA4XoUrkfhE0D8qfHSTeIbQMh2vp8ajyNArkfhehRuK0Bcj8L1KDwzQFyPwvUo/DpAPgrXo3DtQkDNzMzMzIxKQClcj8L1eFJAKVyPwvVoWECamZmZmVleQGZmZmZmJmJAAAAAAAAgZUCamZmZmRloQJqZmZmZEWtAmpmZmZkJbkCamZmZmYFwQGZmZmZm/nFAZmZmZmZ6c0BmZmZmZvZ0QDQzMzMzc3ZAAAAAAADwd0AAAAAAAGx5QAAAAAAA6HpAzMzMzMxkfEDMzMzMzOB9QM3MzMzMXH9AzczMzMxsgEAzMzMzMyuBQDMzMzMz6YFAMzMzMzOngkCamZmZmWWDQAAAAAAAJIRAAAAAAADihEAAAAAAAKCFQGZmZmZmXoZAzczMzMwch0DNzMzMzNqHQM3MzMzMmIhAMzMzMzNXiUCamZmZmRWKQAAAAAAA1IpAAAAAAACSi0AAAAAAAFCMQGZmZmZmDo1AzczMzMzMjUDNzMzMzIqOQM3MzMzMSI9A\",\"dtype\":\"float64\",\"shape\":[75]}},\"selected\":{\"id\":\"299c8cb1-fee9-44cc-a14d-7568d503df56\",\"type\":\"Selection\"},\"selection_policy\":{\"id\":\"16ed0a28-ff0a-41f2-8f3d-aa2c7117d0eb\",\"type\":\"UnionRenderers\"}},\"id\":\"bd689250-595d-4f00-91b7-2b3babc29db2\",\"type\":\"ColumnDataSource\"},{\"attributes\":{\"line_color\":\"#4daf4a\",\"line_width\":1.5,\"x\":{\"field\":\"x\"},\"y\":{\"field\":\"y\"}},\"id\":\"ede10301-17e9-45a1-a692-c8377b8841ff\",\"type\":\"Line\"},{\"attributes\":{},\"id\":\"04f09930-c083-4b20-98b5-69b5a228acb5\",\"type\":\"UnionRenderers\"},{\"attributes\":{},\"id\":\"88cd287b-df91-43a3-97ef-e285e1c681d4\",\"type\":\"PanTool\"},{\"attributes\":{},\"id\":\"53587a4e-a346-4ded-bff8-c12940582080\",\"type\":\"Selection\"},{\"attributes\":{\"fill_alpha\":{\"value\":0.1},\"fill_color\":{\"value\":\"#1f77b4\"},\"line_alpha\":{\"value\":0.1},\"line_color\":{\"value\":\"#1f77b4\"},\"x\":{\"field\":\"x\"},\"y\":{\"field\":\"y\"}},\"id\":\"754335cc-52cf-40a3-8872-460142dce259\",\"type\":\"Square\"},{\"attributes\":{\"data_source\":{\"id\":\"86bdc24a-a47c-4048-8853-73c196d67ac5\",\"type\":\"ColumnDataSource\"},\"glyph\":{\"id\":\"309f1d5d-aadf-438f-b79d-eeae92ae213d\",\"type\":\"Square\"},\"hover_glyph\":null,\"muted_glyph\":null,\"nonselection_glyph\":{\"id\":\"b344fd2c-dcc9-4eec-ab81-422e22c84b1a\",\"type\":\"Square\"},\"selection_glyph\":null,\"view\":{\"id\":\"6697474f-c015-4eec-9092-aca1970dfda0\",\"type\":\"CDSView\"}},\"id\":\"3a2b0c90-8a24-4cba-9f91-ac3960702c9c\",\"type\":\"GlyphRenderer\"},{\"attributes\":{\"line_alpha\":0.5,\"line_color\":\"#984ea3\",\"line_width\":1.5,\"x\":{\"field\":\"x\"},\"y\":{\"field\":\"y\"}},\"id\":\"0c4398a5-a570-4999-a560-aa9476bd4abc\",\"type\":\"Line\"},{\"attributes\":{\"axis_label\":\"cooling rate [K/day]\",\"formatter\":{\"id\":\"1c1406af-daa4-4436-a55a-f47abb26dfbb\",\"type\":\"BasicTickFormatter\"},\"plot\":{\"id\":\"4092a4ef-f3c3-4475-bddc-fa51d9ff8c82\",\"subtype\":\"Figure\",\"type\":\"Plot\"},\"ticker\":{\"id\":\"6f4cceff-7d7c-4ceb-a4fa-ed3e348ef03b\",\"type\":\"BasicTicker\"}},\"id\":\"4ea991c5-0445-4057-897b-14934708a68d\",\"type\":\"LinearAxis\"},{\"attributes\":{\"callback\":null,\"data\":{\"x\":{\"__ndarray__\":\"cm1sTMT3VEDEyvjosEJHQOKI6DjzCUNArgQWV9awPkB9Lm8XG3M4QEz+Qv6iYzNA7eV8HaPLLkCX1QHyTpMoQFBmYSYetiNAUB04GtGpH0AmFyVE5j8ZQJca9QPGqBNALJP+OOHHDEBNxaf7QF8AQKtislomWuw/cW2dcO6A9T/uJJvfPu0EQIaQLTI/JQ1AxGiII+PmEkCJvfVeuCsYQD6ZBhGbHB9AXQw69DTYJEAsubcwKucqQNuT9D5OmipAJyi3szEJJUBlNebh5WkgQDDcPHBr2xlArtlANXuQFEBdJadFHckQQI2Avh0ZsQtAjYiwt1rsBUCL0SDoVBgAQK6C0nEEjvc/CggLSme58T9sXU2orFPnP0v0JYz9Gdg/vT38vxYczD9nBQTe6kHHP1IhkEXJwKo/8OZnhCVAub+xtVgCpmqzP6DUpY6g0+k/PKK3T1h4+D8RTDjQc1EAQG/dAQs7TwJAQt2eHpPLAEBWEh074x//PyCap9ZSGf4/rEzaTySm/T+7aXhHRmr9P688KeqeNP0/ruZ4EemD/D8olrZcn9T7P0+vNc9hW/s/i9VVL+4P+z+0NzC24uz6P8731Kza8vo/xFf4SHzq+z+gYyHpvHb8P68ROkiFevw/BAjYdCga/D8AUp8VbW77P3JrF/nKmvo/qCQeGfq++T/dplwHJfn4P2G4p+Uva/g/OzZ0RqMZ+D8dmn/iar73P/OuA7Ka8PY/gaaeQHGn9T9hkyjAH1L0P3aZGhdAU/M/n8VP/g7P8j+90HxHNvfyPwhNBtgrqvk/\",\"dtype\":\"float64\",\"shape\":[75]},\"y\":{\"__ndarray__\":\"GhExyth1ND/Sv8nbtpRIP2vylNV0PVE/aTum7souWD/At0SJ8fVgPw3Iuahxymc/MSNhhJWvcD/bTfBN02d3P2zb5nxnaoA/CD5h5MAGhz8NmeH1TyaQP+zrCsc9p5Y/LbKd76fGnz/bLW5ISEmmPww9YvTcQq8/JV2OstnstT8Er5Y7M8G+P0c+r3jqkcU/5h99k6ZBzj88bCIzFzjVP4enV8oyxN0//yH99nXg5D8qOpLLf0jtP5kqGJXUifQ/c9cS8kHP/D+/DpwzojQEQIEmwoanVwxA4lgXt9HgE0BSSZ2AJuIbQAMJih9jjiNA5q4l5INuK0AwTKYKRj0zQNv5fmq8/DpAaCJseHrtQkB/+zpwzoxKQM3MzMzMeFJAZmZmZmZqWEAAAAAAAFxeQM3MzMzMJmJAmpmZmZkfZUBmZmZmZhhoQDMzMzMzEWtAAAAAAAAKbkBmZmZmZoFwQM3MzMzM/XFAMzMzMzN6c0CamZmZmfZ0QAAAAAAAc3ZAZmZmZmbvd0DNzMzMzGt5QDMzMzMz6HpAmpmZmZlkfEAAAAAAAOF9QGZmZmZmXX9AZmZmZuZsgECamZmZGSuBQM3MzMxM6YFAAAAAAICngkAzMzMzs2WDQGZmZmbmI4RAmpmZmRnihEDNzMzMTKCFQAAAAACAXoZAMzMzM7Mch0BmZmZm5tqHQJqZmZkZmYhAzczMzExXiUAAAAAAgBWKQDMzMzOz04pAZmZmZuaRi0CamZmZGVCMQM3MzMxMDo1AAAAAAIDMjUAzMzMzs4qOQGZmZmbmSI9A\",\"dtype\":\"float64\",\"shape\":[75]}},\"selected\":{\"id\":\"65279047-02a7-47ed-8d64-4e16cb9ef310\",\"type\":\"Selection\"},\"selection_policy\":{\"id\":\"f06acc93-e21a-48de-9318-94521c53fb47\",\"type\":\"UnionRenderers\"}},\"id\":\"d8c6a932-f843-498b-ba12-658938bdbb86\",\"type\":\"ColumnDataSource\"},{\"attributes\":{},\"id\":\"e7eeb781-d1b0-4b76-9e14-4c7b89e8ee45\",\"type\":\"UnionRenderers\"},{\"attributes\":{\"source\":{\"id\":\"8c98b9a3-5813-44af-977b-a765db56eb1a\",\"type\":\"ColumnDataSource\"}},\"id\":\"6cc933a4-5f35-492e-8828-a75337d6fc3b\",\"type\":\"CDSView\"},{\"attributes\":{\"dimension\":1,\"plot\":{\"id\":\"fcc24085-8bd0-45fe-9fb1-3573b47acb06\",\"subtype\":\"Figure\",\"type\":\"Plot\"},\"ticker\":{\"id\":\"720764cc-5d4e-4fc4-a2d5-b57b6195689e\",\"type\":\"LogTicker\"}},\"id\":\"0cea5003-f20f-4a3a-9737-1386dae53509\",\"type\":\"Grid\"},{\"attributes\":{},\"id\":\"6f7217fd-f27f-457f-8936-cd77c6aeee3e\",\"type\":\"PanTool\"},{\"attributes\":{},\"id\":\"5d7a8f7f-bf35-481a-a232-8ab7b5b9e392\",\"type\":\"BasicTickFormatter\"},{\"attributes\":{\"callback\":null,\"data\":{\"x\":{\"__ndarray__\":\"NOdvazPZRUDc8yShiBhDQKFQzRs25EFAIvT/6ro/QEAeRoCoy0E8QLZUhVbiPjdAZ7gXuVjrMUC8VTzMVOkpQF4/NuWhHiJA8BYaY0U8GkDNGg3QNeYUQAnkw/F3vxFAqRTOLJ9fDUDsrqLZeqkDQJdu+q2NIPY/7iB8GpvD+j/n0SM5LlYFQGooM1yJPQtANXh0Js3+EEAEnLgHDD4WQDnt6GrDLh5Ax7WIfFz0JEB+qL1p0fMqQDwXTBZJLCpAa0Hv1oCIJEAK2kvbM4wgQFYl+hDx/htAnjQ3jNOqFkApWEuc39gRQI9OPP5/YQ1A/SZ6kkGqCUCYtZxizn8EQGh3jDAZm/0/Dbjzub429T+MdA8rDQXwP5MPcA72YeY/6Tv+mreV3T/ey51xZbTVP45R4y85CcU/uHrhZxsJgr9XfVqOi1LFPznA7pYpd+0/IG5ZOx6h+j8wU8dODO8BQBcCko+qCwRAhjH50Ta9JkBxfDnfy/8gQHfqTMSUVfE/f1gp2wT6IEAluOdp3zTrP0r+QvggCSlAGmRyOi67LcDquYJ+q7PZvxJhXxaKYMq/3XjWmyaLsb9an57xl7OnP6OSTuUz58I/H2l4z3T0zj8+od/zB3TUP4UDfFtS7Ng/bBCtp6sa3T8/rjPchYjgPxJpezrueuI/vICJyg665D/aRPf+13jnPzkn8PJfHew/1KOhLYR8K0AtjOowA1YCQHutU0c4fcM/VabNdXAZ3r9uPvnk9gWivzrk2qBTCLI/nHdr+8hdwz8+pWrGoHbPPytZcVH9OOc/\",\"dtype\":\"float64\",\"shape\":[75]},\"y\":{\"__ndarray__\":\"GhExyth1ND/Sv8nbtpRIP2vylNV0PVE/aTum7souWD/At0SJ8fVgPw3Iuahxymc/MSNhhJWvcD/bTfBN02d3P2zb5nxnaoA/CD5h5MAGhz8NmeH1TyaQP+zrCsc9p5Y/LbKd76fGnz/bLW5ISEmmPww9YvTcQq8/JV2OstnstT8Er5Y7M8G+P0c+r3jqkcU/5h99k6ZBzj88bCIzFzjVP4enV8oyxN0//yH99nXg5D8qOpLLf0jtP5kqGJXUifQ/c9cS8kHP/D+/DpwzojQEQIEmwoanVwxA4lgXt9HgE0BSSZ2AJuIbQAMJih9jjiNA5q4l5INuK0AwTKYKRj0zQNv5fmq8/DpAaCJseHrtQkB/+zpwzoxKQM3MzMzMeFJAZmZmZmZqWEAAAAAAAFxeQM3MzMzMJmJAmpmZmZkfZUBmZmZmZhhoQDMzMzMzEWtAAAAAAAAKbkBmZmZmZoFwQM3MzMzM/XFAMzMzMzN6c0CamZmZmfZ0QAAAAAAAc3ZAZmZmZmbvd0DNzMzMzGt5QDMzMzMz6HpAmpmZmZlkfEAAAAAAAOF9QGZmZmZmXX9AZmZmZuZsgECamZmZGSuBQM3MzMxM6YFAAAAAAICngkAzMzMzs2WDQGZmZmbmI4RAmpmZmRnihEDNzMzMTKCFQAAAAACAXoZAMzMzM7Mch0BmZmZm5tqHQJqZmZkZmYhAzczMzExXiUAAAAAAgBWKQDMzMzOz04pAZmZmZuaRi0CamZmZGVCMQM3MzMxMDo1AAAAAAIDMjUAzMzMzs4qOQGZmZmbmSI9A\",\"dtype\":\"float64\",\"shape\":[75]}},\"selected\":{\"id\":\"73eacfef-9844-4230-9496-9ff4c8bbc84f\",\"type\":\"Selection\"},\"selection_policy\":{\"id\":\"26a00eec-1647-4bff-b9f5-7b0b11345758\",\"type\":\"UnionRenderers\"}},\"id\":\"5d2fe5d9-4246-4c28-8faf-5be7dda4e636\",\"type\":\"ColumnDataSource\"},{\"attributes\":{},\"id\":\"b93651ec-9df9-490d-9b60-bff0dc49545e\",\"type\":\"ResetTool\"},{\"attributes\":{},\"id\":\"73eacfef-9844-4230-9496-9ff4c8bbc84f\",\"type\":\"Selection\"},{\"attributes\":{},\"id\":\"0c66d029-f95b-4684-80d0-bd8a1782bc6b\",\"type\":\"HelpTool\"},{\"attributes\":{},\"id\":\"3820b125-87dd-4f17-be54-d89562c84d0a\",\"type\":\"Selection\"},{\"attributes\":{\"items\":[{\"id\":\"ef10ab29-3d6a-4251-bc7d-ed64dfcd868b\",\"type\":\"LegendItem\"},{\"id\":\"0fb616ec-c4c3-4831-bf34-f68d5e52c21d\",\"type\":\"LegendItem\"}],\"label_text_font_size\":{\"value\":\"8pt\"},\"location\":\"top_center\",\"orientation\":\"horizontal\",\"plot\":{\"id\":\"4092a4ef-f3c3-4475-bddc-fa51d9ff8c82\",\"subtype\":\"Figure\",\"type\":\"Plot\"}},\"id\":\"b11ff6ff-c95a-4a6e-9c87-1aeb87965ae2\",\"type\":\"Legend\"},{\"attributes\":{},\"id\":\"e38342f4-733c-4c11-b2d9-4c8f650c5d4b\",\"type\":\"Selection\"},{\"attributes\":{},\"id\":\"59c1d776-d10a-47ee-ae42-495fad9baf14\",\"type\":\"SaveTool\"},{\"attributes\":{\"dimension\":1,\"plot\":{\"id\":\"4092a4ef-f3c3-4475-bddc-fa51d9ff8c82\",\"subtype\":\"Figure\",\"type\":\"Plot\"},\"ticker\":{\"id\":\"403a61c4-5168-4239-a155-326a88c7cf34\",\"type\":\"LogTicker\"}},\"id\":\"222a962b-056b-4198-a223-ae527797b0a6\",\"type\":\"Grid\"},{\"attributes\":{},\"id\":\"65279047-02a7-47ed-8d64-4e16cb9ef310\",\"type\":\"Selection\"},{\"attributes\":{\"overlay\":{\"id\":\"fb31ff81-c9b7-4e74-b461-43a63b427a60\",\"type\":\"BoxAnnotation\"}},\"id\":\"4ba1181f-8b47-4fb6-896c-3ed7a47bc8a4\",\"type\":\"BoxZoomTool\"},{\"attributes\":{\"active_drag\":\"auto\",\"active_inspect\":\"auto\",\"active_scroll\":\"auto\",\"active_tap\":\"auto\",\"tools\":[{\"id\":\"88cd287b-df91-43a3-97ef-e285e1c681d4\",\"type\":\"PanTool\"},{\"id\":\"de7d929a-83a0-483d-be14-a98cd90c35c5\",\"type\":\"WheelZoomTool\"},{\"id\":\"d2d35bbe-dd60-4644-953d-b2d78b9656c4\",\"type\":\"BoxZoomTool\"},{\"id\":\"194de456-4502-4397-8f2b-6a34089dca27\",\"type\":\"SaveTool\"},{\"id\":\"10fd8451-983f-4469-bbb1-946218989602\",\"type\":\"ResetTool\"},{\"id\":\"dc0e2565-0903-48db-a8eb-c35c0a35b65b\",\"type\":\"HelpTool\"}]},\"id\":\"5e4e77e5-6096-45bd-9fd3-945036869c74\",\"type\":\"Toolbar\"},{\"attributes\":{\"data_source\":{\"id\":\"8c98b9a3-5813-44af-977b-a765db56eb1a\",\"type\":\"ColumnDataSource\"},\"glyph\":{\"id\":\"43998810-d819-4ccb-a2eb-41298f7f97c9\",\"type\":\"Circle\"},\"hover_glyph\":null,\"muted_glyph\":null,\"nonselection_glyph\":{\"id\":\"28031631-2670-4b1a-ae8c-608e08c6a834\",\"type\":\"Circle\"},\"selection_glyph\":null,\"view\":{\"id\":\"6cc933a4-5f35-492e-8828-a75337d6fc3b\",\"type\":\"CDSView\"}},\"id\":\"5e6ccf45-2d46-4f94-89d8-f968da903441\",\"type\":\"GlyphRenderer\"},{\"attributes\":{\"label\":{\"value\":\"old CLIRAD (H2012) - CRD\"},\"renderers\":[{\"id\":\"db5d4bb4-f07a-42c3-95d5-37b3887f88f7\",\"type\":\"GlyphRenderer\"}]},\"id\":\"0fb616ec-c4c3-4831-bf34-f68d5e52c21d\",\"type\":\"LegendItem\"},{\"attributes\":{},\"id\":\"b17d79f4-20cd-46e6-9c74-a7d1b06d2eb9\",\"type\":\"WheelZoomTool\"},{\"attributes\":{},\"id\":\"26a00eec-1647-4bff-b9f5-7b0b11345758\",\"type\":\"UnionRenderers\"},{\"attributes\":{},\"id\":\"c41d0c3e-6c1c-4a73-84ae-e9af8565a877\",\"type\":\"UnionRenderers\"},{\"attributes\":{\"data_source\":{\"id\":\"5d2fe5d9-4246-4c28-8faf-5be7dda4e636\",\"type\":\"ColumnDataSource\"},\"glyph\":{\"id\":\"8db22404-521d-4c38-aa65-e9269de6340a\",\"type\":\"Line\"},\"hover_glyph\":null,\"muted_glyph\":null,\"nonselection_glyph\":{\"id\":\"01d13728-babc-4819-ba2f-9d6e64e8c184\",\"type\":\"Line\"},\"selection_glyph\":null,\"view\":{\"id\":\"a3a8cc22-55af-41c3-97cb-8155baac2810\",\"type\":\"CDSView\"}},\"id\":\"c831bf9b-e079-4ca3-ad58-c5b47fe856b3\",\"type\":\"GlyphRenderer\"},{\"attributes\":{\"label\":{\"value\":\"CLIRAD (single-run) - CRD\"},\"renderers\":[{\"id\":\"5e6ccf45-2d46-4f94-89d8-f968da903441\",\"type\":\"GlyphRenderer\"},{\"id\":\"9a3747d0-6150-4f8c-a6ae-166a96e77304\",\"type\":\"GlyphRenderer\"}]},\"id\":\"ef10ab29-3d6a-4251-bc7d-ed64dfcd868b\",\"type\":\"LegendItem\"},{\"attributes\":{\"line_alpha\":0.6,\"line_color\":\"#377eb8\",\"line_dash\":[6],\"line_width\":5,\"x\":{\"field\":\"x\"},\"y\":{\"field\":\"y\"}},\"id\":\"8db22404-521d-4c38-aa65-e9269de6340a\",\"type\":\"Line\"},{\"attributes\":{},\"id\":\"0e683f41-c24e-49d7-9057-8fce3d0f23c5\",\"type\":\"UnionRenderers\"},{\"attributes\":{\"num_minor_ticks\":10},\"id\":\"403a61c4-5168-4239-a155-326a88c7cf34\",\"type\":\"LogTicker\"},{\"attributes\":{},\"id\":\"1c978916-d233-4268-9342-b470b41197d9\",\"type\":\"Selection\"},{\"attributes\":{\"label\":{\"value\":\"CLIRAD (single-run)\"},\"renderers\":[{\"id\":\"c831bf9b-e079-4ca3-ad58-c5b47fe856b3\",\"type\":\"GlyphRenderer\"}]},\"id\":\"14d10924-231d-4172-a30f-e632a0b39f8d\",\"type\":\"LegendItem\"},{\"attributes\":{},\"id\":\"9899185d-be72-4a08-87b1-e09531e15e3b\",\"type\":\"Selection\"},{\"attributes\":{\"plot\":{\"id\":\"4092a4ef-f3c3-4475-bddc-fa51d9ff8c82\",\"subtype\":\"Figure\",\"type\":\"Plot\"},\"ticker\":{\"id\":\"6f4cceff-7d7c-4ceb-a4fa-ed3e348ef03b\",\"type\":\"BasicTicker\"}},\"id\":\"a247352f-eaf8-4b9e-85ca-6f9a45e9118d\",\"type\":\"Grid\"},{\"attributes\":{\"line_alpha\":0.8,\"line_color\":\"#984ea3\",\"line_width\":1.5,\"x\":{\"field\":\"x\"},\"y\":{\"field\":\"y\"}},\"id\":\"67533cc0-d78f-4766-9950-7c65a81105c7\",\"type\":\"Line\"},{\"attributes\":{\"label\":{\"value\":\"old CLIRAD (H2012)\"},\"renderers\":[{\"id\":\"3a2b0c90-8a24-4cba-9f91-ac3960702c9c\",\"type\":\"GlyphRenderer\"},{\"id\":\"f6369133-86bb-451f-9503-275e5bb99169\",\"type\":\"GlyphRenderer\"}]},\"id\":\"1b20f562-17f0-4bdb-a91e-6443f38d9be7\",\"type\":\"LegendItem\"},{\"attributes\":{\"data_source\":{\"id\":\"7b380423-339c-4ef5-b073-c071d9175a76\",\"type\":\"ColumnDataSource\"},\"glyph\":{\"id\":\"78b43e30-add6-41b3-b990-a3ebfd433e52\",\"type\":\"Line\"},\"hover_glyph\":null,\"muted_glyph\":null,\"nonselection_glyph\":{\"id\":\"b5326fab-855c-4aa1-87e8-4d30c5e180d2\",\"type\":\"Line\"},\"selection_glyph\":null,\"view\":{\"id\":\"5ec20885-893e-49c8-b511-5006e1fa2575\",\"type\":\"CDSView\"}},\"id\":\"db5d4bb4-f07a-42c3-95d5-37b3887f88f7\",\"type\":\"GlyphRenderer\"},{\"attributes\":{\"above\":[{\"id\":\"d380985b-6770-4bb0-81b2-951bffc8f0e6\",\"type\":\"Legend\"}],\"below\":[{\"id\":\"e6333a8f-c502-4407-ae05-d85f735ee68b\",\"type\":\"LinearAxis\"}],\"left\":[{\"id\":\"20370095-8487-408f-a25d-3ee536a3f16d\",\"type\":\"LogAxis\"}],\"plot_width\":300,\"renderers\":[{\"id\":\"e6333a8f-c502-4407-ae05-d85f735ee68b\",\"type\":\"LinearAxis\"},{\"id\":\"9c8ebbb2-dda9-4fb5-9520-5d3944803880\",\"type\":\"Grid\"},{\"id\":\"20370095-8487-408f-a25d-3ee536a3f16d\",\"type\":\"LogAxis\"},{\"id\":\"0cea5003-f20f-4a3a-9737-1386dae53509\",\"type\":\"Grid\"},{\"id\":\"b03554d0-3705-4baf-9e51-edd3521eac2c\",\"type\":\"BoxAnnotation\"},{\"id\":\"6db81349-4542-4500-a7a6-d3c61e052951\",\"type\":\"GlyphRenderer\"},{\"id\":\"f4bb3b30-d272-47f3-bb63-d33bd4dcccb9\",\"type\":\"GlyphRenderer\"},{\"id\":\"759f3603-49a1-4124-b433-f30e20b0b981\",\"type\":\"GlyphRenderer\"},{\"id\":\"0ebf0dd5-4698-4301-b88b-f183960b2f0e\",\"type\":\"GlyphRenderer\"},{\"id\":\"0c9140a4-1c1e-48fc-911b-847606188362\",\"type\":\"GlyphRenderer\"},{\"id\":\"d380985b-6770-4bb0-81b2-951bffc8f0e6\",\"type\":\"Legend\"}],\"title\":{\"id\":\"61703db8-c2cc-490b-89b7-8dd834eaa623\",\"type\":\"Title\"},\"toolbar\":{\"id\":\"4b0402b1-72ea-4699-a4f9-5a4a1d6d6f13\",\"type\":\"Toolbar\"},\"toolbar_location\":null,\"x_range\":{\"id\":\"b20641f0-af22-4045-9978-9924b428767c\",\"type\":\"Range1d\"},\"x_scale\":{\"id\":\"21a28d18-97bc-42c7-854a-799b6b0bd49d\",\"type\":\"LinearScale\"},\"y_range\":{\"id\":\"8fccd3d6-4079-4b8b-b0cc-2371bae67a91\",\"type\":\"Range1d\"},\"y_scale\":{\"id\":\"1e0288d4-63da-4965-80f8-c3cfb0cbe7fb\",\"type\":\"LogScale\"}},\"id\":\"fcc24085-8bd0-45fe-9fb1-3573b47acb06\",\"subtype\":\"Figure\",\"type\":\"Plot\"},{\"attributes\":{\"line_alpha\":0.1,\"line_color\":\"#1f77b4\",\"line_dash\":[6],\"line_width\":4,\"x\":{\"field\":\"x\"},\"y\":{\"field\":\"y\"}},\"id\":\"b5326fab-855c-4aa1-87e8-4d30c5e180d2\",\"type\":\"Line\"},{\"attributes\":{},\"id\":\"f06acc93-e21a-48de-9318-94521c53fb47\",\"type\":\"UnionRenderers\"},{\"attributes\":{\"source\":{\"id\":\"35140454-45a7-469e-aa89-2af46a100aca\",\"type\":\"ColumnDataSource\"}},\"id\":\"6c33a35e-9a5f-4cc7-ac93-4ea716df1102\",\"type\":\"CDSView\"},{\"attributes\":{\"children\":[{\"id\":\"ec176c1d-9db9-48dd-a998-bb2a9a3d789a\",\"subtype\":\"Figure\",\"type\":\"Plot\"},{\"id\":\"fcc24085-8bd0-45fe-9fb1-3573b47acb06\",\"subtype\":\"Figure\",\"type\":\"Plot\"},{\"id\":\"4092a4ef-f3c3-4475-bddc-fa51d9ff8c82\",\"subtype\":\"Figure\",\"type\":\"Plot\"}]},\"id\":\"06019808-2146-4a10-b896-e4e58e4940a7\",\"type\":\"Row\"},{\"attributes\":{\"active_drag\":\"auto\",\"active_inspect\":\"auto\",\"active_scroll\":\"auto\",\"active_tap\":\"auto\",\"tools\":[{\"id\":\"75778c73-0661-4c7a-97a2-eaea13c42af4\",\"type\":\"PanTool\"},{\"id\":\"4f1eb0c9-638d-4bb1-b30e-7fb7de23739b\",\"type\":\"WheelZoomTool\"},{\"id\":\"82f27147-4ffb-4b3c-bf9b-34dfd878ff55\",\"type\":\"BoxZoomTool\"},{\"id\":\"9a2618c8-6b57-460b-b481-be0a118982a8\",\"type\":\"SaveTool\"},{\"id\":\"966b9b1e-aca1-41a0-8f42-a33f45174053\",\"type\":\"ResetTool\"},{\"id\":\"67d45f7c-4cd5-4577-b0d1-357ede2c0eca\",\"type\":\"HelpTool\"}]},\"id\":\"4b0402b1-72ea-4699-a4f9-5a4a1d6d6f13\",\"type\":\"Toolbar\"},{\"attributes\":{\"source\":{\"id\":\"bd689250-595d-4f00-91b7-2b3babc29db2\",\"type\":\"ColumnDataSource\"}},\"id\":\"eda62acc-a8f9-4c8f-9d8a-f20df1ed5d94\",\"type\":\"CDSView\"},{\"attributes\":{},\"id\":\"6e27a65f-aa3a-492e-833b-e3d0af67c9fb\",\"type\":\"Selection\"},{\"attributes\":{\"active_drag\":\"auto\",\"active_inspect\":\"auto\",\"active_scroll\":\"auto\",\"active_tap\":\"auto\",\"tools\":[{\"id\":\"6f7217fd-f27f-457f-8936-cd77c6aeee3e\",\"type\":\"PanTool\"},{\"id\":\"b17d79f4-20cd-46e6-9c74-a7d1b06d2eb9\",\"type\":\"WheelZoomTool\"},{\"id\":\"4ba1181f-8b47-4fb6-896c-3ed7a47bc8a4\",\"type\":\"BoxZoomTool\"},{\"id\":\"59c1d776-d10a-47ee-ae42-495fad9baf14\",\"type\":\"SaveTool\"},{\"id\":\"b93651ec-9df9-490d-9b60-bff0dc49545e\",\"type\":\"ResetTool\"},{\"id\":\"0c66d029-f95b-4684-80d0-bd8a1782bc6b\",\"type\":\"HelpTool\"}]},\"id\":\"1a0f653f-e1b4-47a6-97f2-cec9fd2eb79e\",\"type\":\"Toolbar\"},{\"attributes\":{\"items\":[{\"id\":\"c584c362-edb3-4952-a029-de66a80966b1\",\"type\":\"LegendItem\"},{\"id\":\"5c1d7bd5-c7f9-4a61-8eaa-1f12c45fc57a\",\"type\":\"LegendItem\"},{\"id\":\"e0f8658a-3d64-4bf6-a233-c3fc3c97d6c6\",\"type\":\"LegendItem\"}],\"label_text_font_size\":{\"value\":\"8pt\"},\"location\":\"top_center\",\"orientation\":\"horizontal\",\"plot\":{\"id\":\"fcc24085-8bd0-45fe-9fb1-3573b47acb06\",\"subtype\":\"Figure\",\"type\":\"Plot\"}},\"id\":\"d380985b-6770-4bb0-81b2-951bffc8f0e6\",\"type\":\"Legend\"},{\"attributes\":{\"source\":{\"id\":\"7b380423-339c-4ef5-b073-c071d9175a76\",\"type\":\"ColumnDataSource\"}},\"id\":\"5ec20885-893e-49c8-b511-5006e1fa2575\",\"type\":\"CDSView\"},{\"attributes\":{\"data_source\":{\"id\":\"35140454-45a7-469e-aa89-2af46a100aca\",\"type\":\"ColumnDataSource\"},\"glyph\":{\"id\":\"67533cc0-d78f-4766-9950-7c65a81105c7\",\"type\":\"Line\"},\"hover_glyph\":null,\"muted_glyph\":null,\"nonselection_glyph\":{\"id\":\"dcdb63a1-9910-4d32-9505-6221f233e661\",\"type\":\"Line\"},\"selection_glyph\":null,\"view\":{\"id\":\"6c33a35e-9a5f-4cc7-ac93-4ea716df1102\",\"type\":\"CDSView\"}},\"id\":\"9a3747d0-6150-4f8c-a6ae-166a96e77304\",\"type\":\"GlyphRenderer\"},{\"attributes\":{\"items\":[{\"id\":\"14d10924-231d-4172-a30f-e632a0b39f8d\",\"type\":\"LegendItem\"},{\"id\":\"30cc7e60-0fa9-4e8d-8082-1ac92861be90\",\"type\":\"LegendItem\"},{\"id\":\"1b20f562-17f0-4bdb-a91e-6443f38d9be7\",\"type\":\"LegendItem\"}],\"label_text_font_size\":{\"value\":\"8pt\"},\"location\":\"top_center\",\"orientation\":\"horizontal\",\"plot\":{\"id\":\"ec176c1d-9db9-48dd-a998-bb2a9a3d789a\",\"subtype\":\"Figure\",\"type\":\"Plot\"}},\"id\":\"789aad28-af1f-4241-954b-560474bf2fcc\",\"type\":\"Legend\"},{\"attributes\":{\"callback\":null,\"end\":14.02928377009,\"start\":-15.151674899090004},\"id\":\"c71c7f19-b691-4839-9f8b-e19db63119e8\",\"type\":\"Range1d\"},{\"attributes\":{\"callback\":null,\"data\":{\"x\":{\"__ndarray__\":\"QEr14GpmEsDQUQomvS0TwECOLtAVRQnAyG4E7w1kFUAwCG6K07rzP2jG3ETKaAVAIDSvE8+a1D84WLw0a3bwP8B2CVgEGd6/gAEb8SXj5T+gXWifLPzZv1BIY1h4OdU/gFTeaCAF0r/AU/RFxYvAP0h4oPen7Ly/wKOQ+b0VoD/gKRbxqoK7vwA09+KM5nu/QBvKVo2Xv78AEqWWOp7Ov3BzIslj9ti/gApK0VUU37/gyd0OWm7ov0D75ws5Mua/wIc6h4XW3r+Q48y885XWvwB/tLThVLC/IP++3wZjwr+A8gVsXEm9vwDRmm/daKO/gI3nfaiUkj/AQE7cYBOdv+BkMo6PXa2/AKoyxVLtcD9A4+/aVS+Av6A9GyNwb46/cNIdfcBUiz8AHIdAy8FcP5BuzJoOMok/b2ce0np0pD8UEyzBK56QP8Beg9VHjZ+/gPKVd3D5n7+AD/jI4QOjv8DcwbQ4Uai/AG61+C87or/ASYzDVZqev2D75C8ty6C/ANT1m/xjlb9Ar8iri82Xv0BrLlVYt5W/ABSboWSMa78ghb8UGtelv0BWMP2VTZ2/AMakubnjcr+ACh1oBKqKv0CiEj/MA5G/AADjcuinMj/Ajj/XEoCaPwDwRGmfKYS/AAyIEFfOZj8AItboev6lP1AvBF6BP7c/QN1dRRBwqj9ACvj956WkP8BM5jLOU7A/kB8XOk4Itz8Ay8mloMS8P8Bl77ruFZ4/QHOrAh4hnz8g3sjPVdmmP/C+80esF7A/gAETBSmitD+gbg0US524P7C02mPse7E/\",\"dtype\":\"float64\",\"shape\":[75]},\"y\":{\"__ndarray__\":\"GhExyth1ND/Sv8nbtpRIP2vylNV0PVE/aTum7souWD/At0SJ8fVgPw3Iuahxymc/MSNhhJWvcD/bTfBN02d3P2zb5nxnaoA/CD5h5MAGhz8NmeH1TyaQP+zrCsc9p5Y/LbKd76fGnz/bLW5ISEmmPww9YvTcQq8/JV2OstnstT8Er5Y7M8G+P0c+r3jqkcU/5h99k6ZBzj88bCIzFzjVP4enV8oyxN0//yH99nXg5D8qOpLLf0jtP5kqGJXUifQ/c9cS8kHP/D+/DpwzojQEQIEmwoanVwxA4lgXt9HgE0BSSZ2AJuIbQAMJih9jjiNA5q4l5INuK0AwTKYKRj0zQNv5fmq8/DpAaCJseHrtQkB/+zpwzoxKQM3MzMzMeFJAZmZmZmZqWEAAAAAAAFxeQM3MzMzMJmJAmpmZmZkfZUBmZmZmZhhoQDMzMzMzEWtAAAAAAAAKbkBmZmZmZoFwQM3MzMzM/XFAMzMzMzN6c0CamZmZmfZ0QAAAAAAAc3ZAZmZmZmbvd0DNzMzMzGt5QDMzMzMz6HpAmpmZmZlkfEAAAAAAAOF9QGZmZmZmXX9AZmZmZuZsgECamZmZGSuBQM3MzMxM6YFAAAAAAICngkAzMzMzs2WDQGZmZmbmI4RAmpmZmRnihEDNzMzMTKCFQAAAAACAXoZAMzMzM7Mch0BmZmZm5tqHQJqZmZkZmYhAzczMzExXiUAAAAAAgBWKQDMzMzOz04pAZmZmZuaRi0CamZmZGVCMQM3MzMxMDo1AAAAAAIDMjUAzMzMzs4qOQGZmZmbmSI9A\",\"dtype\":\"float64\",\"shape\":[75]}},\"selected\":{\"id\":\"3820b125-87dd-4f17-be54-d89562c84d0a\",\"type\":\"Selection\"},\"selection_policy\":{\"id\":\"b4cb3048-0d7b-4dd3-808d-b6bba352539d\",\"type\":\"UnionRenderers\"}},\"id\":\"7b380423-339c-4ef5-b073-c071d9175a76\",\"type\":\"ColumnDataSource\"},{\"attributes\":{\"callback\":null,\"data\":{\"x\":{\"__ndarray__\":\"sPNoLVUWRMCcW08foaggwBGEs9HRWwLASjme7vfp/D8IvYiIhHUOQGCzEsL62Q5AgyvKUjksBEBVAqijXWDlPx9vshLEd+m/gBl43C629b9d8V/QwWbxv89oEyPhlN6/Xy/web73sj8BTdfvzlHaPwT1hALqzd8/9M16p7IK1T/PPSti1juqP9KBpl9de86/wAg/0V+B3r9bGNJzxdrev2mAtcP0us2/BGqpTognrD98od4Lck6ZP0woHypKgcu/jdf8mBsW0L9AUtKy/CaxPzZJ6gUtHOE/i9eyt8LS4D/BLENqJfzQPx7g3AduBss/hvNM1jbv3T8xkO/p5Z3hP+XS5/pSNNg/G4BFf7vqyz9aF6Nb22zRP9wqupDuqdQ/EzoAdlgPzz9UkjcF4CbEP3CS/rwNsrw/l7drFwL/tj/+RFwacTq3P8hcR0JIHL0/GF8OXS9GwT/2cfDoh9nJP4VKAkn4xss/NHpRClKKIkBNtKvvnjcaQFFftSR8h+m/1B1cooCKGkBUGwklrZ/vv7LW/RqNYiVAd8BQrtWlMMBRoisexSABwHKbARJzp/6/Fz0TmaAo/L+5QqP2RS/6v3klKzD0lfi/okoJr+0L+L9Reynsuln3v80QW7FwP/a/6cPsin3T9L/heoUnKirzv+q22dtTXfG/lciyZ+XD7r/cCMIPcnnqv4hJX9j/uOS/DR3TxE95KEB+/Kr+NtvpP0M5GanzgPS/FRASXs0t/b9VXVB3T+L0vzPrDN26MvK/q1bi3lVj8L8q+F5dxBDuv+RAm15aG+y/\",\"dtype\":\"float64\",\"shape\":[75]},\"y\":{\"__ndarray__\":\"GhExyth1ND/Sv8nbtpRIP2vylNV0PVE/aTum7souWD/At0SJ8fVgPw3Iuahxymc/MSNhhJWvcD/bTfBN02d3P2zb5nxnaoA/CD5h5MAGhz8NmeH1TyaQP+zrCsc9p5Y/LbKd76fGnz/bLW5ISEmmPww9YvTcQq8/JV2OstnstT8Er5Y7M8G+P0c+r3jqkcU/5h99k6ZBzj88bCIzFzjVP4enV8oyxN0//yH99nXg5D8qOpLLf0jtP5kqGJXUifQ/c9cS8kHP/D+/DpwzojQEQIEmwoanVwxA4lgXt9HgE0BSSZ2AJuIbQAMJih9jjiNA5q4l5INuK0AwTKYKRj0zQNv5fmq8/DpAaCJseHrtQkB/+zpwzoxKQM3MzMzMeFJAZmZmZmZqWEAAAAAAAFxeQM3MzMzMJmJAmpmZmZkfZUBmZmZmZhhoQDMzMzMzEWtAAAAAAAAKbkBmZmZmZoFwQM3MzMzM/XFAMzMzMzN6c0CamZmZmfZ0QAAAAAAAc3ZAZmZmZmbvd0DNzMzMzGt5QDMzMzMz6HpAmpmZmZlkfEAAAAAAAOF9QGZmZmZmXX9AZmZmZuZsgECamZmZGSuBQM3MzMxM6YFAAAAAAICngkAzMzMzs2WDQGZmZmbmI4RAmpmZmRnihEDNzMzMTKCFQAAAAACAXoZAMzMzM7Mch0BmZmZm5tqHQJqZmZkZmYhAzczMzExXiUAAAAAAgBWKQDMzMzOz04pAZmZmZuaRi0CamZmZGVCMQM3MzMxMDo1AAAAAAIDMjUAzMzMzs4qOQGZmZmbmSI9A\",\"dtype\":\"float64\",\"shape\":[75]}},\"selected\":{\"id\":\"53587a4e-a346-4ded-bff8-c12940582080\",\"type\":\"Selection\"},\"selection_policy\":{\"id\":\"c41d0c3e-6c1c-4a73-84ae-e9af8565a877\",\"type\":\"UnionRenderers\"}},\"id\":\"35140454-45a7-469e-aa89-2af46a100aca\",\"type\":\"ColumnDataSource\"},{\"attributes\":{},\"id\":\"b9e5f2f9-b1d0-4440-8f0c-3281ec7272e1\",\"type\":\"Selection\"},{\"attributes\":{\"children\":[{\"id\":\"06019808-2146-4a10-b896-e4e58e4940a7\",\"type\":\"Row\"}]},\"id\":\"b66b2c26-e891-48d0-9eec-375576c0477d\",\"type\":\"Column\"},{\"attributes\":{},\"id\":\"fa0ca37a-423d-4a6a-a658-f0ad58485cd8\",\"type\":\"UnionRenderers\"},{\"attributes\":{\"line_alpha\":0.1,\"line_color\":\"#1f77b4\",\"line_width\":1.5,\"x\":{\"field\":\"x\"},\"y\":{\"field\":\"y\"}},\"id\":\"dcdb63a1-9910-4d32-9505-6221f233e661\",\"type\":\"Line\"},{\"attributes\":{},\"id\":\"53a9931e-bb9a-480b-adab-92faa7c16177\",\"type\":\"UnionRenderers\"},{\"attributes\":{\"line_alpha\":0.5,\"line_color\":\"#377eb8\",\"line_dash\":[6],\"line_width\":4,\"x\":{\"field\":\"x\"},\"y\":{\"field\":\"y\"}},\"id\":\"78b43e30-add6-41b3-b990-a3ebfd433e52\",\"type\":\"Line\"},{\"attributes\":{\"axis_label\":\"pressure [mb]\",\"formatter\":{\"id\":\"3f647637-83d0-4243-81fc-1f9e94e1bd4a\",\"type\":\"LogTickFormatter\"},\"plot\":{\"id\":\"4092a4ef-f3c3-4475-bddc-fa51d9ff8c82\",\"subtype\":\"Figure\",\"type\":\"Plot\"},\"ticker\":{\"id\":\"403a61c4-5168-4239-a155-326a88c7cf34\",\"type\":\"LogTicker\"}},\"id\":\"3dd8395b-ad09-487c-8515-3684fe450797\",\"type\":\"LogAxis\"},{\"attributes\":{\"plot\":null,\"text\":\"\"},\"id\":\"2e7ea0fb-9850-4594-9451-b481d54329b0\",\"type\":\"Title\"},{\"attributes\":{\"plot\":null,\"text\":\"\"},\"id\":\"204e3c7c-a1e4-4c78-a868-78851b9b749d\",\"type\":\"Title\"},{\"attributes\":{\"ticker\":null},\"id\":\"3f647637-83d0-4243-81fc-1f9e94e1bd4a\",\"type\":\"LogTickFormatter\"},{\"attributes\":{},\"id\":\"b4cb3048-0d7b-4dd3-808d-b6bba352539d\",\"type\":\"UnionRenderers\"},{\"attributes\":{},\"id\":\"1e0288d4-63da-4965-80f8-c3cfb0cbe7fb\",\"type\":\"LogScale\"},{\"attributes\":{},\"id\":\"461ae7cd-851e-40fe-9e28-442df442720d\",\"type\":\"LinearScale\"},{\"attributes\":{\"fill_alpha\":{\"value\":0.1},\"fill_color\":{\"value\":\"#1f77b4\"},\"line_alpha\":{\"value\":0.1},\"line_color\":{\"value\":\"#1f77b4\"},\"x\":{\"field\":\"x\"},\"y\":{\"field\":\"y\"}},\"id\":\"a05e727e-bf35-4a57-bc73-23ff1b4b1fb0\",\"type\":\"Circle\"},{\"attributes\":{\"toolbar\":{\"id\":\"0d88e141-4911-44d2-88cf-5a5dd56b2cb4\",\"type\":\"ProxyToolbar\"},\"toolbar_location\":\"above\"},\"id\":\"e2bdd256-480f-479a-94b5-a44adf474124\",\"type\":\"ToolbarBox\"},{\"attributes\":{\"callback\":null,\"data\":{\"x\":{\"__ndarray__\":\"cm1sTMT3VEDEyvjosEJHQOKI6DjzCUNArgQWV9awPkB9Lm8XG3M4QEz+Qv6iYzNA7eV8HaPLLkCX1QHyTpMoQFBmYSYetiNAUB04GtGpH0AmFyVE5j8ZQJca9QPGqBNALJP+OOHHDEBNxaf7QF8AQKtislomWuw/cW2dcO6A9T/uJJvfPu0EQIaQLTI/JQ1AxGiII+PmEkCJvfVeuCsYQD6ZBhGbHB9AXQw69DTYJEAsubcwKucqQNuT9D5OmipAJyi3szEJJUBlNebh5WkgQDDcPHBr2xlArtlANXuQFEBdJadFHckQQI2Avh0ZsQtAjYiwt1rsBUCL0SDoVBgAQK6C0nEEjvc/CggLSme58T9sXU2orFPnP0v0JYz9Gdg/vT38vxYczD9nBQTe6kHHP1IhkEXJwKo/8OZnhCVAub+xtVgCpmqzP6DUpY6g0+k/PKK3T1h4+D8RTDjQc1EAQG/dAQs7TwJAQt2eHpPLAEBWEh074x//PyCap9ZSGf4/rEzaTySm/T+7aXhHRmr9P688KeqeNP0/ruZ4EemD/D8olrZcn9T7P0+vNc9hW/s/i9VVL+4P+z+0NzC24uz6P8731Kza8vo/xFf4SHzq+z+gYyHpvHb8P68ROkiFevw/BAjYdCga/D8AUp8VbW77P3JrF/nKmvo/qCQeGfq++T/dplwHJfn4P2G4p+Uva/g/OzZ0RqMZ+D8dmn/iar73P/OuA7Ka8PY/gaaeQHGn9T9hkyjAH1L0P3aZGhdAU/M/n8VP/g7P8j+90HxHNvfyPwhNBtgrqvk/\",\"dtype\":\"float64\",\"shape\":[75]},\"y\":{\"__ndarray__\":\"GhExyth1ND/Sv8nbtpRIP2vylNV0PVE/aTum7souWD/At0SJ8fVgPw3Iuahxymc/MSNhhJWvcD/bTfBN02d3P2zb5nxnaoA/CD5h5MAGhz8NmeH1TyaQP+zrCsc9p5Y/LbKd76fGnz/bLW5ISEmmPww9YvTcQq8/JV2OstnstT8Er5Y7M8G+P0c+r3jqkcU/5h99k6ZBzj88bCIzFzjVP4enV8oyxN0//yH99nXg5D8qOpLLf0jtP5kqGJXUifQ/c9cS8kHP/D+/DpwzojQEQIEmwoanVwxA4lgXt9HgE0BSSZ2AJuIbQAMJih9jjiNA5q4l5INuK0AwTKYKRj0zQNv5fmq8/DpAaCJseHrtQkB/+zpwzoxKQM3MzMzMeFJAZmZmZmZqWEAAAAAAAFxeQM3MzMzMJmJAmpmZmZkfZUBmZmZmZhhoQDMzMzMzEWtAAAAAAAAKbkBmZmZmZoFwQM3MzMzM/XFAMzMzMzN6c0CamZmZmfZ0QAAAAAAAc3ZAZmZmZmbvd0DNzMzMzGt5QDMzMzMz6HpAmpmZmZlkfEAAAAAAAOF9QGZmZmZmXX9AZmZmZuZsgECamZmZGSuBQM3MzMxM6YFAAAAAAICngkAzMzMzs2WDQGZmZmbmI4RAmpmZmRnihEDNzMzMTKCFQAAAAACAXoZAMzMzM7Mch0BmZmZm5tqHQJqZmZkZmYhAzczMzExXiUAAAAAAgBWKQDMzMzOz04pAZmZmZuaRi0CamZmZGVCMQM3MzMxMDo1AAAAAAIDMjUAzMzMzs4qOQGZmZmbmSI9A\",\"dtype\":\"float64\",\"shape\":[75]}},\"selected\":{\"id\":\"1c978916-d233-4268-9342-b470b41197d9\",\"type\":\"Selection\"},\"selection_policy\":{\"id\":\"0e683f41-c24e-49d7-9057-8fce3d0f23c5\",\"type\":\"UnionRenderers\"}},\"id\":\"977f8d54-2116-4dc0-b3b1-db0bd6ce9d07\",\"type\":\"ColumnDataSource\"},{\"attributes\":{\"label\":{\"value\":\"CRD\"},\"renderers\":[{\"id\":\"f4bb3b30-d272-47f3-bb63-d33bd4dcccb9\",\"type\":\"GlyphRenderer\"},{\"id\":\"759f3603-49a1-4124-b433-f30e20b0b981\",\"type\":\"GlyphRenderer\"}]},\"id\":\"5c1d7bd5-c7f9-4a61-8eaa-1f12c45fc57a\",\"type\":\"LegendItem\"},{\"attributes\":{\"fill_alpha\":{\"value\":0.1},\"fill_color\":{\"value\":\"#1f77b4\"},\"line_alpha\":{\"value\":0.1},\"line_color\":{\"value\":\"#1f77b4\"},\"x\":{\"field\":\"x\"},\"y\":{\"field\":\"y\"}},\"id\":\"28031631-2670-4b1a-ae8c-608e08c6a834\",\"type\":\"Circle\"},{\"attributes\":{\"children\":[{\"id\":\"e2bdd256-480f-479a-94b5-a44adf474124\",\"type\":\"ToolbarBox\"},{\"id\":\"b66b2c26-e891-48d0-9eec-375576c0477d\",\"type\":\"Column\"}]},\"id\":\"ad73dfdf-1972-4549-8aaf-8623f9c4017f\",\"type\":\"Column\"},{\"attributes\":{\"above\":[{\"id\":\"789aad28-af1f-4241-954b-560474bf2fcc\",\"type\":\"Legend\"}],\"below\":[{\"id\":\"ccf47517-0f84-4897-a22a-7576484cbcbd\",\"type\":\"LinearAxis\"}],\"left\":[{\"id\":\"066b3aa3-838e-4e60-a5d6-61779543837b\",\"type\":\"LinearAxis\"}],\"plot_width\":300,\"renderers\":[{\"id\":\"ccf47517-0f84-4897-a22a-7576484cbcbd\",\"type\":\"LinearAxis\"},{\"id\":\"c361926f-d1de-4c37-af03-3facbffe4cff\",\"type\":\"Grid\"},{\"id\":\"066b3aa3-838e-4e60-a5d6-61779543837b\",\"type\":\"LinearAxis\"},{\"id\":\"affd19b4-2132-40d2-b854-243da7abeacc\",\"type\":\"Grid\"},{\"id\":\"fb31ff81-c9b7-4e74-b461-43a63b427a60\",\"type\":\"BoxAnnotation\"},{\"id\":\"c831bf9b-e079-4ca3-ad58-c5b47fe856b3\",\"type\":\"GlyphRenderer\"},{\"id\":\"aa464cdf-4e3a-4227-8484-472aa82455da\",\"type\":\"GlyphRenderer\"},{\"id\":\"506a4922-83ff-4f0f-9566-7b9de3c0efb8\",\"type\":\"GlyphRenderer\"},{\"id\":\"3a2b0c90-8a24-4cba-9f91-ac3960702c9c\",\"type\":\"GlyphRenderer\"},{\"id\":\"f6369133-86bb-451f-9503-275e5bb99169\",\"type\":\"GlyphRenderer\"},{\"id\":\"789aad28-af1f-4241-954b-560474bf2fcc\",\"type\":\"Legend\"}],\"title\":{\"id\":\"204e3c7c-a1e4-4c78-a868-78851b9b749d\",\"type\":\"Title\"},\"toolbar\":{\"id\":\"1a0f653f-e1b4-47a6-97f2-cec9fd2eb79e\",\"type\":\"Toolbar\"},\"toolbar_location\":null,\"x_range\":{\"id\":\"c71c7f19-b691-4839-9f8b-e19db63119e8\",\"type\":\"Range1d\"},\"x_scale\":{\"id\":\"be8602dd-621f-4dc4-aca9-085c8189624a\",\"type\":\"LinearScale\"},\"y_range\":{\"id\":\"8d5ae3b1-d9aa-4740-ae09-1c6a5396f910\",\"type\":\"Range1d\"},\"y_scale\":{\"id\":\"fe7ef73a-a2ff-4dc3-9f1d-ebffa12783b1\",\"type\":\"LinearScale\"}},\"id\":\"ec176c1d-9db9-48dd-a998-bb2a9a3d789a\",\"subtype\":\"Figure\",\"type\":\"Plot\"},{\"attributes\":{\"overlay\":{\"id\":\"341fd2ac-bd0b-4d9f-8ce7-0950e7049f01\",\"type\":\"BoxAnnotation\"}},\"id\":\"d2d35bbe-dd60-4644-953d-b2d78b9656c4\",\"type\":\"BoxZoomTool\"},{\"attributes\":{},\"id\":\"6f4cceff-7d7c-4ceb-a4fa-ed3e348ef03b\",\"type\":\"BasicTicker\"},{\"attributes\":{},\"id\":\"0b628a78-a52f-4669-b312-dea91542010f\",\"type\":\"Selection\"},{\"attributes\":{\"callback\":null,\"data\":{\"x\":{\"__ndarray__\":\"cm1sTMT3VEDEyvjosEJHQOKI6DjzCUNArgQWV9awPkB9Lm8XG3M4QEz+Qv6iYzNA7eV8HaPLLkCX1QHyTpMoQFBmYSYetiNAUB04GtGpH0AmFyVE5j8ZQJca9QPGqBNALJP+OOHHDEBNxaf7QF8AQKtislomWuw/cW2dcO6A9T/uJJvfPu0EQIaQLTI/JQ1AxGiII+PmEkCJvfVeuCsYQD6ZBhGbHB9AXQw69DTYJEAsubcwKucqQNuT9D5OmipAJyi3szEJJUBlNebh5WkgQDDcPHBr2xlArtlANXuQFEBdJadFHckQQI2Avh0ZsQtAjYiwt1rsBUCL0SDoVBgAQK6C0nEEjvc/CggLSme58T9sXU2orFPnP0v0JYz9Gdg/vT38vxYczD9nBQTe6kHHP1IhkEXJwKo/8OZnhCVAub+xtVgCpmqzP6DUpY6g0+k/PKK3T1h4+D8RTDjQc1EAQG/dAQs7TwJAQt2eHpPLAEBWEh074x//PyCap9ZSGf4/rEzaTySm/T+7aXhHRmr9P688KeqeNP0/ruZ4EemD/D8olrZcn9T7P0+vNc9hW/s/i9VVL+4P+z+0NzC24uz6P8731Kza8vo/xFf4SHzq+z+gYyHpvHb8P68ROkiFevw/BAjYdCga/D8AUp8VbW77P3JrF/nKmvo/qCQeGfq++T/dplwHJfn4P2G4p+Uva/g/OzZ0RqMZ+D8dmn/iar73P/OuA7Ka8PY/gaaeQHGn9T9hkyjAH1L0P3aZGhdAU/M/n8VP/g7P8j+90HxHNvfyPwhNBtgrqvk/\",\"dtype\":\"float64\",\"shape\":[75]},\"y\":{\"__ndarray__\":\"GhExyth1ND/Sv8nbtpRIP2vylNV0PVE/aTum7souWD/At0SJ8fVgPw3Iuahxymc/MSNhhJWvcD/bTfBN02d3P2zb5nxnaoA/CD5h5MAGhz8NmeH1TyaQP+zrCsc9p5Y/LbKd76fGnz/bLW5ISEmmPww9YvTcQq8/JV2OstnstT8Er5Y7M8G+P0c+r3jqkcU/5h99k6ZBzj88bCIzFzjVP4enV8oyxN0//yH99nXg5D8qOpLLf0jtP5kqGJXUifQ/c9cS8kHP/D+/DpwzojQEQIEmwoanVwxA4lgXt9HgE0BSSZ2AJuIbQAMJih9jjiNA5q4l5INuK0AwTKYKRj0zQNv5fmq8/DpAaCJseHrtQkB/+zpwzoxKQM3MzMzMeFJAZmZmZmZqWEAAAAAAAFxeQM3MzMzMJmJAmpmZmZkfZUBmZmZmZhhoQDMzMzMzEWtAAAAAAAAKbkBmZmZmZoFwQM3MzMzM/XFAMzMzMzN6c0CamZmZmfZ0QAAAAAAAc3ZAZmZmZmbvd0DNzMzMzGt5QDMzMzMz6HpAmpmZmZlkfEAAAAAAAOF9QGZmZmZmXX9AZmZmZuZsgECamZmZGSuBQM3MzMxM6YFAAAAAAICngkAzMzMzs2WDQGZmZmbmI4RAmpmZmRnihEDNzMzMTKCFQAAAAACAXoZAMzMzM7Mch0BmZmZm5tqHQJqZmZkZmYhAzczMzExXiUAAAAAAgBWKQDMzMzOz04pAZmZmZuaRi0CamZmZGVCMQM3MzMxMDo1AAAAAAIDMjUAzMzMzs4qOQGZmZmbmSI9A\",\"dtype\":\"float64\",\"shape\":[75]}},\"selected\":{\"id\":\"b9bbf400-e1a4-4cb3-b2ae-800266d14daf\",\"type\":\"Selection\"},\"selection_policy\":{\"id\":\"f03363bf-ad42-4759-95a4-083f7613131f\",\"type\":\"UnionRenderers\"}},\"id\":\"cb60c218-2a6a-4a4e-9b46-466e71187b3f\",\"type\":\"ColumnDataSource\"},{\"attributes\":{},\"id\":\"dc0e2565-0903-48db-a8eb-c35c0a35b65b\",\"type\":\"HelpTool\"},{\"attributes\":{},\"id\":\"21a28d18-97bc-42c7-854a-799b6b0bd49d\",\"type\":\"LinearScale\"},{\"attributes\":{},\"id\":\"621bed5a-90eb-4139-9357-a06413d9cf58\",\"type\":\"LogScale\"},{\"attributes\":{\"tools\":[{\"id\":\"6f7217fd-f27f-457f-8936-cd77c6aeee3e\",\"type\":\"PanTool\"},{\"id\":\"b17d79f4-20cd-46e6-9c74-a7d1b06d2eb9\",\"type\":\"WheelZoomTool\"},{\"id\":\"4ba1181f-8b47-4fb6-896c-3ed7a47bc8a4\",\"type\":\"BoxZoomTool\"},{\"id\":\"59c1d776-d10a-47ee-ae42-495fad9baf14\",\"type\":\"SaveTool\"},{\"id\":\"b93651ec-9df9-490d-9b60-bff0dc49545e\",\"type\":\"ResetTool\"},{\"id\":\"0c66d029-f95b-4684-80d0-bd8a1782bc6b\",\"type\":\"HelpTool\"},{\"id\":\"75778c73-0661-4c7a-97a2-eaea13c42af4\",\"type\":\"PanTool\"},{\"id\":\"4f1eb0c9-638d-4bb1-b30e-7fb7de23739b\",\"type\":\"WheelZoomTool\"},{\"id\":\"82f27147-4ffb-4b3c-bf9b-34dfd878ff55\",\"type\":\"BoxZoomTool\"},{\"id\":\"9a2618c8-6b57-460b-b481-be0a118982a8\",\"type\":\"SaveTool\"},{\"id\":\"966b9b1e-aca1-41a0-8f42-a33f45174053\",\"type\":\"ResetTool\"},{\"id\":\"67d45f7c-4cd5-4577-b0d1-357ede2c0eca\",\"type\":\"HelpTool\"},{\"id\":\"88cd287b-df91-43a3-97ef-e285e1c681d4\",\"type\":\"PanTool\"},{\"id\":\"de7d929a-83a0-483d-be14-a98cd90c35c5\",\"type\":\"WheelZoomTool\"},{\"id\":\"d2d35bbe-dd60-4644-953d-b2d78b9656c4\",\"type\":\"BoxZoomTool\"},{\"id\":\"194de456-4502-4397-8f2b-6a34089dca27\",\"type\":\"SaveTool\"},{\"id\":\"10fd8451-983f-4469-bbb1-946218989602\",\"type\":\"ResetTool\"},{\"id\":\"dc0e2565-0903-48db-a8eb-c35c0a35b65b\",\"type\":\"HelpTool\"}]},\"id\":\"0d88e141-4911-44d2-88cf-5a5dd56b2cb4\",\"type\":\"ProxyToolbar\"},{\"attributes\":{\"plot\":{\"id\":\"fcc24085-8bd0-45fe-9fb1-3573b47acb06\",\"subtype\":\"Figure\",\"type\":\"Plot\"},\"ticker\":{\"id\":\"b07684b6-9055-42f9-8645-cda1ce6dbf37\",\"type\":\"BasicTicker\"}},\"id\":\"9c8ebbb2-dda9-4fb5-9520-5d3944803880\",\"type\":\"Grid\"},{\"attributes\":{\"source\":{\"id\":\"5d2fe5d9-4246-4c28-8faf-5be7dda4e636\",\"type\":\"ColumnDataSource\"}},\"id\":\"a3a8cc22-55af-41c3-97cb-8155baac2810\",\"type\":\"CDSView\"},{\"attributes\":{},\"id\":\"b07684b6-9055-42f9-8645-cda1ce6dbf37\",\"type\":\"BasicTicker\"},{\"attributes\":{},\"id\":\"b9bbf400-e1a4-4cb3-b2ae-800266d14daf\",\"type\":\"Selection\"},{\"attributes\":{\"callback\":null,\"end\":13.6119554909648,\"start\":-0.23438346988480005},\"id\":\"b20641f0-af22-4045-9978-9924b428767c\",\"type\":\"Range1d\"},{\"attributes\":{\"line_alpha\":0.6,\"line_color\":\"#377eb8\",\"line_dash\":[6],\"line_width\":5,\"x\":{\"field\":\"x\"},\"y\":{\"field\":\"y\"}},\"id\":\"2a19d89d-e821-45bc-a140-1f5856d91f78\",\"type\":\"Line\"},{\"attributes\":{\"fill_alpha\":{\"value\":0.7},\"fill_color\":{\"value\":\"#984ea3\"},\"line_alpha\":{\"value\":0.7},\"line_color\":{\"value\":\"#984ea3\"},\"x\":{\"field\":\"x\"},\"y\":{\"field\":\"y\"}},\"id\":\"43998810-d819-4ccb-a2eb-41298f7f97c9\",\"type\":\"Circle\"},{\"attributes\":{},\"id\":\"c94b6fd9-b699-479b-a04b-d4a93b028fab\",\"type\":\"BasicTickFormatter\"},{\"attributes\":{\"fill_alpha\":{\"value\":0.7},\"fill_color\":{\"value\":\"#4daf4a\"},\"line_alpha\":{\"value\":0.7},\"line_color\":{\"value\":\"#4daf4a\"},\"x\":{\"field\":\"x\"},\"y\":{\"field\":\"y\"}},\"id\":\"be47567d-f0a9-4364-ad99-7f282f18a76a\",\"type\":\"Circle\"},{\"attributes\":{\"axis_label\":\"pressure [mb]\",\"formatter\":{\"id\":\"4d0d27c9-e036-433f-913a-c01a02ba33c8\",\"type\":\"LogTickFormatter\"},\"plot\":{\"id\":\"fcc24085-8bd0-45fe-9fb1-3573b47acb06\",\"subtype\":\"Figure\",\"type\":\"Plot\"},\"ticker\":{\"id\":\"720764cc-5d4e-4fc4-a2d5-b57b6195689e\",\"type\":\"LogTicker\"}},\"id\":\"20370095-8487-408f-a25d-3ee536a3f16d\",\"type\":\"LogAxis\"},{\"attributes\":{\"data_source\":{\"id\":\"977f8d54-2116-4dc0-b3b1-db0bd6ce9d07\",\"type\":\"ColumnDataSource\"},\"glyph\":{\"id\":\"be47567d-f0a9-4364-ad99-7f282f18a76a\",\"type\":\"Circle\"},\"hover_glyph\":null,\"muted_glyph\":null,\"nonselection_glyph\":{\"id\":\"a05e727e-bf35-4a57-bc73-23ff1b4b1fb0\",\"type\":\"Circle\"},\"selection_glyph\":null,\"view\":{\"id\":\"851a9bcd-e068-4214-8de3-64f0dde329d9\",\"type\":\"CDSView\"}},\"id\":\"aa464cdf-4e3a-4227-8484-472aa82455da\",\"type\":\"GlyphRenderer\"},{\"attributes\":{\"bottom_units\":\"screen\",\"fill_alpha\":{\"value\":0.5},\"fill_color\":{\"value\":\"lightgrey\"},\"left_units\":\"screen\",\"level\":\"overlay\",\"line_alpha\":{\"value\":1.0},\"line_color\":{\"value\":\"black\"},\"line_dash\":[4,4],\"line_width\":{\"value\":2},\"plot\":null,\"render_mode\":\"css\",\"right_units\":\"screen\",\"top_units\":\"screen\"},\"id\":\"341fd2ac-bd0b-4d9f-8ce7-0950e7049f01\",\"type\":\"BoxAnnotation\"},{\"attributes\":{\"dimension\":1,\"plot\":{\"id\":\"ec176c1d-9db9-48dd-a998-bb2a9a3d789a\",\"subtype\":\"Figure\",\"type\":\"Plot\"},\"ticker\":{\"id\":\"dcf747cd-ad13-4195-9395-11f6f5086ae5\",\"type\":\"BasicTicker\"}},\"id\":\"affd19b4-2132-40d2-b854-243da7abeacc\",\"type\":\"Grid\"},{\"attributes\":{\"source\":{\"id\":\"977f8d54-2116-4dc0-b3b1-db0bd6ce9d07\",\"type\":\"ColumnDataSource\"}},\"id\":\"851a9bcd-e068-4214-8de3-64f0dde329d9\",\"type\":\"CDSView\"},{\"attributes\":{},\"id\":\"f03363bf-ad42-4759-95a4-083f7613131f\",\"type\":\"UnionRenderers\"},{\"attributes\":{},\"id\":\"10fd8451-983f-4469-bbb1-946218989602\",\"type\":\"ResetTool\"},{\"attributes\":{},\"id\":\"194de456-4502-4397-8f2b-6a34089dca27\",\"type\":\"SaveTool\"},{\"attributes\":{\"callback\":null,\"end\":0.7043876163771923,\"start\":-1.377387847450964},\"id\":\"efdd1e2e-d51f-4d19-845d-7ef80c2f1acc\",\"type\":\"Range1d\"},{\"attributes\":{\"label\":{\"value\":\"old CLIRAD (H2012)\"},\"renderers\":[{\"id\":\"0ebf0dd5-4698-4301-b88b-f183960b2f0e\",\"type\":\"GlyphRenderer\"},{\"id\":\"0c9140a4-1c1e-48fc-911b-847606188362\",\"type\":\"GlyphRenderer\"}]},\"id\":\"e0f8658a-3d64-4bf6-a233-c3fc3c97d6c6\",\"type\":\"LegendItem\"},{\"attributes\":{\"axis_label\":\"cooling rate [K/day]\",\"formatter\":{\"id\":\"a2c3862d-d2ee-4e1c-a9b6-4892c43966bc\",\"type\":\"BasicTickFormatter\"},\"plot\":{\"id\":\"fcc24085-8bd0-45fe-9fb1-3573b47acb06\",\"subtype\":\"Figure\",\"type\":\"Plot\"},\"ticker\":{\"id\":\"b07684b6-9055-42f9-8645-cda1ce6dbf37\",\"type\":\"BasicTicker\"}},\"id\":\"e6333a8f-c502-4407-ae05-d85f735ee68b\",\"type\":\"LinearAxis\"},{\"attributes\":{},\"id\":\"9f0b00ee-2a10-4834-b462-c5145e18ad59\",\"type\":\"Selection\"},{\"attributes\":{},\"id\":\"de7d929a-83a0-483d-be14-a98cd90c35c5\",\"type\":\"WheelZoomTool\"}],\"root_ids\":[\"ad73dfdf-1972-4549-8aaf-8623f9c4017f\"]},\"title\":\"Bokeh Application\",\"version\":\"0.12.16\"}};\n",
       "  var render_items = [{\"docid\":\"1c1eefab-a580-4e50-8446-53a60f49a66e\",\"elementid\":\"34a434e0-c735-4bba-b4a4-adddfc8c9a41\",\"modelid\":\"ad73dfdf-1972-4549-8aaf-8623f9c4017f\"}];\n",
       "  root.Bokeh.embed.embed_items_notebook(docs_json, render_items);\n",
       "\n",
       "  }\n",
       "  if (root.Bokeh !== undefined) {\n",
       "    embed_document(root);\n",
       "  } else {\n",
       "    var attempts = 0;\n",
       "    var timer = setInterval(function(root) {\n",
       "      if (root.Bokeh !== undefined) {\n",
       "        embed_document(root);\n",
       "        clearInterval(timer);\n",
       "      }\n",
       "      attempts++;\n",
       "      if (attempts > 100) {\n",
       "        console.log(\"Bokeh: ERROR: Unable to run BokehJS code because BokehJS library is missing\")\n",
       "        clearInterval(timer);\n",
       "      }\n",
       "    }, 10, root)\n",
       "  }\n",
       "})(window);"
      ],
      "application/vnd.bokehjs_exec.v0+json": ""
     },
     "metadata": {
      "application/vnd.bokehjs_exec.v0+json": {
       "id": "ad73dfdf-1972-4549-8aaf-8623f9c4017f"
      }
     },
     "output_type": "display_data"
    },
    {
     "data": {
      "text/markdown": [
       "*FIGURE.* Cooling rates & difference."
      ],
      "text/plain": [
       "<IPython.core.display.Markdown object>"
      ]
     },
     "metadata": {},
     "output_type": "display_data"
    },
    {
     "data": {
      "text/html": [
       "<a id=\"Fluxes._mls.\"></a>"
      ],
      "text/plain": [
       "<IPython.core.display.HTML object>"
      ]
     },
     "metadata": {},
     "output_type": "display_data"
    },
    {
     "data": {
      "text/markdown": [
       "# Fluxes. mls."
      ],
      "text/plain": [
       "<IPython.core.display.Markdown object>"
      ]
     },
     "metadata": {},
     "output_type": "display_data"
    },
    {
     "data": {
      "text/html": [
       "\n",
       "<div class=\"bk-root\">\n",
       "    <div class=\"bk-plotdiv\" id=\"dd2d2bbf-9598-4e04-945e-ff05606db860\"></div>\n",
       "</div>"
      ]
     },
     "metadata": {},
     "output_type": "display_data"
    },
    {
     "data": {
      "application/javascript": [
       "(function(root) {\n",
       "  function embed_document(root) {\n",
       "    \n",
       "  var docs_json = {\"1a3dbecf-e1c7-49c0-bcff-35b4169284ef\":{\"roots\":{\"references\":[{\"attributes\":{},\"id\":\"66e2ea1c-e2ba-4512-8120-afa1d9430140\",\"type\":\"SaveTool\"},{\"attributes\":{},\"id\":\"3a173c38-882d-4e75-8c3a-5c4d7d62f20b\",\"type\":\"ResetTool\"},{\"attributes\":{\"callback\":null,\"data\":{\"band\":[\"1\",\"2\",\"3\",\"4\",\"5\",\"6\",\"7\",\"8\",\"9\",\"10\",\"11\"],\"flux\":{\"__ndarray__\":\"AAAAAyUF9r4AHvruVhblP+DQzf5AefA/AGx0zk9xsD8grTHohJgkQMOeGz/5/0dArmr/uR4hNUAsNYzMbeAtQJihuONN/gVAAGgdjq7SjT8AcGzRXW2APw==\",\"dtype\":\"float64\",\"shape\":[11]}},\"selected\":{\"id\":\"04d1e3ef-ed5a-477e-9b3d-193c15eb9ae3\",\"type\":\"Selection\"},\"selection_policy\":{\"id\":\"31e72016-43eb-404e-8347-642da4a138e8\",\"type\":\"UnionRenderers\"}},\"id\":\"4c1af79d-3894-46db-a1ac-38a50b8d322b\",\"type\":\"ColumnDataSource\"},{\"attributes\":{\"callback\":null,\"data\":{\"band\":[\"1\",\"2\",\"3\",\"4\",\"5\",\"6\",\"7\",\"8\",\"9\",\"10\",\"11\"],\"flux\":{\"__ndarray__\":\"wKPHzl9x4j8kWXZ3UxwiQEA7xx3CzhJAgINWN0k53j/QOmV/6inkv3puDRHcNS/AxJlfzQGyIsCgKr3bYbj1v+AZS/1hoAlAOH+XQrXr/D8AZ1U6DnKtPw==\",\"dtype\":\"float64\",\"shape\":[11]}},\"selected\":{\"id\":\"f31bbf1b-9ff2-42b2-bf9c-94071c96677a\",\"type\":\"Selection\"},\"selection_policy\":{\"id\":\"2e3fdc1b-78f6-4294-af66-d1c238dc71be\",\"type\":\"UnionRenderers\"}},\"id\":\"51f7f729-a0f1-46d7-8135-4db644c0ee5e\",\"type\":\"ColumnDataSource\"},{\"attributes\":{\"axis_label\":\"flux (W m-2)\",\"formatter\":{\"id\":\"8ed3a902-fe52-4c97-8228-f26ab35de222\",\"type\":\"BasicTickFormatter\"},\"plot\":{\"id\":\"58b4dbc6-0d9d-445a-aee1-ee9df9800506\",\"subtype\":\"Figure\",\"type\":\"Plot\"},\"ticker\":{\"id\":\"9e738d6b-eff3-4bf6-8393-f0dcf761f7b0\",\"type\":\"BasicTicker\"}},\"id\":\"7bec3854-1cf7-4292-b0cc-ab6da8b7f372\",\"type\":\"LinearAxis\"},{\"attributes\":{},\"id\":\"ce55473d-fdac-4991-99e1-21b93b5ac7b9\",\"type\":\"PanTool\"},{\"attributes\":{\"fill_alpha\":{\"value\":0.1},\"fill_color\":{\"value\":\"#1f77b4\"},\"line_alpha\":{\"value\":0.1},\"line_color\":{\"value\":\"#1f77b4\"},\"top\":{\"field\":\"flux\"},\"width\":{\"value\":0.9},\"x\":{\"field\":\"band\"}},\"id\":\"1d2b0157-a8ae-4aab-af8b-c4b19a40909e\",\"type\":\"VBar\"},{\"attributes\":{\"data_source\":{\"id\":\"a0497bd3-4ed7-4b0c-9388-57e5b9477acc\",\"type\":\"ColumnDataSource\"},\"glyph\":{\"id\":\"49d4cb7b-1e11-4a54-a051-38b35846c59c\",\"type\":\"VBar\"},\"hover_glyph\":null,\"muted_glyph\":null,\"nonselection_glyph\":{\"id\":\"cc342d65-654c-42a5-834b-fcc8eaee5158\",\"type\":\"VBar\"},\"selection_glyph\":null,\"view\":{\"id\":\"d9fcf859-3ba5-4347-8f5b-1d0e508eb84b\",\"type\":\"CDSView\"}},\"id\":\"8565b03e-c4f6-4661-9d3a-a4468fbedff6\",\"type\":\"GlyphRenderer\"},{\"attributes\":{\"fill_color\":{\"value\":\"#1f77b4\"},\"line_color\":{\"value\":\"#1f77b4\"},\"top\":{\"field\":\"flux\"},\"width\":{\"value\":0.9},\"x\":{\"field\":\"band\"}},\"id\":\"d661599b-00f3-4b1d-85c7-71756d4a29fa\",\"type\":\"VBar\"},{\"attributes\":{},\"id\":\"9e738d6b-eff3-4bf6-8393-f0dcf761f7b0\",\"type\":\"BasicTicker\"},{\"attributes\":{\"tools\":[{\"id\":\"0f43e60b-5544-4962-8cc7-2baeab9786ec\",\"type\":\"PanTool\"},{\"id\":\"1ea0c5f8-8663-47a1-8728-e5d561ead2a7\",\"type\":\"WheelZoomTool\"},{\"id\":\"59ce5e7b-913f-4a67-b71e-784719f6e23e\",\"type\":\"BoxZoomTool\"},{\"id\":\"66e2ea1c-e2ba-4512-8120-afa1d9430140\",\"type\":\"SaveTool\"},{\"id\":\"df132e35-6d6a-455a-bf10-91db73a51711\",\"type\":\"ResetTool\"},{\"id\":\"262d805a-67eb-47dd-aca8-165355323511\",\"type\":\"HelpTool\"},{\"id\":\"ce55473d-fdac-4991-99e1-21b93b5ac7b9\",\"type\":\"PanTool\"},{\"id\":\"bd94646e-ff0d-482c-906f-83830c523577\",\"type\":\"WheelZoomTool\"},{\"id\":\"cebb09dc-4108-416c-b2a4-b667eaa3548d\",\"type\":\"BoxZoomTool\"},{\"id\":\"0f99f86d-1bb4-42c6-805c-ded78e300f62\",\"type\":\"SaveTool\"},{\"id\":\"3a173c38-882d-4e75-8c3a-5c4d7d62f20b\",\"type\":\"ResetTool\"},{\"id\":\"509bc38e-baa8-4548-a0af-0fd675db4d04\",\"type\":\"HelpTool\"},{\"id\":\"1e63f6f8-d879-48c4-bd8f-e073fdd19f25\",\"type\":\"PanTool\"},{\"id\":\"bd5c9ec6-3c98-4311-bef6-2f6e66ec0018\",\"type\":\"WheelZoomTool\"},{\"id\":\"46560992-3f75-41e9-be01-bfa82c391ce9\",\"type\":\"BoxZoomTool\"},{\"id\":\"a29016be-538a-4473-a3df-6103c8d1e6fc\",\"type\":\"SaveTool\"},{\"id\":\"01cce438-eb02-4119-90f8-55b7dd5bf44e\",\"type\":\"ResetTool\"},{\"id\":\"d061cb3b-f66a-4681-8fa2-78f09180a139\",\"type\":\"HelpTool\"}]},\"id\":\"1f62aff8-f12b-4ab4-8f21-32ac169a935b\",\"type\":\"ProxyToolbar\"},{\"attributes\":{},\"id\":\"df132e35-6d6a-455a-bf10-91db73a51711\",\"type\":\"ResetTool\"},{\"attributes\":{\"axis_label\":\"spectral band\",\"formatter\":{\"id\":\"d186d177-e362-4746-afbe-a8d9cf7643d0\",\"type\":\"CategoricalTickFormatter\"},\"plot\":{\"id\":\"83e92567-a27f-4171-aa5b-a4d61438bec1\",\"subtype\":\"Figure\",\"type\":\"Plot\"},\"ticker\":{\"id\":\"f0e41e04-63d0-486a-b3ef-caf5c799b48e\",\"type\":\"CategoricalTicker\"}},\"id\":\"77541b25-0a8b-42a4-8be9-3462411d25c6\",\"type\":\"CategoricalAxis\"},{\"attributes\":{\"overlay\":{\"id\":\"c863780e-5168-45dc-b7bc-bc64f2a9148e\",\"type\":\"BoxAnnotation\"}},\"id\":\"cebb09dc-4108-416c-b2a4-b667eaa3548d\",\"type\":\"BoxZoomTool\"},{\"attributes\":{},\"id\":\"e194e457-4b59-4312-bf6d-b37ace163412\",\"type\":\"CategoricalTickFormatter\"},{\"attributes\":{\"plot\":{\"id\":\"83e92567-a27f-4171-aa5b-a4d61438bec1\",\"subtype\":\"Figure\",\"type\":\"Plot\"},\"ticker\":{\"id\":\"f0e41e04-63d0-486a-b3ef-caf5c799b48e\",\"type\":\"CategoricalTicker\"}},\"id\":\"bae2e421-4756-4365-90a1-1c9184d79dfb\",\"type\":\"Grid\"},{\"attributes\":{\"source\":{\"id\":\"51f7f729-a0f1-46d7-8135-4db644c0ee5e\",\"type\":\"ColumnDataSource\"}},\"id\":\"116aee62-a3f6-4ffe-906f-33fd61666525\",\"type\":\"CDSView\"},{\"attributes\":{},\"id\":\"f31bbf1b-9ff2-42b2-bf9c-94071c96677a\",\"type\":\"Selection\"},{\"attributes\":{},\"id\":\"0f43e60b-5544-4962-8cc7-2baeab9786ec\",\"type\":\"PanTool\"},{\"attributes\":{},\"id\":\"bd5c9ec6-3c98-4311-bef6-2f6e66ec0018\",\"type\":\"WheelZoomTool\"},{\"attributes\":{},\"id\":\"d061cb3b-f66a-4681-8fa2-78f09180a139\",\"type\":\"HelpTool\"},{\"attributes\":{},\"id\":\"d186d177-e362-4746-afbe-a8d9cf7643d0\",\"type\":\"CategoricalTickFormatter\"},{\"attributes\":{\"children\":[{\"id\":\"83e92567-a27f-4171-aa5b-a4d61438bec1\",\"subtype\":\"Figure\",\"type\":\"Plot\"},{\"id\":\"612254a5-ad96-42b2-b4ee-7ddf5098d2b5\",\"subtype\":\"Figure\",\"type\":\"Plot\"},{\"id\":\"58b4dbc6-0d9d-445a-aee1-ee9df9800506\",\"subtype\":\"Figure\",\"type\":\"Plot\"}]},\"id\":\"9916c8d2-77f9-49ee-bd7b-ee27334c8b6c\",\"type\":\"Row\"},{\"attributes\":{},\"id\":\"53152092-0d06-4272-b299-c4619ef1d252\",\"type\":\"LinearScale\"},{\"attributes\":{\"overlay\":{\"id\":\"0f5594db-5dd4-443f-9bc2-444149d017c8\",\"type\":\"BoxAnnotation\"}},\"id\":\"46560992-3f75-41e9-be01-bfa82c391ce9\",\"type\":\"BoxZoomTool\"},{\"attributes\":{\"fill_alpha\":{\"value\":0.1},\"fill_color\":{\"value\":\"#1f77b4\"},\"line_alpha\":{\"value\":0.1},\"line_color\":{\"value\":\"#1f77b4\"},\"top\":{\"field\":\"flux\"},\"width\":{\"value\":0.9},\"x\":{\"field\":\"band\"}},\"id\":\"cc342d65-654c-42a5-834b-fcc8eaee5158\",\"type\":\"VBar\"},{\"attributes\":{\"bottom_units\":\"screen\",\"fill_alpha\":{\"value\":0.5},\"fill_color\":{\"value\":\"lightgrey\"},\"left_units\":\"screen\",\"level\":\"overlay\",\"line_alpha\":{\"value\":1.0},\"line_color\":{\"value\":\"black\"},\"line_dash\":[4,4],\"line_width\":{\"value\":2},\"plot\":null,\"render_mode\":\"css\",\"right_units\":\"screen\",\"top_units\":\"screen\"},\"id\":\"ef92975b-c4d4-44aa-9b8b-9d922290b98a\",\"type\":\"BoxAnnotation\"},{\"attributes\":{\"children\":[{\"id\":\"a9454789-4194-482c-a55a-5eae9392344d\",\"type\":\"ToolbarBox\"},{\"id\":\"0784e97e-4bf1-472d-8a46-9f6e14d12718\",\"type\":\"Column\"}]},\"id\":\"c2e633d6-23c5-4603-ae72-391f14fe4400\",\"type\":\"Column\"},{\"attributes\":{\"data_source\":{\"id\":\"4c1af79d-3894-46db-a1ac-38a50b8d322b\",\"type\":\"ColumnDataSource\"},\"glyph\":{\"id\":\"4530189b-b8f4-4c35-acbd-14c166680f31\",\"type\":\"VBar\"},\"hover_glyph\":null,\"muted_glyph\":null,\"nonselection_glyph\":{\"id\":\"1d2b0157-a8ae-4aab-af8b-c4b19a40909e\",\"type\":\"VBar\"},\"selection_glyph\":null,\"view\":{\"id\":\"d234ccb2-b821-40af-be20-07111dfbca00\",\"type\":\"CDSView\"}},\"id\":\"ad991dbb-27ee-4a65-a208-8b967be47236\",\"type\":\"GlyphRenderer\"},{\"attributes\":{},\"id\":\"02d82367-522d-46d2-96ab-a5d35a267343\",\"type\":\"BasicTickFormatter\"},{\"attributes\":{},\"id\":\"a29016be-538a-4473-a3df-6103c8d1e6fc\",\"type\":\"SaveTool\"},{\"attributes\":{\"plot\":{\"id\":\"58b4dbc6-0d9d-445a-aee1-ee9df9800506\",\"subtype\":\"Figure\",\"type\":\"Plot\"},\"ticker\":{\"id\":\"5c9735bf-4789-4cdb-b893-5de591ab768d\",\"type\":\"CategoricalTicker\"}},\"id\":\"1acb58dc-b00d-44b8-bfb8-a85b94c8c684\",\"type\":\"Grid\"},{\"attributes\":{},\"id\":\"01cce438-eb02-4119-90f8-55b7dd5bf44e\",\"type\":\"ResetTool\"},{\"attributes\":{\"children\":[{\"id\":\"9916c8d2-77f9-49ee-bd7b-ee27334c8b6c\",\"type\":\"Row\"}]},\"id\":\"0784e97e-4bf1-472d-8a46-9f6e14d12718\",\"type\":\"Column\"},{\"attributes\":{},\"id\":\"f0e41e04-63d0-486a-b3ef-caf5c799b48e\",\"type\":\"CategoricalTicker\"},{\"attributes\":{},\"id\":\"bd94646e-ff0d-482c-906f-83830c523577\",\"type\":\"WheelZoomTool\"},{\"attributes\":{\"fill_color\":{\"value\":\"#1f77b4\"},\"line_color\":{\"value\":\"#1f77b4\"},\"top\":{\"field\":\"flux\"},\"width\":{\"value\":0.9},\"x\":{\"field\":\"band\"}},\"id\":\"4530189b-b8f4-4c35-acbd-14c166680f31\",\"type\":\"VBar\"},{\"attributes\":{},\"id\":\"2e3fdc1b-78f6-4294-af66-d1c238dc71be\",\"type\":\"UnionRenderers\"},{\"attributes\":{},\"id\":\"509bc38e-baa8-4548-a0af-0fd675db4d04\",\"type\":\"HelpTool\"},{\"attributes\":{},\"id\":\"1e63f6f8-d879-48c4-bd8f-e073fdd19f25\",\"type\":\"PanTool\"},{\"attributes\":{},\"id\":\"0f99f86d-1bb4-42c6-805c-ded78e300f62\",\"type\":\"SaveTool\"},{\"attributes\":{\"toolbar\":{\"id\":\"1f62aff8-f12b-4ab4-8f21-32ac169a935b\",\"type\":\"ProxyToolbar\"},\"toolbar_location\":\"above\"},\"id\":\"a9454789-4194-482c-a55a-5eae9392344d\",\"type\":\"ToolbarBox\"},{\"attributes\":{},\"id\":\"8cdbee2c-cb42-43f0-8dfa-36c4da23716d\",\"type\":\"UnionRenderers\"},{\"attributes\":{\"axis_label\":\"flux (W m-2)\",\"formatter\":{\"id\":\"02d82367-522d-46d2-96ab-a5d35a267343\",\"type\":\"BasicTickFormatter\"},\"plot\":{\"id\":\"83e92567-a27f-4171-aa5b-a4d61438bec1\",\"subtype\":\"Figure\",\"type\":\"Plot\"},\"ticker\":{\"id\":\"4b205e45-3646-41d3-8bb5-14b834c4e109\",\"type\":\"BasicTicker\"}},\"id\":\"b3ecf380-4948-4a93-85f9-fd1ed57a164d\",\"type\":\"LinearAxis\"},{\"attributes\":{\"overlay\":{\"id\":\"ef92975b-c4d4-44aa-9b8b-9d922290b98a\",\"type\":\"BoxAnnotation\"}},\"id\":\"59ce5e7b-913f-4a67-b71e-784719f6e23e\",\"type\":\"BoxZoomTool\"},{\"attributes\":{\"bottom_units\":\"screen\",\"fill_alpha\":{\"value\":0.5},\"fill_color\":{\"value\":\"lightgrey\"},\"left_units\":\"screen\",\"level\":\"overlay\",\"line_alpha\":{\"value\":1.0},\"line_color\":{\"value\":\"black\"},\"line_dash\":[4,4],\"line_width\":{\"value\":2},\"plot\":null,\"render_mode\":\"css\",\"right_units\":\"screen\",\"top_units\":\"screen\"},\"id\":\"0f5594db-5dd4-443f-9bc2-444149d017c8\",\"type\":\"BoxAnnotation\"},{\"attributes\":{\"fill_alpha\":{\"value\":0.1},\"fill_color\":{\"value\":\"#1f77b4\"},\"line_alpha\":{\"value\":0.1},\"line_color\":{\"value\":\"#1f77b4\"},\"top\":{\"field\":\"flux\"},\"width\":{\"value\":0.9},\"x\":{\"field\":\"band\"}},\"id\":\"6edf507e-2963-4a13-b131-946f55067079\",\"type\":\"VBar\"},{\"attributes\":{},\"id\":\"8ed3a902-fe52-4c97-8228-f26ab35de222\",\"type\":\"BasicTickFormatter\"},{\"attributes\":{},\"id\":\"262d805a-67eb-47dd-aca8-165355323511\",\"type\":\"HelpTool\"},{\"attributes\":{},\"id\":\"1ea0c5f8-8663-47a1-8728-e5d561ead2a7\",\"type\":\"WheelZoomTool\"},{\"attributes\":{},\"id\":\"f8b1b265-b0d9-4af0-8dc5-9c3b60fb93e2\",\"type\":\"CategoricalTickFormatter\"},{\"attributes\":{\"source\":{\"id\":\"a0497bd3-4ed7-4b0c-9388-57e5b9477acc\",\"type\":\"ColumnDataSource\"}},\"id\":\"d9fcf859-3ba5-4347-8f5b-1d0e508eb84b\",\"type\":\"CDSView\"},{\"attributes\":{\"fill_color\":{\"value\":\"#1f77b4\"},\"line_color\":{\"value\":\"#1f77b4\"},\"top\":{\"field\":\"flux\"},\"width\":{\"value\":0.9},\"x\":{\"field\":\"band\"}},\"id\":\"49d4cb7b-1e11-4a54-a051-38b35846c59c\",\"type\":\"VBar\"},{\"attributes\":{\"below\":[{\"id\":\"35960bf6-33ac-48db-af55-cf6e9bc1bdcc\",\"type\":\"CategoricalAxis\"}],\"left\":[{\"id\":\"48f67c4b-b478-4715-b44f-2879b0ec83c1\",\"type\":\"LinearAxis\"}],\"plot_height\":300,\"plot_width\":300,\"renderers\":[{\"id\":\"35960bf6-33ac-48db-af55-cf6e9bc1bdcc\",\"type\":\"CategoricalAxis\"},{\"id\":\"156b8028-4330-4ddf-a294-f952566ee685\",\"type\":\"Grid\"},{\"id\":\"48f67c4b-b478-4715-b44f-2879b0ec83c1\",\"type\":\"LinearAxis\"},{\"id\":\"0db2db82-3586-4761-bb80-b35c39035fd6\",\"type\":\"Grid\"},{\"id\":\"c863780e-5168-45dc-b7bc-bc64f2a9148e\",\"type\":\"BoxAnnotation\"},{\"id\":\"ad991dbb-27ee-4a65-a208-8b967be47236\",\"type\":\"GlyphRenderer\"}],\"title\":{\"id\":\"9456ea6d-9320-4b98-9c1a-5982d8becd9a\",\"type\":\"Title\"},\"toolbar\":{\"id\":\"61430be5-5bf1-4c44-a57f-69a70e75795b\",\"type\":\"Toolbar\"},\"toolbar_location\":null,\"x_range\":{\"id\":\"ffd88f2d-68b2-4c20-89c0-871124237b72\",\"type\":\"FactorRange\"},\"x_scale\":{\"id\":\"8e5c8b2b-acf9-42ba-9b56-5c4364acbd0e\",\"type\":\"CategoricalScale\"},\"y_range\":{\"id\":\"1b118459-ab1e-4855-9fb2-33e897f7bb15\",\"type\":\"DataRange1d\"},\"y_scale\":{\"id\":\"07c38f48-b463-4c22-bb61-7c979df0e66b\",\"type\":\"LinearScale\"}},\"id\":\"612254a5-ad96-42b2-b4ee-7ddf5098d2b5\",\"subtype\":\"Figure\",\"type\":\"Plot\"},{\"attributes\":{},\"id\":\"4b205e45-3646-41d3-8bb5-14b834c4e109\",\"type\":\"BasicTicker\"},{\"attributes\":{},\"id\":\"48c7def7-fc63-4bef-a32d-833afcda3ddb\",\"type\":\"BasicTickFormatter\"},{\"attributes\":{},\"id\":\"e49919a5-5f25-4960-9ea1-baf5e686e598\",\"type\":\"Selection\"},{\"attributes\":{\"dimension\":1,\"plot\":{\"id\":\"83e92567-a27f-4171-aa5b-a4d61438bec1\",\"subtype\":\"Figure\",\"type\":\"Plot\"},\"ticker\":{\"id\":\"4b205e45-3646-41d3-8bb5-14b834c4e109\",\"type\":\"BasicTicker\"}},\"id\":\"f78829a8-7ff5-44de-83e8-5e385c8fe2f7\",\"type\":\"Grid\"},{\"attributes\":{\"data_source\":{\"id\":\"51f7f729-a0f1-46d7-8135-4db644c0ee5e\",\"type\":\"ColumnDataSource\"},\"glyph\":{\"id\":\"d661599b-00f3-4b1d-85c7-71756d4a29fa\",\"type\":\"VBar\"},\"hover_glyph\":null,\"muted_glyph\":null,\"nonselection_glyph\":{\"id\":\"6edf507e-2963-4a13-b131-946f55067079\",\"type\":\"VBar\"},\"selection_glyph\":null,\"view\":{\"id\":\"116aee62-a3f6-4ffe-906f-33fd61666525\",\"type\":\"CDSView\"}},\"id\":\"ebfc4270-7f7b-48a3-87d3-f4c5cad6ff72\",\"type\":\"GlyphRenderer\"},{\"attributes\":{\"callback\":null,\"data\":{\"band\":[\"1\",\"2\",\"3\",\"4\",\"5\",\"6\",\"7\",\"8\",\"9\",\"10\",\"11\"],\"flux\":{\"__ndarray__\":\"wAciizRx4j+Q3nAfuW0jQDhlbr4R7RZA4AfnU8cq4T8+LNSa5lUjQCMVxhaCMkBAgm+aPjuQJ0A4mE2AYSkrQLFjEuRWzxdANEIuJ1cn/T9AvtXft8awPw==\",\"dtype\":\"float64\",\"shape\":[11]}},\"selected\":{\"id\":\"e49919a5-5f25-4960-9ea1-baf5e686e598\",\"type\":\"Selection\"},\"selection_policy\":{\"id\":\"8cdbee2c-cb42-43f0-8dfa-36c4da23716d\",\"type\":\"UnionRenderers\"}},\"id\":\"a0497bd3-4ed7-4b0c-9388-57e5b9477acc\",\"type\":\"ColumnDataSource\"},{\"attributes\":{\"dimension\":1,\"plot\":{\"id\":\"58b4dbc6-0d9d-445a-aee1-ee9df9800506\",\"subtype\":\"Figure\",\"type\":\"Plot\"},\"ticker\":{\"id\":\"9e738d6b-eff3-4bf6-8393-f0dcf761f7b0\",\"type\":\"BasicTicker\"}},\"id\":\"dbed0374-0ff9-4d09-80af-9e4790370cc1\",\"type\":\"Grid\"},{\"attributes\":{\"dimension\":1,\"plot\":{\"id\":\"612254a5-ad96-42b2-b4ee-7ddf5098d2b5\",\"subtype\":\"Figure\",\"type\":\"Plot\"},\"ticker\":{\"id\":\"bc728f40-966d-4e57-a67f-60a8b1c03b11\",\"type\":\"BasicTicker\"}},\"id\":\"0db2db82-3586-4761-bb80-b35c39035fd6\",\"type\":\"Grid\"},{\"attributes\":{},\"id\":\"31e72016-43eb-404e-8347-642da4a138e8\",\"type\":\"UnionRenderers\"},{\"attributes\":{\"callback\":null,\"factors\":[\"1\",\"2\",\"3\",\"4\",\"5\",\"6\",\"7\",\"8\",\"9\",\"10\",\"11\"]},\"id\":\"e8f9939c-c960-47fd-8217-7d7a64f74acd\",\"type\":\"FactorRange\"},{\"attributes\":{\"plot\":{\"id\":\"612254a5-ad96-42b2-b4ee-7ddf5098d2b5\",\"subtype\":\"Figure\",\"type\":\"Plot\"},\"ticker\":{\"id\":\"60947d66-f7e1-4b7c-b452-91a6bbd08f98\",\"type\":\"CategoricalTicker\"}},\"id\":\"156b8028-4330-4ddf-a294-f952566ee685\",\"type\":\"Grid\"},{\"attributes\":{},\"id\":\"bc728f40-966d-4e57-a67f-60a8b1c03b11\",\"type\":\"BasicTicker\"},{\"attributes\":{\"callback\":null,\"factors\":[\"1\",\"2\",\"3\",\"4\",\"5\",\"6\",\"7\",\"8\",\"9\",\"10\",\"11\"]},\"id\":\"ffd88f2d-68b2-4c20-89c0-871124237b72\",\"type\":\"FactorRange\"},{\"attributes\":{\"below\":[{\"id\":\"a93f9f59-1d47-42aa-9ec2-acb4022bd5db\",\"type\":\"CategoricalAxis\"}],\"left\":[{\"id\":\"7bec3854-1cf7-4292-b0cc-ab6da8b7f372\",\"type\":\"LinearAxis\"}],\"plot_height\":300,\"plot_width\":300,\"renderers\":[{\"id\":\"a93f9f59-1d47-42aa-9ec2-acb4022bd5db\",\"type\":\"CategoricalAxis\"},{\"id\":\"1acb58dc-b00d-44b8-bfb8-a85b94c8c684\",\"type\":\"Grid\"},{\"id\":\"7bec3854-1cf7-4292-b0cc-ab6da8b7f372\",\"type\":\"LinearAxis\"},{\"id\":\"dbed0374-0ff9-4d09-80af-9e4790370cc1\",\"type\":\"Grid\"},{\"id\":\"0f5594db-5dd4-443f-9bc2-444149d017c8\",\"type\":\"BoxAnnotation\"},{\"id\":\"ebfc4270-7f7b-48a3-87d3-f4c5cad6ff72\",\"type\":\"GlyphRenderer\"}],\"title\":{\"id\":\"861e0f61-3104-4372-a15b-9aa5c961ca68\",\"type\":\"Title\"},\"toolbar\":{\"id\":\"6c0904cc-bdce-4d31-a451-16aee2dad5ce\",\"type\":\"Toolbar\"},\"toolbar_location\":null,\"x_range\":{\"id\":\"e8f9939c-c960-47fd-8217-7d7a64f74acd\",\"type\":\"FactorRange\"},\"x_scale\":{\"id\":\"5bb9188a-9331-44a5-b11f-42459a9965fd\",\"type\":\"CategoricalScale\"},\"y_range\":{\"id\":\"f45826c7-d02f-484b-b3e6-201b9fa80f20\",\"type\":\"DataRange1d\"},\"y_scale\":{\"id\":\"14626316-52d4-422e-9321-d7a6a1ec5fef\",\"type\":\"LinearScale\"}},\"id\":\"58b4dbc6-0d9d-445a-aee1-ee9df9800506\",\"subtype\":\"Figure\",\"type\":\"Plot\"},{\"attributes\":{\"callback\":null},\"id\":\"917d77bc-518b-433c-adbc-5673abef51dd\",\"type\":\"DataRange1d\"},{\"attributes\":{\"active_drag\":\"auto\",\"active_inspect\":\"auto\",\"active_scroll\":\"auto\",\"active_tap\":\"auto\",\"tools\":[{\"id\":\"1e63f6f8-d879-48c4-bd8f-e073fdd19f25\",\"type\":\"PanTool\"},{\"id\":\"bd5c9ec6-3c98-4311-bef6-2f6e66ec0018\",\"type\":\"WheelZoomTool\"},{\"id\":\"46560992-3f75-41e9-be01-bfa82c391ce9\",\"type\":\"BoxZoomTool\"},{\"id\":\"a29016be-538a-4473-a3df-6103c8d1e6fc\",\"type\":\"SaveTool\"},{\"id\":\"01cce438-eb02-4119-90f8-55b7dd5bf44e\",\"type\":\"ResetTool\"},{\"id\":\"d061cb3b-f66a-4681-8fa2-78f09180a139\",\"type\":\"HelpTool\"}]},\"id\":\"6c0904cc-bdce-4d31-a451-16aee2dad5ce\",\"type\":\"Toolbar\"},{\"attributes\":{\"axis_label\":\"flux (W m-2)\",\"formatter\":{\"id\":\"48c7def7-fc63-4bef-a32d-833afcda3ddb\",\"type\":\"BasicTickFormatter\"},\"plot\":{\"id\":\"612254a5-ad96-42b2-b4ee-7ddf5098d2b5\",\"subtype\":\"Figure\",\"type\":\"Plot\"},\"ticker\":{\"id\":\"bc728f40-966d-4e57-a67f-60a8b1c03b11\",\"type\":\"BasicTicker\"}},\"id\":\"48f67c4b-b478-4715-b44f-2879b0ec83c1\",\"type\":\"LinearAxis\"},{\"attributes\":{\"active_drag\":\"auto\",\"active_inspect\":\"auto\",\"active_scroll\":\"auto\",\"active_tap\":\"auto\",\"tools\":[{\"id\":\"0f43e60b-5544-4962-8cc7-2baeab9786ec\",\"type\":\"PanTool\"},{\"id\":\"1ea0c5f8-8663-47a1-8728-e5d561ead2a7\",\"type\":\"WheelZoomTool\"},{\"id\":\"59ce5e7b-913f-4a67-b71e-784719f6e23e\",\"type\":\"BoxZoomTool\"},{\"id\":\"66e2ea1c-e2ba-4512-8120-afa1d9430140\",\"type\":\"SaveTool\"},{\"id\":\"df132e35-6d6a-455a-bf10-91db73a51711\",\"type\":\"ResetTool\"},{\"id\":\"262d805a-67eb-47dd-aca8-165355323511\",\"type\":\"HelpTool\"}]},\"id\":\"0d578631-83a3-4003-a94f-11bdefca7059\",\"type\":\"Toolbar\"},{\"attributes\":{},\"id\":\"07c38f48-b463-4c22-bb61-7c979df0e66b\",\"type\":\"LinearScale\"},{\"attributes\":{},\"id\":\"8e5c8b2b-acf9-42ba-9b56-5c4364acbd0e\",\"type\":\"CategoricalScale\"},{\"attributes\":{\"active_drag\":\"auto\",\"active_inspect\":\"auto\",\"active_scroll\":\"auto\",\"active_tap\":\"auto\",\"tools\":[{\"id\":\"ce55473d-fdac-4991-99e1-21b93b5ac7b9\",\"type\":\"PanTool\"},{\"id\":\"bd94646e-ff0d-482c-906f-83830c523577\",\"type\":\"WheelZoomTool\"},{\"id\":\"cebb09dc-4108-416c-b2a4-b667eaa3548d\",\"type\":\"BoxZoomTool\"},{\"id\":\"0f99f86d-1bb4-42c6-805c-ded78e300f62\",\"type\":\"SaveTool\"},{\"id\":\"3a173c38-882d-4e75-8c3a-5c4d7d62f20b\",\"type\":\"ResetTool\"},{\"id\":\"509bc38e-baa8-4548-a0af-0fd675db4d04\",\"type\":\"HelpTool\"}]},\"id\":\"61430be5-5bf1-4c44-a57f-69a70e75795b\",\"type\":\"Toolbar\"},{\"attributes\":{\"callback\":null},\"id\":\"1b118459-ab1e-4855-9fb2-33e897f7bb15\",\"type\":\"DataRange1d\"},{\"attributes\":{\"callback\":null},\"id\":\"f45826c7-d02f-484b-b3e6-201b9fa80f20\",\"type\":\"DataRange1d\"},{\"attributes\":{\"axis_label\":\"spectral band\",\"formatter\":{\"id\":\"f8b1b265-b0d9-4af0-8dc5-9c3b60fb93e2\",\"type\":\"CategoricalTickFormatter\"},\"plot\":{\"id\":\"612254a5-ad96-42b2-b4ee-7ddf5098d2b5\",\"subtype\":\"Figure\",\"type\":\"Plot\"},\"ticker\":{\"id\":\"60947d66-f7e1-4b7c-b452-91a6bbd08f98\",\"type\":\"CategoricalTicker\"}},\"id\":\"35960bf6-33ac-48db-af55-cf6e9bc1bdcc\",\"type\":\"CategoricalAxis\"},{\"attributes\":{},\"id\":\"04d1e3ef-ed5a-477e-9b3d-193c15eb9ae3\",\"type\":\"Selection\"},{\"attributes\":{\"bottom_units\":\"screen\",\"fill_alpha\":{\"value\":0.5},\"fill_color\":{\"value\":\"lightgrey\"},\"left_units\":\"screen\",\"level\":\"overlay\",\"line_alpha\":{\"value\":1.0},\"line_color\":{\"value\":\"black\"},\"line_dash\":[4,4],\"line_width\":{\"value\":2},\"plot\":null,\"render_mode\":\"css\",\"right_units\":\"screen\",\"top_units\":\"screen\"},\"id\":\"c863780e-5168-45dc-b7bc-bc64f2a9148e\",\"type\":\"BoxAnnotation\"},{\"attributes\":{\"plot\":null,\"text\":\"TOA flux. CLIRAD (single-run) - CRD.\"},\"id\":\"90313ae6-ec7a-480b-b0e7-d8820539113f\",\"type\":\"Title\"},{\"attributes\":{\"source\":{\"id\":\"4c1af79d-3894-46db-a1ac-38a50b8d322b\",\"type\":\"ColumnDataSource\"}},\"id\":\"d234ccb2-b821-40af-be20-07111dfbca00\",\"type\":\"CDSView\"},{\"attributes\":{},\"id\":\"5bb9188a-9331-44a5-b11f-42459a9965fd\",\"type\":\"CategoricalScale\"},{\"attributes\":{},\"id\":\"14626316-52d4-422e-9321-d7a6a1ec5fef\",\"type\":\"LinearScale\"},{\"attributes\":{\"axis_label\":\"spectral band\",\"formatter\":{\"id\":\"e194e457-4b59-4312-bf6d-b37ace163412\",\"type\":\"CategoricalTickFormatter\"},\"plot\":{\"id\":\"58b4dbc6-0d9d-445a-aee1-ee9df9800506\",\"subtype\":\"Figure\",\"type\":\"Plot\"},\"ticker\":{\"id\":\"5c9735bf-4789-4cdb-b893-5de591ab768d\",\"type\":\"CategoricalTicker\"}},\"id\":\"a93f9f59-1d47-42aa-9ec2-acb4022bd5db\",\"type\":\"CategoricalAxis\"},{\"attributes\":{},\"id\":\"94da2236-a75c-4b97-a35c-355a0ed907ab\",\"type\":\"CategoricalScale\"},{\"attributes\":{\"plot\":null,\"text\":\"SFC flux. CLIRAD (single-run) - CRD.\"},\"id\":\"9456ea6d-9320-4b98-9c1a-5982d8becd9a\",\"type\":\"Title\"},{\"attributes\":{},\"id\":\"60947d66-f7e1-4b7c-b452-91a6bbd08f98\",\"type\":\"CategoricalTicker\"},{\"attributes\":{},\"id\":\"5c9735bf-4789-4cdb-b893-5de591ab768d\",\"type\":\"CategoricalTicker\"},{\"attributes\":{\"below\":[{\"id\":\"77541b25-0a8b-42a4-8be9-3462411d25c6\",\"type\":\"CategoricalAxis\"}],\"left\":[{\"id\":\"b3ecf380-4948-4a93-85f9-fd1ed57a164d\",\"type\":\"LinearAxis\"}],\"plot_height\":300,\"plot_width\":300,\"renderers\":[{\"id\":\"77541b25-0a8b-42a4-8be9-3462411d25c6\",\"type\":\"CategoricalAxis\"},{\"id\":\"bae2e421-4756-4365-90a1-1c9184d79dfb\",\"type\":\"Grid\"},{\"id\":\"b3ecf380-4948-4a93-85f9-fd1ed57a164d\",\"type\":\"LinearAxis\"},{\"id\":\"f78829a8-7ff5-44de-83e8-5e385c8fe2f7\",\"type\":\"Grid\"},{\"id\":\"ef92975b-c4d4-44aa-9b8b-9d922290b98a\",\"type\":\"BoxAnnotation\"},{\"id\":\"8565b03e-c4f6-4661-9d3a-a4468fbedff6\",\"type\":\"GlyphRenderer\"}],\"title\":{\"id\":\"90313ae6-ec7a-480b-b0e7-d8820539113f\",\"type\":\"Title\"},\"toolbar\":{\"id\":\"0d578631-83a3-4003-a94f-11bdefca7059\",\"type\":\"Toolbar\"},\"toolbar_location\":null,\"x_range\":{\"id\":\"81d5871e-892b-4d7a-bef7-44e09f0bcba7\",\"type\":\"FactorRange\"},\"x_scale\":{\"id\":\"94da2236-a75c-4b97-a35c-355a0ed907ab\",\"type\":\"CategoricalScale\"},\"y_range\":{\"id\":\"917d77bc-518b-433c-adbc-5673abef51dd\",\"type\":\"DataRange1d\"},\"y_scale\":{\"id\":\"53152092-0d06-4272-b299-c4619ef1d252\",\"type\":\"LinearScale\"}},\"id\":\"83e92567-a27f-4171-aa5b-a4d61438bec1\",\"subtype\":\"Figure\",\"type\":\"Plot\"},{\"attributes\":{\"plot\":null,\"text\":\"Atmosphere heating. CLIRAD (single-run) - CRD.\"},\"id\":\"861e0f61-3104-4372-a15b-9aa5c961ca68\",\"type\":\"Title\"},{\"attributes\":{\"callback\":null,\"factors\":[\"1\",\"2\",\"3\",\"4\",\"5\",\"6\",\"7\",\"8\",\"9\",\"10\",\"11\"]},\"id\":\"81d5871e-892b-4d7a-bef7-44e09f0bcba7\",\"type\":\"FactorRange\"}],\"root_ids\":[\"c2e633d6-23c5-4603-ae72-391f14fe4400\"]},\"title\":\"Bokeh Application\",\"version\":\"0.12.16\"}};\n",
       "  var render_items = [{\"docid\":\"1a3dbecf-e1c7-49c0-bcff-35b4169284ef\",\"elementid\":\"dd2d2bbf-9598-4e04-945e-ff05606db860\",\"modelid\":\"c2e633d6-23c5-4603-ae72-391f14fe4400\"}];\n",
       "  root.Bokeh.embed.embed_items_notebook(docs_json, render_items);\n",
       "\n",
       "  }\n",
       "  if (root.Bokeh !== undefined) {\n",
       "    embed_document(root);\n",
       "  } else {\n",
       "    var attempts = 0;\n",
       "    var timer = setInterval(function(root) {\n",
       "      if (root.Bokeh !== undefined) {\n",
       "        embed_document(root);\n",
       "        clearInterval(timer);\n",
       "      }\n",
       "      attempts++;\n",
       "      if (attempts > 100) {\n",
       "        console.log(\"Bokeh: ERROR: Unable to run BokehJS code because BokehJS library is missing\")\n",
       "        clearInterval(timer);\n",
       "      }\n",
       "    }, 10, root)\n",
       "  }\n",
       "})(window);"
      ],
      "application/vnd.bokehjs_exec.v0+json": ""
     },
     "metadata": {
      "application/vnd.bokehjs_exec.v0+json": {
       "id": "c2e633d6-23c5-4603-ae72-391f14fe4400"
      }
     },
     "output_type": "display_data"
    },
    {
     "data": {
      "text/markdown": [
       "*FIGURE.* Difference between CLIRAD and CRD in TOA, SFC and net atmosphere flux, in each spectral band."
      ],
      "text/plain": [
       "<IPython.core.display.Markdown object>"
      ]
     },
     "metadata": {},
     "output_type": "display_data"
    },
    {
     "data": {
      "text/html": [
       "<div>\n",
       "<style scoped>\n",
       "    .dataframe tbody tr th:only-of-type {\n",
       "        vertical-align: middle;\n",
       "    }\n",
       "\n",
       "    .dataframe tbody tr th {\n",
       "        vertical-align: top;\n",
       "    }\n",
       "\n",
       "    .dataframe thead th {\n",
       "        text-align: right;\n",
       "    }\n",
       "</style>\n",
       "<table border=\"1\" class=\"dataframe\">\n",
       "  <thead>\n",
       "    <tr style=\"text-align: right;\">\n",
       "      <th></th>\n",
       "      <th>OLR flux</th>\n",
       "      <th>SFC flux</th>\n",
       "      <th>ATM heating</th>\n",
       "    </tr>\n",
       "    <tr>\n",
       "      <th>Sum over bands</th>\n",
       "      <th></th>\n",
       "      <th></th>\n",
       "      <th></th>\n",
       "    </tr>\n",
       "  </thead>\n",
       "  <tbody>\n",
       "    <tr>\n",
       "      <th>old CLIRAD - CRD</th>\n",
       "      <td>0.09</td>\n",
       "      <td>1.54</td>\n",
       "      <td>-1.31</td>\n",
       "    </tr>\n",
       "    <tr>\n",
       "      <th>CLIRAD (single-run) - CRD</th>\n",
       "      <td>91.82</td>\n",
       "      <td>98.89</td>\n",
       "      <td>-7.07</td>\n",
       "    </tr>\n",
       "    <tr>\n",
       "      <th>CRD</th>\n",
       "      <td>-290.39</td>\n",
       "      <td>308.14</td>\n",
       "      <td>-174.89</td>\n",
       "    </tr>\n",
       "  </tbody>\n",
       "</table>\n",
       "</div>"
      ],
      "text/plain": [
       "                           OLR flux  SFC flux  ATM heating\n",
       "Sum over bands                                            \n",
       "old CLIRAD - CRD               0.09      1.54        -1.31\n",
       "CLIRAD (single-run) - CRD     91.82     98.89        -7.07\n",
       "CRD                         -290.39    308.14      -174.89"
      ]
     },
     "metadata": {},
     "output_type": "display_data"
    },
    {
     "data": {
      "text/markdown": [
       "*TABLE.* Difference between CLIRAD and CRD in TOA, SFC and net atmosphere flux, over all spectral bands. CRD's TOA, SFC and net atmosphere flux, over all spectral bands."
      ],
      "text/plain": [
       "<IPython.core.display.Markdown object>"
      ]
     },
     "metadata": {},
     "output_type": "display_data"
    },
    {
     "data": {
      "text/html": [
       "<a id=\"Cooling_rates._saw.\"></a>"
      ],
      "text/plain": [
       "<IPython.core.display.HTML object>"
      ]
     },
     "metadata": {},
     "output_type": "display_data"
    },
    {
     "data": {
      "text/markdown": [
       "# Cooling rates. saw."
      ],
      "text/plain": [
       "<IPython.core.display.Markdown object>"
      ]
     },
     "metadata": {},
     "output_type": "display_data"
    },
    {
     "data": {
      "text/html": [
       "\n",
       "<div class=\"bk-root\">\n",
       "    <div class=\"bk-plotdiv\" id=\"eb709cb7-384c-4046-9a5c-447dd81788cd\"></div>\n",
       "</div>"
      ]
     },
     "metadata": {},
     "output_type": "display_data"
    },
    {
     "data": {
      "application/javascript": [
       "(function(root) {\n",
       "  function embed_document(root) {\n",
       "    \n",
       "  var docs_json = {\"8288a83b-0983-4df8-b52f-8174ff565ad7\":{\"roots\":{\"references\":[{\"attributes\":{},\"id\":\"a42eb802-f80a-4087-b352-0329cc5475ea\",\"type\":\"Selection\"},{\"attributes\":{},\"id\":\"0270872b-f03f-4e94-9d1c-ce6df1932768\",\"type\":\"BasicTickFormatter\"},{\"attributes\":{\"callback\":null,\"end\":16.436129494999037,\"start\":0.38472880768496},\"id\":\"d7cf62ee-bccc-4469-88fd-38ec230c4a5f\",\"type\":\"Range1d\"},{\"attributes\":{\"callback\":null,\"end\":0.01,\"start\":1020},\"id\":\"400f4e83-2c54-4b36-a25b-af60bf75ccfa\",\"type\":\"Range1d\"},{\"attributes\":{\"items\":[{\"id\":\"b3b59371-0cba-445f-8d97-c52982aca555\",\"type\":\"LegendItem\"},{\"id\":\"731b5526-306b-4cc5-95b9-a9718bc15019\",\"type\":\"LegendItem\"}],\"label_text_font_size\":{\"value\":\"8pt\"},\"location\":\"top_center\",\"orientation\":\"horizontal\",\"plot\":{\"id\":\"f180d560-5bee-490d-9ee8-e37d188070e2\",\"subtype\":\"Figure\",\"type\":\"Plot\"}},\"id\":\"cdd48431-77aa-4d01-b3dd-1dfe63b65dd5\",\"type\":\"Legend\"},{\"attributes\":{},\"id\":\"8889fb97-11eb-4a27-96ee-ebeb450df12d\",\"type\":\"LogScale\"},{\"attributes\":{},\"id\":\"f2a26ae0-6b95-4e21-9fd6-49e917fa85d2\",\"type\":\"UnionRenderers\"},{\"attributes\":{},\"id\":\"e81fd150-f16f-40ef-ac86-fac9b26d997b\",\"type\":\"Selection\"},{\"attributes\":{\"dimension\":1,\"plot\":{\"id\":\"31bfeae6-315b-4225-9a9d-e3438ef39838\",\"subtype\":\"Figure\",\"type\":\"Plot\"},\"ticker\":{\"id\":\"5b2b1246-c705-4ec8-bc18-27cacc280bf7\",\"type\":\"LogTicker\"}},\"id\":\"ea909f9a-df69-4671-ae9c-60360bea28f4\",\"type\":\"Grid\"},{\"attributes\":{},\"id\":\"e80921d5-35cf-4944-b04d-54f9b469efde\",\"type\":\"LogScale\"},{\"attributes\":{},\"id\":\"2e8c279d-8679-4c26-92d1-6301e4d6796a\",\"type\":\"UnionRenderers\"},{\"attributes\":{\"tools\":[{\"id\":\"0a220c06-157e-4e7d-a65e-0128cef4e081\",\"type\":\"PanTool\"},{\"id\":\"68c2545a-b28b-4795-bbe7-c539a52aa751\",\"type\":\"WheelZoomTool\"},{\"id\":\"ff9cfb43-ec15-483f-b52d-f51d200efad1\",\"type\":\"BoxZoomTool\"},{\"id\":\"3ed0c039-a7a5-431a-9489-737dae2bcc35\",\"type\":\"SaveTool\"},{\"id\":\"df1b0409-fdd4-4873-a5d3-fd20aac88f7b\",\"type\":\"ResetTool\"},{\"id\":\"8fd041c7-cf03-4a0b-8374-e57045e91484\",\"type\":\"HelpTool\"},{\"id\":\"25fb520f-531d-4ff6-8118-9099ef94f8ea\",\"type\":\"PanTool\"},{\"id\":\"ac813ea8-56a9-404e-b50d-4478d37f42b7\",\"type\":\"WheelZoomTool\"},{\"id\":\"3d7008cb-0173-46b3-a117-7bd682b23aaf\",\"type\":\"BoxZoomTool\"},{\"id\":\"223e9e46-acff-4fdd-a7f0-1c69b26be89e\",\"type\":\"SaveTool\"},{\"id\":\"fa407a83-d5b4-45dc-9141-e8dbca9e0203\",\"type\":\"ResetTool\"},{\"id\":\"7fee8705-c22a-43d7-9eb5-f38b28d45fc2\",\"type\":\"HelpTool\"},{\"id\":\"c3f5b86e-cc82-4dc1-81d7-56a627b46832\",\"type\":\"PanTool\"},{\"id\":\"34f095cb-e424-46e7-9d57-34ecb0bda9ba\",\"type\":\"WheelZoomTool\"},{\"id\":\"1d6ad6d6-b3b2-4fa5-b2fe-2b70b3eaf7ef\",\"type\":\"BoxZoomTool\"},{\"id\":\"587b9de5-df1b-46d3-942c-a74fce18b523\",\"type\":\"SaveTool\"},{\"id\":\"1586d265-3e41-4796-a283-9f989ceb0d08\",\"type\":\"ResetTool\"},{\"id\":\"97caa1b7-3ff6-4e4f-a793-6d2368cb4911\",\"type\":\"HelpTool\"}]},\"id\":\"3bb7288f-a26e-4f2e-bb11-d6e782a10744\",\"type\":\"ProxyToolbar\"},{\"attributes\":{},\"id\":\"6cf1c4e4-fda7-4c21-ac53-3b193084d1df\",\"type\":\"LinearScale\"},{\"attributes\":{},\"id\":\"7669ec76-8e87-4a71-855d-11a3676139f8\",\"type\":\"Selection\"},{\"attributes\":{},\"id\":\"7773dc2f-11f5-4480-a2cb-489591c9d220\",\"type\":\"UnionRenderers\"},{\"attributes\":{},\"id\":\"e9252c52-9687-48bc-8ce1-605bef939e4b\",\"type\":\"LinearScale\"},{\"attributes\":{\"line_alpha\":0.1,\"line_color\":\"#1f77b4\",\"line_dash\":[6],\"line_width\":5,\"x\":{\"field\":\"x\"},\"y\":{\"field\":\"y\"}},\"id\":\"29d92cd8-536c-48fe-995f-4b993784e9c4\",\"type\":\"Line\"},{\"attributes\":{},\"id\":\"82b3b09b-474b-49aa-9470-25d31bd99733\",\"type\":\"UnionRenderers\"},{\"attributes\":{\"plot\":null,\"text\":\"\"},\"id\":\"ebc9cd5c-b5b0-4df9-9783-18584f93ec06\",\"type\":\"Title\"},{\"attributes\":{\"label\":{\"value\":\"CRD\"},\"renderers\":[{\"id\":\"dd1ff3ef-a534-4a30-8203-aa00507806ac\",\"type\":\"GlyphRenderer\"},{\"id\":\"9733c6cc-8254-4177-bd6e-440ec8d5ea48\",\"type\":\"GlyphRenderer\"}]},\"id\":\"242b70ee-74eb-47ee-95b0-23788e6af5c7\",\"type\":\"LegendItem\"},{\"attributes\":{\"toolbar\":{\"id\":\"3bb7288f-a26e-4f2e-bb11-d6e782a10744\",\"type\":\"ProxyToolbar\"},\"toolbar_location\":\"above\"},\"id\":\"11228502-3619-4767-b995-53d050aee1f6\",\"type\":\"ToolbarBox\"},{\"attributes\":{},\"id\":\"c73a5666-4400-4f6b-a0c3-3e7e6b6a1acb\",\"type\":\"LinearScale\"},{\"attributes\":{\"ticker\":null},\"id\":\"4ead7f56-d004-498f-bb5e-a1a9240c03cc\",\"type\":\"LogTickFormatter\"},{\"attributes\":{\"axis_label\":\"cooling rate [K/day]\",\"formatter\":{\"id\":\"b797888b-d8ee-441f-9520-159d4277b88b\",\"type\":\"BasicTickFormatter\"},\"plot\":{\"id\":\"31bfeae6-315b-4225-9a9d-e3438ef39838\",\"subtype\":\"Figure\",\"type\":\"Plot\"},\"ticker\":{\"id\":\"88e10d3c-788b-4668-b9c2-e37582b191b3\",\"type\":\"BasicTicker\"}},\"id\":\"06e6672f-e185-4ad5-b2eb-d8294271b548\",\"type\":\"LinearAxis\"},{\"attributes\":{\"num_minor_ticks\":10},\"id\":\"5b2b1246-c705-4ec8-bc18-27cacc280bf7\",\"type\":\"LogTicker\"},{\"attributes\":{},\"id\":\"dc91562c-a946-49d1-8689-ea590694d82d\",\"type\":\"UnionRenderers\"},{\"attributes\":{\"axis_label\":\"pressure [mb]\",\"formatter\":{\"id\":\"4ead7f56-d004-498f-bb5e-a1a9240c03cc\",\"type\":\"LogTickFormatter\"},\"plot\":{\"id\":\"31bfeae6-315b-4225-9a9d-e3438ef39838\",\"subtype\":\"Figure\",\"type\":\"Plot\"},\"ticker\":{\"id\":\"5b2b1246-c705-4ec8-bc18-27cacc280bf7\",\"type\":\"LogTicker\"}},\"id\":\"b03b8534-94fd-4f6a-acda-e5c5f4aa1eb7\",\"type\":\"LogAxis\"},{\"attributes\":{\"label\":{\"value\":\"CLIRAD (single-run) - CRD\"},\"renderers\":[{\"id\":\"186e9316-2d02-4a7d-bc1a-df85673717de\",\"type\":\"GlyphRenderer\"},{\"id\":\"34d03446-bc2b-4c51-ab9b-63cc234324a2\",\"type\":\"GlyphRenderer\"}]},\"id\":\"32aecbfd-354b-4ea4-bacb-227488a010f6\",\"type\":\"LegendItem\"},{\"attributes\":{},\"id\":\"b797888b-d8ee-441f-9520-159d4277b88b\",\"type\":\"BasicTickFormatter\"},{\"attributes\":{\"plot\":{\"id\":\"92c16e8c-46bd-403a-a943-b247f23082fe\",\"subtype\":\"Figure\",\"type\":\"Plot\"},\"ticker\":{\"id\":\"1010d2cf-dc5e-467c-a89b-1738ab1f5744\",\"type\":\"BasicTicker\"}},\"id\":\"1f4148c6-0781-4718-96e8-667325d838c5\",\"type\":\"Grid\"},{\"attributes\":{\"callback\":null,\"end\":1.003365853007001,\"start\":-1.6684061262609995},\"id\":\"f7c84a9b-7335-4a98-9c02-494412621b91\",\"type\":\"Range1d\"},{\"attributes\":{},\"id\":\"68b6abaf-d8e1-4baa-84e6-babae0639fd0\",\"type\":\"BasicTickFormatter\"},{\"attributes\":{\"axis_label\":\"pressure [mb]\",\"formatter\":{\"id\":\"e012287e-0953-45fe-a583-7ee01afbdf21\",\"type\":\"LogTickFormatter\"},\"plot\":{\"id\":\"92c16e8c-46bd-403a-a943-b247f23082fe\",\"subtype\":\"Figure\",\"type\":\"Plot\"},\"ticker\":{\"id\":\"c9567c77-e810-45c6-a8d1-e1ac4bea9fec\",\"type\":\"LogTicker\"}},\"id\":\"93c676e0-20f9-4645-ba47-e49007efb5f3\",\"type\":\"LogAxis\"},{\"attributes\":{\"callback\":null,\"data\":{\"x\":{\"__ndarray__\":\"SQyxGSuWQEBhQffNA488QKxYHyvuWz5ALd+LPE72PkAjPx9ZZwg+QNPUOHFBiztAdD7apLbaN0CUAB7KddMzQCB9YltCgjBARzfA8+lFLUCVYMR0eVUsQPWQG/yU3ixA9TTT5Im8LUC0oTM23EItQD7sOnN9qCpARCjvnZpQJ0Dpxgc0XH8kQF05m48O3CJAcIA1UZ+vIkC2ZdsUW8gjQESvg9LmOCZAQ8FJRw28JUCNP/OKFjohQKBWWMq+ixlAeMTfjE2WE0D29TYz2QsQQFfTYo/zIQtAz/zmdr8yBkC/s/pA4IYCQJIvt3jcGQBAxNjeiKnY/T+1pMwBqMf5P/QRV1O7UfU//ahsYLh+8j+JHeyEQAvxP+C69j5iMfA/Dz2v62MW7D+D4/RmZxPmP/Vt11oWLuQ/n6DY8DxL5D9m6KOqWhflP2n4D0uUwuQ/UJ1jq5cI5D+nEwtxYubiPxCGaHXEbt8/tjBXe+JzHEDvWiXEkxMWQNc6TnKT8tg/IFJZ+rPZGUCltgtSXurgP79KgxcmhCZAlfxsweK5JcC/dnZFmM/Nvyzn5qKkC7q/lCPA4WGtKb+ZCA8rwJ21P5zDa9WeK8Q/pVLfncZdzD88FkOIF6PRP/FnUxGJi9Q/b13z452u1j9gGBCgdlbYP4V+RqNriNk/6m77f4yp2j/bHECmCTDcP6+F9j0s7N4/TAWNP2cPJkACPpWMyVoGQNTTi0YsFcQ/PLjOzoivBUD7L4Sj+oPMP36J1ChBOcQ/Wrm1fPJLsz9QEbx8U5c0Py13T1ulvMC/\",\"dtype\":\"float64\",\"shape\":[75]},\"y\":{\"__ndarray__\":\"GhExyth1ND/Sv8nbtpRIP2vylNV0PVE/aTum7souWD/At0SJ8fVgPw3Iuahxymc/MSNhhJWvcD/bTfBN02d3P2zb5nxnaoA/CD5h5MAGhz8NmeH1TyaQP+zrCsc9p5Y/LbKd76fGnz/bLW5ISEmmPww9YvTcQq8/JV2OstnstT8Er5Y7M8G+P0c+r3jqkcU/5h99k6ZBzj88bCIzFzjVP4enV8oyxN0//yH99nXg5D8qOpLLf0jtP5kqGJXUifQ/c9cS8kHP/D+/DpwzojQEQIEmwoanVwxA4lgXt9HgE0BSSZ2AJuIbQAMJih9jjiNA5q4l5INuK0AwTKYKRj0zQNv5fmq8/DpAaCJseHrtQkB/+zpwzoxKQM3MzMzMeFJAZmZmZmZqWEAAAAAAAFxeQM3MzMzMJmJAmpmZmZkfZUBmZmZmZhhoQDMzMzMzEWtAAAAAAAAKbkBmZmZmZoFwQM3MzMzM/XFAMzMzMzN6c0CamZmZmfZ0QAAAAAAAc3ZAZmZmZmbvd0DNzMzMzGt5QDMzMzMz6HpAmpmZmZlkfEAAAAAAAOF9QGZmZmZmXX9AZmZmZuZsgECamZmZGSuBQM3MzMxM6YFAAAAAAICngkAzMzMzs2WDQGZmZmbmI4RAmpmZmRnihEDNzMzMTKCFQAAAAACAXoZAMzMzM7Mch0BmZmZm5tqHQJqZmZkZmYhAzczMzExXiUAAAAAAgBWKQDMzMzOz04pAZmZmZuaRi0CamZmZGVCMQM3MzMxMDo1AAAAAAIDMjUAzMzMzs4qOQGZmZmbmSI9A\",\"dtype\":\"float64\",\"shape\":[75]}},\"selected\":{\"id\":\"e2f2fca9-1023-4547-a0c9-422c75394d1d\",\"type\":\"Selection\"},\"selection_policy\":{\"id\":\"36531e72-b1d3-4fc9-88d0-967e033eb66d\",\"type\":\"UnionRenderers\"}},\"id\":\"44a2a2ff-5eb0-4541-aed0-fadf48490c58\",\"type\":\"ColumnDataSource\"},{\"attributes\":{\"axis_label\":\"cooling rate [K/day]\",\"formatter\":{\"id\":\"68b6abaf-d8e1-4baa-84e6-babae0639fd0\",\"type\":\"BasicTickFormatter\"},\"plot\":{\"id\":\"92c16e8c-46bd-403a-a943-b247f23082fe\",\"subtype\":\"Figure\",\"type\":\"Plot\"},\"ticker\":{\"id\":\"1010d2cf-dc5e-467c-a89b-1738ab1f5744\",\"type\":\"BasicTicker\"}},\"id\":\"041ce530-f1d9-44a7-82ea-0064bf2f36ae\",\"type\":\"LinearAxis\"},{\"attributes\":{\"label\":{\"value\":\"CRD\"},\"renderers\":[{\"id\":\"135955ff-935a-4590-9f1c-761819f2c1da\",\"type\":\"GlyphRenderer\"},{\"id\":\"21628d27-ec45-4bbd-901c-de9e43513933\",\"type\":\"GlyphRenderer\"}]},\"id\":\"731b5526-306b-4cc5-95b9-a9718bc15019\",\"type\":\"LegendItem\"},{\"attributes\":{\"plot\":null,\"text\":\"\"},\"id\":\"4ed86f2b-6016-4ab2-a849-de49abb6faeb\",\"type\":\"Title\"},{\"attributes\":{\"above\":[{\"id\":\"cdd48431-77aa-4d01-b3dd-1dfe63b65dd5\",\"type\":\"Legend\"}],\"below\":[{\"id\":\"56b55630-1982-45a4-afe5-5b719c43b3cc\",\"type\":\"LinearAxis\"}],\"left\":[{\"id\":\"129c6a7a-31a3-4806-99f2-67c1c95b1afa\",\"type\":\"LinearAxis\"}],\"plot_width\":300,\"renderers\":[{\"id\":\"56b55630-1982-45a4-afe5-5b719c43b3cc\",\"type\":\"LinearAxis\"},{\"id\":\"b0fcb92e-b05a-4720-b6cb-d4cd9dbf3590\",\"type\":\"Grid\"},{\"id\":\"129c6a7a-31a3-4806-99f2-67c1c95b1afa\",\"type\":\"LinearAxis\"},{\"id\":\"151bc387-7658-447b-9df5-16048d65e956\",\"type\":\"Grid\"},{\"id\":\"d99610b4-3e8d-4b15-ab88-7eef22f5d2de\",\"type\":\"BoxAnnotation\"},{\"id\":\"f233fb9a-9a71-42df-8579-ec8e3d707ffc\",\"type\":\"GlyphRenderer\"},{\"id\":\"135955ff-935a-4590-9f1c-761819f2c1da\",\"type\":\"GlyphRenderer\"},{\"id\":\"21628d27-ec45-4bbd-901c-de9e43513933\",\"type\":\"GlyphRenderer\"},{\"id\":\"cdd48431-77aa-4d01-b3dd-1dfe63b65dd5\",\"type\":\"Legend\"}],\"title\":{\"id\":\"1f88a660-60db-486b-8e1d-0f9724f55904\",\"type\":\"Title\"},\"toolbar\":{\"id\":\"6a95bd38-cdc4-4468-828e-3d3188435024\",\"type\":\"Toolbar\"},\"toolbar_location\":null,\"x_range\":{\"id\":\"52143698-eddf-4ee5-9ac9-2d348d2cbbda\",\"type\":\"Range1d\"},\"x_scale\":{\"id\":\"426c019b-a184-4d0f-98cf-739d4f42c483\",\"type\":\"LinearScale\"},\"y_range\":{\"id\":\"66f7804c-cf67-483d-8b6b-7de0784de6d0\",\"type\":\"Range1d\"},\"y_scale\":{\"id\":\"6cf1c4e4-fda7-4c21-ac53-3b193084d1df\",\"type\":\"LinearScale\"}},\"id\":\"f180d560-5bee-490d-9ee8-e37d188070e2\",\"subtype\":\"Figure\",\"type\":\"Plot\"},{\"attributes\":{\"data_source\":{\"id\":\"a4178fae-9cd8-449c-9e05-da94df90511c\",\"type\":\"ColumnDataSource\"},\"glyph\":{\"id\":\"7951d1f1-7baf-429f-a905-7ee55ddcc15b\",\"type\":\"Line\"},\"hover_glyph\":null,\"muted_glyph\":null,\"nonselection_glyph\":{\"id\":\"29d92cd8-536c-48fe-995f-4b993784e9c4\",\"type\":\"Line\"},\"selection_glyph\":null,\"view\":{\"id\":\"c59bed30-7b8c-4943-a8b6-33b7b995b8c8\",\"type\":\"CDSView\"}},\"id\":\"f233fb9a-9a71-42df-8579-ec8e3d707ffc\",\"type\":\"GlyphRenderer\"},{\"attributes\":{},\"id\":\"8cfef431-9f65-4589-83ae-02d8c28e7a1c\",\"type\":\"BasicTickFormatter\"},{\"attributes\":{\"label\":{\"value\":\"CLIRAD (single-run)\"},\"renderers\":[{\"id\":\"f233fb9a-9a71-42df-8579-ec8e3d707ffc\",\"type\":\"GlyphRenderer\"}]},\"id\":\"b3b59371-0cba-445f-8d97-c52982aca555\",\"type\":\"LegendItem\"},{\"attributes\":{},\"id\":\"4d2448a4-5ec1-4347-a2cd-7fcc4d9b19ff\",\"type\":\"Selection\"},{\"attributes\":{\"items\":[{\"id\":\"4d52aed1-bb46-49cc-8b20-b03dfc559276\",\"type\":\"LegendItem\"},{\"id\":\"242b70ee-74eb-47ee-95b0-23788e6af5c7\",\"type\":\"LegendItem\"}],\"label_text_font_size\":{\"value\":\"8pt\"},\"location\":\"top_center\",\"orientation\":\"horizontal\",\"plot\":{\"id\":\"31bfeae6-315b-4225-9a9d-e3438ef39838\",\"subtype\":\"Figure\",\"type\":\"Plot\"}},\"id\":\"3c9852f0-1605-45a4-bd17-93e2703c9237\",\"type\":\"Legend\"},{\"attributes\":{\"ticker\":null},\"id\":\"e012287e-0953-45fe-a583-7ee01afbdf21\",\"type\":\"LogTickFormatter\"},{\"attributes\":{\"axis_label\":\"cooling rate [K/day]\",\"formatter\":{\"id\":\"0270872b-f03f-4e94-9d1c-ce6df1932768\",\"type\":\"BasicTickFormatter\"},\"plot\":{\"id\":\"f180d560-5bee-490d-9ee8-e37d188070e2\",\"subtype\":\"Figure\",\"type\":\"Plot\"},\"ticker\":{\"id\":\"bb9f2064-478c-4936-8965-561b6a4ed15f\",\"type\":\"BasicTicker\"}},\"id\":\"56b55630-1982-45a4-afe5-5b719c43b3cc\",\"type\":\"LinearAxis\"},{\"attributes\":{\"plot\":{\"id\":\"31bfeae6-315b-4225-9a9d-e3438ef39838\",\"subtype\":\"Figure\",\"type\":\"Plot\"},\"ticker\":{\"id\":\"88e10d3c-788b-4668-b9c2-e37582b191b3\",\"type\":\"BasicTicker\"}},\"id\":\"5a0a6559-29e3-46b1-81d5-56102a3c1e9b\",\"type\":\"Grid\"},{\"attributes\":{\"dimension\":1,\"plot\":{\"id\":\"92c16e8c-46bd-403a-a943-b247f23082fe\",\"subtype\":\"Figure\",\"type\":\"Plot\"},\"ticker\":{\"id\":\"c9567c77-e810-45c6-a8d1-e1ac4bea9fec\",\"type\":\"LogTicker\"}},\"id\":\"c1fc3016-84c8-46ed-aed5-6c4a21149acd\",\"type\":\"Grid\"},{\"attributes\":{\"plot\":{\"id\":\"f180d560-5bee-490d-9ee8-e37d188070e2\",\"subtype\":\"Figure\",\"type\":\"Plot\"},\"ticker\":{\"id\":\"bb9f2064-478c-4936-8965-561b6a4ed15f\",\"type\":\"BasicTicker\"}},\"id\":\"b0fcb92e-b05a-4720-b6cb-d4cd9dbf3590\",\"type\":\"Grid\"},{\"attributes\":{},\"id\":\"c3f5b86e-cc82-4dc1-81d7-56a627b46832\",\"type\":\"PanTool\"},{\"attributes\":{\"dimension\":1,\"plot\":{\"id\":\"f180d560-5bee-490d-9ee8-e37d188070e2\",\"subtype\":\"Figure\",\"type\":\"Plot\"},\"ticker\":{\"id\":\"49bbce6c-849b-4101-9821-84c8f0f88933\",\"type\":\"BasicTicker\"}},\"id\":\"151bc387-7658-447b-9df5-16048d65e956\",\"type\":\"Grid\"},{\"attributes\":{},\"id\":\"36531e72-b1d3-4fc9-88d0-967e033eb66d\",\"type\":\"UnionRenderers\"},{\"attributes\":{\"items\":[{\"id\":\"32aecbfd-354b-4ea4-bacb-227488a010f6\",\"type\":\"LegendItem\"}],\"label_text_font_size\":{\"value\":\"8pt\"},\"location\":\"top_center\",\"orientation\":\"horizontal\",\"plot\":{\"id\":\"92c16e8c-46bd-403a-a943-b247f23082fe\",\"subtype\":\"Figure\",\"type\":\"Plot\"}},\"id\":\"f9d0882c-22cf-49ca-bf73-0a9faf2a9d38\",\"type\":\"Legend\"},{\"attributes\":{},\"id\":\"1010d2cf-dc5e-467c-a89b-1738ab1f5744\",\"type\":\"BasicTicker\"},{\"attributes\":{\"data_source\":{\"id\":\"b772452d-8284-4374-b308-29bd7a550dea\",\"type\":\"ColumnDataSource\"},\"glyph\":{\"id\":\"1de1725f-bf5f-4a45-bbfa-f45f5058ad9b\",\"type\":\"Line\"},\"hover_glyph\":null,\"muted_glyph\":null,\"nonselection_glyph\":{\"id\":\"f8b350e6-81ce-48cd-987c-58f49795492c\",\"type\":\"Line\"},\"selection_glyph\":null,\"view\":{\"id\":\"731e0bd8-039f-4ebc-8f48-c6e1cbf35c71\",\"type\":\"CDSView\"}},\"id\":\"34d03446-bc2b-4c51-ab9b-63cc234324a2\",\"type\":\"GlyphRenderer\"},{\"attributes\":{\"children\":[{\"id\":\"28bdd881-eab0-44b0-8651-a8a5e9972d3c\",\"type\":\"Row\"}]},\"id\":\"80bc5e24-9f6d-4f51-9314-64950ea0a286\",\"type\":\"Column\"},{\"attributes\":{\"children\":[{\"id\":\"f180d560-5bee-490d-9ee8-e37d188070e2\",\"subtype\":\"Figure\",\"type\":\"Plot\"},{\"id\":\"31bfeae6-315b-4225-9a9d-e3438ef39838\",\"subtype\":\"Figure\",\"type\":\"Plot\"},{\"id\":\"92c16e8c-46bd-403a-a943-b247f23082fe\",\"subtype\":\"Figure\",\"type\":\"Plot\"}]},\"id\":\"28bdd881-eab0-44b0-8651-a8a5e9972d3c\",\"type\":\"Row\"},{\"attributes\":{\"callback\":null,\"data\":{\"x\":{\"__ndarray__\":\"WkFRyr/dQ8CRlwfHt/IYwF2QCiFMnQPAqy2iMosv8j8DS5sdNaULQAkUiyFB5A9AGfFM7X3WBkCFn1B4A23rP7C/A0AvYu2/xqkfY4BG+r/4jJMGDfnzv3qYMuDWM9S/XbUlpoX94D9dkDo8/kTvP78aXy08ce0/ajLOs1oU2j+KAjLBGl/Pv6+Vj7nNseS/K8mtuRGv5L+6QESqIcfYvwBQUmynHLy/zNBm4US8uj/YDTP/iPHFP3ykVMjLAK+/I1/xZ06Sx79JGjGwEbOOP61/bMNXeNQ/ZZT56qUE1T8b4B2TSBjEP7Xf0GJPPLQ/gsmtVWe2yj8cNUsLGEfSP7nRMHHC5Mk/Ucu5eVaJtD93r0mbJ0O7PyCuhJm/v8k/+qQHH5xtyD9NNqrN2ozAP7wdFV+hfrY/XL0tjCKTtz9YW50tmGi7P6FgeOe4cL4/ZCmjcz30wD/xcgVSt4fDP6HRrqFQ48Y/YnVNzJxYG0BT3sTN3U4UQCM5yxPJv82/s12PVeNHFkAtuu5kiBblv7IMpLO9uyNAHtOCSR+/KMAVOdYEvMb8v7cdGCsF5vq/0zvNi6sS+b9ZoxMLOUD3v7JAo2PvdvW/dLQA+ru6879nQ2LpIRnyv6N45dcnkfC/g4Ql8GBq7r/tH8Nor+3rv1ceX2Wmsem/aaHGwB+W5787hIzx8Xrlv1i4LYybG+O/ZmFcZX7tI0Dwjk4EioT7P+8NX1FT3O2/DnQnt3FM+j8EQwu8G7Pnv0p75m+UuOS/ewOU/sJt4r9BFXBAhobgv0s0DVBR5d2/\",\"dtype\":\"float64\",\"shape\":[75]},\"y\":{\"__ndarray__\":\"GhExyth1ND/Sv8nbtpRIP2vylNV0PVE/aTum7souWD/At0SJ8fVgPw3Iuahxymc/MSNhhJWvcD/bTfBN02d3P2zb5nxnaoA/CD5h5MAGhz8NmeH1TyaQP+zrCsc9p5Y/LbKd76fGnz/bLW5ISEmmPww9YvTcQq8/JV2OstnstT8Er5Y7M8G+P0c+r3jqkcU/5h99k6ZBzj88bCIzFzjVP4enV8oyxN0//yH99nXg5D8qOpLLf0jtP5kqGJXUifQ/c9cS8kHP/D+/DpwzojQEQIEmwoanVwxA4lgXt9HgE0BSSZ2AJuIbQAMJih9jjiNA5q4l5INuK0AwTKYKRj0zQNv5fmq8/DpAaCJseHrtQkB/+zpwzoxKQM3MzMzMeFJAZmZmZmZqWEAAAAAAAFxeQM3MzMzMJmJAmpmZmZkfZUBmZmZmZhhoQDMzMzMzEWtAAAAAAAAKbkBmZmZmZoFwQM3MzMzM/XFAMzMzMzN6c0CamZmZmfZ0QAAAAAAAc3ZAZmZmZmbvd0DNzMzMzGt5QDMzMzMz6HpAmpmZmZlkfEAAAAAAAOF9QGZmZmZmXX9AZmZmZuZsgECamZmZGSuBQM3MzMxM6YFAAAAAAICngkAzMzMzs2WDQGZmZmbmI4RAmpmZmRnihEDNzMzMTKCFQAAAAACAXoZAMzMzM7Mch0BmZmZm5tqHQJqZmZkZmYhAzczMzExXiUAAAAAAgBWKQDMzMzOz04pAZmZmZuaRi0CamZmZGVCMQM3MzMxMDo1AAAAAAIDMjUAzMzMzs4qOQGZmZmbmSI9A\",\"dtype\":\"float64\",\"shape\":[75]}},\"selected\":{\"id\":\"4d2448a4-5ec1-4347-a2cd-7fcc4d9b19ff\",\"type\":\"Selection\"},\"selection_policy\":{\"id\":\"7773dc2f-11f5-4480-a2cb-489591c9d220\",\"type\":\"UnionRenderers\"}},\"id\":\"385a306c-4e1f-4900-9cf9-fa1e1bffad84\",\"type\":\"ColumnDataSource\"},{\"attributes\":{\"overlay\":{\"id\":\"2d063d0f-440c-441e-81d3-f6d805ff43ca\",\"type\":\"BoxAnnotation\"}},\"id\":\"1d6ad6d6-b3b2-4fa5-b2fe-2b70b3eaf7ef\",\"type\":\"BoxZoomTool\"},{\"attributes\":{\"bottom_units\":\"screen\",\"fill_alpha\":{\"value\":0.5},\"fill_color\":{\"value\":\"lightgrey\"},\"left_units\":\"screen\",\"level\":\"overlay\",\"line_alpha\":{\"value\":1.0},\"line_color\":{\"value\":\"black\"},\"line_dash\":[4,4],\"line_width\":{\"value\":2},\"plot\":null,\"render_mode\":\"css\",\"right_units\":\"screen\",\"top_units\":\"screen\"},\"id\":\"10a4a861-b65d-406f-acf6-b9bd9d794379\",\"type\":\"BoxAnnotation\"},{\"attributes\":{},\"id\":\"88e10d3c-788b-4668-b9c2-e37582b191b3\",\"type\":\"BasicTicker\"},{\"attributes\":{\"line_alpha\":0.1,\"line_color\":\"#1f77b4\",\"line_dash\":[6],\"line_width\":5,\"x\":{\"field\":\"x\"},\"y\":{\"field\":\"y\"}},\"id\":\"e21d99da-5044-48cf-9eaf-c8bb73106394\",\"type\":\"Line\"},{\"attributes\":{\"data_source\":{\"id\":\"44a2a2ff-5eb0-4541-aed0-fadf48490c58\",\"type\":\"ColumnDataSource\"},\"glyph\":{\"id\":\"ac075449-a32d-40df-9be1-9248d73ad0f6\",\"type\":\"Line\"},\"hover_glyph\":null,\"muted_glyph\":null,\"nonselection_glyph\":{\"id\":\"e21d99da-5044-48cf-9eaf-c8bb73106394\",\"type\":\"Line\"},\"selection_glyph\":null,\"view\":{\"id\":\"6137399b-4b02-43cd-bf58-2dd540176176\",\"type\":\"CDSView\"}},\"id\":\"d5f71e6a-583f-4c83-b757-c9ee7af5b657\",\"type\":\"GlyphRenderer\"},{\"attributes\":{\"axis_label\":\"pressure [mb]\",\"formatter\":{\"id\":\"8cfef431-9f65-4589-83ae-02d8c28e7a1c\",\"type\":\"BasicTickFormatter\"},\"plot\":{\"id\":\"f180d560-5bee-490d-9ee8-e37d188070e2\",\"subtype\":\"Figure\",\"type\":\"Plot\"},\"ticker\":{\"id\":\"49bbce6c-849b-4101-9821-84c8f0f88933\",\"type\":\"BasicTicker\"}},\"id\":\"129c6a7a-31a3-4806-99f2-67c1c95b1afa\",\"type\":\"LinearAxis\"},{\"attributes\":{\"above\":[{\"id\":\"f9d0882c-22cf-49ca-bf73-0a9faf2a9d38\",\"type\":\"Legend\"}],\"below\":[{\"id\":\"041ce530-f1d9-44a7-82ea-0064bf2f36ae\",\"type\":\"LinearAxis\"}],\"left\":[{\"id\":\"93c676e0-20f9-4645-ba47-e49007efb5f3\",\"type\":\"LogAxis\"}],\"plot_width\":300,\"renderers\":[{\"id\":\"041ce530-f1d9-44a7-82ea-0064bf2f36ae\",\"type\":\"LinearAxis\"},{\"id\":\"1f4148c6-0781-4718-96e8-667325d838c5\",\"type\":\"Grid\"},{\"id\":\"93c676e0-20f9-4645-ba47-e49007efb5f3\",\"type\":\"LogAxis\"},{\"id\":\"c1fc3016-84c8-46ed-aed5-6c4a21149acd\",\"type\":\"Grid\"},{\"id\":\"2d063d0f-440c-441e-81d3-f6d805ff43ca\",\"type\":\"BoxAnnotation\"},{\"id\":\"186e9316-2d02-4a7d-bc1a-df85673717de\",\"type\":\"GlyphRenderer\"},{\"id\":\"34d03446-bc2b-4c51-ab9b-63cc234324a2\",\"type\":\"GlyphRenderer\"},{\"id\":\"f9d0882c-22cf-49ca-bf73-0a9faf2a9d38\",\"type\":\"Legend\"}],\"title\":{\"id\":\"ebc9cd5c-b5b0-4df9-9783-18584f93ec06\",\"type\":\"Title\"},\"toolbar\":{\"id\":\"7584f6e1-3ce3-4ca9-801e-5f9e924ec788\",\"type\":\"Toolbar\"},\"toolbar_location\":null,\"x_range\":{\"id\":\"f7c84a9b-7335-4a98-9c02-494412621b91\",\"type\":\"Range1d\"},\"x_scale\":{\"id\":\"e9252c52-9687-48bc-8ce1-605bef939e4b\",\"type\":\"LinearScale\"},\"y_range\":{\"id\":\"400f4e83-2c54-4b36-a25b-af60bf75ccfa\",\"type\":\"Range1d\"},\"y_scale\":{\"id\":\"8889fb97-11eb-4a27-96ee-ebeb450df12d\",\"type\":\"LogScale\"}},\"id\":\"92c16e8c-46bd-403a-a943-b247f23082fe\",\"subtype\":\"Figure\",\"type\":\"Plot\"},{\"attributes\":{\"callback\":null,\"end\":11.4793147302343,\"start\":-11.084269745204299},\"id\":\"52143698-eddf-4ee5-9ac9-2d348d2cbbda\",\"type\":\"Range1d\"},{\"attributes\":{},\"id\":\"bb9f2064-478c-4936-8965-561b6a4ed15f\",\"type\":\"BasicTicker\"},{\"attributes\":{\"source\":{\"id\":\"b772452d-8284-4374-b308-29bd7a550dea\",\"type\":\"ColumnDataSource\"}},\"id\":\"731e0bd8-039f-4ebc-8f48-c6e1cbf35c71\",\"type\":\"CDSView\"},{\"attributes\":{},\"id\":\"587b9de5-df1b-46d3-942c-a74fce18b523\",\"type\":\"SaveTool\"},{\"attributes\":{},\"id\":\"49bbce6c-849b-4101-9821-84c8f0f88933\",\"type\":\"BasicTicker\"},{\"attributes\":{\"num_minor_ticks\":10},\"id\":\"c9567c77-e810-45c6-a8d1-e1ac4bea9fec\",\"type\":\"LogTicker\"},{\"attributes\":{},\"id\":\"34f095cb-e424-46e7-9d57-34ecb0bda9ba\",\"type\":\"WheelZoomTool\"},{\"attributes\":{\"plot\":null,\"text\":\"\"},\"id\":\"1f88a660-60db-486b-8e1d-0f9724f55904\",\"type\":\"Title\"},{\"attributes\":{\"active_drag\":\"auto\",\"active_inspect\":\"auto\",\"active_scroll\":\"auto\",\"active_tap\":\"auto\",\"tools\":[{\"id\":\"c3f5b86e-cc82-4dc1-81d7-56a627b46832\",\"type\":\"PanTool\"},{\"id\":\"34f095cb-e424-46e7-9d57-34ecb0bda9ba\",\"type\":\"WheelZoomTool\"},{\"id\":\"1d6ad6d6-b3b2-4fa5-b2fe-2b70b3eaf7ef\",\"type\":\"BoxZoomTool\"},{\"id\":\"587b9de5-df1b-46d3-942c-a74fce18b523\",\"type\":\"SaveTool\"},{\"id\":\"1586d265-3e41-4796-a283-9f989ceb0d08\",\"type\":\"ResetTool\"},{\"id\":\"97caa1b7-3ff6-4e4f-a793-6d2368cb4911\",\"type\":\"HelpTool\"}]},\"id\":\"7584f6e1-3ce3-4ca9-801e-5f9e924ec788\",\"type\":\"Toolbar\"},{\"attributes\":{\"line_alpha\":0.6,\"line_color\":\"#377eb8\",\"line_dash\":[6],\"line_width\":5,\"x\":{\"field\":\"x\"},\"y\":{\"field\":\"y\"}},\"id\":\"7951d1f1-7baf-429f-a905-7ee55ddcc15b\",\"type\":\"Line\"},{\"attributes\":{\"source\":{\"id\":\"494d73af-7f4f-4e3e-8ce2-8109078d4b59\",\"type\":\"ColumnDataSource\"}},\"id\":\"2f659c52-bb35-4eba-a1fc-696f62d7b840\",\"type\":\"CDSView\"},{\"attributes\":{},\"id\":\"1586d265-3e41-4796-a283-9f989ceb0d08\",\"type\":\"ResetTool\"},{\"attributes\":{\"data_source\":{\"id\":\"7ff1f994-660e-44d9-b5ed-f245c1512eaa\",\"type\":\"ColumnDataSource\"},\"glyph\":{\"id\":\"7c179086-749c-4cfd-8d64-678a9695fefd\",\"type\":\"Circle\"},\"hover_glyph\":null,\"muted_glyph\":null,\"nonselection_glyph\":{\"id\":\"02409222-e1c6-413a-b2d4-c20b2a8be0d4\",\"type\":\"Circle\"},\"selection_glyph\":null,\"view\":{\"id\":\"f6fcda3f-a68d-4675-9ce0-16e0ec12a90a\",\"type\":\"CDSView\"}},\"id\":\"135955ff-935a-4590-9f1c-761819f2c1da\",\"type\":\"GlyphRenderer\"},{\"attributes\":{\"active_drag\":\"auto\",\"active_inspect\":\"auto\",\"active_scroll\":\"auto\",\"active_tap\":\"auto\",\"tools\":[{\"id\":\"25fb520f-531d-4ff6-8118-9099ef94f8ea\",\"type\":\"PanTool\"},{\"id\":\"ac813ea8-56a9-404e-b50d-4478d37f42b7\",\"type\":\"WheelZoomTool\"},{\"id\":\"3d7008cb-0173-46b3-a117-7bd682b23aaf\",\"type\":\"BoxZoomTool\"},{\"id\":\"223e9e46-acff-4fdd-a7f0-1c69b26be89e\",\"type\":\"SaveTool\"},{\"id\":\"fa407a83-d5b4-45dc-9141-e8dbca9e0203\",\"type\":\"ResetTool\"},{\"id\":\"7fee8705-c22a-43d7-9eb5-f38b28d45fc2\",\"type\":\"HelpTool\"}]},\"id\":\"fc252be2-6c70-409e-ad88-026f2358e485\",\"type\":\"Toolbar\"},{\"attributes\":{\"fill_alpha\":{\"value\":0.7},\"fill_color\":{\"value\":\"#984ea3\"},\"line_alpha\":{\"value\":0.7},\"line_color\":{\"value\":\"#984ea3\"},\"x\":{\"field\":\"x\"},\"y\":{\"field\":\"y\"}},\"id\":\"283bae11-e2a0-4a8c-8ac6-a0b4e6a20e3a\",\"type\":\"Circle\"},{\"attributes\":{\"children\":[{\"id\":\"11228502-3619-4767-b995-53d050aee1f6\",\"type\":\"ToolbarBox\"},{\"id\":\"80bc5e24-9f6d-4f51-9314-64950ea0a286\",\"type\":\"Column\"}]},\"id\":\"acf67b52-d5f9-445e-bcbc-66acbf66a888\",\"type\":\"Column\"},{\"attributes\":{\"data_source\":{\"id\":\"385a306c-4e1f-4900-9cf9-fa1e1bffad84\",\"type\":\"ColumnDataSource\"},\"glyph\":{\"id\":\"283bae11-e2a0-4a8c-8ac6-a0b4e6a20e3a\",\"type\":\"Circle\"},\"hover_glyph\":null,\"muted_glyph\":null,\"nonselection_glyph\":{\"id\":\"d1205cf6-7df1-4894-8465-174fe7b7fb04\",\"type\":\"Circle\"},\"selection_glyph\":null,\"view\":{\"id\":\"33f4ec91-e79d-4622-8395-bc08bbddadb0\",\"type\":\"CDSView\"}},\"id\":\"186e9316-2d02-4a7d-bc1a-df85673717de\",\"type\":\"GlyphRenderer\"},{\"attributes\":{\"fill_alpha\":{\"value\":0.1},\"fill_color\":{\"value\":\"#1f77b4\"},\"line_alpha\":{\"value\":0.1},\"line_color\":{\"value\":\"#1f77b4\"},\"x\":{\"field\":\"x\"},\"y\":{\"field\":\"y\"}},\"id\":\"ee864032-f66d-41ec-bc8a-bbdaecccc6e7\",\"type\":\"Circle\"},{\"attributes\":{\"line_alpha\":0.1,\"line_color\":\"#1f77b4\",\"line_width\":1.5,\"x\":{\"field\":\"x\"},\"y\":{\"field\":\"y\"}},\"id\":\"ee53065f-ea9b-4770-9328-99396280768a\",\"type\":\"Line\"},{\"attributes\":{\"fill_alpha\":{\"value\":0.1},\"fill_color\":{\"value\":\"#1f77b4\"},\"line_alpha\":{\"value\":0.1},\"line_color\":{\"value\":\"#1f77b4\"},\"x\":{\"field\":\"x\"},\"y\":{\"field\":\"y\"}},\"id\":\"d1205cf6-7df1-4894-8465-174fe7b7fb04\",\"type\":\"Circle\"},{\"attributes\":{\"bottom_units\":\"screen\",\"fill_alpha\":{\"value\":0.5},\"fill_color\":{\"value\":\"lightgrey\"},\"left_units\":\"screen\",\"level\":\"overlay\",\"line_alpha\":{\"value\":1.0},\"line_color\":{\"value\":\"black\"},\"line_dash\":[4,4],\"line_width\":{\"value\":2},\"plot\":null,\"render_mode\":\"css\",\"right_units\":\"screen\",\"top_units\":\"screen\"},\"id\":\"2d063d0f-440c-441e-81d3-f6d805ff43ca\",\"type\":\"BoxAnnotation\"},{\"attributes\":{\"line_alpha\":0.1,\"line_color\":\"#1f77b4\",\"line_width\":1.5,\"x\":{\"field\":\"x\"},\"y\":{\"field\":\"y\"}},\"id\":\"f8b350e6-81ce-48cd-987c-58f49795492c\",\"type\":\"Line\"},{\"attributes\":{},\"id\":\"1be9ef8c-8508-4c9a-b432-e44345ea66c7\",\"type\":\"Selection\"},{\"attributes\":{\"source\":{\"id\":\"1fecc32a-ae43-433c-8260-c724fb76c378\",\"type\":\"ColumnDataSource\"}},\"id\":\"4d5f5f16-27de-4085-86d8-b3753575dc37\",\"type\":\"CDSView\"},{\"attributes\":{\"fill_alpha\":{\"value\":0.1},\"fill_color\":{\"value\":\"#1f77b4\"},\"line_alpha\":{\"value\":0.1},\"line_color\":{\"value\":\"#1f77b4\"},\"x\":{\"field\":\"x\"},\"y\":{\"field\":\"y\"}},\"id\":\"02409222-e1c6-413a-b2d4-c20b2a8be0d4\",\"type\":\"Circle\"},{\"attributes\":{},\"id\":\"e2f2fca9-1023-4547-a0c9-422c75394d1d\",\"type\":\"Selection\"},{\"attributes\":{\"callback\":null,\"data\":{\"x\":{\"__ndarray__\":\"SQyxGSuWQEBhQffNA488QKxYHyvuWz5ALd+LPE72PkAjPx9ZZwg+QNPUOHFBiztAdD7apLbaN0CUAB7KddMzQCB9YltCgjBARzfA8+lFLUCVYMR0eVUsQPWQG/yU3ixA9TTT5Im8LUC0oTM23EItQD7sOnN9qCpARCjvnZpQJ0Dpxgc0XH8kQF05m48O3CJAcIA1UZ+vIkC2ZdsUW8gjQESvg9LmOCZAQ8FJRw28JUCNP/OKFjohQKBWWMq+ixlAeMTfjE2WE0D29TYz2QsQQFfTYo/zIQtAz/zmdr8yBkC/s/pA4IYCQJIvt3jcGQBAxNjeiKnY/T+1pMwBqMf5P/QRV1O7UfU//ahsYLh+8j+JHeyEQAvxP+C69j5iMfA/Dz2v62MW7D+D4/RmZxPmP/Vt11oWLuQ/n6DY8DxL5D9m6KOqWhflP2n4D0uUwuQ/UJ1jq5cI5D+nEwtxYubiPxCGaHXEbt8/tjBXe+JzHEDvWiXEkxMWQNc6TnKT8tg/IFJZ+rPZGUCltgtSXurgP79KgxcmhCZAlfxsweK5JcC/dnZFmM/Nvyzn5qKkC7q/lCPA4WGtKb+ZCA8rwJ21P5zDa9WeK8Q/pVLfncZdzD88FkOIF6PRP/FnUxGJi9Q/b13z452u1j9gGBCgdlbYP4V+RqNriNk/6m77f4yp2j/bHECmCTDcP6+F9j0s7N4/TAWNP2cPJkACPpWMyVoGQNTTi0YsFcQ/PLjOzoivBUD7L4Sj+oPMP36J1ChBOcQ/Wrm1fPJLsz9QEbx8U5c0Py13T1ulvMC/\",\"dtype\":\"float64\",\"shape\":[75]},\"y\":{\"__ndarray__\":\"GhExyth1ND/Sv8nbtpRIP2vylNV0PVE/aTum7souWD/At0SJ8fVgPw3Iuahxymc/MSNhhJWvcD/bTfBN02d3P2zb5nxnaoA/CD5h5MAGhz8NmeH1TyaQP+zrCsc9p5Y/LbKd76fGnz/bLW5ISEmmPww9YvTcQq8/JV2OstnstT8Er5Y7M8G+P0c+r3jqkcU/5h99k6ZBzj88bCIzFzjVP4enV8oyxN0//yH99nXg5D8qOpLLf0jtP5kqGJXUifQ/c9cS8kHP/D+/DpwzojQEQIEmwoanVwxA4lgXt9HgE0BSSZ2AJuIbQAMJih9jjiNA5q4l5INuK0AwTKYKRj0zQNv5fmq8/DpAaCJseHrtQkB/+zpwzoxKQM3MzMzMeFJAZmZmZmZqWEAAAAAAAFxeQM3MzMzMJmJAmpmZmZkfZUBmZmZmZhhoQDMzMzMzEWtAAAAAAAAKbkBmZmZmZoFwQM3MzMzM/XFAMzMzMzN6c0CamZmZmfZ0QAAAAAAAc3ZAZmZmZmbvd0DNzMzMzGt5QDMzMzMz6HpAmpmZmZlkfEAAAAAAAOF9QGZmZmZmXX9AZmZmZuZsgECamZmZGSuBQM3MzMxM6YFAAAAAAICngkAzMzMzs2WDQGZmZmbmI4RAmpmZmRnihEDNzMzMTKCFQAAAAACAXoZAMzMzM7Mch0BmZmZm5tqHQJqZmZkZmYhAzczMzExXiUAAAAAAgBWKQDMzMzOz04pAZmZmZuaRi0CamZmZGVCMQM3MzMxMDo1AAAAAAIDMjUAzMzMzs4qOQGZmZmbmSI9A\",\"dtype\":\"float64\",\"shape\":[75]}},\"selected\":{\"id\":\"7669ec76-8e87-4a71-855d-11a3676139f8\",\"type\":\"Selection\"},\"selection_policy\":{\"id\":\"f2a26ae0-6b95-4e21-9fd6-49e917fa85d2\",\"type\":\"UnionRenderers\"}},\"id\":\"a4178fae-9cd8-449c-9e05-da94df90511c\",\"type\":\"ColumnDataSource\"},{\"attributes\":{\"source\":{\"id\":\"b460e0f2-437b-4f2e-8033-9c2ca8df49d2\",\"type\":\"ColumnDataSource\"}},\"id\":\"d1ca4fb2-3d22-4ba9-a2d9-e3def2635e1b\",\"type\":\"CDSView\"},{\"attributes\":{\"data_source\":{\"id\":\"494d73af-7f4f-4e3e-8ce2-8109078d4b59\",\"type\":\"ColumnDataSource\"},\"glyph\":{\"id\":\"f8ee0af4-4b90-4a6d-b4c9-d0ddcb1804c4\",\"type\":\"Line\"},\"hover_glyph\":null,\"muted_glyph\":null,\"nonselection_glyph\":{\"id\":\"84b94d57-812d-4610-b859-0993b96feb0e\",\"type\":\"Line\"},\"selection_glyph\":null,\"view\":{\"id\":\"2f659c52-bb35-4eba-a1fc-696f62d7b840\",\"type\":\"CDSView\"}},\"id\":\"21628d27-ec45-4bbd-901c-de9e43513933\",\"type\":\"GlyphRenderer\"},{\"attributes\":{\"data_source\":{\"id\":\"1fecc32a-ae43-433c-8260-c724fb76c378\",\"type\":\"ColumnDataSource\"},\"glyph\":{\"id\":\"e2021bcb-f287-4201-90cc-f958fd9163d2\",\"type\":\"Circle\"},\"hover_glyph\":null,\"muted_glyph\":null,\"nonselection_glyph\":{\"id\":\"ee864032-f66d-41ec-bc8a-bbdaecccc6e7\",\"type\":\"Circle\"},\"selection_glyph\":null,\"view\":{\"id\":\"4d5f5f16-27de-4085-86d8-b3753575dc37\",\"type\":\"CDSView\"}},\"id\":\"dd1ff3ef-a534-4a30-8203-aa00507806ac\",\"type\":\"GlyphRenderer\"},{\"attributes\":{\"source\":{\"id\":\"7ff1f994-660e-44d9-b5ed-f245c1512eaa\",\"type\":\"ColumnDataSource\"}},\"id\":\"f6fcda3f-a68d-4675-9ce0-16e0ec12a90a\",\"type\":\"CDSView\"},{\"attributes\":{\"above\":[{\"id\":\"3c9852f0-1605-45a4-bd17-93e2703c9237\",\"type\":\"Legend\"}],\"below\":[{\"id\":\"06e6672f-e185-4ad5-b2eb-d8294271b548\",\"type\":\"LinearAxis\"}],\"left\":[{\"id\":\"b03b8534-94fd-4f6a-acda-e5c5f4aa1eb7\",\"type\":\"LogAxis\"}],\"plot_width\":300,\"renderers\":[{\"id\":\"06e6672f-e185-4ad5-b2eb-d8294271b548\",\"type\":\"LinearAxis\"},{\"id\":\"5a0a6559-29e3-46b1-81d5-56102a3c1e9b\",\"type\":\"Grid\"},{\"id\":\"b03b8534-94fd-4f6a-acda-e5c5f4aa1eb7\",\"type\":\"LogAxis\"},{\"id\":\"ea909f9a-df69-4671-ae9c-60360bea28f4\",\"type\":\"Grid\"},{\"id\":\"10a4a861-b65d-406f-acf6-b9bd9d794379\",\"type\":\"BoxAnnotation\"},{\"id\":\"d5f71e6a-583f-4c83-b757-c9ee7af5b657\",\"type\":\"GlyphRenderer\"},{\"id\":\"dd1ff3ef-a534-4a30-8203-aa00507806ac\",\"type\":\"GlyphRenderer\"},{\"id\":\"9733c6cc-8254-4177-bd6e-440ec8d5ea48\",\"type\":\"GlyphRenderer\"},{\"id\":\"3c9852f0-1605-45a4-bd17-93e2703c9237\",\"type\":\"Legend\"}],\"title\":{\"id\":\"4ed86f2b-6016-4ab2-a849-de49abb6faeb\",\"type\":\"Title\"},\"toolbar\":{\"id\":\"fc252be2-6c70-409e-ad88-026f2358e485\",\"type\":\"Toolbar\"},\"toolbar_location\":null,\"x_range\":{\"id\":\"d7cf62ee-bccc-4469-88fd-38ec230c4a5f\",\"type\":\"Range1d\"},\"x_scale\":{\"id\":\"c73a5666-4400-4f6b-a0c3-3e7e6b6a1acb\",\"type\":\"LinearScale\"},\"y_range\":{\"id\":\"77864e39-fef1-48f8-aa2f-54f0922fcd38\",\"type\":\"Range1d\"},\"y_scale\":{\"id\":\"e80921d5-35cf-4944-b04d-54f9b469efde\",\"type\":\"LogScale\"}},\"id\":\"31bfeae6-315b-4225-9a9d-e3438ef39838\",\"subtype\":\"Figure\",\"type\":\"Plot\"},{\"attributes\":{\"fill_alpha\":{\"value\":0.7},\"fill_color\":{\"value\":\"#4daf4a\"},\"line_alpha\":{\"value\":0.7},\"line_color\":{\"value\":\"#4daf4a\"},\"x\":{\"field\":\"x\"},\"y\":{\"field\":\"y\"}},\"id\":\"e2021bcb-f287-4201-90cc-f958fd9163d2\",\"type\":\"Circle\"},{\"attributes\":{\"callback\":null,\"data\":{\"x\":{\"__ndarray__\":\"0CYBcvU5UkCik9zf2GVBQF1VoNfLZ0BAVLxhiVXTPUDD1Wu1wJM6QFJyB025jjdAU6Aw5+b/NECYe1uuDfgyQB6bYtVTbTFAPxYSAF1HMEA00pYVm9QuQLolHbMzgC1AntlwirGsLECv+G9SjE4rQJH6ZLBp0ShAsLZQyPd/JkDyjgyf2PwkQLgyNGsrJyRAA13QbJD6I0C8hy0ilI4kQOVTXCEgcSZAovOGvZSGJUBVc/ZmUOIgQOf/6GHAyRlAcE8fAOBSFEDRur1U//gPQGFD9ZbokghAQsqHuSqSA0C91ci3W0UBQCtRQfvz7/4/kh8pntyB+j9t1/n+4TX1P773MAUjFfI/RgzR+CI28T8hBW8WHK7uPzVKjJfU8uk/0FPt4/z65T/wVYqzMPDhPz7K9C5CXuE/8+hSn9hY4T/9PPCkR6rhP1XsIC599OA/66X1nBCX3z/YbRM56QjcPz4dkSQc/dM/S7Wb8Fq00T+/yQdmX0vcP7TrGf476eM/WqNPJoWO7D9qOH1bcwDzP2bw+R5DQ/Y/RLSuQOQp+D8+aif8yAz5P0Wv6eBKRfk/0i2+IN4R+T/ik8QNFZr4PyS5UD5j/Pc/yJ68zXRG9z/2CHPL54H2P59SOhwKtPU/npkP8dfg9D8NlmVcdQz0P80ugRvuOvM/byxiAHN18j9USVZie8nxP5l9lNXYSPE/OB+F0UYP8T8Y7dsUCTHxP3EBgTHPcPE/bfx15p8S8T8FT+xkGtTuP6mdG7rkxuk/pboqTkHX5D/CrN8qGYngP7R4ZaL+htU/\",\"dtype\":\"float64\",\"shape\":[75]},\"y\":{\"__ndarray__\":\"GhExyth1ND/Sv8nbtpRIP2vylNV0PVE/aTum7souWD/At0SJ8fVgPw3Iuahxymc/MSNhhJWvcD/bTfBN02d3P2zb5nxnaoA/CD5h5MAGhz8NmeH1TyaQP+zrCsc9p5Y/LbKd76fGnz/bLW5ISEmmPww9YvTcQq8/JV2OstnstT8Er5Y7M8G+P0c+r3jqkcU/5h99k6ZBzj88bCIzFzjVP4enV8oyxN0//yH99nXg5D8qOpLLf0jtP5kqGJXUifQ/c9cS8kHP/D+/DpwzojQEQIEmwoanVwxA4lgXt9HgE0BSSZ2AJuIbQAMJih9jjiNA5q4l5INuK0AwTKYKRj0zQNv5fmq8/DpAaCJseHrtQkB/+zpwzoxKQM3MzMzMeFJAZmZmZmZqWEAAAAAAAFxeQM3MzMzMJmJAmpmZmZkfZUBmZmZmZhhoQDMzMzMzEWtAAAAAAAAKbkBmZmZmZoFwQM3MzMzM/XFAMzMzMzN6c0CamZmZmfZ0QAAAAAAAc3ZAZmZmZmbvd0DNzMzMzGt5QDMzMzMz6HpAmpmZmZlkfEAAAAAAAOF9QGZmZmZmXX9AZmZmZuZsgECamZmZGSuBQM3MzMxM6YFAAAAAAICngkAzMzMzs2WDQGZmZmbmI4RAmpmZmRnihEDNzMzMTKCFQAAAAACAXoZAMzMzM7Mch0BmZmZm5tqHQJqZmZkZmYhAzczMzExXiUAAAAAAgBWKQDMzMzOz04pAZmZmZuaRi0CamZmZGVCMQM3MzMxMDo1AAAAAAIDMjUAzMzMzs4qOQGZmZmbmSI9A\",\"dtype\":\"float64\",\"shape\":[75]}},\"selected\":{\"id\":\"a42eb802-f80a-4087-b352-0329cc5475ea\",\"type\":\"Selection\"},\"selection_policy\":{\"id\":\"82b3b09b-474b-49aa-9470-25d31bd99733\",\"type\":\"UnionRenderers\"}},\"id\":\"b460e0f2-437b-4f2e-8033-9c2ca8df49d2\",\"type\":\"ColumnDataSource\"},{\"attributes\":{\"callback\":null,\"data\":{\"x\":{\"__ndarray__\":\"WkFRyr/dQ8CRlwfHt/IYwF2QCiFMnQPAqy2iMosv8j8DS5sdNaULQAkUiyFB5A9AGfFM7X3WBkCFn1B4A23rP7C/A0AvYu2/xqkfY4BG+r/4jJMGDfnzv3qYMuDWM9S/XbUlpoX94D9dkDo8/kTvP78aXy08ce0/ajLOs1oU2j+KAjLBGl/Pv6+Vj7nNseS/K8mtuRGv5L+6QESqIcfYvwBQUmynHLy/zNBm4US8uj/YDTP/iPHFP3ykVMjLAK+/I1/xZ06Sx79JGjGwEbOOP61/bMNXeNQ/ZZT56qUE1T8b4B2TSBjEP7Xf0GJPPLQ/gsmtVWe2yj8cNUsLGEfSP7nRMHHC5Mk/Ucu5eVaJtD93r0mbJ0O7PyCuhJm/v8k/+qQHH5xtyD9NNqrN2ozAP7wdFV+hfrY/XL0tjCKTtz9YW50tmGi7P6FgeOe4cL4/ZCmjcz30wD/xcgVSt4fDP6HRrqFQ48Y/YnVNzJxYG0BT3sTN3U4UQCM5yxPJv82/s12PVeNHFkAtuu5kiBblv7IMpLO9uyNAHtOCSR+/KMAVOdYEvMb8v7cdGCsF5vq/0zvNi6sS+b9ZoxMLOUD3v7JAo2PvdvW/dLQA+ru6879nQ2LpIRnyv6N45dcnkfC/g4Ql8GBq7r/tH8Nor+3rv1ceX2Wmsem/aaHGwB+W5787hIzx8Xrlv1i4LYybG+O/ZmFcZX7tI0Dwjk4EioT7P+8NX1FT3O2/DnQnt3FM+j8EQwu8G7Pnv0p75m+UuOS/ewOU/sJt4r9BFXBAhobgv0s0DVBR5d2/\",\"dtype\":\"float64\",\"shape\":[75]},\"y\":{\"__ndarray__\":\"GhExyth1ND/Sv8nbtpRIP2vylNV0PVE/aTum7souWD/At0SJ8fVgPw3Iuahxymc/MSNhhJWvcD/bTfBN02d3P2zb5nxnaoA/CD5h5MAGhz8NmeH1TyaQP+zrCsc9p5Y/LbKd76fGnz/bLW5ISEmmPww9YvTcQq8/JV2OstnstT8Er5Y7M8G+P0c+r3jqkcU/5h99k6ZBzj88bCIzFzjVP4enV8oyxN0//yH99nXg5D8qOpLLf0jtP5kqGJXUifQ/c9cS8kHP/D+/DpwzojQEQIEmwoanVwxA4lgXt9HgE0BSSZ2AJuIbQAMJih9jjiNA5q4l5INuK0AwTKYKRj0zQNv5fmq8/DpAaCJseHrtQkB/+zpwzoxKQM3MzMzMeFJAZmZmZmZqWEAAAAAAAFxeQM3MzMzMJmJAmpmZmZkfZUBmZmZmZhhoQDMzMzMzEWtAAAAAAAAKbkBmZmZmZoFwQM3MzMzM/XFAMzMzMzN6c0CamZmZmfZ0QAAAAAAAc3ZAZmZmZmbvd0DNzMzMzGt5QDMzMzMz6HpAmpmZmZlkfEAAAAAAAOF9QGZmZmZmXX9AZmZmZuZsgECamZmZGSuBQM3MzMxM6YFAAAAAAICngkAzMzMzs2WDQGZmZmbmI4RAmpmZmRnihEDNzMzMTKCFQAAAAACAXoZAMzMzM7Mch0BmZmZm5tqHQJqZmZkZmYhAzczMzExXiUAAAAAAgBWKQDMzMzOz04pAZmZmZuaRi0CamZmZGVCMQM3MzMxMDo1AAAAAAIDMjUAzMzMzs4qOQGZmZmbmSI9A\",\"dtype\":\"float64\",\"shape\":[75]}},\"selected\":{\"id\":\"e81fd150-f16f-40ef-ac86-fac9b26d997b\",\"type\":\"Selection\"},\"selection_policy\":{\"id\":\"dc91562c-a946-49d1-8689-ea590694d82d\",\"type\":\"UnionRenderers\"}},\"id\":\"b772452d-8284-4374-b308-29bd7a550dea\",\"type\":\"ColumnDataSource\"},{\"attributes\":{\"line_color\":\"#4daf4a\",\"line_width\":1.5,\"x\":{\"field\":\"x\"},\"y\":{\"field\":\"y\"}},\"id\":\"7e08bd6f-f08d-4156-9362-6fc7428978a6\",\"type\":\"Line\"},{\"attributes\":{\"label\":{\"value\":\"CLIRAD (single-run)\"},\"renderers\":[{\"id\":\"d5f71e6a-583f-4c83-b757-c9ee7af5b657\",\"type\":\"GlyphRenderer\"}]},\"id\":\"4d52aed1-bb46-49cc-8b20-b03dfc559276\",\"type\":\"LegendItem\"},{\"attributes\":{\"callback\":null,\"end\":0.01,\"start\":1020},\"id\":\"66f7804c-cf67-483d-8b6b-7de0784de6d0\",\"type\":\"Range1d\"},{\"attributes\":{\"line_alpha\":0.8,\"line_color\":\"#984ea3\",\"line_width\":1.5,\"x\":{\"field\":\"x\"},\"y\":{\"field\":\"y\"}},\"id\":\"1de1725f-bf5f-4a45-bbfa-f45f5058ad9b\",\"type\":\"Line\"},{\"attributes\":{\"data_source\":{\"id\":\"b460e0f2-437b-4f2e-8033-9c2ca8df49d2\",\"type\":\"ColumnDataSource\"},\"glyph\":{\"id\":\"7e08bd6f-f08d-4156-9362-6fc7428978a6\",\"type\":\"Line\"},\"hover_glyph\":null,\"muted_glyph\":null,\"nonselection_glyph\":{\"id\":\"ee53065f-ea9b-4770-9328-99396280768a\",\"type\":\"Line\"},\"selection_glyph\":null,\"view\":{\"id\":\"d1ca4fb2-3d22-4ba9-a2d9-e3def2635e1b\",\"type\":\"CDSView\"}},\"id\":\"9733c6cc-8254-4177-bd6e-440ec8d5ea48\",\"type\":\"GlyphRenderer\"},{\"attributes\":{},\"id\":\"97caa1b7-3ff6-4e4f-a793-6d2368cb4911\",\"type\":\"HelpTool\"},{\"attributes\":{\"source\":{\"id\":\"385a306c-4e1f-4900-9cf9-fa1e1bffad84\",\"type\":\"ColumnDataSource\"}},\"id\":\"33f4ec91-e79d-4622-8395-bc08bbddadb0\",\"type\":\"CDSView\"},{\"attributes\":{},\"id\":\"426c019b-a184-4d0f-98cf-739d4f42c483\",\"type\":\"LinearScale\"},{\"attributes\":{\"line_alpha\":0.6,\"line_color\":\"#377eb8\",\"line_dash\":[6],\"line_width\":5,\"x\":{\"field\":\"x\"},\"y\":{\"field\":\"y\"}},\"id\":\"ac075449-a32d-40df-9be1-9248d73ad0f6\",\"type\":\"Line\"},{\"attributes\":{},\"id\":\"7fee8705-c22a-43d7-9eb5-f38b28d45fc2\",\"type\":\"HelpTool\"},{\"attributes\":{\"callback\":null,\"data\":{\"x\":{\"__ndarray__\":\"0CYBcvU5UkCik9zf2GVBQF1VoNfLZ0BAVLxhiVXTPUDD1Wu1wJM6QFJyB025jjdAU6Aw5+b/NECYe1uuDfgyQB6bYtVTbTFAPxYSAF1HMEA00pYVm9QuQLolHbMzgC1AntlwirGsLECv+G9SjE4rQJH6ZLBp0ShAsLZQyPd/JkDyjgyf2PwkQLgyNGsrJyRAA13QbJD6I0C8hy0ilI4kQOVTXCEgcSZAovOGvZSGJUBVc/ZmUOIgQOf/6GHAyRlAcE8fAOBSFEDRur1U//gPQGFD9ZbokghAQsqHuSqSA0C91ci3W0UBQCtRQfvz7/4/kh8pntyB+j9t1/n+4TX1P773MAUjFfI/RgzR+CI28T8hBW8WHK7uPzVKjJfU8uk/0FPt4/z65T/wVYqzMPDhPz7K9C5CXuE/8+hSn9hY4T/9PPCkR6rhP1XsIC599OA/66X1nBCX3z/YbRM56QjcPz4dkSQc/dM/S7Wb8Fq00T+/yQdmX0vcP7TrGf476eM/WqNPJoWO7D9qOH1bcwDzP2bw+R5DQ/Y/RLSuQOQp+D8+aif8yAz5P0Wv6eBKRfk/0i2+IN4R+T/ik8QNFZr4PyS5UD5j/Pc/yJ68zXRG9z/2CHPL54H2P59SOhwKtPU/npkP8dfg9D8NlmVcdQz0P80ugRvuOvM/byxiAHN18j9USVZie8nxP5l9lNXYSPE/OB+F0UYP8T8Y7dsUCTHxP3EBgTHPcPE/bfx15p8S8T8FT+xkGtTuP6mdG7rkxuk/pboqTkHX5D/CrN8qGYngP7R4ZaL+htU/\",\"dtype\":\"float64\",\"shape\":[75]},\"y\":{\"__ndarray__\":\"GhExyth1ND/Sv8nbtpRIP2vylNV0PVE/aTum7souWD/At0SJ8fVgPw3Iuahxymc/MSNhhJWvcD/bTfBN02d3P2zb5nxnaoA/CD5h5MAGhz8NmeH1TyaQP+zrCsc9p5Y/LbKd76fGnz/bLW5ISEmmPww9YvTcQq8/JV2OstnstT8Er5Y7M8G+P0c+r3jqkcU/5h99k6ZBzj88bCIzFzjVP4enV8oyxN0//yH99nXg5D8qOpLLf0jtP5kqGJXUifQ/c9cS8kHP/D+/DpwzojQEQIEmwoanVwxA4lgXt9HgE0BSSZ2AJuIbQAMJih9jjiNA5q4l5INuK0AwTKYKRj0zQNv5fmq8/DpAaCJseHrtQkB/+zpwzoxKQM3MzMzMeFJAZmZmZmZqWEAAAAAAAFxeQM3MzMzMJmJAmpmZmZkfZUBmZmZmZhhoQDMzMzMzEWtAAAAAAAAKbkBmZmZmZoFwQM3MzMzM/XFAMzMzMzN6c0CamZmZmfZ0QAAAAAAAc3ZAZmZmZmbvd0DNzMzMzGt5QDMzMzMz6HpAmpmZmZlkfEAAAAAAAOF9QGZmZmZmXX9AZmZmZuZsgECamZmZGSuBQM3MzMxM6YFAAAAAAICngkAzMzMzs2WDQGZmZmbmI4RAmpmZmRnihEDNzMzMTKCFQAAAAACAXoZAMzMzM7Mch0BmZmZm5tqHQJqZmZkZmYhAzczMzExXiUAAAAAAgBWKQDMzMzOz04pAZmZmZuaRi0CamZmZGVCMQM3MzMxMDo1AAAAAAIDMjUAzMzMzs4qOQGZmZmbmSI9A\",\"dtype\":\"float64\",\"shape\":[75]}},\"selected\":{\"id\":\"1be9ef8c-8508-4c9a-b432-e44345ea66c7\",\"type\":\"Selection\"},\"selection_policy\":{\"id\":\"2e8c279d-8679-4c26-92d1-6301e4d6796a\",\"type\":\"UnionRenderers\"}},\"id\":\"1fecc32a-ae43-433c-8260-c724fb76c378\",\"type\":\"ColumnDataSource\"},{\"attributes\":{},\"id\":\"223e9e46-acff-4fdd-a7f0-1c69b26be89e\",\"type\":\"SaveTool\"},{\"attributes\":{\"active_drag\":\"auto\",\"active_inspect\":\"auto\",\"active_scroll\":\"auto\",\"active_tap\":\"auto\",\"tools\":[{\"id\":\"0a220c06-157e-4e7d-a65e-0128cef4e081\",\"type\":\"PanTool\"},{\"id\":\"68c2545a-b28b-4795-bbe7-c539a52aa751\",\"type\":\"WheelZoomTool\"},{\"id\":\"ff9cfb43-ec15-483f-b52d-f51d200efad1\",\"type\":\"BoxZoomTool\"},{\"id\":\"3ed0c039-a7a5-431a-9489-737dae2bcc35\",\"type\":\"SaveTool\"},{\"id\":\"df1b0409-fdd4-4873-a5d3-fd20aac88f7b\",\"type\":\"ResetTool\"},{\"id\":\"8fd041c7-cf03-4a0b-8374-e57045e91484\",\"type\":\"HelpTool\"}]},\"id\":\"6a95bd38-cdc4-4468-828e-3d3188435024\",\"type\":\"Toolbar\"},{\"attributes\":{\"source\":{\"id\":\"a4178fae-9cd8-449c-9e05-da94df90511c\",\"type\":\"ColumnDataSource\"}},\"id\":\"c59bed30-7b8c-4943-a8b6-33b7b995b8c8\",\"type\":\"CDSView\"},{\"attributes\":{\"line_alpha\":0.1,\"line_color\":\"#1f77b4\",\"line_width\":1.5,\"x\":{\"field\":\"x\"},\"y\":{\"field\":\"y\"}},\"id\":\"84b94d57-812d-4610-b859-0993b96feb0e\",\"type\":\"Line\"},{\"attributes\":{},\"id\":\"0a220c06-157e-4e7d-a65e-0128cef4e081\",\"type\":\"PanTool\"},{\"attributes\":{},\"id\":\"df1b0409-fdd4-4873-a5d3-fd20aac88f7b\",\"type\":\"ResetTool\"},{\"attributes\":{\"callback\":null,\"data\":{\"x\":{\"__ndarray__\":\"0CYBcvU5UkCik9zf2GVBQF1VoNfLZ0BAVLxhiVXTPUDD1Wu1wJM6QFJyB025jjdAU6Aw5+b/NECYe1uuDfgyQB6bYtVTbTFAPxYSAF1HMEA00pYVm9QuQLolHbMzgC1AntlwirGsLECv+G9SjE4rQJH6ZLBp0ShAsLZQyPd/JkDyjgyf2PwkQLgyNGsrJyRAA13QbJD6I0C8hy0ilI4kQOVTXCEgcSZAovOGvZSGJUBVc/ZmUOIgQOf/6GHAyRlAcE8fAOBSFEDRur1U//gPQGFD9ZbokghAQsqHuSqSA0C91ci3W0UBQCtRQfvz7/4/kh8pntyB+j9t1/n+4TX1P773MAUjFfI/RgzR+CI28T8hBW8WHK7uPzVKjJfU8uk/0FPt4/z65T/wVYqzMPDhPz7K9C5CXuE/8+hSn9hY4T/9PPCkR6rhP1XsIC599OA/66X1nBCX3z/YbRM56QjcPz4dkSQc/dM/S7Wb8Fq00T+/yQdmX0vcP7TrGf476eM/WqNPJoWO7D9qOH1bcwDzP2bw+R5DQ/Y/RLSuQOQp+D8+aif8yAz5P0Wv6eBKRfk/0i2+IN4R+T/ik8QNFZr4PyS5UD5j/Pc/yJ68zXRG9z/2CHPL54H2P59SOhwKtPU/npkP8dfg9D8NlmVcdQz0P80ugRvuOvM/byxiAHN18j9USVZie8nxP5l9lNXYSPE/OB+F0UYP8T8Y7dsUCTHxP3EBgTHPcPE/bfx15p8S8T8FT+xkGtTuP6mdG7rkxuk/pboqTkHX5D/CrN8qGYngP7R4ZaL+htU/\",\"dtype\":\"float64\",\"shape\":[75]},\"y\":{\"__ndarray__\":\"GhExyth1ND/Sv8nbtpRIP2vylNV0PVE/aTum7souWD/At0SJ8fVgPw3Iuahxymc/MSNhhJWvcD/bTfBN02d3P2zb5nxnaoA/CD5h5MAGhz8NmeH1TyaQP+zrCsc9p5Y/LbKd76fGnz/bLW5ISEmmPww9YvTcQq8/JV2OstnstT8Er5Y7M8G+P0c+r3jqkcU/5h99k6ZBzj88bCIzFzjVP4enV8oyxN0//yH99nXg5D8qOpLLf0jtP5kqGJXUifQ/c9cS8kHP/D+/DpwzojQEQIEmwoanVwxA4lgXt9HgE0BSSZ2AJuIbQAMJih9jjiNA5q4l5INuK0AwTKYKRj0zQNv5fmq8/DpAaCJseHrtQkB/+zpwzoxKQM3MzMzMeFJAZmZmZmZqWEAAAAAAAFxeQM3MzMzMJmJAmpmZmZkfZUBmZmZmZhhoQDMzMzMzEWtAAAAAAAAKbkBmZmZmZoFwQM3MzMzM/XFAMzMzMzN6c0CamZmZmfZ0QAAAAAAAc3ZAZmZmZmbvd0DNzMzMzGt5QDMzMzMz6HpAmpmZmZlkfEAAAAAAAOF9QGZmZmZmXX9AZmZmZuZsgECamZmZGSuBQM3MzMxM6YFAAAAAAICngkAzMzMzs2WDQGZmZmbmI4RAmpmZmRnihEDNzMzMTKCFQAAAAACAXoZAMzMzM7Mch0BmZmZm5tqHQJqZmZkZmYhAzczMzExXiUAAAAAAgBWKQDMzMzOz04pAZmZmZuaRi0CamZmZGVCMQM3MzMxMDo1AAAAAAIDMjUAzMzMzs4qOQGZmZmbmSI9A\",\"dtype\":\"float64\",\"shape\":[75]}},\"selected\":{\"id\":\"1a519d44-38cb-4160-8e90-e0df736cf39a\",\"type\":\"Selection\"},\"selection_policy\":{\"id\":\"7423a595-7be4-4178-b7cb-71198a33b4e5\",\"type\":\"UnionRenderers\"}},\"id\":\"494d73af-7f4f-4e3e-8ce2-8109078d4b59\",\"type\":\"ColumnDataSource\"},{\"attributes\":{\"source\":{\"id\":\"44a2a2ff-5eb0-4541-aed0-fadf48490c58\",\"type\":\"ColumnDataSource\"}},\"id\":\"6137399b-4b02-43cd-bf58-2dd540176176\",\"type\":\"CDSView\"},{\"attributes\":{},\"id\":\"866076a9-e6ef-4573-b88d-89559825eab6\",\"type\":\"Selection\"},{\"attributes\":{},\"id\":\"ac813ea8-56a9-404e-b50d-4478d37f42b7\",\"type\":\"WheelZoomTool\"},{\"attributes\":{\"callback\":null,\"end\":0.01,\"start\":1020},\"id\":\"77864e39-fef1-48f8-aa2f-54f0922fcd38\",\"type\":\"Range1d\"},{\"attributes\":{\"fill_alpha\":{\"value\":0.7},\"fill_color\":{\"value\":\"#4daf4a\"},\"line_alpha\":{\"value\":0.7},\"line_color\":{\"value\":\"#4daf4a\"},\"x\":{\"field\":\"x\"},\"y\":{\"field\":\"y\"}},\"id\":\"7c179086-749c-4cfd-8d64-678a9695fefd\",\"type\":\"Circle\"},{\"attributes\":{},\"id\":\"48dbb619-ec8a-4be4-b534-db311b614578\",\"type\":\"UnionRenderers\"},{\"attributes\":{\"overlay\":{\"id\":\"10a4a861-b65d-406f-acf6-b9bd9d794379\",\"type\":\"BoxAnnotation\"}},\"id\":\"3d7008cb-0173-46b3-a117-7bd682b23aaf\",\"type\":\"BoxZoomTool\"},{\"attributes\":{\"bottom_units\":\"screen\",\"fill_alpha\":{\"value\":0.5},\"fill_color\":{\"value\":\"lightgrey\"},\"left_units\":\"screen\",\"level\":\"overlay\",\"line_alpha\":{\"value\":1.0},\"line_color\":{\"value\":\"black\"},\"line_dash\":[4,4],\"line_width\":{\"value\":2},\"plot\":null,\"render_mode\":\"css\",\"right_units\":\"screen\",\"top_units\":\"screen\"},\"id\":\"d99610b4-3e8d-4b15-ab88-7eef22f5d2de\",\"type\":\"BoxAnnotation\"},{\"attributes\":{},\"id\":\"8fd041c7-cf03-4a0b-8374-e57045e91484\",\"type\":\"HelpTool\"},{\"attributes\":{\"line_color\":\"#4daf4a\",\"line_width\":1.5,\"x\":{\"field\":\"x\"},\"y\":{\"field\":\"y\"}},\"id\":\"f8ee0af4-4b90-4a6d-b4c9-d0ddcb1804c4\",\"type\":\"Line\"},{\"attributes\":{},\"id\":\"3ed0c039-a7a5-431a-9489-737dae2bcc35\",\"type\":\"SaveTool\"},{\"attributes\":{\"overlay\":{\"id\":\"d99610b4-3e8d-4b15-ab88-7eef22f5d2de\",\"type\":\"BoxAnnotation\"}},\"id\":\"ff9cfb43-ec15-483f-b52d-f51d200efad1\",\"type\":\"BoxZoomTool\"},{\"attributes\":{},\"id\":\"25fb520f-531d-4ff6-8118-9099ef94f8ea\",\"type\":\"PanTool\"},{\"attributes\":{},\"id\":\"7423a595-7be4-4178-b7cb-71198a33b4e5\",\"type\":\"UnionRenderers\"},{\"attributes\":{},\"id\":\"1a519d44-38cb-4160-8e90-e0df736cf39a\",\"type\":\"Selection\"},{\"attributes\":{},\"id\":\"fa407a83-d5b4-45dc-9141-e8dbca9e0203\",\"type\":\"ResetTool\"},{\"attributes\":{},\"id\":\"68c2545a-b28b-4795-bbe7-c539a52aa751\",\"type\":\"WheelZoomTool\"},{\"attributes\":{\"callback\":null,\"data\":{\"x\":{\"__ndarray__\":\"0CYBcvU5UkCik9zf2GVBQF1VoNfLZ0BAVLxhiVXTPUDD1Wu1wJM6QFJyB025jjdAU6Aw5+b/NECYe1uuDfgyQB6bYtVTbTFAPxYSAF1HMEA00pYVm9QuQLolHbMzgC1AntlwirGsLECv+G9SjE4rQJH6ZLBp0ShAsLZQyPd/JkDyjgyf2PwkQLgyNGsrJyRAA13QbJD6I0C8hy0ilI4kQOVTXCEgcSZAovOGvZSGJUBVc/ZmUOIgQOf/6GHAyRlAcE8fAOBSFEDRur1U//gPQGFD9ZbokghAQsqHuSqSA0C91ci3W0UBQCtRQfvz7/4/kh8pntyB+j9t1/n+4TX1P773MAUjFfI/RgzR+CI28T8hBW8WHK7uPzVKjJfU8uk/0FPt4/z65T/wVYqzMPDhPz7K9C5CXuE/8+hSn9hY4T/9PPCkR6rhP1XsIC599OA/66X1nBCX3z/YbRM56QjcPz4dkSQc/dM/S7Wb8Fq00T+/yQdmX0vcP7TrGf476eM/WqNPJoWO7D9qOH1bcwDzP2bw+R5DQ/Y/RLSuQOQp+D8+aif8yAz5P0Wv6eBKRfk/0i2+IN4R+T/ik8QNFZr4PyS5UD5j/Pc/yJ68zXRG9z/2CHPL54H2P59SOhwKtPU/npkP8dfg9D8NlmVcdQz0P80ugRvuOvM/byxiAHN18j9USVZie8nxP5l9lNXYSPE/OB+F0UYP8T8Y7dsUCTHxP3EBgTHPcPE/bfx15p8S8T8FT+xkGtTuP6mdG7rkxuk/pboqTkHX5D/CrN8qGYngP7R4ZaL+htU/\",\"dtype\":\"float64\",\"shape\":[75]},\"y\":{\"__ndarray__\":\"GhExyth1ND/Sv8nbtpRIP2vylNV0PVE/aTum7souWD/At0SJ8fVgPw3Iuahxymc/MSNhhJWvcD/bTfBN02d3P2zb5nxnaoA/CD5h5MAGhz8NmeH1TyaQP+zrCsc9p5Y/LbKd76fGnz/bLW5ISEmmPww9YvTcQq8/JV2OstnstT8Er5Y7M8G+P0c+r3jqkcU/5h99k6ZBzj88bCIzFzjVP4enV8oyxN0//yH99nXg5D8qOpLLf0jtP5kqGJXUifQ/c9cS8kHP/D+/DpwzojQEQIEmwoanVwxA4lgXt9HgE0BSSZ2AJuIbQAMJih9jjiNA5q4l5INuK0AwTKYKRj0zQNv5fmq8/DpAaCJseHrtQkB/+zpwzoxKQM3MzMzMeFJAZmZmZmZqWEAAAAAAAFxeQM3MzMzMJmJAmpmZmZkfZUBmZmZmZhhoQDMzMzMzEWtAAAAAAAAKbkBmZmZmZoFwQM3MzMzM/XFAMzMzMzN6c0CamZmZmfZ0QAAAAAAAc3ZAZmZmZmbvd0DNzMzMzGt5QDMzMzMz6HpAmpmZmZlkfEAAAAAAAOF9QGZmZmZmXX9AZmZmZuZsgECamZmZGSuBQM3MzMxM6YFAAAAAAICngkAzMzMzs2WDQGZmZmbmI4RAmpmZmRnihEDNzMzMTKCFQAAAAACAXoZAMzMzM7Mch0BmZmZm5tqHQJqZmZkZmYhAzczMzExXiUAAAAAAgBWKQDMzMzOz04pAZmZmZuaRi0CamZmZGVCMQM3MzMxMDo1AAAAAAIDMjUAzMzMzs4qOQGZmZmbmSI9A\",\"dtype\":\"float64\",\"shape\":[75]}},\"selected\":{\"id\":\"866076a9-e6ef-4573-b88d-89559825eab6\",\"type\":\"Selection\"},\"selection_policy\":{\"id\":\"48dbb619-ec8a-4be4-b534-db311b614578\",\"type\":\"UnionRenderers\"}},\"id\":\"7ff1f994-660e-44d9-b5ed-f245c1512eaa\",\"type\":\"ColumnDataSource\"}],\"root_ids\":[\"acf67b52-d5f9-445e-bcbc-66acbf66a888\"]},\"title\":\"Bokeh Application\",\"version\":\"0.12.16\"}};\n",
       "  var render_items = [{\"docid\":\"8288a83b-0983-4df8-b52f-8174ff565ad7\",\"elementid\":\"eb709cb7-384c-4046-9a5c-447dd81788cd\",\"modelid\":\"acf67b52-d5f9-445e-bcbc-66acbf66a888\"}];\n",
       "  root.Bokeh.embed.embed_items_notebook(docs_json, render_items);\n",
       "\n",
       "  }\n",
       "  if (root.Bokeh !== undefined) {\n",
       "    embed_document(root);\n",
       "  } else {\n",
       "    var attempts = 0;\n",
       "    var timer = setInterval(function(root) {\n",
       "      if (root.Bokeh !== undefined) {\n",
       "        embed_document(root);\n",
       "        clearInterval(timer);\n",
       "      }\n",
       "      attempts++;\n",
       "      if (attempts > 100) {\n",
       "        console.log(\"Bokeh: ERROR: Unable to run BokehJS code because BokehJS library is missing\")\n",
       "        clearInterval(timer);\n",
       "      }\n",
       "    }, 10, root)\n",
       "  }\n",
       "})(window);"
      ],
      "application/vnd.bokehjs_exec.v0+json": ""
     },
     "metadata": {
      "application/vnd.bokehjs_exec.v0+json": {
       "id": "acf67b52-d5f9-445e-bcbc-66acbf66a888"
      }
     },
     "output_type": "display_data"
    },
    {
     "data": {
      "text/markdown": [
       "*FIGURE.* Cooling rates & difference."
      ],
      "text/plain": [
       "<IPython.core.display.Markdown object>"
      ]
     },
     "metadata": {},
     "output_type": "display_data"
    },
    {
     "data": {
      "text/html": [
       "<a id=\"Fluxes._saw.\"></a>"
      ],
      "text/plain": [
       "<IPython.core.display.HTML object>"
      ]
     },
     "metadata": {},
     "output_type": "display_data"
    },
    {
     "data": {
      "text/markdown": [
       "# Fluxes. saw."
      ],
      "text/plain": [
       "<IPython.core.display.Markdown object>"
      ]
     },
     "metadata": {},
     "output_type": "display_data"
    },
    {
     "data": {
      "text/html": [
       "\n",
       "<div class=\"bk-root\">\n",
       "    <div class=\"bk-plotdiv\" id=\"f4d7dbf3-4566-4c93-bd84-427bcc5ac5dc\"></div>\n",
       "</div>"
      ]
     },
     "metadata": {},
     "output_type": "display_data"
    },
    {
     "data": {
      "application/javascript": [
       "(function(root) {\n",
       "  function embed_document(root) {\n",
       "    \n",
       "  var docs_json = {\"f390b688-91be-4ba2-bf6c-6c77c068511e\":{\"roots\":{\"references\":[{\"attributes\":{},\"id\":\"fbe3a7c6-a54e-492a-b046-1818f8bea89e\",\"type\":\"CategoricalTicker\"},{\"attributes\":{},\"id\":\"8e454a1f-4313-413a-837f-62111bb079b1\",\"type\":\"BasicTickFormatter\"},{\"attributes\":{\"overlay\":{\"id\":\"35ddfc00-8bb1-4b05-a2a5-d06107b634bd\",\"type\":\"BoxAnnotation\"}},\"id\":\"f06a5998-f5af-4f2e-af7d-60859608fdb8\",\"type\":\"BoxZoomTool\"},{\"attributes\":{\"fill_color\":{\"value\":\"#1f77b4\"},\"line_color\":{\"value\":\"#1f77b4\"},\"top\":{\"field\":\"flux\"},\"width\":{\"value\":0.9},\"x\":{\"field\":\"band\"}},\"id\":\"9149eb65-252b-4f02-ad97-f3dcfef87656\",\"type\":\"VBar\"},{\"attributes\":{\"plot\":null,\"text\":\"SFC flux. CLIRAD (single-run) - CRD.\"},\"id\":\"1aee4683-675f-40e6-8bc1-9ca3dfef38ec\",\"type\":\"Title\"},{\"attributes\":{},\"id\":\"da738fcf-d358-4ab8-8f28-7a13448303dc\",\"type\":\"BasicTicker\"},{\"attributes\":{},\"id\":\"b5058a1a-fff6-4ce5-a9a1-ac33411bab16\",\"type\":\"Selection\"},{\"attributes\":{\"dimension\":1,\"plot\":{\"id\":\"eb7bc04a-7388-4525-bde5-d212815b9f9b\",\"subtype\":\"Figure\",\"type\":\"Plot\"},\"ticker\":{\"id\":\"da738fcf-d358-4ab8-8f28-7a13448303dc\",\"type\":\"BasicTicker\"}},\"id\":\"68d16e16-9d55-403c-917d-f1a6c24ff09e\",\"type\":\"Grid\"},{\"attributes\":{},\"id\":\"5d4f91d7-8fcc-47d9-b804-6454edd0a2c4\",\"type\":\"ResetTool\"},{\"attributes\":{\"callback\":null},\"id\":\"c58175de-fc12-44f7-9793-ff01da97d7c0\",\"type\":\"DataRange1d\"},{\"attributes\":{\"source\":{\"id\":\"69cfa40f-bf59-4a52-8d56-a07e8060d389\",\"type\":\"ColumnDataSource\"}},\"id\":\"aa3ed947-7113-4ac3-bb6f-72c7f8387b50\",\"type\":\"CDSView\"},{\"attributes\":{\"source\":{\"id\":\"11a0c87f-0645-4899-ae7b-ceae844b83d9\",\"type\":\"ColumnDataSource\"}},\"id\":\"9849a814-5067-4e62-9908-81799b5f7735\",\"type\":\"CDSView\"},{\"attributes\":{},\"id\":\"414eb126-7998-46a8-aab1-c78e473cb9f4\",\"type\":\"BasicTickFormatter\"},{\"attributes\":{},\"id\":\"cfca2051-afbb-4c04-82e0-d85b7085f603\",\"type\":\"PanTool\"},{\"attributes\":{},\"id\":\"353c3a95-73f5-433d-a57f-df9c4c709f0d\",\"type\":\"WheelZoomTool\"},{\"attributes\":{},\"id\":\"17018b85-39ed-43b8-a713-6252e8539514\",\"type\":\"LinearScale\"},{\"attributes\":{},\"id\":\"1049bf11-5ada-46c9-aee3-ca4d70bb3c52\",\"type\":\"Selection\"},{\"attributes\":{\"fill_alpha\":{\"value\":0.1},\"fill_color\":{\"value\":\"#1f77b4\"},\"line_alpha\":{\"value\":0.1},\"line_color\":{\"value\":\"#1f77b4\"},\"top\":{\"field\":\"flux\"},\"width\":{\"value\":0.9},\"x\":{\"field\":\"band\"}},\"id\":\"151dddc8-aa55-40b1-993c-4b815c478b1c\",\"type\":\"VBar\"},{\"attributes\":{\"axis_label\":\"flux (W m-2)\",\"formatter\":{\"id\":\"a946105c-f00f-42a4-ad56-54b147c08438\",\"type\":\"BasicTickFormatter\"},\"plot\":{\"id\":\"eb7bc04a-7388-4525-bde5-d212815b9f9b\",\"subtype\":\"Figure\",\"type\":\"Plot\"},\"ticker\":{\"id\":\"da738fcf-d358-4ab8-8f28-7a13448303dc\",\"type\":\"BasicTicker\"}},\"id\":\"ced91155-97a9-4423-9b78-abaa5b7f9686\",\"type\":\"LinearAxis\"},{\"attributes\":{},\"id\":\"61a73c75-be11-4316-9a3d-49a08cd7dcdd\",\"type\":\"UnionRenderers\"},{\"attributes\":{\"data_source\":{\"id\":\"69cfa40f-bf59-4a52-8d56-a07e8060d389\",\"type\":\"ColumnDataSource\"},\"glyph\":{\"id\":\"9149eb65-252b-4f02-ad97-f3dcfef87656\",\"type\":\"VBar\"},\"hover_glyph\":null,\"muted_glyph\":null,\"nonselection_glyph\":{\"id\":\"151dddc8-aa55-40b1-993c-4b815c478b1c\",\"type\":\"VBar\"},\"selection_glyph\":null,\"view\":{\"id\":\"aa3ed947-7113-4ac3-bb6f-72c7f8387b50\",\"type\":\"CDSView\"}},\"id\":\"580420e2-2346-468a-b622-53ba1b147c88\",\"type\":\"GlyphRenderer\"},{\"attributes\":{},\"id\":\"16b6e655-e56c-41e7-8e44-23d082ebdb61\",\"type\":\"UnionRenderers\"},{\"attributes\":{\"plot\":{\"id\":\"eb7bc04a-7388-4525-bde5-d212815b9f9b\",\"subtype\":\"Figure\",\"type\":\"Plot\"},\"ticker\":{\"id\":\"fbe3a7c6-a54e-492a-b046-1818f8bea89e\",\"type\":\"CategoricalTicker\"}},\"id\":\"c7cc0876-899f-4ef0-840a-08322a32aa0d\",\"type\":\"Grid\"},{\"attributes\":{\"below\":[{\"id\":\"a25b0e90-31d5-4b53-9cd6-e361baa5920a\",\"type\":\"CategoricalAxis\"}],\"left\":[{\"id\":\"8cb44f75-c1be-4d79-961f-7e810d21b995\",\"type\":\"LinearAxis\"}],\"plot_height\":300,\"plot_width\":300,\"renderers\":[{\"id\":\"a25b0e90-31d5-4b53-9cd6-e361baa5920a\",\"type\":\"CategoricalAxis\"},{\"id\":\"1fc82a95-47db-4508-937a-a296c6140d0a\",\"type\":\"Grid\"},{\"id\":\"8cb44f75-c1be-4d79-961f-7e810d21b995\",\"type\":\"LinearAxis\"},{\"id\":\"4653356e-6c2b-4785-8e0a-49689eae2071\",\"type\":\"Grid\"},{\"id\":\"89097c7e-596d-49f0-b69e-3d58c99863ff\",\"type\":\"BoxAnnotation\"},{\"id\":\"5fa88239-e082-4c35-92cc-67e6174bda22\",\"type\":\"GlyphRenderer\"}],\"title\":{\"id\":\"1aee4683-675f-40e6-8bc1-9ca3dfef38ec\",\"type\":\"Title\"},\"toolbar\":{\"id\":\"764af31d-4ad9-45fd-ad16-34c1e7f7880e\",\"type\":\"Toolbar\"},\"toolbar_location\":null,\"x_range\":{\"id\":\"311cc783-fbfb-4ea4-9e69-77a96d5b1644\",\"type\":\"FactorRange\"},\"x_scale\":{\"id\":\"ca8da601-0c31-41d8-9836-7aba7e9534c0\",\"type\":\"CategoricalScale\"},\"y_range\":{\"id\":\"1e56320e-f7c4-470c-bc52-bc99909884f3\",\"type\":\"DataRange1d\"},\"y_scale\":{\"id\":\"a29de569-73e9-41e1-afbe-f877b76d1a83\",\"type\":\"LinearScale\"}},\"id\":\"a518d05e-0001-480e-b660-699a7e27e95e\",\"subtype\":\"Figure\",\"type\":\"Plot\"},{\"attributes\":{},\"id\":\"e7be5823-21d4-47a0-ab6b-47ec12cc38a7\",\"type\":\"CategoricalTickFormatter\"},{\"attributes\":{},\"id\":\"b9e5f782-4a88-41d8-bf9e-46f62f37fb67\",\"type\":\"BasicTicker\"},{\"attributes\":{},\"id\":\"ba58c5de-4be3-4082-a147-ffe9d0fb7ab1\",\"type\":\"SaveTool\"},{\"attributes\":{\"bottom_units\":\"screen\",\"fill_alpha\":{\"value\":0.5},\"fill_color\":{\"value\":\"lightgrey\"},\"left_units\":\"screen\",\"level\":\"overlay\",\"line_alpha\":{\"value\":1.0},\"line_color\":{\"value\":\"black\"},\"line_dash\":[4,4],\"line_width\":{\"value\":2},\"plot\":null,\"render_mode\":\"css\",\"right_units\":\"screen\",\"top_units\":\"screen\"},\"id\":\"35ddfc00-8bb1-4b05-a2a5-d06107b634bd\",\"type\":\"BoxAnnotation\"},{\"attributes\":{\"active_drag\":\"auto\",\"active_inspect\":\"auto\",\"active_scroll\":\"auto\",\"active_tap\":\"auto\",\"tools\":[{\"id\":\"bd73d59e-531b-4753-88e5-79947e39c6d6\",\"type\":\"PanTool\"},{\"id\":\"8aee60dd-3952-414a-a6fa-31c1bce7143d\",\"type\":\"WheelZoomTool\"},{\"id\":\"33cceca7-384e-40ee-909f-e3d63d1cbbde\",\"type\":\"BoxZoomTool\"},{\"id\":\"516f0fac-368a-455a-b435-848fd4114f3b\",\"type\":\"SaveTool\"},{\"id\":\"71c07e2a-bb5c-4232-a284-f2ff8baa5b25\",\"type\":\"ResetTool\"},{\"id\":\"99b8082b-df28-4ea1-849c-f320a57b4c5a\",\"type\":\"HelpTool\"}]},\"id\":\"764af31d-4ad9-45fd-ad16-34c1e7f7880e\",\"type\":\"Toolbar\"},{\"attributes\":{},\"id\":\"6ce1b045-1c1c-4c0f-9bd2-1a81f2178c22\",\"type\":\"HelpTool\"},{\"attributes\":{\"dimension\":1,\"plot\":{\"id\":\"7725a910-6b04-41c4-a4ab-ab9e3b59380b\",\"subtype\":\"Figure\",\"type\":\"Plot\"},\"ticker\":{\"id\":\"b9e5f782-4a88-41d8-bf9e-46f62f37fb67\",\"type\":\"BasicTicker\"}},\"id\":\"5f0e9ab8-baf2-4d40-aba2-edf75ab24054\",\"type\":\"Grid\"},{\"attributes\":{\"fill_alpha\":{\"value\":0.1},\"fill_color\":{\"value\":\"#1f77b4\"},\"line_alpha\":{\"value\":0.1},\"line_color\":{\"value\":\"#1f77b4\"},\"top\":{\"field\":\"flux\"},\"width\":{\"value\":0.9},\"x\":{\"field\":\"band\"}},\"id\":\"814d3bd8-490b-46ed-846d-36c0e3609138\",\"type\":\"VBar\"},{\"attributes\":{\"plot\":{\"id\":\"a518d05e-0001-480e-b660-699a7e27e95e\",\"subtype\":\"Figure\",\"type\":\"Plot\"},\"ticker\":{\"id\":\"56c8bf45-8417-4854-bd63-8fcb8f9d2b2b\",\"type\":\"CategoricalTicker\"}},\"id\":\"1fc82a95-47db-4508-937a-a296c6140d0a\",\"type\":\"Grid\"},{\"attributes\":{\"axis_label\":\"flux (W m-2)\",\"formatter\":{\"id\":\"414eb126-7998-46a8-aab1-c78e473cb9f4\",\"type\":\"BasicTickFormatter\"},\"plot\":{\"id\":\"7725a910-6b04-41c4-a4ab-ab9e3b59380b\",\"subtype\":\"Figure\",\"type\":\"Plot\"},\"ticker\":{\"id\":\"b9e5f782-4a88-41d8-bf9e-46f62f37fb67\",\"type\":\"BasicTicker\"}},\"id\":\"4b1385f8-7bd7-4180-bf02-c769775cd70a\",\"type\":\"LinearAxis\"},{\"attributes\":{},\"id\":\"b02fb29c-1072-44c1-b243-5239e7552a7c\",\"type\":\"CategoricalScale\"},{\"attributes\":{\"axis_label\":\"spectral band\",\"formatter\":{\"id\":\"129b4d64-9d4e-408f-b960-a54c8d0fd9c1\",\"type\":\"CategoricalTickFormatter\"},\"plot\":{\"id\":\"eb7bc04a-7388-4525-bde5-d212815b9f9b\",\"subtype\":\"Figure\",\"type\":\"Plot\"},\"ticker\":{\"id\":\"fbe3a7c6-a54e-492a-b046-1818f8bea89e\",\"type\":\"CategoricalTicker\"}},\"id\":\"ab5f0b32-29f1-4e6c-bad0-de78d95ec327\",\"type\":\"CategoricalAxis\"},{\"attributes\":{\"plot\":{\"id\":\"7725a910-6b04-41c4-a4ab-ab9e3b59380b\",\"subtype\":\"Figure\",\"type\":\"Plot\"},\"ticker\":{\"id\":\"08dbe8dd-618b-4bbb-b554-12f2353ef37e\",\"type\":\"CategoricalTicker\"}},\"id\":\"2d18ab99-c6aa-4b4e-bd4f-bdc08fe44875\",\"type\":\"Grid\"},{\"attributes\":{\"axis_label\":\"flux (W m-2)\",\"formatter\":{\"id\":\"8e454a1f-4313-413a-837f-62111bb079b1\",\"type\":\"BasicTickFormatter\"},\"plot\":{\"id\":\"a518d05e-0001-480e-b660-699a7e27e95e\",\"subtype\":\"Figure\",\"type\":\"Plot\"},\"ticker\":{\"id\":\"b994491e-c453-4cd1-b932-27099e81f130\",\"type\":\"BasicTicker\"}},\"id\":\"8cb44f75-c1be-4d79-961f-7e810d21b995\",\"type\":\"LinearAxis\"},{\"attributes\":{\"fill_color\":{\"value\":\"#1f77b4\"},\"line_color\":{\"value\":\"#1f77b4\"},\"top\":{\"field\":\"flux\"},\"width\":{\"value\":0.9},\"x\":{\"field\":\"band\"}},\"id\":\"e7ac0e0c-ee63-4beb-8cd2-1bf6590826d9\",\"type\":\"VBar\"},{\"attributes\":{\"children\":[{\"id\":\"eb7bc04a-7388-4525-bde5-d212815b9f9b\",\"subtype\":\"Figure\",\"type\":\"Plot\"},{\"id\":\"a518d05e-0001-480e-b660-699a7e27e95e\",\"subtype\":\"Figure\",\"type\":\"Plot\"},{\"id\":\"7725a910-6b04-41c4-a4ab-ab9e3b59380b\",\"subtype\":\"Figure\",\"type\":\"Plot\"}]},\"id\":\"1b59d59b-b4ca-4a4b-b3b0-1b35fe0e1c3a\",\"type\":\"Row\"},{\"attributes\":{\"callback\":null,\"factors\":[\"1\",\"2\",\"3\",\"4\",\"5\",\"6\",\"7\",\"8\",\"9\",\"10\",\"11\"]},\"id\":\"4fdc6167-a363-47fa-bd3a-3f488bede6f2\",\"type\":\"FactorRange\"},{\"attributes\":{\"data_source\":{\"id\":\"46929c81-f861-4659-9dcf-88bef8effd37\",\"type\":\"ColumnDataSource\"},\"glyph\":{\"id\":\"4135d685-d6ab-4e1e-977e-42c78a5808b0\",\"type\":\"VBar\"},\"hover_glyph\":null,\"muted_glyph\":null,\"nonselection_glyph\":{\"id\":\"1b2ce6c8-5389-4928-b3b0-3f23c43e0bec\",\"type\":\"VBar\"},\"selection_glyph\":null,\"view\":{\"id\":\"526836ff-0725-4c7b-ba06-ce8d37235c7a\",\"type\":\"CDSView\"}},\"id\":\"5fa88239-e082-4c35-92cc-67e6174bda22\",\"type\":\"GlyphRenderer\"},{\"attributes\":{},\"id\":\"08dbe8dd-618b-4bbb-b554-12f2353ef37e\",\"type\":\"CategoricalTicker\"},{\"attributes\":{},\"id\":\"a946105c-f00f-42a4-ad56-54b147c08438\",\"type\":\"BasicTickFormatter\"},{\"attributes\":{},\"id\":\"a776e327-cb35-4f6a-942f-0a2c8961f29f\",\"type\":\"PanTool\"},{\"attributes\":{\"dimension\":1,\"plot\":{\"id\":\"a518d05e-0001-480e-b660-699a7e27e95e\",\"subtype\":\"Figure\",\"type\":\"Plot\"},\"ticker\":{\"id\":\"b994491e-c453-4cd1-b932-27099e81f130\",\"type\":\"BasicTicker\"}},\"id\":\"4653356e-6c2b-4785-8e0a-49689eae2071\",\"type\":\"Grid\"},{\"attributes\":{\"data_source\":{\"id\":\"11a0c87f-0645-4899-ae7b-ceae844b83d9\",\"type\":\"ColumnDataSource\"},\"glyph\":{\"id\":\"e7ac0e0c-ee63-4beb-8cd2-1bf6590826d9\",\"type\":\"VBar\"},\"hover_glyph\":null,\"muted_glyph\":null,\"nonselection_glyph\":{\"id\":\"814d3bd8-490b-46ed-846d-36c0e3609138\",\"type\":\"VBar\"},\"selection_glyph\":null,\"view\":{\"id\":\"9849a814-5067-4e62-9908-81799b5f7735\",\"type\":\"CDSView\"}},\"id\":\"1c4d86fd-0523-4ce2-be76-daeb1911d248\",\"type\":\"GlyphRenderer\"},{\"attributes\":{},\"id\":\"e9ffbdd3-fbbe-40e2-bec4-ecd38e65060c\",\"type\":\"HelpTool\"},{\"attributes\":{\"callback\":null,\"factors\":[\"1\",\"2\",\"3\",\"4\",\"5\",\"6\",\"7\",\"8\",\"9\",\"10\",\"11\"]},\"id\":\"ca51cd0d-beda-43e8-a006-a07dcd3612ba\",\"type\":\"FactorRange\"},{\"attributes\":{},\"id\":\"fdc4b8fd-fd84-459a-aa60-b416d3b7d3ed\",\"type\":\"UnionRenderers\"},{\"attributes\":{\"callback\":null},\"id\":\"a736d041-b7cc-4960-98ea-29935dd31232\",\"type\":\"DataRange1d\"},{\"attributes\":{\"tools\":[{\"id\":\"cfca2051-afbb-4c04-82e0-d85b7085f603\",\"type\":\"PanTool\"},{\"id\":\"353c3a95-73f5-433d-a57f-df9c4c709f0d\",\"type\":\"WheelZoomTool\"},{\"id\":\"f06a5998-f5af-4f2e-af7d-60859608fdb8\",\"type\":\"BoxZoomTool\"},{\"id\":\"ba58c5de-4be3-4082-a147-ffe9d0fb7ab1\",\"type\":\"SaveTool\"},{\"id\":\"5d4f91d7-8fcc-47d9-b804-6454edd0a2c4\",\"type\":\"ResetTool\"},{\"id\":\"6ce1b045-1c1c-4c0f-9bd2-1a81f2178c22\",\"type\":\"HelpTool\"},{\"id\":\"bd73d59e-531b-4753-88e5-79947e39c6d6\",\"type\":\"PanTool\"},{\"id\":\"8aee60dd-3952-414a-a6fa-31c1bce7143d\",\"type\":\"WheelZoomTool\"},{\"id\":\"33cceca7-384e-40ee-909f-e3d63d1cbbde\",\"type\":\"BoxZoomTool\"},{\"id\":\"516f0fac-368a-455a-b435-848fd4114f3b\",\"type\":\"SaveTool\"},{\"id\":\"71c07e2a-bb5c-4232-a284-f2ff8baa5b25\",\"type\":\"ResetTool\"},{\"id\":\"99b8082b-df28-4ea1-849c-f320a57b4c5a\",\"type\":\"HelpTool\"},{\"id\":\"a776e327-cb35-4f6a-942f-0a2c8961f29f\",\"type\":\"PanTool\"},{\"id\":\"b0a96dec-9a0f-48a1-8cc4-32d7308da875\",\"type\":\"WheelZoomTool\"},{\"id\":\"23e5b12d-f2f1-4d6b-908c-5e81b1017f93\",\"type\":\"BoxZoomTool\"},{\"id\":\"b8f14dcd-2633-4de5-bc2d-4f9510fe11cc\",\"type\":\"SaveTool\"},{\"id\":\"6c5bd7af-8d96-4bb1-bfe2-9d5e04785a38\",\"type\":\"ResetTool\"},{\"id\":\"e9ffbdd3-fbbe-40e2-bec4-ecd38e65060c\",\"type\":\"HelpTool\"}]},\"id\":\"1c6d632d-2dda-4e96-aaee-e0ace29f7401\",\"type\":\"ProxyToolbar\"},{\"attributes\":{},\"id\":\"b0a96dec-9a0f-48a1-8cc4-32d7308da875\",\"type\":\"WheelZoomTool\"},{\"attributes\":{},\"id\":\"516f0fac-368a-455a-b435-848fd4114f3b\",\"type\":\"SaveTool\"},{\"attributes\":{\"children\":[{\"id\":\"d193f750-e951-4493-989d-45a7cd098e02\",\"type\":\"ToolbarBox\"},{\"id\":\"c0dbc73d-7d59-4f3a-8a98-3b0a0c97fb63\",\"type\":\"Column\"}]},\"id\":\"b7ccb76c-18e9-486a-97e7-fefb82138e47\",\"type\":\"Column\"},{\"attributes\":{},\"id\":\"71c07e2a-bb5c-4232-a284-f2ff8baa5b25\",\"type\":\"ResetTool\"},{\"attributes\":{},\"id\":\"b8f14dcd-2633-4de5-bc2d-4f9510fe11cc\",\"type\":\"SaveTool\"},{\"attributes\":{\"axis_label\":\"spectral band\",\"formatter\":{\"id\":\"9a7692a9-59e2-4952-88f7-5f52e1434f4f\",\"type\":\"CategoricalTickFormatter\"},\"plot\":{\"id\":\"a518d05e-0001-480e-b660-699a7e27e95e\",\"subtype\":\"Figure\",\"type\":\"Plot\"},\"ticker\":{\"id\":\"56c8bf45-8417-4854-bd63-8fcb8f9d2b2b\",\"type\":\"CategoricalTicker\"}},\"id\":\"a25b0e90-31d5-4b53-9cd6-e361baa5920a\",\"type\":\"CategoricalAxis\"},{\"attributes\":{\"source\":{\"id\":\"46929c81-f861-4659-9dcf-88bef8effd37\",\"type\":\"ColumnDataSource\"}},\"id\":\"526836ff-0725-4c7b-ba06-ce8d37235c7a\",\"type\":\"CDSView\"},{\"attributes\":{\"active_drag\":\"auto\",\"active_inspect\":\"auto\",\"active_scroll\":\"auto\",\"active_tap\":\"auto\",\"tools\":[{\"id\":\"cfca2051-afbb-4c04-82e0-d85b7085f603\",\"type\":\"PanTool\"},{\"id\":\"353c3a95-73f5-433d-a57f-df9c4c709f0d\",\"type\":\"WheelZoomTool\"},{\"id\":\"f06a5998-f5af-4f2e-af7d-60859608fdb8\",\"type\":\"BoxZoomTool\"},{\"id\":\"ba58c5de-4be3-4082-a147-ffe9d0fb7ab1\",\"type\":\"SaveTool\"},{\"id\":\"5d4f91d7-8fcc-47d9-b804-6454edd0a2c4\",\"type\":\"ResetTool\"},{\"id\":\"6ce1b045-1c1c-4c0f-9bd2-1a81f2178c22\",\"type\":\"HelpTool\"}]},\"id\":\"6b8249f3-d3c8-4fbc-b11a-39e89efeebee\",\"type\":\"Toolbar\"},{\"attributes\":{},\"id\":\"99b8082b-df28-4ea1-849c-f320a57b4c5a\",\"type\":\"HelpTool\"},{\"attributes\":{},\"id\":\"a29de569-73e9-41e1-afbe-f877b76d1a83\",\"type\":\"LinearScale\"},{\"attributes\":{},\"id\":\"527250ba-6030-4606-8aa8-a6075ec872c2\",\"type\":\"Selection\"},{\"attributes\":{},\"id\":\"bd73d59e-531b-4753-88e5-79947e39c6d6\",\"type\":\"PanTool\"},{\"attributes\":{\"overlay\":{\"id\":\"89097c7e-596d-49f0-b69e-3d58c99863ff\",\"type\":\"BoxAnnotation\"}},\"id\":\"33cceca7-384e-40ee-909f-e3d63d1cbbde\",\"type\":\"BoxZoomTool\"},{\"attributes\":{\"children\":[{\"id\":\"1b59d59b-b4ca-4a4b-b3b0-1b35fe0e1c3a\",\"type\":\"Row\"}]},\"id\":\"c0dbc73d-7d59-4f3a-8a98-3b0a0c97fb63\",\"type\":\"Column\"},{\"attributes\":{\"axis_label\":\"spectral band\",\"formatter\":{\"id\":\"e7be5823-21d4-47a0-ab6b-47ec12cc38a7\",\"type\":\"CategoricalTickFormatter\"},\"plot\":{\"id\":\"7725a910-6b04-41c4-a4ab-ab9e3b59380b\",\"subtype\":\"Figure\",\"type\":\"Plot\"},\"ticker\":{\"id\":\"08dbe8dd-618b-4bbb-b554-12f2353ef37e\",\"type\":\"CategoricalTicker\"}},\"id\":\"c334629e-667b-462a-af12-f8cc35422b6a\",\"type\":\"CategoricalAxis\"},{\"attributes\":{\"callback\":null,\"data\":{\"band\":[\"1\",\"2\",\"3\",\"4\",\"5\",\"6\",\"7\",\"8\",\"9\",\"10\",\"11\"],\"flux\":{\"__ndarray__\":\"cJfeQHmm+z+ws0NXfXkBQPAT1t91Cuq/ADXEl9rJ2z9mKkDrTB8QwA+0ZW0RpzDAWGRLweB3HsBmS8Hgu6kPwOB2sFEYjMY/VEF8yKqU/z+AJgqhQRKPPw==\",\"dtype\":\"float64\",\"shape\":[11]}},\"selected\":{\"id\":\"b5058a1a-fff6-4ce5-a9a1-ac33411bab16\",\"type\":\"Selection\"},\"selection_policy\":{\"id\":\"61a73c75-be11-4316-9a3d-49a08cd7dcdd\",\"type\":\"UnionRenderers\"}},\"id\":\"11a0c87f-0645-4899-ae7b-ceae844b83d9\",\"type\":\"ColumnDataSource\"},{\"attributes\":{},\"id\":\"ca8da601-0c31-41d8-9836-7aba7e9534c0\",\"type\":\"CategoricalScale\"},{\"attributes\":{},\"id\":\"9a7692a9-59e2-4952-88f7-5f52e1434f4f\",\"type\":\"CategoricalTickFormatter\"},{\"attributes\":{\"plot\":null,\"text\":\"TOA flux. CLIRAD (single-run) - CRD.\"},\"id\":\"21a7cc93-73af-44f1-96de-dd5d624dfea7\",\"type\":\"Title\"},{\"attributes\":{\"fill_color\":{\"value\":\"#1f77b4\"},\"line_color\":{\"value\":\"#1f77b4\"},\"top\":{\"field\":\"flux\"},\"width\":{\"value\":0.9},\"x\":{\"field\":\"band\"}},\"id\":\"4135d685-d6ab-4e1e-977e-42c78a5808b0\",\"type\":\"VBar\"},{\"attributes\":{},\"id\":\"7830912c-61aa-4131-bcc2-ea72e1a52997\",\"type\":\"LinearScale\"},{\"attributes\":{\"bottom_units\":\"screen\",\"fill_alpha\":{\"value\":0.5},\"fill_color\":{\"value\":\"lightgrey\"},\"left_units\":\"screen\",\"level\":\"overlay\",\"line_alpha\":{\"value\":1.0},\"line_color\":{\"value\":\"black\"},\"line_dash\":[4,4],\"line_width\":{\"value\":2},\"plot\":null,\"render_mode\":\"css\",\"right_units\":\"screen\",\"top_units\":\"screen\"},\"id\":\"bb6e78ec-a005-4008-a6c0-88356f77cbf7\",\"type\":\"BoxAnnotation\"},{\"attributes\":{\"plot\":null,\"text\":\"Atmosphere heating. CLIRAD (single-run) - CRD.\"},\"id\":\"3572b3ce-24e3-45ad-9bc5-ba54b0217bda\",\"type\":\"Title\"},{\"attributes\":{\"callback\":null,\"data\":{\"band\":[\"1\",\"2\",\"3\",\"4\",\"5\",\"6\",\"7\",\"8\",\"9\",\"10\",\"11\"],\"flux\":{\"__ndarray__\":\"kBK7treb+z/MNczQeGooQPCHn/8eDBZAIBlW8Ubm4D+odoapLYUYQMi44uKoADBAqanAJPASE0CYVek4yM0XQGz0xTlFwgtABvde14pRAUCAbxLeeT2TPw==\",\"dtype\":\"float64\",\"shape\":[11]}},\"selected\":{\"id\":\"527250ba-6030-4606-8aa8-a6075ec872c2\",\"type\":\"Selection\"},\"selection_policy\":{\"id\":\"fdc4b8fd-fd84-459a-aa60-b416d3b7d3ed\",\"type\":\"UnionRenderers\"}},\"id\":\"69cfa40f-bf59-4a52-8d56-a07e8060d389\",\"type\":\"ColumnDataSource\"},{\"attributes\":{\"callback\":null,\"factors\":[\"1\",\"2\",\"3\",\"4\",\"5\",\"6\",\"7\",\"8\",\"9\",\"10\",\"11\"]},\"id\":\"311cc783-fbfb-4ea4-9e69-77a96d5b1644\",\"type\":\"FactorRange\"},{\"attributes\":{},\"id\":\"129b4d64-9d4e-408f-b960-a54c8d0fd9c1\",\"type\":\"CategoricalTickFormatter\"},{\"attributes\":{},\"id\":\"b994491e-c453-4cd1-b932-27099e81f130\",\"type\":\"BasicTicker\"},{\"attributes\":{\"callback\":null,\"data\":{\"band\":[\"1\",\"2\",\"3\",\"4\",\"5\",\"6\",\"7\",\"8\",\"9\",\"10\",\"11\"],\"flux\":{\"__ndarray__\":\"AEDpRe1+Zb/0FADjGQwkQKQ33EduTRlAADaSBOEKuD8AFX30PFIkQHDUwEXdU0BA3uy02mjFKEBqBytnUtEjQGCdCIeDWQpAgBL1gk9zyD8Ad2DnQ6NtPw==\",\"dtype\":\"float64\",\"shape\":[11]}},\"selected\":{\"id\":\"1049bf11-5ada-46c9-aee3-ca4d70bb3c52\",\"type\":\"Selection\"},\"selection_policy\":{\"id\":\"16b6e655-e56c-41e7-8e44-23d082ebdb61\",\"type\":\"UnionRenderers\"}},\"id\":\"46929c81-f861-4659-9dcf-88bef8effd37\",\"type\":\"ColumnDataSource\"},{\"attributes\":{},\"id\":\"8aee60dd-3952-414a-a6fa-31c1bce7143d\",\"type\":\"WheelZoomTool\"},{\"attributes\":{\"below\":[{\"id\":\"ab5f0b32-29f1-4e6c-bad0-de78d95ec327\",\"type\":\"CategoricalAxis\"}],\"left\":[{\"id\":\"ced91155-97a9-4423-9b78-abaa5b7f9686\",\"type\":\"LinearAxis\"}],\"plot_height\":300,\"plot_width\":300,\"renderers\":[{\"id\":\"ab5f0b32-29f1-4e6c-bad0-de78d95ec327\",\"type\":\"CategoricalAxis\"},{\"id\":\"c7cc0876-899f-4ef0-840a-08322a32aa0d\",\"type\":\"Grid\"},{\"id\":\"ced91155-97a9-4423-9b78-abaa5b7f9686\",\"type\":\"LinearAxis\"},{\"id\":\"68d16e16-9d55-403c-917d-f1a6c24ff09e\",\"type\":\"Grid\"},{\"id\":\"35ddfc00-8bb1-4b05-a2a5-d06107b634bd\",\"type\":\"BoxAnnotation\"},{\"id\":\"580420e2-2346-468a-b622-53ba1b147c88\",\"type\":\"GlyphRenderer\"}],\"title\":{\"id\":\"21a7cc93-73af-44f1-96de-dd5d624dfea7\",\"type\":\"Title\"},\"toolbar\":{\"id\":\"6b8249f3-d3c8-4fbc-b11a-39e89efeebee\",\"type\":\"Toolbar\"},\"toolbar_location\":null,\"x_range\":{\"id\":\"ca51cd0d-beda-43e8-a006-a07dcd3612ba\",\"type\":\"FactorRange\"},\"x_scale\":{\"id\":\"b02fb29c-1072-44c1-b243-5239e7552a7c\",\"type\":\"CategoricalScale\"},\"y_range\":{\"id\":\"c58175de-fc12-44f7-9793-ff01da97d7c0\",\"type\":\"DataRange1d\"},\"y_scale\":{\"id\":\"17018b85-39ed-43b8-a713-6252e8539514\",\"type\":\"LinearScale\"}},\"id\":\"eb7bc04a-7388-4525-bde5-d212815b9f9b\",\"subtype\":\"Figure\",\"type\":\"Plot\"},{\"attributes\":{\"callback\":null},\"id\":\"1e56320e-f7c4-470c-bc52-bc99909884f3\",\"type\":\"DataRange1d\"},{\"attributes\":{},\"id\":\"c8639574-a5b5-4fbb-97f8-23a130b74c53\",\"type\":\"CategoricalScale\"},{\"attributes\":{\"overlay\":{\"id\":\"bb6e78ec-a005-4008-a6c0-88356f77cbf7\",\"type\":\"BoxAnnotation\"}},\"id\":\"23e5b12d-f2f1-4d6b-908c-5e81b1017f93\",\"type\":\"BoxZoomTool\"},{\"attributes\":{},\"id\":\"56c8bf45-8417-4854-bd63-8fcb8f9d2b2b\",\"type\":\"CategoricalTicker\"},{\"attributes\":{\"fill_alpha\":{\"value\":0.1},\"fill_color\":{\"value\":\"#1f77b4\"},\"line_alpha\":{\"value\":0.1},\"line_color\":{\"value\":\"#1f77b4\"},\"top\":{\"field\":\"flux\"},\"width\":{\"value\":0.9},\"x\":{\"field\":\"band\"}},\"id\":\"1b2ce6c8-5389-4928-b3b0-3f23c43e0bec\",\"type\":\"VBar\"},{\"attributes\":{},\"id\":\"6c5bd7af-8d96-4bb1-bfe2-9d5e04785a38\",\"type\":\"ResetTool\"},{\"attributes\":{\"bottom_units\":\"screen\",\"fill_alpha\":{\"value\":0.5},\"fill_color\":{\"value\":\"lightgrey\"},\"left_units\":\"screen\",\"level\":\"overlay\",\"line_alpha\":{\"value\":1.0},\"line_color\":{\"value\":\"black\"},\"line_dash\":[4,4],\"line_width\":{\"value\":2},\"plot\":null,\"render_mode\":\"css\",\"right_units\":\"screen\",\"top_units\":\"screen\"},\"id\":\"89097c7e-596d-49f0-b69e-3d58c99863ff\",\"type\":\"BoxAnnotation\"},{\"attributes\":{\"below\":[{\"id\":\"c334629e-667b-462a-af12-f8cc35422b6a\",\"type\":\"CategoricalAxis\"}],\"left\":[{\"id\":\"4b1385f8-7bd7-4180-bf02-c769775cd70a\",\"type\":\"LinearAxis\"}],\"plot_height\":300,\"plot_width\":300,\"renderers\":[{\"id\":\"c334629e-667b-462a-af12-f8cc35422b6a\",\"type\":\"CategoricalAxis\"},{\"id\":\"2d18ab99-c6aa-4b4e-bd4f-bdc08fe44875\",\"type\":\"Grid\"},{\"id\":\"4b1385f8-7bd7-4180-bf02-c769775cd70a\",\"type\":\"LinearAxis\"},{\"id\":\"5f0e9ab8-baf2-4d40-aba2-edf75ab24054\",\"type\":\"Grid\"},{\"id\":\"bb6e78ec-a005-4008-a6c0-88356f77cbf7\",\"type\":\"BoxAnnotation\"},{\"id\":\"1c4d86fd-0523-4ce2-be76-daeb1911d248\",\"type\":\"GlyphRenderer\"}],\"title\":{\"id\":\"3572b3ce-24e3-45ad-9bc5-ba54b0217bda\",\"type\":\"Title\"},\"toolbar\":{\"id\":\"36573e85-4b66-4c9a-8c20-e4cbaf06b27f\",\"type\":\"Toolbar\"},\"toolbar_location\":null,\"x_range\":{\"id\":\"4fdc6167-a363-47fa-bd3a-3f488bede6f2\",\"type\":\"FactorRange\"},\"x_scale\":{\"id\":\"c8639574-a5b5-4fbb-97f8-23a130b74c53\",\"type\":\"CategoricalScale\"},\"y_range\":{\"id\":\"a736d041-b7cc-4960-98ea-29935dd31232\",\"type\":\"DataRange1d\"},\"y_scale\":{\"id\":\"7830912c-61aa-4131-bcc2-ea72e1a52997\",\"type\":\"LinearScale\"}},\"id\":\"7725a910-6b04-41c4-a4ab-ab9e3b59380b\",\"subtype\":\"Figure\",\"type\":\"Plot\"},{\"attributes\":{\"toolbar\":{\"id\":\"1c6d632d-2dda-4e96-aaee-e0ace29f7401\",\"type\":\"ProxyToolbar\"},\"toolbar_location\":\"above\"},\"id\":\"d193f750-e951-4493-989d-45a7cd098e02\",\"type\":\"ToolbarBox\"},{\"attributes\":{\"active_drag\":\"auto\",\"active_inspect\":\"auto\",\"active_scroll\":\"auto\",\"active_tap\":\"auto\",\"tools\":[{\"id\":\"a776e327-cb35-4f6a-942f-0a2c8961f29f\",\"type\":\"PanTool\"},{\"id\":\"b0a96dec-9a0f-48a1-8cc4-32d7308da875\",\"type\":\"WheelZoomTool\"},{\"id\":\"23e5b12d-f2f1-4d6b-908c-5e81b1017f93\",\"type\":\"BoxZoomTool\"},{\"id\":\"b8f14dcd-2633-4de5-bc2d-4f9510fe11cc\",\"type\":\"SaveTool\"},{\"id\":\"6c5bd7af-8d96-4bb1-bfe2-9d5e04785a38\",\"type\":\"ResetTool\"},{\"id\":\"e9ffbdd3-fbbe-40e2-bec4-ecd38e65060c\",\"type\":\"HelpTool\"}]},\"id\":\"36573e85-4b66-4c9a-8c20-e4cbaf06b27f\",\"type\":\"Toolbar\"}],\"root_ids\":[\"b7ccb76c-18e9-486a-97e7-fefb82138e47\"]},\"title\":\"Bokeh Application\",\"version\":\"0.12.16\"}};\n",
       "  var render_items = [{\"docid\":\"f390b688-91be-4ba2-bf6c-6c77c068511e\",\"elementid\":\"f4d7dbf3-4566-4c93-bd84-427bcc5ac5dc\",\"modelid\":\"b7ccb76c-18e9-486a-97e7-fefb82138e47\"}];\n",
       "  root.Bokeh.embed.embed_items_notebook(docs_json, render_items);\n",
       "\n",
       "  }\n",
       "  if (root.Bokeh !== undefined) {\n",
       "    embed_document(root);\n",
       "  } else {\n",
       "    var attempts = 0;\n",
       "    var timer = setInterval(function(root) {\n",
       "      if (root.Bokeh !== undefined) {\n",
       "        embed_document(root);\n",
       "        clearInterval(timer);\n",
       "      }\n",
       "      attempts++;\n",
       "      if (attempts > 100) {\n",
       "        console.log(\"Bokeh: ERROR: Unable to run BokehJS code because BokehJS library is missing\")\n",
       "        clearInterval(timer);\n",
       "      }\n",
       "    }, 10, root)\n",
       "  }\n",
       "})(window);"
      ],
      "application/vnd.bokehjs_exec.v0+json": ""
     },
     "metadata": {
      "application/vnd.bokehjs_exec.v0+json": {
       "id": "b7ccb76c-18e9-486a-97e7-fefb82138e47"
      }
     },
     "output_type": "display_data"
    },
    {
     "data": {
      "text/markdown": [
       "*FIGURE.* Difference between CLIRAD and CRD in TOA, SFC and net atmosphere flux, in each spectral band."
      ],
      "text/plain": [
       "<IPython.core.display.Markdown object>"
      ]
     },
     "metadata": {},
     "output_type": "display_data"
    },
    {
     "data": {
      "text/html": [
       "<div>\n",
       "<style scoped>\n",
       "    .dataframe tbody tr th:only-of-type {\n",
       "        vertical-align: middle;\n",
       "    }\n",
       "\n",
       "    .dataframe tbody tr th {\n",
       "        vertical-align: top;\n",
       "    }\n",
       "\n",
       "    .dataframe thead th {\n",
       "        text-align: right;\n",
       "    }\n",
       "</style>\n",
       "<table border=\"1\" class=\"dataframe\">\n",
       "  <thead>\n",
       "    <tr style=\"text-align: right;\">\n",
       "      <th></th>\n",
       "      <th>OLR flux</th>\n",
       "      <th>SFC flux</th>\n",
       "      <th>ATM heating</th>\n",
       "    </tr>\n",
       "    <tr>\n",
       "      <th>Sum over bands</th>\n",
       "      <th></th>\n",
       "      <th></th>\n",
       "      <th></th>\n",
       "    </tr>\n",
       "  </thead>\n",
       "  <tbody>\n",
       "    <tr>\n",
       "      <th>CLIRAD (single-run) - CRD</th>\n",
       "      <td>58.48</td>\n",
       "      <td>85.04</td>\n",
       "      <td>-26.56</td>\n",
       "    </tr>\n",
       "    <tr>\n",
       "      <th>CRD</th>\n",
       "      <td>-201.06</td>\n",
       "      <td>166.03</td>\n",
       "      <td>-119.67</td>\n",
       "    </tr>\n",
       "  </tbody>\n",
       "</table>\n",
       "</div>"
      ],
      "text/plain": [
       "                           OLR flux  SFC flux  ATM heating\n",
       "Sum over bands                                            \n",
       "CLIRAD (single-run) - CRD     58.48     85.04       -26.56\n",
       "CRD                         -201.06    166.03      -119.67"
      ]
     },
     "metadata": {},
     "output_type": "display_data"
    },
    {
     "data": {
      "text/markdown": [
       "*TABLE.* Difference between CLIRAD and CRD in TOA, SFC and net atmosphere flux, over all spectral bands. CRD's TOA, SFC and net atmosphere flux, over all spectral bands."
      ],
      "text/plain": [
       "<IPython.core.display.Markdown object>"
      ]
     },
     "metadata": {},
     "output_type": "display_data"
    },
    {
     "data": {
      "text/html": [
       "<a id=\"Cooling_rates._trp.\"></a>"
      ],
      "text/plain": [
       "<IPython.core.display.HTML object>"
      ]
     },
     "metadata": {},
     "output_type": "display_data"
    },
    {
     "data": {
      "text/markdown": [
       "# Cooling rates. trp."
      ],
      "text/plain": [
       "<IPython.core.display.Markdown object>"
      ]
     },
     "metadata": {},
     "output_type": "display_data"
    },
    {
     "data": {
      "text/html": [
       "\n",
       "<div class=\"bk-root\">\n",
       "    <div class=\"bk-plotdiv\" id=\"a4da7631-823c-481e-9af5-de282b501764\"></div>\n",
       "</div>"
      ]
     },
     "metadata": {},
     "output_type": "display_data"
    },
    {
     "data": {
      "application/javascript": [
       "(function(root) {\n",
       "  function embed_document(root) {\n",
       "    \n",
       "  var docs_json = {\"86c2fd6f-f5d0-4ba7-bb83-11722e174aea\":{\"roots\":{\"references\":[{\"attributes\":{},\"id\":\"e970da59-d6ef-4bf3-bc94-fb785386332c\",\"type\":\"ResetTool\"},{\"attributes\":{\"plot\":null,\"text\":\"\"},\"id\":\"b96e64ad-9566-4729-864d-ebb4fd982965\",\"type\":\"Title\"},{\"attributes\":{\"callback\":null,\"data\":{\"x\":{\"__ndarray__\":\"R/KIaN7AVEClCeJMyPNGQOvRhpxr30JAptxzhxx4PkA7SssMElA4QK6Bp3CyUDNAsVXpjES9LkBFhUV0+5coQMHYwqbbySNA6f09nM3nH0CaSd/3eYoZQDmgiAOW8BNAPYqARh3eDEBkm4vCgvr+P9D+5tWhQfY/P8DwKRnSAkBq38kb17ILQDT7IWuSsxFAUr2Rjm0FFkAinq3s9XgbQGCHwtYcqSFAG64kT303J0C7dRDneyooQD9JYrbK8yRA9S3bneHhIUAIymSuUMMcQIkHLe6VEBdAAau3cITREkA6CiNvkQIPQJU39ki7IQlAaAvwok1UA0BXLQiS4+L7P0xzDpJ2hPI/NNuPGMbJ5z91mUVYxqfSPxqwUPSxZca/G11peifD3L8QzNj5t2jTvwzOozTL360/SPJ4VI1VzD9KJ0nXEIncP8yDdlvHt+4/Et49nYLW9z++2teD4Jn+P+568eH/bwFALf5D9lmAAkCiZAicVOkCQPPT4jNKxwJAOjp3wTzBAUBSQsKNGisBQG4OmjqJwQBAJ3sZoHFuAEA5Ar0Sdi0AQGy4rw5+9f8/7W4nSrC3/z8mPr8zj4T/P4UYRHCQS/8/embVKYcF/z+5YXG+LLP+P/qb8BVUgf4/KvafTtyO/j/avAK1Ppv+PwJV9VVm2P0/JFtYlU/n/D9sN+q2fiX6Pw44e41PNPc/Opt+Z/wN9T+x3vcSW1vzP9ofvWQJlvI/8sciQQBW8j80sfkQa17yPzg5qng2r/I/Oh14WJBh8z+VZjnpctj0P6CcrSuCqQBA\",\"dtype\":\"float64\",\"shape\":[75]},\"y\":{\"__ndarray__\":\"GhExyth1ND/Sv8nbtpRIP2vylNV0PVE/aTum7souWD/At0SJ8fVgPw3Iuahxymc/MSNhhJWvcD/bTfBN02d3P2zb5nxnaoA/CD5h5MAGhz8NmeH1TyaQP+zrCsc9p5Y/LbKd76fGnz/bLW5ISEmmPww9YvTcQq8/JV2OstnstT8Er5Y7M8G+P0c+r3jqkcU/5h99k6ZBzj88bCIzFzjVP4enV8oyxN0//yH99nXg5D8qOpLLf0jtP5kqGJXUifQ/c9cS8kHP/D+/DpwzojQEQIEmwoanVwxA4lgXt9HgE0BSSZ2AJuIbQAMJih9jjiNA5q4l5INuK0AwTKYKRj0zQNv5fmq8/DpAaCJseHrtQkB/+zpwzoxKQM3MzMzMeFJAZmZmZmZqWEAAAAAAAFxeQM3MzMzMJmJAmpmZmZkfZUBmZmZmZhhoQDMzMzMzEWtAAAAAAAAKbkBmZmZmZoFwQM3MzMzM/XFAMzMzMzN6c0CamZmZmfZ0QAAAAAAAc3ZAZmZmZmbvd0DNzMzMzGt5QDMzMzMz6HpAmpmZmZlkfEAAAAAAAOF9QGZmZmZmXX9AZmZmZuZsgECamZmZGSuBQM3MzMxM6YFAAAAAAICngkAzMzMzs2WDQGZmZmbmI4RAmpmZmRnihEDNzMzMTKCFQAAAAACAXoZAMzMzM7Mch0BmZmZm5tqHQJqZmZkZmYhAzczMzExXiUAAAAAAgBWKQDMzMzOz04pAZmZmZuaRi0CamZmZGVCMQM3MzMxMDo1AAAAAAIDMjUAzMzMzs4qOQGZmZmbmSI9A\",\"dtype\":\"float64\",\"shape\":[75]}},\"selected\":{\"id\":\"b46d5ef2-4c91-4987-a22f-e3848450f901\",\"type\":\"Selection\"},\"selection_policy\":{\"id\":\"b33f4ad5-d2bd-4dfb-ae80-6bb9b138876d\",\"type\":\"UnionRenderers\"}},\"id\":\"1369269f-a73a-420b-9c4b-f9ae1b27e458\",\"type\":\"ColumnDataSource\"},{\"attributes\":{},\"id\":\"7f73660d-9038-4945-ae89-e9adbef03728\",\"type\":\"BasicTickFormatter\"},{\"attributes\":{\"fill_alpha\":{\"value\":0.1},\"fill_color\":{\"value\":\"#1f77b4\"},\"line_alpha\":{\"value\":0.1},\"line_color\":{\"value\":\"#1f77b4\"},\"x\":{\"field\":\"x\"},\"y\":{\"field\":\"y\"}},\"id\":\"4b1f2e8b-2fef-4d49-8c85-43575da54050\",\"type\":\"Circle\"},{\"attributes\":{\"data_source\":{\"id\":\"c4727d51-1fe3-4000-acf1-aed06641b4bb\",\"type\":\"ColumnDataSource\"},\"glyph\":{\"id\":\"7327c145-d773-4767-963b-554fc6f202dc\",\"type\":\"Circle\"},\"hover_glyph\":null,\"muted_glyph\":null,\"nonselection_glyph\":{\"id\":\"4b1f2e8b-2fef-4d49-8c85-43575da54050\",\"type\":\"Circle\"},\"selection_glyph\":null,\"view\":{\"id\":\"a5a8a792-a276-4202-8176-6ae4645a536b\",\"type\":\"CDSView\"}},\"id\":\"e98140fd-db87-4316-83a4-1411f45c328f\",\"type\":\"GlyphRenderer\"},{\"attributes\":{},\"id\":\"b33f4ad5-d2bd-4dfb-ae80-6bb9b138876d\",\"type\":\"UnionRenderers\"},{\"attributes\":{},\"id\":\"acf8c6fc-ad36-429e-8644-cff4f3bd16cc\",\"type\":\"PanTool\"},{\"attributes\":{\"line_color\":\"#4daf4a\",\"line_width\":1.5,\"x\":{\"field\":\"x\"},\"y\":{\"field\":\"y\"}},\"id\":\"01c977f1-692d-41fe-9cfe-476172430926\",\"type\":\"Line\"},{\"attributes\":{\"source\":{\"id\":\"83a6a306-b4f6-4887-87bf-b412116329ae\",\"type\":\"ColumnDataSource\"}},\"id\":\"006b31cc-e082-400f-a6ff-2be31daa62da\",\"type\":\"CDSView\"},{\"attributes\":{\"fill_alpha\":{\"value\":0.7},\"fill_color\":{\"value\":\"#4daf4a\"},\"line_alpha\":{\"value\":0.7},\"line_color\":{\"value\":\"#4daf4a\"},\"x\":{\"field\":\"x\"},\"y\":{\"field\":\"y\"}},\"id\":\"6ef5f643-2921-4add-9217-2e268f340861\",\"type\":\"Circle\"},{\"attributes\":{},\"id\":\"101cfcf4-0e03-4ed3-8135-b42fe2511771\",\"type\":\"Selection\"},{\"attributes\":{},\"id\":\"6efc576f-2651-48cc-a491-9793cd24fb9f\",\"type\":\"UnionRenderers\"},{\"attributes\":{},\"id\":\"8df20b27-0d77-46f6-870e-8a04e0d86421\",\"type\":\"SaveTool\"},{\"attributes\":{\"num_minor_ticks\":10},\"id\":\"67081337-80b9-473c-9b2f-aaaed347f173\",\"type\":\"LogTicker\"},{\"attributes\":{},\"id\":\"1c2c22ef-9a04-42e5-819a-a85778987943\",\"type\":\"UnionRenderers\"},{\"attributes\":{\"label\":{\"value\":\"CLIRAD (single-run) - CRD\"},\"renderers\":[{\"id\":\"e98140fd-db87-4316-83a4-1411f45c328f\",\"type\":\"GlyphRenderer\"},{\"id\":\"a417df56-8cd4-4884-a96d-5d9003121071\",\"type\":\"GlyphRenderer\"}]},\"id\":\"b859d950-f834-4938-bbf2-4db58e4f5fc7\",\"type\":\"LegendItem\"},{\"attributes\":{\"overlay\":{\"id\":\"1570d7ec-5bf8-4f8f-9d3e-93c24aff3bd4\",\"type\":\"BoxAnnotation\"}},\"id\":\"7e9332cf-066c-4893-b72f-d66ba5e28485\",\"type\":\"BoxZoomTool\"},{\"attributes\":{\"axis_label\":\"pressure [mb]\",\"formatter\":{\"id\":\"7f73660d-9038-4945-ae89-e9adbef03728\",\"type\":\"BasicTickFormatter\"},\"plot\":{\"id\":\"23d22f81-8327-4866-8b4e-35beac084909\",\"subtype\":\"Figure\",\"type\":\"Plot\"},\"ticker\":{\"id\":\"55449fb3-5b42-4eaf-976c-45aff9d42ae0\",\"type\":\"BasicTicker\"}},\"id\":\"5ea1d122-cc78-4123-97af-19f58c12c8fe\",\"type\":\"LinearAxis\"},{\"attributes\":{\"source\":{\"id\":\"1369269f-a73a-420b-9c4b-f9ae1b27e458\",\"type\":\"ColumnDataSource\"}},\"id\":\"19cf72c3-367d-4221-8d7b-08563753bbdf\",\"type\":\"CDSView\"},{\"attributes\":{},\"id\":\"8ab27393-9809-431f-8c2a-ed6c3c1ac356\",\"type\":\"LinearScale\"},{\"attributes\":{},\"id\":\"fda8fab9-4aee-497f-b5e2-709156fe78b0\",\"type\":\"Selection\"},{\"attributes\":{},\"id\":\"63c33d6c-b411-4b9c-93be-931b2338339d\",\"type\":\"UnionRenderers\"},{\"attributes\":{\"line_alpha\":0.6,\"line_color\":\"#377eb8\",\"line_dash\":[6],\"line_width\":5,\"x\":{\"field\":\"x\"},\"y\":{\"field\":\"y\"}},\"id\":\"43a6c96a-7c19-442c-8b4a-bc021ac9b7eb\",\"type\":\"Line\"},{\"attributes\":{},\"id\":\"1ec6fd4e-d31c-4071-8a08-ba93715cb837\",\"type\":\"BasicTickFormatter\"},{\"attributes\":{\"callback\":null,\"data\":{\"x\":{\"__ndarray__\":\"R/KIaN7AVEClCeJMyPNGQOvRhpxr30JAptxzhxx4PkA7SssMElA4QK6Bp3CyUDNAsVXpjES9LkBFhUV0+5coQMHYwqbbySNA6f09nM3nH0CaSd/3eYoZQDmgiAOW8BNAPYqARh3eDEBkm4vCgvr+P9D+5tWhQfY/P8DwKRnSAkBq38kb17ILQDT7IWuSsxFAUr2Rjm0FFkAinq3s9XgbQGCHwtYcqSFAG64kT303J0C7dRDneyooQD9JYrbK8yRA9S3bneHhIUAIymSuUMMcQIkHLe6VEBdAAau3cITREkA6CiNvkQIPQJU39ki7IQlAaAvwok1UA0BXLQiS4+L7P0xzDpJ2hPI/NNuPGMbJ5z91mUVYxqfSPxqwUPSxZca/G11peifD3L8QzNj5t2jTvwzOozTL360/SPJ4VI1VzD9KJ0nXEIncP8yDdlvHt+4/Et49nYLW9z++2teD4Jn+P+568eH/bwFALf5D9lmAAkCiZAicVOkCQPPT4jNKxwJAOjp3wTzBAUBSQsKNGisBQG4OmjqJwQBAJ3sZoHFuAEA5Ar0Sdi0AQGy4rw5+9f8/7W4nSrC3/z8mPr8zj4T/P4UYRHCQS/8/embVKYcF/z+5YXG+LLP+P/qb8BVUgf4/KvafTtyO/j/avAK1Ppv+PwJV9VVm2P0/JFtYlU/n/D9sN+q2fiX6Pw44e41PNPc/Opt+Z/wN9T+x3vcSW1vzP9ofvWQJlvI/8sciQQBW8j80sfkQa17yPzg5qng2r/I/Oh14WJBh8z+VZjnpctj0P6CcrSuCqQBA\",\"dtype\":\"float64\",\"shape\":[75]},\"y\":{\"__ndarray__\":\"GhExyth1ND/Sv8nbtpRIP2vylNV0PVE/aTum7souWD/At0SJ8fVgPw3Iuahxymc/MSNhhJWvcD/bTfBN02d3P2zb5nxnaoA/CD5h5MAGhz8NmeH1TyaQP+zrCsc9p5Y/LbKd76fGnz/bLW5ISEmmPww9YvTcQq8/JV2OstnstT8Er5Y7M8G+P0c+r3jqkcU/5h99k6ZBzj88bCIzFzjVP4enV8oyxN0//yH99nXg5D8qOpLLf0jtP5kqGJXUifQ/c9cS8kHP/D+/DpwzojQEQIEmwoanVwxA4lgXt9HgE0BSSZ2AJuIbQAMJih9jjiNA5q4l5INuK0AwTKYKRj0zQNv5fmq8/DpAaCJseHrtQkB/+zpwzoxKQM3MzMzMeFJAZmZmZmZqWEAAAAAAAFxeQM3MzMzMJmJAmpmZmZkfZUBmZmZmZhhoQDMzMzMzEWtAAAAAAAAKbkBmZmZmZoFwQM3MzMzM/XFAMzMzMzN6c0CamZmZmfZ0QAAAAAAAc3ZAZmZmZmbvd0DNzMzMzGt5QDMzMzMz6HpAmpmZmZlkfEAAAAAAAOF9QGZmZmZmXX9AZmZmZuZsgECamZmZGSuBQM3MzMxM6YFAAAAAAICngkAzMzMzs2WDQGZmZmbmI4RAmpmZmRnihEDNzMzMTKCFQAAAAACAXoZAMzMzM7Mch0BmZmZm5tqHQJqZmZkZmYhAzczMzExXiUAAAAAAgBWKQDMzMzOz04pAZmZmZuaRi0CamZmZGVCMQM3MzMxMDo1AAAAAAIDMjUAzMzMzs4qOQGZmZmbmSI9A\",\"dtype\":\"float64\",\"shape\":[75]}},\"selected\":{\"id\":\"154cf04b-85d5-44b2-bbc8-87662d8b6b7d\",\"type\":\"Selection\"},\"selection_policy\":{\"id\":\"cbf9e006-5c4e-4e8a-8948-4bfd134a286c\",\"type\":\"UnionRenderers\"}},\"id\":\"c380fb9e-530b-478b-b6af-795ea4e3f616\",\"type\":\"ColumnDataSource\"},{\"attributes\":{\"callback\":null,\"end\":13.803835319394901,\"start\":-15.777267606084898},\"id\":\"c58d02a3-b347-43c6-adc0-c79b77034730\",\"type\":\"Range1d\"},{\"attributes\":{\"callback\":null,\"data\":{\"x\":{\"__ndarray__\":\"ZzdTqPT7Q8AbqIxD+n8gwOY3MbngowLAcWW2oUxB/D+QlW1ZLkAOQFcdT9bi4A5AqW7RqCdnBED94FDJJSHnP1XE+k4+vee/A+9ujyT69L+V7KdBUArxvz760eNXzt2/0LKTbOtvuj9EWzgdeZPeP3O7BL/n3eE/mPcmbdZD2D9bBRVM/dK5P6wfbeDE1c2/3LasBRpA379A1N7+nZrev/rQ0B1oJ82/+Poz6PeMeL/Y/M1A3fC1P6Bzhq54jbK/doeEzsbLx7+pMaEhwFO8P34s1nAJHuI/xOEqWhxL4z+edCVWPGnZPzVxNE2TNdg/GLSi+7Ac5T/o3tQ7T5HoPz3QkldX1+M/6J43Po3q2z9drmKQydHYP+NcZ3Nt99I/TvlpFUgMvD/IHBBOpF2gP2/XYKvR8qc/zoZORaJdrT9AqOeEoOiuP4bjd336l7I/zguEb6J0tj/dFl3CrsDCP8XJONEDbck/HTllfalpI0ASnmUOJe8aQGC9V90Qh/C/zE2kUKfDGkDdfsTgthLzv5yHQXHNgiVAskJ6EIuKMcDCx+vg+7YDwPhwoDuVrgHAwFaHcEw+AMCNioBkgyH+v/Iy839vHPy/VHsKIaQ1+r/KwPkENED4v5+LrcEuO/a/iaDFrd0x9L9AjAP0aizyvyridJKtPvC/s2ymdS0H7r+77fAGef7pv4XugZAh0+O/ueqFdFRlKEBtPi4g5hHUP5pihQVql/K/MX4qRzlKB8Dns4M8rvv0vz4SYYkoYvK/PnODiwyw8L8mPXpuogjvvyiELBDfp+2/\",\"dtype\":\"float64\",\"shape\":[75]},\"y\":{\"__ndarray__\":\"GhExyth1ND/Sv8nbtpRIP2vylNV0PVE/aTum7souWD/At0SJ8fVgPw3Iuahxymc/MSNhhJWvcD/bTfBN02d3P2zb5nxnaoA/CD5h5MAGhz8NmeH1TyaQP+zrCsc9p5Y/LbKd76fGnz/bLW5ISEmmPww9YvTcQq8/JV2OstnstT8Er5Y7M8G+P0c+r3jqkcU/5h99k6ZBzj88bCIzFzjVP4enV8oyxN0//yH99nXg5D8qOpLLf0jtP5kqGJXUifQ/c9cS8kHP/D+/DpwzojQEQIEmwoanVwxA4lgXt9HgE0BSSZ2AJuIbQAMJih9jjiNA5q4l5INuK0AwTKYKRj0zQNv5fmq8/DpAaCJseHrtQkB/+zpwzoxKQM3MzMzMeFJAZmZmZmZqWEAAAAAAAFxeQM3MzMzMJmJAmpmZmZkfZUBmZmZmZhhoQDMzMzMzEWtAAAAAAAAKbkBmZmZmZoFwQM3MzMzM/XFAMzMzMzN6c0CamZmZmfZ0QAAAAAAAc3ZAZmZmZmbvd0DNzMzMzGt5QDMzMzMz6HpAmpmZmZlkfEAAAAAAAOF9QGZmZmZmXX9AZmZmZuZsgECamZmZGSuBQM3MzMxM6YFAAAAAAICngkAzMzMzs2WDQGZmZmbmI4RAmpmZmRnihEDNzMzMTKCFQAAAAACAXoZAMzMzM7Mch0BmZmZm5tqHQJqZmZkZmYhAzczMzExXiUAAAAAAgBWKQDMzMzOz04pAZmZmZuaRi0CamZmZGVCMQM3MzMxMDo1AAAAAAIDMjUAzMzMzs4qOQGZmZmbmSI9A\",\"dtype\":\"float64\",\"shape\":[75]}},\"selected\":{\"id\":\"0ea0561a-b5ad-4f9d-bfdc-de70bb5df015\",\"type\":\"Selection\"},\"selection_policy\":{\"id\":\"139ab552-7fd0-49d4-9d06-b825e4ef14c0\",\"type\":\"UnionRenderers\"}},\"id\":\"f828c0a4-192d-430d-bdb7-58c6da042b3e\",\"type\":\"ColumnDataSource\"},{\"attributes\":{},\"id\":\"6417ceec-1d0c-4fd9-a405-ad4bc3d1e39a\",\"type\":\"Selection\"},{\"attributes\":{},\"id\":\"f9c3a772-5934-478e-aab4-b615a55a751a\",\"type\":\"Selection\"},{\"attributes\":{\"line_alpha\":0.8,\"line_color\":\"#984ea3\",\"line_width\":1.5,\"x\":{\"field\":\"x\"},\"y\":{\"field\":\"y\"}},\"id\":\"8fb56238-15d9-42d3-960a-108b8ef226e2\",\"type\":\"Line\"},{\"attributes\":{},\"id\":\"0ccf06f6-ffc5-446b-9947-bd95e7c1e2b4\",\"type\":\"Selection\"},{\"attributes\":{\"callback\":null,\"data\":{\"x\":{\"__ndarray__\":\"Ka2+KMiFRUCe3/67ydNCQG2+85AttUFAgKHHqBgeQEDv/PjXFxg8QFdlccvOLDdAr9iOO4frMUBTk9rQDQoqQHss08EHTiJAKUJieESpGkB0TnXn5UcVQJaAS4WwExJA1CfloZyxDUAa2eyEsE8DQIpcabWVMP8/Mp+V95PaBUCThyoGb4EMQDiSHkTkxBBA5PE27msRFEDesL8MTI8ZQBxESzZ/NCFAm6cnsGs0J0C0EZKhXVYoQFo8BcWvziRA1xuhgrKCIUDOTuuunzQdQBjNRxxXVBlAOwf9++c6FUBl3PN83BcRQLrFnLJtKAxAcLjY4XmbCEBkTvmXxRUEQGrb1z0icPw/VdXVW4bf8j/pI1T0x7zlP1wT/ORREr8/yN4OdRXA1b94yBZwA13Rv8FSAnBO6bo//Unm8nrW0T8pDvNzEjPgPx7AklVjhfA/zx42xMw9+T/NvhEu+3gAQIkHBR/QBgNAqTj2+r8JKEAy6DSu5zEiQIbqbYqDB/U/dfWv2CLSIUCIC4B1/IbuPzYL6L8vsylAmCbuuHn5LsBCLHZxLkzcvw1MiURjPcu/KdLn3BKdqL+VOevzvDC2P6Ush4IHeck/lawrI4w/0z++g97l4svZP7UghqhKjOA/Q6u0Qf255D8zYf6Bp93oP63lAIdxM+s/lUkKtXHH6z8egeNmhEzqP5WBdIp9leo/Ib51ARQHK0BNbgOb1F/4PwD5K4QMCja/cTQyTXI+/L+gFVBcGerEv4S+SdJ7Q5M/40+lZx6MxT8HIPHHhlDVPyv3RM8Uf/I/\",\"dtype\":\"float64\",\"shape\":[75]},\"y\":{\"__ndarray__\":\"GhExyth1ND/Sv8nbtpRIP2vylNV0PVE/aTum7souWD/At0SJ8fVgPw3Iuahxymc/MSNhhJWvcD/bTfBN02d3P2zb5nxnaoA/CD5h5MAGhz8NmeH1TyaQP+zrCsc9p5Y/LbKd76fGnz/bLW5ISEmmPww9YvTcQq8/JV2OstnstT8Er5Y7M8G+P0c+r3jqkcU/5h99k6ZBzj88bCIzFzjVP4enV8oyxN0//yH99nXg5D8qOpLLf0jtP5kqGJXUifQ/c9cS8kHP/D+/DpwzojQEQIEmwoanVwxA4lgXt9HgE0BSSZ2AJuIbQAMJih9jjiNA5q4l5INuK0AwTKYKRj0zQNv5fmq8/DpAaCJseHrtQkB/+zpwzoxKQM3MzMzMeFJAZmZmZmZqWEAAAAAAAFxeQM3MzMzMJmJAmpmZmZkfZUBmZmZmZhhoQDMzMzMzEWtAAAAAAAAKbkBmZmZmZoFwQM3MzMzM/XFAMzMzMzN6c0CamZmZmfZ0QAAAAAAAc3ZAZmZmZmbvd0DNzMzMzGt5QDMzMzMz6HpAmpmZmZlkfEAAAAAAAOF9QGZmZmZmXX9AZmZmZuZsgECamZmZGSuBQM3MzMxM6YFAAAAAAICngkAzMzMzs2WDQGZmZmbmI4RAmpmZmRnihEDNzMzMTKCFQAAAAACAXoZAMzMzM7Mch0BmZmZm5tqHQJqZmZkZmYhAzczMzExXiUAAAAAAgBWKQDMzMzOz04pAZmZmZuaRi0CamZmZGVCMQM3MzMxMDo1AAAAAAIDMjUAzMzMzs4qOQGZmZmbmSI9A\",\"dtype\":\"float64\",\"shape\":[75]}},\"selected\":{\"id\":\"0ccf06f6-ffc5-446b-9947-bd95e7c1e2b4\",\"type\":\"Selection\"},\"selection_policy\":{\"id\":\"1c2c22ef-9a04-42e5-819a-a85778987943\",\"type\":\"UnionRenderers\"}},\"id\":\"18194b52-10a9-4e58-a231-10a6508a432c\",\"type\":\"ColumnDataSource\"},{\"attributes\":{},\"id\":\"154cf04b-85d5-44b2-bbc8-87662d8b6b7d\",\"type\":\"Selection\"},{\"attributes\":{\"data_source\":{\"id\":\"c380fb9e-530b-478b-b6af-795ea4e3f616\",\"type\":\"ColumnDataSource\"},\"glyph\":{\"id\":\"01c977f1-692d-41fe-9cfe-476172430926\",\"type\":\"Line\"},\"hover_glyph\":null,\"muted_glyph\":null,\"nonselection_glyph\":{\"id\":\"744f8097-fd0d-44e5-8f14-db2c92dd47ea\",\"type\":\"Line\"},\"selection_glyph\":null,\"view\":{\"id\":\"d6dcf4b4-0597-49da-92ea-43f476475a63\",\"type\":\"CDSView\"}},\"id\":\"cabf3cc4-65f3-4a1f-a232-28e74ca83cce\",\"type\":\"GlyphRenderer\"},{\"attributes\":{\"line_alpha\":0.1,\"line_color\":\"#1f77b4\",\"line_width\":1.5,\"x\":{\"field\":\"x\"},\"y\":{\"field\":\"y\"}},\"id\":\"744f8097-fd0d-44e5-8f14-db2c92dd47ea\",\"type\":\"Line\"},{\"attributes\":{},\"id\":\"f6b35a18-118b-4e89-8168-35e40162eb16\",\"type\":\"WheelZoomTool\"},{\"attributes\":{\"source\":{\"id\":\"c4727d51-1fe3-4000-acf1-aed06641b4bb\",\"type\":\"ColumnDataSource\"}},\"id\":\"a5a8a792-a276-4202-8176-6ae4645a536b\",\"type\":\"CDSView\"},{\"attributes\":{\"items\":[{\"id\":\"f9d43f15-34fd-4978-bfcd-4e8f6b4a7f40\",\"type\":\"LegendItem\"},{\"id\":\"f6a1a4d3-3d0a-4bae-8831-0df9f71355c4\",\"type\":\"LegendItem\"}],\"label_text_font_size\":{\"value\":\"8pt\"},\"location\":\"top_center\",\"orientation\":\"horizontal\",\"plot\":{\"id\":\"da954310-f103-4b31-8490-9e729aa1f2f9\",\"subtype\":\"Figure\",\"type\":\"Plot\"}},\"id\":\"4f29fdaf-07bc-400d-a8b7-dbfc123193d9\",\"type\":\"Legend\"},{\"attributes\":{},\"id\":\"cbf9e006-5c4e-4e8a-8948-4bfd134a286c\",\"type\":\"UnionRenderers\"},{\"attributes\":{},\"id\":\"55449fb3-5b42-4eaf-976c-45aff9d42ae0\",\"type\":\"BasicTicker\"},{\"attributes\":{},\"id\":\"b08f5fee-85c3-4f34-a854-22bca4a464be\",\"type\":\"BasicTicker\"},{\"attributes\":{\"fill_alpha\":{\"value\":0.7},\"fill_color\":{\"value\":\"#984ea3\"},\"line_alpha\":{\"value\":0.7},\"line_color\":{\"value\":\"#984ea3\"},\"x\":{\"field\":\"x\"},\"y\":{\"field\":\"y\"}},\"id\":\"7327c145-d773-4767-963b-554fc6f202dc\",\"type\":\"Circle\"},{\"attributes\":{},\"id\":\"dd02d6e6-9df6-462f-bfea-efd22c5408cd\",\"type\":\"UnionRenderers\"},{\"attributes\":{\"plot\":null,\"text\":\"\"},\"id\":\"e08c5423-02b1-4207-a069-8207cf0898a9\",\"type\":\"Title\"},{\"attributes\":{\"data_source\":{\"id\":\"83a6a306-b4f6-4887-87bf-b412116329ae\",\"type\":\"ColumnDataSource\"},\"glyph\":{\"id\":\"c29ec836-3241-4dba-8b34-85981ac863ba\",\"type\":\"Line\"},\"hover_glyph\":null,\"muted_glyph\":null,\"nonselection_glyph\":{\"id\":\"5814e220-0b73-46a1-9987-24cb28002377\",\"type\":\"Line\"},\"selection_glyph\":null,\"view\":{\"id\":\"006b31cc-e082-400f-a6ff-2be31daa62da\",\"type\":\"CDSView\"}},\"id\":\"ca8e4d7a-6858-49ea-a208-22fc1a7de72b\",\"type\":\"GlyphRenderer\"},{\"attributes\":{},\"id\":\"39c63206-0676-4cb1-a650-c9c497597b95\",\"type\":\"WheelZoomTool\"},{\"attributes\":{\"ticker\":null},\"id\":\"8c84a6ac-84e1-4ec9-8bba-64047fdfc3d5\",\"type\":\"LogTickFormatter\"},{\"attributes\":{\"children\":[{\"id\":\"be289de2-4f9d-40ed-93a4-d6d633cd59ad\",\"type\":\"Row\"}]},\"id\":\"220ea254-f661-4dc3-adf0-746a116d7df5\",\"type\":\"Column\"},{\"attributes\":{\"line_alpha\":0.1,\"line_color\":\"#1f77b4\",\"line_width\":1.5,\"x\":{\"field\":\"x\"},\"y\":{\"field\":\"y\"}},\"id\":\"0506ea5b-4144-4d65-9727-51c6d7445e17\",\"type\":\"Line\"},{\"attributes\":{\"children\":[{\"id\":\"23d22f81-8327-4866-8b4e-35beac084909\",\"subtype\":\"Figure\",\"type\":\"Plot\"},{\"id\":\"da954310-f103-4b31-8490-9e729aa1f2f9\",\"subtype\":\"Figure\",\"type\":\"Plot\"},{\"id\":\"6441f124-ca5b-4ff2-bb1a-97173596d62a\",\"subtype\":\"Figure\",\"type\":\"Plot\"}]},\"id\":\"be289de2-4f9d-40ed-93a4-d6d633cd59ad\",\"type\":\"Row\"},{\"attributes\":{\"plot\":null,\"text\":\"\"},\"id\":\"81b1789b-6e3b-43f7-95be-0ffce05254d6\",\"type\":\"Title\"},{\"attributes\":{\"above\":[{\"id\":\"1968a17c-b031-4708-8650-cf035d59ab22\",\"type\":\"Legend\"}],\"below\":[{\"id\":\"7451838b-3e22-46fb-ab07-6e96baec9040\",\"type\":\"LinearAxis\"}],\"left\":[{\"id\":\"5ea1d122-cc78-4123-97af-19f58c12c8fe\",\"type\":\"LinearAxis\"}],\"plot_width\":300,\"renderers\":[{\"id\":\"7451838b-3e22-46fb-ab07-6e96baec9040\",\"type\":\"LinearAxis\"},{\"id\":\"260e3794-0c4b-4116-b323-0e147bb0a3d7\",\"type\":\"Grid\"},{\"id\":\"5ea1d122-cc78-4123-97af-19f58c12c8fe\",\"type\":\"LinearAxis\"},{\"id\":\"a95e59bf-d61f-41cd-95fe-bac7556a39b2\",\"type\":\"Grid\"},{\"id\":\"dd3ca1e8-a345-4620-aabd-5b6b81af12e1\",\"type\":\"BoxAnnotation\"},{\"id\":\"2d7ffc48-d54e-418c-b26a-058a98b9719b\",\"type\":\"GlyphRenderer\"},{\"id\":\"b5442829-59f2-4807-8546-0c82e9a3e51f\",\"type\":\"GlyphRenderer\"},{\"id\":\"8a740af9-a070-48b0-80da-61694635a427\",\"type\":\"GlyphRenderer\"},{\"id\":\"1968a17c-b031-4708-8650-cf035d59ab22\",\"type\":\"Legend\"}],\"title\":{\"id\":\"81b1789b-6e3b-43f7-95be-0ffce05254d6\",\"type\":\"Title\"},\"toolbar\":{\"id\":\"24a38dd2-a29e-421e-8a29-a7a481f85f8c\",\"type\":\"Toolbar\"},\"toolbar_location\":null,\"x_range\":{\"id\":\"c58d02a3-b347-43c6-adc0-c79b77034730\",\"type\":\"Range1d\"},\"x_scale\":{\"id\":\"08b221de-b01d-4d00-8a38-6d3be97500fb\",\"type\":\"LinearScale\"},\"y_range\":{\"id\":\"082dee61-4015-47e4-be0e-f4f015d63c04\",\"type\":\"Range1d\"},\"y_scale\":{\"id\":\"8ab27393-9809-431f-8c2a-ed6c3c1ac356\",\"type\":\"LinearScale\"}},\"id\":\"23d22f81-8327-4866-8b4e-35beac084909\",\"subtype\":\"Figure\",\"type\":\"Plot\"},{\"attributes\":{\"data_source\":{\"id\":\"f828c0a4-192d-430d-bdb7-58c6da042b3e\",\"type\":\"ColumnDataSource\"},\"glyph\":{\"id\":\"8fb56238-15d9-42d3-960a-108b8ef226e2\",\"type\":\"Line\"},\"hover_glyph\":null,\"muted_glyph\":null,\"nonselection_glyph\":{\"id\":\"0506ea5b-4144-4d65-9727-51c6d7445e17\",\"type\":\"Line\"},\"selection_glyph\":null,\"view\":{\"id\":\"e9ad47b5-0828-4593-a1e9-baf988e17706\",\"type\":\"CDSView\"}},\"id\":\"a417df56-8cd4-4884-a96d-5d9003121071\",\"type\":\"GlyphRenderer\"},{\"attributes\":{\"callback\":null,\"end\":0.01,\"start\":1020},\"id\":\"f15433bc-dbbd-4095-83f6-7d649ca8f6d0\",\"type\":\"Range1d\"},{\"attributes\":{\"children\":[{\"id\":\"3f4b5516-e65c-46bf-b077-540993e22c1b\",\"type\":\"ToolbarBox\"},{\"id\":\"220ea254-f661-4dc3-adf0-746a116d7df5\",\"type\":\"Column\"}]},\"id\":\"6204c678-8ab3-4ca8-870a-ebe7b893a9fa\",\"type\":\"Column\"},{\"attributes\":{\"above\":[{\"id\":\"edc473fb-ff17-4943-9658-2a81303d370d\",\"type\":\"Legend\"}],\"below\":[{\"id\":\"407520b6-8acb-41e3-af3d-88bc22681a85\",\"type\":\"LinearAxis\"}],\"left\":[{\"id\":\"a8576955-072f-4479-aec5-02cbdbcb0384\",\"type\":\"LogAxis\"}],\"plot_width\":300,\"renderers\":[{\"id\":\"407520b6-8acb-41e3-af3d-88bc22681a85\",\"type\":\"LinearAxis\"},{\"id\":\"c256df57-fed6-41a0-a0c3-731535c4232d\",\"type\":\"Grid\"},{\"id\":\"a8576955-072f-4479-aec5-02cbdbcb0384\",\"type\":\"LogAxis\"},{\"id\":\"b08f3982-a163-45f5-a1c4-07c9e6487341\",\"type\":\"Grid\"},{\"id\":\"53f78ac4-f1b5-4d5c-9833-b5d60816f183\",\"type\":\"BoxAnnotation\"},{\"id\":\"e98140fd-db87-4316-83a4-1411f45c328f\",\"type\":\"GlyphRenderer\"},{\"id\":\"a417df56-8cd4-4884-a96d-5d9003121071\",\"type\":\"GlyphRenderer\"},{\"id\":\"edc473fb-ff17-4943-9658-2a81303d370d\",\"type\":\"Legend\"}],\"title\":{\"id\":\"e08c5423-02b1-4207-a069-8207cf0898a9\",\"type\":\"Title\"},\"toolbar\":{\"id\":\"d05db7e6-a120-4e6e-9bba-d79f12d65222\",\"type\":\"Toolbar\"},\"toolbar_location\":null,\"x_range\":{\"id\":\"e22fcb1a-d5c6-4800-ab97-da4e3e7a1c12\",\"type\":\"Range1d\"},\"x_scale\":{\"id\":\"04c48430-8aa0-4368-9255-8316aee7974f\",\"type\":\"LinearScale\"},\"y_range\":{\"id\":\"f15433bc-dbbd-4095-83f6-7d649ca8f6d0\",\"type\":\"Range1d\"},\"y_scale\":{\"id\":\"415c9f37-6833-4065-8227-4fd009d4f6d2\",\"type\":\"LogScale\"}},\"id\":\"6441f124-ca5b-4ff2-bb1a-97173596d62a\",\"subtype\":\"Figure\",\"type\":\"Plot\"},{\"attributes\":{\"callback\":null,\"end\":0.01,\"start\":1020},\"id\":\"0850321a-e793-467b-982a-2cb5e153d154\",\"type\":\"Range1d\"},{\"attributes\":{\"source\":{\"id\":\"f828c0a4-192d-430d-bdb7-58c6da042b3e\",\"type\":\"ColumnDataSource\"}},\"id\":\"e9ad47b5-0828-4593-a1e9-baf988e17706\",\"type\":\"CDSView\"},{\"attributes\":{},\"id\":\"84e07572-da9a-44e1-9baa-9173c2e0c3fb\",\"type\":\"PanTool\"},{\"attributes\":{\"bottom_units\":\"screen\",\"fill_alpha\":{\"value\":0.5},\"fill_color\":{\"value\":\"lightgrey\"},\"left_units\":\"screen\",\"level\":\"overlay\",\"line_alpha\":{\"value\":1.0},\"line_color\":{\"value\":\"black\"},\"line_dash\":[4,4],\"line_width\":{\"value\":2},\"plot\":null,\"render_mode\":\"css\",\"right_units\":\"screen\",\"top_units\":\"screen\"},\"id\":\"1570d7ec-5bf8-4f8f-9d3e-93c24aff3bd4\",\"type\":\"BoxAnnotation\"},{\"attributes\":{\"source\":{\"id\":\"b426abae-4e3d-438a-bf38-eb9e1bde5ea2\",\"type\":\"ColumnDataSource\"}},\"id\":\"1413fe41-d92d-499c-8d63-c10803090092\",\"type\":\"CDSView\"},{\"attributes\":{\"num_minor_ticks\":10},\"id\":\"ee46a10c-73ef-4e35-918a-c753eec0c712\",\"type\":\"LogTicker\"},{\"attributes\":{},\"id\":\"415c9f37-6833-4065-8227-4fd009d4f6d2\",\"type\":\"LogScale\"},{\"attributes\":{\"ticker\":null},\"id\":\"e5e88760-de6a-4b42-83a1-2dabcd0432fb\",\"type\":\"LogTickFormatter\"},{\"attributes\":{\"label\":{\"value\":\"CLIRAD (single-run)\"},\"renderers\":[{\"id\":\"2d7ffc48-d54e-418c-b26a-058a98b9719b\",\"type\":\"GlyphRenderer\"}]},\"id\":\"b1f8f428-663f-4f85-8c1e-da89aa728797\",\"type\":\"LegendItem\"},{\"attributes\":{\"fill_alpha\":{\"value\":0.1},\"fill_color\":{\"value\":\"#1f77b4\"},\"line_alpha\":{\"value\":0.1},\"line_color\":{\"value\":\"#1f77b4\"},\"x\":{\"field\":\"x\"},\"y\":{\"field\":\"y\"}},\"id\":\"84285318-19f5-4ce9-9643-b8d515abd934\",\"type\":\"Circle\"},{\"attributes\":{\"items\":[{\"id\":\"b1f8f428-663f-4f85-8c1e-da89aa728797\",\"type\":\"LegendItem\"},{\"id\":\"ea68b1be-b212-4a0a-a33c-dbded89cf471\",\"type\":\"LegendItem\"}],\"label_text_font_size\":{\"value\":\"8pt\"},\"location\":\"top_center\",\"orientation\":\"horizontal\",\"plot\":{\"id\":\"23d22f81-8327-4866-8b4e-35beac084909\",\"subtype\":\"Figure\",\"type\":\"Plot\"}},\"id\":\"1968a17c-b031-4708-8650-cf035d59ab22\",\"type\":\"Legend\"},{\"attributes\":{\"axis_label\":\"cooling rate [K/day]\",\"formatter\":{\"id\":\"935fb5ae-11ae-4e3c-a761-5c7f3b71be49\",\"type\":\"BasicTickFormatter\"},\"plot\":{\"id\":\"6441f124-ca5b-4ff2-bb1a-97173596d62a\",\"subtype\":\"Figure\",\"type\":\"Plot\"},\"ticker\":{\"id\":\"7d6b301b-fde1-43af-88cc-5e185fb17fb1\",\"type\":\"BasicTicker\"}},\"id\":\"407520b6-8acb-41e3-af3d-88bc22681a85\",\"type\":\"LinearAxis\"},{\"attributes\":{\"fill_alpha\":{\"value\":0.1},\"fill_color\":{\"value\":\"#1f77b4\"},\"line_alpha\":{\"value\":0.1},\"line_color\":{\"value\":\"#1f77b4\"},\"x\":{\"field\":\"x\"},\"y\":{\"field\":\"y\"}},\"id\":\"e698cdac-2d2e-4906-810e-de52c5716760\",\"type\":\"Circle\"},{\"attributes\":{\"callback\":null,\"data\":{\"x\":{\"__ndarray__\":\"ZzdTqPT7Q8AbqIxD+n8gwOY3MbngowLAcWW2oUxB/D+QlW1ZLkAOQFcdT9bi4A5AqW7RqCdnBED94FDJJSHnP1XE+k4+vee/A+9ujyT69L+V7KdBUArxvz760eNXzt2/0LKTbOtvuj9EWzgdeZPeP3O7BL/n3eE/mPcmbdZD2D9bBRVM/dK5P6wfbeDE1c2/3LasBRpA379A1N7+nZrev/rQ0B1oJ82/+Poz6PeMeL/Y/M1A3fC1P6Bzhq54jbK/doeEzsbLx7+pMaEhwFO8P34s1nAJHuI/xOEqWhxL4z+edCVWPGnZPzVxNE2TNdg/GLSi+7Ac5T/o3tQ7T5HoPz3QkldX1+M/6J43Po3q2z9drmKQydHYP+NcZ3Nt99I/TvlpFUgMvD/IHBBOpF2gP2/XYKvR8qc/zoZORaJdrT9AqOeEoOiuP4bjd336l7I/zguEb6J0tj/dFl3CrsDCP8XJONEDbck/HTllfalpI0ASnmUOJe8aQGC9V90Qh/C/zE2kUKfDGkDdfsTgthLzv5yHQXHNgiVAskJ6EIuKMcDCx+vg+7YDwPhwoDuVrgHAwFaHcEw+AMCNioBkgyH+v/Iy839vHPy/VHsKIaQ1+r/KwPkENED4v5+LrcEuO/a/iaDFrd0x9L9AjAP0aizyvyridJKtPvC/s2ymdS0H7r+77fAGef7pv4XugZAh0+O/ueqFdFRlKEBtPi4g5hHUP5pihQVql/K/MX4qRzlKB8Dns4M8rvv0vz4SYYkoYvK/PnODiwyw8L8mPXpuogjvvyiELBDfp+2/\",\"dtype\":\"float64\",\"shape\":[75]},\"y\":{\"__ndarray__\":\"GhExyth1ND/Sv8nbtpRIP2vylNV0PVE/aTum7souWD/At0SJ8fVgPw3Iuahxymc/MSNhhJWvcD/bTfBN02d3P2zb5nxnaoA/CD5h5MAGhz8NmeH1TyaQP+zrCsc9p5Y/LbKd76fGnz/bLW5ISEmmPww9YvTcQq8/JV2OstnstT8Er5Y7M8G+P0c+r3jqkcU/5h99k6ZBzj88bCIzFzjVP4enV8oyxN0//yH99nXg5D8qOpLLf0jtP5kqGJXUifQ/c9cS8kHP/D+/DpwzojQEQIEmwoanVwxA4lgXt9HgE0BSSZ2AJuIbQAMJih9jjiNA5q4l5INuK0AwTKYKRj0zQNv5fmq8/DpAaCJseHrtQkB/+zpwzoxKQM3MzMzMeFJAZmZmZmZqWEAAAAAAAFxeQM3MzMzMJmJAmpmZmZkfZUBmZmZmZhhoQDMzMzMzEWtAAAAAAAAKbkBmZmZmZoFwQM3MzMzM/XFAMzMzMzN6c0CamZmZmfZ0QAAAAAAAc3ZAZmZmZmbvd0DNzMzMzGt5QDMzMzMz6HpAmpmZmZlkfEAAAAAAAOF9QGZmZmZmXX9AZmZmZuZsgECamZmZGSuBQM3MzMxM6YFAAAAAAICngkAzMzMzs2WDQGZmZmbmI4RAmpmZmRnihEDNzMzMTKCFQAAAAACAXoZAMzMzM7Mch0BmZmZm5tqHQJqZmZkZmYhAzczMzExXiUAAAAAAgBWKQDMzMzOz04pAZmZmZuaRi0CamZmZGVCMQM3MzMxMDo1AAAAAAIDMjUAzMzMzs4qOQGZmZmbmSI9A\",\"dtype\":\"float64\",\"shape\":[75]}},\"selected\":{\"id\":\"6417ceec-1d0c-4fd9-a405-ad4bc3d1e39a\",\"type\":\"Selection\"},\"selection_policy\":{\"id\":\"dd02d6e6-9df6-462f-bfea-efd22c5408cd\",\"type\":\"UnionRenderers\"}},\"id\":\"c4727d51-1fe3-4000-acf1-aed06641b4bb\",\"type\":\"ColumnDataSource\"},{\"attributes\":{},\"id\":\"d1ca3a15-d5c0-4dc4-9eac-fecb46ad8914\",\"type\":\"UnionRenderers\"},{\"attributes\":{\"line_alpha\":0.6,\"line_color\":\"#377eb8\",\"line_dash\":[6],\"line_width\":5,\"x\":{\"field\":\"x\"},\"y\":{\"field\":\"y\"}},\"id\":\"c29ec836-3241-4dba-8b34-85981ac863ba\",\"type\":\"Line\"},{\"attributes\":{\"dimension\":1,\"plot\":{\"id\":\"6441f124-ca5b-4ff2-bb1a-97173596d62a\",\"subtype\":\"Figure\",\"type\":\"Plot\"},\"ticker\":{\"id\":\"ee46a10c-73ef-4e35-918a-c753eec0c712\",\"type\":\"LogTicker\"}},\"id\":\"b08f3982-a163-45f5-a1c4-07c9e6487341\",\"type\":\"Grid\"},{\"attributes\":{\"data_source\":{\"id\":\"e74d5356-c373-4906-8a8d-ee8558bdbde1\",\"type\":\"ColumnDataSource\"},\"glyph\":{\"id\":\"6762a2df-51fa-4970-a6d1-972332cdd530\",\"type\":\"Line\"},\"hover_glyph\":null,\"muted_glyph\":null,\"nonselection_glyph\":{\"id\":\"c52c64b6-518d-4258-9198-621e70079de0\",\"type\":\"Line\"},\"selection_glyph\":null,\"view\":{\"id\":\"eca11e19-bbeb-4ec9-80ad-bf95ec11d3a3\",\"type\":\"CDSView\"}},\"id\":\"8a740af9-a070-48b0-80da-61694635a427\",\"type\":\"GlyphRenderer\"},{\"attributes\":{\"data_source\":{\"id\":\"1369269f-a73a-420b-9c4b-f9ae1b27e458\",\"type\":\"ColumnDataSource\"},\"glyph\":{\"id\":\"6ef5f643-2921-4add-9217-2e268f340861\",\"type\":\"Circle\"},\"hover_glyph\":null,\"muted_glyph\":null,\"nonselection_glyph\":{\"id\":\"e698cdac-2d2e-4906-810e-de52c5716760\",\"type\":\"Circle\"},\"selection_glyph\":null,\"view\":{\"id\":\"19cf72c3-367d-4221-8d7b-08563753bbdf\",\"type\":\"CDSView\"}},\"id\":\"9ad6fa64-b181-42c3-805d-a476686fc733\",\"type\":\"GlyphRenderer\"},{\"attributes\":{},\"id\":\"6508b142-2bd4-4f1c-8399-12b7dec6198f\",\"type\":\"HelpTool\"},{\"attributes\":{},\"id\":\"fd4af2da-097e-4889-8ab6-ace92977f018\",\"type\":\"PanTool\"},{\"attributes\":{},\"id\":\"04c48430-8aa0-4368-9255-8316aee7974f\",\"type\":\"LinearScale\"},{\"attributes\":{\"label\":{\"value\":\"CLIRAD (single-run)\"},\"renderers\":[{\"id\":\"ca8e4d7a-6858-49ea-a208-22fc1a7de72b\",\"type\":\"GlyphRenderer\"}]},\"id\":\"f9d43f15-34fd-4978-bfcd-4e8f6b4a7f40\",\"type\":\"LegendItem\"},{\"attributes\":{\"callback\":null,\"end\":0.7885260568903912,\"start\":-1.3318581028536913},\"id\":\"e22fcb1a-d5c6-4800-ab97-da4e3e7a1c12\",\"type\":\"Range1d\"},{\"attributes\":{\"axis_label\":\"cooling rate [K/day]\",\"formatter\":{\"id\":\"1ec6fd4e-d31c-4071-8a08-ba93715cb837\",\"type\":\"BasicTickFormatter\"},\"plot\":{\"id\":\"da954310-f103-4b31-8490-9e729aa1f2f9\",\"subtype\":\"Figure\",\"type\":\"Plot\"},\"ticker\":{\"id\":\"3d4fb441-2fee-4bda-be4c-33e34582d0a8\",\"type\":\"BasicTicker\"}},\"id\":\"7e23df30-002a-44ae-84f7-91e0c3d540e5\",\"type\":\"LinearAxis\"},{\"attributes\":{\"above\":[{\"id\":\"4f29fdaf-07bc-400d-a8b7-dbfc123193d9\",\"type\":\"Legend\"}],\"below\":[{\"id\":\"7e23df30-002a-44ae-84f7-91e0c3d540e5\",\"type\":\"LinearAxis\"}],\"left\":[{\"id\":\"c2f4a5c0-29b0-47cc-b3d1-2b5dd607d7e3\",\"type\":\"LogAxis\"}],\"plot_width\":300,\"renderers\":[{\"id\":\"7e23df30-002a-44ae-84f7-91e0c3d540e5\",\"type\":\"LinearAxis\"},{\"id\":\"6018b3a6-f182-41d5-affe-cffa96ee6ae8\",\"type\":\"Grid\"},{\"id\":\"c2f4a5c0-29b0-47cc-b3d1-2b5dd607d7e3\",\"type\":\"LogAxis\"},{\"id\":\"350d0d7e-f845-461b-b6a3-93e7052f1f96\",\"type\":\"Grid\"},{\"id\":\"1570d7ec-5bf8-4f8f-9d3e-93c24aff3bd4\",\"type\":\"BoxAnnotation\"},{\"id\":\"ca8e4d7a-6858-49ea-a208-22fc1a7de72b\",\"type\":\"GlyphRenderer\"},{\"id\":\"9ad6fa64-b181-42c3-805d-a476686fc733\",\"type\":\"GlyphRenderer\"},{\"id\":\"cabf3cc4-65f3-4a1f-a232-28e74ca83cce\",\"type\":\"GlyphRenderer\"},{\"id\":\"4f29fdaf-07bc-400d-a8b7-dbfc123193d9\",\"type\":\"Legend\"}],\"title\":{\"id\":\"b96e64ad-9566-4729-864d-ebb4fd982965\",\"type\":\"Title\"},\"toolbar\":{\"id\":\"af9f9688-1ffb-4963-984b-cdfe660b2c8c\",\"type\":\"Toolbar\"},\"toolbar_location\":null,\"x_range\":{\"id\":\"a0782570-eeb6-49a2-a41f-b4810715c2f6\",\"type\":\"Range1d\"},\"x_scale\":{\"id\":\"582f3fda-6806-49d7-a047-5be9dee0daee\",\"type\":\"LinearScale\"},\"y_range\":{\"id\":\"0850321a-e793-467b-982a-2cb5e153d154\",\"type\":\"Range1d\"},\"y_scale\":{\"id\":\"656e1d9e-b590-4d56-b5f0-cfc9e7d19b77\",\"type\":\"LogScale\"}},\"id\":\"da954310-f103-4b31-8490-9e729aa1f2f9\",\"subtype\":\"Figure\",\"type\":\"Plot\"},{\"attributes\":{\"line_alpha\":0.1,\"line_color\":\"#1f77b4\",\"line_width\":1.5,\"x\":{\"field\":\"x\"},\"y\":{\"field\":\"y\"}},\"id\":\"c52c64b6-518d-4258-9198-621e70079de0\",\"type\":\"Line\"},{\"attributes\":{},\"id\":\"582f3fda-6806-49d7-a047-5be9dee0daee\",\"type\":\"LinearScale\"},{\"attributes\":{\"callback\":null,\"data\":{\"x\":{\"__ndarray__\":\"R/KIaN7AVEClCeJMyPNGQOvRhpxr30JAptxzhxx4PkA7SssMElA4QK6Bp3CyUDNAsVXpjES9LkBFhUV0+5coQMHYwqbbySNA6f09nM3nH0CaSd/3eYoZQDmgiAOW8BNAPYqARh3eDEBkm4vCgvr+P9D+5tWhQfY/P8DwKRnSAkBq38kb17ILQDT7IWuSsxFAUr2Rjm0FFkAinq3s9XgbQGCHwtYcqSFAG64kT303J0C7dRDneyooQD9JYrbK8yRA9S3bneHhIUAIymSuUMMcQIkHLe6VEBdAAau3cITREkA6CiNvkQIPQJU39ki7IQlAaAvwok1UA0BXLQiS4+L7P0xzDpJ2hPI/NNuPGMbJ5z91mUVYxqfSPxqwUPSxZca/G11peifD3L8QzNj5t2jTvwzOozTL360/SPJ4VI1VzD9KJ0nXEIncP8yDdlvHt+4/Et49nYLW9z++2teD4Jn+P+568eH/bwFALf5D9lmAAkCiZAicVOkCQPPT4jNKxwJAOjp3wTzBAUBSQsKNGisBQG4OmjqJwQBAJ3sZoHFuAEA5Ar0Sdi0AQGy4rw5+9f8/7W4nSrC3/z8mPr8zj4T/P4UYRHCQS/8/embVKYcF/z+5YXG+LLP+P/qb8BVUgf4/KvafTtyO/j/avAK1Ppv+PwJV9VVm2P0/JFtYlU/n/D9sN+q2fiX6Pw44e41PNPc/Opt+Z/wN9T+x3vcSW1vzP9ofvWQJlvI/8sciQQBW8j80sfkQa17yPzg5qng2r/I/Oh14WJBh8z+VZjnpctj0P6CcrSuCqQBA\",\"dtype\":\"float64\",\"shape\":[75]},\"y\":{\"__ndarray__\":\"GhExyth1ND/Sv8nbtpRIP2vylNV0PVE/aTum7souWD/At0SJ8fVgPw3Iuahxymc/MSNhhJWvcD/bTfBN02d3P2zb5nxnaoA/CD5h5MAGhz8NmeH1TyaQP+zrCsc9p5Y/LbKd76fGnz/bLW5ISEmmPww9YvTcQq8/JV2OstnstT8Er5Y7M8G+P0c+r3jqkcU/5h99k6ZBzj88bCIzFzjVP4enV8oyxN0//yH99nXg5D8qOpLLf0jtP5kqGJXUifQ/c9cS8kHP/D+/DpwzojQEQIEmwoanVwxA4lgXt9HgE0BSSZ2AJuIbQAMJih9jjiNA5q4l5INuK0AwTKYKRj0zQNv5fmq8/DpAaCJseHrtQkB/+zpwzoxKQM3MzMzMeFJAZmZmZmZqWEAAAAAAAFxeQM3MzMzMJmJAmpmZmZkfZUBmZmZmZhhoQDMzMzMzEWtAAAAAAAAKbkBmZmZmZoFwQM3MzMzM/XFAMzMzMzN6c0CamZmZmfZ0QAAAAAAAc3ZAZmZmZmbvd0DNzMzMzGt5QDMzMzMz6HpAmpmZmZlkfEAAAAAAAOF9QGZmZmZmXX9AZmZmZuZsgECamZmZGSuBQM3MzMxM6YFAAAAAAICngkAzMzMzs2WDQGZmZmbmI4RAmpmZmRnihEDNzMzMTKCFQAAAAACAXoZAMzMzM7Mch0BmZmZm5tqHQJqZmZkZmYhAzczMzExXiUAAAAAAgBWKQDMzMzOz04pAZmZmZuaRi0CamZmZGVCMQM3MzMxMDo1AAAAAAIDMjUAzMzMzs4qOQGZmZmbmSI9A\",\"dtype\":\"float64\",\"shape\":[75]}},\"selected\":{\"id\":\"f9c3a772-5934-478e-aab4-b615a55a751a\",\"type\":\"Selection\"},\"selection_policy\":{\"id\":\"6efc576f-2651-48cc-a491-9793cd24fb9f\",\"type\":\"UnionRenderers\"}},\"id\":\"e74d5356-c373-4906-8a8d-ee8558bdbde1\",\"type\":\"ColumnDataSource\"},{\"attributes\":{\"active_drag\":\"auto\",\"active_inspect\":\"auto\",\"active_scroll\":\"auto\",\"active_tap\":\"auto\",\"tools\":[{\"id\":\"acf8c6fc-ad36-429e-8644-cff4f3bd16cc\",\"type\":\"PanTool\"},{\"id\":\"f6b35a18-118b-4e89-8168-35e40162eb16\",\"type\":\"WheelZoomTool\"},{\"id\":\"7e9332cf-066c-4893-b72f-d66ba5e28485\",\"type\":\"BoxZoomTool\"},{\"id\":\"8df20b27-0d77-46f6-870e-8a04e0d86421\",\"type\":\"SaveTool\"},{\"id\":\"e970da59-d6ef-4bf3-bc94-fb785386332c\",\"type\":\"ResetTool\"},{\"id\":\"6508b142-2bd4-4f1c-8399-12b7dec6198f\",\"type\":\"HelpTool\"}]},\"id\":\"af9f9688-1ffb-4963-984b-cdfe660b2c8c\",\"type\":\"Toolbar\"},{\"attributes\":{},\"id\":\"fb2e22e0-37dc-43bd-9400-9ba124e889b9\",\"type\":\"BasicTickFormatter\"},{\"attributes\":{\"axis_label\":\"pressure [mb]\",\"formatter\":{\"id\":\"e5e88760-de6a-4b42-83a1-2dabcd0432fb\",\"type\":\"LogTickFormatter\"},\"plot\":{\"id\":\"6441f124-ca5b-4ff2-bb1a-97173596d62a\",\"subtype\":\"Figure\",\"type\":\"Plot\"},\"ticker\":{\"id\":\"ee46a10c-73ef-4e35-918a-c753eec0c712\",\"type\":\"LogTicker\"}},\"id\":\"a8576955-072f-4479-aec5-02cbdbcb0384\",\"type\":\"LogAxis\"},{\"attributes\":{\"plot\":{\"id\":\"23d22f81-8327-4866-8b4e-35beac084909\",\"subtype\":\"Figure\",\"type\":\"Plot\"},\"ticker\":{\"id\":\"b08f5fee-85c3-4f34-a854-22bca4a464be\",\"type\":\"BasicTicker\"}},\"id\":\"260e3794-0c4b-4116-b323-0e147bb0a3d7\",\"type\":\"Grid\"},{\"attributes\":{},\"id\":\"656e1d9e-b590-4d56-b5f0-cfc9e7d19b77\",\"type\":\"LogScale\"},{\"attributes\":{},\"id\":\"3d4fb441-2fee-4bda-be4c-33e34582d0a8\",\"type\":\"BasicTicker\"},{\"attributes\":{\"plot\":{\"id\":\"6441f124-ca5b-4ff2-bb1a-97173596d62a\",\"subtype\":\"Figure\",\"type\":\"Plot\"},\"ticker\":{\"id\":\"7d6b301b-fde1-43af-88cc-5e185fb17fb1\",\"type\":\"BasicTicker\"}},\"id\":\"c256df57-fed6-41a0-a0c3-731535c4232d\",\"type\":\"Grid\"},{\"attributes\":{\"data_source\":{\"id\":\"b426abae-4e3d-438a-bf38-eb9e1bde5ea2\",\"type\":\"ColumnDataSource\"},\"glyph\":{\"id\":\"3fc3d023-b8a0-4f26-b3d1-9a1d1dc38f94\",\"type\":\"Circle\"},\"hover_glyph\":null,\"muted_glyph\":null,\"nonselection_glyph\":{\"id\":\"84285318-19f5-4ce9-9643-b8d515abd934\",\"type\":\"Circle\"},\"selection_glyph\":null,\"view\":{\"id\":\"1413fe41-d92d-499c-8d63-c10803090092\",\"type\":\"CDSView\"}},\"id\":\"b5442829-59f2-4807-8546-0c82e9a3e51f\",\"type\":\"GlyphRenderer\"},{\"attributes\":{\"items\":[{\"id\":\"b859d950-f834-4938-bbf2-4db58e4f5fc7\",\"type\":\"LegendItem\"}],\"label_text_font_size\":{\"value\":\"8pt\"},\"location\":\"top_center\",\"orientation\":\"horizontal\",\"plot\":{\"id\":\"6441f124-ca5b-4ff2-bb1a-97173596d62a\",\"subtype\":\"Figure\",\"type\":\"Plot\"}},\"id\":\"edc473fb-ff17-4943-9658-2a81303d370d\",\"type\":\"Legend\"},{\"attributes\":{\"dimension\":1,\"plot\":{\"id\":\"23d22f81-8327-4866-8b4e-35beac084909\",\"subtype\":\"Figure\",\"type\":\"Plot\"},\"ticker\":{\"id\":\"55449fb3-5b42-4eaf-976c-45aff9d42ae0\",\"type\":\"BasicTicker\"}},\"id\":\"a95e59bf-d61f-41cd-95fe-bac7556a39b2\",\"type\":\"Grid\"},{\"attributes\":{},\"id\":\"08b221de-b01d-4d00-8a38-6d3be97500fb\",\"type\":\"LinearScale\"},{\"attributes\":{},\"id\":\"7d6b301b-fde1-43af-88cc-5e185fb17fb1\",\"type\":\"BasicTicker\"},{\"attributes\":{\"fill_alpha\":{\"value\":0.7},\"fill_color\":{\"value\":\"#4daf4a\"},\"line_alpha\":{\"value\":0.7},\"line_color\":{\"value\":\"#4daf4a\"},\"x\":{\"field\":\"x\"},\"y\":{\"field\":\"y\"}},\"id\":\"3fc3d023-b8a0-4f26-b3d1-9a1d1dc38f94\",\"type\":\"Circle\"},{\"attributes\":{\"source\":{\"id\":\"e74d5356-c373-4906-8a8d-ee8558bdbde1\",\"type\":\"ColumnDataSource\"}},\"id\":\"eca11e19-bbeb-4ec9-80ad-bf95ec11d3a3\",\"type\":\"CDSView\"},{\"attributes\":{\"plot\":{\"id\":\"da954310-f103-4b31-8490-9e729aa1f2f9\",\"subtype\":\"Figure\",\"type\":\"Plot\"},\"ticker\":{\"id\":\"3d4fb441-2fee-4bda-be4c-33e34582d0a8\",\"type\":\"BasicTicker\"}},\"id\":\"6018b3a6-f182-41d5-affe-cffa96ee6ae8\",\"type\":\"Grid\"},{\"attributes\":{\"line_color\":\"#4daf4a\",\"line_width\":1.5,\"x\":{\"field\":\"x\"},\"y\":{\"field\":\"y\"}},\"id\":\"6762a2df-51fa-4970-a6d1-972332cdd530\",\"type\":\"Line\"},{\"attributes\":{\"active_drag\":\"auto\",\"active_inspect\":\"auto\",\"active_scroll\":\"auto\",\"active_tap\":\"auto\",\"tools\":[{\"id\":\"fd4af2da-097e-4889-8ab6-ace92977f018\",\"type\":\"PanTool\"},{\"id\":\"62990fb9-2e9d-4bf2-ab8b-5a91c6c1a39f\",\"type\":\"WheelZoomTool\"},{\"id\":\"eed96d45-d132-4165-ba95-f2e98507a229\",\"type\":\"BoxZoomTool\"},{\"id\":\"cbdc7482-57dd-432d-bd28-0993b08d094f\",\"type\":\"SaveTool\"},{\"id\":\"ae862795-278a-453f-a24e-9333fb467e3d\",\"type\":\"ResetTool\"},{\"id\":\"574a9954-a6bf-4219-8afe-51d46d537d8c\",\"type\":\"HelpTool\"}]},\"id\":\"d05db7e6-a120-4e6e-9bba-d79f12d65222\",\"type\":\"Toolbar\"},{\"attributes\":{\"active_drag\":\"auto\",\"active_inspect\":\"auto\",\"active_scroll\":\"auto\",\"active_tap\":\"auto\",\"tools\":[{\"id\":\"84e07572-da9a-44e1-9baa-9173c2e0c3fb\",\"type\":\"PanTool\"},{\"id\":\"39c63206-0676-4cb1-a650-c9c497597b95\",\"type\":\"WheelZoomTool\"},{\"id\":\"5795bd50-ca45-49a0-8005-b3b20feabb0c\",\"type\":\"BoxZoomTool\"},{\"id\":\"7cecf7cf-b0de-4b45-a17b-5acf4b1af0b3\",\"type\":\"SaveTool\"},{\"id\":\"426c596b-c829-4de7-970d-8241096758c3\",\"type\":\"ResetTool\"},{\"id\":\"ddeb01a7-66a7-4009-b424-799c86b1b205\",\"type\":\"HelpTool\"}]},\"id\":\"24a38dd2-a29e-421e-8a29-a7a481f85f8c\",\"type\":\"Toolbar\"},{\"attributes\":{\"callback\":null,\"end\":12.294864042536679,\"start\":-0.5755922114646799},\"id\":\"a0782570-eeb6-49a2-a41f-b4810715c2f6\",\"type\":\"Range1d\"},{\"attributes\":{\"source\":{\"id\":\"18194b52-10a9-4e58-a231-10a6508a432c\",\"type\":\"ColumnDataSource\"}},\"id\":\"c48ae818-ab20-42b0-a81c-709899b0cffb\",\"type\":\"CDSView\"},{\"attributes\":{\"callback\":null,\"end\":0.01,\"start\":1020},\"id\":\"082dee61-4015-47e4-be0e-f4f015d63c04\",\"type\":\"Range1d\"},{\"attributes\":{\"callback\":null,\"data\":{\"x\":{\"__ndarray__\":\"R/KIaN7AVEClCeJMyPNGQOvRhpxr30JAptxzhxx4PkA7SssMElA4QK6Bp3CyUDNAsVXpjES9LkBFhUV0+5coQMHYwqbbySNA6f09nM3nH0CaSd/3eYoZQDmgiAOW8BNAPYqARh3eDEBkm4vCgvr+P9D+5tWhQfY/P8DwKRnSAkBq38kb17ILQDT7IWuSsxFAUr2Rjm0FFkAinq3s9XgbQGCHwtYcqSFAG64kT303J0C7dRDneyooQD9JYrbK8yRA9S3bneHhIUAIymSuUMMcQIkHLe6VEBdAAau3cITREkA6CiNvkQIPQJU39ki7IQlAaAvwok1UA0BXLQiS4+L7P0xzDpJ2hPI/NNuPGMbJ5z91mUVYxqfSPxqwUPSxZca/G11peifD3L8QzNj5t2jTvwzOozTL360/SPJ4VI1VzD9KJ0nXEIncP8yDdlvHt+4/Et49nYLW9z++2teD4Jn+P+568eH/bwFALf5D9lmAAkCiZAicVOkCQPPT4jNKxwJAOjp3wTzBAUBSQsKNGisBQG4OmjqJwQBAJ3sZoHFuAEA5Ar0Sdi0AQGy4rw5+9f8/7W4nSrC3/z8mPr8zj4T/P4UYRHCQS/8/embVKYcF/z+5YXG+LLP+P/qb8BVUgf4/KvafTtyO/j/avAK1Ppv+PwJV9VVm2P0/JFtYlU/n/D9sN+q2fiX6Pw44e41PNPc/Opt+Z/wN9T+x3vcSW1vzP9ofvWQJlvI/8sciQQBW8j80sfkQa17yPzg5qng2r/I/Oh14WJBh8z+VZjnpctj0P6CcrSuCqQBA\",\"dtype\":\"float64\",\"shape\":[75]},\"y\":{\"__ndarray__\":\"GhExyth1ND/Sv8nbtpRIP2vylNV0PVE/aTum7souWD/At0SJ8fVgPw3Iuahxymc/MSNhhJWvcD/bTfBN02d3P2zb5nxnaoA/CD5h5MAGhz8NmeH1TyaQP+zrCsc9p5Y/LbKd76fGnz/bLW5ISEmmPww9YvTcQq8/JV2OstnstT8Er5Y7M8G+P0c+r3jqkcU/5h99k6ZBzj88bCIzFzjVP4enV8oyxN0//yH99nXg5D8qOpLLf0jtP5kqGJXUifQ/c9cS8kHP/D+/DpwzojQEQIEmwoanVwxA4lgXt9HgE0BSSZ2AJuIbQAMJih9jjiNA5q4l5INuK0AwTKYKRj0zQNv5fmq8/DpAaCJseHrtQkB/+zpwzoxKQM3MzMzMeFJAZmZmZmZqWEAAAAAAAFxeQM3MzMzMJmJAmpmZmZkfZUBmZmZmZhhoQDMzMzMzEWtAAAAAAAAKbkBmZmZmZoFwQM3MzMzM/XFAMzMzMzN6c0CamZmZmfZ0QAAAAAAAc3ZAZmZmZmbvd0DNzMzMzGt5QDMzMzMz6HpAmpmZmZlkfEAAAAAAAOF9QGZmZmZmXX9AZmZmZuZsgECamZmZGSuBQM3MzMxM6YFAAAAAAICngkAzMzMzs2WDQGZmZmbmI4RAmpmZmRnihEDNzMzMTKCFQAAAAACAXoZAMzMzM7Mch0BmZmZm5tqHQJqZmZkZmYhAzczMzExXiUAAAAAAgBWKQDMzMzOz04pAZmZmZuaRi0CamZmZGVCMQM3MzMxMDo1AAAAAAIDMjUAzMzMzs4qOQGZmZmbmSI9A\",\"dtype\":\"float64\",\"shape\":[75]}},\"selected\":{\"id\":\"fda8fab9-4aee-497f-b5e2-709156fe78b0\",\"type\":\"Selection\"},\"selection_policy\":{\"id\":\"63c33d6c-b411-4b9c-93be-931b2338339d\",\"type\":\"UnionRenderers\"}},\"id\":\"b426abae-4e3d-438a-bf38-eb9e1bde5ea2\",\"type\":\"ColumnDataSource\"},{\"attributes\":{\"toolbar\":{\"id\":\"b6ea3a40-1594-48f8-8dc6-ae60836b5170\",\"type\":\"ProxyToolbar\"},\"toolbar_location\":\"above\"},\"id\":\"3f4b5516-e65c-46bf-b077-540993e22c1b\",\"type\":\"ToolbarBox\"},{\"attributes\":{},\"id\":\"7cecf7cf-b0de-4b45-a17b-5acf4b1af0b3\",\"type\":\"SaveTool\"},{\"attributes\":{},\"id\":\"426c596b-c829-4de7-970d-8241096758c3\",\"type\":\"ResetTool\"},{\"attributes\":{\"tools\":[{\"id\":\"84e07572-da9a-44e1-9baa-9173c2e0c3fb\",\"type\":\"PanTool\"},{\"id\":\"39c63206-0676-4cb1-a650-c9c497597b95\",\"type\":\"WheelZoomTool\"},{\"id\":\"5795bd50-ca45-49a0-8005-b3b20feabb0c\",\"type\":\"BoxZoomTool\"},{\"id\":\"7cecf7cf-b0de-4b45-a17b-5acf4b1af0b3\",\"type\":\"SaveTool\"},{\"id\":\"426c596b-c829-4de7-970d-8241096758c3\",\"type\":\"ResetTool\"},{\"id\":\"ddeb01a7-66a7-4009-b424-799c86b1b205\",\"type\":\"HelpTool\"},{\"id\":\"acf8c6fc-ad36-429e-8644-cff4f3bd16cc\",\"type\":\"PanTool\"},{\"id\":\"f6b35a18-118b-4e89-8168-35e40162eb16\",\"type\":\"WheelZoomTool\"},{\"id\":\"7e9332cf-066c-4893-b72f-d66ba5e28485\",\"type\":\"BoxZoomTool\"},{\"id\":\"8df20b27-0d77-46f6-870e-8a04e0d86421\",\"type\":\"SaveTool\"},{\"id\":\"e970da59-d6ef-4bf3-bc94-fb785386332c\",\"type\":\"ResetTool\"},{\"id\":\"6508b142-2bd4-4f1c-8399-12b7dec6198f\",\"type\":\"HelpTool\"},{\"id\":\"fd4af2da-097e-4889-8ab6-ace92977f018\",\"type\":\"PanTool\"},{\"id\":\"62990fb9-2e9d-4bf2-ab8b-5a91c6c1a39f\",\"type\":\"WheelZoomTool\"},{\"id\":\"eed96d45-d132-4165-ba95-f2e98507a229\",\"type\":\"BoxZoomTool\"},{\"id\":\"cbdc7482-57dd-432d-bd28-0993b08d094f\",\"type\":\"SaveTool\"},{\"id\":\"ae862795-278a-453f-a24e-9333fb467e3d\",\"type\":\"ResetTool\"},{\"id\":\"574a9954-a6bf-4219-8afe-51d46d537d8c\",\"type\":\"HelpTool\"}]},\"id\":\"b6ea3a40-1594-48f8-8dc6-ae60836b5170\",\"type\":\"ProxyToolbar\"},{\"attributes\":{\"bottom_units\":\"screen\",\"fill_alpha\":{\"value\":0.5},\"fill_color\":{\"value\":\"lightgrey\"},\"left_units\":\"screen\",\"level\":\"overlay\",\"line_alpha\":{\"value\":1.0},\"line_color\":{\"value\":\"black\"},\"line_dash\":[4,4],\"line_width\":{\"value\":2},\"plot\":null,\"render_mode\":\"css\",\"right_units\":\"screen\",\"top_units\":\"screen\"},\"id\":\"53f78ac4-f1b5-4d5c-9833-b5d60816f183\",\"type\":\"BoxAnnotation\"},{\"attributes\":{\"overlay\":{\"id\":\"dd3ca1e8-a345-4620-aabd-5b6b81af12e1\",\"type\":\"BoxAnnotation\"}},\"id\":\"5795bd50-ca45-49a0-8005-b3b20feabb0c\",\"type\":\"BoxZoomTool\"},{\"attributes\":{},\"id\":\"0ea0561a-b5ad-4f9d-bfdc-de70bb5df015\",\"type\":\"Selection\"},{\"attributes\":{\"line_alpha\":0.1,\"line_color\":\"#1f77b4\",\"line_dash\":[6],\"line_width\":5,\"x\":{\"field\":\"x\"},\"y\":{\"field\":\"y\"}},\"id\":\"5814e220-0b73-46a1-9987-24cb28002377\",\"type\":\"Line\"},{\"attributes\":{\"bottom_units\":\"screen\",\"fill_alpha\":{\"value\":0.5},\"fill_color\":{\"value\":\"lightgrey\"},\"left_units\":\"screen\",\"level\":\"overlay\",\"line_alpha\":{\"value\":1.0},\"line_color\":{\"value\":\"black\"},\"line_dash\":[4,4],\"line_width\":{\"value\":2},\"plot\":null,\"render_mode\":\"css\",\"right_units\":\"screen\",\"top_units\":\"screen\"},\"id\":\"dd3ca1e8-a345-4620-aabd-5b6b81af12e1\",\"type\":\"BoxAnnotation\"},{\"attributes\":{},\"id\":\"574a9954-a6bf-4219-8afe-51d46d537d8c\",\"type\":\"HelpTool\"},{\"attributes\":{},\"id\":\"ddeb01a7-66a7-4009-b424-799c86b1b205\",\"type\":\"HelpTool\"},{\"attributes\":{},\"id\":\"cbdc7482-57dd-432d-bd28-0993b08d094f\",\"type\":\"SaveTool\"},{\"attributes\":{},\"id\":\"935fb5ae-11ae-4e3c-a761-5c7f3b71be49\",\"type\":\"BasicTickFormatter\"},{\"attributes\":{\"overlay\":{\"id\":\"53f78ac4-f1b5-4d5c-9833-b5d60816f183\",\"type\":\"BoxAnnotation\"}},\"id\":\"eed96d45-d132-4165-ba95-f2e98507a229\",\"type\":\"BoxZoomTool\"},{\"attributes\":{\"label\":{\"value\":\"CRD\"},\"renderers\":[{\"id\":\"b5442829-59f2-4807-8546-0c82e9a3e51f\",\"type\":\"GlyphRenderer\"},{\"id\":\"8a740af9-a070-48b0-80da-61694635a427\",\"type\":\"GlyphRenderer\"}]},\"id\":\"ea68b1be-b212-4a0a-a33c-dbded89cf471\",\"type\":\"LegendItem\"},{\"attributes\":{},\"id\":\"62990fb9-2e9d-4bf2-ab8b-5a91c6c1a39f\",\"type\":\"WheelZoomTool\"},{\"attributes\":{},\"id\":\"ae862795-278a-453f-a24e-9333fb467e3d\",\"type\":\"ResetTool\"},{\"attributes\":{\"dimension\":1,\"plot\":{\"id\":\"da954310-f103-4b31-8490-9e729aa1f2f9\",\"subtype\":\"Figure\",\"type\":\"Plot\"},\"ticker\":{\"id\":\"67081337-80b9-473c-9b2f-aaaed347f173\",\"type\":\"LogTicker\"}},\"id\":\"350d0d7e-f845-461b-b6a3-93e7052f1f96\",\"type\":\"Grid\"},{\"attributes\":{},\"id\":\"b46d5ef2-4c91-4987-a22f-e3848450f901\",\"type\":\"Selection\"},{\"attributes\":{\"callback\":null,\"data\":{\"x\":{\"__ndarray__\":\"Ka2+KMiFRUCe3/67ydNCQG2+85AttUFAgKHHqBgeQEDv/PjXFxg8QFdlccvOLDdAr9iOO4frMUBTk9rQDQoqQHss08EHTiJAKUJieESpGkB0TnXn5UcVQJaAS4WwExJA1CfloZyxDUAa2eyEsE8DQIpcabWVMP8/Mp+V95PaBUCThyoGb4EMQDiSHkTkxBBA5PE27msRFEDesL8MTI8ZQBxESzZ/NCFAm6cnsGs0J0C0EZKhXVYoQFo8BcWvziRA1xuhgrKCIUDOTuuunzQdQBjNRxxXVBlAOwf9++c6FUBl3PN83BcRQLrFnLJtKAxAcLjY4XmbCEBkTvmXxRUEQGrb1z0icPw/VdXVW4bf8j/pI1T0x7zlP1wT/ORREr8/yN4OdRXA1b94yBZwA13Rv8FSAnBO6bo//Unm8nrW0T8pDvNzEjPgPx7AklVjhfA/zx42xMw9+T/NvhEu+3gAQIkHBR/QBgNAqTj2+r8JKEAy6DSu5zEiQIbqbYqDB/U/dfWv2CLSIUCIC4B1/IbuPzYL6L8vsylAmCbuuHn5LsBCLHZxLkzcvw1MiURjPcu/KdLn3BKdqL+VOevzvDC2P6Ush4IHeck/lawrI4w/0z++g97l4svZP7UghqhKjOA/Q6u0Qf255D8zYf6Bp93oP63lAIdxM+s/lUkKtXHH6z8egeNmhEzqP5WBdIp9leo/Ib51ARQHK0BNbgOb1F/4PwD5K4QMCja/cTQyTXI+/L+gFVBcGerEv4S+SdJ7Q5M/40+lZx6MxT8HIPHHhlDVPyv3RM8Uf/I/\",\"dtype\":\"float64\",\"shape\":[75]},\"y\":{\"__ndarray__\":\"GhExyth1ND/Sv8nbtpRIP2vylNV0PVE/aTum7souWD/At0SJ8fVgPw3Iuahxymc/MSNhhJWvcD/bTfBN02d3P2zb5nxnaoA/CD5h5MAGhz8NmeH1TyaQP+zrCsc9p5Y/LbKd76fGnz/bLW5ISEmmPww9YvTcQq8/JV2OstnstT8Er5Y7M8G+P0c+r3jqkcU/5h99k6ZBzj88bCIzFzjVP4enV8oyxN0//yH99nXg5D8qOpLLf0jtP5kqGJXUifQ/c9cS8kHP/D+/DpwzojQEQIEmwoanVwxA4lgXt9HgE0BSSZ2AJuIbQAMJih9jjiNA5q4l5INuK0AwTKYKRj0zQNv5fmq8/DpAaCJseHrtQkB/+zpwzoxKQM3MzMzMeFJAZmZmZmZqWEAAAAAAAFxeQM3MzMzMJmJAmpmZmZkfZUBmZmZmZhhoQDMzMzMzEWtAAAAAAAAKbkBmZmZmZoFwQM3MzMzM/XFAMzMzMzN6c0CamZmZmfZ0QAAAAAAAc3ZAZmZmZmbvd0DNzMzMzGt5QDMzMzMz6HpAmpmZmZlkfEAAAAAAAOF9QGZmZmZmXX9AZmZmZuZsgECamZmZGSuBQM3MzMxM6YFAAAAAAICngkAzMzMzs2WDQGZmZmbmI4RAmpmZmRnihEDNzMzMTKCFQAAAAACAXoZAMzMzM7Mch0BmZmZm5tqHQJqZmZkZmYhAzczMzExXiUAAAAAAgBWKQDMzMzOz04pAZmZmZuaRi0CamZmZGVCMQM3MzMxMDo1AAAAAAIDMjUAzMzMzs4qOQGZmZmbmSI9A\",\"dtype\":\"float64\",\"shape\":[75]}},\"selected\":{\"id\":\"101cfcf4-0e03-4ed3-8135-b42fe2511771\",\"type\":\"Selection\"},\"selection_policy\":{\"id\":\"d1ca3a15-d5c0-4dc4-9eac-fecb46ad8914\",\"type\":\"UnionRenderers\"}},\"id\":\"83a6a306-b4f6-4887-87bf-b412116329ae\",\"type\":\"ColumnDataSource\"},{\"attributes\":{},\"id\":\"139ab552-7fd0-49d4-9d06-b825e4ef14c0\",\"type\":\"UnionRenderers\"},{\"attributes\":{\"data_source\":{\"id\":\"18194b52-10a9-4e58-a231-10a6508a432c\",\"type\":\"ColumnDataSource\"},\"glyph\":{\"id\":\"43a6c96a-7c19-442c-8b4a-bc021ac9b7eb\",\"type\":\"Line\"},\"hover_glyph\":null,\"muted_glyph\":null,\"nonselection_glyph\":{\"id\":\"cd0b0550-963b-4222-acb1-77e721785d23\",\"type\":\"Line\"},\"selection_glyph\":null,\"view\":{\"id\":\"c48ae818-ab20-42b0-a81c-709899b0cffb\",\"type\":\"CDSView\"}},\"id\":\"2d7ffc48-d54e-418c-b26a-058a98b9719b\",\"type\":\"GlyphRenderer\"},{\"attributes\":{\"source\":{\"id\":\"c380fb9e-530b-478b-b6af-795ea4e3f616\",\"type\":\"ColumnDataSource\"}},\"id\":\"d6dcf4b4-0597-49da-92ea-43f476475a63\",\"type\":\"CDSView\"},{\"attributes\":{\"line_alpha\":0.1,\"line_color\":\"#1f77b4\",\"line_dash\":[6],\"line_width\":5,\"x\":{\"field\":\"x\"},\"y\":{\"field\":\"y\"}},\"id\":\"cd0b0550-963b-4222-acb1-77e721785d23\",\"type\":\"Line\"},{\"attributes\":{\"axis_label\":\"cooling rate [K/day]\",\"formatter\":{\"id\":\"fb2e22e0-37dc-43bd-9400-9ba124e889b9\",\"type\":\"BasicTickFormatter\"},\"plot\":{\"id\":\"23d22f81-8327-4866-8b4e-35beac084909\",\"subtype\":\"Figure\",\"type\":\"Plot\"},\"ticker\":{\"id\":\"b08f5fee-85c3-4f34-a854-22bca4a464be\",\"type\":\"BasicTicker\"}},\"id\":\"7451838b-3e22-46fb-ab07-6e96baec9040\",\"type\":\"LinearAxis\"},{\"attributes\":{\"axis_label\":\"pressure [mb]\",\"formatter\":{\"id\":\"8c84a6ac-84e1-4ec9-8bba-64047fdfc3d5\",\"type\":\"LogTickFormatter\"},\"plot\":{\"id\":\"da954310-f103-4b31-8490-9e729aa1f2f9\",\"subtype\":\"Figure\",\"type\":\"Plot\"},\"ticker\":{\"id\":\"67081337-80b9-473c-9b2f-aaaed347f173\",\"type\":\"LogTicker\"}},\"id\":\"c2f4a5c0-29b0-47cc-b3d1-2b5dd607d7e3\",\"type\":\"LogAxis\"},{\"attributes\":{\"label\":{\"value\":\"CRD\"},\"renderers\":[{\"id\":\"9ad6fa64-b181-42c3-805d-a476686fc733\",\"type\":\"GlyphRenderer\"},{\"id\":\"cabf3cc4-65f3-4a1f-a232-28e74ca83cce\",\"type\":\"GlyphRenderer\"}]},\"id\":\"f6a1a4d3-3d0a-4bae-8831-0df9f71355c4\",\"type\":\"LegendItem\"}],\"root_ids\":[\"6204c678-8ab3-4ca8-870a-ebe7b893a9fa\"]},\"title\":\"Bokeh Application\",\"version\":\"0.12.16\"}};\n",
       "  var render_items = [{\"docid\":\"86c2fd6f-f5d0-4ba7-bb83-11722e174aea\",\"elementid\":\"a4da7631-823c-481e-9af5-de282b501764\",\"modelid\":\"6204c678-8ab3-4ca8-870a-ebe7b893a9fa\"}];\n",
       "  root.Bokeh.embed.embed_items_notebook(docs_json, render_items);\n",
       "\n",
       "  }\n",
       "  if (root.Bokeh !== undefined) {\n",
       "    embed_document(root);\n",
       "  } else {\n",
       "    var attempts = 0;\n",
       "    var timer = setInterval(function(root) {\n",
       "      if (root.Bokeh !== undefined) {\n",
       "        embed_document(root);\n",
       "        clearInterval(timer);\n",
       "      }\n",
       "      attempts++;\n",
       "      if (attempts > 100) {\n",
       "        console.log(\"Bokeh: ERROR: Unable to run BokehJS code because BokehJS library is missing\")\n",
       "        clearInterval(timer);\n",
       "      }\n",
       "    }, 10, root)\n",
       "  }\n",
       "})(window);"
      ],
      "application/vnd.bokehjs_exec.v0+json": ""
     },
     "metadata": {
      "application/vnd.bokehjs_exec.v0+json": {
       "id": "6204c678-8ab3-4ca8-870a-ebe7b893a9fa"
      }
     },
     "output_type": "display_data"
    },
    {
     "data": {
      "text/markdown": [
       "*FIGURE.* Cooling rates & difference."
      ],
      "text/plain": [
       "<IPython.core.display.Markdown object>"
      ]
     },
     "metadata": {},
     "output_type": "display_data"
    },
    {
     "data": {
      "text/html": [
       "<a id=\"Fluxes._trp.\"></a>"
      ],
      "text/plain": [
       "<IPython.core.display.HTML object>"
      ]
     },
     "metadata": {},
     "output_type": "display_data"
    },
    {
     "data": {
      "text/markdown": [
       "# Fluxes. trp."
      ],
      "text/plain": [
       "<IPython.core.display.Markdown object>"
      ]
     },
     "metadata": {},
     "output_type": "display_data"
    },
    {
     "data": {
      "text/html": [
       "\n",
       "<div class=\"bk-root\">\n",
       "    <div class=\"bk-plotdiv\" id=\"11b95e25-71a7-40dc-a88c-61b56c0af158\"></div>\n",
       "</div>"
      ]
     },
     "metadata": {},
     "output_type": "display_data"
    },
    {
     "data": {
      "application/javascript": [
       "(function(root) {\n",
       "  function embed_document(root) {\n",
       "    \n",
       "  var docs_json = {\"93ea2b6e-e5c0-402a-bf31-0f24c3249f51\":{\"roots\":{\"references\":[{\"attributes\":{\"source\":{\"id\":\"04010826-e7e9-4325-9bd3-c2976e01c982\",\"type\":\"ColumnDataSource\"}},\"id\":\"e61cede7-6bce-4e6b-b198-a1725fe8097d\",\"type\":\"CDSView\"},{\"attributes\":{\"active_drag\":\"auto\",\"active_inspect\":\"auto\",\"active_scroll\":\"auto\",\"active_tap\":\"auto\",\"tools\":[{\"id\":\"c92e5895-187b-4827-ab18-e2cf66198e98\",\"type\":\"PanTool\"},{\"id\":\"caa957f0-9921-4c05-bf4f-d9eb406e11d9\",\"type\":\"WheelZoomTool\"},{\"id\":\"1afc8ca3-14fb-4f63-b34a-a31221b5f654\",\"type\":\"BoxZoomTool\"},{\"id\":\"d6d58d7e-b797-45e8-b911-cdc8b6cb7f02\",\"type\":\"SaveTool\"},{\"id\":\"2dfaa9ca-f6c2-436f-a60a-b2c09aea51fc\",\"type\":\"ResetTool\"},{\"id\":\"7da36861-7d9d-4def-91c9-818da4c71f64\",\"type\":\"HelpTool\"}]},\"id\":\"705e5c83-a1b8-4b4e-9073-fdd87905aab0\",\"type\":\"Toolbar\"},{\"attributes\":{},\"id\":\"af99ffe8-b95b-4a44-ad93-9111d962bcd5\",\"type\":\"CategoricalTickFormatter\"},{\"attributes\":{\"children\":[{\"id\":\"5a6da6e2-668d-4394-aef3-0d9c471cbea8\",\"subtype\":\"Figure\",\"type\":\"Plot\"},{\"id\":\"d4dc7911-00f8-4c75-8285-06500bc5c716\",\"subtype\":\"Figure\",\"type\":\"Plot\"},{\"id\":\"27a6b767-89d1-4d9a-b33b-68d820bf9a64\",\"subtype\":\"Figure\",\"type\":\"Plot\"}]},\"id\":\"c183d211-7e8f-4ffc-b5b4-8cea3e53d73d\",\"type\":\"Row\"},{\"attributes\":{\"callback\":null,\"factors\":[\"1\",\"2\",\"3\",\"4\",\"5\",\"6\",\"7\",\"8\",\"9\",\"10\",\"11\"]},\"id\":\"4f8da681-7bfa-45d2-b975-b83d171a5656\",\"type\":\"FactorRange\"},{\"attributes\":{},\"id\":\"1010d0d1-4d33-46ca-9a1f-56dcc962f091\",\"type\":\"Selection\"},{\"attributes\":{\"children\":[{\"id\":\"c183d211-7e8f-4ffc-b5b4-8cea3e53d73d\",\"type\":\"Row\"}]},\"id\":\"dba2be7c-f470-4302-8668-d3fb356a9d8b\",\"type\":\"Column\"},{\"attributes\":{},\"id\":\"d6d58d7e-b797-45e8-b911-cdc8b6cb7f02\",\"type\":\"SaveTool\"},{\"attributes\":{},\"id\":\"2f380da3-cbb1-42fb-8640-997854cc2e8d\",\"type\":\"WheelZoomTool\"},{\"attributes\":{\"callback\":null,\"data\":{\"band\":[\"1\",\"2\",\"3\",\"4\",\"5\",\"6\",\"7\",\"8\",\"9\",\"10\",\"11\"],\"flux\":{\"__ndarray__\":\"gNDQP8FF5D/8JeKt8z8jQCBgrdo1URdAsMagE0IH6j/nc+52vfQkQLyzdtuFKEJAHxoWo66NLUCamT7gJnwuQOGGKdvRcRlADFZBsbqa/j+A9UyK6gi9Pw==\",\"dtype\":\"float64\",\"shape\":[11]}},\"selected\":{\"id\":\"d380dd07-dc17-4092-bf31-5d7d8e17d3b3\",\"type\":\"Selection\"},\"selection_policy\":{\"id\":\"70da8124-e037-4fd2-afff-21b406ec5e9e\",\"type\":\"UnionRenderers\"}},\"id\":\"c7ea8454-4040-4d67-a208-2aa5640bb160\",\"type\":\"ColumnDataSource\"},{\"attributes\":{\"plot\":null,\"text\":\"SFC flux. CLIRAD (single-run) - CRD.\"},\"id\":\"b96651fc-3fb9-4f6f-ad93-349f79f7ab3b\",\"type\":\"Title\"},{\"attributes\":{},\"id\":\"46fea2a4-8345-4916-8b98-d1b7292663ad\",\"type\":\"CategoricalTicker\"},{\"attributes\":{},\"id\":\"afb64eb7-b261-4967-98ef-aa6417153383\",\"type\":\"BasicTickFormatter\"},{\"attributes\":{\"axis_label\":\"spectral band\",\"formatter\":{\"id\":\"c68d5a4b-a381-48e5-87ef-e66122d1b1f4\",\"type\":\"CategoricalTickFormatter\"},\"plot\":{\"id\":\"27a6b767-89d1-4d9a-b33b-68d820bf9a64\",\"subtype\":\"Figure\",\"type\":\"Plot\"},\"ticker\":{\"id\":\"46fea2a4-8345-4916-8b98-d1b7292663ad\",\"type\":\"CategoricalTicker\"}},\"id\":\"bc038c6e-eb17-4fee-9442-8486393a95a9\",\"type\":\"CategoricalAxis\"},{\"attributes\":{\"bottom_units\":\"screen\",\"fill_alpha\":{\"value\":0.5},\"fill_color\":{\"value\":\"lightgrey\"},\"left_units\":\"screen\",\"level\":\"overlay\",\"line_alpha\":{\"value\":1.0},\"line_color\":{\"value\":\"black\"},\"line_dash\":[4,4],\"line_width\":{\"value\":2},\"plot\":null,\"render_mode\":\"css\",\"right_units\":\"screen\",\"top_units\":\"screen\"},\"id\":\"632043fd-1e28-4a9d-8261-74cafb00b921\",\"type\":\"BoxAnnotation\"},{\"attributes\":{},\"id\":\"c92e5895-187b-4827-ab18-e2cf66198e98\",\"type\":\"PanTool\"},{\"attributes\":{},\"id\":\"f272f2b3-a642-4e15-9f8a-907753f58109\",\"type\":\"ResetTool\"},{\"attributes\":{\"children\":[{\"id\":\"51a37572-745c-458b-a967-86b86d83a2f8\",\"type\":\"ToolbarBox\"},{\"id\":\"dba2be7c-f470-4302-8668-d3fb356a9d8b\",\"type\":\"Column\"}]},\"id\":\"d13d0de1-3c14-42ed-9b27-a93934ea200a\",\"type\":\"Column\"},{\"attributes\":{},\"id\":\"b61eaddf-9be8-4515-a932-2bcdf49d69e9\",\"type\":\"LinearScale\"},{\"attributes\":{\"bottom_units\":\"screen\",\"fill_alpha\":{\"value\":0.5},\"fill_color\":{\"value\":\"lightgrey\"},\"left_units\":\"screen\",\"level\":\"overlay\",\"line_alpha\":{\"value\":1.0},\"line_color\":{\"value\":\"black\"},\"line_dash\":[4,4],\"line_width\":{\"value\":2},\"plot\":null,\"render_mode\":\"css\",\"right_units\":\"screen\",\"top_units\":\"screen\"},\"id\":\"e0f64925-51b5-4d5d-ab50-dddb02d5e31e\",\"type\":\"BoxAnnotation\"},{\"attributes\":{\"tools\":[{\"id\":\"5ee414bb-c16f-424f-94a3-cd7e1c244cca\",\"type\":\"PanTool\"},{\"id\":\"0c21940f-b84a-4839-9c25-85722304455b\",\"type\":\"WheelZoomTool\"},{\"id\":\"919f00b9-6766-45d2-bbfb-0d58d9f2129d\",\"type\":\"BoxZoomTool\"},{\"id\":\"9e5087ad-0173-4ea1-bec4-900b65c26bc9\",\"type\":\"SaveTool\"},{\"id\":\"ca619eb2-64b5-497e-a8df-7508696a959e\",\"type\":\"ResetTool\"},{\"id\":\"76fba2e6-7cc7-491b-8b02-9b7e41bfeaa5\",\"type\":\"HelpTool\"},{\"id\":\"c92e5895-187b-4827-ab18-e2cf66198e98\",\"type\":\"PanTool\"},{\"id\":\"caa957f0-9921-4c05-bf4f-d9eb406e11d9\",\"type\":\"WheelZoomTool\"},{\"id\":\"1afc8ca3-14fb-4f63-b34a-a31221b5f654\",\"type\":\"BoxZoomTool\"},{\"id\":\"d6d58d7e-b797-45e8-b911-cdc8b6cb7f02\",\"type\":\"SaveTool\"},{\"id\":\"2dfaa9ca-f6c2-436f-a60a-b2c09aea51fc\",\"type\":\"ResetTool\"},{\"id\":\"7da36861-7d9d-4def-91c9-818da4c71f64\",\"type\":\"HelpTool\"},{\"id\":\"0c52b8df-4c86-49f0-a496-3661cea18796\",\"type\":\"PanTool\"},{\"id\":\"2f380da3-cbb1-42fb-8640-997854cc2e8d\",\"type\":\"WheelZoomTool\"},{\"id\":\"3870626f-2a6b-474d-93ec-621ae13df4e0\",\"type\":\"BoxZoomTool\"},{\"id\":\"f2e5a7c0-8033-4cd3-9e5b-58a4ac1abd04\",\"type\":\"SaveTool\"},{\"id\":\"f272f2b3-a642-4e15-9f8a-907753f58109\",\"type\":\"ResetTool\"},{\"id\":\"68a2a041-dfbb-4dc3-8ea4-54f7e310d2a6\",\"type\":\"HelpTool\"}]},\"id\":\"dd97f9ee-febd-44ad-ab22-8d4c31163693\",\"type\":\"ProxyToolbar\"},{\"attributes\":{},\"id\":\"f2e5a7c0-8033-4cd3-9e5b-58a4ac1abd04\",\"type\":\"SaveTool\"},{\"attributes\":{\"dimension\":1,\"plot\":{\"id\":\"d4dc7911-00f8-4c75-8285-06500bc5c716\",\"subtype\":\"Figure\",\"type\":\"Plot\"},\"ticker\":{\"id\":\"11838f22-4c20-4794-95bd-af83a3f75a62\",\"type\":\"BasicTicker\"}},\"id\":\"712b4d3b-9481-4b79-b27d-cffeea1be12a\",\"type\":\"Grid\"},{\"attributes\":{},\"id\":\"b30228d3-d6e6-4369-a31c-7dd89d3a3fd9\",\"type\":\"BasicTicker\"},{\"attributes\":{},\"id\":\"14d9ca77-d4f0-4870-a351-b9b70c7cd2a1\",\"type\":\"CategoricalScale\"},{\"attributes\":{\"dimension\":1,\"plot\":{\"id\":\"27a6b767-89d1-4d9a-b33b-68d820bf9a64\",\"subtype\":\"Figure\",\"type\":\"Plot\"},\"ticker\":{\"id\":\"b30228d3-d6e6-4369-a31c-7dd89d3a3fd9\",\"type\":\"BasicTicker\"}},\"id\":\"fc770736-2044-443a-b1b9-d099e2171f3a\",\"type\":\"Grid\"},{\"attributes\":{\"plot\":null,\"text\":\"TOA flux. CLIRAD (single-run) - CRD.\"},\"id\":\"33dc72ac-ba6b-4e78-a60f-02cb267ef939\",\"type\":\"Title\"},{\"attributes\":{\"active_drag\":\"auto\",\"active_inspect\":\"auto\",\"active_scroll\":\"auto\",\"active_tap\":\"auto\",\"tools\":[{\"id\":\"0c52b8df-4c86-49f0-a496-3661cea18796\",\"type\":\"PanTool\"},{\"id\":\"2f380da3-cbb1-42fb-8640-997854cc2e8d\",\"type\":\"WheelZoomTool\"},{\"id\":\"3870626f-2a6b-474d-93ec-621ae13df4e0\",\"type\":\"BoxZoomTool\"},{\"id\":\"f2e5a7c0-8033-4cd3-9e5b-58a4ac1abd04\",\"type\":\"SaveTool\"},{\"id\":\"f272f2b3-a642-4e15-9f8a-907753f58109\",\"type\":\"ResetTool\"},{\"id\":\"68a2a041-dfbb-4dc3-8ea4-54f7e310d2a6\",\"type\":\"HelpTool\"}]},\"id\":\"da6367f3-3ad6-4aa8-b6f3-8250e9219c17\",\"type\":\"Toolbar\"},{\"attributes\":{\"fill_color\":{\"value\":\"#1f77b4\"},\"line_color\":{\"value\":\"#1f77b4\"},\"top\":{\"field\":\"flux\"},\"width\":{\"value\":0.9},\"x\":{\"field\":\"band\"}},\"id\":\"68082f20-089c-4668-9a24-212d236bcf48\",\"type\":\"VBar\"},{\"attributes\":{\"fill_alpha\":{\"value\":0.1},\"fill_color\":{\"value\":\"#1f77b4\"},\"line_alpha\":{\"value\":0.1},\"line_color\":{\"value\":\"#1f77b4\"},\"top\":{\"field\":\"flux\"},\"width\":{\"value\":0.9},\"x\":{\"field\":\"band\"}},\"id\":\"cc1b5785-da2d-4402-a0ca-6d086da34919\",\"type\":\"VBar\"},{\"attributes\":{},\"id\":\"68a2a041-dfbb-4dc3-8ea4-54f7e310d2a6\",\"type\":\"HelpTool\"},{\"attributes\":{\"callback\":null,\"data\":{\"band\":[\"1\",\"2\",\"3\",\"4\",\"5\",\"6\",\"7\",\"8\",\"9\",\"10\",\"11\"],\"flux\":{\"__ndarray__\":\"AADADkbs874AW0HTEivTP4AfnE8dq+A/ACw+PiE7rz/qVzofnjUjQHdSX5Z2TEhAll72RgiuNkDfpdQl42QtQCCl2TwOowJAAGCq0hbXiD8AO3arQl6wPw==\",\"dtype\":\"float64\",\"shape\":[11]}},\"selected\":{\"id\":\"219ceec6-fe24-4b33-a1ed-1a1f9cfa4f19\",\"type\":\"Selection\"},\"selection_policy\":{\"id\":\"7cecca64-f905-4e3d-afec-a86f5c231e1c\",\"type\":\"UnionRenderers\"}},\"id\":\"04010826-e7e9-4325-9bd3-c2976e01c982\",\"type\":\"ColumnDataSource\"},{\"attributes\":{\"overlay\":{\"id\":\"e0f64925-51b5-4d5d-ab50-dddb02d5e31e\",\"type\":\"BoxAnnotation\"}},\"id\":\"1afc8ca3-14fb-4f63-b34a-a31221b5f654\",\"type\":\"BoxZoomTool\"},{\"attributes\":{\"data_source\":{\"id\":\"04010826-e7e9-4325-9bd3-c2976e01c982\",\"type\":\"ColumnDataSource\"},\"glyph\":{\"id\":\"68082f20-089c-4668-9a24-212d236bcf48\",\"type\":\"VBar\"},\"hover_glyph\":null,\"muted_glyph\":null,\"nonselection_glyph\":{\"id\":\"8899b3bd-701f-4a8b-baa9-dd167570fbb8\",\"type\":\"VBar\"},\"selection_glyph\":null,\"view\":{\"id\":\"e61cede7-6bce-4e6b-b198-a1725fe8097d\",\"type\":\"CDSView\"}},\"id\":\"c02d820e-a0cf-4e3c-b323-b3b8183159a4\",\"type\":\"GlyphRenderer\"},{\"attributes\":{\"below\":[{\"id\":\"5b394bd0-cece-402c-9d7c-5c29a2c8a256\",\"type\":\"CategoricalAxis\"}],\"left\":[{\"id\":\"03cb6b60-ca1e-45b9-b4e6-845ff79fdd77\",\"type\":\"LinearAxis\"}],\"plot_height\":300,\"plot_width\":300,\"renderers\":[{\"id\":\"5b394bd0-cece-402c-9d7c-5c29a2c8a256\",\"type\":\"CategoricalAxis\"},{\"id\":\"a2ac34f4-7fc3-4368-8c76-127f7c5d4636\",\"type\":\"Grid\"},{\"id\":\"03cb6b60-ca1e-45b9-b4e6-845ff79fdd77\",\"type\":\"LinearAxis\"},{\"id\":\"712b4d3b-9481-4b79-b27d-cffeea1be12a\",\"type\":\"Grid\"},{\"id\":\"e0f64925-51b5-4d5d-ab50-dddb02d5e31e\",\"type\":\"BoxAnnotation\"},{\"id\":\"c02d820e-a0cf-4e3c-b323-b3b8183159a4\",\"type\":\"GlyphRenderer\"}],\"title\":{\"id\":\"b96651fc-3fb9-4f6f-ad93-349f79f7ab3b\",\"type\":\"Title\"},\"toolbar\":{\"id\":\"705e5c83-a1b8-4b4e-9073-fdd87905aab0\",\"type\":\"Toolbar\"},\"toolbar_location\":null,\"x_range\":{\"id\":\"26a8c232-e95a-4a45-bfdb-2f62dda0e5ef\",\"type\":\"FactorRange\"},\"x_scale\":{\"id\":\"a265fc5c-3722-4963-8db7-4cffad7737a6\",\"type\":\"CategoricalScale\"},\"y_range\":{\"id\":\"a82c6716-4508-4e97-afcb-32da7f8569e2\",\"type\":\"DataRange1d\"},\"y_scale\":{\"id\":\"7a8db2c7-b7b1-477a-9589-961ddf7ffffb\",\"type\":\"LinearScale\"}},\"id\":\"d4dc7911-00f8-4c75-8285-06500bc5c716\",\"subtype\":\"Figure\",\"type\":\"Plot\"},{\"attributes\":{\"toolbar\":{\"id\":\"dd97f9ee-febd-44ad-ab22-8d4c31163693\",\"type\":\"ProxyToolbar\"},\"toolbar_location\":\"above\"},\"id\":\"51a37572-745c-458b-a967-86b86d83a2f8\",\"type\":\"ToolbarBox\"},{\"attributes\":{\"plot\":{\"id\":\"27a6b767-89d1-4d9a-b33b-68d820bf9a64\",\"subtype\":\"Figure\",\"type\":\"Plot\"},\"ticker\":{\"id\":\"46fea2a4-8345-4916-8b98-d1b7292663ad\",\"type\":\"CategoricalTicker\"}},\"id\":\"c3793fe5-55da-4d20-8e7f-4a7d038f63fc\",\"type\":\"Grid\"},{\"attributes\":{},\"id\":\"abc485fa-6a22-466c-9761-6fa09fd25069\",\"type\":\"UnionRenderers\"},{\"attributes\":{},\"id\":\"5f128dbd-48d0-48f8-b169-92dfef05a973\",\"type\":\"BasicTickFormatter\"},{\"attributes\":{},\"id\":\"de4305c0-e492-4844-8d49-55003559725c\",\"type\":\"CategoricalTickFormatter\"},{\"attributes\":{\"callback\":null,\"data\":{\"band\":[\"1\",\"2\",\"3\",\"4\",\"5\",\"6\",\"7\",\"8\",\"9\",\"10\",\"11\"],\"flux\":{\"__ndarray__\":\"QMBd1d1F5D9A7Dt1m6YiQBgAkRvROxVAICRNtJIT6D8AmdDJ9/HrP6CGJdTCjyjAfgYvVcScH8AAkpT0MHThPxk/nqdLIBBAZBiQIAlp/j9Ab6jOWVWpPw==\",\"dtype\":\"float64\",\"shape\":[11]}},\"selected\":{\"id\":\"1010d0d1-4d33-46ca-9a1f-56dcc962f091\",\"type\":\"Selection\"},\"selection_policy\":{\"id\":\"abc485fa-6a22-466c-9761-6fa09fd25069\",\"type\":\"UnionRenderers\"}},\"id\":\"2b801dc4-73bf-4071-94fb-0a7dbae3bab1\",\"type\":\"ColumnDataSource\"},{\"attributes\":{},\"id\":\"219ceec6-fe24-4b33-a1ed-1a1f9cfa4f19\",\"type\":\"Selection\"},{\"attributes\":{},\"id\":\"0c52b8df-4c86-49f0-a496-3661cea18796\",\"type\":\"PanTool\"},{\"attributes\":{},\"id\":\"7cecca64-f905-4e3d-afec-a86f5c231e1c\",\"type\":\"UnionRenderers\"},{\"attributes\":{\"callback\":null},\"id\":\"90d236d6-561c-48d6-8da1-0611c2f36a44\",\"type\":\"DataRange1d\"},{\"attributes\":{},\"id\":\"11838f22-4c20-4794-95bd-af83a3f75a62\",\"type\":\"BasicTicker\"},{\"attributes\":{\"overlay\":{\"id\":\"3e4c4ee2-5274-4cfe-b28b-5f3e80de4c47\",\"type\":\"BoxAnnotation\"}},\"id\":\"3870626f-2a6b-474d-93ec-621ae13df4e0\",\"type\":\"BoxZoomTool\"},{\"attributes\":{\"active_drag\":\"auto\",\"active_inspect\":\"auto\",\"active_scroll\":\"auto\",\"active_tap\":\"auto\",\"tools\":[{\"id\":\"5ee414bb-c16f-424f-94a3-cd7e1c244cca\",\"type\":\"PanTool\"},{\"id\":\"0c21940f-b84a-4839-9c25-85722304455b\",\"type\":\"WheelZoomTool\"},{\"id\":\"919f00b9-6766-45d2-bbfb-0d58d9f2129d\",\"type\":\"BoxZoomTool\"},{\"id\":\"9e5087ad-0173-4ea1-bec4-900b65c26bc9\",\"type\":\"SaveTool\"},{\"id\":\"ca619eb2-64b5-497e-a8df-7508696a959e\",\"type\":\"ResetTool\"},{\"id\":\"76fba2e6-7cc7-491b-8b02-9b7e41bfeaa5\",\"type\":\"HelpTool\"}]},\"id\":\"d334f91e-d967-48f4-a3e8-ca3defb56175\",\"type\":\"Toolbar\"},{\"attributes\":{\"data_source\":{\"id\":\"2b801dc4-73bf-4071-94fb-0a7dbae3bab1\",\"type\":\"ColumnDataSource\"},\"glyph\":{\"id\":\"498a5a69-dcd8-48c9-ad8f-2a685fbea8fc\",\"type\":\"VBar\"},\"hover_glyph\":null,\"muted_glyph\":null,\"nonselection_glyph\":{\"id\":\"cc1b5785-da2d-4402-a0ca-6d086da34919\",\"type\":\"VBar\"},\"selection_glyph\":null,\"view\":{\"id\":\"d0fa3b2f-ac9b-4509-9367-80d0ef2beb21\",\"type\":\"CDSView\"}},\"id\":\"4768e848-2ae8-437b-88ea-5f7be6af7764\",\"type\":\"GlyphRenderer\"},{\"attributes\":{},\"id\":\"2dfaa9ca-f6c2-436f-a60a-b2c09aea51fc\",\"type\":\"ResetTool\"},{\"attributes\":{},\"id\":\"e3d3276d-4081-4e53-9a72-5c671b246915\",\"type\":\"BasicTickFormatter\"},{\"attributes\":{\"bottom_units\":\"screen\",\"fill_alpha\":{\"value\":0.5},\"fill_color\":{\"value\":\"lightgrey\"},\"left_units\":\"screen\",\"level\":\"overlay\",\"line_alpha\":{\"value\":1.0},\"line_color\":{\"value\":\"black\"},\"line_dash\":[4,4],\"line_width\":{\"value\":2},\"plot\":null,\"render_mode\":\"css\",\"right_units\":\"screen\",\"top_units\":\"screen\"},\"id\":\"3e4c4ee2-5274-4cfe-b28b-5f3e80de4c47\",\"type\":\"BoxAnnotation\"},{\"attributes\":{},\"id\":\"70da8124-e037-4fd2-afff-21b406ec5e9e\",\"type\":\"UnionRenderers\"},{\"attributes\":{\"fill_color\":{\"value\":\"#1f77b4\"},\"line_color\":{\"value\":\"#1f77b4\"},\"top\":{\"field\":\"flux\"},\"width\":{\"value\":0.9},\"x\":{\"field\":\"band\"}},\"id\":\"498a5a69-dcd8-48c9-ad8f-2a685fbea8fc\",\"type\":\"VBar\"},{\"attributes\":{},\"id\":\"d380dd07-dc17-4092-bf31-5d7d8e17d3b3\",\"type\":\"Selection\"},{\"attributes\":{},\"id\":\"caa957f0-9921-4c05-bf4f-d9eb406e11d9\",\"type\":\"WheelZoomTool\"},{\"attributes\":{\"source\":{\"id\":\"2b801dc4-73bf-4071-94fb-0a7dbae3bab1\",\"type\":\"ColumnDataSource\"}},\"id\":\"d0fa3b2f-ac9b-4509-9367-80d0ef2beb21\",\"type\":\"CDSView\"},{\"attributes\":{\"callback\":null,\"factors\":[\"1\",\"2\",\"3\",\"4\",\"5\",\"6\",\"7\",\"8\",\"9\",\"10\",\"11\"]},\"id\":\"25bbb84e-4605-4226-92ce-f7fcd71507b5\",\"type\":\"FactorRange\"},{\"attributes\":{},\"id\":\"7da36861-7d9d-4def-91c9-818da4c71f64\",\"type\":\"HelpTool\"},{\"attributes\":{\"axis_label\":\"flux (W m-2)\",\"formatter\":{\"id\":\"afb64eb7-b261-4967-98ef-aa6417153383\",\"type\":\"BasicTickFormatter\"},\"plot\":{\"id\":\"27a6b767-89d1-4d9a-b33b-68d820bf9a64\",\"subtype\":\"Figure\",\"type\":\"Plot\"},\"ticker\":{\"id\":\"b30228d3-d6e6-4369-a31c-7dd89d3a3fd9\",\"type\":\"BasicTicker\"}},\"id\":\"09102a50-14e0-4f58-a503-dca56dafe8ee\",\"type\":\"LinearAxis\"},{\"attributes\":{\"fill_color\":{\"value\":\"#1f77b4\"},\"line_color\":{\"value\":\"#1f77b4\"},\"top\":{\"field\":\"flux\"},\"width\":{\"value\":0.9},\"x\":{\"field\":\"band\"}},\"id\":\"1f6dda87-4d55-48a7-8ad8-0c9587b5cd7e\",\"type\":\"VBar\"},{\"attributes\":{},\"id\":\"e5cc9e7d-4844-46bb-a0a8-370ada516cef\",\"type\":\"CategoricalScale\"},{\"attributes\":{},\"id\":\"7a8db2c7-b7b1-477a-9589-961ddf7ffffb\",\"type\":\"LinearScale\"},{\"attributes\":{\"below\":[{\"id\":\"bc038c6e-eb17-4fee-9442-8486393a95a9\",\"type\":\"CategoricalAxis\"}],\"left\":[{\"id\":\"09102a50-14e0-4f58-a503-dca56dafe8ee\",\"type\":\"LinearAxis\"}],\"plot_height\":300,\"plot_width\":300,\"renderers\":[{\"id\":\"bc038c6e-eb17-4fee-9442-8486393a95a9\",\"type\":\"CategoricalAxis\"},{\"id\":\"c3793fe5-55da-4d20-8e7f-4a7d038f63fc\",\"type\":\"Grid\"},{\"id\":\"09102a50-14e0-4f58-a503-dca56dafe8ee\",\"type\":\"LinearAxis\"},{\"id\":\"fc770736-2044-443a-b1b9-d099e2171f3a\",\"type\":\"Grid\"},{\"id\":\"3e4c4ee2-5274-4cfe-b28b-5f3e80de4c47\",\"type\":\"BoxAnnotation\"},{\"id\":\"4768e848-2ae8-437b-88ea-5f7be6af7764\",\"type\":\"GlyphRenderer\"}],\"title\":{\"id\":\"c542a851-d549-4657-929c-e780e455f7af\",\"type\":\"Title\"},\"toolbar\":{\"id\":\"da6367f3-3ad6-4aa8-b6f3-8250e9219c17\",\"type\":\"Toolbar\"},\"toolbar_location\":null,\"x_range\":{\"id\":\"4f8da681-7bfa-45d2-b975-b83d171a5656\",\"type\":\"FactorRange\"},\"x_scale\":{\"id\":\"14d9ca77-d4f0-4870-a351-b9b70c7cd2a1\",\"type\":\"CategoricalScale\"},\"y_range\":{\"id\":\"90d236d6-561c-48d6-8da1-0611c2f36a44\",\"type\":\"DataRange1d\"},\"y_scale\":{\"id\":\"b61eaddf-9be8-4515-a932-2bcdf49d69e9\",\"type\":\"LinearScale\"}},\"id\":\"27a6b767-89d1-4d9a-b33b-68d820bf9a64\",\"subtype\":\"Figure\",\"type\":\"Plot\"},{\"attributes\":{\"fill_alpha\":{\"value\":0.1},\"fill_color\":{\"value\":\"#1f77b4\"},\"line_alpha\":{\"value\":0.1},\"line_color\":{\"value\":\"#1f77b4\"},\"top\":{\"field\":\"flux\"},\"width\":{\"value\":0.9},\"x\":{\"field\":\"band\"}},\"id\":\"89ce6393-0feb-4672-a13f-a8cc8786b865\",\"type\":\"VBar\"},{\"attributes\":{},\"id\":\"9e5087ad-0173-4ea1-bec4-900b65c26bc9\",\"type\":\"SaveTool\"},{\"attributes\":{},\"id\":\"a265fc5c-3722-4963-8db7-4cffad7737a6\",\"type\":\"CategoricalScale\"},{\"attributes\":{},\"id\":\"f772395a-cf1d-4336-815d-867b606d6678\",\"type\":\"CategoricalTicker\"},{\"attributes\":{},\"id\":\"fe9d7a46-1b5f-4788-aa9c-7d39e272625f\",\"type\":\"CategoricalTicker\"},{\"attributes\":{\"fill_alpha\":{\"value\":0.1},\"fill_color\":{\"value\":\"#1f77b4\"},\"line_alpha\":{\"value\":0.1},\"line_color\":{\"value\":\"#1f77b4\"},\"top\":{\"field\":\"flux\"},\"width\":{\"value\":0.9},\"x\":{\"field\":\"band\"}},\"id\":\"8899b3bd-701f-4a8b-baa9-dd167570fbb8\",\"type\":\"VBar\"},{\"attributes\":{\"axis_label\":\"flux (W m-2)\",\"formatter\":{\"id\":\"5f128dbd-48d0-48f8-b169-92dfef05a973\",\"type\":\"BasicTickFormatter\"},\"plot\":{\"id\":\"5a6da6e2-668d-4394-aef3-0d9c471cbea8\",\"subtype\":\"Figure\",\"type\":\"Plot\"},\"ticker\":{\"id\":\"6b2fd050-fd5f-4c67-a3c3-268b28b97f12\",\"type\":\"BasicTicker\"}},\"id\":\"54555a80-ac13-4d2d-a0fb-899410951cb4\",\"type\":\"LinearAxis\"},{\"attributes\":{},\"id\":\"ca619eb2-64b5-497e-a8df-7508696a959e\",\"type\":\"ResetTool\"},{\"attributes\":{\"callback\":null,\"factors\":[\"1\",\"2\",\"3\",\"4\",\"5\",\"6\",\"7\",\"8\",\"9\",\"10\",\"11\"]},\"id\":\"26a8c232-e95a-4a45-bfdb-2f62dda0e5ef\",\"type\":\"FactorRange\"},{\"attributes\":{\"overlay\":{\"id\":\"632043fd-1e28-4a9d-8261-74cafb00b921\",\"type\":\"BoxAnnotation\"}},\"id\":\"919f00b9-6766-45d2-bbfb-0d58d9f2129d\",\"type\":\"BoxZoomTool\"},{\"attributes\":{\"data_source\":{\"id\":\"c7ea8454-4040-4d67-a208-2aa5640bb160\",\"type\":\"ColumnDataSource\"},\"glyph\":{\"id\":\"1f6dda87-4d55-48a7-8ad8-0c9587b5cd7e\",\"type\":\"VBar\"},\"hover_glyph\":null,\"muted_glyph\":null,\"nonselection_glyph\":{\"id\":\"89ce6393-0feb-4672-a13f-a8cc8786b865\",\"type\":\"VBar\"},\"selection_glyph\":null,\"view\":{\"id\":\"bae3257f-6d4a-4b67-b18d-e76e0a464a95\",\"type\":\"CDSView\"}},\"id\":\"ede8ad53-afc6-406c-89a9-d45ed87ee705\",\"type\":\"GlyphRenderer\"},{\"attributes\":{},\"id\":\"32962401-23c1-4751-bf7b-91577861f434\",\"type\":\"LinearScale\"},{\"attributes\":{},\"id\":\"6b2fd050-fd5f-4c67-a3c3-268b28b97f12\",\"type\":\"BasicTicker\"},{\"attributes\":{\"callback\":null},\"id\":\"a82c6716-4508-4e97-afcb-32da7f8569e2\",\"type\":\"DataRange1d\"},{\"attributes\":{\"axis_label\":\"spectral band\",\"formatter\":{\"id\":\"de4305c0-e492-4844-8d49-55003559725c\",\"type\":\"CategoricalTickFormatter\"},\"plot\":{\"id\":\"d4dc7911-00f8-4c75-8285-06500bc5c716\",\"subtype\":\"Figure\",\"type\":\"Plot\"},\"ticker\":{\"id\":\"fe9d7a46-1b5f-4788-aa9c-7d39e272625f\",\"type\":\"CategoricalTicker\"}},\"id\":\"5b394bd0-cece-402c-9d7c-5c29a2c8a256\",\"type\":\"CategoricalAxis\"},{\"attributes\":{\"axis_label\":\"flux (W m-2)\",\"formatter\":{\"id\":\"e3d3276d-4081-4e53-9a72-5c671b246915\",\"type\":\"BasicTickFormatter\"},\"plot\":{\"id\":\"d4dc7911-00f8-4c75-8285-06500bc5c716\",\"subtype\":\"Figure\",\"type\":\"Plot\"},\"ticker\":{\"id\":\"11838f22-4c20-4794-95bd-af83a3f75a62\",\"type\":\"BasicTicker\"}},\"id\":\"03cb6b60-ca1e-45b9-b4e6-845ff79fdd77\",\"type\":\"LinearAxis\"},{\"attributes\":{\"axis_label\":\"spectral band\",\"formatter\":{\"id\":\"af99ffe8-b95b-4a44-ad93-9111d962bcd5\",\"type\":\"CategoricalTickFormatter\"},\"plot\":{\"id\":\"5a6da6e2-668d-4394-aef3-0d9c471cbea8\",\"subtype\":\"Figure\",\"type\":\"Plot\"},\"ticker\":{\"id\":\"f772395a-cf1d-4336-815d-867b606d6678\",\"type\":\"CategoricalTicker\"}},\"id\":\"20d3331a-81c1-4dd6-8b19-47e2154e9ed3\",\"type\":\"CategoricalAxis\"},{\"attributes\":{\"plot\":{\"id\":\"5a6da6e2-668d-4394-aef3-0d9c471cbea8\",\"subtype\":\"Figure\",\"type\":\"Plot\"},\"ticker\":{\"id\":\"f772395a-cf1d-4336-815d-867b606d6678\",\"type\":\"CategoricalTicker\"}},\"id\":\"55f0599b-79d6-4a64-844b-ffea6588334b\",\"type\":\"Grid\"},{\"attributes\":{},\"id\":\"c68d5a4b-a381-48e5-87ef-e66122d1b1f4\",\"type\":\"CategoricalTickFormatter\"},{\"attributes\":{},\"id\":\"0c21940f-b84a-4839-9c25-85722304455b\",\"type\":\"WheelZoomTool\"},{\"attributes\":{\"plot\":null,\"text\":\"Atmosphere heating. CLIRAD (single-run) - CRD.\"},\"id\":\"c542a851-d549-4657-929c-e780e455f7af\",\"type\":\"Title\"},{\"attributes\":{},\"id\":\"76fba2e6-7cc7-491b-8b02-9b7e41bfeaa5\",\"type\":\"HelpTool\"},{\"attributes\":{},\"id\":\"5ee414bb-c16f-424f-94a3-cd7e1c244cca\",\"type\":\"PanTool\"},{\"attributes\":{\"dimension\":1,\"plot\":{\"id\":\"5a6da6e2-668d-4394-aef3-0d9c471cbea8\",\"subtype\":\"Figure\",\"type\":\"Plot\"},\"ticker\":{\"id\":\"6b2fd050-fd5f-4c67-a3c3-268b28b97f12\",\"type\":\"BasicTicker\"}},\"id\":\"d2f8de71-5901-4e62-9577-aa77dc8e268b\",\"type\":\"Grid\"},{\"attributes\":{\"below\":[{\"id\":\"20d3331a-81c1-4dd6-8b19-47e2154e9ed3\",\"type\":\"CategoricalAxis\"}],\"left\":[{\"id\":\"54555a80-ac13-4d2d-a0fb-899410951cb4\",\"type\":\"LinearAxis\"}],\"plot_height\":300,\"plot_width\":300,\"renderers\":[{\"id\":\"20d3331a-81c1-4dd6-8b19-47e2154e9ed3\",\"type\":\"CategoricalAxis\"},{\"id\":\"55f0599b-79d6-4a64-844b-ffea6588334b\",\"type\":\"Grid\"},{\"id\":\"54555a80-ac13-4d2d-a0fb-899410951cb4\",\"type\":\"LinearAxis\"},{\"id\":\"d2f8de71-5901-4e62-9577-aa77dc8e268b\",\"type\":\"Grid\"},{\"id\":\"632043fd-1e28-4a9d-8261-74cafb00b921\",\"type\":\"BoxAnnotation\"},{\"id\":\"ede8ad53-afc6-406c-89a9-d45ed87ee705\",\"type\":\"GlyphRenderer\"}],\"title\":{\"id\":\"33dc72ac-ba6b-4e78-a60f-02cb267ef939\",\"type\":\"Title\"},\"toolbar\":{\"id\":\"d334f91e-d967-48f4-a3e8-ca3defb56175\",\"type\":\"Toolbar\"},\"toolbar_location\":null,\"x_range\":{\"id\":\"25bbb84e-4605-4226-92ce-f7fcd71507b5\",\"type\":\"FactorRange\"},\"x_scale\":{\"id\":\"e5cc9e7d-4844-46bb-a0a8-370ada516cef\",\"type\":\"CategoricalScale\"},\"y_range\":{\"id\":\"ab7e9138-6fbe-4e75-8bb5-ac9019f13777\",\"type\":\"DataRange1d\"},\"y_scale\":{\"id\":\"32962401-23c1-4751-bf7b-91577861f434\",\"type\":\"LinearScale\"}},\"id\":\"5a6da6e2-668d-4394-aef3-0d9c471cbea8\",\"subtype\":\"Figure\",\"type\":\"Plot\"},{\"attributes\":{\"callback\":null},\"id\":\"ab7e9138-6fbe-4e75-8bb5-ac9019f13777\",\"type\":\"DataRange1d\"},{\"attributes\":{\"plot\":{\"id\":\"d4dc7911-00f8-4c75-8285-06500bc5c716\",\"subtype\":\"Figure\",\"type\":\"Plot\"},\"ticker\":{\"id\":\"fe9d7a46-1b5f-4788-aa9c-7d39e272625f\",\"type\":\"CategoricalTicker\"}},\"id\":\"a2ac34f4-7fc3-4368-8c76-127f7c5d4636\",\"type\":\"Grid\"},{\"attributes\":{\"source\":{\"id\":\"c7ea8454-4040-4d67-a208-2aa5640bb160\",\"type\":\"ColumnDataSource\"}},\"id\":\"bae3257f-6d4a-4b67-b18d-e76e0a464a95\",\"type\":\"CDSView\"}],\"root_ids\":[\"d13d0de1-3c14-42ed-9b27-a93934ea200a\"]},\"title\":\"Bokeh Application\",\"version\":\"0.12.16\"}};\n",
       "  var render_items = [{\"docid\":\"93ea2b6e-e5c0-402a-bf31-0f24c3249f51\",\"elementid\":\"11b95e25-71a7-40dc-a88c-61b56c0af158\",\"modelid\":\"d13d0de1-3c14-42ed-9b27-a93934ea200a\"}];\n",
       "  root.Bokeh.embed.embed_items_notebook(docs_json, render_items);\n",
       "\n",
       "  }\n",
       "  if (root.Bokeh !== undefined) {\n",
       "    embed_document(root);\n",
       "  } else {\n",
       "    var attempts = 0;\n",
       "    var timer = setInterval(function(root) {\n",
       "      if (root.Bokeh !== undefined) {\n",
       "        embed_document(root);\n",
       "        clearInterval(timer);\n",
       "      }\n",
       "      attempts++;\n",
       "      if (attempts > 100) {\n",
       "        console.log(\"Bokeh: ERROR: Unable to run BokehJS code because BokehJS library is missing\")\n",
       "        clearInterval(timer);\n",
       "      }\n",
       "    }, 10, root)\n",
       "  }\n",
       "})(window);"
      ],
      "application/vnd.bokehjs_exec.v0+json": ""
     },
     "metadata": {
      "application/vnd.bokehjs_exec.v0+json": {
       "id": "d13d0de1-3c14-42ed-9b27-a93934ea200a"
      }
     },
     "output_type": "display_data"
    },
    {
     "data": {
      "text/markdown": [
       "*FIGURE.* Difference between CLIRAD and CRD in TOA, SFC and net atmosphere flux, in each spectral band."
      ],
      "text/plain": [
       "<IPython.core.display.Markdown object>"
      ]
     },
     "metadata": {},
     "output_type": "display_data"
    },
    {
     "data": {
      "text/html": [
       "<div>\n",
       "<style scoped>\n",
       "    .dataframe tbody tr th:only-of-type {\n",
       "        vertical-align: middle;\n",
       "    }\n",
       "\n",
       "    .dataframe tbody tr th {\n",
       "        vertical-align: top;\n",
       "    }\n",
       "\n",
       "    .dataframe thead th {\n",
       "        text-align: right;\n",
       "    }\n",
       "</style>\n",
       "<table border=\"1\" class=\"dataframe\">\n",
       "  <thead>\n",
       "    <tr style=\"text-align: right;\">\n",
       "      <th></th>\n",
       "      <th>OLR flux</th>\n",
       "      <th>SFC flux</th>\n",
       "      <th>ATM heating</th>\n",
       "    </tr>\n",
       "    <tr>\n",
       "      <th>Sum over bands</th>\n",
       "      <th></th>\n",
       "      <th></th>\n",
       "      <th></th>\n",
       "    </tr>\n",
       "  </thead>\n",
       "  <tbody>\n",
       "    <tr>\n",
       "      <th>CLIRAD (single-run) - CRD</th>\n",
       "      <td>102.1</td>\n",
       "      <td>98.87</td>\n",
       "      <td>3.24</td>\n",
       "    </tr>\n",
       "    <tr>\n",
       "      <th>CRD</th>\n",
       "      <td>-303.4</td>\n",
       "      <td>337.24</td>\n",
       "      <td>-181.37</td>\n",
       "    </tr>\n",
       "  </tbody>\n",
       "</table>\n",
       "</div>"
      ],
      "text/plain": [
       "                           OLR flux  SFC flux  ATM heating\n",
       "Sum over bands                                            \n",
       "CLIRAD (single-run) - CRD     102.1     98.87         3.24\n",
       "CRD                          -303.4    337.24      -181.37"
      ]
     },
     "metadata": {},
     "output_type": "display_data"
    },
    {
     "data": {
      "text/markdown": [
       "*TABLE.* Difference between CLIRAD and CRD in TOA, SFC and net atmosphere flux, over all spectral bands. CRD's TOA, SFC and net atmosphere flux, over all spectral bands."
      ],
      "text/plain": [
       "<IPython.core.display.Markdown object>"
      ]
     },
     "metadata": {},
     "output_type": "display_data"
    }
   ],
   "source": [
    "def show_html(s):\n",
    "    display.display(display.HTML(s))\n",
    "\n",
    "    \n",
    "def show_markdown(s):\n",
    "    display.display(display.Markdown(s))\n",
    "\n",
    "\n",
    "def script():\n",
    "    \n",
    "    d_atm = {'mls': 'mid-latitude summer',\n",
    "             'saw': 'sub-arctic winter',\n",
    "             'trp': 'tropical'}\n",
    "    \n",
    "    title = ('## Results over entire range of molecules'\n",
    "             ' and spectral bands')\n",
    "    \n",
    "    s_makeup = 'Makeup of atmosphere.'\n",
    "    s_atmpro = '# {}'\n",
    "    s_cool = 'Cooling rates. {}.'\n",
    "    s_flux = 'Fluxes. {}.'\n",
    "    \n",
    "    atmpros = ['mls', 'saw', 'trp']\n",
    "    \n",
    "    # TOC\n",
    "    show_markdown(title)\n",
    "    show_markdown('### Table of Contents')\n",
    "    show_html(climahtml.getHTML_hrefanchor(s_makeup))\n",
    "    for atmpro in atmpros:\n",
    "        show_markdown('**' + d_atm[atmpro] + '**')\n",
    "        show_html(climahtml.getHTML_hrefanchor(s_cool.format(atmpro)))\n",
    "        show_html(climahtml.getHTML_hrefanchor(s_flux.format(atmpro)))\n",
    "\n",
    "        \n",
    "    # Atmosphere makeup\n",
    "    show_html(climahtml.getHTML_idanchor(s_makeup))\n",
    "    show_markdown(climahtml.getMarkdown_sectitle(s_makeup))\n",
    "    show_makeup()\n",
    "    show_grey_makeup()\n",
    "        \n",
    "    for atmpro in atmpros:\n",
    "        show_html(climahtml.getHTML_idanchor(s_cool.format(atmpro)))\n",
    "        show_markdown(\n",
    "            climahtml.getMarkdown_sectitle(s_cool.format(atmpro)))\n",
    "        show_cool(atmpro=atmpro)\n",
    "        show_html(climahtml.getHTML_idanchor(s_flux.format(atmpro)))\n",
    "        show_markdown(\n",
    "            climahtml.getMarkdown_sectitle(s_flux.format(atmpro)))\n",
    "        show_hist_flux(atmpro=atmpro)\n",
    "        show_tb_flux(atmpro=atmpro)\n",
    "    \n",
    "    \n",
    "script()  "
   ]
  },
  {
   "cell_type": "code",
   "execution_count": null,
   "metadata": {
    "collapsed": true
   },
   "outputs": [],
   "source": []
  },
  {
   "cell_type": "code",
   "execution_count": 890,
   "metadata": {},
   "outputs": [
    {
     "data": {
      "text/html": [
       "<script>\n",
       "code_show=true; \n",
       "function code_toggle() {\n",
       " if (code_show){\n",
       " $('div.input').hide();\n",
       " } else {\n",
       " $('div.input').show();\n",
       " }\n",
       " code_show = !code_show\n",
       "} \n",
       "$( document ).ready(code_toggle);\n",
       "</script>\n",
       "<form action=\"javascript:code_toggle()\"><input type=\"submit\" value=\"Click here to toggle on/off the raw code.\"></form>"
      ],
      "text/plain": [
       "<IPython.core.display.HTML object>"
      ]
     },
     "execution_count": 890,
     "metadata": {},
     "output_type": "execute_result"
    }
   ],
   "source": [
    "display.HTML('''<script>\n",
    "code_show=true; \n",
    "function code_toggle() {\n",
    " if (code_show){\n",
    " $('div.input').hide();\n",
    " } else {\n",
    " $('div.input').show();\n",
    " }\n",
    " code_show = !code_show\n",
    "} \n",
    "$( document ).ready(code_toggle);\n",
    "</script>\n",
    "<form action=\"javascript:code_toggle()\"><input type=\"submit\" value=\"Click here to toggle on/off the raw code.\"></form>''')"
   ]
  },
  {
   "cell_type": "code",
   "execution_count": null,
   "metadata": {
    "collapsed": true
   },
   "outputs": [],
   "source": []
  }
 ],
 "metadata": {
  "kernelspec": {
   "display_name": "Python 3",
   "language": "python",
   "name": "python3"
  },
  "language_info": {
   "codemirror_mode": {
    "name": "ipython",
    "version": 3
   },
   "file_extension": ".py",
   "mimetype": "text/x-python",
   "name": "python",
   "nbconvert_exporter": "python",
   "pygments_lexer": "ipython3",
   "version": "3.6.1"
  }
 },
 "nbformat": 4,
 "nbformat_minor": 2
}
