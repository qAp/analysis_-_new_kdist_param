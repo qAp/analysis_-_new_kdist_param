{
 "cells": [
  {
   "cell_type": "code",
   "execution_count": 1101,
   "metadata": {
    "collapsed": true
   },
   "outputs": [],
   "source": [
    "import os\n",
    "import ast\n",
    "import json\n",
    "import importlib \n",
    "import itertools\n",
    "import collections\n",
    "import pprint\n",
    "\n",
    "from bokeh.io import output_notebook, show\n",
    "from bokeh.layouts import gridplot\n",
    "from bokeh.plotting import figure\n",
    "from bokeh.models import Range1d, Legend, ColumnDataSource, FactorRange\n",
    "from bokeh.palettes import all_palettes\n",
    "from bokeh.transform import factor_cmap\n",
    "\n",
    "import matplotlib\n",
    "import matplotlib.pyplot as plt\n",
    "import numpy as np\n",
    "import pandas as pd\n",
    "import xarray as xr\n",
    "\n",
    "\n",
    "import climatools.lblnew.bestfit_params as bestfits\n",
    "from climatools.lblnew import setup_bestfit, setup_overlap\n",
    "import climatools.lblnew.pipeline as pipe_lblnew\n",
    "import climatools.cliradlw.setup as setup_cliradlw\n",
    "import climatools.cliradlw.pipeline as pipe_cliradlw\n",
    "\n",
    "import climatools.html.html as climahtml\n",
    "from climatools.lblnew.dataio import *\n",
    "from climatools.plot.plot import *\n",
    "\n",
    "\n",
    "from IPython import display\n",
    "\n",
    "#importlib.reload(bestfits)\n",
    "#importlib.reload(setup_bestfit)\n",
    "#importlib.reload(setup_overlap)\n",
    "#importlib.reload(pipe_lblnew)\n",
    "#importlib.reload(setup_cliradlw)\n",
    "#importlib.reload(pipe_cliradlw)"
   ]
  },
  {
   "cell_type": "code",
   "execution_count": 1102,
   "metadata": {
    "scrolled": true
   },
   "outputs": [
    {
     "data": {
      "text/html": [
       "\n",
       "    <div class=\"bk-root\">\n",
       "        <a href=\"https://bokeh.pydata.org\" target=\"_blank\" class=\"bk-logo bk-logo-small bk-logo-notebook\"></a>\n",
       "        <span id=\"d9ede039-2056-4fd5-bf8a-bfc642290a47\">Loading BokehJS ...</span>\n",
       "    </div>"
      ]
     },
     "metadata": {},
     "output_type": "display_data"
    },
    {
     "data": {
      "application/javascript": [
       "\n",
       "(function(root) {\n",
       "  function now() {\n",
       "    return new Date();\n",
       "  }\n",
       "\n",
       "  var force = true;\n",
       "\n",
       "  if (typeof (root._bokeh_onload_callbacks) === \"undefined\" || force === true) {\n",
       "    root._bokeh_onload_callbacks = [];\n",
       "    root._bokeh_is_loading = undefined;\n",
       "  }\n",
       "\n",
       "  var JS_MIME_TYPE = 'application/javascript';\n",
       "  var HTML_MIME_TYPE = 'text/html';\n",
       "  var EXEC_MIME_TYPE = 'application/vnd.bokehjs_exec.v0+json';\n",
       "  var CLASS_NAME = 'output_bokeh rendered_html';\n",
       "\n",
       "  /**\n",
       "   * Render data to the DOM node\n",
       "   */\n",
       "  function render(props, node) {\n",
       "    var script = document.createElement(\"script\");\n",
       "    node.appendChild(script);\n",
       "  }\n",
       "\n",
       "  /**\n",
       "   * Handle when an output is cleared or removed\n",
       "   */\n",
       "  function handleClearOutput(event, handle) {\n",
       "    var cell = handle.cell;\n",
       "\n",
       "    var id = cell.output_area._bokeh_element_id;\n",
       "    var server_id = cell.output_area._bokeh_server_id;\n",
       "    // Clean up Bokeh references\n",
       "    if (id !== undefined) {\n",
       "      Bokeh.index[id].model.document.clear();\n",
       "      delete Bokeh.index[id];\n",
       "    }\n",
       "\n",
       "    if (server_id !== undefined) {\n",
       "      // Clean up Bokeh references\n",
       "      var cmd = \"from bokeh.io.state import curstate; print(curstate().uuid_to_server['\" + server_id + \"'].get_sessions()[0].document.roots[0]._id)\";\n",
       "      cell.notebook.kernel.execute(cmd, {\n",
       "        iopub: {\n",
       "          output: function(msg) {\n",
       "            var element_id = msg.content.text.trim();\n",
       "            Bokeh.index[element_id].model.document.clear();\n",
       "            delete Bokeh.index[element_id];\n",
       "          }\n",
       "        }\n",
       "      });\n",
       "      // Destroy server and session\n",
       "      var cmd = \"import bokeh.io.notebook as ion; ion.destroy_server('\" + server_id + \"')\";\n",
       "      cell.notebook.kernel.execute(cmd);\n",
       "    }\n",
       "  }\n",
       "\n",
       "  /**\n",
       "   * Handle when a new output is added\n",
       "   */\n",
       "  function handleAddOutput(event, handle) {\n",
       "    var output_area = handle.output_area;\n",
       "    var output = handle.output;\n",
       "\n",
       "    // limit handleAddOutput to display_data with EXEC_MIME_TYPE content only\n",
       "    if ((output.output_type != \"display_data\") || (!output.data.hasOwnProperty(EXEC_MIME_TYPE))) {\n",
       "      return\n",
       "    }\n",
       "\n",
       "    var toinsert = output_area.element.find(\".\" + CLASS_NAME.split(' ')[0]);\n",
       "\n",
       "    if (output.metadata[EXEC_MIME_TYPE][\"id\"] !== undefined) {\n",
       "      toinsert[toinsert.length - 1].firstChild.textContent = output.data[JS_MIME_TYPE];\n",
       "      // store reference to embed id on output_area\n",
       "      output_area._bokeh_element_id = output.metadata[EXEC_MIME_TYPE][\"id\"];\n",
       "    }\n",
       "    if (output.metadata[EXEC_MIME_TYPE][\"server_id\"] !== undefined) {\n",
       "      var bk_div = document.createElement(\"div\");\n",
       "      bk_div.innerHTML = output.data[HTML_MIME_TYPE];\n",
       "      var script_attrs = bk_div.children[0].attributes;\n",
       "      for (var i = 0; i < script_attrs.length; i++) {\n",
       "        toinsert[toinsert.length - 1].firstChild.setAttribute(script_attrs[i].name, script_attrs[i].value);\n",
       "      }\n",
       "      // store reference to server id on output_area\n",
       "      output_area._bokeh_server_id = output.metadata[EXEC_MIME_TYPE][\"server_id\"];\n",
       "    }\n",
       "  }\n",
       "\n",
       "  function register_renderer(events, OutputArea) {\n",
       "\n",
       "    function append_mime(data, metadata, element) {\n",
       "      // create a DOM node to render to\n",
       "      var toinsert = this.create_output_subarea(\n",
       "        metadata,\n",
       "        CLASS_NAME,\n",
       "        EXEC_MIME_TYPE\n",
       "      );\n",
       "      this.keyboard_manager.register_events(toinsert);\n",
       "      // Render to node\n",
       "      var props = {data: data, metadata: metadata[EXEC_MIME_TYPE]};\n",
       "      render(props, toinsert[toinsert.length - 1]);\n",
       "      element.append(toinsert);\n",
       "      return toinsert\n",
       "    }\n",
       "\n",
       "    /* Handle when an output is cleared or removed */\n",
       "    events.on('clear_output.CodeCell', handleClearOutput);\n",
       "    events.on('delete.Cell', handleClearOutput);\n",
       "\n",
       "    /* Handle when a new output is added */\n",
       "    events.on('output_added.OutputArea', handleAddOutput);\n",
       "\n",
       "    /**\n",
       "     * Register the mime type and append_mime function with output_area\n",
       "     */\n",
       "    OutputArea.prototype.register_mime_type(EXEC_MIME_TYPE, append_mime, {\n",
       "      /* Is output safe? */\n",
       "      safe: true,\n",
       "      /* Index of renderer in `output_area.display_order` */\n",
       "      index: 0\n",
       "    });\n",
       "  }\n",
       "\n",
       "  // register the mime type if in Jupyter Notebook environment and previously unregistered\n",
       "  if (root.Jupyter !== undefined) {\n",
       "    var events = require('base/js/events');\n",
       "    var OutputArea = require('notebook/js/outputarea').OutputArea;\n",
       "\n",
       "    if (OutputArea.prototype.mime_types().indexOf(EXEC_MIME_TYPE) == -1) {\n",
       "      register_renderer(events, OutputArea);\n",
       "    }\n",
       "  }\n",
       "\n",
       "  \n",
       "  if (typeof (root._bokeh_timeout) === \"undefined\" || force === true) {\n",
       "    root._bokeh_timeout = Date.now() + 5000;\n",
       "    root._bokeh_failed_load = false;\n",
       "  }\n",
       "\n",
       "  var NB_LOAD_WARNING = {'data': {'text/html':\n",
       "     \"<div style='background-color: #fdd'>\\n\"+\n",
       "     \"<p>\\n\"+\n",
       "     \"BokehJS does not appear to have successfully loaded. If loading BokehJS from CDN, this \\n\"+\n",
       "     \"may be due to a slow or bad network connection. Possible fixes:\\n\"+\n",
       "     \"</p>\\n\"+\n",
       "     \"<ul>\\n\"+\n",
       "     \"<li>re-rerun `output_notebook()` to attempt to load from CDN again, or</li>\\n\"+\n",
       "     \"<li>use INLINE resources instead, as so:</li>\\n\"+\n",
       "     \"</ul>\\n\"+\n",
       "     \"<code>\\n\"+\n",
       "     \"from bokeh.resources import INLINE\\n\"+\n",
       "     \"output_notebook(resources=INLINE)\\n\"+\n",
       "     \"</code>\\n\"+\n",
       "     \"</div>\"}};\n",
       "\n",
       "  function display_loaded() {\n",
       "    var el = document.getElementById(\"d9ede039-2056-4fd5-bf8a-bfc642290a47\");\n",
       "    if (el != null) {\n",
       "      el.textContent = \"BokehJS is loading...\";\n",
       "    }\n",
       "    if (root.Bokeh !== undefined) {\n",
       "      if (el != null) {\n",
       "        el.textContent = \"BokehJS \" + root.Bokeh.version + \" successfully loaded.\";\n",
       "      }\n",
       "    } else if (Date.now() < root._bokeh_timeout) {\n",
       "      setTimeout(display_loaded, 100)\n",
       "    }\n",
       "  }\n",
       "\n",
       "\n",
       "  function run_callbacks() {\n",
       "    try {\n",
       "      root._bokeh_onload_callbacks.forEach(function(callback) { callback() });\n",
       "    }\n",
       "    finally {\n",
       "      delete root._bokeh_onload_callbacks\n",
       "    }\n",
       "    console.info(\"Bokeh: all callbacks have finished\");\n",
       "  }\n",
       "\n",
       "  function load_libs(js_urls, callback) {\n",
       "    root._bokeh_onload_callbacks.push(callback);\n",
       "    if (root._bokeh_is_loading > 0) {\n",
       "      console.log(\"Bokeh: BokehJS is being loaded, scheduling callback at\", now());\n",
       "      return null;\n",
       "    }\n",
       "    if (js_urls == null || js_urls.length === 0) {\n",
       "      run_callbacks();\n",
       "      return null;\n",
       "    }\n",
       "    console.log(\"Bokeh: BokehJS not loaded, scheduling load and callback at\", now());\n",
       "    root._bokeh_is_loading = js_urls.length;\n",
       "    for (var i = 0; i < js_urls.length; i++) {\n",
       "      var url = js_urls[i];\n",
       "      var s = document.createElement('script');\n",
       "      s.src = url;\n",
       "      s.async = false;\n",
       "      s.onreadystatechange = s.onload = function() {\n",
       "        root._bokeh_is_loading--;\n",
       "        if (root._bokeh_is_loading === 0) {\n",
       "          console.log(\"Bokeh: all BokehJS libraries loaded\");\n",
       "          run_callbacks()\n",
       "        }\n",
       "      };\n",
       "      s.onerror = function() {\n",
       "        console.warn(\"failed to load library \" + url);\n",
       "      };\n",
       "      console.log(\"Bokeh: injecting script tag for BokehJS library: \", url);\n",
       "      document.getElementsByTagName(\"head\")[0].appendChild(s);\n",
       "    }\n",
       "  };var element = document.getElementById(\"d9ede039-2056-4fd5-bf8a-bfc642290a47\");\n",
       "  if (element == null) {\n",
       "    console.log(\"Bokeh: ERROR: autoload.js configured with elementid 'd9ede039-2056-4fd5-bf8a-bfc642290a47' but no matching script tag was found. \")\n",
       "    return false;\n",
       "  }\n",
       "\n",
       "  var js_urls = [\"https://cdn.pydata.org/bokeh/release/bokeh-0.12.16.min.js\", \"https://cdn.pydata.org/bokeh/release/bokeh-widgets-0.12.16.min.js\", \"https://cdn.pydata.org/bokeh/release/bokeh-tables-0.12.16.min.js\", \"https://cdn.pydata.org/bokeh/release/bokeh-gl-0.12.16.min.js\"];\n",
       "\n",
       "  var inline_js = [\n",
       "    function(Bokeh) {\n",
       "      Bokeh.set_log_level(\"info\");\n",
       "    },\n",
       "    \n",
       "    function(Bokeh) {\n",
       "      \n",
       "    },\n",
       "    function(Bokeh) {\n",
       "      console.log(\"Bokeh: injecting CSS: https://cdn.pydata.org/bokeh/release/bokeh-0.12.16.min.css\");\n",
       "      Bokeh.embed.inject_css(\"https://cdn.pydata.org/bokeh/release/bokeh-0.12.16.min.css\");\n",
       "      console.log(\"Bokeh: injecting CSS: https://cdn.pydata.org/bokeh/release/bokeh-widgets-0.12.16.min.css\");\n",
       "      Bokeh.embed.inject_css(\"https://cdn.pydata.org/bokeh/release/bokeh-widgets-0.12.16.min.css\");\n",
       "      console.log(\"Bokeh: injecting CSS: https://cdn.pydata.org/bokeh/release/bokeh-tables-0.12.16.min.css\");\n",
       "      Bokeh.embed.inject_css(\"https://cdn.pydata.org/bokeh/release/bokeh-tables-0.12.16.min.css\");\n",
       "    }\n",
       "  ];\n",
       "\n",
       "  function run_inline_js() {\n",
       "    \n",
       "    if ((root.Bokeh !== undefined) || (force === true)) {\n",
       "      for (var i = 0; i < inline_js.length; i++) {\n",
       "        inline_js[i].call(root, root.Bokeh);\n",
       "      }if (force === true) {\n",
       "        display_loaded();\n",
       "      }} else if (Date.now() < root._bokeh_timeout) {\n",
       "      setTimeout(run_inline_js, 100);\n",
       "    } else if (!root._bokeh_failed_load) {\n",
       "      console.log(\"Bokeh: BokehJS failed to load within specified timeout.\");\n",
       "      root._bokeh_failed_load = true;\n",
       "    } else if (force !== true) {\n",
       "      var cell = $(document.getElementById(\"d9ede039-2056-4fd5-bf8a-bfc642290a47\")).parents('.cell').data().cell;\n",
       "      cell.output_area.append_execute_result(NB_LOAD_WARNING)\n",
       "    }\n",
       "\n",
       "  }\n",
       "\n",
       "  if (root._bokeh_is_loading === 0) {\n",
       "    console.log(\"Bokeh: BokehJS loaded, going straight to plotting\");\n",
       "    run_inline_js();\n",
       "  } else {\n",
       "    load_libs(js_urls, function() {\n",
       "      console.log(\"Bokeh: BokehJS plotting callback run at\", now());\n",
       "      run_inline_js();\n",
       "    });\n",
       "  }\n",
       "}(window));"
      ],
      "application/vnd.bokehjs_load.v0+json": "\n(function(root) {\n  function now() {\n    return new Date();\n  }\n\n  var force = true;\n\n  if (typeof (root._bokeh_onload_callbacks) === \"undefined\" || force === true) {\n    root._bokeh_onload_callbacks = [];\n    root._bokeh_is_loading = undefined;\n  }\n\n  \n\n  \n  if (typeof (root._bokeh_timeout) === \"undefined\" || force === true) {\n    root._bokeh_timeout = Date.now() + 5000;\n    root._bokeh_failed_load = false;\n  }\n\n  var NB_LOAD_WARNING = {'data': {'text/html':\n     \"<div style='background-color: #fdd'>\\n\"+\n     \"<p>\\n\"+\n     \"BokehJS does not appear to have successfully loaded. If loading BokehJS from CDN, this \\n\"+\n     \"may be due to a slow or bad network connection. Possible fixes:\\n\"+\n     \"</p>\\n\"+\n     \"<ul>\\n\"+\n     \"<li>re-rerun `output_notebook()` to attempt to load from CDN again, or</li>\\n\"+\n     \"<li>use INLINE resources instead, as so:</li>\\n\"+\n     \"</ul>\\n\"+\n     \"<code>\\n\"+\n     \"from bokeh.resources import INLINE\\n\"+\n     \"output_notebook(resources=INLINE)\\n\"+\n     \"</code>\\n\"+\n     \"</div>\"}};\n\n  function display_loaded() {\n    var el = document.getElementById(\"d9ede039-2056-4fd5-bf8a-bfc642290a47\");\n    if (el != null) {\n      el.textContent = \"BokehJS is loading...\";\n    }\n    if (root.Bokeh !== undefined) {\n      if (el != null) {\n        el.textContent = \"BokehJS \" + root.Bokeh.version + \" successfully loaded.\";\n      }\n    } else if (Date.now() < root._bokeh_timeout) {\n      setTimeout(display_loaded, 100)\n    }\n  }\n\n\n  function run_callbacks() {\n    try {\n      root._bokeh_onload_callbacks.forEach(function(callback) { callback() });\n    }\n    finally {\n      delete root._bokeh_onload_callbacks\n    }\n    console.info(\"Bokeh: all callbacks have finished\");\n  }\n\n  function load_libs(js_urls, callback) {\n    root._bokeh_onload_callbacks.push(callback);\n    if (root._bokeh_is_loading > 0) {\n      console.log(\"Bokeh: BokehJS is being loaded, scheduling callback at\", now());\n      return null;\n    }\n    if (js_urls == null || js_urls.length === 0) {\n      run_callbacks();\n      return null;\n    }\n    console.log(\"Bokeh: BokehJS not loaded, scheduling load and callback at\", now());\n    root._bokeh_is_loading = js_urls.length;\n    for (var i = 0; i < js_urls.length; i++) {\n      var url = js_urls[i];\n      var s = document.createElement('script');\n      s.src = url;\n      s.async = false;\n      s.onreadystatechange = s.onload = function() {\n        root._bokeh_is_loading--;\n        if (root._bokeh_is_loading === 0) {\n          console.log(\"Bokeh: all BokehJS libraries loaded\");\n          run_callbacks()\n        }\n      };\n      s.onerror = function() {\n        console.warn(\"failed to load library \" + url);\n      };\n      console.log(\"Bokeh: injecting script tag for BokehJS library: \", url);\n      document.getElementsByTagName(\"head\")[0].appendChild(s);\n    }\n  };var element = document.getElementById(\"d9ede039-2056-4fd5-bf8a-bfc642290a47\");\n  if (element == null) {\n    console.log(\"Bokeh: ERROR: autoload.js configured with elementid 'd9ede039-2056-4fd5-bf8a-bfc642290a47' but no matching script tag was found. \")\n    return false;\n  }\n\n  var js_urls = [\"https://cdn.pydata.org/bokeh/release/bokeh-0.12.16.min.js\", \"https://cdn.pydata.org/bokeh/release/bokeh-widgets-0.12.16.min.js\", \"https://cdn.pydata.org/bokeh/release/bokeh-tables-0.12.16.min.js\", \"https://cdn.pydata.org/bokeh/release/bokeh-gl-0.12.16.min.js\"];\n\n  var inline_js = [\n    function(Bokeh) {\n      Bokeh.set_log_level(\"info\");\n    },\n    \n    function(Bokeh) {\n      \n    },\n    function(Bokeh) {\n      console.log(\"Bokeh: injecting CSS: https://cdn.pydata.org/bokeh/release/bokeh-0.12.16.min.css\");\n      Bokeh.embed.inject_css(\"https://cdn.pydata.org/bokeh/release/bokeh-0.12.16.min.css\");\n      console.log(\"Bokeh: injecting CSS: https://cdn.pydata.org/bokeh/release/bokeh-widgets-0.12.16.min.css\");\n      Bokeh.embed.inject_css(\"https://cdn.pydata.org/bokeh/release/bokeh-widgets-0.12.16.min.css\");\n      console.log(\"Bokeh: injecting CSS: https://cdn.pydata.org/bokeh/release/bokeh-tables-0.12.16.min.css\");\n      Bokeh.embed.inject_css(\"https://cdn.pydata.org/bokeh/release/bokeh-tables-0.12.16.min.css\");\n    }\n  ];\n\n  function run_inline_js() {\n    \n    if ((root.Bokeh !== undefined) || (force === true)) {\n      for (var i = 0; i < inline_js.length; i++) {\n        inline_js[i].call(root, root.Bokeh);\n      }if (force === true) {\n        display_loaded();\n      }} else if (Date.now() < root._bokeh_timeout) {\n      setTimeout(run_inline_js, 100);\n    } else if (!root._bokeh_failed_load) {\n      console.log(\"Bokeh: BokehJS failed to load within specified timeout.\");\n      root._bokeh_failed_load = true;\n    } else if (force !== true) {\n      var cell = $(document.getElementById(\"d9ede039-2056-4fd5-bf8a-bfc642290a47\")).parents('.cell').data().cell;\n      cell.output_area.append_execute_result(NB_LOAD_WARNING)\n    }\n\n  }\n\n  if (root._bokeh_is_loading === 0) {\n    console.log(\"Bokeh: BokehJS loaded, going straight to plotting\");\n    run_inline_js();\n  } else {\n    load_libs(js_urls, function() {\n      console.log(\"Bokeh: BokehJS plotting callback run at\", now());\n      run_inline_js();\n    });\n  }\n}(window));"
     },
     "metadata": {},
     "output_type": "display_data"
    }
   ],
   "source": [
    "output_notebook()"
   ]
  },
  {
   "cell_type": "code",
   "execution_count": 1103,
   "metadata": {
    "collapsed": true
   },
   "outputs": [],
   "source": [
    "'''\n",
    "Get the clirad-lw and lblnew `param`s for all spectral bands.  \n",
    "These are returned by functions `clirad_params_atm` and\n",
    "`lblnew_params_atm`, respectively.\n",
    "'''\n",
    "\n",
    "def molecules_byband_atm():\n",
    "    return {1: {'h2o': 'atmpro'},\n",
    "            2: {'h2o': 'atmpro'}, \n",
    "            3: {'co2': 0.0004, 'h2o': 'atmpro', 'n2o': 3.2e-07},\n",
    "            4: {'co2': 0.0004, 'h2o': 'atmpro'},\n",
    "            5: {'co2': 0.0004, 'h2o': 'atmpro'},\n",
    "            6: {'co2': 0.0004, 'h2o': 'atmpro'},\n",
    "            7: {'co2': 0.0004, 'h2o': 'atmpro', 'o3': 'atmpro'},\n",
    "            8: {'h2o': 'atmpro'},\n",
    "            9: {'ch4': 1.8e-06, 'h2o': 'atmpro', 'n2o': 3.2e-07},\n",
    "            10: {'h2o': 'atmpro'},\n",
    "            11: {'co2': 0.0004, 'h2o': 'atmpro'}}\n",
    "\n",
    "\n",
    "def greyabsorbers_by_band_atm():\n",
    "    return {1: {'con': 'atmpro'},\n",
    "            2: {'con': 'atmpro'},\n",
    "            3: {'con': 'atmpro'},\n",
    "            4: {'con': 'atmpro'},\n",
    "            5: {'con': 'atmpro'},\n",
    "            6: {'con': 'atmpro'}, \n",
    "            7: {'con': 'atmpro'},\n",
    "            8: {'con': 'atmpro', 'n2o': 3.2e-7}, \n",
    "            9: {'con': 'atmpro'}, \n",
    "            10: None,\n",
    "            11: None}\n",
    "\n",
    "\n",
    "def clirad_params_atm(atmpro='mls'):\n",
    "    d = {}\n",
    "    for band, molecule in molecules_byband_atm().items():\n",
    "        for param in setup_cliradlw.test_cases():\n",
    "            if [band] == param['band'] and molecule == param['molecule']:\n",
    "                param['atmpro'] = atmpro\n",
    "                d[band] = param\n",
    "                break                \n",
    "    return d\n",
    "\n",
    "\n",
    "def clirad_params_atm_singlerun(atmpro='mls'):\n",
    "    '''\n",
    "    Returns param of clirad-lw run that is equivalent to the total\n",
    "    of all the runs listed in molecules_byband_atm().  In order\n",
    "    for the output to be compatible with clirad_data_atm(), it will\n",
    "    be a list.\n",
    "    '''\n",
    "    param0 = {'band': [1, 2, 3, 4, 5, 6, 7, 8, 9, 10, 11],\n",
    "              'commitnumber': 'c0c1af6',\n",
    "              'molecule': {'ch4': 1.8e-06,\n",
    "                           'co2': 0.0004,\n",
    "                           'h2o': 'atmpro',\n",
    "                           'n2o': 3.2e-07,\n",
    "                           'o3': 'atmpro'}}\n",
    "    \n",
    "    d_atmpros = {'mls': 294, 'saw': 257, 'trp': 300}\n",
    "    \n",
    "    param = param0.copy()\n",
    "    param['atmpro'] = atmpro\n",
    "    param['tsfc'] = d_atmpros[atmpro]\n",
    "    \n",
    "    d = {}\n",
    "    d['all'] = param\n",
    "    return d\n",
    "\n",
    "\n",
    "def analysis_dirs_atm(atmpro='mls'):\n",
    "    params = clirad_params_atm(atmpro=atmpro)\n",
    "    return {band: pipe_cliradlw.get_analysis_dir(param=param,\n",
    "                                                 setup=setup_cliradlw) \n",
    "            for band, param in params.items()}\n",
    "\n",
    "\n",
    "def lblnew_params_atm(atmpro='mls'):\n",
    "    dirs = analysis_dirs_atm(atmpro=atmpro)\n",
    "    \n",
    "    d = {}\n",
    "    for band, dirname in dirs.items():\n",
    "        with open(os.path.join(dirname, 'param.py'), \n",
    "                  mode='r', encoding='utf-8') as f:\n",
    "            _, l = f.readlines()\n",
    "        \n",
    "        s = l.split('=')[1].strip()\n",
    "        d[band] = ast.literal_eval(s)\n",
    "        \n",
    "    return d\n"
   ]
  },
  {
   "cell_type": "code",
   "execution_count": 1104,
   "metadata": {
    "collapsed": true
   },
   "outputs": [],
   "source": [
    "def db_getdir():\n",
    "    atmpro = 'mls'\n",
    "    params = clirad_params_atm_singlerun(atmpro=atmpro)\n",
    "    param = params['all']\n",
    "    \n",
    "    fdir = pipe_cliradlw.get_fortran_dir(param=param, \n",
    "                                         setup=setup_cliradlw)\n",
    "    return fdir\n",
    "\n",
    "\n",
    "def db_ktable():\n",
    "    fdir = db_getdir()    \n",
    "    fpath = os.path.join(fdir, 'ktable.dat')\n",
    "    \n",
    "    df = pd.read_csv(fpath, sep=r'\\s+')\n",
    "    df = df.set_index(['band', 'mid', 'il', 'it', 'g'])\n",
    "    ds = xr.Dataset.from_dataframe(df)\n",
    "    return ds\n",
    "\n",
    "\n",
    "def db_ng_dgs():\n",
    "    fdir = db_getdir()\n",
    "    fpath = os.path.join(fdir, 'ng_dgs.dat')\n",
    "    \n",
    "    df = pd.read_csv(fpath, sep=r'\\s+')\n",
    "    df = df.set_index(['band', 'mid', 'g'])\n",
    "    ds = xr.Dataset.from_dataframe(df)\n",
    "    return ds\n"
   ]
  },
  {
   "cell_type": "code",
   "execution_count": 1105,
   "metadata": {
    "collapsed": true
   },
   "outputs": [],
   "source": [
    "def show_makeup():\n",
    "    df = pd.DataFrame()\n",
    "\n",
    "    for band, molecule in molecules_byband_atm().items():\n",
    "        for name, conc in molecule.items():\n",
    "            df.loc[name, band] = str(conc)\n",
    "\n",
    "    df = df.fillna(0)\n",
    "    df.columns.name = 'clirad band'\n",
    "    df.index.name = 'molecule'\n",
    "    \n",
    "    display.display(df)\n",
    "    \n",
    "    display.display(\n",
    "        display.Markdown('*TABLE.* Non-grey absorbers in the atmosphere.'))\n",
    "\n",
    "\n",
    "def show_grey_makeup():\n",
    "    df = pd.DataFrame()\n",
    "    \n",
    "    for band, molecule in greyabsorbers_by_band_atm().items():\n",
    "        if molecule == None:\n",
    "            pass\n",
    "        else:\n",
    "            for name, conc in molecule.items():\n",
    "                df.loc[name, band] = str(conc)\n",
    "                \n",
    "    df = df.fillna(0)\n",
    "    df.columns.name = 'clirad band'\n",
    "    df.index.name = 'absorber'\n",
    "    \n",
    "    display.display(df)\n",
    "    display.display(\n",
    "        display.Markdown('*TABLE.* Grey absorbers in the atmosphere.')\n",
    "    )"
   ]
  },
  {
   "cell_type": "code",
   "execution_count": 1106,
   "metadata": {
    "collapsed": true
   },
   "outputs": [],
   "source": [
    "def load_output_file(path_csv):\n",
    "    '''\n",
    "    Load lblnew output .csv file to xarray.Dataset\n",
    "    \n",
    "    Parameters\n",
    "    ----------\n",
    "    path_csv: str\n",
    "              Path to the .csv file to be loaded.\n",
    "    ds: xarray.Dataset\n",
    "        Data in the input file in the form of an xarray.Dataset.\n",
    "    '''\n",
    "    toindex = ['band', 'pressure', 'igg', 'g']    \n",
    "    df = pd.read_csv(path_csv, sep=r'\\s+')\n",
    "    df = df.set_index([i for i in toindex if i in df.columns])\n",
    "    df = df.rename(columns={'sfu': 'flug',\n",
    "                            'sfd': 'fldg',\n",
    "                            'fnet': 'fnetg',\n",
    "                            'coolr': 'coolrg'})\n",
    "    ds = xr.Dataset.from_dataframe(df)\n",
    "\n",
    "    for l in ('level', 'layer'):\n",
    "        if l in ds.data_vars:\n",
    "            if len(ds[l].dims) > 1:\n",
    "                surface = {d: 0 for d in ds.dims if d != 'pressure'}\n",
    "                coord_level = ds[l][surface]\n",
    "                ds.coords[l] = ('pressure', coord_level)\n",
    "            else:\n",
    "                ds.coords[l] = ('pressure', ds[l])\n",
    "    \n",
    "    return ds"
   ]
  },
  {
   "cell_type": "code",
   "execution_count": 1107,
   "metadata": {
    "collapsed": true
   },
   "outputs": [],
   "source": [
    "def lblnew_setup(param=None):\n",
    "    if 'ng_refs' in param:\n",
    "        return {'setup': setup_bestfit,\n",
    "                'fname_flux_crd': 'output_flux.dat',\n",
    "                'fname_cool_crd': 'output_coolr.dat',\n",
    "                'fname_flux_wgt': 'output_wfluxg.dat',\n",
    "                'fname_cool_wgt': 'output_wcoolrg.dat'}\n",
    "    else:\n",
    "        return {'setup': setup_overlap,\n",
    "                'fname_flux_crd': 'output_flux.dat',\n",
    "                'fname_cool_crd': 'output_coolr.dat',\n",
    "                'fname_flux_wgt': 'output_wflux.dat',\n",
    "                'fname_cool_wgt': 'output_wcoolr.dat'}\n",
    "\n",
    "    \n",
    "def load_lblnew_data(param):\n",
    "    \n",
    "    fname_dsname = [('fname_flux_crd', 'ds_flux_crd'),\n",
    "                    ('fname_cool_crd', 'ds_cool_crd'),\n",
    "                    ('fname_flux_wgt', 'ds_flux_wgt'),\n",
    "                    ('fname_cool_wgt', 'ds_cool_wgt')]\n",
    "    \n",
    "    d = lblnew_setup(param)\n",
    "    dir_fortran = pipe_lblnew.get_dir_case(param, setup=d['setup'])\n",
    "    \n",
    "    data_dict = {}\n",
    "    for fname, dsname in fname_dsname:\n",
    "        fpath = os.path.join(dir_fortran, d[fname])\n",
    "        data_dict[dsname] = load_output_file(fpath)\n",
    "    return data_dict"
   ]
  },
  {
   "cell_type": "code",
   "execution_count": 1108,
   "metadata": {
    "collapsed": true
   },
   "outputs": [],
   "source": [
    "def crd_data_atm(params_atm):\n",
    "    '''\n",
    "    Parameters\n",
    "    ----------\n",
    "    \n",
    "    params_atm: dict\n",
    "                Parameter dictionary for each band.\n",
    "                \n",
    "    d: dict\n",
    "       'flux': xr.Dataset. [pressure, band]\n",
    "               Fluxes.\n",
    "       'cool': xr.Dataset. [pressure, band]\n",
    "               Cooling rate.\n",
    "    \n",
    "    '''\n",
    "    \n",
    "    results_atm = {band: load_lblnew_data(param) \n",
    "                   for band, param in params_atm.items()}\n",
    "    \n",
    "    bands = [band for band, _ in params_atm.items()]\n",
    "    fluxs = [d['ds_flux_crd'] for _, d in results_atm.items()]\n",
    "    cools = [d['ds_cool_crd'] for _, d in results_atm.items()]\n",
    "    \n",
    "    d = {}\n",
    "    d['flux'] = xr.concat(fluxs, dim=bands).rename({'concat_dim': 'band'})\n",
    "    d['cool'] = xr.concat(cools, dim=bands).rename({'concat_dim': 'band'})\n",
    "    return d        \n",
    "        \n",
    "        \n",
    "\n",
    "def clirad_data_atm(params_atm):\n",
    "    \n",
    "    dirnames = [pipe_cliradlw.get_fortran_dir(param,\n",
    "                                              setup=setup_cliradlw)\n",
    "                for _, param in params_atm.items()]\n",
    "    \n",
    "    fpaths_flux = [os.path.join(n, 'output_flux.dat') for n in dirnames]\n",
    "    fpaths_cool = [os.path.join(n, 'output_coolr.dat') for n in dirnames]\n",
    "    \n",
    "    fluxs = [load_output_file(p) for p in fpaths_flux]    \n",
    "    cools = [load_output_file(p) for p in fpaths_cool]\n",
    "    \n",
    "    d = {}\n",
    "    d['flux'] = sum(fluxs)\n",
    "    d['cool'] = sum(cools)\n",
    "    return d\n",
    "\n"
   ]
  },
  {
   "cell_type": "code",
   "execution_count": 1109,
   "metadata": {
    "collapsed": true
   },
   "outputs": [],
   "source": [
    "\n",
    "\n",
    "import rtmtools.clirad.sw.wrangle as cliradwrangle\n",
    "\n",
    "import importlib\n",
    "importlib.reload(cliradwrangle)\n",
    "\n",
    "def oldclirad_data_atm():\n",
    "    '''\n",
    "    Load the OLD clirad's results. mls only.\n",
    "    '''\n",
    "    fpath = os.path.join('/chia_cluster/home/jackyu/radiation',\n",
    "                         'clirad-lw',\n",
    "                         'LW',\n",
    "                         'examples',\n",
    "                         'mls75_h2o_atmpro_co2_.0004_o3_atmpro_n2o_3.2e-7_ch4_1.8e-6_H2012',\n",
    "                         'OUTPUT_CLIRAD.dat')\n",
    "    \n",
    "    ds = cliradwrangle.load_OUTPUT_CLIRAD(readfrom=fpath)\n",
    "    \n",
    "    ds_cool = xr.Dataset()\n",
    "    ds_cool.coords['pressure'] = ('pressure', ds['layer_pressure'])\n",
    "    ds_cool.coords['band'] = ('band', ds['spectral_band'])\n",
    "    ds_cool['coolrg'] = (('band', 'pressure'), - ds['heating_rate'])\n",
    "    \n",
    "    ds_flux = xr.Dataset()\n",
    "    ds_flux.coords['pressure'] = ('pressure', ds['level_pressure'])\n",
    "    ds_flux.coords['band'] = ('band', ds['spectral_band'])\n",
    "    ds_flux['flug'] = (('band', 'pressure'), ds['flux_up'])\n",
    "    ds_flux['fldg'] = (('band', 'pressure'), ds['flux_down'])\n",
    "    ds_flux['fnetg'] = (('band', 'pressure'), ds['net_flux'])\n",
    "    \n",
    "    \n",
    "    d = {}\n",
    "    d['cool'] = ds_cool\n",
    "    d['flux'] = ds_flux\n",
    "    return d\n"
   ]
  },
  {
   "cell_type": "code",
   "execution_count": 1110,
   "metadata": {
    "collapsed": true
   },
   "outputs": [],
   "source": [
    "def fmt_cool(ds_in):\n",
    "    ds = ds_in.copy(deep=True)\n",
    "    if 'igg' in ds.dims:\n",
    "        ds = ds.sel(igg=1)\n",
    "\n",
    "    if 'g' in ds.dims:\n",
    "        ds = ds.sum('g')\n",
    "            \n",
    "    if 'band' in ds.dims:\n",
    "        try:\n",
    "            ds = ds.squeeze('band')\n",
    "        except ValueError:\n",
    "            ds = ds.sum('band')\n",
    "                \n",
    "    return ds['coolrg']\n",
    "\n",
    "\n",
    "\n",
    "def nice_xlims(pltdata=None, prange=None):\n",
    "    \n",
    "    def get_slice(srs):\n",
    "        return srs.sel(pressure=slice(*prange))\n",
    "    \n",
    "    srss = [d['srs'] for d in pltdata]\n",
    "    vmin = min([get_slice(srs).min() for srs in srss])\n",
    "    vmax = max([get_slice(srs).max() for srs in srss])\n",
    "    dv = (vmax - vmin) * .01\n",
    "    return float(vmin - dv), float(vmax + dv)\n",
    "\n",
    "\n",
    "    \n",
    "def plt_cool_bokeh(pltdata=None, \n",
    "                   y_axis_type='linear', prange=(50, 1050)):\n",
    "    \n",
    "    ymin = 1e-2 \n",
    "    ymax = 1020\n",
    "    \n",
    "    p2 = figure(y_axis_type=y_axis_type, plot_width=300)\n",
    "    xmin, xmax = nice_xlims(pltdata, prange=prange)\n",
    "    \n",
    "    rs = []\n",
    "    for d in pltdata:\n",
    "        rd = []\n",
    "        if 'marker' in d:\n",
    "            r_mark = getattr(p2, d['marker'])(d['srs'].values, \n",
    "                        d['srs'].coords['pressure'].values,\n",
    "                        color=d['color'], alpha=.7)\n",
    "            rd.append(r_mark)\n",
    "        r_line = p2.line(d['srs'].values, \n",
    "                         d['srs'].coords['pressure'].values,\n",
    "                         color=d['color'], alpha=d['alpha'], \n",
    "                         line_width=d['line_width'], \n",
    "                         line_dash=d['line_dash'])\n",
    "        rd.append(r_line)\n",
    "      \n",
    "        rs.append(rd)\n",
    "        \n",
    "    p2.y_range = Range1d(ymax, ymin)  \n",
    "    p2.yaxis.axis_label = 'pressure [mb]'\n",
    "    \n",
    "    p2.x_range = Range1d(xmin, xmax)\n",
    "    p2.xaxis.axis_label = 'cooling rate [K/day]'\n",
    "    \n",
    "    items = [(d['label'], r) for r, d in zip(rs, pltdata)]\n",
    "    legend = Legend(items=items, location=(10, 0))\n",
    "    legend.label_text_font_size = '8pt'\n",
    "    p2.add_layout(legend, 'above')\n",
    "    p2.legend.orientation = 'horizontal'\n",
    "    p2.legend.location = 'top_center'\n",
    "    \n",
    "    return p2"
   ]
  },
  {
   "cell_type": "code",
   "execution_count": 1111,
   "metadata": {
    "collapsed": true
   },
   "outputs": [],
   "source": [
    "def pltdata_cool(atmpro='mls'):\n",
    "    \n",
    "    d_clirad_singlerun = clirad_data_atm(\n",
    "        clirad_params_atm_singlerun(atmpro=atmpro))\n",
    "    d_clirad = clirad_data_atm(clirad_params_atm(atmpro=atmpro))\n",
    "    d_crd = crd_data_atm(lblnew_params_atm(atmpro=atmpro))\n",
    "\n",
    "    ds_clirad_singlerun = d_clirad_singlerun['cool']\n",
    "    ds_clirad = d_clirad['cool']\n",
    "    ds_crd = d_crd['cool']\n",
    "\n",
    "    colors = all_palettes['Set1'][4]\n",
    "    \n",
    "    data = [\n",
    "        {'label': 'CLIRAD (single-run)',\n",
    "        'srs': fmt_cool(ds_clirad_singlerun),\n",
    "        'line_dash': 'dashed', 'line_width': 5,\n",
    "        'color': colors[1], 'alpha': .6},\n",
    "        {'label': 'CRD',\n",
    "         'srs': fmt_cool(ds_crd),\n",
    "         'line_dash': 'solid', 'line_width': 1.5,\n",
    "         'marker': 'circle', 'marker_size': 5,\n",
    "         'color': colors[2], 'alpha': 1}\n",
    "    ]\n",
    "#        {'label': 'CLIRAD',\n",
    "#         'srs': fmt_cool(ds_clirad),\n",
    "#         'line_dash': 'dashed', 'line_width': 5,\n",
    "#         'color': colors[0], 'alpha': .6}\n",
    "        \n",
    "\n",
    "    \n",
    "    # include old CLIRAD's results for mls profile\n",
    "    if atmpro == 'mls':\n",
    "        d_oldclirad = oldclirad_data_atm()\n",
    "        ds_oldclirad = d_oldclirad['cool']        \n",
    "        data.append(\n",
    "            {'label': 'old CLIRAD (H2012)',\n",
    "             'srs': fmt_cool(ds_oldclirad),\n",
    "             'line_dash': 'solid', 'line_width': 1.5,\n",
    "             'marker': 'square', 'marker_size': 3,\n",
    "             'color': colors[3], 'alpha': .5})\n",
    "    return data\n",
    "\n",
    "\n",
    "def pltdata_cooldiff(atmpro='mls'):\n",
    "    \n",
    "    d_clirad_singlerun = clirad_data_atm(\n",
    "        clirad_params_atm_singlerun(atmpro=atmpro))\n",
    "    d_clirad = clirad_data_atm(clirad_params_atm(atmpro=atmpro))\n",
    "    d_crd = crd_data_atm(lblnew_params_atm(atmpro=atmpro))\n",
    "    \n",
    "    ds_clirad_singlerun = d_clirad_singlerun['cool']\n",
    "    ds_clirad = d_clirad['cool']\n",
    "    ds_crd = d_crd['cool']\n",
    "    \n",
    "    ds_diff = ds_clirad_singlerun - ds_crd\n",
    "    \n",
    "    colors = all_palettes['Set1'][4]\n",
    "    \n",
    "    data = [\n",
    "        {'label': 'CLIRAD (single-run) - CRD',\n",
    "         'srs': fmt_cool(ds_diff),\n",
    "         'line_dash': 'solid', 'line_width': 1.5, \n",
    "         'marker': 'circle', 'marker_size': 7,\n",
    "         'color': colors[3], 'alpha': .8}\n",
    "    ]\n",
    "    \n",
    "    # include old CLIRAD's results for mls profile\n",
    "    if atmpro == 'mls':\n",
    "        d_oldclirad = oldclirad_data_atm()\n",
    "        ds_oldclirad = d_oldclirad['cool']\n",
    "        ds_oldclirad.coords['pressure'] = ds_crd.coords['pressure']\n",
    "        ds_diff_old = ds_oldclirad.sum('band') - ds_crd.sum('band')\n",
    "        data.append(\n",
    "            {'label': 'old CLIRAD (H2012) - CRD',\n",
    "             'srs': fmt_cool(ds_diff_old),\n",
    "             'line_dash': 'dashed', 'line_width': 4,\n",
    "             'color': colors[1], 'alpha': .5}\n",
    "        )\n",
    "    return data\n",
    "\n",
    "\n",
    "def show_cool(atmpro='mls'):\n",
    "    \n",
    "    data_cool = pltdata_cool(atmpro=atmpro)\n",
    "    p_cool_liny = plt_cool_bokeh(pltdata=data_cool)\n",
    "    p_cool_logy = plt_cool_bokeh(pltdata=data_cool, \n",
    "                                 y_axis_type='log',\n",
    "                                 prange=(.01, 200))\n",
    "    \n",
    "    data_cooldiff = pltdata_cooldiff(atmpro=atmpro)\n",
    "    p_cooldiff_logy = plt_cool_bokeh(pltdata=data_cooldiff,\n",
    "                                     y_axis_type='log',\n",
    "                                     prange=(.01, 200))\n",
    "    \n",
    "    everything = gridplot(p_cool_liny, p_cool_logy, \n",
    "                          p_cooldiff_logy,\n",
    "                          ncols=3)\n",
    "    show(everything)\n",
    "    display.display(\n",
    "        display.Markdown('*FIGURE.* Cooling rates & difference.'))\n",
    "\n",
    "\n",
    "    "
   ]
  },
  {
   "cell_type": "code",
   "execution_count": null,
   "metadata": {
    "collapsed": true
   },
   "outputs": [],
   "source": []
  },
  {
   "cell_type": "code",
   "execution_count": 1112,
   "metadata": {
    "collapsed": true,
    "scrolled": false
   },
   "outputs": [],
   "source": [
    "\n",
    "\n",
    "def hist_band_vs_flux(da, title='Title'):\n",
    "       \n",
    "    bands = [str(b.values) for b in da['band']]\n",
    "\n",
    "    source = ColumnDataSource(\n",
    "        data={'band': bands, 'flux': da.values})\n",
    "\n",
    "    p = figure(x_range=bands, title=title)\n",
    "    p.vbar(source=source, x='band', top='flux', width=.9)\n",
    "\n",
    "    p.yaxis.axis_label = 'flux (W m-2)'\n",
    "    p.xaxis.axis_label = 'spectral band'\n",
    "    \n",
    "    return p\n",
    "\n",
    "\n",
    "def show_hist_flux(atmpro='mls'):\n",
    "    ds_crd = crd_data_atm(lblnew_params_atm(atmpro=atmpro))['flux']\n",
    "    ds_clirad = clirad_data_atm(\n",
    "        clirad_params_atm(atmpro=atmpro))['flux']\n",
    "    ds_clirad_singlerun = clirad_data_atm(\n",
    "        clirad_params_atm_singlerun(atmpro=atmpro))['flux']\n",
    "    \n",
    "    ip, varname = 0, 'flug'\n",
    "    da = (ds_clirad_singlerun - ds_crd).isel(pressure=ip)[varname]\n",
    "    p_toa = hist_band_vs_flux(da, \n",
    "        title='TOA flux. CLIRAD (single-run) - CRD.')\n",
    "\n",
    "    ip, varname = -1, 'fldg'\n",
    "    da = (ds_clirad_singlerun - ds_crd).isel(pressure=ip)[varname]\n",
    "    p_sfc = hist_band_vs_flux(da, \n",
    "        title='SFC flux. CLIRAD (single-run) - CRD.')    \n",
    "    \n",
    "    atm_crd = (ds_crd.isel(pressure=0) \n",
    "               - ds_crd.isel(pressure=-1))['fnetg']\n",
    "    atm_clirad_singlerun = (ds_clirad_singlerun.isel(pressure=0) \n",
    "                  - ds_clirad_singlerun.isel(pressure=-1))['fnetg']\n",
    "    da = atm_clirad_singlerun - atm_crd\n",
    "    p_atm = hist_band_vs_flux(da, \n",
    "        title='Atmosphere heating. CLIRAD (single-run) - CRD.')\n",
    "\n",
    "    everything = gridplot(p_toa, p_sfc, p_atm, ncols=3, \n",
    "                          plot_width=300, plot_height=300)\n",
    "    \n",
    "    show(everything)\n",
    "    display.display(\n",
    "        display.Markdown('*FIGURE.* Difference between CLIRAD and CRD'\n",
    "          ' in TOA, SFC and net atmosphere flux,'\n",
    "          ' in each spectral band.'))\n",
    "\n",
    "\n",
    "    \n",
    "def show_tb_flux(atmpro='mls'):\n",
    "    \n",
    "    def fmt(da_in):\n",
    "        da = da_in.copy(deep=True)\n",
    "        if 'igg' in da.dims:\n",
    "            da = da.sel(igg=1)\n",
    "            \n",
    "        if 'g' in da.dims:\n",
    "            da = da.sum('g')\n",
    "        \n",
    "        if 'band' in da.dims:\n",
    "            try:\n",
    "                da = da.squeeze('band')\n",
    "            except ValueError:\n",
    "                da = da.sum('band')\n",
    "                \n",
    "        return da\n",
    "    \n",
    "    ds_crd = crd_data_atm(lblnew_params_atm(atmpro=atmpro))['flux']\n",
    "    olr_crd = ds_crd['flug'].isel(pressure=0)\n",
    "    sfc_crd = ds_crd['fldg'].isel(pressure=-1)\n",
    "    atm_crd = (ds_crd.isel(pressure=0)\n",
    "               - ds_crd.isel(pressure=-1))['fnetg']\n",
    "    \n",
    "    ds_clirad = clirad_data_atm(\n",
    "        clirad_params_atm(atmpro=atmpro))['flux']\n",
    "    olr_clirad = ds_clirad['flug'].isel(pressure=0)\n",
    "    sfc_clirad = ds_clirad['fldg'].isel(pressure=-1)\n",
    "    atm_clirad = (ds_clirad.isel(pressure=0)\n",
    "                  - ds_clirad.isel(pressure=-1))['fnetg']\n",
    "\n",
    "    ds_clirad_singlerun = clirad_data_atm(\n",
    "        clirad_params_atm_singlerun(atmpro=atmpro))['flux']\n",
    "    olr_clirad_singlerun = ds_clirad_singlerun['flug'].isel(pressure=0)\n",
    "    sfc_clirad_singlerun = ds_clirad_singlerun['fldg'].isel(pressure=-1)\n",
    "    atm_clirad_singlerun = (ds_clirad_singlerun.isel(pressure=0)\n",
    "                  - ds_clirad_singlerun.isel(pressure=-1))['fnetg']\n",
    "    \n",
    "    if atmpro == 'mls':\n",
    "        ds_oldclirad = oldclirad_data_atm()['flux']\n",
    "        ds_oldclirad['pressure'] = ds_crd['pressure']\n",
    "        olr_oldclirad = ds_oldclirad['flug'].isel(pressure=0)\n",
    "        sfc_oldclirad = ds_oldclirad['fldg'].isel(pressure=-1)\n",
    "        atm_oldclirad = (ds_oldclirad.isel(pressure=0)\n",
    "                         - ds_oldclirad.isel(pressure=-1))['fnetg']\n",
    "        \n",
    "    \n",
    "    \n",
    "    df = pd.DataFrame()\n",
    "    df.index.name = 'Sum over bands'\n",
    "    \n",
    "    if atmpro == 'mls':\n",
    "        df.loc['old CLIRAD - CRD', \n",
    "               'OLR flux'] = (fmt(olr_oldclirad)\n",
    "                              - fmt(olr_crd)).values\n",
    "        df.loc['old CLIRAD - CRD', \n",
    "               'SFC flux'] = (fmt(sfc_oldclirad)\n",
    "                              - fmt(sfc_crd)).values\n",
    "        df.loc['old CLIRAD - CRD', \n",
    "               'ATM heating'] = (fmt(atm_oldclirad)\n",
    "                                 - fmt(atm_crd)).values\n",
    "    \n",
    "    df.loc['CLIRAD (single-run) - CRD', \n",
    "           'OLR flux'] = (fmt(olr_clirad_singlerun) \n",
    "                          - fmt(olr_crd)).values\n",
    "    df.loc['CLIRAD (single-run) - CRD', \n",
    "           'SFC flux'] = (fmt(sfc_clirad_singlerun) \n",
    "                          - fmt(sfc_crd)).values\n",
    "    df.loc['CLIRAD (single-run) - CRD', \n",
    "           'ATM heating'] = (fmt(atm_clirad_singlerun) \n",
    "                             - fmt(atm_crd)).values\n",
    "\n",
    "    df.loc['CRD', 'OLR flux'] = fmt(olr_crd).values\n",
    "    df.loc['CRD', 'SFC flux'] = fmt(sfc_crd).values\n",
    "    df.loc['CRD', 'ATM heating'] = fmt(atm_crd).values\n",
    "        \n",
    "    df = df.astype('float').round(2)\n",
    "    \n",
    "    display.display(df)\n",
    "    display.display(\n",
    "        display.Markdown('*TABLE.* Difference between CLIRAD and CRD'\n",
    "          ' in TOA, SFC and net atmosphere flux,'\n",
    "          ' over all spectral bands. CRD\\'s'\n",
    "          ' TOA, SFC and net atmosphere flux,'\n",
    "          ' over all spectral bands.'))\n"
   ]
  },
  {
   "cell_type": "code",
   "execution_count": 1113,
   "metadata": {
    "scrolled": false
   },
   "outputs": [
    {
     "data": {
      "text/markdown": [
       "## Results over entire range of molecules and spectral bands"
      ],
      "text/plain": [
       "<IPython.core.display.Markdown object>"
      ]
     },
     "metadata": {},
     "output_type": "display_data"
    },
    {
     "data": {
      "text/markdown": [
       "### Table of Contents"
      ],
      "text/plain": [
       "<IPython.core.display.Markdown object>"
      ]
     },
     "metadata": {},
     "output_type": "display_data"
    },
    {
     "data": {
      "text/html": [
       "<a href=\"#Makeup_of_atmosphere.\">Makeup of atmosphere.</a>"
      ],
      "text/plain": [
       "<IPython.core.display.HTML object>"
      ]
     },
     "metadata": {},
     "output_type": "display_data"
    },
    {
     "data": {
      "text/markdown": [
       "**mid-latitude summer**"
      ],
      "text/plain": [
       "<IPython.core.display.Markdown object>"
      ]
     },
     "metadata": {},
     "output_type": "display_data"
    },
    {
     "data": {
      "text/html": [
       "<a href=\"#Cooling_rates._mls.\">Cooling rates. mls.</a>"
      ],
      "text/plain": [
       "<IPython.core.display.HTML object>"
      ]
     },
     "metadata": {},
     "output_type": "display_data"
    },
    {
     "data": {
      "text/html": [
       "<a href=\"#Fluxes._mls.\">Fluxes. mls.</a>"
      ],
      "text/plain": [
       "<IPython.core.display.HTML object>"
      ]
     },
     "metadata": {},
     "output_type": "display_data"
    },
    {
     "data": {
      "text/markdown": [
       "**sub-arctic winter**"
      ],
      "text/plain": [
       "<IPython.core.display.Markdown object>"
      ]
     },
     "metadata": {},
     "output_type": "display_data"
    },
    {
     "data": {
      "text/html": [
       "<a href=\"#Cooling_rates._saw.\">Cooling rates. saw.</a>"
      ],
      "text/plain": [
       "<IPython.core.display.HTML object>"
      ]
     },
     "metadata": {},
     "output_type": "display_data"
    },
    {
     "data": {
      "text/html": [
       "<a href=\"#Fluxes._saw.\">Fluxes. saw.</a>"
      ],
      "text/plain": [
       "<IPython.core.display.HTML object>"
      ]
     },
     "metadata": {},
     "output_type": "display_data"
    },
    {
     "data": {
      "text/markdown": [
       "**tropical**"
      ],
      "text/plain": [
       "<IPython.core.display.Markdown object>"
      ]
     },
     "metadata": {},
     "output_type": "display_data"
    },
    {
     "data": {
      "text/html": [
       "<a href=\"#Cooling_rates._trp.\">Cooling rates. trp.</a>"
      ],
      "text/plain": [
       "<IPython.core.display.HTML object>"
      ]
     },
     "metadata": {},
     "output_type": "display_data"
    },
    {
     "data": {
      "text/html": [
       "<a href=\"#Fluxes._trp.\">Fluxes. trp.</a>"
      ],
      "text/plain": [
       "<IPython.core.display.HTML object>"
      ]
     },
     "metadata": {},
     "output_type": "display_data"
    },
    {
     "data": {
      "text/html": [
       "<a id=\"Makeup_of_atmosphere.\"></a>"
      ],
      "text/plain": [
       "<IPython.core.display.HTML object>"
      ]
     },
     "metadata": {},
     "output_type": "display_data"
    },
    {
     "data": {
      "text/markdown": [
       "# Makeup of atmosphere."
      ],
      "text/plain": [
       "<IPython.core.display.Markdown object>"
      ]
     },
     "metadata": {},
     "output_type": "display_data"
    },
    {
     "data": {
      "text/html": [
       "<div>\n",
       "<style scoped>\n",
       "    .dataframe tbody tr th:only-of-type {\n",
       "        vertical-align: middle;\n",
       "    }\n",
       "\n",
       "    .dataframe tbody tr th {\n",
       "        vertical-align: top;\n",
       "    }\n",
       "\n",
       "    .dataframe thead th {\n",
       "        text-align: right;\n",
       "    }\n",
       "</style>\n",
       "<table border=\"1\" class=\"dataframe\">\n",
       "  <thead>\n",
       "    <tr style=\"text-align: right;\">\n",
       "      <th>clirad band</th>\n",
       "      <th>1</th>\n",
       "      <th>2</th>\n",
       "      <th>3</th>\n",
       "      <th>4</th>\n",
       "      <th>5</th>\n",
       "      <th>6</th>\n",
       "      <th>7</th>\n",
       "      <th>8</th>\n",
       "      <th>9</th>\n",
       "      <th>10</th>\n",
       "      <th>11</th>\n",
       "    </tr>\n",
       "    <tr>\n",
       "      <th>molecule</th>\n",
       "      <th></th>\n",
       "      <th></th>\n",
       "      <th></th>\n",
       "      <th></th>\n",
       "      <th></th>\n",
       "      <th></th>\n",
       "      <th></th>\n",
       "      <th></th>\n",
       "      <th></th>\n",
       "      <th></th>\n",
       "      <th></th>\n",
       "    </tr>\n",
       "  </thead>\n",
       "  <tbody>\n",
       "    <tr>\n",
       "      <th>h2o</th>\n",
       "      <td>atmpro</td>\n",
       "      <td>atmpro</td>\n",
       "      <td>atmpro</td>\n",
       "      <td>atmpro</td>\n",
       "      <td>atmpro</td>\n",
       "      <td>atmpro</td>\n",
       "      <td>atmpro</td>\n",
       "      <td>atmpro</td>\n",
       "      <td>atmpro</td>\n",
       "      <td>atmpro</td>\n",
       "      <td>atmpro</td>\n",
       "    </tr>\n",
       "    <tr>\n",
       "      <th>co2</th>\n",
       "      <td>0</td>\n",
       "      <td>0</td>\n",
       "      <td>0.0004</td>\n",
       "      <td>0.0004</td>\n",
       "      <td>0.0004</td>\n",
       "      <td>0.0004</td>\n",
       "      <td>0.0004</td>\n",
       "      <td>0</td>\n",
       "      <td>0</td>\n",
       "      <td>0</td>\n",
       "      <td>0.0004</td>\n",
       "    </tr>\n",
       "    <tr>\n",
       "      <th>n2o</th>\n",
       "      <td>0</td>\n",
       "      <td>0</td>\n",
       "      <td>3.2e-07</td>\n",
       "      <td>0</td>\n",
       "      <td>0</td>\n",
       "      <td>0</td>\n",
       "      <td>0</td>\n",
       "      <td>0</td>\n",
       "      <td>3.2e-07</td>\n",
       "      <td>0</td>\n",
       "      <td>0</td>\n",
       "    </tr>\n",
       "    <tr>\n",
       "      <th>o3</th>\n",
       "      <td>0</td>\n",
       "      <td>0</td>\n",
       "      <td>0</td>\n",
       "      <td>0</td>\n",
       "      <td>0</td>\n",
       "      <td>0</td>\n",
       "      <td>atmpro</td>\n",
       "      <td>0</td>\n",
       "      <td>0</td>\n",
       "      <td>0</td>\n",
       "      <td>0</td>\n",
       "    </tr>\n",
       "    <tr>\n",
       "      <th>ch4</th>\n",
       "      <td>0</td>\n",
       "      <td>0</td>\n",
       "      <td>0</td>\n",
       "      <td>0</td>\n",
       "      <td>0</td>\n",
       "      <td>0</td>\n",
       "      <td>0</td>\n",
       "      <td>0</td>\n",
       "      <td>1.8e-06</td>\n",
       "      <td>0</td>\n",
       "      <td>0</td>\n",
       "    </tr>\n",
       "  </tbody>\n",
       "</table>\n",
       "</div>"
      ],
      "text/plain": [
       "clirad band      1       2        3       4       5       6       7       8   \\\n",
       "molecule                                                                       \n",
       "h2o          atmpro  atmpro   atmpro  atmpro  atmpro  atmpro  atmpro  atmpro   \n",
       "co2               0       0   0.0004  0.0004  0.0004  0.0004  0.0004       0   \n",
       "n2o               0       0  3.2e-07       0       0       0       0       0   \n",
       "o3                0       0        0       0       0       0  atmpro       0   \n",
       "ch4               0       0        0       0       0       0       0       0   \n",
       "\n",
       "clirad band       9       10      11  \n",
       "molecule                              \n",
       "h2o           atmpro  atmpro  atmpro  \n",
       "co2                0       0  0.0004  \n",
       "n2o          3.2e-07       0       0  \n",
       "o3                 0       0       0  \n",
       "ch4          1.8e-06       0       0  "
      ]
     },
     "metadata": {},
     "output_type": "display_data"
    },
    {
     "data": {
      "text/markdown": [
       "*TABLE.* Non-grey absorbers in the atmosphere."
      ],
      "text/plain": [
       "<IPython.core.display.Markdown object>"
      ]
     },
     "metadata": {},
     "output_type": "display_data"
    },
    {
     "data": {
      "text/html": [
       "<div>\n",
       "<style scoped>\n",
       "    .dataframe tbody tr th:only-of-type {\n",
       "        vertical-align: middle;\n",
       "    }\n",
       "\n",
       "    .dataframe tbody tr th {\n",
       "        vertical-align: top;\n",
       "    }\n",
       "\n",
       "    .dataframe thead th {\n",
       "        text-align: right;\n",
       "    }\n",
       "</style>\n",
       "<table border=\"1\" class=\"dataframe\">\n",
       "  <thead>\n",
       "    <tr style=\"text-align: right;\">\n",
       "      <th>clirad band</th>\n",
       "      <th>1</th>\n",
       "      <th>2</th>\n",
       "      <th>3</th>\n",
       "      <th>4</th>\n",
       "      <th>5</th>\n",
       "      <th>6</th>\n",
       "      <th>7</th>\n",
       "      <th>8</th>\n",
       "      <th>9</th>\n",
       "    </tr>\n",
       "    <tr>\n",
       "      <th>absorber</th>\n",
       "      <th></th>\n",
       "      <th></th>\n",
       "      <th></th>\n",
       "      <th></th>\n",
       "      <th></th>\n",
       "      <th></th>\n",
       "      <th></th>\n",
       "      <th></th>\n",
       "      <th></th>\n",
       "    </tr>\n",
       "  </thead>\n",
       "  <tbody>\n",
       "    <tr>\n",
       "      <th>con</th>\n",
       "      <td>atmpro</td>\n",
       "      <td>atmpro</td>\n",
       "      <td>atmpro</td>\n",
       "      <td>atmpro</td>\n",
       "      <td>atmpro</td>\n",
       "      <td>atmpro</td>\n",
       "      <td>atmpro</td>\n",
       "      <td>atmpro</td>\n",
       "      <td>atmpro</td>\n",
       "    </tr>\n",
       "    <tr>\n",
       "      <th>n2o</th>\n",
       "      <td>0</td>\n",
       "      <td>0</td>\n",
       "      <td>0</td>\n",
       "      <td>0</td>\n",
       "      <td>0</td>\n",
       "      <td>0</td>\n",
       "      <td>0</td>\n",
       "      <td>3.2e-07</td>\n",
       "      <td>0</td>\n",
       "    </tr>\n",
       "  </tbody>\n",
       "</table>\n",
       "</div>"
      ],
      "text/plain": [
       "clirad band       1       2       3       4       5       6       7        8  \\\n",
       "absorber                                                                       \n",
       "con          atmpro  atmpro  atmpro  atmpro  atmpro  atmpro  atmpro   atmpro   \n",
       "n2o               0       0       0       0       0       0       0  3.2e-07   \n",
       "\n",
       "clirad band       9  \n",
       "absorber             \n",
       "con          atmpro  \n",
       "n2o               0  "
      ]
     },
     "metadata": {},
     "output_type": "display_data"
    },
    {
     "data": {
      "text/markdown": [
       "*TABLE.* Grey absorbers in the atmosphere."
      ],
      "text/plain": [
       "<IPython.core.display.Markdown object>"
      ]
     },
     "metadata": {},
     "output_type": "display_data"
    },
    {
     "data": {
      "text/html": [
       "<a id=\"Cooling_rates._mls.\"></a>"
      ],
      "text/plain": [
       "<IPython.core.display.HTML object>"
      ]
     },
     "metadata": {},
     "output_type": "display_data"
    },
    {
     "data": {
      "text/markdown": [
       "# Cooling rates. mls."
      ],
      "text/plain": [
       "<IPython.core.display.Markdown object>"
      ]
     },
     "metadata": {},
     "output_type": "display_data"
    },
    {
     "data": {
      "text/html": [
       "\n",
       "<div class=\"bk-root\">\n",
       "    <div class=\"bk-plotdiv\" id=\"6503567a-b7be-4759-8557-78d1d2ae440a\"></div>\n",
       "</div>"
      ]
     },
     "metadata": {},
     "output_type": "display_data"
    },
    {
     "data": {
      "application/javascript": [
       "(function(root) {\n",
       "  function embed_document(root) {\n",
       "    \n",
       "  var docs_json = {\"3861755d-50ad-4184-816a-89fcf1cb4cb0\":{\"roots\":{\"references\":[{\"attributes\":{\"fill_alpha\":{\"value\":0.7},\"fill_color\":{\"value\":\"#4daf4a\"},\"line_alpha\":{\"value\":0.7},\"line_color\":{\"value\":\"#4daf4a\"},\"x\":{\"field\":\"x\"},\"y\":{\"field\":\"y\"}},\"id\":\"fce2e6a8-d06b-4a2a-8d46-f514f07fa846\",\"type\":\"Circle\"},{\"attributes\":{\"source\":{\"id\":\"92ae6bf7-371a-4c8c-9747-50f2472dce75\",\"type\":\"ColumnDataSource\"}},\"id\":\"5992a77e-7046-44a8-a89e-c902bbc3e092\",\"type\":\"CDSView\"},{\"attributes\":{\"callback\":null,\"data\":{\"x\":{\"__ndarray__\":\"cm1sTMT3VEDEyvjosEJHQOKI6DjzCUNArgQWV9awPkB9Lm8XG3M4QEz+Qv6iYzNA7eV8HaPLLkCX1QHyTpMoQFBmYSYetiNAUB04GtGpH0AmFyVE5j8ZQJca9QPGqBNALJP+OOHHDEBNxaf7QF8AQKtislomWuw/cW2dcO6A9T/uJJvfPu0EQIaQLTI/JQ1AxGiII+PmEkCJvfVeuCsYQD6ZBhGbHB9AXQw69DTYJEAsubcwKucqQNuT9D5OmipAJyi3szEJJUBlNebh5WkgQDDcPHBr2xlArtlANXuQFEBdJadFHckQQI2Avh0ZsQtAjYiwt1rsBUCL0SDoVBgAQK6C0nEEjvc/CggLSme58T9sXU2orFPnP0v0JYz9Gdg/vT38vxYczD9nBQTe6kHHP1IhkEXJwKo/8OZnhCVAub+xtVgCpmqzP6DUpY6g0+k/PKK3T1h4+D8RTDjQc1EAQG/dAQs7TwJAQt2eHpPLAEBWEh074x//PyCap9ZSGf4/rEzaTySm/T+7aXhHRmr9P688KeqeNP0/ruZ4EemD/D8olrZcn9T7P0+vNc9hW/s/i9VVL+4P+z+0NzC24uz6P8731Kza8vo/xFf4SHzq+z+gYyHpvHb8P68ROkiFevw/BAjYdCga/D8AUp8VbW77P3JrF/nKmvo/qCQeGfq++T/dplwHJfn4P2G4p+Uva/g/OzZ0RqMZ+D8dmn/iar73P/OuA7Ka8PY/gaaeQHGn9T9hkyjAH1L0P3aZGhdAU/M/n8VP/g7P8j+90HxHNvfyPwhNBtgrqvk/\",\"dtype\":\"float64\",\"shape\":[75]},\"y\":{\"__ndarray__\":\"GhExyth1ND/Sv8nbtpRIP2vylNV0PVE/aTum7souWD/At0SJ8fVgPw3Iuahxymc/MSNhhJWvcD/bTfBN02d3P2zb5nxnaoA/CD5h5MAGhz8NmeH1TyaQP+zrCsc9p5Y/LbKd76fGnz/bLW5ISEmmPww9YvTcQq8/JV2OstnstT8Er5Y7M8G+P0c+r3jqkcU/5h99k6ZBzj88bCIzFzjVP4enV8oyxN0//yH99nXg5D8qOpLLf0jtP5kqGJXUifQ/c9cS8kHP/D+/DpwzojQEQIEmwoanVwxA4lgXt9HgE0BSSZ2AJuIbQAMJih9jjiNA5q4l5INuK0AwTKYKRj0zQNv5fmq8/DpAaCJseHrtQkB/+zpwzoxKQM3MzMzMeFJAZmZmZmZqWEAAAAAAAFxeQM3MzMzMJmJAmpmZmZkfZUBmZmZmZhhoQDMzMzMzEWtAAAAAAAAKbkBmZmZmZoFwQM3MzMzM/XFAMzMzMzN6c0CamZmZmfZ0QAAAAAAAc3ZAZmZmZmbvd0DNzMzMzGt5QDMzMzMz6HpAmpmZmZlkfEAAAAAAAOF9QGZmZmZmXX9AZmZmZuZsgECamZmZGSuBQM3MzMxM6YFAAAAAAICngkAzMzMzs2WDQGZmZmbmI4RAmpmZmRnihEDNzMzMTKCFQAAAAACAXoZAMzMzM7Mch0BmZmZm5tqHQJqZmZkZmYhAzczMzExXiUAAAAAAgBWKQDMzMzOz04pAZmZmZuaRi0CamZmZGVCMQM3MzMxMDo1AAAAAAIDMjUAzMzMzs4qOQGZmZmbmSI9A\",\"dtype\":\"float64\",\"shape\":[75]}},\"selected\":{\"id\":\"0544bf63-b4a1-483c-8c91-e22377b45fba\",\"type\":\"Selection\"},\"selection_policy\":{\"id\":\"a77db02e-3ede-4fd3-a251-daec487180e9\",\"type\":\"UnionRenderers\"}},\"id\":\"72a7fdf2-4e4f-48ff-9058-9fca4b41527b\",\"type\":\"ColumnDataSource\"},{\"attributes\":{\"data_source\":{\"id\":\"72a7fdf2-4e4f-48ff-9058-9fca4b41527b\",\"type\":\"ColumnDataSource\"},\"glyph\":{\"id\":\"7ea1bc15-703c-425e-bfaa-fa28a7b0a0df\",\"type\":\"Line\"},\"hover_glyph\":null,\"muted_glyph\":null,\"nonselection_glyph\":{\"id\":\"316541e1-9596-472d-8e38-49833e68e443\",\"type\":\"Line\"},\"selection_glyph\":null,\"view\":{\"id\":\"134f0c22-79fa-4d25-8b42-c9744b7dd345\",\"type\":\"CDSView\"}},\"id\":\"68c0a103-50fa-49d3-9e03-77ea4c74e93e\",\"type\":\"GlyphRenderer\"},{\"attributes\":{\"source\":{\"id\":\"5b3f0de1-daa0-4707-9ac6-e1a030107636\",\"type\":\"ColumnDataSource\"}},\"id\":\"f1a22c95-bf47-4ede-9956-3058df317b32\",\"type\":\"CDSView\"},{\"attributes\":{},\"id\":\"6d53aa5d-23bc-4b5f-afa3-498e9227ffbb\",\"type\":\"WheelZoomTool\"},{\"attributes\":{\"data_source\":{\"id\":\"647cc216-de78-4ceb-88e5-0226d7fed96f\",\"type\":\"ColumnDataSource\"},\"glyph\":{\"id\":\"fce2e6a8-d06b-4a2a-8d46-f514f07fa846\",\"type\":\"Circle\"},\"hover_glyph\":null,\"muted_glyph\":null,\"nonselection_glyph\":{\"id\":\"57e866ee-2cbb-4e41-b315-e6bc31b130b3\",\"type\":\"Circle\"},\"selection_glyph\":null,\"view\":{\"id\":\"690ed146-71d6-401e-b543-38b071a6fdfd\",\"type\":\"CDSView\"}},\"id\":\"b6e7a457-00b5-4c8c-8b3e-f895862ee737\",\"type\":\"GlyphRenderer\"},{\"attributes\":{\"line_alpha\":0.1,\"line_color\":\"#1f77b4\",\"line_width\":1.5,\"x\":{\"field\":\"x\"},\"y\":{\"field\":\"y\"}},\"id\":\"b5487be1-c204-4c9b-bff2-0a5a9c048ea9\",\"type\":\"Line\"},{\"attributes\":{\"fill_alpha\":{\"value\":0.7},\"fill_color\":{\"value\":\"#984ea3\"},\"line_alpha\":{\"value\":0.7},\"line_color\":{\"value\":\"#984ea3\"},\"x\":{\"field\":\"x\"},\"y\":{\"field\":\"y\"}},\"id\":\"500d4beb-6f3c-4a62-b171-9ef30affbf36\",\"type\":\"Square\"},{\"attributes\":{\"fill_alpha\":{\"value\":0.1},\"fill_color\":{\"value\":\"#1f77b4\"},\"line_alpha\":{\"value\":0.1},\"line_color\":{\"value\":\"#1f77b4\"},\"x\":{\"field\":\"x\"},\"y\":{\"field\":\"y\"}},\"id\":\"57e866ee-2cbb-4e41-b315-e6bc31b130b3\",\"type\":\"Circle\"},{\"attributes\":{\"callback\":null,\"data\":{\"x\":{\"__ndarray__\":\"zhhdnl3RU0CKgDdE+dxEQP6f5duhdUFAMJBr6ewEQkAADxZQyK45QBmX3ka8EDZAjl8alnlwL0CeYJlYHKIqQJoaoQNWxSJAwL4t7BozIUBMkS56I6AXQBxPe4ld/BRAnMjiKz2HCkCJCgdQ/WcBQKJTvluRvOg/j/JpYJwB9j+fcxKIKREEQOwUvOtLFw1AV0At7oRoEkD5lECKxjYXQAdydNQ0jR1ACbyvRZLfI0CO3MmPRGApQCcUNq4qNylA6VN9h30SJECRnP+HbGofQDQKaukXmhlAteFC/mL9E0CTDffT91MQQEkVAKh1YwtAqFesCIQRBkATatBMXLz/P4fvYPUXo/Y/tDrQnFTK8T/fneFQ7xLnP14aDQuCJtc/5BrOx2LRzT+fE4V0bnvHP3ueIXamhrA/cWaxNtALrr92uqPyMJK3P6q5+U821+g/ckrZjXL49z/TaxRJZAUAQPzVLij27QFAige8XqaCAEAv4Q7keaX+P0VyKG35kv0/XHVqXZRQ/T/+RskYEAv9PwKD1IjB3fw/JBko3yJ2/D//mRCM5iX7P/btQHcr5vo/xTCcdQr9+j+f/V+tjrf6P0Wt2HvLrvo/9IV/x6br+z/bYX40veD8P8+HZwkyUvw/CkxgoI8l/D8QA+bsYB78P2eu9w7DDvw/khNJm3qS+j8vZ0xHVJ75Py0d1shscPk/NKgVKiiK+T/NNtzstIr5P4ps72zyaPc/TlSpuPUj9j9S2qZu6gj1P2XVmdu6VPQ/t/WgjjEZ9D+np734CoH0P1P4Q57qwfo/\",\"dtype\":\"float64\",\"shape\":[75]},\"y\":{\"__ndarray__\":\"hLndy31yND/6fmq8dJNIP8n9DkWBPlE/aDum7souWD/b4a/JGvVgP9f34SAhymc/ZvM4DOavcD+z0M5pFmh3PxuC4zJuaoA/xjcUPlsHhz8uHAjJAiaQP9ieWRKgppY/oI7HDFTGnz+a5h2n6EimPzS6g9iZQq8/IuAQqtTstT9SSZ2AJsK+P4nS3uALk8U/ih9j7lpCzj+ASL99HTjVP4enV8oyxN0/ACL99nXg5D9fmEwVjErtPyUGgZVDi/Q/AiuHFtnO/D9OYhBYOTQEQPHSTWIQWAxA4XoUrkfhE0D8qfHSTeIbQMh2vp8ajyNArkfhehRuK0Bcj8L1KDwzQFyPwvUo/DpAPgrXo3DtQkDNzMzMzIxKQClcj8L1eFJAKVyPwvVoWECamZmZmVleQGZmZmZmJmJAAAAAAAAgZUCamZmZmRloQJqZmZmZEWtAmpmZmZkJbkCamZmZmYFwQGZmZmZm/nFAZmZmZmZ6c0BmZmZmZvZ0QDQzMzMzc3ZAAAAAAADwd0AAAAAAAGx5QAAAAAAA6HpAzMzMzMxkfEDMzMzMzOB9QM3MzMzMXH9AzczMzMxsgEAzMzMzMyuBQDMzMzMz6YFAMzMzMzOngkCamZmZmWWDQAAAAAAAJIRAAAAAAADihEAAAAAAAKCFQGZmZmZmXoZAzczMzMwch0DNzMzMzNqHQM3MzMzMmIhAMzMzMzNXiUCamZmZmRWKQAAAAAAA1IpAAAAAAACSi0AAAAAAAFCMQGZmZmZmDo1AzczMzMzMjUDNzMzMzIqOQM3MzMzMSI9A\",\"dtype\":\"float64\",\"shape\":[75]}},\"selected\":{\"id\":\"7df6cc4e-e5bf-4e2c-a08e-e98cce719881\",\"type\":\"Selection\"},\"selection_policy\":{\"id\":\"10bec213-c430-459c-a317-23187149dd93\",\"type\":\"UnionRenderers\"}},\"id\":\"bb7c69bb-6f4c-43eb-8a24-2b8f3fabee45\",\"type\":\"ColumnDataSource\"},{\"attributes\":{},\"id\":\"da421dee-fbca-4ca2-a81a-b3eda7642690\",\"type\":\"SaveTool\"},{\"attributes\":{},\"id\":\"2ce15449-25cd-47ff-9f52-e98b279ca5fd\",\"type\":\"PanTool\"},{\"attributes\":{\"fill_alpha\":{\"value\":0.1},\"fill_color\":{\"value\":\"#1f77b4\"},\"line_alpha\":{\"value\":0.1},\"line_color\":{\"value\":\"#1f77b4\"},\"x\":{\"field\":\"x\"},\"y\":{\"field\":\"y\"}},\"id\":\"057ffe8d-4600-4607-9cea-e3967ac6f67a\",\"type\":\"Square\"},{\"attributes\":{\"source\":{\"id\":\"72a7fdf2-4e4f-48ff-9058-9fca4b41527b\",\"type\":\"ColumnDataSource\"}},\"id\":\"134f0c22-79fa-4d25-8b42-c9744b7dd345\",\"type\":\"CDSView\"},{\"attributes\":{\"data_source\":{\"id\":\"bb7c69bb-6f4c-43eb-8a24-2b8f3fabee45\",\"type\":\"ColumnDataSource\"},\"glyph\":{\"id\":\"d4164c18-f542-4714-9204-589b901ec06e\",\"type\":\"Line\"},\"hover_glyph\":null,\"muted_glyph\":null,\"nonselection_glyph\":{\"id\":\"00c040ed-4240-4f0b-bee8-d58b8a167561\",\"type\":\"Line\"},\"selection_glyph\":null,\"view\":{\"id\":\"c967d194-109c-4286-897c-e31b5acaa83d\",\"type\":\"CDSView\"}},\"id\":\"3e2d370b-5f00-4c11-8c94-a64d229fb822\",\"type\":\"GlyphRenderer\"},{\"attributes\":{\"line_color\":\"#4daf4a\",\"line_width\":1.5,\"x\":{\"field\":\"x\"},\"y\":{\"field\":\"y\"}},\"id\":\"7ea1bc15-703c-425e-bfaa-fa28a7b0a0df\",\"type\":\"Line\"},{\"attributes\":{\"data_source\":{\"id\":\"5b3f0de1-daa0-4707-9ac6-e1a030107636\",\"type\":\"ColumnDataSource\"},\"glyph\":{\"id\":\"8a18bb77-ae57-4302-b740-74aef303ca71\",\"type\":\"Line\"},\"hover_glyph\":null,\"muted_glyph\":null,\"nonselection_glyph\":{\"id\":\"b5487be1-c204-4c9b-bff2-0a5a9c048ea9\",\"type\":\"Line\"},\"selection_glyph\":null,\"view\":{\"id\":\"f1a22c95-bf47-4ede-9956-3058df317b32\",\"type\":\"CDSView\"}},\"id\":\"b83079b9-bd78-47ec-a01d-dcfc009675a1\",\"type\":\"GlyphRenderer\"},{\"attributes\":{\"callback\":null,\"data\":{\"x\":{\"__ndarray__\":\"zhhdnl3RU0CKgDdE+dxEQP6f5duhdUFAMJBr6ewEQkAADxZQyK45QBmX3ka8EDZAjl8alnlwL0CeYJlYHKIqQJoaoQNWxSJAwL4t7BozIUBMkS56I6AXQBxPe4ld/BRAnMjiKz2HCkCJCgdQ/WcBQKJTvluRvOg/j/JpYJwB9j+fcxKIKREEQOwUvOtLFw1AV0At7oRoEkD5lECKxjYXQAdydNQ0jR1ACbyvRZLfI0CO3MmPRGApQCcUNq4qNylA6VN9h30SJECRnP+HbGofQDQKaukXmhlAteFC/mL9E0CTDffT91MQQEkVAKh1YwtAqFesCIQRBkATatBMXLz/P4fvYPUXo/Y/tDrQnFTK8T/fneFQ7xLnP14aDQuCJtc/5BrOx2LRzT+fE4V0bnvHP3ueIXamhrA/cWaxNtALrr92uqPyMJK3P6q5+U821+g/ckrZjXL49z/TaxRJZAUAQPzVLij27QFAige8XqaCAEAv4Q7keaX+P0VyKG35kv0/XHVqXZRQ/T/+RskYEAv9PwKD1IjB3fw/JBko3yJ2/D//mRCM5iX7P/btQHcr5vo/xTCcdQr9+j+f/V+tjrf6P0Wt2HvLrvo/9IV/x6br+z/bYX40veD8P8+HZwkyUvw/CkxgoI8l/D8QA+bsYB78P2eu9w7DDvw/khNJm3qS+j8vZ0xHVJ75Py0d1shscPk/NKgVKiiK+T/NNtzstIr5P4ps72zyaPc/TlSpuPUj9j9S2qZu6gj1P2XVmdu6VPQ/t/WgjjEZ9D+np734CoH0P1P4Q57qwfo/\",\"dtype\":\"float64\",\"shape\":[75]},\"y\":{\"__ndarray__\":\"hLndy31yND/6fmq8dJNIP8n9DkWBPlE/aDum7souWD/b4a/JGvVgP9f34SAhymc/ZvM4DOavcD+z0M5pFmh3PxuC4zJuaoA/xjcUPlsHhz8uHAjJAiaQP9ieWRKgppY/oI7HDFTGnz+a5h2n6EimPzS6g9iZQq8/IuAQqtTstT9SSZ2AJsK+P4nS3uALk8U/ih9j7lpCzj+ASL99HTjVP4enV8oyxN0/ACL99nXg5D9fmEwVjErtPyUGgZVDi/Q/AiuHFtnO/D9OYhBYOTQEQPHSTWIQWAxA4XoUrkfhE0D8qfHSTeIbQMh2vp8ajyNArkfhehRuK0Bcj8L1KDwzQFyPwvUo/DpAPgrXo3DtQkDNzMzMzIxKQClcj8L1eFJAKVyPwvVoWECamZmZmVleQGZmZmZmJmJAAAAAAAAgZUCamZmZmRloQJqZmZmZEWtAmpmZmZkJbkCamZmZmYFwQGZmZmZm/nFAZmZmZmZ6c0BmZmZmZvZ0QDQzMzMzc3ZAAAAAAADwd0AAAAAAAGx5QAAAAAAA6HpAzMzMzMxkfEDMzMzMzOB9QM3MzMzMXH9AzczMzMxsgEAzMzMzMyuBQDMzMzMz6YFAMzMzMzOngkCamZmZmWWDQAAAAAAAJIRAAAAAAADihEAAAAAAAKCFQGZmZmZmXoZAzczMzMwch0DNzMzMzNqHQM3MzMzMmIhAMzMzMzNXiUCamZmZmRWKQAAAAAAA1IpAAAAAAACSi0AAAAAAAFCMQGZmZmZmDo1AzczMzMzMjUDNzMzMzIqOQM3MzMzMSI9A\",\"dtype\":\"float64\",\"shape\":[75]}},\"selected\":{\"id\":\"d3cc1da4-dad8-4874-babc-82f54baed71b\",\"type\":\"Selection\"},\"selection_policy\":{\"id\":\"5dfcd791-00d1-451e-812d-282580960075\",\"type\":\"UnionRenderers\"}},\"id\":\"f11cdc33-0279-4dd1-8d3d-f4d365fadd06\",\"type\":\"ColumnDataSource\"},{\"attributes\":{},\"id\":\"7347a57d-e4db-4557-8e43-1a8e96eec14d\",\"type\":\"UnionRenderers\"},{\"attributes\":{\"dimension\":1,\"plot\":{\"id\":\"eac01ee8-72ac-4197-9021-670fdea69dee\",\"subtype\":\"Figure\",\"type\":\"Plot\"},\"ticker\":{\"id\":\"1ab251e5-7963-49b7-ab17-fa85e1f779dd\",\"type\":\"LogTicker\"}},\"id\":\"adc89514-cce8-4ac0-9c6d-786bb3d19602\",\"type\":\"Grid\"},{\"attributes\":{\"source\":{\"id\":\"72bc9c57-ee59-4acb-a8d8-4aa5069c8deb\",\"type\":\"ColumnDataSource\"}},\"id\":\"41ac1fc5-f995-4765-8346-d7819f67e686\",\"type\":\"CDSView\"},{\"attributes\":{\"line_alpha\":0.1,\"line_color\":\"#1f77b4\",\"line_width\":1.5,\"x\":{\"field\":\"x\"},\"y\":{\"field\":\"y\"}},\"id\":\"00c040ed-4240-4f0b-bee8-d58b8a167561\",\"type\":\"Line\"},{\"attributes\":{\"source\":{\"id\":\"bb7c69bb-6f4c-43eb-8a24-2b8f3fabee45\",\"type\":\"ColumnDataSource\"}},\"id\":\"c967d194-109c-4286-897c-e31b5acaa83d\",\"type\":\"CDSView\"},{\"attributes\":{\"callback\":null,\"end\":0.01,\"start\":1020},\"id\":\"cd2026f7-3ce0-42ea-86db-ac1b52d2c258\",\"type\":\"Range1d\"},{\"attributes\":{\"data_source\":{\"id\":\"92ae6bf7-371a-4c8c-9747-50f2472dce75\",\"type\":\"ColumnDataSource\"},\"glyph\":{\"id\":\"500d4beb-6f3c-4a62-b171-9ef30affbf36\",\"type\":\"Square\"},\"hover_glyph\":null,\"muted_glyph\":null,\"nonselection_glyph\":{\"id\":\"057ffe8d-4600-4607-9cea-e3967ac6f67a\",\"type\":\"Square\"},\"selection_glyph\":null,\"view\":{\"id\":\"5992a77e-7046-44a8-a89e-c902bbc3e092\",\"type\":\"CDSView\"}},\"id\":\"cda0592b-210b-4d0d-a1f3-6236f6b9fb6a\",\"type\":\"GlyphRenderer\"},{\"attributes\":{\"plot\":null,\"text\":\"\"},\"id\":\"690ae683-67d3-4b1a-ae35-96d3b2331251\",\"type\":\"Title\"},{\"attributes\":{\"source\":{\"id\":\"95355e51-40cf-48a2-9db5-dae34cef8c32\",\"type\":\"ColumnDataSource\"}},\"id\":\"31d6c6d7-30b3-4d7b-9ba5-ebc04f383b56\",\"type\":\"CDSView\"},{\"attributes\":{\"line_alpha\":0.1,\"line_color\":\"#1f77b4\",\"line_width\":1.5,\"x\":{\"field\":\"x\"},\"y\":{\"field\":\"y\"}},\"id\":\"316541e1-9596-472d-8e38-49833e68e443\",\"type\":\"Line\"},{\"attributes\":{\"source\":{\"id\":\"647cc216-de78-4ceb-88e5-0226d7fed96f\",\"type\":\"ColumnDataSource\"}},\"id\":\"690ed146-71d6-401e-b543-38b071a6fdfd\",\"type\":\"CDSView\"},{\"attributes\":{\"line_color\":\"#4daf4a\",\"line_width\":1.5,\"x\":{\"field\":\"x\"},\"y\":{\"field\":\"y\"}},\"id\":\"8a18bb77-ae57-4302-b740-74aef303ca71\",\"type\":\"Line\"},{\"attributes\":{\"line_alpha\":0.5,\"line_color\":\"#984ea3\",\"line_width\":1.5,\"x\":{\"field\":\"x\"},\"y\":{\"field\":\"y\"}},\"id\":\"d4164c18-f542-4714-9204-589b901ec06e\",\"type\":\"Line\"},{\"attributes\":{\"callback\":null,\"data\":{\"x\":{\"__ndarray__\":\"zhhdnl3RU0CKgDdE+dxEQP6f5duhdUFAMJBr6ewEQkAADxZQyK45QBmX3ka8EDZAjl8alnlwL0CeYJlYHKIqQJoaoQNWxSJAwL4t7BozIUBMkS56I6AXQBxPe4ld/BRAnMjiKz2HCkCJCgdQ/WcBQKJTvluRvOg/j/JpYJwB9j+fcxKIKREEQOwUvOtLFw1AV0At7oRoEkD5lECKxjYXQAdydNQ0jR1ACbyvRZLfI0CO3MmPRGApQCcUNq4qNylA6VN9h30SJECRnP+HbGofQDQKaukXmhlAteFC/mL9E0CTDffT91MQQEkVAKh1YwtAqFesCIQRBkATatBMXLz/P4fvYPUXo/Y/tDrQnFTK8T/fneFQ7xLnP14aDQuCJtc/5BrOx2LRzT+fE4V0bnvHP3ueIXamhrA/cWaxNtALrr92uqPyMJK3P6q5+U821+g/ckrZjXL49z/TaxRJZAUAQPzVLij27QFAige8XqaCAEAv4Q7keaX+P0VyKG35kv0/XHVqXZRQ/T/+RskYEAv9PwKD1IjB3fw/JBko3yJ2/D//mRCM5iX7P/btQHcr5vo/xTCcdQr9+j+f/V+tjrf6P0Wt2HvLrvo/9IV/x6br+z/bYX40veD8P8+HZwkyUvw/CkxgoI8l/D8QA+bsYB78P2eu9w7DDvw/khNJm3qS+j8vZ0xHVJ75Py0d1shscPk/NKgVKiiK+T/NNtzstIr5P4ps72zyaPc/TlSpuPUj9j9S2qZu6gj1P2XVmdu6VPQ/t/WgjjEZ9D+np734CoH0P1P4Q57qwfo/\",\"dtype\":\"float64\",\"shape\":[75]},\"y\":{\"__ndarray__\":\"hLndy31yND/6fmq8dJNIP8n9DkWBPlE/aDum7souWD/b4a/JGvVgP9f34SAhymc/ZvM4DOavcD+z0M5pFmh3PxuC4zJuaoA/xjcUPlsHhz8uHAjJAiaQP9ieWRKgppY/oI7HDFTGnz+a5h2n6EimPzS6g9iZQq8/IuAQqtTstT9SSZ2AJsK+P4nS3uALk8U/ih9j7lpCzj+ASL99HTjVP4enV8oyxN0/ACL99nXg5D9fmEwVjErtPyUGgZVDi/Q/AiuHFtnO/D9OYhBYOTQEQPHSTWIQWAxA4XoUrkfhE0D8qfHSTeIbQMh2vp8ajyNArkfhehRuK0Bcj8L1KDwzQFyPwvUo/DpAPgrXo3DtQkDNzMzMzIxKQClcj8L1eFJAKVyPwvVoWECamZmZmVleQGZmZmZmJmJAAAAAAAAgZUCamZmZmRloQJqZmZmZEWtAmpmZmZkJbkCamZmZmYFwQGZmZmZm/nFAZmZmZmZ6c0BmZmZmZvZ0QDQzMzMzc3ZAAAAAAADwd0AAAAAAAGx5QAAAAAAA6HpAzMzMzMxkfEDMzMzMzOB9QM3MzMzMXH9AzczMzMxsgEAzMzMzMyuBQDMzMzMz6YFAMzMzMzOngkCamZmZmWWDQAAAAAAAJIRAAAAAAADihEAAAAAAAKCFQGZmZmZmXoZAzczMzMwch0DNzMzMzNqHQM3MzMzMmIhAMzMzMzNXiUCamZmZmRWKQAAAAAAA1IpAAAAAAACSi0AAAAAAAFCMQGZmZmZmDo1AzczMzMzMjUDNzMzMzIqOQM3MzMzMSI9A\",\"dtype\":\"float64\",\"shape\":[75]}},\"selected\":{\"id\":\"12f3ce70-c521-49d2-969e-a294224bb0bf\",\"type\":\"Selection\"},\"selection_policy\":{\"id\":\"7347a57d-e4db-4557-8e43-1a8e96eec14d\",\"type\":\"UnionRenderers\"}},\"id\":\"92ae6bf7-371a-4c8c-9747-50f2472dce75\",\"type\":\"ColumnDataSource\"},{\"attributes\":{\"fill_alpha\":{\"value\":0.7},\"fill_color\":{\"value\":\"#984ea3\"},\"line_alpha\":{\"value\":0.7},\"line_color\":{\"value\":\"#984ea3\"},\"x\":{\"field\":\"x\"},\"y\":{\"field\":\"y\"}},\"id\":\"dbe6a92e-0c04-4352-9613-c5f6f7710722\",\"type\":\"Square\"},{\"attributes\":{\"overlay\":{\"id\":\"ba1136a5-2640-4236-97cb-658188f1f7a6\",\"type\":\"BoxAnnotation\"}},\"id\":\"c166971a-6b81-4546-92f6-486dbe989258\",\"type\":\"BoxZoomTool\"},{\"attributes\":{},\"id\":\"22630487-275b-481c-8683-1e6c76dffbf3\",\"type\":\"Selection\"},{\"attributes\":{\"fill_alpha\":{\"value\":0.1},\"fill_color\":{\"value\":\"#1f77b4\"},\"line_alpha\":{\"value\":0.1},\"line_color\":{\"value\":\"#1f77b4\"},\"x\":{\"field\":\"x\"},\"y\":{\"field\":\"y\"}},\"id\":\"a9ffcd01-429b-460d-9ef9-9ab8026db45d\",\"type\":\"Circle\"},{\"attributes\":{\"data_source\":{\"id\":\"72bc9c57-ee59-4acb-a8d8-4aa5069c8deb\",\"type\":\"ColumnDataSource\"},\"glyph\":{\"id\":\"3dee7f34-01a4-42cf-8642-45d958795f6c\",\"type\":\"Line\"},\"hover_glyph\":null,\"muted_glyph\":null,\"nonselection_glyph\":{\"id\":\"314b56f7-e3e3-4417-86a5-96b1b47c8c6a\",\"type\":\"Line\"},\"selection_glyph\":null,\"view\":{\"id\":\"41ac1fc5-f995-4765-8346-d7819f67e686\",\"type\":\"CDSView\"}},\"id\":\"deb7211e-1cc1-482d-a1c2-55e023d5a67b\",\"type\":\"GlyphRenderer\"},{\"attributes\":{},\"id\":\"5a5507a1-b01c-481b-a824-761890eeddb4\",\"type\":\"SaveTool\"},{\"attributes\":{\"plot\":null,\"text\":\"\"},\"id\":\"9250eb5d-3bef-4baa-8ffb-afb5e07f01ea\",\"type\":\"Title\"},{\"attributes\":{\"items\":[{\"id\":\"98878272-a839-44b2-94e6-a35bdade3133\",\"type\":\"LegendItem\"},{\"id\":\"65e970dd-1578-44cc-8b7a-e1217a2c37d0\",\"type\":\"LegendItem\"}],\"label_text_font_size\":{\"value\":\"8pt\"},\"location\":\"top_center\",\"orientation\":\"horizontal\",\"plot\":{\"id\":\"bec99ba2-f56e-455c-b8c5-e50b6c67ad0a\",\"subtype\":\"Figure\",\"type\":\"Plot\"}},\"id\":\"13e96b34-f82b-420d-9174-88439b6c378a\",\"type\":\"Legend\"},{\"attributes\":{},\"id\":\"7e873209-e38d-4fcc-87a8-3d062a8a0a3d\",\"type\":\"ResetTool\"},{\"attributes\":{\"callback\":null,\"end\":0.01,\"start\":1020},\"id\":\"378c6077-5716-4ad1-b5bf-8e03c8f4d637\",\"type\":\"Range1d\"},{\"attributes\":{\"active_drag\":\"auto\",\"active_inspect\":\"auto\",\"active_scroll\":\"auto\",\"active_tap\":\"auto\",\"tools\":[{\"id\":\"2ce15449-25cd-47ff-9f52-e98b279ca5fd\",\"type\":\"PanTool\"},{\"id\":\"6d53aa5d-23bc-4b5f-afa3-498e9227ffbb\",\"type\":\"WheelZoomTool\"},{\"id\":\"c166971a-6b81-4546-92f6-486dbe989258\",\"type\":\"BoxZoomTool\"},{\"id\":\"da421dee-fbca-4ca2-a81a-b3eda7642690\",\"type\":\"SaveTool\"},{\"id\":\"3dfa39c5-bf5b-4f31-9b99-592a5630ba57\",\"type\":\"ResetTool\"},{\"id\":\"0cfb6617-d6ae-4c48-abaa-981e0cb7be55\",\"type\":\"HelpTool\"}]},\"id\":\"a5beb3ab-307d-4dde-8fcf-2d83e2dfd58b\",\"type\":\"Toolbar\"},{\"attributes\":{\"bottom_units\":\"screen\",\"fill_alpha\":{\"value\":0.5},\"fill_color\":{\"value\":\"lightgrey\"},\"left_units\":\"screen\",\"level\":\"overlay\",\"line_alpha\":{\"value\":1.0},\"line_color\":{\"value\":\"black\"},\"line_dash\":[4,4],\"line_width\":{\"value\":2},\"plot\":null,\"render_mode\":\"css\",\"right_units\":\"screen\",\"top_units\":\"screen\"},\"id\":\"913acf95-21c4-4cc3-b305-0020900161bb\",\"type\":\"BoxAnnotation\"},{\"attributes\":{\"overlay\":{\"id\":\"de5b8a76-fe6f-43ea-9f83-58d99c9e0650\",\"type\":\"BoxAnnotation\"}},\"id\":\"f060a847-e877-45bd-85a3-42ac0bf055d0\",\"type\":\"BoxZoomTool\"},{\"attributes\":{},\"id\":\"f300ff96-d805-44b8-8334-a3861debc21d\",\"type\":\"UnionRenderers\"},{\"attributes\":{},\"id\":\"8dbadb9c-a92c-45f8-a3ea-adf5b08b601c\",\"type\":\"UnionRenderers\"},{\"attributes\":{},\"id\":\"83a6140f-2200-4cfa-ab45-634df7ef5678\",\"type\":\"LogScale\"},{\"attributes\":{\"callback\":null,\"data\":{\"x\":{\"__ndarray__\":\"QW/ChKHYRUABfBHv8BdDQO7pX4+S40FAjlrTPAs/QEBi55KjU0A8QM8iIjtRPTdAMoapHa7pMUBoDUjHy+UpQJPUAjnkGiJAYwW6KF00GkBWl/Li2t0UQGEIqhKpthFAwiOBeRVNDUDo1yrq/pUDQK4nuTYK9vU/+pJqy5OO+j/mD7q8ijIFQB7JG9aeDgtAKZPg33XgEEB3e15vURcWQASfV5qt/R1A31afOw7VJEBkZ/sSPswqQPJ8sfjH+ylASXHMMLlOJECnFuR/okcgQKATN+gOZBtALtOaGrQFFkBYLwnonigRQH3MfkLg4AtA+LWM1c4ICEAqMLR+58sCQGn6INO6Bfo/9OD7FbZF8T+Hs4EjcHrnP564dUqD6Ns/JQfYEdIQzT9x/Lwc00XAP+SGDp6tAKO/xAoZ+sRjyb+ScdT6eNyDv/4NISJvwuc/0BNwzqJ+9z+OhxM/9RYAQGCVqWPPlwFApa4RsMkGAECakb3Sg0P+P/wSdfkQIv0/okwaebtq/D8NcsI81zv8PzS6YIBmV/w/t/rzZVDu+z9vHpSuI3P7PzxXiTLKB/s/+xEut0e9+j80CdGvY4f6P91Lpyhohfo/hq2DgXOb+z8jUdf2UHz8P+0LQT6D/vw/NxBjOnr9/D975RKvuF38PyqTiuWeRvs/G8nM6yIW+j8IPCAwnv/4P9UcYY9Qbfg/OqB8rKY8+D929obcuzf4P6/7j5gVtPc/VtnblNCk9j8Yh5Uy8nP1P2TvKkPTiPQ/Kaw4REER9D/JF0FfkkT0P/aWmIV77/o/\",\"dtype\":\"float64\",\"shape\":[75]},\"y\":{\"__ndarray__\":\"GhExyth1ND/Sv8nbtpRIP2vylNV0PVE/aTum7souWD/At0SJ8fVgPw3Iuahxymc/MSNhhJWvcD/bTfBN02d3P2zb5nxnaoA/CD5h5MAGhz8NmeH1TyaQP+zrCsc9p5Y/LbKd76fGnz/bLW5ISEmmPww9YvTcQq8/JV2OstnstT8Er5Y7M8G+P0c+r3jqkcU/5h99k6ZBzj88bCIzFzjVP4enV8oyxN0//yH99nXg5D8qOpLLf0jtP5kqGJXUifQ/c9cS8kHP/D+/DpwzojQEQIEmwoanVwxA4lgXt9HgE0BSSZ2AJuIbQAMJih9jjiNA5q4l5INuK0AwTKYKRj0zQNv5fmq8/DpAaCJseHrtQkB/+zpwzoxKQM3MzMzMeFJAZmZmZmZqWEAAAAAAAFxeQM3MzMzMJmJAmpmZmZkfZUBmZmZmZhhoQDMzMzMzEWtAAAAAAAAKbkBmZmZmZoFwQM3MzMzM/XFAMzMzMzN6c0CamZmZmfZ0QAAAAAAAc3ZAZmZmZmbvd0DNzMzMzGt5QDMzMzMz6HpAmpmZmZlkfEAAAAAAAOF9QGZmZmZmXX9AZmZmZuZsgECamZmZGSuBQM3MzMxM6YFAAAAAAICngkAzMzMzs2WDQGZmZmbmI4RAmpmZmRnihEDNzMzMTKCFQAAAAACAXoZAMzMzM7Mch0BmZmZm5tqHQJqZmZkZmYhAzczMzExXiUAAAAAAgBWKQDMzMzOz04pAZmZmZuaRi0CamZmZGVCMQM3MzMxMDo1AAAAAAIDMjUAzMzMzs4qOQGZmZmbmSI9A\",\"dtype\":\"float64\",\"shape\":[75]}},\"selected\":{\"id\":\"dd0d50d2-18bb-4700-9f62-ba1f742945e6\",\"type\":\"Selection\"},\"selection_policy\":{\"id\":\"649e364c-0755-42d8-b20c-892da897a28c\",\"type\":\"UnionRenderers\"}},\"id\":\"95355e51-40cf-48a2-9db5-dae34cef8c32\",\"type\":\"ColumnDataSource\"},{\"attributes\":{},\"id\":\"c549566c-75d7-4405-8da9-fea0d1b11386\",\"type\":\"WheelZoomTool\"},{\"attributes\":{},\"id\":\"2f9a3ddd-5eb4-4ecb-b33f-dafb04373c9f\",\"type\":\"UnionRenderers\"},{\"attributes\":{},\"id\":\"d3cc1da4-dad8-4874-babc-82f54baed71b\",\"type\":\"Selection\"},{\"attributes\":{\"label\":{\"value\":\"old CLIRAD (H2012) - CRD\"},\"renderers\":[{\"id\":\"deb7211e-1cc1-482d-a1c2-55e023d5a67b\",\"type\":\"GlyphRenderer\"}]},\"id\":\"65e970dd-1578-44cc-8b7a-e1217a2c37d0\",\"type\":\"LegendItem\"},{\"attributes\":{\"ticker\":null},\"id\":\"c4fadef2-845e-4685-89d1-ff65d4c1c931\",\"type\":\"LogTickFormatter\"},{\"attributes\":{},\"id\":\"2e3240f7-0f33-4d8d-ab46-d9d35a3e10db\",\"type\":\"PanTool\"},{\"attributes\":{},\"id\":\"63ea58ca-b332-4c05-bece-f58d3bd64f99\",\"type\":\"LinearScale\"},{\"attributes\":{},\"id\":\"aa5406ea-1bf8-4e88-92dd-f7b4c7db1a30\",\"type\":\"BasicTickFormatter\"},{\"attributes\":{},\"id\":\"a653ed79-ee74-4c50-8dbe-c4c7e076a56b\",\"type\":\"Selection\"},{\"attributes\":{},\"id\":\"8cdefd0c-df31-4202-ab25-e30ecaa67f80\",\"type\":\"Selection\"},{\"attributes\":{\"line_alpha\":0.6,\"line_color\":\"#377eb8\",\"line_dash\":[6],\"line_width\":5,\"x\":{\"field\":\"x\"},\"y\":{\"field\":\"y\"}},\"id\":\"bab909b0-90dd-4991-bb72-0b2661e1028a\",\"type\":\"Line\"},{\"attributes\":{},\"id\":\"31ee422e-ca6b-49f9-b505-501b37075710\",\"type\":\"BasicTickFormatter\"},{\"attributes\":{\"callback\":null,\"end\":0.7044648345484412,\"start\":-1.3851868827471134},\"id\":\"26173728-0d16-43e7-a0f8-fb451519c2bd\",\"type\":\"Range1d\"},{\"attributes\":{},\"id\":\"649e364c-0755-42d8-b20c-892da897a28c\",\"type\":\"UnionRenderers\"},{\"attributes\":{},\"id\":\"138548e4-24ac-44a5-86a4-2e114e1fbc37\",\"type\":\"HelpTool\"},{\"attributes\":{\"items\":[{\"id\":\"1579011c-4940-4521-9e05-f63b5166e6e3\",\"type\":\"LegendItem\"},{\"id\":\"5593ba1b-4e55-4299-b39b-391a5fbb87a0\",\"type\":\"LegendItem\"},{\"id\":\"0454d703-5bc1-4269-9cf9-8538fb7b8743\",\"type\":\"LegendItem\"}],\"label_text_font_size\":{\"value\":\"8pt\"},\"location\":\"top_center\",\"orientation\":\"horizontal\",\"plot\":{\"id\":\"60c2ff78-ead8-4e2b-82e0-2e49b984637e\",\"subtype\":\"Figure\",\"type\":\"Plot\"}},\"id\":\"940fe311-5876-439f-96e1-9078f12d61ec\",\"type\":\"Legend\"},{\"attributes\":{\"line_alpha\":0.5,\"line_color\":\"#377eb8\",\"line_dash\":[6],\"line_width\":4,\"x\":{\"field\":\"x\"},\"y\":{\"field\":\"y\"}},\"id\":\"3dee7f34-01a4-42cf-8642-45d958795f6c\",\"type\":\"Line\"},{\"attributes\":{},\"id\":\"0544bf63-b4a1-483c-8c91-e22377b45fba\",\"type\":\"Selection\"},{\"attributes\":{},\"id\":\"940372c9-fc19-408f-bc70-53846056927c\",\"type\":\"UnionRenderers\"},{\"attributes\":{\"callback\":null,\"data\":{\"x\":{\"__ndarray__\":\"QEr14GpmEsDQUQomvS0TwECOLtAVRQnAyG4E7w1kFUAwCG6K07rzP2jG3ETKaAVAIDSvE8+a1D84WLw0a3bwP8B2CVgEGd6/gAEb8SXj5T+gXWifLPzZv1BIY1h4OdU/gFTeaCAF0r/AU/RFxYvAP0h4oPen7Ly/wKOQ+b0VoD/gKRbxqoK7vwA09+KM5nu/QBvKVo2Xv78AEqWWOp7Ov3BzIslj9ti/gApK0VUU37/gyd0OWm7ov0D75ws5Mua/wIc6h4XW3r+Q48y885XWvwB/tLThVLC/IP++3wZjwr+A8gVsXEm9vwDRmm/daKO/gI3nfaiUkj/AQE7cYBOdv+BkMo6PXa2/AKoyxVLtcD9A4+/aVS+Av6A9GyNwb46/cNIdfcBUiz8AHIdAy8FcP5BuzJoOMok/b2ce0np0pD8UEyzBK56QP8Beg9VHjZ+/gPKVd3D5n7+AD/jI4QOjv8DcwbQ4Uai/AG61+C87or/ASYzDVZqev2D75C8ty6C/ANT1m/xjlb9Ar8iri82Xv0BrLlVYt5W/ABSboWSMa78ghb8UGtelv0BWMP2VTZ2/AMakubnjcr+ACh1oBKqKv0CiEj/MA5G/AADjcuinMj/Ajj/XEoCaPwDwRGmfKYS/AAyIEFfOZj8AItboev6lP1AvBF6BP7c/QN1dRRBwqj9ACvj956WkP8BM5jLOU7A/kB8XOk4Itz8Ay8mloMS8P8Bl77ruFZ4/QHOrAh4hnz8g3sjPVdmmP/C+80esF7A/gAETBSmitD+gbg0US524P7C02mPse7E/\",\"dtype\":\"float64\",\"shape\":[75]},\"y\":{\"__ndarray__\":\"GhExyth1ND/Sv8nbtpRIP2vylNV0PVE/aTum7souWD/At0SJ8fVgPw3Iuahxymc/MSNhhJWvcD/bTfBN02d3P2zb5nxnaoA/CD5h5MAGhz8NmeH1TyaQP+zrCsc9p5Y/LbKd76fGnz/bLW5ISEmmPww9YvTcQq8/JV2OstnstT8Er5Y7M8G+P0c+r3jqkcU/5h99k6ZBzj88bCIzFzjVP4enV8oyxN0//yH99nXg5D8qOpLLf0jtP5kqGJXUifQ/c9cS8kHP/D+/DpwzojQEQIEmwoanVwxA4lgXt9HgE0BSSZ2AJuIbQAMJih9jjiNA5q4l5INuK0AwTKYKRj0zQNv5fmq8/DpAaCJseHrtQkB/+zpwzoxKQM3MzMzMeFJAZmZmZmZqWEAAAAAAAFxeQM3MzMzMJmJAmpmZmZkfZUBmZmZmZhhoQDMzMzMzEWtAAAAAAAAKbkBmZmZmZoFwQM3MzMzM/XFAMzMzMzN6c0CamZmZmfZ0QAAAAAAAc3ZAZmZmZmbvd0DNzMzMzGt5QDMzMzMz6HpAmpmZmZlkfEAAAAAAAOF9QGZmZmZmXX9AZmZmZuZsgECamZmZGSuBQM3MzMxM6YFAAAAAAICngkAzMzMzs2WDQGZmZmbmI4RAmpmZmRnihEDNzMzMTKCFQAAAAACAXoZAMzMzM7Mch0BmZmZm5tqHQJqZmZkZmYhAzczMzExXiUAAAAAAgBWKQDMzMzOz04pAZmZmZuaRi0CamZmZGVCMQM3MzMxMDo1AAAAAAIDMjUAzMzMzs4qOQGZmZmbmSI9A\",\"dtype\":\"float64\",\"shape\":[75]}},\"selected\":{\"id\":\"c8aec159-81f3-4380-9bab-8223aca1f1e5\",\"type\":\"Selection\"},\"selection_policy\":{\"id\":\"5d42fc74-78bc-42ac-908b-64831a97b0ca\",\"type\":\"UnionRenderers\"}},\"id\":\"72bc9c57-ee59-4acb-a8d8-4aa5069c8deb\",\"type\":\"ColumnDataSource\"},{\"attributes\":{},\"id\":\"a77db02e-3ede-4fd3-a251-daec487180e9\",\"type\":\"UnionRenderers\"},{\"attributes\":{\"data_source\":{\"id\":\"30aa2ba3-0442-44dc-818b-653aac6afd8e\",\"type\":\"ColumnDataSource\"},\"glyph\":{\"id\":\"1fb4da9e-565a-4b0a-a135-931bbe47a7cc\",\"type\":\"Circle\"},\"hover_glyph\":null,\"muted_glyph\":null,\"nonselection_glyph\":{\"id\":\"a9ffcd01-429b-460d-9ef9-9ab8026db45d\",\"type\":\"Circle\"},\"selection_glyph\":null,\"view\":{\"id\":\"6b45037b-a797-436a-b69c-a8c748588c24\",\"type\":\"CDSView\"}},\"id\":\"ea8f9fc0-ccb9-437a-a91a-4e1ce3821ed3\",\"type\":\"GlyphRenderer\"},{\"attributes\":{},\"id\":\"4cfd301d-782e-4257-8647-92d2be64be4b\",\"type\":\"WheelZoomTool\"},{\"attributes\":{},\"id\":\"2e18eda2-75a2-4065-aa09-3065b004a327\",\"type\":\"LinearScale\"},{\"attributes\":{},\"id\":\"f62d1013-a3f1-4689-bce6-227f738122fc\",\"type\":\"PanTool\"},{\"attributes\":{\"above\":[{\"id\":\"940fe311-5876-439f-96e1-9078f12d61ec\",\"type\":\"Legend\"}],\"below\":[{\"id\":\"8f86527b-c912-43e4-850c-7a0f184108bf\",\"type\":\"LinearAxis\"}],\"left\":[{\"id\":\"19bad5e4-70bc-4d09-ac30-afa44911ec7d\",\"type\":\"LinearAxis\"}],\"plot_width\":300,\"renderers\":[{\"id\":\"8f86527b-c912-43e4-850c-7a0f184108bf\",\"type\":\"LinearAxis\"},{\"id\":\"cac6a173-aee8-4ef3-b0fe-31c88cf1335a\",\"type\":\"Grid\"},{\"id\":\"19bad5e4-70bc-4d09-ac30-afa44911ec7d\",\"type\":\"LinearAxis\"},{\"id\":\"9d6187a8-1474-4556-9740-937c7bb88b91\",\"type\":\"Grid\"},{\"id\":\"ba1136a5-2640-4236-97cb-658188f1f7a6\",\"type\":\"BoxAnnotation\"},{\"id\":\"b34a71b1-8480-42f1-ade3-39d792ad1f07\",\"type\":\"GlyphRenderer\"},{\"id\":\"c7626f10-bedd-4947-bc0a-27745a318e52\",\"type\":\"GlyphRenderer\"},{\"id\":\"b83079b9-bd78-47ec-a01d-dcfc009675a1\",\"type\":\"GlyphRenderer\"},{\"id\":\"cda0592b-210b-4d0d-a1f3-6236f6b9fb6a\",\"type\":\"GlyphRenderer\"},{\"id\":\"3e2d370b-5f00-4c11-8c94-a64d229fb822\",\"type\":\"GlyphRenderer\"},{\"id\":\"940fe311-5876-439f-96e1-9078f12d61ec\",\"type\":\"Legend\"}],\"title\":{\"id\":\"9250eb5d-3bef-4baa-8ffb-afb5e07f01ea\",\"type\":\"Title\"},\"toolbar\":{\"id\":\"a5beb3ab-307d-4dde-8fcf-2d83e2dfd58b\",\"type\":\"Toolbar\"},\"toolbar_location\":null,\"x_range\":{\"id\":\"352dac9e-9aeb-495f-a500-56a6efca3ebd\",\"type\":\"Range1d\"},\"x_scale\":{\"id\":\"63ea58ca-b332-4c05-bece-f58d3bd64f99\",\"type\":\"LinearScale\"},\"y_range\":{\"id\":\"378c6077-5716-4ad1-b5bf-8e03c8f4d637\",\"type\":\"Range1d\"},\"y_scale\":{\"id\":\"d9a0d15e-93c8-48e2-9d4e-15856444be22\",\"type\":\"LinearScale\"}},\"id\":\"60c2ff78-ead8-4e2b-82e0-2e49b984637e\",\"subtype\":\"Figure\",\"type\":\"Plot\"},{\"attributes\":{\"axis_label\":\"cooling rate [K/day]\",\"formatter\":{\"id\":\"26e98834-0d65-4ae3-9d97-acf532b9162d\",\"type\":\"BasicTickFormatter\"},\"plot\":{\"id\":\"bec99ba2-f56e-455c-b8c5-e50b6c67ad0a\",\"subtype\":\"Figure\",\"type\":\"Plot\"},\"ticker\":{\"id\":\"e7db4990-e56d-4d0a-8878-eab15e88736c\",\"type\":\"BasicTicker\"}},\"id\":\"4a271e3b-0408-4083-bca3-f796d0ef77ca\",\"type\":\"LinearAxis\"},{\"attributes\":{\"label\":{\"value\":\"CLIRAD (single-run) - CRD\"},\"renderers\":[{\"id\":\"ea8f9fc0-ccb9-437a-a91a-4e1ce3821ed3\",\"type\":\"GlyphRenderer\"},{\"id\":\"4e5a3dac-a7c6-4cd6-ae11-415c3f793754\",\"type\":\"GlyphRenderer\"}]},\"id\":\"98878272-a839-44b2-94e6-a35bdade3133\",\"type\":\"LegendItem\"},{\"attributes\":{},\"id\":\"10bec213-c430-459c-a317-23187149dd93\",\"type\":\"UnionRenderers\"},{\"attributes\":{\"line_alpha\":0.1,\"line_color\":\"#1f77b4\",\"line_dash\":[6],\"line_width\":4,\"x\":{\"field\":\"x\"},\"y\":{\"field\":\"y\"}},\"id\":\"314b56f7-e3e3-4417-86a5-96b1b47c8c6a\",\"type\":\"Line\"},{\"attributes\":{\"overlay\":{\"id\":\"913acf95-21c4-4cc3-b305-0020900161bb\",\"type\":\"BoxAnnotation\"}},\"id\":\"224dee48-e224-4077-9b61-cbb7e3995339\",\"type\":\"BoxZoomTool\"},{\"attributes\":{},\"id\":\"d14fad57-d249-4b7f-a152-196ef8c534fe\",\"type\":\"Selection\"},{\"attributes\":{},\"id\":\"5dfcd791-00d1-451e-812d-282580960075\",\"type\":\"UnionRenderers\"},{\"attributes\":{\"active_drag\":\"auto\",\"active_inspect\":\"auto\",\"active_scroll\":\"auto\",\"active_tap\":\"auto\",\"tools\":[{\"id\":\"2e3240f7-0f33-4d8d-ab46-d9d35a3e10db\",\"type\":\"PanTool\"},{\"id\":\"4cfd301d-782e-4257-8647-92d2be64be4b\",\"type\":\"WheelZoomTool\"},{\"id\":\"f060a847-e877-45bd-85a3-42ac0bf055d0\",\"type\":\"BoxZoomTool\"},{\"id\":\"eb25eafa-6468-43c4-95dd-0f8cc4b5d24b\",\"type\":\"SaveTool\"},{\"id\":\"21ee9fae-246b-4564-8e18-b28e386ea21e\",\"type\":\"ResetTool\"},{\"id\":\"985ab309-23bd-4e10-934a-4511117c8450\",\"type\":\"HelpTool\"}]},\"id\":\"ea0838f4-9ae6-4859-a622-983080a7085f\",\"type\":\"Toolbar\"},{\"attributes\":{\"axis_label\":\"cooling rate [K/day]\",\"formatter\":{\"id\":\"aa5406ea-1bf8-4e88-92dd-f7b4c7db1a30\",\"type\":\"BasicTickFormatter\"},\"plot\":{\"id\":\"eac01ee8-72ac-4197-9021-670fdea69dee\",\"subtype\":\"Figure\",\"type\":\"Plot\"},\"ticker\":{\"id\":\"45ba9f2c-08f8-4972-8dd7-1114cac974d1\",\"type\":\"BasicTicker\"}},\"id\":\"88ebf187-f135-4038-9c0e-9264cefdff5d\",\"type\":\"LinearAxis\"},{\"attributes\":{\"callback\":null,\"end\":2.3135572748904605,\"start\":-0.22322766227646001},\"id\":\"352dac9e-9aeb-495f-a500-56a6efca3ebd\",\"type\":\"Range1d\"},{\"attributes\":{\"source\":{\"id\":\"6b7eddc5-75ff-46f8-b202-88e425a44cd7\",\"type\":\"ColumnDataSource\"}},\"id\":\"508dc7d0-56c9-4c73-bf1b-f36c98f70d4d\",\"type\":\"CDSView\"},{\"attributes\":{\"line_alpha\":0.5,\"line_color\":\"#984ea3\",\"line_width\":1.5,\"x\":{\"field\":\"x\"},\"y\":{\"field\":\"y\"}},\"id\":\"33f15b3b-d0e1-4494-96fa-bfdf8e5a62f1\",\"type\":\"Line\"},{\"attributes\":{},\"id\":\"dc9a120e-43be-49de-8d32-a79a11f6dece\",\"type\":\"BasicTickFormatter\"},{\"attributes\":{\"data_source\":{\"id\":\"f11cdc33-0279-4dd1-8d3d-f4d365fadd06\",\"type\":\"ColumnDataSource\"},\"glyph\":{\"id\":\"dbe6a92e-0c04-4352-9613-c5f6f7710722\",\"type\":\"Square\"},\"hover_glyph\":null,\"muted_glyph\":null,\"nonselection_glyph\":{\"id\":\"78502abb-f5fc-4fd6-921f-bf7f7dcf33e5\",\"type\":\"Square\"},\"selection_glyph\":null,\"view\":{\"id\":\"3dd6c1bb-2650-48db-bf63-2fd503364918\",\"type\":\"CDSView\"}},\"id\":\"068547f2-36ce-459f-b223-6484a3ec5332\",\"type\":\"GlyphRenderer\"},{\"attributes\":{\"axis_label\":\"pressure [mb]\",\"formatter\":{\"id\":\"403f1235-b155-44ac-92b4-09470123d1ce\",\"type\":\"LogTickFormatter\"},\"plot\":{\"id\":\"bec99ba2-f56e-455c-b8c5-e50b6c67ad0a\",\"subtype\":\"Figure\",\"type\":\"Plot\"},\"ticker\":{\"id\":\"d56cd779-c5ac-44b9-bc1f-66da3b870a2c\",\"type\":\"LogTicker\"}},\"id\":\"656b9a36-b01e-4a21-aed6-929d06ee1cfb\",\"type\":\"LogAxis\"},{\"attributes\":{\"source\":{\"id\":\"f11cdc33-0279-4dd1-8d3d-f4d365fadd06\",\"type\":\"ColumnDataSource\"}},\"id\":\"3dd6c1bb-2650-48db-bf63-2fd503364918\",\"type\":\"CDSView\"},{\"attributes\":{},\"id\":\"12f3ce70-c521-49d2-969e-a294224bb0bf\",\"type\":\"Selection\"},{\"attributes\":{\"data_source\":{\"id\":\"44b01b51-2629-42c2-936d-5ff72b9f2fe2\",\"type\":\"ColumnDataSource\"},\"glyph\":{\"id\":\"7155d71e-4ee9-4ccb-adb0-b39ea525b2ab\",\"type\":\"Line\"},\"hover_glyph\":null,\"muted_glyph\":null,\"nonselection_glyph\":{\"id\":\"3964efdf-3ad4-4450-a089-694a6d1ca843\",\"type\":\"Line\"},\"selection_glyph\":null,\"view\":{\"id\":\"deb20acb-303c-485b-915f-b2cb9c29c1b0\",\"type\":\"CDSView\"}},\"id\":\"b34a71b1-8480-42f1-ade3-39d792ad1f07\",\"type\":\"GlyphRenderer\"},{\"attributes\":{\"dimension\":1,\"plot\":{\"id\":\"60c2ff78-ead8-4e2b-82e0-2e49b984637e\",\"subtype\":\"Figure\",\"type\":\"Plot\"},\"ticker\":{\"id\":\"c38c4eae-e05e-46c8-9945-4fa83aba46b5\",\"type\":\"BasicTicker\"}},\"id\":\"9d6187a8-1474-4556-9740-937c7bb88b91\",\"type\":\"Grid\"},{\"attributes\":{\"data_source\":{\"id\":\"6b7eddc5-75ff-46f8-b202-88e425a44cd7\",\"type\":\"ColumnDataSource\"},\"glyph\":{\"id\":\"33f15b3b-d0e1-4494-96fa-bfdf8e5a62f1\",\"type\":\"Line\"},\"hover_glyph\":null,\"muted_glyph\":null,\"nonselection_glyph\":{\"id\":\"deab0138-a15d-42f7-9fd9-d86a57652acf\",\"type\":\"Line\"},\"selection_glyph\":null,\"view\":{\"id\":\"508dc7d0-56c9-4c73-bf1b-f36c98f70d4d\",\"type\":\"CDSView\"}},\"id\":\"8c7089cb-5dc4-4b44-8783-bae5102afeb7\",\"type\":\"GlyphRenderer\"},{\"attributes\":{},\"id\":\"b7c71017-0b44-4922-81db-4eb75d1aa7bc\",\"type\":\"BasicTicker\"},{\"attributes\":{},\"id\":\"45ba9f2c-08f8-4972-8dd7-1114cac974d1\",\"type\":\"BasicTicker\"},{\"attributes\":{\"plot\":{\"id\":\"60c2ff78-ead8-4e2b-82e0-2e49b984637e\",\"subtype\":\"Figure\",\"type\":\"Plot\"},\"ticker\":{\"id\":\"b7c71017-0b44-4922-81db-4eb75d1aa7bc\",\"type\":\"BasicTicker\"}},\"id\":\"cac6a173-aee8-4ef3-b0fe-31c88cf1335a\",\"type\":\"Grid\"},{\"attributes\":{},\"id\":\"e7db4990-e56d-4d0a-8878-eab15e88736c\",\"type\":\"BasicTicker\"},{\"attributes\":{\"axis_label\":\"cooling rate [K/day]\",\"formatter\":{\"id\":\"dc9a120e-43be-49de-8d32-a79a11f6dece\",\"type\":\"BasicTickFormatter\"},\"plot\":{\"id\":\"60c2ff78-ead8-4e2b-82e0-2e49b984637e\",\"subtype\":\"Figure\",\"type\":\"Plot\"},\"ticker\":{\"id\":\"b7c71017-0b44-4922-81db-4eb75d1aa7bc\",\"type\":\"BasicTicker\"}},\"id\":\"8f86527b-c912-43e4-850c-7a0f184108bf\",\"type\":\"LinearAxis\"},{\"attributes\":{},\"id\":\"c9923614-91d6-40eb-a838-8cfa32db2c31\",\"type\":\"Selection\"},{\"attributes\":{\"dimension\":1,\"plot\":{\"id\":\"bec99ba2-f56e-455c-b8c5-e50b6c67ad0a\",\"subtype\":\"Figure\",\"type\":\"Plot\"},\"ticker\":{\"id\":\"d56cd779-c5ac-44b9-bc1f-66da3b870a2c\",\"type\":\"LogTicker\"}},\"id\":\"17930123-a073-4b71-ba11-e293e387c336\",\"type\":\"Grid\"},{\"attributes\":{},\"id\":\"dd0d50d2-18bb-4700-9f62-ba1f742945e6\",\"type\":\"Selection\"},{\"attributes\":{\"num_minor_ticks\":10},\"id\":\"1ab251e5-7963-49b7-ab17-fa85e1f779dd\",\"type\":\"LogTicker\"},{\"attributes\":{},\"id\":\"26e98834-0d65-4ae3-9d97-acf532b9162d\",\"type\":\"BasicTickFormatter\"},{\"attributes\":{\"source\":{\"id\":\"44b01b51-2629-42c2-936d-5ff72b9f2fe2\",\"type\":\"ColumnDataSource\"}},\"id\":\"deb20acb-303c-485b-915f-b2cb9c29c1b0\",\"type\":\"CDSView\"},{\"attributes\":{\"plot\":null,\"text\":\"\"},\"id\":\"500d398e-01bb-489e-bbca-7a2c9dc9f94a\",\"type\":\"Title\"},{\"attributes\":{\"callback\":null,\"data\":{\"x\":{\"__ndarray__\":\"oGsWFOcWRMAMO53n/6ogwD3viZgKZgLA/QYLKQLU/D8kxx1hxGkOQBYk+eZxzQ5A2JlYd+QeBEAOfWNUzSflP8Ab6dWes+m/tV/4xc/V9b84/8mELYjxv0wjsRTPId+/uRJSEIimsD/RlBh077XZP2DZfyXcI98/JJY0a5U21D+mvbpH91KhP0I7juACtdC/1aw+HWoz4L+eELp8N6Pgv46j72rX7tG/sPOr1cQ1eb8yylG8HeyqvzLdYsjI0NO/iNtWXRBP17+iXw8BsSGxvwV3o383itg/95efVY5T1z8Wf4KYaOC3Pxz4JWCS45c/XGvh7qDj0D/z9Jq0lJzVP9S9cwqzvcM/ncXJA03snL/+DCuavWFzP5gifvItdK4/6ix5O2qXfj/VIxwFX/CrvyFUz3G74La/my7Kb2SHub/iQ7MhNea1vxA1JmSLibC/ec3xKLA2r7/CQWKSSD+dv/kBCet07ba/jdOl0S2ZuL/hF/AL7Yurv4nkUKY76K6/oQAAbI22s7/sel+r8Oayv1lPEDkNp6u/hX6dcBWzor/B7Z2I616YvxIFFivn5ZS/kePwCZ6plL+En8uXwV+Zv6r8aguhXJu/hY8q3THCk78YErbXNlBWP49H38C+f6A/WwZhsThqrD+Qb3Iuc+mtP/D2ZI59eqU/qxypqzTKlT/wr1QOo+RZP+CjI8tNBUE/JP80BLOBgT9iFteBPlSeP2eXidFcb6g/plqmh+qrrz+CO88mJx2yP91eBcEyWbM/pmiOXiQjtD+1cER8wdW0P/GeJNn6VLQ/\",\"dtype\":\"float64\",\"shape\":[75]},\"y\":{\"__ndarray__\":\"GhExyth1ND/Sv8nbtpRIP2vylNV0PVE/aTum7souWD/At0SJ8fVgPw3Iuahxymc/MSNhhJWvcD/bTfBN02d3P2zb5nxnaoA/CD5h5MAGhz8NmeH1TyaQP+zrCsc9p5Y/LbKd76fGnz/bLW5ISEmmPww9YvTcQq8/JV2OstnstT8Er5Y7M8G+P0c+r3jqkcU/5h99k6ZBzj88bCIzFzjVP4enV8oyxN0//yH99nXg5D8qOpLLf0jtP5kqGJXUifQ/c9cS8kHP/D+/DpwzojQEQIEmwoanVwxA4lgXt9HgE0BSSZ2AJuIbQAMJih9jjiNA5q4l5INuK0AwTKYKRj0zQNv5fmq8/DpAaCJseHrtQkB/+zpwzoxKQM3MzMzMeFJAZmZmZmZqWEAAAAAAAFxeQM3MzMzMJmJAmpmZmZkfZUBmZmZmZhhoQDMzMzMzEWtAAAAAAAAKbkBmZmZmZoFwQM3MzMzM/XFAMzMzMzN6c0CamZmZmfZ0QAAAAAAAc3ZAZmZmZmbvd0DNzMzMzGt5QDMzMzMz6HpAmpmZmZlkfEAAAAAAAOF9QGZmZmZmXX9AZmZmZuZsgECamZmZGSuBQM3MzMxM6YFAAAAAAICngkAzMzMzs2WDQGZmZmbmI4RAmpmZmRnihEDNzMzMTKCFQAAAAACAXoZAMzMzM7Mch0BmZmZm5tqHQJqZmZkZmYhAzczMzExXiUAAAAAAgBWKQDMzMzOz04pAZmZmZuaRi0CamZmZGVCMQM3MzMxMDo1AAAAAAIDMjUAzMzMzs4qOQGZmZmbmSI9A\",\"dtype\":\"float64\",\"shape\":[75]}},\"selected\":{\"id\":\"d5aa1cfc-ae87-4546-90ff-06000a0a255b\",\"type\":\"Selection\"},\"selection_policy\":{\"id\":\"4918ab52-eee2-4f81-b7c3-1361b59730a5\",\"type\":\"UnionRenderers\"}},\"id\":\"30aa2ba3-0442-44dc-818b-653aac6afd8e\",\"type\":\"ColumnDataSource\"},{\"attributes\":{\"label\":{\"value\":\"old CLIRAD (H2012)\"},\"renderers\":[{\"id\":\"068547f2-36ce-459f-b223-6484a3ec5332\",\"type\":\"GlyphRenderer\"},{\"id\":\"8c7089cb-5dc4-4b44-8783-bae5102afeb7\",\"type\":\"GlyphRenderer\"}]},\"id\":\"0fe0f6af-13ae-4dc7-9503-03ce0807a7b3\",\"type\":\"LegendItem\"},{\"attributes\":{\"fill_alpha\":{\"value\":0.1},\"fill_color\":{\"value\":\"#1f77b4\"},\"line_alpha\":{\"value\":0.1},\"line_color\":{\"value\":\"#1f77b4\"},\"x\":{\"field\":\"x\"},\"y\":{\"field\":\"y\"}},\"id\":\"78502abb-f5fc-4fd6-921f-bf7f7dcf33e5\",\"type\":\"Square\"},{\"attributes\":{\"plot\":{\"id\":\"bec99ba2-f56e-455c-b8c5-e50b6c67ad0a\",\"subtype\":\"Figure\",\"type\":\"Plot\"},\"ticker\":{\"id\":\"e7db4990-e56d-4d0a-8878-eab15e88736c\",\"type\":\"BasicTicker\"}},\"id\":\"53931c86-8439-4115-bc7c-1dab0b565552\",\"type\":\"Grid\"},{\"attributes\":{\"axis_label\":\"pressure [mb]\",\"formatter\":{\"id\":\"31ee422e-ca6b-49f9-b505-501b37075710\",\"type\":\"BasicTickFormatter\"},\"plot\":{\"id\":\"60c2ff78-ead8-4e2b-82e0-2e49b984637e\",\"subtype\":\"Figure\",\"type\":\"Plot\"},\"ticker\":{\"id\":\"c38c4eae-e05e-46c8-9945-4fa83aba46b5\",\"type\":\"BasicTicker\"}},\"id\":\"19bad5e4-70bc-4d09-ac30-afa44911ec7d\",\"type\":\"LinearAxis\"},{\"attributes\":{\"bottom_units\":\"screen\",\"fill_alpha\":{\"value\":0.5},\"fill_color\":{\"value\":\"lightgrey\"},\"left_units\":\"screen\",\"level\":\"overlay\",\"line_alpha\":{\"value\":1.0},\"line_color\":{\"value\":\"black\"},\"line_dash\":[4,4],\"line_width\":{\"value\":2},\"plot\":null,\"render_mode\":\"css\",\"right_units\":\"screen\",\"top_units\":\"screen\"},\"id\":\"ba1136a5-2640-4236-97cb-658188f1f7a6\",\"type\":\"BoxAnnotation\"},{\"attributes\":{},\"id\":\"0cfb6617-d6ae-4c48-abaa-981e0cb7be55\",\"type\":\"HelpTool\"},{\"attributes\":{\"ticker\":null},\"id\":\"403f1235-b155-44ac-92b4-09470123d1ce\",\"type\":\"LogTickFormatter\"},{\"attributes\":{},\"id\":\"3dfa39c5-bf5b-4f31-9b99-592a5630ba57\",\"type\":\"ResetTool\"},{\"attributes\":{\"callback\":null,\"data\":{\"x\":{\"__ndarray__\":\"zhhdnl3RU0CKgDdE+dxEQP6f5duhdUFAMJBr6ewEQkAADxZQyK45QBmX3ka8EDZAjl8alnlwL0CeYJlYHKIqQJoaoQNWxSJAwL4t7BozIUBMkS56I6AXQBxPe4ld/BRAnMjiKz2HCkCJCgdQ/WcBQKJTvluRvOg/j/JpYJwB9j+fcxKIKREEQOwUvOtLFw1AV0At7oRoEkD5lECKxjYXQAdydNQ0jR1ACbyvRZLfI0CO3MmPRGApQCcUNq4qNylA6VN9h30SJECRnP+HbGofQDQKaukXmhlAteFC/mL9E0CTDffT91MQQEkVAKh1YwtAqFesCIQRBkATatBMXLz/P4fvYPUXo/Y/tDrQnFTK8T/fneFQ7xLnP14aDQuCJtc/5BrOx2LRzT+fE4V0bnvHP3ueIXamhrA/cWaxNtALrr92uqPyMJK3P6q5+U821+g/ckrZjXL49z/TaxRJZAUAQPzVLij27QFAige8XqaCAEAv4Q7keaX+P0VyKG35kv0/XHVqXZRQ/T/+RskYEAv9PwKD1IjB3fw/JBko3yJ2/D//mRCM5iX7P/btQHcr5vo/xTCcdQr9+j+f/V+tjrf6P0Wt2HvLrvo/9IV/x6br+z/bYX40veD8P8+HZwkyUvw/CkxgoI8l/D8QA+bsYB78P2eu9w7DDvw/khNJm3qS+j8vZ0xHVJ75Py0d1shscPk/NKgVKiiK+T/NNtzstIr5P4ps72zyaPc/TlSpuPUj9j9S2qZu6gj1P2XVmdu6VPQ/t/WgjjEZ9D+np734CoH0P1P4Q57qwfo/\",\"dtype\":\"float64\",\"shape\":[75]},\"y\":{\"__ndarray__\":\"hLndy31yND/6fmq8dJNIP8n9DkWBPlE/aDum7souWD/b4a/JGvVgP9f34SAhymc/ZvM4DOavcD+z0M5pFmh3PxuC4zJuaoA/xjcUPlsHhz8uHAjJAiaQP9ieWRKgppY/oI7HDFTGnz+a5h2n6EimPzS6g9iZQq8/IuAQqtTstT9SSZ2AJsK+P4nS3uALk8U/ih9j7lpCzj+ASL99HTjVP4enV8oyxN0/ACL99nXg5D9fmEwVjErtPyUGgZVDi/Q/AiuHFtnO/D9OYhBYOTQEQPHSTWIQWAxA4XoUrkfhE0D8qfHSTeIbQMh2vp8ajyNArkfhehRuK0Bcj8L1KDwzQFyPwvUo/DpAPgrXo3DtQkDNzMzMzIxKQClcj8L1eFJAKVyPwvVoWECamZmZmVleQGZmZmZmJmJAAAAAAAAgZUCamZmZmRloQJqZmZmZEWtAmpmZmZkJbkCamZmZmYFwQGZmZmZm/nFAZmZmZmZ6c0BmZmZmZvZ0QDQzMzMzc3ZAAAAAAADwd0AAAAAAAGx5QAAAAAAA6HpAzMzMzMxkfEDMzMzMzOB9QM3MzMzMXH9AzczMzMxsgEAzMzMzMyuBQDMzMzMz6YFAMzMzMzOngkCamZmZmWWDQAAAAAAAJIRAAAAAAADihEAAAAAAAKCFQGZmZmZmXoZAzczMzMwch0DNzMzMzNqHQM3MzMzMmIhAMzMzMzNXiUCamZmZmRWKQAAAAAAA1IpAAAAAAACSi0AAAAAAAFCMQGZmZmZmDo1AzczMzMzMjUDNzMzMzIqOQM3MzMzMSI9A\",\"dtype\":\"float64\",\"shape\":[75]}},\"selected\":{\"id\":\"d14fad57-d249-4b7f-a152-196ef8c534fe\",\"type\":\"Selection\"},\"selection_policy\":{\"id\":\"8dbadb9c-a92c-45f8-a3ea-adf5b08b601c\",\"type\":\"UnionRenderers\"}},\"id\":\"6b7eddc5-75ff-46f8-b202-88e425a44cd7\",\"type\":\"ColumnDataSource\"},{\"attributes\":{\"above\":[{\"id\":\"13e96b34-f82b-420d-9174-88439b6c378a\",\"type\":\"Legend\"}],\"below\":[{\"id\":\"4a271e3b-0408-4083-bca3-f796d0ef77ca\",\"type\":\"LinearAxis\"}],\"left\":[{\"id\":\"656b9a36-b01e-4a21-aed6-929d06ee1cfb\",\"type\":\"LogAxis\"}],\"plot_width\":300,\"renderers\":[{\"id\":\"4a271e3b-0408-4083-bca3-f796d0ef77ca\",\"type\":\"LinearAxis\"},{\"id\":\"53931c86-8439-4115-bc7c-1dab0b565552\",\"type\":\"Grid\"},{\"id\":\"656b9a36-b01e-4a21-aed6-929d06ee1cfb\",\"type\":\"LogAxis\"},{\"id\":\"17930123-a073-4b71-ba11-e293e387c336\",\"type\":\"Grid\"},{\"id\":\"de5b8a76-fe6f-43ea-9f83-58d99c9e0650\",\"type\":\"BoxAnnotation\"},{\"id\":\"ea8f9fc0-ccb9-437a-a91a-4e1ce3821ed3\",\"type\":\"GlyphRenderer\"},{\"id\":\"4e5a3dac-a7c6-4cd6-ae11-415c3f793754\",\"type\":\"GlyphRenderer\"},{\"id\":\"deb7211e-1cc1-482d-a1c2-55e023d5a67b\",\"type\":\"GlyphRenderer\"},{\"id\":\"13e96b34-f82b-420d-9174-88439b6c378a\",\"type\":\"Legend\"}],\"title\":{\"id\":\"500d398e-01bb-489e-bbca-7a2c9dc9f94a\",\"type\":\"Title\"},\"toolbar\":{\"id\":\"ea0838f4-9ae6-4859-a622-983080a7085f\",\"type\":\"Toolbar\"},\"toolbar_location\":null,\"x_range\":{\"id\":\"26173728-0d16-43e7-a0f8-fb451519c2bd\",\"type\":\"Range1d\"},\"x_scale\":{\"id\":\"2e18eda2-75a2-4065-aa09-3065b004a327\",\"type\":\"LinearScale\"},\"y_range\":{\"id\":\"cd2026f7-3ce0-42ea-86db-ac1b52d2c258\",\"type\":\"Range1d\"},\"y_scale\":{\"id\":\"83a6140f-2200-4cfa-ab45-634df7ef5678\",\"type\":\"LogScale\"}},\"id\":\"bec99ba2-f56e-455c-b8c5-e50b6c67ad0a\",\"subtype\":\"Figure\",\"type\":\"Plot\"},{\"attributes\":{\"callback\":null,\"data\":{\"x\":{\"__ndarray__\":\"cm1sTMT3VEDEyvjosEJHQOKI6DjzCUNArgQWV9awPkB9Lm8XG3M4QEz+Qv6iYzNA7eV8HaPLLkCX1QHyTpMoQFBmYSYetiNAUB04GtGpH0AmFyVE5j8ZQJca9QPGqBNALJP+OOHHDEBNxaf7QF8AQKtislomWuw/cW2dcO6A9T/uJJvfPu0EQIaQLTI/JQ1AxGiII+PmEkCJvfVeuCsYQD6ZBhGbHB9AXQw69DTYJEAsubcwKucqQNuT9D5OmipAJyi3szEJJUBlNebh5WkgQDDcPHBr2xlArtlANXuQFEBdJadFHckQQI2Avh0ZsQtAjYiwt1rsBUCL0SDoVBgAQK6C0nEEjvc/CggLSme58T9sXU2orFPnP0v0JYz9Gdg/vT38vxYczD9nBQTe6kHHP1IhkEXJwKo/8OZnhCVAub+xtVgCpmqzP6DUpY6g0+k/PKK3T1h4+D8RTDjQc1EAQG/dAQs7TwJAQt2eHpPLAEBWEh074x//PyCap9ZSGf4/rEzaTySm/T+7aXhHRmr9P688KeqeNP0/ruZ4EemD/D8olrZcn9T7P0+vNc9hW/s/i9VVL+4P+z+0NzC24uz6P8731Kza8vo/xFf4SHzq+z+gYyHpvHb8P68ROkiFevw/BAjYdCga/D8AUp8VbW77P3JrF/nKmvo/qCQeGfq++T/dplwHJfn4P2G4p+Uva/g/OzZ0RqMZ+D8dmn/iar73P/OuA7Ka8PY/gaaeQHGn9T9hkyjAH1L0P3aZGhdAU/M/n8VP/g7P8j+90HxHNvfyPwhNBtgrqvk/\",\"dtype\":\"float64\",\"shape\":[75]},\"y\":{\"__ndarray__\":\"GhExyth1ND/Sv8nbtpRIP2vylNV0PVE/aTum7souWD/At0SJ8fVgPw3Iuahxymc/MSNhhJWvcD/bTfBN02d3P2zb5nxnaoA/CD5h5MAGhz8NmeH1TyaQP+zrCsc9p5Y/LbKd76fGnz/bLW5ISEmmPww9YvTcQq8/JV2OstnstT8Er5Y7M8G+P0c+r3jqkcU/5h99k6ZBzj88bCIzFzjVP4enV8oyxN0//yH99nXg5D8qOpLLf0jtP5kqGJXUifQ/c9cS8kHP/D+/DpwzojQEQIEmwoanVwxA4lgXt9HgE0BSSZ2AJuIbQAMJih9jjiNA5q4l5INuK0AwTKYKRj0zQNv5fmq8/DpAaCJseHrtQkB/+zpwzoxKQM3MzMzMeFJAZmZmZmZqWEAAAAAAAFxeQM3MzMzMJmJAmpmZmZkfZUBmZmZmZhhoQDMzMzMzEWtAAAAAAAAKbkBmZmZmZoFwQM3MzMzM/XFAMzMzMzN6c0CamZmZmfZ0QAAAAAAAc3ZAZmZmZmbvd0DNzMzMzGt5QDMzMzMz6HpAmpmZmZlkfEAAAAAAAOF9QGZmZmZmXX9AZmZmZuZsgECamZmZGSuBQM3MzMxM6YFAAAAAAICngkAzMzMzs2WDQGZmZmbmI4RAmpmZmRnihEDNzMzMTKCFQAAAAACAXoZAMzMzM7Mch0BmZmZm5tqHQJqZmZkZmYhAzczMzExXiUAAAAAAgBWKQDMzMzOz04pAZmZmZuaRi0CamZmZGVCMQM3MzMxMDo1AAAAAAIDMjUAzMzMzs4qOQGZmZmbmSI9A\",\"dtype\":\"float64\",\"shape\":[75]}},\"selected\":{\"id\":\"a653ed79-ee74-4c50-8dbe-c4c7e076a56b\",\"type\":\"Selection\"},\"selection_policy\":{\"id\":\"940372c9-fc19-408f-bc70-53846056927c\",\"type\":\"UnionRenderers\"}},\"id\":\"a27c6ee5-e357-4066-b7b4-2941184c2676\",\"type\":\"ColumnDataSource\"},{\"attributes\":{\"fill_alpha\":{\"value\":0.7},\"fill_color\":{\"value\":\"#984ea3\"},\"line_alpha\":{\"value\":0.7},\"line_color\":{\"value\":\"#984ea3\"},\"x\":{\"field\":\"x\"},\"y\":{\"field\":\"y\"}},\"id\":\"1fb4da9e-565a-4b0a-a135-931bbe47a7cc\",\"type\":\"Circle\"},{\"attributes\":{\"line_alpha\":0.1,\"line_color\":\"#1f77b4\",\"line_width\":1.5,\"x\":{\"field\":\"x\"},\"y\":{\"field\":\"y\"}},\"id\":\"deab0138-a15d-42f7-9fd9-d86a57652acf\",\"type\":\"Line\"},{\"attributes\":{\"num_minor_ticks\":10},\"id\":\"d56cd779-c5ac-44b9-bc1f-66da3b870a2c\",\"type\":\"LogTicker\"},{\"attributes\":{\"line_alpha\":0.1,\"line_color\":\"#1f77b4\",\"line_dash\":[6],\"line_width\":5,\"x\":{\"field\":\"x\"},\"y\":{\"field\":\"y\"}},\"id\":\"3964efdf-3ad4-4450-a089-694a6d1ca843\",\"type\":\"Line\"},{\"attributes\":{\"label\":{\"value\":\"CRD\"},\"renderers\":[{\"id\":\"b6e7a457-00b5-4c8c-8b3e-f895862ee737\",\"type\":\"GlyphRenderer\"},{\"id\":\"68c0a103-50fa-49d3-9e03-77ea4c74e93e\",\"type\":\"GlyphRenderer\"}]},\"id\":\"2ecc3486-3eed-48b6-b8bf-7e371a083d46\",\"type\":\"LegendItem\"},{\"attributes\":{\"plot\":{\"id\":\"eac01ee8-72ac-4197-9021-670fdea69dee\",\"subtype\":\"Figure\",\"type\":\"Plot\"},\"ticker\":{\"id\":\"45ba9f2c-08f8-4972-8dd7-1114cac974d1\",\"type\":\"BasicTicker\"}},\"id\":\"25aed125-ffee-4dc3-a623-9b3f6f9ed250\",\"type\":\"Grid\"},{\"attributes\":{},\"id\":\"7df6cc4e-e5bf-4e2c-a08e-e98cce719881\",\"type\":\"Selection\"},{\"attributes\":{\"label\":{\"value\":\"CLIRAD (single-run)\"},\"renderers\":[{\"id\":\"d83d1e68-7277-461d-994a-900344f7c173\",\"type\":\"GlyphRenderer\"}]},\"id\":\"1edde42c-c169-45b4-bb10-70e8579210aa\",\"type\":\"LegendItem\"},{\"attributes\":{},\"id\":\"d9a0d15e-93c8-48e2-9d4e-15856444be22\",\"type\":\"LinearScale\"},{\"attributes\":{\"data_source\":{\"id\":\"95355e51-40cf-48a2-9db5-dae34cef8c32\",\"type\":\"ColumnDataSource\"},\"glyph\":{\"id\":\"bab909b0-90dd-4991-bb72-0b2661e1028a\",\"type\":\"Line\"},\"hover_glyph\":null,\"muted_glyph\":null,\"nonselection_glyph\":{\"id\":\"67b508ee-dc42-42d5-b1bf-e8219c68de71\",\"type\":\"Line\"},\"selection_glyph\":null,\"view\":{\"id\":\"31d6c6d7-30b3-4d7b-9ba5-ebc04f383b56\",\"type\":\"CDSView\"}},\"id\":\"d83d1e68-7277-461d-994a-900344f7c173\",\"type\":\"GlyphRenderer\"},{\"attributes\":{\"items\":[{\"id\":\"1edde42c-c169-45b4-bb10-70e8579210aa\",\"type\":\"LegendItem\"},{\"id\":\"2ecc3486-3eed-48b6-b8bf-7e371a083d46\",\"type\":\"LegendItem\"},{\"id\":\"0fe0f6af-13ae-4dc7-9503-03ce0807a7b3\",\"type\":\"LegendItem\"}],\"label_text_font_size\":{\"value\":\"8pt\"},\"location\":\"top_center\",\"orientation\":\"horizontal\",\"plot\":{\"id\":\"eac01ee8-72ac-4197-9021-670fdea69dee\",\"subtype\":\"Figure\",\"type\":\"Plot\"}},\"id\":\"89b869fd-957c-443f-80d2-88a8e8a54dfe\",\"type\":\"Legend\"},{\"attributes\":{\"callback\":null,\"data\":{\"x\":{\"__ndarray__\":\"cm1sTMT3VEDEyvjosEJHQOKI6DjzCUNArgQWV9awPkB9Lm8XG3M4QEz+Qv6iYzNA7eV8HaPLLkCX1QHyTpMoQFBmYSYetiNAUB04GtGpH0AmFyVE5j8ZQJca9QPGqBNALJP+OOHHDEBNxaf7QF8AQKtislomWuw/cW2dcO6A9T/uJJvfPu0EQIaQLTI/JQ1AxGiII+PmEkCJvfVeuCsYQD6ZBhGbHB9AXQw69DTYJEAsubcwKucqQNuT9D5OmipAJyi3szEJJUBlNebh5WkgQDDcPHBr2xlArtlANXuQFEBdJadFHckQQI2Avh0ZsQtAjYiwt1rsBUCL0SDoVBgAQK6C0nEEjvc/CggLSme58T9sXU2orFPnP0v0JYz9Gdg/vT38vxYczD9nBQTe6kHHP1IhkEXJwKo/8OZnhCVAub+xtVgCpmqzP6DUpY6g0+k/PKK3T1h4+D8RTDjQc1EAQG/dAQs7TwJAQt2eHpPLAEBWEh074x//PyCap9ZSGf4/rEzaTySm/T+7aXhHRmr9P688KeqeNP0/ruZ4EemD/D8olrZcn9T7P0+vNc9hW/s/i9VVL+4P+z+0NzC24uz6P8731Kza8vo/xFf4SHzq+z+gYyHpvHb8P68ROkiFevw/BAjYdCga/D8AUp8VbW77P3JrF/nKmvo/qCQeGfq++T/dplwHJfn4P2G4p+Uva/g/OzZ0RqMZ+D8dmn/iar73P/OuA7Ka8PY/gaaeQHGn9T9hkyjAH1L0P3aZGhdAU/M/n8VP/g7P8j+90HxHNvfyPwhNBtgrqvk/\",\"dtype\":\"float64\",\"shape\":[75]},\"y\":{\"__ndarray__\":\"GhExyth1ND/Sv8nbtpRIP2vylNV0PVE/aTum7souWD/At0SJ8fVgPw3Iuahxymc/MSNhhJWvcD/bTfBN02d3P2zb5nxnaoA/CD5h5MAGhz8NmeH1TyaQP+zrCsc9p5Y/LbKd76fGnz/bLW5ISEmmPww9YvTcQq8/JV2OstnstT8Er5Y7M8G+P0c+r3jqkcU/5h99k6ZBzj88bCIzFzjVP4enV8oyxN0//yH99nXg5D8qOpLLf0jtP5kqGJXUifQ/c9cS8kHP/D+/DpwzojQEQIEmwoanVwxA4lgXt9HgE0BSSZ2AJuIbQAMJih9jjiNA5q4l5INuK0AwTKYKRj0zQNv5fmq8/DpAaCJseHrtQkB/+zpwzoxKQM3MzMzMeFJAZmZmZmZqWEAAAAAAAFxeQM3MzMzMJmJAmpmZmZkfZUBmZmZmZhhoQDMzMzMzEWtAAAAAAAAKbkBmZmZmZoFwQM3MzMzM/XFAMzMzMzN6c0CamZmZmfZ0QAAAAAAAc3ZAZmZmZmbvd0DNzMzMzGt5QDMzMzMz6HpAmpmZmZlkfEAAAAAAAOF9QGZmZmZmXX9AZmZmZuZsgECamZmZGSuBQM3MzMxM6YFAAAAAAICngkAzMzMzs2WDQGZmZmbmI4RAmpmZmRnihEDNzMzMTKCFQAAAAACAXoZAMzMzM7Mch0BmZmZm5tqHQJqZmZkZmYhAzczMzExXiUAAAAAAgBWKQDMzMzOz04pAZmZmZuaRi0CamZmZGVCMQM3MzMxMDo1AAAAAAIDMjUAzMzMzs4qOQGZmZmbmSI9A\",\"dtype\":\"float64\",\"shape\":[75]}},\"selected\":{\"id\":\"8cdefd0c-df31-4202-ab25-e30ecaa67f80\",\"type\":\"Selection\"},\"selection_policy\":{\"id\":\"2f9a3ddd-5eb4-4ecb-b33f-dafb04373c9f\",\"type\":\"UnionRenderers\"}},\"id\":\"647cc216-de78-4ceb-88e5-0226d7fed96f\",\"type\":\"ColumnDataSource\"},{\"attributes\":{\"callback\":null,\"data\":{\"x\":{\"__ndarray__\":\"QW/ChKHYRUABfBHv8BdDQO7pX4+S40FAjlrTPAs/QEBi55KjU0A8QM8iIjtRPTdAMoapHa7pMUBoDUjHy+UpQJPUAjnkGiJAYwW6KF00GkBWl/Li2t0UQGEIqhKpthFAwiOBeRVNDUDo1yrq/pUDQK4nuTYK9vU/+pJqy5OO+j/mD7q8ijIFQB7JG9aeDgtAKZPg33XgEEB3e15vURcWQASfV5qt/R1A31afOw7VJEBkZ/sSPswqQPJ8sfjH+ylASXHMMLlOJECnFuR/okcgQKATN+gOZBtALtOaGrQFFkBYLwnonigRQH3MfkLg4AtA+LWM1c4ICEAqMLR+58sCQGn6INO6Bfo/9OD7FbZF8T+Hs4EjcHrnP564dUqD6Ns/JQfYEdIQzT9x/Lwc00XAP+SGDp6tAKO/xAoZ+sRjyb+ScdT6eNyDv/4NISJvwuc/0BNwzqJ+9z+OhxM/9RYAQGCVqWPPlwFApa4RsMkGAECakb3Sg0P+P/wSdfkQIv0/okwaebtq/D8NcsI81zv8PzS6YIBmV/w/t/rzZVDu+z9vHpSuI3P7PzxXiTLKB/s/+xEut0e9+j80CdGvY4f6P91Lpyhohfo/hq2DgXOb+z8jUdf2UHz8P+0LQT6D/vw/NxBjOnr9/D975RKvuF38PyqTiuWeRvs/G8nM6yIW+j8IPCAwnv/4P9UcYY9Qbfg/OqB8rKY8+D929obcuzf4P6/7j5gVtPc/VtnblNCk9j8Yh5Uy8nP1P2TvKkPTiPQ/Kaw4REER9D/JF0FfkkT0P/aWmIV77/o/\",\"dtype\":\"float64\",\"shape\":[75]},\"y\":{\"__ndarray__\":\"GhExyth1ND/Sv8nbtpRIP2vylNV0PVE/aTum7souWD/At0SJ8fVgPw3Iuahxymc/MSNhhJWvcD/bTfBN02d3P2zb5nxnaoA/CD5h5MAGhz8NmeH1TyaQP+zrCsc9p5Y/LbKd76fGnz/bLW5ISEmmPww9YvTcQq8/JV2OstnstT8Er5Y7M8G+P0c+r3jqkcU/5h99k6ZBzj88bCIzFzjVP4enV8oyxN0//yH99nXg5D8qOpLLf0jtP5kqGJXUifQ/c9cS8kHP/D+/DpwzojQEQIEmwoanVwxA4lgXt9HgE0BSSZ2AJuIbQAMJih9jjiNA5q4l5INuK0AwTKYKRj0zQNv5fmq8/DpAaCJseHrtQkB/+zpwzoxKQM3MzMzMeFJAZmZmZmZqWEAAAAAAAFxeQM3MzMzMJmJAmpmZmZkfZUBmZmZmZhhoQDMzMzMzEWtAAAAAAAAKbkBmZmZmZoFwQM3MzMzM/XFAMzMzMzN6c0CamZmZmfZ0QAAAAAAAc3ZAZmZmZmbvd0DNzMzMzGt5QDMzMzMz6HpAmpmZmZlkfEAAAAAAAOF9QGZmZmZmXX9AZmZmZuZsgECamZmZGSuBQM3MzMxM6YFAAAAAAICngkAzMzMzs2WDQGZmZmbmI4RAmpmZmRnihEDNzMzMTKCFQAAAAACAXoZAMzMzM7Mch0BmZmZm5tqHQJqZmZkZmYhAzczMzExXiUAAAAAAgBWKQDMzMzOz04pAZmZmZuaRi0CamZmZGVCMQM3MzMxMDo1AAAAAAIDMjUAzMzMzs4qOQGZmZmbmSI9A\",\"dtype\":\"float64\",\"shape\":[75]}},\"selected\":{\"id\":\"22630487-275b-481c-8683-1e6c76dffbf3\",\"type\":\"Selection\"},\"selection_policy\":{\"id\":\"f300ff96-d805-44b8-8334-a3861debc21d\",\"type\":\"UnionRenderers\"}},\"id\":\"44b01b51-2629-42c2-936d-5ff72b9f2fe2\",\"type\":\"ColumnDataSource\"},{\"attributes\":{\"fill_alpha\":{\"value\":0.1},\"fill_color\":{\"value\":\"#1f77b4\"},\"line_alpha\":{\"value\":0.1},\"line_color\":{\"value\":\"#1f77b4\"},\"x\":{\"field\":\"x\"},\"y\":{\"field\":\"y\"}},\"id\":\"c5a78dab-f7f5-4dc4-a85f-85adaa075e1c\",\"type\":\"Circle\"},{\"attributes\":{\"tools\":[{\"id\":\"2ce15449-25cd-47ff-9f52-e98b279ca5fd\",\"type\":\"PanTool\"},{\"id\":\"6d53aa5d-23bc-4b5f-afa3-498e9227ffbb\",\"type\":\"WheelZoomTool\"},{\"id\":\"c166971a-6b81-4546-92f6-486dbe989258\",\"type\":\"BoxZoomTool\"},{\"id\":\"da421dee-fbca-4ca2-a81a-b3eda7642690\",\"type\":\"SaveTool\"},{\"id\":\"3dfa39c5-bf5b-4f31-9b99-592a5630ba57\",\"type\":\"ResetTool\"},{\"id\":\"0cfb6617-d6ae-4c48-abaa-981e0cb7be55\",\"type\":\"HelpTool\"},{\"id\":\"f62d1013-a3f1-4689-bce6-227f738122fc\",\"type\":\"PanTool\"},{\"id\":\"c549566c-75d7-4405-8da9-fea0d1b11386\",\"type\":\"WheelZoomTool\"},{\"id\":\"224dee48-e224-4077-9b61-cbb7e3995339\",\"type\":\"BoxZoomTool\"},{\"id\":\"5a5507a1-b01c-481b-a824-761890eeddb4\",\"type\":\"SaveTool\"},{\"id\":\"7e873209-e38d-4fcc-87a8-3d062a8a0a3d\",\"type\":\"ResetTool\"},{\"id\":\"138548e4-24ac-44a5-86a4-2e114e1fbc37\",\"type\":\"HelpTool\"},{\"id\":\"2e3240f7-0f33-4d8d-ab46-d9d35a3e10db\",\"type\":\"PanTool\"},{\"id\":\"4cfd301d-782e-4257-8647-92d2be64be4b\",\"type\":\"WheelZoomTool\"},{\"id\":\"f060a847-e877-45bd-85a3-42ac0bf055d0\",\"type\":\"BoxZoomTool\"},{\"id\":\"eb25eafa-6468-43c4-95dd-0f8cc4b5d24b\",\"type\":\"SaveTool\"},{\"id\":\"21ee9fae-246b-4564-8e18-b28e386ea21e\",\"type\":\"ResetTool\"},{\"id\":\"985ab309-23bd-4e10-934a-4511117c8450\",\"type\":\"HelpTool\"}]},\"id\":\"1fd19a3a-dea1-458f-8654-64dad7d22c01\",\"type\":\"ProxyToolbar\"},{\"attributes\":{\"label\":{\"value\":\"CRD\"},\"renderers\":[{\"id\":\"c7626f10-bedd-4947-bc0a-27745a318e52\",\"type\":\"GlyphRenderer\"},{\"id\":\"b83079b9-bd78-47ec-a01d-dcfc009675a1\",\"type\":\"GlyphRenderer\"}]},\"id\":\"5593ba1b-4e55-4299-b39b-391a5fbb87a0\",\"type\":\"LegendItem\"},{\"attributes\":{\"bottom_units\":\"screen\",\"fill_alpha\":{\"value\":0.5},\"fill_color\":{\"value\":\"lightgrey\"},\"left_units\":\"screen\",\"level\":\"overlay\",\"line_alpha\":{\"value\":1.0},\"line_color\":{\"value\":\"black\"},\"line_dash\":[4,4],\"line_width\":{\"value\":2},\"plot\":null,\"render_mode\":\"css\",\"right_units\":\"screen\",\"top_units\":\"screen\"},\"id\":\"de5b8a76-fe6f-43ea-9f83-58d99c9e0650\",\"type\":\"BoxAnnotation\"},{\"attributes\":{\"line_alpha\":0.1,\"line_color\":\"#1f77b4\",\"line_width\":1.5,\"x\":{\"field\":\"x\"},\"y\":{\"field\":\"y\"}},\"id\":\"8b31866b-0111-4565-b148-81b5ff26256d\",\"type\":\"Line\"},{\"attributes\":{},\"id\":\"ed2cd9ea-7099-41b9-90ae-2fe29f220a36\",\"type\":\"LogScale\"},{\"attributes\":{},\"id\":\"c8aec159-81f3-4380-9bab-8223aca1f1e5\",\"type\":\"Selection\"},{\"attributes\":{\"callback\":null,\"data\":{\"x\":{\"__ndarray__\":\"oGsWFOcWRMAMO53n/6ogwD3viZgKZgLA/QYLKQLU/D8kxx1hxGkOQBYk+eZxzQ5A2JlYd+QeBEAOfWNUzSflP8Ab6dWes+m/tV/4xc/V9b84/8mELYjxv0wjsRTPId+/uRJSEIimsD/RlBh077XZP2DZfyXcI98/JJY0a5U21D+mvbpH91KhP0I7juACtdC/1aw+HWoz4L+eELp8N6Pgv46j72rX7tG/sPOr1cQ1eb8yylG8HeyqvzLdYsjI0NO/iNtWXRBP17+iXw8BsSGxvwV3o383itg/95efVY5T1z8Wf4KYaOC3Pxz4JWCS45c/XGvh7qDj0D/z9Jq0lJzVP9S9cwqzvcM/ncXJA03snL/+DCuavWFzP5gifvItdK4/6ix5O2qXfj/VIxwFX/CrvyFUz3G74La/my7Kb2SHub/iQ7MhNea1vxA1JmSLibC/ec3xKLA2r7/CQWKSSD+dv/kBCet07ba/jdOl0S2ZuL/hF/AL7Yurv4nkUKY76K6/oQAAbI22s7/sel+r8Oayv1lPEDkNp6u/hX6dcBWzor/B7Z2I616YvxIFFivn5ZS/kePwCZ6plL+En8uXwV+Zv6r8aguhXJu/hY8q3THCk78YErbXNlBWP49H38C+f6A/WwZhsThqrD+Qb3Iuc+mtP/D2ZI59eqU/qxypqzTKlT/wr1QOo+RZP+CjI8tNBUE/JP80BLOBgT9iFteBPlSeP2eXidFcb6g/plqmh+qrrz+CO88mJx2yP91eBcEyWbM/pmiOXiQjtD+1cER8wdW0P/GeJNn6VLQ/\",\"dtype\":\"float64\",\"shape\":[75]},\"y\":{\"__ndarray__\":\"GhExyth1ND/Sv8nbtpRIP2vylNV0PVE/aTum7souWD/At0SJ8fVgPw3Iuahxymc/MSNhhJWvcD/bTfBN02d3P2zb5nxnaoA/CD5h5MAGhz8NmeH1TyaQP+zrCsc9p5Y/LbKd76fGnz/bLW5ISEmmPww9YvTcQq8/JV2OstnstT8Er5Y7M8G+P0c+r3jqkcU/5h99k6ZBzj88bCIzFzjVP4enV8oyxN0//yH99nXg5D8qOpLLf0jtP5kqGJXUifQ/c9cS8kHP/D+/DpwzojQEQIEmwoanVwxA4lgXt9HgE0BSSZ2AJuIbQAMJih9jjiNA5q4l5INuK0AwTKYKRj0zQNv5fmq8/DpAaCJseHrtQkB/+zpwzoxKQM3MzMzMeFJAZmZmZmZqWEAAAAAAAFxeQM3MzMzMJmJAmpmZmZkfZUBmZmZmZhhoQDMzMzMzEWtAAAAAAAAKbkBmZmZmZoFwQM3MzMzM/XFAMzMzMzN6c0CamZmZmfZ0QAAAAAAAc3ZAZmZmZmbvd0DNzMzMzGt5QDMzMzMz6HpAmpmZmZlkfEAAAAAAAOF9QGZmZmZmXX9AZmZmZuZsgECamZmZGSuBQM3MzMxM6YFAAAAAAICngkAzMzMzs2WDQGZmZmbmI4RAmpmZmRnihEDNzMzMTKCFQAAAAACAXoZAMzMzM7Mch0BmZmZm5tqHQJqZmZkZmYhAzczMzExXiUAAAAAAgBWKQDMzMzOz04pAZmZmZuaRi0CamZmZGVCMQM3MzMxMDo1AAAAAAIDMjUAzMzMzs4qOQGZmZmbmSI9A\",\"dtype\":\"float64\",\"shape\":[75]}},\"selected\":{\"id\":\"496d52b5-fd0c-4413-a3ca-2f8fbcb1d3c0\",\"type\":\"Selection\"},\"selection_policy\":{\"id\":\"932daa43-c7b7-498e-8f44-a73121ba6cc5\",\"type\":\"UnionRenderers\"}},\"id\":\"1711542b-5e88-4d06-899d-8cf064946699\",\"type\":\"ColumnDataSource\"},{\"attributes\":{\"children\":[{\"id\":\"60c2ff78-ead8-4e2b-82e0-2e49b984637e\",\"subtype\":\"Figure\",\"type\":\"Plot\"},{\"id\":\"eac01ee8-72ac-4197-9021-670fdea69dee\",\"subtype\":\"Figure\",\"type\":\"Plot\"},{\"id\":\"bec99ba2-f56e-455c-b8c5-e50b6c67ad0a\",\"subtype\":\"Figure\",\"type\":\"Plot\"}]},\"id\":\"6ceb051e-3cbe-44c4-b941-47488329b5ae\",\"type\":\"Row\"},{\"attributes\":{\"label\":{\"value\":\"CLIRAD (single-run)\"},\"renderers\":[{\"id\":\"b34a71b1-8480-42f1-ade3-39d792ad1f07\",\"type\":\"GlyphRenderer\"}]},\"id\":\"1579011c-4940-4521-9e05-f63b5166e6e3\",\"type\":\"LegendItem\"},{\"attributes\":{\"line_alpha\":0.1,\"line_color\":\"#1f77b4\",\"line_dash\":[6],\"line_width\":5,\"x\":{\"field\":\"x\"},\"y\":{\"field\":\"y\"}},\"id\":\"67b508ee-dc42-42d5-b1bf-e8219c68de71\",\"type\":\"Line\"},{\"attributes\":{},\"id\":\"c38c4eae-e05e-46c8-9945-4fa83aba46b5\",\"type\":\"BasicTicker\"},{\"attributes\":{},\"id\":\"8d27dced-6890-4414-a61c-e1962651547c\",\"type\":\"UnionRenderers\"},{\"attributes\":{},\"id\":\"d5aa1cfc-ae87-4546-90ff-06000a0a255b\",\"type\":\"Selection\"},{\"attributes\":{\"label\":{\"value\":\"old CLIRAD (H2012)\"},\"renderers\":[{\"id\":\"cda0592b-210b-4d0d-a1f3-6236f6b9fb6a\",\"type\":\"GlyphRenderer\"},{\"id\":\"3e2d370b-5f00-4c11-8c94-a64d229fb822\",\"type\":\"GlyphRenderer\"}]},\"id\":\"0454d703-5bc1-4269-9cf9-8538fb7b8743\",\"type\":\"LegendItem\"},{\"attributes\":{},\"id\":\"932daa43-c7b7-498e-8f44-a73121ba6cc5\",\"type\":\"UnionRenderers\"},{\"attributes\":{\"axis_label\":\"pressure [mb]\",\"formatter\":{\"id\":\"c4fadef2-845e-4685-89d1-ff65d4c1c931\",\"type\":\"LogTickFormatter\"},\"plot\":{\"id\":\"eac01ee8-72ac-4197-9021-670fdea69dee\",\"subtype\":\"Figure\",\"type\":\"Plot\"},\"ticker\":{\"id\":\"1ab251e5-7963-49b7-ab17-fa85e1f779dd\",\"type\":\"LogTicker\"}},\"id\":\"09552194-0ba7-4aa1-a646-f9acecebc093\",\"type\":\"LogAxis\"},{\"attributes\":{\"source\":{\"id\":\"30aa2ba3-0442-44dc-818b-653aac6afd8e\",\"type\":\"ColumnDataSource\"}},\"id\":\"6b45037b-a797-436a-b69c-a8c748588c24\",\"type\":\"CDSView\"},{\"attributes\":{\"toolbar\":{\"id\":\"1fd19a3a-dea1-458f-8654-64dad7d22c01\",\"type\":\"ProxyToolbar\"},\"toolbar_location\":\"above\"},\"id\":\"835c097d-d42a-4d11-a93f-9453fd6df2c6\",\"type\":\"ToolbarBox\"},{\"attributes\":{\"callback\":null,\"end\":13.587992271301857,\"start\":-0.33485573154785997},\"id\":\"19f7d49a-06f5-474f-8c20-07d8bf1d2efc\",\"type\":\"Range1d\"},{\"attributes\":{\"children\":[{\"id\":\"835c097d-d42a-4d11-a93f-9453fd6df2c6\",\"type\":\"ToolbarBox\"},{\"id\":\"e60063dc-cc16-4ceb-8761-3a5b479e1a10\",\"type\":\"Column\"}]},\"id\":\"a4ca9bf6-d5de-4f63-b855-0d6abc9d90e2\",\"type\":\"Column\"},{\"attributes\":{},\"id\":\"5d42fc74-78bc-42ac-908b-64831a97b0ca\",\"type\":\"UnionRenderers\"},{\"attributes\":{\"line_alpha\":0.6,\"line_color\":\"#377eb8\",\"line_dash\":[6],\"line_width\":5,\"x\":{\"field\":\"x\"},\"y\":{\"field\":\"y\"}},\"id\":\"7155d71e-4ee9-4ccb-adb0-b39ea525b2ab\",\"type\":\"Line\"},{\"attributes\":{\"source\":{\"id\":\"1711542b-5e88-4d06-899d-8cf064946699\",\"type\":\"ColumnDataSource\"}},\"id\":\"576f12a6-093f-4728-bc74-9c7499a83bd6\",\"type\":\"CDSView\"},{\"attributes\":{},\"id\":\"985ab309-23bd-4e10-934a-4511117c8450\",\"type\":\"HelpTool\"},{\"attributes\":{\"fill_alpha\":{\"value\":0.7},\"fill_color\":{\"value\":\"#4daf4a\"},\"line_alpha\":{\"value\":0.7},\"line_color\":{\"value\":\"#4daf4a\"},\"x\":{\"field\":\"x\"},\"y\":{\"field\":\"y\"}},\"id\":\"c5b4bb16-4e0e-41bd-8b62-3090ad4962ab\",\"type\":\"Circle\"},{\"attributes\":{\"data_source\":{\"id\":\"a27c6ee5-e357-4066-b7b4-2941184c2676\",\"type\":\"ColumnDataSource\"},\"glyph\":{\"id\":\"c5b4bb16-4e0e-41bd-8b62-3090ad4962ab\",\"type\":\"Circle\"},\"hover_glyph\":null,\"muted_glyph\":null,\"nonselection_glyph\":{\"id\":\"c5a78dab-f7f5-4dc4-a85f-85adaa075e1c\",\"type\":\"Circle\"},\"selection_glyph\":null,\"view\":{\"id\":\"096d902d-bde1-40fd-b804-7b3e69fe7efb\",\"type\":\"CDSView\"}},\"id\":\"c7626f10-bedd-4947-bc0a-27745a318e52\",\"type\":\"GlyphRenderer\"},{\"attributes\":{\"active_drag\":\"auto\",\"active_inspect\":\"auto\",\"active_scroll\":\"auto\",\"active_tap\":\"auto\",\"tools\":[{\"id\":\"f62d1013-a3f1-4689-bce6-227f738122fc\",\"type\":\"PanTool\"},{\"id\":\"c549566c-75d7-4405-8da9-fea0d1b11386\",\"type\":\"WheelZoomTool\"},{\"id\":\"224dee48-e224-4077-9b61-cbb7e3995339\",\"type\":\"BoxZoomTool\"},{\"id\":\"5a5507a1-b01c-481b-a824-761890eeddb4\",\"type\":\"SaveTool\"},{\"id\":\"7e873209-e38d-4fcc-87a8-3d062a8a0a3d\",\"type\":\"ResetTool\"},{\"id\":\"138548e4-24ac-44a5-86a4-2e114e1fbc37\",\"type\":\"HelpTool\"}]},\"id\":\"0a80f7c5-4646-4f37-a83f-2ea578d289cf\",\"type\":\"Toolbar\"},{\"attributes\":{},\"id\":\"21ee9fae-246b-4564-8e18-b28e386ea21e\",\"type\":\"ResetTool\"},{\"attributes\":{},\"id\":\"6609dc1c-a0f0-45a0-9770-1a86e0505c38\",\"type\":\"LinearScale\"},{\"attributes\":{},\"id\":\"4918ab52-eee2-4f81-b7c3-1361b59730a5\",\"type\":\"UnionRenderers\"},{\"attributes\":{\"children\":[{\"id\":\"6ceb051e-3cbe-44c4-b941-47488329b5ae\",\"type\":\"Row\"}]},\"id\":\"e60063dc-cc16-4ceb-8761-3a5b479e1a10\",\"type\":\"Column\"},{\"attributes\":{\"line_alpha\":0.8,\"line_color\":\"#984ea3\",\"line_width\":1.5,\"x\":{\"field\":\"x\"},\"y\":{\"field\":\"y\"}},\"id\":\"16c8e3ef-98ca-410a-9fb4-bc0300d15d84\",\"type\":\"Line\"},{\"attributes\":{},\"id\":\"eb25eafa-6468-43c4-95dd-0f8cc4b5d24b\",\"type\":\"SaveTool\"},{\"attributes\":{\"above\":[{\"id\":\"89b869fd-957c-443f-80d2-88a8e8a54dfe\",\"type\":\"Legend\"}],\"below\":[{\"id\":\"88ebf187-f135-4038-9c0e-9264cefdff5d\",\"type\":\"LinearAxis\"}],\"left\":[{\"id\":\"09552194-0ba7-4aa1-a646-f9acecebc093\",\"type\":\"LogAxis\"}],\"plot_width\":300,\"renderers\":[{\"id\":\"88ebf187-f135-4038-9c0e-9264cefdff5d\",\"type\":\"LinearAxis\"},{\"id\":\"25aed125-ffee-4dc3-a623-9b3f6f9ed250\",\"type\":\"Grid\"},{\"id\":\"09552194-0ba7-4aa1-a646-f9acecebc093\",\"type\":\"LogAxis\"},{\"id\":\"adc89514-cce8-4ac0-9c6d-786bb3d19602\",\"type\":\"Grid\"},{\"id\":\"913acf95-21c4-4cc3-b305-0020900161bb\",\"type\":\"BoxAnnotation\"},{\"id\":\"d83d1e68-7277-461d-994a-900344f7c173\",\"type\":\"GlyphRenderer\"},{\"id\":\"b6e7a457-00b5-4c8c-8b3e-f895862ee737\",\"type\":\"GlyphRenderer\"},{\"id\":\"68c0a103-50fa-49d3-9e03-77ea4c74e93e\",\"type\":\"GlyphRenderer\"},{\"id\":\"068547f2-36ce-459f-b223-6484a3ec5332\",\"type\":\"GlyphRenderer\"},{\"id\":\"8c7089cb-5dc4-4b44-8783-bae5102afeb7\",\"type\":\"GlyphRenderer\"},{\"id\":\"89b869fd-957c-443f-80d2-88a8e8a54dfe\",\"type\":\"Legend\"}],\"title\":{\"id\":\"690ae683-67d3-4b1a-ae35-96d3b2331251\",\"type\":\"Title\"},\"toolbar\":{\"id\":\"0a80f7c5-4646-4f37-a83f-2ea578d289cf\",\"type\":\"Toolbar\"},\"toolbar_location\":null,\"x_range\":{\"id\":\"19f7d49a-06f5-474f-8c20-07d8bf1d2efc\",\"type\":\"Range1d\"},\"x_scale\":{\"id\":\"6609dc1c-a0f0-45a0-9770-1a86e0505c38\",\"type\":\"LinearScale\"},\"y_range\":{\"id\":\"def04b63-964f-4bab-aa45-73aec153294c\",\"type\":\"Range1d\"},\"y_scale\":{\"id\":\"ed2cd9ea-7099-41b9-90ae-2fe29f220a36\",\"type\":\"LogScale\"}},\"id\":\"eac01ee8-72ac-4197-9021-670fdea69dee\",\"subtype\":\"Figure\",\"type\":\"Plot\"},{\"attributes\":{},\"id\":\"496d52b5-fd0c-4413-a3ca-2f8fbcb1d3c0\",\"type\":\"Selection\"},{\"attributes\":{\"callback\":null,\"end\":0.01,\"start\":1020},\"id\":\"def04b63-964f-4bab-aa45-73aec153294c\",\"type\":\"Range1d\"},{\"attributes\":{\"data_source\":{\"id\":\"1711542b-5e88-4d06-899d-8cf064946699\",\"type\":\"ColumnDataSource\"},\"glyph\":{\"id\":\"16c8e3ef-98ca-410a-9fb4-bc0300d15d84\",\"type\":\"Line\"},\"hover_glyph\":null,\"muted_glyph\":null,\"nonselection_glyph\":{\"id\":\"8b31866b-0111-4565-b148-81b5ff26256d\",\"type\":\"Line\"},\"selection_glyph\":null,\"view\":{\"id\":\"576f12a6-093f-4728-bc74-9c7499a83bd6\",\"type\":\"CDSView\"}},\"id\":\"4e5a3dac-a7c6-4cd6-ae11-415c3f793754\",\"type\":\"GlyphRenderer\"},{\"attributes\":{\"source\":{\"id\":\"a27c6ee5-e357-4066-b7b4-2941184c2676\",\"type\":\"ColumnDataSource\"}},\"id\":\"096d902d-bde1-40fd-b804-7b3e69fe7efb\",\"type\":\"CDSView\"},{\"attributes\":{\"callback\":null,\"data\":{\"x\":{\"__ndarray__\":\"cm1sTMT3VEDEyvjosEJHQOKI6DjzCUNArgQWV9awPkB9Lm8XG3M4QEz+Qv6iYzNA7eV8HaPLLkCX1QHyTpMoQFBmYSYetiNAUB04GtGpH0AmFyVE5j8ZQJca9QPGqBNALJP+OOHHDEBNxaf7QF8AQKtislomWuw/cW2dcO6A9T/uJJvfPu0EQIaQLTI/JQ1AxGiII+PmEkCJvfVeuCsYQD6ZBhGbHB9AXQw69DTYJEAsubcwKucqQNuT9D5OmipAJyi3szEJJUBlNebh5WkgQDDcPHBr2xlArtlANXuQFEBdJadFHckQQI2Avh0ZsQtAjYiwt1rsBUCL0SDoVBgAQK6C0nEEjvc/CggLSme58T9sXU2orFPnP0v0JYz9Gdg/vT38vxYczD9nBQTe6kHHP1IhkEXJwKo/8OZnhCVAub+xtVgCpmqzP6DUpY6g0+k/PKK3T1h4+D8RTDjQc1EAQG/dAQs7TwJAQt2eHpPLAEBWEh074x//PyCap9ZSGf4/rEzaTySm/T+7aXhHRmr9P688KeqeNP0/ruZ4EemD/D8olrZcn9T7P0+vNc9hW/s/i9VVL+4P+z+0NzC24uz6P8731Kza8vo/xFf4SHzq+z+gYyHpvHb8P68ROkiFevw/BAjYdCga/D8AUp8VbW77P3JrF/nKmvo/qCQeGfq++T/dplwHJfn4P2G4p+Uva/g/OzZ0RqMZ+D8dmn/iar73P/OuA7Ka8PY/gaaeQHGn9T9hkyjAH1L0P3aZGhdAU/M/n8VP/g7P8j+90HxHNvfyPwhNBtgrqvk/\",\"dtype\":\"float64\",\"shape\":[75]},\"y\":{\"__ndarray__\":\"GhExyth1ND/Sv8nbtpRIP2vylNV0PVE/aTum7souWD/At0SJ8fVgPw3Iuahxymc/MSNhhJWvcD/bTfBN02d3P2zb5nxnaoA/CD5h5MAGhz8NmeH1TyaQP+zrCsc9p5Y/LbKd76fGnz/bLW5ISEmmPww9YvTcQq8/JV2OstnstT8Er5Y7M8G+P0c+r3jqkcU/5h99k6ZBzj88bCIzFzjVP4enV8oyxN0//yH99nXg5D8qOpLLf0jtP5kqGJXUifQ/c9cS8kHP/D+/DpwzojQEQIEmwoanVwxA4lgXt9HgE0BSSZ2AJuIbQAMJih9jjiNA5q4l5INuK0AwTKYKRj0zQNv5fmq8/DpAaCJseHrtQkB/+zpwzoxKQM3MzMzMeFJAZmZmZmZqWEAAAAAAAFxeQM3MzMzMJmJAmpmZmZkfZUBmZmZmZhhoQDMzMzMzEWtAAAAAAAAKbkBmZmZmZoFwQM3MzMzM/XFAMzMzMzN6c0CamZmZmfZ0QAAAAAAAc3ZAZmZmZmbvd0DNzMzMzGt5QDMzMzMz6HpAmpmZmZlkfEAAAAAAAOF9QGZmZmZmXX9AZmZmZuZsgECamZmZGSuBQM3MzMxM6YFAAAAAAICngkAzMzMzs2WDQGZmZmbmI4RAmpmZmRnihEDNzMzMTKCFQAAAAACAXoZAMzMzM7Mch0BmZmZm5tqHQJqZmZkZmYhAzczMzExXiUAAAAAAgBWKQDMzMzOz04pAZmZmZuaRi0CamZmZGVCMQM3MzMxMDo1AAAAAAIDMjUAzMzMzs4qOQGZmZmbmSI9A\",\"dtype\":\"float64\",\"shape\":[75]}},\"selected\":{\"id\":\"c9923614-91d6-40eb-a838-8cfa32db2c31\",\"type\":\"Selection\"},\"selection_policy\":{\"id\":\"8d27dced-6890-4414-a61c-e1962651547c\",\"type\":\"UnionRenderers\"}},\"id\":\"5b3f0de1-daa0-4707-9ac6-e1a030107636\",\"type\":\"ColumnDataSource\"}],\"root_ids\":[\"a4ca9bf6-d5de-4f63-b855-0d6abc9d90e2\"]},\"title\":\"Bokeh Application\",\"version\":\"0.12.16\"}};\n",
       "  var render_items = [{\"docid\":\"3861755d-50ad-4184-816a-89fcf1cb4cb0\",\"elementid\":\"6503567a-b7be-4759-8557-78d1d2ae440a\",\"modelid\":\"a4ca9bf6-d5de-4f63-b855-0d6abc9d90e2\"}];\n",
       "  root.Bokeh.embed.embed_items_notebook(docs_json, render_items);\n",
       "\n",
       "  }\n",
       "  if (root.Bokeh !== undefined) {\n",
       "    embed_document(root);\n",
       "  } else {\n",
       "    var attempts = 0;\n",
       "    var timer = setInterval(function(root) {\n",
       "      if (root.Bokeh !== undefined) {\n",
       "        embed_document(root);\n",
       "        clearInterval(timer);\n",
       "      }\n",
       "      attempts++;\n",
       "      if (attempts > 100) {\n",
       "        console.log(\"Bokeh: ERROR: Unable to run BokehJS code because BokehJS library is missing\")\n",
       "        clearInterval(timer);\n",
       "      }\n",
       "    }, 10, root)\n",
       "  }\n",
       "})(window);"
      ],
      "application/vnd.bokehjs_exec.v0+json": ""
     },
     "metadata": {
      "application/vnd.bokehjs_exec.v0+json": {
       "id": "a4ca9bf6-d5de-4f63-b855-0d6abc9d90e2"
      }
     },
     "output_type": "display_data"
    },
    {
     "data": {
      "text/markdown": [
       "*FIGURE.* Cooling rates & difference."
      ],
      "text/plain": [
       "<IPython.core.display.Markdown object>"
      ]
     },
     "metadata": {},
     "output_type": "display_data"
    },
    {
     "data": {
      "text/html": [
       "<a id=\"Fluxes._mls.\"></a>"
      ],
      "text/plain": [
       "<IPython.core.display.HTML object>"
      ]
     },
     "metadata": {},
     "output_type": "display_data"
    },
    {
     "data": {
      "text/markdown": [
       "# Fluxes. mls."
      ],
      "text/plain": [
       "<IPython.core.display.Markdown object>"
      ]
     },
     "metadata": {},
     "output_type": "display_data"
    },
    {
     "data": {
      "text/html": [
       "\n",
       "<div class=\"bk-root\">\n",
       "    <div class=\"bk-plotdiv\" id=\"c6a950ec-a6ce-4099-8239-04bd56290dc0\"></div>\n",
       "</div>"
      ]
     },
     "metadata": {},
     "output_type": "display_data"
    },
    {
     "data": {
      "application/javascript": [
       "(function(root) {\n",
       "  function embed_document(root) {\n",
       "    \n",
       "  var docs_json = {\"894485ed-0499-4b37-b515-fb76842db94c\":{\"roots\":{\"references\":[{\"attributes\":{\"callback\":null,\"data\":{\"band\":[\"1\",\"2\",\"3\",\"4\",\"5\",\"6\",\"7\",\"8\",\"9\",\"10\",\"11\"],\"flux\":{\"__ndarray__\":\"AEILCRhdyD+AzEHQ0arSP0DMe5xpwtO/gGStodRe0z/ASgaAKm7QPwBwl/2607G/QKz+CMOA2D8ASdv4E5W5vwC2wvS9hpC/YNQ5UPHJwD9AvtXft8awPw==\",\"dtype\":\"float64\",\"shape\":[11]}},\"selected\":{\"id\":\"93568f21-15b1-48a0-9ada-afc5a9ffcc43\",\"type\":\"Selection\"},\"selection_policy\":{\"id\":\"70788c7e-2b50-4ed6-874b-fa0743e320bf\",\"type\":\"UnionRenderers\"}},\"id\":\"e46aa49d-168c-462e-b7f3-66d69919a187\",\"type\":\"ColumnDataSource\"},{\"attributes\":{\"bottom_units\":\"screen\",\"fill_alpha\":{\"value\":0.5},\"fill_color\":{\"value\":\"lightgrey\"},\"left_units\":\"screen\",\"level\":\"overlay\",\"line_alpha\":{\"value\":1.0},\"line_color\":{\"value\":\"black\"},\"line_dash\":[4,4],\"line_width\":{\"value\":2},\"plot\":null,\"render_mode\":\"css\",\"right_units\":\"screen\",\"top_units\":\"screen\"},\"id\":\"43a43590-4cfa-4150-9b75-4a12c020e4b7\",\"type\":\"BoxAnnotation\"},{\"attributes\":{\"fill_alpha\":{\"value\":0.1},\"fill_color\":{\"value\":\"#1f77b4\"},\"line_alpha\":{\"value\":0.1},\"line_color\":{\"value\":\"#1f77b4\"},\"top\":{\"field\":\"flux\"},\"width\":{\"value\":0.9},\"x\":{\"field\":\"band\"}},\"id\":\"efb6b060-0953-436f-83c0-d2b4a480557a\",\"type\":\"VBar\"},{\"attributes\":{},\"id\":\"922d94a1-0fbb-4c74-8625-0eb810a1d0fc\",\"type\":\"HelpTool\"},{\"attributes\":{\"bottom_units\":\"screen\",\"fill_alpha\":{\"value\":0.5},\"fill_color\":{\"value\":\"lightgrey\"},\"left_units\":\"screen\",\"level\":\"overlay\",\"line_alpha\":{\"value\":1.0},\"line_color\":{\"value\":\"black\"},\"line_dash\":[4,4],\"line_width\":{\"value\":2},\"plot\":null,\"render_mode\":\"css\",\"right_units\":\"screen\",\"top_units\":\"screen\"},\"id\":\"59f2938c-78dd-4a2f-9127-e4988cdf61bb\",\"type\":\"BoxAnnotation\"},{\"attributes\":{},\"id\":\"aff6defb-376f-42c5-9ef7-5bfda4029e1a\",\"type\":\"BasicTickFormatter\"},{\"attributes\":{},\"id\":\"c31e96d0-bc7d-4f7b-b439-0c3fc26688ad\",\"type\":\"ResetTool\"},{\"attributes\":{},\"id\":\"8ce1afe7-5a80-445a-949a-89f5fe35908e\",\"type\":\"SaveTool\"},{\"attributes\":{\"callback\":null,\"data\":{\"band\":[\"1\",\"2\",\"3\",\"4\",\"5\",\"6\",\"7\",\"8\",\"9\",\"10\",\"11\"],\"flux\":{\"__ndarray__\":\"AAAAAyUF9r4AgsR29wDYPwC4H/DAANO/ANyul6YIsD+Ajh6/t+nfPwB0ImabwLM/ALE8WXvplz9gN3gVCPHBv4A0KnCyDcY/AKBF71TAjT8AcGzRXW2APw==\",\"dtype\":\"float64\",\"shape\":[11]}},\"selected\":{\"id\":\"8c61f2e6-51eb-4f88-b611-b3b8dabd3a94\",\"type\":\"Selection\"},\"selection_policy\":{\"id\":\"d59d4bea-c278-46bd-8856-2194a527436d\",\"type\":\"UnionRenderers\"}},\"id\":\"c86c8d59-958a-4dc9-a713-62b67f921486\",\"type\":\"ColumnDataSource\"},{\"attributes\":{\"callback\":null},\"id\":\"309c9b8a-f2bb-483d-acb6-51841f39c748\",\"type\":\"DataRange1d\"},{\"attributes\":{\"fill_color\":{\"value\":\"#1f77b4\"},\"line_color\":{\"value\":\"#1f77b4\"},\"top\":{\"field\":\"flux\"},\"width\":{\"value\":0.9},\"x\":{\"field\":\"band\"}},\"id\":\"58e3fe62-c720-46b0-88a9-f33268652f04\",\"type\":\"VBar\"},{\"attributes\":{},\"id\":\"bc81f133-7037-4e07-8aca-47dde6569001\",\"type\":\"CategoricalScale\"},{\"attributes\":{\"overlay\":{\"id\":\"ba476c40-347d-4413-8070-9cb42b03de3d\",\"type\":\"BoxAnnotation\"}},\"id\":\"04fd0bf9-de71-4888-b040-3aa7f5d2442e\",\"type\":\"BoxZoomTool\"},{\"attributes\":{\"callback\":null,\"factors\":[\"1\",\"2\",\"3\",\"4\",\"5\",\"6\",\"7\",\"8\",\"9\",\"10\",\"11\"]},\"id\":\"3552268b-00bd-4b1e-a6fc-5bf70242dc04\",\"type\":\"FactorRange\"},{\"attributes\":{},\"id\":\"787877bd-62c3-4741-ae51-8311b17fce85\",\"type\":\"CategoricalTickFormatter\"},{\"attributes\":{},\"id\":\"359c738e-be4d-4166-b956-8bf5697677dc\",\"type\":\"PanTool\"},{\"attributes\":{\"active_drag\":\"auto\",\"active_inspect\":\"auto\",\"active_scroll\":\"auto\",\"active_tap\":\"auto\",\"tools\":[{\"id\":\"359c738e-be4d-4166-b956-8bf5697677dc\",\"type\":\"PanTool\"},{\"id\":\"8899c896-3ee9-46c2-8a84-0f970c6077f0\",\"type\":\"WheelZoomTool\"},{\"id\":\"04fd0bf9-de71-4888-b040-3aa7f5d2442e\",\"type\":\"BoxZoomTool\"},{\"id\":\"325ddc59-0707-434d-b735-ea310fc843ab\",\"type\":\"SaveTool\"},{\"id\":\"d6d3be34-fe81-4171-be8f-a27d53a0e417\",\"type\":\"ResetTool\"},{\"id\":\"bdab1568-3b51-4755-828e-4b64a8f8f706\",\"type\":\"HelpTool\"}]},\"id\":\"683818de-f0f1-4e85-a2b5-20f34518019f\",\"type\":\"Toolbar\"},{\"attributes\":{\"callback\":null},\"id\":\"b633c742-c470-4e92-9e51-8c698eac21c9\",\"type\":\"DataRange1d\"},{\"attributes\":{\"fill_alpha\":{\"value\":0.1},\"fill_color\":{\"value\":\"#1f77b4\"},\"line_alpha\":{\"value\":0.1},\"line_color\":{\"value\":\"#1f77b4\"},\"top\":{\"field\":\"flux\"},\"width\":{\"value\":0.9},\"x\":{\"field\":\"band\"}},\"id\":\"d4f7c768-3e74-4b6a-a4d6-ca288ddbdba3\",\"type\":\"VBar\"},{\"attributes\":{\"tools\":[{\"id\":\"1be06d1d-8a75-4b2a-a1d7-bb6466a9d2ff\",\"type\":\"PanTool\"},{\"id\":\"8bd837da-e760-4b63-a30b-b819b15327f5\",\"type\":\"WheelZoomTool\"},{\"id\":\"a24d10b4-4e7c-4ec5-b4df-b6a7cfae99ae\",\"type\":\"BoxZoomTool\"},{\"id\":\"8ce1afe7-5a80-445a-949a-89f5fe35908e\",\"type\":\"SaveTool\"},{\"id\":\"c31e96d0-bc7d-4f7b-b439-0c3fc26688ad\",\"type\":\"ResetTool\"},{\"id\":\"922d94a1-0fbb-4c74-8625-0eb810a1d0fc\",\"type\":\"HelpTool\"},{\"id\":\"f1411977-9069-4bcb-ae90-4313e1f6c510\",\"type\":\"PanTool\"},{\"id\":\"68f24be1-388f-4056-8115-868a7b98859d\",\"type\":\"WheelZoomTool\"},{\"id\":\"e53590bd-3d3b-45bd-912b-6c3cef2510b5\",\"type\":\"BoxZoomTool\"},{\"id\":\"cabb4b1f-b751-48ed-9389-2b055f97cf12\",\"type\":\"SaveTool\"},{\"id\":\"407162f6-2d3d-4ca6-bf8d-3d78fe4afbc4\",\"type\":\"ResetTool\"},{\"id\":\"76dd3ba7-3f35-49fb-8f8f-d038f37ed833\",\"type\":\"HelpTool\"},{\"id\":\"359c738e-be4d-4166-b956-8bf5697677dc\",\"type\":\"PanTool\"},{\"id\":\"8899c896-3ee9-46c2-8a84-0f970c6077f0\",\"type\":\"WheelZoomTool\"},{\"id\":\"04fd0bf9-de71-4888-b040-3aa7f5d2442e\",\"type\":\"BoxZoomTool\"},{\"id\":\"325ddc59-0707-434d-b735-ea310fc843ab\",\"type\":\"SaveTool\"},{\"id\":\"d6d3be34-fe81-4171-be8f-a27d53a0e417\",\"type\":\"ResetTool\"},{\"id\":\"bdab1568-3b51-4755-828e-4b64a8f8f706\",\"type\":\"HelpTool\"}]},\"id\":\"9f6f9fec-cf4c-429c-8a75-4e754a2401ad\",\"type\":\"ProxyToolbar\"},{\"attributes\":{\"plot\":{\"id\":\"9761b211-e4d0-40fb-9f53-59495f721a4d\",\"subtype\":\"Figure\",\"type\":\"Plot\"},\"ticker\":{\"id\":\"1feda57d-6b44-46ed-8d43-bcf9ff55abd0\",\"type\":\"CategoricalTicker\"}},\"id\":\"7dbcc6a9-c33d-4e1c-9dea-48962ad9fcc6\",\"type\":\"Grid\"},{\"attributes\":{},\"id\":\"8bd837da-e760-4b63-a30b-b819b15327f5\",\"type\":\"WheelZoomTool\"},{\"attributes\":{\"active_drag\":\"auto\",\"active_inspect\":\"auto\",\"active_scroll\":\"auto\",\"active_tap\":\"auto\",\"tools\":[{\"id\":\"f1411977-9069-4bcb-ae90-4313e1f6c510\",\"type\":\"PanTool\"},{\"id\":\"68f24be1-388f-4056-8115-868a7b98859d\",\"type\":\"WheelZoomTool\"},{\"id\":\"e53590bd-3d3b-45bd-912b-6c3cef2510b5\",\"type\":\"BoxZoomTool\"},{\"id\":\"cabb4b1f-b751-48ed-9389-2b055f97cf12\",\"type\":\"SaveTool\"},{\"id\":\"407162f6-2d3d-4ca6-bf8d-3d78fe4afbc4\",\"type\":\"ResetTool\"},{\"id\":\"76dd3ba7-3f35-49fb-8f8f-d038f37ed833\",\"type\":\"HelpTool\"}]},\"id\":\"c7a46383-6609-4cf2-b688-54bc8a5ce889\",\"type\":\"Toolbar\"},{\"attributes\":{\"source\":{\"id\":\"c86c8d59-958a-4dc9-a713-62b67f921486\",\"type\":\"ColumnDataSource\"}},\"id\":\"ce40ea1d-7de8-4895-96b0-5e160017a6da\",\"type\":\"CDSView\"},{\"attributes\":{},\"id\":\"28f39e67-0d4f-43b3-af66-1e2204974270\",\"type\":\"BasicTicker\"},{\"attributes\":{\"fill_alpha\":{\"value\":0.1},\"fill_color\":{\"value\":\"#1f77b4\"},\"line_alpha\":{\"value\":0.1},\"line_color\":{\"value\":\"#1f77b4\"},\"top\":{\"field\":\"flux\"},\"width\":{\"value\":0.9},\"x\":{\"field\":\"band\"}},\"id\":\"2a6949d8-8022-420e-a6d4-431159f0d97a\",\"type\":\"VBar\"},{\"attributes\":{},\"id\":\"81afc484-31ad-4c76-9870-29be0d300016\",\"type\":\"BasicTickFormatter\"},{\"attributes\":{},\"id\":\"9d6b17f0-e59b-471f-b16f-c8cc0a06c47f\",\"type\":\"UnionRenderers\"},{\"attributes\":{\"toolbar\":{\"id\":\"9f6f9fec-cf4c-429c-8a75-4e754a2401ad\",\"type\":\"ProxyToolbar\"},\"toolbar_location\":\"above\"},\"id\":\"f5c9f320-6faa-4815-97e7-c4a80880e8df\",\"type\":\"ToolbarBox\"},{\"attributes\":{\"plot\":{\"id\":\"f6660e9d-9fd0-495b-a6ac-e3f1acd744e5\",\"subtype\":\"Figure\",\"type\":\"Plot\"},\"ticker\":{\"id\":\"2f3fb0ee-8fe0-44f9-9bf1-0bf3bbf1a82b\",\"type\":\"CategoricalTicker\"}},\"id\":\"b4a4c02f-7ee3-461b-b994-9b9f33817365\",\"type\":\"Grid\"},{\"attributes\":{\"plot\":null,\"text\":\"Atmosphere heating. CLIRAD (single-run) - CRD.\"},\"id\":\"87e7fa67-856f-4223-a15f-823403e331ed\",\"type\":\"Title\"},{\"attributes\":{\"children\":[{\"id\":\"f5c9f320-6faa-4815-97e7-c4a80880e8df\",\"type\":\"ToolbarBox\"},{\"id\":\"ce67ff15-47ab-4cb0-ad36-2ec77b88b696\",\"type\":\"Column\"}]},\"id\":\"412c3231-9030-4863-856d-6d9322e1bc8d\",\"type\":\"Column\"},{\"attributes\":{\"children\":[{\"id\":\"9761b211-e4d0-40fb-9f53-59495f721a4d\",\"subtype\":\"Figure\",\"type\":\"Plot\"},{\"id\":\"a93d2910-5276-4b81-a27f-d841bf450199\",\"subtype\":\"Figure\",\"type\":\"Plot\"},{\"id\":\"f6660e9d-9fd0-495b-a6ac-e3f1acd744e5\",\"subtype\":\"Figure\",\"type\":\"Plot\"}]},\"id\":\"320edfa0-7e30-4632-b080-b44117efdc7c\",\"type\":\"Row\"},{\"attributes\":{\"below\":[{\"id\":\"189a2667-b8b5-49ed-91db-62d4bcb4c1d6\",\"type\":\"CategoricalAxis\"}],\"left\":[{\"id\":\"b91416d7-60e3-4041-ae76-a61ccb846a0c\",\"type\":\"LinearAxis\"}],\"plot_height\":300,\"plot_width\":300,\"renderers\":[{\"id\":\"189a2667-b8b5-49ed-91db-62d4bcb4c1d6\",\"type\":\"CategoricalAxis\"},{\"id\":\"7dbcc6a9-c33d-4e1c-9dea-48962ad9fcc6\",\"type\":\"Grid\"},{\"id\":\"b91416d7-60e3-4041-ae76-a61ccb846a0c\",\"type\":\"LinearAxis\"},{\"id\":\"4cae2f12-2240-430a-9941-3529e469cd2d\",\"type\":\"Grid\"},{\"id\":\"43a43590-4cfa-4150-9b75-4a12c020e4b7\",\"type\":\"BoxAnnotation\"},{\"id\":\"1f8f7cc1-ea37-475c-8da1-188e06398e9f\",\"type\":\"GlyphRenderer\"}],\"title\":{\"id\":\"f60fa8d1-7b0d-4a08-a54d-cd7820277a25\",\"type\":\"Title\"},\"toolbar\":{\"id\":\"12ceabda-f418-44f8-b106-7877be7e3d97\",\"type\":\"Toolbar\"},\"toolbar_location\":null,\"x_range\":{\"id\":\"3552268b-00bd-4b1e-a6fc-5bf70242dc04\",\"type\":\"FactorRange\"},\"x_scale\":{\"id\":\"111c3f31-f6df-4f29-864c-316c7ea5dcfc\",\"type\":\"CategoricalScale\"},\"y_range\":{\"id\":\"309c9b8a-f2bb-483d-acb6-51841f39c748\",\"type\":\"DataRange1d\"},\"y_scale\":{\"id\":\"a2597e2d-96bb-4e30-9ff5-d87324791c05\",\"type\":\"LinearScale\"}},\"id\":\"9761b211-e4d0-40fb-9f53-59495f721a4d\",\"subtype\":\"Figure\",\"type\":\"Plot\"},{\"attributes\":{},\"id\":\"727e1371-66ca-4562-b3db-9a1f06884162\",\"type\":\"CategoricalTickFormatter\"},{\"attributes\":{},\"id\":\"70788c7e-2b50-4ed6-874b-fa0743e320bf\",\"type\":\"UnionRenderers\"},{\"attributes\":{\"overlay\":{\"id\":\"59f2938c-78dd-4a2f-9127-e4988cdf61bb\",\"type\":\"BoxAnnotation\"}},\"id\":\"e53590bd-3d3b-45bd-912b-6c3cef2510b5\",\"type\":\"BoxZoomTool\"},{\"attributes\":{\"dimension\":1,\"plot\":{\"id\":\"f6660e9d-9fd0-495b-a6ac-e3f1acd744e5\",\"subtype\":\"Figure\",\"type\":\"Plot\"},\"ticker\":{\"id\":\"28f39e67-0d4f-43b3-af66-1e2204974270\",\"type\":\"BasicTicker\"}},\"id\":\"88cb3f08-5b8d-4527-8f75-7d10da768931\",\"type\":\"Grid\"},{\"attributes\":{\"source\":{\"id\":\"e46aa49d-168c-462e-b7f3-66d69919a187\",\"type\":\"ColumnDataSource\"}},\"id\":\"31adfe7c-44cb-40f2-b738-34b91eb1fbfe\",\"type\":\"CDSView\"},{\"attributes\":{},\"id\":\"93568f21-15b1-48a0-9ada-afc5a9ffcc43\",\"type\":\"Selection\"},{\"attributes\":{\"below\":[{\"id\":\"20f7d68b-f58c-4c6f-bd65-8c16628108f0\",\"type\":\"CategoricalAxis\"}],\"left\":[{\"id\":\"64387d40-279e-44a5-8860-cbc278b96c34\",\"type\":\"LinearAxis\"}],\"plot_height\":300,\"plot_width\":300,\"renderers\":[{\"id\":\"20f7d68b-f58c-4c6f-bd65-8c16628108f0\",\"type\":\"CategoricalAxis\"},{\"id\":\"b4a4c02f-7ee3-461b-b994-9b9f33817365\",\"type\":\"Grid\"},{\"id\":\"64387d40-279e-44a5-8860-cbc278b96c34\",\"type\":\"LinearAxis\"},{\"id\":\"88cb3f08-5b8d-4527-8f75-7d10da768931\",\"type\":\"Grid\"},{\"id\":\"ba476c40-347d-4413-8070-9cb42b03de3d\",\"type\":\"BoxAnnotation\"},{\"id\":\"d9c08347-a498-4889-abb2-d4bd47fe55f4\",\"type\":\"GlyphRenderer\"}],\"title\":{\"id\":\"87e7fa67-856f-4223-a15f-823403e331ed\",\"type\":\"Title\"},\"toolbar\":{\"id\":\"683818de-f0f1-4e85-a2b5-20f34518019f\",\"type\":\"Toolbar\"},\"toolbar_location\":null,\"x_range\":{\"id\":\"2b42b347-1467-4bd4-824b-7e2439fdb8fd\",\"type\":\"FactorRange\"},\"x_scale\":{\"id\":\"050069f5-6728-4b73-9fe6-93eb5f6faad0\",\"type\":\"CategoricalScale\"},\"y_range\":{\"id\":\"2258b6cf-b8e9-4694-81a6-bf9dbdb12937\",\"type\":\"DataRange1d\"},\"y_scale\":{\"id\":\"b445cc88-697c-4756-bea9-33c46db6162a\",\"type\":\"LinearScale\"}},\"id\":\"f6660e9d-9fd0-495b-a6ac-e3f1acd744e5\",\"subtype\":\"Figure\",\"type\":\"Plot\"},{\"attributes\":{},\"id\":\"cb7e717f-09f2-4c19-96bc-506ea116beed\",\"type\":\"BasicTickFormatter\"},{\"attributes\":{},\"id\":\"dc242e9a-a7f2-4ae8-bc9a-30a4560ab0bf\",\"type\":\"LinearScale\"},{\"attributes\":{\"axis_label\":\"flux (W m-2)\",\"formatter\":{\"id\":\"81afc484-31ad-4c76-9870-29be0d300016\",\"type\":\"BasicTickFormatter\"},\"plot\":{\"id\":\"f6660e9d-9fd0-495b-a6ac-e3f1acd744e5\",\"subtype\":\"Figure\",\"type\":\"Plot\"},\"ticker\":{\"id\":\"28f39e67-0d4f-43b3-af66-1e2204974270\",\"type\":\"BasicTicker\"}},\"id\":\"64387d40-279e-44a5-8860-cbc278b96c34\",\"type\":\"LinearAxis\"},{\"attributes\":{},\"id\":\"d629e474-6ce1-4989-b805-39a52b0781be\",\"type\":\"BasicTicker\"},{\"attributes\":{\"fill_color\":{\"value\":\"#1f77b4\"},\"line_color\":{\"value\":\"#1f77b4\"},\"top\":{\"field\":\"flux\"},\"width\":{\"value\":0.9},\"x\":{\"field\":\"band\"}},\"id\":\"db12f2d1-a62a-4681-bf39-3b1cb1d45cc2\",\"type\":\"VBar\"},{\"attributes\":{\"axis_label\":\"flux (W m-2)\",\"formatter\":{\"id\":\"cb7e717f-09f2-4c19-96bc-506ea116beed\",\"type\":\"BasicTickFormatter\"},\"plot\":{\"id\":\"9761b211-e4d0-40fb-9f53-59495f721a4d\",\"subtype\":\"Figure\",\"type\":\"Plot\"},\"ticker\":{\"id\":\"d629e474-6ce1-4989-b805-39a52b0781be\",\"type\":\"BasicTicker\"}},\"id\":\"b91416d7-60e3-4041-ae76-a61ccb846a0c\",\"type\":\"LinearAxis\"},{\"attributes\":{\"callback\":null},\"id\":\"2258b6cf-b8e9-4694-81a6-bf9dbdb12937\",\"type\":\"DataRange1d\"},{\"attributes\":{\"active_drag\":\"auto\",\"active_inspect\":\"auto\",\"active_scroll\":\"auto\",\"active_tap\":\"auto\",\"tools\":[{\"id\":\"1be06d1d-8a75-4b2a-a1d7-bb6466a9d2ff\",\"type\":\"PanTool\"},{\"id\":\"8bd837da-e760-4b63-a30b-b819b15327f5\",\"type\":\"WheelZoomTool\"},{\"id\":\"a24d10b4-4e7c-4ec5-b4df-b6a7cfae99ae\",\"type\":\"BoxZoomTool\"},{\"id\":\"8ce1afe7-5a80-445a-949a-89f5fe35908e\",\"type\":\"SaveTool\"},{\"id\":\"c31e96d0-bc7d-4f7b-b439-0c3fc26688ad\",\"type\":\"ResetTool\"},{\"id\":\"922d94a1-0fbb-4c74-8625-0eb810a1d0fc\",\"type\":\"HelpTool\"}]},\"id\":\"12ceabda-f418-44f8-b106-7877be7e3d97\",\"type\":\"Toolbar\"},{\"attributes\":{},\"id\":\"d59d4bea-c278-46bd-8856-2194a527436d\",\"type\":\"UnionRenderers\"},{\"attributes\":{},\"id\":\"a2597e2d-96bb-4e30-9ff5-d87324791c05\",\"type\":\"LinearScale\"},{\"attributes\":{},\"id\":\"8a576ee8-b0bd-490d-bdb0-269990b10107\",\"type\":\"BasicTicker\"},{\"attributes\":{\"axis_label\":\"flux (W m-2)\",\"formatter\":{\"id\":\"aff6defb-376f-42c5-9ef7-5bfda4029e1a\",\"type\":\"BasicTickFormatter\"},\"plot\":{\"id\":\"a93d2910-5276-4b81-a27f-d841bf450199\",\"subtype\":\"Figure\",\"type\":\"Plot\"},\"ticker\":{\"id\":\"8a576ee8-b0bd-490d-bdb0-269990b10107\",\"type\":\"BasicTicker\"}},\"id\":\"c533820c-8322-4e1b-8460-7639a9964ee9\",\"type\":\"LinearAxis\"},{\"attributes\":{\"data_source\":{\"id\":\"c86c8d59-958a-4dc9-a713-62b67f921486\",\"type\":\"ColumnDataSource\"},\"glyph\":{\"id\":\"db12f2d1-a62a-4681-bf39-3b1cb1d45cc2\",\"type\":\"VBar\"},\"hover_glyph\":null,\"muted_glyph\":null,\"nonselection_glyph\":{\"id\":\"efb6b060-0953-436f-83c0-d2b4a480557a\",\"type\":\"VBar\"},\"selection_glyph\":null,\"view\":{\"id\":\"ce40ea1d-7de8-4895-96b0-5e160017a6da\",\"type\":\"CDSView\"}},\"id\":\"5fe60337-c1bd-4771-bf25-02856bb7b8c4\",\"type\":\"GlyphRenderer\"},{\"attributes\":{\"axis_label\":\"spectral band\",\"formatter\":{\"id\":\"787877bd-62c3-4741-ae51-8311b17fce85\",\"type\":\"CategoricalTickFormatter\"},\"plot\":{\"id\":\"f6660e9d-9fd0-495b-a6ac-e3f1acd744e5\",\"subtype\":\"Figure\",\"type\":\"Plot\"},\"ticker\":{\"id\":\"2f3fb0ee-8fe0-44f9-9bf1-0bf3bbf1a82b\",\"type\":\"CategoricalTicker\"}},\"id\":\"20f7d68b-f58c-4c6f-bd65-8c16628108f0\",\"type\":\"CategoricalAxis\"},{\"attributes\":{},\"id\":\"f1411977-9069-4bcb-ae90-4313e1f6c510\",\"type\":\"PanTool\"},{\"attributes\":{\"source\":{\"id\":\"eb2c0695-94e3-4387-b7d0-8ca940f0ec7f\",\"type\":\"ColumnDataSource\"}},\"id\":\"30ce3d90-81e3-41b7-aca8-2ccef1b7d498\",\"type\":\"CDSView\"},{\"attributes\":{\"dimension\":1,\"plot\":{\"id\":\"9761b211-e4d0-40fb-9f53-59495f721a4d\",\"subtype\":\"Figure\",\"type\":\"Plot\"},\"ticker\":{\"id\":\"d629e474-6ce1-4989-b805-39a52b0781be\",\"type\":\"BasicTicker\"}},\"id\":\"4cae2f12-2240-430a-9941-3529e469cd2d\",\"type\":\"Grid\"},{\"attributes\":{},\"id\":\"bdab1568-3b51-4755-828e-4b64a8f8f706\",\"type\":\"HelpTool\"},{\"attributes\":{\"fill_color\":{\"value\":\"#1f77b4\"},\"line_color\":{\"value\":\"#1f77b4\"},\"top\":{\"field\":\"flux\"},\"width\":{\"value\":0.9},\"x\":{\"field\":\"band\"}},\"id\":\"30b2187f-6f04-454d-baca-d3a430521826\",\"type\":\"VBar\"},{\"attributes\":{},\"id\":\"68f24be1-388f-4056-8115-868a7b98859d\",\"type\":\"WheelZoomTool\"},{\"attributes\":{},\"id\":\"500c5575-0ada-4b3a-b6d0-b25e97a7ef84\",\"type\":\"Selection\"},{\"attributes\":{},\"id\":\"8c61f2e6-51eb-4f88-b611-b3b8dabd3a94\",\"type\":\"Selection\"},{\"attributes\":{\"bottom_units\":\"screen\",\"fill_alpha\":{\"value\":0.5},\"fill_color\":{\"value\":\"lightgrey\"},\"left_units\":\"screen\",\"level\":\"overlay\",\"line_alpha\":{\"value\":1.0},\"line_color\":{\"value\":\"black\"},\"line_dash\":[4,4],\"line_width\":{\"value\":2},\"plot\":null,\"render_mode\":\"css\",\"right_units\":\"screen\",\"top_units\":\"screen\"},\"id\":\"ba476c40-347d-4413-8070-9cb42b03de3d\",\"type\":\"BoxAnnotation\"},{\"attributes\":{\"plot\":null,\"text\":\"SFC flux. CLIRAD (single-run) - CRD.\"},\"id\":\"a330b77d-66c4-4b74-adfe-51476d35fc66\",\"type\":\"Title\"},{\"attributes\":{},\"id\":\"8899c896-3ee9-46c2-8a84-0f970c6077f0\",\"type\":\"WheelZoomTool\"},{\"attributes\":{},\"id\":\"b445cc88-697c-4756-bea9-33c46db6162a\",\"type\":\"LinearScale\"},{\"attributes\":{\"data_source\":{\"id\":\"e46aa49d-168c-462e-b7f3-66d69919a187\",\"type\":\"ColumnDataSource\"},\"glyph\":{\"id\":\"30b2187f-6f04-454d-baca-d3a430521826\",\"type\":\"VBar\"},\"hover_glyph\":null,\"muted_glyph\":null,\"nonselection_glyph\":{\"id\":\"d4f7c768-3e74-4b6a-a4d6-ca288ddbdba3\",\"type\":\"VBar\"},\"selection_glyph\":null,\"view\":{\"id\":\"31adfe7c-44cb-40f2-b738-34b91eb1fbfe\",\"type\":\"CDSView\"}},\"id\":\"1f8f7cc1-ea37-475c-8da1-188e06398e9f\",\"type\":\"GlyphRenderer\"},{\"attributes\":{},\"id\":\"050069f5-6728-4b73-9fe6-93eb5f6faad0\",\"type\":\"CategoricalScale\"},{\"attributes\":{\"below\":[{\"id\":\"4b56a357-1347-45d8-9866-d4e098a58ea6\",\"type\":\"CategoricalAxis\"}],\"left\":[{\"id\":\"c533820c-8322-4e1b-8460-7639a9964ee9\",\"type\":\"LinearAxis\"}],\"plot_height\":300,\"plot_width\":300,\"renderers\":[{\"id\":\"4b56a357-1347-45d8-9866-d4e098a58ea6\",\"type\":\"CategoricalAxis\"},{\"id\":\"a5162f6e-672a-4b92-8827-e02a87415f71\",\"type\":\"Grid\"},{\"id\":\"c533820c-8322-4e1b-8460-7639a9964ee9\",\"type\":\"LinearAxis\"},{\"id\":\"99252663-bc52-4b21-9d68-b0e410fd6ce7\",\"type\":\"Grid\"},{\"id\":\"59f2938c-78dd-4a2f-9127-e4988cdf61bb\",\"type\":\"BoxAnnotation\"},{\"id\":\"5fe60337-c1bd-4771-bf25-02856bb7b8c4\",\"type\":\"GlyphRenderer\"}],\"title\":{\"id\":\"a330b77d-66c4-4b74-adfe-51476d35fc66\",\"type\":\"Title\"},\"toolbar\":{\"id\":\"c7a46383-6609-4cf2-b688-54bc8a5ce889\",\"type\":\"Toolbar\"},\"toolbar_location\":null,\"x_range\":{\"id\":\"a540ce84-8511-4c76-b2f6-8697b97f0b1a\",\"type\":\"FactorRange\"},\"x_scale\":{\"id\":\"bc81f133-7037-4e07-8aca-47dde6569001\",\"type\":\"CategoricalScale\"},\"y_range\":{\"id\":\"b633c742-c470-4e92-9e51-8c698eac21c9\",\"type\":\"DataRange1d\"},\"y_scale\":{\"id\":\"dc242e9a-a7f2-4ae8-bc9a-30a4560ab0bf\",\"type\":\"LinearScale\"}},\"id\":\"a93d2910-5276-4b81-a27f-d841bf450199\",\"subtype\":\"Figure\",\"type\":\"Plot\"},{\"attributes\":{},\"id\":\"cabb4b1f-b751-48ed-9389-2b055f97cf12\",\"type\":\"SaveTool\"},{\"attributes\":{},\"id\":\"2f3fb0ee-8fe0-44f9-9bf1-0bf3bbf1a82b\",\"type\":\"CategoricalTicker\"},{\"attributes\":{},\"id\":\"d6d3be34-fe81-4171-be8f-a27d53a0e417\",\"type\":\"ResetTool\"},{\"attributes\":{},\"id\":\"325ddc59-0707-434d-b735-ea310fc843ab\",\"type\":\"SaveTool\"},{\"attributes\":{},\"id\":\"407162f6-2d3d-4ca6-bf8d-3d78fe4afbc4\",\"type\":\"ResetTool\"},{\"attributes\":{\"axis_label\":\"spectral band\",\"formatter\":{\"id\":\"727e1371-66ca-4562-b3db-9a1f06884162\",\"type\":\"CategoricalTickFormatter\"},\"plot\":{\"id\":\"a93d2910-5276-4b81-a27f-d841bf450199\",\"subtype\":\"Figure\",\"type\":\"Plot\"},\"ticker\":{\"id\":\"b209112d-526a-401d-9298-de5524116f1f\",\"type\":\"CategoricalTicker\"}},\"id\":\"4b56a357-1347-45d8-9866-d4e098a58ea6\",\"type\":\"CategoricalAxis\"},{\"attributes\":{},\"id\":\"111c3f31-f6df-4f29-864c-316c7ea5dcfc\",\"type\":\"CategoricalScale\"},{\"attributes\":{\"callback\":null,\"data\":{\"band\":[\"1\",\"2\",\"3\",\"4\",\"5\",\"6\",\"7\",\"8\",\"9\",\"10\",\"11\"],\"flux\":{\"__ndarray__\":\"AIMde81dyD8AYEI3wVi1vwBYNyirM4i/ANGnfnO5zj9A+KOoM/fOvwBuLCgMysK/AHAlOzYC1z8A5hw8E5qkP8BJ06BoHsi/QL8FwBXcvT8AZ1U6DnKtPw==\",\"dtype\":\"float64\",\"shape\":[11]}},\"selected\":{\"id\":\"500c5575-0ada-4b3a-b6d0-b25e97a7ef84\",\"type\":\"Selection\"},\"selection_policy\":{\"id\":\"9d6b17f0-e59b-471f-b16f-c8cc0a06c47f\",\"type\":\"UnionRenderers\"}},\"id\":\"eb2c0695-94e3-4387-b7d0-8ca940f0ec7f\",\"type\":\"ColumnDataSource\"},{\"attributes\":{\"callback\":null,\"factors\":[\"1\",\"2\",\"3\",\"4\",\"5\",\"6\",\"7\",\"8\",\"9\",\"10\",\"11\"]},\"id\":\"a540ce84-8511-4c76-b2f6-8697b97f0b1a\",\"type\":\"FactorRange\"},{\"attributes\":{\"plot\":{\"id\":\"a93d2910-5276-4b81-a27f-d841bf450199\",\"subtype\":\"Figure\",\"type\":\"Plot\"},\"ticker\":{\"id\":\"b209112d-526a-401d-9298-de5524116f1f\",\"type\":\"CategoricalTicker\"}},\"id\":\"a5162f6e-672a-4b92-8827-e02a87415f71\",\"type\":\"Grid\"},{\"attributes\":{\"axis_label\":\"spectral band\",\"formatter\":{\"id\":\"d00de161-e588-44cf-80fc-338726b7f963\",\"type\":\"CategoricalTickFormatter\"},\"plot\":{\"id\":\"9761b211-e4d0-40fb-9f53-59495f721a4d\",\"subtype\":\"Figure\",\"type\":\"Plot\"},\"ticker\":{\"id\":\"1feda57d-6b44-46ed-8d43-bcf9ff55abd0\",\"type\":\"CategoricalTicker\"}},\"id\":\"189a2667-b8b5-49ed-91db-62d4bcb4c1d6\",\"type\":\"CategoricalAxis\"},{\"attributes\":{},\"id\":\"76dd3ba7-3f35-49fb-8f8f-d038f37ed833\",\"type\":\"HelpTool\"},{\"attributes\":{},\"id\":\"1feda57d-6b44-46ed-8d43-bcf9ff55abd0\",\"type\":\"CategoricalTicker\"},{\"attributes\":{},\"id\":\"d00de161-e588-44cf-80fc-338726b7f963\",\"type\":\"CategoricalTickFormatter\"},{\"attributes\":{\"dimension\":1,\"plot\":{\"id\":\"a93d2910-5276-4b81-a27f-d841bf450199\",\"subtype\":\"Figure\",\"type\":\"Plot\"},\"ticker\":{\"id\":\"8a576ee8-b0bd-490d-bdb0-269990b10107\",\"type\":\"BasicTicker\"}},\"id\":\"99252663-bc52-4b21-9d68-b0e410fd6ce7\",\"type\":\"Grid\"},{\"attributes\":{},\"id\":\"1be06d1d-8a75-4b2a-a1d7-bb6466a9d2ff\",\"type\":\"PanTool\"},{\"attributes\":{\"data_source\":{\"id\":\"eb2c0695-94e3-4387-b7d0-8ca940f0ec7f\",\"type\":\"ColumnDataSource\"},\"glyph\":{\"id\":\"58e3fe62-c720-46b0-88a9-f33268652f04\",\"type\":\"VBar\"},\"hover_glyph\":null,\"muted_glyph\":null,\"nonselection_glyph\":{\"id\":\"2a6949d8-8022-420e-a6d4-431159f0d97a\",\"type\":\"VBar\"},\"selection_glyph\":null,\"view\":{\"id\":\"30ce3d90-81e3-41b7-aca8-2ccef1b7d498\",\"type\":\"CDSView\"}},\"id\":\"d9c08347-a498-4889-abb2-d4bd47fe55f4\",\"type\":\"GlyphRenderer\"},{\"attributes\":{\"children\":[{\"id\":\"320edfa0-7e30-4632-b080-b44117efdc7c\",\"type\":\"Row\"}]},\"id\":\"ce67ff15-47ab-4cb0-ad36-2ec77b88b696\",\"type\":\"Column\"},{\"attributes\":{\"callback\":null,\"factors\":[\"1\",\"2\",\"3\",\"4\",\"5\",\"6\",\"7\",\"8\",\"9\",\"10\",\"11\"]},\"id\":\"2b42b347-1467-4bd4-824b-7e2439fdb8fd\",\"type\":\"FactorRange\"},{\"attributes\":{},\"id\":\"b209112d-526a-401d-9298-de5524116f1f\",\"type\":\"CategoricalTicker\"},{\"attributes\":{\"overlay\":{\"id\":\"43a43590-4cfa-4150-9b75-4a12c020e4b7\",\"type\":\"BoxAnnotation\"}},\"id\":\"a24d10b4-4e7c-4ec5-b4df-b6a7cfae99ae\",\"type\":\"BoxZoomTool\"},{\"attributes\":{\"plot\":null,\"text\":\"TOA flux. CLIRAD (single-run) - CRD.\"},\"id\":\"f60fa8d1-7b0d-4a08-a54d-cd7820277a25\",\"type\":\"Title\"}],\"root_ids\":[\"412c3231-9030-4863-856d-6d9322e1bc8d\"]},\"title\":\"Bokeh Application\",\"version\":\"0.12.16\"}};\n",
       "  var render_items = [{\"docid\":\"894485ed-0499-4b37-b515-fb76842db94c\",\"elementid\":\"c6a950ec-a6ce-4099-8239-04bd56290dc0\",\"modelid\":\"412c3231-9030-4863-856d-6d9322e1bc8d\"}];\n",
       "  root.Bokeh.embed.embed_items_notebook(docs_json, render_items);\n",
       "\n",
       "  }\n",
       "  if (root.Bokeh !== undefined) {\n",
       "    embed_document(root);\n",
       "  } else {\n",
       "    var attempts = 0;\n",
       "    var timer = setInterval(function(root) {\n",
       "      if (root.Bokeh !== undefined) {\n",
       "        embed_document(root);\n",
       "        clearInterval(timer);\n",
       "      }\n",
       "      attempts++;\n",
       "      if (attempts > 100) {\n",
       "        console.log(\"Bokeh: ERROR: Unable to run BokehJS code because BokehJS library is missing\")\n",
       "        clearInterval(timer);\n",
       "      }\n",
       "    }, 10, root)\n",
       "  }\n",
       "})(window);"
      ],
      "application/vnd.bokehjs_exec.v0+json": ""
     },
     "metadata": {
      "application/vnd.bokehjs_exec.v0+json": {
       "id": "412c3231-9030-4863-856d-6d9322e1bc8d"
      }
     },
     "output_type": "display_data"
    },
    {
     "data": {
      "text/markdown": [
       "*FIGURE.* Difference between CLIRAD and CRD in TOA, SFC and net atmosphere flux, in each spectral band."
      ],
      "text/plain": [
       "<IPython.core.display.Markdown object>"
      ]
     },
     "metadata": {},
     "output_type": "display_data"
    },
    {
     "data": {
      "text/html": [
       "<div>\n",
       "<style scoped>\n",
       "    .dataframe tbody tr th:only-of-type {\n",
       "        vertical-align: middle;\n",
       "    }\n",
       "\n",
       "    .dataframe tbody tr th {\n",
       "        vertical-align: top;\n",
       "    }\n",
       "\n",
       "    .dataframe thead th {\n",
       "        text-align: right;\n",
       "    }\n",
       "</style>\n",
       "<table border=\"1\" class=\"dataframe\">\n",
       "  <thead>\n",
       "    <tr style=\"text-align: right;\">\n",
       "      <th></th>\n",
       "      <th>OLR flux</th>\n",
       "      <th>SFC flux</th>\n",
       "      <th>ATM heating</th>\n",
       "    </tr>\n",
       "    <tr>\n",
       "      <th>Sum over bands</th>\n",
       "      <th></th>\n",
       "      <th></th>\n",
       "      <th></th>\n",
       "    </tr>\n",
       "  </thead>\n",
       "  <tbody>\n",
       "    <tr>\n",
       "      <th>old CLIRAD - CRD</th>\n",
       "      <td>0.09</td>\n",
       "      <td>1.54</td>\n",
       "      <td>-1.31</td>\n",
       "    </tr>\n",
       "    <tr>\n",
       "      <th>CLIRAD (single-run) - CRD</th>\n",
       "      <td>1.13</td>\n",
       "      <td>0.79</td>\n",
       "      <td>0.33</td>\n",
       "    </tr>\n",
       "    <tr>\n",
       "      <th>CRD</th>\n",
       "      <td>-290.39</td>\n",
       "      <td>308.14</td>\n",
       "      <td>-174.89</td>\n",
       "    </tr>\n",
       "  </tbody>\n",
       "</table>\n",
       "</div>"
      ],
      "text/plain": [
       "                           OLR flux  SFC flux  ATM heating\n",
       "Sum over bands                                            \n",
       "old CLIRAD - CRD               0.09      1.54        -1.31\n",
       "CLIRAD (single-run) - CRD      1.13      0.79         0.33\n",
       "CRD                         -290.39    308.14      -174.89"
      ]
     },
     "metadata": {},
     "output_type": "display_data"
    },
    {
     "data": {
      "text/markdown": [
       "*TABLE.* Difference between CLIRAD and CRD in TOA, SFC and net atmosphere flux, over all spectral bands. CRD's TOA, SFC and net atmosphere flux, over all spectral bands."
      ],
      "text/plain": [
       "<IPython.core.display.Markdown object>"
      ]
     },
     "metadata": {},
     "output_type": "display_data"
    },
    {
     "data": {
      "text/html": [
       "<a id=\"Cooling_rates._saw.\"></a>"
      ],
      "text/plain": [
       "<IPython.core.display.HTML object>"
      ]
     },
     "metadata": {},
     "output_type": "display_data"
    },
    {
     "data": {
      "text/markdown": [
       "# Cooling rates. saw."
      ],
      "text/plain": [
       "<IPython.core.display.Markdown object>"
      ]
     },
     "metadata": {},
     "output_type": "display_data"
    },
    {
     "data": {
      "text/html": [
       "\n",
       "<div class=\"bk-root\">\n",
       "    <div class=\"bk-plotdiv\" id=\"cc03af73-1028-4a54-bf70-f939598922ff\"></div>\n",
       "</div>"
      ]
     },
     "metadata": {},
     "output_type": "display_data"
    },
    {
     "data": {
      "application/javascript": [
       "(function(root) {\n",
       "  function embed_document(root) {\n",
       "    \n",
       "  var docs_json = {\"f4ea0b3b-671a-44db-8e56-0ce00b767d16\":{\"roots\":{\"references\":[{\"attributes\":{\"data_source\":{\"id\":\"26083815-f975-498b-96ae-ec188cd38e23\",\"type\":\"ColumnDataSource\"},\"glyph\":{\"id\":\"4820419e-1e39-4f5f-87d8-7eb6841314e5\",\"type\":\"Line\"},\"hover_glyph\":null,\"muted_glyph\":null,\"nonselection_glyph\":{\"id\":\"17e22215-852e-4712-a748-6669d75a1db9\",\"type\":\"Line\"},\"selection_glyph\":null,\"view\":{\"id\":\"074b5372-c75b-4f26-aaa9-d16a8c593a00\",\"type\":\"CDSView\"}},\"id\":\"0acba59f-ba09-463c-8b9a-6e41df30a0a5\",\"type\":\"GlyphRenderer\"},{\"attributes\":{\"source\":{\"id\":\"26083815-f975-498b-96ae-ec188cd38e23\",\"type\":\"ColumnDataSource\"}},\"id\":\"074b5372-c75b-4f26-aaa9-d16a8c593a00\",\"type\":\"CDSView\"},{\"attributes\":{\"children\":[{\"id\":\"a0600a7d-9e54-40ab-bceb-99a7fe594c6c\",\"subtype\":\"Figure\",\"type\":\"Plot\"},{\"id\":\"0dbf4ca8-7e26-4117-ba73-3b5eaa02ef05\",\"subtype\":\"Figure\",\"type\":\"Plot\"},{\"id\":\"ab0cc8c6-0164-4124-9d66-0627120ab2a1\",\"subtype\":\"Figure\",\"type\":\"Plot\"}]},\"id\":\"db2751e1-4105-4e45-bb69-1ede33a0083b\",\"type\":\"Row\"},{\"attributes\":{\"dimension\":1,\"plot\":{\"id\":\"a0600a7d-9e54-40ab-bceb-99a7fe594c6c\",\"subtype\":\"Figure\",\"type\":\"Plot\"},\"ticker\":{\"id\":\"94ac8626-2b18-4a53-a82b-e2b20fb34539\",\"type\":\"BasicTicker\"}},\"id\":\"a08ec1a1-a994-474e-8e0f-e7ebe47be475\",\"type\":\"Grid\"},{\"attributes\":{\"line_alpha\":0.1,\"line_color\":\"#1f77b4\",\"line_width\":1.5,\"x\":{\"field\":\"x\"},\"y\":{\"field\":\"y\"}},\"id\":\"2bb6b049-ce77-434a-b1a4-8c01f563c6a9\",\"type\":\"Line\"},{\"attributes\":{\"callback\":null,\"end\":0.01,\"start\":1020},\"id\":\"7230300f-2aa0-4de9-aa0f-e25778b10414\",\"type\":\"Range1d\"},{\"attributes\":{\"ticker\":null},\"id\":\"2b77bfa8-56e0-4cea-930a-ae6141165625\",\"type\":\"LogTickFormatter\"},{\"attributes\":{\"label\":{\"value\":\"CRD\"},\"renderers\":[{\"id\":\"240db0a8-cebd-4350-995b-af35b8122ff2\",\"type\":\"GlyphRenderer\"},{\"id\":\"805e57ef-4f6a-4b7e-a6c7-138c7fc7f334\",\"type\":\"GlyphRenderer\"}]},\"id\":\"1063d5b2-ecb2-4042-85df-b26f7579cf9a\",\"type\":\"LegendItem\"},{\"attributes\":{},\"id\":\"dff8e124-1191-4a21-9a4c-23f22d9f281e\",\"type\":\"BasicTickFormatter\"},{\"attributes\":{\"fill_alpha\":{\"value\":0.7},\"fill_color\":{\"value\":\"#4daf4a\"},\"line_alpha\":{\"value\":0.7},\"line_color\":{\"value\":\"#4daf4a\"},\"x\":{\"field\":\"x\"},\"y\":{\"field\":\"y\"}},\"id\":\"f13df9e0-c7a6-4f6c-ae59-954c84a3da8a\",\"type\":\"Circle\"},{\"attributes\":{},\"id\":\"9de0d435-5886-4090-88a8-67154879ea40\",\"type\":\"SaveTool\"},{\"attributes\":{\"callback\":null,\"data\":{\"x\":{\"__ndarray__\":\"0CYBcvU5UkCik9zf2GVBQF1VoNfLZ0BAVLxhiVXTPUDD1Wu1wJM6QFJyB025jjdAU6Aw5+b/NECYe1uuDfgyQB6bYtVTbTFAPxYSAF1HMEA00pYVm9QuQLolHbMzgC1AntlwirGsLECv+G9SjE4rQJH6ZLBp0ShAsLZQyPd/JkDyjgyf2PwkQLgyNGsrJyRAA13QbJD6I0C8hy0ilI4kQOVTXCEgcSZAovOGvZSGJUBVc/ZmUOIgQOf/6GHAyRlAcE8fAOBSFEDRur1U//gPQGFD9ZbokghAQsqHuSqSA0C91ci3W0UBQCtRQfvz7/4/kh8pntyB+j9t1/n+4TX1P773MAUjFfI/RgzR+CI28T8hBW8WHK7uPzVKjJfU8uk/0FPt4/z65T/wVYqzMPDhPz7K9C5CXuE/8+hSn9hY4T/9PPCkR6rhP1XsIC599OA/66X1nBCX3z/YbRM56QjcPz4dkSQc/dM/S7Wb8Fq00T+/yQdmX0vcP7TrGf476eM/WqNPJoWO7D9qOH1bcwDzP2bw+R5DQ/Y/RLSuQOQp+D8+aif8yAz5P0Wv6eBKRfk/0i2+IN4R+T/ik8QNFZr4PyS5UD5j/Pc/yJ68zXRG9z/2CHPL54H2P59SOhwKtPU/npkP8dfg9D8NlmVcdQz0P80ugRvuOvM/byxiAHN18j9USVZie8nxP5l9lNXYSPE/OB+F0UYP8T8Y7dsUCTHxP3EBgTHPcPE/bfx15p8S8T8FT+xkGtTuP6mdG7rkxuk/pboqTkHX5D/CrN8qGYngP7R4ZaL+htU/\",\"dtype\":\"float64\",\"shape\":[75]},\"y\":{\"__ndarray__\":\"GhExyth1ND/Sv8nbtpRIP2vylNV0PVE/aTum7souWD/At0SJ8fVgPw3Iuahxymc/MSNhhJWvcD/bTfBN02d3P2zb5nxnaoA/CD5h5MAGhz8NmeH1TyaQP+zrCsc9p5Y/LbKd76fGnz/bLW5ISEmmPww9YvTcQq8/JV2OstnstT8Er5Y7M8G+P0c+r3jqkcU/5h99k6ZBzj88bCIzFzjVP4enV8oyxN0//yH99nXg5D8qOpLLf0jtP5kqGJXUifQ/c9cS8kHP/D+/DpwzojQEQIEmwoanVwxA4lgXt9HgE0BSSZ2AJuIbQAMJih9jjiNA5q4l5INuK0AwTKYKRj0zQNv5fmq8/DpAaCJseHrtQkB/+zpwzoxKQM3MzMzMeFJAZmZmZmZqWEAAAAAAAFxeQM3MzMzMJmJAmpmZmZkfZUBmZmZmZhhoQDMzMzMzEWtAAAAAAAAKbkBmZmZmZoFwQM3MzMzM/XFAMzMzMzN6c0CamZmZmfZ0QAAAAAAAc3ZAZmZmZmbvd0DNzMzMzGt5QDMzMzMz6HpAmpmZmZlkfEAAAAAAAOF9QGZmZmZmXX9AZmZmZuZsgECamZmZGSuBQM3MzMxM6YFAAAAAAICngkAzMzMzs2WDQGZmZmbmI4RAmpmZmRnihEDNzMzMTKCFQAAAAACAXoZAMzMzM7Mch0BmZmZm5tqHQJqZmZkZmYhAzczMzExXiUAAAAAAgBWKQDMzMzOz04pAZmZmZuaRi0CamZmZGVCMQM3MzMxMDo1AAAAAAIDMjUAzMzMzs4qOQGZmZmbmSI9A\",\"dtype\":\"float64\",\"shape\":[75]}},\"selected\":{\"id\":\"feff95b2-12a6-43bd-b811-124fcc48b6fa\",\"type\":\"Selection\"},\"selection_policy\":{\"id\":\"4282fe98-3d9a-41ab-ba05-21f68068c022\",\"type\":\"UnionRenderers\"}},\"id\":\"56b5f365-7e8b-4007-81dd-8c8f245dc822\",\"type\":\"ColumnDataSource\"},{\"attributes\":{\"children\":[{\"id\":\"db2751e1-4105-4e45-bb69-1ede33a0083b\",\"type\":\"Row\"}]},\"id\":\"7960be0e-7454-4090-aa2b-07b28934dae1\",\"type\":\"Column\"},{\"attributes\":{\"source\":{\"id\":\"9db3ac8c-9eee-4d10-bb76-12e3736126db\",\"type\":\"ColumnDataSource\"}},\"id\":\"7fa9da23-7d3b-4ae0-82bb-2896ab643ae7\",\"type\":\"CDSView\"},{\"attributes\":{\"label\":{\"value\":\"CLIRAD (single-run) - CRD\"},\"renderers\":[{\"id\":\"97d5f0f4-4091-45f6-921a-d4227e49e444\",\"type\":\"GlyphRenderer\"},{\"id\":\"63966912-3551-41e4-8a58-6a0a33745daa\",\"type\":\"GlyphRenderer\"}]},\"id\":\"0c0871af-c2ea-42ee-9112-e965038c3f60\",\"type\":\"LegendItem\"},{\"attributes\":{\"overlay\":{\"id\":\"e04318b4-5887-4951-80cc-9628799dc383\",\"type\":\"BoxAnnotation\"}},\"id\":\"7e4b9ba6-c650-48f3-8edf-37f941e576aa\",\"type\":\"BoxZoomTool\"},{\"attributes\":{},\"id\":\"3ff50b5a-afd6-44f5-811c-5246a81f10d3\",\"type\":\"ResetTool\"},{\"attributes\":{\"plot\":null,\"text\":\"\"},\"id\":\"3002acc5-c298-4468-9954-9ebd1867a0ed\",\"type\":\"Title\"},{\"attributes\":{\"bottom_units\":\"screen\",\"fill_alpha\":{\"value\":0.5},\"fill_color\":{\"value\":\"lightgrey\"},\"left_units\":\"screen\",\"level\":\"overlay\",\"line_alpha\":{\"value\":1.0},\"line_color\":{\"value\":\"black\"},\"line_dash\":[4,4],\"line_width\":{\"value\":2},\"plot\":null,\"render_mode\":\"css\",\"right_units\":\"screen\",\"top_units\":\"screen\"},\"id\":\"e04318b4-5887-4951-80cc-9628799dc383\",\"type\":\"BoxAnnotation\"},{\"attributes\":{\"line_alpha\":0.1,\"line_color\":\"#1f77b4\",\"line_dash\":[6],\"line_width\":5,\"x\":{\"field\":\"x\"},\"y\":{\"field\":\"y\"}},\"id\":\"7c3530c3-da31-422f-9e95-4a4157a28edf\",\"type\":\"Line\"},{\"attributes\":{\"source\":{\"id\":\"56b5f365-7e8b-4007-81dd-8c8f245dc822\",\"type\":\"ColumnDataSource\"}},\"id\":\"142c34ff-e8e0-4c7f-bf9d-21c5da11200a\",\"type\":\"CDSView\"},{\"attributes\":{},\"id\":\"c78a90d8-ddac-441b-b7a4-98158af067e1\",\"type\":\"LinearScale\"},{\"attributes\":{},\"id\":\"7f610f59-8526-4a0e-88c6-2418b91756cd\",\"type\":\"Selection\"},{\"attributes\":{\"line_color\":\"#4daf4a\",\"line_width\":1.5,\"x\":{\"field\":\"x\"},\"y\":{\"field\":\"y\"}},\"id\":\"059528c2-6dcd-4470-b753-b2fa709afdd0\",\"type\":\"Line\"},{\"attributes\":{\"fill_alpha\":{\"value\":0.1},\"fill_color\":{\"value\":\"#1f77b4\"},\"line_alpha\":{\"value\":0.1},\"line_color\":{\"value\":\"#1f77b4\"},\"x\":{\"field\":\"x\"},\"y\":{\"field\":\"y\"}},\"id\":\"503416fc-0d26-4fae-a30e-9542a97b7b9c\",\"type\":\"Circle\"},{\"attributes\":{\"source\":{\"id\":\"c921591d-cdcd-4cdd-b276-eeded3964adf\",\"type\":\"ColumnDataSource\"}},\"id\":\"0373688a-e014-4c45-be89-7fb3a01c6a2e\",\"type\":\"CDSView\"},{\"attributes\":{\"callback\":null,\"data\":{\"x\":{\"__ndarray__\":\"0CYBcvU5UkCik9zf2GVBQF1VoNfLZ0BAVLxhiVXTPUDD1Wu1wJM6QFJyB025jjdAU6Aw5+b/NECYe1uuDfgyQB6bYtVTbTFAPxYSAF1HMEA00pYVm9QuQLolHbMzgC1AntlwirGsLECv+G9SjE4rQJH6ZLBp0ShAsLZQyPd/JkDyjgyf2PwkQLgyNGsrJyRAA13QbJD6I0C8hy0ilI4kQOVTXCEgcSZAovOGvZSGJUBVc/ZmUOIgQOf/6GHAyRlAcE8fAOBSFEDRur1U//gPQGFD9ZbokghAQsqHuSqSA0C91ci3W0UBQCtRQfvz7/4/kh8pntyB+j9t1/n+4TX1P773MAUjFfI/RgzR+CI28T8hBW8WHK7uPzVKjJfU8uk/0FPt4/z65T/wVYqzMPDhPz7K9C5CXuE/8+hSn9hY4T/9PPCkR6rhP1XsIC599OA/66X1nBCX3z/YbRM56QjcPz4dkSQc/dM/S7Wb8Fq00T+/yQdmX0vcP7TrGf476eM/WqNPJoWO7D9qOH1bcwDzP2bw+R5DQ/Y/RLSuQOQp+D8+aif8yAz5P0Wv6eBKRfk/0i2+IN4R+T/ik8QNFZr4PyS5UD5j/Pc/yJ68zXRG9z/2CHPL54H2P59SOhwKtPU/npkP8dfg9D8NlmVcdQz0P80ugRvuOvM/byxiAHN18j9USVZie8nxP5l9lNXYSPE/OB+F0UYP8T8Y7dsUCTHxP3EBgTHPcPE/bfx15p8S8T8FT+xkGtTuP6mdG7rkxuk/pboqTkHX5D/CrN8qGYngP7R4ZaL+htU/\",\"dtype\":\"float64\",\"shape\":[75]},\"y\":{\"__ndarray__\":\"GhExyth1ND/Sv8nbtpRIP2vylNV0PVE/aTum7souWD/At0SJ8fVgPw3Iuahxymc/MSNhhJWvcD/bTfBN02d3P2zb5nxnaoA/CD5h5MAGhz8NmeH1TyaQP+zrCsc9p5Y/LbKd76fGnz/bLW5ISEmmPww9YvTcQq8/JV2OstnstT8Er5Y7M8G+P0c+r3jqkcU/5h99k6ZBzj88bCIzFzjVP4enV8oyxN0//yH99nXg5D8qOpLLf0jtP5kqGJXUifQ/c9cS8kHP/D+/DpwzojQEQIEmwoanVwxA4lgXt9HgE0BSSZ2AJuIbQAMJih9jjiNA5q4l5INuK0AwTKYKRj0zQNv5fmq8/DpAaCJseHrtQkB/+zpwzoxKQM3MzMzMeFJAZmZmZmZqWEAAAAAAAFxeQM3MzMzMJmJAmpmZmZkfZUBmZmZmZhhoQDMzMzMzEWtAAAAAAAAKbkBmZmZmZoFwQM3MzMzM/XFAMzMzMzN6c0CamZmZmfZ0QAAAAAAAc3ZAZmZmZmbvd0DNzMzMzGt5QDMzMzMz6HpAmpmZmZlkfEAAAAAAAOF9QGZmZmZmXX9AZmZmZuZsgECamZmZGSuBQM3MzMxM6YFAAAAAAICngkAzMzMzs2WDQGZmZmbmI4RAmpmZmRnihEDNzMzMTKCFQAAAAACAXoZAMzMzM7Mch0BmZmZm5tqHQJqZmZkZmYhAzczMzExXiUAAAAAAgBWKQDMzMzOz04pAZmZmZuaRi0CamZmZGVCMQM3MzMxMDo1AAAAAAIDMjUAzMzMzs4qOQGZmZmbmSI9A\",\"dtype\":\"float64\",\"shape\":[75]}},\"selected\":{\"id\":\"fd1beab7-b972-4e56-ab72-b43945566224\",\"type\":\"Selection\"},\"selection_policy\":{\"id\":\"64b5d38a-d334-4af6-a5aa-a69d1386a962\",\"type\":\"UnionRenderers\"}},\"id\":\"c921591d-cdcd-4cdd-b276-eeded3964adf\",\"type\":\"ColumnDataSource\"},{\"attributes\":{\"data_source\":{\"id\":\"56b5f365-7e8b-4007-81dd-8c8f245dc822\",\"type\":\"ColumnDataSource\"},\"glyph\":{\"id\":\"059528c2-6dcd-4470-b753-b2fa709afdd0\",\"type\":\"Line\"},\"hover_glyph\":null,\"muted_glyph\":null,\"nonselection_glyph\":{\"id\":\"2bb6b049-ce77-434a-b1a4-8c01f563c6a9\",\"type\":\"Line\"},\"selection_glyph\":null,\"view\":{\"id\":\"142c34ff-e8e0-4c7f-bf9d-21c5da11200a\",\"type\":\"CDSView\"}},\"id\":\"4d5d3881-bee5-4f56-9da2-ae763d0216b8\",\"type\":\"GlyphRenderer\"},{\"attributes\":{},\"id\":\"5e979e8b-f370-4829-9784-229ec2c006e6\",\"type\":\"Selection\"},{\"attributes\":{},\"id\":\"40ee1dbc-edf8-4a99-8c12-dff0e39cf459\",\"type\":\"WheelZoomTool\"},{\"attributes\":{\"above\":[{\"id\":\"160b98ff-36e2-4f85-9ec5-5461a9e4f580\",\"type\":\"Legend\"}],\"below\":[{\"id\":\"c103e196-56ac-4452-aec0-6bb27b842110\",\"type\":\"LinearAxis\"}],\"left\":[{\"id\":\"90f16aeb-9cb5-4b9f-88eb-d8670ca717c0\",\"type\":\"LogAxis\"}],\"plot_width\":300,\"renderers\":[{\"id\":\"c103e196-56ac-4452-aec0-6bb27b842110\",\"type\":\"LinearAxis\"},{\"id\":\"353a3d56-09e8-49e2-80fd-e4849a9202da\",\"type\":\"Grid\"},{\"id\":\"90f16aeb-9cb5-4b9f-88eb-d8670ca717c0\",\"type\":\"LogAxis\"},{\"id\":\"db61a076-4618-4803-b0cc-3ba3cec668db\",\"type\":\"Grid\"},{\"id\":\"e04318b4-5887-4951-80cc-9628799dc383\",\"type\":\"BoxAnnotation\"},{\"id\":\"97d5f0f4-4091-45f6-921a-d4227e49e444\",\"type\":\"GlyphRenderer\"},{\"id\":\"63966912-3551-41e4-8a58-6a0a33745daa\",\"type\":\"GlyphRenderer\"},{\"id\":\"160b98ff-36e2-4f85-9ec5-5461a9e4f580\",\"type\":\"Legend\"}],\"title\":{\"id\":\"64bec2a7-ce90-4218-8347-8aaa130d3637\",\"type\":\"Title\"},\"toolbar\":{\"id\":\"6a267637-c76f-46bb-95f1-2caaad886a92\",\"type\":\"Toolbar\"},\"toolbar_location\":null,\"x_range\":{\"id\":\"feee62c8-e1bb-412a-a656-e0284b78e14d\",\"type\":\"Range1d\"},\"x_scale\":{\"id\":\"22f41d93-18cc-4774-bacd-2dc737e0f350\",\"type\":\"LinearScale\"},\"y_range\":{\"id\":\"1faf6d9e-caf2-4d03-afec-9319325c2b38\",\"type\":\"Range1d\"},\"y_scale\":{\"id\":\"98b3958b-d4d7-473a-ad05-0da062bb1a90\",\"type\":\"LogScale\"}},\"id\":\"ab0cc8c6-0164-4124-9d66-0627120ab2a1\",\"subtype\":\"Figure\",\"type\":\"Plot\"},{\"attributes\":{\"callback\":null,\"end\":16.439297915499147,\"start\":0.06471833717384995},\"id\":\"4249c5da-caf9-443a-b12f-f2449602e4c0\",\"type\":\"Range1d\"},{\"attributes\":{},\"id\":\"61ddecff-e74d-4ee1-a28d-af652b009be5\",\"type\":\"WheelZoomTool\"},{\"attributes\":{\"active_drag\":\"auto\",\"active_inspect\":\"auto\",\"active_scroll\":\"auto\",\"active_tap\":\"auto\",\"tools\":[{\"id\":\"2052db3c-5292-4250-a361-81f4ed8f1da8\",\"type\":\"PanTool\"},{\"id\":\"73ddd8b5-b199-463c-ac26-b6c2c6a89910\",\"type\":\"WheelZoomTool\"},{\"id\":\"a26ba2e5-d963-4633-baac-a521d4cfbb6d\",\"type\":\"BoxZoomTool\"},{\"id\":\"b1034093-3516-4d2e-9f8b-ff703ef18610\",\"type\":\"SaveTool\"},{\"id\":\"feabcf33-1658-4cba-987b-18173b508ded\",\"type\":\"ResetTool\"},{\"id\":\"88c3e001-c102-43b7-b0b5-fffb94384485\",\"type\":\"HelpTool\"}]},\"id\":\"c8ce889c-662d-460e-bfb6-06ed7d6d282f\",\"type\":\"Toolbar\"},{\"attributes\":{\"axis_label\":\"cooling rate [K/day]\",\"formatter\":{\"id\":\"442abc6d-206c-43b5-b7a8-61ae819a3146\",\"type\":\"BasicTickFormatter\"},\"plot\":{\"id\":\"0dbf4ca8-7e26-4117-ba73-3b5eaa02ef05\",\"subtype\":\"Figure\",\"type\":\"Plot\"},\"ticker\":{\"id\":\"2aad6e17-7c6e-44e0-a675-bfb1e658dd86\",\"type\":\"BasicTicker\"}},\"id\":\"ef030a0f-b500-4c51-a800-20a9ff3b0be9\",\"type\":\"LinearAxis\"},{\"attributes\":{},\"id\":\"2aad6e17-7c6e-44e0-a675-bfb1e658dd86\",\"type\":\"BasicTicker\"},{\"attributes\":{\"label\":{\"value\":\"CRD\"},\"renderers\":[{\"id\":\"cd57ac58-1e1b-4d5a-8b25-e660d73bc418\",\"type\":\"GlyphRenderer\"},{\"id\":\"4d5d3881-bee5-4f56-9da2-ae763d0216b8\",\"type\":\"GlyphRenderer\"}]},\"id\":\"21596e0b-cdd9-4d56-aaf4-e1f3cac018ce\",\"type\":\"LegendItem\"},{\"attributes\":{},\"id\":\"2052db3c-5292-4250-a361-81f4ed8f1da8\",\"type\":\"PanTool\"},{\"attributes\":{\"dimension\":1,\"plot\":{\"id\":\"0dbf4ca8-7e26-4117-ba73-3b5eaa02ef05\",\"subtype\":\"Figure\",\"type\":\"Plot\"},\"ticker\":{\"id\":\"be40ba87-e731-4b48-b90e-04069abb7c7b\",\"type\":\"LogTicker\"}},\"id\":\"d5996b94-de63-456b-a4e8-a8fb858c04b9\",\"type\":\"Grid\"},{\"attributes\":{},\"id\":\"b1034093-3516-4d2e-9f8b-ff703ef18610\",\"type\":\"SaveTool\"},{\"attributes\":{},\"id\":\"8deb0c44-aaee-4b5c-a26a-e68a94eee98f\",\"type\":\"HelpTool\"},{\"attributes\":{},\"id\":\"feabcf33-1658-4cba-987b-18173b508ded\",\"type\":\"ResetTool\"},{\"attributes\":{},\"id\":\"ee945aa6-d78e-45be-8a85-9486a9567943\",\"type\":\"PanTool\"},{\"attributes\":{},\"id\":\"df712c18-e025-4ab7-857c-1886f017f008\",\"type\":\"LinearScale\"},{\"attributes\":{},\"id\":\"f97c2864-0b8d-4d41-aaa2-4c6da5c1683b\",\"type\":\"LogScale\"},{\"attributes\":{},\"id\":\"94ac8626-2b18-4a53-a82b-e2b20fb34539\",\"type\":\"BasicTicker\"},{\"attributes\":{\"overlay\":{\"id\":\"dc1ae0a9-55ec-48c6-a608-2d41fa452061\",\"type\":\"BoxAnnotation\"}},\"id\":\"cc3e0459-19a8-4b42-9e7e-b464b3cb777f\",\"type\":\"BoxZoomTool\"},{\"attributes\":{\"axis_label\":\"pressure [mb]\",\"formatter\":{\"id\":\"084e7b4c-ce5a-471c-af18-60c44a25e4ea\",\"type\":\"LogTickFormatter\"},\"plot\":{\"id\":\"0dbf4ca8-7e26-4117-ba73-3b5eaa02ef05\",\"subtype\":\"Figure\",\"type\":\"Plot\"},\"ticker\":{\"id\":\"be40ba87-e731-4b48-b90e-04069abb7c7b\",\"type\":\"LogTicker\"}},\"id\":\"9f293aba-0365-4ac8-9acb-2af3f326858c\",\"type\":\"LogAxis\"},{\"attributes\":{\"plot\":{\"id\":\"a0600a7d-9e54-40ab-bceb-99a7fe594c6c\",\"subtype\":\"Figure\",\"type\":\"Plot\"},\"ticker\":{\"id\":\"14a581de-c6fd-4961-a5f0-1fb4992a4e0a\",\"type\":\"BasicTicker\"}},\"id\":\"ec4dc41a-23b2-4deb-ace5-1e4865010fe0\",\"type\":\"Grid\"},{\"attributes\":{\"label\":{\"value\":\"CLIRAD (single-run)\"},\"renderers\":[{\"id\":\"0acba59f-ba09-463c-8b9a-6e41df30a0a5\",\"type\":\"GlyphRenderer\"}]},\"id\":\"962b5ccf-7e73-4518-9223-280b949a3f6e\",\"type\":\"LegendItem\"},{\"attributes\":{},\"id\":\"31e86b9d-acee-41d6-bf8d-8ed5acba1eb4\",\"type\":\"SaveTool\"},{\"attributes\":{\"num_minor_ticks\":10},\"id\":\"be40ba87-e731-4b48-b90e-04069abb7c7b\",\"type\":\"LogTicker\"},{\"attributes\":{\"items\":[{\"id\":\"cb376448-73d3-4110-8dfe-0c3c57666c9f\",\"type\":\"LegendItem\"},{\"id\":\"1063d5b2-ecb2-4042-85df-b26f7579cf9a\",\"type\":\"LegendItem\"}],\"label_text_font_size\":{\"value\":\"8pt\"},\"location\":\"top_center\",\"orientation\":\"horizontal\",\"plot\":{\"id\":\"0dbf4ca8-7e26-4117-ba73-3b5eaa02ef05\",\"subtype\":\"Figure\",\"type\":\"Plot\"}},\"id\":\"7dc39757-3453-4ef1-8f66-ace882ca3ced\",\"type\":\"Legend\"},{\"attributes\":{},\"id\":\"c5192e00-9b22-4f9b-a3d5-b282781405d0\",\"type\":\"BasicTickFormatter\"},{\"attributes\":{\"source\":{\"id\":\"2772d7bd-fe84-4c8b-91eb-db4aaa45aad3\",\"type\":\"ColumnDataSource\"}},\"id\":\"e6482767-9d85-490d-b0f5-3394dac1a7a7\",\"type\":\"CDSView\"},{\"attributes\":{\"callback\":null,\"end\":0.01,\"start\":1020},\"id\":\"9072c351-0782-4e56-87b5-e877eddb184f\",\"type\":\"Range1d\"},{\"attributes\":{\"plot\":{\"id\":\"0dbf4ca8-7e26-4117-ba73-3b5eaa02ef05\",\"subtype\":\"Figure\",\"type\":\"Plot\"},\"ticker\":{\"id\":\"2aad6e17-7c6e-44e0-a675-bfb1e658dd86\",\"type\":\"BasicTicker\"}},\"id\":\"a3c58d5f-0478-4599-8656-ddb65b2fe64d\",\"type\":\"Grid\"},{\"attributes\":{\"fill_alpha\":{\"value\":0.7},\"fill_color\":{\"value\":\"#984ea3\"},\"line_alpha\":{\"value\":0.7},\"line_color\":{\"value\":\"#984ea3\"},\"x\":{\"field\":\"x\"},\"y\":{\"field\":\"y\"}},\"id\":\"f00d0f4e-e7f1-402d-9bf3-9f6d3dd5c6e7\",\"type\":\"Circle\"},{\"attributes\":{\"axis_label\":\"pressure [mb]\",\"formatter\":{\"id\":\"dff8e124-1191-4a21-9a4c-23f22d9f281e\",\"type\":\"BasicTickFormatter\"},\"plot\":{\"id\":\"a0600a7d-9e54-40ab-bceb-99a7fe594c6c\",\"subtype\":\"Figure\",\"type\":\"Plot\"},\"ticker\":{\"id\":\"94ac8626-2b18-4a53-a82b-e2b20fb34539\",\"type\":\"BasicTicker\"}},\"id\":\"88f1254c-8683-4811-9daa-17759cbe2cee\",\"type\":\"LinearAxis\"},{\"attributes\":{\"callback\":null,\"data\":{\"x\":{\"__ndarray__\":\"r8j5VWOVQEAl4fquVo08QDRh2B8DWj5Abo/BPiH0PkBHWv9u9AU+QDFl+3eEiDtAaHheSJvXN0ANxTWh7M8zQJpfBD9FfjBAet9siPw8LUCM15yYhkssQDJhv3KH0yxAM+ZM6kqwLUCezVXLuDQtQK8hYzZ1lypAP7LVZkM8J0CffZwPiGckQCHameuQwCJAv9KVTEmQIkA36wZK9qQjQMJ4gBgmESZAEQfrx9GOJUAnliKYowchQAQyvgBbGxlAZuXgmqAXE0A1YHMG9QsPQOGUn0ReFQpAyZ2M23AqBUDySxyYsYcBQBcSYhp2Pv4/LMc1yP6/+z82jL6W71z3P90AWXpKZfI/Nz0Ru7rz7T9Xd4QNZ6/pPyKLK+DFTeY/mgmDQKPF4D9O3k9J8nPUPyDu3Q5dIc8/bubluxrVzD8fUtCAYOHQP4kVCGbAatI/+5OQpwKo0j9047CFY9XRP0OOPiLjyMc/Fn++g0Jmxj9TQFOEBzrXP40v/nZrXeE/UTYBjDhY6T9srPVuTPvwPxGxQR46N/Q/fsw4NltH9j/yGvgGugH3Pxgyj/tN0fY/MXYUjHpp9j/3+xZclNr1P298L6BqHfU/t7FHf1gt9D9xc4xgPRfzP1FYdzpH8vE/eoyYTguq8D+/1DjQPpHuP8vYl0ealus/LvYyuE+I6D/POxlNg4LlP+SqtRXbmuI/68xBuBDQ3z9Bgnia2cnaP5oF8bnHXdQ/Bmg2dNw1wT8UduINSL3JvwmHD4o88ea/xcSPdd3l97969cByPF4HwFE3vFcnOjTA\",\"dtype\":\"float64\",\"shape\":[75]},\"y\":{\"__ndarray__\":\"GhExyth1ND/Sv8nbtpRIP2vylNV0PVE/aTum7souWD/At0SJ8fVgPw3Iuahxymc/MSNhhJWvcD/bTfBN02d3P2zb5nxnaoA/CD5h5MAGhz8NmeH1TyaQP+zrCsc9p5Y/LbKd76fGnz/bLW5ISEmmPww9YvTcQq8/JV2OstnstT8Er5Y7M8G+P0c+r3jqkcU/5h99k6ZBzj88bCIzFzjVP4enV8oyxN0//yH99nXg5D8qOpLLf0jtP5kqGJXUifQ/c9cS8kHP/D+/DpwzojQEQIEmwoanVwxA4lgXt9HgE0BSSZ2AJuIbQAMJih9jjiNA5q4l5INuK0AwTKYKRj0zQNv5fmq8/DpAaCJseHrtQkB/+zpwzoxKQM3MzMzMeFJAZmZmZmZqWEAAAAAAAFxeQM3MzMzMJmJAmpmZmZkfZUBmZmZmZhhoQDMzMzMzEWtAAAAAAAAKbkBmZmZmZoFwQM3MzMzM/XFAMzMzMzN6c0CamZmZmfZ0QAAAAAAAc3ZAZmZmZmbvd0DNzMzMzGt5QDMzMzMz6HpAmpmZmZlkfEAAAAAAAOF9QGZmZmZmXX9AZmZmZuZsgECamZmZGSuBQM3MzMxM6YFAAAAAAICngkAzMzMzs2WDQGZmZmbmI4RAmpmZmRnihEDNzMzMTKCFQAAAAACAXoZAMzMzM7Mch0BmZmZm5tqHQJqZmZkZmYhAzczMzExXiUAAAAAAgBWKQDMzMzOz04pAZmZmZuaRi0CamZmZGVCMQM3MzMxMDo1AAAAAAIDMjUAzMzMzs4qOQGZmZmbmSI9A\",\"dtype\":\"float64\",\"shape\":[75]}},\"selected\":{\"id\":\"8a3944a2-477b-4169-8697-e21fb26af1c3\",\"type\":\"Selection\"},\"selection_policy\":{\"id\":\"d5bccd4c-0eb9-4b9b-9d55-6299effede0d\",\"type\":\"UnionRenderers\"}},\"id\":\"34158e20-0453-4882-9c76-6bf8ebd3c800\",\"type\":\"ColumnDataSource\"},{\"attributes\":{\"data_source\":{\"id\":\"34158e20-0453-4882-9c76-6bf8ebd3c800\",\"type\":\"ColumnDataSource\"},\"glyph\":{\"id\":\"e0c8f4a5-f84d-430b-a4b1-eaf376c33149\",\"type\":\"Line\"},\"hover_glyph\":null,\"muted_glyph\":null,\"nonselection_glyph\":{\"id\":\"7c3530c3-da31-422f-9e95-4a4157a28edf\",\"type\":\"Line\"},\"selection_glyph\":null,\"view\":{\"id\":\"3914842f-a5cd-415a-a1b0-67fce3c5b4e6\",\"type\":\"CDSView\"}},\"id\":\"8e986c1e-7c6b-482c-9dd0-34837ce112fc\",\"type\":\"GlyphRenderer\"},{\"attributes\":{\"line_alpha\":0.1,\"line_color\":\"#1f77b4\",\"line_width\":1.5,\"x\":{\"field\":\"x\"},\"y\":{\"field\":\"y\"}},\"id\":\"736259d7-0525-4098-a788-2ee4c5e63f75\",\"type\":\"Line\"},{\"attributes\":{\"bottom_units\":\"screen\",\"fill_alpha\":{\"value\":0.5},\"fill_color\":{\"value\":\"lightgrey\"},\"left_units\":\"screen\",\"level\":\"overlay\",\"line_alpha\":{\"value\":1.0},\"line_color\":{\"value\":\"black\"},\"line_dash\":[4,4],\"line_width\":{\"value\":2},\"plot\":null,\"render_mode\":\"css\",\"right_units\":\"screen\",\"top_units\":\"screen\"},\"id\":\"ede40f50-48cd-4e27-bf4f-ecdb73d5deb5\",\"type\":\"BoxAnnotation\"},{\"attributes\":{},\"id\":\"88c3e001-c102-43b7-b0b5-fffb94384485\",\"type\":\"HelpTool\"},{\"attributes\":{\"line_alpha\":0.6,\"line_color\":\"#377eb8\",\"line_dash\":[6],\"line_width\":5,\"x\":{\"field\":\"x\"},\"y\":{\"field\":\"y\"}},\"id\":\"e0c8f4a5-f84d-430b-a4b1-eaf376c33149\",\"type\":\"Line\"},{\"attributes\":{\"above\":[{\"id\":\"7dc39757-3453-4ef1-8f66-ace882ca3ced\",\"type\":\"Legend\"}],\"below\":[{\"id\":\"ef030a0f-b500-4c51-a800-20a9ff3b0be9\",\"type\":\"LinearAxis\"}],\"left\":[{\"id\":\"9f293aba-0365-4ac8-9acb-2af3f326858c\",\"type\":\"LogAxis\"}],\"plot_width\":300,\"renderers\":[{\"id\":\"ef030a0f-b500-4c51-a800-20a9ff3b0be9\",\"type\":\"LinearAxis\"},{\"id\":\"a3c58d5f-0478-4599-8656-ddb65b2fe64d\",\"type\":\"Grid\"},{\"id\":\"9f293aba-0365-4ac8-9acb-2af3f326858c\",\"type\":\"LogAxis\"},{\"id\":\"d5996b94-de63-456b-a4e8-a8fb858c04b9\",\"type\":\"Grid\"},{\"id\":\"ede40f50-48cd-4e27-bf4f-ecdb73d5deb5\",\"type\":\"BoxAnnotation\"},{\"id\":\"8e986c1e-7c6b-482c-9dd0-34837ce112fc\",\"type\":\"GlyphRenderer\"},{\"id\":\"240db0a8-cebd-4350-995b-af35b8122ff2\",\"type\":\"GlyphRenderer\"},{\"id\":\"805e57ef-4f6a-4b7e-a6c7-138c7fc7f334\",\"type\":\"GlyphRenderer\"},{\"id\":\"7dc39757-3453-4ef1-8f66-ace882ca3ced\",\"type\":\"Legend\"}],\"title\":{\"id\":\"c27ffeee-02ee-473c-b76a-eff84c4696e8\",\"type\":\"Title\"},\"toolbar\":{\"id\":\"c8ce889c-662d-460e-bfb6-06ed7d6d282f\",\"type\":\"Toolbar\"},\"toolbar_location\":null,\"x_range\":{\"id\":\"4249c5da-caf9-443a-b12f-f2449602e4c0\",\"type\":\"Range1d\"},\"x_scale\":{\"id\":\"df712c18-e025-4ab7-857c-1886f017f008\",\"type\":\"LinearScale\"},\"y_range\":{\"id\":\"7230300f-2aa0-4de9-aa0f-e25778b10414\",\"type\":\"Range1d\"},\"y_scale\":{\"id\":\"f97c2864-0b8d-4d41-aaa2-4c6da5c1683b\",\"type\":\"LogScale\"}},\"id\":\"0dbf4ca8-7e26-4117-ba73-3b5eaa02ef05\",\"subtype\":\"Figure\",\"type\":\"Plot\"},{\"attributes\":{},\"id\":\"f191b762-2663-4d5f-8d81-ee08e285f0e9\",\"type\":\"ResetTool\"},{\"attributes\":{},\"id\":\"73ddd8b5-b199-463c-ac26-b6c2c6a89910\",\"type\":\"WheelZoomTool\"},{\"attributes\":{\"callback\":null,\"data\":{\"x\":{\"__ndarray__\":\"8YQIjofeQ8B5GPlCbPkYwChMQnukrAPApjH9VbsM8j8jJJzMnZELQPKWn1dZzg9AscBuCaO9BkCYLklb3vvqP3hwx8vS4e2/LGi6veuN+r871c/no0j0v7OQuAuIldW/VMnA/ZU54D/oTl2Ox2LuP8px4l+4YOw/BHKf0HOJ1z+tKgLuEarSv2yJpfmnaea/SaSoA3Kk5r+PkNMEuzPdv7zI9jaC/se/SN4myBR6kD8oaRGWmKmyP3+8WSWszMW/m6DmU/az07+iU0vJSaG9vyAYpdpaJ8g/ZDhNIGKEyT+Hjd0UeJWgP2Di5xu8L6a/g3nKoCLisz9DpiW+bDjBP9lHAkrdCZQ/VG1D2iziwb8qN6oj1PrDv634Bbt1KL2/1CipjWbVxL8hm4k73tjOv2qdetbVK9O/sN6y4CNH1L/XJxDJLnPSv0WGc+xz/M6/5CPK6hveyb/MFMVmC2fEvzes4yZVMcC/+tbxuuYEur+kJdKGX0W0v0Lh3TiEXrS/SGhz0mSyub/tXzxkNynAv6f6wQVIYMC/gnxep5Aovr9Renqpd1jAv1fp0yrnn8O/A71NpRxDxb9hv2yNBfzFv6jlCfHE98a/d2inc+LIyL8YrDRXU1XLv3nSFw4XDs6/kDTciTLb0L+5riTRVw/Tv54J1d6DvtW/YMUikSzF2L+urSbv5iDcv5qg5iqt7d+/+VfpRoU24r8MmXtcJf3kvxaACYa6sui/2V7er8jX7b9EdjI0tqHyv1mSFaIQXPi/DJFSDr8oAcCr4Hi9goALwDTNRVJDkDTA\",\"dtype\":\"float64\",\"shape\":[75]},\"y\":{\"__ndarray__\":\"GhExyth1ND/Sv8nbtpRIP2vylNV0PVE/aTum7souWD/At0SJ8fVgPw3Iuahxymc/MSNhhJWvcD/bTfBN02d3P2zb5nxnaoA/CD5h5MAGhz8NmeH1TyaQP+zrCsc9p5Y/LbKd76fGnz/bLW5ISEmmPww9YvTcQq8/JV2OstnstT8Er5Y7M8G+P0c+r3jqkcU/5h99k6ZBzj88bCIzFzjVP4enV8oyxN0//yH99nXg5D8qOpLLf0jtP5kqGJXUifQ/c9cS8kHP/D+/DpwzojQEQIEmwoanVwxA4lgXt9HgE0BSSZ2AJuIbQAMJih9jjiNA5q4l5INuK0AwTKYKRj0zQNv5fmq8/DpAaCJseHrtQkB/+zpwzoxKQM3MzMzMeFJAZmZmZmZqWEAAAAAAAFxeQM3MzMzMJmJAmpmZmZkfZUBmZmZmZhhoQDMzMzMzEWtAAAAAAAAKbkBmZmZmZoFwQM3MzMzM/XFAMzMzMzN6c0CamZmZmfZ0QAAAAAAAc3ZAZmZmZmbvd0DNzMzMzGt5QDMzMzMz6HpAmpmZmZlkfEAAAAAAAOF9QGZmZmZmXX9AZmZmZuZsgECamZmZGSuBQM3MzMxM6YFAAAAAAICngkAzMzMzs2WDQGZmZmbmI4RAmpmZmRnihEDNzMzMTKCFQAAAAACAXoZAMzMzM7Mch0BmZmZm5tqHQJqZmZkZmYhAzczMzExXiUAAAAAAgBWKQDMzMzOz04pAZmZmZuaRi0CamZmZGVCMQM3MzMxMDo1AAAAAAIDMjUAzMzMzs4qOQGZmZmbmSI9A\",\"dtype\":\"float64\",\"shape\":[75]}},\"selected\":{\"id\":\"7f610f59-8526-4a0e-88c6-2418b91756cd\",\"type\":\"Selection\"},\"selection_policy\":{\"id\":\"0c23f791-4eb1-4604-9e8a-b6d5cfd37da4\",\"type\":\"UnionRenderers\"}},\"id\":\"97020a41-1e2a-41dd-8baa-cc5548d5289a\",\"type\":\"ColumnDataSource\"},{\"attributes\":{\"overlay\":{\"id\":\"ede40f50-48cd-4e27-bf4f-ecdb73d5deb5\",\"type\":\"BoxAnnotation\"}},\"id\":\"a26ba2e5-d963-4633-baac-a521d4cfbb6d\",\"type\":\"BoxZoomTool\"},{\"attributes\":{\"dimension\":1,\"plot\":{\"id\":\"ab0cc8c6-0164-4124-9d66-0627120ab2a1\",\"subtype\":\"Figure\",\"type\":\"Plot\"},\"ticker\":{\"id\":\"5daf0f4d-51fe-473e-8c06-3ff0af5e3d6b\",\"type\":\"LogTicker\"}},\"id\":\"db61a076-4618-4803-b0cc-3ba3cec668db\",\"type\":\"Grid\"},{\"attributes\":{\"above\":[{\"id\":\"f444c95d-9fa8-4911-b0df-3b5be0f5867b\",\"type\":\"Legend\"}],\"below\":[{\"id\":\"24a82881-2e56-45a8-87e7-f1aeeaf9348f\",\"type\":\"LinearAxis\"}],\"left\":[{\"id\":\"88f1254c-8683-4811-9daa-17759cbe2cee\",\"type\":\"LinearAxis\"}],\"plot_width\":300,\"renderers\":[{\"id\":\"24a82881-2e56-45a8-87e7-f1aeeaf9348f\",\"type\":\"LinearAxis\"},{\"id\":\"ec4dc41a-23b2-4deb-ace5-1e4865010fe0\",\"type\":\"Grid\"},{\"id\":\"88f1254c-8683-4811-9daa-17759cbe2cee\",\"type\":\"LinearAxis\"},{\"id\":\"a08ec1a1-a994-474e-8e0f-e7ebe47be475\",\"type\":\"Grid\"},{\"id\":\"dc1ae0a9-55ec-48c6-a608-2d41fa452061\",\"type\":\"BoxAnnotation\"},{\"id\":\"0acba59f-ba09-463c-8b9a-6e41df30a0a5\",\"type\":\"GlyphRenderer\"},{\"id\":\"cd57ac58-1e1b-4d5a-8b25-e660d73bc418\",\"type\":\"GlyphRenderer\"},{\"id\":\"4d5d3881-bee5-4f56-9da2-ae763d0216b8\",\"type\":\"GlyphRenderer\"},{\"id\":\"f444c95d-9fa8-4911-b0df-3b5be0f5867b\",\"type\":\"Legend\"}],\"title\":{\"id\":\"3002acc5-c298-4468-9954-9ebd1867a0ed\",\"type\":\"Title\"},\"toolbar\":{\"id\":\"d6496a74-c69d-4068-bb35-3805831cf473\",\"type\":\"Toolbar\"},\"toolbar_location\":null,\"x_range\":{\"id\":\"c47dedf3-fa3d-4d7b-9063-3e465a96818b\",\"type\":\"Range1d\"},\"x_scale\":{\"id\":\"6e8ffc98-f32a-4746-b94b-f892d99cbbf3\",\"type\":\"LinearScale\"},\"y_range\":{\"id\":\"9072c351-0782-4e56-87b5-e877eddb184f\",\"type\":\"Range1d\"},\"y_scale\":{\"id\":\"c78a90d8-ddac-441b-b7a4-98158af067e1\",\"type\":\"LinearScale\"}},\"id\":\"a0600a7d-9e54-40ab-bceb-99a7fe594c6c\",\"subtype\":\"Figure\",\"type\":\"Plot\"},{\"attributes\":{\"data_source\":{\"id\":\"2772d7bd-fe84-4c8b-91eb-db4aaa45aad3\",\"type\":\"ColumnDataSource\"},\"glyph\":{\"id\":\"374192b6-eb46-4967-8113-c66680efbf4d\",\"type\":\"Line\"},\"hover_glyph\":null,\"muted_glyph\":null,\"nonselection_glyph\":{\"id\":\"5f6ac732-28ee-41a8-81db-c9c05d9cb08b\",\"type\":\"Line\"},\"selection_glyph\":null,\"view\":{\"id\":\"e6482767-9d85-490d-b0f5-3394dac1a7a7\",\"type\":\"CDSView\"}},\"id\":\"805e57ef-4f6a-4b7e-a6c7-138c7fc7f334\",\"type\":\"GlyphRenderer\"},{\"attributes\":{\"line_alpha\":0.8,\"line_color\":\"#984ea3\",\"line_width\":1.5,\"x\":{\"field\":\"x\"},\"y\":{\"field\":\"y\"}},\"id\":\"2bee4252-ec13-41d9-8064-8b223a233283\",\"type\":\"Line\"},{\"attributes\":{},\"id\":\"0c23f791-4eb1-4604-9e8a-b6d5cfd37da4\",\"type\":\"UnionRenderers\"},{\"attributes\":{},\"id\":\"4bf95ceb-09f4-44af-9b1b-e98546a5ea8d\",\"type\":\"Selection\"},{\"attributes\":{\"fill_alpha\":{\"value\":0.1},\"fill_color\":{\"value\":\"#1f77b4\"},\"line_alpha\":{\"value\":0.1},\"line_color\":{\"value\":\"#1f77b4\"},\"x\":{\"field\":\"x\"},\"y\":{\"field\":\"y\"}},\"id\":\"e0db5698-e53e-42b1-877b-e5dcc6502142\",\"type\":\"Circle\"},{\"attributes\":{\"bottom_units\":\"screen\",\"fill_alpha\":{\"value\":0.5},\"fill_color\":{\"value\":\"lightgrey\"},\"left_units\":\"screen\",\"level\":\"overlay\",\"line_alpha\":{\"value\":1.0},\"line_color\":{\"value\":\"black\"},\"line_dash\":[4,4],\"line_width\":{\"value\":2},\"plot\":null,\"render_mode\":\"css\",\"right_units\":\"screen\",\"top_units\":\"screen\"},\"id\":\"dc1ae0a9-55ec-48c6-a608-2d41fa452061\",\"type\":\"BoxAnnotation\"},{\"attributes\":{},\"id\":\"14a581de-c6fd-4961-a5f0-1fb4992a4e0a\",\"type\":\"BasicTicker\"},{\"attributes\":{\"active_drag\":\"auto\",\"active_inspect\":\"auto\",\"active_scroll\":\"auto\",\"active_tap\":\"auto\",\"tools\":[{\"id\":\"ee945aa6-d78e-45be-8a85-9486a9567943\",\"type\":\"PanTool\"},{\"id\":\"61ddecff-e74d-4ee1-a28d-af652b009be5\",\"type\":\"WheelZoomTool\"},{\"id\":\"cc3e0459-19a8-4b42-9e7e-b464b3cb777f\",\"type\":\"BoxZoomTool\"},{\"id\":\"31e86b9d-acee-41d6-bf8d-8ed5acba1eb4\",\"type\":\"SaveTool\"},{\"id\":\"f191b762-2663-4d5f-8d81-ee08e285f0e9\",\"type\":\"ResetTool\"},{\"id\":\"bec79e6c-576b-4883-bfe2-adc084873e2a\",\"type\":\"HelpTool\"}]},\"id\":\"d6496a74-c69d-4068-bb35-3805831cf473\",\"type\":\"Toolbar\"},{\"attributes\":{\"line_color\":\"#4daf4a\",\"line_width\":1.5,\"x\":{\"field\":\"x\"},\"y\":{\"field\":\"y\"}},\"id\":\"374192b6-eb46-4967-8113-c66680efbf4d\",\"type\":\"Line\"},{\"attributes\":{\"plot\":null,\"text\":\"\"},\"id\":\"c27ffeee-02ee-473c-b76a-eff84c4696e8\",\"type\":\"Title\"},{\"attributes\":{},\"id\":\"8a3944a2-477b-4169-8697-e21fb26af1c3\",\"type\":\"Selection\"},{\"attributes\":{},\"id\":\"44af8c56-5744-4c20-99f9-7e8df9936ae2\",\"type\":\"Selection\"},{\"attributes\":{},\"id\":\"12166efe-b594-40bb-87b7-b7e94a4689e2\",\"type\":\"UnionRenderers\"},{\"attributes\":{},\"id\":\"bd9430ba-e195-4360-b9e9-fcc053ddaaa2\",\"type\":\"BasicTicker\"},{\"attributes\":{\"axis_label\":\"cooling rate [K/day]\",\"formatter\":{\"id\":\"ba440bbc-7731-4fba-befd-3c0b0605403e\",\"type\":\"BasicTickFormatter\"},\"plot\":{\"id\":\"a0600a7d-9e54-40ab-bceb-99a7fe594c6c\",\"subtype\":\"Figure\",\"type\":\"Plot\"},\"ticker\":{\"id\":\"14a581de-c6fd-4961-a5f0-1fb4992a4e0a\",\"type\":\"BasicTicker\"}},\"id\":\"24a82881-2e56-45a8-87e7-f1aeeaf9348f\",\"type\":\"LinearAxis\"},{\"attributes\":{},\"id\":\"98b3958b-d4d7-473a-ad05-0da062bb1a90\",\"type\":\"LogScale\"},{\"attributes\":{},\"id\":\"bb47ea3d-e69e-4e05-8c86-6f1f40ffa3dc\",\"type\":\"Selection\"},{\"attributes\":{},\"id\":\"bec79e6c-576b-4883-bfe2-adc084873e2a\",\"type\":\"HelpTool\"},{\"attributes\":{\"toolbar\":{\"id\":\"c75d6527-2827-4f46-870f-9681b8b5e94e\",\"type\":\"ProxyToolbar\"},\"toolbar_location\":\"above\"},\"id\":\"41cab2db-6a61-48d4-b1eb-75c6d313b7d6\",\"type\":\"ToolbarBox\"},{\"attributes\":{},\"id\":\"0b3d6431-32e8-4fa3-8fb5-2d711bb7a229\",\"type\":\"UnionRenderers\"},{\"attributes\":{\"axis_label\":\"cooling rate [K/day]\",\"formatter\":{\"id\":\"c5192e00-9b22-4f9b-a3d5-b282781405d0\",\"type\":\"BasicTickFormatter\"},\"plot\":{\"id\":\"ab0cc8c6-0164-4124-9d66-0627120ab2a1\",\"subtype\":\"Figure\",\"type\":\"Plot\"},\"ticker\":{\"id\":\"bd9430ba-e195-4360-b9e9-fcc053ddaaa2\",\"type\":\"BasicTicker\"}},\"id\":\"c103e196-56ac-4452-aec0-6bb27b842110\",\"type\":\"LinearAxis\"},{\"attributes\":{\"source\":{\"id\":\"34158e20-0453-4882-9c76-6bf8ebd3c800\",\"type\":\"ColumnDataSource\"}},\"id\":\"3914842f-a5cd-415a-a1b0-67fce3c5b4e6\",\"type\":\"CDSView\"},{\"attributes\":{},\"id\":\"af8c640f-f033-4dba-b3ef-6de9332c428f\",\"type\":\"UnionRenderers\"},{\"attributes\":{\"callback\":null,\"data\":{\"x\":{\"__ndarray__\":\"0CYBcvU5UkCik9zf2GVBQF1VoNfLZ0BAVLxhiVXTPUDD1Wu1wJM6QFJyB025jjdAU6Aw5+b/NECYe1uuDfgyQB6bYtVTbTFAPxYSAF1HMEA00pYVm9QuQLolHbMzgC1AntlwirGsLECv+G9SjE4rQJH6ZLBp0ShAsLZQyPd/JkDyjgyf2PwkQLgyNGsrJyRAA13QbJD6I0C8hy0ilI4kQOVTXCEgcSZAovOGvZSGJUBVc/ZmUOIgQOf/6GHAyRlAcE8fAOBSFEDRur1U//gPQGFD9ZbokghAQsqHuSqSA0C91ci3W0UBQCtRQfvz7/4/kh8pntyB+j9t1/n+4TX1P773MAUjFfI/RgzR+CI28T8hBW8WHK7uPzVKjJfU8uk/0FPt4/z65T/wVYqzMPDhPz7K9C5CXuE/8+hSn9hY4T/9PPCkR6rhP1XsIC599OA/66X1nBCX3z/YbRM56QjcPz4dkSQc/dM/S7Wb8Fq00T+/yQdmX0vcP7TrGf476eM/WqNPJoWO7D9qOH1bcwDzP2bw+R5DQ/Y/RLSuQOQp+D8+aif8yAz5P0Wv6eBKRfk/0i2+IN4R+T/ik8QNFZr4PyS5UD5j/Pc/yJ68zXRG9z/2CHPL54H2P59SOhwKtPU/npkP8dfg9D8NlmVcdQz0P80ugRvuOvM/byxiAHN18j9USVZie8nxP5l9lNXYSPE/OB+F0UYP8T8Y7dsUCTHxP3EBgTHPcPE/bfx15p8S8T8FT+xkGtTuP6mdG7rkxuk/pboqTkHX5D/CrN8qGYngP7R4ZaL+htU/\",\"dtype\":\"float64\",\"shape\":[75]},\"y\":{\"__ndarray__\":\"GhExyth1ND/Sv8nbtpRIP2vylNV0PVE/aTum7souWD/At0SJ8fVgPw3Iuahxymc/MSNhhJWvcD/bTfBN02d3P2zb5nxnaoA/CD5h5MAGhz8NmeH1TyaQP+zrCsc9p5Y/LbKd76fGnz/bLW5ISEmmPww9YvTcQq8/JV2OstnstT8Er5Y7M8G+P0c+r3jqkcU/5h99k6ZBzj88bCIzFzjVP4enV8oyxN0//yH99nXg5D8qOpLLf0jtP5kqGJXUifQ/c9cS8kHP/D+/DpwzojQEQIEmwoanVwxA4lgXt9HgE0BSSZ2AJuIbQAMJih9jjiNA5q4l5INuK0AwTKYKRj0zQNv5fmq8/DpAaCJseHrtQkB/+zpwzoxKQM3MzMzMeFJAZmZmZmZqWEAAAAAAAFxeQM3MzMzMJmJAmpmZmZkfZUBmZmZmZhhoQDMzMzMzEWtAAAAAAAAKbkBmZmZmZoFwQM3MzMzM/XFAMzMzMzN6c0CamZmZmfZ0QAAAAAAAc3ZAZmZmZmbvd0DNzMzMzGt5QDMzMzMz6HpAmpmZmZlkfEAAAAAAAOF9QGZmZmZmXX9AZmZmZuZsgECamZmZGSuBQM3MzMxM6YFAAAAAAICngkAzMzMzs2WDQGZmZmbmI4RAmpmZmRnihEDNzMzMTKCFQAAAAACAXoZAMzMzM7Mch0BmZmZm5tqHQJqZmZkZmYhAzczMzExXiUAAAAAAgBWKQDMzMzOz04pAZmZmZuaRi0CamZmZGVCMQM3MzMxMDo1AAAAAAIDMjUAzMzMzs4qOQGZmZmbmSI9A\",\"dtype\":\"float64\",\"shape\":[75]}},\"selected\":{\"id\":\"bb47ea3d-e69e-4e05-8c86-6f1f40ffa3dc\",\"type\":\"Selection\"},\"selection_policy\":{\"id\":\"30732614-2f35-4ea8-8c0c-69762f0d5b7d\",\"type\":\"UnionRenderers\"}},\"id\":\"75f3eaf0-1be0-4897-8c31-f12cd168df88\",\"type\":\"ColumnDataSource\"},{\"attributes\":{\"callback\":null,\"end\":1.7974829122409002,\"start\":-20.445228621550903},\"id\":\"c47dedf3-fa3d-4d7b-9063-3e465a96818b\",\"type\":\"Range1d\"},{\"attributes\":{\"line_alpha\":0.1,\"line_color\":\"#1f77b4\",\"line_width\":1.5,\"x\":{\"field\":\"x\"},\"y\":{\"field\":\"y\"}},\"id\":\"5f6ac732-28ee-41a8-81db-c9c05d9cb08b\",\"type\":\"Line\"},{\"attributes\":{\"data_source\":{\"id\":\"97020a41-1e2a-41dd-8baa-cc5548d5289a\",\"type\":\"ColumnDataSource\"},\"glyph\":{\"id\":\"f00d0f4e-e7f1-402d-9bf3-9f6d3dd5c6e7\",\"type\":\"Circle\"},\"hover_glyph\":null,\"muted_glyph\":null,\"nonselection_glyph\":{\"id\":\"0e61fd46-7af6-45f4-9726-3e798851f5b6\",\"type\":\"Circle\"},\"selection_glyph\":null,\"view\":{\"id\":\"5e26a2fc-6b94-49bd-9301-b592368e1150\",\"type\":\"CDSView\"}},\"id\":\"97d5f0f4-4091-45f6-921a-d4227e49e444\",\"type\":\"GlyphRenderer\"},{\"attributes\":{\"plot\":{\"id\":\"ab0cc8c6-0164-4124-9d66-0627120ab2a1\",\"subtype\":\"Figure\",\"type\":\"Plot\"},\"ticker\":{\"id\":\"bd9430ba-e195-4360-b9e9-fcc053ddaaa2\",\"type\":\"BasicTicker\"}},\"id\":\"353a3d56-09e8-49e2-80fd-e4849a9202da\",\"type\":\"Grid\"},{\"attributes\":{},\"id\":\"6e8ffc98-f32a-4746-b94b-f892d99cbbf3\",\"type\":\"LinearScale\"},{\"attributes\":{},\"id\":\"30732614-2f35-4ea8-8c0c-69762f0d5b7d\",\"type\":\"UnionRenderers\"},{\"attributes\":{},\"id\":\"442abc6d-206c-43b5-b7a8-61ae819a3146\",\"type\":\"BasicTickFormatter\"},{\"attributes\":{\"tools\":[{\"id\":\"ee945aa6-d78e-45be-8a85-9486a9567943\",\"type\":\"PanTool\"},{\"id\":\"61ddecff-e74d-4ee1-a28d-af652b009be5\",\"type\":\"WheelZoomTool\"},{\"id\":\"cc3e0459-19a8-4b42-9e7e-b464b3cb777f\",\"type\":\"BoxZoomTool\"},{\"id\":\"31e86b9d-acee-41d6-bf8d-8ed5acba1eb4\",\"type\":\"SaveTool\"},{\"id\":\"f191b762-2663-4d5f-8d81-ee08e285f0e9\",\"type\":\"ResetTool\"},{\"id\":\"bec79e6c-576b-4883-bfe2-adc084873e2a\",\"type\":\"HelpTool\"},{\"id\":\"2052db3c-5292-4250-a361-81f4ed8f1da8\",\"type\":\"PanTool\"},{\"id\":\"73ddd8b5-b199-463c-ac26-b6c2c6a89910\",\"type\":\"WheelZoomTool\"},{\"id\":\"a26ba2e5-d963-4633-baac-a521d4cfbb6d\",\"type\":\"BoxZoomTool\"},{\"id\":\"b1034093-3516-4d2e-9f8b-ff703ef18610\",\"type\":\"SaveTool\"},{\"id\":\"feabcf33-1658-4cba-987b-18173b508ded\",\"type\":\"ResetTool\"},{\"id\":\"88c3e001-c102-43b7-b0b5-fffb94384485\",\"type\":\"HelpTool\"},{\"id\":\"b5ec5a51-1832-498d-a28c-240dbb0340ca\",\"type\":\"PanTool\"},{\"id\":\"40ee1dbc-edf8-4a99-8c12-dff0e39cf459\",\"type\":\"WheelZoomTool\"},{\"id\":\"7e4b9ba6-c650-48f3-8edf-37f941e576aa\",\"type\":\"BoxZoomTool\"},{\"id\":\"9de0d435-5886-4090-88a8-67154879ea40\",\"type\":\"SaveTool\"},{\"id\":\"3ff50b5a-afd6-44f5-811c-5246a81f10d3\",\"type\":\"ResetTool\"},{\"id\":\"8deb0c44-aaee-4b5c-a26a-e68a94eee98f\",\"type\":\"HelpTool\"}]},\"id\":\"c75d6527-2827-4f46-870f-9681b8b5e94e\",\"type\":\"ProxyToolbar\"},{\"attributes\":{\"axis_label\":\"pressure [mb]\",\"formatter\":{\"id\":\"2b77bfa8-56e0-4cea-930a-ae6141165625\",\"type\":\"LogTickFormatter\"},\"plot\":{\"id\":\"ab0cc8c6-0164-4124-9d66-0627120ab2a1\",\"subtype\":\"Figure\",\"type\":\"Plot\"},\"ticker\":{\"id\":\"5daf0f4d-51fe-473e-8c06-3ff0af5e3d6b\",\"type\":\"LogTicker\"}},\"id\":\"90f16aeb-9cb5-4b9f-88eb-d8670ca717c0\",\"type\":\"LogAxis\"},{\"attributes\":{\"fill_alpha\":{\"value\":0.1},\"fill_color\":{\"value\":\"#1f77b4\"},\"line_alpha\":{\"value\":0.1},\"line_color\":{\"value\":\"#1f77b4\"},\"x\":{\"field\":\"x\"},\"y\":{\"field\":\"y\"}},\"id\":\"0e61fd46-7af6-45f4-9726-3e798851f5b6\",\"type\":\"Circle\"},{\"attributes\":{},\"id\":\"fd1beab7-b972-4e56-ab72-b43945566224\",\"type\":\"Selection\"},{\"attributes\":{},\"id\":\"64b5d38a-d334-4af6-a5aa-a69d1386a962\",\"type\":\"UnionRenderers\"},{\"attributes\":{\"children\":[{\"id\":\"41cab2db-6a61-48d4-b1eb-75c6d313b7d6\",\"type\":\"ToolbarBox\"},{\"id\":\"7960be0e-7454-4090-aa2b-07b28934dae1\",\"type\":\"Column\"}]},\"id\":\"89e65a00-f37d-4c28-af8e-13e9ea6518f7\",\"type\":\"Column\"},{\"attributes\":{\"source\":{\"id\":\"75f3eaf0-1be0-4897-8c31-f12cd168df88\",\"type\":\"ColumnDataSource\"}},\"id\":\"9508435c-4453-4f80-b29a-9950f904e54c\",\"type\":\"CDSView\"},{\"attributes\":{\"source\":{\"id\":\"97020a41-1e2a-41dd-8baa-cc5548d5289a\",\"type\":\"ColumnDataSource\"}},\"id\":\"5e26a2fc-6b94-49bd-9301-b592368e1150\",\"type\":\"CDSView\"},{\"attributes\":{},\"id\":\"ba440bbc-7731-4fba-befd-3c0b0605403e\",\"type\":\"BasicTickFormatter\"},{\"attributes\":{\"callback\":null,\"data\":{\"x\":{\"__ndarray__\":\"0CYBcvU5UkCik9zf2GVBQF1VoNfLZ0BAVLxhiVXTPUDD1Wu1wJM6QFJyB025jjdAU6Aw5+b/NECYe1uuDfgyQB6bYtVTbTFAPxYSAF1HMEA00pYVm9QuQLolHbMzgC1AntlwirGsLECv+G9SjE4rQJH6ZLBp0ShAsLZQyPd/JkDyjgyf2PwkQLgyNGsrJyRAA13QbJD6I0C8hy0ilI4kQOVTXCEgcSZAovOGvZSGJUBVc/ZmUOIgQOf/6GHAyRlAcE8fAOBSFEDRur1U//gPQGFD9ZbokghAQsqHuSqSA0C91ci3W0UBQCtRQfvz7/4/kh8pntyB+j9t1/n+4TX1P773MAUjFfI/RgzR+CI28T8hBW8WHK7uPzVKjJfU8uk/0FPt4/z65T/wVYqzMPDhPz7K9C5CXuE/8+hSn9hY4T/9PPCkR6rhP1XsIC599OA/66X1nBCX3z/YbRM56QjcPz4dkSQc/dM/S7Wb8Fq00T+/yQdmX0vcP7TrGf476eM/WqNPJoWO7D9qOH1bcwDzP2bw+R5DQ/Y/RLSuQOQp+D8+aif8yAz5P0Wv6eBKRfk/0i2+IN4R+T/ik8QNFZr4PyS5UD5j/Pc/yJ68zXRG9z/2CHPL54H2P59SOhwKtPU/npkP8dfg9D8NlmVcdQz0P80ugRvuOvM/byxiAHN18j9USVZie8nxP5l9lNXYSPE/OB+F0UYP8T8Y7dsUCTHxP3EBgTHPcPE/bfx15p8S8T8FT+xkGtTuP6mdG7rkxuk/pboqTkHX5D/CrN8qGYngP7R4ZaL+htU/\",\"dtype\":\"float64\",\"shape\":[75]},\"y\":{\"__ndarray__\":\"GhExyth1ND/Sv8nbtpRIP2vylNV0PVE/aTum7souWD/At0SJ8fVgPw3Iuahxymc/MSNhhJWvcD/bTfBN02d3P2zb5nxnaoA/CD5h5MAGhz8NmeH1TyaQP+zrCsc9p5Y/LbKd76fGnz/bLW5ISEmmPww9YvTcQq8/JV2OstnstT8Er5Y7M8G+P0c+r3jqkcU/5h99k6ZBzj88bCIzFzjVP4enV8oyxN0//yH99nXg5D8qOpLLf0jtP5kqGJXUifQ/c9cS8kHP/D+/DpwzojQEQIEmwoanVwxA4lgXt9HgE0BSSZ2AJuIbQAMJih9jjiNA5q4l5INuK0AwTKYKRj0zQNv5fmq8/DpAaCJseHrtQkB/+zpwzoxKQM3MzMzMeFJAZmZmZmZqWEAAAAAAAFxeQM3MzMzMJmJAmpmZmZkfZUBmZmZmZhhoQDMzMzMzEWtAAAAAAAAKbkBmZmZmZoFwQM3MzMzM/XFAMzMzMzN6c0CamZmZmfZ0QAAAAAAAc3ZAZmZmZmbvd0DNzMzMzGt5QDMzMzMz6HpAmpmZmZlkfEAAAAAAAOF9QGZmZmZmXX9AZmZmZuZsgECamZmZGSuBQM3MzMxM6YFAAAAAAICngkAzMzMzs2WDQGZmZmbmI4RAmpmZmRnihEDNzMzMTKCFQAAAAACAXoZAMzMzM7Mch0BmZmZm5tqHQJqZmZkZmYhAzczMzExXiUAAAAAAgBWKQDMzMzOz04pAZmZmZuaRi0CamZmZGVCMQM3MzMxMDo1AAAAAAIDMjUAzMzMzs4qOQGZmZmbmSI9A\",\"dtype\":\"float64\",\"shape\":[75]}},\"selected\":{\"id\":\"44af8c56-5744-4c20-99f9-7e8df9936ae2\",\"type\":\"Selection\"},\"selection_policy\":{\"id\":\"0b3d6431-32e8-4fa3-8fb5-2d711bb7a229\",\"type\":\"UnionRenderers\"}},\"id\":\"2772d7bd-fe84-4c8b-91eb-db4aaa45aad3\",\"type\":\"ColumnDataSource\"},{\"attributes\":{\"fill_alpha\":{\"value\":0.7},\"fill_color\":{\"value\":\"#4daf4a\"},\"line_alpha\":{\"value\":0.7},\"line_color\":{\"value\":\"#4daf4a\"},\"x\":{\"field\":\"x\"},\"y\":{\"field\":\"y\"}},\"id\":\"9ff0efd4-1027-4a4c-8992-cf9c45c969c9\",\"type\":\"Circle\"},{\"attributes\":{},\"id\":\"feff95b2-12a6-43bd-b811-124fcc48b6fa\",\"type\":\"Selection\"},{\"attributes\":{\"data_source\":{\"id\":\"75f3eaf0-1be0-4897-8c31-f12cd168df88\",\"type\":\"ColumnDataSource\"},\"glyph\":{\"id\":\"9ff0efd4-1027-4a4c-8992-cf9c45c969c9\",\"type\":\"Circle\"},\"hover_glyph\":null,\"muted_glyph\":null,\"nonselection_glyph\":{\"id\":\"e0db5698-e53e-42b1-877b-e5dcc6502142\",\"type\":\"Circle\"},\"selection_glyph\":null,\"view\":{\"id\":\"9508435c-4453-4f80-b29a-9950f904e54c\",\"type\":\"CDSView\"}},\"id\":\"240db0a8-cebd-4350-995b-af35b8122ff2\",\"type\":\"GlyphRenderer\"},{\"attributes\":{\"callback\":null,\"data\":{\"x\":{\"__ndarray__\":\"8YQIjofeQ8B5GPlCbPkYwChMQnukrAPApjH9VbsM8j8jJJzMnZELQPKWn1dZzg9AscBuCaO9BkCYLklb3vvqP3hwx8vS4e2/LGi6veuN+r871c/no0j0v7OQuAuIldW/VMnA/ZU54D/oTl2Ox2LuP8px4l+4YOw/BHKf0HOJ1z+tKgLuEarSv2yJpfmnaea/SaSoA3Kk5r+PkNMEuzPdv7zI9jaC/se/SN4myBR6kD8oaRGWmKmyP3+8WSWszMW/m6DmU/az07+iU0vJSaG9vyAYpdpaJ8g/ZDhNIGKEyT+Hjd0UeJWgP2Di5xu8L6a/g3nKoCLisz9DpiW+bDjBP9lHAkrdCZQ/VG1D2iziwb8qN6oj1PrDv634Bbt1KL2/1CipjWbVxL8hm4k73tjOv2qdetbVK9O/sN6y4CNH1L/XJxDJLnPSv0WGc+xz/M6/5CPK6hveyb/MFMVmC2fEvzes4yZVMcC/+tbxuuYEur+kJdKGX0W0v0Lh3TiEXrS/SGhz0mSyub/tXzxkNynAv6f6wQVIYMC/gnxep5Aovr9Renqpd1jAv1fp0yrnn8O/A71NpRxDxb9hv2yNBfzFv6jlCfHE98a/d2inc+LIyL8YrDRXU1XLv3nSFw4XDs6/kDTciTLb0L+5riTRVw/Tv54J1d6DvtW/YMUikSzF2L+urSbv5iDcv5qg5iqt7d+/+VfpRoU24r8MmXtcJf3kvxaACYa6sui/2V7er8jX7b9EdjI0tqHyv1mSFaIQXPi/DJFSDr8oAcCr4Hi9goALwDTNRVJDkDTA\",\"dtype\":\"float64\",\"shape\":[75]},\"y\":{\"__ndarray__\":\"GhExyth1ND/Sv8nbtpRIP2vylNV0PVE/aTum7souWD/At0SJ8fVgPw3Iuahxymc/MSNhhJWvcD/bTfBN02d3P2zb5nxnaoA/CD5h5MAGhz8NmeH1TyaQP+zrCsc9p5Y/LbKd76fGnz/bLW5ISEmmPww9YvTcQq8/JV2OstnstT8Er5Y7M8G+P0c+r3jqkcU/5h99k6ZBzj88bCIzFzjVP4enV8oyxN0//yH99nXg5D8qOpLLf0jtP5kqGJXUifQ/c9cS8kHP/D+/DpwzojQEQIEmwoanVwxA4lgXt9HgE0BSSZ2AJuIbQAMJih9jjiNA5q4l5INuK0AwTKYKRj0zQNv5fmq8/DpAaCJseHrtQkB/+zpwzoxKQM3MzMzMeFJAZmZmZmZqWEAAAAAAAFxeQM3MzMzMJmJAmpmZmZkfZUBmZmZmZhhoQDMzMzMzEWtAAAAAAAAKbkBmZmZmZoFwQM3MzMzM/XFAMzMzMzN6c0CamZmZmfZ0QAAAAAAAc3ZAZmZmZmbvd0DNzMzMzGt5QDMzMzMz6HpAmpmZmZlkfEAAAAAAAOF9QGZmZmZmXX9AZmZmZuZsgECamZmZGSuBQM3MzMxM6YFAAAAAAICngkAzMzMzs2WDQGZmZmbmI4RAmpmZmRnihEDNzMzMTKCFQAAAAACAXoZAMzMzM7Mch0BmZmZm5tqHQJqZmZkZmYhAzczMzExXiUAAAAAAgBWKQDMzMzOz04pAZmZmZuaRi0CamZmZGVCMQM3MzMxMDo1AAAAAAIDMjUAzMzMzs4qOQGZmZmbmSI9A\",\"dtype\":\"float64\",\"shape\":[75]}},\"selected\":{\"id\":\"4bf95ceb-09f4-44af-9b1b-e98546a5ea8d\",\"type\":\"Selection\"},\"selection_policy\":{\"id\":\"af8c640f-f033-4dba-b3ef-6de9332c428f\",\"type\":\"UnionRenderers\"}},\"id\":\"9db3ac8c-9eee-4d10-bb76-12e3736126db\",\"type\":\"ColumnDataSource\"},{\"attributes\":{\"callback\":null,\"end\":0.01,\"start\":1020},\"id\":\"1faf6d9e-caf2-4d03-afec-9319325c2b38\",\"type\":\"Range1d\"},{\"attributes\":{\"data_source\":{\"id\":\"9db3ac8c-9eee-4d10-bb76-12e3736126db\",\"type\":\"ColumnDataSource\"},\"glyph\":{\"id\":\"2bee4252-ec13-41d9-8064-8b223a233283\",\"type\":\"Line\"},\"hover_glyph\":null,\"muted_glyph\":null,\"nonselection_glyph\":{\"id\":\"736259d7-0525-4098-a788-2ee4c5e63f75\",\"type\":\"Line\"},\"selection_glyph\":null,\"view\":{\"id\":\"7fa9da23-7d3b-4ae0-82bb-2896ab643ae7\",\"type\":\"CDSView\"}},\"id\":\"63966912-3551-41e4-8a58-6a0a33745daa\",\"type\":\"GlyphRenderer\"},{\"attributes\":{},\"id\":\"22f41d93-18cc-4774-bacd-2dc737e0f350\",\"type\":\"LinearScale\"},{\"attributes\":{},\"id\":\"4282fe98-3d9a-41ab-ba05-21f68068c022\",\"type\":\"UnionRenderers\"},{\"attributes\":{\"num_minor_ticks\":10},\"id\":\"5daf0f4d-51fe-473e-8c06-3ff0af5e3d6b\",\"type\":\"LogTicker\"},{\"attributes\":{\"plot\":null,\"text\":\"\"},\"id\":\"64bec2a7-ce90-4218-8347-8aaa130d3637\",\"type\":\"Title\"},{\"attributes\":{\"items\":[{\"id\":\"962b5ccf-7e73-4518-9223-280b949a3f6e\",\"type\":\"LegendItem\"},{\"id\":\"21596e0b-cdd9-4d56-aaf4-e1f3cac018ce\",\"type\":\"LegendItem\"}],\"label_text_font_size\":{\"value\":\"8pt\"},\"location\":\"top_center\",\"orientation\":\"horizontal\",\"plot\":{\"id\":\"a0600a7d-9e54-40ab-bceb-99a7fe594c6c\",\"subtype\":\"Figure\",\"type\":\"Plot\"}},\"id\":\"f444c95d-9fa8-4911-b0df-3b5be0f5867b\",\"type\":\"Legend\"},{\"attributes\":{\"ticker\":null},\"id\":\"084e7b4c-ce5a-471c-af18-60c44a25e4ea\",\"type\":\"LogTickFormatter\"},{\"attributes\":{\"items\":[{\"id\":\"0c0871af-c2ea-42ee-9112-e965038c3f60\",\"type\":\"LegendItem\"}],\"label_text_font_size\":{\"value\":\"8pt\"},\"location\":\"top_center\",\"orientation\":\"horizontal\",\"plot\":{\"id\":\"ab0cc8c6-0164-4124-9d66-0627120ab2a1\",\"subtype\":\"Figure\",\"type\":\"Plot\"}},\"id\":\"160b98ff-36e2-4f85-9ec5-5461a9e4f580\",\"type\":\"Legend\"},{\"attributes\":{\"line_alpha\":0.6,\"line_color\":\"#377eb8\",\"line_dash\":[6],\"line_width\":5,\"x\":{\"field\":\"x\"},\"y\":{\"field\":\"y\"}},\"id\":\"4820419e-1e39-4f5f-87d8-7eb6841314e5\",\"type\":\"Line\"},{\"attributes\":{},\"id\":\"d5bccd4c-0eb9-4b9b-9d55-6299effede0d\",\"type\":\"UnionRenderers\"},{\"attributes\":{\"callback\":null,\"end\":0.9756501133417583,\"start\":-1.6857407153295576},\"id\":\"feee62c8-e1bb-412a-a656-e0284b78e14d\",\"type\":\"Range1d\"},{\"attributes\":{\"active_drag\":\"auto\",\"active_inspect\":\"auto\",\"active_scroll\":\"auto\",\"active_tap\":\"auto\",\"tools\":[{\"id\":\"b5ec5a51-1832-498d-a28c-240dbb0340ca\",\"type\":\"PanTool\"},{\"id\":\"40ee1dbc-edf8-4a99-8c12-dff0e39cf459\",\"type\":\"WheelZoomTool\"},{\"id\":\"7e4b9ba6-c650-48f3-8edf-37f941e576aa\",\"type\":\"BoxZoomTool\"},{\"id\":\"9de0d435-5886-4090-88a8-67154879ea40\",\"type\":\"SaveTool\"},{\"id\":\"3ff50b5a-afd6-44f5-811c-5246a81f10d3\",\"type\":\"ResetTool\"},{\"id\":\"8deb0c44-aaee-4b5c-a26a-e68a94eee98f\",\"type\":\"HelpTool\"}]},\"id\":\"6a267637-c76f-46bb-95f1-2caaad886a92\",\"type\":\"Toolbar\"},{\"attributes\":{},\"id\":\"b5ec5a51-1832-498d-a28c-240dbb0340ca\",\"type\":\"PanTool\"},{\"attributes\":{\"callback\":null,\"data\":{\"x\":{\"__ndarray__\":\"r8j5VWOVQEAl4fquVo08QDRh2B8DWj5Abo/BPiH0PkBHWv9u9AU+QDFl+3eEiDtAaHheSJvXN0ANxTWh7M8zQJpfBD9FfjBAet9siPw8LUCM15yYhkssQDJhv3KH0yxAM+ZM6kqwLUCezVXLuDQtQK8hYzZ1lypAP7LVZkM8J0CffZwPiGckQCHameuQwCJAv9KVTEmQIkA36wZK9qQjQMJ4gBgmESZAEQfrx9GOJUAnliKYowchQAQyvgBbGxlAZuXgmqAXE0A1YHMG9QsPQOGUn0ReFQpAyZ2M23AqBUDySxyYsYcBQBcSYhp2Pv4/LMc1yP6/+z82jL6W71z3P90AWXpKZfI/Nz0Ru7rz7T9Xd4QNZ6/pPyKLK+DFTeY/mgmDQKPF4D9O3k9J8nPUPyDu3Q5dIc8/bubluxrVzD8fUtCAYOHQP4kVCGbAatI/+5OQpwKo0j9047CFY9XRP0OOPiLjyMc/Fn++g0Jmxj9TQFOEBzrXP40v/nZrXeE/UTYBjDhY6T9srPVuTPvwPxGxQR46N/Q/fsw4NltH9j/yGvgGugH3Pxgyj/tN0fY/MXYUjHpp9j/3+xZclNr1P298L6BqHfU/t7FHf1gt9D9xc4xgPRfzP1FYdzpH8vE/eoyYTguq8D+/1DjQPpHuP8vYl0ealus/LvYyuE+I6D/POxlNg4LlP+SqtRXbmuI/68xBuBDQ3z9Bgnia2cnaP5oF8bnHXdQ/Bmg2dNw1wT8UduINSL3JvwmHD4o88ea/xcSPdd3l97969cByPF4HwFE3vFcnOjTA\",\"dtype\":\"float64\",\"shape\":[75]},\"y\":{\"__ndarray__\":\"GhExyth1ND/Sv8nbtpRIP2vylNV0PVE/aTum7souWD/At0SJ8fVgPw3Iuahxymc/MSNhhJWvcD/bTfBN02d3P2zb5nxnaoA/CD5h5MAGhz8NmeH1TyaQP+zrCsc9p5Y/LbKd76fGnz/bLW5ISEmmPww9YvTcQq8/JV2OstnstT8Er5Y7M8G+P0c+r3jqkcU/5h99k6ZBzj88bCIzFzjVP4enV8oyxN0//yH99nXg5D8qOpLLf0jtP5kqGJXUifQ/c9cS8kHP/D+/DpwzojQEQIEmwoanVwxA4lgXt9HgE0BSSZ2AJuIbQAMJih9jjiNA5q4l5INuK0AwTKYKRj0zQNv5fmq8/DpAaCJseHrtQkB/+zpwzoxKQM3MzMzMeFJAZmZmZmZqWEAAAAAAAFxeQM3MzMzMJmJAmpmZmZkfZUBmZmZmZhhoQDMzMzMzEWtAAAAAAAAKbkBmZmZmZoFwQM3MzMzM/XFAMzMzMzN6c0CamZmZmfZ0QAAAAAAAc3ZAZmZmZmbvd0DNzMzMzGt5QDMzMzMz6HpAmpmZmZlkfEAAAAAAAOF9QGZmZmZmXX9AZmZmZuZsgECamZmZGSuBQM3MzMxM6YFAAAAAAICngkAzMzMzs2WDQGZmZmbmI4RAmpmZmRnihEDNzMzMTKCFQAAAAACAXoZAMzMzM7Mch0BmZmZm5tqHQJqZmZkZmYhAzczMzExXiUAAAAAAgBWKQDMzMzOz04pAZmZmZuaRi0CamZmZGVCMQM3MzMxMDo1AAAAAAIDMjUAzMzMzs4qOQGZmZmbmSI9A\",\"dtype\":\"float64\",\"shape\":[75]}},\"selected\":{\"id\":\"5e979e8b-f370-4829-9784-229ec2c006e6\",\"type\":\"Selection\"},\"selection_policy\":{\"id\":\"12166efe-b594-40bb-87b7-b7e94a4689e2\",\"type\":\"UnionRenderers\"}},\"id\":\"26083815-f975-498b-96ae-ec188cd38e23\",\"type\":\"ColumnDataSource\"},{\"attributes\":{\"label\":{\"value\":\"CLIRAD (single-run)\"},\"renderers\":[{\"id\":\"8e986c1e-7c6b-482c-9dd0-34837ce112fc\",\"type\":\"GlyphRenderer\"}]},\"id\":\"cb376448-73d3-4110-8dfe-0c3c57666c9f\",\"type\":\"LegendItem\"},{\"attributes\":{\"data_source\":{\"id\":\"c921591d-cdcd-4cdd-b276-eeded3964adf\",\"type\":\"ColumnDataSource\"},\"glyph\":{\"id\":\"f13df9e0-c7a6-4f6c-ae59-954c84a3da8a\",\"type\":\"Circle\"},\"hover_glyph\":null,\"muted_glyph\":null,\"nonselection_glyph\":{\"id\":\"503416fc-0d26-4fae-a30e-9542a97b7b9c\",\"type\":\"Circle\"},\"selection_glyph\":null,\"view\":{\"id\":\"0373688a-e014-4c45-be89-7fb3a01c6a2e\",\"type\":\"CDSView\"}},\"id\":\"cd57ac58-1e1b-4d5a-8b25-e660d73bc418\",\"type\":\"GlyphRenderer\"},{\"attributes\":{\"line_alpha\":0.1,\"line_color\":\"#1f77b4\",\"line_dash\":[6],\"line_width\":5,\"x\":{\"field\":\"x\"},\"y\":{\"field\":\"y\"}},\"id\":\"17e22215-852e-4712-a748-6669d75a1db9\",\"type\":\"Line\"}],\"root_ids\":[\"89e65a00-f37d-4c28-af8e-13e9ea6518f7\"]},\"title\":\"Bokeh Application\",\"version\":\"0.12.16\"}};\n",
       "  var render_items = [{\"docid\":\"f4ea0b3b-671a-44db-8e56-0ce00b767d16\",\"elementid\":\"cc03af73-1028-4a54-bf70-f939598922ff\",\"modelid\":\"89e65a00-f37d-4c28-af8e-13e9ea6518f7\"}];\n",
       "  root.Bokeh.embed.embed_items_notebook(docs_json, render_items);\n",
       "\n",
       "  }\n",
       "  if (root.Bokeh !== undefined) {\n",
       "    embed_document(root);\n",
       "  } else {\n",
       "    var attempts = 0;\n",
       "    var timer = setInterval(function(root) {\n",
       "      if (root.Bokeh !== undefined) {\n",
       "        embed_document(root);\n",
       "        clearInterval(timer);\n",
       "      }\n",
       "      attempts++;\n",
       "      if (attempts > 100) {\n",
       "        console.log(\"Bokeh: ERROR: Unable to run BokehJS code because BokehJS library is missing\")\n",
       "        clearInterval(timer);\n",
       "      }\n",
       "    }, 10, root)\n",
       "  }\n",
       "})(window);"
      ],
      "application/vnd.bokehjs_exec.v0+json": ""
     },
     "metadata": {
      "application/vnd.bokehjs_exec.v0+json": {
       "id": "89e65a00-f37d-4c28-af8e-13e9ea6518f7"
      }
     },
     "output_type": "display_data"
    },
    {
     "data": {
      "text/markdown": [
       "*FIGURE.* Cooling rates & difference."
      ],
      "text/plain": [
       "<IPython.core.display.Markdown object>"
      ]
     },
     "metadata": {},
     "output_type": "display_data"
    },
    {
     "data": {
      "text/html": [
       "<a id=\"Fluxes._saw.\"></a>"
      ],
      "text/plain": [
       "<IPython.core.display.HTML object>"
      ]
     },
     "metadata": {},
     "output_type": "display_data"
    },
    {
     "data": {
      "text/markdown": [
       "# Fluxes. saw."
      ],
      "text/plain": [
       "<IPython.core.display.Markdown object>"
      ]
     },
     "metadata": {},
     "output_type": "display_data"
    },
    {
     "data": {
      "text/html": [
       "\n",
       "<div class=\"bk-root\">\n",
       "    <div class=\"bk-plotdiv\" id=\"83571544-07ca-4b85-a459-cc631cb07a9d\"></div>\n",
       "</div>"
      ]
     },
     "metadata": {},
     "output_type": "display_data"
    },
    {
     "data": {
      "application/javascript": [
       "(function(root) {\n",
       "  function embed_document(root) {\n",
       "    \n",
       "  var docs_json = {\"2b146c21-6cc9-4d60-8f9e-2a22368d963e\":{\"roots\":{\"references\":[{\"attributes\":{\"callback\":null,\"data\":{\"band\":[\"1\",\"2\",\"3\",\"4\",\"5\",\"6\",\"7\",\"8\",\"9\",\"10\",\"11\"],\"flux\":{\"__ndarray__\":\"gGLUtfY+xz+ggTy7fCsPwAjhCijUEwvAYPM4DOav0D+ELAsm/ngawAJk6NhB1TvACy5W1GBaIMDBeXHiqwUowLiraL0pJg/AoHnYVZKGzb9BaQMLu0MGwA==\",\"dtype\":\"float64\",\"shape\":[11]}},\"selected\":{\"id\":\"1e24ebe6-a12f-4e63-9f74-5734b791a587\",\"type\":\"Selection\"},\"selection_policy\":{\"id\":\"3d637171-064a-4f0d-82a3-08c1340ee6aa\",\"type\":\"UnionRenderers\"}},\"id\":\"d365d0ec-67eb-4099-bea3-b8e68a599fa1\",\"type\":\"ColumnDataSource\"},{\"attributes\":{\"overlay\":{\"id\":\"063d35e0-c2c4-43f1-b684-0862c7c83023\",\"type\":\"BoxAnnotation\"}},\"id\":\"dc6fc499-4d9a-405f-a07e-4e66b699b26d\",\"type\":\"BoxZoomTool\"},{\"attributes\":{\"axis_label\":\"flux (W m-2)\",\"formatter\":{\"id\":\"a97d2693-d198-443b-9852-96550351c130\",\"type\":\"BasicTickFormatter\"},\"plot\":{\"id\":\"9a298023-99f2-4df9-9d4b-5efefd7a02ed\",\"subtype\":\"Figure\",\"type\":\"Plot\"},\"ticker\":{\"id\":\"17492985-4929-4c4a-8174-f496c8cbd132\",\"type\":\"BasicTicker\"}},\"id\":\"443a8e55-4e62-4752-9bb3-1b41e342095c\",\"type\":\"LinearAxis\"},{\"attributes\":{},\"id\":\"ec4409d1-f481-4920-bf9e-f10a57a6f933\",\"type\":\"ResetTool\"},{\"attributes\":{},\"id\":\"10c37e79-673d-4b05-8cd2-e2a9eb634546\",\"type\":\"HelpTool\"},{\"attributes\":{\"callback\":null,\"data\":{\"band\":[\"1\",\"2\",\"3\",\"4\",\"5\",\"6\",\"7\",\"8\",\"9\",\"10\",\"11\"],\"flux\":{\"__ndarray__\":\"AEDdJAaBZb8Asg5HV+nAvwA2IEJcueC/AAeY+Q5+tj/A8wOyMnXIPyAWSPVCprm/QFhl8EEZsD/ga9jnGC20vwDdJRad0ZM/AJDEy9O5oj8Ad2DnQ6NtPw==\",\"dtype\":\"float64\",\"shape\":[11]}},\"selected\":{\"id\":\"17cfcccd-d839-4ab3-adf1-105dd4137310\",\"type\":\"Selection\"},\"selection_policy\":{\"id\":\"3f262e23-e056-428d-9b0a-9d37db1593bc\",\"type\":\"UnionRenderers\"}},\"id\":\"b2730e92-3521-422b-a361-79a01d19bb17\",\"type\":\"ColumnDataSource\"},{\"attributes\":{},\"id\":\"1593ab47-bad6-44cb-8e0f-a2b5ae3a95cf\",\"type\":\"WheelZoomTool\"},{\"attributes\":{\"data_source\":{\"id\":\"b2730e92-3521-422b-a361-79a01d19bb17\",\"type\":\"ColumnDataSource\"},\"glyph\":{\"id\":\"ba27450e-17ff-42e5-8598-40e4f84fba13\",\"type\":\"VBar\"},\"hover_glyph\":null,\"muted_glyph\":null,\"nonselection_glyph\":{\"id\":\"1687d5bd-17f9-424b-9350-dc974f2646a7\",\"type\":\"VBar\"},\"selection_glyph\":null,\"view\":{\"id\":\"83a549be-9bed-47d3-be8f-56245372d05a\",\"type\":\"CDSView\"}},\"id\":\"52ce34c1-ac01-422a-a9f8-f089cfa1a965\",\"type\":\"GlyphRenderer\"},{\"attributes\":{},\"id\":\"17492985-4929-4c4a-8174-f496c8cbd132\",\"type\":\"BasicTicker\"},{\"attributes\":{},\"id\":\"874cdc83-eef6-4270-ae3e-0260d850e198\",\"type\":\"CategoricalTicker\"},{\"attributes\":{},\"id\":\"80cc6b15-bb15-48cf-a6ea-8f2183ef0527\",\"type\":\"CategoricalScale\"},{\"attributes\":{\"dimension\":1,\"plot\":{\"id\":\"9a298023-99f2-4df9-9d4b-5efefd7a02ed\",\"subtype\":\"Figure\",\"type\":\"Plot\"},\"ticker\":{\"id\":\"17492985-4929-4c4a-8174-f496c8cbd132\",\"type\":\"BasicTicker\"}},\"id\":\"072cf9d9-975d-4ed9-8e3d-e66e8f935463\",\"type\":\"Grid\"},{\"attributes\":{},\"id\":\"7679850c-7991-4004-b7f2-63e35b633a29\",\"type\":\"CategoricalScale\"},{\"attributes\":{\"axis_label\":\"spectral band\",\"formatter\":{\"id\":\"fa66c71c-022d-4d04-a495-31500a22e162\",\"type\":\"CategoricalTickFormatter\"},\"plot\":{\"id\":\"9a298023-99f2-4df9-9d4b-5efefd7a02ed\",\"subtype\":\"Figure\",\"type\":\"Plot\"},\"ticker\":{\"id\":\"874cdc83-eef6-4270-ae3e-0260d850e198\",\"type\":\"CategoricalTicker\"}},\"id\":\"ebb1c352-5ac3-4525-a38e-ea7aa56523c8\",\"type\":\"CategoricalAxis\"},{\"attributes\":{\"fill_color\":{\"value\":\"#1f77b4\"},\"line_color\":{\"value\":\"#1f77b4\"},\"top\":{\"field\":\"flux\"},\"width\":{\"value\":0.9},\"x\":{\"field\":\"band\"}},\"id\":\"ba27450e-17ff-42e5-8598-40e4f84fba13\",\"type\":\"VBar\"},{\"attributes\":{\"plot\":{\"id\":\"9a298023-99f2-4df9-9d4b-5efefd7a02ed\",\"subtype\":\"Figure\",\"type\":\"Plot\"},\"ticker\":{\"id\":\"874cdc83-eef6-4270-ae3e-0260d850e198\",\"type\":\"CategoricalTicker\"}},\"id\":\"dd645389-7bfd-4534-9964-8cdb2ff4925c\",\"type\":\"Grid\"},{\"attributes\":{},\"id\":\"4e54a220-8073-40b3-a9a3-e35c485084b0\",\"type\":\"PanTool\"},{\"attributes\":{\"dimension\":1,\"plot\":{\"id\":\"7576c237-b086-42da-925e-30f09aacb5bb\",\"subtype\":\"Figure\",\"type\":\"Plot\"},\"ticker\":{\"id\":\"6c3ea055-9b59-4616-abd8-930b59bc003b\",\"type\":\"BasicTicker\"}},\"id\":\"89e47750-43d1-46f8-a33a-f870f8325333\",\"type\":\"Grid\"},{\"attributes\":{\"fill_alpha\":{\"value\":0.1},\"fill_color\":{\"value\":\"#1f77b4\"},\"line_alpha\":{\"value\":0.1},\"line_color\":{\"value\":\"#1f77b4\"},\"top\":{\"field\":\"flux\"},\"width\":{\"value\":0.9},\"x\":{\"field\":\"band\"}},\"id\":\"aeb62887-0a49-45bd-96e8-3a4c7f109289\",\"type\":\"VBar\"},{\"attributes\":{},\"id\":\"1f4425aa-5df0-4beb-bc57-b4a7096e78aa\",\"type\":\"LinearScale\"},{\"attributes\":{},\"id\":\"b9f690ac-f522-49bc-bb77-0f8d77c2d68f\",\"type\":\"SaveTool\"},{\"attributes\":{},\"id\":\"0acebb12-5476-4ae0-95e5-8553e2539b4d\",\"type\":\"CategoricalTicker\"},{\"attributes\":{\"plot\":{\"id\":\"7576c237-b086-42da-925e-30f09aacb5bb\",\"subtype\":\"Figure\",\"type\":\"Plot\"},\"ticker\":{\"id\":\"0acebb12-5476-4ae0-95e5-8553e2539b4d\",\"type\":\"CategoricalTicker\"}},\"id\":\"0b7e7455-9e87-40ed-a28f-43f6be78cb27\",\"type\":\"Grid\"},{\"attributes\":{},\"id\":\"de5aa5c6-c360-45de-aa42-3c08b5f80072\",\"type\":\"LinearScale\"},{\"attributes\":{\"fill_color\":{\"value\":\"#1f77b4\"},\"line_color\":{\"value\":\"#1f77b4\"},\"top\":{\"field\":\"flux\"},\"width\":{\"value\":0.9},\"x\":{\"field\":\"band\"}},\"id\":\"80797dab-4347-4a6f-9cc4-a13e63f07fd5\",\"type\":\"VBar\"},{\"attributes\":{\"callback\":null},\"id\":\"9241461a-dbd8-4ba1-a8ca-2d48fa5c0660\",\"type\":\"DataRange1d\"},{\"attributes\":{\"fill_alpha\":{\"value\":0.1},\"fill_color\":{\"value\":\"#1f77b4\"},\"line_alpha\":{\"value\":0.1},\"line_color\":{\"value\":\"#1f77b4\"},\"top\":{\"field\":\"flux\"},\"width\":{\"value\":0.9},\"x\":{\"field\":\"band\"}},\"id\":\"1687d5bd-17f9-424b-9350-dc974f2646a7\",\"type\":\"VBar\"},{\"attributes\":{\"bottom_units\":\"screen\",\"fill_alpha\":{\"value\":0.5},\"fill_color\":{\"value\":\"lightgrey\"},\"left_units\":\"screen\",\"level\":\"overlay\",\"line_alpha\":{\"value\":1.0},\"line_color\":{\"value\":\"black\"},\"line_dash\":[4,4],\"line_width\":{\"value\":2},\"plot\":null,\"render_mode\":\"css\",\"right_units\":\"screen\",\"top_units\":\"screen\"},\"id\":\"063d35e0-c2c4-43f1-b684-0862c7c83023\",\"type\":\"BoxAnnotation\"},{\"attributes\":{\"axis_label\":\"spectral band\",\"formatter\":{\"id\":\"20bd623f-c3c3-474d-9e78-55b1ecb9b456\",\"type\":\"CategoricalTickFormatter\"},\"plot\":{\"id\":\"7576c237-b086-42da-925e-30f09aacb5bb\",\"subtype\":\"Figure\",\"type\":\"Plot\"},\"ticker\":{\"id\":\"0acebb12-5476-4ae0-95e5-8553e2539b4d\",\"type\":\"CategoricalTicker\"}},\"id\":\"8448a2c8-4b65-4c7d-820b-7f65ea0ea917\",\"type\":\"CategoricalAxis\"},{\"attributes\":{\"axis_label\":\"flux (W m-2)\",\"formatter\":{\"id\":\"52dc9784-acb5-4bf5-8cd9-62480a27ac89\",\"type\":\"BasicTickFormatter\"},\"plot\":{\"id\":\"7576c237-b086-42da-925e-30f09aacb5bb\",\"subtype\":\"Figure\",\"type\":\"Plot\"},\"ticker\":{\"id\":\"6c3ea055-9b59-4616-abd8-930b59bc003b\",\"type\":\"BasicTicker\"}},\"id\":\"c5d4dfd9-9238-4d8a-b9ab-e8eb9329b924\",\"type\":\"LinearAxis\"},{\"attributes\":{\"below\":[{\"id\":\"4f526d9f-c254-4820-bdd2-c0951b26552b\",\"type\":\"CategoricalAxis\"}],\"left\":[{\"id\":\"556ef655-2c7b-4a88-a550-0273df1a9493\",\"type\":\"LinearAxis\"}],\"plot_height\":300,\"plot_width\":300,\"renderers\":[{\"id\":\"4f526d9f-c254-4820-bdd2-c0951b26552b\",\"type\":\"CategoricalAxis\"},{\"id\":\"b827e12c-d8cf-4382-8d34-7c520ac2856f\",\"type\":\"Grid\"},{\"id\":\"556ef655-2c7b-4a88-a550-0273df1a9493\",\"type\":\"LinearAxis\"},{\"id\":\"63720ddc-7b65-490e-a1d6-c4c0b791a925\",\"type\":\"Grid\"},{\"id\":\"e46933ee-b99c-48ba-bab1-08278ae36ed2\",\"type\":\"BoxAnnotation\"},{\"id\":\"6c623956-80e6-4353-a8fc-03ced27e1669\",\"type\":\"GlyphRenderer\"}],\"title\":{\"id\":\"17f03a43-efa8-4b5b-ba9c-79f0da922f9c\",\"type\":\"Title\"},\"toolbar\":{\"id\":\"e8b51f87-037a-43a2-9322-03e0a038c5ea\",\"type\":\"Toolbar\"},\"toolbar_location\":null,\"x_range\":{\"id\":\"34d20624-0330-461e-b35c-2d9571896c53\",\"type\":\"FactorRange\"},\"x_scale\":{\"id\":\"cfcf0240-f47f-4207-b443-91af0241f73d\",\"type\":\"CategoricalScale\"},\"y_range\":{\"id\":\"3873cb5c-1126-4900-a95f-3e4bc04aa253\",\"type\":\"DataRange1d\"},\"y_scale\":{\"id\":\"26979d9b-94d2-4506-b5d0-d10acd39808d\",\"type\":\"LinearScale\"}},\"id\":\"ea0b63ca-fac9-4a1b-8c9b-b6782e1b67fa\",\"subtype\":\"Figure\",\"type\":\"Plot\"},{\"attributes\":{\"callback\":null,\"factors\":[\"1\",\"2\",\"3\",\"4\",\"5\",\"6\",\"7\",\"8\",\"9\",\"10\",\"11\"]},\"id\":\"f6b2d59c-ce13-46f7-90ef-5660213b3a07\",\"type\":\"FactorRange\"},{\"attributes\":{},\"id\":\"6c3ea055-9b59-4616-abd8-930b59bc003b\",\"type\":\"BasicTicker\"},{\"attributes\":{},\"id\":\"89265457-bb83-4bb3-8b52-1680620dba6a\",\"type\":\"WheelZoomTool\"},{\"attributes\":{\"tools\":[{\"id\":\"ae33b782-be8b-4cc3-b605-0e77babf3bb4\",\"type\":\"PanTool\"},{\"id\":\"a159be83-4608-4436-a13a-df537d7862ea\",\"type\":\"WheelZoomTool\"},{\"id\":\"91e42fbb-f34d-4556-a2bd-cde0e6031f86\",\"type\":\"BoxZoomTool\"},{\"id\":\"d6fa3165-b689-4094-bdcc-60b0a7ecf234\",\"type\":\"SaveTool\"},{\"id\":\"71d28685-fada-4f95-a458-1d55c1e1d4f6\",\"type\":\"ResetTool\"},{\"id\":\"65b2a51c-73c6-4e57-8cc8-0fa137b24368\",\"type\":\"HelpTool\"},{\"id\":\"4e54a220-8073-40b3-a9a3-e35c485084b0\",\"type\":\"PanTool\"},{\"id\":\"1593ab47-bad6-44cb-8e0f-a2b5ae3a95cf\",\"type\":\"WheelZoomTool\"},{\"id\":\"dc6fc499-4d9a-405f-a07e-4e66b699b26d\",\"type\":\"BoxZoomTool\"},{\"id\":\"b9f690ac-f522-49bc-bb77-0f8d77c2d68f\",\"type\":\"SaveTool\"},{\"id\":\"ec4409d1-f481-4920-bf9e-f10a57a6f933\",\"type\":\"ResetTool\"},{\"id\":\"10c37e79-673d-4b05-8cd2-e2a9eb634546\",\"type\":\"HelpTool\"},{\"id\":\"d714bd32-7f1a-48cb-ba2a-1a6692ed9236\",\"type\":\"PanTool\"},{\"id\":\"89265457-bb83-4bb3-8b52-1680620dba6a\",\"type\":\"WheelZoomTool\"},{\"id\":\"92a33d06-9599-437b-96e9-92a48f10b6f4\",\"type\":\"BoxZoomTool\"},{\"id\":\"c6f3ec16-15a8-4347-aaa5-d45e28a770f9\",\"type\":\"SaveTool\"},{\"id\":\"fad8f447-57f3-4d97-8a6e-0935d758cf5d\",\"type\":\"ResetTool\"},{\"id\":\"9e3fd700-da98-4d9a-a904-e48b881caea6\",\"type\":\"HelpTool\"}]},\"id\":\"3a35749c-74ae-489a-b20b-d88de7f05c16\",\"type\":\"ProxyToolbar\"},{\"attributes\":{},\"id\":\"3d637171-064a-4f0d-82a3-08c1340ee6aa\",\"type\":\"UnionRenderers\"},{\"attributes\":{\"overlay\":{\"id\":\"655333c9-ab80-441d-88c2-8c3100ad5174\",\"type\":\"BoxAnnotation\"}},\"id\":\"91e42fbb-f34d-4556-a2bd-cde0e6031f86\",\"type\":\"BoxZoomTool\"},{\"attributes\":{\"callback\":null},\"id\":\"5a6c5c68-177f-4884-b744-63104f2a7030\",\"type\":\"DataRange1d\"},{\"attributes\":{\"children\":[{\"id\":\"7576c237-b086-42da-925e-30f09aacb5bb\",\"subtype\":\"Figure\",\"type\":\"Plot\"},{\"id\":\"9a298023-99f2-4df9-9d4b-5efefd7a02ed\",\"subtype\":\"Figure\",\"type\":\"Plot\"},{\"id\":\"ea0b63ca-fac9-4a1b-8c9b-b6782e1b67fa\",\"subtype\":\"Figure\",\"type\":\"Plot\"}]},\"id\":\"205efbb4-e8ac-48e0-b7e6-0429daecd34e\",\"type\":\"Row\"},{\"attributes\":{\"axis_label\":\"flux (W m-2)\",\"formatter\":{\"id\":\"d10c60c2-a6da-486b-8652-cb02ebe34dee\",\"type\":\"BasicTickFormatter\"},\"plot\":{\"id\":\"ea0b63ca-fac9-4a1b-8c9b-b6782e1b67fa\",\"subtype\":\"Figure\",\"type\":\"Plot\"},\"ticker\":{\"id\":\"57494f9e-5740-47a1-8e89-9d610101ff3c\",\"type\":\"BasicTicker\"}},\"id\":\"556ef655-2c7b-4a88-a550-0273df1a9493\",\"type\":\"LinearAxis\"},{\"attributes\":{\"data_source\":{\"id\":\"90ea969c-cd8c-4519-862c-357154bb7a6c\",\"type\":\"ColumnDataSource\"},\"glyph\":{\"id\":\"a5a4ac48-a6ef-4bcd-840f-a73347396499\",\"type\":\"VBar\"},\"hover_glyph\":null,\"muted_glyph\":null,\"nonselection_glyph\":{\"id\":\"55e84f3a-ac1a-400f-98b2-7b82c1a42458\",\"type\":\"VBar\"},\"selection_glyph\":null,\"view\":{\"id\":\"948c58e3-b7f5-4848-a03b-33f336b8988b\",\"type\":\"CDSView\"}},\"id\":\"6c623956-80e6-4353-a8fc-03ced27e1669\",\"type\":\"GlyphRenderer\"},{\"attributes\":{},\"id\":\"7ff57c0a-9ad7-40f0-8f98-cbd5bb6715f9\",\"type\":\"UnionRenderers\"},{\"attributes\":{},\"id\":\"52dc9784-acb5-4bf5-8cd9-62480a27ac89\",\"type\":\"BasicTickFormatter\"},{\"attributes\":{},\"id\":\"d6fa3165-b689-4094-bdcc-60b0a7ecf234\",\"type\":\"SaveTool\"},{\"attributes\":{},\"id\":\"ae33b782-be8b-4cc3-b605-0e77babf3bb4\",\"type\":\"PanTool\"},{\"attributes\":{},\"id\":\"9e3fd700-da98-4d9a-a904-e48b881caea6\",\"type\":\"HelpTool\"},{\"attributes\":{\"fill_alpha\":{\"value\":0.1},\"fill_color\":{\"value\":\"#1f77b4\"},\"line_alpha\":{\"value\":0.1},\"line_color\":{\"value\":\"#1f77b4\"},\"top\":{\"field\":\"flux\"},\"width\":{\"value\":0.9},\"x\":{\"field\":\"band\"}},\"id\":\"55e84f3a-ac1a-400f-98b2-7b82c1a42458\",\"type\":\"VBar\"},{\"attributes\":{\"axis_label\":\"spectral band\",\"formatter\":{\"id\":\"670243c9-1cd4-4822-a9ea-c28a079bcc8e\",\"type\":\"CategoricalTickFormatter\"},\"plot\":{\"id\":\"ea0b63ca-fac9-4a1b-8c9b-b6782e1b67fa\",\"subtype\":\"Figure\",\"type\":\"Plot\"},\"ticker\":{\"id\":\"c239a661-7e7a-45e3-bbe3-5a9253ccff00\",\"type\":\"CategoricalTicker\"}},\"id\":\"4f526d9f-c254-4820-bdd2-c0951b26552b\",\"type\":\"CategoricalAxis\"},{\"attributes\":{\"source\":{\"id\":\"d365d0ec-67eb-4099-bea3-b8e68a599fa1\",\"type\":\"ColumnDataSource\"}},\"id\":\"98e6382b-751f-4e32-a870-57da10868190\",\"type\":\"CDSView\"},{\"attributes\":{\"children\":[{\"id\":\"205efbb4-e8ac-48e0-b7e6-0429daecd34e\",\"type\":\"Row\"}]},\"id\":\"1da7016c-766e-4e0b-9970-7e9ae09f15bd\",\"type\":\"Column\"},{\"attributes\":{},\"id\":\"cfcf0240-f47f-4207-b443-91af0241f73d\",\"type\":\"CategoricalScale\"},{\"attributes\":{},\"id\":\"d714bd32-7f1a-48cb-ba2a-1a6692ed9236\",\"type\":\"PanTool\"},{\"attributes\":{\"active_drag\":\"auto\",\"active_inspect\":\"auto\",\"active_scroll\":\"auto\",\"active_tap\":\"auto\",\"tools\":[{\"id\":\"4e54a220-8073-40b3-a9a3-e35c485084b0\",\"type\":\"PanTool\"},{\"id\":\"1593ab47-bad6-44cb-8e0f-a2b5ae3a95cf\",\"type\":\"WheelZoomTool\"},{\"id\":\"dc6fc499-4d9a-405f-a07e-4e66b699b26d\",\"type\":\"BoxZoomTool\"},{\"id\":\"b9f690ac-f522-49bc-bb77-0f8d77c2d68f\",\"type\":\"SaveTool\"},{\"id\":\"ec4409d1-f481-4920-bf9e-f10a57a6f933\",\"type\":\"ResetTool\"},{\"id\":\"10c37e79-673d-4b05-8cd2-e2a9eb634546\",\"type\":\"HelpTool\"}]},\"id\":\"dc54d71a-9fdd-4b30-85d7-20c182ec5ca1\",\"type\":\"Toolbar\"},{\"attributes\":{},\"id\":\"20bd623f-c3c3-474d-9e78-55b1ecb9b456\",\"type\":\"CategoricalTickFormatter\"},{\"attributes\":{\"callback\":null},\"id\":\"3873cb5c-1126-4900-a95f-3e4bc04aa253\",\"type\":\"DataRange1d\"},{\"attributes\":{},\"id\":\"fa66c71c-022d-4d04-a495-31500a22e162\",\"type\":\"CategoricalTickFormatter\"},{\"attributes\":{\"bottom_units\":\"screen\",\"fill_alpha\":{\"value\":0.5},\"fill_color\":{\"value\":\"lightgrey\"},\"left_units\":\"screen\",\"level\":\"overlay\",\"line_alpha\":{\"value\":1.0},\"line_color\":{\"value\":\"black\"},\"line_dash\":[4,4],\"line_width\":{\"value\":2},\"plot\":null,\"render_mode\":\"css\",\"right_units\":\"screen\",\"top_units\":\"screen\"},\"id\":\"e46933ee-b99c-48ba-bab1-08278ae36ed2\",\"type\":\"BoxAnnotation\"},{\"attributes\":{},\"id\":\"c239a661-7e7a-45e3-bbe3-5a9253ccff00\",\"type\":\"CategoricalTicker\"},{\"attributes\":{\"plot\":{\"id\":\"ea0b63ca-fac9-4a1b-8c9b-b6782e1b67fa\",\"subtype\":\"Figure\",\"type\":\"Plot\"},\"ticker\":{\"id\":\"c239a661-7e7a-45e3-bbe3-5a9253ccff00\",\"type\":\"CategoricalTicker\"}},\"id\":\"b827e12c-d8cf-4382-8d34-7c520ac2856f\",\"type\":\"Grid\"},{\"attributes\":{},\"id\":\"d10c60c2-a6da-486b-8652-cb02ebe34dee\",\"type\":\"BasicTickFormatter\"},{\"attributes\":{},\"id\":\"71d28685-fada-4f95-a458-1d55c1e1d4f6\",\"type\":\"ResetTool\"},{\"attributes\":{\"below\":[{\"id\":\"8448a2c8-4b65-4c7d-820b-7f65ea0ea917\",\"type\":\"CategoricalAxis\"}],\"left\":[{\"id\":\"c5d4dfd9-9238-4d8a-b9ab-e8eb9329b924\",\"type\":\"LinearAxis\"}],\"plot_height\":300,\"plot_width\":300,\"renderers\":[{\"id\":\"8448a2c8-4b65-4c7d-820b-7f65ea0ea917\",\"type\":\"CategoricalAxis\"},{\"id\":\"0b7e7455-9e87-40ed-a28f-43f6be78cb27\",\"type\":\"Grid\"},{\"id\":\"c5d4dfd9-9238-4d8a-b9ab-e8eb9329b924\",\"type\":\"LinearAxis\"},{\"id\":\"89e47750-43d1-46f8-a33a-f870f8325333\",\"type\":\"Grid\"},{\"id\":\"655333c9-ab80-441d-88c2-8c3100ad5174\",\"type\":\"BoxAnnotation\"},{\"id\":\"1028686f-85ff-4afa-9aec-fd77ef57f37f\",\"type\":\"GlyphRenderer\"}],\"title\":{\"id\":\"1d81d926-67e2-44e0-aff9-67ab914839d4\",\"type\":\"Title\"},\"toolbar\":{\"id\":\"0a025fa0-fedf-47ad-8fbe-6a4517e155e2\",\"type\":\"Toolbar\"},\"toolbar_location\":null,\"x_range\":{\"id\":\"4367fc50-db30-4dfd-b4f7-5945216d19e2\",\"type\":\"FactorRange\"},\"x_scale\":{\"id\":\"80cc6b15-bb15-48cf-a6ea-8f2183ef0527\",\"type\":\"CategoricalScale\"},\"y_range\":{\"id\":\"5a6c5c68-177f-4884-b744-63104f2a7030\",\"type\":\"DataRange1d\"},\"y_scale\":{\"id\":\"1f4425aa-5df0-4beb-bc57-b4a7096e78aa\",\"type\":\"LinearScale\"}},\"id\":\"7576c237-b086-42da-925e-30f09aacb5bb\",\"subtype\":\"Figure\",\"type\":\"Plot\"},{\"attributes\":{},\"id\":\"65b2a51c-73c6-4e57-8cc8-0fa137b24368\",\"type\":\"HelpTool\"},{\"attributes\":{},\"id\":\"a159be83-4608-4436-a13a-df537d7862ea\",\"type\":\"WheelZoomTool\"},{\"attributes\":{\"below\":[{\"id\":\"ebb1c352-5ac3-4525-a38e-ea7aa56523c8\",\"type\":\"CategoricalAxis\"}],\"left\":[{\"id\":\"443a8e55-4e62-4752-9bb3-1b41e342095c\",\"type\":\"LinearAxis\"}],\"plot_height\":300,\"plot_width\":300,\"renderers\":[{\"id\":\"ebb1c352-5ac3-4525-a38e-ea7aa56523c8\",\"type\":\"CategoricalAxis\"},{\"id\":\"dd645389-7bfd-4534-9964-8cdb2ff4925c\",\"type\":\"Grid\"},{\"id\":\"443a8e55-4e62-4752-9bb3-1b41e342095c\",\"type\":\"LinearAxis\"},{\"id\":\"072cf9d9-975d-4ed9-8e3d-e66e8f935463\",\"type\":\"Grid\"},{\"id\":\"063d35e0-c2c4-43f1-b684-0862c7c83023\",\"type\":\"BoxAnnotation\"},{\"id\":\"52ce34c1-ac01-422a-a9f8-f089cfa1a965\",\"type\":\"GlyphRenderer\"}],\"title\":{\"id\":\"262def73-3dab-4367-a6bc-195ff19284a6\",\"type\":\"Title\"},\"toolbar\":{\"id\":\"dc54d71a-9fdd-4b30-85d7-20c182ec5ca1\",\"type\":\"Toolbar\"},\"toolbar_location\":null,\"x_range\":{\"id\":\"f6b2d59c-ce13-46f7-90ef-5660213b3a07\",\"type\":\"FactorRange\"},\"x_scale\":{\"id\":\"7679850c-7991-4004-b7f2-63e35b633a29\",\"type\":\"CategoricalScale\"},\"y_range\":{\"id\":\"9241461a-dbd8-4ba1-a8ca-2d48fa5c0660\",\"type\":\"DataRange1d\"},\"y_scale\":{\"id\":\"de5aa5c6-c360-45de-aa42-3c08b5f80072\",\"type\":\"LinearScale\"}},\"id\":\"9a298023-99f2-4df9-9d4b-5efefd7a02ed\",\"subtype\":\"Figure\",\"type\":\"Plot\"},{\"attributes\":{\"fill_color\":{\"value\":\"#1f77b4\"},\"line_color\":{\"value\":\"#1f77b4\"},\"top\":{\"field\":\"flux\"},\"width\":{\"value\":0.9},\"x\":{\"field\":\"band\"}},\"id\":\"a5a4ac48-a6ef-4bcd-840f-a73347396499\",\"type\":\"VBar\"},{\"attributes\":{},\"id\":\"670243c9-1cd4-4822-a9ea-c28a079bcc8e\",\"type\":\"CategoricalTickFormatter\"},{\"attributes\":{\"plot\":null,\"text\":\"TOA flux. CLIRAD (single-run) - CRD.\"},\"id\":\"1d81d926-67e2-44e0-aff9-67ab914839d4\",\"type\":\"Title\"},{\"attributes\":{\"overlay\":{\"id\":\"e46933ee-b99c-48ba-bab1-08278ae36ed2\",\"type\":\"BoxAnnotation\"}},\"id\":\"92a33d06-9599-437b-96e9-92a48f10b6f4\",\"type\":\"BoxZoomTool\"},{\"attributes\":{\"callback\":null,\"data\":{\"band\":[\"1\",\"2\",\"3\",\"4\",\"5\",\"6\",\"7\",\"8\",\"9\",\"10\",\"11\"],\"flux\":{\"__ndarray__\":\"FLFXcQ3+JUCOgXUcP140QMnBx7t+kCNAPKeEILoZMUDuJCL8i6AbQEDv/nivWvE/Jk2DonkgIEBIUk/V86TwP0OcPYZ9kSRA1loAaetHNEAXXnJxjvkCQA==\",\"dtype\":\"float64\",\"shape\":[11]}},\"selected\":{\"id\":\"613ad5e6-428d-484c-bdd4-df5e4f7b3445\",\"type\":\"Selection\"},\"selection_policy\":{\"id\":\"7ff57c0a-9ad7-40f0-8f98-cbd5bb6715f9\",\"type\":\"UnionRenderers\"}},\"id\":\"90ea969c-cd8c-4519-862c-357154bb7a6c\",\"type\":\"ColumnDataSource\"},{\"attributes\":{\"toolbar\":{\"id\":\"3a35749c-74ae-489a-b20b-d88de7f05c16\",\"type\":\"ProxyToolbar\"},\"toolbar_location\":\"above\"},\"id\":\"329b017a-95fe-4aaf-82c3-1b11ca476783\",\"type\":\"ToolbarBox\"},{\"attributes\":{\"dimension\":1,\"plot\":{\"id\":\"ea0b63ca-fac9-4a1b-8c9b-b6782e1b67fa\",\"subtype\":\"Figure\",\"type\":\"Plot\"},\"ticker\":{\"id\":\"57494f9e-5740-47a1-8e89-9d610101ff3c\",\"type\":\"BasicTicker\"}},\"id\":\"63720ddc-7b65-490e-a1d6-c4c0b791a925\",\"type\":\"Grid\"},{\"attributes\":{\"plot\":null,\"text\":\"SFC flux. CLIRAD (single-run) - CRD.\"},\"id\":\"262def73-3dab-4367-a6bc-195ff19284a6\",\"type\":\"Title\"},{\"attributes\":{\"callback\":null,\"factors\":[\"1\",\"2\",\"3\",\"4\",\"5\",\"6\",\"7\",\"8\",\"9\",\"10\",\"11\"]},\"id\":\"34d20624-0330-461e-b35c-2d9571896c53\",\"type\":\"FactorRange\"},{\"attributes\":{},\"id\":\"fad8f447-57f3-4d97-8a6e-0935d758cf5d\",\"type\":\"ResetTool\"},{\"attributes\":{\"source\":{\"id\":\"b2730e92-3521-422b-a361-79a01d19bb17\",\"type\":\"ColumnDataSource\"}},\"id\":\"83a549be-9bed-47d3-be8f-56245372d05a\",\"type\":\"CDSView\"},{\"attributes\":{},\"id\":\"57494f9e-5740-47a1-8e89-9d610101ff3c\",\"type\":\"BasicTicker\"},{\"attributes\":{\"children\":[{\"id\":\"329b017a-95fe-4aaf-82c3-1b11ca476783\",\"type\":\"ToolbarBox\"},{\"id\":\"1da7016c-766e-4e0b-9970-7e9ae09f15bd\",\"type\":\"Column\"}]},\"id\":\"a50a1feb-0a91-4f7d-8115-5806e89406c7\",\"type\":\"Column\"},{\"attributes\":{\"bottom_units\":\"screen\",\"fill_alpha\":{\"value\":0.5},\"fill_color\":{\"value\":\"lightgrey\"},\"left_units\":\"screen\",\"level\":\"overlay\",\"line_alpha\":{\"value\":1.0},\"line_color\":{\"value\":\"black\"},\"line_dash\":[4,4],\"line_width\":{\"value\":2},\"plot\":null,\"render_mode\":\"css\",\"right_units\":\"screen\",\"top_units\":\"screen\"},\"id\":\"655333c9-ab80-441d-88c2-8c3100ad5174\",\"type\":\"BoxAnnotation\"},{\"attributes\":{\"callback\":null,\"factors\":[\"1\",\"2\",\"3\",\"4\",\"5\",\"6\",\"7\",\"8\",\"9\",\"10\",\"11\"]},\"id\":\"4367fc50-db30-4dfd-b4f7-5945216d19e2\",\"type\":\"FactorRange\"},{\"attributes\":{\"plot\":null,\"text\":\"Atmosphere heating. CLIRAD (single-run) - CRD.\"},\"id\":\"17f03a43-efa8-4b5b-ba9c-79f0da922f9c\",\"type\":\"Title\"},{\"attributes\":{},\"id\":\"1e24ebe6-a12f-4e63-9f74-5734b791a587\",\"type\":\"Selection\"},{\"attributes\":{},\"id\":\"17cfcccd-d839-4ab3-adf1-105dd4137310\",\"type\":\"Selection\"},{\"attributes\":{},\"id\":\"26979d9b-94d2-4506-b5d0-d10acd39808d\",\"type\":\"LinearScale\"},{\"attributes\":{},\"id\":\"a97d2693-d198-443b-9852-96550351c130\",\"type\":\"BasicTickFormatter\"},{\"attributes\":{\"source\":{\"id\":\"90ea969c-cd8c-4519-862c-357154bb7a6c\",\"type\":\"ColumnDataSource\"}},\"id\":\"948c58e3-b7f5-4848-a03b-33f336b8988b\",\"type\":\"CDSView\"},{\"attributes\":{\"active_drag\":\"auto\",\"active_inspect\":\"auto\",\"active_scroll\":\"auto\",\"active_tap\":\"auto\",\"tools\":[{\"id\":\"d714bd32-7f1a-48cb-ba2a-1a6692ed9236\",\"type\":\"PanTool\"},{\"id\":\"89265457-bb83-4bb3-8b52-1680620dba6a\",\"type\":\"WheelZoomTool\"},{\"id\":\"92a33d06-9599-437b-96e9-92a48f10b6f4\",\"type\":\"BoxZoomTool\"},{\"id\":\"c6f3ec16-15a8-4347-aaa5-d45e28a770f9\",\"type\":\"SaveTool\"},{\"id\":\"fad8f447-57f3-4d97-8a6e-0935d758cf5d\",\"type\":\"ResetTool\"},{\"id\":\"9e3fd700-da98-4d9a-a904-e48b881caea6\",\"type\":\"HelpTool\"}]},\"id\":\"e8b51f87-037a-43a2-9322-03e0a038c5ea\",\"type\":\"Toolbar\"},{\"attributes\":{},\"id\":\"c6f3ec16-15a8-4347-aaa5-d45e28a770f9\",\"type\":\"SaveTool\"},{\"attributes\":{\"data_source\":{\"id\":\"d365d0ec-67eb-4099-bea3-b8e68a599fa1\",\"type\":\"ColumnDataSource\"},\"glyph\":{\"id\":\"80797dab-4347-4a6f-9cc4-a13e63f07fd5\",\"type\":\"VBar\"},\"hover_glyph\":null,\"muted_glyph\":null,\"nonselection_glyph\":{\"id\":\"aeb62887-0a49-45bd-96e8-3a4c7f109289\",\"type\":\"VBar\"},\"selection_glyph\":null,\"view\":{\"id\":\"98e6382b-751f-4e32-a870-57da10868190\",\"type\":\"CDSView\"}},\"id\":\"1028686f-85ff-4afa-9aec-fd77ef57f37f\",\"type\":\"GlyphRenderer\"},{\"attributes\":{\"active_drag\":\"auto\",\"active_inspect\":\"auto\",\"active_scroll\":\"auto\",\"active_tap\":\"auto\",\"tools\":[{\"id\":\"ae33b782-be8b-4cc3-b605-0e77babf3bb4\",\"type\":\"PanTool\"},{\"id\":\"a159be83-4608-4436-a13a-df537d7862ea\",\"type\":\"WheelZoomTool\"},{\"id\":\"91e42fbb-f34d-4556-a2bd-cde0e6031f86\",\"type\":\"BoxZoomTool\"},{\"id\":\"d6fa3165-b689-4094-bdcc-60b0a7ecf234\",\"type\":\"SaveTool\"},{\"id\":\"71d28685-fada-4f95-a458-1d55c1e1d4f6\",\"type\":\"ResetTool\"},{\"id\":\"65b2a51c-73c6-4e57-8cc8-0fa137b24368\",\"type\":\"HelpTool\"}]},\"id\":\"0a025fa0-fedf-47ad-8fbe-6a4517e155e2\",\"type\":\"Toolbar\"},{\"attributes\":{},\"id\":\"3f262e23-e056-428d-9b0a-9d37db1593bc\",\"type\":\"UnionRenderers\"},{\"attributes\":{},\"id\":\"613ad5e6-428d-484c-bdd4-df5e4f7b3445\",\"type\":\"Selection\"}],\"root_ids\":[\"a50a1feb-0a91-4f7d-8115-5806e89406c7\"]},\"title\":\"Bokeh Application\",\"version\":\"0.12.16\"}};\n",
       "  var render_items = [{\"docid\":\"2b146c21-6cc9-4d60-8f9e-2a22368d963e\",\"elementid\":\"83571544-07ca-4b85-a459-cc631cb07a9d\",\"modelid\":\"a50a1feb-0a91-4f7d-8115-5806e89406c7\"}];\n",
       "  root.Bokeh.embed.embed_items_notebook(docs_json, render_items);\n",
       "\n",
       "  }\n",
       "  if (root.Bokeh !== undefined) {\n",
       "    embed_document(root);\n",
       "  } else {\n",
       "    var attempts = 0;\n",
       "    var timer = setInterval(function(root) {\n",
       "      if (root.Bokeh !== undefined) {\n",
       "        embed_document(root);\n",
       "        clearInterval(timer);\n",
       "      }\n",
       "      attempts++;\n",
       "      if (attempts > 100) {\n",
       "        console.log(\"Bokeh: ERROR: Unable to run BokehJS code because BokehJS library is missing\")\n",
       "        clearInterval(timer);\n",
       "      }\n",
       "    }, 10, root)\n",
       "  }\n",
       "})(window);"
      ],
      "application/vnd.bokehjs_exec.v0+json": ""
     },
     "metadata": {
      "application/vnd.bokehjs_exec.v0+json": {
       "id": "a50a1feb-0a91-4f7d-8115-5806e89406c7"
      }
     },
     "output_type": "display_data"
    },
    {
     "data": {
      "text/markdown": [
       "*FIGURE.* Difference between CLIRAD and CRD in TOA, SFC and net atmosphere flux, in each spectral band."
      ],
      "text/plain": [
       "<IPython.core.display.Markdown object>"
      ]
     },
     "metadata": {},
     "output_type": "display_data"
    },
    {
     "data": {
      "text/html": [
       "<div>\n",
       "<style scoped>\n",
       "    .dataframe tbody tr th:only-of-type {\n",
       "        vertical-align: middle;\n",
       "    }\n",
       "\n",
       "    .dataframe tbody tr th {\n",
       "        vertical-align: top;\n",
       "    }\n",
       "\n",
       "    .dataframe thead th {\n",
       "        text-align: right;\n",
       "    }\n",
       "</style>\n",
       "<table border=\"1\" class=\"dataframe\">\n",
       "  <thead>\n",
       "    <tr style=\"text-align: right;\">\n",
       "      <th></th>\n",
       "      <th>OLR flux</th>\n",
       "      <th>SFC flux</th>\n",
       "      <th>ATM heating</th>\n",
       "    </tr>\n",
       "    <tr>\n",
       "      <th>Sum over bands</th>\n",
       "      <th></th>\n",
       "      <th></th>\n",
       "      <th></th>\n",
       "    </tr>\n",
       "  </thead>\n",
       "  <tbody>\n",
       "    <tr>\n",
       "      <th>CLIRAD (single-run) - CRD</th>\n",
       "      <td>-68.38</td>\n",
       "      <td>-0.44</td>\n",
       "      <td>108.28</td>\n",
       "    </tr>\n",
       "    <tr>\n",
       "      <th>CRD</th>\n",
       "      <td>-201.06</td>\n",
       "      <td>166.03</td>\n",
       "      <td>-119.67</td>\n",
       "    </tr>\n",
       "  </tbody>\n",
       "</table>\n",
       "</div>"
      ],
      "text/plain": [
       "                           OLR flux  SFC flux  ATM heating\n",
       "Sum over bands                                            \n",
       "CLIRAD (single-run) - CRD    -68.38     -0.44       108.28\n",
       "CRD                         -201.06    166.03      -119.67"
      ]
     },
     "metadata": {},
     "output_type": "display_data"
    },
    {
     "data": {
      "text/markdown": [
       "*TABLE.* Difference between CLIRAD and CRD in TOA, SFC and net atmosphere flux, over all spectral bands. CRD's TOA, SFC and net atmosphere flux, over all spectral bands."
      ],
      "text/plain": [
       "<IPython.core.display.Markdown object>"
      ]
     },
     "metadata": {},
     "output_type": "display_data"
    },
    {
     "data": {
      "text/html": [
       "<a id=\"Cooling_rates._trp.\"></a>"
      ],
      "text/plain": [
       "<IPython.core.display.HTML object>"
      ]
     },
     "metadata": {},
     "output_type": "display_data"
    },
    {
     "data": {
      "text/markdown": [
       "# Cooling rates. trp."
      ],
      "text/plain": [
       "<IPython.core.display.Markdown object>"
      ]
     },
     "metadata": {},
     "output_type": "display_data"
    },
    {
     "data": {
      "text/html": [
       "\n",
       "<div class=\"bk-root\">\n",
       "    <div class=\"bk-plotdiv\" id=\"437664e3-fae5-4439-a070-d62ededf2b05\"></div>\n",
       "</div>"
      ]
     },
     "metadata": {},
     "output_type": "display_data"
    },
    {
     "data": {
      "application/javascript": [
       "(function(root) {\n",
       "  function embed_document(root) {\n",
       "    \n",
       "  var docs_json = {\"64f4d5fe-b341-44e4-a5d5-f2ce10ca7191\":{\"roots\":{\"references\":[{\"attributes\":{},\"id\":\"07990c80-b3ac-4935-8c79-664a23a1ee9a\",\"type\":\"BasicTickFormatter\"},{\"attributes\":{\"data_source\":{\"id\":\"b30a8bed-ff4c-4b35-ad89-a3277ce37938\",\"type\":\"ColumnDataSource\"},\"glyph\":{\"id\":\"ac5cecbc-f3b1-4ead-b066-28ab5716bb06\",\"type\":\"Line\"},\"hover_glyph\":null,\"muted_glyph\":null,\"nonselection_glyph\":{\"id\":\"abe878a4-1943-46ad-9c30-788309e2e216\",\"type\":\"Line\"},\"selection_glyph\":null,\"view\":{\"id\":\"d1233d62-92e6-46e8-8c98-2d5d7020636c\",\"type\":\"CDSView\"}},\"id\":\"48995e16-614f-430d-a100-a296b2e588c7\",\"type\":\"GlyphRenderer\"},{\"attributes\":{\"fill_alpha\":{\"value\":0.1},\"fill_color\":{\"value\":\"#1f77b4\"},\"line_alpha\":{\"value\":0.1},\"line_color\":{\"value\":\"#1f77b4\"},\"x\":{\"field\":\"x\"},\"y\":{\"field\":\"y\"}},\"id\":\"4bbf4bd7-4f14-4a5f-b209-dfd96e4c0ff9\",\"type\":\"Circle\"},{\"attributes\":{\"ticker\":null},\"id\":\"d657b95d-5b9c-4f8e-bf17-a2bbf461dca8\",\"type\":\"LogTickFormatter\"},{\"attributes\":{\"callback\":null,\"data\":{\"x\":{\"__ndarray__\":\"R/KIaN7AVEClCeJMyPNGQOvRhpxr30JAptxzhxx4PkA7SssMElA4QK6Bp3CyUDNAsVXpjES9LkBFhUV0+5coQMHYwqbbySNA6f09nM3nH0CaSd/3eYoZQDmgiAOW8BNAPYqARh3eDEBkm4vCgvr+P9D+5tWhQfY/P8DwKRnSAkBq38kb17ILQDT7IWuSsxFAUr2Rjm0FFkAinq3s9XgbQGCHwtYcqSFAG64kT303J0C7dRDneyooQD9JYrbK8yRA9S3bneHhIUAIymSuUMMcQIkHLe6VEBdAAau3cITREkA6CiNvkQIPQJU39ki7IQlAaAvwok1UA0BXLQiS4+L7P0xzDpJ2hPI/NNuPGMbJ5z91mUVYxqfSPxqwUPSxZca/G11peifD3L8QzNj5t2jTvwzOozTL360/SPJ4VI1VzD9KJ0nXEIncP8yDdlvHt+4/Et49nYLW9z++2teD4Jn+P+568eH/bwFALf5D9lmAAkCiZAicVOkCQPPT4jNKxwJAOjp3wTzBAUBSQsKNGisBQG4OmjqJwQBAJ3sZoHFuAEA5Ar0Sdi0AQGy4rw5+9f8/7W4nSrC3/z8mPr8zj4T/P4UYRHCQS/8/embVKYcF/z+5YXG+LLP+P/qb8BVUgf4/KvafTtyO/j/avAK1Ppv+PwJV9VVm2P0/JFtYlU/n/D9sN+q2fiX6Pw44e41PNPc/Opt+Z/wN9T+x3vcSW1vzP9ofvWQJlvI/8sciQQBW8j80sfkQa17yPzg5qng2r/I/Oh14WJBh8z+VZjnpctj0P6CcrSuCqQBA\",\"dtype\":\"float64\",\"shape\":[75]},\"y\":{\"__ndarray__\":\"GhExyth1ND/Sv8nbtpRIP2vylNV0PVE/aTum7souWD/At0SJ8fVgPw3Iuahxymc/MSNhhJWvcD/bTfBN02d3P2zb5nxnaoA/CD5h5MAGhz8NmeH1TyaQP+zrCsc9p5Y/LbKd76fGnz/bLW5ISEmmPww9YvTcQq8/JV2OstnstT8Er5Y7M8G+P0c+r3jqkcU/5h99k6ZBzj88bCIzFzjVP4enV8oyxN0//yH99nXg5D8qOpLLf0jtP5kqGJXUifQ/c9cS8kHP/D+/DpwzojQEQIEmwoanVwxA4lgXt9HgE0BSSZ2AJuIbQAMJih9jjiNA5q4l5INuK0AwTKYKRj0zQNv5fmq8/DpAaCJseHrtQkB/+zpwzoxKQM3MzMzMeFJAZmZmZmZqWEAAAAAAAFxeQM3MzMzMJmJAmpmZmZkfZUBmZmZmZhhoQDMzMzMzEWtAAAAAAAAKbkBmZmZmZoFwQM3MzMzM/XFAMzMzMzN6c0CamZmZmfZ0QAAAAAAAc3ZAZmZmZmbvd0DNzMzMzGt5QDMzMzMz6HpAmpmZmZlkfEAAAAAAAOF9QGZmZmZmXX9AZmZmZuZsgECamZmZGSuBQM3MzMxM6YFAAAAAAICngkAzMzMzs2WDQGZmZmbmI4RAmpmZmRnihEDNzMzMTKCFQAAAAACAXoZAMzMzM7Mch0BmZmZm5tqHQJqZmZkZmYhAzczMzExXiUAAAAAAgBWKQDMzMzOz04pAZmZmZuaRi0CamZmZGVCMQM3MzMxMDo1AAAAAAIDMjUAzMzMzs4qOQGZmZmbmSI9A\",\"dtype\":\"float64\",\"shape\":[75]}},\"selected\":{\"id\":\"24e6579f-cf65-4107-a96a-38d5235a6667\",\"type\":\"Selection\"},\"selection_policy\":{\"id\":\"9590a2ce-b794-4221-8df2-f85532e6b79b\",\"type\":\"UnionRenderers\"}},\"id\":\"b30a8bed-ff4c-4b35-ad89-a3277ce37938\",\"type\":\"ColumnDataSource\"},{\"attributes\":{},\"id\":\"b931c203-42cc-4d22-9040-cdbf1cf9bade\",\"type\":\"HelpTool\"},{\"attributes\":{\"callback\":null,\"data\":{\"x\":{\"__ndarray__\":\"R/KIaN7AVEClCeJMyPNGQOvRhpxr30JAptxzhxx4PkA7SssMElA4QK6Bp3CyUDNAsVXpjES9LkBFhUV0+5coQMHYwqbbySNA6f09nM3nH0CaSd/3eYoZQDmgiAOW8BNAPYqARh3eDEBkm4vCgvr+P9D+5tWhQfY/P8DwKRnSAkBq38kb17ILQDT7IWuSsxFAUr2Rjm0FFkAinq3s9XgbQGCHwtYcqSFAG64kT303J0C7dRDneyooQD9JYrbK8yRA9S3bneHhIUAIymSuUMMcQIkHLe6VEBdAAau3cITREkA6CiNvkQIPQJU39ki7IQlAaAvwok1UA0BXLQiS4+L7P0xzDpJ2hPI/NNuPGMbJ5z91mUVYxqfSPxqwUPSxZca/G11peifD3L8QzNj5t2jTvwzOozTL360/SPJ4VI1VzD9KJ0nXEIncP8yDdlvHt+4/Et49nYLW9z++2teD4Jn+P+568eH/bwFALf5D9lmAAkCiZAicVOkCQPPT4jNKxwJAOjp3wTzBAUBSQsKNGisBQG4OmjqJwQBAJ3sZoHFuAEA5Ar0Sdi0AQGy4rw5+9f8/7W4nSrC3/z8mPr8zj4T/P4UYRHCQS/8/embVKYcF/z+5YXG+LLP+P/qb8BVUgf4/KvafTtyO/j/avAK1Ppv+PwJV9VVm2P0/JFtYlU/n/D9sN+q2fiX6Pw44e41PNPc/Opt+Z/wN9T+x3vcSW1vzP9ofvWQJlvI/8sciQQBW8j80sfkQa17yPzg5qng2r/I/Oh14WJBh8z+VZjnpctj0P6CcrSuCqQBA\",\"dtype\":\"float64\",\"shape\":[75]},\"y\":{\"__ndarray__\":\"GhExyth1ND/Sv8nbtpRIP2vylNV0PVE/aTum7souWD/At0SJ8fVgPw3Iuahxymc/MSNhhJWvcD/bTfBN02d3P2zb5nxnaoA/CD5h5MAGhz8NmeH1TyaQP+zrCsc9p5Y/LbKd76fGnz/bLW5ISEmmPww9YvTcQq8/JV2OstnstT8Er5Y7M8G+P0c+r3jqkcU/5h99k6ZBzj88bCIzFzjVP4enV8oyxN0//yH99nXg5D8qOpLLf0jtP5kqGJXUifQ/c9cS8kHP/D+/DpwzojQEQIEmwoanVwxA4lgXt9HgE0BSSZ2AJuIbQAMJih9jjiNA5q4l5INuK0AwTKYKRj0zQNv5fmq8/DpAaCJseHrtQkB/+zpwzoxKQM3MzMzMeFJAZmZmZmZqWEAAAAAAAFxeQM3MzMzMJmJAmpmZmZkfZUBmZmZmZhhoQDMzMzMzEWtAAAAAAAAKbkBmZmZmZoFwQM3MzMzM/XFAMzMzMzN6c0CamZmZmfZ0QAAAAAAAc3ZAZmZmZmbvd0DNzMzMzGt5QDMzMzMz6HpAmpmZmZlkfEAAAAAAAOF9QGZmZmZmXX9AZmZmZuZsgECamZmZGSuBQM3MzMxM6YFAAAAAAICngkAzMzMzs2WDQGZmZmbmI4RAmpmZmRnihEDNzMzMTKCFQAAAAACAXoZAMzMzM7Mch0BmZmZm5tqHQJqZmZkZmYhAzczMzExXiUAAAAAAgBWKQDMzMzOz04pAZmZmZuaRi0CamZmZGVCMQM3MzMxMDo1AAAAAAIDMjUAzMzMzs4qOQGZmZmbmSI9A\",\"dtype\":\"float64\",\"shape\":[75]}},\"selected\":{\"id\":\"f16d90ae-c1f7-4b66-a147-ae3ea5d7e11f\",\"type\":\"Selection\"},\"selection_policy\":{\"id\":\"003cd054-42d4-476a-b3eb-5e456a48bfc2\",\"type\":\"UnionRenderers\"}},\"id\":\"6182474d-704d-4c98-b6c2-58228dd64e90\",\"type\":\"ColumnDataSource\"},{\"attributes\":{\"source\":{\"id\":\"6182474d-704d-4c98-b6c2-58228dd64e90\",\"type\":\"ColumnDataSource\"}},\"id\":\"e0244833-27fe-4add-a505-bf2027e88817\",\"type\":\"CDSView\"},{\"attributes\":{},\"id\":\"3a8ba3d7-3b8b-4273-b077-5eabe3d80817\",\"type\":\"BasicTickFormatter\"},{\"attributes\":{\"line_alpha\":0.1,\"line_color\":\"#1f77b4\",\"line_width\":1.5,\"x\":{\"field\":\"x\"},\"y\":{\"field\":\"y\"}},\"id\":\"abe878a4-1943-46ad-9c30-788309e2e216\",\"type\":\"Line\"},{\"attributes\":{},\"id\":\"6c044a79-292e-4d9f-8e3d-bfb8279a7423\",\"type\":\"SaveTool\"},{\"attributes\":{},\"id\":\"9590a2ce-b794-4221-8df2-f85532e6b79b\",\"type\":\"UnionRenderers\"},{\"attributes\":{\"fill_alpha\":{\"value\":0.7},\"fill_color\":{\"value\":\"#4daf4a\"},\"line_alpha\":{\"value\":0.7},\"line_color\":{\"value\":\"#4daf4a\"},\"x\":{\"field\":\"x\"},\"y\":{\"field\":\"y\"}},\"id\":\"bc4a2e52-2429-4152-bdb7-a05b29d5999b\",\"type\":\"Circle\"},{\"attributes\":{\"overlay\":{\"id\":\"a1d1781c-b95c-4a41-8c1f-7f10013fe25a\",\"type\":\"BoxAnnotation\"}},\"id\":\"7a3dc467-446d-4922-8192-b0c4d5c27473\",\"type\":\"BoxZoomTool\"},{\"attributes\":{},\"id\":\"f1ce5e0e-5001-4460-a30e-79a262eead08\",\"type\":\"Selection\"},{\"attributes\":{},\"id\":\"003cd054-42d4-476a-b3eb-5e456a48bfc2\",\"type\":\"UnionRenderers\"},{\"attributes\":{},\"id\":\"cd8b1527-8c7b-431b-8513-15314793dba7\",\"type\":\"WheelZoomTool\"},{\"attributes\":{\"source\":{\"id\":\"0e8211e1-958d-4e38-8ae1-604c117394ea\",\"type\":\"ColumnDataSource\"}},\"id\":\"2175a0d1-77e6-4fdf-9ecf-74d960974244\",\"type\":\"CDSView\"},{\"attributes\":{},\"id\":\"84423a56-8f2a-4f30-9f13-5ad109cef527\",\"type\":\"UnionRenderers\"},{\"attributes\":{},\"id\":\"a758e82e-5698-47cf-b9ae-430225e922e5\",\"type\":\"Selection\"},{\"attributes\":{\"line_color\":\"#4daf4a\",\"line_width\":1.5,\"x\":{\"field\":\"x\"},\"y\":{\"field\":\"y\"}},\"id\":\"ac5cecbc-f3b1-4ead-b066-28ab5716bb06\",\"type\":\"Line\"},{\"attributes\":{\"plot\":null,\"text\":\"\"},\"id\":\"52b265fa-370b-4878-95f3-6a2a12e45fa0\",\"type\":\"Title\"},{\"attributes\":{\"bottom_units\":\"screen\",\"fill_alpha\":{\"value\":0.5},\"fill_color\":{\"value\":\"lightgrey\"},\"left_units\":\"screen\",\"level\":\"overlay\",\"line_alpha\":{\"value\":1.0},\"line_color\":{\"value\":\"black\"},\"line_dash\":[4,4],\"line_width\":{\"value\":2},\"plot\":null,\"render_mode\":\"css\",\"right_units\":\"screen\",\"top_units\":\"screen\"},\"id\":\"a1d1781c-b95c-4a41-8c1f-7f10013fe25a\",\"type\":\"BoxAnnotation\"},{\"attributes\":{},\"id\":\"24e6579f-cf65-4107-a96a-38d5235a6667\",\"type\":\"Selection\"},{\"attributes\":{\"ticker\":null},\"id\":\"bae30178-e9f1-4eee-97ca-9b3b84e1ba9f\",\"type\":\"LogTickFormatter\"},{\"attributes\":{},\"id\":\"af96ce36-2ad4-4ac7-b34f-bbf400ba3674\",\"type\":\"ResetTool\"},{\"attributes\":{\"line_color\":\"#4daf4a\",\"line_width\":1.5,\"x\":{\"field\":\"x\"},\"y\":{\"field\":\"y\"}},\"id\":\"1d8038af-0520-41cb-a160-7c11a2b81a90\",\"type\":\"Line\"},{\"attributes\":{},\"id\":\"42bbc4c1-5d64-447b-9bdc-fcbb0cc8b3d2\",\"type\":\"BasicTickFormatter\"},{\"attributes\":{},\"id\":\"cc765d5e-6ead-4cbd-83f7-5a14174d7f9b\",\"type\":\"PanTool\"},{\"attributes\":{\"data_source\":{\"id\":\"80f1fe9b-e2d7-4234-8f95-0c58a1e37c4d\",\"type\":\"ColumnDataSource\"},\"glyph\":{\"id\":\"ce0726e8-d573-4e8c-884b-a82b65aa2748\",\"type\":\"Circle\"},\"hover_glyph\":null,\"muted_glyph\":null,\"nonselection_glyph\":{\"id\":\"5e650711-96d1-4566-aebc-164d076bf408\",\"type\":\"Circle\"},\"selection_glyph\":null,\"view\":{\"id\":\"f99e5fc5-983d-4a3b-83d9-1e112b6e8862\",\"type\":\"CDSView\"}},\"id\":\"e930d544-6a24-49a9-92ac-5effdf28715a\",\"type\":\"GlyphRenderer\"},{\"attributes\":{\"fill_alpha\":{\"value\":0.7},\"fill_color\":{\"value\":\"#4daf4a\"},\"line_alpha\":{\"value\":0.7},\"line_color\":{\"value\":\"#4daf4a\"},\"x\":{\"field\":\"x\"},\"y\":{\"field\":\"y\"}},\"id\":\"ce0726e8-d573-4e8c-884b-a82b65aa2748\",\"type\":\"Circle\"},{\"attributes\":{\"active_drag\":\"auto\",\"active_inspect\":\"auto\",\"active_scroll\":\"auto\",\"active_tap\":\"auto\",\"tools\":[{\"id\":\"cc765d5e-6ead-4cbd-83f7-5a14174d7f9b\",\"type\":\"PanTool\"},{\"id\":\"e76fe853-fb68-4981-9fcc-91ec8b483c53\",\"type\":\"WheelZoomTool\"},{\"id\":\"04739fd4-02ba-427c-9fb9-2bac12bf98b2\",\"type\":\"BoxZoomTool\"},{\"id\":\"860ebd36-9e90-40e6-95d2-1585b61b01b4\",\"type\":\"SaveTool\"},{\"id\":\"b2557aa7-00b5-4501-95d0-61af250ce718\",\"type\":\"ResetTool\"},{\"id\":\"5d0042ae-595b-40b6-9617-57c484bed51d\",\"type\":\"HelpTool\"}]},\"id\":\"5a5d1ff5-97a2-4120-87c1-56c87b231b41\",\"type\":\"Toolbar\"},{\"attributes\":{\"source\":{\"id\":\"80f1fe9b-e2d7-4234-8f95-0c58a1e37c4d\",\"type\":\"ColumnDataSource\"}},\"id\":\"f99e5fc5-983d-4a3b-83d9-1e112b6e8862\",\"type\":\"CDSView\"},{\"attributes\":{\"dimension\":1,\"plot\":{\"id\":\"649582a6-26aa-40a4-9c84-3ac11396ab7e\",\"subtype\":\"Figure\",\"type\":\"Plot\"},\"ticker\":{\"id\":\"2146f3df-a838-4543-b329-248e91e55d69\",\"type\":\"LogTicker\"}},\"id\":\"6cc67305-a685-4f51-8b6a-b49d043d0e19\",\"type\":\"Grid\"},{\"attributes\":{\"overlay\":{\"id\":\"a37fdb8f-d8da-4b0c-aeaa-736ea5f24788\",\"type\":\"BoxAnnotation\"}},\"id\":\"04739fd4-02ba-427c-9fb9-2bac12bf98b2\",\"type\":\"BoxZoomTool\"},{\"attributes\":{\"plot\":{\"id\":\"649582a6-26aa-40a4-9c84-3ac11396ab7e\",\"subtype\":\"Figure\",\"type\":\"Plot\"},\"ticker\":{\"id\":\"4a60f74c-e6dd-4292-b4fc-056cc7036ee5\",\"type\":\"BasicTicker\"}},\"id\":\"0e683929-74ce-4922-b310-b4e15f8471e0\",\"type\":\"Grid\"},{\"attributes\":{\"callback\":null,\"data\":{\"x\":{\"__ndarray__\":\"R/KIaN7AVEClCeJMyPNGQOvRhpxr30JAptxzhxx4PkA7SssMElA4QK6Bp3CyUDNAsVXpjES9LkBFhUV0+5coQMHYwqbbySNA6f09nM3nH0CaSd/3eYoZQDmgiAOW8BNAPYqARh3eDEBkm4vCgvr+P9D+5tWhQfY/P8DwKRnSAkBq38kb17ILQDT7IWuSsxFAUr2Rjm0FFkAinq3s9XgbQGCHwtYcqSFAG64kT303J0C7dRDneyooQD9JYrbK8yRA9S3bneHhIUAIymSuUMMcQIkHLe6VEBdAAau3cITREkA6CiNvkQIPQJU39ki7IQlAaAvwok1UA0BXLQiS4+L7P0xzDpJ2hPI/NNuPGMbJ5z91mUVYxqfSPxqwUPSxZca/G11peifD3L8QzNj5t2jTvwzOozTL360/SPJ4VI1VzD9KJ0nXEIncP8yDdlvHt+4/Et49nYLW9z++2teD4Jn+P+568eH/bwFALf5D9lmAAkCiZAicVOkCQPPT4jNKxwJAOjp3wTzBAUBSQsKNGisBQG4OmjqJwQBAJ3sZoHFuAEA5Ar0Sdi0AQGy4rw5+9f8/7W4nSrC3/z8mPr8zj4T/P4UYRHCQS/8/embVKYcF/z+5YXG+LLP+P/qb8BVUgf4/KvafTtyO/j/avAK1Ppv+PwJV9VVm2P0/JFtYlU/n/D9sN+q2fiX6Pw44e41PNPc/Opt+Z/wN9T+x3vcSW1vzP9ofvWQJlvI/8sciQQBW8j80sfkQa17yPzg5qng2r/I/Oh14WJBh8z+VZjnpctj0P6CcrSuCqQBA\",\"dtype\":\"float64\",\"shape\":[75]},\"y\":{\"__ndarray__\":\"GhExyth1ND/Sv8nbtpRIP2vylNV0PVE/aTum7souWD/At0SJ8fVgPw3Iuahxymc/MSNhhJWvcD/bTfBN02d3P2zb5nxnaoA/CD5h5MAGhz8NmeH1TyaQP+zrCsc9p5Y/LbKd76fGnz/bLW5ISEmmPww9YvTcQq8/JV2OstnstT8Er5Y7M8G+P0c+r3jqkcU/5h99k6ZBzj88bCIzFzjVP4enV8oyxN0//yH99nXg5D8qOpLLf0jtP5kqGJXUifQ/c9cS8kHP/D+/DpwzojQEQIEmwoanVwxA4lgXt9HgE0BSSZ2AJuIbQAMJih9jjiNA5q4l5INuK0AwTKYKRj0zQNv5fmq8/DpAaCJseHrtQkB/+zpwzoxKQM3MzMzMeFJAZmZmZmZqWEAAAAAAAFxeQM3MzMzMJmJAmpmZmZkfZUBmZmZmZhhoQDMzMzMzEWtAAAAAAAAKbkBmZmZmZoFwQM3MzMzM/XFAMzMzMzN6c0CamZmZmfZ0QAAAAAAAc3ZAZmZmZmbvd0DNzMzMzGt5QDMzMzMz6HpAmpmZmZlkfEAAAAAAAOF9QGZmZmZmXX9AZmZmZuZsgECamZmZGSuBQM3MzMxM6YFAAAAAAICngkAzMzMzs2WDQGZmZmbmI4RAmpmZmRnihEDNzMzMTKCFQAAAAACAXoZAMzMzM7Mch0BmZmZm5tqHQJqZmZkZmYhAzczMzExXiUAAAAAAgBWKQDMzMzOz04pAZmZmZuaRi0CamZmZGVCMQM3MzMxMDo1AAAAAAIDMjUAzMzMzs4qOQGZmZmbmSI9A\",\"dtype\":\"float64\",\"shape\":[75]}},\"selected\":{\"id\":\"4dc30859-ecb9-43c7-a686-d87dc562543f\",\"type\":\"Selection\"},\"selection_policy\":{\"id\":\"1bcc69d1-501e-4ac3-a0e8-c4e9e88fd786\",\"type\":\"UnionRenderers\"}},\"id\":\"80f1fe9b-e2d7-4234-8f95-0c58a1e37c4d\",\"type\":\"ColumnDataSource\"},{\"attributes\":{},\"id\":\"4496b46f-2f16-4d3d-a853-ae490911c223\",\"type\":\"LogScale\"},{\"attributes\":{\"above\":[{\"id\":\"3c1b951f-1309-49c8-b2ba-5a41d044f23a\",\"type\":\"Legend\"}],\"below\":[{\"id\":\"a06e608e-33de-45b2-91ee-3eb15a65a44b\",\"type\":\"LinearAxis\"}],\"left\":[{\"id\":\"9c6e2018-c424-4eff-9da6-7320c9a8566c\",\"type\":\"LinearAxis\"}],\"plot_width\":300,\"renderers\":[{\"id\":\"a06e608e-33de-45b2-91ee-3eb15a65a44b\",\"type\":\"LinearAxis\"},{\"id\":\"00d97b2a-b2d3-422e-b0c3-da60084e85a4\",\"type\":\"Grid\"},{\"id\":\"9c6e2018-c424-4eff-9da6-7320c9a8566c\",\"type\":\"LinearAxis\"},{\"id\":\"605e788f-2fe3-47ba-9e98-d35805a5f295\",\"type\":\"Grid\"},{\"id\":\"8f246224-4368-42d3-b515-6359cfbd8ebe\",\"type\":\"BoxAnnotation\"},{\"id\":\"7bfd83e4-b72f-460d-8fb8-964e7124321e\",\"type\":\"GlyphRenderer\"},{\"id\":\"e930d544-6a24-49a9-92ac-5effdf28715a\",\"type\":\"GlyphRenderer\"},{\"id\":\"b482a414-cdce-4f25-ac7e-cc4d214b5934\",\"type\":\"GlyphRenderer\"},{\"id\":\"3c1b951f-1309-49c8-b2ba-5a41d044f23a\",\"type\":\"Legend\"}],\"title\":{\"id\":\"a81ed0fc-cdb8-43e1-be4c-54d3bbf8ee57\",\"type\":\"Title\"},\"toolbar\":{\"id\":\"7f435ebf-808e-46c1-9720-f3a902f6134f\",\"type\":\"Toolbar\"},\"toolbar_location\":null,\"x_range\":{\"id\":\"12f2fbaa-972d-4712-8767-7f32b7d27c9e\",\"type\":\"Range1d\"},\"x_scale\":{\"id\":\"f3b2d5aa-47c0-43ad-a52b-f56e381cfa1f\",\"type\":\"LinearScale\"},\"y_range\":{\"id\":\"f3ddf649-9af6-40fc-9022-322f225692b4\",\"type\":\"Range1d\"},\"y_scale\":{\"id\":\"1b8d7883-d05a-46c6-80c9-28d82cf9bcbe\",\"type\":\"LinearScale\"}},\"id\":\"f0abb517-713d-4868-8bf6-d1823b646d6f\",\"subtype\":\"Figure\",\"type\":\"Plot\"},{\"attributes\":{\"callback\":null,\"data\":{\"x\":{\"__ndarray__\":\"R/KIaN7AVEClCeJMyPNGQOvRhpxr30JAptxzhxx4PkA7SssMElA4QK6Bp3CyUDNAsVXpjES9LkBFhUV0+5coQMHYwqbbySNA6f09nM3nH0CaSd/3eYoZQDmgiAOW8BNAPYqARh3eDEBkm4vCgvr+P9D+5tWhQfY/P8DwKRnSAkBq38kb17ILQDT7IWuSsxFAUr2Rjm0FFkAinq3s9XgbQGCHwtYcqSFAG64kT303J0C7dRDneyooQD9JYrbK8yRA9S3bneHhIUAIymSuUMMcQIkHLe6VEBdAAau3cITREkA6CiNvkQIPQJU39ki7IQlAaAvwok1UA0BXLQiS4+L7P0xzDpJ2hPI/NNuPGMbJ5z91mUVYxqfSPxqwUPSxZca/G11peifD3L8QzNj5t2jTvwzOozTL360/SPJ4VI1VzD9KJ0nXEIncP8yDdlvHt+4/Et49nYLW9z++2teD4Jn+P+568eH/bwFALf5D9lmAAkCiZAicVOkCQPPT4jNKxwJAOjp3wTzBAUBSQsKNGisBQG4OmjqJwQBAJ3sZoHFuAEA5Ar0Sdi0AQGy4rw5+9f8/7W4nSrC3/z8mPr8zj4T/P4UYRHCQS/8/embVKYcF/z+5YXG+LLP+P/qb8BVUgf4/KvafTtyO/j/avAK1Ppv+PwJV9VVm2P0/JFtYlU/n/D9sN+q2fiX6Pw44e41PNPc/Opt+Z/wN9T+x3vcSW1vzP9ofvWQJlvI/8sciQQBW8j80sfkQa17yPzg5qng2r/I/Oh14WJBh8z+VZjnpctj0P6CcrSuCqQBA\",\"dtype\":\"float64\",\"shape\":[75]},\"y\":{\"__ndarray__\":\"GhExyth1ND/Sv8nbtpRIP2vylNV0PVE/aTum7souWD/At0SJ8fVgPw3Iuahxymc/MSNhhJWvcD/bTfBN02d3P2zb5nxnaoA/CD5h5MAGhz8NmeH1TyaQP+zrCsc9p5Y/LbKd76fGnz/bLW5ISEmmPww9YvTcQq8/JV2OstnstT8Er5Y7M8G+P0c+r3jqkcU/5h99k6ZBzj88bCIzFzjVP4enV8oyxN0//yH99nXg5D8qOpLLf0jtP5kqGJXUifQ/c9cS8kHP/D+/DpwzojQEQIEmwoanVwxA4lgXt9HgE0BSSZ2AJuIbQAMJih9jjiNA5q4l5INuK0AwTKYKRj0zQNv5fmq8/DpAaCJseHrtQkB/+zpwzoxKQM3MzMzMeFJAZmZmZmZqWEAAAAAAAFxeQM3MzMzMJmJAmpmZmZkfZUBmZmZmZhhoQDMzMzMzEWtAAAAAAAAKbkBmZmZmZoFwQM3MzMzM/XFAMzMzMzN6c0CamZmZmfZ0QAAAAAAAc3ZAZmZmZmbvd0DNzMzMzGt5QDMzMzMz6HpAmpmZmZlkfEAAAAAAAOF9QGZmZmZmXX9AZmZmZuZsgECamZmZGSuBQM3MzMxM6YFAAAAAAICngkAzMzMzs2WDQGZmZmbmI4RAmpmZmRnihEDNzMzMTKCFQAAAAACAXoZAMzMzM7Mch0BmZmZm5tqHQJqZmZkZmYhAzczMzExXiUAAAAAAgBWKQDMzMzOz04pAZmZmZuaRi0CamZmZGVCMQM3MzMxMDo1AAAAAAIDMjUAzMzMzs4qOQGZmZmbmSI9A\",\"dtype\":\"float64\",\"shape\":[75]}},\"selected\":{\"id\":\"a48b7444-00ba-4ba2-b55e-43e749a84662\",\"type\":\"Selection\"},\"selection_policy\":{\"id\":\"3e1a0ac3-45a6-42f6-9601-340fb767b818\",\"type\":\"UnionRenderers\"}},\"id\":\"39103431-c47a-44a4-93da-f1cb7cd09e04\",\"type\":\"ColumnDataSource\"},{\"attributes\":{},\"id\":\"23b931f4-f2ba-4877-9e32-83056a84fcba\",\"type\":\"LinearScale\"},{\"attributes\":{\"line_alpha\":0.1,\"line_color\":\"#1f77b4\",\"line_width\":1.5,\"x\":{\"field\":\"x\"},\"y\":{\"field\":\"y\"}},\"id\":\"d6ce254b-0fe1-4988-9c61-59bf896ae545\",\"type\":\"Line\"},{\"attributes\":{\"bottom_units\":\"screen\",\"fill_alpha\":{\"value\":0.5},\"fill_color\":{\"value\":\"lightgrey\"},\"left_units\":\"screen\",\"level\":\"overlay\",\"line_alpha\":{\"value\":1.0},\"line_color\":{\"value\":\"black\"},\"line_dash\":[4,4],\"line_width\":{\"value\":2},\"plot\":null,\"render_mode\":\"css\",\"right_units\":\"screen\",\"top_units\":\"screen\"},\"id\":\"a37fdb8f-d8da-4b0c-aeaa-736ea5f24788\",\"type\":\"BoxAnnotation\"},{\"attributes\":{\"fill_alpha\":{\"value\":0.1},\"fill_color\":{\"value\":\"#1f77b4\"},\"line_alpha\":{\"value\":0.1},\"line_color\":{\"value\":\"#1f77b4\"},\"x\":{\"field\":\"x\"},\"y\":{\"field\":\"y\"}},\"id\":\"5e650711-96d1-4566-aebc-164d076bf408\",\"type\":\"Circle\"},{\"attributes\":{},\"id\":\"4a60f74c-e6dd-4292-b4fc-056cc7036ee5\",\"type\":\"BasicTicker\"},{\"attributes\":{},\"id\":\"b2557aa7-00b5-4501-95d0-61af250ce718\",\"type\":\"ResetTool\"},{\"attributes\":{\"num_minor_ticks\":10},\"id\":\"2146f3df-a838-4543-b329-248e91e55d69\",\"type\":\"LogTicker\"},{\"attributes\":{\"axis_label\":\"cooling rate [K/day]\",\"formatter\":{\"id\":\"07990c80-b3ac-4935-8c79-664a23a1ee9a\",\"type\":\"BasicTickFormatter\"},\"plot\":{\"id\":\"649582a6-26aa-40a4-9c84-3ac11396ab7e\",\"subtype\":\"Figure\",\"type\":\"Plot\"},\"ticker\":{\"id\":\"4a60f74c-e6dd-4292-b4fc-056cc7036ee5\",\"type\":\"BasicTicker\"}},\"id\":\"bb40309c-4f5c-43e8-ad3f-d668df681a4d\",\"type\":\"LinearAxis\"},{\"attributes\":{\"children\":[{\"id\":\"8fe5dfd2-3044-4ba1-bc07-2c17b30f5945\",\"type\":\"Row\"}]},\"id\":\"8c13892e-60a5-4503-ae58-999dec449e41\",\"type\":\"Column\"},{\"attributes\":{\"callback\":null,\"end\":0.01,\"start\":1020},\"id\":\"20dc89a5-c611-4b3c-994d-9a42f039cd3b\",\"type\":\"Range1d\"},{\"attributes\":{},\"id\":\"860ebd36-9e90-40e6-95d2-1585b61b01b4\",\"type\":\"SaveTool\"},{\"attributes\":{\"callback\":null,\"data\":{\"x\":{\"__ndarray__\":\"mHMGBKH8Q8CSBB3R0IIgwKA0Jt5nsALAln5ME9gl/D8THf05OzEOQC8/Dhex0A5A4sNU4bBVBECEfikGIdbmP0nVbuiBDei/JliDJ/4k9b/t3PIoBDjxv+v4PZK9kN6/NGjXkO82tz+yEGaXb7jdP5WAnj7nXuE/FtYfg2H51j/At+0eCf6yP67NYrxYIdG/9Z9T5BkJ4b9m1Nx84hPhv9oeJNu9BtO/4mKbywaTt7/ONs8HPpyTvwKc0Kdrkcm/YtmsWZHq1b8iz9Qccmu0v0rZGEeqddY/UZcuvrq+1z9im7VvjwLBP26kaEJfba0/K+9XSiWG0j9nrIt/xMLXP+Zc49HT2cg/7FhuMmEpbj9y86baooqWP9ijuhJuBrE/GGX//OtOjr8G/TvNG5ywv7aumchBs6q/w7YXW4AVqL8g1c/ftxyrv+tz3LT8OKy/g8oTAdYDsL8M1yJxpfGkv3EjUHAUo62/UcApi+e6vb/1UHVZnniyv159xS5b+Kq/NSWziI1js7+Swl+gXyyzv6otoJI4H6i/IovqsmYBlr+aFEKntwOEv+r6BytzDoW/yvfEgAUlkb8g821EZtyQv5DjPYuFqEk/JFI3oyjIoD/Wi5TfAkawP8Jo7Rs3M7Q/IiLFmKWxsj8aOLM/S7WrP1KeqCg7VqI/riZIMsyFoj/k/fPNoUCsP/UQfWs827Y/2OZ4HPX9wD8HLnZPYwHFPwHWfLdmu8c/6b8tLeGPyz/kkDZ78X3QP+CxG9bNvtQ/eG7baNky3T8o3cOSrCvoP1IPQz73aBtA\",\"dtype\":\"float64\",\"shape\":[75]},\"y\":{\"__ndarray__\":\"GhExyth1ND/Sv8nbtpRIP2vylNV0PVE/aTum7souWD/At0SJ8fVgPw3Iuahxymc/MSNhhJWvcD/bTfBN02d3P2zb5nxnaoA/CD5h5MAGhz8NmeH1TyaQP+zrCsc9p5Y/LbKd76fGnz/bLW5ISEmmPww9YvTcQq8/JV2OstnstT8Er5Y7M8G+P0c+r3jqkcU/5h99k6ZBzj88bCIzFzjVP4enV8oyxN0//yH99nXg5D8qOpLLf0jtP5kqGJXUifQ/c9cS8kHP/D+/DpwzojQEQIEmwoanVwxA4lgXt9HgE0BSSZ2AJuIbQAMJih9jjiNA5q4l5INuK0AwTKYKRj0zQNv5fmq8/DpAaCJseHrtQkB/+zpwzoxKQM3MzMzMeFJAZmZmZmZqWEAAAAAAAFxeQM3MzMzMJmJAmpmZmZkfZUBmZmZmZhhoQDMzMzMzEWtAAAAAAAAKbkBmZmZmZoFwQM3MzMzM/XFAMzMzMzN6c0CamZmZmfZ0QAAAAAAAc3ZAZmZmZmbvd0DNzMzMzGt5QDMzMzMz6HpAmpmZmZlkfEAAAAAAAOF9QGZmZmZmXX9AZmZmZuZsgECamZmZGSuBQM3MzMxM6YFAAAAAAICngkAzMzMzs2WDQGZmZmbmI4RAmpmZmRnihEDNzMzMTKCFQAAAAACAXoZAMzMzM7Mch0BmZmZm5tqHQJqZmZkZmYhAzczMzExXiUAAAAAAgBWKQDMzMzOz04pAZmZmZuaRi0CamZmZGVCMQM3MzMxMDo1AAAAAAIDMjUAzMzMzs4qOQGZmZmbmSI9A\",\"dtype\":\"float64\",\"shape\":[75]}},\"selected\":{\"id\":\"f1ce5e0e-5001-4460-a30e-79a262eead08\",\"type\":\"Selection\"},\"selection_policy\":{\"id\":\"84423a56-8f2a-4f30-9f13-5ad109cef527\",\"type\":\"UnionRenderers\"}},\"id\":\"764304e7-7bf8-4b01-9e1b-b8092f62402f\",\"type\":\"ColumnDataSource\"},{\"attributes\":{\"items\":[{\"id\":\"131461e0-2445-4e98-a46e-5e6d22eab3a1\",\"type\":\"LegendItem\"}],\"label_text_font_size\":{\"value\":\"8pt\"},\"location\":\"top_center\",\"orientation\":\"horizontal\",\"plot\":{\"id\":\"649582a6-26aa-40a4-9c84-3ac11396ab7e\",\"subtype\":\"Figure\",\"type\":\"Plot\"}},\"id\":\"471c5ec7-de13-4607-9a53-335893b59a73\",\"type\":\"Legend\"},{\"attributes\":{\"above\":[{\"id\":\"471c5ec7-de13-4607-9a53-335893b59a73\",\"type\":\"Legend\"}],\"below\":[{\"id\":\"bb40309c-4f5c-43e8-ad3f-d668df681a4d\",\"type\":\"LinearAxis\"}],\"left\":[{\"id\":\"4561d405-3853-4f3d-b177-2a60949488d9\",\"type\":\"LogAxis\"}],\"plot_width\":300,\"renderers\":[{\"id\":\"bb40309c-4f5c-43e8-ad3f-d668df681a4d\",\"type\":\"LinearAxis\"},{\"id\":\"0e683929-74ce-4922-b310-b4e15f8471e0\",\"type\":\"Grid\"},{\"id\":\"4561d405-3853-4f3d-b177-2a60949488d9\",\"type\":\"LogAxis\"},{\"id\":\"6cc67305-a685-4f51-8b6a-b49d043d0e19\",\"type\":\"Grid\"},{\"id\":\"a37fdb8f-d8da-4b0c-aeaa-736ea5f24788\",\"type\":\"BoxAnnotation\"},{\"id\":\"44b951ae-f0ac-4db2-bcca-4db7e8c64d23\",\"type\":\"GlyphRenderer\"},{\"id\":\"5db6b31e-4fd8-466e-958f-38e0536be550\",\"type\":\"GlyphRenderer\"},{\"id\":\"471c5ec7-de13-4607-9a53-335893b59a73\",\"type\":\"Legend\"}],\"title\":{\"id\":\"52b265fa-370b-4878-95f3-6a2a12e45fa0\",\"type\":\"Title\"},\"toolbar\":{\"id\":\"5a5d1ff5-97a2-4120-87c1-56c87b231b41\",\"type\":\"Toolbar\"},\"toolbar_location\":null,\"x_range\":{\"id\":\"26973472-27da-46f1-879f-00a7c77ebeb0\",\"type\":\"Range1d\"},\"x_scale\":{\"id\":\"23b931f4-f2ba-4877-9e32-83056a84fcba\",\"type\":\"LinearScale\"},\"y_range\":{\"id\":\"1ce07497-6257-4f6b-beec-b5fb011e46bc\",\"type\":\"Range1d\"},\"y_scale\":{\"id\":\"4496b46f-2f16-4d3d-a853-ae490911c223\",\"type\":\"LogScale\"}},\"id\":\"649582a6-26aa-40a4-9c84-3ac11396ab7e\",\"subtype\":\"Figure\",\"type\":\"Plot\"},{\"attributes\":{\"axis_label\":\"pressure [mb]\",\"formatter\":{\"id\":\"bae30178-e9f1-4eee-97ca-9b3b84e1ba9f\",\"type\":\"LogTickFormatter\"},\"plot\":{\"id\":\"649582a6-26aa-40a4-9c84-3ac11396ab7e\",\"subtype\":\"Figure\",\"type\":\"Plot\"},\"ticker\":{\"id\":\"2146f3df-a838-4543-b329-248e91e55d69\",\"type\":\"LogTicker\"}},\"id\":\"4561d405-3853-4f3d-b177-2a60949488d9\",\"type\":\"LogAxis\"},{\"attributes\":{\"source\":{\"id\":\"bcde79f6-822e-442e-aeef-f619c302b5ab\",\"type\":\"ColumnDataSource\"}},\"id\":\"6dcffa14-80d0-46cf-ba0f-324acb147961\",\"type\":\"CDSView\"},{\"attributes\":{\"callback\":null,\"end\":0.01,\"start\":1020},\"id\":\"1ce07497-6257-4f6b-beec-b5fb011e46bc\",\"type\":\"Range1d\"},{\"attributes\":{},\"id\":\"f16d90ae-c1f7-4b66-a147-ae3ea5d7e11f\",\"type\":\"Selection\"},{\"attributes\":{},\"id\":\"5d0042ae-595b-40b6-9617-57c484bed51d\",\"type\":\"HelpTool\"},{\"attributes\":{\"items\":[{\"id\":\"79e5dc97-37cb-4eaa-9b23-41ba00fbd047\",\"type\":\"LegendItem\"},{\"id\":\"30acf749-bcf3-4c6a-8622-b87bce04e163\",\"type\":\"LegendItem\"}],\"label_text_font_size\":{\"value\":\"8pt\"},\"location\":\"top_center\",\"orientation\":\"horizontal\",\"plot\":{\"id\":\"c8de9187-65f9-4d2d-a83b-bfbc7e3948e8\",\"subtype\":\"Figure\",\"type\":\"Plot\"}},\"id\":\"bcd65c99-e3a0-4c91-bad4-8105fc8a0b9d\",\"type\":\"Legend\"},{\"attributes\":{\"label\":{\"value\":\"CLIRAD (single-run) - CRD\"},\"renderers\":[{\"id\":\"44b951ae-f0ac-4db2-bcca-4db7e8c64d23\",\"type\":\"GlyphRenderer\"},{\"id\":\"5db6b31e-4fd8-466e-958f-38e0536be550\",\"type\":\"GlyphRenderer\"}]},\"id\":\"131461e0-2445-4e98-a46e-5e6d22eab3a1\",\"type\":\"LegendItem\"},{\"attributes\":{},\"id\":\"3aa51fe2-292b-4af8-9c14-c1c504689c99\",\"type\":\"LogScale\"},{\"attributes\":{\"label\":{\"value\":\"CLIRAD (single-run)\"},\"renderers\":[{\"id\":\"7837676c-e65e-4188-9533-0401a482992a\",\"type\":\"GlyphRenderer\"}]},\"id\":\"79e5dc97-37cb-4eaa-9b23-41ba00fbd047\",\"type\":\"LegendItem\"},{\"attributes\":{\"toolbar\":{\"id\":\"75e7bc23-db31-4c3c-9b66-c5a28b75046a\",\"type\":\"ProxyToolbar\"},\"toolbar_location\":\"above\"},\"id\":\"a76ede2c-594e-4cd8-8188-1b49daf68308\",\"type\":\"ToolbarBox\"},{\"attributes\":{\"label\":{\"value\":\"CLIRAD (single-run)\"},\"renderers\":[{\"id\":\"7bfd83e4-b72f-460d-8fb8-964e7124321e\",\"type\":\"GlyphRenderer\"}]},\"id\":\"b00491a9-a0bb-48bb-bc72-866cad99fcf9\",\"type\":\"LegendItem\"},{\"attributes\":{},\"id\":\"3e1a0ac3-45a6-42f6-9601-340fb767b818\",\"type\":\"UnionRenderers\"},{\"attributes\":{\"tools\":[{\"id\":\"49825b6c-1e9d-46b2-89e7-3562d6a73bc2\",\"type\":\"PanTool\"},{\"id\":\"7334e81a-1a4f-493e-a266-c72065f2a9f1\",\"type\":\"WheelZoomTool\"},{\"id\":\"6bee7917-4b18-4120-ae65-428820a7a7ec\",\"type\":\"BoxZoomTool\"},{\"id\":\"319612af-e438-499d-90df-66d428ca9d40\",\"type\":\"SaveTool\"},{\"id\":\"235b60d4-f1ce-4c01-8ca8-1a2c94d3e857\",\"type\":\"ResetTool\"},{\"id\":\"25f7331b-8354-4223-b9f4-9961286412ba\",\"type\":\"HelpTool\"},{\"id\":\"4a76d573-b2cb-43ce-a3ef-384440779620\",\"type\":\"PanTool\"},{\"id\":\"cd8b1527-8c7b-431b-8513-15314793dba7\",\"type\":\"WheelZoomTool\"},{\"id\":\"7a3dc467-446d-4922-8192-b0c4d5c27473\",\"type\":\"BoxZoomTool\"},{\"id\":\"6c044a79-292e-4d9f-8e3d-bfb8279a7423\",\"type\":\"SaveTool\"},{\"id\":\"af96ce36-2ad4-4ac7-b34f-bbf400ba3674\",\"type\":\"ResetTool\"},{\"id\":\"b931c203-42cc-4d22-9040-cdbf1cf9bade\",\"type\":\"HelpTool\"},{\"id\":\"cc765d5e-6ead-4cbd-83f7-5a14174d7f9b\",\"type\":\"PanTool\"},{\"id\":\"e76fe853-fb68-4981-9fcc-91ec8b483c53\",\"type\":\"WheelZoomTool\"},{\"id\":\"04739fd4-02ba-427c-9fb9-2bac12bf98b2\",\"type\":\"BoxZoomTool\"},{\"id\":\"860ebd36-9e90-40e6-95d2-1585b61b01b4\",\"type\":\"SaveTool\"},{\"id\":\"b2557aa7-00b5-4501-95d0-61af250ce718\",\"type\":\"ResetTool\"},{\"id\":\"5d0042ae-595b-40b6-9617-57c484bed51d\",\"type\":\"HelpTool\"}]},\"id\":\"75e7bc23-db31-4c3c-9b66-c5a28b75046a\",\"type\":\"ProxyToolbar\"},{\"attributes\":{\"above\":[{\"id\":\"bcd65c99-e3a0-4c91-bad4-8105fc8a0b9d\",\"type\":\"Legend\"}],\"below\":[{\"id\":\"5e6642bf-c820-480d-9e4c-04ba739bc33d\",\"type\":\"LinearAxis\"}],\"left\":[{\"id\":\"8eb2320b-fec4-41a5-b24a-bf3ba362574d\",\"type\":\"LogAxis\"}],\"plot_width\":300,\"renderers\":[{\"id\":\"5e6642bf-c820-480d-9e4c-04ba739bc33d\",\"type\":\"LinearAxis\"},{\"id\":\"c0ba9c5e-cb5a-49a6-8d73-4cd9f5ff57c7\",\"type\":\"Grid\"},{\"id\":\"8eb2320b-fec4-41a5-b24a-bf3ba362574d\",\"type\":\"LogAxis\"},{\"id\":\"199c7523-270b-495d-955f-83b54e7f95a4\",\"type\":\"Grid\"},{\"id\":\"a1d1781c-b95c-4a41-8c1f-7f10013fe25a\",\"type\":\"BoxAnnotation\"},{\"id\":\"7837676c-e65e-4188-9533-0401a482992a\",\"type\":\"GlyphRenderer\"},{\"id\":\"0bb49693-61b8-423c-b337-4f06f9a3c81b\",\"type\":\"GlyphRenderer\"},{\"id\":\"48995e16-614f-430d-a100-a296b2e588c7\",\"type\":\"GlyphRenderer\"},{\"id\":\"bcd65c99-e3a0-4c91-bad4-8105fc8a0b9d\",\"type\":\"Legend\"}],\"title\":{\"id\":\"d0f69ad6-77d3-4b58-bcec-23b365808c7c\",\"type\":\"Title\"},\"toolbar\":{\"id\":\"d4b3f443-e8af-478d-bef8-579e049ebe4c\",\"type\":\"Toolbar\"},\"toolbar_location\":null,\"x_range\":{\"id\":\"974f019e-d9ac-439e-ad4b-5747257a4531\",\"type\":\"Range1d\"},\"x_scale\":{\"id\":\"3e820a5a-7b72-4687-a9e6-bca68177abb1\",\"type\":\"LinearScale\"},\"y_range\":{\"id\":\"20dc89a5-c611-4b3c-994d-9a42f039cd3b\",\"type\":\"Range1d\"},\"y_scale\":{\"id\":\"3aa51fe2-292b-4af8-9c14-c1c504689c99\",\"type\":\"LogScale\"}},\"id\":\"c8de9187-65f9-4d2d-a83b-bfbc7e3948e8\",\"subtype\":\"Figure\",\"type\":\"Plot\"},{\"attributes\":{\"children\":[{\"id\":\"a76ede2c-594e-4cd8-8188-1b49daf68308\",\"type\":\"ToolbarBox\"},{\"id\":\"8c13892e-60a5-4503-ae58-999dec449e41\",\"type\":\"Column\"}]},\"id\":\"c935147a-208f-4ccb-a687-c76f9f57071b\",\"type\":\"Column\"},{\"attributes\":{},\"id\":\"0daa8441-b9f9-42b1-aa3e-f7ecf658ed93\",\"type\":\"UnionRenderers\"},{\"attributes\":{},\"id\":\"f8e910c7-6419-4339-b1fc-507da7dbc895\",\"type\":\"Selection\"},{\"attributes\":{},\"id\":\"da1d85dc-932c-4e8a-b8db-d25aa7f15a3b\",\"type\":\"BasicTicker\"},{\"attributes\":{\"plot\":null,\"text\":\"\"},\"id\":\"d0f69ad6-77d3-4b58-bcec-23b365808c7c\",\"type\":\"Title\"},{\"attributes\":{\"data_source\":{\"id\":\"1fa94a19-a01b-4789-af5f-e104c1c937ca\",\"type\":\"ColumnDataSource\"},\"glyph\":{\"id\":\"58990e81-da86-43df-9ae0-e11c69710dad\",\"type\":\"Line\"},\"hover_glyph\":null,\"muted_glyph\":null,\"nonselection_glyph\":{\"id\":\"746ec954-3fc0-43bc-9540-c4d892fb025e\",\"type\":\"Line\"},\"selection_glyph\":null,\"view\":{\"id\":\"e88b25b1-72fe-445b-a7b3-ae75d739b599\",\"type\":\"CDSView\"}},\"id\":\"5db6b31e-4fd8-466e-958f-38e0536be550\",\"type\":\"GlyphRenderer\"},{\"attributes\":{\"callback\":null,\"end\":12.208448419665208,\"start\":-0.58968210462621},\"id\":\"974f019e-d9ac-439e-ad4b-5747257a4531\",\"type\":\"Range1d\"},{\"attributes\":{\"num_minor_ticks\":10},\"id\":\"4cd043b5-8e9c-4fda-9a27-3862cfd528d2\",\"type\":\"LogTicker\"},{\"attributes\":{},\"id\":\"aea43b88-2f44-4b4e-9eb8-18636a769861\",\"type\":\"UnionRenderers\"},{\"attributes\":{\"fill_alpha\":{\"value\":0.1},\"fill_color\":{\"value\":\"#1f77b4\"},\"line_alpha\":{\"value\":0.1},\"line_color\":{\"value\":\"#1f77b4\"},\"x\":{\"field\":\"x\"},\"y\":{\"field\":\"y\"}},\"id\":\"0d49152b-f8ab-4c2a-b9d0-57b05e9d4d49\",\"type\":\"Circle\"},{\"attributes\":{\"dimension\":1,\"plot\":{\"id\":\"c8de9187-65f9-4d2d-a83b-bfbc7e3948e8\",\"subtype\":\"Figure\",\"type\":\"Plot\"},\"ticker\":{\"id\":\"4cd043b5-8e9c-4fda-9a27-3862cfd528d2\",\"type\":\"LogTicker\"}},\"id\":\"199c7523-270b-495d-955f-83b54e7f95a4\",\"type\":\"Grid\"},{\"attributes\":{\"active_drag\":\"auto\",\"active_inspect\":\"auto\",\"active_scroll\":\"auto\",\"active_tap\":\"auto\",\"tools\":[{\"id\":\"4a76d573-b2cb-43ce-a3ef-384440779620\",\"type\":\"PanTool\"},{\"id\":\"cd8b1527-8c7b-431b-8513-15314793dba7\",\"type\":\"WheelZoomTool\"},{\"id\":\"7a3dc467-446d-4922-8192-b0c4d5c27473\",\"type\":\"BoxZoomTool\"},{\"id\":\"6c044a79-292e-4d9f-8e3d-bfb8279a7423\",\"type\":\"SaveTool\"},{\"id\":\"af96ce36-2ad4-4ac7-b34f-bbf400ba3674\",\"type\":\"ResetTool\"},{\"id\":\"b931c203-42cc-4d22-9040-cdbf1cf9bade\",\"type\":\"HelpTool\"}]},\"id\":\"d4b3f443-e8af-478d-bef8-579e049ebe4c\",\"type\":\"Toolbar\"},{\"attributes\":{},\"id\":\"a48b7444-00ba-4ba2-b55e-43e749a84662\",\"type\":\"Selection\"},{\"attributes\":{},\"id\":\"d23f87d8-4ad8-4436-a0c4-c0cfd48ae909\",\"type\":\"BasicTickFormatter\"},{\"attributes\":{},\"id\":\"59677ffb-8f0f-4c02-9a22-08b891b16291\",\"type\":\"Selection\"},{\"attributes\":{},\"id\":\"1bcc69d1-501e-4ac3-a0e8-c4e9e88fd786\",\"type\":\"UnionRenderers\"},{\"attributes\":{\"axis_label\":\"cooling rate [K/day]\",\"formatter\":{\"id\":\"3a8ba3d7-3b8b-4273-b077-5eabe3d80817\",\"type\":\"BasicTickFormatter\"},\"plot\":{\"id\":\"c8de9187-65f9-4d2d-a83b-bfbc7e3948e8\",\"subtype\":\"Figure\",\"type\":\"Plot\"},\"ticker\":{\"id\":\"da1d85dc-932c-4e8a-b8db-d25aa7f15a3b\",\"type\":\"BasicTicker\"}},\"id\":\"5e6642bf-c820-480d-9e4c-04ba739bc33d\",\"type\":\"LinearAxis\"},{\"attributes\":{\"source\":{\"id\":\"1fa94a19-a01b-4789-af5f-e104c1c937ca\",\"type\":\"ColumnDataSource\"}},\"id\":\"e88b25b1-72fe-445b-a7b3-ae75d739b599\",\"type\":\"CDSView\"},{\"attributes\":{\"data_source\":{\"id\":\"6182474d-704d-4c98-b6c2-58228dd64e90\",\"type\":\"ColumnDataSource\"},\"glyph\":{\"id\":\"bc4a2e52-2429-4152-bdb7-a05b29d5999b\",\"type\":\"Circle\"},\"hover_glyph\":null,\"muted_glyph\":null,\"nonselection_glyph\":{\"id\":\"0d49152b-f8ab-4c2a-b9d0-57b05e9d4d49\",\"type\":\"Circle\"},\"selection_glyph\":null,\"view\":{\"id\":\"e0244833-27fe-4add-a505-bf2027e88817\",\"type\":\"CDSView\"}},\"id\":\"0bb49693-61b8-423c-b337-4f06f9a3c81b\",\"type\":\"GlyphRenderer\"},{\"attributes\":{\"label\":{\"value\":\"CRD\"},\"renderers\":[{\"id\":\"e930d544-6a24-49a9-92ac-5effdf28715a\",\"type\":\"GlyphRenderer\"},{\"id\":\"b482a414-cdce-4f25-ac7e-cc4d214b5934\",\"type\":\"GlyphRenderer\"}]},\"id\":\"424e70ab-7143-4826-b041-46e7cd4cded1\",\"type\":\"LegendItem\"},{\"attributes\":{\"line_alpha\":0.1,\"line_color\":\"#1f77b4\",\"line_width\":1.5,\"x\":{\"field\":\"x\"},\"y\":{\"field\":\"y\"}},\"id\":\"746ec954-3fc0-43bc-9540-c4d892fb025e\",\"type\":\"Line\"},{\"attributes\":{\"line_alpha\":0.8,\"line_color\":\"#984ea3\",\"line_width\":1.5,\"x\":{\"field\":\"x\"},\"y\":{\"field\":\"y\"}},\"id\":\"58990e81-da86-43df-9ae0-e11c69710dad\",\"type\":\"Line\"},{\"attributes\":{},\"id\":\"4dc30859-ecb9-43c7-a686-d87dc562543f\",\"type\":\"Selection\"},{\"attributes\":{\"data_source\":{\"id\":\"39103431-c47a-44a4-93da-f1cb7cd09e04\",\"type\":\"ColumnDataSource\"},\"glyph\":{\"id\":\"1d8038af-0520-41cb-a160-7c11a2b81a90\",\"type\":\"Line\"},\"hover_glyph\":null,\"muted_glyph\":null,\"nonselection_glyph\":{\"id\":\"d6ce254b-0fe1-4988-9c61-59bf896ae545\",\"type\":\"Line\"},\"selection_glyph\":null,\"view\":{\"id\":\"dec0f19f-1c99-4593-b8f6-43d36e44b454\",\"type\":\"CDSView\"}},\"id\":\"b482a414-cdce-4f25-ac7e-cc4d214b5934\",\"type\":\"GlyphRenderer\"},{\"attributes\":{\"axis_label\":\"pressure [mb]\",\"formatter\":{\"id\":\"d657b95d-5b9c-4f8e-bf17-a2bbf461dca8\",\"type\":\"LogTickFormatter\"},\"plot\":{\"id\":\"c8de9187-65f9-4d2d-a83b-bfbc7e3948e8\",\"subtype\":\"Figure\",\"type\":\"Plot\"},\"ticker\":{\"id\":\"4cd043b5-8e9c-4fda-9a27-3862cfd528d2\",\"type\":\"LogTicker\"}},\"id\":\"8eb2320b-fec4-41a5-b24a-bf3ba362574d\",\"type\":\"LogAxis\"},{\"attributes\":{\"source\":{\"id\":\"764304e7-7bf8-4b01-9e1b-b8092f62402f\",\"type\":\"ColumnDataSource\"}},\"id\":\"0a4b40bf-65b1-4c6f-a21b-732b984e0ca4\",\"type\":\"CDSView\"},{\"attributes\":{\"plot\":{\"id\":\"c8de9187-65f9-4d2d-a83b-bfbc7e3948e8\",\"subtype\":\"Figure\",\"type\":\"Plot\"},\"ticker\":{\"id\":\"da1d85dc-932c-4e8a-b8db-d25aa7f15a3b\",\"type\":\"BasicTicker\"}},\"id\":\"c0ba9c5e-cb5a-49a6-8d73-4cd9f5ff57c7\",\"type\":\"Grid\"},{\"attributes\":{\"line_alpha\":0.6,\"line_color\":\"#377eb8\",\"line_dash\":[6],\"line_width\":5,\"x\":{\"field\":\"x\"},\"y\":{\"field\":\"y\"}},\"id\":\"171f1d62-e05b-49e1-ba83-a952fed5febd\",\"type\":\"Line\"},{\"attributes\":{\"data_source\":{\"id\":\"0e8211e1-958d-4e38-8ae1-604c117394ea\",\"type\":\"ColumnDataSource\"},\"glyph\":{\"id\":\"171f1d62-e05b-49e1-ba83-a952fed5febd\",\"type\":\"Line\"},\"hover_glyph\":null,\"muted_glyph\":null,\"nonselection_glyph\":{\"id\":\"24686069-3244-468a-b2c9-9e73019c7481\",\"type\":\"Line\"},\"selection_glyph\":null,\"view\":{\"id\":\"2175a0d1-77e6-4fdf-9ecf-74d960974244\",\"type\":\"CDSView\"}},\"id\":\"7837676c-e65e-4188-9533-0401a482992a\",\"type\":\"GlyphRenderer\"},{\"attributes\":{\"source\":{\"id\":\"39103431-c47a-44a4-93da-f1cb7cd09e04\",\"type\":\"ColumnDataSource\"}},\"id\":\"dec0f19f-1c99-4593-b8f6-43d36e44b454\",\"type\":\"CDSView\"},{\"attributes\":{},\"id\":\"3e820a5a-7b72-4687-a9e6-bca68177abb1\",\"type\":\"LinearScale\"},{\"attributes\":{\"callback\":null,\"end\":0.01,\"start\":1020},\"id\":\"f3ddf649-9af6-40fc-9022-322f225692b4\",\"type\":\"Range1d\"},{\"attributes\":{},\"id\":\"4a76d573-b2cb-43ce-a3ef-384440779620\",\"type\":\"PanTool\"},{\"attributes\":{\"callback\":null,\"end\":0.561478538579498,\"start\":-1.3401751061576983},\"id\":\"26973472-27da-46f1-879f-00a7c77ebeb0\",\"type\":\"Range1d\"},{\"attributes\":{\"callback\":null,\"data\":{\"x\":{\"__ndarray__\":\"mHMGBKH8Q8CSBB3R0IIgwKA0Jt5nsALAln5ME9gl/D8THf05OzEOQC8/Dhex0A5A4sNU4bBVBECEfikGIdbmP0nVbuiBDei/JliDJ/4k9b/t3PIoBDjxv+v4PZK9kN6/NGjXkO82tz+yEGaXb7jdP5WAnj7nXuE/FtYfg2H51j/At+0eCf6yP67NYrxYIdG/9Z9T5BkJ4b9m1Nx84hPhv9oeJNu9BtO/4mKbywaTt7/ONs8HPpyTvwKc0Kdrkcm/YtmsWZHq1b8iz9Qccmu0v0rZGEeqddY/UZcuvrq+1z9im7VvjwLBP26kaEJfba0/K+9XSiWG0j9nrIt/xMLXP+Zc49HT2cg/7FhuMmEpbj9y86baooqWP9ijuhJuBrE/GGX//OtOjr8G/TvNG5ywv7aumchBs6q/w7YXW4AVqL8g1c/ftxyrv+tz3LT8OKy/g8oTAdYDsL8M1yJxpfGkv3EjUHAUo62/UcApi+e6vb/1UHVZnniyv159xS5b+Kq/NSWziI1js7+Swl+gXyyzv6otoJI4H6i/IovqsmYBlr+aFEKntwOEv+r6BytzDoW/yvfEgAUlkb8g821EZtyQv5DjPYuFqEk/JFI3oyjIoD/Wi5TfAkawP8Jo7Rs3M7Q/IiLFmKWxsj8aOLM/S7WrP1KeqCg7VqI/riZIMsyFoj/k/fPNoUCsP/UQfWs827Y/2OZ4HPX9wD8HLnZPYwHFPwHWfLdmu8c/6b8tLeGPyz/kkDZ78X3QP+CxG9bNvtQ/eG7baNky3T8o3cOSrCvoP1IPQz73aBtA\",\"dtype\":\"float64\",\"shape\":[75]},\"y\":{\"__ndarray__\":\"GhExyth1ND/Sv8nbtpRIP2vylNV0PVE/aTum7souWD/At0SJ8fVgPw3Iuahxymc/MSNhhJWvcD/bTfBN02d3P2zb5nxnaoA/CD5h5MAGhz8NmeH1TyaQP+zrCsc9p5Y/LbKd76fGnz/bLW5ISEmmPww9YvTcQq8/JV2OstnstT8Er5Y7M8G+P0c+r3jqkcU/5h99k6ZBzj88bCIzFzjVP4enV8oyxN0//yH99nXg5D8qOpLLf0jtP5kqGJXUifQ/c9cS8kHP/D+/DpwzojQEQIEmwoanVwxA4lgXt9HgE0BSSZ2AJuIbQAMJih9jjiNA5q4l5INuK0AwTKYKRj0zQNv5fmq8/DpAaCJseHrtQkB/+zpwzoxKQM3MzMzMeFJAZmZmZmZqWEAAAAAAAFxeQM3MzMzMJmJAmpmZmZkfZUBmZmZmZhhoQDMzMzMzEWtAAAAAAAAKbkBmZmZmZoFwQM3MzMzM/XFAMzMzMzN6c0CamZmZmfZ0QAAAAAAAc3ZAZmZmZmbvd0DNzMzMzGt5QDMzMzMz6HpAmpmZmZlkfEAAAAAAAOF9QGZmZmZmXX9AZmZmZuZsgECamZmZGSuBQM3MzMxM6YFAAAAAAICngkAzMzMzs2WDQGZmZmbmI4RAmpmZmRnihEDNzMzMTKCFQAAAAACAXoZAMzMzM7Mch0BmZmZm5tqHQJqZmZkZmYhAzczMzExXiUAAAAAAgBWKQDMzMzOz04pAZmZmZuaRi0CamZmZGVCMQM3MzMxMDo1AAAAAAIDMjUAzMzMzs4qOQGZmZmbmSI9A\",\"dtype\":\"float64\",\"shape\":[75]}},\"selected\":{\"id\":\"a758e82e-5698-47cf-b9ae-430225e922e5\",\"type\":\"Selection\"},\"selection_policy\":{\"id\":\"0daa8441-b9f9-42b1-aa3e-f7ecf658ed93\",\"type\":\"UnionRenderers\"}},\"id\":\"1fa94a19-a01b-4789-af5f-e104c1c937ca\",\"type\":\"ColumnDataSource\"},{\"attributes\":{\"plot\":null,\"text\":\"\"},\"id\":\"a81ed0fc-cdb8-43e1-be4c-54d3bbf8ee57\",\"type\":\"Title\"},{\"attributes\":{\"axis_label\":\"pressure [mb]\",\"formatter\":{\"id\":\"d23f87d8-4ad8-4436-a0c4-c0cfd48ae909\",\"type\":\"BasicTickFormatter\"},\"plot\":{\"id\":\"f0abb517-713d-4868-8bf6-d1823b646d6f\",\"subtype\":\"Figure\",\"type\":\"Plot\"},\"ticker\":{\"id\":\"93eb98cb-0354-4cbe-8f32-26a333406af3\",\"type\":\"BasicTicker\"}},\"id\":\"9c6e2018-c424-4eff-9da6-7320c9a8566c\",\"type\":\"LinearAxis\"},{\"attributes\":{\"callback\":null,\"data\":{\"x\":{\"__ndarray__\":\"+XALzRuFRUCByJoYFNNCQKNupB5ltEFASVJUBD0dQEDe7Qp0ORY8QJRJiZPIKjdAVUOfYljpMUArHaiEXQUqQGzrO4gDSSJA4SddEo6eGkBfkqLteDwVQKvAZCqKBxJAf0UHw9SXDUDJjzJUTzQDQBs/NnUV8f4/ArtUWkWxBUAnTcFkx0oMQFrOW998oRBAVEkHUkrkE0CVAxKdeVYZQGlm6efmECFAVneNQVcIJ0AfjgzIrSAoQNEGwweFjSRAKscNE40yIUDLdvHlonEcQB2VnpLwdxhAdpSaHHBNFED4MQ8zXQkQQCfa/8VwlwlATgk7TBKlBUA3jPVYyukAQOneSgyxn/U/jknCee/n5z+tCPCFcBDUP1m85tX1xLu/RVhR2p613b9Syyftvo/Xv5f6UGBLZHk/lASzPS1Qxj+lLE/beSXZP4+8KJA39Ow/aaEsPUXW9j8GxE5YU/L9P2A6MJBz+QBAKrDquYKSAUAZujypj1UCQP69J8doWwJAEaExVSAmAUA9RL+Qt5EAQLeNT1gMYQBAEaaz0m5CAEAmwBVbchkAQHioWShhy/8/DlskNBxz/z9bhq2aHUH/P0OA9YDFTv8/CyHvbsiL/z92qmrsjLf/P4Zyr4eHxP8/TUgsqPa5/z+ZVgAP6Xj/P/SZOi8Ya/4/W5zq9n17/T9a11nFgwf7PxwJM1QDovg/FbgNC7st9z9zpOZ8h/v1P5m6rDt2jfU/73/IZvzH9T9tVcdv5332P7AlMe7p3vc/2Piuskau+j+Uqk2ZJHcAQNDuDCrc3iFA\",\"dtype\":\"float64\",\"shape\":[75]},\"y\":{\"__ndarray__\":\"GhExyth1ND/Sv8nbtpRIP2vylNV0PVE/aTum7souWD/At0SJ8fVgPw3Iuahxymc/MSNhhJWvcD/bTfBN02d3P2zb5nxnaoA/CD5h5MAGhz8NmeH1TyaQP+zrCsc9p5Y/LbKd76fGnz/bLW5ISEmmPww9YvTcQq8/JV2OstnstT8Er5Y7M8G+P0c+r3jqkcU/5h99k6ZBzj88bCIzFzjVP4enV8oyxN0//yH99nXg5D8qOpLLf0jtP5kqGJXUifQ/c9cS8kHP/D+/DpwzojQEQIEmwoanVwxA4lgXt9HgE0BSSZ2AJuIbQAMJih9jjiNA5q4l5INuK0AwTKYKRj0zQNv5fmq8/DpAaCJseHrtQkB/+zpwzoxKQM3MzMzMeFJAZmZmZmZqWEAAAAAAAFxeQM3MzMzMJmJAmpmZmZkfZUBmZmZmZhhoQDMzMzMzEWtAAAAAAAAKbkBmZmZmZoFwQM3MzMzM/XFAMzMzMzN6c0CamZmZmfZ0QAAAAAAAc3ZAZmZmZmbvd0DNzMzMzGt5QDMzMzMz6HpAmpmZmZlkfEAAAAAAAOF9QGZmZmZmXX9AZmZmZuZsgECamZmZGSuBQM3MzMxM6YFAAAAAAICngkAzMzMzs2WDQGZmZmbmI4RAmpmZmRnihEDNzMzMTKCFQAAAAACAXoZAMzMzM7Mch0BmZmZm5tqHQJqZmZkZmYhAzczMzExXiUAAAAAAgBWKQDMzMzOz04pAZmZmZuaRi0CamZmZGVCMQM3MzMxMDo1AAAAAAIDMjUAzMzMzs4qOQGZmZmbmSI9A\",\"dtype\":\"float64\",\"shape\":[75]}},\"selected\":{\"id\":\"59677ffb-8f0f-4c02-9a22-08b891b16291\",\"type\":\"Selection\"},\"selection_policy\":{\"id\":\"aea43b88-2f44-4b4e-9eb8-18636a769861\",\"type\":\"UnionRenderers\"}},\"id\":\"bcde79f6-822e-442e-aeef-f619c302b5ab\",\"type\":\"ColumnDataSource\"},{\"attributes\":{},\"id\":\"235b60d4-f1ce-4c01-8ca8-1a2c94d3e857\",\"type\":\"ResetTool\"},{\"attributes\":{\"label\":{\"value\":\"CRD\"},\"renderers\":[{\"id\":\"0bb49693-61b8-423c-b337-4f06f9a3c81b\",\"type\":\"GlyphRenderer\"},{\"id\":\"48995e16-614f-430d-a100-a296b2e588c7\",\"type\":\"GlyphRenderer\"}]},\"id\":\"30acf749-bcf3-4c6a-8622-b87bce04e163\",\"type\":\"LegendItem\"},{\"attributes\":{\"active_drag\":\"auto\",\"active_inspect\":\"auto\",\"active_scroll\":\"auto\",\"active_tap\":\"auto\",\"tools\":[{\"id\":\"49825b6c-1e9d-46b2-89e7-3562d6a73bc2\",\"type\":\"PanTool\"},{\"id\":\"7334e81a-1a4f-493e-a266-c72065f2a9f1\",\"type\":\"WheelZoomTool\"},{\"id\":\"6bee7917-4b18-4120-ae65-428820a7a7ec\",\"type\":\"BoxZoomTool\"},{\"id\":\"319612af-e438-499d-90df-66d428ca9d40\",\"type\":\"SaveTool\"},{\"id\":\"235b60d4-f1ce-4c01-8ca8-1a2c94d3e857\",\"type\":\"ResetTool\"},{\"id\":\"25f7331b-8354-4223-b9f4-9961286412ba\",\"type\":\"HelpTool\"}]},\"id\":\"7f435ebf-808e-46c1-9720-f3a902f6134f\",\"type\":\"Toolbar\"},{\"attributes\":{\"items\":[{\"id\":\"b00491a9-a0bb-48bb-bc72-866cad99fcf9\",\"type\":\"LegendItem\"},{\"id\":\"424e70ab-7143-4826-b041-46e7cd4cded1\",\"type\":\"LegendItem\"}],\"label_text_font_size\":{\"value\":\"8pt\"},\"location\":\"top_center\",\"orientation\":\"horizontal\",\"plot\":{\"id\":\"f0abb517-713d-4868-8bf6-d1823b646d6f\",\"subtype\":\"Figure\",\"type\":\"Plot\"}},\"id\":\"3c1b951f-1309-49c8-b2ba-5a41d044f23a\",\"type\":\"Legend\"},{\"attributes\":{\"data_source\":{\"id\":\"764304e7-7bf8-4b01-9e1b-b8092f62402f\",\"type\":\"ColumnDataSource\"},\"glyph\":{\"id\":\"14e3ce71-78c6-44a9-80ae-d44e3b91ff8d\",\"type\":\"Circle\"},\"hover_glyph\":null,\"muted_glyph\":null,\"nonselection_glyph\":{\"id\":\"4bbf4bd7-4f14-4a5f-b209-dfd96e4c0ff9\",\"type\":\"Circle\"},\"selection_glyph\":null,\"view\":{\"id\":\"0a4b40bf-65b1-4c6f-a21b-732b984e0ca4\",\"type\":\"CDSView\"}},\"id\":\"44b951ae-f0ac-4db2-bcca-4db7e8c64d23\",\"type\":\"GlyphRenderer\"},{\"attributes\":{},\"id\":\"25f7331b-8354-4223-b9f4-9961286412ba\",\"type\":\"HelpTool\"},{\"attributes\":{\"children\":[{\"id\":\"f0abb517-713d-4868-8bf6-d1823b646d6f\",\"subtype\":\"Figure\",\"type\":\"Plot\"},{\"id\":\"c8de9187-65f9-4d2d-a83b-bfbc7e3948e8\",\"subtype\":\"Figure\",\"type\":\"Plot\"},{\"id\":\"649582a6-26aa-40a4-9c84-3ac11396ab7e\",\"subtype\":\"Figure\",\"type\":\"Plot\"}]},\"id\":\"8fe5dfd2-3044-4ba1-bc07-2c17b30f5945\",\"type\":\"Row\"},{\"attributes\":{\"axis_label\":\"cooling rate [K/day]\",\"formatter\":{\"id\":\"42bbc4c1-5d64-447b-9bdc-fcbb0cc8b3d2\",\"type\":\"BasicTickFormatter\"},\"plot\":{\"id\":\"f0abb517-713d-4868-8bf6-d1823b646d6f\",\"subtype\":\"Figure\",\"type\":\"Plot\"},\"ticker\":{\"id\":\"04033612-0f03-4970-bf5c-2bfea37be6c3\",\"type\":\"BasicTicker\"}},\"id\":\"a06e608e-33de-45b2-91ee-3eb15a65a44b\",\"type\":\"LinearAxis\"},{\"attributes\":{},\"id\":\"319612af-e438-499d-90df-66d428ca9d40\",\"type\":\"SaveTool\"},{\"attributes\":{},\"id\":\"581d0834-282a-41e1-aafb-cded77e01bb9\",\"type\":\"UnionRenderers\"},{\"attributes\":{\"line_alpha\":0.6,\"line_color\":\"#377eb8\",\"line_dash\":[6],\"line_width\":5,\"x\":{\"field\":\"x\"},\"y\":{\"field\":\"y\"}},\"id\":\"7b79ee2a-b962-47d2-a2aa-a9fa730320b4\",\"type\":\"Line\"},{\"attributes\":{},\"id\":\"1b8d7883-d05a-46c6-80c9-28d82cf9bcbe\",\"type\":\"LinearScale\"},{\"attributes\":{},\"id\":\"49825b6c-1e9d-46b2-89e7-3562d6a73bc2\",\"type\":\"PanTool\"},{\"attributes\":{\"callback\":null,\"data\":{\"x\":{\"__ndarray__\":\"+XALzRuFRUCByJoYFNNCQKNupB5ltEFASVJUBD0dQEDe7Qp0ORY8QJRJiZPIKjdAVUOfYljpMUArHaiEXQUqQGzrO4gDSSJA4SddEo6eGkBfkqLteDwVQKvAZCqKBxJAf0UHw9SXDUDJjzJUTzQDQBs/NnUV8f4/ArtUWkWxBUAnTcFkx0oMQFrOW998oRBAVEkHUkrkE0CVAxKdeVYZQGlm6efmECFAVneNQVcIJ0AfjgzIrSAoQNEGwweFjSRAKscNE40yIUDLdvHlonEcQB2VnpLwdxhAdpSaHHBNFED4MQ8zXQkQQCfa/8VwlwlATgk7TBKlBUA3jPVYyukAQOneSgyxn/U/jknCee/n5z+tCPCFcBDUP1m85tX1xLu/RVhR2p613b9Syyftvo/Xv5f6UGBLZHk/lASzPS1Qxj+lLE/beSXZP4+8KJA39Ow/aaEsPUXW9j8GxE5YU/L9P2A6MJBz+QBAKrDquYKSAUAZujypj1UCQP69J8doWwJAEaExVSAmAUA9RL+Qt5EAQLeNT1gMYQBAEaaz0m5CAEAmwBVbchkAQHioWShhy/8/DlskNBxz/z9bhq2aHUH/P0OA9YDFTv8/CyHvbsiL/z92qmrsjLf/P4Zyr4eHxP8/TUgsqPa5/z+ZVgAP6Xj/P/SZOi8Ya/4/W5zq9n17/T9a11nFgwf7PxwJM1QDovg/FbgNC7st9z9zpOZ8h/v1P5m6rDt2jfU/73/IZvzH9T9tVcdv5332P7AlMe7p3vc/2Piuskau+j+Uqk2ZJHcAQNDuDCrc3iFA\",\"dtype\":\"float64\",\"shape\":[75]},\"y\":{\"__ndarray__\":\"GhExyth1ND/Sv8nbtpRIP2vylNV0PVE/aTum7souWD/At0SJ8fVgPw3Iuahxymc/MSNhhJWvcD/bTfBN02d3P2zb5nxnaoA/CD5h5MAGhz8NmeH1TyaQP+zrCsc9p5Y/LbKd76fGnz/bLW5ISEmmPww9YvTcQq8/JV2OstnstT8Er5Y7M8G+P0c+r3jqkcU/5h99k6ZBzj88bCIzFzjVP4enV8oyxN0//yH99nXg5D8qOpLLf0jtP5kqGJXUifQ/c9cS8kHP/D+/DpwzojQEQIEmwoanVwxA4lgXt9HgE0BSSZ2AJuIbQAMJih9jjiNA5q4l5INuK0AwTKYKRj0zQNv5fmq8/DpAaCJseHrtQkB/+zpwzoxKQM3MzMzMeFJAZmZmZmZqWEAAAAAAAFxeQM3MzMzMJmJAmpmZmZkfZUBmZmZmZhhoQDMzMzMzEWtAAAAAAAAKbkBmZmZmZoFwQM3MzMzM/XFAMzMzMzN6c0CamZmZmfZ0QAAAAAAAc3ZAZmZmZmbvd0DNzMzMzGt5QDMzMzMz6HpAmpmZmZlkfEAAAAAAAOF9QGZmZmZmXX9AZmZmZuZsgECamZmZGSuBQM3MzMxM6YFAAAAAAICngkAzMzMzs2WDQGZmZmbmI4RAmpmZmRnihEDNzMzMTKCFQAAAAACAXoZAMzMzM7Mch0BmZmZm5tqHQJqZmZkZmYhAzczMzExXiUAAAAAAgBWKQDMzMzOz04pAZmZmZuaRi0CamZmZGVCMQM3MzMxMDo1AAAAAAIDMjUAzMzMzs4qOQGZmZmbmSI9A\",\"dtype\":\"float64\",\"shape\":[75]}},\"selected\":{\"id\":\"f8e910c7-6419-4339-b1fc-507da7dbc895\",\"type\":\"Selection\"},\"selection_policy\":{\"id\":\"581d0834-282a-41e1-aafb-cded77e01bb9\",\"type\":\"UnionRenderers\"}},\"id\":\"0e8211e1-958d-4e38-8ae1-604c117394ea\",\"type\":\"ColumnDataSource\"},{\"attributes\":{\"fill_alpha\":{\"value\":0.7},\"fill_color\":{\"value\":\"#984ea3\"},\"line_alpha\":{\"value\":0.7},\"line_color\":{\"value\":\"#984ea3\"},\"x\":{\"field\":\"x\"},\"y\":{\"field\":\"y\"}},\"id\":\"14e3ce71-78c6-44a9-80ae-d44e3b91ff8d\",\"type\":\"Circle\"},{\"attributes\":{\"data_source\":{\"id\":\"bcde79f6-822e-442e-aeef-f619c302b5ab\",\"type\":\"ColumnDataSource\"},\"glyph\":{\"id\":\"7b79ee2a-b962-47d2-a2aa-a9fa730320b4\",\"type\":\"Line\"},\"hover_glyph\":null,\"muted_glyph\":null,\"nonselection_glyph\":{\"id\":\"5dea7c50-50a3-4761-8a44-a1871b442c49\",\"type\":\"Line\"},\"selection_glyph\":null,\"view\":{\"id\":\"6dcffa14-80d0-46cf-ba0f-324acb147961\",\"type\":\"CDSView\"}},\"id\":\"7bfd83e4-b72f-460d-8fb8-964e7124321e\",\"type\":\"GlyphRenderer\"},{\"attributes\":{\"callback\":null,\"end\":9.029268307067408,\"start\":-0.55820507380841},\"id\":\"12f2fbaa-972d-4712-8767-7f32b7d27c9e\",\"type\":\"Range1d\"},{\"attributes\":{\"dimension\":1,\"plot\":{\"id\":\"f0abb517-713d-4868-8bf6-d1823b646d6f\",\"subtype\":\"Figure\",\"type\":\"Plot\"},\"ticker\":{\"id\":\"93eb98cb-0354-4cbe-8f32-26a333406af3\",\"type\":\"BasicTicker\"}},\"id\":\"605e788f-2fe3-47ba-9e98-d35805a5f295\",\"type\":\"Grid\"},{\"attributes\":{},\"id\":\"e76fe853-fb68-4981-9fcc-91ec8b483c53\",\"type\":\"WheelZoomTool\"},{\"attributes\":{\"line_alpha\":0.1,\"line_color\":\"#1f77b4\",\"line_dash\":[6],\"line_width\":5,\"x\":{\"field\":\"x\"},\"y\":{\"field\":\"y\"}},\"id\":\"5dea7c50-50a3-4761-8a44-a1871b442c49\",\"type\":\"Line\"},{\"attributes\":{},\"id\":\"7334e81a-1a4f-493e-a266-c72065f2a9f1\",\"type\":\"WheelZoomTool\"},{\"attributes\":{\"plot\":{\"id\":\"f0abb517-713d-4868-8bf6-d1823b646d6f\",\"subtype\":\"Figure\",\"type\":\"Plot\"},\"ticker\":{\"id\":\"04033612-0f03-4970-bf5c-2bfea37be6c3\",\"type\":\"BasicTicker\"}},\"id\":\"00d97b2a-b2d3-422e-b0c3-da60084e85a4\",\"type\":\"Grid\"},{\"attributes\":{\"bottom_units\":\"screen\",\"fill_alpha\":{\"value\":0.5},\"fill_color\":{\"value\":\"lightgrey\"},\"left_units\":\"screen\",\"level\":\"overlay\",\"line_alpha\":{\"value\":1.0},\"line_color\":{\"value\":\"black\"},\"line_dash\":[4,4],\"line_width\":{\"value\":2},\"plot\":null,\"render_mode\":\"css\",\"right_units\":\"screen\",\"top_units\":\"screen\"},\"id\":\"8f246224-4368-42d3-b515-6359cfbd8ebe\",\"type\":\"BoxAnnotation\"},{\"attributes\":{},\"id\":\"f3b2d5aa-47c0-43ad-a52b-f56e381cfa1f\",\"type\":\"LinearScale\"},{\"attributes\":{\"line_alpha\":0.1,\"line_color\":\"#1f77b4\",\"line_dash\":[6],\"line_width\":5,\"x\":{\"field\":\"x\"},\"y\":{\"field\":\"y\"}},\"id\":\"24686069-3244-468a-b2c9-9e73019c7481\",\"type\":\"Line\"},{\"attributes\":{},\"id\":\"93eb98cb-0354-4cbe-8f32-26a333406af3\",\"type\":\"BasicTicker\"},{\"attributes\":{\"source\":{\"id\":\"b30a8bed-ff4c-4b35-ad89-a3277ce37938\",\"type\":\"ColumnDataSource\"}},\"id\":\"d1233d62-92e6-46e8-8c98-2d5d7020636c\",\"type\":\"CDSView\"},{\"attributes\":{},\"id\":\"04033612-0f03-4970-bf5c-2bfea37be6c3\",\"type\":\"BasicTicker\"},{\"attributes\":{\"overlay\":{\"id\":\"8f246224-4368-42d3-b515-6359cfbd8ebe\",\"type\":\"BoxAnnotation\"}},\"id\":\"6bee7917-4b18-4120-ae65-428820a7a7ec\",\"type\":\"BoxZoomTool\"}],\"root_ids\":[\"c935147a-208f-4ccb-a687-c76f9f57071b\"]},\"title\":\"Bokeh Application\",\"version\":\"0.12.16\"}};\n",
       "  var render_items = [{\"docid\":\"64f4d5fe-b341-44e4-a5d5-f2ce10ca7191\",\"elementid\":\"437664e3-fae5-4439-a070-d62ededf2b05\",\"modelid\":\"c935147a-208f-4ccb-a687-c76f9f57071b\"}];\n",
       "  root.Bokeh.embed.embed_items_notebook(docs_json, render_items);\n",
       "\n",
       "  }\n",
       "  if (root.Bokeh !== undefined) {\n",
       "    embed_document(root);\n",
       "  } else {\n",
       "    var attempts = 0;\n",
       "    var timer = setInterval(function(root) {\n",
       "      if (root.Bokeh !== undefined) {\n",
       "        embed_document(root);\n",
       "        clearInterval(timer);\n",
       "      }\n",
       "      attempts++;\n",
       "      if (attempts > 100) {\n",
       "        console.log(\"Bokeh: ERROR: Unable to run BokehJS code because BokehJS library is missing\")\n",
       "        clearInterval(timer);\n",
       "      }\n",
       "    }, 10, root)\n",
       "  }\n",
       "})(window);"
      ],
      "application/vnd.bokehjs_exec.v0+json": ""
     },
     "metadata": {
      "application/vnd.bokehjs_exec.v0+json": {
       "id": "c935147a-208f-4ccb-a687-c76f9f57071b"
      }
     },
     "output_type": "display_data"
    },
    {
     "data": {
      "text/markdown": [
       "*FIGURE.* Cooling rates & difference."
      ],
      "text/plain": [
       "<IPython.core.display.Markdown object>"
      ]
     },
     "metadata": {},
     "output_type": "display_data"
    },
    {
     "data": {
      "text/html": [
       "<a id=\"Fluxes._trp.\"></a>"
      ],
      "text/plain": [
       "<IPython.core.display.HTML object>"
      ]
     },
     "metadata": {},
     "output_type": "display_data"
    },
    {
     "data": {
      "text/markdown": [
       "# Fluxes. trp."
      ],
      "text/plain": [
       "<IPython.core.display.Markdown object>"
      ]
     },
     "metadata": {},
     "output_type": "display_data"
    },
    {
     "data": {
      "text/html": [
       "\n",
       "<div class=\"bk-root\">\n",
       "    <div class=\"bk-plotdiv\" id=\"ad28b137-a763-4e1c-8cd4-a33133a4a0e7\"></div>\n",
       "</div>"
      ]
     },
     "metadata": {},
     "output_type": "display_data"
    },
    {
     "data": {
      "application/javascript": [
       "(function(root) {\n",
       "  function embed_document(root) {\n",
       "    \n",
       "  var docs_json = {\"0b28ab7a-65cb-4c55-b5a6-147a7ad79184\":{\"roots\":{\"references\":[{\"attributes\":{\"callback\":null,\"data\":{\"band\":[\"1\",\"2\",\"3\",\"4\",\"5\",\"6\",\"7\",\"8\",\"9\",\"10\",\"11\"],\"flux\":{\"__ndarray__\":\"YJx67k5I+b9wMZs6blgQwIhw3d5/hQLAnPMYJ7bRBMD4YnK09IIBwED99QoL7vm/cAG9cOfC9L9YTIi5pOrxv4S5/tlm1QnAmIXZeG79E8C62R8ot+3wvw==\",\"dtype\":\"float64\",\"shape\":[11]}},\"selected\":{\"id\":\"56fa63b7-ef50-46dc-a313-0d6a8992fc41\",\"type\":\"Selection\"},\"selection_policy\":{\"id\":\"8057c06d-0d9e-4d88-ba77-242c33437633\",\"type\":\"UnionRenderers\"}},\"id\":\"3777838c-6107-4c66-98e7-b694e1c48a24\",\"type\":\"ColumnDataSource\"},{\"attributes\":{},\"id\":\"4abc0717-aa28-4305-bfc5-bc4c3bd8183b\",\"type\":\"HelpTool\"},{\"attributes\":{},\"id\":\"54d38de9-1590-4635-8cd6-d9c94222e9c8\",\"type\":\"BasicTicker\"},{\"attributes\":{\"fill_color\":{\"value\":\"#1f77b4\"},\"line_color\":{\"value\":\"#1f77b4\"},\"top\":{\"field\":\"flux\"},\"width\":{\"value\":0.9},\"x\":{\"field\":\"band\"}},\"id\":\"21f4de59-b72b-437a-80e3-99fd7de694dc\",\"type\":\"VBar\"},{\"attributes\":{},\"id\":\"2739f595-2f3e-4d2f-866e-b1d2f39865e8\",\"type\":\"CategoricalScale\"},{\"attributes\":{\"callback\":null,\"data\":{\"band\":[\"1\",\"2\",\"3\",\"4\",\"5\",\"6\",\"7\",\"8\",\"9\",\"10\",\"11\"],\"flux\":{\"__ndarray__\":\"AADADkbs874Ak+S5vg/QPwANMzSeCMq/ABTRr62frj8A8Z2Y9WLjP6As7j8yHd0/gB2NQ/0usj8AQGTbs/iOP0Churn429E/AFDtmpDWiD8AO3arQl6wPw==\",\"dtype\":\"float64\",\"shape\":[11]}},\"selected\":{\"id\":\"d325ce25-20d2-4702-8ed3-09a140c643a9\",\"type\":\"Selection\"},\"selection_policy\":{\"id\":\"b4fd0142-bc6c-4f31-934a-961aba8ddf45\",\"type\":\"UnionRenderers\"}},\"id\":\"00f637a2-920a-4836-84f2-00180451746d\",\"type\":\"ColumnDataSource\"},{\"attributes\":{},\"id\":\"c9879614-a58d-4253-a5a4-4930d6106a85\",\"type\":\"WheelZoomTool\"},{\"attributes\":{},\"id\":\"48568147-5c70-4419-9518-3e20c896fcbf\",\"type\":\"BasicTickFormatter\"},{\"attributes\":{\"plot\":null,\"text\":\"SFC flux. CLIRAD (single-run) - CRD.\"},\"id\":\"08128040-597e-4ebc-9d8b-55665c8c0a55\",\"type\":\"Title\"},{\"attributes\":{},\"id\":\"1a9fe873-9709-4f05-815e-2c178fbfd937\",\"type\":\"CategoricalTicker\"},{\"attributes\":{\"data_source\":{\"id\":\"00f637a2-920a-4836-84f2-00180451746d\",\"type\":\"ColumnDataSource\"},\"glyph\":{\"id\":\"21f4de59-b72b-437a-80e3-99fd7de694dc\",\"type\":\"VBar\"},\"hover_glyph\":null,\"muted_glyph\":null,\"nonselection_glyph\":{\"id\":\"b11b5ebd-1c01-4d6c-acef-91db5db923ea\",\"type\":\"VBar\"},\"selection_glyph\":null,\"view\":{\"id\":\"a1977077-f174-4369-9ad4-952f72e547ea\",\"type\":\"CDSView\"}},\"id\":\"d5a9d401-b63f-4707-a252-e4c02df322cc\",\"type\":\"GlyphRenderer\"},{\"attributes\":{},\"id\":\"fdb54a5f-6681-4c6c-8d41-32dbf54a31a9\",\"type\":\"LinearScale\"},{\"attributes\":{},\"id\":\"c134ae0a-f2ee-420a-b182-2e8c08f7156d\",\"type\":\"ResetTool\"},{\"attributes\":{\"fill_alpha\":{\"value\":0.1},\"fill_color\":{\"value\":\"#1f77b4\"},\"line_alpha\":{\"value\":0.1},\"line_color\":{\"value\":\"#1f77b4\"},\"top\":{\"field\":\"flux\"},\"width\":{\"value\":0.9},\"x\":{\"field\":\"band\"}},\"id\":\"b11b5ebd-1c01-4d6c-acef-91db5db923ea\",\"type\":\"VBar\"},{\"attributes\":{\"bottom_units\":\"screen\",\"fill_alpha\":{\"value\":0.5},\"fill_color\":{\"value\":\"lightgrey\"},\"left_units\":\"screen\",\"level\":\"overlay\",\"line_alpha\":{\"value\":1.0},\"line_color\":{\"value\":\"black\"},\"line_dash\":[4,4],\"line_width\":{\"value\":2},\"plot\":null,\"render_mode\":\"css\",\"right_units\":\"screen\",\"top_units\":\"screen\"},\"id\":\"8b8b039b-4011-4637-b23a-4d3203784769\",\"type\":\"BoxAnnotation\"},{\"attributes\":{\"overlay\":{\"id\":\"8b8b039b-4011-4637-b23a-4d3203784769\",\"type\":\"BoxAnnotation\"}},\"id\":\"4a9d2217-f737-43d1-9343-f2a44b8e785d\",\"type\":\"BoxZoomTool\"},{\"attributes\":{\"dimension\":1,\"plot\":{\"id\":\"26af34a9-e5e6-4535-b495-f29ef4d1ce16\",\"subtype\":\"Figure\",\"type\":\"Plot\"},\"ticker\":{\"id\":\"54d38de9-1590-4635-8cd6-d9c94222e9c8\",\"type\":\"BasicTicker\"}},\"id\":\"8ecedc55-ce68-4e49-9162-c53e562306de\",\"type\":\"Grid\"},{\"attributes\":{\"below\":[{\"id\":\"25ad92ab-e3b7-42b8-be99-a420595d95b6\",\"type\":\"CategoricalAxis\"}],\"left\":[{\"id\":\"61a54494-3827-4417-979f-c5bf61a342ef\",\"type\":\"LinearAxis\"}],\"plot_height\":300,\"plot_width\":300,\"renderers\":[{\"id\":\"25ad92ab-e3b7-42b8-be99-a420595d95b6\",\"type\":\"CategoricalAxis\"},{\"id\":\"694fdbb3-dcd1-408e-a713-8a11b9fb38d5\",\"type\":\"Grid\"},{\"id\":\"61a54494-3827-4417-979f-c5bf61a342ef\",\"type\":\"LinearAxis\"},{\"id\":\"9d3614ec-15cd-4b79-9f2f-eebe29953294\",\"type\":\"Grid\"},{\"id\":\"81051950-cd61-4dff-b166-abfbe0714702\",\"type\":\"BoxAnnotation\"},{\"id\":\"d5a9d401-b63f-4707-a252-e4c02df322cc\",\"type\":\"GlyphRenderer\"}],\"title\":{\"id\":\"08128040-597e-4ebc-9d8b-55665c8c0a55\",\"type\":\"Title\"},\"toolbar\":{\"id\":\"9f2c0681-142c-4590-83ee-8ee22fea8cae\",\"type\":\"Toolbar\"},\"toolbar_location\":null,\"x_range\":{\"id\":\"6cbe3287-a5ba-498d-b8f2-7eb6706b10ff\",\"type\":\"FactorRange\"},\"x_scale\":{\"id\":\"b8a0a5f0-1094-46ec-9c89-de463ff72707\",\"type\":\"CategoricalScale\"},\"y_range\":{\"id\":\"3c701d85-cf19-4303-942b-f2f32f5ed73e\",\"type\":\"DataRange1d\"},\"y_scale\":{\"id\":\"1ce1fb09-8472-452d-87c0-370435c25482\",\"type\":\"LinearScale\"}},\"id\":\"fc5026ab-cb96-445b-9496-1dcee60ac0d3\",\"subtype\":\"Figure\",\"type\":\"Plot\"},{\"attributes\":{\"fill_color\":{\"value\":\"#1f77b4\"},\"line_color\":{\"value\":\"#1f77b4\"},\"top\":{\"field\":\"flux\"},\"width\":{\"value\":0.9},\"x\":{\"field\":\"band\"}},\"id\":\"ad177e86-7900-4042-a88e-cdf9b285b4e5\",\"type\":\"VBar\"},{\"attributes\":{\"axis_label\":\"flux (W m-2)\",\"formatter\":{\"id\":\"880768c0-43b7-4833-93f2-780434f8a0c9\",\"type\":\"BasicTickFormatter\"},\"plot\":{\"id\":\"26af34a9-e5e6-4535-b495-f29ef4d1ce16\",\"subtype\":\"Figure\",\"type\":\"Plot\"},\"ticker\":{\"id\":\"54d38de9-1590-4635-8cd6-d9c94222e9c8\",\"type\":\"BasicTicker\"}},\"id\":\"0589430b-8ca3-4f2f-b88d-e07401bd7017\",\"type\":\"LinearAxis\"},{\"attributes\":{},\"id\":\"be6c565f-a7c5-4300-865e-4f36d8550462\",\"type\":\"SaveTool\"},{\"attributes\":{\"axis_label\":\"spectral band\",\"formatter\":{\"id\":\"8d7ea622-80fb-49b5-8802-667cdd47e441\",\"type\":\"CategoricalTickFormatter\"},\"plot\":{\"id\":\"26af34a9-e5e6-4535-b495-f29ef4d1ce16\",\"subtype\":\"Figure\",\"type\":\"Plot\"},\"ticker\":{\"id\":\"1a9fe873-9709-4f05-815e-2c178fbfd937\",\"type\":\"CategoricalTicker\"}},\"id\":\"b33961eb-66cf-41b3-b128-ac5314986dcc\",\"type\":\"CategoricalAxis\"},{\"attributes\":{\"plot\":{\"id\":\"26af34a9-e5e6-4535-b495-f29ef4d1ce16\",\"subtype\":\"Figure\",\"type\":\"Plot\"},\"ticker\":{\"id\":\"1a9fe873-9709-4f05-815e-2c178fbfd937\",\"type\":\"CategoricalTicker\"}},\"id\":\"1d51909b-bf04-4af2-9a07-17255e99af9a\",\"type\":\"Grid\"},{\"attributes\":{},\"id\":\"41715a8b-83d6-4112-8d6c-0fdef93a133b\",\"type\":\"WheelZoomTool\"},{\"attributes\":{},\"id\":\"b8a0a5f0-1094-46ec-9c89-de463ff72707\",\"type\":\"CategoricalScale\"},{\"attributes\":{},\"id\":\"8d7ea622-80fb-49b5-8802-667cdd47e441\",\"type\":\"CategoricalTickFormatter\"},{\"attributes\":{\"toolbar\":{\"id\":\"0834b409-f738-4042-8f42-b01c4ee60e54\",\"type\":\"ProxyToolbar\"},\"toolbar_location\":\"above\"},\"id\":\"7a5b38e2-8267-4abb-b1c0-0b9e051c9c4d\",\"type\":\"ToolbarBox\"},{\"attributes\":{\"below\":[{\"id\":\"b33961eb-66cf-41b3-b128-ac5314986dcc\",\"type\":\"CategoricalAxis\"}],\"left\":[{\"id\":\"0589430b-8ca3-4f2f-b88d-e07401bd7017\",\"type\":\"LinearAxis\"}],\"plot_height\":300,\"plot_width\":300,\"renderers\":[{\"id\":\"b33961eb-66cf-41b3-b128-ac5314986dcc\",\"type\":\"CategoricalAxis\"},{\"id\":\"1d51909b-bf04-4af2-9a07-17255e99af9a\",\"type\":\"Grid\"},{\"id\":\"0589430b-8ca3-4f2f-b88d-e07401bd7017\",\"type\":\"LinearAxis\"},{\"id\":\"8ecedc55-ce68-4e49-9162-c53e562306de\",\"type\":\"Grid\"},{\"id\":\"8b8b039b-4011-4637-b23a-4d3203784769\",\"type\":\"BoxAnnotation\"},{\"id\":\"e6e3682b-3308-469a-8609-b836d36126b2\",\"type\":\"GlyphRenderer\"}],\"title\":{\"id\":\"b60cd984-4c8b-48b1-b021-16e25607ba3e\",\"type\":\"Title\"},\"toolbar\":{\"id\":\"c7fa2dfe-4a48-41ab-aab2-09d62bae84d6\",\"type\":\"Toolbar\"},\"toolbar_location\":null,\"x_range\":{\"id\":\"397108b4-ed44-4971-a820-be1204b99a08\",\"type\":\"FactorRange\"},\"x_scale\":{\"id\":\"2739f595-2f3e-4d2f-866e-b1d2f39865e8\",\"type\":\"CategoricalScale\"},\"y_range\":{\"id\":\"cfa48e4f-632e-4e19-94b7-932ed81e7c25\",\"type\":\"DataRange1d\"},\"y_scale\":{\"id\":\"fdb54a5f-6681-4c6c-8d41-32dbf54a31a9\",\"type\":\"LinearScale\"}},\"id\":\"26af34a9-e5e6-4535-b495-f29ef4d1ce16\",\"subtype\":\"Figure\",\"type\":\"Plot\"},{\"attributes\":{},\"id\":\"57fb41f9-13fa-4c53-8030-7418979353c8\",\"type\":\"Selection\"},{\"attributes\":{\"source\":{\"id\":\"00f637a2-920a-4836-84f2-00180451746d\",\"type\":\"ColumnDataSource\"}},\"id\":\"a1977077-f174-4369-9ad4-952f72e547ea\",\"type\":\"CDSView\"},{\"attributes\":{\"callback\":null},\"id\":\"cfa48e4f-632e-4e19-94b7-932ed81e7c25\",\"type\":\"DataRange1d\"},{\"attributes\":{},\"id\":\"bcf40f67-c4d5-47d7-8918-06f741831f35\",\"type\":\"BasicTickFormatter\"},{\"attributes\":{},\"id\":\"3ecf355b-0159-4206-87e7-06dc37d69f06\",\"type\":\"PanTool\"},{\"attributes\":{},\"id\":\"406c22cb-73e1-4101-bfb0-90f3a101b368\",\"type\":\"CategoricalTicker\"},{\"attributes\":{\"fill_color\":{\"value\":\"#1f77b4\"},\"line_color\":{\"value\":\"#1f77b4\"},\"top\":{\"field\":\"flux\"},\"width\":{\"value\":0.9},\"x\":{\"field\":\"band\"}},\"id\":\"dd762f8d-a532-4319-8409-e1050cdd8c0d\",\"type\":\"VBar\"},{\"attributes\":{\"data_source\":{\"id\":\"3777838c-6107-4c66-98e7-b694e1c48a24\",\"type\":\"ColumnDataSource\"},\"glyph\":{\"id\":\"dd762f8d-a532-4319-8409-e1050cdd8c0d\",\"type\":\"VBar\"},\"hover_glyph\":null,\"muted_glyph\":null,\"nonselection_glyph\":{\"id\":\"dab2f84b-19b4-4552-9921-6cd08b80f3ca\",\"type\":\"VBar\"},\"selection_glyph\":null,\"view\":{\"id\":\"16fd5701-9324-443a-9293-e5c0509a77c5\",\"type\":\"CDSView\"}},\"id\":\"626d71a1-8829-4a5a-8df8-a7e785f44ddc\",\"type\":\"GlyphRenderer\"},{\"attributes\":{\"fill_alpha\":{\"value\":0.1},\"fill_color\":{\"value\":\"#1f77b4\"},\"line_alpha\":{\"value\":0.1},\"line_color\":{\"value\":\"#1f77b4\"},\"top\":{\"field\":\"flux\"},\"width\":{\"value\":0.9},\"x\":{\"field\":\"band\"}},\"id\":\"bc4ddb40-e5fd-4f19-b5bd-f461a3ab5bc8\",\"type\":\"VBar\"},{\"attributes\":{},\"id\":\"b41e43a5-27b4-4fcd-be7f-3ea967bc3e1f\",\"type\":\"BasicTicker\"},{\"attributes\":{\"children\":[{\"id\":\"26af34a9-e5e6-4535-b495-f29ef4d1ce16\",\"subtype\":\"Figure\",\"type\":\"Plot\"},{\"id\":\"fc5026ab-cb96-445b-9496-1dcee60ac0d3\",\"subtype\":\"Figure\",\"type\":\"Plot\"},{\"id\":\"a59ee084-15af-4255-8c80-d1c0be8ba919\",\"subtype\":\"Figure\",\"type\":\"Plot\"}]},\"id\":\"c4db6231-89ab-414e-83d5-0f0645e33631\",\"type\":\"Row\"},{\"attributes\":{\"dimension\":1,\"plot\":{\"id\":\"a59ee084-15af-4255-8c80-d1c0be8ba919\",\"subtype\":\"Figure\",\"type\":\"Plot\"},\"ticker\":{\"id\":\"72c02c6f-ad08-4759-862a-183cf4298a50\",\"type\":\"BasicTicker\"}},\"id\":\"089f00ca-ad54-4df6-8d47-d425012a7b51\",\"type\":\"Grid\"},{\"attributes\":{\"plot\":null,\"text\":\"TOA flux. CLIRAD (single-run) - CRD.\"},\"id\":\"b60cd984-4c8b-48b1-b021-16e25607ba3e\",\"type\":\"Title\"},{\"attributes\":{},\"id\":\"f141a0eb-71ec-4920-be45-f712ebe6fd52\",\"type\":\"CategoricalTickFormatter\"},{\"attributes\":{},\"id\":\"50c4d9b7-de38-456c-8bcc-3d9147a0e8d3\",\"type\":\"UnionRenderers\"},{\"attributes\":{\"plot\":{\"id\":\"fc5026ab-cb96-445b-9496-1dcee60ac0d3\",\"subtype\":\"Figure\",\"type\":\"Plot\"},\"ticker\":{\"id\":\"d147f847-f95a-490e-bde0-6f6a95a85a72\",\"type\":\"CategoricalTicker\"}},\"id\":\"694fdbb3-dcd1-408e-a713-8a11b9fb38d5\",\"type\":\"Grid\"},{\"attributes\":{\"axis_label\":\"spectral band\",\"formatter\":{\"id\":\"f141a0eb-71ec-4920-be45-f712ebe6fd52\",\"type\":\"CategoricalTickFormatter\"},\"plot\":{\"id\":\"a59ee084-15af-4255-8c80-d1c0be8ba919\",\"subtype\":\"Figure\",\"type\":\"Plot\"},\"ticker\":{\"id\":\"406c22cb-73e1-4101-bfb0-90f3a101b368\",\"type\":\"CategoricalTicker\"}},\"id\":\"72defc2f-9e94-47d5-abc9-92b117099ac6\",\"type\":\"CategoricalAxis\"},{\"attributes\":{\"plot\":null,\"text\":\"Atmosphere heating. CLIRAD (single-run) - CRD.\"},\"id\":\"90c29361-2b21-45c8-b8eb-7c6f490be64d\",\"type\":\"Title\"},{\"attributes\":{\"overlay\":{\"id\":\"81051950-cd61-4dff-b166-abfbe0714702\",\"type\":\"BoxAnnotation\"}},\"id\":\"7ffd171c-c857-429b-b009-716c8099b489\",\"type\":\"BoxZoomTool\"},{\"attributes\":{},\"id\":\"518c28ed-28c5-4aab-bcd6-aa1688977c73\",\"type\":\"HelpTool\"},{\"attributes\":{\"data_source\":{\"id\":\"01080dea-5157-413b-aa1a-807b71532f3e\",\"type\":\"ColumnDataSource\"},\"glyph\":{\"id\":\"ad177e86-7900-4042-a88e-cdf9b285b4e5\",\"type\":\"VBar\"},\"hover_glyph\":null,\"muted_glyph\":null,\"nonselection_glyph\":{\"id\":\"bc4ddb40-e5fd-4f19-b5bd-f461a3ab5bc8\",\"type\":\"VBar\"},\"selection_glyph\":null,\"view\":{\"id\":\"bcbe2cc9-0701-4afe-8b45-1cc6e0845aae\",\"type\":\"CDSView\"}},\"id\":\"e6e3682b-3308-469a-8609-b836d36126b2\",\"type\":\"GlyphRenderer\"},{\"attributes\":{\"axis_label\":\"flux (W m-2)\",\"formatter\":{\"id\":\"48568147-5c70-4419-9518-3e20c896fcbf\",\"type\":\"BasicTickFormatter\"},\"plot\":{\"id\":\"a59ee084-15af-4255-8c80-d1c0be8ba919\",\"subtype\":\"Figure\",\"type\":\"Plot\"},\"ticker\":{\"id\":\"72c02c6f-ad08-4759-862a-183cf4298a50\",\"type\":\"BasicTicker\"}},\"id\":\"ec8e8209-bc2e-408b-856f-db8682be57fe\",\"type\":\"LinearAxis\"},{\"attributes\":{},\"id\":\"b4fd0142-bc6c-4f31-934a-961aba8ddf45\",\"type\":\"UnionRenderers\"},{\"attributes\":{\"active_drag\":\"auto\",\"active_inspect\":\"auto\",\"active_scroll\":\"auto\",\"active_tap\":\"auto\",\"tools\":[{\"id\":\"3ecf355b-0159-4206-87e7-06dc37d69f06\",\"type\":\"PanTool\"},{\"id\":\"41715a8b-83d6-4112-8d6c-0fdef93a133b\",\"type\":\"WheelZoomTool\"},{\"id\":\"7ffd171c-c857-429b-b009-716c8099b489\",\"type\":\"BoxZoomTool\"},{\"id\":\"da6df456-912e-4f83-bfec-1cced1360ca8\",\"type\":\"SaveTool\"},{\"id\":\"f4551eae-15c1-4ad7-aea9-5835076d97ce\",\"type\":\"ResetTool\"},{\"id\":\"518c28ed-28c5-4aab-bcd6-aa1688977c73\",\"type\":\"HelpTool\"}]},\"id\":\"9f2c0681-142c-4590-83ee-8ee22fea8cae\",\"type\":\"Toolbar\"},{\"attributes\":{\"callback\":null},\"id\":\"01d9ea9c-c2ad-4e82-9002-e795ce7ea655\",\"type\":\"DataRange1d\"},{\"attributes\":{},\"id\":\"5cc03e67-c840-4ba8-a9b9-e30c584d49db\",\"type\":\"HelpTool\"},{\"attributes\":{},\"id\":\"e60868aa-6d58-46dc-be73-05ff32de5607\",\"type\":\"CategoricalTickFormatter\"},{\"attributes\":{\"dimension\":1,\"plot\":{\"id\":\"fc5026ab-cb96-445b-9496-1dcee60ac0d3\",\"subtype\":\"Figure\",\"type\":\"Plot\"},\"ticker\":{\"id\":\"b41e43a5-27b4-4fcd-be7f-3ea967bc3e1f\",\"type\":\"BasicTicker\"}},\"id\":\"9d3614ec-15cd-4b79-9f2f-eebe29953294\",\"type\":\"Grid\"},{\"attributes\":{},\"id\":\"f4551eae-15c1-4ad7-aea9-5835076d97ce\",\"type\":\"ResetTool\"},{\"attributes\":{},\"id\":\"8057c06d-0d9e-4d88-ba77-242c33437633\",\"type\":\"UnionRenderers\"},{\"attributes\":{},\"id\":\"1ce1fb09-8472-452d-87c0-370435c25482\",\"type\":\"LinearScale\"},{\"attributes\":{\"plot\":{\"id\":\"a59ee084-15af-4255-8c80-d1c0be8ba919\",\"subtype\":\"Figure\",\"type\":\"Plot\"},\"ticker\":{\"id\":\"406c22cb-73e1-4101-bfb0-90f3a101b368\",\"type\":\"CategoricalTicker\"}},\"id\":\"3786ced2-0e64-4d55-9368-2e80368445d1\",\"type\":\"Grid\"},{\"attributes\":{\"source\":{\"id\":\"3777838c-6107-4c66-98e7-b694e1c48a24\",\"type\":\"ColumnDataSource\"}},\"id\":\"16fd5701-9324-443a-9293-e5c0509a77c5\",\"type\":\"CDSView\"},{\"attributes\":{},\"id\":\"c91570dd-d95c-454f-96e6-ade6a98dfbbc\",\"type\":\"PanTool\"},{\"attributes\":{},\"id\":\"da6df456-912e-4f83-bfec-1cced1360ca8\",\"type\":\"SaveTool\"},{\"attributes\":{},\"id\":\"51b4709e-b8d5-4d5f-9086-5cb6b255e945\",\"type\":\"PanTool\"},{\"attributes\":{\"children\":[{\"id\":\"c4db6231-89ab-414e-83d5-0f0645e33631\",\"type\":\"Row\"}]},\"id\":\"3e8be772-dc1a-4e55-b5cf-51b49e293df5\",\"type\":\"Column\"},{\"attributes\":{},\"id\":\"d147f847-f95a-490e-bde0-6f6a95a85a72\",\"type\":\"CategoricalTicker\"},{\"attributes\":{},\"id\":\"56fa63b7-ef50-46dc-a313-0d6a8992fc41\",\"type\":\"Selection\"},{\"attributes\":{\"overlay\":{\"id\":\"4af73cc0-cadc-4e1b-9108-b6b6f2f1a81b\",\"type\":\"BoxAnnotation\"}},\"id\":\"91303c1b-b947-4634-b4b9-4212ca4b3470\",\"type\":\"BoxZoomTool\"},{\"attributes\":{\"bottom_units\":\"screen\",\"fill_alpha\":{\"value\":0.5},\"fill_color\":{\"value\":\"lightgrey\"},\"left_units\":\"screen\",\"level\":\"overlay\",\"line_alpha\":{\"value\":1.0},\"line_color\":{\"value\":\"black\"},\"line_dash\":[4,4],\"line_width\":{\"value\":2},\"plot\":null,\"render_mode\":\"css\",\"right_units\":\"screen\",\"top_units\":\"screen\"},\"id\":\"4af73cc0-cadc-4e1b-9108-b6b6f2f1a81b\",\"type\":\"BoxAnnotation\"},{\"attributes\":{},\"id\":\"72c02c6f-ad08-4759-862a-183cf4298a50\",\"type\":\"BasicTicker\"},{\"attributes\":{\"tools\":[{\"id\":\"c91570dd-d95c-454f-96e6-ade6a98dfbbc\",\"type\":\"PanTool\"},{\"id\":\"c9879614-a58d-4253-a5a4-4930d6106a85\",\"type\":\"WheelZoomTool\"},{\"id\":\"4a9d2217-f737-43d1-9343-f2a44b8e785d\",\"type\":\"BoxZoomTool\"},{\"id\":\"be6c565f-a7c5-4300-865e-4f36d8550462\",\"type\":\"SaveTool\"},{\"id\":\"c134ae0a-f2ee-420a-b182-2e8c08f7156d\",\"type\":\"ResetTool\"},{\"id\":\"4abc0717-aa28-4305-bfc5-bc4c3bd8183b\",\"type\":\"HelpTool\"},{\"id\":\"3ecf355b-0159-4206-87e7-06dc37d69f06\",\"type\":\"PanTool\"},{\"id\":\"41715a8b-83d6-4112-8d6c-0fdef93a133b\",\"type\":\"WheelZoomTool\"},{\"id\":\"7ffd171c-c857-429b-b009-716c8099b489\",\"type\":\"BoxZoomTool\"},{\"id\":\"da6df456-912e-4f83-bfec-1cced1360ca8\",\"type\":\"SaveTool\"},{\"id\":\"f4551eae-15c1-4ad7-aea9-5835076d97ce\",\"type\":\"ResetTool\"},{\"id\":\"518c28ed-28c5-4aab-bcd6-aa1688977c73\",\"type\":\"HelpTool\"},{\"id\":\"51b4709e-b8d5-4d5f-9086-5cb6b255e945\",\"type\":\"PanTool\"},{\"id\":\"634b4663-df75-4d90-a2d0-42bf53da904e\",\"type\":\"WheelZoomTool\"},{\"id\":\"91303c1b-b947-4634-b4b9-4212ca4b3470\",\"type\":\"BoxZoomTool\"},{\"id\":\"5c4a47af-46ad-49b3-92d3-860730bf0ad6\",\"type\":\"SaveTool\"},{\"id\":\"5d7817c7-c184-498c-bf10-1faaceb01e3c\",\"type\":\"ResetTool\"},{\"id\":\"5cc03e67-c840-4ba8-a9b9-e30c584d49db\",\"type\":\"HelpTool\"}]},\"id\":\"0834b409-f738-4042-8f42-b01c4ee60e54\",\"type\":\"ProxyToolbar\"},{\"attributes\":{\"callback\":null,\"factors\":[\"1\",\"2\",\"3\",\"4\",\"5\",\"6\",\"7\",\"8\",\"9\",\"10\",\"11\"]},\"id\":\"397108b4-ed44-4971-a820-be1204b99a08\",\"type\":\"FactorRange\"},{\"attributes\":{\"source\":{\"id\":\"01080dea-5157-413b-aa1a-807b71532f3e\",\"type\":\"ColumnDataSource\"}},\"id\":\"bcbe2cc9-0701-4afe-8b45-1cc6e0845aae\",\"type\":\"CDSView\"},{\"attributes\":{},\"id\":\"5c4a47af-46ad-49b3-92d3-860730bf0ad6\",\"type\":\"SaveTool\"},{\"attributes\":{},\"id\":\"adb9c424-219b-4df6-8493-8c2868207184\",\"type\":\"LinearScale\"},{\"attributes\":{\"children\":[{\"id\":\"7a5b38e2-8267-4abb-b1c0-0b9e051c9c4d\",\"type\":\"ToolbarBox\"},{\"id\":\"3e8be772-dc1a-4e55-b5cf-51b49e293df5\",\"type\":\"Column\"}]},\"id\":\"d5dcf8dc-64b3-4952-baf9-49753cc226c5\",\"type\":\"Column\"},{\"attributes\":{\"callback\":null,\"data\":{\"band\":[\"1\",\"2\",\"3\",\"4\",\"5\",\"6\",\"7\",\"8\",\"9\",\"10\",\"11\"],\"flux\":{\"__ndarray__\":\"AMHG9e/6yj+AIqZEEr3UP0AomgewyNC/wKT4+ITs4T/gjqm7sgvwPygjLgCNAhJAcDum7souAUBAUrZI2g37P8DNGyeFedA/4PGprSLtwT+AOh4zUBniPw==\",\"dtype\":\"float64\",\"shape\":[11]}},\"selected\":{\"id\":\"57fb41f9-13fa-4c53-8030-7418979353c8\",\"type\":\"Selection\"},\"selection_policy\":{\"id\":\"50c4d9b7-de38-456c-8bcc-3d9147a0e8d3\",\"type\":\"UnionRenderers\"}},\"id\":\"01080dea-5157-413b-aa1a-807b71532f3e\",\"type\":\"ColumnDataSource\"},{\"attributes\":{\"fill_alpha\":{\"value\":0.1},\"fill_color\":{\"value\":\"#1f77b4\"},\"line_alpha\":{\"value\":0.1},\"line_color\":{\"value\":\"#1f77b4\"},\"top\":{\"field\":\"flux\"},\"width\":{\"value\":0.9},\"x\":{\"field\":\"band\"}},\"id\":\"dab2f84b-19b4-4552-9921-6cd08b80f3ca\",\"type\":\"VBar\"},{\"attributes\":{\"bottom_units\":\"screen\",\"fill_alpha\":{\"value\":0.5},\"fill_color\":{\"value\":\"lightgrey\"},\"left_units\":\"screen\",\"level\":\"overlay\",\"line_alpha\":{\"value\":1.0},\"line_color\":{\"value\":\"black\"},\"line_dash\":[4,4],\"line_width\":{\"value\":2},\"plot\":null,\"render_mode\":\"css\",\"right_units\":\"screen\",\"top_units\":\"screen\"},\"id\":\"81051950-cd61-4dff-b166-abfbe0714702\",\"type\":\"BoxAnnotation\"},{\"attributes\":{\"callback\":null,\"factors\":[\"1\",\"2\",\"3\",\"4\",\"5\",\"6\",\"7\",\"8\",\"9\",\"10\",\"11\"]},\"id\":\"6cbe3287-a5ba-498d-b8f2-7eb6706b10ff\",\"type\":\"FactorRange\"},{\"attributes\":{\"axis_label\":\"spectral band\",\"formatter\":{\"id\":\"e60868aa-6d58-46dc-be73-05ff32de5607\",\"type\":\"CategoricalTickFormatter\"},\"plot\":{\"id\":\"fc5026ab-cb96-445b-9496-1dcee60ac0d3\",\"subtype\":\"Figure\",\"type\":\"Plot\"},\"ticker\":{\"id\":\"d147f847-f95a-490e-bde0-6f6a95a85a72\",\"type\":\"CategoricalTicker\"}},\"id\":\"25ad92ab-e3b7-42b8-be99-a420595d95b6\",\"type\":\"CategoricalAxis\"},{\"attributes\":{\"below\":[{\"id\":\"72defc2f-9e94-47d5-abc9-92b117099ac6\",\"type\":\"CategoricalAxis\"}],\"left\":[{\"id\":\"ec8e8209-bc2e-408b-856f-db8682be57fe\",\"type\":\"LinearAxis\"}],\"plot_height\":300,\"plot_width\":300,\"renderers\":[{\"id\":\"72defc2f-9e94-47d5-abc9-92b117099ac6\",\"type\":\"CategoricalAxis\"},{\"id\":\"3786ced2-0e64-4d55-9368-2e80368445d1\",\"type\":\"Grid\"},{\"id\":\"ec8e8209-bc2e-408b-856f-db8682be57fe\",\"type\":\"LinearAxis\"},{\"id\":\"089f00ca-ad54-4df6-8d47-d425012a7b51\",\"type\":\"Grid\"},{\"id\":\"4af73cc0-cadc-4e1b-9108-b6b6f2f1a81b\",\"type\":\"BoxAnnotation\"},{\"id\":\"626d71a1-8829-4a5a-8df8-a7e785f44ddc\",\"type\":\"GlyphRenderer\"}],\"title\":{\"id\":\"90c29361-2b21-45c8-b8eb-7c6f490be64d\",\"type\":\"Title\"},\"toolbar\":{\"id\":\"f30ca5ab-eb9d-4736-96a9-ae4fd963bff6\",\"type\":\"Toolbar\"},\"toolbar_location\":null,\"x_range\":{\"id\":\"62ca353f-4d45-4f35-a777-f203ae09701c\",\"type\":\"FactorRange\"},\"x_scale\":{\"id\":\"90c4c7ba-b6ae-42a0-86c9-d96be1f01e37\",\"type\":\"CategoricalScale\"},\"y_range\":{\"id\":\"01d9ea9c-c2ad-4e82-9002-e795ce7ea655\",\"type\":\"DataRange1d\"},\"y_scale\":{\"id\":\"adb9c424-219b-4df6-8493-8c2868207184\",\"type\":\"LinearScale\"}},\"id\":\"a59ee084-15af-4255-8c80-d1c0be8ba919\",\"subtype\":\"Figure\",\"type\":\"Plot\"},{\"attributes\":{\"active_drag\":\"auto\",\"active_inspect\":\"auto\",\"active_scroll\":\"auto\",\"active_tap\":\"auto\",\"tools\":[{\"id\":\"51b4709e-b8d5-4d5f-9086-5cb6b255e945\",\"type\":\"PanTool\"},{\"id\":\"634b4663-df75-4d90-a2d0-42bf53da904e\",\"type\":\"WheelZoomTool\"},{\"id\":\"91303c1b-b947-4634-b4b9-4212ca4b3470\",\"type\":\"BoxZoomTool\"},{\"id\":\"5c4a47af-46ad-49b3-92d3-860730bf0ad6\",\"type\":\"SaveTool\"},{\"id\":\"5d7817c7-c184-498c-bf10-1faaceb01e3c\",\"type\":\"ResetTool\"},{\"id\":\"5cc03e67-c840-4ba8-a9b9-e30c584d49db\",\"type\":\"HelpTool\"}]},\"id\":\"f30ca5ab-eb9d-4736-96a9-ae4fd963bff6\",\"type\":\"Toolbar\"},{\"attributes\":{},\"id\":\"90c4c7ba-b6ae-42a0-86c9-d96be1f01e37\",\"type\":\"CategoricalScale\"},{\"attributes\":{},\"id\":\"634b4663-df75-4d90-a2d0-42bf53da904e\",\"type\":\"WheelZoomTool\"},{\"attributes\":{\"axis_label\":\"flux (W m-2)\",\"formatter\":{\"id\":\"bcf40f67-c4d5-47d7-8918-06f741831f35\",\"type\":\"BasicTickFormatter\"},\"plot\":{\"id\":\"fc5026ab-cb96-445b-9496-1dcee60ac0d3\",\"subtype\":\"Figure\",\"type\":\"Plot\"},\"ticker\":{\"id\":\"b41e43a5-27b4-4fcd-be7f-3ea967bc3e1f\",\"type\":\"BasicTicker\"}},\"id\":\"61a54494-3827-4417-979f-c5bf61a342ef\",\"type\":\"LinearAxis\"},{\"attributes\":{},\"id\":\"d325ce25-20d2-4702-8ed3-09a140c643a9\",\"type\":\"Selection\"},{\"attributes\":{\"active_drag\":\"auto\",\"active_inspect\":\"auto\",\"active_scroll\":\"auto\",\"active_tap\":\"auto\",\"tools\":[{\"id\":\"c91570dd-d95c-454f-96e6-ade6a98dfbbc\",\"type\":\"PanTool\"},{\"id\":\"c9879614-a58d-4253-a5a4-4930d6106a85\",\"type\":\"WheelZoomTool\"},{\"id\":\"4a9d2217-f737-43d1-9343-f2a44b8e785d\",\"type\":\"BoxZoomTool\"},{\"id\":\"be6c565f-a7c5-4300-865e-4f36d8550462\",\"type\":\"SaveTool\"},{\"id\":\"c134ae0a-f2ee-420a-b182-2e8c08f7156d\",\"type\":\"ResetTool\"},{\"id\":\"4abc0717-aa28-4305-bfc5-bc4c3bd8183b\",\"type\":\"HelpTool\"}]},\"id\":\"c7fa2dfe-4a48-41ab-aab2-09d62bae84d6\",\"type\":\"Toolbar\"},{\"attributes\":{},\"id\":\"880768c0-43b7-4833-93f2-780434f8a0c9\",\"type\":\"BasicTickFormatter\"},{\"attributes\":{\"callback\":null},\"id\":\"3c701d85-cf19-4303-942b-f2f32f5ed73e\",\"type\":\"DataRange1d\"},{\"attributes\":{\"callback\":null,\"factors\":[\"1\",\"2\",\"3\",\"4\",\"5\",\"6\",\"7\",\"8\",\"9\",\"10\",\"11\"]},\"id\":\"62ca353f-4d45-4f35-a777-f203ae09701c\",\"type\":\"FactorRange\"},{\"attributes\":{},\"id\":\"5d7817c7-c184-498c-bf10-1faaceb01e3c\",\"type\":\"ResetTool\"}],\"root_ids\":[\"d5dcf8dc-64b3-4952-baf9-49753cc226c5\"]},\"title\":\"Bokeh Application\",\"version\":\"0.12.16\"}};\n",
       "  var render_items = [{\"docid\":\"0b28ab7a-65cb-4c55-b5a6-147a7ad79184\",\"elementid\":\"ad28b137-a763-4e1c-8cd4-a33133a4a0e7\",\"modelid\":\"d5dcf8dc-64b3-4952-baf9-49753cc226c5\"}];\n",
       "  root.Bokeh.embed.embed_items_notebook(docs_json, render_items);\n",
       "\n",
       "  }\n",
       "  if (root.Bokeh !== undefined) {\n",
       "    embed_document(root);\n",
       "  } else {\n",
       "    var attempts = 0;\n",
       "    var timer = setInterval(function(root) {\n",
       "      if (root.Bokeh !== undefined) {\n",
       "        embed_document(root);\n",
       "        clearInterval(timer);\n",
       "      }\n",
       "      attempts++;\n",
       "      if (attempts > 100) {\n",
       "        console.log(\"Bokeh: ERROR: Unable to run BokehJS code because BokehJS library is missing\")\n",
       "        clearInterval(timer);\n",
       "      }\n",
       "    }, 10, root)\n",
       "  }\n",
       "})(window);"
      ],
      "application/vnd.bokehjs_exec.v0+json": ""
     },
     "metadata": {
      "application/vnd.bokehjs_exec.v0+json": {
       "id": "d5dcf8dc-64b3-4952-baf9-49753cc226c5"
      }
     },
     "output_type": "display_data"
    },
    {
     "data": {
      "text/markdown": [
       "*FIGURE.* Difference between CLIRAD and CRD in TOA, SFC and net atmosphere flux, in each spectral band."
      ],
      "text/plain": [
       "<IPython.core.display.Markdown object>"
      ]
     },
     "metadata": {},
     "output_type": "display_data"
    },
    {
     "data": {
      "text/html": [
       "<div>\n",
       "<style scoped>\n",
       "    .dataframe tbody tr th:only-of-type {\n",
       "        vertical-align: middle;\n",
       "    }\n",
       "\n",
       "    .dataframe tbody tr th {\n",
       "        vertical-align: top;\n",
       "    }\n",
       "\n",
       "    .dataframe thead th {\n",
       "        text-align: right;\n",
       "    }\n",
       "</style>\n",
       "<table border=\"1\" class=\"dataframe\">\n",
       "  <thead>\n",
       "    <tr style=\"text-align: right;\">\n",
       "      <th></th>\n",
       "      <th>OLR flux</th>\n",
       "      <th>SFC flux</th>\n",
       "      <th>ATM heating</th>\n",
       "    </tr>\n",
       "    <tr>\n",
       "      <th>Sum over bands</th>\n",
       "      <th></th>\n",
       "      <th></th>\n",
       "      <th></th>\n",
       "    </tr>\n",
       "  </thead>\n",
       "  <tbody>\n",
       "    <tr>\n",
       "      <th>CLIRAD (single-run) - CRD</th>\n",
       "      <td>11.14</td>\n",
       "      <td>1.61</td>\n",
       "      <td>-26.10</td>\n",
       "    </tr>\n",
       "    <tr>\n",
       "      <th>CRD</th>\n",
       "      <td>-303.40</td>\n",
       "      <td>337.24</td>\n",
       "      <td>-181.37</td>\n",
       "    </tr>\n",
       "  </tbody>\n",
       "</table>\n",
       "</div>"
      ],
      "text/plain": [
       "                           OLR flux  SFC flux  ATM heating\n",
       "Sum over bands                                            \n",
       "CLIRAD (single-run) - CRD     11.14      1.61       -26.10\n",
       "CRD                         -303.40    337.24      -181.37"
      ]
     },
     "metadata": {},
     "output_type": "display_data"
    },
    {
     "data": {
      "text/markdown": [
       "*TABLE.* Difference between CLIRAD and CRD in TOA, SFC and net atmosphere flux, over all spectral bands. CRD's TOA, SFC and net atmosphere flux, over all spectral bands."
      ],
      "text/plain": [
       "<IPython.core.display.Markdown object>"
      ]
     },
     "metadata": {},
     "output_type": "display_data"
    }
   ],
   "source": [
    "def show_html(s):\n",
    "    display.display(display.HTML(s))\n",
    "\n",
    "    \n",
    "def show_markdown(s):\n",
    "    display.display(display.Markdown(s))\n",
    "\n",
    "\n",
    "def script():\n",
    "    \n",
    "    d_atm = {'mls': 'mid-latitude summer',\n",
    "             'saw': 'sub-arctic winter',\n",
    "             'trp': 'tropical'}\n",
    "    \n",
    "    title = ('## Results over entire range of molecules'\n",
    "             ' and spectral bands')\n",
    "    \n",
    "    s_makeup = 'Makeup of atmosphere.'\n",
    "    s_atmpro = '# {}'\n",
    "    s_cool = 'Cooling rates. {}.'\n",
    "    s_flux = 'Fluxes. {}.'\n",
    "    \n",
    "    atmpros = ['mls', 'saw', 'trp']\n",
    "    \n",
    "    # TOC\n",
    "    show_markdown(title)\n",
    "    show_markdown('### Table of Contents')\n",
    "    show_html(climahtml.getHTML_hrefanchor(s_makeup))\n",
    "    for atmpro in atmpros:\n",
    "        show_markdown('**' + d_atm[atmpro] + '**')\n",
    "        show_html(climahtml.getHTML_hrefanchor(s_cool.format(atmpro)))\n",
    "        show_html(climahtml.getHTML_hrefanchor(s_flux.format(atmpro)))\n",
    "\n",
    "        \n",
    "    # Atmosphere makeup\n",
    "    show_html(climahtml.getHTML_idanchor(s_makeup))\n",
    "    show_markdown(climahtml.getMarkdown_sectitle(s_makeup))\n",
    "    show_makeup()\n",
    "    show_grey_makeup()\n",
    "        \n",
    "    for atmpro in atmpros:\n",
    "        show_html(climahtml.getHTML_idanchor(s_cool.format(atmpro)))\n",
    "        show_markdown(\n",
    "            climahtml.getMarkdown_sectitle(s_cool.format(atmpro)))\n",
    "        show_cool(atmpro=atmpro)\n",
    "        show_html(climahtml.getHTML_idanchor(s_flux.format(atmpro)))\n",
    "        show_markdown(\n",
    "            climahtml.getMarkdown_sectitle(s_flux.format(atmpro)))\n",
    "        show_hist_flux(atmpro=atmpro)\n",
    "        show_tb_flux(atmpro=atmpro)\n",
    "    \n",
    "    \n",
    "script()  "
   ]
  },
  {
   "cell_type": "code",
   "execution_count": null,
   "metadata": {
    "collapsed": true
   },
   "outputs": [],
   "source": []
  },
  {
   "cell_type": "code",
   "execution_count": 1114,
   "metadata": {},
   "outputs": [
    {
     "data": {
      "text/html": [
       "<script>\n",
       "code_show=true; \n",
       "function code_toggle() {\n",
       " if (code_show){\n",
       " $('div.input').hide();\n",
       " } else {\n",
       " $('div.input').show();\n",
       " }\n",
       " code_show = !code_show\n",
       "} \n",
       "$( document ).ready(code_toggle);\n",
       "</script>\n",
       "<form action=\"javascript:code_toggle()\"><input type=\"submit\" value=\"Click here to toggle on/off the raw code.\"></form>"
      ],
      "text/plain": [
       "<IPython.core.display.HTML object>"
      ]
     },
     "execution_count": 1114,
     "metadata": {},
     "output_type": "execute_result"
    }
   ],
   "source": [
    "display.HTML('''<script>\n",
    "code_show=true; \n",
    "function code_toggle() {\n",
    " if (code_show){\n",
    " $('div.input').hide();\n",
    " } else {\n",
    " $('div.input').show();\n",
    " }\n",
    " code_show = !code_show\n",
    "} \n",
    "$( document ).ready(code_toggle);\n",
    "</script>\n",
    "<form action=\"javascript:code_toggle()\"><input type=\"submit\" value=\"Click here to toggle on/off the raw code.\"></form>''')"
   ]
  },
  {
   "cell_type": "code",
   "execution_count": null,
   "metadata": {
    "collapsed": true
   },
   "outputs": [],
   "source": []
  }
 ],
 "metadata": {
  "kernelspec": {
   "display_name": "Python 3",
   "language": "python",
   "name": "python3"
  },
  "language_info": {
   "codemirror_mode": {
    "name": "ipython",
    "version": 3
   },
   "file_extension": ".py",
   "mimetype": "text/x-python",
   "name": "python",
   "nbconvert_exporter": "python",
   "pygments_lexer": "ipython3",
   "version": "3.6.1"
  }
 },
 "nbformat": 4,
 "nbformat_minor": 2
}
