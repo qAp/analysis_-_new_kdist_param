{
 "cells": [
  {
   "cell_type": "code",
   "execution_count": 1115,
   "metadata": {
    "collapsed": true
   },
   "outputs": [],
   "source": [
    "import os\n",
    "import ast\n",
    "import json\n",
    "import importlib \n",
    "import itertools\n",
    "import collections\n",
    "import pprint\n",
    "\n",
    "from bokeh.io import output_notebook, show\n",
    "from bokeh.layouts import gridplot\n",
    "from bokeh.plotting import figure\n",
    "from bokeh.models import Range1d, Legend, ColumnDataSource, FactorRange\n",
    "from bokeh.palettes import all_palettes\n",
    "from bokeh.transform import factor_cmap\n",
    "\n",
    "import matplotlib\n",
    "import matplotlib.pyplot as plt\n",
    "import numpy as np\n",
    "import pandas as pd\n",
    "import xarray as xr\n",
    "\n",
    "\n",
    "import climatools.lblnew.bestfit_params as bestfits\n",
    "from climatools.lblnew import setup_bestfit, setup_overlap\n",
    "import climatools.lblnew.pipeline as pipe_lblnew\n",
    "import climatools.cliradlw.setup as setup_cliradlw\n",
    "import climatools.cliradlw.pipeline as pipe_cliradlw\n",
    "\n",
    "import climatools.html.html as climahtml\n",
    "from climatools.lblnew.dataio import *\n",
    "from climatools.plot.plot import *\n",
    "\n",
    "\n",
    "from IPython import display\n",
    "\n",
    "#importlib.reload(bestfits)\n",
    "#importlib.reload(setup_bestfit)\n",
    "#importlib.reload(setup_overlap)\n",
    "#importlib.reload(pipe_lblnew)\n",
    "#importlib.reload(setup_cliradlw)\n",
    "#importlib.reload(pipe_cliradlw)"
   ]
  },
  {
   "cell_type": "code",
   "execution_count": 1116,
   "metadata": {
    "scrolled": true
   },
   "outputs": [
    {
     "data": {
      "text/html": [
       "\n",
       "    <div class=\"bk-root\">\n",
       "        <a href=\"https://bokeh.pydata.org\" target=\"_blank\" class=\"bk-logo bk-logo-small bk-logo-notebook\"></a>\n",
       "        <span id=\"76eb9a9b-e4ed-4392-96b7-a5cebb036e57\">Loading BokehJS ...</span>\n",
       "    </div>"
      ]
     },
     "metadata": {},
     "output_type": "display_data"
    },
    {
     "data": {
      "application/javascript": [
       "\n",
       "(function(root) {\n",
       "  function now() {\n",
       "    return new Date();\n",
       "  }\n",
       "\n",
       "  var force = true;\n",
       "\n",
       "  if (typeof (root._bokeh_onload_callbacks) === \"undefined\" || force === true) {\n",
       "    root._bokeh_onload_callbacks = [];\n",
       "    root._bokeh_is_loading = undefined;\n",
       "  }\n",
       "\n",
       "  var JS_MIME_TYPE = 'application/javascript';\n",
       "  var HTML_MIME_TYPE = 'text/html';\n",
       "  var EXEC_MIME_TYPE = 'application/vnd.bokehjs_exec.v0+json';\n",
       "  var CLASS_NAME = 'output_bokeh rendered_html';\n",
       "\n",
       "  /**\n",
       "   * Render data to the DOM node\n",
       "   */\n",
       "  function render(props, node) {\n",
       "    var script = document.createElement(\"script\");\n",
       "    node.appendChild(script);\n",
       "  }\n",
       "\n",
       "  /**\n",
       "   * Handle when an output is cleared or removed\n",
       "   */\n",
       "  function handleClearOutput(event, handle) {\n",
       "    var cell = handle.cell;\n",
       "\n",
       "    var id = cell.output_area._bokeh_element_id;\n",
       "    var server_id = cell.output_area._bokeh_server_id;\n",
       "    // Clean up Bokeh references\n",
       "    if (id !== undefined) {\n",
       "      Bokeh.index[id].model.document.clear();\n",
       "      delete Bokeh.index[id];\n",
       "    }\n",
       "\n",
       "    if (server_id !== undefined) {\n",
       "      // Clean up Bokeh references\n",
       "      var cmd = \"from bokeh.io.state import curstate; print(curstate().uuid_to_server['\" + server_id + \"'].get_sessions()[0].document.roots[0]._id)\";\n",
       "      cell.notebook.kernel.execute(cmd, {\n",
       "        iopub: {\n",
       "          output: function(msg) {\n",
       "            var element_id = msg.content.text.trim();\n",
       "            Bokeh.index[element_id].model.document.clear();\n",
       "            delete Bokeh.index[element_id];\n",
       "          }\n",
       "        }\n",
       "      });\n",
       "      // Destroy server and session\n",
       "      var cmd = \"import bokeh.io.notebook as ion; ion.destroy_server('\" + server_id + \"')\";\n",
       "      cell.notebook.kernel.execute(cmd);\n",
       "    }\n",
       "  }\n",
       "\n",
       "  /**\n",
       "   * Handle when a new output is added\n",
       "   */\n",
       "  function handleAddOutput(event, handle) {\n",
       "    var output_area = handle.output_area;\n",
       "    var output = handle.output;\n",
       "\n",
       "    // limit handleAddOutput to display_data with EXEC_MIME_TYPE content only\n",
       "    if ((output.output_type != \"display_data\") || (!output.data.hasOwnProperty(EXEC_MIME_TYPE))) {\n",
       "      return\n",
       "    }\n",
       "\n",
       "    var toinsert = output_area.element.find(\".\" + CLASS_NAME.split(' ')[0]);\n",
       "\n",
       "    if (output.metadata[EXEC_MIME_TYPE][\"id\"] !== undefined) {\n",
       "      toinsert[toinsert.length - 1].firstChild.textContent = output.data[JS_MIME_TYPE];\n",
       "      // store reference to embed id on output_area\n",
       "      output_area._bokeh_element_id = output.metadata[EXEC_MIME_TYPE][\"id\"];\n",
       "    }\n",
       "    if (output.metadata[EXEC_MIME_TYPE][\"server_id\"] !== undefined) {\n",
       "      var bk_div = document.createElement(\"div\");\n",
       "      bk_div.innerHTML = output.data[HTML_MIME_TYPE];\n",
       "      var script_attrs = bk_div.children[0].attributes;\n",
       "      for (var i = 0; i < script_attrs.length; i++) {\n",
       "        toinsert[toinsert.length - 1].firstChild.setAttribute(script_attrs[i].name, script_attrs[i].value);\n",
       "      }\n",
       "      // store reference to server id on output_area\n",
       "      output_area._bokeh_server_id = output.metadata[EXEC_MIME_TYPE][\"server_id\"];\n",
       "    }\n",
       "  }\n",
       "\n",
       "  function register_renderer(events, OutputArea) {\n",
       "\n",
       "    function append_mime(data, metadata, element) {\n",
       "      // create a DOM node to render to\n",
       "      var toinsert = this.create_output_subarea(\n",
       "        metadata,\n",
       "        CLASS_NAME,\n",
       "        EXEC_MIME_TYPE\n",
       "      );\n",
       "      this.keyboard_manager.register_events(toinsert);\n",
       "      // Render to node\n",
       "      var props = {data: data, metadata: metadata[EXEC_MIME_TYPE]};\n",
       "      render(props, toinsert[toinsert.length - 1]);\n",
       "      element.append(toinsert);\n",
       "      return toinsert\n",
       "    }\n",
       "\n",
       "    /* Handle when an output is cleared or removed */\n",
       "    events.on('clear_output.CodeCell', handleClearOutput);\n",
       "    events.on('delete.Cell', handleClearOutput);\n",
       "\n",
       "    /* Handle when a new output is added */\n",
       "    events.on('output_added.OutputArea', handleAddOutput);\n",
       "\n",
       "    /**\n",
       "     * Register the mime type and append_mime function with output_area\n",
       "     */\n",
       "    OutputArea.prototype.register_mime_type(EXEC_MIME_TYPE, append_mime, {\n",
       "      /* Is output safe? */\n",
       "      safe: true,\n",
       "      /* Index of renderer in `output_area.display_order` */\n",
       "      index: 0\n",
       "    });\n",
       "  }\n",
       "\n",
       "  // register the mime type if in Jupyter Notebook environment and previously unregistered\n",
       "  if (root.Jupyter !== undefined) {\n",
       "    var events = require('base/js/events');\n",
       "    var OutputArea = require('notebook/js/outputarea').OutputArea;\n",
       "\n",
       "    if (OutputArea.prototype.mime_types().indexOf(EXEC_MIME_TYPE) == -1) {\n",
       "      register_renderer(events, OutputArea);\n",
       "    }\n",
       "  }\n",
       "\n",
       "  \n",
       "  if (typeof (root._bokeh_timeout) === \"undefined\" || force === true) {\n",
       "    root._bokeh_timeout = Date.now() + 5000;\n",
       "    root._bokeh_failed_load = false;\n",
       "  }\n",
       "\n",
       "  var NB_LOAD_WARNING = {'data': {'text/html':\n",
       "     \"<div style='background-color: #fdd'>\\n\"+\n",
       "     \"<p>\\n\"+\n",
       "     \"BokehJS does not appear to have successfully loaded. If loading BokehJS from CDN, this \\n\"+\n",
       "     \"may be due to a slow or bad network connection. Possible fixes:\\n\"+\n",
       "     \"</p>\\n\"+\n",
       "     \"<ul>\\n\"+\n",
       "     \"<li>re-rerun `output_notebook()` to attempt to load from CDN again, or</li>\\n\"+\n",
       "     \"<li>use INLINE resources instead, as so:</li>\\n\"+\n",
       "     \"</ul>\\n\"+\n",
       "     \"<code>\\n\"+\n",
       "     \"from bokeh.resources import INLINE\\n\"+\n",
       "     \"output_notebook(resources=INLINE)\\n\"+\n",
       "     \"</code>\\n\"+\n",
       "     \"</div>\"}};\n",
       "\n",
       "  function display_loaded() {\n",
       "    var el = document.getElementById(\"76eb9a9b-e4ed-4392-96b7-a5cebb036e57\");\n",
       "    if (el != null) {\n",
       "      el.textContent = \"BokehJS is loading...\";\n",
       "    }\n",
       "    if (root.Bokeh !== undefined) {\n",
       "      if (el != null) {\n",
       "        el.textContent = \"BokehJS \" + root.Bokeh.version + \" successfully loaded.\";\n",
       "      }\n",
       "    } else if (Date.now() < root._bokeh_timeout) {\n",
       "      setTimeout(display_loaded, 100)\n",
       "    }\n",
       "  }\n",
       "\n",
       "\n",
       "  function run_callbacks() {\n",
       "    try {\n",
       "      root._bokeh_onload_callbacks.forEach(function(callback) { callback() });\n",
       "    }\n",
       "    finally {\n",
       "      delete root._bokeh_onload_callbacks\n",
       "    }\n",
       "    console.info(\"Bokeh: all callbacks have finished\");\n",
       "  }\n",
       "\n",
       "  function load_libs(js_urls, callback) {\n",
       "    root._bokeh_onload_callbacks.push(callback);\n",
       "    if (root._bokeh_is_loading > 0) {\n",
       "      console.log(\"Bokeh: BokehJS is being loaded, scheduling callback at\", now());\n",
       "      return null;\n",
       "    }\n",
       "    if (js_urls == null || js_urls.length === 0) {\n",
       "      run_callbacks();\n",
       "      return null;\n",
       "    }\n",
       "    console.log(\"Bokeh: BokehJS not loaded, scheduling load and callback at\", now());\n",
       "    root._bokeh_is_loading = js_urls.length;\n",
       "    for (var i = 0; i < js_urls.length; i++) {\n",
       "      var url = js_urls[i];\n",
       "      var s = document.createElement('script');\n",
       "      s.src = url;\n",
       "      s.async = false;\n",
       "      s.onreadystatechange = s.onload = function() {\n",
       "        root._bokeh_is_loading--;\n",
       "        if (root._bokeh_is_loading === 0) {\n",
       "          console.log(\"Bokeh: all BokehJS libraries loaded\");\n",
       "          run_callbacks()\n",
       "        }\n",
       "      };\n",
       "      s.onerror = function() {\n",
       "        console.warn(\"failed to load library \" + url);\n",
       "      };\n",
       "      console.log(\"Bokeh: injecting script tag for BokehJS library: \", url);\n",
       "      document.getElementsByTagName(\"head\")[0].appendChild(s);\n",
       "    }\n",
       "  };var element = document.getElementById(\"76eb9a9b-e4ed-4392-96b7-a5cebb036e57\");\n",
       "  if (element == null) {\n",
       "    console.log(\"Bokeh: ERROR: autoload.js configured with elementid '76eb9a9b-e4ed-4392-96b7-a5cebb036e57' but no matching script tag was found. \")\n",
       "    return false;\n",
       "  }\n",
       "\n",
       "  var js_urls = [\"https://cdn.pydata.org/bokeh/release/bokeh-0.12.16.min.js\", \"https://cdn.pydata.org/bokeh/release/bokeh-widgets-0.12.16.min.js\", \"https://cdn.pydata.org/bokeh/release/bokeh-tables-0.12.16.min.js\", \"https://cdn.pydata.org/bokeh/release/bokeh-gl-0.12.16.min.js\"];\n",
       "\n",
       "  var inline_js = [\n",
       "    function(Bokeh) {\n",
       "      Bokeh.set_log_level(\"info\");\n",
       "    },\n",
       "    \n",
       "    function(Bokeh) {\n",
       "      \n",
       "    },\n",
       "    function(Bokeh) {\n",
       "      console.log(\"Bokeh: injecting CSS: https://cdn.pydata.org/bokeh/release/bokeh-0.12.16.min.css\");\n",
       "      Bokeh.embed.inject_css(\"https://cdn.pydata.org/bokeh/release/bokeh-0.12.16.min.css\");\n",
       "      console.log(\"Bokeh: injecting CSS: https://cdn.pydata.org/bokeh/release/bokeh-widgets-0.12.16.min.css\");\n",
       "      Bokeh.embed.inject_css(\"https://cdn.pydata.org/bokeh/release/bokeh-widgets-0.12.16.min.css\");\n",
       "      console.log(\"Bokeh: injecting CSS: https://cdn.pydata.org/bokeh/release/bokeh-tables-0.12.16.min.css\");\n",
       "      Bokeh.embed.inject_css(\"https://cdn.pydata.org/bokeh/release/bokeh-tables-0.12.16.min.css\");\n",
       "    }\n",
       "  ];\n",
       "\n",
       "  function run_inline_js() {\n",
       "    \n",
       "    if ((root.Bokeh !== undefined) || (force === true)) {\n",
       "      for (var i = 0; i < inline_js.length; i++) {\n",
       "        inline_js[i].call(root, root.Bokeh);\n",
       "      }if (force === true) {\n",
       "        display_loaded();\n",
       "      }} else if (Date.now() < root._bokeh_timeout) {\n",
       "      setTimeout(run_inline_js, 100);\n",
       "    } else if (!root._bokeh_failed_load) {\n",
       "      console.log(\"Bokeh: BokehJS failed to load within specified timeout.\");\n",
       "      root._bokeh_failed_load = true;\n",
       "    } else if (force !== true) {\n",
       "      var cell = $(document.getElementById(\"76eb9a9b-e4ed-4392-96b7-a5cebb036e57\")).parents('.cell').data().cell;\n",
       "      cell.output_area.append_execute_result(NB_LOAD_WARNING)\n",
       "    }\n",
       "\n",
       "  }\n",
       "\n",
       "  if (root._bokeh_is_loading === 0) {\n",
       "    console.log(\"Bokeh: BokehJS loaded, going straight to plotting\");\n",
       "    run_inline_js();\n",
       "  } else {\n",
       "    load_libs(js_urls, function() {\n",
       "      console.log(\"Bokeh: BokehJS plotting callback run at\", now());\n",
       "      run_inline_js();\n",
       "    });\n",
       "  }\n",
       "}(window));"
      ],
      "application/vnd.bokehjs_load.v0+json": "\n(function(root) {\n  function now() {\n    return new Date();\n  }\n\n  var force = true;\n\n  if (typeof (root._bokeh_onload_callbacks) === \"undefined\" || force === true) {\n    root._bokeh_onload_callbacks = [];\n    root._bokeh_is_loading = undefined;\n  }\n\n  \n\n  \n  if (typeof (root._bokeh_timeout) === \"undefined\" || force === true) {\n    root._bokeh_timeout = Date.now() + 5000;\n    root._bokeh_failed_load = false;\n  }\n\n  var NB_LOAD_WARNING = {'data': {'text/html':\n     \"<div style='background-color: #fdd'>\\n\"+\n     \"<p>\\n\"+\n     \"BokehJS does not appear to have successfully loaded. If loading BokehJS from CDN, this \\n\"+\n     \"may be due to a slow or bad network connection. Possible fixes:\\n\"+\n     \"</p>\\n\"+\n     \"<ul>\\n\"+\n     \"<li>re-rerun `output_notebook()` to attempt to load from CDN again, or</li>\\n\"+\n     \"<li>use INLINE resources instead, as so:</li>\\n\"+\n     \"</ul>\\n\"+\n     \"<code>\\n\"+\n     \"from bokeh.resources import INLINE\\n\"+\n     \"output_notebook(resources=INLINE)\\n\"+\n     \"</code>\\n\"+\n     \"</div>\"}};\n\n  function display_loaded() {\n    var el = document.getElementById(\"76eb9a9b-e4ed-4392-96b7-a5cebb036e57\");\n    if (el != null) {\n      el.textContent = \"BokehJS is loading...\";\n    }\n    if (root.Bokeh !== undefined) {\n      if (el != null) {\n        el.textContent = \"BokehJS \" + root.Bokeh.version + \" successfully loaded.\";\n      }\n    } else if (Date.now() < root._bokeh_timeout) {\n      setTimeout(display_loaded, 100)\n    }\n  }\n\n\n  function run_callbacks() {\n    try {\n      root._bokeh_onload_callbacks.forEach(function(callback) { callback() });\n    }\n    finally {\n      delete root._bokeh_onload_callbacks\n    }\n    console.info(\"Bokeh: all callbacks have finished\");\n  }\n\n  function load_libs(js_urls, callback) {\n    root._bokeh_onload_callbacks.push(callback);\n    if (root._bokeh_is_loading > 0) {\n      console.log(\"Bokeh: BokehJS is being loaded, scheduling callback at\", now());\n      return null;\n    }\n    if (js_urls == null || js_urls.length === 0) {\n      run_callbacks();\n      return null;\n    }\n    console.log(\"Bokeh: BokehJS not loaded, scheduling load and callback at\", now());\n    root._bokeh_is_loading = js_urls.length;\n    for (var i = 0; i < js_urls.length; i++) {\n      var url = js_urls[i];\n      var s = document.createElement('script');\n      s.src = url;\n      s.async = false;\n      s.onreadystatechange = s.onload = function() {\n        root._bokeh_is_loading--;\n        if (root._bokeh_is_loading === 0) {\n          console.log(\"Bokeh: all BokehJS libraries loaded\");\n          run_callbacks()\n        }\n      };\n      s.onerror = function() {\n        console.warn(\"failed to load library \" + url);\n      };\n      console.log(\"Bokeh: injecting script tag for BokehJS library: \", url);\n      document.getElementsByTagName(\"head\")[0].appendChild(s);\n    }\n  };var element = document.getElementById(\"76eb9a9b-e4ed-4392-96b7-a5cebb036e57\");\n  if (element == null) {\n    console.log(\"Bokeh: ERROR: autoload.js configured with elementid '76eb9a9b-e4ed-4392-96b7-a5cebb036e57' but no matching script tag was found. \")\n    return false;\n  }\n\n  var js_urls = [\"https://cdn.pydata.org/bokeh/release/bokeh-0.12.16.min.js\", \"https://cdn.pydata.org/bokeh/release/bokeh-widgets-0.12.16.min.js\", \"https://cdn.pydata.org/bokeh/release/bokeh-tables-0.12.16.min.js\", \"https://cdn.pydata.org/bokeh/release/bokeh-gl-0.12.16.min.js\"];\n\n  var inline_js = [\n    function(Bokeh) {\n      Bokeh.set_log_level(\"info\");\n    },\n    \n    function(Bokeh) {\n      \n    },\n    function(Bokeh) {\n      console.log(\"Bokeh: injecting CSS: https://cdn.pydata.org/bokeh/release/bokeh-0.12.16.min.css\");\n      Bokeh.embed.inject_css(\"https://cdn.pydata.org/bokeh/release/bokeh-0.12.16.min.css\");\n      console.log(\"Bokeh: injecting CSS: https://cdn.pydata.org/bokeh/release/bokeh-widgets-0.12.16.min.css\");\n      Bokeh.embed.inject_css(\"https://cdn.pydata.org/bokeh/release/bokeh-widgets-0.12.16.min.css\");\n      console.log(\"Bokeh: injecting CSS: https://cdn.pydata.org/bokeh/release/bokeh-tables-0.12.16.min.css\");\n      Bokeh.embed.inject_css(\"https://cdn.pydata.org/bokeh/release/bokeh-tables-0.12.16.min.css\");\n    }\n  ];\n\n  function run_inline_js() {\n    \n    if ((root.Bokeh !== undefined) || (force === true)) {\n      for (var i = 0; i < inline_js.length; i++) {\n        inline_js[i].call(root, root.Bokeh);\n      }if (force === true) {\n        display_loaded();\n      }} else if (Date.now() < root._bokeh_timeout) {\n      setTimeout(run_inline_js, 100);\n    } else if (!root._bokeh_failed_load) {\n      console.log(\"Bokeh: BokehJS failed to load within specified timeout.\");\n      root._bokeh_failed_load = true;\n    } else if (force !== true) {\n      var cell = $(document.getElementById(\"76eb9a9b-e4ed-4392-96b7-a5cebb036e57\")).parents('.cell').data().cell;\n      cell.output_area.append_execute_result(NB_LOAD_WARNING)\n    }\n\n  }\n\n  if (root._bokeh_is_loading === 0) {\n    console.log(\"Bokeh: BokehJS loaded, going straight to plotting\");\n    run_inline_js();\n  } else {\n    load_libs(js_urls, function() {\n      console.log(\"Bokeh: BokehJS plotting callback run at\", now());\n      run_inline_js();\n    });\n  }\n}(window));"
     },
     "metadata": {},
     "output_type": "display_data"
    }
   ],
   "source": [
    "output_notebook()"
   ]
  },
  {
   "cell_type": "code",
   "execution_count": 1117,
   "metadata": {
    "collapsed": true
   },
   "outputs": [],
   "source": [
    "'''\n",
    "Get the clirad-lw and lblnew `param`s for all spectral bands.  \n",
    "These are returned by functions `clirad_params_atm` and\n",
    "`lblnew_params_atm`, respectively.\n",
    "'''\n",
    "\n",
    "def molecules_byband_atm():\n",
    "    return {1: {'h2o': 'atmpro'},\n",
    "            2: {'h2o': 'atmpro'}, \n",
    "            3: {'co2': 0.0004, 'h2o': 'atmpro', 'n2o': 3.2e-07},\n",
    "            4: {'co2': 0.0004, 'h2o': 'atmpro'},\n",
    "            5: {'co2': 0.0004, 'h2o': 'atmpro'},\n",
    "            6: {'co2': 0.0004, 'h2o': 'atmpro'},\n",
    "            7: {'co2': 0.0004, 'h2o': 'atmpro', 'o3': 'atmpro'},\n",
    "            8: {'h2o': 'atmpro'},\n",
    "            9: {'ch4': 1.8e-06, 'h2o': 'atmpro', 'n2o': 3.2e-07},\n",
    "            10: {'h2o': 'atmpro'},\n",
    "            11: {'co2': 0.0004, 'h2o': 'atmpro'}}\n",
    "\n",
    "\n",
    "def greyabsorbers_by_band_atm():\n",
    "    return {1: {'con': 'atmpro'},\n",
    "            2: {'con': 'atmpro'},\n",
    "            3: {'con': 'atmpro'},\n",
    "            4: {'con': 'atmpro'},\n",
    "            5: {'con': 'atmpro'},\n",
    "            6: {'con': 'atmpro'}, \n",
    "            7: {'con': 'atmpro'},\n",
    "            8: {'con': 'atmpro', 'n2o': 3.2e-7}, \n",
    "            9: {'con': 'atmpro'}, \n",
    "            10: None,\n",
    "            11: None}\n",
    "\n",
    "\n",
    "def clirad_params_atm(atmpro='mls'):\n",
    "    d = {}\n",
    "    for band, molecule in molecules_byband_atm().items():\n",
    "        for param in setup_cliradlw.test_cases():\n",
    "            if [band] == param['band'] and molecule == param['molecule']:\n",
    "                param['atmpro'] = atmpro\n",
    "                d[band] = param\n",
    "                break                \n",
    "    return d\n",
    "\n",
    "\n",
    "def clirad_params_atm_singlerun(atmpro='mls'):\n",
    "    '''\n",
    "    Returns param of clirad-lw run that is equivalent to the total\n",
    "    of all the runs listed in molecules_byband_atm().  In order\n",
    "    for the output to be compatible with clirad_data_atm(), it will\n",
    "    be a list.\n",
    "    '''\n",
    "    param0 = {'band': [1, 2, 3, 4, 5, 6, 7, 8, 9, 10, 11],\n",
    "              'commitnumber': '3dcf96a',\n",
    "              'molecule': {'ch4': 1.8e-06,\n",
    "                           'co2': 0.0004,\n",
    "                           'h2o': 'atmpro',\n",
    "                           'n2o': 3.2e-07,\n",
    "                           'o3': 'atmpro'}}\n",
    "    \n",
    "    d_atmpros = {'mls': 294, 'saw': 257, 'trp': 300}\n",
    "    \n",
    "    param = param0.copy()\n",
    "    param['atmpro'] = atmpro\n",
    "    param['tsfc'] = d_atmpros[atmpro]\n",
    "    \n",
    "    d = {}\n",
    "    d['all'] = param\n",
    "    return d\n",
    "\n",
    "\n",
    "def analysis_dirs_atm(atmpro='mls'):\n",
    "    params = clirad_params_atm(atmpro=atmpro)\n",
    "    return {band: pipe_cliradlw.get_analysis_dir(param=param,\n",
    "                                                 setup=setup_cliradlw) \n",
    "            for band, param in params.items()}\n",
    "\n",
    "\n",
    "def lblnew_params_atm(atmpro='mls'):\n",
    "    dirs = analysis_dirs_atm(atmpro=atmpro)\n",
    "    \n",
    "    d = {}\n",
    "    for band, dirname in dirs.items():\n",
    "        with open(os.path.join(dirname, 'param.py'), \n",
    "                  mode='r', encoding='utf-8') as f:\n",
    "            _, l = f.readlines()\n",
    "        \n",
    "        s = l.split('=')[1].strip()\n",
    "        d[band] = ast.literal_eval(s)\n",
    "        \n",
    "    return d\n"
   ]
  },
  {
   "cell_type": "code",
   "execution_count": 1118,
   "metadata": {
    "collapsed": true
   },
   "outputs": [],
   "source": [
    "def db_getdir():\n",
    "    atmpro = 'mls'\n",
    "    params = clirad_params_atm_singlerun(atmpro=atmpro)\n",
    "    param = params['all']\n",
    "    \n",
    "    fdir = pipe_cliradlw.get_fortran_dir(param=param, \n",
    "                                         setup=setup_cliradlw)\n",
    "    return fdir\n",
    "\n",
    "\n",
    "def db_ktable():\n",
    "    fdir = db_getdir()    \n",
    "    fpath = os.path.join(fdir, 'ktable.dat')\n",
    "    \n",
    "    df = pd.read_csv(fpath, sep=r'\\s+')\n",
    "    df = df.set_index(['band', 'mid', 'il', 'it', 'g'])\n",
    "    ds = xr.Dataset.from_dataframe(df)\n",
    "    return ds\n",
    "\n",
    "\n",
    "def db_ng_dgs():\n",
    "    fdir = db_getdir()\n",
    "    fpath = os.path.join(fdir, 'ng_dgs.dat')\n",
    "    \n",
    "    df = pd.read_csv(fpath, sep=r'\\s+')\n",
    "    df = df.set_index(['band', 'mid', 'g'])\n",
    "    ds = xr.Dataset.from_dataframe(df)\n",
    "    return ds\n"
   ]
  },
  {
   "cell_type": "code",
   "execution_count": 1119,
   "metadata": {
    "collapsed": true
   },
   "outputs": [],
   "source": [
    "def show_makeup():\n",
    "    df = pd.DataFrame()\n",
    "\n",
    "    for band, molecule in molecules_byband_atm().items():\n",
    "        for name, conc in molecule.items():\n",
    "            df.loc[name, band] = str(conc)\n",
    "\n",
    "    df = df.fillna(0)\n",
    "    df.columns.name = 'clirad band'\n",
    "    df.index.name = 'molecule'\n",
    "    \n",
    "    display.display(df)\n",
    "    \n",
    "    display.display(\n",
    "        display.Markdown('*TABLE.* Non-grey absorbers in the atmosphere.'))\n",
    "\n",
    "\n",
    "def show_grey_makeup():\n",
    "    df = pd.DataFrame()\n",
    "    \n",
    "    for band, molecule in greyabsorbers_by_band_atm().items():\n",
    "        if molecule == None:\n",
    "            pass\n",
    "        else:\n",
    "            for name, conc in molecule.items():\n",
    "                df.loc[name, band] = str(conc)\n",
    "                \n",
    "    df = df.fillna(0)\n",
    "    df.columns.name = 'clirad band'\n",
    "    df.index.name = 'absorber'\n",
    "    \n",
    "    display.display(df)\n",
    "    display.display(\n",
    "        display.Markdown('*TABLE.* Grey absorbers in the atmosphere.')\n",
    "    )"
   ]
  },
  {
   "cell_type": "code",
   "execution_count": 1120,
   "metadata": {
    "collapsed": true
   },
   "outputs": [],
   "source": [
    "def load_output_file(path_csv):\n",
    "    '''\n",
    "    Load lblnew output .csv file to xarray.Dataset\n",
    "    \n",
    "    Parameters\n",
    "    ----------\n",
    "    path_csv: str\n",
    "              Path to the .csv file to be loaded.\n",
    "    ds: xarray.Dataset\n",
    "        Data in the input file in the form of an xarray.Dataset.\n",
    "    '''\n",
    "    toindex = ['band', 'pressure', 'igg', 'g']    \n",
    "    df = pd.read_csv(path_csv, sep=r'\\s+')\n",
    "    df = df.set_index([i for i in toindex if i in df.columns])\n",
    "    df = df.rename(columns={'sfu': 'flug',\n",
    "                            'sfd': 'fldg',\n",
    "                            'fnet': 'fnetg',\n",
    "                            'coolr': 'coolrg'})\n",
    "    ds = xr.Dataset.from_dataframe(df)\n",
    "\n",
    "    for l in ('level', 'layer'):\n",
    "        if l in ds.data_vars:\n",
    "            if len(ds[l].dims) > 1:\n",
    "                surface = {d: 0 for d in ds.dims if d != 'pressure'}\n",
    "                coord_level = ds[l][surface]\n",
    "                ds.coords[l] = ('pressure', coord_level)\n",
    "            else:\n",
    "                ds.coords[l] = ('pressure', ds[l])\n",
    "    \n",
    "    return ds"
   ]
  },
  {
   "cell_type": "code",
   "execution_count": 1121,
   "metadata": {
    "collapsed": true
   },
   "outputs": [],
   "source": [
    "def lblnew_setup(param=None):\n",
    "    if 'ng_refs' in param:\n",
    "        return {'setup': setup_bestfit,\n",
    "                'fname_flux_crd': 'output_flux.dat',\n",
    "                'fname_cool_crd': 'output_coolr.dat',\n",
    "                'fname_flux_wgt': 'output_wfluxg.dat',\n",
    "                'fname_cool_wgt': 'output_wcoolrg.dat'}\n",
    "    else:\n",
    "        return {'setup': setup_overlap,\n",
    "                'fname_flux_crd': 'output_flux.dat',\n",
    "                'fname_cool_crd': 'output_coolr.dat',\n",
    "                'fname_flux_wgt': 'output_wflux.dat',\n",
    "                'fname_cool_wgt': 'output_wcoolr.dat'}\n",
    "\n",
    "    \n",
    "def load_lblnew_data(param):\n",
    "    \n",
    "    fname_dsname = [('fname_flux_crd', 'ds_flux_crd'),\n",
    "                    ('fname_cool_crd', 'ds_cool_crd'),\n",
    "                    ('fname_flux_wgt', 'ds_flux_wgt'),\n",
    "                    ('fname_cool_wgt', 'ds_cool_wgt')]\n",
    "    \n",
    "    d = lblnew_setup(param)\n",
    "    dir_fortran = pipe_lblnew.get_dir_case(param, setup=d['setup'])\n",
    "    \n",
    "    data_dict = {}\n",
    "    for fname, dsname in fname_dsname:\n",
    "        fpath = os.path.join(dir_fortran, d[fname])\n",
    "        data_dict[dsname] = load_output_file(fpath)\n",
    "    return data_dict"
   ]
  },
  {
   "cell_type": "code",
   "execution_count": 1122,
   "metadata": {
    "collapsed": true
   },
   "outputs": [],
   "source": [
    "def crd_data_atm(params_atm):\n",
    "    '''\n",
    "    Parameters\n",
    "    ----------\n",
    "    \n",
    "    params_atm: dict\n",
    "                Parameter dictionary for each band.\n",
    "                \n",
    "    d: dict\n",
    "       'flux': xr.Dataset. [pressure, band]\n",
    "               Fluxes.\n",
    "       'cool': xr.Dataset. [pressure, band]\n",
    "               Cooling rate.\n",
    "    \n",
    "    '''\n",
    "    \n",
    "    results_atm = {band: load_lblnew_data(param) \n",
    "                   for band, param in params_atm.items()}\n",
    "    \n",
    "    bands = [band for band, _ in params_atm.items()]\n",
    "    fluxs = [d['ds_flux_crd'] for _, d in results_atm.items()]\n",
    "    cools = [d['ds_cool_crd'] for _, d in results_atm.items()]\n",
    "    \n",
    "    d = {}\n",
    "    d['flux'] = xr.concat(fluxs, dim=bands).rename({'concat_dim': 'band'})\n",
    "    d['cool'] = xr.concat(cools, dim=bands).rename({'concat_dim': 'band'})\n",
    "    return d        \n",
    "        \n",
    "        \n",
    "\n",
    "def clirad_data_atm(params_atm):\n",
    "    \n",
    "    dirnames = [pipe_cliradlw.get_fortran_dir(param,\n",
    "                                              setup=setup_cliradlw)\n",
    "                for _, param in params_atm.items()]\n",
    "    \n",
    "    fpaths_flux = [os.path.join(n, 'output_flux.dat') for n in dirnames]\n",
    "    fpaths_cool = [os.path.join(n, 'output_coolr.dat') for n in dirnames]\n",
    "    \n",
    "    fluxs = [load_output_file(p) for p in fpaths_flux]    \n",
    "    cools = [load_output_file(p) for p in fpaths_cool]\n",
    "    \n",
    "    d = {}\n",
    "    d['flux'] = sum(fluxs)\n",
    "    d['cool'] = sum(cools)\n",
    "    return d\n",
    "\n"
   ]
  },
  {
   "cell_type": "code",
   "execution_count": 1123,
   "metadata": {
    "collapsed": true
   },
   "outputs": [],
   "source": [
    "\n",
    "\n",
    "import rtmtools.clirad.sw.wrangle as cliradwrangle\n",
    "\n",
    "import importlib\n",
    "importlib.reload(cliradwrangle)\n",
    "\n",
    "def oldclirad_data_atm():\n",
    "    '''\n",
    "    Load the OLD clirad's results. mls only.\n",
    "    '''\n",
    "    fpath = os.path.join('/chia_cluster/home/jackyu/radiation',\n",
    "                         'clirad-lw',\n",
    "                         'LW',\n",
    "                         'examples',\n",
    "                         'mls75_h2o_atmpro_co2_.0004_o3_atmpro_n2o_3.2e-7_ch4_1.8e-6_H2012',\n",
    "                         'OUTPUT_CLIRAD.dat')\n",
    "    \n",
    "    ds = cliradwrangle.load_OUTPUT_CLIRAD(readfrom=fpath)\n",
    "    \n",
    "    ds_cool = xr.Dataset()\n",
    "    ds_cool.coords['pressure'] = ('pressure', ds['layer_pressure'])\n",
    "    ds_cool.coords['band'] = ('band', ds['spectral_band'])\n",
    "    ds_cool['coolrg'] = (('band', 'pressure'), - ds['heating_rate'])\n",
    "    \n",
    "    ds_flux = xr.Dataset()\n",
    "    ds_flux.coords['pressure'] = ('pressure', ds['level_pressure'])\n",
    "    ds_flux.coords['band'] = ('band', ds['spectral_band'])\n",
    "    ds_flux['flug'] = (('band', 'pressure'), ds['flux_up'])\n",
    "    ds_flux['fldg'] = (('band', 'pressure'), ds['flux_down'])\n",
    "    ds_flux['fnetg'] = (('band', 'pressure'), ds['net_flux'])\n",
    "    \n",
    "    \n",
    "    d = {}\n",
    "    d['cool'] = ds_cool\n",
    "    d['flux'] = ds_flux\n",
    "    return d\n"
   ]
  },
  {
   "cell_type": "code",
   "execution_count": 1124,
   "metadata": {
    "collapsed": true
   },
   "outputs": [],
   "source": [
    "def fmt_cool(ds_in):\n",
    "    ds = ds_in.copy(deep=True)\n",
    "    if 'igg' in ds.dims:\n",
    "        ds = ds.sel(igg=1)\n",
    "\n",
    "    if 'g' in ds.dims:\n",
    "        ds = ds.sum('g')\n",
    "            \n",
    "    if 'band' in ds.dims:\n",
    "        try:\n",
    "            ds = ds.squeeze('band')\n",
    "        except ValueError:\n",
    "            ds = ds.sum('band')\n",
    "                \n",
    "    return ds['coolrg']\n",
    "\n",
    "\n",
    "\n",
    "def nice_xlims(pltdata=None, prange=None):\n",
    "    \n",
    "    def get_slice(srs):\n",
    "        return srs.sel(pressure=slice(*prange))\n",
    "    \n",
    "    srss = [d['srs'] for d in pltdata]\n",
    "    vmin = min([get_slice(srs).min() for srs in srss])\n",
    "    vmax = max([get_slice(srs).max() for srs in srss])\n",
    "    dv = (vmax - vmin) * .01\n",
    "    return float(vmin - dv), float(vmax + dv)\n",
    "\n",
    "\n",
    "    \n",
    "def plt_cool_bokeh(pltdata=None, \n",
    "                   y_axis_type='linear', prange=(50, 1050)):\n",
    "    \n",
    "    ymin = 1e-2 \n",
    "    ymax = 1020\n",
    "    \n",
    "    p2 = figure(y_axis_type=y_axis_type, plot_width=300)\n",
    "    xmin, xmax = nice_xlims(pltdata, prange=prange)\n",
    "    \n",
    "    rs = []\n",
    "    for d in pltdata:\n",
    "        rd = []\n",
    "        if 'marker' in d:\n",
    "            r_mark = getattr(p2, d['marker'])(d['srs'].values, \n",
    "                        d['srs'].coords['pressure'].values,\n",
    "                        color=d['color'], alpha=.7)\n",
    "            rd.append(r_mark)\n",
    "        r_line = p2.line(d['srs'].values, \n",
    "                         d['srs'].coords['pressure'].values,\n",
    "                         color=d['color'], alpha=d['alpha'], \n",
    "                         line_width=d['line_width'], \n",
    "                         line_dash=d['line_dash'])\n",
    "        rd.append(r_line)\n",
    "      \n",
    "        rs.append(rd)\n",
    "        \n",
    "    p2.y_range = Range1d(ymax, ymin)  \n",
    "    p2.yaxis.axis_label = 'pressure [mb]'\n",
    "    \n",
    "    p2.x_range = Range1d(xmin, xmax)\n",
    "    p2.xaxis.axis_label = 'cooling rate [K/day]'\n",
    "    \n",
    "    items = [(d['label'], r) for r, d in zip(rs, pltdata)]\n",
    "    legend = Legend(items=items, location=(10, 0))\n",
    "    legend.label_text_font_size = '8pt'\n",
    "    p2.add_layout(legend, 'above')\n",
    "    p2.legend.orientation = 'horizontal'\n",
    "    p2.legend.location = 'top_center'\n",
    "    \n",
    "    return p2"
   ]
  },
  {
   "cell_type": "code",
   "execution_count": 1125,
   "metadata": {
    "collapsed": true
   },
   "outputs": [],
   "source": [
    "def pltdata_cool(atmpro='mls'):\n",
    "    \n",
    "    d_clirad_singlerun = clirad_data_atm(\n",
    "        clirad_params_atm_singlerun(atmpro=atmpro))\n",
    "    d_clirad = clirad_data_atm(clirad_params_atm(atmpro=atmpro))\n",
    "    d_crd = crd_data_atm(lblnew_params_atm(atmpro=atmpro))\n",
    "\n",
    "    ds_clirad_singlerun = d_clirad_singlerun['cool']\n",
    "    ds_clirad = d_clirad['cool']\n",
    "    ds_crd = d_crd['cool']\n",
    "\n",
    "    colors = all_palettes['Set1'][4]\n",
    "    \n",
    "    data = [\n",
    "        {'label': 'CLIRAD (single-run)',\n",
    "        'srs': fmt_cool(ds_clirad_singlerun),\n",
    "        'line_dash': 'dashed', 'line_width': 5,\n",
    "        'color': colors[1], 'alpha': .6},\n",
    "        {'label': 'CRD',\n",
    "         'srs': fmt_cool(ds_crd),\n",
    "         'line_dash': 'solid', 'line_width': 1.5,\n",
    "         'marker': 'circle', 'marker_size': 5,\n",
    "         'color': colors[2], 'alpha': 1}\n",
    "    ]\n",
    "#        {'label': 'CLIRAD',\n",
    "#         'srs': fmt_cool(ds_clirad),\n",
    "#         'line_dash': 'dashed', 'line_width': 5,\n",
    "#         'color': colors[0], 'alpha': .6}\n",
    "        \n",
    "\n",
    "    \n",
    "    # include old CLIRAD's results for mls profile\n",
    "    if atmpro == 'mls':\n",
    "        d_oldclirad = oldclirad_data_atm()\n",
    "        ds_oldclirad = d_oldclirad['cool']        \n",
    "        data.append(\n",
    "            {'label': 'old CLIRAD (H2012)',\n",
    "             'srs': fmt_cool(ds_oldclirad),\n",
    "             'line_dash': 'solid', 'line_width': 1.5,\n",
    "             'marker': 'square', 'marker_size': 3,\n",
    "             'color': colors[3], 'alpha': .5})\n",
    "    return data\n",
    "\n",
    "\n",
    "def pltdata_cooldiff(atmpro='mls'):\n",
    "    \n",
    "    d_clirad_singlerun = clirad_data_atm(\n",
    "        clirad_params_atm_singlerun(atmpro=atmpro))\n",
    "    d_clirad = clirad_data_atm(clirad_params_atm(atmpro=atmpro))\n",
    "    d_crd = crd_data_atm(lblnew_params_atm(atmpro=atmpro))\n",
    "    \n",
    "    ds_clirad_singlerun = d_clirad_singlerun['cool']\n",
    "    ds_clirad = d_clirad['cool']\n",
    "    ds_crd = d_crd['cool']\n",
    "    \n",
    "    ds_diff = ds_clirad_singlerun - ds_crd\n",
    "    \n",
    "    colors = all_palettes['Set1'][4]\n",
    "    \n",
    "    data = [\n",
    "        {'label': 'CLIRAD (single-run) - CRD',\n",
    "         'srs': fmt_cool(ds_diff),\n",
    "         'line_dash': 'solid', 'line_width': 1.5, \n",
    "         'marker': 'circle', 'marker_size': 7,\n",
    "         'color': colors[3], 'alpha': .8}\n",
    "    ]\n",
    "    \n",
    "    # include old CLIRAD's results for mls profile\n",
    "    if atmpro == 'mls':\n",
    "        d_oldclirad = oldclirad_data_atm()\n",
    "        ds_oldclirad = d_oldclirad['cool']\n",
    "        ds_oldclirad.coords['pressure'] = ds_crd.coords['pressure']\n",
    "        ds_diff_old = ds_oldclirad.sum('band') - ds_crd.sum('band')\n",
    "        data.append(\n",
    "            {'label': 'old CLIRAD (H2012) - CRD',\n",
    "             'srs': fmt_cool(ds_diff_old),\n",
    "             'line_dash': 'dashed', 'line_width': 4,\n",
    "             'color': colors[1], 'alpha': .5}\n",
    "        )\n",
    "    return data\n",
    "\n",
    "\n",
    "def show_cool(atmpro='mls'):\n",
    "    \n",
    "    data_cool = pltdata_cool(atmpro=atmpro)\n",
    "    p_cool_liny = plt_cool_bokeh(pltdata=data_cool)\n",
    "    p_cool_logy = plt_cool_bokeh(pltdata=data_cool, \n",
    "                                 y_axis_type='log',\n",
    "                                 prange=(.01, 200))\n",
    "    \n",
    "    data_cooldiff = pltdata_cooldiff(atmpro=atmpro)\n",
    "    p_cooldiff_logy = plt_cool_bokeh(pltdata=data_cooldiff,\n",
    "                                     y_axis_type='log',\n",
    "                                     prange=(.01, 200))\n",
    "    \n",
    "    everything = gridplot(p_cool_liny, p_cool_logy, \n",
    "                          p_cooldiff_logy,\n",
    "                          ncols=3)\n",
    "    show(everything)\n",
    "    display.display(\n",
    "        display.Markdown('*FIGURE.* Cooling rates & difference.'))\n",
    "\n",
    "\n",
    "    "
   ]
  },
  {
   "cell_type": "code",
   "execution_count": null,
   "metadata": {
    "collapsed": true
   },
   "outputs": [],
   "source": []
  },
  {
   "cell_type": "code",
   "execution_count": 1126,
   "metadata": {
    "collapsed": true,
    "scrolled": false
   },
   "outputs": [],
   "source": [
    "\n",
    "\n",
    "def hist_band_vs_flux(da, title='Title'):\n",
    "       \n",
    "    bands = [str(b.values) for b in da['band']]\n",
    "\n",
    "    source = ColumnDataSource(\n",
    "        data={'band': bands, 'flux': da.values})\n",
    "\n",
    "    p = figure(x_range=bands, title=title)\n",
    "    p.vbar(source=source, x='band', top='flux', width=.9)\n",
    "\n",
    "    p.yaxis.axis_label = 'flux (W m-2)'\n",
    "    p.xaxis.axis_label = 'spectral band'\n",
    "    \n",
    "    return p\n",
    "\n",
    "\n",
    "def show_hist_flux(atmpro='mls'):\n",
    "    ds_crd = crd_data_atm(lblnew_params_atm(atmpro=atmpro))['flux']\n",
    "    ds_clirad = clirad_data_atm(\n",
    "        clirad_params_atm(atmpro=atmpro))['flux']\n",
    "    ds_clirad_singlerun = clirad_data_atm(\n",
    "        clirad_params_atm_singlerun(atmpro=atmpro))['flux']\n",
    "    \n",
    "    ip, varname = 0, 'flug'\n",
    "    da = (ds_clirad_singlerun - ds_crd).isel(pressure=ip)[varname]\n",
    "    p_toa = hist_band_vs_flux(da, \n",
    "        title='TOA flux. CLIRAD (single-run) - CRD.')\n",
    "\n",
    "    ip, varname = -1, 'fldg'\n",
    "    da = (ds_clirad_singlerun - ds_crd).isel(pressure=ip)[varname]\n",
    "    p_sfc = hist_band_vs_flux(da, \n",
    "        title='SFC flux. CLIRAD (single-run) - CRD.')    \n",
    "    \n",
    "    atm_crd = (ds_crd.isel(pressure=0) \n",
    "               - ds_crd.isel(pressure=-1))['fnetg']\n",
    "    atm_clirad_singlerun = (ds_clirad_singlerun.isel(pressure=0) \n",
    "                  - ds_clirad_singlerun.isel(pressure=-1))['fnetg']\n",
    "    da = atm_clirad_singlerun - atm_crd\n",
    "    p_atm = hist_band_vs_flux(da, \n",
    "        title='Atmosphere heating. CLIRAD (single-run) - CRD.')\n",
    "\n",
    "    everything = gridplot(p_toa, p_sfc, p_atm, ncols=3, \n",
    "                          plot_width=300, plot_height=300)\n",
    "    \n",
    "    show(everything)\n",
    "    display.display(\n",
    "        display.Markdown('*FIGURE.* Difference between CLIRAD and CRD'\n",
    "          ' in TOA, SFC and net atmosphere flux,'\n",
    "          ' in each spectral band.'))\n",
    "\n",
    "\n",
    "    \n",
    "def show_tb_flux(atmpro='mls'):\n",
    "    \n",
    "    def fmt(da_in):\n",
    "        da = da_in.copy(deep=True)\n",
    "        if 'igg' in da.dims:\n",
    "            da = da.sel(igg=1)\n",
    "            \n",
    "        if 'g' in da.dims:\n",
    "            da = da.sum('g')\n",
    "        \n",
    "        if 'band' in da.dims:\n",
    "            try:\n",
    "                da = da.squeeze('band')\n",
    "            except ValueError:\n",
    "                da = da.sum('band')\n",
    "                \n",
    "        return da\n",
    "    \n",
    "    ds_crd = crd_data_atm(lblnew_params_atm(atmpro=atmpro))['flux']\n",
    "    olr_crd = ds_crd['flug'].isel(pressure=0)\n",
    "    sfc_crd = ds_crd['fldg'].isel(pressure=-1)\n",
    "    atm_crd = (ds_crd.isel(pressure=0)\n",
    "               - ds_crd.isel(pressure=-1))['fnetg']\n",
    "    \n",
    "    ds_clirad = clirad_data_atm(\n",
    "        clirad_params_atm(atmpro=atmpro))['flux']\n",
    "    olr_clirad = ds_clirad['flug'].isel(pressure=0)\n",
    "    sfc_clirad = ds_clirad['fldg'].isel(pressure=-1)\n",
    "    atm_clirad = (ds_clirad.isel(pressure=0)\n",
    "                  - ds_clirad.isel(pressure=-1))['fnetg']\n",
    "\n",
    "    ds_clirad_singlerun = clirad_data_atm(\n",
    "        clirad_params_atm_singlerun(atmpro=atmpro))['flux']\n",
    "    olr_clirad_singlerun = ds_clirad_singlerun['flug'].isel(pressure=0)\n",
    "    sfc_clirad_singlerun = ds_clirad_singlerun['fldg'].isel(pressure=-1)\n",
    "    atm_clirad_singlerun = (ds_clirad_singlerun.isel(pressure=0)\n",
    "                  - ds_clirad_singlerun.isel(pressure=-1))['fnetg']\n",
    "    \n",
    "    if atmpro == 'mls':\n",
    "        ds_oldclirad = oldclirad_data_atm()['flux']\n",
    "        ds_oldclirad['pressure'] = ds_crd['pressure']\n",
    "        olr_oldclirad = ds_oldclirad['flug'].isel(pressure=0)\n",
    "        sfc_oldclirad = ds_oldclirad['fldg'].isel(pressure=-1)\n",
    "        atm_oldclirad = (ds_oldclirad.isel(pressure=0)\n",
    "                         - ds_oldclirad.isel(pressure=-1))['fnetg']\n",
    "        \n",
    "    \n",
    "    \n",
    "    df = pd.DataFrame()\n",
    "    df.index.name = 'Sum over bands'\n",
    "    \n",
    "    if atmpro == 'mls':\n",
    "        df.loc['old CLIRAD - CRD', \n",
    "               'OLR flux'] = (fmt(olr_oldclirad)\n",
    "                              - fmt(olr_crd)).values\n",
    "        df.loc['old CLIRAD - CRD', \n",
    "               'SFC flux'] = (fmt(sfc_oldclirad)\n",
    "                              - fmt(sfc_crd)).values\n",
    "        df.loc['old CLIRAD - CRD', \n",
    "               'ATM heating'] = (fmt(atm_oldclirad)\n",
    "                                 - fmt(atm_crd)).values\n",
    "    \n",
    "    df.loc['CLIRAD (single-run) - CRD', \n",
    "           'OLR flux'] = (fmt(olr_clirad_singlerun) \n",
    "                          - fmt(olr_crd)).values\n",
    "    df.loc['CLIRAD (single-run) - CRD', \n",
    "           'SFC flux'] = (fmt(sfc_clirad_singlerun) \n",
    "                          - fmt(sfc_crd)).values\n",
    "    df.loc['CLIRAD (single-run) - CRD', \n",
    "           'ATM heating'] = (fmt(atm_clirad_singlerun) \n",
    "                             - fmt(atm_crd)).values\n",
    "\n",
    "    df.loc['CRD', 'OLR flux'] = fmt(olr_crd).values\n",
    "    df.loc['CRD', 'SFC flux'] = fmt(sfc_crd).values\n",
    "    df.loc['CRD', 'ATM heating'] = fmt(atm_crd).values\n",
    "        \n",
    "    df = df.astype('float').round(2)\n",
    "    \n",
    "    display.display(df)\n",
    "    display.display(\n",
    "        display.Markdown('*TABLE.* Difference between CLIRAD and CRD'\n",
    "          ' in TOA, SFC and net atmosphere flux,'\n",
    "          ' over all spectral bands. CRD\\'s'\n",
    "          ' TOA, SFC and net atmosphere flux,'\n",
    "          ' over all spectral bands.'))\n"
   ]
  },
  {
   "cell_type": "code",
   "execution_count": 1127,
   "metadata": {
    "scrolled": false
   },
   "outputs": [
    {
     "data": {
      "text/markdown": [
       "## Results over entire range of molecules and spectral bands"
      ],
      "text/plain": [
       "<IPython.core.display.Markdown object>"
      ]
     },
     "metadata": {},
     "output_type": "display_data"
    },
    {
     "data": {
      "text/markdown": [
       "### Table of Contents"
      ],
      "text/plain": [
       "<IPython.core.display.Markdown object>"
      ]
     },
     "metadata": {},
     "output_type": "display_data"
    },
    {
     "data": {
      "text/html": [
       "<a href=\"#Makeup_of_atmosphere.\">Makeup of atmosphere.</a>"
      ],
      "text/plain": [
       "<IPython.core.display.HTML object>"
      ]
     },
     "metadata": {},
     "output_type": "display_data"
    },
    {
     "data": {
      "text/markdown": [
       "**mid-latitude summer**"
      ],
      "text/plain": [
       "<IPython.core.display.Markdown object>"
      ]
     },
     "metadata": {},
     "output_type": "display_data"
    },
    {
     "data": {
      "text/html": [
       "<a href=\"#Cooling_rates._mls.\">Cooling rates. mls.</a>"
      ],
      "text/plain": [
       "<IPython.core.display.HTML object>"
      ]
     },
     "metadata": {},
     "output_type": "display_data"
    },
    {
     "data": {
      "text/html": [
       "<a href=\"#Fluxes._mls.\">Fluxes. mls.</a>"
      ],
      "text/plain": [
       "<IPython.core.display.HTML object>"
      ]
     },
     "metadata": {},
     "output_type": "display_data"
    },
    {
     "data": {
      "text/markdown": [
       "**sub-arctic winter**"
      ],
      "text/plain": [
       "<IPython.core.display.Markdown object>"
      ]
     },
     "metadata": {},
     "output_type": "display_data"
    },
    {
     "data": {
      "text/html": [
       "<a href=\"#Cooling_rates._saw.\">Cooling rates. saw.</a>"
      ],
      "text/plain": [
       "<IPython.core.display.HTML object>"
      ]
     },
     "metadata": {},
     "output_type": "display_data"
    },
    {
     "data": {
      "text/html": [
       "<a href=\"#Fluxes._saw.\">Fluxes. saw.</a>"
      ],
      "text/plain": [
       "<IPython.core.display.HTML object>"
      ]
     },
     "metadata": {},
     "output_type": "display_data"
    },
    {
     "data": {
      "text/markdown": [
       "**tropical**"
      ],
      "text/plain": [
       "<IPython.core.display.Markdown object>"
      ]
     },
     "metadata": {},
     "output_type": "display_data"
    },
    {
     "data": {
      "text/html": [
       "<a href=\"#Cooling_rates._trp.\">Cooling rates. trp.</a>"
      ],
      "text/plain": [
       "<IPython.core.display.HTML object>"
      ]
     },
     "metadata": {},
     "output_type": "display_data"
    },
    {
     "data": {
      "text/html": [
       "<a href=\"#Fluxes._trp.\">Fluxes. trp.</a>"
      ],
      "text/plain": [
       "<IPython.core.display.HTML object>"
      ]
     },
     "metadata": {},
     "output_type": "display_data"
    },
    {
     "data": {
      "text/html": [
       "<a id=\"Makeup_of_atmosphere.\"></a>"
      ],
      "text/plain": [
       "<IPython.core.display.HTML object>"
      ]
     },
     "metadata": {},
     "output_type": "display_data"
    },
    {
     "data": {
      "text/markdown": [
       "# Makeup of atmosphere."
      ],
      "text/plain": [
       "<IPython.core.display.Markdown object>"
      ]
     },
     "metadata": {},
     "output_type": "display_data"
    },
    {
     "data": {
      "text/html": [
       "<div>\n",
       "<style scoped>\n",
       "    .dataframe tbody tr th:only-of-type {\n",
       "        vertical-align: middle;\n",
       "    }\n",
       "\n",
       "    .dataframe tbody tr th {\n",
       "        vertical-align: top;\n",
       "    }\n",
       "\n",
       "    .dataframe thead th {\n",
       "        text-align: right;\n",
       "    }\n",
       "</style>\n",
       "<table border=\"1\" class=\"dataframe\">\n",
       "  <thead>\n",
       "    <tr style=\"text-align: right;\">\n",
       "      <th>clirad band</th>\n",
       "      <th>1</th>\n",
       "      <th>2</th>\n",
       "      <th>3</th>\n",
       "      <th>4</th>\n",
       "      <th>5</th>\n",
       "      <th>6</th>\n",
       "      <th>7</th>\n",
       "      <th>8</th>\n",
       "      <th>9</th>\n",
       "      <th>10</th>\n",
       "      <th>11</th>\n",
       "    </tr>\n",
       "    <tr>\n",
       "      <th>molecule</th>\n",
       "      <th></th>\n",
       "      <th></th>\n",
       "      <th></th>\n",
       "      <th></th>\n",
       "      <th></th>\n",
       "      <th></th>\n",
       "      <th></th>\n",
       "      <th></th>\n",
       "      <th></th>\n",
       "      <th></th>\n",
       "      <th></th>\n",
       "    </tr>\n",
       "  </thead>\n",
       "  <tbody>\n",
       "    <tr>\n",
       "      <th>h2o</th>\n",
       "      <td>atmpro</td>\n",
       "      <td>atmpro</td>\n",
       "      <td>atmpro</td>\n",
       "      <td>atmpro</td>\n",
       "      <td>atmpro</td>\n",
       "      <td>atmpro</td>\n",
       "      <td>atmpro</td>\n",
       "      <td>atmpro</td>\n",
       "      <td>atmpro</td>\n",
       "      <td>atmpro</td>\n",
       "      <td>atmpro</td>\n",
       "    </tr>\n",
       "    <tr>\n",
       "      <th>co2</th>\n",
       "      <td>0</td>\n",
       "      <td>0</td>\n",
       "      <td>0.0004</td>\n",
       "      <td>0.0004</td>\n",
       "      <td>0.0004</td>\n",
       "      <td>0.0004</td>\n",
       "      <td>0.0004</td>\n",
       "      <td>0</td>\n",
       "      <td>0</td>\n",
       "      <td>0</td>\n",
       "      <td>0.0004</td>\n",
       "    </tr>\n",
       "    <tr>\n",
       "      <th>n2o</th>\n",
       "      <td>0</td>\n",
       "      <td>0</td>\n",
       "      <td>3.2e-07</td>\n",
       "      <td>0</td>\n",
       "      <td>0</td>\n",
       "      <td>0</td>\n",
       "      <td>0</td>\n",
       "      <td>0</td>\n",
       "      <td>3.2e-07</td>\n",
       "      <td>0</td>\n",
       "      <td>0</td>\n",
       "    </tr>\n",
       "    <tr>\n",
       "      <th>o3</th>\n",
       "      <td>0</td>\n",
       "      <td>0</td>\n",
       "      <td>0</td>\n",
       "      <td>0</td>\n",
       "      <td>0</td>\n",
       "      <td>0</td>\n",
       "      <td>atmpro</td>\n",
       "      <td>0</td>\n",
       "      <td>0</td>\n",
       "      <td>0</td>\n",
       "      <td>0</td>\n",
       "    </tr>\n",
       "    <tr>\n",
       "      <th>ch4</th>\n",
       "      <td>0</td>\n",
       "      <td>0</td>\n",
       "      <td>0</td>\n",
       "      <td>0</td>\n",
       "      <td>0</td>\n",
       "      <td>0</td>\n",
       "      <td>0</td>\n",
       "      <td>0</td>\n",
       "      <td>1.8e-06</td>\n",
       "      <td>0</td>\n",
       "      <td>0</td>\n",
       "    </tr>\n",
       "  </tbody>\n",
       "</table>\n",
       "</div>"
      ],
      "text/plain": [
       "clirad band      1       2        3       4       5       6       7       8   \\\n",
       "molecule                                                                       \n",
       "h2o          atmpro  atmpro   atmpro  atmpro  atmpro  atmpro  atmpro  atmpro   \n",
       "co2               0       0   0.0004  0.0004  0.0004  0.0004  0.0004       0   \n",
       "n2o               0       0  3.2e-07       0       0       0       0       0   \n",
       "o3                0       0        0       0       0       0  atmpro       0   \n",
       "ch4               0       0        0       0       0       0       0       0   \n",
       "\n",
       "clirad band       9       10      11  \n",
       "molecule                              \n",
       "h2o           atmpro  atmpro  atmpro  \n",
       "co2                0       0  0.0004  \n",
       "n2o          3.2e-07       0       0  \n",
       "o3                 0       0       0  \n",
       "ch4          1.8e-06       0       0  "
      ]
     },
     "metadata": {},
     "output_type": "display_data"
    },
    {
     "data": {
      "text/markdown": [
       "*TABLE.* Non-grey absorbers in the atmosphere."
      ],
      "text/plain": [
       "<IPython.core.display.Markdown object>"
      ]
     },
     "metadata": {},
     "output_type": "display_data"
    },
    {
     "data": {
      "text/html": [
       "<div>\n",
       "<style scoped>\n",
       "    .dataframe tbody tr th:only-of-type {\n",
       "        vertical-align: middle;\n",
       "    }\n",
       "\n",
       "    .dataframe tbody tr th {\n",
       "        vertical-align: top;\n",
       "    }\n",
       "\n",
       "    .dataframe thead th {\n",
       "        text-align: right;\n",
       "    }\n",
       "</style>\n",
       "<table border=\"1\" class=\"dataframe\">\n",
       "  <thead>\n",
       "    <tr style=\"text-align: right;\">\n",
       "      <th>clirad band</th>\n",
       "      <th>1</th>\n",
       "      <th>2</th>\n",
       "      <th>3</th>\n",
       "      <th>4</th>\n",
       "      <th>5</th>\n",
       "      <th>6</th>\n",
       "      <th>7</th>\n",
       "      <th>8</th>\n",
       "      <th>9</th>\n",
       "    </tr>\n",
       "    <tr>\n",
       "      <th>absorber</th>\n",
       "      <th></th>\n",
       "      <th></th>\n",
       "      <th></th>\n",
       "      <th></th>\n",
       "      <th></th>\n",
       "      <th></th>\n",
       "      <th></th>\n",
       "      <th></th>\n",
       "      <th></th>\n",
       "    </tr>\n",
       "  </thead>\n",
       "  <tbody>\n",
       "    <tr>\n",
       "      <th>con</th>\n",
       "      <td>atmpro</td>\n",
       "      <td>atmpro</td>\n",
       "      <td>atmpro</td>\n",
       "      <td>atmpro</td>\n",
       "      <td>atmpro</td>\n",
       "      <td>atmpro</td>\n",
       "      <td>atmpro</td>\n",
       "      <td>atmpro</td>\n",
       "      <td>atmpro</td>\n",
       "    </tr>\n",
       "    <tr>\n",
       "      <th>n2o</th>\n",
       "      <td>0</td>\n",
       "      <td>0</td>\n",
       "      <td>0</td>\n",
       "      <td>0</td>\n",
       "      <td>0</td>\n",
       "      <td>0</td>\n",
       "      <td>0</td>\n",
       "      <td>3.2e-07</td>\n",
       "      <td>0</td>\n",
       "    </tr>\n",
       "  </tbody>\n",
       "</table>\n",
       "</div>"
      ],
      "text/plain": [
       "clirad band       1       2       3       4       5       6       7        8  \\\n",
       "absorber                                                                       \n",
       "con          atmpro  atmpro  atmpro  atmpro  atmpro  atmpro  atmpro   atmpro   \n",
       "n2o               0       0       0       0       0       0       0  3.2e-07   \n",
       "\n",
       "clirad band       9  \n",
       "absorber             \n",
       "con          atmpro  \n",
       "n2o               0  "
      ]
     },
     "metadata": {},
     "output_type": "display_data"
    },
    {
     "data": {
      "text/markdown": [
       "*TABLE.* Grey absorbers in the atmosphere."
      ],
      "text/plain": [
       "<IPython.core.display.Markdown object>"
      ]
     },
     "metadata": {},
     "output_type": "display_data"
    },
    {
     "data": {
      "text/html": [
       "<a id=\"Cooling_rates._mls.\"></a>"
      ],
      "text/plain": [
       "<IPython.core.display.HTML object>"
      ]
     },
     "metadata": {},
     "output_type": "display_data"
    },
    {
     "data": {
      "text/markdown": [
       "# Cooling rates. mls."
      ],
      "text/plain": [
       "<IPython.core.display.Markdown object>"
      ]
     },
     "metadata": {},
     "output_type": "display_data"
    },
    {
     "data": {
      "text/html": [
       "\n",
       "<div class=\"bk-root\">\n",
       "    <div class=\"bk-plotdiv\" id=\"31d16e4a-5e3b-4ae1-b8bb-3ef54cbcade6\"></div>\n",
       "</div>"
      ]
     },
     "metadata": {},
     "output_type": "display_data"
    },
    {
     "data": {
      "application/javascript": [
       "(function(root) {\n",
       "  function embed_document(root) {\n",
       "    \n",
       "  var docs_json = {\"0e39aa96-ed65-467c-bf3f-b4760b6cd6fd\":{\"roots\":{\"references\":[{\"attributes\":{\"dimension\":1,\"plot\":{\"id\":\"924261f7-64cd-45c5-bd6f-87ca3a862781\",\"subtype\":\"Figure\",\"type\":\"Plot\"},\"ticker\":{\"id\":\"a5292a19-2741-4021-a5c9-ee3675edf850\",\"type\":\"LogTicker\"}},\"id\":\"deb02230-9f1e-48a2-a1f3-e9bf3a43239c\",\"type\":\"Grid\"},{\"attributes\":{\"bottom_units\":\"screen\",\"fill_alpha\":{\"value\":0.5},\"fill_color\":{\"value\":\"lightgrey\"},\"left_units\":\"screen\",\"level\":\"overlay\",\"line_alpha\":{\"value\":1.0},\"line_color\":{\"value\":\"black\"},\"line_dash\":[4,4],\"line_width\":{\"value\":2},\"plot\":null,\"render_mode\":\"css\",\"right_units\":\"screen\",\"top_units\":\"screen\"},\"id\":\"929be3d5-6b39-40d8-b319-b00210022ca6\",\"type\":\"BoxAnnotation\"},{\"attributes\":{\"line_color\":\"#4daf4a\",\"line_width\":1.5,\"x\":{\"field\":\"x\"},\"y\":{\"field\":\"y\"}},\"id\":\"10f5adbf-5b73-4d13-b101-40f10a66861c\",\"type\":\"Line\"},{\"attributes\":{\"active_drag\":\"auto\",\"active_inspect\":\"auto\",\"active_scroll\":\"auto\",\"active_tap\":\"auto\",\"tools\":[{\"id\":\"27dd3f59-578c-4a85-99a6-cab756d05bd8\",\"type\":\"PanTool\"},{\"id\":\"24fe7cae-b030-4d71-91f3-f0d37910aee9\",\"type\":\"WheelZoomTool\"},{\"id\":\"51aae7a7-6584-43e1-b8df-9cc9bc783a66\",\"type\":\"BoxZoomTool\"},{\"id\":\"d706a91b-8351-4251-8f8c-b43b27505df5\",\"type\":\"SaveTool\"},{\"id\":\"9c96e72f-6d0f-441b-8972-ac7268e30d48\",\"type\":\"ResetTool\"},{\"id\":\"86b31719-ea5e-446c-bc8e-12d3ad52cb6a\",\"type\":\"HelpTool\"}]},\"id\":\"2c15b06e-d172-4bb2-b819-62b68c334284\",\"type\":\"Toolbar\"},{\"attributes\":{\"line_alpha\":0.6,\"line_color\":\"#377eb8\",\"line_dash\":[6],\"line_width\":5,\"x\":{\"field\":\"x\"},\"y\":{\"field\":\"y\"}},\"id\":\"04c68784-5cec-4923-b8be-9d73d54f452d\",\"type\":\"Line\"},{\"attributes\":{\"callback\":null,\"end\":13.587992271301857,\"start\":-0.33485573154785997},\"id\":\"e78aeba4-6a0f-4ae4-a1b0-df36353ea348\",\"type\":\"Range1d\"},{\"attributes\":{\"fill_alpha\":{\"value\":0.1},\"fill_color\":{\"value\":\"#1f77b4\"},\"line_alpha\":{\"value\":0.1},\"line_color\":{\"value\":\"#1f77b4\"},\"x\":{\"field\":\"x\"},\"y\":{\"field\":\"y\"}},\"id\":\"79ef5d2d-91b0-40f8-95c9-c6abbcb98001\",\"type\":\"Square\"},{\"attributes\":{\"source\":{\"id\":\"b9b7c65d-883e-44e6-a077-2a597d7e42e8\",\"type\":\"ColumnDataSource\"}},\"id\":\"02cd6546-bbdb-4ba8-95cb-43e5b4cf7579\",\"type\":\"CDSView\"},{\"attributes\":{\"children\":[{\"id\":\"f47cecb3-859b-4a06-b343-811f47832ba5\",\"type\":\"ToolbarBox\"},{\"id\":\"201b9486-38f7-407a-b180-c0ecde908533\",\"type\":\"Column\"}]},\"id\":\"211bc6de-6453-47a9-8a56-add57e1d35e2\",\"type\":\"Column\"},{\"attributes\":{},\"id\":\"27dd3f59-578c-4a85-99a6-cab756d05bd8\",\"type\":\"PanTool\"},{\"attributes\":{\"line_alpha\":0.1,\"line_color\":\"#1f77b4\",\"line_dash\":[6],\"line_width\":5,\"x\":{\"field\":\"x\"},\"y\":{\"field\":\"y\"}},\"id\":\"6ac04491-db26-422e-9fd2-a81567f7378a\",\"type\":\"Line\"},{\"attributes\":{},\"id\":\"c4f66a7f-caf4-4942-b515-c6c9f4bbfb2e\",\"type\":\"LinearScale\"},{\"attributes\":{\"callback\":null,\"data\":{\"x\":{\"__ndarray__\":\"zhhdnl3RU0CKgDdE+dxEQP6f5duhdUFAMJBr6ewEQkAADxZQyK45QBmX3ka8EDZAjl8alnlwL0CeYJlYHKIqQJoaoQNWxSJAwL4t7BozIUBMkS56I6AXQBxPe4ld/BRAnMjiKz2HCkCJCgdQ/WcBQKJTvluRvOg/j/JpYJwB9j+fcxKIKREEQOwUvOtLFw1AV0At7oRoEkD5lECKxjYXQAdydNQ0jR1ACbyvRZLfI0CO3MmPRGApQCcUNq4qNylA6VN9h30SJECRnP+HbGofQDQKaukXmhlAteFC/mL9E0CTDffT91MQQEkVAKh1YwtAqFesCIQRBkATatBMXLz/P4fvYPUXo/Y/tDrQnFTK8T/fneFQ7xLnP14aDQuCJtc/5BrOx2LRzT+fE4V0bnvHP3ueIXamhrA/cWaxNtALrr92uqPyMJK3P6q5+U821+g/ckrZjXL49z/TaxRJZAUAQPzVLij27QFAige8XqaCAEAv4Q7keaX+P0VyKG35kv0/XHVqXZRQ/T/+RskYEAv9PwKD1IjB3fw/JBko3yJ2/D//mRCM5iX7P/btQHcr5vo/xTCcdQr9+j+f/V+tjrf6P0Wt2HvLrvo/9IV/x6br+z/bYX40veD8P8+HZwkyUvw/CkxgoI8l/D8QA+bsYB78P2eu9w7DDvw/khNJm3qS+j8vZ0xHVJ75Py0d1shscPk/NKgVKiiK+T/NNtzstIr5P4ps72zyaPc/TlSpuPUj9j9S2qZu6gj1P2XVmdu6VPQ/t/WgjjEZ9D+np734CoH0P1P4Q57qwfo/\",\"dtype\":\"float64\",\"shape\":[75]},\"y\":{\"__ndarray__\":\"hLndy31yND/6fmq8dJNIP8n9DkWBPlE/aDum7souWD/b4a/JGvVgP9f34SAhymc/ZvM4DOavcD+z0M5pFmh3PxuC4zJuaoA/xjcUPlsHhz8uHAjJAiaQP9ieWRKgppY/oI7HDFTGnz+a5h2n6EimPzS6g9iZQq8/IuAQqtTstT9SSZ2AJsK+P4nS3uALk8U/ih9j7lpCzj+ASL99HTjVP4enV8oyxN0/ACL99nXg5D9fmEwVjErtPyUGgZVDi/Q/AiuHFtnO/D9OYhBYOTQEQPHSTWIQWAxA4XoUrkfhE0D8qfHSTeIbQMh2vp8ajyNArkfhehRuK0Bcj8L1KDwzQFyPwvUo/DpAPgrXo3DtQkDNzMzMzIxKQClcj8L1eFJAKVyPwvVoWECamZmZmVleQGZmZmZmJmJAAAAAAAAgZUCamZmZmRloQJqZmZmZEWtAmpmZmZkJbkCamZmZmYFwQGZmZmZm/nFAZmZmZmZ6c0BmZmZmZvZ0QDQzMzMzc3ZAAAAAAADwd0AAAAAAAGx5QAAAAAAA6HpAzMzMzMxkfEDMzMzMzOB9QM3MzMzMXH9AzczMzMxsgEAzMzMzMyuBQDMzMzMz6YFAMzMzMzOngkCamZmZmWWDQAAAAAAAJIRAAAAAAADihEAAAAAAAKCFQGZmZmZmXoZAzczMzMwch0DNzMzMzNqHQM3MzMzMmIhAMzMzMzNXiUCamZmZmRWKQAAAAAAA1IpAAAAAAACSi0AAAAAAAFCMQGZmZmZmDo1AzczMzMzMjUDNzMzMzIqOQM3MzMzMSI9A\",\"dtype\":\"float64\",\"shape\":[75]}},\"selected\":{\"id\":\"c1186653-5d79-4927-83d3-6d08ea0d2370\",\"type\":\"Selection\"},\"selection_policy\":{\"id\":\"e62b5fe0-9d35-4fd4-a644-f63d58e118f7\",\"type\":\"UnionRenderers\"}},\"id\":\"07374acb-93da-480d-9a01-b4803a6c0138\",\"type\":\"ColumnDataSource\"},{\"attributes\":{},\"id\":\"d706a91b-8351-4251-8f8c-b43b27505df5\",\"type\":\"SaveTool\"},{\"attributes\":{},\"id\":\"24fe7cae-b030-4d71-91f3-f0d37910aee9\",\"type\":\"WheelZoomTool\"},{\"attributes\":{\"axis_label\":\"cooling rate [K/day]\",\"formatter\":{\"id\":\"62422513-515a-4352-9cd5-cbe5e5b9e770\",\"type\":\"BasicTickFormatter\"},\"plot\":{\"id\":\"924261f7-64cd-45c5-bd6f-87ca3a862781\",\"subtype\":\"Figure\",\"type\":\"Plot\"},\"ticker\":{\"id\":\"e292bf97-3129-422e-90d1-30a59844b3d5\",\"type\":\"BasicTicker\"}},\"id\":\"c59130fd-967a-44ef-a8c0-c307a33bfe6c\",\"type\":\"LinearAxis\"},{\"attributes\":{\"data_source\":{\"id\":\"5688a381-ecc4-4491-8e87-50c1fbf73ea0\",\"type\":\"ColumnDataSource\"},\"glyph\":{\"id\":\"7aec3912-9ed7-40df-bbfd-c6512167067b\",\"type\":\"Line\"},\"hover_glyph\":null,\"muted_glyph\":null,\"nonselection_glyph\":{\"id\":\"00d46125-6c92-43b0-bed7-27ed155586c1\",\"type\":\"Line\"},\"selection_glyph\":null,\"view\":{\"id\":\"ce6929d2-f813-4136-a2e8-65fa9a12028d\",\"type\":\"CDSView\"}},\"id\":\"82facb79-4ceb-4d77-9884-c8ec70776f39\",\"type\":\"GlyphRenderer\"},{\"attributes\":{\"callback\":null,\"data\":{\"x\":{\"__ndarray__\":\"QW/ChKHYRUABfBHv8BdDQO7pX4+S40FAjlrTPAs/QEBi55KjU0A8QOVEIjtRPTdAAW6pHa7pMUBoDUjHy+UpQJPUAjnkGiJAkii6KF00GkDyfPLi2t0UQPkZqhKpthFAXgmBeRVNDUDo1yrq/pUDQBJCuTYK9vU/YoFqy5OO+j/mD7q8ijIFQB7JG9aeDgtAKZPg33XgEEB3e15vURcWQASfV5qt/R1A31afOw7VJEBkZ/sSPswqQPJ8sfjH+ylASXHMMLlOJECnFuR/okcgQKATN+gOZBtALtOaGrQFFkBYLwnonigRQH3MfkLg4AtAJbaM1c4ICEAqMLR+58sCQGn6INO6Bfo/9OD7FbZF8T+Hs4EjcHrnP564dUqD6Ns/JQfYEdIQzT9x/Lwc00XAP+SGDp6tAKO/xAoZ+sRjyb+ScdT6eNyDv/4NISJvwuc/0BNwzqJ+9z+OhxM/9RYAQGCVqWPPlwFApa4RsMkGAECakb3Sg0P+P/wSdfkQIv0/okwaebtq/D8NcsI81zv8PzS6YIBmV/w/t/rzZVDu+z9vHpSuI3P7PzxXiTLKB/s/+xEut0e9+j80CdGvY4f6P91Lpyhohfo/hq2DgXOb+z8jUdf2UHz8P+0LQT6D/vw/NxBjOnr9/D975RKvuF38PyqTiuWeRvs/G8nM6yIW+j8IPCAwnv/4P9UcYY9Qbfg/OqB8rKY8+D929obcuzf4P6/7j5gVtPc/VtnblNCk9j8Yh5Uy8nP1P2TvKkPTiPQ/Kaw4REER9D/JF0FfkkT0P/aWmIV77/o/\",\"dtype\":\"float64\",\"shape\":[75]},\"y\":{\"__ndarray__\":\"GhExyth1ND/Sv8nbtpRIP2vylNV0PVE/aTum7souWD/At0SJ8fVgPw3Iuahxymc/MSNhhJWvcD/bTfBN02d3P2zb5nxnaoA/CD5h5MAGhz8NmeH1TyaQP+zrCsc9p5Y/LbKd76fGnz/bLW5ISEmmPww9YvTcQq8/JV2OstnstT8Er5Y7M8G+P0c+r3jqkcU/5h99k6ZBzj88bCIzFzjVP4enV8oyxN0//yH99nXg5D8qOpLLf0jtP5kqGJXUifQ/c9cS8kHP/D+/DpwzojQEQIEmwoanVwxA4lgXt9HgE0BSSZ2AJuIbQAMJih9jjiNA5q4l5INuK0AwTKYKRj0zQNv5fmq8/DpAaCJseHrtQkB/+zpwzoxKQM3MzMzMeFJAZmZmZmZqWEAAAAAAAFxeQM3MzMzMJmJAmpmZmZkfZUBmZmZmZhhoQDMzMzMzEWtAAAAAAAAKbkBmZmZmZoFwQM3MzMzM/XFAMzMzMzN6c0CamZmZmfZ0QAAAAAAAc3ZAZmZmZmbvd0DNzMzMzGt5QDMzMzMz6HpAmpmZmZlkfEAAAAAAAOF9QGZmZmZmXX9AZmZmZuZsgECamZmZGSuBQM3MzMxM6YFAAAAAAICngkAzMzMzs2WDQGZmZmbmI4RAmpmZmRnihEDNzMzMTKCFQAAAAACAXoZAMzMzM7Mch0BmZmZm5tqHQJqZmZkZmYhAzczMzExXiUAAAAAAgBWKQDMzMzOz04pAZmZmZuaRi0CamZmZGVCMQM3MzMxMDo1AAAAAAIDMjUAzMzMzs4qOQGZmZmbmSI9A\",\"dtype\":\"float64\",\"shape\":[75]}},\"selected\":{\"id\":\"2e945c2e-0673-4b8c-9eab-86edc27fcc9c\",\"type\":\"Selection\"},\"selection_policy\":{\"id\":\"42c7ec8d-e2c7-463b-a290-0af16afc01c6\",\"type\":\"UnionRenderers\"}},\"id\":\"35acc71b-4d60-408f-b9dc-63b15188b56f\",\"type\":\"ColumnDataSource\"},{\"attributes\":{\"overlay\":{\"id\":\"929be3d5-6b39-40d8-b319-b00210022ca6\",\"type\":\"BoxAnnotation\"}},\"id\":\"37946986-55a2-480f-9624-1666387d8dd6\",\"type\":\"BoxZoomTool\"},{\"attributes\":{\"callback\":null,\"data\":{\"x\":{\"__ndarray__\":\"oGsWFOcWRMAMO53n/6ogwD3viZgKZgLA/QYLKQLU/D8kxx1hxGkOQMQ0+uZxzQ5AVNhXd+QeBEAOfWNUzSflP8Ab6dWes+m/+NL3xc/V9b/FaMqELYjxv9IJsBTPId+/TcZOEIimsD/RlBh077XZP+5CgCXcI98/xk80a5U21D+mvbpH91KhP0I7juACtdC/1aw+HWoz4L+eELp8N6Pgv46j72rX7tG/sPOr1cQ1eb8yylG8HeyqvzLdYsjI0NO/iNtWXRBP17+iXw8BsSGxvwV3o383itg/95efVY5T1z8Wf4KYaOC3Pxz4JWCS45c/xGzh7qDj0D/z9Jq0lJzVP9S9cwqzvcM/ncXJA03snL/+DCuavWFzP5gifvItdK4/6ix5O2qXfj/VIxwFX/CrvyFUz3G74La/my7Kb2SHub/iQ7MhNea1vxA1JmSLibC/ec3xKLA2r7/CQWKSSD+dv/kBCet07ba/jdOl0S2ZuL/hF/AL7Yurv4nkUKY76K6/oQAAbI22s7/sel+r8Oayv1lPEDkNp6u/hX6dcBWzor/B7Z2I616YvxIFFivn5ZS/kePwCZ6plL+En8uXwV+Zv6r8aguhXJu/hY8q3THCk78YErbXNlBWP49H38C+f6A/WwZhsThqrD+Qb3Iuc+mtP/D2ZI59eqU/qxypqzTKlT/wr1QOo+RZP+CjI8tNBUE/JP80BLOBgT9iFteBPlSeP2eXidFcb6g/plqmh+qrrz+CO88mJx2yP91eBcEyWbM/pmiOXiQjtD+1cER8wdW0P/GeJNn6VLQ/\",\"dtype\":\"float64\",\"shape\":[75]},\"y\":{\"__ndarray__\":\"GhExyth1ND/Sv8nbtpRIP2vylNV0PVE/aTum7souWD/At0SJ8fVgPw3Iuahxymc/MSNhhJWvcD/bTfBN02d3P2zb5nxnaoA/CD5h5MAGhz8NmeH1TyaQP+zrCsc9p5Y/LbKd76fGnz/bLW5ISEmmPww9YvTcQq8/JV2OstnstT8Er5Y7M8G+P0c+r3jqkcU/5h99k6ZBzj88bCIzFzjVP4enV8oyxN0//yH99nXg5D8qOpLLf0jtP5kqGJXUifQ/c9cS8kHP/D+/DpwzojQEQIEmwoanVwxA4lgXt9HgE0BSSZ2AJuIbQAMJih9jjiNA5q4l5INuK0AwTKYKRj0zQNv5fmq8/DpAaCJseHrtQkB/+zpwzoxKQM3MzMzMeFJAZmZmZmZqWEAAAAAAAFxeQM3MzMzMJmJAmpmZmZkfZUBmZmZmZhhoQDMzMzMzEWtAAAAAAAAKbkBmZmZmZoFwQM3MzMzM/XFAMzMzMzN6c0CamZmZmfZ0QAAAAAAAc3ZAZmZmZmbvd0DNzMzMzGt5QDMzMzMz6HpAmpmZmZlkfEAAAAAAAOF9QGZmZmZmXX9AZmZmZuZsgECamZmZGSuBQM3MzMxM6YFAAAAAAICngkAzMzMzs2WDQGZmZmbmI4RAmpmZmRnihEDNzMzMTKCFQAAAAACAXoZAMzMzM7Mch0BmZmZm5tqHQJqZmZkZmYhAzczMzExXiUAAAAAAgBWKQDMzMzOz04pAZmZmZuaRi0CamZmZGVCMQM3MzMxMDo1AAAAAAIDMjUAzMzMzs4qOQGZmZmbmSI9A\",\"dtype\":\"float64\",\"shape\":[75]}},\"selected\":{\"id\":\"2bcf99bf-4350-4a69-b776-0b23b4625c22\",\"type\":\"Selection\"},\"selection_policy\":{\"id\":\"02b16a19-474a-4b55-9953-1acb9b48fe5d\",\"type\":\"UnionRenderers\"}},\"id\":\"5688a381-ecc4-4491-8e87-50c1fbf73ea0\",\"type\":\"ColumnDataSource\"},{\"attributes\":{\"line_alpha\":0.1,\"line_color\":\"#1f77b4\",\"line_dash\":[6],\"line_width\":5,\"x\":{\"field\":\"x\"},\"y\":{\"field\":\"y\"}},\"id\":\"7b89a01c-6fd4-4300-9796-f3fe1784adc4\",\"type\":\"Line\"},{\"attributes\":{\"label\":{\"value\":\"CRD\"},\"renderers\":[{\"id\":\"87eb7714-71d2-4c56-839b-2206a202e01e\",\"type\":\"GlyphRenderer\"},{\"id\":\"28701ba7-3289-466a-913d-6c3492f01e38\",\"type\":\"GlyphRenderer\"}]},\"id\":\"d0c2bb9a-0795-458d-8148-b3cdd8409af7\",\"type\":\"LegendItem\"},{\"attributes\":{\"line_alpha\":0.1,\"line_color\":\"#1f77b4\",\"line_width\":1.5,\"x\":{\"field\":\"x\"},\"y\":{\"field\":\"y\"}},\"id\":\"00d46125-6c92-43b0-bed7-27ed155586c1\",\"type\":\"Line\"},{\"attributes\":{\"above\":[{\"id\":\"efc8fc69-a417-4ec8-bc61-a34896e00c31\",\"type\":\"Legend\"}],\"below\":[{\"id\":\"c59130fd-967a-44ef-a8c0-c307a33bfe6c\",\"type\":\"LinearAxis\"}],\"left\":[{\"id\":\"ae68195d-8aee-4336-a087-4db09f2c193f\",\"type\":\"LogAxis\"}],\"plot_width\":300,\"renderers\":[{\"id\":\"c59130fd-967a-44ef-a8c0-c307a33bfe6c\",\"type\":\"LinearAxis\"},{\"id\":\"b56b6597-5f4d-4ff0-87cf-e96869e1c2c7\",\"type\":\"Grid\"},{\"id\":\"ae68195d-8aee-4336-a087-4db09f2c193f\",\"type\":\"LogAxis\"},{\"id\":\"deb02230-9f1e-48a2-a1f3-e9bf3a43239c\",\"type\":\"Grid\"},{\"id\":\"5a34ad2b-5283-4eac-902b-bcc26e1d7fb1\",\"type\":\"BoxAnnotation\"},{\"id\":\"bc7b3e3d-7980-428c-904e-3db9cf13fe43\",\"type\":\"GlyphRenderer\"},{\"id\":\"04252175-ae87-4b7b-9840-022054206083\",\"type\":\"GlyphRenderer\"},{\"id\":\"f51a2729-81d1-4370-a940-d141e057c909\",\"type\":\"GlyphRenderer\"},{\"id\":\"de662cd8-7b6e-431c-ac41-a5f6e1862858\",\"type\":\"GlyphRenderer\"},{\"id\":\"555a9653-3897-4c25-a44e-92d61d05fd4b\",\"type\":\"GlyphRenderer\"},{\"id\":\"efc8fc69-a417-4ec8-bc61-a34896e00c31\",\"type\":\"Legend\"}],\"title\":{\"id\":\"385d202c-b6dc-4c1e-a139-ffc0e484a0da\",\"type\":\"Title\"},\"toolbar\":{\"id\":\"bbfad0d6-1315-46e7-b016-179c636e7b2c\",\"type\":\"Toolbar\"},\"toolbar_location\":null,\"x_range\":{\"id\":\"e78aeba4-6a0f-4ae4-a1b0-df36353ea348\",\"type\":\"Range1d\"},\"x_scale\":{\"id\":\"c4f66a7f-caf4-4942-b515-c6c9f4bbfb2e\",\"type\":\"LinearScale\"},\"y_range\":{\"id\":\"671e6fe6-6dd6-4d64-9a50-08ac1caf7c94\",\"type\":\"Range1d\"},\"y_scale\":{\"id\":\"53d5133b-0137-4959-8d54-c5a27bb4b575\",\"type\":\"LogScale\"}},\"id\":\"924261f7-64cd-45c5-bd6f-87ca3a862781\",\"subtype\":\"Figure\",\"type\":\"Plot\"},{\"attributes\":{\"line_alpha\":0.8,\"line_color\":\"#984ea3\",\"line_width\":1.5,\"x\":{\"field\":\"x\"},\"y\":{\"field\":\"y\"}},\"id\":\"7aec3912-9ed7-40df-bbfd-c6512167067b\",\"type\":\"Line\"},{\"attributes\":{},\"id\":\"86b31719-ea5e-446c-bc8e-12d3ad52cb6a\",\"type\":\"HelpTool\"},{\"attributes\":{\"source\":{\"id\":\"41d509bc-b5a1-468c-ae9b-f18db72fe507\",\"type\":\"ColumnDataSource\"}},\"id\":\"07b3c0ab-b78c-480a-b16c-812d15adefe6\",\"type\":\"CDSView\"},{\"attributes\":{},\"id\":\"4b666437-45c7-4e45-8edd-1d6af0b08001\",\"type\":\"WheelZoomTool\"},{\"attributes\":{},\"id\":\"e65f2483-db92-4a67-8cf1-1b1cd71c5990\",\"type\":\"SaveTool\"},{\"attributes\":{},\"id\":\"fe85faa3-e998-4c99-939f-6b0b546c2b08\",\"type\":\"PanTool\"},{\"attributes\":{\"line_alpha\":0.1,\"line_color\":\"#1f77b4\",\"line_width\":1.5,\"x\":{\"field\":\"x\"},\"y\":{\"field\":\"y\"}},\"id\":\"5d4e8444-f471-4d16-8828-8c2cc6c97a6e\",\"type\":\"Line\"},{\"attributes\":{\"source\":{\"id\":\"5688a381-ecc4-4491-8e87-50c1fbf73ea0\",\"type\":\"ColumnDataSource\"}},\"id\":\"ce6929d2-f813-4136-a2e8-65fa9a12028d\",\"type\":\"CDSView\"},{\"attributes\":{\"toolbar\":{\"id\":\"e5e66422-4265-4bd9-b89f-b391f84f6a11\",\"type\":\"ProxyToolbar\"},\"toolbar_location\":\"above\"},\"id\":\"f47cecb3-859b-4a06-b343-811f47832ba5\",\"type\":\"ToolbarBox\"},{\"attributes\":{\"fill_alpha\":{\"value\":0.7},\"fill_color\":{\"value\":\"#984ea3\"},\"line_alpha\":{\"value\":0.7},\"line_color\":{\"value\":\"#984ea3\"},\"x\":{\"field\":\"x\"},\"y\":{\"field\":\"y\"}},\"id\":\"461b7bbb-34e7-4143-875d-68840c33be09\",\"type\":\"Square\"},{\"attributes\":{},\"id\":\"53d5133b-0137-4959-8d54-c5a27bb4b575\",\"type\":\"LogScale\"},{\"attributes\":{\"data_source\":{\"id\":\"41d509bc-b5a1-468c-ae9b-f18db72fe507\",\"type\":\"ColumnDataSource\"},\"glyph\":{\"id\":\"10f5adbf-5b73-4d13-b101-40f10a66861c\",\"type\":\"Line\"},\"hover_glyph\":null,\"muted_glyph\":null,\"nonselection_glyph\":{\"id\":\"5d4e8444-f471-4d16-8828-8c2cc6c97a6e\",\"type\":\"Line\"},\"selection_glyph\":null,\"view\":{\"id\":\"07b3c0ab-b78c-480a-b16c-812d15adefe6\",\"type\":\"CDSView\"}},\"id\":\"28701ba7-3289-466a-913d-6c3492f01e38\",\"type\":\"GlyphRenderer\"},{\"attributes\":{\"label\":{\"value\":\"CLIRAD (single-run)\"},\"renderers\":[{\"id\":\"e0840d7a-7c97-4ac9-9f1d-47ce60e1a36d\",\"type\":\"GlyphRenderer\"}]},\"id\":\"2270c673-bec4-48f8-a222-a67f48aa0e84\",\"type\":\"LegendItem\"},{\"attributes\":{\"data_source\":{\"id\":\"b9b7c65d-883e-44e6-a077-2a597d7e42e8\",\"type\":\"ColumnDataSource\"},\"glyph\":{\"id\":\"461b7bbb-34e7-4143-875d-68840c33be09\",\"type\":\"Square\"},\"hover_glyph\":null,\"muted_glyph\":null,\"nonselection_glyph\":{\"id\":\"79ef5d2d-91b0-40f8-95c9-c6abbcb98001\",\"type\":\"Square\"},\"selection_glyph\":null,\"view\":{\"id\":\"02cd6546-bbdb-4ba8-95cb-43e5b4cf7579\",\"type\":\"CDSView\"}},\"id\":\"66fdf64c-6257-4b1e-83d5-3211c2ab00bb\",\"type\":\"GlyphRenderer\"},{\"attributes\":{},\"id\":\"c7d2025f-15cc-41e3-b900-d2ff465bd95e\",\"type\":\"HelpTool\"},{\"attributes\":{\"callback\":null,\"data\":{\"x\":{\"__ndarray__\":\"zhhdnl3RU0CKgDdE+dxEQP6f5duhdUFAMJBr6ewEQkAADxZQyK45QBmX3ka8EDZAjl8alnlwL0CeYJlYHKIqQJoaoQNWxSJAwL4t7BozIUBMkS56I6AXQBxPe4ld/BRAnMjiKz2HCkCJCgdQ/WcBQKJTvluRvOg/j/JpYJwB9j+fcxKIKREEQOwUvOtLFw1AV0At7oRoEkD5lECKxjYXQAdydNQ0jR1ACbyvRZLfI0CO3MmPRGApQCcUNq4qNylA6VN9h30SJECRnP+HbGofQDQKaukXmhlAteFC/mL9E0CTDffT91MQQEkVAKh1YwtAqFesCIQRBkATatBMXLz/P4fvYPUXo/Y/tDrQnFTK8T/fneFQ7xLnP14aDQuCJtc/5BrOx2LRzT+fE4V0bnvHP3ueIXamhrA/cWaxNtALrr92uqPyMJK3P6q5+U821+g/ckrZjXL49z/TaxRJZAUAQPzVLij27QFAige8XqaCAEAv4Q7keaX+P0VyKG35kv0/XHVqXZRQ/T/+RskYEAv9PwKD1IjB3fw/JBko3yJ2/D//mRCM5iX7P/btQHcr5vo/xTCcdQr9+j+f/V+tjrf6P0Wt2HvLrvo/9IV/x6br+z/bYX40veD8P8+HZwkyUvw/CkxgoI8l/D8QA+bsYB78P2eu9w7DDvw/khNJm3qS+j8vZ0xHVJ75Py0d1shscPk/NKgVKiiK+T/NNtzstIr5P4ps72zyaPc/TlSpuPUj9j9S2qZu6gj1P2XVmdu6VPQ/t/WgjjEZ9D+np734CoH0P1P4Q57qwfo/\",\"dtype\":\"float64\",\"shape\":[75]},\"y\":{\"__ndarray__\":\"hLndy31yND/6fmq8dJNIP8n9DkWBPlE/aDum7souWD/b4a/JGvVgP9f34SAhymc/ZvM4DOavcD+z0M5pFmh3PxuC4zJuaoA/xjcUPlsHhz8uHAjJAiaQP9ieWRKgppY/oI7HDFTGnz+a5h2n6EimPzS6g9iZQq8/IuAQqtTstT9SSZ2AJsK+P4nS3uALk8U/ih9j7lpCzj+ASL99HTjVP4enV8oyxN0/ACL99nXg5D9fmEwVjErtPyUGgZVDi/Q/AiuHFtnO/D9OYhBYOTQEQPHSTWIQWAxA4XoUrkfhE0D8qfHSTeIbQMh2vp8ajyNArkfhehRuK0Bcj8L1KDwzQFyPwvUo/DpAPgrXo3DtQkDNzMzMzIxKQClcj8L1eFJAKVyPwvVoWECamZmZmVleQGZmZmZmJmJAAAAAAAAgZUCamZmZmRloQJqZmZmZEWtAmpmZmZkJbkCamZmZmYFwQGZmZmZm/nFAZmZmZmZ6c0BmZmZmZvZ0QDQzMzMzc3ZAAAAAAADwd0AAAAAAAGx5QAAAAAAA6HpAzMzMzMxkfEDMzMzMzOB9QM3MzMzMXH9AzczMzMxsgEAzMzMzMyuBQDMzMzMz6YFAMzMzMzOngkCamZmZmWWDQAAAAAAAJIRAAAAAAADihEAAAAAAAKCFQGZmZmZmXoZAzczMzMwch0DNzMzMzNqHQM3MzMzMmIhAMzMzMzNXiUCamZmZmRWKQAAAAAAA1IpAAAAAAACSi0AAAAAAAFCMQGZmZmZmDo1AzczMzMzMjUDNzMzMzIqOQM3MzMzMSI9A\",\"dtype\":\"float64\",\"shape\":[75]}},\"selected\":{\"id\":\"111c6cc0-c0b9-4787-bf31-2682da0646d2\",\"type\":\"Selection\"},\"selection_policy\":{\"id\":\"2327ea36-8bcb-450e-814f-1223de051065\",\"type\":\"UnionRenderers\"}},\"id\":\"b9b7c65d-883e-44e6-a077-2a597d7e42e8\",\"type\":\"ColumnDataSource\"},{\"attributes\":{\"items\":[{\"id\":\"2270c673-bec4-48f8-a222-a67f48aa0e84\",\"type\":\"LegendItem\"},{\"id\":\"d0c2bb9a-0795-458d-8148-b3cdd8409af7\",\"type\":\"LegendItem\"},{\"id\":\"5e6ef564-b498-4910-b3b8-b98b4c6a6360\",\"type\":\"LegendItem\"}],\"label_text_font_size\":{\"value\":\"8pt\"},\"location\":\"top_center\",\"orientation\":\"horizontal\",\"plot\":{\"id\":\"2ccb3ef2-3809-4755-b765-08420cc738d2\",\"subtype\":\"Figure\",\"type\":\"Plot\"}},\"id\":\"76f9472b-9090-435f-aead-3c96a642a501\",\"type\":\"Legend\"},{\"attributes\":{\"source\":{\"id\":\"b8fc3b1a-5cdd-4e31-8cca-1741dd883d8e\",\"type\":\"ColumnDataSource\"}},\"id\":\"3f950375-59e7-4469-abd2-8c1c5941ef3f\",\"type\":\"CDSView\"},{\"attributes\":{},\"id\":\"975f6516-f9d4-47ea-bd74-82015da02a46\",\"type\":\"ResetTool\"},{\"attributes\":{\"overlay\":{\"id\":\"03d5a30e-d84b-47e3-8157-d3e65163d1f4\",\"type\":\"BoxAnnotation\"}},\"id\":\"51aae7a7-6584-43e1-b8df-9cc9bc783a66\",\"type\":\"BoxZoomTool\"},{\"attributes\":{\"line_alpha\":0.6,\"line_color\":\"#377eb8\",\"line_dash\":[6],\"line_width\":5,\"x\":{\"field\":\"x\"},\"y\":{\"field\":\"y\"}},\"id\":\"3602db97-c0d0-49f9-944b-f7c204f0bd5a\",\"type\":\"Line\"},{\"attributes\":{},\"id\":\"2327ea36-8bcb-450e-814f-1223de051065\",\"type\":\"UnionRenderers\"},{\"attributes\":{\"callback\":null,\"data\":{\"x\":{\"__ndarray__\":\"QW/ChKHYRUABfBHv8BdDQO7pX4+S40FAjlrTPAs/QEBi55KjU0A8QOVEIjtRPTdAAW6pHa7pMUBoDUjHy+UpQJPUAjnkGiJAkii6KF00GkDyfPLi2t0UQPkZqhKpthFAXgmBeRVNDUDo1yrq/pUDQBJCuTYK9vU/YoFqy5OO+j/mD7q8ijIFQB7JG9aeDgtAKZPg33XgEEB3e15vURcWQASfV5qt/R1A31afOw7VJEBkZ/sSPswqQPJ8sfjH+ylASXHMMLlOJECnFuR/okcgQKATN+gOZBtALtOaGrQFFkBYLwnonigRQH3MfkLg4AtAJbaM1c4ICEAqMLR+58sCQGn6INO6Bfo/9OD7FbZF8T+Hs4EjcHrnP564dUqD6Ns/JQfYEdIQzT9x/Lwc00XAP+SGDp6tAKO/xAoZ+sRjyb+ScdT6eNyDv/4NISJvwuc/0BNwzqJ+9z+OhxM/9RYAQGCVqWPPlwFApa4RsMkGAECakb3Sg0P+P/wSdfkQIv0/okwaebtq/D8NcsI81zv8PzS6YIBmV/w/t/rzZVDu+z9vHpSuI3P7PzxXiTLKB/s/+xEut0e9+j80CdGvY4f6P91Lpyhohfo/hq2DgXOb+z8jUdf2UHz8P+0LQT6D/vw/NxBjOnr9/D975RKvuF38PyqTiuWeRvs/G8nM6yIW+j8IPCAwnv/4P9UcYY9Qbfg/OqB8rKY8+D929obcuzf4P6/7j5gVtPc/VtnblNCk9j8Yh5Uy8nP1P2TvKkPTiPQ/Kaw4REER9D/JF0FfkkT0P/aWmIV77/o/\",\"dtype\":\"float64\",\"shape\":[75]},\"y\":{\"__ndarray__\":\"GhExyth1ND/Sv8nbtpRIP2vylNV0PVE/aTum7souWD/At0SJ8fVgPw3Iuahxymc/MSNhhJWvcD/bTfBN02d3P2zb5nxnaoA/CD5h5MAGhz8NmeH1TyaQP+zrCsc9p5Y/LbKd76fGnz/bLW5ISEmmPww9YvTcQq8/JV2OstnstT8Er5Y7M8G+P0c+r3jqkcU/5h99k6ZBzj88bCIzFzjVP4enV8oyxN0//yH99nXg5D8qOpLLf0jtP5kqGJXUifQ/c9cS8kHP/D+/DpwzojQEQIEmwoanVwxA4lgXt9HgE0BSSZ2AJuIbQAMJih9jjiNA5q4l5INuK0AwTKYKRj0zQNv5fmq8/DpAaCJseHrtQkB/+zpwzoxKQM3MzMzMeFJAZmZmZmZqWEAAAAAAAFxeQM3MzMzMJmJAmpmZmZkfZUBmZmZmZhhoQDMzMzMzEWtAAAAAAAAKbkBmZmZmZoFwQM3MzMzM/XFAMzMzMzN6c0CamZmZmfZ0QAAAAAAAc3ZAZmZmZmbvd0DNzMzMzGt5QDMzMzMz6HpAmpmZmZlkfEAAAAAAAOF9QGZmZmZmXX9AZmZmZuZsgECamZmZGSuBQM3MzMxM6YFAAAAAAICngkAzMzMzs2WDQGZmZmbmI4RAmpmZmRnihEDNzMzMTKCFQAAAAACAXoZAMzMzM7Mch0BmZmZm5tqHQJqZmZkZmYhAzczMzExXiUAAAAAAgBWKQDMzMzOz04pAZmZmZuaRi0CamZmZGVCMQM3MzMxMDo1AAAAAAIDMjUAzMzMzs4qOQGZmZmbmSI9A\",\"dtype\":\"float64\",\"shape\":[75]}},\"selected\":{\"id\":\"b9291265-b78f-4f9a-aac0-40a449a17ad3\",\"type\":\"Selection\"},\"selection_policy\":{\"id\":\"c2841159-09de-4184-b8c9-2cdc977dac83\",\"type\":\"UnionRenderers\"}},\"id\":\"948f2856-2df3-49ae-b1cd-17add43cd94a\",\"type\":\"ColumnDataSource\"},{\"attributes\":{\"active_drag\":\"auto\",\"active_inspect\":\"auto\",\"active_scroll\":\"auto\",\"active_tap\":\"auto\",\"tools\":[{\"id\":\"3151999f-c172-44ff-a204-a3783f2763f5\",\"type\":\"PanTool\"},{\"id\":\"8dc3ecfc-0adf-4310-9967-77adb593e975\",\"type\":\"WheelZoomTool\"},{\"id\":\"15419d17-61f4-4345-976f-c354fe734a73\",\"type\":\"BoxZoomTool\"},{\"id\":\"787cc190-ee91-4c4b-bfb9-c2ff17194861\",\"type\":\"SaveTool\"},{\"id\":\"6e403c4c-75ef-4a26-91e8-9b245157cae4\",\"type\":\"ResetTool\"},{\"id\":\"c0a8554d-1d96-4f39-83da-6ccbcf1ad3f7\",\"type\":\"HelpTool\"}]},\"id\":\"bbfad0d6-1315-46e7-b016-179c636e7b2c\",\"type\":\"Toolbar\"},{\"attributes\":{\"items\":[{\"id\":\"09012a2d-8915-4280-9f31-a43710078e91\",\"type\":\"LegendItem\"},{\"id\":\"a39e0577-2374-421a-a973-d8af12846b5f\",\"type\":\"LegendItem\"},{\"id\":\"1f7e5bd2-ba8f-42d7-9554-cd8013de38e1\",\"type\":\"LegendItem\"}],\"label_text_font_size\":{\"value\":\"8pt\"},\"location\":\"top_center\",\"orientation\":\"horizontal\",\"plot\":{\"id\":\"924261f7-64cd-45c5-bd6f-87ca3a862781\",\"subtype\":\"Figure\",\"type\":\"Plot\"}},\"id\":\"efc8fc69-a417-4ec8-bc61-a34896e00c31\",\"type\":\"Legend\"},{\"attributes\":{},\"id\":\"6e403c4c-75ef-4a26-91e8-9b245157cae4\",\"type\":\"ResetTool\"},{\"attributes\":{\"callback\":null,\"end\":2.3135572748904605,\"start\":-0.22322766227646001},\"id\":\"338bc140-43fa-4806-a5cc-009211b7e960\",\"type\":\"Range1d\"},{\"attributes\":{\"items\":[{\"id\":\"881e7800-878c-4454-ab7c-31b9c3df5344\",\"type\":\"LegendItem\"},{\"id\":\"dd2d17e4-1140-4319-a40c-300e3de00378\",\"type\":\"LegendItem\"}],\"label_text_font_size\":{\"value\":\"8pt\"},\"location\":\"top_center\",\"orientation\":\"horizontal\",\"plot\":{\"id\":\"3a9dc446-1336-41c7-a65f-d4c48d5dbe77\",\"subtype\":\"Figure\",\"type\":\"Plot\"}},\"id\":\"ef50e82b-689a-4eb1-a04f-4f04291f60b1\",\"type\":\"Legend\"},{\"attributes\":{},\"id\":\"4262ce1c-f904-4bd3-b343-49f0fbc34267\",\"type\":\"BasicTickFormatter\"},{\"attributes\":{\"line_alpha\":0.5,\"line_color\":\"#377eb8\",\"line_dash\":[6],\"line_width\":4,\"x\":{\"field\":\"x\"},\"y\":{\"field\":\"y\"}},\"id\":\"b0c667a6-f1b4-4d6e-ae26-e422a5e70fd6\",\"type\":\"Line\"},{\"attributes\":{\"label\":{\"value\":\"old CLIRAD (H2012) - CRD\"},\"renderers\":[{\"id\":\"64fe3607-e2da-4912-95f7-b98976850321\",\"type\":\"GlyphRenderer\"}]},\"id\":\"dd2d17e4-1140-4319-a40c-300e3de00378\",\"type\":\"LegendItem\"},{\"attributes\":{},\"id\":\"42c7ec8d-e2c7-463b-a290-0af16afc01c6\",\"type\":\"UnionRenderers\"},{\"attributes\":{\"line_alpha\":0.1,\"line_color\":\"#1f77b4\",\"line_dash\":[6],\"line_width\":4,\"x\":{\"field\":\"x\"},\"y\":{\"field\":\"y\"}},\"id\":\"cece6065-51c6-435b-8343-28e07801f740\",\"type\":\"Line\"},{\"attributes\":{\"data_source\":{\"id\":\"fe97a10d-a2ab-45d1-9102-2d67424892fd\",\"type\":\"ColumnDataSource\"},\"glyph\":{\"id\":\"b0c667a6-f1b4-4d6e-ae26-e422a5e70fd6\",\"type\":\"Line\"},\"hover_glyph\":null,\"muted_glyph\":null,\"nonselection_glyph\":{\"id\":\"cece6065-51c6-435b-8343-28e07801f740\",\"type\":\"Line\"},\"selection_glyph\":null,\"view\":{\"id\":\"6405c94a-8a18-44f6-b8c1-a88d6aa5e9cb\",\"type\":\"CDSView\"}},\"id\":\"64fe3607-e2da-4912-95f7-b98976850321\",\"type\":\"GlyphRenderer\"},{\"attributes\":{\"callback\":null,\"data\":{\"x\":{\"__ndarray__\":\"QEr14GpmEsDQUQomvS0TwECOLtAVRQnAyG4E7w1kFUAwCG6K07rzP2jG3ETKaAVAIDSvE8+a1D84WLw0a3bwP8B2CVgEGd6/gAEb8SXj5T+gXWifLPzZv1BIY1h4OdU/gFTeaCAF0r/AU/RFxYvAP0h4oPen7Ly/wKOQ+b0VoD/gKRbxqoK7vwA09+KM5nu/QBvKVo2Xv78AEqWWOp7Ov3BzIslj9ti/gApK0VUU37/gyd0OWm7ov0D75ws5Mua/wIc6h4XW3r+Q48y885XWvwB/tLThVLC/IP++3wZjwr+A8gVsXEm9vwDRmm/daKO/gI3nfaiUkj/AQE7cYBOdv+BkMo6PXa2/AKoyxVLtcD9A4+/aVS+Av6A9GyNwb46/cNIdfcBUiz8AHIdAy8FcP5BuzJoOMok/b2ce0np0pD8UEyzBK56QP8Beg9VHjZ+/gPKVd3D5n7+AD/jI4QOjv8DcwbQ4Uai/AG61+C87or/ASYzDVZqev2D75C8ty6C/ANT1m/xjlb9Ar8iri82Xv0BrLlVYt5W/ABSboWSMa78ghb8UGtelv0BWMP2VTZ2/AMakubnjcr+ACh1oBKqKv0CiEj/MA5G/AADjcuinMj/Ajj/XEoCaPwDwRGmfKYS/AAyIEFfOZj8AItboev6lP1AvBF6BP7c/QN1dRRBwqj9ACvj956WkP8BM5jLOU7A/kB8XOk4Itz8Ay8mloMS8P8Bl77ruFZ4/QHOrAh4hnz8g3sjPVdmmP/C+80esF7A/gAETBSmitD+gbg0US524P7C02mPse7E/\",\"dtype\":\"float64\",\"shape\":[75]},\"y\":{\"__ndarray__\":\"GhExyth1ND/Sv8nbtpRIP2vylNV0PVE/aTum7souWD/At0SJ8fVgPw3Iuahxymc/MSNhhJWvcD/bTfBN02d3P2zb5nxnaoA/CD5h5MAGhz8NmeH1TyaQP+zrCsc9p5Y/LbKd76fGnz/bLW5ISEmmPww9YvTcQq8/JV2OstnstT8Er5Y7M8G+P0c+r3jqkcU/5h99k6ZBzj88bCIzFzjVP4enV8oyxN0//yH99nXg5D8qOpLLf0jtP5kqGJXUifQ/c9cS8kHP/D+/DpwzojQEQIEmwoanVwxA4lgXt9HgE0BSSZ2AJuIbQAMJih9jjiNA5q4l5INuK0AwTKYKRj0zQNv5fmq8/DpAaCJseHrtQkB/+zpwzoxKQM3MzMzMeFJAZmZmZmZqWEAAAAAAAFxeQM3MzMzMJmJAmpmZmZkfZUBmZmZmZhhoQDMzMzMzEWtAAAAAAAAKbkBmZmZmZoFwQM3MzMzM/XFAMzMzMzN6c0CamZmZmfZ0QAAAAAAAc3ZAZmZmZmbvd0DNzMzMzGt5QDMzMzMz6HpAmpmZmZlkfEAAAAAAAOF9QGZmZmZmXX9AZmZmZuZsgECamZmZGSuBQM3MzMxM6YFAAAAAAICngkAzMzMzs2WDQGZmZmbmI4RAmpmZmRnihEDNzMzMTKCFQAAAAACAXoZAMzMzM7Mch0BmZmZm5tqHQJqZmZkZmYhAzczMzExXiUAAAAAAgBWKQDMzMzOz04pAZmZmZuaRi0CamZmZGVCMQM3MzMxMDo1AAAAAAIDMjUAzMzMzs4qOQGZmZmbmSI9A\",\"dtype\":\"float64\",\"shape\":[75]}},\"selected\":{\"id\":\"6dcc6b55-26b2-4e80-aedf-2522fd860062\",\"type\":\"Selection\"},\"selection_policy\":{\"id\":\"c372670d-8b21-4dd8-a5a6-ada0ca699d17\",\"type\":\"UnionRenderers\"}},\"id\":\"fe97a10d-a2ab-45d1-9102-2d67424892fd\",\"type\":\"ColumnDataSource\"},{\"attributes\":{},\"id\":\"633dd4a7-aa83-40c9-b66d-13aeb4ce0ba3\",\"type\":\"LinearScale\"},{\"attributes\":{},\"id\":\"08c80668-5d8e-41f4-b1d5-132321ea6c3c\",\"type\":\"BasicTicker\"},{\"attributes\":{},\"id\":\"bc6dc922-d04b-4088-867f-ffae52ff98d5\",\"type\":\"Selection\"},{\"attributes\":{\"axis_label\":\"cooling rate [K/day]\",\"formatter\":{\"id\":\"dce8e59a-e947-4af0-b0bf-b92ff52dcd46\",\"type\":\"BasicTickFormatter\"},\"plot\":{\"id\":\"2ccb3ef2-3809-4755-b765-08420cc738d2\",\"subtype\":\"Figure\",\"type\":\"Plot\"},\"ticker\":{\"id\":\"08c80668-5d8e-41f4-b1d5-132321ea6c3c\",\"type\":\"BasicTicker\"}},\"id\":\"cc337fc7-731a-4a5d-916b-a6662b55b5fd\",\"type\":\"LinearAxis\"},{\"attributes\":{\"overlay\":{\"id\":\"5a34ad2b-5283-4eac-902b-bcc26e1d7fb1\",\"type\":\"BoxAnnotation\"}},\"id\":\"15419d17-61f4-4345-976f-c354fe734a73\",\"type\":\"BoxZoomTool\"},{\"attributes\":{\"bottom_units\":\"screen\",\"fill_alpha\":{\"value\":0.5},\"fill_color\":{\"value\":\"lightgrey\"},\"left_units\":\"screen\",\"level\":\"overlay\",\"line_alpha\":{\"value\":1.0},\"line_color\":{\"value\":\"black\"},\"line_dash\":[4,4],\"line_width\":{\"value\":2},\"plot\":null,\"render_mode\":\"css\",\"right_units\":\"screen\",\"top_units\":\"screen\"},\"id\":\"5a34ad2b-5283-4eac-902b-bcc26e1d7fb1\",\"type\":\"BoxAnnotation\"},{\"attributes\":{\"bottom_units\":\"screen\",\"fill_alpha\":{\"value\":0.5},\"fill_color\":{\"value\":\"lightgrey\"},\"left_units\":\"screen\",\"level\":\"overlay\",\"line_alpha\":{\"value\":1.0},\"line_color\":{\"value\":\"black\"},\"line_dash\":[4,4],\"line_width\":{\"value\":2},\"plot\":null,\"render_mode\":\"css\",\"right_units\":\"screen\",\"top_units\":\"screen\"},\"id\":\"03d5a30e-d84b-47e3-8157-d3e65163d1f4\",\"type\":\"BoxAnnotation\"},{\"attributes\":{},\"id\":\"64eea7a0-5321-44a2-9e1d-e1479e9d0077\",\"type\":\"UnionRenderers\"},{\"attributes\":{},\"id\":\"3151999f-c172-44ff-a204-a3783f2763f5\",\"type\":\"PanTool\"},{\"attributes\":{},\"id\":\"d81cd466-f18f-47b8-b70d-6676ef2c511b\",\"type\":\"BasicTicker\"},{\"attributes\":{\"source\":{\"id\":\"fe97a10d-a2ab-45d1-9102-2d67424892fd\",\"type\":\"ColumnDataSource\"}},\"id\":\"6405c94a-8a18-44f6-b8c1-a88d6aa5e9cb\",\"type\":\"CDSView\"},{\"attributes\":{\"axis_label\":\"pressure [mb]\",\"formatter\":{\"id\":\"4262ce1c-f904-4bd3-b343-49f0fbc34267\",\"type\":\"BasicTickFormatter\"},\"plot\":{\"id\":\"2ccb3ef2-3809-4755-b765-08420cc738d2\",\"subtype\":\"Figure\",\"type\":\"Plot\"},\"ticker\":{\"id\":\"d81cd466-f18f-47b8-b70d-6676ef2c511b\",\"type\":\"BasicTicker\"}},\"id\":\"32b3b10f-c777-4aba-a13a-f972c5f6df5c\",\"type\":\"LinearAxis\"},{\"attributes\":{\"data_source\":{\"id\":\"07374acb-93da-480d-9a01-b4803a6c0138\",\"type\":\"ColumnDataSource\"},\"glyph\":{\"id\":\"3a2ca99d-e0a8-4517-a935-4d2086d10217\",\"type\":\"Line\"},\"hover_glyph\":null,\"muted_glyph\":null,\"nonselection_glyph\":{\"id\":\"37f5497a-532c-43ce-9fc3-8cc45284f140\",\"type\":\"Line\"},\"selection_glyph\":null,\"view\":{\"id\":\"f8748893-1a5c-483e-958d-f3e470e4880c\",\"type\":\"CDSView\"}},\"id\":\"2379eebd-9422-4f69-bacd-11f591a1d302\",\"type\":\"GlyphRenderer\"},{\"attributes\":{\"plot\":null,\"text\":\"\"},\"id\":\"8743fbd8-d690-456f-9a83-28306b755f0d\",\"type\":\"Title\"},{\"attributes\":{},\"id\":\"c0a8554d-1d96-4f39-83da-6ccbcf1ad3f7\",\"type\":\"HelpTool\"},{\"attributes\":{\"plot\":{\"id\":\"2ccb3ef2-3809-4755-b765-08420cc738d2\",\"subtype\":\"Figure\",\"type\":\"Plot\"},\"ticker\":{\"id\":\"08c80668-5d8e-41f4-b1d5-132321ea6c3c\",\"type\":\"BasicTicker\"}},\"id\":\"afad677f-b598-4af5-b435-87f407f730a9\",\"type\":\"Grid\"},{\"attributes\":{},\"id\":\"8dc3ecfc-0adf-4310-9967-77adb593e975\",\"type\":\"WheelZoomTool\"},{\"attributes\":{\"dimension\":1,\"plot\":{\"id\":\"2ccb3ef2-3809-4755-b765-08420cc738d2\",\"subtype\":\"Figure\",\"type\":\"Plot\"},\"ticker\":{\"id\":\"d81cd466-f18f-47b8-b70d-6676ef2c511b\",\"type\":\"BasicTicker\"}},\"id\":\"5a5d0063-8f45-40c2-8d20-72dea38af81d\",\"type\":\"Grid\"},{\"attributes\":{},\"id\":\"2e945c2e-0673-4b8c-9eab-86edc27fcc9c\",\"type\":\"Selection\"},{\"attributes\":{\"above\":[{\"id\":\"ef50e82b-689a-4eb1-a04f-4f04291f60b1\",\"type\":\"Legend\"}],\"below\":[{\"id\":\"37bc15ff-8a03-4dee-9d45-89a66f726b6e\",\"type\":\"LinearAxis\"}],\"left\":[{\"id\":\"4b604ba9-47c4-4050-93eb-04a1a0247cb3\",\"type\":\"LogAxis\"}],\"plot_width\":300,\"renderers\":[{\"id\":\"37bc15ff-8a03-4dee-9d45-89a66f726b6e\",\"type\":\"LinearAxis\"},{\"id\":\"658dca25-c7f9-4183-90a8-22e9c1b9326c\",\"type\":\"Grid\"},{\"id\":\"4b604ba9-47c4-4050-93eb-04a1a0247cb3\",\"type\":\"LogAxis\"},{\"id\":\"4108165d-49ae-4444-9413-60d8aed2178d\",\"type\":\"Grid\"},{\"id\":\"03d5a30e-d84b-47e3-8157-d3e65163d1f4\",\"type\":\"BoxAnnotation\"},{\"id\":\"7f714000-c14f-4c0b-b8c4-9e6bc6244fbe\",\"type\":\"GlyphRenderer\"},{\"id\":\"82facb79-4ceb-4d77-9884-c8ec70776f39\",\"type\":\"GlyphRenderer\"},{\"id\":\"64fe3607-e2da-4912-95f7-b98976850321\",\"type\":\"GlyphRenderer\"},{\"id\":\"ef50e82b-689a-4eb1-a04f-4f04291f60b1\",\"type\":\"Legend\"}],\"title\":{\"id\":\"c41e1e66-78b0-4ea3-80b9-3c028cb1dce6\",\"type\":\"Title\"},\"toolbar\":{\"id\":\"2c15b06e-d172-4bb2-b819-62b68c334284\",\"type\":\"Toolbar\"},\"toolbar_location\":null,\"x_range\":{\"id\":\"f7119f2d-0259-49dc-9b37-5f3136afbb1e\",\"type\":\"Range1d\"},\"x_scale\":{\"id\":\"8cb1dc60-1580-4021-bc12-30ce44e42101\",\"type\":\"LinearScale\"},\"y_range\":{\"id\":\"44060ee9-30f0-47ca-b61d-8b6253643142\",\"type\":\"Range1d\"},\"y_scale\":{\"id\":\"cf291cdc-5c7b-422a-97ab-06748e904a54\",\"type\":\"LogScale\"}},\"id\":\"3a9dc446-1336-41c7-a65f-d4c48d5dbe77\",\"subtype\":\"Figure\",\"type\":\"Plot\"},{\"attributes\":{\"label\":{\"value\":\"CLIRAD (single-run) - CRD\"},\"renderers\":[{\"id\":\"7f714000-c14f-4c0b-b8c4-9e6bc6244fbe\",\"type\":\"GlyphRenderer\"},{\"id\":\"82facb79-4ceb-4d77-9884-c8ec70776f39\",\"type\":\"GlyphRenderer\"}]},\"id\":\"881e7800-878c-4454-ab7c-31b9c3df5344\",\"type\":\"LegendItem\"},{\"attributes\":{\"line_alpha\":0.5,\"line_color\":\"#984ea3\",\"line_width\":1.5,\"x\":{\"field\":\"x\"},\"y\":{\"field\":\"y\"}},\"id\":\"3a2ca99d-e0a8-4517-a935-4d2086d10217\",\"type\":\"Line\"},{\"attributes\":{},\"id\":\"787cc190-ee91-4c4b-bfb9-c2ff17194861\",\"type\":\"SaveTool\"},{\"attributes\":{\"label\":{\"value\":\"old CLIRAD (H2012)\"},\"renderers\":[{\"id\":\"66fdf64c-6257-4b1e-83d5-3211c2ab00bb\",\"type\":\"GlyphRenderer\"},{\"id\":\"2379eebd-9422-4f69-bacd-11f591a1d302\",\"type\":\"GlyphRenderer\"}]},\"id\":\"5e6ef564-b498-4910-b3b8-b98b4c6a6360\",\"type\":\"LegendItem\"},{\"attributes\":{},\"id\":\"0339bbae-c52a-4c9a-99ad-1e419be22aae\",\"type\":\"LinearScale\"},{\"attributes\":{\"data_source\":{\"id\":\"665e37d6-05b5-4bc2-8727-2342656e9fa3\",\"type\":\"ColumnDataSource\"},\"glyph\":{\"id\":\"1a856b93-fdac-406b-bffa-ddd79e8a3323\",\"type\":\"Circle\"},\"hover_glyph\":null,\"muted_glyph\":null,\"nonselection_glyph\":{\"id\":\"4454f97d-e883-44f0-bcce-b8bd46fb0bb4\",\"type\":\"Circle\"},\"selection_glyph\":null,\"view\":{\"id\":\"fac64355-b234-4b68-a2d9-b5212569d373\",\"type\":\"CDSView\"}},\"id\":\"04252175-ae87-4b7b-9840-022054206083\",\"type\":\"GlyphRenderer\"},{\"attributes\":{},\"id\":\"e62b5fe0-9d35-4fd4-a644-f63d58e118f7\",\"type\":\"UnionRenderers\"},{\"attributes\":{},\"id\":\"c2841159-09de-4184-b8c9-2cdc977dac83\",\"type\":\"UnionRenderers\"},{\"attributes\":{\"fill_alpha\":{\"value\":0.1},\"fill_color\":{\"value\":\"#1f77b4\"},\"line_alpha\":{\"value\":0.1},\"line_color\":{\"value\":\"#1f77b4\"},\"x\":{\"field\":\"x\"},\"y\":{\"field\":\"y\"}},\"id\":\"4454f97d-e883-44f0-bcce-b8bd46fb0bb4\",\"type\":\"Circle\"},{\"attributes\":{\"children\":[{\"id\":\"2ccb3ef2-3809-4755-b765-08420cc738d2\",\"subtype\":\"Figure\",\"type\":\"Plot\"},{\"id\":\"924261f7-64cd-45c5-bd6f-87ca3a862781\",\"subtype\":\"Figure\",\"type\":\"Plot\"},{\"id\":\"3a9dc446-1336-41c7-a65f-d4c48d5dbe77\",\"subtype\":\"Figure\",\"type\":\"Plot\"}]},\"id\":\"977dcf10-27f0-47b7-8f13-b797b194496c\",\"type\":\"Row\"},{\"attributes\":{\"callback\":null,\"data\":{\"x\":{\"__ndarray__\":\"oGsWFOcWRMAMO53n/6ogwD3viZgKZgLA/QYLKQLU/D8kxx1hxGkOQMQ0+uZxzQ5AVNhXd+QeBEAOfWNUzSflP8Ab6dWes+m/+NL3xc/V9b/FaMqELYjxv9IJsBTPId+/TcZOEIimsD/RlBh077XZP+5CgCXcI98/xk80a5U21D+mvbpH91KhP0I7juACtdC/1aw+HWoz4L+eELp8N6Pgv46j72rX7tG/sPOr1cQ1eb8yylG8HeyqvzLdYsjI0NO/iNtWXRBP17+iXw8BsSGxvwV3o383itg/95efVY5T1z8Wf4KYaOC3Pxz4JWCS45c/xGzh7qDj0D/z9Jq0lJzVP9S9cwqzvcM/ncXJA03snL/+DCuavWFzP5gifvItdK4/6ix5O2qXfj/VIxwFX/CrvyFUz3G74La/my7Kb2SHub/iQ7MhNea1vxA1JmSLibC/ec3xKLA2r7/CQWKSSD+dv/kBCet07ba/jdOl0S2ZuL/hF/AL7Yurv4nkUKY76K6/oQAAbI22s7/sel+r8Oayv1lPEDkNp6u/hX6dcBWzor/B7Z2I616YvxIFFivn5ZS/kePwCZ6plL+En8uXwV+Zv6r8aguhXJu/hY8q3THCk78YErbXNlBWP49H38C+f6A/WwZhsThqrD+Qb3Iuc+mtP/D2ZI59eqU/qxypqzTKlT/wr1QOo+RZP+CjI8tNBUE/JP80BLOBgT9iFteBPlSeP2eXidFcb6g/plqmh+qrrz+CO88mJx2yP91eBcEyWbM/pmiOXiQjtD+1cER8wdW0P/GeJNn6VLQ/\",\"dtype\":\"float64\",\"shape\":[75]},\"y\":{\"__ndarray__\":\"GhExyth1ND/Sv8nbtpRIP2vylNV0PVE/aTum7souWD/At0SJ8fVgPw3Iuahxymc/MSNhhJWvcD/bTfBN02d3P2zb5nxnaoA/CD5h5MAGhz8NmeH1TyaQP+zrCsc9p5Y/LbKd76fGnz/bLW5ISEmmPww9YvTcQq8/JV2OstnstT8Er5Y7M8G+P0c+r3jqkcU/5h99k6ZBzj88bCIzFzjVP4enV8oyxN0//yH99nXg5D8qOpLLf0jtP5kqGJXUifQ/c9cS8kHP/D+/DpwzojQEQIEmwoanVwxA4lgXt9HgE0BSSZ2AJuIbQAMJih9jjiNA5q4l5INuK0AwTKYKRj0zQNv5fmq8/DpAaCJseHrtQkB/+zpwzoxKQM3MzMzMeFJAZmZmZmZqWEAAAAAAAFxeQM3MzMzMJmJAmpmZmZkfZUBmZmZmZhhoQDMzMzMzEWtAAAAAAAAKbkBmZmZmZoFwQM3MzMzM/XFAMzMzMzN6c0CamZmZmfZ0QAAAAAAAc3ZAZmZmZmbvd0DNzMzMzGt5QDMzMzMz6HpAmpmZmZlkfEAAAAAAAOF9QGZmZmZmXX9AZmZmZuZsgECamZmZGSuBQM3MzMxM6YFAAAAAAICngkAzMzMzs2WDQGZmZmbmI4RAmpmZmRnihEDNzMzMTKCFQAAAAACAXoZAMzMzM7Mch0BmZmZm5tqHQJqZmZkZmYhAzczMzExXiUAAAAAAgBWKQDMzMzOz04pAZmZmZuaRi0CamZmZGVCMQM3MzMxMDo1AAAAAAIDMjUAzMzMzs4qOQGZmZmbmSI9A\",\"dtype\":\"float64\",\"shape\":[75]}},\"selected\":{\"id\":\"58903852-ed02-47ba-9c08-b941f3c93066\",\"type\":\"Selection\"},\"selection_policy\":{\"id\":\"03ca9674-8ac1-4ed9-b59d-a5c6483185b6\",\"type\":\"UnionRenderers\"}},\"id\":\"b8fc3b1a-5cdd-4e31-8cca-1741dd883d8e\",\"type\":\"ColumnDataSource\"},{\"attributes\":{},\"id\":\"69d8e7f0-ecf3-47cf-8165-46e31b00326c\",\"type\":\"Selection\"},{\"attributes\":{\"callback\":null,\"data\":{\"x\":{\"__ndarray__\":\"zhhdnl3RU0CKgDdE+dxEQP6f5duhdUFAMJBr6ewEQkAADxZQyK45QBmX3ka8EDZAjl8alnlwL0CeYJlYHKIqQJoaoQNWxSJAwL4t7BozIUBMkS56I6AXQBxPe4ld/BRAnMjiKz2HCkCJCgdQ/WcBQKJTvluRvOg/j/JpYJwB9j+fcxKIKREEQOwUvOtLFw1AV0At7oRoEkD5lECKxjYXQAdydNQ0jR1ACbyvRZLfI0CO3MmPRGApQCcUNq4qNylA6VN9h30SJECRnP+HbGofQDQKaukXmhlAteFC/mL9E0CTDffT91MQQEkVAKh1YwtAqFesCIQRBkATatBMXLz/P4fvYPUXo/Y/tDrQnFTK8T/fneFQ7xLnP14aDQuCJtc/5BrOx2LRzT+fE4V0bnvHP3ueIXamhrA/cWaxNtALrr92uqPyMJK3P6q5+U821+g/ckrZjXL49z/TaxRJZAUAQPzVLij27QFAige8XqaCAEAv4Q7keaX+P0VyKG35kv0/XHVqXZRQ/T/+RskYEAv9PwKD1IjB3fw/JBko3yJ2/D//mRCM5iX7P/btQHcr5vo/xTCcdQr9+j+f/V+tjrf6P0Wt2HvLrvo/9IV/x6br+z/bYX40veD8P8+HZwkyUvw/CkxgoI8l/D8QA+bsYB78P2eu9w7DDvw/khNJm3qS+j8vZ0xHVJ75Py0d1shscPk/NKgVKiiK+T/NNtzstIr5P4ps72zyaPc/TlSpuPUj9j9S2qZu6gj1P2XVmdu6VPQ/t/WgjjEZ9D+np734CoH0P1P4Q57qwfo/\",\"dtype\":\"float64\",\"shape\":[75]},\"y\":{\"__ndarray__\":\"hLndy31yND/6fmq8dJNIP8n9DkWBPlE/aDum7souWD/b4a/JGvVgP9f34SAhymc/ZvM4DOavcD+z0M5pFmh3PxuC4zJuaoA/xjcUPlsHhz8uHAjJAiaQP9ieWRKgppY/oI7HDFTGnz+a5h2n6EimPzS6g9iZQq8/IuAQqtTstT9SSZ2AJsK+P4nS3uALk8U/ih9j7lpCzj+ASL99HTjVP4enV8oyxN0/ACL99nXg5D9fmEwVjErtPyUGgZVDi/Q/AiuHFtnO/D9OYhBYOTQEQPHSTWIQWAxA4XoUrkfhE0D8qfHSTeIbQMh2vp8ajyNArkfhehRuK0Bcj8L1KDwzQFyPwvUo/DpAPgrXo3DtQkDNzMzMzIxKQClcj8L1eFJAKVyPwvVoWECamZmZmVleQGZmZmZmJmJAAAAAAAAgZUCamZmZmRloQJqZmZmZEWtAmpmZmZkJbkCamZmZmYFwQGZmZmZm/nFAZmZmZmZ6c0BmZmZmZvZ0QDQzMzMzc3ZAAAAAAADwd0AAAAAAAGx5QAAAAAAA6HpAzMzMzMxkfEDMzMzMzOB9QM3MzMzMXH9AzczMzMxsgEAzMzMzMyuBQDMzMzMz6YFAMzMzMzOngkCamZmZmWWDQAAAAAAAJIRAAAAAAADihEAAAAAAAKCFQGZmZmZmXoZAzczMzMwch0DNzMzMzNqHQM3MzMzMmIhAMzMzMzNXiUCamZmZmRWKQAAAAAAA1IpAAAAAAACSi0AAAAAAAFCMQGZmZmZmDo1AzczMzMzMjUDNzMzMzIqOQM3MzMzMSI9A\",\"dtype\":\"float64\",\"shape\":[75]}},\"selected\":{\"id\":\"a5ac23f3-6ef6-4faa-9633-9710291c3f8c\",\"type\":\"Selection\"},\"selection_policy\":{\"id\":\"fa776703-6abd-4708-a6bb-8e3a876b3625\",\"type\":\"UnionRenderers\"}},\"id\":\"d55c3eec-9604-4f76-8107-db16d6bac3f2\",\"type\":\"ColumnDataSource\"},{\"attributes\":{\"num_minor_ticks\":10},\"id\":\"80f2e85a-1446-4274-b4d3-4289376590f7\",\"type\":\"LogTicker\"},{\"attributes\":{},\"id\":\"c1186653-5d79-4927-83d3-6d08ea0d2370\",\"type\":\"Selection\"},{\"attributes\":{\"tools\":[{\"id\":\"fe85faa3-e998-4c99-939f-6b0b546c2b08\",\"type\":\"PanTool\"},{\"id\":\"4b666437-45c7-4e45-8edd-1d6af0b08001\",\"type\":\"WheelZoomTool\"},{\"id\":\"37946986-55a2-480f-9624-1666387d8dd6\",\"type\":\"BoxZoomTool\"},{\"id\":\"e65f2483-db92-4a67-8cf1-1b1cd71c5990\",\"type\":\"SaveTool\"},{\"id\":\"975f6516-f9d4-47ea-bd74-82015da02a46\",\"type\":\"ResetTool\"},{\"id\":\"c7d2025f-15cc-41e3-b900-d2ff465bd95e\",\"type\":\"HelpTool\"},{\"id\":\"3151999f-c172-44ff-a204-a3783f2763f5\",\"type\":\"PanTool\"},{\"id\":\"8dc3ecfc-0adf-4310-9967-77adb593e975\",\"type\":\"WheelZoomTool\"},{\"id\":\"15419d17-61f4-4345-976f-c354fe734a73\",\"type\":\"BoxZoomTool\"},{\"id\":\"787cc190-ee91-4c4b-bfb9-c2ff17194861\",\"type\":\"SaveTool\"},{\"id\":\"6e403c4c-75ef-4a26-91e8-9b245157cae4\",\"type\":\"ResetTool\"},{\"id\":\"c0a8554d-1d96-4f39-83da-6ccbcf1ad3f7\",\"type\":\"HelpTool\"},{\"id\":\"27dd3f59-578c-4a85-99a6-cab756d05bd8\",\"type\":\"PanTool\"},{\"id\":\"24fe7cae-b030-4d71-91f3-f0d37910aee9\",\"type\":\"WheelZoomTool\"},{\"id\":\"51aae7a7-6584-43e1-b8df-9cc9bc783a66\",\"type\":\"BoxZoomTool\"},{\"id\":\"d706a91b-8351-4251-8f8c-b43b27505df5\",\"type\":\"SaveTool\"},{\"id\":\"9c96e72f-6d0f-441b-8972-ac7268e30d48\",\"type\":\"ResetTool\"},{\"id\":\"86b31719-ea5e-446c-bc8e-12d3ad52cb6a\",\"type\":\"HelpTool\"}]},\"id\":\"e5e66422-4265-4bd9-b89f-b391f84f6a11\",\"type\":\"ProxyToolbar\"},{\"attributes\":{\"fill_alpha\":{\"value\":0.1},\"fill_color\":{\"value\":\"#1f77b4\"},\"line_alpha\":{\"value\":0.1},\"line_color\":{\"value\":\"#1f77b4\"},\"x\":{\"field\":\"x\"},\"y\":{\"field\":\"y\"}},\"id\":\"ec4f620e-525a-4609-bc2c-841a7fe3f166\",\"type\":\"Circle\"},{\"attributes\":{\"source\":{\"id\":\"2d15094d-2eec-4fb5-9993-d12b7f3d05f6\",\"type\":\"ColumnDataSource\"}},\"id\":\"29230eb1-3641-4517-9c30-9f9e313562c4\",\"type\":\"CDSView\"},{\"attributes\":{},\"id\":\"b9291265-b78f-4f9a-aac0-40a449a17ad3\",\"type\":\"Selection\"},{\"attributes\":{},\"id\":\"62422513-515a-4352-9cd5-cbe5e5b9e770\",\"type\":\"BasicTickFormatter\"},{\"attributes\":{\"fill_alpha\":{\"value\":0.7},\"fill_color\":{\"value\":\"#984ea3\"},\"line_alpha\":{\"value\":0.7},\"line_color\":{\"value\":\"#984ea3\"},\"x\":{\"field\":\"x\"},\"y\":{\"field\":\"y\"}},\"id\":\"6c0382e3-894f-42e7-a134-998ca4ee68ce\",\"type\":\"Square\"},{\"attributes\":{\"fill_alpha\":{\"value\":0.1},\"fill_color\":{\"value\":\"#1f77b4\"},\"line_alpha\":{\"value\":0.1},\"line_color\":{\"value\":\"#1f77b4\"},\"x\":{\"field\":\"x\"},\"y\":{\"field\":\"y\"}},\"id\":\"b7e0f0d3-1dd9-4c29-871f-54559dc8405a\",\"type\":\"Square\"},{\"attributes\":{\"fill_alpha\":{\"value\":0.1},\"fill_color\":{\"value\":\"#1f77b4\"},\"line_alpha\":{\"value\":0.1},\"line_color\":{\"value\":\"#1f77b4\"},\"x\":{\"field\":\"x\"},\"y\":{\"field\":\"y\"}},\"id\":\"1c3cc38e-b754-4a51-a36d-e712fe6b45ec\",\"type\":\"Circle\"},{\"attributes\":{\"plot\":{\"id\":\"924261f7-64cd-45c5-bd6f-87ca3a862781\",\"subtype\":\"Figure\",\"type\":\"Plot\"},\"ticker\":{\"id\":\"e292bf97-3129-422e-90d1-30a59844b3d5\",\"type\":\"BasicTicker\"}},\"id\":\"b56b6597-5f4d-4ff0-87cf-e96869e1c2c7\",\"type\":\"Grid\"},{\"attributes\":{},\"id\":\"8cb1dc60-1580-4021-bc12-30ce44e42101\",\"type\":\"LinearScale\"},{\"attributes\":{\"callback\":null,\"data\":{\"x\":{\"__ndarray__\":\"cm1sTMT3VEDEyvjosEJHQOKI6DjzCUNArgQWV9awPkB9Lm8XG3M4QEz+Qv6iYzNA7eV8HaPLLkCX1QHyTpMoQFBmYSYetiNAUB04GtGpH0AmFyVE5j8ZQJca9QPGqBNALJP+OOHHDEBNxaf7QF8AQKtislomWuw/cW2dcO6A9T/uJJvfPu0EQIaQLTI/JQ1AxGiII+PmEkCJvfVeuCsYQD6ZBhGbHB9AXQw69DTYJEAsubcwKucqQNuT9D5OmipAJyi3szEJJUBlNebh5WkgQDDcPHBr2xlArtlANXuQFEBdJadFHckQQI2Avh0ZsQtAjYiwt1rsBUCL0SDoVBgAQK6C0nEEjvc/CggLSme58T9sXU2orFPnP0v0JYz9Gdg/vT38vxYczD9nBQTe6kHHP1IhkEXJwKo/8OZnhCVAub+xtVgCpmqzP6DUpY6g0+k/PKK3T1h4+D8RTDjQc1EAQG/dAQs7TwJAQt2eHpPLAEBWEh074x//PyCap9ZSGf4/rEzaTySm/T+7aXhHRmr9P688KeqeNP0/ruZ4EemD/D8olrZcn9T7P0+vNc9hW/s/i9VVL+4P+z+0NzC24uz6P8731Kza8vo/xFf4SHzq+z+gYyHpvHb8P68ROkiFevw/BAjYdCga/D8AUp8VbW77P3JrF/nKmvo/qCQeGfq++T/dplwHJfn4P2G4p+Uva/g/OzZ0RqMZ+D8dmn/iar73P/OuA7Ka8PY/gaaeQHGn9T9hkyjAH1L0P3aZGhdAU/M/n8VP/g7P8j+90HxHNvfyPwhNBtgrqvk/\",\"dtype\":\"float64\",\"shape\":[75]},\"y\":{\"__ndarray__\":\"GhExyth1ND/Sv8nbtpRIP2vylNV0PVE/aTum7souWD/At0SJ8fVgPw3Iuahxymc/MSNhhJWvcD/bTfBN02d3P2zb5nxnaoA/CD5h5MAGhz8NmeH1TyaQP+zrCsc9p5Y/LbKd76fGnz/bLW5ISEmmPww9YvTcQq8/JV2OstnstT8Er5Y7M8G+P0c+r3jqkcU/5h99k6ZBzj88bCIzFzjVP4enV8oyxN0//yH99nXg5D8qOpLLf0jtP5kqGJXUifQ/c9cS8kHP/D+/DpwzojQEQIEmwoanVwxA4lgXt9HgE0BSSZ2AJuIbQAMJih9jjiNA5q4l5INuK0AwTKYKRj0zQNv5fmq8/DpAaCJseHrtQkB/+zpwzoxKQM3MzMzMeFJAZmZmZmZqWEAAAAAAAFxeQM3MzMzMJmJAmpmZmZkfZUBmZmZmZhhoQDMzMzMzEWtAAAAAAAAKbkBmZmZmZoFwQM3MzMzM/XFAMzMzMzN6c0CamZmZmfZ0QAAAAAAAc3ZAZmZmZmbvd0DNzMzMzGt5QDMzMzMz6HpAmpmZmZlkfEAAAAAAAOF9QGZmZmZmXX9AZmZmZuZsgECamZmZGSuBQM3MzMxM6YFAAAAAAICngkAzMzMzs2WDQGZmZmbmI4RAmpmZmRnihEDNzMzMTKCFQAAAAACAXoZAMzMzM7Mch0BmZmZm5tqHQJqZmZkZmYhAzczMzExXiUAAAAAAgBWKQDMzMzOz04pAZmZmZuaRi0CamZmZGVCMQM3MzMxMDo1AAAAAAIDMjUAzMzMzs4qOQGZmZmbmSI9A\",\"dtype\":\"float64\",\"shape\":[75]}},\"selected\":{\"id\":\"55db1dea-47ff-4d04-a884-9444b676945c\",\"type\":\"Selection\"},\"selection_policy\":{\"id\":\"90c93dad-5ce5-49af-9526-7c4d0f418079\",\"type\":\"UnionRenderers\"}},\"id\":\"1d1ab5a0-75c8-4ac8-95b6-c2c75b767d4c\",\"type\":\"ColumnDataSource\"},{\"attributes\":{\"data_source\":{\"id\":\"d55c3eec-9604-4f76-8107-db16d6bac3f2\",\"type\":\"ColumnDataSource\"},\"glyph\":{\"id\":\"6c0382e3-894f-42e7-a134-998ca4ee68ce\",\"type\":\"Square\"},\"hover_glyph\":null,\"muted_glyph\":null,\"nonselection_glyph\":{\"id\":\"b7e0f0d3-1dd9-4c29-871f-54559dc8405a\",\"type\":\"Square\"},\"selection_glyph\":null,\"view\":{\"id\":\"2f373fa0-f75a-4616-b61d-b4c834b1e60a\",\"type\":\"CDSView\"}},\"id\":\"de662cd8-7b6e-431c-ac41-a5f6e1862858\",\"type\":\"GlyphRenderer\"},{\"attributes\":{\"ticker\":null},\"id\":\"fbcb7053-a495-4455-9546-f40342dd288e\",\"type\":\"LogTickFormatter\"},{\"attributes\":{\"fill_alpha\":{\"value\":0.7},\"fill_color\":{\"value\":\"#4daf4a\"},\"line_alpha\":{\"value\":0.7},\"line_color\":{\"value\":\"#4daf4a\"},\"x\":{\"field\":\"x\"},\"y\":{\"field\":\"y\"}},\"id\":\"36f7238b-0293-4806-aff7-9c9240657919\",\"type\":\"Circle\"},{\"attributes\":{},\"id\":\"9c96e72f-6d0f-441b-8972-ac7268e30d48\",\"type\":\"ResetTool\"},{\"attributes\":{\"source\":{\"id\":\"d55c3eec-9604-4f76-8107-db16d6bac3f2\",\"type\":\"ColumnDataSource\"}},\"id\":\"2f373fa0-f75a-4616-b61d-b4c834b1e60a\",\"type\":\"CDSView\"},{\"attributes\":{\"plot\":null,\"text\":\"\"},\"id\":\"385d202c-b6dc-4c1e-a139-ffc0e484a0da\",\"type\":\"Title\"},{\"attributes\":{\"label\":{\"value\":\"CRD\"},\"renderers\":[{\"id\":\"04252175-ae87-4b7b-9840-022054206083\",\"type\":\"GlyphRenderer\"},{\"id\":\"f51a2729-81d1-4370-a940-d141e057c909\",\"type\":\"GlyphRenderer\"}]},\"id\":\"a39e0577-2374-421a-a973-d8af12846b5f\",\"type\":\"LegendItem\"},{\"attributes\":{\"active_drag\":\"auto\",\"active_inspect\":\"auto\",\"active_scroll\":\"auto\",\"active_tap\":\"auto\",\"tools\":[{\"id\":\"fe85faa3-e998-4c99-939f-6b0b546c2b08\",\"type\":\"PanTool\"},{\"id\":\"4b666437-45c7-4e45-8edd-1d6af0b08001\",\"type\":\"WheelZoomTool\"},{\"id\":\"37946986-55a2-480f-9624-1666387d8dd6\",\"type\":\"BoxZoomTool\"},{\"id\":\"e65f2483-db92-4a67-8cf1-1b1cd71c5990\",\"type\":\"SaveTool\"},{\"id\":\"975f6516-f9d4-47ea-bd74-82015da02a46\",\"type\":\"ResetTool\"},{\"id\":\"c7d2025f-15cc-41e3-b900-d2ff465bd95e\",\"type\":\"HelpTool\"}]},\"id\":\"7a512e46-a5be-4264-8a8c-5e217e8dc8cb\",\"type\":\"Toolbar\"},{\"attributes\":{\"label\":{\"value\":\"old CLIRAD (H2012)\"},\"renderers\":[{\"id\":\"de662cd8-7b6e-431c-ac41-a5f6e1862858\",\"type\":\"GlyphRenderer\"},{\"id\":\"555a9653-3897-4c25-a44e-92d61d05fd4b\",\"type\":\"GlyphRenderer\"}]},\"id\":\"1f7e5bd2-ba8f-42d7-9554-cd8013de38e1\",\"type\":\"LegendItem\"},{\"attributes\":{\"data_source\":{\"id\":\"1d1ab5a0-75c8-4ac8-95b6-c2c75b767d4c\",\"type\":\"ColumnDataSource\"},\"glyph\":{\"id\":\"3c6f0eb6-ede7-437b-929d-8974d5dc5c06\",\"type\":\"Line\"},\"hover_glyph\":null,\"muted_glyph\":null,\"nonselection_glyph\":{\"id\":\"1a908898-f43c-4b57-986f-6039006bb582\",\"type\":\"Line\"},\"selection_glyph\":null,\"view\":{\"id\":\"8b6743b5-3f92-4362-94f2-4fa038ad3b19\",\"type\":\"CDSView\"}},\"id\":\"f51a2729-81d1-4370-a940-d141e057c909\",\"type\":\"GlyphRenderer\"},{\"attributes\":{\"data_source\":{\"id\":\"032791c4-1cbe-4270-b7dc-7b8f8940fa6e\",\"type\":\"ColumnDataSource\"},\"glyph\":{\"id\":\"36f7238b-0293-4806-aff7-9c9240657919\",\"type\":\"Circle\"},\"hover_glyph\":null,\"muted_glyph\":null,\"nonselection_glyph\":{\"id\":\"ec4f620e-525a-4609-bc2c-841a7fe3f166\",\"type\":\"Circle\"},\"selection_glyph\":null,\"view\":{\"id\":\"562fff39-ed8d-43fa-9796-bc60b158af4d\",\"type\":\"CDSView\"}},\"id\":\"87eb7714-71d2-4c56-839b-2206a202e01e\",\"type\":\"GlyphRenderer\"},{\"attributes\":{\"label\":{\"value\":\"CLIRAD (single-run)\"},\"renderers\":[{\"id\":\"bc7b3e3d-7980-428c-904e-3db9cf13fe43\",\"type\":\"GlyphRenderer\"}]},\"id\":\"09012a2d-8915-4280-9f31-a43710078e91\",\"type\":\"LegendItem\"},{\"attributes\":{\"callback\":null,\"end\":0.01,\"start\":1020},\"id\":\"44060ee9-30f0-47ca-b61d-8b6253643142\",\"type\":\"Range1d\"},{\"attributes\":{\"callback\":null,\"data\":{\"x\":{\"__ndarray__\":\"zhhdnl3RU0CKgDdE+dxEQP6f5duhdUFAMJBr6ewEQkAADxZQyK45QBmX3ka8EDZAjl8alnlwL0CeYJlYHKIqQJoaoQNWxSJAwL4t7BozIUBMkS56I6AXQBxPe4ld/BRAnMjiKz2HCkCJCgdQ/WcBQKJTvluRvOg/j/JpYJwB9j+fcxKIKREEQOwUvOtLFw1AV0At7oRoEkD5lECKxjYXQAdydNQ0jR1ACbyvRZLfI0CO3MmPRGApQCcUNq4qNylA6VN9h30SJECRnP+HbGofQDQKaukXmhlAteFC/mL9E0CTDffT91MQQEkVAKh1YwtAqFesCIQRBkATatBMXLz/P4fvYPUXo/Y/tDrQnFTK8T/fneFQ7xLnP14aDQuCJtc/5BrOx2LRzT+fE4V0bnvHP3ueIXamhrA/cWaxNtALrr92uqPyMJK3P6q5+U821+g/ckrZjXL49z/TaxRJZAUAQPzVLij27QFAige8XqaCAEAv4Q7keaX+P0VyKG35kv0/XHVqXZRQ/T/+RskYEAv9PwKD1IjB3fw/JBko3yJ2/D//mRCM5iX7P/btQHcr5vo/xTCcdQr9+j+f/V+tjrf6P0Wt2HvLrvo/9IV/x6br+z/bYX40veD8P8+HZwkyUvw/CkxgoI8l/D8QA+bsYB78P2eu9w7DDvw/khNJm3qS+j8vZ0xHVJ75Py0d1shscPk/NKgVKiiK+T/NNtzstIr5P4ps72zyaPc/TlSpuPUj9j9S2qZu6gj1P2XVmdu6VPQ/t/WgjjEZ9D+np734CoH0P1P4Q57qwfo/\",\"dtype\":\"float64\",\"shape\":[75]},\"y\":{\"__ndarray__\":\"hLndy31yND/6fmq8dJNIP8n9DkWBPlE/aDum7souWD/b4a/JGvVgP9f34SAhymc/ZvM4DOavcD+z0M5pFmh3PxuC4zJuaoA/xjcUPlsHhz8uHAjJAiaQP9ieWRKgppY/oI7HDFTGnz+a5h2n6EimPzS6g9iZQq8/IuAQqtTstT9SSZ2AJsK+P4nS3uALk8U/ih9j7lpCzj+ASL99HTjVP4enV8oyxN0/ACL99nXg5D9fmEwVjErtPyUGgZVDi/Q/AiuHFtnO/D9OYhBYOTQEQPHSTWIQWAxA4XoUrkfhE0D8qfHSTeIbQMh2vp8ajyNArkfhehRuK0Bcj8L1KDwzQFyPwvUo/DpAPgrXo3DtQkDNzMzMzIxKQClcj8L1eFJAKVyPwvVoWECamZmZmVleQGZmZmZmJmJAAAAAAAAgZUCamZmZmRloQJqZmZmZEWtAmpmZmZkJbkCamZmZmYFwQGZmZmZm/nFAZmZmZmZ6c0BmZmZmZvZ0QDQzMzMzc3ZAAAAAAADwd0AAAAAAAGx5QAAAAAAA6HpAzMzMzMxkfEDMzMzMzOB9QM3MzMzMXH9AzczMzMxsgEAzMzMzMyuBQDMzMzMz6YFAMzMzMzOngkCamZmZmWWDQAAAAAAAJIRAAAAAAADihEAAAAAAAKCFQGZmZmZmXoZAzczMzMwch0DNzMzMzNqHQM3MzMzMmIhAMzMzMzNXiUCamZmZmRWKQAAAAAAA1IpAAAAAAACSi0AAAAAAAFCMQGZmZmZmDo1AzczMzMzMjUDNzMzMzIqOQM3MzMzMSI9A\",\"dtype\":\"float64\",\"shape\":[75]}},\"selected\":{\"id\":\"b886b53b-648d-49d3-b95d-e6ee26ee8065\",\"type\":\"Selection\"},\"selection_policy\":{\"id\":\"e028150b-f957-498f-a7a7-12a177659f92\",\"type\":\"UnionRenderers\"}},\"id\":\"2d15094d-2eec-4fb5-9993-d12b7f3d05f6\",\"type\":\"ColumnDataSource\"},{\"attributes\":{},\"id\":\"111c6cc0-c0b9-4787-bf31-2682da0646d2\",\"type\":\"Selection\"},{\"attributes\":{\"source\":{\"id\":\"665e37d6-05b5-4bc2-8727-2342656e9fa3\",\"type\":\"ColumnDataSource\"}},\"id\":\"fac64355-b234-4b68-a2d9-b5212569d373\",\"type\":\"CDSView\"},{\"attributes\":{\"source\":{\"id\":\"1d1ab5a0-75c8-4ac8-95b6-c2c75b767d4c\",\"type\":\"ColumnDataSource\"}},\"id\":\"8b6743b5-3f92-4362-94f2-4fa038ad3b19\",\"type\":\"CDSView\"},{\"attributes\":{},\"id\":\"e292bf97-3129-422e-90d1-30a59844b3d5\",\"type\":\"BasicTicker\"},{\"attributes\":{\"fill_alpha\":{\"value\":0.7},\"fill_color\":{\"value\":\"#4daf4a\"},\"line_alpha\":{\"value\":0.7},\"line_color\":{\"value\":\"#4daf4a\"},\"x\":{\"field\":\"x\"},\"y\":{\"field\":\"y\"}},\"id\":\"1a856b93-fdac-406b-bffa-ddd79e8a3323\",\"type\":\"Circle\"},{\"attributes\":{\"callback\":null,\"end\":0.01,\"start\":1020},\"id\":\"671e6fe6-6dd6-4d64-9a50-08ac1caf7c94\",\"type\":\"Range1d\"},{\"attributes\":{\"line_alpha\":0.1,\"line_color\":\"#1f77b4\",\"line_width\":1.5,\"x\":{\"field\":\"x\"},\"y\":{\"field\":\"y\"}},\"id\":\"1a908898-f43c-4b57-986f-6039006bb582\",\"type\":\"Line\"},{\"attributes\":{},\"id\":\"22c91c6d-ab54-4497-af2a-10127e0531c0\",\"type\":\"Selection\"},{\"attributes\":{\"num_minor_ticks\":10},\"id\":\"a5292a19-2741-4021-a5c9-ee3675edf850\",\"type\":\"LogTicker\"},{\"attributes\":{\"line_color\":\"#4daf4a\",\"line_width\":1.5,\"x\":{\"field\":\"x\"},\"y\":{\"field\":\"y\"}},\"id\":\"3c6f0eb6-ede7-437b-929d-8974d5dc5c06\",\"type\":\"Line\"},{\"attributes\":{\"line_alpha\":0.5,\"line_color\":\"#984ea3\",\"line_width\":1.5,\"x\":{\"field\":\"x\"},\"y\":{\"field\":\"y\"}},\"id\":\"25c49861-355a-40d4-9ccc-ed6efa86d3ec\",\"type\":\"Line\"},{\"attributes\":{\"fill_alpha\":{\"value\":0.7},\"fill_color\":{\"value\":\"#984ea3\"},\"line_alpha\":{\"value\":0.7},\"line_color\":{\"value\":\"#984ea3\"},\"x\":{\"field\":\"x\"},\"y\":{\"field\":\"y\"}},\"id\":\"c9f6b94c-f46f-4752-b356-916e86e95647\",\"type\":\"Circle\"},{\"attributes\":{},\"id\":\"fea5b06d-9e67-4dd1-9790-59a4a5372714\",\"type\":\"UnionRenderers\"},{\"attributes\":{},\"id\":\"6dcc6b55-26b2-4e80-aedf-2522fd860062\",\"type\":\"Selection\"},{\"attributes\":{},\"id\":\"dce8e59a-e947-4af0-b0bf-b92ff52dcd46\",\"type\":\"BasicTickFormatter\"},{\"attributes\":{},\"id\":\"02b16a19-474a-4b55-9953-1acb9b48fe5d\",\"type\":\"UnionRenderers\"},{\"attributes\":{\"children\":[{\"id\":\"977dcf10-27f0-47b7-8f13-b797b194496c\",\"type\":\"Row\"}]},\"id\":\"201b9486-38f7-407a-b180-c0ecde908533\",\"type\":\"Column\"},{\"attributes\":{\"data_source\":{\"id\":\"2d15094d-2eec-4fb5-9993-d12b7f3d05f6\",\"type\":\"ColumnDataSource\"},\"glyph\":{\"id\":\"25c49861-355a-40d4-9ccc-ed6efa86d3ec\",\"type\":\"Line\"},\"hover_glyph\":null,\"muted_glyph\":null,\"nonselection_glyph\":{\"id\":\"eada07fb-5067-4156-9f65-3845b29dd903\",\"type\":\"Line\"},\"selection_glyph\":null,\"view\":{\"id\":\"29230eb1-3641-4517-9c30-9f9e313562c4\",\"type\":\"CDSView\"}},\"id\":\"555a9653-3897-4c25-a44e-92d61d05fd4b\",\"type\":\"GlyphRenderer\"},{\"attributes\":{\"axis_label\":\"pressure [mb]\",\"formatter\":{\"id\":\"349f4439-351f-4483-8efc-a8c49e8f5e07\",\"type\":\"LogTickFormatter\"},\"plot\":{\"id\":\"3a9dc446-1336-41c7-a65f-d4c48d5dbe77\",\"subtype\":\"Figure\",\"type\":\"Plot\"},\"ticker\":{\"id\":\"80f2e85a-1446-4274-b4d3-4289376590f7\",\"type\":\"LogTicker\"}},\"id\":\"4b604ba9-47c4-4050-93eb-04a1a0247cb3\",\"type\":\"LogAxis\"},{\"attributes\":{},\"id\":\"c372670d-8b21-4dd8-a5a6-ada0ca699d17\",\"type\":\"UnionRenderers\"},{\"attributes\":{\"data_source\":{\"id\":\"b8fc3b1a-5cdd-4e31-8cca-1741dd883d8e\",\"type\":\"ColumnDataSource\"},\"glyph\":{\"id\":\"c9f6b94c-f46f-4752-b356-916e86e95647\",\"type\":\"Circle\"},\"hover_glyph\":null,\"muted_glyph\":null,\"nonselection_glyph\":{\"id\":\"1c3cc38e-b754-4a51-a36d-e712fe6b45ec\",\"type\":\"Circle\"},\"selection_glyph\":null,\"view\":{\"id\":\"3f950375-59e7-4469-abd2-8c1c5941ef3f\",\"type\":\"CDSView\"}},\"id\":\"7f714000-c14f-4c0b-b8c4-9e6bc6244fbe\",\"type\":\"GlyphRenderer\"},{\"attributes\":{\"line_alpha\":0.1,\"line_color\":\"#1f77b4\",\"line_width\":1.5,\"x\":{\"field\":\"x\"},\"y\":{\"field\":\"y\"}},\"id\":\"eada07fb-5067-4156-9f65-3845b29dd903\",\"type\":\"Line\"},{\"attributes\":{\"dimension\":1,\"plot\":{\"id\":\"3a9dc446-1336-41c7-a65f-d4c48d5dbe77\",\"subtype\":\"Figure\",\"type\":\"Plot\"},\"ticker\":{\"id\":\"80f2e85a-1446-4274-b4d3-4289376590f7\",\"type\":\"LogTicker\"}},\"id\":\"4108165d-49ae-4444-9413-60d8aed2178d\",\"type\":\"Grid\"},{\"attributes\":{\"axis_label\":\"pressure [mb]\",\"formatter\":{\"id\":\"fbcb7053-a495-4455-9546-f40342dd288e\",\"type\":\"LogTickFormatter\"},\"plot\":{\"id\":\"924261f7-64cd-45c5-bd6f-87ca3a862781\",\"subtype\":\"Figure\",\"type\":\"Plot\"},\"ticker\":{\"id\":\"a5292a19-2741-4021-a5c9-ee3675edf850\",\"type\":\"LogTicker\"}},\"id\":\"ae68195d-8aee-4336-a087-4db09f2c193f\",\"type\":\"LogAxis\"},{\"attributes\":{\"above\":[{\"id\":\"76f9472b-9090-435f-aead-3c96a642a501\",\"type\":\"Legend\"}],\"below\":[{\"id\":\"cc337fc7-731a-4a5d-916b-a6662b55b5fd\",\"type\":\"LinearAxis\"}],\"left\":[{\"id\":\"32b3b10f-c777-4aba-a13a-f972c5f6df5c\",\"type\":\"LinearAxis\"}],\"plot_width\":300,\"renderers\":[{\"id\":\"cc337fc7-731a-4a5d-916b-a6662b55b5fd\",\"type\":\"LinearAxis\"},{\"id\":\"afad677f-b598-4af5-b435-87f407f730a9\",\"type\":\"Grid\"},{\"id\":\"32b3b10f-c777-4aba-a13a-f972c5f6df5c\",\"type\":\"LinearAxis\"},{\"id\":\"5a5d0063-8f45-40c2-8d20-72dea38af81d\",\"type\":\"Grid\"},{\"id\":\"929be3d5-6b39-40d8-b319-b00210022ca6\",\"type\":\"BoxAnnotation\"},{\"id\":\"e0840d7a-7c97-4ac9-9f1d-47ce60e1a36d\",\"type\":\"GlyphRenderer\"},{\"id\":\"87eb7714-71d2-4c56-839b-2206a202e01e\",\"type\":\"GlyphRenderer\"},{\"id\":\"28701ba7-3289-466a-913d-6c3492f01e38\",\"type\":\"GlyphRenderer\"},{\"id\":\"66fdf64c-6257-4b1e-83d5-3211c2ab00bb\",\"type\":\"GlyphRenderer\"},{\"id\":\"2379eebd-9422-4f69-bacd-11f591a1d302\",\"type\":\"GlyphRenderer\"},{\"id\":\"76f9472b-9090-435f-aead-3c96a642a501\",\"type\":\"Legend\"}],\"title\":{\"id\":\"8743fbd8-d690-456f-9a83-28306b755f0d\",\"type\":\"Title\"},\"toolbar\":{\"id\":\"7a512e46-a5be-4264-8a8c-5e217e8dc8cb\",\"type\":\"Toolbar\"},\"toolbar_location\":null,\"x_range\":{\"id\":\"338bc140-43fa-4806-a5cc-009211b7e960\",\"type\":\"Range1d\"},\"x_scale\":{\"id\":\"633dd4a7-aa83-40c9-b66d-13aeb4ce0ba3\",\"type\":\"LinearScale\"},\"y_range\":{\"id\":\"0b4a59e8-9446-4f5e-8ef8-30e7cb785a20\",\"type\":\"Range1d\"},\"y_scale\":{\"id\":\"0339bbae-c52a-4c9a-99ad-1e419be22aae\",\"type\":\"LinearScale\"}},\"id\":\"2ccb3ef2-3809-4755-b765-08420cc738d2\",\"subtype\":\"Figure\",\"type\":\"Plot\"},{\"attributes\":{\"ticker\":null},\"id\":\"349f4439-351f-4483-8efc-a8c49e8f5e07\",\"type\":\"LogTickFormatter\"},{\"attributes\":{\"callback\":null,\"data\":{\"x\":{\"__ndarray__\":\"cm1sTMT3VEDEyvjosEJHQOKI6DjzCUNArgQWV9awPkB9Lm8XG3M4QEz+Qv6iYzNA7eV8HaPLLkCX1QHyTpMoQFBmYSYetiNAUB04GtGpH0AmFyVE5j8ZQJca9QPGqBNALJP+OOHHDEBNxaf7QF8AQKtislomWuw/cW2dcO6A9T/uJJvfPu0EQIaQLTI/JQ1AxGiII+PmEkCJvfVeuCsYQD6ZBhGbHB9AXQw69DTYJEAsubcwKucqQNuT9D5OmipAJyi3szEJJUBlNebh5WkgQDDcPHBr2xlArtlANXuQFEBdJadFHckQQI2Avh0ZsQtAjYiwt1rsBUCL0SDoVBgAQK6C0nEEjvc/CggLSme58T9sXU2orFPnP0v0JYz9Gdg/vT38vxYczD9nBQTe6kHHP1IhkEXJwKo/8OZnhCVAub+xtVgCpmqzP6DUpY6g0+k/PKK3T1h4+D8RTDjQc1EAQG/dAQs7TwJAQt2eHpPLAEBWEh074x//PyCap9ZSGf4/rEzaTySm/T+7aXhHRmr9P688KeqeNP0/ruZ4EemD/D8olrZcn9T7P0+vNc9hW/s/i9VVL+4P+z+0NzC24uz6P8731Kza8vo/xFf4SHzq+z+gYyHpvHb8P68ROkiFevw/BAjYdCga/D8AUp8VbW77P3JrF/nKmvo/qCQeGfq++T/dplwHJfn4P2G4p+Uva/g/OzZ0RqMZ+D8dmn/iar73P/OuA7Ka8PY/gaaeQHGn9T9hkyjAH1L0P3aZGhdAU/M/n8VP/g7P8j+90HxHNvfyPwhNBtgrqvk/\",\"dtype\":\"float64\",\"shape\":[75]},\"y\":{\"__ndarray__\":\"GhExyth1ND/Sv8nbtpRIP2vylNV0PVE/aTum7souWD/At0SJ8fVgPw3Iuahxymc/MSNhhJWvcD/bTfBN02d3P2zb5nxnaoA/CD5h5MAGhz8NmeH1TyaQP+zrCsc9p5Y/LbKd76fGnz/bLW5ISEmmPww9YvTcQq8/JV2OstnstT8Er5Y7M8G+P0c+r3jqkcU/5h99k6ZBzj88bCIzFzjVP4enV8oyxN0//yH99nXg5D8qOpLLf0jtP5kqGJXUifQ/c9cS8kHP/D+/DpwzojQEQIEmwoanVwxA4lgXt9HgE0BSSZ2AJuIbQAMJih9jjiNA5q4l5INuK0AwTKYKRj0zQNv5fmq8/DpAaCJseHrtQkB/+zpwzoxKQM3MzMzMeFJAZmZmZmZqWEAAAAAAAFxeQM3MzMzMJmJAmpmZmZkfZUBmZmZmZhhoQDMzMzMzEWtAAAAAAAAKbkBmZmZmZoFwQM3MzMzM/XFAMzMzMzN6c0CamZmZmfZ0QAAAAAAAc3ZAZmZmZmbvd0DNzMzMzGt5QDMzMzMz6HpAmpmZmZlkfEAAAAAAAOF9QGZmZmZmXX9AZmZmZuZsgECamZmZGSuBQM3MzMxM6YFAAAAAAICngkAzMzMzs2WDQGZmZmbmI4RAmpmZmRnihEDNzMzMTKCFQAAAAACAXoZAMzMzM7Mch0BmZmZm5tqHQJqZmZkZmYhAzczMzExXiUAAAAAAgBWKQDMzMzOz04pAZmZmZuaRi0CamZmZGVCMQM3MzMxMDo1AAAAAAIDMjUAzMzMzs4qOQGZmZmbmSI9A\",\"dtype\":\"float64\",\"shape\":[75]}},\"selected\":{\"id\":\"22c91c6d-ab54-4497-af2a-10127e0531c0\",\"type\":\"Selection\"},\"selection_policy\":{\"id\":\"eaac0438-63b0-42ef-b7ed-e32dfdbddc04\",\"type\":\"UnionRenderers\"}},\"id\":\"665e37d6-05b5-4bc2-8727-2342656e9fa3\",\"type\":\"ColumnDataSource\"},{\"attributes\":{\"callback\":null,\"end\":0.7044648345483613,\"start\":-1.3851868827390335},\"id\":\"f7119f2d-0259-49dc-9b37-5f3136afbb1e\",\"type\":\"Range1d\"},{\"attributes\":{\"callback\":null,\"data\":{\"x\":{\"__ndarray__\":\"cm1sTMT3VEDEyvjosEJHQOKI6DjzCUNArgQWV9awPkB9Lm8XG3M4QEz+Qv6iYzNA7eV8HaPLLkCX1QHyTpMoQFBmYSYetiNAUB04GtGpH0AmFyVE5j8ZQJca9QPGqBNALJP+OOHHDEBNxaf7QF8AQKtislomWuw/cW2dcO6A9T/uJJvfPu0EQIaQLTI/JQ1AxGiII+PmEkCJvfVeuCsYQD6ZBhGbHB9AXQw69DTYJEAsubcwKucqQNuT9D5OmipAJyi3szEJJUBlNebh5WkgQDDcPHBr2xlArtlANXuQFEBdJadFHckQQI2Avh0ZsQtAjYiwt1rsBUCL0SDoVBgAQK6C0nEEjvc/CggLSme58T9sXU2orFPnP0v0JYz9Gdg/vT38vxYczD9nBQTe6kHHP1IhkEXJwKo/8OZnhCVAub+xtVgCpmqzP6DUpY6g0+k/PKK3T1h4+D8RTDjQc1EAQG/dAQs7TwJAQt2eHpPLAEBWEh074x//PyCap9ZSGf4/rEzaTySm/T+7aXhHRmr9P688KeqeNP0/ruZ4EemD/D8olrZcn9T7P0+vNc9hW/s/i9VVL+4P+z+0NzC24uz6P8731Kza8vo/xFf4SHzq+z+gYyHpvHb8P68ROkiFevw/BAjYdCga/D8AUp8VbW77P3JrF/nKmvo/qCQeGfq++T/dplwHJfn4P2G4p+Uva/g/OzZ0RqMZ+D8dmn/iar73P/OuA7Ka8PY/gaaeQHGn9T9hkyjAH1L0P3aZGhdAU/M/n8VP/g7P8j+90HxHNvfyPwhNBtgrqvk/\",\"dtype\":\"float64\",\"shape\":[75]},\"y\":{\"__ndarray__\":\"GhExyth1ND/Sv8nbtpRIP2vylNV0PVE/aTum7souWD/At0SJ8fVgPw3Iuahxymc/MSNhhJWvcD/bTfBN02d3P2zb5nxnaoA/CD5h5MAGhz8NmeH1TyaQP+zrCsc9p5Y/LbKd76fGnz/bLW5ISEmmPww9YvTcQq8/JV2OstnstT8Er5Y7M8G+P0c+r3jqkcU/5h99k6ZBzj88bCIzFzjVP4enV8oyxN0//yH99nXg5D8qOpLLf0jtP5kqGJXUifQ/c9cS8kHP/D+/DpwzojQEQIEmwoanVwxA4lgXt9HgE0BSSZ2AJuIbQAMJih9jjiNA5q4l5INuK0AwTKYKRj0zQNv5fmq8/DpAaCJseHrtQkB/+zpwzoxKQM3MzMzMeFJAZmZmZmZqWEAAAAAAAFxeQM3MzMzMJmJAmpmZmZkfZUBmZmZmZhhoQDMzMzMzEWtAAAAAAAAKbkBmZmZmZoFwQM3MzMzM/XFAMzMzMzN6c0CamZmZmfZ0QAAAAAAAc3ZAZmZmZmbvd0DNzMzMzGt5QDMzMzMz6HpAmpmZmZlkfEAAAAAAAOF9QGZmZmZmXX9AZmZmZuZsgECamZmZGSuBQM3MzMxM6YFAAAAAAICngkAzMzMzs2WDQGZmZmbmI4RAmpmZmRnihEDNzMzMTKCFQAAAAACAXoZAMzMzM7Mch0BmZmZm5tqHQJqZmZkZmYhAzczMzExXiUAAAAAAgBWKQDMzMzOz04pAZmZmZuaRi0CamZmZGVCMQM3MzMxMDo1AAAAAAIDMjUAzMzMzs4qOQGZmZmbmSI9A\",\"dtype\":\"float64\",\"shape\":[75]}},\"selected\":{\"id\":\"bc6dc922-d04b-4088-867f-ffae52ff98d5\",\"type\":\"Selection\"},\"selection_policy\":{\"id\":\"64eea7a0-5321-44a2-9e1d-e1479e9d0077\",\"type\":\"UnionRenderers\"}},\"id\":\"032791c4-1cbe-4270-b7dc-7b8f8940fa6e\",\"type\":\"ColumnDataSource\"},{\"attributes\":{},\"id\":\"fd34d32d-94b1-4288-8387-c9b0257bbb25\",\"type\":\"BasicTickFormatter\"},{\"attributes\":{\"plot\":null,\"text\":\"\"},\"id\":\"c41e1e66-78b0-4ea3-80b9-3c028cb1dce6\",\"type\":\"Title\"},{\"attributes\":{},\"id\":\"fa776703-6abd-4708-a6bb-8e3a876b3625\",\"type\":\"UnionRenderers\"},{\"attributes\":{},\"id\":\"2bcf99bf-4350-4a69-b776-0b23b4625c22\",\"type\":\"Selection\"},{\"attributes\":{\"data_source\":{\"id\":\"35acc71b-4d60-408f-b9dc-63b15188b56f\",\"type\":\"ColumnDataSource\"},\"glyph\":{\"id\":\"04c68784-5cec-4923-b8be-9d73d54f452d\",\"type\":\"Line\"},\"hover_glyph\":null,\"muted_glyph\":null,\"nonselection_glyph\":{\"id\":\"6ac04491-db26-422e-9fd2-a81567f7378a\",\"type\":\"Line\"},\"selection_glyph\":null,\"view\":{\"id\":\"e21f8f83-8a1e-4c64-a5f9-360158e07be8\",\"type\":\"CDSView\"}},\"id\":\"e0840d7a-7c97-4ac9-9f1d-47ce60e1a36d\",\"type\":\"GlyphRenderer\"},{\"attributes\":{\"source\":{\"id\":\"35acc71b-4d60-408f-b9dc-63b15188b56f\",\"type\":\"ColumnDataSource\"}},\"id\":\"e21f8f83-8a1e-4c64-a5f9-360158e07be8\",\"type\":\"CDSView\"},{\"attributes\":{\"axis_label\":\"cooling rate [K/day]\",\"formatter\":{\"id\":\"fd34d32d-94b1-4288-8387-c9b0257bbb25\",\"type\":\"BasicTickFormatter\"},\"plot\":{\"id\":\"3a9dc446-1336-41c7-a65f-d4c48d5dbe77\",\"subtype\":\"Figure\",\"type\":\"Plot\"},\"ticker\":{\"id\":\"cfb25d1f-8ba2-4c79-bf71-770bedc03bd8\",\"type\":\"BasicTicker\"}},\"id\":\"37bc15ff-8a03-4dee-9d45-89a66f726b6e\",\"type\":\"LinearAxis\"},{\"attributes\":{},\"id\":\"e028150b-f957-498f-a7a7-12a177659f92\",\"type\":\"UnionRenderers\"},{\"attributes\":{},\"id\":\"b886b53b-648d-49d3-b95d-e6ee26ee8065\",\"type\":\"Selection\"},{\"attributes\":{\"source\":{\"id\":\"07374acb-93da-480d-9a01-b4803a6c0138\",\"type\":\"ColumnDataSource\"}},\"id\":\"f8748893-1a5c-483e-958d-f3e470e4880c\",\"type\":\"CDSView\"},{\"attributes\":{\"callback\":null,\"data\":{\"x\":{\"__ndarray__\":\"cm1sTMT3VEDEyvjosEJHQOKI6DjzCUNArgQWV9awPkB9Lm8XG3M4QEz+Qv6iYzNA7eV8HaPLLkCX1QHyTpMoQFBmYSYetiNAUB04GtGpH0AmFyVE5j8ZQJca9QPGqBNALJP+OOHHDEBNxaf7QF8AQKtislomWuw/cW2dcO6A9T/uJJvfPu0EQIaQLTI/JQ1AxGiII+PmEkCJvfVeuCsYQD6ZBhGbHB9AXQw69DTYJEAsubcwKucqQNuT9D5OmipAJyi3szEJJUBlNebh5WkgQDDcPHBr2xlArtlANXuQFEBdJadFHckQQI2Avh0ZsQtAjYiwt1rsBUCL0SDoVBgAQK6C0nEEjvc/CggLSme58T9sXU2orFPnP0v0JYz9Gdg/vT38vxYczD9nBQTe6kHHP1IhkEXJwKo/8OZnhCVAub+xtVgCpmqzP6DUpY6g0+k/PKK3T1h4+D8RTDjQc1EAQG/dAQs7TwJAQt2eHpPLAEBWEh074x//PyCap9ZSGf4/rEzaTySm/T+7aXhHRmr9P688KeqeNP0/ruZ4EemD/D8olrZcn9T7P0+vNc9hW/s/i9VVL+4P+z+0NzC24uz6P8731Kza8vo/xFf4SHzq+z+gYyHpvHb8P68ROkiFevw/BAjYdCga/D8AUp8VbW77P3JrF/nKmvo/qCQeGfq++T/dplwHJfn4P2G4p+Uva/g/OzZ0RqMZ+D8dmn/iar73P/OuA7Ka8PY/gaaeQHGn9T9hkyjAH1L0P3aZGhdAU/M/n8VP/g7P8j+90HxHNvfyPwhNBtgrqvk/\",\"dtype\":\"float64\",\"shape\":[75]},\"y\":{\"__ndarray__\":\"GhExyth1ND/Sv8nbtpRIP2vylNV0PVE/aTum7souWD/At0SJ8fVgPw3Iuahxymc/MSNhhJWvcD/bTfBN02d3P2zb5nxnaoA/CD5h5MAGhz8NmeH1TyaQP+zrCsc9p5Y/LbKd76fGnz/bLW5ISEmmPww9YvTcQq8/JV2OstnstT8Er5Y7M8G+P0c+r3jqkcU/5h99k6ZBzj88bCIzFzjVP4enV8oyxN0//yH99nXg5D8qOpLLf0jtP5kqGJXUifQ/c9cS8kHP/D+/DpwzojQEQIEmwoanVwxA4lgXt9HgE0BSSZ2AJuIbQAMJih9jjiNA5q4l5INuK0AwTKYKRj0zQNv5fmq8/DpAaCJseHrtQkB/+zpwzoxKQM3MzMzMeFJAZmZmZmZqWEAAAAAAAFxeQM3MzMzMJmJAmpmZmZkfZUBmZmZmZhhoQDMzMzMzEWtAAAAAAAAKbkBmZmZmZoFwQM3MzMzM/XFAMzMzMzN6c0CamZmZmfZ0QAAAAAAAc3ZAZmZmZmbvd0DNzMzMzGt5QDMzMzMz6HpAmpmZmZlkfEAAAAAAAOF9QGZmZmZmXX9AZmZmZuZsgECamZmZGSuBQM3MzMxM6YFAAAAAAICngkAzMzMzs2WDQGZmZmbmI4RAmpmZmRnihEDNzMzMTKCFQAAAAACAXoZAMzMzM7Mch0BmZmZm5tqHQJqZmZkZmYhAzczMzExXiUAAAAAAgBWKQDMzMzOz04pAZmZmZuaRi0CamZmZGVCMQM3MzMxMDo1AAAAAAIDMjUAzMzMzs4qOQGZmZmbmSI9A\",\"dtype\":\"float64\",\"shape\":[75]}},\"selected\":{\"id\":\"69d8e7f0-ecf3-47cf-8165-46e31b00326c\",\"type\":\"Selection\"},\"selection_policy\":{\"id\":\"fea5b06d-9e67-4dd1-9790-59a4a5372714\",\"type\":\"UnionRenderers\"}},\"id\":\"41d509bc-b5a1-468c-ae9b-f18db72fe507\",\"type\":\"ColumnDataSource\"},{\"attributes\":{},\"id\":\"eaac0438-63b0-42ef-b7ed-e32dfdbddc04\",\"type\":\"UnionRenderers\"},{\"attributes\":{\"data_source\":{\"id\":\"948f2856-2df3-49ae-b1cd-17add43cd94a\",\"type\":\"ColumnDataSource\"},\"glyph\":{\"id\":\"3602db97-c0d0-49f9-944b-f7c204f0bd5a\",\"type\":\"Line\"},\"hover_glyph\":null,\"muted_glyph\":null,\"nonselection_glyph\":{\"id\":\"7b89a01c-6fd4-4300-9796-f3fe1784adc4\",\"type\":\"Line\"},\"selection_glyph\":null,\"view\":{\"id\":\"32564513-be65-4146-aad7-a47cd1f6503b\",\"type\":\"CDSView\"}},\"id\":\"bc7b3e3d-7980-428c-904e-3db9cf13fe43\",\"type\":\"GlyphRenderer\"},{\"attributes\":{},\"id\":\"55db1dea-47ff-4d04-a884-9444b676945c\",\"type\":\"Selection\"},{\"attributes\":{},\"id\":\"cfb25d1f-8ba2-4c79-bf71-770bedc03bd8\",\"type\":\"BasicTicker\"},{\"attributes\":{\"callback\":null,\"end\":0.01,\"start\":1020},\"id\":\"0b4a59e8-9446-4f5e-8ef8-30e7cb785a20\",\"type\":\"Range1d\"},{\"attributes\":{},\"id\":\"cf291cdc-5c7b-422a-97ab-06748e904a54\",\"type\":\"LogScale\"},{\"attributes\":{},\"id\":\"a5ac23f3-6ef6-4faa-9633-9710291c3f8c\",\"type\":\"Selection\"},{\"attributes\":{},\"id\":\"03ca9674-8ac1-4ed9-b59d-a5c6483185b6\",\"type\":\"UnionRenderers\"},{\"attributes\":{\"source\":{\"id\":\"948f2856-2df3-49ae-b1cd-17add43cd94a\",\"type\":\"ColumnDataSource\"}},\"id\":\"32564513-be65-4146-aad7-a47cd1f6503b\",\"type\":\"CDSView\"},{\"attributes\":{},\"id\":\"90c93dad-5ce5-49af-9526-7c4d0f418079\",\"type\":\"UnionRenderers\"},{\"attributes\":{\"line_alpha\":0.1,\"line_color\":\"#1f77b4\",\"line_width\":1.5,\"x\":{\"field\":\"x\"},\"y\":{\"field\":\"y\"}},\"id\":\"37f5497a-532c-43ce-9fc3-8cc45284f140\",\"type\":\"Line\"},{\"attributes\":{\"source\":{\"id\":\"032791c4-1cbe-4270-b7dc-7b8f8940fa6e\",\"type\":\"ColumnDataSource\"}},\"id\":\"562fff39-ed8d-43fa-9796-bc60b158af4d\",\"type\":\"CDSView\"},{\"attributes\":{\"plot\":{\"id\":\"3a9dc446-1336-41c7-a65f-d4c48d5dbe77\",\"subtype\":\"Figure\",\"type\":\"Plot\"},\"ticker\":{\"id\":\"cfb25d1f-8ba2-4c79-bf71-770bedc03bd8\",\"type\":\"BasicTicker\"}},\"id\":\"658dca25-c7f9-4183-90a8-22e9c1b9326c\",\"type\":\"Grid\"},{\"attributes\":{},\"id\":\"58903852-ed02-47ba-9c08-b941f3c93066\",\"type\":\"Selection\"}],\"root_ids\":[\"211bc6de-6453-47a9-8a56-add57e1d35e2\"]},\"title\":\"Bokeh Application\",\"version\":\"0.12.16\"}};\n",
       "  var render_items = [{\"docid\":\"0e39aa96-ed65-467c-bf3f-b4760b6cd6fd\",\"elementid\":\"31d16e4a-5e3b-4ae1-b8bb-3ef54cbcade6\",\"modelid\":\"211bc6de-6453-47a9-8a56-add57e1d35e2\"}];\n",
       "  root.Bokeh.embed.embed_items_notebook(docs_json, render_items);\n",
       "\n",
       "  }\n",
       "  if (root.Bokeh !== undefined) {\n",
       "    embed_document(root);\n",
       "  } else {\n",
       "    var attempts = 0;\n",
       "    var timer = setInterval(function(root) {\n",
       "      if (root.Bokeh !== undefined) {\n",
       "        embed_document(root);\n",
       "        clearInterval(timer);\n",
       "      }\n",
       "      attempts++;\n",
       "      if (attempts > 100) {\n",
       "        console.log(\"Bokeh: ERROR: Unable to run BokehJS code because BokehJS library is missing\")\n",
       "        clearInterval(timer);\n",
       "      }\n",
       "    }, 10, root)\n",
       "  }\n",
       "})(window);"
      ],
      "application/vnd.bokehjs_exec.v0+json": ""
     },
     "metadata": {
      "application/vnd.bokehjs_exec.v0+json": {
       "id": "211bc6de-6453-47a9-8a56-add57e1d35e2"
      }
     },
     "output_type": "display_data"
    },
    {
     "data": {
      "text/markdown": [
       "*FIGURE.* Cooling rates & difference."
      ],
      "text/plain": [
       "<IPython.core.display.Markdown object>"
      ]
     },
     "metadata": {},
     "output_type": "display_data"
    },
    {
     "data": {
      "text/html": [
       "<a id=\"Fluxes._mls.\"></a>"
      ],
      "text/plain": [
       "<IPython.core.display.HTML object>"
      ]
     },
     "metadata": {},
     "output_type": "display_data"
    },
    {
     "data": {
      "text/markdown": [
       "# Fluxes. mls."
      ],
      "text/plain": [
       "<IPython.core.display.Markdown object>"
      ]
     },
     "metadata": {},
     "output_type": "display_data"
    },
    {
     "data": {
      "text/html": [
       "\n",
       "<div class=\"bk-root\">\n",
       "    <div class=\"bk-plotdiv\" id=\"e2b77794-0cd0-4452-9c5f-a79d8739cac9\"></div>\n",
       "</div>"
      ]
     },
     "metadata": {},
     "output_type": "display_data"
    },
    {
     "data": {
      "application/javascript": [
       "(function(root) {\n",
       "  function embed_document(root) {\n",
       "    \n",
       "  var docs_json = {\"2849242a-7912-4a3a-a84e-a687cc64a24f\":{\"roots\":{\"references\":[{\"attributes\":{},\"id\":\"ba7eacb2-98b5-47ca-a52e-9e27f863a0be\",\"type\":\"CategoricalScale\"},{\"attributes\":{},\"id\":\"61cda52c-6df9-4b00-9f9b-04147abc3f87\",\"type\":\"BasicTickFormatter\"},{\"attributes\":{},\"id\":\"921341f8-9490-416d-afb9-0299d3cb1d98\",\"type\":\"BasicTicker\"},{\"attributes\":{\"callback\":null},\"id\":\"53f013bc-e8b7-4ce7-8c22-be835b95ab14\",\"type\":\"DataRange1d\"},{\"attributes\":{\"fill_alpha\":{\"value\":0.1},\"fill_color\":{\"value\":\"#1f77b4\"},\"line_alpha\":{\"value\":0.1},\"line_color\":{\"value\":\"#1f77b4\"},\"top\":{\"field\":\"flux\"},\"width\":{\"value\":0.9},\"x\":{\"field\":\"band\"}},\"id\":\"6f6dadfc-6d43-4d8b-a04f-db08e940cf13\",\"type\":\"VBar\"},{\"attributes\":{\"axis_label\":\"spectral band\",\"formatter\":{\"id\":\"4f4744e5-2728-46b0-b71d-05c6af099714\",\"type\":\"CategoricalTickFormatter\"},\"plot\":{\"id\":\"1ce42d01-eda3-4972-9840-ae5d1b194d30\",\"subtype\":\"Figure\",\"type\":\"Plot\"},\"ticker\":{\"id\":\"ea423251-2cb6-4034-9ebd-8a007cc263b8\",\"type\":\"CategoricalTicker\"}},\"id\":\"87139d5d-5f4d-4ecc-bd7e-0c91c16e9631\",\"type\":\"CategoricalAxis\"},{\"attributes\":{},\"id\":\"05254f6c-d8c0-42d6-9bb0-ede87731117f\",\"type\":\"LinearScale\"},{\"attributes\":{\"bottom_units\":\"screen\",\"fill_alpha\":{\"value\":0.5},\"fill_color\":{\"value\":\"lightgrey\"},\"left_units\":\"screen\",\"level\":\"overlay\",\"line_alpha\":{\"value\":1.0},\"line_color\":{\"value\":\"black\"},\"line_dash\":[4,4],\"line_width\":{\"value\":2},\"plot\":null,\"render_mode\":\"css\",\"right_units\":\"screen\",\"top_units\":\"screen\"},\"id\":\"207184fd-5457-4a3e-9704-e3dbb9c0898b\",\"type\":\"BoxAnnotation\"},{\"attributes\":{\"active_drag\":\"auto\",\"active_inspect\":\"auto\",\"active_scroll\":\"auto\",\"active_tap\":\"auto\",\"tools\":[{\"id\":\"03195f41-0d04-4623-afc3-4193e9a068aa\",\"type\":\"PanTool\"},{\"id\":\"78a12a99-ff2d-49bb-a638-d5bd642186cd\",\"type\":\"WheelZoomTool\"},{\"id\":\"e9b9091c-722d-4459-8c73-59e6dc04e4d1\",\"type\":\"BoxZoomTool\"},{\"id\":\"d7a8904d-0bf4-4e7c-a23c-12a4d26d33f0\",\"type\":\"SaveTool\"},{\"id\":\"1f419e9b-07c5-4c83-bd31-fa1ebe501b45\",\"type\":\"ResetTool\"},{\"id\":\"2cc533a3-64dd-4a2f-b54d-fa12c058362f\",\"type\":\"HelpTool\"}]},\"id\":\"84bbb33f-532f-4ea6-a570-ff2a6867ddc7\",\"type\":\"Toolbar\"},{\"attributes\":{\"axis_label\":\"spectral band\",\"formatter\":{\"id\":\"67cd0474-e657-4771-868b-e42725fdf4ac\",\"type\":\"CategoricalTickFormatter\"},\"plot\":{\"id\":\"e5ea8283-0a1b-418c-a9e1-47ac6d8dbd08\",\"subtype\":\"Figure\",\"type\":\"Plot\"},\"ticker\":{\"id\":\"3ce5768c-76fc-43ea-927c-b89228280bd5\",\"type\":\"CategoricalTicker\"}},\"id\":\"9b3c658f-4d9e-4d25-95f5-830020fc00d6\",\"type\":\"CategoricalAxis\"},{\"attributes\":{\"fill_color\":{\"value\":\"#1f77b4\"},\"line_color\":{\"value\":\"#1f77b4\"},\"top\":{\"field\":\"flux\"},\"width\":{\"value\":0.9},\"x\":{\"field\":\"band\"}},\"id\":\"65becb86-d5b3-4f6c-88fe-785afb00f047\",\"type\":\"VBar\"},{\"attributes\":{},\"id\":\"bf5d5916-f5d3-442f-ae46-d094f125bfd9\",\"type\":\"CategoricalScale\"},{\"attributes\":{\"callback\":null,\"factors\":[\"1\",\"2\",\"3\",\"4\",\"5\",\"6\",\"7\",\"8\",\"9\",\"10\",\"11\"]},\"id\":\"0974439f-dd55-4d42-bd5e-fe5766648000\",\"type\":\"FactorRange\"},{\"attributes\":{\"axis_label\":\"flux (W m-2)\",\"formatter\":{\"id\":\"64bced7b-8295-44aa-bf56-7c8f3a16e9e0\",\"type\":\"BasicTickFormatter\"},\"plot\":{\"id\":\"1ce42d01-eda3-4972-9840-ae5d1b194d30\",\"subtype\":\"Figure\",\"type\":\"Plot\"},\"ticker\":{\"id\":\"921341f8-9490-416d-afb9-0299d3cb1d98\",\"type\":\"BasicTicker\"}},\"id\":\"b199c434-50cd-458f-a3cb-04aef32cdba6\",\"type\":\"LinearAxis\"},{\"attributes\":{},\"id\":\"33cd6c94-baaa-431c-a0fa-b366bfcb1e2c\",\"type\":\"LinearScale\"},{\"attributes\":{},\"id\":\"3ce5768c-76fc-43ea-927c-b89228280bd5\",\"type\":\"CategoricalTicker\"},{\"attributes\":{\"plot\":null,\"text\":\"Atmosphere heating. CLIRAD (single-run) - CRD.\"},\"id\":\"3e3091b4-9049-42df-9d2f-acc6c2aa41eb\",\"type\":\"Title\"},{\"attributes\":{\"active_drag\":\"auto\",\"active_inspect\":\"auto\",\"active_scroll\":\"auto\",\"active_tap\":\"auto\",\"tools\":[{\"id\":\"4f231c63-9244-4d40-843a-2d57bcf28776\",\"type\":\"PanTool\"},{\"id\":\"03b9242e-786f-43a1-a2e8-a1f6d9113af9\",\"type\":\"WheelZoomTool\"},{\"id\":\"7af366c9-3652-43aa-8450-7fdd953b0666\",\"type\":\"BoxZoomTool\"},{\"id\":\"c6b670ce-e457-487d-b835-9dd53f905df7\",\"type\":\"SaveTool\"},{\"id\":\"74d21963-edb1-47c3-b920-d7e79dcea5f8\",\"type\":\"ResetTool\"},{\"id\":\"8e0573d1-c606-4655-9a6c-b1090b72e86c\",\"type\":\"HelpTool\"}]},\"id\":\"f661944a-2626-423c-a12c-0defefe9c977\",\"type\":\"Toolbar\"},{\"attributes\":{},\"id\":\"ea423251-2cb6-4034-9ebd-8a007cc263b8\",\"type\":\"CategoricalTicker\"},{\"attributes\":{\"plot\":{\"id\":\"1ce42d01-eda3-4972-9840-ae5d1b194d30\",\"subtype\":\"Figure\",\"type\":\"Plot\"},\"ticker\":{\"id\":\"ea423251-2cb6-4034-9ebd-8a007cc263b8\",\"type\":\"CategoricalTicker\"}},\"id\":\"f058a8e9-4a08-4efb-8435-75354989aebe\",\"type\":\"Grid\"},{\"attributes\":{\"axis_label\":\"flux (W m-2)\",\"formatter\":{\"id\":\"61cda52c-6df9-4b00-9f9b-04147abc3f87\",\"type\":\"BasicTickFormatter\"},\"plot\":{\"id\":\"e5ea8283-0a1b-418c-a9e1-47ac6d8dbd08\",\"subtype\":\"Figure\",\"type\":\"Plot\"},\"ticker\":{\"id\":\"b675ec3d-8278-4694-aed0-2eb9d6eb18e2\",\"type\":\"BasicTicker\"}},\"id\":\"f36e9ae7-3ae6-44c5-bbf3-e0c45316c82c\",\"type\":\"LinearAxis\"},{\"attributes\":{},\"id\":\"b675ec3d-8278-4694-aed0-2eb9d6eb18e2\",\"type\":\"BasicTicker\"},{\"attributes\":{\"plot\":{\"id\":\"e5ea8283-0a1b-418c-a9e1-47ac6d8dbd08\",\"subtype\":\"Figure\",\"type\":\"Plot\"},\"ticker\":{\"id\":\"3ce5768c-76fc-43ea-927c-b89228280bd5\",\"type\":\"CategoricalTicker\"}},\"id\":\"7088a38d-6ea6-4253-a028-896a0d0020d5\",\"type\":\"Grid\"},{\"attributes\":{\"plot\":null,\"text\":\"SFC flux. CLIRAD (single-run) - CRD.\"},\"id\":\"f39950e2-51b3-4a55-8bec-7801cff412b8\",\"type\":\"Title\"},{\"attributes\":{\"callback\":null},\"id\":\"265620b2-f200-4672-902c-5954097c3436\",\"type\":\"DataRange1d\"},{\"attributes\":{\"callback\":null,\"factors\":[\"1\",\"2\",\"3\",\"4\",\"5\",\"6\",\"7\",\"8\",\"9\",\"10\",\"11\"]},\"id\":\"2b7400ab-debb-4507-b73e-f0a287dbe3e5\",\"type\":\"FactorRange\"},{\"attributes\":{\"dimension\":1,\"plot\":{\"id\":\"1ce42d01-eda3-4972-9840-ae5d1b194d30\",\"subtype\":\"Figure\",\"type\":\"Plot\"},\"ticker\":{\"id\":\"921341f8-9490-416d-afb9-0299d3cb1d98\",\"type\":\"BasicTicker\"}},\"id\":\"83686806-914e-431a-a740-298b4b36a9d8\",\"type\":\"Grid\"},{\"attributes\":{},\"id\":\"03b9242e-786f-43a1-a2e8-a1f6d9113af9\",\"type\":\"WheelZoomTool\"},{\"attributes\":{\"toolbar\":{\"id\":\"c2bd5587-2ef8-4147-a5dd-5d81184b0722\",\"type\":\"ProxyToolbar\"},\"toolbar_location\":\"above\"},\"id\":\"f91100ee-dd1b-48e2-b30a-7efc991b121f\",\"type\":\"ToolbarBox\"},{\"attributes\":{},\"id\":\"1b5e3ed6-648b-4078-9561-225098a7f3df\",\"type\":\"HelpTool\"},{\"attributes\":{},\"id\":\"881c23e7-c4fb-41dd-a629-026cc7eb1e9d\",\"type\":\"Selection\"},{\"attributes\":{\"children\":[{\"id\":\"d15269fb-6745-447b-b757-4339e3bd1eb1\",\"subtype\":\"Figure\",\"type\":\"Plot\"},{\"id\":\"1ce42d01-eda3-4972-9840-ae5d1b194d30\",\"subtype\":\"Figure\",\"type\":\"Plot\"},{\"id\":\"e5ea8283-0a1b-418c-a9e1-47ac6d8dbd08\",\"subtype\":\"Figure\",\"type\":\"Plot\"}]},\"id\":\"10917a54-4705-4e1f-9ee8-d6da5c6ff0b8\",\"type\":\"Row\"},{\"attributes\":{\"callback\":null,\"data\":{\"band\":[\"1\",\"2\",\"3\",\"4\",\"5\",\"6\",\"7\",\"8\",\"9\",\"10\",\"11\"],\"flux\":{\"__ndarray__\":\"AAAAAyUF9r4AgsR29wDYPwC4H/DAANO/ANyul6YIsD+Ajh6/t+nfPwB0ImabwLM/ALE8WXvplz9gN3gVCPHBv4A0KnCyDcY/AKBF71TAjT8AcGzRXW2APw==\",\"dtype\":\"float64\",\"shape\":[11]}},\"selected\":{\"id\":\"881c23e7-c4fb-41dd-a629-026cc7eb1e9d\",\"type\":\"Selection\"},\"selection_policy\":{\"id\":\"ca676c75-a001-4ac8-b6ee-d78a9084dc74\",\"type\":\"UnionRenderers\"}},\"id\":\"597d34f4-0375-4080-b291-497e09056536\",\"type\":\"ColumnDataSource\"},{\"attributes\":{},\"id\":\"1f419e9b-07c5-4c83-bd31-fa1ebe501b45\",\"type\":\"ResetTool\"},{\"attributes\":{\"fill_color\":{\"value\":\"#1f77b4\"},\"line_color\":{\"value\":\"#1f77b4\"},\"top\":{\"field\":\"flux\"},\"width\":{\"value\":0.9},\"x\":{\"field\":\"band\"}},\"id\":\"11a52ae8-b06b-49ea-b972-923cf76aba61\",\"type\":\"VBar\"},{\"attributes\":{\"bottom_units\":\"screen\",\"fill_alpha\":{\"value\":0.5},\"fill_color\":{\"value\":\"lightgrey\"},\"left_units\":\"screen\",\"level\":\"overlay\",\"line_alpha\":{\"value\":1.0},\"line_color\":{\"value\":\"black\"},\"line_dash\":[4,4],\"line_width\":{\"value\":2},\"plot\":null,\"render_mode\":\"css\",\"right_units\":\"screen\",\"top_units\":\"screen\"},\"id\":\"bee7db7a-d0cb-46a4-ba9d-4e7ab143b663\",\"type\":\"BoxAnnotation\"},{\"attributes\":{\"source\":{\"id\":\"fa3733d1-468d-4aed-8b6b-0326c58e3bb0\",\"type\":\"ColumnDataSource\"}},\"id\":\"67908297-3f8f-4233-b769-4f435a3b5d22\",\"type\":\"CDSView\"},{\"attributes\":{\"below\":[{\"id\":\"87139d5d-5f4d-4ecc-bd7e-0c91c16e9631\",\"type\":\"CategoricalAxis\"}],\"left\":[{\"id\":\"b199c434-50cd-458f-a3cb-04aef32cdba6\",\"type\":\"LinearAxis\"}],\"plot_height\":300,\"plot_width\":300,\"renderers\":[{\"id\":\"87139d5d-5f4d-4ecc-bd7e-0c91c16e9631\",\"type\":\"CategoricalAxis\"},{\"id\":\"f058a8e9-4a08-4efb-8435-75354989aebe\",\"type\":\"Grid\"},{\"id\":\"b199c434-50cd-458f-a3cb-04aef32cdba6\",\"type\":\"LinearAxis\"},{\"id\":\"83686806-914e-431a-a740-298b4b36a9d8\",\"type\":\"Grid\"},{\"id\":\"207184fd-5457-4a3e-9704-e3dbb9c0898b\",\"type\":\"BoxAnnotation\"},{\"id\":\"777d5a15-ec95-4f31-9284-98889d340f9f\",\"type\":\"GlyphRenderer\"}],\"title\":{\"id\":\"f39950e2-51b3-4a55-8bec-7801cff412b8\",\"type\":\"Title\"},\"toolbar\":{\"id\":\"84bbb33f-532f-4ea6-a570-ff2a6867ddc7\",\"type\":\"Toolbar\"},\"toolbar_location\":null,\"x_range\":{\"id\":\"0974439f-dd55-4d42-bd5e-fe5766648000\",\"type\":\"FactorRange\"},\"x_scale\":{\"id\":\"bf5d5916-f5d3-442f-ae46-d094f125bfd9\",\"type\":\"CategoricalScale\"},\"y_range\":{\"id\":\"265620b2-f200-4672-902c-5954097c3436\",\"type\":\"DataRange1d\"},\"y_scale\":{\"id\":\"05254f6c-d8c0-42d6-9bb0-ede87731117f\",\"type\":\"LinearScale\"}},\"id\":\"1ce42d01-eda3-4972-9840-ae5d1b194d30\",\"subtype\":\"Figure\",\"type\":\"Plot\"},{\"attributes\":{\"fill_alpha\":{\"value\":0.1},\"fill_color\":{\"value\":\"#1f77b4\"},\"line_alpha\":{\"value\":0.1},\"line_color\":{\"value\":\"#1f77b4\"},\"top\":{\"field\":\"flux\"},\"width\":{\"value\":0.9},\"x\":{\"field\":\"band\"}},\"id\":\"666598dc-8659-4210-b23a-ecfd90bacec2\",\"type\":\"VBar\"},{\"attributes\":{},\"id\":\"d7a8904d-0bf4-4e7c-a23c-12a4d26d33f0\",\"type\":\"SaveTool\"},{\"attributes\":{},\"id\":\"dd3cf65e-b1c2-4b63-9d6c-d131517cba48\",\"type\":\"CategoricalScale\"},{\"attributes\":{\"children\":[{\"id\":\"10917a54-4705-4e1f-9ee8-d6da5c6ff0b8\",\"type\":\"Row\"}]},\"id\":\"7acf87fb-545d-4696-9d54-9b959e24d6b3\",\"type\":\"Column\"},{\"attributes\":{},\"id\":\"ca676c75-a001-4ac8-b6ee-d78a9084dc74\",\"type\":\"UnionRenderers\"},{\"attributes\":{\"callback\":null,\"data\":{\"band\":[\"1\",\"2\",\"3\",\"4\",\"5\",\"6\",\"7\",\"8\",\"9\",\"10\",\"11\"],\"flux\":{\"__ndarray__\":\"AIMde81dyD8AYEI3wVi1vwBYNyirM4i/ANGnfnO5zj9A+KOoM/fOvwBuLCgMysK/AHAlOzYC1z8A5hw8E5qkP8BJ06BoHsi/QL8FwBXcvT8AZ1U6DnKtPw==\",\"dtype\":\"float64\",\"shape\":[11]}},\"selected\":{\"id\":\"52966501-47fa-448d-9150-b6f881d7c1a5\",\"type\":\"Selection\"},\"selection_policy\":{\"id\":\"40b4ee8b-d2f2-4501-be2c-407d8f984a09\",\"type\":\"UnionRenderers\"}},\"id\":\"97ae123c-95bc-4a09-ae82-f42039f429ee\",\"type\":\"ColumnDataSource\"},{\"attributes\":{},\"id\":\"74d21963-edb1-47c3-b920-d7e79dcea5f8\",\"type\":\"ResetTool\"},{\"attributes\":{\"plot\":{\"id\":\"d15269fb-6745-447b-b757-4339e3bd1eb1\",\"subtype\":\"Figure\",\"type\":\"Plot\"},\"ticker\":{\"id\":\"9aa79981-2cd4-4703-9201-c2c7de446cfa\",\"type\":\"CategoricalTicker\"}},\"id\":\"abba32f7-ffbb-42c6-a2aa-647fe0b048b8\",\"type\":\"Grid\"},{\"attributes\":{},\"id\":\"78a12a99-ff2d-49bb-a638-d5bd642186cd\",\"type\":\"WheelZoomTool\"},{\"attributes\":{\"tools\":[{\"id\":\"36a7b119-a330-41d4-8c38-3076791eb387\",\"type\":\"PanTool\"},{\"id\":\"eae8c024-e5fe-4b44-9187-92264e2520f4\",\"type\":\"WheelZoomTool\"},{\"id\":\"8dabf194-3a79-4cdf-9814-1f34355bfa27\",\"type\":\"BoxZoomTool\"},{\"id\":\"7f8e7517-1ddc-4a3d-8adb-3cedfbe9b399\",\"type\":\"SaveTool\"},{\"id\":\"b6caeb00-2654-49a2-8e73-4b999f7d4dfc\",\"type\":\"ResetTool\"},{\"id\":\"1b5e3ed6-648b-4078-9561-225098a7f3df\",\"type\":\"HelpTool\"},{\"id\":\"03195f41-0d04-4623-afc3-4193e9a068aa\",\"type\":\"PanTool\"},{\"id\":\"78a12a99-ff2d-49bb-a638-d5bd642186cd\",\"type\":\"WheelZoomTool\"},{\"id\":\"e9b9091c-722d-4459-8c73-59e6dc04e4d1\",\"type\":\"BoxZoomTool\"},{\"id\":\"d7a8904d-0bf4-4e7c-a23c-12a4d26d33f0\",\"type\":\"SaveTool\"},{\"id\":\"1f419e9b-07c5-4c83-bd31-fa1ebe501b45\",\"type\":\"ResetTool\"},{\"id\":\"2cc533a3-64dd-4a2f-b54d-fa12c058362f\",\"type\":\"HelpTool\"},{\"id\":\"4f231c63-9244-4d40-843a-2d57bcf28776\",\"type\":\"PanTool\"},{\"id\":\"03b9242e-786f-43a1-a2e8-a1f6d9113af9\",\"type\":\"WheelZoomTool\"},{\"id\":\"7af366c9-3652-43aa-8450-7fdd953b0666\",\"type\":\"BoxZoomTool\"},{\"id\":\"c6b670ce-e457-487d-b835-9dd53f905df7\",\"type\":\"SaveTool\"},{\"id\":\"74d21963-edb1-47c3-b920-d7e79dcea5f8\",\"type\":\"ResetTool\"},{\"id\":\"8e0573d1-c606-4655-9a6c-b1090b72e86c\",\"type\":\"HelpTool\"}]},\"id\":\"c2bd5587-2ef8-4147-a5dd-5d81184b0722\",\"type\":\"ProxyToolbar\"},{\"attributes\":{\"source\":{\"id\":\"97ae123c-95bc-4a09-ae82-f42039f429ee\",\"type\":\"ColumnDataSource\"}},\"id\":\"d84cb766-23f0-4fe3-a5ef-0457a2621c65\",\"type\":\"CDSView\"},{\"attributes\":{\"axis_label\":\"spectral band\",\"formatter\":{\"id\":\"4b993697-bd1a-4b59-911a-4e1a146a8758\",\"type\":\"CategoricalTickFormatter\"},\"plot\":{\"id\":\"d15269fb-6745-447b-b757-4339e3bd1eb1\",\"subtype\":\"Figure\",\"type\":\"Plot\"},\"ticker\":{\"id\":\"9aa79981-2cd4-4703-9201-c2c7de446cfa\",\"type\":\"CategoricalTicker\"}},\"id\":\"c60e8e9e-5dff-4ca4-9b3d-b28078fb9c41\",\"type\":\"CategoricalAxis\"},{\"attributes\":{},\"id\":\"4f4744e5-2728-46b0-b71d-05c6af099714\",\"type\":\"CategoricalTickFormatter\"},{\"attributes\":{},\"id\":\"2cc533a3-64dd-4a2f-b54d-fa12c058362f\",\"type\":\"HelpTool\"},{\"attributes\":{},\"id\":\"c6b670ce-e457-487d-b835-9dd53f905df7\",\"type\":\"SaveTool\"},{\"attributes\":{\"data_source\":{\"id\":\"97ae123c-95bc-4a09-ae82-f42039f429ee\",\"type\":\"ColumnDataSource\"},\"glyph\":{\"id\":\"11a52ae8-b06b-49ea-b972-923cf76aba61\",\"type\":\"VBar\"},\"hover_glyph\":null,\"muted_glyph\":null,\"nonselection_glyph\":{\"id\":\"666598dc-8659-4210-b23a-ecfd90bacec2\",\"type\":\"VBar\"},\"selection_glyph\":null,\"view\":{\"id\":\"d84cb766-23f0-4fe3-a5ef-0457a2621c65\",\"type\":\"CDSView\"}},\"id\":\"eac1f672-8969-495b-8260-b333771f034a\",\"type\":\"GlyphRenderer\"},{\"attributes\":{},\"id\":\"7f8e7517-1ddc-4a3d-8adb-3cedfbe9b399\",\"type\":\"SaveTool\"},{\"attributes\":{\"data_source\":{\"id\":\"fa3733d1-468d-4aed-8b6b-0326c58e3bb0\",\"type\":\"ColumnDataSource\"},\"glyph\":{\"id\":\"86a3c20a-b1b6-484b-83c4-8febb6a52081\",\"type\":\"VBar\"},\"hover_glyph\":null,\"muted_glyph\":null,\"nonselection_glyph\":{\"id\":\"4f65bbb9-ab42-44b9-94ad-16f91271c271\",\"type\":\"VBar\"},\"selection_glyph\":null,\"view\":{\"id\":\"67908297-3f8f-4233-b769-4f435a3b5d22\",\"type\":\"CDSView\"}},\"id\":\"2ca4deed-d69d-414a-b17b-c8f9fc0626ff\",\"type\":\"GlyphRenderer\"},{\"attributes\":{\"overlay\":{\"id\":\"207184fd-5457-4a3e-9704-e3dbb9c0898b\",\"type\":\"BoxAnnotation\"}},\"id\":\"e9b9091c-722d-4459-8c73-59e6dc04e4d1\",\"type\":\"BoxZoomTool\"},{\"attributes\":{},\"id\":\"8be7ca19-065d-4537-9681-c9d85fdd81f4\",\"type\":\"UnionRenderers\"},{\"attributes\":{\"overlay\":{\"id\":\"51308e7d-47b5-490e-bc86-50e52ced100f\",\"type\":\"BoxAnnotation\"}},\"id\":\"7af366c9-3652-43aa-8450-7fdd953b0666\",\"type\":\"BoxZoomTool\"},{\"attributes\":{\"below\":[{\"id\":\"9b3c658f-4d9e-4d25-95f5-830020fc00d6\",\"type\":\"CategoricalAxis\"}],\"left\":[{\"id\":\"f36e9ae7-3ae6-44c5-bbf3-e0c45316c82c\",\"type\":\"LinearAxis\"}],\"plot_height\":300,\"plot_width\":300,\"renderers\":[{\"id\":\"9b3c658f-4d9e-4d25-95f5-830020fc00d6\",\"type\":\"CategoricalAxis\"},{\"id\":\"7088a38d-6ea6-4253-a028-896a0d0020d5\",\"type\":\"Grid\"},{\"id\":\"f36e9ae7-3ae6-44c5-bbf3-e0c45316c82c\",\"type\":\"LinearAxis\"},{\"id\":\"68ca1ea1-c606-4114-9d86-22a654202d96\",\"type\":\"Grid\"},{\"id\":\"51308e7d-47b5-490e-bc86-50e52ced100f\",\"type\":\"BoxAnnotation\"},{\"id\":\"eac1f672-8969-495b-8260-b333771f034a\",\"type\":\"GlyphRenderer\"}],\"title\":{\"id\":\"3e3091b4-9049-42df-9d2f-acc6c2aa41eb\",\"type\":\"Title\"},\"toolbar\":{\"id\":\"f661944a-2626-423c-a12c-0defefe9c977\",\"type\":\"Toolbar\"},\"toolbar_location\":null,\"x_range\":{\"id\":\"2b7400ab-debb-4507-b73e-f0a287dbe3e5\",\"type\":\"FactorRange\"},\"x_scale\":{\"id\":\"ba7eacb2-98b5-47ca-a52e-9e27f863a0be\",\"type\":\"CategoricalScale\"},\"y_range\":{\"id\":\"53f013bc-e8b7-4ce7-8c22-be835b95ab14\",\"type\":\"DataRange1d\"},\"y_scale\":{\"id\":\"33cd6c94-baaa-431c-a0fa-b366bfcb1e2c\",\"type\":\"LinearScale\"}},\"id\":\"e5ea8283-0a1b-418c-a9e1-47ac6d8dbd08\",\"subtype\":\"Figure\",\"type\":\"Plot\"},{\"attributes\":{\"fill_alpha\":{\"value\":0.1},\"fill_color\":{\"value\":\"#1f77b4\"},\"line_alpha\":{\"value\":0.1},\"line_color\":{\"value\":\"#1f77b4\"},\"top\":{\"field\":\"flux\"},\"width\":{\"value\":0.9},\"x\":{\"field\":\"band\"}},\"id\":\"4f65bbb9-ab42-44b9-94ad-16f91271c271\",\"type\":\"VBar\"},{\"attributes\":{\"source\":{\"id\":\"597d34f4-0375-4080-b291-497e09056536\",\"type\":\"ColumnDataSource\"}},\"id\":\"4172ce04-4682-434b-a6db-af335358af9f\",\"type\":\"CDSView\"},{\"attributes\":{\"plot\":null,\"text\":\"TOA flux. CLIRAD (single-run) - CRD.\"},\"id\":\"9782e9d7-9f14-4a20-9fe9-ea376c0c008f\",\"type\":\"Title\"},{\"attributes\":{\"dimension\":1,\"plot\":{\"id\":\"e5ea8283-0a1b-418c-a9e1-47ac6d8dbd08\",\"subtype\":\"Figure\",\"type\":\"Plot\"},\"ticker\":{\"id\":\"b675ec3d-8278-4694-aed0-2eb9d6eb18e2\",\"type\":\"BasicTicker\"}},\"id\":\"68ca1ea1-c606-4114-9d86-22a654202d96\",\"type\":\"Grid\"},{\"attributes\":{},\"id\":\"7b130aff-a672-485e-8755-851aeaa35cbd\",\"type\":\"Selection\"},{\"attributes\":{},\"id\":\"4e8f400b-eba5-4762-8224-1b8028200131\",\"type\":\"BasicTicker\"},{\"attributes\":{\"overlay\":{\"id\":\"bee7db7a-d0cb-46a4-ba9d-4e7ab143b663\",\"type\":\"BoxAnnotation\"}},\"id\":\"8dabf194-3a79-4cdf-9814-1f34355bfa27\",\"type\":\"BoxZoomTool\"},{\"attributes\":{},\"id\":\"eae8c024-e5fe-4b44-9187-92264e2520f4\",\"type\":\"WheelZoomTool\"},{\"attributes\":{},\"id\":\"4b993697-bd1a-4b59-911a-4e1a146a8758\",\"type\":\"CategoricalTickFormatter\"},{\"attributes\":{\"children\":[{\"id\":\"f91100ee-dd1b-48e2-b30a-7efc991b121f\",\"type\":\"ToolbarBox\"},{\"id\":\"7acf87fb-545d-4696-9d54-9b959e24d6b3\",\"type\":\"Column\"}]},\"id\":\"b5b64385-10ac-48b4-a5c6-9cc53bac16dd\",\"type\":\"Column\"},{\"attributes\":{\"fill_color\":{\"value\":\"#1f77b4\"},\"line_color\":{\"value\":\"#1f77b4\"},\"top\":{\"field\":\"flux\"},\"width\":{\"value\":0.9},\"x\":{\"field\":\"band\"}},\"id\":\"86a3c20a-b1b6-484b-83c4-8febb6a52081\",\"type\":\"VBar\"},{\"attributes\":{\"callback\":null,\"data\":{\"band\":[\"1\",\"2\",\"3\",\"4\",\"5\",\"6\",\"7\",\"8\",\"9\",\"10\",\"11\"],\"flux\":{\"__ndarray__\":\"AEILCRhdyD+AzEHQ0arSP0DMe5xpwtO/gGStodRe0z/ASgaAKm7QPwBwl/2607G/QKz+CMOA2D8ASdv4E5W5vwC2wvS9hpC/YNQ5UPHJwD9AvtXft8awPw==\",\"dtype\":\"float64\",\"shape\":[11]}},\"selected\":{\"id\":\"7b130aff-a672-485e-8755-851aeaa35cbd\",\"type\":\"Selection\"},\"selection_policy\":{\"id\":\"8be7ca19-065d-4537-9681-c9d85fdd81f4\",\"type\":\"UnionRenderers\"}},\"id\":\"fa3733d1-468d-4aed-8b6b-0326c58e3bb0\",\"type\":\"ColumnDataSource\"},{\"attributes\":{},\"id\":\"40b4ee8b-d2f2-4501-be2c-407d8f984a09\",\"type\":\"UnionRenderers\"},{\"attributes\":{},\"id\":\"8e0573d1-c606-4655-9a6c-b1090b72e86c\",\"type\":\"HelpTool\"},{\"attributes\":{\"axis_label\":\"flux (W m-2)\",\"formatter\":{\"id\":\"1e70303c-1b65-4114-b9de-45513f392363\",\"type\":\"BasicTickFormatter\"},\"plot\":{\"id\":\"d15269fb-6745-447b-b757-4339e3bd1eb1\",\"subtype\":\"Figure\",\"type\":\"Plot\"},\"ticker\":{\"id\":\"4e8f400b-eba5-4762-8224-1b8028200131\",\"type\":\"BasicTicker\"}},\"id\":\"2c7f9a93-a505-4866-b554-618563281f8f\",\"type\":\"LinearAxis\"},{\"attributes\":{},\"id\":\"b640b525-a562-4f9e-92e3-c3495fc7d261\",\"type\":\"LinearScale\"},{\"attributes\":{},\"id\":\"64bced7b-8295-44aa-bf56-7c8f3a16e9e0\",\"type\":\"BasicTickFormatter\"},{\"attributes\":{\"active_drag\":\"auto\",\"active_inspect\":\"auto\",\"active_scroll\":\"auto\",\"active_tap\":\"auto\",\"tools\":[{\"id\":\"36a7b119-a330-41d4-8c38-3076791eb387\",\"type\":\"PanTool\"},{\"id\":\"eae8c024-e5fe-4b44-9187-92264e2520f4\",\"type\":\"WheelZoomTool\"},{\"id\":\"8dabf194-3a79-4cdf-9814-1f34355bfa27\",\"type\":\"BoxZoomTool\"},{\"id\":\"7f8e7517-1ddc-4a3d-8adb-3cedfbe9b399\",\"type\":\"SaveTool\"},{\"id\":\"b6caeb00-2654-49a2-8e73-4b999f7d4dfc\",\"type\":\"ResetTool\"},{\"id\":\"1b5e3ed6-648b-4078-9561-225098a7f3df\",\"type\":\"HelpTool\"}]},\"id\":\"25a5c6fd-5ee8-40cd-a6d0-bfb30970bda7\",\"type\":\"Toolbar\"},{\"attributes\":{\"data_source\":{\"id\":\"597d34f4-0375-4080-b291-497e09056536\",\"type\":\"ColumnDataSource\"},\"glyph\":{\"id\":\"65becb86-d5b3-4f6c-88fe-785afb00f047\",\"type\":\"VBar\"},\"hover_glyph\":null,\"muted_glyph\":null,\"nonselection_glyph\":{\"id\":\"6f6dadfc-6d43-4d8b-a04f-db08e940cf13\",\"type\":\"VBar\"},\"selection_glyph\":null,\"view\":{\"id\":\"4172ce04-4682-434b-a6db-af335358af9f\",\"type\":\"CDSView\"}},\"id\":\"777d5a15-ec95-4f31-9284-98889d340f9f\",\"type\":\"GlyphRenderer\"},{\"attributes\":{},\"id\":\"9aa79981-2cd4-4703-9201-c2c7de446cfa\",\"type\":\"CategoricalTicker\"},{\"attributes\":{},\"id\":\"67cd0474-e657-4771-868b-e42725fdf4ac\",\"type\":\"CategoricalTickFormatter\"},{\"attributes\":{},\"id\":\"03195f41-0d04-4623-afc3-4193e9a068aa\",\"type\":\"PanTool\"},{\"attributes\":{\"below\":[{\"id\":\"c60e8e9e-5dff-4ca4-9b3d-b28078fb9c41\",\"type\":\"CategoricalAxis\"}],\"left\":[{\"id\":\"2c7f9a93-a505-4866-b554-618563281f8f\",\"type\":\"LinearAxis\"}],\"plot_height\":300,\"plot_width\":300,\"renderers\":[{\"id\":\"c60e8e9e-5dff-4ca4-9b3d-b28078fb9c41\",\"type\":\"CategoricalAxis\"},{\"id\":\"abba32f7-ffbb-42c6-a2aa-647fe0b048b8\",\"type\":\"Grid\"},{\"id\":\"2c7f9a93-a505-4866-b554-618563281f8f\",\"type\":\"LinearAxis\"},{\"id\":\"6ff5372f-1bb1-4a52-a82a-45f8566e25c2\",\"type\":\"Grid\"},{\"id\":\"bee7db7a-d0cb-46a4-ba9d-4e7ab143b663\",\"type\":\"BoxAnnotation\"},{\"id\":\"2ca4deed-d69d-414a-b17b-c8f9fc0626ff\",\"type\":\"GlyphRenderer\"}],\"title\":{\"id\":\"9782e9d7-9f14-4a20-9fe9-ea376c0c008f\",\"type\":\"Title\"},\"toolbar\":{\"id\":\"25a5c6fd-5ee8-40cd-a6d0-bfb30970bda7\",\"type\":\"Toolbar\"},\"toolbar_location\":null,\"x_range\":{\"id\":\"56a86941-a433-44ef-b962-80cf7aba20cb\",\"type\":\"FactorRange\"},\"x_scale\":{\"id\":\"dd3cf65e-b1c2-4b63-9d6c-d131517cba48\",\"type\":\"CategoricalScale\"},\"y_range\":{\"id\":\"2ec6083c-abbd-4b00-99c3-349e5253ca0f\",\"type\":\"DataRange1d\"},\"y_scale\":{\"id\":\"b640b525-a562-4f9e-92e3-c3495fc7d261\",\"type\":\"LinearScale\"}},\"id\":\"d15269fb-6745-447b-b757-4339e3bd1eb1\",\"subtype\":\"Figure\",\"type\":\"Plot\"},{\"attributes\":{\"dimension\":1,\"plot\":{\"id\":\"d15269fb-6745-447b-b757-4339e3bd1eb1\",\"subtype\":\"Figure\",\"type\":\"Plot\"},\"ticker\":{\"id\":\"4e8f400b-eba5-4762-8224-1b8028200131\",\"type\":\"BasicTicker\"}},\"id\":\"6ff5372f-1bb1-4a52-a82a-45f8566e25c2\",\"type\":\"Grid\"},{\"attributes\":{\"bottom_units\":\"screen\",\"fill_alpha\":{\"value\":0.5},\"fill_color\":{\"value\":\"lightgrey\"},\"left_units\":\"screen\",\"level\":\"overlay\",\"line_alpha\":{\"value\":1.0},\"line_color\":{\"value\":\"black\"},\"line_dash\":[4,4],\"line_width\":{\"value\":2},\"plot\":null,\"render_mode\":\"css\",\"right_units\":\"screen\",\"top_units\":\"screen\"},\"id\":\"51308e7d-47b5-490e-bc86-50e52ced100f\",\"type\":\"BoxAnnotation\"},{\"attributes\":{},\"id\":\"52966501-47fa-448d-9150-b6f881d7c1a5\",\"type\":\"Selection\"},{\"attributes\":{},\"id\":\"b6caeb00-2654-49a2-8e73-4b999f7d4dfc\",\"type\":\"ResetTool\"},{\"attributes\":{},\"id\":\"4f231c63-9244-4d40-843a-2d57bcf28776\",\"type\":\"PanTool\"},{\"attributes\":{},\"id\":\"36a7b119-a330-41d4-8c38-3076791eb387\",\"type\":\"PanTool\"},{\"attributes\":{},\"id\":\"1e70303c-1b65-4114-b9de-45513f392363\",\"type\":\"BasicTickFormatter\"},{\"attributes\":{\"callback\":null},\"id\":\"2ec6083c-abbd-4b00-99c3-349e5253ca0f\",\"type\":\"DataRange1d\"},{\"attributes\":{\"callback\":null,\"factors\":[\"1\",\"2\",\"3\",\"4\",\"5\",\"6\",\"7\",\"8\",\"9\",\"10\",\"11\"]},\"id\":\"56a86941-a433-44ef-b962-80cf7aba20cb\",\"type\":\"FactorRange\"}],\"root_ids\":[\"b5b64385-10ac-48b4-a5c6-9cc53bac16dd\"]},\"title\":\"Bokeh Application\",\"version\":\"0.12.16\"}};\n",
       "  var render_items = [{\"docid\":\"2849242a-7912-4a3a-a84e-a687cc64a24f\",\"elementid\":\"e2b77794-0cd0-4452-9c5f-a79d8739cac9\",\"modelid\":\"b5b64385-10ac-48b4-a5c6-9cc53bac16dd\"}];\n",
       "  root.Bokeh.embed.embed_items_notebook(docs_json, render_items);\n",
       "\n",
       "  }\n",
       "  if (root.Bokeh !== undefined) {\n",
       "    embed_document(root);\n",
       "  } else {\n",
       "    var attempts = 0;\n",
       "    var timer = setInterval(function(root) {\n",
       "      if (root.Bokeh !== undefined) {\n",
       "        embed_document(root);\n",
       "        clearInterval(timer);\n",
       "      }\n",
       "      attempts++;\n",
       "      if (attempts > 100) {\n",
       "        console.log(\"Bokeh: ERROR: Unable to run BokehJS code because BokehJS library is missing\")\n",
       "        clearInterval(timer);\n",
       "      }\n",
       "    }, 10, root)\n",
       "  }\n",
       "})(window);"
      ],
      "application/vnd.bokehjs_exec.v0+json": ""
     },
     "metadata": {
      "application/vnd.bokehjs_exec.v0+json": {
       "id": "b5b64385-10ac-48b4-a5c6-9cc53bac16dd"
      }
     },
     "output_type": "display_data"
    },
    {
     "data": {
      "text/markdown": [
       "*FIGURE.* Difference between CLIRAD and CRD in TOA, SFC and net atmosphere flux, in each spectral band."
      ],
      "text/plain": [
       "<IPython.core.display.Markdown object>"
      ]
     },
     "metadata": {},
     "output_type": "display_data"
    },
    {
     "data": {
      "text/html": [
       "<div>\n",
       "<style scoped>\n",
       "    .dataframe tbody tr th:only-of-type {\n",
       "        vertical-align: middle;\n",
       "    }\n",
       "\n",
       "    .dataframe tbody tr th {\n",
       "        vertical-align: top;\n",
       "    }\n",
       "\n",
       "    .dataframe thead th {\n",
       "        text-align: right;\n",
       "    }\n",
       "</style>\n",
       "<table border=\"1\" class=\"dataframe\">\n",
       "  <thead>\n",
       "    <tr style=\"text-align: right;\">\n",
       "      <th></th>\n",
       "      <th>OLR flux</th>\n",
       "      <th>SFC flux</th>\n",
       "      <th>ATM heating</th>\n",
       "    </tr>\n",
       "    <tr>\n",
       "      <th>Sum over bands</th>\n",
       "      <th></th>\n",
       "      <th></th>\n",
       "      <th></th>\n",
       "    </tr>\n",
       "  </thead>\n",
       "  <tbody>\n",
       "    <tr>\n",
       "      <th>old CLIRAD - CRD</th>\n",
       "      <td>0.09</td>\n",
       "      <td>1.54</td>\n",
       "      <td>-1.31</td>\n",
       "    </tr>\n",
       "    <tr>\n",
       "      <th>CLIRAD (single-run) - CRD</th>\n",
       "      <td>1.13</td>\n",
       "      <td>0.79</td>\n",
       "      <td>0.33</td>\n",
       "    </tr>\n",
       "    <tr>\n",
       "      <th>CRD</th>\n",
       "      <td>-290.39</td>\n",
       "      <td>308.14</td>\n",
       "      <td>-174.89</td>\n",
       "    </tr>\n",
       "  </tbody>\n",
       "</table>\n",
       "</div>"
      ],
      "text/plain": [
       "                           OLR flux  SFC flux  ATM heating\n",
       "Sum over bands                                            \n",
       "old CLIRAD - CRD               0.09      1.54        -1.31\n",
       "CLIRAD (single-run) - CRD      1.13      0.79         0.33\n",
       "CRD                         -290.39    308.14      -174.89"
      ]
     },
     "metadata": {},
     "output_type": "display_data"
    },
    {
     "data": {
      "text/markdown": [
       "*TABLE.* Difference between CLIRAD and CRD in TOA, SFC and net atmosphere flux, over all spectral bands. CRD's TOA, SFC and net atmosphere flux, over all spectral bands."
      ],
      "text/plain": [
       "<IPython.core.display.Markdown object>"
      ]
     },
     "metadata": {},
     "output_type": "display_data"
    },
    {
     "data": {
      "text/html": [
       "<a id=\"Cooling_rates._saw.\"></a>"
      ],
      "text/plain": [
       "<IPython.core.display.HTML object>"
      ]
     },
     "metadata": {},
     "output_type": "display_data"
    },
    {
     "data": {
      "text/markdown": [
       "# Cooling rates. saw."
      ],
      "text/plain": [
       "<IPython.core.display.Markdown object>"
      ]
     },
     "metadata": {},
     "output_type": "display_data"
    },
    {
     "data": {
      "text/html": [
       "\n",
       "<div class=\"bk-root\">\n",
       "    <div class=\"bk-plotdiv\" id=\"82fc6ba2-7b84-4dae-8da9-6281c2ace971\"></div>\n",
       "</div>"
      ]
     },
     "metadata": {},
     "output_type": "display_data"
    },
    {
     "data": {
      "application/javascript": [
       "(function(root) {\n",
       "  function embed_document(root) {\n",
       "    \n",
       "  var docs_json = {\"0f6e8e65-b527-45f4-be34-140d4d3b4162\":{\"roots\":{\"references\":[{\"attributes\":{},\"id\":\"e28c4ae8-51a8-4882-8c1c-656f47ffcb14\",\"type\":\"PanTool\"},{\"attributes\":{\"source\":{\"id\":\"522b07b3-8ab0-4c49-897d-75b754108ee4\",\"type\":\"ColumnDataSource\"}},\"id\":\"5345b109-7e4e-4d22-9015-e77124fcb7b5\",\"type\":\"CDSView\"},{\"attributes\":{\"plot\":{\"id\":\"7a3d02e0-3a45-446d-ab76-2ef51351dedc\",\"subtype\":\"Figure\",\"type\":\"Plot\"},\"ticker\":{\"id\":\"8477db75-9e10-463b-a39f-78ffc1d80936\",\"type\":\"BasicTicker\"}},\"id\":\"cc6ade26-adac-41fb-8c53-7dab0a75f1ca\",\"type\":\"Grid\"},{\"attributes\":{},\"id\":\"30dde7a9-100f-4dac-8b1a-5dbddc93a40a\",\"type\":\"UnionRenderers\"},{\"attributes\":{\"axis_label\":\"pressure [mb]\",\"formatter\":{\"id\":\"efa2c0ba-9aea-4465-807b-2e0d06036635\",\"type\":\"BasicTickFormatter\"},\"plot\":{\"id\":\"7ad413e0-00c2-4001-bf04-ccf7b1e8c72d\",\"subtype\":\"Figure\",\"type\":\"Plot\"},\"ticker\":{\"id\":\"305a4ebf-2995-4787-af8c-1ab9de65fb3f\",\"type\":\"BasicTicker\"}},\"id\":\"3fb72813-946a-441d-89eb-433211f525ee\",\"type\":\"LinearAxis\"},{\"attributes\":{\"data_source\":{\"id\":\"151776b8-c6d6-4f82-a582-dc4dfd9f7aa5\",\"type\":\"ColumnDataSource\"},\"glyph\":{\"id\":\"abbdfd03-fe09-48e7-b660-1e2e8f9a6988\",\"type\":\"Line\"},\"hover_glyph\":null,\"muted_glyph\":null,\"nonselection_glyph\":{\"id\":\"5125af9d-7859-493f-8c00-766e02a84fc2\",\"type\":\"Line\"},\"selection_glyph\":null,\"view\":{\"id\":\"0c812982-535d-4cab-8a84-7084db29fee9\",\"type\":\"CDSView\"}},\"id\":\"a12ae874-5332-4850-bcc0-c00e3be4a8b2\",\"type\":\"GlyphRenderer\"},{\"attributes\":{\"overlay\":{\"id\":\"c3e04d38-7373-4fec-9a52-578fdb7000eb\",\"type\":\"BoxAnnotation\"}},\"id\":\"407f0bd1-3928-4f23-ac00-6498413ade0c\",\"type\":\"BoxZoomTool\"},{\"attributes\":{\"callback\":null,\"data\":{\"x\":{\"__ndarray__\":\"0CYBcvU5UkCik9zf2GVBQF1VoNfLZ0BAVLxhiVXTPUDD1Wu1wJM6QFJyB025jjdAU6Aw5+b/NECYe1uuDfgyQB6bYtVTbTFAPxYSAF1HMEA00pYVm9QuQLolHbMzgC1AntlwirGsLECv+G9SjE4rQJH6ZLBp0ShAsLZQyPd/JkDyjgyf2PwkQLgyNGsrJyRAA13QbJD6I0C8hy0ilI4kQOVTXCEgcSZAovOGvZSGJUBVc/ZmUOIgQOf/6GHAyRlAcE8fAOBSFEDRur1U//gPQGFD9ZbokghAQsqHuSqSA0C91ci3W0UBQCtRQfvz7/4/kh8pntyB+j9t1/n+4TX1P773MAUjFfI/RgzR+CI28T8hBW8WHK7uPzVKjJfU8uk/0FPt4/z65T/wVYqzMPDhPz7K9C5CXuE/8+hSn9hY4T/9PPCkR6rhP1XsIC599OA/66X1nBCX3z/YbRM56QjcPz4dkSQc/dM/S7Wb8Fq00T+/yQdmX0vcP7TrGf476eM/WqNPJoWO7D9qOH1bcwDzP2bw+R5DQ/Y/RLSuQOQp+D8+aif8yAz5P0Wv6eBKRfk/0i2+IN4R+T/ik8QNFZr4PyS5UD5j/Pc/yJ68zXRG9z/2CHPL54H2P59SOhwKtPU/npkP8dfg9D8NlmVcdQz0P80ugRvuOvM/byxiAHN18j9USVZie8nxP5l9lNXYSPE/OB+F0UYP8T8Y7dsUCTHxP3EBgTHPcPE/bfx15p8S8T8FT+xkGtTuP6mdG7rkxuk/pboqTkHX5D/CrN8qGYngP7R4ZaL+htU/\",\"dtype\":\"float64\",\"shape\":[75]},\"y\":{\"__ndarray__\":\"GhExyth1ND/Sv8nbtpRIP2vylNV0PVE/aTum7souWD/At0SJ8fVgPw3Iuahxymc/MSNhhJWvcD/bTfBN02d3P2zb5nxnaoA/CD5h5MAGhz8NmeH1TyaQP+zrCsc9p5Y/LbKd76fGnz/bLW5ISEmmPww9YvTcQq8/JV2OstnstT8Er5Y7M8G+P0c+r3jqkcU/5h99k6ZBzj88bCIzFzjVP4enV8oyxN0//yH99nXg5D8qOpLLf0jtP5kqGJXUifQ/c9cS8kHP/D+/DpwzojQEQIEmwoanVwxA4lgXt9HgE0BSSZ2AJuIbQAMJih9jjiNA5q4l5INuK0AwTKYKRj0zQNv5fmq8/DpAaCJseHrtQkB/+zpwzoxKQM3MzMzMeFJAZmZmZmZqWEAAAAAAAFxeQM3MzMzMJmJAmpmZmZkfZUBmZmZmZhhoQDMzMzMzEWtAAAAAAAAKbkBmZmZmZoFwQM3MzMzM/XFAMzMzMzN6c0CamZmZmfZ0QAAAAAAAc3ZAZmZmZmbvd0DNzMzMzGt5QDMzMzMz6HpAmpmZmZlkfEAAAAAAAOF9QGZmZmZmXX9AZmZmZuZsgECamZmZGSuBQM3MzMxM6YFAAAAAAICngkAzMzMzs2WDQGZmZmbmI4RAmpmZmRnihEDNzMzMTKCFQAAAAACAXoZAMzMzM7Mch0BmZmZm5tqHQJqZmZkZmYhAzczMzExXiUAAAAAAgBWKQDMzMzOz04pAZmZmZuaRi0CamZmZGVCMQM3MzMxMDo1AAAAAAIDMjUAzMzMzs4qOQGZmZmbmSI9A\",\"dtype\":\"float64\",\"shape\":[75]}},\"selected\":{\"id\":\"43a7007a-c755-4ad8-9c6c-0a6174f1e41e\",\"type\":\"Selection\"},\"selection_policy\":{\"id\":\"2a18b039-e6b1-4dd9-98de-15d388e44802\",\"type\":\"UnionRenderers\"}},\"id\":\"a693f341-d4e1-4925-928a-05687fbf33f0\",\"type\":\"ColumnDataSource\"},{\"attributes\":{\"data_source\":{\"id\":\"a693f341-d4e1-4925-928a-05687fbf33f0\",\"type\":\"ColumnDataSource\"},\"glyph\":{\"id\":\"73b4b2d4-5c3b-4139-a4a4-cb9ed6539ea0\",\"type\":\"Circle\"},\"hover_glyph\":null,\"muted_glyph\":null,\"nonselection_glyph\":{\"id\":\"76745d38-8199-43ca-b781-4a493949004e\",\"type\":\"Circle\"},\"selection_glyph\":null,\"view\":{\"id\":\"fd56da41-b2db-401f-b36e-bf0c520ed84d\",\"type\":\"CDSView\"}},\"id\":\"8c415202-c725-449c-8869-cae2d1cf75cf\",\"type\":\"GlyphRenderer\"},{\"attributes\":{\"active_drag\":\"auto\",\"active_inspect\":\"auto\",\"active_scroll\":\"auto\",\"active_tap\":\"auto\",\"tools\":[{\"id\":\"036991d6-4a02-48c4-b087-09eb367473e1\",\"type\":\"PanTool\"},{\"id\":\"7e03768b-b460-42c8-935f-dd2645aca2ee\",\"type\":\"WheelZoomTool\"},{\"id\":\"47b281c4-b273-45f1-9f26-dd07d841a5b6\",\"type\":\"BoxZoomTool\"},{\"id\":\"c1c541fa-6021-4dfd-a46a-e09f2cf10585\",\"type\":\"SaveTool\"},{\"id\":\"61cb48d6-310e-48d2-9904-8652f0c7e70c\",\"type\":\"ResetTool\"},{\"id\":\"f02ea710-49ed-40a7-9a27-2c3f7d0c5b9d\",\"type\":\"HelpTool\"}]},\"id\":\"fc34e8b1-aca4-4c0c-a1ed-6530ef457299\",\"type\":\"Toolbar\"},{\"attributes\":{\"source\":{\"id\":\"151776b8-c6d6-4f82-a582-dc4dfd9f7aa5\",\"type\":\"ColumnDataSource\"}},\"id\":\"0c812982-535d-4cab-8a84-7084db29fee9\",\"type\":\"CDSView\"},{\"attributes\":{\"fill_alpha\":{\"value\":0.7},\"fill_color\":{\"value\":\"#4daf4a\"},\"line_alpha\":{\"value\":0.7},\"line_color\":{\"value\":\"#4daf4a\"},\"x\":{\"field\":\"x\"},\"y\":{\"field\":\"y\"}},\"id\":\"73b4b2d4-5c3b-4139-a4a4-cb9ed6539ea0\",\"type\":\"Circle\"},{\"attributes\":{\"callback\":null,\"end\":0.01,\"start\":1020},\"id\":\"bf06d9a8-e1fc-48b5-85cb-98e472bad85b\",\"type\":\"Range1d\"},{\"attributes\":{\"dimension\":1,\"plot\":{\"id\":\"7ad413e0-00c2-4001-bf04-ccf7b1e8c72d\",\"subtype\":\"Figure\",\"type\":\"Plot\"},\"ticker\":{\"id\":\"305a4ebf-2995-4787-af8c-1ab9de65fb3f\",\"type\":\"BasicTicker\"}},\"id\":\"e38864a3-a26f-44cc-a706-9543ec9fa6bf\",\"type\":\"Grid\"},{\"attributes\":{\"above\":[{\"id\":\"ce341f59-3655-4f69-8c72-6ef53d2a4f83\",\"type\":\"Legend\"}],\"below\":[{\"id\":\"c01f2b3b-35d1-4af4-9220-ae189e27d885\",\"type\":\"LinearAxis\"}],\"left\":[{\"id\":\"37ed49da-e0bb-40d9-9c9f-09fab96652dc\",\"type\":\"LogAxis\"}],\"plot_width\":300,\"renderers\":[{\"id\":\"c01f2b3b-35d1-4af4-9220-ae189e27d885\",\"type\":\"LinearAxis\"},{\"id\":\"dfac037e-2c3b-4d76-a35a-669c5afd4e0d\",\"type\":\"Grid\"},{\"id\":\"37ed49da-e0bb-40d9-9c9f-09fab96652dc\",\"type\":\"LogAxis\"},{\"id\":\"78a18401-256a-4a53-ad20-a41defea522d\",\"type\":\"Grid\"},{\"id\":\"23580950-0656-4f8c-8223-80fa77d5b695\",\"type\":\"BoxAnnotation\"},{\"id\":\"edfee54a-99e1-4337-936c-d566a69e4953\",\"type\":\"GlyphRenderer\"},{\"id\":\"33b75291-0c19-4ce3-a561-a607d407338e\",\"type\":\"GlyphRenderer\"},{\"id\":\"06db33e4-db94-4a91-95d8-2053aaade3ab\",\"type\":\"GlyphRenderer\"},{\"id\":\"ce341f59-3655-4f69-8c72-6ef53d2a4f83\",\"type\":\"Legend\"}],\"title\":{\"id\":\"ac0c6891-a6f3-492e-bab4-d0ad3f3fbad9\",\"type\":\"Title\"},\"toolbar\":{\"id\":\"fc34e8b1-aca4-4c0c-a1ed-6530ef457299\",\"type\":\"Toolbar\"},\"toolbar_location\":null,\"x_range\":{\"id\":\"dd560393-4581-48d1-8b39-ac3a9108f99f\",\"type\":\"Range1d\"},\"x_scale\":{\"id\":\"b0a003e1-1a1d-4ce4-b913-70b9020b952a\",\"type\":\"LinearScale\"},\"y_range\":{\"id\":\"e6570b3f-2cbf-4ce1-a5fb-5dc789c95cb3\",\"type\":\"Range1d\"},\"y_scale\":{\"id\":\"d8fdc432-d577-4db7-99d2-a10b6fe77435\",\"type\":\"LogScale\"}},\"id\":\"5872c88f-417c-41d8-a3a5-9014a0fca831\",\"subtype\":\"Figure\",\"type\":\"Plot\"},{\"attributes\":{\"callback\":null,\"end\":1.5925520929577701,\"start\":0.25278412604523004},\"id\":\"1baadc09-f178-45b5-bcf8-a5cd78d74147\",\"type\":\"Range1d\"},{\"attributes\":{},\"id\":\"305a4ebf-2995-4787-af8c-1ab9de65fb3f\",\"type\":\"BasicTicker\"},{\"attributes\":{\"line_alpha\":0.1,\"line_color\":\"#1f77b4\",\"line_width\":1.5,\"x\":{\"field\":\"x\"},\"y\":{\"field\":\"y\"}},\"id\":\"5125af9d-7859-493f-8c00-766e02a84fc2\",\"type\":\"Line\"},{\"attributes\":{\"plot\":{\"id\":\"7ad413e0-00c2-4001-bf04-ccf7b1e8c72d\",\"subtype\":\"Figure\",\"type\":\"Plot\"},\"ticker\":{\"id\":\"b0843813-ec91-4902-9fc7-6261ed5c8a9c\",\"type\":\"BasicTicker\"}},\"id\":\"d76a942f-aabf-44bf-982f-e1eab29f5a1f\",\"type\":\"Grid\"},{\"attributes\":{},\"id\":\"e7f22bfd-42db-4c10-9717-93558b9e2ab3\",\"type\":\"Selection\"},{\"attributes\":{},\"id\":\"d6a176f0-123f-440c-9af7-f332a1062cd9\",\"type\":\"ResetTool\"},{\"attributes\":{\"callback\":null,\"end\":0.01,\"start\":1020},\"id\":\"e6570b3f-2cbf-4ce1-a5fb-5dc789c95cb3\",\"type\":\"Range1d\"},{\"attributes\":{},\"id\":\"b0843813-ec91-4902-9fc7-6261ed5c8a9c\",\"type\":\"BasicTicker\"},{\"attributes\":{},\"id\":\"f95c88d1-f1f7-4eb4-811c-610fd849d723\",\"type\":\"UnionRenderers\"},{\"attributes\":{\"tools\":[{\"id\":\"e28c4ae8-51a8-4882-8c1c-656f47ffcb14\",\"type\":\"PanTool\"},{\"id\":\"e68fdbcf-ae6d-47a1-8b56-0b3dfa1d495b\",\"type\":\"WheelZoomTool\"},{\"id\":\"407f0bd1-3928-4f23-ac00-6498413ade0c\",\"type\":\"BoxZoomTool\"},{\"id\":\"723a682b-21fd-4ed7-80dd-4b4f5fd87f51\",\"type\":\"SaveTool\"},{\"id\":\"d6a176f0-123f-440c-9af7-f332a1062cd9\",\"type\":\"ResetTool\"},{\"id\":\"d7ae1ea4-2699-4e77-a7e0-33b50419723d\",\"type\":\"HelpTool\"},{\"id\":\"036991d6-4a02-48c4-b087-09eb367473e1\",\"type\":\"PanTool\"},{\"id\":\"7e03768b-b460-42c8-935f-dd2645aca2ee\",\"type\":\"WheelZoomTool\"},{\"id\":\"47b281c4-b273-45f1-9f26-dd07d841a5b6\",\"type\":\"BoxZoomTool\"},{\"id\":\"c1c541fa-6021-4dfd-a46a-e09f2cf10585\",\"type\":\"SaveTool\"},{\"id\":\"61cb48d6-310e-48d2-9904-8652f0c7e70c\",\"type\":\"ResetTool\"},{\"id\":\"f02ea710-49ed-40a7-9a27-2c3f7d0c5b9d\",\"type\":\"HelpTool\"},{\"id\":\"32976639-5efa-49cc-a276-16a990f2a711\",\"type\":\"PanTool\"},{\"id\":\"cb30a915-8a91-47db-a091-0e7f57b4ca25\",\"type\":\"WheelZoomTool\"},{\"id\":\"2bcc40aa-ee82-4762-9385-c6d6b0a2a46b\",\"type\":\"BoxZoomTool\"},{\"id\":\"9c23c6e2-ba41-405e-ad14-e4a402d40ae8\",\"type\":\"SaveTool\"},{\"id\":\"df520eea-e457-41d6-a057-40b5db34bb5b\",\"type\":\"ResetTool\"},{\"id\":\"ba5bf1c7-e57b-4044-a0d0-147b8e352e2c\",\"type\":\"HelpTool\"}]},\"id\":\"057e6b92-fc5c-4988-8a1e-31e123900ff3\",\"type\":\"ProxyToolbar\"},{\"attributes\":{\"source\":{\"id\":\"643d15c2-69b1-42cc-aaa7-012eda1a6d0d\",\"type\":\"ColumnDataSource\"}},\"id\":\"87e0e779-9e34-4ce3-adda-dfe044a54799\",\"type\":\"CDSView\"},{\"attributes\":{\"bottom_units\":\"screen\",\"fill_alpha\":{\"value\":0.5},\"fill_color\":{\"value\":\"lightgrey\"},\"left_units\":\"screen\",\"level\":\"overlay\",\"line_alpha\":{\"value\":1.0},\"line_color\":{\"value\":\"black\"},\"line_dash\":[4,4],\"line_width\":{\"value\":2},\"plot\":null,\"render_mode\":\"css\",\"right_units\":\"screen\",\"top_units\":\"screen\"},\"id\":\"c3e04d38-7373-4fec-9a52-578fdb7000eb\",\"type\":\"BoxAnnotation\"},{\"attributes\":{},\"id\":\"723a682b-21fd-4ed7-80dd-4b4f5fd87f51\",\"type\":\"SaveTool\"},{\"attributes\":{},\"id\":\"7a30c2e6-f70e-4d46-b650-fee6fbfe5ffa\",\"type\":\"Selection\"},{\"attributes\":{},\"id\":\"14c260c2-3020-4a78-8418-dfa4dbdc8c01\",\"type\":\"UnionRenderers\"},{\"attributes\":{\"children\":[{\"id\":\"0a8bf97b-3e3f-4e99-ae7f-52a8790ae2b8\",\"type\":\"ToolbarBox\"},{\"id\":\"58321c0b-74c1-4aeb-84b0-02b7345976fa\",\"type\":\"Column\"}]},\"id\":\"533fc1ff-eb95-4286-8ed1-521343ef06f1\",\"type\":\"Column\"},{\"attributes\":{\"items\":[{\"id\":\"1de466c2-55e8-4f23-bfac-18576ed5948c\",\"type\":\"LegendItem\"},{\"id\":\"62202669-3c9e-44e0-b917-5524bb584a7f\",\"type\":\"LegendItem\"}],\"label_text_font_size\":{\"value\":\"8pt\"},\"location\":\"top_center\",\"orientation\":\"horizontal\",\"plot\":{\"id\":\"7ad413e0-00c2-4001-bf04-ccf7b1e8c72d\",\"subtype\":\"Figure\",\"type\":\"Plot\"}},\"id\":\"eef36f10-27e9-4915-bf4a-a2688624d596\",\"type\":\"Legend\"},{\"attributes\":{\"fill_alpha\":{\"value\":0.1},\"fill_color\":{\"value\":\"#1f77b4\"},\"line_alpha\":{\"value\":0.1},\"line_color\":{\"value\":\"#1f77b4\"},\"x\":{\"field\":\"x\"},\"y\":{\"field\":\"y\"}},\"id\":\"76745d38-8199-43ca-b781-4a493949004e\",\"type\":\"Circle\"},{\"attributes\":{\"items\":[{\"id\":\"5882a98e-9e71-47d0-bac8-30bbba5f9b3b\",\"type\":\"LegendItem\"}],\"label_text_font_size\":{\"value\":\"8pt\"},\"location\":\"top_center\",\"orientation\":\"horizontal\",\"plot\":{\"id\":\"7a3d02e0-3a45-446d-ab76-2ef51351dedc\",\"subtype\":\"Figure\",\"type\":\"Plot\"}},\"id\":\"075f64f9-0c57-4bf8-9522-190eee09f66c\",\"type\":\"Legend\"},{\"attributes\":{},\"id\":\"8b2e0750-1d43-4500-95dc-af496aefb0de\",\"type\":\"BasicTickFormatter\"},{\"attributes\":{\"toolbar\":{\"id\":\"057e6b92-fc5c-4988-8a1e-31e123900ff3\",\"type\":\"ProxyToolbar\"},\"toolbar_location\":\"above\"},\"id\":\"0a8bf97b-3e3f-4e99-ae7f-52a8790ae2b8\",\"type\":\"ToolbarBox\"},{\"attributes\":{},\"id\":\"d5af7fef-3cce-438e-ba6a-1facb7971b66\",\"type\":\"UnionRenderers\"},{\"attributes\":{\"line_alpha\":0.1,\"line_color\":\"#1f77b4\",\"line_dash\":[6],\"line_width\":5,\"x\":{\"field\":\"x\"},\"y\":{\"field\":\"y\"}},\"id\":\"5cfbb067-7831-464c-b2d0-4f4e5b7ec87a\",\"type\":\"Line\"},{\"attributes\":{},\"id\":\"aafb957d-8344-4e7d-a672-6106e4e71bec\",\"type\":\"Selection\"},{\"attributes\":{\"ticker\":null},\"id\":\"97dc6207-4279-4b71-80cf-927cb17704df\",\"type\":\"LogTickFormatter\"},{\"attributes\":{\"above\":[{\"id\":\"eef36f10-27e9-4915-bf4a-a2688624d596\",\"type\":\"Legend\"}],\"below\":[{\"id\":\"a777d779-0961-474f-90bc-962e7b5a1e81\",\"type\":\"LinearAxis\"}],\"left\":[{\"id\":\"3fb72813-946a-441d-89eb-433211f525ee\",\"type\":\"LinearAxis\"}],\"plot_width\":300,\"renderers\":[{\"id\":\"a777d779-0961-474f-90bc-962e7b5a1e81\",\"type\":\"LinearAxis\"},{\"id\":\"d76a942f-aabf-44bf-982f-e1eab29f5a1f\",\"type\":\"Grid\"},{\"id\":\"3fb72813-946a-441d-89eb-433211f525ee\",\"type\":\"LinearAxis\"},{\"id\":\"e38864a3-a26f-44cc-a706-9543ec9fa6bf\",\"type\":\"Grid\"},{\"id\":\"c3e04d38-7373-4fec-9a52-578fdb7000eb\",\"type\":\"BoxAnnotation\"},{\"id\":\"3acba571-a609-4213-a510-759b3c044524\",\"type\":\"GlyphRenderer\"},{\"id\":\"8c415202-c725-449c-8869-cae2d1cf75cf\",\"type\":\"GlyphRenderer\"},{\"id\":\"a12ae874-5332-4850-bcc0-c00e3be4a8b2\",\"type\":\"GlyphRenderer\"},{\"id\":\"eef36f10-27e9-4915-bf4a-a2688624d596\",\"type\":\"Legend\"}],\"title\":{\"id\":\"0e32877f-4301-4805-8f87-2997390b5bb9\",\"type\":\"Title\"},\"toolbar\":{\"id\":\"9690e542-e484-406e-8565-aa100d0d12cc\",\"type\":\"Toolbar\"},\"toolbar_location\":null,\"x_range\":{\"id\":\"1baadc09-f178-45b5-bcf8-a5cd78d74147\",\"type\":\"Range1d\"},\"x_scale\":{\"id\":\"404a7951-b949-4ca2-9f8e-401c414a8c3e\",\"type\":\"LinearScale\"},\"y_range\":{\"id\":\"bf06d9a8-e1fc-48b5-85cb-98e472bad85b\",\"type\":\"Range1d\"},\"y_scale\":{\"id\":\"c579e65e-fb1c-4d40-942c-99fba0bd2e6e\",\"type\":\"LinearScale\"}},\"id\":\"7ad413e0-00c2-4001-bf04-ccf7b1e8c72d\",\"subtype\":\"Figure\",\"type\":\"Plot\"},{\"attributes\":{\"plot\":null,\"text\":\"\"},\"id\":\"5b4f287f-da02-458d-9055-4c2ba7a5eba7\",\"type\":\"Title\"},{\"attributes\":{},\"id\":\"c579e65e-fb1c-4d40-942c-99fba0bd2e6e\",\"type\":\"LinearScale\"},{\"attributes\":{},\"id\":\"d7ae1ea4-2699-4e77-a7e0-33b50419723d\",\"type\":\"HelpTool\"},{\"attributes\":{},\"id\":\"e68fdbcf-ae6d-47a1-8b56-0b3dfa1d495b\",\"type\":\"WheelZoomTool\"},{\"attributes\":{\"axis_label\":\"cooling rate [K/day]\",\"formatter\":{\"id\":\"0ec7ec0c-8b34-4dea-8237-e5136c321725\",\"type\":\"BasicTickFormatter\"},\"plot\":{\"id\":\"7ad413e0-00c2-4001-bf04-ccf7b1e8c72d\",\"subtype\":\"Figure\",\"type\":\"Plot\"},\"ticker\":{\"id\":\"b0843813-ec91-4902-9fc7-6261ed5c8a9c\",\"type\":\"BasicTicker\"}},\"id\":\"a777d779-0961-474f-90bc-962e7b5a1e81\",\"type\":\"LinearAxis\"},{\"attributes\":{\"callback\":null,\"data\":{\"x\":{\"__ndarray__\":\"dPEGK8OVQEDeoOdcKI48QFbHwpv6Wj5Ay6P+H0H1PkDQ4Pw1Pwc+QE/QQMz8iTtA2A4AykzZN0DdjedX4NEzQGtNrhl/gDBA2D3w2wNCLUCD8yO1LFEsQMSh3yrZ2SxAddHY/lW3LUCQJQyh8TwtQDsZ7GODoSpAi6Dn/2tIJ0DnDLMq6HUkQI7khOlE0SJADOiE4G6jIkCA/E90r7ojQD4p//OgKSZA0QfX6dGqJUCyytltEichQGghgfXIYRlAYiDp91xnE0B2wNHWtrQPQJ4m9qB2vgpAeJDQ8VfQBUDZ0VLI7iYCQFfZT3TydP8/LweR0IUK/T/QULeHxNj4P2vv6z6eL/Q/zgHEDC0f8T/QFWBxKcbuP44Jru1pXOw/gHqFfZV+5z+OfasQZCrhP6t1AyXK0t0/lna9be4v3T/c2Wqej6reP35gz5e/Ud4/nMqPj0zn3D8LaSXAL2PaPwxLIAIe8tI/ycIIktEE0T/QBmDBekPcP1FO88ASwOM/Iq2sIt+z6z9G6FH1eCvyPxuVEdtBb/U/iGRHMeCT9z8UPT1a/HH4P34cIRzqbvg/BVL+/E89+D8UZw90MO/3Pxe6cKnMffc/gpFKgkbl9j+HrQkEYjP2P3zN2LsygPU/XbOBIde49D8Mb12IkenzP3WIqqFOEvM/areay8ZI8j+L6oiWEKHxPzKOAUHPLvE/uT5D5rAN8T9sYOhno1DxP+7HZ16AqPE/jCnpRRNe8T/L5uQkGIfvP9VKN758h+o/8f1zKreS5T9uCZ6e1UPhP0M/OoB87NY/\",\"dtype\":\"float64\",\"shape\":[75]},\"y\":{\"__ndarray__\":\"GhExyth1ND/Sv8nbtpRIP2vylNV0PVE/aTum7souWD/At0SJ8fVgPw3Iuahxymc/MSNhhJWvcD/bTfBN02d3P2zb5nxnaoA/CD5h5MAGhz8NmeH1TyaQP+zrCsc9p5Y/LbKd76fGnz/bLW5ISEmmPww9YvTcQq8/JV2OstnstT8Er5Y7M8G+P0c+r3jqkcU/5h99k6ZBzj88bCIzFzjVP4enV8oyxN0//yH99nXg5D8qOpLLf0jtP5kqGJXUifQ/c9cS8kHP/D+/DpwzojQEQIEmwoanVwxA4lgXt9HgE0BSSZ2AJuIbQAMJih9jjiNA5q4l5INuK0AwTKYKRj0zQNv5fmq8/DpAaCJseHrtQkB/+zpwzoxKQM3MzMzMeFJAZmZmZmZqWEAAAAAAAFxeQM3MzMzMJmJAmpmZmZkfZUBmZmZmZhhoQDMzMzMzEWtAAAAAAAAKbkBmZmZmZoFwQM3MzMzM/XFAMzMzMzN6c0CamZmZmfZ0QAAAAAAAc3ZAZmZmZmbvd0DNzMzMzGt5QDMzMzMz6HpAmpmZmZlkfEAAAAAAAOF9QGZmZmZmXX9AZmZmZuZsgECamZmZGSuBQM3MzMxM6YFAAAAAAICngkAzMzMzs2WDQGZmZmbmI4RAmpmZmRnihEDNzMzMTKCFQAAAAACAXoZAMzMzM7Mch0BmZmZm5tqHQJqZmZkZmYhAzczMzExXiUAAAAAAgBWKQDMzMzOz04pAZmZmZuaRi0CamZmZGVCMQM3MzMxMDo1AAAAAAIDMjUAzMzMzs4qOQGZmZmbmSI9A\",\"dtype\":\"float64\",\"shape\":[75]}},\"selected\":{\"id\":\"7c1f6de0-52ef-46b2-8ec9-ab58f5445b44\",\"type\":\"Selection\"},\"selection_policy\":{\"id\":\"acf1e501-a1a4-4bd3-9d91-09c33b108b00\",\"type\":\"UnionRenderers\"}},\"id\":\"643d15c2-69b1-42cc-aaa7-012eda1a6d0d\",\"type\":\"ColumnDataSource\"},{\"attributes\":{\"axis_label\":\"cooling rate [K/day]\",\"formatter\":{\"id\":\"8b2e0750-1d43-4500-95dc-af496aefb0de\",\"type\":\"BasicTickFormatter\"},\"plot\":{\"id\":\"7a3d02e0-3a45-446d-ab76-2ef51351dedc\",\"subtype\":\"Figure\",\"type\":\"Plot\"},\"ticker\":{\"id\":\"8477db75-9e10-463b-a39f-78ffc1d80936\",\"type\":\"BasicTicker\"}},\"id\":\"559b2f09-c4c4-41ff-8fa3-87de225e6a41\",\"type\":\"LinearAxis\"},{\"attributes\":{\"axis_label\":\"pressure [mb]\",\"formatter\":{\"id\":\"97dc6207-4279-4b71-80cf-927cb17704df\",\"type\":\"LogTickFormatter\"},\"plot\":{\"id\":\"7a3d02e0-3a45-446d-ab76-2ef51351dedc\",\"subtype\":\"Figure\",\"type\":\"Plot\"},\"ticker\":{\"id\":\"63135b91-83ca-4497-abb7-706f280f97b6\",\"type\":\"LogTicker\"}},\"id\":\"6e808329-bfd1-4e09-bd0b-351ad1c9b3de\",\"type\":\"LogAxis\"},{\"attributes\":{\"line_color\":\"#4daf4a\",\"line_width\":1.5,\"x\":{\"field\":\"x\"},\"y\":{\"field\":\"y\"}},\"id\":\"abbdfd03-fe09-48e7-b660-1e2e8f9a6988\",\"type\":\"Line\"},{\"attributes\":{\"callback\":null,\"end\":0.01,\"start\":1020},\"id\":\"197e9224-55dd-4528-8059-4c8372c4f1d5\",\"type\":\"Range1d\"},{\"attributes\":{\"dimension\":1,\"plot\":{\"id\":\"7a3d02e0-3a45-446d-ab76-2ef51351dedc\",\"subtype\":\"Figure\",\"type\":\"Plot\"},\"ticker\":{\"id\":\"63135b91-83ca-4497-abb7-706f280f97b6\",\"type\":\"LogTicker\"}},\"id\":\"3d7fe8c4-0886-48f2-b7cf-baed5b2f0407\",\"type\":\"Grid\"},{\"attributes\":{\"line_alpha\":0.6,\"line_color\":\"#377eb8\",\"line_dash\":[6],\"line_width\":5,\"x\":{\"field\":\"x\"},\"y\":{\"field\":\"y\"}},\"id\":\"063e2a18-ac43-487a-b7a1-ae48356a0d41\",\"type\":\"Line\"},{\"attributes\":{\"line_alpha\":0.6,\"line_color\":\"#377eb8\",\"line_dash\":[6],\"line_width\":5,\"x\":{\"field\":\"x\"},\"y\":{\"field\":\"y\"}},\"id\":\"8a52c131-b137-409d-a38a-f31e9529f324\",\"type\":\"Line\"},{\"attributes\":{},\"id\":\"e2a1fd18-6d82-43f1-9228-83c11816c5a1\",\"type\":\"LogScale\"},{\"attributes\":{\"active_drag\":\"auto\",\"active_inspect\":\"auto\",\"active_scroll\":\"auto\",\"active_tap\":\"auto\",\"tools\":[{\"id\":\"32976639-5efa-49cc-a276-16a990f2a711\",\"type\":\"PanTool\"},{\"id\":\"cb30a915-8a91-47db-a091-0e7f57b4ca25\",\"type\":\"WheelZoomTool\"},{\"id\":\"2bcc40aa-ee82-4762-9385-c6d6b0a2a46b\",\"type\":\"BoxZoomTool\"},{\"id\":\"9c23c6e2-ba41-405e-ad14-e4a402d40ae8\",\"type\":\"SaveTool\"},{\"id\":\"df520eea-e457-41d6-a057-40b5db34bb5b\",\"type\":\"ResetTool\"},{\"id\":\"ba5bf1c7-e57b-4044-a0d0-147b8e352e2c\",\"type\":\"HelpTool\"}]},\"id\":\"1b469adb-65d3-47dc-9780-0805ebacb7e6\",\"type\":\"Toolbar\"},{\"attributes\":{},\"id\":\"0ec7ec0c-8b34-4dea-8237-e5136c321725\",\"type\":\"BasicTickFormatter\"},{\"attributes\":{\"line_alpha\":0.1,\"line_color\":\"#1f77b4\",\"line_dash\":[6],\"line_width\":5,\"x\":{\"field\":\"x\"},\"y\":{\"field\":\"y\"}},\"id\":\"78dfdcfa-fef3-4f21-bf89-66d55f99d0c4\",\"type\":\"Line\"},{\"attributes\":{},\"id\":\"b38c8692-a42d-4672-aa9a-01c5d7f7deac\",\"type\":\"LinearScale\"},{\"attributes\":{\"callback\":null,\"data\":{\"x\":{\"__ndarray__\":\"LVz7uCfeQ8ChGUaLJfYYwCMb75vopAPAb3fOabke8j9lWIgE9JsLQOXvyvkb2g9APnR7Fi/LBkCmSIIxVTrrPyu2iXaXmu2/L3WfIbFl+r+C9ZYDcxv0v8J+sAdRy9S/UH1/Rkeq4D8IzsLpVObuP4jqcTibAe0/eTvd8oYO2T+OQTCLDt7Qv5ji9BpoXuW/V0+3xBhy5b94Z7G7lXzav/6pSlfL38G/zBgKKJYesj/I1tW4gTDBP4Gg9xnb/bm/6OHFBmFwzb/Jlv56HxKhv/EZB1BwXNE/tDFGwmnx0T+dgz8RYjK8P0oF0SHPn6A/1zw/k0lFxD8Gy+tFFBfNP2i9183Z08A/N3gKDez1dr+ErhDxWg1oP7z6DbGqTLM/FGuCmYk5qD8ZDNtblLmYvzx7mOPoprO/Rm2hQwsHtr9zgNat/qeyv3TBkyPWuay/lNouayB+pb/vTOCOl1uavx4jDSfir5C/H1Be0ivxhb9YuwufkpI/v2KxTpOelHS/zMZedMBUm7+XBGrFTJ+qv1BpC30ogKq/qPfp7IHAor8ApUU9lFmjv/JYEpkYzKq/kHn7d8SRqr/cmaU2k1ylvxjD/zelpZ+/nlGD3JJLmL/E21bacaGTv/6RwjCw64m/2h/zxmcAhL/NgBME6nGBv9orU+u8T4S/oIG6YxpWhr8lZK/mZTWEv+Zn75KUCXq/gNkHHrReOb9kVHMMU5p/P9Y9Y3OW2Is/nkfL3Nfckj+u+BL/t1+WP0aldYMAE5g/U2koibtulz9Klct3jleXPw5pTN3dV5Y/\",\"dtype\":\"float64\",\"shape\":[75]},\"y\":{\"__ndarray__\":\"GhExyth1ND/Sv8nbtpRIP2vylNV0PVE/aTum7souWD/At0SJ8fVgPw3Iuahxymc/MSNhhJWvcD/bTfBN02d3P2zb5nxnaoA/CD5h5MAGhz8NmeH1TyaQP+zrCsc9p5Y/LbKd76fGnz/bLW5ISEmmPww9YvTcQq8/JV2OstnstT8Er5Y7M8G+P0c+r3jqkcU/5h99k6ZBzj88bCIzFzjVP4enV8oyxN0//yH99nXg5D8qOpLLf0jtP5kqGJXUifQ/c9cS8kHP/D+/DpwzojQEQIEmwoanVwxA4lgXt9HgE0BSSZ2AJuIbQAMJih9jjiNA5q4l5INuK0AwTKYKRj0zQNv5fmq8/DpAaCJseHrtQkB/+zpwzoxKQM3MzMzMeFJAZmZmZmZqWEAAAAAAAFxeQM3MzMzMJmJAmpmZmZkfZUBmZmZmZhhoQDMzMzMzEWtAAAAAAAAKbkBmZmZmZoFwQM3MzMzM/XFAMzMzMzN6c0CamZmZmfZ0QAAAAAAAc3ZAZmZmZmbvd0DNzMzMzGt5QDMzMzMz6HpAmpmZmZlkfEAAAAAAAOF9QGZmZmZmXX9AZmZmZuZsgECamZmZGSuBQM3MzMxM6YFAAAAAAICngkAzMzMzs2WDQGZmZmbmI4RAmpmZmRnihEDNzMzMTKCFQAAAAACAXoZAMzMzM7Mch0BmZmZm5tqHQJqZmZkZmYhAzczMzExXiUAAAAAAgBWKQDMzMzOz04pAZmZmZuaRi0CamZmZGVCMQM3MzMxMDo1AAAAAAIDMjUAzMzMzs4qOQGZmZmbmSI9A\",\"dtype\":\"float64\",\"shape\":[75]}},\"selected\":{\"id\":\"aafb957d-8344-4e7d-a672-6106e4e71bec\",\"type\":\"Selection\"},\"selection_policy\":{\"id\":\"d5af7fef-3cce-438e-ba6a-1facb7971b66\",\"type\":\"UnionRenderers\"}},\"id\":\"522b07b3-8ab0-4c49-897d-75b754108ee4\",\"type\":\"ColumnDataSource\"},{\"attributes\":{\"callback\":null,\"data\":{\"x\":{\"__ndarray__\":\"0CYBcvU5UkCik9zf2GVBQF1VoNfLZ0BAVLxhiVXTPUDD1Wu1wJM6QFJyB025jjdAU6Aw5+b/NECYe1uuDfgyQB6bYtVTbTFAPxYSAF1HMEA00pYVm9QuQLolHbMzgC1AntlwirGsLECv+G9SjE4rQJH6ZLBp0ShAsLZQyPd/JkDyjgyf2PwkQLgyNGsrJyRAA13QbJD6I0C8hy0ilI4kQOVTXCEgcSZAovOGvZSGJUBVc/ZmUOIgQOf/6GHAyRlAcE8fAOBSFEDRur1U//gPQGFD9ZbokghAQsqHuSqSA0C91ci3W0UBQCtRQfvz7/4/kh8pntyB+j9t1/n+4TX1P773MAUjFfI/RgzR+CI28T8hBW8WHK7uPzVKjJfU8uk/0FPt4/z65T/wVYqzMPDhPz7K9C5CXuE/8+hSn9hY4T/9PPCkR6rhP1XsIC599OA/66X1nBCX3z/YbRM56QjcPz4dkSQc/dM/S7Wb8Fq00T+/yQdmX0vcP7TrGf476eM/WqNPJoWO7D9qOH1bcwDzP2bw+R5DQ/Y/RLSuQOQp+D8+aif8yAz5P0Wv6eBKRfk/0i2+IN4R+T/ik8QNFZr4PyS5UD5j/Pc/yJ68zXRG9z/2CHPL54H2P59SOhwKtPU/npkP8dfg9D8NlmVcdQz0P80ugRvuOvM/byxiAHN18j9USVZie8nxP5l9lNXYSPE/OB+F0UYP8T8Y7dsUCTHxP3EBgTHPcPE/bfx15p8S8T8FT+xkGtTuP6mdG7rkxuk/pboqTkHX5D/CrN8qGYngP7R4ZaL+htU/\",\"dtype\":\"float64\",\"shape\":[75]},\"y\":{\"__ndarray__\":\"GhExyth1ND/Sv8nbtpRIP2vylNV0PVE/aTum7souWD/At0SJ8fVgPw3Iuahxymc/MSNhhJWvcD/bTfBN02d3P2zb5nxnaoA/CD5h5MAGhz8NmeH1TyaQP+zrCsc9p5Y/LbKd76fGnz/bLW5ISEmmPww9YvTcQq8/JV2OstnstT8Er5Y7M8G+P0c+r3jqkcU/5h99k6ZBzj88bCIzFzjVP4enV8oyxN0//yH99nXg5D8qOpLLf0jtP5kqGJXUifQ/c9cS8kHP/D+/DpwzojQEQIEmwoanVwxA4lgXt9HgE0BSSZ2AJuIbQAMJih9jjiNA5q4l5INuK0AwTKYKRj0zQNv5fmq8/DpAaCJseHrtQkB/+zpwzoxKQM3MzMzMeFJAZmZmZmZqWEAAAAAAAFxeQM3MzMzMJmJAmpmZmZkfZUBmZmZmZhhoQDMzMzMzEWtAAAAAAAAKbkBmZmZmZoFwQM3MzMzM/XFAMzMzMzN6c0CamZmZmfZ0QAAAAAAAc3ZAZmZmZmbvd0DNzMzMzGt5QDMzMzMz6HpAmpmZmZlkfEAAAAAAAOF9QGZmZmZmXX9AZmZmZuZsgECamZmZGSuBQM3MzMxM6YFAAAAAAICngkAzMzMzs2WDQGZmZmbmI4RAmpmZmRnihEDNzMzMTKCFQAAAAACAXoZAMzMzM7Mch0BmZmZm5tqHQJqZmZkZmYhAzczMzExXiUAAAAAAgBWKQDMzMzOz04pAZmZmZuaRi0CamZmZGVCMQM3MzMxMDo1AAAAAAIDMjUAzMzMzs4qOQGZmZmbmSI9A\",\"dtype\":\"float64\",\"shape\":[75]}},\"selected\":{\"id\":\"b89f8c08-5eb9-4fa7-88ad-84b3dbd21ddc\",\"type\":\"Selection\"},\"selection_policy\":{\"id\":\"2f7a57d0-87a5-4210-a3dd-a05f3a990706\",\"type\":\"UnionRenderers\"}},\"id\":\"151776b8-c6d6-4f82-a582-dc4dfd9f7aa5\",\"type\":\"ColumnDataSource\"},{\"attributes\":{\"above\":[{\"id\":\"075f64f9-0c57-4bf8-9522-190eee09f66c\",\"type\":\"Legend\"}],\"below\":[{\"id\":\"559b2f09-c4c4-41ff-8fa3-87de225e6a41\",\"type\":\"LinearAxis\"}],\"left\":[{\"id\":\"6e808329-bfd1-4e09-bd0b-351ad1c9b3de\",\"type\":\"LogAxis\"}],\"plot_width\":300,\"renderers\":[{\"id\":\"559b2f09-c4c4-41ff-8fa3-87de225e6a41\",\"type\":\"LinearAxis\"},{\"id\":\"cc6ade26-adac-41fb-8c53-7dab0a75f1ca\",\"type\":\"Grid\"},{\"id\":\"6e808329-bfd1-4e09-bd0b-351ad1c9b3de\",\"type\":\"LogAxis\"},{\"id\":\"3d7fe8c4-0886-48f2-b7cf-baed5b2f0407\",\"type\":\"Grid\"},{\"id\":\"85772173-6680-4ef4-bc9a-8b508b9b155b\",\"type\":\"BoxAnnotation\"},{\"id\":\"88b51ec7-942d-4f9a-a66d-4b84c899341e\",\"type\":\"GlyphRenderer\"},{\"id\":\"7da38c4d-1e70-4e3e-bfb4-dad1653759fb\",\"type\":\"GlyphRenderer\"},{\"id\":\"075f64f9-0c57-4bf8-9522-190eee09f66c\",\"type\":\"Legend\"}],\"title\":{\"id\":\"5b4f287f-da02-458d-9055-4c2ba7a5eba7\",\"type\":\"Title\"},\"toolbar\":{\"id\":\"1b469adb-65d3-47dc-9780-0805ebacb7e6\",\"type\":\"Toolbar\"},\"toolbar_location\":null,\"x_range\":{\"id\":\"365fd72c-c521-4935-8ec6-5a9fbb4a5383\",\"type\":\"Range1d\"},\"x_scale\":{\"id\":\"b38c8692-a42d-4672-aa9a-01c5d7f7deac\",\"type\":\"LinearScale\"},\"y_range\":{\"id\":\"197e9224-55dd-4528-8059-4c8372c4f1d5\",\"type\":\"Range1d\"},\"y_scale\":{\"id\":\"e2a1fd18-6d82-43f1-9228-83c11816c5a1\",\"type\":\"LogScale\"}},\"id\":\"7a3d02e0-3a45-446d-ab76-2ef51351dedc\",\"subtype\":\"Figure\",\"type\":\"Plot\"},{\"attributes\":{},\"id\":\"8477db75-9e10-463b-a39f-78ffc1d80936\",\"type\":\"BasicTicker\"},{\"attributes\":{\"callback\":null,\"data\":{\"x\":{\"__ndarray__\":\"dPEGK8OVQEDeoOdcKI48QFbHwpv6Wj5Ay6P+H0H1PkDQ4Pw1Pwc+QE/QQMz8iTtA2A4AykzZN0DdjedX4NEzQGtNrhl/gDBA2D3w2wNCLUCD8yO1LFEsQMSh3yrZ2SxAddHY/lW3LUCQJQyh8TwtQDsZ7GODoSpAi6Dn/2tIJ0DnDLMq6HUkQI7khOlE0SJADOiE4G6jIkCA/E90r7ojQD4p//OgKSZA0QfX6dGqJUCyytltEichQGghgfXIYRlAYiDp91xnE0B2wNHWtrQPQJ4m9qB2vgpAeJDQ8VfQBUDZ0VLI7iYCQFfZT3TydP8/LweR0IUK/T/QULeHxNj4P2vv6z6eL/Q/zgHEDC0f8T/QFWBxKcbuP44Jru1pXOw/gHqFfZV+5z+OfasQZCrhP6t1AyXK0t0/lna9be4v3T/c2Wqej6reP35gz5e/Ud4/nMqPj0zn3D8LaSXAL2PaPwxLIAIe8tI/ycIIktEE0T/QBmDBekPcP1FO88ASwOM/Iq2sIt+z6z9G6FH1eCvyPxuVEdtBb/U/iGRHMeCT9z8UPT1a/HH4P34cIRzqbvg/BVL+/E89+D8UZw90MO/3Pxe6cKnMffc/gpFKgkbl9j+HrQkEYjP2P3zN2LsygPU/XbOBIde49D8Mb12IkenzP3WIqqFOEvM/areay8ZI8j+L6oiWEKHxPzKOAUHPLvE/uT5D5rAN8T9sYOhno1DxP+7HZ16AqPE/jCnpRRNe8T/L5uQkGIfvP9VKN758h+o/8f1zKreS5T9uCZ6e1UPhP0M/OoB87NY/\",\"dtype\":\"float64\",\"shape\":[75]},\"y\":{\"__ndarray__\":\"GhExyth1ND/Sv8nbtpRIP2vylNV0PVE/aTum7souWD/At0SJ8fVgPw3Iuahxymc/MSNhhJWvcD/bTfBN02d3P2zb5nxnaoA/CD5h5MAGhz8NmeH1TyaQP+zrCsc9p5Y/LbKd76fGnz/bLW5ISEmmPww9YvTcQq8/JV2OstnstT8Er5Y7M8G+P0c+r3jqkcU/5h99k6ZBzj88bCIzFzjVP4enV8oyxN0//yH99nXg5D8qOpLLf0jtP5kqGJXUifQ/c9cS8kHP/D+/DpwzojQEQIEmwoanVwxA4lgXt9HgE0BSSZ2AJuIbQAMJih9jjiNA5q4l5INuK0AwTKYKRj0zQNv5fmq8/DpAaCJseHrtQkB/+zpwzoxKQM3MzMzMeFJAZmZmZmZqWEAAAAAAAFxeQM3MzMzMJmJAmpmZmZkfZUBmZmZmZhhoQDMzMzMzEWtAAAAAAAAKbkBmZmZmZoFwQM3MzMzM/XFAMzMzMzN6c0CamZmZmfZ0QAAAAAAAc3ZAZmZmZmbvd0DNzMzMzGt5QDMzMzMz6HpAmpmZmZlkfEAAAAAAAOF9QGZmZmZmXX9AZmZmZuZsgECamZmZGSuBQM3MzMxM6YFAAAAAAICngkAzMzMzs2WDQGZmZmbmI4RAmpmZmRnihEDNzMzMTKCFQAAAAACAXoZAMzMzM7Mch0BmZmZm5tqHQJqZmZkZmYhAzczMzExXiUAAAAAAgBWKQDMzMzOz04pAZmZmZuaRi0CamZmZGVCMQM3MzMxMDo1AAAAAAIDMjUAzMzMzs4qOQGZmZmbmSI9A\",\"dtype\":\"float64\",\"shape\":[75]}},\"selected\":{\"id\":\"0aa7dc98-7926-4cd4-b529-5dc826f91f18\",\"type\":\"Selection\"},\"selection_policy\":{\"id\":\"30dde7a9-100f-4dac-8b1a-5dbddc93a40a\",\"type\":\"UnionRenderers\"}},\"id\":\"0732ec99-3442-4d16-8dae-8b739a9f1e9e\",\"type\":\"ColumnDataSource\"},{\"attributes\":{\"callback\":null,\"end\":0.9917710995134403,\"start\":-1.6759815666374394},\"id\":\"365fd72c-c521-4935-8ec6-5a9fbb4a5383\",\"type\":\"Range1d\"},{\"attributes\":{\"source\":{\"id\":\"a693f341-d4e1-4925-928a-05687fbf33f0\",\"type\":\"ColumnDataSource\"}},\"id\":\"fd56da41-b2db-401f-b36e-bf0c520ed84d\",\"type\":\"CDSView\"},{\"attributes\":{},\"id\":\"32976639-5efa-49cc-a276-16a990f2a711\",\"type\":\"PanTool\"},{\"attributes\":{\"fill_alpha\":{\"value\":0.1},\"fill_color\":{\"value\":\"#1f77b4\"},\"line_alpha\":{\"value\":0.1},\"line_color\":{\"value\":\"#1f77b4\"},\"x\":{\"field\":\"x\"},\"y\":{\"field\":\"y\"}},\"id\":\"848922d5-06a1-4c90-b34b-daa8aff204ae\",\"type\":\"Circle\"},{\"attributes\":{},\"id\":\"b0a003e1-1a1d-4ce4-b913-70b9020b952a\",\"type\":\"LinearScale\"},{\"attributes\":{},\"id\":\"404a7951-b949-4ca2-9f8e-401c414a8c3e\",\"type\":\"LinearScale\"},{\"attributes\":{\"label\":{\"value\":\"CLIRAD (single-run) - CRD\"},\"renderers\":[{\"id\":\"88b51ec7-942d-4f9a-a66d-4b84c899341e\",\"type\":\"GlyphRenderer\"},{\"id\":\"7da38c4d-1e70-4e3e-bfb4-dad1653759fb\",\"type\":\"GlyphRenderer\"}]},\"id\":\"5882a98e-9e71-47d0-bac8-30bbba5f9b3b\",\"type\":\"LegendItem\"},{\"attributes\":{},\"id\":\"c1c541fa-6021-4dfd-a46a-e09f2cf10585\",\"type\":\"SaveTool\"},{\"attributes\":{\"bottom_units\":\"screen\",\"fill_alpha\":{\"value\":0.5},\"fill_color\":{\"value\":\"lightgrey\"},\"left_units\":\"screen\",\"level\":\"overlay\",\"line_alpha\":{\"value\":1.0},\"line_color\":{\"value\":\"black\"},\"line_dash\":[4,4],\"line_width\":{\"value\":2},\"plot\":null,\"render_mode\":\"css\",\"right_units\":\"screen\",\"top_units\":\"screen\"},\"id\":\"85772173-6680-4ef4-bc9a-8b508b9b155b\",\"type\":\"BoxAnnotation\"},{\"attributes\":{\"source\":{\"id\":\"0732ec99-3442-4d16-8dae-8b739a9f1e9e\",\"type\":\"ColumnDataSource\"}},\"id\":\"7db38502-7208-4c91-ac28-f94474ab7a99\",\"type\":\"CDSView\"},{\"attributes\":{\"data_source\":{\"id\":\"33b0bdc8-62b4-4f97-8726-276777a8c26e\",\"type\":\"ColumnDataSource\"},\"glyph\":{\"id\":\"1c068479-c77e-4bf1-be26-ff9f668f32df\",\"type\":\"Circle\"},\"hover_glyph\":null,\"muted_glyph\":null,\"nonselection_glyph\":{\"id\":\"bc00340a-6b95-4870-9571-d3e0c136bf03\",\"type\":\"Circle\"},\"selection_glyph\":null,\"view\":{\"id\":\"596ccd1b-cc35-4057-a6a8-744bbb492800\",\"type\":\"CDSView\"}},\"id\":\"33b75291-0c19-4ce3-a561-a607d407338e\",\"type\":\"GlyphRenderer\"},{\"attributes\":{},\"id\":\"b89f8c08-5eb9-4fa7-88ad-84b3dbd21ddc\",\"type\":\"Selection\"},{\"attributes\":{\"num_minor_ticks\":10},\"id\":\"73817bb8-e773-43ef-af07-9191dbd64ffc\",\"type\":\"LogTicker\"},{\"attributes\":{},\"id\":\"efa2c0ba-9aea-4465-807b-2e0d06036635\",\"type\":\"BasicTickFormatter\"},{\"attributes\":{},\"id\":\"cb30a915-8a91-47db-a091-0e7f57b4ca25\",\"type\":\"WheelZoomTool\"},{\"attributes\":{\"overlay\":{\"id\":\"85772173-6680-4ef4-bc9a-8b508b9b155b\",\"type\":\"BoxAnnotation\"}},\"id\":\"2bcc40aa-ee82-4762-9385-c6d6b0a2a46b\",\"type\":\"BoxZoomTool\"},{\"attributes\":{\"callback\":null,\"data\":{\"x\":{\"__ndarray__\":\"0CYBcvU5UkCik9zf2GVBQF1VoNfLZ0BAVLxhiVXTPUDD1Wu1wJM6QFJyB025jjdAU6Aw5+b/NECYe1uuDfgyQB6bYtVTbTFAPxYSAF1HMEA00pYVm9QuQLolHbMzgC1AntlwirGsLECv+G9SjE4rQJH6ZLBp0ShAsLZQyPd/JkDyjgyf2PwkQLgyNGsrJyRAA13QbJD6I0C8hy0ilI4kQOVTXCEgcSZAovOGvZSGJUBVc/ZmUOIgQOf/6GHAyRlAcE8fAOBSFEDRur1U//gPQGFD9ZbokghAQsqHuSqSA0C91ci3W0UBQCtRQfvz7/4/kh8pntyB+j9t1/n+4TX1P773MAUjFfI/RgzR+CI28T8hBW8WHK7uPzVKjJfU8uk/0FPt4/z65T/wVYqzMPDhPz7K9C5CXuE/8+hSn9hY4T/9PPCkR6rhP1XsIC599OA/66X1nBCX3z/YbRM56QjcPz4dkSQc/dM/S7Wb8Fq00T+/yQdmX0vcP7TrGf476eM/WqNPJoWO7D9qOH1bcwDzP2bw+R5DQ/Y/RLSuQOQp+D8+aif8yAz5P0Wv6eBKRfk/0i2+IN4R+T/ik8QNFZr4PyS5UD5j/Pc/yJ68zXRG9z/2CHPL54H2P59SOhwKtPU/npkP8dfg9D8NlmVcdQz0P80ugRvuOvM/byxiAHN18j9USVZie8nxP5l9lNXYSPE/OB+F0UYP8T8Y7dsUCTHxP3EBgTHPcPE/bfx15p8S8T8FT+xkGtTuP6mdG7rkxuk/pboqTkHX5D/CrN8qGYngP7R4ZaL+htU/\",\"dtype\":\"float64\",\"shape\":[75]},\"y\":{\"__ndarray__\":\"GhExyth1ND/Sv8nbtpRIP2vylNV0PVE/aTum7souWD/At0SJ8fVgPw3Iuahxymc/MSNhhJWvcD/bTfBN02d3P2zb5nxnaoA/CD5h5MAGhz8NmeH1TyaQP+zrCsc9p5Y/LbKd76fGnz/bLW5ISEmmPww9YvTcQq8/JV2OstnstT8Er5Y7M8G+P0c+r3jqkcU/5h99k6ZBzj88bCIzFzjVP4enV8oyxN0//yH99nXg5D8qOpLLf0jtP5kqGJXUifQ/c9cS8kHP/D+/DpwzojQEQIEmwoanVwxA4lgXt9HgE0BSSZ2AJuIbQAMJih9jjiNA5q4l5INuK0AwTKYKRj0zQNv5fmq8/DpAaCJseHrtQkB/+zpwzoxKQM3MzMzMeFJAZmZmZmZqWEAAAAAAAFxeQM3MzMzMJmJAmpmZmZkfZUBmZmZmZhhoQDMzMzMzEWtAAAAAAAAKbkBmZmZmZoFwQM3MzMzM/XFAMzMzMzN6c0CamZmZmfZ0QAAAAAAAc3ZAZmZmZmbvd0DNzMzMzGt5QDMzMzMz6HpAmpmZmZlkfEAAAAAAAOF9QGZmZmZmXX9AZmZmZuZsgECamZmZGSuBQM3MzMxM6YFAAAAAAICngkAzMzMzs2WDQGZmZmbmI4RAmpmZmRnihEDNzMzMTKCFQAAAAACAXoZAMzMzM7Mch0BmZmZm5tqHQJqZmZkZmYhAzczMzExXiUAAAAAAgBWKQDMzMzOz04pAZmZmZuaRi0CamZmZGVCMQM3MzMxMDo1AAAAAAIDMjUAzMzMzs4qOQGZmZmbmSI9A\",\"dtype\":\"float64\",\"shape\":[75]}},\"selected\":{\"id\":\"7a30c2e6-f70e-4d46-b650-fee6fbfe5ffa\",\"type\":\"Selection\"},\"selection_policy\":{\"id\":\"14c260c2-3020-4a78-8418-dfa4dbdc8c01\",\"type\":\"UnionRenderers\"}},\"id\":\"f6afb434-b0f4-45a2-a878-09a9e1362b0e\",\"type\":\"ColumnDataSource\"},{\"attributes\":{},\"id\":\"036991d6-4a02-48c4-b087-09eb367473e1\",\"type\":\"PanTool\"},{\"attributes\":{},\"id\":\"9c23c6e2-ba41-405e-ad14-e4a402d40ae8\",\"type\":\"SaveTool\"},{\"attributes\":{\"fill_alpha\":{\"value\":0.1},\"fill_color\":{\"value\":\"#1f77b4\"},\"line_alpha\":{\"value\":0.1},\"line_color\":{\"value\":\"#1f77b4\"},\"x\":{\"field\":\"x\"},\"y\":{\"field\":\"y\"}},\"id\":\"bc00340a-6b95-4870-9571-d3e0c136bf03\",\"type\":\"Circle\"},{\"attributes\":{\"callback\":null,\"data\":{\"x\":{\"__ndarray__\":\"0CYBcvU5UkCik9zf2GVBQF1VoNfLZ0BAVLxhiVXTPUDD1Wu1wJM6QFJyB025jjdAU6Aw5+b/NECYe1uuDfgyQB6bYtVTbTFAPxYSAF1HMEA00pYVm9QuQLolHbMzgC1AntlwirGsLECv+G9SjE4rQJH6ZLBp0ShAsLZQyPd/JkDyjgyf2PwkQLgyNGsrJyRAA13QbJD6I0C8hy0ilI4kQOVTXCEgcSZAovOGvZSGJUBVc/ZmUOIgQOf/6GHAyRlAcE8fAOBSFEDRur1U//gPQGFD9ZbokghAQsqHuSqSA0C91ci3W0UBQCtRQfvz7/4/kh8pntyB+j9t1/n+4TX1P773MAUjFfI/RgzR+CI28T8hBW8WHK7uPzVKjJfU8uk/0FPt4/z65T/wVYqzMPDhPz7K9C5CXuE/8+hSn9hY4T/9PPCkR6rhP1XsIC599OA/66X1nBCX3z/YbRM56QjcPz4dkSQc/dM/S7Wb8Fq00T+/yQdmX0vcP7TrGf476eM/WqNPJoWO7D9qOH1bcwDzP2bw+R5DQ/Y/RLSuQOQp+D8+aif8yAz5P0Wv6eBKRfk/0i2+IN4R+T/ik8QNFZr4PyS5UD5j/Pc/yJ68zXRG9z/2CHPL54H2P59SOhwKtPU/npkP8dfg9D8NlmVcdQz0P80ugRvuOvM/byxiAHN18j9USVZie8nxP5l9lNXYSPE/OB+F0UYP8T8Y7dsUCTHxP3EBgTHPcPE/bfx15p8S8T8FT+xkGtTuP6mdG7rkxuk/pboqTkHX5D/CrN8qGYngP7R4ZaL+htU/\",\"dtype\":\"float64\",\"shape\":[75]},\"y\":{\"__ndarray__\":\"GhExyth1ND/Sv8nbtpRIP2vylNV0PVE/aTum7souWD/At0SJ8fVgPw3Iuahxymc/MSNhhJWvcD/bTfBN02d3P2zb5nxnaoA/CD5h5MAGhz8NmeH1TyaQP+zrCsc9p5Y/LbKd76fGnz/bLW5ISEmmPww9YvTcQq8/JV2OstnstT8Er5Y7M8G+P0c+r3jqkcU/5h99k6ZBzj88bCIzFzjVP4enV8oyxN0//yH99nXg5D8qOpLLf0jtP5kqGJXUifQ/c9cS8kHP/D+/DpwzojQEQIEmwoanVwxA4lgXt9HgE0BSSZ2AJuIbQAMJih9jjiNA5q4l5INuK0AwTKYKRj0zQNv5fmq8/DpAaCJseHrtQkB/+zpwzoxKQM3MzMzMeFJAZmZmZmZqWEAAAAAAAFxeQM3MzMzMJmJAmpmZmZkfZUBmZmZmZhhoQDMzMzMzEWtAAAAAAAAKbkBmZmZmZoFwQM3MzMzM/XFAMzMzMzN6c0CamZmZmfZ0QAAAAAAAc3ZAZmZmZmbvd0DNzMzMzGt5QDMzMzMz6HpAmpmZmZlkfEAAAAAAAOF9QGZmZmZmXX9AZmZmZuZsgECamZmZGSuBQM3MzMxM6YFAAAAAAICngkAzMzMzs2WDQGZmZmbmI4RAmpmZmRnihEDNzMzMTKCFQAAAAACAXoZAMzMzM7Mch0BmZmZm5tqHQJqZmZkZmYhAzczMzExXiUAAAAAAgBWKQDMzMzOz04pAZmZmZuaRi0CamZmZGVCMQM3MzMxMDo1AAAAAAIDMjUAzMzMzs4qOQGZmZmbmSI9A\",\"dtype\":\"float64\",\"shape\":[75]}},\"selected\":{\"id\":\"4e6aa5c4-f05d-4a67-b24c-bf8342efbc67\",\"type\":\"Selection\"},\"selection_policy\":{\"id\":\"66c9be48-ba36-429b-bd8d-b37029f226c6\",\"type\":\"UnionRenderers\"}},\"id\":\"33b0bdc8-62b4-4f97-8726-276777a8c26e\",\"type\":\"ColumnDataSource\"},{\"attributes\":{\"line_alpha\":0.8,\"line_color\":\"#984ea3\",\"line_width\":1.5,\"x\":{\"field\":\"x\"},\"y\":{\"field\":\"y\"}},\"id\":\"939b5f2e-ed8e-41c9-9d9d-8d65e1495612\",\"type\":\"Line\"},{\"attributes\":{},\"id\":\"ba5bf1c7-e57b-4044-a0d0-147b8e352e2c\",\"type\":\"HelpTool\"},{\"attributes\":{},\"id\":\"df520eea-e457-41d6-a057-40b5db34bb5b\",\"type\":\"ResetTool\"},{\"attributes\":{\"data_source\":{\"id\":\"f6afb434-b0f4-45a2-a878-09a9e1362b0e\",\"type\":\"ColumnDataSource\"},\"glyph\":{\"id\":\"c672788b-e234-4526-9e2f-1c1b674c910b\",\"type\":\"Line\"},\"hover_glyph\":null,\"muted_glyph\":null,\"nonselection_glyph\":{\"id\":\"ec500f39-69a1-478a-a337-1c68e76b8a2e\",\"type\":\"Line\"},\"selection_glyph\":null,\"view\":{\"id\":\"d38f5612-2a5c-4ed0-af91-ef40906c1973\",\"type\":\"CDSView\"}},\"id\":\"06db33e4-db94-4a91-95d8-2053aaade3ab\",\"type\":\"GlyphRenderer\"},{\"attributes\":{\"data_source\":{\"id\":\"0732ec99-3442-4d16-8dae-8b739a9f1e9e\",\"type\":\"ColumnDataSource\"},\"glyph\":{\"id\":\"063e2a18-ac43-487a-b7a1-ae48356a0d41\",\"type\":\"Line\"},\"hover_glyph\":null,\"muted_glyph\":null,\"nonselection_glyph\":{\"id\":\"78dfdcfa-fef3-4f21-bf89-66d55f99d0c4\",\"type\":\"Line\"},\"selection_glyph\":null,\"view\":{\"id\":\"7db38502-7208-4c91-ac28-f94474ab7a99\",\"type\":\"CDSView\"}},\"id\":\"edfee54a-99e1-4337-936c-d566a69e4953\",\"type\":\"GlyphRenderer\"},{\"attributes\":{\"plot\":null,\"text\":\"\"},\"id\":\"ac0c6891-a6f3-492e-bab4-d0ad3f3fbad9\",\"type\":\"Title\"},{\"attributes\":{\"line_color\":\"#4daf4a\",\"line_width\":1.5,\"x\":{\"field\":\"x\"},\"y\":{\"field\":\"y\"}},\"id\":\"c672788b-e234-4526-9e2f-1c1b674c910b\",\"type\":\"Line\"},{\"attributes\":{},\"id\":\"61cb48d6-310e-48d2-9904-8652f0c7e70c\",\"type\":\"ResetTool\"},{\"attributes\":{\"callback\":null,\"data\":{\"x\":{\"__ndarray__\":\"LVz7uCfeQ8ChGUaLJfYYwCMb75vopAPAb3fOabke8j9lWIgE9JsLQOXvyvkb2g9APnR7Fi/LBkCmSIIxVTrrPyu2iXaXmu2/L3WfIbFl+r+C9ZYDcxv0v8J+sAdRy9S/UH1/Rkeq4D8IzsLpVObuP4jqcTibAe0/eTvd8oYO2T+OQTCLDt7Qv5ji9BpoXuW/V0+3xBhy5b94Z7G7lXzav/6pSlfL38G/zBgKKJYesj/I1tW4gTDBP4Gg9xnb/bm/6OHFBmFwzb/Jlv56HxKhv/EZB1BwXNE/tDFGwmnx0T+dgz8RYjK8P0oF0SHPn6A/1zw/k0lFxD8Gy+tFFBfNP2i9183Z08A/N3gKDez1dr+ErhDxWg1oP7z6DbGqTLM/FGuCmYk5qD8ZDNtblLmYvzx7mOPoprO/Rm2hQwsHtr9zgNat/qeyv3TBkyPWuay/lNouayB+pb/vTOCOl1uavx4jDSfir5C/H1Be0ivxhb9YuwufkpI/v2KxTpOelHS/zMZedMBUm7+XBGrFTJ+qv1BpC30ogKq/qPfp7IHAor8ApUU9lFmjv/JYEpkYzKq/kHn7d8SRqr/cmaU2k1ylvxjD/zelpZ+/nlGD3JJLmL/E21bacaGTv/6RwjCw64m/2h/zxmcAhL/NgBME6nGBv9orU+u8T4S/oIG6YxpWhr8lZK/mZTWEv+Zn75KUCXq/gNkHHrReOb9kVHMMU5p/P9Y9Y3OW2Is/nkfL3Nfckj+u+BL/t1+WP0aldYMAE5g/U2koibtulz9Klct3jleXPw5pTN3dV5Y/\",\"dtype\":\"float64\",\"shape\":[75]},\"y\":{\"__ndarray__\":\"GhExyth1ND/Sv8nbtpRIP2vylNV0PVE/aTum7souWD/At0SJ8fVgPw3Iuahxymc/MSNhhJWvcD/bTfBN02d3P2zb5nxnaoA/CD5h5MAGhz8NmeH1TyaQP+zrCsc9p5Y/LbKd76fGnz/bLW5ISEmmPww9YvTcQq8/JV2OstnstT8Er5Y7M8G+P0c+r3jqkcU/5h99k6ZBzj88bCIzFzjVP4enV8oyxN0//yH99nXg5D8qOpLLf0jtP5kqGJXUifQ/c9cS8kHP/D+/DpwzojQEQIEmwoanVwxA4lgXt9HgE0BSSZ2AJuIbQAMJih9jjiNA5q4l5INuK0AwTKYKRj0zQNv5fmq8/DpAaCJseHrtQkB/+zpwzoxKQM3MzMzMeFJAZmZmZmZqWEAAAAAAAFxeQM3MzMzMJmJAmpmZmZkfZUBmZmZmZhhoQDMzMzMzEWtAAAAAAAAKbkBmZmZmZoFwQM3MzMzM/XFAMzMzMzN6c0CamZmZmfZ0QAAAAAAAc3ZAZmZmZmbvd0DNzMzMzGt5QDMzMzMz6HpAmpmZmZlkfEAAAAAAAOF9QGZmZmZmXX9AZmZmZuZsgECamZmZGSuBQM3MzMxM6YFAAAAAAICngkAzMzMzs2WDQGZmZmbmI4RAmpmZmRnihEDNzMzMTKCFQAAAAACAXoZAMzMzM7Mch0BmZmZm5tqHQJqZmZkZmYhAzczMzExXiUAAAAAAgBWKQDMzMzOz04pAZmZmZuaRi0CamZmZGVCMQM3MzMxMDo1AAAAAAIDMjUAzMzMzs4qOQGZmZmbmSI9A\",\"dtype\":\"float64\",\"shape\":[75]}},\"selected\":{\"id\":\"e7f22bfd-42db-4c10-9717-93558b9e2ab3\",\"type\":\"Selection\"},\"selection_policy\":{\"id\":\"f95c88d1-f1f7-4eb4-811c-610fd849d723\",\"type\":\"UnionRenderers\"}},\"id\":\"1724e7c3-f405-45f6-8109-3d6c878604dc\",\"type\":\"ColumnDataSource\"},{\"attributes\":{\"dimension\":1,\"plot\":{\"id\":\"5872c88f-417c-41d8-a3a5-9014a0fca831\",\"subtype\":\"Figure\",\"type\":\"Plot\"},\"ticker\":{\"id\":\"73817bb8-e773-43ef-af07-9191dbd64ffc\",\"type\":\"LogTicker\"}},\"id\":\"78a18401-256a-4a53-ad20-a41defea522d\",\"type\":\"Grid\"},{\"attributes\":{\"overlay\":{\"id\":\"23580950-0656-4f8c-8223-80fa77d5b695\",\"type\":\"BoxAnnotation\"}},\"id\":\"47b281c4-b273-45f1-9f26-dd07d841a5b6\",\"type\":\"BoxZoomTool\"},{\"attributes\":{},\"id\":\"acf1e501-a1a4-4bd3-9d91-09c33b108b00\",\"type\":\"UnionRenderers\"},{\"attributes\":{},\"id\":\"7e03768b-b460-42c8-935f-dd2645aca2ee\",\"type\":\"WheelZoomTool\"},{\"attributes\":{\"source\":{\"id\":\"f6afb434-b0f4-45a2-a878-09a9e1362b0e\",\"type\":\"ColumnDataSource\"}},\"id\":\"d38f5612-2a5c-4ed0-af91-ef40906c1973\",\"type\":\"CDSView\"},{\"attributes\":{},\"id\":\"2f7a57d0-87a5-4210-a3dd-a05f3a990706\",\"type\":\"UnionRenderers\"},{\"attributes\":{\"line_alpha\":0.1,\"line_color\":\"#1f77b4\",\"line_width\":1.5,\"x\":{\"field\":\"x\"},\"y\":{\"field\":\"y\"}},\"id\":\"ec500f39-69a1-478a-a337-1c68e76b8a2e\",\"type\":\"Line\"},{\"attributes\":{},\"id\":\"7c1f6de0-52ef-46b2-8ec9-ab58f5445b44\",\"type\":\"Selection\"},{\"attributes\":{},\"id\":\"d8fdc432-d577-4db7-99d2-a10b6fe77435\",\"type\":\"LogScale\"},{\"attributes\":{\"plot\":null,\"text\":\"\"},\"id\":\"0e32877f-4301-4805-8f87-2997390b5bb9\",\"type\":\"Title\"},{\"attributes\":{\"source\":{\"id\":\"33b0bdc8-62b4-4f97-8726-276777a8c26e\",\"type\":\"ColumnDataSource\"}},\"id\":\"596ccd1b-cc35-4057-a6a8-744bbb492800\",\"type\":\"CDSView\"},{\"attributes\":{\"bottom_units\":\"screen\",\"fill_alpha\":{\"value\":0.5},\"fill_color\":{\"value\":\"lightgrey\"},\"left_units\":\"screen\",\"level\":\"overlay\",\"line_alpha\":{\"value\":1.0},\"line_color\":{\"value\":\"black\"},\"line_dash\":[4,4],\"line_width\":{\"value\":2},\"plot\":null,\"render_mode\":\"css\",\"right_units\":\"screen\",\"top_units\":\"screen\"},\"id\":\"23580950-0656-4f8c-8223-80fa77d5b695\",\"type\":\"BoxAnnotation\"},{\"attributes\":{},\"id\":\"43a7007a-c755-4ad8-9c6c-0a6174f1e41e\",\"type\":\"Selection\"},{\"attributes\":{\"line_alpha\":0.1,\"line_color\":\"#1f77b4\",\"line_width\":1.5,\"x\":{\"field\":\"x\"},\"y\":{\"field\":\"y\"}},\"id\":\"bb857b05-5e92-4c81-93cb-1f6e17c0fa34\",\"type\":\"Line\"},{\"attributes\":{\"plot\":{\"id\":\"5872c88f-417c-41d8-a3a5-9014a0fca831\",\"subtype\":\"Figure\",\"type\":\"Plot\"},\"ticker\":{\"id\":\"bc25cb22-dab5-4f50-b37a-0c75109efe22\",\"type\":\"BasicTicker\"}},\"id\":\"dfac037e-2c3b-4d76-a35a-669c5afd4e0d\",\"type\":\"Grid\"},{\"attributes\":{},\"id\":\"66c9be48-ba36-429b-bd8d-b37029f226c6\",\"type\":\"UnionRenderers\"},{\"attributes\":{},\"id\":\"0768182a-0985-4d20-908c-86e18f08954c\",\"type\":\"BasicTickFormatter\"},{\"attributes\":{\"callback\":null,\"end\":16.436989944828248,\"start\":0.29782337493475003},\"id\":\"dd560393-4581-48d1-8b39-ac3a9108f99f\",\"type\":\"Range1d\"},{\"attributes\":{\"data_source\":{\"id\":\"522b07b3-8ab0-4c49-897d-75b754108ee4\",\"type\":\"ColumnDataSource\"},\"glyph\":{\"id\":\"a7868af5-673e-4353-89b5-08842ecaeac2\",\"type\":\"Circle\"},\"hover_glyph\":null,\"muted_glyph\":null,\"nonselection_glyph\":{\"id\":\"848922d5-06a1-4c90-b34b-daa8aff204ae\",\"type\":\"Circle\"},\"selection_glyph\":null,\"view\":{\"id\":\"5345b109-7e4e-4d22-9015-e77124fcb7b5\",\"type\":\"CDSView\"}},\"id\":\"88b51ec7-942d-4f9a-a66d-4b84c899341e\",\"type\":\"GlyphRenderer\"},{\"attributes\":{\"active_drag\":\"auto\",\"active_inspect\":\"auto\",\"active_scroll\":\"auto\",\"active_tap\":\"auto\",\"tools\":[{\"id\":\"e28c4ae8-51a8-4882-8c1c-656f47ffcb14\",\"type\":\"PanTool\"},{\"id\":\"e68fdbcf-ae6d-47a1-8b56-0b3dfa1d495b\",\"type\":\"WheelZoomTool\"},{\"id\":\"407f0bd1-3928-4f23-ac00-6498413ade0c\",\"type\":\"BoxZoomTool\"},{\"id\":\"723a682b-21fd-4ed7-80dd-4b4f5fd87f51\",\"type\":\"SaveTool\"},{\"id\":\"d6a176f0-123f-440c-9af7-f332a1062cd9\",\"type\":\"ResetTool\"},{\"id\":\"d7ae1ea4-2699-4e77-a7e0-33b50419723d\",\"type\":\"HelpTool\"}]},\"id\":\"9690e542-e484-406e-8565-aa100d0d12cc\",\"type\":\"Toolbar\"},{\"attributes\":{},\"id\":\"0aa7dc98-7926-4cd4-b529-5dc826f91f18\",\"type\":\"Selection\"},{\"attributes\":{\"items\":[{\"id\":\"97bd9eca-065a-4710-a250-46eb7f43431b\",\"type\":\"LegendItem\"},{\"id\":\"10274354-619f-4b82-bce9-20db457178c0\",\"type\":\"LegendItem\"}],\"label_text_font_size\":{\"value\":\"8pt\"},\"location\":\"top_center\",\"orientation\":\"horizontal\",\"plot\":{\"id\":\"5872c88f-417c-41d8-a3a5-9014a0fca831\",\"subtype\":\"Figure\",\"type\":\"Plot\"}},\"id\":\"ce341f59-3655-4f69-8c72-6ef53d2a4f83\",\"type\":\"Legend\"},{\"attributes\":{\"children\":[{\"id\":\"5ab042e1-24e7-42e5-bb65-2e2697e97a73\",\"type\":\"Row\"}]},\"id\":\"58321c0b-74c1-4aeb-84b0-02b7345976fa\",\"type\":\"Column\"},{\"attributes\":{\"label\":{\"value\":\"CRD\"},\"renderers\":[{\"id\":\"8c415202-c725-449c-8869-cae2d1cf75cf\",\"type\":\"GlyphRenderer\"},{\"id\":\"a12ae874-5332-4850-bcc0-c00e3be4a8b2\",\"type\":\"GlyphRenderer\"}]},\"id\":\"62202669-3c9e-44e0-b917-5524bb584a7f\",\"type\":\"LegendItem\"},{\"attributes\":{\"label\":{\"value\":\"CLIRAD (single-run)\"},\"renderers\":[{\"id\":\"edfee54a-99e1-4337-936c-d566a69e4953\",\"type\":\"GlyphRenderer\"}]},\"id\":\"97bd9eca-065a-4710-a250-46eb7f43431b\",\"type\":\"LegendItem\"},{\"attributes\":{\"axis_label\":\"pressure [mb]\",\"formatter\":{\"id\":\"a99ddf2e-114e-411e-ba3f-f53ba971a378\",\"type\":\"LogTickFormatter\"},\"plot\":{\"id\":\"5872c88f-417c-41d8-a3a5-9014a0fca831\",\"subtype\":\"Figure\",\"type\":\"Plot\"},\"ticker\":{\"id\":\"73817bb8-e773-43ef-af07-9191dbd64ffc\",\"type\":\"LogTicker\"}},\"id\":\"37ed49da-e0bb-40d9-9c9f-09fab96652dc\",\"type\":\"LogAxis\"},{\"attributes\":{\"fill_alpha\":{\"value\":0.7},\"fill_color\":{\"value\":\"#4daf4a\"},\"line_alpha\":{\"value\":0.7},\"line_color\":{\"value\":\"#4daf4a\"},\"x\":{\"field\":\"x\"},\"y\":{\"field\":\"y\"}},\"id\":\"1c068479-c77e-4bf1-be26-ff9f668f32df\",\"type\":\"Circle\"},{\"attributes\":{\"source\":{\"id\":\"1724e7c3-f405-45f6-8109-3d6c878604dc\",\"type\":\"ColumnDataSource\"}},\"id\":\"774be62d-08b7-4a4e-bc06-99a5f108edb9\",\"type\":\"CDSView\"},{\"attributes\":{\"fill_alpha\":{\"value\":0.7},\"fill_color\":{\"value\":\"#984ea3\"},\"line_alpha\":{\"value\":0.7},\"line_color\":{\"value\":\"#984ea3\"},\"x\":{\"field\":\"x\"},\"y\":{\"field\":\"y\"}},\"id\":\"a7868af5-673e-4353-89b5-08842ecaeac2\",\"type\":\"Circle\"},{\"attributes\":{},\"id\":\"f02ea710-49ed-40a7-9a27-2c3f7d0c5b9d\",\"type\":\"HelpTool\"},{\"attributes\":{},\"id\":\"bc25cb22-dab5-4f50-b37a-0c75109efe22\",\"type\":\"BasicTicker\"},{\"attributes\":{\"data_source\":{\"id\":\"643d15c2-69b1-42cc-aaa7-012eda1a6d0d\",\"type\":\"ColumnDataSource\"},\"glyph\":{\"id\":\"8a52c131-b137-409d-a38a-f31e9529f324\",\"type\":\"Line\"},\"hover_glyph\":null,\"muted_glyph\":null,\"nonselection_glyph\":{\"id\":\"5cfbb067-7831-464c-b2d0-4f4e5b7ec87a\",\"type\":\"Line\"},\"selection_glyph\":null,\"view\":{\"id\":\"87e0e779-9e34-4ce3-adda-dfe044a54799\",\"type\":\"CDSView\"}},\"id\":\"3acba571-a609-4213-a510-759b3c044524\",\"type\":\"GlyphRenderer\"},{\"attributes\":{\"label\":{\"value\":\"CRD\"},\"renderers\":[{\"id\":\"33b75291-0c19-4ce3-a561-a607d407338e\",\"type\":\"GlyphRenderer\"},{\"id\":\"06db33e4-db94-4a91-95d8-2053aaade3ab\",\"type\":\"GlyphRenderer\"}]},\"id\":\"10274354-619f-4b82-bce9-20db457178c0\",\"type\":\"LegendItem\"},{\"attributes\":{\"num_minor_ticks\":10},\"id\":\"63135b91-83ca-4497-abb7-706f280f97b6\",\"type\":\"LogTicker\"},{\"attributes\":{\"axis_label\":\"cooling rate [K/day]\",\"formatter\":{\"id\":\"0768182a-0985-4d20-908c-86e18f08954c\",\"type\":\"BasicTickFormatter\"},\"plot\":{\"id\":\"5872c88f-417c-41d8-a3a5-9014a0fca831\",\"subtype\":\"Figure\",\"type\":\"Plot\"},\"ticker\":{\"id\":\"bc25cb22-dab5-4f50-b37a-0c75109efe22\",\"type\":\"BasicTicker\"}},\"id\":\"c01f2b3b-35d1-4af4-9220-ae189e27d885\",\"type\":\"LinearAxis\"},{\"attributes\":{\"data_source\":{\"id\":\"1724e7c3-f405-45f6-8109-3d6c878604dc\",\"type\":\"ColumnDataSource\"},\"glyph\":{\"id\":\"939b5f2e-ed8e-41c9-9d9d-8d65e1495612\",\"type\":\"Line\"},\"hover_glyph\":null,\"muted_glyph\":null,\"nonselection_glyph\":{\"id\":\"bb857b05-5e92-4c81-93cb-1f6e17c0fa34\",\"type\":\"Line\"},\"selection_glyph\":null,\"view\":{\"id\":\"774be62d-08b7-4a4e-bc06-99a5f108edb9\",\"type\":\"CDSView\"}},\"id\":\"7da38c4d-1e70-4e3e-bfb4-dad1653759fb\",\"type\":\"GlyphRenderer\"},{\"attributes\":{\"label\":{\"value\":\"CLIRAD (single-run)\"},\"renderers\":[{\"id\":\"3acba571-a609-4213-a510-759b3c044524\",\"type\":\"GlyphRenderer\"}]},\"id\":\"1de466c2-55e8-4f23-bfac-18576ed5948c\",\"type\":\"LegendItem\"},{\"attributes\":{\"children\":[{\"id\":\"7ad413e0-00c2-4001-bf04-ccf7b1e8c72d\",\"subtype\":\"Figure\",\"type\":\"Plot\"},{\"id\":\"5872c88f-417c-41d8-a3a5-9014a0fca831\",\"subtype\":\"Figure\",\"type\":\"Plot\"},{\"id\":\"7a3d02e0-3a45-446d-ab76-2ef51351dedc\",\"subtype\":\"Figure\",\"type\":\"Plot\"}]},\"id\":\"5ab042e1-24e7-42e5-bb65-2e2697e97a73\",\"type\":\"Row\"},{\"attributes\":{\"ticker\":null},\"id\":\"a99ddf2e-114e-411e-ba3f-f53ba971a378\",\"type\":\"LogTickFormatter\"},{\"attributes\":{},\"id\":\"2a18b039-e6b1-4dd9-98de-15d388e44802\",\"type\":\"UnionRenderers\"},{\"attributes\":{},\"id\":\"4e6aa5c4-f05d-4a67-b24c-bf8342efbc67\",\"type\":\"Selection\"}],\"root_ids\":[\"533fc1ff-eb95-4286-8ed1-521343ef06f1\"]},\"title\":\"Bokeh Application\",\"version\":\"0.12.16\"}};\n",
       "  var render_items = [{\"docid\":\"0f6e8e65-b527-45f4-be34-140d4d3b4162\",\"elementid\":\"82fc6ba2-7b84-4dae-8da9-6281c2ace971\",\"modelid\":\"533fc1ff-eb95-4286-8ed1-521343ef06f1\"}];\n",
       "  root.Bokeh.embed.embed_items_notebook(docs_json, render_items);\n",
       "\n",
       "  }\n",
       "  if (root.Bokeh !== undefined) {\n",
       "    embed_document(root);\n",
       "  } else {\n",
       "    var attempts = 0;\n",
       "    var timer = setInterval(function(root) {\n",
       "      if (root.Bokeh !== undefined) {\n",
       "        embed_document(root);\n",
       "        clearInterval(timer);\n",
       "      }\n",
       "      attempts++;\n",
       "      if (attempts > 100) {\n",
       "        console.log(\"Bokeh: ERROR: Unable to run BokehJS code because BokehJS library is missing\")\n",
       "        clearInterval(timer);\n",
       "      }\n",
       "    }, 10, root)\n",
       "  }\n",
       "})(window);"
      ],
      "application/vnd.bokehjs_exec.v0+json": ""
     },
     "metadata": {
      "application/vnd.bokehjs_exec.v0+json": {
       "id": "533fc1ff-eb95-4286-8ed1-521343ef06f1"
      }
     },
     "output_type": "display_data"
    },
    {
     "data": {
      "text/markdown": [
       "*FIGURE.* Cooling rates & difference."
      ],
      "text/plain": [
       "<IPython.core.display.Markdown object>"
      ]
     },
     "metadata": {},
     "output_type": "display_data"
    },
    {
     "data": {
      "text/html": [
       "<a id=\"Fluxes._saw.\"></a>"
      ],
      "text/plain": [
       "<IPython.core.display.HTML object>"
      ]
     },
     "metadata": {},
     "output_type": "display_data"
    },
    {
     "data": {
      "text/markdown": [
       "# Fluxes. saw."
      ],
      "text/plain": [
       "<IPython.core.display.Markdown object>"
      ]
     },
     "metadata": {},
     "output_type": "display_data"
    },
    {
     "data": {
      "text/html": [
       "\n",
       "<div class=\"bk-root\">\n",
       "    <div class=\"bk-plotdiv\" id=\"67593faa-da9b-4f22-9fd2-6a074240fef2\"></div>\n",
       "</div>"
      ]
     },
     "metadata": {},
     "output_type": "display_data"
    },
    {
     "data": {
      "application/javascript": [
       "(function(root) {\n",
       "  function embed_document(root) {\n",
       "    \n",
       "  var docs_json = {\"168beede-71ac-48e2-a4f5-677d1e3cee00\":{\"roots\":{\"references\":[{\"attributes\":{\"source\":{\"id\":\"46347c5b-e742-4e6b-8586-be21a1c3fd62\",\"type\":\"ColumnDataSource\"}},\"id\":\"b404eaf6-145a-4cf6-98b1-11cd22302f34\",\"type\":\"CDSView\"},{\"attributes\":{\"axis_label\":\"flux (W m-2)\",\"formatter\":{\"id\":\"381438ce-a963-40eb-9c44-85a8712c6bc0\",\"type\":\"BasicTickFormatter\"},\"plot\":{\"id\":\"966c9676-c808-4bf6-a4ca-81d57845be0c\",\"subtype\":\"Figure\",\"type\":\"Plot\"},\"ticker\":{\"id\":\"e59b063f-315e-4c5f-8f0a-5d8cd5c96ccf\",\"type\":\"BasicTicker\"}},\"id\":\"63e96562-05a5-41bc-b9cb-5d09e02c11e1\",\"type\":\"LinearAxis\"},{\"attributes\":{},\"id\":\"0c73e0f9-ec82-4045-9646-1e41dd93ab2b\",\"type\":\"HelpTool\"},{\"attributes\":{},\"id\":\"fd9bc945-debd-4844-abc8-066d002e2340\",\"type\":\"LinearScale\"},{\"attributes\":{\"data_source\":{\"id\":\"46347c5b-e742-4e6b-8586-be21a1c3fd62\",\"type\":\"ColumnDataSource\"},\"glyph\":{\"id\":\"da4fe552-0353-4149-8e86-077142130fb4\",\"type\":\"VBar\"},\"hover_glyph\":null,\"muted_glyph\":null,\"nonselection_glyph\":{\"id\":\"0ef7da53-f3a9-4ca7-8347-737f21b3157b\",\"type\":\"VBar\"},\"selection_glyph\":null,\"view\":{\"id\":\"b404eaf6-145a-4cf6-98b1-11cd22302f34\",\"type\":\"CDSView\"}},\"id\":\"2d04fa7a-89b3-4f2d-a4f1-24b9241dae2e\",\"type\":\"GlyphRenderer\"},{\"attributes\":{\"fill_color\":{\"value\":\"#1f77b4\"},\"line_color\":{\"value\":\"#1f77b4\"},\"top\":{\"field\":\"flux\"},\"width\":{\"value\":0.9},\"x\":{\"field\":\"band\"}},\"id\":\"dcf1a3e0-fa9c-40aa-b9d2-54c94d95c9b8\",\"type\":\"VBar\"},{\"attributes\":{\"bottom_units\":\"screen\",\"fill_alpha\":{\"value\":0.5},\"fill_color\":{\"value\":\"lightgrey\"},\"left_units\":\"screen\",\"level\":\"overlay\",\"line_alpha\":{\"value\":1.0},\"line_color\":{\"value\":\"black\"},\"line_dash\":[4,4],\"line_width\":{\"value\":2},\"plot\":null,\"render_mode\":\"css\",\"right_units\":\"screen\",\"top_units\":\"screen\"},\"id\":\"20aba47b-a4c4-4609-a426-d64effa29f43\",\"type\":\"BoxAnnotation\"},{\"attributes\":{\"overlay\":{\"id\":\"30a67c16-b37a-4e6b-810e-c07ca51f2b61\",\"type\":\"BoxAnnotation\"}},\"id\":\"eb7ce8d8-52d7-48be-a410-c75bb15fb386\",\"type\":\"BoxZoomTool\"},{\"attributes\":{\"source\":{\"id\":\"ecf1f34e-d6ac-4daa-893e-9640e99be2b2\",\"type\":\"ColumnDataSource\"}},\"id\":\"dc8e1b7e-26ef-4b96-ae42-9153cbf1cb99\",\"type\":\"CDSView\"},{\"attributes\":{},\"id\":\"abf49bc3-df45-4cbd-b047-45ed81416a3a\",\"type\":\"WheelZoomTool\"},{\"attributes\":{\"fill_alpha\":{\"value\":0.1},\"fill_color\":{\"value\":\"#1f77b4\"},\"line_alpha\":{\"value\":0.1},\"line_color\":{\"value\":\"#1f77b4\"},\"top\":{\"field\":\"flux\"},\"width\":{\"value\":0.9},\"x\":{\"field\":\"band\"}},\"id\":\"9c51d385-7096-4477-8e16-d5ff029c94b2\",\"type\":\"VBar\"},{\"attributes\":{},\"id\":\"4e9b678d-2485-45d4-8630-5c3c6c66d817\",\"type\":\"HelpTool\"},{\"attributes\":{\"fill_alpha\":{\"value\":0.1},\"fill_color\":{\"value\":\"#1f77b4\"},\"line_alpha\":{\"value\":0.1},\"line_color\":{\"value\":\"#1f77b4\"},\"top\":{\"field\":\"flux\"},\"width\":{\"value\":0.9},\"x\":{\"field\":\"band\"}},\"id\":\"0ef7da53-f3a9-4ca7-8347-737f21b3157b\",\"type\":\"VBar\"},{\"attributes\":{\"toolbar\":{\"id\":\"7d6273a8-feb8-4714-ae77-2c1087d26a14\",\"type\":\"ProxyToolbar\"},\"toolbar_location\":\"above\"},\"id\":\"7563e89c-4112-4ffe-96bc-2022a2729bb3\",\"type\":\"ToolbarBox\"},{\"attributes\":{\"fill_color\":{\"value\":\"#1f77b4\"},\"line_color\":{\"value\":\"#1f77b4\"},\"top\":{\"field\":\"flux\"},\"width\":{\"value\":0.9},\"x\":{\"field\":\"band\"}},\"id\":\"684c9575-52de-45ab-bcd0-c25a91b3ede5\",\"type\":\"VBar\"},{\"attributes\":{},\"id\":\"c702e126-d80e-4cea-ba58-549973674579\",\"type\":\"CategoricalTickFormatter\"},{\"attributes\":{\"source\":{\"id\":\"423d7c1c-857e-434f-a892-a99b90416a02\",\"type\":\"ColumnDataSource\"}},\"id\":\"4b773172-7b13-4f09-b2e9-396be2d09d12\",\"type\":\"CDSView\"},{\"attributes\":{},\"id\":\"7c4ada5e-1310-4c67-a32e-ead08a2fee0c\",\"type\":\"ResetTool\"},{\"attributes\":{},\"id\":\"fd4677a3-8937-4f1b-bb3a-a3b0d3921e3c\",\"type\":\"CategoricalScale\"},{\"attributes\":{},\"id\":\"d2d2cbf6-4432-4348-b931-f3e54805bc66\",\"type\":\"WheelZoomTool\"},{\"attributes\":{},\"id\":\"acccc6f4-96ce-4395-bec4-2c30687de127\",\"type\":\"SaveTool\"},{\"attributes\":{\"bottom_units\":\"screen\",\"fill_alpha\":{\"value\":0.5},\"fill_color\":{\"value\":\"lightgrey\"},\"left_units\":\"screen\",\"level\":\"overlay\",\"line_alpha\":{\"value\":1.0},\"line_color\":{\"value\":\"black\"},\"line_dash\":[4,4],\"line_width\":{\"value\":2},\"plot\":null,\"render_mode\":\"css\",\"right_units\":\"screen\",\"top_units\":\"screen\"},\"id\":\"30a67c16-b37a-4e6b-810e-c07ca51f2b61\",\"type\":\"BoxAnnotation\"},{\"attributes\":{},\"id\":\"381438ce-a963-40eb-9c44-85a8712c6bc0\",\"type\":\"BasicTickFormatter\"},{\"attributes\":{\"callback\":null,\"data\":{\"band\":[\"1\",\"2\",\"3\",\"4\",\"5\",\"6\",\"7\",\"8\",\"9\",\"10\",\"11\"],\"flux\":{\"__ndarray__\":\"gGLUtfY+xz8ABgWlaOWyPwDVO9wODbO/gApHkEqx0D8Ans4VpYS4PwDQ+uk/a46/IIOj5NU50j8AHErtRbSNv4BE2safqKA/AGgLdJJSdb+AbxLeeT2TPw==\",\"dtype\":\"float64\",\"shape\":[11]}},\"selected\":{\"id\":\"56bef2ee-84fc-4254-950f-95c48d5865e8\",\"type\":\"Selection\"},\"selection_policy\":{\"id\":\"e9787422-350e-4be9-9fff-e6f7ddc18f0f\",\"type\":\"UnionRenderers\"}},\"id\":\"46347c5b-e742-4e6b-8586-be21a1c3fd62\",\"type\":\"ColumnDataSource\"},{\"attributes\":{},\"id\":\"cfebb3a6-7c6a-4977-a833-26c8dab7fb9c\",\"type\":\"BasicTickFormatter\"},{\"attributes\":{\"fill_alpha\":{\"value\":0.1},\"fill_color\":{\"value\":\"#1f77b4\"},\"line_alpha\":{\"value\":0.1},\"line_color\":{\"value\":\"#1f77b4\"},\"top\":{\"field\":\"flux\"},\"width\":{\"value\":0.9},\"x\":{\"field\":\"band\"}},\"id\":\"d9724b02-285d-4657-9048-4be3b87565f6\",\"type\":\"VBar\"},{\"attributes\":{\"overlay\":{\"id\":\"20aba47b-a4c4-4609-a426-d64effa29f43\",\"type\":\"BoxAnnotation\"}},\"id\":\"66a907ee-ffc9-474c-9255-ee6e595259af\",\"type\":\"BoxZoomTool\"},{\"attributes\":{},\"id\":\"8480f5d7-8de5-4dbb-9a07-20d47d4b2294\",\"type\":\"PanTool\"},{\"attributes\":{\"axis_label\":\"spectral band\",\"formatter\":{\"id\":\"c702e126-d80e-4cea-ba58-549973674579\",\"type\":\"CategoricalTickFormatter\"},\"plot\":{\"id\":\"966c9676-c808-4bf6-a4ca-81d57845be0c\",\"subtype\":\"Figure\",\"type\":\"Plot\"},\"ticker\":{\"id\":\"3baca836-345b-4b58-b77b-43cb57a60e42\",\"type\":\"CategoricalTicker\"}},\"id\":\"89927ba2-6cf2-4306-bdf4-99e222b7dfca\",\"type\":\"CategoricalAxis\"},{\"attributes\":{\"data_source\":{\"id\":\"423d7c1c-857e-434f-a892-a99b90416a02\",\"type\":\"ColumnDataSource\"},\"glyph\":{\"id\":\"684c9575-52de-45ab-bcd0-c25a91b3ede5\",\"type\":\"VBar\"},\"hover_glyph\":null,\"muted_glyph\":null,\"nonselection_glyph\":{\"id\":\"d9724b02-285d-4657-9048-4be3b87565f6\",\"type\":\"VBar\"},\"selection_glyph\":null,\"view\":{\"id\":\"4b773172-7b13-4f09-b2e9-396be2d09d12\",\"type\":\"CDSView\"}},\"id\":\"1ce9f9b7-4fc9-4a11-9dc9-fd4d981bb313\",\"type\":\"GlyphRenderer\"},{\"attributes\":{\"children\":[{\"id\":\"e141ee0e-9d7b-4738-bef9-08331019418e\",\"type\":\"Row\"}]},\"id\":\"8e6b5101-a6ae-4d70-8398-58223f7b15d1\",\"type\":\"Column\"},{\"attributes\":{},\"id\":\"3baca836-345b-4b58-b77b-43cb57a60e42\",\"type\":\"CategoricalTicker\"},{\"attributes\":{\"plot\":{\"id\":\"966c9676-c808-4bf6-a4ca-81d57845be0c\",\"subtype\":\"Figure\",\"type\":\"Plot\"},\"ticker\":{\"id\":\"3baca836-345b-4b58-b77b-43cb57a60e42\",\"type\":\"CategoricalTicker\"}},\"id\":\"f46ef598-3e3b-48a9-a419-ccd27d5d08f8\",\"type\":\"Grid\"},{\"attributes\":{},\"id\":\"d9ff8cea-0f00-452c-9ed2-e36c2c268b02\",\"type\":\"SaveTool\"},{\"attributes\":{},\"id\":\"ce2cd852-e9d0-437c-9036-84e6d441f0c1\",\"type\":\"PanTool\"},{\"attributes\":{\"fill_color\":{\"value\":\"#1f77b4\"},\"line_color\":{\"value\":\"#1f77b4\"},\"top\":{\"field\":\"flux\"},\"width\":{\"value\":0.9},\"x\":{\"field\":\"band\"}},\"id\":\"da4fe552-0353-4149-8e86-077142130fb4\",\"type\":\"VBar\"},{\"attributes\":{\"callback\":null,\"data\":{\"band\":[\"1\",\"2\",\"3\",\"4\",\"5\",\"6\",\"7\",\"8\",\"9\",\"10\",\"11\"],\"flux\":{\"__ndarray__\":\"AEDdJAaBZb8Asg5HV+nAvwA2IEJcueC/AAeY+Q5+tj/A8wOyMnXIPyAWSPVCprm/QFhl8EEZsD/ga9jnGC20vwDdJRad0ZM/AJDEy9O5oj8Ad2DnQ6NtPw==\",\"dtype\":\"float64\",\"shape\":[11]}},\"selected\":{\"id\":\"19dc0af5-2cef-4ec7-84e7-d91b3834454d\",\"type\":\"Selection\"},\"selection_policy\":{\"id\":\"52f6cfd4-7ce2-4aa3-ac20-a3914d55702f\",\"type\":\"UnionRenderers\"}},\"id\":\"ecf1f34e-d6ac-4daa-893e-9640e99be2b2\",\"type\":\"ColumnDataSource\"},{\"attributes\":{\"children\":[{\"id\":\"966c9676-c808-4bf6-a4ca-81d57845be0c\",\"subtype\":\"Figure\",\"type\":\"Plot\"},{\"id\":\"c8068068-6427-400a-a540-23a6735b1c10\",\"subtype\":\"Figure\",\"type\":\"Plot\"},{\"id\":\"db58dafe-d289-43f4-9808-2b34eef66537\",\"subtype\":\"Figure\",\"type\":\"Plot\"}]},\"id\":\"e141ee0e-9d7b-4738-bef9-08331019418e\",\"type\":\"Row\"},{\"attributes\":{},\"id\":\"b9ec1267-2d98-43bd-b662-5a9a973bc852\",\"type\":\"ResetTool\"},{\"attributes\":{},\"id\":\"e59b063f-315e-4c5f-8f0a-5d8cd5c96ccf\",\"type\":\"BasicTicker\"},{\"attributes\":{\"below\":[{\"id\":\"2f622cd5-58ca-4edd-b156-6a48beabc9fd\",\"type\":\"CategoricalAxis\"}],\"left\":[{\"id\":\"284eb316-5de1-4ad5-98d8-8288f6f660f6\",\"type\":\"LinearAxis\"}],\"plot_height\":300,\"plot_width\":300,\"renderers\":[{\"id\":\"2f622cd5-58ca-4edd-b156-6a48beabc9fd\",\"type\":\"CategoricalAxis\"},{\"id\":\"4ed8dd60-a272-4af2-963c-3f749de65446\",\"type\":\"Grid\"},{\"id\":\"284eb316-5de1-4ad5-98d8-8288f6f660f6\",\"type\":\"LinearAxis\"},{\"id\":\"2daf62eb-2fb4-412e-9484-e2d50728ea96\",\"type\":\"Grid\"},{\"id\":\"30a67c16-b37a-4e6b-810e-c07ca51f2b61\",\"type\":\"BoxAnnotation\"},{\"id\":\"1ce9f9b7-4fc9-4a11-9dc9-fd4d981bb313\",\"type\":\"GlyphRenderer\"}],\"title\":{\"id\":\"431d52d2-bf76-45a6-8aa9-64bc32404a08\",\"type\":\"Title\"},\"toolbar\":{\"id\":\"1264532d-91c5-467b-9292-af10081dab61\",\"type\":\"Toolbar\"},\"toolbar_location\":null,\"x_range\":{\"id\":\"9c03d8dd-20d4-483a-86d7-631783c6fb5b\",\"type\":\"FactorRange\"},\"x_scale\":{\"id\":\"3d3c0a97-8c17-4628-8b40-fc3b49184a48\",\"type\":\"CategoricalScale\"},\"y_range\":{\"id\":\"bc372520-3984-4f23-b261-48b91c975b4d\",\"type\":\"DataRange1d\"},\"y_scale\":{\"id\":\"b6d6ff65-dbbb-4e48-affa-2436689c6674\",\"type\":\"LinearScale\"}},\"id\":\"db58dafe-d289-43f4-9808-2b34eef66537\",\"subtype\":\"Figure\",\"type\":\"Plot\"},{\"attributes\":{},\"id\":\"ced9f64f-306b-4ba4-9182-530a8cbdcc02\",\"type\":\"CategoricalTicker\"},{\"attributes\":{},\"id\":\"b6d6ff65-dbbb-4e48-affa-2436689c6674\",\"type\":\"LinearScale\"},{\"attributes\":{},\"id\":\"037b65e7-d234-4ba0-a534-0b302982e95f\",\"type\":\"CategoricalTickFormatter\"},{\"attributes\":{},\"id\":\"8e991a7f-162a-4610-bce2-8dff2cb09608\",\"type\":\"HelpTool\"},{\"attributes\":{\"callback\":null},\"id\":\"0d79fdc5-e313-468a-a3d0-35b3727f0e79\",\"type\":\"DataRange1d\"},{\"attributes\":{\"dimension\":1,\"plot\":{\"id\":\"c8068068-6427-400a-a540-23a6735b1c10\",\"subtype\":\"Figure\",\"type\":\"Plot\"},\"ticker\":{\"id\":\"10c5b65a-0d76-468f-8d04-0e10f32646cd\",\"type\":\"BasicTicker\"}},\"id\":\"a5d628fb-cc99-4fa5-b99b-f3548b043c0d\",\"type\":\"Grid\"},{\"attributes\":{\"below\":[{\"id\":\"b133054b-8624-4149-ad9e-087e0f7d6d2c\",\"type\":\"CategoricalAxis\"}],\"left\":[{\"id\":\"32dbeee9-9e07-4135-a61c-019f921ad944\",\"type\":\"LinearAxis\"}],\"plot_height\":300,\"plot_width\":300,\"renderers\":[{\"id\":\"b133054b-8624-4149-ad9e-087e0f7d6d2c\",\"type\":\"CategoricalAxis\"},{\"id\":\"9c027e23-5c22-400c-a709-747e77c6e279\",\"type\":\"Grid\"},{\"id\":\"32dbeee9-9e07-4135-a61c-019f921ad944\",\"type\":\"LinearAxis\"},{\"id\":\"a5d628fb-cc99-4fa5-b99b-f3548b043c0d\",\"type\":\"Grid\"},{\"id\":\"7ac5dac6-896f-4246-b5b9-7f058a06574a\",\"type\":\"BoxAnnotation\"},{\"id\":\"6a2c5426-62fc-4564-8250-5f60e78e5f34\",\"type\":\"GlyphRenderer\"}],\"title\":{\"id\":\"a4272637-4010-4e53-855f-43b9814f282b\",\"type\":\"Title\"},\"toolbar\":{\"id\":\"bd68ec70-0559-4134-b321-3001aa08e979\",\"type\":\"Toolbar\"},\"toolbar_location\":null,\"x_range\":{\"id\":\"cbfeccb3-f2a5-458a-abc0-b60ed25f90d6\",\"type\":\"FactorRange\"},\"x_scale\":{\"id\":\"1e11a3fc-b9c1-4471-8617-7abc0710365a\",\"type\":\"CategoricalScale\"},\"y_range\":{\"id\":\"89a116e5-1319-4550-83c0-db50c7f3d558\",\"type\":\"DataRange1d\"},\"y_scale\":{\"id\":\"db32febb-d727-4998-a936-ec223bfe0443\",\"type\":\"LinearScale\"}},\"id\":\"c8068068-6427-400a-a540-23a6735b1c10\",\"subtype\":\"Figure\",\"type\":\"Plot\"},{\"attributes\":{\"axis_label\":\"flux (W m-2)\",\"formatter\":{\"id\":\"cfebb3a6-7c6a-4977-a833-26c8dab7fb9c\",\"type\":\"BasicTickFormatter\"},\"plot\":{\"id\":\"db58dafe-d289-43f4-9808-2b34eef66537\",\"subtype\":\"Figure\",\"type\":\"Plot\"},\"ticker\":{\"id\":\"07392485-3575-4936-bbe7-fdea4b368ff7\",\"type\":\"BasicTicker\"}},\"id\":\"284eb316-5de1-4ad5-98d8-8288f6f660f6\",\"type\":\"LinearAxis\"},{\"attributes\":{},\"id\":\"56bef2ee-84fc-4254-950f-95c48d5865e8\",\"type\":\"Selection\"},{\"attributes\":{\"dimension\":1,\"plot\":{\"id\":\"966c9676-c808-4bf6-a4ca-81d57845be0c\",\"subtype\":\"Figure\",\"type\":\"Plot\"},\"ticker\":{\"id\":\"e59b063f-315e-4c5f-8f0a-5d8cd5c96ccf\",\"type\":\"BasicTicker\"}},\"id\":\"010e73dd-fce9-41e8-9ddc-d6b19bb6e935\",\"type\":\"Grid\"},{\"attributes\":{\"overlay\":{\"id\":\"7ac5dac6-896f-4246-b5b9-7f058a06574a\",\"type\":\"BoxAnnotation\"}},\"id\":\"4b26ef1c-6e2e-47cf-8837-5104cb666957\",\"type\":\"BoxZoomTool\"},{\"attributes\":{},\"id\":\"52f6cfd4-7ce2-4aa3-ac20-a3914d55702f\",\"type\":\"UnionRenderers\"},{\"attributes\":{},\"id\":\"19dc0af5-2cef-4ec7-84e7-d91b3834454d\",\"type\":\"Selection\"},{\"attributes\":{},\"id\":\"a561c9c4-a65d-427f-9960-165a30bdd8f5\",\"type\":\"ResetTool\"},{\"attributes\":{\"axis_label\":\"spectral band\",\"formatter\":{\"id\":\"3608356c-426c-4671-b0c7-670fb51ee14f\",\"type\":\"CategoricalTickFormatter\"},\"plot\":{\"id\":\"db58dafe-d289-43f4-9808-2b34eef66537\",\"subtype\":\"Figure\",\"type\":\"Plot\"},\"ticker\":{\"id\":\"2b7ad347-8aaf-43e1-ad98-c5aafd945148\",\"type\":\"CategoricalTicker\"}},\"id\":\"2f622cd5-58ca-4edd-b156-6a48beabc9fd\",\"type\":\"CategoricalAxis\"},{\"attributes\":{\"active_drag\":\"auto\",\"active_inspect\":\"auto\",\"active_scroll\":\"auto\",\"active_tap\":\"auto\",\"tools\":[{\"id\":\"ce2cd852-e9d0-437c-9036-84e6d441f0c1\",\"type\":\"PanTool\"},{\"id\":\"d2d2cbf6-4432-4348-b931-f3e54805bc66\",\"type\":\"WheelZoomTool\"},{\"id\":\"eb7ce8d8-52d7-48be-a410-c75bb15fb386\",\"type\":\"BoxZoomTool\"},{\"id\":\"d9ff8cea-0f00-452c-9ed2-e36c2c268b02\",\"type\":\"SaveTool\"},{\"id\":\"7c4ada5e-1310-4c67-a32e-ead08a2fee0c\",\"type\":\"ResetTool\"},{\"id\":\"0c73e0f9-ec82-4045-9646-1e41dd93ab2b\",\"type\":\"HelpTool\"}]},\"id\":\"1264532d-91c5-467b-9292-af10081dab61\",\"type\":\"Toolbar\"},{\"attributes\":{\"plot\":{\"id\":\"c8068068-6427-400a-a540-23a6735b1c10\",\"subtype\":\"Figure\",\"type\":\"Plot\"},\"ticker\":{\"id\":\"ced9f64f-306b-4ba4-9182-530a8cbdcc02\",\"type\":\"CategoricalTicker\"}},\"id\":\"9c027e23-5c22-400c-a709-747e77c6e279\",\"type\":\"Grid\"},{\"attributes\":{},\"id\":\"f96472ff-ee7e-4ae4-ae6a-0c2d870b8ceb\",\"type\":\"BasicTickFormatter\"},{\"attributes\":{\"plot\":null,\"text\":\"SFC flux. CLIRAD (single-run) - CRD.\"},\"id\":\"a4272637-4010-4e53-855f-43b9814f282b\",\"type\":\"Title\"},{\"attributes\":{\"active_drag\":\"auto\",\"active_inspect\":\"auto\",\"active_scroll\":\"auto\",\"active_tap\":\"auto\",\"tools\":[{\"id\":\"5c29dff5-a80c-4c18-9aa6-cc9d105023d5\",\"type\":\"PanTool\"},{\"id\":\"e348026f-3a88-4071-96b6-37bda02c024e\",\"type\":\"WheelZoomTool\"},{\"id\":\"4b26ef1c-6e2e-47cf-8837-5104cb666957\",\"type\":\"BoxZoomTool\"},{\"id\":\"bb9220da-4818-4b51-9c1f-a19ddc6dfdd4\",\"type\":\"SaveTool\"},{\"id\":\"a561c9c4-a65d-427f-9960-165a30bdd8f5\",\"type\":\"ResetTool\"},{\"id\":\"8e991a7f-162a-4610-bce2-8dff2cb09608\",\"type\":\"HelpTool\"}]},\"id\":\"bd68ec70-0559-4134-b321-3001aa08e979\",\"type\":\"Toolbar\"},{\"attributes\":{\"children\":[{\"id\":\"7563e89c-4112-4ffe-96bc-2022a2729bb3\",\"type\":\"ToolbarBox\"},{\"id\":\"8e6b5101-a6ae-4d70-8398-58223f7b15d1\",\"type\":\"Column\"}]},\"id\":\"ae727e0b-566b-4f76-9b7e-bef9317fdc1c\",\"type\":\"Column\"},{\"attributes\":{},\"id\":\"10c5b65a-0d76-468f-8d04-0e10f32646cd\",\"type\":\"BasicTicker\"},{\"attributes\":{\"callback\":null,\"factors\":[\"1\",\"2\",\"3\",\"4\",\"5\",\"6\",\"7\",\"8\",\"9\",\"10\",\"11\"]},\"id\":\"2b1c843b-053a-4908-9546-96a96384a4fc\",\"type\":\"FactorRange\"},{\"attributes\":{\"below\":[{\"id\":\"89927ba2-6cf2-4306-bdf4-99e222b7dfca\",\"type\":\"CategoricalAxis\"}],\"left\":[{\"id\":\"63e96562-05a5-41bc-b9cb-5d09e02c11e1\",\"type\":\"LinearAxis\"}],\"plot_height\":300,\"plot_width\":300,\"renderers\":[{\"id\":\"89927ba2-6cf2-4306-bdf4-99e222b7dfca\",\"type\":\"CategoricalAxis\"},{\"id\":\"f46ef598-3e3b-48a9-a419-ccd27d5d08f8\",\"type\":\"Grid\"},{\"id\":\"63e96562-05a5-41bc-b9cb-5d09e02c11e1\",\"type\":\"LinearAxis\"},{\"id\":\"010e73dd-fce9-41e8-9ddc-d6b19bb6e935\",\"type\":\"Grid\"},{\"id\":\"20aba47b-a4c4-4609-a426-d64effa29f43\",\"type\":\"BoxAnnotation\"},{\"id\":\"2d04fa7a-89b3-4f2d-a4f1-24b9241dae2e\",\"type\":\"GlyphRenderer\"}],\"title\":{\"id\":\"88f972d4-8567-42f9-9d31-24646cc2572f\",\"type\":\"Title\"},\"toolbar\":{\"id\":\"fac25b14-0859-4af7-8aa1-da4d82b53772\",\"type\":\"Toolbar\"},\"toolbar_location\":null,\"x_range\":{\"id\":\"2b1c843b-053a-4908-9546-96a96384a4fc\",\"type\":\"FactorRange\"},\"x_scale\":{\"id\":\"fd4677a3-8937-4f1b-bb3a-a3b0d3921e3c\",\"type\":\"CategoricalScale\"},\"y_range\":{\"id\":\"0d79fdc5-e313-468a-a3d0-35b3727f0e79\",\"type\":\"DataRange1d\"},\"y_scale\":{\"id\":\"fd9bc945-debd-4844-abc8-066d002e2340\",\"type\":\"LinearScale\"}},\"id\":\"966c9676-c808-4bf6-a4ca-81d57845be0c\",\"subtype\":\"Figure\",\"type\":\"Plot\"},{\"attributes\":{},\"id\":\"e348026f-3a88-4071-96b6-37bda02c024e\",\"type\":\"WheelZoomTool\"},{\"attributes\":{},\"id\":\"5c29dff5-a80c-4c18-9aa6-cc9d105023d5\",\"type\":\"PanTool\"},{\"attributes\":{},\"id\":\"e9787422-350e-4be9-9fff-e6f7ddc18f0f\",\"type\":\"UnionRenderers\"},{\"attributes\":{},\"id\":\"1e11a3fc-b9c1-4471-8617-7abc0710365a\",\"type\":\"CategoricalScale\"},{\"attributes\":{\"dimension\":1,\"plot\":{\"id\":\"db58dafe-d289-43f4-9808-2b34eef66537\",\"subtype\":\"Figure\",\"type\":\"Plot\"},\"ticker\":{\"id\":\"07392485-3575-4936-bbe7-fdea4b368ff7\",\"type\":\"BasicTicker\"}},\"id\":\"2daf62eb-2fb4-412e-9484-e2d50728ea96\",\"type\":\"Grid\"},{\"attributes\":{\"active_drag\":\"auto\",\"active_inspect\":\"auto\",\"active_scroll\":\"auto\",\"active_tap\":\"auto\",\"tools\":[{\"id\":\"8480f5d7-8de5-4dbb-9a07-20d47d4b2294\",\"type\":\"PanTool\"},{\"id\":\"abf49bc3-df45-4cbd-b047-45ed81416a3a\",\"type\":\"WheelZoomTool\"},{\"id\":\"66a907ee-ffc9-474c-9255-ee6e595259af\",\"type\":\"BoxZoomTool\"},{\"id\":\"acccc6f4-96ce-4395-bec4-2c30687de127\",\"type\":\"SaveTool\"},{\"id\":\"b9ec1267-2d98-43bd-b662-5a9a973bc852\",\"type\":\"ResetTool\"},{\"id\":\"4e9b678d-2485-45d4-8630-5c3c6c66d817\",\"type\":\"HelpTool\"}]},\"id\":\"fac25b14-0859-4af7-8aa1-da4d82b53772\",\"type\":\"Toolbar\"},{\"attributes\":{\"plot\":null,\"text\":\"Atmosphere heating. CLIRAD (single-run) - CRD.\"},\"id\":\"431d52d2-bf76-45a6-8aa9-64bc32404a08\",\"type\":\"Title\"},{\"attributes\":{},\"id\":\"db32febb-d727-4998-a936-ec223bfe0443\",\"type\":\"LinearScale\"},{\"attributes\":{\"callback\":null},\"id\":\"bc372520-3984-4f23-b261-48b91c975b4d\",\"type\":\"DataRange1d\"},{\"attributes\":{\"callback\":null},\"id\":\"89a116e5-1319-4550-83c0-db50c7f3d558\",\"type\":\"DataRange1d\"},{\"attributes\":{},\"id\":\"3608356c-426c-4671-b0c7-670fb51ee14f\",\"type\":\"CategoricalTickFormatter\"},{\"attributes\":{},\"id\":\"3d3c0a97-8c17-4628-8b40-fc3b49184a48\",\"type\":\"CategoricalScale\"},{\"attributes\":{},\"id\":\"47fd6bd7-e2f1-449c-95f7-94253e0c2dc4\",\"type\":\"UnionRenderers\"},{\"attributes\":{\"callback\":null,\"data\":{\"band\":[\"1\",\"2\",\"3\",\"4\",\"5\",\"6\",\"7\",\"8\",\"9\",\"10\",\"11\"],\"flux\":{\"__ndarray__\":\"gOIKWg6Vxz8AZUNIJ1zKP8BwLN5+r9w/QMdlApwjxj+ArqKa7WW4vwBJ8fEJ2bU/gB6GVidnzD+AUnx8QnawPwDBKhcq/4o/gEM6lz1kpb+AJgqhQRKPPw==\",\"dtype\":\"float64\",\"shape\":[11]}},\"selected\":{\"id\":\"cac7f8ca-547c-4b51-9dd3-bf8122375528\",\"type\":\"Selection\"},\"selection_policy\":{\"id\":\"47fd6bd7-e2f1-449c-95f7-94253e0c2dc4\",\"type\":\"UnionRenderers\"}},\"id\":\"423d7c1c-857e-434f-a892-a99b90416a02\",\"type\":\"ColumnDataSource\"},{\"attributes\":{\"data_source\":{\"id\":\"ecf1f34e-d6ac-4daa-893e-9640e99be2b2\",\"type\":\"ColumnDataSource\"},\"glyph\":{\"id\":\"dcf1a3e0-fa9c-40aa-b9d2-54c94d95c9b8\",\"type\":\"VBar\"},\"hover_glyph\":null,\"muted_glyph\":null,\"nonselection_glyph\":{\"id\":\"9c51d385-7096-4477-8e16-d5ff029c94b2\",\"type\":\"VBar\"},\"selection_glyph\":null,\"view\":{\"id\":\"dc8e1b7e-26ef-4b96-ae42-9153cbf1cb99\",\"type\":\"CDSView\"}},\"id\":\"6a2c5426-62fc-4564-8250-5f60e78e5f34\",\"type\":\"GlyphRenderer\"},{\"attributes\":{\"tools\":[{\"id\":\"8480f5d7-8de5-4dbb-9a07-20d47d4b2294\",\"type\":\"PanTool\"},{\"id\":\"abf49bc3-df45-4cbd-b047-45ed81416a3a\",\"type\":\"WheelZoomTool\"},{\"id\":\"66a907ee-ffc9-474c-9255-ee6e595259af\",\"type\":\"BoxZoomTool\"},{\"id\":\"acccc6f4-96ce-4395-bec4-2c30687de127\",\"type\":\"SaveTool\"},{\"id\":\"b9ec1267-2d98-43bd-b662-5a9a973bc852\",\"type\":\"ResetTool\"},{\"id\":\"4e9b678d-2485-45d4-8630-5c3c6c66d817\",\"type\":\"HelpTool\"},{\"id\":\"5c29dff5-a80c-4c18-9aa6-cc9d105023d5\",\"type\":\"PanTool\"},{\"id\":\"e348026f-3a88-4071-96b6-37bda02c024e\",\"type\":\"WheelZoomTool\"},{\"id\":\"4b26ef1c-6e2e-47cf-8837-5104cb666957\",\"type\":\"BoxZoomTool\"},{\"id\":\"bb9220da-4818-4b51-9c1f-a19ddc6dfdd4\",\"type\":\"SaveTool\"},{\"id\":\"a561c9c4-a65d-427f-9960-165a30bdd8f5\",\"type\":\"ResetTool\"},{\"id\":\"8e991a7f-162a-4610-bce2-8dff2cb09608\",\"type\":\"HelpTool\"},{\"id\":\"ce2cd852-e9d0-437c-9036-84e6d441f0c1\",\"type\":\"PanTool\"},{\"id\":\"d2d2cbf6-4432-4348-b931-f3e54805bc66\",\"type\":\"WheelZoomTool\"},{\"id\":\"eb7ce8d8-52d7-48be-a410-c75bb15fb386\",\"type\":\"BoxZoomTool\"},{\"id\":\"d9ff8cea-0f00-452c-9ed2-e36c2c268b02\",\"type\":\"SaveTool\"},{\"id\":\"7c4ada5e-1310-4c67-a32e-ead08a2fee0c\",\"type\":\"ResetTool\"},{\"id\":\"0c73e0f9-ec82-4045-9646-1e41dd93ab2b\",\"type\":\"HelpTool\"}]},\"id\":\"7d6273a8-feb8-4714-ae77-2c1087d26a14\",\"type\":\"ProxyToolbar\"},{\"attributes\":{\"plot\":{\"id\":\"db58dafe-d289-43f4-9808-2b34eef66537\",\"subtype\":\"Figure\",\"type\":\"Plot\"},\"ticker\":{\"id\":\"2b7ad347-8aaf-43e1-ad98-c5aafd945148\",\"type\":\"CategoricalTicker\"}},\"id\":\"4ed8dd60-a272-4af2-963c-3f749de65446\",\"type\":\"Grid\"},{\"attributes\":{\"callback\":null,\"factors\":[\"1\",\"2\",\"3\",\"4\",\"5\",\"6\",\"7\",\"8\",\"9\",\"10\",\"11\"]},\"id\":\"9c03d8dd-20d4-483a-86d7-631783c6fb5b\",\"type\":\"FactorRange\"},{\"attributes\":{\"axis_label\":\"flux (W m-2)\",\"formatter\":{\"id\":\"f96472ff-ee7e-4ae4-ae6a-0c2d870b8ceb\",\"type\":\"BasicTickFormatter\"},\"plot\":{\"id\":\"c8068068-6427-400a-a540-23a6735b1c10\",\"subtype\":\"Figure\",\"type\":\"Plot\"},\"ticker\":{\"id\":\"10c5b65a-0d76-468f-8d04-0e10f32646cd\",\"type\":\"BasicTicker\"}},\"id\":\"32dbeee9-9e07-4135-a61c-019f921ad944\",\"type\":\"LinearAxis\"},{\"attributes\":{},\"id\":\"2b7ad347-8aaf-43e1-ad98-c5aafd945148\",\"type\":\"CategoricalTicker\"},{\"attributes\":{},\"id\":\"cac7f8ca-547c-4b51-9dd3-bf8122375528\",\"type\":\"Selection\"},{\"attributes\":{\"bottom_units\":\"screen\",\"fill_alpha\":{\"value\":0.5},\"fill_color\":{\"value\":\"lightgrey\"},\"left_units\":\"screen\",\"level\":\"overlay\",\"line_alpha\":{\"value\":1.0},\"line_color\":{\"value\":\"black\"},\"line_dash\":[4,4],\"line_width\":{\"value\":2},\"plot\":null,\"render_mode\":\"css\",\"right_units\":\"screen\",\"top_units\":\"screen\"},\"id\":\"7ac5dac6-896f-4246-b5b9-7f058a06574a\",\"type\":\"BoxAnnotation\"},{\"attributes\":{\"axis_label\":\"spectral band\",\"formatter\":{\"id\":\"037b65e7-d234-4ba0-a534-0b302982e95f\",\"type\":\"CategoricalTickFormatter\"},\"plot\":{\"id\":\"c8068068-6427-400a-a540-23a6735b1c10\",\"subtype\":\"Figure\",\"type\":\"Plot\"},\"ticker\":{\"id\":\"ced9f64f-306b-4ba4-9182-530a8cbdcc02\",\"type\":\"CategoricalTicker\"}},\"id\":\"b133054b-8624-4149-ad9e-087e0f7d6d2c\",\"type\":\"CategoricalAxis\"},{\"attributes\":{\"callback\":null,\"factors\":[\"1\",\"2\",\"3\",\"4\",\"5\",\"6\",\"7\",\"8\",\"9\",\"10\",\"11\"]},\"id\":\"cbfeccb3-f2a5-458a-abc0-b60ed25f90d6\",\"type\":\"FactorRange\"},{\"attributes\":{},\"id\":\"07392485-3575-4936-bbe7-fdea4b368ff7\",\"type\":\"BasicTicker\"},{\"attributes\":{},\"id\":\"bb9220da-4818-4b51-9c1f-a19ddc6dfdd4\",\"type\":\"SaveTool\"},{\"attributes\":{\"plot\":null,\"text\":\"TOA flux. CLIRAD (single-run) - CRD.\"},\"id\":\"88f972d4-8567-42f9-9d31-24646cc2572f\",\"type\":\"Title\"}],\"root_ids\":[\"ae727e0b-566b-4f76-9b7e-bef9317fdc1c\"]},\"title\":\"Bokeh Application\",\"version\":\"0.12.16\"}};\n",
       "  var render_items = [{\"docid\":\"168beede-71ac-48e2-a4f5-677d1e3cee00\",\"elementid\":\"67593faa-da9b-4f22-9fd2-6a074240fef2\",\"modelid\":\"ae727e0b-566b-4f76-9b7e-bef9317fdc1c\"}];\n",
       "  root.Bokeh.embed.embed_items_notebook(docs_json, render_items);\n",
       "\n",
       "  }\n",
       "  if (root.Bokeh !== undefined) {\n",
       "    embed_document(root);\n",
       "  } else {\n",
       "    var attempts = 0;\n",
       "    var timer = setInterval(function(root) {\n",
       "      if (root.Bokeh !== undefined) {\n",
       "        embed_document(root);\n",
       "        clearInterval(timer);\n",
       "      }\n",
       "      attempts++;\n",
       "      if (attempts > 100) {\n",
       "        console.log(\"Bokeh: ERROR: Unable to run BokehJS code because BokehJS library is missing\")\n",
       "        clearInterval(timer);\n",
       "      }\n",
       "    }, 10, root)\n",
       "  }\n",
       "})(window);"
      ],
      "application/vnd.bokehjs_exec.v0+json": ""
     },
     "metadata": {
      "application/vnd.bokehjs_exec.v0+json": {
       "id": "ae727e0b-566b-4f76-9b7e-bef9317fdc1c"
      }
     },
     "output_type": "display_data"
    },
    {
     "data": {
      "text/markdown": [
       "*FIGURE.* Difference between CLIRAD and CRD in TOA, SFC and net atmosphere flux, in each spectral band."
      ],
      "text/plain": [
       "<IPython.core.display.Markdown object>"
      ]
     },
     "metadata": {},
     "output_type": "display_data"
    },
    {
     "data": {
      "text/html": [
       "<div>\n",
       "<style scoped>\n",
       "    .dataframe tbody tr th:only-of-type {\n",
       "        vertical-align: middle;\n",
       "    }\n",
       "\n",
       "    .dataframe tbody tr th {\n",
       "        vertical-align: top;\n",
       "    }\n",
       "\n",
       "    .dataframe thead th {\n",
       "        text-align: right;\n",
       "    }\n",
       "</style>\n",
       "<table border=\"1\" class=\"dataframe\">\n",
       "  <thead>\n",
       "    <tr style=\"text-align: right;\">\n",
       "      <th></th>\n",
       "      <th>OLR flux</th>\n",
       "      <th>SFC flux</th>\n",
       "      <th>ATM heating</th>\n",
       "    </tr>\n",
       "    <tr>\n",
       "      <th>Sum over bands</th>\n",
       "      <th></th>\n",
       "      <th></th>\n",
       "      <th></th>\n",
       "    </tr>\n",
       "  </thead>\n",
       "  <tbody>\n",
       "    <tr>\n",
       "      <th>CLIRAD (single-run) - CRD</th>\n",
       "      <td>0.84</td>\n",
       "      <td>-0.44</td>\n",
       "      <td>1.27</td>\n",
       "    </tr>\n",
       "    <tr>\n",
       "      <th>CRD</th>\n",
       "      <td>-201.06</td>\n",
       "      <td>166.03</td>\n",
       "      <td>-119.67</td>\n",
       "    </tr>\n",
       "  </tbody>\n",
       "</table>\n",
       "</div>"
      ],
      "text/plain": [
       "                           OLR flux  SFC flux  ATM heating\n",
       "Sum over bands                                            \n",
       "CLIRAD (single-run) - CRD      0.84     -0.44         1.27\n",
       "CRD                         -201.06    166.03      -119.67"
      ]
     },
     "metadata": {},
     "output_type": "display_data"
    },
    {
     "data": {
      "text/markdown": [
       "*TABLE.* Difference between CLIRAD and CRD in TOA, SFC and net atmosphere flux, over all spectral bands. CRD's TOA, SFC and net atmosphere flux, over all spectral bands."
      ],
      "text/plain": [
       "<IPython.core.display.Markdown object>"
      ]
     },
     "metadata": {},
     "output_type": "display_data"
    },
    {
     "data": {
      "text/html": [
       "<a id=\"Cooling_rates._trp.\"></a>"
      ],
      "text/plain": [
       "<IPython.core.display.HTML object>"
      ]
     },
     "metadata": {},
     "output_type": "display_data"
    },
    {
     "data": {
      "text/markdown": [
       "# Cooling rates. trp."
      ],
      "text/plain": [
       "<IPython.core.display.Markdown object>"
      ]
     },
     "metadata": {},
     "output_type": "display_data"
    },
    {
     "data": {
      "text/html": [
       "\n",
       "<div class=\"bk-root\">\n",
       "    <div class=\"bk-plotdiv\" id=\"45c4e060-38d9-4b3e-ad56-2dfbf7c44072\"></div>\n",
       "</div>"
      ]
     },
     "metadata": {},
     "output_type": "display_data"
    },
    {
     "data": {
      "application/javascript": [
       "(function(root) {\n",
       "  function embed_document(root) {\n",
       "    \n",
       "  var docs_json = {\"d9bceda7-c1fe-4644-93a6-9df872b31f52\":{\"roots\":{\"references\":[{\"attributes\":{},\"id\":\"48d5af67-2b31-4949-bf07-20a3c62b8c6c\",\"type\":\"Selection\"},{\"attributes\":{\"source\":{\"id\":\"4af61fe5-536a-437a-ad89-c1666a1589ec\",\"type\":\"ColumnDataSource\"}},\"id\":\"d8c8cdf4-b184-4170-8a38-fbece735f50e\",\"type\":\"CDSView\"},{\"attributes\":{},\"id\":\"2427d20a-786b-443b-ad5b-503880c84adb\",\"type\":\"BasicTickFormatter\"},{\"attributes\":{},\"id\":\"a4c68036-e171-4ddc-a675-5fbdf9a81e94\",\"type\":\"HelpTool\"},{\"attributes\":{},\"id\":\"ac793b32-ac56-4377-bba2-a09cfcec1261\",\"type\":\"Selection\"},{\"attributes\":{\"plot\":null,\"text\":\"\"},\"id\":\"61315a70-127d-4368-a64f-db8624fa4a7f\",\"type\":\"Title\"},{\"attributes\":{\"bottom_units\":\"screen\",\"fill_alpha\":{\"value\":0.5},\"fill_color\":{\"value\":\"lightgrey\"},\"left_units\":\"screen\",\"level\":\"overlay\",\"line_alpha\":{\"value\":1.0},\"line_color\":{\"value\":\"black\"},\"line_dash\":[4,4],\"line_width\":{\"value\":2},\"plot\":null,\"render_mode\":\"css\",\"right_units\":\"screen\",\"top_units\":\"screen\"},\"id\":\"d1e09ff6-0fa5-4f66-af2a-abb4744f98cd\",\"type\":\"BoxAnnotation\"},{\"attributes\":{\"tools\":[{\"id\":\"d0144993-a900-49f8-9523-752df81018e9\",\"type\":\"PanTool\"},{\"id\":\"330d54e4-8771-4820-8255-746a75aea7fd\",\"type\":\"WheelZoomTool\"},{\"id\":\"7ea206f5-5449-43b9-b5cc-9fbbd271a5a7\",\"type\":\"BoxZoomTool\"},{\"id\":\"5213ca8d-b1bd-4988-92ed-59605b74538e\",\"type\":\"SaveTool\"},{\"id\":\"ae24e632-be7d-4bee-af8d-fc597f5b3a9a\",\"type\":\"ResetTool\"},{\"id\":\"a4c68036-e171-4ddc-a675-5fbdf9a81e94\",\"type\":\"HelpTool\"},{\"id\":\"7ff5a042-77e0-420e-934b-4c29956e3645\",\"type\":\"PanTool\"},{\"id\":\"69d341a8-2219-4136-8654-e0e6fed5d7a1\",\"type\":\"WheelZoomTool\"},{\"id\":\"ba33bacb-d1a1-4c21-af24-5ec8feebf69a\",\"type\":\"BoxZoomTool\"},{\"id\":\"37ccc64b-9bf0-4182-ad93-4659b05277f0\",\"type\":\"SaveTool\"},{\"id\":\"0bb315e7-96ff-43b3-94ea-3060531cc0f6\",\"type\":\"ResetTool\"},{\"id\":\"f64c7d67-e4ce-4583-9d8d-70f9b470309f\",\"type\":\"HelpTool\"},{\"id\":\"11b45481-c040-425a-bfda-7eae0c1da11e\",\"type\":\"PanTool\"},{\"id\":\"e6e741cc-5d2d-444f-9c2c-11d5df78a247\",\"type\":\"WheelZoomTool\"},{\"id\":\"385c0f14-ef7b-4aae-89bb-16cef0e3f797\",\"type\":\"BoxZoomTool\"},{\"id\":\"3103d917-8812-4b27-9c74-6b9ec4d9049b\",\"type\":\"SaveTool\"},{\"id\":\"12bbfddd-a0fe-407e-9e32-b6acbbaf3a09\",\"type\":\"ResetTool\"},{\"id\":\"dfbdbfa1-f545-4efc-abb9-b93881c2e4f0\",\"type\":\"HelpTool\"}]},\"id\":\"75a5b91d-3e42-473e-ab69-96deee10c9b1\",\"type\":\"ProxyToolbar\"},{\"attributes\":{\"line_alpha\":0.6,\"line_color\":\"#377eb8\",\"line_dash\":[6],\"line_width\":5,\"x\":{\"field\":\"x\"},\"y\":{\"field\":\"y\"}},\"id\":\"818b59e4-c8af-46bd-a2e7-7b83c1665b5d\",\"type\":\"Line\"},{\"attributes\":{},\"id\":\"ae24e632-be7d-4bee-af8d-fc597f5b3a9a\",\"type\":\"ResetTool\"},{\"attributes\":{},\"id\":\"996601f4-c18b-4fff-a83f-1f7a58dfd2ac\",\"type\":\"Selection\"},{\"attributes\":{\"data_source\":{\"id\":\"4af61fe5-536a-437a-ad89-c1666a1589ec\",\"type\":\"ColumnDataSource\"},\"glyph\":{\"id\":\"bcf60603-c410-4c25-9c4b-1b17049aaf23\",\"type\":\"Line\"},\"hover_glyph\":null,\"muted_glyph\":null,\"nonselection_glyph\":{\"id\":\"bfb17ffc-6850-4d10-b958-d5204fd36190\",\"type\":\"Line\"},\"selection_glyph\":null,\"view\":{\"id\":\"d8c8cdf4-b184-4170-8a38-fbece735f50e\",\"type\":\"CDSView\"}},\"id\":\"0ba50a89-edbc-49d3-ba61-60e5a3861cb8\",\"type\":\"GlyphRenderer\"},{\"attributes\":{\"callback\":null,\"end\":0.5596213662811859,\"start\":-1.3413269281465863},\"id\":\"f4c3127b-cb3f-4939-93d4-f9f36885b565\",\"type\":\"Range1d\"},{\"attributes\":{\"callback\":null,\"data\":{\"x\":{\"__ndarray__\":\"R/KIaN7AVEClCeJMyPNGQOvRhpxr30JAptxzhxx4PkA7SssMElA4QK6Bp3CyUDNAsVXpjES9LkBFhUV0+5coQMHYwqbbySNA6f09nM3nH0CaSd/3eYoZQDmgiAOW8BNAPYqARh3eDEBkm4vCgvr+P9D+5tWhQfY/P8DwKRnSAkBq38kb17ILQDT7IWuSsxFAUr2Rjm0FFkAinq3s9XgbQGCHwtYcqSFAG64kT303J0C7dRDneyooQD9JYrbK8yRA9S3bneHhIUAIymSuUMMcQIkHLe6VEBdAAau3cITREkA6CiNvkQIPQJU39ki7IQlAaAvwok1UA0BXLQiS4+L7P0xzDpJ2hPI/NNuPGMbJ5z91mUVYxqfSPxqwUPSxZca/G11peifD3L8QzNj5t2jTvwzOozTL360/SPJ4VI1VzD9KJ0nXEIncP8yDdlvHt+4/Et49nYLW9z++2teD4Jn+P+568eH/bwFALf5D9lmAAkCiZAicVOkCQPPT4jNKxwJAOjp3wTzBAUBSQsKNGisBQG4OmjqJwQBAJ3sZoHFuAEA5Ar0Sdi0AQGy4rw5+9f8/7W4nSrC3/z8mPr8zj4T/P4UYRHCQS/8/embVKYcF/z+5YXG+LLP+P/qb8BVUgf4/KvafTtyO/j/avAK1Ppv+PwJV9VVm2P0/JFtYlU/n/D9sN+q2fiX6Pw44e41PNPc/Opt+Z/wN9T+x3vcSW1vzP9ofvWQJlvI/8sciQQBW8j80sfkQa17yPzg5qng2r/I/Oh14WJBh8z+VZjnpctj0P6CcrSuCqQBA\",\"dtype\":\"float64\",\"shape\":[75]},\"y\":{\"__ndarray__\":\"GhExyth1ND/Sv8nbtpRIP2vylNV0PVE/aTum7souWD/At0SJ8fVgPw3Iuahxymc/MSNhhJWvcD/bTfBN02d3P2zb5nxnaoA/CD5h5MAGhz8NmeH1TyaQP+zrCsc9p5Y/LbKd76fGnz/bLW5ISEmmPww9YvTcQq8/JV2OstnstT8Er5Y7M8G+P0c+r3jqkcU/5h99k6ZBzj88bCIzFzjVP4enV8oyxN0//yH99nXg5D8qOpLLf0jtP5kqGJXUifQ/c9cS8kHP/D+/DpwzojQEQIEmwoanVwxA4lgXt9HgE0BSSZ2AJuIbQAMJih9jjiNA5q4l5INuK0AwTKYKRj0zQNv5fmq8/DpAaCJseHrtQkB/+zpwzoxKQM3MzMzMeFJAZmZmZmZqWEAAAAAAAFxeQM3MzMzMJmJAmpmZmZkfZUBmZmZmZhhoQDMzMzMzEWtAAAAAAAAKbkBmZmZmZoFwQM3MzMzM/XFAMzMzMzN6c0CamZmZmfZ0QAAAAAAAc3ZAZmZmZmbvd0DNzMzMzGt5QDMzMzMz6HpAmpmZmZlkfEAAAAAAAOF9QGZmZmZmXX9AZmZmZuZsgECamZmZGSuBQM3MzMxM6YFAAAAAAICngkAzMzMzs2WDQGZmZmbmI4RAmpmZmRnihEDNzMzMTKCFQAAAAACAXoZAMzMzM7Mch0BmZmZm5tqHQJqZmZkZmYhAzczMzExXiUAAAAAAgBWKQDMzMzOz04pAZmZmZuaRi0CamZmZGVCMQM3MzMxMDo1AAAAAAIDMjUAzMzMzs4qOQGZmZmbmSI9A\",\"dtype\":\"float64\",\"shape\":[75]}},\"selected\":{\"id\":\"dbc29445-e1db-4dd3-8c8c-b1dff402999e\",\"type\":\"Selection\"},\"selection_policy\":{\"id\":\"767973c3-23fa-4652-a792-57867738df70\",\"type\":\"UnionRenderers\"}},\"id\":\"52ed5941-8f27-495a-8949-20cbcaf21c89\",\"type\":\"ColumnDataSource\"},{\"attributes\":{\"label\":{\"value\":\"CLIRAD (single-run) - CRD\"},\"renderers\":[{\"id\":\"9faca286-f0fd-4762-acc3-df3d1c274e21\",\"type\":\"GlyphRenderer\"},{\"id\":\"0ba50a89-edbc-49d3-ba61-60e5a3861cb8\",\"type\":\"GlyphRenderer\"}]},\"id\":\"f471f136-7ff2-4c6b-a19d-256a104923a4\",\"type\":\"LegendItem\"},{\"attributes\":{\"children\":[{\"id\":\"8506800d-6eab-4374-ad0f-af7c131069cf\",\"subtype\":\"Figure\",\"type\":\"Plot\"},{\"id\":\"e023e1be-0eee-48fe-813b-ab88c835be9a\",\"subtype\":\"Figure\",\"type\":\"Plot\"},{\"id\":\"9268abe5-284f-4946-bfc4-f7589922106a\",\"subtype\":\"Figure\",\"type\":\"Plot\"}]},\"id\":\"df0b150e-3361-4435-ada0-d803f6aa0923\",\"type\":\"Row\"},{\"attributes\":{\"callback\":null,\"data\":{\"x\":{\"__ndarray__\":\"+91suA2FRUDEhDu3BNNCQJGH2RpTtEFAEt02UCgdQEDVxLSQChY8QIhbJRqUKjdAYVUzOB7pMUDTM3KX3QQqQEK9BNB3SCJA6NjTUF6dGkBKgvPiLzsVQL0Sjm8nBhJA/DvUw9qUDUDkg8wWHTEDQPqPmlKB6f4/+3yWOi+sBUBavERq4UMMQLVhH27xnBBAfwWOfm3eE0DummfvB08ZQAaUixg3DCFArKetlIYCJ0Cs7TuihhkoQB+fXFuzhCRAQi/iYYwnIUBZuHizlFYcQC1AvJM7WRhAg3T9xFgsFEA0HebAUMcPQFKxsGLKOwlAuRjZ7ZQ7BUAmhydNp3kAQNl7ZywnsfQ/bePIZtQK5j8GONhrav7QPxDDyUYoicG/tW4zfJCS3r80aRMuziHYv2KS/mjbLl+/fwV3ehhXxT+O1XwUPq7YP7JEdD4ju+w/6QCXA6269j/1X/IRTNf9P3eY3xv76wBA9MudvM6EAUC4nZXZbkcCQJZjjxetTAJAN+UlS5cWAUCXT334HoEAQPbZ2qEuTwBAxddFMwkvAEAgAG4tOAQAQIwWdH+UnP8/BWSLQ0Y//z+ZMGChRAf/P7Wo5GjCDf8/mQ+WHj5C/z+7FkMl7WP/Px29Y3brZP8/oy7TqCBM/z/lglFOVvr+P18JCfCU2P0/cmhc+6zJ/D8DIuChwy/6P76YinnXm/c/Z9o81bPt9T/nsnvwZn70P/MHGE0DxPM/L8l+pxuV8z/YaqQova7zP2CtsiQ0EfQ/P+H9lMkD9T+yagFyKrv2P/6hXMS+pwFA\",\"dtype\":\"float64\",\"shape\":[75]},\"y\":{\"__ndarray__\":\"GhExyth1ND/Sv8nbtpRIP2vylNV0PVE/aTum7souWD/At0SJ8fVgPw3Iuahxymc/MSNhhJWvcD/bTfBN02d3P2zb5nxnaoA/CD5h5MAGhz8NmeH1TyaQP+zrCsc9p5Y/LbKd76fGnz/bLW5ISEmmPww9YvTcQq8/JV2OstnstT8Er5Y7M8G+P0c+r3jqkcU/5h99k6ZBzj88bCIzFzjVP4enV8oyxN0//yH99nXg5D8qOpLLf0jtP5kqGJXUifQ/c9cS8kHP/D+/DpwzojQEQIEmwoanVwxA4lgXt9HgE0BSSZ2AJuIbQAMJih9jjiNA5q4l5INuK0AwTKYKRj0zQNv5fmq8/DpAaCJseHrtQkB/+zpwzoxKQM3MzMzMeFJAZmZmZmZqWEAAAAAAAFxeQM3MzMzMJmJAmpmZmZkfZUBmZmZmZhhoQDMzMzMzEWtAAAAAAAAKbkBmZmZmZoFwQM3MzMzM/XFAMzMzMzN6c0CamZmZmfZ0QAAAAAAAc3ZAZmZmZmbvd0DNzMzMzGt5QDMzMzMz6HpAmpmZmZlkfEAAAAAAAOF9QGZmZmZmXX9AZmZmZuZsgECamZmZGSuBQM3MzMxM6YFAAAAAAICngkAzMzMzs2WDQGZmZmbmI4RAmpmZmRnihEDNzMzMTKCFQAAAAACAXoZAMzMzM7Mch0BmZmZm5tqHQJqZmZkZmYhAzczMzExXiUAAAAAAgBWKQDMzMzOz04pAZmZmZuaRi0CamZmZGVCMQM3MzMxMDo1AAAAAAIDMjUAzMzMzs4qOQGZmZmbmSI9A\",\"dtype\":\"float64\",\"shape\":[75]}},\"selected\":{\"id\":\"c6ace759-a5b5-46e3-bd89-a88e81f34c26\",\"type\":\"Selection\"},\"selection_policy\":{\"id\":\"6fcf9f7a-0fca-4057-8461-920d623bcbf6\",\"type\":\"UnionRenderers\"}},\"id\":\"d97c9556-2050-4764-9e5e-5e7b3e961160\",\"type\":\"ColumnDataSource\"},{\"attributes\":{\"ticker\":null},\"id\":\"85c90e95-c276-4f18-87a2-768968248a6a\",\"type\":\"LogTickFormatter\"},{\"attributes\":{\"toolbar\":{\"id\":\"75a5b91d-3e42-473e-ab69-96deee10c9b1\",\"type\":\"ProxyToolbar\"},\"toolbar_location\":\"above\"},\"id\":\"559fb90f-40d1-4fad-b9fc-b028a479e0bd\",\"type\":\"ToolbarBox\"},{\"attributes\":{\"active_drag\":\"auto\",\"active_inspect\":\"auto\",\"active_scroll\":\"auto\",\"active_tap\":\"auto\",\"tools\":[{\"id\":\"11b45481-c040-425a-bfda-7eae0c1da11e\",\"type\":\"PanTool\"},{\"id\":\"e6e741cc-5d2d-444f-9c2c-11d5df78a247\",\"type\":\"WheelZoomTool\"},{\"id\":\"385c0f14-ef7b-4aae-89bb-16cef0e3f797\",\"type\":\"BoxZoomTool\"},{\"id\":\"3103d917-8812-4b27-9c74-6b9ec4d9049b\",\"type\":\"SaveTool\"},{\"id\":\"12bbfddd-a0fe-407e-9e32-b6acbbaf3a09\",\"type\":\"ResetTool\"},{\"id\":\"dfbdbfa1-f545-4efc-abb9-b93881c2e4f0\",\"type\":\"HelpTool\"}]},\"id\":\"fb079599-9a6a-42b9-bdc7-7c6960c72643\",\"type\":\"Toolbar\"},{\"attributes\":{\"callback\":null,\"data\":{\"x\":{\"__ndarray__\":\"R/KIaN7AVEClCeJMyPNGQOvRhpxr30JAptxzhxx4PkA7SssMElA4QK6Bp3CyUDNAsVXpjES9LkBFhUV0+5coQMHYwqbbySNA6f09nM3nH0CaSd/3eYoZQDmgiAOW8BNAPYqARh3eDEBkm4vCgvr+P9D+5tWhQfY/P8DwKRnSAkBq38kb17ILQDT7IWuSsxFAUr2Rjm0FFkAinq3s9XgbQGCHwtYcqSFAG64kT303J0C7dRDneyooQD9JYrbK8yRA9S3bneHhIUAIymSuUMMcQIkHLe6VEBdAAau3cITREkA6CiNvkQIPQJU39ki7IQlAaAvwok1UA0BXLQiS4+L7P0xzDpJ2hPI/NNuPGMbJ5z91mUVYxqfSPxqwUPSxZca/G11peifD3L8QzNj5t2jTvwzOozTL360/SPJ4VI1VzD9KJ0nXEIncP8yDdlvHt+4/Et49nYLW9z++2teD4Jn+P+568eH/bwFALf5D9lmAAkCiZAicVOkCQPPT4jNKxwJAOjp3wTzBAUBSQsKNGisBQG4OmjqJwQBAJ3sZoHFuAEA5Ar0Sdi0AQGy4rw5+9f8/7W4nSrC3/z8mPr8zj4T/P4UYRHCQS/8/embVKYcF/z+5YXG+LLP+P/qb8BVUgf4/KvafTtyO/j/avAK1Ppv+PwJV9VVm2P0/JFtYlU/n/D9sN+q2fiX6Pw44e41PNPc/Opt+Z/wN9T+x3vcSW1vzP9ofvWQJlvI/8sciQQBW8j80sfkQa17yPzg5qng2r/I/Oh14WJBh8z+VZjnpctj0P6CcrSuCqQBA\",\"dtype\":\"float64\",\"shape\":[75]},\"y\":{\"__ndarray__\":\"GhExyth1ND/Sv8nbtpRIP2vylNV0PVE/aTum7souWD/At0SJ8fVgPw3Iuahxymc/MSNhhJWvcD/bTfBN02d3P2zb5nxnaoA/CD5h5MAGhz8NmeH1TyaQP+zrCsc9p5Y/LbKd76fGnz/bLW5ISEmmPww9YvTcQq8/JV2OstnstT8Er5Y7M8G+P0c+r3jqkcU/5h99k6ZBzj88bCIzFzjVP4enV8oyxN0//yH99nXg5D8qOpLLf0jtP5kqGJXUifQ/c9cS8kHP/D+/DpwzojQEQIEmwoanVwxA4lgXt9HgE0BSSZ2AJuIbQAMJih9jjiNA5q4l5INuK0AwTKYKRj0zQNv5fmq8/DpAaCJseHrtQkB/+zpwzoxKQM3MzMzMeFJAZmZmZmZqWEAAAAAAAFxeQM3MzMzMJmJAmpmZmZkfZUBmZmZmZhhoQDMzMzMzEWtAAAAAAAAKbkBmZmZmZoFwQM3MzMzM/XFAMzMzMzN6c0CamZmZmfZ0QAAAAAAAc3ZAZmZmZmbvd0DNzMzMzGt5QDMzMzMz6HpAmpmZmZlkfEAAAAAAAOF9QGZmZmZmXX9AZmZmZuZsgECamZmZGSuBQM3MzMxM6YFAAAAAAICngkAzMzMzs2WDQGZmZmbmI4RAmpmZmRnihEDNzMzMTKCFQAAAAACAXoZAMzMzM7Mch0BmZmZm5tqHQJqZmZkZmYhAzczMzExXiUAAAAAAgBWKQDMzMzOz04pAZmZmZuaRi0CamZmZGVCMQM3MzMxMDo1AAAAAAIDMjUAzMzMzs4qOQGZmZmbmSI9A\",\"dtype\":\"float64\",\"shape\":[75]}},\"selected\":{\"id\":\"0c3ff8cf-4a9a-4dc3-a2df-6a4e9a2522ad\",\"type\":\"Selection\"},\"selection_policy\":{\"id\":\"16811663-d17a-4812-9d5b-5a3c6c1c51e8\",\"type\":\"UnionRenderers\"}},\"id\":\"8ee2c82a-7e6f-472f-a43b-99d2f419577b\",\"type\":\"ColumnDataSource\"},{\"attributes\":{\"callback\":null,\"end\":0.01,\"start\":1020},\"id\":\"5f3992d3-5a94-4450-8402-80be979cff8b\",\"type\":\"Range1d\"},{\"attributes\":{},\"id\":\"5f52af27-4d20-4c4c-8bb3-2c6d83a59dab\",\"type\":\"Selection\"},{\"attributes\":{\"data_source\":{\"id\":\"8ee2c82a-7e6f-472f-a43b-99d2f419577b\",\"type\":\"ColumnDataSource\"},\"glyph\":{\"id\":\"973b9549-9b34-4052-8d4e-1abaab19c10e\",\"type\":\"Line\"},\"hover_glyph\":null,\"muted_glyph\":null,\"nonselection_glyph\":{\"id\":\"cc318279-a5db-4921-98cb-acb40e582965\",\"type\":\"Line\"},\"selection_glyph\":null,\"view\":{\"id\":\"c1376b83-e75c-4870-a7d2-1580e2ec2f7a\",\"type\":\"CDSView\"}},\"id\":\"75d97ced-1d69-4b2b-bc58-55ee3ac9e33d\",\"type\":\"GlyphRenderer\"},{\"attributes\":{},\"id\":\"089a00c3-0f52-44d0-b8f5-a8838be0cac1\",\"type\":\"UnionRenderers\"},{\"attributes\":{\"items\":[{\"id\":\"f471f136-7ff2-4c6b-a19d-256a104923a4\",\"type\":\"LegendItem\"}],\"label_text_font_size\":{\"value\":\"8pt\"},\"location\":\"top_center\",\"orientation\":\"horizontal\",\"plot\":{\"id\":\"9268abe5-284f-4946-bfc4-f7589922106a\",\"subtype\":\"Figure\",\"type\":\"Plot\"}},\"id\":\"9337d236-c2e7-4c49-bcdb-d94e2266d678\",\"type\":\"Legend\"},{\"attributes\":{\"line_alpha\":0.1,\"line_color\":\"#1f77b4\",\"line_width\":1.5,\"x\":{\"field\":\"x\"},\"y\":{\"field\":\"y\"}},\"id\":\"cc318279-a5db-4921-98cb-acb40e582965\",\"type\":\"Line\"},{\"attributes\":{},\"id\":\"d0144993-a900-49f8-9523-752df81018e9\",\"type\":\"PanTool\"},{\"attributes\":{},\"id\":\"47b36725-ebbc-4190-8899-0de030e1e4d5\",\"type\":\"UnionRenderers\"},{\"attributes\":{\"above\":[{\"id\":\"9337d236-c2e7-4c49-bcdb-d94e2266d678\",\"type\":\"Legend\"}],\"below\":[{\"id\":\"aead7a10-6259-4e2d-8aef-474c30f97ac4\",\"type\":\"LinearAxis\"}],\"left\":[{\"id\":\"fcfe4828-d440-4e7f-a424-a20fcaccb225\",\"type\":\"LogAxis\"}],\"plot_width\":300,\"renderers\":[{\"id\":\"aead7a10-6259-4e2d-8aef-474c30f97ac4\",\"type\":\"LinearAxis\"},{\"id\":\"8540cce4-91dd-42e5-ae30-0d7b472ef666\",\"type\":\"Grid\"},{\"id\":\"fcfe4828-d440-4e7f-a424-a20fcaccb225\",\"type\":\"LogAxis\"},{\"id\":\"a7ec3564-b461-4eb4-a805-d8e4f758c1a2\",\"type\":\"Grid\"},{\"id\":\"53aff50d-a047-4254-b4b1-099d6a9c3fcb\",\"type\":\"BoxAnnotation\"},{\"id\":\"9faca286-f0fd-4762-acc3-df3d1c274e21\",\"type\":\"GlyphRenderer\"},{\"id\":\"0ba50a89-edbc-49d3-ba61-60e5a3861cb8\",\"type\":\"GlyphRenderer\"},{\"id\":\"9337d236-c2e7-4c49-bcdb-d94e2266d678\",\"type\":\"Legend\"}],\"title\":{\"id\":\"b0e7d6e0-fee0-47a6-beee-d955d78d0520\",\"type\":\"Title\"},\"toolbar\":{\"id\":\"fb079599-9a6a-42b9-bdc7-7c6960c72643\",\"type\":\"Toolbar\"},\"toolbar_location\":null,\"x_range\":{\"id\":\"f4c3127b-cb3f-4939-93d4-f9f36885b565\",\"type\":\"Range1d\"},\"x_scale\":{\"id\":\"a3647f1d-42d3-46e4-86a4-27fb2e035f27\",\"type\":\"LinearScale\"},\"y_range\":{\"id\":\"5f3992d3-5a94-4450-8402-80be979cff8b\",\"type\":\"Range1d\"},\"y_scale\":{\"id\":\"f4651213-ae34-4e82-b657-57f43dcb91be\",\"type\":\"LogScale\"}},\"id\":\"9268abe5-284f-4946-bfc4-f7589922106a\",\"subtype\":\"Figure\",\"type\":\"Plot\"},{\"attributes\":{},\"id\":\"ca801334-5103-4627-ada8-bd5a2f94cd78\",\"type\":\"BasicTickFormatter\"},{\"attributes\":{},\"id\":\"16811663-d17a-4812-9d5b-5a3c6c1c51e8\",\"type\":\"UnionRenderers\"},{\"attributes\":{\"callback\":null,\"end\":12.208583273105388,\"start\":-0.6033023020843901},\"id\":\"5572553b-8639-4c0d-93a7-504ce9be4518\",\"type\":\"Range1d\"},{\"attributes\":{},\"id\":\"2226e2da-2afb-4348-b925-9f2274589040\",\"type\":\"UnionRenderers\"},{\"attributes\":{\"items\":[{\"id\":\"7edcc996-27c1-430b-8635-62c4f84e626d\",\"type\":\"LegendItem\"},{\"id\":\"3507479d-539e-437b-9766-ac20b3ff4cfd\",\"type\":\"LegendItem\"}],\"label_text_font_size\":{\"value\":\"8pt\"},\"location\":\"top_center\",\"orientation\":\"horizontal\",\"plot\":{\"id\":\"e023e1be-0eee-48fe-813b-ab88c835be9a\",\"subtype\":\"Figure\",\"type\":\"Plot\"}},\"id\":\"d4e0dded-148a-4334-bd34-829051d3bc4a\",\"type\":\"Legend\"},{\"attributes\":{\"line_alpha\":0.6,\"line_color\":\"#377eb8\",\"line_dash\":[6],\"line_width\":5,\"x\":{\"field\":\"x\"},\"y\":{\"field\":\"y\"}},\"id\":\"f9263db7-fd93-4f96-939b-3af0f9ca2e2e\",\"type\":\"Line\"},{\"attributes\":{\"line_color\":\"#4daf4a\",\"line_width\":1.5,\"x\":{\"field\":\"x\"},\"y\":{\"field\":\"y\"}},\"id\":\"973b9549-9b34-4052-8d4e-1abaab19c10e\",\"type\":\"Line\"},{\"attributes\":{\"plot\":null,\"text\":\"\"},\"id\":\"84b6cf1f-0a10-439b-842f-d160581324fc\",\"type\":\"Title\"},{\"attributes\":{\"children\":[{\"id\":\"559fb90f-40d1-4fad-b9fc-b028a479e0bd\",\"type\":\"ToolbarBox\"},{\"id\":\"75057a77-7fef-43ae-9d9e-17c464d6bf34\",\"type\":\"Column\"}]},\"id\":\"0e61efca-a809-4c61-87d4-d2c6d4f1448e\",\"type\":\"Column\"},{\"attributes\":{\"children\":[{\"id\":\"df0b150e-3361-4435-ada0-d803f6aa0923\",\"type\":\"Row\"}]},\"id\":\"75057a77-7fef-43ae-9d9e-17c464d6bf34\",\"type\":\"Column\"},{\"attributes\":{\"data_source\":{\"id\":\"ad7d2dab-3ad6-4ac4-893c-1b8994a6f32d\",\"type\":\"ColumnDataSource\"},\"glyph\":{\"id\":\"e5465629-f5ef-4b86-a0df-815749d5b932\",\"type\":\"Circle\"},\"hover_glyph\":null,\"muted_glyph\":null,\"nonselection_glyph\":{\"id\":\"152d1fdd-9783-4e99-8b47-e1f2eb67928a\",\"type\":\"Circle\"},\"selection_glyph\":null,\"view\":{\"id\":\"d1dfaa70-66f5-4115-9ce1-14dd144f1aab\",\"type\":\"CDSView\"}},\"id\":\"37962af9-e84f-45ff-878e-a8d9101658ea\",\"type\":\"GlyphRenderer\"},{\"attributes\":{},\"id\":\"59ac96f9-77d4-4221-85fb-7986e3c6fda5\",\"type\":\"BasicTickFormatter\"},{\"attributes\":{\"data_source\":{\"id\":\"d97c9556-2050-4764-9e5e-5e7b3e961160\",\"type\":\"ColumnDataSource\"},\"glyph\":{\"id\":\"f9263db7-fd93-4f96-939b-3af0f9ca2e2e\",\"type\":\"Line\"},\"hover_glyph\":null,\"muted_glyph\":null,\"nonselection_glyph\":{\"id\":\"78aab112-317d-4586-86e4-55f6c0e2c644\",\"type\":\"Line\"},\"selection_glyph\":null,\"view\":{\"id\":\"c9226795-2e5f-4d42-8955-3630d27d3d31\",\"type\":\"CDSView\"}},\"id\":\"dd898159-0589-4d71-be82-655ebc1d340d\",\"type\":\"GlyphRenderer\"},{\"attributes\":{\"source\":{\"id\":\"8ee2c82a-7e6f-472f-a43b-99d2f419577b\",\"type\":\"ColumnDataSource\"}},\"id\":\"c1376b83-e75c-4870-a7d2-1580e2ec2f7a\",\"type\":\"CDSView\"},{\"attributes\":{},\"id\":\"767973c3-23fa-4652-a792-57867738df70\",\"type\":\"UnionRenderers\"},{\"attributes\":{\"line_alpha\":0.1,\"line_color\":\"#1f77b4\",\"line_dash\":[6],\"line_width\":5,\"x\":{\"field\":\"x\"},\"y\":{\"field\":\"y\"}},\"id\":\"09ff5784-cacd-4480-93fb-4a39afe64128\",\"type\":\"Line\"},{\"attributes\":{},\"id\":\"6fcf9f7a-0fca-4057-8461-920d623bcbf6\",\"type\":\"UnionRenderers\"},{\"attributes\":{},\"id\":\"330d54e4-8771-4820-8255-746a75aea7fd\",\"type\":\"WheelZoomTool\"},{\"attributes\":{\"source\":{\"id\":\"d97c9556-2050-4764-9e5e-5e7b3e961160\",\"type\":\"ColumnDataSource\"}},\"id\":\"c9226795-2e5f-4d42-8955-3630d27d3d31\",\"type\":\"CDSView\"},{\"attributes\":{\"source\":{\"id\":\"ad7d2dab-3ad6-4ac4-893c-1b8994a6f32d\",\"type\":\"ColumnDataSource\"}},\"id\":\"d1dfaa70-66f5-4115-9ce1-14dd144f1aab\",\"type\":\"CDSView\"},{\"attributes\":{},\"id\":\"0c3ff8cf-4a9a-4dc3-a2df-6a4e9a2522ad\",\"type\":\"Selection\"},{\"attributes\":{\"plot\":null,\"text\":\"\"},\"id\":\"b0e7d6e0-fee0-47a6-beee-d955d78d0520\",\"type\":\"Title\"},{\"attributes\":{\"fill_alpha\":{\"value\":0.7},\"fill_color\":{\"value\":\"#4daf4a\"},\"line_alpha\":{\"value\":0.7},\"line_color\":{\"value\":\"#4daf4a\"},\"x\":{\"field\":\"x\"},\"y\":{\"field\":\"y\"}},\"id\":\"e5465629-f5ef-4b86-a0df-815749d5b932\",\"type\":\"Circle\"},{\"attributes\":{\"ticker\":null},\"id\":\"a4ab4f22-aa8d-4af8-b67e-56902dbcb79d\",\"type\":\"LogTickFormatter\"},{\"attributes\":{\"fill_alpha\":{\"value\":0.1},\"fill_color\":{\"value\":\"#1f77b4\"},\"line_alpha\":{\"value\":0.1},\"line_color\":{\"value\":\"#1f77b4\"},\"x\":{\"field\":\"x\"},\"y\":{\"field\":\"y\"}},\"id\":\"152d1fdd-9783-4e99-8b47-e1f2eb67928a\",\"type\":\"Circle\"},{\"attributes\":{},\"id\":\"825d08ba-8741-4bef-8b3a-5801c91e6d49\",\"type\":\"Selection\"},{\"attributes\":{\"callback\":null,\"data\":{\"x\":{\"__ndarray__\":\"R/KIaN7AVEClCeJMyPNGQOvRhpxr30JAptxzhxx4PkA7SssMElA4QK6Bp3CyUDNAsVXpjES9LkBFhUV0+5coQMHYwqbbySNA6f09nM3nH0CaSd/3eYoZQDmgiAOW8BNAPYqARh3eDEBkm4vCgvr+P9D+5tWhQfY/P8DwKRnSAkBq38kb17ILQDT7IWuSsxFAUr2Rjm0FFkAinq3s9XgbQGCHwtYcqSFAG64kT303J0C7dRDneyooQD9JYrbK8yRA9S3bneHhIUAIymSuUMMcQIkHLe6VEBdAAau3cITREkA6CiNvkQIPQJU39ki7IQlAaAvwok1UA0BXLQiS4+L7P0xzDpJ2hPI/NNuPGMbJ5z91mUVYxqfSPxqwUPSxZca/G11peifD3L8QzNj5t2jTvwzOozTL360/SPJ4VI1VzD9KJ0nXEIncP8yDdlvHt+4/Et49nYLW9z++2teD4Jn+P+568eH/bwFALf5D9lmAAkCiZAicVOkCQPPT4jNKxwJAOjp3wTzBAUBSQsKNGisBQG4OmjqJwQBAJ3sZoHFuAEA5Ar0Sdi0AQGy4rw5+9f8/7W4nSrC3/z8mPr8zj4T/P4UYRHCQS/8/embVKYcF/z+5YXG+LLP+P/qb8BVUgf4/KvafTtyO/j/avAK1Ppv+PwJV9VVm2P0/JFtYlU/n/D9sN+q2fiX6Pw44e41PNPc/Opt+Z/wN9T+x3vcSW1vzP9ofvWQJlvI/8sciQQBW8j80sfkQa17yPzg5qng2r/I/Oh14WJBh8z+VZjnpctj0P6CcrSuCqQBA\",\"dtype\":\"float64\",\"shape\":[75]},\"y\":{\"__ndarray__\":\"GhExyth1ND/Sv8nbtpRIP2vylNV0PVE/aTum7souWD/At0SJ8fVgPw3Iuahxymc/MSNhhJWvcD/bTfBN02d3P2zb5nxnaoA/CD5h5MAGhz8NmeH1TyaQP+zrCsc9p5Y/LbKd76fGnz/bLW5ISEmmPww9YvTcQq8/JV2OstnstT8Er5Y7M8G+P0c+r3jqkcU/5h99k6ZBzj88bCIzFzjVP4enV8oyxN0//yH99nXg5D8qOpLLf0jtP5kqGJXUifQ/c9cS8kHP/D+/DpwzojQEQIEmwoanVwxA4lgXt9HgE0BSSZ2AJuIbQAMJih9jjiNA5q4l5INuK0AwTKYKRj0zQNv5fmq8/DpAaCJseHrtQkB/+zpwzoxKQM3MzMzMeFJAZmZmZmZqWEAAAAAAAFxeQM3MzMzMJmJAmpmZmZkfZUBmZmZmZhhoQDMzMzMzEWtAAAAAAAAKbkBmZmZmZoFwQM3MzMzM/XFAMzMzMzN6c0CamZmZmfZ0QAAAAAAAc3ZAZmZmZmbvd0DNzMzMzGt5QDMzMzMz6HpAmpmZmZlkfEAAAAAAAOF9QGZmZmZmXX9AZmZmZuZsgECamZmZGSuBQM3MzMxM6YFAAAAAAICngkAzMzMzs2WDQGZmZmbmI4RAmpmZmRnihEDNzMzMTKCFQAAAAACAXoZAMzMzM7Mch0BmZmZm5tqHQJqZmZkZmYhAzczMzExXiUAAAAAAgBWKQDMzMzOz04pAZmZmZuaRi0CamZmZGVCMQM3MzMxMDo1AAAAAAIDMjUAzMzMzs4qOQGZmZmbmSI9A\",\"dtype\":\"float64\",\"shape\":[75]}},\"selected\":{\"id\":\"ac793b32-ac56-4377-bba2-a09cfcec1261\",\"type\":\"Selection\"},\"selection_policy\":{\"id\":\"2226e2da-2afb-4348-b925-9f2274589040\",\"type\":\"UnionRenderers\"}},\"id\":\"ad7d2dab-3ad6-4ac4-893c-1b8994a6f32d\",\"type\":\"ColumnDataSource\"},{\"attributes\":{},\"id\":\"94970017-0860-4f35-bdc2-7e9483e308c2\",\"type\":\"UnionRenderers\"},{\"attributes\":{\"fill_alpha\":{\"value\":0.1},\"fill_color\":{\"value\":\"#1f77b4\"},\"line_alpha\":{\"value\":0.1},\"line_color\":{\"value\":\"#1f77b4\"},\"x\":{\"field\":\"x\"},\"y\":{\"field\":\"y\"}},\"id\":\"ac4ab172-ae85-4e6b-86c7-5c79dacdd49c\",\"type\":\"Circle\"},{\"attributes\":{\"line_alpha\":0.1,\"line_color\":\"#1f77b4\",\"line_dash\":[6],\"line_width\":5,\"x\":{\"field\":\"x\"},\"y\":{\"field\":\"y\"}},\"id\":\"78aab112-317d-4586-86e4-55f6c0e2c644\",\"type\":\"Line\"},{\"attributes\":{\"label\":{\"value\":\"CRD\"},\"renderers\":[{\"id\":\"37962af9-e84f-45ff-878e-a8d9101658ea\",\"type\":\"GlyphRenderer\"},{\"id\":\"75d97ced-1d69-4b2b-bc58-55ee3ac9e33d\",\"type\":\"GlyphRenderer\"}]},\"id\":\"3507479d-539e-437b-9766-ac20b3ff4cfd\",\"type\":\"LegendItem\"},{\"attributes\":{\"callback\":null,\"data\":{\"x\":{\"__ndarray__\":\"lAalGK/8Q8CGE5pWDoMgwKSl1BqIsQLA3tedj0Ej/D/B1EsfxC8OQNnO7ksNzw5ASFT1jd9TBED76MoyIs7mP/K34Ws9Fui/B5SoLb0p9b9BHa9TKD3xv87XqD/ppt6/njd2qq/Xtj+IsTWs3Z7dP1IiZ/m+T+E/3uUthbDQ1j8unlvPSSGyPwqYKdAPatG/ob4dgAA44b+hGTDqb0/hvy5r3sa3nNO/PTeDO117ur+OD4jURPWgv4GIasHWxcu/WtYff6dK17+vawS7/i67v0WK81haitQ/KZhcREWt1T8/X2I46pe4PzW+eboZD4o/D9WQrnR0zj/ggxshrEHUP2hEyNKEZcE/X3xvHBvvq7/PFtbGvpWavye0G7YmcqM/gBmhHJD2nL+RdOrQWOSyv57C6w9C2a6/J7MHaNP5q7/hjWIWltauv5rxI9BByq+/qdJtmlm9sb8lWa88jlKov85OPMKYgLC//kbGNGdxv78v3VhOuDy0v/UW3BRHp66/jqAqyq5Utb8wV56ocj+1v8sdzS+mlqy/NrHRaTa0n7/4DIGn8p6UvyR46M5jOpa/WroCp4Eanr9uY8OXpFKfvyXpt68D546/m49UYHpbjj9RoDbaDBimP3AkZA7scqw/7g5nRouopz8Fg7FT5sWXPwCwL9oJTQc/RLPy+5mifb8AMtXr1YlkP+Yr2AP74Zk/tOXHt+32qz9ZQz3YvTCyP5KBroWe37I/zRPAZbbxsz80mqt6IQW1P3RCh8DaH7Y/QEBcyJMjuj/gQYCMeCu+P7+r4BWTx78/\",\"dtype\":\"float64\",\"shape\":[75]},\"y\":{\"__ndarray__\":\"GhExyth1ND/Sv8nbtpRIP2vylNV0PVE/aTum7souWD/At0SJ8fVgPw3Iuahxymc/MSNhhJWvcD/bTfBN02d3P2zb5nxnaoA/CD5h5MAGhz8NmeH1TyaQP+zrCsc9p5Y/LbKd76fGnz/bLW5ISEmmPww9YvTcQq8/JV2OstnstT8Er5Y7M8G+P0c+r3jqkcU/5h99k6ZBzj88bCIzFzjVP4enV8oyxN0//yH99nXg5D8qOpLLf0jtP5kqGJXUifQ/c9cS8kHP/D+/DpwzojQEQIEmwoanVwxA4lgXt9HgE0BSSZ2AJuIbQAMJih9jjiNA5q4l5INuK0AwTKYKRj0zQNv5fmq8/DpAaCJseHrtQkB/+zpwzoxKQM3MzMzMeFJAZmZmZmZqWEAAAAAAAFxeQM3MzMzMJmJAmpmZmZkfZUBmZmZmZhhoQDMzMzMzEWtAAAAAAAAKbkBmZmZmZoFwQM3MzMzM/XFAMzMzMzN6c0CamZmZmfZ0QAAAAAAAc3ZAZmZmZmbvd0DNzMzMzGt5QDMzMzMz6HpAmpmZmZlkfEAAAAAAAOF9QGZmZmZmXX9AZmZmZuZsgECamZmZGSuBQM3MzMxM6YFAAAAAAICngkAzMzMzs2WDQGZmZmbmI4RAmpmZmRnihEDNzMzMTKCFQAAAAACAXoZAMzMzM7Mch0BmZmZm5tqHQJqZmZkZmYhAzczMzExXiUAAAAAAgBWKQDMzMzOz04pAZmZmZuaRi0CamZmZGVCMQM3MzMxMDo1AAAAAAIDMjUAzMzMzs4qOQGZmZmbmSI9A\",\"dtype\":\"float64\",\"shape\":[75]}},\"selected\":{\"id\":\"5f52af27-4d20-4c4c-8bb3-2c6d83a59dab\",\"type\":\"Selection\"},\"selection_policy\":{\"id\":\"94970017-0860-4f35-bdc2-7e9483e308c2\",\"type\":\"UnionRenderers\"}},\"id\":\"4af61fe5-536a-437a-ad89-c1666a1589ec\",\"type\":\"ColumnDataSource\"},{\"attributes\":{\"source\":{\"id\":\"52ed5941-8f27-495a-8949-20cbcaf21c89\",\"type\":\"ColumnDataSource\"}},\"id\":\"b17b3a89-3a3d-4f46-abc7-7e2848df90c8\",\"type\":\"CDSView\"},{\"attributes\":{},\"id\":\"c6ace759-a5b5-46e3-bd89-a88e81f34c26\",\"type\":\"Selection\"},{\"attributes\":{\"callback\":null,\"data\":{\"x\":{\"__ndarray__\":\"+91suA2FRUDEhDu3BNNCQJGH2RpTtEFAEt02UCgdQEDVxLSQChY8QIhbJRqUKjdAYVUzOB7pMUDTM3KX3QQqQEK9BNB3SCJA6NjTUF6dGkBKgvPiLzsVQL0Sjm8nBhJA/DvUw9qUDUDkg8wWHTEDQPqPmlKB6f4/+3yWOi+sBUBavERq4UMMQLVhH27xnBBAfwWOfm3eE0DummfvB08ZQAaUixg3DCFArKetlIYCJ0Cs7TuihhkoQB+fXFuzhCRAQi/iYYwnIUBZuHizlFYcQC1AvJM7WRhAg3T9xFgsFEA0HebAUMcPQFKxsGLKOwlAuRjZ7ZQ7BUAmhydNp3kAQNl7ZywnsfQ/bePIZtQK5j8GONhrav7QPxDDyUYoicG/tW4zfJCS3r80aRMuziHYv2KS/mjbLl+/fwV3ehhXxT+O1XwUPq7YP7JEdD4ju+w/6QCXA6269j/1X/IRTNf9P3eY3xv76wBA9MudvM6EAUC4nZXZbkcCQJZjjxetTAJAN+UlS5cWAUCXT334HoEAQPbZ2qEuTwBAxddFMwkvAEAgAG4tOAQAQIwWdH+UnP8/BWSLQ0Y//z+ZMGChRAf/P7Wo5GjCDf8/mQ+WHj5C/z+7FkMl7WP/Px29Y3brZP8/oy7TqCBM/z/lglFOVvr+P18JCfCU2P0/cmhc+6zJ/D8DIuChwy/6P76YinnXm/c/Z9o81bPt9T/nsnvwZn70P/MHGE0DxPM/L8l+pxuV8z/YaqQova7zP2CtsiQ0EfQ/P+H9lMkD9T+yagFyKrv2P/6hXMS+pwFA\",\"dtype\":\"float64\",\"shape\":[75]},\"y\":{\"__ndarray__\":\"GhExyth1ND/Sv8nbtpRIP2vylNV0PVE/aTum7souWD/At0SJ8fVgPw3Iuahxymc/MSNhhJWvcD/bTfBN02d3P2zb5nxnaoA/CD5h5MAGhz8NmeH1TyaQP+zrCsc9p5Y/LbKd76fGnz/bLW5ISEmmPww9YvTcQq8/JV2OstnstT8Er5Y7M8G+P0c+r3jqkcU/5h99k6ZBzj88bCIzFzjVP4enV8oyxN0//yH99nXg5D8qOpLLf0jtP5kqGJXUifQ/c9cS8kHP/D+/DpwzojQEQIEmwoanVwxA4lgXt9HgE0BSSZ2AJuIbQAMJih9jjiNA5q4l5INuK0AwTKYKRj0zQNv5fmq8/DpAaCJseHrtQkB/+zpwzoxKQM3MzMzMeFJAZmZmZmZqWEAAAAAAAFxeQM3MzMzMJmJAmpmZmZkfZUBmZmZmZhhoQDMzMzMzEWtAAAAAAAAKbkBmZmZmZoFwQM3MzMzM/XFAMzMzMzN6c0CamZmZmfZ0QAAAAAAAc3ZAZmZmZmbvd0DNzMzMzGt5QDMzMzMz6HpAmpmZmZlkfEAAAAAAAOF9QGZmZmZmXX9AZmZmZuZsgECamZmZGSuBQM3MzMxM6YFAAAAAAICngkAzMzMzs2WDQGZmZmbmI4RAmpmZmRnihEDNzMzMTKCFQAAAAACAXoZAMzMzM7Mch0BmZmZm5tqHQJqZmZkZmYhAzczMzExXiUAAAAAAgBWKQDMzMzOz04pAZmZmZuaRi0CamZmZGVCMQM3MzMxMDo1AAAAAAIDMjUAzMzMzs4qOQGZmZmbmSI9A\",\"dtype\":\"float64\",\"shape\":[75]}},\"selected\":{\"id\":\"48d5af67-2b31-4949-bf07-20a3c62b8c6c\",\"type\":\"Selection\"},\"selection_policy\":{\"id\":\"55a5e4e8-f392-411e-b077-59615fed0b4e\",\"type\":\"UnionRenderers\"}},\"id\":\"d84cd77b-d378-4bdf-a555-d0a4691218ca\",\"type\":\"ColumnDataSource\"},{\"attributes\":{\"fill_alpha\":{\"value\":0.1},\"fill_color\":{\"value\":\"#1f77b4\"},\"line_alpha\":{\"value\":0.1},\"line_color\":{\"value\":\"#1f77b4\"},\"x\":{\"field\":\"x\"},\"y\":{\"field\":\"y\"}},\"id\":\"1284669d-395e-4a1d-b685-60a68dd91b05\",\"type\":\"Circle\"},{\"attributes\":{\"data_source\":{\"id\":\"feb4365f-cccf-4146-9a7d-e382257dd844\",\"type\":\"ColumnDataSource\"},\"glyph\":{\"id\":\"c68fc07f-6948-4c3c-b370-5c71f0763c94\",\"type\":\"Circle\"},\"hover_glyph\":null,\"muted_glyph\":null,\"nonselection_glyph\":{\"id\":\"ac4ab172-ae85-4e6b-86c7-5c79dacdd49c\",\"type\":\"Circle\"},\"selection_glyph\":null,\"view\":{\"id\":\"d69d1c7d-3e90-4c83-9197-122bbdd23134\",\"type\":\"CDSView\"}},\"id\":\"9faca286-f0fd-4762-acc3-df3d1c274e21\",\"type\":\"GlyphRenderer\"},{\"attributes\":{\"callback\":null,\"end\":0.01,\"start\":1020},\"id\":\"7bc16e73-fe14-4fdf-be8b-f5c4c5bf9496\",\"type\":\"Range1d\"},{\"attributes\":{\"source\":{\"id\":\"feb4365f-cccf-4146-9a7d-e382257dd844\",\"type\":\"ColumnDataSource\"}},\"id\":\"d69d1c7d-3e90-4c83-9197-122bbdd23134\",\"type\":\"CDSView\"},{\"attributes\":{\"data_source\":{\"id\":\"1e012edb-88e8-4bbd-ae2d-f20d461e0068\",\"type\":\"ColumnDataSource\"},\"glyph\":{\"id\":\"971173b2-33de-4fcd-ac9a-7d14f6eaa5af\",\"type\":\"Line\"},\"hover_glyph\":null,\"muted_glyph\":null,\"nonselection_glyph\":{\"id\":\"170cd9db-8154-4e88-9790-f783358738ae\",\"type\":\"Line\"},\"selection_glyph\":null,\"view\":{\"id\":\"3ef696a6-6425-4e17-8145-b2961612d8df\",\"type\":\"CDSView\"}},\"id\":\"7385f8d4-888e-4b10-bbb6-d193cebde08f\",\"type\":\"GlyphRenderer\"},{\"attributes\":{\"fill_alpha\":{\"value\":0.7},\"fill_color\":{\"value\":\"#984ea3\"},\"line_alpha\":{\"value\":0.7},\"line_color\":{\"value\":\"#984ea3\"},\"x\":{\"field\":\"x\"},\"y\":{\"field\":\"y\"}},\"id\":\"c68fc07f-6948-4c3c-b370-5c71f0763c94\",\"type\":\"Circle\"},{\"attributes\":{\"active_drag\":\"auto\",\"active_inspect\":\"auto\",\"active_scroll\":\"auto\",\"active_tap\":\"auto\",\"tools\":[{\"id\":\"d0144993-a900-49f8-9523-752df81018e9\",\"type\":\"PanTool\"},{\"id\":\"330d54e4-8771-4820-8255-746a75aea7fd\",\"type\":\"WheelZoomTool\"},{\"id\":\"7ea206f5-5449-43b9-b5cc-9fbbd271a5a7\",\"type\":\"BoxZoomTool\"},{\"id\":\"5213ca8d-b1bd-4988-92ed-59605b74538e\",\"type\":\"SaveTool\"},{\"id\":\"ae24e632-be7d-4bee-af8d-fc597f5b3a9a\",\"type\":\"ResetTool\"},{\"id\":\"a4c68036-e171-4ddc-a675-5fbdf9a81e94\",\"type\":\"HelpTool\"}]},\"id\":\"b39f03b7-0cbb-4a6b-8e37-36fd3fcfd565\",\"type\":\"Toolbar\"},{\"attributes\":{\"line_alpha\":0.1,\"line_color\":\"#1f77b4\",\"line_width\":1.5,\"x\":{\"field\":\"x\"},\"y\":{\"field\":\"y\"}},\"id\":\"170cd9db-8154-4e88-9790-f783358738ae\",\"type\":\"Line\"},{\"attributes\":{\"source\":{\"id\":\"d84cd77b-d378-4bdf-a555-d0a4691218ca\",\"type\":\"ColumnDataSource\"}},\"id\":\"6c44acc0-65b9-40f2-9f54-60ea57cf84a8\",\"type\":\"CDSView\"},{\"attributes\":{\"fill_alpha\":{\"value\":0.7},\"fill_color\":{\"value\":\"#4daf4a\"},\"line_alpha\":{\"value\":0.7},\"line_color\":{\"value\":\"#4daf4a\"},\"x\":{\"field\":\"x\"},\"y\":{\"field\":\"y\"}},\"id\":\"ebca53f9-b501-44b1-8422-15a1b59c128d\",\"type\":\"Circle\"},{\"attributes\":{\"callback\":null,\"data\":{\"x\":{\"__ndarray__\":\"lAalGK/8Q8CGE5pWDoMgwKSl1BqIsQLA3tedj0Ej/D/B1EsfxC8OQNnO7ksNzw5ASFT1jd9TBED76MoyIs7mP/K34Ws9Fui/B5SoLb0p9b9BHa9TKD3xv87XqD/ppt6/njd2qq/Xtj+IsTWs3Z7dP1IiZ/m+T+E/3uUthbDQ1j8unlvPSSGyPwqYKdAPatG/ob4dgAA44b+hGTDqb0/hvy5r3sa3nNO/PTeDO117ur+OD4jURPWgv4GIasHWxcu/WtYff6dK17+vawS7/i67v0WK81haitQ/KZhcREWt1T8/X2I46pe4PzW+eboZD4o/D9WQrnR0zj/ggxshrEHUP2hEyNKEZcE/X3xvHBvvq7/PFtbGvpWavye0G7YmcqM/gBmhHJD2nL+RdOrQWOSyv57C6w9C2a6/J7MHaNP5q7/hjWIWltauv5rxI9BByq+/qdJtmlm9sb8lWa88jlKov85OPMKYgLC//kbGNGdxv78v3VhOuDy0v/UW3BRHp66/jqAqyq5Utb8wV56ocj+1v8sdzS+mlqy/NrHRaTa0n7/4DIGn8p6UvyR46M5jOpa/WroCp4Eanr9uY8OXpFKfvyXpt68D546/m49UYHpbjj9RoDbaDBimP3AkZA7scqw/7g5nRouopz8Fg7FT5sWXPwCwL9oJTQc/RLPy+5mifb8AMtXr1YlkP+Yr2AP74Zk/tOXHt+32qz9ZQz3YvTCyP5KBroWe37I/zRPAZbbxsz80mqt6IQW1P3RCh8DaH7Y/QEBcyJMjuj/gQYCMeCu+P7+r4BWTx78/\",\"dtype\":\"float64\",\"shape\":[75]},\"y\":{\"__ndarray__\":\"GhExyth1ND/Sv8nbtpRIP2vylNV0PVE/aTum7souWD/At0SJ8fVgPw3Iuahxymc/MSNhhJWvcD/bTfBN02d3P2zb5nxnaoA/CD5h5MAGhz8NmeH1TyaQP+zrCsc9p5Y/LbKd76fGnz/bLW5ISEmmPww9YvTcQq8/JV2OstnstT8Er5Y7M8G+P0c+r3jqkcU/5h99k6ZBzj88bCIzFzjVP4enV8oyxN0//yH99nXg5D8qOpLLf0jtP5kqGJXUifQ/c9cS8kHP/D+/DpwzojQEQIEmwoanVwxA4lgXt9HgE0BSSZ2AJuIbQAMJih9jjiNA5q4l5INuK0AwTKYKRj0zQNv5fmq8/DpAaCJseHrtQkB/+zpwzoxKQM3MzMzMeFJAZmZmZmZqWEAAAAAAAFxeQM3MzMzMJmJAmpmZmZkfZUBmZmZmZhhoQDMzMzMzEWtAAAAAAAAKbkBmZmZmZoFwQM3MzMzM/XFAMzMzMzN6c0CamZmZmfZ0QAAAAAAAc3ZAZmZmZmbvd0DNzMzMzGt5QDMzMzMz6HpAmpmZmZlkfEAAAAAAAOF9QGZmZmZmXX9AZmZmZuZsgECamZmZGSuBQM3MzMxM6YFAAAAAAICngkAzMzMzs2WDQGZmZmbmI4RAmpmZmRnihEDNzMzMTKCFQAAAAACAXoZAMzMzM7Mch0BmZmZm5tqHQJqZmZkZmYhAzczMzExXiUAAAAAAgBWKQDMzMzOz04pAZmZmZuaRi0CamZmZGVCMQM3MzMxMDo1AAAAAAIDMjUAzMzMzs4qOQGZmZmbmSI9A\",\"dtype\":\"float64\",\"shape\":[75]}},\"selected\":{\"id\":\"996601f4-c18b-4fff-a83f-1f7a58dfd2ac\",\"type\":\"Selection\"},\"selection_policy\":{\"id\":\"089a00c3-0f52-44d0-b8f5-a8838be0cac1\",\"type\":\"UnionRenderers\"}},\"id\":\"feb4365f-cccf-4146-9a7d-e382257dd844\",\"type\":\"ColumnDataSource\"},{\"attributes\":{\"data_source\":{\"id\":\"52ed5941-8f27-495a-8949-20cbcaf21c89\",\"type\":\"ColumnDataSource\"},\"glyph\":{\"id\":\"ebca53f9-b501-44b1-8422-15a1b59c128d\",\"type\":\"Circle\"},\"hover_glyph\":null,\"muted_glyph\":null,\"nonselection_glyph\":{\"id\":\"1284669d-395e-4a1d-b685-60a68dd91b05\",\"type\":\"Circle\"},\"selection_glyph\":null,\"view\":{\"id\":\"b17b3a89-3a3d-4f46-abc7-7e2848df90c8\",\"type\":\"CDSView\"}},\"id\":\"4b362d2f-d26c-49df-b4c2-e01c955cc186\",\"type\":\"GlyphRenderer\"},{\"attributes\":{\"callback\":null,\"end\":2.3923471759882906,\"start\":-0.5061118456772901},\"id\":\"a934eea8-a8e5-4420-b9a6-1734a0403165\",\"type\":\"Range1d\"},{\"attributes\":{\"label\":{\"value\":\"CRD\"},\"renderers\":[{\"id\":\"4b362d2f-d26c-49df-b4c2-e01c955cc186\",\"type\":\"GlyphRenderer\"},{\"id\":\"7385f8d4-888e-4b10-bbb6-d193cebde08f\",\"type\":\"GlyphRenderer\"}]},\"id\":\"5812075f-c466-4736-a672-823ecd634c24\",\"type\":\"LegendItem\"},{\"attributes\":{},\"id\":\"e6e741cc-5d2d-444f-9c2c-11d5df78a247\",\"type\":\"WheelZoomTool\"},{\"attributes\":{},\"id\":\"8e306059-d36e-4366-8952-256156e55079\",\"type\":\"LinearScale\"},{\"attributes\":{},\"id\":\"b388d7d9-ae35-47bd-9594-981106da6867\",\"type\":\"BasicTicker\"},{\"attributes\":{\"label\":{\"value\":\"CLIRAD (single-run)\"},\"renderers\":[{\"id\":\"052d80d9-b603-4862-b0f4-dd1202ce985c\",\"type\":\"GlyphRenderer\"}]},\"id\":\"cb74b077-ec96-4e45-b231-b7dc0b0df39a\",\"type\":\"LegendItem\"},{\"attributes\":{\"axis_label\":\"pressure [mb]\",\"formatter\":{\"id\":\"85c90e95-c276-4f18-87a2-768968248a6a\",\"type\":\"LogTickFormatter\"},\"plot\":{\"id\":\"9268abe5-284f-4946-bfc4-f7589922106a\",\"subtype\":\"Figure\",\"type\":\"Plot\"},\"ticker\":{\"id\":\"e861f459-2abe-45c1-b57a-ed598a8f1ed2\",\"type\":\"LogTicker\"}},\"id\":\"fcfe4828-d440-4e7f-a424-a20fcaccb225\",\"type\":\"LogAxis\"},{\"attributes\":{\"active_drag\":\"auto\",\"active_inspect\":\"auto\",\"active_scroll\":\"auto\",\"active_tap\":\"auto\",\"tools\":[{\"id\":\"7ff5a042-77e0-420e-934b-4c29956e3645\",\"type\":\"PanTool\"},{\"id\":\"69d341a8-2219-4136-8654-e0e6fed5d7a1\",\"type\":\"WheelZoomTool\"},{\"id\":\"ba33bacb-d1a1-4c21-af24-5ec8feebf69a\",\"type\":\"BoxZoomTool\"},{\"id\":\"37ccc64b-9bf0-4182-ad93-4659b05277f0\",\"type\":\"SaveTool\"},{\"id\":\"0bb315e7-96ff-43b3-94ea-3060531cc0f6\",\"type\":\"ResetTool\"},{\"id\":\"f64c7d67-e4ce-4583-9d8d-70f9b470309f\",\"type\":\"HelpTool\"}]},\"id\":\"80518f7e-a2be-410a-9051-9a1c77484728\",\"type\":\"Toolbar\"},{\"attributes\":{\"overlay\":{\"id\":\"d1e09ff6-0fa5-4f66-af2a-abb4744f98cd\",\"type\":\"BoxAnnotation\"}},\"id\":\"7ea206f5-5449-43b9-b5cc-9fbbd271a5a7\",\"type\":\"BoxZoomTool\"},{\"attributes\":{},\"id\":\"f64c7d67-e4ce-4583-9d8d-70f9b470309f\",\"type\":\"HelpTool\"},{\"attributes\":{},\"id\":\"7ff5a042-77e0-420e-934b-4c29956e3645\",\"type\":\"PanTool\"},{\"attributes\":{},\"id\":\"a3647f1d-42d3-46e4-86a4-27fb2e035f27\",\"type\":\"LinearScale\"},{\"attributes\":{},\"id\":\"5213ca8d-b1bd-4988-92ed-59605b74538e\",\"type\":\"SaveTool\"},{\"attributes\":{\"data_source\":{\"id\":\"d84cd77b-d378-4bdf-a555-d0a4691218ca\",\"type\":\"ColumnDataSource\"},\"glyph\":{\"id\":\"818b59e4-c8af-46bd-a2e7-7b83c1665b5d\",\"type\":\"Line\"},\"hover_glyph\":null,\"muted_glyph\":null,\"nonselection_glyph\":{\"id\":\"09ff5784-cacd-4480-93fb-4a39afe64128\",\"type\":\"Line\"},\"selection_glyph\":null,\"view\":{\"id\":\"6c44acc0-65b9-40f2-9f54-60ea57cf84a8\",\"type\":\"CDSView\"}},\"id\":\"052d80d9-b603-4862-b0f4-dd1202ce985c\",\"type\":\"GlyphRenderer\"},{\"attributes\":{},\"id\":\"0bb315e7-96ff-43b3-94ea-3060531cc0f6\",\"type\":\"ResetTool\"},{\"attributes\":{\"line_color\":\"#4daf4a\",\"line_width\":1.5,\"x\":{\"field\":\"x\"},\"y\":{\"field\":\"y\"}},\"id\":\"971173b2-33de-4fcd-ac9a-7d14f6eaa5af\",\"type\":\"Line\"},{\"attributes\":{\"plot\":{\"id\":\"8506800d-6eab-4374-ad0f-af7c131069cf\",\"subtype\":\"Figure\",\"type\":\"Plot\"},\"ticker\":{\"id\":\"27b62274-113f-4f2c-83bd-6ae5b7d9d68f\",\"type\":\"BasicTicker\"}},\"id\":\"55acfbd6-b06b-44c3-b314-35ffcda314d3\",\"type\":\"Grid\"},{\"attributes\":{\"overlay\":{\"id\":\"53aff50d-a047-4254-b4b1-099d6a9c3fcb\",\"type\":\"BoxAnnotation\"}},\"id\":\"385c0f14-ef7b-4aae-89bb-16cef0e3f797\",\"type\":\"BoxZoomTool\"},{\"attributes\":{},\"id\":\"f4651213-ae34-4e82-b657-57f43dcb91be\",\"type\":\"LogScale\"},{\"attributes\":{\"overlay\":{\"id\":\"9d5847f8-594e-45fd-ad83-641aef01d830\",\"type\":\"BoxAnnotation\"}},\"id\":\"ba33bacb-d1a1-4c21-af24-5ec8feebf69a\",\"type\":\"BoxZoomTool\"},{\"attributes\":{},\"id\":\"27b62274-113f-4f2c-83bd-6ae5b7d9d68f\",\"type\":\"BasicTicker\"},{\"attributes\":{},\"id\":\"cfdbf278-9fd0-4f50-945d-426459022244\",\"type\":\"LinearScale\"},{\"attributes\":{\"line_alpha\":0.1,\"line_color\":\"#1f77b4\",\"line_width\":1.5,\"x\":{\"field\":\"x\"},\"y\":{\"field\":\"y\"}},\"id\":\"bfb17ffc-6850-4d10-b958-d5204fd36190\",\"type\":\"Line\"},{\"attributes\":{},\"id\":\"37ccc64b-9bf0-4182-ad93-4659b05277f0\",\"type\":\"SaveTool\"},{\"attributes\":{\"bottom_units\":\"screen\",\"fill_alpha\":{\"value\":0.5},\"fill_color\":{\"value\":\"lightgrey\"},\"left_units\":\"screen\",\"level\":\"overlay\",\"line_alpha\":{\"value\":1.0},\"line_color\":{\"value\":\"black\"},\"line_dash\":[4,4],\"line_width\":{\"value\":2},\"plot\":null,\"render_mode\":\"css\",\"right_units\":\"screen\",\"top_units\":\"screen\"},\"id\":\"9d5847f8-594e-45fd-ad83-641aef01d830\",\"type\":\"BoxAnnotation\"},{\"attributes\":{},\"id\":\"dbc29445-e1db-4dd3-8c8c-b1dff402999e\",\"type\":\"Selection\"},{\"attributes\":{\"bottom_units\":\"screen\",\"fill_alpha\":{\"value\":0.5},\"fill_color\":{\"value\":\"lightgrey\"},\"left_units\":\"screen\",\"level\":\"overlay\",\"line_alpha\":{\"value\":1.0},\"line_color\":{\"value\":\"black\"},\"line_dash\":[4,4],\"line_width\":{\"value\":2},\"plot\":null,\"render_mode\":\"css\",\"right_units\":\"screen\",\"top_units\":\"screen\"},\"id\":\"53aff50d-a047-4254-b4b1-099d6a9c3fcb\",\"type\":\"BoxAnnotation\"},{\"attributes\":{},\"id\":\"69d341a8-2219-4136-8654-e0e6fed5d7a1\",\"type\":\"WheelZoomTool\"},{\"attributes\":{\"label\":{\"value\":\"CLIRAD (single-run)\"},\"renderers\":[{\"id\":\"dd898159-0589-4d71-be82-655ebc1d340d\",\"type\":\"GlyphRenderer\"}]},\"id\":\"7edcc996-27c1-430b-8635-62c4f84e626d\",\"type\":\"LegendItem\"},{\"attributes\":{\"line_alpha\":0.8,\"line_color\":\"#984ea3\",\"line_width\":1.5,\"x\":{\"field\":\"x\"},\"y\":{\"field\":\"y\"}},\"id\":\"bcf60603-c410-4c25-9c4b-1b17049aaf23\",\"type\":\"Line\"},{\"attributes\":{},\"id\":\"12bbfddd-a0fe-407e-9e32-b6acbbaf3a09\",\"type\":\"ResetTool\"},{\"attributes\":{\"axis_label\":\"cooling rate [K/day]\",\"formatter\":{\"id\":\"1eeade5d-3a9d-491c-9af8-9df98a39c893\",\"type\":\"BasicTickFormatter\"},\"plot\":{\"id\":\"8506800d-6eab-4374-ad0f-af7c131069cf\",\"subtype\":\"Figure\",\"type\":\"Plot\"},\"ticker\":{\"id\":\"27b62274-113f-4f2c-83bd-6ae5b7d9d68f\",\"type\":\"BasicTicker\"}},\"id\":\"89ba0823-c570-48c0-80f9-088079e6d02d\",\"type\":\"LinearAxis\"},{\"attributes\":{},\"id\":\"3103d917-8812-4b27-9c74-6b9ec4d9049b\",\"type\":\"SaveTool\"},{\"attributes\":{},\"id\":\"11b45481-c040-425a-bfda-7eae0c1da11e\",\"type\":\"PanTool\"},{\"attributes\":{\"num_minor_ticks\":10},\"id\":\"e861f459-2abe-45c1-b57a-ed598a8f1ed2\",\"type\":\"LogTicker\"},{\"attributes\":{\"axis_label\":\"cooling rate [K/day]\",\"formatter\":{\"id\":\"59ac96f9-77d4-4221-85fb-7986e3c6fda5\",\"type\":\"BasicTickFormatter\"},\"plot\":{\"id\":\"9268abe5-284f-4946-bfc4-f7589922106a\",\"subtype\":\"Figure\",\"type\":\"Plot\"},\"ticker\":{\"id\":\"e2612805-f2fd-4e36-9119-05c98058bf44\",\"type\":\"BasicTicker\"}},\"id\":\"aead7a10-6259-4e2d-8aef-474c30f97ac4\",\"type\":\"LinearAxis\"},{\"attributes\":{},\"id\":\"d4edac21-f20b-4672-ac71-9ff93d4d5b30\",\"type\":\"BasicTicker\"},{\"attributes\":{\"axis_label\":\"pressure [mb]\",\"formatter\":{\"id\":\"a4ab4f22-aa8d-4af8-b67e-56902dbcb79d\",\"type\":\"LogTickFormatter\"},\"plot\":{\"id\":\"e023e1be-0eee-48fe-813b-ab88c835be9a\",\"subtype\":\"Figure\",\"type\":\"Plot\"},\"ticker\":{\"id\":\"4b15f2ad-f061-4499-bdfc-e2d69e24b8af\",\"type\":\"LogTicker\"}},\"id\":\"c63a5f31-5484-4d96-b115-98863740fe49\",\"type\":\"LogAxis\"},{\"attributes\":{},\"id\":\"e2612805-f2fd-4e36-9119-05c98058bf44\",\"type\":\"BasicTicker\"},{\"attributes\":{\"dimension\":1,\"plot\":{\"id\":\"8506800d-6eab-4374-ad0f-af7c131069cf\",\"subtype\":\"Figure\",\"type\":\"Plot\"},\"ticker\":{\"id\":\"b388d7d9-ae35-47bd-9594-981106da6867\",\"type\":\"BasicTicker\"}},\"id\":\"d4351079-99ad-4b00-8065-3fc87d9b80f8\",\"type\":\"Grid\"},{\"attributes\":{\"plot\":{\"id\":\"9268abe5-284f-4946-bfc4-f7589922106a\",\"subtype\":\"Figure\",\"type\":\"Plot\"},\"ticker\":{\"id\":\"e2612805-f2fd-4e36-9119-05c98058bf44\",\"type\":\"BasicTicker\"}},\"id\":\"8540cce4-91dd-42e5-ae30-0d7b472ef666\",\"type\":\"Grid\"},{\"attributes\":{\"dimension\":1,\"plot\":{\"id\":\"9268abe5-284f-4946-bfc4-f7589922106a\",\"subtype\":\"Figure\",\"type\":\"Plot\"},\"ticker\":{\"id\":\"e861f459-2abe-45c1-b57a-ed598a8f1ed2\",\"type\":\"LogTicker\"}},\"id\":\"a7ec3564-b461-4eb4-a805-d8e4f758c1a2\",\"type\":\"Grid\"},{\"attributes\":{},\"id\":\"999b34ec-f773-4a4b-88ae-29324e0e2e49\",\"type\":\"LinearScale\"},{\"attributes\":{\"axis_label\":\"pressure [mb]\",\"formatter\":{\"id\":\"2427d20a-786b-443b-ad5b-503880c84adb\",\"type\":\"BasicTickFormatter\"},\"plot\":{\"id\":\"8506800d-6eab-4374-ad0f-af7c131069cf\",\"subtype\":\"Figure\",\"type\":\"Plot\"},\"ticker\":{\"id\":\"b388d7d9-ae35-47bd-9594-981106da6867\",\"type\":\"BasicTicker\"}},\"id\":\"8b19d856-8aab-4efd-b73f-e5bbb76262f9\",\"type\":\"LinearAxis\"},{\"attributes\":{\"callback\":null,\"data\":{\"x\":{\"__ndarray__\":\"R/KIaN7AVEClCeJMyPNGQOvRhpxr30JAptxzhxx4PkA7SssMElA4QK6Bp3CyUDNAsVXpjES9LkBFhUV0+5coQMHYwqbbySNA6f09nM3nH0CaSd/3eYoZQDmgiAOW8BNAPYqARh3eDEBkm4vCgvr+P9D+5tWhQfY/P8DwKRnSAkBq38kb17ILQDT7IWuSsxFAUr2Rjm0FFkAinq3s9XgbQGCHwtYcqSFAG64kT303J0C7dRDneyooQD9JYrbK8yRA9S3bneHhIUAIymSuUMMcQIkHLe6VEBdAAau3cITREkA6CiNvkQIPQJU39ki7IQlAaAvwok1UA0BXLQiS4+L7P0xzDpJ2hPI/NNuPGMbJ5z91mUVYxqfSPxqwUPSxZca/G11peifD3L8QzNj5t2jTvwzOozTL360/SPJ4VI1VzD9KJ0nXEIncP8yDdlvHt+4/Et49nYLW9z++2teD4Jn+P+568eH/bwFALf5D9lmAAkCiZAicVOkCQPPT4jNKxwJAOjp3wTzBAUBSQsKNGisBQG4OmjqJwQBAJ3sZoHFuAEA5Ar0Sdi0AQGy4rw5+9f8/7W4nSrC3/z8mPr8zj4T/P4UYRHCQS/8/embVKYcF/z+5YXG+LLP+P/qb8BVUgf4/KvafTtyO/j/avAK1Ppv+PwJV9VVm2P0/JFtYlU/n/D9sN+q2fiX6Pw44e41PNPc/Opt+Z/wN9T+x3vcSW1vzP9ofvWQJlvI/8sciQQBW8j80sfkQa17yPzg5qng2r/I/Oh14WJBh8z+VZjnpctj0P6CcrSuCqQBA\",\"dtype\":\"float64\",\"shape\":[75]},\"y\":{\"__ndarray__\":\"GhExyth1ND/Sv8nbtpRIP2vylNV0PVE/aTum7souWD/At0SJ8fVgPw3Iuahxymc/MSNhhJWvcD/bTfBN02d3P2zb5nxnaoA/CD5h5MAGhz8NmeH1TyaQP+zrCsc9p5Y/LbKd76fGnz/bLW5ISEmmPww9YvTcQq8/JV2OstnstT8Er5Y7M8G+P0c+r3jqkcU/5h99k6ZBzj88bCIzFzjVP4enV8oyxN0//yH99nXg5D8qOpLLf0jtP5kqGJXUifQ/c9cS8kHP/D+/DpwzojQEQIEmwoanVwxA4lgXt9HgE0BSSZ2AJuIbQAMJih9jjiNA5q4l5INuK0AwTKYKRj0zQNv5fmq8/DpAaCJseHrtQkB/+zpwzoxKQM3MzMzMeFJAZmZmZmZqWEAAAAAAAFxeQM3MzMzMJmJAmpmZmZkfZUBmZmZmZhhoQDMzMzMzEWtAAAAAAAAKbkBmZmZmZoFwQM3MzMzM/XFAMzMzMzN6c0CamZmZmfZ0QAAAAAAAc3ZAZmZmZmbvd0DNzMzMzGt5QDMzMzMz6HpAmpmZmZlkfEAAAAAAAOF9QGZmZmZmXX9AZmZmZuZsgECamZmZGSuBQM3MzMxM6YFAAAAAAICngkAzMzMzs2WDQGZmZmbmI4RAmpmZmRnihEDNzMzMTKCFQAAAAACAXoZAMzMzM7Mch0BmZmZm5tqHQJqZmZkZmYhAzczMzExXiUAAAAAAgBWKQDMzMzOz04pAZmZmZuaRi0CamZmZGVCMQM3MzMxMDo1AAAAAAIDMjUAzMzMzs4qOQGZmZmbmSI9A\",\"dtype\":\"float64\",\"shape\":[75]}},\"selected\":{\"id\":\"825d08ba-8741-4bef-8b3a-5801c91e6d49\",\"type\":\"Selection\"},\"selection_policy\":{\"id\":\"47b36725-ebbc-4190-8899-0de030e1e4d5\",\"type\":\"UnionRenderers\"}},\"id\":\"1e012edb-88e8-4bbd-ae2d-f20d461e0068\",\"type\":\"ColumnDataSource\"},{\"attributes\":{},\"id\":\"4cf24b3e-e80a-4fce-8a19-f41f548cc0be\",\"type\":\"LogScale\"},{\"attributes\":{},\"id\":\"55a5e4e8-f392-411e-b077-59615fed0b4e\",\"type\":\"UnionRenderers\"},{\"attributes\":{\"dimension\":1,\"plot\":{\"id\":\"e023e1be-0eee-48fe-813b-ab88c835be9a\",\"subtype\":\"Figure\",\"type\":\"Plot\"},\"ticker\":{\"id\":\"4b15f2ad-f061-4499-bdfc-e2d69e24b8af\",\"type\":\"LogTicker\"}},\"id\":\"177d1955-3f51-4ef0-8ce8-889dd47477e5\",\"type\":\"Grid\"},{\"attributes\":{\"axis_label\":\"cooling rate [K/day]\",\"formatter\":{\"id\":\"ca801334-5103-4627-ada8-bd5a2f94cd78\",\"type\":\"BasicTickFormatter\"},\"plot\":{\"id\":\"e023e1be-0eee-48fe-813b-ab88c835be9a\",\"subtype\":\"Figure\",\"type\":\"Plot\"},\"ticker\":{\"id\":\"d4edac21-f20b-4672-ac71-9ff93d4d5b30\",\"type\":\"BasicTicker\"}},\"id\":\"602eb224-6350-4941-818b-4aebc675f6a8\",\"type\":\"LinearAxis\"},{\"attributes\":{\"callback\":null,\"end\":0.01,\"start\":1020},\"id\":\"019367c3-a146-49fd-928e-826763a54914\",\"type\":\"Range1d\"},{\"attributes\":{\"items\":[{\"id\":\"cb74b077-ec96-4e45-b231-b7dc0b0df39a\",\"type\":\"LegendItem\"},{\"id\":\"5812075f-c466-4736-a672-823ecd634c24\",\"type\":\"LegendItem\"}],\"label_text_font_size\":{\"value\":\"8pt\"},\"location\":\"top_center\",\"orientation\":\"horizontal\",\"plot\":{\"id\":\"8506800d-6eab-4374-ad0f-af7c131069cf\",\"subtype\":\"Figure\",\"type\":\"Plot\"}},\"id\":\"67167d69-a5c0-4874-a7ae-791da424c90b\",\"type\":\"Legend\"},{\"attributes\":{},\"id\":\"1eeade5d-3a9d-491c-9af8-9df98a39c893\",\"type\":\"BasicTickFormatter\"},{\"attributes\":{},\"id\":\"dfbdbfa1-f545-4efc-abb9-b93881c2e4f0\",\"type\":\"HelpTool\"},{\"attributes\":{\"source\":{\"id\":\"1e012edb-88e8-4bbd-ae2d-f20d461e0068\",\"type\":\"ColumnDataSource\"}},\"id\":\"3ef696a6-6425-4e17-8145-b2961612d8df\",\"type\":\"CDSView\"},{\"attributes\":{\"above\":[{\"id\":\"67167d69-a5c0-4874-a7ae-791da424c90b\",\"type\":\"Legend\"}],\"below\":[{\"id\":\"89ba0823-c570-48c0-80f9-088079e6d02d\",\"type\":\"LinearAxis\"}],\"left\":[{\"id\":\"8b19d856-8aab-4efd-b73f-e5bbb76262f9\",\"type\":\"LinearAxis\"}],\"plot_width\":300,\"renderers\":[{\"id\":\"89ba0823-c570-48c0-80f9-088079e6d02d\",\"type\":\"LinearAxis\"},{\"id\":\"55acfbd6-b06b-44c3-b314-35ffcda314d3\",\"type\":\"Grid\"},{\"id\":\"8b19d856-8aab-4efd-b73f-e5bbb76262f9\",\"type\":\"LinearAxis\"},{\"id\":\"d4351079-99ad-4b00-8065-3fc87d9b80f8\",\"type\":\"Grid\"},{\"id\":\"d1e09ff6-0fa5-4f66-af2a-abb4744f98cd\",\"type\":\"BoxAnnotation\"},{\"id\":\"052d80d9-b603-4862-b0f4-dd1202ce985c\",\"type\":\"GlyphRenderer\"},{\"id\":\"4b362d2f-d26c-49df-b4c2-e01c955cc186\",\"type\":\"GlyphRenderer\"},{\"id\":\"7385f8d4-888e-4b10-bbb6-d193cebde08f\",\"type\":\"GlyphRenderer\"},{\"id\":\"67167d69-a5c0-4874-a7ae-791da424c90b\",\"type\":\"Legend\"}],\"title\":{\"id\":\"61315a70-127d-4368-a64f-db8624fa4a7f\",\"type\":\"Title\"},\"toolbar\":{\"id\":\"b39f03b7-0cbb-4a6b-8e37-36fd3fcfd565\",\"type\":\"Toolbar\"},\"toolbar_location\":null,\"x_range\":{\"id\":\"a934eea8-a8e5-4420-b9a6-1734a0403165\",\"type\":\"Range1d\"},\"x_scale\":{\"id\":\"8e306059-d36e-4366-8952-256156e55079\",\"type\":\"LinearScale\"},\"y_range\":{\"id\":\"019367c3-a146-49fd-928e-826763a54914\",\"type\":\"Range1d\"},\"y_scale\":{\"id\":\"cfdbf278-9fd0-4f50-945d-426459022244\",\"type\":\"LinearScale\"}},\"id\":\"8506800d-6eab-4374-ad0f-af7c131069cf\",\"subtype\":\"Figure\",\"type\":\"Plot\"},{\"attributes\":{\"above\":[{\"id\":\"d4e0dded-148a-4334-bd34-829051d3bc4a\",\"type\":\"Legend\"}],\"below\":[{\"id\":\"602eb224-6350-4941-818b-4aebc675f6a8\",\"type\":\"LinearAxis\"}],\"left\":[{\"id\":\"c63a5f31-5484-4d96-b115-98863740fe49\",\"type\":\"LogAxis\"}],\"plot_width\":300,\"renderers\":[{\"id\":\"602eb224-6350-4941-818b-4aebc675f6a8\",\"type\":\"LinearAxis\"},{\"id\":\"171bf071-c4b7-4943-9864-4daaf72de08e\",\"type\":\"Grid\"},{\"id\":\"c63a5f31-5484-4d96-b115-98863740fe49\",\"type\":\"LogAxis\"},{\"id\":\"177d1955-3f51-4ef0-8ce8-889dd47477e5\",\"type\":\"Grid\"},{\"id\":\"9d5847f8-594e-45fd-ad83-641aef01d830\",\"type\":\"BoxAnnotation\"},{\"id\":\"dd898159-0589-4d71-be82-655ebc1d340d\",\"type\":\"GlyphRenderer\"},{\"id\":\"37962af9-e84f-45ff-878e-a8d9101658ea\",\"type\":\"GlyphRenderer\"},{\"id\":\"75d97ced-1d69-4b2b-bc58-55ee3ac9e33d\",\"type\":\"GlyphRenderer\"},{\"id\":\"d4e0dded-148a-4334-bd34-829051d3bc4a\",\"type\":\"Legend\"}],\"title\":{\"id\":\"84b6cf1f-0a10-439b-842f-d160581324fc\",\"type\":\"Title\"},\"toolbar\":{\"id\":\"80518f7e-a2be-410a-9051-9a1c77484728\",\"type\":\"Toolbar\"},\"toolbar_location\":null,\"x_range\":{\"id\":\"5572553b-8639-4c0d-93a7-504ce9be4518\",\"type\":\"Range1d\"},\"x_scale\":{\"id\":\"999b34ec-f773-4a4b-88ae-29324e0e2e49\",\"type\":\"LinearScale\"},\"y_range\":{\"id\":\"7bc16e73-fe14-4fdf-be8b-f5c4c5bf9496\",\"type\":\"Range1d\"},\"y_scale\":{\"id\":\"4cf24b3e-e80a-4fce-8a19-f41f548cc0be\",\"type\":\"LogScale\"}},\"id\":\"e023e1be-0eee-48fe-813b-ab88c835be9a\",\"subtype\":\"Figure\",\"type\":\"Plot\"},{\"attributes\":{\"plot\":{\"id\":\"e023e1be-0eee-48fe-813b-ab88c835be9a\",\"subtype\":\"Figure\",\"type\":\"Plot\"},\"ticker\":{\"id\":\"d4edac21-f20b-4672-ac71-9ff93d4d5b30\",\"type\":\"BasicTicker\"}},\"id\":\"171bf071-c4b7-4943-9864-4daaf72de08e\",\"type\":\"Grid\"},{\"attributes\":{\"num_minor_ticks\":10},\"id\":\"4b15f2ad-f061-4499-bdfc-e2d69e24b8af\",\"type\":\"LogTicker\"}],\"root_ids\":[\"0e61efca-a809-4c61-87d4-d2c6d4f1448e\"]},\"title\":\"Bokeh Application\",\"version\":\"0.12.16\"}};\n",
       "  var render_items = [{\"docid\":\"d9bceda7-c1fe-4644-93a6-9df872b31f52\",\"elementid\":\"45c4e060-38d9-4b3e-ad56-2dfbf7c44072\",\"modelid\":\"0e61efca-a809-4c61-87d4-d2c6d4f1448e\"}];\n",
       "  root.Bokeh.embed.embed_items_notebook(docs_json, render_items);\n",
       "\n",
       "  }\n",
       "  if (root.Bokeh !== undefined) {\n",
       "    embed_document(root);\n",
       "  } else {\n",
       "    var attempts = 0;\n",
       "    var timer = setInterval(function(root) {\n",
       "      if (root.Bokeh !== undefined) {\n",
       "        embed_document(root);\n",
       "        clearInterval(timer);\n",
       "      }\n",
       "      attempts++;\n",
       "      if (attempts > 100) {\n",
       "        console.log(\"Bokeh: ERROR: Unable to run BokehJS code because BokehJS library is missing\")\n",
       "        clearInterval(timer);\n",
       "      }\n",
       "    }, 10, root)\n",
       "  }\n",
       "})(window);"
      ],
      "application/vnd.bokehjs_exec.v0+json": ""
     },
     "metadata": {
      "application/vnd.bokehjs_exec.v0+json": {
       "id": "0e61efca-a809-4c61-87d4-d2c6d4f1448e"
      }
     },
     "output_type": "display_data"
    },
    {
     "data": {
      "text/markdown": [
       "*FIGURE.* Cooling rates & difference."
      ],
      "text/plain": [
       "<IPython.core.display.Markdown object>"
      ]
     },
     "metadata": {},
     "output_type": "display_data"
    },
    {
     "data": {
      "text/html": [
       "<a id=\"Fluxes._trp.\"></a>"
      ],
      "text/plain": [
       "<IPython.core.display.HTML object>"
      ]
     },
     "metadata": {},
     "output_type": "display_data"
    },
    {
     "data": {
      "text/markdown": [
       "# Fluxes. trp."
      ],
      "text/plain": [
       "<IPython.core.display.Markdown object>"
      ]
     },
     "metadata": {},
     "output_type": "display_data"
    },
    {
     "data": {
      "text/html": [
       "\n",
       "<div class=\"bk-root\">\n",
       "    <div class=\"bk-plotdiv\" id=\"7736c960-4e2a-4bb8-91f0-84a7a0526d4c\"></div>\n",
       "</div>"
      ]
     },
     "metadata": {},
     "output_type": "display_data"
    },
    {
     "data": {
      "application/javascript": [
       "(function(root) {\n",
       "  function embed_document(root) {\n",
       "    \n",
       "  var docs_json = {\"eb350bda-c130-4742-bd4e-4c85539432c8\":{\"roots\":{\"references\":[{\"attributes\":{},\"id\":\"5ee591df-5e18-45ed-bcad-87ab7d8671b9\",\"type\":\"HelpTool\"},{\"attributes\":{\"source\":{\"id\":\"3a409d1c-45f4-4f77-a409-0bf01525951d\",\"type\":\"ColumnDataSource\"}},\"id\":\"9cc0df34-7efb-41ac-beee-d39267210cae\",\"type\":\"CDSView\"},{\"attributes\":{},\"id\":\"27d30890-d496-42be-85c6-6ec54ff0e962\",\"type\":\"WheelZoomTool\"},{\"attributes\":{\"axis_label\":\"flux (W m-2)\",\"formatter\":{\"id\":\"c3847858-9d95-4355-a20e-a3e1c33664ce\",\"type\":\"BasicTickFormatter\"},\"plot\":{\"id\":\"301e7280-781b-4250-8f21-6db099c7b555\",\"subtype\":\"Figure\",\"type\":\"Plot\"},\"ticker\":{\"id\":\"0fdfaf14-5740-4435-84f2-9cff60a0a89d\",\"type\":\"BasicTicker\"}},\"id\":\"5da1de20-ec58-4e6b-af4b-5bb0cc271587\",\"type\":\"LinearAxis\"},{\"attributes\":{},\"id\":\"d3115ea5-7bc4-4b9e-a5e9-1145b63cfac5\",\"type\":\"BasicTicker\"},{\"attributes\":{},\"id\":\"c5661ab1-bbfa-4938-9db1-0a9573b9f15a\",\"type\":\"Selection\"},{\"attributes\":{\"dimension\":1,\"plot\":{\"id\":\"5c9a9897-1a2b-4950-9944-a7104df1791d\",\"subtype\":\"Figure\",\"type\":\"Plot\"},\"ticker\":{\"id\":\"d3115ea5-7bc4-4b9e-a5e9-1145b63cfac5\",\"type\":\"BasicTicker\"}},\"id\":\"efb7ac46-a509-417d-b6bb-f1d3cc86afec\",\"type\":\"Grid\"},{\"attributes\":{},\"id\":\"dd67b7d2-b6c9-49eb-b3f6-b56617cf38df\",\"type\":\"CategoricalScale\"},{\"attributes\":{},\"id\":\"827e491f-40bf-4afb-95ac-b2528e0d0234\",\"type\":\"CategoricalTickFormatter\"},{\"attributes\":{\"plot\":{\"id\":\"301e7280-781b-4250-8f21-6db099c7b555\",\"subtype\":\"Figure\",\"type\":\"Plot\"},\"ticker\":{\"id\":\"6c4eeb82-7b29-4259-97a6-c57af984b9ed\",\"type\":\"CategoricalTicker\"}},\"id\":\"79f62197-2cd4-4ae3-82e0-e4d551713c3c\",\"type\":\"Grid\"},{\"attributes\":{\"callback\":null,\"data\":{\"band\":[\"1\",\"2\",\"3\",\"4\",\"5\",\"6\",\"7\",\"8\",\"9\",\"10\",\"11\"],\"flux\":{\"__ndarray__\":\"AMHG9e/6yj8ARFVMpZ/UP8A1I4PcRdO/wKT4+ITs4T8A9+Y3TDTUPwDo9SfxuaO/gPm7d9SYzj8AbToCuFm8vwAu4dBbPJw/4PGprSLtwT+A9UyK6gi9Pw==\",\"dtype\":\"float64\",\"shape\":[11]}},\"selected\":{\"id\":\"41a35b4a-60d6-4580-ac82-0b8a6e626b17\",\"type\":\"Selection\"},\"selection_policy\":{\"id\":\"70b63b5c-b0bf-4008-9dbd-45fb92c6139b\",\"type\":\"UnionRenderers\"}},\"id\":\"a6b913c7-f79e-43e3-9960-0bcded450993\",\"type\":\"ColumnDataSource\"},{\"attributes\":{\"callback\":null},\"id\":\"a9ef6727-fd53-4a50-bdc5-68924fa04325\",\"type\":\"DataRange1d\"},{\"attributes\":{},\"id\":\"032e5327-0831-448c-ac61-3512a4f22923\",\"type\":\"WheelZoomTool\"},{\"attributes\":{},\"id\":\"c3847858-9d95-4355-a20e-a3e1c33664ce\",\"type\":\"BasicTickFormatter\"},{\"attributes\":{},\"id\":\"33089a73-6f11-4962-a5a5-39c581fee6d6\",\"type\":\"PanTool\"},{\"attributes\":{\"overlay\":{\"id\":\"10f9d001-111d-4c52-ab47-2c8ec42b937f\",\"type\":\"BoxAnnotation\"}},\"id\":\"50994d61-a7ff-4695-8a9c-aac50b56f117\",\"type\":\"BoxZoomTool\"},{\"attributes\":{},\"id\":\"6c4eeb82-7b29-4259-97a6-c57af984b9ed\",\"type\":\"CategoricalTicker\"},{\"attributes\":{},\"id\":\"84dbf0c6-a307-4af5-8488-8d5d357b2a99\",\"type\":\"SaveTool\"},{\"attributes\":{\"callback\":null,\"factors\":[\"1\",\"2\",\"3\",\"4\",\"5\",\"6\",\"7\",\"8\",\"9\",\"10\",\"11\"]},\"id\":\"03c09d7e-0a9e-4604-b600-0189261a5dbc\",\"type\":\"FactorRange\"},{\"attributes\":{},\"id\":\"633b03ae-43c9-4318-af00-256f85467da2\",\"type\":\"UnionRenderers\"},{\"attributes\":{\"dimension\":1,\"plot\":{\"id\":\"301e7280-781b-4250-8f21-6db099c7b555\",\"subtype\":\"Figure\",\"type\":\"Plot\"},\"ticker\":{\"id\":\"0fdfaf14-5740-4435-84f2-9cff60a0a89d\",\"type\":\"BasicTicker\"}},\"id\":\"ce9f0284-8cd8-476f-9409-8eac5b564aca\",\"type\":\"Grid\"},{\"attributes\":{},\"id\":\"d11b05b2-dc25-4ad1-b80d-d1d12081637a\",\"type\":\"LinearScale\"},{\"attributes\":{},\"id\":\"0afd5238-176e-4b53-a89f-3bc520d1aa8f\",\"type\":\"CategoricalTickFormatter\"},{\"attributes\":{\"below\":[{\"id\":\"a3f10eb9-c9c8-4886-acf9-dc0c8f33463c\",\"type\":\"CategoricalAxis\"}],\"left\":[{\"id\":\"6f3ca3ec-1af3-4bbd-92ab-87f266463358\",\"type\":\"LinearAxis\"}],\"plot_height\":300,\"plot_width\":300,\"renderers\":[{\"id\":\"a3f10eb9-c9c8-4886-acf9-dc0c8f33463c\",\"type\":\"CategoricalAxis\"},{\"id\":\"ab7664c6-e443-4114-8b6e-1ef2e9433978\",\"type\":\"Grid\"},{\"id\":\"6f3ca3ec-1af3-4bbd-92ab-87f266463358\",\"type\":\"LinearAxis\"},{\"id\":\"efb7ac46-a509-417d-b6bb-f1d3cc86afec\",\"type\":\"Grid\"},{\"id\":\"9e2291ea-515a-4a50-9b74-4ab2b70310ff\",\"type\":\"BoxAnnotation\"},{\"id\":\"b5b40121-9c80-4d15-8d21-c55fcf2c639d\",\"type\":\"GlyphRenderer\"}],\"title\":{\"id\":\"62920619-cb21-4144-89cb-1c6b7d730a8b\",\"type\":\"Title\"},\"toolbar\":{\"id\":\"a8d26509-6955-435a-bac7-f5fe91c46e24\",\"type\":\"Toolbar\"},\"toolbar_location\":null,\"x_range\":{\"id\":\"03c09d7e-0a9e-4604-b600-0189261a5dbc\",\"type\":\"FactorRange\"},\"x_scale\":{\"id\":\"dd67b7d2-b6c9-49eb-b3f6-b56617cf38df\",\"type\":\"CategoricalScale\"},\"y_range\":{\"id\":\"a9ef6727-fd53-4a50-bdc5-68924fa04325\",\"type\":\"DataRange1d\"},\"y_scale\":{\"id\":\"d11b05b2-dc25-4ad1-b80d-d1d12081637a\",\"type\":\"LinearScale\"}},\"id\":\"5c9a9897-1a2b-4950-9944-a7104df1791d\",\"subtype\":\"Figure\",\"type\":\"Plot\"},{\"attributes\":{\"bottom_units\":\"screen\",\"fill_alpha\":{\"value\":0.5},\"fill_color\":{\"value\":\"lightgrey\"},\"left_units\":\"screen\",\"level\":\"overlay\",\"line_alpha\":{\"value\":1.0},\"line_color\":{\"value\":\"black\"},\"line_dash\":[4,4],\"line_width\":{\"value\":2},\"plot\":null,\"render_mode\":\"css\",\"right_units\":\"screen\",\"top_units\":\"screen\"},\"id\":\"9e2291ea-515a-4a50-9b74-4ab2b70310ff\",\"type\":\"BoxAnnotation\"},{\"attributes\":{\"plot\":{\"id\":\"5c9a9897-1a2b-4950-9944-a7104df1791d\",\"subtype\":\"Figure\",\"type\":\"Plot\"},\"ticker\":{\"id\":\"7734c45e-788f-43f0-8089-0c510b01d457\",\"type\":\"CategoricalTicker\"}},\"id\":\"ab7664c6-e443-4114-8b6e-1ef2e9433978\",\"type\":\"Grid\"},{\"attributes\":{\"tools\":[{\"id\":\"33089a73-6f11-4962-a5a5-39c581fee6d6\",\"type\":\"PanTool\"},{\"id\":\"27d30890-d496-42be-85c6-6ec54ff0e962\",\"type\":\"WheelZoomTool\"},{\"id\":\"50994d61-a7ff-4695-8a9c-aac50b56f117\",\"type\":\"BoxZoomTool\"},{\"id\":\"84dbf0c6-a307-4af5-8488-8d5d357b2a99\",\"type\":\"SaveTool\"},{\"id\":\"39c67868-d5fd-493c-91cb-125107a18bb3\",\"type\":\"ResetTool\"},{\"id\":\"5ee591df-5e18-45ed-bcad-87ab7d8671b9\",\"type\":\"HelpTool\"},{\"id\":\"5dca6aa2-5ff5-4369-8255-ef51c8697fbb\",\"type\":\"PanTool\"},{\"id\":\"58decf1b-4cd2-4d45-8a08-98991b29ba4a\",\"type\":\"WheelZoomTool\"},{\"id\":\"998be8ba-5d76-4b9a-8c48-9062ad5d25d6\",\"type\":\"BoxZoomTool\"},{\"id\":\"ffb15a50-d517-4a73-90b2-961c2663f222\",\"type\":\"SaveTool\"},{\"id\":\"962d7077-0f28-4494-bd92-14bcff8d1c39\",\"type\":\"ResetTool\"},{\"id\":\"f9fa0ec0-8e65-43f5-b980-62ca50dc5049\",\"type\":\"HelpTool\"},{\"id\":\"0a25fc81-3438-41ba-be70-67a80998ca43\",\"type\":\"PanTool\"},{\"id\":\"032e5327-0831-448c-ac61-3512a4f22923\",\"type\":\"WheelZoomTool\"},{\"id\":\"fde6c052-e106-480b-9e7d-b08afd01d607\",\"type\":\"BoxZoomTool\"},{\"id\":\"c94dc89f-3627-46c0-8ddf-269814194588\",\"type\":\"SaveTool\"},{\"id\":\"0d08d4d6-1d1c-4faf-92e7-2ed67082246b\",\"type\":\"ResetTool\"},{\"id\":\"a5eee1aa-73aa-479c-9f3d-f435eceec460\",\"type\":\"HelpTool\"}]},\"id\":\"f5a59ad7-3b14-46c9-9e55-cbb9ff0be297\",\"type\":\"ProxyToolbar\"},{\"attributes\":{\"callback\":null,\"data\":{\"band\":[\"1\",\"2\",\"3\",\"4\",\"5\",\"6\",\"7\",\"8\",\"9\",\"10\",\"11\"],\"flux\":{\"__ndarray__\":\"AADADkbs874Ak+S5vg/QPwANMzSeCMq/ABTRr62frj8A8Z2Y9WLjP6As7j8yHd0/gB2NQ/0usj8AQGTbs/iOP0Churn429E/AFDtmpDWiD8AO3arQl6wPw==\",\"dtype\":\"float64\",\"shape\":[11]}},\"selected\":{\"id\":\"c5661ab1-bbfa-4938-9db1-0a9573b9f15a\",\"type\":\"Selection\"},\"selection_policy\":{\"id\":\"633b03ae-43c9-4318-af00-256f85467da2\",\"type\":\"UnionRenderers\"}},\"id\":\"28ddd438-8f32-4538-a058-f2d7bdffe6cf\",\"type\":\"ColumnDataSource\"},{\"attributes\":{},\"id\":\"41a35b4a-60d6-4580-ac82-0b8a6e626b17\",\"type\":\"Selection\"},{\"attributes\":{\"children\":[{\"id\":\"da13b389-0220-4dfa-855f-1188ec23ad60\",\"type\":\"Row\"}]},\"id\":\"bd9e4962-c4db-45c9-bfff-0003c03bce75\",\"type\":\"Column\"},{\"attributes\":{\"overlay\":{\"id\":\"9e2291ea-515a-4a50-9b74-4ab2b70310ff\",\"type\":\"BoxAnnotation\"}},\"id\":\"fde6c052-e106-480b-9e7d-b08afd01d607\",\"type\":\"BoxZoomTool\"},{\"attributes\":{\"toolbar\":{\"id\":\"f5a59ad7-3b14-46c9-9e55-cbb9ff0be297\",\"type\":\"ProxyToolbar\"},\"toolbar_location\":\"above\"},\"id\":\"87c8f20d-abe4-4a54-966f-188c351482a2\",\"type\":\"ToolbarBox\"},{\"attributes\":{\"callback\":null,\"data\":{\"band\":[\"1\",\"2\",\"3\",\"4\",\"5\",\"6\",\"7\",\"8\",\"9\",\"10\",\"11\"],\"flux\":{\"__ndarray__\":\"AID6S2L7yj8AhLZzzD+yPwC8gsh9Brm/ABW46Y0C4D8gA5fHmpHSvwDp7GRwlN+/gOE/3UCBxT8Atr3dkhzAv0C4FKEiGNC/wG+hI6BfwD9Ab6jOWVWpPw==\",\"dtype\":\"float64\",\"shape\":[11]}},\"selected\":{\"id\":\"aa27ab84-9df8-4a5e-ad0a-fbe296ae55ff\",\"type\":\"Selection\"},\"selection_policy\":{\"id\":\"d937e747-9e8d-4222-b469-a52b3b5263ba\",\"type\":\"UnionRenderers\"}},\"id\":\"3a409d1c-45f4-4f77-a409-0bf01525951d\",\"type\":\"ColumnDataSource\"},{\"attributes\":{},\"id\":\"0a25fc81-3438-41ba-be70-67a80998ca43\",\"type\":\"PanTool\"},{\"attributes\":{\"active_drag\":\"auto\",\"active_inspect\":\"auto\",\"active_scroll\":\"auto\",\"active_tap\":\"auto\",\"tools\":[{\"id\":\"0a25fc81-3438-41ba-be70-67a80998ca43\",\"type\":\"PanTool\"},{\"id\":\"032e5327-0831-448c-ac61-3512a4f22923\",\"type\":\"WheelZoomTool\"},{\"id\":\"fde6c052-e106-480b-9e7d-b08afd01d607\",\"type\":\"BoxZoomTool\"},{\"id\":\"c94dc89f-3627-46c0-8ddf-269814194588\",\"type\":\"SaveTool\"},{\"id\":\"0d08d4d6-1d1c-4faf-92e7-2ed67082246b\",\"type\":\"ResetTool\"},{\"id\":\"a5eee1aa-73aa-479c-9f3d-f435eceec460\",\"type\":\"HelpTool\"}]},\"id\":\"a8d26509-6955-435a-bac7-f5fe91c46e24\",\"type\":\"Toolbar\"},{\"attributes\":{\"bottom_units\":\"screen\",\"fill_alpha\":{\"value\":0.5},\"fill_color\":{\"value\":\"lightgrey\"},\"left_units\":\"screen\",\"level\":\"overlay\",\"line_alpha\":{\"value\":1.0},\"line_color\":{\"value\":\"black\"},\"line_dash\":[4,4],\"line_width\":{\"value\":2},\"plot\":null,\"render_mode\":\"css\",\"right_units\":\"screen\",\"top_units\":\"screen\"},\"id\":\"10f9d001-111d-4c52-ab47-2c8ec42b937f\",\"type\":\"BoxAnnotation\"},{\"attributes\":{},\"id\":\"39c67868-d5fd-493c-91cb-125107a18bb3\",\"type\":\"ResetTool\"},{\"attributes\":{\"axis_label\":\"flux (W m-2)\",\"formatter\":{\"id\":\"df608db1-ab20-4157-93b7-cd78c469cd0a\",\"type\":\"BasicTickFormatter\"},\"plot\":{\"id\":\"5c9a9897-1a2b-4950-9944-a7104df1791d\",\"subtype\":\"Figure\",\"type\":\"Plot\"},\"ticker\":{\"id\":\"d3115ea5-7bc4-4b9e-a5e9-1145b63cfac5\",\"type\":\"BasicTicker\"}},\"id\":\"6f3ca3ec-1af3-4bbd-92ab-87f266463358\",\"type\":\"LinearAxis\"},{\"attributes\":{\"fill_alpha\":{\"value\":0.1},\"fill_color\":{\"value\":\"#1f77b4\"},\"line_alpha\":{\"value\":0.1},\"line_color\":{\"value\":\"#1f77b4\"},\"top\":{\"field\":\"flux\"},\"width\":{\"value\":0.9},\"x\":{\"field\":\"band\"}},\"id\":\"63ba9a65-be6b-4acc-9076-c5159ff6cef8\",\"type\":\"VBar\"},{\"attributes\":{\"children\":[{\"id\":\"87c8f20d-abe4-4a54-966f-188c351482a2\",\"type\":\"ToolbarBox\"},{\"id\":\"bd9e4962-c4db-45c9-bfff-0003c03bce75\",\"type\":\"Column\"}]},\"id\":\"dfb88410-b26d-4aeb-b48a-797269d1ab19\",\"type\":\"Column\"},{\"attributes\":{\"data_source\":{\"id\":\"a6b913c7-f79e-43e3-9960-0bcded450993\",\"type\":\"ColumnDataSource\"},\"glyph\":{\"id\":\"4a418fb7-3b2d-4f9e-a32c-2c2b71528072\",\"type\":\"VBar\"},\"hover_glyph\":null,\"muted_glyph\":null,\"nonselection_glyph\":{\"id\":\"63ba9a65-be6b-4acc-9076-c5159ff6cef8\",\"type\":\"VBar\"},\"selection_glyph\":null,\"view\":{\"id\":\"c42fa602-bc7f-4cf7-8dd7-339f8685b029\",\"type\":\"CDSView\"}},\"id\":\"ebf5901b-b4cc-4ec6-b865-9f53cab8c7a8\",\"type\":\"GlyphRenderer\"},{\"attributes\":{},\"id\":\"aa27ab84-9df8-4a5e-ad0a-fbe296ae55ff\",\"type\":\"Selection\"},{\"attributes\":{},\"id\":\"7734c45e-788f-43f0-8089-0c510b01d457\",\"type\":\"CategoricalTicker\"},{\"attributes\":{},\"id\":\"a5eee1aa-73aa-479c-9f3d-f435eceec460\",\"type\":\"HelpTool\"},{\"attributes\":{},\"id\":\"0fdfaf14-5740-4435-84f2-9cff60a0a89d\",\"type\":\"BasicTicker\"},{\"attributes\":{},\"id\":\"89a7713c-18ad-4260-8482-58df4a0dbb20\",\"type\":\"BasicTickFormatter\"},{\"attributes\":{\"plot\":null,\"text\":\"Atmosphere heating. CLIRAD (single-run) - CRD.\"},\"id\":\"62920619-cb21-4144-89cb-1c6b7d730a8b\",\"type\":\"Title\"},{\"attributes\":{\"fill_color\":{\"value\":\"#1f77b4\"},\"line_color\":{\"value\":\"#1f77b4\"},\"top\":{\"field\":\"flux\"},\"width\":{\"value\":0.9},\"x\":{\"field\":\"band\"}},\"id\":\"4a418fb7-3b2d-4f9e-a32c-2c2b71528072\",\"type\":\"VBar\"},{\"attributes\":{},\"id\":\"70b63b5c-b0bf-4008-9dbd-45fb92c6139b\",\"type\":\"UnionRenderers\"},{\"attributes\":{},\"id\":\"c94dc89f-3627-46c0-8ddf-269814194588\",\"type\":\"SaveTool\"},{\"attributes\":{\"children\":[{\"id\":\"301e7280-781b-4250-8f21-6db099c7b555\",\"subtype\":\"Figure\",\"type\":\"Plot\"},{\"id\":\"65f958b7-e80f-4feb-ad3f-e2ce5b0bc6eb\",\"subtype\":\"Figure\",\"type\":\"Plot\"},{\"id\":\"5c9a9897-1a2b-4950-9944-a7104df1791d\",\"subtype\":\"Figure\",\"type\":\"Plot\"}]},\"id\":\"da13b389-0220-4dfa-855f-1188ec23ad60\",\"type\":\"Row\"},{\"attributes\":{\"data_source\":{\"id\":\"3a409d1c-45f4-4f77-a409-0bf01525951d\",\"type\":\"ColumnDataSource\"},\"glyph\":{\"id\":\"e2ed8716-dc7d-43dc-85c8-3c61aac8220e\",\"type\":\"VBar\"},\"hover_glyph\":null,\"muted_glyph\":null,\"nonselection_glyph\":{\"id\":\"e8aea472-82ea-4b5d-9c40-8d7cb6075f96\",\"type\":\"VBar\"},\"selection_glyph\":null,\"view\":{\"id\":\"9cc0df34-7efb-41ac-beee-d39267210cae\",\"type\":\"CDSView\"}},\"id\":\"b5b40121-9c80-4d15-8d21-c55fcf2c639d\",\"type\":\"GlyphRenderer\"},{\"attributes\":{\"source\":{\"id\":\"a6b913c7-f79e-43e3-9960-0bcded450993\",\"type\":\"ColumnDataSource\"}},\"id\":\"c42fa602-bc7f-4cf7-8dd7-339f8685b029\",\"type\":\"CDSView\"},{\"attributes\":{\"axis_label\":\"spectral band\",\"formatter\":{\"id\":\"41b02caa-ede0-410d-abde-2596ac4dc96e\",\"type\":\"CategoricalTickFormatter\"},\"plot\":{\"id\":\"5c9a9897-1a2b-4950-9944-a7104df1791d\",\"subtype\":\"Figure\",\"type\":\"Plot\"},\"ticker\":{\"id\":\"7734c45e-788f-43f0-8089-0c510b01d457\",\"type\":\"CategoricalTicker\"}},\"id\":\"a3f10eb9-c9c8-4886-acf9-dc0c8f33463c\",\"type\":\"CategoricalAxis\"},{\"attributes\":{},\"id\":\"0d08d4d6-1d1c-4faf-92e7-2ed67082246b\",\"type\":\"ResetTool\"},{\"attributes\":{},\"id\":\"d937e747-9e8d-4222-b469-a52b3b5263ba\",\"type\":\"UnionRenderers\"},{\"attributes\":{\"callback\":null},\"id\":\"abaa7e5b-68c8-4aa0-a864-607f1815b906\",\"type\":\"DataRange1d\"},{\"attributes\":{},\"id\":\"df608db1-ab20-4157-93b7-cd78c469cd0a\",\"type\":\"BasicTickFormatter\"},{\"attributes\":{},\"id\":\"7a769e59-587b-4599-ba44-38326dc8c58b\",\"type\":\"LinearScale\"},{\"attributes\":{\"plot\":{\"id\":\"65f958b7-e80f-4feb-ad3f-e2ce5b0bc6eb\",\"subtype\":\"Figure\",\"type\":\"Plot\"},\"ticker\":{\"id\":\"83f1ddb6-f0f0-4c2a-8876-c941b17bea25\",\"type\":\"CategoricalTicker\"}},\"id\":\"8bd5ebaf-fa52-4271-a3ce-628a754596e8\",\"type\":\"Grid\"},{\"attributes\":{\"fill_color\":{\"value\":\"#1f77b4\"},\"line_color\":{\"value\":\"#1f77b4\"},\"top\":{\"field\":\"flux\"},\"width\":{\"value\":0.9},\"x\":{\"field\":\"band\"}},\"id\":\"e2ed8716-dc7d-43dc-85c8-3c61aac8220e\",\"type\":\"VBar\"},{\"attributes\":{},\"id\":\"5dca6aa2-5ff5-4369-8255-ef51c8697fbb\",\"type\":\"PanTool\"},{\"attributes\":{\"plot\":null,\"text\":\"TOA flux. CLIRAD (single-run) - CRD.\"},\"id\":\"4fb2be88-be34-4e45-a347-420a3f930433\",\"type\":\"Title\"},{\"attributes\":{},\"id\":\"83f1ddb6-f0f0-4c2a-8876-c941b17bea25\",\"type\":\"CategoricalTicker\"},{\"attributes\":{\"dimension\":1,\"plot\":{\"id\":\"65f958b7-e80f-4feb-ad3f-e2ce5b0bc6eb\",\"subtype\":\"Figure\",\"type\":\"Plot\"},\"ticker\":{\"id\":\"817fce67-c379-462a-814a-02398964cb91\",\"type\":\"BasicTicker\"}},\"id\":\"65519ade-bc5c-498d-bbda-2a65a1cd73fa\",\"type\":\"Grid\"},{\"attributes\":{},\"id\":\"58decf1b-4cd2-4d45-8a08-98991b29ba4a\",\"type\":\"WheelZoomTool\"},{\"attributes\":{\"axis_label\":\"spectral band\",\"formatter\":{\"id\":\"0afd5238-176e-4b53-a89f-3bc520d1aa8f\",\"type\":\"CategoricalTickFormatter\"},\"plot\":{\"id\":\"301e7280-781b-4250-8f21-6db099c7b555\",\"subtype\":\"Figure\",\"type\":\"Plot\"},\"ticker\":{\"id\":\"6c4eeb82-7b29-4259-97a6-c57af984b9ed\",\"type\":\"CategoricalTicker\"}},\"id\":\"0ec42eef-cb2a-4343-a267-cf43cbb6150f\",\"type\":\"CategoricalAxis\"},{\"attributes\":{\"active_drag\":\"auto\",\"active_inspect\":\"auto\",\"active_scroll\":\"auto\",\"active_tap\":\"auto\",\"tools\":[{\"id\":\"5dca6aa2-5ff5-4369-8255-ef51c8697fbb\",\"type\":\"PanTool\"},{\"id\":\"58decf1b-4cd2-4d45-8a08-98991b29ba4a\",\"type\":\"WheelZoomTool\"},{\"id\":\"998be8ba-5d76-4b9a-8c48-9062ad5d25d6\",\"type\":\"BoxZoomTool\"},{\"id\":\"ffb15a50-d517-4a73-90b2-961c2663f222\",\"type\":\"SaveTool\"},{\"id\":\"962d7077-0f28-4494-bd92-14bcff8d1c39\",\"type\":\"ResetTool\"},{\"id\":\"f9fa0ec0-8e65-43f5-b980-62ca50dc5049\",\"type\":\"HelpTool\"}]},\"id\":\"40a767a7-4355-46e6-86ec-940bc9b62b4a\",\"type\":\"Toolbar\"},{\"attributes\":{\"fill_alpha\":{\"value\":0.1},\"fill_color\":{\"value\":\"#1f77b4\"},\"line_alpha\":{\"value\":0.1},\"line_color\":{\"value\":\"#1f77b4\"},\"top\":{\"field\":\"flux\"},\"width\":{\"value\":0.9},\"x\":{\"field\":\"band\"}},\"id\":\"e8aea472-82ea-4b5d-9c40-8d7cb6075f96\",\"type\":\"VBar\"},{\"attributes\":{\"overlay\":{\"id\":\"3718da09-c4f7-430d-b4f5-ccdae52e78d4\",\"type\":\"BoxAnnotation\"}},\"id\":\"998be8ba-5d76-4b9a-8c48-9062ad5d25d6\",\"type\":\"BoxZoomTool\"},{\"attributes\":{\"below\":[{\"id\":\"0ec42eef-cb2a-4343-a267-cf43cbb6150f\",\"type\":\"CategoricalAxis\"}],\"left\":[{\"id\":\"5da1de20-ec58-4e6b-af4b-5bb0cc271587\",\"type\":\"LinearAxis\"}],\"plot_height\":300,\"plot_width\":300,\"renderers\":[{\"id\":\"0ec42eef-cb2a-4343-a267-cf43cbb6150f\",\"type\":\"CategoricalAxis\"},{\"id\":\"79f62197-2cd4-4ae3-82e0-e4d551713c3c\",\"type\":\"Grid\"},{\"id\":\"5da1de20-ec58-4e6b-af4b-5bb0cc271587\",\"type\":\"LinearAxis\"},{\"id\":\"ce9f0284-8cd8-476f-9409-8eac5b564aca\",\"type\":\"Grid\"},{\"id\":\"10f9d001-111d-4c52-ab47-2c8ec42b937f\",\"type\":\"BoxAnnotation\"},{\"id\":\"ebf5901b-b4cc-4ec6-b865-9f53cab8c7a8\",\"type\":\"GlyphRenderer\"}],\"title\":{\"id\":\"4fb2be88-be34-4e45-a347-420a3f930433\",\"type\":\"Title\"},\"toolbar\":{\"id\":\"3f654900-4b85-4e0f-a2d6-9ed31e993b53\",\"type\":\"Toolbar\"},\"toolbar_location\":null,\"x_range\":{\"id\":\"dd0b21dd-911c-4e74-8981-c61e5374eadd\",\"type\":\"FactorRange\"},\"x_scale\":{\"id\":\"274cdcfa-43f3-44cf-b253-97580f9e1ab1\",\"type\":\"CategoricalScale\"},\"y_range\":{\"id\":\"abaa7e5b-68c8-4aa0-a864-607f1815b906\",\"type\":\"DataRange1d\"},\"y_scale\":{\"id\":\"4ffd3774-dd3d-4953-9b9d-c5752cfb9925\",\"type\":\"LinearScale\"}},\"id\":\"301e7280-781b-4250-8f21-6db099c7b555\",\"subtype\":\"Figure\",\"type\":\"Plot\"},{\"attributes\":{\"axis_label\":\"flux (W m-2)\",\"formatter\":{\"id\":\"89a7713c-18ad-4260-8482-58df4a0dbb20\",\"type\":\"BasicTickFormatter\"},\"plot\":{\"id\":\"65f958b7-e80f-4feb-ad3f-e2ce5b0bc6eb\",\"subtype\":\"Figure\",\"type\":\"Plot\"},\"ticker\":{\"id\":\"817fce67-c379-462a-814a-02398964cb91\",\"type\":\"BasicTicker\"}},\"id\":\"0e03d7e2-ffcd-4d5d-82c4-eb658e56ce3e\",\"type\":\"LinearAxis\"},{\"attributes\":{\"bottom_units\":\"screen\",\"fill_alpha\":{\"value\":0.5},\"fill_color\":{\"value\":\"lightgrey\"},\"left_units\":\"screen\",\"level\":\"overlay\",\"line_alpha\":{\"value\":1.0},\"line_color\":{\"value\":\"black\"},\"line_dash\":[4,4],\"line_width\":{\"value\":2},\"plot\":null,\"render_mode\":\"css\",\"right_units\":\"screen\",\"top_units\":\"screen\"},\"id\":\"3718da09-c4f7-430d-b4f5-ccdae52e78d4\",\"type\":\"BoxAnnotation\"},{\"attributes\":{},\"id\":\"817fce67-c379-462a-814a-02398964cb91\",\"type\":\"BasicTicker\"},{\"attributes\":{\"below\":[{\"id\":\"b05c450e-c1a5-4d2b-b5db-f020f55c2307\",\"type\":\"CategoricalAxis\"}],\"left\":[{\"id\":\"0e03d7e2-ffcd-4d5d-82c4-eb658e56ce3e\",\"type\":\"LinearAxis\"}],\"plot_height\":300,\"plot_width\":300,\"renderers\":[{\"id\":\"b05c450e-c1a5-4d2b-b5db-f020f55c2307\",\"type\":\"CategoricalAxis\"},{\"id\":\"8bd5ebaf-fa52-4271-a3ce-628a754596e8\",\"type\":\"Grid\"},{\"id\":\"0e03d7e2-ffcd-4d5d-82c4-eb658e56ce3e\",\"type\":\"LinearAxis\"},{\"id\":\"65519ade-bc5c-498d-bbda-2a65a1cd73fa\",\"type\":\"Grid\"},{\"id\":\"3718da09-c4f7-430d-b4f5-ccdae52e78d4\",\"type\":\"BoxAnnotation\"},{\"id\":\"597c5a0f-f2f3-4fb3-8968-2e8113b9726e\",\"type\":\"GlyphRenderer\"}],\"title\":{\"id\":\"4769d244-41f7-4817-87c4-3bb961d52e01\",\"type\":\"Title\"},\"toolbar\":{\"id\":\"40a767a7-4355-46e6-86ec-940bc9b62b4a\",\"type\":\"Toolbar\"},\"toolbar_location\":null,\"x_range\":{\"id\":\"d17534d8-64ef-4924-9160-3dfd2c3b08d5\",\"type\":\"FactorRange\"},\"x_scale\":{\"id\":\"f6a78ca4-7e58-42cd-b050-68b7d86387a4\",\"type\":\"CategoricalScale\"},\"y_range\":{\"id\":\"ee95c522-e21d-4307-b04d-f4bf25520f21\",\"type\":\"DataRange1d\"},\"y_scale\":{\"id\":\"7a769e59-587b-4599-ba44-38326dc8c58b\",\"type\":\"LinearScale\"}},\"id\":\"65f958b7-e80f-4feb-ad3f-e2ce5b0bc6eb\",\"subtype\":\"Figure\",\"type\":\"Plot\"},{\"attributes\":{},\"id\":\"4ffd3774-dd3d-4953-9b9d-c5752cfb9925\",\"type\":\"LinearScale\"},{\"attributes\":{\"fill_color\":{\"value\":\"#1f77b4\"},\"line_color\":{\"value\":\"#1f77b4\"},\"top\":{\"field\":\"flux\"},\"width\":{\"value\":0.9},\"x\":{\"field\":\"band\"}},\"id\":\"ab669ab8-b461-444c-98a6-e3a1db3b80a5\",\"type\":\"VBar\"},{\"attributes\":{},\"id\":\"274cdcfa-43f3-44cf-b253-97580f9e1ab1\",\"type\":\"CategoricalScale\"},{\"attributes\":{\"callback\":null,\"factors\":[\"1\",\"2\",\"3\",\"4\",\"5\",\"6\",\"7\",\"8\",\"9\",\"10\",\"11\"]},\"id\":\"d17534d8-64ef-4924-9160-3dfd2c3b08d5\",\"type\":\"FactorRange\"},{\"attributes\":{\"active_drag\":\"auto\",\"active_inspect\":\"auto\",\"active_scroll\":\"auto\",\"active_tap\":\"auto\",\"tools\":[{\"id\":\"33089a73-6f11-4962-a5a5-39c581fee6d6\",\"type\":\"PanTool\"},{\"id\":\"27d30890-d496-42be-85c6-6ec54ff0e962\",\"type\":\"WheelZoomTool\"},{\"id\":\"50994d61-a7ff-4695-8a9c-aac50b56f117\",\"type\":\"BoxZoomTool\"},{\"id\":\"84dbf0c6-a307-4af5-8488-8d5d357b2a99\",\"type\":\"SaveTool\"},{\"id\":\"39c67868-d5fd-493c-91cb-125107a18bb3\",\"type\":\"ResetTool\"},{\"id\":\"5ee591df-5e18-45ed-bcad-87ab7d8671b9\",\"type\":\"HelpTool\"}]},\"id\":\"3f654900-4b85-4e0f-a2d6-9ed31e993b53\",\"type\":\"Toolbar\"},{\"attributes\":{},\"id\":\"41b02caa-ede0-410d-abde-2596ac4dc96e\",\"type\":\"CategoricalTickFormatter\"},{\"attributes\":{},\"id\":\"f9fa0ec0-8e65-43f5-b980-62ca50dc5049\",\"type\":\"HelpTool\"},{\"attributes\":{},\"id\":\"ffb15a50-d517-4a73-90b2-961c2663f222\",\"type\":\"SaveTool\"},{\"attributes\":{\"plot\":null,\"text\":\"SFC flux. CLIRAD (single-run) - CRD.\"},\"id\":\"4769d244-41f7-4817-87c4-3bb961d52e01\",\"type\":\"Title\"},{\"attributes\":{},\"id\":\"f6a78ca4-7e58-42cd-b050-68b7d86387a4\",\"type\":\"CategoricalScale\"},{\"attributes\":{\"axis_label\":\"spectral band\",\"formatter\":{\"id\":\"827e491f-40bf-4afb-95ac-b2528e0d0234\",\"type\":\"CategoricalTickFormatter\"},\"plot\":{\"id\":\"65f958b7-e80f-4feb-ad3f-e2ce5b0bc6eb\",\"subtype\":\"Figure\",\"type\":\"Plot\"},\"ticker\":{\"id\":\"83f1ddb6-f0f0-4c2a-8876-c941b17bea25\",\"type\":\"CategoricalTicker\"}},\"id\":\"b05c450e-c1a5-4d2b-b5db-f020f55c2307\",\"type\":\"CategoricalAxis\"},{\"attributes\":{\"fill_alpha\":{\"value\":0.1},\"fill_color\":{\"value\":\"#1f77b4\"},\"line_alpha\":{\"value\":0.1},\"line_color\":{\"value\":\"#1f77b4\"},\"top\":{\"field\":\"flux\"},\"width\":{\"value\":0.9},\"x\":{\"field\":\"band\"}},\"id\":\"f9fcb9b2-ddb5-4630-9649-b25f8eb0876c\",\"type\":\"VBar\"},{\"attributes\":{\"data_source\":{\"id\":\"28ddd438-8f32-4538-a058-f2d7bdffe6cf\",\"type\":\"ColumnDataSource\"},\"glyph\":{\"id\":\"ab669ab8-b461-444c-98a6-e3a1db3b80a5\",\"type\":\"VBar\"},\"hover_glyph\":null,\"muted_glyph\":null,\"nonselection_glyph\":{\"id\":\"f9fcb9b2-ddb5-4630-9649-b25f8eb0876c\",\"type\":\"VBar\"},\"selection_glyph\":null,\"view\":{\"id\":\"ced5efc3-7203-44ee-a41f-21e627186714\",\"type\":\"CDSView\"}},\"id\":\"597c5a0f-f2f3-4fb3-8968-2e8113b9726e\",\"type\":\"GlyphRenderer\"},{\"attributes\":{},\"id\":\"962d7077-0f28-4494-bd92-14bcff8d1c39\",\"type\":\"ResetTool\"},{\"attributes\":{\"callback\":null,\"factors\":[\"1\",\"2\",\"3\",\"4\",\"5\",\"6\",\"7\",\"8\",\"9\",\"10\",\"11\"]},\"id\":\"dd0b21dd-911c-4e74-8981-c61e5374eadd\",\"type\":\"FactorRange\"},{\"attributes\":{\"callback\":null},\"id\":\"ee95c522-e21d-4307-b04d-f4bf25520f21\",\"type\":\"DataRange1d\"},{\"attributes\":{\"source\":{\"id\":\"28ddd438-8f32-4538-a058-f2d7bdffe6cf\",\"type\":\"ColumnDataSource\"}},\"id\":\"ced5efc3-7203-44ee-a41f-21e627186714\",\"type\":\"CDSView\"}],\"root_ids\":[\"dfb88410-b26d-4aeb-b48a-797269d1ab19\"]},\"title\":\"Bokeh Application\",\"version\":\"0.12.16\"}};\n",
       "  var render_items = [{\"docid\":\"eb350bda-c130-4742-bd4e-4c85539432c8\",\"elementid\":\"7736c960-4e2a-4bb8-91f0-84a7a0526d4c\",\"modelid\":\"dfb88410-b26d-4aeb-b48a-797269d1ab19\"}];\n",
       "  root.Bokeh.embed.embed_items_notebook(docs_json, render_items);\n",
       "\n",
       "  }\n",
       "  if (root.Bokeh !== undefined) {\n",
       "    embed_document(root);\n",
       "  } else {\n",
       "    var attempts = 0;\n",
       "    var timer = setInterval(function(root) {\n",
       "      if (root.Bokeh !== undefined) {\n",
       "        embed_document(root);\n",
       "        clearInterval(timer);\n",
       "      }\n",
       "      attempts++;\n",
       "      if (attempts > 100) {\n",
       "        console.log(\"Bokeh: ERROR: Unable to run BokehJS code because BokehJS library is missing\")\n",
       "        clearInterval(timer);\n",
       "      }\n",
       "    }, 10, root)\n",
       "  }\n",
       "})(window);"
      ],
      "application/vnd.bokehjs_exec.v0+json": ""
     },
     "metadata": {
      "application/vnd.bokehjs_exec.v0+json": {
       "id": "dfb88410-b26d-4aeb-b48a-797269d1ab19"
      }
     },
     "output_type": "display_data"
    },
    {
     "data": {
      "text/markdown": [
       "*FIGURE.* Difference between CLIRAD and CRD in TOA, SFC and net atmosphere flux, in each spectral band."
      ],
      "text/plain": [
       "<IPython.core.display.Markdown object>"
      ]
     },
     "metadata": {},
     "output_type": "display_data"
    },
    {
     "data": {
      "text/html": [
       "<div>\n",
       "<style scoped>\n",
       "    .dataframe tbody tr th:only-of-type {\n",
       "        vertical-align: middle;\n",
       "    }\n",
       "\n",
       "    .dataframe tbody tr th {\n",
       "        vertical-align: top;\n",
       "    }\n",
       "\n",
       "    .dataframe thead th {\n",
       "        text-align: right;\n",
       "    }\n",
       "</style>\n",
       "<table border=\"1\" class=\"dataframe\">\n",
       "  <thead>\n",
       "    <tr style=\"text-align: right;\">\n",
       "      <th></th>\n",
       "      <th>OLR flux</th>\n",
       "      <th>SFC flux</th>\n",
       "      <th>ATM heating</th>\n",
       "    </tr>\n",
       "    <tr>\n",
       "      <th>Sum over bands</th>\n",
       "      <th></th>\n",
       "      <th></th>\n",
       "      <th></th>\n",
       "    </tr>\n",
       "  </thead>\n",
       "  <tbody>\n",
       "    <tr>\n",
       "      <th>CLIRAD (single-run) - CRD</th>\n",
       "      <td>1.48</td>\n",
       "      <td>1.61</td>\n",
       "      <td>-0.13</td>\n",
       "    </tr>\n",
       "    <tr>\n",
       "      <th>CRD</th>\n",
       "      <td>-303.40</td>\n",
       "      <td>337.24</td>\n",
       "      <td>-181.37</td>\n",
       "    </tr>\n",
       "  </tbody>\n",
       "</table>\n",
       "</div>"
      ],
      "text/plain": [
       "                           OLR flux  SFC flux  ATM heating\n",
       "Sum over bands                                            \n",
       "CLIRAD (single-run) - CRD      1.48      1.61        -0.13\n",
       "CRD                         -303.40    337.24      -181.37"
      ]
     },
     "metadata": {},
     "output_type": "display_data"
    },
    {
     "data": {
      "text/markdown": [
       "*TABLE.* Difference between CLIRAD and CRD in TOA, SFC and net atmosphere flux, over all spectral bands. CRD's TOA, SFC and net atmosphere flux, over all spectral bands."
      ],
      "text/plain": [
       "<IPython.core.display.Markdown object>"
      ]
     },
     "metadata": {},
     "output_type": "display_data"
    }
   ],
   "source": [
    "def show_html(s):\n",
    "    display.display(display.HTML(s))\n",
    "\n",
    "    \n",
    "def show_markdown(s):\n",
    "    display.display(display.Markdown(s))\n",
    "\n",
    "\n",
    "def script():\n",
    "    \n",
    "    d_atm = {'mls': 'mid-latitude summer',\n",
    "             'saw': 'sub-arctic winter',\n",
    "             'trp': 'tropical'}\n",
    "    \n",
    "    title = ('## Results over entire range of molecules'\n",
    "             ' and spectral bands')\n",
    "    \n",
    "    s_makeup = 'Makeup of atmosphere.'\n",
    "    s_atmpro = '# {}'\n",
    "    s_cool = 'Cooling rates. {}.'\n",
    "    s_flux = 'Fluxes. {}.'\n",
    "    \n",
    "    atmpros = ['mls', 'saw', 'trp']\n",
    "    \n",
    "    # TOC\n",
    "    show_markdown(title)\n",
    "    show_markdown('### Table of Contents')\n",
    "    show_html(climahtml.getHTML_hrefanchor(s_makeup))\n",
    "    for atmpro in atmpros:\n",
    "        show_markdown('**' + d_atm[atmpro] + '**')\n",
    "        show_html(climahtml.getHTML_hrefanchor(s_cool.format(atmpro)))\n",
    "        show_html(climahtml.getHTML_hrefanchor(s_flux.format(atmpro)))\n",
    "\n",
    "        \n",
    "    # Atmosphere makeup\n",
    "    show_html(climahtml.getHTML_idanchor(s_makeup))\n",
    "    show_markdown(climahtml.getMarkdown_sectitle(s_makeup))\n",
    "    show_makeup()\n",
    "    show_grey_makeup()\n",
    "        \n",
    "    for atmpro in atmpros:\n",
    "        show_html(climahtml.getHTML_idanchor(s_cool.format(atmpro)))\n",
    "        show_markdown(\n",
    "            climahtml.getMarkdown_sectitle(s_cool.format(atmpro)))\n",
    "        show_cool(atmpro=atmpro)\n",
    "        show_html(climahtml.getHTML_idanchor(s_flux.format(atmpro)))\n",
    "        show_markdown(\n",
    "            climahtml.getMarkdown_sectitle(s_flux.format(atmpro)))\n",
    "        show_hist_flux(atmpro=atmpro)\n",
    "        show_tb_flux(atmpro=atmpro)\n",
    "    \n",
    "    \n",
    "script()  "
   ]
  },
  {
   "cell_type": "code",
   "execution_count": null,
   "metadata": {
    "collapsed": true
   },
   "outputs": [],
   "source": []
  },
  {
   "cell_type": "code",
   "execution_count": 1128,
   "metadata": {},
   "outputs": [
    {
     "data": {
      "text/html": [
       "<script>\n",
       "code_show=true; \n",
       "function code_toggle() {\n",
       " if (code_show){\n",
       " $('div.input').hide();\n",
       " } else {\n",
       " $('div.input').show();\n",
       " }\n",
       " code_show = !code_show\n",
       "} \n",
       "$( document ).ready(code_toggle);\n",
       "</script>\n",
       "<form action=\"javascript:code_toggle()\"><input type=\"submit\" value=\"Click here to toggle on/off the raw code.\"></form>"
      ],
      "text/plain": [
       "<IPython.core.display.HTML object>"
      ]
     },
     "execution_count": 1128,
     "metadata": {},
     "output_type": "execute_result"
    }
   ],
   "source": [
    "display.HTML('''<script>\n",
    "code_show=true; \n",
    "function code_toggle() {\n",
    " if (code_show){\n",
    " $('div.input').hide();\n",
    " } else {\n",
    " $('div.input').show();\n",
    " }\n",
    " code_show = !code_show\n",
    "} \n",
    "$( document ).ready(code_toggle);\n",
    "</script>\n",
    "<form action=\"javascript:code_toggle()\"><input type=\"submit\" value=\"Click here to toggle on/off the raw code.\"></form>''')"
   ]
  },
  {
   "cell_type": "code",
   "execution_count": null,
   "metadata": {
    "collapsed": true
   },
   "outputs": [],
   "source": []
  }
 ],
 "metadata": {
  "kernelspec": {
   "display_name": "Python 3",
   "language": "python",
   "name": "python3"
  },
  "language_info": {
   "codemirror_mode": {
    "name": "ipython",
    "version": 3
   },
   "file_extension": ".py",
   "mimetype": "text/x-python",
   "name": "python",
   "nbconvert_exporter": "python",
   "pygments_lexer": "ipython3",
   "version": "3.6.1"
  }
 },
 "nbformat": 4,
 "nbformat_minor": 2
}
