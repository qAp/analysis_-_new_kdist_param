{
 "cells": [
  {
   "cell_type": "code",
   "execution_count": 1143,
   "metadata": {
    "collapsed": true
   },
   "outputs": [],
   "source": [
    "import os\n",
    "import ast\n",
    "import json\n",
    "import importlib \n",
    "import itertools\n",
    "import collections\n",
    "import pprint\n",
    "\n",
    "from bokeh.io import output_notebook, show\n",
    "from bokeh.layouts import gridplot\n",
    "from bokeh.plotting import figure\n",
    "from bokeh.models import Range1d, Legend, ColumnDataSource, FactorRange\n",
    "from bokeh.palettes import all_palettes\n",
    "from bokeh.transform import factor_cmap\n",
    "\n",
    "import matplotlib\n",
    "import matplotlib.pyplot as plt\n",
    "import numpy as np\n",
    "import pandas as pd\n",
    "import xarray as xr\n",
    "\n",
    "\n",
    "import climatools.lblnew.bestfit_params as bestfits\n",
    "from climatools.lblnew import setup_bestfit, setup_overlap\n",
    "import climatools.lblnew.pipeline as pipe_lblnew\n",
    "import climatools.cliradlw.setup as setup_cliradlw\n",
    "import climatools.cliradlw.pipeline as pipe_cliradlw\n",
    "\n",
    "import climatools.html.html as climahtml\n",
    "from climatools.lblnew.dataio import *\n",
    "from climatools.plot.plot import *\n",
    "\n",
    "\n",
    "from IPython import display\n",
    "\n",
    "#importlib.reload(bestfits)\n",
    "#importlib.reload(setup_bestfit)\n",
    "#importlib.reload(setup_overlap)\n",
    "#importlib.reload(pipe_lblnew)\n",
    "#importlib.reload(setup_cliradlw)\n",
    "#importlib.reload(pipe_cliradlw)"
   ]
  },
  {
   "cell_type": "code",
   "execution_count": 1144,
   "metadata": {
    "scrolled": true
   },
   "outputs": [
    {
     "data": {
      "text/html": [
       "\n",
       "    <div class=\"bk-root\">\n",
       "        <a href=\"https://bokeh.pydata.org\" target=\"_blank\" class=\"bk-logo bk-logo-small bk-logo-notebook\"></a>\n",
       "        <span id=\"c144547b-c859-403e-9755-4e6d3e71d93e\">Loading BokehJS ...</span>\n",
       "    </div>"
      ]
     },
     "metadata": {},
     "output_type": "display_data"
    },
    {
     "data": {
      "application/javascript": [
       "\n",
       "(function(root) {\n",
       "  function now() {\n",
       "    return new Date();\n",
       "  }\n",
       "\n",
       "  var force = true;\n",
       "\n",
       "  if (typeof (root._bokeh_onload_callbacks) === \"undefined\" || force === true) {\n",
       "    root._bokeh_onload_callbacks = [];\n",
       "    root._bokeh_is_loading = undefined;\n",
       "  }\n",
       "\n",
       "  var JS_MIME_TYPE = 'application/javascript';\n",
       "  var HTML_MIME_TYPE = 'text/html';\n",
       "  var EXEC_MIME_TYPE = 'application/vnd.bokehjs_exec.v0+json';\n",
       "  var CLASS_NAME = 'output_bokeh rendered_html';\n",
       "\n",
       "  /**\n",
       "   * Render data to the DOM node\n",
       "   */\n",
       "  function render(props, node) {\n",
       "    var script = document.createElement(\"script\");\n",
       "    node.appendChild(script);\n",
       "  }\n",
       "\n",
       "  /**\n",
       "   * Handle when an output is cleared or removed\n",
       "   */\n",
       "  function handleClearOutput(event, handle) {\n",
       "    var cell = handle.cell;\n",
       "\n",
       "    var id = cell.output_area._bokeh_element_id;\n",
       "    var server_id = cell.output_area._bokeh_server_id;\n",
       "    // Clean up Bokeh references\n",
       "    if (id !== undefined) {\n",
       "      Bokeh.index[id].model.document.clear();\n",
       "      delete Bokeh.index[id];\n",
       "    }\n",
       "\n",
       "    if (server_id !== undefined) {\n",
       "      // Clean up Bokeh references\n",
       "      var cmd = \"from bokeh.io.state import curstate; print(curstate().uuid_to_server['\" + server_id + \"'].get_sessions()[0].document.roots[0]._id)\";\n",
       "      cell.notebook.kernel.execute(cmd, {\n",
       "        iopub: {\n",
       "          output: function(msg) {\n",
       "            var element_id = msg.content.text.trim();\n",
       "            Bokeh.index[element_id].model.document.clear();\n",
       "            delete Bokeh.index[element_id];\n",
       "          }\n",
       "        }\n",
       "      });\n",
       "      // Destroy server and session\n",
       "      var cmd = \"import bokeh.io.notebook as ion; ion.destroy_server('\" + server_id + \"')\";\n",
       "      cell.notebook.kernel.execute(cmd);\n",
       "    }\n",
       "  }\n",
       "\n",
       "  /**\n",
       "   * Handle when a new output is added\n",
       "   */\n",
       "  function handleAddOutput(event, handle) {\n",
       "    var output_area = handle.output_area;\n",
       "    var output = handle.output;\n",
       "\n",
       "    // limit handleAddOutput to display_data with EXEC_MIME_TYPE content only\n",
       "    if ((output.output_type != \"display_data\") || (!output.data.hasOwnProperty(EXEC_MIME_TYPE))) {\n",
       "      return\n",
       "    }\n",
       "\n",
       "    var toinsert = output_area.element.find(\".\" + CLASS_NAME.split(' ')[0]);\n",
       "\n",
       "    if (output.metadata[EXEC_MIME_TYPE][\"id\"] !== undefined) {\n",
       "      toinsert[toinsert.length - 1].firstChild.textContent = output.data[JS_MIME_TYPE];\n",
       "      // store reference to embed id on output_area\n",
       "      output_area._bokeh_element_id = output.metadata[EXEC_MIME_TYPE][\"id\"];\n",
       "    }\n",
       "    if (output.metadata[EXEC_MIME_TYPE][\"server_id\"] !== undefined) {\n",
       "      var bk_div = document.createElement(\"div\");\n",
       "      bk_div.innerHTML = output.data[HTML_MIME_TYPE];\n",
       "      var script_attrs = bk_div.children[0].attributes;\n",
       "      for (var i = 0; i < script_attrs.length; i++) {\n",
       "        toinsert[toinsert.length - 1].firstChild.setAttribute(script_attrs[i].name, script_attrs[i].value);\n",
       "      }\n",
       "      // store reference to server id on output_area\n",
       "      output_area._bokeh_server_id = output.metadata[EXEC_MIME_TYPE][\"server_id\"];\n",
       "    }\n",
       "  }\n",
       "\n",
       "  function register_renderer(events, OutputArea) {\n",
       "\n",
       "    function append_mime(data, metadata, element) {\n",
       "      // create a DOM node to render to\n",
       "      var toinsert = this.create_output_subarea(\n",
       "        metadata,\n",
       "        CLASS_NAME,\n",
       "        EXEC_MIME_TYPE\n",
       "      );\n",
       "      this.keyboard_manager.register_events(toinsert);\n",
       "      // Render to node\n",
       "      var props = {data: data, metadata: metadata[EXEC_MIME_TYPE]};\n",
       "      render(props, toinsert[toinsert.length - 1]);\n",
       "      element.append(toinsert);\n",
       "      return toinsert\n",
       "    }\n",
       "\n",
       "    /* Handle when an output is cleared or removed */\n",
       "    events.on('clear_output.CodeCell', handleClearOutput);\n",
       "    events.on('delete.Cell', handleClearOutput);\n",
       "\n",
       "    /* Handle when a new output is added */\n",
       "    events.on('output_added.OutputArea', handleAddOutput);\n",
       "\n",
       "    /**\n",
       "     * Register the mime type and append_mime function with output_area\n",
       "     */\n",
       "    OutputArea.prototype.register_mime_type(EXEC_MIME_TYPE, append_mime, {\n",
       "      /* Is output safe? */\n",
       "      safe: true,\n",
       "      /* Index of renderer in `output_area.display_order` */\n",
       "      index: 0\n",
       "    });\n",
       "  }\n",
       "\n",
       "  // register the mime type if in Jupyter Notebook environment and previously unregistered\n",
       "  if (root.Jupyter !== undefined) {\n",
       "    var events = require('base/js/events');\n",
       "    var OutputArea = require('notebook/js/outputarea').OutputArea;\n",
       "\n",
       "    if (OutputArea.prototype.mime_types().indexOf(EXEC_MIME_TYPE) == -1) {\n",
       "      register_renderer(events, OutputArea);\n",
       "    }\n",
       "  }\n",
       "\n",
       "  \n",
       "  if (typeof (root._bokeh_timeout) === \"undefined\" || force === true) {\n",
       "    root._bokeh_timeout = Date.now() + 5000;\n",
       "    root._bokeh_failed_load = false;\n",
       "  }\n",
       "\n",
       "  var NB_LOAD_WARNING = {'data': {'text/html':\n",
       "     \"<div style='background-color: #fdd'>\\n\"+\n",
       "     \"<p>\\n\"+\n",
       "     \"BokehJS does not appear to have successfully loaded. If loading BokehJS from CDN, this \\n\"+\n",
       "     \"may be due to a slow or bad network connection. Possible fixes:\\n\"+\n",
       "     \"</p>\\n\"+\n",
       "     \"<ul>\\n\"+\n",
       "     \"<li>re-rerun `output_notebook()` to attempt to load from CDN again, or</li>\\n\"+\n",
       "     \"<li>use INLINE resources instead, as so:</li>\\n\"+\n",
       "     \"</ul>\\n\"+\n",
       "     \"<code>\\n\"+\n",
       "     \"from bokeh.resources import INLINE\\n\"+\n",
       "     \"output_notebook(resources=INLINE)\\n\"+\n",
       "     \"</code>\\n\"+\n",
       "     \"</div>\"}};\n",
       "\n",
       "  function display_loaded() {\n",
       "    var el = document.getElementById(\"c144547b-c859-403e-9755-4e6d3e71d93e\");\n",
       "    if (el != null) {\n",
       "      el.textContent = \"BokehJS is loading...\";\n",
       "    }\n",
       "    if (root.Bokeh !== undefined) {\n",
       "      if (el != null) {\n",
       "        el.textContent = \"BokehJS \" + root.Bokeh.version + \" successfully loaded.\";\n",
       "      }\n",
       "    } else if (Date.now() < root._bokeh_timeout) {\n",
       "      setTimeout(display_loaded, 100)\n",
       "    }\n",
       "  }\n",
       "\n",
       "\n",
       "  function run_callbacks() {\n",
       "    try {\n",
       "      root._bokeh_onload_callbacks.forEach(function(callback) { callback() });\n",
       "    }\n",
       "    finally {\n",
       "      delete root._bokeh_onload_callbacks\n",
       "    }\n",
       "    console.info(\"Bokeh: all callbacks have finished\");\n",
       "  }\n",
       "\n",
       "  function load_libs(js_urls, callback) {\n",
       "    root._bokeh_onload_callbacks.push(callback);\n",
       "    if (root._bokeh_is_loading > 0) {\n",
       "      console.log(\"Bokeh: BokehJS is being loaded, scheduling callback at\", now());\n",
       "      return null;\n",
       "    }\n",
       "    if (js_urls == null || js_urls.length === 0) {\n",
       "      run_callbacks();\n",
       "      return null;\n",
       "    }\n",
       "    console.log(\"Bokeh: BokehJS not loaded, scheduling load and callback at\", now());\n",
       "    root._bokeh_is_loading = js_urls.length;\n",
       "    for (var i = 0; i < js_urls.length; i++) {\n",
       "      var url = js_urls[i];\n",
       "      var s = document.createElement('script');\n",
       "      s.src = url;\n",
       "      s.async = false;\n",
       "      s.onreadystatechange = s.onload = function() {\n",
       "        root._bokeh_is_loading--;\n",
       "        if (root._bokeh_is_loading === 0) {\n",
       "          console.log(\"Bokeh: all BokehJS libraries loaded\");\n",
       "          run_callbacks()\n",
       "        }\n",
       "      };\n",
       "      s.onerror = function() {\n",
       "        console.warn(\"failed to load library \" + url);\n",
       "      };\n",
       "      console.log(\"Bokeh: injecting script tag for BokehJS library: \", url);\n",
       "      document.getElementsByTagName(\"head\")[0].appendChild(s);\n",
       "    }\n",
       "  };var element = document.getElementById(\"c144547b-c859-403e-9755-4e6d3e71d93e\");\n",
       "  if (element == null) {\n",
       "    console.log(\"Bokeh: ERROR: autoload.js configured with elementid 'c144547b-c859-403e-9755-4e6d3e71d93e' but no matching script tag was found. \")\n",
       "    return false;\n",
       "  }\n",
       "\n",
       "  var js_urls = [\"https://cdn.pydata.org/bokeh/release/bokeh-0.12.16.min.js\", \"https://cdn.pydata.org/bokeh/release/bokeh-widgets-0.12.16.min.js\", \"https://cdn.pydata.org/bokeh/release/bokeh-tables-0.12.16.min.js\", \"https://cdn.pydata.org/bokeh/release/bokeh-gl-0.12.16.min.js\"];\n",
       "\n",
       "  var inline_js = [\n",
       "    function(Bokeh) {\n",
       "      Bokeh.set_log_level(\"info\");\n",
       "    },\n",
       "    \n",
       "    function(Bokeh) {\n",
       "      \n",
       "    },\n",
       "    function(Bokeh) {\n",
       "      console.log(\"Bokeh: injecting CSS: https://cdn.pydata.org/bokeh/release/bokeh-0.12.16.min.css\");\n",
       "      Bokeh.embed.inject_css(\"https://cdn.pydata.org/bokeh/release/bokeh-0.12.16.min.css\");\n",
       "      console.log(\"Bokeh: injecting CSS: https://cdn.pydata.org/bokeh/release/bokeh-widgets-0.12.16.min.css\");\n",
       "      Bokeh.embed.inject_css(\"https://cdn.pydata.org/bokeh/release/bokeh-widgets-0.12.16.min.css\");\n",
       "      console.log(\"Bokeh: injecting CSS: https://cdn.pydata.org/bokeh/release/bokeh-tables-0.12.16.min.css\");\n",
       "      Bokeh.embed.inject_css(\"https://cdn.pydata.org/bokeh/release/bokeh-tables-0.12.16.min.css\");\n",
       "    }\n",
       "  ];\n",
       "\n",
       "  function run_inline_js() {\n",
       "    \n",
       "    if ((root.Bokeh !== undefined) || (force === true)) {\n",
       "      for (var i = 0; i < inline_js.length; i++) {\n",
       "        inline_js[i].call(root, root.Bokeh);\n",
       "      }if (force === true) {\n",
       "        display_loaded();\n",
       "      }} else if (Date.now() < root._bokeh_timeout) {\n",
       "      setTimeout(run_inline_js, 100);\n",
       "    } else if (!root._bokeh_failed_load) {\n",
       "      console.log(\"Bokeh: BokehJS failed to load within specified timeout.\");\n",
       "      root._bokeh_failed_load = true;\n",
       "    } else if (force !== true) {\n",
       "      var cell = $(document.getElementById(\"c144547b-c859-403e-9755-4e6d3e71d93e\")).parents('.cell').data().cell;\n",
       "      cell.output_area.append_execute_result(NB_LOAD_WARNING)\n",
       "    }\n",
       "\n",
       "  }\n",
       "\n",
       "  if (root._bokeh_is_loading === 0) {\n",
       "    console.log(\"Bokeh: BokehJS loaded, going straight to plotting\");\n",
       "    run_inline_js();\n",
       "  } else {\n",
       "    load_libs(js_urls, function() {\n",
       "      console.log(\"Bokeh: BokehJS plotting callback run at\", now());\n",
       "      run_inline_js();\n",
       "    });\n",
       "  }\n",
       "}(window));"
      ],
      "application/vnd.bokehjs_load.v0+json": "\n(function(root) {\n  function now() {\n    return new Date();\n  }\n\n  var force = true;\n\n  if (typeof (root._bokeh_onload_callbacks) === \"undefined\" || force === true) {\n    root._bokeh_onload_callbacks = [];\n    root._bokeh_is_loading = undefined;\n  }\n\n  \n\n  \n  if (typeof (root._bokeh_timeout) === \"undefined\" || force === true) {\n    root._bokeh_timeout = Date.now() + 5000;\n    root._bokeh_failed_load = false;\n  }\n\n  var NB_LOAD_WARNING = {'data': {'text/html':\n     \"<div style='background-color: #fdd'>\\n\"+\n     \"<p>\\n\"+\n     \"BokehJS does not appear to have successfully loaded. If loading BokehJS from CDN, this \\n\"+\n     \"may be due to a slow or bad network connection. Possible fixes:\\n\"+\n     \"</p>\\n\"+\n     \"<ul>\\n\"+\n     \"<li>re-rerun `output_notebook()` to attempt to load from CDN again, or</li>\\n\"+\n     \"<li>use INLINE resources instead, as so:</li>\\n\"+\n     \"</ul>\\n\"+\n     \"<code>\\n\"+\n     \"from bokeh.resources import INLINE\\n\"+\n     \"output_notebook(resources=INLINE)\\n\"+\n     \"</code>\\n\"+\n     \"</div>\"}};\n\n  function display_loaded() {\n    var el = document.getElementById(\"c144547b-c859-403e-9755-4e6d3e71d93e\");\n    if (el != null) {\n      el.textContent = \"BokehJS is loading...\";\n    }\n    if (root.Bokeh !== undefined) {\n      if (el != null) {\n        el.textContent = \"BokehJS \" + root.Bokeh.version + \" successfully loaded.\";\n      }\n    } else if (Date.now() < root._bokeh_timeout) {\n      setTimeout(display_loaded, 100)\n    }\n  }\n\n\n  function run_callbacks() {\n    try {\n      root._bokeh_onload_callbacks.forEach(function(callback) { callback() });\n    }\n    finally {\n      delete root._bokeh_onload_callbacks\n    }\n    console.info(\"Bokeh: all callbacks have finished\");\n  }\n\n  function load_libs(js_urls, callback) {\n    root._bokeh_onload_callbacks.push(callback);\n    if (root._bokeh_is_loading > 0) {\n      console.log(\"Bokeh: BokehJS is being loaded, scheduling callback at\", now());\n      return null;\n    }\n    if (js_urls == null || js_urls.length === 0) {\n      run_callbacks();\n      return null;\n    }\n    console.log(\"Bokeh: BokehJS not loaded, scheduling load and callback at\", now());\n    root._bokeh_is_loading = js_urls.length;\n    for (var i = 0; i < js_urls.length; i++) {\n      var url = js_urls[i];\n      var s = document.createElement('script');\n      s.src = url;\n      s.async = false;\n      s.onreadystatechange = s.onload = function() {\n        root._bokeh_is_loading--;\n        if (root._bokeh_is_loading === 0) {\n          console.log(\"Bokeh: all BokehJS libraries loaded\");\n          run_callbacks()\n        }\n      };\n      s.onerror = function() {\n        console.warn(\"failed to load library \" + url);\n      };\n      console.log(\"Bokeh: injecting script tag for BokehJS library: \", url);\n      document.getElementsByTagName(\"head\")[0].appendChild(s);\n    }\n  };var element = document.getElementById(\"c144547b-c859-403e-9755-4e6d3e71d93e\");\n  if (element == null) {\n    console.log(\"Bokeh: ERROR: autoload.js configured with elementid 'c144547b-c859-403e-9755-4e6d3e71d93e' but no matching script tag was found. \")\n    return false;\n  }\n\n  var js_urls = [\"https://cdn.pydata.org/bokeh/release/bokeh-0.12.16.min.js\", \"https://cdn.pydata.org/bokeh/release/bokeh-widgets-0.12.16.min.js\", \"https://cdn.pydata.org/bokeh/release/bokeh-tables-0.12.16.min.js\", \"https://cdn.pydata.org/bokeh/release/bokeh-gl-0.12.16.min.js\"];\n\n  var inline_js = [\n    function(Bokeh) {\n      Bokeh.set_log_level(\"info\");\n    },\n    \n    function(Bokeh) {\n      \n    },\n    function(Bokeh) {\n      console.log(\"Bokeh: injecting CSS: https://cdn.pydata.org/bokeh/release/bokeh-0.12.16.min.css\");\n      Bokeh.embed.inject_css(\"https://cdn.pydata.org/bokeh/release/bokeh-0.12.16.min.css\");\n      console.log(\"Bokeh: injecting CSS: https://cdn.pydata.org/bokeh/release/bokeh-widgets-0.12.16.min.css\");\n      Bokeh.embed.inject_css(\"https://cdn.pydata.org/bokeh/release/bokeh-widgets-0.12.16.min.css\");\n      console.log(\"Bokeh: injecting CSS: https://cdn.pydata.org/bokeh/release/bokeh-tables-0.12.16.min.css\");\n      Bokeh.embed.inject_css(\"https://cdn.pydata.org/bokeh/release/bokeh-tables-0.12.16.min.css\");\n    }\n  ];\n\n  function run_inline_js() {\n    \n    if ((root.Bokeh !== undefined) || (force === true)) {\n      for (var i = 0; i < inline_js.length; i++) {\n        inline_js[i].call(root, root.Bokeh);\n      }if (force === true) {\n        display_loaded();\n      }} else if (Date.now() < root._bokeh_timeout) {\n      setTimeout(run_inline_js, 100);\n    } else if (!root._bokeh_failed_load) {\n      console.log(\"Bokeh: BokehJS failed to load within specified timeout.\");\n      root._bokeh_failed_load = true;\n    } else if (force !== true) {\n      var cell = $(document.getElementById(\"c144547b-c859-403e-9755-4e6d3e71d93e\")).parents('.cell').data().cell;\n      cell.output_area.append_execute_result(NB_LOAD_WARNING)\n    }\n\n  }\n\n  if (root._bokeh_is_loading === 0) {\n    console.log(\"Bokeh: BokehJS loaded, going straight to plotting\");\n    run_inline_js();\n  } else {\n    load_libs(js_urls, function() {\n      console.log(\"Bokeh: BokehJS plotting callback run at\", now());\n      run_inline_js();\n    });\n  }\n}(window));"
     },
     "metadata": {},
     "output_type": "display_data"
    }
   ],
   "source": [
    "output_notebook()"
   ]
  },
  {
   "cell_type": "code",
   "execution_count": 1145,
   "metadata": {
    "collapsed": true
   },
   "outputs": [],
   "source": [
    "'''\n",
    "Get the clirad-lw and lblnew `param`s for all spectral bands.  \n",
    "These are returned by functions `clirad_params_atm` and\n",
    "`lblnew_params_atm`, respectively.\n",
    "'''\n",
    "\n",
    "def molecules_byband_atm():\n",
    "    return {1: {'h2o': 'atmpro'},\n",
    "            2: {'h2o': 'atmpro'}, \n",
    "            3: {'co2': 0.0004, 'h2o': 'atmpro', 'n2o': 3.2e-07},\n",
    "            4: {'co2': 0.0004, 'h2o': 'atmpro'},\n",
    "            5: {'co2': 0.0004, 'h2o': 'atmpro'},\n",
    "            6: {'co2': 0.0004, 'h2o': 'atmpro'},\n",
    "            7: {'co2': 0.0004, 'h2o': 'atmpro', 'o3': 'atmpro'},\n",
    "            8: {'h2o': 'atmpro'},\n",
    "            9: {'ch4': 1.8e-06, 'h2o': 'atmpro', 'n2o': 3.2e-07},\n",
    "            10: {'h2o': 'atmpro'},\n",
    "            11: {'co2': 0.0004, 'h2o': 'atmpro'}}\n",
    "\n",
    "\n",
    "def greyabsorbers_by_band_atm():\n",
    "    return {1: {'con': 'atmpro'},\n",
    "            2: {'con': 'atmpro'},\n",
    "            3: {'con': 'atmpro'},\n",
    "            4: {'con': 'atmpro'},\n",
    "            5: {'con': 'atmpro'},\n",
    "            6: {'con': 'atmpro'}, \n",
    "            7: {'con': 'atmpro'},\n",
    "            8: {'con': 'atmpro', 'n2o': 3.2e-7}, \n",
    "            9: {'con': 'atmpro'}, \n",
    "            10: None,\n",
    "            11: None}\n",
    "\n",
    "\n",
    "def clirad_params_atm(atmpro='mls'):\n",
    "    d = {}\n",
    "    for band, molecule in molecules_byband_atm().items():\n",
    "        for param in setup_cliradlw.test_cases():\n",
    "            if [band] == param['band'] and molecule == param['molecule']:\n",
    "                param['atmpro'] = atmpro\n",
    "                d[band] = param\n",
    "                break                \n",
    "    return d\n",
    "\n",
    "\n",
    "def clirad_params_atm_singlerun(atmpro='mls'):\n",
    "    '''\n",
    "    Returns param of clirad-lw run that is equivalent to the total\n",
    "    of all the runs listed in molecules_byband_atm().  In order\n",
    "    for the output to be compatible with clirad_data_atm(), it will\n",
    "    be a list.\n",
    "    '''\n",
    "    param0 = {'band': [1, 2, 3, 4, 5, 6, 7, 8, 9, 10, 11],\n",
    "              'commitnumber': '3cb9795',\n",
    "              'molecule': {'ch4': 1.8e-06,\n",
    "                           'co2': 0.0004,\n",
    "                           'h2o': 'atmpro',\n",
    "                           'n2o': 3.2e-07,\n",
    "                           'o3': 'atmpro'}}\n",
    "    \n",
    "    d_atmpros = {'mls': 294, 'saw': 257, 'trp': 300}\n",
    "    \n",
    "    param = param0.copy()\n",
    "    param['atmpro'] = atmpro\n",
    "    param['tsfc'] = d_atmpros[atmpro]\n",
    "    \n",
    "    d = {}\n",
    "    d['all'] = param\n",
    "    return d\n",
    "\n",
    "\n",
    "def analysis_dirs_atm(atmpro='mls'):\n",
    "    params = clirad_params_atm(atmpro=atmpro)\n",
    "    return {band: pipe_cliradlw.get_analysis_dir(param=param,\n",
    "                                                 setup=setup_cliradlw) \n",
    "            for band, param in params.items()}\n",
    "\n",
    "\n",
    "def lblnew_params_atm(atmpro='mls'):\n",
    "    dirs = analysis_dirs_atm(atmpro=atmpro)\n",
    "    \n",
    "    d = {}\n",
    "    for band, dirname in dirs.items():\n",
    "        with open(os.path.join(dirname, 'param.py'), \n",
    "                  mode='r', encoding='utf-8') as f:\n",
    "            _, l = f.readlines()\n",
    "        \n",
    "        s = l.split('=')[1].strip()\n",
    "        d[band] = ast.literal_eval(s)\n",
    "        \n",
    "    return d\n"
   ]
  },
  {
   "cell_type": "code",
   "execution_count": 1146,
   "metadata": {
    "collapsed": true
   },
   "outputs": [],
   "source": [
    "def db_getdir():\n",
    "    atmpro = 'mls'\n",
    "    params = clirad_params_atm_singlerun(atmpro=atmpro)\n",
    "    param = params['all']\n",
    "    \n",
    "    fdir = pipe_cliradlw.get_fortran_dir(param=param, \n",
    "                                         setup=setup_cliradlw)\n",
    "    return fdir\n",
    "\n",
    "\n",
    "def db_ktable():\n",
    "    fdir = db_getdir()    \n",
    "    fpath = os.path.join(fdir, 'ktable.dat')\n",
    "    \n",
    "    df = pd.read_csv(fpath, sep=r'\\s+')\n",
    "    df = df.set_index(['band', 'mid', 'il', 'it', 'g'])\n",
    "    ds = xr.Dataset.from_dataframe(df)\n",
    "    return ds\n",
    "\n",
    "\n",
    "def db_ng_dgs():\n",
    "    fdir = db_getdir()\n",
    "    fpath = os.path.join(fdir, 'ng_dgs.dat')\n",
    "    \n",
    "    df = pd.read_csv(fpath, sep=r'\\s+')\n",
    "    df = df.set_index(['band', 'mid', 'g'])\n",
    "    ds = xr.Dataset.from_dataframe(df)\n",
    "    return ds\n"
   ]
  },
  {
   "cell_type": "code",
   "execution_count": 1147,
   "metadata": {
    "collapsed": true
   },
   "outputs": [],
   "source": [
    "def show_makeup():\n",
    "    df = pd.DataFrame()\n",
    "\n",
    "    for band, molecule in molecules_byband_atm().items():\n",
    "        for name, conc in molecule.items():\n",
    "            df.loc[name, band] = str(conc)\n",
    "\n",
    "    df = df.fillna(0)\n",
    "    df.columns.name = 'clirad band'\n",
    "    df.index.name = 'molecule'\n",
    "    \n",
    "    display.display(df)\n",
    "    \n",
    "    display.display(\n",
    "        display.Markdown('*TABLE.* Non-grey absorbers in the atmosphere.'))\n",
    "\n",
    "\n",
    "def show_grey_makeup():\n",
    "    df = pd.DataFrame()\n",
    "    \n",
    "    for band, molecule in greyabsorbers_by_band_atm().items():\n",
    "        if molecule == None:\n",
    "            pass\n",
    "        else:\n",
    "            for name, conc in molecule.items():\n",
    "                df.loc[name, band] = str(conc)\n",
    "                \n",
    "    df = df.fillna(0)\n",
    "    df.columns.name = 'clirad band'\n",
    "    df.index.name = 'absorber'\n",
    "    \n",
    "    display.display(df)\n",
    "    display.display(\n",
    "        display.Markdown('*TABLE.* Grey absorbers in the atmosphere.')\n",
    "    )"
   ]
  },
  {
   "cell_type": "code",
   "execution_count": 1148,
   "metadata": {
    "collapsed": true
   },
   "outputs": [],
   "source": [
    "def load_output_file(path_csv):\n",
    "    '''\n",
    "    Load lblnew output .csv file to xarray.Dataset\n",
    "    \n",
    "    Parameters\n",
    "    ----------\n",
    "    path_csv: str\n",
    "              Path to the .csv file to be loaded.\n",
    "    ds: xarray.Dataset\n",
    "        Data in the input file in the form of an xarray.Dataset.\n",
    "    '''\n",
    "    toindex = ['band', 'pressure', 'igg', 'g']    \n",
    "    df = pd.read_csv(path_csv, sep=r'\\s+')\n",
    "    df = df.set_index([i for i in toindex if i in df.columns])\n",
    "    df = df.rename(columns={'sfu': 'flug',\n",
    "                            'sfd': 'fldg',\n",
    "                            'fnet': 'fnetg',\n",
    "                            'coolr': 'coolrg'})\n",
    "    ds = xr.Dataset.from_dataframe(df)\n",
    "\n",
    "    for l in ('level', 'layer'):\n",
    "        if l in ds.data_vars:\n",
    "            if len(ds[l].dims) > 1:\n",
    "                surface = {d: 0 for d in ds.dims if d != 'pressure'}\n",
    "                coord_level = ds[l][surface]\n",
    "                ds.coords[l] = ('pressure', coord_level)\n",
    "            else:\n",
    "                ds.coords[l] = ('pressure', ds[l])\n",
    "    \n",
    "    return ds"
   ]
  },
  {
   "cell_type": "code",
   "execution_count": 1149,
   "metadata": {
    "collapsed": true
   },
   "outputs": [],
   "source": [
    "def lblnew_setup(param=None):\n",
    "    if 'ng_refs' in param:\n",
    "        return {'setup': setup_bestfit,\n",
    "                'fname_flux_crd': 'output_flux.dat',\n",
    "                'fname_cool_crd': 'output_coolr.dat',\n",
    "                'fname_flux_wgt': 'output_wfluxg.dat',\n",
    "                'fname_cool_wgt': 'output_wcoolrg.dat'}\n",
    "    else:\n",
    "        return {'setup': setup_overlap,\n",
    "                'fname_flux_crd': 'output_flux.dat',\n",
    "                'fname_cool_crd': 'output_coolr.dat',\n",
    "                'fname_flux_wgt': 'output_wflux.dat',\n",
    "                'fname_cool_wgt': 'output_wcoolr.dat'}\n",
    "\n",
    "    \n",
    "def load_lblnew_data(param):\n",
    "    \n",
    "    fname_dsname = [('fname_flux_crd', 'ds_flux_crd'),\n",
    "                    ('fname_cool_crd', 'ds_cool_crd'),\n",
    "                    ('fname_flux_wgt', 'ds_flux_wgt'),\n",
    "                    ('fname_cool_wgt', 'ds_cool_wgt')]\n",
    "    \n",
    "    d = lblnew_setup(param)\n",
    "    dir_fortran = pipe_lblnew.get_dir_case(param, setup=d['setup'])\n",
    "    \n",
    "    data_dict = {}\n",
    "    for fname, dsname in fname_dsname:\n",
    "        fpath = os.path.join(dir_fortran, d[fname])\n",
    "        data_dict[dsname] = load_output_file(fpath)\n",
    "    return data_dict"
   ]
  },
  {
   "cell_type": "code",
   "execution_count": 1150,
   "metadata": {
    "collapsed": true
   },
   "outputs": [],
   "source": [
    "def crd_data_atm(params_atm):\n",
    "    '''\n",
    "    Parameters\n",
    "    ----------\n",
    "    \n",
    "    params_atm: dict\n",
    "                Parameter dictionary for each band.\n",
    "                \n",
    "    d: dict\n",
    "       'flux': xr.Dataset. [pressure, band]\n",
    "               Fluxes.\n",
    "       'cool': xr.Dataset. [pressure, band]\n",
    "               Cooling rate.\n",
    "    \n",
    "    '''\n",
    "    \n",
    "    results_atm = {band: load_lblnew_data(param) \n",
    "                   for band, param in params_atm.items()}\n",
    "    \n",
    "    bands = [band for band, _ in params_atm.items()]\n",
    "    fluxs = [d['ds_flux_crd'] for _, d in results_atm.items()]\n",
    "    cools = [d['ds_cool_crd'] for _, d in results_atm.items()]\n",
    "    \n",
    "    d = {}\n",
    "    d['flux'] = xr.concat(fluxs, dim=bands).rename({'concat_dim': 'band'})\n",
    "    d['cool'] = xr.concat(cools, dim=bands).rename({'concat_dim': 'band'})\n",
    "    return d        \n",
    "        \n",
    "        \n",
    "\n",
    "def clirad_data_atm(params_atm):\n",
    "    \n",
    "    dirnames = [pipe_cliradlw.get_fortran_dir(param,\n",
    "                                              setup=setup_cliradlw)\n",
    "                for _, param in params_atm.items()]\n",
    "    \n",
    "    fpaths_flux = [os.path.join(n, 'output_flux.dat') for n in dirnames]\n",
    "    fpaths_cool = [os.path.join(n, 'output_coolr.dat') for n in dirnames]\n",
    "    \n",
    "    fluxs = [load_output_file(p) for p in fpaths_flux]    \n",
    "    cools = [load_output_file(p) for p in fpaths_cool]\n",
    "    \n",
    "    d = {}\n",
    "    d['flux'] = sum(fluxs)\n",
    "    d['cool'] = sum(cools)\n",
    "    return d\n",
    "\n"
   ]
  },
  {
   "cell_type": "code",
   "execution_count": 1151,
   "metadata": {
    "collapsed": true
   },
   "outputs": [],
   "source": [
    "\n",
    "\n",
    "import rtmtools.clirad.sw.wrangle as cliradwrangle\n",
    "\n",
    "import importlib\n",
    "importlib.reload(cliradwrangle)\n",
    "\n",
    "def oldclirad_data_atm():\n",
    "    '''\n",
    "    Load the OLD clirad's results. mls only.\n",
    "    '''\n",
    "    fpath = os.path.join('/chia_cluster/home/jackyu/radiation',\n",
    "                         'clirad-lw',\n",
    "                         'LW',\n",
    "                         'examples',\n",
    "                         'mls75_h2o_atmpro_co2_.0004_o3_atmpro_n2o_3.2e-7_ch4_1.8e-6_H2012',\n",
    "                         'OUTPUT_CLIRAD.dat')\n",
    "    \n",
    "    ds = cliradwrangle.load_OUTPUT_CLIRAD(readfrom=fpath)\n",
    "    \n",
    "    ds_cool = xr.Dataset()\n",
    "    ds_cool.coords['pressure'] = ('pressure', ds['layer_pressure'])\n",
    "    ds_cool.coords['band'] = ('band', ds['spectral_band'])\n",
    "    ds_cool['coolrg'] = (('band', 'pressure'), - ds['heating_rate'])\n",
    "    \n",
    "    ds_flux = xr.Dataset()\n",
    "    ds_flux.coords['pressure'] = ('pressure', ds['level_pressure'])\n",
    "    ds_flux.coords['band'] = ('band', ds['spectral_band'])\n",
    "    ds_flux['flug'] = (('band', 'pressure'), ds['flux_up'])\n",
    "    ds_flux['fldg'] = (('band', 'pressure'), ds['flux_down'])\n",
    "    ds_flux['fnetg'] = (('band', 'pressure'), ds['net_flux'])\n",
    "    \n",
    "    \n",
    "    d = {}\n",
    "    d['cool'] = ds_cool\n",
    "    d['flux'] = ds_flux\n",
    "    return d\n"
   ]
  },
  {
   "cell_type": "code",
   "execution_count": 1152,
   "metadata": {
    "collapsed": true
   },
   "outputs": [],
   "source": [
    "def fmt_cool(ds_in):\n",
    "    ds = ds_in.copy(deep=True)\n",
    "    if 'igg' in ds.dims:\n",
    "        ds = ds.sel(igg=1)\n",
    "\n",
    "    if 'g' in ds.dims:\n",
    "        ds = ds.sum('g')\n",
    "            \n",
    "    if 'band' in ds.dims:\n",
    "        try:\n",
    "            ds = ds.squeeze('band')\n",
    "        except ValueError:\n",
    "            ds = ds.sum('band')\n",
    "                \n",
    "    return ds['coolrg']\n",
    "\n",
    "\n",
    "\n",
    "def nice_xlims(pltdata=None, prange=None):\n",
    "    \n",
    "    def get_slice(srs):\n",
    "        return srs.sel(pressure=slice(*prange))\n",
    "    \n",
    "    srss = [d['srs'] for d in pltdata]\n",
    "    vmin = min([get_slice(srs).min() for srs in srss])\n",
    "    vmax = max([get_slice(srs).max() for srs in srss])\n",
    "    dv = (vmax - vmin) * .01\n",
    "    return float(vmin - dv), float(vmax + dv)\n",
    "\n",
    "\n",
    "    \n",
    "def plt_cool_bokeh(pltdata=None, \n",
    "                   y_axis_type='linear', prange=(50, 1050)):\n",
    "    \n",
    "    ymin = 1e-2 \n",
    "    ymax = 1020\n",
    "    \n",
    "    p2 = figure(y_axis_type=y_axis_type, plot_width=300)\n",
    "    xmin, xmax = nice_xlims(pltdata, prange=prange)\n",
    "    \n",
    "    rs = []\n",
    "    for d in pltdata:\n",
    "        rd = []\n",
    "        if 'marker' in d:\n",
    "            r_mark = getattr(p2, d['marker'])(d['srs'].values, \n",
    "                        d['srs'].coords['pressure'].values,\n",
    "                        color=d['color'], alpha=.7)\n",
    "            rd.append(r_mark)\n",
    "        r_line = p2.line(d['srs'].values, \n",
    "                         d['srs'].coords['pressure'].values,\n",
    "                         color=d['color'], alpha=d['alpha'], \n",
    "                         line_width=d['line_width'], \n",
    "                         line_dash=d['line_dash'])\n",
    "        rd.append(r_line)\n",
    "      \n",
    "        rs.append(rd)\n",
    "        \n",
    "    p2.y_range = Range1d(ymax, ymin)  \n",
    "    p2.yaxis.axis_label = 'pressure [mb]'\n",
    "    \n",
    "    p2.x_range = Range1d(xmin, xmax)\n",
    "    p2.xaxis.axis_label = 'cooling rate [K/day]'\n",
    "    \n",
    "    items = [(d['label'], r) for r, d in zip(rs, pltdata)]\n",
    "    legend = Legend(items=items, location=(10, 0))\n",
    "    legend.label_text_font_size = '8pt'\n",
    "    p2.add_layout(legend, 'above')\n",
    "    p2.legend.orientation = 'horizontal'\n",
    "    p2.legend.location = 'top_center'\n",
    "    \n",
    "    return p2"
   ]
  },
  {
   "cell_type": "code",
   "execution_count": 1153,
   "metadata": {
    "collapsed": true
   },
   "outputs": [],
   "source": [
    "def pltdata_cool(atmpro='mls'):\n",
    "    \n",
    "    d_clirad_singlerun = clirad_data_atm(\n",
    "        clirad_params_atm_singlerun(atmpro=atmpro))\n",
    "    d_clirad = clirad_data_atm(clirad_params_atm(atmpro=atmpro))\n",
    "    d_crd = crd_data_atm(lblnew_params_atm(atmpro=atmpro))\n",
    "\n",
    "    ds_clirad_singlerun = d_clirad_singlerun['cool']\n",
    "    ds_clirad = d_clirad['cool']\n",
    "    ds_crd = d_crd['cool']\n",
    "\n",
    "    colors = all_palettes['Set1'][4]\n",
    "    \n",
    "    data = [\n",
    "        {'label': 'CLIRAD (single-run)',\n",
    "        'srs': fmt_cool(ds_clirad_singlerun),\n",
    "        'line_dash': 'dashed', 'line_width': 5,\n",
    "        'color': colors[1], 'alpha': .6},\n",
    "        {'label': 'CRD',\n",
    "         'srs': fmt_cool(ds_crd),\n",
    "         'line_dash': 'solid', 'line_width': 1.5,\n",
    "         'marker': 'circle', 'marker_size': 5,\n",
    "         'color': colors[2], 'alpha': 1}\n",
    "    ]\n",
    "#        {'label': 'CLIRAD',\n",
    "#         'srs': fmt_cool(ds_clirad),\n",
    "#         'line_dash': 'dashed', 'line_width': 5,\n",
    "#         'color': colors[0], 'alpha': .6}\n",
    "        \n",
    "\n",
    "    \n",
    "    # include old CLIRAD's results for mls profile\n",
    "    if atmpro == 'mls':\n",
    "        d_oldclirad = oldclirad_data_atm()\n",
    "        ds_oldclirad = d_oldclirad['cool']        \n",
    "        data.append(\n",
    "            {'label': 'old CLIRAD (H2012)',\n",
    "             'srs': fmt_cool(ds_oldclirad),\n",
    "             'line_dash': 'solid', 'line_width': 1.5,\n",
    "             'marker': 'square', 'marker_size': 3,\n",
    "             'color': colors[3], 'alpha': .5})\n",
    "    return data\n",
    "\n",
    "\n",
    "def pltdata_cooldiff(atmpro='mls'):\n",
    "    \n",
    "    d_clirad_singlerun = clirad_data_atm(\n",
    "        clirad_params_atm_singlerun(atmpro=atmpro))\n",
    "    d_clirad = clirad_data_atm(clirad_params_atm(atmpro=atmpro))\n",
    "    d_crd = crd_data_atm(lblnew_params_atm(atmpro=atmpro))\n",
    "    \n",
    "    ds_clirad_singlerun = d_clirad_singlerun['cool']\n",
    "    ds_clirad = d_clirad['cool']\n",
    "    ds_crd = d_crd['cool']\n",
    "    \n",
    "    ds_diff = ds_clirad_singlerun - ds_crd\n",
    "    \n",
    "    colors = all_palettes['Set1'][4]\n",
    "    \n",
    "    data = [\n",
    "        {'label': 'CLIRAD (single-run) - CRD',\n",
    "         'srs': fmt_cool(ds_diff),\n",
    "         'line_dash': 'solid', 'line_width': 1.5, \n",
    "         'marker': 'circle', 'marker_size': 7,\n",
    "         'color': colors[3], 'alpha': .8}\n",
    "    ]\n",
    "    \n",
    "    # include old CLIRAD's results for mls profile\n",
    "    if atmpro == 'mls':\n",
    "        d_oldclirad = oldclirad_data_atm()\n",
    "        ds_oldclirad = d_oldclirad['cool']\n",
    "        ds_oldclirad.coords['pressure'] = ds_crd.coords['pressure']\n",
    "        ds_diff_old = ds_oldclirad.sum('band') - ds_crd.sum('band')\n",
    "        data.append(\n",
    "            {'label': 'old CLIRAD (H2012) - CRD',\n",
    "             'srs': fmt_cool(ds_diff_old),\n",
    "             'line_dash': 'dashed', 'line_width': 4,\n",
    "             'color': colors[1], 'alpha': .5}\n",
    "        )\n",
    "    return data\n",
    "\n",
    "\n",
    "def show_cool(atmpro='mls'):\n",
    "    \n",
    "    data_cool = pltdata_cool(atmpro=atmpro)\n",
    "    p_cool_liny = plt_cool_bokeh(pltdata=data_cool)\n",
    "    p_cool_logy = plt_cool_bokeh(pltdata=data_cool, \n",
    "                                 y_axis_type='log',\n",
    "                                 prange=(.01, 200))\n",
    "    \n",
    "    data_cooldiff = pltdata_cooldiff(atmpro=atmpro)\n",
    "    p_cooldiff_logy = plt_cool_bokeh(pltdata=data_cooldiff,\n",
    "                                     y_axis_type='log',\n",
    "                                     prange=(.01, 200))\n",
    "    \n",
    "    everything = gridplot(p_cool_liny, p_cool_logy, \n",
    "                          p_cooldiff_logy,\n",
    "                          ncols=3)\n",
    "    show(everything)\n",
    "    display.display(\n",
    "        display.Markdown('*FIGURE.* Cooling rates & difference.'))\n",
    "\n",
    "\n",
    "    "
   ]
  },
  {
   "cell_type": "code",
   "execution_count": null,
   "metadata": {
    "collapsed": true
   },
   "outputs": [],
   "source": []
  },
  {
   "cell_type": "code",
   "execution_count": 1154,
   "metadata": {
    "collapsed": true,
    "scrolled": false
   },
   "outputs": [],
   "source": [
    "\n",
    "\n",
    "def hist_band_vs_flux(da, title='Title'):\n",
    "       \n",
    "    bands = [str(b.values) for b in da['band']]\n",
    "\n",
    "    source = ColumnDataSource(\n",
    "        data={'band': bands, 'flux': da.values})\n",
    "\n",
    "    p = figure(x_range=bands, title=title)\n",
    "    p.vbar(source=source, x='band', top='flux', width=.9)\n",
    "\n",
    "    p.yaxis.axis_label = 'flux (W m-2)'\n",
    "    p.xaxis.axis_label = 'spectral band'\n",
    "    \n",
    "    return p\n",
    "\n",
    "\n",
    "def show_hist_flux(atmpro='mls'):\n",
    "    ds_crd = crd_data_atm(lblnew_params_atm(atmpro=atmpro))['flux']\n",
    "    ds_clirad = clirad_data_atm(\n",
    "        clirad_params_atm(atmpro=atmpro))['flux']\n",
    "    ds_clirad_singlerun = clirad_data_atm(\n",
    "        clirad_params_atm_singlerun(atmpro=atmpro))['flux']\n",
    "    \n",
    "    ip, varname = 0, 'flug'\n",
    "    da = (ds_clirad_singlerun - ds_crd).isel(pressure=ip)[varname]\n",
    "    p_toa = hist_band_vs_flux(da, \n",
    "        title='TOA flux. CLIRAD (single-run) - CRD.')\n",
    "\n",
    "    ip, varname = -1, 'fldg'\n",
    "    da = (ds_clirad_singlerun - ds_crd).isel(pressure=ip)[varname]\n",
    "    p_sfc = hist_band_vs_flux(da, \n",
    "        title='SFC flux. CLIRAD (single-run) - CRD.')    \n",
    "    \n",
    "    atm_crd = (ds_crd.isel(pressure=0) \n",
    "               - ds_crd.isel(pressure=-1))['fnetg']\n",
    "    atm_clirad_singlerun = (ds_clirad_singlerun.isel(pressure=0) \n",
    "                  - ds_clirad_singlerun.isel(pressure=-1))['fnetg']\n",
    "    da = atm_clirad_singlerun - atm_crd\n",
    "    p_atm = hist_band_vs_flux(da, \n",
    "        title='Atmosphere heating. CLIRAD (single-run) - CRD.')\n",
    "\n",
    "    everything = gridplot(p_toa, p_sfc, p_atm, ncols=3, \n",
    "                          plot_width=300, plot_height=300)\n",
    "    \n",
    "    show(everything)\n",
    "    display.display(\n",
    "        display.Markdown('*FIGURE.* Difference between CLIRAD and CRD'\n",
    "          ' in TOA, SFC and net atmosphere flux,'\n",
    "          ' in each spectral band.'))\n",
    "\n",
    "\n",
    "    \n",
    "def show_tb_flux(atmpro='mls'):\n",
    "    \n",
    "    def fmt(da_in):\n",
    "        da = da_in.copy(deep=True)\n",
    "        if 'igg' in da.dims:\n",
    "            da = da.sel(igg=1)\n",
    "            \n",
    "        if 'g' in da.dims:\n",
    "            da = da.sum('g')\n",
    "        \n",
    "        if 'band' in da.dims:\n",
    "            try:\n",
    "                da = da.squeeze('band')\n",
    "            except ValueError:\n",
    "                da = da.sum('band')\n",
    "                \n",
    "        return da\n",
    "    \n",
    "    ds_crd = crd_data_atm(lblnew_params_atm(atmpro=atmpro))['flux']\n",
    "    olr_crd = ds_crd['flug'].isel(pressure=0)\n",
    "    sfc_crd = ds_crd['fldg'].isel(pressure=-1)\n",
    "    atm_crd = (ds_crd.isel(pressure=0)\n",
    "               - ds_crd.isel(pressure=-1))['fnetg']\n",
    "    \n",
    "    ds_clirad = clirad_data_atm(\n",
    "        clirad_params_atm(atmpro=atmpro))['flux']\n",
    "    olr_clirad = ds_clirad['flug'].isel(pressure=0)\n",
    "    sfc_clirad = ds_clirad['fldg'].isel(pressure=-1)\n",
    "    atm_clirad = (ds_clirad.isel(pressure=0)\n",
    "                  - ds_clirad.isel(pressure=-1))['fnetg']\n",
    "\n",
    "    ds_clirad_singlerun = clirad_data_atm(\n",
    "        clirad_params_atm_singlerun(atmpro=atmpro))['flux']\n",
    "    olr_clirad_singlerun = ds_clirad_singlerun['flug'].isel(pressure=0)\n",
    "    sfc_clirad_singlerun = ds_clirad_singlerun['fldg'].isel(pressure=-1)\n",
    "    atm_clirad_singlerun = (ds_clirad_singlerun.isel(pressure=0)\n",
    "                  - ds_clirad_singlerun.isel(pressure=-1))['fnetg']\n",
    "    \n",
    "    if atmpro == 'mls':\n",
    "        ds_oldclirad = oldclirad_data_atm()['flux']\n",
    "        ds_oldclirad['pressure'] = ds_crd['pressure']\n",
    "        olr_oldclirad = ds_oldclirad['flug'].isel(pressure=0)\n",
    "        sfc_oldclirad = ds_oldclirad['fldg'].isel(pressure=-1)\n",
    "        atm_oldclirad = (ds_oldclirad.isel(pressure=0)\n",
    "                         - ds_oldclirad.isel(pressure=-1))['fnetg']\n",
    "        \n",
    "    \n",
    "    \n",
    "    df = pd.DataFrame()\n",
    "    df.index.name = 'Sum over bands'\n",
    "    \n",
    "    if atmpro == 'mls':\n",
    "        df.loc['old CLIRAD - CRD', \n",
    "               'OLR flux'] = (fmt(olr_oldclirad)\n",
    "                              - fmt(olr_crd)).values\n",
    "        df.loc['old CLIRAD - CRD', \n",
    "               'SFC flux'] = (fmt(sfc_oldclirad)\n",
    "                              - fmt(sfc_crd)).values\n",
    "        df.loc['old CLIRAD - CRD', \n",
    "               'ATM heating'] = (fmt(atm_oldclirad)\n",
    "                                 - fmt(atm_crd)).values\n",
    "    \n",
    "    df.loc['CLIRAD (single-run) - CRD', \n",
    "           'OLR flux'] = (fmt(olr_clirad_singlerun) \n",
    "                          - fmt(olr_crd)).values\n",
    "    df.loc['CLIRAD (single-run) - CRD', \n",
    "           'SFC flux'] = (fmt(sfc_clirad_singlerun) \n",
    "                          - fmt(sfc_crd)).values\n",
    "    df.loc['CLIRAD (single-run) - CRD', \n",
    "           'ATM heating'] = (fmt(atm_clirad_singlerun) \n",
    "                             - fmt(atm_crd)).values\n",
    "\n",
    "    df.loc['CRD', 'OLR flux'] = fmt(olr_crd).values\n",
    "    df.loc['CRD', 'SFC flux'] = fmt(sfc_crd).values\n",
    "    df.loc['CRD', 'ATM heating'] = fmt(atm_crd).values\n",
    "        \n",
    "    df = df.astype('float').round(2)\n",
    "    \n",
    "    display.display(df)\n",
    "    display.display(\n",
    "        display.Markdown('*TABLE.* Difference between CLIRAD and CRD'\n",
    "          ' in TOA, SFC and net atmosphere flux,'\n",
    "          ' over all spectral bands. CRD\\'s'\n",
    "          ' TOA, SFC and net atmosphere flux,'\n",
    "          ' over all spectral bands.'))\n"
   ]
  },
  {
   "cell_type": "code",
   "execution_count": 1155,
   "metadata": {
    "scrolled": false
   },
   "outputs": [
    {
     "data": {
      "text/markdown": [
       "## Results over entire range of molecules and spectral bands"
      ],
      "text/plain": [
       "<IPython.core.display.Markdown object>"
      ]
     },
     "metadata": {},
     "output_type": "display_data"
    },
    {
     "data": {
      "text/markdown": [
       "### Table of Contents"
      ],
      "text/plain": [
       "<IPython.core.display.Markdown object>"
      ]
     },
     "metadata": {},
     "output_type": "display_data"
    },
    {
     "data": {
      "text/html": [
       "<a href=\"#Makeup_of_atmosphere.\">Makeup of atmosphere.</a>"
      ],
      "text/plain": [
       "<IPython.core.display.HTML object>"
      ]
     },
     "metadata": {},
     "output_type": "display_data"
    },
    {
     "data": {
      "text/markdown": [
       "**mid-latitude summer**"
      ],
      "text/plain": [
       "<IPython.core.display.Markdown object>"
      ]
     },
     "metadata": {},
     "output_type": "display_data"
    },
    {
     "data": {
      "text/html": [
       "<a href=\"#Cooling_rates._mls.\">Cooling rates. mls.</a>"
      ],
      "text/plain": [
       "<IPython.core.display.HTML object>"
      ]
     },
     "metadata": {},
     "output_type": "display_data"
    },
    {
     "data": {
      "text/html": [
       "<a href=\"#Fluxes._mls.\">Fluxes. mls.</a>"
      ],
      "text/plain": [
       "<IPython.core.display.HTML object>"
      ]
     },
     "metadata": {},
     "output_type": "display_data"
    },
    {
     "data": {
      "text/markdown": [
       "**sub-arctic winter**"
      ],
      "text/plain": [
       "<IPython.core.display.Markdown object>"
      ]
     },
     "metadata": {},
     "output_type": "display_data"
    },
    {
     "data": {
      "text/html": [
       "<a href=\"#Cooling_rates._saw.\">Cooling rates. saw.</a>"
      ],
      "text/plain": [
       "<IPython.core.display.HTML object>"
      ]
     },
     "metadata": {},
     "output_type": "display_data"
    },
    {
     "data": {
      "text/html": [
       "<a href=\"#Fluxes._saw.\">Fluxes. saw.</a>"
      ],
      "text/plain": [
       "<IPython.core.display.HTML object>"
      ]
     },
     "metadata": {},
     "output_type": "display_data"
    },
    {
     "data": {
      "text/markdown": [
       "**tropical**"
      ],
      "text/plain": [
       "<IPython.core.display.Markdown object>"
      ]
     },
     "metadata": {},
     "output_type": "display_data"
    },
    {
     "data": {
      "text/html": [
       "<a href=\"#Cooling_rates._trp.\">Cooling rates. trp.</a>"
      ],
      "text/plain": [
       "<IPython.core.display.HTML object>"
      ]
     },
     "metadata": {},
     "output_type": "display_data"
    },
    {
     "data": {
      "text/html": [
       "<a href=\"#Fluxes._trp.\">Fluxes. trp.</a>"
      ],
      "text/plain": [
       "<IPython.core.display.HTML object>"
      ]
     },
     "metadata": {},
     "output_type": "display_data"
    },
    {
     "data": {
      "text/html": [
       "<a id=\"Makeup_of_atmosphere.\"></a>"
      ],
      "text/plain": [
       "<IPython.core.display.HTML object>"
      ]
     },
     "metadata": {},
     "output_type": "display_data"
    },
    {
     "data": {
      "text/markdown": [
       "# Makeup of atmosphere."
      ],
      "text/plain": [
       "<IPython.core.display.Markdown object>"
      ]
     },
     "metadata": {},
     "output_type": "display_data"
    },
    {
     "data": {
      "text/html": [
       "<div>\n",
       "<style scoped>\n",
       "    .dataframe tbody tr th:only-of-type {\n",
       "        vertical-align: middle;\n",
       "    }\n",
       "\n",
       "    .dataframe tbody tr th {\n",
       "        vertical-align: top;\n",
       "    }\n",
       "\n",
       "    .dataframe thead th {\n",
       "        text-align: right;\n",
       "    }\n",
       "</style>\n",
       "<table border=\"1\" class=\"dataframe\">\n",
       "  <thead>\n",
       "    <tr style=\"text-align: right;\">\n",
       "      <th>clirad band</th>\n",
       "      <th>1</th>\n",
       "      <th>2</th>\n",
       "      <th>3</th>\n",
       "      <th>4</th>\n",
       "      <th>5</th>\n",
       "      <th>6</th>\n",
       "      <th>7</th>\n",
       "      <th>8</th>\n",
       "      <th>9</th>\n",
       "      <th>10</th>\n",
       "      <th>11</th>\n",
       "    </tr>\n",
       "    <tr>\n",
       "      <th>molecule</th>\n",
       "      <th></th>\n",
       "      <th></th>\n",
       "      <th></th>\n",
       "      <th></th>\n",
       "      <th></th>\n",
       "      <th></th>\n",
       "      <th></th>\n",
       "      <th></th>\n",
       "      <th></th>\n",
       "      <th></th>\n",
       "      <th></th>\n",
       "    </tr>\n",
       "  </thead>\n",
       "  <tbody>\n",
       "    <tr>\n",
       "      <th>h2o</th>\n",
       "      <td>atmpro</td>\n",
       "      <td>atmpro</td>\n",
       "      <td>atmpro</td>\n",
       "      <td>atmpro</td>\n",
       "      <td>atmpro</td>\n",
       "      <td>atmpro</td>\n",
       "      <td>atmpro</td>\n",
       "      <td>atmpro</td>\n",
       "      <td>atmpro</td>\n",
       "      <td>atmpro</td>\n",
       "      <td>atmpro</td>\n",
       "    </tr>\n",
       "    <tr>\n",
       "      <th>co2</th>\n",
       "      <td>0</td>\n",
       "      <td>0</td>\n",
       "      <td>0.0004</td>\n",
       "      <td>0.0004</td>\n",
       "      <td>0.0004</td>\n",
       "      <td>0.0004</td>\n",
       "      <td>0.0004</td>\n",
       "      <td>0</td>\n",
       "      <td>0</td>\n",
       "      <td>0</td>\n",
       "      <td>0.0004</td>\n",
       "    </tr>\n",
       "    <tr>\n",
       "      <th>n2o</th>\n",
       "      <td>0</td>\n",
       "      <td>0</td>\n",
       "      <td>3.2e-07</td>\n",
       "      <td>0</td>\n",
       "      <td>0</td>\n",
       "      <td>0</td>\n",
       "      <td>0</td>\n",
       "      <td>0</td>\n",
       "      <td>3.2e-07</td>\n",
       "      <td>0</td>\n",
       "      <td>0</td>\n",
       "    </tr>\n",
       "    <tr>\n",
       "      <th>o3</th>\n",
       "      <td>0</td>\n",
       "      <td>0</td>\n",
       "      <td>0</td>\n",
       "      <td>0</td>\n",
       "      <td>0</td>\n",
       "      <td>0</td>\n",
       "      <td>atmpro</td>\n",
       "      <td>0</td>\n",
       "      <td>0</td>\n",
       "      <td>0</td>\n",
       "      <td>0</td>\n",
       "    </tr>\n",
       "    <tr>\n",
       "      <th>ch4</th>\n",
       "      <td>0</td>\n",
       "      <td>0</td>\n",
       "      <td>0</td>\n",
       "      <td>0</td>\n",
       "      <td>0</td>\n",
       "      <td>0</td>\n",
       "      <td>0</td>\n",
       "      <td>0</td>\n",
       "      <td>1.8e-06</td>\n",
       "      <td>0</td>\n",
       "      <td>0</td>\n",
       "    </tr>\n",
       "  </tbody>\n",
       "</table>\n",
       "</div>"
      ],
      "text/plain": [
       "clirad band      1       2        3       4       5       6       7       8   \\\n",
       "molecule                                                                       \n",
       "h2o          atmpro  atmpro   atmpro  atmpro  atmpro  atmpro  atmpro  atmpro   \n",
       "co2               0       0   0.0004  0.0004  0.0004  0.0004  0.0004       0   \n",
       "n2o               0       0  3.2e-07       0       0       0       0       0   \n",
       "o3                0       0        0       0       0       0  atmpro       0   \n",
       "ch4               0       0        0       0       0       0       0       0   \n",
       "\n",
       "clirad band       9       10      11  \n",
       "molecule                              \n",
       "h2o           atmpro  atmpro  atmpro  \n",
       "co2                0       0  0.0004  \n",
       "n2o          3.2e-07       0       0  \n",
       "o3                 0       0       0  \n",
       "ch4          1.8e-06       0       0  "
      ]
     },
     "metadata": {},
     "output_type": "display_data"
    },
    {
     "data": {
      "text/markdown": [
       "*TABLE.* Non-grey absorbers in the atmosphere."
      ],
      "text/plain": [
       "<IPython.core.display.Markdown object>"
      ]
     },
     "metadata": {},
     "output_type": "display_data"
    },
    {
     "data": {
      "text/html": [
       "<div>\n",
       "<style scoped>\n",
       "    .dataframe tbody tr th:only-of-type {\n",
       "        vertical-align: middle;\n",
       "    }\n",
       "\n",
       "    .dataframe tbody tr th {\n",
       "        vertical-align: top;\n",
       "    }\n",
       "\n",
       "    .dataframe thead th {\n",
       "        text-align: right;\n",
       "    }\n",
       "</style>\n",
       "<table border=\"1\" class=\"dataframe\">\n",
       "  <thead>\n",
       "    <tr style=\"text-align: right;\">\n",
       "      <th>clirad band</th>\n",
       "      <th>1</th>\n",
       "      <th>2</th>\n",
       "      <th>3</th>\n",
       "      <th>4</th>\n",
       "      <th>5</th>\n",
       "      <th>6</th>\n",
       "      <th>7</th>\n",
       "      <th>8</th>\n",
       "      <th>9</th>\n",
       "    </tr>\n",
       "    <tr>\n",
       "      <th>absorber</th>\n",
       "      <th></th>\n",
       "      <th></th>\n",
       "      <th></th>\n",
       "      <th></th>\n",
       "      <th></th>\n",
       "      <th></th>\n",
       "      <th></th>\n",
       "      <th></th>\n",
       "      <th></th>\n",
       "    </tr>\n",
       "  </thead>\n",
       "  <tbody>\n",
       "    <tr>\n",
       "      <th>con</th>\n",
       "      <td>atmpro</td>\n",
       "      <td>atmpro</td>\n",
       "      <td>atmpro</td>\n",
       "      <td>atmpro</td>\n",
       "      <td>atmpro</td>\n",
       "      <td>atmpro</td>\n",
       "      <td>atmpro</td>\n",
       "      <td>atmpro</td>\n",
       "      <td>atmpro</td>\n",
       "    </tr>\n",
       "    <tr>\n",
       "      <th>n2o</th>\n",
       "      <td>0</td>\n",
       "      <td>0</td>\n",
       "      <td>0</td>\n",
       "      <td>0</td>\n",
       "      <td>0</td>\n",
       "      <td>0</td>\n",
       "      <td>0</td>\n",
       "      <td>3.2e-07</td>\n",
       "      <td>0</td>\n",
       "    </tr>\n",
       "  </tbody>\n",
       "</table>\n",
       "</div>"
      ],
      "text/plain": [
       "clirad band       1       2       3       4       5       6       7        8  \\\n",
       "absorber                                                                       \n",
       "con          atmpro  atmpro  atmpro  atmpro  atmpro  atmpro  atmpro   atmpro   \n",
       "n2o               0       0       0       0       0       0       0  3.2e-07   \n",
       "\n",
       "clirad band       9  \n",
       "absorber             \n",
       "con          atmpro  \n",
       "n2o               0  "
      ]
     },
     "metadata": {},
     "output_type": "display_data"
    },
    {
     "data": {
      "text/markdown": [
       "*TABLE.* Grey absorbers in the atmosphere."
      ],
      "text/plain": [
       "<IPython.core.display.Markdown object>"
      ]
     },
     "metadata": {},
     "output_type": "display_data"
    },
    {
     "data": {
      "text/html": [
       "<a id=\"Cooling_rates._mls.\"></a>"
      ],
      "text/plain": [
       "<IPython.core.display.HTML object>"
      ]
     },
     "metadata": {},
     "output_type": "display_data"
    },
    {
     "data": {
      "text/markdown": [
       "# Cooling rates. mls."
      ],
      "text/plain": [
       "<IPython.core.display.Markdown object>"
      ]
     },
     "metadata": {},
     "output_type": "display_data"
    },
    {
     "data": {
      "text/html": [
       "\n",
       "<div class=\"bk-root\">\n",
       "    <div class=\"bk-plotdiv\" id=\"4194baae-4c02-448c-a8a5-acf11e6ab592\"></div>\n",
       "</div>"
      ]
     },
     "metadata": {},
     "output_type": "display_data"
    },
    {
     "data": {
      "application/javascript": [
       "(function(root) {\n",
       "  function embed_document(root) {\n",
       "    \n",
       "  var docs_json = {\"e0514ae7-12d2-4b5c-919f-af8db581744d\":{\"roots\":{\"references\":[{\"attributes\":{},\"id\":\"b0b23e46-3d5d-44a4-b751-769001a73032\",\"type\":\"Selection\"},{\"attributes\":{\"children\":[{\"id\":\"4ac7f0fd-f0dd-4d36-bfec-4d2a7994788e\",\"subtype\":\"Figure\",\"type\":\"Plot\"},{\"id\":\"a9b1b43b-35d8-4bfc-8bd9-a279f60360a2\",\"subtype\":\"Figure\",\"type\":\"Plot\"},{\"id\":\"2ea1cccf-0045-4ba9-968e-3e8a03611279\",\"subtype\":\"Figure\",\"type\":\"Plot\"}]},\"id\":\"398054d3-91c6-423d-99ea-6c9f21794b02\",\"type\":\"Row\"},{\"attributes\":{},\"id\":\"ae581a14-2a6b-4d7d-b5ef-b3e73085ac53\",\"type\":\"LinearScale\"},{\"attributes\":{},\"id\":\"7f93f77a-ee4e-47a3-97e0-d490a244fcd0\",\"type\":\"UnionRenderers\"},{\"attributes\":{},\"id\":\"b37b4bb1-17d0-4d1a-9944-d75a8a6e5044\",\"type\":\"LinearScale\"},{\"attributes\":{\"callback\":null,\"data\":{\"x\":{\"__ndarray__\":\"zhhdnl3RU0CKgDdE+dxEQP6f5duhdUFAMJBr6ewEQkAADxZQyK45QBmX3ka8EDZAjl8alnlwL0CeYJlYHKIqQJoaoQNWxSJAwL4t7BozIUBMkS56I6AXQBxPe4ld/BRAnMjiKz2HCkCJCgdQ/WcBQKJTvluRvOg/j/JpYJwB9j+fcxKIKREEQOwUvOtLFw1AV0At7oRoEkD5lECKxjYXQAdydNQ0jR1ACbyvRZLfI0CO3MmPRGApQCcUNq4qNylA6VN9h30SJECRnP+HbGofQDQKaukXmhlAteFC/mL9E0CTDffT91MQQEkVAKh1YwtAqFesCIQRBkATatBMXLz/P4fvYPUXo/Y/tDrQnFTK8T/fneFQ7xLnP14aDQuCJtc/5BrOx2LRzT+fE4V0bnvHP3ueIXamhrA/cWaxNtALrr92uqPyMJK3P6q5+U821+g/ckrZjXL49z/TaxRJZAUAQPzVLij27QFAige8XqaCAEAv4Q7keaX+P0VyKG35kv0/XHVqXZRQ/T/+RskYEAv9PwKD1IjB3fw/JBko3yJ2/D//mRCM5iX7P/btQHcr5vo/xTCcdQr9+j+f/V+tjrf6P0Wt2HvLrvo/9IV/x6br+z/bYX40veD8P8+HZwkyUvw/CkxgoI8l/D8QA+bsYB78P2eu9w7DDvw/khNJm3qS+j8vZ0xHVJ75Py0d1shscPk/NKgVKiiK+T/NNtzstIr5P4ps72zyaPc/TlSpuPUj9j9S2qZu6gj1P2XVmdu6VPQ/t/WgjjEZ9D+np734CoH0P1P4Q57qwfo/\",\"dtype\":\"float64\",\"shape\":[75]},\"y\":{\"__ndarray__\":\"hLndy31yND/6fmq8dJNIP8n9DkWBPlE/aDum7souWD/b4a/JGvVgP9f34SAhymc/ZvM4DOavcD+z0M5pFmh3PxuC4zJuaoA/xjcUPlsHhz8uHAjJAiaQP9ieWRKgppY/oI7HDFTGnz+a5h2n6EimPzS6g9iZQq8/IuAQqtTstT9SSZ2AJsK+P4nS3uALk8U/ih9j7lpCzj+ASL99HTjVP4enV8oyxN0/ACL99nXg5D9fmEwVjErtPyUGgZVDi/Q/AiuHFtnO/D9OYhBYOTQEQPHSTWIQWAxA4XoUrkfhE0D8qfHSTeIbQMh2vp8ajyNArkfhehRuK0Bcj8L1KDwzQFyPwvUo/DpAPgrXo3DtQkDNzMzMzIxKQClcj8L1eFJAKVyPwvVoWECamZmZmVleQGZmZmZmJmJAAAAAAAAgZUCamZmZmRloQJqZmZmZEWtAmpmZmZkJbkCamZmZmYFwQGZmZmZm/nFAZmZmZmZ6c0BmZmZmZvZ0QDQzMzMzc3ZAAAAAAADwd0AAAAAAAGx5QAAAAAAA6HpAzMzMzMxkfEDMzMzMzOB9QM3MzMzMXH9AzczMzMxsgEAzMzMzMyuBQDMzMzMz6YFAMzMzMzOngkCamZmZmWWDQAAAAAAAJIRAAAAAAADihEAAAAAAAKCFQGZmZmZmXoZAzczMzMwch0DNzMzMzNqHQM3MzMzMmIhAMzMzMzNXiUCamZmZmRWKQAAAAAAA1IpAAAAAAACSi0AAAAAAAFCMQGZmZmZmDo1AzczMzMzMjUDNzMzMzIqOQM3MzMzMSI9A\",\"dtype\":\"float64\",\"shape\":[75]}},\"selected\":{\"id\":\"cb1061ef-61aa-460f-8f5d-eb0360dbfa77\",\"type\":\"Selection\"},\"selection_policy\":{\"id\":\"06e6e67f-f0d3-46db-b35a-ac1b024a0c21\",\"type\":\"UnionRenderers\"}},\"id\":\"3a8bd024-103e-46a1-9d93-8ab435ca01cb\",\"type\":\"ColumnDataSource\"},{\"attributes\":{\"fill_alpha\":{\"value\":0.7},\"fill_color\":{\"value\":\"#984ea3\"},\"line_alpha\":{\"value\":0.7},\"line_color\":{\"value\":\"#984ea3\"},\"x\":{\"field\":\"x\"},\"y\":{\"field\":\"y\"}},\"id\":\"4224d524-7174-413e-9d45-9ad6fcc696b2\",\"type\":\"Square\"},{\"attributes\":{\"fill_alpha\":{\"value\":0.1},\"fill_color\":{\"value\":\"#1f77b4\"},\"line_alpha\":{\"value\":0.1},\"line_color\":{\"value\":\"#1f77b4\"},\"x\":{\"field\":\"x\"},\"y\":{\"field\":\"y\"}},\"id\":\"fe51bf31-dd6c-44f7-8043-6acc0eba3e01\",\"type\":\"Square\"},{\"attributes\":{},\"id\":\"2e2116d7-9af7-4f20-b09e-254984c4f05f\",\"type\":\"UnionRenderers\"},{\"attributes\":{\"dimension\":1,\"plot\":{\"id\":\"2ea1cccf-0045-4ba9-968e-3e8a03611279\",\"subtype\":\"Figure\",\"type\":\"Plot\"},\"ticker\":{\"id\":\"e1a637e7-caa2-481b-9766-291ea645a16a\",\"type\":\"LogTicker\"}},\"id\":\"f6b90f9b-d2c9-4077-b20b-d448981e9c12\",\"type\":\"Grid\"},{\"attributes\":{\"data_source\":{\"id\":\"3a8bd024-103e-46a1-9d93-8ab435ca01cb\",\"type\":\"ColumnDataSource\"},\"glyph\":{\"id\":\"4224d524-7174-413e-9d45-9ad6fcc696b2\",\"type\":\"Square\"},\"hover_glyph\":null,\"muted_glyph\":null,\"nonselection_glyph\":{\"id\":\"fe51bf31-dd6c-44f7-8043-6acc0eba3e01\",\"type\":\"Square\"},\"selection_glyph\":null,\"view\":{\"id\":\"5c744b8a-0530-43f1-aa99-f87929ae7b1b\",\"type\":\"CDSView\"}},\"id\":\"5b63c4ec-2aa3-4121-a8bc-64ce147edbc2\",\"type\":\"GlyphRenderer\"},{\"attributes\":{},\"id\":\"78529723-7e93-4ce0-a7db-25797c5bc6b5\",\"type\":\"Selection\"},{\"attributes\":{},\"id\":\"4b858ec2-2e52-4a66-8e0c-bbbc975c9901\",\"type\":\"UnionRenderers\"},{\"attributes\":{},\"id\":\"7576bf43-653a-49f8-a989-c3eafa1dba27\",\"type\":\"WheelZoomTool\"},{\"attributes\":{\"tools\":[{\"id\":\"9447bd0a-9ba0-4518-9766-c44197ba08e9\",\"type\":\"PanTool\"},{\"id\":\"5a53d4af-0def-4446-ae92-c2396f3568c2\",\"type\":\"WheelZoomTool\"},{\"id\":\"dfa039b9-7584-4984-a1a5-e9f0d8debcf2\",\"type\":\"BoxZoomTool\"},{\"id\":\"36ad6045-36a8-40f7-bfa3-bc01f38baf31\",\"type\":\"SaveTool\"},{\"id\":\"909da5d5-b3ab-4b4a-9df2-38c93115b966\",\"type\":\"ResetTool\"},{\"id\":\"fa6257f2-37cf-4c5c-9db5-35087571c017\",\"type\":\"HelpTool\"},{\"id\":\"16fed772-fad4-40ca-a5cc-2bfc61b9ff10\",\"type\":\"PanTool\"},{\"id\":\"c29fad4d-6d66-4a02-916a-739382f752ae\",\"type\":\"WheelZoomTool\"},{\"id\":\"4068d0b9-e212-4a2e-ace7-0d91f93c3a2d\",\"type\":\"BoxZoomTool\"},{\"id\":\"06b668f6-be9a-4cd2-91e7-616115bf45e1\",\"type\":\"SaveTool\"},{\"id\":\"374b7f21-3832-41a0-b7e4-0402684e1237\",\"type\":\"ResetTool\"},{\"id\":\"74fa4b6a-a94d-4ce3-ab5f-abf36e1f1090\",\"type\":\"HelpTool\"},{\"id\":\"aec981bb-1ec9-4b6a-81d7-7983041470e2\",\"type\":\"PanTool\"},{\"id\":\"7576bf43-653a-49f8-a989-c3eafa1dba27\",\"type\":\"WheelZoomTool\"},{\"id\":\"c21aca2c-6586-480e-8309-6680953357db\",\"type\":\"BoxZoomTool\"},{\"id\":\"ec217c37-675c-454c-92c4-748df66d5bba\",\"type\":\"SaveTool\"},{\"id\":\"3cee5825-3f70-46f6-a5e7-eed06273e704\",\"type\":\"ResetTool\"},{\"id\":\"1cd4a564-edb7-48e9-a5fe-a20a41104668\",\"type\":\"HelpTool\"}]},\"id\":\"7ebe4afb-385d-4efd-9718-5c9c619e68ba\",\"type\":\"ProxyToolbar\"},{\"attributes\":{\"source\":{\"id\":\"8732fbcd-000f-4032-9b23-699f299e232f\",\"type\":\"ColumnDataSource\"}},\"id\":\"36ad4233-275e-4677-a445-07604863e1a0\",\"type\":\"CDSView\"},{\"attributes\":{},\"id\":\"384abde4-a956-4693-90a8-f5fcddf07119\",\"type\":\"Selection\"},{\"attributes\":{\"data_source\":{\"id\":\"8732fbcd-000f-4032-9b23-699f299e232f\",\"type\":\"ColumnDataSource\"},\"glyph\":{\"id\":\"e277c1b6-0aed-4f34-8040-415a6fbe8484\",\"type\":\"Line\"},\"hover_glyph\":null,\"muted_glyph\":null,\"nonselection_glyph\":{\"id\":\"c28f52a3-c57b-43a7-9948-ce56fceff685\",\"type\":\"Line\"},\"selection_glyph\":null,\"view\":{\"id\":\"36ad4233-275e-4677-a445-07604863e1a0\",\"type\":\"CDSView\"}},\"id\":\"e5e2fc6d-ccb1-4d21-8c6a-3474605ed3cc\",\"type\":\"GlyphRenderer\"},{\"attributes\":{\"callback\":null,\"end\":0.01,\"start\":1020},\"id\":\"29b8f39d-61d9-4bbe-a2cd-6c8501daef89\",\"type\":\"Range1d\"},{\"attributes\":{\"callback\":null,\"data\":{\"x\":{\"__ndarray__\":\"cm1sTMT3VEDEyvjosEJHQOKI6DjzCUNArgQWV9awPkB9Lm8XG3M4QEz+Qv6iYzNA7eV8HaPLLkCX1QHyTpMoQFBmYSYetiNAUB04GtGpH0AmFyVE5j8ZQJca9QPGqBNALJP+OOHHDEBNxaf7QF8AQKtislomWuw/cW2dcO6A9T/uJJvfPu0EQIaQLTI/JQ1AxGiII+PmEkCJvfVeuCsYQD6ZBhGbHB9AXQw69DTYJEAsubcwKucqQNuT9D5OmipAJyi3szEJJUBlNebh5WkgQDDcPHBr2xlArtlANXuQFEBdJadFHckQQI2Avh0ZsQtAjYiwt1rsBUCL0SDoVBgAQK6C0nEEjvc/CggLSme58T9sXU2orFPnP0v0JYz9Gdg/vT38vxYczD9nBQTe6kHHP1IhkEXJwKo/8OZnhCVAub+xtVgCpmqzP6DUpY6g0+k/PKK3T1h4+D8RTDjQc1EAQG/dAQs7TwJAQt2eHpPLAEBWEh074x//PyCap9ZSGf4/rEzaTySm/T+7aXhHRmr9P688KeqeNP0/ruZ4EemD/D8olrZcn9T7P0+vNc9hW/s/i9VVL+4P+z+0NzC24uz6P8731Kza8vo/xFf4SHzq+z+gYyHpvHb8P68ROkiFevw/BAjYdCga/D8AUp8VbW77P3JrF/nKmvo/qCQeGfq++T/dplwHJfn4P2G4p+Uva/g/OzZ0RqMZ+D8dmn/iar73P/OuA7Ka8PY/gaaeQHGn9T9hkyjAH1L0P3aZGhdAU/M/n8VP/g7P8j+90HxHNvfyPwhNBtgrqvk/\",\"dtype\":\"float64\",\"shape\":[75]},\"y\":{\"__ndarray__\":\"GhExyth1ND/Sv8nbtpRIP2vylNV0PVE/aTum7souWD/At0SJ8fVgPw3Iuahxymc/MSNhhJWvcD/bTfBN02d3P2zb5nxnaoA/CD5h5MAGhz8NmeH1TyaQP+zrCsc9p5Y/LbKd76fGnz/bLW5ISEmmPww9YvTcQq8/JV2OstnstT8Er5Y7M8G+P0c+r3jqkcU/5h99k6ZBzj88bCIzFzjVP4enV8oyxN0//yH99nXg5D8qOpLLf0jtP5kqGJXUifQ/c9cS8kHP/D+/DpwzojQEQIEmwoanVwxA4lgXt9HgE0BSSZ2AJuIbQAMJih9jjiNA5q4l5INuK0AwTKYKRj0zQNv5fmq8/DpAaCJseHrtQkB/+zpwzoxKQM3MzMzMeFJAZmZmZmZqWEAAAAAAAFxeQM3MzMzMJmJAmpmZmZkfZUBmZmZmZhhoQDMzMzMzEWtAAAAAAAAKbkBmZmZmZoFwQM3MzMzM/XFAMzMzMzN6c0CamZmZmfZ0QAAAAAAAc3ZAZmZmZmbvd0DNzMzMzGt5QDMzMzMz6HpAmpmZmZlkfEAAAAAAAOF9QGZmZmZmXX9AZmZmZuZsgECamZmZGSuBQM3MzMxM6YFAAAAAAICngkAzMzMzs2WDQGZmZmbmI4RAmpmZmRnihEDNzMzMTKCFQAAAAACAXoZAMzMzM7Mch0BmZmZm5tqHQJqZmZkZmYhAzczMzExXiUAAAAAAgBWKQDMzMzOz04pAZmZmZuaRi0CamZmZGVCMQM3MzMxMDo1AAAAAAIDMjUAzMzMzs4qOQGZmZmbmSI9A\",\"dtype\":\"float64\",\"shape\":[75]}},\"selected\":{\"id\":\"384abde4-a956-4693-90a8-f5fcddf07119\",\"type\":\"Selection\"},\"selection_policy\":{\"id\":\"77c3330d-3e2b-4e99-8f5f-a96739a6408a\",\"type\":\"UnionRenderers\"}},\"id\":\"66a31969-da53-42f8-b283-6e744f450d14\",\"type\":\"ColumnDataSource\"},{\"attributes\":{\"label\":{\"value\":\"CLIRAD (single-run)\"},\"renderers\":[{\"id\":\"bd47ac89-028e-4981-9915-8925618378b9\",\"type\":\"GlyphRenderer\"}]},\"id\":\"9a3a65ca-0ad8-4c83-9d70-7bc44463a1d5\",\"type\":\"LegendItem\"},{\"attributes\":{\"callback\":null,\"data\":{\"x\":{\"__ndarray__\":\"zhhdnl3RU0CKgDdE+dxEQP6f5duhdUFAMJBr6ewEQkAADxZQyK45QBmX3ka8EDZAjl8alnlwL0CeYJlYHKIqQJoaoQNWxSJAwL4t7BozIUBMkS56I6AXQBxPe4ld/BRAnMjiKz2HCkCJCgdQ/WcBQKJTvluRvOg/j/JpYJwB9j+fcxKIKREEQOwUvOtLFw1AV0At7oRoEkD5lECKxjYXQAdydNQ0jR1ACbyvRZLfI0CO3MmPRGApQCcUNq4qNylA6VN9h30SJECRnP+HbGofQDQKaukXmhlAteFC/mL9E0CTDffT91MQQEkVAKh1YwtAqFesCIQRBkATatBMXLz/P4fvYPUXo/Y/tDrQnFTK8T/fneFQ7xLnP14aDQuCJtc/5BrOx2LRzT+fE4V0bnvHP3ueIXamhrA/cWaxNtALrr92uqPyMJK3P6q5+U821+g/ckrZjXL49z/TaxRJZAUAQPzVLij27QFAige8XqaCAEAv4Q7keaX+P0VyKG35kv0/XHVqXZRQ/T/+RskYEAv9PwKD1IjB3fw/JBko3yJ2/D//mRCM5iX7P/btQHcr5vo/xTCcdQr9+j+f/V+tjrf6P0Wt2HvLrvo/9IV/x6br+z/bYX40veD8P8+HZwkyUvw/CkxgoI8l/D8QA+bsYB78P2eu9w7DDvw/khNJm3qS+j8vZ0xHVJ75Py0d1shscPk/NKgVKiiK+T/NNtzstIr5P4ps72zyaPc/TlSpuPUj9j9S2qZu6gj1P2XVmdu6VPQ/t/WgjjEZ9D+np734CoH0P1P4Q57qwfo/\",\"dtype\":\"float64\",\"shape\":[75]},\"y\":{\"__ndarray__\":\"hLndy31yND/6fmq8dJNIP8n9DkWBPlE/aDum7souWD/b4a/JGvVgP9f34SAhymc/ZvM4DOavcD+z0M5pFmh3PxuC4zJuaoA/xjcUPlsHhz8uHAjJAiaQP9ieWRKgppY/oI7HDFTGnz+a5h2n6EimPzS6g9iZQq8/IuAQqtTstT9SSZ2AJsK+P4nS3uALk8U/ih9j7lpCzj+ASL99HTjVP4enV8oyxN0/ACL99nXg5D9fmEwVjErtPyUGgZVDi/Q/AiuHFtnO/D9OYhBYOTQEQPHSTWIQWAxA4XoUrkfhE0D8qfHSTeIbQMh2vp8ajyNArkfhehRuK0Bcj8L1KDwzQFyPwvUo/DpAPgrXo3DtQkDNzMzMzIxKQClcj8L1eFJAKVyPwvVoWECamZmZmVleQGZmZmZmJmJAAAAAAAAgZUCamZmZmRloQJqZmZmZEWtAmpmZmZkJbkCamZmZmYFwQGZmZmZm/nFAZmZmZmZ6c0BmZmZmZvZ0QDQzMzMzc3ZAAAAAAADwd0AAAAAAAGx5QAAAAAAA6HpAzMzMzMxkfEDMzMzMzOB9QM3MzMzMXH9AzczMzMxsgEAzMzMzMyuBQDMzMzMz6YFAMzMzMzOngkCamZmZmWWDQAAAAAAAJIRAAAAAAADihEAAAAAAAKCFQGZmZmZmXoZAzczMzMwch0DNzMzMzNqHQM3MzMzMmIhAMzMzMzNXiUCamZmZmRWKQAAAAAAA1IpAAAAAAACSi0AAAAAAAFCMQGZmZmZmDo1AzczMzMzMjUDNzMzMzIqOQM3MzMzMSI9A\",\"dtype\":\"float64\",\"shape\":[75]}},\"selected\":{\"id\":\"b0b23e46-3d5d-44a4-b751-769001a73032\",\"type\":\"Selection\"},\"selection_policy\":{\"id\":\"7f93f77a-ee4e-47a3-97e0-d490a244fcd0\",\"type\":\"UnionRenderers\"}},\"id\":\"c9785fd0-0eb1-4b69-9594-83fd85a45744\",\"type\":\"ColumnDataSource\"},{\"attributes\":{\"active_drag\":\"auto\",\"active_inspect\":\"auto\",\"active_scroll\":\"auto\",\"active_tap\":\"auto\",\"tools\":[{\"id\":\"9447bd0a-9ba0-4518-9766-c44197ba08e9\",\"type\":\"PanTool\"},{\"id\":\"5a53d4af-0def-4446-ae92-c2396f3568c2\",\"type\":\"WheelZoomTool\"},{\"id\":\"dfa039b9-7584-4984-a1a5-e9f0d8debcf2\",\"type\":\"BoxZoomTool\"},{\"id\":\"36ad6045-36a8-40f7-bfa3-bc01f38baf31\",\"type\":\"SaveTool\"},{\"id\":\"909da5d5-b3ab-4b4a-9df2-38c93115b966\",\"type\":\"ResetTool\"},{\"id\":\"fa6257f2-37cf-4c5c-9db5-35087571c017\",\"type\":\"HelpTool\"}]},\"id\":\"bf4fd875-5242-47dd-8e3c-f7d17922580f\",\"type\":\"Toolbar\"},{\"attributes\":{},\"id\":\"b861a698-a978-4273-936d-d16a1a55f271\",\"type\":\"BasicTickFormatter\"},{\"attributes\":{},\"id\":\"48a1cf23-8753-4c76-84e2-2c8f4051bd1f\",\"type\":\"UnionRenderers\"},{\"attributes\":{\"items\":[{\"id\":\"2ad7bb30-5421-4111-95d2-e6295279874e\",\"type\":\"LegendItem\"},{\"id\":\"bd2a7a99-0646-4695-a122-b1fc4d9042fd\",\"type\":\"LegendItem\"}],\"label_text_font_size\":{\"value\":\"8pt\"},\"location\":\"top_center\",\"orientation\":\"horizontal\",\"plot\":{\"id\":\"2ea1cccf-0045-4ba9-968e-3e8a03611279\",\"subtype\":\"Figure\",\"type\":\"Plot\"}},\"id\":\"1b30a30b-2ce3-437b-aa87-e4392c3c74e8\",\"type\":\"Legend\"},{\"attributes\":{\"ticker\":null},\"id\":\"99b0dd7c-4144-4743-80af-c2cb400f399d\",\"type\":\"LogTickFormatter\"},{\"attributes\":{\"overlay\":{\"id\":\"f6a1426a-a3a3-4546-82d4-a47a54009300\",\"type\":\"BoxAnnotation\"}},\"id\":\"c21aca2c-6586-480e-8309-6680953357db\",\"type\":\"BoxZoomTool\"},{\"attributes\":{},\"id\":\"5f126ab1-c873-4a81-b9bb-ce47e4d33102\",\"type\":\"BasicTickFormatter\"},{\"attributes\":{\"active_drag\":\"auto\",\"active_inspect\":\"auto\",\"active_scroll\":\"auto\",\"active_tap\":\"auto\",\"tools\":[{\"id\":\"16fed772-fad4-40ca-a5cc-2bfc61b9ff10\",\"type\":\"PanTool\"},{\"id\":\"c29fad4d-6d66-4a02-916a-739382f752ae\",\"type\":\"WheelZoomTool\"},{\"id\":\"4068d0b9-e212-4a2e-ace7-0d91f93c3a2d\",\"type\":\"BoxZoomTool\"},{\"id\":\"06b668f6-be9a-4cd2-91e7-616115bf45e1\",\"type\":\"SaveTool\"},{\"id\":\"374b7f21-3832-41a0-b7e4-0402684e1237\",\"type\":\"ResetTool\"},{\"id\":\"74fa4b6a-a94d-4ce3-ab5f-abf36e1f1090\",\"type\":\"HelpTool\"}]},\"id\":\"9420c7f1-bb3f-4077-bf37-352fe8854d0a\",\"type\":\"Toolbar\"},{\"attributes\":{\"source\":{\"id\":\"3a8bd024-103e-46a1-9d93-8ab435ca01cb\",\"type\":\"ColumnDataSource\"}},\"id\":\"5c744b8a-0530-43f1-aa99-f87929ae7b1b\",\"type\":\"CDSView\"},{\"attributes\":{\"overlay\":{\"id\":\"b6df1887-9ad8-4478-af61-553b6a72c585\",\"type\":\"BoxAnnotation\"}},\"id\":\"4068d0b9-e212-4a2e-ace7-0d91f93c3a2d\",\"type\":\"BoxZoomTool\"},{\"attributes\":{},\"id\":\"16fed772-fad4-40ca-a5cc-2bfc61b9ff10\",\"type\":\"PanTool\"},{\"attributes\":{\"data_source\":{\"id\":\"592937e9-0868-4240-a0e1-cfa09c13576a\",\"type\":\"ColumnDataSource\"},\"glyph\":{\"id\":\"e6fa0305-257b-428c-a1a3-c81b11ff39e6\",\"type\":\"Line\"},\"hover_glyph\":null,\"muted_glyph\":null,\"nonselection_glyph\":{\"id\":\"fb61d0a9-8936-4623-a16f-f657529e8481\",\"type\":\"Line\"},\"selection_glyph\":null,\"view\":{\"id\":\"c8de96fb-caa0-43c1-9332-a4da5eb4cbfc\",\"type\":\"CDSView\"}},\"id\":\"ad35f426-e316-4b66-bedb-c8c427793d27\",\"type\":\"GlyphRenderer\"},{\"attributes\":{\"fill_alpha\":{\"value\":0.7},\"fill_color\":{\"value\":\"#4daf4a\"},\"line_alpha\":{\"value\":0.7},\"line_color\":{\"value\":\"#4daf4a\"},\"x\":{\"field\":\"x\"},\"y\":{\"field\":\"y\"}},\"id\":\"e3abf35c-7108-4c03-8fe7-89cb289c3991\",\"type\":\"Circle\"},{\"attributes\":{\"source\":{\"id\":\"592937e9-0868-4240-a0e1-cfa09c13576a\",\"type\":\"ColumnDataSource\"}},\"id\":\"c8de96fb-caa0-43c1-9332-a4da5eb4cbfc\",\"type\":\"CDSView\"},{\"attributes\":{\"children\":[{\"id\":\"398054d3-91c6-423d-99ea-6c9f21794b02\",\"type\":\"Row\"}]},\"id\":\"d52371f0-6257-42d1-bd9d-5478a91ded32\",\"type\":\"Column\"},{\"attributes\":{},\"id\":\"77c3330d-3e2b-4e99-8f5f-a96739a6408a\",\"type\":\"UnionRenderers\"},{\"attributes\":{},\"id\":\"aec981bb-1ec9-4b6a-81d7-7983041470e2\",\"type\":\"PanTool\"},{\"attributes\":{\"callback\":null,\"end\":0.7044705543218612,\"start\":-1.3857645798625338},\"id\":\"5471d813-4ad4-4684-9508-6926bf1c118f\",\"type\":\"Range1d\"},{\"attributes\":{},\"id\":\"06e6e67f-f0d3-46db-b35a-ac1b024a0c21\",\"type\":\"UnionRenderers\"},{\"attributes\":{\"line_alpha\":0.1,\"line_color\":\"#1f77b4\",\"line_dash\":[6],\"line_width\":5,\"x\":{\"field\":\"x\"},\"y\":{\"field\":\"y\"}},\"id\":\"39a8b807-1a7c-44cb-9148-177e96ad03e9\",\"type\":\"Line\"},{\"attributes\":{},\"id\":\"8aef4d77-56a1-4cf6-bb82-66b43a429ce6\",\"type\":\"UnionRenderers\"},{\"attributes\":{\"axis_label\":\"pressure [mb]\",\"formatter\":{\"id\":\"99b0dd7c-4144-4743-80af-c2cb400f399d\",\"type\":\"LogTickFormatter\"},\"plot\":{\"id\":\"2ea1cccf-0045-4ba9-968e-3e8a03611279\",\"subtype\":\"Figure\",\"type\":\"Plot\"},\"ticker\":{\"id\":\"e1a637e7-caa2-481b-9766-291ea645a16a\",\"type\":\"LogTicker\"}},\"id\":\"7004f9e3-6a41-47a6-8a56-aa910504fe0f\",\"type\":\"LogAxis\"},{\"attributes\":{\"above\":[{\"id\":\"1b30a30b-2ce3-437b-aa87-e4392c3c74e8\",\"type\":\"Legend\"}],\"below\":[{\"id\":\"2743f718-d4e1-4c00-9231-812dc9b9bf04\",\"type\":\"LinearAxis\"}],\"left\":[{\"id\":\"7004f9e3-6a41-47a6-8a56-aa910504fe0f\",\"type\":\"LogAxis\"}],\"plot_width\":300,\"renderers\":[{\"id\":\"2743f718-d4e1-4c00-9231-812dc9b9bf04\",\"type\":\"LinearAxis\"},{\"id\":\"e0e3004c-8b39-45c0-8861-70bca9c6d7a8\",\"type\":\"Grid\"},{\"id\":\"7004f9e3-6a41-47a6-8a56-aa910504fe0f\",\"type\":\"LogAxis\"},{\"id\":\"f6b90f9b-d2c9-4077-b20b-d448981e9c12\",\"type\":\"Grid\"},{\"id\":\"f6a1426a-a3a3-4546-82d4-a47a54009300\",\"type\":\"BoxAnnotation\"},{\"id\":\"148222de-2343-4202-a761-4c64c9379191\",\"type\":\"GlyphRenderer\"},{\"id\":\"e00ed2c0-9c2f-49d0-87d0-f966a980791f\",\"type\":\"GlyphRenderer\"},{\"id\":\"ea7963cc-c065-4741-9556-d0078376fde2\",\"type\":\"GlyphRenderer\"},{\"id\":\"1b30a30b-2ce3-437b-aa87-e4392c3c74e8\",\"type\":\"Legend\"}],\"title\":{\"id\":\"b09e0cc8-282f-4f89-8267-d757c0e1f59c\",\"type\":\"Title\"},\"toolbar\":{\"id\":\"68df8d87-ca4b-46f8-a089-2b7e0e173973\",\"type\":\"Toolbar\"},\"toolbar_location\":null,\"x_range\":{\"id\":\"5471d813-4ad4-4684-9508-6926bf1c118f\",\"type\":\"Range1d\"},\"x_scale\":{\"id\":\"75ae57ba-6e52-43d6-bed4-07c0f61d89b9\",\"type\":\"LinearScale\"},\"y_range\":{\"id\":\"29b8f39d-61d9-4bbe-a2cd-6c8501daef89\",\"type\":\"Range1d\"},\"y_scale\":{\"id\":\"e5aafe80-2198-4b1e-b265-6d719730ded8\",\"type\":\"LogScale\"}},\"id\":\"2ea1cccf-0045-4ba9-968e-3e8a03611279\",\"subtype\":\"Figure\",\"type\":\"Plot\"},{\"attributes\":{},\"id\":\"9b013ea1-0a91-4638-87e0-48f21494eb46\",\"type\":\"Selection\"},{\"attributes\":{\"source\":{\"id\":\"c9785fd0-0eb1-4b69-9594-83fd85a45744\",\"type\":\"ColumnDataSource\"}},\"id\":\"6825dcc5-e539-4327-98fa-730597182276\",\"type\":\"CDSView\"},{\"attributes\":{\"line_alpha\":0.6,\"line_color\":\"#377eb8\",\"line_dash\":[6],\"line_width\":5,\"x\":{\"field\":\"x\"},\"y\":{\"field\":\"y\"}},\"id\":\"91eae478-117e-47df-a859-e99d0cf0a54e\",\"type\":\"Line\"},{\"attributes\":{},\"id\":\"5a53d4af-0def-4446-ae92-c2396f3568c2\",\"type\":\"WheelZoomTool\"},{\"attributes\":{\"axis_label\":\"cooling rate [K/day]\",\"formatter\":{\"id\":\"efb6972d-46fc-4341-9b84-79a356589bbb\",\"type\":\"BasicTickFormatter\"},\"plot\":{\"id\":\"2ea1cccf-0045-4ba9-968e-3e8a03611279\",\"subtype\":\"Figure\",\"type\":\"Plot\"},\"ticker\":{\"id\":\"1d3a6f19-ed86-4531-a33c-193ee2eb7e16\",\"type\":\"BasicTicker\"}},\"id\":\"2743f718-d4e1-4c00-9231-812dc9b9bf04\",\"type\":\"LinearAxis\"},{\"attributes\":{\"axis_label\":\"pressure [mb]\",\"formatter\":{\"id\":\"768ea6ea-5123-4f21-916f-ee5d84bca54a\",\"type\":\"BasicTickFormatter\"},\"plot\":{\"id\":\"4ac7f0fd-f0dd-4d36-bfec-4d2a7994788e\",\"subtype\":\"Figure\",\"type\":\"Plot\"},\"ticker\":{\"id\":\"2a62df76-3c1d-4504-ae1e-7983a47c87bd\",\"type\":\"BasicTicker\"}},\"id\":\"8e564cdd-dcf4-4020-a381-e2121377aeea\",\"type\":\"LinearAxis\"},{\"attributes\":{\"callback\":null,\"data\":{\"x\":{\"__ndarray__\":\"zcbUSk4YRMC/t1RLLK8gwGgVoL8IdALAc2CvKYi+/D/WVGaYomIOQINDLNfHyQ5ATcn83NwdBEDjDoeRfSjlP6Tfcs8XtOm/XgX4iCfY9b+PLllCI4zxv5TUqz5qMt+/QAV5OtRxsD94dWBXha7ZP8s7cbrqId8/tHfa2I021D/WrP38Z0yhP7qXnRpUt9C/jJpA4nk24L+GQcwnTangvx+q+rEpAdK/YCpV0rAKf7/6SkNcm7erv9qulEq35dO/IL+KYvVf178vB2bNqmWxv3ge6ffHfNg/UYVujm1M1z8fTZ/eStC3P/el+nP5iZc/d0yJW3Td0D/Qyl4ZdpnVP72KkmMYvcM/U4vC2HT0nL+30tlLbQVzP67JoZwkca4/YjAXfRfEfj+3GE+cJeqrv55qzCqo3ra/CNACqw6Gub/Lzryy0OW1v3CWnR0RirC/fCH3lL03r790OO8tH0Gdv+C6ZE327ba/BI1vAb+ZuL8H8hkOEY2rv+ywHWND6a6/KByQS/e2s79kxtwCOOeyvy+5G51Pp6u/Dj2bIg2zor9AMUjjQV6Yv+tSf9+W5JS/1vhJGZ+nlL8OV5NUG12Zv4zH8GxYWZu/nWXRqPq9k7/I/+lrNaJWPz6raLO3gqA/+dqfno5trD+mc/ksGu2tP3Iw9W9ufqU/ln1uoZnSlT/gYVf+sHFaP8DNw9d/J0I/3myhCAKUgT96L1QXU12eP4RfxiHWc6g/4xbvBFGwrz/ydex8TB+yP3YKkvhFW7M/Vg5TMCEltD+MCiXwn9e0P8lQ/rZzVrQ/\",\"dtype\":\"float64\",\"shape\":[75]},\"y\":{\"__ndarray__\":\"GhExyth1ND/Sv8nbtpRIP2vylNV0PVE/aTum7souWD/At0SJ8fVgPw3Iuahxymc/MSNhhJWvcD/bTfBN02d3P2zb5nxnaoA/CD5h5MAGhz8NmeH1TyaQP+zrCsc9p5Y/LbKd76fGnz/bLW5ISEmmPww9YvTcQq8/JV2OstnstT8Er5Y7M8G+P0c+r3jqkcU/5h99k6ZBzj88bCIzFzjVP4enV8oyxN0//yH99nXg5D8qOpLLf0jtP5kqGJXUifQ/c9cS8kHP/D+/DpwzojQEQIEmwoanVwxA4lgXt9HgE0BSSZ2AJuIbQAMJih9jjiNA5q4l5INuK0AwTKYKRj0zQNv5fmq8/DpAaCJseHrtQkB/+zpwzoxKQM3MzMzMeFJAZmZmZmZqWEAAAAAAAFxeQM3MzMzMJmJAmpmZmZkfZUBmZmZmZhhoQDMzMzMzEWtAAAAAAAAKbkBmZmZmZoFwQM3MzMzM/XFAMzMzMzN6c0CamZmZmfZ0QAAAAAAAc3ZAZmZmZmbvd0DNzMzMzGt5QDMzMzMz6HpAmpmZmZlkfEAAAAAAAOF9QGZmZmZmXX9AZmZmZuZsgECamZmZGSuBQM3MzMxM6YFAAAAAAICngkAzMzMzs2WDQGZmZmbmI4RAmpmZmRnihEDNzMzMTKCFQAAAAACAXoZAMzMzM7Mch0BmZmZm5tqHQJqZmZkZmYhAzczMzExXiUAAAAAAgBWKQDMzMzOz04pAZmZmZuaRi0CamZmZGVCMQM3MzMxMDo1AAAAAAIDMjUAzMzMzs4qOQGZmZmbmSI9A\",\"dtype\":\"float64\",\"shape\":[75]}},\"selected\":{\"id\":\"65537d99-90e2-45a5-9727-404a4cfd343e\",\"type\":\"Selection\"},\"selection_policy\":{\"id\":\"46b74b29-a698-47c1-942e-96549cd4dd36\",\"type\":\"UnionRenderers\"}},\"id\":\"28f061e5-bb54-4200-bd56-140b5e53638f\",\"type\":\"ColumnDataSource\"},{\"attributes\":{\"callback\":null,\"end\":0.01,\"start\":1020},\"id\":\"1184d411-f236-4da3-9ed3-e813bef202c2\",\"type\":\"Range1d\"},{\"attributes\":{},\"id\":\"b7f360b5-c7fa-465e-8954-e7d6eed97f29\",\"type\":\"Selection\"},{\"attributes\":{\"data_source\":{\"id\":\"c9785fd0-0eb1-4b69-9594-83fd85a45744\",\"type\":\"ColumnDataSource\"},\"glyph\":{\"id\":\"8ae8b84d-24f9-4205-9ddf-fb84d212322b\",\"type\":\"Line\"},\"hover_glyph\":null,\"muted_glyph\":null,\"nonselection_glyph\":{\"id\":\"489192c3-2b44-4590-a213-a35d7c3ada43\",\"type\":\"Line\"},\"selection_glyph\":null,\"view\":{\"id\":\"6825dcc5-e539-4327-98fa-730597182276\",\"type\":\"CDSView\"}},\"id\":\"c9a2d9ee-989d-4163-893e-53acaa3280b4\",\"type\":\"GlyphRenderer\"},{\"attributes\":{\"items\":[{\"id\":\"9a3a65ca-0ad8-4c83-9d70-7bc44463a1d5\",\"type\":\"LegendItem\"},{\"id\":\"64eac676-db2d-4479-bdb8-62e3590f7d43\",\"type\":\"LegendItem\"},{\"id\":\"38288d1a-b881-4adb-8758-46d57e2b5bfe\",\"type\":\"LegendItem\"}],\"label_text_font_size\":{\"value\":\"8pt\"},\"location\":\"top_center\",\"orientation\":\"horizontal\",\"plot\":{\"id\":\"4ac7f0fd-f0dd-4d36-bfec-4d2a7994788e\",\"subtype\":\"Figure\",\"type\":\"Plot\"}},\"id\":\"c100c40f-ee39-4496-ba3a-652c7c36f194\",\"type\":\"Legend\"},{\"attributes\":{\"num_minor_ticks\":10},\"id\":\"08166fb4-2bfc-4e7b-b75c-b820f4139202\",\"type\":\"LogTicker\"},{\"attributes\":{\"data_source\":{\"id\":\"80ed1f12-3294-47d1-b418-16887bb3bc80\",\"type\":\"ColumnDataSource\"},\"glyph\":{\"id\":\"e43978ea-bb8c-479b-bd3d-18b79ee9295b\",\"type\":\"Line\"},\"hover_glyph\":null,\"muted_glyph\":null,\"nonselection_glyph\":{\"id\":\"1a6fe93f-5662-4103-883c-ebf3959efe2d\",\"type\":\"Line\"},\"selection_glyph\":null,\"view\":{\"id\":\"1808c34e-7dbd-4182-b168-58bff7656bf0\",\"type\":\"CDSView\"}},\"id\":\"e00ed2c0-9c2f-49d0-87d0-f966a980791f\",\"type\":\"GlyphRenderer\"},{\"attributes\":{\"active_drag\":\"auto\",\"active_inspect\":\"auto\",\"active_scroll\":\"auto\",\"active_tap\":\"auto\",\"tools\":[{\"id\":\"aec981bb-1ec9-4b6a-81d7-7983041470e2\",\"type\":\"PanTool\"},{\"id\":\"7576bf43-653a-49f8-a989-c3eafa1dba27\",\"type\":\"WheelZoomTool\"},{\"id\":\"c21aca2c-6586-480e-8309-6680953357db\",\"type\":\"BoxZoomTool\"},{\"id\":\"ec217c37-675c-454c-92c4-748df66d5bba\",\"type\":\"SaveTool\"},{\"id\":\"3cee5825-3f70-46f6-a5e7-eed06273e704\",\"type\":\"ResetTool\"},{\"id\":\"1cd4a564-edb7-48e9-a5fe-a20a41104668\",\"type\":\"HelpTool\"}]},\"id\":\"68df8d87-ca4b-46f8-a089-2b7e0e173973\",\"type\":\"Toolbar\"},{\"attributes\":{\"line_alpha\":0.1,\"line_color\":\"#1f77b4\",\"line_width\":1.5,\"x\":{\"field\":\"x\"},\"y\":{\"field\":\"y\"}},\"id\":\"489192c3-2b44-4590-a213-a35d7c3ada43\",\"type\":\"Line\"},{\"attributes\":{},\"id\":\"00293925-18b8-4600-956e-be9e96576050\",\"type\":\"BasicTicker\"},{\"attributes\":{\"axis_label\":\"pressure [mb]\",\"formatter\":{\"id\":\"9fef7424-516a-497b-9cf3-98c954adae78\",\"type\":\"LogTickFormatter\"},\"plot\":{\"id\":\"a9b1b43b-35d8-4bfc-8bd9-a279f60360a2\",\"subtype\":\"Figure\",\"type\":\"Plot\"},\"ticker\":{\"id\":\"08166fb4-2bfc-4e7b-b75c-b820f4139202\",\"type\":\"LogTicker\"}},\"id\":\"8f0db32a-b660-4216-9ee4-3db468b1c7ee\",\"type\":\"LogAxis\"},{\"attributes\":{\"items\":[{\"id\":\"2e55a7ff-6fed-4662-b298-c5f3cd3f703b\",\"type\":\"LegendItem\"},{\"id\":\"9f2d228f-3c96-4a31-a91d-7f005d793e5f\",\"type\":\"LegendItem\"},{\"id\":\"95ef14d8-8394-4af4-9ea3-e5573b39f26b\",\"type\":\"LegendItem\"}],\"label_text_font_size\":{\"value\":\"8pt\"},\"location\":\"top_center\",\"orientation\":\"horizontal\",\"plot\":{\"id\":\"a9b1b43b-35d8-4bfc-8bd9-a279f60360a2\",\"subtype\":\"Figure\",\"type\":\"Plot\"}},\"id\":\"4258dbb5-54f6-4006-9109-d343aa3f6473\",\"type\":\"Legend\"},{\"attributes\":{},\"id\":\"36ad6045-36a8-40f7-bfa3-bc01f38baf31\",\"type\":\"SaveTool\"},{\"attributes\":{\"label\":{\"value\":\"old CLIRAD (H2012)\"},\"renderers\":[{\"id\":\"5b63c4ec-2aa3-4121-a8bc-64ce147edbc2\",\"type\":\"GlyphRenderer\"},{\"id\":\"c9a2d9ee-989d-4163-893e-53acaa3280b4\",\"type\":\"GlyphRenderer\"}]},\"id\":\"38288d1a-b881-4adb-8758-46d57e2b5bfe\",\"type\":\"LegendItem\"},{\"attributes\":{\"fill_alpha\":{\"value\":0.1},\"fill_color\":{\"value\":\"#1f77b4\"},\"line_alpha\":{\"value\":0.1},\"line_color\":{\"value\":\"#1f77b4\"},\"x\":{\"field\":\"x\"},\"y\":{\"field\":\"y\"}},\"id\":\"65ddcac4-3281-44f4-bd74-92c85ccd5d65\",\"type\":\"Circle\"},{\"attributes\":{\"num_minor_ticks\":10},\"id\":\"e1a637e7-caa2-481b-9766-291ea645a16a\",\"type\":\"LogTicker\"},{\"attributes\":{\"dimension\":1,\"plot\":{\"id\":\"a9b1b43b-35d8-4bfc-8bd9-a279f60360a2\",\"subtype\":\"Figure\",\"type\":\"Plot\"},\"ticker\":{\"id\":\"08166fb4-2bfc-4e7b-b75c-b820f4139202\",\"type\":\"LogTicker\"}},\"id\":\"e70ee5da-c594-499c-91a3-a8a24b941f5e\",\"type\":\"Grid\"},{\"attributes\":{\"callback\":null,\"end\":2.3135570711804605,\"start\":-0.22320708756646002},\"id\":\"4cd7bb38-d050-4481-a25c-bb4c6942f54c\",\"type\":\"Range1d\"},{\"attributes\":{\"source\":{\"id\":\"28f061e5-bb54-4200-bd56-140b5e53638f\",\"type\":\"ColumnDataSource\"}},\"id\":\"7378d001-9a0d-4f4d-83b7-49650d0cc8e2\",\"type\":\"CDSView\"},{\"attributes\":{},\"id\":\"fa6257f2-37cf-4c5c-9db5-35087571c017\",\"type\":\"HelpTool\"},{\"attributes\":{},\"id\":\"c29fad4d-6d66-4a02-916a-739382f752ae\",\"type\":\"WheelZoomTool\"},{\"attributes\":{\"dimension\":1,\"plot\":{\"id\":\"4ac7f0fd-f0dd-4d36-bfec-4d2a7994788e\",\"subtype\":\"Figure\",\"type\":\"Plot\"},\"ticker\":{\"id\":\"2a62df76-3c1d-4504-ae1e-7983a47c87bd\",\"type\":\"BasicTicker\"}},\"id\":\"edc90428-5ba7-4594-a7e9-ea82e3c1a7bd\",\"type\":\"Grid\"},{\"attributes\":{},\"id\":\"23918dd7-5f24-4cee-909d-b4f324be419b\",\"type\":\"Selection\"},{\"attributes\":{},\"id\":\"cf91e1e5-8acd-4eaa-b230-f2bb0cb8b8c1\",\"type\":\"UnionRenderers\"},{\"attributes\":{\"overlay\":{\"id\":\"e4ab2d49-c8ef-495d-9753-2f6e43533fb4\",\"type\":\"BoxAnnotation\"}},\"id\":\"dfa039b9-7584-4984-a1a5-e9f0d8debcf2\",\"type\":\"BoxZoomTool\"},{\"attributes\":{},\"id\":\"f9c6bedc-f1a9-47f9-acc7-6f72393bd14c\",\"type\":\"Selection\"},{\"attributes\":{\"plot\":null,\"text\":\"\"},\"id\":\"d7fd2011-36b5-404e-b68a-6567ed55526c\",\"type\":\"Title\"},{\"attributes\":{\"fill_alpha\":{\"value\":0.7},\"fill_color\":{\"value\":\"#984ea3\"},\"line_alpha\":{\"value\":0.7},\"line_color\":{\"value\":\"#984ea3\"},\"x\":{\"field\":\"x\"},\"y\":{\"field\":\"y\"}},\"id\":\"f86a0847-03cf-4a9e-9c90-ea6bdb3ccba8\",\"type\":\"Circle\"},{\"attributes\":{\"callback\":null,\"end\":13.587992067591857,\"start\":-0.33483515683786},\"id\":\"1d7f94f6-c4d0-4c6f-980c-c9d625c0078d\",\"type\":\"Range1d\"},{\"attributes\":{\"plot\":{\"id\":\"a9b1b43b-35d8-4bfc-8bd9-a279f60360a2\",\"subtype\":\"Figure\",\"type\":\"Plot\"},\"ticker\":{\"id\":\"00293925-18b8-4600-956e-be9e96576050\",\"type\":\"BasicTicker\"}},\"id\":\"bd40ed32-f7e0-436b-ba35-0874f6d25269\",\"type\":\"Grid\"},{\"attributes\":{\"data_source\":{\"id\":\"28f061e5-bb54-4200-bd56-140b5e53638f\",\"type\":\"ColumnDataSource\"},\"glyph\":{\"id\":\"f86a0847-03cf-4a9e-9c90-ea6bdb3ccba8\",\"type\":\"Circle\"},\"hover_glyph\":null,\"muted_glyph\":null,\"nonselection_glyph\":{\"id\":\"65ddcac4-3281-44f4-bd74-92c85ccd5d65\",\"type\":\"Circle\"},\"selection_glyph\":null,\"view\":{\"id\":\"7378d001-9a0d-4f4d-83b7-49650d0cc8e2\",\"type\":\"CDSView\"}},\"id\":\"148222de-2343-4202-a761-4c64c9379191\",\"type\":\"GlyphRenderer\"},{\"attributes\":{},\"id\":\"2a62df76-3c1d-4504-ae1e-7983a47c87bd\",\"type\":\"BasicTicker\"},{\"attributes\":{\"label\":{\"value\":\"CRD\"},\"renderers\":[{\"id\":\"0e41490b-82b0-42db-b031-ac12a64d023f\",\"type\":\"GlyphRenderer\"},{\"id\":\"e5e2fc6d-ccb1-4d21-8c6a-3474605ed3cc\",\"type\":\"GlyphRenderer\"}]},\"id\":\"64eac676-db2d-4479-bdb8-62e3590f7d43\",\"type\":\"LegendItem\"},{\"attributes\":{\"source\":{\"id\":\"80ed1f12-3294-47d1-b418-16887bb3bc80\",\"type\":\"ColumnDataSource\"}},\"id\":\"1808c34e-7dbd-4182-b168-58bff7656bf0\",\"type\":\"CDSView\"},{\"attributes\":{},\"id\":\"28ad3beb-33b1-4f99-8663-0a5d8062459a\",\"type\":\"LogScale\"},{\"attributes\":{\"callback\":null,\"data\":{\"x\":{\"__ndarray__\":\"FRQETjrXRUDWnCPW5RZDQIyH7qyy4kFAWX3YbF8+QEAY+Xtqbz88QLyGKPnbPDdAIAxeKo3pMUCERhrL1uUpQFY4aqncGiJA9xv6N8czGkCCy45z3dwUQE5dCmCftRFAVlvS2m9LDUD705OmEZUDQEiA9duN9fU/XgvU5pGO+j+hG49/cDIFQI/d2a5UDgtAclVA5xPgEEBaNfy5jhYWQJvu5nWI/B1AucEfnlPUJEDhdVuVcssqQGPun4Qg+ylALdKiCDJOJEBZaUuMGkcgQBZuu+83YxtAAsInDkIFFkCRoiFxXigRQNp1phAt4AtAHLIhQwkICEDlqkyrg8sCQAfURH6nBfo/3P2ndpVF8T8TEeWCt3nnP4Qtuh8i6Ns/PvfkezcSzT85P/B2YUfAP+OzCBCH/KK/e1u1Fxpjyb+/yCCDVdmDv9Qh8mpewuc/MukPY5p+9z+gbdyR8RYAQJi3lljLlwFA2GCTJsUGAEDHQqyyekP+P5isjrsIIv0/6koh27Rq/D9VnUrH0jv8P+ZeQG1kV/w/xQxkqFDu+z9jdSlVJnP7PwOyt3PPB/s/pq3wsk+9+j9W6t1Ibof6P680IUt1hfo/LhJVXoSb+z8eXnx2ZXz8PwlX1QWb/vw/3QbN6ZT9/D+cHQfn1V38P/YUl2y+Rvs/nd6jf0QW+j+1PJxzwf/4P9uwotV0bfg/FXmFSss8+D/b6twu4Df4P+7hEWM5tPc/Nx/GyPOk9j+/WveHFHT1Px+6o3b0iPQ/g/ZUEWER9D9mIX9GsET0PxMydhOT7/o/\",\"dtype\":\"float64\",\"shape\":[75]},\"y\":{\"__ndarray__\":\"GhExyth1ND/Sv8nbtpRIP2vylNV0PVE/aTum7souWD/At0SJ8fVgPw3Iuahxymc/MSNhhJWvcD/bTfBN02d3P2zb5nxnaoA/CD5h5MAGhz8NmeH1TyaQP+zrCsc9p5Y/LbKd76fGnz/bLW5ISEmmPww9YvTcQq8/JV2OstnstT8Er5Y7M8G+P0c+r3jqkcU/5h99k6ZBzj88bCIzFzjVP4enV8oyxN0//yH99nXg5D8qOpLLf0jtP5kqGJXUifQ/c9cS8kHP/D+/DpwzojQEQIEmwoanVwxA4lgXt9HgE0BSSZ2AJuIbQAMJih9jjiNA5q4l5INuK0AwTKYKRj0zQNv5fmq8/DpAaCJseHrtQkB/+zpwzoxKQM3MzMzMeFJAZmZmZmZqWEAAAAAAAFxeQM3MzMzMJmJAmpmZmZkfZUBmZmZmZhhoQDMzMzMzEWtAAAAAAAAKbkBmZmZmZoFwQM3MzMzM/XFAMzMzMzN6c0CamZmZmfZ0QAAAAAAAc3ZAZmZmZmbvd0DNzMzMzGt5QDMzMzMz6HpAmpmZmZlkfEAAAAAAAOF9QGZmZmZmXX9AZmZmZuZsgECamZmZGSuBQM3MzMxM6YFAAAAAAICngkAzMzMzs2WDQGZmZmbmI4RAmpmZmRnihEDNzMzMTKCFQAAAAACAXoZAMzMzM7Mch0BmZmZm5tqHQJqZmZkZmYhAzczMzExXiUAAAAAAgBWKQDMzMzOz04pAZmZmZuaRi0CamZmZGVCMQM3MzMxMDo1AAAAAAIDMjUAzMzMzs4qOQGZmZmbmSI9A\",\"dtype\":\"float64\",\"shape\":[75]}},\"selected\":{\"id\":\"3b3cb969-80df-4ed4-8cd5-f543594d5125\",\"type\":\"Selection\"},\"selection_policy\":{\"id\":\"779116bb-227d-4aea-b1ed-e7407823a129\",\"type\":\"UnionRenderers\"}},\"id\":\"a46c7339-b051-4ecb-9831-bc18cc98025e\",\"type\":\"ColumnDataSource\"},{\"attributes\":{\"line_alpha\":0.8,\"line_color\":\"#984ea3\",\"line_width\":1.5,\"x\":{\"field\":\"x\"},\"y\":{\"field\":\"y\"}},\"id\":\"e43978ea-bb8c-479b-bd3d-18b79ee9295b\",\"type\":\"Line\"},{\"attributes\":{\"line_alpha\":0.1,\"line_color\":\"#1f77b4\",\"line_width\":1.5,\"x\":{\"field\":\"x\"},\"y\":{\"field\":\"y\"}},\"id\":\"1a6fe93f-5662-4103-883c-ebf3959efe2d\",\"type\":\"Line\"},{\"attributes\":{},\"id\":\"efb6972d-46fc-4341-9b84-79a356589bbb\",\"type\":\"BasicTickFormatter\"},{\"attributes\":{\"bottom_units\":\"screen\",\"fill_alpha\":{\"value\":0.5},\"fill_color\":{\"value\":\"lightgrey\"},\"left_units\":\"screen\",\"level\":\"overlay\",\"line_alpha\":{\"value\":1.0},\"line_color\":{\"value\":\"black\"},\"line_dash\":[4,4],\"line_width\":{\"value\":2},\"plot\":null,\"render_mode\":\"css\",\"right_units\":\"screen\",\"top_units\":\"screen\"},\"id\":\"e4ab2d49-c8ef-495d-9753-2f6e43533fb4\",\"type\":\"BoxAnnotation\"},{\"attributes\":{\"axis_label\":\"cooling rate [K/day]\",\"formatter\":{\"id\":\"5f126ab1-c873-4a81-b9bb-ce47e4d33102\",\"type\":\"BasicTickFormatter\"},\"plot\":{\"id\":\"a9b1b43b-35d8-4bfc-8bd9-a279f60360a2\",\"subtype\":\"Figure\",\"type\":\"Plot\"},\"ticker\":{\"id\":\"00293925-18b8-4600-956e-be9e96576050\",\"type\":\"BasicTicker\"}},\"id\":\"ad789a4e-b708-4df2-8d99-e0a624f9e7da\",\"type\":\"LinearAxis\"},{\"attributes\":{\"callback\":null,\"data\":{\"x\":{\"__ndarray__\":\"zcbUSk4YRMC/t1RLLK8gwGgVoL8IdALAc2CvKYi+/D/WVGaYomIOQINDLNfHyQ5ATcn83NwdBEDjDoeRfSjlP6Tfcs8XtOm/XgX4iCfY9b+PLllCI4zxv5TUqz5qMt+/QAV5OtRxsD94dWBXha7ZP8s7cbrqId8/tHfa2I021D/WrP38Z0yhP7qXnRpUt9C/jJpA4nk24L+GQcwnTangvx+q+rEpAdK/YCpV0rAKf7/6SkNcm7erv9qulEq35dO/IL+KYvVf178vB2bNqmWxv3ge6ffHfNg/UYVujm1M1z8fTZ/eStC3P/el+nP5iZc/d0yJW3Td0D/Qyl4ZdpnVP72KkmMYvcM/U4vC2HT0nL+30tlLbQVzP67JoZwkca4/YjAXfRfEfj+3GE+cJeqrv55qzCqo3ra/CNACqw6Gub/Lzryy0OW1v3CWnR0RirC/fCH3lL03r790OO8tH0Gdv+C6ZE327ba/BI1vAb+ZuL8H8hkOEY2rv+ywHWND6a6/KByQS/e2s79kxtwCOOeyvy+5G51Pp6u/Dj2bIg2zor9AMUjjQV6Yv+tSf9+W5JS/1vhJGZ+nlL8OV5NUG12Zv4zH8GxYWZu/nWXRqPq9k7/I/+lrNaJWPz6raLO3gqA/+dqfno5trD+mc/ksGu2tP3Iw9W9ufqU/ln1uoZnSlT/gYVf+sHFaP8DNw9d/J0I/3myhCAKUgT96L1QXU12eP4RfxiHWc6g/4xbvBFGwrz/ydex8TB+yP3YKkvhFW7M/Vg5TMCEltD+MCiXwn9e0P8lQ/rZzVrQ/\",\"dtype\":\"float64\",\"shape\":[75]},\"y\":{\"__ndarray__\":\"GhExyth1ND/Sv8nbtpRIP2vylNV0PVE/aTum7souWD/At0SJ8fVgPw3Iuahxymc/MSNhhJWvcD/bTfBN02d3P2zb5nxnaoA/CD5h5MAGhz8NmeH1TyaQP+zrCsc9p5Y/LbKd76fGnz/bLW5ISEmmPww9YvTcQq8/JV2OstnstT8Er5Y7M8G+P0c+r3jqkcU/5h99k6ZBzj88bCIzFzjVP4enV8oyxN0//yH99nXg5D8qOpLLf0jtP5kqGJXUifQ/c9cS8kHP/D+/DpwzojQEQIEmwoanVwxA4lgXt9HgE0BSSZ2AJuIbQAMJih9jjiNA5q4l5INuK0AwTKYKRj0zQNv5fmq8/DpAaCJseHrtQkB/+zpwzoxKQM3MzMzMeFJAZmZmZmZqWEAAAAAAAFxeQM3MzMzMJmJAmpmZmZkfZUBmZmZmZhhoQDMzMzMzEWtAAAAAAAAKbkBmZmZmZoFwQM3MzMzM/XFAMzMzMzN6c0CamZmZmfZ0QAAAAAAAc3ZAZmZmZmbvd0DNzMzMzGt5QDMzMzMz6HpAmpmZmZlkfEAAAAAAAOF9QGZmZmZmXX9AZmZmZuZsgECamZmZGSuBQM3MzMxM6YFAAAAAAICngkAzMzMzs2WDQGZmZmbmI4RAmpmZmRnihEDNzMzMTKCFQAAAAACAXoZAMzMzM7Mch0BmZmZm5tqHQJqZmZkZmYhAzczMzExXiUAAAAAAgBWKQDMzMzOz04pAZmZmZuaRi0CamZmZGVCMQM3MzMxMDo1AAAAAAIDMjUAzMzMzs4qOQGZmZmbmSI9A\",\"dtype\":\"float64\",\"shape\":[75]}},\"selected\":{\"id\":\"f326c118-6455-4a84-9ba8-4b0d518ffb2d\",\"type\":\"Selection\"},\"selection_policy\":{\"id\":\"eddcbbc8-5613-4c1f-8d92-221125dabb26\",\"type\":\"UnionRenderers\"}},\"id\":\"80ed1f12-3294-47d1-b418-16887bb3bc80\",\"type\":\"ColumnDataSource\"},{\"attributes\":{},\"id\":\"909da5d5-b3ab-4b4a-9df2-38c93115b966\",\"type\":\"ResetTool\"},{\"attributes\":{\"above\":[{\"id\":\"c100c40f-ee39-4496-ba3a-652c7c36f194\",\"type\":\"Legend\"}],\"below\":[{\"id\":\"ea127fc0-934f-4170-973f-62f853334f0f\",\"type\":\"LinearAxis\"}],\"left\":[{\"id\":\"8e564cdd-dcf4-4020-a381-e2121377aeea\",\"type\":\"LinearAxis\"}],\"plot_width\":300,\"renderers\":[{\"id\":\"ea127fc0-934f-4170-973f-62f853334f0f\",\"type\":\"LinearAxis\"},{\"id\":\"62ef6004-b695-45f9-b211-e38e1799e09b\",\"type\":\"Grid\"},{\"id\":\"8e564cdd-dcf4-4020-a381-e2121377aeea\",\"type\":\"LinearAxis\"},{\"id\":\"edc90428-5ba7-4594-a7e9-ea82e3c1a7bd\",\"type\":\"Grid\"},{\"id\":\"e4ab2d49-c8ef-495d-9753-2f6e43533fb4\",\"type\":\"BoxAnnotation\"},{\"id\":\"bd47ac89-028e-4981-9915-8925618378b9\",\"type\":\"GlyphRenderer\"},{\"id\":\"0e41490b-82b0-42db-b031-ac12a64d023f\",\"type\":\"GlyphRenderer\"},{\"id\":\"e5e2fc6d-ccb1-4d21-8c6a-3474605ed3cc\",\"type\":\"GlyphRenderer\"},{\"id\":\"5b63c4ec-2aa3-4121-a8bc-64ce147edbc2\",\"type\":\"GlyphRenderer\"},{\"id\":\"c9a2d9ee-989d-4163-893e-53acaa3280b4\",\"type\":\"GlyphRenderer\"},{\"id\":\"c100c40f-ee39-4496-ba3a-652c7c36f194\",\"type\":\"Legend\"}],\"title\":{\"id\":\"a335efea-1fac-4439-9989-3a2848da7cb0\",\"type\":\"Title\"},\"toolbar\":{\"id\":\"bf4fd875-5242-47dd-8e3c-f7d17922580f\",\"type\":\"Toolbar\"},\"toolbar_location\":null,\"x_range\":{\"id\":\"4cd7bb38-d050-4481-a25c-bb4c6942f54c\",\"type\":\"Range1d\"},\"x_scale\":{\"id\":\"522637eb-b3b2-4550-ad12-2c16ca4c5c5f\",\"type\":\"LinearScale\"},\"y_range\":{\"id\":\"0a645396-fbfd-4245-889b-8f1fc0651a7e\",\"type\":\"Range1d\"},\"y_scale\":{\"id\":\"b37b4bb1-17d0-4d1a-9944-d75a8a6e5044\",\"type\":\"LinearScale\"}},\"id\":\"4ac7f0fd-f0dd-4d36-bfec-4d2a7994788e\",\"subtype\":\"Figure\",\"type\":\"Plot\"},{\"attributes\":{\"source\":{\"id\":\"66a31969-da53-42f8-b283-6e744f450d14\",\"type\":\"ColumnDataSource\"}},\"id\":\"e9d3d3ef-b6a7-4ec4-9840-9b3436f30c09\",\"type\":\"CDSView\"},{\"attributes\":{\"plot\":{\"id\":\"4ac7f0fd-f0dd-4d36-bfec-4d2a7994788e\",\"subtype\":\"Figure\",\"type\":\"Plot\"},\"ticker\":{\"id\":\"b7681a31-2ec8-4c62-a098-c06b74265415\",\"type\":\"BasicTicker\"}},\"id\":\"62ef6004-b695-45f9-b211-e38e1799e09b\",\"type\":\"Grid\"},{\"attributes\":{},\"id\":\"eddcbbc8-5613-4c1f-8d92-221125dabb26\",\"type\":\"UnionRenderers\"},{\"attributes\":{\"fill_alpha\":{\"value\":0.1},\"fill_color\":{\"value\":\"#1f77b4\"},\"line_alpha\":{\"value\":0.1},\"line_color\":{\"value\":\"#1f77b4\"},\"x\":{\"field\":\"x\"},\"y\":{\"field\":\"y\"}},\"id\":\"4ffaab9e-2c92-4f92-9cda-e4c926918b26\",\"type\":\"Circle\"},{\"attributes\":{\"children\":[{\"id\":\"213b423b-8d7a-472e-88f0-37e47943ec04\",\"type\":\"ToolbarBox\"},{\"id\":\"d52371f0-6257-42d1-bd9d-5478a91ded32\",\"type\":\"Column\"}]},\"id\":\"630a1e04-185d-48cf-961b-7ddec06db424\",\"type\":\"Column\"},{\"attributes\":{\"ticker\":null},\"id\":\"9fef7424-516a-497b-9cf3-98c954adae78\",\"type\":\"LogTickFormatter\"},{\"attributes\":{},\"id\":\"e5aafe80-2198-4b1e-b265-6d719730ded8\",\"type\":\"LogScale\"},{\"attributes\":{},\"id\":\"d0257ea8-07c0-400a-aaa9-00284793a9cd\",\"type\":\"Selection\"},{\"attributes\":{},\"id\":\"374b7f21-3832-41a0-b7e4-0402684e1237\",\"type\":\"ResetTool\"},{\"attributes\":{\"data_source\":{\"id\":\"66a31969-da53-42f8-b283-6e744f450d14\",\"type\":\"ColumnDataSource\"},\"glyph\":{\"id\":\"e3abf35c-7108-4c03-8fe7-89cb289c3991\",\"type\":\"Circle\"},\"hover_glyph\":null,\"muted_glyph\":null,\"nonselection_glyph\":{\"id\":\"4ffaab9e-2c92-4f92-9cda-e4c926918b26\",\"type\":\"Circle\"},\"selection_glyph\":null,\"view\":{\"id\":\"e9d3d3ef-b6a7-4ec4-9840-9b3436f30c09\",\"type\":\"CDSView\"}},\"id\":\"32a75781-ab52-42b8-92c2-5494058def49\",\"type\":\"GlyphRenderer\"},{\"attributes\":{\"plot\":{\"id\":\"2ea1cccf-0045-4ba9-968e-3e8a03611279\",\"subtype\":\"Figure\",\"type\":\"Plot\"},\"ticker\":{\"id\":\"1d3a6f19-ed86-4531-a33c-193ee2eb7e16\",\"type\":\"BasicTicker\"}},\"id\":\"e0e3004c-8b39-45c0-8861-70bca9c6d7a8\",\"type\":\"Grid\"},{\"attributes\":{\"plot\":null,\"text\":\"\"},\"id\":\"b09e0cc8-282f-4f89-8267-d757c0e1f59c\",\"type\":\"Title\"},{\"attributes\":{},\"id\":\"74fa4b6a-a94d-4ce3-ab5f-abf36e1f1090\",\"type\":\"HelpTool\"},{\"attributes\":{\"toolbar\":{\"id\":\"7ebe4afb-385d-4efd-9718-5c9c619e68ba\",\"type\":\"ProxyToolbar\"},\"toolbar_location\":\"above\"},\"id\":\"213b423b-8d7a-472e-88f0-37e47943ec04\",\"type\":\"ToolbarBox\"},{\"attributes\":{\"bottom_units\":\"screen\",\"fill_alpha\":{\"value\":0.5},\"fill_color\":{\"value\":\"lightgrey\"},\"left_units\":\"screen\",\"level\":\"overlay\",\"line_alpha\":{\"value\":1.0},\"line_color\":{\"value\":\"black\"},\"line_dash\":[4,4],\"line_width\":{\"value\":2},\"plot\":null,\"render_mode\":\"css\",\"right_units\":\"screen\",\"top_units\":\"screen\"},\"id\":\"b6df1887-9ad8-4478-af61-553b6a72c585\",\"type\":\"BoxAnnotation\"},{\"attributes\":{\"callback\":null,\"data\":{\"x\":{\"__ndarray__\":\"cm1sTMT3VEDEyvjosEJHQOKI6DjzCUNArgQWV9awPkB9Lm8XG3M4QEz+Qv6iYzNA7eV8HaPLLkCX1QHyTpMoQFBmYSYetiNAUB04GtGpH0AmFyVE5j8ZQJca9QPGqBNALJP+OOHHDEBNxaf7QF8AQKtislomWuw/cW2dcO6A9T/uJJvfPu0EQIaQLTI/JQ1AxGiII+PmEkCJvfVeuCsYQD6ZBhGbHB9AXQw69DTYJEAsubcwKucqQNuT9D5OmipAJyi3szEJJUBlNebh5WkgQDDcPHBr2xlArtlANXuQFEBdJadFHckQQI2Avh0ZsQtAjYiwt1rsBUCL0SDoVBgAQK6C0nEEjvc/CggLSme58T9sXU2orFPnP0v0JYz9Gdg/vT38vxYczD9nBQTe6kHHP1IhkEXJwKo/8OZnhCVAub+xtVgCpmqzP6DUpY6g0+k/PKK3T1h4+D8RTDjQc1EAQG/dAQs7TwJAQt2eHpPLAEBWEh074x//PyCap9ZSGf4/rEzaTySm/T+7aXhHRmr9P688KeqeNP0/ruZ4EemD/D8olrZcn9T7P0+vNc9hW/s/i9VVL+4P+z+0NzC24uz6P8731Kza8vo/xFf4SHzq+z+gYyHpvHb8P68ROkiFevw/BAjYdCga/D8AUp8VbW77P3JrF/nKmvo/qCQeGfq++T/dplwHJfn4P2G4p+Uva/g/OzZ0RqMZ+D8dmn/iar73P/OuA7Ka8PY/gaaeQHGn9T9hkyjAH1L0P3aZGhdAU/M/n8VP/g7P8j+90HxHNvfyPwhNBtgrqvk/\",\"dtype\":\"float64\",\"shape\":[75]},\"y\":{\"__ndarray__\":\"GhExyth1ND/Sv8nbtpRIP2vylNV0PVE/aTum7souWD/At0SJ8fVgPw3Iuahxymc/MSNhhJWvcD/bTfBN02d3P2zb5nxnaoA/CD5h5MAGhz8NmeH1TyaQP+zrCsc9p5Y/LbKd76fGnz/bLW5ISEmmPww9YvTcQq8/JV2OstnstT8Er5Y7M8G+P0c+r3jqkcU/5h99k6ZBzj88bCIzFzjVP4enV8oyxN0//yH99nXg5D8qOpLLf0jtP5kqGJXUifQ/c9cS8kHP/D+/DpwzojQEQIEmwoanVwxA4lgXt9HgE0BSSZ2AJuIbQAMJih9jjiNA5q4l5INuK0AwTKYKRj0zQNv5fmq8/DpAaCJseHrtQkB/+zpwzoxKQM3MzMzMeFJAZmZmZmZqWEAAAAAAAFxeQM3MzMzMJmJAmpmZmZkfZUBmZmZmZhhoQDMzMzMzEWtAAAAAAAAKbkBmZmZmZoFwQM3MzMzM/XFAMzMzMzN6c0CamZmZmfZ0QAAAAAAAc3ZAZmZmZmbvd0DNzMzMzGt5QDMzMzMz6HpAmpmZmZlkfEAAAAAAAOF9QGZmZmZmXX9AZmZmZuZsgECamZmZGSuBQM3MzMxM6YFAAAAAAICngkAzMzMzs2WDQGZmZmbmI4RAmpmZmRnihEDNzMzMTKCFQAAAAACAXoZAMzMzM7Mch0BmZmZm5tqHQJqZmZkZmYhAzczMzExXiUAAAAAAgBWKQDMzMzOz04pAZmZmZuaRi0CamZmZGVCMQM3MzMxMDo1AAAAAAIDMjUAzMzMzs4qOQGZmZmbmSI9A\",\"dtype\":\"float64\",\"shape\":[75]}},\"selected\":{\"id\":\"78529723-7e93-4ce0-a7db-25797c5bc6b5\",\"type\":\"Selection\"},\"selection_policy\":{\"id\":\"48a1cf23-8753-4c76-84e2-2c8f4051bd1f\",\"type\":\"UnionRenderers\"}},\"id\":\"a7772455-db37-41b3-b527-83a886ca6bc9\",\"type\":\"ColumnDataSource\"},{\"attributes\":{},\"id\":\"06b668f6-be9a-4cd2-91e7-616115bf45e1\",\"type\":\"SaveTool\"},{\"attributes\":{\"data_source\":{\"id\":\"50bccb2e-feca-49ed-9fe5-e1a2bf85d460\",\"type\":\"ColumnDataSource\"},\"glyph\":{\"id\":\"e843996a-0ca7-4b3b-b284-e9182ccbe422\",\"type\":\"Circle\"},\"hover_glyph\":null,\"muted_glyph\":null,\"nonselection_glyph\":{\"id\":\"9d250559-9881-4d8f-8b1d-68323ee6a3f7\",\"type\":\"Circle\"},\"selection_glyph\":null,\"view\":{\"id\":\"fc2e5112-bc8a-44fd-af1f-0945412a2a2f\",\"type\":\"CDSView\"}},\"id\":\"0e41490b-82b0-42db-b031-ac12a64d023f\",\"type\":\"GlyphRenderer\"},{\"attributes\":{\"label\":{\"value\":\"CLIRAD (single-run) - CRD\"},\"renderers\":[{\"id\":\"148222de-2343-4202-a761-4c64c9379191\",\"type\":\"GlyphRenderer\"},{\"id\":\"e00ed2c0-9c2f-49d0-87d0-f966a980791f\",\"type\":\"GlyphRenderer\"}]},\"id\":\"2ad7bb30-5421-4111-95d2-e6295279874e\",\"type\":\"LegendItem\"},{\"attributes\":{\"data_source\":{\"id\":\"3d85355a-33f5-45cb-b59c-fd2e1fb36f07\",\"type\":\"ColumnDataSource\"},\"glyph\":{\"id\":\"35afb576-a548-4823-9cd3-6b2c02370ad0\",\"type\":\"Line\"},\"hover_glyph\":null,\"muted_glyph\":null,\"nonselection_glyph\":{\"id\":\"5061f2e9-d4dd-4853-8052-5a75d494c916\",\"type\":\"Line\"},\"selection_glyph\":null,\"view\":{\"id\":\"1e122d5f-8ff6-4917-a742-8f941c4f9b04\",\"type\":\"CDSView\"}},\"id\":\"ea7963cc-c065-4741-9556-d0078376fde2\",\"type\":\"GlyphRenderer\"},{\"attributes\":{},\"id\":\"89f860f3-da0e-4ec9-8c1c-c837affaf6c6\",\"type\":\"UnionRenderers\"},{\"attributes\":{},\"id\":\"1cd4a564-edb7-48e9-a5fe-a20a41104668\",\"type\":\"HelpTool\"},{\"attributes\":{\"data_source\":{\"id\":\"a7772455-db37-41b3-b527-83a886ca6bc9\",\"type\":\"ColumnDataSource\"},\"glyph\":{\"id\":\"ffff6f24-cc2a-417e-a3e6-5b62e17c5219\",\"type\":\"Line\"},\"hover_glyph\":null,\"muted_glyph\":null,\"nonselection_glyph\":{\"id\":\"a5bd887c-e63f-4f2d-b72d-a78287ed4200\",\"type\":\"Line\"},\"selection_glyph\":null,\"view\":{\"id\":\"35ff07cf-f58f-4d0d-b567-ed167dc9fba6\",\"type\":\"CDSView\"}},\"id\":\"fb7f8ab7-e1a6-4bb3-808e-1ef56edb8297\",\"type\":\"GlyphRenderer\"},{\"attributes\":{},\"id\":\"46b74b29-a698-47c1-942e-96549cd4dd36\",\"type\":\"UnionRenderers\"},{\"attributes\":{},\"id\":\"cb1061ef-61aa-460f-8f5d-eb0360dbfa77\",\"type\":\"Selection\"},{\"attributes\":{\"source\":{\"id\":\"a46c7339-b051-4ecb-9831-bc18cc98025e\",\"type\":\"ColumnDataSource\"}},\"id\":\"2c557026-583a-4eda-ac72-94512ed4ea17\",\"type\":\"CDSView\"},{\"attributes\":{\"callback\":null,\"data\":{\"x\":{\"__ndarray__\":\"zhhdnl3RU0CKgDdE+dxEQP6f5duhdUFAMJBr6ewEQkAADxZQyK45QBmX3ka8EDZAjl8alnlwL0CeYJlYHKIqQJoaoQNWxSJAwL4t7BozIUBMkS56I6AXQBxPe4ld/BRAnMjiKz2HCkCJCgdQ/WcBQKJTvluRvOg/j/JpYJwB9j+fcxKIKREEQOwUvOtLFw1AV0At7oRoEkD5lECKxjYXQAdydNQ0jR1ACbyvRZLfI0CO3MmPRGApQCcUNq4qNylA6VN9h30SJECRnP+HbGofQDQKaukXmhlAteFC/mL9E0CTDffT91MQQEkVAKh1YwtAqFesCIQRBkATatBMXLz/P4fvYPUXo/Y/tDrQnFTK8T/fneFQ7xLnP14aDQuCJtc/5BrOx2LRzT+fE4V0bnvHP3ueIXamhrA/cWaxNtALrr92uqPyMJK3P6q5+U821+g/ckrZjXL49z/TaxRJZAUAQPzVLij27QFAige8XqaCAEAv4Q7keaX+P0VyKG35kv0/XHVqXZRQ/T/+RskYEAv9PwKD1IjB3fw/JBko3yJ2/D//mRCM5iX7P/btQHcr5vo/xTCcdQr9+j+f/V+tjrf6P0Wt2HvLrvo/9IV/x6br+z/bYX40veD8P8+HZwkyUvw/CkxgoI8l/D8QA+bsYB78P2eu9w7DDvw/khNJm3qS+j8vZ0xHVJ75Py0d1shscPk/NKgVKiiK+T/NNtzstIr5P4ps72zyaPc/TlSpuPUj9j9S2qZu6gj1P2XVmdu6VPQ/t/WgjjEZ9D+np734CoH0P1P4Q57qwfo/\",\"dtype\":\"float64\",\"shape\":[75]},\"y\":{\"__ndarray__\":\"hLndy31yND/6fmq8dJNIP8n9DkWBPlE/aDum7souWD/b4a/JGvVgP9f34SAhymc/ZvM4DOavcD+z0M5pFmh3PxuC4zJuaoA/xjcUPlsHhz8uHAjJAiaQP9ieWRKgppY/oI7HDFTGnz+a5h2n6EimPzS6g9iZQq8/IuAQqtTstT9SSZ2AJsK+P4nS3uALk8U/ih9j7lpCzj+ASL99HTjVP4enV8oyxN0/ACL99nXg5D9fmEwVjErtPyUGgZVDi/Q/AiuHFtnO/D9OYhBYOTQEQPHSTWIQWAxA4XoUrkfhE0D8qfHSTeIbQMh2vp8ajyNArkfhehRuK0Bcj8L1KDwzQFyPwvUo/DpAPgrXo3DtQkDNzMzMzIxKQClcj8L1eFJAKVyPwvVoWECamZmZmVleQGZmZmZmJmJAAAAAAAAgZUCamZmZmRloQJqZmZmZEWtAmpmZmZkJbkCamZmZmYFwQGZmZmZm/nFAZmZmZmZ6c0BmZmZmZvZ0QDQzMzMzc3ZAAAAAAADwd0AAAAAAAGx5QAAAAAAA6HpAzMzMzMxkfEDMzMzMzOB9QM3MzMzMXH9AzczMzMxsgEAzMzMzMyuBQDMzMzMz6YFAMzMzMzOngkCamZmZmWWDQAAAAAAAJIRAAAAAAADihEAAAAAAAKCFQGZmZmZmXoZAzczMzMwch0DNzMzMzNqHQM3MzMzMmIhAMzMzMzNXiUCamZmZmRWKQAAAAAAA1IpAAAAAAACSi0AAAAAAAFCMQGZmZmZmDo1AzczMzMzMjUDNzMzMzIqOQM3MzMzMSI9A\",\"dtype\":\"float64\",\"shape\":[75]}},\"selected\":{\"id\":\"9b013ea1-0a91-4638-87e0-48f21494eb46\",\"type\":\"Selection\"},\"selection_policy\":{\"id\":\"8aef4d77-56a1-4cf6-bb82-66b43a429ce6\",\"type\":\"UnionRenderers\"}},\"id\":\"f5eb1937-d176-433e-9b81-5c05f923fe85\",\"type\":\"ColumnDataSource\"},{\"attributes\":{},\"id\":\"9447bd0a-9ba0-4518-9766-c44197ba08e9\",\"type\":\"PanTool\"},{\"attributes\":{\"label\":{\"value\":\"old CLIRAD (H2012) - CRD\"},\"renderers\":[{\"id\":\"ea7963cc-c065-4741-9556-d0078376fde2\",\"type\":\"GlyphRenderer\"}]},\"id\":\"bd2a7a99-0646-4695-a122-b1fc4d9042fd\",\"type\":\"LegendItem\"},{\"attributes\":{\"fill_alpha\":{\"value\":0.7},\"fill_color\":{\"value\":\"#4daf4a\"},\"line_alpha\":{\"value\":0.7},\"line_color\":{\"value\":\"#4daf4a\"},\"x\":{\"field\":\"x\"},\"y\":{\"field\":\"y\"}},\"id\":\"e843996a-0ca7-4b3b-b284-e9182ccbe422\",\"type\":\"Circle\"},{\"attributes\":{\"plot\":null,\"text\":\"\"},\"id\":\"a335efea-1fac-4439-9989-3a2848da7cb0\",\"type\":\"Title\"},{\"attributes\":{\"above\":[{\"id\":\"4258dbb5-54f6-4006-9109-d343aa3f6473\",\"type\":\"Legend\"}],\"below\":[{\"id\":\"ad789a4e-b708-4df2-8d99-e0a624f9e7da\",\"type\":\"LinearAxis\"}],\"left\":[{\"id\":\"8f0db32a-b660-4216-9ee4-3db468b1c7ee\",\"type\":\"LogAxis\"}],\"plot_width\":300,\"renderers\":[{\"id\":\"ad789a4e-b708-4df2-8d99-e0a624f9e7da\",\"type\":\"LinearAxis\"},{\"id\":\"bd40ed32-f7e0-436b-ba35-0874f6d25269\",\"type\":\"Grid\"},{\"id\":\"8f0db32a-b660-4216-9ee4-3db468b1c7ee\",\"type\":\"LogAxis\"},{\"id\":\"e70ee5da-c594-499c-91a3-a8a24b941f5e\",\"type\":\"Grid\"},{\"id\":\"b6df1887-9ad8-4478-af61-553b6a72c585\",\"type\":\"BoxAnnotation\"},{\"id\":\"ad35f426-e316-4b66-bedb-c8c427793d27\",\"type\":\"GlyphRenderer\"},{\"id\":\"32a75781-ab52-42b8-92c2-5494058def49\",\"type\":\"GlyphRenderer\"},{\"id\":\"fb7f8ab7-e1a6-4bb3-808e-1ef56edb8297\",\"type\":\"GlyphRenderer\"},{\"id\":\"53913040-1da5-4d28-9c67-65fa66e656fe\",\"type\":\"GlyphRenderer\"},{\"id\":\"fb569ba4-1a97-405f-b578-b2dd988c18ce\",\"type\":\"GlyphRenderer\"},{\"id\":\"4258dbb5-54f6-4006-9109-d343aa3f6473\",\"type\":\"Legend\"}],\"title\":{\"id\":\"d7fd2011-36b5-404e-b68a-6567ed55526c\",\"type\":\"Title\"},\"toolbar\":{\"id\":\"9420c7f1-bb3f-4077-bf37-352fe8854d0a\",\"type\":\"Toolbar\"},\"toolbar_location\":null,\"x_range\":{\"id\":\"1d7f94f6-c4d0-4c6f-980c-c9d625c0078d\",\"type\":\"Range1d\"},\"x_scale\":{\"id\":\"ae581a14-2a6b-4d7d-b5ef-b3e73085ac53\",\"type\":\"LinearScale\"},\"y_range\":{\"id\":\"1184d411-f236-4da3-9ed3-e813bef202c2\",\"type\":\"Range1d\"},\"y_scale\":{\"id\":\"28ad3beb-33b1-4f99-8663-0a5d8062459a\",\"type\":\"LogScale\"}},\"id\":\"a9b1b43b-35d8-4bfc-8bd9-a279f60360a2\",\"subtype\":\"Figure\",\"type\":\"Plot\"},{\"attributes\":{},\"id\":\"b7681a31-2ec8-4c62-a098-c06b74265415\",\"type\":\"BasicTicker\"},{\"attributes\":{\"line_alpha\":0.1,\"line_color\":\"#1f77b4\",\"line_dash\":[6],\"line_width\":5,\"x\":{\"field\":\"x\"},\"y\":{\"field\":\"y\"}},\"id\":\"fb61d0a9-8936-4623-a16f-f657529e8481\",\"type\":\"Line\"},{\"attributes\":{\"bottom_units\":\"screen\",\"fill_alpha\":{\"value\":0.5},\"fill_color\":{\"value\":\"lightgrey\"},\"left_units\":\"screen\",\"level\":\"overlay\",\"line_alpha\":{\"value\":1.0},\"line_color\":{\"value\":\"black\"},\"line_dash\":[4,4],\"line_width\":{\"value\":2},\"plot\":null,\"render_mode\":\"css\",\"right_units\":\"screen\",\"top_units\":\"screen\"},\"id\":\"f6a1426a-a3a3-4546-82d4-a47a54009300\",\"type\":\"BoxAnnotation\"},{\"attributes\":{\"data_source\":{\"id\":\"a46c7339-b051-4ecb-9831-bc18cc98025e\",\"type\":\"ColumnDataSource\"},\"glyph\":{\"id\":\"91eae478-117e-47df-a859-e99d0cf0a54e\",\"type\":\"Line\"},\"hover_glyph\":null,\"muted_glyph\":null,\"nonselection_glyph\":{\"id\":\"39a8b807-1a7c-44cb-9148-177e96ad03e9\",\"type\":\"Line\"},\"selection_glyph\":null,\"view\":{\"id\":\"2c557026-583a-4eda-ac72-94512ed4ea17\",\"type\":\"CDSView\"}},\"id\":\"bd47ac89-028e-4981-9915-8925618378b9\",\"type\":\"GlyphRenderer\"},{\"attributes\":{\"label\":{\"value\":\"old CLIRAD (H2012)\"},\"renderers\":[{\"id\":\"53913040-1da5-4d28-9c67-65fa66e656fe\",\"type\":\"GlyphRenderer\"},{\"id\":\"fb569ba4-1a97-405f-b578-b2dd988c18ce\",\"type\":\"GlyphRenderer\"}]},\"id\":\"95ef14d8-8394-4af4-9ea3-e5573b39f26b\",\"type\":\"LegendItem\"},{\"attributes\":{\"data_source\":{\"id\":\"f5eb1937-d176-433e-9b81-5c05f923fe85\",\"type\":\"ColumnDataSource\"},\"glyph\":{\"id\":\"7f4cdca1-9bcd-4f92-9ebe-be4a75ecda56\",\"type\":\"Line\"},\"hover_glyph\":null,\"muted_glyph\":null,\"nonselection_glyph\":{\"id\":\"85d4f40c-f019-434c-92a4-e410e37f6f1a\",\"type\":\"Line\"},\"selection_glyph\":null,\"view\":{\"id\":\"9c0746a0-bbd1-43b8-9919-25bb207c49fc\",\"type\":\"CDSView\"}},\"id\":\"fb569ba4-1a97-405f-b578-b2dd988c18ce\",\"type\":\"GlyphRenderer\"},{\"attributes\":{\"callback\":null,\"data\":{\"x\":{\"__ndarray__\":\"cm1sTMT3VEDEyvjosEJHQOKI6DjzCUNArgQWV9awPkB9Lm8XG3M4QEz+Qv6iYzNA7eV8HaPLLkCX1QHyTpMoQFBmYSYetiNAUB04GtGpH0AmFyVE5j8ZQJca9QPGqBNALJP+OOHHDEBNxaf7QF8AQKtislomWuw/cW2dcO6A9T/uJJvfPu0EQIaQLTI/JQ1AxGiII+PmEkCJvfVeuCsYQD6ZBhGbHB9AXQw69DTYJEAsubcwKucqQNuT9D5OmipAJyi3szEJJUBlNebh5WkgQDDcPHBr2xlArtlANXuQFEBdJadFHckQQI2Avh0ZsQtAjYiwt1rsBUCL0SDoVBgAQK6C0nEEjvc/CggLSme58T9sXU2orFPnP0v0JYz9Gdg/vT38vxYczD9nBQTe6kHHP1IhkEXJwKo/8OZnhCVAub+xtVgCpmqzP6DUpY6g0+k/PKK3T1h4+D8RTDjQc1EAQG/dAQs7TwJAQt2eHpPLAEBWEh074x//PyCap9ZSGf4/rEzaTySm/T+7aXhHRmr9P688KeqeNP0/ruZ4EemD/D8olrZcn9T7P0+vNc9hW/s/i9VVL+4P+z+0NzC24uz6P8731Kza8vo/xFf4SHzq+z+gYyHpvHb8P68ROkiFevw/BAjYdCga/D8AUp8VbW77P3JrF/nKmvo/qCQeGfq++T/dplwHJfn4P2G4p+Uva/g/OzZ0RqMZ+D8dmn/iar73P/OuA7Ka8PY/gaaeQHGn9T9hkyjAH1L0P3aZGhdAU/M/n8VP/g7P8j+90HxHNvfyPwhNBtgrqvk/\",\"dtype\":\"float64\",\"shape\":[75]},\"y\":{\"__ndarray__\":\"GhExyth1ND/Sv8nbtpRIP2vylNV0PVE/aTum7souWD/At0SJ8fVgPw3Iuahxymc/MSNhhJWvcD/bTfBN02d3P2zb5nxnaoA/CD5h5MAGhz8NmeH1TyaQP+zrCsc9p5Y/LbKd76fGnz/bLW5ISEmmPww9YvTcQq8/JV2OstnstT8Er5Y7M8G+P0c+r3jqkcU/5h99k6ZBzj88bCIzFzjVP4enV8oyxN0//yH99nXg5D8qOpLLf0jtP5kqGJXUifQ/c9cS8kHP/D+/DpwzojQEQIEmwoanVwxA4lgXt9HgE0BSSZ2AJuIbQAMJih9jjiNA5q4l5INuK0AwTKYKRj0zQNv5fmq8/DpAaCJseHrtQkB/+zpwzoxKQM3MzMzMeFJAZmZmZmZqWEAAAAAAAFxeQM3MzMzMJmJAmpmZmZkfZUBmZmZmZhhoQDMzMzMzEWtAAAAAAAAKbkBmZmZmZoFwQM3MzMzM/XFAMzMzMzN6c0CamZmZmfZ0QAAAAAAAc3ZAZmZmZmbvd0DNzMzMzGt5QDMzMzMz6HpAmpmZmZlkfEAAAAAAAOF9QGZmZmZmXX9AZmZmZuZsgECamZmZGSuBQM3MzMxM6YFAAAAAAICngkAzMzMzs2WDQGZmZmbmI4RAmpmZmRnihEDNzMzMTKCFQAAAAACAXoZAMzMzM7Mch0BmZmZm5tqHQJqZmZkZmYhAzczMzExXiUAAAAAAgBWKQDMzMzOz04pAZmZmZuaRi0CamZmZGVCMQM3MzMxMDo1AAAAAAIDMjUAzMzMzs4qOQGZmZmbmSI9A\",\"dtype\":\"float64\",\"shape\":[75]}},\"selected\":{\"id\":\"f9c6bedc-f1a9-47f9-acc7-6f72393bd14c\",\"type\":\"Selection\"},\"selection_policy\":{\"id\":\"cf91e1e5-8acd-4eaa-b230-f2bb0cb8b8c1\",\"type\":\"UnionRenderers\"}},\"id\":\"8732fbcd-000f-4032-9b23-699f299e232f\",\"type\":\"ColumnDataSource\"},{\"attributes\":{},\"id\":\"da51f04b-fc22-4899-bf6d-51c1e4d43aa3\",\"type\":\"UnionRenderers\"},{\"attributes\":{\"line_alpha\":0.1,\"line_color\":\"#1f77b4\",\"line_width\":1.5,\"x\":{\"field\":\"x\"},\"y\":{\"field\":\"y\"}},\"id\":\"c28f52a3-c57b-43a7-9948-ce56fceff685\",\"type\":\"Line\"},{\"attributes\":{\"source\":{\"id\":\"404f0928-3c80-43b5-a4f1-c821c8aa8980\",\"type\":\"ColumnDataSource\"}},\"id\":\"7b22a1f1-dd73-40e4-a1a2-ed454df5dc85\",\"type\":\"CDSView\"},{\"attributes\":{\"source\":{\"id\":\"50bccb2e-feca-49ed-9fe5-e1a2bf85d460\",\"type\":\"ColumnDataSource\"}},\"id\":\"fc2e5112-bc8a-44fd-af1f-0945412a2a2f\",\"type\":\"CDSView\"},{\"attributes\":{},\"id\":\"7a0895f3-4a5e-4aae-a805-55dfc92e1a69\",\"type\":\"Selection\"},{\"attributes\":{\"line_alpha\":0.6,\"line_color\":\"#377eb8\",\"line_dash\":[6],\"line_width\":5,\"x\":{\"field\":\"x\"},\"y\":{\"field\":\"y\"}},\"id\":\"e6fa0305-257b-428c-a1a3-c81b11ff39e6\",\"type\":\"Line\"},{\"attributes\":{},\"id\":\"f326c118-6455-4a84-9ba8-4b0d518ffb2d\",\"type\":\"Selection\"},{\"attributes\":{\"label\":{\"value\":\"CLIRAD (single-run)\"},\"renderers\":[{\"id\":\"ad35f426-e316-4b66-bedb-c8c427793d27\",\"type\":\"GlyphRenderer\"}]},\"id\":\"2e55a7ff-6fed-4662-b298-c5f3cd3f703b\",\"type\":\"LegendItem\"},{\"attributes\":{\"callback\":null,\"data\":{\"x\":{\"__ndarray__\":\"FRQETjrXRUDWnCPW5RZDQIyH7qyy4kFAWX3YbF8+QEAY+Xtqbz88QLyGKPnbPDdAIAxeKo3pMUCERhrL1uUpQFY4aqncGiJA9xv6N8czGkCCy45z3dwUQE5dCmCftRFAVlvS2m9LDUD705OmEZUDQEiA9duN9fU/XgvU5pGO+j+hG49/cDIFQI/d2a5UDgtAclVA5xPgEEBaNfy5jhYWQJvu5nWI/B1AucEfnlPUJEDhdVuVcssqQGPun4Qg+ylALdKiCDJOJEBZaUuMGkcgQBZuu+83YxtAAsInDkIFFkCRoiFxXigRQNp1phAt4AtAHLIhQwkICEDlqkyrg8sCQAfURH6nBfo/3P2ndpVF8T8TEeWCt3nnP4Qtuh8i6Ns/PvfkezcSzT85P/B2YUfAP+OzCBCH/KK/e1u1Fxpjyb+/yCCDVdmDv9Qh8mpewuc/MukPY5p+9z+gbdyR8RYAQJi3lljLlwFA2GCTJsUGAEDHQqyyekP+P5isjrsIIv0/6koh27Rq/D9VnUrH0jv8P+ZeQG1kV/w/xQxkqFDu+z9jdSlVJnP7PwOyt3PPB/s/pq3wsk+9+j9W6t1Ibof6P680IUt1hfo/LhJVXoSb+z8eXnx2ZXz8PwlX1QWb/vw/3QbN6ZT9/D+cHQfn1V38P/YUl2y+Rvs/nd6jf0QW+j+1PJxzwf/4P9uwotV0bfg/FXmFSss8+D/b6twu4Df4P+7hEWM5tPc/Nx/GyPOk9j+/WveHFHT1Px+6o3b0iPQ/g/ZUEWER9D9mIX9GsET0PxMydhOT7/o/\",\"dtype\":\"float64\",\"shape\":[75]},\"y\":{\"__ndarray__\":\"GhExyth1ND/Sv8nbtpRIP2vylNV0PVE/aTum7souWD/At0SJ8fVgPw3Iuahxymc/MSNhhJWvcD/bTfBN02d3P2zb5nxnaoA/CD5h5MAGhz8NmeH1TyaQP+zrCsc9p5Y/LbKd76fGnz/bLW5ISEmmPww9YvTcQq8/JV2OstnstT8Er5Y7M8G+P0c+r3jqkcU/5h99k6ZBzj88bCIzFzjVP4enV8oyxN0//yH99nXg5D8qOpLLf0jtP5kqGJXUifQ/c9cS8kHP/D+/DpwzojQEQIEmwoanVwxA4lgXt9HgE0BSSZ2AJuIbQAMJih9jjiNA5q4l5INuK0AwTKYKRj0zQNv5fmq8/DpAaCJseHrtQkB/+zpwzoxKQM3MzMzMeFJAZmZmZmZqWEAAAAAAAFxeQM3MzMzMJmJAmpmZmZkfZUBmZmZmZhhoQDMzMzMzEWtAAAAAAAAKbkBmZmZmZoFwQM3MzMzM/XFAMzMzMzN6c0CamZmZmfZ0QAAAAAAAc3ZAZmZmZmbvd0DNzMzMzGt5QDMzMzMz6HpAmpmZmZlkfEAAAAAAAOF9QGZmZmZmXX9AZmZmZuZsgECamZmZGSuBQM3MzMxM6YFAAAAAAICngkAzMzMzs2WDQGZmZmbmI4RAmpmZmRnihEDNzMzMTKCFQAAAAACAXoZAMzMzM7Mch0BmZmZm5tqHQJqZmZkZmYhAzczMzExXiUAAAAAAgBWKQDMzMzOz04pAZmZmZuaRi0CamZmZGVCMQM3MzMxMDo1AAAAAAIDMjUAzMzMzs4qOQGZmZmbmSI9A\",\"dtype\":\"float64\",\"shape\":[75]}},\"selected\":{\"id\":\"b7f360b5-c7fa-465e-8954-e7d6eed97f29\",\"type\":\"Selection\"},\"selection_policy\":{\"id\":\"2e2116d7-9af7-4f20-b09e-254984c4f05f\",\"type\":\"UnionRenderers\"}},\"id\":\"592937e9-0868-4240-a0e1-cfa09c13576a\",\"type\":\"ColumnDataSource\"},{\"attributes\":{},\"id\":\"522637eb-b3b2-4550-ad12-2c16ca4c5c5f\",\"type\":\"LinearScale\"},{\"attributes\":{\"line_color\":\"#4daf4a\",\"line_width\":1.5,\"x\":{\"field\":\"x\"},\"y\":{\"field\":\"y\"}},\"id\":\"ffff6f24-cc2a-417e-a3e6-5b62e17c5219\",\"type\":\"Line\"},{\"attributes\":{},\"id\":\"3cee5825-3f70-46f6-a5e7-eed06273e704\",\"type\":\"ResetTool\"},{\"attributes\":{},\"id\":\"768ea6ea-5123-4f21-916f-ee5d84bca54a\",\"type\":\"BasicTickFormatter\"},{\"attributes\":{\"label\":{\"value\":\"CRD\"},\"renderers\":[{\"id\":\"32a75781-ab52-42b8-92c2-5494058def49\",\"type\":\"GlyphRenderer\"},{\"id\":\"fb7f8ab7-e1a6-4bb3-808e-1ef56edb8297\",\"type\":\"GlyphRenderer\"}]},\"id\":\"9f2d228f-3c96-4a31-a91d-7f005d793e5f\",\"type\":\"LegendItem\"},{\"attributes\":{\"callback\":null,\"data\":{\"x\":{\"__ndarray__\":\"cm1sTMT3VEDEyvjosEJHQOKI6DjzCUNArgQWV9awPkB9Lm8XG3M4QEz+Qv6iYzNA7eV8HaPLLkCX1QHyTpMoQFBmYSYetiNAUB04GtGpH0AmFyVE5j8ZQJca9QPGqBNALJP+OOHHDEBNxaf7QF8AQKtislomWuw/cW2dcO6A9T/uJJvfPu0EQIaQLTI/JQ1AxGiII+PmEkCJvfVeuCsYQD6ZBhGbHB9AXQw69DTYJEAsubcwKucqQNuT9D5OmipAJyi3szEJJUBlNebh5WkgQDDcPHBr2xlArtlANXuQFEBdJadFHckQQI2Avh0ZsQtAjYiwt1rsBUCL0SDoVBgAQK6C0nEEjvc/CggLSme58T9sXU2orFPnP0v0JYz9Gdg/vT38vxYczD9nBQTe6kHHP1IhkEXJwKo/8OZnhCVAub+xtVgCpmqzP6DUpY6g0+k/PKK3T1h4+D8RTDjQc1EAQG/dAQs7TwJAQt2eHpPLAEBWEh074x//PyCap9ZSGf4/rEzaTySm/T+7aXhHRmr9P688KeqeNP0/ruZ4EemD/D8olrZcn9T7P0+vNc9hW/s/i9VVL+4P+z+0NzC24uz6P8731Kza8vo/xFf4SHzq+z+gYyHpvHb8P68ROkiFevw/BAjYdCga/D8AUp8VbW77P3JrF/nKmvo/qCQeGfq++T/dplwHJfn4P2G4p+Uva/g/OzZ0RqMZ+D8dmn/iar73P/OuA7Ka8PY/gaaeQHGn9T9hkyjAH1L0P3aZGhdAU/M/n8VP/g7P8j+90HxHNvfyPwhNBtgrqvk/\",\"dtype\":\"float64\",\"shape\":[75]},\"y\":{\"__ndarray__\":\"GhExyth1ND/Sv8nbtpRIP2vylNV0PVE/aTum7souWD/At0SJ8fVgPw3Iuahxymc/MSNhhJWvcD/bTfBN02d3P2zb5nxnaoA/CD5h5MAGhz8NmeH1TyaQP+zrCsc9p5Y/LbKd76fGnz/bLW5ISEmmPww9YvTcQq8/JV2OstnstT8Er5Y7M8G+P0c+r3jqkcU/5h99k6ZBzj88bCIzFzjVP4enV8oyxN0//yH99nXg5D8qOpLLf0jtP5kqGJXUifQ/c9cS8kHP/D+/DpwzojQEQIEmwoanVwxA4lgXt9HgE0BSSZ2AJuIbQAMJih9jjiNA5q4l5INuK0AwTKYKRj0zQNv5fmq8/DpAaCJseHrtQkB/+zpwzoxKQM3MzMzMeFJAZmZmZmZqWEAAAAAAAFxeQM3MzMzMJmJAmpmZmZkfZUBmZmZmZhhoQDMzMzMzEWtAAAAAAAAKbkBmZmZmZoFwQM3MzMzM/XFAMzMzMzN6c0CamZmZmfZ0QAAAAAAAc3ZAZmZmZmbvd0DNzMzMzGt5QDMzMzMz6HpAmpmZmZlkfEAAAAAAAOF9QGZmZmZmXX9AZmZmZuZsgECamZmZGSuBQM3MzMxM6YFAAAAAAICngkAzMzMzs2WDQGZmZmbmI4RAmpmZmRnihEDNzMzMTKCFQAAAAACAXoZAMzMzM7Mch0BmZmZm5tqHQJqZmZkZmYhAzczMzExXiUAAAAAAgBWKQDMzMzOz04pAZmZmZuaRi0CamZmZGVCMQM3MzMxMDo1AAAAAAIDMjUAzMzMzs4qOQGZmZmbmSI9A\",\"dtype\":\"float64\",\"shape\":[75]}},\"selected\":{\"id\":\"7a0895f3-4a5e-4aae-a805-55dfc92e1a69\",\"type\":\"Selection\"},\"selection_policy\":{\"id\":\"89f860f3-da0e-4ec9-8c1c-c837affaf6c6\",\"type\":\"UnionRenderers\"}},\"id\":\"50bccb2e-feca-49ed-9fe5-e1a2bf85d460\",\"type\":\"ColumnDataSource\"},{\"attributes\":{\"fill_alpha\":{\"value\":0.7},\"fill_color\":{\"value\":\"#984ea3\"},\"line_alpha\":{\"value\":0.7},\"line_color\":{\"value\":\"#984ea3\"},\"x\":{\"field\":\"x\"},\"y\":{\"field\":\"y\"}},\"id\":\"22a8a356-67ee-423d-858a-43b7ac99281e\",\"type\":\"Square\"},{\"attributes\":{},\"id\":\"779116bb-227d-4aea-b1ed-e7407823a129\",\"type\":\"UnionRenderers\"},{\"attributes\":{\"source\":{\"id\":\"3d85355a-33f5-45cb-b59c-fd2e1fb36f07\",\"type\":\"ColumnDataSource\"}},\"id\":\"1e122d5f-8ff6-4917-a742-8f941c4f9b04\",\"type\":\"CDSView\"},{\"attributes\":{\"data_source\":{\"id\":\"404f0928-3c80-43b5-a4f1-c821c8aa8980\",\"type\":\"ColumnDataSource\"},\"glyph\":{\"id\":\"22a8a356-67ee-423d-858a-43b7ac99281e\",\"type\":\"Square\"},\"hover_glyph\":null,\"muted_glyph\":null,\"nonselection_glyph\":{\"id\":\"257e5e14-2af2-40dd-a199-032e83e57434\",\"type\":\"Square\"},\"selection_glyph\":null,\"view\":{\"id\":\"7b22a1f1-dd73-40e4-a1a2-ed454df5dc85\",\"type\":\"CDSView\"}},\"id\":\"53913040-1da5-4d28-9c67-65fa66e656fe\",\"type\":\"GlyphRenderer\"},{\"attributes\":{\"line_alpha\":0.1,\"line_color\":\"#1f77b4\",\"line_dash\":[6],\"line_width\":4,\"x\":{\"field\":\"x\"},\"y\":{\"field\":\"y\"}},\"id\":\"5061f2e9-d4dd-4853-8052-5a75d494c916\",\"type\":\"Line\"},{\"attributes\":{\"line_alpha\":0.5,\"line_color\":\"#984ea3\",\"line_width\":1.5,\"x\":{\"field\":\"x\"},\"y\":{\"field\":\"y\"}},\"id\":\"8ae8b84d-24f9-4205-9ddf-fb84d212322b\",\"type\":\"Line\"},{\"attributes\":{\"line_alpha\":0.5,\"line_color\":\"#984ea3\",\"line_width\":1.5,\"x\":{\"field\":\"x\"},\"y\":{\"field\":\"y\"}},\"id\":\"7f4cdca1-9bcd-4f92-9ebe-be4a75ecda56\",\"type\":\"Line\"},{\"attributes\":{\"callback\":null,\"end\":0.01,\"start\":1020},\"id\":\"0a645396-fbfd-4245-889b-8f1fc0651a7e\",\"type\":\"Range1d\"},{\"attributes\":{\"line_alpha\":0.1,\"line_color\":\"#1f77b4\",\"line_width\":1.5,\"x\":{\"field\":\"x\"},\"y\":{\"field\":\"y\"}},\"id\":\"85d4f40c-f019-434c-92a4-e410e37f6f1a\",\"type\":\"Line\"},{\"attributes\":{},\"id\":\"3b3cb969-80df-4ed4-8cd5-f543594d5125\",\"type\":\"Selection\"},{\"attributes\":{\"line_color\":\"#4daf4a\",\"line_width\":1.5,\"x\":{\"field\":\"x\"},\"y\":{\"field\":\"y\"}},\"id\":\"e277c1b6-0aed-4f34-8040-415a6fbe8484\",\"type\":\"Line\"},{\"attributes\":{\"callback\":null,\"data\":{\"x\":{\"__ndarray__\":\"zhhdnl3RU0CKgDdE+dxEQP6f5duhdUFAMJBr6ewEQkAADxZQyK45QBmX3ka8EDZAjl8alnlwL0CeYJlYHKIqQJoaoQNWxSJAwL4t7BozIUBMkS56I6AXQBxPe4ld/BRAnMjiKz2HCkCJCgdQ/WcBQKJTvluRvOg/j/JpYJwB9j+fcxKIKREEQOwUvOtLFw1AV0At7oRoEkD5lECKxjYXQAdydNQ0jR1ACbyvRZLfI0CO3MmPRGApQCcUNq4qNylA6VN9h30SJECRnP+HbGofQDQKaukXmhlAteFC/mL9E0CTDffT91MQQEkVAKh1YwtAqFesCIQRBkATatBMXLz/P4fvYPUXo/Y/tDrQnFTK8T/fneFQ7xLnP14aDQuCJtc/5BrOx2LRzT+fE4V0bnvHP3ueIXamhrA/cWaxNtALrr92uqPyMJK3P6q5+U821+g/ckrZjXL49z/TaxRJZAUAQPzVLij27QFAige8XqaCAEAv4Q7keaX+P0VyKG35kv0/XHVqXZRQ/T/+RskYEAv9PwKD1IjB3fw/JBko3yJ2/D//mRCM5iX7P/btQHcr5vo/xTCcdQr9+j+f/V+tjrf6P0Wt2HvLrvo/9IV/x6br+z/bYX40veD8P8+HZwkyUvw/CkxgoI8l/D8QA+bsYB78P2eu9w7DDvw/khNJm3qS+j8vZ0xHVJ75Py0d1shscPk/NKgVKiiK+T/NNtzstIr5P4ps72zyaPc/TlSpuPUj9j9S2qZu6gj1P2XVmdu6VPQ/t/WgjjEZ9D+np734CoH0P1P4Q57qwfo/\",\"dtype\":\"float64\",\"shape\":[75]},\"y\":{\"__ndarray__\":\"hLndy31yND/6fmq8dJNIP8n9DkWBPlE/aDum7souWD/b4a/JGvVgP9f34SAhymc/ZvM4DOavcD+z0M5pFmh3PxuC4zJuaoA/xjcUPlsHhz8uHAjJAiaQP9ieWRKgppY/oI7HDFTGnz+a5h2n6EimPzS6g9iZQq8/IuAQqtTstT9SSZ2AJsK+P4nS3uALk8U/ih9j7lpCzj+ASL99HTjVP4enV8oyxN0/ACL99nXg5D9fmEwVjErtPyUGgZVDi/Q/AiuHFtnO/D9OYhBYOTQEQPHSTWIQWAxA4XoUrkfhE0D8qfHSTeIbQMh2vp8ajyNArkfhehRuK0Bcj8L1KDwzQFyPwvUo/DpAPgrXo3DtQkDNzMzMzIxKQClcj8L1eFJAKVyPwvVoWECamZmZmVleQGZmZmZmJmJAAAAAAAAgZUCamZmZmRloQJqZmZmZEWtAmpmZmZkJbkCamZmZmYFwQGZmZmZm/nFAZmZmZmZ6c0BmZmZmZvZ0QDQzMzMzc3ZAAAAAAADwd0AAAAAAAGx5QAAAAAAA6HpAzMzMzMxkfEDMzMzMzOB9QM3MzMzMXH9AzczMzMxsgEAzMzMzMyuBQDMzMzMz6YFAMzMzMzOngkCamZmZmWWDQAAAAAAAJIRAAAAAAADihEAAAAAAAKCFQGZmZmZmXoZAzczMzMwch0DNzMzMzNqHQM3MzMzMmIhAMzMzMzNXiUCamZmZmRWKQAAAAAAA1IpAAAAAAACSi0AAAAAAAFCMQGZmZmZmDo1AzczMzMzMjUDNzMzMzIqOQM3MzMzMSI9A\",\"dtype\":\"float64\",\"shape\":[75]}},\"selected\":{\"id\":\"23918dd7-5f24-4cee-909d-b4f324be419b\",\"type\":\"Selection\"},\"selection_policy\":{\"id\":\"4b858ec2-2e52-4a66-8e0c-bbbc975c9901\",\"type\":\"UnionRenderers\"}},\"id\":\"404f0928-3c80-43b5-a4f1-c821c8aa8980\",\"type\":\"ColumnDataSource\"},{\"attributes\":{},\"id\":\"65537d99-90e2-45a5-9727-404a4cfd343e\",\"type\":\"Selection\"},{\"attributes\":{\"line_alpha\":0.1,\"line_color\":\"#1f77b4\",\"line_width\":1.5,\"x\":{\"field\":\"x\"},\"y\":{\"field\":\"y\"}},\"id\":\"a5bd887c-e63f-4f2d-b72d-a78287ed4200\",\"type\":\"Line\"},{\"attributes\":{\"fill_alpha\":{\"value\":0.1},\"fill_color\":{\"value\":\"#1f77b4\"},\"line_alpha\":{\"value\":0.1},\"line_color\":{\"value\":\"#1f77b4\"},\"x\":{\"field\":\"x\"},\"y\":{\"field\":\"y\"}},\"id\":\"9d250559-9881-4d8f-8b1d-68323ee6a3f7\",\"type\":\"Circle\"},{\"attributes\":{\"line_alpha\":0.5,\"line_color\":\"#377eb8\",\"line_dash\":[6],\"line_width\":4,\"x\":{\"field\":\"x\"},\"y\":{\"field\":\"y\"}},\"id\":\"35afb576-a548-4823-9cd3-6b2c02370ad0\",\"type\":\"Line\"},{\"attributes\":{},\"id\":\"75ae57ba-6e52-43d6-bed4-07c0f61d89b9\",\"type\":\"LinearScale\"},{\"attributes\":{\"source\":{\"id\":\"f5eb1937-d176-433e-9b81-5c05f923fe85\",\"type\":\"ColumnDataSource\"}},\"id\":\"9c0746a0-bbd1-43b8-9919-25bb207c49fc\",\"type\":\"CDSView\"},{\"attributes\":{\"source\":{\"id\":\"a7772455-db37-41b3-b527-83a886ca6bc9\",\"type\":\"ColumnDataSource\"}},\"id\":\"35ff07cf-f58f-4d0d-b567-ed167dc9fba6\",\"type\":\"CDSView\"},{\"attributes\":{},\"id\":\"ec217c37-675c-454c-92c4-748df66d5bba\",\"type\":\"SaveTool\"},{\"attributes\":{\"fill_alpha\":{\"value\":0.1},\"fill_color\":{\"value\":\"#1f77b4\"},\"line_alpha\":{\"value\":0.1},\"line_color\":{\"value\":\"#1f77b4\"},\"x\":{\"field\":\"x\"},\"y\":{\"field\":\"y\"}},\"id\":\"257e5e14-2af2-40dd-a199-032e83e57434\",\"type\":\"Square\"},{\"attributes\":{\"axis_label\":\"cooling rate [K/day]\",\"formatter\":{\"id\":\"b861a698-a978-4273-936d-d16a1a55f271\",\"type\":\"BasicTickFormatter\"},\"plot\":{\"id\":\"4ac7f0fd-f0dd-4d36-bfec-4d2a7994788e\",\"subtype\":\"Figure\",\"type\":\"Plot\"},\"ticker\":{\"id\":\"b7681a31-2ec8-4c62-a098-c06b74265415\",\"type\":\"BasicTicker\"}},\"id\":\"ea127fc0-934f-4170-973f-62f853334f0f\",\"type\":\"LinearAxis\"},{\"attributes\":{},\"id\":\"1d3a6f19-ed86-4531-a33c-193ee2eb7e16\",\"type\":\"BasicTicker\"},{\"attributes\":{\"callback\":null,\"data\":{\"x\":{\"__ndarray__\":\"QEr14GpmEsDQUQomvS0TwECOLtAVRQnAyG4E7w1kFUAwCG6K07rzP2jG3ETKaAVAIDSvE8+a1D84WLw0a3bwP8B2CVgEGd6/gAEb8SXj5T+gXWifLPzZv1BIY1h4OdU/gFTeaCAF0r/AU/RFxYvAP0h4oPen7Ly/wKOQ+b0VoD/gKRbxqoK7vwA09+KM5nu/QBvKVo2Xv78AEqWWOp7Ov3BzIslj9ti/gApK0VUU37/gyd0OWm7ov0D75ws5Mua/wIc6h4XW3r+Q48y885XWvwB/tLThVLC/IP++3wZjwr+A8gVsXEm9vwDRmm/daKO/gI3nfaiUkj/AQE7cYBOdv+BkMo6PXa2/AKoyxVLtcD9A4+/aVS+Av6A9GyNwb46/cNIdfcBUiz8AHIdAy8FcP5BuzJoOMok/b2ce0np0pD8UEyzBK56QP8Beg9VHjZ+/gPKVd3D5n7+AD/jI4QOjv8DcwbQ4Uai/AG61+C87or/ASYzDVZqev2D75C8ty6C/ANT1m/xjlb9Ar8iri82Xv0BrLlVYt5W/ABSboWSMa78ghb8UGtelv0BWMP2VTZ2/AMakubnjcr+ACh1oBKqKv0CiEj/MA5G/AADjcuinMj/Ajj/XEoCaPwDwRGmfKYS/AAyIEFfOZj8AItboev6lP1AvBF6BP7c/QN1dRRBwqj9ACvj956WkP8BM5jLOU7A/kB8XOk4Itz8Ay8mloMS8P8Bl77ruFZ4/QHOrAh4hnz8g3sjPVdmmP/C+80esF7A/gAETBSmitD+gbg0US524P7C02mPse7E/\",\"dtype\":\"float64\",\"shape\":[75]},\"y\":{\"__ndarray__\":\"GhExyth1ND/Sv8nbtpRIP2vylNV0PVE/aTum7souWD/At0SJ8fVgPw3Iuahxymc/MSNhhJWvcD/bTfBN02d3P2zb5nxnaoA/CD5h5MAGhz8NmeH1TyaQP+zrCsc9p5Y/LbKd76fGnz/bLW5ISEmmPww9YvTcQq8/JV2OstnstT8Er5Y7M8G+P0c+r3jqkcU/5h99k6ZBzj88bCIzFzjVP4enV8oyxN0//yH99nXg5D8qOpLLf0jtP5kqGJXUifQ/c9cS8kHP/D+/DpwzojQEQIEmwoanVwxA4lgXt9HgE0BSSZ2AJuIbQAMJih9jjiNA5q4l5INuK0AwTKYKRj0zQNv5fmq8/DpAaCJseHrtQkB/+zpwzoxKQM3MzMzMeFJAZmZmZmZqWEAAAAAAAFxeQM3MzMzMJmJAmpmZmZkfZUBmZmZmZhhoQDMzMzMzEWtAAAAAAAAKbkBmZmZmZoFwQM3MzMzM/XFAMzMzMzN6c0CamZmZmfZ0QAAAAAAAc3ZAZmZmZmbvd0DNzMzMzGt5QDMzMzMz6HpAmpmZmZlkfEAAAAAAAOF9QGZmZmZmXX9AZmZmZuZsgECamZmZGSuBQM3MzMxM6YFAAAAAAICngkAzMzMzs2WDQGZmZmbmI4RAmpmZmRnihEDNzMzMTKCFQAAAAACAXoZAMzMzM7Mch0BmZmZm5tqHQJqZmZkZmYhAzczMzExXiUAAAAAAgBWKQDMzMzOz04pAZmZmZuaRi0CamZmZGVCMQM3MzMxMDo1AAAAAAIDMjUAzMzMzs4qOQGZmZmbmSI9A\",\"dtype\":\"float64\",\"shape\":[75]}},\"selected\":{\"id\":\"d0257ea8-07c0-400a-aaa9-00284793a9cd\",\"type\":\"Selection\"},\"selection_policy\":{\"id\":\"da51f04b-fc22-4899-bf6d-51c1e4d43aa3\",\"type\":\"UnionRenderers\"}},\"id\":\"3d85355a-33f5-45cb-b59c-fd2e1fb36f07\",\"type\":\"ColumnDataSource\"}],\"root_ids\":[\"630a1e04-185d-48cf-961b-7ddec06db424\"]},\"title\":\"Bokeh Application\",\"version\":\"0.12.16\"}};\n",
       "  var render_items = [{\"docid\":\"e0514ae7-12d2-4b5c-919f-af8db581744d\",\"elementid\":\"4194baae-4c02-448c-a8a5-acf11e6ab592\",\"modelid\":\"630a1e04-185d-48cf-961b-7ddec06db424\"}];\n",
       "  root.Bokeh.embed.embed_items_notebook(docs_json, render_items);\n",
       "\n",
       "  }\n",
       "  if (root.Bokeh !== undefined) {\n",
       "    embed_document(root);\n",
       "  } else {\n",
       "    var attempts = 0;\n",
       "    var timer = setInterval(function(root) {\n",
       "      if (root.Bokeh !== undefined) {\n",
       "        embed_document(root);\n",
       "        clearInterval(timer);\n",
       "      }\n",
       "      attempts++;\n",
       "      if (attempts > 100) {\n",
       "        console.log(\"Bokeh: ERROR: Unable to run BokehJS code because BokehJS library is missing\")\n",
       "        clearInterval(timer);\n",
       "      }\n",
       "    }, 10, root)\n",
       "  }\n",
       "})(window);"
      ],
      "application/vnd.bokehjs_exec.v0+json": ""
     },
     "metadata": {
      "application/vnd.bokehjs_exec.v0+json": {
       "id": "630a1e04-185d-48cf-961b-7ddec06db424"
      }
     },
     "output_type": "display_data"
    },
    {
     "data": {
      "text/markdown": [
       "*FIGURE.* Cooling rates & difference."
      ],
      "text/plain": [
       "<IPython.core.display.Markdown object>"
      ]
     },
     "metadata": {},
     "output_type": "display_data"
    },
    {
     "data": {
      "text/html": [
       "<a id=\"Fluxes._mls.\"></a>"
      ],
      "text/plain": [
       "<IPython.core.display.HTML object>"
      ]
     },
     "metadata": {},
     "output_type": "display_data"
    },
    {
     "data": {
      "text/markdown": [
       "# Fluxes. mls."
      ],
      "text/plain": [
       "<IPython.core.display.Markdown object>"
      ]
     },
     "metadata": {},
     "output_type": "display_data"
    },
    {
     "data": {
      "text/html": [
       "\n",
       "<div class=\"bk-root\">\n",
       "    <div class=\"bk-plotdiv\" id=\"45dbba89-cf51-4bda-a11a-26b71b9f7d04\"></div>\n",
       "</div>"
      ]
     },
     "metadata": {},
     "output_type": "display_data"
    },
    {
     "data": {
      "application/javascript": [
       "(function(root) {\n",
       "  function embed_document(root) {\n",
       "    \n",
       "  var docs_json = {\"e1304384-1dbb-4a3b-99cf-b84674268679\":{\"roots\":{\"references\":[{\"attributes\":{},\"id\":\"89fbfa9b-1c3f-4913-9e13-34cf8a86db3f\",\"type\":\"WheelZoomTool\"},{\"attributes\":{},\"id\":\"9a3925c1-9347-4096-a234-73cf7fc52c6a\",\"type\":\"LinearScale\"},{\"attributes\":{\"fill_color\":{\"value\":\"#1f77b4\"},\"line_color\":{\"value\":\"#1f77b4\"},\"top\":{\"field\":\"flux\"},\"width\":{\"value\":0.9},\"x\":{\"field\":\"band\"}},\"id\":\"7822c8ad-59ef-4e4d-ad0b-6a097e078371\",\"type\":\"VBar\"},{\"attributes\":{\"bottom_units\":\"screen\",\"fill_alpha\":{\"value\":0.5},\"fill_color\":{\"value\":\"lightgrey\"},\"left_units\":\"screen\",\"level\":\"overlay\",\"line_alpha\":{\"value\":1.0},\"line_color\":{\"value\":\"black\"},\"line_dash\":[4,4],\"line_width\":{\"value\":2},\"plot\":null,\"render_mode\":\"css\",\"right_units\":\"screen\",\"top_units\":\"screen\"},\"id\":\"684e2e01-64dd-415c-a7b4-842524dbcd7e\",\"type\":\"BoxAnnotation\"},{\"attributes\":{\"callback\":null,\"factors\":[\"1\",\"2\",\"3\",\"4\",\"5\",\"6\",\"7\",\"8\",\"9\",\"10\",\"11\"]},\"id\":\"e2dd1362-e8bb-46a6-b36b-6626e67faa75\",\"type\":\"FactorRange\"},{\"attributes\":{\"dimension\":1,\"plot\":{\"id\":\"33f05c71-574d-49da-8a70-836dbfb3564f\",\"subtype\":\"Figure\",\"type\":\"Plot\"},\"ticker\":{\"id\":\"a6c9da02-3dc9-454b-8c36-f5764b125e33\",\"type\":\"BasicTicker\"}},\"id\":\"6f4a8441-81c7-4846-b81e-de53ca06ad8b\",\"type\":\"Grid\"},{\"attributes\":{\"children\":[{\"id\":\"dd988a49-1d49-49ec-b979-9d57bb2577f1\",\"subtype\":\"Figure\",\"type\":\"Plot\"},{\"id\":\"33f05c71-574d-49da-8a70-836dbfb3564f\",\"subtype\":\"Figure\",\"type\":\"Plot\"},{\"id\":\"0eedfe20-ad38-4a60-983a-a80e6ae1d3e8\",\"subtype\":\"Figure\",\"type\":\"Plot\"}]},\"id\":\"06f41580-aea6-4956-bd75-8fdc01e662e5\",\"type\":\"Row\"},{\"attributes\":{\"axis_label\":\"flux (W m-2)\",\"formatter\":{\"id\":\"3550286b-0485-4bb5-87c2-d96c71d7322a\",\"type\":\"BasicTickFormatter\"},\"plot\":{\"id\":\"dd988a49-1d49-49ec-b979-9d57bb2577f1\",\"subtype\":\"Figure\",\"type\":\"Plot\"},\"ticker\":{\"id\":\"be3da967-f228-4ab8-9151-4af143358d67\",\"type\":\"BasicTicker\"}},\"id\":\"ba670172-5490-4678-b8cd-262c1300b895\",\"type\":\"LinearAxis\"},{\"attributes\":{\"children\":[{\"id\":\"06f41580-aea6-4956-bd75-8fdc01e662e5\",\"type\":\"Row\"}]},\"id\":\"567307de-e16b-46ef-8f07-ff2a062735b5\",\"type\":\"Column\"},{\"attributes\":{},\"id\":\"090807e8-1f8c-45b2-a447-0460ae22c486\",\"type\":\"HelpTool\"},{\"attributes\":{\"data_source\":{\"id\":\"8ea62fe4-507a-486e-8ae9-3b61fe432fd7\",\"type\":\"ColumnDataSource\"},\"glyph\":{\"id\":\"bf3d7227-1350-4c56-bc43-58525bf8a695\",\"type\":\"VBar\"},\"hover_glyph\":null,\"muted_glyph\":null,\"nonselection_glyph\":{\"id\":\"cb0a473f-e8f9-4130-957e-7a2b7cd6c52e\",\"type\":\"VBar\"},\"selection_glyph\":null,\"view\":{\"id\":\"6e4158eb-e435-4de4-9e9b-589bd4f250e1\",\"type\":\"CDSView\"}},\"id\":\"72cb3d58-8166-4302-8b21-f8a77840e8e7\",\"type\":\"GlyphRenderer\"},{\"attributes\":{},\"id\":\"215f6c01-b8df-41ad-90df-d87a70c10cf3\",\"type\":\"WheelZoomTool\"},{\"attributes\":{\"active_drag\":\"auto\",\"active_inspect\":\"auto\",\"active_scroll\":\"auto\",\"active_tap\":\"auto\",\"tools\":[{\"id\":\"b30d8116-159c-4f5d-9223-6913a4ee601a\",\"type\":\"PanTool\"},{\"id\":\"f0733fea-bab9-4480-9b0b-13f56dddb998\",\"type\":\"WheelZoomTool\"},{\"id\":\"8c8a992a-f010-497f-838e-7e24a577d62c\",\"type\":\"BoxZoomTool\"},{\"id\":\"32a8eac8-7a42-4569-8c9b-39bb82a4efb5\",\"type\":\"SaveTool\"},{\"id\":\"742fb842-df13-4e96-83dc-0089fdf27397\",\"type\":\"ResetTool\"},{\"id\":\"d8423cc3-3fae-446d-b278-1985eb537a8b\",\"type\":\"HelpTool\"}]},\"id\":\"daba7302-8cbb-48ae-a454-b402e6a0c21c\",\"type\":\"Toolbar\"},{\"attributes\":{\"plot\":{\"id\":\"0eedfe20-ad38-4a60-983a-a80e6ae1d3e8\",\"subtype\":\"Figure\",\"type\":\"Plot\"},\"ticker\":{\"id\":\"3b3a8871-ef89-4b2e-8e7d-017d8bec3698\",\"type\":\"CategoricalTicker\"}},\"id\":\"c70d7204-9f50-4657-877f-a79c36d44c65\",\"type\":\"Grid\"},{\"attributes\":{\"axis_label\":\"flux (W m-2)\",\"formatter\":{\"id\":\"1da43b75-dfb0-4d5d-9126-649317663636\",\"type\":\"BasicTickFormatter\"},\"plot\":{\"id\":\"33f05c71-574d-49da-8a70-836dbfb3564f\",\"subtype\":\"Figure\",\"type\":\"Plot\"},\"ticker\":{\"id\":\"a6c9da02-3dc9-454b-8c36-f5764b125e33\",\"type\":\"BasicTicker\"}},\"id\":\"90810853-5cc0-4264-9ba2-e4c6d14430c0\",\"type\":\"LinearAxis\"},{\"attributes\":{},\"id\":\"be3da967-f228-4ab8-9151-4af143358d67\",\"type\":\"BasicTicker\"},{\"attributes\":{},\"id\":\"55ed0005-bd36-4600-8a25-d67c405078a1\",\"type\":\"CategoricalTickFormatter\"},{\"attributes\":{\"source\":{\"id\":\"1893e8fb-44ae-4ae2-8394-c100e7138a85\",\"type\":\"ColumnDataSource\"}},\"id\":\"b7f510fd-ac9f-46f4-826a-374a1fcecc79\",\"type\":\"CDSView\"},{\"attributes\":{},\"id\":\"90349953-a1ad-4efa-9215-a26a1d141474\",\"type\":\"CategoricalTicker\"},{\"attributes\":{\"dimension\":1,\"plot\":{\"id\":\"dd988a49-1d49-49ec-b979-9d57bb2577f1\",\"subtype\":\"Figure\",\"type\":\"Plot\"},\"ticker\":{\"id\":\"be3da967-f228-4ab8-9151-4af143358d67\",\"type\":\"BasicTicker\"}},\"id\":\"d6fb1c23-1a72-4b6a-9483-596c9389598b\",\"type\":\"Grid\"},{\"attributes\":{\"callback\":null},\"id\":\"cc23648c-68e6-48b3-99eb-4f7ce7462ea8\",\"type\":\"DataRange1d\"},{\"attributes\":{\"callback\":null,\"factors\":[\"1\",\"2\",\"3\",\"4\",\"5\",\"6\",\"7\",\"8\",\"9\",\"10\",\"11\"]},\"id\":\"52ef8c5a-9387-4c6c-bb8e-af26df9d2c99\",\"type\":\"FactorRange\"},{\"attributes\":{\"fill_color\":{\"value\":\"#1f77b4\"},\"line_color\":{\"value\":\"#1f77b4\"},\"top\":{\"field\":\"flux\"},\"width\":{\"value\":0.9},\"x\":{\"field\":\"band\"}},\"id\":\"17406c5d-6a71-4fae-a1fc-7d00265508f6\",\"type\":\"VBar\"},{\"attributes\":{},\"id\":\"8830d6a2-043d-458c-b86a-d3aa1e437913\",\"type\":\"ResetTool\"},{\"attributes\":{},\"id\":\"075ca7fc-ba03-45e5-b294-e8b2a89f3352\",\"type\":\"SaveTool\"},{\"attributes\":{\"plot\":{\"id\":\"dd988a49-1d49-49ec-b979-9d57bb2577f1\",\"subtype\":\"Figure\",\"type\":\"Plot\"},\"ticker\":{\"id\":\"688a5194-806c-4250-8bd0-db1d14c8a72b\",\"type\":\"CategoricalTicker\"}},\"id\":\"3bfbf39b-fda6-4440-86d3-87c55275c5e0\",\"type\":\"Grid\"},{\"attributes\":{},\"id\":\"a6c9da02-3dc9-454b-8c36-f5764b125e33\",\"type\":\"BasicTicker\"},{\"attributes\":{\"plot\":{\"id\":\"33f05c71-574d-49da-8a70-836dbfb3564f\",\"subtype\":\"Figure\",\"type\":\"Plot\"},\"ticker\":{\"id\":\"90349953-a1ad-4efa-9215-a26a1d141474\",\"type\":\"CategoricalTicker\"}},\"id\":\"015183dd-cf0a-4dd2-80eb-f51793a4b29c\",\"type\":\"Grid\"},{\"attributes\":{\"fill_alpha\":{\"value\":0.1},\"fill_color\":{\"value\":\"#1f77b4\"},\"line_alpha\":{\"value\":0.1},\"line_color\":{\"value\":\"#1f77b4\"},\"top\":{\"field\":\"flux\"},\"width\":{\"value\":0.9},\"x\":{\"field\":\"band\"}},\"id\":\"28979e23-535f-47e4-993d-2f6c3857612a\",\"type\":\"VBar\"},{\"attributes\":{\"plot\":null,\"text\":\"Atmosphere heating. CLIRAD (single-run) - CRD.\"},\"id\":\"66a44b94-f007-4de5-a588-96e259df9d62\",\"type\":\"Title\"},{\"attributes\":{\"fill_alpha\":{\"value\":0.1},\"fill_color\":{\"value\":\"#1f77b4\"},\"line_alpha\":{\"value\":0.1},\"line_color\":{\"value\":\"#1f77b4\"},\"top\":{\"field\":\"flux\"},\"width\":{\"value\":0.9},\"x\":{\"field\":\"band\"}},\"id\":\"47c95338-ee30-437b-b2ec-e2c87cb85713\",\"type\":\"VBar\"},{\"attributes\":{},\"id\":\"ba9bcf00-01b9-4d17-ae61-d865dc69fd2b\",\"type\":\"CategoricalScale\"},{\"attributes\":{},\"id\":\"e5d509c6-4ae9-4251-95fc-30d9ccf9d5fc\",\"type\":\"BasicTickFormatter\"},{\"attributes\":{\"axis_label\":\"flux (W m-2)\",\"formatter\":{\"id\":\"e5d509c6-4ae9-4251-95fc-30d9ccf9d5fc\",\"type\":\"BasicTickFormatter\"},\"plot\":{\"id\":\"0eedfe20-ad38-4a60-983a-a80e6ae1d3e8\",\"subtype\":\"Figure\",\"type\":\"Plot\"},\"ticker\":{\"id\":\"e5d6dc8f-fe03-4043-870e-b76d1d74f4f8\",\"type\":\"BasicTicker\"}},\"id\":\"60258f47-7502-43ec-b2ff-94f56d158e08\",\"type\":\"LinearAxis\"},{\"attributes\":{\"source\":{\"id\":\"c4aa0501-e7d7-46c8-b223-b5df4a3f94e5\",\"type\":\"ColumnDataSource\"}},\"id\":\"1a2bcc8e-6e84-49a4-9d60-21f83d1c44c8\",\"type\":\"CDSView\"},{\"attributes\":{},\"id\":\"3ed2f3e2-1b46-4e95-8788-2441e66173b0\",\"type\":\"SaveTool\"},{\"attributes\":{},\"id\":\"29dd66eb-73bb-4b32-ac46-78fff5102e87\",\"type\":\"PanTool\"},{\"attributes\":{\"dimension\":1,\"plot\":{\"id\":\"0eedfe20-ad38-4a60-983a-a80e6ae1d3e8\",\"subtype\":\"Figure\",\"type\":\"Plot\"},\"ticker\":{\"id\":\"e5d6dc8f-fe03-4043-870e-b76d1d74f4f8\",\"type\":\"BasicTicker\"}},\"id\":\"e5cbe633-4216-4ccc-8e5b-354ec354f5a6\",\"type\":\"Grid\"},{\"attributes\":{},\"id\":\"70ce0728-68ca-40eb-8827-7a4d753d08a5\",\"type\":\"UnionRenderers\"},{\"attributes\":{\"tools\":[{\"id\":\"29dd66eb-73bb-4b32-ac46-78fff5102e87\",\"type\":\"PanTool\"},{\"id\":\"89fbfa9b-1c3f-4913-9e13-34cf8a86db3f\",\"type\":\"WheelZoomTool\"},{\"id\":\"3d425169-f103-4022-9f81-b63593a23f0c\",\"type\":\"BoxZoomTool\"},{\"id\":\"3ed2f3e2-1b46-4e95-8788-2441e66173b0\",\"type\":\"SaveTool\"},{\"id\":\"8830d6a2-043d-458c-b86a-d3aa1e437913\",\"type\":\"ResetTool\"},{\"id\":\"090807e8-1f8c-45b2-a447-0460ae22c486\",\"type\":\"HelpTool\"},{\"id\":\"b30d8116-159c-4f5d-9223-6913a4ee601a\",\"type\":\"PanTool\"},{\"id\":\"f0733fea-bab9-4480-9b0b-13f56dddb998\",\"type\":\"WheelZoomTool\"},{\"id\":\"8c8a992a-f010-497f-838e-7e24a577d62c\",\"type\":\"BoxZoomTool\"},{\"id\":\"32a8eac8-7a42-4569-8c9b-39bb82a4efb5\",\"type\":\"SaveTool\"},{\"id\":\"742fb842-df13-4e96-83dc-0089fdf27397\",\"type\":\"ResetTool\"},{\"id\":\"d8423cc3-3fae-446d-b278-1985eb537a8b\",\"type\":\"HelpTool\"},{\"id\":\"610fdc35-2ded-44a8-ae2e-4f0d239e05cd\",\"type\":\"PanTool\"},{\"id\":\"215f6c01-b8df-41ad-90df-d87a70c10cf3\",\"type\":\"WheelZoomTool\"},{\"id\":\"1115529b-e499-4f7e-9565-a807d712e556\",\"type\":\"BoxZoomTool\"},{\"id\":\"075ca7fc-ba03-45e5-b294-e8b2a89f3352\",\"type\":\"SaveTool\"},{\"id\":\"4cb8f8ec-f084-4bd5-aeb9-9a49d24a2ab1\",\"type\":\"ResetTool\"},{\"id\":\"e3b44e8e-dbb7-4701-a15d-e1776d8992f7\",\"type\":\"HelpTool\"}]},\"id\":\"38b2c61f-eb4c-47b8-a74c-15bede3a1104\",\"type\":\"ProxyToolbar\"},{\"attributes\":{\"overlay\":{\"id\":\"27303b85-603c-482e-9e34-4917f4ccad89\",\"type\":\"BoxAnnotation\"}},\"id\":\"1115529b-e499-4f7e-9565-a807d712e556\",\"type\":\"BoxZoomTool\"},{\"attributes\":{},\"id\":\"e5d6dc8f-fe03-4043-870e-b76d1d74f4f8\",\"type\":\"BasicTicker\"},{\"attributes\":{\"fill_alpha\":{\"value\":0.1},\"fill_color\":{\"value\":\"#1f77b4\"},\"line_alpha\":{\"value\":0.1},\"line_color\":{\"value\":\"#1f77b4\"},\"top\":{\"field\":\"flux\"},\"width\":{\"value\":0.9},\"x\":{\"field\":\"band\"}},\"id\":\"cb0a473f-e8f9-4130-957e-7a2b7cd6c52e\",\"type\":\"VBar\"},{\"attributes\":{},\"id\":\"38393f9d-7d23-45ed-bb9c-b9440749b75e\",\"type\":\"CategoricalScale\"},{\"attributes\":{},\"id\":\"fa7dc0a2-fd1e-41ac-88dd-af7556f12f5d\",\"type\":\"LinearScale\"},{\"attributes\":{\"data_source\":{\"id\":\"1893e8fb-44ae-4ae2-8394-c100e7138a85\",\"type\":\"ColumnDataSource\"},\"glyph\":{\"id\":\"17406c5d-6a71-4fae-a1fc-7d00265508f6\",\"type\":\"VBar\"},\"hover_glyph\":null,\"muted_glyph\":null,\"nonselection_glyph\":{\"id\":\"47c95338-ee30-437b-b2ec-e2c87cb85713\",\"type\":\"VBar\"},\"selection_glyph\":null,\"view\":{\"id\":\"b7f510fd-ac9f-46f4-826a-374a1fcecc79\",\"type\":\"CDSView\"}},\"id\":\"8b2ce6ed-9bb3-46b0-9139-e609f0177d15\",\"type\":\"GlyphRenderer\"},{\"attributes\":{\"axis_label\":\"spectral band\",\"formatter\":{\"id\":\"55ed0005-bd36-4600-8a25-d67c405078a1\",\"type\":\"CategoricalTickFormatter\"},\"plot\":{\"id\":\"0eedfe20-ad38-4a60-983a-a80e6ae1d3e8\",\"subtype\":\"Figure\",\"type\":\"Plot\"},\"ticker\":{\"id\":\"3b3a8871-ef89-4b2e-8e7d-017d8bec3698\",\"type\":\"CategoricalTicker\"}},\"id\":\"8c273fa9-d1ec-440e-81c8-76730ca5fbde\",\"type\":\"CategoricalAxis\"},{\"attributes\":{\"axis_label\":\"spectral band\",\"formatter\":{\"id\":\"ce6d8db2-0018-4ffb-ac90-fee84e5886e7\",\"type\":\"CategoricalTickFormatter\"},\"plot\":{\"id\":\"dd988a49-1d49-49ec-b979-9d57bb2577f1\",\"subtype\":\"Figure\",\"type\":\"Plot\"},\"ticker\":{\"id\":\"688a5194-806c-4250-8bd0-db1d14c8a72b\",\"type\":\"CategoricalTicker\"}},\"id\":\"3da8a46e-8cef-4a05-9923-b7d785f5f093\",\"type\":\"CategoricalAxis\"},{\"attributes\":{},\"id\":\"3b3a8871-ef89-4b2e-8e7d-017d8bec3698\",\"type\":\"CategoricalTicker\"},{\"attributes\":{\"fill_color\":{\"value\":\"#1f77b4\"},\"line_color\":{\"value\":\"#1f77b4\"},\"top\":{\"field\":\"flux\"},\"width\":{\"value\":0.9},\"x\":{\"field\":\"band\"}},\"id\":\"bf3d7227-1350-4c56-bc43-58525bf8a695\",\"type\":\"VBar\"},{\"attributes\":{\"axis_label\":\"spectral band\",\"formatter\":{\"id\":\"0a9c9b3c-b93c-45f4-a6fd-a417b24ae847\",\"type\":\"CategoricalTickFormatter\"},\"plot\":{\"id\":\"33f05c71-574d-49da-8a70-836dbfb3564f\",\"subtype\":\"Figure\",\"type\":\"Plot\"},\"ticker\":{\"id\":\"90349953-a1ad-4efa-9215-a26a1d141474\",\"type\":\"CategoricalTicker\"}},\"id\":\"850790e8-a453-4813-8553-7a06592b40f4\",\"type\":\"CategoricalAxis\"},{\"attributes\":{\"data_source\":{\"id\":\"c4aa0501-e7d7-46c8-b223-b5df4a3f94e5\",\"type\":\"ColumnDataSource\"},\"glyph\":{\"id\":\"7822c8ad-59ef-4e4d-ad0b-6a097e078371\",\"type\":\"VBar\"},\"hover_glyph\":null,\"muted_glyph\":null,\"nonselection_glyph\":{\"id\":\"28979e23-535f-47e4-993d-2f6c3857612a\",\"type\":\"VBar\"},\"selection_glyph\":null,\"view\":{\"id\":\"1a2bcc8e-6e84-49a4-9d60-21f83d1c44c8\",\"type\":\"CDSView\"}},\"id\":\"bd9d880f-4b84-438e-81cf-469798c66b45\",\"type\":\"GlyphRenderer\"},{\"attributes\":{\"callback\":null},\"id\":\"2019f0a1-393e-4611-85bf-c4c525d3fd11\",\"type\":\"DataRange1d\"},{\"attributes\":{\"active_drag\":\"auto\",\"active_inspect\":\"auto\",\"active_scroll\":\"auto\",\"active_tap\":\"auto\",\"tools\":[{\"id\":\"610fdc35-2ded-44a8-ae2e-4f0d239e05cd\",\"type\":\"PanTool\"},{\"id\":\"215f6c01-b8df-41ad-90df-d87a70c10cf3\",\"type\":\"WheelZoomTool\"},{\"id\":\"1115529b-e499-4f7e-9565-a807d712e556\",\"type\":\"BoxZoomTool\"},{\"id\":\"075ca7fc-ba03-45e5-b294-e8b2a89f3352\",\"type\":\"SaveTool\"},{\"id\":\"4cb8f8ec-f084-4bd5-aeb9-9a49d24a2ab1\",\"type\":\"ResetTool\"},{\"id\":\"e3b44e8e-dbb7-4701-a15d-e1776d8992f7\",\"type\":\"HelpTool\"}]},\"id\":\"24f8cc2e-2269-4724-a1e1-bd7c7bd4ee06\",\"type\":\"Toolbar\"},{\"attributes\":{\"callback\":null,\"data\":{\"band\":[\"1\",\"2\",\"3\",\"4\",\"5\",\"6\",\"7\",\"8\",\"9\",\"10\",\"11\"],\"flux\":{\"__ndarray__\":\"AEILCRhdyD+AzEHQ0arSP4APCkrRytO/QL3EWKZf0z8AelORCmPQPwBUa2EW2rG/ABjPoKF/2D8ASdv4E5W5vwDgfyvZsZG/YNQ5UPHJwD9A78EQ3sOwPw==\",\"dtype\":\"float64\",\"shape\":[11]}},\"selected\":{\"id\":\"685f6114-1238-4fe3-aaf3-8d92c9b5b1df\",\"type\":\"Selection\"},\"selection_policy\":{\"id\":\"8f6946aa-53da-4f56-b939-42b262af8fb3\",\"type\":\"UnionRenderers\"}},\"id\":\"1893e8fb-44ae-4ae2-8394-c100e7138a85\",\"type\":\"ColumnDataSource\"},{\"attributes\":{\"callback\":null,\"data\":{\"band\":[\"1\",\"2\",\"3\",\"4\",\"5\",\"6\",\"7\",\"8\",\"9\",\"10\",\"11\"],\"flux\":{\"__ndarray__\":\"AIMde81dyD8AYEI3wVi1vwDYAox4/Ii/gF6tJMO7zj/APGNfsvHOvwAAiSZQxMK/gIzWUdUE1z8A5hw8E5qkP8AoB7MJMMi/QL8FwBXcvT+AeTwtP3CtPw==\",\"dtype\":\"float64\",\"shape\":[11]}},\"selected\":{\"id\":\"8a049baf-748c-48c9-a69b-937ba17cd02d\",\"type\":\"Selection\"},\"selection_policy\":{\"id\":\"70ce0728-68ca-40eb-8827-7a4d753d08a5\",\"type\":\"UnionRenderers\"}},\"id\":\"c4aa0501-e7d7-46c8-b223-b5df4a3f94e5\",\"type\":\"ColumnDataSource\"},{\"attributes\":{\"below\":[{\"id\":\"8c273fa9-d1ec-440e-81c8-76730ca5fbde\",\"type\":\"CategoricalAxis\"}],\"left\":[{\"id\":\"60258f47-7502-43ec-b2ff-94f56d158e08\",\"type\":\"LinearAxis\"}],\"plot_height\":300,\"plot_width\":300,\"renderers\":[{\"id\":\"8c273fa9-d1ec-440e-81c8-76730ca5fbde\",\"type\":\"CategoricalAxis\"},{\"id\":\"c70d7204-9f50-4657-877f-a79c36d44c65\",\"type\":\"Grid\"},{\"id\":\"60258f47-7502-43ec-b2ff-94f56d158e08\",\"type\":\"LinearAxis\"},{\"id\":\"e5cbe633-4216-4ccc-8e5b-354ec354f5a6\",\"type\":\"Grid\"},{\"id\":\"27303b85-603c-482e-9e34-4917f4ccad89\",\"type\":\"BoxAnnotation\"},{\"id\":\"bd9d880f-4b84-438e-81cf-469798c66b45\",\"type\":\"GlyphRenderer\"}],\"title\":{\"id\":\"66a44b94-f007-4de5-a588-96e259df9d62\",\"type\":\"Title\"},\"toolbar\":{\"id\":\"24f8cc2e-2269-4724-a1e1-bd7c7bd4ee06\",\"type\":\"Toolbar\"},\"toolbar_location\":null,\"x_range\":{\"id\":\"e2dd1362-e8bb-46a6-b36b-6626e67faa75\",\"type\":\"FactorRange\"},\"x_scale\":{\"id\":\"38393f9d-7d23-45ed-bb9c-b9440749b75e\",\"type\":\"CategoricalScale\"},\"y_range\":{\"id\":\"2019f0a1-393e-4611-85bf-c4c525d3fd11\",\"type\":\"DataRange1d\"},\"y_scale\":{\"id\":\"fa7dc0a2-fd1e-41ac-88dd-af7556f12f5d\",\"type\":\"LinearScale\"}},\"id\":\"0eedfe20-ad38-4a60-983a-a80e6ae1d3e8\",\"subtype\":\"Figure\",\"type\":\"Plot\"},{\"attributes\":{},\"id\":\"688a5194-806c-4250-8bd0-db1d14c8a72b\",\"type\":\"CategoricalTicker\"},{\"attributes\":{\"overlay\":{\"id\":\"684e2e01-64dd-415c-a7b4-842524dbcd7e\",\"type\":\"BoxAnnotation\"}},\"id\":\"3d425169-f103-4022-9f81-b63593a23f0c\",\"type\":\"BoxZoomTool\"},{\"attributes\":{},\"id\":\"610fdc35-2ded-44a8-ae2e-4f0d239e05cd\",\"type\":\"PanTool\"},{\"attributes\":{\"source\":{\"id\":\"8ea62fe4-507a-486e-8ae9-3b61fe432fd7\",\"type\":\"ColumnDataSource\"}},\"id\":\"6e4158eb-e435-4de4-9e9b-589bd4f250e1\",\"type\":\"CDSView\"},{\"attributes\":{\"bottom_units\":\"screen\",\"fill_alpha\":{\"value\":0.5},\"fill_color\":{\"value\":\"lightgrey\"},\"left_units\":\"screen\",\"level\":\"overlay\",\"line_alpha\":{\"value\":1.0},\"line_color\":{\"value\":\"black\"},\"line_dash\":[4,4],\"line_width\":{\"value\":2},\"plot\":null,\"render_mode\":\"css\",\"right_units\":\"screen\",\"top_units\":\"screen\"},\"id\":\"27303b85-603c-482e-9e34-4917f4ccad89\",\"type\":\"BoxAnnotation\"},{\"attributes\":{\"active_drag\":\"auto\",\"active_inspect\":\"auto\",\"active_scroll\":\"auto\",\"active_tap\":\"auto\",\"tools\":[{\"id\":\"29dd66eb-73bb-4b32-ac46-78fff5102e87\",\"type\":\"PanTool\"},{\"id\":\"89fbfa9b-1c3f-4913-9e13-34cf8a86db3f\",\"type\":\"WheelZoomTool\"},{\"id\":\"3d425169-f103-4022-9f81-b63593a23f0c\",\"type\":\"BoxZoomTool\"},{\"id\":\"3ed2f3e2-1b46-4e95-8788-2441e66173b0\",\"type\":\"SaveTool\"},{\"id\":\"8830d6a2-043d-458c-b86a-d3aa1e437913\",\"type\":\"ResetTool\"},{\"id\":\"090807e8-1f8c-45b2-a447-0460ae22c486\",\"type\":\"HelpTool\"}]},\"id\":\"e21acbc1-c5a1-4395-99fc-ce0181ff100d\",\"type\":\"Toolbar\"},{\"attributes\":{},\"id\":\"742fb842-df13-4e96-83dc-0089fdf27397\",\"type\":\"ResetTool\"},{\"attributes\":{\"bottom_units\":\"screen\",\"fill_alpha\":{\"value\":0.5},\"fill_color\":{\"value\":\"lightgrey\"},\"left_units\":\"screen\",\"level\":\"overlay\",\"line_alpha\":{\"value\":1.0},\"line_color\":{\"value\":\"black\"},\"line_dash\":[4,4],\"line_width\":{\"value\":2},\"plot\":null,\"render_mode\":\"css\",\"right_units\":\"screen\",\"top_units\":\"screen\"},\"id\":\"357409d7-cb90-4c29-98a7-823106785955\",\"type\":\"BoxAnnotation\"},{\"attributes\":{},\"id\":\"957c844f-fc89-46a1-831e-c17e9449cef1\",\"type\":\"LinearScale\"},{\"attributes\":{},\"id\":\"4cb8f8ec-f084-4bd5-aeb9-9a49d24a2ab1\",\"type\":\"ResetTool\"},{\"attributes\":{},\"id\":\"685f6114-1238-4fe3-aaf3-8d92c9b5b1df\",\"type\":\"Selection\"},{\"attributes\":{\"plot\":null,\"text\":\"TOA flux. CLIRAD (single-run) - CRD.\"},\"id\":\"44b49d14-185a-4743-8f7a-cd1922891ce7\",\"type\":\"Title\"},{\"attributes\":{},\"id\":\"8f6946aa-53da-4f56-b939-42b262af8fb3\",\"type\":\"UnionRenderers\"},{\"attributes\":{\"toolbar\":{\"id\":\"38b2c61f-eb4c-47b8-a74c-15bede3a1104\",\"type\":\"ProxyToolbar\"},\"toolbar_location\":\"above\"},\"id\":\"5a10494e-47fc-4f1b-b11e-542466b04f9c\",\"type\":\"ToolbarBox\"},{\"attributes\":{\"callback\":null,\"factors\":[\"1\",\"2\",\"3\",\"4\",\"5\",\"6\",\"7\",\"8\",\"9\",\"10\",\"11\"]},\"id\":\"8d0f4d0a-5522-4f9e-8acb-afbbb49cca07\",\"type\":\"FactorRange\"},{\"attributes\":{},\"id\":\"706b2875-8040-4f39-9686-cddaa306f834\",\"type\":\"Selection\"},{\"attributes\":{\"overlay\":{\"id\":\"357409d7-cb90-4c29-98a7-823106785955\",\"type\":\"BoxAnnotation\"}},\"id\":\"8c8a992a-f010-497f-838e-7e24a577d62c\",\"type\":\"BoxZoomTool\"},{\"attributes\":{},\"id\":\"b30d8116-159c-4f5d-9223-6913a4ee601a\",\"type\":\"PanTool\"},{\"attributes\":{},\"id\":\"3550286b-0485-4bb5-87c2-d96c71d7322a\",\"type\":\"BasicTickFormatter\"},{\"attributes\":{},\"id\":\"8a049baf-748c-48c9-a69b-937ba17cd02d\",\"type\":\"Selection\"},{\"attributes\":{},\"id\":\"aa31a2b7-58ae-4aea-9bc4-a5ff6b544753\",\"type\":\"CategoricalScale\"},{\"attributes\":{},\"id\":\"e3b44e8e-dbb7-4701-a15d-e1776d8992f7\",\"type\":\"HelpTool\"},{\"attributes\":{},\"id\":\"32a8eac8-7a42-4569-8c9b-39bb82a4efb5\",\"type\":\"SaveTool\"},{\"attributes\":{\"below\":[{\"id\":\"850790e8-a453-4813-8553-7a06592b40f4\",\"type\":\"CategoricalAxis\"}],\"left\":[{\"id\":\"90810853-5cc0-4264-9ba2-e4c6d14430c0\",\"type\":\"LinearAxis\"}],\"plot_height\":300,\"plot_width\":300,\"renderers\":[{\"id\":\"850790e8-a453-4813-8553-7a06592b40f4\",\"type\":\"CategoricalAxis\"},{\"id\":\"015183dd-cf0a-4dd2-80eb-f51793a4b29c\",\"type\":\"Grid\"},{\"id\":\"90810853-5cc0-4264-9ba2-e4c6d14430c0\",\"type\":\"LinearAxis\"},{\"id\":\"6f4a8441-81c7-4846-b81e-de53ca06ad8b\",\"type\":\"Grid\"},{\"id\":\"357409d7-cb90-4c29-98a7-823106785955\",\"type\":\"BoxAnnotation\"},{\"id\":\"72cb3d58-8166-4302-8b21-f8a77840e8e7\",\"type\":\"GlyphRenderer\"}],\"title\":{\"id\":\"64c97130-0917-4413-bf87-232818f0868a\",\"type\":\"Title\"},\"toolbar\":{\"id\":\"daba7302-8cbb-48ae-a454-b402e6a0c21c\",\"type\":\"Toolbar\"},\"toolbar_location\":null,\"x_range\":{\"id\":\"52ef8c5a-9387-4c6c-bb8e-af26df9d2c99\",\"type\":\"FactorRange\"},\"x_scale\":{\"id\":\"ba9bcf00-01b9-4d17-ae61-d865dc69fd2b\",\"type\":\"CategoricalScale\"},\"y_range\":{\"id\":\"cc23648c-68e6-48b3-99eb-4f7ce7462ea8\",\"type\":\"DataRange1d\"},\"y_scale\":{\"id\":\"9a3925c1-9347-4096-a234-73cf7fc52c6a\",\"type\":\"LinearScale\"}},\"id\":\"33f05c71-574d-49da-8a70-836dbfb3564f\",\"subtype\":\"Figure\",\"type\":\"Plot\"},{\"attributes\":{},\"id\":\"1da43b75-dfb0-4d5d-9126-649317663636\",\"type\":\"BasicTickFormatter\"},{\"attributes\":{\"callback\":null},\"id\":\"2052d3c9-e9a5-4831-8435-0535fa045f89\",\"type\":\"DataRange1d\"},{\"attributes\":{\"below\":[{\"id\":\"3da8a46e-8cef-4a05-9923-b7d785f5f093\",\"type\":\"CategoricalAxis\"}],\"left\":[{\"id\":\"ba670172-5490-4678-b8cd-262c1300b895\",\"type\":\"LinearAxis\"}],\"plot_height\":300,\"plot_width\":300,\"renderers\":[{\"id\":\"3da8a46e-8cef-4a05-9923-b7d785f5f093\",\"type\":\"CategoricalAxis\"},{\"id\":\"3bfbf39b-fda6-4440-86d3-87c55275c5e0\",\"type\":\"Grid\"},{\"id\":\"ba670172-5490-4678-b8cd-262c1300b895\",\"type\":\"LinearAxis\"},{\"id\":\"d6fb1c23-1a72-4b6a-9483-596c9389598b\",\"type\":\"Grid\"},{\"id\":\"684e2e01-64dd-415c-a7b4-842524dbcd7e\",\"type\":\"BoxAnnotation\"},{\"id\":\"8b2ce6ed-9bb3-46b0-9139-e609f0177d15\",\"type\":\"GlyphRenderer\"}],\"title\":{\"id\":\"44b49d14-185a-4743-8f7a-cd1922891ce7\",\"type\":\"Title\"},\"toolbar\":{\"id\":\"e21acbc1-c5a1-4395-99fc-ce0181ff100d\",\"type\":\"Toolbar\"},\"toolbar_location\":null,\"x_range\":{\"id\":\"8d0f4d0a-5522-4f9e-8acb-afbbb49cca07\",\"type\":\"FactorRange\"},\"x_scale\":{\"id\":\"aa31a2b7-58ae-4aea-9bc4-a5ff6b544753\",\"type\":\"CategoricalScale\"},\"y_range\":{\"id\":\"2052d3c9-e9a5-4831-8435-0535fa045f89\",\"type\":\"DataRange1d\"},\"y_scale\":{\"id\":\"957c844f-fc89-46a1-831e-c17e9449cef1\",\"type\":\"LinearScale\"}},\"id\":\"dd988a49-1d49-49ec-b979-9d57bb2577f1\",\"subtype\":\"Figure\",\"type\":\"Plot\"},{\"attributes\":{},\"id\":\"d8423cc3-3fae-446d-b278-1985eb537a8b\",\"type\":\"HelpTool\"},{\"attributes\":{},\"id\":\"7f60b6ef-fa73-4bd0-86dd-1357040fe548\",\"type\":\"UnionRenderers\"},{\"attributes\":{},\"id\":\"0a9c9b3c-b93c-45f4-a6fd-a417b24ae847\",\"type\":\"CategoricalTickFormatter\"},{\"attributes\":{\"children\":[{\"id\":\"5a10494e-47fc-4f1b-b11e-542466b04f9c\",\"type\":\"ToolbarBox\"},{\"id\":\"567307de-e16b-46ef-8f07-ff2a062735b5\",\"type\":\"Column\"}]},\"id\":\"d0f590e9-6696-4fe9-99de-a1060d3e10ab\",\"type\":\"Column\"},{\"attributes\":{},\"id\":\"f0733fea-bab9-4480-9b0b-13f56dddb998\",\"type\":\"WheelZoomTool\"},{\"attributes\":{},\"id\":\"ce6d8db2-0018-4ffb-ac90-fee84e5886e7\",\"type\":\"CategoricalTickFormatter\"},{\"attributes\":{\"callback\":null,\"data\":{\"band\":[\"1\",\"2\",\"3\",\"4\",\"5\",\"6\",\"7\",\"8\",\"9\",\"10\",\"11\"],\"flux\":{\"__ndarray__\":\"AAAAAyUF9r4AgsR29wDYPwCfjzLiAtO/AFBWDFcHsD8AYMsr19vfPwDchqzJrrM/AEwuIXqtlz9gN3gVCPHBvwBuhhvw+cU/AKBF71TAjT8ArDGNy12APw==\",\"dtype\":\"float64\",\"shape\":[11]}},\"selected\":{\"id\":\"706b2875-8040-4f39-9686-cddaa306f834\",\"type\":\"Selection\"},\"selection_policy\":{\"id\":\"7f60b6ef-fa73-4bd0-86dd-1357040fe548\",\"type\":\"UnionRenderers\"}},\"id\":\"8ea62fe4-507a-486e-8ae9-3b61fe432fd7\",\"type\":\"ColumnDataSource\"},{\"attributes\":{\"plot\":null,\"text\":\"SFC flux. CLIRAD (single-run) - CRD.\"},\"id\":\"64c97130-0917-4413-bf87-232818f0868a\",\"type\":\"Title\"}],\"root_ids\":[\"d0f590e9-6696-4fe9-99de-a1060d3e10ab\"]},\"title\":\"Bokeh Application\",\"version\":\"0.12.16\"}};\n",
       "  var render_items = [{\"docid\":\"e1304384-1dbb-4a3b-99cf-b84674268679\",\"elementid\":\"45dbba89-cf51-4bda-a11a-26b71b9f7d04\",\"modelid\":\"d0f590e9-6696-4fe9-99de-a1060d3e10ab\"}];\n",
       "  root.Bokeh.embed.embed_items_notebook(docs_json, render_items);\n",
       "\n",
       "  }\n",
       "  if (root.Bokeh !== undefined) {\n",
       "    embed_document(root);\n",
       "  } else {\n",
       "    var attempts = 0;\n",
       "    var timer = setInterval(function(root) {\n",
       "      if (root.Bokeh !== undefined) {\n",
       "        embed_document(root);\n",
       "        clearInterval(timer);\n",
       "      }\n",
       "      attempts++;\n",
       "      if (attempts > 100) {\n",
       "        console.log(\"Bokeh: ERROR: Unable to run BokehJS code because BokehJS library is missing\")\n",
       "        clearInterval(timer);\n",
       "      }\n",
       "    }, 10, root)\n",
       "  }\n",
       "})(window);"
      ],
      "application/vnd.bokehjs_exec.v0+json": ""
     },
     "metadata": {
      "application/vnd.bokehjs_exec.v0+json": {
       "id": "d0f590e9-6696-4fe9-99de-a1060d3e10ab"
      }
     },
     "output_type": "display_data"
    },
    {
     "data": {
      "text/markdown": [
       "*FIGURE.* Difference between CLIRAD and CRD in TOA, SFC and net atmosphere flux, in each spectral band."
      ],
      "text/plain": [
       "<IPython.core.display.Markdown object>"
      ]
     },
     "metadata": {},
     "output_type": "display_data"
    },
    {
     "data": {
      "text/html": [
       "<div>\n",
       "<style scoped>\n",
       "    .dataframe tbody tr th:only-of-type {\n",
       "        vertical-align: middle;\n",
       "    }\n",
       "\n",
       "    .dataframe tbody tr th {\n",
       "        vertical-align: top;\n",
       "    }\n",
       "\n",
       "    .dataframe thead th {\n",
       "        text-align: right;\n",
       "    }\n",
       "</style>\n",
       "<table border=\"1\" class=\"dataframe\">\n",
       "  <thead>\n",
       "    <tr style=\"text-align: right;\">\n",
       "      <th></th>\n",
       "      <th>OLR flux</th>\n",
       "      <th>SFC flux</th>\n",
       "      <th>ATM heating</th>\n",
       "    </tr>\n",
       "    <tr>\n",
       "      <th>Sum over bands</th>\n",
       "      <th></th>\n",
       "      <th></th>\n",
       "      <th></th>\n",
       "    </tr>\n",
       "  </thead>\n",
       "  <tbody>\n",
       "    <tr>\n",
       "      <th>old CLIRAD - CRD</th>\n",
       "      <td>0.09</td>\n",
       "      <td>1.54</td>\n",
       "      <td>-1.31</td>\n",
       "    </tr>\n",
       "    <tr>\n",
       "      <th>CLIRAD (single-run) - CRD</th>\n",
       "      <td>1.12</td>\n",
       "      <td>0.79</td>\n",
       "      <td>0.33</td>\n",
       "    </tr>\n",
       "    <tr>\n",
       "      <th>CRD</th>\n",
       "      <td>-290.39</td>\n",
       "      <td>308.14</td>\n",
       "      <td>-174.89</td>\n",
       "    </tr>\n",
       "  </tbody>\n",
       "</table>\n",
       "</div>"
      ],
      "text/plain": [
       "                           OLR flux  SFC flux  ATM heating\n",
       "Sum over bands                                            \n",
       "old CLIRAD - CRD               0.09      1.54        -1.31\n",
       "CLIRAD (single-run) - CRD      1.12      0.79         0.33\n",
       "CRD                         -290.39    308.14      -174.89"
      ]
     },
     "metadata": {},
     "output_type": "display_data"
    },
    {
     "data": {
      "text/markdown": [
       "*TABLE.* Difference between CLIRAD and CRD in TOA, SFC and net atmosphere flux, over all spectral bands. CRD's TOA, SFC and net atmosphere flux, over all spectral bands."
      ],
      "text/plain": [
       "<IPython.core.display.Markdown object>"
      ]
     },
     "metadata": {},
     "output_type": "display_data"
    },
    {
     "data": {
      "text/html": [
       "<a id=\"Cooling_rates._saw.\"></a>"
      ],
      "text/plain": [
       "<IPython.core.display.HTML object>"
      ]
     },
     "metadata": {},
     "output_type": "display_data"
    },
    {
     "data": {
      "text/markdown": [
       "# Cooling rates. saw."
      ],
      "text/plain": [
       "<IPython.core.display.Markdown object>"
      ]
     },
     "metadata": {},
     "output_type": "display_data"
    },
    {
     "data": {
      "text/html": [
       "\n",
       "<div class=\"bk-root\">\n",
       "    <div class=\"bk-plotdiv\" id=\"cf712279-6648-4971-8b68-696d57161600\"></div>\n",
       "</div>"
      ]
     },
     "metadata": {},
     "output_type": "display_data"
    },
    {
     "data": {
      "application/javascript": [
       "(function(root) {\n",
       "  function embed_document(root) {\n",
       "    \n",
       "  var docs_json = {\"b4b8124d-00c1-47bc-8515-ed127d3a468d\":{\"roots\":{\"references\":[{\"attributes\":{\"callback\":null,\"end\":0.01,\"start\":1020},\"id\":\"88e313aa-0e2b-4c5b-a5c5-cdac9fb60b30\",\"type\":\"Range1d\"},{\"attributes\":{\"callback\":null,\"data\":{\"x\":{\"__ndarray__\":\"/3gEEI2UQEB0c9Dyc4w8QD4Snx5gWT5AFZGcg+DzPkDYuZ5UNgY+QOQFUWxaiTtAJ8DHxwLZN0CaDBxtwNEzQHB3T1JOgDBAqgJPUzdBLUAe/HRqAFAsQFSv4d6I2CxANirWFRW2LUCUHZfp5zstQOmztrvKoCpAP9+BL/hHJ0AOuwcTjXUkQH9IUrXU0CJAw/AV2NWiIkADs+SX97kjQBnUSknZKCZAob123iaqJUC4+jy7qSYhQET39BNTYRlA8h7eZutmE0DRGDGap7MPQNFp3YuZvQpAbUJm/ObPBUCXEVqHsCYCQKiqyakxdP8/TACEl5IJ/T+x36gvONj4P/WeSfiLL/Q/Ne11Qx4f8T9KO/snl8XuPwAFjDANXOw/ECia+rR+5z/5xrZqtSrhP87q9DpG090/BhYs5hIw3T8TpNj1dqrePxgwooWPUd4/oFDDMBzn3D+hGPElCWPaPxcG4a4W8tI/SPcufN8E0T+Jx6v2fkPcP6Ojb0QSwOM/zctF4t2z6z9opHhLdyvyP4FPJXk/b/U/u1x3mN2T9z9xG3Lf+XH4P5hGdwrobvg/Vn3mdk49+D9YubJsL+/3P7/luSDMffc/5EORdUbl9j8uE9yIYjP2P7kamugzgPU/QlxJFNm49D8sS/Y7lOnzPzVsLhNSEvM/nKsN3cpI8j/zk0wAFaHxP6Zz65TTLvE/Fg7ZiLQN8T8jxFOXpVDxP4PdzMKAqPE/RD1PzBJe8T9HiM/2GIfvP1JwtsmBh+o/vb6j/cCS5T/xD0UD5EPhP++YhMum7NY/\",\"dtype\":\"float64\",\"shape\":[75]},\"y\":{\"__ndarray__\":\"GhExyth1ND/Sv8nbtpRIP2vylNV0PVE/aTum7souWD/At0SJ8fVgPw3Iuahxymc/MSNhhJWvcD/bTfBN02d3P2zb5nxnaoA/CD5h5MAGhz8NmeH1TyaQP+zrCsc9p5Y/LbKd76fGnz/bLW5ISEmmPww9YvTcQq8/JV2OstnstT8Er5Y7M8G+P0c+r3jqkcU/5h99k6ZBzj88bCIzFzjVP4enV8oyxN0//yH99nXg5D8qOpLLf0jtP5kqGJXUifQ/c9cS8kHP/D+/DpwzojQEQIEmwoanVwxA4lgXt9HgE0BSSZ2AJuIbQAMJih9jjiNA5q4l5INuK0AwTKYKRj0zQNv5fmq8/DpAaCJseHrtQkB/+zpwzoxKQM3MzMzMeFJAZmZmZmZqWEAAAAAAAFxeQM3MzMzMJmJAmpmZmZkfZUBmZmZmZhhoQDMzMzMzEWtAAAAAAAAKbkBmZmZmZoFwQM3MzMzM/XFAMzMzMzN6c0CamZmZmfZ0QAAAAAAAc3ZAZmZmZmbvd0DNzMzMzGt5QDMzMzMz6HpAmpmZmZlkfEAAAAAAAOF9QGZmZmZmXX9AZmZmZuZsgECamZmZGSuBQM3MzMxM6YFAAAAAAICngkAzMzMzs2WDQGZmZmbmI4RAmpmZmRnihEDNzMzMTKCFQAAAAACAXoZAMzMzM7Mch0BmZmZm5tqHQJqZmZkZmYhAzczMzExXiUAAAAAAgBWKQDMzMzOz04pAZmZmZuaRi0CamZmZGVCMQM3MzMxMDo1AAAAAAIDMjUAzMzMzs4qOQGZmZmbmSI9A\",\"dtype\":\"float64\",\"shape\":[75]}},\"selected\":{\"id\":\"d14bb230-562f-4216-a61b-c49e4ead4775\",\"type\":\"Selection\"},\"selection_policy\":{\"id\":\"283a1db9-091f-4899-bcd6-69c37c2e7227\",\"type\":\"UnionRenderers\"}},\"id\":\"d36cc9e4-baea-440d-a7e6-2237ae244597\",\"type\":\"ColumnDataSource\"},{\"attributes\":{\"line_color\":\"#4daf4a\",\"line_width\":1.5,\"x\":{\"field\":\"x\"},\"y\":{\"field\":\"y\"}},\"id\":\"9e184d40-a325-4a9c-b0ec-8c68a150ad3c\",\"type\":\"Line\"},{\"attributes\":{\"plot\":{\"id\":\"cf7ccf62-439a-4f41-9cf9-85d797ad1060\",\"subtype\":\"Figure\",\"type\":\"Plot\"},\"ticker\":{\"id\":\"354f7424-1229-4b0f-b745-466f8efa20de\",\"type\":\"BasicTicker\"}},\"id\":\"bb6cb04f-fae6-437c-8840-989d4523e79e\",\"type\":\"Grid\"},{\"attributes\":{\"active_drag\":\"auto\",\"active_inspect\":\"auto\",\"active_scroll\":\"auto\",\"active_tap\":\"auto\",\"tools\":[{\"id\":\"2d6697b4-7521-45c3-a02c-3cbae5d45ca7\",\"type\":\"PanTool\"},{\"id\":\"dfef7173-8c0d-4186-86ca-6da756a4669e\",\"type\":\"WheelZoomTool\"},{\"id\":\"5037ce23-efcc-4095-be44-8cc3791ea8c1\",\"type\":\"BoxZoomTool\"},{\"id\":\"6b2f81d6-14c3-457d-8900-8b3011edb4ad\",\"type\":\"SaveTool\"},{\"id\":\"be6653c8-e0a4-421c-b7bc-296efe32d488\",\"type\":\"ResetTool\"},{\"id\":\"47622934-17b9-46b4-ae6d-3207cb1b5a01\",\"type\":\"HelpTool\"}]},\"id\":\"23a30b6e-4867-4844-9577-f76cd22d069d\",\"type\":\"Toolbar\"},{\"attributes\":{\"line_alpha\":0.1,\"line_color\":\"#1f77b4\",\"line_width\":1.5,\"x\":{\"field\":\"x\"},\"y\":{\"field\":\"y\"}},\"id\":\"7656c782-8b0c-4286-91c3-8a7c55ebbea2\",\"type\":\"Line\"},{\"attributes\":{\"data_source\":{\"id\":\"abc85c08-b7a5-4702-b463-9a522571b734\",\"type\":\"ColumnDataSource\"},\"glyph\":{\"id\":\"9e184d40-a325-4a9c-b0ec-8c68a150ad3c\",\"type\":\"Line\"},\"hover_glyph\":null,\"muted_glyph\":null,\"nonselection_glyph\":{\"id\":\"7656c782-8b0c-4286-91c3-8a7c55ebbea2\",\"type\":\"Line\"},\"selection_glyph\":null,\"view\":{\"id\":\"11b2bb29-4739-4935-a1ac-cdd56a5c834f\",\"type\":\"CDSView\"}},\"id\":\"6a9fcd4e-e88b-4459-b06a-659bded89b55\",\"type\":\"GlyphRenderer\"},{\"attributes\":{\"axis_label\":\"pressure [mb]\",\"formatter\":{\"id\":\"c3a9372b-1220-4a43-b565-8a61fbbad5cf\",\"type\":\"BasicTickFormatter\"},\"plot\":{\"id\":\"cf7ccf62-439a-4f41-9cf9-85d797ad1060\",\"subtype\":\"Figure\",\"type\":\"Plot\"},\"ticker\":{\"id\":\"8212d523-9ee0-4f9e-940e-8d9c3ab18384\",\"type\":\"BasicTicker\"}},\"id\":\"26bcb553-e897-4954-97b4-dc29e2cb9614\",\"type\":\"LinearAxis\"},{\"attributes\":{\"line_alpha\":0.1,\"line_color\":\"#1f77b4\",\"line_dash\":[6],\"line_width\":5,\"x\":{\"field\":\"x\"},\"y\":{\"field\":\"y\"}},\"id\":\"47b0630e-ba68-410b-8007-7effeec335cb\",\"type\":\"Line\"},{\"attributes\":{\"data_source\":{\"id\":\"c1bd7e84-0b2c-4f7c-a32f-a1e230aaad1e\",\"type\":\"ColumnDataSource\"},\"glyph\":{\"id\":\"f1ae5d93-0cce-40a6-9140-639e148e152c\",\"type\":\"Circle\"},\"hover_glyph\":null,\"muted_glyph\":null,\"nonselection_glyph\":{\"id\":\"17c093a4-ad6c-4f7b-946c-233905be9ea7\",\"type\":\"Circle\"},\"selection_glyph\":null,\"view\":{\"id\":\"f3c824d8-7444-4984-9754-9817c323cea6\",\"type\":\"CDSView\"}},\"id\":\"395d2788-2a35-45a9-8ea0-8655bb89fafc\",\"type\":\"GlyphRenderer\"},{\"attributes\":{},\"id\":\"b210609d-1d31-4764-863d-d88c53725b5f\",\"type\":\"ResetTool\"},{\"attributes\":{\"line_alpha\":0.1,\"line_color\":\"#1f77b4\",\"line_width\":1.5,\"x\":{\"field\":\"x\"},\"y\":{\"field\":\"y\"}},\"id\":\"a5174110-b6d3-40c6-bd2f-98f3f324bfbc\",\"type\":\"Line\"},{\"attributes\":{\"source\":{\"id\":\"b7df16b2-3861-4aac-b48b-997ef1a51c2f\",\"type\":\"ColumnDataSource\"}},\"id\":\"9748a739-164a-42d6-b1b1-cf600a7529c9\",\"type\":\"CDSView\"},{\"attributes\":{},\"id\":\"1bf018e3-aa67-4562-a9d9-5c9d33d85466\",\"type\":\"LinearScale\"},{\"attributes\":{\"line_alpha\":0.1,\"line_color\":\"#1f77b4\",\"line_dash\":[6],\"line_width\":5,\"x\":{\"field\":\"x\"},\"y\":{\"field\":\"y\"}},\"id\":\"3d5eb088-96a0-40d9-b40f-38788b632f42\",\"type\":\"Line\"},{\"attributes\":{\"fill_alpha\":{\"value\":0.7},\"fill_color\":{\"value\":\"#984ea3\"},\"line_alpha\":{\"value\":0.7},\"line_color\":{\"value\":\"#984ea3\"},\"x\":{\"field\":\"x\"},\"y\":{\"field\":\"y\"}},\"id\":\"d54373b3-8b10-450e-b2a1-abcc389981c0\",\"type\":\"Circle\"},{\"attributes\":{\"source\":{\"id\":\"c1bd7e84-0b2c-4f7c-a32f-a1e230aaad1e\",\"type\":\"ColumnDataSource\"}},\"id\":\"f3c824d8-7444-4984-9754-9817c323cea6\",\"type\":\"CDSView\"},{\"attributes\":{\"fill_alpha\":{\"value\":0.1},\"fill_color\":{\"value\":\"#1f77b4\"},\"line_alpha\":{\"value\":0.1},\"line_color\":{\"value\":\"#1f77b4\"},\"x\":{\"field\":\"x\"},\"y\":{\"field\":\"y\"}},\"id\":\"9af8bc7b-f6c5-449f-ab0a-167463fb7dc3\",\"type\":\"Circle\"},{\"attributes\":{\"items\":[{\"id\":\"7d502f42-2354-4598-9c38-7037ee5cbfee\",\"type\":\"LegendItem\"},{\"id\":\"9d4c2256-31cc-4ed2-be02-fae6c1e24814\",\"type\":\"LegendItem\"}],\"label_text_font_size\":{\"value\":\"8pt\"},\"location\":\"top_center\",\"orientation\":\"horizontal\",\"plot\":{\"id\":\"cf7ccf62-439a-4f41-9cf9-85d797ad1060\",\"subtype\":\"Figure\",\"type\":\"Plot\"}},\"id\":\"3ce0afca-7e5c-4287-9f5e-20178e8a5527\",\"type\":\"Legend\"},{\"attributes\":{},\"id\":\"8ef8328c-3ebc-4819-b029-6fcd63a8e600\",\"type\":\"LinearScale\"},{\"attributes\":{\"fill_alpha\":{\"value\":0.1},\"fill_color\":{\"value\":\"#1f77b4\"},\"line_alpha\":{\"value\":0.1},\"line_color\":{\"value\":\"#1f77b4\"},\"x\":{\"field\":\"x\"},\"y\":{\"field\":\"y\"}},\"id\":\"22d2fa88-ac12-4261-adbe-4afa20cdf18e\",\"type\":\"Circle\"},{\"attributes\":{},\"id\":\"9ab86119-3b7a-4fd8-9356-6b8de3494bf5\",\"type\":\"Selection\"},{\"attributes\":{},\"id\":\"2b709caf-7648-43c3-a6da-542fe1d30ab1\",\"type\":\"SaveTool\"},{\"attributes\":{\"bottom_units\":\"screen\",\"fill_alpha\":{\"value\":0.5},\"fill_color\":{\"value\":\"lightgrey\"},\"left_units\":\"screen\",\"level\":\"overlay\",\"line_alpha\":{\"value\":1.0},\"line_color\":{\"value\":\"black\"},\"line_dash\":[4,4],\"line_width\":{\"value\":2},\"plot\":null,\"render_mode\":\"css\",\"right_units\":\"screen\",\"top_units\":\"screen\"},\"id\":\"3080f326-65fa-4e61-87d3-f9228b6bed8a\",\"type\":\"BoxAnnotation\"},{\"attributes\":{\"fill_alpha\":{\"value\":0.7},\"fill_color\":{\"value\":\"#4daf4a\"},\"line_alpha\":{\"value\":0.7},\"line_color\":{\"value\":\"#4daf4a\"},\"x\":{\"field\":\"x\"},\"y\":{\"field\":\"y\"}},\"id\":\"f1ae5d93-0cce-40a6-9140-639e148e152c\",\"type\":\"Circle\"},{\"attributes\":{\"callback\":null,\"data\":{\"x\":{\"__ndarray__\":\"pNT9013fQ8BHz6Iz9/wYwNfDDIW8sQPAIkyto68I8j+fIJf5rJMLQIecTPoI1Q9As/64BN/IBkBfIBLYVzbrP1R1ZGKwoO2/pE6pZhVs+r+osA5Z1ST0v5zMboda9dS/aQlVtjiW4D9MTnJyudXuP2yVG7UQ9uw/6REl5gwA2T+4fJqAcenQv5ajHl5rZeW/7sOmS6l75b/2lhpJkZPavw7zXwS2EcK/3f/kdxDJsT9k2KERVRbBPyUpAn1TG7q/7g8mKJN+zb9FgCij7lWhv4gzQaeHVdE/WMHzFuLt0T9TeyfymSq8P7AvC9G1h6A/vwXXyq89xD8cQniFsRLNP745xZhH08A/0hEfW7UEd7/IKTaMEXtnP0nW/cfESbM/DkTNaoE7qD/N3nEaaa+Yv7um0ov4pLO/he/mYXkGtr+HVx9QYaiyv5xE/bRWu6y/aqqSYaN/pb+PUyUyAV6av25yAVtXsJC/OcCXjW7vhb9A2QhwvYE/v54IJNXclHS/tPE6gehUm78zgJIAgp+qv3kclLp0gKq/TPHqBtXAor9a2amW41mjv4wVTc5azKq/Xw/2OvWRqr8pUTsitFylv6rZtGXHpZ+/NbnWCpZLmL/lcb2lUKGTv7/yG9AZ64m/Ca4eY27/g7/icKU3kHCBv8NLYSkEToS/fmhAqhFUhr9CsNoEMTOEv9bxCalABXq/oBYSwYokOb+8C9d3gpx/Py0I7qXI2Is/1DVQdrnckj9GKGc80l+WPytVWvOhE5g/5YIg7/Vvlz/qZawMW1mXP64D8pGCWpY/\",\"dtype\":\"float64\",\"shape\":[75]},\"y\":{\"__ndarray__\":\"GhExyth1ND/Sv8nbtpRIP2vylNV0PVE/aTum7souWD/At0SJ8fVgPw3Iuahxymc/MSNhhJWvcD/bTfBN02d3P2zb5nxnaoA/CD5h5MAGhz8NmeH1TyaQP+zrCsc9p5Y/LbKd76fGnz/bLW5ISEmmPww9YvTcQq8/JV2OstnstT8Er5Y7M8G+P0c+r3jqkcU/5h99k6ZBzj88bCIzFzjVP4enV8oyxN0//yH99nXg5D8qOpLLf0jtP5kqGJXUifQ/c9cS8kHP/D+/DpwzojQEQIEmwoanVwxA4lgXt9HgE0BSSZ2AJuIbQAMJih9jjiNA5q4l5INuK0AwTKYKRj0zQNv5fmq8/DpAaCJseHrtQkB/+zpwzoxKQM3MzMzMeFJAZmZmZmZqWEAAAAAAAFxeQM3MzMzMJmJAmpmZmZkfZUBmZmZmZhhoQDMzMzMzEWtAAAAAAAAKbkBmZmZmZoFwQM3MzMzM/XFAMzMzMzN6c0CamZmZmfZ0QAAAAAAAc3ZAZmZmZmbvd0DNzMzMzGt5QDMzMzMz6HpAmpmZmZlkfEAAAAAAAOF9QGZmZmZmXX9AZmZmZuZsgECamZmZGSuBQM3MzMxM6YFAAAAAAICngkAzMzMzs2WDQGZmZmbmI4RAmpmZmRnihEDNzMzMTKCFQAAAAACAXoZAMzMzM7Mch0BmZmZm5tqHQJqZmZkZmYhAzczMzExXiUAAAAAAgBWKQDMzMzOz04pAZmZmZuaRi0CamZmZGVCMQM3MzMxMDo1AAAAAAIDMjUAzMzMzs4qOQGZmZmbmSI9A\",\"dtype\":\"float64\",\"shape\":[75]}},\"selected\":{\"id\":\"4c48135a-1a73-43b3-942f-424edcfbfccd\",\"type\":\"Selection\"},\"selection_policy\":{\"id\":\"0dab02bf-ca9f-4747-b7fe-c5ea5a459c96\",\"type\":\"UnionRenderers\"}},\"id\":\"d021b584-74ca-4638-8376-6e62aa2eab91\",\"type\":\"ColumnDataSource\"},{\"attributes\":{\"callback\":null,\"data\":{\"x\":{\"__ndarray__\":\"0CYBcvU5UkCik9zf2GVBQF1VoNfLZ0BAVLxhiVXTPUDD1Wu1wJM6QFJyB025jjdAU6Aw5+b/NECYe1uuDfgyQB6bYtVTbTFAPxYSAF1HMEA00pYVm9QuQLolHbMzgC1AntlwirGsLECv+G9SjE4rQJH6ZLBp0ShAsLZQyPd/JkDyjgyf2PwkQLgyNGsrJyRAA13QbJD6I0C8hy0ilI4kQOVTXCEgcSZAovOGvZSGJUBVc/ZmUOIgQOf/6GHAyRlAcE8fAOBSFEDRur1U//gPQGFD9ZbokghAQsqHuSqSA0C91ci3W0UBQCtRQfvz7/4/kh8pntyB+j9t1/n+4TX1P773MAUjFfI/RgzR+CI28T8hBW8WHK7uPzVKjJfU8uk/0FPt4/z65T/wVYqzMPDhPz7K9C5CXuE/8+hSn9hY4T/9PPCkR6rhP1XsIC599OA/66X1nBCX3z/YbRM56QjcPz4dkSQc/dM/S7Wb8Fq00T+/yQdmX0vcP7TrGf476eM/WqNPJoWO7D9qOH1bcwDzP2bw+R5DQ/Y/RLSuQOQp+D8+aif8yAz5P0Wv6eBKRfk/0i2+IN4R+T/ik8QNFZr4PyS5UD5j/Pc/yJ68zXRG9z/2CHPL54H2P59SOhwKtPU/npkP8dfg9D8NlmVcdQz0P80ugRvuOvM/byxiAHN18j9USVZie8nxP5l9lNXYSPE/OB+F0UYP8T8Y7dsUCTHxP3EBgTHPcPE/bfx15p8S8T8FT+xkGtTuP6mdG7rkxuk/pboqTkHX5D/CrN8qGYngP7R4ZaL+htU/\",\"dtype\":\"float64\",\"shape\":[75]},\"y\":{\"__ndarray__\":\"GhExyth1ND/Sv8nbtpRIP2vylNV0PVE/aTum7souWD/At0SJ8fVgPw3Iuahxymc/MSNhhJWvcD/bTfBN02d3P2zb5nxnaoA/CD5h5MAGhz8NmeH1TyaQP+zrCsc9p5Y/LbKd76fGnz/bLW5ISEmmPww9YvTcQq8/JV2OstnstT8Er5Y7M8G+P0c+r3jqkcU/5h99k6ZBzj88bCIzFzjVP4enV8oyxN0//yH99nXg5D8qOpLLf0jtP5kqGJXUifQ/c9cS8kHP/D+/DpwzojQEQIEmwoanVwxA4lgXt9HgE0BSSZ2AJuIbQAMJih9jjiNA5q4l5INuK0AwTKYKRj0zQNv5fmq8/DpAaCJseHrtQkB/+zpwzoxKQM3MzMzMeFJAZmZmZmZqWEAAAAAAAFxeQM3MzMzMJmJAmpmZmZkfZUBmZmZmZhhoQDMzMzMzEWtAAAAAAAAKbkBmZmZmZoFwQM3MzMzM/XFAMzMzMzN6c0CamZmZmfZ0QAAAAAAAc3ZAZmZmZmbvd0DNzMzMzGt5QDMzMzMz6HpAmpmZmZlkfEAAAAAAAOF9QGZmZmZmXX9AZmZmZuZsgECamZmZGSuBQM3MzMxM6YFAAAAAAICngkAzMzMzs2WDQGZmZmbmI4RAmpmZmRnihEDNzMzMTKCFQAAAAACAXoZAMzMzM7Mch0BmZmZm5tqHQJqZmZkZmYhAzczMzExXiUAAAAAAgBWKQDMzMzOz04pAZmZmZuaRi0CamZmZGVCMQM3MzMxMDo1AAAAAAIDMjUAzMzMzs4qOQGZmZmbmSI9A\",\"dtype\":\"float64\",\"shape\":[75]}},\"selected\":{\"id\":\"815f4e13-f3e2-4092-b177-9f4831924d8f\",\"type\":\"Selection\"},\"selection_policy\":{\"id\":\"e89ed248-04dd-4dff-99f4-dcc7c62fc55d\",\"type\":\"UnionRenderers\"}},\"id\":\"43394989-79aa-4e80-a450-fb93d928ff51\",\"type\":\"ColumnDataSource\"},{\"attributes\":{},\"id\":\"26d73213-ecbe-4295-b6d5-ac3a88927243\",\"type\":\"WheelZoomTool\"},{\"attributes\":{\"above\":[{\"id\":\"3ce0afca-7e5c-4287-9f5e-20178e8a5527\",\"type\":\"Legend\"}],\"below\":[{\"id\":\"c9795dd8-957b-4ccd-a10c-358b2659d8e5\",\"type\":\"LinearAxis\"}],\"left\":[{\"id\":\"26bcb553-e897-4954-97b4-dc29e2cb9614\",\"type\":\"LinearAxis\"}],\"plot_width\":300,\"renderers\":[{\"id\":\"c9795dd8-957b-4ccd-a10c-358b2659d8e5\",\"type\":\"LinearAxis\"},{\"id\":\"bb6cb04f-fae6-437c-8840-989d4523e79e\",\"type\":\"Grid\"},{\"id\":\"26bcb553-e897-4954-97b4-dc29e2cb9614\",\"type\":\"LinearAxis\"},{\"id\":\"b69ecda4-9895-4ed7-9157-e0cf4edf9f56\",\"type\":\"Grid\"},{\"id\":\"ccff8a8c-9dc4-4d10-bcd1-975c34f7f916\",\"type\":\"BoxAnnotation\"},{\"id\":\"8a074eb0-759b-45b0-a68d-b08cf642475a\",\"type\":\"GlyphRenderer\"},{\"id\":\"6b39b744-9e73-47f2-af14-baaae0520696\",\"type\":\"GlyphRenderer\"},{\"id\":\"6a9fcd4e-e88b-4459-b06a-659bded89b55\",\"type\":\"GlyphRenderer\"},{\"id\":\"3ce0afca-7e5c-4287-9f5e-20178e8a5527\",\"type\":\"Legend\"}],\"title\":{\"id\":\"e6c7333c-912c-4d6f-8e44-c7d829309d2b\",\"type\":\"Title\"},\"toolbar\":{\"id\":\"23a30b6e-4867-4844-9577-f76cd22d069d\",\"type\":\"Toolbar\"},\"toolbar_location\":null,\"x_range\":{\"id\":\"dae28907-f82e-4739-b477-8a3ba904f422\",\"type\":\"Range1d\"},\"x_scale\":{\"id\":\"b78f78fd-d934-4c5b-a0ee-5274034824f3\",\"type\":\"LinearScale\"},\"y_range\":{\"id\":\"6d12a2ec-0688-48e4-999f-651aeff07cb8\",\"type\":\"Range1d\"},\"y_scale\":{\"id\":\"1bf018e3-aa67-4562-a9d9-5c9d33d85466\",\"type\":\"LinearScale\"}},\"id\":\"cf7ccf62-439a-4f41-9cf9-85d797ad1060\",\"subtype\":\"Figure\",\"type\":\"Plot\"},{\"attributes\":{\"fill_alpha\":{\"value\":0.1},\"fill_color\":{\"value\":\"#1f77b4\"},\"line_alpha\":{\"value\":0.1},\"line_color\":{\"value\":\"#1f77b4\"},\"x\":{\"field\":\"x\"},\"y\":{\"field\":\"y\"}},\"id\":\"17c093a4-ad6c-4f7b-946c-233905be9ea7\",\"type\":\"Circle\"},{\"attributes\":{},\"id\":\"354f7424-1229-4b0f-b745-466f8efa20de\",\"type\":\"BasicTicker\"},{\"attributes\":{},\"id\":\"1c70c9bc-2b0c-4c1c-bd4a-dc50163a01ec\",\"type\":\"PanTool\"},{\"attributes\":{},\"id\":\"9f237659-8eb4-4704-8ee6-5fc02db1197c\",\"type\":\"ResetTool\"},{\"attributes\":{\"callback\":null,\"end\":0.01,\"start\":1020},\"id\":\"6d12a2ec-0688-48e4-999f-651aeff07cb8\",\"type\":\"Range1d\"},{\"attributes\":{\"line_color\":\"#4daf4a\",\"line_width\":1.5,\"x\":{\"field\":\"x\"},\"y\":{\"field\":\"y\"}},\"id\":\"483377cc-1fcd-4052-9582-177e5626ddbf\",\"type\":\"Line\"},{\"attributes\":{},\"id\":\"8212d523-9ee0-4f9e-940e-8d9c3ab18384\",\"type\":\"BasicTicker\"},{\"attributes\":{\"data_source\":{\"id\":\"b7df16b2-3861-4aac-b48b-997ef1a51c2f\",\"type\":\"ColumnDataSource\"},\"glyph\":{\"id\":\"d54373b3-8b10-450e-b2a1-abcc389981c0\",\"type\":\"Circle\"},\"hover_glyph\":null,\"muted_glyph\":null,\"nonselection_glyph\":{\"id\":\"9af8bc7b-f6c5-449f-ab0a-167463fb7dc3\",\"type\":\"Circle\"},\"selection_glyph\":null,\"view\":{\"id\":\"9748a739-164a-42d6-b1b1-cf600a7529c9\",\"type\":\"CDSView\"}},\"id\":\"7aa0a9ea-9cae-43d2-a7ac-fe3e1c1b5d42\",\"type\":\"GlyphRenderer\"},{\"attributes\":{\"source\":{\"id\":\"d36cc9e4-baea-440d-a7e6-2237ae244597\",\"type\":\"ColumnDataSource\"}},\"id\":\"b30191bf-75bf-4603-9fce-489c6913e48a\",\"type\":\"CDSView\"},{\"attributes\":{},\"id\":\"09323ad7-088c-4d90-af0a-d9a84b63565a\",\"type\":\"HelpTool\"},{\"attributes\":{\"bottom_units\":\"screen\",\"fill_alpha\":{\"value\":0.5},\"fill_color\":{\"value\":\"lightgrey\"},\"left_units\":\"screen\",\"level\":\"overlay\",\"line_alpha\":{\"value\":1.0},\"line_color\":{\"value\":\"black\"},\"line_dash\":[4,4],\"line_width\":{\"value\":2},\"plot\":null,\"render_mode\":\"css\",\"right_units\":\"screen\",\"top_units\":\"screen\"},\"id\":\"ccff8a8c-9dc4-4d10-bcd1-975c34f7f916\",\"type\":\"BoxAnnotation\"},{\"attributes\":{},\"id\":\"c1ee972c-e85d-453d-85d3-c9a21af4c9f7\",\"type\":\"Selection\"},{\"attributes\":{\"callback\":null,\"end\":0.01,\"start\":1020},\"id\":\"9742a020-a394-47fd-ba04-5dae5977e4ac\",\"type\":\"Range1d\"},{\"attributes\":{\"source\":{\"id\":\"46ff3999-66b9-4bf0-9384-a23ab1272270\",\"type\":\"ColumnDataSource\"}},\"id\":\"9f33644f-05b5-4c02-b192-33495a6b9e0f\",\"type\":\"CDSView\"},{\"attributes\":{\"source\":{\"id\":\"43394989-79aa-4e80-a450-fb93d928ff51\",\"type\":\"ColumnDataSource\"}},\"id\":\"5891294f-75d5-4686-9f32-ff85768ff746\",\"type\":\"CDSView\"},{\"attributes\":{\"bottom_units\":\"screen\",\"fill_alpha\":{\"value\":0.5},\"fill_color\":{\"value\":\"lightgrey\"},\"left_units\":\"screen\",\"level\":\"overlay\",\"line_alpha\":{\"value\":1.0},\"line_color\":{\"value\":\"black\"},\"line_dash\":[4,4],\"line_width\":{\"value\":2},\"plot\":null,\"render_mode\":\"css\",\"right_units\":\"screen\",\"top_units\":\"screen\"},\"id\":\"ea2d21b0-664a-476d-bd57-7c964be0ba56\",\"type\":\"BoxAnnotation\"},{\"attributes\":{\"axis_label\":\"cooling rate [K/day]\",\"formatter\":{\"id\":\"433bcd55-6717-4342-b8f2-a1f7bf6fca24\",\"type\":\"BasicTickFormatter\"},\"plot\":{\"id\":\"cf7ccf62-439a-4f41-9cf9-85d797ad1060\",\"subtype\":\"Figure\",\"type\":\"Plot\"},\"ticker\":{\"id\":\"354f7424-1229-4b0f-b745-466f8efa20de\",\"type\":\"BasicTicker\"}},\"id\":\"c9795dd8-957b-4ccd-a10c-358b2659d8e5\",\"type\":\"LinearAxis\"},{\"attributes\":{\"overlay\":{\"id\":\"3080f326-65fa-4e61-87d3-f9228b6bed8a\",\"type\":\"BoxAnnotation\"}},\"id\":\"60eb039b-9585-4571-8ccd-06d98c91a49a\",\"type\":\"BoxZoomTool\"},{\"attributes\":{\"data_source\":{\"id\":\"43394989-79aa-4e80-a450-fb93d928ff51\",\"type\":\"ColumnDataSource\"},\"glyph\":{\"id\":\"483377cc-1fcd-4052-9582-177e5626ddbf\",\"type\":\"Line\"},\"hover_glyph\":null,\"muted_glyph\":null,\"nonselection_glyph\":{\"id\":\"a5174110-b6d3-40c6-bd2f-98f3f324bfbc\",\"type\":\"Line\"},\"selection_glyph\":null,\"view\":{\"id\":\"5891294f-75d5-4686-9f32-ff85768ff746\",\"type\":\"CDSView\"}},\"id\":\"311c4bcb-6798-461d-9b85-b2d4877cb123\",\"type\":\"GlyphRenderer\"},{\"attributes\":{},\"id\":\"47622934-17b9-46b4-ae6d-3207cb1b5a01\",\"type\":\"HelpTool\"},{\"attributes\":{},\"id\":\"d862e687-b164-41bb-b126-39415b4a487c\",\"type\":\"LogScale\"},{\"attributes\":{\"label\":{\"value\":\"CLIRAD (single-run)\"},\"renderers\":[{\"id\":\"2d1c6fd9-2aaf-4fa5-a142-0a44c3249280\",\"type\":\"GlyphRenderer\"}]},\"id\":\"1f7d86cc-5dce-4563-8c8a-ca62ed511291\",\"type\":\"LegendItem\"},{\"attributes\":{},\"id\":\"efdb1a0d-5cdd-4dd7-a1ae-152836b0ebac\",\"type\":\"HelpTool\"},{\"attributes\":{\"data_source\":{\"id\":\"d36cc9e4-baea-440d-a7e6-2237ae244597\",\"type\":\"ColumnDataSource\"},\"glyph\":{\"id\":\"6e40b86d-f983-4ac5-9d14-75edfab64717\",\"type\":\"Line\"},\"hover_glyph\":null,\"muted_glyph\":null,\"nonselection_glyph\":{\"id\":\"3d5eb088-96a0-40d9-b40f-38788b632f42\",\"type\":\"Line\"},\"selection_glyph\":null,\"view\":{\"id\":\"b30191bf-75bf-4603-9fce-489c6913e48a\",\"type\":\"CDSView\"}},\"id\":\"8a074eb0-759b-45b0-a68d-b08cf642475a\",\"type\":\"GlyphRenderer\"},{\"attributes\":{\"callback\":null,\"data\":{\"x\":{\"__ndarray__\":\"0CYBcvU5UkCik9zf2GVBQF1VoNfLZ0BAVLxhiVXTPUDD1Wu1wJM6QFJyB025jjdAU6Aw5+b/NECYe1uuDfgyQB6bYtVTbTFAPxYSAF1HMEA00pYVm9QuQLolHbMzgC1AntlwirGsLECv+G9SjE4rQJH6ZLBp0ShAsLZQyPd/JkDyjgyf2PwkQLgyNGsrJyRAA13QbJD6I0C8hy0ilI4kQOVTXCEgcSZAovOGvZSGJUBVc/ZmUOIgQOf/6GHAyRlAcE8fAOBSFEDRur1U//gPQGFD9ZbokghAQsqHuSqSA0C91ci3W0UBQCtRQfvz7/4/kh8pntyB+j9t1/n+4TX1P773MAUjFfI/RgzR+CI28T8hBW8WHK7uPzVKjJfU8uk/0FPt4/z65T/wVYqzMPDhPz7K9C5CXuE/8+hSn9hY4T/9PPCkR6rhP1XsIC599OA/66X1nBCX3z/YbRM56QjcPz4dkSQc/dM/S7Wb8Fq00T+/yQdmX0vcP7TrGf476eM/WqNPJoWO7D9qOH1bcwDzP2bw+R5DQ/Y/RLSuQOQp+D8+aif8yAz5P0Wv6eBKRfk/0i2+IN4R+T/ik8QNFZr4PyS5UD5j/Pc/yJ68zXRG9z/2CHPL54H2P59SOhwKtPU/npkP8dfg9D8NlmVcdQz0P80ugRvuOvM/byxiAHN18j9USVZie8nxP5l9lNXYSPE/OB+F0UYP8T8Y7dsUCTHxP3EBgTHPcPE/bfx15p8S8T8FT+xkGtTuP6mdG7rkxuk/pboqTkHX5D/CrN8qGYngP7R4ZaL+htU/\",\"dtype\":\"float64\",\"shape\":[75]},\"y\":{\"__ndarray__\":\"GhExyth1ND/Sv8nbtpRIP2vylNV0PVE/aTum7souWD/At0SJ8fVgPw3Iuahxymc/MSNhhJWvcD/bTfBN02d3P2zb5nxnaoA/CD5h5MAGhz8NmeH1TyaQP+zrCsc9p5Y/LbKd76fGnz/bLW5ISEmmPww9YvTcQq8/JV2OstnstT8Er5Y7M8G+P0c+r3jqkcU/5h99k6ZBzj88bCIzFzjVP4enV8oyxN0//yH99nXg5D8qOpLLf0jtP5kqGJXUifQ/c9cS8kHP/D+/DpwzojQEQIEmwoanVwxA4lgXt9HgE0BSSZ2AJuIbQAMJih9jjiNA5q4l5INuK0AwTKYKRj0zQNv5fmq8/DpAaCJseHrtQkB/+zpwzoxKQM3MzMzMeFJAZmZmZmZqWEAAAAAAAFxeQM3MzMzMJmJAmpmZmZkfZUBmZmZmZhhoQDMzMzMzEWtAAAAAAAAKbkBmZmZmZoFwQM3MzMzM/XFAMzMzMzN6c0CamZmZmfZ0QAAAAAAAc3ZAZmZmZmbvd0DNzMzMzGt5QDMzMzMz6HpAmpmZmZlkfEAAAAAAAOF9QGZmZmZmXX9AZmZmZuZsgECamZmZGSuBQM3MzMxM6YFAAAAAAICngkAzMzMzs2WDQGZmZmbmI4RAmpmZmRnihEDNzMzMTKCFQAAAAACAXoZAMzMzM7Mch0BmZmZm5tqHQJqZmZkZmYhAzczMzExXiUAAAAAAgBWKQDMzMzOz04pAZmZmZuaRi0CamZmZGVCMQM3MzMxMDo1AAAAAAIDMjUAzMzMzs4qOQGZmZmbmSI9A\",\"dtype\":\"float64\",\"shape\":[75]}},\"selected\":{\"id\":\"c1ee972c-e85d-453d-85d3-c9a21af4c9f7\",\"type\":\"Selection\"},\"selection_policy\":{\"id\":\"deb1ecd8-01df-4f80-ada5-5abf653b891d\",\"type\":\"UnionRenderers\"}},\"id\":\"c1bd7e84-0b2c-4f7c-a32f-a1e230aaad1e\",\"type\":\"ColumnDataSource\"},{\"attributes\":{\"label\":{\"value\":\"CRD\"},\"renderers\":[{\"id\":\"395d2788-2a35-45a9-8ea0-8655bb89fafc\",\"type\":\"GlyphRenderer\"},{\"id\":\"311c4bcb-6798-461d-9b85-b2d4877cb123\",\"type\":\"GlyphRenderer\"}]},\"id\":\"09afb2cd-75cc-43d1-9c29-be8b1fdc393a\",\"type\":\"LegendItem\"},{\"attributes\":{\"num_minor_ticks\":10},\"id\":\"86ae9afd-fcf9-4df1-b529-73cfa372136d\",\"type\":\"LogTicker\"},{\"attributes\":{\"axis_label\":\"cooling rate [K/day]\",\"formatter\":{\"id\":\"2db28e96-8675-424a-9912-393a3f22d389\",\"type\":\"BasicTickFormatter\"},\"plot\":{\"id\":\"303b2469-04a9-4feb-86aa-31791c9ef37e\",\"subtype\":\"Figure\",\"type\":\"Plot\"},\"ticker\":{\"id\":\"47aa9ae0-5c7d-4fc4-8960-b1b9a31adf8d\",\"type\":\"BasicTicker\"}},\"id\":\"bf716aaa-5623-46ea-95b8-f94411fb17b3\",\"type\":\"LinearAxis\"},{\"attributes\":{},\"id\":\"db14acee-fdae-4e9e-b0cf-d5f363e945e1\",\"type\":\"WheelZoomTool\"},{\"attributes\":{},\"id\":\"adfde202-58c4-4e21-8288-ac37f705e8eb\",\"type\":\"SaveTool\"},{\"attributes\":{\"active_drag\":\"auto\",\"active_inspect\":\"auto\",\"active_scroll\":\"auto\",\"active_tap\":\"auto\",\"tools\":[{\"id\":\"5bf510c9-48d7-47a2-ad9d-ddaf98a2d3de\",\"type\":\"PanTool\"},{\"id\":\"db14acee-fdae-4e9e-b0cf-d5f363e945e1\",\"type\":\"WheelZoomTool\"},{\"id\":\"cc37debd-3768-4e54-a899-6d1fdbde42b0\",\"type\":\"BoxZoomTool\"},{\"id\":\"adfde202-58c4-4e21-8288-ac37f705e8eb\",\"type\":\"SaveTool\"},{\"id\":\"9f237659-8eb4-4704-8ee6-5fc02db1197c\",\"type\":\"ResetTool\"},{\"id\":\"efdb1a0d-5cdd-4dd7-a1ae-152836b0ebac\",\"type\":\"HelpTool\"}]},\"id\":\"5a9a3609-32bb-421e-9ddf-ae61a3737aab\",\"type\":\"Toolbar\"},{\"attributes\":{\"dimension\":1,\"plot\":{\"id\":\"cf7ccf62-439a-4f41-9cf9-85d797ad1060\",\"subtype\":\"Figure\",\"type\":\"Plot\"},\"ticker\":{\"id\":\"8212d523-9ee0-4f9e-940e-8d9c3ab18384\",\"type\":\"BasicTicker\"}},\"id\":\"b69ecda4-9895-4ed7-9157-e0cf4edf9f56\",\"type\":\"Grid\"},{\"attributes\":{\"items\":[{\"id\":\"22b082d3-b879-4408-a137-5771b613f1b8\",\"type\":\"LegendItem\"}],\"label_text_font_size\":{\"value\":\"8pt\"},\"location\":\"top_center\",\"orientation\":\"horizontal\",\"plot\":{\"id\":\"303b2469-04a9-4feb-86aa-31791c9ef37e\",\"subtype\":\"Figure\",\"type\":\"Plot\"}},\"id\":\"24dfbe62-d694-4b08-80b0-9e982abb30f0\",\"type\":\"Legend\"},{\"attributes\":{\"source\":{\"id\":\"abc85c08-b7a5-4702-b463-9a522571b734\",\"type\":\"ColumnDataSource\"}},\"id\":\"11b2bb29-4739-4935-a1ac-cdd56a5c834f\",\"type\":\"CDSView\"},{\"attributes\":{},\"id\":\"6b2f81d6-14c3-457d-8900-8b3011edb4ad\",\"type\":\"SaveTool\"},{\"attributes\":{\"callback\":null,\"end\":1.5925520597826701,\"start\":0.25278747673033},\"id\":\"dae28907-f82e-4739-b477-8a3ba904f422\",\"type\":\"Range1d\"},{\"attributes\":{\"callback\":null,\"data\":{\"x\":{\"__ndarray__\":\"0CYBcvU5UkCik9zf2GVBQF1VoNfLZ0BAVLxhiVXTPUDD1Wu1wJM6QFJyB025jjdAU6Aw5+b/NECYe1uuDfgyQB6bYtVTbTFAPxYSAF1HMEA00pYVm9QuQLolHbMzgC1AntlwirGsLECv+G9SjE4rQJH6ZLBp0ShAsLZQyPd/JkDyjgyf2PwkQLgyNGsrJyRAA13QbJD6I0C8hy0ilI4kQOVTXCEgcSZAovOGvZSGJUBVc/ZmUOIgQOf/6GHAyRlAcE8fAOBSFEDRur1U//gPQGFD9ZbokghAQsqHuSqSA0C91ci3W0UBQCtRQfvz7/4/kh8pntyB+j9t1/n+4TX1P773MAUjFfI/RgzR+CI28T8hBW8WHK7uPzVKjJfU8uk/0FPt4/z65T/wVYqzMPDhPz7K9C5CXuE/8+hSn9hY4T/9PPCkR6rhP1XsIC599OA/66X1nBCX3z/YbRM56QjcPz4dkSQc/dM/S7Wb8Fq00T+/yQdmX0vcP7TrGf476eM/WqNPJoWO7D9qOH1bcwDzP2bw+R5DQ/Y/RLSuQOQp+D8+aif8yAz5P0Wv6eBKRfk/0i2+IN4R+T/ik8QNFZr4PyS5UD5j/Pc/yJ68zXRG9z/2CHPL54H2P59SOhwKtPU/npkP8dfg9D8NlmVcdQz0P80ugRvuOvM/byxiAHN18j9USVZie8nxP5l9lNXYSPE/OB+F0UYP8T8Y7dsUCTHxP3EBgTHPcPE/bfx15p8S8T8FT+xkGtTuP6mdG7rkxuk/pboqTkHX5D/CrN8qGYngP7R4ZaL+htU/\",\"dtype\":\"float64\",\"shape\":[75]},\"y\":{\"__ndarray__\":\"GhExyth1ND/Sv8nbtpRIP2vylNV0PVE/aTum7souWD/At0SJ8fVgPw3Iuahxymc/MSNhhJWvcD/bTfBN02d3P2zb5nxnaoA/CD5h5MAGhz8NmeH1TyaQP+zrCsc9p5Y/LbKd76fGnz/bLW5ISEmmPww9YvTcQq8/JV2OstnstT8Er5Y7M8G+P0c+r3jqkcU/5h99k6ZBzj88bCIzFzjVP4enV8oyxN0//yH99nXg5D8qOpLLf0jtP5kqGJXUifQ/c9cS8kHP/D+/DpwzojQEQIEmwoanVwxA4lgXt9HgE0BSSZ2AJuIbQAMJih9jjiNA5q4l5INuK0AwTKYKRj0zQNv5fmq8/DpAaCJseHrtQkB/+zpwzoxKQM3MzMzMeFJAZmZmZmZqWEAAAAAAAFxeQM3MzMzMJmJAmpmZmZkfZUBmZmZmZhhoQDMzMzMzEWtAAAAAAAAKbkBmZmZmZoFwQM3MzMzM/XFAMzMzMzN6c0CamZmZmfZ0QAAAAAAAc3ZAZmZmZmbvd0DNzMzMzGt5QDMzMzMz6HpAmpmZmZlkfEAAAAAAAOF9QGZmZmZmXX9AZmZmZuZsgECamZmZGSuBQM3MzMxM6YFAAAAAAICngkAzMzMzs2WDQGZmZmbmI4RAmpmZmRnihEDNzMzMTKCFQAAAAACAXoZAMzMzM7Mch0BmZmZm5tqHQJqZmZkZmYhAzczMzExXiUAAAAAAgBWKQDMzMzOz04pAZmZmZuaRi0CamZmZGVCMQM3MzMxMDo1AAAAAAIDMjUAzMzMzs4qOQGZmZmbmSI9A\",\"dtype\":\"float64\",\"shape\":[75]}},\"selected\":{\"id\":\"6857bd58-9323-4c12-8d93-a73dbbfac4b9\",\"type\":\"Selection\"},\"selection_policy\":{\"id\":\"fe8eb35b-b419-439d-aaf8-6d459a6ca100\",\"type\":\"UnionRenderers\"}},\"id\":\"abc85c08-b7a5-4702-b463-9a522571b734\",\"type\":\"ColumnDataSource\"},{\"attributes\":{\"overlay\":{\"id\":\"ea2d21b0-664a-476d-bd57-7c964be0ba56\",\"type\":\"BoxAnnotation\"}},\"id\":\"cc37debd-3768-4e54-a899-6d1fdbde42b0\",\"type\":\"BoxZoomTool\"},{\"attributes\":{},\"id\":\"76f3a20f-bcba-4e91-ab76-5c8888d5cf36\",\"type\":\"UnionRenderers\"},{\"attributes\":{},\"id\":\"5bf510c9-48d7-47a2-ad9d-ddaf98a2d3de\",\"type\":\"PanTool\"},{\"attributes\":{\"source\":{\"id\":\"70ad9693-c3a3-4479-894a-dc076371eafe\",\"type\":\"ColumnDataSource\"}},\"id\":\"4a2aeb93-230a-4794-b0a7-87f35ba10783\",\"type\":\"CDSView\"},{\"attributes\":{\"data_source\":{\"id\":\"46ff3999-66b9-4bf0-9384-a23ab1272270\",\"type\":\"ColumnDataSource\"},\"glyph\":{\"id\":\"e8dec1c2-125f-47bc-ab5c-44478faab6a6\",\"type\":\"Line\"},\"hover_glyph\":null,\"muted_glyph\":null,\"nonselection_glyph\":{\"id\":\"47b0630e-ba68-410b-8007-7effeec335cb\",\"type\":\"Line\"},\"selection_glyph\":null,\"view\":{\"id\":\"9f33644f-05b5-4c02-b192-33495a6b9e0f\",\"type\":\"CDSView\"}},\"id\":\"2d1c6fd9-2aaf-4fa5-a142-0a44c3249280\",\"type\":\"GlyphRenderer\"},{\"attributes\":{\"callback\":null,\"end\":0.9897391746271391,\"start\":-1.6775373671211389},\"id\":\"8122f77b-4722-4a76-b477-c8418e1e324c\",\"type\":\"Range1d\"},{\"attributes\":{\"toolbar\":{\"id\":\"3d15b97e-8c4b-4e15-b02d-e4c9afe498f2\",\"type\":\"ProxyToolbar\"},\"toolbar_location\":\"above\"},\"id\":\"48eb792b-f7a2-4491-a991-a7a8e3188328\",\"type\":\"ToolbarBox\"},{\"attributes\":{},\"id\":\"815f4e13-f3e2-4092-b177-9f4831924d8f\",\"type\":\"Selection\"},{\"attributes\":{},\"id\":\"e89ed248-04dd-4dff-99f4-dcc7c62fc55d\",\"type\":\"UnionRenderers\"},{\"attributes\":{\"dimension\":1,\"plot\":{\"id\":\"303b2469-04a9-4feb-86aa-31791c9ef37e\",\"subtype\":\"Figure\",\"type\":\"Plot\"},\"ticker\":{\"id\":\"86ae9afd-fcf9-4df1-b529-73cfa372136d\",\"type\":\"LogTicker\"}},\"id\":\"541bc1f3-3aa1-49a6-b9eb-62c7687e4c90\",\"type\":\"Grid\"},{\"attributes\":{},\"id\":\"2db28e96-8675-424a-9912-393a3f22d389\",\"type\":\"BasicTickFormatter\"},{\"attributes\":{},\"id\":\"844ba3e4-135c-444a-baa5-2467890de3d5\",\"type\":\"Selection\"},{\"attributes\":{\"axis_label\":\"pressure [mb]\",\"formatter\":{\"id\":\"f00de006-5323-4d96-9ac9-97b361b69e4d\",\"type\":\"LogTickFormatter\"},\"plot\":{\"id\":\"f152c5f6-15e2-408a-b7de-6dc223e35cfc\",\"subtype\":\"Figure\",\"type\":\"Plot\"},\"ticker\":{\"id\":\"4661f83b-9e5b-4efb-b7d1-f6b1f05b7a37\",\"type\":\"LogTicker\"}},\"id\":\"95152f6a-d72d-4965-9eaf-4b47a2aff92d\",\"type\":\"LogAxis\"},{\"attributes\":{\"plot\":null,\"text\":\"\"},\"id\":\"0de229cb-492b-4c5a-8c85-88782568c021\",\"type\":\"Title\"},{\"attributes\":{\"callback\":null,\"data\":{\"x\":{\"__ndarray__\":\"0CYBcvU5UkCik9zf2GVBQF1VoNfLZ0BAVLxhiVXTPUDD1Wu1wJM6QFJyB025jjdAU6Aw5+b/NECYe1uuDfgyQB6bYtVTbTFAPxYSAF1HMEA00pYVm9QuQLolHbMzgC1AntlwirGsLECv+G9SjE4rQJH6ZLBp0ShAsLZQyPd/JkDyjgyf2PwkQLgyNGsrJyRAA13QbJD6I0C8hy0ilI4kQOVTXCEgcSZAovOGvZSGJUBVc/ZmUOIgQOf/6GHAyRlAcE8fAOBSFEDRur1U//gPQGFD9ZbokghAQsqHuSqSA0C91ci3W0UBQCtRQfvz7/4/kh8pntyB+j9t1/n+4TX1P773MAUjFfI/RgzR+CI28T8hBW8WHK7uPzVKjJfU8uk/0FPt4/z65T/wVYqzMPDhPz7K9C5CXuE/8+hSn9hY4T/9PPCkR6rhP1XsIC599OA/66X1nBCX3z/YbRM56QjcPz4dkSQc/dM/S7Wb8Fq00T+/yQdmX0vcP7TrGf476eM/WqNPJoWO7D9qOH1bcwDzP2bw+R5DQ/Y/RLSuQOQp+D8+aif8yAz5P0Wv6eBKRfk/0i2+IN4R+T/ik8QNFZr4PyS5UD5j/Pc/yJ68zXRG9z/2CHPL54H2P59SOhwKtPU/npkP8dfg9D8NlmVcdQz0P80ugRvuOvM/byxiAHN18j9USVZie8nxP5l9lNXYSPE/OB+F0UYP8T8Y7dsUCTHxP3EBgTHPcPE/bfx15p8S8T8FT+xkGtTuP6mdG7rkxuk/pboqTkHX5D/CrN8qGYngP7R4ZaL+htU/\",\"dtype\":\"float64\",\"shape\":[75]},\"y\":{\"__ndarray__\":\"GhExyth1ND/Sv8nbtpRIP2vylNV0PVE/aTum7souWD/At0SJ8fVgPw3Iuahxymc/MSNhhJWvcD/bTfBN02d3P2zb5nxnaoA/CD5h5MAGhz8NmeH1TyaQP+zrCsc9p5Y/LbKd76fGnz/bLW5ISEmmPww9YvTcQq8/JV2OstnstT8Er5Y7M8G+P0c+r3jqkcU/5h99k6ZBzj88bCIzFzjVP4enV8oyxN0//yH99nXg5D8qOpLLf0jtP5kqGJXUifQ/c9cS8kHP/D+/DpwzojQEQIEmwoanVwxA4lgXt9HgE0BSSZ2AJuIbQAMJih9jjiNA5q4l5INuK0AwTKYKRj0zQNv5fmq8/DpAaCJseHrtQkB/+zpwzoxKQM3MzMzMeFJAZmZmZmZqWEAAAAAAAFxeQM3MzMzMJmJAmpmZmZkfZUBmZmZmZhhoQDMzMzMzEWtAAAAAAAAKbkBmZmZmZoFwQM3MzMzM/XFAMzMzMzN6c0CamZmZmfZ0QAAAAAAAc3ZAZmZmZmbvd0DNzMzMzGt5QDMzMzMz6HpAmpmZmZlkfEAAAAAAAOF9QGZmZmZmXX9AZmZmZuZsgECamZmZGSuBQM3MzMxM6YFAAAAAAICngkAzMzMzs2WDQGZmZmbmI4RAmpmZmRnihEDNzMzMTKCFQAAAAACAXoZAMzMzM7Mch0BmZmZm5tqHQJqZmZkZmYhAzczMzExXiUAAAAAAgBWKQDMzMzOz04pAZmZmZuaRi0CamZmZGVCMQM3MzMxMDo1AAAAAAIDMjUAzMzMzs4qOQGZmZmbmSI9A\",\"dtype\":\"float64\",\"shape\":[75]}},\"selected\":{\"id\":\"844ba3e4-135c-444a-baa5-2467890de3d5\",\"type\":\"Selection\"},\"selection_policy\":{\"id\":\"18723ab0-daea-477a-bd26-0c76d5de5bf1\",\"type\":\"UnionRenderers\"}},\"id\":\"70ad9693-c3a3-4479-894a-dc076371eafe\",\"type\":\"ColumnDataSource\"},{\"attributes\":{},\"id\":\"433bcd55-6717-4342-b8f2-a1f7bf6fca24\",\"type\":\"BasicTickFormatter\"},{\"attributes\":{\"num_minor_ticks\":10},\"id\":\"4661f83b-9e5b-4efb-b7d1-f6b1f05b7a37\",\"type\":\"LogTicker\"},{\"attributes\":{},\"id\":\"38b962b3-0cb2-41c2-bc40-472e24e63437\",\"type\":\"Selection\"},{\"attributes\":{},\"id\":\"50b0dbf3-6818-4900-b86f-f23cacba4f5e\",\"type\":\"LogScale\"},{\"attributes\":{},\"id\":\"112ba61d-c11c-4605-a3f8-8bd71e384b57\",\"type\":\"UnionRenderers\"},{\"attributes\":{\"overlay\":{\"id\":\"ccff8a8c-9dc4-4d10-bcd1-975c34f7f916\",\"type\":\"BoxAnnotation\"}},\"id\":\"5037ce23-efcc-4095-be44-8cc3791ea8c1\",\"type\":\"BoxZoomTool\"},{\"attributes\":{\"fill_alpha\":{\"value\":0.7},\"fill_color\":{\"value\":\"#4daf4a\"},\"line_alpha\":{\"value\":0.7},\"line_color\":{\"value\":\"#4daf4a\"},\"x\":{\"field\":\"x\"},\"y\":{\"field\":\"y\"}},\"id\":\"8fba44b3-3219-4d23-b08a-2140d61ee74b\",\"type\":\"Circle\"},{\"attributes\":{},\"id\":\"0dab02bf-ca9f-4747-b7fe-c5ea5a459c96\",\"type\":\"UnionRenderers\"},{\"attributes\":{\"plot\":{\"id\":\"303b2469-04a9-4feb-86aa-31791c9ef37e\",\"subtype\":\"Figure\",\"type\":\"Plot\"},\"ticker\":{\"id\":\"47aa9ae0-5c7d-4fc4-8960-b1b9a31adf8d\",\"type\":\"BasicTicker\"}},\"id\":\"f3a79151-fb6d-429e-94dd-045cfd432aed\",\"type\":\"Grid\"},{\"attributes\":{},\"id\":\"47aa9ae0-5c7d-4fc4-8960-b1b9a31adf8d\",\"type\":\"BasicTicker\"},{\"attributes\":{\"tools\":[{\"id\":\"2d6697b4-7521-45c3-a02c-3cbae5d45ca7\",\"type\":\"PanTool\"},{\"id\":\"dfef7173-8c0d-4186-86ca-6da756a4669e\",\"type\":\"WheelZoomTool\"},{\"id\":\"5037ce23-efcc-4095-be44-8cc3791ea8c1\",\"type\":\"BoxZoomTool\"},{\"id\":\"6b2f81d6-14c3-457d-8900-8b3011edb4ad\",\"type\":\"SaveTool\"},{\"id\":\"be6653c8-e0a4-421c-b7bc-296efe32d488\",\"type\":\"ResetTool\"},{\"id\":\"47622934-17b9-46b4-ae6d-3207cb1b5a01\",\"type\":\"HelpTool\"},{\"id\":\"1c70c9bc-2b0c-4c1c-bd4a-dc50163a01ec\",\"type\":\"PanTool\"},{\"id\":\"26d73213-ecbe-4295-b6d5-ac3a88927243\",\"type\":\"WheelZoomTool\"},{\"id\":\"60eb039b-9585-4571-8ccd-06d98c91a49a\",\"type\":\"BoxZoomTool\"},{\"id\":\"2b709caf-7648-43c3-a6da-542fe1d30ab1\",\"type\":\"SaveTool\"},{\"id\":\"b210609d-1d31-4764-863d-d88c53725b5f\",\"type\":\"ResetTool\"},{\"id\":\"09323ad7-088c-4d90-af0a-d9a84b63565a\",\"type\":\"HelpTool\"},{\"id\":\"5bf510c9-48d7-47a2-ad9d-ddaf98a2d3de\",\"type\":\"PanTool\"},{\"id\":\"db14acee-fdae-4e9e-b0cf-d5f363e945e1\",\"type\":\"WheelZoomTool\"},{\"id\":\"cc37debd-3768-4e54-a899-6d1fdbde42b0\",\"type\":\"BoxZoomTool\"},{\"id\":\"adfde202-58c4-4e21-8288-ac37f705e8eb\",\"type\":\"SaveTool\"},{\"id\":\"9f237659-8eb4-4704-8ee6-5fc02db1197c\",\"type\":\"ResetTool\"},{\"id\":\"efdb1a0d-5cdd-4dd7-a1ae-152836b0ebac\",\"type\":\"HelpTool\"}]},\"id\":\"3d15b97e-8c4b-4e15-b02d-e4c9afe498f2\",\"type\":\"ProxyToolbar\"},{\"attributes\":{},\"id\":\"2d6697b4-7521-45c3-a02c-3cbae5d45ca7\",\"type\":\"PanTool\"},{\"attributes\":{},\"id\":\"4c48135a-1a73-43b3-942f-424edcfbfccd\",\"type\":\"Selection\"},{\"attributes\":{},\"id\":\"18723ab0-daea-477a-bd26-0c76d5de5bf1\",\"type\":\"UnionRenderers\"},{\"attributes\":{},\"id\":\"c3a9372b-1220-4a43-b565-8a61fbbad5cf\",\"type\":\"BasicTickFormatter\"},{\"attributes\":{\"line_alpha\":0.6,\"line_color\":\"#377eb8\",\"line_dash\":[6],\"line_width\":5,\"x\":{\"field\":\"x\"},\"y\":{\"field\":\"y\"}},\"id\":\"e8dec1c2-125f-47bc-ab5c-44478faab6a6\",\"type\":\"Line\"},{\"attributes\":{\"children\":[{\"id\":\"48eb792b-f7a2-4491-a991-a7a8e3188328\",\"type\":\"ToolbarBox\"},{\"id\":\"5269bec1-c152-4131-bc5d-66014ba2d56d\",\"type\":\"Column\"}]},\"id\":\"030e8eb7-e184-44ea-aecb-56900d042b06\",\"type\":\"Column\"},{\"attributes\":{},\"id\":\"283a1db9-091f-4899-bcd6-69c37c2e7227\",\"type\":\"UnionRenderers\"},{\"attributes\":{},\"id\":\"fe8eb35b-b419-439d-aaf8-6d459a6ca100\",\"type\":\"UnionRenderers\"},{\"attributes\":{\"axis_label\":\"pressure [mb]\",\"formatter\":{\"id\":\"e01534e4-72c1-4e7d-8ebf-6f9ce586fdab\",\"type\":\"LogTickFormatter\"},\"plot\":{\"id\":\"303b2469-04a9-4feb-86aa-31791c9ef37e\",\"subtype\":\"Figure\",\"type\":\"Plot\"},\"ticker\":{\"id\":\"86ae9afd-fcf9-4df1-b529-73cfa372136d\",\"type\":\"LogTicker\"}},\"id\":\"73d4f4d8-f920-4edc-badc-422ff20c95a2\",\"type\":\"LogAxis\"},{\"attributes\":{},\"id\":\"3ff1380c-d907-4e3f-8100-631864c656ea\",\"type\":\"LinearScale\"},{\"attributes\":{\"ticker\":null},\"id\":\"f00de006-5323-4d96-9ac9-97b361b69e4d\",\"type\":\"LogTickFormatter\"},{\"attributes\":{},\"id\":\"5b65919f-a122-43ba-93e1-d4151b879521\",\"type\":\"BasicTicker\"},{\"attributes\":{\"callback\":null,\"data\":{\"x\":{\"__ndarray__\":\"pNT9013fQ8BHz6Iz9/wYwNfDDIW8sQPAIkyto68I8j+fIJf5rJMLQIecTPoI1Q9As/64BN/IBkBfIBLYVzbrP1R1ZGKwoO2/pE6pZhVs+r+osA5Z1ST0v5zMboda9dS/aQlVtjiW4D9MTnJyudXuP2yVG7UQ9uw/6REl5gwA2T+4fJqAcenQv5ajHl5rZeW/7sOmS6l75b/2lhpJkZPavw7zXwS2EcK/3f/kdxDJsT9k2KERVRbBPyUpAn1TG7q/7g8mKJN+zb9FgCij7lWhv4gzQaeHVdE/WMHzFuLt0T9TeyfymSq8P7AvC9G1h6A/vwXXyq89xD8cQniFsRLNP745xZhH08A/0hEfW7UEd7/IKTaMEXtnP0nW/cfESbM/DkTNaoE7qD/N3nEaaa+Yv7um0ov4pLO/he/mYXkGtr+HVx9QYaiyv5xE/bRWu6y/aqqSYaN/pb+PUyUyAV6av25yAVtXsJC/OcCXjW7vhb9A2QhwvYE/v54IJNXclHS/tPE6gehUm78zgJIAgp+qv3kclLp0gKq/TPHqBtXAor9a2amW41mjv4wVTc5azKq/Xw/2OvWRqr8pUTsitFylv6rZtGXHpZ+/NbnWCpZLmL/lcb2lUKGTv7/yG9AZ64m/Ca4eY27/g7/icKU3kHCBv8NLYSkEToS/fmhAqhFUhr9CsNoEMTOEv9bxCalABXq/oBYSwYokOb+8C9d3gpx/Py0I7qXI2Is/1DVQdrnckj9GKGc80l+WPytVWvOhE5g/5YIg7/Vvlz/qZawMW1mXP64D8pGCWpY/\",\"dtype\":\"float64\",\"shape\":[75]},\"y\":{\"__ndarray__\":\"GhExyth1ND/Sv8nbtpRIP2vylNV0PVE/aTum7souWD/At0SJ8fVgPw3Iuahxymc/MSNhhJWvcD/bTfBN02d3P2zb5nxnaoA/CD5h5MAGhz8NmeH1TyaQP+zrCsc9p5Y/LbKd76fGnz/bLW5ISEmmPww9YvTcQq8/JV2OstnstT8Er5Y7M8G+P0c+r3jqkcU/5h99k6ZBzj88bCIzFzjVP4enV8oyxN0//yH99nXg5D8qOpLLf0jtP5kqGJXUifQ/c9cS8kHP/D+/DpwzojQEQIEmwoanVwxA4lgXt9HgE0BSSZ2AJuIbQAMJih9jjiNA5q4l5INuK0AwTKYKRj0zQNv5fmq8/DpAaCJseHrtQkB/+zpwzoxKQM3MzMzMeFJAZmZmZmZqWEAAAAAAAFxeQM3MzMzMJmJAmpmZmZkfZUBmZmZmZhhoQDMzMzMzEWtAAAAAAAAKbkBmZmZmZoFwQM3MzMzM/XFAMzMzMzN6c0CamZmZmfZ0QAAAAAAAc3ZAZmZmZmbvd0DNzMzMzGt5QDMzMzMz6HpAmpmZmZlkfEAAAAAAAOF9QGZmZmZmXX9AZmZmZuZsgECamZmZGSuBQM3MzMxM6YFAAAAAAICngkAzMzMzs2WDQGZmZmbmI4RAmpmZmRnihEDNzMzMTKCFQAAAAACAXoZAMzMzM7Mch0BmZmZm5tqHQJqZmZkZmYhAzczMzExXiUAAAAAAgBWKQDMzMzOz04pAZmZmZuaRi0CamZmZGVCMQM3MzMxMDo1AAAAAAIDMjUAzMzMzs4qOQGZmZmbmSI9A\",\"dtype\":\"float64\",\"shape\":[75]}},\"selected\":{\"id\":\"38b962b3-0cb2-41c2-bc40-472e24e63437\",\"type\":\"Selection\"},\"selection_policy\":{\"id\":\"112ba61d-c11c-4605-a3f8-8bd71e384b57\",\"type\":\"UnionRenderers\"}},\"id\":\"b7df16b2-3861-4aac-b48b-997ef1a51c2f\",\"type\":\"ColumnDataSource\"},{\"attributes\":{\"line_alpha\":0.8,\"line_color\":\"#984ea3\",\"line_width\":1.5,\"x\":{\"field\":\"x\"},\"y\":{\"field\":\"y\"}},\"id\":\"5a8024b8-763e-4ae9-baa3-fa06d893ce8b\",\"type\":\"Line\"},{\"attributes\":{\"label\":{\"value\":\"CRD\"},\"renderers\":[{\"id\":\"6b39b744-9e73-47f2-af14-baaae0520696\",\"type\":\"GlyphRenderer\"},{\"id\":\"6a9fcd4e-e88b-4459-b06a-659bded89b55\",\"type\":\"GlyphRenderer\"}]},\"id\":\"9d4c2256-31cc-4ed2-be02-fae6c1e24814\",\"type\":\"LegendItem\"},{\"attributes\":{\"above\":[{\"id\":\"6cd18f4e-ece6-4ecb-8c6b-79231cf2cbf2\",\"type\":\"Legend\"}],\"below\":[{\"id\":\"aa46a9d3-b5f9-4a56-9e76-0480e71ca71c\",\"type\":\"LinearAxis\"}],\"left\":[{\"id\":\"95152f6a-d72d-4965-9eaf-4b47a2aff92d\",\"type\":\"LogAxis\"}],\"plot_width\":300,\"renderers\":[{\"id\":\"aa46a9d3-b5f9-4a56-9e76-0480e71ca71c\",\"type\":\"LinearAxis\"},{\"id\":\"964517a9-1976-4021-92ba-678f2ee780c0\",\"type\":\"Grid\"},{\"id\":\"95152f6a-d72d-4965-9eaf-4b47a2aff92d\",\"type\":\"LogAxis\"},{\"id\":\"101a5b88-a1d5-4fe6-9f40-f742acf61c6e\",\"type\":\"Grid\"},{\"id\":\"3080f326-65fa-4e61-87d3-f9228b6bed8a\",\"type\":\"BoxAnnotation\"},{\"id\":\"2d1c6fd9-2aaf-4fa5-a142-0a44c3249280\",\"type\":\"GlyphRenderer\"},{\"id\":\"395d2788-2a35-45a9-8ea0-8655bb89fafc\",\"type\":\"GlyphRenderer\"},{\"id\":\"311c4bcb-6798-461d-9b85-b2d4877cb123\",\"type\":\"GlyphRenderer\"},{\"id\":\"6cd18f4e-ece6-4ecb-8c6b-79231cf2cbf2\",\"type\":\"Legend\"}],\"title\":{\"id\":\"7d952e96-8a89-4879-b0b3-ff9286011b1f\",\"type\":\"Title\"},\"toolbar\":{\"id\":\"248a8438-fb53-4523-af24-bf46fbf132ca\",\"type\":\"Toolbar\"},\"toolbar_location\":null,\"x_range\":{\"id\":\"2ee7c479-a829-4989-b8c8-9430149feee8\",\"type\":\"Range1d\"},\"x_scale\":{\"id\":\"3ff1380c-d907-4e3f-8100-631864c656ea\",\"type\":\"LinearScale\"},\"y_range\":{\"id\":\"88e313aa-0e2b-4c5b-a5c5-cdac9fb60b30\",\"type\":\"Range1d\"},\"y_scale\":{\"id\":\"50b0dbf3-6818-4900-b86f-f23cacba4f5e\",\"type\":\"LogScale\"}},\"id\":\"f152c5f6-15e2-408a-b7de-6dc223e35cfc\",\"subtype\":\"Figure\",\"type\":\"Plot\"},{\"attributes\":{\"data_source\":{\"id\":\"70ad9693-c3a3-4479-894a-dc076371eafe\",\"type\":\"ColumnDataSource\"},\"glyph\":{\"id\":\"8fba44b3-3219-4d23-b08a-2140d61ee74b\",\"type\":\"Circle\"},\"hover_glyph\":null,\"muted_glyph\":null,\"nonselection_glyph\":{\"id\":\"22d2fa88-ac12-4261-adbe-4afa20cdf18e\",\"type\":\"Circle\"},\"selection_glyph\":null,\"view\":{\"id\":\"4a2aeb93-230a-4794-b0a7-87f35ba10783\",\"type\":\"CDSView\"}},\"id\":\"6b39b744-9e73-47f2-af14-baaae0520696\",\"type\":\"GlyphRenderer\"},{\"attributes\":{\"callback\":null,\"end\":16.436989857875947,\"start\":0.29783215711705},\"id\":\"2ee7c479-a829-4989-b8c8-9430149feee8\",\"type\":\"Range1d\"},{\"attributes\":{\"plot\":{\"id\":\"f152c5f6-15e2-408a-b7de-6dc223e35cfc\",\"subtype\":\"Figure\",\"type\":\"Plot\"},\"ticker\":{\"id\":\"5b65919f-a122-43ba-93e1-d4151b879521\",\"type\":\"BasicTicker\"}},\"id\":\"964517a9-1976-4021-92ba-678f2ee780c0\",\"type\":\"Grid\"},{\"attributes\":{\"dimension\":1,\"plot\":{\"id\":\"f152c5f6-15e2-408a-b7de-6dc223e35cfc\",\"subtype\":\"Figure\",\"type\":\"Plot\"},\"ticker\":{\"id\":\"4661f83b-9e5b-4efb-b7d1-f6b1f05b7a37\",\"type\":\"LogTicker\"}},\"id\":\"101a5b88-a1d5-4fe6-9f40-f742acf61c6e\",\"type\":\"Grid\"},{\"attributes\":{\"label\":{\"value\":\"CLIRAD (single-run) - CRD\"},\"renderers\":[{\"id\":\"7aa0a9ea-9cae-43d2-a7ac-fe3e1c1b5d42\",\"type\":\"GlyphRenderer\"},{\"id\":\"aab3e840-ce68-4ef5-bb37-5fc6b4098d38\",\"type\":\"GlyphRenderer\"}]},\"id\":\"22b082d3-b879-4408-a137-5771b613f1b8\",\"type\":\"LegendItem\"},{\"attributes\":{},\"id\":\"deb1ecd8-01df-4f80-ada5-5abf653b891d\",\"type\":\"UnionRenderers\"},{\"attributes\":{\"active_drag\":\"auto\",\"active_inspect\":\"auto\",\"active_scroll\":\"auto\",\"active_tap\":\"auto\",\"tools\":[{\"id\":\"1c70c9bc-2b0c-4c1c-bd4a-dc50163a01ec\",\"type\":\"PanTool\"},{\"id\":\"26d73213-ecbe-4295-b6d5-ac3a88927243\",\"type\":\"WheelZoomTool\"},{\"id\":\"60eb039b-9585-4571-8ccd-06d98c91a49a\",\"type\":\"BoxZoomTool\"},{\"id\":\"2b709caf-7648-43c3-a6da-542fe1d30ab1\",\"type\":\"SaveTool\"},{\"id\":\"b210609d-1d31-4764-863d-d88c53725b5f\",\"type\":\"ResetTool\"},{\"id\":\"09323ad7-088c-4d90-af0a-d9a84b63565a\",\"type\":\"HelpTool\"}]},\"id\":\"248a8438-fb53-4523-af24-bf46fbf132ca\",\"type\":\"Toolbar\"},{\"attributes\":{\"plot\":null,\"text\":\"\"},\"id\":\"7d952e96-8a89-4879-b0b3-ff9286011b1f\",\"type\":\"Title\"},{\"attributes\":{\"children\":[{\"id\":\"29afc7f6-66d8-4271-8e1f-a2e2407dcb6d\",\"type\":\"Row\"}]},\"id\":\"5269bec1-c152-4131-bc5d-66014ba2d56d\",\"type\":\"Column\"},{\"attributes\":{\"plot\":null,\"text\":\"\"},\"id\":\"e6c7333c-912c-4d6f-8e44-c7d829309d2b\",\"type\":\"Title\"},{\"attributes\":{\"source\":{\"id\":\"d021b584-74ca-4638-8376-6e62aa2eab91\",\"type\":\"ColumnDataSource\"}},\"id\":\"5bce0ffd-60c4-4084-a009-82e03b6149e7\",\"type\":\"CDSView\"},{\"attributes\":{\"children\":[{\"id\":\"cf7ccf62-439a-4f41-9cf9-85d797ad1060\",\"subtype\":\"Figure\",\"type\":\"Plot\"},{\"id\":\"f152c5f6-15e2-408a-b7de-6dc223e35cfc\",\"subtype\":\"Figure\",\"type\":\"Plot\"},{\"id\":\"303b2469-04a9-4feb-86aa-31791c9ef37e\",\"subtype\":\"Figure\",\"type\":\"Plot\"}]},\"id\":\"29afc7f6-66d8-4271-8e1f-a2e2407dcb6d\",\"type\":\"Row\"},{\"attributes\":{},\"id\":\"da0b0179-cdca-49c9-be0f-ce3f24d9be3f\",\"type\":\"BasicTickFormatter\"},{\"attributes\":{\"callback\":null,\"data\":{\"x\":{\"__ndarray__\":\"/3gEEI2UQEB0c9Dyc4w8QD4Snx5gWT5AFZGcg+DzPkDYuZ5UNgY+QOQFUWxaiTtAJ8DHxwLZN0CaDBxtwNEzQHB3T1JOgDBAqgJPUzdBLUAe/HRqAFAsQFSv4d6I2CxANirWFRW2LUCUHZfp5zstQOmztrvKoCpAP9+BL/hHJ0AOuwcTjXUkQH9IUrXU0CJAw/AV2NWiIkADs+SX97kjQBnUSknZKCZAob123iaqJUC4+jy7qSYhQET39BNTYRlA8h7eZutmE0DRGDGap7MPQNFp3YuZvQpAbUJm/ObPBUCXEVqHsCYCQKiqyakxdP8/TACEl5IJ/T+x36gvONj4P/WeSfiLL/Q/Ne11Qx4f8T9KO/snl8XuPwAFjDANXOw/ECia+rR+5z/5xrZqtSrhP87q9DpG090/BhYs5hIw3T8TpNj1dqrePxgwooWPUd4/oFDDMBzn3D+hGPElCWPaPxcG4a4W8tI/SPcufN8E0T+Jx6v2fkPcP6Ojb0QSwOM/zctF4t2z6z9opHhLdyvyP4FPJXk/b/U/u1x3mN2T9z9xG3Lf+XH4P5hGdwrobvg/Vn3mdk49+D9YubJsL+/3P7/luSDMffc/5EORdUbl9j8uE9yIYjP2P7kamugzgPU/QlxJFNm49D8sS/Y7lOnzPzVsLhNSEvM/nKsN3cpI8j/zk0wAFaHxP6Zz65TTLvE/Fg7ZiLQN8T8jxFOXpVDxP4PdzMKAqPE/RD1PzBJe8T9HiM/2GIfvP1JwtsmBh+o/vb6j/cCS5T/xD0UD5EPhP++YhMum7NY/\",\"dtype\":\"float64\",\"shape\":[75]},\"y\":{\"__ndarray__\":\"GhExyth1ND/Sv8nbtpRIP2vylNV0PVE/aTum7souWD/At0SJ8fVgPw3Iuahxymc/MSNhhJWvcD/bTfBN02d3P2zb5nxnaoA/CD5h5MAGhz8NmeH1TyaQP+zrCsc9p5Y/LbKd76fGnz/bLW5ISEmmPww9YvTcQq8/JV2OstnstT8Er5Y7M8G+P0c+r3jqkcU/5h99k6ZBzj88bCIzFzjVP4enV8oyxN0//yH99nXg5D8qOpLLf0jtP5kqGJXUifQ/c9cS8kHP/D+/DpwzojQEQIEmwoanVwxA4lgXt9HgE0BSSZ2AJuIbQAMJih9jjiNA5q4l5INuK0AwTKYKRj0zQNv5fmq8/DpAaCJseHrtQkB/+zpwzoxKQM3MzMzMeFJAZmZmZmZqWEAAAAAAAFxeQM3MzMzMJmJAmpmZmZkfZUBmZmZmZhhoQDMzMzMzEWtAAAAAAAAKbkBmZmZmZoFwQM3MzMzM/XFAMzMzMzN6c0CamZmZmfZ0QAAAAAAAc3ZAZmZmZmbvd0DNzMzMzGt5QDMzMzMz6HpAmpmZmZlkfEAAAAAAAOF9QGZmZmZmXX9AZmZmZuZsgECamZmZGSuBQM3MzMxM6YFAAAAAAICngkAzMzMzs2WDQGZmZmbmI4RAmpmZmRnihEDNzMzMTKCFQAAAAACAXoZAMzMzM7Mch0BmZmZm5tqHQJqZmZkZmYhAzczMzExXiUAAAAAAgBWKQDMzMzOz04pAZmZmZuaRi0CamZmZGVCMQM3MzMxMDo1AAAAAAIDMjUAzMzMzs4qOQGZmZmbmSI9A\",\"dtype\":\"float64\",\"shape\":[75]}},\"selected\":{\"id\":\"9ab86119-3b7a-4fd8-9356-6b8de3494bf5\",\"type\":\"Selection\"},\"selection_policy\":{\"id\":\"76f3a20f-bcba-4e91-ab76-5c8888d5cf36\",\"type\":\"UnionRenderers\"}},\"id\":\"46ff3999-66b9-4bf0-9384-a23ab1272270\",\"type\":\"ColumnDataSource\"},{\"attributes\":{\"axis_label\":\"cooling rate [K/day]\",\"formatter\":{\"id\":\"da0b0179-cdca-49c9-be0f-ce3f24d9be3f\",\"type\":\"BasicTickFormatter\"},\"plot\":{\"id\":\"f152c5f6-15e2-408a-b7de-6dc223e35cfc\",\"subtype\":\"Figure\",\"type\":\"Plot\"},\"ticker\":{\"id\":\"5b65919f-a122-43ba-93e1-d4151b879521\",\"type\":\"BasicTicker\"}},\"id\":\"aa46a9d3-b5f9-4a56-9e76-0480e71ca71c\",\"type\":\"LinearAxis\"},{\"attributes\":{},\"id\":\"b78f78fd-d934-4c5b-a0ee-5274034824f3\",\"type\":\"LinearScale\"},{\"attributes\":{\"data_source\":{\"id\":\"d021b584-74ca-4638-8376-6e62aa2eab91\",\"type\":\"ColumnDataSource\"},\"glyph\":{\"id\":\"5a8024b8-763e-4ae9-baa3-fa06d893ce8b\",\"type\":\"Line\"},\"hover_glyph\":null,\"muted_glyph\":null,\"nonselection_glyph\":{\"id\":\"3da3a9a5-b44e-406f-8a34-fffc7873ebf9\",\"type\":\"Line\"},\"selection_glyph\":null,\"view\":{\"id\":\"5bce0ffd-60c4-4084-a009-82e03b6149e7\",\"type\":\"CDSView\"}},\"id\":\"aab3e840-ce68-4ef5-bb37-5fc6b4098d38\",\"type\":\"GlyphRenderer\"},{\"attributes\":{},\"id\":\"6857bd58-9323-4c12-8d93-a73dbbfac4b9\",\"type\":\"Selection\"},{\"attributes\":{},\"id\":\"be6653c8-e0a4-421c-b7bc-296efe32d488\",\"type\":\"ResetTool\"},{\"attributes\":{},\"id\":\"dfef7173-8c0d-4186-86ca-6da756a4669e\",\"type\":\"WheelZoomTool\"},{\"attributes\":{\"line_alpha\":0.1,\"line_color\":\"#1f77b4\",\"line_width\":1.5,\"x\":{\"field\":\"x\"},\"y\":{\"field\":\"y\"}},\"id\":\"3da3a9a5-b44e-406f-8a34-fffc7873ebf9\",\"type\":\"Line\"},{\"attributes\":{\"items\":[{\"id\":\"1f7d86cc-5dce-4563-8c8a-ca62ed511291\",\"type\":\"LegendItem\"},{\"id\":\"09afb2cd-75cc-43d1-9c29-be8b1fdc393a\",\"type\":\"LegendItem\"}],\"label_text_font_size\":{\"value\":\"8pt\"},\"location\":\"top_center\",\"orientation\":\"horizontal\",\"plot\":{\"id\":\"f152c5f6-15e2-408a-b7de-6dc223e35cfc\",\"subtype\":\"Figure\",\"type\":\"Plot\"}},\"id\":\"6cd18f4e-ece6-4ecb-8c6b-79231cf2cbf2\",\"type\":\"Legend\"},{\"attributes\":{\"ticker\":null},\"id\":\"e01534e4-72c1-4e7d-8ebf-6f9ce586fdab\",\"type\":\"LogTickFormatter\"},{\"attributes\":{\"label\":{\"value\":\"CLIRAD (single-run)\"},\"renderers\":[{\"id\":\"8a074eb0-759b-45b0-a68d-b08cf642475a\",\"type\":\"GlyphRenderer\"}]},\"id\":\"7d502f42-2354-4598-9c38-7037ee5cbfee\",\"type\":\"LegendItem\"},{\"attributes\":{\"line_alpha\":0.6,\"line_color\":\"#377eb8\",\"line_dash\":[6],\"line_width\":5,\"x\":{\"field\":\"x\"},\"y\":{\"field\":\"y\"}},\"id\":\"6e40b86d-f983-4ac5-9d14-75edfab64717\",\"type\":\"Line\"},{\"attributes\":{},\"id\":\"d14bb230-562f-4216-a61b-c49e4ead4775\",\"type\":\"Selection\"},{\"attributes\":{\"above\":[{\"id\":\"24dfbe62-d694-4b08-80b0-9e982abb30f0\",\"type\":\"Legend\"}],\"below\":[{\"id\":\"bf716aaa-5623-46ea-95b8-f94411fb17b3\",\"type\":\"LinearAxis\"}],\"left\":[{\"id\":\"73d4f4d8-f920-4edc-badc-422ff20c95a2\",\"type\":\"LogAxis\"}],\"plot_width\":300,\"renderers\":[{\"id\":\"bf716aaa-5623-46ea-95b8-f94411fb17b3\",\"type\":\"LinearAxis\"},{\"id\":\"f3a79151-fb6d-429e-94dd-045cfd432aed\",\"type\":\"Grid\"},{\"id\":\"73d4f4d8-f920-4edc-badc-422ff20c95a2\",\"type\":\"LogAxis\"},{\"id\":\"541bc1f3-3aa1-49a6-b9eb-62c7687e4c90\",\"type\":\"Grid\"},{\"id\":\"ea2d21b0-664a-476d-bd57-7c964be0ba56\",\"type\":\"BoxAnnotation\"},{\"id\":\"7aa0a9ea-9cae-43d2-a7ac-fe3e1c1b5d42\",\"type\":\"GlyphRenderer\"},{\"id\":\"aab3e840-ce68-4ef5-bb37-5fc6b4098d38\",\"type\":\"GlyphRenderer\"},{\"id\":\"24dfbe62-d694-4b08-80b0-9e982abb30f0\",\"type\":\"Legend\"}],\"title\":{\"id\":\"0de229cb-492b-4c5a-8c85-88782568c021\",\"type\":\"Title\"},\"toolbar\":{\"id\":\"5a9a3609-32bb-421e-9ddf-ae61a3737aab\",\"type\":\"Toolbar\"},\"toolbar_location\":null,\"x_range\":{\"id\":\"8122f77b-4722-4a76-b477-c8418e1e324c\",\"type\":\"Range1d\"},\"x_scale\":{\"id\":\"8ef8328c-3ebc-4819-b029-6fcd63a8e600\",\"type\":\"LinearScale\"},\"y_range\":{\"id\":\"9742a020-a394-47fd-ba04-5dae5977e4ac\",\"type\":\"Range1d\"},\"y_scale\":{\"id\":\"d862e687-b164-41bb-b126-39415b4a487c\",\"type\":\"LogScale\"}},\"id\":\"303b2469-04a9-4feb-86aa-31791c9ef37e\",\"subtype\":\"Figure\",\"type\":\"Plot\"}],\"root_ids\":[\"030e8eb7-e184-44ea-aecb-56900d042b06\"]},\"title\":\"Bokeh Application\",\"version\":\"0.12.16\"}};\n",
       "  var render_items = [{\"docid\":\"b4b8124d-00c1-47bc-8515-ed127d3a468d\",\"elementid\":\"cf712279-6648-4971-8b68-696d57161600\",\"modelid\":\"030e8eb7-e184-44ea-aecb-56900d042b06\"}];\n",
       "  root.Bokeh.embed.embed_items_notebook(docs_json, render_items);\n",
       "\n",
       "  }\n",
       "  if (root.Bokeh !== undefined) {\n",
       "    embed_document(root);\n",
       "  } else {\n",
       "    var attempts = 0;\n",
       "    var timer = setInterval(function(root) {\n",
       "      if (root.Bokeh !== undefined) {\n",
       "        embed_document(root);\n",
       "        clearInterval(timer);\n",
       "      }\n",
       "      attempts++;\n",
       "      if (attempts > 100) {\n",
       "        console.log(\"Bokeh: ERROR: Unable to run BokehJS code because BokehJS library is missing\")\n",
       "        clearInterval(timer);\n",
       "      }\n",
       "    }, 10, root)\n",
       "  }\n",
       "})(window);"
      ],
      "application/vnd.bokehjs_exec.v0+json": ""
     },
     "metadata": {
      "application/vnd.bokehjs_exec.v0+json": {
       "id": "030e8eb7-e184-44ea-aecb-56900d042b06"
      }
     },
     "output_type": "display_data"
    },
    {
     "data": {
      "text/markdown": [
       "*FIGURE.* Cooling rates & difference."
      ],
      "text/plain": [
       "<IPython.core.display.Markdown object>"
      ]
     },
     "metadata": {},
     "output_type": "display_data"
    },
    {
     "data": {
      "text/html": [
       "<a id=\"Fluxes._saw.\"></a>"
      ],
      "text/plain": [
       "<IPython.core.display.HTML object>"
      ]
     },
     "metadata": {},
     "output_type": "display_data"
    },
    {
     "data": {
      "text/markdown": [
       "# Fluxes. saw."
      ],
      "text/plain": [
       "<IPython.core.display.Markdown object>"
      ]
     },
     "metadata": {},
     "output_type": "display_data"
    },
    {
     "data": {
      "text/html": [
       "\n",
       "<div class=\"bk-root\">\n",
       "    <div class=\"bk-plotdiv\" id=\"5ccde80a-b737-4196-b62f-632a7d0d6f00\"></div>\n",
       "</div>"
      ]
     },
     "metadata": {},
     "output_type": "display_data"
    },
    {
     "data": {
      "application/javascript": [
       "(function(root) {\n",
       "  function embed_document(root) {\n",
       "    \n",
       "  var docs_json = {\"8034ddfd-ec2e-44e4-be3e-ba39e3ff00c0\":{\"roots\":{\"references\":[{\"attributes\":{\"axis_label\":\"flux (W m-2)\",\"formatter\":{\"id\":\"2d2e86c3-9bde-45c6-8ebb-68429dfe044e\",\"type\":\"BasicTickFormatter\"},\"plot\":{\"id\":\"c01394e3-46ea-4962-aebe-2238c10e9ac4\",\"subtype\":\"Figure\",\"type\":\"Plot\"},\"ticker\":{\"id\":\"9cfc52a0-90f7-4d80-bd76-975a91ad98ec\",\"type\":\"BasicTicker\"}},\"id\":\"25039811-0fbd-4283-a5df-a99b2778b117\",\"type\":\"LinearAxis\"},{\"attributes\":{},\"id\":\"d818c795-8071-4490-b878-f7fb4736f56f\",\"type\":\"HelpTool\"},{\"attributes\":{\"source\":{\"id\":\"eb37289f-e057-45bf-8363-d2384f1f5635\",\"type\":\"ColumnDataSource\"}},\"id\":\"f16b5416-eb92-4822-a55d-5d07de071c20\",\"type\":\"CDSView\"},{\"attributes\":{},\"id\":\"30cf521f-cd8b-4bea-9bb7-1423a980b3a2\",\"type\":\"CategoricalTickFormatter\"},{\"attributes\":{},\"id\":\"fea840ee-d26f-4b80-8785-ebb5df74ad7c\",\"type\":\"UnionRenderers\"},{\"attributes\":{\"below\":[{\"id\":\"42b349be-5660-457a-a9b7-d9b7252935cc\",\"type\":\"CategoricalAxis\"}],\"left\":[{\"id\":\"bf6c0c31-e8f8-4f3c-bd8a-f50679dd92d3\",\"type\":\"LinearAxis\"}],\"plot_height\":300,\"plot_width\":300,\"renderers\":[{\"id\":\"42b349be-5660-457a-a9b7-d9b7252935cc\",\"type\":\"CategoricalAxis\"},{\"id\":\"f0949ea3-6604-4cc9-bb20-56ec56b3c9fd\",\"type\":\"Grid\"},{\"id\":\"bf6c0c31-e8f8-4f3c-bd8a-f50679dd92d3\",\"type\":\"LinearAxis\"},{\"id\":\"55b729e1-f598-4321-bb6c-fc5759b2598d\",\"type\":\"Grid\"},{\"id\":\"e2ab7573-5fb9-49c6-a1bc-587605b34856\",\"type\":\"BoxAnnotation\"},{\"id\":\"bfd76f0a-ad97-40c8-8bde-861c72c85f54\",\"type\":\"GlyphRenderer\"}],\"title\":{\"id\":\"ce034c3a-44f5-4539-a936-1d347030cfe8\",\"type\":\"Title\"},\"toolbar\":{\"id\":\"8ebd49f3-0db2-40c4-b446-898270c3960d\",\"type\":\"Toolbar\"},\"toolbar_location\":null,\"x_range\":{\"id\":\"24e3c966-8e1e-45ff-8a06-ba6131191d22\",\"type\":\"FactorRange\"},\"x_scale\":{\"id\":\"fd3cd154-07e4-494e-9f77-0a6edd927c6d\",\"type\":\"CategoricalScale\"},\"y_range\":{\"id\":\"92ad8058-41f6-49ae-9aa2-26df6938f611\",\"type\":\"DataRange1d\"},\"y_scale\":{\"id\":\"4410864a-7e81-405b-93a7-78275bb5c6ff\",\"type\":\"LinearScale\"}},\"id\":\"8f6e652b-f109-4aa7-bd9f-903654bc6d92\",\"subtype\":\"Figure\",\"type\":\"Plot\"},{\"attributes\":{\"plot\":{\"id\":\"c01394e3-46ea-4962-aebe-2238c10e9ac4\",\"subtype\":\"Figure\",\"type\":\"Plot\"},\"ticker\":{\"id\":\"51947bef-c632-4448-902f-271964002325\",\"type\":\"CategoricalTicker\"}},\"id\":\"dcb98144-65b0-4954-964e-9a1b58b9b4cb\",\"type\":\"Grid\"},{\"attributes\":{},\"id\":\"58be6944-6d02-4939-a8fe-bb37f52509ba\",\"type\":\"Selection\"},{\"attributes\":{\"toolbar\":{\"id\":\"58606ff0-f003-4955-a1e6-dedd9cb42a72\",\"type\":\"ProxyToolbar\"},\"toolbar_location\":\"above\"},\"id\":\"bd35ef9f-98e5-4beb-aa46-f041436495a9\",\"type\":\"ToolbarBox\"},{\"attributes\":{},\"id\":\"4b3fe825-3ce4-4324-832d-e918616c54c1\",\"type\":\"Selection\"},{\"attributes\":{},\"id\":\"8c84df0a-d7f4-4c50-9504-678b4e1b124a\",\"type\":\"UnionRenderers\"},{\"attributes\":{\"tools\":[{\"id\":\"c2e6cc54-3222-4b6c-86bc-b07ae2e6701f\",\"type\":\"PanTool\"},{\"id\":\"1ed0104a-de83-494c-85ae-e1bce72e9f3d\",\"type\":\"WheelZoomTool\"},{\"id\":\"626b339e-4a3e-4c22-8e08-935e04b29afe\",\"type\":\"BoxZoomTool\"},{\"id\":\"2cdc5a3b-0e8f-4282-9bbd-d9332a07cad7\",\"type\":\"SaveTool\"},{\"id\":\"2714a983-7e3c-40d0-a733-1be530d41ec3\",\"type\":\"ResetTool\"},{\"id\":\"d818c795-8071-4490-b878-f7fb4736f56f\",\"type\":\"HelpTool\"},{\"id\":\"e1a9b283-f248-421b-bc0a-8a5153d59bc0\",\"type\":\"PanTool\"},{\"id\":\"08a7f911-5137-471a-832c-970ee976fe8d\",\"type\":\"WheelZoomTool\"},{\"id\":\"cf30c5d6-635a-4a88-8ae4-159121334960\",\"type\":\"BoxZoomTool\"},{\"id\":\"1283d095-89a4-451e-b5ab-de5f571818d6\",\"type\":\"SaveTool\"},{\"id\":\"9a4247b4-f144-490b-b73d-cbe01ad4ac43\",\"type\":\"ResetTool\"},{\"id\":\"8c627de9-5f38-46ba-b23c-bfea3c82c9df\",\"type\":\"HelpTool\"},{\"id\":\"83e479a6-7b5f-44c0-9a8c-07a7ad9ec290\",\"type\":\"PanTool\"},{\"id\":\"f2f70eb0-10f4-4005-a5b3-346a8dad02e4\",\"type\":\"WheelZoomTool\"},{\"id\":\"416de039-18db-4a7d-b7e4-89c45673f33c\",\"type\":\"BoxZoomTool\"},{\"id\":\"1150043f-95ab-4d5f-b08d-f76815f75e1e\",\"type\":\"SaveTool\"},{\"id\":\"e22b1422-e589-4478-b294-3494ca4875d8\",\"type\":\"ResetTool\"},{\"id\":\"3de05041-947f-4904-913d-604f42e4b4f4\",\"type\":\"HelpTool\"}]},\"id\":\"58606ff0-f003-4955-a1e6-dedd9cb42a72\",\"type\":\"ProxyToolbar\"},{\"attributes\":{\"fill_color\":{\"value\":\"#1f77b4\"},\"line_color\":{\"value\":\"#1f77b4\"},\"top\":{\"field\":\"flux\"},\"width\":{\"value\":0.9},\"x\":{\"field\":\"band\"}},\"id\":\"52d0a202-c0be-4f9c-8259-cb0cbc9094ab\",\"type\":\"VBar\"},{\"attributes\":{\"children\":[{\"id\":\"bd35ef9f-98e5-4beb-aa46-f041436495a9\",\"type\":\"ToolbarBox\"},{\"id\":\"ed1a3530-5c02-42d1-9444-af306046d025\",\"type\":\"Column\"}]},\"id\":\"a63713e2-5860-4af7-9180-a440ccf2190f\",\"type\":\"Column\"},{\"attributes\":{\"overlay\":{\"id\":\"d2752da5-d1be-4fba-bc76-394c52071a62\",\"type\":\"BoxAnnotation\"}},\"id\":\"626b339e-4a3e-4c22-8e08-935e04b29afe\",\"type\":\"BoxZoomTool\"},{\"attributes\":{},\"id\":\"2d2e86c3-9bde-45c6-8ebb-68429dfe044e\",\"type\":\"BasicTickFormatter\"},{\"attributes\":{\"axis_label\":\"spectral band\",\"formatter\":{\"id\":\"e0b063ac-d221-4539-83a0-a2caced6552c\",\"type\":\"CategoricalTickFormatter\"},\"plot\":{\"id\":\"c01394e3-46ea-4962-aebe-2238c10e9ac4\",\"subtype\":\"Figure\",\"type\":\"Plot\"},\"ticker\":{\"id\":\"51947bef-c632-4448-902f-271964002325\",\"type\":\"CategoricalTicker\"}},\"id\":\"b9a8abb3-420c-41ab-9798-997af7755ffc\",\"type\":\"CategoricalAxis\"},{\"attributes\":{},\"id\":\"c2e6cc54-3222-4b6c-86bc-b07ae2e6701f\",\"type\":\"PanTool\"},{\"attributes\":{\"bottom_units\":\"screen\",\"fill_alpha\":{\"value\":0.5},\"fill_color\":{\"value\":\"lightgrey\"},\"left_units\":\"screen\",\"level\":\"overlay\",\"line_alpha\":{\"value\":1.0},\"line_color\":{\"value\":\"black\"},\"line_dash\":[4,4],\"line_width\":{\"value\":2},\"plot\":null,\"render_mode\":\"css\",\"right_units\":\"screen\",\"top_units\":\"screen\"},\"id\":\"d2752da5-d1be-4fba-bc76-394c52071a62\",\"type\":\"BoxAnnotation\"},{\"attributes\":{\"dimension\":1,\"plot\":{\"id\":\"c01394e3-46ea-4962-aebe-2238c10e9ac4\",\"subtype\":\"Figure\",\"type\":\"Plot\"},\"ticker\":{\"id\":\"9cfc52a0-90f7-4d80-bd76-975a91ad98ec\",\"type\":\"BasicTicker\"}},\"id\":\"1971ed51-7c9a-4c43-b6e7-0f4d815b883c\",\"type\":\"Grid\"},{\"attributes\":{},\"id\":\"a47683c3-6867-40e3-88a9-827a0d8721fd\",\"type\":\"CategoricalScale\"},{\"attributes\":{},\"id\":\"ac7b4835-9d73-4389-bc9f-4b83acedceba\",\"type\":\"LinearScale\"},{\"attributes\":{},\"id\":\"1282e898-528c-4b26-a261-3ad9626f42b3\",\"type\":\"BasicTickFormatter\"},{\"attributes\":{},\"id\":\"8332bfff-9e9b-4cc1-9ab0-8a27b660cb3f\",\"type\":\"UnionRenderers\"},{\"attributes\":{\"plot\":null,\"text\":\"TOA flux. CLIRAD (single-run) - CRD.\"},\"id\":\"f0269651-e410-4da6-b6a1-ef30aa776540\",\"type\":\"Title\"},{\"attributes\":{},\"id\":\"1ed0104a-de83-494c-85ae-e1bce72e9f3d\",\"type\":\"WheelZoomTool\"},{\"attributes\":{},\"id\":\"2cdc5a3b-0e8f-4282-9bbd-d9332a07cad7\",\"type\":\"SaveTool\"},{\"attributes\":{\"callback\":null,\"factors\":[\"1\",\"2\",\"3\",\"4\",\"5\",\"6\",\"7\",\"8\",\"9\",\"10\",\"11\"]},\"id\":\"50559cc4-a091-408d-be62-90f839ea74d1\",\"type\":\"FactorRange\"},{\"attributes\":{\"active_drag\":\"auto\",\"active_inspect\":\"auto\",\"active_scroll\":\"auto\",\"active_tap\":\"auto\",\"tools\":[{\"id\":\"c2e6cc54-3222-4b6c-86bc-b07ae2e6701f\",\"type\":\"PanTool\"},{\"id\":\"1ed0104a-de83-494c-85ae-e1bce72e9f3d\",\"type\":\"WheelZoomTool\"},{\"id\":\"626b339e-4a3e-4c22-8e08-935e04b29afe\",\"type\":\"BoxZoomTool\"},{\"id\":\"2cdc5a3b-0e8f-4282-9bbd-d9332a07cad7\",\"type\":\"SaveTool\"},{\"id\":\"2714a983-7e3c-40d0-a733-1be530d41ec3\",\"type\":\"ResetTool\"},{\"id\":\"d818c795-8071-4490-b878-f7fb4736f56f\",\"type\":\"HelpTool\"}]},\"id\":\"f07cc70c-8690-42a8-a243-64d941d222d9\",\"type\":\"Toolbar\"},{\"attributes\":{},\"id\":\"3eb61f8c-1dba-4a7e-942e-8bb3c598a7a1\",\"type\":\"Selection\"},{\"attributes\":{},\"id\":\"51947bef-c632-4448-902f-271964002325\",\"type\":\"CategoricalTicker\"},{\"attributes\":{\"data_source\":{\"id\":\"eb37289f-e057-45bf-8363-d2384f1f5635\",\"type\":\"ColumnDataSource\"},\"glyph\":{\"id\":\"52d0a202-c0be-4f9c-8259-cb0cbc9094ab\",\"type\":\"VBar\"},\"hover_glyph\":null,\"muted_glyph\":null,\"nonselection_glyph\":{\"id\":\"b6b54cee-6fdb-40ee-bfd4-d6fc7e99882c\",\"type\":\"VBar\"},\"selection_glyph\":null,\"view\":{\"id\":\"f16b5416-eb92-4822-a55d-5d07de071c20\",\"type\":\"CDSView\"}},\"id\":\"fe9af76c-521a-45af-93e2-5aa91715729b\",\"type\":\"GlyphRenderer\"},{\"attributes\":{},\"id\":\"2714a983-7e3c-40d0-a733-1be530d41ec3\",\"type\":\"ResetTool\"},{\"attributes\":{},\"id\":\"9cfc52a0-90f7-4d80-bd76-975a91ad98ec\",\"type\":\"BasicTicker\"},{\"attributes\":{\"callback\":null},\"id\":\"de0f39c2-cc4e-40fe-96c1-3afffd808751\",\"type\":\"DataRange1d\"},{\"attributes\":{\"fill_alpha\":{\"value\":0.1},\"fill_color\":{\"value\":\"#1f77b4\"},\"line_alpha\":{\"value\":0.1},\"line_color\":{\"value\":\"#1f77b4\"},\"top\":{\"field\":\"flux\"},\"width\":{\"value\":0.9},\"x\":{\"field\":\"band\"}},\"id\":\"b6b54cee-6fdb-40ee-bfd4-d6fc7e99882c\",\"type\":\"VBar\"},{\"attributes\":{\"plot\":{\"id\":\"8f6e652b-f109-4aa7-bd9f-903654bc6d92\",\"subtype\":\"Figure\",\"type\":\"Plot\"},\"ticker\":{\"id\":\"89af0279-41f5-4159-8fd0-fba484a22af5\",\"type\":\"CategoricalTicker\"}},\"id\":\"f0949ea3-6604-4cc9-bb20-56ec56b3c9fd\",\"type\":\"Grid\"},{\"attributes\":{\"overlay\":{\"id\":\"e2ab7573-5fb9-49c6-a1bc-587605b34856\",\"type\":\"BoxAnnotation\"}},\"id\":\"416de039-18db-4a7d-b7e4-89c45673f33c\",\"type\":\"BoxZoomTool\"},{\"attributes\":{},\"id\":\"08a7f911-5137-471a-832c-970ee976fe8d\",\"type\":\"WheelZoomTool\"},{\"attributes\":{\"source\":{\"id\":\"2b9d8f18-c1ac-4e56-a5c8-340752d39ea1\",\"type\":\"ColumnDataSource\"}},\"id\":\"363df474-ecb2-4e5b-9908-94f2e071310b\",\"type\":\"CDSView\"},{\"attributes\":{\"children\":[{\"id\":\"930e2e4b-6254-4ed1-8154-9c810855fa51\",\"type\":\"Row\"}]},\"id\":\"ed1a3530-5c02-42d1-9444-af306046d025\",\"type\":\"Column\"},{\"attributes\":{\"axis_label\":\"flux (W m-2)\",\"formatter\":{\"id\":\"fb953f04-4b24-4950-96e1-b79ec547699c\",\"type\":\"BasicTickFormatter\"},\"plot\":{\"id\":\"8f6e652b-f109-4aa7-bd9f-903654bc6d92\",\"subtype\":\"Figure\",\"type\":\"Plot\"},\"ticker\":{\"id\":\"72ae9c39-275d-4f26-a6d0-1eaf9398afcf\",\"type\":\"BasicTicker\"}},\"id\":\"bf6c0c31-e8f8-4f3c-bd8a-f50679dd92d3\",\"type\":\"LinearAxis\"},{\"attributes\":{\"data_source\":{\"id\":\"68539a2d-2114-4fd2-bb8f-462da7d6142d\",\"type\":\"ColumnDataSource\"},\"glyph\":{\"id\":\"23ad7705-46da-4f6e-b8bf-0238872f8e4b\",\"type\":\"VBar\"},\"hover_glyph\":null,\"muted_glyph\":null,\"nonselection_glyph\":{\"id\":\"33622665-61a4-4af7-9ca1-e64a0b1a12f7\",\"type\":\"VBar\"},\"selection_glyph\":null,\"view\":{\"id\":\"0a5ed51b-c537-44ee-ad0e-18fab996e671\",\"type\":\"CDSView\"}},\"id\":\"68e12c07-bd0b-4a87-83fb-ab554f47e2af\",\"type\":\"GlyphRenderer\"},{\"attributes\":{\"dimension\":1,\"plot\":{\"id\":\"8f6e652b-f109-4aa7-bd9f-903654bc6d92\",\"subtype\":\"Figure\",\"type\":\"Plot\"},\"ticker\":{\"id\":\"72ae9c39-275d-4f26-a6d0-1eaf9398afcf\",\"type\":\"BasicTicker\"}},\"id\":\"55b729e1-f598-4321-bb6c-fc5759b2598d\",\"type\":\"Grid\"},{\"attributes\":{},\"id\":\"4410864a-7e81-405b-93a7-78275bb5c6ff\",\"type\":\"LinearScale\"},{\"attributes\":{},\"id\":\"e22b1422-e589-4478-b294-3494ca4875d8\",\"type\":\"ResetTool\"},{\"attributes\":{\"fill_alpha\":{\"value\":0.1},\"fill_color\":{\"value\":\"#1f77b4\"},\"line_alpha\":{\"value\":0.1},\"line_color\":{\"value\":\"#1f77b4\"},\"top\":{\"field\":\"flux\"},\"width\":{\"value\":0.9},\"x\":{\"field\":\"band\"}},\"id\":\"5510d631-594c-463f-a73b-7a4e54ee97be\",\"type\":\"VBar\"},{\"attributes\":{\"fill_color\":{\"value\":\"#1f77b4\"},\"line_color\":{\"value\":\"#1f77b4\"},\"top\":{\"field\":\"flux\"},\"width\":{\"value\":0.9},\"x\":{\"field\":\"band\"}},\"id\":\"23ad7705-46da-4f6e-b8bf-0238872f8e4b\",\"type\":\"VBar\"},{\"attributes\":{},\"id\":\"72ae9c39-275d-4f26-a6d0-1eaf9398afcf\",\"type\":\"BasicTicker\"},{\"attributes\":{},\"id\":\"3de05041-947f-4904-913d-604f42e4b4f4\",\"type\":\"HelpTool\"},{\"attributes\":{},\"id\":\"83e479a6-7b5f-44c0-9a8c-07a7ad9ec290\",\"type\":\"PanTool\"},{\"attributes\":{\"callback\":null},\"id\":\"b605e1c6-bb8e-4787-817f-5f087eef1c2e\",\"type\":\"DataRange1d\"},{\"attributes\":{\"fill_color\":{\"value\":\"#1f77b4\"},\"line_color\":{\"value\":\"#1f77b4\"},\"top\":{\"field\":\"flux\"},\"width\":{\"value\":0.9},\"x\":{\"field\":\"band\"}},\"id\":\"1b3ef68f-3e07-4731-b003-5ce16e2663d7\",\"type\":\"VBar\"},{\"attributes\":{\"below\":[{\"id\":\"518cea83-6039-41d3-a057-d860b259cf35\",\"type\":\"CategoricalAxis\"}],\"left\":[{\"id\":\"f19ac0fc-699e-4485-927b-8d863f2f3d5d\",\"type\":\"LinearAxis\"}],\"plot_height\":300,\"plot_width\":300,\"renderers\":[{\"id\":\"518cea83-6039-41d3-a057-d860b259cf35\",\"type\":\"CategoricalAxis\"},{\"id\":\"272a21e1-b845-4468-90cb-bc43f570737e\",\"type\":\"Grid\"},{\"id\":\"f19ac0fc-699e-4485-927b-8d863f2f3d5d\",\"type\":\"LinearAxis\"},{\"id\":\"efde77f6-75b7-429a-925d-b840f082665d\",\"type\":\"Grid\"},{\"id\":\"0fc273db-aa83-44fd-a255-1ce4eef79e5a\",\"type\":\"BoxAnnotation\"},{\"id\":\"68e12c07-bd0b-4a87-83fb-ab554f47e2af\",\"type\":\"GlyphRenderer\"}],\"title\":{\"id\":\"0d7115d7-432c-4ee8-a9ca-3c6e3976e8b8\",\"type\":\"Title\"},\"toolbar\":{\"id\":\"b0b2b562-734b-468e-b417-3d2cd233fc87\",\"type\":\"Toolbar\"},\"toolbar_location\":null,\"x_range\":{\"id\":\"5244c9a8-db41-48ca-946c-705af72060d1\",\"type\":\"FactorRange\"},\"x_scale\":{\"id\":\"f0b3613a-91d4-45af-bcc3-dad6462a6b27\",\"type\":\"CategoricalScale\"},\"y_range\":{\"id\":\"b605e1c6-bb8e-4787-817f-5f087eef1c2e\",\"type\":\"DataRange1d\"},\"y_scale\":{\"id\":\"a6f9838f-2eb2-4090-9048-dd83b8aa78c9\",\"type\":\"LinearScale\"}},\"id\":\"27397388-1906-427f-9fab-8369a6780ce6\",\"subtype\":\"Figure\",\"type\":\"Plot\"},{\"attributes\":{},\"id\":\"c6703c95-85e5-46bc-bbd2-0539bef413ae\",\"type\":\"BasicTicker\"},{\"attributes\":{\"axis_label\":\"spectral band\",\"formatter\":{\"id\":\"9476b73a-7398-494b-b655-6ef3e0ad5b52\",\"type\":\"CategoricalTickFormatter\"},\"plot\":{\"id\":\"8f6e652b-f109-4aa7-bd9f-903654bc6d92\",\"subtype\":\"Figure\",\"type\":\"Plot\"},\"ticker\":{\"id\":\"89af0279-41f5-4159-8fd0-fba484a22af5\",\"type\":\"CategoricalTicker\"}},\"id\":\"42b349be-5660-457a-a9b7-d9b7252935cc\",\"type\":\"CategoricalAxis\"},{\"attributes\":{\"plot\":null,\"text\":\"SFC flux. CLIRAD (single-run) - CRD.\"},\"id\":\"0d7115d7-432c-4ee8-a9ca-3c6e3976e8b8\",\"type\":\"Title\"},{\"attributes\":{\"below\":[{\"id\":\"b9a8abb3-420c-41ab-9798-997af7755ffc\",\"type\":\"CategoricalAxis\"}],\"left\":[{\"id\":\"25039811-0fbd-4283-a5df-a99b2778b117\",\"type\":\"LinearAxis\"}],\"plot_height\":300,\"plot_width\":300,\"renderers\":[{\"id\":\"b9a8abb3-420c-41ab-9798-997af7755ffc\",\"type\":\"CategoricalAxis\"},{\"id\":\"dcb98144-65b0-4954-964e-9a1b58b9b4cb\",\"type\":\"Grid\"},{\"id\":\"25039811-0fbd-4283-a5df-a99b2778b117\",\"type\":\"LinearAxis\"},{\"id\":\"1971ed51-7c9a-4c43-b6e7-0f4d815b883c\",\"type\":\"Grid\"},{\"id\":\"d2752da5-d1be-4fba-bc76-394c52071a62\",\"type\":\"BoxAnnotation\"},{\"id\":\"fe9af76c-521a-45af-93e2-5aa91715729b\",\"type\":\"GlyphRenderer\"}],\"title\":{\"id\":\"f0269651-e410-4da6-b6a1-ef30aa776540\",\"type\":\"Title\"},\"toolbar\":{\"id\":\"f07cc70c-8690-42a8-a243-64d941d222d9\",\"type\":\"Toolbar\"},\"toolbar_location\":null,\"x_range\":{\"id\":\"50559cc4-a091-408d-be62-90f839ea74d1\",\"type\":\"FactorRange\"},\"x_scale\":{\"id\":\"a47683c3-6867-40e3-88a9-827a0d8721fd\",\"type\":\"CategoricalScale\"},\"y_range\":{\"id\":\"de0f39c2-cc4e-40fe-96c1-3afffd808751\",\"type\":\"DataRange1d\"},\"y_scale\":{\"id\":\"ac7b4835-9d73-4389-bc9f-4b83acedceba\",\"type\":\"LinearScale\"}},\"id\":\"c01394e3-46ea-4962-aebe-2238c10e9ac4\",\"subtype\":\"Figure\",\"type\":\"Plot\"},{\"attributes\":{},\"id\":\"a6f9838f-2eb2-4090-9048-dd83b8aa78c9\",\"type\":\"LinearScale\"},{\"attributes\":{},\"id\":\"8c627de9-5f38-46ba-b23c-bfea3c82c9df\",\"type\":\"HelpTool\"},{\"attributes\":{},\"id\":\"a689a2b2-4a18-4431-a7e7-d4f4d5472e60\",\"type\":\"CategoricalTicker\"},{\"attributes\":{\"children\":[{\"id\":\"c01394e3-46ea-4962-aebe-2238c10e9ac4\",\"subtype\":\"Figure\",\"type\":\"Plot\"},{\"id\":\"27397388-1906-427f-9fab-8369a6780ce6\",\"subtype\":\"Figure\",\"type\":\"Plot\"},{\"id\":\"8f6e652b-f109-4aa7-bd9f-903654bc6d92\",\"subtype\":\"Figure\",\"type\":\"Plot\"}]},\"id\":\"930e2e4b-6254-4ed1-8154-9c810855fa51\",\"type\":\"Row\"},{\"attributes\":{\"data_source\":{\"id\":\"2b9d8f18-c1ac-4e56-a5c8-340752d39ea1\",\"type\":\"ColumnDataSource\"},\"glyph\":{\"id\":\"1b3ef68f-3e07-4731-b003-5ce16e2663d7\",\"type\":\"VBar\"},\"hover_glyph\":null,\"muted_glyph\":null,\"nonselection_glyph\":{\"id\":\"5510d631-594c-463f-a73b-7a4e54ee97be\",\"type\":\"VBar\"},\"selection_glyph\":null,\"view\":{\"id\":\"363df474-ecb2-4e5b-9908-94f2e071310b\",\"type\":\"CDSView\"}},\"id\":\"bfd76f0a-ad97-40c8-8bde-861c72c85f54\",\"type\":\"GlyphRenderer\"},{\"attributes\":{},\"id\":\"fb953f04-4b24-4950-96e1-b79ec547699c\",\"type\":\"BasicTickFormatter\"},{\"attributes\":{\"callback\":null,\"data\":{\"band\":[\"1\",\"2\",\"3\",\"4\",\"5\",\"6\",\"7\",\"8\",\"9\",\"10\",\"11\"],\"flux\":{\"__ndarray__\":\"AEDdJAaBZb8Asg5HV+nAv4DgnBGlveC/AOp+TkF+tj8AHbkkvV7IPyB+nlCZrLm/AD0w26kUsD/ga9jnGC20vwAmr84xIJM/AJDEy9O5oj8A+eRZMI5tPw==\",\"dtype\":\"float64\",\"shape\":[11]}},\"selected\":{\"id\":\"58be6944-6d02-4939-a8fe-bb37f52509ba\",\"type\":\"Selection\"},\"selection_policy\":{\"id\":\"8c84df0a-d7f4-4c50-9504-678b4e1b124a\",\"type\":\"UnionRenderers\"}},\"id\":\"68539a2d-2114-4fd2-bb8f-462da7d6142d\",\"type\":\"ColumnDataSource\"},{\"attributes\":{\"active_drag\":\"auto\",\"active_inspect\":\"auto\",\"active_scroll\":\"auto\",\"active_tap\":\"auto\",\"tools\":[{\"id\":\"e1a9b283-f248-421b-bc0a-8a5153d59bc0\",\"type\":\"PanTool\"},{\"id\":\"08a7f911-5137-471a-832c-970ee976fe8d\",\"type\":\"WheelZoomTool\"},{\"id\":\"cf30c5d6-635a-4a88-8ae4-159121334960\",\"type\":\"BoxZoomTool\"},{\"id\":\"1283d095-89a4-451e-b5ab-de5f571818d6\",\"type\":\"SaveTool\"},{\"id\":\"9a4247b4-f144-490b-b73d-cbe01ad4ac43\",\"type\":\"ResetTool\"},{\"id\":\"8c627de9-5f38-46ba-b23c-bfea3c82c9df\",\"type\":\"HelpTool\"}]},\"id\":\"b0b2b562-734b-468e-b417-3d2cd233fc87\",\"type\":\"Toolbar\"},{\"attributes\":{},\"id\":\"f2f70eb0-10f4-4005-a5b3-346a8dad02e4\",\"type\":\"WheelZoomTool\"},{\"attributes\":{},\"id\":\"f0b3613a-91d4-45af-bcc3-dad6462a6b27\",\"type\":\"CategoricalScale\"},{\"attributes\":{\"bottom_units\":\"screen\",\"fill_alpha\":{\"value\":0.5},\"fill_color\":{\"value\":\"lightgrey\"},\"left_units\":\"screen\",\"level\":\"overlay\",\"line_alpha\":{\"value\":1.0},\"line_color\":{\"value\":\"black\"},\"line_dash\":[4,4],\"line_width\":{\"value\":2},\"plot\":null,\"render_mode\":\"css\",\"right_units\":\"screen\",\"top_units\":\"screen\"},\"id\":\"e2ab7573-5fb9-49c6-a1bc-587605b34856\",\"type\":\"BoxAnnotation\"},{\"attributes\":{\"axis_label\":\"flux (W m-2)\",\"formatter\":{\"id\":\"1282e898-528c-4b26-a261-3ad9626f42b3\",\"type\":\"BasicTickFormatter\"},\"plot\":{\"id\":\"27397388-1906-427f-9fab-8369a6780ce6\",\"subtype\":\"Figure\",\"type\":\"Plot\"},\"ticker\":{\"id\":\"c6703c95-85e5-46bc-bbd2-0539bef413ae\",\"type\":\"BasicTicker\"}},\"id\":\"f19ac0fc-699e-4485-927b-8d863f2f3d5d\",\"type\":\"LinearAxis\"},{\"attributes\":{},\"id\":\"9476b73a-7398-494b-b655-6ef3e0ad5b52\",\"type\":\"CategoricalTickFormatter\"},{\"attributes\":{\"source\":{\"id\":\"68539a2d-2114-4fd2-bb8f-462da7d6142d\",\"type\":\"ColumnDataSource\"}},\"id\":\"0a5ed51b-c537-44ee-ad0e-18fab996e671\",\"type\":\"CDSView\"},{\"attributes\":{\"bottom_units\":\"screen\",\"fill_alpha\":{\"value\":0.5},\"fill_color\":{\"value\":\"lightgrey\"},\"left_units\":\"screen\",\"level\":\"overlay\",\"line_alpha\":{\"value\":1.0},\"line_color\":{\"value\":\"black\"},\"line_dash\":[4,4],\"line_width\":{\"value\":2},\"plot\":null,\"render_mode\":\"css\",\"right_units\":\"screen\",\"top_units\":\"screen\"},\"id\":\"0fc273db-aa83-44fd-a255-1ce4eef79e5a\",\"type\":\"BoxAnnotation\"},{\"attributes\":{\"callback\":null},\"id\":\"92ad8058-41f6-49ae-9aa2-26df6938f611\",\"type\":\"DataRange1d\"},{\"attributes\":{\"axis_label\":\"spectral band\",\"formatter\":{\"id\":\"30cf521f-cd8b-4bea-9bb7-1423a980b3a2\",\"type\":\"CategoricalTickFormatter\"},\"plot\":{\"id\":\"27397388-1906-427f-9fab-8369a6780ce6\",\"subtype\":\"Figure\",\"type\":\"Plot\"},\"ticker\":{\"id\":\"a689a2b2-4a18-4431-a7e7-d4f4d5472e60\",\"type\":\"CategoricalTicker\"}},\"id\":\"518cea83-6039-41d3-a057-d860b259cf35\",\"type\":\"CategoricalAxis\"},{\"attributes\":{},\"id\":\"fd3cd154-07e4-494e-9f77-0a6edd927c6d\",\"type\":\"CategoricalScale\"},{\"attributes\":{},\"id\":\"1283d095-89a4-451e-b5ab-de5f571818d6\",\"type\":\"SaveTool\"},{\"attributes\":{\"callback\":null,\"data\":{\"band\":[\"1\",\"2\",\"3\",\"4\",\"5\",\"6\",\"7\",\"8\",\"9\",\"10\",\"11\"],\"flux\":{\"__ndarray__\":\"gOIKWg6Vxz8AZUNIJ1zKP2BFireEstw/AGTOOK8fxj8A/fGoQk24vwBBZJEm3rU/wCMPRBZpzD+AUnx8QnawPwAooORpVIs/gEM6lz1kpb+Au8+vtRCPPw==\",\"dtype\":\"float64\",\"shape\":[11]}},\"selected\":{\"id\":\"4b3fe825-3ce4-4324-832d-e918616c54c1\",\"type\":\"Selection\"},\"selection_policy\":{\"id\":\"8332bfff-9e9b-4cc1-9ab0-8a27b660cb3f\",\"type\":\"UnionRenderers\"}},\"id\":\"2b9d8f18-c1ac-4e56-a5c8-340752d39ea1\",\"type\":\"ColumnDataSource\"},{\"attributes\":{\"overlay\":{\"id\":\"0fc273db-aa83-44fd-a255-1ce4eef79e5a\",\"type\":\"BoxAnnotation\"}},\"id\":\"cf30c5d6-635a-4a88-8ae4-159121334960\",\"type\":\"BoxZoomTool\"},{\"attributes\":{\"callback\":null,\"factors\":[\"1\",\"2\",\"3\",\"4\",\"5\",\"6\",\"7\",\"8\",\"9\",\"10\",\"11\"]},\"id\":\"24e3c966-8e1e-45ff-8a06-ba6131191d22\",\"type\":\"FactorRange\"},{\"attributes\":{\"callback\":null,\"data\":{\"band\":[\"1\",\"2\",\"3\",\"4\",\"5\",\"6\",\"7\",\"8\",\"9\",\"10\",\"11\"],\"flux\":{\"__ndarray__\":\"gGLUtfY+xz8ABgWlaOWyPwCnJVZGI7O/4NU5BmSv0D8AounsZHC4PwBAAg02dY6/QIl6wac50j8AHErtRbSNvwBDfBY6ZaA/AGgLdJJSdb9AysVzETqTPw==\",\"dtype\":\"float64\",\"shape\":[11]}},\"selected\":{\"id\":\"3eb61f8c-1dba-4a7e-942e-8bb3c598a7a1\",\"type\":\"Selection\"},\"selection_policy\":{\"id\":\"fea840ee-d26f-4b80-8785-ebb5df74ad7c\",\"type\":\"UnionRenderers\"}},\"id\":\"eb37289f-e057-45bf-8363-d2384f1f5635\",\"type\":\"ColumnDataSource\"},{\"attributes\":{\"active_drag\":\"auto\",\"active_inspect\":\"auto\",\"active_scroll\":\"auto\",\"active_tap\":\"auto\",\"tools\":[{\"id\":\"83e479a6-7b5f-44c0-9a8c-07a7ad9ec290\",\"type\":\"PanTool\"},{\"id\":\"f2f70eb0-10f4-4005-a5b3-346a8dad02e4\",\"type\":\"WheelZoomTool\"},{\"id\":\"416de039-18db-4a7d-b7e4-89c45673f33c\",\"type\":\"BoxZoomTool\"},{\"id\":\"1150043f-95ab-4d5f-b08d-f76815f75e1e\",\"type\":\"SaveTool\"},{\"id\":\"e22b1422-e589-4478-b294-3494ca4875d8\",\"type\":\"ResetTool\"},{\"id\":\"3de05041-947f-4904-913d-604f42e4b4f4\",\"type\":\"HelpTool\"}]},\"id\":\"8ebd49f3-0db2-40c4-b446-898270c3960d\",\"type\":\"Toolbar\"},{\"attributes\":{},\"id\":\"e0b063ac-d221-4539-83a0-a2caced6552c\",\"type\":\"CategoricalTickFormatter\"},{\"attributes\":{\"callback\":null,\"factors\":[\"1\",\"2\",\"3\",\"4\",\"5\",\"6\",\"7\",\"8\",\"9\",\"10\",\"11\"]},\"id\":\"5244c9a8-db41-48ca-946c-705af72060d1\",\"type\":\"FactorRange\"},{\"attributes\":{\"plot\":{\"id\":\"27397388-1906-427f-9fab-8369a6780ce6\",\"subtype\":\"Figure\",\"type\":\"Plot\"},\"ticker\":{\"id\":\"a689a2b2-4a18-4431-a7e7-d4f4d5472e60\",\"type\":\"CategoricalTicker\"}},\"id\":\"272a21e1-b845-4468-90cb-bc43f570737e\",\"type\":\"Grid\"},{\"attributes\":{\"dimension\":1,\"plot\":{\"id\":\"27397388-1906-427f-9fab-8369a6780ce6\",\"subtype\":\"Figure\",\"type\":\"Plot\"},\"ticker\":{\"id\":\"c6703c95-85e5-46bc-bbd2-0539bef413ae\",\"type\":\"BasicTicker\"}},\"id\":\"efde77f6-75b7-429a-925d-b840f082665d\",\"type\":\"Grid\"},{\"attributes\":{},\"id\":\"1150043f-95ab-4d5f-b08d-f76815f75e1e\",\"type\":\"SaveTool\"},{\"attributes\":{},\"id\":\"e1a9b283-f248-421b-bc0a-8a5153d59bc0\",\"type\":\"PanTool\"},{\"attributes\":{\"plot\":null,\"text\":\"Atmosphere heating. CLIRAD (single-run) - CRD.\"},\"id\":\"ce034c3a-44f5-4539-a936-1d347030cfe8\",\"type\":\"Title\"},{\"attributes\":{\"fill_alpha\":{\"value\":0.1},\"fill_color\":{\"value\":\"#1f77b4\"},\"line_alpha\":{\"value\":0.1},\"line_color\":{\"value\":\"#1f77b4\"},\"top\":{\"field\":\"flux\"},\"width\":{\"value\":0.9},\"x\":{\"field\":\"band\"}},\"id\":\"33622665-61a4-4af7-9ca1-e64a0b1a12f7\",\"type\":\"VBar\"},{\"attributes\":{},\"id\":\"89af0279-41f5-4159-8fd0-fba484a22af5\",\"type\":\"CategoricalTicker\"},{\"attributes\":{},\"id\":\"9a4247b4-f144-490b-b73d-cbe01ad4ac43\",\"type\":\"ResetTool\"}],\"root_ids\":[\"a63713e2-5860-4af7-9180-a440ccf2190f\"]},\"title\":\"Bokeh Application\",\"version\":\"0.12.16\"}};\n",
       "  var render_items = [{\"docid\":\"8034ddfd-ec2e-44e4-be3e-ba39e3ff00c0\",\"elementid\":\"5ccde80a-b737-4196-b62f-632a7d0d6f00\",\"modelid\":\"a63713e2-5860-4af7-9180-a440ccf2190f\"}];\n",
       "  root.Bokeh.embed.embed_items_notebook(docs_json, render_items);\n",
       "\n",
       "  }\n",
       "  if (root.Bokeh !== undefined) {\n",
       "    embed_document(root);\n",
       "  } else {\n",
       "    var attempts = 0;\n",
       "    var timer = setInterval(function(root) {\n",
       "      if (root.Bokeh !== undefined) {\n",
       "        embed_document(root);\n",
       "        clearInterval(timer);\n",
       "      }\n",
       "      attempts++;\n",
       "      if (attempts > 100) {\n",
       "        console.log(\"Bokeh: ERROR: Unable to run BokehJS code because BokehJS library is missing\")\n",
       "        clearInterval(timer);\n",
       "      }\n",
       "    }, 10, root)\n",
       "  }\n",
       "})(window);"
      ],
      "application/vnd.bokehjs_exec.v0+json": ""
     },
     "metadata": {
      "application/vnd.bokehjs_exec.v0+json": {
       "id": "a63713e2-5860-4af7-9180-a440ccf2190f"
      }
     },
     "output_type": "display_data"
    },
    {
     "data": {
      "text/markdown": [
       "*FIGURE.* Difference between CLIRAD and CRD in TOA, SFC and net atmosphere flux, in each spectral band."
      ],
      "text/plain": [
       "<IPython.core.display.Markdown object>"
      ]
     },
     "metadata": {},
     "output_type": "display_data"
    },
    {
     "data": {
      "text/html": [
       "<div>\n",
       "<style scoped>\n",
       "    .dataframe tbody tr th:only-of-type {\n",
       "        vertical-align: middle;\n",
       "    }\n",
       "\n",
       "    .dataframe tbody tr th {\n",
       "        vertical-align: top;\n",
       "    }\n",
       "\n",
       "    .dataframe thead th {\n",
       "        text-align: right;\n",
       "    }\n",
       "</style>\n",
       "<table border=\"1\" class=\"dataframe\">\n",
       "  <thead>\n",
       "    <tr style=\"text-align: right;\">\n",
       "      <th></th>\n",
       "      <th>OLR flux</th>\n",
       "      <th>SFC flux</th>\n",
       "      <th>ATM heating</th>\n",
       "    </tr>\n",
       "    <tr>\n",
       "      <th>Sum over bands</th>\n",
       "      <th></th>\n",
       "      <th></th>\n",
       "      <th></th>\n",
       "    </tr>\n",
       "  </thead>\n",
       "  <tbody>\n",
       "    <tr>\n",
       "      <th>CLIRAD (single-run) - CRD</th>\n",
       "      <td>0.84</td>\n",
       "      <td>-0.44</td>\n",
       "      <td>1.27</td>\n",
       "    </tr>\n",
       "    <tr>\n",
       "      <th>CRD</th>\n",
       "      <td>-201.06</td>\n",
       "      <td>166.03</td>\n",
       "      <td>-119.67</td>\n",
       "    </tr>\n",
       "  </tbody>\n",
       "</table>\n",
       "</div>"
      ],
      "text/plain": [
       "                           OLR flux  SFC flux  ATM heating\n",
       "Sum over bands                                            \n",
       "CLIRAD (single-run) - CRD      0.84     -0.44         1.27\n",
       "CRD                         -201.06    166.03      -119.67"
      ]
     },
     "metadata": {},
     "output_type": "display_data"
    },
    {
     "data": {
      "text/markdown": [
       "*TABLE.* Difference between CLIRAD and CRD in TOA, SFC and net atmosphere flux, over all spectral bands. CRD's TOA, SFC and net atmosphere flux, over all spectral bands."
      ],
      "text/plain": [
       "<IPython.core.display.Markdown object>"
      ]
     },
     "metadata": {},
     "output_type": "display_data"
    },
    {
     "data": {
      "text/html": [
       "<a id=\"Cooling_rates._trp.\"></a>"
      ],
      "text/plain": [
       "<IPython.core.display.HTML object>"
      ]
     },
     "metadata": {},
     "output_type": "display_data"
    },
    {
     "data": {
      "text/markdown": [
       "# Cooling rates. trp."
      ],
      "text/plain": [
       "<IPython.core.display.Markdown object>"
      ]
     },
     "metadata": {},
     "output_type": "display_data"
    },
    {
     "data": {
      "text/html": [
       "\n",
       "<div class=\"bk-root\">\n",
       "    <div class=\"bk-plotdiv\" id=\"8997f1ea-7830-4514-9ef3-f03c91b595ac\"></div>\n",
       "</div>"
      ]
     },
     "metadata": {},
     "output_type": "display_data"
    },
    {
     "data": {
      "application/javascript": [
       "(function(root) {\n",
       "  function embed_document(root) {\n",
       "    \n",
       "  var docs_json = {\"ce93f5b0-1df8-46c2-88a9-270513e97c77\":{\"roots\":{\"references\":[{\"attributes\":{\"active_drag\":\"auto\",\"active_inspect\":\"auto\",\"active_scroll\":\"auto\",\"active_tap\":\"auto\",\"tools\":[{\"id\":\"eba58558-f3fb-4d5a-8a6e-f1b706a223cb\",\"type\":\"PanTool\"},{\"id\":\"e0883920-e9f6-4012-81c2-3e6826c16a49\",\"type\":\"WheelZoomTool\"},{\"id\":\"cd6b1f73-0a28-4c85-8d1f-324f0108df6a\",\"type\":\"BoxZoomTool\"},{\"id\":\"b01b43fc-f9d0-4f5b-8d91-6438b211917b\",\"type\":\"SaveTool\"},{\"id\":\"52cb7914-b90f-4be7-bd33-4595856983a9\",\"type\":\"ResetTool\"},{\"id\":\"1b3c4302-c14a-4efb-88e2-5c695980ed0d\",\"type\":\"HelpTool\"}]},\"id\":\"948b29c0-e721-4aad-b05c-e838b61c0e3c\",\"type\":\"Toolbar\"},{\"attributes\":{\"children\":[{\"id\":\"c8eeb720-f31c-466e-93af-3f50c7f9e7d4\",\"type\":\"Row\"}]},\"id\":\"fc205c2a-d320-46e9-8b81-a7b1c9760d69\",\"type\":\"Column\"},{\"attributes\":{\"data_source\":{\"id\":\"688321fa-3a3b-43e6-894f-a81bd55fe62c\",\"type\":\"ColumnDataSource\"},\"glyph\":{\"id\":\"bbe32ce4-25bd-4af8-af6f-78760ef271f6\",\"type\":\"Line\"},\"hover_glyph\":null,\"muted_glyph\":null,\"nonselection_glyph\":{\"id\":\"4390d63f-f116-44bc-bffe-70084374fe6f\",\"type\":\"Line\"},\"selection_glyph\":null,\"view\":{\"id\":\"c6d168b3-20e4-4859-b892-1f628faf3654\",\"type\":\"CDSView\"}},\"id\":\"66595141-245c-4c19-b252-5fe89027ee14\",\"type\":\"GlyphRenderer\"},{\"attributes\":{\"line_color\":\"#4daf4a\",\"line_width\":1.5,\"x\":{\"field\":\"x\"},\"y\":{\"field\":\"y\"}},\"id\":\"bbe32ce4-25bd-4af8-af6f-78760ef271f6\",\"type\":\"Line\"},{\"attributes\":{},\"id\":\"3cdebc15-18cd-46f6-af84-652d84039371\",\"type\":\"HelpTool\"},{\"attributes\":{},\"id\":\"8528a530-a4ba-41a5-8b75-4db24068cda1\",\"type\":\"BasicTicker\"},{\"attributes\":{\"data_source\":{\"id\":\"4edeff5b-6dc1-4284-b9e3-20f2ecac9aa8\",\"type\":\"ColumnDataSource\"},\"glyph\":{\"id\":\"ff8c13c2-b193-4eb8-89a9-9115e1417eac\",\"type\":\"Circle\"},\"hover_glyph\":null,\"muted_glyph\":null,\"nonselection_glyph\":{\"id\":\"9db6b445-cbf8-483c-91d7-e67a48bea48e\",\"type\":\"Circle\"},\"selection_glyph\":null,\"view\":{\"id\":\"b74d810d-df08-42ea-bd3d-3e6d1691b678\",\"type\":\"CDSView\"}},\"id\":\"8dcb2d43-14de-48c6-a5d1-cccf51ed1734\",\"type\":\"GlyphRenderer\"},{\"attributes\":{\"source\":{\"id\":\"688321fa-3a3b-43e6-894f-a81bd55fe62c\",\"type\":\"ColumnDataSource\"}},\"id\":\"c6d168b3-20e4-4859-b892-1f628faf3654\",\"type\":\"CDSView\"},{\"attributes\":{\"axis_label\":\"cooling rate [K/day]\",\"formatter\":{\"id\":\"b6b4d316-d0dd-4441-8f00-dcb227f579d7\",\"type\":\"BasicTickFormatter\"},\"plot\":{\"id\":\"1d51e377-7abc-47d0-9375-6f78d1895176\",\"subtype\":\"Figure\",\"type\":\"Plot\"},\"ticker\":{\"id\":\"8528a530-a4ba-41a5-8b75-4db24068cda1\",\"type\":\"BasicTicker\"}},\"id\":\"71186a9a-3bd5-4bab-9356-1f20e0db2197\",\"type\":\"LinearAxis\"},{\"attributes\":{},\"id\":\"15777895-cef6-4b8f-806f-3837c5a0a207\",\"type\":\"Selection\"},{\"attributes\":{\"callback\":null,\"data\":{\"x\":{\"__ndarray__\":\"DeQvAqWDRUC2vvR4+NFCQFEufk1xs0FAFdxaonocQECUvvYnIxU8QEd87GIcKjdAcZtOv/voMUBSEHYa5gQqQF49jHZtSCJAPWz7AMGcGkAR4zeBKjoVQLhPyLcWBRJAGlKKyy2TDUBDCBYMLjADQFzLvEKy6P4/UqnR7eOrBUBZFzyuj0MMQI1XQNeznBBAs5t/wu3dE0CsKkuyIk4ZQOVhwU2QCyFAmOAeE7kBJ0CaOvPD0hgoQHghtjM4hCRAgTBntRonIUDfVB61o1UcQB5YXyB1WBhA2zqpMegrFEB+eJU1zsYPQIgDNAMfOwlATI17UtQ6BUCCTjVUPXkAQHRoE7wAsfQ/wUS1t3IK5j/gsxiK+PzQPzJtr288icG/lzqwY1uR3r+X1ohF1iDYvwRse39G8l6/bUIKpkRXxT+BzSruTK7YP/zSiWUju+w/6UZL/qe69j/qaWbOQtf9PxII4j/16wBAhF3YpsiEAUAeij5caUcCQPlB5bmoTAJAAM6oRJQWAUBMT+2PHYEAQM6LWOouTwBA+t0JMAsvAECkjmHkOwQAQOTl31ifnP8/O0gtp1Q//z+tgEc/Vgf/PzHLyvLWDf8/4JULMlVC/z9tJ6JDBmT/P2IT5UcGZf8/gcfTzDxM/z9a0afUc/r+P2ddXBC12P0/FjyHXdTJ/D8jxx3A8C/6P7BaYXIHnPc/GeQYlOPt9T9oetU/kn70P1sjhyoqxPM/T9sGPz+V8z+4Vmyt3q7zP4OB5G9UEfQ/56QuE+kD9T9sRTO3SLv2P4Ht+ODJpwFA\",\"dtype\":\"float64\",\"shape\":[75]},\"y\":{\"__ndarray__\":\"GhExyth1ND/Sv8nbtpRIP2vylNV0PVE/aTum7souWD/At0SJ8fVgPw3Iuahxymc/MSNhhJWvcD/bTfBN02d3P2zb5nxnaoA/CD5h5MAGhz8NmeH1TyaQP+zrCsc9p5Y/LbKd76fGnz/bLW5ISEmmPww9YvTcQq8/JV2OstnstT8Er5Y7M8G+P0c+r3jqkcU/5h99k6ZBzj88bCIzFzjVP4enV8oyxN0//yH99nXg5D8qOpLLf0jtP5kqGJXUifQ/c9cS8kHP/D+/DpwzojQEQIEmwoanVwxA4lgXt9HgE0BSSZ2AJuIbQAMJih9jjiNA5q4l5INuK0AwTKYKRj0zQNv5fmq8/DpAaCJseHrtQkB/+zpwzoxKQM3MzMzMeFJAZmZmZmZqWEAAAAAAAFxeQM3MzMzMJmJAmpmZmZkfZUBmZmZmZhhoQDMzMzMzEWtAAAAAAAAKbkBmZmZmZoFwQM3MzMzM/XFAMzMzMzN6c0CamZmZmfZ0QAAAAAAAc3ZAZmZmZmbvd0DNzMzMzGt5QDMzMzMz6HpAmpmZmZlkfEAAAAAAAOF9QGZmZmZmXX9AZmZmZuZsgECamZmZGSuBQM3MzMxM6YFAAAAAAICngkAzMzMzs2WDQGZmZmbmI4RAmpmZmRnihEDNzMzMTKCFQAAAAACAXoZAMzMzM7Mch0BmZmZm5tqHQJqZmZkZmYhAzczMzExXiUAAAAAAgBWKQDMzMzOz04pAZmZmZuaRi0CamZmZGVCMQM3MzMxMDo1AAAAAAIDMjUAzMzMzs4qOQGZmZmbmSI9A\",\"dtype\":\"float64\",\"shape\":[75]}},\"selected\":{\"id\":\"0d24d882-7132-408e-86cc-b33de9d0593f\",\"type\":\"Selection\"},\"selection_policy\":{\"id\":\"5f42a4fc-e464-4446-86c2-8a22cf716309\",\"type\":\"UnionRenderers\"}},\"id\":\"b42c4786-8ddd-4736-a35b-2ab8b9cfa9a0\",\"type\":\"ColumnDataSource\"},{\"attributes\":{\"bottom_units\":\"screen\",\"fill_alpha\":{\"value\":0.5},\"fill_color\":{\"value\":\"lightgrey\"},\"left_units\":\"screen\",\"level\":\"overlay\",\"line_alpha\":{\"value\":1.0},\"line_color\":{\"value\":\"black\"},\"line_dash\":[4,4],\"line_width\":{\"value\":2},\"plot\":null,\"render_mode\":\"css\",\"right_units\":\"screen\",\"top_units\":\"screen\"},\"id\":\"62bbab61-f46c-4360-9fd4-fbfc66189928\",\"type\":\"BoxAnnotation\"},{\"attributes\":{\"line_alpha\":0.6,\"line_color\":\"#377eb8\",\"line_dash\":[6],\"line_width\":5,\"x\":{\"field\":\"x\"},\"y\":{\"field\":\"y\"}},\"id\":\"a727ef0a-81d7-498e-92d8-9e50a3c43735\",\"type\":\"Line\"},{\"attributes\":{},\"id\":\"09a4c203-e3c7-41ee-b584-161e3bfa02cc\",\"type\":\"LogScale\"},{\"attributes\":{\"items\":[{\"id\":\"ec67d481-88c9-4de0-8209-62fbbe21ca3b\",\"type\":\"LegendItem\"}],\"label_text_font_size\":{\"value\":\"8pt\"},\"location\":\"top_center\",\"orientation\":\"horizontal\",\"plot\":{\"id\":\"1d6dd6b3-4348-481b-b467-0da46c6b918d\",\"subtype\":\"Figure\",\"type\":\"Plot\"}},\"id\":\"5dec3167-2b5d-4019-a63b-34a06dddf3a4\",\"type\":\"Legend\"},{\"attributes\":{\"callback\":null,\"data\":{\"x\":{\"__ndarray__\":\"DeQvAqWDRUC2vvR4+NFCQFEufk1xs0FAFdxaonocQECUvvYnIxU8QEd87GIcKjdAcZtOv/voMUBSEHYa5gQqQF49jHZtSCJAPWz7AMGcGkAR4zeBKjoVQLhPyLcWBRJAGlKKyy2TDUBDCBYMLjADQFzLvEKy6P4/UqnR7eOrBUBZFzyuj0MMQI1XQNeznBBAs5t/wu3dE0CsKkuyIk4ZQOVhwU2QCyFAmOAeE7kBJ0CaOvPD0hgoQHghtjM4hCRAgTBntRonIUDfVB61o1UcQB5YXyB1WBhA2zqpMegrFEB+eJU1zsYPQIgDNAMfOwlATI17UtQ6BUCCTjVUPXkAQHRoE7wAsfQ/wUS1t3IK5j/gsxiK+PzQPzJtr288icG/lzqwY1uR3r+X1ohF1iDYvwRse39G8l6/bUIKpkRXxT+BzSruTK7YP/zSiWUju+w/6UZL/qe69j/qaWbOQtf9PxII4j/16wBAhF3YpsiEAUAeij5caUcCQPlB5bmoTAJAAM6oRJQWAUBMT+2PHYEAQM6LWOouTwBA+t0JMAsvAECkjmHkOwQAQOTl31ifnP8/O0gtp1Q//z+tgEc/Vgf/PzHLyvLWDf8/4JULMlVC/z9tJ6JDBmT/P2IT5UcGZf8/gcfTzDxM/z9a0afUc/r+P2ddXBC12P0/FjyHXdTJ/D8jxx3A8C/6P7BaYXIHnPc/GeQYlOPt9T9oetU/kn70P1sjhyoqxPM/T9sGPz+V8z+4Vmyt3q7zP4OB5G9UEfQ/56QuE+kD9T9sRTO3SLv2P4Ht+ODJpwFA\",\"dtype\":\"float64\",\"shape\":[75]},\"y\":{\"__ndarray__\":\"GhExyth1ND/Sv8nbtpRIP2vylNV0PVE/aTum7souWD/At0SJ8fVgPw3Iuahxymc/MSNhhJWvcD/bTfBN02d3P2zb5nxnaoA/CD5h5MAGhz8NmeH1TyaQP+zrCsc9p5Y/LbKd76fGnz/bLW5ISEmmPww9YvTcQq8/JV2OstnstT8Er5Y7M8G+P0c+r3jqkcU/5h99k6ZBzj88bCIzFzjVP4enV8oyxN0//yH99nXg5D8qOpLLf0jtP5kqGJXUifQ/c9cS8kHP/D+/DpwzojQEQIEmwoanVwxA4lgXt9HgE0BSSZ2AJuIbQAMJih9jjiNA5q4l5INuK0AwTKYKRj0zQNv5fmq8/DpAaCJseHrtQkB/+zpwzoxKQM3MzMzMeFJAZmZmZmZqWEAAAAAAAFxeQM3MzMzMJmJAmpmZmZkfZUBmZmZmZhhoQDMzMzMzEWtAAAAAAAAKbkBmZmZmZoFwQM3MzMzM/XFAMzMzMzN6c0CamZmZmfZ0QAAAAAAAc3ZAZmZmZmbvd0DNzMzMzGt5QDMzMzMz6HpAmpmZmZlkfEAAAAAAAOF9QGZmZmZmXX9AZmZmZuZsgECamZmZGSuBQM3MzMxM6YFAAAAAAICngkAzMzMzs2WDQGZmZmbmI4RAmpmZmRnihEDNzMzMTKCFQAAAAACAXoZAMzMzM7Mch0BmZmZm5tqHQJqZmZkZmYhAzczMzExXiUAAAAAAgBWKQDMzMzOz04pAZmZmZuaRi0CamZmZGVCMQM3MzMxMDo1AAAAAAIDMjUAzMzMzs4qOQGZmZmbmSI9A\",\"dtype\":\"float64\",\"shape\":[75]}},\"selected\":{\"id\":\"4266d48a-6e2a-4e16-88db-a261a553b3cb\",\"type\":\"Selection\"},\"selection_policy\":{\"id\":\"5ab42d0d-d795-4d76-b741-e2d78cb1bbf6\",\"type\":\"UnionRenderers\"}},\"id\":\"6b819ad1-e05f-4e74-8973-583cf8453251\",\"type\":\"ColumnDataSource\"},{\"attributes\":{\"source\":{\"id\":\"4edeff5b-6dc1-4284-b9e3-20f2ecac9aa8\",\"type\":\"ColumnDataSource\"}},\"id\":\"b74d810d-df08-42ea-bd3d-3e6d1691b678\",\"type\":\"CDSView\"},{\"attributes\":{},\"id\":\"4266d48a-6e2a-4e16-88db-a261a553b3cb\",\"type\":\"Selection\"},{\"attributes\":{\"callback\":null,\"data\":{\"x\":{\"__ndarray__\":\"R/KIaN7AVEClCeJMyPNGQOvRhpxr30JAptxzhxx4PkA7SssMElA4QK6Bp3CyUDNAsVXpjES9LkBFhUV0+5coQMHYwqbbySNA6f09nM3nH0CaSd/3eYoZQDmgiAOW8BNAPYqARh3eDEBkm4vCgvr+P9D+5tWhQfY/P8DwKRnSAkBq38kb17ILQDT7IWuSsxFAUr2Rjm0FFkAinq3s9XgbQGCHwtYcqSFAG64kT303J0C7dRDneyooQD9JYrbK8yRA9S3bneHhIUAIymSuUMMcQIkHLe6VEBdAAau3cITREkA6CiNvkQIPQJU39ki7IQlAaAvwok1UA0BXLQiS4+L7P0xzDpJ2hPI/NNuPGMbJ5z91mUVYxqfSPxqwUPSxZca/G11peifD3L8QzNj5t2jTvwzOozTL360/SPJ4VI1VzD9KJ0nXEIncP8yDdlvHt+4/Et49nYLW9z++2teD4Jn+P+568eH/bwFALf5D9lmAAkCiZAicVOkCQPPT4jNKxwJAOjp3wTzBAUBSQsKNGisBQG4OmjqJwQBAJ3sZoHFuAEA5Ar0Sdi0AQGy4rw5+9f8/7W4nSrC3/z8mPr8zj4T/P4UYRHCQS/8/embVKYcF/z+5YXG+LLP+P/qb8BVUgf4/KvafTtyO/j/avAK1Ppv+PwJV9VVm2P0/JFtYlU/n/D9sN+q2fiX6Pw44e41PNPc/Opt+Z/wN9T+x3vcSW1vzP9ofvWQJlvI/8sciQQBW8j80sfkQa17yPzg5qng2r/I/Oh14WJBh8z+VZjnpctj0P6CcrSuCqQBA\",\"dtype\":\"float64\",\"shape\":[75]},\"y\":{\"__ndarray__\":\"GhExyth1ND/Sv8nbtpRIP2vylNV0PVE/aTum7souWD/At0SJ8fVgPw3Iuahxymc/MSNhhJWvcD/bTfBN02d3P2zb5nxnaoA/CD5h5MAGhz8NmeH1TyaQP+zrCsc9p5Y/LbKd76fGnz/bLW5ISEmmPww9YvTcQq8/JV2OstnstT8Er5Y7M8G+P0c+r3jqkcU/5h99k6ZBzj88bCIzFzjVP4enV8oyxN0//yH99nXg5D8qOpLLf0jtP5kqGJXUifQ/c9cS8kHP/D+/DpwzojQEQIEmwoanVwxA4lgXt9HgE0BSSZ2AJuIbQAMJih9jjiNA5q4l5INuK0AwTKYKRj0zQNv5fmq8/DpAaCJseHrtQkB/+zpwzoxKQM3MzMzMeFJAZmZmZmZqWEAAAAAAAFxeQM3MzMzMJmJAmpmZmZkfZUBmZmZmZhhoQDMzMzMzEWtAAAAAAAAKbkBmZmZmZoFwQM3MzMzM/XFAMzMzMzN6c0CamZmZmfZ0QAAAAAAAc3ZAZmZmZmbvd0DNzMzMzGt5QDMzMzMz6HpAmpmZmZlkfEAAAAAAAOF9QGZmZmZmXX9AZmZmZuZsgECamZmZGSuBQM3MzMxM6YFAAAAAAICngkAzMzMzs2WDQGZmZmbmI4RAmpmZmRnihEDNzMzMTKCFQAAAAACAXoZAMzMzM7Mch0BmZmZm5tqHQJqZmZkZmYhAzczMzExXiUAAAAAAgBWKQDMzMzOz04pAZmZmZuaRi0CamZmZGVCMQM3MzMxMDo1AAAAAAIDMjUAzMzMzs4qOQGZmZmbmSI9A\",\"dtype\":\"float64\",\"shape\":[75]}},\"selected\":{\"id\":\"c00d34f0-faa0-4a73-b934-0e89c0e71aa4\",\"type\":\"Selection\"},\"selection_policy\":{\"id\":\"b0c1d9ca-847c-41af-84ac-a012d625156f\",\"type\":\"UnionRenderers\"}},\"id\":\"688321fa-3a3b-43e6-894f-a81bd55fe62c\",\"type\":\"ColumnDataSource\"},{\"attributes\":{\"axis_label\":\"pressure [mb]\",\"formatter\":{\"id\":\"6db7abaf-2641-4231-8e57-35f0cdb21a2e\",\"type\":\"LogTickFormatter\"},\"plot\":{\"id\":\"1d51e377-7abc-47d0-9375-6f78d1895176\",\"subtype\":\"Figure\",\"type\":\"Plot\"},\"ticker\":{\"id\":\"3bd2359d-b5a5-484a-b9de-e17f78d24bd9\",\"type\":\"LogTicker\"}},\"id\":\"fd4e2520-2180-4d87-9eab-e2d2c2750b39\",\"type\":\"LogAxis\"},{\"attributes\":{\"fill_alpha\":{\"value\":0.1},\"fill_color\":{\"value\":\"#1f77b4\"},\"line_alpha\":{\"value\":0.1},\"line_color\":{\"value\":\"#1f77b4\"},\"x\":{\"field\":\"x\"},\"y\":{\"field\":\"y\"}},\"id\":\"9db6b445-cbf8-483c-91d7-e67a48bea48e\",\"type\":\"Circle\"},{\"attributes\":{\"line_alpha\":0.1,\"line_color\":\"#1f77b4\",\"line_width\":1.5,\"x\":{\"field\":\"x\"},\"y\":{\"field\":\"y\"}},\"id\":\"4390d63f-f116-44bc-bffe-70084374fe6f\",\"type\":\"Line\"},{\"attributes\":{\"line_alpha\":0.1,\"line_color\":\"#1f77b4\",\"line_dash\":[6],\"line_width\":5,\"x\":{\"field\":\"x\"},\"y\":{\"field\":\"y\"}},\"id\":\"5bac89c3-a123-4c6e-94bd-07b3da957b7c\",\"type\":\"Line\"},{\"attributes\":{\"callback\":null,\"end\":0.01,\"start\":1020},\"id\":\"18952623-6bee-4cae-a555-ee335aa79271\",\"type\":\"Range1d\"},{\"attributes\":{\"label\":{\"value\":\"CRD\"},\"renderers\":[{\"id\":\"8dcb2d43-14de-48c6-a5d1-cccf51ed1734\",\"type\":\"GlyphRenderer\"},{\"id\":\"66595141-245c-4c19-b252-5fe89027ee14\",\"type\":\"GlyphRenderer\"}]},\"id\":\"a292add8-d76c-494b-8d34-1b9648151b17\",\"type\":\"LegendItem\"},{\"attributes\":{\"fill_alpha\":{\"value\":0.7},\"fill_color\":{\"value\":\"#4daf4a\"},\"line_alpha\":{\"value\":0.7},\"line_color\":{\"value\":\"#4daf4a\"},\"x\":{\"field\":\"x\"},\"y\":{\"field\":\"y\"}},\"id\":\"ff8c13c2-b193-4eb8-89a9-9115e1417eac\",\"type\":\"Circle\"},{\"attributes\":{\"plot\":{\"id\":\"1d51e377-7abc-47d0-9375-6f78d1895176\",\"subtype\":\"Figure\",\"type\":\"Plot\"},\"ticker\":{\"id\":\"8528a530-a4ba-41a5-8b75-4db24068cda1\",\"type\":\"BasicTicker\"}},\"id\":\"7d0688ff-201e-4d10-bd64-140a3699eae2\",\"type\":\"Grid\"},{\"attributes\":{},\"id\":\"65d94325-259d-4527-b8a5-77ce75b76df3\",\"type\":\"BasicTicker\"},{\"attributes\":{},\"id\":\"654c9d0e-d264-48af-ab0e-13890ae69122\",\"type\":\"UnionRenderers\"},{\"attributes\":{},\"id\":\"6274b460-ec41-4f65-9254-d902f769b2a1\",\"type\":\"UnionRenderers\"},{\"attributes\":{},\"id\":\"a10d58c8-9feb-4491-b155-e106d60d0baa\",\"type\":\"PanTool\"},{\"attributes\":{\"above\":[{\"id\":\"46357d4a-2e0b-48b1-9b29-084bd60af14c\",\"type\":\"Legend\"}],\"below\":[{\"id\":\"1a0a9478-de86-4da3-a153-8e02eaedaf1a\",\"type\":\"LinearAxis\"}],\"left\":[{\"id\":\"84d45220-8a18-4074-a860-d74f916fe48a\",\"type\":\"LinearAxis\"}],\"plot_width\":300,\"renderers\":[{\"id\":\"1a0a9478-de86-4da3-a153-8e02eaedaf1a\",\"type\":\"LinearAxis\"},{\"id\":\"d9f43337-63e9-47a9-90d8-28ebdd245b0c\",\"type\":\"Grid\"},{\"id\":\"84d45220-8a18-4074-a860-d74f916fe48a\",\"type\":\"LinearAxis\"},{\"id\":\"76523d56-54db-4e10-b30f-c35b465b666f\",\"type\":\"Grid\"},{\"id\":\"62bbab61-f46c-4360-9fd4-fbfc66189928\",\"type\":\"BoxAnnotation\"},{\"id\":\"87ae5419-516d-42a5-bf53-2eaf2b945c25\",\"type\":\"GlyphRenderer\"},{\"id\":\"18043427-798e-43a1-8108-69f90469e276\",\"type\":\"GlyphRenderer\"},{\"id\":\"73857610-fdbd-434d-a324-daf4da2920db\",\"type\":\"GlyphRenderer\"},{\"id\":\"46357d4a-2e0b-48b1-9b29-084bd60af14c\",\"type\":\"Legend\"}],\"title\":{\"id\":\"7cd08c8d-0135-4aa6-8308-167fee807ac0\",\"type\":\"Title\"},\"toolbar\":{\"id\":\"004a53db-d503-40aa-9c04-21ab387ce02f\",\"type\":\"Toolbar\"},\"toolbar_location\":null,\"x_range\":{\"id\":\"06e734e9-90af-464c-8344-3a7b8c7a55a1\",\"type\":\"Range1d\"},\"x_scale\":{\"id\":\"30f0d793-b739-4d5a-90c5-df32a93a5da2\",\"type\":\"LinearScale\"},\"y_range\":{\"id\":\"ed89458f-4fbf-4126-85db-44277890c22d\",\"type\":\"Range1d\"},\"y_scale\":{\"id\":\"a65a26a4-a99b-4486-842c-f693d98d2f50\",\"type\":\"LinearScale\"}},\"id\":\"48dceb77-1606-48e8-8c0b-68bd59cfed04\",\"subtype\":\"Figure\",\"type\":\"Plot\"},{\"attributes\":{\"active_drag\":\"auto\",\"active_inspect\":\"auto\",\"active_scroll\":\"auto\",\"active_tap\":\"auto\",\"tools\":[{\"id\":\"926bf24b-1119-4c4a-844c-b92823641786\",\"type\":\"PanTool\"},{\"id\":\"c1e402d0-4aa8-4449-91e0-3cd67fec5306\",\"type\":\"WheelZoomTool\"},{\"id\":\"a4fdf21e-a00b-4381-801a-bd0ee1ecbcd0\",\"type\":\"BoxZoomTool\"},{\"id\":\"1c23ced3-20a1-48e6-8302-dd7967e32c69\",\"type\":\"SaveTool\"},{\"id\":\"c48fd4d4-520f-44b6-850e-c61e45b1eb03\",\"type\":\"ResetTool\"},{\"id\":\"3cdebc15-18cd-46f6-af84-652d84039371\",\"type\":\"HelpTool\"}]},\"id\":\"004a53db-d503-40aa-9c04-21ab387ce02f\",\"type\":\"Toolbar\"},{\"attributes\":{\"plot\":{\"id\":\"1d6dd6b3-4348-481b-b467-0da46c6b918d\",\"subtype\":\"Figure\",\"type\":\"Plot\"},\"ticker\":{\"id\":\"65d94325-259d-4527-b8a5-77ce75b76df3\",\"type\":\"BasicTicker\"}},\"id\":\"dabbd885-2010-4818-a42b-dc739ac5b7f3\",\"type\":\"Grid\"},{\"attributes\":{\"num_minor_ticks\":10},\"id\":\"0a997361-6bdf-45bc-9160-99bceb686a2f\",\"type\":\"LogTicker\"},{\"attributes\":{\"dimension\":1,\"plot\":{\"id\":\"1d6dd6b3-4348-481b-b467-0da46c6b918d\",\"subtype\":\"Figure\",\"type\":\"Plot\"},\"ticker\":{\"id\":\"0a997361-6bdf-45bc-9160-99bceb686a2f\",\"type\":\"LogTicker\"}},\"id\":\"96e6adf7-ea37-4fde-8076-862e0445b401\",\"type\":\"Grid\"},{\"attributes\":{\"line_alpha\":0.6,\"line_color\":\"#377eb8\",\"line_dash\":[6],\"line_width\":5,\"x\":{\"field\":\"x\"},\"y\":{\"field\":\"y\"}},\"id\":\"770062c0-f183-480d-9f3e-b5172062860f\",\"type\":\"Line\"},{\"attributes\":{},\"id\":\"1c23ced3-20a1-48e6-8302-dd7967e32c69\",\"type\":\"SaveTool\"},{\"attributes\":{},\"id\":\"3d2aa433-c1c8-4dde-aeb4-9b0e2f5c231f\",\"type\":\"BasicTickFormatter\"},{\"attributes\":{},\"id\":\"5d61eb0e-1b97-41c0-a715-17ec923cca72\",\"type\":\"Selection\"},{\"attributes\":{\"tools\":[{\"id\":\"926bf24b-1119-4c4a-844c-b92823641786\",\"type\":\"PanTool\"},{\"id\":\"c1e402d0-4aa8-4449-91e0-3cd67fec5306\",\"type\":\"WheelZoomTool\"},{\"id\":\"a4fdf21e-a00b-4381-801a-bd0ee1ecbcd0\",\"type\":\"BoxZoomTool\"},{\"id\":\"1c23ced3-20a1-48e6-8302-dd7967e32c69\",\"type\":\"SaveTool\"},{\"id\":\"c48fd4d4-520f-44b6-850e-c61e45b1eb03\",\"type\":\"ResetTool\"},{\"id\":\"3cdebc15-18cd-46f6-af84-652d84039371\",\"type\":\"HelpTool\"},{\"id\":\"a10d58c8-9feb-4491-b155-e106d60d0baa\",\"type\":\"PanTool\"},{\"id\":\"b311e669-a37d-43aa-a0c1-ad4f0e1f926b\",\"type\":\"WheelZoomTool\"},{\"id\":\"dc73f501-3f64-4f81-a821-eeea7ddeee90\",\"type\":\"BoxZoomTool\"},{\"id\":\"59fcd237-7481-41dd-89f6-2ba221883593\",\"type\":\"SaveTool\"},{\"id\":\"e1bba9bc-b81c-4924-8e0c-92cdd87e7459\",\"type\":\"ResetTool\"},{\"id\":\"0106d0a2-156f-4d92-908c-58c0a4215855\",\"type\":\"HelpTool\"},{\"id\":\"eba58558-f3fb-4d5a-8a6e-f1b706a223cb\",\"type\":\"PanTool\"},{\"id\":\"e0883920-e9f6-4012-81c2-3e6826c16a49\",\"type\":\"WheelZoomTool\"},{\"id\":\"cd6b1f73-0a28-4c85-8d1f-324f0108df6a\",\"type\":\"BoxZoomTool\"},{\"id\":\"b01b43fc-f9d0-4f5b-8d91-6438b211917b\",\"type\":\"SaveTool\"},{\"id\":\"52cb7914-b90f-4be7-bd33-4595856983a9\",\"type\":\"ResetTool\"},{\"id\":\"1b3c4302-c14a-4efb-88e2-5c695980ed0d\",\"type\":\"HelpTool\"}]},\"id\":\"2c326329-1840-4ec7-afb8-24298cb92650\",\"type\":\"ProxyToolbar\"},{\"attributes\":{\"data_source\":{\"id\":\"54ffce17-6b6a-4a56-9bab-3b676691ee61\",\"type\":\"ColumnDataSource\"},\"glyph\":{\"id\":\"b95b17bb-a51e-4ec9-ad3f-b0bc149c96c1\",\"type\":\"Circle\"},\"hover_glyph\":null,\"muted_glyph\":null,\"nonselection_glyph\":{\"id\":\"82ee37f6-c797-4e19-8d78-9dfb2fff16f3\",\"type\":\"Circle\"},\"selection_glyph\":null,\"view\":{\"id\":\"05eb94c8-c303-4675-bd5b-18ec67d33d60\",\"type\":\"CDSView\"}},\"id\":\"18043427-798e-43a1-8108-69f90469e276\",\"type\":\"GlyphRenderer\"},{\"attributes\":{\"line_alpha\":0.1,\"line_color\":\"#1f77b4\",\"line_width\":1.5,\"x\":{\"field\":\"x\"},\"y\":{\"field\":\"y\"}},\"id\":\"12ccf497-4eaf-465f-b7d2-5fdaf8905e6a\",\"type\":\"Line\"},{\"attributes\":{\"fill_alpha\":{\"value\":0.1},\"fill_color\":{\"value\":\"#1f77b4\"},\"line_alpha\":{\"value\":0.1},\"line_color\":{\"value\":\"#1f77b4\"},\"x\":{\"field\":\"x\"},\"y\":{\"field\":\"y\"}},\"id\":\"82ee37f6-c797-4e19-8d78-9dfb2fff16f3\",\"type\":\"Circle\"},{\"attributes\":{\"children\":[{\"id\":\"be92278e-fda7-47c6-854b-d4cba8e4aa2a\",\"type\":\"ToolbarBox\"},{\"id\":\"fc205c2a-d320-46e9-8b81-a7b1c9760d69\",\"type\":\"Column\"}]},\"id\":\"f50216ad-aed5-4531-94a9-0b2e36b3ff92\",\"type\":\"Column\"},{\"attributes\":{},\"id\":\"203f8449-a8fc-4cfd-b4a1-e5d768c07ef7\",\"type\":\"UnionRenderers\"},{\"attributes\":{\"data_source\":{\"id\":\"b42c4786-8ddd-4736-a35b-2ab8b9cfa9a0\",\"type\":\"ColumnDataSource\"},\"glyph\":{\"id\":\"770062c0-f183-480d-9f3e-b5172062860f\",\"type\":\"Line\"},\"hover_glyph\":null,\"muted_glyph\":null,\"nonselection_glyph\":{\"id\":\"5bac89c3-a123-4c6e-94bd-07b3da957b7c\",\"type\":\"Line\"},\"selection_glyph\":null,\"view\":{\"id\":\"32161029-15bb-4911-8356-6b01e20e39d6\",\"type\":\"CDSView\"}},\"id\":\"87ae5419-516d-42a5-bf53-2eaf2b945c25\",\"type\":\"GlyphRenderer\"},{\"attributes\":{\"callback\":null,\"end\":0.01,\"start\":1020},\"id\":\"fb8cb1e6-f838-4755-bff3-46c0f17d50b6\",\"type\":\"Range1d\"},{\"attributes\":{\"axis_label\":\"pressure [mb]\",\"formatter\":{\"id\":\"44db8846-d15c-4ec6-b7c1-95bc4d516f1d\",\"type\":\"LogTickFormatter\"},\"plot\":{\"id\":\"1d6dd6b3-4348-481b-b467-0da46c6b918d\",\"subtype\":\"Figure\",\"type\":\"Plot\"},\"ticker\":{\"id\":\"0a997361-6bdf-45bc-9160-99bceb686a2f\",\"type\":\"LogTicker\"}},\"id\":\"a33848fd-af89-4b36-957e-0b53acd4418f\",\"type\":\"LogAxis\"},{\"attributes\":{},\"id\":\"5798d72b-9c19-450f-9222-7870af2337ad\",\"type\":\"LinearScale\"},{\"attributes\":{\"source\":{\"id\":\"54ffce17-6b6a-4a56-9bab-3b676691ee61\",\"type\":\"ColumnDataSource\"}},\"id\":\"05eb94c8-c303-4675-bd5b-18ec67d33d60\",\"type\":\"CDSView\"},{\"attributes\":{\"callback\":null,\"data\":{\"x\":{\"__ndarray__\":\"R/KIaN7AVEClCeJMyPNGQOvRhpxr30JAptxzhxx4PkA7SssMElA4QK6Bp3CyUDNAsVXpjES9LkBFhUV0+5coQMHYwqbbySNA6f09nM3nH0CaSd/3eYoZQDmgiAOW8BNAPYqARh3eDEBkm4vCgvr+P9D+5tWhQfY/P8DwKRnSAkBq38kb17ILQDT7IWuSsxFAUr2Rjm0FFkAinq3s9XgbQGCHwtYcqSFAG64kT303J0C7dRDneyooQD9JYrbK8yRA9S3bneHhIUAIymSuUMMcQIkHLe6VEBdAAau3cITREkA6CiNvkQIPQJU39ki7IQlAaAvwok1UA0BXLQiS4+L7P0xzDpJ2hPI/NNuPGMbJ5z91mUVYxqfSPxqwUPSxZca/G11peifD3L8QzNj5t2jTvwzOozTL360/SPJ4VI1VzD9KJ0nXEIncP8yDdlvHt+4/Et49nYLW9z++2teD4Jn+P+568eH/bwFALf5D9lmAAkCiZAicVOkCQPPT4jNKxwJAOjp3wTzBAUBSQsKNGisBQG4OmjqJwQBAJ3sZoHFuAEA5Ar0Sdi0AQGy4rw5+9f8/7W4nSrC3/z8mPr8zj4T/P4UYRHCQS/8/embVKYcF/z+5YXG+LLP+P/qb8BVUgf4/KvafTtyO/j/avAK1Ppv+PwJV9VVm2P0/JFtYlU/n/D9sN+q2fiX6Pw44e41PNPc/Opt+Z/wN9T+x3vcSW1vzP9ofvWQJlvI/8sciQQBW8j80sfkQa17yPzg5qng2r/I/Oh14WJBh8z+VZjnpctj0P6CcrSuCqQBA\",\"dtype\":\"float64\",\"shape\":[75]},\"y\":{\"__ndarray__\":\"GhExyth1ND/Sv8nbtpRIP2vylNV0PVE/aTum7souWD/At0SJ8fVgPw3Iuahxymc/MSNhhJWvcD/bTfBN02d3P2zb5nxnaoA/CD5h5MAGhz8NmeH1TyaQP+zrCsc9p5Y/LbKd76fGnz/bLW5ISEmmPww9YvTcQq8/JV2OstnstT8Er5Y7M8G+P0c+r3jqkcU/5h99k6ZBzj88bCIzFzjVP4enV8oyxN0//yH99nXg5D8qOpLLf0jtP5kqGJXUifQ/c9cS8kHP/D+/DpwzojQEQIEmwoanVwxA4lgXt9HgE0BSSZ2AJuIbQAMJih9jjiNA5q4l5INuK0AwTKYKRj0zQNv5fmq8/DpAaCJseHrtQkB/+zpwzoxKQM3MzMzMeFJAZmZmZmZqWEAAAAAAAFxeQM3MzMzMJmJAmpmZmZkfZUBmZmZmZhhoQDMzMzMzEWtAAAAAAAAKbkBmZmZmZoFwQM3MzMzM/XFAMzMzMzN6c0CamZmZmfZ0QAAAAAAAc3ZAZmZmZmbvd0DNzMzMzGt5QDMzMzMz6HpAmpmZmZlkfEAAAAAAAOF9QGZmZmZmXX9AZmZmZuZsgECamZmZGSuBQM3MzMxM6YFAAAAAAICngkAzMzMzs2WDQGZmZmbmI4RAmpmZmRnihEDNzMzMTKCFQAAAAACAXoZAMzMzM7Mch0BmZmZm5tqHQJqZmZkZmYhAzczMzExXiUAAAAAAgBWKQDMzMzOz04pAZmZmZuaRi0CamZmZGVCMQM3MzMxMDo1AAAAAAIDMjUAzMzMzs4qOQGZmZmbmSI9A\",\"dtype\":\"float64\",\"shape\":[75]}},\"selected\":{\"id\":\"5963a07f-722c-4462-9eca-34e3e7ffea31\",\"type\":\"Selection\"},\"selection_policy\":{\"id\":\"9d8c440e-3b9c-4766-bb80-656c4a4a2c1c\",\"type\":\"UnionRenderers\"}},\"id\":\"04e90b48-59f7-4d77-9ff2-569159c386a9\",\"type\":\"ColumnDataSource\"},{\"attributes\":{\"callback\":null,\"end\":0.559427922866886,\"start\":-1.3419310516822867},\"id\":\"807b2fef-a455-4609-8885-dc196b460e16\",\"type\":\"Range1d\"},{\"attributes\":{\"plot\":null,\"text\":\"\"},\"id\":\"a0f4a7c7-f044-4906-8ad9-7fc42c04f2c5\",\"type\":\"Title\"},{\"attributes\":{\"toolbar\":{\"id\":\"2c326329-1840-4ec7-afb8-24298cb92650\",\"type\":\"ProxyToolbar\"},\"toolbar_location\":\"above\"},\"id\":\"be92278e-fda7-47c6-854b-d4cba8e4aa2a\",\"type\":\"ToolbarBox\"},{\"attributes\":{},\"id\":\"4e6e8b5f-bf5f-4356-bfd7-2c86ebdb8e80\",\"type\":\"LogScale\"},{\"attributes\":{\"source\":{\"id\":\"79a10735-77f9-4aaa-b066-39acf6dc3507\",\"type\":\"ColumnDataSource\"}},\"id\":\"71204329-298f-4c67-8801-21c5608266c6\",\"type\":\"CDSView\"},{\"attributes\":{},\"id\":\"b0c1d9ca-847c-41af-84ac-a012d625156f\",\"type\":\"UnionRenderers\"},{\"attributes\":{},\"id\":\"b6b4d316-d0dd-4441-8f00-dcb227f579d7\",\"type\":\"BasicTickFormatter\"},{\"attributes\":{\"overlay\":{\"id\":\"62bbab61-f46c-4360-9fd4-fbfc66189928\",\"type\":\"BoxAnnotation\"}},\"id\":\"a4fdf21e-a00b-4381-801a-bd0ee1ecbcd0\",\"type\":\"BoxZoomTool\"},{\"attributes\":{\"ticker\":null},\"id\":\"6db7abaf-2641-4231-8e57-35f0cdb21a2e\",\"type\":\"LogTickFormatter\"},{\"attributes\":{},\"id\":\"c00d34f0-faa0-4a73-b934-0e89c0e71aa4\",\"type\":\"Selection\"},{\"attributes\":{},\"id\":\"fc94a270-ca68-4e3e-9aa9-6602b005ba6c\",\"type\":\"Selection\"},{\"attributes\":{\"data_source\":{\"id\":\"79a10735-77f9-4aaa-b066-39acf6dc3507\",\"type\":\"ColumnDataSource\"},\"glyph\":{\"id\":\"9f2d503e-de39-496a-9828-29076aa3386b\",\"type\":\"Line\"},\"hover_glyph\":null,\"muted_glyph\":null,\"nonselection_glyph\":{\"id\":\"12ccf497-4eaf-465f-b7d2-5fdaf8905e6a\",\"type\":\"Line\"},\"selection_glyph\":null,\"view\":{\"id\":\"71204329-298f-4c67-8801-21c5608266c6\",\"type\":\"CDSView\"}},\"id\":\"3b107cb1-d77d-48fb-b88b-c3be138d578d\",\"type\":\"GlyphRenderer\"},{\"attributes\":{\"ticker\":null},\"id\":\"44db8846-d15c-4ec6-b7c1-95bc4d516f1d\",\"type\":\"LogTickFormatter\"},{\"attributes\":{\"source\":{\"id\":\"b42c4786-8ddd-4736-a35b-2ab8b9cfa9a0\",\"type\":\"ColumnDataSource\"}},\"id\":\"32161029-15bb-4911-8356-6b01e20e39d6\",\"type\":\"CDSView\"},{\"attributes\":{},\"id\":\"c48fd4d4-520f-44b6-850e-c61e45b1eb03\",\"type\":\"ResetTool\"},{\"attributes\":{\"line_alpha\":0.8,\"line_color\":\"#984ea3\",\"line_width\":1.5,\"x\":{\"field\":\"x\"},\"y\":{\"field\":\"y\"}},\"id\":\"9f2d503e-de39-496a-9828-29076aa3386b\",\"type\":\"Line\"},{\"attributes\":{\"items\":[{\"id\":\"9c0bed53-1414-4167-8e13-db1a2477cb8b\",\"type\":\"LegendItem\"},{\"id\":\"d308d338-ff36-4b2e-96a0-d660ecd2bf38\",\"type\":\"LegendItem\"}],\"label_text_font_size\":{\"value\":\"8pt\"},\"location\":\"top_center\",\"orientation\":\"horizontal\",\"plot\":{\"id\":\"48dceb77-1606-48e8-8c0b-68bd59cfed04\",\"subtype\":\"Figure\",\"type\":\"Plot\"}},\"id\":\"46357d4a-2e0b-48b1-9b29-084bd60af14c\",\"type\":\"Legend\"},{\"attributes\":{},\"id\":\"a65a26a4-a99b-4486-842c-f693d98d2f50\",\"type\":\"LinearScale\"},{\"attributes\":{\"overlay\":{\"id\":\"e45fbf16-52c7-41fc-b528-cddca35f2dfb\",\"type\":\"BoxAnnotation\"}},\"id\":\"dc73f501-3f64-4f81-a821-eeea7ddeee90\",\"type\":\"BoxZoomTool\"},{\"attributes\":{\"dimension\":1,\"plot\":{\"id\":\"48dceb77-1606-48e8-8c0b-68bd59cfed04\",\"subtype\":\"Figure\",\"type\":\"Plot\"},\"ticker\":{\"id\":\"564a6e74-a11a-440b-b15b-5f84ff140ea1\",\"type\":\"BasicTicker\"}},\"id\":\"76523d56-54db-4e10-b30f-c35b465b666f\",\"type\":\"Grid\"},{\"attributes\":{},\"id\":\"bf27d2b0-889b-486d-add1-72b2aa207d0c\",\"type\":\"Selection\"},{\"attributes\":{\"source\":{\"id\":\"6b819ad1-e05f-4e74-8973-583cf8453251\",\"type\":\"ColumnDataSource\"}},\"id\":\"25f26e62-990e-40f9-8f2c-8d8e7c927772\",\"type\":\"CDSView\"},{\"attributes\":{\"plot\":{\"id\":\"48dceb77-1606-48e8-8c0b-68bd59cfed04\",\"subtype\":\"Figure\",\"type\":\"Plot\"},\"ticker\":{\"id\":\"05f520dc-71c8-464f-b287-2ed80b932b61\",\"type\":\"BasicTicker\"}},\"id\":\"d9f43337-63e9-47a9-90d8-28ebdd245b0c\",\"type\":\"Grid\"},{\"attributes\":{\"axis_label\":\"cooling rate [K/day]\",\"formatter\":{\"id\":\"3d2aa433-c1c8-4dde-aeb4-9b0e2f5c231f\",\"type\":\"BasicTickFormatter\"},\"plot\":{\"id\":\"1d6dd6b3-4348-481b-b467-0da46c6b918d\",\"subtype\":\"Figure\",\"type\":\"Plot\"},\"ticker\":{\"id\":\"65d94325-259d-4527-b8a5-77ce75b76df3\",\"type\":\"BasicTicker\"}},\"id\":\"567a0186-798b-4d4b-8771-a90566a6b292\",\"type\":\"LinearAxis\"},{\"attributes\":{\"label\":{\"value\":\"CRD\"},\"renderers\":[{\"id\":\"18043427-798e-43a1-8108-69f90469e276\",\"type\":\"GlyphRenderer\"},{\"id\":\"73857610-fdbd-434d-a324-daf4da2920db\",\"type\":\"GlyphRenderer\"}]},\"id\":\"d308d338-ff36-4b2e-96a0-d660ecd2bf38\",\"type\":\"LegendItem\"},{\"attributes\":{\"bottom_units\":\"screen\",\"fill_alpha\":{\"value\":0.5},\"fill_color\":{\"value\":\"lightgrey\"},\"left_units\":\"screen\",\"level\":\"overlay\",\"line_alpha\":{\"value\":1.0},\"line_color\":{\"value\":\"black\"},\"line_dash\":[4,4],\"line_width\":{\"value\":2},\"plot\":null,\"render_mode\":\"css\",\"right_units\":\"screen\",\"top_units\":\"screen\"},\"id\":\"e45fbf16-52c7-41fc-b528-cddca35f2dfb\",\"type\":\"BoxAnnotation\"},{\"attributes\":{},\"id\":\"30f0d793-b739-4d5a-90c5-df32a93a5da2\",\"type\":\"LinearScale\"},{\"attributes\":{},\"id\":\"e1bba9bc-b81c-4924-8e0c-92cdd87e7459\",\"type\":\"ResetTool\"},{\"attributes\":{},\"id\":\"9d8c440e-3b9c-4766-bb80-656c4a4a2c1c\",\"type\":\"UnionRenderers\"},{\"attributes\":{},\"id\":\"5ab42d0d-d795-4d76-b741-e2d78cb1bbf6\",\"type\":\"UnionRenderers\"},{\"attributes\":{\"items\":[{\"id\":\"eb84628d-d100-4e73-ae0d-d1c1f59839b0\",\"type\":\"LegendItem\"},{\"id\":\"a292add8-d76c-494b-8d34-1b9648151b17\",\"type\":\"LegendItem\"}],\"label_text_font_size\":{\"value\":\"8pt\"},\"location\":\"top_center\",\"orientation\":\"horizontal\",\"plot\":{\"id\":\"1d51e377-7abc-47d0-9375-6f78d1895176\",\"subtype\":\"Figure\",\"type\":\"Plot\"}},\"id\":\"987f9461-4860-4760-9c7f-436e5bd82aeb\",\"type\":\"Legend\"},{\"attributes\":{\"line_color\":\"#4daf4a\",\"line_width\":1.5,\"x\":{\"field\":\"x\"},\"y\":{\"field\":\"y\"}},\"id\":\"b9a2a195-c534-4325-b4e1-acb2bbbea6a3\",\"type\":\"Line\"},{\"attributes\":{},\"id\":\"b311e669-a37d-43aa-a0c1-ad4f0e1f926b\",\"type\":\"WheelZoomTool\"},{\"attributes\":{},\"id\":\"fd58ea83-0064-42bc-84f2-80f631083615\",\"type\":\"UnionRenderers\"},{\"attributes\":{},\"id\":\"5963a07f-722c-4462-9eca-34e3e7ffea31\",\"type\":\"Selection\"},{\"attributes\":{},\"id\":\"59fcd237-7481-41dd-89f6-2ba221883593\",\"type\":\"SaveTool\"},{\"attributes\":{\"callback\":null,\"end\":12.208582536163687,\"start\":-0.60322787097269},\"id\":\"b6a64bc2-19e4-4200-b487-554317ef6029\",\"type\":\"Range1d\"},{\"attributes\":{},\"id\":\"0106d0a2-156f-4d92-908c-58c0a4215855\",\"type\":\"HelpTool\"},{\"attributes\":{},\"id\":\"5f42a4fc-e464-4446-86c2-8a22cf716309\",\"type\":\"UnionRenderers\"},{\"attributes\":{\"line_alpha\":0.1,\"line_color\":\"#1f77b4\",\"line_width\":1.5,\"x\":{\"field\":\"x\"},\"y\":{\"field\":\"y\"}},\"id\":\"d31d2a0f-3222-4192-a014-46e6925e7511\",\"type\":\"Line\"},{\"attributes\":{\"axis_label\":\"cooling rate [K/day]\",\"formatter\":{\"id\":\"f2840868-4087-4b0d-8263-a319fb0b78ee\",\"type\":\"BasicTickFormatter\"},\"plot\":{\"id\":\"48dceb77-1606-48e8-8c0b-68bd59cfed04\",\"subtype\":\"Figure\",\"type\":\"Plot\"},\"ticker\":{\"id\":\"05f520dc-71c8-464f-b287-2ed80b932b61\",\"type\":\"BasicTicker\"}},\"id\":\"1a0a9478-de86-4da3-a153-8e02eaedaf1a\",\"type\":\"LinearAxis\"},{\"attributes\":{\"plot\":null,\"text\":\"\"},\"id\":\"fc13a2c2-5ab0-4cd2-949e-19519c5a6e15\",\"type\":\"Title\"},{\"attributes\":{},\"id\":\"05f520dc-71c8-464f-b287-2ed80b932b61\",\"type\":\"BasicTicker\"},{\"attributes\":{\"above\":[{\"id\":\"987f9461-4860-4760-9c7f-436e5bd82aeb\",\"type\":\"Legend\"}],\"below\":[{\"id\":\"71186a9a-3bd5-4bab-9356-1f20e0db2197\",\"type\":\"LinearAxis\"}],\"left\":[{\"id\":\"fd4e2520-2180-4d87-9eab-e2d2c2750b39\",\"type\":\"LogAxis\"}],\"plot_width\":300,\"renderers\":[{\"id\":\"71186a9a-3bd5-4bab-9356-1f20e0db2197\",\"type\":\"LinearAxis\"},{\"id\":\"7d0688ff-201e-4d10-bd64-140a3699eae2\",\"type\":\"Grid\"},{\"id\":\"fd4e2520-2180-4d87-9eab-e2d2c2750b39\",\"type\":\"LogAxis\"},{\"id\":\"49aeebe6-d0fd-4a8a-ac30-c2c18570c249\",\"type\":\"Grid\"},{\"id\":\"e45fbf16-52c7-41fc-b528-cddca35f2dfb\",\"type\":\"BoxAnnotation\"},{\"id\":\"db0ec71e-e4dd-4e7b-a32d-a64871eb069e\",\"type\":\"GlyphRenderer\"},{\"id\":\"8dcb2d43-14de-48c6-a5d1-cccf51ed1734\",\"type\":\"GlyphRenderer\"},{\"id\":\"66595141-245c-4c19-b252-5fe89027ee14\",\"type\":\"GlyphRenderer\"},{\"id\":\"987f9461-4860-4760-9c7f-436e5bd82aeb\",\"type\":\"Legend\"}],\"title\":{\"id\":\"fc13a2c2-5ab0-4cd2-949e-19519c5a6e15\",\"type\":\"Title\"},\"toolbar\":{\"id\":\"e088ccb0-d87e-4ac4-8a87-912916753cf6\",\"type\":\"Toolbar\"},\"toolbar_location\":null,\"x_range\":{\"id\":\"b6a64bc2-19e4-4200-b487-554317ef6029\",\"type\":\"Range1d\"},\"x_scale\":{\"id\":\"c8341fa6-27de-47a6-860c-1aa86eb57052\",\"type\":\"LinearScale\"},\"y_range\":{\"id\":\"fb8cb1e6-f838-4755-bff3-46c0f17d50b6\",\"type\":\"Range1d\"},\"y_scale\":{\"id\":\"09a4c203-e3c7-41ee-b584-161e3bfa02cc\",\"type\":\"LogScale\"}},\"id\":\"1d51e377-7abc-47d0-9375-6f78d1895176\",\"subtype\":\"Figure\",\"type\":\"Plot\"},{\"attributes\":{\"source\":{\"id\":\"04e90b48-59f7-4d77-9ff2-569159c386a9\",\"type\":\"ColumnDataSource\"}},\"id\":\"f58aa479-50f8-4c09-84b5-8b91decb5bb8\",\"type\":\"CDSView\"},{\"attributes\":{\"data_source\":{\"id\":\"04e90b48-59f7-4d77-9ff2-569159c386a9\",\"type\":\"ColumnDataSource\"},\"glyph\":{\"id\":\"b9a2a195-c534-4325-b4e1-acb2bbbea6a3\",\"type\":\"Line\"},\"hover_glyph\":null,\"muted_glyph\":null,\"nonselection_glyph\":{\"id\":\"d31d2a0f-3222-4192-a014-46e6925e7511\",\"type\":\"Line\"},\"selection_glyph\":null,\"view\":{\"id\":\"f58aa479-50f8-4c09-84b5-8b91decb5bb8\",\"type\":\"CDSView\"}},\"id\":\"73857610-fdbd-434d-a324-daf4da2920db\",\"type\":\"GlyphRenderer\"},{\"attributes\":{\"label\":{\"value\":\"CLIRAD (single-run)\"},\"renderers\":[{\"id\":\"87ae5419-516d-42a5-bf53-2eaf2b945c25\",\"type\":\"GlyphRenderer\"}]},\"id\":\"9c0bed53-1414-4167-8e13-db1a2477cb8b\",\"type\":\"LegendItem\"},{\"attributes\":{\"active_drag\":\"auto\",\"active_inspect\":\"auto\",\"active_scroll\":\"auto\",\"active_tap\":\"auto\",\"tools\":[{\"id\":\"a10d58c8-9feb-4491-b155-e106d60d0baa\",\"type\":\"PanTool\"},{\"id\":\"b311e669-a37d-43aa-a0c1-ad4f0e1f926b\",\"type\":\"WheelZoomTool\"},{\"id\":\"dc73f501-3f64-4f81-a821-eeea7ddeee90\",\"type\":\"BoxZoomTool\"},{\"id\":\"59fcd237-7481-41dd-89f6-2ba221883593\",\"type\":\"SaveTool\"},{\"id\":\"e1bba9bc-b81c-4924-8e0c-92cdd87e7459\",\"type\":\"ResetTool\"},{\"id\":\"0106d0a2-156f-4d92-908c-58c0a4215855\",\"type\":\"HelpTool\"}]},\"id\":\"e088ccb0-d87e-4ac4-8a87-912916753cf6\",\"type\":\"Toolbar\"},{\"attributes\":{\"axis_label\":\"pressure [mb]\",\"formatter\":{\"id\":\"ef5d8f21-74e5-473d-ad87-701246a41fff\",\"type\":\"BasicTickFormatter\"},\"plot\":{\"id\":\"48dceb77-1606-48e8-8c0b-68bd59cfed04\",\"subtype\":\"Figure\",\"type\":\"Plot\"},\"ticker\":{\"id\":\"564a6e74-a11a-440b-b15b-5f84ff140ea1\",\"type\":\"BasicTicker\"}},\"id\":\"84d45220-8a18-4074-a860-d74f916fe48a\",\"type\":\"LinearAxis\"},{\"attributes\":{},\"id\":\"c8341fa6-27de-47a6-860c-1aa86eb57052\",\"type\":\"LinearScale\"},{\"attributes\":{},\"id\":\"0d24d882-7132-408e-86cc-b33de9d0593f\",\"type\":\"Selection\"},{\"attributes\":{},\"id\":\"564a6e74-a11a-440b-b15b-5f84ff140ea1\",\"type\":\"BasicTicker\"},{\"attributes\":{\"overlay\":{\"id\":\"07f6551b-1ee8-438b-a552-6813cc3e422e\",\"type\":\"BoxAnnotation\"}},\"id\":\"cd6b1f73-0a28-4c85-8d1f-324f0108df6a\",\"type\":\"BoxZoomTool\"},{\"attributes\":{\"callback\":null,\"data\":{\"x\":{\"__ndarray__\":\"R/KIaN7AVEClCeJMyPNGQOvRhpxr30JAptxzhxx4PkA7SssMElA4QK6Bp3CyUDNAsVXpjES9LkBFhUV0+5coQMHYwqbbySNA6f09nM3nH0CaSd/3eYoZQDmgiAOW8BNAPYqARh3eDEBkm4vCgvr+P9D+5tWhQfY/P8DwKRnSAkBq38kb17ILQDT7IWuSsxFAUr2Rjm0FFkAinq3s9XgbQGCHwtYcqSFAG64kT303J0C7dRDneyooQD9JYrbK8yRA9S3bneHhIUAIymSuUMMcQIkHLe6VEBdAAau3cITREkA6CiNvkQIPQJU39ki7IQlAaAvwok1UA0BXLQiS4+L7P0xzDpJ2hPI/NNuPGMbJ5z91mUVYxqfSPxqwUPSxZca/G11peifD3L8QzNj5t2jTvwzOozTL360/SPJ4VI1VzD9KJ0nXEIncP8yDdlvHt+4/Et49nYLW9z++2teD4Jn+P+568eH/bwFALf5D9lmAAkCiZAicVOkCQPPT4jNKxwJAOjp3wTzBAUBSQsKNGisBQG4OmjqJwQBAJ3sZoHFuAEA5Ar0Sdi0AQGy4rw5+9f8/7W4nSrC3/z8mPr8zj4T/P4UYRHCQS/8/embVKYcF/z+5YXG+LLP+P/qb8BVUgf4/KvafTtyO/j/avAK1Ppv+PwJV9VVm2P0/JFtYlU/n/D9sN+q2fiX6Pw44e41PNPc/Opt+Z/wN9T+x3vcSW1vzP9ofvWQJlvI/8sciQQBW8j80sfkQa17yPzg5qng2r/I/Oh14WJBh8z+VZjnpctj0P6CcrSuCqQBA\",\"dtype\":\"float64\",\"shape\":[75]},\"y\":{\"__ndarray__\":\"GhExyth1ND/Sv8nbtpRIP2vylNV0PVE/aTum7souWD/At0SJ8fVgPw3Iuahxymc/MSNhhJWvcD/bTfBN02d3P2zb5nxnaoA/CD5h5MAGhz8NmeH1TyaQP+zrCsc9p5Y/LbKd76fGnz/bLW5ISEmmPww9YvTcQq8/JV2OstnstT8Er5Y7M8G+P0c+r3jqkcU/5h99k6ZBzj88bCIzFzjVP4enV8oyxN0//yH99nXg5D8qOpLLf0jtP5kqGJXUifQ/c9cS8kHP/D+/DpwzojQEQIEmwoanVwxA4lgXt9HgE0BSSZ2AJuIbQAMJih9jjiNA5q4l5INuK0AwTKYKRj0zQNv5fmq8/DpAaCJseHrtQkB/+zpwzoxKQM3MzMzMeFJAZmZmZmZqWEAAAAAAAFxeQM3MzMzMJmJAmpmZmZkfZUBmZmZmZhhoQDMzMzMzEWtAAAAAAAAKbkBmZmZmZoFwQM3MzMzM/XFAMzMzMzN6c0CamZmZmfZ0QAAAAAAAc3ZAZmZmZmbvd0DNzMzMzGt5QDMzMzMz6HpAmpmZmZlkfEAAAAAAAOF9QGZmZmZmXX9AZmZmZuZsgECamZmZGSuBQM3MzMxM6YFAAAAAAICngkAzMzMzs2WDQGZmZmbmI4RAmpmZmRnihEDNzMzMTKCFQAAAAACAXoZAMzMzM7Mch0BmZmZm5tqHQJqZmZkZmYhAzczMzExXiUAAAAAAgBWKQDMzMzOz04pAZmZmZuaRi0CamZmZGVCMQM3MzMxMDo1AAAAAAIDMjUAzMzMzs4qOQGZmZmbmSI9A\",\"dtype\":\"float64\",\"shape\":[75]}},\"selected\":{\"id\":\"15777895-cef6-4b8f-806f-3837c5a0a207\",\"type\":\"Selection\"},\"selection_policy\":{\"id\":\"654c9d0e-d264-48af-ab0e-13890ae69122\",\"type\":\"UnionRenderers\"}},\"id\":\"4edeff5b-6dc1-4284-b9e3-20f2ecac9aa8\",\"type\":\"ColumnDataSource\"},{\"attributes\":{\"label\":{\"value\":\"CLIRAD (single-run) - CRD\"},\"renderers\":[{\"id\":\"c865c2fe-f4fc-43f7-ae35-b1ac10b05e9f\",\"type\":\"GlyphRenderer\"},{\"id\":\"3b107cb1-d77d-48fb-b88b-c3be138d578d\",\"type\":\"GlyphRenderer\"}]},\"id\":\"ec67d481-88c9-4de0-8209-62fbbe21ca3b\",\"type\":\"LegendItem\"},{\"attributes\":{\"bottom_units\":\"screen\",\"fill_alpha\":{\"value\":0.5},\"fill_color\":{\"value\":\"lightgrey\"},\"left_units\":\"screen\",\"level\":\"overlay\",\"line_alpha\":{\"value\":1.0},\"line_color\":{\"value\":\"black\"},\"line_dash\":[4,4],\"line_width\":{\"value\":2},\"plot\":null,\"render_mode\":\"css\",\"right_units\":\"screen\",\"top_units\":\"screen\"},\"id\":\"07f6551b-1ee8-438b-a552-6813cc3e422e\",\"type\":\"BoxAnnotation\"},{\"attributes\":{\"data_source\":{\"id\":\"957967db-b7bc-4529-80bb-92ade446e51c\",\"type\":\"ColumnDataSource\"},\"glyph\":{\"id\":\"6f61aeef-1dc1-454f-9ba2-3b8e08344372\",\"type\":\"Circle\"},\"hover_glyph\":null,\"muted_glyph\":null,\"nonselection_glyph\":{\"id\":\"83ce62c2-8e16-4046-ab6c-08589c3243c5\",\"type\":\"Circle\"},\"selection_glyph\":null,\"view\":{\"id\":\"d36ea2c3-f007-49a9-9ee7-1511040e3e76\",\"type\":\"CDSView\"}},\"id\":\"c865c2fe-f4fc-43f7-ae35-b1ac10b05e9f\",\"type\":\"GlyphRenderer\"},{\"attributes\":{\"dimension\":1,\"plot\":{\"id\":\"1d51e377-7abc-47d0-9375-6f78d1895176\",\"subtype\":\"Figure\",\"type\":\"Plot\"},\"ticker\":{\"id\":\"3bd2359d-b5a5-484a-b9de-e17f78d24bd9\",\"type\":\"LogTicker\"}},\"id\":\"49aeebe6-d0fd-4a8a-ac30-c2c18570c249\",\"type\":\"Grid\"},{\"attributes\":{},\"id\":\"1b3c4302-c14a-4efb-88e2-5c695980ed0d\",\"type\":\"HelpTool\"},{\"attributes\":{\"fill_alpha\":{\"value\":0.7},\"fill_color\":{\"value\":\"#984ea3\"},\"line_alpha\":{\"value\":0.7},\"line_color\":{\"value\":\"#984ea3\"},\"x\":{\"field\":\"x\"},\"y\":{\"field\":\"y\"}},\"id\":\"6f61aeef-1dc1-454f-9ba2-3b8e08344372\",\"type\":\"Circle\"},{\"attributes\":{\"label\":{\"value\":\"CLIRAD (single-run)\"},\"renderers\":[{\"id\":\"db0ec71e-e4dd-4e7b-a32d-a64871eb069e\",\"type\":\"GlyphRenderer\"}]},\"id\":\"eb84628d-d100-4e73-ae0d-d1c1f59839b0\",\"type\":\"LegendItem\"},{\"attributes\":{},\"id\":\"f2840868-4087-4b0d-8263-a319fb0b78ee\",\"type\":\"BasicTickFormatter\"},{\"attributes\":{\"callback\":null,\"end\":0.01,\"start\":1020},\"id\":\"ed89458f-4fbf-4126-85db-44277890c22d\",\"type\":\"Range1d\"},{\"attributes\":{\"source\":{\"id\":\"957967db-b7bc-4529-80bb-92ade446e51c\",\"type\":\"ColumnDataSource\"}},\"id\":\"d36ea2c3-f007-49a9-9ee7-1511040e3e76\",\"type\":\"CDSView\"},{\"attributes\":{},\"id\":\"c1e402d0-4aa8-4449-91e0-3cd67fec5306\",\"type\":\"WheelZoomTool\"},{\"attributes\":{\"line_alpha\":0.1,\"line_color\":\"#1f77b4\",\"line_dash\":[6],\"line_width\":5,\"x\":{\"field\":\"x\"},\"y\":{\"field\":\"y\"}},\"id\":\"339c3484-6bf5-4154-b2f3-7e8949879382\",\"type\":\"Line\"},{\"attributes\":{\"num_minor_ticks\":10},\"id\":\"3bd2359d-b5a5-484a-b9de-e17f78d24bd9\",\"type\":\"LogTicker\"},{\"attributes\":{},\"id\":\"b01b43fc-f9d0-4f5b-8d91-6438b211917b\",\"type\":\"SaveTool\"},{\"attributes\":{},\"id\":\"ef5d8f21-74e5-473d-ad87-701246a41fff\",\"type\":\"BasicTickFormatter\"},{\"attributes\":{\"above\":[{\"id\":\"5dec3167-2b5d-4019-a63b-34a06dddf3a4\",\"type\":\"Legend\"}],\"below\":[{\"id\":\"567a0186-798b-4d4b-8771-a90566a6b292\",\"type\":\"LinearAxis\"}],\"left\":[{\"id\":\"a33848fd-af89-4b36-957e-0b53acd4418f\",\"type\":\"LogAxis\"}],\"plot_width\":300,\"renderers\":[{\"id\":\"567a0186-798b-4d4b-8771-a90566a6b292\",\"type\":\"LinearAxis\"},{\"id\":\"dabbd885-2010-4818-a42b-dc739ac5b7f3\",\"type\":\"Grid\"},{\"id\":\"a33848fd-af89-4b36-957e-0b53acd4418f\",\"type\":\"LogAxis\"},{\"id\":\"96e6adf7-ea37-4fde-8076-862e0445b401\",\"type\":\"Grid\"},{\"id\":\"07f6551b-1ee8-438b-a552-6813cc3e422e\",\"type\":\"BoxAnnotation\"},{\"id\":\"c865c2fe-f4fc-43f7-ae35-b1ac10b05e9f\",\"type\":\"GlyphRenderer\"},{\"id\":\"3b107cb1-d77d-48fb-b88b-c3be138d578d\",\"type\":\"GlyphRenderer\"},{\"id\":\"5dec3167-2b5d-4019-a63b-34a06dddf3a4\",\"type\":\"Legend\"}],\"title\":{\"id\":\"a0f4a7c7-f044-4906-8ad9-7fc42c04f2c5\",\"type\":\"Title\"},\"toolbar\":{\"id\":\"948b29c0-e721-4aad-b05c-e838b61c0e3c\",\"type\":\"Toolbar\"},\"toolbar_location\":null,\"x_range\":{\"id\":\"807b2fef-a455-4609-8885-dc196b460e16\",\"type\":\"Range1d\"},\"x_scale\":{\"id\":\"5798d72b-9c19-450f-9222-7870af2337ad\",\"type\":\"LinearScale\"},\"y_range\":{\"id\":\"18952623-6bee-4cae-a555-ee335aa79271\",\"type\":\"Range1d\"},\"y_scale\":{\"id\":\"4e6e8b5f-bf5f-4356-bfd7-2c86ebdb8e80\",\"type\":\"LogScale\"}},\"id\":\"1d6dd6b3-4348-481b-b467-0da46c6b918d\",\"subtype\":\"Figure\",\"type\":\"Plot\"},{\"attributes\":{\"data_source\":{\"id\":\"6b819ad1-e05f-4e74-8973-583cf8453251\",\"type\":\"ColumnDataSource\"},\"glyph\":{\"id\":\"a727ef0a-81d7-498e-92d8-9e50a3c43735\",\"type\":\"Line\"},\"hover_glyph\":null,\"muted_glyph\":null,\"nonselection_glyph\":{\"id\":\"339c3484-6bf5-4154-b2f3-7e8949879382\",\"type\":\"Line\"},\"selection_glyph\":null,\"view\":{\"id\":\"25f26e62-990e-40f9-8f2c-8d8e7c927772\",\"type\":\"CDSView\"}},\"id\":\"db0ec71e-e4dd-4e7b-a32d-a64871eb069e\",\"type\":\"GlyphRenderer\"},{\"attributes\":{\"plot\":null,\"text\":\"\"},\"id\":\"7cd08c8d-0135-4aa6-8308-167fee807ac0\",\"type\":\"Title\"},{\"attributes\":{\"children\":[{\"id\":\"48dceb77-1606-48e8-8c0b-68bd59cfed04\",\"subtype\":\"Figure\",\"type\":\"Plot\"},{\"id\":\"1d51e377-7abc-47d0-9375-6f78d1895176\",\"subtype\":\"Figure\",\"type\":\"Plot\"},{\"id\":\"1d6dd6b3-4348-481b-b467-0da46c6b918d\",\"subtype\":\"Figure\",\"type\":\"Plot\"}]},\"id\":\"c8eeb720-f31c-466e-93af-3f50c7f9e7d4\",\"type\":\"Row\"},{\"attributes\":{},\"id\":\"eba58558-f3fb-4d5a-8a6e-f1b706a223cb\",\"type\":\"PanTool\"},{\"attributes\":{},\"id\":\"926bf24b-1119-4c4a-844c-b92823641786\",\"type\":\"PanTool\"},{\"attributes\":{\"callback\":null,\"end\":2.3923464390465905,\"start\":-0.50603741456559},\"id\":\"06e734e9-90af-464c-8344-3a7b8c7a55a1\",\"type\":\"Range1d\"},{\"attributes\":{\"fill_alpha\":{\"value\":0.7},\"fill_color\":{\"value\":\"#4daf4a\"},\"line_alpha\":{\"value\":0.7},\"line_color\":{\"value\":\"#4daf4a\"},\"x\":{\"field\":\"x\"},\"y\":{\"field\":\"y\"}},\"id\":\"b95b17bb-a51e-4ec9-ad3f-b0bc149c96c1\",\"type\":\"Circle\"},{\"attributes\":{},\"id\":\"52cb7914-b90f-4be7-bd33-4595856983a9\",\"type\":\"ResetTool\"},{\"attributes\":{\"callback\":null,\"data\":{\"x\":{\"__ndarray__\":\"hQDizhf+Q8C9K7VPP4cgwJ45ivCkvwLAPrgd1IsN/D+7olvZiCgOQMfUJ5JPyw5AuoTPxstSBEDfsAhjqs7mPyG2aQPjFui/skYKbTIs9b8pmp3aPUHxvycIBbz0t96/evs4oRCitj+B1IFWZZfdPxqZq9kgTuE/lkgHH1bO1j/w/UZOEheyP4s6Gj7pbdG/+wyRYP474b+smxPTmVbhv1avJCCRsdO/LsHmAh7iur/uITsdI6mhv0XyCaug5Mu/da5/Dt1Y17/0SZ1RPmu7v1IJJSPzfdQ/kf0YDzym1T+PyE3OmIe4P7jzyz26Y4k/NR64+Gpozj+4volZXD7UP0WpJ1BRZME/OGepDTb1q790Wc7i3Kyav5cLhRLWcaM/rtdtlD7jnL8aKsAueeCyv2Wpn2hd166/ar+6uSL5q79JzvJIH9auv/oMy14/yq+/pHIp76m9sb+lGi6utlOov4Vb7kFUgbC/MhV07Slyv79SUDv5Zz20v5Z+ZH9eqK6/a4fNmQ9Vtb+gYJ66nz+1v/WnYBCUlqy/VJbOBzizn78Ay7ktF52UvwWi9HOtN5a/sayJvugWnr+GXu8dPU6fv2mqpry+3I6/brMXGwRnjj+CthimMBumPyLtjj5Gdqw/6Cp6xg+spz/6H0XpR82XPwCoGcKZrhM/pA4f0Td7fb/obh9nEuRkP/aoiDn57Zk/0BtJk+X8qz9pu9nNcjOyPxw4oFwM4rI/yDVB3u/zsz86WCrHOQe1P7GEpHPfIbY/yHpoq4sluj+M7Z3fXC2+Pykcaqn2yL8/\",\"dtype\":\"float64\",\"shape\":[75]},\"y\":{\"__ndarray__\":\"GhExyth1ND/Sv8nbtpRIP2vylNV0PVE/aTum7souWD/At0SJ8fVgPw3Iuahxymc/MSNhhJWvcD/bTfBN02d3P2zb5nxnaoA/CD5h5MAGhz8NmeH1TyaQP+zrCsc9p5Y/LbKd76fGnz/bLW5ISEmmPww9YvTcQq8/JV2OstnstT8Er5Y7M8G+P0c+r3jqkcU/5h99k6ZBzj88bCIzFzjVP4enV8oyxN0//yH99nXg5D8qOpLLf0jtP5kqGJXUifQ/c9cS8kHP/D+/DpwzojQEQIEmwoanVwxA4lgXt9HgE0BSSZ2AJuIbQAMJih9jjiNA5q4l5INuK0AwTKYKRj0zQNv5fmq8/DpAaCJseHrtQkB/+zpwzoxKQM3MzMzMeFJAZmZmZmZqWEAAAAAAAFxeQM3MzMzMJmJAmpmZmZkfZUBmZmZmZhhoQDMzMzMzEWtAAAAAAAAKbkBmZmZmZoFwQM3MzMzM/XFAMzMzMzN6c0CamZmZmfZ0QAAAAAAAc3ZAZmZmZmbvd0DNzMzMzGt5QDMzMzMz6HpAmpmZmZlkfEAAAAAAAOF9QGZmZmZmXX9AZmZmZuZsgECamZmZGSuBQM3MzMxM6YFAAAAAAICngkAzMzMzs2WDQGZmZmbmI4RAmpmZmRnihEDNzMzMTKCFQAAAAACAXoZAMzMzM7Mch0BmZmZm5tqHQJqZmZkZmYhAzczMzExXiUAAAAAAgBWKQDMzMzOz04pAZmZmZuaRi0CamZmZGVCMQM3MzMxMDo1AAAAAAIDMjUAzMzMzs4qOQGZmZmbmSI9A\",\"dtype\":\"float64\",\"shape\":[75]}},\"selected\":{\"id\":\"5d61eb0e-1b97-41c0-a715-17ec923cca72\",\"type\":\"Selection\"},\"selection_policy\":{\"id\":\"6274b460-ec41-4f65-9254-d902f769b2a1\",\"type\":\"UnionRenderers\"}},\"id\":\"79a10735-77f9-4aaa-b066-39acf6dc3507\",\"type\":\"ColumnDataSource\"},{\"attributes\":{\"callback\":null,\"data\":{\"x\":{\"__ndarray__\":\"R/KIaN7AVEClCeJMyPNGQOvRhpxr30JAptxzhxx4PkA7SssMElA4QK6Bp3CyUDNAsVXpjES9LkBFhUV0+5coQMHYwqbbySNA6f09nM3nH0CaSd/3eYoZQDmgiAOW8BNAPYqARh3eDEBkm4vCgvr+P9D+5tWhQfY/P8DwKRnSAkBq38kb17ILQDT7IWuSsxFAUr2Rjm0FFkAinq3s9XgbQGCHwtYcqSFAG64kT303J0C7dRDneyooQD9JYrbK8yRA9S3bneHhIUAIymSuUMMcQIkHLe6VEBdAAau3cITREkA6CiNvkQIPQJU39ki7IQlAaAvwok1UA0BXLQiS4+L7P0xzDpJ2hPI/NNuPGMbJ5z91mUVYxqfSPxqwUPSxZca/G11peifD3L8QzNj5t2jTvwzOozTL360/SPJ4VI1VzD9KJ0nXEIncP8yDdlvHt+4/Et49nYLW9z++2teD4Jn+P+568eH/bwFALf5D9lmAAkCiZAicVOkCQPPT4jNKxwJAOjp3wTzBAUBSQsKNGisBQG4OmjqJwQBAJ3sZoHFuAEA5Ar0Sdi0AQGy4rw5+9f8/7W4nSrC3/z8mPr8zj4T/P4UYRHCQS/8/embVKYcF/z+5YXG+LLP+P/qb8BVUgf4/KvafTtyO/j/avAK1Ppv+PwJV9VVm2P0/JFtYlU/n/D9sN+q2fiX6Pw44e41PNPc/Opt+Z/wN9T+x3vcSW1vzP9ofvWQJlvI/8sciQQBW8j80sfkQa17yPzg5qng2r/I/Oh14WJBh8z+VZjnpctj0P6CcrSuCqQBA\",\"dtype\":\"float64\",\"shape\":[75]},\"y\":{\"__ndarray__\":\"GhExyth1ND/Sv8nbtpRIP2vylNV0PVE/aTum7souWD/At0SJ8fVgPw3Iuahxymc/MSNhhJWvcD/bTfBN02d3P2zb5nxnaoA/CD5h5MAGhz8NmeH1TyaQP+zrCsc9p5Y/LbKd76fGnz/bLW5ISEmmPww9YvTcQq8/JV2OstnstT8Er5Y7M8G+P0c+r3jqkcU/5h99k6ZBzj88bCIzFzjVP4enV8oyxN0//yH99nXg5D8qOpLLf0jtP5kqGJXUifQ/c9cS8kHP/D+/DpwzojQEQIEmwoanVwxA4lgXt9HgE0BSSZ2AJuIbQAMJih9jjiNA5q4l5INuK0AwTKYKRj0zQNv5fmq8/DpAaCJseHrtQkB/+zpwzoxKQM3MzMzMeFJAZmZmZmZqWEAAAAAAAFxeQM3MzMzMJmJAmpmZmZkfZUBmZmZmZhhoQDMzMzMzEWtAAAAAAAAKbkBmZmZmZoFwQM3MzMzM/XFAMzMzMzN6c0CamZmZmfZ0QAAAAAAAc3ZAZmZmZmbvd0DNzMzMzGt5QDMzMzMz6HpAmpmZmZlkfEAAAAAAAOF9QGZmZmZmXX9AZmZmZuZsgECamZmZGSuBQM3MzMxM6YFAAAAAAICngkAzMzMzs2WDQGZmZmbmI4RAmpmZmRnihEDNzMzMTKCFQAAAAACAXoZAMzMzM7Mch0BmZmZm5tqHQJqZmZkZmYhAzczMzExXiUAAAAAAgBWKQDMzMzOz04pAZmZmZuaRi0CamZmZGVCMQM3MzMxMDo1AAAAAAIDMjUAzMzMzs4qOQGZmZmbmSI9A\",\"dtype\":\"float64\",\"shape\":[75]}},\"selected\":{\"id\":\"bf27d2b0-889b-486d-add1-72b2aa207d0c\",\"type\":\"Selection\"},\"selection_policy\":{\"id\":\"fd58ea83-0064-42bc-84f2-80f631083615\",\"type\":\"UnionRenderers\"}},\"id\":\"54ffce17-6b6a-4a56-9bab-3b676691ee61\",\"type\":\"ColumnDataSource\"},{\"attributes\":{\"fill_alpha\":{\"value\":0.1},\"fill_color\":{\"value\":\"#1f77b4\"},\"line_alpha\":{\"value\":0.1},\"line_color\":{\"value\":\"#1f77b4\"},\"x\":{\"field\":\"x\"},\"y\":{\"field\":\"y\"}},\"id\":\"83ce62c2-8e16-4046-ab6c-08589c3243c5\",\"type\":\"Circle\"},{\"attributes\":{\"callback\":null,\"data\":{\"x\":{\"__ndarray__\":\"hQDizhf+Q8C9K7VPP4cgwJ45ivCkvwLAPrgd1IsN/D+7olvZiCgOQMfUJ5JPyw5AuoTPxstSBEDfsAhjqs7mPyG2aQPjFui/skYKbTIs9b8pmp3aPUHxvycIBbz0t96/evs4oRCitj+B1IFWZZfdPxqZq9kgTuE/lkgHH1bO1j/w/UZOEheyP4s6Gj7pbdG/+wyRYP474b+smxPTmVbhv1avJCCRsdO/LsHmAh7iur/uITsdI6mhv0XyCaug5Mu/da5/Dt1Y17/0SZ1RPmu7v1IJJSPzfdQ/kf0YDzym1T+PyE3OmIe4P7jzyz26Y4k/NR64+Gpozj+4volZXD7UP0WpJ1BRZME/OGepDTb1q790Wc7i3Kyav5cLhRLWcaM/rtdtlD7jnL8aKsAueeCyv2Wpn2hd166/ar+6uSL5q79JzvJIH9auv/oMy14/yq+/pHIp76m9sb+lGi6utlOov4Vb7kFUgbC/MhV07Slyv79SUDv5Zz20v5Z+ZH9eqK6/a4fNmQ9Vtb+gYJ66nz+1v/WnYBCUlqy/VJbOBzizn78Ay7ktF52UvwWi9HOtN5a/sayJvugWnr+GXu8dPU6fv2mqpry+3I6/brMXGwRnjj+CthimMBumPyLtjj5Gdqw/6Cp6xg+spz/6H0XpR82XPwCoGcKZrhM/pA4f0Td7fb/obh9nEuRkP/aoiDn57Zk/0BtJk+X8qz9pu9nNcjOyPxw4oFwM4rI/yDVB3u/zsz86WCrHOQe1P7GEpHPfIbY/yHpoq4sluj+M7Z3fXC2+Pykcaqn2yL8/\",\"dtype\":\"float64\",\"shape\":[75]},\"y\":{\"__ndarray__\":\"GhExyth1ND/Sv8nbtpRIP2vylNV0PVE/aTum7souWD/At0SJ8fVgPw3Iuahxymc/MSNhhJWvcD/bTfBN02d3P2zb5nxnaoA/CD5h5MAGhz8NmeH1TyaQP+zrCsc9p5Y/LbKd76fGnz/bLW5ISEmmPww9YvTcQq8/JV2OstnstT8Er5Y7M8G+P0c+r3jqkcU/5h99k6ZBzj88bCIzFzjVP4enV8oyxN0//yH99nXg5D8qOpLLf0jtP5kqGJXUifQ/c9cS8kHP/D+/DpwzojQEQIEmwoanVwxA4lgXt9HgE0BSSZ2AJuIbQAMJih9jjiNA5q4l5INuK0AwTKYKRj0zQNv5fmq8/DpAaCJseHrtQkB/+zpwzoxKQM3MzMzMeFJAZmZmZmZqWEAAAAAAAFxeQM3MzMzMJmJAmpmZmZkfZUBmZmZmZhhoQDMzMzMzEWtAAAAAAAAKbkBmZmZmZoFwQM3MzMzM/XFAMzMzMzN6c0CamZmZmfZ0QAAAAAAAc3ZAZmZmZmbvd0DNzMzMzGt5QDMzMzMz6HpAmpmZmZlkfEAAAAAAAOF9QGZmZmZmXX9AZmZmZuZsgECamZmZGSuBQM3MzMxM6YFAAAAAAICngkAzMzMzs2WDQGZmZmbmI4RAmpmZmRnihEDNzMzMTKCFQAAAAACAXoZAMzMzM7Mch0BmZmZm5tqHQJqZmZkZmYhAzczMzExXiUAAAAAAgBWKQDMzMzOz04pAZmZmZuaRi0CamZmZGVCMQM3MzMxMDo1AAAAAAIDMjUAzMzMzs4qOQGZmZmbmSI9A\",\"dtype\":\"float64\",\"shape\":[75]}},\"selected\":{\"id\":\"fc94a270-ca68-4e3e-9aa9-6602b005ba6c\",\"type\":\"Selection\"},\"selection_policy\":{\"id\":\"203f8449-a8fc-4cfd-b4a1-e5d768c07ef7\",\"type\":\"UnionRenderers\"}},\"id\":\"957967db-b7bc-4529-80bb-92ade446e51c\",\"type\":\"ColumnDataSource\"},{\"attributes\":{},\"id\":\"e0883920-e9f6-4012-81c2-3e6826c16a49\",\"type\":\"WheelZoomTool\"}],\"root_ids\":[\"f50216ad-aed5-4531-94a9-0b2e36b3ff92\"]},\"title\":\"Bokeh Application\",\"version\":\"0.12.16\"}};\n",
       "  var render_items = [{\"docid\":\"ce93f5b0-1df8-46c2-88a9-270513e97c77\",\"elementid\":\"8997f1ea-7830-4514-9ef3-f03c91b595ac\",\"modelid\":\"f50216ad-aed5-4531-94a9-0b2e36b3ff92\"}];\n",
       "  root.Bokeh.embed.embed_items_notebook(docs_json, render_items);\n",
       "\n",
       "  }\n",
       "  if (root.Bokeh !== undefined) {\n",
       "    embed_document(root);\n",
       "  } else {\n",
       "    var attempts = 0;\n",
       "    var timer = setInterval(function(root) {\n",
       "      if (root.Bokeh !== undefined) {\n",
       "        embed_document(root);\n",
       "        clearInterval(timer);\n",
       "      }\n",
       "      attempts++;\n",
       "      if (attempts > 100) {\n",
       "        console.log(\"Bokeh: ERROR: Unable to run BokehJS code because BokehJS library is missing\")\n",
       "        clearInterval(timer);\n",
       "      }\n",
       "    }, 10, root)\n",
       "  }\n",
       "})(window);"
      ],
      "application/vnd.bokehjs_exec.v0+json": ""
     },
     "metadata": {
      "application/vnd.bokehjs_exec.v0+json": {
       "id": "f50216ad-aed5-4531-94a9-0b2e36b3ff92"
      }
     },
     "output_type": "display_data"
    },
    {
     "data": {
      "text/markdown": [
       "*FIGURE.* Cooling rates & difference."
      ],
      "text/plain": [
       "<IPython.core.display.Markdown object>"
      ]
     },
     "metadata": {},
     "output_type": "display_data"
    },
    {
     "data": {
      "text/html": [
       "<a id=\"Fluxes._trp.\"></a>"
      ],
      "text/plain": [
       "<IPython.core.display.HTML object>"
      ]
     },
     "metadata": {},
     "output_type": "display_data"
    },
    {
     "data": {
      "text/markdown": [
       "# Fluxes. trp."
      ],
      "text/plain": [
       "<IPython.core.display.Markdown object>"
      ]
     },
     "metadata": {},
     "output_type": "display_data"
    },
    {
     "data": {
      "text/html": [
       "\n",
       "<div class=\"bk-root\">\n",
       "    <div class=\"bk-plotdiv\" id=\"f95242f3-eedb-408a-b173-d6be7460651c\"></div>\n",
       "</div>"
      ]
     },
     "metadata": {},
     "output_type": "display_data"
    },
    {
     "data": {
      "application/javascript": [
       "(function(root) {\n",
       "  function embed_document(root) {\n",
       "    \n",
       "  var docs_json = {\"3c9bcbce-7711-46bc-9294-35b8f0272f06\":{\"roots\":{\"references\":[{\"attributes\":{\"children\":[{\"id\":\"d08110a3-f156-4794-bc40-da7d74ad151d\",\"type\":\"ToolbarBox\"},{\"id\":\"ba317307-dee4-4e3c-8181-70fb91641b51\",\"type\":\"Column\"}]},\"id\":\"53129052-7198-4f47-bb1d-ccefb7f213fc\",\"type\":\"Column\"},{\"attributes\":{},\"id\":\"a30eea8d-7b0d-4943-b125-a76d48d7af19\",\"type\":\"ResetTool\"},{\"attributes\":{\"fill_color\":{\"value\":\"#1f77b4\"},\"line_color\":{\"value\":\"#1f77b4\"},\"top\":{\"field\":\"flux\"},\"width\":{\"value\":0.9},\"x\":{\"field\":\"band\"}},\"id\":\"08ae990d-fc5b-473e-a5ce-dcbf57204553\",\"type\":\"VBar\"},{\"attributes\":{},\"id\":\"43095552-a749-4644-9d96-004a4d861e25\",\"type\":\"CategoricalTickFormatter\"},{\"attributes\":{},\"id\":\"4b16bf1a-9e51-401a-bc7e-e666556429b1\",\"type\":\"BasicTickFormatter\"},{\"attributes\":{},\"id\":\"c150def9-1e0c-4158-b9e5-677752859b20\",\"type\":\"BasicTickFormatter\"},{\"attributes\":{},\"id\":\"fc1258c3-53b0-4efe-8d42-60b2e5209222\",\"type\":\"Selection\"},{\"attributes\":{\"callback\":null,\"data\":{\"band\":[\"1\",\"2\",\"3\",\"4\",\"5\",\"6\",\"7\",\"8\",\"9\",\"10\",\"11\"],\"flux\":{\"__ndarray__\":\"AADADkbs874Ak+S5vg/QPwAq5Eo9C8q/AHSERUWcrj8AMLq8OVzjP+DPm4pUGN0/wORV52Idsj8AQGTbs/iOPwD/I9Oh09E/AFDtmpDWiD8Asw6iEFywPw==\",\"dtype\":\"float64\",\"shape\":[11]}},\"selected\":{\"id\":\"7085b160-4814-4f2b-9991-77d36cb4ee8e\",\"type\":\"Selection\"},\"selection_policy\":{\"id\":\"a6df039b-24f2-4968-b337-88bf20e51495\",\"type\":\"UnionRenderers\"}},\"id\":\"643d0999-f81a-404f-b437-ad1745eccd10\",\"type\":\"ColumnDataSource\"},{\"attributes\":{\"source\":{\"id\":\"714d35ff-5167-4738-a793-79c5a48a2dd1\",\"type\":\"ColumnDataSource\"}},\"id\":\"270cf63a-45b9-4ab5-9bd1-125ed01ff644\",\"type\":\"CDSView\"},{\"attributes\":{\"toolbar\":{\"id\":\"e335b5da-a8e3-4e7e-a4b8-a58b3c2144e5\",\"type\":\"ProxyToolbar\"},\"toolbar_location\":\"above\"},\"id\":\"d08110a3-f156-4794-bc40-da7d74ad151d\",\"type\":\"ToolbarBox\"},{\"attributes\":{\"children\":[{\"id\":\"97568a04-029b-4e9f-abcc-85a3f9eac749\",\"type\":\"Row\"}]},\"id\":\"ba317307-dee4-4e3c-8181-70fb91641b51\",\"type\":\"Column\"},{\"attributes\":{},\"id\":\"7085b160-4814-4f2b-9991-77d36cb4ee8e\",\"type\":\"Selection\"},{\"attributes\":{},\"id\":\"fe3fd411-5812-45fe-9d13-39891b3f6cef\",\"type\":\"HelpTool\"},{\"attributes\":{\"tools\":[{\"id\":\"ebb64593-0e99-451d-bf15-9d8ad351825c\",\"type\":\"PanTool\"},{\"id\":\"9408eb28-df2c-486e-8d42-30692b2e80ea\",\"type\":\"WheelZoomTool\"},{\"id\":\"dda3f721-193c-43fa-b0c8-eb039046c27c\",\"type\":\"BoxZoomTool\"},{\"id\":\"b54e41ee-a2d8-416f-ab9e-dba32ad7e8ca\",\"type\":\"SaveTool\"},{\"id\":\"5aab44cb-fd7e-46d1-bde8-d8e9f9ff578d\",\"type\":\"ResetTool\"},{\"id\":\"dde11b6c-7a74-4bbf-ac50-8b5ef4bb4894\",\"type\":\"HelpTool\"},{\"id\":\"8636d9dc-1471-4a6e-824e-8fe2a1d07ef0\",\"type\":\"PanTool\"},{\"id\":\"a6bb91fe-5f90-43c1-af01-1b5234569ac2\",\"type\":\"WheelZoomTool\"},{\"id\":\"16469c5b-5f0b-441c-9df9-76b18a4134f2\",\"type\":\"BoxZoomTool\"},{\"id\":\"974e3e74-3830-4148-ae29-0a727dea0c4e\",\"type\":\"SaveTool\"},{\"id\":\"3cd2d0b0-b574-40b3-a39a-5d7abf51413d\",\"type\":\"ResetTool\"},{\"id\":\"babd4f6b-e7e9-4a5b-86cc-5458d12637b2\",\"type\":\"HelpTool\"},{\"id\":\"5691c57f-161f-41c6-8408-8470d13e0334\",\"type\":\"PanTool\"},{\"id\":\"dc756e36-ac9f-4eaf-ae94-a576e649dbb8\",\"type\":\"WheelZoomTool\"},{\"id\":\"bcf769a1-512f-40c7-84ce-121bd12204db\",\"type\":\"BoxZoomTool\"},{\"id\":\"7d40b675-872f-47d3-a1b8-e9871fa56efb\",\"type\":\"SaveTool\"},{\"id\":\"a30eea8d-7b0d-4943-b125-a76d48d7af19\",\"type\":\"ResetTool\"},{\"id\":\"fe3fd411-5812-45fe-9d13-39891b3f6cef\",\"type\":\"HelpTool\"}]},\"id\":\"e335b5da-a8e3-4e7e-a4b8-a58b3c2144e5\",\"type\":\"ProxyToolbar\"},{\"attributes\":{\"fill_alpha\":{\"value\":0.1},\"fill_color\":{\"value\":\"#1f77b4\"},\"line_alpha\":{\"value\":0.1},\"line_color\":{\"value\":\"#1f77b4\"},\"top\":{\"field\":\"flux\"},\"width\":{\"value\":0.9},\"x\":{\"field\":\"band\"}},\"id\":\"32aeee5f-ec19-45bf-b909-72dd413f0fe8\",\"type\":\"VBar\"},{\"attributes\":{},\"id\":\"5691c57f-161f-41c6-8408-8470d13e0334\",\"type\":\"PanTool\"},{\"attributes\":{\"dimension\":1,\"plot\":{\"id\":\"ebffc86a-63d0-4d6e-81b9-03b2d3256b8d\",\"subtype\":\"Figure\",\"type\":\"Plot\"},\"ticker\":{\"id\":\"58d14a68-dd83-4377-9806-fd4d220ab371\",\"type\":\"BasicTicker\"}},\"id\":\"7bd0ba1f-3997-4065-819c-72cf7c0adc96\",\"type\":\"Grid\"},{\"attributes\":{},\"id\":\"7588b96d-d11d-41bf-8eaf-a3d02932a8f6\",\"type\":\"CategoricalTickFormatter\"},{\"attributes\":{},\"id\":\"7d40b675-872f-47d3-a1b8-e9871fa56efb\",\"type\":\"SaveTool\"},{\"attributes\":{\"children\":[{\"id\":\"632fecdb-e7df-4059-96c8-bb7eb9727f19\",\"subtype\":\"Figure\",\"type\":\"Plot\"},{\"id\":\"e343196b-bcdc-418e-8b73-20e58908589f\",\"subtype\":\"Figure\",\"type\":\"Plot\"},{\"id\":\"ebffc86a-63d0-4d6e-81b9-03b2d3256b8d\",\"subtype\":\"Figure\",\"type\":\"Plot\"}]},\"id\":\"97568a04-029b-4e9f-abcc-85a3f9eac749\",\"type\":\"Row\"},{\"attributes\":{\"data_source\":{\"id\":\"714d35ff-5167-4738-a793-79c5a48a2dd1\",\"type\":\"ColumnDataSource\"},\"glyph\":{\"id\":\"08ae990d-fc5b-473e-a5ce-dcbf57204553\",\"type\":\"VBar\"},\"hover_glyph\":null,\"muted_glyph\":null,\"nonselection_glyph\":{\"id\":\"32aeee5f-ec19-45bf-b909-72dd413f0fe8\",\"type\":\"VBar\"},\"selection_glyph\":null,\"view\":{\"id\":\"270cf63a-45b9-4ab5-9bd1-125ed01ff644\",\"type\":\"CDSView\"}},\"id\":\"bb39d7bb-b003-4a3e-aac9-8a1964a5425f\",\"type\":\"GlyphRenderer\"},{\"attributes\":{\"data_source\":{\"id\":\"e5f6ddd9-1aec-43a5-8a69-ee01601e9748\",\"type\":\"ColumnDataSource\"},\"glyph\":{\"id\":\"2d03a033-6581-490c-9cb0-5b81e7ead75f\",\"type\":\"VBar\"},\"hover_glyph\":null,\"muted_glyph\":null,\"nonselection_glyph\":{\"id\":\"f2fab287-c9d6-4c66-9dac-b2b4e1b63edf\",\"type\":\"VBar\"},\"selection_glyph\":null,\"view\":{\"id\":\"0a369ee4-9cbd-4f9c-a9e0-6bdbb93e4e31\",\"type\":\"CDSView\"}},\"id\":\"81a6fec3-44e5-425d-8ba5-0827e4bc390b\",\"type\":\"GlyphRenderer\"},{\"attributes\":{},\"id\":\"a6df039b-24f2-4968-b337-88bf20e51495\",\"type\":\"UnionRenderers\"},{\"attributes\":{},\"id\":\"c738ccb3-7d8f-4765-bfa6-10966f0e4003\",\"type\":\"UnionRenderers\"},{\"attributes\":{},\"id\":\"dc756e36-ac9f-4eaf-ae94-a576e649dbb8\",\"type\":\"WheelZoomTool\"},{\"attributes\":{},\"id\":\"e18ca8e7-dfd1-4566-894c-ad32d52fc2ae\",\"type\":\"Selection\"},{\"attributes\":{\"bottom_units\":\"screen\",\"fill_alpha\":{\"value\":0.5},\"fill_color\":{\"value\":\"lightgrey\"},\"left_units\":\"screen\",\"level\":\"overlay\",\"line_alpha\":{\"value\":1.0},\"line_color\":{\"value\":\"black\"},\"line_dash\":[4,4],\"line_width\":{\"value\":2},\"plot\":null,\"render_mode\":\"css\",\"right_units\":\"screen\",\"top_units\":\"screen\"},\"id\":\"e5a0f121-7840-4a1d-928b-eb1bf591550f\",\"type\":\"BoxAnnotation\"},{\"attributes\":{\"callback\":null,\"data\":{\"band\":[\"1\",\"2\",\"3\",\"4\",\"5\",\"6\",\"7\",\"8\",\"9\",\"10\",\"11\"],\"flux\":{\"__ndarray__\":\"AMHG9e/6yj8ARFVMpZ/UP4B4l4v4TtO/8GLvxRft4T/AUBVT6SfUPwBIcOoDyaO/gHhF8L+Vzj8AbToCuFm8vwDADTFe85o/4PGprSLtwT+A2YcGcwW9Pw==\",\"dtype\":\"float64\",\"shape\":[11]}},\"selected\":{\"id\":\"fc1258c3-53b0-4efe-8d42-60b2e5209222\",\"type\":\"Selection\"},\"selection_policy\":{\"id\":\"bc9e082c-ff49-47db-9b6d-5141b9c49d4c\",\"type\":\"UnionRenderers\"}},\"id\":\"e5f6ddd9-1aec-43a5-8a69-ee01601e9748\",\"type\":\"ColumnDataSource\"},{\"attributes\":{\"source\":{\"id\":\"643d0999-f81a-404f-b437-ad1745eccd10\",\"type\":\"ColumnDataSource\"}},\"id\":\"c6f5f799-718f-4b65-b862-a76e3dc54ea1\",\"type\":\"CDSView\"},{\"attributes\":{\"data_source\":{\"id\":\"643d0999-f81a-404f-b437-ad1745eccd10\",\"type\":\"ColumnDataSource\"},\"glyph\":{\"id\":\"0bce6579-3762-4e41-a1e3-c6f0ae270c49\",\"type\":\"VBar\"},\"hover_glyph\":null,\"muted_glyph\":null,\"nonselection_glyph\":{\"id\":\"890600c3-1e47-49d8-92ee-d3ea741d99d6\",\"type\":\"VBar\"},\"selection_glyph\":null,\"view\":{\"id\":\"c6f5f799-718f-4b65-b862-a76e3dc54ea1\",\"type\":\"CDSView\"}},\"id\":\"a19277fe-542b-48c3-8c48-80c674c3ed96\",\"type\":\"GlyphRenderer\"},{\"attributes\":{\"overlay\":{\"id\":\"e5a0f121-7840-4a1d-928b-eb1bf591550f\",\"type\":\"BoxAnnotation\"}},\"id\":\"bcf769a1-512f-40c7-84ce-121bd12204db\",\"type\":\"BoxZoomTool\"},{\"attributes\":{},\"id\":\"bc9e082c-ff49-47db-9b6d-5141b9c49d4c\",\"type\":\"UnionRenderers\"},{\"attributes\":{},\"id\":\"8636d9dc-1471-4a6e-824e-8fe2a1d07ef0\",\"type\":\"PanTool\"},{\"attributes\":{},\"id\":\"babd4f6b-e7e9-4a5b-86cc-5458d12637b2\",\"type\":\"HelpTool\"},{\"attributes\":{},\"id\":\"ad4e2b51-2e64-4e10-8911-ffc854358d97\",\"type\":\"LinearScale\"},{\"attributes\":{},\"id\":\"7651414b-75ca-4e50-94cb-3a515f2a5306\",\"type\":\"BasicTicker\"},{\"attributes\":{\"plot\":{\"id\":\"ebffc86a-63d0-4d6e-81b9-03b2d3256b8d\",\"subtype\":\"Figure\",\"type\":\"Plot\"},\"ticker\":{\"id\":\"30ab78a5-0652-4c99-8840-0e656b30b4c8\",\"type\":\"CategoricalTicker\"}},\"id\":\"9f1ee894-52ce-4997-a5d3-73dffc4a1131\",\"type\":\"Grid\"},{\"attributes\":{\"axis_label\":\"spectral band\",\"formatter\":{\"id\":\"c28d249c-e91b-464c-b4e4-0aee07265518\",\"type\":\"CategoricalTickFormatter\"},\"plot\":{\"id\":\"ebffc86a-63d0-4d6e-81b9-03b2d3256b8d\",\"subtype\":\"Figure\",\"type\":\"Plot\"},\"ticker\":{\"id\":\"30ab78a5-0652-4c99-8840-0e656b30b4c8\",\"type\":\"CategoricalTicker\"}},\"id\":\"8c28e202-3521-4a62-ad86-32d057f628f9\",\"type\":\"CategoricalAxis\"},{\"attributes\":{},\"id\":\"1f60cb77-899d-4b75-b1fa-9d2f510b29c8\",\"type\":\"CategoricalTicker\"},{\"attributes\":{\"axis_label\":\"flux (W m-2)\",\"formatter\":{\"id\":\"4b16bf1a-9e51-401a-bc7e-e666556429b1\",\"type\":\"BasicTickFormatter\"},\"plot\":{\"id\":\"632fecdb-e7df-4059-96c8-bb7eb9727f19\",\"subtype\":\"Figure\",\"type\":\"Plot\"},\"ticker\":{\"id\":\"7651414b-75ca-4e50-94cb-3a515f2a5306\",\"type\":\"BasicTicker\"}},\"id\":\"fdf9ef38-4bd7-4771-8a09-fef405afab99\",\"type\":\"LinearAxis\"},{\"attributes\":{\"plot\":null,\"text\":\"Atmosphere heating. CLIRAD (single-run) - CRD.\"},\"id\":\"2e8f537c-c8bb-47fb-8f5f-7d5bafccc0ab\",\"type\":\"Title\"},{\"attributes\":{},\"id\":\"b54e41ee-a2d8-416f-ab9e-dba32ad7e8ca\",\"type\":\"SaveTool\"},{\"attributes\":{\"below\":[{\"id\":\"9a72f062-cef4-4467-8bd1-c7eef20c37be\",\"type\":\"CategoricalAxis\"}],\"left\":[{\"id\":\"e68b5c74-486d-4a5c-b775-5b219384afce\",\"type\":\"LinearAxis\"}],\"plot_height\":300,\"plot_width\":300,\"renderers\":[{\"id\":\"9a72f062-cef4-4467-8bd1-c7eef20c37be\",\"type\":\"CategoricalAxis\"},{\"id\":\"e6452231-7c86-461f-b1b2-fcfc13860a22\",\"type\":\"Grid\"},{\"id\":\"e68b5c74-486d-4a5c-b775-5b219384afce\",\"type\":\"LinearAxis\"},{\"id\":\"c9866ee1-692f-43bc-9e90-553ed6a2f0fe\",\"type\":\"Grid\"},{\"id\":\"3c5c3a62-2883-4b7c-8e06-0d907262ca23\",\"type\":\"BoxAnnotation\"},{\"id\":\"a19277fe-542b-48c3-8c48-80c674c3ed96\",\"type\":\"GlyphRenderer\"}],\"title\":{\"id\":\"65ef4db6-8182-41ef-891c-e8d831c00331\",\"type\":\"Title\"},\"toolbar\":{\"id\":\"25242539-4748-4cfa-add6-4daec8253eb0\",\"type\":\"Toolbar\"},\"toolbar_location\":null,\"x_range\":{\"id\":\"c526b4c1-469b-4b59-889a-395eb020fdd1\",\"type\":\"FactorRange\"},\"x_scale\":{\"id\":\"3cc00e9e-915f-4a25-975a-3b43b8659d6e\",\"type\":\"CategoricalScale\"},\"y_range\":{\"id\":\"27c29036-3678-45b9-9c97-6b26b9de482d\",\"type\":\"DataRange1d\"},\"y_scale\":{\"id\":\"ad4e2b51-2e64-4e10-8911-ffc854358d97\",\"type\":\"LinearScale\"}},\"id\":\"e343196b-bcdc-418e-8b73-20e58908589f\",\"subtype\":\"Figure\",\"type\":\"Plot\"},{\"attributes\":{},\"id\":\"ebb64593-0e99-451d-bf15-9d8ad351825c\",\"type\":\"PanTool\"},{\"attributes\":{},\"id\":\"dde11b6c-7a74-4bbf-ac50-8b5ef4bb4894\",\"type\":\"HelpTool\"},{\"attributes\":{\"callback\":null,\"factors\":[\"1\",\"2\",\"3\",\"4\",\"5\",\"6\",\"7\",\"8\",\"9\",\"10\",\"11\"]},\"id\":\"e62d0041-4103-45aa-b406-83941250636b\",\"type\":\"FactorRange\"},{\"attributes\":{\"callback\":null,\"factors\":[\"1\",\"2\",\"3\",\"4\",\"5\",\"6\",\"7\",\"8\",\"9\",\"10\",\"11\"]},\"id\":\"c526b4c1-469b-4b59-889a-395eb020fdd1\",\"type\":\"FactorRange\"},{\"attributes\":{},\"id\":\"a1c15f45-d6ab-4902-9327-145f6bfc4cd3\",\"type\":\"BasicTickFormatter\"},{\"attributes\":{\"below\":[{\"id\":\"8c28e202-3521-4a62-ad86-32d057f628f9\",\"type\":\"CategoricalAxis\"}],\"left\":[{\"id\":\"e634de0b-05a3-4794-897c-8dda59639f2c\",\"type\":\"LinearAxis\"}],\"plot_height\":300,\"plot_width\":300,\"renderers\":[{\"id\":\"8c28e202-3521-4a62-ad86-32d057f628f9\",\"type\":\"CategoricalAxis\"},{\"id\":\"9f1ee894-52ce-4997-a5d3-73dffc4a1131\",\"type\":\"Grid\"},{\"id\":\"e634de0b-05a3-4794-897c-8dda59639f2c\",\"type\":\"LinearAxis\"},{\"id\":\"7bd0ba1f-3997-4065-819c-72cf7c0adc96\",\"type\":\"Grid\"},{\"id\":\"e5a0f121-7840-4a1d-928b-eb1bf591550f\",\"type\":\"BoxAnnotation\"},{\"id\":\"bb39d7bb-b003-4a3e-aac9-8a1964a5425f\",\"type\":\"GlyphRenderer\"}],\"title\":{\"id\":\"2e8f537c-c8bb-47fb-8f5f-7d5bafccc0ab\",\"type\":\"Title\"},\"toolbar\":{\"id\":\"5f506f33-a752-4466-b47f-5dfa57cfaca6\",\"type\":\"Toolbar\"},\"toolbar_location\":null,\"x_range\":{\"id\":\"ba968353-d27e-458a-b0fb-efaff28408cf\",\"type\":\"FactorRange\"},\"x_scale\":{\"id\":\"36914663-83dd-405c-943e-e43c5ef67a68\",\"type\":\"CategoricalScale\"},\"y_range\":{\"id\":\"a538ca36-2f46-46e8-a663-fd9846ffd788\",\"type\":\"DataRange1d\"},\"y_scale\":{\"id\":\"4063fe64-8ded-440b-b324-38bb62068bb7\",\"type\":\"LinearScale\"}},\"id\":\"ebffc86a-63d0-4d6e-81b9-03b2d3256b8d\",\"subtype\":\"Figure\",\"type\":\"Plot\"},{\"attributes\":{\"active_drag\":\"auto\",\"active_inspect\":\"auto\",\"active_scroll\":\"auto\",\"active_tap\":\"auto\",\"tools\":[{\"id\":\"8636d9dc-1471-4a6e-824e-8fe2a1d07ef0\",\"type\":\"PanTool\"},{\"id\":\"a6bb91fe-5f90-43c1-af01-1b5234569ac2\",\"type\":\"WheelZoomTool\"},{\"id\":\"16469c5b-5f0b-441c-9df9-76b18a4134f2\",\"type\":\"BoxZoomTool\"},{\"id\":\"974e3e74-3830-4148-ae29-0a727dea0c4e\",\"type\":\"SaveTool\"},{\"id\":\"3cd2d0b0-b574-40b3-a39a-5d7abf51413d\",\"type\":\"ResetTool\"},{\"id\":\"babd4f6b-e7e9-4a5b-86cc-5458d12637b2\",\"type\":\"HelpTool\"}]},\"id\":\"25242539-4748-4cfa-add6-4daec8253eb0\",\"type\":\"Toolbar\"},{\"attributes\":{},\"id\":\"a6bb91fe-5f90-43c1-af01-1b5234569ac2\",\"type\":\"WheelZoomTool\"},{\"attributes\":{\"fill_alpha\":{\"value\":0.1},\"fill_color\":{\"value\":\"#1f77b4\"},\"line_alpha\":{\"value\":0.1},\"line_color\":{\"value\":\"#1f77b4\"},\"top\":{\"field\":\"flux\"},\"width\":{\"value\":0.9},\"x\":{\"field\":\"band\"}},\"id\":\"f2fab287-c9d6-4c66-9dac-b2b4e1b63edf\",\"type\":\"VBar\"},{\"attributes\":{\"below\":[{\"id\":\"4775389c-0b86-41cc-8a79-331280f5c265\",\"type\":\"CategoricalAxis\"}],\"left\":[{\"id\":\"fdf9ef38-4bd7-4771-8a09-fef405afab99\",\"type\":\"LinearAxis\"}],\"plot_height\":300,\"plot_width\":300,\"renderers\":[{\"id\":\"4775389c-0b86-41cc-8a79-331280f5c265\",\"type\":\"CategoricalAxis\"},{\"id\":\"f71a6bb6-0c29-4764-9405-225cf8470dce\",\"type\":\"Grid\"},{\"id\":\"fdf9ef38-4bd7-4771-8a09-fef405afab99\",\"type\":\"LinearAxis\"},{\"id\":\"4c753426-c6f5-44a8-821f-7e37d28022d4\",\"type\":\"Grid\"},{\"id\":\"9049cdbc-f05a-4343-b47d-3b42e79a5795\",\"type\":\"BoxAnnotation\"},{\"id\":\"81a6fec3-44e5-425d-8ba5-0827e4bc390b\",\"type\":\"GlyphRenderer\"}],\"title\":{\"id\":\"d66f869b-047a-4b78-b191-3854d85537d3\",\"type\":\"Title\"},\"toolbar\":{\"id\":\"6883669a-4c5d-4074-8c49-c2dd36fddf5d\",\"type\":\"Toolbar\"},\"toolbar_location\":null,\"x_range\":{\"id\":\"e62d0041-4103-45aa-b406-83941250636b\",\"type\":\"FactorRange\"},\"x_scale\":{\"id\":\"5f710234-8b39-4e82-9b27-9ccc911d84c6\",\"type\":\"CategoricalScale\"},\"y_range\":{\"id\":\"37f9a6d4-18a8-4e0e-8c26-343e863dd800\",\"type\":\"DataRange1d\"},\"y_scale\":{\"id\":\"69e7dd38-84b7-4160-8b4e-36e3e59aec36\",\"type\":\"LinearScale\"}},\"id\":\"632fecdb-e7df-4059-96c8-bb7eb9727f19\",\"subtype\":\"Figure\",\"type\":\"Plot\"},{\"attributes\":{\"dimension\":1,\"plot\":{\"id\":\"e343196b-bcdc-418e-8b73-20e58908589f\",\"subtype\":\"Figure\",\"type\":\"Plot\"},\"ticker\":{\"id\":\"c27ee4bf-298b-47fb-83d3-90c55990a5da\",\"type\":\"BasicTicker\"}},\"id\":\"c9866ee1-692f-43bc-9e90-553ed6a2f0fe\",\"type\":\"Grid\"},{\"attributes\":{},\"id\":\"5aab44cb-fd7e-46d1-bde8-d8e9f9ff578d\",\"type\":\"ResetTool\"},{\"attributes\":{},\"id\":\"36914663-83dd-405c-943e-e43c5ef67a68\",\"type\":\"CategoricalScale\"},{\"attributes\":{\"fill_color\":{\"value\":\"#1f77b4\"},\"line_color\":{\"value\":\"#1f77b4\"},\"top\":{\"field\":\"flux\"},\"width\":{\"value\":0.9},\"x\":{\"field\":\"band\"}},\"id\":\"0bce6579-3762-4e41-a1e3-c6f0ae270c49\",\"type\":\"VBar\"},{\"attributes\":{},\"id\":\"5d68c80c-d5d9-4574-82e3-196b0ec0bf93\",\"type\":\"CategoricalTicker\"},{\"attributes\":{},\"id\":\"c28d249c-e91b-464c-b4e4-0aee07265518\",\"type\":\"CategoricalTickFormatter\"},{\"attributes\":{\"axis_label\":\"spectral band\",\"formatter\":{\"id\":\"43095552-a749-4644-9d96-004a4d861e25\",\"type\":\"CategoricalTickFormatter\"},\"plot\":{\"id\":\"e343196b-bcdc-418e-8b73-20e58908589f\",\"subtype\":\"Figure\",\"type\":\"Plot\"},\"ticker\":{\"id\":\"5d68c80c-d5d9-4574-82e3-196b0ec0bf93\",\"type\":\"CategoricalTicker\"}},\"id\":\"9a72f062-cef4-4467-8bd1-c7eef20c37be\",\"type\":\"CategoricalAxis\"},{\"attributes\":{},\"id\":\"9408eb28-df2c-486e-8d42-30692b2e80ea\",\"type\":\"WheelZoomTool\"},{\"attributes\":{\"plot\":null,\"text\":\"TOA flux. CLIRAD (single-run) - CRD.\"},\"id\":\"d66f869b-047a-4b78-b191-3854d85537d3\",\"type\":\"Title\"},{\"attributes\":{\"overlay\":{\"id\":\"3c5c3a62-2883-4b7c-8e06-0d907262ca23\",\"type\":\"BoxAnnotation\"}},\"id\":\"16469c5b-5f0b-441c-9df9-76b18a4134f2\",\"type\":\"BoxZoomTool\"},{\"attributes\":{\"callback\":null,\"factors\":[\"1\",\"2\",\"3\",\"4\",\"5\",\"6\",\"7\",\"8\",\"9\",\"10\",\"11\"]},\"id\":\"ba968353-d27e-458a-b0fb-efaff28408cf\",\"type\":\"FactorRange\"},{\"attributes\":{},\"id\":\"69e7dd38-84b7-4160-8b4e-36e3e59aec36\",\"type\":\"LinearScale\"},{\"attributes\":{},\"id\":\"3cd2d0b0-b574-40b3-a39a-5d7abf51413d\",\"type\":\"ResetTool\"},{\"attributes\":{\"dimension\":1,\"plot\":{\"id\":\"632fecdb-e7df-4059-96c8-bb7eb9727f19\",\"subtype\":\"Figure\",\"type\":\"Plot\"},\"ticker\":{\"id\":\"7651414b-75ca-4e50-94cb-3a515f2a5306\",\"type\":\"BasicTicker\"}},\"id\":\"4c753426-c6f5-44a8-821f-7e37d28022d4\",\"type\":\"Grid\"},{\"attributes\":{\"source\":{\"id\":\"e5f6ddd9-1aec-43a5-8a69-ee01601e9748\",\"type\":\"ColumnDataSource\"}},\"id\":\"0a369ee4-9cbd-4f9c-a9e0-6bdbb93e4e31\",\"type\":\"CDSView\"},{\"attributes\":{\"bottom_units\":\"screen\",\"fill_alpha\":{\"value\":0.5},\"fill_color\":{\"value\":\"lightgrey\"},\"left_units\":\"screen\",\"level\":\"overlay\",\"line_alpha\":{\"value\":1.0},\"line_color\":{\"value\":\"black\"},\"line_dash\":[4,4],\"line_width\":{\"value\":2},\"plot\":null,\"render_mode\":\"css\",\"right_units\":\"screen\",\"top_units\":\"screen\"},\"id\":\"9049cdbc-f05a-4343-b47d-3b42e79a5795\",\"type\":\"BoxAnnotation\"},{\"attributes\":{\"axis_label\":\"flux (W m-2)\",\"formatter\":{\"id\":\"a1c15f45-d6ab-4902-9327-145f6bfc4cd3\",\"type\":\"BasicTickFormatter\"},\"plot\":{\"id\":\"ebffc86a-63d0-4d6e-81b9-03b2d3256b8d\",\"subtype\":\"Figure\",\"type\":\"Plot\"},\"ticker\":{\"id\":\"58d14a68-dd83-4377-9806-fd4d220ab371\",\"type\":\"BasicTicker\"}},\"id\":\"e634de0b-05a3-4794-897c-8dda59639f2c\",\"type\":\"LinearAxis\"},{\"attributes\":{\"axis_label\":\"spectral band\",\"formatter\":{\"id\":\"7588b96d-d11d-41bf-8eaf-a3d02932a8f6\",\"type\":\"CategoricalTickFormatter\"},\"plot\":{\"id\":\"632fecdb-e7df-4059-96c8-bb7eb9727f19\",\"subtype\":\"Figure\",\"type\":\"Plot\"},\"ticker\":{\"id\":\"1f60cb77-899d-4b75-b1fa-9d2f510b29c8\",\"type\":\"CategoricalTicker\"}},\"id\":\"4775389c-0b86-41cc-8a79-331280f5c265\",\"type\":\"CategoricalAxis\"},{\"attributes\":{},\"id\":\"30ab78a5-0652-4c99-8840-0e656b30b4c8\",\"type\":\"CategoricalTicker\"},{\"attributes\":{\"active_drag\":\"auto\",\"active_inspect\":\"auto\",\"active_scroll\":\"auto\",\"active_tap\":\"auto\",\"tools\":[{\"id\":\"5691c57f-161f-41c6-8408-8470d13e0334\",\"type\":\"PanTool\"},{\"id\":\"dc756e36-ac9f-4eaf-ae94-a576e649dbb8\",\"type\":\"WheelZoomTool\"},{\"id\":\"bcf769a1-512f-40c7-84ce-121bd12204db\",\"type\":\"BoxZoomTool\"},{\"id\":\"7d40b675-872f-47d3-a1b8-e9871fa56efb\",\"type\":\"SaveTool\"},{\"id\":\"a30eea8d-7b0d-4943-b125-a76d48d7af19\",\"type\":\"ResetTool\"},{\"id\":\"fe3fd411-5812-45fe-9d13-39891b3f6cef\",\"type\":\"HelpTool\"}]},\"id\":\"5f506f33-a752-4466-b47f-5dfa57cfaca6\",\"type\":\"Toolbar\"},{\"attributes\":{\"bottom_units\":\"screen\",\"fill_alpha\":{\"value\":0.5},\"fill_color\":{\"value\":\"lightgrey\"},\"left_units\":\"screen\",\"level\":\"overlay\",\"line_alpha\":{\"value\":1.0},\"line_color\":{\"value\":\"black\"},\"line_dash\":[4,4],\"line_width\":{\"value\":2},\"plot\":null,\"render_mode\":\"css\",\"right_units\":\"screen\",\"top_units\":\"screen\"},\"id\":\"3c5c3a62-2883-4b7c-8e06-0d907262ca23\",\"type\":\"BoxAnnotation\"},{\"attributes\":{\"callback\":null},\"id\":\"37f9a6d4-18a8-4e0e-8c26-343e863dd800\",\"type\":\"DataRange1d\"},{\"attributes\":{\"callback\":null},\"id\":\"a538ca36-2f46-46e8-a663-fd9846ffd788\",\"type\":\"DataRange1d\"},{\"attributes\":{},\"id\":\"3cc00e9e-915f-4a25-975a-3b43b8659d6e\",\"type\":\"CategoricalScale\"},{\"attributes\":{\"plot\":null,\"text\":\"SFC flux. CLIRAD (single-run) - CRD.\"},\"id\":\"65ef4db6-8182-41ef-891c-e8d831c00331\",\"type\":\"Title\"},{\"attributes\":{},\"id\":\"5f710234-8b39-4e82-9b27-9ccc911d84c6\",\"type\":\"CategoricalScale\"},{\"attributes\":{},\"id\":\"58d14a68-dd83-4377-9806-fd4d220ab371\",\"type\":\"BasicTicker\"},{\"attributes\":{\"callback\":null,\"data\":{\"band\":[\"1\",\"2\",\"3\",\"4\",\"5\",\"6\",\"7\",\"8\",\"9\",\"10\",\"11\"],\"flux\":{\"__ndarray__\":\"AID6S2L7yj8AhLZzzD+yPwDn9AapJbm/oFGioVYD4D9gJ6H0hZDSv4DY6Qd1kd+/gFDj3vyGxT8Atr3dkhzAv4DhOmtcJNC/wG+hI6BfwD/ARu3ZzlKpPw==\",\"dtype\":\"float64\",\"shape\":[11]}},\"selected\":{\"id\":\"e18ca8e7-dfd1-4566-894c-ad32d52fc2ae\",\"type\":\"Selection\"},\"selection_policy\":{\"id\":\"c738ccb3-7d8f-4765-bfa6-10966f0e4003\",\"type\":\"UnionRenderers\"}},\"id\":\"714d35ff-5167-4738-a793-79c5a48a2dd1\",\"type\":\"ColumnDataSource\"},{\"attributes\":{\"plot\":{\"id\":\"632fecdb-e7df-4059-96c8-bb7eb9727f19\",\"subtype\":\"Figure\",\"type\":\"Plot\"},\"ticker\":{\"id\":\"1f60cb77-899d-4b75-b1fa-9d2f510b29c8\",\"type\":\"CategoricalTicker\"}},\"id\":\"f71a6bb6-0c29-4764-9405-225cf8470dce\",\"type\":\"Grid\"},{\"attributes\":{\"axis_label\":\"flux (W m-2)\",\"formatter\":{\"id\":\"c150def9-1e0c-4158-b9e5-677752859b20\",\"type\":\"BasicTickFormatter\"},\"plot\":{\"id\":\"e343196b-bcdc-418e-8b73-20e58908589f\",\"subtype\":\"Figure\",\"type\":\"Plot\"},\"ticker\":{\"id\":\"c27ee4bf-298b-47fb-83d3-90c55990a5da\",\"type\":\"BasicTicker\"}},\"id\":\"e68b5c74-486d-4a5c-b775-5b219384afce\",\"type\":\"LinearAxis\"},{\"attributes\":{},\"id\":\"974e3e74-3830-4148-ae29-0a727dea0c4e\",\"type\":\"SaveTool\"},{\"attributes\":{\"overlay\":{\"id\":\"9049cdbc-f05a-4343-b47d-3b42e79a5795\",\"type\":\"BoxAnnotation\"}},\"id\":\"dda3f721-193c-43fa-b0c8-eb039046c27c\",\"type\":\"BoxZoomTool\"},{\"attributes\":{\"active_drag\":\"auto\",\"active_inspect\":\"auto\",\"active_scroll\":\"auto\",\"active_tap\":\"auto\",\"tools\":[{\"id\":\"ebb64593-0e99-451d-bf15-9d8ad351825c\",\"type\":\"PanTool\"},{\"id\":\"9408eb28-df2c-486e-8d42-30692b2e80ea\",\"type\":\"WheelZoomTool\"},{\"id\":\"dda3f721-193c-43fa-b0c8-eb039046c27c\",\"type\":\"BoxZoomTool\"},{\"id\":\"b54e41ee-a2d8-416f-ab9e-dba32ad7e8ca\",\"type\":\"SaveTool\"},{\"id\":\"5aab44cb-fd7e-46d1-bde8-d8e9f9ff578d\",\"type\":\"ResetTool\"},{\"id\":\"dde11b6c-7a74-4bbf-ac50-8b5ef4bb4894\",\"type\":\"HelpTool\"}]},\"id\":\"6883669a-4c5d-4074-8c49-c2dd36fddf5d\",\"type\":\"Toolbar\"},{\"attributes\":{\"callback\":null},\"id\":\"27c29036-3678-45b9-9c97-6b26b9de482d\",\"type\":\"DataRange1d\"},{\"attributes\":{\"fill_color\":{\"value\":\"#1f77b4\"},\"line_color\":{\"value\":\"#1f77b4\"},\"top\":{\"field\":\"flux\"},\"width\":{\"value\":0.9},\"x\":{\"field\":\"band\"}},\"id\":\"2d03a033-6581-490c-9cb0-5b81e7ead75f\",\"type\":\"VBar\"},{\"attributes\":{\"fill_alpha\":{\"value\":0.1},\"fill_color\":{\"value\":\"#1f77b4\"},\"line_alpha\":{\"value\":0.1},\"line_color\":{\"value\":\"#1f77b4\"},\"top\":{\"field\":\"flux\"},\"width\":{\"value\":0.9},\"x\":{\"field\":\"band\"}},\"id\":\"890600c3-1e47-49d8-92ee-d3ea741d99d6\",\"type\":\"VBar\"},{\"attributes\":{},\"id\":\"4063fe64-8ded-440b-b324-38bb62068bb7\",\"type\":\"LinearScale\"},{\"attributes\":{},\"id\":\"c27ee4bf-298b-47fb-83d3-90c55990a5da\",\"type\":\"BasicTicker\"},{\"attributes\":{\"plot\":{\"id\":\"e343196b-bcdc-418e-8b73-20e58908589f\",\"subtype\":\"Figure\",\"type\":\"Plot\"},\"ticker\":{\"id\":\"5d68c80c-d5d9-4574-82e3-196b0ec0bf93\",\"type\":\"CategoricalTicker\"}},\"id\":\"e6452231-7c86-461f-b1b2-fcfc13860a22\",\"type\":\"Grid\"}],\"root_ids\":[\"53129052-7198-4f47-bb1d-ccefb7f213fc\"]},\"title\":\"Bokeh Application\",\"version\":\"0.12.16\"}};\n",
       "  var render_items = [{\"docid\":\"3c9bcbce-7711-46bc-9294-35b8f0272f06\",\"elementid\":\"f95242f3-eedb-408a-b173-d6be7460651c\",\"modelid\":\"53129052-7198-4f47-bb1d-ccefb7f213fc\"}];\n",
       "  root.Bokeh.embed.embed_items_notebook(docs_json, render_items);\n",
       "\n",
       "  }\n",
       "  if (root.Bokeh !== undefined) {\n",
       "    embed_document(root);\n",
       "  } else {\n",
       "    var attempts = 0;\n",
       "    var timer = setInterval(function(root) {\n",
       "      if (root.Bokeh !== undefined) {\n",
       "        embed_document(root);\n",
       "        clearInterval(timer);\n",
       "      }\n",
       "      attempts++;\n",
       "      if (attempts > 100) {\n",
       "        console.log(\"Bokeh: ERROR: Unable to run BokehJS code because BokehJS library is missing\")\n",
       "        clearInterval(timer);\n",
       "      }\n",
       "    }, 10, root)\n",
       "  }\n",
       "})(window);"
      ],
      "application/vnd.bokehjs_exec.v0+json": ""
     },
     "metadata": {
      "application/vnd.bokehjs_exec.v0+json": {
       "id": "53129052-7198-4f47-bb1d-ccefb7f213fc"
      }
     },
     "output_type": "display_data"
    },
    {
     "data": {
      "text/markdown": [
       "*FIGURE.* Difference between CLIRAD and CRD in TOA, SFC and net atmosphere flux, in each spectral band."
      ],
      "text/plain": [
       "<IPython.core.display.Markdown object>"
      ]
     },
     "metadata": {},
     "output_type": "display_data"
    },
    {
     "data": {
      "text/html": [
       "<div>\n",
       "<style scoped>\n",
       "    .dataframe tbody tr th:only-of-type {\n",
       "        vertical-align: middle;\n",
       "    }\n",
       "\n",
       "    .dataframe tbody tr th {\n",
       "        vertical-align: top;\n",
       "    }\n",
       "\n",
       "    .dataframe thead th {\n",
       "        text-align: right;\n",
       "    }\n",
       "</style>\n",
       "<table border=\"1\" class=\"dataframe\">\n",
       "  <thead>\n",
       "    <tr style=\"text-align: right;\">\n",
       "      <th></th>\n",
       "      <th>OLR flux</th>\n",
       "      <th>SFC flux</th>\n",
       "      <th>ATM heating</th>\n",
       "    </tr>\n",
       "    <tr>\n",
       "      <th>Sum over bands</th>\n",
       "      <th></th>\n",
       "      <th></th>\n",
       "      <th></th>\n",
       "    </tr>\n",
       "  </thead>\n",
       "  <tbody>\n",
       "    <tr>\n",
       "      <th>CLIRAD (single-run) - CRD</th>\n",
       "      <td>1.48</td>\n",
       "      <td>1.61</td>\n",
       "      <td>-0.13</td>\n",
       "    </tr>\n",
       "    <tr>\n",
       "      <th>CRD</th>\n",
       "      <td>-303.40</td>\n",
       "      <td>337.24</td>\n",
       "      <td>-181.37</td>\n",
       "    </tr>\n",
       "  </tbody>\n",
       "</table>\n",
       "</div>"
      ],
      "text/plain": [
       "                           OLR flux  SFC flux  ATM heating\n",
       "Sum over bands                                            \n",
       "CLIRAD (single-run) - CRD      1.48      1.61        -0.13\n",
       "CRD                         -303.40    337.24      -181.37"
      ]
     },
     "metadata": {},
     "output_type": "display_data"
    },
    {
     "data": {
      "text/markdown": [
       "*TABLE.* Difference between CLIRAD and CRD in TOA, SFC and net atmosphere flux, over all spectral bands. CRD's TOA, SFC and net atmosphere flux, over all spectral bands."
      ],
      "text/plain": [
       "<IPython.core.display.Markdown object>"
      ]
     },
     "metadata": {},
     "output_type": "display_data"
    }
   ],
   "source": [
    "def show_html(s):\n",
    "    display.display(display.HTML(s))\n",
    "\n",
    "    \n",
    "def show_markdown(s):\n",
    "    display.display(display.Markdown(s))\n",
    "\n",
    "\n",
    "def script():\n",
    "    \n",
    "    d_atm = {'mls': 'mid-latitude summer',\n",
    "             'saw': 'sub-arctic winter',\n",
    "             'trp': 'tropical'}\n",
    "    \n",
    "    title = ('## Results over entire range of molecules'\n",
    "             ' and spectral bands')\n",
    "    \n",
    "    s_makeup = 'Makeup of atmosphere.'\n",
    "    s_atmpro = '# {}'\n",
    "    s_cool = 'Cooling rates. {}.'\n",
    "    s_flux = 'Fluxes. {}.'\n",
    "    \n",
    "    atmpros = ['mls', 'saw', 'trp']\n",
    "    \n",
    "    # TOC\n",
    "    show_markdown(title)\n",
    "    show_markdown('### Table of Contents')\n",
    "    show_html(climahtml.getHTML_hrefanchor(s_makeup))\n",
    "    for atmpro in atmpros:\n",
    "        show_markdown('**' + d_atm[atmpro] + '**')\n",
    "        show_html(climahtml.getHTML_hrefanchor(s_cool.format(atmpro)))\n",
    "        show_html(climahtml.getHTML_hrefanchor(s_flux.format(atmpro)))\n",
    "\n",
    "        \n",
    "    # Atmosphere makeup\n",
    "    show_html(climahtml.getHTML_idanchor(s_makeup))\n",
    "    show_markdown(climahtml.getMarkdown_sectitle(s_makeup))\n",
    "    show_makeup()\n",
    "    show_grey_makeup()\n",
    "        \n",
    "    for atmpro in atmpros:\n",
    "        show_html(climahtml.getHTML_idanchor(s_cool.format(atmpro)))\n",
    "        show_markdown(\n",
    "            climahtml.getMarkdown_sectitle(s_cool.format(atmpro)))\n",
    "        show_cool(atmpro=atmpro)\n",
    "        show_html(climahtml.getHTML_idanchor(s_flux.format(atmpro)))\n",
    "        show_markdown(\n",
    "            climahtml.getMarkdown_sectitle(s_flux.format(atmpro)))\n",
    "        show_hist_flux(atmpro=atmpro)\n",
    "        show_tb_flux(atmpro=atmpro)\n",
    "    \n",
    "    \n",
    "script()  "
   ]
  },
  {
   "cell_type": "code",
   "execution_count": null,
   "metadata": {
    "collapsed": true
   },
   "outputs": [],
   "source": []
  },
  {
   "cell_type": "code",
   "execution_count": 1156,
   "metadata": {},
   "outputs": [
    {
     "data": {
      "text/html": [
       "<script>\n",
       "code_show=true; \n",
       "function code_toggle() {\n",
       " if (code_show){\n",
       " $('div.input').hide();\n",
       " } else {\n",
       " $('div.input').show();\n",
       " }\n",
       " code_show = !code_show\n",
       "} \n",
       "$( document ).ready(code_toggle);\n",
       "</script>\n",
       "<form action=\"javascript:code_toggle()\"><input type=\"submit\" value=\"Click here to toggle on/off the raw code.\"></form>"
      ],
      "text/plain": [
       "<IPython.core.display.HTML object>"
      ]
     },
     "execution_count": 1156,
     "metadata": {},
     "output_type": "execute_result"
    }
   ],
   "source": [
    "display.HTML('''<script>\n",
    "code_show=true; \n",
    "function code_toggle() {\n",
    " if (code_show){\n",
    " $('div.input').hide();\n",
    " } else {\n",
    " $('div.input').show();\n",
    " }\n",
    " code_show = !code_show\n",
    "} \n",
    "$( document ).ready(code_toggle);\n",
    "</script>\n",
    "<form action=\"javascript:code_toggle()\"><input type=\"submit\" value=\"Click here to toggle on/off the raw code.\"></form>''')"
   ]
  },
  {
   "cell_type": "code",
   "execution_count": null,
   "metadata": {
    "collapsed": true
   },
   "outputs": [],
   "source": []
  }
 ],
 "metadata": {
  "kernelspec": {
   "display_name": "Python 3",
   "language": "python",
   "name": "python3"
  },
  "language_info": {
   "codemirror_mode": {
    "name": "ipython",
    "version": 3
   },
   "file_extension": ".py",
   "mimetype": "text/x-python",
   "name": "python",
   "nbconvert_exporter": "python",
   "pygments_lexer": "ipython3",
   "version": "3.6.1"
  }
 },
 "nbformat": 4,
 "nbformat_minor": 2
}
