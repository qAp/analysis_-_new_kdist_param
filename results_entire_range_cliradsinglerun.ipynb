{
 "cells": [
  {
   "cell_type": "code",
   "execution_count": 637,
   "metadata": {
    "collapsed": true
   },
   "outputs": [],
   "source": [
    "import os\n",
    "import ast\n",
    "import json\n",
    "import importlib \n",
    "import itertools\n",
    "import collections\n",
    "import pprint\n",
    "\n",
    "from bokeh.io import output_notebook, show\n",
    "from bokeh.layouts import gridplot\n",
    "from bokeh.plotting import figure\n",
    "from bokeh.models import Range1d, Legend, ColumnDataSource, FactorRange\n",
    "from bokeh.palettes import all_palettes\n",
    "from bokeh.transform import factor_cmap\n",
    "\n",
    "import matplotlib\n",
    "import matplotlib.pyplot as plt\n",
    "import numpy as np\n",
    "import pandas as pd\n",
    "import xarray as xr\n",
    "\n",
    "\n",
    "import climatools.lblnew.bestfit_params as bestfits\n",
    "from climatools.lblnew import setup_bestfit, setup_overlap\n",
    "import climatools.lblnew.pipeline as pipe_lblnew\n",
    "import climatools.cliradlw.setup as setup_cliradlw\n",
    "import climatools.cliradlw.pipeline as pipe_cliradlw\n",
    "\n",
    "import climatools.html.html as climahtml\n",
    "from climatools.lblnew.dataio import *\n",
    "from climatools.plot.plot import *\n",
    "\n",
    "\n",
    "from IPython import display\n",
    "\n",
    "#importlib.reload(bestfits)\n",
    "#importlib.reload(setup_bestfit)\n",
    "#importlib.reload(setup_overlap)\n",
    "#importlib.reload(pipe_lblnew)\n",
    "#importlib.reload(setup_cliradlw)\n",
    "#importlib.reload(pipe_cliradlw)"
   ]
  },
  {
   "cell_type": "code",
   "execution_count": 638,
   "metadata": {
    "scrolled": true
   },
   "outputs": [
    {
     "data": {
      "text/html": [
       "\n",
       "    <div class=\"bk-root\">\n",
       "        <a href=\"https://bokeh.pydata.org\" target=\"_blank\" class=\"bk-logo bk-logo-small bk-logo-notebook\"></a>\n",
       "        <span id=\"ffc82de7-c131-404f-8b51-502d68f126f9\">Loading BokehJS ...</span>\n",
       "    </div>"
      ]
     },
     "metadata": {},
     "output_type": "display_data"
    },
    {
     "data": {
      "application/javascript": [
       "\n",
       "(function(root) {\n",
       "  function now() {\n",
       "    return new Date();\n",
       "  }\n",
       "\n",
       "  var force = true;\n",
       "\n",
       "  if (typeof (root._bokeh_onload_callbacks) === \"undefined\" || force === true) {\n",
       "    root._bokeh_onload_callbacks = [];\n",
       "    root._bokeh_is_loading = undefined;\n",
       "  }\n",
       "\n",
       "  var JS_MIME_TYPE = 'application/javascript';\n",
       "  var HTML_MIME_TYPE = 'text/html';\n",
       "  var EXEC_MIME_TYPE = 'application/vnd.bokehjs_exec.v0+json';\n",
       "  var CLASS_NAME = 'output_bokeh rendered_html';\n",
       "\n",
       "  /**\n",
       "   * Render data to the DOM node\n",
       "   */\n",
       "  function render(props, node) {\n",
       "    var script = document.createElement(\"script\");\n",
       "    node.appendChild(script);\n",
       "  }\n",
       "\n",
       "  /**\n",
       "   * Handle when an output is cleared or removed\n",
       "   */\n",
       "  function handleClearOutput(event, handle) {\n",
       "    var cell = handle.cell;\n",
       "\n",
       "    var id = cell.output_area._bokeh_element_id;\n",
       "    var server_id = cell.output_area._bokeh_server_id;\n",
       "    // Clean up Bokeh references\n",
       "    if (id !== undefined) {\n",
       "      Bokeh.index[id].model.document.clear();\n",
       "      delete Bokeh.index[id];\n",
       "    }\n",
       "\n",
       "    if (server_id !== undefined) {\n",
       "      // Clean up Bokeh references\n",
       "      var cmd = \"from bokeh.io.state import curstate; print(curstate().uuid_to_server['\" + server_id + \"'].get_sessions()[0].document.roots[0]._id)\";\n",
       "      cell.notebook.kernel.execute(cmd, {\n",
       "        iopub: {\n",
       "          output: function(msg) {\n",
       "            var element_id = msg.content.text.trim();\n",
       "            Bokeh.index[element_id].model.document.clear();\n",
       "            delete Bokeh.index[element_id];\n",
       "          }\n",
       "        }\n",
       "      });\n",
       "      // Destroy server and session\n",
       "      var cmd = \"import bokeh.io.notebook as ion; ion.destroy_server('\" + server_id + \"')\";\n",
       "      cell.notebook.kernel.execute(cmd);\n",
       "    }\n",
       "  }\n",
       "\n",
       "  /**\n",
       "   * Handle when a new output is added\n",
       "   */\n",
       "  function handleAddOutput(event, handle) {\n",
       "    var output_area = handle.output_area;\n",
       "    var output = handle.output;\n",
       "\n",
       "    // limit handleAddOutput to display_data with EXEC_MIME_TYPE content only\n",
       "    if ((output.output_type != \"display_data\") || (!output.data.hasOwnProperty(EXEC_MIME_TYPE))) {\n",
       "      return\n",
       "    }\n",
       "\n",
       "    var toinsert = output_area.element.find(\".\" + CLASS_NAME.split(' ')[0]);\n",
       "\n",
       "    if (output.metadata[EXEC_MIME_TYPE][\"id\"] !== undefined) {\n",
       "      toinsert[toinsert.length - 1].firstChild.textContent = output.data[JS_MIME_TYPE];\n",
       "      // store reference to embed id on output_area\n",
       "      output_area._bokeh_element_id = output.metadata[EXEC_MIME_TYPE][\"id\"];\n",
       "    }\n",
       "    if (output.metadata[EXEC_MIME_TYPE][\"server_id\"] !== undefined) {\n",
       "      var bk_div = document.createElement(\"div\");\n",
       "      bk_div.innerHTML = output.data[HTML_MIME_TYPE];\n",
       "      var script_attrs = bk_div.children[0].attributes;\n",
       "      for (var i = 0; i < script_attrs.length; i++) {\n",
       "        toinsert[toinsert.length - 1].firstChild.setAttribute(script_attrs[i].name, script_attrs[i].value);\n",
       "      }\n",
       "      // store reference to server id on output_area\n",
       "      output_area._bokeh_server_id = output.metadata[EXEC_MIME_TYPE][\"server_id\"];\n",
       "    }\n",
       "  }\n",
       "\n",
       "  function register_renderer(events, OutputArea) {\n",
       "\n",
       "    function append_mime(data, metadata, element) {\n",
       "      // create a DOM node to render to\n",
       "      var toinsert = this.create_output_subarea(\n",
       "        metadata,\n",
       "        CLASS_NAME,\n",
       "        EXEC_MIME_TYPE\n",
       "      );\n",
       "      this.keyboard_manager.register_events(toinsert);\n",
       "      // Render to node\n",
       "      var props = {data: data, metadata: metadata[EXEC_MIME_TYPE]};\n",
       "      render(props, toinsert[toinsert.length - 1]);\n",
       "      element.append(toinsert);\n",
       "      return toinsert\n",
       "    }\n",
       "\n",
       "    /* Handle when an output is cleared or removed */\n",
       "    events.on('clear_output.CodeCell', handleClearOutput);\n",
       "    events.on('delete.Cell', handleClearOutput);\n",
       "\n",
       "    /* Handle when a new output is added */\n",
       "    events.on('output_added.OutputArea', handleAddOutput);\n",
       "\n",
       "    /**\n",
       "     * Register the mime type and append_mime function with output_area\n",
       "     */\n",
       "    OutputArea.prototype.register_mime_type(EXEC_MIME_TYPE, append_mime, {\n",
       "      /* Is output safe? */\n",
       "      safe: true,\n",
       "      /* Index of renderer in `output_area.display_order` */\n",
       "      index: 0\n",
       "    });\n",
       "  }\n",
       "\n",
       "  // register the mime type if in Jupyter Notebook environment and previously unregistered\n",
       "  if (root.Jupyter !== undefined) {\n",
       "    var events = require('base/js/events');\n",
       "    var OutputArea = require('notebook/js/outputarea').OutputArea;\n",
       "\n",
       "    if (OutputArea.prototype.mime_types().indexOf(EXEC_MIME_TYPE) == -1) {\n",
       "      register_renderer(events, OutputArea);\n",
       "    }\n",
       "  }\n",
       "\n",
       "  \n",
       "  if (typeof (root._bokeh_timeout) === \"undefined\" || force === true) {\n",
       "    root._bokeh_timeout = Date.now() + 5000;\n",
       "    root._bokeh_failed_load = false;\n",
       "  }\n",
       "\n",
       "  var NB_LOAD_WARNING = {'data': {'text/html':\n",
       "     \"<div style='background-color: #fdd'>\\n\"+\n",
       "     \"<p>\\n\"+\n",
       "     \"BokehJS does not appear to have successfully loaded. If loading BokehJS from CDN, this \\n\"+\n",
       "     \"may be due to a slow or bad network connection. Possible fixes:\\n\"+\n",
       "     \"</p>\\n\"+\n",
       "     \"<ul>\\n\"+\n",
       "     \"<li>re-rerun `output_notebook()` to attempt to load from CDN again, or</li>\\n\"+\n",
       "     \"<li>use INLINE resources instead, as so:</li>\\n\"+\n",
       "     \"</ul>\\n\"+\n",
       "     \"<code>\\n\"+\n",
       "     \"from bokeh.resources import INLINE\\n\"+\n",
       "     \"output_notebook(resources=INLINE)\\n\"+\n",
       "     \"</code>\\n\"+\n",
       "     \"</div>\"}};\n",
       "\n",
       "  function display_loaded() {\n",
       "    var el = document.getElementById(\"ffc82de7-c131-404f-8b51-502d68f126f9\");\n",
       "    if (el != null) {\n",
       "      el.textContent = \"BokehJS is loading...\";\n",
       "    }\n",
       "    if (root.Bokeh !== undefined) {\n",
       "      if (el != null) {\n",
       "        el.textContent = \"BokehJS \" + root.Bokeh.version + \" successfully loaded.\";\n",
       "      }\n",
       "    } else if (Date.now() < root._bokeh_timeout) {\n",
       "      setTimeout(display_loaded, 100)\n",
       "    }\n",
       "  }\n",
       "\n",
       "\n",
       "  function run_callbacks() {\n",
       "    try {\n",
       "      root._bokeh_onload_callbacks.forEach(function(callback) { callback() });\n",
       "    }\n",
       "    finally {\n",
       "      delete root._bokeh_onload_callbacks\n",
       "    }\n",
       "    console.info(\"Bokeh: all callbacks have finished\");\n",
       "  }\n",
       "\n",
       "  function load_libs(js_urls, callback) {\n",
       "    root._bokeh_onload_callbacks.push(callback);\n",
       "    if (root._bokeh_is_loading > 0) {\n",
       "      console.log(\"Bokeh: BokehJS is being loaded, scheduling callback at\", now());\n",
       "      return null;\n",
       "    }\n",
       "    if (js_urls == null || js_urls.length === 0) {\n",
       "      run_callbacks();\n",
       "      return null;\n",
       "    }\n",
       "    console.log(\"Bokeh: BokehJS not loaded, scheduling load and callback at\", now());\n",
       "    root._bokeh_is_loading = js_urls.length;\n",
       "    for (var i = 0; i < js_urls.length; i++) {\n",
       "      var url = js_urls[i];\n",
       "      var s = document.createElement('script');\n",
       "      s.src = url;\n",
       "      s.async = false;\n",
       "      s.onreadystatechange = s.onload = function() {\n",
       "        root._bokeh_is_loading--;\n",
       "        if (root._bokeh_is_loading === 0) {\n",
       "          console.log(\"Bokeh: all BokehJS libraries loaded\");\n",
       "          run_callbacks()\n",
       "        }\n",
       "      };\n",
       "      s.onerror = function() {\n",
       "        console.warn(\"failed to load library \" + url);\n",
       "      };\n",
       "      console.log(\"Bokeh: injecting script tag for BokehJS library: \", url);\n",
       "      document.getElementsByTagName(\"head\")[0].appendChild(s);\n",
       "    }\n",
       "  };var element = document.getElementById(\"ffc82de7-c131-404f-8b51-502d68f126f9\");\n",
       "  if (element == null) {\n",
       "    console.log(\"Bokeh: ERROR: autoload.js configured with elementid 'ffc82de7-c131-404f-8b51-502d68f126f9' but no matching script tag was found. \")\n",
       "    return false;\n",
       "  }\n",
       "\n",
       "  var js_urls = [\"https://cdn.pydata.org/bokeh/release/bokeh-0.12.16.min.js\", \"https://cdn.pydata.org/bokeh/release/bokeh-widgets-0.12.16.min.js\", \"https://cdn.pydata.org/bokeh/release/bokeh-tables-0.12.16.min.js\", \"https://cdn.pydata.org/bokeh/release/bokeh-gl-0.12.16.min.js\"];\n",
       "\n",
       "  var inline_js = [\n",
       "    function(Bokeh) {\n",
       "      Bokeh.set_log_level(\"info\");\n",
       "    },\n",
       "    \n",
       "    function(Bokeh) {\n",
       "      \n",
       "    },\n",
       "    function(Bokeh) {\n",
       "      console.log(\"Bokeh: injecting CSS: https://cdn.pydata.org/bokeh/release/bokeh-0.12.16.min.css\");\n",
       "      Bokeh.embed.inject_css(\"https://cdn.pydata.org/bokeh/release/bokeh-0.12.16.min.css\");\n",
       "      console.log(\"Bokeh: injecting CSS: https://cdn.pydata.org/bokeh/release/bokeh-widgets-0.12.16.min.css\");\n",
       "      Bokeh.embed.inject_css(\"https://cdn.pydata.org/bokeh/release/bokeh-widgets-0.12.16.min.css\");\n",
       "      console.log(\"Bokeh: injecting CSS: https://cdn.pydata.org/bokeh/release/bokeh-tables-0.12.16.min.css\");\n",
       "      Bokeh.embed.inject_css(\"https://cdn.pydata.org/bokeh/release/bokeh-tables-0.12.16.min.css\");\n",
       "    }\n",
       "  ];\n",
       "\n",
       "  function run_inline_js() {\n",
       "    \n",
       "    if ((root.Bokeh !== undefined) || (force === true)) {\n",
       "      for (var i = 0; i < inline_js.length; i++) {\n",
       "        inline_js[i].call(root, root.Bokeh);\n",
       "      }if (force === true) {\n",
       "        display_loaded();\n",
       "      }} else if (Date.now() < root._bokeh_timeout) {\n",
       "      setTimeout(run_inline_js, 100);\n",
       "    } else if (!root._bokeh_failed_load) {\n",
       "      console.log(\"Bokeh: BokehJS failed to load within specified timeout.\");\n",
       "      root._bokeh_failed_load = true;\n",
       "    } else if (force !== true) {\n",
       "      var cell = $(document.getElementById(\"ffc82de7-c131-404f-8b51-502d68f126f9\")).parents('.cell').data().cell;\n",
       "      cell.output_area.append_execute_result(NB_LOAD_WARNING)\n",
       "    }\n",
       "\n",
       "  }\n",
       "\n",
       "  if (root._bokeh_is_loading === 0) {\n",
       "    console.log(\"Bokeh: BokehJS loaded, going straight to plotting\");\n",
       "    run_inline_js();\n",
       "  } else {\n",
       "    load_libs(js_urls, function() {\n",
       "      console.log(\"Bokeh: BokehJS plotting callback run at\", now());\n",
       "      run_inline_js();\n",
       "    });\n",
       "  }\n",
       "}(window));"
      ],
      "application/vnd.bokehjs_load.v0+json": "\n(function(root) {\n  function now() {\n    return new Date();\n  }\n\n  var force = true;\n\n  if (typeof (root._bokeh_onload_callbacks) === \"undefined\" || force === true) {\n    root._bokeh_onload_callbacks = [];\n    root._bokeh_is_loading = undefined;\n  }\n\n  \n\n  \n  if (typeof (root._bokeh_timeout) === \"undefined\" || force === true) {\n    root._bokeh_timeout = Date.now() + 5000;\n    root._bokeh_failed_load = false;\n  }\n\n  var NB_LOAD_WARNING = {'data': {'text/html':\n     \"<div style='background-color: #fdd'>\\n\"+\n     \"<p>\\n\"+\n     \"BokehJS does not appear to have successfully loaded. If loading BokehJS from CDN, this \\n\"+\n     \"may be due to a slow or bad network connection. Possible fixes:\\n\"+\n     \"</p>\\n\"+\n     \"<ul>\\n\"+\n     \"<li>re-rerun `output_notebook()` to attempt to load from CDN again, or</li>\\n\"+\n     \"<li>use INLINE resources instead, as so:</li>\\n\"+\n     \"</ul>\\n\"+\n     \"<code>\\n\"+\n     \"from bokeh.resources import INLINE\\n\"+\n     \"output_notebook(resources=INLINE)\\n\"+\n     \"</code>\\n\"+\n     \"</div>\"}};\n\n  function display_loaded() {\n    var el = document.getElementById(\"ffc82de7-c131-404f-8b51-502d68f126f9\");\n    if (el != null) {\n      el.textContent = \"BokehJS is loading...\";\n    }\n    if (root.Bokeh !== undefined) {\n      if (el != null) {\n        el.textContent = \"BokehJS \" + root.Bokeh.version + \" successfully loaded.\";\n      }\n    } else if (Date.now() < root._bokeh_timeout) {\n      setTimeout(display_loaded, 100)\n    }\n  }\n\n\n  function run_callbacks() {\n    try {\n      root._bokeh_onload_callbacks.forEach(function(callback) { callback() });\n    }\n    finally {\n      delete root._bokeh_onload_callbacks\n    }\n    console.info(\"Bokeh: all callbacks have finished\");\n  }\n\n  function load_libs(js_urls, callback) {\n    root._bokeh_onload_callbacks.push(callback);\n    if (root._bokeh_is_loading > 0) {\n      console.log(\"Bokeh: BokehJS is being loaded, scheduling callback at\", now());\n      return null;\n    }\n    if (js_urls == null || js_urls.length === 0) {\n      run_callbacks();\n      return null;\n    }\n    console.log(\"Bokeh: BokehJS not loaded, scheduling load and callback at\", now());\n    root._bokeh_is_loading = js_urls.length;\n    for (var i = 0; i < js_urls.length; i++) {\n      var url = js_urls[i];\n      var s = document.createElement('script');\n      s.src = url;\n      s.async = false;\n      s.onreadystatechange = s.onload = function() {\n        root._bokeh_is_loading--;\n        if (root._bokeh_is_loading === 0) {\n          console.log(\"Bokeh: all BokehJS libraries loaded\");\n          run_callbacks()\n        }\n      };\n      s.onerror = function() {\n        console.warn(\"failed to load library \" + url);\n      };\n      console.log(\"Bokeh: injecting script tag for BokehJS library: \", url);\n      document.getElementsByTagName(\"head\")[0].appendChild(s);\n    }\n  };var element = document.getElementById(\"ffc82de7-c131-404f-8b51-502d68f126f9\");\n  if (element == null) {\n    console.log(\"Bokeh: ERROR: autoload.js configured with elementid 'ffc82de7-c131-404f-8b51-502d68f126f9' but no matching script tag was found. \")\n    return false;\n  }\n\n  var js_urls = [\"https://cdn.pydata.org/bokeh/release/bokeh-0.12.16.min.js\", \"https://cdn.pydata.org/bokeh/release/bokeh-widgets-0.12.16.min.js\", \"https://cdn.pydata.org/bokeh/release/bokeh-tables-0.12.16.min.js\", \"https://cdn.pydata.org/bokeh/release/bokeh-gl-0.12.16.min.js\"];\n\n  var inline_js = [\n    function(Bokeh) {\n      Bokeh.set_log_level(\"info\");\n    },\n    \n    function(Bokeh) {\n      \n    },\n    function(Bokeh) {\n      console.log(\"Bokeh: injecting CSS: https://cdn.pydata.org/bokeh/release/bokeh-0.12.16.min.css\");\n      Bokeh.embed.inject_css(\"https://cdn.pydata.org/bokeh/release/bokeh-0.12.16.min.css\");\n      console.log(\"Bokeh: injecting CSS: https://cdn.pydata.org/bokeh/release/bokeh-widgets-0.12.16.min.css\");\n      Bokeh.embed.inject_css(\"https://cdn.pydata.org/bokeh/release/bokeh-widgets-0.12.16.min.css\");\n      console.log(\"Bokeh: injecting CSS: https://cdn.pydata.org/bokeh/release/bokeh-tables-0.12.16.min.css\");\n      Bokeh.embed.inject_css(\"https://cdn.pydata.org/bokeh/release/bokeh-tables-0.12.16.min.css\");\n    }\n  ];\n\n  function run_inline_js() {\n    \n    if ((root.Bokeh !== undefined) || (force === true)) {\n      for (var i = 0; i < inline_js.length; i++) {\n        inline_js[i].call(root, root.Bokeh);\n      }if (force === true) {\n        display_loaded();\n      }} else if (Date.now() < root._bokeh_timeout) {\n      setTimeout(run_inline_js, 100);\n    } else if (!root._bokeh_failed_load) {\n      console.log(\"Bokeh: BokehJS failed to load within specified timeout.\");\n      root._bokeh_failed_load = true;\n    } else if (force !== true) {\n      var cell = $(document.getElementById(\"ffc82de7-c131-404f-8b51-502d68f126f9\")).parents('.cell').data().cell;\n      cell.output_area.append_execute_result(NB_LOAD_WARNING)\n    }\n\n  }\n\n  if (root._bokeh_is_loading === 0) {\n    console.log(\"Bokeh: BokehJS loaded, going straight to plotting\");\n    run_inline_js();\n  } else {\n    load_libs(js_urls, function() {\n      console.log(\"Bokeh: BokehJS plotting callback run at\", now());\n      run_inline_js();\n    });\n  }\n}(window));"
     },
     "metadata": {},
     "output_type": "display_data"
    }
   ],
   "source": [
    "output_notebook()"
   ]
  },
  {
   "cell_type": "code",
   "execution_count": 639,
   "metadata": {
    "collapsed": true
   },
   "outputs": [],
   "source": [
    "'''\n",
    "Get the clirad-lw and lblnew `param`s for all spectral bands.  \n",
    "These are returned by functions `clirad_params_atm` and\n",
    "`lblnew_params_atm`, respectively.\n",
    "'''\n",
    "\n",
    "def molecules_byband_atm():\n",
    "    return {1: {'h2o': 'atmpro'},\n",
    "            2: {'h2o': 'atmpro'}, \n",
    "            3: {'co2': 0.0004, 'h2o': 'atmpro', 'n2o': 3.2e-07},\n",
    "            4: {'co2': 0.0004, 'h2o': 'atmpro'},\n",
    "            5: {'co2': 0.0004, 'h2o': 'atmpro'},\n",
    "            6: {'co2': 0.0004, 'h2o': 'atmpro'},\n",
    "            7: {'co2': 0.0004, 'h2o': 'atmpro', 'o3': 'atmpro'},\n",
    "            8: {'h2o': 'atmpro'},\n",
    "            9: {'ch4': 1.8e-06, 'h2o': 'atmpro', 'n2o': 3.2e-07},\n",
    "            10: {'h2o': 'atmpro'},\n",
    "            11: {'co2': 0.0004, 'h2o': 'atmpro'}}\n",
    "\n",
    "\n",
    "def greyabsorbers_by_band_atm():\n",
    "    return {1: {'con': 'atmpro'},\n",
    "            2: {'con': 'atmpro'},\n",
    "            3: {'con': 'atmpro'},\n",
    "            4: {'con': 'atmpro'},\n",
    "            5: {'con': 'atmpro'},\n",
    "            6: {'con': 'atmpro'}, \n",
    "            7: {'con': 'atmpro'},\n",
    "            8: {'con': 'atmpro', 'n2o': 3.2e-7}, \n",
    "            9: {'con': 'atmpro'}, \n",
    "            10: None,\n",
    "            11: None}\n",
    "\n",
    "\n",
    "def clirad_params_atm(atmpro='mls'):\n",
    "    d = {}\n",
    "    for band, molecule in molecules_byband_atm().items():\n",
    "        for param in setup_cliradlw.test_cases():\n",
    "            if [band] == param['band'] and molecule == param['molecule']:\n",
    "                param['atmpro'] = atmpro\n",
    "                d[band] = param\n",
    "                break                \n",
    "    return d\n",
    "\n",
    "\n",
    "def clirad_params_atm_singlerun(atmpro='mls'):\n",
    "    '''\n",
    "    Returns param of clirad-lw run that is equivalent to the total\n",
    "    of all the runs listed in molecules_byband_atm().  In order\n",
    "    for the output to be compatible with clirad_data_atm(), it will\n",
    "    be a list.\n",
    "    '''\n",
    "    param0 = {'band': [1, 2, 3, 4, 5, 6, 7, 8, 9, 10, 11],\n",
    "              'commitnumber': '4e22e66',\n",
    "              'molecule': {'ch4': 1.8e-06,\n",
    "                           'co2': 0.0004,\n",
    "                           'h2o': 'atmpro',\n",
    "                           'n2o': 3.2e-07,\n",
    "                           'o3': 'atmpro'}}\n",
    "    \n",
    "    d_atmpros = {'mls': 294, 'saw': 257, 'trp': 300}\n",
    "    \n",
    "    param = param0.copy()\n",
    "    param['atmpro'] = atmpro\n",
    "    param['tsfc'] = d_atmpros[atmpro]\n",
    "    \n",
    "    d = {}\n",
    "    d['all'] = param\n",
    "    return d\n",
    "\n",
    "\n",
    "def analysis_dirs_atm(atmpro='mls'):\n",
    "    params = clirad_params_atm(atmpro=atmpro)\n",
    "    return {band: pipe_cliradlw.get_analysis_dir(param=param,\n",
    "                                                 setup=setup_cliradlw) \n",
    "            for band, param in params.items()}\n",
    "\n",
    "\n",
    "def lblnew_params_atm(atmpro='mls'):\n",
    "    dirs = analysis_dirs_atm(atmpro=atmpro)\n",
    "    \n",
    "    d = {}\n",
    "    for band, dirname in dirs.items():\n",
    "        with open(os.path.join(dirname, 'param.py'), \n",
    "                  mode='r', encoding='utf-8') as f:\n",
    "            _, l = f.readlines()\n",
    "        \n",
    "        s = l.split('=')[1].strip()\n",
    "        d[band] = ast.literal_eval(s)\n",
    "        \n",
    "    return d\n"
   ]
  },
  {
   "cell_type": "code",
   "execution_count": 640,
   "metadata": {
    "collapsed": true
   },
   "outputs": [],
   "source": [
    "def db_getdir():\n",
    "    atmpro = 'mls'\n",
    "    params = clirad_params_atm_singlerun(atmpro=atmpro)\n",
    "    param = params['all']\n",
    "    \n",
    "    fdir = pipe_cliradlw.get_fortran_dir(param=param, \n",
    "                                         setup=setup_cliradlw)\n",
    "    return fdir\n",
    "\n",
    "\n",
    "def db_ktable():\n",
    "    fdir = db_getdir()    \n",
    "    fpath = os.path.join(fdir, 'ktable.dat')\n",
    "    \n",
    "    df = pd.read_csv(fpath, sep=r'\\s+')\n",
    "    df = df.set_index(['band', 'mid', 'il', 'it', 'g'])\n",
    "    ds = xr.Dataset.from_dataframe(df)\n",
    "    return ds\n",
    "\n",
    "\n",
    "def db_ng_dgs():\n",
    "    fdir = db_getdir()\n",
    "    fpath = os.path.join(fdir, 'ng_dgs.dat')\n",
    "    \n",
    "    df = pd.read_csv(fpath, sep=r'\\s+')\n",
    "    df = df.set_index(['band', 'mid', 'g'])\n",
    "    ds = xr.Dataset.from_dataframe(df)\n",
    "    return ds\n"
   ]
  },
  {
   "cell_type": "code",
   "execution_count": 641,
   "metadata": {
    "collapsed": true
   },
   "outputs": [],
   "source": [
    "def show_makeup():\n",
    "    df = pd.DataFrame()\n",
    "\n",
    "    for band, molecule in molecules_byband_atm().items():\n",
    "        for name, conc in molecule.items():\n",
    "            df.loc[name, band] = str(conc)\n",
    "\n",
    "    df = df.fillna(0)\n",
    "    df.columns.name = 'clirad band'\n",
    "    df.index.name = 'molecule'\n",
    "    \n",
    "    display.display(df)\n",
    "    \n",
    "    display.display(\n",
    "        display.Markdown('*TABLE.* Non-grey absorbers in the atmosphere.'))\n",
    "\n",
    "\n",
    "def show_grey_makeup():\n",
    "    df = pd.DataFrame()\n",
    "    \n",
    "    for band, molecule in greyabsorbers_by_band_atm().items():\n",
    "        if molecule == None:\n",
    "            pass\n",
    "        else:\n",
    "            for name, conc in molecule.items():\n",
    "                df.loc[name, band] = str(conc)\n",
    "                \n",
    "    df = df.fillna(0)\n",
    "    df.columns.name = 'clirad band'\n",
    "    df.index.name = 'absorber'\n",
    "    \n",
    "    display.display(df)\n",
    "    display.display(\n",
    "        display.Markdown('*TABLE.* Grey absorbers in the atmosphere.')\n",
    "    )"
   ]
  },
  {
   "cell_type": "code",
   "execution_count": 642,
   "metadata": {
    "collapsed": true
   },
   "outputs": [],
   "source": [
    "def load_output_file(path_csv):\n",
    "    '''\n",
    "    Load lblnew output .csv file to xarray.Dataset\n",
    "    \n",
    "    Parameters\n",
    "    ----------\n",
    "    path_csv: str\n",
    "              Path to the .csv file to be loaded.\n",
    "    ds: xarray.Dataset\n",
    "        Data in the input file in the form of an xarray.Dataset.\n",
    "    '''\n",
    "    toindex = ['band', 'pressure', 'igg', 'g']    \n",
    "    df = pd.read_csv(path_csv, sep=r'\\s+')\n",
    "    df = df.set_index([i for i in toindex if i in df.columns])\n",
    "    df = df.rename(columns={'sfu': 'flug',\n",
    "                            'sfd': 'fldg',\n",
    "                            'fnet': 'fnetg',\n",
    "                            'coolr': 'coolrg'})\n",
    "    ds = xr.Dataset.from_dataframe(df)\n",
    "\n",
    "    for l in ('level', 'layer'):\n",
    "        if l in ds.data_vars:\n",
    "            if len(ds[l].dims) > 1:\n",
    "                surface = {d: 0 for d in ds.dims if d != 'pressure'}\n",
    "                coord_level = ds[l][surface]\n",
    "                ds.coords[l] = ('pressure', coord_level)\n",
    "            else:\n",
    "                ds.coords[l] = ('pressure', ds[l])\n",
    "    \n",
    "    return ds"
   ]
  },
  {
   "cell_type": "code",
   "execution_count": 643,
   "metadata": {
    "collapsed": true
   },
   "outputs": [],
   "source": [
    "def lblnew_setup(param=None):\n",
    "    if 'ng_refs' in param:\n",
    "        return {'setup': setup_bestfit,\n",
    "                'fname_flux_crd': 'output_flux.dat',\n",
    "                'fname_cool_crd': 'output_coolr.dat',\n",
    "                'fname_flux_wgt': 'output_wfluxg.dat',\n",
    "                'fname_cool_wgt': 'output_wcoolrg.dat'}\n",
    "    else:\n",
    "        return {'setup': setup_overlap,\n",
    "                'fname_flux_crd': 'output_flux.dat',\n",
    "                'fname_cool_crd': 'output_coolr.dat',\n",
    "                'fname_flux_wgt': 'output_wflux.dat',\n",
    "                'fname_cool_wgt': 'output_wcoolr.dat'}\n",
    "\n",
    "    \n",
    "def load_lblnew_data(param):\n",
    "    \n",
    "    fname_dsname = [('fname_flux_crd', 'ds_flux_crd'),\n",
    "                    ('fname_cool_crd', 'ds_cool_crd'),\n",
    "                    ('fname_flux_wgt', 'ds_flux_wgt'),\n",
    "                    ('fname_cool_wgt', 'ds_cool_wgt')]\n",
    "    \n",
    "    d = lblnew_setup(param)\n",
    "    dir_fortran = pipe_lblnew.get_dir_case(param, setup=d['setup'])\n",
    "    \n",
    "    data_dict = {}\n",
    "    for fname, dsname in fname_dsname:\n",
    "        fpath = os.path.join(dir_fortran, d[fname])\n",
    "        data_dict[dsname] = load_output_file(fpath)\n",
    "    return data_dict"
   ]
  },
  {
   "cell_type": "code",
   "execution_count": 644,
   "metadata": {
    "collapsed": true
   },
   "outputs": [],
   "source": [
    "def crd_data_atm(params_atm):\n",
    "    '''\n",
    "    Parameters\n",
    "    ----------\n",
    "    \n",
    "    params_atm: dict\n",
    "                Parameter dictionary for each band.\n",
    "                \n",
    "    d: dict\n",
    "       'flux': xr.Dataset. [pressure, band]\n",
    "               Fluxes.\n",
    "       'cool': xr.Dataset. [pressure, band]\n",
    "               Cooling rate.\n",
    "    \n",
    "    '''\n",
    "    \n",
    "    results_atm = {band: load_lblnew_data(param) \n",
    "                   for band, param in params_atm.items()}\n",
    "    \n",
    "    bands = [band for band, _ in params_atm.items()]\n",
    "    fluxs = [d['ds_flux_crd'] for _, d in results_atm.items()]\n",
    "    cools = [d['ds_cool_crd'] for _, d in results_atm.items()]\n",
    "    \n",
    "    d = {}\n",
    "    d['flux'] = xr.concat(fluxs, dim=bands).rename({'concat_dim': 'band'})\n",
    "    d['cool'] = xr.concat(cools, dim=bands).rename({'concat_dim': 'band'})\n",
    "    return d        \n",
    "        \n",
    "        \n",
    "\n",
    "def clirad_data_atm(params_atm):\n",
    "    \n",
    "    dirnames = [pipe_cliradlw.get_fortran_dir(param,\n",
    "                                              setup=setup_cliradlw)\n",
    "                for _, param in params_atm.items()]\n",
    "    \n",
    "    fpaths_flux = [os.path.join(n, 'output_flux.dat') for n in dirnames]\n",
    "    fpaths_cool = [os.path.join(n, 'output_coolr.dat') for n in dirnames]\n",
    "    \n",
    "    fluxs = [load_output_file(p) for p in fpaths_flux]    \n",
    "    cools = [load_output_file(p) for p in fpaths_cool]\n",
    "    \n",
    "    d = {}\n",
    "    d['flux'] = sum(fluxs)\n",
    "    d['cool'] = sum(cools)\n",
    "    return d\n",
    "\n"
   ]
  },
  {
   "cell_type": "code",
   "execution_count": 645,
   "metadata": {
    "collapsed": true
   },
   "outputs": [],
   "source": [
    "\n",
    "\n",
    "import rtmtools.clirad.sw.wrangle as cliradwrangle\n",
    "\n",
    "import importlib\n",
    "importlib.reload(cliradwrangle)\n",
    "\n",
    "def oldclirad_data_atm():\n",
    "    '''\n",
    "    Load the OLD clirad's results. mls only.\n",
    "    '''\n",
    "    fpath = os.path.join('/chia_cluster/home/jackyu/radiation',\n",
    "                         'clirad-lw',\n",
    "                         'LW',\n",
    "                         'examples',\n",
    "                         'mls75_h2o_atmpro_co2_.0004_o3_atmpro_n2o_3.2e-7_ch4_1.8e-6_H2012',\n",
    "                         'OUTPUT_CLIRAD.dat')\n",
    "    \n",
    "    ds = cliradwrangle.load_OUTPUT_CLIRAD(readfrom=fpath)\n",
    "    \n",
    "    ds_cool = xr.Dataset()\n",
    "    ds_cool.coords['pressure'] = ('pressure', ds['layer_pressure'])\n",
    "    ds_cool.coords['band'] = ('band', ds['spectral_band'])\n",
    "    ds_cool['coolrg'] = (('band', 'pressure'), - ds['heating_rate'])\n",
    "    \n",
    "    ds_flux = xr.Dataset()\n",
    "    ds_flux.coords['pressure'] = ('pressure', ds['level_pressure'])\n",
    "    ds_flux.coords['band'] = ('band', ds['spectral_band'])\n",
    "    ds_flux['flug'] = (('band', 'pressure'), ds['flux_up'])\n",
    "    ds_flux['fldg'] = (('band', 'pressure'), ds['flux_down'])\n",
    "    ds_flux['fnetg'] = (('band', 'pressure'), ds['net_flux'])\n",
    "    \n",
    "    \n",
    "    d = {}\n",
    "    d['cool'] = ds_cool\n",
    "    d['flux'] = ds_flux\n",
    "    return d\n"
   ]
  },
  {
   "cell_type": "code",
   "execution_count": 646,
   "metadata": {
    "collapsed": true
   },
   "outputs": [],
   "source": [
    "def fmt_cool(ds_in):\n",
    "    ds = ds_in.copy(deep=True)\n",
    "    if 'igg' in ds.dims:\n",
    "        ds = ds.sel(igg=1)\n",
    "\n",
    "    if 'g' in ds.dims:\n",
    "        ds = ds.sum('g')\n",
    "            \n",
    "    if 'band' in ds.dims:\n",
    "        try:\n",
    "            ds = ds.squeeze('band')\n",
    "        except ValueError:\n",
    "            ds = ds.sum('band')\n",
    "                \n",
    "    return ds['coolrg']\n",
    "\n",
    "\n",
    "\n",
    "def nice_xlims(pltdata=None, prange=None):\n",
    "    \n",
    "    def get_slice(srs):\n",
    "        return srs.sel(pressure=slice(*prange))\n",
    "    \n",
    "    srss = [d['srs'] for d in pltdata]\n",
    "    vmin = min([get_slice(srs).min() for srs in srss])\n",
    "    vmax = max([get_slice(srs).max() for srs in srss])\n",
    "    dv = (vmax - vmin) * .01\n",
    "    return float(vmin - dv), float(vmax + dv)\n",
    "\n",
    "\n",
    "    \n",
    "def plt_cool_bokeh(pltdata=None, \n",
    "                   y_axis_type='linear', prange=(50, 1050)):\n",
    "    \n",
    "    ymin = 1e-2 \n",
    "    ymax = 1020\n",
    "    \n",
    "    p2 = figure(y_axis_type=y_axis_type, plot_width=300)\n",
    "    xmin, xmax = nice_xlims(pltdata, prange=prange)\n",
    "    \n",
    "    rs = []\n",
    "    for d in pltdata:\n",
    "        rd = []\n",
    "        if 'marker' in d:\n",
    "            r_mark = getattr(p2, d['marker'])(d['srs'].values, \n",
    "                        d['srs'].coords['pressure'].values,\n",
    "                        color=d['color'], alpha=.7)\n",
    "            rd.append(r_mark)\n",
    "        r_line = p2.line(d['srs'].values, \n",
    "                         d['srs'].coords['pressure'].values,\n",
    "                         color=d['color'], alpha=d['alpha'], \n",
    "                         line_width=d['line_width'], \n",
    "                         line_dash=d['line_dash'])\n",
    "        rd.append(r_line)\n",
    "      \n",
    "        rs.append(rd)\n",
    "        \n",
    "    p2.y_range = Range1d(ymax, ymin)  \n",
    "    p2.yaxis.axis_label = 'pressure [mb]'\n",
    "    \n",
    "    p2.x_range = Range1d(xmin, xmax)\n",
    "    p2.xaxis.axis_label = 'cooling rate [K/day]'\n",
    "    \n",
    "    items = [(d['label'], r) for r, d in zip(rs, pltdata)]\n",
    "    legend = Legend(items=items, location=(10, 0))\n",
    "    legend.label_text_font_size = '8pt'\n",
    "    p2.add_layout(legend, 'above')\n",
    "    p2.legend.orientation = 'horizontal'\n",
    "    p2.legend.location = 'top_center'\n",
    "    \n",
    "    return p2"
   ]
  },
  {
   "cell_type": "code",
   "execution_count": 647,
   "metadata": {
    "collapsed": true
   },
   "outputs": [],
   "source": [
    "def pltdata_cool(atmpro='mls'):\n",
    "    \n",
    "    d_clirad_singlerun = clirad_data_atm(\n",
    "        clirad_params_atm_singlerun(atmpro=atmpro))\n",
    "    d_clirad = clirad_data_atm(clirad_params_atm(atmpro=atmpro))\n",
    "    d_crd = crd_data_atm(lblnew_params_atm(atmpro=atmpro))\n",
    "\n",
    "    ds_clirad_singlerun = d_clirad_singlerun['cool']\n",
    "    ds_clirad = d_clirad['cool']\n",
    "    ds_crd = d_crd['cool']\n",
    "\n",
    "    colors = all_palettes['Set1'][4]\n",
    "    \n",
    "    data = [\n",
    "        {'label': 'CLIRAD (single-run)',\n",
    "        'srs': fmt_cool(ds_clirad_singlerun),\n",
    "        'line_dash': 'dashed', 'line_width': 5,\n",
    "        'color': colors[1], 'alpha': .6},\n",
    "        {'label': 'CRD',\n",
    "         'srs': fmt_cool(ds_crd),\n",
    "         'line_dash': 'solid', 'line_width': 1.5,\n",
    "         'marker': 'circle', 'marker_size': 5,\n",
    "         'color': colors[2], 'alpha': 1}\n",
    "    ]\n",
    "#        {'label': 'CLIRAD',\n",
    "#         'srs': fmt_cool(ds_clirad),\n",
    "#         'line_dash': 'dashed', 'line_width': 5,\n",
    "#         'color': colors[0], 'alpha': .6}\n",
    "        \n",
    "\n",
    "    \n",
    "    # include old CLIRAD's results for mls profile\n",
    "    if atmpro == 'mls':\n",
    "        d_oldclirad = oldclirad_data_atm()\n",
    "        ds_oldclirad = d_oldclirad['cool']        \n",
    "        data.append(\n",
    "            {'label': 'old CLIRAD (H2012)',\n",
    "             'srs': fmt_cool(ds_oldclirad),\n",
    "             'line_dash': 'solid', 'line_width': 1.5,\n",
    "             'marker': 'square', 'marker_size': 3,\n",
    "             'color': colors[3], 'alpha': .5})\n",
    "    return data\n",
    "\n",
    "\n",
    "def pltdata_cooldiff(atmpro='mls'):\n",
    "    \n",
    "    d_clirad_singlerun = clirad_data_atm(\n",
    "        clirad_params_atm_singlerun(atmpro=atmpro))\n",
    "    d_clirad = clirad_data_atm(clirad_params_atm(atmpro=atmpro))\n",
    "    d_crd = crd_data_atm(lblnew_params_atm(atmpro=atmpro))\n",
    "    \n",
    "    ds_clirad_singlerun = d_clirad_singlerun['cool']\n",
    "    ds_clirad = d_clirad['cool']\n",
    "    ds_crd = d_crd['cool']\n",
    "    \n",
    "    ds_diff = ds_clirad_singlerun - ds_crd\n",
    "    \n",
    "    colors = all_palettes['Set1'][4]\n",
    "    \n",
    "    data = [\n",
    "        {'label': 'CLIRAD (single-run) - CRD',\n",
    "         'srs': fmt_cool(ds_diff),\n",
    "         'line_dash': 'solid', 'line_width': 1.5, \n",
    "         'marker': 'circle', 'marker_size': 7,\n",
    "         'color': colors[3], 'alpha': .8}\n",
    "    ]\n",
    "    \n",
    "    # include old CLIRAD's results for mls profile\n",
    "    if atmpro == 'mls':\n",
    "        d_oldclirad = oldclirad_data_atm()\n",
    "        ds_oldclirad = d_oldclirad['cool']\n",
    "        ds_oldclirad.coords['pressure'] = ds_crd.coords['pressure']\n",
    "        ds_diff_old = ds_oldclirad.sum('band') - ds_crd.sum('band')\n",
    "        data.append(\n",
    "            {'label': 'old CLIRAD (H2012) - CRD',\n",
    "             'srs': fmt_cool(ds_diff_old),\n",
    "             'line_dash': 'dashed', 'line_width': 4,\n",
    "             'color': colors[1], 'alpha': .5}\n",
    "        )\n",
    "    return data\n",
    "\n",
    "\n",
    "def show_cool(atmpro='mls'):\n",
    "    \n",
    "    data_cool = pltdata_cool(atmpro=atmpro)\n",
    "    p_cool_liny = plt_cool_bokeh(pltdata=data_cool)\n",
    "    p_cool_logy = plt_cool_bokeh(pltdata=data_cool, \n",
    "                                 y_axis_type='log',\n",
    "                                 prange=(.01, 200))\n",
    "    \n",
    "    data_cooldiff = pltdata_cooldiff(atmpro=atmpro)\n",
    "    p_cooldiff_logy = plt_cool_bokeh(pltdata=data_cooldiff,\n",
    "                                     y_axis_type='log',\n",
    "                                     prange=(.01, 200))\n",
    "    \n",
    "    everything = gridplot(p_cool_liny, p_cool_logy, \n",
    "                          p_cooldiff_logy,\n",
    "                          ncols=3)\n",
    "    show(everything)\n",
    "    display.display(\n",
    "        display.Markdown('*FIGURE.* Cooling rates & difference.'))\n",
    "\n",
    "\n",
    "    "
   ]
  },
  {
   "cell_type": "code",
   "execution_count": null,
   "metadata": {
    "collapsed": true
   },
   "outputs": [],
   "source": []
  },
  {
   "cell_type": "code",
   "execution_count": 648,
   "metadata": {
    "collapsed": true,
    "scrolled": false
   },
   "outputs": [],
   "source": [
    "\n",
    "\n",
    "def hist_band_vs_flux(da, title='Title'):\n",
    "       \n",
    "    bands = [str(b.values) for b in da['band']]\n",
    "\n",
    "    source = ColumnDataSource(\n",
    "        data={'band': bands, 'flux': da.values})\n",
    "\n",
    "    p = figure(x_range=bands, title=title)\n",
    "    p.vbar(source=source, x='band', top='flux', width=.9)\n",
    "\n",
    "    p.yaxis.axis_label = 'flux (W m-2)'\n",
    "    p.xaxis.axis_label = 'spectral band'\n",
    "    \n",
    "    return p\n",
    "\n",
    "\n",
    "def show_hist_flux(atmpro='mls'):\n",
    "    ds_crd = crd_data_atm(lblnew_params_atm(atmpro=atmpro))['flux']\n",
    "    ds_clirad = clirad_data_atm(\n",
    "        clirad_params_atm(atmpro=atmpro))['flux']\n",
    "    ds_clirad_singlerun = clirad_data_atm(\n",
    "        clirad_params_atm_singlerun(atmpro=atmpro))['flux']\n",
    "    \n",
    "    ip, varname = 0, 'flug'\n",
    "    da = (ds_clirad_singlerun - ds_crd).isel(pressure=ip)[varname]\n",
    "    p_toa = hist_band_vs_flux(da, \n",
    "        title='TOA flux. CLIRAD (single-run) - CRD.')\n",
    "\n",
    "    ip, varname = -1, 'fldg'\n",
    "    da = (ds_clirad_singlerun - ds_crd).isel(pressure=ip)[varname]\n",
    "    p_sfc = hist_band_vs_flux(da, \n",
    "        title='SFC flux. CLIRAD (single-run) - CRD.')    \n",
    "    \n",
    "    atm_crd = (ds_crd.isel(pressure=0) \n",
    "               - ds_crd.isel(pressure=-1))['fnetg']\n",
    "    atm_clirad_singlerun = (ds_clirad_singlerun.isel(pressure=0) \n",
    "                  - ds_clirad_singlerun.isel(pressure=-1))['fnetg']\n",
    "    da = atm_clirad_singlerun - atm_crd\n",
    "    p_atm = hist_band_vs_flux(da, \n",
    "        title='Atmosphere heating. CLIRAD (single-run) - CRD.')\n",
    "\n",
    "    everything = gridplot(p_toa, p_sfc, p_atm, ncols=3, \n",
    "                          plot_width=300, plot_height=300)\n",
    "    \n",
    "    show(everything)\n",
    "    display.display(\n",
    "        display.Markdown('*FIGURE.* Difference between CLIRAD and CRD'\n",
    "          ' in TOA, SFC and net atmosphere flux,'\n",
    "          ' in each spectral band.'))\n",
    "\n",
    "\n",
    "    \n",
    "def show_tb_flux(atmpro='mls'):\n",
    "    ds_crd = crd_data_atm(lblnew_params_atm(atmpro=atmpro))['flux']\n",
    "    olr_crd = ds_crd['flug'].isel(pressure=0)\n",
    "    sfc_crd = ds_crd['fldg'].isel(pressure=-1)\n",
    "    atm_crd = (ds_crd.isel(pressure=0)\n",
    "               - ds_crd.isel(pressure=-1))['fnetg']\n",
    "    \n",
    "    ds_clirad = clirad_data_atm(\n",
    "        clirad_params_atm(atmpro=atmpro))['flux']\n",
    "    olr_clirad = ds_clirad['flug'].isel(pressure=0)\n",
    "    sfc_clirad = ds_clirad['fldg'].isel(pressure=-1)\n",
    "    atm_clirad = (ds_clirad.isel(pressure=0)\n",
    "                  - ds_clirad.isel(pressure=-1))['fnetg']\n",
    "\n",
    "    ds_clirad_singlerun = clirad_data_atm(\n",
    "        clirad_params_atm_singlerun(atmpro=atmpro))['flux']\n",
    "    olr_clirad_singlerun = ds_clirad_singlerun['flug'].isel(pressure=0)\n",
    "    sfc_clirad_singlerun = ds_clirad_singlerun['fldg'].isel(pressure=-1)\n",
    "    atm_clirad_singlerun = (ds_clirad_singlerun.isel(pressure=0)\n",
    "                  - ds_clirad_singlerun.isel(pressure=-1))['fnetg']\n",
    "    \n",
    "    if atmpro == 'mls':\n",
    "        ds_oldclirad = oldclirad_data_atm()['flux']\n",
    "        ds_oldclirad['pressure'] = ds_crd['pressure']\n",
    "        olr_oldclirad = ds_oldclirad['flug'].isel(pressure=0)\n",
    "        sfc_oldclirad = ds_oldclirad['fldg'].isel(pressure=-1)\n",
    "        atm_oldclirad = (ds_oldclirad.isel(pressure=0)\n",
    "                         - ds_oldclirad.isel(pressure=-1))['fnetg']\n",
    "        \n",
    "    \n",
    "    \n",
    "    df = pd.DataFrame()\n",
    "    df.index.name = 'Sum over bands'\n",
    "    \n",
    "    if atmpro == 'mls':\n",
    "        df.loc['old CLIRAD - CRD', 'OLR flux'] = (olr_oldclirad.sum('band') - olr_crd.sum('band')).values\n",
    "        df.loc['old CLIRAD - CRD', 'SFC flux'] = (sfc_oldclirad.sum('band') - sfc_crd.sum('band')).values\n",
    "        df.loc['old CLIRAD - CRD', 'ATM heating'] = (atm_oldclirad.sum('band') - atm_crd.sum('band')).values\n",
    "    \n",
    "    df.loc['CLIRAD (single-run) - CRD', 'OLR flux'] = (olr_clirad_singlerun - olr_crd).sum('band').values\n",
    "    df.loc['CLIRAD (single-run) - CRD', 'SFC flux'] = (sfc_clirad_singlerun - sfc_crd).sum('band').values\n",
    "    df.loc['CLIRAD (single-run) - CRD', 'ATM heating'] = (atm_clirad_singlerun - atm_crd).sum('band').values\n",
    "\n",
    "    df.loc['CRD', 'OLR flux'] = olr_crd.sum('band').values\n",
    "    df.loc['CRD', 'SFC flux'] = sfc_crd.sum('band').values\n",
    "    df.loc['CRD', 'ATM heating'] = atm_crd.sum('band').values\n",
    "        \n",
    "    df = df.astype('float').round(2)\n",
    "    \n",
    "    display.display(df)\n",
    "    display.display(\n",
    "        display.Markdown('*TABLE.* Difference between CLIRAD and CRD'\n",
    "          ' in TOA, SFC and net atmosphere flux,'\n",
    "          ' over all spectral bands. CRD\\'s'\n",
    "          ' TOA, SFC and net atmosphere flux,'\n",
    "          ' over all spectral bands.'))\n"
   ]
  },
  {
   "cell_type": "code",
   "execution_count": 649,
   "metadata": {
    "scrolled": false
   },
   "outputs": [
    {
     "data": {
      "text/markdown": [
       "## Results over entire range of molecules and spectral bands"
      ],
      "text/plain": [
       "<IPython.core.display.Markdown object>"
      ]
     },
     "metadata": {},
     "output_type": "display_data"
    },
    {
     "data": {
      "text/markdown": [
       "### Table of Contents"
      ],
      "text/plain": [
       "<IPython.core.display.Markdown object>"
      ]
     },
     "metadata": {},
     "output_type": "display_data"
    },
    {
     "data": {
      "text/html": [
       "<a href=\"#Makeup_of_atmosphere.\">Makeup of atmosphere.</a>"
      ],
      "text/plain": [
       "<IPython.core.display.HTML object>"
      ]
     },
     "metadata": {},
     "output_type": "display_data"
    },
    {
     "data": {
      "text/markdown": [
       "**mid-latitude summer**"
      ],
      "text/plain": [
       "<IPython.core.display.Markdown object>"
      ]
     },
     "metadata": {},
     "output_type": "display_data"
    },
    {
     "data": {
      "text/html": [
       "<a href=\"#Cooling_rates._mls.\">Cooling rates. mls.</a>"
      ],
      "text/plain": [
       "<IPython.core.display.HTML object>"
      ]
     },
     "metadata": {},
     "output_type": "display_data"
    },
    {
     "data": {
      "text/html": [
       "<a href=\"#Fluxes._mls.\">Fluxes. mls.</a>"
      ],
      "text/plain": [
       "<IPython.core.display.HTML object>"
      ]
     },
     "metadata": {},
     "output_type": "display_data"
    },
    {
     "data": {
      "text/markdown": [
       "**sub-arctic winter**"
      ],
      "text/plain": [
       "<IPython.core.display.Markdown object>"
      ]
     },
     "metadata": {},
     "output_type": "display_data"
    },
    {
     "data": {
      "text/html": [
       "<a href=\"#Cooling_rates._saw.\">Cooling rates. saw.</a>"
      ],
      "text/plain": [
       "<IPython.core.display.HTML object>"
      ]
     },
     "metadata": {},
     "output_type": "display_data"
    },
    {
     "data": {
      "text/html": [
       "<a href=\"#Fluxes._saw.\">Fluxes. saw.</a>"
      ],
      "text/plain": [
       "<IPython.core.display.HTML object>"
      ]
     },
     "metadata": {},
     "output_type": "display_data"
    },
    {
     "data": {
      "text/markdown": [
       "**tropical**"
      ],
      "text/plain": [
       "<IPython.core.display.Markdown object>"
      ]
     },
     "metadata": {},
     "output_type": "display_data"
    },
    {
     "data": {
      "text/html": [
       "<a href=\"#Cooling_rates._trp.\">Cooling rates. trp.</a>"
      ],
      "text/plain": [
       "<IPython.core.display.HTML object>"
      ]
     },
     "metadata": {},
     "output_type": "display_data"
    },
    {
     "data": {
      "text/html": [
       "<a href=\"#Fluxes._trp.\">Fluxes. trp.</a>"
      ],
      "text/plain": [
       "<IPython.core.display.HTML object>"
      ]
     },
     "metadata": {},
     "output_type": "display_data"
    },
    {
     "data": {
      "text/html": [
       "<a id=\"Makeup_of_atmosphere.\"></a>"
      ],
      "text/plain": [
       "<IPython.core.display.HTML object>"
      ]
     },
     "metadata": {},
     "output_type": "display_data"
    },
    {
     "data": {
      "text/markdown": [
       "# Makeup of atmosphere."
      ],
      "text/plain": [
       "<IPython.core.display.Markdown object>"
      ]
     },
     "metadata": {},
     "output_type": "display_data"
    },
    {
     "data": {
      "text/html": [
       "<div>\n",
       "<style scoped>\n",
       "    .dataframe tbody tr th:only-of-type {\n",
       "        vertical-align: middle;\n",
       "    }\n",
       "\n",
       "    .dataframe tbody tr th {\n",
       "        vertical-align: top;\n",
       "    }\n",
       "\n",
       "    .dataframe thead th {\n",
       "        text-align: right;\n",
       "    }\n",
       "</style>\n",
       "<table border=\"1\" class=\"dataframe\">\n",
       "  <thead>\n",
       "    <tr style=\"text-align: right;\">\n",
       "      <th>clirad band</th>\n",
       "      <th>1</th>\n",
       "      <th>2</th>\n",
       "      <th>3</th>\n",
       "      <th>4</th>\n",
       "      <th>5</th>\n",
       "      <th>6</th>\n",
       "      <th>7</th>\n",
       "      <th>8</th>\n",
       "      <th>9</th>\n",
       "      <th>10</th>\n",
       "      <th>11</th>\n",
       "    </tr>\n",
       "    <tr>\n",
       "      <th>molecule</th>\n",
       "      <th></th>\n",
       "      <th></th>\n",
       "      <th></th>\n",
       "      <th></th>\n",
       "      <th></th>\n",
       "      <th></th>\n",
       "      <th></th>\n",
       "      <th></th>\n",
       "      <th></th>\n",
       "      <th></th>\n",
       "      <th></th>\n",
       "    </tr>\n",
       "  </thead>\n",
       "  <tbody>\n",
       "    <tr>\n",
       "      <th>h2o</th>\n",
       "      <td>atmpro</td>\n",
       "      <td>atmpro</td>\n",
       "      <td>atmpro</td>\n",
       "      <td>atmpro</td>\n",
       "      <td>atmpro</td>\n",
       "      <td>atmpro</td>\n",
       "      <td>atmpro</td>\n",
       "      <td>atmpro</td>\n",
       "      <td>atmpro</td>\n",
       "      <td>atmpro</td>\n",
       "      <td>atmpro</td>\n",
       "    </tr>\n",
       "    <tr>\n",
       "      <th>co2</th>\n",
       "      <td>0</td>\n",
       "      <td>0</td>\n",
       "      <td>0.0004</td>\n",
       "      <td>0.0004</td>\n",
       "      <td>0.0004</td>\n",
       "      <td>0.0004</td>\n",
       "      <td>0.0004</td>\n",
       "      <td>0</td>\n",
       "      <td>0</td>\n",
       "      <td>0</td>\n",
       "      <td>0.0004</td>\n",
       "    </tr>\n",
       "    <tr>\n",
       "      <th>n2o</th>\n",
       "      <td>0</td>\n",
       "      <td>0</td>\n",
       "      <td>3.2e-07</td>\n",
       "      <td>0</td>\n",
       "      <td>0</td>\n",
       "      <td>0</td>\n",
       "      <td>0</td>\n",
       "      <td>0</td>\n",
       "      <td>3.2e-07</td>\n",
       "      <td>0</td>\n",
       "      <td>0</td>\n",
       "    </tr>\n",
       "    <tr>\n",
       "      <th>o3</th>\n",
       "      <td>0</td>\n",
       "      <td>0</td>\n",
       "      <td>0</td>\n",
       "      <td>0</td>\n",
       "      <td>0</td>\n",
       "      <td>0</td>\n",
       "      <td>atmpro</td>\n",
       "      <td>0</td>\n",
       "      <td>0</td>\n",
       "      <td>0</td>\n",
       "      <td>0</td>\n",
       "    </tr>\n",
       "    <tr>\n",
       "      <th>ch4</th>\n",
       "      <td>0</td>\n",
       "      <td>0</td>\n",
       "      <td>0</td>\n",
       "      <td>0</td>\n",
       "      <td>0</td>\n",
       "      <td>0</td>\n",
       "      <td>0</td>\n",
       "      <td>0</td>\n",
       "      <td>1.8e-06</td>\n",
       "      <td>0</td>\n",
       "      <td>0</td>\n",
       "    </tr>\n",
       "  </tbody>\n",
       "</table>\n",
       "</div>"
      ],
      "text/plain": [
       "clirad band      1       2        3       4       5       6       7       8   \\\n",
       "molecule                                                                       \n",
       "h2o          atmpro  atmpro   atmpro  atmpro  atmpro  atmpro  atmpro  atmpro   \n",
       "co2               0       0   0.0004  0.0004  0.0004  0.0004  0.0004       0   \n",
       "n2o               0       0  3.2e-07       0       0       0       0       0   \n",
       "o3                0       0        0       0       0       0  atmpro       0   \n",
       "ch4               0       0        0       0       0       0       0       0   \n",
       "\n",
       "clirad band       9       10      11  \n",
       "molecule                              \n",
       "h2o           atmpro  atmpro  atmpro  \n",
       "co2                0       0  0.0004  \n",
       "n2o          3.2e-07       0       0  \n",
       "o3                 0       0       0  \n",
       "ch4          1.8e-06       0       0  "
      ]
     },
     "metadata": {},
     "output_type": "display_data"
    },
    {
     "data": {
      "text/markdown": [
       "*TABLE.* Non-grey absorbers in the atmosphere."
      ],
      "text/plain": [
       "<IPython.core.display.Markdown object>"
      ]
     },
     "metadata": {},
     "output_type": "display_data"
    },
    {
     "data": {
      "text/html": [
       "<div>\n",
       "<style scoped>\n",
       "    .dataframe tbody tr th:only-of-type {\n",
       "        vertical-align: middle;\n",
       "    }\n",
       "\n",
       "    .dataframe tbody tr th {\n",
       "        vertical-align: top;\n",
       "    }\n",
       "\n",
       "    .dataframe thead th {\n",
       "        text-align: right;\n",
       "    }\n",
       "</style>\n",
       "<table border=\"1\" class=\"dataframe\">\n",
       "  <thead>\n",
       "    <tr style=\"text-align: right;\">\n",
       "      <th>clirad band</th>\n",
       "      <th>1</th>\n",
       "      <th>2</th>\n",
       "      <th>3</th>\n",
       "      <th>4</th>\n",
       "      <th>5</th>\n",
       "      <th>6</th>\n",
       "      <th>7</th>\n",
       "      <th>8</th>\n",
       "      <th>9</th>\n",
       "    </tr>\n",
       "    <tr>\n",
       "      <th>absorber</th>\n",
       "      <th></th>\n",
       "      <th></th>\n",
       "      <th></th>\n",
       "      <th></th>\n",
       "      <th></th>\n",
       "      <th></th>\n",
       "      <th></th>\n",
       "      <th></th>\n",
       "      <th></th>\n",
       "    </tr>\n",
       "  </thead>\n",
       "  <tbody>\n",
       "    <tr>\n",
       "      <th>con</th>\n",
       "      <td>atmpro</td>\n",
       "      <td>atmpro</td>\n",
       "      <td>atmpro</td>\n",
       "      <td>atmpro</td>\n",
       "      <td>atmpro</td>\n",
       "      <td>atmpro</td>\n",
       "      <td>atmpro</td>\n",
       "      <td>atmpro</td>\n",
       "      <td>atmpro</td>\n",
       "    </tr>\n",
       "    <tr>\n",
       "      <th>n2o</th>\n",
       "      <td>0</td>\n",
       "      <td>0</td>\n",
       "      <td>0</td>\n",
       "      <td>0</td>\n",
       "      <td>0</td>\n",
       "      <td>0</td>\n",
       "      <td>0</td>\n",
       "      <td>3.2e-07</td>\n",
       "      <td>0</td>\n",
       "    </tr>\n",
       "  </tbody>\n",
       "</table>\n",
       "</div>"
      ],
      "text/plain": [
       "clirad band       1       2       3       4       5       6       7        8  \\\n",
       "absorber                                                                       \n",
       "con          atmpro  atmpro  atmpro  atmpro  atmpro  atmpro  atmpro   atmpro   \n",
       "n2o               0       0       0       0       0       0       0  3.2e-07   \n",
       "\n",
       "clirad band       9  \n",
       "absorber             \n",
       "con          atmpro  \n",
       "n2o               0  "
      ]
     },
     "metadata": {},
     "output_type": "display_data"
    },
    {
     "data": {
      "text/markdown": [
       "*TABLE.* Grey absorbers in the atmosphere."
      ],
      "text/plain": [
       "<IPython.core.display.Markdown object>"
      ]
     },
     "metadata": {},
     "output_type": "display_data"
    },
    {
     "data": {
      "text/html": [
       "<a id=\"Cooling_rates._mls.\"></a>"
      ],
      "text/plain": [
       "<IPython.core.display.HTML object>"
      ]
     },
     "metadata": {},
     "output_type": "display_data"
    },
    {
     "data": {
      "text/markdown": [
       "# Cooling rates. mls."
      ],
      "text/plain": [
       "<IPython.core.display.Markdown object>"
      ]
     },
     "metadata": {},
     "output_type": "display_data"
    },
    {
     "data": {
      "text/html": [
       "\n",
       "<div class=\"bk-root\">\n",
       "    <div class=\"bk-plotdiv\" id=\"18866475-968e-4c07-8d39-a1255af73ff2\"></div>\n",
       "</div>"
      ]
     },
     "metadata": {},
     "output_type": "display_data"
    },
    {
     "data": {
      "application/javascript": [
       "(function(root) {\n",
       "  function embed_document(root) {\n",
       "    \n",
       "  var docs_json = {\"64605d04-4e0f-467b-9121-94450ac59eac\":{\"roots\":{\"references\":[{\"attributes\":{},\"id\":\"a7897d60-c0f1-4a5b-9d06-abafc4427411\",\"type\":\"LogScale\"},{\"attributes\":{},\"id\":\"d602cd16-0038-4b11-a5a1-6adfed8fda75\",\"type\":\"Selection\"},{\"attributes\":{},\"id\":\"d00e3c33-cd83-48ec-b505-8ba5d772c59a\",\"type\":\"WheelZoomTool\"},{\"attributes\":{},\"id\":\"962621f3-8693-4451-8bb3-78610ddd8bec\",\"type\":\"Selection\"},{\"attributes\":{\"callback\":null,\"data\":{\"x\":{\"__ndarray__\":\"WJ58htOlUcEUFt2amS9wQQalGYd/3T7Ba/3wNpQsQEH/bAguQnpNwYzIDwnA+UVBpJLP3PC0IEGHM229HhbWwLJLFsimCQ3B3fGB58f7IUHJFfG04s4nwXAYdPBcxhfBsGu7OK8LGUG8jGKmDODnwEKBsSdbBulANr0DDWrN9sDmTWJTt//wQEbReQKL18lA2eGhl1Q5gcACpn0Cln62wNfybbGkystAg9+zVyeppUAsubcwKucqwNuT9D5OmirAJyi3szEJJcBlNebh5WkgwDDcPHBr2xnArtlANXuQFMBdJadFHckQwI2Avh0ZsQvAjYiwt1rsBcCL0SDoVBgAwPGb+GUUZUzA5I0bnw3Pp8BsXU2orFPnvw3wbZ2iuplAT7L8HQW9mcBnBQTe6kHHv0wntLvuu5lAe9pvNT8avj9eNS3J3A85wRq+WBpc8zhBWun/xIOp1UDd72zSpK3LwHstVUQQh4bAAM5W7sDNc0DC2OIoOFqjQDQ/blHK36XA/hTjjWdB/b9poW8JA8/9v688KeqeNP2/ruZ4EemD/L+2dflYepp9QLk/nCFjKHzAAw33ysybO8BFydolvcL+v/gVR4dg9fy/u7M4jHxDAMBnFpAadNf2v1+n+MLbuP6/ElQ9PDOo/L/W2ULw9Zr7v9w1K9aF+/y/0HNqPM8a+L+BI9BMbwj7v2G4p+Uva/i/OzZ0RqMZ+L8dmn/iar73v/CuA7Ka8Pa/gaaeQHGn9b9jkyjAH1L0v3WZGhdAU/O/osVP/g7P8r+90HxHNvfyvwhNBtgrqvm/\",\"dtype\":\"float64\",\"shape\":[75]},\"y\":{\"__ndarray__\":\"GhExyth1ND/Sv8nbtpRIP2vylNV0PVE/aTum7souWD/At0SJ8fVgPw3Iuahxymc/MSNhhJWvcD/bTfBN02d3P2zb5nxnaoA/CD5h5MAGhz8NmeH1TyaQP+zrCsc9p5Y/LbKd76fGnz/bLW5ISEmmPww9YvTcQq8/JV2OstnstT8Er5Y7M8G+P0c+r3jqkcU/5h99k6ZBzj88bCIzFzjVP4enV8oyxN0//yH99nXg5D8qOpLLf0jtP5kqGJXUifQ/c9cS8kHP/D+/DpwzojQEQIEmwoanVwxA4lgXt9HgE0BSSZ2AJuIbQAMJih9jjiNA5q4l5INuK0AwTKYKRj0zQNv5fmq8/DpAaCJseHrtQkB/+zpwzoxKQM3MzMzMeFJAZmZmZmZqWEAAAAAAAFxeQM3MzMzMJmJAmpmZmZkfZUBmZmZmZhhoQDMzMzMzEWtAAAAAAAAKbkBmZmZmZoFwQM3MzMzM/XFAMzMzMzN6c0CamZmZmfZ0QAAAAAAAc3ZAZmZmZmbvd0DNzMzMzGt5QDMzMzMz6HpAmpmZmZlkfEAAAAAAAOF9QGZmZmZmXX9AZmZmZuZsgECamZmZGSuBQM3MzMxM6YFAAAAAAICngkAzMzMzs2WDQGZmZmbmI4RAmpmZmRnihEDNzMzMTKCFQAAAAACAXoZAMzMzM7Mch0BmZmZm5tqHQJqZmZkZmYhAzczMzExXiUAAAAAAgBWKQDMzMzOz04pAZmZmZuaRi0CamZmZGVCMQM3MzMxMDo1AAAAAAIDMjUAzMzMzs4qOQGZmZmbmSI9A\",\"dtype\":\"float64\",\"shape\":[75]}},\"selected\":{\"id\":\"c7a5646b-18f0-49d0-a959-623c9eb670ec\",\"type\":\"Selection\"},\"selection_policy\":{\"id\":\"087af0f1-112e-4df9-a61a-bd7be7de1bd7\",\"type\":\"UnionRenderers\"}},\"id\":\"9e3f7b06-b08c-4368-a583-ae54c2bd8354\",\"type\":\"ColumnDataSource\"},{\"attributes\":{\"callback\":null,\"end\":0.01,\"start\":1020},\"id\":\"1c768c89-c6a5-4dac-bd05-fd15693094ba\",\"type\":\"Range1d\"},{\"attributes\":{},\"id\":\"0c393314-1559-47a0-bf15-8745a029ed7b\",\"type\":\"Selection\"},{\"attributes\":{\"callback\":null,\"end\":611601.3995433685,\"start\":-1664778.23322617},\"id\":\"a40392ae-7f0b-4844-95ae-e6dee551727e\",\"type\":\"Range1d\"},{\"attributes\":{\"children\":[{\"id\":\"363b86cd-2ca7-47a0-8b6b-e2e758befc03\",\"type\":\"ToolbarBox\"},{\"id\":\"e128a684-65a3-4deb-8727-0fedbcf739e6\",\"type\":\"Column\"}]},\"id\":\"99fe8852-92f1-48c8-92ad-57eefd9253d4\",\"type\":\"Column\"},{\"attributes\":{},\"id\":\"14b74c65-1431-45ff-b190-c60610c7ca27\",\"type\":\"Selection\"},{\"attributes\":{},\"id\":\"e6d12ddd-d78d-45c3-9cba-b72ed43cefaf\",\"type\":\"UnionRenderers\"},{\"attributes\":{\"data_source\":{\"id\":\"71aeac34-4d28-4313-8564-11a20b3776c9\",\"type\":\"ColumnDataSource\"},\"glyph\":{\"id\":\"01b43288-d534-49b1-8985-c1f89b9ff65d\",\"type\":\"Line\"},\"hover_glyph\":null,\"muted_glyph\":null,\"nonselection_glyph\":{\"id\":\"35efff6b-748c-437e-b812-ae1af78c46d3\",\"type\":\"Line\"},\"selection_glyph\":null,\"view\":{\"id\":\"7e45b8b6-b859-4946-b0cd-fbdc03ce7853\",\"type\":\"CDSView\"}},\"id\":\"9d59cfbc-d605-4c02-a129-6979ccc61257\",\"type\":\"GlyphRenderer\"},{\"attributes\":{},\"id\":\"627196c8-a435-4718-9465-3cf9d7387ddb\",\"type\":\"UnionRenderers\"},{\"attributes\":{\"source\":{\"id\":\"bfcd8530-30a1-4058-b5d2-9b4fe7bf040f\",\"type\":\"ColumnDataSource\"}},\"id\":\"c444053f-9b51-48de-941c-9812a02be2cf\",\"type\":\"CDSView\"},{\"attributes\":{},\"id\":\"cd747247-930a-4c4e-a0e4-ddc59992b8d7\",\"type\":\"Selection\"},{\"attributes\":{\"data_source\":{\"id\":\"bfcd8530-30a1-4058-b5d2-9b4fe7bf040f\",\"type\":\"ColumnDataSource\"},\"glyph\":{\"id\":\"6b311e45-9af7-47bc-acea-5e55c4947e23\",\"type\":\"Line\"},\"hover_glyph\":null,\"muted_glyph\":null,\"nonselection_glyph\":{\"id\":\"103e5da7-ae3e-4b6d-8c3c-0a82f9b6044b\",\"type\":\"Line\"},\"selection_glyph\":null,\"view\":{\"id\":\"c444053f-9b51-48de-941c-9812a02be2cf\",\"type\":\"CDSView\"}},\"id\":\"9fbd24b2-0710-48ae-a6c3-e819548156c2\",\"type\":\"GlyphRenderer\"},{\"attributes\":{\"line_alpha\":0.1,\"line_color\":\"#1f77b4\",\"line_dash\":[6],\"line_width\":4,\"x\":{\"field\":\"x\"},\"y\":{\"field\":\"y\"}},\"id\":\"103e5da7-ae3e-4b6d-8c3c-0a82f9b6044b\",\"type\":\"Line\"},{\"attributes\":{\"fill_alpha\":{\"value\":0.1},\"fill_color\":{\"value\":\"#1f77b4\"},\"line_alpha\":{\"value\":0.1},\"line_color\":{\"value\":\"#1f77b4\"},\"x\":{\"field\":\"x\"},\"y\":{\"field\":\"y\"}},\"id\":\"4d9826e1-32e7-440d-8313-082f835a14d2\",\"type\":\"Circle\"},{\"attributes\":{},\"id\":\"3f46692c-22e3-4d9b-8cc2-4b5650962b78\",\"type\":\"UnionRenderers\"},{\"attributes\":{\"source\":{\"id\":\"71aeac34-4d28-4313-8564-11a20b3776c9\",\"type\":\"ColumnDataSource\"}},\"id\":\"7e45b8b6-b859-4946-b0cd-fbdc03ce7853\",\"type\":\"CDSView\"},{\"attributes\":{},\"id\":\"58cd3d78-d0fd-4de8-bf42-a874e0ba87c1\",\"type\":\"PanTool\"},{\"attributes\":{\"line_color\":\"#4daf4a\",\"line_width\":1.5,\"x\":{\"field\":\"x\"},\"y\":{\"field\":\"y\"}},\"id\":\"01b43288-d534-49b1-8985-c1f89b9ff65d\",\"type\":\"Line\"},{\"attributes\":{},\"id\":\"29d2464a-0621-42f3-8813-3423a9c3b770\",\"type\":\"UnionRenderers\"},{\"attributes\":{\"callback\":null,\"data\":{\"x\":{\"__ndarray__\":\"MXhf+wfXU0AZbvNjswdFQLQWsEQVdUFA5TlpnhT9QUB/x1dOYK05QImjxHmcEjZA9jYDSBB3L0AISPl4H6wqQBPuuwfAzyJAOcHprUZAIUB7WWpkesAXQJoT1Uq+ChVArO/8u0EXCkBgVNlshzgCQMeNQ+Nzu/I/POwv1Qzh+D9QxMRmcj8DQOrE7tC4mAxAQsLBRIlHEkAi4cPYoDEXQEeDpjRjzB1ASZ0GEfCuI0DVFj11sssnQOMiVKSMHyhAWRHvUxNoJEDo8cjD4g8gQLGGvR2NDRpAdpI3nV5oFECtyWH9Lp4QQIZQd9bvmwtAkshlnu1BBkBMysnQf1UAQHZJU/DYZ/c/HoEhV+G48T/rSm4vc/TmP3EgV4cD49g/xmy6+4w7zz+bEsjh3uDDPw5SRMRogKs/4GPKdPc1a78lazVXN1vCP/B84ODeUug/LOyxgXDV9z+/DBHyZAwAQAOIY+fy/QFAahF3XKCUAECV0GHvGsz+P+X4k4Nhvf0/RO/IqI98/T8rkW+v/zT9P59vGMDsAv0/zEX7plCY/D/E3siS8kj7P2yUMv+hDvs/RmrXDaYs+z+c9f5GCO36P58nVCbr7vo/Qus8hbcy/D+rD5hFMCf9P4t6dxofnPw/bRp4QYZ2/D/q8NNiN2b8P5YTVw9ESPw/l1Dy0X/K+j+WKih3ZdD5P2k8OYxHjvk/hceGh5N4+T8lpPahWSn5P6vJnePt4vY/UuhmxnXI9T8miFqdE+D0Pz7qfx5CR/Q/0khvq2US9D9LfVdHQGv0P9syeEmwYfg/\",\"dtype\":\"float64\",\"shape\":[75]},\"y\":{\"__ndarray__\":\"hLndy31yND/6fmq8dJNIP8n9DkWBPlE/aDum7souWD/b4a/JGvVgP9f34SAhymc/ZvM4DOavcD+z0M5pFmh3PxuC4zJuaoA/xjcUPlsHhz8uHAjJAiaQP9ieWRKgppY/oI7HDFTGnz+a5h2n6EimPzS6g9iZQq8/IuAQqtTstT9SSZ2AJsK+P4nS3uALk8U/ih9j7lpCzj+ASL99HTjVP4enV8oyxN0/ACL99nXg5D9fmEwVjErtPyUGgZVDi/Q/AiuHFtnO/D9OYhBYOTQEQPHSTWIQWAxA4XoUrkfhE0D8qfHSTeIbQMh2vp8ajyNArkfhehRuK0Bcj8L1KDwzQFyPwvUo/DpAPgrXo3DtQkDNzMzMzIxKQClcj8L1eFJAKVyPwvVoWECamZmZmVleQGZmZmZmJmJAAAAAAAAgZUCamZmZmRloQJqZmZmZEWtAmpmZmZkJbkCamZmZmYFwQGZmZmZm/nFAZmZmZmZ6c0BmZmZmZvZ0QDQzMzMzc3ZAAAAAAADwd0AAAAAAAGx5QAAAAAAA6HpAzMzMzMxkfEDMzMzMzOB9QM3MzMzMXH9AzczMzMxsgEAzMzMzMyuBQDMzMzMz6YFAMzMzMzOngkCamZmZmWWDQAAAAAAAJIRAAAAAAADihEAAAAAAAKCFQGZmZmZmXoZAzczMzMwch0DNzMzMzNqHQM3MzMzMmIhAMzMzMzNXiUCamZmZmRWKQAAAAAAA1IpAAAAAAACSi0AAAAAAAFCMQGZmZmZmDo1AzczMzMzMjUDNzMzMzIqOQM3MzMzMSI9A\",\"dtype\":\"float64\",\"shape\":[75]}},\"selected\":{\"id\":\"962621f3-8693-4451-8bb3-78610ddd8bec\",\"type\":\"Selection\"},\"selection_policy\":{\"id\":\"08a6399c-ee54-46d6-8223-568ecc65fc00\",\"type\":\"UnionRenderers\"}},\"id\":\"0a6797ab-5041-4d93-ae57-2a152da132c1\",\"type\":\"ColumnDataSource\"},{\"attributes\":{\"fill_alpha\":{\"value\":0.7},\"fill_color\":{\"value\":\"#4daf4a\"},\"line_alpha\":{\"value\":0.7},\"line_color\":{\"value\":\"#4daf4a\"},\"x\":{\"field\":\"x\"},\"y\":{\"field\":\"y\"}},\"id\":\"1aa4f440-9a0a-4d2b-90b3-0a3eb41692dc\",\"type\":\"Circle\"},{\"attributes\":{},\"id\":\"055657d8-fef9-47fd-8fdb-5f08892cfba1\",\"type\":\"BasicTickFormatter\"},{\"attributes\":{\"source\":{\"id\":\"c4a1084b-acfe-4772-b3f3-b01a80dfe8d1\",\"type\":\"ColumnDataSource\"}},\"id\":\"72a3d383-c99c-438d-9ad8-e9c496898a47\",\"type\":\"CDSView\"},{\"attributes\":{\"line_alpha\":0.1,\"line_color\":\"#1f77b4\",\"line_dash\":[6],\"line_width\":5,\"x\":{\"field\":\"x\"},\"y\":{\"field\":\"y\"}},\"id\":\"82c96385-05c8-4fbc-af70-b716e654e7ee\",\"type\":\"Line\"},{\"attributes\":{\"plot\":null,\"text\":\"\"},\"id\":\"e05e242f-0b97-4b45-adcc-d9bbbc679fde\",\"type\":\"Title\"},{\"attributes\":{\"fill_alpha\":{\"value\":0.7},\"fill_color\":{\"value\":\"#984ea3\"},\"line_alpha\":{\"value\":0.7},\"line_color\":{\"value\":\"#984ea3\"},\"x\":{\"field\":\"x\"},\"y\":{\"field\":\"y\"}},\"id\":\"5f1cb9d3-edaf-440f-ae06-1d28eefd8d17\",\"type\":\"Square\"},{\"attributes\":{\"label\":{\"value\":\"old CLIRAD (H2012) - CRD\"},\"renderers\":[{\"id\":\"9fbd24b2-0710-48ae-a6c3-e819548156c2\",\"type\":\"GlyphRenderer\"}]},\"id\":\"4acd5a20-db2e-45fa-b3f6-cef52b00cb48\",\"type\":\"LegendItem\"},{\"attributes\":{\"line_alpha\":0.5,\"line_color\":\"#377eb8\",\"line_dash\":[6],\"line_width\":4,\"x\":{\"field\":\"x\"},\"y\":{\"field\":\"y\"}},\"id\":\"6b311e45-9af7-47bc-acea-5e55c4947e23\",\"type\":\"Line\"},{\"attributes\":{},\"id\":\"087af0f1-112e-4df9-a61a-bd7be7de1bd7\",\"type\":\"UnionRenderers\"},{\"attributes\":{\"plot\":null,\"text\":\"\"},\"id\":\"e94b6d34-cccb-4465-9c84-a8be33d14885\",\"type\":\"Title\"},{\"attributes\":{},\"id\":\"08a6399c-ee54-46d6-8223-568ecc65fc00\",\"type\":\"UnionRenderers\"},{\"attributes\":{\"label\":{\"value\":\"CLIRAD (single-run) - CRD\"},\"renderers\":[{\"id\":\"deb9dd46-65eb-485f-9072-c0dc21759359\",\"type\":\"GlyphRenderer\"},{\"id\":\"88f4eb9f-20cf-4705-8a33-04acd19dfb4b\",\"type\":\"GlyphRenderer\"}]},\"id\":\"a09ad417-60dd-4bcc-9814-8aaffd457019\",\"type\":\"LegendItem\"},{\"attributes\":{},\"id\":\"d389b38a-ffdb-4fc1-94db-7ab97ee50876\",\"type\":\"BasicTickFormatter\"},{\"attributes\":{\"ticker\":null},\"id\":\"b5e410e2-fb72-4d9a-a84f-7f49a6daf6c5\",\"type\":\"LogTickFormatter\"},{\"attributes\":{\"line_alpha\":0.1,\"line_color\":\"#1f77b4\",\"line_width\":1.5,\"x\":{\"field\":\"x\"},\"y\":{\"field\":\"y\"}},\"id\":\"35efff6b-748c-437e-b812-ae1af78c46d3\",\"type\":\"Line\"},{\"attributes\":{},\"id\":\"c7a5646b-18f0-49d0-a959-623c9eb670ec\",\"type\":\"Selection\"},{\"attributes\":{\"callback\":null,\"data\":{\"x\":{\"__ndarray__\":\"cm1sTMT3VEDEyvjosEJHQOKI6DjzCUNArgQWV9awPkB9Lm8XG3M4QEz+Qv6iYzNA7eV8HaPLLkCX1QHyTpMoQFBmYSYetiNAUB04GtGpH0AmFyVE5j8ZQJca9QPGqBNALJP+OOHHDEBNxaf7QF8AQKtislomWuw/cW2dcO6A9T/uJJvfPu0EQIaQLTI/JQ1AxGiII+PmEkCJvfVeuCsYQD6ZBhGbHB9AXQw69DTYJEAsubcwKucqQNuT9D5OmipAJyi3szEJJUBlNebh5WkgQDDcPHBr2xlArtlANXuQFEBdJadFHckQQI2Avh0ZsQtAjYiwt1rsBUCL0SDoVBgAQK6C0nEEjvc/CggLSme58T9sXU2orFPnP0v0JYz9Gdg/vT38vxYczD9nBQTe6kHHP1IhkEXJwKo/8OZnhCVAub+xtVgCpmqzP6DUpY6g0+k/PKK3T1h4+D8RTDjQc1EAQG/dAQs7TwJAQt2eHpPLAEBWEh074x//PyCap9ZSGf4/rEzaTySm/T+7aXhHRmr9P688KeqeNP0/ruZ4EemD/D8olrZcn9T7P0+vNc9hW/s/i9VVL+4P+z+0NzC24uz6P8731Kza8vo/xFf4SHzq+z+gYyHpvHb8P68ROkiFevw/BAjYdCga/D8AUp8VbW77P3JrF/nKmvo/qCQeGfq++T/dplwHJfn4P2G4p+Uva/g/OzZ0RqMZ+D8dmn/iar73P/OuA7Ka8PY/gaaeQHGn9T9hkyjAH1L0P3aZGhdAU/M/n8VP/g7P8j+90HxHNvfyPwhNBtgrqvk/\",\"dtype\":\"float64\",\"shape\":[75]},\"y\":{\"__ndarray__\":\"GhExyth1ND/Sv8nbtpRIP2vylNV0PVE/aTum7souWD/At0SJ8fVgPw3Iuahxymc/MSNhhJWvcD/bTfBN02d3P2zb5nxnaoA/CD5h5MAGhz8NmeH1TyaQP+zrCsc9p5Y/LbKd76fGnz/bLW5ISEmmPww9YvTcQq8/JV2OstnstT8Er5Y7M8G+P0c+r3jqkcU/5h99k6ZBzj88bCIzFzjVP4enV8oyxN0//yH99nXg5D8qOpLLf0jtP5kqGJXUifQ/c9cS8kHP/D+/DpwzojQEQIEmwoanVwxA4lgXt9HgE0BSSZ2AJuIbQAMJih9jjiNA5q4l5INuK0AwTKYKRj0zQNv5fmq8/DpAaCJseHrtQkB/+zpwzoxKQM3MzMzMeFJAZmZmZmZqWEAAAAAAAFxeQM3MzMzMJmJAmpmZmZkfZUBmZmZmZhhoQDMzMzMzEWtAAAAAAAAKbkBmZmZmZoFwQM3MzMzM/XFAMzMzMzN6c0CamZmZmfZ0QAAAAAAAc3ZAZmZmZmbvd0DNzMzMzGt5QDMzMzMz6HpAmpmZmZlkfEAAAAAAAOF9QGZmZmZmXX9AZmZmZuZsgECamZmZGSuBQM3MzMxM6YFAAAAAAICngkAzMzMzs2WDQGZmZmbmI4RAmpmZmRnihEDNzMzMTKCFQAAAAACAXoZAMzMzM7Mch0BmZmZm5tqHQJqZmZkZmYhAzczMzExXiUAAAAAAgBWKQDMzMzOz04pAZmZmZuaRi0CamZmZGVCMQM3MzMxMDo1AAAAAAIDMjUAzMzMzs4qOQGZmZmbmSI9A\",\"dtype\":\"float64\",\"shape\":[75]}},\"selected\":{\"id\":\"69e6b180-ab67-435e-a226-7c0c955e5348\",\"type\":\"Selection\"},\"selection_policy\":{\"id\":\"3f46692c-22e3-4d9b-8cc2-4b5650962b78\",\"type\":\"UnionRenderers\"}},\"id\":\"71aeac34-4d28-4313-8564-11a20b3776c9\",\"type\":\"ColumnDataSource\"},{\"attributes\":{\"callback\":null,\"data\":{\"x\":{\"__ndarray__\":\"EFTPEMULEsBY5Soo7NcRwOAih0PfTQnAcLzxlkslFUAgkIluU6TzP+gpDdzLdwVAICHKUKVt1T+Ik7s3hMbwP6AHr9TDy9y/ECnbDOK15j+w2qv7vfbXvzCQ/22EH9Y/ABwN6PuE1b8w8RgTZ5TNP8ZxqdeCOdI/WPaTJPMAyz/gCWaNx9zKv4Bz2SfMkLG/QNDU2Dvrw7/gjDvG8ELPv3BfAcZ9A9W/QPE2M06U4r+4EtXbvdv4v8CHA9UM1vO/wNkC+csj1L9A31CHx4DGv4BAVcDWEKk/AJyjBEwOpL8A2K0iJHelvwAHMEdHKYW/QAFQrblkpT+AYHxUdJWePwCcnL/AFYO/AIDdMF2+IL9AoMQ3Xs6Hv8CEJWa/IIk/SHjx3bH7mD9glt/hXwibv4AXhtbv81c/0ZPByHVmuD+ZIBKsyEuxPwB7VdwaDKi/AMK2wPlcpL+A1M+Jt0OhvwBblecIUqS/AOzlE2F5m79AcNDuEvKUv8BO6MRU/Ja/ALSuiFPKhL8ASGwETKOKvwCIZggV2Yi/AB5fgpVndD+A7LY9mXWhv8C4xgD0L5O/ALuUgd63fD8AAPReZ8gCPwB4gQY0fE+/gN8kEc8Okj9ggdWOaw6mPwButB7pzIA/QJoEKHMXlz9A3ZOmSfmuP0CC+mOR17o/8L5CjVu4sD8gd3D5DeiqP4BAGGl6MbI/oBQpEQTvtT+AoHD36662PwCQysucWWu/gOgg5EKCgD+gmD6me76hPwAZquxAgK4/MDP40Wo1tD/gyKr9n0C3P9Ci4ei4h7S/\",\"dtype\":\"float64\",\"shape\":[75]},\"y\":{\"__ndarray__\":\"GhExyth1ND/Sv8nbtpRIP2vylNV0PVE/aTum7souWD/At0SJ8fVgPw3Iuahxymc/MSNhhJWvcD/bTfBN02d3P2zb5nxnaoA/CD5h5MAGhz8NmeH1TyaQP+zrCsc9p5Y/LbKd76fGnz/bLW5ISEmmPww9YvTcQq8/JV2OstnstT8Er5Y7M8G+P0c+r3jqkcU/5h99k6ZBzj88bCIzFzjVP4enV8oyxN0//yH99nXg5D8qOpLLf0jtP5kqGJXUifQ/c9cS8kHP/D+/DpwzojQEQIEmwoanVwxA4lgXt9HgE0BSSZ2AJuIbQAMJih9jjiNA5q4l5INuK0AwTKYKRj0zQNv5fmq8/DpAaCJseHrtQkB/+zpwzoxKQM3MzMzMeFJAZmZmZmZqWEAAAAAAAFxeQM3MzMzMJmJAmpmZmZkfZUBmZmZmZhhoQDMzMzMzEWtAAAAAAAAKbkBmZmZmZoFwQM3MzMzM/XFAMzMzMzN6c0CamZmZmfZ0QAAAAAAAc3ZAZmZmZmbvd0DNzMzMzGt5QDMzMzMz6HpAmpmZmZlkfEAAAAAAAOF9QGZmZmZmXX9AZmZmZuZsgECamZmZGSuBQM3MzMxM6YFAAAAAAICngkAzMzMzs2WDQGZmZmbmI4RAmpmZmRnihEDNzMzMTKCFQAAAAACAXoZAMzMzM7Mch0BmZmZm5tqHQJqZmZkZmYhAzczMzExXiUAAAAAAgBWKQDMzMzOz04pAZmZmZuaRi0CamZmZGVCMQM3MzMxMDo1AAAAAAIDMjUAzMzMzs4qOQGZmZmbmSI9A\",\"dtype\":\"float64\",\"shape\":[75]}},\"selected\":{\"id\":\"22edd30c-4c9a-45d1-97cd-276eaf25e4d0\",\"type\":\"Selection\"},\"selection_policy\":{\"id\":\"5b2a4b49-ef88-4166-a000-4d25649cdf7d\",\"type\":\"UnionRenderers\"}},\"id\":\"bfcd8530-30a1-4058-b5d2-9b4fe7bf040f\",\"type\":\"ColumnDataSource\"},{\"attributes\":{\"data_source\":{\"id\":\"c4a1084b-acfe-4772-b3f3-b01a80dfe8d1\",\"type\":\"ColumnDataSource\"},\"glyph\":{\"id\":\"1aa4f440-9a0a-4d2b-90b3-0a3eb41692dc\",\"type\":\"Circle\"},\"hover_glyph\":null,\"muted_glyph\":null,\"nonselection_glyph\":{\"id\":\"4d9826e1-32e7-440d-8313-082f835a14d2\",\"type\":\"Circle\"},\"selection_glyph\":null,\"view\":{\"id\":\"72a3d383-c99c-438d-9ad8-e9c496898a47\",\"type\":\"CDSView\"}},\"id\":\"a130f051-b55d-4f27-96b3-b6612b23ed6a\",\"type\":\"GlyphRenderer\"},{\"attributes\":{},\"id\":\"a4073d01-b211-4277-a7d4-1821dbc7cde2\",\"type\":\"LinearScale\"},{\"attributes\":{\"plot\":{\"id\":\"4e0aa6a3-155c-4077-a924-459ca1f68d87\",\"subtype\":\"Figure\",\"type\":\"Plot\"},\"ticker\":{\"id\":\"276daf30-b32a-4c3e-b6a5-71ca28c15a6d\",\"type\":\"BasicTicker\"}},\"id\":\"bf34a2b6-03be-4ed0-b3ed-5ca239fe1f1a\",\"type\":\"Grid\"},{\"attributes\":{\"line_alpha\":0.5,\"line_color\":\"#984ea3\",\"line_width\":1.5,\"x\":{\"field\":\"x\"},\"y\":{\"field\":\"y\"}},\"id\":\"65ad9cb2-6d18-4126-b59b-f98e5f98aa72\",\"type\":\"Line\"},{\"attributes\":{},\"id\":\"c099b2b3-fa76-4532-8853-60e389a0fe92\",\"type\":\"Selection\"},{\"attributes\":{\"axis_label\":\"pressure [mb]\",\"formatter\":{\"id\":\"b5e410e2-fb72-4d9a-a84f-7f49a6daf6c5\",\"type\":\"LogTickFormatter\"},\"plot\":{\"id\":\"c57cebc9-83ac-44df-8982-fabc8fb07f48\",\"subtype\":\"Figure\",\"type\":\"Plot\"},\"ticker\":{\"id\":\"923aa5ab-b7b2-404d-8f88-e20da07f4875\",\"type\":\"LogTicker\"}},\"id\":\"bceb6a01-42ee-4f4e-b1de-f74456b9b38d\",\"type\":\"LogAxis\"},{\"attributes\":{\"fill_alpha\":{\"value\":0.1},\"fill_color\":{\"value\":\"#1f77b4\"},\"line_alpha\":{\"value\":0.1},\"line_color\":{\"value\":\"#1f77b4\"},\"x\":{\"field\":\"x\"},\"y\":{\"field\":\"y\"}},\"id\":\"5fe29c29-2eb6-4c35-9107-cee068bc95c2\",\"type\":\"Square\"},{\"attributes\":{},\"id\":\"276daf30-b32a-4c3e-b6a5-71ca28c15a6d\",\"type\":\"BasicTicker\"},{\"attributes\":{\"bottom_units\":\"screen\",\"fill_alpha\":{\"value\":0.5},\"fill_color\":{\"value\":\"lightgrey\"},\"left_units\":\"screen\",\"level\":\"overlay\",\"line_alpha\":{\"value\":1.0},\"line_color\":{\"value\":\"black\"},\"line_dash\":[4,4],\"line_width\":{\"value\":2},\"plot\":null,\"render_mode\":\"css\",\"right_units\":\"screen\",\"top_units\":\"screen\"},\"id\":\"28581577-c4a4-43e7-a41a-144ad29e6635\",\"type\":\"BoxAnnotation\"},{\"attributes\":{\"data_source\":{\"id\":\"78a22054-6f37-4150-bf71-cffe0695ebb7\",\"type\":\"ColumnDataSource\"},\"glyph\":{\"id\":\"2e8ce560-6f40-4804-926b-c25b82ff3ff3\",\"type\":\"Line\"},\"hover_glyph\":null,\"muted_glyph\":null,\"nonselection_glyph\":{\"id\":\"82c96385-05c8-4fbc-af70-b716e654e7ee\",\"type\":\"Line\"},\"selection_glyph\":null,\"view\":{\"id\":\"3cff7614-8c4b-44bb-8440-6b6a78dc10ed\",\"type\":\"CDSView\"}},\"id\":\"453ed401-a967-48b8-a4ed-319b7d69ad80\",\"type\":\"GlyphRenderer\"},{\"attributes\":{\"callback\":null,\"data\":{\"x\":{\"__ndarray__\":\"7FG4jr6lUcEyMzODnC9wQTIzM3NZ3T7B9Shcj6MsQEFI4Xr0NXpNwaxH4brJ+UVBIbByqA+1IEFL845TDBPWwC2yne9XCQ3B+n5qvNf7IUG48/0U1s4nwXsUrkdJxhfBMgisnL0LGUEanl4py9/nwPTb14F3BulAmkwVjFTN9sAbDeAt4f/wQB70bFZd2clACNFa0YYTgcCU6GUUi3i2wKgT0ESIzstAkBmojP+9pUAAAAAAAAAAAAAAAAAAAAAAAAAAAAAAAAAAAAAAAAAAAAAAAAAAAAAAAAAAAAAAAAAAAAAAAAAAAAAAAAAAAAAAAAAAAAAAAAAAAAAAAAAAANsHakKkqEvAg0wyctbMp8AAAAAAAAAAAGuyRj0kvJlAa7JGPSS8mcAAAAAAAAAAAGuyRj0kvJlAKM4fxGZokz9aj8K13A85wZDC9ehc8zhBOihhpuWp1UBX7C+7n6zLwJ4rSgnBdIbAuwuUFFjvc0BkPEolHF6jQEFqEycH3KXAbuvNfTAvmT9u6819MC+Zv695uja/uWu8r3m6Nr+5azxMLFb4TrZ9QAkKzb8HDXzArK8B6M3qOcCRjFR9067Ov0/xkNMuFMC/xz7kPfNx0r/kNEU6I33WP4Ct9NWz8sG/sIGp7FjBob9A68NRbUSGv1ZTnujWBcO/gg07y61Cuj8j5ZsrUnrAvwAAAAAAAAAAAAAAAAAAAAAAAAAAAAAAAE4bH/SZnco8uZQfjuP4l7xYlfwPq1vBvMme2DGomsQ8/F3p5YrDyrztnTi8QzpQPLIaiSm5s4A8\",\"dtype\":\"float64\",\"shape\":[75]},\"y\":{\"__ndarray__\":\"GhExyth1ND/Sv8nbtpRIP2vylNV0PVE/aTum7souWD/At0SJ8fVgPw3Iuahxymc/MSNhhJWvcD/bTfBN02d3P2zb5nxnaoA/CD5h5MAGhz8NmeH1TyaQP+zrCsc9p5Y/LbKd76fGnz/bLW5ISEmmPww9YvTcQq8/JV2OstnstT8Er5Y7M8G+P0c+r3jqkcU/5h99k6ZBzj88bCIzFzjVP4enV8oyxN0//yH99nXg5D8qOpLLf0jtP5kqGJXUifQ/c9cS8kHP/D+/DpwzojQEQIEmwoanVwxA4lgXt9HgE0BSSZ2AJuIbQAMJih9jjiNA5q4l5INuK0AwTKYKRj0zQNv5fmq8/DpAaCJseHrtQkB/+zpwzoxKQM3MzMzMeFJAZmZmZmZqWEAAAAAAAFxeQM3MzMzMJmJAmpmZmZkfZUBmZmZmZhhoQDMzMzMzEWtAAAAAAAAKbkBmZmZmZoFwQM3MzMzM/XFAMzMzMzN6c0CamZmZmfZ0QAAAAAAAc3ZAZmZmZmbvd0DNzMzMzGt5QDMzMzMz6HpAmpmZmZlkfEAAAAAAAOF9QGZmZmZmXX9AZmZmZuZsgECamZmZGSuBQM3MzMxM6YFAAAAAAICngkAzMzMzs2WDQGZmZmbmI4RAmpmZmRnihEDNzMzMTKCFQAAAAACAXoZAMzMzM7Mch0BmZmZm5tqHQJqZmZkZmYhAzczMzExXiUAAAAAAgBWKQDMzMzOz04pAZmZmZuaRi0CamZmZGVCMQM3MzMxMDo1AAAAAAIDMjUAzMzMzs4qOQGZmZmbmSI9A\",\"dtype\":\"float64\",\"shape\":[75]}},\"selected\":{\"id\":\"0c393314-1559-47a0-bf15-8745a029ed7b\",\"type\":\"Selection\"},\"selection_policy\":{\"id\":\"627196c8-a435-4718-9465-3cf9d7387ddb\",\"type\":\"UnionRenderers\"}},\"id\":\"78a22054-6f37-4150-bf71-cffe0695ebb7\",\"type\":\"ColumnDataSource\"},{\"attributes\":{\"axis_label\":\"cooling rate [K/day]\",\"formatter\":{\"id\":\"055657d8-fef9-47fd-8fdb-5f08892cfba1\",\"type\":\"BasicTickFormatter\"},\"plot\":{\"id\":\"4e0aa6a3-155c-4077-a924-459ca1f68d87\",\"subtype\":\"Figure\",\"type\":\"Plot\"},\"ticker\":{\"id\":\"276daf30-b32a-4c3e-b6a5-71ca28c15a6d\",\"type\":\"BasicTicker\"}},\"id\":\"de4f0ae6-0159-4f16-8795-4e9cee7a6f27\",\"type\":\"LinearAxis\"},{\"attributes\":{\"plot\":null,\"text\":\"\"},\"id\":\"3965ec20-e5e4-4489-8919-9795330a437f\",\"type\":\"Title\"},{\"attributes\":{\"ticker\":null},\"id\":\"7d173221-677c-409c-9344-ffa4359a2cce\",\"type\":\"LogTickFormatter\"},{\"attributes\":{\"source\":{\"id\":\"0a6797ab-5041-4d93-ae57-2a152da132c1\",\"type\":\"ColumnDataSource\"}},\"id\":\"2e8ea5dc-b16e-42f1-a680-7130f0906527\",\"type\":\"CDSView\"},{\"attributes\":{\"dimension\":1,\"plot\":{\"id\":\"3d1be07f-977f-464c-8cb4-d1480de2c575\",\"subtype\":\"Figure\",\"type\":\"Plot\"},\"ticker\":{\"id\":\"1b6d05fb-6989-4542-b819-8679cf0d03cc\",\"type\":\"LogTicker\"}},\"id\":\"54e5b721-e667-47f1-8696-8fa8af890ae2\",\"type\":\"Grid\"},{\"attributes\":{\"label\":{\"value\":\"CLIRAD (single-run)\"},\"renderers\":[{\"id\":\"f1839555-5d80-4963-9117-abfc9fd63af7\",\"type\":\"GlyphRenderer\"}]},\"id\":\"77ebfe8c-fa9e-44ef-9491-fa3b4565cf5c\",\"type\":\"LegendItem\"},{\"attributes\":{},\"id\":\"aa8686ec-2333-408d-98d9-fad3a74fdc72\",\"type\":\"HelpTool\"},{\"attributes\":{},\"id\":\"dc5b7613-063d-4fce-9e5e-37cb937ef453\",\"type\":\"UnionRenderers\"},{\"attributes\":{\"line_alpha\":0.5,\"line_color\":\"#984ea3\",\"line_width\":1.5,\"x\":{\"field\":\"x\"},\"y\":{\"field\":\"y\"}},\"id\":\"05809811-27c9-4ef0-ac99-11dac68064e9\",\"type\":\"Line\"},{\"attributes\":{\"num_minor_ticks\":10},\"id\":\"1b6d05fb-6989-4542-b819-8679cf0d03cc\",\"type\":\"LogTicker\"},{\"attributes\":{},\"id\":\"a808381a-edf0-4958-9a45-0d894aa11af9\",\"type\":\"Selection\"},{\"attributes\":{\"callback\":null,\"end\":0.01,\"start\":1020},\"id\":\"15b8bfa1-8e7c-4320-bba2-d90404e5d3cf\",\"type\":\"Range1d\"},{\"attributes\":{},\"id\":\"a3aea961-2abe-4e17-ba51-7f039c26c683\",\"type\":\"ResetTool\"},{\"attributes\":{},\"id\":\"de31a4f6-4d20-4678-9836-0dc7252af675\",\"type\":\"BasicTickFormatter\"},{\"attributes\":{},\"id\":\"30343069-b569-473b-a99f-1f015d0b35f3\",\"type\":\"SaveTool\"},{\"attributes\":{},\"id\":\"f8ae780e-5991-43f7-b235-581328e9d6fb\",\"type\":\"BasicTickFormatter\"},{\"attributes\":{},\"id\":\"51981dbd-e061-4d3d-b8ac-b77884d4146e\",\"type\":\"UnionRenderers\"},{\"attributes\":{\"plot\":{\"id\":\"3d1be07f-977f-464c-8cb4-d1480de2c575\",\"subtype\":\"Figure\",\"type\":\"Plot\"},\"ticker\":{\"id\":\"e0527787-55f6-4d6c-a886-6409adc87be9\",\"type\":\"BasicTicker\"}},\"id\":\"c8b47481-8fec-4b48-9b2b-7f21cbf216df\",\"type\":\"Grid\"},{\"attributes\":{\"label\":{\"value\":\"CRD\"},\"renderers\":[{\"id\":\"a130f051-b55d-4f27-96b3-b6612b23ed6a\",\"type\":\"GlyphRenderer\"},{\"id\":\"9d59cfbc-d605-4c02-a129-6979ccc61257\",\"type\":\"GlyphRenderer\"}]},\"id\":\"34c32041-65e5-4d14-80af-052aa2a1ba61\",\"type\":\"LegendItem\"},{\"attributes\":{\"fill_alpha\":{\"value\":0.1},\"fill_color\":{\"value\":\"#1f77b4\"},\"line_alpha\":{\"value\":0.1},\"line_color\":{\"value\":\"#1f77b4\"},\"x\":{\"field\":\"x\"},\"y\":{\"field\":\"y\"}},\"id\":\"62d53607-64d3-4740-b487-4b09d17f24e0\",\"type\":\"Circle\"},{\"attributes\":{\"axis_label\":\"pressure [mb]\",\"formatter\":{\"id\":\"7d173221-677c-409c-9344-ffa4359a2cce\",\"type\":\"LogTickFormatter\"},\"plot\":{\"id\":\"3d1be07f-977f-464c-8cb4-d1480de2c575\",\"subtype\":\"Figure\",\"type\":\"Plot\"},\"ticker\":{\"id\":\"1b6d05fb-6989-4542-b819-8679cf0d03cc\",\"type\":\"LogTicker\"}},\"id\":\"760bcfa4-68fd-4ca4-831a-1bf6334416de\",\"type\":\"LogAxis\"},{\"attributes\":{},\"id\":\"11c52178-9c50-4f1f-b1dd-1fb68a9f1ef1\",\"type\":\"BasicTicker\"},{\"attributes\":{\"data_source\":{\"id\":\"0a6797ab-5041-4d93-ae57-2a152da132c1\",\"type\":\"ColumnDataSource\"},\"glyph\":{\"id\":\"5f1cb9d3-edaf-440f-ae06-1d28eefd8d17\",\"type\":\"Square\"},\"hover_glyph\":null,\"muted_glyph\":null,\"nonselection_glyph\":{\"id\":\"5fe29c29-2eb6-4c35-9107-cee068bc95c2\",\"type\":\"Square\"},\"selection_glyph\":null,\"view\":{\"id\":\"2e8ea5dc-b16e-42f1-a680-7130f0906527\",\"type\":\"CDSView\"}},\"id\":\"0be6ea39-eeb1-42dd-8db1-e88589a83369\",\"type\":\"GlyphRenderer\"},{\"attributes\":{\"source\":{\"id\":\"9e3f7b06-b08c-4368-a583-ae54c2bd8354\",\"type\":\"ColumnDataSource\"}},\"id\":\"b92e90fb-3516-48f6-be08-b88f17e6da1e\",\"type\":\"CDSView\"},{\"attributes\":{},\"id\":\"b28dd518-1e75-4c3a-be05-45fb7d248056\",\"type\":\"WheelZoomTool\"},{\"attributes\":{\"label\":{\"value\":\"old CLIRAD (H2012)\"},\"renderers\":[{\"id\":\"0be6ea39-eeb1-42dd-8db1-e88589a83369\",\"type\":\"GlyphRenderer\"},{\"id\":\"3fe33907-d4c4-4cbd-a24a-81ac6cabf056\",\"type\":\"GlyphRenderer\"}]},\"id\":\"5fd38f4e-051f-4b17-9ad4-79b85382fd49\",\"type\":\"LegendItem\"},{\"attributes\":{},\"id\":\"260fae6b-9895-4917-8219-d4e35035e177\",\"type\":\"UnionRenderers\"},{\"attributes\":{},\"id\":\"69e6b180-ab67-435e-a226-7c0c955e5348\",\"type\":\"Selection\"},{\"attributes\":{\"dimension\":1,\"plot\":{\"id\":\"4e0aa6a3-155c-4077-a924-459ca1f68d87\",\"subtype\":\"Figure\",\"type\":\"Plot\"},\"ticker\":{\"id\":\"11c52178-9c50-4f1f-b1dd-1fb68a9f1ef1\",\"type\":\"BasicTicker\"}},\"id\":\"b1ee71da-46ed-4b72-acaf-c36c0d29b769\",\"type\":\"Grid\"},{\"attributes\":{\"callback\":null,\"data\":{\"x\":{\"__ndarray__\":\"MXhf+wfXU0AZbvNjswdFQLQWsEQVdUFA5TlpnhT9QUB/x1dOYK05QImjxHmcEjZA9jYDSBB3L0AISPl4H6wqQBPuuwfAzyJAOcHprUZAIUB7WWpkesAXQJoT1Uq+ChVArO/8u0EXCkBgVNlshzgCQMeNQ+Nzu/I/POwv1Qzh+D9QxMRmcj8DQOrE7tC4mAxAQsLBRIlHEkAi4cPYoDEXQEeDpjRjzB1ASZ0GEfCuI0DVFj11sssnQOMiVKSMHyhAWRHvUxNoJEDo8cjD4g8gQLGGvR2NDRpAdpI3nV5oFECtyWH9Lp4QQIZQd9bvmwtAkshlnu1BBkBMysnQf1UAQHZJU/DYZ/c/HoEhV+G48T/rSm4vc/TmP3EgV4cD49g/xmy6+4w7zz+bEsjh3uDDPw5SRMRogKs/4GPKdPc1a78lazVXN1vCP/B84ODeUug/LOyxgXDV9z+/DBHyZAwAQAOIY+fy/QFAahF3XKCUAECV0GHvGsz+P+X4k4Nhvf0/RO/IqI98/T8rkW+v/zT9P59vGMDsAv0/zEX7plCY/D/E3siS8kj7P2yUMv+hDvs/RmrXDaYs+z+c9f5GCO36P58nVCbr7vo/Qus8hbcy/D+rD5hFMCf9P4t6dxofnPw/bRp4QYZ2/D/q8NNiN2b8P5YTVw9ESPw/l1Dy0X/K+j+WKih3ZdD5P2k8OYxHjvk/hceGh5N4+T8lpPahWSn5P6vJnePt4vY/UuhmxnXI9T8miFqdE+D0Pz7qfx5CR/Q/0khvq2US9D9LfVdHQGv0P9syeEmwYfg/\",\"dtype\":\"float64\",\"shape\":[75]},\"y\":{\"__ndarray__\":\"hLndy31yND/6fmq8dJNIP8n9DkWBPlE/aDum7souWD/b4a/JGvVgP9f34SAhymc/ZvM4DOavcD+z0M5pFmh3PxuC4zJuaoA/xjcUPlsHhz8uHAjJAiaQP9ieWRKgppY/oI7HDFTGnz+a5h2n6EimPzS6g9iZQq8/IuAQqtTstT9SSZ2AJsK+P4nS3uALk8U/ih9j7lpCzj+ASL99HTjVP4enV8oyxN0/ACL99nXg5D9fmEwVjErtPyUGgZVDi/Q/AiuHFtnO/D9OYhBYOTQEQPHSTWIQWAxA4XoUrkfhE0D8qfHSTeIbQMh2vp8ajyNArkfhehRuK0Bcj8L1KDwzQFyPwvUo/DpAPgrXo3DtQkDNzMzMzIxKQClcj8L1eFJAKVyPwvVoWECamZmZmVleQGZmZmZmJmJAAAAAAAAgZUCamZmZmRloQJqZmZmZEWtAmpmZmZkJbkCamZmZmYFwQGZmZmZm/nFAZmZmZmZ6c0BmZmZmZvZ0QDQzMzMzc3ZAAAAAAADwd0AAAAAAAGx5QAAAAAAA6HpAzMzMzMxkfEDMzMzMzOB9QM3MzMzMXH9AzczMzMxsgEAzMzMzMyuBQDMzMzMz6YFAMzMzMzOngkCamZmZmWWDQAAAAAAAJIRAAAAAAADihEAAAAAAAKCFQGZmZmZmXoZAzczMzMwch0DNzMzMzNqHQM3MzMzMmIhAMzMzMzNXiUCamZmZmRWKQAAAAAAA1IpAAAAAAACSi0AAAAAAAFCMQGZmZmZmDo1AzczMzMzMjUDNzMzMzIqOQM3MzMzMSI9A\",\"dtype\":\"float64\",\"shape\":[75]}},\"selected\":{\"id\":\"cd747247-930a-4c4e-a0e4-ddc59992b8d7\",\"type\":\"Selection\"},\"selection_policy\":{\"id\":\"e6d12ddd-d78d-45c3-9cba-b72ed43cefaf\",\"type\":\"UnionRenderers\"}},\"id\":\"9b895ce4-9503-456d-8f7c-fa000bf118e5\",\"type\":\"ColumnDataSource\"},{\"attributes\":{\"data_source\":{\"id\":\"9b895ce4-9503-456d-8f7c-fa000bf118e5\",\"type\":\"ColumnDataSource\"},\"glyph\":{\"id\":\"65ad9cb2-6d18-4126-b59b-f98e5f98aa72\",\"type\":\"Line\"},\"hover_glyph\":null,\"muted_glyph\":null,\"nonselection_glyph\":{\"id\":\"3eb9df9f-8cb0-4b22-b497-dcbcaf2d9752\",\"type\":\"Line\"},\"selection_glyph\":null,\"view\":{\"id\":\"7cd14fc9-65c8-4f4f-87e5-168ffece708d\",\"type\":\"CDSView\"}},\"id\":\"3fe33907-d4c4-4cbd-a24a-81ac6cabf056\",\"type\":\"GlyphRenderer\"},{\"attributes\":{},\"id\":\"713fa7fc-5591-4102-931f-41e507e1c358\",\"type\":\"UnionRenderers\"},{\"attributes\":{\"data_source\":{\"id\":\"f52f6547-cba3-4ebc-9b9b-d6e0f519c2e3\",\"type\":\"ColumnDataSource\"},\"glyph\":{\"id\":\"5ba6d7c0-e1ed-489f-8284-73cb87eeb0fb\",\"type\":\"Line\"},\"hover_glyph\":null,\"muted_glyph\":null,\"nonselection_glyph\":{\"id\":\"23168753-99d7-4632-8d72-5926b483ee74\",\"type\":\"Line\"},\"selection_glyph\":null,\"view\":{\"id\":\"f05a96d9-9f0f-4485-83f4-844d70c4fc16\",\"type\":\"CDSView\"}},\"id\":\"f1839555-5d80-4963-9117-abfc9fd63af7\",\"type\":\"GlyphRenderer\"},{\"attributes\":{\"overlay\":{\"id\":\"5a0576a3-1130-4b51-ba9e-ddd74d540967\",\"type\":\"BoxAnnotation\"}},\"id\":\"8b060715-8adc-4d57-97e3-b9d8b044334c\",\"type\":\"BoxZoomTool\"},{\"attributes\":{\"fill_alpha\":{\"value\":0.7},\"fill_color\":{\"value\":\"#984ea3\"},\"line_alpha\":{\"value\":0.7},\"line_color\":{\"value\":\"#984ea3\"},\"x\":{\"field\":\"x\"},\"y\":{\"field\":\"y\"}},\"id\":\"ed603d4e-d005-4720-a833-53e6aa33ccb1\",\"type\":\"Circle\"},{\"attributes\":{},\"id\":\"65460c98-73a4-4991-a81d-618b2cce2ed7\",\"type\":\"ResetTool\"},{\"attributes\":{},\"id\":\"4b5444d0-0d2f-433d-b7b8-bee4a855a00f\",\"type\":\"UnionRenderers\"},{\"attributes\":{},\"id\":\"e0d75825-3533-495f-9504-42d71b07cecd\",\"type\":\"HelpTool\"},{\"attributes\":{\"line_alpha\":0.1,\"line_color\":\"#1f77b4\",\"line_width\":1.5,\"x\":{\"field\":\"x\"},\"y\":{\"field\":\"y\"}},\"id\":\"3eb9df9f-8cb0-4b22-b497-dcbcaf2d9752\",\"type\":\"Line\"},{\"attributes\":{\"num_minor_ticks\":10},\"id\":\"923aa5ab-b7b2-404d-8f88-e20da07f4875\",\"type\":\"LogTicker\"},{\"attributes\":{\"bottom_units\":\"screen\",\"fill_alpha\":{\"value\":0.5},\"fill_color\":{\"value\":\"lightgrey\"},\"left_units\":\"screen\",\"level\":\"overlay\",\"line_alpha\":{\"value\":1.0},\"line_color\":{\"value\":\"black\"},\"line_dash\":[4,4],\"line_width\":{\"value\":2},\"plot\":null,\"render_mode\":\"css\",\"right_units\":\"screen\",\"top_units\":\"screen\"},\"id\":\"5a0576a3-1130-4b51-ba9e-ddd74d540967\",\"type\":\"BoxAnnotation\"},{\"attributes\":{\"axis_label\":\"pressure [mb]\",\"formatter\":{\"id\":\"d389b38a-ffdb-4fc1-94db-7ab97ee50876\",\"type\":\"BasicTickFormatter\"},\"plot\":{\"id\":\"4e0aa6a3-155c-4077-a924-459ca1f68d87\",\"subtype\":\"Figure\",\"type\":\"Plot\"},\"ticker\":{\"id\":\"11c52178-9c50-4f1f-b1dd-1fb68a9f1ef1\",\"type\":\"BasicTicker\"}},\"id\":\"45fde254-44f4-4816-8edd-40237aa23ef5\",\"type\":\"LinearAxis\"},{\"attributes\":{\"line_alpha\":0.6,\"line_color\":\"#377eb8\",\"line_dash\":[6],\"line_width\":5,\"x\":{\"field\":\"x\"},\"y\":{\"field\":\"y\"}},\"id\":\"2e8ce560-6f40-4804-926b-c25b82ff3ff3\",\"type\":\"Line\"},{\"attributes\":{\"line_alpha\":0.6,\"line_color\":\"#377eb8\",\"line_dash\":[6],\"line_width\":5,\"x\":{\"field\":\"x\"},\"y\":{\"field\":\"y\"}},\"id\":\"5ba6d7c0-e1ed-489f-8284-73cb87eeb0fb\",\"type\":\"Line\"},{\"attributes\":{},\"id\":\"8aa618a3-04ae-4623-a2e2-a721351f2b4c\",\"type\":\"PanTool\"},{\"attributes\":{\"source\":{\"id\":\"9b895ce4-9503-456d-8f7c-fa000bf118e5\",\"type\":\"ColumnDataSource\"}},\"id\":\"7cd14fc9-65c8-4f4f-87e5-168ffece708d\",\"type\":\"CDSView\"},{\"attributes\":{\"active_drag\":\"auto\",\"active_inspect\":\"auto\",\"active_scroll\":\"auto\",\"active_tap\":\"auto\",\"tools\":[{\"id\":\"c25d3fd5-3abf-4266-ba0a-f568fdabadae\",\"type\":\"PanTool\"},{\"id\":\"1a500ca5-6288-455a-9c49-7202c6ca3b87\",\"type\":\"WheelZoomTool\"},{\"id\":\"6c8ca15d-355c-4d1e-abf2-0510cc33045c\",\"type\":\"BoxZoomTool\"},{\"id\":\"7a179ebc-ea13-4018-874f-901c249a4d32\",\"type\":\"SaveTool\"},{\"id\":\"65460c98-73a4-4991-a81d-618b2cce2ed7\",\"type\":\"ResetTool\"},{\"id\":\"aa8686ec-2333-408d-98d9-fad3a74fdc72\",\"type\":\"HelpTool\"}]},\"id\":\"43c1a7db-53fb-414d-9b82-548439823400\",\"type\":\"Toolbar\"},{\"attributes\":{\"axis_label\":\"cooling rate [K/day]\",\"formatter\":{\"id\":\"de31a4f6-4d20-4678-9836-0dc7252af675\",\"type\":\"BasicTickFormatter\"},\"plot\":{\"id\":\"3d1be07f-977f-464c-8cb4-d1480de2c575\",\"subtype\":\"Figure\",\"type\":\"Plot\"},\"ticker\":{\"id\":\"e0527787-55f6-4d6c-a886-6409adc87be9\",\"type\":\"BasicTicker\"}},\"id\":\"12dc09a0-f537-4f86-88ee-de17ef1cb7b9\",\"type\":\"LinearAxis\"},{\"attributes\":{},\"id\":\"cbcad67f-1edc-4e68-b1fb-1a1c72908584\",\"type\":\"LinearScale\"},{\"attributes\":{\"above\":[{\"id\":\"29adeb14-77c6-4f2d-9b2e-01fa5fc3fd64\",\"type\":\"Legend\"}],\"below\":[{\"id\":\"de23fc5b-d0ac-4c1b-84cc-ad757c00dd5c\",\"type\":\"LinearAxis\"}],\"left\":[{\"id\":\"bceb6a01-42ee-4f4e-b1de-f74456b9b38d\",\"type\":\"LogAxis\"}],\"plot_width\":300,\"renderers\":[{\"id\":\"de23fc5b-d0ac-4c1b-84cc-ad757c00dd5c\",\"type\":\"LinearAxis\"},{\"id\":\"ce47dad1-9090-4288-8496-69e79cbb01f8\",\"type\":\"Grid\"},{\"id\":\"bceb6a01-42ee-4f4e-b1de-f74456b9b38d\",\"type\":\"LogAxis\"},{\"id\":\"a2399e2f-e78b-48df-b841-dd1f9f835630\",\"type\":\"Grid\"},{\"id\":\"28581577-c4a4-43e7-a41a-144ad29e6635\",\"type\":\"BoxAnnotation\"},{\"id\":\"deb9dd46-65eb-485f-9072-c0dc21759359\",\"type\":\"GlyphRenderer\"},{\"id\":\"88f4eb9f-20cf-4705-8a33-04acd19dfb4b\",\"type\":\"GlyphRenderer\"},{\"id\":\"9fbd24b2-0710-48ae-a6c3-e819548156c2\",\"type\":\"GlyphRenderer\"},{\"id\":\"29adeb14-77c6-4f2d-9b2e-01fa5fc3fd64\",\"type\":\"Legend\"}],\"title\":{\"id\":\"e05e242f-0b97-4b45-adcc-d9bbbc679fde\",\"type\":\"Title\"},\"toolbar\":{\"id\":\"43c1a7db-53fb-414d-9b82-548439823400\",\"type\":\"Toolbar\"},\"toolbar_location\":null,\"x_range\":{\"id\":\"a40392ae-7f0b-4844-95ae-e6dee551727e\",\"type\":\"Range1d\"},\"x_scale\":{\"id\":\"a4073d01-b211-4277-a7d4-1821dbc7cde2\",\"type\":\"LinearScale\"},\"y_range\":{\"id\":\"15b8bfa1-8e7c-4320-bba2-d90404e5d3cf\",\"type\":\"Range1d\"},\"y_scale\":{\"id\":\"a7897d60-c0f1-4a5b-9d06-abafc4427411\",\"type\":\"LogScale\"}},\"id\":\"c57cebc9-83ac-44df-8982-fabc8fb07f48\",\"subtype\":\"Figure\",\"type\":\"Plot\"},{\"attributes\":{},\"id\":\"734ea377-e0e5-4b63-8cdf-3ec91e7da92b\",\"type\":\"LogScale\"},{\"attributes\":{\"items\":[{\"id\":\"a09ad417-60dd-4bcc-9814-8aaffd457019\",\"type\":\"LegendItem\"},{\"id\":\"4acd5a20-db2e-45fa-b3f6-cef52b00cb48\",\"type\":\"LegendItem\"}],\"label_text_font_size\":{\"value\":\"8pt\"},\"location\":\"top_center\",\"orientation\":\"horizontal\",\"plot\":{\"id\":\"c57cebc9-83ac-44df-8982-fabc8fb07f48\",\"subtype\":\"Figure\",\"type\":\"Plot\"}},\"id\":\"29adeb14-77c6-4f2d-9b2e-01fa5fc3fd64\",\"type\":\"Legend\"},{\"attributes\":{},\"id\":\"36b1c084-0d4a-4651-9fe4-7b5c4f94ac04\",\"type\":\"Selection\"},{\"attributes\":{\"label\":{\"value\":\"old CLIRAD (H2012)\"},\"renderers\":[{\"id\":\"390e4327-c111-41f6-927d-641d916d79de\",\"type\":\"GlyphRenderer\"},{\"id\":\"506b7d7f-4d54-4038-8414-f64fb759553c\",\"type\":\"GlyphRenderer\"}]},\"id\":\"733e6fb6-728e-4366-8e4d-f8628b61b9b5\",\"type\":\"LegendItem\"},{\"attributes\":{\"active_drag\":\"auto\",\"active_inspect\":\"auto\",\"active_scroll\":\"auto\",\"active_tap\":\"auto\",\"tools\":[{\"id\":\"58cd3d78-d0fd-4de8-bf42-a874e0ba87c1\",\"type\":\"PanTool\"},{\"id\":\"d00e3c33-cd83-48ec-b505-8ba5d772c59a\",\"type\":\"WheelZoomTool\"},{\"id\":\"b2c72347-12cb-46db-bbc1-bc9bf62c38c4\",\"type\":\"BoxZoomTool\"},{\"id\":\"c1b1a9aa-2b0f-468d-9c7c-abeebe96d42b\",\"type\":\"SaveTool\"},{\"id\":\"96a7ca19-9e84-453c-8b04-827b1efdd429\",\"type\":\"ResetTool\"},{\"id\":\"4a293697-5727-406d-b164-06284f3ee989\",\"type\":\"HelpTool\"}]},\"id\":\"a2476251-cdaa-4c20-b95a-12c33e5d8dcf\",\"type\":\"Toolbar\"},{\"attributes\":{\"callback\":null,\"data\":{\"x\":{\"__ndarray__\":\"cm1sTMT3VEDEyvjosEJHQOKI6DjzCUNArgQWV9awPkB9Lm8XG3M4QEz+Qv6iYzNA7eV8HaPLLkCX1QHyTpMoQFBmYSYetiNAUB04GtGpH0AmFyVE5j8ZQJca9QPGqBNALJP+OOHHDEBNxaf7QF8AQKtislomWuw/cW2dcO6A9T/uJJvfPu0EQIaQLTI/JQ1AxGiII+PmEkCJvfVeuCsYQD6ZBhGbHB9AXQw69DTYJEAsubcwKucqQNuT9D5OmipAJyi3szEJJUBlNebh5WkgQDDcPHBr2xlArtlANXuQFEBdJadFHckQQI2Avh0ZsQtAjYiwt1rsBUCL0SDoVBgAQK6C0nEEjvc/CggLSme58T9sXU2orFPnP0v0JYz9Gdg/vT38vxYczD9nBQTe6kHHP1IhkEXJwKo/8OZnhCVAub+xtVgCpmqzP6DUpY6g0+k/PKK3T1h4+D8RTDjQc1EAQG/dAQs7TwJAQt2eHpPLAEBWEh074x//PyCap9ZSGf4/rEzaTySm/T+7aXhHRmr9P688KeqeNP0/ruZ4EemD/D8olrZcn9T7P0+vNc9hW/s/i9VVL+4P+z+0NzC24uz6P8731Kza8vo/xFf4SHzq+z+gYyHpvHb8P68ROkiFevw/BAjYdCga/D8AUp8VbW77P3JrF/nKmvo/qCQeGfq++T/dplwHJfn4P2G4p+Uva/g/OzZ0RqMZ+D8dmn/iar73P/OuA7Ka8PY/gaaeQHGn9T9hkyjAH1L0P3aZGhdAU/M/n8VP/g7P8j+90HxHNvfyPwhNBtgrqvk/\",\"dtype\":\"float64\",\"shape\":[75]},\"y\":{\"__ndarray__\":\"GhExyth1ND/Sv8nbtpRIP2vylNV0PVE/aTum7souWD/At0SJ8fVgPw3Iuahxymc/MSNhhJWvcD/bTfBN02d3P2zb5nxnaoA/CD5h5MAGhz8NmeH1TyaQP+zrCsc9p5Y/LbKd76fGnz/bLW5ISEmmPww9YvTcQq8/JV2OstnstT8Er5Y7M8G+P0c+r3jqkcU/5h99k6ZBzj88bCIzFzjVP4enV8oyxN0//yH99nXg5D8qOpLLf0jtP5kqGJXUifQ/c9cS8kHP/D+/DpwzojQEQIEmwoanVwxA4lgXt9HgE0BSSZ2AJuIbQAMJih9jjiNA5q4l5INuK0AwTKYKRj0zQNv5fmq8/DpAaCJseHrtQkB/+zpwzoxKQM3MzMzMeFJAZmZmZmZqWEAAAAAAAFxeQM3MzMzMJmJAmpmZmZkfZUBmZmZmZhhoQDMzMzMzEWtAAAAAAAAKbkBmZmZmZoFwQM3MzMzM/XFAMzMzMzN6c0CamZmZmfZ0QAAAAAAAc3ZAZmZmZmbvd0DNzMzMzGt5QDMzMzMz6HpAmpmZmZlkfEAAAAAAAOF9QGZmZmZmXX9AZmZmZuZsgECamZmZGSuBQM3MzMxM6YFAAAAAAICngkAzMzMzs2WDQGZmZmbmI4RAmpmZmRnihEDNzMzMTKCFQAAAAACAXoZAMzMzM7Mch0BmZmZm5tqHQJqZmZkZmYhAzczMzExXiUAAAAAAgBWKQDMzMzOz04pAZmZmZuaRi0CamZmZGVCMQM3MzMxMDo1AAAAAAIDMjUAzMzMzs4qOQGZmZmbmSI9A\",\"dtype\":\"float64\",\"shape\":[75]}},\"selected\":{\"id\":\"d602cd16-0038-4b11-a5a1-6adfed8fda75\",\"type\":\"Selection\"},\"selection_policy\":{\"id\":\"29d2464a-0621-42f3-8813-3423a9c3b770\",\"type\":\"UnionRenderers\"}},\"id\":\"40c611b0-f35d-421a-82c5-7a589cb5599b\",\"type\":\"ColumnDataSource\"},{\"attributes\":{\"items\":[{\"id\":\"77ebfe8c-fa9e-44ef-9491-fa3b4565cf5c\",\"type\":\"LegendItem\"},{\"id\":\"34c32041-65e5-4d14-80af-052aa2a1ba61\",\"type\":\"LegendItem\"},{\"id\":\"5fd38f4e-051f-4b17-9ad4-79b85382fd49\",\"type\":\"LegendItem\"}],\"label_text_font_size\":{\"value\":\"8pt\"},\"location\":\"top_center\",\"orientation\":\"horizontal\",\"plot\":{\"id\":\"3d1be07f-977f-464c-8cb4-d1480de2c575\",\"subtype\":\"Figure\",\"type\":\"Plot\"}},\"id\":\"50534ce7-6263-47d2-a3c8-14a21f94ccef\",\"type\":\"Legend\"},{\"attributes\":{},\"id\":\"97c41c75-0b3a-46d2-983c-365d6e0d6552\",\"type\":\"LinearScale\"},{\"attributes\":{\"items\":[{\"id\":\"db07001a-47ef-4731-8eef-8b4bbbb7524c\",\"type\":\"LegendItem\"},{\"id\":\"d9eb0850-8c21-413e-8553-3f928be8624e\",\"type\":\"LegendItem\"},{\"id\":\"733e6fb6-728e-4366-8e4d-f8628b61b9b5\",\"type\":\"LegendItem\"}],\"label_text_font_size\":{\"value\":\"8pt\"},\"location\":\"top_center\",\"orientation\":\"horizontal\",\"plot\":{\"id\":\"4e0aa6a3-155c-4077-a924-459ca1f68d87\",\"subtype\":\"Figure\",\"type\":\"Plot\"}},\"id\":\"23a1a46e-e251-4bbe-8697-f3727c7d956b\",\"type\":\"Legend\"},{\"attributes\":{\"line_alpha\":0.1,\"line_color\":\"#1f77b4\",\"line_width\":1.5,\"x\":{\"field\":\"x\"},\"y\":{\"field\":\"y\"}},\"id\":\"242f41f0-e8f9-458c-bce5-328542873610\",\"type\":\"Line\"},{\"attributes\":{\"dimension\":1,\"plot\":{\"id\":\"c57cebc9-83ac-44df-8982-fabc8fb07f48\",\"subtype\":\"Figure\",\"type\":\"Plot\"},\"ticker\":{\"id\":\"923aa5ab-b7b2-404d-8f88-e20da07f4875\",\"type\":\"LogTicker\"}},\"id\":\"a2399e2f-e78b-48df-b841-dd1f9f835630\",\"type\":\"Grid\"},{\"attributes\":{},\"id\":\"e0527787-55f6-4d6c-a886-6409adc87be9\",\"type\":\"BasicTicker\"},{\"attributes\":{\"data_source\":{\"id\":\"9e3f7b06-b08c-4368-a583-ae54c2bd8354\",\"type\":\"ColumnDataSource\"},\"glyph\":{\"id\":\"ed603d4e-d005-4720-a833-53e6aa33ccb1\",\"type\":\"Circle\"},\"hover_glyph\":null,\"muted_glyph\":null,\"nonselection_glyph\":{\"id\":\"62d53607-64d3-4740-b487-4b09d17f24e0\",\"type\":\"Circle\"},\"selection_glyph\":null,\"view\":{\"id\":\"b92e90fb-3516-48f6-be08-b88f17e6da1e\",\"type\":\"CDSView\"}},\"id\":\"deb9dd46-65eb-485f-9072-c0dc21759359\",\"type\":\"GlyphRenderer\"},{\"attributes\":{\"source\":{\"id\":\"78a22054-6f37-4150-bf71-cffe0695ebb7\",\"type\":\"ColumnDataSource\"}},\"id\":\"3cff7614-8c4b-44bb-8440-6b6a78dc10ed\",\"type\":\"CDSView\"},{\"attributes\":{\"data_source\":{\"id\":\"6e8d4c48-03c9-4ac8-8c45-d8b4e8798f03\",\"type\":\"ColumnDataSource\"},\"glyph\":{\"id\":\"05809811-27c9-4ef0-ac99-11dac68064e9\",\"type\":\"Line\"},\"hover_glyph\":null,\"muted_glyph\":null,\"nonselection_glyph\":{\"id\":\"242f41f0-e8f9-458c-bce5-328542873610\",\"type\":\"Line\"},\"selection_glyph\":null,\"view\":{\"id\":\"b0ca1401-a5d8-4c03-9555-7c01c1ffcfe9\",\"type\":\"CDSView\"}},\"id\":\"506b7d7f-4d54-4038-8414-f64fb759553c\",\"type\":\"GlyphRenderer\"},{\"attributes\":{\"callback\":null,\"end\":1667941.1662,\"start\":-1675236.9661999994},\"id\":\"193458bb-03c3-4137-a92c-54795643a070\",\"type\":\"Range1d\"},{\"attributes\":{\"above\":[{\"id\":\"23a1a46e-e251-4bbe-8697-f3727c7d956b\",\"type\":\"Legend\"}],\"below\":[{\"id\":\"de4f0ae6-0159-4f16-8795-4e9cee7a6f27\",\"type\":\"LinearAxis\"}],\"left\":[{\"id\":\"45fde254-44f4-4816-8edd-40237aa23ef5\",\"type\":\"LinearAxis\"}],\"plot_width\":300,\"renderers\":[{\"id\":\"de4f0ae6-0159-4f16-8795-4e9cee7a6f27\",\"type\":\"LinearAxis\"},{\"id\":\"bf34a2b6-03be-4ed0-b3ed-5ca239fe1f1a\",\"type\":\"Grid\"},{\"id\":\"45fde254-44f4-4816-8edd-40237aa23ef5\",\"type\":\"LinearAxis\"},{\"id\":\"b1ee71da-46ed-4b72-acaf-c36c0d29b769\",\"type\":\"Grid\"},{\"id\":\"6519c0d3-7ac0-4cd1-95fc-a9c963f0cea4\",\"type\":\"BoxAnnotation\"},{\"id\":\"453ed401-a967-48b8-a4ed-319b7d69ad80\",\"type\":\"GlyphRenderer\"},{\"id\":\"d462969e-7156-477b-abf2-cce020decbb0\",\"type\":\"GlyphRenderer\"},{\"id\":\"af9e6328-a33c-4090-87cc-0add078b1978\",\"type\":\"GlyphRenderer\"},{\"id\":\"390e4327-c111-41f6-927d-641d916d79de\",\"type\":\"GlyphRenderer\"},{\"id\":\"506b7d7f-4d54-4038-8414-f64fb759553c\",\"type\":\"GlyphRenderer\"},{\"id\":\"23a1a46e-e251-4bbe-8697-f3727c7d956b\",\"type\":\"Legend\"}],\"title\":{\"id\":\"e94b6d34-cccb-4465-9c84-a8be33d14885\",\"type\":\"Title\"},\"toolbar\":{\"id\":\"a2476251-cdaa-4c20-b95a-12c33e5d8dcf\",\"type\":\"Toolbar\"},\"toolbar_location\":null,\"x_range\":{\"id\":\"193458bb-03c3-4137-a92c-54795643a070\",\"type\":\"Range1d\"},\"x_scale\":{\"id\":\"cbcad67f-1edc-4e68-b1fb-1a1c72908584\",\"type\":\"LinearScale\"},\"y_range\":{\"id\":\"943a713c-54b3-4683-be66-dc28575483db\",\"type\":\"Range1d\"},\"y_scale\":{\"id\":\"e377f97e-b81c-413a-b7f5-79af8a848546\",\"type\":\"LinearScale\"}},\"id\":\"4e0aa6a3-155c-4077-a924-459ca1f68d87\",\"subtype\":\"Figure\",\"type\":\"Plot\"},{\"attributes\":{},\"id\":\"e377f97e-b81c-413a-b7f5-79af8a848546\",\"type\":\"LinearScale\"},{\"attributes\":{\"line_alpha\":0.1,\"line_color\":\"#1f77b4\",\"line_dash\":[6],\"line_width\":5,\"x\":{\"field\":\"x\"},\"y\":{\"field\":\"y\"}},\"id\":\"23168753-99d7-4632-8d72-5926b483ee74\",\"type\":\"Line\"},{\"attributes\":{\"above\":[{\"id\":\"50534ce7-6263-47d2-a3c8-14a21f94ccef\",\"type\":\"Legend\"}],\"below\":[{\"id\":\"12dc09a0-f537-4f86-88ee-de17ef1cb7b9\",\"type\":\"LinearAxis\"}],\"left\":[{\"id\":\"760bcfa4-68fd-4ca4-831a-1bf6334416de\",\"type\":\"LogAxis\"}],\"plot_width\":300,\"renderers\":[{\"id\":\"12dc09a0-f537-4f86-88ee-de17ef1cb7b9\",\"type\":\"LinearAxis\"},{\"id\":\"c8b47481-8fec-4b48-9b2b-7f21cbf216df\",\"type\":\"Grid\"},{\"id\":\"760bcfa4-68fd-4ca4-831a-1bf6334416de\",\"type\":\"LogAxis\"},{\"id\":\"54e5b721-e667-47f1-8696-8fa8af890ae2\",\"type\":\"Grid\"},{\"id\":\"5a0576a3-1130-4b51-ba9e-ddd74d540967\",\"type\":\"BoxAnnotation\"},{\"id\":\"f1839555-5d80-4963-9117-abfc9fd63af7\",\"type\":\"GlyphRenderer\"},{\"id\":\"a130f051-b55d-4f27-96b3-b6612b23ed6a\",\"type\":\"GlyphRenderer\"},{\"id\":\"9d59cfbc-d605-4c02-a129-6979ccc61257\",\"type\":\"GlyphRenderer\"},{\"id\":\"0be6ea39-eeb1-42dd-8db1-e88589a83369\",\"type\":\"GlyphRenderer\"},{\"id\":\"3fe33907-d4c4-4cbd-a24a-81ac6cabf056\",\"type\":\"GlyphRenderer\"},{\"id\":\"50534ce7-6263-47d2-a3c8-14a21f94ccef\",\"type\":\"Legend\"}],\"title\":{\"id\":\"3965ec20-e5e4-4489-8919-9795330a437f\",\"type\":\"Title\"},\"toolbar\":{\"id\":\"9faf347d-7d12-4693-9ef4-6f074acea97a\",\"type\":\"Toolbar\"},\"toolbar_location\":null,\"x_range\":{\"id\":\"aa600bed-edf2-4c03-be26-8932461ded8a\",\"type\":\"Range1d\"},\"x_scale\":{\"id\":\"97c41c75-0b3a-46d2-983c-365d6e0d6552\",\"type\":\"LinearScale\"},\"y_range\":{\"id\":\"1c768c89-c6a5-4dac-bd05-fd15693094ba\",\"type\":\"Range1d\"},\"y_scale\":{\"id\":\"734ea377-e0e5-4b63-8cdf-3ec91e7da92b\",\"type\":\"LogScale\"}},\"id\":\"3d1be07f-977f-464c-8cb4-d1480de2c575\",\"subtype\":\"Figure\",\"type\":\"Plot\"},{\"attributes\":{\"callback\":null,\"end\":611609.39378,\"start\":-1664778.2357799995},\"id\":\"aa600bed-edf2-4c03-be26-8932461ded8a\",\"type\":\"Range1d\"},{\"attributes\":{\"axis_label\":\"cooling rate [K/day]\",\"formatter\":{\"id\":\"f8ae780e-5991-43f7-b235-581328e9d6fb\",\"type\":\"BasicTickFormatter\"},\"plot\":{\"id\":\"c57cebc9-83ac-44df-8982-fabc8fb07f48\",\"subtype\":\"Figure\",\"type\":\"Plot\"},\"ticker\":{\"id\":\"9ddd7401-3d65-40fa-b3ea-201daac6da65\",\"type\":\"BasicTicker\"}},\"id\":\"de23fc5b-d0ac-4c1b-84cc-ad757c00dd5c\",\"type\":\"LinearAxis\"},{\"attributes\":{\"children\":[{\"id\":\"b4891c3b-2795-4332-929b-f4ab1b1b4be9\",\"type\":\"Row\"}]},\"id\":\"e128a684-65a3-4deb-8727-0fedbcf739e6\",\"type\":\"Column\"},{\"attributes\":{\"overlay\":{\"id\":\"28581577-c4a4-43e7-a41a-144ad29e6635\",\"type\":\"BoxAnnotation\"}},\"id\":\"6c8ca15d-355c-4d1e-abf2-0510cc33045c\",\"type\":\"BoxZoomTool\"},{\"attributes\":{\"source\":{\"id\":\"6e8d4c48-03c9-4ac8-8c45-d8b4e8798f03\",\"type\":\"ColumnDataSource\"}},\"id\":\"b0ca1401-a5d8-4c03-9555-7c01c1ffcfe9\",\"type\":\"CDSView\"},{\"attributes\":{},\"id\":\"22edd30c-4c9a-45d1-97cd-276eaf25e4d0\",\"type\":\"Selection\"},{\"attributes\":{\"tools\":[{\"id\":\"58cd3d78-d0fd-4de8-bf42-a874e0ba87c1\",\"type\":\"PanTool\"},{\"id\":\"d00e3c33-cd83-48ec-b505-8ba5d772c59a\",\"type\":\"WheelZoomTool\"},{\"id\":\"b2c72347-12cb-46db-bbc1-bc9bf62c38c4\",\"type\":\"BoxZoomTool\"},{\"id\":\"c1b1a9aa-2b0f-468d-9c7c-abeebe96d42b\",\"type\":\"SaveTool\"},{\"id\":\"96a7ca19-9e84-453c-8b04-827b1efdd429\",\"type\":\"ResetTool\"},{\"id\":\"4a293697-5727-406d-b164-06284f3ee989\",\"type\":\"HelpTool\"},{\"id\":\"8aa618a3-04ae-4623-a2e2-a721351f2b4c\",\"type\":\"PanTool\"},{\"id\":\"b28dd518-1e75-4c3a-be05-45fb7d248056\",\"type\":\"WheelZoomTool\"},{\"id\":\"8b060715-8adc-4d57-97e3-b9d8b044334c\",\"type\":\"BoxZoomTool\"},{\"id\":\"30343069-b569-473b-a99f-1f015d0b35f3\",\"type\":\"SaveTool\"},{\"id\":\"a3aea961-2abe-4e17-ba51-7f039c26c683\",\"type\":\"ResetTool\"},{\"id\":\"e0d75825-3533-495f-9504-42d71b07cecd\",\"type\":\"HelpTool\"},{\"id\":\"c25d3fd5-3abf-4266-ba0a-f568fdabadae\",\"type\":\"PanTool\"},{\"id\":\"1a500ca5-6288-455a-9c49-7202c6ca3b87\",\"type\":\"WheelZoomTool\"},{\"id\":\"6c8ca15d-355c-4d1e-abf2-0510cc33045c\",\"type\":\"BoxZoomTool\"},{\"id\":\"7a179ebc-ea13-4018-874f-901c249a4d32\",\"type\":\"SaveTool\"},{\"id\":\"65460c98-73a4-4991-a81d-618b2cce2ed7\",\"type\":\"ResetTool\"},{\"id\":\"aa8686ec-2333-408d-98d9-fad3a74fdc72\",\"type\":\"HelpTool\"}]},\"id\":\"a954e6eb-7df2-4882-9a7f-f5b1aa8f1914\",\"type\":\"ProxyToolbar\"},{\"attributes\":{\"data_source\":{\"id\":\"3f615c61-5e87-4223-9928-2ead8b3dcd95\",\"type\":\"ColumnDataSource\"},\"glyph\":{\"id\":\"e36e042c-d1d3-40ee-990f-c6130bd587bd\",\"type\":\"Line\"},\"hover_glyph\":null,\"muted_glyph\":null,\"nonselection_glyph\":{\"id\":\"0782e237-62eb-4502-a09b-6d72659d1646\",\"type\":\"Line\"},\"selection_glyph\":null,\"view\":{\"id\":\"d27a619e-fb4d-4d28-a213-552b9e950e15\",\"type\":\"CDSView\"}},\"id\":\"88f4eb9f-20cf-4705-8a33-04acd19dfb4b\",\"type\":\"GlyphRenderer\"},{\"attributes\":{\"source\":{\"id\":\"f52f6547-cba3-4ebc-9b9b-d6e0f519c2e3\",\"type\":\"ColumnDataSource\"}},\"id\":\"f05a96d9-9f0f-4485-83f4-844d70c4fc16\",\"type\":\"CDSView\"},{\"attributes\":{\"callback\":null,\"data\":{\"x\":{\"__ndarray__\":\"MXhf+wfXU0AZbvNjswdFQLQWsEQVdUFA5TlpnhT9QUB/x1dOYK05QImjxHmcEjZA9jYDSBB3L0AISPl4H6wqQBPuuwfAzyJAOcHprUZAIUB7WWpkesAXQJoT1Uq+ChVArO/8u0EXCkBgVNlshzgCQMeNQ+Nzu/I/POwv1Qzh+D9QxMRmcj8DQOrE7tC4mAxAQsLBRIlHEkAi4cPYoDEXQEeDpjRjzB1ASZ0GEfCuI0DVFj11sssnQOMiVKSMHyhAWRHvUxNoJEDo8cjD4g8gQLGGvR2NDRpAdpI3nV5oFECtyWH9Lp4QQIZQd9bvmwtAkshlnu1BBkBMysnQf1UAQHZJU/DYZ/c/HoEhV+G48T/rSm4vc/TmP3EgV4cD49g/xmy6+4w7zz+bEsjh3uDDPw5SRMRogKs/4GPKdPc1a78lazVXN1vCP/B84ODeUug/LOyxgXDV9z+/DBHyZAwAQAOIY+fy/QFAahF3XKCUAECV0GHvGsz+P+X4k4Nhvf0/RO/IqI98/T8rkW+v/zT9P59vGMDsAv0/zEX7plCY/D/E3siS8kj7P2yUMv+hDvs/RmrXDaYs+z+c9f5GCO36P58nVCbr7vo/Qus8hbcy/D+rD5hFMCf9P4t6dxofnPw/bRp4QYZ2/D/q8NNiN2b8P5YTVw9ESPw/l1Dy0X/K+j+WKih3ZdD5P2k8OYxHjvk/hceGh5N4+T8lpPahWSn5P6vJnePt4vY/UuhmxnXI9T8miFqdE+D0Pz7qfx5CR/Q/0khvq2US9D9LfVdHQGv0P9syeEmwYfg/\",\"dtype\":\"float64\",\"shape\":[75]},\"y\":{\"__ndarray__\":\"hLndy31yND/6fmq8dJNIP8n9DkWBPlE/aDum7souWD/b4a/JGvVgP9f34SAhymc/ZvM4DOavcD+z0M5pFmh3PxuC4zJuaoA/xjcUPlsHhz8uHAjJAiaQP9ieWRKgppY/oI7HDFTGnz+a5h2n6EimPzS6g9iZQq8/IuAQqtTstT9SSZ2AJsK+P4nS3uALk8U/ih9j7lpCzj+ASL99HTjVP4enV8oyxN0/ACL99nXg5D9fmEwVjErtPyUGgZVDi/Q/AiuHFtnO/D9OYhBYOTQEQPHSTWIQWAxA4XoUrkfhE0D8qfHSTeIbQMh2vp8ajyNArkfhehRuK0Bcj8L1KDwzQFyPwvUo/DpAPgrXo3DtQkDNzMzMzIxKQClcj8L1eFJAKVyPwvVoWECamZmZmVleQGZmZmZmJmJAAAAAAAAgZUCamZmZmRloQJqZmZmZEWtAmpmZmZkJbkCamZmZmYFwQGZmZmZm/nFAZmZmZmZ6c0BmZmZmZvZ0QDQzMzMzc3ZAAAAAAADwd0AAAAAAAGx5QAAAAAAA6HpAzMzMzMxkfEDMzMzMzOB9QM3MzMzMXH9AzczMzMxsgEAzMzMzMyuBQDMzMzMz6YFAMzMzMzOngkCamZmZmWWDQAAAAAAAJIRAAAAAAADihEAAAAAAAKCFQGZmZmZmXoZAzczMzMwch0DNzMzMzNqHQM3MzMzMmIhAMzMzMzNXiUCamZmZmRWKQAAAAAAA1IpAAAAAAACSi0AAAAAAAFCMQGZmZmZmDo1AzczMzMzMjUDNzMzMzIqOQM3MzMzMSI9A\",\"dtype\":\"float64\",\"shape\":[75]}},\"selected\":{\"id\":\"c099b2b3-fa76-4532-8853-60e389a0fe92\",\"type\":\"Selection\"},\"selection_policy\":{\"id\":\"51981dbd-e061-4d3d-b8ac-b77884d4146e\",\"type\":\"UnionRenderers\"}},\"id\":\"8dcca32f-29de-4147-a8e8-2b06c9c65f7c\",\"type\":\"ColumnDataSource\"},{\"attributes\":{\"plot\":{\"id\":\"c57cebc9-83ac-44df-8982-fabc8fb07f48\",\"subtype\":\"Figure\",\"type\":\"Plot\"},\"ticker\":{\"id\":\"9ddd7401-3d65-40fa-b3ea-201daac6da65\",\"type\":\"BasicTicker\"}},\"id\":\"ce47dad1-9090-4288-8496-69e79cbb01f8\",\"type\":\"Grid\"},{\"attributes\":{\"data_source\":{\"id\":\"0ac20d75-9418-498c-aa64-6495756e93aa\",\"type\":\"ColumnDataSource\"},\"glyph\":{\"id\":\"e8caf427-e6c8-4d5f-a0a9-ceb4decdc9de\",\"type\":\"Line\"},\"hover_glyph\":null,\"muted_glyph\":null,\"nonselection_glyph\":{\"id\":\"60e7c92a-b148-456c-a186-c371b70d71a4\",\"type\":\"Line\"},\"selection_glyph\":null,\"view\":{\"id\":\"f17d27ed-f025-4b91-be44-30173338f83e\",\"type\":\"CDSView\"}},\"id\":\"af9e6328-a33c-4090-87cc-0add078b1978\",\"type\":\"GlyphRenderer\"},{\"attributes\":{},\"id\":\"96a7ca19-9e84-453c-8b04-827b1efdd429\",\"type\":\"ResetTool\"},{\"attributes\":{\"callback\":null,\"data\":{\"x\":{\"__ndarray__\":\"cm1sTMT3VEDEyvjosEJHQOKI6DjzCUNArgQWV9awPkB9Lm8XG3M4QEz+Qv6iYzNA7eV8HaPLLkCX1QHyTpMoQFBmYSYetiNAUB04GtGpH0AmFyVE5j8ZQJca9QPGqBNALJP+OOHHDEBNxaf7QF8AQKtislomWuw/cW2dcO6A9T/uJJvfPu0EQIaQLTI/JQ1AxGiII+PmEkCJvfVeuCsYQD6ZBhGbHB9AXQw69DTYJEAsubcwKucqQNuT9D5OmipAJyi3szEJJUBlNebh5WkgQDDcPHBr2xlArtlANXuQFEBdJadFHckQQI2Avh0ZsQtAjYiwt1rsBUCL0SDoVBgAQK6C0nEEjvc/CggLSme58T9sXU2orFPnP0v0JYz9Gdg/vT38vxYczD9nBQTe6kHHP1IhkEXJwKo/8OZnhCVAub+xtVgCpmqzP6DUpY6g0+k/PKK3T1h4+D8RTDjQc1EAQG/dAQs7TwJAQt2eHpPLAEBWEh074x//PyCap9ZSGf4/rEzaTySm/T+7aXhHRmr9P688KeqeNP0/ruZ4EemD/D8olrZcn9T7P0+vNc9hW/s/i9VVL+4P+z+0NzC24uz6P8731Kza8vo/xFf4SHzq+z+gYyHpvHb8P68ROkiFevw/BAjYdCga/D8AUp8VbW77P3JrF/nKmvo/qCQeGfq++T/dplwHJfn4P2G4p+Uva/g/OzZ0RqMZ+D8dmn/iar73P/OuA7Ka8PY/gaaeQHGn9T9hkyjAH1L0P3aZGhdAU/M/n8VP/g7P8j+90HxHNvfyPwhNBtgrqvk/\",\"dtype\":\"float64\",\"shape\":[75]},\"y\":{\"__ndarray__\":\"GhExyth1ND/Sv8nbtpRIP2vylNV0PVE/aTum7souWD/At0SJ8fVgPw3Iuahxymc/MSNhhJWvcD/bTfBN02d3P2zb5nxnaoA/CD5h5MAGhz8NmeH1TyaQP+zrCsc9p5Y/LbKd76fGnz/bLW5ISEmmPww9YvTcQq8/JV2OstnstT8Er5Y7M8G+P0c+r3jqkcU/5h99k6ZBzj88bCIzFzjVP4enV8oyxN0//yH99nXg5D8qOpLLf0jtP5kqGJXUifQ/c9cS8kHP/D+/DpwzojQEQIEmwoanVwxA4lgXt9HgE0BSSZ2AJuIbQAMJih9jjiNA5q4l5INuK0AwTKYKRj0zQNv5fmq8/DpAaCJseHrtQkB/+zpwzoxKQM3MzMzMeFJAZmZmZmZqWEAAAAAAAFxeQM3MzMzMJmJAmpmZmZkfZUBmZmZmZhhoQDMzMzMzEWtAAAAAAAAKbkBmZmZmZoFwQM3MzMzM/XFAMzMzMzN6c0CamZmZmfZ0QAAAAAAAc3ZAZmZmZmbvd0DNzMzMzGt5QDMzMzMz6HpAmpmZmZlkfEAAAAAAAOF9QGZmZmZmXX9AZmZmZuZsgECamZmZGSuBQM3MzMxM6YFAAAAAAICngkAzMzMzs2WDQGZmZmbmI4RAmpmZmRnihEDNzMzMTKCFQAAAAACAXoZAMzMzM7Mch0BmZmZm5tqHQJqZmZkZmYhAzczMzExXiUAAAAAAgBWKQDMzMzOz04pAZmZmZuaRi0CamZmZGVCMQM3MzMxMDo1AAAAAAIDMjUAzMzMzs4qOQGZmZmbmSI9A\",\"dtype\":\"float64\",\"shape\":[75]}},\"selected\":{\"id\":\"a808381a-edf0-4958-9a45-0d894aa11af9\",\"type\":\"Selection\"},\"selection_policy\":{\"id\":\"713fa7fc-5591-4102-931f-41e507e1c358\",\"type\":\"UnionRenderers\"}},\"id\":\"c4a1084b-acfe-4772-b3f3-b01a80dfe8d1\",\"type\":\"ColumnDataSource\"},{\"attributes\":{},\"id\":\"5b2a4b49-ef88-4166-a000-4d25649cdf7d\",\"type\":\"UnionRenderers\"},{\"attributes\":{\"fill_alpha\":{\"value\":0.7},\"fill_color\":{\"value\":\"#4daf4a\"},\"line_alpha\":{\"value\":0.7},\"line_color\":{\"value\":\"#4daf4a\"},\"x\":{\"field\":\"x\"},\"y\":{\"field\":\"y\"}},\"id\":\"3a4ac7ce-796c-431e-ac21-f5f77dd9246b\",\"type\":\"Circle\"},{\"attributes\":{\"source\":{\"id\":\"8dcca32f-29de-4147-a8e8-2b06c9c65f7c\",\"type\":\"ColumnDataSource\"}},\"id\":\"2fb4063a-0dcf-405c-8d94-a1d55536bdbd\",\"type\":\"CDSView\"},{\"attributes\":{\"data_source\":{\"id\":\"40c611b0-f35d-421a-82c5-7a589cb5599b\",\"type\":\"ColumnDataSource\"},\"glyph\":{\"id\":\"3a4ac7ce-796c-431e-ac21-f5f77dd9246b\",\"type\":\"Circle\"},\"hover_glyph\":null,\"muted_glyph\":null,\"nonselection_glyph\":{\"id\":\"d6ea6daa-d963-4acd-9f87-ab812ae4b0a0\",\"type\":\"Circle\"},\"selection_glyph\":null,\"view\":{\"id\":\"c20662e4-1e5d-4d95-8ecc-9d6951c29c3b\",\"type\":\"CDSView\"}},\"id\":\"d462969e-7156-477b-abf2-cce020decbb0\",\"type\":\"GlyphRenderer\"},{\"attributes\":{},\"id\":\"c1b1a9aa-2b0f-468d-9c7c-abeebe96d42b\",\"type\":\"SaveTool\"},{\"attributes\":{},\"id\":\"1a500ca5-6288-455a-9c49-7202c6ca3b87\",\"type\":\"WheelZoomTool\"},{\"attributes\":{\"fill_alpha\":{\"value\":0.1},\"fill_color\":{\"value\":\"#1f77b4\"},\"line_alpha\":{\"value\":0.1},\"line_color\":{\"value\":\"#1f77b4\"},\"x\":{\"field\":\"x\"},\"y\":{\"field\":\"y\"}},\"id\":\"d6ea6daa-d963-4acd-9f87-ab812ae4b0a0\",\"type\":\"Circle\"},{\"attributes\":{\"fill_alpha\":{\"value\":0.1},\"fill_color\":{\"value\":\"#1f77b4\"},\"line_alpha\":{\"value\":0.1},\"line_color\":{\"value\":\"#1f77b4\"},\"x\":{\"field\":\"x\"},\"y\":{\"field\":\"y\"}},\"id\":\"fd35be11-b11b-455a-8307-102900ca59ae\",\"type\":\"Square\"},{\"attributes\":{},\"id\":\"7a179ebc-ea13-4018-874f-901c249a4d32\",\"type\":\"SaveTool\"},{\"attributes\":{\"source\":{\"id\":\"40c611b0-f35d-421a-82c5-7a589cb5599b\",\"type\":\"ColumnDataSource\"}},\"id\":\"c20662e4-1e5d-4d95-8ecc-9d6951c29c3b\",\"type\":\"CDSView\"},{\"attributes\":{\"callback\":null,\"data\":{\"x\":{\"__ndarray__\":\"MXhf+wfXU0AZbvNjswdFQLQWsEQVdUFA5TlpnhT9QUB/x1dOYK05QImjxHmcEjZA9jYDSBB3L0AISPl4H6wqQBPuuwfAzyJAOcHprUZAIUB7WWpkesAXQJoT1Uq+ChVArO/8u0EXCkBgVNlshzgCQMeNQ+Nzu/I/POwv1Qzh+D9QxMRmcj8DQOrE7tC4mAxAQsLBRIlHEkAi4cPYoDEXQEeDpjRjzB1ASZ0GEfCuI0DVFj11sssnQOMiVKSMHyhAWRHvUxNoJEDo8cjD4g8gQLGGvR2NDRpAdpI3nV5oFECtyWH9Lp4QQIZQd9bvmwtAkshlnu1BBkBMysnQf1UAQHZJU/DYZ/c/HoEhV+G48T/rSm4vc/TmP3EgV4cD49g/xmy6+4w7zz+bEsjh3uDDPw5SRMRogKs/4GPKdPc1a78lazVXN1vCP/B84ODeUug/LOyxgXDV9z+/DBHyZAwAQAOIY+fy/QFAahF3XKCUAECV0GHvGsz+P+X4k4Nhvf0/RO/IqI98/T8rkW+v/zT9P59vGMDsAv0/zEX7plCY/D/E3siS8kj7P2yUMv+hDvs/RmrXDaYs+z+c9f5GCO36P58nVCbr7vo/Qus8hbcy/D+rD5hFMCf9P4t6dxofnPw/bRp4QYZ2/D/q8NNiN2b8P5YTVw9ESPw/l1Dy0X/K+j+WKih3ZdD5P2k8OYxHjvk/hceGh5N4+T8lpPahWSn5P6vJnePt4vY/UuhmxnXI9T8miFqdE+D0Pz7qfx5CR/Q/0khvq2US9D9LfVdHQGv0P9syeEmwYfg/\",\"dtype\":\"float64\",\"shape\":[75]},\"y\":{\"__ndarray__\":\"hLndy31yND/6fmq8dJNIP8n9DkWBPlE/aDum7souWD/b4a/JGvVgP9f34SAhymc/ZvM4DOavcD+z0M5pFmh3PxuC4zJuaoA/xjcUPlsHhz8uHAjJAiaQP9ieWRKgppY/oI7HDFTGnz+a5h2n6EimPzS6g9iZQq8/IuAQqtTstT9SSZ2AJsK+P4nS3uALk8U/ih9j7lpCzj+ASL99HTjVP4enV8oyxN0/ACL99nXg5D9fmEwVjErtPyUGgZVDi/Q/AiuHFtnO/D9OYhBYOTQEQPHSTWIQWAxA4XoUrkfhE0D8qfHSTeIbQMh2vp8ajyNArkfhehRuK0Bcj8L1KDwzQFyPwvUo/DpAPgrXo3DtQkDNzMzMzIxKQClcj8L1eFJAKVyPwvVoWECamZmZmVleQGZmZmZmJmJAAAAAAAAgZUCamZmZmRloQJqZmZmZEWtAmpmZmZkJbkCamZmZmYFwQGZmZmZm/nFAZmZmZmZ6c0BmZmZmZvZ0QDQzMzMzc3ZAAAAAAADwd0AAAAAAAGx5QAAAAAAA6HpAzMzMzMxkfEDMzMzMzOB9QM3MzMzMXH9AzczMzMxsgEAzMzMzMyuBQDMzMzMz6YFAMzMzMzOngkCamZmZmWWDQAAAAAAAJIRAAAAAAADihEAAAAAAAKCFQGZmZmZmXoZAzczMzMwch0DNzMzMzNqHQM3MzMzMmIhAMzMzMzNXiUCamZmZmRWKQAAAAAAA1IpAAAAAAACSi0AAAAAAAFCMQGZmZmZmDo1AzczMzMzMjUDNzMzMzIqOQM3MzMzMSI9A\",\"dtype\":\"float64\",\"shape\":[75]}},\"selected\":{\"id\":\"36b1c084-0d4a-4651-9fe4-7b5c4f94ac04\",\"type\":\"Selection\"},\"selection_policy\":{\"id\":\"4b5444d0-0d2f-433d-b7b8-bee4a855a00f\",\"type\":\"UnionRenderers\"}},\"id\":\"6e8d4c48-03c9-4ac8-8c45-d8b4e8798f03\",\"type\":\"ColumnDataSource\"},{\"attributes\":{},\"id\":\"d439a944-a1e4-419c-bae2-0353f3c42566\",\"type\":\"UnionRenderers\"},{\"attributes\":{\"data_source\":{\"id\":\"8dcca32f-29de-4147-a8e8-2b06c9c65f7c\",\"type\":\"ColumnDataSource\"},\"glyph\":{\"id\":\"7f79ba0e-6f6a-40be-8931-50b6a100e0fc\",\"type\":\"Square\"},\"hover_glyph\":null,\"muted_glyph\":null,\"nonselection_glyph\":{\"id\":\"fd35be11-b11b-455a-8307-102900ca59ae\",\"type\":\"Square\"},\"selection_glyph\":null,\"view\":{\"id\":\"2fb4063a-0dcf-405c-8d94-a1d55536bdbd\",\"type\":\"CDSView\"}},\"id\":\"390e4327-c111-41f6-927d-641d916d79de\",\"type\":\"GlyphRenderer\"},{\"attributes\":{\"line_alpha\":0.1,\"line_color\":\"#1f77b4\",\"line_width\":1.5,\"x\":{\"field\":\"x\"},\"y\":{\"field\":\"y\"}},\"id\":\"0782e237-62eb-4502-a09b-6d72659d1646\",\"type\":\"Line\"},{\"attributes\":{\"callback\":null,\"data\":{\"x\":{\"__ndarray__\":\"7FG4jr6lUcEyMzODnC9wQTIzM3NZ3T7B9Shcj6MsQEFI4Xr0NXpNwaxH4brJ+UVBIbByqA+1IEFL845TDBPWwC2yne9XCQ3B+n5qvNf7IUG48/0U1s4nwXsUrkdJxhfBMgisnL0LGUEanl4py9/nwPTb14F3BulAmkwVjFTN9sAbDeAt4f/wQB70bFZd2clACNFa0YYTgcCU6GUUi3i2wKgT0ESIzstAkBmojP+9pUAAAAAAAAAAAAAAAAAAAAAAAAAAAAAAAAAAAAAAAAAAAAAAAAAAAAAAAAAAAAAAAAAAAAAAAAAAAAAAAAAAAAAAAAAAAAAAAAAAAAAAAAAAANsHakKkqEvAg0wyctbMp8AAAAAAAAAAAGuyRj0kvJlAa7JGPSS8mcAAAAAAAAAAAGuyRj0kvJlAKM4fxGZokz9aj8K13A85wZDC9ehc8zhBOihhpuWp1UBX7C+7n6zLwJ4rSgnBdIbAuwuUFFjvc0BkPEolHF6jQEFqEycH3KXAbuvNfTAvmT9u6819MC+Zv695uja/uWu8r3m6Nr+5azxMLFb4TrZ9QAkKzb8HDXzArK8B6M3qOcCRjFR9067Ov0/xkNMuFMC/xz7kPfNx0r/kNEU6I33WP4Ct9NWz8sG/sIGp7FjBob9A68NRbUSGv1ZTnujWBcO/gg07y61Cuj8j5ZsrUnrAvwAAAAAAAAAAAAAAAAAAAAAAAAAAAAAAAE4bH/SZnco8uZQfjuP4l7xYlfwPq1vBvMme2DGomsQ8/F3p5YrDyrztnTi8QzpQPLIaiSm5s4A8\",\"dtype\":\"float64\",\"shape\":[75]},\"y\":{\"__ndarray__\":\"GhExyth1ND/Sv8nbtpRIP2vylNV0PVE/aTum7souWD/At0SJ8fVgPw3Iuahxymc/MSNhhJWvcD/bTfBN02d3P2zb5nxnaoA/CD5h5MAGhz8NmeH1TyaQP+zrCsc9p5Y/LbKd76fGnz/bLW5ISEmmPww9YvTcQq8/JV2OstnstT8Er5Y7M8G+P0c+r3jqkcU/5h99k6ZBzj88bCIzFzjVP4enV8oyxN0//yH99nXg5D8qOpLLf0jtP5kqGJXUifQ/c9cS8kHP/D+/DpwzojQEQIEmwoanVwxA4lgXt9HgE0BSSZ2AJuIbQAMJih9jjiNA5q4l5INuK0AwTKYKRj0zQNv5fmq8/DpAaCJseHrtQkB/+zpwzoxKQM3MzMzMeFJAZmZmZmZqWEAAAAAAAFxeQM3MzMzMJmJAmpmZmZkfZUBmZmZmZhhoQDMzMzMzEWtAAAAAAAAKbkBmZmZmZoFwQM3MzMzM/XFAMzMzMzN6c0CamZmZmfZ0QAAAAAAAc3ZAZmZmZmbvd0DNzMzMzGt5QDMzMzMz6HpAmpmZmZlkfEAAAAAAAOF9QGZmZmZmXX9AZmZmZuZsgECamZmZGSuBQM3MzMxM6YFAAAAAAICngkAzMzMzs2WDQGZmZmbmI4RAmpmZmRnihEDNzMzMTKCFQAAAAACAXoZAMzMzM7Mch0BmZmZm5tqHQJqZmZkZmYhAzczMzExXiUAAAAAAgBWKQDMzMzOz04pAZmZmZuaRi0CamZmZGVCMQM3MzMxMDo1AAAAAAIDMjUAzMzMzs4qOQGZmZmbmSI9A\",\"dtype\":\"float64\",\"shape\":[75]}},\"selected\":{\"id\":\"43927536-55e1-478f-943b-c61e01076f3b\",\"type\":\"Selection\"},\"selection_policy\":{\"id\":\"260fae6b-9895-4917-8219-d4e35035e177\",\"type\":\"UnionRenderers\"}},\"id\":\"f52f6547-cba3-4ebc-9b9b-d6e0f519c2e3\",\"type\":\"ColumnDataSource\"},{\"attributes\":{\"overlay\":{\"id\":\"6519c0d3-7ac0-4cd1-95fc-a9c963f0cea4\",\"type\":\"BoxAnnotation\"}},\"id\":\"b2c72347-12cb-46db-bbc1-bc9bf62c38c4\",\"type\":\"BoxZoomTool\"},{\"attributes\":{},\"id\":\"43927536-55e1-478f-943b-c61e01076f3b\",\"type\":\"Selection\"},{\"attributes\":{\"callback\":null,\"end\":0.01,\"start\":1020},\"id\":\"943a713c-54b3-4683-be66-dc28575483db\",\"type\":\"Range1d\"},{\"attributes\":{},\"id\":\"c25d3fd5-3abf-4266-ba0a-f568fdabadae\",\"type\":\"PanTool\"},{\"attributes\":{},\"id\":\"9ddd7401-3d65-40fa-b3ea-201daac6da65\",\"type\":\"BasicTicker\"},{\"attributes\":{\"callback\":null,\"data\":{\"x\":{\"__ndarray__\":\"cm1sTMT3VEDEyvjosEJHQOKI6DjzCUNArgQWV9awPkB9Lm8XG3M4QEz+Qv6iYzNA7eV8HaPLLkCX1QHyTpMoQFBmYSYetiNAUB04GtGpH0AmFyVE5j8ZQJca9QPGqBNALJP+OOHHDEBNxaf7QF8AQKtislomWuw/cW2dcO6A9T/uJJvfPu0EQIaQLTI/JQ1AxGiII+PmEkCJvfVeuCsYQD6ZBhGbHB9AXQw69DTYJEAsubcwKucqQNuT9D5OmipAJyi3szEJJUBlNebh5WkgQDDcPHBr2xlArtlANXuQFEBdJadFHckQQI2Avh0ZsQtAjYiwt1rsBUCL0SDoVBgAQK6C0nEEjvc/CggLSme58T9sXU2orFPnP0v0JYz9Gdg/vT38vxYczD9nBQTe6kHHP1IhkEXJwKo/8OZnhCVAub+xtVgCpmqzP6DUpY6g0+k/PKK3T1h4+D8RTDjQc1EAQG/dAQs7TwJAQt2eHpPLAEBWEh074x//PyCap9ZSGf4/rEzaTySm/T+7aXhHRmr9P688KeqeNP0/ruZ4EemD/D8olrZcn9T7P0+vNc9hW/s/i9VVL+4P+z+0NzC24uz6P8731Kza8vo/xFf4SHzq+z+gYyHpvHb8P68ROkiFevw/BAjYdCga/D8AUp8VbW77P3JrF/nKmvo/qCQeGfq++T/dplwHJfn4P2G4p+Uva/g/OzZ0RqMZ+D8dmn/iar73P/OuA7Ka8PY/gaaeQHGn9T9hkyjAH1L0P3aZGhdAU/M/n8VP/g7P8j+90HxHNvfyPwhNBtgrqvk/\",\"dtype\":\"float64\",\"shape\":[75]},\"y\":{\"__ndarray__\":\"GhExyth1ND/Sv8nbtpRIP2vylNV0PVE/aTum7souWD/At0SJ8fVgPw3Iuahxymc/MSNhhJWvcD/bTfBN02d3P2zb5nxnaoA/CD5h5MAGhz8NmeH1TyaQP+zrCsc9p5Y/LbKd76fGnz/bLW5ISEmmPww9YvTcQq8/JV2OstnstT8Er5Y7M8G+P0c+r3jqkcU/5h99k6ZBzj88bCIzFzjVP4enV8oyxN0//yH99nXg5D8qOpLLf0jtP5kqGJXUifQ/c9cS8kHP/D+/DpwzojQEQIEmwoanVwxA4lgXt9HgE0BSSZ2AJuIbQAMJih9jjiNA5q4l5INuK0AwTKYKRj0zQNv5fmq8/DpAaCJseHrtQkB/+zpwzoxKQM3MzMzMeFJAZmZmZmZqWEAAAAAAAFxeQM3MzMzMJmJAmpmZmZkfZUBmZmZmZhhoQDMzMzMzEWtAAAAAAAAKbkBmZmZmZoFwQM3MzMzM/XFAMzMzMzN6c0CamZmZmfZ0QAAAAAAAc3ZAZmZmZmbvd0DNzMzMzGt5QDMzMzMz6HpAmpmZmZlkfEAAAAAAAOF9QGZmZmZmXX9AZmZmZuZsgECamZmZGSuBQM3MzMxM6YFAAAAAAICngkAzMzMzs2WDQGZmZmbmI4RAmpmZmRnihEDNzMzMTKCFQAAAAACAXoZAMzMzM7Mch0BmZmZm5tqHQJqZmZkZmYhAzczMzExXiUAAAAAAgBWKQDMzMzOz04pAZmZmZuaRi0CamZmZGVCMQM3MzMxMDo1AAAAAAIDMjUAzMzMzs4qOQGZmZmbmSI9A\",\"dtype\":\"float64\",\"shape\":[75]}},\"selected\":{\"id\":\"ba0b9a79-19bf-4011-b791-bdb75762f576\",\"type\":\"Selection\"},\"selection_policy\":{\"id\":\"dc5b7613-063d-4fce-9e5e-37cb937ef453\",\"type\":\"UnionRenderers\"}},\"id\":\"0ac20d75-9418-498c-aa64-6495756e93aa\",\"type\":\"ColumnDataSource\"},{\"attributes\":{\"fill_alpha\":{\"value\":0.7},\"fill_color\":{\"value\":\"#984ea3\"},\"line_alpha\":{\"value\":0.7},\"line_color\":{\"value\":\"#984ea3\"},\"x\":{\"field\":\"x\"},\"y\":{\"field\":\"y\"}},\"id\":\"7f79ba0e-6f6a-40be-8931-50b6a100e0fc\",\"type\":\"Square\"},{\"attributes\":{\"source\":{\"id\":\"3f615c61-5e87-4223-9928-2ead8b3dcd95\",\"type\":\"ColumnDataSource\"}},\"id\":\"d27a619e-fb4d-4d28-a213-552b9e950e15\",\"type\":\"CDSView\"},{\"attributes\":{\"bottom_units\":\"screen\",\"fill_alpha\":{\"value\":0.5},\"fill_color\":{\"value\":\"lightgrey\"},\"left_units\":\"screen\",\"level\":\"overlay\",\"line_alpha\":{\"value\":1.0},\"line_color\":{\"value\":\"black\"},\"line_dash\":[4,4],\"line_width\":{\"value\":2},\"plot\":null,\"render_mode\":\"css\",\"right_units\":\"screen\",\"top_units\":\"screen\"},\"id\":\"6519c0d3-7ac0-4cd1-95fc-a9c963f0cea4\",\"type\":\"BoxAnnotation\"},{\"attributes\":{\"label\":{\"value\":\"CRD\"},\"renderers\":[{\"id\":\"d462969e-7156-477b-abf2-cce020decbb0\",\"type\":\"GlyphRenderer\"},{\"id\":\"af9e6328-a33c-4090-87cc-0add078b1978\",\"type\":\"GlyphRenderer\"}]},\"id\":\"d9eb0850-8c21-413e-8553-3f928be8624e\",\"type\":\"LegendItem\"},{\"attributes\":{\"source\":{\"id\":\"0ac20d75-9418-498c-aa64-6495756e93aa\",\"type\":\"ColumnDataSource\"}},\"id\":\"f17d27ed-f025-4b91-be44-30173338f83e\",\"type\":\"CDSView\"},{\"attributes\":{},\"id\":\"ba0b9a79-19bf-4011-b791-bdb75762f576\",\"type\":\"Selection\"},{\"attributes\":{\"label\":{\"value\":\"CLIRAD (single-run)\"},\"renderers\":[{\"id\":\"453ed401-a967-48b8-a4ed-319b7d69ad80\",\"type\":\"GlyphRenderer\"}]},\"id\":\"db07001a-47ef-4731-8eef-8b4bbbb7524c\",\"type\":\"LegendItem\"},{\"attributes\":{\"active_drag\":\"auto\",\"active_inspect\":\"auto\",\"active_scroll\":\"auto\",\"active_tap\":\"auto\",\"tools\":[{\"id\":\"8aa618a3-04ae-4623-a2e2-a721351f2b4c\",\"type\":\"PanTool\"},{\"id\":\"b28dd518-1e75-4c3a-be05-45fb7d248056\",\"type\":\"WheelZoomTool\"},{\"id\":\"8b060715-8adc-4d57-97e3-b9d8b044334c\",\"type\":\"BoxZoomTool\"},{\"id\":\"30343069-b569-473b-a99f-1f015d0b35f3\",\"type\":\"SaveTool\"},{\"id\":\"a3aea961-2abe-4e17-ba51-7f039c26c683\",\"type\":\"ResetTool\"},{\"id\":\"e0d75825-3533-495f-9504-42d71b07cecd\",\"type\":\"HelpTool\"}]},\"id\":\"9faf347d-7d12-4693-9ef4-6f074acea97a\",\"type\":\"Toolbar\"},{\"attributes\":{\"toolbar\":{\"id\":\"a954e6eb-7df2-4882-9a7f-f5b1aa8f1914\",\"type\":\"ProxyToolbar\"},\"toolbar_location\":\"above\"},\"id\":\"363b86cd-2ca7-47a0-8b6b-e2e758befc03\",\"type\":\"ToolbarBox\"},{\"attributes\":{},\"id\":\"4a293697-5727-406d-b164-06284f3ee989\",\"type\":\"HelpTool\"},{\"attributes\":{\"line_alpha\":0.8,\"line_color\":\"#984ea3\",\"line_width\":1.5,\"x\":{\"field\":\"x\"},\"y\":{\"field\":\"y\"}},\"id\":\"e36e042c-d1d3-40ee-990f-c6130bd587bd\",\"type\":\"Line\"},{\"attributes\":{\"line_color\":\"#4daf4a\",\"line_width\":1.5,\"x\":{\"field\":\"x\"},\"y\":{\"field\":\"y\"}},\"id\":\"e8caf427-e6c8-4d5f-a0a9-ceb4decdc9de\",\"type\":\"Line\"},{\"attributes\":{\"callback\":null,\"data\":{\"x\":{\"__ndarray__\":\"WJ58htOlUcEUFt2amS9wQQalGYd/3T7Ba/3wNpQsQEH/bAguQnpNwYzIDwnA+UVBpJLP3PC0IEGHM229HhbWwLJLFsimCQ3B3fGB58f7IUHJFfG04s4nwXAYdPBcxhfBsGu7OK8LGUG8jGKmDODnwEKBsSdbBulANr0DDWrN9sDmTWJTt//wQEbReQKL18lA2eGhl1Q5gcACpn0Cln62wNfybbGkystAg9+zVyeppUAsubcwKucqwNuT9D5OmirAJyi3szEJJcBlNebh5WkgwDDcPHBr2xnArtlANXuQFMBdJadFHckQwI2Avh0ZsQvAjYiwt1rsBcCL0SDoVBgAwPGb+GUUZUzA5I0bnw3Pp8BsXU2orFPnvw3wbZ2iuplAT7L8HQW9mcBnBQTe6kHHv0wntLvuu5lAe9pvNT8avj9eNS3J3A85wRq+WBpc8zhBWun/xIOp1UDd72zSpK3LwHstVUQQh4bAAM5W7sDNc0DC2OIoOFqjQDQ/blHK36XA/hTjjWdB/b9poW8JA8/9v688KeqeNP2/ruZ4EemD/L+2dflYepp9QLk/nCFjKHzAAw33ysybO8BFydolvcL+v/gVR4dg9fy/u7M4jHxDAMBnFpAadNf2v1+n+MLbuP6/ElQ9PDOo/L/W2ULw9Zr7v9w1K9aF+/y/0HNqPM8a+L+BI9BMbwj7v2G4p+Uva/i/OzZ0RqMZ+L8dmn/iar73v/CuA7Ka8Pa/gaaeQHGn9b9jkyjAH1L0v3WZGhdAU/O/osVP/g7P8r+90HxHNvfyvwhNBtgrqvm/\",\"dtype\":\"float64\",\"shape\":[75]},\"y\":{\"__ndarray__\":\"GhExyth1ND/Sv8nbtpRIP2vylNV0PVE/aTum7souWD/At0SJ8fVgPw3Iuahxymc/MSNhhJWvcD/bTfBN02d3P2zb5nxnaoA/CD5h5MAGhz8NmeH1TyaQP+zrCsc9p5Y/LbKd76fGnz/bLW5ISEmmPww9YvTcQq8/JV2OstnstT8Er5Y7M8G+P0c+r3jqkcU/5h99k6ZBzj88bCIzFzjVP4enV8oyxN0//yH99nXg5D8qOpLLf0jtP5kqGJXUifQ/c9cS8kHP/D+/DpwzojQEQIEmwoanVwxA4lgXt9HgE0BSSZ2AJuIbQAMJih9jjiNA5q4l5INuK0AwTKYKRj0zQNv5fmq8/DpAaCJseHrtQkB/+zpwzoxKQM3MzMzMeFJAZmZmZmZqWEAAAAAAAFxeQM3MzMzMJmJAmpmZmZkfZUBmZmZmZhhoQDMzMzMzEWtAAAAAAAAKbkBmZmZmZoFwQM3MzMzM/XFAMzMzMzN6c0CamZmZmfZ0QAAAAAAAc3ZAZmZmZmbvd0DNzMzMzGt5QDMzMzMz6HpAmpmZmZlkfEAAAAAAAOF9QGZmZmZmXX9AZmZmZuZsgECamZmZGSuBQM3MzMxM6YFAAAAAAICngkAzMzMzs2WDQGZmZmbmI4RAmpmZmRnihEDNzMzMTKCFQAAAAACAXoZAMzMzM7Mch0BmZmZm5tqHQJqZmZkZmYhAzczMzExXiUAAAAAAgBWKQDMzMzOz04pAZmZmZuaRi0CamZmZGVCMQM3MzMxMDo1AAAAAAIDMjUAzMzMzs4qOQGZmZmbmSI9A\",\"dtype\":\"float64\",\"shape\":[75]}},\"selected\":{\"id\":\"14b74c65-1431-45ff-b190-c60610c7ca27\",\"type\":\"Selection\"},\"selection_policy\":{\"id\":\"d439a944-a1e4-419c-bae2-0353f3c42566\",\"type\":\"UnionRenderers\"}},\"id\":\"3f615c61-5e87-4223-9928-2ead8b3dcd95\",\"type\":\"ColumnDataSource\"},{\"attributes\":{\"children\":[{\"id\":\"4e0aa6a3-155c-4077-a924-459ca1f68d87\",\"subtype\":\"Figure\",\"type\":\"Plot\"},{\"id\":\"3d1be07f-977f-464c-8cb4-d1480de2c575\",\"subtype\":\"Figure\",\"type\":\"Plot\"},{\"id\":\"c57cebc9-83ac-44df-8982-fabc8fb07f48\",\"subtype\":\"Figure\",\"type\":\"Plot\"}]},\"id\":\"b4891c3b-2795-4332-929b-f4ab1b1b4be9\",\"type\":\"Row\"},{\"attributes\":{\"line_alpha\":0.1,\"line_color\":\"#1f77b4\",\"line_width\":1.5,\"x\":{\"field\":\"x\"},\"y\":{\"field\":\"y\"}},\"id\":\"60e7c92a-b148-456c-a186-c371b70d71a4\",\"type\":\"Line\"}],\"root_ids\":[\"99fe8852-92f1-48c8-92ad-57eefd9253d4\"]},\"title\":\"Bokeh Application\",\"version\":\"0.12.16\"}};\n",
       "  var render_items = [{\"docid\":\"64605d04-4e0f-467b-9121-94450ac59eac\",\"elementid\":\"18866475-968e-4c07-8d39-a1255af73ff2\",\"modelid\":\"99fe8852-92f1-48c8-92ad-57eefd9253d4\"}];\n",
       "  root.Bokeh.embed.embed_items_notebook(docs_json, render_items);\n",
       "\n",
       "  }\n",
       "  if (root.Bokeh !== undefined) {\n",
       "    embed_document(root);\n",
       "  } else {\n",
       "    var attempts = 0;\n",
       "    var timer = setInterval(function(root) {\n",
       "      if (root.Bokeh !== undefined) {\n",
       "        embed_document(root);\n",
       "        clearInterval(timer);\n",
       "      }\n",
       "      attempts++;\n",
       "      if (attempts > 100) {\n",
       "        console.log(\"Bokeh: ERROR: Unable to run BokehJS code because BokehJS library is missing\")\n",
       "        clearInterval(timer);\n",
       "      }\n",
       "    }, 10, root)\n",
       "  }\n",
       "})(window);"
      ],
      "application/vnd.bokehjs_exec.v0+json": ""
     },
     "metadata": {
      "application/vnd.bokehjs_exec.v0+json": {
       "id": "99fe8852-92f1-48c8-92ad-57eefd9253d4"
      }
     },
     "output_type": "display_data"
    },
    {
     "data": {
      "text/markdown": [
       "*FIGURE.* Cooling rates & difference."
      ],
      "text/plain": [
       "<IPython.core.display.Markdown object>"
      ]
     },
     "metadata": {},
     "output_type": "display_data"
    },
    {
     "data": {
      "text/html": [
       "<a id=\"Fluxes._mls.\"></a>"
      ],
      "text/plain": [
       "<IPython.core.display.HTML object>"
      ]
     },
     "metadata": {},
     "output_type": "display_data"
    },
    {
     "data": {
      "text/markdown": [
       "# Fluxes. mls."
      ],
      "text/plain": [
       "<IPython.core.display.Markdown object>"
      ]
     },
     "metadata": {},
     "output_type": "display_data"
    },
    {
     "data": {
      "text/html": [
       "\n",
       "<div class=\"bk-root\">\n",
       "    <div class=\"bk-plotdiv\" id=\"5053c83c-a691-4629-936c-50ddb0080929\"></div>\n",
       "</div>"
      ]
     },
     "metadata": {},
     "output_type": "display_data"
    },
    {
     "data": {
      "application/javascript": [
       "(function(root) {\n",
       "  function embed_document(root) {\n",
       "    \n",
       "  var docs_json = {\"92c18988-e887-4e31-9f18-123baefc99f5\":{\"roots\":{\"references\":[{\"attributes\":{},\"id\":\"a399b5da-1f23-48a7-acf7-467ccb985e76\",\"type\":\"WheelZoomTool\"},{\"attributes\":{\"fill_color\":{\"value\":\"#1f77b4\"},\"line_color\":{\"value\":\"#1f77b4\"},\"top\":{\"field\":\"flux\"},\"width\":{\"value\":0.9},\"x\":{\"field\":\"band\"}},\"id\":\"cdfc8aea-adee-4a1a-810d-f8e1805f182f\",\"type\":\"VBar\"},{\"attributes\":{\"bottom_units\":\"screen\",\"fill_alpha\":{\"value\":0.5},\"fill_color\":{\"value\":\"lightgrey\"},\"left_units\":\"screen\",\"level\":\"overlay\",\"line_alpha\":{\"value\":1.0},\"line_color\":{\"value\":\"black\"},\"line_dash\":[4,4],\"line_width\":{\"value\":2},\"plot\":null,\"render_mode\":\"css\",\"right_units\":\"screen\",\"top_units\":\"screen\"},\"id\":\"9a5d324e-316b-4b73-b01d-6807fee916e6\",\"type\":\"BoxAnnotation\"},{\"attributes\":{},\"id\":\"bf3c02e5-968d-4013-ab16-96ba14cb684b\",\"type\":\"CategoricalTickFormatter\"},{\"attributes\":{\"callback\":null,\"factors\":[\"1\",\"2\",\"3\",\"4\",\"5\",\"6\",\"7\",\"8\",\"9\",\"10\",\"11\"]},\"id\":\"e18bfab6-d78f-430e-9e34-457bd2460d22\",\"type\":\"FactorRange\"},{\"attributes\":{},\"id\":\"80e7c047-c2f0-4020-9c8c-75b3de005bd2\",\"type\":\"LinearScale\"},{\"attributes\":{\"fill_color\":{\"value\":\"#1f77b4\"},\"line_color\":{\"value\":\"#1f77b4\"},\"top\":{\"field\":\"flux\"},\"width\":{\"value\":0.9},\"x\":{\"field\":\"band\"}},\"id\":\"1ddd4329-351b-4046-b543-423e3a109d42\",\"type\":\"VBar\"},{\"attributes\":{},\"id\":\"cfe0b4ea-8016-49ee-b766-d4031d719da3\",\"type\":\"Selection\"},{\"attributes\":{\"below\":[{\"id\":\"47fc2c47-3a8a-441b-b328-65ae901baffb\",\"type\":\"CategoricalAxis\"}],\"left\":[{\"id\":\"0a0f260f-c9e8-4213-aef6-ba06dc0f4f99\",\"type\":\"LinearAxis\"}],\"plot_height\":300,\"plot_width\":300,\"renderers\":[{\"id\":\"47fc2c47-3a8a-441b-b328-65ae901baffb\",\"type\":\"CategoricalAxis\"},{\"id\":\"70f762a0-aac9-4651-8415-aa9b65b20840\",\"type\":\"Grid\"},{\"id\":\"0a0f260f-c9e8-4213-aef6-ba06dc0f4f99\",\"type\":\"LinearAxis\"},{\"id\":\"c13cfcdc-49fc-4803-91ab-8bb80985936b\",\"type\":\"Grid\"},{\"id\":\"781ac2fe-5f9a-4cd5-a4df-755368f65f7c\",\"type\":\"BoxAnnotation\"},{\"id\":\"85a377f3-6371-43c0-9704-6683e70aaed2\",\"type\":\"GlyphRenderer\"}],\"title\":{\"id\":\"27160e6f-8228-4b20-80e7-929e91642844\",\"type\":\"Title\"},\"toolbar\":{\"id\":\"5e30e34a-46de-4899-af1a-098a97b0d9bf\",\"type\":\"Toolbar\"},\"toolbar_location\":null,\"x_range\":{\"id\":\"034f6096-3ab0-4673-b1a4-2c0bf71f0499\",\"type\":\"FactorRange\"},\"x_scale\":{\"id\":\"afb8733a-bbc2-42b0-b6ed-4c90a88f5afb\",\"type\":\"CategoricalScale\"},\"y_range\":{\"id\":\"4cb42089-ec73-47a2-91e0-467144a65e87\",\"type\":\"DataRange1d\"},\"y_scale\":{\"id\":\"d073e3b1-7ae8-4c27-97c4-10eeda0b88aa\",\"type\":\"LinearScale\"}},\"id\":\"070487f9-c11e-4c29-840d-baf8bc94aa96\",\"subtype\":\"Figure\",\"type\":\"Plot\"},{\"attributes\":{\"callback\":null,\"factors\":[\"1\",\"2\",\"3\",\"4\",\"5\",\"6\",\"7\",\"8\",\"9\",\"10\",\"11\"]},\"id\":\"152571b2-b2a0-4c44-8003-8c58ec7fc419\",\"type\":\"FactorRange\"},{\"attributes\":{\"overlay\":{\"id\":\"9a5d324e-316b-4b73-b01d-6807fee916e6\",\"type\":\"BoxAnnotation\"}},\"id\":\"489d7257-8257-47e8-8064-ef03f230e7ce\",\"type\":\"BoxZoomTool\"},{\"attributes\":{},\"id\":\"e2ccbf8e-d097-4feb-b5e2-cf666c6f676b\",\"type\":\"PanTool\"},{\"attributes\":{},\"id\":\"434854c8-0e52-465e-a22b-a299e4d2984c\",\"type\":\"Selection\"},{\"attributes\":{},\"id\":\"85c79386-2b29-468e-9021-619b0b7da77c\",\"type\":\"UnionRenderers\"},{\"attributes\":{},\"id\":\"3185f4db-e62a-4e1f-ad8e-263868a638db\",\"type\":\"HelpTool\"},{\"attributes\":{},\"id\":\"b3792d3b-260c-4092-9711-bbc735eff9e3\",\"type\":\"ResetTool\"},{\"attributes\":{\"plot\":null,\"text\":\"TOA flux. CLIRAD (single-run) - CRD.\"},\"id\":\"5136e97a-1fad-4f18-9014-48a28967d960\",\"type\":\"Title\"},{\"attributes\":{\"fill_alpha\":{\"value\":0.1},\"fill_color\":{\"value\":\"#1f77b4\"},\"line_alpha\":{\"value\":0.1},\"line_color\":{\"value\":\"#1f77b4\"},\"top\":{\"field\":\"flux\"},\"width\":{\"value\":0.9},\"x\":{\"field\":\"band\"}},\"id\":\"fd8d9e97-98a8-4c4c-8061-39e72b50058e\",\"type\":\"VBar\"},{\"attributes\":{\"overlay\":{\"id\":\"45d2abf4-7035-4b40-9193-939a722081ec\",\"type\":\"BoxAnnotation\"}},\"id\":\"a4049013-a60b-433d-a0d0-558fdb7a0e19\",\"type\":\"BoxZoomTool\"},{\"attributes\":{},\"id\":\"ff6b6389-9c3f-4632-be96-99d481889dc9\",\"type\":\"PanTool\"},{\"attributes\":{\"bottom_units\":\"screen\",\"fill_alpha\":{\"value\":0.5},\"fill_color\":{\"value\":\"lightgrey\"},\"left_units\":\"screen\",\"level\":\"overlay\",\"line_alpha\":{\"value\":1.0},\"line_color\":{\"value\":\"black\"},\"line_dash\":[4,4],\"line_width\":{\"value\":2},\"plot\":null,\"render_mode\":\"css\",\"right_units\":\"screen\",\"top_units\":\"screen\"},\"id\":\"45d2abf4-7035-4b40-9193-939a722081ec\",\"type\":\"BoxAnnotation\"},{\"attributes\":{},\"id\":\"9d564501-fdad-4724-a92d-4d63be7a223c\",\"type\":\"SaveTool\"},{\"attributes\":{},\"id\":\"4a0d7de8-8f89-4625-b654-e0d2aa58faa7\",\"type\":\"SaveTool\"},{\"attributes\":{\"data_source\":{\"id\":\"361f97ec-301b-4db7-9e45-2e8e6613a3bf\",\"type\":\"ColumnDataSource\"},\"glyph\":{\"id\":\"87aaaa53-81ec-4a65-85b9-3ea014238e0b\",\"type\":\"VBar\"},\"hover_glyph\":null,\"muted_glyph\":null,\"nonselection_glyph\":{\"id\":\"fd8d9e97-98a8-4c4c-8061-39e72b50058e\",\"type\":\"VBar\"},\"selection_glyph\":null,\"view\":{\"id\":\"a05e497c-b655-4c3e-9f7d-c1d3dc5df4b8\",\"type\":\"CDSView\"}},\"id\":\"6f281bd0-3074-4104-9533-256300495e0b\",\"type\":\"GlyphRenderer\"},{\"attributes\":{\"axis_label\":\"spectral band\",\"formatter\":{\"id\":\"71b9c974-4f2a-4306-a327-70c96b8ad44e\",\"type\":\"CategoricalTickFormatter\"},\"plot\":{\"id\":\"15d1c129-1941-47b3-9749-e898b33df3fa\",\"subtype\":\"Figure\",\"type\":\"Plot\"},\"ticker\":{\"id\":\"4183f342-b626-409d-946f-1e108efcb1c4\",\"type\":\"CategoricalTicker\"}},\"id\":\"cce2763d-890e-4a3c-803f-dedf4027a459\",\"type\":\"CategoricalAxis\"},{\"attributes\":{\"plot\":{\"id\":\"15d1c129-1941-47b3-9749-e898b33df3fa\",\"subtype\":\"Figure\",\"type\":\"Plot\"},\"ticker\":{\"id\":\"4183f342-b626-409d-946f-1e108efcb1c4\",\"type\":\"CategoricalTicker\"}},\"id\":\"cc05d221-f5bc-4ad2-861c-c7626419e0d0\",\"type\":\"Grid\"},{\"attributes\":{\"source\":{\"id\":\"361f97ec-301b-4db7-9e45-2e8e6613a3bf\",\"type\":\"ColumnDataSource\"}},\"id\":\"a05e497c-b655-4c3e-9f7d-c1d3dc5df4b8\",\"type\":\"CDSView\"},{\"attributes\":{},\"id\":\"7e6739bf-056c-4d6c-87a4-5413cbbc5727\",\"type\":\"PanTool\"},{\"attributes\":{\"active_drag\":\"auto\",\"active_inspect\":\"auto\",\"active_scroll\":\"auto\",\"active_tap\":\"auto\",\"tools\":[{\"id\":\"e2ccbf8e-d097-4feb-b5e2-cf666c6f676b\",\"type\":\"PanTool\"},{\"id\":\"858bda97-5e68-408b-b66c-ee802056e75b\",\"type\":\"WheelZoomTool\"},{\"id\":\"3e821681-9b20-48e3-a3b8-9aa077a5d183\",\"type\":\"BoxZoomTool\"},{\"id\":\"68ad54b1-08ab-4100-a605-044d5c3964ff\",\"type\":\"SaveTool\"},{\"id\":\"45929fcd-8efc-469d-8a4e-2d993b4859af\",\"type\":\"ResetTool\"},{\"id\":\"3185f4db-e62a-4e1f-ad8e-263868a638db\",\"type\":\"HelpTool\"}]},\"id\":\"5e30e34a-46de-4899-af1a-098a97b0d9bf\",\"type\":\"Toolbar\"},{\"attributes\":{\"callback\":null,\"data\":{\"band\":[\"1\",\"2\",\"3\",\"4\",\"5\",\"6\",\"7\",\"8\",\"9\",\"10\",\"11\"],\"flux\":{\"__ndarray__\":\"reC3IcZ5ScAmHlA25UxUwCo1e6AVWEHAv9U6cTnSRcBZFeEmo9o0wClXHd4YeyHApdI+DGOJHcCwxRPm4iwZwDiI1oo28zPAaf8DrFVfPsDM0k7N5T4QwA==\",\"dtype\":\"float64\",\"shape\":[11]}},\"selected\":{\"id\":\"434854c8-0e52-465e-a22b-a299e4d2984c\",\"type\":\"Selection\"},\"selection_policy\":{\"id\":\"ff0a1b79-8e7f-482e-b3bb-d74f570ba908\",\"type\":\"UnionRenderers\"}},\"id\":\"adfb48f4-936f-42ef-aae3-6888f80a7da5\",\"type\":\"ColumnDataSource\"},{\"attributes\":{\"data_source\":{\"id\":\"34a37fc7-5992-4463-8629-376b509d3deb\",\"type\":\"ColumnDataSource\"},\"glyph\":{\"id\":\"cdfc8aea-adee-4a1a-810d-f8e1805f182f\",\"type\":\"VBar\"},\"hover_glyph\":null,\"muted_glyph\":null,\"nonselection_glyph\":{\"id\":\"f5fa29fc-e88b-49a4-b26f-bdbcee386586\",\"type\":\"VBar\"},\"selection_glyph\":null,\"view\":{\"id\":\"9d6c6ae9-95c0-4330-b96a-d195e79c4f03\",\"type\":\"CDSView\"}},\"id\":\"252dd4c8-28cf-4068-b5e1-b146288053f8\",\"type\":\"GlyphRenderer\"},{\"attributes\":{},\"id\":\"80820f6d-15c6-42d7-b4fe-0ba2d9b73b02\",\"type\":\"CategoricalScale\"},{\"attributes\":{},\"id\":\"4183f342-b626-409d-946f-1e108efcb1c4\",\"type\":\"CategoricalTicker\"},{\"attributes\":{},\"id\":\"68ad54b1-08ab-4100-a605-044d5c3964ff\",\"type\":\"SaveTool\"},{\"attributes\":{},\"id\":\"54caf09b-5cd3-4418-93c2-919449582053\",\"type\":\"Selection\"},{\"attributes\":{},\"id\":\"49df0d57-d4bf-4eb2-80cd-042a8e2e1e21\",\"type\":\"HelpTool\"},{\"attributes\":{},\"id\":\"45929fcd-8efc-469d-8a4e-2d993b4859af\",\"type\":\"ResetTool\"},{\"attributes\":{\"toolbar\":{\"id\":\"a5257c5c-3327-41a3-87df-5d4aa4cce4cc\",\"type\":\"ProxyToolbar\"},\"toolbar_location\":\"above\"},\"id\":\"5bd194c3-55f6-4433-b053-0c6380821eed\",\"type\":\"ToolbarBox\"},{\"attributes\":{\"children\":[{\"id\":\"361d7165-0779-48d8-bb4e-f6a1d2d8b3bd\",\"type\":\"Row\"}]},\"id\":\"d38c5bac-0dd0-41d9-88bb-97e986a19adf\",\"type\":\"Column\"},{\"attributes\":{\"plot\":null,\"text\":\"SFC flux. CLIRAD (single-run) - CRD.\"},\"id\":\"27160e6f-8228-4b20-80e7-929e91642844\",\"type\":\"Title\"},{\"attributes\":{\"callback\":null},\"id\":\"4c4edcd2-3ca0-4783-8f62-3447d4e17882\",\"type\":\"DataRange1d\"},{\"attributes\":{\"callback\":null},\"id\":\"4cb42089-ec73-47a2-91e0-467144a65e87\",\"type\":\"DataRange1d\"},{\"attributes\":{},\"id\":\"8cfd9009-10d7-4898-909e-b9f64adca733\",\"type\":\"UnionRenderers\"},{\"attributes\":{},\"id\":\"fd96c693-ed25-4494-82d1-e66e78fe6574\",\"type\":\"ResetTool\"},{\"attributes\":{\"active_drag\":\"auto\",\"active_inspect\":\"auto\",\"active_scroll\":\"auto\",\"active_tap\":\"auto\",\"tools\":[{\"id\":\"ff6b6389-9c3f-4632-be96-99d481889dc9\",\"type\":\"PanTool\"},{\"id\":\"a399b5da-1f23-48a7-acf7-467ccb985e76\",\"type\":\"WheelZoomTool\"},{\"id\":\"489d7257-8257-47e8-8064-ef03f230e7ce\",\"type\":\"BoxZoomTool\"},{\"id\":\"9d564501-fdad-4724-a92d-4d63be7a223c\",\"type\":\"SaveTool\"},{\"id\":\"b3792d3b-260c-4092-9711-bbc735eff9e3\",\"type\":\"ResetTool\"},{\"id\":\"5608fd57-b1c4-4583-8327-4ea017f05302\",\"type\":\"HelpTool\"}]},\"id\":\"b368bf72-3822-4ed0-9b7e-e210b822ebb9\",\"type\":\"Toolbar\"},{\"attributes\":{\"below\":[{\"id\":\"5b86af36-a67f-49bd-a06b-b52da10e62bf\",\"type\":\"CategoricalAxis\"}],\"left\":[{\"id\":\"43c5ca72-3ddd-45a8-a4bf-a81042d72dd2\",\"type\":\"LinearAxis\"}],\"plot_height\":300,\"plot_width\":300,\"renderers\":[{\"id\":\"5b86af36-a67f-49bd-a06b-b52da10e62bf\",\"type\":\"CategoricalAxis\"},{\"id\":\"7a6eaa91-2823-4773-b556-2ac1a0b72ba0\",\"type\":\"Grid\"},{\"id\":\"43c5ca72-3ddd-45a8-a4bf-a81042d72dd2\",\"type\":\"LinearAxis\"},{\"id\":\"38015e43-7463-41df-83bd-08024ac71962\",\"type\":\"Grid\"},{\"id\":\"9a5d324e-316b-4b73-b01d-6807fee916e6\",\"type\":\"BoxAnnotation\"},{\"id\":\"6f281bd0-3074-4104-9533-256300495e0b\",\"type\":\"GlyphRenderer\"}],\"title\":{\"id\":\"5136e97a-1fad-4f18-9014-48a28967d960\",\"type\":\"Title\"},\"toolbar\":{\"id\":\"b368bf72-3822-4ed0-9b7e-e210b822ebb9\",\"type\":\"Toolbar\"},\"toolbar_location\":null,\"x_range\":{\"id\":\"e18bfab6-d78f-430e-9e34-457bd2460d22\",\"type\":\"FactorRange\"},\"x_scale\":{\"id\":\"6544f125-9855-4a49-bdd7-dac5a210e8bc\",\"type\":\"CategoricalScale\"},\"y_range\":{\"id\":\"4c4edcd2-3ca0-4783-8f62-3447d4e17882\",\"type\":\"DataRange1d\"},\"y_scale\":{\"id\":\"be306bb6-ddc5-40ee-b175-c9073c1683a5\",\"type\":\"LinearScale\"}},\"id\":\"9246a851-d5d0-4d10-842f-b53a86bdae12\",\"subtype\":\"Figure\",\"type\":\"Plot\"},{\"attributes\":{\"fill_alpha\":{\"value\":0.1},\"fill_color\":{\"value\":\"#1f77b4\"},\"line_alpha\":{\"value\":0.1},\"line_color\":{\"value\":\"#1f77b4\"},\"top\":{\"field\":\"flux\"},\"width\":{\"value\":0.9},\"x\":{\"field\":\"band\"}},\"id\":\"f5fa29fc-e88b-49a4-b26f-bdbcee386586\",\"type\":\"VBar\"},{\"attributes\":{},\"id\":\"fb918541-12e3-47bd-ba9f-fcbb8d8f1b44\",\"type\":\"WheelZoomTool\"},{\"attributes\":{\"bottom_units\":\"screen\",\"fill_alpha\":{\"value\":0.5},\"fill_color\":{\"value\":\"lightgrey\"},\"left_units\":\"screen\",\"level\":\"overlay\",\"line_alpha\":{\"value\":1.0},\"line_color\":{\"value\":\"black\"},\"line_dash\":[4,4],\"line_width\":{\"value\":2},\"plot\":null,\"render_mode\":\"css\",\"right_units\":\"screen\",\"top_units\":\"screen\"},\"id\":\"781ac2fe-5f9a-4cd5-a4df-755368f65f7c\",\"type\":\"BoxAnnotation\"},{\"attributes\":{\"source\":{\"id\":\"34a37fc7-5992-4463-8629-376b509d3deb\",\"type\":\"ColumnDataSource\"}},\"id\":\"9d6c6ae9-95c0-4330-b96a-d195e79c4f03\",\"type\":\"CDSView\"},{\"attributes\":{},\"id\":\"858bda97-5e68-408b-b66c-ee802056e75b\",\"type\":\"WheelZoomTool\"},{\"attributes\":{\"dimension\":1,\"plot\":{\"id\":\"15d1c129-1941-47b3-9749-e898b33df3fa\",\"subtype\":\"Figure\",\"type\":\"Plot\"},\"ticker\":{\"id\":\"f031d853-bb7d-4ebf-855f-a4350947acb6\",\"type\":\"BasicTicker\"}},\"id\":\"e7c57b0c-94b1-40ba-8a49-0f5a75f64013\",\"type\":\"Grid\"},{\"attributes\":{\"children\":[{\"id\":\"9246a851-d5d0-4d10-842f-b53a86bdae12\",\"subtype\":\"Figure\",\"type\":\"Plot\"},{\"id\":\"070487f9-c11e-4c29-840d-baf8bc94aa96\",\"subtype\":\"Figure\",\"type\":\"Plot\"},{\"id\":\"15d1c129-1941-47b3-9749-e898b33df3fa\",\"subtype\":\"Figure\",\"type\":\"Plot\"}]},\"id\":\"361d7165-0779-48d8-bb4e-f6a1d2d8b3bd\",\"type\":\"Row\"},{\"attributes\":{\"callback\":null},\"id\":\"7825122a-9194-4314-ba5a-01d5556f4f51\",\"type\":\"DataRange1d\"},{\"attributes\":{\"callback\":null,\"factors\":[\"1\",\"2\",\"3\",\"4\",\"5\",\"6\",\"7\",\"8\",\"9\",\"10\",\"11\"]},\"id\":\"034f6096-3ab0-4673-b1a4-2c0bf71f0499\",\"type\":\"FactorRange\"},{\"attributes\":{\"callback\":null,\"data\":{\"band\":[\"1\",\"2\",\"3\",\"4\",\"5\",\"6\",\"7\",\"8\",\"9\",\"10\",\"11\"],\"flux\":{\"__ndarray__\":\"JEG4Agq1MMAkSRCugMoiQIl7LH3oGjrAGLSQgNGdQMCobi7+thM6wKStSiL7QCJAf8ADAwh3PMBxWvCirzA9wCjwTj49PEPAD6mzpO3WRcBy++WTFXFHwA==\",\"dtype\":\"float64\",\"shape\":[11]}},\"selected\":{\"id\":\"54caf09b-5cd3-4418-93c2-919449582053\",\"type\":\"Selection\"},\"selection_policy\":{\"id\":\"8cfd9009-10d7-4898-909e-b9f64adca733\",\"type\":\"UnionRenderers\"}},\"id\":\"361f97ec-301b-4db7-9e45-2e8e6613a3bf\",\"type\":\"ColumnDataSource\"},{\"attributes\":{\"tools\":[{\"id\":\"ff6b6389-9c3f-4632-be96-99d481889dc9\",\"type\":\"PanTool\"},{\"id\":\"a399b5da-1f23-48a7-acf7-467ccb985e76\",\"type\":\"WheelZoomTool\"},{\"id\":\"489d7257-8257-47e8-8064-ef03f230e7ce\",\"type\":\"BoxZoomTool\"},{\"id\":\"9d564501-fdad-4724-a92d-4d63be7a223c\",\"type\":\"SaveTool\"},{\"id\":\"b3792d3b-260c-4092-9711-bbc735eff9e3\",\"type\":\"ResetTool\"},{\"id\":\"5608fd57-b1c4-4583-8327-4ea017f05302\",\"type\":\"HelpTool\"},{\"id\":\"e2ccbf8e-d097-4feb-b5e2-cf666c6f676b\",\"type\":\"PanTool\"},{\"id\":\"858bda97-5e68-408b-b66c-ee802056e75b\",\"type\":\"WheelZoomTool\"},{\"id\":\"3e821681-9b20-48e3-a3b8-9aa077a5d183\",\"type\":\"BoxZoomTool\"},{\"id\":\"68ad54b1-08ab-4100-a605-044d5c3964ff\",\"type\":\"SaveTool\"},{\"id\":\"45929fcd-8efc-469d-8a4e-2d993b4859af\",\"type\":\"ResetTool\"},{\"id\":\"3185f4db-e62a-4e1f-ad8e-263868a638db\",\"type\":\"HelpTool\"},{\"id\":\"7e6739bf-056c-4d6c-87a4-5413cbbc5727\",\"type\":\"PanTool\"},{\"id\":\"fb918541-12e3-47bd-ba9f-fcbb8d8f1b44\",\"type\":\"WheelZoomTool\"},{\"id\":\"a4049013-a60b-433d-a0d0-558fdb7a0e19\",\"type\":\"BoxZoomTool\"},{\"id\":\"4a0d7de8-8f89-4625-b654-e0d2aa58faa7\",\"type\":\"SaveTool\"},{\"id\":\"fd96c693-ed25-4494-82d1-e66e78fe6574\",\"type\":\"ResetTool\"},{\"id\":\"49df0d57-d4bf-4eb2-80cd-042a8e2e1e21\",\"type\":\"HelpTool\"}]},\"id\":\"a5257c5c-3327-41a3-87df-5d4aa4cce4cc\",\"type\":\"ProxyToolbar\"},{\"attributes\":{\"children\":[{\"id\":\"5bd194c3-55f6-4433-b053-0c6380821eed\",\"type\":\"ToolbarBox\"},{\"id\":\"d38c5bac-0dd0-41d9-88bb-97e986a19adf\",\"type\":\"Column\"}]},\"id\":\"8a7ddd03-f86d-47f6-b568-f7e98b0b456b\",\"type\":\"Column\"},{\"attributes\":{\"axis_label\":\"flux (W m-2)\",\"formatter\":{\"id\":\"21723fa0-1792-4a26-a0cf-dd6640413583\",\"type\":\"BasicTickFormatter\"},\"plot\":{\"id\":\"15d1c129-1941-47b3-9749-e898b33df3fa\",\"subtype\":\"Figure\",\"type\":\"Plot\"},\"ticker\":{\"id\":\"f031d853-bb7d-4ebf-855f-a4350947acb6\",\"type\":\"BasicTicker\"}},\"id\":\"5c84193d-81a5-4af0-bfca-415fd063159c\",\"type\":\"LinearAxis\"},{\"attributes\":{\"fill_color\":{\"value\":\"#1f77b4\"},\"line_color\":{\"value\":\"#1f77b4\"},\"top\":{\"field\":\"flux\"},\"width\":{\"value\":0.9},\"x\":{\"field\":\"band\"}},\"id\":\"87aaaa53-81ec-4a65-85b9-3ea014238e0b\",\"type\":\"VBar\"},{\"attributes\":{},\"id\":\"21723fa0-1792-4a26-a0cf-dd6640413583\",\"type\":\"BasicTickFormatter\"},{\"attributes\":{},\"id\":\"ff0a1b79-8e7f-482e-b3bb-d74f570ba908\",\"type\":\"UnionRenderers\"},{\"attributes\":{},\"id\":\"5608fd57-b1c4-4583-8327-4ea017f05302\",\"type\":\"HelpTool\"},{\"attributes\":{},\"id\":\"58c7d7c5-3bf1-4b35-8b69-47eed9d336dc\",\"type\":\"BasicTickFormatter\"},{\"attributes\":{\"overlay\":{\"id\":\"781ac2fe-5f9a-4cd5-a4df-755368f65f7c\",\"type\":\"BoxAnnotation\"}},\"id\":\"3e821681-9b20-48e3-a3b8-9aa077a5d183\",\"type\":\"BoxZoomTool\"},{\"attributes\":{},\"id\":\"db3241e6-1929-4436-9c40-d6a7fbcc77b6\",\"type\":\"CategoricalTickFormatter\"},{\"attributes\":{},\"id\":\"f031d853-bb7d-4ebf-855f-a4350947acb6\",\"type\":\"BasicTicker\"},{\"attributes\":{},\"id\":\"4ff65912-b8ff-44e5-9ff3-4aa69b1a3ab8\",\"type\":\"BasicTickFormatter\"},{\"attributes\":{},\"id\":\"d073e3b1-7ae8-4c27-97c4-10eeda0b88aa\",\"type\":\"LinearScale\"},{\"attributes\":{},\"id\":\"6d5dd1dd-82df-4664-bd09-0617c285c0cf\",\"type\":\"CategoricalTicker\"},{\"attributes\":{},\"id\":\"6544f125-9855-4a49-bdd7-dac5a210e8bc\",\"type\":\"CategoricalScale\"},{\"attributes\":{\"dimension\":1,\"plot\":{\"id\":\"9246a851-d5d0-4d10-842f-b53a86bdae12\",\"subtype\":\"Figure\",\"type\":\"Plot\"},\"ticker\":{\"id\":\"c6847e5a-40f0-4ebb-8dbd-64aa9d347d7a\",\"type\":\"BasicTicker\"}},\"id\":\"38015e43-7463-41df-83bd-08024ac71962\",\"type\":\"Grid\"},{\"attributes\":{},\"id\":\"c6847e5a-40f0-4ebb-8dbd-64aa9d347d7a\",\"type\":\"BasicTicker\"},{\"attributes\":{\"fill_alpha\":{\"value\":0.1},\"fill_color\":{\"value\":\"#1f77b4\"},\"line_alpha\":{\"value\":0.1},\"line_color\":{\"value\":\"#1f77b4\"},\"top\":{\"field\":\"flux\"},\"width\":{\"value\":0.9},\"x\":{\"field\":\"band\"}},\"id\":\"24b0c1b4-94ea-4f6c-ba18-f34aa0863f54\",\"type\":\"VBar\"},{\"attributes\":{\"axis_label\":\"spectral band\",\"formatter\":{\"id\":\"db3241e6-1929-4436-9c40-d6a7fbcc77b6\",\"type\":\"CategoricalTickFormatter\"},\"plot\":{\"id\":\"070487f9-c11e-4c29-840d-baf8bc94aa96\",\"subtype\":\"Figure\",\"type\":\"Plot\"},\"ticker\":{\"id\":\"c92e960c-903f-45d2-9fa7-d69c088b7c99\",\"type\":\"CategoricalTicker\"}},\"id\":\"47fc2c47-3a8a-441b-b328-65ae901baffb\",\"type\":\"CategoricalAxis\"},{\"attributes\":{\"axis_label\":\"flux (W m-2)\",\"formatter\":{\"id\":\"58c7d7c5-3bf1-4b35-8b69-47eed9d336dc\",\"type\":\"BasicTickFormatter\"},\"plot\":{\"id\":\"9246a851-d5d0-4d10-842f-b53a86bdae12\",\"subtype\":\"Figure\",\"type\":\"Plot\"},\"ticker\":{\"id\":\"c6847e5a-40f0-4ebb-8dbd-64aa9d347d7a\",\"type\":\"BasicTicker\"}},\"id\":\"43c5ca72-3ddd-45a8-a4bf-a81042d72dd2\",\"type\":\"LinearAxis\"},{\"attributes\":{\"plot\":null,\"text\":\"Atmosphere heating. CLIRAD (single-run) - CRD.\"},\"id\":\"7bf558f9-1153-41f3-b683-57829f19dd6a\",\"type\":\"Title\"},{\"attributes\":{},\"id\":\"71b9c974-4f2a-4306-a327-70c96b8ad44e\",\"type\":\"CategoricalTickFormatter\"},{\"attributes\":{\"below\":[{\"id\":\"cce2763d-890e-4a3c-803f-dedf4027a459\",\"type\":\"CategoricalAxis\"}],\"left\":[{\"id\":\"5c84193d-81a5-4af0-bfca-415fd063159c\",\"type\":\"LinearAxis\"}],\"plot_height\":300,\"plot_width\":300,\"renderers\":[{\"id\":\"cce2763d-890e-4a3c-803f-dedf4027a459\",\"type\":\"CategoricalAxis\"},{\"id\":\"cc05d221-f5bc-4ad2-861c-c7626419e0d0\",\"type\":\"Grid\"},{\"id\":\"5c84193d-81a5-4af0-bfca-415fd063159c\",\"type\":\"LinearAxis\"},{\"id\":\"e7c57b0c-94b1-40ba-8a49-0f5a75f64013\",\"type\":\"Grid\"},{\"id\":\"45d2abf4-7035-4b40-9193-939a722081ec\",\"type\":\"BoxAnnotation\"},{\"id\":\"252dd4c8-28cf-4068-b5e1-b146288053f8\",\"type\":\"GlyphRenderer\"}],\"title\":{\"id\":\"7bf558f9-1153-41f3-b683-57829f19dd6a\",\"type\":\"Title\"},\"toolbar\":{\"id\":\"04f9ed30-913c-41e0-a7d0-b599e1e0c6b7\",\"type\":\"Toolbar\"},\"toolbar_location\":null,\"x_range\":{\"id\":\"152571b2-b2a0-4c44-8003-8c58ec7fc419\",\"type\":\"FactorRange\"},\"x_scale\":{\"id\":\"80820f6d-15c6-42d7-b4fe-0ba2d9b73b02\",\"type\":\"CategoricalScale\"},\"y_range\":{\"id\":\"7825122a-9194-4314-ba5a-01d5556f4f51\",\"type\":\"DataRange1d\"},\"y_scale\":{\"id\":\"80e7c047-c2f0-4020-9c8c-75b3de005bd2\",\"type\":\"LinearScale\"}},\"id\":\"15d1c129-1941-47b3-9749-e898b33df3fa\",\"subtype\":\"Figure\",\"type\":\"Plot\"},{\"attributes\":{\"data_source\":{\"id\":\"adfb48f4-936f-42ef-aae3-6888f80a7da5\",\"type\":\"ColumnDataSource\"},\"glyph\":{\"id\":\"1ddd4329-351b-4046-b543-423e3a109d42\",\"type\":\"VBar\"},\"hover_glyph\":null,\"muted_glyph\":null,\"nonselection_glyph\":{\"id\":\"24b0c1b4-94ea-4f6c-ba18-f34aa0863f54\",\"type\":\"VBar\"},\"selection_glyph\":null,\"view\":{\"id\":\"80ec6e5e-1d40-467f-8155-ab9d27a086be\",\"type\":\"CDSView\"}},\"id\":\"85a377f3-6371-43c0-9704-6683e70aaed2\",\"type\":\"GlyphRenderer\"},{\"attributes\":{},\"id\":\"be306bb6-ddc5-40ee-b175-c9073c1683a5\",\"type\":\"LinearScale\"},{\"attributes\":{\"dimension\":1,\"plot\":{\"id\":\"070487f9-c11e-4c29-840d-baf8bc94aa96\",\"subtype\":\"Figure\",\"type\":\"Plot\"},\"ticker\":{\"id\":\"a447c637-a0a4-4710-b48e-969013c2c850\",\"type\":\"BasicTicker\"}},\"id\":\"c13cfcdc-49fc-4803-91ab-8bb80985936b\",\"type\":\"Grid\"},{\"attributes\":{\"plot\":{\"id\":\"9246a851-d5d0-4d10-842f-b53a86bdae12\",\"subtype\":\"Figure\",\"type\":\"Plot\"},\"ticker\":{\"id\":\"6d5dd1dd-82df-4664-bd09-0617c285c0cf\",\"type\":\"CategoricalTicker\"}},\"id\":\"7a6eaa91-2823-4773-b556-2ac1a0b72ba0\",\"type\":\"Grid\"},{\"attributes\":{\"source\":{\"id\":\"adfb48f4-936f-42ef-aae3-6888f80a7da5\",\"type\":\"ColumnDataSource\"}},\"id\":\"80ec6e5e-1d40-467f-8155-ab9d27a086be\",\"type\":\"CDSView\"},{\"attributes\":{},\"id\":\"a447c637-a0a4-4710-b48e-969013c2c850\",\"type\":\"BasicTicker\"},{\"attributes\":{\"callback\":null,\"data\":{\"band\":[\"1\",\"2\",\"3\",\"4\",\"5\",\"6\",\"7\",\"8\",\"9\",\"10\",\"11\"],\"flux\":{\"__ndarray__\":\"XIStAkrUMMDgsY6Z+o8gQAtMXegApzvAfNIm2hfHQMBAEvbtJO5CwFMCYhIu6EXAlEp4Qq83SsB6/N6mPxVHwCZJfJNLI0XApSXB4aYERsC3+2asR7lIwA==\",\"dtype\":\"float64\",\"shape\":[11]}},\"selected\":{\"id\":\"cfe0b4ea-8016-49ee-b766-d4031d719da3\",\"type\":\"Selection\"},\"selection_policy\":{\"id\":\"85c79386-2b29-468e-9021-619b0b7da77c\",\"type\":\"UnionRenderers\"}},\"id\":\"34a37fc7-5992-4463-8629-376b509d3deb\",\"type\":\"ColumnDataSource\"},{\"attributes\":{},\"id\":\"afb8733a-bbc2-42b0-b6ed-4c90a88f5afb\",\"type\":\"CategoricalScale\"},{\"attributes\":{},\"id\":\"c92e960c-903f-45d2-9fa7-d69c088b7c99\",\"type\":\"CategoricalTicker\"},{\"attributes\":{\"axis_label\":\"spectral band\",\"formatter\":{\"id\":\"bf3c02e5-968d-4013-ab16-96ba14cb684b\",\"type\":\"CategoricalTickFormatter\"},\"plot\":{\"id\":\"9246a851-d5d0-4d10-842f-b53a86bdae12\",\"subtype\":\"Figure\",\"type\":\"Plot\"},\"ticker\":{\"id\":\"6d5dd1dd-82df-4664-bd09-0617c285c0cf\",\"type\":\"CategoricalTicker\"}},\"id\":\"5b86af36-a67f-49bd-a06b-b52da10e62bf\",\"type\":\"CategoricalAxis\"},{\"attributes\":{\"axis_label\":\"flux (W m-2)\",\"formatter\":{\"id\":\"4ff65912-b8ff-44e5-9ff3-4aa69b1a3ab8\",\"type\":\"BasicTickFormatter\"},\"plot\":{\"id\":\"070487f9-c11e-4c29-840d-baf8bc94aa96\",\"subtype\":\"Figure\",\"type\":\"Plot\"},\"ticker\":{\"id\":\"a447c637-a0a4-4710-b48e-969013c2c850\",\"type\":\"BasicTicker\"}},\"id\":\"0a0f260f-c9e8-4213-aef6-ba06dc0f4f99\",\"type\":\"LinearAxis\"},{\"attributes\":{\"active_drag\":\"auto\",\"active_inspect\":\"auto\",\"active_scroll\":\"auto\",\"active_tap\":\"auto\",\"tools\":[{\"id\":\"7e6739bf-056c-4d6c-87a4-5413cbbc5727\",\"type\":\"PanTool\"},{\"id\":\"fb918541-12e3-47bd-ba9f-fcbb8d8f1b44\",\"type\":\"WheelZoomTool\"},{\"id\":\"a4049013-a60b-433d-a0d0-558fdb7a0e19\",\"type\":\"BoxZoomTool\"},{\"id\":\"4a0d7de8-8f89-4625-b654-e0d2aa58faa7\",\"type\":\"SaveTool\"},{\"id\":\"fd96c693-ed25-4494-82d1-e66e78fe6574\",\"type\":\"ResetTool\"},{\"id\":\"49df0d57-d4bf-4eb2-80cd-042a8e2e1e21\",\"type\":\"HelpTool\"}]},\"id\":\"04f9ed30-913c-41e0-a7d0-b599e1e0c6b7\",\"type\":\"Toolbar\"},{\"attributes\":{\"plot\":{\"id\":\"070487f9-c11e-4c29-840d-baf8bc94aa96\",\"subtype\":\"Figure\",\"type\":\"Plot\"},\"ticker\":{\"id\":\"c92e960c-903f-45d2-9fa7-d69c088b7c99\",\"type\":\"CategoricalTicker\"}},\"id\":\"70f762a0-aac9-4651-8415-aa9b65b20840\",\"type\":\"Grid\"}],\"root_ids\":[\"8a7ddd03-f86d-47f6-b568-f7e98b0b456b\"]},\"title\":\"Bokeh Application\",\"version\":\"0.12.16\"}};\n",
       "  var render_items = [{\"docid\":\"92c18988-e887-4e31-9f18-123baefc99f5\",\"elementid\":\"5053c83c-a691-4629-936c-50ddb0080929\",\"modelid\":\"8a7ddd03-f86d-47f6-b568-f7e98b0b456b\"}];\n",
       "  root.Bokeh.embed.embed_items_notebook(docs_json, render_items);\n",
       "\n",
       "  }\n",
       "  if (root.Bokeh !== undefined) {\n",
       "    embed_document(root);\n",
       "  } else {\n",
       "    var attempts = 0;\n",
       "    var timer = setInterval(function(root) {\n",
       "      if (root.Bokeh !== undefined) {\n",
       "        embed_document(root);\n",
       "        clearInterval(timer);\n",
       "      }\n",
       "      attempts++;\n",
       "      if (attempts > 100) {\n",
       "        console.log(\"Bokeh: ERROR: Unable to run BokehJS code because BokehJS library is missing\")\n",
       "        clearInterval(timer);\n",
       "      }\n",
       "    }, 10, root)\n",
       "  }\n",
       "})(window);"
      ],
      "application/vnd.bokehjs_exec.v0+json": ""
     },
     "metadata": {
      "application/vnd.bokehjs_exec.v0+json": {
       "id": "8a7ddd03-f86d-47f6-b568-f7e98b0b456b"
      }
     },
     "output_type": "display_data"
    },
    {
     "data": {
      "text/markdown": [
       "*FIGURE.* Difference between CLIRAD and CRD in TOA, SFC and net atmosphere flux, in each spectral band."
      ],
      "text/plain": [
       "<IPython.core.display.Markdown object>"
      ]
     },
     "metadata": {},
     "output_type": "display_data"
    },
    {
     "data": {
      "text/html": [
       "<div>\n",
       "<style scoped>\n",
       "    .dataframe tbody tr th:only-of-type {\n",
       "        vertical-align: middle;\n",
       "    }\n",
       "\n",
       "    .dataframe tbody tr th {\n",
       "        vertical-align: top;\n",
       "    }\n",
       "\n",
       "    .dataframe thead th {\n",
       "        text-align: right;\n",
       "    }\n",
       "</style>\n",
       "<table border=\"1\" class=\"dataframe\">\n",
       "  <thead>\n",
       "    <tr style=\"text-align: right;\">\n",
       "      <th></th>\n",
       "      <th>OLR flux</th>\n",
       "      <th>SFC flux</th>\n",
       "      <th>ATM heating</th>\n",
       "    </tr>\n",
       "    <tr>\n",
       "      <th>Sum over bands</th>\n",
       "      <th></th>\n",
       "      <th></th>\n",
       "      <th></th>\n",
       "    </tr>\n",
       "  </thead>\n",
       "  <tbody>\n",
       "    <tr>\n",
       "      <th>old CLIRAD - CRD</th>\n",
       "      <td>0.14</td>\n",
       "      <td>2.01</td>\n",
       "      <td>-1.73</td>\n",
       "    </tr>\n",
       "    <tr>\n",
       "      <th>CLIRAD (single-run) - CRD</th>\n",
       "      <td>-270.29</td>\n",
       "      <td>-308.14</td>\n",
       "      <td>-385.79</td>\n",
       "    </tr>\n",
       "    <tr>\n",
       "      <th>CRD</th>\n",
       "      <td>-290.39</td>\n",
       "      <td>308.14</td>\n",
       "      <td>-174.89</td>\n",
       "    </tr>\n",
       "  </tbody>\n",
       "</table>\n",
       "</div>"
      ],
      "text/plain": [
       "                           OLR flux  SFC flux  ATM heating\n",
       "Sum over bands                                            \n",
       "old CLIRAD - CRD               0.14      2.01        -1.73\n",
       "CLIRAD (single-run) - CRD   -270.29   -308.14      -385.79\n",
       "CRD                         -290.39    308.14      -174.89"
      ]
     },
     "metadata": {},
     "output_type": "display_data"
    },
    {
     "data": {
      "text/markdown": [
       "*TABLE.* Difference between CLIRAD and CRD in TOA, SFC and net atmosphere flux, over all spectral bands. CRD's TOA, SFC and net atmosphere flux, over all spectral bands."
      ],
      "text/plain": [
       "<IPython.core.display.Markdown object>"
      ]
     },
     "metadata": {},
     "output_type": "display_data"
    },
    {
     "data": {
      "text/html": [
       "<a id=\"Cooling_rates._saw.\"></a>"
      ],
      "text/plain": [
       "<IPython.core.display.HTML object>"
      ]
     },
     "metadata": {},
     "output_type": "display_data"
    },
    {
     "data": {
      "text/markdown": [
       "# Cooling rates. saw."
      ],
      "text/plain": [
       "<IPython.core.display.Markdown object>"
      ]
     },
     "metadata": {},
     "output_type": "display_data"
    },
    {
     "data": {
      "text/html": [
       "\n",
       "<div class=\"bk-root\">\n",
       "    <div class=\"bk-plotdiv\" id=\"21c49ca7-38a8-41c9-afa9-60ada89b1c78\"></div>\n",
       "</div>"
      ]
     },
     "metadata": {},
     "output_type": "display_data"
    },
    {
     "data": {
      "application/javascript": [
       "(function(root) {\n",
       "  function embed_document(root) {\n",
       "    \n",
       "  var docs_json = {\"f795a1ba-e73f-454d-add7-7425c95df25e\":{\"roots\":{\"references\":[{\"attributes\":{\"children\":[{\"id\":\"afadf13a-da09-4753-b67e-529bc032d461\",\"subtype\":\"Figure\",\"type\":\"Plot\"},{\"id\":\"a1ce7296-ad29-4c81-b628-9c7650808b11\",\"subtype\":\"Figure\",\"type\":\"Plot\"},{\"id\":\"0f161640-6f3b-4cf3-bfa6-92db2e445465\",\"subtype\":\"Figure\",\"type\":\"Plot\"}]},\"id\":\"bf015ced-e00d-4954-9214-62c292349710\",\"type\":\"Row\"},{\"attributes\":{\"line_alpha\":0.6,\"line_color\":\"#377eb8\",\"line_dash\":[6],\"line_width\":5,\"x\":{\"field\":\"x\"},\"y\":{\"field\":\"y\"}},\"id\":\"26abb395-7dba-498a-8855-228b22e13831\",\"type\":\"Line\"},{\"attributes\":{\"children\":[{\"id\":\"bf015ced-e00d-4954-9214-62c292349710\",\"type\":\"Row\"}]},\"id\":\"c90547c2-3c52-4379-9616-46e71567b7e7\",\"type\":\"Column\"},{\"attributes\":{\"callback\":null,\"data\":{\"x\":{\"__ndarray__\":\"0CYBcvU5UkCik9zf2GVBQF1VoNfLZ0BAVLxhiVXTPUDD1Wu1wJM6QFJyB025jjdAU6Aw5+b/NECYe1uuDfgyQB6bYtVTbTFAPxYSAF1HMEA00pYVm9QuQLolHbMzgC1AntlwirGsLECv+G9SjE4rQJH6ZLBp0ShAsLZQyPd/JkDyjgyf2PwkQLgyNGsrJyRAA13QbJD6I0C8hy0ilI4kQOVTXCEgcSZAovOGvZSGJUBVc/ZmUOIgQOf/6GHAyRlAcE8fAOBSFEDRur1U//gPQGFD9ZbokghAQsqHuSqSA0C91ci3W0UBQCtRQfvz7/4/kh8pntyB+j9t1/n+4TX1P773MAUjFfI/RgzR+CI28T8hBW8WHK7uPzVKjJfU8uk/0FPt4/z65T/wVYqzMPDhPz7K9C5CXuE/8+hSn9hY4T/9PPCkR6rhP1XsIC599OA/66X1nBCX3z/YbRM56QjcPz4dkSQc/dM/S7Wb8Fq00T+/yQdmX0vcP7TrGf476eM/WqNPJoWO7D9qOH1bcwDzP2bw+R5DQ/Y/RLSuQOQp+D8+aif8yAz5P0Wv6eBKRfk/0i2+IN4R+T/ik8QNFZr4PyS5UD5j/Pc/yJ68zXRG9z/2CHPL54H2P59SOhwKtPU/npkP8dfg9D8NlmVcdQz0P80ugRvuOvM/byxiAHN18j9USVZie8nxP5l9lNXYSPE/OB+F0UYP8T8Y7dsUCTHxP3EBgTHPcPE/bfx15p8S8T8FT+xkGtTuP6mdG7rkxuk/pboqTkHX5D/CrN8qGYngP7R4ZaL+htU/\",\"dtype\":\"float64\",\"shape\":[75]},\"y\":{\"__ndarray__\":\"GhExyth1ND/Sv8nbtpRIP2vylNV0PVE/aTum7souWD/At0SJ8fVgPw3Iuahxymc/MSNhhJWvcD/bTfBN02d3P2zb5nxnaoA/CD5h5MAGhz8NmeH1TyaQP+zrCsc9p5Y/LbKd76fGnz/bLW5ISEmmPww9YvTcQq8/JV2OstnstT8Er5Y7M8G+P0c+r3jqkcU/5h99k6ZBzj88bCIzFzjVP4enV8oyxN0//yH99nXg5D8qOpLLf0jtP5kqGJXUifQ/c9cS8kHP/D+/DpwzojQEQIEmwoanVwxA4lgXt9HgE0BSSZ2AJuIbQAMJih9jjiNA5q4l5INuK0AwTKYKRj0zQNv5fmq8/DpAaCJseHrtQkB/+zpwzoxKQM3MzMzMeFJAZmZmZmZqWEAAAAAAAFxeQM3MzMzMJmJAmpmZmZkfZUBmZmZmZhhoQDMzMzMzEWtAAAAAAAAKbkBmZmZmZoFwQM3MzMzM/XFAMzMzMzN6c0CamZmZmfZ0QAAAAAAAc3ZAZmZmZmbvd0DNzMzMzGt5QDMzMzMz6HpAmpmZmZlkfEAAAAAAAOF9QGZmZmZmXX9AZmZmZuZsgECamZmZGSuBQM3MzMxM6YFAAAAAAICngkAzMzMzs2WDQGZmZmbmI4RAmpmZmRnihEDNzMzMTKCFQAAAAACAXoZAMzMzM7Mch0BmZmZm5tqHQJqZmZkZmYhAzczMzExXiUAAAAAAgBWKQDMzMzOz04pAZmZmZuaRi0CamZmZGVCMQM3MzMxMDo1AAAAAAIDMjUAzMzMzs4qOQGZmZmbmSI9A\",\"dtype\":\"float64\",\"shape\":[75]}},\"selected\":{\"id\":\"11d303db-9d0e-411f-b6cc-1b09ed489eb0\",\"type\":\"Selection\"},\"selection_policy\":{\"id\":\"028b9108-44c7-4016-9127-1fd532f9b5bb\",\"type\":\"UnionRenderers\"}},\"id\":\"5101d951-6c1d-4417-9677-de9c43e101a0\",\"type\":\"ColumnDataSource\"},{\"attributes\":{\"plot\":null,\"text\":\"\"},\"id\":\"6d3b1371-ea5a-4a9e-9db7-9f27b4cf883d\",\"type\":\"Title\"},{\"attributes\":{},\"id\":\"4e2ed570-14b9-4da9-b2a5-5cdedcec35df\",\"type\":\"UnionRenderers\"},{\"attributes\":{},\"id\":\"d004a6dc-eb5c-4c84-ac81-54bc3581ca3d\",\"type\":\"Selection\"},{\"attributes\":{\"label\":{\"value\":\"CLIRAD (single-run)\"},\"renderers\":[{\"id\":\"33253f17-3030-4cfd-b27e-0fe3a0897331\",\"type\":\"GlyphRenderer\"}]},\"id\":\"3761cf71-ff0c-46a4-810b-3cabeba85fc5\",\"type\":\"LegendItem\"},{\"attributes\":{\"label\":{\"value\":\"CLIRAD (single-run)\"},\"renderers\":[{\"id\":\"beaecc15-ba33-4102-852c-5f5124fabeaf\",\"type\":\"GlyphRenderer\"}]},\"id\":\"416391b2-71b4-4539-99c4-40c9e8e7d1f7\",\"type\":\"LegendItem\"},{\"attributes\":{\"fill_alpha\":{\"value\":0.1},\"fill_color\":{\"value\":\"#1f77b4\"},\"line_alpha\":{\"value\":0.1},\"line_color\":{\"value\":\"#1f77b4\"},\"x\":{\"field\":\"x\"},\"y\":{\"field\":\"y\"}},\"id\":\"fcfd17aa-efaf-4f5a-b0ca-3166958b44c0\",\"type\":\"Circle\"},{\"attributes\":{\"data_source\":{\"id\":\"3554fa04-dc0f-4fc2-85d9-e818c7687f72\",\"type\":\"ColumnDataSource\"},\"glyph\":{\"id\":\"3cfddb8e-14e6-490b-9b64-b6f3d17bf6a7\",\"type\":\"Circle\"},\"hover_glyph\":null,\"muted_glyph\":null,\"nonselection_glyph\":{\"id\":\"fcfd17aa-efaf-4f5a-b0ca-3166958b44c0\",\"type\":\"Circle\"},\"selection_glyph\":null,\"view\":{\"id\":\"af663a42-ef13-4716-9734-22442b8ee99f\",\"type\":\"CDSView\"}},\"id\":\"2a67fdc1-76ba-4792-bd25-b7ecf373d949\",\"type\":\"GlyphRenderer\"},{\"attributes\":{\"children\":[{\"id\":\"ec56c19f-fc06-4d92-84a2-e974391776ca\",\"type\":\"ToolbarBox\"},{\"id\":\"c90547c2-3c52-4379-9616-46e71567b7e7\",\"type\":\"Column\"}]},\"id\":\"96dd2fd8-3edb-4fbe-9549-2dd993ce853f\",\"type\":\"Column\"},{\"attributes\":{},\"id\":\"c6bab745-cf62-4d36-b0c2-22a51af3165c\",\"type\":\"LinearScale\"},{\"attributes\":{\"data_source\":{\"id\":\"7d6a514b-0a36-46fb-92cd-0affdbfc1f28\",\"type\":\"ColumnDataSource\"},\"glyph\":{\"id\":\"d33c08a1-0791-47a9-90b7-bb58895e9fc8\",\"type\":\"Line\"},\"hover_glyph\":null,\"muted_glyph\":null,\"nonselection_glyph\":{\"id\":\"622056c2-8b3a-4c60-baf3-f1d5af550ff3\",\"type\":\"Line\"},\"selection_glyph\":null,\"view\":{\"id\":\"6dfd9780-97a8-4304-9155-a4619339f04a\",\"type\":\"CDSView\"}},\"id\":\"d7b57774-da46-4e06-a559-8a34a21fa824\",\"type\":\"GlyphRenderer\"},{\"attributes\":{},\"id\":\"eedebe49-0f35-48db-8e95-2f0092d447c5\",\"type\":\"UnionRenderers\"},{\"attributes\":{},\"id\":\"1a138b46-eae5-461e-96ad-b5563046892a\",\"type\":\"UnionRenderers\"},{\"attributes\":{\"ticker\":null},\"id\":\"1bb36710-d5c6-4adb-b0aa-e831d31981f0\",\"type\":\"LogTickFormatter\"},{\"attributes\":{},\"id\":\"6da75896-a0ce-4155-ac40-f21168c12b4b\",\"type\":\"BasicTickFormatter\"},{\"attributes\":{\"toolbar\":{\"id\":\"a2be37bd-35c0-4584-a034-8c1f68d21ae9\",\"type\":\"ProxyToolbar\"},\"toolbar_location\":\"above\"},\"id\":\"ec56c19f-fc06-4d92-84a2-e974391776ca\",\"type\":\"ToolbarBox\"},{\"attributes\":{\"active_drag\":\"auto\",\"active_inspect\":\"auto\",\"active_scroll\":\"auto\",\"active_tap\":\"auto\",\"tools\":[{\"id\":\"f7167f9b-9e8c-42f8-9a1a-9adb0222c2fb\",\"type\":\"PanTool\"},{\"id\":\"e081d0d9-c7a9-4929-a19b-41c62c113eae\",\"type\":\"WheelZoomTool\"},{\"id\":\"c5ffef97-ed2d-48ff-b918-70f5c3b35edc\",\"type\":\"BoxZoomTool\"},{\"id\":\"779e6d05-c552-40ee-b575-b2b483a85650\",\"type\":\"SaveTool\"},{\"id\":\"0a3bfe97-64f2-4087-8c6d-3d7221b76f4c\",\"type\":\"ResetTool\"},{\"id\":\"625a3623-b931-48d1-8672-c3e245b24fa9\",\"type\":\"HelpTool\"}]},\"id\":\"e8093e22-e218-451b-8bcf-108fa1a43edd\",\"type\":\"Toolbar\"},{\"attributes\":{\"tools\":[{\"id\":\"ddb648f3-9fc0-4bf9-b4a0-63ced88a88b9\",\"type\":\"PanTool\"},{\"id\":\"a77d4d53-034e-448d-b867-c1cbe8953737\",\"type\":\"WheelZoomTool\"},{\"id\":\"4dc14efd-1682-4fb1-b800-82cd7e920c26\",\"type\":\"BoxZoomTool\"},{\"id\":\"3adaf5ea-8593-4a16-afe8-958266aebcdb\",\"type\":\"SaveTool\"},{\"id\":\"db7c4050-6942-4045-818f-ce25a6c775ec\",\"type\":\"ResetTool\"},{\"id\":\"a3971d55-52b5-4f67-92ed-202ba1086f7e\",\"type\":\"HelpTool\"},{\"id\":\"f7167f9b-9e8c-42f8-9a1a-9adb0222c2fb\",\"type\":\"PanTool\"},{\"id\":\"e081d0d9-c7a9-4929-a19b-41c62c113eae\",\"type\":\"WheelZoomTool\"},{\"id\":\"c5ffef97-ed2d-48ff-b918-70f5c3b35edc\",\"type\":\"BoxZoomTool\"},{\"id\":\"779e6d05-c552-40ee-b575-b2b483a85650\",\"type\":\"SaveTool\"},{\"id\":\"0a3bfe97-64f2-4087-8c6d-3d7221b76f4c\",\"type\":\"ResetTool\"},{\"id\":\"625a3623-b931-48d1-8672-c3e245b24fa9\",\"type\":\"HelpTool\"},{\"id\":\"1d18d045-0394-40dc-bb77-13684ecb72b6\",\"type\":\"PanTool\"},{\"id\":\"6b250ee7-0aa0-41c9-be2c-94ed25d88f3b\",\"type\":\"WheelZoomTool\"},{\"id\":\"61af8b9d-7c76-4c91-bf10-7f2d43ef4bf1\",\"type\":\"BoxZoomTool\"},{\"id\":\"4b3e871c-10f4-42df-a15f-cd29fc51721c\",\"type\":\"SaveTool\"},{\"id\":\"83b9dbe9-cca7-4460-b02f-c43c39da10e0\",\"type\":\"ResetTool\"},{\"id\":\"7b7bff83-aebe-4ba5-a835-009239541f10\",\"type\":\"HelpTool\"}]},\"id\":\"a2be37bd-35c0-4584-a034-8c1f68d21ae9\",\"type\":\"ProxyToolbar\"},{\"attributes\":{\"source\":{\"id\":\"7d6a514b-0a36-46fb-92cd-0affdbfc1f28\",\"type\":\"ColumnDataSource\"}},\"id\":\"6dfd9780-97a8-4304-9155-a4619339f04a\",\"type\":\"CDSView\"},{\"attributes\":{},\"id\":\"0151daac-bdb3-47c7-ba25-05c58ccf3c83\",\"type\":\"Selection\"},{\"attributes\":{},\"id\":\"0ba3807e-9293-4d30-89d6-0fbd00bed45e\",\"type\":\"UnionRenderers\"},{\"attributes\":{},\"id\":\"7b7bff83-aebe-4ba5-a835-009239541f10\",\"type\":\"HelpTool\"},{\"attributes\":{\"line_alpha\":0.6,\"line_color\":\"#377eb8\",\"line_dash\":[6],\"line_width\":5,\"x\":{\"field\":\"x\"},\"y\":{\"field\":\"y\"}},\"id\":\"75779810-085f-41fd-8cbe-c54235f0f734\",\"type\":\"Line\"},{\"attributes\":{\"line_alpha\":0.1,\"line_color\":\"#1f77b4\",\"line_dash\":[6],\"line_width\":5,\"x\":{\"field\":\"x\"},\"y\":{\"field\":\"y\"}},\"id\":\"41f4474b-e191-4499-a048-1688a151db4f\",\"type\":\"Line\"},{\"attributes\":{\"data_source\":{\"id\":\"eeb37da2-f8b7-45a1-8e9d-56ce86aa3b34\",\"type\":\"ColumnDataSource\"},\"glyph\":{\"id\":\"26abb395-7dba-498a-8855-228b22e13831\",\"type\":\"Line\"},\"hover_glyph\":null,\"muted_glyph\":null,\"nonselection_glyph\":{\"id\":\"c5668368-991c-448a-a15d-20cc0533f183\",\"type\":\"Line\"},\"selection_glyph\":null,\"view\":{\"id\":\"c095b13f-43d9-4546-a2aa-25932278f3f3\",\"type\":\"CDSView\"}},\"id\":\"beaecc15-ba33-4102-852c-5f5124fabeaf\",\"type\":\"GlyphRenderer\"},{\"attributes\":{\"source\":{\"id\":\"146429a0-dfb3-40a1-832c-5436db35aa81\",\"type\":\"ColumnDataSource\"}},\"id\":\"a6241895-7be5-403d-ab30-53f1a4bf56ea\",\"type\":\"CDSView\"},{\"attributes\":{\"callback\":null,\"end\":0.01,\"start\":1020},\"id\":\"519c90a8-74ef-4aaa-9782-8c9f1a5473a7\",\"type\":\"Range1d\"},{\"attributes\":{\"above\":[{\"id\":\"113845b4-3642-4420-85ea-4a39887b00df\",\"type\":\"Legend\"}],\"below\":[{\"id\":\"f3b5a3f8-a086-4ae4-a8ec-6f409998aaf3\",\"type\":\"LinearAxis\"}],\"left\":[{\"id\":\"64663380-6968-4625-9257-8854ef737a75\",\"type\":\"LogAxis\"}],\"plot_width\":300,\"renderers\":[{\"id\":\"f3b5a3f8-a086-4ae4-a8ec-6f409998aaf3\",\"type\":\"LinearAxis\"},{\"id\":\"5cbbf135-64ce-4851-9b8a-6d8baa0a3f61\",\"type\":\"Grid\"},{\"id\":\"64663380-6968-4625-9257-8854ef737a75\",\"type\":\"LogAxis\"},{\"id\":\"458c5ae6-8337-4c80-8402-ed4c4e4be8ac\",\"type\":\"Grid\"},{\"id\":\"043a9d62-3e57-4ce9-9d98-1993d1457fa6\",\"type\":\"BoxAnnotation\"},{\"id\":\"beaecc15-ba33-4102-852c-5f5124fabeaf\",\"type\":\"GlyphRenderer\"},{\"id\":\"a20834ae-031b-46d1-9808-7e7f6283e1ed\",\"type\":\"GlyphRenderer\"},{\"id\":\"58d4303a-ff06-474a-ad1f-4347f64509e9\",\"type\":\"GlyphRenderer\"},{\"id\":\"113845b4-3642-4420-85ea-4a39887b00df\",\"type\":\"Legend\"}],\"title\":{\"id\":\"6027c94b-7122-41db-a603-370bb9103d5a\",\"type\":\"Title\"},\"toolbar\":{\"id\":\"e8093e22-e218-451b-8bcf-108fa1a43edd\",\"type\":\"Toolbar\"},\"toolbar_location\":null,\"x_range\":{\"id\":\"ac12f674-0160-419b-a8d9-5acd1a3bda8b\",\"type\":\"Range1d\"},\"x_scale\":{\"id\":\"c6bab745-cf62-4d36-b0c2-22a51af3165c\",\"type\":\"LinearScale\"},\"y_range\":{\"id\":\"65de43ec-7b42-467a-851b-67651a1a0c0a\",\"type\":\"Range1d\"},\"y_scale\":{\"id\":\"4461e805-dda5-47ff-8f11-17a04a379c33\",\"type\":\"LogScale\"}},\"id\":\"a1ce7296-ad29-4c81-b628-9c7650808b11\",\"subtype\":\"Figure\",\"type\":\"Plot\"},{\"attributes\":{},\"id\":\"c3997eb6-a128-4811-bcbd-5d50ec25d791\",\"type\":\"Selection\"},{\"attributes\":{\"fill_alpha\":{\"value\":0.7},\"fill_color\":{\"value\":\"#4daf4a\"},\"line_alpha\":{\"value\":0.7},\"line_color\":{\"value\":\"#4daf4a\"},\"x\":{\"field\":\"x\"},\"y\":{\"field\":\"y\"}},\"id\":\"c889c880-098c-4454-bec7-65f3bd665c50\",\"type\":\"Circle\"},{\"attributes\":{\"plot\":null,\"text\":\"\"},\"id\":\"6027c94b-7122-41db-a603-370bb9103d5a\",\"type\":\"Title\"},{\"attributes\":{\"callback\":null,\"data\":{\"x\":{\"__ndarray__\":\"9ShcLzNbRMEAAABAT19oQUgMAmuvuyvBexSuB+xAN0E9CtcjEoE8wQAAAMBS8zlBN4lB4FXAE0F0ApoIW3rhQMrDQq1ZNdXAJgaBlcRCCkH6fmo87MwkwVk5tMiBbAvBukkMgkrbEkG/DpwzsnPVwEgMAis7/eFAdbUV+5sM5sCgGi/dABPkQAxZ3eoJj75Ad/hrsoYKi0DsouiBr2mAwNRXkGZsTbRAIqZEEn2Hg0AAAAAAAAAAAAAAAAAAAAAAAAAAAAAAAAAAAAAAAAAAAAAAAAAAAAAAAAAAAAAAAAAAAAAAAAAAAAAAAAAAAAAAAAAAAAAAAAAAAAAAAAAAADb2NkdnfULAgT6RJwnnm8AAAAAAAAAAADDpKAeTOY5AMOkoB5M5jsAAAAAAAAAAADDpKAeTOY5AKM4fxGZokz93vp/aq+gswf7UeCnuQi1B1NUdi22ZisA2GsBbUJbEwIGOVrWkK2TA4jjwarlpZ0COtiqJ7IuBwJEOD2H8YndAbuvNfTAvmT9u6819MC+Zv695uja/uWu8r3m6Nr+5azzz3n7k8RF8QK+89auqaHrArK8B6M3qOcCRjFR9067Ov0/xkNMuFMC/xz7kPfNx0r/kNEU6I33WP4Ct9NWz8sG/sIGp7FjBob9A68NRbUSGv1ZTnujWBcO/gg07y61Cuj8j5ZsrUnrAvwAAAAAAAAAAAAAAAAAAAAAAAAAAAAAAAE4bH/SZnco8uZQfjuP4l7xYlfwPq1vBvMme2DGomsQ8/F3p5YrDyrztnTi8QzpQPLIaiSm5s4A8\",\"dtype\":\"float64\",\"shape\":[75]},\"y\":{\"__ndarray__\":\"GhExyth1ND/Sv8nbtpRIP2vylNV0PVE/aTum7souWD/At0SJ8fVgPw3Iuahxymc/MSNhhJWvcD/bTfBN02d3P2zb5nxnaoA/CD5h5MAGhz8NmeH1TyaQP+zrCsc9p5Y/LbKd76fGnz/bLW5ISEmmPww9YvTcQq8/JV2OstnstT8Er5Y7M8G+P0c+r3jqkcU/5h99k6ZBzj88bCIzFzjVP4enV8oyxN0//yH99nXg5D8qOpLLf0jtP5kqGJXUifQ/c9cS8kHP/D+/DpwzojQEQIEmwoanVwxA4lgXt9HgE0BSSZ2AJuIbQAMJih9jjiNA5q4l5INuK0AwTKYKRj0zQNv5fmq8/DpAaCJseHrtQkB/+zpwzoxKQM3MzMzMeFJAZmZmZmZqWEAAAAAAAFxeQM3MzMzMJmJAmpmZmZkfZUBmZmZmZhhoQDMzMzMzEWtAAAAAAAAKbkBmZmZmZoFwQM3MzMzM/XFAMzMzMzN6c0CamZmZmfZ0QAAAAAAAc3ZAZmZmZmbvd0DNzMzMzGt5QDMzMzMz6HpAmpmZmZlkfEAAAAAAAOF9QGZmZmZmXX9AZmZmZuZsgECamZmZGSuBQM3MzMxM6YFAAAAAAICngkAzMzMzs2WDQGZmZmbmI4RAmpmZmRnihEDNzMzMTKCFQAAAAACAXoZAMzMzM7Mch0BmZmZm5tqHQJqZmZkZmYhAzczMzExXiUAAAAAAgBWKQDMzMzOz04pAZmZmZuaRi0CamZmZGVCMQM3MzMxMDo1AAAAAAIDMjUAzMzMzs4qOQGZmZmbmSI9A\",\"dtype\":\"float64\",\"shape\":[75]}},\"selected\":{\"id\":\"0d1977cc-baaa-4477-a034-227fc9391428\",\"type\":\"Selection\"},\"selection_policy\":{\"id\":\"4e2ed570-14b9-4da9-b2a5-5cdedcec35df\",\"type\":\"UnionRenderers\"}},\"id\":\"eeb37da2-f8b7-45a1-8e9d-56ce86aa3b34\",\"type\":\"ColumnDataSource\"},{\"attributes\":{\"label\":{\"value\":\"CRD\"},\"renderers\":[{\"id\":\"71d804d0-f13e-443b-a656-c31f103349ee\",\"type\":\"GlyphRenderer\"},{\"id\":\"6ede7821-b33b-4427-af5d-3d3dfb13b91d\",\"type\":\"GlyphRenderer\"}]},\"id\":\"a8abaf0d-2979-44fb-b5fb-4dae6f34a387\",\"type\":\"LegendItem\"},{\"attributes\":{\"line_alpha\":0.1,\"line_color\":\"#1f77b4\",\"line_dash\":[6],\"line_width\":5,\"x\":{\"field\":\"x\"},\"y\":{\"field\":\"y\"}},\"id\":\"c5668368-991c-448a-a15d-20cc0533f183\",\"type\":\"Line\"},{\"attributes\":{\"ticker\":null},\"id\":\"779f9158-8082-4437-b3da-17cad26e5d7e\",\"type\":\"LogTickFormatter\"},{\"attributes\":{\"source\":{\"id\":\"1fea639a-c4fc-454c-a944-2e381ee5ed18\",\"type\":\"ColumnDataSource\"}},\"id\":\"778857c6-e636-4021-bfad-c2dc31d429f6\",\"type\":\"CDSView\"},{\"attributes\":{},\"id\":\"c976a012-c0dc-4e8d-b439-7192b0e28ffe\",\"type\":\"UnionRenderers\"},{\"attributes\":{\"bottom_units\":\"screen\",\"fill_alpha\":{\"value\":0.5},\"fill_color\":{\"value\":\"lightgrey\"},\"left_units\":\"screen\",\"level\":\"overlay\",\"line_alpha\":{\"value\":1.0},\"line_color\":{\"value\":\"black\"},\"line_dash\":[4,4],\"line_width\":{\"value\":2},\"plot\":null,\"render_mode\":\"css\",\"right_units\":\"screen\",\"top_units\":\"screen\"},\"id\":\"968c7fcf-17cb-4cd8-b93a-e6b7554af47f\",\"type\":\"BoxAnnotation\"},{\"attributes\":{\"data_source\":{\"id\":\"5194f22b-c866-4e4b-ab0f-545838476cf4\",\"type\":\"ColumnDataSource\"},\"glyph\":{\"id\":\"75779810-085f-41fd-8cbe-c54235f0f734\",\"type\":\"Line\"},\"hover_glyph\":null,\"muted_glyph\":null,\"nonselection_glyph\":{\"id\":\"41f4474b-e191-4499-a048-1688a151db4f\",\"type\":\"Line\"},\"selection_glyph\":null,\"view\":{\"id\":\"58571c9f-0572-4cbf-8b1d-b29421efce63\",\"type\":\"CDSView\"}},\"id\":\"33253f17-3030-4cfd-b27e-0fe3a0897331\",\"type\":\"GlyphRenderer\"},{\"attributes\":{},\"id\":\"db7c4050-6942-4045-818f-ce25a6c775ec\",\"type\":\"ResetTool\"},{\"attributes\":{},\"id\":\"4461e805-dda5-47ff-8f11-17a04a379c33\",\"type\":\"LogScale\"},{\"attributes\":{},\"id\":\"e081d0d9-c7a9-4929-a19b-41c62c113eae\",\"type\":\"WheelZoomTool\"},{\"attributes\":{\"callback\":null,\"end\":0.01,\"start\":1020},\"id\":\"65de43ec-7b42-467a-851b-67651a1a0c0a\",\"type\":\"Range1d\"},{\"attributes\":{\"callback\":null,\"data\":{\"x\":{\"__ndarray__\":\"0CYBcvU5UkCik9zf2GVBQF1VoNfLZ0BAVLxhiVXTPUDD1Wu1wJM6QFJyB025jjdAU6Aw5+b/NECYe1uuDfgyQB6bYtVTbTFAPxYSAF1HMEA00pYVm9QuQLolHbMzgC1AntlwirGsLECv+G9SjE4rQJH6ZLBp0ShAsLZQyPd/JkDyjgyf2PwkQLgyNGsrJyRAA13QbJD6I0C8hy0ilI4kQOVTXCEgcSZAovOGvZSGJUBVc/ZmUOIgQOf/6GHAyRlAcE8fAOBSFEDRur1U//gPQGFD9ZbokghAQsqHuSqSA0C91ci3W0UBQCtRQfvz7/4/kh8pntyB+j9t1/n+4TX1P773MAUjFfI/RgzR+CI28T8hBW8WHK7uPzVKjJfU8uk/0FPt4/z65T/wVYqzMPDhPz7K9C5CXuE/8+hSn9hY4T/9PPCkR6rhP1XsIC599OA/66X1nBCX3z/YbRM56QjcPz4dkSQc/dM/S7Wb8Fq00T+/yQdmX0vcP7TrGf476eM/WqNPJoWO7D9qOH1bcwDzP2bw+R5DQ/Y/RLSuQOQp+D8+aif8yAz5P0Wv6eBKRfk/0i2+IN4R+T/ik8QNFZr4PyS5UD5j/Pc/yJ68zXRG9z/2CHPL54H2P59SOhwKtPU/npkP8dfg9D8NlmVcdQz0P80ugRvuOvM/byxiAHN18j9USVZie8nxP5l9lNXYSPE/OB+F0UYP8T8Y7dsUCTHxP3EBgTHPcPE/bfx15p8S8T8FT+xkGtTuP6mdG7rkxuk/pboqTkHX5D/CrN8qGYngP7R4ZaL+htU/\",\"dtype\":\"float64\",\"shape\":[75]},\"y\":{\"__ndarray__\":\"GhExyth1ND/Sv8nbtpRIP2vylNV0PVE/aTum7souWD/At0SJ8fVgPw3Iuahxymc/MSNhhJWvcD/bTfBN02d3P2zb5nxnaoA/CD5h5MAGhz8NmeH1TyaQP+zrCsc9p5Y/LbKd76fGnz/bLW5ISEmmPww9YvTcQq8/JV2OstnstT8Er5Y7M8G+P0c+r3jqkcU/5h99k6ZBzj88bCIzFzjVP4enV8oyxN0//yH99nXg5D8qOpLLf0jtP5kqGJXUifQ/c9cS8kHP/D+/DpwzojQEQIEmwoanVwxA4lgXt9HgE0BSSZ2AJuIbQAMJih9jjiNA5q4l5INuK0AwTKYKRj0zQNv5fmq8/DpAaCJseHrtQkB/+zpwzoxKQM3MzMzMeFJAZmZmZmZqWEAAAAAAAFxeQM3MzMzMJmJAmpmZmZkfZUBmZmZmZhhoQDMzMzMzEWtAAAAAAAAKbkBmZmZmZoFwQM3MzMzM/XFAMzMzMzN6c0CamZmZmfZ0QAAAAAAAc3ZAZmZmZmbvd0DNzMzMzGt5QDMzMzMz6HpAmpmZmZlkfEAAAAAAAOF9QGZmZmZmXX9AZmZmZuZsgECamZmZGSuBQM3MzMxM6YFAAAAAAICngkAzMzMzs2WDQGZmZmbmI4RAmpmZmRnihEDNzMzMTKCFQAAAAACAXoZAMzMzM7Mch0BmZmZm5tqHQJqZmZkZmYhAzczMzExXiUAAAAAAgBWKQDMzMzOz04pAZmZmZuaRi0CamZmZGVCMQM3MzMxMDo1AAAAAAIDMjUAzMzMzs4qOQGZmZmbmSI9A\",\"dtype\":\"float64\",\"shape\":[75]}},\"selected\":{\"id\":\"90cf817d-0747-456e-92de-8417da17198d\",\"type\":\"Selection\"},\"selection_policy\":{\"id\":\"c976a012-c0dc-4e8d-b439-7192b0e28ffe\",\"type\":\"UnionRenderers\"}},\"id\":\"c7117c9e-3ef9-4306-952c-2afb0bfe56db\",\"type\":\"ColumnDataSource\"},{\"attributes\":{\"items\":[{\"id\":\"416391b2-71b4-4539-99c4-40c9e8e7d1f7\",\"type\":\"LegendItem\"},{\"id\":\"a87e6810-4e73-47e1-9131-33eaefdf9c2c\",\"type\":\"LegendItem\"}],\"label_text_font_size\":{\"value\":\"8pt\"},\"location\":\"top_center\",\"orientation\":\"horizontal\",\"plot\":{\"id\":\"a1ce7296-ad29-4c81-b628-9c7650808b11\",\"subtype\":\"Figure\",\"type\":\"Plot\"}},\"id\":\"113845b4-3642-4420-85ea-4a39887b00df\",\"type\":\"Legend\"},{\"attributes\":{},\"id\":\"11d303db-9d0e-411f-b6cc-1b09ed489eb0\",\"type\":\"Selection\"},{\"attributes\":{},\"id\":\"a77d4d53-034e-448d-b867-c1cbe8953737\",\"type\":\"WheelZoomTool\"},{\"attributes\":{\"items\":[{\"id\":\"3761cf71-ff0c-46a4-810b-3cabeba85fc5\",\"type\":\"LegendItem\"},{\"id\":\"a8abaf0d-2979-44fb-b5fb-4dae6f34a387\",\"type\":\"LegendItem\"}],\"label_text_font_size\":{\"value\":\"8pt\"},\"location\":\"top_center\",\"orientation\":\"horizontal\",\"plot\":{\"id\":\"afadf13a-da09-4753-b67e-529bc032d461\",\"subtype\":\"Figure\",\"type\":\"Plot\"}},\"id\":\"40d15454-ed03-44c2-a25c-fc5bfdf47344\",\"type\":\"Legend\"},{\"attributes\":{\"active_drag\":\"auto\",\"active_inspect\":\"auto\",\"active_scroll\":\"auto\",\"active_tap\":\"auto\",\"tools\":[{\"id\":\"ddb648f3-9fc0-4bf9-b4a0-63ced88a88b9\",\"type\":\"PanTool\"},{\"id\":\"a77d4d53-034e-448d-b867-c1cbe8953737\",\"type\":\"WheelZoomTool\"},{\"id\":\"4dc14efd-1682-4fb1-b800-82cd7e920c26\",\"type\":\"BoxZoomTool\"},{\"id\":\"3adaf5ea-8593-4a16-afe8-958266aebcdb\",\"type\":\"SaveTool\"},{\"id\":\"db7c4050-6942-4045-818f-ce25a6c775ec\",\"type\":\"ResetTool\"},{\"id\":\"a3971d55-52b5-4f67-92ed-202ba1086f7e\",\"type\":\"HelpTool\"}]},\"id\":\"843cc7a3-cada-46da-9155-9f12c7db0559\",\"type\":\"Toolbar\"},{\"attributes\":{\"source\":{\"id\":\"eeb37da2-f8b7-45a1-8e9d-56ce86aa3b34\",\"type\":\"ColumnDataSource\"}},\"id\":\"c095b13f-43d9-4546-a2aa-25932278f3f3\",\"type\":\"CDSView\"},{\"attributes\":{\"data_source\":{\"id\":\"c7117c9e-3ef9-4306-952c-2afb0bfe56db\",\"type\":\"ColumnDataSource\"},\"glyph\":{\"id\":\"52d3f05b-2726-4e4c-8026-2f81a1102276\",\"type\":\"Circle\"},\"hover_glyph\":null,\"muted_glyph\":null,\"nonselection_glyph\":{\"id\":\"1a902c6d-4e97-4643-820c-b153ca584880\",\"type\":\"Circle\"},\"selection_glyph\":null,\"view\":{\"id\":\"ab01258d-23d9-4e9d-a901-791fdb7c9e02\",\"type\":\"CDSView\"}},\"id\":\"a20834ae-031b-46d1-9808-7e7f6283e1ed\",\"type\":\"GlyphRenderer\"},{\"attributes\":{\"bottom_units\":\"screen\",\"fill_alpha\":{\"value\":0.5},\"fill_color\":{\"value\":\"lightgrey\"},\"left_units\":\"screen\",\"level\":\"overlay\",\"line_alpha\":{\"value\":1.0},\"line_color\":{\"value\":\"black\"},\"line_dash\":[4,4],\"line_width\":{\"value\":2},\"plot\":null,\"render_mode\":\"css\",\"right_units\":\"screen\",\"top_units\":\"screen\"},\"id\":\"043a9d62-3e57-4ce9-9d98-1993d1457fa6\",\"type\":\"BoxAnnotation\"},{\"attributes\":{},\"id\":\"ddb648f3-9fc0-4bf9-b4a0-63ced88a88b9\",\"type\":\"PanTool\"},{\"attributes\":{\"line_color\":\"#4daf4a\",\"line_width\":1.5,\"x\":{\"field\":\"x\"},\"y\":{\"field\":\"y\"}},\"id\":\"6136246d-486b-444d-accf-8c57379464f2\",\"type\":\"Line\"},{\"attributes\":{\"axis_label\":\"cooling rate [K/day]\",\"formatter\":{\"id\":\"5bdfc7c8-6c40-48e2-af71-356ac03f2df9\",\"type\":\"BasicTickFormatter\"},\"plot\":{\"id\":\"a1ce7296-ad29-4c81-b628-9c7650808b11\",\"subtype\":\"Figure\",\"type\":\"Plot\"},\"ticker\":{\"id\":\"45d2eb25-bbf3-4e73-a330-a33c8b4bdbf9\",\"type\":\"BasicTicker\"}},\"id\":\"f3b5a3f8-a086-4ae4-a8ec-6f409998aaf3\",\"type\":\"LinearAxis\"},{\"attributes\":{},\"id\":\"f7167f9b-9e8c-42f8-9a1a-9adb0222c2fb\",\"type\":\"PanTool\"},{\"attributes\":{\"line_alpha\":0.1,\"line_color\":\"#1f77b4\",\"line_width\":1.5,\"x\":{\"field\":\"x\"},\"y\":{\"field\":\"y\"}},\"id\":\"80e743ad-f08a-4669-a200-653f348cce94\",\"type\":\"Line\"},{\"attributes\":{\"data_source\":{\"id\":\"1fea639a-c4fc-454c-a944-2e381ee5ed18\",\"type\":\"ColumnDataSource\"},\"glyph\":{\"id\":\"6136246d-486b-444d-accf-8c57379464f2\",\"type\":\"Line\"},\"hover_glyph\":null,\"muted_glyph\":null,\"nonselection_glyph\":{\"id\":\"80e743ad-f08a-4669-a200-653f348cce94\",\"type\":\"Line\"},\"selection_glyph\":null,\"view\":{\"id\":\"778857c6-e636-4021-bfad-c2dc31d429f6\",\"type\":\"CDSView\"}},\"id\":\"58d4303a-ff06-474a-ad1f-4347f64509e9\",\"type\":\"GlyphRenderer\"},{\"attributes\":{\"axis_label\":\"pressure [mb]\",\"formatter\":{\"id\":\"779f9158-8082-4437-b3da-17cad26e5d7e\",\"type\":\"LogTickFormatter\"},\"plot\":{\"id\":\"a1ce7296-ad29-4c81-b628-9c7650808b11\",\"subtype\":\"Figure\",\"type\":\"Plot\"},\"ticker\":{\"id\":\"64fedc8d-b971-4ef6-a1cd-3eb26d0cb1b1\",\"type\":\"LogTicker\"}},\"id\":\"64663380-6968-4625-9257-8854ef737a75\",\"type\":\"LogAxis\"},{\"attributes\":{\"source\":{\"id\":\"5194f22b-c866-4e4b-ab0f-545838476cf4\",\"type\":\"ColumnDataSource\"}},\"id\":\"58571c9f-0572-4cbf-8b1d-b29421efce63\",\"type\":\"CDSView\"},{\"attributes\":{},\"id\":\"0a3bfe97-64f2-4087-8c6d-3d7221b76f4c\",\"type\":\"ResetTool\"},{\"attributes\":{\"num_minor_ticks\":10},\"id\":\"d49d964d-2d3f-41c7-917f-09953c1970fb\",\"type\":\"LogTicker\"},{\"attributes\":{},\"id\":\"1dc55cf1-319f-455a-93d9-da0a06b648ce\",\"type\":\"LogScale\"},{\"attributes\":{\"callback\":null,\"data\":{\"x\":{\"__ndarray__\":\"0CYBcvU5UkCik9zf2GVBQF1VoNfLZ0BAVLxhiVXTPUDD1Wu1wJM6QFJyB025jjdAU6Aw5+b/NECYe1uuDfgyQB6bYtVTbTFAPxYSAF1HMEA00pYVm9QuQLolHbMzgC1AntlwirGsLECv+G9SjE4rQJH6ZLBp0ShAsLZQyPd/JkDyjgyf2PwkQLgyNGsrJyRAA13QbJD6I0C8hy0ilI4kQOVTXCEgcSZAovOGvZSGJUBVc/ZmUOIgQOf/6GHAyRlAcE8fAOBSFEDRur1U//gPQGFD9ZbokghAQsqHuSqSA0C91ci3W0UBQCtRQfvz7/4/kh8pntyB+j9t1/n+4TX1P773MAUjFfI/RgzR+CI28T8hBW8WHK7uPzVKjJfU8uk/0FPt4/z65T/wVYqzMPDhPz7K9C5CXuE/8+hSn9hY4T/9PPCkR6rhP1XsIC599OA/66X1nBCX3z/YbRM56QjcPz4dkSQc/dM/S7Wb8Fq00T+/yQdmX0vcP7TrGf476eM/WqNPJoWO7D9qOH1bcwDzP2bw+R5DQ/Y/RLSuQOQp+D8+aif8yAz5P0Wv6eBKRfk/0i2+IN4R+T/ik8QNFZr4PyS5UD5j/Pc/yJ68zXRG9z/2CHPL54H2P59SOhwKtPU/npkP8dfg9D8NlmVcdQz0P80ugRvuOvM/byxiAHN18j9USVZie8nxP5l9lNXYSPE/OB+F0UYP8T8Y7dsUCTHxP3EBgTHPcPE/bfx15p8S8T8FT+xkGtTuP6mdG7rkxuk/pboqTkHX5D/CrN8qGYngP7R4ZaL+htU/\",\"dtype\":\"float64\",\"shape\":[75]},\"y\":{\"__ndarray__\":\"GhExyth1ND/Sv8nbtpRIP2vylNV0PVE/aTum7souWD/At0SJ8fVgPw3Iuahxymc/MSNhhJWvcD/bTfBN02d3P2zb5nxnaoA/CD5h5MAGhz8NmeH1TyaQP+zrCsc9p5Y/LbKd76fGnz/bLW5ISEmmPww9YvTcQq8/JV2OstnstT8Er5Y7M8G+P0c+r3jqkcU/5h99k6ZBzj88bCIzFzjVP4enV8oyxN0//yH99nXg5D8qOpLLf0jtP5kqGJXUifQ/c9cS8kHP/D+/DpwzojQEQIEmwoanVwxA4lgXt9HgE0BSSZ2AJuIbQAMJih9jjiNA5q4l5INuK0AwTKYKRj0zQNv5fmq8/DpAaCJseHrtQkB/+zpwzoxKQM3MzMzMeFJAZmZmZmZqWEAAAAAAAFxeQM3MzMzMJmJAmpmZmZkfZUBmZmZmZhhoQDMzMzMzEWtAAAAAAAAKbkBmZmZmZoFwQM3MzMzM/XFAMzMzMzN6c0CamZmZmfZ0QAAAAAAAc3ZAZmZmZmbvd0DNzMzMzGt5QDMzMzMz6HpAmpmZmZlkfEAAAAAAAOF9QGZmZmZmXX9AZmZmZuZsgECamZmZGSuBQM3MzMxM6YFAAAAAAICngkAzMzMzs2WDQGZmZmbmI4RAmpmZmRnihEDNzMzMTKCFQAAAAACAXoZAMzMzM7Mch0BmZmZm5tqHQJqZmZkZmYhAzczMzExXiUAAAAAAgBWKQDMzMzOz04pAZmZmZuaRi0CamZmZGVCMQM3MzMxMDo1AAAAAAIDMjUAzMzMzs4qOQGZmZmbmSI9A\",\"dtype\":\"float64\",\"shape\":[75]}},\"selected\":{\"id\":\"c3997eb6-a128-4811-bcbd-5d50ec25d791\",\"type\":\"Selection\"},\"selection_policy\":{\"id\":\"0ba3807e-9293-4d30-89d6-0fbd00bed45e\",\"type\":\"UnionRenderers\"}},\"id\":\"1fea639a-c4fc-454c-a944-2e381ee5ed18\",\"type\":\"ColumnDataSource\"},{\"attributes\":{\"fill_alpha\":{\"value\":0.7},\"fill_color\":{\"value\":\"#4daf4a\"},\"line_alpha\":{\"value\":0.7},\"line_color\":{\"value\":\"#4daf4a\"},\"x\":{\"field\":\"x\"},\"y\":{\"field\":\"y\"}},\"id\":\"52d3f05b-2726-4e4c-8026-2f81a1102276\",\"type\":\"Circle\"},{\"attributes\":{\"overlay\":{\"id\":\"d8eed43a-7e7d-468a-9739-427c1bd3b49d\",\"type\":\"BoxAnnotation\"}},\"id\":\"4dc14efd-1682-4fb1-b800-82cd7e920c26\",\"type\":\"BoxZoomTool\"},{\"attributes\":{},\"id\":\"779e6d05-c552-40ee-b575-b2b483a85650\",\"type\":\"SaveTool\"},{\"attributes\":{\"plot\":{\"id\":\"0f161640-6f3b-4cf3-bfa6-92db2e445465\",\"subtype\":\"Figure\",\"type\":\"Plot\"},\"ticker\":{\"id\":\"76ad3b72-a72d-48e1-abbb-c16b9ba1cdab\",\"type\":\"BasicTicker\"}},\"id\":\"43a8bc5d-64c3-47be-aee8-a217096d5577\",\"type\":\"Grid\"},{\"attributes\":{\"fill_alpha\":{\"value\":0.1},\"fill_color\":{\"value\":\"#1f77b4\"},\"line_alpha\":{\"value\":0.1},\"line_color\":{\"value\":\"#1f77b4\"},\"x\":{\"field\":\"x\"},\"y\":{\"field\":\"y\"}},\"id\":\"1a902c6d-4e97-4643-820c-b153ca584880\",\"type\":\"Circle\"},{\"attributes\":{},\"id\":\"5bdfc7c8-6c40-48e2-af71-356ac03f2df9\",\"type\":\"BasicTickFormatter\"},{\"attributes\":{\"bottom_units\":\"screen\",\"fill_alpha\":{\"value\":0.5},\"fill_color\":{\"value\":\"lightgrey\"},\"left_units\":\"screen\",\"level\":\"overlay\",\"line_alpha\":{\"value\":1.0},\"line_color\":{\"value\":\"black\"},\"line_dash\":[4,4],\"line_width\":{\"value\":2},\"plot\":null,\"render_mode\":\"css\",\"right_units\":\"screen\",\"top_units\":\"screen\"},\"id\":\"d8eed43a-7e7d-468a-9739-427c1bd3b49d\",\"type\":\"BoxAnnotation\"},{\"attributes\":{\"dimension\":1,\"plot\":{\"id\":\"a1ce7296-ad29-4c81-b628-9c7650808b11\",\"subtype\":\"Figure\",\"type\":\"Plot\"},\"ticker\":{\"id\":\"64fedc8d-b971-4ef6-a1cd-3eb26d0cb1b1\",\"type\":\"LogTicker\"}},\"id\":\"458c5ae6-8337-4c80-8402-ed4c4e4be8ac\",\"type\":\"Grid\"},{\"attributes\":{},\"id\":\"76ad3b72-a72d-48e1-abbb-c16b9ba1cdab\",\"type\":\"BasicTicker\"},{\"attributes\":{\"dimension\":1,\"plot\":{\"id\":\"0f161640-6f3b-4cf3-bfa6-92db2e445465\",\"subtype\":\"Figure\",\"type\":\"Plot\"},\"ticker\":{\"id\":\"d49d964d-2d3f-41c7-917f-09953c1970fb\",\"type\":\"LogTicker\"}},\"id\":\"2221c20e-8648-4cf7-bc4b-98eb70da3cf0\",\"type\":\"Grid\"},{\"attributes\":{},\"id\":\"028b9108-44c7-4016-9127-1fd532f9b5bb\",\"type\":\"UnionRenderers\"},{\"attributes\":{},\"id\":\"a3971d55-52b5-4f67-92ed-202ba1086f7e\",\"type\":\"HelpTool\"},{\"attributes\":{\"overlay\":{\"id\":\"043a9d62-3e57-4ce9-9d98-1993d1457fa6\",\"type\":\"BoxAnnotation\"}},\"id\":\"c5ffef97-ed2d-48ff-b918-70f5c3b35edc\",\"type\":\"BoxZoomTool\"},{\"attributes\":{\"plot\":{\"id\":\"a1ce7296-ad29-4c81-b628-9c7650808b11\",\"subtype\":\"Figure\",\"type\":\"Plot\"},\"ticker\":{\"id\":\"45d2eb25-bbf3-4e73-a330-a33c8b4bdbf9\",\"type\":\"BasicTicker\"}},\"id\":\"5cbbf135-64ce-4851-9b8a-6d8baa0a3f61\",\"type\":\"Grid\"},{\"attributes\":{},\"id\":\"a9835f9a-3196-4a92-85ed-92c4c3b27304\",\"type\":\"UnionRenderers\"},{\"attributes\":{\"axis_label\":\"cooling rate [K/day]\",\"formatter\":{\"id\":\"6da75896-a0ce-4155-ac40-f21168c12b4b\",\"type\":\"BasicTickFormatter\"},\"plot\":{\"id\":\"0f161640-6f3b-4cf3-bfa6-92db2e445465\",\"subtype\":\"Figure\",\"type\":\"Plot\"},\"ticker\":{\"id\":\"76ad3b72-a72d-48e1-abbb-c16b9ba1cdab\",\"type\":\"BasicTicker\"}},\"id\":\"9a7f46bb-065e-4e95-bd7e-88b69170835c\",\"type\":\"LinearAxis\"},{\"attributes\":{\"num_minor_ticks\":10},\"id\":\"64fedc8d-b971-4ef6-a1cd-3eb26d0cb1b1\",\"type\":\"LogTicker\"},{\"attributes\":{\"axis_label\":\"pressure [mb]\",\"formatter\":{\"id\":\"1bb36710-d5c6-4adb-b0aa-e831d31981f0\",\"type\":\"LogTickFormatter\"},\"plot\":{\"id\":\"0f161640-6f3b-4cf3-bfa6-92db2e445465\",\"subtype\":\"Figure\",\"type\":\"Plot\"},\"ticker\":{\"id\":\"d49d964d-2d3f-41c7-917f-09953c1970fb\",\"type\":\"LogTicker\"}},\"id\":\"69adc3e8-2888-48c1-aed6-10415c80240b\",\"type\":\"LogAxis\"},{\"attributes\":{},\"id\":\"45d2eb25-bbf3-4e73-a330-a33c8b4bdbf9\",\"type\":\"BasicTicker\"},{\"attributes\":{\"source\":{\"id\":\"c7117c9e-3ef9-4306-952c-2afb0bfe56db\",\"type\":\"ColumnDataSource\"}},\"id\":\"ab01258d-23d9-4e9d-a901-791fdb7c9e02\",\"type\":\"CDSView\"},{\"attributes\":{},\"id\":\"3adaf5ea-8593-4a16-afe8-958266aebcdb\",\"type\":\"SaveTool\"},{\"attributes\":{},\"id\":\"625a3623-b931-48d1-8672-c3e245b24fa9\",\"type\":\"HelpTool\"},{\"attributes\":{\"callback\":null,\"data\":{\"x\":{\"__ndarray__\":\"0CYBcvU5UkCik9zf2GVBQF1VoNfLZ0BAVLxhiVXTPUDD1Wu1wJM6QFJyB025jjdAU6Aw5+b/NECYe1uuDfgyQB6bYtVTbTFAPxYSAF1HMEA00pYVm9QuQLolHbMzgC1AntlwirGsLECv+G9SjE4rQJH6ZLBp0ShAsLZQyPd/JkDyjgyf2PwkQLgyNGsrJyRAA13QbJD6I0C8hy0ilI4kQOVTXCEgcSZAovOGvZSGJUBVc/ZmUOIgQOf/6GHAyRlAcE8fAOBSFEDRur1U//gPQGFD9ZbokghAQsqHuSqSA0C91ci3W0UBQCtRQfvz7/4/kh8pntyB+j9t1/n+4TX1P773MAUjFfI/RgzR+CI28T8hBW8WHK7uPzVKjJfU8uk/0FPt4/z65T/wVYqzMPDhPz7K9C5CXuE/8+hSn9hY4T/9PPCkR6rhP1XsIC599OA/66X1nBCX3z/YbRM56QjcPz4dkSQc/dM/S7Wb8Fq00T+/yQdmX0vcP7TrGf476eM/WqNPJoWO7D9qOH1bcwDzP2bw+R5DQ/Y/RLSuQOQp+D8+aif8yAz5P0Wv6eBKRfk/0i2+IN4R+T/ik8QNFZr4PyS5UD5j/Pc/yJ68zXRG9z/2CHPL54H2P59SOhwKtPU/npkP8dfg9D8NlmVcdQz0P80ugRvuOvM/byxiAHN18j9USVZie8nxP5l9lNXYSPE/OB+F0UYP8T8Y7dsUCTHxP3EBgTHPcPE/bfx15p8S8T8FT+xkGtTuP6mdG7rkxuk/pboqTkHX5D/CrN8qGYngP7R4ZaL+htU/\",\"dtype\":\"float64\",\"shape\":[75]},\"y\":{\"__ndarray__\":\"GhExyth1ND/Sv8nbtpRIP2vylNV0PVE/aTum7souWD/At0SJ8fVgPw3Iuahxymc/MSNhhJWvcD/bTfBN02d3P2zb5nxnaoA/CD5h5MAGhz8NmeH1TyaQP+zrCsc9p5Y/LbKd76fGnz/bLW5ISEmmPww9YvTcQq8/JV2OstnstT8Er5Y7M8G+P0c+r3jqkcU/5h99k6ZBzj88bCIzFzjVP4enV8oyxN0//yH99nXg5D8qOpLLf0jtP5kqGJXUifQ/c9cS8kHP/D+/DpwzojQEQIEmwoanVwxA4lgXt9HgE0BSSZ2AJuIbQAMJih9jjiNA5q4l5INuK0AwTKYKRj0zQNv5fmq8/DpAaCJseHrtQkB/+zpwzoxKQM3MzMzMeFJAZmZmZmZqWEAAAAAAAFxeQM3MzMzMJmJAmpmZmZkfZUBmZmZmZhhoQDMzMzMzEWtAAAAAAAAKbkBmZmZmZoFwQM3MzMzM/XFAMzMzMzN6c0CamZmZmfZ0QAAAAAAAc3ZAZmZmZmbvd0DNzMzMzGt5QDMzMzMz6HpAmpmZmZlkfEAAAAAAAOF9QGZmZmZmXX9AZmZmZuZsgECamZmZGSuBQM3MzMxM6YFAAAAAAICngkAzMzMzs2WDQGZmZmbmI4RAmpmZmRnihEDNzMzMTKCFQAAAAACAXoZAMzMzM7Mch0BmZmZm5tqHQJqZmZkZmYhAzczMzExXiUAAAAAAgBWKQDMzMzOz04pAZmZmZuaRi0CamZmZGVCMQM3MzMxMDo1AAAAAAIDMjUAzMzMzs4qOQGZmZmbmSI9A\",\"dtype\":\"float64\",\"shape\":[75]}},\"selected\":{\"id\":\"97782694-3181-45aa-a1da-499a91b8c3e9\",\"type\":\"Selection\"},\"selection_policy\":{\"id\":\"a9835f9a-3196-4a92-85ed-92c4c3b27304\",\"type\":\"UnionRenderers\"}},\"id\":\"146429a0-dfb3-40a1-832c-5436db35aa81\",\"type\":\"ColumnDataSource\"},{\"attributes\":{},\"id\":\"d0acab43-92a6-48f8-8d39-0f0ff378d2ca\",\"type\":\"BasicTickFormatter\"},{\"attributes\":{\"fill_alpha\":{\"value\":0.1},\"fill_color\":{\"value\":\"#1f77b4\"},\"line_alpha\":{\"value\":0.1},\"line_color\":{\"value\":\"#1f77b4\"},\"x\":{\"field\":\"x\"},\"y\":{\"field\":\"y\"}},\"id\":\"35b37a62-49aa-4e74-8073-2ac0f63ac552\",\"type\":\"Circle\"},{\"attributes\":{},\"id\":\"0727d4cd-6352-40be-af60-401483c811a5\",\"type\":\"BasicTicker\"},{\"attributes\":{\"callback\":null,\"end\":0.01,\"start\":1020},\"id\":\"72404af4-ab75-463c-9f91-6fa5f0cd511a\",\"type\":\"Range1d\"},{\"attributes\":{\"source\":{\"id\":\"3554fa04-dc0f-4fc2-85d9-e818c7687f72\",\"type\":\"ColumnDataSource\"}},\"id\":\"af663a42-ef13-4716-9734-22442b8ee99f\",\"type\":\"CDSView\"},{\"attributes\":{\"overlay\":{\"id\":\"968c7fcf-17cb-4cd8-b93a-e6b7554af47f\",\"type\":\"BoxAnnotation\"}},\"id\":\"61af8b9d-7c76-4c91-bf10-7f2d43ef4bf1\",\"type\":\"BoxZoomTool\"},{\"attributes\":{\"callback\":null,\"end\":321508.95253999997,\"start\":-959848.25254},\"id\":\"ac12f674-0160-419b-a8d9-5acd1a3bda8b\",\"type\":\"Range1d\"},{\"attributes\":{\"axis_label\":\"cooling rate [K/day]\",\"formatter\":{\"id\":\"d0acab43-92a6-48f8-8d39-0f0ff378d2ca\",\"type\":\"BasicTickFormatter\"},\"plot\":{\"id\":\"afadf13a-da09-4753-b67e-529bc032d461\",\"subtype\":\"Figure\",\"type\":\"Plot\"},\"ticker\":{\"id\":\"7227c45c-0eff-4a28-9ec9-a809386137f5\",\"type\":\"BasicTicker\"}},\"id\":\"298f7868-1192-4b2e-9b54-328f36fbe420\",\"type\":\"LinearAxis\"},{\"attributes\":{\"data_source\":{\"id\":\"146429a0-dfb3-40a1-832c-5436db35aa81\",\"type\":\"ColumnDataSource\"},\"glyph\":{\"id\":\"c889c880-098c-4454-bec7-65f3bd665c50\",\"type\":\"Circle\"},\"hover_glyph\":null,\"muted_glyph\":null,\"nonselection_glyph\":{\"id\":\"35b37a62-49aa-4e74-8073-2ac0f63ac552\",\"type\":\"Circle\"},\"selection_glyph\":null,\"view\":{\"id\":\"a6241895-7be5-403d-ab30-53f1a4bf56ea\",\"type\":\"CDSView\"}},\"id\":\"71d804d0-f13e-443b-a656-c31f103349ee\",\"type\":\"GlyphRenderer\"},{\"attributes\":{},\"id\":\"0d1977cc-baaa-4477-a034-227fc9391428\",\"type\":\"Selection\"},{\"attributes\":{\"callback\":null,\"data\":{\"x\":{\"__ndarray__\":\"9ShcLzNbRMEAAABAT19oQUgMAmuvuyvBexSuB+xAN0E9CtcjEoE8wQAAAMBS8zlBN4lB4FXAE0F0ApoIW3rhQMrDQq1ZNdXAJgaBlcRCCkH6fmo87MwkwVk5tMiBbAvBukkMgkrbEkG/DpwzsnPVwEgMAis7/eFAdbUV+5sM5sCgGi/dABPkQAxZ3eoJj75Ad/hrsoYKi0DsouiBr2mAwNRXkGZsTbRAIqZEEn2Hg0AAAAAAAAAAAAAAAAAAAAAAAAAAAAAAAAAAAAAAAAAAAAAAAAAAAAAAAAAAAAAAAAAAAAAAAAAAAAAAAAAAAAAAAAAAAAAAAAAAAAAAAAAAADb2NkdnfULAgT6RJwnnm8AAAAAAAAAAADDpKAeTOY5AMOkoB5M5jsAAAAAAAAAAADDpKAeTOY5AKM4fxGZokz93vp/aq+gswf7UeCnuQi1B1NUdi22ZisA2GsBbUJbEwIGOVrWkK2TA4jjwarlpZ0COtiqJ7IuBwJEOD2H8YndAbuvNfTAvmT9u6819MC+Zv695uja/uWu8r3m6Nr+5azzz3n7k8RF8QK+89auqaHrArK8B6M3qOcCRjFR9067Ov0/xkNMuFMC/xz7kPfNx0r/kNEU6I33WP4Ct9NWz8sG/sIGp7FjBob9A68NRbUSGv1ZTnujWBcO/gg07y61Cuj8j5ZsrUnrAvwAAAAAAAAAAAAAAAAAAAAAAAAAAAAAAAE4bH/SZnco8uZQfjuP4l7xYlfwPq1vBvMme2DGomsQ8/F3p5YrDyrztnTi8QzpQPLIaiSm5s4A8\",\"dtype\":\"float64\",\"shape\":[75]},\"y\":{\"__ndarray__\":\"GhExyth1ND/Sv8nbtpRIP2vylNV0PVE/aTum7souWD/At0SJ8fVgPw3Iuahxymc/MSNhhJWvcD/bTfBN02d3P2zb5nxnaoA/CD5h5MAGhz8NmeH1TyaQP+zrCsc9p5Y/LbKd76fGnz/bLW5ISEmmPww9YvTcQq8/JV2OstnstT8Er5Y7M8G+P0c+r3jqkcU/5h99k6ZBzj88bCIzFzjVP4enV8oyxN0//yH99nXg5D8qOpLLf0jtP5kqGJXUifQ/c9cS8kHP/D+/DpwzojQEQIEmwoanVwxA4lgXt9HgE0BSSZ2AJuIbQAMJih9jjiNA5q4l5INuK0AwTKYKRj0zQNv5fmq8/DpAaCJseHrtQkB/+zpwzoxKQM3MzMzMeFJAZmZmZmZqWEAAAAAAAFxeQM3MzMzMJmJAmpmZmZkfZUBmZmZmZhhoQDMzMzMzEWtAAAAAAAAKbkBmZmZmZoFwQM3MzMzM/XFAMzMzMzN6c0CamZmZmfZ0QAAAAAAAc3ZAZmZmZmbvd0DNzMzMzGt5QDMzMzMz6HpAmpmZmZlkfEAAAAAAAOF9QGZmZmZmXX9AZmZmZuZsgECamZmZGSuBQM3MzMxM6YFAAAAAAICngkAzMzMzs2WDQGZmZmbmI4RAmpmZmRnihEDNzMzMTKCFQAAAAACAXoZAMzMzM7Mch0BmZmZm5tqHQJqZmZkZmYhAzczMzExXiUAAAAAAgBWKQDMzMzOz04pAZmZmZuaRi0CamZmZGVCMQM3MzMxMDo1AAAAAAIDMjUAzMzMzs4qOQGZmZmbmSI9A\",\"dtype\":\"float64\",\"shape\":[75]}},\"selected\":{\"id\":\"d1e25f5e-27ff-42aa-8470-508c9391ee9b\",\"type\":\"Selection\"},\"selection_policy\":{\"id\":\"9f7790f8-a4d0-4804-8da1-031b12354c4c\",\"type\":\"UnionRenderers\"}},\"id\":\"5194f22b-c866-4e4b-ab0f-545838476cf4\",\"type\":\"ColumnDataSource\"},{\"attributes\":{},\"id\":\"639a86f3-d23f-4eed-a824-f750e187f49f\",\"type\":\"LinearScale\"},{\"attributes\":{},\"id\":\"1d18d045-0394-40dc-bb77-13684ecb72b6\",\"type\":\"PanTool\"},{\"attributes\":{},\"id\":\"e156f60e-12bf-43db-bce3-7a92ce977437\",\"type\":\"LinearScale\"},{\"attributes\":{},\"id\":\"14c078c8-14b1-42fb-b2a1-ba0e66792eb3\",\"type\":\"LinearScale\"},{\"attributes\":{\"fill_alpha\":{\"value\":0.7},\"fill_color\":{\"value\":\"#984ea3\"},\"line_alpha\":{\"value\":0.7},\"line_color\":{\"value\":\"#984ea3\"},\"x\":{\"field\":\"x\"},\"y\":{\"field\":\"y\"}},\"id\":\"3cfddb8e-14e6-490b-9b64-b6f3d17bf6a7\",\"type\":\"Circle\"},{\"attributes\":{},\"id\":\"83b9dbe9-cca7-4460-b02f-c43c39da10e0\",\"type\":\"ResetTool\"},{\"attributes\":{\"plot\":{\"id\":\"afadf13a-da09-4753-b67e-529bc032d461\",\"subtype\":\"Figure\",\"type\":\"Plot\"},\"ticker\":{\"id\":\"7227c45c-0eff-4a28-9ec9-a809386137f5\",\"type\":\"BasicTicker\"}},\"id\":\"d83e54e4-28c2-4ff1-a02f-ebde6d47f857\",\"type\":\"Grid\"},{\"attributes\":{},\"id\":\"80946e5a-96bf-4f14-b3b9-c9cb2ad01f17\",\"type\":\"BasicTickFormatter\"},{\"attributes\":{\"active_drag\":\"auto\",\"active_inspect\":\"auto\",\"active_scroll\":\"auto\",\"active_tap\":\"auto\",\"tools\":[{\"id\":\"1d18d045-0394-40dc-bb77-13684ecb72b6\",\"type\":\"PanTool\"},{\"id\":\"6b250ee7-0aa0-41c9-be2c-94ed25d88f3b\",\"type\":\"WheelZoomTool\"},{\"id\":\"61af8b9d-7c76-4c91-bf10-7f2d43ef4bf1\",\"type\":\"BoxZoomTool\"},{\"id\":\"4b3e871c-10f4-42df-a15f-cd29fc51721c\",\"type\":\"SaveTool\"},{\"id\":\"83b9dbe9-cca7-4460-b02f-c43c39da10e0\",\"type\":\"ResetTool\"},{\"id\":\"7b7bff83-aebe-4ba5-a835-009239541f10\",\"type\":\"HelpTool\"}]},\"id\":\"52d363b4-4fc6-4ab0-bf78-54014bfd21f0\",\"type\":\"Toolbar\"},{\"attributes\":{},\"id\":\"97782694-3181-45aa-a1da-499a91b8c3e9\",\"type\":\"Selection\"},{\"attributes\":{\"dimension\":1,\"plot\":{\"id\":\"afadf13a-da09-4753-b67e-529bc032d461\",\"subtype\":\"Figure\",\"type\":\"Plot\"},\"ticker\":{\"id\":\"0727d4cd-6352-40be-af60-401483c811a5\",\"type\":\"BasicTicker\"}},\"id\":\"e90ee47b-b43a-43fa-9841-e921ba7a2cf8\",\"type\":\"Grid\"},{\"attributes\":{\"callback\":null,\"end\":977900.33108,\"start\":-966347.17708},\"id\":\"b980a4bd-f6c3-4b3b-b56f-30f59b400621\",\"type\":\"Range1d\"},{\"attributes\":{\"callback\":null,\"end\":321494.4773954122,\"start\":-959848.6667235566},\"id\":\"8e7eae43-6f30-43a4-b521-6e3ca9bc6d79\",\"type\":\"Range1d\"},{\"attributes\":{\"items\":[{\"id\":\"6ded4726-4752-4b2c-9323-b9ddb7b1704f\",\"type\":\"LegendItem\"}],\"label_text_font_size\":{\"value\":\"8pt\"},\"location\":\"top_center\",\"orientation\":\"horizontal\",\"plot\":{\"id\":\"0f161640-6f3b-4cf3-bfa6-92db2e445465\",\"subtype\":\"Figure\",\"type\":\"Plot\"}},\"id\":\"f9c39f19-b82f-46a4-9ce8-8f46507432d1\",\"type\":\"Legend\"},{\"attributes\":{\"plot\":null,\"text\":\"\"},\"id\":\"037c7559-b4e7-44b3-a4ed-88a4ba0efcee\",\"type\":\"Title\"},{\"attributes\":{\"above\":[{\"id\":\"40d15454-ed03-44c2-a25c-fc5bfdf47344\",\"type\":\"Legend\"}],\"below\":[{\"id\":\"298f7868-1192-4b2e-9b54-328f36fbe420\",\"type\":\"LinearAxis\"}],\"left\":[{\"id\":\"20a426e8-21d9-4ae6-8c1e-b0c1c63541e9\",\"type\":\"LinearAxis\"}],\"plot_width\":300,\"renderers\":[{\"id\":\"298f7868-1192-4b2e-9b54-328f36fbe420\",\"type\":\"LinearAxis\"},{\"id\":\"d83e54e4-28c2-4ff1-a02f-ebde6d47f857\",\"type\":\"Grid\"},{\"id\":\"20a426e8-21d9-4ae6-8c1e-b0c1c63541e9\",\"type\":\"LinearAxis\"},{\"id\":\"e90ee47b-b43a-43fa-9841-e921ba7a2cf8\",\"type\":\"Grid\"},{\"id\":\"d8eed43a-7e7d-468a-9739-427c1bd3b49d\",\"type\":\"BoxAnnotation\"},{\"id\":\"33253f17-3030-4cfd-b27e-0fe3a0897331\",\"type\":\"GlyphRenderer\"},{\"id\":\"71d804d0-f13e-443b-a656-c31f103349ee\",\"type\":\"GlyphRenderer\"},{\"id\":\"6ede7821-b33b-4427-af5d-3d3dfb13b91d\",\"type\":\"GlyphRenderer\"},{\"id\":\"40d15454-ed03-44c2-a25c-fc5bfdf47344\",\"type\":\"Legend\"}],\"title\":{\"id\":\"037c7559-b4e7-44b3-a4ed-88a4ba0efcee\",\"type\":\"Title\"},\"toolbar\":{\"id\":\"843cc7a3-cada-46da-9155-9f12c7db0559\",\"type\":\"Toolbar\"},\"toolbar_location\":null,\"x_range\":{\"id\":\"b980a4bd-f6c3-4b3b-b56f-30f59b400621\",\"type\":\"Range1d\"},\"x_scale\":{\"id\":\"e156f60e-12bf-43db-bce3-7a92ce977437\",\"type\":\"LinearScale\"},\"y_range\":{\"id\":\"519c90a8-74ef-4aaa-9782-8c9f1a5473a7\",\"type\":\"Range1d\"},\"y_scale\":{\"id\":\"639a86f3-d23f-4eed-a824-f750e187f49f\",\"type\":\"LinearScale\"}},\"id\":\"afadf13a-da09-4753-b67e-529bc032d461\",\"subtype\":\"Figure\",\"type\":\"Plot\"},{\"attributes\":{\"data_source\":{\"id\":\"5101d951-6c1d-4417-9677-de9c43e101a0\",\"type\":\"ColumnDataSource\"},\"glyph\":{\"id\":\"414a81aa-7e05-4ef0-85d1-b19dabe74339\",\"type\":\"Line\"},\"hover_glyph\":null,\"muted_glyph\":null,\"nonselection_glyph\":{\"id\":\"e956db13-a5eb-44aa-a95d-f7ff16649bce\",\"type\":\"Line\"},\"selection_glyph\":null,\"view\":{\"id\":\"ef5eb20c-49d6-4ebb-aa3a-47c3a70abe40\",\"type\":\"CDSView\"}},\"id\":\"6ede7821-b33b-4427-af5d-3d3dfb13b91d\",\"type\":\"GlyphRenderer\"},{\"attributes\":{},\"id\":\"9f7790f8-a4d0-4804-8da1-031b12354c4c\",\"type\":\"UnionRenderers\"},{\"attributes\":{\"label\":{\"value\":\"CLIRAD (single-run) - CRD\"},\"renderers\":[{\"id\":\"2a67fdc1-76ba-4792-bd25-b7ecf373d949\",\"type\":\"GlyphRenderer\"},{\"id\":\"d7b57774-da46-4e06-a559-8a34a21fa824\",\"type\":\"GlyphRenderer\"}]},\"id\":\"6ded4726-4752-4b2c-9323-b9ddb7b1704f\",\"type\":\"LegendItem\"},{\"attributes\":{\"axis_label\":\"pressure [mb]\",\"formatter\":{\"id\":\"80946e5a-96bf-4f14-b3b9-c9cb2ad01f17\",\"type\":\"BasicTickFormatter\"},\"plot\":{\"id\":\"afadf13a-da09-4753-b67e-529bc032d461\",\"subtype\":\"Figure\",\"type\":\"Plot\"},\"ticker\":{\"id\":\"0727d4cd-6352-40be-af60-401483c811a5\",\"type\":\"BasicTicker\"}},\"id\":\"20a426e8-21d9-4ae6-8c1e-b0c1c63541e9\",\"type\":\"LinearAxis\"},{\"attributes\":{\"source\":{\"id\":\"5101d951-6c1d-4417-9677-de9c43e101a0\",\"type\":\"ColumnDataSource\"}},\"id\":\"ef5eb20c-49d6-4ebb-aa3a-47c3a70abe40\",\"type\":\"CDSView\"},{\"attributes\":{},\"id\":\"6b250ee7-0aa0-41c9-be2c-94ed25d88f3b\",\"type\":\"WheelZoomTool\"},{\"attributes\":{},\"id\":\"d1e25f5e-27ff-42aa-8470-508c9391ee9b\",\"type\":\"Selection\"},{\"attributes\":{\"above\":[{\"id\":\"f9c39f19-b82f-46a4-9ce8-8f46507432d1\",\"type\":\"Legend\"}],\"below\":[{\"id\":\"9a7f46bb-065e-4e95-bd7e-88b69170835c\",\"type\":\"LinearAxis\"}],\"left\":[{\"id\":\"69adc3e8-2888-48c1-aed6-10415c80240b\",\"type\":\"LogAxis\"}],\"plot_width\":300,\"renderers\":[{\"id\":\"9a7f46bb-065e-4e95-bd7e-88b69170835c\",\"type\":\"LinearAxis\"},{\"id\":\"43a8bc5d-64c3-47be-aee8-a217096d5577\",\"type\":\"Grid\"},{\"id\":\"69adc3e8-2888-48c1-aed6-10415c80240b\",\"type\":\"LogAxis\"},{\"id\":\"2221c20e-8648-4cf7-bc4b-98eb70da3cf0\",\"type\":\"Grid\"},{\"id\":\"968c7fcf-17cb-4cd8-b93a-e6b7554af47f\",\"type\":\"BoxAnnotation\"},{\"id\":\"2a67fdc1-76ba-4792-bd25-b7ecf373d949\",\"type\":\"GlyphRenderer\"},{\"id\":\"d7b57774-da46-4e06-a559-8a34a21fa824\",\"type\":\"GlyphRenderer\"},{\"id\":\"f9c39f19-b82f-46a4-9ce8-8f46507432d1\",\"type\":\"Legend\"}],\"title\":{\"id\":\"6d3b1371-ea5a-4a9e-9db7-9f27b4cf883d\",\"type\":\"Title\"},\"toolbar\":{\"id\":\"52d363b4-4fc6-4ab0-bf78-54014bfd21f0\",\"type\":\"Toolbar\"},\"toolbar_location\":null,\"x_range\":{\"id\":\"8e7eae43-6f30-43a4-b521-6e3ca9bc6d79\",\"type\":\"Range1d\"},\"x_scale\":{\"id\":\"14c078c8-14b1-42fb-b2a1-ba0e66792eb3\",\"type\":\"LinearScale\"},\"y_range\":{\"id\":\"72404af4-ab75-463c-9f91-6fa5f0cd511a\",\"type\":\"Range1d\"},\"y_scale\":{\"id\":\"1dc55cf1-319f-455a-93d9-da0a06b648ce\",\"type\":\"LogScale\"}},\"id\":\"0f161640-6f3b-4cf3-bfa6-92db2e445465\",\"subtype\":\"Figure\",\"type\":\"Plot\"},{\"attributes\":{},\"id\":\"90cf817d-0747-456e-92de-8417da17198d\",\"type\":\"Selection\"},{\"attributes\":{\"callback\":null,\"data\":{\"x\":{\"__ndarray__\":\"+AxHo1dbRMEIyInmSl9oQctqMQrxuyvBGYtYNM5AN0Gpv5e3LIE8wfiyRjE78zlBdeyl4AHAE0EGN+QG/HfhQG8cOAK1OdXAlAWZWkJCCkGRlAURC80kwc4Fg8n3bAvB2TSpKBHbEkG9XCYFHHfVwPoFZxSu++FAgDqS+gMO5sDXKaUPsRHkQPO+J1X2hL5AAre4cJy6ikALWXHS6buAwKipf9YzQrRAVIpOv2Ixg0BVc/ZmUOIgwOf/6GHAyRnAcE8fAOBSFMDRur1U//gPwGFD9ZbokgjAQsqHuSqSA8C91ci3W0UBwCtRQfvz7/6/kh8pntyB+r9t1/n+4TX1v/R9YF8QDkPAxXJPsFbrm8AhBW8WHK7uvxsGA1IWM45Ag+RhxhE/jsDwVYqzMPDhv/wrnXY7NY5AguoxaZW94L/FOET1rOgswRwCMRrtQi1BiXQxbWCdisBdjJJtiJbEwBDXaEOjNWTACOt3Pd9gZ0CGdxf1dY+BwJwBEMMHWXdA/jNhogvF678YcHQdMGXzv2bw+R5DQ/a/RLSuQOQp+L+It4Ib5fh7QF+m1vbvgXrAiJINyut7O8B0JW9972/8v07Xwhjp/vm/eq41nfHi+7+9u+H8nuLwv0/o+JZg8ve/q+V0uOJu9b/kHQk3/jj0vzj5lPiom/W/lnuuI0jR8L/4xcmnxdjzv5l9lNXYSPG/OB+F0UYP8b8Y7dsUCTHxv28BgTHPcPG/bvx15p8S8b8IT+xkGtTuv6WdG7rkxum/rboqTkHX5L/CrN8qGYngv7N4ZaL+htW/\",\"dtype\":\"float64\",\"shape\":[75]},\"y\":{\"__ndarray__\":\"GhExyth1ND/Sv8nbtpRIP2vylNV0PVE/aTum7souWD/At0SJ8fVgPw3Iuahxymc/MSNhhJWvcD/bTfBN02d3P2zb5nxnaoA/CD5h5MAGhz8NmeH1TyaQP+zrCsc9p5Y/LbKd76fGnz/bLW5ISEmmPww9YvTcQq8/JV2OstnstT8Er5Y7M8G+P0c+r3jqkcU/5h99k6ZBzj88bCIzFzjVP4enV8oyxN0//yH99nXg5D8qOpLLf0jtP5kqGJXUifQ/c9cS8kHP/D+/DpwzojQEQIEmwoanVwxA4lgXt9HgE0BSSZ2AJuIbQAMJih9jjiNA5q4l5INuK0AwTKYKRj0zQNv5fmq8/DpAaCJseHrtQkB/+zpwzoxKQM3MzMzMeFJAZmZmZmZqWEAAAAAAAFxeQM3MzMzMJmJAmpmZmZkfZUBmZmZmZhhoQDMzMzMzEWtAAAAAAAAKbkBmZmZmZoFwQM3MzMzM/XFAMzMzMzN6c0CamZmZmfZ0QAAAAAAAc3ZAZmZmZmbvd0DNzMzMzGt5QDMzMzMz6HpAmpmZmZlkfEAAAAAAAOF9QGZmZmZmXX9AZmZmZuZsgECamZmZGSuBQM3MzMxM6YFAAAAAAICngkAzMzMzs2WDQGZmZmbmI4RAmpmZmRnihEDNzMzMTKCFQAAAAACAXoZAMzMzM7Mch0BmZmZm5tqHQJqZmZkZmYhAzczMzExXiUAAAAAAgBWKQDMzMzOz04pAZmZmZuaRi0CamZmZGVCMQM3MzMxMDo1AAAAAAIDMjUAzMzMzs4qOQGZmZmbmSI9A\",\"dtype\":\"float64\",\"shape\":[75]}},\"selected\":{\"id\":\"0151daac-bdb3-47c7-ba25-05c58ccf3c83\",\"type\":\"Selection\"},\"selection_policy\":{\"id\":\"eedebe49-0f35-48db-8e95-2f0092d447c5\",\"type\":\"UnionRenderers\"}},\"id\":\"3554fa04-dc0f-4fc2-85d9-e818c7687f72\",\"type\":\"ColumnDataSource\"},{\"attributes\":{},\"id\":\"7227c45c-0eff-4a28-9ec9-a809386137f5\",\"type\":\"BasicTicker\"},{\"attributes\":{\"line_alpha\":0.1,\"line_color\":\"#1f77b4\",\"line_width\":1.5,\"x\":{\"field\":\"x\"},\"y\":{\"field\":\"y\"}},\"id\":\"622056c2-8b3a-4c60-baf3-f1d5af550ff3\",\"type\":\"Line\"},{\"attributes\":{\"callback\":null,\"data\":{\"x\":{\"__ndarray__\":\"+AxHo1dbRMEIyInmSl9oQctqMQrxuyvBGYtYNM5AN0Gpv5e3LIE8wfiyRjE78zlBdeyl4AHAE0EGN+QG/HfhQG8cOAK1OdXAlAWZWkJCCkGRlAURC80kwc4Fg8n3bAvB2TSpKBHbEkG9XCYFHHfVwPoFZxSu++FAgDqS+gMO5sDXKaUPsRHkQPO+J1X2hL5AAre4cJy6ikALWXHS6buAwKipf9YzQrRAVIpOv2Ixg0BVc/ZmUOIgwOf/6GHAyRnAcE8fAOBSFMDRur1U//gPwGFD9ZbokgjAQsqHuSqSA8C91ci3W0UBwCtRQfvz7/6/kh8pntyB+r9t1/n+4TX1v/R9YF8QDkPAxXJPsFbrm8AhBW8WHK7uvxsGA1IWM45Ag+RhxhE/jsDwVYqzMPDhv/wrnXY7NY5AguoxaZW94L/FOET1rOgswRwCMRrtQi1BiXQxbWCdisBdjJJtiJbEwBDXaEOjNWTACOt3Pd9gZ0CGdxf1dY+BwJwBEMMHWXdA/jNhogvF678YcHQdMGXzv2bw+R5DQ/a/RLSuQOQp+L+It4Ib5fh7QF+m1vbvgXrAiJINyut7O8B0JW9972/8v07Xwhjp/vm/eq41nfHi+7+9u+H8nuLwv0/o+JZg8ve/q+V0uOJu9b/kHQk3/jj0vzj5lPiom/W/lnuuI0jR8L/4xcmnxdjzv5l9lNXYSPG/OB+F0UYP8b8Y7dsUCTHxv28BgTHPcPG/bvx15p8S8b8IT+xkGtTuv6WdG7rkxum/rboqTkHX5L/CrN8qGYngv7N4ZaL+htW/\",\"dtype\":\"float64\",\"shape\":[75]},\"y\":{\"__ndarray__\":\"GhExyth1ND/Sv8nbtpRIP2vylNV0PVE/aTum7souWD/At0SJ8fVgPw3Iuahxymc/MSNhhJWvcD/bTfBN02d3P2zb5nxnaoA/CD5h5MAGhz8NmeH1TyaQP+zrCsc9p5Y/LbKd76fGnz/bLW5ISEmmPww9YvTcQq8/JV2OstnstT8Er5Y7M8G+P0c+r3jqkcU/5h99k6ZBzj88bCIzFzjVP4enV8oyxN0//yH99nXg5D8qOpLLf0jtP5kqGJXUifQ/c9cS8kHP/D+/DpwzojQEQIEmwoanVwxA4lgXt9HgE0BSSZ2AJuIbQAMJih9jjiNA5q4l5INuK0AwTKYKRj0zQNv5fmq8/DpAaCJseHrtQkB/+zpwzoxKQM3MzMzMeFJAZmZmZmZqWEAAAAAAAFxeQM3MzMzMJmJAmpmZmZkfZUBmZmZmZhhoQDMzMzMzEWtAAAAAAAAKbkBmZmZmZoFwQM3MzMzM/XFAMzMzMzN6c0CamZmZmfZ0QAAAAAAAc3ZAZmZmZmbvd0DNzMzMzGt5QDMzMzMz6HpAmpmZmZlkfEAAAAAAAOF9QGZmZmZmXX9AZmZmZuZsgECamZmZGSuBQM3MzMxM6YFAAAAAAICngkAzMzMzs2WDQGZmZmbmI4RAmpmZmRnihEDNzMzMTKCFQAAAAACAXoZAMzMzM7Mch0BmZmZm5tqHQJqZmZkZmYhAzczMzExXiUAAAAAAgBWKQDMzMzOz04pAZmZmZuaRi0CamZmZGVCMQM3MzMxMDo1AAAAAAIDMjUAzMzMzs4qOQGZmZmbmSI9A\",\"dtype\":\"float64\",\"shape\":[75]}},\"selected\":{\"id\":\"d004a6dc-eb5c-4c84-ac81-54bc3581ca3d\",\"type\":\"Selection\"},\"selection_policy\":{\"id\":\"1a138b46-eae5-461e-96ad-b5563046892a\",\"type\":\"UnionRenderers\"}},\"id\":\"7d6a514b-0a36-46fb-92cd-0affdbfc1f28\",\"type\":\"ColumnDataSource\"},{\"attributes\":{\"label\":{\"value\":\"CRD\"},\"renderers\":[{\"id\":\"a20834ae-031b-46d1-9808-7e7f6283e1ed\",\"type\":\"GlyphRenderer\"},{\"id\":\"58d4303a-ff06-474a-ad1f-4347f64509e9\",\"type\":\"GlyphRenderer\"}]},\"id\":\"a87e6810-4e73-47e1-9131-33eaefdf9c2c\",\"type\":\"LegendItem\"},{\"attributes\":{\"line_alpha\":0.8,\"line_color\":\"#984ea3\",\"line_width\":1.5,\"x\":{\"field\":\"x\"},\"y\":{\"field\":\"y\"}},\"id\":\"d33c08a1-0791-47a9-90b7-bb58895e9fc8\",\"type\":\"Line\"},{\"attributes\":{\"line_alpha\":0.1,\"line_color\":\"#1f77b4\",\"line_width\":1.5,\"x\":{\"field\":\"x\"},\"y\":{\"field\":\"y\"}},\"id\":\"e956db13-a5eb-44aa-a95d-f7ff16649bce\",\"type\":\"Line\"},{\"attributes\":{},\"id\":\"4b3e871c-10f4-42df-a15f-cd29fc51721c\",\"type\":\"SaveTool\"},{\"attributes\":{\"line_color\":\"#4daf4a\",\"line_width\":1.5,\"x\":{\"field\":\"x\"},\"y\":{\"field\":\"y\"}},\"id\":\"414a81aa-7e05-4ef0-85d1-b19dabe74339\",\"type\":\"Line\"}],\"root_ids\":[\"96dd2fd8-3edb-4fbe-9549-2dd993ce853f\"]},\"title\":\"Bokeh Application\",\"version\":\"0.12.16\"}};\n",
       "  var render_items = [{\"docid\":\"f795a1ba-e73f-454d-add7-7425c95df25e\",\"elementid\":\"21c49ca7-38a8-41c9-afa9-60ada89b1c78\",\"modelid\":\"96dd2fd8-3edb-4fbe-9549-2dd993ce853f\"}];\n",
       "  root.Bokeh.embed.embed_items_notebook(docs_json, render_items);\n",
       "\n",
       "  }\n",
       "  if (root.Bokeh !== undefined) {\n",
       "    embed_document(root);\n",
       "  } else {\n",
       "    var attempts = 0;\n",
       "    var timer = setInterval(function(root) {\n",
       "      if (root.Bokeh !== undefined) {\n",
       "        embed_document(root);\n",
       "        clearInterval(timer);\n",
       "      }\n",
       "      attempts++;\n",
       "      if (attempts > 100) {\n",
       "        console.log(\"Bokeh: ERROR: Unable to run BokehJS code because BokehJS library is missing\")\n",
       "        clearInterval(timer);\n",
       "      }\n",
       "    }, 10, root)\n",
       "  }\n",
       "})(window);"
      ],
      "application/vnd.bokehjs_exec.v0+json": ""
     },
     "metadata": {
      "application/vnd.bokehjs_exec.v0+json": {
       "id": "96dd2fd8-3edb-4fbe-9549-2dd993ce853f"
      }
     },
     "output_type": "display_data"
    },
    {
     "data": {
      "text/markdown": [
       "*FIGURE.* Cooling rates & difference."
      ],
      "text/plain": [
       "<IPython.core.display.Markdown object>"
      ]
     },
     "metadata": {},
     "output_type": "display_data"
    },
    {
     "data": {
      "text/html": [
       "<a id=\"Fluxes._saw.\"></a>"
      ],
      "text/plain": [
       "<IPython.core.display.HTML object>"
      ]
     },
     "metadata": {},
     "output_type": "display_data"
    },
    {
     "data": {
      "text/markdown": [
       "# Fluxes. saw."
      ],
      "text/plain": [
       "<IPython.core.display.Markdown object>"
      ]
     },
     "metadata": {},
     "output_type": "display_data"
    },
    {
     "data": {
      "text/html": [
       "\n",
       "<div class=\"bk-root\">\n",
       "    <div class=\"bk-plotdiv\" id=\"1eae8751-4d2a-49a5-b1b3-96ceb136ba9d\"></div>\n",
       "</div>"
      ]
     },
     "metadata": {},
     "output_type": "display_data"
    },
    {
     "data": {
      "application/javascript": [
       "(function(root) {\n",
       "  function embed_document(root) {\n",
       "    \n",
       "  var docs_json = {\"ca484d92-326a-48f9-bf80-1380b464e825\":{\"roots\":{\"references\":[{\"attributes\":{\"below\":[{\"id\":\"4e0903b5-323b-4cd5-bc72-a857d5f12b50\",\"type\":\"CategoricalAxis\"}],\"left\":[{\"id\":\"22616d91-e8ff-4869-a4dd-5a40dd6fcda0\",\"type\":\"LinearAxis\"}],\"plot_height\":300,\"plot_width\":300,\"renderers\":[{\"id\":\"4e0903b5-323b-4cd5-bc72-a857d5f12b50\",\"type\":\"CategoricalAxis\"},{\"id\":\"1bd1bcb8-0e00-4e04-b068-ad6ade36f6f8\",\"type\":\"Grid\"},{\"id\":\"22616d91-e8ff-4869-a4dd-5a40dd6fcda0\",\"type\":\"LinearAxis\"},{\"id\":\"bcca9773-1943-4916-b60a-cdb5110f982a\",\"type\":\"Grid\"},{\"id\":\"1fcaa02c-67d8-45b8-b6f7-a916997262ad\",\"type\":\"BoxAnnotation\"},{\"id\":\"c03d0b61-49f7-4e94-8629-cee08525f62d\",\"type\":\"GlyphRenderer\"}],\"title\":{\"id\":\"ee4d28f6-b16e-4f45-a92c-9fd8b3689a17\",\"type\":\"Title\"},\"toolbar\":{\"id\":\"ca97271b-f2e6-44b7-b328-70970ff60b2e\",\"type\":\"Toolbar\"},\"toolbar_location\":null,\"x_range\":{\"id\":\"a5b6376f-ad4b-402b-a39d-7c95b08cd6b0\",\"type\":\"FactorRange\"},\"x_scale\":{\"id\":\"4fc52109-4184-42a1-8878-926fc03fb718\",\"type\":\"CategoricalScale\"},\"y_range\":{\"id\":\"e5d77e6b-55a6-4118-8298-83cd8afd44d3\",\"type\":\"DataRange1d\"},\"y_scale\":{\"id\":\"2c2b8870-1c71-4cd5-ba58-4fa7d6dc4c53\",\"type\":\"LinearScale\"}},\"id\":\"bb898d3e-4c8a-49f6-bf1c-df018f927d49\",\"subtype\":\"Figure\",\"type\":\"Plot\"},{\"attributes\":{},\"id\":\"dcca6113-74f4-46d4-b911-841fa68401c4\",\"type\":\"PanTool\"},{\"attributes\":{},\"id\":\"dda109ca-1216-4c7f-b487-66d539925a3f\",\"type\":\"SaveTool\"},{\"attributes\":{\"bottom_units\":\"screen\",\"fill_alpha\":{\"value\":0.5},\"fill_color\":{\"value\":\"lightgrey\"},\"left_units\":\"screen\",\"level\":\"overlay\",\"line_alpha\":{\"value\":1.0},\"line_color\":{\"value\":\"black\"},\"line_dash\":[4,4],\"line_width\":{\"value\":2},\"plot\":null,\"render_mode\":\"css\",\"right_units\":\"screen\",\"top_units\":\"screen\"},\"id\":\"1fcaa02c-67d8-45b8-b6f7-a916997262ad\",\"type\":\"BoxAnnotation\"},{\"attributes\":{\"fill_alpha\":{\"value\":0.1},\"fill_color\":{\"value\":\"#1f77b4\"},\"line_alpha\":{\"value\":0.1},\"line_color\":{\"value\":\"#1f77b4\"},\"top\":{\"field\":\"flux\"},\"width\":{\"value\":0.9},\"x\":{\"field\":\"band\"}},\"id\":\"387d533a-8c83-445a-b657-e206972a4970\",\"type\":\"VBar\"},{\"attributes\":{},\"id\":\"1e660640-2012-47f5-bbed-fba9ebef910c\",\"type\":\"HelpTool\"},{\"attributes\":{},\"id\":\"dde54bb6-bb18-4b38-9116-936348ba018d\",\"type\":\"ResetTool\"},{\"attributes\":{},\"id\":\"0a85f3d2-df19-4bad-bc11-0ced31ed3469\",\"type\":\"WheelZoomTool\"},{\"attributes\":{},\"id\":\"dc452716-be47-46ad-a108-b72fc38dc609\",\"type\":\"BasicTickFormatter\"},{\"attributes\":{\"callback\":null,\"data\":{\"band\":[\"1\",\"2\",\"3\",\"4\",\"5\",\"6\",\"7\",\"8\",\"9\",\"10\",\"11\"],\"flux\":{\"__ndarray__\":\"wgXZsnylIMAs/OB86lAnQGsQ5nYvkzTAuO171F//OcB2HD9UGvE3wFA+PbZlIB7ATB+6oL5VPcCyZmSQuxA+wA24+CUsskDA5B4Bkp+yQcD6Orpbo45DwA==\",\"dtype\":\"float64\",\"shape\":[11]}},\"selected\":{\"id\":\"bb0fe4d0-6a37-4871-8a55-61fdbdf1cffd\",\"type\":\"Selection\"},\"selection_policy\":{\"id\":\"94f6de19-9ff9-4e69-a381-263bd6c188b5\",\"type\":\"UnionRenderers\"}},\"id\":\"98374965-f9a0-422f-b2bd-c3e85276ba5e\",\"type\":\"ColumnDataSource\"},{\"attributes\":{\"source\":{\"id\":\"48d5ac03-d565-4fc5-8860-e16a98b9a8cc\",\"type\":\"ColumnDataSource\"}},\"id\":\"e2d6b6b6-91e4-442f-a56d-49227f20db2c\",\"type\":\"CDSView\"},{\"attributes\":{\"children\":[{\"id\":\"d35a6b5d-dc75-45f6-82c6-50b302a1e585\",\"type\":\"Row\"}]},\"id\":\"986fb902-47f5-4dd3-a4a2-3a7854d90382\",\"type\":\"Column\"},{\"attributes\":{\"overlay\":{\"id\":\"1fcaa02c-67d8-45b8-b6f7-a916997262ad\",\"type\":\"BoxAnnotation\"}},\"id\":\"e78f8f80-3be2-45dc-a673-3d631dc322d3\",\"type\":\"BoxZoomTool\"},{\"attributes\":{},\"id\":\"885a8353-1cc7-483d-a959-a4ce8520457b\",\"type\":\"CategoricalTicker\"},{\"attributes\":{},\"id\":\"4fc52109-4184-42a1-8878-926fc03fb718\",\"type\":\"CategoricalScale\"},{\"attributes\":{\"fill_alpha\":{\"value\":0.1},\"fill_color\":{\"value\":\"#1f77b4\"},\"line_alpha\":{\"value\":0.1},\"line_color\":{\"value\":\"#1f77b4\"},\"top\":{\"field\":\"flux\"},\"width\":{\"value\":0.9},\"x\":{\"field\":\"band\"}},\"id\":\"abd854d7-4c41-47c0-9396-575310013905\",\"type\":\"VBar\"},{\"attributes\":{\"children\":[{\"id\":\"87251d49-4053-4de8-a6b9-3225acb61b23\",\"type\":\"ToolbarBox\"},{\"id\":\"986fb902-47f5-4dd3-a4a2-3a7854d90382\",\"type\":\"Column\"}]},\"id\":\"558935b8-abde-48f3-9ad3-7d94ab06a378\",\"type\":\"Column\"},{\"attributes\":{},\"id\":\"7a057d10-796e-4e76-81c4-1655a39309b4\",\"type\":\"HelpTool\"},{\"attributes\":{\"fill_alpha\":{\"value\":0.1},\"fill_color\":{\"value\":\"#1f77b4\"},\"line_alpha\":{\"value\":0.1},\"line_color\":{\"value\":\"#1f77b4\"},\"top\":{\"field\":\"flux\"},\"width\":{\"value\":0.9},\"x\":{\"field\":\"band\"}},\"id\":\"7920b604-920d-47e6-8cdf-5e40ee41ebbe\",\"type\":\"VBar\"},{\"attributes\":{\"axis_label\":\"flux (W m-2)\",\"formatter\":{\"id\":\"dc452716-be47-46ad-a108-b72fc38dc609\",\"type\":\"BasicTickFormatter\"},\"plot\":{\"id\":\"ffaedb30-f03e-4028-ba8c-e613da37a105\",\"subtype\":\"Figure\",\"type\":\"Plot\"},\"ticker\":{\"id\":\"1185cd16-e48c-41fe-8fd4-bb21dd61c35f\",\"type\":\"BasicTicker\"}},\"id\":\"739feab5-7b7a-4ffa-9d35-90ccc26f66dc\",\"type\":\"LinearAxis\"},{\"attributes\":{},\"id\":\"bc90bc44-ae18-44b2-bd84-522719363455\",\"type\":\"LinearScale\"},{\"attributes\":{},\"id\":\"32dec123-9ffb-4924-b14b-1a1ee12baf5e\",\"type\":\"SaveTool\"},{\"attributes\":{},\"id\":\"a3db1309-effa-423f-9780-52fca24f6689\",\"type\":\"CategoricalTicker\"},{\"attributes\":{},\"id\":\"308f9645-4b26-4049-ac9d-94be9b5b8b0e\",\"type\":\"CategoricalScale\"},{\"attributes\":{\"dimension\":1,\"plot\":{\"id\":\"bb898d3e-4c8a-49f6-bf1c-df018f927d49\",\"subtype\":\"Figure\",\"type\":\"Plot\"},\"ticker\":{\"id\":\"3002dfae-30a3-4c12-89b9-4f97d6b279e9\",\"type\":\"BasicTicker\"}},\"id\":\"bcca9773-1943-4916-b60a-cdb5110f982a\",\"type\":\"Grid\"},{\"attributes\":{\"plot\":{\"id\":\"0cdf1bac-20d6-48d5-81e6-3460835254b8\",\"subtype\":\"Figure\",\"type\":\"Plot\"},\"ticker\":{\"id\":\"885a8353-1cc7-483d-a959-a4ce8520457b\",\"type\":\"CategoricalTicker\"}},\"id\":\"761b4f71-0d26-4054-9136-664817b84862\",\"type\":\"Grid\"},{\"attributes\":{\"data_source\":{\"id\":\"48d5ac03-d565-4fc5-8860-e16a98b9a8cc\",\"type\":\"ColumnDataSource\"},\"glyph\":{\"id\":\"90181df0-0ccd-4223-bbef-248ecb64510a\",\"type\":\"VBar\"},\"hover_glyph\":null,\"muted_glyph\":null,\"nonselection_glyph\":{\"id\":\"387d533a-8c83-445a-b657-e206972a4970\",\"type\":\"VBar\"},\"selection_glyph\":null,\"view\":{\"id\":\"e2d6b6b6-91e4-442f-a56d-49227f20db2c\",\"type\":\"CDSView\"}},\"id\":\"6d7e33ef-ca11-4493-8dc3-5800207ee339\",\"type\":\"GlyphRenderer\"},{\"attributes\":{\"fill_color\":{\"value\":\"#1f77b4\"},\"line_color\":{\"value\":\"#1f77b4\"},\"top\":{\"field\":\"flux\"},\"width\":{\"value\":0.9},\"x\":{\"field\":\"band\"}},\"id\":\"ef8abcfb-d976-4b68-825d-88796eb5c6cf\",\"type\":\"VBar\"},{\"attributes\":{\"overlay\":{\"id\":\"c3bf83f7-8d0f-455d-95a6-c6c632a3e084\",\"type\":\"BoxAnnotation\"}},\"id\":\"84d6b809-3dca-4c80-9186-fa4170390301\",\"type\":\"BoxZoomTool\"},{\"attributes\":{\"bottom_units\":\"screen\",\"fill_alpha\":{\"value\":0.5},\"fill_color\":{\"value\":\"lightgrey\"},\"left_units\":\"screen\",\"level\":\"overlay\",\"line_alpha\":{\"value\":1.0},\"line_color\":{\"value\":\"black\"},\"line_dash\":[4,4],\"line_width\":{\"value\":2},\"plot\":null,\"render_mode\":\"css\",\"right_units\":\"screen\",\"top_units\":\"screen\"},\"id\":\"699dcfd6-9e39-4a70-9af1-dd8d14a55cf4\",\"type\":\"BoxAnnotation\"},{\"attributes\":{},\"id\":\"941ea0db-3ea4-4af1-994e-7fd7da0fc1b4\",\"type\":\"BasicTickFormatter\"},{\"attributes\":{\"active_drag\":\"auto\",\"active_inspect\":\"auto\",\"active_scroll\":\"auto\",\"active_tap\":\"auto\",\"tools\":[{\"id\":\"8695d5ac-c192-4f7b-b3c0-add4e8c6a98a\",\"type\":\"PanTool\"},{\"id\":\"6088335a-86d3-4f1e-9259-f60271b4f819\",\"type\":\"WheelZoomTool\"},{\"id\":\"84d6b809-3dca-4c80-9186-fa4170390301\",\"type\":\"BoxZoomTool\"},{\"id\":\"2fa2a354-a8a6-47c1-94fc-db7098e90c17\",\"type\":\"SaveTool\"},{\"id\":\"2597732a-f85c-40bc-9687-0a731bad755b\",\"type\":\"ResetTool\"},{\"id\":\"82a35ccb-4b61-4ebb-8cf7-f7a311c3176b\",\"type\":\"HelpTool\"}]},\"id\":\"5f1cf19d-2269-42fe-964d-d195c46010f2\",\"type\":\"Toolbar\"},{\"attributes\":{},\"id\":\"2e109d18-83cd-4158-8a91-267be41f2d78\",\"type\":\"UnionRenderers\"},{\"attributes\":{},\"id\":\"1bb90016-0189-4d1d-b962-537e83f82c17\",\"type\":\"Selection\"},{\"attributes\":{\"axis_label\":\"flux (W m-2)\",\"formatter\":{\"id\":\"7413838d-735f-4a7d-99ac-a46038a40859\",\"type\":\"BasicTickFormatter\"},\"plot\":{\"id\":\"bb898d3e-4c8a-49f6-bf1c-df018f927d49\",\"subtype\":\"Figure\",\"type\":\"Plot\"},\"ticker\":{\"id\":\"3002dfae-30a3-4c12-89b9-4f97d6b279e9\",\"type\":\"BasicTicker\"}},\"id\":\"22616d91-e8ff-4869-a4dd-5a40dd6fcda0\",\"type\":\"LinearAxis\"},{\"attributes\":{\"callback\":null,\"factors\":[\"1\",\"2\",\"3\",\"4\",\"5\",\"6\",\"7\",\"8\",\"9\",\"10\",\"11\"]},\"id\":\"f611a6c4-9013-4313-b2b9-a31eb1844b6e\",\"type\":\"FactorRange\"},{\"attributes\":{},\"id\":\"bb0fe4d0-6a37-4871-8a55-61fdbdf1cffd\",\"type\":\"Selection\"},{\"attributes\":{},\"id\":\"deaf7df2-c0b8-4e3a-b3f2-41ca5166a30d\",\"type\":\"CategoricalTickFormatter\"},{\"attributes\":{},\"id\":\"835fac01-8f02-41f6-a789-c282f23e4c5e\",\"type\":\"LinearScale\"},{\"attributes\":{\"callback\":null},\"id\":\"e5d77e6b-55a6-4118-8298-83cd8afd44d3\",\"type\":\"DataRange1d\"},{\"attributes\":{\"below\":[{\"id\":\"40ede676-e0be-4ad7-b358-94fffee59169\",\"type\":\"CategoricalAxis\"}],\"left\":[{\"id\":\"89be29de-ee3c-44fa-b557-822ffc23d755\",\"type\":\"LinearAxis\"}],\"plot_height\":300,\"plot_width\":300,\"renderers\":[{\"id\":\"40ede676-e0be-4ad7-b358-94fffee59169\",\"type\":\"CategoricalAxis\"},{\"id\":\"761b4f71-0d26-4054-9136-664817b84862\",\"type\":\"Grid\"},{\"id\":\"89be29de-ee3c-44fa-b557-822ffc23d755\",\"type\":\"LinearAxis\"},{\"id\":\"c365033f-bbbe-401d-acfe-016c04b9dd0c\",\"type\":\"Grid\"},{\"id\":\"699dcfd6-9e39-4a70-9af1-dd8d14a55cf4\",\"type\":\"BoxAnnotation\"},{\"id\":\"6d7e33ef-ca11-4493-8dc3-5800207ee339\",\"type\":\"GlyphRenderer\"}],\"title\":{\"id\":\"1684d0b0-712c-4bb0-8e51-785af9df735c\",\"type\":\"Title\"},\"toolbar\":{\"id\":\"d035b9ae-561c-49df-a0cd-bf13d726a269\",\"type\":\"Toolbar\"},\"toolbar_location\":null,\"x_range\":{\"id\":\"830f3d23-2f14-4798-892b-f0a0f6de0f13\",\"type\":\"FactorRange\"},\"x_scale\":{\"id\":\"f14dcefb-da40-4bc8-bb2d-c5c8822f6f62\",\"type\":\"CategoricalScale\"},\"y_range\":{\"id\":\"4450f3ef-ce98-451f-86b9-b7baf0c05ce9\",\"type\":\"DataRange1d\"},\"y_scale\":{\"id\":\"835fac01-8f02-41f6-a789-c282f23e4c5e\",\"type\":\"LinearScale\"}},\"id\":\"0cdf1bac-20d6-48d5-81e6-3460835254b8\",\"subtype\":\"Figure\",\"type\":\"Plot\"},{\"attributes\":{\"callback\":null,\"data\":{\"band\":[\"1\",\"2\",\"3\",\"4\",\"5\",\"6\",\"7\",\"8\",\"9\",\"10\",\"11\"],\"flux\":{\"__ndarray__\":\"wEVYOydrIMBgoDL+ffYCQDBaNim7cTrAipPQna3mOcD9wcBz79VAwDrtKTknnkPAtOveisSURMBjPzDs1cJDwHhtJSoKLELAAMJ45/+uQcBLepQh+fRDwA==\",\"dtype\":\"float64\",\"shape\":[11]}},\"selected\":{\"id\":\"1bb90016-0189-4d1d-b962-537e83f82c17\",\"type\":\"Selection\"},\"selection_policy\":{\"id\":\"12602d60-2538-4cdc-b3f3-0d0d8adf00c0\",\"type\":\"UnionRenderers\"}},\"id\":\"af06e740-eca8-4223-b474-704213d556b6\",\"type\":\"ColumnDataSource\"},{\"attributes\":{},\"id\":\"94f6de19-9ff9-4e69-a381-263bd6c188b5\",\"type\":\"UnionRenderers\"},{\"attributes\":{\"callback\":null},\"id\":\"1cc0f24a-b7be-413a-9a4f-4f7ca0e51d66\",\"type\":\"DataRange1d\"},{\"attributes\":{},\"id\":\"8695d5ac-c192-4f7b-b3c0-add4e8c6a98a\",\"type\":\"PanTool\"},{\"attributes\":{},\"id\":\"3002dfae-30a3-4c12-89b9-4f97d6b279e9\",\"type\":\"BasicTicker\"},{\"attributes\":{},\"id\":\"12602d60-2538-4cdc-b3f3-0d0d8adf00c0\",\"type\":\"UnionRenderers\"},{\"attributes\":{},\"id\":\"82a35ccb-4b61-4ebb-8cf7-f7a311c3176b\",\"type\":\"HelpTool\"},{\"attributes\":{\"callback\":null},\"id\":\"4450f3ef-ce98-451f-86b9-b7baf0c05ce9\",\"type\":\"DataRange1d\"},{\"attributes\":{\"axis_label\":\"spectral band\",\"formatter\":{\"id\":\"43b264a0-69c7-4b52-b5fa-236ffe34988c\",\"type\":\"CategoricalTickFormatter\"},\"plot\":{\"id\":\"ffaedb30-f03e-4028-ba8c-e613da37a105\",\"subtype\":\"Figure\",\"type\":\"Plot\"},\"ticker\":{\"id\":\"955c7423-dcb4-45bf-8ee9-6b3d72cc17cc\",\"type\":\"CategoricalTicker\"}},\"id\":\"58d22214-6e08-4fe2-9706-ff3b997930ee\",\"type\":\"CategoricalAxis\"},{\"attributes\":{},\"id\":\"0a91cf49-e4eb-4ae7-a15f-a22d805866e9\",\"type\":\"Selection\"},{\"attributes\":{\"children\":[{\"id\":\"bb898d3e-4c8a-49f6-bf1c-df018f927d49\",\"subtype\":\"Figure\",\"type\":\"Plot\"},{\"id\":\"0cdf1bac-20d6-48d5-81e6-3460835254b8\",\"subtype\":\"Figure\",\"type\":\"Plot\"},{\"id\":\"ffaedb30-f03e-4028-ba8c-e613da37a105\",\"subtype\":\"Figure\",\"type\":\"Plot\"}]},\"id\":\"d35a6b5d-dc75-45f6-82c6-50b302a1e585\",\"type\":\"Row\"},{\"attributes\":{\"axis_label\":\"spectral band\",\"formatter\":{\"id\":\"50813411-2e26-4234-8976-7e3ee3d29ec3\",\"type\":\"CategoricalTickFormatter\"},\"plot\":{\"id\":\"bb898d3e-4c8a-49f6-bf1c-df018f927d49\",\"subtype\":\"Figure\",\"type\":\"Plot\"},\"ticker\":{\"id\":\"a3db1309-effa-423f-9780-52fca24f6689\",\"type\":\"CategoricalTicker\"}},\"id\":\"4e0903b5-323b-4cd5-bc72-a857d5f12b50\",\"type\":\"CategoricalAxis\"},{\"attributes\":{\"axis_label\":\"spectral band\",\"formatter\":{\"id\":\"deaf7df2-c0b8-4e3a-b3f2-41ca5166a30d\",\"type\":\"CategoricalTickFormatter\"},\"plot\":{\"id\":\"0cdf1bac-20d6-48d5-81e6-3460835254b8\",\"subtype\":\"Figure\",\"type\":\"Plot\"},\"ticker\":{\"id\":\"885a8353-1cc7-483d-a959-a4ce8520457b\",\"type\":\"CategoricalTicker\"}},\"id\":\"40ede676-e0be-4ad7-b358-94fffee59169\",\"type\":\"CategoricalAxis\"},{\"attributes\":{\"plot\":null,\"text\":\"Atmosphere heating. CLIRAD (single-run) - CRD.\"},\"id\":\"5e8ee292-f6df-414a-8e98-706dd5bba392\",\"type\":\"Title\"},{\"attributes\":{},\"id\":\"2fa2a354-a8a6-47c1-94fc-db7098e90c17\",\"type\":\"SaveTool\"},{\"attributes\":{\"source\":{\"id\":\"af06e740-eca8-4223-b474-704213d556b6\",\"type\":\"ColumnDataSource\"}},\"id\":\"5f2cd724-577a-4856-b45b-116c10d03c10\",\"type\":\"CDSView\"},{\"attributes\":{\"overlay\":{\"id\":\"699dcfd6-9e39-4a70-9af1-dd8d14a55cf4\",\"type\":\"BoxAnnotation\"}},\"id\":\"0255c73f-f90a-4376-ac21-b71927f93e05\",\"type\":\"BoxZoomTool\"},{\"attributes\":{},\"id\":\"50813411-2e26-4234-8976-7e3ee3d29ec3\",\"type\":\"CategoricalTickFormatter\"},{\"attributes\":{\"plot\":{\"id\":\"bb898d3e-4c8a-49f6-bf1c-df018f927d49\",\"subtype\":\"Figure\",\"type\":\"Plot\"},\"ticker\":{\"id\":\"a3db1309-effa-423f-9780-52fca24f6689\",\"type\":\"CategoricalTicker\"}},\"id\":\"1bd1bcb8-0e00-4e04-b068-ad6ade36f6f8\",\"type\":\"Grid\"},{\"attributes\":{\"active_drag\":\"auto\",\"active_inspect\":\"auto\",\"active_scroll\":\"auto\",\"active_tap\":\"auto\",\"tools\":[{\"id\":\"dcca6113-74f4-46d4-b911-841fa68401c4\",\"type\":\"PanTool\"},{\"id\":\"0a85f3d2-df19-4bad-bc11-0ced31ed3469\",\"type\":\"WheelZoomTool\"},{\"id\":\"e78f8f80-3be2-45dc-a673-3d631dc322d3\",\"type\":\"BoxZoomTool\"},{\"id\":\"dda109ca-1216-4c7f-b487-66d539925a3f\",\"type\":\"SaveTool\"},{\"id\":\"dde54bb6-bb18-4b38-9116-936348ba018d\",\"type\":\"ResetTool\"},{\"id\":\"1e660640-2012-47f5-bbed-fba9ebef910c\",\"type\":\"HelpTool\"}]},\"id\":\"ca97271b-f2e6-44b7-b328-70970ff60b2e\",\"type\":\"Toolbar\"},{\"attributes\":{\"callback\":null,\"data\":{\"band\":[\"1\",\"2\",\"3\",\"4\",\"5\",\"6\",\"7\",\"8\",\"9\",\"10\",\"11\"],\"flux\":{\"__ndarray__\":\"X/HUIw0wRMDwF7Mlq3JIwKWhRiHJuDHAv9U6cTkiO8AKPEGsSGIiwPA/jdasjvK/+q8YGvTKCcAoYxluAuTqv/wJHSp8bBrASZuqe2RrJMCY3psyeVvlvw==\",\"dtype\":\"float64\",\"shape\":[11]}},\"selected\":{\"id\":\"0a91cf49-e4eb-4ae7-a15f-a22d805866e9\",\"type\":\"Selection\"},\"selection_policy\":{\"id\":\"2e109d18-83cd-4158-8a91-267be41f2d78\",\"type\":\"UnionRenderers\"}},\"id\":\"48d5ac03-d565-4fc5-8860-e16a98b9a8cc\",\"type\":\"ColumnDataSource\"},{\"attributes\":{\"fill_color\":{\"value\":\"#1f77b4\"},\"line_color\":{\"value\":\"#1f77b4\"},\"top\":{\"field\":\"flux\"},\"width\":{\"value\":0.9},\"x\":{\"field\":\"band\"}},\"id\":\"90181df0-0ccd-4223-bbef-248ecb64510a\",\"type\":\"VBar\"},{\"attributes\":{\"axis_label\":\"flux (W m-2)\",\"formatter\":{\"id\":\"941ea0db-3ea4-4af1-994e-7fd7da0fc1b4\",\"type\":\"BasicTickFormatter\"},\"plot\":{\"id\":\"0cdf1bac-20d6-48d5-81e6-3460835254b8\",\"subtype\":\"Figure\",\"type\":\"Plot\"},\"ticker\":{\"id\":\"72dd698a-1ed4-41a4-b314-ea2cfd13fe46\",\"type\":\"BasicTicker\"}},\"id\":\"89be29de-ee3c-44fa-b557-822ffc23d755\",\"type\":\"LinearAxis\"},{\"attributes\":{\"plot\":null,\"text\":\"SFC flux. CLIRAD (single-run) - CRD.\"},\"id\":\"1684d0b0-712c-4bb0-8e51-785af9df735c\",\"type\":\"Title\"},{\"attributes\":{\"source\":{\"id\":\"98374965-f9a0-422f-b2bd-c3e85276ba5e\",\"type\":\"ColumnDataSource\"}},\"id\":\"7089ac06-62b5-48dd-9166-bb1d3f64e23b\",\"type\":\"CDSView\"},{\"attributes\":{},\"id\":\"dd62db8f-3620-4327-8e91-557f2c793d3c\",\"type\":\"WheelZoomTool\"},{\"attributes\":{\"data_source\":{\"id\":\"98374965-f9a0-422f-b2bd-c3e85276ba5e\",\"type\":\"ColumnDataSource\"},\"glyph\":{\"id\":\"ef8abcfb-d976-4b68-825d-88796eb5c6cf\",\"type\":\"VBar\"},\"hover_glyph\":null,\"muted_glyph\":null,\"nonselection_glyph\":{\"id\":\"abd854d7-4c41-47c0-9396-575310013905\",\"type\":\"VBar\"},\"selection_glyph\":null,\"view\":{\"id\":\"7089ac06-62b5-48dd-9166-bb1d3f64e23b\",\"type\":\"CDSView\"}},\"id\":\"c03d0b61-49f7-4e94-8629-cee08525f62d\",\"type\":\"GlyphRenderer\"},{\"attributes\":{},\"id\":\"955c7423-dcb4-45bf-8ee9-6b3d72cc17cc\",\"type\":\"CategoricalTicker\"},{\"attributes\":{\"toolbar\":{\"id\":\"3ed86e13-b638-439e-8cc4-4e889a70ff1e\",\"type\":\"ProxyToolbar\"},\"toolbar_location\":\"above\"},\"id\":\"87251d49-4053-4de8-a6b9-3225acb61b23\",\"type\":\"ToolbarBox\"},{\"attributes\":{\"plot\":{\"id\":\"ffaedb30-f03e-4028-ba8c-e613da37a105\",\"subtype\":\"Figure\",\"type\":\"Plot\"},\"ticker\":{\"id\":\"955c7423-dcb4-45bf-8ee9-6b3d72cc17cc\",\"type\":\"CategoricalTicker\"}},\"id\":\"3b75eb8f-611d-4b9c-ad79-585be9b23916\",\"type\":\"Grid\"},{\"attributes\":{\"dimension\":1,\"plot\":{\"id\":\"ffaedb30-f03e-4028-ba8c-e613da37a105\",\"subtype\":\"Figure\",\"type\":\"Plot\"},\"ticker\":{\"id\":\"1185cd16-e48c-41fe-8fd4-bb21dd61c35f\",\"type\":\"BasicTicker\"}},\"id\":\"cd342419-661c-45a5-9934-c5fb75ef1eaf\",\"type\":\"Grid\"},{\"attributes\":{\"bottom_units\":\"screen\",\"fill_alpha\":{\"value\":0.5},\"fill_color\":{\"value\":\"lightgrey\"},\"left_units\":\"screen\",\"level\":\"overlay\",\"line_alpha\":{\"value\":1.0},\"line_color\":{\"value\":\"black\"},\"line_dash\":[4,4],\"line_width\":{\"value\":2},\"plot\":null,\"render_mode\":\"css\",\"right_units\":\"screen\",\"top_units\":\"screen\"},\"id\":\"c3bf83f7-8d0f-455d-95a6-c6c632a3e084\",\"type\":\"BoxAnnotation\"},{\"attributes\":{\"callback\":null,\"factors\":[\"1\",\"2\",\"3\",\"4\",\"5\",\"6\",\"7\",\"8\",\"9\",\"10\",\"11\"]},\"id\":\"a5b6376f-ad4b-402b-a39d-7c95b08cd6b0\",\"type\":\"FactorRange\"},{\"attributes\":{},\"id\":\"72dd698a-1ed4-41a4-b314-ea2cfd13fe46\",\"type\":\"BasicTicker\"},{\"attributes\":{},\"id\":\"1185cd16-e48c-41fe-8fd4-bb21dd61c35f\",\"type\":\"BasicTicker\"},{\"attributes\":{\"data_source\":{\"id\":\"af06e740-eca8-4223-b474-704213d556b6\",\"type\":\"ColumnDataSource\"},\"glyph\":{\"id\":\"de4c6fff-f04f-4307-99d8-db427d53b134\",\"type\":\"VBar\"},\"hover_glyph\":null,\"muted_glyph\":null,\"nonselection_glyph\":{\"id\":\"7920b604-920d-47e6-8cdf-5e40ee41ebbe\",\"type\":\"VBar\"},\"selection_glyph\":null,\"view\":{\"id\":\"5f2cd724-577a-4856-b45b-116c10d03c10\",\"type\":\"CDSView\"}},\"id\":\"8942b142-79b9-4502-b37a-abb0c5219dff\",\"type\":\"GlyphRenderer\"},{\"attributes\":{\"fill_color\":{\"value\":\"#1f77b4\"},\"line_color\":{\"value\":\"#1f77b4\"},\"top\":{\"field\":\"flux\"},\"width\":{\"value\":0.9},\"x\":{\"field\":\"band\"}},\"id\":\"de4c6fff-f04f-4307-99d8-db427d53b134\",\"type\":\"VBar\"},{\"attributes\":{},\"id\":\"7413838d-735f-4a7d-99ac-a46038a40859\",\"type\":\"BasicTickFormatter\"},{\"attributes\":{},\"id\":\"d17996da-f653-436a-82bf-e6bf97a5319b\",\"type\":\"ResetTool\"},{\"attributes\":{},\"id\":\"f14dcefb-da40-4bc8-bb2d-c5c8822f6f62\",\"type\":\"CategoricalScale\"},{\"attributes\":{},\"id\":\"43b264a0-69c7-4b52-b5fa-236ffe34988c\",\"type\":\"CategoricalTickFormatter\"},{\"attributes\":{},\"id\":\"6088335a-86d3-4f1e-9259-f60271b4f819\",\"type\":\"WheelZoomTool\"},{\"attributes\":{},\"id\":\"2597732a-f85c-40bc-9687-0a731bad755b\",\"type\":\"ResetTool\"},{\"attributes\":{},\"id\":\"2c2b8870-1c71-4cd5-ba58-4fa7d6dc4c53\",\"type\":\"LinearScale\"},{\"attributes\":{\"callback\":null,\"factors\":[\"1\",\"2\",\"3\",\"4\",\"5\",\"6\",\"7\",\"8\",\"9\",\"10\",\"11\"]},\"id\":\"830f3d23-2f14-4798-892b-f0a0f6de0f13\",\"type\":\"FactorRange\"},{\"attributes\":{\"tools\":[{\"id\":\"dcca6113-74f4-46d4-b911-841fa68401c4\",\"type\":\"PanTool\"},{\"id\":\"0a85f3d2-df19-4bad-bc11-0ced31ed3469\",\"type\":\"WheelZoomTool\"},{\"id\":\"e78f8f80-3be2-45dc-a673-3d631dc322d3\",\"type\":\"BoxZoomTool\"},{\"id\":\"dda109ca-1216-4c7f-b487-66d539925a3f\",\"type\":\"SaveTool\"},{\"id\":\"dde54bb6-bb18-4b38-9116-936348ba018d\",\"type\":\"ResetTool\"},{\"id\":\"1e660640-2012-47f5-bbed-fba9ebef910c\",\"type\":\"HelpTool\"},{\"id\":\"0cbff6b7-4b4c-4814-99d7-5b1421f1376c\",\"type\":\"PanTool\"},{\"id\":\"dd62db8f-3620-4327-8e91-557f2c793d3c\",\"type\":\"WheelZoomTool\"},{\"id\":\"0255c73f-f90a-4376-ac21-b71927f93e05\",\"type\":\"BoxZoomTool\"},{\"id\":\"32dec123-9ffb-4924-b14b-1a1ee12baf5e\",\"type\":\"SaveTool\"},{\"id\":\"d17996da-f653-436a-82bf-e6bf97a5319b\",\"type\":\"ResetTool\"},{\"id\":\"7a057d10-796e-4e76-81c4-1655a39309b4\",\"type\":\"HelpTool\"},{\"id\":\"8695d5ac-c192-4f7b-b3c0-add4e8c6a98a\",\"type\":\"PanTool\"},{\"id\":\"6088335a-86d3-4f1e-9259-f60271b4f819\",\"type\":\"WheelZoomTool\"},{\"id\":\"84d6b809-3dca-4c80-9186-fa4170390301\",\"type\":\"BoxZoomTool\"},{\"id\":\"2fa2a354-a8a6-47c1-94fc-db7098e90c17\",\"type\":\"SaveTool\"},{\"id\":\"2597732a-f85c-40bc-9687-0a731bad755b\",\"type\":\"ResetTool\"},{\"id\":\"82a35ccb-4b61-4ebb-8cf7-f7a311c3176b\",\"type\":\"HelpTool\"}]},\"id\":\"3ed86e13-b638-439e-8cc4-4e889a70ff1e\",\"type\":\"ProxyToolbar\"},{\"attributes\":{\"plot\":null,\"text\":\"TOA flux. CLIRAD (single-run) - CRD.\"},\"id\":\"ee4d28f6-b16e-4f45-a92c-9fd8b3689a17\",\"type\":\"Title\"},{\"attributes\":{\"below\":[{\"id\":\"58d22214-6e08-4fe2-9706-ff3b997930ee\",\"type\":\"CategoricalAxis\"}],\"left\":[{\"id\":\"739feab5-7b7a-4ffa-9d35-90ccc26f66dc\",\"type\":\"LinearAxis\"}],\"plot_height\":300,\"plot_width\":300,\"renderers\":[{\"id\":\"58d22214-6e08-4fe2-9706-ff3b997930ee\",\"type\":\"CategoricalAxis\"},{\"id\":\"3b75eb8f-611d-4b9c-ad79-585be9b23916\",\"type\":\"Grid\"},{\"id\":\"739feab5-7b7a-4ffa-9d35-90ccc26f66dc\",\"type\":\"LinearAxis\"},{\"id\":\"cd342419-661c-45a5-9934-c5fb75ef1eaf\",\"type\":\"Grid\"},{\"id\":\"c3bf83f7-8d0f-455d-95a6-c6c632a3e084\",\"type\":\"BoxAnnotation\"},{\"id\":\"8942b142-79b9-4502-b37a-abb0c5219dff\",\"type\":\"GlyphRenderer\"}],\"title\":{\"id\":\"5e8ee292-f6df-414a-8e98-706dd5bba392\",\"type\":\"Title\"},\"toolbar\":{\"id\":\"5f1cf19d-2269-42fe-964d-d195c46010f2\",\"type\":\"Toolbar\"},\"toolbar_location\":null,\"x_range\":{\"id\":\"f611a6c4-9013-4313-b2b9-a31eb1844b6e\",\"type\":\"FactorRange\"},\"x_scale\":{\"id\":\"308f9645-4b26-4049-ac9d-94be9b5b8b0e\",\"type\":\"CategoricalScale\"},\"y_range\":{\"id\":\"1cc0f24a-b7be-413a-9a4f-4f7ca0e51d66\",\"type\":\"DataRange1d\"},\"y_scale\":{\"id\":\"bc90bc44-ae18-44b2-bd84-522719363455\",\"type\":\"LinearScale\"}},\"id\":\"ffaedb30-f03e-4028-ba8c-e613da37a105\",\"subtype\":\"Figure\",\"type\":\"Plot\"},{\"attributes\":{\"active_drag\":\"auto\",\"active_inspect\":\"auto\",\"active_scroll\":\"auto\",\"active_tap\":\"auto\",\"tools\":[{\"id\":\"0cbff6b7-4b4c-4814-99d7-5b1421f1376c\",\"type\":\"PanTool\"},{\"id\":\"dd62db8f-3620-4327-8e91-557f2c793d3c\",\"type\":\"WheelZoomTool\"},{\"id\":\"0255c73f-f90a-4376-ac21-b71927f93e05\",\"type\":\"BoxZoomTool\"},{\"id\":\"32dec123-9ffb-4924-b14b-1a1ee12baf5e\",\"type\":\"SaveTool\"},{\"id\":\"d17996da-f653-436a-82bf-e6bf97a5319b\",\"type\":\"ResetTool\"},{\"id\":\"7a057d10-796e-4e76-81c4-1655a39309b4\",\"type\":\"HelpTool\"}]},\"id\":\"d035b9ae-561c-49df-a0cd-bf13d726a269\",\"type\":\"Toolbar\"},{\"attributes\":{\"dimension\":1,\"plot\":{\"id\":\"0cdf1bac-20d6-48d5-81e6-3460835254b8\",\"subtype\":\"Figure\",\"type\":\"Plot\"},\"ticker\":{\"id\":\"72dd698a-1ed4-41a4-b314-ea2cfd13fe46\",\"type\":\"BasicTicker\"}},\"id\":\"c365033f-bbbe-401d-acfe-016c04b9dd0c\",\"type\":\"Grid\"},{\"attributes\":{},\"id\":\"0cbff6b7-4b4c-4814-99d7-5b1421f1376c\",\"type\":\"PanTool\"}],\"root_ids\":[\"558935b8-abde-48f3-9ad3-7d94ab06a378\"]},\"title\":\"Bokeh Application\",\"version\":\"0.12.16\"}};\n",
       "  var render_items = [{\"docid\":\"ca484d92-326a-48f9-bf80-1380b464e825\",\"elementid\":\"1eae8751-4d2a-49a5-b1b3-96ceb136ba9d\",\"modelid\":\"558935b8-abde-48f3-9ad3-7d94ab06a378\"}];\n",
       "  root.Bokeh.embed.embed_items_notebook(docs_json, render_items);\n",
       "\n",
       "  }\n",
       "  if (root.Bokeh !== undefined) {\n",
       "    embed_document(root);\n",
       "  } else {\n",
       "    var attempts = 0;\n",
       "    var timer = setInterval(function(root) {\n",
       "      if (root.Bokeh !== undefined) {\n",
       "        embed_document(root);\n",
       "        clearInterval(timer);\n",
       "      }\n",
       "      attempts++;\n",
       "      if (attempts > 100) {\n",
       "        console.log(\"Bokeh: ERROR: Unable to run BokehJS code because BokehJS library is missing\")\n",
       "        clearInterval(timer);\n",
       "      }\n",
       "    }, 10, root)\n",
       "  }\n",
       "})(window);"
      ],
      "application/vnd.bokehjs_exec.v0+json": ""
     },
     "metadata": {
      "application/vnd.bokehjs_exec.v0+json": {
       "id": "558935b8-abde-48f3-9ad3-7d94ab06a378"
      }
     },
     "output_type": "display_data"
    },
    {
     "data": {
      "text/markdown": [
       "*FIGURE.* Difference between CLIRAD and CRD in TOA, SFC and net atmosphere flux, in each spectral band."
      ],
      "text/plain": [
       "<IPython.core.display.Markdown object>"
      ]
     },
     "metadata": {},
     "output_type": "display_data"
    },
    {
     "data": {
      "text/html": [
       "<div>\n",
       "<style scoped>\n",
       "    .dataframe tbody tr th:only-of-type {\n",
       "        vertical-align: middle;\n",
       "    }\n",
       "\n",
       "    .dataframe tbody tr th {\n",
       "        vertical-align: top;\n",
       "    }\n",
       "\n",
       "    .dataframe thead th {\n",
       "        text-align: right;\n",
       "    }\n",
       "</style>\n",
       "<table border=\"1\" class=\"dataframe\">\n",
       "  <thead>\n",
       "    <tr style=\"text-align: right;\">\n",
       "      <th></th>\n",
       "      <th>OLR flux</th>\n",
       "      <th>SFC flux</th>\n",
       "      <th>ATM heating</th>\n",
       "    </tr>\n",
       "    <tr>\n",
       "      <th>Sum over bands</th>\n",
       "      <th></th>\n",
       "      <th></th>\n",
       "      <th></th>\n",
       "    </tr>\n",
       "  </thead>\n",
       "  <tbody>\n",
       "    <tr>\n",
       "      <th>CLIRAD (single-run) - CRD</th>\n",
       "      <td>-242.01</td>\n",
       "      <td>-166.03</td>\n",
       "      <td>-323.40</td>\n",
       "    </tr>\n",
       "    <tr>\n",
       "      <th>CRD</th>\n",
       "      <td>-201.06</td>\n",
       "      <td>166.03</td>\n",
       "      <td>-119.67</td>\n",
       "    </tr>\n",
       "  </tbody>\n",
       "</table>\n",
       "</div>"
      ],
      "text/plain": [
       "                           OLR flux  SFC flux  ATM heating\n",
       "Sum over bands                                            \n",
       "CLIRAD (single-run) - CRD   -242.01   -166.03      -323.40\n",
       "CRD                         -201.06    166.03      -119.67"
      ]
     },
     "metadata": {},
     "output_type": "display_data"
    },
    {
     "data": {
      "text/markdown": [
       "*TABLE.* Difference between CLIRAD and CRD in TOA, SFC and net atmosphere flux, over all spectral bands. CRD's TOA, SFC and net atmosphere flux, over all spectral bands."
      ],
      "text/plain": [
       "<IPython.core.display.Markdown object>"
      ]
     },
     "metadata": {},
     "output_type": "display_data"
    },
    {
     "data": {
      "text/html": [
       "<a id=\"Cooling_rates._trp.\"></a>"
      ],
      "text/plain": [
       "<IPython.core.display.HTML object>"
      ]
     },
     "metadata": {},
     "output_type": "display_data"
    },
    {
     "data": {
      "text/markdown": [
       "# Cooling rates. trp."
      ],
      "text/plain": [
       "<IPython.core.display.Markdown object>"
      ]
     },
     "metadata": {},
     "output_type": "display_data"
    },
    {
     "data": {
      "text/html": [
       "\n",
       "<div class=\"bk-root\">\n",
       "    <div class=\"bk-plotdiv\" id=\"3496334b-ac16-46b0-8136-53acf01b19d6\"></div>\n",
       "</div>"
      ]
     },
     "metadata": {},
     "output_type": "display_data"
    },
    {
     "data": {
      "application/javascript": [
       "(function(root) {\n",
       "  function embed_document(root) {\n",
       "    \n",
       "  var docs_json = {\"4dd6d9b1-3925-4440-a052-da905f7130f1\":{\"roots\":{\"references\":[{\"attributes\":{\"bottom_units\":\"screen\",\"fill_alpha\":{\"value\":0.5},\"fill_color\":{\"value\":\"lightgrey\"},\"left_units\":\"screen\",\"level\":\"overlay\",\"line_alpha\":{\"value\":1.0},\"line_color\":{\"value\":\"black\"},\"line_dash\":[4,4],\"line_width\":{\"value\":2},\"plot\":null,\"render_mode\":\"css\",\"right_units\":\"screen\",\"top_units\":\"screen\"},\"id\":\"dc186945-77dd-4c2f-b9ad-7d60d713304e\",\"type\":\"BoxAnnotation\"},{\"attributes\":{\"axis_label\":\"cooling rate [K/day]\",\"formatter\":{\"id\":\"c35f08e5-e0cc-4073-9f74-dd7f16e91695\",\"type\":\"BasicTickFormatter\"},\"plot\":{\"id\":\"907bb6b8-fd14-4ebb-9fad-6a441a332cfd\",\"subtype\":\"Figure\",\"type\":\"Plot\"},\"ticker\":{\"id\":\"fb0a5430-9c2c-4aec-aafd-938b9d4a8e68\",\"type\":\"BasicTicker\"}},\"id\":\"b6b63c81-148c-41a4-834e-122de112c6e6\",\"type\":\"LinearAxis\"},{\"attributes\":{\"active_drag\":\"auto\",\"active_inspect\":\"auto\",\"active_scroll\":\"auto\",\"active_tap\":\"auto\",\"tools\":[{\"id\":\"5e8170b5-d106-4110-aa9f-bbfa7cb52393\",\"type\":\"PanTool\"},{\"id\":\"90e4aece-7474-44f3-8fbc-79aaf379b14e\",\"type\":\"WheelZoomTool\"},{\"id\":\"86a46900-be11-430d-94fc-34fa236aad8a\",\"type\":\"BoxZoomTool\"},{\"id\":\"7a273ed5-c36e-480b-a91e-573de6e2a95d\",\"type\":\"SaveTool\"},{\"id\":\"a0160c8d-73fb-4773-8cd4-af4df975dc9f\",\"type\":\"ResetTool\"},{\"id\":\"6e0c0749-98ef-4844-aaf5-37e77771cec1\",\"type\":\"HelpTool\"}]},\"id\":\"ea0939da-6685-478c-ab3a-9f5bc2534181\",\"type\":\"Toolbar\"},{\"attributes\":{},\"id\":\"da512dc5-f722-4f94-9853-66566f967133\",\"type\":\"LogScale\"},{\"attributes\":{\"plot\":{\"id\":\"710eb1ec-039a-4715-827f-2a55cf5b6c78\",\"subtype\":\"Figure\",\"type\":\"Plot\"},\"ticker\":{\"id\":\"f23ebc5b-a217-47c6-8025-614c9da81b9b\",\"type\":\"BasicTicker\"}},\"id\":\"2e06858c-a16b-4ea3-b631-ebcca07648e7\",\"type\":\"Grid\"},{\"attributes\":{},\"id\":\"c35f08e5-e0cc-4073-9f74-dd7f16e91695\",\"type\":\"BasicTickFormatter\"},{\"attributes\":{\"data_source\":{\"id\":\"b9c822ed-70da-4c34-9cbc-75dbaef1f73e\",\"type\":\"ColumnDataSource\"},\"glyph\":{\"id\":\"310a3c4b-a94c-458a-b5cf-3216541b6fe5\",\"type\":\"Line\"},\"hover_glyph\":null,\"muted_glyph\":null,\"nonselection_glyph\":{\"id\":\"3306dde5-2cee-454e-866e-f0114ef06e07\",\"type\":\"Line\"},\"selection_glyph\":null,\"view\":{\"id\":\"7174e2ba-a911-4b40-bfdb-d5e1992dbd27\",\"type\":\"CDSView\"}},\"id\":\"e9b04636-2551-4573-84d9-262ca24828a9\",\"type\":\"GlyphRenderer\"},{\"attributes\":{\"callback\":null,\"end\":0.01,\"start\":1020},\"id\":\"e721d972-9c27-4ceb-8b2c-22e130e3e812\",\"type\":\"Range1d\"},{\"attributes\":{},\"id\":\"2bf65a4a-01b1-48a4-8e0e-ec679f690360\",\"type\":\"LinearScale\"},{\"attributes\":{},\"id\":\"7a31e0c5-1d71-4df8-874b-17f3d507b742\",\"type\":\"LinearScale\"},{\"attributes\":{\"source\":{\"id\":\"a03f1b39-91e6-4627-928e-a3dd742a8677\",\"type\":\"ColumnDataSource\"}},\"id\":\"b3dd38ad-2ff6-46c0-9cdb-f4e68dfaefa1\",\"type\":\"CDSView\"},{\"attributes\":{\"dimension\":1,\"plot\":{\"id\":\"710eb1ec-039a-4715-827f-2a55cf5b6c78\",\"subtype\":\"Figure\",\"type\":\"Plot\"},\"ticker\":{\"id\":\"4f415cb1-73ee-4dd8-84b1-46d49fc9590a\",\"type\":\"LogTicker\"}},\"id\":\"3be4a3d1-c683-4904-921f-61a0c99ee5f7\",\"type\":\"Grid\"},{\"attributes\":{},\"id\":\"0597a40b-71e0-4b1b-b725-b0bced36d5ad\",\"type\":\"Selection\"},{\"attributes\":{\"data_source\":{\"id\":\"a03f1b39-91e6-4627-928e-a3dd742a8677\",\"type\":\"ColumnDataSource\"},\"glyph\":{\"id\":\"a846a3fc-8097-4e17-adda-0ceec1832f75\",\"type\":\"Line\"},\"hover_glyph\":null,\"muted_glyph\":null,\"nonselection_glyph\":{\"id\":\"0d261d14-6fee-42b3-b728-a4e5c6c48b87\",\"type\":\"Line\"},\"selection_glyph\":null,\"view\":{\"id\":\"b3dd38ad-2ff6-46c0-9cdb-f4e68dfaefa1\",\"type\":\"CDSView\"}},\"id\":\"04cd17f5-4315-402f-95cb-b8a009abd5ba\",\"type\":\"GlyphRenderer\"},{\"attributes\":{\"num_minor_ticks\":10},\"id\":\"5a95c648-8c36-4ad2-93ee-137d32b990db\",\"type\":\"LogTicker\"},{\"attributes\":{},\"id\":\"30b57135-e301-45a6-9766-d98a51133ef8\",\"type\":\"LinearScale\"},{\"attributes\":{\"plot\":{\"id\":\"c9923840-9042-43a3-9ab2-37eab4a91365\",\"subtype\":\"Figure\",\"type\":\"Plot\"},\"ticker\":{\"id\":\"95a22a46-08c1-4d78-aedc-990aa57c20a8\",\"type\":\"BasicTicker\"}},\"id\":\"dcba3b9e-e7e0-4e4e-9084-9925c047e306\",\"type\":\"Grid\"},{\"attributes\":{\"source\":{\"id\":\"b9c822ed-70da-4c34-9cbc-75dbaef1f73e\",\"type\":\"ColumnDataSource\"}},\"id\":\"7174e2ba-a911-4b40-bfdb-d5e1992dbd27\",\"type\":\"CDSView\"},{\"attributes\":{\"above\":[{\"id\":\"716a0f7f-06cd-4b28-b055-4b568b0accce\",\"type\":\"Legend\"}],\"below\":[{\"id\":\"a5ef2cbe-a098-4eab-ba2e-7c51ace09d9d\",\"type\":\"LinearAxis\"}],\"left\":[{\"id\":\"2852361d-572a-45a5-9471-378779fa9098\",\"type\":\"LogAxis\"}],\"plot_width\":300,\"renderers\":[{\"id\":\"a5ef2cbe-a098-4eab-ba2e-7c51ace09d9d\",\"type\":\"LinearAxis\"},{\"id\":\"dcba3b9e-e7e0-4e4e-9084-9925c047e306\",\"type\":\"Grid\"},{\"id\":\"2852361d-572a-45a5-9471-378779fa9098\",\"type\":\"LogAxis\"},{\"id\":\"7aa709a6-18f6-449d-8c5c-eb7e6571996c\",\"type\":\"Grid\"},{\"id\":\"dc186945-77dd-4c2f-b9ad-7d60d713304e\",\"type\":\"BoxAnnotation\"},{\"id\":\"6c41f21b-772d-4329-83b3-d2744793dc88\",\"type\":\"GlyphRenderer\"},{\"id\":\"3959e463-9f59-4311-ac10-8eb56908d1d6\",\"type\":\"GlyphRenderer\"},{\"id\":\"0459c74f-c8a7-4ffd-b3d4-de6c48c83542\",\"type\":\"GlyphRenderer\"},{\"id\":\"716a0f7f-06cd-4b28-b055-4b568b0accce\",\"type\":\"Legend\"}],\"title\":{\"id\":\"5a2f55f6-4336-4b6e-8da6-3a85eb657a60\",\"type\":\"Title\"},\"toolbar\":{\"id\":\"ea0939da-6685-478c-ab3a-9f5bc2534181\",\"type\":\"Toolbar\"},\"toolbar_location\":null,\"x_range\":{\"id\":\"d5333615-212f-4039-8c49-def6bf4b8333\",\"type\":\"Range1d\"},\"x_scale\":{\"id\":\"30b57135-e301-45a6-9766-d98a51133ef8\",\"type\":\"LinearScale\"},\"y_range\":{\"id\":\"e721d972-9c27-4ceb-8b2c-22e130e3e812\",\"type\":\"Range1d\"},\"y_scale\":{\"id\":\"da512dc5-f722-4f94-9853-66566f967133\",\"type\":\"LogScale\"}},\"id\":\"c9923840-9042-43a3-9ab2-37eab4a91365\",\"subtype\":\"Figure\",\"type\":\"Plot\"},{\"attributes\":{\"label\":{\"value\":\"CRD\"},\"renderers\":[{\"id\":\"7d37146e-c1be-46e6-85a9-ff85866d2e1c\",\"type\":\"GlyphRenderer\"},{\"id\":\"e9b04636-2551-4573-84d9-262ca24828a9\",\"type\":\"GlyphRenderer\"}]},\"id\":\"32ea3efd-d987-42eb-8437-eae6a778c4eb\",\"type\":\"LegendItem\"},{\"attributes\":{},\"id\":\"f23ebc5b-a217-47c6-8025-614c9da81b9b\",\"type\":\"BasicTicker\"},{\"attributes\":{},\"id\":\"95a22a46-08c1-4d78-aedc-990aa57c20a8\",\"type\":\"BasicTicker\"},{\"attributes\":{\"axis_label\":\"pressure [mb]\",\"formatter\":{\"id\":\"4e3bd794-9df5-4cbc-b680-ef843d391902\",\"type\":\"LogTickFormatter\"},\"plot\":{\"id\":\"c9923840-9042-43a3-9ab2-37eab4a91365\",\"subtype\":\"Figure\",\"type\":\"Plot\"},\"ticker\":{\"id\":\"5a95c648-8c36-4ad2-93ee-137d32b990db\",\"type\":\"LogTicker\"}},\"id\":\"2852361d-572a-45a5-9471-378779fa9098\",\"type\":\"LogAxis\"},{\"attributes\":{},\"id\":\"b84f639d-d115-49a5-b94e-33115aa6e444\",\"type\":\"PanTool\"},{\"attributes\":{\"axis_label\":\"pressure [mb]\",\"formatter\":{\"id\":\"9d423273-fcee-4b2d-bf2a-aa7bb64fff45\",\"type\":\"LogTickFormatter\"},\"plot\":{\"id\":\"710eb1ec-039a-4715-827f-2a55cf5b6c78\",\"subtype\":\"Figure\",\"type\":\"Plot\"},\"ticker\":{\"id\":\"4f415cb1-73ee-4dd8-84b1-46d49fc9590a\",\"type\":\"LogTicker\"}},\"id\":\"326bd099-2fff-441b-adf0-bc8ee55568e6\",\"type\":\"LogAxis\"},{\"attributes\":{\"source\":{\"id\":\"c8de716f-e884-4eb9-b54e-bf6fbdf556ce\",\"type\":\"ColumnDataSource\"}},\"id\":\"279683d5-6552-4ce2-9ff0-93810c78a2a9\",\"type\":\"CDSView\"},{\"attributes\":{\"line_alpha\":0.1,\"line_color\":\"#1f77b4\",\"line_width\":1.5,\"x\":{\"field\":\"x\"},\"y\":{\"field\":\"y\"}},\"id\":\"3306dde5-2cee-454e-866e-f0114ef06e07\",\"type\":\"Line\"},{\"attributes\":{\"axis_label\":\"cooling rate [K/day]\",\"formatter\":{\"id\":\"b35f11dd-9a31-46c5-8ada-ac783928c774\",\"type\":\"BasicTickFormatter\"},\"plot\":{\"id\":\"c9923840-9042-43a3-9ab2-37eab4a91365\",\"subtype\":\"Figure\",\"type\":\"Plot\"},\"ticker\":{\"id\":\"95a22a46-08c1-4d78-aedc-990aa57c20a8\",\"type\":\"BasicTicker\"}},\"id\":\"a5ef2cbe-a098-4eab-ba2e-7c51ace09d9d\",\"type\":\"LinearAxis\"},{\"attributes\":{\"callback\":null,\"data\":{\"x\":{\"__ndarray__\":\"auPy/mn2UsGXKbqEl9dwQRdfYagoGEHBW2o5ZSLmQEEU/hiio0ZQwfSoIWzJm0dBQM9KRfvhIUGHkF2KgYfkwEHCSiy1dBLBS+6N34qZJEGAvjJuT+8nwYxZpJ3QixnBnIH3kaEPGkF1YUz4J3LqwJyhrwtjJepAzcfnuUUu+cBhxiYTCkPyQG0njvbpqMtAmDexfcDsj8A99v+cYJe8wC9QqLu21c9AZeXB8gCwqkC7dRDneyoowD9JYrbK8yTA9S3bneHhIcAIymSuUMMcwIkHLe6VEBfAAau3cITREsA6CiNvkQIPwJU39ki7IQnAaAvwok1UA8BXLQiS4+L7v/Z7Xb5Y9U3AguhLhNrGqcB1mUVYxqfSv7JxE+mm3JtAmCgMiSfam8AQzNj5t2jTP+Zl7fu325tAgvj0e4Doyb/33L2L3u06wYwrqPDeuDpBFdqkOu5v3EDRMkOV8afMwNCyiqS+uYvAyH+JSJdvdUCMKbHxobeqQMbXFiyhc63AZJ57YN6OAcAo3r3ueF0BwG4OmjqJwQDAJ3sZoHFuAMBn21LPHtp9QOHi/QAocXzAnCak7EjmO8Dc57TRNK0BwFkbWyULpwDAFzun/AHRAcCAFODv4xP5v9SYV0jVXwDAN0IFFucc/7+xRKaPx8f+v7aPhJmQHADATKqkuCRD+78QtF38yDT8vw44e41PNPe/Opt+Z/wN9b+x3vcSW1vzv9cfvWQJlvK/8sciQQBW8r83sfkQa17yvzY5qng2r/K/PR14WJBh87+VZjnpctj0v6CcrSuCqQDA\",\"dtype\":\"float64\",\"shape\":[75]},\"y\":{\"__ndarray__\":\"GhExyth1ND/Sv8nbtpRIP2vylNV0PVE/aTum7souWD/At0SJ8fVgPw3Iuahxymc/MSNhhJWvcD/bTfBN02d3P2zb5nxnaoA/CD5h5MAGhz8NmeH1TyaQP+zrCsc9p5Y/LbKd76fGnz/bLW5ISEmmPww9YvTcQq8/JV2OstnstT8Er5Y7M8G+P0c+r3jqkcU/5h99k6ZBzj88bCIzFzjVP4enV8oyxN0//yH99nXg5D8qOpLLf0jtP5kqGJXUifQ/c9cS8kHP/D+/DpwzojQEQIEmwoanVwxA4lgXt9HgE0BSSZ2AJuIbQAMJih9jjiNA5q4l5INuK0AwTKYKRj0zQNv5fmq8/DpAaCJseHrtQkB/+zpwzoxKQM3MzMzMeFJAZmZmZmZqWEAAAAAAAFxeQM3MzMzMJmJAmpmZmZkfZUBmZmZmZhhoQDMzMzMzEWtAAAAAAAAKbkBmZmZmZoFwQM3MzMzM/XFAMzMzMzN6c0CamZmZmfZ0QAAAAAAAc3ZAZmZmZmbvd0DNzMzMzGt5QDMzMzMz6HpAmpmZmZlkfEAAAAAAAOF9QGZmZmZmXX9AZmZmZuZsgECamZmZGSuBQM3MzMxM6YFAAAAAAICngkAzMzMzs2WDQGZmZmbmI4RAmpmZmRnihEDNzMzMTKCFQAAAAACAXoZAMzMzM7Mch0BmZmZm5tqHQJqZmZkZmYhAzczMzExXiUAAAAAAgBWKQDMzMzOz04pAZmZmZuaRi0CamZmZGVCMQM3MzMxMDo1AAAAAAIDMjUAzMzMzs4qOQGZmZmbmSI9A\",\"dtype\":\"float64\",\"shape\":[75]}},\"selected\":{\"id\":\"bba36a0d-e6c9-4154-a16c-4fb68d1e35c4\",\"type\":\"Selection\"},\"selection_policy\":{\"id\":\"cde6ceda-fc52-4eb7-8da4-abe8487ccb19\",\"type\":\"UnionRenderers\"}},\"id\":\"a03f1b39-91e6-4627-928e-a3dd742a8677\",\"type\":\"ColumnDataSource\"},{\"attributes\":{\"callback\":null,\"end\":699419.9281299999,\"start\":-1789228.6151300003},\"id\":\"d5333615-212f-4039-8c49-def6bf4b8333\",\"type\":\"Range1d\"},{\"attributes\":{},\"id\":\"18fef796-621a-4141-a24f-46268a8f2d00\",\"type\":\"WheelZoomTool\"},{\"attributes\":{\"callback\":null,\"end\":1786424.8399999999,\"start\":-1799991.0400000003},\"id\":\"fa65a161-ecde-49cd-a45a-7e73feff7e4d\",\"type\":\"Range1d\"},{\"attributes\":{\"data_source\":{\"id\":\"c8de716f-e884-4eb9-b54e-bf6fbdf556ce\",\"type\":\"ColumnDataSource\"},\"glyph\":{\"id\":\"ea1c416f-f2bb-4d36-a82c-e051e1951b9b\",\"type\":\"Line\"},\"hover_glyph\":null,\"muted_glyph\":null,\"nonselection_glyph\":{\"id\":\"6585657f-6a62-456f-a686-c5fc86a072cd\",\"type\":\"Line\"},\"selection_glyph\":null,\"view\":{\"id\":\"279683d5-6552-4ce2-9ff0-93810c78a2a9\",\"type\":\"CDSView\"}},\"id\":\"e6895135-fe87-406e-b2e6-e7d281280cf4\",\"type\":\"GlyphRenderer\"},{\"attributes\":{\"callback\":null,\"end\":699411.8764546769,\"start\":-1789228.9856907872},\"id\":\"2f4f9cb3-c08d-43f6-8848-d002efbd5c4d\",\"type\":\"Range1d\"},{\"attributes\":{\"callback\":null,\"data\":{\"x\":{\"__ndarray__\":\"4noUPlX2UsEyMzNjmtdwQZDC9cgVGEHBFK5HoTHmQEHiehSOnUZQwUjhehTTm0dBKVyPAhriIUEvTKYK+IXkwL10k5iNdBLBarx005qZJEGRwvWoQu8nwQZWDq28ixnB3yQGAbAPGkFf3EYD6nHqwGxN846PJepA63O1FSAu+cD1/dR4QUPyQK6L22ggq8tAIBSUorXAj8DYyoRfgpC8wNIA3gIh2s9AFAoRcDjHqkAAAAAAAAAAAAAAAAAAAAAAAAAAAAAAAAAAAAAAAAAAAAAAAAAAAAAAAAAAAAAAAAAAAAAAAAAAAAAAAAAAAAAAAAAAAAAAAAAAAAAAAAAAAFwIzQk1YU3AhF/q513FqcAAAAAAAAAAACzPg7vz25tALM+Du/Pbm8AAAAAAAAAAACzPg7vz25tAKM4fxGZokz+bmZkZ3u06wWZmZubfuDpBDE+vlE1w3EASFD/G/KbMwFbBqKROqIvAxAd2/JeUdUClK9hGXLyqQBLfiVnvbq3AbuvNfTAvmT9u6819MC+Zv695uja/uWu8r3m6Nr+5azxsVXi7efp9QCkz74IyUXzArK8B6M3qOcCRjFR9067Ov0/xkNMuFMC/xz7kPfNx0r/kNEU6I33WP4Ct9NWz8sG/sIGp7FjBob9A68NRbUSGv1ZTnujWBcO/gg07y61Cuj8j5ZsrUnrAvwAAAAAAAAAAAAAAAAAAAAAAAAAAAAAAAE4bH/SZnco8uZQfjuP4l7xYlfwPq1vBvMme2DGomsQ8/F3p5YrDyrztnTi8QzpQPLIaiSm5s4A8\",\"dtype\":\"float64\",\"shape\":[75]},\"y\":{\"__ndarray__\":\"GhExyth1ND/Sv8nbtpRIP2vylNV0PVE/aTum7souWD/At0SJ8fVgPw3Iuahxymc/MSNhhJWvcD/bTfBN02d3P2zb5nxnaoA/CD5h5MAGhz8NmeH1TyaQP+zrCsc9p5Y/LbKd76fGnz/bLW5ISEmmPww9YvTcQq8/JV2OstnstT8Er5Y7M8G+P0c+r3jqkcU/5h99k6ZBzj88bCIzFzjVP4enV8oyxN0//yH99nXg5D8qOpLLf0jtP5kqGJXUifQ/c9cS8kHP/D+/DpwzojQEQIEmwoanVwxA4lgXt9HgE0BSSZ2AJuIbQAMJih9jjiNA5q4l5INuK0AwTKYKRj0zQNv5fmq8/DpAaCJseHrtQkB/+zpwzoxKQM3MzMzMeFJAZmZmZmZqWEAAAAAAAFxeQM3MzMzMJmJAmpmZmZkfZUBmZmZmZhhoQDMzMzMzEWtAAAAAAAAKbkBmZmZmZoFwQM3MzMzM/XFAMzMzMzN6c0CamZmZmfZ0QAAAAAAAc3ZAZmZmZmbvd0DNzMzMzGt5QDMzMzMz6HpAmpmZmZlkfEAAAAAAAOF9QGZmZmZmXX9AZmZmZuZsgECamZmZGSuBQM3MzMxM6YFAAAAAAICngkAzMzMzs2WDQGZmZmbmI4RAmpmZmRnihEDNzMzMTKCFQAAAAACAXoZAMzMzM7Mch0BmZmZm5tqHQJqZmZkZmYhAzczMzExXiUAAAAAAgBWKQDMzMzOz04pAZmZmZuaRi0CamZmZGVCMQM3MzMxMDo1AAAAAAIDMjUAzMzMzs4qOQGZmZmbmSI9A\",\"dtype\":\"float64\",\"shape\":[75]}},\"selected\":{\"id\":\"dd8e19e1-d456-4b6e-a64d-ac6cd67d9fcd\",\"type\":\"Selection\"},\"selection_policy\":{\"id\":\"8dd529d9-e0d0-4002-bb36-971a52923a00\",\"type\":\"UnionRenderers\"}},\"id\":\"c8de716f-e884-4eb9-b54e-bf6fbdf556ce\",\"type\":\"ColumnDataSource\"},{\"attributes\":{},\"id\":\"8e2ba16b-ccbc-47df-b236-772d736055da\",\"type\":\"UnionRenderers\"},{\"attributes\":{},\"id\":\"bba36a0d-e6c9-4154-a16c-4fb68d1e35c4\",\"type\":\"Selection\"},{\"attributes\":{\"num_minor_ticks\":10},\"id\":\"4f415cb1-73ee-4dd8-84b1-46d49fc9590a\",\"type\":\"LogTicker\"},{\"attributes\":{\"label\":{\"value\":\"CLIRAD (single-run)\"},\"renderers\":[{\"id\":\"e6895135-fe87-406e-b2e6-e7d281280cf4\",\"type\":\"GlyphRenderer\"}]},\"id\":\"5fbe514b-acf0-4f21-8a9d-fd561ff20e39\",\"type\":\"LegendItem\"},{\"attributes\":{},\"id\":\"971191a3-930d-4697-9608-68d377ef48e2\",\"type\":\"UnionRenderers\"},{\"attributes\":{\"line_color\":\"#4daf4a\",\"line_width\":1.5,\"x\":{\"field\":\"x\"},\"y\":{\"field\":\"y\"}},\"id\":\"310a3c4b-a94c-458a-b5cf-3216541b6fe5\",\"type\":\"Line\"},{\"attributes\":{},\"id\":\"90e4aece-7474-44f3-8fbc-79aaf379b14e\",\"type\":\"WheelZoomTool\"},{\"attributes\":{\"line_alpha\":0.8,\"line_color\":\"#984ea3\",\"line_width\":1.5,\"x\":{\"field\":\"x\"},\"y\":{\"field\":\"y\"}},\"id\":\"a846a3fc-8097-4e17-adda-0ceec1832f75\",\"type\":\"Line\"},{\"attributes\":{},\"id\":\"4cd4f314-e43c-4491-8599-48b5df8681e5\",\"type\":\"HelpTool\"},{\"attributes\":{\"items\":[{\"id\":\"26e09c1e-e5dc-40f8-8038-5e90573d6e10\",\"type\":\"LegendItem\"},{\"id\":\"25157cfd-a750-4ddf-b6da-d1caad548a9e\",\"type\":\"LegendItem\"}],\"label_text_font_size\":{\"value\":\"8pt\"},\"location\":\"top_center\",\"orientation\":\"horizontal\",\"plot\":{\"id\":\"c9923840-9042-43a3-9ab2-37eab4a91365\",\"subtype\":\"Figure\",\"type\":\"Plot\"}},\"id\":\"716a0f7f-06cd-4b28-b055-4b568b0accce\",\"type\":\"Legend\"},{\"attributes\":{},\"id\":\"6e0c0749-98ef-4844-aaf5-37e77771cec1\",\"type\":\"HelpTool\"},{\"attributes\":{},\"id\":\"acbbf130-b902-4284-b8a5-333730bf759f\",\"type\":\"ResetTool\"},{\"attributes\":{\"source\":{\"id\":\"41cbd94d-cb59-4ff9-860b-0f59d270fbe7\",\"type\":\"ColumnDataSource\"}},\"id\":\"5849ac7d-f648-4061-b55a-30cb35b1c4d3\",\"type\":\"CDSView\"},{\"attributes\":{\"callback\":null,\"data\":{\"x\":{\"__ndarray__\":\"R/KIaN7AVEClCeJMyPNGQOvRhpxr30JAptxzhxx4PkA7SssMElA4QK6Bp3CyUDNAsVXpjES9LkBFhUV0+5coQMHYwqbbySNA6f09nM3nH0CaSd/3eYoZQDmgiAOW8BNAPYqARh3eDEBkm4vCgvr+P9D+5tWhQfY/P8DwKRnSAkBq38kb17ILQDT7IWuSsxFAUr2Rjm0FFkAinq3s9XgbQGCHwtYcqSFAG64kT303J0C7dRDneyooQD9JYrbK8yRA9S3bneHhIUAIymSuUMMcQIkHLe6VEBdAAau3cITREkA6CiNvkQIPQJU39ki7IQlAaAvwok1UA0BXLQiS4+L7P0xzDpJ2hPI/NNuPGMbJ5z91mUVYxqfSPxqwUPSxZca/G11peifD3L8QzNj5t2jTvwzOozTL360/SPJ4VI1VzD9KJ0nXEIncP8yDdlvHt+4/Et49nYLW9z++2teD4Jn+P+568eH/bwFALf5D9lmAAkCiZAicVOkCQPPT4jNKxwJAOjp3wTzBAUBSQsKNGisBQG4OmjqJwQBAJ3sZoHFuAEA5Ar0Sdi0AQGy4rw5+9f8/7W4nSrC3/z8mPr8zj4T/P4UYRHCQS/8/embVKYcF/z+5YXG+LLP+P/qb8BVUgf4/KvafTtyO/j/avAK1Ppv+PwJV9VVm2P0/JFtYlU/n/D9sN+q2fiX6Pw44e41PNPc/Opt+Z/wN9T+x3vcSW1vzP9ofvWQJlvI/8sciQQBW8j80sfkQa17yPzg5qng2r/I/Oh14WJBh8z+VZjnpctj0P6CcrSuCqQBA\",\"dtype\":\"float64\",\"shape\":[75]},\"y\":{\"__ndarray__\":\"GhExyth1ND/Sv8nbtpRIP2vylNV0PVE/aTum7souWD/At0SJ8fVgPw3Iuahxymc/MSNhhJWvcD/bTfBN02d3P2zb5nxnaoA/CD5h5MAGhz8NmeH1TyaQP+zrCsc9p5Y/LbKd76fGnz/bLW5ISEmmPww9YvTcQq8/JV2OstnstT8Er5Y7M8G+P0c+r3jqkcU/5h99k6ZBzj88bCIzFzjVP4enV8oyxN0//yH99nXg5D8qOpLLf0jtP5kqGJXUifQ/c9cS8kHP/D+/DpwzojQEQIEmwoanVwxA4lgXt9HgE0BSSZ2AJuIbQAMJih9jjiNA5q4l5INuK0AwTKYKRj0zQNv5fmq8/DpAaCJseHrtQkB/+zpwzoxKQM3MzMzMeFJAZmZmZmZqWEAAAAAAAFxeQM3MzMzMJmJAmpmZmZkfZUBmZmZmZhhoQDMzMzMzEWtAAAAAAAAKbkBmZmZmZoFwQM3MzMzM/XFAMzMzMzN6c0CamZmZmfZ0QAAAAAAAc3ZAZmZmZmbvd0DNzMzMzGt5QDMzMzMz6HpAmpmZmZlkfEAAAAAAAOF9QGZmZmZmXX9AZmZmZuZsgECamZmZGSuBQM3MzMxM6YFAAAAAAICngkAzMzMzs2WDQGZmZmbmI4RAmpmZmRnihEDNzMzMTKCFQAAAAACAXoZAMzMzM7Mch0BmZmZm5tqHQJqZmZkZmYhAzczMzExXiUAAAAAAgBWKQDMzMzOz04pAZmZmZuaRi0CamZmZGVCMQM3MzMxMDo1AAAAAAIDMjUAzMzMzs4qOQGZmZmbmSI9A\",\"dtype\":\"float64\",\"shape\":[75]}},\"selected\":{\"id\":\"2649f790-5f18-4caf-a139-eea9be6b3ce6\",\"type\":\"Selection\"},\"selection_policy\":{\"id\":\"bb0db2dc-88ca-4bcb-bd53-55bc5ed115ef\",\"type\":\"UnionRenderers\"}},\"id\":\"b9c822ed-70da-4c34-9cbc-75dbaef1f73e\",\"type\":\"ColumnDataSource\"},{\"attributes\":{\"callback\":null,\"data\":{\"x\":{\"__ndarray__\":\"R/KIaN7AVEClCeJMyPNGQOvRhpxr30JAptxzhxx4PkA7SssMElA4QK6Bp3CyUDNAsVXpjES9LkBFhUV0+5coQMHYwqbbySNA6f09nM3nH0CaSd/3eYoZQDmgiAOW8BNAPYqARh3eDEBkm4vCgvr+P9D+5tWhQfY/P8DwKRnSAkBq38kb17ILQDT7IWuSsxFAUr2Rjm0FFkAinq3s9XgbQGCHwtYcqSFAG64kT303J0C7dRDneyooQD9JYrbK8yRA9S3bneHhIUAIymSuUMMcQIkHLe6VEBdAAau3cITREkA6CiNvkQIPQJU39ki7IQlAaAvwok1UA0BXLQiS4+L7P0xzDpJ2hPI/NNuPGMbJ5z91mUVYxqfSPxqwUPSxZca/G11peifD3L8QzNj5t2jTvwzOozTL360/SPJ4VI1VzD9KJ0nXEIncP8yDdlvHt+4/Et49nYLW9z++2teD4Jn+P+568eH/bwFALf5D9lmAAkCiZAicVOkCQPPT4jNKxwJAOjp3wTzBAUBSQsKNGisBQG4OmjqJwQBAJ3sZoHFuAEA5Ar0Sdi0AQGy4rw5+9f8/7W4nSrC3/z8mPr8zj4T/P4UYRHCQS/8/embVKYcF/z+5YXG+LLP+P/qb8BVUgf4/KvafTtyO/j/avAK1Ppv+PwJV9VVm2P0/JFtYlU/n/D9sN+q2fiX6Pw44e41PNPc/Opt+Z/wN9T+x3vcSW1vzP9ofvWQJlvI/8sciQQBW8j80sfkQa17yPzg5qng2r/I/Oh14WJBh8z+VZjnpctj0P6CcrSuCqQBA\",\"dtype\":\"float64\",\"shape\":[75]},\"y\":{\"__ndarray__\":\"GhExyth1ND/Sv8nbtpRIP2vylNV0PVE/aTum7souWD/At0SJ8fVgPw3Iuahxymc/MSNhhJWvcD/bTfBN02d3P2zb5nxnaoA/CD5h5MAGhz8NmeH1TyaQP+zrCsc9p5Y/LbKd76fGnz/bLW5ISEmmPww9YvTcQq8/JV2OstnstT8Er5Y7M8G+P0c+r3jqkcU/5h99k6ZBzj88bCIzFzjVP4enV8oyxN0//yH99nXg5D8qOpLLf0jtP5kqGJXUifQ/c9cS8kHP/D+/DpwzojQEQIEmwoanVwxA4lgXt9HgE0BSSZ2AJuIbQAMJih9jjiNA5q4l5INuK0AwTKYKRj0zQNv5fmq8/DpAaCJseHrtQkB/+zpwzoxKQM3MzMzMeFJAZmZmZmZqWEAAAAAAAFxeQM3MzMzMJmJAmpmZmZkfZUBmZmZmZhhoQDMzMzMzEWtAAAAAAAAKbkBmZmZmZoFwQM3MzMzM/XFAMzMzMzN6c0CamZmZmfZ0QAAAAAAAc3ZAZmZmZmbvd0DNzMzMzGt5QDMzMzMz6HpAmpmZmZlkfEAAAAAAAOF9QGZmZmZmXX9AZmZmZuZsgECamZmZGSuBQM3MzMxM6YFAAAAAAICngkAzMzMzs2WDQGZmZmbmI4RAmpmZmRnihEDNzMzMTKCFQAAAAACAXoZAMzMzM7Mch0BmZmZm5tqHQJqZmZkZmYhAzczMzExXiUAAAAAAgBWKQDMzMzOz04pAZmZmZuaRi0CamZmZGVCMQM3MzMxMDo1AAAAAAIDMjUAzMzMzs4qOQGZmZmbmSI9A\",\"dtype\":\"float64\",\"shape\":[75]}},\"selected\":{\"id\":\"67266caf-a590-4847-adfc-327e51991d72\",\"type\":\"Selection\"},\"selection_policy\":{\"id\":\"8b6aaf29-5b53-4a79-a373-978c41ecdefe\",\"type\":\"UnionRenderers\"}},\"id\":\"41cbd94d-cb59-4ff9-860b-0f59d270fbe7\",\"type\":\"ColumnDataSource\"},{\"attributes\":{},\"id\":\"5e8170b5-d106-4110-aa9f-bbfa7cb52393\",\"type\":\"PanTool\"},{\"attributes\":{\"fill_alpha\":{\"value\":0.7},\"fill_color\":{\"value\":\"#4daf4a\"},\"line_alpha\":{\"value\":0.7},\"line_color\":{\"value\":\"#4daf4a\"},\"x\":{\"field\":\"x\"},\"y\":{\"field\":\"y\"}},\"id\":\"9e248ed8-c1d8-4282-a08c-f202a1a35b74\",\"type\":\"Circle\"},{\"attributes\":{\"fill_alpha\":{\"value\":0.1},\"fill_color\":{\"value\":\"#1f77b4\"},\"line_alpha\":{\"value\":0.1},\"line_color\":{\"value\":\"#1f77b4\"},\"x\":{\"field\":\"x\"},\"y\":{\"field\":\"y\"}},\"id\":\"3c3f1879-c64d-4a27-82a2-c169f55336b0\",\"type\":\"Circle\"},{\"attributes\":{},\"id\":\"7a273ed5-c36e-480b-a91e-573de6e2a95d\",\"type\":\"SaveTool\"},{\"attributes\":{},\"id\":\"a0160c8d-73fb-4773-8cd4-af4df975dc9f\",\"type\":\"ResetTool\"},{\"attributes\":{\"line_alpha\":0.1,\"line_color\":\"#1f77b4\",\"line_dash\":[6],\"line_width\":5,\"x\":{\"field\":\"x\"},\"y\":{\"field\":\"y\"}},\"id\":\"6585657f-6a62-456f-a686-c5fc86a072cd\",\"type\":\"Line\"},{\"attributes\":{\"bottom_units\":\"screen\",\"fill_alpha\":{\"value\":0.5},\"fill_color\":{\"value\":\"lightgrey\"},\"left_units\":\"screen\",\"level\":\"overlay\",\"line_alpha\":{\"value\":1.0},\"line_color\":{\"value\":\"black\"},\"line_dash\":[4,4],\"line_width\":{\"value\":2},\"plot\":null,\"render_mode\":\"css\",\"right_units\":\"screen\",\"top_units\":\"screen\"},\"id\":\"18b449e3-f14d-4a85-b563-ef7a10e720be\",\"type\":\"BoxAnnotation\"},{\"attributes\":{\"ticker\":null},\"id\":\"9d423273-fcee-4b2d-bf2a-aa7bb64fff45\",\"type\":\"LogTickFormatter\"},{\"attributes\":{\"data_source\":{\"id\":\"41cbd94d-cb59-4ff9-860b-0f59d270fbe7\",\"type\":\"ColumnDataSource\"},\"glyph\":{\"id\":\"9e248ed8-c1d8-4282-a08c-f202a1a35b74\",\"type\":\"Circle\"},\"hover_glyph\":null,\"muted_glyph\":null,\"nonselection_glyph\":{\"id\":\"3c3f1879-c64d-4a27-82a2-c169f55336b0\",\"type\":\"Circle\"},\"selection_glyph\":null,\"view\":{\"id\":\"5849ac7d-f648-4061-b55a-30cb35b1c4d3\",\"type\":\"CDSView\"}},\"id\":\"7d37146e-c1be-46e6-85a9-ff85866d2e1c\",\"type\":\"GlyphRenderer\"},{\"attributes\":{\"line_alpha\":0.1,\"line_color\":\"#1f77b4\",\"line_width\":1.5,\"x\":{\"field\":\"x\"},\"y\":{\"field\":\"y\"}},\"id\":\"0d261d14-6fee-42b3-b728-a4e5c6c48b87\",\"type\":\"Line\"},{\"attributes\":{},\"id\":\"dd0fb3fa-ea2a-4ad8-9fc4-41856bd20b6f\",\"type\":\"BasicTickFormatter\"},{\"attributes\":{},\"id\":\"12d99aeb-b8bc-4eb8-85f6-81e564e186e7\",\"type\":\"Selection\"},{\"attributes\":{\"fill_alpha\":{\"value\":0.7},\"fill_color\":{\"value\":\"#4daf4a\"},\"line_alpha\":{\"value\":0.7},\"line_color\":{\"value\":\"#4daf4a\"},\"x\":{\"field\":\"x\"},\"y\":{\"field\":\"y\"}},\"id\":\"d9d8013d-c3c0-46c8-b18c-33417b438841\",\"type\":\"Circle\"},{\"attributes\":{\"callback\":null,\"data\":{\"x\":{\"__ndarray__\":\"R/KIaN7AVEClCeJMyPNGQOvRhpxr30JAptxzhxx4PkA7SssMElA4QK6Bp3CyUDNAsVXpjES9LkBFhUV0+5coQMHYwqbbySNA6f09nM3nH0CaSd/3eYoZQDmgiAOW8BNAPYqARh3eDEBkm4vCgvr+P9D+5tWhQfY/P8DwKRnSAkBq38kb17ILQDT7IWuSsxFAUr2Rjm0FFkAinq3s9XgbQGCHwtYcqSFAG64kT303J0C7dRDneyooQD9JYrbK8yRA9S3bneHhIUAIymSuUMMcQIkHLe6VEBdAAau3cITREkA6CiNvkQIPQJU39ki7IQlAaAvwok1UA0BXLQiS4+L7P0xzDpJ2hPI/NNuPGMbJ5z91mUVYxqfSPxqwUPSxZca/G11peifD3L8QzNj5t2jTvwzOozTL360/SPJ4VI1VzD9KJ0nXEIncP8yDdlvHt+4/Et49nYLW9z++2teD4Jn+P+568eH/bwFALf5D9lmAAkCiZAicVOkCQPPT4jNKxwJAOjp3wTzBAUBSQsKNGisBQG4OmjqJwQBAJ3sZoHFuAEA5Ar0Sdi0AQGy4rw5+9f8/7W4nSrC3/z8mPr8zj4T/P4UYRHCQS/8/embVKYcF/z+5YXG+LLP+P/qb8BVUgf4/KvafTtyO/j/avAK1Ppv+PwJV9VVm2P0/JFtYlU/n/D9sN+q2fiX6Pw44e41PNPc/Opt+Z/wN9T+x3vcSW1vzP9ofvWQJlvI/8sciQQBW8j80sfkQa17yPzg5qng2r/I/Oh14WJBh8z+VZjnpctj0P6CcrSuCqQBA\",\"dtype\":\"float64\",\"shape\":[75]},\"y\":{\"__ndarray__\":\"GhExyth1ND/Sv8nbtpRIP2vylNV0PVE/aTum7souWD/At0SJ8fVgPw3Iuahxymc/MSNhhJWvcD/bTfBN02d3P2zb5nxnaoA/CD5h5MAGhz8NmeH1TyaQP+zrCsc9p5Y/LbKd76fGnz/bLW5ISEmmPww9YvTcQq8/JV2OstnstT8Er5Y7M8G+P0c+r3jqkcU/5h99k6ZBzj88bCIzFzjVP4enV8oyxN0//yH99nXg5D8qOpLLf0jtP5kqGJXUifQ/c9cS8kHP/D+/DpwzojQEQIEmwoanVwxA4lgXt9HgE0BSSZ2AJuIbQAMJih9jjiNA5q4l5INuK0AwTKYKRj0zQNv5fmq8/DpAaCJseHrtQkB/+zpwzoxKQM3MzMzMeFJAZmZmZmZqWEAAAAAAAFxeQM3MzMzMJmJAmpmZmZkfZUBmZmZmZhhoQDMzMzMzEWtAAAAAAAAKbkBmZmZmZoFwQM3MzMzM/XFAMzMzMzN6c0CamZmZmfZ0QAAAAAAAc3ZAZmZmZmbvd0DNzMzMzGt5QDMzMzMz6HpAmpmZmZlkfEAAAAAAAOF9QGZmZmZmXX9AZmZmZuZsgECamZmZGSuBQM3MzMxM6YFAAAAAAICngkAzMzMzs2WDQGZmZmbmI4RAmpmZmRnihEDNzMzMTKCFQAAAAACAXoZAMzMzM7Mch0BmZmZm5tqHQJqZmZkZmYhAzczMzExXiUAAAAAAgBWKQDMzMzOz04pAZmZmZuaRi0CamZmZGVCMQM3MzMxMDo1AAAAAAIDMjUAzMzMzs4qOQGZmZmbmSI9A\",\"dtype\":\"float64\",\"shape\":[75]}},\"selected\":{\"id\":\"12d99aeb-b8bc-4eb8-85f6-81e564e186e7\",\"type\":\"Selection\"},\"selection_policy\":{\"id\":\"73b652f1-a3cb-4d03-8cb7-dae25f10dca8\",\"type\":\"UnionRenderers\"}},\"id\":\"9631c304-79f0-4232-a4ab-f5ad82febcf6\",\"type\":\"ColumnDataSource\"},{\"attributes\":{},\"id\":\"1534ff74-1b17-4113-b908-6ac77e5941ed\",\"type\":\"BasicTickFormatter\"},{\"attributes\":{},\"id\":\"8dd529d9-e0d0-4002-bb36-971a52923a00\",\"type\":\"UnionRenderers\"},{\"attributes\":{\"dimension\":1,\"plot\":{\"id\":\"c9923840-9042-43a3-9ab2-37eab4a91365\",\"subtype\":\"Figure\",\"type\":\"Plot\"},\"ticker\":{\"id\":\"5a95c648-8c36-4ad2-93ee-137d32b990db\",\"type\":\"LogTicker\"}},\"id\":\"7aa709a6-18f6-449d-8c5c-eb7e6571996c\",\"type\":\"Grid\"},{\"attributes\":{\"line_alpha\":0.1,\"line_color\":\"#1f77b4\",\"line_dash\":[6],\"line_width\":5,\"x\":{\"field\":\"x\"},\"y\":{\"field\":\"y\"}},\"id\":\"b7e93d92-67cf-45af-858b-583d2cefa2e4\",\"type\":\"Line\"},{\"attributes\":{},\"id\":\"4bfcbbf2-fc45-4196-b0d3-d0ec3bd44b93\",\"type\":\"UnionRenderers\"},{\"attributes\":{\"callback\":null,\"end\":0.01,\"start\":1020},\"id\":\"a6774d1e-d39a-4978-8638-c81d16bd4d82\",\"type\":\"Range1d\"},{\"attributes\":{\"source\":{\"id\":\"292aaf57-82f7-417f-a3ab-73b6bde6740a\",\"type\":\"ColumnDataSource\"}},\"id\":\"104372b9-97d5-4c9f-98f1-582d9c26b046\",\"type\":\"CDSView\"},{\"attributes\":{\"data_source\":{\"id\":\"63ccd15a-fcd1-48bd-bfda-84bb572ea2d6\",\"type\":\"ColumnDataSource\"},\"glyph\":{\"id\":\"c8adff6e-f60a-4d7f-bf44-ebe879690ac0\",\"type\":\"Line\"},\"hover_glyph\":null,\"muted_glyph\":null,\"nonselection_glyph\":{\"id\":\"b7e93d92-67cf-45af-858b-583d2cefa2e4\",\"type\":\"Line\"},\"selection_glyph\":null,\"view\":{\"id\":\"4a5dd56c-3edb-4c17-b713-536db3f98cfc\",\"type\":\"CDSView\"}},\"id\":\"6c41f21b-772d-4329-83b3-d2744793dc88\",\"type\":\"GlyphRenderer\"},{\"attributes\":{},\"id\":\"b35f11dd-9a31-46c5-8ada-ac783928c774\",\"type\":\"BasicTickFormatter\"},{\"attributes\":{\"fill_alpha\":{\"value\":0.1},\"fill_color\":{\"value\":\"#1f77b4\"},\"line_alpha\":{\"value\":0.1},\"line_color\":{\"value\":\"#1f77b4\"},\"x\":{\"field\":\"x\"},\"y\":{\"field\":\"y\"}},\"id\":\"78ff903d-ad88-417e-9653-68b6ccc78515\",\"type\":\"Circle\"},{\"attributes\":{},\"id\":\"c88c19a4-8a20-45e0-881e-cdd351861054\",\"type\":\"Selection\"},{\"attributes\":{\"data_source\":{\"id\":\"9631c304-79f0-4232-a4ab-f5ad82febcf6\",\"type\":\"ColumnDataSource\"},\"glyph\":{\"id\":\"d9d8013d-c3c0-46c8-b18c-33417b438841\",\"type\":\"Circle\"},\"hover_glyph\":null,\"muted_glyph\":null,\"nonselection_glyph\":{\"id\":\"78ff903d-ad88-417e-9653-68b6ccc78515\",\"type\":\"Circle\"},\"selection_glyph\":null,\"view\":{\"id\":\"4c933b57-d995-4f9b-81b0-fd83fa58a65b\",\"type\":\"CDSView\"}},\"id\":\"3959e463-9f59-4311-ac10-8eb56908d1d6\",\"type\":\"GlyphRenderer\"},{\"attributes\":{\"children\":[{\"id\":\"907bb6b8-fd14-4ebb-9fad-6a441a332cfd\",\"subtype\":\"Figure\",\"type\":\"Plot\"},{\"id\":\"c9923840-9042-43a3-9ab2-37eab4a91365\",\"subtype\":\"Figure\",\"type\":\"Plot\"},{\"id\":\"710eb1ec-039a-4715-827f-2a55cf5b6c78\",\"subtype\":\"Figure\",\"type\":\"Plot\"}]},\"id\":\"ccdde091-3aa4-449b-be64-257bc975aa6d\",\"type\":\"Row\"},{\"attributes\":{},\"id\":\"67266caf-a590-4847-adfc-327e51991d72\",\"type\":\"Selection\"},{\"attributes\":{\"plot\":null,\"text\":\"\"},\"id\":\"270343a7-a2d6-4508-9656-9a3fa64b6a44\",\"type\":\"Title\"},{\"attributes\":{\"data_source\":{\"id\":\"292aaf57-82f7-417f-a3ab-73b6bde6740a\",\"type\":\"ColumnDataSource\"},\"glyph\":{\"id\":\"5f247a3b-9fc8-42e7-81a0-d1bc89b771db\",\"type\":\"Circle\"},\"hover_glyph\":null,\"muted_glyph\":null,\"nonselection_glyph\":{\"id\":\"f9cd003e-acc2-41b1-ac69-59dc35a22d83\",\"type\":\"Circle\"},\"selection_glyph\":null,\"view\":{\"id\":\"104372b9-97d5-4c9f-98f1-582d9c26b046\",\"type\":\"CDSView\"}},\"id\":\"844cf3c0-9a3f-448d-8215-8baa6c94b9bf\",\"type\":\"GlyphRenderer\"},{\"attributes\":{},\"id\":\"dd8e19e1-d456-4b6e-a64d-ac6cd67d9fcd\",\"type\":\"Selection\"},{\"attributes\":{\"plot\":null,\"text\":\"\"},\"id\":\"5a2f55f6-4336-4b6e-8da6-3a85eb657a60\",\"type\":\"Title\"},{\"attributes\":{\"callback\":null,\"data\":{\"x\":{\"__ndarray__\":\"4noUPlX2UsEyMzNjmtdwQZDC9cgVGEHBFK5HoTHmQEHiehSOnUZQwUjhehTTm0dBKVyPAhriIUEvTKYK+IXkwL10k5iNdBLBarx005qZJEGRwvWoQu8nwQZWDq28ixnB3yQGAbAPGkFf3EYD6nHqwGxN846PJepA63O1FSAu+cD1/dR4QUPyQK6L22ggq8tAIBSUorXAj8DYyoRfgpC8wNIA3gIh2s9AFAoRcDjHqkAAAAAAAAAAAAAAAAAAAAAAAAAAAAAAAAAAAAAAAAAAAAAAAAAAAAAAAAAAAAAAAAAAAAAAAAAAAAAAAAAAAAAAAAAAAAAAAAAAAAAAAAAAAFwIzQk1YU3AhF/q513FqcAAAAAAAAAAACzPg7vz25tALM+Du/Pbm8AAAAAAAAAAACzPg7vz25tAKM4fxGZokz+bmZkZ3u06wWZmZubfuDpBDE+vlE1w3EASFD/G/KbMwFbBqKROqIvAxAd2/JeUdUClK9hGXLyqQBLfiVnvbq3AbuvNfTAvmT9u6819MC+Zv695uja/uWu8r3m6Nr+5azxsVXi7efp9QCkz74IyUXzArK8B6M3qOcCRjFR9067Ov0/xkNMuFMC/xz7kPfNx0r/kNEU6I33WP4Ct9NWz8sG/sIGp7FjBob9A68NRbUSGv1ZTnujWBcO/gg07y61Cuj8j5ZsrUnrAvwAAAAAAAAAAAAAAAAAAAAAAAAAAAAAAAE4bH/SZnco8uZQfjuP4l7xYlfwPq1vBvMme2DGomsQ8/F3p5YrDyrztnTi8QzpQPLIaiSm5s4A8\",\"dtype\":\"float64\",\"shape\":[75]},\"y\":{\"__ndarray__\":\"GhExyth1ND/Sv8nbtpRIP2vylNV0PVE/aTum7souWD/At0SJ8fVgPw3Iuahxymc/MSNhhJWvcD/bTfBN02d3P2zb5nxnaoA/CD5h5MAGhz8NmeH1TyaQP+zrCsc9p5Y/LbKd76fGnz/bLW5ISEmmPww9YvTcQq8/JV2OstnstT8Er5Y7M8G+P0c+r3jqkcU/5h99k6ZBzj88bCIzFzjVP4enV8oyxN0//yH99nXg5D8qOpLLf0jtP5kqGJXUifQ/c9cS8kHP/D+/DpwzojQEQIEmwoanVwxA4lgXt9HgE0BSSZ2AJuIbQAMJih9jjiNA5q4l5INuK0AwTKYKRj0zQNv5fmq8/DpAaCJseHrtQkB/+zpwzoxKQM3MzMzMeFJAZmZmZmZqWEAAAAAAAFxeQM3MzMzMJmJAmpmZmZkfZUBmZmZmZhhoQDMzMzMzEWtAAAAAAAAKbkBmZmZmZoFwQM3MzMzM/XFAMzMzMzN6c0CamZmZmfZ0QAAAAAAAc3ZAZmZmZmbvd0DNzMzMzGt5QDMzMzMz6HpAmpmZmZlkfEAAAAAAAOF9QGZmZmZmXX9AZmZmZuZsgECamZmZGSuBQM3MzMxM6YFAAAAAAICngkAzMzMzs2WDQGZmZmbmI4RAmpmZmRnihEDNzMzMTKCFQAAAAACAXoZAMzMzM7Mch0BmZmZm5tqHQJqZmZkZmYhAzczMzExXiUAAAAAAgBWKQDMzMzOz04pAZmZmZuaRi0CamZmZGVCMQM3MzMxMDo1AAAAAAIDMjUAzMzMzs4qOQGZmZmbmSI9A\",\"dtype\":\"float64\",\"shape\":[75]}},\"selected\":{\"id\":\"c88c19a4-8a20-45e0-881e-cdd351861054\",\"type\":\"Selection\"},\"selection_policy\":{\"id\":\"8e2ba16b-ccbc-47df-b236-772d736055da\",\"type\":\"UnionRenderers\"}},\"id\":\"63ccd15a-fcd1-48bd-bfda-84bb572ea2d6\",\"type\":\"ColumnDataSource\"},{\"attributes\":{},\"id\":\"8b6aaf29-5b53-4a79-a373-978c41ecdefe\",\"type\":\"UnionRenderers\"},{\"attributes\":{\"fill_alpha\":{\"value\":0.7},\"fill_color\":{\"value\":\"#984ea3\"},\"line_alpha\":{\"value\":0.7},\"line_color\":{\"value\":\"#984ea3\"},\"x\":{\"field\":\"x\"},\"y\":{\"field\":\"y\"}},\"id\":\"5f247a3b-9fc8-42e7-81a0-d1bc89b771db\",\"type\":\"Circle\"},{\"attributes\":{\"source\":{\"id\":\"63ccd15a-fcd1-48bd-bfda-84bb572ea2d6\",\"type\":\"ColumnDataSource\"}},\"id\":\"4a5dd56c-3edb-4c17-b713-536db3f98cfc\",\"type\":\"CDSView\"},{\"attributes\":{},\"id\":\"2649f790-5f18-4caf-a139-eea9be6b3ce6\",\"type\":\"Selection\"},{\"attributes\":{},\"id\":\"bb0db2dc-88ca-4bcb-bd53-55bc5ed115ef\",\"type\":\"UnionRenderers\"},{\"attributes\":{\"ticker\":null},\"id\":\"4e3bd794-9df5-4cbc-b680-ef843d391902\",\"type\":\"LogTickFormatter\"},{\"attributes\":{\"label\":{\"value\":\"CLIRAD (single-run) - CRD\"},\"renderers\":[{\"id\":\"844cf3c0-9a3f-448d-8215-8baa6c94b9bf\",\"type\":\"GlyphRenderer\"},{\"id\":\"04cd17f5-4315-402f-95cb-b8a009abd5ba\",\"type\":\"GlyphRenderer\"}]},\"id\":\"bdc9d61a-47e0-47e9-8df4-0a8492200c9e\",\"type\":\"LegendItem\"},{\"attributes\":{\"bottom_units\":\"screen\",\"fill_alpha\":{\"value\":0.5},\"fill_color\":{\"value\":\"lightgrey\"},\"left_units\":\"screen\",\"level\":\"overlay\",\"line_alpha\":{\"value\":1.0},\"line_color\":{\"value\":\"black\"},\"line_dash\":[4,4],\"line_width\":{\"value\":2},\"plot\":null,\"render_mode\":\"css\",\"right_units\":\"screen\",\"top_units\":\"screen\"},\"id\":\"5aa5e630-f633-454e-9901-c0adf02f2c42\",\"type\":\"BoxAnnotation\"},{\"attributes\":{\"fill_alpha\":{\"value\":0.1},\"fill_color\":{\"value\":\"#1f77b4\"},\"line_alpha\":{\"value\":0.1},\"line_color\":{\"value\":\"#1f77b4\"},\"x\":{\"field\":\"x\"},\"y\":{\"field\":\"y\"}},\"id\":\"f9cd003e-acc2-41b1-ac69-59dc35a22d83\",\"type\":\"Circle\"},{\"attributes\":{\"line_alpha\":0.6,\"line_color\":\"#377eb8\",\"line_dash\":[6],\"line_width\":5,\"x\":{\"field\":\"x\"},\"y\":{\"field\":\"y\"}},\"id\":\"c8adff6e-f60a-4d7f-bf44-ebe879690ac0\",\"type\":\"Line\"},{\"attributes\":{},\"id\":\"6be9b5e3-3caf-4ec2-aaac-182d21ea3ef8\",\"type\":\"Selection\"},{\"attributes\":{\"plot\":null,\"text\":\"\"},\"id\":\"21a67680-7f7a-4df8-a985-8eac241e2f1c\",\"type\":\"Title\"},{\"attributes\":{},\"id\":\"73b652f1-a3cb-4d03-8cb7-dae25f10dca8\",\"type\":\"UnionRenderers\"},{\"attributes\":{\"source\":{\"id\":\"9631c304-79f0-4232-a4ab-f5ad82febcf6\",\"type\":\"ColumnDataSource\"}},\"id\":\"4c933b57-d995-4f9b-81b0-fd83fa58a65b\",\"type\":\"CDSView\"},{\"attributes\":{\"callback\":null,\"end\":0.01,\"start\":1020},\"id\":\"823fcd85-020a-40bc-b449-90f6230f75f9\",\"type\":\"Range1d\"},{\"attributes\":{\"axis_label\":\"pressure [mb]\",\"formatter\":{\"id\":\"1534ff74-1b17-4113-b908-6ac77e5941ed\",\"type\":\"BasicTickFormatter\"},\"plot\":{\"id\":\"907bb6b8-fd14-4ebb-9fad-6a441a332cfd\",\"subtype\":\"Figure\",\"type\":\"Plot\"},\"ticker\":{\"id\":\"cdfeaa04-7b04-4b9c-bbf4-211db1b93e24\",\"type\":\"BasicTicker\"}},\"id\":\"64e0c3a5-3b69-405d-adc2-bdac49d7675a\",\"type\":\"LinearAxis\"},{\"attributes\":{\"axis_label\":\"cooling rate [K/day]\",\"formatter\":{\"id\":\"dd0fb3fa-ea2a-4ad8-9fc4-41856bd20b6f\",\"type\":\"BasicTickFormatter\"},\"plot\":{\"id\":\"710eb1ec-039a-4715-827f-2a55cf5b6c78\",\"subtype\":\"Figure\",\"type\":\"Plot\"},\"ticker\":{\"id\":\"f23ebc5b-a217-47c6-8025-614c9da81b9b\",\"type\":\"BasicTicker\"}},\"id\":\"b0db769d-284d-4a31-836b-16ce7f7fa95d\",\"type\":\"LinearAxis\"},{\"attributes\":{\"children\":[{\"id\":\"ccdde091-3aa4-449b-be64-257bc975aa6d\",\"type\":\"Row\"}]},\"id\":\"a9608c38-d5b5-4e35-9f5a-514f6b998e47\",\"type\":\"Column\"},{\"attributes\":{},\"id\":\"832fcd51-08e5-454b-b110-3a19dac042ee\",\"type\":\"WheelZoomTool\"},{\"attributes\":{\"above\":[{\"id\":\"c0899779-6bdf-4db0-85e6-3d7777e822bb\",\"type\":\"Legend\"}],\"below\":[{\"id\":\"b6b63c81-148c-41a4-834e-122de112c6e6\",\"type\":\"LinearAxis\"}],\"left\":[{\"id\":\"64e0c3a5-3b69-405d-adc2-bdac49d7675a\",\"type\":\"LinearAxis\"}],\"plot_width\":300,\"renderers\":[{\"id\":\"b6b63c81-148c-41a4-834e-122de112c6e6\",\"type\":\"LinearAxis\"},{\"id\":\"ddcf2938-1a21-458a-b11a-28c8304abcda\",\"type\":\"Grid\"},{\"id\":\"64e0c3a5-3b69-405d-adc2-bdac49d7675a\",\"type\":\"LinearAxis\"},{\"id\":\"6e827f20-0dcc-422c-9654-825166006a41\",\"type\":\"Grid\"},{\"id\":\"18b449e3-f14d-4a85-b563-ef7a10e720be\",\"type\":\"BoxAnnotation\"},{\"id\":\"e6895135-fe87-406e-b2e6-e7d281280cf4\",\"type\":\"GlyphRenderer\"},{\"id\":\"7d37146e-c1be-46e6-85a9-ff85866d2e1c\",\"type\":\"GlyphRenderer\"},{\"id\":\"e9b04636-2551-4573-84d9-262ca24828a9\",\"type\":\"GlyphRenderer\"},{\"id\":\"c0899779-6bdf-4db0-85e6-3d7777e822bb\",\"type\":\"Legend\"}],\"title\":{\"id\":\"21a67680-7f7a-4df8-a985-8eac241e2f1c\",\"type\":\"Title\"},\"toolbar\":{\"id\":\"e29f8ba8-d1a1-4ebb-82ee-e402fed8d166\",\"type\":\"Toolbar\"},\"toolbar_location\":null,\"x_range\":{\"id\":\"fa65a161-ecde-49cd-a45a-7e73feff7e4d\",\"type\":\"Range1d\"},\"x_scale\":{\"id\":\"2bf65a4a-01b1-48a4-8e0e-ec679f690360\",\"type\":\"LinearScale\"},\"y_range\":{\"id\":\"a6774d1e-d39a-4978-8638-c81d16bd4d82\",\"type\":\"Range1d\"},\"y_scale\":{\"id\":\"7a31e0c5-1d71-4df8-874b-17f3d507b742\",\"type\":\"LinearScale\"}},\"id\":\"907bb6b8-fd14-4ebb-9fad-6a441a332cfd\",\"subtype\":\"Figure\",\"type\":\"Plot\"},{\"attributes\":{\"plot\":{\"id\":\"907bb6b8-fd14-4ebb-9fad-6a441a332cfd\",\"subtype\":\"Figure\",\"type\":\"Plot\"},\"ticker\":{\"id\":\"fb0a5430-9c2c-4aec-aafd-938b9d4a8e68\",\"type\":\"BasicTicker\"}},\"id\":\"ddcf2938-1a21-458a-b11a-28c8304abcda\",\"type\":\"Grid\"},{\"attributes\":{\"line_alpha\":0.1,\"line_color\":\"#1f77b4\",\"line_width\":1.5,\"x\":{\"field\":\"x\"},\"y\":{\"field\":\"y\"}},\"id\":\"6bfc63ed-0394-4e0a-8e5f-03fb368ea573\",\"type\":\"Line\"},{\"attributes\":{\"overlay\":{\"id\":\"18b449e3-f14d-4a85-b563-ef7a10e720be\",\"type\":\"BoxAnnotation\"}},\"id\":\"27189d5a-55eb-472b-b318-45cc1d7567e7\",\"type\":\"BoxZoomTool\"},{\"attributes\":{},\"id\":\"7662d859-5635-4811-b6d9-49ad79d5c2c5\",\"type\":\"LinearScale\"},{\"attributes\":{\"line_color\":\"#4daf4a\",\"line_width\":1.5,\"x\":{\"field\":\"x\"},\"y\":{\"field\":\"y\"}},\"id\":\"77e43d9d-74be-433e-9d81-f1b31eaeb59c\",\"type\":\"Line\"},{\"attributes\":{},\"id\":\"e3d4cc2b-183b-4ba4-a11a-54171974666e\",\"type\":\"SaveTool\"},{\"attributes\":{\"source\":{\"id\":\"9c8ea2b2-7787-4505-b836-b7f57975bc89\",\"type\":\"ColumnDataSource\"}},\"id\":\"9afe0939-9a5d-4e29-8a77-27fe54a998ad\",\"type\":\"CDSView\"},{\"attributes\":{},\"id\":\"17526d46-fe05-41a4-a0fc-34f7e572fe62\",\"type\":\"PanTool\"},{\"attributes\":{\"data_source\":{\"id\":\"9c8ea2b2-7787-4505-b836-b7f57975bc89\",\"type\":\"ColumnDataSource\"},\"glyph\":{\"id\":\"77e43d9d-74be-433e-9d81-f1b31eaeb59c\",\"type\":\"Line\"},\"hover_glyph\":null,\"muted_glyph\":null,\"nonselection_glyph\":{\"id\":\"6bfc63ed-0394-4e0a-8e5f-03fb368ea573\",\"type\":\"Line\"},\"selection_glyph\":null,\"view\":{\"id\":\"9afe0939-9a5d-4e29-8a77-27fe54a998ad\",\"type\":\"CDSView\"}},\"id\":\"0459c74f-c8a7-4ffd-b3d4-de6c48c83542\",\"type\":\"GlyphRenderer\"},{\"attributes\":{\"above\":[{\"id\":\"5b694c97-1e38-445f-93cf-84701b0b74fc\",\"type\":\"Legend\"}],\"below\":[{\"id\":\"b0db769d-284d-4a31-836b-16ce7f7fa95d\",\"type\":\"LinearAxis\"}],\"left\":[{\"id\":\"326bd099-2fff-441b-adf0-bc8ee55568e6\",\"type\":\"LogAxis\"}],\"plot_width\":300,\"renderers\":[{\"id\":\"b0db769d-284d-4a31-836b-16ce7f7fa95d\",\"type\":\"LinearAxis\"},{\"id\":\"2e06858c-a16b-4ea3-b631-ebcca07648e7\",\"type\":\"Grid\"},{\"id\":\"326bd099-2fff-441b-adf0-bc8ee55568e6\",\"type\":\"LogAxis\"},{\"id\":\"3be4a3d1-c683-4904-921f-61a0c99ee5f7\",\"type\":\"Grid\"},{\"id\":\"5aa5e630-f633-454e-9901-c0adf02f2c42\",\"type\":\"BoxAnnotation\"},{\"id\":\"844cf3c0-9a3f-448d-8215-8baa6c94b9bf\",\"type\":\"GlyphRenderer\"},{\"id\":\"04cd17f5-4315-402f-95cb-b8a009abd5ba\",\"type\":\"GlyphRenderer\"},{\"id\":\"5b694c97-1e38-445f-93cf-84701b0b74fc\",\"type\":\"Legend\"}],\"title\":{\"id\":\"270343a7-a2d6-4508-9656-9a3fa64b6a44\",\"type\":\"Title\"},\"toolbar\":{\"id\":\"5120d931-d64b-439a-a32f-2be74f20e5e6\",\"type\":\"Toolbar\"},\"toolbar_location\":null,\"x_range\":{\"id\":\"2f4f9cb3-c08d-43f6-8848-d002efbd5c4d\",\"type\":\"Range1d\"},\"x_scale\":{\"id\":\"7662d859-5635-4811-b6d9-49ad79d5c2c5\",\"type\":\"LinearScale\"},\"y_range\":{\"id\":\"823fcd85-020a-40bc-b449-90f6230f75f9\",\"type\":\"Range1d\"},\"y_scale\":{\"id\":\"2ae76941-e373-4918-b4ef-02d979326df4\",\"type\":\"LogScale\"}},\"id\":\"710eb1ec-039a-4715-827f-2a55cf5b6c78\",\"subtype\":\"Figure\",\"type\":\"Plot\"},{\"attributes\":{\"toolbar\":{\"id\":\"e038f183-9075-4c28-a174-f96feaf017b8\",\"type\":\"ProxyToolbar\"},\"toolbar_location\":\"above\"},\"id\":\"c4818417-040e-4c59-bc87-384caee16deb\",\"type\":\"ToolbarBox\"},{\"attributes\":{\"callback\":null,\"data\":{\"x\":{\"__ndarray__\":\"R/KIaN7AVEClCeJMyPNGQOvRhpxr30JAptxzhxx4PkA7SssMElA4QK6Bp3CyUDNAsVXpjES9LkBFhUV0+5coQMHYwqbbySNA6f09nM3nH0CaSd/3eYoZQDmgiAOW8BNAPYqARh3eDEBkm4vCgvr+P9D+5tWhQfY/P8DwKRnSAkBq38kb17ILQDT7IWuSsxFAUr2Rjm0FFkAinq3s9XgbQGCHwtYcqSFAG64kT303J0C7dRDneyooQD9JYrbK8yRA9S3bneHhIUAIymSuUMMcQIkHLe6VEBdAAau3cITREkA6CiNvkQIPQJU39ki7IQlAaAvwok1UA0BXLQiS4+L7P0xzDpJ2hPI/NNuPGMbJ5z91mUVYxqfSPxqwUPSxZca/G11peifD3L8QzNj5t2jTvwzOozTL360/SPJ4VI1VzD9KJ0nXEIncP8yDdlvHt+4/Et49nYLW9z++2teD4Jn+P+568eH/bwFALf5D9lmAAkCiZAicVOkCQPPT4jNKxwJAOjp3wTzBAUBSQsKNGisBQG4OmjqJwQBAJ3sZoHFuAEA5Ar0Sdi0AQGy4rw5+9f8/7W4nSrC3/z8mPr8zj4T/P4UYRHCQS/8/embVKYcF/z+5YXG+LLP+P/qb8BVUgf4/KvafTtyO/j/avAK1Ppv+PwJV9VVm2P0/JFtYlU/n/D9sN+q2fiX6Pw44e41PNPc/Opt+Z/wN9T+x3vcSW1vzP9ofvWQJlvI/8sciQQBW8j80sfkQa17yPzg5qng2r/I/Oh14WJBh8z+VZjnpctj0P6CcrSuCqQBA\",\"dtype\":\"float64\",\"shape\":[75]},\"y\":{\"__ndarray__\":\"GhExyth1ND/Sv8nbtpRIP2vylNV0PVE/aTum7souWD/At0SJ8fVgPw3Iuahxymc/MSNhhJWvcD/bTfBN02d3P2zb5nxnaoA/CD5h5MAGhz8NmeH1TyaQP+zrCsc9p5Y/LbKd76fGnz/bLW5ISEmmPww9YvTcQq8/JV2OstnstT8Er5Y7M8G+P0c+r3jqkcU/5h99k6ZBzj88bCIzFzjVP4enV8oyxN0//yH99nXg5D8qOpLLf0jtP5kqGJXUifQ/c9cS8kHP/D+/DpwzojQEQIEmwoanVwxA4lgXt9HgE0BSSZ2AJuIbQAMJih9jjiNA5q4l5INuK0AwTKYKRj0zQNv5fmq8/DpAaCJseHrtQkB/+zpwzoxKQM3MzMzMeFJAZmZmZmZqWEAAAAAAAFxeQM3MzMzMJmJAmpmZmZkfZUBmZmZmZhhoQDMzMzMzEWtAAAAAAAAKbkBmZmZmZoFwQM3MzMzM/XFAMzMzMzN6c0CamZmZmfZ0QAAAAAAAc3ZAZmZmZmbvd0DNzMzMzGt5QDMzMzMz6HpAmpmZmZlkfEAAAAAAAOF9QGZmZmZmXX9AZmZmZuZsgECamZmZGSuBQM3MzMxM6YFAAAAAAICngkAzMzMzs2WDQGZmZmbmI4RAmpmZmRnihEDNzMzMTKCFQAAAAACAXoZAMzMzM7Mch0BmZmZm5tqHQJqZmZkZmYhAzczMzExXiUAAAAAAgBWKQDMzMzOz04pAZmZmZuaRi0CamZmZGVCMQM3MzMxMDo1AAAAAAIDMjUAzMzMzs4qOQGZmZmbmSI9A\",\"dtype\":\"float64\",\"shape\":[75]}},\"selected\":{\"id\":\"6be9b5e3-3caf-4ec2-aaac-182d21ea3ef8\",\"type\":\"Selection\"},\"selection_policy\":{\"id\":\"4bfcbbf2-fc45-4196-b0d3-d0ec3bd44b93\",\"type\":\"UnionRenderers\"}},\"id\":\"9c8ea2b2-7787-4505-b836-b7f57975bc89\",\"type\":\"ColumnDataSource\"},{\"attributes\":{},\"id\":\"72d101fa-b9c6-4998-a93f-9b191374165d\",\"type\":\"SaveTool\"},{\"attributes\":{},\"id\":\"2ae76941-e373-4918-b4ef-02d979326df4\",\"type\":\"LogScale\"},{\"attributes\":{},\"id\":\"fb0a5430-9c2c-4aec-aafd-938b9d4a8e68\",\"type\":\"BasicTicker\"},{\"attributes\":{\"label\":{\"value\":\"CLIRAD (single-run)\"},\"renderers\":[{\"id\":\"6c41f21b-772d-4329-83b3-d2744793dc88\",\"type\":\"GlyphRenderer\"}]},\"id\":\"26e09c1e-e5dc-40f8-8038-5e90573d6e10\",\"type\":\"LegendItem\"},{\"attributes\":{\"active_drag\":\"auto\",\"active_inspect\":\"auto\",\"active_scroll\":\"auto\",\"active_tap\":\"auto\",\"tools\":[{\"id\":\"17526d46-fe05-41a4-a0fc-34f7e572fe62\",\"type\":\"PanTool\"},{\"id\":\"832fcd51-08e5-454b-b110-3a19dac042ee\",\"type\":\"WheelZoomTool\"},{\"id\":\"27189d5a-55eb-472b-b318-45cc1d7567e7\",\"type\":\"BoxZoomTool\"},{\"id\":\"72d101fa-b9c6-4998-a93f-9b191374165d\",\"type\":\"SaveTool\"},{\"id\":\"acbbf130-b902-4284-b8a5-333730bf759f\",\"type\":\"ResetTool\"},{\"id\":\"4cd4f314-e43c-4491-8599-48b5df8681e5\",\"type\":\"HelpTool\"}]},\"id\":\"e29f8ba8-d1a1-4ebb-82ee-e402fed8d166\",\"type\":\"Toolbar\"},{\"attributes\":{\"active_drag\":\"auto\",\"active_inspect\":\"auto\",\"active_scroll\":\"auto\",\"active_tap\":\"auto\",\"tools\":[{\"id\":\"b84f639d-d115-49a5-b94e-33115aa6e444\",\"type\":\"PanTool\"},{\"id\":\"18fef796-621a-4141-a24f-46268a8f2d00\",\"type\":\"WheelZoomTool\"},{\"id\":\"19d357a9-6d7a-4cad-b59b-9055cab6a9dc\",\"type\":\"BoxZoomTool\"},{\"id\":\"e3d4cc2b-183b-4ba4-a11a-54171974666e\",\"type\":\"SaveTool\"},{\"id\":\"a9c0e367-1cc7-4787-bd8e-7e03334c3753\",\"type\":\"ResetTool\"},{\"id\":\"b196aaaa-02fe-4182-be03-1591d1e82e1c\",\"type\":\"HelpTool\"}]},\"id\":\"5120d931-d64b-439a-a32f-2be74f20e5e6\",\"type\":\"Toolbar\"},{\"attributes\":{},\"id\":\"cdfeaa04-7b04-4b9c-bbf4-211db1b93e24\",\"type\":\"BasicTicker\"},{\"attributes\":{\"dimension\":1,\"plot\":{\"id\":\"907bb6b8-fd14-4ebb-9fad-6a441a332cfd\",\"subtype\":\"Figure\",\"type\":\"Plot\"},\"ticker\":{\"id\":\"cdfeaa04-7b04-4b9c-bbf4-211db1b93e24\",\"type\":\"BasicTicker\"}},\"id\":\"6e827f20-0dcc-422c-9654-825166006a41\",\"type\":\"Grid\"},{\"attributes\":{\"items\":[{\"id\":\"bdc9d61a-47e0-47e9-8df4-0a8492200c9e\",\"type\":\"LegendItem\"}],\"label_text_font_size\":{\"value\":\"8pt\"},\"location\":\"top_center\",\"orientation\":\"horizontal\",\"plot\":{\"id\":\"710eb1ec-039a-4715-827f-2a55cf5b6c78\",\"subtype\":\"Figure\",\"type\":\"Plot\"}},\"id\":\"5b694c97-1e38-445f-93cf-84701b0b74fc\",\"type\":\"Legend\"},{\"attributes\":{\"label\":{\"value\":\"CRD\"},\"renderers\":[{\"id\":\"3959e463-9f59-4311-ac10-8eb56908d1d6\",\"type\":\"GlyphRenderer\"},{\"id\":\"0459c74f-c8a7-4ffd-b3d4-de6c48c83542\",\"type\":\"GlyphRenderer\"}]},\"id\":\"25157cfd-a750-4ddf-b6da-d1caad548a9e\",\"type\":\"LegendItem\"},{\"attributes\":{},\"id\":\"cde6ceda-fc52-4eb7-8da4-abe8487ccb19\",\"type\":\"UnionRenderers\"},{\"attributes\":{\"overlay\":{\"id\":\"5aa5e630-f633-454e-9901-c0adf02f2c42\",\"type\":\"BoxAnnotation\"}},\"id\":\"19d357a9-6d7a-4cad-b59b-9055cab6a9dc\",\"type\":\"BoxZoomTool\"},{\"attributes\":{\"children\":[{\"id\":\"c4818417-040e-4c59-bc87-384caee16deb\",\"type\":\"ToolbarBox\"},{\"id\":\"a9608c38-d5b5-4e35-9f5a-514f6b998e47\",\"type\":\"Column\"}]},\"id\":\"466d36a5-07b8-4283-a935-2fcc093723aa\",\"type\":\"Column\"},{\"attributes\":{},\"id\":\"a9c0e367-1cc7-4787-bd8e-7e03334c3753\",\"type\":\"ResetTool\"},{\"attributes\":{},\"id\":\"b196aaaa-02fe-4182-be03-1591d1e82e1c\",\"type\":\"HelpTool\"},{\"attributes\":{\"tools\":[{\"id\":\"17526d46-fe05-41a4-a0fc-34f7e572fe62\",\"type\":\"PanTool\"},{\"id\":\"832fcd51-08e5-454b-b110-3a19dac042ee\",\"type\":\"WheelZoomTool\"},{\"id\":\"27189d5a-55eb-472b-b318-45cc1d7567e7\",\"type\":\"BoxZoomTool\"},{\"id\":\"72d101fa-b9c6-4998-a93f-9b191374165d\",\"type\":\"SaveTool\"},{\"id\":\"acbbf130-b902-4284-b8a5-333730bf759f\",\"type\":\"ResetTool\"},{\"id\":\"4cd4f314-e43c-4491-8599-48b5df8681e5\",\"type\":\"HelpTool\"},{\"id\":\"5e8170b5-d106-4110-aa9f-bbfa7cb52393\",\"type\":\"PanTool\"},{\"id\":\"90e4aece-7474-44f3-8fbc-79aaf379b14e\",\"type\":\"WheelZoomTool\"},{\"id\":\"86a46900-be11-430d-94fc-34fa236aad8a\",\"type\":\"BoxZoomTool\"},{\"id\":\"7a273ed5-c36e-480b-a91e-573de6e2a95d\",\"type\":\"SaveTool\"},{\"id\":\"a0160c8d-73fb-4773-8cd4-af4df975dc9f\",\"type\":\"ResetTool\"},{\"id\":\"6e0c0749-98ef-4844-aaf5-37e77771cec1\",\"type\":\"HelpTool\"},{\"id\":\"b84f639d-d115-49a5-b94e-33115aa6e444\",\"type\":\"PanTool\"},{\"id\":\"18fef796-621a-4141-a24f-46268a8f2d00\",\"type\":\"WheelZoomTool\"},{\"id\":\"19d357a9-6d7a-4cad-b59b-9055cab6a9dc\",\"type\":\"BoxZoomTool\"},{\"id\":\"e3d4cc2b-183b-4ba4-a11a-54171974666e\",\"type\":\"SaveTool\"},{\"id\":\"a9c0e367-1cc7-4787-bd8e-7e03334c3753\",\"type\":\"ResetTool\"},{\"id\":\"b196aaaa-02fe-4182-be03-1591d1e82e1c\",\"type\":\"HelpTool\"}]},\"id\":\"e038f183-9075-4c28-a174-f96feaf017b8\",\"type\":\"ProxyToolbar\"},{\"attributes\":{\"callback\":null,\"data\":{\"x\":{\"__ndarray__\":\"auPy/mn2UsGXKbqEl9dwQRdfYagoGEHBW2o5ZSLmQEEU/hiio0ZQwfSoIWzJm0dBQM9KRfvhIUGHkF2KgYfkwEHCSiy1dBLBS+6N34qZJEGAvjJuT+8nwYxZpJ3QixnBnIH3kaEPGkF1YUz4J3LqwJyhrwtjJepAzcfnuUUu+cBhxiYTCkPyQG0njvbpqMtAmDexfcDsj8A99v+cYJe8wC9QqLu21c9AZeXB8gCwqkC7dRDneyoowD9JYrbK8yTA9S3bneHhIcAIymSuUMMcwIkHLe6VEBfAAau3cITREsA6CiNvkQIPwJU39ki7IQnAaAvwok1UA8BXLQiS4+L7v/Z7Xb5Y9U3AguhLhNrGqcB1mUVYxqfSv7JxE+mm3JtAmCgMiSfam8AQzNj5t2jTP+Zl7fu325tAgvj0e4Doyb/33L2L3u06wYwrqPDeuDpBFdqkOu5v3EDRMkOV8afMwNCyiqS+uYvAyH+JSJdvdUCMKbHxobeqQMbXFiyhc63AZJ57YN6OAcAo3r3ueF0BwG4OmjqJwQDAJ3sZoHFuAMBn21LPHtp9QOHi/QAocXzAnCak7EjmO8Dc57TRNK0BwFkbWyULpwDAFzun/AHRAcCAFODv4xP5v9SYV0jVXwDAN0IFFucc/7+xRKaPx8f+v7aPhJmQHADATKqkuCRD+78QtF38yDT8vw44e41PNPe/Opt+Z/wN9b+x3vcSW1vzv9cfvWQJlvK/8sciQQBW8r83sfkQa17yvzY5qng2r/K/PR14WJBh87+VZjnpctj0v6CcrSuCqQDA\",\"dtype\":\"float64\",\"shape\":[75]},\"y\":{\"__ndarray__\":\"GhExyth1ND/Sv8nbtpRIP2vylNV0PVE/aTum7souWD/At0SJ8fVgPw3Iuahxymc/MSNhhJWvcD/bTfBN02d3P2zb5nxnaoA/CD5h5MAGhz8NmeH1TyaQP+zrCsc9p5Y/LbKd76fGnz/bLW5ISEmmPww9YvTcQq8/JV2OstnstT8Er5Y7M8G+P0c+r3jqkcU/5h99k6ZBzj88bCIzFzjVP4enV8oyxN0//yH99nXg5D8qOpLLf0jtP5kqGJXUifQ/c9cS8kHP/D+/DpwzojQEQIEmwoanVwxA4lgXt9HgE0BSSZ2AJuIbQAMJih9jjiNA5q4l5INuK0AwTKYKRj0zQNv5fmq8/DpAaCJseHrtQkB/+zpwzoxKQM3MzMzMeFJAZmZmZmZqWEAAAAAAAFxeQM3MzMzMJmJAmpmZmZkfZUBmZmZmZhhoQDMzMzMzEWtAAAAAAAAKbkBmZmZmZoFwQM3MzMzM/XFAMzMzMzN6c0CamZmZmfZ0QAAAAAAAc3ZAZmZmZmbvd0DNzMzMzGt5QDMzMzMz6HpAmpmZmZlkfEAAAAAAAOF9QGZmZmZmXX9AZmZmZuZsgECamZmZGSuBQM3MzMxM6YFAAAAAAICngkAzMzMzs2WDQGZmZmbmI4RAmpmZmRnihEDNzMzMTKCFQAAAAACAXoZAMzMzM7Mch0BmZmZm5tqHQJqZmZkZmYhAzczMzExXiUAAAAAAgBWKQDMzMzOz04pAZmZmZuaRi0CamZmZGVCMQM3MzMxMDo1AAAAAAIDMjUAzMzMzs4qOQGZmZmbmSI9A\",\"dtype\":\"float64\",\"shape\":[75]}},\"selected\":{\"id\":\"0597a40b-71e0-4b1b-b725-b0bced36d5ad\",\"type\":\"Selection\"},\"selection_policy\":{\"id\":\"971191a3-930d-4697-9608-68d377ef48e2\",\"type\":\"UnionRenderers\"}},\"id\":\"292aaf57-82f7-417f-a3ab-73b6bde6740a\",\"type\":\"ColumnDataSource\"},{\"attributes\":{\"items\":[{\"id\":\"5fbe514b-acf0-4f21-8a9d-fd561ff20e39\",\"type\":\"LegendItem\"},{\"id\":\"32ea3efd-d987-42eb-8437-eae6a778c4eb\",\"type\":\"LegendItem\"}],\"label_text_font_size\":{\"value\":\"8pt\"},\"location\":\"top_center\",\"orientation\":\"horizontal\",\"plot\":{\"id\":\"907bb6b8-fd14-4ebb-9fad-6a441a332cfd\",\"subtype\":\"Figure\",\"type\":\"Plot\"}},\"id\":\"c0899779-6bdf-4db0-85e6-3d7777e822bb\",\"type\":\"Legend\"},{\"attributes\":{\"line_alpha\":0.6,\"line_color\":\"#377eb8\",\"line_dash\":[6],\"line_width\":5,\"x\":{\"field\":\"x\"},\"y\":{\"field\":\"y\"}},\"id\":\"ea1c416f-f2bb-4d36-a82c-e051e1951b9b\",\"type\":\"Line\"},{\"attributes\":{\"overlay\":{\"id\":\"dc186945-77dd-4c2f-b9ad-7d60d713304e\",\"type\":\"BoxAnnotation\"}},\"id\":\"86a46900-be11-430d-94fc-34fa236aad8a\",\"type\":\"BoxZoomTool\"}],\"root_ids\":[\"466d36a5-07b8-4283-a935-2fcc093723aa\"]},\"title\":\"Bokeh Application\",\"version\":\"0.12.16\"}};\n",
       "  var render_items = [{\"docid\":\"4dd6d9b1-3925-4440-a052-da905f7130f1\",\"elementid\":\"3496334b-ac16-46b0-8136-53acf01b19d6\",\"modelid\":\"466d36a5-07b8-4283-a935-2fcc093723aa\"}];\n",
       "  root.Bokeh.embed.embed_items_notebook(docs_json, render_items);\n",
       "\n",
       "  }\n",
       "  if (root.Bokeh !== undefined) {\n",
       "    embed_document(root);\n",
       "  } else {\n",
       "    var attempts = 0;\n",
       "    var timer = setInterval(function(root) {\n",
       "      if (root.Bokeh !== undefined) {\n",
       "        embed_document(root);\n",
       "        clearInterval(timer);\n",
       "      }\n",
       "      attempts++;\n",
       "      if (attempts > 100) {\n",
       "        console.log(\"Bokeh: ERROR: Unable to run BokehJS code because BokehJS library is missing\")\n",
       "        clearInterval(timer);\n",
       "      }\n",
       "    }, 10, root)\n",
       "  }\n",
       "})(window);"
      ],
      "application/vnd.bokehjs_exec.v0+json": ""
     },
     "metadata": {
      "application/vnd.bokehjs_exec.v0+json": {
       "id": "466d36a5-07b8-4283-a935-2fcc093723aa"
      }
     },
     "output_type": "display_data"
    },
    {
     "data": {
      "text/markdown": [
       "*FIGURE.* Cooling rates & difference."
      ],
      "text/plain": [
       "<IPython.core.display.Markdown object>"
      ]
     },
     "metadata": {},
     "output_type": "display_data"
    },
    {
     "data": {
      "text/html": [
       "<a id=\"Fluxes._trp.\"></a>"
      ],
      "text/plain": [
       "<IPython.core.display.HTML object>"
      ]
     },
     "metadata": {},
     "output_type": "display_data"
    },
    {
     "data": {
      "text/markdown": [
       "# Fluxes. trp."
      ],
      "text/plain": [
       "<IPython.core.display.Markdown object>"
      ]
     },
     "metadata": {},
     "output_type": "display_data"
    },
    {
     "data": {
      "text/html": [
       "\n",
       "<div class=\"bk-root\">\n",
       "    <div class=\"bk-plotdiv\" id=\"71b25e4c-403e-4ace-9ddc-fdd7f25f4792\"></div>\n",
       "</div>"
      ]
     },
     "metadata": {},
     "output_type": "display_data"
    },
    {
     "data": {
      "application/javascript": [
       "(function(root) {\n",
       "  function embed_document(root) {\n",
       "    \n",
       "  var docs_json = {\"a4b5fd04-9a0e-4e4a-9b56-dd4675707c0b\":{\"roots\":{\"references\":[{\"attributes\":{},\"id\":\"e47a68ba-8d57-4642-8fca-e744b34fb9c1\",\"type\":\"Selection\"},{\"attributes\":{\"axis_label\":\"flux (W m-2)\",\"formatter\":{\"id\":\"e05c8d41-651a-4a45-9765-6ed2e7799658\",\"type\":\"BasicTickFormatter\"},\"plot\":{\"id\":\"3358a9f5-b3e9-44b5-8277-005d9244ce85\",\"subtype\":\"Figure\",\"type\":\"Plot\"},\"ticker\":{\"id\":\"e8b60623-4bb5-44a2-862b-b59772a7dc7a\",\"type\":\"BasicTicker\"}},\"id\":\"f0d68fd9-7e27-4211-89b9-40a35416463e\",\"type\":\"LinearAxis\"},{\"attributes\":{\"callback\":null},\"id\":\"01af702f-4455-4197-8dfe-d43248090a2a\",\"type\":\"DataRange1d\"},{\"attributes\":{\"below\":[{\"id\":\"4d531161-31c6-4863-adda-3d2abc4c204e\",\"type\":\"CategoricalAxis\"}],\"left\":[{\"id\":\"f2b77432-7f1e-460b-911a-19648094cb08\",\"type\":\"LinearAxis\"}],\"plot_height\":300,\"plot_width\":300,\"renderers\":[{\"id\":\"4d531161-31c6-4863-adda-3d2abc4c204e\",\"type\":\"CategoricalAxis\"},{\"id\":\"81e28ba2-aa61-40c6-a18d-7dc16718feed\",\"type\":\"Grid\"},{\"id\":\"f2b77432-7f1e-460b-911a-19648094cb08\",\"type\":\"LinearAxis\"},{\"id\":\"1c9da86f-6188-4d09-8623-2bbcfecf5745\",\"type\":\"Grid\"},{\"id\":\"e0dfdd44-d461-478c-83bf-6785704dbe71\",\"type\":\"BoxAnnotation\"},{\"id\":\"a61f92d7-7929-433a-a187-d78d353740ad\",\"type\":\"GlyphRenderer\"}],\"title\":{\"id\":\"d4fe416e-1512-4ed5-b65a-34b500a77cd4\",\"type\":\"Title\"},\"toolbar\":{\"id\":\"19dda55a-23ac-4a04-afad-852ddd927996\",\"type\":\"Toolbar\"},\"toolbar_location\":null,\"x_range\":{\"id\":\"6e6d2596-9fa9-43ee-a4e1-01fa8ed290f8\",\"type\":\"FactorRange\"},\"x_scale\":{\"id\":\"502a3771-744b-4cdc-9f38-08af3dd2baf5\",\"type\":\"CategoricalScale\"},\"y_range\":{\"id\":\"01af702f-4455-4197-8dfe-d43248090a2a\",\"type\":\"DataRange1d\"},\"y_scale\":{\"id\":\"304f02d4-9686-4bea-80f8-1b20a7802c0c\",\"type\":\"LinearScale\"}},\"id\":\"589d7db0-47f1-4caa-83a2-7a20b7dee259\",\"subtype\":\"Figure\",\"type\":\"Plot\"},{\"attributes\":{\"bottom_units\":\"screen\",\"fill_alpha\":{\"value\":0.5},\"fill_color\":{\"value\":\"lightgrey\"},\"left_units\":\"screen\",\"level\":\"overlay\",\"line_alpha\":{\"value\":1.0},\"line_color\":{\"value\":\"black\"},\"line_dash\":[4,4],\"line_width\":{\"value\":2},\"plot\":null,\"render_mode\":\"css\",\"right_units\":\"screen\",\"top_units\":\"screen\"},\"id\":\"e0dfdd44-d461-478c-83bf-6785704dbe71\",\"type\":\"BoxAnnotation\"},{\"attributes\":{\"data_source\":{\"id\":\"ef2564a0-0bac-4b94-9df7-b0991eb06666\",\"type\":\"ColumnDataSource\"},\"glyph\":{\"id\":\"d82d733f-ef6f-41b4-a911-3258276c1bb0\",\"type\":\"VBar\"},\"hover_glyph\":null,\"muted_glyph\":null,\"nonselection_glyph\":{\"id\":\"95d74347-335b-4954-aed1-0c8b28c8fc07\",\"type\":\"VBar\"},\"selection_glyph\":null,\"view\":{\"id\":\"96f7ff49-ee03-45d1-8686-ed85c39300a7\",\"type\":\"CDSView\"}},\"id\":\"a61f92d7-7929-433a-a187-d78d353740ad\",\"type\":\"GlyphRenderer\"},{\"attributes\":{\"callback\":null,\"factors\":[\"1\",\"2\",\"3\",\"4\",\"5\",\"6\",\"7\",\"8\",\"9\",\"10\",\"11\"]},\"id\":\"95a094ac-9151-4653-980b-1212e6874395\",\"type\":\"FactorRange\"},{\"attributes\":{\"plot\":{\"id\":\"3358a9f5-b3e9-44b5-8277-005d9244ce85\",\"subtype\":\"Figure\",\"type\":\"Plot\"},\"ticker\":{\"id\":\"7a0e327d-fe40-4c34-b3f1-c26b8b58d727\",\"type\":\"CategoricalTicker\"}},\"id\":\"b3d4594d-6773-4b4f-8612-db782057ab11\",\"type\":\"Grid\"},{\"attributes\":{},\"id\":\"502a3771-744b-4cdc-9f38-08af3dd2baf5\",\"type\":\"CategoricalScale\"},{\"attributes\":{\"axis_label\":\"spectral band\",\"formatter\":{\"id\":\"1cfa6067-842b-4d06-85bb-58ae872d52da\",\"type\":\"CategoricalTickFormatter\"},\"plot\":{\"id\":\"3358a9f5-b3e9-44b5-8277-005d9244ce85\",\"subtype\":\"Figure\",\"type\":\"Plot\"},\"ticker\":{\"id\":\"7a0e327d-fe40-4c34-b3f1-c26b8b58d727\",\"type\":\"CategoricalTicker\"}},\"id\":\"7de5a88c-cb63-4b95-a3b9-b1fc7f967492\",\"type\":\"CategoricalAxis\"},{\"attributes\":{\"data_source\":{\"id\":\"f56b306d-15a7-4f14-b51e-4f3e0d434741\",\"type\":\"ColumnDataSource\"},\"glyph\":{\"id\":\"237d0daa-096f-4afc-b382-a9fd7d26da8b\",\"type\":\"VBar\"},\"hover_glyph\":null,\"muted_glyph\":null,\"nonselection_glyph\":{\"id\":\"15167d05-8b9b-4c29-b8b9-8f223d5e3d19\",\"type\":\"VBar\"},\"selection_glyph\":null,\"view\":{\"id\":\"e501435a-ec3d-4037-bab8-bd193f29b928\",\"type\":\"CDSView\"}},\"id\":\"75bc408e-adf9-41b9-9e43-a6c7cc74f06b\",\"type\":\"GlyphRenderer\"},{\"attributes\":{},\"id\":\"c354f20d-8ab5-4919-bd78-f24dc4c00380\",\"type\":\"CategoricalScale\"},{\"attributes\":{\"dimension\":1,\"plot\":{\"id\":\"589d7db0-47f1-4caa-83a2-7a20b7dee259\",\"subtype\":\"Figure\",\"type\":\"Plot\"},\"ticker\":{\"id\":\"a221d82b-4cb7-43ba-92c0-4e675a5f1704\",\"type\":\"BasicTicker\"}},\"id\":\"1c9da86f-6188-4d09-8623-2bbcfecf5745\",\"type\":\"Grid\"},{\"attributes\":{},\"id\":\"7d781aaf-119f-4995-b26e-8d3d811b0679\",\"type\":\"SaveTool\"},{\"attributes\":{\"source\":{\"id\":\"f56b306d-15a7-4f14-b51e-4f3e0d434741\",\"type\":\"ColumnDataSource\"}},\"id\":\"e501435a-ec3d-4037-bab8-bd193f29b928\",\"type\":\"CDSView\"},{\"attributes\":{\"plot\":null,\"text\":\"TOA flux. CLIRAD (single-run) - CRD.\"},\"id\":\"d4fe416e-1512-4ed5-b65a-34b500a77cd4\",\"type\":\"Title\"},{\"attributes\":{\"axis_label\":\"flux (W m-2)\",\"formatter\":{\"id\":\"fa624cc9-f9dc-4a72-b245-5e02becba265\",\"type\":\"BasicTickFormatter\"},\"plot\":{\"id\":\"589d7db0-47f1-4caa-83a2-7a20b7dee259\",\"subtype\":\"Figure\",\"type\":\"Plot\"},\"ticker\":{\"id\":\"a221d82b-4cb7-43ba-92c0-4e675a5f1704\",\"type\":\"BasicTicker\"}},\"id\":\"f2b77432-7f1e-460b-911a-19648094cb08\",\"type\":\"LinearAxis\"},{\"attributes\":{\"fill_alpha\":{\"value\":0.1},\"fill_color\":{\"value\":\"#1f77b4\"},\"line_alpha\":{\"value\":0.1},\"line_color\":{\"value\":\"#1f77b4\"},\"top\":{\"field\":\"flux\"},\"width\":{\"value\":0.9},\"x\":{\"field\":\"band\"}},\"id\":\"95d74347-335b-4954-aed1-0c8b28c8fc07\",\"type\":\"VBar\"},{\"attributes\":{\"source\":{\"id\":\"ef2564a0-0bac-4b94-9df7-b0991eb06666\",\"type\":\"ColumnDataSource\"}},\"id\":\"96f7ff49-ee03-45d1-8686-ed85c39300a7\",\"type\":\"CDSView\"},{\"attributes\":{},\"id\":\"304f02d4-9686-4bea-80f8-1b20a7802c0c\",\"type\":\"LinearScale\"},{\"attributes\":{},\"id\":\"b3db5045-29e3-44cc-bcb7-1bd3716979a2\",\"type\":\"PanTool\"},{\"attributes\":{\"axis_label\":\"spectral band\",\"formatter\":{\"id\":\"89d54fd8-e5a9-4230-9932-23391e3b141a\",\"type\":\"CategoricalTickFormatter\"},\"plot\":{\"id\":\"589d7db0-47f1-4caa-83a2-7a20b7dee259\",\"subtype\":\"Figure\",\"type\":\"Plot\"},\"ticker\":{\"id\":\"327f5e2f-8bf7-4027-8338-67cab66bb138\",\"type\":\"CategoricalTicker\"}},\"id\":\"4d531161-31c6-4863-adda-3d2abc4c204e\",\"type\":\"CategoricalAxis\"},{\"attributes\":{\"bottom_units\":\"screen\",\"fill_alpha\":{\"value\":0.5},\"fill_color\":{\"value\":\"lightgrey\"},\"left_units\":\"screen\",\"level\":\"overlay\",\"line_alpha\":{\"value\":1.0},\"line_color\":{\"value\":\"black\"},\"line_dash\":[4,4],\"line_width\":{\"value\":2},\"plot\":null,\"render_mode\":\"css\",\"right_units\":\"screen\",\"top_units\":\"screen\"},\"id\":\"31e9dfad-30f9-4426-b2e3-9fdef0738643\",\"type\":\"BoxAnnotation\"},{\"attributes\":{\"plot\":{\"id\":\"589d7db0-47f1-4caa-83a2-7a20b7dee259\",\"subtype\":\"Figure\",\"type\":\"Plot\"},\"ticker\":{\"id\":\"327f5e2f-8bf7-4027-8338-67cab66bb138\",\"type\":\"CategoricalTicker\"}},\"id\":\"81e28ba2-aa61-40c6-a18d-7dc16718feed\",\"type\":\"Grid\"},{\"attributes\":{\"toolbar\":{\"id\":\"869eb622-d7fb-48dc-9146-529533feca92\",\"type\":\"ProxyToolbar\"},\"toolbar_location\":\"above\"},\"id\":\"b97f3bbb-cee6-4d6a-9a9b-178c79a92e9a\",\"type\":\"ToolbarBox\"},{\"attributes\":{},\"id\":\"327f5e2f-8bf7-4027-8338-67cab66bb138\",\"type\":\"CategoricalTicker\"},{\"attributes\":{\"active_drag\":\"auto\",\"active_inspect\":\"auto\",\"active_scroll\":\"auto\",\"active_tap\":\"auto\",\"tools\":[{\"id\":\"e18daf53-d9a3-410b-a8d2-4d7bc9517fb7\",\"type\":\"PanTool\"},{\"id\":\"f222dafd-3e2e-45bb-9096-3993ba447aac\",\"type\":\"WheelZoomTool\"},{\"id\":\"ed90774f-85ba-43a9-a706-ed1d71908b7b\",\"type\":\"BoxZoomTool\"},{\"id\":\"847aa03e-8076-4db5-bf3d-852178ee7901\",\"type\":\"SaveTool\"},{\"id\":\"ecf346c6-0144-4388-b364-4821fe87f1e2\",\"type\":\"ResetTool\"},{\"id\":\"a7ee56fa-9caf-4543-9664-cefa6d5190be\",\"type\":\"HelpTool\"}]},\"id\":\"97af500e-d935-4011-b5c8-843eabf985be\",\"type\":\"Toolbar\"},{\"attributes\":{},\"id\":\"33b2289a-ab87-4d5c-a9c6-ad833ce9b31e\",\"type\":\"LinearScale\"},{\"attributes\":{\"tools\":[{\"id\":\"b3db5045-29e3-44cc-bcb7-1bd3716979a2\",\"type\":\"PanTool\"},{\"id\":\"ad8e92ad-813a-4da0-a26f-37b35fa2404f\",\"type\":\"WheelZoomTool\"},{\"id\":\"a285de21-379a-457e-a3fa-257b9b72cebc\",\"type\":\"BoxZoomTool\"},{\"id\":\"7d781aaf-119f-4995-b26e-8d3d811b0679\",\"type\":\"SaveTool\"},{\"id\":\"6867e939-fba5-48eb-8781-e476a8060efd\",\"type\":\"ResetTool\"},{\"id\":\"e510bf7a-cc50-4f59-9bf7-e9bf02842cdd\",\"type\":\"HelpTool\"},{\"id\":\"e18daf53-d9a3-410b-a8d2-4d7bc9517fb7\",\"type\":\"PanTool\"},{\"id\":\"f222dafd-3e2e-45bb-9096-3993ba447aac\",\"type\":\"WheelZoomTool\"},{\"id\":\"ed90774f-85ba-43a9-a706-ed1d71908b7b\",\"type\":\"BoxZoomTool\"},{\"id\":\"847aa03e-8076-4db5-bf3d-852178ee7901\",\"type\":\"SaveTool\"},{\"id\":\"ecf346c6-0144-4388-b364-4821fe87f1e2\",\"type\":\"ResetTool\"},{\"id\":\"a7ee56fa-9caf-4543-9664-cefa6d5190be\",\"type\":\"HelpTool\"},{\"id\":\"2c2fbadb-a9c2-4a90-a28f-d82b81fca2e1\",\"type\":\"PanTool\"},{\"id\":\"c923ef44-76a7-4584-9aa0-020bf8754bc2\",\"type\":\"WheelZoomTool\"},{\"id\":\"bfb3fc86-a83f-4b8a-851f-161294d4da4b\",\"type\":\"BoxZoomTool\"},{\"id\":\"38fff3e3-d9d1-45f4-8ea1-efc3f9e3b98f\",\"type\":\"SaveTool\"},{\"id\":\"86f3979c-7abc-48e6-a2f4-8743d332f189\",\"type\":\"ResetTool\"},{\"id\":\"ae5f04f5-8b8a-4243-935c-c7c75916bcb8\",\"type\":\"HelpTool\"}]},\"id\":\"869eb622-d7fb-48dc-9146-529533feca92\",\"type\":\"ProxyToolbar\"},{\"attributes\":{},\"id\":\"a221d82b-4cb7-43ba-92c0-4e675a5f1704\",\"type\":\"BasicTicker\"},{\"attributes\":{\"fill_color\":{\"value\":\"#1f77b4\"},\"line_color\":{\"value\":\"#1f77b4\"},\"top\":{\"field\":\"flux\"},\"width\":{\"value\":0.9},\"x\":{\"field\":\"band\"}},\"id\":\"d82d733f-ef6f-41b4-a911-3258276c1bb0\",\"type\":\"VBar\"},{\"attributes\":{},\"id\":\"ad8e92ad-813a-4da0-a26f-37b35fa2404f\",\"type\":\"WheelZoomTool\"},{\"attributes\":{},\"id\":\"e510bf7a-cc50-4f59-9bf7-e9bf02842cdd\",\"type\":\"HelpTool\"},{\"attributes\":{\"plot\":null,\"text\":\"SFC flux. CLIRAD (single-run) - CRD.\"},\"id\":\"3c320606-acf3-4081-b357-2759fd5bce46\",\"type\":\"Title\"},{\"attributes\":{\"active_drag\":\"auto\",\"active_inspect\":\"auto\",\"active_scroll\":\"auto\",\"active_tap\":\"auto\",\"tools\":[{\"id\":\"b3db5045-29e3-44cc-bcb7-1bd3716979a2\",\"type\":\"PanTool\"},{\"id\":\"ad8e92ad-813a-4da0-a26f-37b35fa2404f\",\"type\":\"WheelZoomTool\"},{\"id\":\"a285de21-379a-457e-a3fa-257b9b72cebc\",\"type\":\"BoxZoomTool\"},{\"id\":\"7d781aaf-119f-4995-b26e-8d3d811b0679\",\"type\":\"SaveTool\"},{\"id\":\"6867e939-fba5-48eb-8781-e476a8060efd\",\"type\":\"ResetTool\"},{\"id\":\"e510bf7a-cc50-4f59-9bf7-e9bf02842cdd\",\"type\":\"HelpTool\"}]},\"id\":\"19dda55a-23ac-4a04-afad-852ddd927996\",\"type\":\"Toolbar\"},{\"attributes\":{\"dimension\":1,\"plot\":{\"id\":\"3358a9f5-b3e9-44b5-8277-005d9244ce85\",\"subtype\":\"Figure\",\"type\":\"Plot\"},\"ticker\":{\"id\":\"e8b60623-4bb5-44a2-862b-b59772a7dc7a\",\"type\":\"BasicTicker\"}},\"id\":\"8f92c89b-e79a-4fa3-ac2a-2bded4e9afec\",\"type\":\"Grid\"},{\"attributes\":{\"children\":[{\"id\":\"b97f3bbb-cee6-4d6a-9a9b-178c79a92e9a\",\"type\":\"ToolbarBox\"},{\"id\":\"b2c05b15-d9fa-4f86-b9fc-28be0e459cc1\",\"type\":\"Column\"}]},\"id\":\"25f5ef30-3517-4ac8-9121-b8b4c939b82d\",\"type\":\"Column\"},{\"attributes\":{\"callback\":null,\"factors\":[\"1\",\"2\",\"3\",\"4\",\"5\",\"6\",\"7\",\"8\",\"9\",\"10\",\"11\"]},\"id\":\"6e6d2596-9fa9-43ee-a4e1-01fa8ed290f8\",\"type\":\"FactorRange\"},{\"attributes\":{},\"id\":\"8947c569-ff88-400e-887f-c19bb61b9f66\",\"type\":\"UnionRenderers\"},{\"attributes\":{\"fill_color\":{\"value\":\"#1f77b4\"},\"line_color\":{\"value\":\"#1f77b4\"},\"top\":{\"field\":\"flux\"},\"width\":{\"value\":0.9},\"x\":{\"field\":\"band\"}},\"id\":\"237d0daa-096f-4afc-b382-a9fd7d26da8b\",\"type\":\"VBar\"},{\"attributes\":{},\"id\":\"e8b60623-4bb5-44a2-862b-b59772a7dc7a\",\"type\":\"BasicTicker\"},{\"attributes\":{},\"id\":\"7a0e327d-fe40-4c34-b3f1-c26b8b58d727\",\"type\":\"CategoricalTicker\"},{\"attributes\":{\"overlay\":{\"id\":\"e0dfdd44-d461-478c-83bf-6785704dbe71\",\"type\":\"BoxAnnotation\"}},\"id\":\"a285de21-379a-457e-a3fa-257b9b72cebc\",\"type\":\"BoxZoomTool\"},{\"attributes\":{\"callback\":null},\"id\":\"6dadb447-84b5-4fca-a1aa-5f3e2088781c\",\"type\":\"DataRange1d\"},{\"attributes\":{},\"id\":\"6867e939-fba5-48eb-8781-e476a8060efd\",\"type\":\"ResetTool\"},{\"attributes\":{},\"id\":\"994c47ed-237d-4647-8946-360e01ad6d85\",\"type\":\"Selection\"},{\"attributes\":{},\"id\":\"9402b667-5e35-4800-bd1c-c3931b03f87f\",\"type\":\"UnionRenderers\"},{\"attributes\":{\"below\":[{\"id\":\"7de5a88c-cb63-4b95-a3b9-b1fc7f967492\",\"type\":\"CategoricalAxis\"}],\"left\":[{\"id\":\"f0d68fd9-7e27-4211-89b9-40a35416463e\",\"type\":\"LinearAxis\"}],\"plot_height\":300,\"plot_width\":300,\"renderers\":[{\"id\":\"7de5a88c-cb63-4b95-a3b9-b1fc7f967492\",\"type\":\"CategoricalAxis\"},{\"id\":\"b3d4594d-6773-4b4f-8612-db782057ab11\",\"type\":\"Grid\"},{\"id\":\"f0d68fd9-7e27-4211-89b9-40a35416463e\",\"type\":\"LinearAxis\"},{\"id\":\"8f92c89b-e79a-4fa3-ac2a-2bded4e9afec\",\"type\":\"Grid\"},{\"id\":\"31e9dfad-30f9-4426-b2e3-9fdef0738643\",\"type\":\"BoxAnnotation\"},{\"id\":\"75bc408e-adf9-41b9-9e43-a6c7cc74f06b\",\"type\":\"GlyphRenderer\"}],\"title\":{\"id\":\"3c320606-acf3-4081-b357-2759fd5bce46\",\"type\":\"Title\"},\"toolbar\":{\"id\":\"97af500e-d935-4011-b5c8-843eabf985be\",\"type\":\"Toolbar\"},\"toolbar_location\":null,\"x_range\":{\"id\":\"95a094ac-9151-4653-980b-1212e6874395\",\"type\":\"FactorRange\"},\"x_scale\":{\"id\":\"c354f20d-8ab5-4919-bd78-f24dc4c00380\",\"type\":\"CategoricalScale\"},\"y_range\":{\"id\":\"6dadb447-84b5-4fca-a1aa-5f3e2088781c\",\"type\":\"DataRange1d\"},\"y_scale\":{\"id\":\"33b2289a-ab87-4d5c-a9c6-ad833ce9b31e\",\"type\":\"LinearScale\"}},\"id\":\"3358a9f5-b3e9-44b5-8277-005d9244ce85\",\"subtype\":\"Figure\",\"type\":\"Plot\"},{\"attributes\":{\"axis_label\":\"flux (W m-2)\",\"formatter\":{\"id\":\"f3366c4b-bd50-45a9-a0a0-542c640de09b\",\"type\":\"BasicTickFormatter\"},\"plot\":{\"id\":\"282e57be-7962-41b3-81a0-fc1a8d74840a\",\"subtype\":\"Figure\",\"type\":\"Plot\"},\"ticker\":{\"id\":\"42ac5eec-0303-4406-bb6b-dbe66e9c3f5a\",\"type\":\"BasicTicker\"}},\"id\":\"8e65b242-18d4-4e57-8e4c-7c934a98bf69\",\"type\":\"LinearAxis\"},{\"attributes\":{},\"id\":\"f3366c4b-bd50-45a9-a0a0-542c640de09b\",\"type\":\"BasicTickFormatter\"},{\"attributes\":{\"active_drag\":\"auto\",\"active_inspect\":\"auto\",\"active_scroll\":\"auto\",\"active_tap\":\"auto\",\"tools\":[{\"id\":\"2c2fbadb-a9c2-4a90-a28f-d82b81fca2e1\",\"type\":\"PanTool\"},{\"id\":\"c923ef44-76a7-4584-9aa0-020bf8754bc2\",\"type\":\"WheelZoomTool\"},{\"id\":\"bfb3fc86-a83f-4b8a-851f-161294d4da4b\",\"type\":\"BoxZoomTool\"},{\"id\":\"38fff3e3-d9d1-45f4-8ea1-efc3f9e3b98f\",\"type\":\"SaveTool\"},{\"id\":\"86f3979c-7abc-48e6-a2f4-8743d332f189\",\"type\":\"ResetTool\"},{\"id\":\"ae5f04f5-8b8a-4243-935c-c7c75916bcb8\",\"type\":\"HelpTool\"}]},\"id\":\"f0f74d7d-d5d2-4b90-9727-4293d2dbcfd8\",\"type\":\"Toolbar\"},{\"attributes\":{\"callback\":null,\"data\":{\"band\":[\"1\",\"2\",\"3\",\"4\",\"5\",\"6\",\"7\",\"8\",\"9\",\"10\",\"11\"],\"flux\":{\"__ndarray__\":\"jl2zpsOKMsColOcseVEeQCkOVlLdvDzA2H504tl8QsDiIvd0dTFDwAESTaCIu0XA9IQlHlC8SsAiwVQza01HwAmVbgFXskXALQ+p1DLMRsAPVxhsNIFJwA==\",\"dtype\":\"float64\",\"shape\":[11]}},\"selected\":{\"id\":\"e47a68ba-8d57-4642-8fca-e744b34fb9c1\",\"type\":\"Selection\"},\"selection_policy\":{\"id\":\"8947c569-ff88-400e-887f-c19bb61b9f66\",\"type\":\"UnionRenderers\"}},\"id\":\"e9b52372-0b80-4782-aa71-88e9581333f7\",\"type\":\"ColumnDataSource\"},{\"attributes\":{},\"id\":\"89d54fd8-e5a9-4230-9932-23391e3b141a\",\"type\":\"CategoricalTickFormatter\"},{\"attributes\":{\"children\":[{\"id\":\"440e830d-41f0-4ae3-8a28-bdb80e30102c\",\"type\":\"Row\"}]},\"id\":\"b2c05b15-d9fa-4f86-b9fc-28be0e459cc1\",\"type\":\"Column\"},{\"attributes\":{\"overlay\":{\"id\":\"f9ef87e1-0ace-4e1a-b98a-958d35c25b2a\",\"type\":\"BoxAnnotation\"}},\"id\":\"bfb3fc86-a83f-4b8a-851f-161294d4da4b\",\"type\":\"BoxZoomTool\"},{\"attributes\":{},\"id\":\"a7ee56fa-9caf-4543-9664-cefa6d5190be\",\"type\":\"HelpTool\"},{\"attributes\":{},\"id\":\"42ac5eec-0303-4406-bb6b-dbe66e9c3f5a\",\"type\":\"BasicTicker\"},{\"attributes\":{},\"id\":\"2c2fbadb-a9c2-4a90-a28f-d82b81fca2e1\",\"type\":\"PanTool\"},{\"attributes\":{\"callback\":null,\"data\":{\"band\":[\"1\",\"2\",\"3\",\"4\",\"5\",\"6\",\"7\",\"8\",\"9\",\"10\",\"11\"],\"flux\":{\"__ndarray__\":\"cOXsndFaMsDAjjhkA/EgQDZXzXNEkjvAJy8yAb9CQsAz95Dwvbc6wPR5xVOPhChATueKUkKUOsDUB5J3Duk8wC3qk9xhz0PAgfbZt0mBRsAB0kiVcgJIwA==\",\"dtype\":\"float64\",\"shape\":[11]}},\"selected\":{\"id\":\"20a36a39-c84b-44f7-8b41-5970452214ef\",\"type\":\"Selection\"},\"selection_policy\":{\"id\":\"c11792a8-ff80-48c0-93b5-a7e23ae3b476\",\"type\":\"UnionRenderers\"}},\"id\":\"ef2564a0-0bac-4b94-9df7-b0991eb06666\",\"type\":\"ColumnDataSource\"},{\"attributes\":{},\"id\":\"ae5f04f5-8b8a-4243-935c-c7c75916bcb8\",\"type\":\"HelpTool\"},{\"attributes\":{\"bottom_units\":\"screen\",\"fill_alpha\":{\"value\":0.5},\"fill_color\":{\"value\":\"lightgrey\"},\"left_units\":\"screen\",\"level\":\"overlay\",\"line_alpha\":{\"value\":1.0},\"line_color\":{\"value\":\"black\"},\"line_dash\":[4,4],\"line_width\":{\"value\":2},\"plot\":null,\"render_mode\":\"css\",\"right_units\":\"screen\",\"top_units\":\"screen\"},\"id\":\"f9ef87e1-0ace-4e1a-b98a-958d35c25b2a\",\"type\":\"BoxAnnotation\"},{\"attributes\":{},\"id\":\"f81149c6-f1e5-49ab-938c-792d10f920ea\",\"type\":\"CategoricalTicker\"},{\"attributes\":{\"axis_label\":\"spectral band\",\"formatter\":{\"id\":\"e326886a-7b61-4677-bc98-332c02715be9\",\"type\":\"CategoricalTickFormatter\"},\"plot\":{\"id\":\"282e57be-7962-41b3-81a0-fc1a8d74840a\",\"subtype\":\"Figure\",\"type\":\"Plot\"},\"ticker\":{\"id\":\"f81149c6-f1e5-49ab-938c-792d10f920ea\",\"type\":\"CategoricalTicker\"}},\"id\":\"fafb505e-45b8-4d9a-877b-644cf1e3daf6\",\"type\":\"CategoricalAxis\"},{\"attributes\":{\"fill_alpha\":{\"value\":0.1},\"fill_color\":{\"value\":\"#1f77b4\"},\"line_alpha\":{\"value\":0.1},\"line_color\":{\"value\":\"#1f77b4\"},\"top\":{\"field\":\"flux\"},\"width\":{\"value\":0.9},\"x\":{\"field\":\"band\"}},\"id\":\"15167d05-8b9b-4c29-b8b9-8f223d5e3d19\",\"type\":\"VBar\"},{\"attributes\":{\"callback\":null},\"id\":\"17ab3d11-9d28-44f3-a9a1-066d63d29442\",\"type\":\"DataRange1d\"},{\"attributes\":{},\"id\":\"f222dafd-3e2e-45bb-9096-3993ba447aac\",\"type\":\"WheelZoomTool\"},{\"attributes\":{},\"id\":\"1cfa6067-842b-4d06-85bb-58ae872d52da\",\"type\":\"CategoricalTickFormatter\"},{\"attributes\":{\"source\":{\"id\":\"e9b52372-0b80-4782-aa71-88e9581333f7\",\"type\":\"ColumnDataSource\"}},\"id\":\"aa09da05-3c3c-42d4-8ddd-a1b10353c9ae\",\"type\":\"CDSView\"},{\"attributes\":{},\"id\":\"e05c8d41-651a-4a45-9765-6ed2e7799658\",\"type\":\"BasicTickFormatter\"},{\"attributes\":{\"below\":[{\"id\":\"fafb505e-45b8-4d9a-877b-644cf1e3daf6\",\"type\":\"CategoricalAxis\"}],\"left\":[{\"id\":\"8e65b242-18d4-4e57-8e4c-7c934a98bf69\",\"type\":\"LinearAxis\"}],\"plot_height\":300,\"plot_width\":300,\"renderers\":[{\"id\":\"fafb505e-45b8-4d9a-877b-644cf1e3daf6\",\"type\":\"CategoricalAxis\"},{\"id\":\"adb682df-bbf6-42e0-ac93-cf2cf0ce7de6\",\"type\":\"Grid\"},{\"id\":\"8e65b242-18d4-4e57-8e4c-7c934a98bf69\",\"type\":\"LinearAxis\"},{\"id\":\"12f4f7ad-f0f1-41a6-b212-17f8f6c59f8b\",\"type\":\"Grid\"},{\"id\":\"f9ef87e1-0ace-4e1a-b98a-958d35c25b2a\",\"type\":\"BoxAnnotation\"},{\"id\":\"d1135f18-0daa-4915-a1cc-bf78f842c997\",\"type\":\"GlyphRenderer\"}],\"title\":{\"id\":\"ee2483c2-1f35-4758-96b6-fd32d6c5def1\",\"type\":\"Title\"},\"toolbar\":{\"id\":\"f0f74d7d-d5d2-4b90-9727-4293d2dbcfd8\",\"type\":\"Toolbar\"},\"toolbar_location\":null,\"x_range\":{\"id\":\"6de7711f-6af0-4c0e-bf58-296f99ee96ff\",\"type\":\"FactorRange\"},\"x_scale\":{\"id\":\"77f963d6-95d8-4cf5-8a2b-71ca00906377\",\"type\":\"CategoricalScale\"},\"y_range\":{\"id\":\"17ab3d11-9d28-44f3-a9a1-066d63d29442\",\"type\":\"DataRange1d\"},\"y_scale\":{\"id\":\"a0d11764-cadc-4ffb-aee1-3c75d1081dc3\",\"type\":\"LinearScale\"}},\"id\":\"282e57be-7962-41b3-81a0-fc1a8d74840a\",\"subtype\":\"Figure\",\"type\":\"Plot\"},{\"attributes\":{},\"id\":\"847aa03e-8076-4db5-bf3d-852178ee7901\",\"type\":\"SaveTool\"},{\"attributes\":{\"callback\":null,\"factors\":[\"1\",\"2\",\"3\",\"4\",\"5\",\"6\",\"7\",\"8\",\"9\",\"10\",\"11\"]},\"id\":\"6de7711f-6af0-4c0e-bf58-296f99ee96ff\",\"type\":\"FactorRange\"},{\"attributes\":{\"callback\":null,\"data\":{\"band\":[\"1\",\"2\",\"3\",\"4\",\"5\",\"6\",\"7\",\"8\",\"9\",\"10\",\"11\"],\"flux\":{\"__ndarray__\":\"H5xPHatWSsA/bypSYWVVwIKOVrWkqULA7lhsk4pOR8AHDmjpCo43wK1qSUc5QCfAvGZNh6lYH8AFFVW/0r0gwHEDPj+MMDfAGVQbnIiiQcBom3aMhscUwA==\",\"dtype\":\"float64\",\"shape\":[11]}},\"selected\":{\"id\":\"994c47ed-237d-4647-8946-360e01ad6d85\",\"type\":\"Selection\"},\"selection_policy\":{\"id\":\"9402b667-5e35-4800-bd1c-c3931b03f87f\",\"type\":\"UnionRenderers\"}},\"id\":\"f56b306d-15a7-4f14-b51e-4f3e0d434741\",\"type\":\"ColumnDataSource\"},{\"attributes\":{},\"id\":\"20a36a39-c84b-44f7-8b41-5970452214ef\",\"type\":\"Selection\"},{\"attributes\":{},\"id\":\"38fff3e3-d9d1-45f4-8ea1-efc3f9e3b98f\",\"type\":\"SaveTool\"},{\"attributes\":{\"dimension\":1,\"plot\":{\"id\":\"282e57be-7962-41b3-81a0-fc1a8d74840a\",\"subtype\":\"Figure\",\"type\":\"Plot\"},\"ticker\":{\"id\":\"42ac5eec-0303-4406-bb6b-dbe66e9c3f5a\",\"type\":\"BasicTicker\"}},\"id\":\"12f4f7ad-f0f1-41a6-b212-17f8f6c59f8b\",\"type\":\"Grid\"},{\"attributes\":{\"plot\":null,\"text\":\"Atmosphere heating. CLIRAD (single-run) - CRD.\"},\"id\":\"ee2483c2-1f35-4758-96b6-fd32d6c5def1\",\"type\":\"Title\"},{\"attributes\":{},\"id\":\"fa624cc9-f9dc-4a72-b245-5e02becba265\",\"type\":\"BasicTickFormatter\"},{\"attributes\":{},\"id\":\"77f963d6-95d8-4cf5-8a2b-71ca00906377\",\"type\":\"CategoricalScale\"},{\"attributes\":{\"fill_alpha\":{\"value\":0.1},\"fill_color\":{\"value\":\"#1f77b4\"},\"line_alpha\":{\"value\":0.1},\"line_color\":{\"value\":\"#1f77b4\"},\"top\":{\"field\":\"flux\"},\"width\":{\"value\":0.9},\"x\":{\"field\":\"band\"}},\"id\":\"9667b3ba-c986-48b1-8980-e8968256411c\",\"type\":\"VBar\"},{\"attributes\":{\"overlay\":{\"id\":\"31e9dfad-30f9-4426-b2e3-9fdef0738643\",\"type\":\"BoxAnnotation\"}},\"id\":\"ed90774f-85ba-43a9-a706-ed1d71908b7b\",\"type\":\"BoxZoomTool\"},{\"attributes\":{\"data_source\":{\"id\":\"e9b52372-0b80-4782-aa71-88e9581333f7\",\"type\":\"ColumnDataSource\"},\"glyph\":{\"id\":\"7d231687-cbfa-4f78-8d4e-198817246e4d\",\"type\":\"VBar\"},\"hover_glyph\":null,\"muted_glyph\":null,\"nonselection_glyph\":{\"id\":\"9667b3ba-c986-48b1-8980-e8968256411c\",\"type\":\"VBar\"},\"selection_glyph\":null,\"view\":{\"id\":\"aa09da05-3c3c-42d4-8ddd-a1b10353c9ae\",\"type\":\"CDSView\"}},\"id\":\"d1135f18-0daa-4915-a1cc-bf78f842c997\",\"type\":\"GlyphRenderer\"},{\"attributes\":{},\"id\":\"c923ef44-76a7-4584-9aa0-020bf8754bc2\",\"type\":\"WheelZoomTool\"},{\"attributes\":{\"fill_color\":{\"value\":\"#1f77b4\"},\"line_color\":{\"value\":\"#1f77b4\"},\"top\":{\"field\":\"flux\"},\"width\":{\"value\":0.9},\"x\":{\"field\":\"band\"}},\"id\":\"7d231687-cbfa-4f78-8d4e-198817246e4d\",\"type\":\"VBar\"},{\"attributes\":{},\"id\":\"e326886a-7b61-4677-bc98-332c02715be9\",\"type\":\"CategoricalTickFormatter\"},{\"attributes\":{},\"id\":\"ecf346c6-0144-4388-b364-4821fe87f1e2\",\"type\":\"ResetTool\"},{\"attributes\":{},\"id\":\"86f3979c-7abc-48e6-a2f4-8743d332f189\",\"type\":\"ResetTool\"},{\"attributes\":{},\"id\":\"c11792a8-ff80-48c0-93b5-a7e23ae3b476\",\"type\":\"UnionRenderers\"},{\"attributes\":{\"children\":[{\"id\":\"589d7db0-47f1-4caa-83a2-7a20b7dee259\",\"subtype\":\"Figure\",\"type\":\"Plot\"},{\"id\":\"3358a9f5-b3e9-44b5-8277-005d9244ce85\",\"subtype\":\"Figure\",\"type\":\"Plot\"},{\"id\":\"282e57be-7962-41b3-81a0-fc1a8d74840a\",\"subtype\":\"Figure\",\"type\":\"Plot\"}]},\"id\":\"440e830d-41f0-4ae3-8a28-bdb80e30102c\",\"type\":\"Row\"},{\"attributes\":{},\"id\":\"e18daf53-d9a3-410b-a8d2-4d7bc9517fb7\",\"type\":\"PanTool\"},{\"attributes\":{\"plot\":{\"id\":\"282e57be-7962-41b3-81a0-fc1a8d74840a\",\"subtype\":\"Figure\",\"type\":\"Plot\"},\"ticker\":{\"id\":\"f81149c6-f1e5-49ab-938c-792d10f920ea\",\"type\":\"CategoricalTicker\"}},\"id\":\"adb682df-bbf6-42e0-ac93-cf2cf0ce7de6\",\"type\":\"Grid\"},{\"attributes\":{},\"id\":\"a0d11764-cadc-4ffb-aee1-3c75d1081dc3\",\"type\":\"LinearScale\"}],\"root_ids\":[\"25f5ef30-3517-4ac8-9121-b8b4c939b82d\"]},\"title\":\"Bokeh Application\",\"version\":\"0.12.16\"}};\n",
       "  var render_items = [{\"docid\":\"a4b5fd04-9a0e-4e4a-9b56-dd4675707c0b\",\"elementid\":\"71b25e4c-403e-4ace-9ddc-fdd7f25f4792\",\"modelid\":\"25f5ef30-3517-4ac8-9121-b8b4c939b82d\"}];\n",
       "  root.Bokeh.embed.embed_items_notebook(docs_json, render_items);\n",
       "\n",
       "  }\n",
       "  if (root.Bokeh !== undefined) {\n",
       "    embed_document(root);\n",
       "  } else {\n",
       "    var attempts = 0;\n",
       "    var timer = setInterval(function(root) {\n",
       "      if (root.Bokeh !== undefined) {\n",
       "        embed_document(root);\n",
       "        clearInterval(timer);\n",
       "      }\n",
       "      attempts++;\n",
       "      if (attempts > 100) {\n",
       "        console.log(\"Bokeh: ERROR: Unable to run BokehJS code because BokehJS library is missing\")\n",
       "        clearInterval(timer);\n",
       "      }\n",
       "    }, 10, root)\n",
       "  }\n",
       "})(window);"
      ],
      "application/vnd.bokehjs_exec.v0+json": ""
     },
     "metadata": {
      "application/vnd.bokehjs_exec.v0+json": {
       "id": "25f5ef30-3517-4ac8-9121-b8b4c939b82d"
      }
     },
     "output_type": "display_data"
    },
    {
     "data": {
      "text/markdown": [
       "*FIGURE.* Difference between CLIRAD and CRD in TOA, SFC and net atmosphere flux, in each spectral band."
      ],
      "text/plain": [
       "<IPython.core.display.Markdown object>"
      ]
     },
     "metadata": {},
     "output_type": "display_data"
    },
    {
     "data": {
      "text/html": [
       "<div>\n",
       "<style scoped>\n",
       "    .dataframe tbody tr th:only-of-type {\n",
       "        vertical-align: middle;\n",
       "    }\n",
       "\n",
       "    .dataframe tbody tr th {\n",
       "        vertical-align: top;\n",
       "    }\n",
       "\n",
       "    .dataframe thead th {\n",
       "        text-align: right;\n",
       "    }\n",
       "</style>\n",
       "<table border=\"1\" class=\"dataframe\">\n",
       "  <thead>\n",
       "    <tr style=\"text-align: right;\">\n",
       "      <th></th>\n",
       "      <th>OLR flux</th>\n",
       "      <th>SFC flux</th>\n",
       "      <th>ATM heating</th>\n",
       "    </tr>\n",
       "    <tr>\n",
       "      <th>Sum over bands</th>\n",
       "      <th></th>\n",
       "      <th></th>\n",
       "      <th></th>\n",
       "    </tr>\n",
       "  </thead>\n",
       "  <tbody>\n",
       "    <tr>\n",
       "      <th>CLIRAD (single-run) - CRD</th>\n",
       "      <td>-276.57</td>\n",
       "      <td>-337.24</td>\n",
       "      <td>-398.60</td>\n",
       "    </tr>\n",
       "    <tr>\n",
       "      <th>CRD</th>\n",
       "      <td>-303.40</td>\n",
       "      <td>337.24</td>\n",
       "      <td>-181.37</td>\n",
       "    </tr>\n",
       "  </tbody>\n",
       "</table>\n",
       "</div>"
      ],
      "text/plain": [
       "                           OLR flux  SFC flux  ATM heating\n",
       "Sum over bands                                            \n",
       "CLIRAD (single-run) - CRD   -276.57   -337.24      -398.60\n",
       "CRD                         -303.40    337.24      -181.37"
      ]
     },
     "metadata": {},
     "output_type": "display_data"
    },
    {
     "data": {
      "text/markdown": [
       "*TABLE.* Difference between CLIRAD and CRD in TOA, SFC and net atmosphere flux, over all spectral bands. CRD's TOA, SFC and net atmosphere flux, over all spectral bands."
      ],
      "text/plain": [
       "<IPython.core.display.Markdown object>"
      ]
     },
     "metadata": {},
     "output_type": "display_data"
    }
   ],
   "source": [
    "def show_html(s):\n",
    "    display.display(display.HTML(s))\n",
    "\n",
    "    \n",
    "def show_markdown(s):\n",
    "    display.display(display.Markdown(s))\n",
    "\n",
    "\n",
    "def script():\n",
    "    \n",
    "    d_atm = {'mls': 'mid-latitude summer',\n",
    "             'saw': 'sub-arctic winter',\n",
    "             'trp': 'tropical'}\n",
    "    \n",
    "    title = ('## Results over entire range of molecules'\n",
    "             ' and spectral bands')\n",
    "    \n",
    "    s_makeup = 'Makeup of atmosphere.'\n",
    "    s_atmpro = '# {}'\n",
    "    s_cool = 'Cooling rates. {}.'\n",
    "    s_flux = 'Fluxes. {}.'\n",
    "    \n",
    "    atmpros = ['mls', 'saw', 'trp']\n",
    "    \n",
    "    # TOC\n",
    "    show_markdown(title)\n",
    "    show_markdown('### Table of Contents')\n",
    "    show_html(climahtml.getHTML_hrefanchor(s_makeup))\n",
    "    for atmpro in atmpros:\n",
    "        show_markdown('**' + d_atm[atmpro] + '**')\n",
    "        show_html(climahtml.getHTML_hrefanchor(s_cool.format(atmpro)))\n",
    "        show_html(climahtml.getHTML_hrefanchor(s_flux.format(atmpro)))\n",
    "\n",
    "        \n",
    "    # Atmosphere makeup\n",
    "    show_html(climahtml.getHTML_idanchor(s_makeup))\n",
    "    show_markdown(climahtml.getMarkdown_sectitle(s_makeup))\n",
    "    show_makeup()\n",
    "    show_grey_makeup()\n",
    "        \n",
    "    for atmpro in atmpros:\n",
    "        show_html(climahtml.getHTML_idanchor(s_cool.format(atmpro)))\n",
    "        show_markdown(\n",
    "            climahtml.getMarkdown_sectitle(s_cool.format(atmpro)))\n",
    "        show_cool(atmpro=atmpro)\n",
    "        show_html(climahtml.getHTML_idanchor(s_flux.format(atmpro)))\n",
    "        show_markdown(\n",
    "            climahtml.getMarkdown_sectitle(s_flux.format(atmpro)))\n",
    "        show_hist_flux(atmpro=atmpro)\n",
    "        show_tb_flux(atmpro=atmpro)\n",
    "    \n",
    "    \n",
    "script()  "
   ]
  },
  {
   "cell_type": "code",
   "execution_count": null,
   "metadata": {
    "collapsed": true
   },
   "outputs": [],
   "source": []
  },
  {
   "cell_type": "code",
   "execution_count": 650,
   "metadata": {},
   "outputs": [
    {
     "data": {
      "text/html": [
       "<script>\n",
       "code_show=true; \n",
       "function code_toggle() {\n",
       " if (code_show){\n",
       " $('div.input').hide();\n",
       " } else {\n",
       " $('div.input').show();\n",
       " }\n",
       " code_show = !code_show\n",
       "} \n",
       "$( document ).ready(code_toggle);\n",
       "</script>\n",
       "<form action=\"javascript:code_toggle()\"><input type=\"submit\" value=\"Click here to toggle on/off the raw code.\"></form>"
      ],
      "text/plain": [
       "<IPython.core.display.HTML object>"
      ]
     },
     "execution_count": 650,
     "metadata": {},
     "output_type": "execute_result"
    }
   ],
   "source": [
    "display.HTML('''<script>\n",
    "code_show=true; \n",
    "function code_toggle() {\n",
    " if (code_show){\n",
    " $('div.input').hide();\n",
    " } else {\n",
    " $('div.input').show();\n",
    " }\n",
    " code_show = !code_show\n",
    "} \n",
    "$( document ).ready(code_toggle);\n",
    "</script>\n",
    "<form action=\"javascript:code_toggle()\"><input type=\"submit\" value=\"Click here to toggle on/off the raw code.\"></form>''')"
   ]
  },
  {
   "cell_type": "code",
   "execution_count": null,
   "metadata": {
    "collapsed": true
   },
   "outputs": [],
   "source": []
  }
 ],
 "metadata": {
  "kernelspec": {
   "display_name": "Python 3",
   "language": "python",
   "name": "python3"
  },
  "language_info": {
   "codemirror_mode": {
    "name": "ipython",
    "version": 3
   },
   "file_extension": ".py",
   "mimetype": "text/x-python",
   "name": "python",
   "nbconvert_exporter": "python",
   "pygments_lexer": "ipython3",
   "version": "3.6.1"
  }
 },
 "nbformat": 4,
 "nbformat_minor": 2
}
