{
 "cells": [
  {
   "cell_type": "code",
   "execution_count": 372,
   "metadata": {
    "collapsed": true
   },
   "outputs": [],
   "source": [
    "import os\n",
    "import ast\n",
    "import json\n",
    "import importlib \n",
    "import itertools\n",
    "import collections\n",
    "import pprint\n",
    "\n",
    "from bokeh.io import output_notebook, show\n",
    "from bokeh.layouts import gridplot\n",
    "from bokeh.plotting import figure\n",
    "from bokeh.models import Range1d, Legend, ColumnDataSource, FactorRange\n",
    "from bokeh.palettes import all_palettes\n",
    "from bokeh.transform import factor_cmap\n",
    "\n",
    "import matplotlib\n",
    "import matplotlib.pyplot as plt\n",
    "import numpy as np\n",
    "import pandas as pd\n",
    "import xarray as xr\n",
    "\n",
    "\n",
    "import climatools.lblnew.bestfit_params as bestfits\n",
    "from climatools.lblnew import setup_bestfit, setup_overlap\n",
    "import climatools.lblnew.pipeline as pipe_lblnew\n",
    "import climatools.cliradlw.setup as setup_cliradlw\n",
    "import climatools.cliradlw.pipeline as pipe_cliradlw\n",
    "\n",
    "import climatools.html.html as climahtml\n",
    "from climatools.lblnew.dataio import *\n",
    "from climatools.plot.plot import *\n",
    "\n",
    "\n",
    "from IPython import display\n",
    "\n",
    "#importlib.reload(bestfits)\n",
    "#importlib.reload(setup_bestfit)\n",
    "#importlib.reload(setup_overlap)\n",
    "#importlib.reload(pipe_lblnew)\n",
    "#importlib.reload(setup_cliradlw)\n",
    "#importlib.reload(pipe_cliradlw)"
   ]
  },
  {
   "cell_type": "code",
   "execution_count": 373,
   "metadata": {},
   "outputs": [
    {
     "data": {
      "text/html": [
       "\n",
       "    <div class=\"bk-root\">\n",
       "        <a href=\"https://bokeh.pydata.org\" target=\"_blank\" class=\"bk-logo bk-logo-small bk-logo-notebook\"></a>\n",
       "        <span id=\"c98179ff-4e5e-4c81-b670-d2a7c2c4a722\">Loading BokehJS ...</span>\n",
       "    </div>"
      ]
     },
     "metadata": {},
     "output_type": "display_data"
    },
    {
     "data": {
      "application/javascript": [
       "\n",
       "(function(root) {\n",
       "  function now() {\n",
       "    return new Date();\n",
       "  }\n",
       "\n",
       "  var force = true;\n",
       "\n",
       "  if (typeof (root._bokeh_onload_callbacks) === \"undefined\" || force === true) {\n",
       "    root._bokeh_onload_callbacks = [];\n",
       "    root._bokeh_is_loading = undefined;\n",
       "  }\n",
       "\n",
       "  var JS_MIME_TYPE = 'application/javascript';\n",
       "  var HTML_MIME_TYPE = 'text/html';\n",
       "  var EXEC_MIME_TYPE = 'application/vnd.bokehjs_exec.v0+json';\n",
       "  var CLASS_NAME = 'output_bokeh rendered_html';\n",
       "\n",
       "  /**\n",
       "   * Render data to the DOM node\n",
       "   */\n",
       "  function render(props, node) {\n",
       "    var script = document.createElement(\"script\");\n",
       "    node.appendChild(script);\n",
       "  }\n",
       "\n",
       "  /**\n",
       "   * Handle when an output is cleared or removed\n",
       "   */\n",
       "  function handleClearOutput(event, handle) {\n",
       "    var cell = handle.cell;\n",
       "\n",
       "    var id = cell.output_area._bokeh_element_id;\n",
       "    var server_id = cell.output_area._bokeh_server_id;\n",
       "    // Clean up Bokeh references\n",
       "    if (id !== undefined) {\n",
       "      Bokeh.index[id].model.document.clear();\n",
       "      delete Bokeh.index[id];\n",
       "    }\n",
       "\n",
       "    if (server_id !== undefined) {\n",
       "      // Clean up Bokeh references\n",
       "      var cmd = \"from bokeh.io.state import curstate; print(curstate().uuid_to_server['\" + server_id + \"'].get_sessions()[0].document.roots[0]._id)\";\n",
       "      cell.notebook.kernel.execute(cmd, {\n",
       "        iopub: {\n",
       "          output: function(msg) {\n",
       "            var element_id = msg.content.text.trim();\n",
       "            Bokeh.index[element_id].model.document.clear();\n",
       "            delete Bokeh.index[element_id];\n",
       "          }\n",
       "        }\n",
       "      });\n",
       "      // Destroy server and session\n",
       "      var cmd = \"import bokeh.io.notebook as ion; ion.destroy_server('\" + server_id + \"')\";\n",
       "      cell.notebook.kernel.execute(cmd);\n",
       "    }\n",
       "  }\n",
       "\n",
       "  /**\n",
       "   * Handle when a new output is added\n",
       "   */\n",
       "  function handleAddOutput(event, handle) {\n",
       "    var output_area = handle.output_area;\n",
       "    var output = handle.output;\n",
       "\n",
       "    // limit handleAddOutput to display_data with EXEC_MIME_TYPE content only\n",
       "    if ((output.output_type != \"display_data\") || (!output.data.hasOwnProperty(EXEC_MIME_TYPE))) {\n",
       "      return\n",
       "    }\n",
       "\n",
       "    var toinsert = output_area.element.find(\".\" + CLASS_NAME.split(' ')[0]);\n",
       "\n",
       "    if (output.metadata[EXEC_MIME_TYPE][\"id\"] !== undefined) {\n",
       "      toinsert[toinsert.length - 1].firstChild.textContent = output.data[JS_MIME_TYPE];\n",
       "      // store reference to embed id on output_area\n",
       "      output_area._bokeh_element_id = output.metadata[EXEC_MIME_TYPE][\"id\"];\n",
       "    }\n",
       "    if (output.metadata[EXEC_MIME_TYPE][\"server_id\"] !== undefined) {\n",
       "      var bk_div = document.createElement(\"div\");\n",
       "      bk_div.innerHTML = output.data[HTML_MIME_TYPE];\n",
       "      var script_attrs = bk_div.children[0].attributes;\n",
       "      for (var i = 0; i < script_attrs.length; i++) {\n",
       "        toinsert[toinsert.length - 1].firstChild.setAttribute(script_attrs[i].name, script_attrs[i].value);\n",
       "      }\n",
       "      // store reference to server id on output_area\n",
       "      output_area._bokeh_server_id = output.metadata[EXEC_MIME_TYPE][\"server_id\"];\n",
       "    }\n",
       "  }\n",
       "\n",
       "  function register_renderer(events, OutputArea) {\n",
       "\n",
       "    function append_mime(data, metadata, element) {\n",
       "      // create a DOM node to render to\n",
       "      var toinsert = this.create_output_subarea(\n",
       "        metadata,\n",
       "        CLASS_NAME,\n",
       "        EXEC_MIME_TYPE\n",
       "      );\n",
       "      this.keyboard_manager.register_events(toinsert);\n",
       "      // Render to node\n",
       "      var props = {data: data, metadata: metadata[EXEC_MIME_TYPE]};\n",
       "      render(props, toinsert[toinsert.length - 1]);\n",
       "      element.append(toinsert);\n",
       "      return toinsert\n",
       "    }\n",
       "\n",
       "    /* Handle when an output is cleared or removed */\n",
       "    events.on('clear_output.CodeCell', handleClearOutput);\n",
       "    events.on('delete.Cell', handleClearOutput);\n",
       "\n",
       "    /* Handle when a new output is added */\n",
       "    events.on('output_added.OutputArea', handleAddOutput);\n",
       "\n",
       "    /**\n",
       "     * Register the mime type and append_mime function with output_area\n",
       "     */\n",
       "    OutputArea.prototype.register_mime_type(EXEC_MIME_TYPE, append_mime, {\n",
       "      /* Is output safe? */\n",
       "      safe: true,\n",
       "      /* Index of renderer in `output_area.display_order` */\n",
       "      index: 0\n",
       "    });\n",
       "  }\n",
       "\n",
       "  // register the mime type if in Jupyter Notebook environment and previously unregistered\n",
       "  if (root.Jupyter !== undefined) {\n",
       "    var events = require('base/js/events');\n",
       "    var OutputArea = require('notebook/js/outputarea').OutputArea;\n",
       "\n",
       "    if (OutputArea.prototype.mime_types().indexOf(EXEC_MIME_TYPE) == -1) {\n",
       "      register_renderer(events, OutputArea);\n",
       "    }\n",
       "  }\n",
       "\n",
       "  \n",
       "  if (typeof (root._bokeh_timeout) === \"undefined\" || force === true) {\n",
       "    root._bokeh_timeout = Date.now() + 5000;\n",
       "    root._bokeh_failed_load = false;\n",
       "  }\n",
       "\n",
       "  var NB_LOAD_WARNING = {'data': {'text/html':\n",
       "     \"<div style='background-color: #fdd'>\\n\"+\n",
       "     \"<p>\\n\"+\n",
       "     \"BokehJS does not appear to have successfully loaded. If loading BokehJS from CDN, this \\n\"+\n",
       "     \"may be due to a slow or bad network connection. Possible fixes:\\n\"+\n",
       "     \"</p>\\n\"+\n",
       "     \"<ul>\\n\"+\n",
       "     \"<li>re-rerun `output_notebook()` to attempt to load from CDN again, or</li>\\n\"+\n",
       "     \"<li>use INLINE resources instead, as so:</li>\\n\"+\n",
       "     \"</ul>\\n\"+\n",
       "     \"<code>\\n\"+\n",
       "     \"from bokeh.resources import INLINE\\n\"+\n",
       "     \"output_notebook(resources=INLINE)\\n\"+\n",
       "     \"</code>\\n\"+\n",
       "     \"</div>\"}};\n",
       "\n",
       "  function display_loaded() {\n",
       "    var el = document.getElementById(\"c98179ff-4e5e-4c81-b670-d2a7c2c4a722\");\n",
       "    if (el != null) {\n",
       "      el.textContent = \"BokehJS is loading...\";\n",
       "    }\n",
       "    if (root.Bokeh !== undefined) {\n",
       "      if (el != null) {\n",
       "        el.textContent = \"BokehJS \" + root.Bokeh.version + \" successfully loaded.\";\n",
       "      }\n",
       "    } else if (Date.now() < root._bokeh_timeout) {\n",
       "      setTimeout(display_loaded, 100)\n",
       "    }\n",
       "  }\n",
       "\n",
       "\n",
       "  function run_callbacks() {\n",
       "    try {\n",
       "      root._bokeh_onload_callbacks.forEach(function(callback) { callback() });\n",
       "    }\n",
       "    finally {\n",
       "      delete root._bokeh_onload_callbacks\n",
       "    }\n",
       "    console.info(\"Bokeh: all callbacks have finished\");\n",
       "  }\n",
       "\n",
       "  function load_libs(js_urls, callback) {\n",
       "    root._bokeh_onload_callbacks.push(callback);\n",
       "    if (root._bokeh_is_loading > 0) {\n",
       "      console.log(\"Bokeh: BokehJS is being loaded, scheduling callback at\", now());\n",
       "      return null;\n",
       "    }\n",
       "    if (js_urls == null || js_urls.length === 0) {\n",
       "      run_callbacks();\n",
       "      return null;\n",
       "    }\n",
       "    console.log(\"Bokeh: BokehJS not loaded, scheduling load and callback at\", now());\n",
       "    root._bokeh_is_loading = js_urls.length;\n",
       "    for (var i = 0; i < js_urls.length; i++) {\n",
       "      var url = js_urls[i];\n",
       "      var s = document.createElement('script');\n",
       "      s.src = url;\n",
       "      s.async = false;\n",
       "      s.onreadystatechange = s.onload = function() {\n",
       "        root._bokeh_is_loading--;\n",
       "        if (root._bokeh_is_loading === 0) {\n",
       "          console.log(\"Bokeh: all BokehJS libraries loaded\");\n",
       "          run_callbacks()\n",
       "        }\n",
       "      };\n",
       "      s.onerror = function() {\n",
       "        console.warn(\"failed to load library \" + url);\n",
       "      };\n",
       "      console.log(\"Bokeh: injecting script tag for BokehJS library: \", url);\n",
       "      document.getElementsByTagName(\"head\")[0].appendChild(s);\n",
       "    }\n",
       "  };var element = document.getElementById(\"c98179ff-4e5e-4c81-b670-d2a7c2c4a722\");\n",
       "  if (element == null) {\n",
       "    console.log(\"Bokeh: ERROR: autoload.js configured with elementid 'c98179ff-4e5e-4c81-b670-d2a7c2c4a722' but no matching script tag was found. \")\n",
       "    return false;\n",
       "  }\n",
       "\n",
       "  var js_urls = [\"https://cdn.pydata.org/bokeh/release/bokeh-0.12.16.min.js\", \"https://cdn.pydata.org/bokeh/release/bokeh-widgets-0.12.16.min.js\", \"https://cdn.pydata.org/bokeh/release/bokeh-tables-0.12.16.min.js\", \"https://cdn.pydata.org/bokeh/release/bokeh-gl-0.12.16.min.js\"];\n",
       "\n",
       "  var inline_js = [\n",
       "    function(Bokeh) {\n",
       "      Bokeh.set_log_level(\"info\");\n",
       "    },\n",
       "    \n",
       "    function(Bokeh) {\n",
       "      \n",
       "    },\n",
       "    function(Bokeh) {\n",
       "      console.log(\"Bokeh: injecting CSS: https://cdn.pydata.org/bokeh/release/bokeh-0.12.16.min.css\");\n",
       "      Bokeh.embed.inject_css(\"https://cdn.pydata.org/bokeh/release/bokeh-0.12.16.min.css\");\n",
       "      console.log(\"Bokeh: injecting CSS: https://cdn.pydata.org/bokeh/release/bokeh-widgets-0.12.16.min.css\");\n",
       "      Bokeh.embed.inject_css(\"https://cdn.pydata.org/bokeh/release/bokeh-widgets-0.12.16.min.css\");\n",
       "      console.log(\"Bokeh: injecting CSS: https://cdn.pydata.org/bokeh/release/bokeh-tables-0.12.16.min.css\");\n",
       "      Bokeh.embed.inject_css(\"https://cdn.pydata.org/bokeh/release/bokeh-tables-0.12.16.min.css\");\n",
       "    }\n",
       "  ];\n",
       "\n",
       "  function run_inline_js() {\n",
       "    \n",
       "    if ((root.Bokeh !== undefined) || (force === true)) {\n",
       "      for (var i = 0; i < inline_js.length; i++) {\n",
       "        inline_js[i].call(root, root.Bokeh);\n",
       "      }if (force === true) {\n",
       "        display_loaded();\n",
       "      }} else if (Date.now() < root._bokeh_timeout) {\n",
       "      setTimeout(run_inline_js, 100);\n",
       "    } else if (!root._bokeh_failed_load) {\n",
       "      console.log(\"Bokeh: BokehJS failed to load within specified timeout.\");\n",
       "      root._bokeh_failed_load = true;\n",
       "    } else if (force !== true) {\n",
       "      var cell = $(document.getElementById(\"c98179ff-4e5e-4c81-b670-d2a7c2c4a722\")).parents('.cell').data().cell;\n",
       "      cell.output_area.append_execute_result(NB_LOAD_WARNING)\n",
       "    }\n",
       "\n",
       "  }\n",
       "\n",
       "  if (root._bokeh_is_loading === 0) {\n",
       "    console.log(\"Bokeh: BokehJS loaded, going straight to plotting\");\n",
       "    run_inline_js();\n",
       "  } else {\n",
       "    load_libs(js_urls, function() {\n",
       "      console.log(\"Bokeh: BokehJS plotting callback run at\", now());\n",
       "      run_inline_js();\n",
       "    });\n",
       "  }\n",
       "}(window));"
      ],
      "application/vnd.bokehjs_load.v0+json": "\n(function(root) {\n  function now() {\n    return new Date();\n  }\n\n  var force = true;\n\n  if (typeof (root._bokeh_onload_callbacks) === \"undefined\" || force === true) {\n    root._bokeh_onload_callbacks = [];\n    root._bokeh_is_loading = undefined;\n  }\n\n  \n\n  \n  if (typeof (root._bokeh_timeout) === \"undefined\" || force === true) {\n    root._bokeh_timeout = Date.now() + 5000;\n    root._bokeh_failed_load = false;\n  }\n\n  var NB_LOAD_WARNING = {'data': {'text/html':\n     \"<div style='background-color: #fdd'>\\n\"+\n     \"<p>\\n\"+\n     \"BokehJS does not appear to have successfully loaded. If loading BokehJS from CDN, this \\n\"+\n     \"may be due to a slow or bad network connection. Possible fixes:\\n\"+\n     \"</p>\\n\"+\n     \"<ul>\\n\"+\n     \"<li>re-rerun `output_notebook()` to attempt to load from CDN again, or</li>\\n\"+\n     \"<li>use INLINE resources instead, as so:</li>\\n\"+\n     \"</ul>\\n\"+\n     \"<code>\\n\"+\n     \"from bokeh.resources import INLINE\\n\"+\n     \"output_notebook(resources=INLINE)\\n\"+\n     \"</code>\\n\"+\n     \"</div>\"}};\n\n  function display_loaded() {\n    var el = document.getElementById(\"c98179ff-4e5e-4c81-b670-d2a7c2c4a722\");\n    if (el != null) {\n      el.textContent = \"BokehJS is loading...\";\n    }\n    if (root.Bokeh !== undefined) {\n      if (el != null) {\n        el.textContent = \"BokehJS \" + root.Bokeh.version + \" successfully loaded.\";\n      }\n    } else if (Date.now() < root._bokeh_timeout) {\n      setTimeout(display_loaded, 100)\n    }\n  }\n\n\n  function run_callbacks() {\n    try {\n      root._bokeh_onload_callbacks.forEach(function(callback) { callback() });\n    }\n    finally {\n      delete root._bokeh_onload_callbacks\n    }\n    console.info(\"Bokeh: all callbacks have finished\");\n  }\n\n  function load_libs(js_urls, callback) {\n    root._bokeh_onload_callbacks.push(callback);\n    if (root._bokeh_is_loading > 0) {\n      console.log(\"Bokeh: BokehJS is being loaded, scheduling callback at\", now());\n      return null;\n    }\n    if (js_urls == null || js_urls.length === 0) {\n      run_callbacks();\n      return null;\n    }\n    console.log(\"Bokeh: BokehJS not loaded, scheduling load and callback at\", now());\n    root._bokeh_is_loading = js_urls.length;\n    for (var i = 0; i < js_urls.length; i++) {\n      var url = js_urls[i];\n      var s = document.createElement('script');\n      s.src = url;\n      s.async = false;\n      s.onreadystatechange = s.onload = function() {\n        root._bokeh_is_loading--;\n        if (root._bokeh_is_loading === 0) {\n          console.log(\"Bokeh: all BokehJS libraries loaded\");\n          run_callbacks()\n        }\n      };\n      s.onerror = function() {\n        console.warn(\"failed to load library \" + url);\n      };\n      console.log(\"Bokeh: injecting script tag for BokehJS library: \", url);\n      document.getElementsByTagName(\"head\")[0].appendChild(s);\n    }\n  };var element = document.getElementById(\"c98179ff-4e5e-4c81-b670-d2a7c2c4a722\");\n  if (element == null) {\n    console.log(\"Bokeh: ERROR: autoload.js configured with elementid 'c98179ff-4e5e-4c81-b670-d2a7c2c4a722' but no matching script tag was found. \")\n    return false;\n  }\n\n  var js_urls = [\"https://cdn.pydata.org/bokeh/release/bokeh-0.12.16.min.js\", \"https://cdn.pydata.org/bokeh/release/bokeh-widgets-0.12.16.min.js\", \"https://cdn.pydata.org/bokeh/release/bokeh-tables-0.12.16.min.js\", \"https://cdn.pydata.org/bokeh/release/bokeh-gl-0.12.16.min.js\"];\n\n  var inline_js = [\n    function(Bokeh) {\n      Bokeh.set_log_level(\"info\");\n    },\n    \n    function(Bokeh) {\n      \n    },\n    function(Bokeh) {\n      console.log(\"Bokeh: injecting CSS: https://cdn.pydata.org/bokeh/release/bokeh-0.12.16.min.css\");\n      Bokeh.embed.inject_css(\"https://cdn.pydata.org/bokeh/release/bokeh-0.12.16.min.css\");\n      console.log(\"Bokeh: injecting CSS: https://cdn.pydata.org/bokeh/release/bokeh-widgets-0.12.16.min.css\");\n      Bokeh.embed.inject_css(\"https://cdn.pydata.org/bokeh/release/bokeh-widgets-0.12.16.min.css\");\n      console.log(\"Bokeh: injecting CSS: https://cdn.pydata.org/bokeh/release/bokeh-tables-0.12.16.min.css\");\n      Bokeh.embed.inject_css(\"https://cdn.pydata.org/bokeh/release/bokeh-tables-0.12.16.min.css\");\n    }\n  ];\n\n  function run_inline_js() {\n    \n    if ((root.Bokeh !== undefined) || (force === true)) {\n      for (var i = 0; i < inline_js.length; i++) {\n        inline_js[i].call(root, root.Bokeh);\n      }if (force === true) {\n        display_loaded();\n      }} else if (Date.now() < root._bokeh_timeout) {\n      setTimeout(run_inline_js, 100);\n    } else if (!root._bokeh_failed_load) {\n      console.log(\"Bokeh: BokehJS failed to load within specified timeout.\");\n      root._bokeh_failed_load = true;\n    } else if (force !== true) {\n      var cell = $(document.getElementById(\"c98179ff-4e5e-4c81-b670-d2a7c2c4a722\")).parents('.cell').data().cell;\n      cell.output_area.append_execute_result(NB_LOAD_WARNING)\n    }\n\n  }\n\n  if (root._bokeh_is_loading === 0) {\n    console.log(\"Bokeh: BokehJS loaded, going straight to plotting\");\n    run_inline_js();\n  } else {\n    load_libs(js_urls, function() {\n      console.log(\"Bokeh: BokehJS plotting callback run at\", now());\n      run_inline_js();\n    });\n  }\n}(window));"
     },
     "metadata": {},
     "output_type": "display_data"
    }
   ],
   "source": [
    "output_notebook()"
   ]
  },
  {
   "cell_type": "code",
   "execution_count": 374,
   "metadata": {
    "collapsed": true
   },
   "outputs": [],
   "source": [
    "'''\n",
    "Get the clirad-lw and lblnew `param`s for all spectral bands.  \n",
    "These are returned by functions `clirad_params_atm` and\n",
    "`lblnew_params_atm`, respectively.\n",
    "'''\n",
    "\n",
    "def molecules_byband_atm():\n",
    "    return {1: {'h2o': 'atmpro'},\n",
    "            2: {'h2o': 'atmpro'}, \n",
    "            3: {'co2': 0.0004, 'h2o': 'atmpro', 'n2o': 3.2e-07},\n",
    "            4: {'co2': 0.0004, 'h2o': 'atmpro'},\n",
    "            5: {'co2': 0.0004, 'h2o': 'atmpro'},\n",
    "            6: {'co2': 0.0004, 'h2o': 'atmpro'},\n",
    "            7: {'co2': 0.0004, 'h2o': 'atmpro', 'o3': 'atmpro'},\n",
    "            8: {'h2o': 'atmpro'},\n",
    "            9: {'ch4': 1.8e-06, 'h2o': 'atmpro', 'n2o': 3.2e-07},\n",
    "            10: {'h2o': 'atmpro'},\n",
    "            11: {'co2': 0.0004, 'h2o': 'atmpro'}}\n",
    "\n",
    "\n",
    "def clirad_params_atm(atmpro='mls'):\n",
    "    d = {}\n",
    "    for band, molecule in molecules_byband_atm().items():\n",
    "        for param in setup_cliradlw.test_cases():\n",
    "            if [band] == param['band'] and molecule == param['molecule']:\n",
    "                param['atmpro'] = atmpro\n",
    "                d[band] = param\n",
    "                break                \n",
    "    return d\n",
    "\n",
    "\n",
    "def clirad_params_atm_singlerun(atmpro='mls'):\n",
    "    '''\n",
    "    Returns param of clirad-lw run that is equivalent to the total\n",
    "    of all the runs listed in molecules_byband_atm().  In order\n",
    "    for the output to be compatible with clirad_data_atm(), it will\n",
    "    be a list.\n",
    "    '''\n",
    "    param0 = {'band': [1, 2, 3, 4, 5, 6, 7, 8, 9, 10, 11],\n",
    "              'commitnumber': 'e4a1d1a_x',\n",
    "              'molecule': {'ch4': 1.8e-06,\n",
    "                           'co2': 0.0004,\n",
    "                           'h2o': 'atmpro',\n",
    "                           'n2o': 3.2e-07,\n",
    "                           'o3': 'atmpro'}}\n",
    "    \n",
    "    d_atmpros = {'mls': 294, 'saw': 257, 'trp': 300}\n",
    "    \n",
    "    param = param0.copy()\n",
    "    param['atmpro'] = atmpro\n",
    "    param['tsfc'] = d_atmpros[atmpro]\n",
    "    \n",
    "    d = {}\n",
    "    d['all'] = param\n",
    "    return d\n",
    "\n",
    "\n",
    "def analysis_dirs_atm(atmpro='mls'):\n",
    "    params = clirad_params_atm(atmpro=atmpro)\n",
    "    return {band: pipe_cliradlw.get_analysis_dir(param=param,\n",
    "                                                 setup=setup_cliradlw) \n",
    "            for band, param in params.items()}\n",
    "\n",
    "\n",
    "def lblnew_params_atm(atmpro='mls'):\n",
    "    dirs = analysis_dirs_atm(atmpro=atmpro)\n",
    "    \n",
    "    d = {}\n",
    "    for band, dirname in dirs.items():\n",
    "        with open(os.path.join(dirname, 'param.py'), \n",
    "                  mode='r', encoding='utf-8') as f:\n",
    "            _, l = f.readlines()\n",
    "        \n",
    "        s = l.split('=')[1].strip()\n",
    "        d[band] = ast.literal_eval(s)\n",
    "        \n",
    "    return d\n"
   ]
  },
  {
   "cell_type": "code",
   "execution_count": 375,
   "metadata": {
    "collapsed": true
   },
   "outputs": [],
   "source": [
    "def show_makeup():\n",
    "    df = pd.DataFrame()\n",
    "\n",
    "    for band, molecule in molecules_byband_atm().items():\n",
    "        for name, conc in molecule.items():\n",
    "            df.loc[name, band] = str(conc)\n",
    "\n",
    "    df = df.fillna(0)\n",
    "    df.columns.name = 'clirad band'\n",
    "    df.index.name = 'molecule'\n",
    "    \n",
    "    display.display(df)\n",
    "    \n",
    "    display.display(\n",
    "        display.Markdown('*TABLE.* The makeup of the atmosphere.'))\n",
    "\n"
   ]
  },
  {
   "cell_type": "code",
   "execution_count": 376,
   "metadata": {
    "collapsed": true
   },
   "outputs": [],
   "source": [
    "def load_output_file(path_csv):\n",
    "    '''\n",
    "    Load lblnew output .csv file to xarray.Dataset\n",
    "    \n",
    "    Parameters\n",
    "    ----------\n",
    "    path_csv: str\n",
    "              Path to the .csv file to be loaded.\n",
    "    ds: xarray.Dataset\n",
    "        Data in the input file in the form of an xarray.Dataset.\n",
    "    '''\n",
    "    toindex = ['band', 'pressure', 'igg', 'g']    \n",
    "    df = pd.read_csv(path_csv, sep=r'\\s+')\n",
    "    df = df.set_index([i for i in toindex if i in df.columns])\n",
    "    df = df.rename(columns={'sfu': 'flug',\n",
    "                            'sfd': 'fldg',\n",
    "                            'fnet': 'fnetg',\n",
    "                            'coolr': 'coolrg'})\n",
    "    ds = xr.Dataset.from_dataframe(df)\n",
    "\n",
    "    for l in ('level', 'layer'):\n",
    "        if l in ds.data_vars:\n",
    "            if len(ds[l].dims) > 1:\n",
    "                surface = {d: 0 for d in ds.dims if d != 'pressure'}\n",
    "                coord_level = ds[l][surface]\n",
    "                ds.coords[l] = ('pressure', coord_level)\n",
    "            else:\n",
    "                ds.coords[l] = ('pressure', ds[l])\n",
    "    \n",
    "    return ds"
   ]
  },
  {
   "cell_type": "code",
   "execution_count": 377,
   "metadata": {
    "collapsed": true
   },
   "outputs": [],
   "source": [
    "def lblnew_setup(param=None):\n",
    "    if 'ng_refs' in param:\n",
    "        return {'setup': setup_bestfit,\n",
    "                'fname_flux_crd': 'output_flux.dat',\n",
    "                'fname_cool_crd': 'output_coolr.dat',\n",
    "                'fname_flux_wgt': 'output_wfluxg.dat',\n",
    "                'fname_cool_wgt': 'output_wcoolrg.dat'}\n",
    "    else:\n",
    "        return {'setup': setup_overlap,\n",
    "                'fname_flux_crd': 'output_flux.dat',\n",
    "                'fname_cool_crd': 'output_coolr.dat',\n",
    "                'fname_flux_wgt': 'output_wflux.dat',\n",
    "                'fname_cool_wgt': 'output_wcoolr.dat'}\n",
    "\n",
    "    \n",
    "def load_lblnew_data(param):\n",
    "    \n",
    "    fname_dsname = [('fname_flux_crd', 'ds_flux_crd'),\n",
    "                    ('fname_cool_crd', 'ds_cool_crd'),\n",
    "                    ('fname_flux_wgt', 'ds_flux_wgt'),\n",
    "                    ('fname_cool_wgt', 'ds_cool_wgt')]\n",
    "    \n",
    "    d = lblnew_setup(param)\n",
    "    dir_fortran = pipe_lblnew.get_dir_case(param, setup=d['setup'])\n",
    "    \n",
    "    data_dict = {}\n",
    "    for fname, dsname in fname_dsname:\n",
    "        fpath = os.path.join(dir_fortran, d[fname])\n",
    "        data_dict[dsname] = load_output_file(fpath)\n",
    "    return data_dict"
   ]
  },
  {
   "cell_type": "code",
   "execution_count": 378,
   "metadata": {
    "collapsed": true
   },
   "outputs": [],
   "source": [
    "def crd_data_atm(params_atm):\n",
    "    '''\n",
    "    Parameters\n",
    "    ----------\n",
    "    \n",
    "    params_atm: dict\n",
    "                Parameter dictionary for each band.\n",
    "                \n",
    "    d: dict\n",
    "       'flux': xr.Dataset. [pressure, band]\n",
    "               Fluxes.\n",
    "       'cool': xr.Dataset. [pressure, band]\n",
    "               Cooling rate.\n",
    "    \n",
    "    '''\n",
    "    \n",
    "    results_atm = {band: load_lblnew_data(param) \n",
    "                   for band, param in params_atm.items()}\n",
    "    \n",
    "    bands = [band for band, _ in params_atm.items()]\n",
    "    fluxs = [d['ds_flux_crd'] for _, d in results_atm.items()]\n",
    "    cools = [d['ds_cool_crd'] for _, d in results_atm.items()]\n",
    "    \n",
    "    d = {}\n",
    "    d['flux'] = xr.concat(fluxs, dim=bands).rename({'concat_dim': 'band'})\n",
    "    d['cool'] = xr.concat(cools, dim=bands).rename({'concat_dim': 'band'})\n",
    "    return d        \n",
    "        \n",
    "        \n",
    "\n",
    "def clirad_data_atm(params_atm):\n",
    "    \n",
    "    dirnames = [pipe_cliradlw.get_fortran_dir(param,\n",
    "                                              setup=setup_cliradlw)\n",
    "                for _, param in params_atm.items()]\n",
    "    \n",
    "    fpaths_flux = [os.path.join(n, 'output_flux.dat') for n in dirnames]\n",
    "    fpaths_cool = [os.path.join(n, 'output_coolr.dat') for n in dirnames]\n",
    "    \n",
    "    fluxs = [load_output_file(p) for p in fpaths_flux]    \n",
    "    cools = [load_output_file(p) for p in fpaths_cool]\n",
    "    \n",
    "    d = {}\n",
    "    d['flux'] = sum(fluxs)\n",
    "    d['cool'] = sum(cools)\n",
    "    return d\n",
    "\n"
   ]
  },
  {
   "cell_type": "code",
   "execution_count": 379,
   "metadata": {
    "collapsed": true
   },
   "outputs": [],
   "source": [
    "\n",
    "\n",
    "import rtmtools.clirad.sw.wrangle as cliradwrangle\n",
    "\n",
    "import importlib\n",
    "importlib.reload(cliradwrangle)\n",
    "\n",
    "def oldclirad_data_atm():\n",
    "    '''\n",
    "    Load the OLD clirad's results. mls only.\n",
    "    '''\n",
    "    fpath = os.path.join('/chia_cluster/home/jackyu/radiation',\n",
    "                         'clirad-lw',\n",
    "                         'LW',\n",
    "                         'examples',\n",
    "                         'mls75_h2o_atmpro_co2_.0004_o3_atmpro_n2o_3.2e-7_ch4_1.8e-6_H2012',\n",
    "                         'OUTPUT_CLIRAD.dat')\n",
    "    \n",
    "    ds = cliradwrangle.load_OUTPUT_CLIRAD(readfrom=fpath)\n",
    "    \n",
    "    ds_cool = xr.Dataset()\n",
    "    ds_cool.coords['pressure'] = ('pressure', ds['layer_pressure'])\n",
    "    ds_cool.coords['band'] = ('band', ds['spectral_band'])\n",
    "    ds_cool['coolrg'] = (('band', 'pressure'), - ds['heating_rate'])\n",
    "    \n",
    "    ds_flux = xr.Dataset()\n",
    "    ds_flux.coords['pressure'] = ('pressure', ds['level_pressure'])\n",
    "    ds_flux.coords['band'] = ('band', ds['spectral_band'])\n",
    "    ds_flux['flug'] = (('band', 'pressure'), ds['flux_up'])\n",
    "    ds_flux['fldg'] = (('band', 'pressure'), ds['flux_down'])\n",
    "    ds_flux['fnetg'] = (('band', 'pressure'), ds['net_flux'])\n",
    "    \n",
    "    \n",
    "    d = {}\n",
    "    d['cool'] = ds_cool\n",
    "    d['flux'] = ds_flux\n",
    "    return d\n"
   ]
  },
  {
   "cell_type": "code",
   "execution_count": 380,
   "metadata": {
    "collapsed": true
   },
   "outputs": [],
   "source": [
    "def fmt_cool(ds_in):\n",
    "    ds = ds_in.copy(deep=True)\n",
    "    if 'igg' in ds.dims:\n",
    "        ds = ds.sel(igg=1)\n",
    "\n",
    "    if 'g' in ds.dims:\n",
    "        ds = ds.sum('g')\n",
    "            \n",
    "    if 'band' in ds.dims:\n",
    "        try:\n",
    "            ds = ds.squeeze('band')\n",
    "        except ValueError:\n",
    "            ds = ds.sum('band')\n",
    "                \n",
    "    return ds['coolrg']\n",
    "\n",
    "\n",
    "\n",
    "def nice_xlims(pltdata=None, prange=None):\n",
    "    \n",
    "    def get_slice(srs):\n",
    "        return srs.sel(pressure=slice(*prange))\n",
    "    \n",
    "    srss = [d['srs'] for d in pltdata]\n",
    "    vmin = min([get_slice(srs).min() for srs in srss])\n",
    "    vmax = max([get_slice(srs).max() for srs in srss])\n",
    "    dv = (vmax - vmin) * .01\n",
    "    return float(vmin - dv), float(vmax + dv)\n",
    "\n",
    "\n",
    "    \n",
    "def plt_cool_bokeh(pltdata=None, \n",
    "                   y_axis_type='linear', prange=(50, 1050)):\n",
    "    \n",
    "    ymin = 1e-2 \n",
    "    ymax = 1020\n",
    "    \n",
    "    p2 = figure(y_axis_type=y_axis_type, plot_width=300)\n",
    "    xmin, xmax = nice_xlims(pltdata, prange=prange)\n",
    "    \n",
    "    rs = []\n",
    "    for d in pltdata:\n",
    "        rd = []\n",
    "        if 'marker' in d:\n",
    "            r_mark = getattr(p2, d['marker'])(d['srs'].values, \n",
    "                        d['srs'].coords['pressure'].values,\n",
    "                        color=d['color'], alpha=.7)\n",
    "            rd.append(r_mark)\n",
    "        r_line = p2.line(d['srs'].values, \n",
    "                         d['srs'].coords['pressure'].values,\n",
    "                         color=d['color'], alpha=d['alpha'], \n",
    "                         line_width=d['line_width'], \n",
    "                         line_dash=d['line_dash'])\n",
    "        rd.append(r_line)\n",
    "      \n",
    "        rs.append(rd)\n",
    "        \n",
    "    p2.y_range = Range1d(ymax, ymin)  \n",
    "    p2.yaxis.axis_label = 'pressure [mb]'\n",
    "    \n",
    "    p2.x_range = Range1d(xmin, xmax)\n",
    "    p2.xaxis.axis_label = 'cooling rate [K/day]'\n",
    "    \n",
    "    items = [(d['label'], r) for r, d in zip(rs, pltdata)]\n",
    "    legend = Legend(items=items, location=(10, 0))\n",
    "    legend.label_text_font_size = '8pt'\n",
    "    p2.add_layout(legend, 'above')\n",
    "    p2.legend.orientation = 'horizontal'\n",
    "    p2.legend.location = 'top_center'\n",
    "    \n",
    "    return p2"
   ]
  },
  {
   "cell_type": "code",
   "execution_count": 381,
   "metadata": {
    "collapsed": true
   },
   "outputs": [],
   "source": [
    "def pltdata_cool(atmpro='mls'):\n",
    "    \n",
    "    d_clirad_singlerun = clirad_data_atm(\n",
    "        clirad_params_atm_singlerun(atmpro=atmpro))\n",
    "    d_clirad = clirad_data_atm(clirad_params_atm(atmpro=atmpro))\n",
    "    d_crd = crd_data_atm(lblnew_params_atm(atmpro=atmpro))\n",
    "\n",
    "    ds_clirad_singlerun = d_clirad_singlerun['cool']\n",
    "    ds_clirad = d_clirad['cool']\n",
    "    ds_crd = d_crd['cool']\n",
    "\n",
    "    colors = all_palettes['Set1'][4]\n",
    "    \n",
    "    data = [\n",
    "        {'label': 'CLIRAD (single-run)',\n",
    "        'srs': fmt_cool(ds_clirad_singlerun),\n",
    "        'line_dash': 'dashed', 'line_width': 5,\n",
    "        'color': colors[1], 'alpha': .6},\n",
    "        {'label': 'CRD',\n",
    "         'srs': fmt_cool(ds_crd),\n",
    "         'line_dash': 'solid', 'line_width': 1.5,\n",
    "         'marker': 'circle', 'marker_size': 5,\n",
    "         'color': colors[2], 'alpha': 1}\n",
    "    ]\n",
    "#        {'label': 'CLIRAD',\n",
    "#         'srs': fmt_cool(ds_clirad),\n",
    "#         'line_dash': 'dashed', 'line_width': 5,\n",
    "#         'color': colors[0], 'alpha': .6}\n",
    "        \n",
    "\n",
    "    \n",
    "    # include old CLIRAD's results for mls profile\n",
    "    if atmpro == 'mls':\n",
    "        d_oldclirad = oldclirad_data_atm()\n",
    "        ds_oldclirad = d_oldclirad['cool']        \n",
    "        data.append(\n",
    "            {'label': 'old CLIRAD (H2012)',\n",
    "             'srs': fmt_cool(ds_oldclirad),\n",
    "             'line_dash': 'solid', 'line_width': 1.5,\n",
    "             'marker': 'square', 'marker_size': 3,\n",
    "             'color': colors[3], 'alpha': .5})\n",
    "    return data\n",
    "\n",
    "\n",
    "def pltdata_cooldiff(atmpro='mls'):\n",
    "    \n",
    "    d_clirad_singlerun = clirad_data_atm(\n",
    "        clirad_params_atm_singlerun(atmpro=atmpro))\n",
    "    d_clirad = clirad_data_atm(clirad_params_atm(atmpro=atmpro))\n",
    "    d_crd = crd_data_atm(lblnew_params_atm(atmpro=atmpro))\n",
    "    \n",
    "    ds_clirad_singlerun = d_clirad_singlerun['cool']\n",
    "    ds_clirad = d_clirad['cool']\n",
    "    ds_crd = d_crd['cool']\n",
    "    \n",
    "    ds_diff = ds_clirad_singlerun - ds_crd\n",
    "    \n",
    "    colors = all_palettes['Set1'][4]\n",
    "    \n",
    "    data = [\n",
    "        {'label': 'CLIRAD (single-run) - CRD',\n",
    "         'srs': fmt_cool(ds_diff),\n",
    "         'line_dash': 'solid', 'line_width': 1.5, \n",
    "         'marker': 'circle', 'marker_size': 7,\n",
    "         'color': colors[3], 'alpha': .8}\n",
    "    ]\n",
    "    \n",
    "    # include old CLIRAD's results for mls profile\n",
    "    if atmpro == 'mls':\n",
    "        d_oldclirad = oldclirad_data_atm()\n",
    "        ds_oldclirad = d_oldclirad['cool']\n",
    "        ds_oldclirad.coords['pressure'] = ds_crd.coords['pressure']\n",
    "        ds_diff_old = ds_oldclirad.sum('band') - ds_crd.sum('band')\n",
    "        data.append(\n",
    "            {'label': 'old CLIRAD (H2012) - CRD',\n",
    "             'srs': fmt_cool(ds_diff_old),\n",
    "             'line_dash': 'dashed', 'line_width': 4,\n",
    "             'color': colors[1], 'alpha': .5}\n",
    "        )\n",
    "    return data\n",
    "\n",
    "\n",
    "def show_cool(atmpro='mls'):\n",
    "    \n",
    "    data_cool = pltdata_cool(atmpro=atmpro)\n",
    "    p_cool_liny = plt_cool_bokeh(pltdata=data_cool)\n",
    "    p_cool_logy = plt_cool_bokeh(pltdata=data_cool, \n",
    "                                 y_axis_type='log',\n",
    "                                 prange=(.01, 200))\n",
    "    \n",
    "    data_cooldiff = pltdata_cooldiff(atmpro=atmpro)\n",
    "    p_cooldiff_logy = plt_cool_bokeh(pltdata=data_cooldiff,\n",
    "                                     y_axis_type='log',\n",
    "                                     prange=(.01, 200))\n",
    "    \n",
    "    everything = gridplot(p_cool_liny, p_cool_logy, \n",
    "                          p_cooldiff_logy,\n",
    "                          ncols=3)\n",
    "    show(everything)\n",
    "    display.display(\n",
    "        display.Markdown('*FIGURE.* Cooling rates & difference.'))\n",
    "\n",
    "\n",
    "    "
   ]
  },
  {
   "cell_type": "code",
   "execution_count": null,
   "metadata": {
    "collapsed": true
   },
   "outputs": [],
   "source": []
  },
  {
   "cell_type": "code",
   "execution_count": 382,
   "metadata": {
    "collapsed": true,
    "scrolled": false
   },
   "outputs": [],
   "source": [
    "\n",
    "\n",
    "def hist_band_vs_flux(da, title='Title'):\n",
    "       \n",
    "    bands = [str(b.values) for b in da['band']]\n",
    "\n",
    "    source = ColumnDataSource(\n",
    "        data={'band': bands, 'flux': da.values})\n",
    "\n",
    "    p = figure(x_range=bands, title=title)\n",
    "    p.vbar(source=source, x='band', top='flux', width=.9)\n",
    "\n",
    "    p.yaxis.axis_label = 'flux (W m-2)'\n",
    "    p.xaxis.axis_label = 'spectral band'\n",
    "    \n",
    "    return p\n",
    "\n",
    "\n",
    "def show_hist_flux(atmpro='mls'):\n",
    "    ds_crd = crd_data_atm(lblnew_params_atm(atmpro=atmpro))['flux']\n",
    "    ds_clirad = clirad_data_atm(\n",
    "        clirad_params_atm(atmpro=atmpro))['flux']\n",
    "    ds_clirad_singlerun = clirad_data_atm(\n",
    "        clirad_params_atm_singlerun(atmpro=atmpro))['flux']\n",
    "    \n",
    "    ip, varname = 0, 'flug'\n",
    "    da = (ds_clirad_singlerun - ds_crd).isel(pressure=ip)[varname]\n",
    "    p_toa = hist_band_vs_flux(da, \n",
    "        title='TOA flux. CLIRAD (single-run) - CRD.')\n",
    "\n",
    "    ip, varname = -1, 'fldg'\n",
    "    da = (ds_clirad_singlerun - ds_crd).isel(pressure=ip)[varname]\n",
    "    p_sfc = hist_band_vs_flux(da, \n",
    "        title='SFC flux. CLIRAD (single-run) - CRD.')    \n",
    "    \n",
    "    atm_crd = (ds_crd.isel(pressure=0) \n",
    "               - ds_crd.isel(pressure=-1))['fnetg']\n",
    "    atm_clirad_singlerun = (ds_clirad_singlerun.isel(pressure=0) \n",
    "                  - ds_clirad_singlerun.isel(pressure=-1))['fnetg']\n",
    "    da = atm_clirad_singlerun - atm_crd\n",
    "    p_atm = hist_band_vs_flux(da, \n",
    "        title='Atmosphere heating. CLIRAD (single-run) - CRD.')\n",
    "\n",
    "    everything = gridplot(p_toa, p_sfc, p_atm, ncols=3, \n",
    "                          plot_width=300, plot_height=300)\n",
    "    \n",
    "    show(everything)\n",
    "    display.display(\n",
    "        display.Markdown('*FIGURE.* Difference between CLIRAD and CRD'\n",
    "          ' in TOA, SFC and net atmosphere flux,'\n",
    "          ' in each spectral band.'))\n",
    "\n",
    "\n",
    "    \n",
    "def show_tb_flux(atmpro='mls'):\n",
    "    ds_crd = crd_data_atm(lblnew_params_atm(atmpro=atmpro))['flux']\n",
    "    olr_crd = ds_crd['flug'].isel(pressure=0)\n",
    "    sfc_crd = ds_crd['fldg'].isel(pressure=-1)\n",
    "    atm_crd = (ds_crd.isel(pressure=0)\n",
    "               - ds_crd.isel(pressure=-1))['fnetg']\n",
    "    \n",
    "    ds_clirad = clirad_data_atm(\n",
    "        clirad_params_atm(atmpro=atmpro))['flux']\n",
    "    olr_clirad = ds_clirad['flug'].isel(pressure=0)\n",
    "    sfc_clirad = ds_clirad['fldg'].isel(pressure=-1)\n",
    "    atm_clirad = (ds_clirad.isel(pressure=0)\n",
    "                  - ds_clirad.isel(pressure=-1))['fnetg']\n",
    "\n",
    "    ds_clirad_singlerun = clirad_data_atm(\n",
    "        clirad_params_atm_singlerun(atmpro=atmpro))['flux']\n",
    "    olr_clirad_singlerun = ds_clirad_singlerun['flug'].isel(pressure=0)\n",
    "    sfc_clirad_singlerun = ds_clirad_singlerun['fldg'].isel(pressure=-1)\n",
    "    atm_clirad_singlerun = (ds_clirad_singlerun.isel(pressure=0)\n",
    "                  - ds_clirad_singlerun.isel(pressure=-1))['fnetg']\n",
    "    \n",
    "    if atmpro == 'mls':\n",
    "        ds_oldclirad = oldclirad_data_atm()['flux']\n",
    "        ds_oldclirad['pressure'] = ds_crd['pressure']\n",
    "        olr_oldclirad = ds_oldclirad['flug'].isel(pressure=0)\n",
    "        sfc_oldclirad = ds_oldclirad['fldg'].isel(pressure=-1)\n",
    "        atm_oldclirad = (ds_oldclirad.isel(pressure=0)\n",
    "                         - ds_oldclirad.isel(pressure=-1))['fnetg']\n",
    "        \n",
    "    \n",
    "    \n",
    "    df = pd.DataFrame()\n",
    "    df.index.name = 'Sum over bands'\n",
    "    \n",
    "    if atmpro == 'mls':\n",
    "        df.loc['old CLIRAD - CRD', 'OLR flux'] = (olr_oldclirad.sum('band') - olr_crd.sum('band')).values\n",
    "        df.loc['old CLIRAD - CRD', 'SFC flux'] = (sfc_oldclirad.sum('band') - sfc_crd.sum('band')).values\n",
    "        df.loc['old CLIRAD - CRD', 'ATM heating'] = (atm_oldclirad.sum('band') - atm_crd.sum('band')).values\n",
    "    \n",
    "    df.loc['CLIRAD (single-run) - CRD', 'OLR flux'] = (olr_clirad_singlerun - olr_crd).sum('band').values\n",
    "    df.loc['CLIRAD (single-run) - CRD', 'SFC flux'] = (sfc_clirad_singlerun - sfc_crd).sum('band').values\n",
    "    df.loc['CLIRAD (single-run) - CRD', 'ATM heating'] = (atm_clirad_singlerun - atm_crd).sum('band').values\n",
    "\n",
    "    df.loc['CRD', 'OLR flux'] = olr_crd.sum('band').values\n",
    "    df.loc['CRD', 'SFC flux'] = sfc_crd.sum('band').values\n",
    "    df.loc['CRD', 'ATM heating'] = atm_crd.sum('band').values\n",
    "        \n",
    "    df = df.astype('float').round(2)\n",
    "    \n",
    "    display.display(df)\n",
    "    display.display(\n",
    "        display.Markdown('*TABLE.* Difference between CLIRAD and CRD'\n",
    "          ' in TOA, SFC and net atmosphere flux,'\n",
    "          ' over all spectral bands. CRD\\'s'\n",
    "          ' TOA, SFC and net atmosphere flux,'\n",
    "          ' over all spectral bands.'))\n"
   ]
  },
  {
   "cell_type": "code",
   "execution_count": 383,
   "metadata": {
    "scrolled": false
   },
   "outputs": [
    {
     "data": {
      "text/markdown": [
       "## Results over entire range of molecules and spectral bands"
      ],
      "text/plain": [
       "<IPython.core.display.Markdown object>"
      ]
     },
     "metadata": {},
     "output_type": "display_data"
    },
    {
     "data": {
      "text/markdown": [
       "### Table of Contents"
      ],
      "text/plain": [
       "<IPython.core.display.Markdown object>"
      ]
     },
     "metadata": {},
     "output_type": "display_data"
    },
    {
     "data": {
      "text/html": [
       "<a href=\"#Makeup_of_atmosphere.\">Makeup of atmosphere.</a>"
      ],
      "text/plain": [
       "<IPython.core.display.HTML object>"
      ]
     },
     "metadata": {},
     "output_type": "display_data"
    },
    {
     "data": {
      "text/markdown": [
       "**mid-latitude summer**"
      ],
      "text/plain": [
       "<IPython.core.display.Markdown object>"
      ]
     },
     "metadata": {},
     "output_type": "display_data"
    },
    {
     "data": {
      "text/html": [
       "<a href=\"#Cooling_rates._mls.\">Cooling rates. mls.</a>"
      ],
      "text/plain": [
       "<IPython.core.display.HTML object>"
      ]
     },
     "metadata": {},
     "output_type": "display_data"
    },
    {
     "data": {
      "text/html": [
       "<a href=\"#Fluxes._mls.\">Fluxes. mls.</a>"
      ],
      "text/plain": [
       "<IPython.core.display.HTML object>"
      ]
     },
     "metadata": {},
     "output_type": "display_data"
    },
    {
     "data": {
      "text/markdown": [
       "**sub-arctic winter**"
      ],
      "text/plain": [
       "<IPython.core.display.Markdown object>"
      ]
     },
     "metadata": {},
     "output_type": "display_data"
    },
    {
     "data": {
      "text/html": [
       "<a href=\"#Cooling_rates._saw.\">Cooling rates. saw.</a>"
      ],
      "text/plain": [
       "<IPython.core.display.HTML object>"
      ]
     },
     "metadata": {},
     "output_type": "display_data"
    },
    {
     "data": {
      "text/html": [
       "<a href=\"#Fluxes._saw.\">Fluxes. saw.</a>"
      ],
      "text/plain": [
       "<IPython.core.display.HTML object>"
      ]
     },
     "metadata": {},
     "output_type": "display_data"
    },
    {
     "data": {
      "text/markdown": [
       "**tropical**"
      ],
      "text/plain": [
       "<IPython.core.display.Markdown object>"
      ]
     },
     "metadata": {},
     "output_type": "display_data"
    },
    {
     "data": {
      "text/html": [
       "<a href=\"#Cooling_rates._trp.\">Cooling rates. trp.</a>"
      ],
      "text/plain": [
       "<IPython.core.display.HTML object>"
      ]
     },
     "metadata": {},
     "output_type": "display_data"
    },
    {
     "data": {
      "text/html": [
       "<a href=\"#Fluxes._trp.\">Fluxes. trp.</a>"
      ],
      "text/plain": [
       "<IPython.core.display.HTML object>"
      ]
     },
     "metadata": {},
     "output_type": "display_data"
    },
    {
     "data": {
      "text/html": [
       "<a id=\"Makeup_of_atmosphere.\"></a>"
      ],
      "text/plain": [
       "<IPython.core.display.HTML object>"
      ]
     },
     "metadata": {},
     "output_type": "display_data"
    },
    {
     "data": {
      "text/markdown": [
       "# Makeup of atmosphere."
      ],
      "text/plain": [
       "<IPython.core.display.Markdown object>"
      ]
     },
     "metadata": {},
     "output_type": "display_data"
    },
    {
     "data": {
      "text/html": [
       "<div>\n",
       "<style scoped>\n",
       "    .dataframe tbody tr th:only-of-type {\n",
       "        vertical-align: middle;\n",
       "    }\n",
       "\n",
       "    .dataframe tbody tr th {\n",
       "        vertical-align: top;\n",
       "    }\n",
       "\n",
       "    .dataframe thead th {\n",
       "        text-align: right;\n",
       "    }\n",
       "</style>\n",
       "<table border=\"1\" class=\"dataframe\">\n",
       "  <thead>\n",
       "    <tr style=\"text-align: right;\">\n",
       "      <th>clirad band</th>\n",
       "      <th>1</th>\n",
       "      <th>2</th>\n",
       "      <th>3</th>\n",
       "      <th>4</th>\n",
       "      <th>5</th>\n",
       "      <th>6</th>\n",
       "      <th>7</th>\n",
       "      <th>8</th>\n",
       "      <th>9</th>\n",
       "      <th>10</th>\n",
       "      <th>11</th>\n",
       "    </tr>\n",
       "    <tr>\n",
       "      <th>molecule</th>\n",
       "      <th></th>\n",
       "      <th></th>\n",
       "      <th></th>\n",
       "      <th></th>\n",
       "      <th></th>\n",
       "      <th></th>\n",
       "      <th></th>\n",
       "      <th></th>\n",
       "      <th></th>\n",
       "      <th></th>\n",
       "      <th></th>\n",
       "    </tr>\n",
       "  </thead>\n",
       "  <tbody>\n",
       "    <tr>\n",
       "      <th>h2o</th>\n",
       "      <td>atmpro</td>\n",
       "      <td>atmpro</td>\n",
       "      <td>atmpro</td>\n",
       "      <td>atmpro</td>\n",
       "      <td>atmpro</td>\n",
       "      <td>atmpro</td>\n",
       "      <td>atmpro</td>\n",
       "      <td>atmpro</td>\n",
       "      <td>atmpro</td>\n",
       "      <td>atmpro</td>\n",
       "      <td>atmpro</td>\n",
       "    </tr>\n",
       "    <tr>\n",
       "      <th>co2</th>\n",
       "      <td>0</td>\n",
       "      <td>0</td>\n",
       "      <td>0.0004</td>\n",
       "      <td>0.0004</td>\n",
       "      <td>0.0004</td>\n",
       "      <td>0.0004</td>\n",
       "      <td>0.0004</td>\n",
       "      <td>0</td>\n",
       "      <td>0</td>\n",
       "      <td>0</td>\n",
       "      <td>0.0004</td>\n",
       "    </tr>\n",
       "    <tr>\n",
       "      <th>n2o</th>\n",
       "      <td>0</td>\n",
       "      <td>0</td>\n",
       "      <td>3.2e-07</td>\n",
       "      <td>0</td>\n",
       "      <td>0</td>\n",
       "      <td>0</td>\n",
       "      <td>0</td>\n",
       "      <td>0</td>\n",
       "      <td>3.2e-07</td>\n",
       "      <td>0</td>\n",
       "      <td>0</td>\n",
       "    </tr>\n",
       "    <tr>\n",
       "      <th>o3</th>\n",
       "      <td>0</td>\n",
       "      <td>0</td>\n",
       "      <td>0</td>\n",
       "      <td>0</td>\n",
       "      <td>0</td>\n",
       "      <td>0</td>\n",
       "      <td>atmpro</td>\n",
       "      <td>0</td>\n",
       "      <td>0</td>\n",
       "      <td>0</td>\n",
       "      <td>0</td>\n",
       "    </tr>\n",
       "    <tr>\n",
       "      <th>ch4</th>\n",
       "      <td>0</td>\n",
       "      <td>0</td>\n",
       "      <td>0</td>\n",
       "      <td>0</td>\n",
       "      <td>0</td>\n",
       "      <td>0</td>\n",
       "      <td>0</td>\n",
       "      <td>0</td>\n",
       "      <td>1.8e-06</td>\n",
       "      <td>0</td>\n",
       "      <td>0</td>\n",
       "    </tr>\n",
       "  </tbody>\n",
       "</table>\n",
       "</div>"
      ],
      "text/plain": [
       "clirad band      1       2        3       4       5       6       7       8   \\\n",
       "molecule                                                                       \n",
       "h2o          atmpro  atmpro   atmpro  atmpro  atmpro  atmpro  atmpro  atmpro   \n",
       "co2               0       0   0.0004  0.0004  0.0004  0.0004  0.0004       0   \n",
       "n2o               0       0  3.2e-07       0       0       0       0       0   \n",
       "o3                0       0        0       0       0       0  atmpro       0   \n",
       "ch4               0       0        0       0       0       0       0       0   \n",
       "\n",
       "clirad band       9       10      11  \n",
       "molecule                              \n",
       "h2o           atmpro  atmpro  atmpro  \n",
       "co2                0       0  0.0004  \n",
       "n2o          3.2e-07       0       0  \n",
       "o3                 0       0       0  \n",
       "ch4          1.8e-06       0       0  "
      ]
     },
     "metadata": {},
     "output_type": "display_data"
    },
    {
     "data": {
      "text/markdown": [
       "*TABLE.* The makeup of the atmosphere."
      ],
      "text/plain": [
       "<IPython.core.display.Markdown object>"
      ]
     },
     "metadata": {},
     "output_type": "display_data"
    },
    {
     "data": {
      "text/html": [
       "<a id=\"Cooling_rates._mls.\"></a>"
      ],
      "text/plain": [
       "<IPython.core.display.HTML object>"
      ]
     },
     "metadata": {},
     "output_type": "display_data"
    },
    {
     "data": {
      "text/markdown": [
       "# Cooling rates. mls."
      ],
      "text/plain": [
       "<IPython.core.display.Markdown object>"
      ]
     },
     "metadata": {},
     "output_type": "display_data"
    },
    {
     "data": {
      "text/html": [
       "\n",
       "<div class=\"bk-root\">\n",
       "    <div class=\"bk-plotdiv\" id=\"f2a2896a-9987-4d4d-aa0b-dedaf3b821e2\"></div>\n",
       "</div>"
      ]
     },
     "metadata": {},
     "output_type": "display_data"
    },
    {
     "data": {
      "application/javascript": [
       "(function(root) {\n",
       "  function embed_document(root) {\n",
       "    \n",
       "  var docs_json = {\"2ee0d57c-6d73-4c8b-a7dd-5e7c9b785138\":{\"roots\":{\"references\":[{\"attributes\":{},\"id\":\"04513f9b-2090-414e-84fe-31b0957c6b6c\",\"type\":\"LogScale\"},{\"attributes\":{\"line_alpha\":0.8,\"line_color\":\"#984ea3\",\"line_width\":1.5,\"x\":{\"field\":\"x\"},\"y\":{\"field\":\"y\"}},\"id\":\"cb95576f-38ad-43e1-a2f2-cd39a9655f55\",\"type\":\"Line\"},{\"attributes\":{\"dimension\":1,\"plot\":{\"id\":\"e72f4e0a-3bed-4b63-9f1b-16b9fe3ab901\",\"subtype\":\"Figure\",\"type\":\"Plot\"},\"ticker\":{\"id\":\"229d36f4-27fa-4671-96cb-26339f7bae9e\",\"type\":\"LogTicker\"}},\"id\":\"24f565fa-1a4e-44d2-9066-978d43fd219c\",\"type\":\"Grid\"},{\"attributes\":{},\"id\":\"168ccb80-805f-487f-9905-c524e14bdf9e\",\"type\":\"HelpTool\"},{\"attributes\":{\"line_alpha\":0.1,\"line_color\":\"#1f77b4\",\"line_width\":1.5,\"x\":{\"field\":\"x\"},\"y\":{\"field\":\"y\"}},\"id\":\"0eca3196-4146-4860-88c3-f11c9be6e9bb\",\"type\":\"Line\"},{\"attributes\":{},\"id\":\"7cc91bfe-5bbf-43bc-99b6-e82a5ec512bd\",\"type\":\"UnionRenderers\"},{\"attributes\":{},\"id\":\"80dc8dfb-8f9d-449e-b79b-b2046e10774c\",\"type\":\"SaveTool\"},{\"attributes\":{\"overlay\":{\"id\":\"8fff07ed-238b-427d-85b1-d53eb4ce5b1f\",\"type\":\"BoxAnnotation\"}},\"id\":\"3f0670f7-12b6-49c1-9aa1-eca63ed1b71e\",\"type\":\"BoxZoomTool\"},{\"attributes\":{},\"id\":\"e25ab12b-98f9-40b0-8e5d-2acdba111003\",\"type\":\"PanTool\"},{\"attributes\":{\"num_minor_ticks\":10},\"id\":\"229d36f4-27fa-4671-96cb-26339f7bae9e\",\"type\":\"LogTicker\"},{\"attributes\":{},\"id\":\"1ceab0d0-6dd1-4d03-b17f-49db96b5f563\",\"type\":\"Selection\"},{\"attributes\":{\"num_minor_ticks\":10},\"id\":\"69e02471-b513-4ed8-82d1-560c60abee09\",\"type\":\"LogTicker\"},{\"attributes\":{\"callback\":null,\"data\":{\"x\":{\"__ndarray__\":\"PBvZOM5lIcCJDvmsAQcFwOmlQTdLRvg/kAiifYGLDEDLhhXOUmENQKAeKwnKJANAgoPIOxPQ4j/SIX8E4+Xqv4FRjJVYG/a/1Gy9oK6r8b9JYK3GQYvfv12hxjkAQK4/pDQTfXxY2T8Grm2btMveP0Xl0NlK5tM/4nbSsyRbnj94ix09nOrQv5dyjJfCROC/Eg/H1wao4L8+hTwY2NTRv2C1GgnkFFe/OIw+TayEpr+SojpptSTTvz54yN4nuta/+nuqnsgMr7+ilcjqf7XYP+G8WJF6Q9c/jzXXcEjdtj/Yjan/oF2RPy8PYUftW9A/x2LuCfsC1T/4mjbhL3/CPw+XlTlFZaO/zCCYGNsIcb9QtHqvjaKqP+zWNruwBVU/athr71O+rr9WQHhSnzC4v7vyHPLPw7q/6UkZmbYJt79QsmwYKpKxv0RpU9aFirC/cEwb7ihLoL+0jbnqyqq3v2+RmbBDP7m/fDrmXNeprL+YASbh79evv5VTH4uqF7S/VBQ1x+Mxs781vlSzzRGsv5XCPDjy86K/hf7mJJWPmL+SxrDNwciUvwsVcoW1QZS/5MrQNSqwmL+1MMr172iav3RfL+ArkpK/vDDk1nlbZj9w7GRBgEuhP9ZHPl7oS60/DN8ldsberj8yULz7gYGmP4jvNN58+Jc/2DWJQ/NObz+Q46KFxHBnP0TglOJ4eIY/gp1mRBNvoD8vzKYcxrapP2zI86RCeLA/vsCsUKS7sj8WsmX63/GzP9qO5WdntLQ/QnKNvFxetT8nqxWyYtS0Pw==\",\"dtype\":\"float64\",\"shape\":[74]},\"y\":{\"__ndarray__\":\"0r/J27aUSD9r8pTVdD1RP2k7pu7KLlg/wLdEifH1YD8NyLmoccpnPzEjYYSVr3A/203wTdNndz9s2+Z8Z2qAPwg+YeTABoc/DZnh9U8mkD/s6wrHPaeWPy2yne+nxp8/2y1uSEhJpj8MPWL03EKvPyVdjrLZ7LU/BK+WOzPBvj9HPq946pHFP+YffZOmQc4/PGwiMxc41T+Hp1fKMsTdP/8h/fZ14OQ/KjqSy39I7T+ZKhiV1In0P3PXEvJBz/w/vw6cM6I0BECBJsKGp1cMQOJYF7fR4BNAUkmdgCbiG0ADCYofY44jQOauJeSDbitAMEymCkY9M0Db+X5qvPw6QGgibHh67UJAf/s6cM6MSkDNzMzMzHhSQGZmZmZmalhAAAAAAABcXkDNzMzMzCZiQJqZmZmZH2VAZmZmZmYYaEAzMzMzMxFrQAAAAAAACm5AZmZmZmaBcEDNzMzMzP1xQDMzMzMzenNAmpmZmZn2dEAAAAAAAHN2QGZmZmZm73dAzczMzMxreUAzMzMzM+h6QJqZmZmZZHxAAAAAAADhfUBmZmZmZl1/QGZmZmbmbIBAmpmZmRkrgUDNzMzMTOmBQAAAAACAp4JAMzMzM7Nlg0BmZmZm5iOEQJqZmZkZ4oRAzczMzEyghUAAAAAAgF6GQDMzMzOzHIdAZmZmZubah0CamZmZGZmIQM3MzMxMV4lAAAAAAIAVikAzMzMzs9OKQGZmZmbmkYtAmpmZmRlQjEDNzMzMTA6NQAAAAACAzI1AMzMzM7OKjkBmZmZm5kiPQA==\",\"dtype\":\"float64\",\"shape\":[74]}},\"selected\":{\"id\":\"bb31ff83-7b25-4484-a8f6-a8869b65d50e\",\"type\":\"Selection\"},\"selection_policy\":{\"id\":\"4e659a75-09aa-4426-aca5-83b93466c19d\",\"type\":\"UnionRenderers\"}},\"id\":\"bbe059af-5d5d-4b14-9ead-727efb04ee9d\",\"type\":\"ColumnDataSource\"},{\"attributes\":{\"overlay\":{\"id\":\"38181a5e-957a-4aa1-a425-ba79930fb443\",\"type\":\"BoxAnnotation\"}},\"id\":\"f1dbc47e-137c-4335-a086-0a57920b5684\",\"type\":\"BoxZoomTool\"},{\"attributes\":{\"data_source\":{\"id\":\"bbe059af-5d5d-4b14-9ead-727efb04ee9d\",\"type\":\"ColumnDataSource\"},\"glyph\":{\"id\":\"cb95576f-38ad-43e1-a2f2-cd39a9655f55\",\"type\":\"Line\"},\"hover_glyph\":null,\"muted_glyph\":null,\"nonselection_glyph\":{\"id\":\"0eca3196-4146-4860-88c3-f11c9be6e9bb\",\"type\":\"Line\"},\"selection_glyph\":null,\"view\":{\"id\":\"f5806f87-78ce-4182-a74e-7bb4e8b2af18\",\"type\":\"CDSView\"}},\"id\":\"4acbfe7d-581d-4ca5-b72c-ab02f6d18694\",\"type\":\"GlyphRenderer\"},{\"attributes\":{},\"id\":\"f53efaa5-9bf2-4451-ad3a-4f5c737d805c\",\"type\":\"Selection\"},{\"attributes\":{\"axis_label\":\"cooling rate [K/day]\",\"formatter\":{\"id\":\"d63e13da-ecf6-4891-9409-b0887054bf09\",\"type\":\"BasicTickFormatter\"},\"plot\":{\"id\":\"1eaff964-da48-4a33-994d-923a81c4a817\",\"subtype\":\"Figure\",\"type\":\"Plot\"},\"ticker\":{\"id\":\"381dd361-2349-4387-9752-02578a6d701e\",\"type\":\"BasicTicker\"}},\"id\":\"eac0fae7-39d2-44b8-92e4-7bc48ab8f27c\",\"type\":\"LinearAxis\"},{\"attributes\":{\"items\":[{\"id\":\"e10bec44-6ad9-495b-96c2-785324c57a33\",\"type\":\"LegendItem\"},{\"id\":\"b3b86306-97f0-47a9-914b-8dda5492906b\",\"type\":\"LegendItem\"},{\"id\":\"3c8b9bfc-2011-49a6-a283-af9c1aa0aebf\",\"type\":\"LegendItem\"}],\"label_text_font_size\":{\"value\":\"8pt\"},\"location\":\"top_center\",\"orientation\":\"horizontal\",\"plot\":{\"id\":\"1eaff964-da48-4a33-994d-923a81c4a817\",\"subtype\":\"Figure\",\"type\":\"Plot\"}},\"id\":\"a9a615a6-d9c2-40bc-9635-6d9416522831\",\"type\":\"Legend\"},{\"attributes\":{\"plot\":null,\"text\":\"\"},\"id\":\"f55169e7-e222-49e3-868c-f0c36f144e4d\",\"type\":\"Title\"},{\"attributes\":{\"source\":{\"id\":\"bbe059af-5d5d-4b14-9ead-727efb04ee9d\",\"type\":\"ColumnDataSource\"}},\"id\":\"f5806f87-78ce-4182-a74e-7bb4e8b2af18\",\"type\":\"CDSView\"},{\"attributes\":{},\"id\":\"a417f751-1a9b-4940-b213-5f7008c8ab3c\",\"type\":\"BasicTickFormatter\"},{\"attributes\":{\"callback\":null,\"end\":0.01,\"start\":1020},\"id\":\"bbbfedc5-bc3b-4858-ab17-21f456cc703b\",\"type\":\"Range1d\"},{\"attributes\":{\"source\":{\"id\":\"76eab29b-b0b7-45a5-a2fd-f19c65926fda\",\"type\":\"ColumnDataSource\"}},\"id\":\"3019a96c-bb62-4292-bedb-948abe6ccc0a\",\"type\":\"CDSView\"},{\"attributes\":{},\"id\":\"ad68e7ff-e169-4615-b98b-81ffa0247daa\",\"type\":\"ResetTool\"},{\"attributes\":{\"bottom_units\":\"screen\",\"fill_alpha\":{\"value\":0.5},\"fill_color\":{\"value\":\"lightgrey\"},\"left_units\":\"screen\",\"level\":\"overlay\",\"line_alpha\":{\"value\":1.0},\"line_color\":{\"value\":\"black\"},\"line_dash\":[4,4],\"line_width\":{\"value\":2},\"plot\":null,\"render_mode\":\"css\",\"right_units\":\"screen\",\"top_units\":\"screen\"},\"id\":\"8fff07ed-238b-427d-85b1-d53eb4ce5b1f\",\"type\":\"BoxAnnotation\"},{\"attributes\":{},\"id\":\"36510265-469f-46c1-b374-3bfc679936b3\",\"type\":\"LinearScale\"},{\"attributes\":{\"ticker\":null},\"id\":\"08f323c4-c9e6-42fb-ad77-fec48d27a85c\",\"type\":\"LogTickFormatter\"},{\"attributes\":{\"data_source\":{\"id\":\"76eab29b-b0b7-45a5-a2fd-f19c65926fda\",\"type\":\"ColumnDataSource\"},\"glyph\":{\"id\":\"2c913915-afee-411c-aead-512b5b26933a\",\"type\":\"Circle\"},\"hover_glyph\":null,\"muted_glyph\":null,\"nonselection_glyph\":{\"id\":\"9d815422-e39b-4772-aec8-98832189cc22\",\"type\":\"Circle\"},\"selection_glyph\":null,\"view\":{\"id\":\"3019a96c-bb62-4292-bedb-948abe6ccc0a\",\"type\":\"CDSView\"}},\"id\":\"21c1fd48-9c8b-4f43-bce4-0d8c7a9e4437\",\"type\":\"GlyphRenderer\"},{\"attributes\":{},\"id\":\"a4bc150e-0033-4885-966f-01ccf9ab28ad\",\"type\":\"LinearScale\"},{\"attributes\":{\"active_drag\":\"auto\",\"active_inspect\":\"auto\",\"active_scroll\":\"auto\",\"active_tap\":\"auto\",\"tools\":[{\"id\":\"a90e8ac2-7392-4e3c-8e9d-d76eb484bb4c\",\"type\":\"PanTool\"},{\"id\":\"c43e26f3-7ebc-4bb1-beda-4a810c7f554a\",\"type\":\"WheelZoomTool\"},{\"id\":\"3f0670f7-12b6-49c1-9aa1-eca63ed1b71e\",\"type\":\"BoxZoomTool\"},{\"id\":\"80dc8dfb-8f9d-449e-b79b-b2046e10774c\",\"type\":\"SaveTool\"},{\"id\":\"ad68e7ff-e169-4615-b98b-81ffa0247daa\",\"type\":\"ResetTool\"},{\"id\":\"168ccb80-805f-487f-9905-c524e14bdf9e\",\"type\":\"HelpTool\"}]},\"id\":\"b4145347-8117-4446-86d1-aac3d741d43a\",\"type\":\"Toolbar\"},{\"attributes\":{\"source\":{\"id\":\"8977dd25-bd2e-4c9b-ac32-a5d0c68b6673\",\"type\":\"ColumnDataSource\"}},\"id\":\"cacb9ffb-ea67-46b9-a694-7a8be8e801e5\",\"type\":\"CDSView\"},{\"attributes\":{\"label\":{\"value\":\"old CLIRAD (H2012)\"},\"renderers\":[{\"id\":\"ceec423d-22e5-4e18-b973-b8f2855d7b03\",\"type\":\"GlyphRenderer\"},{\"id\":\"4585aeba-c8d1-4382-ad41-c8a6da9f98ea\",\"type\":\"GlyphRenderer\"}]},\"id\":\"3c8b9bfc-2011-49a6-a283-af9c1aa0aebf\",\"type\":\"LegendItem\"},{\"attributes\":{\"callback\":null,\"data\":{\"x\":{\"__ndarray__\":\"BPuz262hRUD1g8JaPelCQPv3GB6DuUFAhg9FhZ0aQECPbyNHiwQ8QCSvBVjNDzdAy9bjz2rKMUDQXb4lUMApQDN0Gfa/ByJA8AjV9PoiGkDvu/Wb+tQUQJNEiucRsBFAsa3lOeFADUDhK0qLUIoDQNecNFQA4PU/w6YRJ4F6+j/cyQIp9SkFQBnfiarrBwtAcdqW0EreEECn2/yDtxYWQOnQgo9N/x1AiMMZTXzXJECiemqEpdAqQMe+qpMoASpAZOTAdGBTJEDpikcZ2UogQIll6W7DZhtAe2VW3rIEFkAzgmpnkiQRQKjTvV/U0wtAcqqcYNj3B0DknV5JtLgCQA5W+W3q3fk/U1s+ID0e8T8pLRzymjHnP9ZKFUJPbts/aqtyISJGzD+VHlLEqyS/P1ZfYF91oKW/1GxCu/oByr/IoQS2hPiMv1c+mEtboec/qmtS8q9v9z/f3n8sRxAAQP8QrLPkkQFAtRAaAZkBAECF4DWAlDr+PxNqnleTGv0/cVcop6lk/D94GAULKDf8P72WjnwQVPw/mAC3f0ns+z8v+iIIYXL7PzXs/sc+CPs/Ng1AWee++j+G9FgNIor6PwvP/ew2ifo/R5p3mTOg+z+11Qym6oH8PxM5RUrhBP0/RPrJt4cE/T/3gFBJY2X8P/RN9QjXTvs/ZfiWDNwe+j93a/6AzAj5P9OJ6kfodvg//F85OJRG+D8Iz6J840H4P1Tl6OJQvvc/B+PtavWu9j9tXzMF2n31P5n0wBZekvQ/jB7OdFUa9D/ip0UTHE30P7qnJwNy9/o/\",\"dtype\":\"float64\",\"shape\":[75]},\"y\":{\"__ndarray__\":\"S/O/Q+51ND/Sv8nbtpRIP2vylNV0PVE/aTum7souWD/At0SJ8fVgPw3Iuahxymc/MSNhhJWvcD/bTfBN02d3P2zb5nxnaoA/CD5h5MAGhz8NmeH1TyaQP+zrCsc9p5Y/LbKd76fGnz/bLW5ISEmmPww9YvTcQq8/JV2OstnstT8Er5Y7M8G+P0c+r3jqkcU/5h99k6ZBzj88bCIzFzjVP4enV8oyxN0//yH99nXg5D8qOpLLf0jtP5kqGJXUifQ/c9cS8kHP/D+/DpwzojQEQIEmwoanVwxA4lgXt9HgE0BSSZ2AJuIbQAMJih9jjiNA5q4l5INuK0AwTKYKRj0zQNv5fmq8/DpAaCJseHrtQkB/+zpwzoxKQM3MzMzMeFJAZmZmZmZqWEAAAAAAAFxeQM3MzMzMJmJAmpmZmZkfZUBmZmZmZhhoQDMzMzMzEWtAAAAAAAAKbkBmZmZmZoFwQM3MzMzM/XFAMzMzMzN6c0CamZmZmfZ0QAAAAAAAc3ZAZmZmZmbvd0DNzMzMzGt5QDMzMzMz6HpAmpmZmZlkfEAAAAAAAOF9QGZmZmZmXX9AZmZmZuZsgECamZmZGSuBQM3MzMxM6YFAAAAAAICngkAzMzMzs2WDQGZmZmbmI4RAmpmZmRnihEDNzMzMTKCFQAAAAACAXoZAMzMzM7Mch0BmZmZm5tqHQJqZmZkZmYhAzczMzExXiUAAAAAAgBWKQDMzMzOz04pAZmZmZuaRi0CamZmZGVCMQM3MzMxMDo1AAAAAAIDMjUAzMzMzs4qOQGZmZmbmSI9A\",\"dtype\":\"float64\",\"shape\":[75]}},\"selected\":{\"id\":\"21c7d80b-33f6-4788-abae-51a93d9967af\",\"type\":\"Selection\"},\"selection_policy\":{\"id\":\"d6196119-b943-4f0d-894e-e775b269b2e9\",\"type\":\"UnionRenderers\"}},\"id\":\"4f19f888-5734-4f03-9b83-a3de3914f4b9\",\"type\":\"ColumnDataSource\"},{\"attributes\":{\"label\":{\"value\":\"CRD\"},\"renderers\":[{\"id\":\"b05c0d9d-55d8-44d1-bf8e-e0fefc414d53\",\"type\":\"GlyphRenderer\"},{\"id\":\"f8400292-fb01-496e-9191-4f9bfce7a5da\",\"type\":\"GlyphRenderer\"}]},\"id\":\"dd3d5ee9-7e81-4676-9fdb-905e0a3e6e36\",\"type\":\"LegendItem\"},{\"attributes\":{\"fill_alpha\":{\"value\":0.7},\"fill_color\":{\"value\":\"#984ea3\"},\"line_alpha\":{\"value\":0.7},\"line_color\":{\"value\":\"#984ea3\"},\"x\":{\"field\":\"x\"},\"y\":{\"field\":\"y\"}},\"id\":\"6dc2259d-2ebb-431c-81bd-debae825c4cc\",\"type\":\"Square\"},{\"attributes\":{\"fill_alpha\":{\"value\":0.1},\"fill_color\":{\"value\":\"#1f77b4\"},\"line_alpha\":{\"value\":0.1},\"line_color\":{\"value\":\"#1f77b4\"},\"x\":{\"field\":\"x\"},\"y\":{\"field\":\"y\"}},\"id\":\"144c2d85-cb71-46a1-bbbb-14b0f22df795\",\"type\":\"Square\"},{\"attributes\":{\"callback\":null,\"end\":0.7323360194662635,\"start\":-1.576281364019664},\"id\":\"4221bbf6-1256-4e46-b87b-a8bc2e79b625\",\"type\":\"Range1d\"},{\"attributes\":{\"data_source\":{\"id\":\"5a83c9b2-006b-44b1-84d2-9519f8a5fbab\",\"type\":\"ColumnDataSource\"},\"glyph\":{\"id\":\"e8092cdd-7fc6-43dd-a246-bb51e05ff795\",\"type\":\"Line\"},\"hover_glyph\":null,\"muted_glyph\":null,\"nonselection_glyph\":{\"id\":\"032f728c-cd46-4248-ad09-3d4670622c7d\",\"type\":\"Line\"},\"selection_glyph\":null,\"view\":{\"id\":\"021c4b90-acb1-4c9c-aa73-7be2b2aca81b\",\"type\":\"CDSView\"}},\"id\":\"4585aeba-c8d1-4382-ad41-c8a6da9f98ea\",\"type\":\"GlyphRenderer\"},{\"attributes\":{},\"id\":\"01266fe5-d146-44c8-af39-1d90fd7dabed\",\"type\":\"LinearScale\"},{\"attributes\":{\"axis_label\":\"cooling rate [K/day]\",\"formatter\":{\"id\":\"b7ed7fa0-d9aa-486c-bdcf-eb0d71cf5114\",\"type\":\"BasicTickFormatter\"},\"plot\":{\"id\":\"d8d89392-fc36-4c4d-9676-0601b85245e6\",\"subtype\":\"Figure\",\"type\":\"Plot\"},\"ticker\":{\"id\":\"13de504c-c276-4a71-b0e5-7a94f81a113c\",\"type\":\"BasicTicker\"}},\"id\":\"d6ba265c-2c48-4f6d-9ba1-41069eea0a00\",\"type\":\"LinearAxis\"},{\"attributes\":{\"line_alpha\":0.1,\"line_color\":\"#1f77b4\",\"line_width\":1.5,\"x\":{\"field\":\"x\"},\"y\":{\"field\":\"y\"}},\"id\":\"2fe8d9a3-0d29-4d2d-ad26-ad18e2e234fc\",\"type\":\"Line\"},{\"attributes\":{\"tools\":[{\"id\":\"9868473e-865a-4b17-8be1-320ada6669f2\",\"type\":\"PanTool\"},{\"id\":\"e80a8ba7-1394-46ae-86f4-08d6787e1cd0\",\"type\":\"WheelZoomTool\"},{\"id\":\"5710acc5-bffa-4dbf-b94b-633b3912279f\",\"type\":\"BoxZoomTool\"},{\"id\":\"2710b98c-38a9-4df6-9526-a21edc679efa\",\"type\":\"SaveTool\"},{\"id\":\"d1a6f0b2-0eba-4a75-bcff-cbfc118f27ca\",\"type\":\"ResetTool\"},{\"id\":\"589bdcaa-425e-462c-b303-ff7192e9ba52\",\"type\":\"HelpTool\"},{\"id\":\"a90e8ac2-7392-4e3c-8e9d-d76eb484bb4c\",\"type\":\"PanTool\"},{\"id\":\"c43e26f3-7ebc-4bb1-beda-4a810c7f554a\",\"type\":\"WheelZoomTool\"},{\"id\":\"3f0670f7-12b6-49c1-9aa1-eca63ed1b71e\",\"type\":\"BoxZoomTool\"},{\"id\":\"80dc8dfb-8f9d-449e-b79b-b2046e10774c\",\"type\":\"SaveTool\"},{\"id\":\"ad68e7ff-e169-4615-b98b-81ffa0247daa\",\"type\":\"ResetTool\"},{\"id\":\"168ccb80-805f-487f-9905-c524e14bdf9e\",\"type\":\"HelpTool\"},{\"id\":\"e25ab12b-98f9-40b0-8e5d-2acdba111003\",\"type\":\"PanTool\"},{\"id\":\"dd264b48-e26c-4d30-aac4-d0276f0c8c75\",\"type\":\"WheelZoomTool\"},{\"id\":\"f1dbc47e-137c-4335-a086-0a57920b5684\",\"type\":\"BoxZoomTool\"},{\"id\":\"f0297a6d-69cb-47f7-ae99-ae3c8f0b2701\",\"type\":\"SaveTool\"},{\"id\":\"9ba73c26-252a-4778-bafe-a4ab849ec171\",\"type\":\"ResetTool\"},{\"id\":\"e84690ec-5fc6-4d01-b598-e06a1492cae1\",\"type\":\"HelpTool\"}]},\"id\":\"c514461c-c1f5-4918-9899-53a2f0f877dc\",\"type\":\"ProxyToolbar\"},{\"attributes\":{\"label\":{\"value\":\"CLIRAD (single-run)\"},\"renderers\":[{\"id\":\"89d1a811-7f89-455e-89f8-558087dc79dd\",\"type\":\"GlyphRenderer\"}]},\"id\":\"e10bec44-6ad9-495b-96c2-785324c57a33\",\"type\":\"LegendItem\"},{\"attributes\":{\"callback\":null,\"data\":{\"x\":{\"__ndarray__\":\"MXhf+wfXU0AZbvNjswdFQLQWsEQVdUFA5TlpnhT9QUB/x1dOYK05QImjxHmcEjZA9jYDSBB3L0AISPl4H6wqQBPuuwfAzyJAOcHprUZAIUB7WWpkesAXQJoT1Uq+ChVArO/8u0EXCkBgVNlshzgCQMeNQ+Nzu/I/POwv1Qzh+D9QxMRmcj8DQOrE7tC4mAxAQsLBRIlHEkAi4cPYoDEXQEeDpjRjzB1ASZ0GEfCuI0DVFj11sssnQOMiVKSMHyhAWRHvUxNoJEDo8cjD4g8gQLGGvR2NDRpAdpI3nV5oFECtyWH9Lp4QQIZQd9bvmwtAkshlnu1BBkBMysnQf1UAQHZJU/DYZ/c/HoEhV+G48T/rSm4vc/TmP3EgV4cD49g/xmy6+4w7zz+bEsjh3uDDPw5SRMRogKs/4GPKdPc1a78lazVXN1vCP/B84ODeUug/LOyxgXDV9z+/DBHyZAwAQAOIY+fy/QFAahF3XKCUAECV0GHvGsz+P+X4k4Nhvf0/RO/IqI98/T8rkW+v/zT9P59vGMDsAv0/zEX7plCY/D/E3siS8kj7P2yUMv+hDvs/RmrXDaYs+z+c9f5GCO36P58nVCbr7vo/Qus8hbcy/D+rD5hFMCf9P4t6dxofnPw/bRp4QYZ2/D/q8NNiN2b8P5YTVw9ESPw/l1Dy0X/K+j+WKih3ZdD5P2k8OYxHjvk/hceGh5N4+T8lpPahWSn5P6vJnePt4vY/UuhmxnXI9T8miFqdE+D0Pz7qfx5CR/Q/0khvq2US9D9LfVdHQGv0P9syeEmwYfg/\",\"dtype\":\"float64\",\"shape\":[75]},\"y\":{\"__ndarray__\":\"hLndy31yND/6fmq8dJNIP8n9DkWBPlE/aDum7souWD/b4a/JGvVgP9f34SAhymc/ZvM4DOavcD+z0M5pFmh3PxuC4zJuaoA/xjcUPlsHhz8uHAjJAiaQP9ieWRKgppY/oI7HDFTGnz+a5h2n6EimPzS6g9iZQq8/IuAQqtTstT9SSZ2AJsK+P4nS3uALk8U/ih9j7lpCzj+ASL99HTjVP4enV8oyxN0/ACL99nXg5D9fmEwVjErtPyUGgZVDi/Q/AiuHFtnO/D9OYhBYOTQEQPHSTWIQWAxA4XoUrkfhE0D8qfHSTeIbQMh2vp8ajyNArkfhehRuK0Bcj8L1KDwzQFyPwvUo/DpAPgrXo3DtQkDNzMzMzIxKQClcj8L1eFJAKVyPwvVoWECamZmZmVleQGZmZmZmJmJAAAAAAAAgZUCamZmZmRloQJqZmZmZEWtAmpmZmZkJbkCamZmZmYFwQGZmZmZm/nFAZmZmZmZ6c0BmZmZmZvZ0QDQzMzMzc3ZAAAAAAADwd0AAAAAAAGx5QAAAAAAA6HpAzMzMzMxkfEDMzMzMzOB9QM3MzMzMXH9AzczMzMxsgEAzMzMzMyuBQDMzMzMz6YFAMzMzMzOngkCamZmZmWWDQAAAAAAAJIRAAAAAAADihEAAAAAAAKCFQGZmZmZmXoZAzczMzMwch0DNzMzMzNqHQM3MzMzMmIhAMzMzMzNXiUCamZmZmRWKQAAAAAAA1IpAAAAAAACSi0AAAAAAAFCMQGZmZmZmDo1AzczMzMzMjUDNzMzMzIqOQM3MzMzMSI9A\",\"dtype\":\"float64\",\"shape\":[75]}},\"selected\":{\"id\":\"732867aa-1679-40fe-bc1f-5f56f0d20b07\",\"type\":\"Selection\"},\"selection_policy\":{\"id\":\"4cb5ffe4-84da-42b9-b2c5-f2f1839b3c75\",\"type\":\"UnionRenderers\"}},\"id\":\"ad311781-6bc2-4ce3-bc2c-99a5a655747f\",\"type\":\"ColumnDataSource\"},{\"attributes\":{\"source\":{\"id\":\"8c841b08-3ad7-40de-b364-2682249ded9a\",\"type\":\"ColumnDataSource\"}},\"id\":\"11ac77de-75da-406a-8b7f-3d245df6b9f9\",\"type\":\"CDSView\"},{\"attributes\":{\"data_source\":{\"id\":\"ad311781-6bc2-4ce3-bc2c-99a5a655747f\",\"type\":\"ColumnDataSource\"},\"glyph\":{\"id\":\"6dc2259d-2ebb-431c-81bd-debae825c4cc\",\"type\":\"Square\"},\"hover_glyph\":null,\"muted_glyph\":null,\"nonselection_glyph\":{\"id\":\"144c2d85-cb71-46a1-bbbb-14b0f22df795\",\"type\":\"Square\"},\"selection_glyph\":null,\"view\":{\"id\":\"a7c12669-64fc-45bb-8622-ec75f5be13f4\",\"type\":\"CDSView\"}},\"id\":\"030b4a9e-43b5-4760-855a-e45449528537\",\"type\":\"GlyphRenderer\"},{\"attributes\":{\"active_drag\":\"auto\",\"active_inspect\":\"auto\",\"active_scroll\":\"auto\",\"active_tap\":\"auto\",\"tools\":[{\"id\":\"e25ab12b-98f9-40b0-8e5d-2acdba111003\",\"type\":\"PanTool\"},{\"id\":\"dd264b48-e26c-4d30-aac4-d0276f0c8c75\",\"type\":\"WheelZoomTool\"},{\"id\":\"f1dbc47e-137c-4335-a086-0a57920b5684\",\"type\":\"BoxZoomTool\"},{\"id\":\"f0297a6d-69cb-47f7-ae99-ae3c8f0b2701\",\"type\":\"SaveTool\"},{\"id\":\"9ba73c26-252a-4778-bafe-a4ab849ec171\",\"type\":\"ResetTool\"},{\"id\":\"e84690ec-5fc6-4d01-b598-e06a1492cae1\",\"type\":\"HelpTool\"}]},\"id\":\"5cf0f003-113c-4466-8610-27a44c128f63\",\"type\":\"Toolbar\"},{\"attributes\":{},\"id\":\"9868473e-865a-4b17-8be1-320ada6669f2\",\"type\":\"PanTool\"},{\"attributes\":{\"overlay\":{\"id\":\"22213f42-5134-4d57-a80d-9118dd06e534\",\"type\":\"BoxAnnotation\"}},\"id\":\"5710acc5-bffa-4dbf-b94b-633b3912279f\",\"type\":\"BoxZoomTool\"},{\"attributes\":{\"callback\":null,\"end\":0.01,\"start\":1020},\"id\":\"ccb314e8-755b-4c99-b567-a14cedb90f4f\",\"type\":\"Range1d\"},{\"attributes\":{},\"id\":\"2710b98c-38a9-4df6-9526-a21edc679efa\",\"type\":\"SaveTool\"},{\"attributes\":{\"items\":[{\"id\":\"3188920b-1ac3-4ca6-bf1d-241b69d08bc3\",\"type\":\"LegendItem\"},{\"id\":\"dd3d5ee9-7e81-4676-9fdb-905e0a3e6e36\",\"type\":\"LegendItem\"},{\"id\":\"1e251f99-06c7-4358-a088-83c078cccca4\",\"type\":\"LegendItem\"}],\"label_text_font_size\":{\"value\":\"8pt\"},\"location\":\"top_center\",\"orientation\":\"horizontal\",\"plot\":{\"id\":\"e72f4e0a-3bed-4b63-9f1b-16b9fe3ab901\",\"subtype\":\"Figure\",\"type\":\"Plot\"}},\"id\":\"c8e6f8d3-7622-4a30-87f9-7bcfd55e3173\",\"type\":\"Legend\"},{\"attributes\":{\"data_source\":{\"id\":\"8977dd25-bd2e-4c9b-ac32-a5d0c68b6673\",\"type\":\"ColumnDataSource\"},\"glyph\":{\"id\":\"7a01fc58-29ef-41a9-a101-f9b4f1ab2b3b\",\"type\":\"Line\"},\"hover_glyph\":null,\"muted_glyph\":null,\"nonselection_glyph\":{\"id\":\"2fe8d9a3-0d29-4d2d-ad26-ad18e2e234fc\",\"type\":\"Line\"},\"selection_glyph\":null,\"view\":{\"id\":\"cacb9ffb-ea67-46b9-a694-7a8be8e801e5\",\"type\":\"CDSView\"}},\"id\":\"f8400292-fb01-496e-9191-4f9bfce7a5da\",\"type\":\"GlyphRenderer\"},{\"attributes\":{\"line_alpha\":0.5,\"line_color\":\"#984ea3\",\"line_width\":1.5,\"x\":{\"field\":\"x\"},\"y\":{\"field\":\"y\"}},\"id\":\"d18c2112-9ad5-4e66-9891-9d3df47e3412\",\"type\":\"Line\"},{\"attributes\":{\"children\":[{\"id\":\"1eaff964-da48-4a33-994d-923a81c4a817\",\"subtype\":\"Figure\",\"type\":\"Plot\"},{\"id\":\"e72f4e0a-3bed-4b63-9f1b-16b9fe3ab901\",\"subtype\":\"Figure\",\"type\":\"Plot\"},{\"id\":\"d8d89392-fc36-4c4d-9676-0601b85245e6\",\"subtype\":\"Figure\",\"type\":\"Plot\"}]},\"id\":\"02e18fe7-8f6d-42ca-9c47-cce68ca5246e\",\"type\":\"Row\"},{\"attributes\":{\"source\":{\"id\":\"5a83c9b2-006b-44b1-84d2-9519f8a5fbab\",\"type\":\"ColumnDataSource\"}},\"id\":\"021c4b90-acb1-4c9c-aa73-7be2b2aca81b\",\"type\":\"CDSView\"},{\"attributes\":{\"callback\":null,\"data\":{\"x\":{\"__ndarray__\":\"MXhf+wfXU0AZbvNjswdFQLQWsEQVdUFA5TlpnhT9QUB/x1dOYK05QImjxHmcEjZA9jYDSBB3L0AISPl4H6wqQBPuuwfAzyJAOcHprUZAIUB7WWpkesAXQJoT1Uq+ChVArO/8u0EXCkBgVNlshzgCQMeNQ+Nzu/I/POwv1Qzh+D9QxMRmcj8DQOrE7tC4mAxAQsLBRIlHEkAi4cPYoDEXQEeDpjRjzB1ASZ0GEfCuI0DVFj11sssnQOMiVKSMHyhAWRHvUxNoJEDo8cjD4g8gQLGGvR2NDRpAdpI3nV5oFECtyWH9Lp4QQIZQd9bvmwtAkshlnu1BBkBMysnQf1UAQHZJU/DYZ/c/HoEhV+G48T/rSm4vc/TmP3EgV4cD49g/xmy6+4w7zz+bEsjh3uDDPw5SRMRogKs/4GPKdPc1a78lazVXN1vCP/B84ODeUug/LOyxgXDV9z+/DBHyZAwAQAOIY+fy/QFAahF3XKCUAECV0GHvGsz+P+X4k4Nhvf0/RO/IqI98/T8rkW+v/zT9P59vGMDsAv0/zEX7plCY/D/E3siS8kj7P2yUMv+hDvs/RmrXDaYs+z+c9f5GCO36P58nVCbr7vo/Qus8hbcy/D+rD5hFMCf9P4t6dxofnPw/bRp4QYZ2/D/q8NNiN2b8P5YTVw9ESPw/l1Dy0X/K+j+WKih3ZdD5P2k8OYxHjvk/hceGh5N4+T8lpPahWSn5P6vJnePt4vY/UuhmxnXI9T8miFqdE+D0Pz7qfx5CR/Q/0khvq2US9D9LfVdHQGv0P9syeEmwYfg/\",\"dtype\":\"float64\",\"shape\":[75]},\"y\":{\"__ndarray__\":\"hLndy31yND/6fmq8dJNIP8n9DkWBPlE/aDum7souWD/b4a/JGvVgP9f34SAhymc/ZvM4DOavcD+z0M5pFmh3PxuC4zJuaoA/xjcUPlsHhz8uHAjJAiaQP9ieWRKgppY/oI7HDFTGnz+a5h2n6EimPzS6g9iZQq8/IuAQqtTstT9SSZ2AJsK+P4nS3uALk8U/ih9j7lpCzj+ASL99HTjVP4enV8oyxN0/ACL99nXg5D9fmEwVjErtPyUGgZVDi/Q/AiuHFtnO/D9OYhBYOTQEQPHSTWIQWAxA4XoUrkfhE0D8qfHSTeIbQMh2vp8ajyNArkfhehRuK0Bcj8L1KDwzQFyPwvUo/DpAPgrXo3DtQkDNzMzMzIxKQClcj8L1eFJAKVyPwvVoWECamZmZmVleQGZmZmZmJmJAAAAAAAAgZUCamZmZmRloQJqZmZmZEWtAmpmZmZkJbkCamZmZmYFwQGZmZmZm/nFAZmZmZmZ6c0BmZmZmZvZ0QDQzMzMzc3ZAAAAAAADwd0AAAAAAAGx5QAAAAAAA6HpAzMzMzMxkfEDMzMzMzOB9QM3MzMzMXH9AzczMzMxsgEAzMzMzMyuBQDMzMzMz6YFAMzMzMzOngkCamZmZmWWDQAAAAAAAJIRAAAAAAADihEAAAAAAAKCFQGZmZmZmXoZAzczMzMwch0DNzMzMzNqHQM3MzMzMmIhAMzMzMzNXiUCamZmZmRWKQAAAAAAA1IpAAAAAAACSi0AAAAAAAFCMQGZmZmZmDo1AzczMzMzMjUDNzMzMzIqOQM3MzMzMSI9A\",\"dtype\":\"float64\",\"shape\":[75]}},\"selected\":{\"id\":\"8d32abff-9e98-46f6-9b85-f51014bd461a\",\"type\":\"Selection\"},\"selection_policy\":{\"id\":\"e024b050-6b08-40c6-98f1-6fcb06fa4e31\",\"type\":\"UnionRenderers\"}},\"id\":\"8c841b08-3ad7-40de-b364-2682249ded9a\",\"type\":\"ColumnDataSource\"},{\"attributes\":{},\"id\":\"237b4575-e0b1-4a57-8d5b-501c65ea9544\",\"type\":\"BasicTicker\"},{\"attributes\":{\"data_source\":{\"id\":\"8c841b08-3ad7-40de-b364-2682249ded9a\",\"type\":\"ColumnDataSource\"},\"glyph\":{\"id\":\"d18c2112-9ad5-4e66-9891-9d3df47e3412\",\"type\":\"Line\"},\"hover_glyph\":null,\"muted_glyph\":null,\"nonselection_glyph\":{\"id\":\"a2f8def5-e091-420a-b5e8-fca6c35507ff\",\"type\":\"Line\"},\"selection_glyph\":null,\"view\":{\"id\":\"11ac77de-75da-406a-8b7f-3d245df6b9f9\",\"type\":\"CDSView\"}},\"id\":\"38292a19-b894-4c05-9b2e-34c159e7ef8e\",\"type\":\"GlyphRenderer\"},{\"attributes\":{},\"id\":\"e80a8ba7-1394-46ae-86f4-08d6787e1cd0\",\"type\":\"WheelZoomTool\"},{\"attributes\":{},\"id\":\"07da8e01-09b1-4470-a88d-36720b545bfd\",\"type\":\"Selection\"},{\"attributes\":{},\"id\":\"589bdcaa-425e-462c-b303-ff7192e9ba52\",\"type\":\"HelpTool\"},{\"attributes\":{\"callback\":null,\"end\":2.3136055567443004,\"start\":-0.2281041295143},\"id\":\"24e30de6-93d7-4251-830a-7fa06ba78f6a\",\"type\":\"Range1d\"},{\"attributes\":{\"source\":{\"id\":\"ad311781-6bc2-4ce3-bc2c-99a5a655747f\",\"type\":\"ColumnDataSource\"}},\"id\":\"a7c12669-64fc-45bb-8622-ec75f5be13f4\",\"type\":\"CDSView\"},{\"attributes\":{\"bottom_units\":\"screen\",\"fill_alpha\":{\"value\":0.5},\"fill_color\":{\"value\":\"lightgrey\"},\"left_units\":\"screen\",\"level\":\"overlay\",\"line_alpha\":{\"value\":1.0},\"line_color\":{\"value\":\"black\"},\"line_dash\":[4,4],\"line_width\":{\"value\":2},\"plot\":null,\"render_mode\":\"css\",\"right_units\":\"screen\",\"top_units\":\"screen\"},\"id\":\"22213f42-5134-4d57-a80d-9118dd06e534\",\"type\":\"BoxAnnotation\"},{\"attributes\":{\"items\":[{\"id\":\"d2929c02-9c04-4e8a-b256-fce57b918dd1\",\"type\":\"LegendItem\"},{\"id\":\"6bf389e0-3066-4e23-acc5-8cf52894a24e\",\"type\":\"LegendItem\"}],\"label_text_font_size\":{\"value\":\"8pt\"},\"location\":\"top_center\",\"orientation\":\"horizontal\",\"plot\":{\"id\":\"d8d89392-fc36-4c4d-9676-0601b85245e6\",\"subtype\":\"Figure\",\"type\":\"Plot\"}},\"id\":\"eff41d10-8bf5-4d3d-b84f-4375731efcd2\",\"type\":\"Legend\"},{\"attributes\":{\"line_alpha\":0.1,\"line_color\":\"#1f77b4\",\"line_dash\":[6],\"line_width\":5,\"x\":{\"field\":\"x\"},\"y\":{\"field\":\"y\"}},\"id\":\"78096727-3d02-4167-bea8-63dc28b28fb9\",\"type\":\"Line\"},{\"attributes\":{\"children\":[{\"id\":\"02e18fe7-8f6d-42ca-9c47-cce68ca5246e\",\"type\":\"Row\"}]},\"id\":\"2faaf5a6-40f8-4d5c-a2eb-c487266502cb\",\"type\":\"Column\"},{\"attributes\":{\"line_color\":\"#4daf4a\",\"line_width\":1.5,\"x\":{\"field\":\"x\"},\"y\":{\"field\":\"y\"}},\"id\":\"7a01fc58-29ef-41a9-a101-f9b4f1ab2b3b\",\"type\":\"Line\"},{\"attributes\":{},\"id\":\"603f5368-3d88-4284-b338-5fafe08d039e\",\"type\":\"LogScale\"},{\"attributes\":{},\"id\":\"d1a6f0b2-0eba-4a75-bcff-cbfc118f27ca\",\"type\":\"ResetTool\"},{\"attributes\":{\"line_alpha\":0.1,\"line_color\":\"#1f77b4\",\"line_width\":1.5,\"x\":{\"field\":\"x\"},\"y\":{\"field\":\"y\"}},\"id\":\"a2f8def5-e091-420a-b5e8-fca6c35507ff\",\"type\":\"Line\"},{\"attributes\":{\"axis_label\":\"cooling rate [K/day]\",\"formatter\":{\"id\":\"a417f751-1a9b-4940-b213-5f7008c8ab3c\",\"type\":\"BasicTickFormatter\"},\"plot\":{\"id\":\"e72f4e0a-3bed-4b63-9f1b-16b9fe3ab901\",\"subtype\":\"Figure\",\"type\":\"Plot\"},\"ticker\":{\"id\":\"237b4575-e0b1-4a57-8d5b-501c65ea9544\",\"type\":\"BasicTicker\"}},\"id\":\"8ed3e751-1a46-4789-a26d-8aeb83d778fe\",\"type\":\"LinearAxis\"},{\"attributes\":{\"line_alpha\":0.6,\"line_color\":\"#377eb8\",\"line_dash\":[6],\"line_width\":5,\"x\":{\"field\":\"x\"},\"y\":{\"field\":\"y\"}},\"id\":\"7c645800-eaa2-4253-86ac-f45e5abd8c43\",\"type\":\"Line\"},{\"attributes\":{\"label\":{\"value\":\"CLIRAD (single-run)\"},\"renderers\":[{\"id\":\"dd605d5b-a903-4dbc-beb1-936525b83377\",\"type\":\"GlyphRenderer\"}]},\"id\":\"3188920b-1ac3-4ca6-bf1d-241b69d08bc3\",\"type\":\"LegendItem\"},{\"attributes\":{\"label\":{\"value\":\"old CLIRAD (H2012)\"},\"renderers\":[{\"id\":\"030b4a9e-43b5-4760-855a-e45449528537\",\"type\":\"GlyphRenderer\"},{\"id\":\"38292a19-b894-4c05-9b2e-34c159e7ef8e\",\"type\":\"GlyphRenderer\"}]},\"id\":\"1e251f99-06c7-4358-a088-83c078cccca4\",\"type\":\"LegendItem\"},{\"attributes\":{\"source\":{\"id\":\"677cc9d6-916d-4fe3-8def-316a92be847f\",\"type\":\"ColumnDataSource\"}},\"id\":\"674ed149-a143-4d5f-a97c-0cbfc664fdb8\",\"type\":\"CDSView\"},{\"attributes\":{\"line_alpha\":0.6,\"line_color\":\"#377eb8\",\"line_dash\":[6],\"line_width\":5,\"x\":{\"field\":\"x\"},\"y\":{\"field\":\"y\"}},\"id\":\"67c10679-e869-4567-8fca-3c2492d17365\",\"type\":\"Line\"},{\"attributes\":{},\"id\":\"a713ec08-60a1-4934-9732-c5a9825b9c29\",\"type\":\"UnionRenderers\"},{\"attributes\":{\"callback\":null,\"end\":13.588040553155697,\"start\":-0.33973219878569993},\"id\":\"c58ad976-b619-4f9b-9be8-2b20c1961543\",\"type\":\"Range1d\"},{\"attributes\":{\"source\":{\"id\":\"1e6b1252-5020-4eca-9e77-1a44d84b7d9d\",\"type\":\"ColumnDataSource\"}},\"id\":\"da78d591-bb8f-47a1-91c2-e3759d7317fc\",\"type\":\"CDSView\"},{\"attributes\":{\"callback\":null,\"data\":{\"x\":{\"__ndarray__\":\"MXhf+wfXU0AZbvNjswdFQLQWsEQVdUFA5TlpnhT9QUB/x1dOYK05QImjxHmcEjZA9jYDSBB3L0AISPl4H6wqQBPuuwfAzyJAOcHprUZAIUB7WWpkesAXQJoT1Uq+ChVArO/8u0EXCkBgVNlshzgCQMeNQ+Nzu/I/POwv1Qzh+D9QxMRmcj8DQOrE7tC4mAxAQsLBRIlHEkAi4cPYoDEXQEeDpjRjzB1ASZ0GEfCuI0DVFj11sssnQOMiVKSMHyhAWRHvUxNoJEDo8cjD4g8gQLGGvR2NDRpAdpI3nV5oFECtyWH9Lp4QQIZQd9bvmwtAkshlnu1BBkBMysnQf1UAQHZJU/DYZ/c/HoEhV+G48T/rSm4vc/TmP3EgV4cD49g/xmy6+4w7zz+bEsjh3uDDPw5SRMRogKs/4GPKdPc1a78lazVXN1vCP/B84ODeUug/LOyxgXDV9z+/DBHyZAwAQAOIY+fy/QFAahF3XKCUAECV0GHvGsz+P+X4k4Nhvf0/RO/IqI98/T8rkW+v/zT9P59vGMDsAv0/zEX7plCY/D/E3siS8kj7P2yUMv+hDvs/RmrXDaYs+z+c9f5GCO36P58nVCbr7vo/Qus8hbcy/D+rD5hFMCf9P4t6dxofnPw/bRp4QYZ2/D/q8NNiN2b8P5YTVw9ESPw/l1Dy0X/K+j+WKih3ZdD5P2k8OYxHjvk/hceGh5N4+T8lpPahWSn5P6vJnePt4vY/UuhmxnXI9T8miFqdE+D0Pz7qfx5CR/Q/0khvq2US9D9LfVdHQGv0P9syeEmwYfg/\",\"dtype\":\"float64\",\"shape\":[75]},\"y\":{\"__ndarray__\":\"hLndy31yND/6fmq8dJNIP8n9DkWBPlE/aDum7souWD/b4a/JGvVgP9f34SAhymc/ZvM4DOavcD+z0M5pFmh3PxuC4zJuaoA/xjcUPlsHhz8uHAjJAiaQP9ieWRKgppY/oI7HDFTGnz+a5h2n6EimPzS6g9iZQq8/IuAQqtTstT9SSZ2AJsK+P4nS3uALk8U/ih9j7lpCzj+ASL99HTjVP4enV8oyxN0/ACL99nXg5D9fmEwVjErtPyUGgZVDi/Q/AiuHFtnO/D9OYhBYOTQEQPHSTWIQWAxA4XoUrkfhE0D8qfHSTeIbQMh2vp8ajyNArkfhehRuK0Bcj8L1KDwzQFyPwvUo/DpAPgrXo3DtQkDNzMzMzIxKQClcj8L1eFJAKVyPwvVoWECamZmZmVleQGZmZmZmJmJAAAAAAAAgZUCamZmZmRloQJqZmZmZEWtAmpmZmZkJbkCamZmZmYFwQGZmZmZm/nFAZmZmZmZ6c0BmZmZmZvZ0QDQzMzMzc3ZAAAAAAADwd0AAAAAAAGx5QAAAAAAA6HpAzMzMzMxkfEDMzMzMzOB9QM3MzMzMXH9AzczMzMxsgEAzMzMzMyuBQDMzMzMz6YFAMzMzMzOngkCamZmZmWWDQAAAAAAAJIRAAAAAAADihEAAAAAAAKCFQGZmZmZmXoZAzczMzMwch0DNzMzMzNqHQM3MzMzMmIhAMzMzMzNXiUCamZmZmRWKQAAAAAAA1IpAAAAAAACSi0AAAAAAAFCMQGZmZmZmDo1AzczMzMzMjUDNzMzMzIqOQM3MzMzMSI9A\",\"dtype\":\"float64\",\"shape\":[75]}},\"selected\":{\"id\":\"1ceab0d0-6dd1-4d03-b17f-49db96b5f563\",\"type\":\"Selection\"},\"selection_policy\":{\"id\":\"7cc91bfe-5bbf-43bc-99b6-e82a5ec512bd\",\"type\":\"UnionRenderers\"}},\"id\":\"5a83c9b2-006b-44b1-84d2-9519f8a5fbab\",\"type\":\"ColumnDataSource\"},{\"attributes\":{},\"id\":\"5f40c0e0-32a4-4db9-8d4f-f3017a6606a9\",\"type\":\"BasicTicker\"},{\"attributes\":{\"above\":[{\"id\":\"a9a615a6-d9c2-40bc-9635-6d9416522831\",\"type\":\"Legend\"}],\"below\":[{\"id\":\"eac0fae7-39d2-44b8-92e4-7bc48ab8f27c\",\"type\":\"LinearAxis\"}],\"left\":[{\"id\":\"1696f7c0-214b-44c7-a251-bff0f85792c7\",\"type\":\"LinearAxis\"}],\"plot_width\":300,\"renderers\":[{\"id\":\"eac0fae7-39d2-44b8-92e4-7bc48ab8f27c\",\"type\":\"LinearAxis\"},{\"id\":\"24b61cd5-ff40-4779-bdc7-9641443b1699\",\"type\":\"Grid\"},{\"id\":\"1696f7c0-214b-44c7-a251-bff0f85792c7\",\"type\":\"LinearAxis\"},{\"id\":\"ffb80de3-8380-4fff-ad06-b4aa903e26c5\",\"type\":\"Grid\"},{\"id\":\"22213f42-5134-4d57-a80d-9118dd06e534\",\"type\":\"BoxAnnotation\"},{\"id\":\"89d1a811-7f89-455e-89f8-558087dc79dd\",\"type\":\"GlyphRenderer\"},{\"id\":\"0447da84-d89f-4559-9dba-21e721b4fb5d\",\"type\":\"GlyphRenderer\"},{\"id\":\"349df8c9-536d-45a3-85ed-69654deedf64\",\"type\":\"GlyphRenderer\"},{\"id\":\"ceec423d-22e5-4e18-b973-b8f2855d7b03\",\"type\":\"GlyphRenderer\"},{\"id\":\"4585aeba-c8d1-4382-ad41-c8a6da9f98ea\",\"type\":\"GlyphRenderer\"},{\"id\":\"a9a615a6-d9c2-40bc-9635-6d9416522831\",\"type\":\"Legend\"}],\"title\":{\"id\":\"89702cef-de51-4c70-b92f-e5ab6c68a954\",\"type\":\"Title\"},\"toolbar\":{\"id\":\"236ac6c7-235c-4c36-bb31-add518236d30\",\"type\":\"Toolbar\"},\"toolbar_location\":null,\"x_range\":{\"id\":\"24e30de6-93d7-4251-830a-7fa06ba78f6a\",\"type\":\"Range1d\"},\"x_scale\":{\"id\":\"36510265-469f-46c1-b374-3bfc679936b3\",\"type\":\"LinearScale\"},\"y_range\":{\"id\":\"ccb314e8-755b-4c99-b567-a14cedb90f4f\",\"type\":\"Range1d\"},\"y_scale\":{\"id\":\"77e24311-b5c1-4ec4-89b2-7cd1c97faa5b\",\"type\":\"LinearScale\"}},\"id\":\"1eaff964-da48-4a33-994d-923a81c4a817\",\"subtype\":\"Figure\",\"type\":\"Plot\"},{\"attributes\":{},\"id\":\"381dd361-2349-4387-9752-02578a6d701e\",\"type\":\"BasicTicker\"},{\"attributes\":{\"active_drag\":\"auto\",\"active_inspect\":\"auto\",\"active_scroll\":\"auto\",\"active_tap\":\"auto\",\"tools\":[{\"id\":\"9868473e-865a-4b17-8be1-320ada6669f2\",\"type\":\"PanTool\"},{\"id\":\"e80a8ba7-1394-46ae-86f4-08d6787e1cd0\",\"type\":\"WheelZoomTool\"},{\"id\":\"5710acc5-bffa-4dbf-b94b-633b3912279f\",\"type\":\"BoxZoomTool\"},{\"id\":\"2710b98c-38a9-4df6-9526-a21edc679efa\",\"type\":\"SaveTool\"},{\"id\":\"d1a6f0b2-0eba-4a75-bcff-cbfc118f27ca\",\"type\":\"ResetTool\"},{\"id\":\"589bdcaa-425e-462c-b303-ff7192e9ba52\",\"type\":\"HelpTool\"}]},\"id\":\"236ac6c7-235c-4c36-bb31-add518236d30\",\"type\":\"Toolbar\"},{\"attributes\":{\"fill_alpha\":{\"value\":0.7},\"fill_color\":{\"value\":\"#4daf4a\"},\"line_alpha\":{\"value\":0.7},\"line_color\":{\"value\":\"#4daf4a\"},\"x\":{\"field\":\"x\"},\"y\":{\"field\":\"y\"}},\"id\":\"74b1946e-fced-4945-959d-6fa014a7f7a6\",\"type\":\"Circle\"},{\"attributes\":{\"callback\":null,\"data\":{\"x\":{\"__ndarray__\":\"cm1sTMT3VEDEyvjosEJHQOKI6DjzCUNArgQWV9awPkB9Lm8XG3M4QEz+Qv6iYzNA7eV8HaPLLkCX1QHyTpMoQFBmYSYetiNAUB04GtGpH0AmFyVE5j8ZQJca9QPGqBNALJP+OOHHDEBNxaf7QF8AQKtislomWuw/cW2dcO6A9T/uJJvfPu0EQIaQLTI/JQ1AxGiII+PmEkCJvfVeuCsYQD6ZBhGbHB9AXQw69DTYJEAsubcwKucqQNuT9D5OmipAJyi3szEJJUBlNebh5WkgQDDcPHBr2xlArtlANXuQFEBdJadFHckQQI2Avh0ZsQtAjYiwt1rsBUCL0SDoVBgAQK6C0nEEjvc/CggLSme58T9sXU2orFPnP0v0JYz9Gdg/vT38vxYczD9nBQTe6kHHP1IhkEXJwKo/8OZnhCVAub+xtVgCpmqzP6DUpY6g0+k/PKK3T1h4+D8RTDjQc1EAQG/dAQs7TwJAQt2eHpPLAEBWEh074x//PyCap9ZSGf4/rEzaTySm/T+7aXhHRmr9P688KeqeNP0/ruZ4EemD/D8olrZcn9T7P0+vNc9hW/s/i9VVL+4P+z+0NzC24uz6P8731Kza8vo/xFf4SHzq+z+gYyHpvHb8P68ROkiFevw/BAjYdCga/D8AUp8VbW77P3JrF/nKmvo/qCQeGfq++T/dplwHJfn4P2G4p+Uva/g/OzZ0RqMZ+D8dmn/iar73P/OuA7Ka8PY/gaaeQHGn9T9hkyjAH1L0P3aZGhdAU/M/n8VP/g7P8j+90HxHNvfyPwhNBtgrqvk/\",\"dtype\":\"float64\",\"shape\":[75]},\"y\":{\"__ndarray__\":\"GhExyth1ND/Sv8nbtpRIP2vylNV0PVE/aTum7souWD/At0SJ8fVgPw3Iuahxymc/MSNhhJWvcD/bTfBN02d3P2zb5nxnaoA/CD5h5MAGhz8NmeH1TyaQP+zrCsc9p5Y/LbKd76fGnz/bLW5ISEmmPww9YvTcQq8/JV2OstnstT8Er5Y7M8G+P0c+r3jqkcU/5h99k6ZBzj88bCIzFzjVP4enV8oyxN0//yH99nXg5D8qOpLLf0jtP5kqGJXUifQ/c9cS8kHP/D+/DpwzojQEQIEmwoanVwxA4lgXt9HgE0BSSZ2AJuIbQAMJih9jjiNA5q4l5INuK0AwTKYKRj0zQNv5fmq8/DpAaCJseHrtQkB/+zpwzoxKQM3MzMzMeFJAZmZmZmZqWEAAAAAAAFxeQM3MzMzMJmJAmpmZmZkfZUBmZmZmZhhoQDMzMzMzEWtAAAAAAAAKbkBmZmZmZoFwQM3MzMzM/XFAMzMzMzN6c0CamZmZmfZ0QAAAAAAAc3ZAZmZmZmbvd0DNzMzMzGt5QDMzMzMz6HpAmpmZmZlkfEAAAAAAAOF9QGZmZmZmXX9AZmZmZuZsgECamZmZGSuBQM3MzMxM6YFAAAAAAICngkAzMzMzs2WDQGZmZmbmI4RAmpmZmRnihEDNzMzMTKCFQAAAAACAXoZAMzMzM7Mch0BmZmZm5tqHQJqZmZkZmYhAzczMzExXiUAAAAAAgBWKQDMzMzOz04pAZmZmZuaRi0CamZmZGVCMQM3MzMxMDo1AAAAAAIDMjUAzMzMzs4qOQGZmZmbmSI9A\",\"dtype\":\"float64\",\"shape\":[75]}},\"selected\":{\"id\":\"b12174bc-4c2c-4b1d-8eb3-19be9b0695bb\",\"type\":\"Selection\"},\"selection_policy\":{\"id\":\"7ecc7012-09b0-47f9-b34f-d6b41a5e51a0\",\"type\":\"UnionRenderers\"}},\"id\":\"677cc9d6-916d-4fe3-8def-316a92be847f\",\"type\":\"ColumnDataSource\"},{\"attributes\":{\"data_source\":{\"id\":\"677cc9d6-916d-4fe3-8def-316a92be847f\",\"type\":\"ColumnDataSource\"},\"glyph\":{\"id\":\"74b1946e-fced-4945-959d-6fa014a7f7a6\",\"type\":\"Circle\"},\"hover_glyph\":null,\"muted_glyph\":null,\"nonselection_glyph\":{\"id\":\"9265d381-96fa-4a3c-bca3-ba9009d6a09f\",\"type\":\"Circle\"},\"selection_glyph\":null,\"view\":{\"id\":\"674ed149-a143-4d5f-a97c-0cbfc664fdb8\",\"type\":\"CDSView\"}},\"id\":\"b05c0d9d-55d8-44d1-bf8e-e0fefc414d53\",\"type\":\"GlyphRenderer\"},{\"attributes\":{},\"id\":\"77e24311-b5c1-4ec4-89b2-7cd1c97faa5b\",\"type\":\"LinearScale\"},{\"attributes\":{\"callback\":null,\"end\":0.01,\"start\":1020},\"id\":\"372dcd8d-1b70-4f56-ae49-6c0f4e09d5fb\",\"type\":\"Range1d\"},{\"attributes\":{\"fill_alpha\":{\"value\":0.7},\"fill_color\":{\"value\":\"#984ea3\"},\"line_alpha\":{\"value\":0.7},\"line_color\":{\"value\":\"#984ea3\"},\"x\":{\"field\":\"x\"},\"y\":{\"field\":\"y\"}},\"id\":\"2c913915-afee-411c-aead-512b5b26933a\",\"type\":\"Circle\"},{\"attributes\":{\"fill_alpha\":{\"value\":0.1},\"fill_color\":{\"value\":\"#1f77b4\"},\"line_alpha\":{\"value\":0.1},\"line_color\":{\"value\":\"#1f77b4\"},\"x\":{\"field\":\"x\"},\"y\":{\"field\":\"y\"}},\"id\":\"9d815422-e39b-4772-aec8-98832189cc22\",\"type\":\"Circle\"},{\"attributes\":{\"plot\":{\"id\":\"1eaff964-da48-4a33-994d-923a81c4a817\",\"subtype\":\"Figure\",\"type\":\"Plot\"},\"ticker\":{\"id\":\"381dd361-2349-4387-9752-02578a6d701e\",\"type\":\"BasicTicker\"}},\"id\":\"24b61cd5-ff40-4779-bdc7-9641443b1699\",\"type\":\"Grid\"},{\"attributes\":{\"callback\":null,\"data\":{\"x\":{\"__ndarray__\":\"PBvZOM5lIcCJDvmsAQcFwOmlQTdLRvg/kAiifYGLDEDLhhXOUmENQKAeKwnKJANAgoPIOxPQ4j/SIX8E4+Xqv4FRjJVYG/a/1Gy9oK6r8b9JYK3GQYvfv12hxjkAQK4/pDQTfXxY2T8Grm2btMveP0Xl0NlK5tM/4nbSsyRbnj94ix09nOrQv5dyjJfCROC/Eg/H1wao4L8+hTwY2NTRv2C1GgnkFFe/OIw+TayEpr+SojpptSTTvz54yN4nuta/+nuqnsgMr7+ilcjqf7XYP+G8WJF6Q9c/jzXXcEjdtj/Yjan/oF2RPy8PYUftW9A/x2LuCfsC1T/4mjbhL3/CPw+XlTlFZaO/zCCYGNsIcb9QtHqvjaKqP+zWNruwBVU/athr71O+rr9WQHhSnzC4v7vyHPLPw7q/6UkZmbYJt79QsmwYKpKxv0RpU9aFirC/cEwb7ihLoL+0jbnqyqq3v2+RmbBDP7m/fDrmXNeprL+YASbh79evv5VTH4uqF7S/VBQ1x+Mxs781vlSzzRGsv5XCPDjy86K/hf7mJJWPmL+SxrDNwciUvwsVcoW1QZS/5MrQNSqwmL+1MMr172iav3RfL+ArkpK/vDDk1nlbZj9w7GRBgEuhP9ZHPl7oS60/DN8ldsberj8yULz7gYGmP4jvNN58+Jc/2DWJQ/NObz+Q46KFxHBnP0TglOJ4eIY/gp1mRBNvoD8vzKYcxrapP2zI86RCeLA/vsCsUKS7sj8WsmX63/GzP9qO5WdntLQ/QnKNvFxetT8nqxWyYtS0Pw==\",\"dtype\":\"float64\",\"shape\":[74]},\"y\":{\"__ndarray__\":\"0r/J27aUSD9r8pTVdD1RP2k7pu7KLlg/wLdEifH1YD8NyLmoccpnPzEjYYSVr3A/203wTdNndz9s2+Z8Z2qAPwg+YeTABoc/DZnh9U8mkD/s6wrHPaeWPy2yne+nxp8/2y1uSEhJpj8MPWL03EKvPyVdjrLZ7LU/BK+WOzPBvj9HPq946pHFP+YffZOmQc4/PGwiMxc41T+Hp1fKMsTdP/8h/fZ14OQ/KjqSy39I7T+ZKhiV1In0P3PXEvJBz/w/vw6cM6I0BECBJsKGp1cMQOJYF7fR4BNAUkmdgCbiG0ADCYofY44jQOauJeSDbitAMEymCkY9M0Db+X5qvPw6QGgibHh67UJAf/s6cM6MSkDNzMzMzHhSQGZmZmZmalhAAAAAAABcXkDNzMzMzCZiQJqZmZmZH2VAZmZmZmYYaEAzMzMzMxFrQAAAAAAACm5AZmZmZmaBcEDNzMzMzP1xQDMzMzMzenNAmpmZmZn2dEAAAAAAAHN2QGZmZmZm73dAzczMzMxreUAzMzMzM+h6QJqZmZmZZHxAAAAAAADhfUBmZmZmZl1/QGZmZmbmbIBAmpmZmRkrgUDNzMzMTOmBQAAAAACAp4JAMzMzM7Nlg0BmZmZm5iOEQJqZmZkZ4oRAzczMzEyghUAAAAAAgF6GQDMzMzOzHIdAZmZmZubah0CamZmZGZmIQM3MzMxMV4lAAAAAAIAVikAzMzMzs9OKQGZmZmbmkYtAmpmZmRlQjEDNzMzMTA6NQAAAAACAzI1AMzMzM7OKjkBmZmZm5kiPQA==\",\"dtype\":\"float64\",\"shape\":[74]}},\"selected\":{\"id\":\"25fea989-dc36-4af0-be2c-413d9a04cc33\",\"type\":\"Selection\"},\"selection_policy\":{\"id\":\"d93fbe4b-6ae8-4cc3-9146-d57a229cefd2\",\"type\":\"UnionRenderers\"}},\"id\":\"76eab29b-b0b7-45a5-a2fd-f19c65926fda\",\"type\":\"ColumnDataSource\"},{\"attributes\":{},\"id\":\"6240b6cc-728a-4a3d-8768-5cdda37e2f8c\",\"type\":\"UnionRenderers\"},{\"attributes\":{\"callback\":null,\"data\":{\"x\":{\"__ndarray__\":\"cm1sTMT3VEDEyvjosEJHQOKI6DjzCUNArgQWV9awPkB9Lm8XG3M4QEz+Qv6iYzNA7eV8HaPLLkCX1QHyTpMoQFBmYSYetiNAUB04GtGpH0AmFyVE5j8ZQJca9QPGqBNALJP+OOHHDEBNxaf7QF8AQKtislomWuw/cW2dcO6A9T/uJJvfPu0EQIaQLTI/JQ1AxGiII+PmEkCJvfVeuCsYQD6ZBhGbHB9AXQw69DTYJEAsubcwKucqQNuT9D5OmipAJyi3szEJJUBlNebh5WkgQDDcPHBr2xlArtlANXuQFEBdJadFHckQQI2Avh0ZsQtAjYiwt1rsBUCL0SDoVBgAQK6C0nEEjvc/CggLSme58T9sXU2orFPnP0v0JYz9Gdg/vT38vxYczD9nBQTe6kHHP1IhkEXJwKo/8OZnhCVAub+xtVgCpmqzP6DUpY6g0+k/PKK3T1h4+D8RTDjQc1EAQG/dAQs7TwJAQt2eHpPLAEBWEh074x//PyCap9ZSGf4/rEzaTySm/T+7aXhHRmr9P688KeqeNP0/ruZ4EemD/D8olrZcn9T7P0+vNc9hW/s/i9VVL+4P+z+0NzC24uz6P8731Kza8vo/xFf4SHzq+z+gYyHpvHb8P68ROkiFevw/BAjYdCga/D8AUp8VbW77P3JrF/nKmvo/qCQeGfq++T/dplwHJfn4P2G4p+Uva/g/OzZ0RqMZ+D8dmn/iar73P/OuA7Ka8PY/gaaeQHGn9T9hkyjAH1L0P3aZGhdAU/M/n8VP/g7P8j+90HxHNvfyPwhNBtgrqvk/\",\"dtype\":\"float64\",\"shape\":[75]},\"y\":{\"__ndarray__\":\"GhExyth1ND/Sv8nbtpRIP2vylNV0PVE/aTum7souWD/At0SJ8fVgPw3Iuahxymc/MSNhhJWvcD/bTfBN02d3P2zb5nxnaoA/CD5h5MAGhz8NmeH1TyaQP+zrCsc9p5Y/LbKd76fGnz/bLW5ISEmmPww9YvTcQq8/JV2OstnstT8Er5Y7M8G+P0c+r3jqkcU/5h99k6ZBzj88bCIzFzjVP4enV8oyxN0//yH99nXg5D8qOpLLf0jtP5kqGJXUifQ/c9cS8kHP/D+/DpwzojQEQIEmwoanVwxA4lgXt9HgE0BSSZ2AJuIbQAMJih9jjiNA5q4l5INuK0AwTKYKRj0zQNv5fmq8/DpAaCJseHrtQkB/+zpwzoxKQM3MzMzMeFJAZmZmZmZqWEAAAAAAAFxeQM3MzMzMJmJAmpmZmZkfZUBmZmZmZhhoQDMzMzMzEWtAAAAAAAAKbkBmZmZmZoFwQM3MzMzM/XFAMzMzMzN6c0CamZmZmfZ0QAAAAAAAc3ZAZmZmZmbvd0DNzMzMzGt5QDMzMzMz6HpAmpmZmZlkfEAAAAAAAOF9QGZmZmZmXX9AZmZmZuZsgECamZmZGSuBQM3MzMxM6YFAAAAAAICngkAzMzMzs2WDQGZmZmbmI4RAmpmZmRnihEDNzMzMTKCFQAAAAACAXoZAMzMzM7Mch0BmZmZm5tqHQJqZmZkZmYhAzczMzExXiUAAAAAAgBWKQDMzMzOz04pAZmZmZuaRi0CamZmZGVCMQM3MzMxMDo1AAAAAAIDMjUAzMzMzs4qOQGZmZmbmSI9A\",\"dtype\":\"float64\",\"shape\":[75]}},\"selected\":{\"id\":\"6d0d6aca-133a-4165-993a-5ff2bd137c70\",\"type\":\"Selection\"},\"selection_policy\":{\"id\":\"ea6199cc-25e5-4f5e-ad16-7158ebccc021\",\"type\":\"UnionRenderers\"}},\"id\":\"8977dd25-bd2e-4c9b-ac32-a5d0c68b6673\",\"type\":\"ColumnDataSource\"},{\"attributes\":{\"label\":{\"value\":\"CRD\"},\"renderers\":[{\"id\":\"0447da84-d89f-4559-9dba-21e721b4fb5d\",\"type\":\"GlyphRenderer\"},{\"id\":\"349df8c9-536d-45a3-85ed-69654deedf64\",\"type\":\"GlyphRenderer\"}]},\"id\":\"b3b86306-97f0-47a9-914b-8dda5492906b\",\"type\":\"LegendItem\"},{\"attributes\":{\"dimension\":1,\"plot\":{\"id\":\"1eaff964-da48-4a33-994d-923a81c4a817\",\"subtype\":\"Figure\",\"type\":\"Plot\"},\"ticker\":{\"id\":\"5f40c0e0-32a4-4db9-8d4f-f3017a6606a9\",\"type\":\"BasicTicker\"}},\"id\":\"ffb80de3-8380-4fff-ad06-b4aa903e26c5\",\"type\":\"Grid\"},{\"attributes\":{\"data_source\":{\"id\":\"1234a2a7-2c0d-49ff-a966-ffd594b8f14f\",\"type\":\"ColumnDataSource\"},\"glyph\":{\"id\":\"a5031377-d6ee-4ef5-89a7-8a93d44dc5ec\",\"type\":\"Square\"},\"hover_glyph\":null,\"muted_glyph\":null,\"nonselection_glyph\":{\"id\":\"4de1529f-d4ab-4af0-a164-c7663c33cfb8\",\"type\":\"Square\"},\"selection_glyph\":null,\"view\":{\"id\":\"6ce76ac9-ee3a-42b7-ac4b-2f80f8351e21\",\"type\":\"CDSView\"}},\"id\":\"ceec423d-22e5-4e18-b973-b8f2855d7b03\",\"type\":\"GlyphRenderer\"},{\"attributes\":{},\"id\":\"c43e26f3-7ebc-4bb1-beda-4a810c7f554a\",\"type\":\"WheelZoomTool\"},{\"attributes\":{\"children\":[{\"id\":\"cbe8c786-0762-414b-9aab-5645c784510c\",\"type\":\"ToolbarBox\"},{\"id\":\"2faaf5a6-40f8-4d5c-a2eb-c487266502cb\",\"type\":\"Column\"}]},\"id\":\"a761faa2-191c-46b2-b037-da356cb6ec36\",\"type\":\"Column\"},{\"attributes\":{\"source\":{\"id\":\"1234a2a7-2c0d-49ff-a966-ffd594b8f14f\",\"type\":\"ColumnDataSource\"}},\"id\":\"6ce76ac9-ee3a-42b7-ac4b-2f80f8351e21\",\"type\":\"CDSView\"},{\"attributes\":{},\"id\":\"b7ed7fa0-d9aa-486c-bdcf-eb0d71cf5114\",\"type\":\"BasicTickFormatter\"},{\"attributes\":{\"axis_label\":\"pressure [mb]\",\"formatter\":{\"id\":\"130baadf-01e3-4e18-889f-3313e77fd482\",\"type\":\"BasicTickFormatter\"},\"plot\":{\"id\":\"1eaff964-da48-4a33-994d-923a81c4a817\",\"subtype\":\"Figure\",\"type\":\"Plot\"},\"ticker\":{\"id\":\"5f40c0e0-32a4-4db9-8d4f-f3017a6606a9\",\"type\":\"BasicTicker\"}},\"id\":\"1696f7c0-214b-44c7-a251-bff0f85792c7\",\"type\":\"LinearAxis\"},{\"attributes\":{\"fill_alpha\":{\"value\":0.1},\"fill_color\":{\"value\":\"#1f77b4\"},\"line_alpha\":{\"value\":0.1},\"line_color\":{\"value\":\"#1f77b4\"},\"x\":{\"field\":\"x\"},\"y\":{\"field\":\"y\"}},\"id\":\"9265d381-96fa-4a3c-bca3-ba9009d6a09f\",\"type\":\"Circle\"},{\"attributes\":{\"plot\":{\"id\":\"d8d89392-fc36-4c4d-9676-0601b85245e6\",\"subtype\":\"Figure\",\"type\":\"Plot\"},\"ticker\":{\"id\":\"13de504c-c276-4a71-b0e5-7a94f81a113c\",\"type\":\"BasicTicker\"}},\"id\":\"c65ba8a6-49ef-434f-9101-678eb6b953ad\",\"type\":\"Grid\"},{\"attributes\":{},\"id\":\"932227e4-3b4a-4d2a-901e-13129ed6c1e7\",\"type\":\"Selection\"},{\"attributes\":{\"data_source\":{\"id\":\"1e6b1252-5020-4eca-9e77-1a44d84b7d9d\",\"type\":\"ColumnDataSource\"},\"glyph\":{\"id\":\"67c10679-e869-4567-8fca-3c2492d17365\",\"type\":\"Line\"},\"hover_glyph\":null,\"muted_glyph\":null,\"nonselection_glyph\":{\"id\":\"9a599e4c-f9ef-404e-94dd-ed5661567777\",\"type\":\"Line\"},\"selection_glyph\":null,\"view\":{\"id\":\"da78d591-bb8f-47a1-91c2-e3759d7317fc\",\"type\":\"CDSView\"}},\"id\":\"dd605d5b-a903-4dbc-beb1-936525b83377\",\"type\":\"GlyphRenderer\"},{\"attributes\":{},\"id\":\"732867aa-1679-40fe-bc1f-5f56f0d20b07\",\"type\":\"Selection\"},{\"attributes\":{\"line_alpha\":0.1,\"line_color\":\"#1f77b4\",\"line_dash\":[6],\"line_width\":4,\"x\":{\"field\":\"x\"},\"y\":{\"field\":\"y\"}},\"id\":\"96426e5f-f456-4241-b5b5-9a94b42cd65c\",\"type\":\"Line\"},{\"attributes\":{},\"id\":\"4e659a75-09aa-4426-aca5-83b93466c19d\",\"type\":\"UnionRenderers\"},{\"attributes\":{\"source\":{\"id\":\"b614c91d-bc57-4bd5-a50d-ca2eb25efe3b\",\"type\":\"ColumnDataSource\"}},\"id\":\"957f8874-9d54-4da9-825b-ece0cdfe6e3a\",\"type\":\"CDSView\"},{\"attributes\":{\"above\":[{\"id\":\"eff41d10-8bf5-4d3d-b84f-4375731efcd2\",\"type\":\"Legend\"}],\"below\":[{\"id\":\"d6ba265c-2c48-4f6d-9ba1-41069eea0a00\",\"type\":\"LinearAxis\"}],\"left\":[{\"id\":\"d626f4f0-2b0e-41ed-9b8b-6c280196bb42\",\"type\":\"LogAxis\"}],\"plot_width\":300,\"renderers\":[{\"id\":\"d6ba265c-2c48-4f6d-9ba1-41069eea0a00\",\"type\":\"LinearAxis\"},{\"id\":\"c65ba8a6-49ef-434f-9101-678eb6b953ad\",\"type\":\"Grid\"},{\"id\":\"d626f4f0-2b0e-41ed-9b8b-6c280196bb42\",\"type\":\"LogAxis\"},{\"id\":\"c3f6e8f5-b9aa-4f7b-aa57-bf1621498ffd\",\"type\":\"Grid\"},{\"id\":\"38181a5e-957a-4aa1-a425-ba79930fb443\",\"type\":\"BoxAnnotation\"},{\"id\":\"21c1fd48-9c8b-4f43-bce4-0d8c7a9e4437\",\"type\":\"GlyphRenderer\"},{\"id\":\"4acbfe7d-581d-4ca5-b72c-ab02f6d18694\",\"type\":\"GlyphRenderer\"},{\"id\":\"5e831830-4e66-4498-9c43-3c3610be44ec\",\"type\":\"GlyphRenderer\"},{\"id\":\"eff41d10-8bf5-4d3d-b84f-4375731efcd2\",\"type\":\"Legend\"}],\"title\":{\"id\":\"b97f53df-05f1-439d-9391-357b940bd317\",\"type\":\"Title\"},\"toolbar\":{\"id\":\"5cf0f003-113c-4466-8610-27a44c128f63\",\"type\":\"Toolbar\"},\"toolbar_location\":null,\"x_range\":{\"id\":\"4221bbf6-1256-4e46-b87b-a8bc2e79b625\",\"type\":\"Range1d\"},\"x_scale\":{\"id\":\"01266fe5-d146-44c8-af39-1d90fd7dabed\",\"type\":\"LinearScale\"},\"y_range\":{\"id\":\"372dcd8d-1b70-4f56-ae49-6c0f4e09d5fb\",\"type\":\"Range1d\"},\"y_scale\":{\"id\":\"603f5368-3d88-4284-b338-5fafe08d039e\",\"type\":\"LogScale\"}},\"id\":\"d8d89392-fc36-4c4d-9676-0601b85245e6\",\"subtype\":\"Figure\",\"type\":\"Plot\"},{\"attributes\":{\"dimension\":1,\"plot\":{\"id\":\"d8d89392-fc36-4c4d-9676-0601b85245e6\",\"subtype\":\"Figure\",\"type\":\"Plot\"},\"ticker\":{\"id\":\"69e02471-b513-4ed8-82d1-560c60abee09\",\"type\":\"LogTicker\"}},\"id\":\"c3f6e8f5-b9aa-4f7b-aa57-bf1621498ffd\",\"type\":\"Grid\"},{\"attributes\":{},\"id\":\"bb31ff83-7b25-4484-a8f6-a8869b65d50e\",\"type\":\"Selection\"},{\"attributes\":{},\"id\":\"130baadf-01e3-4e18-889f-3313e77fd482\",\"type\":\"BasicTickFormatter\"},{\"attributes\":{\"line_alpha\":0.1,\"line_color\":\"#1f77b4\",\"line_width\":1.5,\"x\":{\"field\":\"x\"},\"y\":{\"field\":\"y\"}},\"id\":\"4030e39b-79fc-4b43-b976-bec72c471875\",\"type\":\"Line\"},{\"attributes\":{},\"id\":\"13de504c-c276-4a71-b0e5-7a94f81a113c\",\"type\":\"BasicTicker\"},{\"attributes\":{},\"id\":\"4cb5ffe4-84da-42b9-b2c5-f2f1839b3c75\",\"type\":\"UnionRenderers\"},{\"attributes\":{\"data_source\":{\"id\":\"4f19f888-5734-4f03-9b83-a3de3914f4b9\",\"type\":\"ColumnDataSource\"},\"glyph\":{\"id\":\"7c645800-eaa2-4253-86ac-f45e5abd8c43\",\"type\":\"Line\"},\"hover_glyph\":null,\"muted_glyph\":null,\"nonselection_glyph\":{\"id\":\"78096727-3d02-4167-bea8-63dc28b28fb9\",\"type\":\"Line\"},\"selection_glyph\":null,\"view\":{\"id\":\"286a48ef-c716-408d-9e10-197e8422841a\",\"type\":\"CDSView\"}},\"id\":\"89d1a811-7f89-455e-89f8-558087dc79dd\",\"type\":\"GlyphRenderer\"},{\"attributes\":{},\"id\":\"e024b050-6b08-40c6-98f1-6fcb06fa4e31\",\"type\":\"UnionRenderers\"},{\"attributes\":{\"plot\":null,\"text\":\"\"},\"id\":\"89702cef-de51-4c70-b92f-e5ab6c68a954\",\"type\":\"Title\"},{\"attributes\":{},\"id\":\"50f0e90d-14ff-41dc-b6b3-b7c10d900c9a\",\"type\":\"Selection\"},{\"attributes\":{\"above\":[{\"id\":\"c8e6f8d3-7622-4a30-87f9-7bcfd55e3173\",\"type\":\"Legend\"}],\"below\":[{\"id\":\"8ed3e751-1a46-4789-a26d-8aeb83d778fe\",\"type\":\"LinearAxis\"}],\"left\":[{\"id\":\"c518125d-05a7-4003-b83c-9fdbd56f39d2\",\"type\":\"LogAxis\"}],\"plot_width\":300,\"renderers\":[{\"id\":\"8ed3e751-1a46-4789-a26d-8aeb83d778fe\",\"type\":\"LinearAxis\"},{\"id\":\"f6e228c7-3c86-4b6f-b1bb-5533d2da9abe\",\"type\":\"Grid\"},{\"id\":\"c518125d-05a7-4003-b83c-9fdbd56f39d2\",\"type\":\"LogAxis\"},{\"id\":\"24f565fa-1a4e-44d2-9066-978d43fd219c\",\"type\":\"Grid\"},{\"id\":\"8fff07ed-238b-427d-85b1-d53eb4ce5b1f\",\"type\":\"BoxAnnotation\"},{\"id\":\"dd605d5b-a903-4dbc-beb1-936525b83377\",\"type\":\"GlyphRenderer\"},{\"id\":\"b05c0d9d-55d8-44d1-bf8e-e0fefc414d53\",\"type\":\"GlyphRenderer\"},{\"id\":\"f8400292-fb01-496e-9191-4f9bfce7a5da\",\"type\":\"GlyphRenderer\"},{\"id\":\"030b4a9e-43b5-4760-855a-e45449528537\",\"type\":\"GlyphRenderer\"},{\"id\":\"38292a19-b894-4c05-9b2e-34c159e7ef8e\",\"type\":\"GlyphRenderer\"},{\"id\":\"c8e6f8d3-7622-4a30-87f9-7bcfd55e3173\",\"type\":\"Legend\"}],\"title\":{\"id\":\"f55169e7-e222-49e3-868c-f0c36f144e4d\",\"type\":\"Title\"},\"toolbar\":{\"id\":\"b4145347-8117-4446-86d1-aac3d741d43a\",\"type\":\"Toolbar\"},\"toolbar_location\":null,\"x_range\":{\"id\":\"c58ad976-b619-4f9b-9be8-2b20c1961543\",\"type\":\"Range1d\"},\"x_scale\":{\"id\":\"a4bc150e-0033-4885-966f-01ccf9ab28ad\",\"type\":\"LinearScale\"},\"y_range\":{\"id\":\"bbbfedc5-bc3b-4858-ab17-21f456cc703b\",\"type\":\"Range1d\"},\"y_scale\":{\"id\":\"04513f9b-2090-414e-84fe-31b0957c6b6c\",\"type\":\"LogScale\"}},\"id\":\"e72f4e0a-3bed-4b63-9f1b-16b9fe3ab901\",\"subtype\":\"Figure\",\"type\":\"Plot\"},{\"attributes\":{\"plot\":null,\"text\":\"\"},\"id\":\"b97f53df-05f1-439d-9391-357b940bd317\",\"type\":\"Title\"},{\"attributes\":{\"axis_label\":\"pressure [mb]\",\"formatter\":{\"id\":\"b49e2eb2-686d-4d0c-9f26-2d4d0460f352\",\"type\":\"LogTickFormatter\"},\"plot\":{\"id\":\"d8d89392-fc36-4c4d-9676-0601b85245e6\",\"subtype\":\"Figure\",\"type\":\"Plot\"},\"ticker\":{\"id\":\"69e02471-b513-4ed8-82d1-560c60abee09\",\"type\":\"LogTicker\"}},\"id\":\"d626f4f0-2b0e-41ed-9b8b-6c280196bb42\",\"type\":\"LogAxis\"},{\"attributes\":{},\"id\":\"9ba73c26-252a-4778-bafe-a4ab849ec171\",\"type\":\"ResetTool\"},{\"attributes\":{\"callback\":null,\"data\":{\"x\":{\"__ndarray__\":\"cm1sTMT3VEDEyvjosEJHQOKI6DjzCUNArgQWV9awPkB9Lm8XG3M4QEz+Qv6iYzNA7eV8HaPLLkCX1QHyTpMoQFBmYSYetiNAUB04GtGpH0AmFyVE5j8ZQJca9QPGqBNALJP+OOHHDEBNxaf7QF8AQKtislomWuw/cW2dcO6A9T/uJJvfPu0EQIaQLTI/JQ1AxGiII+PmEkCJvfVeuCsYQD6ZBhGbHB9AXQw69DTYJEAsubcwKucqQNuT9D5OmipAJyi3szEJJUBlNebh5WkgQDDcPHBr2xlArtlANXuQFEBdJadFHckQQI2Avh0ZsQtAjYiwt1rsBUCL0SDoVBgAQK6C0nEEjvc/CggLSme58T9sXU2orFPnP0v0JYz9Gdg/vT38vxYczD9nBQTe6kHHP1IhkEXJwKo/8OZnhCVAub+xtVgCpmqzP6DUpY6g0+k/PKK3T1h4+D8RTDjQc1EAQG/dAQs7TwJAQt2eHpPLAEBWEh074x//PyCap9ZSGf4/rEzaTySm/T+7aXhHRmr9P688KeqeNP0/ruZ4EemD/D8olrZcn9T7P0+vNc9hW/s/i9VVL+4P+z+0NzC24uz6P8731Kza8vo/xFf4SHzq+z+gYyHpvHb8P68ROkiFevw/BAjYdCga/D8AUp8VbW77P3JrF/nKmvo/qCQeGfq++T/dplwHJfn4P2G4p+Uva/g/OzZ0RqMZ+D8dmn/iar73P/OuA7Ka8PY/gaaeQHGn9T9hkyjAH1L0P3aZGhdAU/M/n8VP/g7P8j+90HxHNvfyPwhNBtgrqvk/\",\"dtype\":\"float64\",\"shape\":[75]},\"y\":{\"__ndarray__\":\"GhExyth1ND/Sv8nbtpRIP2vylNV0PVE/aTum7souWD/At0SJ8fVgPw3Iuahxymc/MSNhhJWvcD/bTfBN02d3P2zb5nxnaoA/CD5h5MAGhz8NmeH1TyaQP+zrCsc9p5Y/LbKd76fGnz/bLW5ISEmmPww9YvTcQq8/JV2OstnstT8Er5Y7M8G+P0c+r3jqkcU/5h99k6ZBzj88bCIzFzjVP4enV8oyxN0//yH99nXg5D8qOpLLf0jtP5kqGJXUifQ/c9cS8kHP/D+/DpwzojQEQIEmwoanVwxA4lgXt9HgE0BSSZ2AJuIbQAMJih9jjiNA5q4l5INuK0AwTKYKRj0zQNv5fmq8/DpAaCJseHrtQkB/+zpwzoxKQM3MzMzMeFJAZmZmZmZqWEAAAAAAAFxeQM3MzMzMJmJAmpmZmZkfZUBmZmZmZhhoQDMzMzMzEWtAAAAAAAAKbkBmZmZmZoFwQM3MzMzM/XFAMzMzMzN6c0CamZmZmfZ0QAAAAAAAc3ZAZmZmZmbvd0DNzMzMzGt5QDMzMzMz6HpAmpmZmZlkfEAAAAAAAOF9QGZmZmZmXX9AZmZmZuZsgECamZmZGSuBQM3MzMxM6YFAAAAAAICngkAzMzMzs2WDQGZmZmbmI4RAmpmZmRnihEDNzMzMTKCFQAAAAACAXoZAMzMzM7Mch0BmZmZm5tqHQJqZmZkZmYhAzczMzExXiUAAAAAAgBWKQDMzMzOz04pAZmZmZuaRi0CamZmZGVCMQM3MzMxMDo1AAAAAAIDMjUAzMzMzs4qOQGZmZmbmSI9A\",\"dtype\":\"float64\",\"shape\":[75]}},\"selected\":{\"id\":\"6e64d1ad-3f99-4246-b489-3a892e074fdc\",\"type\":\"Selection\"},\"selection_policy\":{\"id\":\"6240b6cc-728a-4a3d-8768-5cdda37e2f8c\",\"type\":\"UnionRenderers\"}},\"id\":\"b614c91d-bc57-4bd5-a50d-ca2eb25efe3b\",\"type\":\"ColumnDataSource\"},{\"attributes\":{},\"id\":\"6d0d6aca-133a-4165-993a-5ff2bd137c70\",\"type\":\"Selection\"},{\"attributes\":{},\"id\":\"a90e8ac2-7392-4e3c-8e9d-d76eb484bb4c\",\"type\":\"PanTool\"},{\"attributes\":{\"bottom_units\":\"screen\",\"fill_alpha\":{\"value\":0.5},\"fill_color\":{\"value\":\"lightgrey\"},\"left_units\":\"screen\",\"level\":\"overlay\",\"line_alpha\":{\"value\":1.0},\"line_color\":{\"value\":\"black\"},\"line_dash\":[4,4],\"line_width\":{\"value\":2},\"plot\":null,\"render_mode\":\"css\",\"right_units\":\"screen\",\"top_units\":\"screen\"},\"id\":\"38181a5e-957a-4aa1-a425-ba79930fb443\",\"type\":\"BoxAnnotation\"},{\"attributes\":{\"line_alpha\":0.1,\"line_color\":\"#1f77b4\",\"line_width\":1.5,\"x\":{\"field\":\"x\"},\"y\":{\"field\":\"y\"}},\"id\":\"032f728c-cd46-4248-ad09-3d4670622c7d\",\"type\":\"Line\"},{\"attributes\":{\"line_color\":\"#4daf4a\",\"line_width\":1.5,\"x\":{\"field\":\"x\"},\"y\":{\"field\":\"y\"}},\"id\":\"75a63ef9-49a2-468d-8c79-0a6f0bf5b5a9\",\"type\":\"Line\"},{\"attributes\":{\"toolbar\":{\"id\":\"c514461c-c1f5-4918-9899-53a2f0f877dc\",\"type\":\"ProxyToolbar\"},\"toolbar_location\":\"above\"},\"id\":\"cbe8c786-0762-414b-9aab-5645c784510c\",\"type\":\"ToolbarBox\"},{\"attributes\":{\"fill_alpha\":{\"value\":0.1},\"fill_color\":{\"value\":\"#1f77b4\"},\"line_alpha\":{\"value\":0.1},\"line_color\":{\"value\":\"#1f77b4\"},\"x\":{\"field\":\"x\"},\"y\":{\"field\":\"y\"}},\"id\":\"4de1529f-d4ab-4af0-a164-c7663c33cfb8\",\"type\":\"Square\"},{\"attributes\":{\"callback\":null,\"data\":{\"x\":{\"__ndarray__\":\"EFTPEMULEsBY5Soo7NcRwOAih0PfTQnAcLzxlkslFUAgkIluU6TzP+gpDdzLdwVAICHKUKVt1T+Ik7s3hMbwP6AHr9TDy9y/ECnbDOK15j+w2qv7vfbXvzCQ/22EH9Y/ABwN6PuE1b8w8RgTZ5TNP8ZxqdeCOdI/WPaTJPMAyz/gCWaNx9zKv4Bz2SfMkLG/QNDU2Dvrw7/gjDvG8ELPv3BfAcZ9A9W/QPE2M06U4r+4EtXbvdv4v8CHA9UM1vO/wNkC+csj1L9A31CHx4DGv4BAVcDWEKk/AJyjBEwOpL8A2K0iJHelvwAHMEdHKYW/QAFQrblkpT+AYHxUdJWePwCcnL/AFYO/AIDdMF2+IL9AoMQ3Xs6Hv8CEJWa/IIk/SHjx3bH7mD9glt/hXwibv4AXhtbv81c/0ZPByHVmuD+ZIBKsyEuxPwB7VdwaDKi/AMK2wPlcpL+A1M+Jt0OhvwBblecIUqS/AOzlE2F5m79AcNDuEvKUv8BO6MRU/Ja/ALSuiFPKhL8ASGwETKOKvwCIZggV2Yi/AB5fgpVndD+A7LY9mXWhv8C4xgD0L5O/ALuUgd63fD8AAPReZ8gCPwB4gQY0fE+/gN8kEc8Okj9ggdWOaw6mPwButB7pzIA/QJoEKHMXlz9A3ZOmSfmuP0CC+mOR17o/8L5CjVu4sD8gd3D5DeiqP4BAGGl6MbI/oBQpEQTvtT+AoHD36662PwCQysucWWu/gOgg5EKCgD+gmD6me76hPwAZquxAgK4/MDP40Wo1tD/gyKr9n0C3P9Ci4ei4h7S/\",\"dtype\":\"float64\",\"shape\":[75]},\"y\":{\"__ndarray__\":\"GhExyth1ND/Sv8nbtpRIP2vylNV0PVE/aTum7souWD/At0SJ8fVgPw3Iuahxymc/MSNhhJWvcD/bTfBN02d3P2zb5nxnaoA/CD5h5MAGhz8NmeH1TyaQP+zrCsc9p5Y/LbKd76fGnz/bLW5ISEmmPww9YvTcQq8/JV2OstnstT8Er5Y7M8G+P0c+r3jqkcU/5h99k6ZBzj88bCIzFzjVP4enV8oyxN0//yH99nXg5D8qOpLLf0jtP5kqGJXUifQ/c9cS8kHP/D+/DpwzojQEQIEmwoanVwxA4lgXt9HgE0BSSZ2AJuIbQAMJih9jjiNA5q4l5INuK0AwTKYKRj0zQNv5fmq8/DpAaCJseHrtQkB/+zpwzoxKQM3MzMzMeFJAZmZmZmZqWEAAAAAAAFxeQM3MzMzMJmJAmpmZmZkfZUBmZmZmZhhoQDMzMzMzEWtAAAAAAAAKbkBmZmZmZoFwQM3MzMzM/XFAMzMzMzN6c0CamZmZmfZ0QAAAAAAAc3ZAZmZmZmbvd0DNzMzMzGt5QDMzMzMz6HpAmpmZmZlkfEAAAAAAAOF9QGZmZmZmXX9AZmZmZuZsgECamZmZGSuBQM3MzMxM6YFAAAAAAICngkAzMzMzs2WDQGZmZmbmI4RAmpmZmRnihEDNzMzMTKCFQAAAAACAXoZAMzMzM7Mch0BmZmZm5tqHQJqZmZkZmYhAzczMzExXiUAAAAAAgBWKQDMzMzOz04pAZmZmZuaRi0CamZmZGVCMQM3MzMxMDo1AAAAAAIDMjUAzMzMzs4qOQGZmZmbmSI9A\",\"dtype\":\"float64\",\"shape\":[75]}},\"selected\":{\"id\":\"07da8e01-09b1-4470-a88d-36720b545bfd\",\"type\":\"Selection\"},\"selection_policy\":{\"id\":\"ef7f776d-372d-4e32-8f4a-a2cff599db00\",\"type\":\"UnionRenderers\"}},\"id\":\"77e1632c-5049-4ae6-beb9-6e4fe97891c7\",\"type\":\"ColumnDataSource\"},{\"attributes\":{\"source\":{\"id\":\"4f19f888-5734-4f03-9b83-a3de3914f4b9\",\"type\":\"ColumnDataSource\"}},\"id\":\"286a48ef-c716-408d-9e10-197e8422841a\",\"type\":\"CDSView\"},{\"attributes\":{},\"id\":\"21c7d80b-33f6-4788-abae-51a93d9967af\",\"type\":\"Selection\"},{\"attributes\":{\"line_alpha\":0.5,\"line_color\":\"#377eb8\",\"line_dash\":[6],\"line_width\":4,\"x\":{\"field\":\"x\"},\"y\":{\"field\":\"y\"}},\"id\":\"24bb34b8-f959-4289-9506-296b3a069983\",\"type\":\"Line\"},{\"attributes\":{},\"id\":\"25fea989-dc36-4af0-be2c-413d9a04cc33\",\"type\":\"Selection\"},{\"attributes\":{\"fill_alpha\":{\"value\":0.1},\"fill_color\":{\"value\":\"#1f77b4\"},\"line_alpha\":{\"value\":0.1},\"line_color\":{\"value\":\"#1f77b4\"},\"x\":{\"field\":\"x\"},\"y\":{\"field\":\"y\"}},\"id\":\"705fddc0-b2d9-474d-bf42-eab8d3059975\",\"type\":\"Circle\"},{\"attributes\":{},\"id\":\"8d32abff-9e98-46f6-9b85-f51014bd461a\",\"type\":\"Selection\"},{\"attributes\":{},\"id\":\"8a6a7ba4-0e41-4fc5-aa73-77fe62ba3fdf\",\"type\":\"UnionRenderers\"},{\"attributes\":{},\"id\":\"d6196119-b943-4f0d-894e-e775b269b2e9\",\"type\":\"UnionRenderers\"},{\"attributes\":{\"data_source\":{\"id\":\"77e1632c-5049-4ae6-beb9-6e4fe97891c7\",\"type\":\"ColumnDataSource\"},\"glyph\":{\"id\":\"24bb34b8-f959-4289-9506-296b3a069983\",\"type\":\"Line\"},\"hover_glyph\":null,\"muted_glyph\":null,\"nonselection_glyph\":{\"id\":\"96426e5f-f456-4241-b5b5-9a94b42cd65c\",\"type\":\"Line\"},\"selection_glyph\":null,\"view\":{\"id\":\"2653e6e6-2402-408a-b2bc-92072123f027\",\"type\":\"CDSView\"}},\"id\":\"5e831830-4e66-4498-9c43-3c3610be44ec\",\"type\":\"GlyphRenderer\"},{\"attributes\":{},\"id\":\"b12174bc-4c2c-4b1d-8eb3-19be9b0695bb\",\"type\":\"Selection\"},{\"attributes\":{\"source\":{\"id\":\"77e1632c-5049-4ae6-beb9-6e4fe97891c7\",\"type\":\"ColumnDataSource\"}},\"id\":\"2653e6e6-2402-408a-b2bc-92072123f027\",\"type\":\"CDSView\"},{\"attributes\":{\"callback\":null,\"data\":{\"x\":{\"__ndarray__\":\"BPuz262hRUD1g8JaPelCQPv3GB6DuUFAhg9FhZ0aQECPbyNHiwQ8QCSvBVjNDzdAy9bjz2rKMUDQXb4lUMApQDN0Gfa/ByJA8AjV9PoiGkDvu/Wb+tQUQJNEiucRsBFAsa3lOeFADUDhK0qLUIoDQNecNFQA4PU/w6YRJ4F6+j/cyQIp9SkFQBnfiarrBwtAcdqW0EreEECn2/yDtxYWQOnQgo9N/x1AiMMZTXzXJECiemqEpdAqQMe+qpMoASpAZOTAdGBTJEDpikcZ2UogQIll6W7DZhtAe2VW3rIEFkAzgmpnkiQRQKjTvV/U0wtAcqqcYNj3B0DknV5JtLgCQA5W+W3q3fk/U1s+ID0e8T8pLRzymjHnP9ZKFUJPbts/aqtyISJGzD+VHlLEqyS/P1ZfYF91oKW/1GxCu/oByr/IoQS2hPiMv1c+mEtboec/qmtS8q9v9z/f3n8sRxAAQP8QrLPkkQFAtRAaAZkBAECF4DWAlDr+PxNqnleTGv0/cVcop6lk/D94GAULKDf8P72WjnwQVPw/mAC3f0ns+z8v+iIIYXL7PzXs/sc+CPs/Ng1AWee++j+G9FgNIor6PwvP/ew2ifo/R5p3mTOg+z+11Qym6oH8PxM5RUrhBP0/RPrJt4cE/T/3gFBJY2X8P/RN9QjXTvs/ZfiWDNwe+j93a/6AzAj5P9OJ6kfodvg//F85OJRG+D8Iz6J840H4P1Tl6OJQvvc/B+PtavWu9j9tXzMF2n31P5n0wBZekvQ/jB7OdFUa9D/ip0UTHE30P7qnJwNy9/o/\",\"dtype\":\"float64\",\"shape\":[75]},\"y\":{\"__ndarray__\":\"S/O/Q+51ND/Sv8nbtpRIP2vylNV0PVE/aTum7souWD/At0SJ8fVgPw3Iuahxymc/MSNhhJWvcD/bTfBN02d3P2zb5nxnaoA/CD5h5MAGhz8NmeH1TyaQP+zrCsc9p5Y/LbKd76fGnz/bLW5ISEmmPww9YvTcQq8/JV2OstnstT8Er5Y7M8G+P0c+r3jqkcU/5h99k6ZBzj88bCIzFzjVP4enV8oyxN0//yH99nXg5D8qOpLLf0jtP5kqGJXUifQ/c9cS8kHP/D+/DpwzojQEQIEmwoanVwxA4lgXt9HgE0BSSZ2AJuIbQAMJih9jjiNA5q4l5INuK0AwTKYKRj0zQNv5fmq8/DpAaCJseHrtQkB/+zpwzoxKQM3MzMzMeFJAZmZmZmZqWEAAAAAAAFxeQM3MzMzMJmJAmpmZmZkfZUBmZmZmZhhoQDMzMzMzEWtAAAAAAAAKbkBmZmZmZoFwQM3MzMzM/XFAMzMzMzN6c0CamZmZmfZ0QAAAAAAAc3ZAZmZmZmbvd0DNzMzMzGt5QDMzMzMz6HpAmpmZmZlkfEAAAAAAAOF9QGZmZmZmXX9AZmZmZuZsgECamZmZGSuBQM3MzMxM6YFAAAAAAICngkAzMzMzs2WDQGZmZmbmI4RAmpmZmRnihEDNzMzMTKCFQAAAAACAXoZAMzMzM7Mch0BmZmZm5tqHQJqZmZkZmYhAzczMzExXiUAAAAAAgBWKQDMzMzOz04pAZmZmZuaRi0CamZmZGVCMQM3MzMxMDo1AAAAAAIDMjUAzMzMzs4qOQGZmZmbmSI9A\",\"dtype\":\"float64\",\"shape\":[75]}},\"selected\":{\"id\":\"50f0e90d-14ff-41dc-b6b3-b7c10d900c9a\",\"type\":\"Selection\"},\"selection_policy\":{\"id\":\"8a6a7ba4-0e41-4fc5-aa73-77fe62ba3fdf\",\"type\":\"UnionRenderers\"}},\"id\":\"1e6b1252-5020-4eca-9e77-1a44d84b7d9d\",\"type\":\"ColumnDataSource\"},{\"attributes\":{},\"id\":\"d93fbe4b-6ae8-4cc3-9146-d57a229cefd2\",\"type\":\"UnionRenderers\"},{\"attributes\":{},\"id\":\"f0297a6d-69cb-47f7-ae99-ae3c8f0b2701\",\"type\":\"SaveTool\"},{\"attributes\":{\"data_source\":{\"id\":\"b614c91d-bc57-4bd5-a50d-ca2eb25efe3b\",\"type\":\"ColumnDataSource\"},\"glyph\":{\"id\":\"75a63ef9-49a2-468d-8c79-0a6f0bf5b5a9\",\"type\":\"Line\"},\"hover_glyph\":null,\"muted_glyph\":null,\"nonselection_glyph\":{\"id\":\"4030e39b-79fc-4b43-b976-bec72c471875\",\"type\":\"Line\"},\"selection_glyph\":null,\"view\":{\"id\":\"957f8874-9d54-4da9-825b-ece0cdfe6e3a\",\"type\":\"CDSView\"}},\"id\":\"349df8c9-536d-45a3-85ed-69654deedf64\",\"type\":\"GlyphRenderer\"},{\"attributes\":{\"label\":{\"value\":\"CLIRAD (single-run) - CRD\"},\"renderers\":[{\"id\":\"21c1fd48-9c8b-4f43-bce4-0d8c7a9e4437\",\"type\":\"GlyphRenderer\"},{\"id\":\"4acbfe7d-581d-4ca5-b72c-ab02f6d18694\",\"type\":\"GlyphRenderer\"}]},\"id\":\"d2929c02-9c04-4e8a-b256-fce57b918dd1\",\"type\":\"LegendItem\"},{\"attributes\":{\"source\":{\"id\":\"aacb5b1d-aefa-4d81-92e3-9c36192e6a7f\",\"type\":\"ColumnDataSource\"}},\"id\":\"fe367ac0-677f-4c42-a881-6cab5d5e2c5c\",\"type\":\"CDSView\"},{\"attributes\":{},\"id\":\"ea6199cc-25e5-4f5e-ad16-7158ebccc021\",\"type\":\"UnionRenderers\"},{\"attributes\":{\"callback\":null,\"data\":{\"x\":{\"__ndarray__\":\"MXhf+wfXU0AZbvNjswdFQLQWsEQVdUFA5TlpnhT9QUB/x1dOYK05QImjxHmcEjZA9jYDSBB3L0AISPl4H6wqQBPuuwfAzyJAOcHprUZAIUB7WWpkesAXQJoT1Uq+ChVArO/8u0EXCkBgVNlshzgCQMeNQ+Nzu/I/POwv1Qzh+D9QxMRmcj8DQOrE7tC4mAxAQsLBRIlHEkAi4cPYoDEXQEeDpjRjzB1ASZ0GEfCuI0DVFj11sssnQOMiVKSMHyhAWRHvUxNoJEDo8cjD4g8gQLGGvR2NDRpAdpI3nV5oFECtyWH9Lp4QQIZQd9bvmwtAkshlnu1BBkBMysnQf1UAQHZJU/DYZ/c/HoEhV+G48T/rSm4vc/TmP3EgV4cD49g/xmy6+4w7zz+bEsjh3uDDPw5SRMRogKs/4GPKdPc1a78lazVXN1vCP/B84ODeUug/LOyxgXDV9z+/DBHyZAwAQAOIY+fy/QFAahF3XKCUAECV0GHvGsz+P+X4k4Nhvf0/RO/IqI98/T8rkW+v/zT9P59vGMDsAv0/zEX7plCY/D/E3siS8kj7P2yUMv+hDvs/RmrXDaYs+z+c9f5GCO36P58nVCbr7vo/Qus8hbcy/D+rD5hFMCf9P4t6dxofnPw/bRp4QYZ2/D/q8NNiN2b8P5YTVw9ESPw/l1Dy0X/K+j+WKih3ZdD5P2k8OYxHjvk/hceGh5N4+T8lpPahWSn5P6vJnePt4vY/UuhmxnXI9T8miFqdE+D0Pz7qfx5CR/Q/0khvq2US9D9LfVdHQGv0P9syeEmwYfg/\",\"dtype\":\"float64\",\"shape\":[75]},\"y\":{\"__ndarray__\":\"hLndy31yND/6fmq8dJNIP8n9DkWBPlE/aDum7souWD/b4a/JGvVgP9f34SAhymc/ZvM4DOavcD+z0M5pFmh3PxuC4zJuaoA/xjcUPlsHhz8uHAjJAiaQP9ieWRKgppY/oI7HDFTGnz+a5h2n6EimPzS6g9iZQq8/IuAQqtTstT9SSZ2AJsK+P4nS3uALk8U/ih9j7lpCzj+ASL99HTjVP4enV8oyxN0/ACL99nXg5D9fmEwVjErtPyUGgZVDi/Q/AiuHFtnO/D9OYhBYOTQEQPHSTWIQWAxA4XoUrkfhE0D8qfHSTeIbQMh2vp8ajyNArkfhehRuK0Bcj8L1KDwzQFyPwvUo/DpAPgrXo3DtQkDNzMzMzIxKQClcj8L1eFJAKVyPwvVoWECamZmZmVleQGZmZmZmJmJAAAAAAAAgZUCamZmZmRloQJqZmZmZEWtAmpmZmZkJbkCamZmZmYFwQGZmZmZm/nFAZmZmZmZ6c0BmZmZmZvZ0QDQzMzMzc3ZAAAAAAADwd0AAAAAAAGx5QAAAAAAA6HpAzMzMzMxkfEDMzMzMzOB9QM3MzMzMXH9AzczMzMxsgEAzMzMzMyuBQDMzMzMz6YFAMzMzMzOngkCamZmZmWWDQAAAAAAAJIRAAAAAAADihEAAAAAAAKCFQGZmZmZmXoZAzczMzMwch0DNzMzMzNqHQM3MzMzMmIhAMzMzMzNXiUCamZmZmRWKQAAAAAAA1IpAAAAAAACSi0AAAAAAAFCMQGZmZmZmDo1AzczMzMzMjUDNzMzMzIqOQM3MzMzMSI9A\",\"dtype\":\"float64\",\"shape\":[75]}},\"selected\":{\"id\":\"f53efaa5-9bf2-4451-ad3a-4f5c737d805c\",\"type\":\"Selection\"},\"selection_policy\":{\"id\":\"bf875554-f3a2-48ac-997d-429c87a57780\",\"type\":\"UnionRenderers\"}},\"id\":\"1234a2a7-2c0d-49ff-a966-ffd594b8f14f\",\"type\":\"ColumnDataSource\"},{\"attributes\":{\"line_alpha\":0.1,\"line_color\":\"#1f77b4\",\"line_dash\":[6],\"line_width\":5,\"x\":{\"field\":\"x\"},\"y\":{\"field\":\"y\"}},\"id\":\"9a599e4c-f9ef-404e-94dd-ed5661567777\",\"type\":\"Line\"},{\"attributes\":{},\"id\":\"6e64d1ad-3f99-4246-b489-3a892e074fdc\",\"type\":\"Selection\"},{\"attributes\":{\"fill_alpha\":{\"value\":0.7},\"fill_color\":{\"value\":\"#4daf4a\"},\"line_alpha\":{\"value\":0.7},\"line_color\":{\"value\":\"#4daf4a\"},\"x\":{\"field\":\"x\"},\"y\":{\"field\":\"y\"}},\"id\":\"2b9d5756-91fb-4f69-8eb6-053d545639b9\",\"type\":\"Circle\"},{\"attributes\":{},\"id\":\"7ecc7012-09b0-47f9-b34f-d6b41a5e51a0\",\"type\":\"UnionRenderers\"},{\"attributes\":{},\"id\":\"d63e13da-ecf6-4891-9409-b0887054bf09\",\"type\":\"BasicTickFormatter\"},{\"attributes\":{},\"id\":\"e84690ec-5fc6-4d01-b598-e06a1492cae1\",\"type\":\"HelpTool\"},{\"attributes\":{},\"id\":\"dd264b48-e26c-4d30-aac4-d0276f0c8c75\",\"type\":\"WheelZoomTool\"},{\"attributes\":{\"plot\":{\"id\":\"e72f4e0a-3bed-4b63-9f1b-16b9fe3ab901\",\"subtype\":\"Figure\",\"type\":\"Plot\"},\"ticker\":{\"id\":\"237b4575-e0b1-4a57-8d5b-501c65ea9544\",\"type\":\"BasicTicker\"}},\"id\":\"f6e228c7-3c86-4b6f-b1bb-5533d2da9abe\",\"type\":\"Grid\"},{\"attributes\":{\"fill_alpha\":{\"value\":0.7},\"fill_color\":{\"value\":\"#984ea3\"},\"line_alpha\":{\"value\":0.7},\"line_color\":{\"value\":\"#984ea3\"},\"x\":{\"field\":\"x\"},\"y\":{\"field\":\"y\"}},\"id\":\"a5031377-d6ee-4ef5-89a7-8a93d44dc5ec\",\"type\":\"Square\"},{\"attributes\":{\"callback\":null,\"data\":{\"x\":{\"__ndarray__\":\"cm1sTMT3VEDEyvjosEJHQOKI6DjzCUNArgQWV9awPkB9Lm8XG3M4QEz+Qv6iYzNA7eV8HaPLLkCX1QHyTpMoQFBmYSYetiNAUB04GtGpH0AmFyVE5j8ZQJca9QPGqBNALJP+OOHHDEBNxaf7QF8AQKtislomWuw/cW2dcO6A9T/uJJvfPu0EQIaQLTI/JQ1AxGiII+PmEkCJvfVeuCsYQD6ZBhGbHB9AXQw69DTYJEAsubcwKucqQNuT9D5OmipAJyi3szEJJUBlNebh5WkgQDDcPHBr2xlArtlANXuQFEBdJadFHckQQI2Avh0ZsQtAjYiwt1rsBUCL0SDoVBgAQK6C0nEEjvc/CggLSme58T9sXU2orFPnP0v0JYz9Gdg/vT38vxYczD9nBQTe6kHHP1IhkEXJwKo/8OZnhCVAub+xtVgCpmqzP6DUpY6g0+k/PKK3T1h4+D8RTDjQc1EAQG/dAQs7TwJAQt2eHpPLAEBWEh074x//PyCap9ZSGf4/rEzaTySm/T+7aXhHRmr9P688KeqeNP0/ruZ4EemD/D8olrZcn9T7P0+vNc9hW/s/i9VVL+4P+z+0NzC24uz6P8731Kza8vo/xFf4SHzq+z+gYyHpvHb8P68ROkiFevw/BAjYdCga/D8AUp8VbW77P3JrF/nKmvo/qCQeGfq++T/dplwHJfn4P2G4p+Uva/g/OzZ0RqMZ+D8dmn/iar73P/OuA7Ka8PY/gaaeQHGn9T9hkyjAH1L0P3aZGhdAU/M/n8VP/g7P8j+90HxHNvfyPwhNBtgrqvk/\",\"dtype\":\"float64\",\"shape\":[75]},\"y\":{\"__ndarray__\":\"GhExyth1ND/Sv8nbtpRIP2vylNV0PVE/aTum7souWD/At0SJ8fVgPw3Iuahxymc/MSNhhJWvcD/bTfBN02d3P2zb5nxnaoA/CD5h5MAGhz8NmeH1TyaQP+zrCsc9p5Y/LbKd76fGnz/bLW5ISEmmPww9YvTcQq8/JV2OstnstT8Er5Y7M8G+P0c+r3jqkcU/5h99k6ZBzj88bCIzFzjVP4enV8oyxN0//yH99nXg5D8qOpLLf0jtP5kqGJXUifQ/c9cS8kHP/D+/DpwzojQEQIEmwoanVwxA4lgXt9HgE0BSSZ2AJuIbQAMJih9jjiNA5q4l5INuK0AwTKYKRj0zQNv5fmq8/DpAaCJseHrtQkB/+zpwzoxKQM3MzMzMeFJAZmZmZmZqWEAAAAAAAFxeQM3MzMzMJmJAmpmZmZkfZUBmZmZmZhhoQDMzMzMzEWtAAAAAAAAKbkBmZmZmZoFwQM3MzMzM/XFAMzMzMzN6c0CamZmZmfZ0QAAAAAAAc3ZAZmZmZmbvd0DNzMzMzGt5QDMzMzMz6HpAmpmZmZlkfEAAAAAAAOF9QGZmZmZmXX9AZmZmZuZsgECamZmZGSuBQM3MzMxM6YFAAAAAAICngkAzMzMzs2WDQGZmZmbmI4RAmpmZmRnihEDNzMzMTKCFQAAAAACAXoZAMzMzM7Mch0BmZmZm5tqHQJqZmZkZmYhAzczMzExXiUAAAAAAgBWKQDMzMzOz04pAZmZmZuaRi0CamZmZGVCMQM3MzMxMDo1AAAAAAIDMjUAzMzMzs4qOQGZmZmbmSI9A\",\"dtype\":\"float64\",\"shape\":[75]}},\"selected\":{\"id\":\"932227e4-3b4a-4d2a-901e-13129ed6c1e7\",\"type\":\"Selection\"},\"selection_policy\":{\"id\":\"a713ec08-60a1-4934-9732-c5a9825b9c29\",\"type\":\"UnionRenderers\"}},\"id\":\"aacb5b1d-aefa-4d81-92e3-9c36192e6a7f\",\"type\":\"ColumnDataSource\"},{\"attributes\":{\"label\":{\"value\":\"old CLIRAD (H2012) - CRD\"},\"renderers\":[{\"id\":\"5e831830-4e66-4498-9c43-3c3610be44ec\",\"type\":\"GlyphRenderer\"}]},\"id\":\"6bf389e0-3066-4e23-acc5-8cf52894a24e\",\"type\":\"LegendItem\"},{\"attributes\":{\"ticker\":null},\"id\":\"b49e2eb2-686d-4d0c-9f26-2d4d0460f352\",\"type\":\"LogTickFormatter\"},{\"attributes\":{\"axis_label\":\"pressure [mb]\",\"formatter\":{\"id\":\"08f323c4-c9e6-42fb-ad77-fec48d27a85c\",\"type\":\"LogTickFormatter\"},\"plot\":{\"id\":\"e72f4e0a-3bed-4b63-9f1b-16b9fe3ab901\",\"subtype\":\"Figure\",\"type\":\"Plot\"},\"ticker\":{\"id\":\"229d36f4-27fa-4671-96cb-26339f7bae9e\",\"type\":\"LogTicker\"}},\"id\":\"c518125d-05a7-4003-b83c-9fdbd56f39d2\",\"type\":\"LogAxis\"},{\"attributes\":{\"line_alpha\":0.5,\"line_color\":\"#984ea3\",\"line_width\":1.5,\"x\":{\"field\":\"x\"},\"y\":{\"field\":\"y\"}},\"id\":\"e8092cdd-7fc6-43dd-a246-bb51e05ff795\",\"type\":\"Line\"},{\"attributes\":{\"data_source\":{\"id\":\"aacb5b1d-aefa-4d81-92e3-9c36192e6a7f\",\"type\":\"ColumnDataSource\"},\"glyph\":{\"id\":\"2b9d5756-91fb-4f69-8eb6-053d545639b9\",\"type\":\"Circle\"},\"hover_glyph\":null,\"muted_glyph\":null,\"nonselection_glyph\":{\"id\":\"705fddc0-b2d9-474d-bf42-eab8d3059975\",\"type\":\"Circle\"},\"selection_glyph\":null,\"view\":{\"id\":\"fe367ac0-677f-4c42-a881-6cab5d5e2c5c\",\"type\":\"CDSView\"}},\"id\":\"0447da84-d89f-4559-9dba-21e721b4fb5d\",\"type\":\"GlyphRenderer\"},{\"attributes\":{},\"id\":\"ef7f776d-372d-4e32-8f4a-a2cff599db00\",\"type\":\"UnionRenderers\"},{\"attributes\":{},\"id\":\"bf875554-f3a2-48ac-997d-429c87a57780\",\"type\":\"UnionRenderers\"}],\"root_ids\":[\"a761faa2-191c-46b2-b037-da356cb6ec36\"]},\"title\":\"Bokeh Application\",\"version\":\"0.12.16\"}};\n",
       "  var render_items = [{\"docid\":\"2ee0d57c-6d73-4c8b-a7dd-5e7c9b785138\",\"elementid\":\"f2a2896a-9987-4d4d-aa0b-dedaf3b821e2\",\"modelid\":\"a761faa2-191c-46b2-b037-da356cb6ec36\"}];\n",
       "  root.Bokeh.embed.embed_items_notebook(docs_json, render_items);\n",
       "\n",
       "  }\n",
       "  if (root.Bokeh !== undefined) {\n",
       "    embed_document(root);\n",
       "  } else {\n",
       "    var attempts = 0;\n",
       "    var timer = setInterval(function(root) {\n",
       "      if (root.Bokeh !== undefined) {\n",
       "        embed_document(root);\n",
       "        clearInterval(timer);\n",
       "      }\n",
       "      attempts++;\n",
       "      if (attempts > 100) {\n",
       "        console.log(\"Bokeh: ERROR: Unable to run BokehJS code because BokehJS library is missing\")\n",
       "        clearInterval(timer);\n",
       "      }\n",
       "    }, 10, root)\n",
       "  }\n",
       "})(window);"
      ],
      "application/vnd.bokehjs_exec.v0+json": ""
     },
     "metadata": {
      "application/vnd.bokehjs_exec.v0+json": {
       "id": "a761faa2-191c-46b2-b037-da356cb6ec36"
      }
     },
     "output_type": "display_data"
    },
    {
     "data": {
      "text/markdown": [
       "*FIGURE.* Cooling rates & difference."
      ],
      "text/plain": [
       "<IPython.core.display.Markdown object>"
      ]
     },
     "metadata": {},
     "output_type": "display_data"
    },
    {
     "data": {
      "text/html": [
       "<a id=\"Fluxes._mls.\"></a>"
      ],
      "text/plain": [
       "<IPython.core.display.HTML object>"
      ]
     },
     "metadata": {},
     "output_type": "display_data"
    },
    {
     "data": {
      "text/markdown": [
       "# Fluxes. mls."
      ],
      "text/plain": [
       "<IPython.core.display.Markdown object>"
      ]
     },
     "metadata": {},
     "output_type": "display_data"
    },
    {
     "data": {
      "text/html": [
       "\n",
       "<div class=\"bk-root\">\n",
       "    <div class=\"bk-plotdiv\" id=\"2a9285f6-5038-4620-bd7b-f37bc1456679\"></div>\n",
       "</div>"
      ]
     },
     "metadata": {},
     "output_type": "display_data"
    },
    {
     "data": {
      "application/javascript": [
       "(function(root) {\n",
       "  function embed_document(root) {\n",
       "    \n",
       "  var docs_json = {\"3b5a98ed-60af-478d-bef8-4f91d3578756\":{\"roots\":{\"references\":[{\"attributes\":{},\"id\":\"51789dd4-54c0-4ea4-9d12-3372b6b749bb\",\"type\":\"CategoricalTicker\"},{\"attributes\":{\"plot\":null,\"text\":\"Atmosphere heating. CLIRAD (single-run) - CRD.\"},\"id\":\"ff16a7fa-7eb9-44c8-815c-78f9d3431435\",\"type\":\"Title\"},{\"attributes\":{\"fill_alpha\":{\"value\":0.1},\"fill_color\":{\"value\":\"#1f77b4\"},\"line_alpha\":{\"value\":0.1},\"line_color\":{\"value\":\"#1f77b4\"},\"top\":{\"field\":\"flux\"},\"width\":{\"value\":0.9},\"x\":{\"field\":\"band\"}},\"id\":\"a65af244-c42e-4c95-a9b1-62a719f0eef4\",\"type\":\"VBar\"},{\"attributes\":{\"dimension\":1,\"plot\":{\"id\":\"9f43c575-2a6d-40d8-bc4d-f1bf486faacb\",\"subtype\":\"Figure\",\"type\":\"Plot\"},\"ticker\":{\"id\":\"49cc1999-fad5-4737-90a4-e4c9c78ce6d0\",\"type\":\"BasicTicker\"}},\"id\":\"e03b2746-e636-4857-b712-6641e12bd37f\",\"type\":\"Grid\"},{\"attributes\":{},\"id\":\"dcbdfd8b-63ac-4f91-80b4-d03038d5ba28\",\"type\":\"LinearScale\"},{\"attributes\":{},\"id\":\"328a3f89-6c0f-4692-81a0-f183e2b78c7b\",\"type\":\"UnionRenderers\"},{\"attributes\":{},\"id\":\"02322a64-1819-444a-aaa7-1545f5b123ab\",\"type\":\"CategoricalTickFormatter\"},{\"attributes\":{\"children\":[{\"id\":\"8ab6228a-5dca-4868-8166-9aacd34990fc\",\"type\":\"Row\"}]},\"id\":\"32825863-ba14-423c-bad7-87852a6bc604\",\"type\":\"Column\"},{\"attributes\":{},\"id\":\"07297d87-b30b-4778-ad60-fe5762d8fd96\",\"type\":\"CategoricalTicker\"},{\"attributes\":{\"overlay\":{\"id\":\"8bc25f6b-e581-42af-b5e1-0cf6e3b49a1c\",\"type\":\"BoxAnnotation\"}},\"id\":\"35ed9656-261a-4c80-9347-e996eddd7dae\",\"type\":\"BoxZoomTool\"},{\"attributes\":{},\"id\":\"d0a55211-f451-4929-8629-d4470ee65700\",\"type\":\"CategoricalTickFormatter\"},{\"attributes\":{\"source\":{\"id\":\"f7d7eb9e-ddb3-4380-973f-3fe0dfa38c84\",\"type\":\"ColumnDataSource\"}},\"id\":\"4d398dab-e204-4200-b116-a03dd53b9c29\",\"type\":\"CDSView\"},{\"attributes\":{\"callback\":null,\"factors\":[\"1\",\"2\",\"3\",\"4\",\"5\",\"6\",\"7\",\"8\",\"9\",\"10\",\"11\"]},\"id\":\"7d6f748a-04dd-437f-86f9-dd2b973b7480\",\"type\":\"FactorRange\"},{\"attributes\":{},\"id\":\"dd0c1b50-3e26-4b2a-8943-8907a6e9339b\",\"type\":\"PanTool\"},{\"attributes\":{},\"id\":\"084fed91-fa3d-439d-9f48-94d3a7209aa1\",\"type\":\"CategoricalScale\"},{\"attributes\":{\"axis_label\":\"spectral band\",\"formatter\":{\"id\":\"02322a64-1819-444a-aaa7-1545f5b123ab\",\"type\":\"CategoricalTickFormatter\"},\"plot\":{\"id\":\"9f43c575-2a6d-40d8-bc4d-f1bf486faacb\",\"subtype\":\"Figure\",\"type\":\"Plot\"},\"ticker\":{\"id\":\"07297d87-b30b-4778-ad60-fe5762d8fd96\",\"type\":\"CategoricalTicker\"}},\"id\":\"448af7cb-9b8a-4b18-8ce9-91d358a05d6e\",\"type\":\"CategoricalAxis\"},{\"attributes\":{},\"id\":\"b126a397-7676-4744-99a8-1b53f3eec8a0\",\"type\":\"BasicTickFormatter\"},{\"attributes\":{\"plot\":{\"id\":\"9f43c575-2a6d-40d8-bc4d-f1bf486faacb\",\"subtype\":\"Figure\",\"type\":\"Plot\"},\"ticker\":{\"id\":\"07297d87-b30b-4778-ad60-fe5762d8fd96\",\"type\":\"CategoricalTicker\"}},\"id\":\"98af672f-83b8-46f1-945d-193299cb2fb9\",\"type\":\"Grid\"},{\"attributes\":{},\"id\":\"0415fd4c-4817-4755-b8c9-948349805583\",\"type\":\"HelpTool\"},{\"attributes\":{\"plot\":null,\"text\":\"SFC flux. CLIRAD (single-run) - CRD.\"},\"id\":\"5d96ef05-3f8c-4f3d-b9ef-ddfaf6593134\",\"type\":\"Title\"},{\"attributes\":{},\"id\":\"24032a3d-aea6-4a9d-9bf4-79f6b8f1c2aa\",\"type\":\"Selection\"},{\"attributes\":{\"active_drag\":\"auto\",\"active_inspect\":\"auto\",\"active_scroll\":\"auto\",\"active_tap\":\"auto\",\"tools\":[{\"id\":\"3df285a9-be8a-4eb4-8672-9a90cd6992d9\",\"type\":\"PanTool\"},{\"id\":\"15aa5fea-d012-4225-bb14-822e8b6e69a4\",\"type\":\"WheelZoomTool\"},{\"id\":\"56f4b824-7161-4131-aef9-8a52c96ee6c6\",\"type\":\"BoxZoomTool\"},{\"id\":\"52a7392e-a860-4f81-95a4-c2870abc62ac\",\"type\":\"SaveTool\"},{\"id\":\"27b6fb01-9a93-4ce3-8354-70815c09e64a\",\"type\":\"ResetTool\"},{\"id\":\"0415fd4c-4817-4755-b8c9-948349805583\",\"type\":\"HelpTool\"}]},\"id\":\"092bc239-92b4-4997-947d-f31feb1ab441\",\"type\":\"Toolbar\"},{\"attributes\":{},\"id\":\"82124ab0-4d7e-4683-8200-2b998f041696\",\"type\":\"Selection\"},{\"attributes\":{},\"id\":\"896b5b63-8323-4844-8b23-c3717afe0875\",\"type\":\"WheelZoomTool\"},{\"attributes\":{},\"id\":\"49cc1999-fad5-4737-90a4-e4c9c78ce6d0\",\"type\":\"BasicTicker\"},{\"attributes\":{\"overlay\":{\"id\":\"a24f3176-408d-4769-aba2-76400c5d72a2\",\"type\":\"BoxAnnotation\"}},\"id\":\"56f4b824-7161-4131-aef9-8a52c96ee6c6\",\"type\":\"BoxZoomTool\"},{\"attributes\":{\"bottom_units\":\"screen\",\"fill_alpha\":{\"value\":0.5},\"fill_color\":{\"value\":\"lightgrey\"},\"left_units\":\"screen\",\"level\":\"overlay\",\"line_alpha\":{\"value\":1.0},\"line_color\":{\"value\":\"black\"},\"line_dash\":[4,4],\"line_width\":{\"value\":2},\"plot\":null,\"render_mode\":\"css\",\"right_units\":\"screen\",\"top_units\":\"screen\"},\"id\":\"a24f3176-408d-4769-aba2-76400c5d72a2\",\"type\":\"BoxAnnotation\"},{\"attributes\":{},\"id\":\"7e4ba73a-2c6f-4e34-a297-dae88fb02cb2\",\"type\":\"UnionRenderers\"},{\"attributes\":{\"axis_label\":\"spectral band\",\"formatter\":{\"id\":\"3af0dd94-a50c-4038-ade4-0621bba148fe\",\"type\":\"CategoricalTickFormatter\"},\"plot\":{\"id\":\"664458a6-5bd0-4ee2-910a-834c2210bdb9\",\"subtype\":\"Figure\",\"type\":\"Plot\"},\"ticker\":{\"id\":\"51789dd4-54c0-4ea4-9d12-3372b6b749bb\",\"type\":\"CategoricalTicker\"}},\"id\":\"32f0e163-7c8a-4531-8342-5e1fc03087b8\",\"type\":\"CategoricalAxis\"},{\"attributes\":{},\"id\":\"aba04ec7-e3ad-4cf3-a514-c061f59de701\",\"type\":\"Selection\"},{\"attributes\":{\"data_source\":{\"id\":\"4a4e3773-c28f-4c25-b157-2e0cb5799b37\",\"type\":\"ColumnDataSource\"},\"glyph\":{\"id\":\"3c00b459-d54c-4d75-a50e-d5230fdc4120\",\"type\":\"VBar\"},\"hover_glyph\":null,\"muted_glyph\":null,\"nonselection_glyph\":{\"id\":\"a65af244-c42e-4c95-a9b1-62a719f0eef4\",\"type\":\"VBar\"},\"selection_glyph\":null,\"view\":{\"id\":\"007e5f1c-1d5b-43d7-9a20-668551214611\",\"type\":\"CDSView\"}},\"id\":\"4105f250-bd59-4dfe-911f-b4933a1e17ce\",\"type\":\"GlyphRenderer\"},{\"attributes\":{},\"id\":\"99b49b96-de2b-4e81-8e4c-33aaef85e5db\",\"type\":\"BasicTickFormatter\"},{\"attributes\":{},\"id\":\"3df285a9-be8a-4eb4-8672-9a90cd6992d9\",\"type\":\"PanTool\"},{\"attributes\":{},\"id\":\"52a7392e-a860-4f81-95a4-c2870abc62ac\",\"type\":\"SaveTool\"},{\"attributes\":{\"callback\":null},\"id\":\"939ead25-5726-4c4d-8224-3a19969fc938\",\"type\":\"DataRange1d\"},{\"attributes\":{\"bottom_units\":\"screen\",\"fill_alpha\":{\"value\":0.5},\"fill_color\":{\"value\":\"lightgrey\"},\"left_units\":\"screen\",\"level\":\"overlay\",\"line_alpha\":{\"value\":1.0},\"line_color\":{\"value\":\"black\"},\"line_dash\":[4,4],\"line_width\":{\"value\":2},\"plot\":null,\"render_mode\":\"css\",\"right_units\":\"screen\",\"top_units\":\"screen\"},\"id\":\"8bc25f6b-e581-42af-b5e1-0cf6e3b49a1c\",\"type\":\"BoxAnnotation\"},{\"attributes\":{},\"id\":\"0c27383d-e00b-43d6-bfb5-58b36bfbd648\",\"type\":\"LinearScale\"},{\"attributes\":{\"below\":[{\"id\":\"448af7cb-9b8a-4b18-8ce9-91d358a05d6e\",\"type\":\"CategoricalAxis\"}],\"left\":[{\"id\":\"5b371b14-e3ae-4043-8686-9f7603ec6c4b\",\"type\":\"LinearAxis\"}],\"plot_height\":300,\"plot_width\":300,\"renderers\":[{\"id\":\"448af7cb-9b8a-4b18-8ce9-91d358a05d6e\",\"type\":\"CategoricalAxis\"},{\"id\":\"98af672f-83b8-46f1-945d-193299cb2fb9\",\"type\":\"Grid\"},{\"id\":\"5b371b14-e3ae-4043-8686-9f7603ec6c4b\",\"type\":\"LinearAxis\"},{\"id\":\"e03b2746-e636-4857-b712-6641e12bd37f\",\"type\":\"Grid\"},{\"id\":\"a24f3176-408d-4769-aba2-76400c5d72a2\",\"type\":\"BoxAnnotation\"},{\"id\":\"7056e843-cd65-4595-af05-f4e8c73c1bf2\",\"type\":\"GlyphRenderer\"}],\"title\":{\"id\":\"ff16a7fa-7eb9-44c8-815c-78f9d3431435\",\"type\":\"Title\"},\"toolbar\":{\"id\":\"092bc239-92b4-4997-947d-f31feb1ab441\",\"type\":\"Toolbar\"},\"toolbar_location\":null,\"x_range\":{\"id\":\"7d6f748a-04dd-437f-86f9-dd2b973b7480\",\"type\":\"FactorRange\"},\"x_scale\":{\"id\":\"978c7029-cdbb-4331-b9a2-0650ab918bb2\",\"type\":\"CategoricalScale\"},\"y_range\":{\"id\":\"6596ab5c-f445-4dcf-9fa2-ca922bd26aeb\",\"type\":\"DataRange1d\"},\"y_scale\":{\"id\":\"0c27383d-e00b-43d6-bfb5-58b36bfbd648\",\"type\":\"LinearScale\"}},\"id\":\"9f43c575-2a6d-40d8-bc4d-f1bf486faacb\",\"subtype\":\"Figure\",\"type\":\"Plot\"},{\"attributes\":{\"fill_color\":{\"value\":\"#1f77b4\"},\"line_color\":{\"value\":\"#1f77b4\"},\"top\":{\"field\":\"flux\"},\"width\":{\"value\":0.9},\"x\":{\"field\":\"band\"}},\"id\":\"ecfa3227-7a2b-4a2f-98a6-75274e09322d\",\"type\":\"VBar\"},{\"attributes\":{},\"id\":\"3af0dd94-a50c-4038-ade4-0621bba148fe\",\"type\":\"CategoricalTickFormatter\"},{\"attributes\":{},\"id\":\"7779e74f-2868-4f9a-bbe8-7de973ef9649\",\"type\":\"HelpTool\"},{\"attributes\":{\"axis_label\":\"flux (W m-2)\",\"formatter\":{\"id\":\"b126a397-7676-4744-99a8-1b53f3eec8a0\",\"type\":\"BasicTickFormatter\"},\"plot\":{\"id\":\"664458a6-5bd0-4ee2-910a-834c2210bdb9\",\"subtype\":\"Figure\",\"type\":\"Plot\"},\"ticker\":{\"id\":\"c7024448-b839-4e11-80e7-d92d1a3e58ae\",\"type\":\"BasicTicker\"}},\"id\":\"9dcec268-1fc9-45f9-ba64-1bcf8d3d8008\",\"type\":\"LinearAxis\"},{\"attributes\":{\"fill_alpha\":{\"value\":0.1},\"fill_color\":{\"value\":\"#1f77b4\"},\"line_alpha\":{\"value\":0.1},\"line_color\":{\"value\":\"#1f77b4\"},\"top\":{\"field\":\"flux\"},\"width\":{\"value\":0.9},\"x\":{\"field\":\"band\"}},\"id\":\"d1d28f49-39d9-40c7-b54a-1354670b3100\",\"type\":\"VBar\"},{\"attributes\":{\"fill_color\":{\"value\":\"#1f77b4\"},\"line_color\":{\"value\":\"#1f77b4\"},\"top\":{\"field\":\"flux\"},\"width\":{\"value\":0.9},\"x\":{\"field\":\"band\"}},\"id\":\"3c00b459-d54c-4d75-a50e-d5230fdc4120\",\"type\":\"VBar\"},{\"attributes\":{},\"id\":\"15aa5fea-d012-4225-bb14-822e8b6e69a4\",\"type\":\"WheelZoomTool\"},{\"attributes\":{\"callback\":null,\"data\":{\"band\":[\"1\",\"2\",\"3\",\"4\",\"5\",\"6\",\"7\",\"8\",\"9\",\"10\",\"11\"],\"flux\":{\"__ndarray__\":\"AFOZ3tVdyD8A2GJ1s1i1vwAwqfzGMoi/gJK4v2G/zj8AKChFK/fOvwA+qIsUysK/gEChnj4C1z8A3L5H/fWyPwCd0ftrHsi/QBIEGxncvT/g+i5bof7APw==\",\"dtype\":\"float64\",\"shape\":[11]}},\"selected\":{\"id\":\"82124ab0-4d7e-4683-8200-2b998f041696\",\"type\":\"Selection\"},\"selection_policy\":{\"id\":\"44da3566-485f-4edf-8bd4-1cd921092800\",\"type\":\"UnionRenderers\"}},\"id\":\"f7d7eb9e-ddb3-4380-973f-3fe0dfa38c84\",\"type\":\"ColumnDataSource\"},{\"attributes\":{},\"id\":\"27b6fb01-9a93-4ce3-8354-70815c09e64a\",\"type\":\"ResetTool\"},{\"attributes\":{},\"id\":\"978c7029-cdbb-4331-b9a2-0650ab918bb2\",\"type\":\"CategoricalScale\"},{\"attributes\":{\"callback\":null},\"id\":\"6596ab5c-f445-4dcf-9fa2-ca922bd26aeb\",\"type\":\"DataRange1d\"},{\"attributes\":{\"data_source\":{\"id\":\"f7d7eb9e-ddb3-4380-973f-3fe0dfa38c84\",\"type\":\"ColumnDataSource\"},\"glyph\":{\"id\":\"ecfa3227-7a2b-4a2f-98a6-75274e09322d\",\"type\":\"VBar\"},\"hover_glyph\":null,\"muted_glyph\":null,\"nonselection_glyph\":{\"id\":\"d1d28f49-39d9-40c7-b54a-1354670b3100\",\"type\":\"VBar\"},\"selection_glyph\":null,\"view\":{\"id\":\"4d398dab-e204-4200-b116-a03dd53b9c29\",\"type\":\"CDSView\"}},\"id\":\"7056e843-cd65-4595-af05-f4e8c73c1bf2\",\"type\":\"GlyphRenderer\"},{\"attributes\":{\"active_drag\":\"auto\",\"active_inspect\":\"auto\",\"active_scroll\":\"auto\",\"active_tap\":\"auto\",\"tools\":[{\"id\":\"dd0c1b50-3e26-4b2a-8943-8907a6e9339b\",\"type\":\"PanTool\"},{\"id\":\"896b5b63-8323-4844-8b23-c3717afe0875\",\"type\":\"WheelZoomTool\"},{\"id\":\"35ed9656-261a-4c80-9347-e996eddd7dae\",\"type\":\"BoxZoomTool\"},{\"id\":\"0d3b51ea-1b69-431b-bc6f-b16aedf82241\",\"type\":\"SaveTool\"},{\"id\":\"1fb7bde1-0791-4959-a252-6c38095e2842\",\"type\":\"ResetTool\"},{\"id\":\"7779e74f-2868-4f9a-bbe8-7de973ef9649\",\"type\":\"HelpTool\"}]},\"id\":\"9cbd4edc-091c-40d7-a7be-e216a5ee278e\",\"type\":\"Toolbar\"},{\"attributes\":{},\"id\":\"44da3566-485f-4edf-8bd4-1cd921092800\",\"type\":\"UnionRenderers\"},{\"attributes\":{\"callback\":null,\"factors\":[\"1\",\"2\",\"3\",\"4\",\"5\",\"6\",\"7\",\"8\",\"9\",\"10\",\"11\"]},\"id\":\"82178d64-7527-47bb-8775-0a5335baac6d\",\"type\":\"FactorRange\"},{\"attributes\":{\"axis_label\":\"flux (W m-2)\",\"formatter\":{\"id\":\"6f1b87c5-87d7-4e1b-9e9b-8461d7f18bdb\",\"type\":\"BasicTickFormatter\"},\"plot\":{\"id\":\"9f43c575-2a6d-40d8-bc4d-f1bf486faacb\",\"subtype\":\"Figure\",\"type\":\"Plot\"},\"ticker\":{\"id\":\"49cc1999-fad5-4737-90a4-e4c9c78ce6d0\",\"type\":\"BasicTicker\"}},\"id\":\"5b371b14-e3ae-4043-8686-9f7603ec6c4b\",\"type\":\"LinearAxis\"},{\"attributes\":{\"below\":[{\"id\":\"32f0e163-7c8a-4531-8342-5e1fc03087b8\",\"type\":\"CategoricalAxis\"}],\"left\":[{\"id\":\"9dcec268-1fc9-45f9-ba64-1bcf8d3d8008\",\"type\":\"LinearAxis\"}],\"plot_height\":300,\"plot_width\":300,\"renderers\":[{\"id\":\"32f0e163-7c8a-4531-8342-5e1fc03087b8\",\"type\":\"CategoricalAxis\"},{\"id\":\"c62bb96b-0d34-4b89-a329-8fcb2c0ad509\",\"type\":\"Grid\"},{\"id\":\"9dcec268-1fc9-45f9-ba64-1bcf8d3d8008\",\"type\":\"LinearAxis\"},{\"id\":\"b79f3d04-a976-41af-a04f-ff21e2de5b4f\",\"type\":\"Grid\"},{\"id\":\"8bc25f6b-e581-42af-b5e1-0cf6e3b49a1c\",\"type\":\"BoxAnnotation\"},{\"id\":\"4105f250-bd59-4dfe-911f-b4933a1e17ce\",\"type\":\"GlyphRenderer\"}],\"title\":{\"id\":\"5d96ef05-3f8c-4f3d-b9ef-ddfaf6593134\",\"type\":\"Title\"},\"toolbar\":{\"id\":\"9cbd4edc-091c-40d7-a7be-e216a5ee278e\",\"type\":\"Toolbar\"},\"toolbar_location\":null,\"x_range\":{\"id\":\"82178d64-7527-47bb-8775-0a5335baac6d\",\"type\":\"FactorRange\"},\"x_scale\":{\"id\":\"084fed91-fa3d-439d-9f48-94d3a7209aa1\",\"type\":\"CategoricalScale\"},\"y_range\":{\"id\":\"939ead25-5726-4c4d-8224-3a19969fc938\",\"type\":\"DataRange1d\"},\"y_scale\":{\"id\":\"dcbdfd8b-63ac-4f91-80b4-d03038d5ba28\",\"type\":\"LinearScale\"}},\"id\":\"664458a6-5bd0-4ee2-910a-834c2210bdb9\",\"subtype\":\"Figure\",\"type\":\"Plot\"},{\"attributes\":{},\"id\":\"0d3b51ea-1b69-431b-bc6f-b16aedf82241\",\"type\":\"SaveTool\"},{\"attributes\":{},\"id\":\"1fb7bde1-0791-4959-a252-6c38095e2842\",\"type\":\"ResetTool\"},{\"attributes\":{\"source\":{\"id\":\"d2d5f13f-d771-40bc-b85a-c90db0dda1d8\",\"type\":\"ColumnDataSource\"}},\"id\":\"1a090060-a944-4b65-87c2-77cf303f11a4\",\"type\":\"CDSView\"},{\"attributes\":{\"fill_alpha\":{\"value\":0.1},\"fill_color\":{\"value\":\"#1f77b4\"},\"line_alpha\":{\"value\":0.1},\"line_color\":{\"value\":\"#1f77b4\"},\"top\":{\"field\":\"flux\"},\"width\":{\"value\":0.9},\"x\":{\"field\":\"band\"}},\"id\":\"75ecc398-8dcb-4807-8ec4-b4463df78729\",\"type\":\"VBar\"},{\"attributes\":{\"source\":{\"id\":\"4a4e3773-c28f-4c25-b157-2e0cb5799b37\",\"type\":\"ColumnDataSource\"}},\"id\":\"007e5f1c-1d5b-43d7-9a20-668551214611\",\"type\":\"CDSView\"},{\"attributes\":{},\"id\":\"d75bf122-abb8-468a-976e-6fbb9eff1fd9\",\"type\":\"ResetTool\"},{\"attributes\":{\"plot\":{\"id\":\"664458a6-5bd0-4ee2-910a-834c2210bdb9\",\"subtype\":\"Figure\",\"type\":\"Plot\"},\"ticker\":{\"id\":\"51789dd4-54c0-4ea4-9d12-3372b6b749bb\",\"type\":\"CategoricalTicker\"}},\"id\":\"c62bb96b-0d34-4b89-a329-8fcb2c0ad509\",\"type\":\"Grid\"},{\"attributes\":{\"fill_color\":{\"value\":\"#1f77b4\"},\"line_color\":{\"value\":\"#1f77b4\"},\"top\":{\"field\":\"flux\"},\"width\":{\"value\":0.9},\"x\":{\"field\":\"band\"}},\"id\":\"2836a6ea-65a1-4331-a0ef-14fd4182bbc3\",\"type\":\"VBar\"},{\"attributes\":{\"bottom_units\":\"screen\",\"fill_alpha\":{\"value\":0.5},\"fill_color\":{\"value\":\"lightgrey\"},\"left_units\":\"screen\",\"level\":\"overlay\",\"line_alpha\":{\"value\":1.0},\"line_color\":{\"value\":\"black\"},\"line_dash\":[4,4],\"line_width\":{\"value\":2},\"plot\":null,\"render_mode\":\"css\",\"right_units\":\"screen\",\"top_units\":\"screen\"},\"id\":\"562a50dd-30df-42c4-91bb-041a5fd90534\",\"type\":\"BoxAnnotation\"},{\"attributes\":{},\"id\":\"c7024448-b839-4e11-80e7-d92d1a3e58ae\",\"type\":\"BasicTicker\"},{\"attributes\":{},\"id\":\"060f8701-4acc-4eeb-90f7-d8a3e09a9e8f\",\"type\":\"LinearScale\"},{\"attributes\":{},\"id\":\"0b379235-b14d-4c0b-a298-75fec6e1bf50\",\"type\":\"HelpTool\"},{\"attributes\":{\"callback\":null},\"id\":\"cc790c97-38ad-4195-800d-edbd055dbc1c\",\"type\":\"DataRange1d\"},{\"attributes\":{},\"id\":\"8648a0e2-d2fd-454a-87f0-c5b68f4475dd\",\"type\":\"CategoricalScale\"},{\"attributes\":{\"callback\":null,\"data\":{\"band\":[\"1\",\"2\",\"3\",\"4\",\"5\",\"6\",\"7\",\"8\",\"9\",\"10\",\"11\"],\"flux\":{\"__ndarray__\":\"AAAAAyUF9r4AaoKo+wDYPwC4H/DAANO/ANyul6YIsD+Adtzwu+nfPwDBG9KowLM/AOYhCbHplz9g4lwexv/APwAFptO6DcY/AKBF71TAjT8A6rgrBe6KPw==\",\"dtype\":\"float64\",\"shape\":[11]}},\"selected\":{\"id\":\"24032a3d-aea6-4a9d-9bf4-79f6b8f1c2aa\",\"type\":\"Selection\"},\"selection_policy\":{\"id\":\"7e4ba73a-2c6f-4e34-a297-dae88fb02cb2\",\"type\":\"UnionRenderers\"}},\"id\":\"4a4e3773-c28f-4c25-b157-2e0cb5799b37\",\"type\":\"ColumnDataSource\"},{\"attributes\":{},\"id\":\"6f1b87c5-87d7-4e1b-9e9b-8461d7f18bdb\",\"type\":\"BasicTickFormatter\"},{\"attributes\":{},\"id\":\"cfc999fa-403c-4a8f-b1bf-a7846bfb7b78\",\"type\":\"SaveTool\"},{\"attributes\":{\"axis_label\":\"flux (W m-2)\",\"formatter\":{\"id\":\"99b49b96-de2b-4e81-8e4c-33aaef85e5db\",\"type\":\"BasicTickFormatter\"},\"plot\":{\"id\":\"b1739d7c-4214-43ed-99da-b07e9baf7962\",\"subtype\":\"Figure\",\"type\":\"Plot\"},\"ticker\":{\"id\":\"a7a3ae5a-7fde-4cff-a34b-2644bb97e05a\",\"type\":\"BasicTicker\"}},\"id\":\"9c37739d-3215-47d4-a124-08ce510dd83f\",\"type\":\"LinearAxis\"},{\"attributes\":{\"dimension\":1,\"plot\":{\"id\":\"b1739d7c-4214-43ed-99da-b07e9baf7962\",\"subtype\":\"Figure\",\"type\":\"Plot\"},\"ticker\":{\"id\":\"a7a3ae5a-7fde-4cff-a34b-2644bb97e05a\",\"type\":\"BasicTicker\"}},\"id\":\"0995bdc2-a68f-40ed-9de2-b6d4a2741beb\",\"type\":\"Grid\"},{\"attributes\":{},\"id\":\"8da470f8-1224-4567-a8f0-ac5de0279b17\",\"type\":\"PanTool\"},{\"attributes\":{\"plot\":null,\"text\":\"TOA flux. CLIRAD (single-run) - CRD.\"},\"id\":\"285923af-bd0a-4aa8-8559-707e4b93d96f\",\"type\":\"Title\"},{\"attributes\":{\"axis_label\":\"spectral band\",\"formatter\":{\"id\":\"d0a55211-f451-4929-8629-d4470ee65700\",\"type\":\"CategoricalTickFormatter\"},\"plot\":{\"id\":\"b1739d7c-4214-43ed-99da-b07e9baf7962\",\"subtype\":\"Figure\",\"type\":\"Plot\"},\"ticker\":{\"id\":\"b2d14b52-aed2-4c87-904e-c6cb5422db22\",\"type\":\"CategoricalTicker\"}},\"id\":\"bd0ebb04-7fa4-4e58-a0c7-c76fd13b997a\",\"type\":\"CategoricalAxis\"},{\"attributes\":{},\"id\":\"b2d14b52-aed2-4c87-904e-c6cb5422db22\",\"type\":\"CategoricalTicker\"},{\"attributes\":{},\"id\":\"a7a3ae5a-7fde-4cff-a34b-2644bb97e05a\",\"type\":\"BasicTicker\"},{\"attributes\":{\"children\":[{\"id\":\"fb30453b-ab91-41be-8262-aebe68c37b22\",\"type\":\"ToolbarBox\"},{\"id\":\"32825863-ba14-423c-bad7-87852a6bc604\",\"type\":\"Column\"}]},\"id\":\"eb825415-8e3f-412b-8c12-c624668d9941\",\"type\":\"Column\"},{\"attributes\":{\"toolbar\":{\"id\":\"bbfb9715-193f-4870-b3e9-dfab61e2067e\",\"type\":\"ProxyToolbar\"},\"toolbar_location\":\"above\"},\"id\":\"fb30453b-ab91-41be-8262-aebe68c37b22\",\"type\":\"ToolbarBox\"},{\"attributes\":{\"plot\":{\"id\":\"b1739d7c-4214-43ed-99da-b07e9baf7962\",\"subtype\":\"Figure\",\"type\":\"Plot\"},\"ticker\":{\"id\":\"b2d14b52-aed2-4c87-904e-c6cb5422db22\",\"type\":\"CategoricalTicker\"}},\"id\":\"c1146205-830e-43d1-9488-43eeaf311733\",\"type\":\"Grid\"},{\"attributes\":{\"children\":[{\"id\":\"b1739d7c-4214-43ed-99da-b07e9baf7962\",\"subtype\":\"Figure\",\"type\":\"Plot\"},{\"id\":\"664458a6-5bd0-4ee2-910a-834c2210bdb9\",\"subtype\":\"Figure\",\"type\":\"Plot\"},{\"id\":\"9f43c575-2a6d-40d8-bc4d-f1bf486faacb\",\"subtype\":\"Figure\",\"type\":\"Plot\"}]},\"id\":\"8ab6228a-5dca-4868-8166-9aacd34990fc\",\"type\":\"Row\"},{\"attributes\":{\"overlay\":{\"id\":\"562a50dd-30df-42c4-91bb-041a5fd90534\",\"type\":\"BoxAnnotation\"}},\"id\":\"f29f7815-a7db-46c7-ac0b-b848a13a9e8d\",\"type\":\"BoxZoomTool\"},{\"attributes\":{\"below\":[{\"id\":\"bd0ebb04-7fa4-4e58-a0c7-c76fd13b997a\",\"type\":\"CategoricalAxis\"}],\"left\":[{\"id\":\"9c37739d-3215-47d4-a124-08ce510dd83f\",\"type\":\"LinearAxis\"}],\"plot_height\":300,\"plot_width\":300,\"renderers\":[{\"id\":\"bd0ebb04-7fa4-4e58-a0c7-c76fd13b997a\",\"type\":\"CategoricalAxis\"},{\"id\":\"c1146205-830e-43d1-9488-43eeaf311733\",\"type\":\"Grid\"},{\"id\":\"9c37739d-3215-47d4-a124-08ce510dd83f\",\"type\":\"LinearAxis\"},{\"id\":\"0995bdc2-a68f-40ed-9de2-b6d4a2741beb\",\"type\":\"Grid\"},{\"id\":\"562a50dd-30df-42c4-91bb-041a5fd90534\",\"type\":\"BoxAnnotation\"},{\"id\":\"f393d896-ac45-43b0-84c9-b1f3463a068e\",\"type\":\"GlyphRenderer\"}],\"title\":{\"id\":\"285923af-bd0a-4aa8-8559-707e4b93d96f\",\"type\":\"Title\"},\"toolbar\":{\"id\":\"c15a7c3a-926b-44ab-81cf-f11d9400e507\",\"type\":\"Toolbar\"},\"toolbar_location\":null,\"x_range\":{\"id\":\"6421bef6-ae45-4a12-bc8e-1d1385da8ed6\",\"type\":\"FactorRange\"},\"x_scale\":{\"id\":\"8648a0e2-d2fd-454a-87f0-c5b68f4475dd\",\"type\":\"CategoricalScale\"},\"y_range\":{\"id\":\"cc790c97-38ad-4195-800d-edbd055dbc1c\",\"type\":\"DataRange1d\"},\"y_scale\":{\"id\":\"060f8701-4acc-4eeb-90f7-d8a3e09a9e8f\",\"type\":\"LinearScale\"}},\"id\":\"b1739d7c-4214-43ed-99da-b07e9baf7962\",\"subtype\":\"Figure\",\"type\":\"Plot\"},{\"attributes\":{\"callback\":null,\"factors\":[\"1\",\"2\",\"3\",\"4\",\"5\",\"6\",\"7\",\"8\",\"9\",\"10\",\"11\"]},\"id\":\"6421bef6-ae45-4a12-bc8e-1d1385da8ed6\",\"type\":\"FactorRange\"},{\"attributes\":{\"tools\":[{\"id\":\"8da470f8-1224-4567-a8f0-ac5de0279b17\",\"type\":\"PanTool\"},{\"id\":\"dc0ebbb9-55b5-42d5-8ac6-b0408e6d1963\",\"type\":\"WheelZoomTool\"},{\"id\":\"f29f7815-a7db-46c7-ac0b-b848a13a9e8d\",\"type\":\"BoxZoomTool\"},{\"id\":\"cfc999fa-403c-4a8f-b1bf-a7846bfb7b78\",\"type\":\"SaveTool\"},{\"id\":\"d75bf122-abb8-468a-976e-6fbb9eff1fd9\",\"type\":\"ResetTool\"},{\"id\":\"0b379235-b14d-4c0b-a298-75fec6e1bf50\",\"type\":\"HelpTool\"},{\"id\":\"dd0c1b50-3e26-4b2a-8943-8907a6e9339b\",\"type\":\"PanTool\"},{\"id\":\"896b5b63-8323-4844-8b23-c3717afe0875\",\"type\":\"WheelZoomTool\"},{\"id\":\"35ed9656-261a-4c80-9347-e996eddd7dae\",\"type\":\"BoxZoomTool\"},{\"id\":\"0d3b51ea-1b69-431b-bc6f-b16aedf82241\",\"type\":\"SaveTool\"},{\"id\":\"1fb7bde1-0791-4959-a252-6c38095e2842\",\"type\":\"ResetTool\"},{\"id\":\"7779e74f-2868-4f9a-bbe8-7de973ef9649\",\"type\":\"HelpTool\"},{\"id\":\"3df285a9-be8a-4eb4-8672-9a90cd6992d9\",\"type\":\"PanTool\"},{\"id\":\"15aa5fea-d012-4225-bb14-822e8b6e69a4\",\"type\":\"WheelZoomTool\"},{\"id\":\"56f4b824-7161-4131-aef9-8a52c96ee6c6\",\"type\":\"BoxZoomTool\"},{\"id\":\"52a7392e-a860-4f81-95a4-c2870abc62ac\",\"type\":\"SaveTool\"},{\"id\":\"27b6fb01-9a93-4ce3-8354-70815c09e64a\",\"type\":\"ResetTool\"},{\"id\":\"0415fd4c-4817-4755-b8c9-948349805583\",\"type\":\"HelpTool\"}]},\"id\":\"bbfb9715-193f-4870-b3e9-dfab61e2067e\",\"type\":\"ProxyToolbar\"},{\"attributes\":{\"active_drag\":\"auto\",\"active_inspect\":\"auto\",\"active_scroll\":\"auto\",\"active_tap\":\"auto\",\"tools\":[{\"id\":\"8da470f8-1224-4567-a8f0-ac5de0279b17\",\"type\":\"PanTool\"},{\"id\":\"dc0ebbb9-55b5-42d5-8ac6-b0408e6d1963\",\"type\":\"WheelZoomTool\"},{\"id\":\"f29f7815-a7db-46c7-ac0b-b848a13a9e8d\",\"type\":\"BoxZoomTool\"},{\"id\":\"cfc999fa-403c-4a8f-b1bf-a7846bfb7b78\",\"type\":\"SaveTool\"},{\"id\":\"d75bf122-abb8-468a-976e-6fbb9eff1fd9\",\"type\":\"ResetTool\"},{\"id\":\"0b379235-b14d-4c0b-a298-75fec6e1bf50\",\"type\":\"HelpTool\"}]},\"id\":\"c15a7c3a-926b-44ab-81cf-f11d9400e507\",\"type\":\"Toolbar\"},{\"attributes\":{\"dimension\":1,\"plot\":{\"id\":\"664458a6-5bd0-4ee2-910a-834c2210bdb9\",\"subtype\":\"Figure\",\"type\":\"Plot\"},\"ticker\":{\"id\":\"c7024448-b839-4e11-80e7-d92d1a3e58ae\",\"type\":\"BasicTicker\"}},\"id\":\"b79f3d04-a976-41af-a04f-ff21e2de5b4f\",\"type\":\"Grid\"},{\"attributes\":{\"callback\":null,\"data\":{\"band\":[\"1\",\"2\",\"3\",\"4\",\"5\",\"6\",\"7\",\"8\",\"9\",\"10\",\"11\"],\"flux\":{\"__ndarray__\":\"AOIC0ChdyD8AzEHQ0arSP4D7/zhhwtO/QHBbW3he0z9AYkhOJm7QPwBwl/2607G/wHx6bMuA2D8A0765v3rKPwCii00rhZC/QD96efDJwD8wsztJX63CPw==\",\"dtype\":\"float64\",\"shape\":[11]}},\"selected\":{\"id\":\"aba04ec7-e3ad-4cf3-a514-c061f59de701\",\"type\":\"Selection\"},\"selection_policy\":{\"id\":\"328a3f89-6c0f-4692-81a0-f183e2b78c7b\",\"type\":\"UnionRenderers\"}},\"id\":\"d2d5f13f-d771-40bc-b85a-c90db0dda1d8\",\"type\":\"ColumnDataSource\"},{\"attributes\":{},\"id\":\"dc0ebbb9-55b5-42d5-8ac6-b0408e6d1963\",\"type\":\"WheelZoomTool\"},{\"attributes\":{\"data_source\":{\"id\":\"d2d5f13f-d771-40bc-b85a-c90db0dda1d8\",\"type\":\"ColumnDataSource\"},\"glyph\":{\"id\":\"2836a6ea-65a1-4331-a0ef-14fd4182bbc3\",\"type\":\"VBar\"},\"hover_glyph\":null,\"muted_glyph\":null,\"nonselection_glyph\":{\"id\":\"75ecc398-8dcb-4807-8ec4-b4463df78729\",\"type\":\"VBar\"},\"selection_glyph\":null,\"view\":{\"id\":\"1a090060-a944-4b65-87c2-77cf303f11a4\",\"type\":\"CDSView\"}},\"id\":\"f393d896-ac45-43b0-84c9-b1f3463a068e\",\"type\":\"GlyphRenderer\"}],\"root_ids\":[\"eb825415-8e3f-412b-8c12-c624668d9941\"]},\"title\":\"Bokeh Application\",\"version\":\"0.12.16\"}};\n",
       "  var render_items = [{\"docid\":\"3b5a98ed-60af-478d-bef8-4f91d3578756\",\"elementid\":\"2a9285f6-5038-4620-bd7b-f37bc1456679\",\"modelid\":\"eb825415-8e3f-412b-8c12-c624668d9941\"}];\n",
       "  root.Bokeh.embed.embed_items_notebook(docs_json, render_items);\n",
       "\n",
       "  }\n",
       "  if (root.Bokeh !== undefined) {\n",
       "    embed_document(root);\n",
       "  } else {\n",
       "    var attempts = 0;\n",
       "    var timer = setInterval(function(root) {\n",
       "      if (root.Bokeh !== undefined) {\n",
       "        embed_document(root);\n",
       "        clearInterval(timer);\n",
       "      }\n",
       "      attempts++;\n",
       "      if (attempts > 100) {\n",
       "        console.log(\"Bokeh: ERROR: Unable to run BokehJS code because BokehJS library is missing\")\n",
       "        clearInterval(timer);\n",
       "      }\n",
       "    }, 10, root)\n",
       "  }\n",
       "})(window);"
      ],
      "application/vnd.bokehjs_exec.v0+json": ""
     },
     "metadata": {
      "application/vnd.bokehjs_exec.v0+json": {
       "id": "eb825415-8e3f-412b-8c12-c624668d9941"
      }
     },
     "output_type": "display_data"
    },
    {
     "data": {
      "text/markdown": [
       "*FIGURE.* Difference between CLIRAD and CRD in TOA, SFC and net atmosphere flux, in each spectral band."
      ],
      "text/plain": [
       "<IPython.core.display.Markdown object>"
      ]
     },
     "metadata": {},
     "output_type": "display_data"
    },
    {
     "data": {
      "text/html": [
       "<div>\n",
       "<style scoped>\n",
       "    .dataframe tbody tr th:only-of-type {\n",
       "        vertical-align: middle;\n",
       "    }\n",
       "\n",
       "    .dataframe tbody tr th {\n",
       "        vertical-align: top;\n",
       "    }\n",
       "\n",
       "    .dataframe thead th {\n",
       "        text-align: right;\n",
       "    }\n",
       "</style>\n",
       "<table border=\"1\" class=\"dataframe\">\n",
       "  <thead>\n",
       "    <tr style=\"text-align: right;\">\n",
       "      <th></th>\n",
       "      <th>OLR flux</th>\n",
       "      <th>SFC flux</th>\n",
       "      <th>ATM heating</th>\n",
       "    </tr>\n",
       "    <tr>\n",
       "      <th>Sum over bands</th>\n",
       "      <th></th>\n",
       "      <th></th>\n",
       "      <th></th>\n",
       "    </tr>\n",
       "  </thead>\n",
       "  <tbody>\n",
       "    <tr>\n",
       "      <th>old CLIRAD - CRD</th>\n",
       "      <td>0.14</td>\n",
       "      <td>2.01</td>\n",
       "      <td>-1.73</td>\n",
       "    </tr>\n",
       "    <tr>\n",
       "      <th>CLIRAD (single-run) - CRD</th>\n",
       "      <td>1.51</td>\n",
       "      <td>1.07</td>\n",
       "      <td>0.44</td>\n",
       "    </tr>\n",
       "    <tr>\n",
       "      <th>CRD</th>\n",
       "      <td>-290.39</td>\n",
       "      <td>308.14</td>\n",
       "      <td>-174.89</td>\n",
       "    </tr>\n",
       "  </tbody>\n",
       "</table>\n",
       "</div>"
      ],
      "text/plain": [
       "                           OLR flux  SFC flux  ATM heating\n",
       "Sum over bands                                            \n",
       "old CLIRAD - CRD               0.14      2.01        -1.73\n",
       "CLIRAD (single-run) - CRD      1.51      1.07         0.44\n",
       "CRD                         -290.39    308.14      -174.89"
      ]
     },
     "metadata": {},
     "output_type": "display_data"
    },
    {
     "data": {
      "text/markdown": [
       "*TABLE.* Difference between CLIRAD and CRD in TOA, SFC and net atmosphere flux, over all spectral bands. CRD's TOA, SFC and net atmosphere flux, over all spectral bands."
      ],
      "text/plain": [
       "<IPython.core.display.Markdown object>"
      ]
     },
     "metadata": {},
     "output_type": "display_data"
    },
    {
     "data": {
      "text/html": [
       "<a id=\"Cooling_rates._saw.\"></a>"
      ],
      "text/plain": [
       "<IPython.core.display.HTML object>"
      ]
     },
     "metadata": {},
     "output_type": "display_data"
    },
    {
     "data": {
      "text/markdown": [
       "# Cooling rates. saw."
      ],
      "text/plain": [
       "<IPython.core.display.Markdown object>"
      ]
     },
     "metadata": {},
     "output_type": "display_data"
    },
    {
     "data": {
      "text/html": [
       "\n",
       "<div class=\"bk-root\">\n",
       "    <div class=\"bk-plotdiv\" id=\"c024b45b-c65f-46bc-9217-cf1bec297266\"></div>\n",
       "</div>"
      ]
     },
     "metadata": {},
     "output_type": "display_data"
    },
    {
     "data": {
      "application/javascript": [
       "(function(root) {\n",
       "  function embed_document(root) {\n",
       "    \n",
       "  var docs_json = {\"c568df2b-3825-4b36-a855-bd5a5cfa8757\":{\"roots\":{\"references\":[{\"attributes\":{\"active_drag\":\"auto\",\"active_inspect\":\"auto\",\"active_scroll\":\"auto\",\"active_tap\":\"auto\",\"tools\":[{\"id\":\"d284cbfe-dad1-45af-a699-3985200dd1dc\",\"type\":\"PanTool\"},{\"id\":\"cc73fd30-70c7-44c7-abee-e41ed94657a9\",\"type\":\"WheelZoomTool\"},{\"id\":\"e23dce91-11b7-4234-8d66-94659107fbf5\",\"type\":\"BoxZoomTool\"},{\"id\":\"f1a1cef7-3a07-4c42-bc87-3f13730e2f34\",\"type\":\"SaveTool\"},{\"id\":\"55906a81-4740-42de-a5e0-1e5ab38c6e77\",\"type\":\"ResetTool\"},{\"id\":\"f305f00f-bc8e-469a-933d-1b3116a8a98a\",\"type\":\"HelpTool\"}]},\"id\":\"66ad2d4c-1393-448e-9394-e384fdf9de85\",\"type\":\"Toolbar\"},{\"attributes\":{\"children\":[{\"id\":\"17925296-5f4b-46f1-8e88-16dca024c627\",\"type\":\"Row\"}]},\"id\":\"e4517e7a-5f12-4b3c-ad3d-0dffbebe811f\",\"type\":\"Column\"},{\"attributes\":{\"above\":[{\"id\":\"b4981c7b-7817-4767-b28b-430f56588b21\",\"type\":\"Legend\"}],\"below\":[{\"id\":\"b2e68706-daf8-4c05-9974-d36c0c1adfcd\",\"type\":\"LinearAxis\"}],\"left\":[{\"id\":\"f1aa1a7b-fe7d-4673-bbb2-2e40d9a77f06\",\"type\":\"LogAxis\"}],\"plot_width\":300,\"renderers\":[{\"id\":\"b2e68706-daf8-4c05-9974-d36c0c1adfcd\",\"type\":\"LinearAxis\"},{\"id\":\"02dbc103-9d30-4fb4-8e33-ea72d1456cef\",\"type\":\"Grid\"},{\"id\":\"f1aa1a7b-fe7d-4673-bbb2-2e40d9a77f06\",\"type\":\"LogAxis\"},{\"id\":\"66505e3a-1dde-434c-976c-3253498b6c05\",\"type\":\"Grid\"},{\"id\":\"e80e3fc7-dddd-4cd9-9f38-1888eece47e1\",\"type\":\"BoxAnnotation\"},{\"id\":\"9bb270cb-b714-4d10-9cd1-0a761ed47cc6\",\"type\":\"GlyphRenderer\"},{\"id\":\"9624b487-ce83-41b2-97c9-aeeeb2c26d19\",\"type\":\"GlyphRenderer\"},{\"id\":\"b4981c7b-7817-4767-b28b-430f56588b21\",\"type\":\"Legend\"}],\"title\":{\"id\":\"3eb20cdc-378a-41ec-9e14-3086abdb9666\",\"type\":\"Title\"},\"toolbar\":{\"id\":\"2271d9d7-1353-4ef7-ade3-08823e0fabc7\",\"type\":\"Toolbar\"},\"toolbar_location\":null,\"x_range\":{\"id\":\"ac99bd84-1a0d-48c3-b8b5-3b773193fae8\",\"type\":\"Range1d\"},\"x_scale\":{\"id\":\"0a8ee332-4cd8-43f3-9015-7ebc144d5e3c\",\"type\":\"LinearScale\"},\"y_range\":{\"id\":\"a70fbbb4-4b1c-4188-89ee-62038537f9df\",\"type\":\"Range1d\"},\"y_scale\":{\"id\":\"09819f0b-74e0-44ea-af53-93b006e9a83a\",\"type\":\"LogScale\"}},\"id\":\"1c8ece07-2257-44c4-9924-bf186290a2c7\",\"subtype\":\"Figure\",\"type\":\"Plot\"},{\"attributes\":{},\"id\":\"d9dc25dd-9b15-42a8-8a23-1ef7c5195068\",\"type\":\"LinearScale\"},{\"attributes\":{\"bottom_units\":\"screen\",\"fill_alpha\":{\"value\":0.5},\"fill_color\":{\"value\":\"lightgrey\"},\"left_units\":\"screen\",\"level\":\"overlay\",\"line_alpha\":{\"value\":1.0},\"line_color\":{\"value\":\"black\"},\"line_dash\":[4,4],\"line_width\":{\"value\":2},\"plot\":null,\"render_mode\":\"css\",\"right_units\":\"screen\",\"top_units\":\"screen\"},\"id\":\"32e8c6a4-e3cb-46e2-8ad6-73517b14b869\",\"type\":\"BoxAnnotation\"},{\"attributes\":{},\"id\":\"d284cbfe-dad1-45af-a699-3985200dd1dc\",\"type\":\"PanTool\"},{\"attributes\":{},\"id\":\"f1a1cef7-3a07-4c42-bc87-3f13730e2f34\",\"type\":\"SaveTool\"},{\"attributes\":{},\"id\":\"f305f00f-bc8e-469a-933d-1b3116a8a98a\",\"type\":\"HelpTool\"},{\"attributes\":{},\"id\":\"c404bc26-e5de-46f0-be85-ed1ea5d0e326\",\"type\":\"LinearScale\"},{\"attributes\":{\"above\":[{\"id\":\"05d5b3d7-b269-4b5f-9420-b8476ad70df9\",\"type\":\"Legend\"}],\"below\":[{\"id\":\"41bc9086-e60b-4fd6-a1df-72f2b3cab652\",\"type\":\"LinearAxis\"}],\"left\":[{\"id\":\"a7e1a7cb-ff7d-44f5-b657-8cd4045f29bd\",\"type\":\"LinearAxis\"}],\"plot_width\":300,\"renderers\":[{\"id\":\"41bc9086-e60b-4fd6-a1df-72f2b3cab652\",\"type\":\"LinearAxis\"},{\"id\":\"1fcee025-13b0-4fd8-a59a-05c4e05c9108\",\"type\":\"Grid\"},{\"id\":\"a7e1a7cb-ff7d-44f5-b657-8cd4045f29bd\",\"type\":\"LinearAxis\"},{\"id\":\"f8f75965-8b57-47c8-b085-ff82834664a3\",\"type\":\"Grid\"},{\"id\":\"32e8c6a4-e3cb-46e2-8ad6-73517b14b869\",\"type\":\"BoxAnnotation\"},{\"id\":\"832d0677-9b34-49be-9d1c-b25f0b5854d7\",\"type\":\"GlyphRenderer\"},{\"id\":\"870cd9f1-5f15-40cd-9d24-cf777c642ad6\",\"type\":\"GlyphRenderer\"},{\"id\":\"d185a0b8-28dc-4606-913f-445c0049e9c4\",\"type\":\"GlyphRenderer\"},{\"id\":\"05d5b3d7-b269-4b5f-9420-b8476ad70df9\",\"type\":\"Legend\"}],\"title\":{\"id\":\"f9e19aab-e5c1-41c1-b99e-96ddf9a35feb\",\"type\":\"Title\"},\"toolbar\":{\"id\":\"66ad2d4c-1393-448e-9394-e384fdf9de85\",\"type\":\"Toolbar\"},\"toolbar_location\":null,\"x_range\":{\"id\":\"355cb381-1d9c-406c-b9b9-b0d8c9039941\",\"type\":\"Range1d\"},\"x_scale\":{\"id\":\"c404bc26-e5de-46f0-be85-ed1ea5d0e326\",\"type\":\"LinearScale\"},\"y_range\":{\"id\":\"f6e61398-f52a-464f-9be6-f9210e59b714\",\"type\":\"Range1d\"},\"y_scale\":{\"id\":\"d9dc25dd-9b15-42a8-8a23-1ef7c5195068\",\"type\":\"LinearScale\"}},\"id\":\"d2577c4c-bf74-47b6-98e2-ab9ecb377655\",\"subtype\":\"Figure\",\"type\":\"Plot\"},{\"attributes\":{},\"id\":\"66639211-0a27-4ee7-82b2-958b8bd401cd\",\"type\":\"BasicTicker\"},{\"attributes\":{},\"id\":\"6747ae2f-3b40-40bc-af1a-57fb06b865ca\",\"type\":\"UnionRenderers\"},{\"attributes\":{\"callback\":null,\"end\":1.592562229501,\"start\":0.25176033517900004},\"id\":\"355cb381-1d9c-406c-b9b9-b0d8c9039941\",\"type\":\"Range1d\"},{\"attributes\":{},\"id\":\"55906a81-4740-42de-a5e0-1e5ab38c6e77\",\"type\":\"ResetTool\"},{\"attributes\":{\"plot\":null,\"text\":\"\"},\"id\":\"f9e19aab-e5c1-41c1-b99e-96ddf9a35feb\",\"type\":\"Title\"},{\"attributes\":{\"callback\":null,\"data\":{\"x\":{\"__ndarray__\":\"vahsOBJ5GsBkCnwYa2IGwGKYXs53teo/wVqSELunCUBMUlz2gmAOQEearKThzQVAn+TrQxz46D+/WPwIfaXuv1FWaucIlvq/RZpAFdAq9L+wc1f2T+PUv16f+7PSpeA/0H1XSjrp7j9+DjLj/wztP8ir1AGhN9k/lI1xGw+i0L+2KDAmCjflv4NqwTxiQeW//JjYoYkH2r90pEk9Fc3Av7Cep21ZWrQ/w4lTt8siwj/S18EhUZG4vxomKjba9My/fTXpwpsdoL+S7f2AdF/RPwI9S13k4dE/b4oJYFXOuz+HW9SiSlqfP4EIDOmu/sM/1QkZikjGzD8qIKyIFnzAP77JmvBmCIG/+Pz9W2JtND/+5PfKMq2yP9K5b03vIqc/JyiVxjedmr/mQFBkFBS0v838VD+LbLa//5jeF/oEs7+oIV2L6GStv5F9CzFBH6a/ShoV5xyOm7+mROjKStSRv8LIszOeBIi/UsKcBHSlVb/gLZPNfTF3v9NnkpW1xpu/8Z//Wpu9qr8CtJGywYOqvxcvFmieqaK/YPsQXGwoo79ruPoY8oCqv4VLrqAaLaq/wkhFmCjfpL+iZwwQWHuev/GB+Fo+9Ja/iPTlSNAfkr8+lnBkPpmGv7c++OybZIC/vS04UmEke78S1qkUcTGAvxiYh3QK/oG/5DHGwKhPf7+gnaipBItwv/jBNZ7gh2A/iAp6ghTihD+kwdQGj4WQP6QrzEA6fJU/loXwFOT6mD85ue+pgKGaP55VOYBE65k/HId8AxPAmT/EhuVNyauYPw==\",\"dtype\":\"float64\",\"shape\":[74]},\"y\":{\"__ndarray__\":\"0r/J27aUSD9r8pTVdD1RP2k7pu7KLlg/wLdEifH1YD8NyLmoccpnPzEjYYSVr3A/203wTdNndz9s2+Z8Z2qAPwg+YeTABoc/DZnh9U8mkD/s6wrHPaeWPy2yne+nxp8/2y1uSEhJpj8MPWL03EKvPyVdjrLZ7LU/BK+WOzPBvj9HPq946pHFP+YffZOmQc4/PGwiMxc41T+Hp1fKMsTdP/8h/fZ14OQ/KjqSy39I7T+ZKhiV1In0P3PXEvJBz/w/vw6cM6I0BECBJsKGp1cMQOJYF7fR4BNAUkmdgCbiG0ADCYofY44jQOauJeSDbitAMEymCkY9M0Db+X5qvPw6QGgibHh67UJAf/s6cM6MSkDNzMzMzHhSQGZmZmZmalhAAAAAAABcXkDNzMzMzCZiQJqZmZmZH2VAZmZmZmYYaEAzMzMzMxFrQAAAAAAACm5AZmZmZmaBcEDNzMzMzP1xQDMzMzMzenNAmpmZmZn2dEAAAAAAAHN2QGZmZmZm73dAzczMzMxreUAzMzMzM+h6QJqZmZmZZHxAAAAAAADhfUBmZmZmZl1/QGZmZmbmbIBAmpmZmRkrgUDNzMzMTOmBQAAAAACAp4JAMzMzM7Nlg0BmZmZm5iOEQJqZmZkZ4oRAzczMzEyghUAAAAAAgF6GQDMzMzOzHIdAZmZmZubah0CamZmZGZmIQM3MzMxMV4lAAAAAAIAVikAzMzMzs9OKQGZmZmbmkYtAmpmZmRlQjEDNzMzMTA6NQAAAAACAzI1AMzMzM7OKjkBmZmZm5kiPQA==\",\"dtype\":\"float64\",\"shape\":[74]}},\"selected\":{\"id\":\"0076f475-0b88-4bfa-85a4-0f34f12263fe\",\"type\":\"Selection\"},\"selection_policy\":{\"id\":\"47a38aa0-abff-4e66-b1fc-1167a4693d41\",\"type\":\"UnionRenderers\"}},\"id\":\"f8c0c361-a322-4843-9e20-9391f7a5eb77\",\"type\":\"ColumnDataSource\"},{\"attributes\":{\"line_alpha\":0.6,\"line_color\":\"#377eb8\",\"line_dash\":[6],\"line_width\":5,\"x\":{\"field\":\"x\"},\"y\":{\"field\":\"y\"}},\"id\":\"8fc54974-265b-4762-98db-74387e342ee3\",\"type\":\"Line\"},{\"attributes\":{\"line_alpha\":0.1,\"line_color\":\"#1f77b4\",\"line_dash\":[6],\"line_width\":5,\"x\":{\"field\":\"x\"},\"y\":{\"field\":\"y\"}},\"id\":\"986103ae-0cc3-401c-a74d-4413e3b5ea6a\",\"type\":\"Line\"},{\"attributes\":{},\"id\":\"cc73fd30-70c7-44c7-abee-e41ed94657a9\",\"type\":\"WheelZoomTool\"},{\"attributes\":{\"items\":[{\"id\":\"29b96823-ebad-4926-9d0a-5096edf2683e\",\"type\":\"LegendItem\"}],\"label_text_font_size\":{\"value\":\"8pt\"},\"location\":\"top_center\",\"orientation\":\"horizontal\",\"plot\":{\"id\":\"1c8ece07-2257-44c4-9924-bf186290a2c7\",\"subtype\":\"Figure\",\"type\":\"Plot\"}},\"id\":\"b4981c7b-7817-4767-b28b-430f56588b21\",\"type\":\"Legend\"},{\"attributes\":{\"items\":[{\"id\":\"e3d39a84-6121-4e3f-9ba0-1c81934d4168\",\"type\":\"LegendItem\"},{\"id\":\"895aa057-0718-48ff-bdfd-28043e815cc4\",\"type\":\"LegendItem\"}],\"label_text_font_size\":{\"value\":\"8pt\"},\"location\":\"top_center\",\"orientation\":\"horizontal\",\"plot\":{\"id\":\"d2577c4c-bf74-47b6-98e2-ab9ecb377655\",\"subtype\":\"Figure\",\"type\":\"Plot\"}},\"id\":\"05d5b3d7-b269-4b5f-9420-b8476ad70df9\",\"type\":\"Legend\"},{\"attributes\":{\"line_alpha\":0.8,\"line_color\":\"#984ea3\",\"line_width\":1.5,\"x\":{\"field\":\"x\"},\"y\":{\"field\":\"y\"}},\"id\":\"4452b690-6dfb-4393-9412-2bd672ce1eb7\",\"type\":\"Line\"},{\"attributes\":{\"callback\":null,\"end\":0.01,\"start\":1020},\"id\":\"f6e61398-f52a-464f-9be6-f9210e59b714\",\"type\":\"Range1d\"},{\"attributes\":{\"source\":{\"id\":\"f8c0c361-a322-4843-9e20-9391f7a5eb77\",\"type\":\"ColumnDataSource\"}},\"id\":\"85f2e669-0c03-4eaa-816b-1b3b025e78d2\",\"type\":\"CDSView\"},{\"attributes\":{\"active_drag\":\"auto\",\"active_inspect\":\"auto\",\"active_scroll\":\"auto\",\"active_tap\":\"auto\",\"tools\":[{\"id\":\"be791d03-81da-4f41-beec-185adfc2d14e\",\"type\":\"PanTool\"},{\"id\":\"3d8b2b95-30b1-465f-a9d1-beb4a60e6fe3\",\"type\":\"WheelZoomTool\"},{\"id\":\"1b418b48-25a8-4ff8-88ec-a9b741b43ede\",\"type\":\"BoxZoomTool\"},{\"id\":\"6e30f559-db47-4542-8a35-23234cd85b78\",\"type\":\"SaveTool\"},{\"id\":\"18eb6b6e-7473-4f75-96b0-ca43874cb36f\",\"type\":\"ResetTool\"},{\"id\":\"a3ff5656-eafc-49fd-8d1d-819d0c84a075\",\"type\":\"HelpTool\"}]},\"id\":\"2271d9d7-1353-4ef7-ade3-08823e0fabc7\",\"type\":\"Toolbar\"},{\"attributes\":{\"children\":[{\"id\":\"d2577c4c-bf74-47b6-98e2-ab9ecb377655\",\"subtype\":\"Figure\",\"type\":\"Plot\"},{\"id\":\"383c7947-0787-4c51-af4a-ce40d5b61794\",\"subtype\":\"Figure\",\"type\":\"Plot\"},{\"id\":\"1c8ece07-2257-44c4-9924-bf186290a2c7\",\"subtype\":\"Figure\",\"type\":\"Plot\"}]},\"id\":\"17925296-5f4b-46f1-8e88-16dca024c627\",\"type\":\"Row\"},{\"attributes\":{\"label\":{\"value\":\"CRD\"},\"renderers\":[{\"id\":\"eae0abea-d721-4be9-9c41-9d764d7a44ca\",\"type\":\"GlyphRenderer\"},{\"id\":\"bfb6fc5d-0f94-46c2-86b2-44bc59b1e4e2\",\"type\":\"GlyphRenderer\"}]},\"id\":\"f131e337-1597-4425-98ce-af9d1c267cba\",\"type\":\"LegendItem\"},{\"attributes\":{\"line_alpha\":0.1,\"line_color\":\"#1f77b4\",\"line_width\":1.5,\"x\":{\"field\":\"x\"},\"y\":{\"field\":\"y\"}},\"id\":\"77c43406-28b9-430e-a7c0-1840e5ebe6e5\",\"type\":\"Line\"},{\"attributes\":{},\"id\":\"23988620-eba6-47a1-a850-67cd4e6a26c0\",\"type\":\"BasicTicker\"},{\"attributes\":{\"data_source\":{\"id\":\"f8c0c361-a322-4843-9e20-9391f7a5eb77\",\"type\":\"ColumnDataSource\"},\"glyph\":{\"id\":\"4452b690-6dfb-4393-9412-2bd672ce1eb7\",\"type\":\"Line\"},\"hover_glyph\":null,\"muted_glyph\":null,\"nonselection_glyph\":{\"id\":\"77c43406-28b9-430e-a7c0-1840e5ebe6e5\",\"type\":\"Line\"},\"selection_glyph\":null,\"view\":{\"id\":\"85f2e669-0c03-4eaa-816b-1b3b025e78d2\",\"type\":\"CDSView\"}},\"id\":\"9624b487-ce83-41b2-97c9-aeeeb2c26d19\",\"type\":\"GlyphRenderer\"},{\"attributes\":{},\"id\":\"45ae0db2-050a-43e2-9a0c-5f43c1bb42a5\",\"type\":\"Selection\"},{\"attributes\":{\"overlay\":{\"id\":\"32e8c6a4-e3cb-46e2-8ad6-73517b14b869\",\"type\":\"BoxAnnotation\"}},\"id\":\"e23dce91-11b7-4234-8d66-94659107fbf5\",\"type\":\"BoxZoomTool\"},{\"attributes\":{\"num_minor_ticks\":10},\"id\":\"5d2e085f-43f9-4e22-8cd5-83dd7c10ad24\",\"type\":\"LogTicker\"},{\"attributes\":{\"bottom_units\":\"screen\",\"fill_alpha\":{\"value\":0.5},\"fill_color\":{\"value\":\"lightgrey\"},\"left_units\":\"screen\",\"level\":\"overlay\",\"line_alpha\":{\"value\":1.0},\"line_color\":{\"value\":\"black\"},\"line_dash\":[4,4],\"line_width\":{\"value\":2},\"plot\":null,\"render_mode\":\"css\",\"right_units\":\"screen\",\"top_units\":\"screen\"},\"id\":\"e80e3fc7-dddd-4cd9-9f38-1888eece47e1\",\"type\":\"BoxAnnotation\"},{\"attributes\":{\"axis_label\":\"pressure [mb]\",\"formatter\":{\"id\":\"b01d0788-7307-40bf-b727-16183835a0a0\",\"type\":\"LogTickFormatter\"},\"plot\":{\"id\":\"383c7947-0787-4c51-af4a-ce40d5b61794\",\"subtype\":\"Figure\",\"type\":\"Plot\"},\"ticker\":{\"id\":\"5d2e085f-43f9-4e22-8cd5-83dd7c10ad24\",\"type\":\"LogTicker\"}},\"id\":\"efaa1e13-c8f5-4a7f-adf4-676432f1c410\",\"type\":\"LogAxis\"},{\"attributes\":{\"axis_label\":\"pressure [mb]\",\"formatter\":{\"id\":\"089d40ad-f07e-4c13-8a37-525acd898e17\",\"type\":\"BasicTickFormatter\"},\"plot\":{\"id\":\"d2577c4c-bf74-47b6-98e2-ab9ecb377655\",\"subtype\":\"Figure\",\"type\":\"Plot\"},\"ticker\":{\"id\":\"154c7b46-5a96-4675-a0a0-f413a9d369b3\",\"type\":\"BasicTicker\"}},\"id\":\"a7e1a7cb-ff7d-44f5-b657-8cd4045f29bd\",\"type\":\"LinearAxis\"},{\"attributes\":{},\"id\":\"18eb6b6e-7473-4f75-96b0-ca43874cb36f\",\"type\":\"ResetTool\"},{\"attributes\":{\"axis_label\":\"cooling rate [K/day]\",\"formatter\":{\"id\":\"b2816700-bf87-436b-a92a-04f40296354b\",\"type\":\"BasicTickFormatter\"},\"plot\":{\"id\":\"d2577c4c-bf74-47b6-98e2-ab9ecb377655\",\"subtype\":\"Figure\",\"type\":\"Plot\"},\"ticker\":{\"id\":\"66639211-0a27-4ee7-82b2-958b8bd401cd\",\"type\":\"BasicTicker\"}},\"id\":\"41bc9086-e60b-4fd6-a1df-72f2b3cab652\",\"type\":\"LinearAxis\"},{\"attributes\":{\"callback\":null,\"end\":0.9922461754707409,\"start\":-1.6879055828647398},\"id\":\"ac99bd84-1a0d-48c3-b8b5-3b773193fae8\",\"type\":\"Range1d\"},{\"attributes\":{},\"id\":\"3edb42a1-39f5-40c3-ac46-3a201602d00e\",\"type\":\"Selection\"},{\"attributes\":{\"plot\":{\"id\":\"d2577c4c-bf74-47b6-98e2-ab9ecb377655\",\"subtype\":\"Figure\",\"type\":\"Plot\"},\"ticker\":{\"id\":\"66639211-0a27-4ee7-82b2-958b8bd401cd\",\"type\":\"BasicTicker\"}},\"id\":\"1fcee025-13b0-4fd8-a59a-05c4e05c9108\",\"type\":\"Grid\"},{\"attributes\":{},\"id\":\"3d8b2b95-30b1-465f-a9d1-beb4a60e6fe3\",\"type\":\"WheelZoomTool\"},{\"attributes\":{},\"id\":\"c2a91e0b-bcbe-4d60-8087-90af272a8581\",\"type\":\"LogScale\"},{\"attributes\":{\"overlay\":{\"id\":\"3956f971-4d52-4cce-94eb-8e3f94cf8d11\",\"type\":\"BoxAnnotation\"}},\"id\":\"64620ac0-f379-4370-b7b6-c95196ce03b4\",\"type\":\"BoxZoomTool\"},{\"attributes\":{},\"id\":\"c428b605-597a-4942-acef-02773bfea198\",\"type\":\"WheelZoomTool\"},{\"attributes\":{\"plot\":{\"id\":\"383c7947-0787-4c51-af4a-ce40d5b61794\",\"subtype\":\"Figure\",\"type\":\"Plot\"},\"ticker\":{\"id\":\"d38cdb01-507c-4293-bfd0-b1479db32787\",\"type\":\"BasicTicker\"}},\"id\":\"c391dc1f-029e-46a4-b04b-c4c8b074a447\",\"type\":\"Grid\"},{\"attributes\":{\"active_drag\":\"auto\",\"active_inspect\":\"auto\",\"active_scroll\":\"auto\",\"active_tap\":\"auto\",\"tools\":[{\"id\":\"e85074ab-0eca-47c7-8fad-e264d5c304b8\",\"type\":\"PanTool\"},{\"id\":\"c428b605-597a-4942-acef-02773bfea198\",\"type\":\"WheelZoomTool\"},{\"id\":\"64620ac0-f379-4370-b7b6-c95196ce03b4\",\"type\":\"BoxZoomTool\"},{\"id\":\"5e9862fb-38ec-416c-a964-7bf8f6c3d768\",\"type\":\"SaveTool\"},{\"id\":\"c225a102-8126-4a70-a43e-9e7e3c2a489f\",\"type\":\"ResetTool\"},{\"id\":\"77e553ad-6dd5-4eff-a2ab-4d10e70e69ef\",\"type\":\"HelpTool\"}]},\"id\":\"71a21898-ac7e-4761-9e74-b88611ecfd0f\",\"type\":\"Toolbar\"},{\"attributes\":{},\"id\":\"6e30f559-db47-4542-8a35-23234cd85b78\",\"type\":\"SaveTool\"},{\"attributes\":{\"bottom_units\":\"screen\",\"fill_alpha\":{\"value\":0.5},\"fill_color\":{\"value\":\"lightgrey\"},\"left_units\":\"screen\",\"level\":\"overlay\",\"line_alpha\":{\"value\":1.0},\"line_color\":{\"value\":\"black\"},\"line_dash\":[4,4],\"line_width\":{\"value\":2},\"plot\":null,\"render_mode\":\"css\",\"right_units\":\"screen\",\"top_units\":\"screen\"},\"id\":\"3956f971-4d52-4cce-94eb-8e3f94cf8d11\",\"type\":\"BoxAnnotation\"},{\"attributes\":{\"callback\":null,\"data\":{\"x\":{\"__ndarray__\":\"lXtci9lcQEAW/Z0xbS08QGspMUxKAz5AF7HURwGpPkAbIX4XuMg9QJz80qvJWjtAmzPGG6O5N0C92nqQzr8zQFe4Gu0neDBAteE24/g7LUDqvu4SQU8sQBtqajMZ2SxAlpOwtQ63LUCNcBX3Hz0tQHobmK45oipADlxf0LRJJ0CHAjEmyHckQCww0ci60yJAWUYESXqmIkDzwh7VV74jQFQtZ8zrLSZA3kJicEmvJUB9wdOV2yohQIr4YR17ZxlAQf5tLjlrE0D8FbLliLgPQBMBFSfXvgpA4zExRWfOBUARIsliziMCQJmizCVdbf8/pqBKe7IB/T+p+DwQq874P8N7RtalJPQ/s9bvKhIU8T/fhLrCqbDuP9ZG6/B6SOw/bE/E2Ctt5z+urFX1RhvhP0OE1UR/t90/tJLQbo4W3T+30+jDUJPeP3g01kpdPN4/OTbUdijT3D82HKJqB1DaP/OY4nfX39I/BBf+/jX00D/9LAPyuTXcP1jFfgLZuuM/GxCjeU+w6z9pO6WAhiryP8ViZRElb/U/zAJuTZeU9z9h4kaZhXP4P4LZIVBDcfg/d7u4S3VA+D+eaQLJG/P3P4WHEN51gvc/wLxQ1KPq9j8icU+KaDn2P3FxcZ/XhvU/IKk1uQ7A9D/fXRP7UPHzPyHbVzmLGvM/PR1563ZR8j8hg5W5K6rxP/zU6tBNOPE/GDrUwYoX8T8s4eA9zVrxP3lUnG3lsvE/HC15z5Bo8T8w05OF8ZvvP3Uba7/wm+o/U4Uscpum5T/7kPvCGVfhPx/RQze7Edc/\",\"dtype\":\"float64\",\"shape\":[75]},\"y\":{\"__ndarray__\":\"S/O/Q+51ND/Sv8nbtpRIP2vylNV0PVE/aTum7souWD/At0SJ8fVgPw3Iuahxymc/MSNhhJWvcD/bTfBN02d3P2zb5nxnaoA/CD5h5MAGhz8NmeH1TyaQP+zrCsc9p5Y/LbKd76fGnz/bLW5ISEmmPww9YvTcQq8/JV2OstnstT8Er5Y7M8G+P0c+r3jqkcU/5h99k6ZBzj88bCIzFzjVP4enV8oyxN0//yH99nXg5D8qOpLLf0jtP5kqGJXUifQ/c9cS8kHP/D+/DpwzojQEQIEmwoanVwxA4lgXt9HgE0BSSZ2AJuIbQAMJih9jjiNA5q4l5INuK0AwTKYKRj0zQNv5fmq8/DpAaCJseHrtQkB/+zpwzoxKQM3MzMzMeFJAZmZmZmZqWEAAAAAAAFxeQM3MzMzMJmJAmpmZmZkfZUBmZmZmZhhoQDMzMzMzEWtAAAAAAAAKbkBmZmZmZoFwQM3MzMzM/XFAMzMzMzN6c0CamZmZmfZ0QAAAAAAAc3ZAZmZmZmbvd0DNzMzMzGt5QDMzMzMz6HpAmpmZmZlkfEAAAAAAAOF9QGZmZmZmXX9AZmZmZuZsgECamZmZGSuBQM3MzMxM6YFAAAAAAICngkAzMzMzs2WDQGZmZmbmI4RAmpmZmRnihEDNzMzMTKCFQAAAAACAXoZAMzMzM7Mch0BmZmZm5tqHQJqZmZkZmYhAzczMzExXiUAAAAAAgBWKQDMzMzOz04pAZmZmZuaRi0CamZmZGVCMQM3MzMxMDo1AAAAAAIDMjUAzMzMzs4qOQGZmZmbmSI9A\",\"dtype\":\"float64\",\"shape\":[75]}},\"selected\":{\"id\":\"91ed9c41-22f3-4f1f-b60f-9a74fea506d2\",\"type\":\"Selection\"},\"selection_policy\":{\"id\":\"79cea64d-9c07-442a-a307-8625a2b13dbf\",\"type\":\"UnionRenderers\"}},\"id\":\"a5e45d6c-358d-48fb-a69d-7dfee43e0109\",\"type\":\"ColumnDataSource\"},{\"attributes\":{\"source\":{\"id\":\"a5e45d6c-358d-48fb-a69d-7dfee43e0109\",\"type\":\"ColumnDataSource\"}},\"id\":\"c916ca45-df71-4d3a-8392-c786e1b94ab1\",\"type\":\"CDSView\"},{\"attributes\":{\"source\":{\"id\":\"32d07bbc-190f-4d03-8cf8-2da9670af488\",\"type\":\"ColumnDataSource\"}},\"id\":\"358e914e-7423-4b4e-8bf8-83b9ea4b4e1b\",\"type\":\"CDSView\"},{\"attributes\":{},\"id\":\"79cea64d-9c07-442a-a307-8625a2b13dbf\",\"type\":\"UnionRenderers\"},{\"attributes\":{},\"id\":\"0a8ee332-4cd8-43f3-9015-7ebc144d5e3c\",\"type\":\"LinearScale\"},{\"attributes\":{\"line_alpha\":0.1,\"line_color\":\"#1f77b4\",\"line_dash\":[6],\"line_width\":5,\"x\":{\"field\":\"x\"},\"y\":{\"field\":\"y\"}},\"id\":\"26d319ba-3b90-4521-865a-fea8d0017256\",\"type\":\"Line\"},{\"attributes\":{},\"id\":\"be791d03-81da-4f41-beec-185adfc2d14e\",\"type\":\"PanTool\"},{\"attributes\":{\"data_source\":{\"id\":\"a5e45d6c-358d-48fb-a69d-7dfee43e0109\",\"type\":\"ColumnDataSource\"},\"glyph\":{\"id\":\"4be3c086-f6e4-44a3-8f5e-33c6977d8d75\",\"type\":\"Line\"},\"hover_glyph\":null,\"muted_glyph\":null,\"nonselection_glyph\":{\"id\":\"26d319ba-3b90-4521-865a-fea8d0017256\",\"type\":\"Line\"},\"selection_glyph\":null,\"view\":{\"id\":\"c916ca45-df71-4d3a-8392-c786e1b94ab1\",\"type\":\"CDSView\"}},\"id\":\"c6ddc231-19f5-4475-a9f0-7ffe07fcc41d\",\"type\":\"GlyphRenderer\"},{\"attributes\":{},\"id\":\"154c7b46-5a96-4675-a0a0-f413a9d369b3\",\"type\":\"BasicTicker\"},{\"attributes\":{},\"id\":\"b7b02ea0-cc9d-46b6-940b-09a795321242\",\"type\":\"LinearScale\"},{\"attributes\":{\"line_color\":\"#4daf4a\",\"line_width\":1.5,\"x\":{\"field\":\"x\"},\"y\":{\"field\":\"y\"}},\"id\":\"8d0167fd-2bc8-435d-bd51-58f3c81689a5\",\"type\":\"Line\"},{\"attributes\":{},\"id\":\"d38cdb01-507c-4293-bfd0-b1479db32787\",\"type\":\"BasicTicker\"},{\"attributes\":{},\"id\":\"91ed9c41-22f3-4f1f-b60f-9a74fea506d2\",\"type\":\"Selection\"},{\"attributes\":{\"axis_label\":\"cooling rate [K/day]\",\"formatter\":{\"id\":\"59c82ad3-e2a5-4a93-9a36-17fa748d96ac\",\"type\":\"BasicTickFormatter\"},\"plot\":{\"id\":\"383c7947-0787-4c51-af4a-ce40d5b61794\",\"subtype\":\"Figure\",\"type\":\"Plot\"},\"ticker\":{\"id\":\"d38cdb01-507c-4293-bfd0-b1479db32787\",\"type\":\"BasicTicker\"}},\"id\":\"0b6740f2-b88e-4bde-8ca0-77fd0f5828b1\",\"type\":\"LinearAxis\"},{\"attributes\":{\"above\":[{\"id\":\"54e950b4-b8b8-4231-9792-f6707b2d52d7\",\"type\":\"Legend\"}],\"below\":[{\"id\":\"0b6740f2-b88e-4bde-8ca0-77fd0f5828b1\",\"type\":\"LinearAxis\"}],\"left\":[{\"id\":\"efaa1e13-c8f5-4a7f-adf4-676432f1c410\",\"type\":\"LogAxis\"}],\"plot_width\":300,\"renderers\":[{\"id\":\"0b6740f2-b88e-4bde-8ca0-77fd0f5828b1\",\"type\":\"LinearAxis\"},{\"id\":\"c391dc1f-029e-46a4-b04b-c4c8b074a447\",\"type\":\"Grid\"},{\"id\":\"efaa1e13-c8f5-4a7f-adf4-676432f1c410\",\"type\":\"LogAxis\"},{\"id\":\"1bd12d20-70ec-4148-84bb-4d809e138319\",\"type\":\"Grid\"},{\"id\":\"3956f971-4d52-4cce-94eb-8e3f94cf8d11\",\"type\":\"BoxAnnotation\"},{\"id\":\"c6ddc231-19f5-4475-a9f0-7ffe07fcc41d\",\"type\":\"GlyphRenderer\"},{\"id\":\"eae0abea-d721-4be9-9c41-9d764d7a44ca\",\"type\":\"GlyphRenderer\"},{\"id\":\"bfb6fc5d-0f94-46c2-86b2-44bc59b1e4e2\",\"type\":\"GlyphRenderer\"},{\"id\":\"54e950b4-b8b8-4231-9792-f6707b2d52d7\",\"type\":\"Legend\"}],\"title\":{\"id\":\"8790caa0-0357-4ee5-90c1-1d00ca5e362f\",\"type\":\"Title\"},\"toolbar\":{\"id\":\"71a21898-ac7e-4761-9e74-b88611ecfd0f\",\"type\":\"Toolbar\"},\"toolbar_location\":null,\"x_range\":{\"id\":\"5167052b-103f-463d-b5a4-c8d3af036837\",\"type\":\"Range1d\"},\"x_scale\":{\"id\":\"b7b02ea0-cc9d-46b6-940b-09a795321242\",\"type\":\"LinearScale\"},\"y_range\":{\"id\":\"fbee5fc5-d791-43d9-88e6-147c38ba5293\",\"type\":\"Range1d\"},\"y_scale\":{\"id\":\"c2a91e0b-bcbe-4d60-8087-90af272a8581\",\"type\":\"LogScale\"}},\"id\":\"383c7947-0787-4c51-af4a-ce40d5b61794\",\"subtype\":\"Figure\",\"type\":\"Plot\"},{\"attributes\":{\"callback\":null,\"data\":{\"x\":{\"__ndarray__\":\"lXtci9lcQEAW/Z0xbS08QGspMUxKAz5AF7HURwGpPkAbIX4XuMg9QJz80qvJWjtAmzPGG6O5N0C92nqQzr8zQFe4Gu0neDBAteE24/g7LUDqvu4SQU8sQBtqajMZ2SxAlpOwtQ63LUCNcBX3Hz0tQHobmK45oipADlxf0LRJJ0CHAjEmyHckQCww0ci60yJAWUYESXqmIkDzwh7VV74jQFQtZ8zrLSZA3kJicEmvJUB9wdOV2yohQIr4YR17ZxlAQf5tLjlrE0D8FbLliLgPQBMBFSfXvgpA4zExRWfOBUARIsliziMCQJmizCVdbf8/pqBKe7IB/T+p+DwQq874P8N7RtalJPQ/s9bvKhIU8T/fhLrCqbDuP9ZG6/B6SOw/bE/E2Ctt5z+urFX1RhvhP0OE1UR/t90/tJLQbo4W3T+30+jDUJPeP3g01kpdPN4/OTbUdijT3D82HKJqB1DaP/OY4nfX39I/BBf+/jX00D/9LAPyuTXcP1jFfgLZuuM/GxCjeU+w6z9pO6WAhiryP8ViZRElb/U/zAJuTZeU9z9h4kaZhXP4P4LZIVBDcfg/d7u4S3VA+D+eaQLJG/P3P4WHEN51gvc/wLxQ1KPq9j8icU+KaDn2P3FxcZ/XhvU/IKk1uQ7A9D/fXRP7UPHzPyHbVzmLGvM/PR1563ZR8j8hg5W5K6rxP/zU6tBNOPE/GDrUwYoX8T8s4eA9zVrxP3lUnG3lsvE/HC15z5Bo8T8w05OF8ZvvP3Uba7/wm+o/U4Uscpum5T/7kPvCGVfhPx/RQze7Edc/\",\"dtype\":\"float64\",\"shape\":[75]},\"y\":{\"__ndarray__\":\"S/O/Q+51ND/Sv8nbtpRIP2vylNV0PVE/aTum7souWD/At0SJ8fVgPw3Iuahxymc/MSNhhJWvcD/bTfBN02d3P2zb5nxnaoA/CD5h5MAGhz8NmeH1TyaQP+zrCsc9p5Y/LbKd76fGnz/bLW5ISEmmPww9YvTcQq8/JV2OstnstT8Er5Y7M8G+P0c+r3jqkcU/5h99k6ZBzj88bCIzFzjVP4enV8oyxN0//yH99nXg5D8qOpLLf0jtP5kqGJXUifQ/c9cS8kHP/D+/DpwzojQEQIEmwoanVwxA4lgXt9HgE0BSSZ2AJuIbQAMJih9jjiNA5q4l5INuK0AwTKYKRj0zQNv5fmq8/DpAaCJseHrtQkB/+zpwzoxKQM3MzMzMeFJAZmZmZmZqWEAAAAAAAFxeQM3MzMzMJmJAmpmZmZkfZUBmZmZmZhhoQDMzMzMzEWtAAAAAAAAKbkBmZmZmZoFwQM3MzMzM/XFAMzMzMzN6c0CamZmZmfZ0QAAAAAAAc3ZAZmZmZmbvd0DNzMzMzGt5QDMzMzMz6HpAmpmZmZlkfEAAAAAAAOF9QGZmZmZmXX9AZmZmZuZsgECamZmZGSuBQM3MzMxM6YFAAAAAAICngkAzMzMzs2WDQGZmZmbmI4RAmpmZmRnihEDNzMzMTKCFQAAAAACAXoZAMzMzM7Mch0BmZmZm5tqHQJqZmZkZmYhAzczMzExXiUAAAAAAgBWKQDMzMzOz04pAZmZmZuaRi0CamZmZGVCMQM3MzMxMDo1AAAAAAIDMjUAzMzMzs4qOQGZmZmbmSI9A\",\"dtype\":\"float64\",\"shape\":[75]}},\"selected\":{\"id\":\"3edb42a1-39f5-40c3-ac46-3a201602d00e\",\"type\":\"Selection\"},\"selection_policy\":{\"id\":\"dacc8cb9-3212-4a80-b05b-c9bba3aa38ac\",\"type\":\"UnionRenderers\"}},\"id\":\"8372551e-5a50-4c44-9313-6aacd3eb108e\",\"type\":\"ColumnDataSource\"},{\"attributes\":{\"label\":{\"value\":\"CLIRAD (single-run) - CRD\"},\"renderers\":[{\"id\":\"9bb270cb-b714-4d10-9cd1-0a761ed47cc6\",\"type\":\"GlyphRenderer\"},{\"id\":\"9624b487-ce83-41b2-97c9-aeeeb2c26d19\",\"type\":\"GlyphRenderer\"}]},\"id\":\"29b96823-ebad-4926-9d0a-5096edf2683e\",\"type\":\"LegendItem\"},{\"attributes\":{\"fill_alpha\":{\"value\":0.1},\"fill_color\":{\"value\":\"#1f77b4\"},\"line_alpha\":{\"value\":0.1},\"line_color\":{\"value\":\"#1f77b4\"},\"x\":{\"field\":\"x\"},\"y\":{\"field\":\"y\"}},\"id\":\"5d10d5e2-7b03-4dff-a8dc-9c30dd8d7a50\",\"type\":\"Circle\"},{\"attributes\":{\"callback\":null,\"end\":16.437005432489137,\"start\":0.29625912118486003},\"id\":\"5167052b-103f-463d-b5a4-c8d3af036837\",\"type\":\"Range1d\"},{\"attributes\":{\"overlay\":{\"id\":\"e80e3fc7-dddd-4cd9-9f38-1888eece47e1\",\"type\":\"BoxAnnotation\"}},\"id\":\"1b418b48-25a8-4ff8-88ec-a9b741b43ede\",\"type\":\"BoxZoomTool\"},{\"attributes\":{\"label\":{\"value\":\"CLIRAD (single-run)\"},\"renderers\":[{\"id\":\"832d0677-9b34-49be-9d1c-b25f0b5854d7\",\"type\":\"GlyphRenderer\"}]},\"id\":\"e3d39a84-6121-4e3f-9ba0-1c81934d4168\",\"type\":\"LegendItem\"},{\"attributes\":{},\"id\":\"77e553ad-6dd5-4eff-a2ab-4d10e70e69ef\",\"type\":\"HelpTool\"},{\"attributes\":{\"plot\":{\"id\":\"1c8ece07-2257-44c4-9924-bf186290a2c7\",\"subtype\":\"Figure\",\"type\":\"Plot\"},\"ticker\":{\"id\":\"23988620-eba6-47a1-a850-67cd4e6a26c0\",\"type\":\"BasicTicker\"}},\"id\":\"02dbc103-9d30-4fb4-8e33-ea72d1456cef\",\"type\":\"Grid\"},{\"attributes\":{},\"id\":\"b2816700-bf87-436b-a92a-04f40296354b\",\"type\":\"BasicTickFormatter\"},{\"attributes\":{},\"id\":\"b6c7d384-2071-4819-9ef0-91e0bdfacd6a\",\"type\":\"UnionRenderers\"},{\"attributes\":{\"callback\":null,\"data\":{\"x\":{\"__ndarray__\":\"0CYBcvU5UkCik9zf2GVBQF1VoNfLZ0BAVLxhiVXTPUDD1Wu1wJM6QFJyB025jjdAU6Aw5+b/NECYe1uuDfgyQB6bYtVTbTFAPxYSAF1HMEA00pYVm9QuQLolHbMzgC1AntlwirGsLECv+G9SjE4rQJH6ZLBp0ShAsLZQyPd/JkDyjgyf2PwkQLgyNGsrJyRAA13QbJD6I0C8hy0ilI4kQOVTXCEgcSZAovOGvZSGJUBVc/ZmUOIgQOf/6GHAyRlAcE8fAOBSFEDRur1U//gPQGFD9ZbokghAQsqHuSqSA0C91ci3W0UBQCtRQfvz7/4/kh8pntyB+j9t1/n+4TX1P773MAUjFfI/RgzR+CI28T8hBW8WHK7uPzVKjJfU8uk/0FPt4/z65T/wVYqzMPDhPz7K9C5CXuE/8+hSn9hY4T/9PPCkR6rhP1XsIC599OA/66X1nBCX3z/YbRM56QjcPz4dkSQc/dM/S7Wb8Fq00T+/yQdmX0vcP7TrGf476eM/WqNPJoWO7D9qOH1bcwDzP2bw+R5DQ/Y/RLSuQOQp+D8+aif8yAz5P0Wv6eBKRfk/0i2+IN4R+T/ik8QNFZr4PyS5UD5j/Pc/yJ68zXRG9z/2CHPL54H2P59SOhwKtPU/npkP8dfg9D8NlmVcdQz0P80ugRvuOvM/byxiAHN18j9USVZie8nxP5l9lNXYSPE/OB+F0UYP8T8Y7dsUCTHxP3EBgTHPcPE/bfx15p8S8T8FT+xkGtTuP6mdG7rkxuk/pboqTkHX5D/CrN8qGYngP7R4ZaL+htU/\",\"dtype\":\"float64\",\"shape\":[75]},\"y\":{\"__ndarray__\":\"GhExyth1ND/Sv8nbtpRIP2vylNV0PVE/aTum7souWD/At0SJ8fVgPw3Iuahxymc/MSNhhJWvcD/bTfBN02d3P2zb5nxnaoA/CD5h5MAGhz8NmeH1TyaQP+zrCsc9p5Y/LbKd76fGnz/bLW5ISEmmPww9YvTcQq8/JV2OstnstT8Er5Y7M8G+P0c+r3jqkcU/5h99k6ZBzj88bCIzFzjVP4enV8oyxN0//yH99nXg5D8qOpLLf0jtP5kqGJXUifQ/c9cS8kHP/D+/DpwzojQEQIEmwoanVwxA4lgXt9HgE0BSSZ2AJuIbQAMJih9jjiNA5q4l5INuK0AwTKYKRj0zQNv5fmq8/DpAaCJseHrtQkB/+zpwzoxKQM3MzMzMeFJAZmZmZmZqWEAAAAAAAFxeQM3MzMzMJmJAmpmZmZkfZUBmZmZmZhhoQDMzMzMzEWtAAAAAAAAKbkBmZmZmZoFwQM3MzMzM/XFAMzMzMzN6c0CamZmZmfZ0QAAAAAAAc3ZAZmZmZmbvd0DNzMzMzGt5QDMzMzMz6HpAmpmZmZlkfEAAAAAAAOF9QGZmZmZmXX9AZmZmZuZsgECamZmZGSuBQM3MzMxM6YFAAAAAAICngkAzMzMzs2WDQGZmZmbmI4RAmpmZmRnihEDNzMzMTKCFQAAAAACAXoZAMzMzM7Mch0BmZmZm5tqHQJqZmZkZmYhAzczMzExXiUAAAAAAgBWKQDMzMzOz04pAZmZmZuaRi0CamZmZGVCMQM3MzMxMDo1AAAAAAIDMjUAzMzMzs4qOQGZmZmbmSI9A\",\"dtype\":\"float64\",\"shape\":[75]}},\"selected\":{\"id\":\"63dc44a3-4386-4d34-9c42-2e7e4daa05ff\",\"type\":\"Selection\"},\"selection_policy\":{\"id\":\"b6c7d384-2071-4819-9ef0-91e0bdfacd6a\",\"type\":\"UnionRenderers\"}},\"id\":\"bcc83ce4-656c-4f91-880e-9575ed88c252\",\"type\":\"ColumnDataSource\"},{\"attributes\":{},\"id\":\"a3ff5656-eafc-49fd-8d1d-819d0c84a075\",\"type\":\"HelpTool\"},{\"attributes\":{},\"id\":\"c225a102-8126-4a70-a43e-9e7e3c2a489f\",\"type\":\"ResetTool\"},{\"attributes\":{},\"id\":\"089d40ad-f07e-4c13-8a37-525acd898e17\",\"type\":\"BasicTickFormatter\"},{\"attributes\":{\"dimension\":1,\"plot\":{\"id\":\"d2577c4c-bf74-47b6-98e2-ab9ecb377655\",\"subtype\":\"Figure\",\"type\":\"Plot\"},\"ticker\":{\"id\":\"154c7b46-5a96-4675-a0a0-f413a9d369b3\",\"type\":\"BasicTicker\"}},\"id\":\"f8f75965-8b57-47c8-b085-ff82834664a3\",\"type\":\"Grid\"},{\"attributes\":{\"callback\":null,\"data\":{\"x\":{\"__ndarray__\":\"0CYBcvU5UkCik9zf2GVBQF1VoNfLZ0BAVLxhiVXTPUDD1Wu1wJM6QFJyB025jjdAU6Aw5+b/NECYe1uuDfgyQB6bYtVTbTFAPxYSAF1HMEA00pYVm9QuQLolHbMzgC1AntlwirGsLECv+G9SjE4rQJH6ZLBp0ShAsLZQyPd/JkDyjgyf2PwkQLgyNGsrJyRAA13QbJD6I0C8hy0ilI4kQOVTXCEgcSZAovOGvZSGJUBVc/ZmUOIgQOf/6GHAyRlAcE8fAOBSFEDRur1U//gPQGFD9ZbokghAQsqHuSqSA0C91ci3W0UBQCtRQfvz7/4/kh8pntyB+j9t1/n+4TX1P773MAUjFfI/RgzR+CI28T8hBW8WHK7uPzVKjJfU8uk/0FPt4/z65T/wVYqzMPDhPz7K9C5CXuE/8+hSn9hY4T/9PPCkR6rhP1XsIC599OA/66X1nBCX3z/YbRM56QjcPz4dkSQc/dM/S7Wb8Fq00T+/yQdmX0vcP7TrGf476eM/WqNPJoWO7D9qOH1bcwDzP2bw+R5DQ/Y/RLSuQOQp+D8+aif8yAz5P0Wv6eBKRfk/0i2+IN4R+T/ik8QNFZr4PyS5UD5j/Pc/yJ68zXRG9z/2CHPL54H2P59SOhwKtPU/npkP8dfg9D8NlmVcdQz0P80ugRvuOvM/byxiAHN18j9USVZie8nxP5l9lNXYSPE/OB+F0UYP8T8Y7dsUCTHxP3EBgTHPcPE/bfx15p8S8T8FT+xkGtTuP6mdG7rkxuk/pboqTkHX5D/CrN8qGYngP7R4ZaL+htU/\",\"dtype\":\"float64\",\"shape\":[75]},\"y\":{\"__ndarray__\":\"GhExyth1ND/Sv8nbtpRIP2vylNV0PVE/aTum7souWD/At0SJ8fVgPw3Iuahxymc/MSNhhJWvcD/bTfBN02d3P2zb5nxnaoA/CD5h5MAGhz8NmeH1TyaQP+zrCsc9p5Y/LbKd76fGnz/bLW5ISEmmPww9YvTcQq8/JV2OstnstT8Er5Y7M8G+P0c+r3jqkcU/5h99k6ZBzj88bCIzFzjVP4enV8oyxN0//yH99nXg5D8qOpLLf0jtP5kqGJXUifQ/c9cS8kHP/D+/DpwzojQEQIEmwoanVwxA4lgXt9HgE0BSSZ2AJuIbQAMJih9jjiNA5q4l5INuK0AwTKYKRj0zQNv5fmq8/DpAaCJseHrtQkB/+zpwzoxKQM3MzMzMeFJAZmZmZmZqWEAAAAAAAFxeQM3MzMzMJmJAmpmZmZkfZUBmZmZmZhhoQDMzMzMzEWtAAAAAAAAKbkBmZmZmZoFwQM3MzMzM/XFAMzMzMzN6c0CamZmZmfZ0QAAAAAAAc3ZAZmZmZmbvd0DNzMzMzGt5QDMzMzMz6HpAmpmZmZlkfEAAAAAAAOF9QGZmZmZmXX9AZmZmZuZsgECamZmZGSuBQM3MzMxM6YFAAAAAAICngkAzMzMzs2WDQGZmZmbmI4RAmpmZmRnihEDNzMzMTKCFQAAAAACAXoZAMzMzM7Mch0BmZmZm5tqHQJqZmZkZmYhAzczMzExXiUAAAAAAgBWKQDMzMzOz04pAZmZmZuaRi0CamZmZGVCMQM3MzMxMDo1AAAAAAIDMjUAzMzMzs4qOQGZmZmbmSI9A\",\"dtype\":\"float64\",\"shape\":[75]}},\"selected\":{\"id\":\"c63893d5-bf4b-44f8-88bb-f86be793181c\",\"type\":\"Selection\"},\"selection_policy\":{\"id\":\"29f5d8af-7492-4ca2-98a8-2915d16802ef\",\"type\":\"UnionRenderers\"}},\"id\":\"32d07bbc-190f-4d03-8cf8-2da9670af488\",\"type\":\"ColumnDataSource\"},{\"attributes\":{},\"id\":\"e85074ab-0eca-47c7-8fad-e264d5c304b8\",\"type\":\"PanTool\"},{\"attributes\":{\"data_source\":{\"id\":\"32d07bbc-190f-4d03-8cf8-2da9670af488\",\"type\":\"ColumnDataSource\"},\"glyph\":{\"id\":\"8d0167fd-2bc8-435d-bd51-58f3c81689a5\",\"type\":\"Line\"},\"hover_glyph\":null,\"muted_glyph\":null,\"nonselection_glyph\":{\"id\":\"0744ec7c-eee9-4240-9495-797371f47d9f\",\"type\":\"Line\"},\"selection_glyph\":null,\"view\":{\"id\":\"358e914e-7423-4b4e-8bf8-83b9ea4b4e1b\",\"type\":\"CDSView\"}},\"id\":\"bfb6fc5d-0f94-46c2-86b2-44bc59b1e4e2\",\"type\":\"GlyphRenderer\"},{\"attributes\":{\"source\":{\"id\":\"bcc83ce4-656c-4f91-880e-9575ed88c252\",\"type\":\"ColumnDataSource\"}},\"id\":\"6c11bb5a-e6cd-4d2e-a1e5-0cbc84fb28c4\",\"type\":\"CDSView\"},{\"attributes\":{\"label\":{\"value\":\"CRD\"},\"renderers\":[{\"id\":\"870cd9f1-5f15-40cd-9d24-cf777c642ad6\",\"type\":\"GlyphRenderer\"},{\"id\":\"d185a0b8-28dc-4606-913f-445c0049e9c4\",\"type\":\"GlyphRenderer\"}]},\"id\":\"895aa057-0718-48ff-bdfd-28043e815cc4\",\"type\":\"LegendItem\"},{\"attributes\":{},\"id\":\"5e9862fb-38ec-416c-a964-7bf8f6c3d768\",\"type\":\"SaveTool\"},{\"attributes\":{},\"id\":\"dacc8cb9-3212-4a80-b05b-c9bba3aa38ac\",\"type\":\"UnionRenderers\"},{\"attributes\":{\"data_source\":{\"id\":\"bcc83ce4-656c-4f91-880e-9575ed88c252\",\"type\":\"ColumnDataSource\"},\"glyph\":{\"id\":\"716e316e-d96f-40e0-9dc5-34c694755f70\",\"type\":\"Circle\"},\"hover_glyph\":null,\"muted_glyph\":null,\"nonselection_glyph\":{\"id\":\"5d10d5e2-7b03-4dff-a8dc-9c30dd8d7a50\",\"type\":\"Circle\"},\"selection_glyph\":null,\"view\":{\"id\":\"6c11bb5a-e6cd-4d2e-a1e5-0cbc84fb28c4\",\"type\":\"CDSView\"}},\"id\":\"eae0abea-d721-4be9-9c41-9d764d7a44ca\",\"type\":\"GlyphRenderer\"},{\"attributes\":{\"data_source\":{\"id\":\"48e625f6-a945-408d-bc3d-bad902b5fcc3\",\"type\":\"ColumnDataSource\"},\"glyph\":{\"id\":\"cd33dcd4-856f-4e6c-bb53-e65c7a597556\",\"type\":\"Circle\"},\"hover_glyph\":null,\"muted_glyph\":null,\"nonselection_glyph\":{\"id\":\"8dc22df1-0dd9-487a-b737-8466d223a7ab\",\"type\":\"Circle\"},\"selection_glyph\":null,\"view\":{\"id\":\"4f2bcd96-41f2-4193-b74b-e9638796f03b\",\"type\":\"CDSView\"}},\"id\":\"9bb270cb-b714-4d10-9cd1-0a761ed47cc6\",\"type\":\"GlyphRenderer\"},{\"attributes\":{\"data_source\":{\"id\":\"49dff621-fe02-41e8-8a60-4881fe659c07\",\"type\":\"ColumnDataSource\"},\"glyph\":{\"id\":\"edba70f0-b033-4807-ab12-08d9269a4098\",\"type\":\"Line\"},\"hover_glyph\":null,\"muted_glyph\":null,\"nonselection_glyph\":{\"id\":\"248726f5-783c-48ef-950d-ac122c0d4b51\",\"type\":\"Line\"},\"selection_glyph\":null,\"view\":{\"id\":\"7a7bbcb3-0507-4711-a20e-821efa3406ba\",\"type\":\"CDSView\"}},\"id\":\"d185a0b8-28dc-4606-913f-445c0049e9c4\",\"type\":\"GlyphRenderer\"},{\"attributes\":{\"fill_alpha\":{\"value\":0.1},\"fill_color\":{\"value\":\"#1f77b4\"},\"line_alpha\":{\"value\":0.1},\"line_color\":{\"value\":\"#1f77b4\"},\"x\":{\"field\":\"x\"},\"y\":{\"field\":\"y\"}},\"id\":\"896bc61f-3487-4b5d-a391-332012209b81\",\"type\":\"Circle\"},{\"attributes\":{\"line_color\":\"#4daf4a\",\"line_width\":1.5,\"x\":{\"field\":\"x\"},\"y\":{\"field\":\"y\"}},\"id\":\"edba70f0-b033-4807-ab12-08d9269a4098\",\"type\":\"Line\"},{\"attributes\":{\"callback\":null,\"end\":0.01,\"start\":1020},\"id\":\"a70fbbb4-4b1c-4188-89ee-62038537f9df\",\"type\":\"Range1d\"},{\"attributes\":{\"line_alpha\":0.1,\"line_color\":\"#1f77b4\",\"line_width\":1.5,\"x\":{\"field\":\"x\"},\"y\":{\"field\":\"y\"}},\"id\":\"0744ec7c-eee9-4240-9495-797371f47d9f\",\"type\":\"Line\"},{\"attributes\":{\"fill_alpha\":{\"value\":0.7},\"fill_color\":{\"value\":\"#4daf4a\"},\"line_alpha\":{\"value\":0.7},\"line_color\":{\"value\":\"#4daf4a\"},\"x\":{\"field\":\"x\"},\"y\":{\"field\":\"y\"}},\"id\":\"0abe9d31-b486-405a-b09f-e6e65c29c7c2\",\"type\":\"Circle\"},{\"attributes\":{\"callback\":null,\"data\":{\"x\":{\"__ndarray__\":\"0CYBcvU5UkCik9zf2GVBQF1VoNfLZ0BAVLxhiVXTPUDD1Wu1wJM6QFJyB025jjdAU6Aw5+b/NECYe1uuDfgyQB6bYtVTbTFAPxYSAF1HMEA00pYVm9QuQLolHbMzgC1AntlwirGsLECv+G9SjE4rQJH6ZLBp0ShAsLZQyPd/JkDyjgyf2PwkQLgyNGsrJyRAA13QbJD6I0C8hy0ilI4kQOVTXCEgcSZAovOGvZSGJUBVc/ZmUOIgQOf/6GHAyRlAcE8fAOBSFEDRur1U//gPQGFD9ZbokghAQsqHuSqSA0C91ci3W0UBQCtRQfvz7/4/kh8pntyB+j9t1/n+4TX1P773MAUjFfI/RgzR+CI28T8hBW8WHK7uPzVKjJfU8uk/0FPt4/z65T/wVYqzMPDhPz7K9C5CXuE/8+hSn9hY4T/9PPCkR6rhP1XsIC599OA/66X1nBCX3z/YbRM56QjcPz4dkSQc/dM/S7Wb8Fq00T+/yQdmX0vcP7TrGf476eM/WqNPJoWO7D9qOH1bcwDzP2bw+R5DQ/Y/RLSuQOQp+D8+aif8yAz5P0Wv6eBKRfk/0i2+IN4R+T/ik8QNFZr4PyS5UD5j/Pc/yJ68zXRG9z/2CHPL54H2P59SOhwKtPU/npkP8dfg9D8NlmVcdQz0P80ugRvuOvM/byxiAHN18j9USVZie8nxP5l9lNXYSPE/OB+F0UYP8T8Y7dsUCTHxP3EBgTHPcPE/bfx15p8S8T8FT+xkGtTuP6mdG7rkxuk/pboqTkHX5D/CrN8qGYngP7R4ZaL+htU/\",\"dtype\":\"float64\",\"shape\":[75]},\"y\":{\"__ndarray__\":\"GhExyth1ND/Sv8nbtpRIP2vylNV0PVE/aTum7souWD/At0SJ8fVgPw3Iuahxymc/MSNhhJWvcD/bTfBN02d3P2zb5nxnaoA/CD5h5MAGhz8NmeH1TyaQP+zrCsc9p5Y/LbKd76fGnz/bLW5ISEmmPww9YvTcQq8/JV2OstnstT8Er5Y7M8G+P0c+r3jqkcU/5h99k6ZBzj88bCIzFzjVP4enV8oyxN0//yH99nXg5D8qOpLLf0jtP5kqGJXUifQ/c9cS8kHP/D+/DpwzojQEQIEmwoanVwxA4lgXt9HgE0BSSZ2AJuIbQAMJih9jjiNA5q4l5INuK0AwTKYKRj0zQNv5fmq8/DpAaCJseHrtQkB/+zpwzoxKQM3MzMzMeFJAZmZmZmZqWEAAAAAAAFxeQM3MzMzMJmJAmpmZmZkfZUBmZmZmZhhoQDMzMzMzEWtAAAAAAAAKbkBmZmZmZoFwQM3MzMzM/XFAMzMzMzN6c0CamZmZmfZ0QAAAAAAAc3ZAZmZmZmbvd0DNzMzMzGt5QDMzMzMz6HpAmpmZmZlkfEAAAAAAAOF9QGZmZmZmXX9AZmZmZuZsgECamZmZGSuBQM3MzMxM6YFAAAAAAICngkAzMzMzs2WDQGZmZmbmI4RAmpmZmRnihEDNzMzMTKCFQAAAAACAXoZAMzMzM7Mch0BmZmZm5tqHQJqZmZkZmYhAzczMzExXiUAAAAAAgBWKQDMzMzOz04pAZmZmZuaRi0CamZmZGVCMQM3MzMxMDo1AAAAAAIDMjUAzMzMzs4qOQGZmZmbmSI9A\",\"dtype\":\"float64\",\"shape\":[75]}},\"selected\":{\"id\":\"58b155d5-587d-4259-b289-ce5edac6c768\",\"type\":\"Selection\"},\"selection_policy\":{\"id\":\"6c37710a-d4a2-4100-9952-f842335f8f7c\",\"type\":\"UnionRenderers\"}},\"id\":\"49dff621-fe02-41e8-8a60-4881fe659c07\",\"type\":\"ColumnDataSource\"},{\"attributes\":{\"source\":{\"id\":\"8372551e-5a50-4c44-9313-6aacd3eb108e\",\"type\":\"ColumnDataSource\"}},\"id\":\"f88956e4-1819-49ed-86fe-5a91f7615703\",\"type\":\"CDSView\"},{\"attributes\":{\"data_source\":{\"id\":\"9dc1729b-fe09-4c6c-a4b4-d1c5dc0075ec\",\"type\":\"ColumnDataSource\"},\"glyph\":{\"id\":\"0abe9d31-b486-405a-b09f-e6e65c29c7c2\",\"type\":\"Circle\"},\"hover_glyph\":null,\"muted_glyph\":null,\"nonselection_glyph\":{\"id\":\"896bc61f-3487-4b5d-a391-332012209b81\",\"type\":\"Circle\"},\"selection_glyph\":null,\"view\":{\"id\":\"b283063b-db36-4783-9421-48f40e2c6ae8\",\"type\":\"CDSView\"}},\"id\":\"870cd9f1-5f15-40cd-9d24-cf777c642ad6\",\"type\":\"GlyphRenderer\"},{\"attributes\":{\"source\":{\"id\":\"49dff621-fe02-41e8-8a60-4881fe659c07\",\"type\":\"ColumnDataSource\"}},\"id\":\"7a7bbcb3-0507-4711-a20e-821efa3406ba\",\"type\":\"CDSView\"},{\"attributes\":{\"callback\":null,\"data\":{\"x\":{\"__ndarray__\":\"vahsOBJ5GsBkCnwYa2IGwGKYXs53teo/wVqSELunCUBMUlz2gmAOQEearKThzQVAn+TrQxz46D+/WPwIfaXuv1FWaucIlvq/RZpAFdAq9L+wc1f2T+PUv16f+7PSpeA/0H1XSjrp7j9+DjLj/wztP8ir1AGhN9k/lI1xGw+i0L+2KDAmCjflv4NqwTxiQeW//JjYoYkH2r90pEk9Fc3Av7Cep21ZWrQ/w4lTt8siwj/S18EhUZG4vxomKjba9My/fTXpwpsdoL+S7f2AdF/RPwI9S13k4dE/b4oJYFXOuz+HW9SiSlqfP4EIDOmu/sM/1QkZikjGzD8qIKyIFnzAP77JmvBmCIG/+Pz9W2JtND/+5PfKMq2yP9K5b03vIqc/JyiVxjedmr/mQFBkFBS0v838VD+LbLa//5jeF/oEs7+oIV2L6GStv5F9CzFBH6a/ShoV5xyOm7+mROjKStSRv8LIszOeBIi/UsKcBHSlVb/gLZPNfTF3v9NnkpW1xpu/8Z//Wpu9qr8CtJGywYOqvxcvFmieqaK/YPsQXGwoo79ruPoY8oCqv4VLrqAaLaq/wkhFmCjfpL+iZwwQWHuev/GB+Fo+9Ja/iPTlSNAfkr8+lnBkPpmGv7c++OybZIC/vS04UmEke78S1qkUcTGAvxiYh3QK/oG/5DHGwKhPf7+gnaipBItwv/jBNZ7gh2A/iAp6ghTihD+kwdQGj4WQP6QrzEA6fJU/loXwFOT6mD85ue+pgKGaP55VOYBE65k/HId8AxPAmT/EhuVNyauYPw==\",\"dtype\":\"float64\",\"shape\":[74]},\"y\":{\"__ndarray__\":\"0r/J27aUSD9r8pTVdD1RP2k7pu7KLlg/wLdEifH1YD8NyLmoccpnPzEjYYSVr3A/203wTdNndz9s2+Z8Z2qAPwg+YeTABoc/DZnh9U8mkD/s6wrHPaeWPy2yne+nxp8/2y1uSEhJpj8MPWL03EKvPyVdjrLZ7LU/BK+WOzPBvj9HPq946pHFP+YffZOmQc4/PGwiMxc41T+Hp1fKMsTdP/8h/fZ14OQ/KjqSy39I7T+ZKhiV1In0P3PXEvJBz/w/vw6cM6I0BECBJsKGp1cMQOJYF7fR4BNAUkmdgCbiG0ADCYofY44jQOauJeSDbitAMEymCkY9M0Db+X5qvPw6QGgibHh67UJAf/s6cM6MSkDNzMzMzHhSQGZmZmZmalhAAAAAAABcXkDNzMzMzCZiQJqZmZmZH2VAZmZmZmYYaEAzMzMzMxFrQAAAAAAACm5AZmZmZmaBcEDNzMzMzP1xQDMzMzMzenNAmpmZmZn2dEAAAAAAAHN2QGZmZmZm73dAzczMzMxreUAzMzMzM+h6QJqZmZmZZHxAAAAAAADhfUBmZmZmZl1/QGZmZmbmbIBAmpmZmRkrgUDNzMzMTOmBQAAAAACAp4JAMzMzM7Nlg0BmZmZm5iOEQJqZmZkZ4oRAzczMzEyghUAAAAAAgF6GQDMzMzOzHIdAZmZmZubah0CamZmZGZmIQM3MzMxMV4lAAAAAAIAVikAzMzMzs9OKQGZmZmbmkYtAmpmZmRlQjEDNzMzMTA6NQAAAAACAzI1AMzMzM7OKjkBmZmZm5kiPQA==\",\"dtype\":\"float64\",\"shape\":[74]}},\"selected\":{\"id\":\"c96e747e-4007-4e6d-812b-d826200c8f97\",\"type\":\"Selection\"},\"selection_policy\":{\"id\":\"2ee90895-ed16-4805-b513-e05fd890b719\",\"type\":\"UnionRenderers\"}},\"id\":\"48e625f6-a945-408d-bc3d-bad902b5fcc3\",\"type\":\"ColumnDataSource\"},{\"attributes\":{\"fill_alpha\":{\"value\":0.1},\"fill_color\":{\"value\":\"#1f77b4\"},\"line_alpha\":{\"value\":0.1},\"line_color\":{\"value\":\"#1f77b4\"},\"x\":{\"field\":\"x\"},\"y\":{\"field\":\"y\"}},\"id\":\"8dc22df1-0dd9-487a-b737-8466d223a7ab\",\"type\":\"Circle\"},{\"attributes\":{\"fill_alpha\":{\"value\":0.7},\"fill_color\":{\"value\":\"#4daf4a\"},\"line_alpha\":{\"value\":0.7},\"line_color\":{\"value\":\"#4daf4a\"},\"x\":{\"field\":\"x\"},\"y\":{\"field\":\"y\"}},\"id\":\"716e316e-d96f-40e0-9dc5-34c694755f70\",\"type\":\"Circle\"},{\"attributes\":{\"line_alpha\":0.1,\"line_color\":\"#1f77b4\",\"line_width\":1.5,\"x\":{\"field\":\"x\"},\"y\":{\"field\":\"y\"}},\"id\":\"248726f5-783c-48ef-950d-ac122c0d4b51\",\"type\":\"Line\"},{\"attributes\":{\"source\":{\"id\":\"9dc1729b-fe09-4c6c-a4b4-d1c5dc0075ec\",\"type\":\"ColumnDataSource\"}},\"id\":\"b283063b-db36-4783-9421-48f40e2c6ae8\",\"type\":\"CDSView\"},{\"attributes\":{\"dimension\":1,\"plot\":{\"id\":\"383c7947-0787-4c51-af4a-ce40d5b61794\",\"subtype\":\"Figure\",\"type\":\"Plot\"},\"ticker\":{\"id\":\"5d2e085f-43f9-4e22-8cd5-83dd7c10ad24\",\"type\":\"LogTicker\"}},\"id\":\"1bd12d20-70ec-4148-84bb-4d809e138319\",\"type\":\"Grid\"},{\"attributes\":{\"source\":{\"id\":\"48e625f6-a945-408d-bc3d-bad902b5fcc3\",\"type\":\"ColumnDataSource\"}},\"id\":\"4f2bcd96-41f2-4193-b74b-e9638796f03b\",\"type\":\"CDSView\"},{\"attributes\":{\"callback\":null,\"data\":{\"x\":{\"__ndarray__\":\"0CYBcvU5UkCik9zf2GVBQF1VoNfLZ0BAVLxhiVXTPUDD1Wu1wJM6QFJyB025jjdAU6Aw5+b/NECYe1uuDfgyQB6bYtVTbTFAPxYSAF1HMEA00pYVm9QuQLolHbMzgC1AntlwirGsLECv+G9SjE4rQJH6ZLBp0ShAsLZQyPd/JkDyjgyf2PwkQLgyNGsrJyRAA13QbJD6I0C8hy0ilI4kQOVTXCEgcSZAovOGvZSGJUBVc/ZmUOIgQOf/6GHAyRlAcE8fAOBSFEDRur1U//gPQGFD9ZbokghAQsqHuSqSA0C91ci3W0UBQCtRQfvz7/4/kh8pntyB+j9t1/n+4TX1P773MAUjFfI/RgzR+CI28T8hBW8WHK7uPzVKjJfU8uk/0FPt4/z65T/wVYqzMPDhPz7K9C5CXuE/8+hSn9hY4T/9PPCkR6rhP1XsIC599OA/66X1nBCX3z/YbRM56QjcPz4dkSQc/dM/S7Wb8Fq00T+/yQdmX0vcP7TrGf476eM/WqNPJoWO7D9qOH1bcwDzP2bw+R5DQ/Y/RLSuQOQp+D8+aif8yAz5P0Wv6eBKRfk/0i2+IN4R+T/ik8QNFZr4PyS5UD5j/Pc/yJ68zXRG9z/2CHPL54H2P59SOhwKtPU/npkP8dfg9D8NlmVcdQz0P80ugRvuOvM/byxiAHN18j9USVZie8nxP5l9lNXYSPE/OB+F0UYP8T8Y7dsUCTHxP3EBgTHPcPE/bfx15p8S8T8FT+xkGtTuP6mdG7rkxuk/pboqTkHX5D/CrN8qGYngP7R4ZaL+htU/\",\"dtype\":\"float64\",\"shape\":[75]},\"y\":{\"__ndarray__\":\"GhExyth1ND/Sv8nbtpRIP2vylNV0PVE/aTum7souWD/At0SJ8fVgPw3Iuahxymc/MSNhhJWvcD/bTfBN02d3P2zb5nxnaoA/CD5h5MAGhz8NmeH1TyaQP+zrCsc9p5Y/LbKd76fGnz/bLW5ISEmmPww9YvTcQq8/JV2OstnstT8Er5Y7M8G+P0c+r3jqkcU/5h99k6ZBzj88bCIzFzjVP4enV8oyxN0//yH99nXg5D8qOpLLf0jtP5kqGJXUifQ/c9cS8kHP/D+/DpwzojQEQIEmwoanVwxA4lgXt9HgE0BSSZ2AJuIbQAMJih9jjiNA5q4l5INuK0AwTKYKRj0zQNv5fmq8/DpAaCJseHrtQkB/+zpwzoxKQM3MzMzMeFJAZmZmZmZqWEAAAAAAAFxeQM3MzMzMJmJAmpmZmZkfZUBmZmZmZhhoQDMzMzMzEWtAAAAAAAAKbkBmZmZmZoFwQM3MzMzM/XFAMzMzMzN6c0CamZmZmfZ0QAAAAAAAc3ZAZmZmZmbvd0DNzMzMzGt5QDMzMzMz6HpAmpmZmZlkfEAAAAAAAOF9QGZmZmZmXX9AZmZmZuZsgECamZmZGSuBQM3MzMxM6YFAAAAAAICngkAzMzMzs2WDQGZmZmbmI4RAmpmZmRnihEDNzMzMTKCFQAAAAACAXoZAMzMzM7Mch0BmZmZm5tqHQJqZmZkZmYhAzczMzExXiUAAAAAAgBWKQDMzMzOz04pAZmZmZuaRi0CamZmZGVCMQM3MzMxMDo1AAAAAAIDMjUAzMzMzs4qOQGZmZmbmSI9A\",\"dtype\":\"float64\",\"shape\":[75]}},\"selected\":{\"id\":\"45ae0db2-050a-43e2-9a0c-5f43c1bb42a5\",\"type\":\"Selection\"},\"selection_policy\":{\"id\":\"6747ae2f-3b40-40bc-af1a-57fb06b865ca\",\"type\":\"UnionRenderers\"}},\"id\":\"9dc1729b-fe09-4c6c-a4b4-d1c5dc0075ec\",\"type\":\"ColumnDataSource\"},{\"attributes\":{\"axis_label\":\"cooling rate [K/day]\",\"formatter\":{\"id\":\"8a43f022-e0fb-455e-a0c6-ba922ad6b9ff\",\"type\":\"BasicTickFormatter\"},\"plot\":{\"id\":\"1c8ece07-2257-44c4-9924-bf186290a2c7\",\"subtype\":\"Figure\",\"type\":\"Plot\"},\"ticker\":{\"id\":\"23988620-eba6-47a1-a850-67cd4e6a26c0\",\"type\":\"BasicTicker\"}},\"id\":\"b2e68706-daf8-4c05-9974-d36c0c1adfcd\",\"type\":\"LinearAxis\"},{\"attributes\":{\"fill_alpha\":{\"value\":0.7},\"fill_color\":{\"value\":\"#984ea3\"},\"line_alpha\":{\"value\":0.7},\"line_color\":{\"value\":\"#984ea3\"},\"x\":{\"field\":\"x\"},\"y\":{\"field\":\"y\"}},\"id\":\"cd33dcd4-856f-4e6c-bb53-e65c7a597556\",\"type\":\"Circle\"},{\"attributes\":{\"data_source\":{\"id\":\"8372551e-5a50-4c44-9313-6aacd3eb108e\",\"type\":\"ColumnDataSource\"},\"glyph\":{\"id\":\"8fc54974-265b-4762-98db-74387e342ee3\",\"type\":\"Line\"},\"hover_glyph\":null,\"muted_glyph\":null,\"nonselection_glyph\":{\"id\":\"986103ae-0cc3-401c-a74d-4413e3b5ea6a\",\"type\":\"Line\"},\"selection_glyph\":null,\"view\":{\"id\":\"f88956e4-1819-49ed-86fe-5a91f7615703\",\"type\":\"CDSView\"}},\"id\":\"832d0677-9b34-49be-9d1c-b25f0b5854d7\",\"type\":\"GlyphRenderer\"},{\"attributes\":{\"items\":[{\"id\":\"136cf2e7-5ce0-4c17-8432-f4ec4a22d12e\",\"type\":\"LegendItem\"},{\"id\":\"f131e337-1597-4425-98ce-af9d1c267cba\",\"type\":\"LegendItem\"}],\"label_text_font_size\":{\"value\":\"8pt\"},\"location\":\"top_center\",\"orientation\":\"horizontal\",\"plot\":{\"id\":\"383c7947-0787-4c51-af4a-ce40d5b61794\",\"subtype\":\"Figure\",\"type\":\"Plot\"}},\"id\":\"54e950b4-b8b8-4231-9792-f6707b2d52d7\",\"type\":\"Legend\"},{\"attributes\":{\"callback\":null,\"end\":0.01,\"start\":1020},\"id\":\"fbee5fc5-d791-43d9-88e6-147c38ba5293\",\"type\":\"Range1d\"},{\"attributes\":{},\"id\":\"8a43f022-e0fb-455e-a0c6-ba922ad6b9ff\",\"type\":\"BasicTickFormatter\"},{\"attributes\":{\"children\":[{\"id\":\"d47836eb-5a00-4311-8757-11e050c02608\",\"type\":\"ToolbarBox\"},{\"id\":\"e4517e7a-5f12-4b3c-ad3d-0dffbebe811f\",\"type\":\"Column\"}]},\"id\":\"af43d087-cfcf-4557-9da2-71177f0a0480\",\"type\":\"Column\"},{\"attributes\":{\"tools\":[{\"id\":\"d284cbfe-dad1-45af-a699-3985200dd1dc\",\"type\":\"PanTool\"},{\"id\":\"cc73fd30-70c7-44c7-abee-e41ed94657a9\",\"type\":\"WheelZoomTool\"},{\"id\":\"e23dce91-11b7-4234-8d66-94659107fbf5\",\"type\":\"BoxZoomTool\"},{\"id\":\"f1a1cef7-3a07-4c42-bc87-3f13730e2f34\",\"type\":\"SaveTool\"},{\"id\":\"55906a81-4740-42de-a5e0-1e5ab38c6e77\",\"type\":\"ResetTool\"},{\"id\":\"f305f00f-bc8e-469a-933d-1b3116a8a98a\",\"type\":\"HelpTool\"},{\"id\":\"e85074ab-0eca-47c7-8fad-e264d5c304b8\",\"type\":\"PanTool\"},{\"id\":\"c428b605-597a-4942-acef-02773bfea198\",\"type\":\"WheelZoomTool\"},{\"id\":\"64620ac0-f379-4370-b7b6-c95196ce03b4\",\"type\":\"BoxZoomTool\"},{\"id\":\"5e9862fb-38ec-416c-a964-7bf8f6c3d768\",\"type\":\"SaveTool\"},{\"id\":\"c225a102-8126-4a70-a43e-9e7e3c2a489f\",\"type\":\"ResetTool\"},{\"id\":\"77e553ad-6dd5-4eff-a2ab-4d10e70e69ef\",\"type\":\"HelpTool\"},{\"id\":\"be791d03-81da-4f41-beec-185adfc2d14e\",\"type\":\"PanTool\"},{\"id\":\"3d8b2b95-30b1-465f-a9d1-beb4a60e6fe3\",\"type\":\"WheelZoomTool\"},{\"id\":\"1b418b48-25a8-4ff8-88ec-a9b741b43ede\",\"type\":\"BoxZoomTool\"},{\"id\":\"6e30f559-db47-4542-8a35-23234cd85b78\",\"type\":\"SaveTool\"},{\"id\":\"18eb6b6e-7473-4f75-96b0-ca43874cb36f\",\"type\":\"ResetTool\"},{\"id\":\"a3ff5656-eafc-49fd-8d1d-819d0c84a075\",\"type\":\"HelpTool\"}]},\"id\":\"c351f2c8-698f-45e5-8272-eae47928b8fb\",\"type\":\"ProxyToolbar\"},{\"attributes\":{\"plot\":null,\"text\":\"\"},\"id\":\"8790caa0-0357-4ee5-90c1-1d00ca5e362f\",\"type\":\"Title\"},{\"attributes\":{\"toolbar\":{\"id\":\"c351f2c8-698f-45e5-8272-eae47928b8fb\",\"type\":\"ProxyToolbar\"},\"toolbar_location\":\"above\"},\"id\":\"d47836eb-5a00-4311-8757-11e050c02608\",\"type\":\"ToolbarBox\"},{\"attributes\":{},\"id\":\"58b155d5-587d-4259-b289-ce5edac6c768\",\"type\":\"Selection\"},{\"attributes\":{},\"id\":\"09819f0b-74e0-44ea-af53-93b006e9a83a\",\"type\":\"LogScale\"},{\"attributes\":{},\"id\":\"63dc44a3-4386-4d34-9c42-2e7e4daa05ff\",\"type\":\"Selection\"},{\"attributes\":{\"ticker\":null},\"id\":\"356ad5d2-3496-40cb-8429-e528c508bfdc\",\"type\":\"LogTickFormatter\"},{\"attributes\":{},\"id\":\"2ee90895-ed16-4805-b513-e05fd890b719\",\"type\":\"UnionRenderers\"},{\"attributes\":{\"plot\":null,\"text\":\"\"},\"id\":\"3eb20cdc-378a-41ec-9e14-3086abdb9666\",\"type\":\"Title\"},{\"attributes\":{\"num_minor_ticks\":10},\"id\":\"4d4b89ad-4f16-4daa-8df3-845d0219321e\",\"type\":\"LogTicker\"},{\"attributes\":{},\"id\":\"59c82ad3-e2a5-4a93-9a36-17fa748d96ac\",\"type\":\"BasicTickFormatter\"},{\"attributes\":{},\"id\":\"c63893d5-bf4b-44f8-88bb-f86be793181c\",\"type\":\"Selection\"},{\"attributes\":{},\"id\":\"6c37710a-d4a2-4100-9952-f842335f8f7c\",\"type\":\"UnionRenderers\"},{\"attributes\":{\"label\":{\"value\":\"CLIRAD (single-run)\"},\"renderers\":[{\"id\":\"c6ddc231-19f5-4475-a9f0-7ffe07fcc41d\",\"type\":\"GlyphRenderer\"}]},\"id\":\"136cf2e7-5ce0-4c17-8432-f4ec4a22d12e\",\"type\":\"LegendItem\"},{\"attributes\":{},\"id\":\"47a38aa0-abff-4e66-b1fc-1167a4693d41\",\"type\":\"UnionRenderers\"},{\"attributes\":{\"dimension\":1,\"plot\":{\"id\":\"1c8ece07-2257-44c4-9924-bf186290a2c7\",\"subtype\":\"Figure\",\"type\":\"Plot\"},\"ticker\":{\"id\":\"4d4b89ad-4f16-4daa-8df3-845d0219321e\",\"type\":\"LogTicker\"}},\"id\":\"66505e3a-1dde-434c-976c-3253498b6c05\",\"type\":\"Grid\"},{\"attributes\":{\"axis_label\":\"pressure [mb]\",\"formatter\":{\"id\":\"356ad5d2-3496-40cb-8429-e528c508bfdc\",\"type\":\"LogTickFormatter\"},\"plot\":{\"id\":\"1c8ece07-2257-44c4-9924-bf186290a2c7\",\"subtype\":\"Figure\",\"type\":\"Plot\"},\"ticker\":{\"id\":\"4d4b89ad-4f16-4daa-8df3-845d0219321e\",\"type\":\"LogTicker\"}},\"id\":\"f1aa1a7b-fe7d-4673-bbb2-2e40d9a77f06\",\"type\":\"LogAxis\"},{\"attributes\":{\"ticker\":null},\"id\":\"b01d0788-7307-40bf-b727-16183835a0a0\",\"type\":\"LogTickFormatter\"},{\"attributes\":{},\"id\":\"c96e747e-4007-4e6d-812b-d826200c8f97\",\"type\":\"Selection\"},{\"attributes\":{\"line_alpha\":0.6,\"line_color\":\"#377eb8\",\"line_dash\":[6],\"line_width\":5,\"x\":{\"field\":\"x\"},\"y\":{\"field\":\"y\"}},\"id\":\"4be3c086-f6e4-44a3-8f5e-33c6977d8d75\",\"type\":\"Line\"},{\"attributes\":{},\"id\":\"0076f475-0b88-4bfa-85a4-0f34f12263fe\",\"type\":\"Selection\"},{\"attributes\":{},\"id\":\"29f5d8af-7492-4ca2-98a8-2915d16802ef\",\"type\":\"UnionRenderers\"}],\"root_ids\":[\"af43d087-cfcf-4557-9da2-71177f0a0480\"]},\"title\":\"Bokeh Application\",\"version\":\"0.12.16\"}};\n",
       "  var render_items = [{\"docid\":\"c568df2b-3825-4b36-a855-bd5a5cfa8757\",\"elementid\":\"c024b45b-c65f-46bc-9217-cf1bec297266\",\"modelid\":\"af43d087-cfcf-4557-9da2-71177f0a0480\"}];\n",
       "  root.Bokeh.embed.embed_items_notebook(docs_json, render_items);\n",
       "\n",
       "  }\n",
       "  if (root.Bokeh !== undefined) {\n",
       "    embed_document(root);\n",
       "  } else {\n",
       "    var attempts = 0;\n",
       "    var timer = setInterval(function(root) {\n",
       "      if (root.Bokeh !== undefined) {\n",
       "        embed_document(root);\n",
       "        clearInterval(timer);\n",
       "      }\n",
       "      attempts++;\n",
       "      if (attempts > 100) {\n",
       "        console.log(\"Bokeh: ERROR: Unable to run BokehJS code because BokehJS library is missing\")\n",
       "        clearInterval(timer);\n",
       "      }\n",
       "    }, 10, root)\n",
       "  }\n",
       "})(window);"
      ],
      "application/vnd.bokehjs_exec.v0+json": ""
     },
     "metadata": {
      "application/vnd.bokehjs_exec.v0+json": {
       "id": "af43d087-cfcf-4557-9da2-71177f0a0480"
      }
     },
     "output_type": "display_data"
    },
    {
     "data": {
      "text/markdown": [
       "*FIGURE.* Cooling rates & difference."
      ],
      "text/plain": [
       "<IPython.core.display.Markdown object>"
      ]
     },
     "metadata": {},
     "output_type": "display_data"
    },
    {
     "data": {
      "text/html": [
       "<a id=\"Fluxes._saw.\"></a>"
      ],
      "text/plain": [
       "<IPython.core.display.HTML object>"
      ]
     },
     "metadata": {},
     "output_type": "display_data"
    },
    {
     "data": {
      "text/markdown": [
       "# Fluxes. saw."
      ],
      "text/plain": [
       "<IPython.core.display.Markdown object>"
      ]
     },
     "metadata": {},
     "output_type": "display_data"
    },
    {
     "data": {
      "text/html": [
       "\n",
       "<div class=\"bk-root\">\n",
       "    <div class=\"bk-plotdiv\" id=\"08b94d20-6553-44c7-92e7-f08c65602d25\"></div>\n",
       "</div>"
      ]
     },
     "metadata": {},
     "output_type": "display_data"
    },
    {
     "data": {
      "application/javascript": [
       "(function(root) {\n",
       "  function embed_document(root) {\n",
       "    \n",
       "  var docs_json = {\"f4a6a51c-76e3-4315-8c1f-d1337ea7384d\":{\"roots\":{\"references\":[{\"attributes\":{\"callback\":null,\"factors\":[\"1\",\"2\",\"3\",\"4\",\"5\",\"6\",\"7\",\"8\",\"9\",\"10\",\"11\"]},\"id\":\"a040c256-b0dc-40e0-a9fe-424dca3c8131\",\"type\":\"FactorRange\"},{\"attributes\":{\"data_source\":{\"id\":\"68cb5749-723a-4b22-a32b-0e7ba8830074\",\"type\":\"ColumnDataSource\"},\"glyph\":{\"id\":\"6361ee3f-e1bf-408d-a546-8d0f23aa54c8\",\"type\":\"VBar\"},\"hover_glyph\":null,\"muted_glyph\":null,\"nonselection_glyph\":{\"id\":\"2708790f-ef86-4832-ad17-3f006f94c62f\",\"type\":\"VBar\"},\"selection_glyph\":null,\"view\":{\"id\":\"2c216649-f408-4816-a93f-47b00b039082\",\"type\":\"CDSView\"}},\"id\":\"1f4ccde7-26c3-4918-89bc-4f37e6b54184\",\"type\":\"GlyphRenderer\"},{\"attributes\":{\"bottom_units\":\"screen\",\"fill_alpha\":{\"value\":0.5},\"fill_color\":{\"value\":\"lightgrey\"},\"left_units\":\"screen\",\"level\":\"overlay\",\"line_alpha\":{\"value\":1.0},\"line_color\":{\"value\":\"black\"},\"line_dash\":[4,4],\"line_width\":{\"value\":2},\"plot\":null,\"render_mode\":\"css\",\"right_units\":\"screen\",\"top_units\":\"screen\"},\"id\":\"13e3f0eb-47ea-418f-8eeb-a27b7a5db2bf\",\"type\":\"BoxAnnotation\"},{\"attributes\":{},\"id\":\"e0cc2055-7806-4b2e-afb7-ea5de079b6ed\",\"type\":\"ResetTool\"},{\"attributes\":{\"active_drag\":\"auto\",\"active_inspect\":\"auto\",\"active_scroll\":\"auto\",\"active_tap\":\"auto\",\"tools\":[{\"id\":\"830afaef-f7ef-4363-ac29-9b4631c4b687\",\"type\":\"PanTool\"},{\"id\":\"bad23ffe-eb03-463d-9d01-965b14f07e16\",\"type\":\"WheelZoomTool\"},{\"id\":\"dbf5ef3d-70d5-46b5-b434-ca16141fec6e\",\"type\":\"BoxZoomTool\"},{\"id\":\"b9b99e57-9a15-45f3-8069-16f8c49e6235\",\"type\":\"SaveTool\"},{\"id\":\"e0cc2055-7806-4b2e-afb7-ea5de079b6ed\",\"type\":\"ResetTool\"},{\"id\":\"588e82e8-26e5-4d81-a07d-4e0d1101f072\",\"type\":\"HelpTool\"}]},\"id\":\"35f3523e-be73-40a9-914f-9c9e61d3b31b\",\"type\":\"Toolbar\"},{\"attributes\":{\"callback\":null},\"id\":\"da4c6a80-ca0e-433f-ae36-447e95906dbb\",\"type\":\"DataRange1d\"},{\"attributes\":{\"fill_color\":{\"value\":\"#1f77b4\"},\"line_color\":{\"value\":\"#1f77b4\"},\"top\":{\"field\":\"flux\"},\"width\":{\"value\":0.9},\"x\":{\"field\":\"band\"}},\"id\":\"6361ee3f-e1bf-408d-a546-8d0f23aa54c8\",\"type\":\"VBar\"},{\"attributes\":{},\"id\":\"588e82e8-26e5-4d81-a07d-4e0d1101f072\",\"type\":\"HelpTool\"},{\"attributes\":{},\"id\":\"99d49012-e407-4aa5-9344-8d4473d00012\",\"type\":\"UnionRenderers\"},{\"attributes\":{},\"id\":\"807a1cae-737c-4b81-8f6b-1e6e885f7027\",\"type\":\"CategoricalScale\"},{\"attributes\":{\"overlay\":{\"id\":\"13e3f0eb-47ea-418f-8eeb-a27b7a5db2bf\",\"type\":\"BoxAnnotation\"}},\"id\":\"dbf5ef3d-70d5-46b5-b434-ca16141fec6e\",\"type\":\"BoxZoomTool\"},{\"attributes\":{},\"id\":\"de285793-21bc-4a8e-a28d-276caea22681\",\"type\":\"LinearScale\"},{\"attributes\":{\"dimension\":1,\"plot\":{\"id\":\"4859dd2b-a153-4898-9467-6040ec06997b\",\"subtype\":\"Figure\",\"type\":\"Plot\"},\"ticker\":{\"id\":\"a5207a4a-c876-44ba-8d79-5e971819454f\",\"type\":\"BasicTicker\"}},\"id\":\"bd020a1b-76dc-4d49-b2ef-fa30e7217032\",\"type\":\"Grid\"},{\"attributes\":{},\"id\":\"b9b99e57-9a15-45f3-8069-16f8c49e6235\",\"type\":\"SaveTool\"},{\"attributes\":{},\"id\":\"88aa9898-af06-4bd4-85ba-4f2d7c9de8b2\",\"type\":\"CategoricalTicker\"},{\"attributes\":{\"axis_label\":\"spectral band\",\"formatter\":{\"id\":\"ec53b60a-365b-4c30-b4cc-e6b61fb1999b\",\"type\":\"CategoricalTickFormatter\"},\"plot\":{\"id\":\"4859dd2b-a153-4898-9467-6040ec06997b\",\"subtype\":\"Figure\",\"type\":\"Plot\"},\"ticker\":{\"id\":\"88aa9898-af06-4bd4-85ba-4f2d7c9de8b2\",\"type\":\"CategoricalTicker\"}},\"id\":\"c90ab747-b7fd-4c5d-a37e-d473176d057f\",\"type\":\"CategoricalAxis\"},{\"attributes\":{\"plot\":{\"id\":\"4859dd2b-a153-4898-9467-6040ec06997b\",\"subtype\":\"Figure\",\"type\":\"Plot\"},\"ticker\":{\"id\":\"88aa9898-af06-4bd4-85ba-4f2d7c9de8b2\",\"type\":\"CategoricalTicker\"}},\"id\":\"676faa6f-f25b-45c1-9129-75dd09dea307\",\"type\":\"Grid\"},{\"attributes\":{},\"id\":\"830afaef-f7ef-4363-ac29-9b4631c4b687\",\"type\":\"PanTool\"},{\"attributes\":{\"callback\":null,\"data\":{\"band\":[\"1\",\"2\",\"3\",\"4\",\"5\",\"6\",\"7\",\"8\",\"9\",\"10\",\"11\"],\"flux\":{\"__ndarray__\":\"AEDdJAaBZb8A4pLjTunAvwA2IEJcueC/AAeY+Q5+tj8A3MHjNnXIP4DsyEdBprm/YNXi+EYZsD9g4mXZ1dy7PwDQGzix0ZM/AJDEy9O5oj+AEyT419l9Pw==\",\"dtype\":\"float64\",\"shape\":[11]}},\"selected\":{\"id\":\"e4c5990e-3e06-41ce-bb87-0f5d62f4cc4b\",\"type\":\"Selection\"},\"selection_policy\":{\"id\":\"99d49012-e407-4aa5-9344-8d4473d00012\",\"type\":\"UnionRenderers\"}},\"id\":\"68cb5749-723a-4b22-a32b-0e7ba8830074\",\"type\":\"ColumnDataSource\"},{\"attributes\":{\"axis_label\":\"spectral band\",\"formatter\":{\"id\":\"6602cbcd-21cc-4809-87c4-54968eded32f\",\"type\":\"CategoricalTickFormatter\"},\"plot\":{\"id\":\"ad42221f-3cac-41e9-b8c8-f73fcf332d5a\",\"subtype\":\"Figure\",\"type\":\"Plot\"},\"ticker\":{\"id\":\"a3db0b1a-f817-43ca-8989-93fda4e4f8b0\",\"type\":\"CategoricalTicker\"}},\"id\":\"225b5544-a00e-4d4f-89e7-2bb328e84933\",\"type\":\"CategoricalAxis\"},{\"attributes\":{\"below\":[{\"id\":\"c90ab747-b7fd-4c5d-a37e-d473176d057f\",\"type\":\"CategoricalAxis\"}],\"left\":[{\"id\":\"224cb3db-1c6b-4b6b-b724-53d63c7a2e29\",\"type\":\"LinearAxis\"}],\"plot_height\":300,\"plot_width\":300,\"renderers\":[{\"id\":\"c90ab747-b7fd-4c5d-a37e-d473176d057f\",\"type\":\"CategoricalAxis\"},{\"id\":\"676faa6f-f25b-45c1-9129-75dd09dea307\",\"type\":\"Grid\"},{\"id\":\"224cb3db-1c6b-4b6b-b724-53d63c7a2e29\",\"type\":\"LinearAxis\"},{\"id\":\"bd020a1b-76dc-4d49-b2ef-fa30e7217032\",\"type\":\"Grid\"},{\"id\":\"13e3f0eb-47ea-418f-8eeb-a27b7a5db2bf\",\"type\":\"BoxAnnotation\"},{\"id\":\"1f4ccde7-26c3-4918-89bc-4f37e6b54184\",\"type\":\"GlyphRenderer\"}],\"title\":{\"id\":\"d8e91105-0428-41b1-bae0-b6318990d246\",\"type\":\"Title\"},\"toolbar\":{\"id\":\"35f3523e-be73-40a9-914f-9c9e61d3b31b\",\"type\":\"Toolbar\"},\"toolbar_location\":null,\"x_range\":{\"id\":\"a040c256-b0dc-40e0-a9fe-424dca3c8131\",\"type\":\"FactorRange\"},\"x_scale\":{\"id\":\"807a1cae-737c-4b81-8f6b-1e6e885f7027\",\"type\":\"CategoricalScale\"},\"y_range\":{\"id\":\"da4c6a80-ca0e-433f-ae36-447e95906dbb\",\"type\":\"DataRange1d\"},\"y_scale\":{\"id\":\"de285793-21bc-4a8e-a28d-276caea22681\",\"type\":\"LinearScale\"}},\"id\":\"4859dd2b-a153-4898-9467-6040ec06997b\",\"subtype\":\"Figure\",\"type\":\"Plot\"},{\"attributes\":{},\"id\":\"0565e25b-0d00-4ed2-8798-e93c6cdb9add\",\"type\":\"SaveTool\"},{\"attributes\":{},\"id\":\"6602cbcd-21cc-4809-87c4-54968eded32f\",\"type\":\"CategoricalTickFormatter\"},{\"attributes\":{\"callback\":null,\"factors\":[\"1\",\"2\",\"3\",\"4\",\"5\",\"6\",\"7\",\"8\",\"9\",\"10\",\"11\"]},\"id\":\"eb1c6460-98a2-4d08-b08d-bcf52efe3a74\",\"type\":\"FactorRange\"},{\"attributes\":{\"fill_alpha\":{\"value\":0.1},\"fill_color\":{\"value\":\"#1f77b4\"},\"line_alpha\":{\"value\":0.1},\"line_color\":{\"value\":\"#1f77b4\"},\"top\":{\"field\":\"flux\"},\"width\":{\"value\":0.9},\"x\":{\"field\":\"band\"}},\"id\":\"2708790f-ef86-4832-ad17-3f006f94c62f\",\"type\":\"VBar\"},{\"attributes\":{\"axis_label\":\"flux (W m-2)\",\"formatter\":{\"id\":\"e391ff60-1ea8-477c-aaff-3a50d0e56ece\",\"type\":\"BasicTickFormatter\"},\"plot\":{\"id\":\"23e7db34-cf78-4b64-b7de-ff056490ae9f\",\"subtype\":\"Figure\",\"type\":\"Plot\"},\"ticker\":{\"id\":\"31345ec4-09f9-46d2-81a1-c8c4f4a114d5\",\"type\":\"BasicTicker\"}},\"id\":\"5ea858f2-e029-4f33-ac24-8ea7df04cbe4\",\"type\":\"LinearAxis\"},{\"attributes\":{\"active_drag\":\"auto\",\"active_inspect\":\"auto\",\"active_scroll\":\"auto\",\"active_tap\":\"auto\",\"tools\":[{\"id\":\"eeb838c7-10a6-4f55-8316-cf9758202480\",\"type\":\"PanTool\"},{\"id\":\"2299dfcb-d84c-4c07-8800-a80fb9bb7434\",\"type\":\"WheelZoomTool\"},{\"id\":\"f537dd65-9f95-4d1a-9b58-21253f8a4d7a\",\"type\":\"BoxZoomTool\"},{\"id\":\"62c5dfbc-c8e1-43c4-831f-26f5c282eb00\",\"type\":\"SaveTool\"},{\"id\":\"6666c6af-db18-45dc-82e4-bfa824d26942\",\"type\":\"ResetTool\"},{\"id\":\"03b3057f-27fb-4e16-8a0e-55657ef09618\",\"type\":\"HelpTool\"}]},\"id\":\"dc479d66-826b-4ac1-8ea5-3fb06171e323\",\"type\":\"Toolbar\"},{\"attributes\":{\"callback\":null,\"data\":{\"band\":[\"1\",\"2\",\"3\",\"4\",\"5\",\"6\",\"7\",\"8\",\"9\",\"10\",\"11\"],\"flux\":{\"__ndarray__\":\"ALOGvRaVxz8Aa0g3HVzKP6CCab2Er9w/wPnWrbwpxj8A3iY35WW4vwBJ8fEJ2bU/QL99HThnzD8AYMrAAS2NvwByMasc/4o/ADL9tzdkpb8QkqqSbYWlPw==\",\"dtype\":\"float64\",\"shape\":[11]}},\"selected\":{\"id\":\"d7b61048-e954-4692-b375-1cc76aaccfe7\",\"type\":\"Selection\"},\"selection_policy\":{\"id\":\"182d7439-4ecf-407e-916b-c6cd3a3749ff\",\"type\":\"UnionRenderers\"}},\"id\":\"a983522f-fd3b-4e13-a576-c52177eddf7f\",\"type\":\"ColumnDataSource\"},{\"attributes\":{\"callback\":null},\"id\":\"fb50b87e-03c9-47be-ab41-89986e966165\",\"type\":\"DataRange1d\"},{\"attributes\":{\"fill_color\":{\"value\":\"#1f77b4\"},\"line_color\":{\"value\":\"#1f77b4\"},\"top\":{\"field\":\"flux\"},\"width\":{\"value\":0.9},\"x\":{\"field\":\"band\"}},\"id\":\"f13c0ed0-a703-4385-8aff-a9892e06bc67\",\"type\":\"VBar\"},{\"attributes\":{\"below\":[{\"id\":\"d175789c-0ae7-4b13-ac12-5a051d6022aa\",\"type\":\"CategoricalAxis\"}],\"left\":[{\"id\":\"5ea858f2-e029-4f33-ac24-8ea7df04cbe4\",\"type\":\"LinearAxis\"}],\"plot_height\":300,\"plot_width\":300,\"renderers\":[{\"id\":\"d175789c-0ae7-4b13-ac12-5a051d6022aa\",\"type\":\"CategoricalAxis\"},{\"id\":\"92ea0d9e-fc4a-432c-ad04-ec7c2df9c0fa\",\"type\":\"Grid\"},{\"id\":\"5ea858f2-e029-4f33-ac24-8ea7df04cbe4\",\"type\":\"LinearAxis\"},{\"id\":\"4754f282-a325-4900-b227-edb89622fbb4\",\"type\":\"Grid\"},{\"id\":\"5daecb6d-e40c-4846-970e-7f67690461fe\",\"type\":\"BoxAnnotation\"},{\"id\":\"46897875-a294-465b-a996-cf8f2ed155bc\",\"type\":\"GlyphRenderer\"}],\"title\":{\"id\":\"0e5af2fb-e80e-4b00-b7ee-82824fd669ff\",\"type\":\"Title\"},\"toolbar\":{\"id\":\"dc479d66-826b-4ac1-8ea5-3fb06171e323\",\"type\":\"Toolbar\"},\"toolbar_location\":null,\"x_range\":{\"id\":\"eb1c6460-98a2-4d08-b08d-bcf52efe3a74\",\"type\":\"FactorRange\"},\"x_scale\":{\"id\":\"3b4f1e96-328b-49a1-992c-fd448c4ed55f\",\"type\":\"CategoricalScale\"},\"y_range\":{\"id\":\"fb50b87e-03c9-47be-ab41-89986e966165\",\"type\":\"DataRange1d\"},\"y_scale\":{\"id\":\"789f3add-4ea8-4bd6-b1de-901e5f92cd80\",\"type\":\"LinearScale\"}},\"id\":\"23e7db34-cf78-4b64-b7de-ff056490ae9f\",\"subtype\":\"Figure\",\"type\":\"Plot\"},{\"attributes\":{\"active_drag\":\"auto\",\"active_inspect\":\"auto\",\"active_scroll\":\"auto\",\"active_tap\":\"auto\",\"tools\":[{\"id\":\"a72851c3-9cda-40ab-91c8-9dedb3e12983\",\"type\":\"PanTool\"},{\"id\":\"f96bb254-b258-439c-ba12-f9e860691aa0\",\"type\":\"WheelZoomTool\"},{\"id\":\"9299b76e-52f6-42b6-af42-35e3d4ab6510\",\"type\":\"BoxZoomTool\"},{\"id\":\"0565e25b-0d00-4ed2-8798-e93c6cdb9add\",\"type\":\"SaveTool\"},{\"id\":\"a8454c84-3209-4204-9210-7652c6238430\",\"type\":\"ResetTool\"},{\"id\":\"3a5f780e-261c-44d1-b4b2-b633d0deea9e\",\"type\":\"HelpTool\"}]},\"id\":\"798d13fe-f454-48b3-a6ea-e28eb84684e4\",\"type\":\"Toolbar\"},{\"attributes\":{},\"id\":\"3a5f780e-261c-44d1-b4b2-b633d0deea9e\",\"type\":\"HelpTool\"},{\"attributes\":{},\"id\":\"3b4f1e96-328b-49a1-992c-fd448c4ed55f\",\"type\":\"CategoricalScale\"},{\"attributes\":{\"below\":[{\"id\":\"225b5544-a00e-4d4f-89e7-2bb328e84933\",\"type\":\"CategoricalAxis\"}],\"left\":[{\"id\":\"9df73495-6a7f-4f9c-baf2-ee290472fccd\",\"type\":\"LinearAxis\"}],\"plot_height\":300,\"plot_width\":300,\"renderers\":[{\"id\":\"225b5544-a00e-4d4f-89e7-2bb328e84933\",\"type\":\"CategoricalAxis\"},{\"id\":\"f69ba203-72c0-4118-a184-a2ef2dff0dfb\",\"type\":\"Grid\"},{\"id\":\"9df73495-6a7f-4f9c-baf2-ee290472fccd\",\"type\":\"LinearAxis\"},{\"id\":\"9f1fa261-496a-4f1d-807d-cb218937609a\",\"type\":\"Grid\"},{\"id\":\"a1431cc6-a155-4be0-9a89-53670e92a3d8\",\"type\":\"BoxAnnotation\"},{\"id\":\"7b548186-12c9-4b80-ae4d-520159930580\",\"type\":\"GlyphRenderer\"}],\"title\":{\"id\":\"ddc2d50b-f7e8-45e0-a10d-df4ca6293307\",\"type\":\"Title\"},\"toolbar\":{\"id\":\"798d13fe-f454-48b3-a6ea-e28eb84684e4\",\"type\":\"Toolbar\"},\"toolbar_location\":null,\"x_range\":{\"id\":\"efdd5009-1092-4593-bafe-98ef0be90c6b\",\"type\":\"FactorRange\"},\"x_scale\":{\"id\":\"a9282a3b-4aba-442d-918b-15b886f4334c\",\"type\":\"CategoricalScale\"},\"y_range\":{\"id\":\"cbe121b9-e53f-41a2-ba27-60a4ca4621f5\",\"type\":\"DataRange1d\"},\"y_scale\":{\"id\":\"c2250c26-d65d-4f7f-8d15-4e3d064ec883\",\"type\":\"LinearScale\"}},\"id\":\"ad42221f-3cac-41e9-b8c8-f73fcf332d5a\",\"subtype\":\"Figure\",\"type\":\"Plot\"},{\"attributes\":{\"plot\":null,\"text\":\"Atmosphere heating. CLIRAD (single-run) - CRD.\"},\"id\":\"0e5af2fb-e80e-4b00-b7ee-82824fd669ff\",\"type\":\"Title\"},{\"attributes\":{},\"id\":\"789f3add-4ea8-4bd6-b1de-901e5f92cd80\",\"type\":\"LinearScale\"},{\"attributes\":{},\"id\":\"7816d719-0e44-491c-a0a9-01ff5099a049\",\"type\":\"BasicTicker\"},{\"attributes\":{},\"id\":\"7754c996-e083-4710-9fbe-06a36e123b74\",\"type\":\"CategoricalTicker\"},{\"attributes\":{\"fill_color\":{\"value\":\"#1f77b4\"},\"line_color\":{\"value\":\"#1f77b4\"},\"top\":{\"field\":\"flux\"},\"width\":{\"value\":0.9},\"x\":{\"field\":\"band\"}},\"id\":\"e00a8674-75a1-4a10-bc88-9fcf1097d941\",\"type\":\"VBar\"},{\"attributes\":{\"callback\":null,\"factors\":[\"1\",\"2\",\"3\",\"4\",\"5\",\"6\",\"7\",\"8\",\"9\",\"10\",\"11\"]},\"id\":\"efdd5009-1092-4593-bafe-98ef0be90c6b\",\"type\":\"FactorRange\"},{\"attributes\":{\"plot\":{\"id\":\"23e7db34-cf78-4b64-b7de-ff056490ae9f\",\"subtype\":\"Figure\",\"type\":\"Plot\"},\"ticker\":{\"id\":\"7754c996-e083-4710-9fbe-06a36e123b74\",\"type\":\"CategoricalTicker\"}},\"id\":\"92ea0d9e-fc4a-432c-ad04-ec7c2df9c0fa\",\"type\":\"Grid\"},{\"attributes\":{\"plot\":null,\"text\":\"SFC flux. CLIRAD (single-run) - CRD.\"},\"id\":\"d8e91105-0428-41b1-bae0-b6318990d246\",\"type\":\"Title\"},{\"attributes\":{\"axis_label\":\"spectral band\",\"formatter\":{\"id\":\"c4525167-ee70-4922-906e-9ebac11e09c4\",\"type\":\"CategoricalTickFormatter\"},\"plot\":{\"id\":\"23e7db34-cf78-4b64-b7de-ff056490ae9f\",\"subtype\":\"Figure\",\"type\":\"Plot\"},\"ticker\":{\"id\":\"7754c996-e083-4710-9fbe-06a36e123b74\",\"type\":\"CategoricalTicker\"}},\"id\":\"d175789c-0ae7-4b13-ac12-5a051d6022aa\",\"type\":\"CategoricalAxis\"},{\"attributes\":{},\"id\":\"c4525167-ee70-4922-906e-9ebac11e09c4\",\"type\":\"CategoricalTickFormatter\"},{\"attributes\":{},\"id\":\"31345ec4-09f9-46d2-81a1-c8c4f4a114d5\",\"type\":\"BasicTicker\"},{\"attributes\":{\"plot\":{\"id\":\"ad42221f-3cac-41e9-b8c8-f73fcf332d5a\",\"subtype\":\"Figure\",\"type\":\"Plot\"},\"ticker\":{\"id\":\"a3db0b1a-f817-43ca-8989-93fda4e4f8b0\",\"type\":\"CategoricalTicker\"}},\"id\":\"f69ba203-72c0-4118-a184-a2ef2dff0dfb\",\"type\":\"Grid\"},{\"attributes\":{\"dimension\":1,\"plot\":{\"id\":\"23e7db34-cf78-4b64-b7de-ff056490ae9f\",\"subtype\":\"Figure\",\"type\":\"Plot\"},\"ticker\":{\"id\":\"31345ec4-09f9-46d2-81a1-c8c4f4a114d5\",\"type\":\"BasicTicker\"}},\"id\":\"4754f282-a325-4900-b227-edb89622fbb4\",\"type\":\"Grid\"},{\"attributes\":{\"bottom_units\":\"screen\",\"fill_alpha\":{\"value\":0.5},\"fill_color\":{\"value\":\"lightgrey\"},\"left_units\":\"screen\",\"level\":\"overlay\",\"line_alpha\":{\"value\":1.0},\"line_color\":{\"value\":\"black\"},\"line_dash\":[4,4],\"line_width\":{\"value\":2},\"plot\":null,\"render_mode\":\"css\",\"right_units\":\"screen\",\"top_units\":\"screen\"},\"id\":\"5daecb6d-e40c-4846-970e-7f67690461fe\",\"type\":\"BoxAnnotation\"},{\"attributes\":{\"fill_alpha\":{\"value\":0.1},\"fill_color\":{\"value\":\"#1f77b4\"},\"line_alpha\":{\"value\":0.1},\"line_color\":{\"value\":\"#1f77b4\"},\"top\":{\"field\":\"flux\"},\"width\":{\"value\":0.9},\"x\":{\"field\":\"band\"}},\"id\":\"dfa35f25-897d-467f-8d1b-e10a56fd6fdb\",\"type\":\"VBar\"},{\"attributes\":{\"children\":[{\"id\":\"ad42221f-3cac-41e9-b8c8-f73fcf332d5a\",\"subtype\":\"Figure\",\"type\":\"Plot\"},{\"id\":\"4859dd2b-a153-4898-9467-6040ec06997b\",\"subtype\":\"Figure\",\"type\":\"Plot\"},{\"id\":\"23e7db34-cf78-4b64-b7de-ff056490ae9f\",\"subtype\":\"Figure\",\"type\":\"Plot\"}]},\"id\":\"cd5d65d5-8eca-4631-b943-d99966864a3e\",\"type\":\"Row\"},{\"attributes\":{},\"id\":\"182d7439-4ecf-407e-916b-c6cd3a3749ff\",\"type\":\"UnionRenderers\"},{\"attributes\":{\"overlay\":{\"id\":\"5daecb6d-e40c-4846-970e-7f67690461fe\",\"type\":\"BoxAnnotation\"}},\"id\":\"f537dd65-9f95-4d1a-9b58-21253f8a4d7a\",\"type\":\"BoxZoomTool\"},{\"attributes\":{\"axis_label\":\"flux (W m-2)\",\"formatter\":{\"id\":\"9f5f440d-669e-4835-8cbb-ff642f8f4a87\",\"type\":\"BasicTickFormatter\"},\"plot\":{\"id\":\"ad42221f-3cac-41e9-b8c8-f73fcf332d5a\",\"subtype\":\"Figure\",\"type\":\"Plot\"},\"ticker\":{\"id\":\"7816d719-0e44-491c-a0a9-01ff5099a049\",\"type\":\"BasicTicker\"}},\"id\":\"9df73495-6a7f-4f9c-baf2-ee290472fccd\",\"type\":\"LinearAxis\"},{\"attributes\":{},\"id\":\"a5207a4a-c876-44ba-8d79-5e971819454f\",\"type\":\"BasicTicker\"},{\"attributes\":{},\"id\":\"eeb838c7-10a6-4f55-8316-cf9758202480\",\"type\":\"PanTool\"},{\"attributes\":{\"data_source\":{\"id\":\"a983522f-fd3b-4e13-a576-c52177eddf7f\",\"type\":\"ColumnDataSource\"},\"glyph\":{\"id\":\"e00a8674-75a1-4a10-bc88-9fcf1097d941\",\"type\":\"VBar\"},\"hover_glyph\":null,\"muted_glyph\":null,\"nonselection_glyph\":{\"id\":\"dfa35f25-897d-467f-8d1b-e10a56fd6fdb\",\"type\":\"VBar\"},\"selection_glyph\":null,\"view\":{\"id\":\"f36abc69-9173-4562-b7d4-c9e95f0317ed\",\"type\":\"CDSView\"}},\"id\":\"46897875-a294-465b-a996-cf8f2ed155bc\",\"type\":\"GlyphRenderer\"},{\"attributes\":{},\"id\":\"2299dfcb-d84c-4c07-8800-a80fb9bb7434\",\"type\":\"WheelZoomTool\"},{\"attributes\":{},\"id\":\"62c5dfbc-c8e1-43c4-831f-26f5c282eb00\",\"type\":\"SaveTool\"},{\"attributes\":{},\"id\":\"6666c6af-db18-45dc-82e4-bfa824d26942\",\"type\":\"ResetTool\"},{\"attributes\":{\"source\":{\"id\":\"9dd7a8e2-2fa0-4bcb-a39e-bf0cfbdfe09d\",\"type\":\"ColumnDataSource\"}},\"id\":\"59946f4d-5247-4c13-9cfd-e268b55c6547\",\"type\":\"CDSView\"},{\"attributes\":{},\"id\":\"03b3057f-27fb-4e16-8a0e-55657ef09618\",\"type\":\"HelpTool\"},{\"attributes\":{},\"id\":\"b4d8185b-e8d2-45a6-81e1-22da36a61fef\",\"type\":\"BasicTickFormatter\"},{\"attributes\":{\"children\":[{\"id\":\"cd5d65d5-8eca-4631-b943-d99966864a3e\",\"type\":\"Row\"}]},\"id\":\"e5dceefa-dc5a-4cbb-85b8-6591f5515f3d\",\"type\":\"Column\"},{\"attributes\":{\"axis_label\":\"flux (W m-2)\",\"formatter\":{\"id\":\"b4d8185b-e8d2-45a6-81e1-22da36a61fef\",\"type\":\"BasicTickFormatter\"},\"plot\":{\"id\":\"4859dd2b-a153-4898-9467-6040ec06997b\",\"subtype\":\"Figure\",\"type\":\"Plot\"},\"ticker\":{\"id\":\"a5207a4a-c876-44ba-8d79-5e971819454f\",\"type\":\"BasicTicker\"}},\"id\":\"224cb3db-1c6b-4b6b-b724-53d63c7a2e29\",\"type\":\"LinearAxis\"},{\"attributes\":{},\"id\":\"a3db0b1a-f817-43ca-8989-93fda4e4f8b0\",\"type\":\"CategoricalTicker\"},{\"attributes\":{},\"id\":\"9f5f440d-669e-4835-8cbb-ff642f8f4a87\",\"type\":\"BasicTickFormatter\"},{\"attributes\":{\"source\":{\"id\":\"a983522f-fd3b-4e13-a576-c52177eddf7f\",\"type\":\"ColumnDataSource\"}},\"id\":\"f36abc69-9173-4562-b7d4-c9e95f0317ed\",\"type\":\"CDSView\"},{\"attributes\":{},\"id\":\"d7b61048-e954-4692-b375-1cc76aaccfe7\",\"type\":\"Selection\"},{\"attributes\":{},\"id\":\"f96bb254-b258-439c-ba12-f9e860691aa0\",\"type\":\"WheelZoomTool\"},{\"attributes\":{},\"id\":\"a9282a3b-4aba-442d-918b-15b886f4334c\",\"type\":\"CategoricalScale\"},{\"attributes\":{},\"id\":\"e4c5990e-3e06-41ce-bb87-0f5d62f4cc4b\",\"type\":\"Selection\"},{\"attributes\":{\"data_source\":{\"id\":\"9dd7a8e2-2fa0-4bcb-a39e-bf0cfbdfe09d\",\"type\":\"ColumnDataSource\"},\"glyph\":{\"id\":\"f13c0ed0-a703-4385-8aff-a9892e06bc67\",\"type\":\"VBar\"},\"hover_glyph\":null,\"muted_glyph\":null,\"nonselection_glyph\":{\"id\":\"3d6c2ab6-c897-42f1-ae75-55b1521e6375\",\"type\":\"VBar\"},\"selection_glyph\":null,\"view\":{\"id\":\"59946f4d-5247-4c13-9cfd-e268b55c6547\",\"type\":\"CDSView\"}},\"id\":\"7b548186-12c9-4b80-ae4d-520159930580\",\"type\":\"GlyphRenderer\"},{\"attributes\":{},\"id\":\"76d6563f-16aa-43ac-99d4-3e498570969b\",\"type\":\"Selection\"},{\"attributes\":{},\"id\":\"2b54425c-07f4-4592-a137-f3e7b1d5c807\",\"type\":\"UnionRenderers\"},{\"attributes\":{},\"id\":\"a72851c3-9cda-40ab-91c8-9dedb3e12983\",\"type\":\"PanTool\"},{\"attributes\":{},\"id\":\"ec53b60a-365b-4c30-b4cc-e6b61fb1999b\",\"type\":\"CategoricalTickFormatter\"},{\"attributes\":{\"overlay\":{\"id\":\"a1431cc6-a155-4be0-9a89-53670e92a3d8\",\"type\":\"BoxAnnotation\"}},\"id\":\"9299b76e-52f6-42b6-af42-35e3d4ab6510\",\"type\":\"BoxZoomTool\"},{\"attributes\":{\"children\":[{\"id\":\"8a51986d-7576-451e-a6e1-2f68728b173a\",\"type\":\"ToolbarBox\"},{\"id\":\"e5dceefa-dc5a-4cbb-85b8-6591f5515f3d\",\"type\":\"Column\"}]},\"id\":\"060a899d-ca35-42ac-8250-1d2abc632388\",\"type\":\"Column\"},{\"attributes\":{\"dimension\":1,\"plot\":{\"id\":\"ad42221f-3cac-41e9-b8c8-f73fcf332d5a\",\"subtype\":\"Figure\",\"type\":\"Plot\"},\"ticker\":{\"id\":\"7816d719-0e44-491c-a0a9-01ff5099a049\",\"type\":\"BasicTicker\"}},\"id\":\"9f1fa261-496a-4f1d-807d-cb218937609a\",\"type\":\"Grid\"},{\"attributes\":{},\"id\":\"e391ff60-1ea8-477c-aaff-3a50d0e56ece\",\"type\":\"BasicTickFormatter\"},{\"attributes\":{\"plot\":null,\"text\":\"TOA flux. CLIRAD (single-run) - CRD.\"},\"id\":\"ddc2d50b-f7e8-45e0-a10d-df4ca6293307\",\"type\":\"Title\"},{\"attributes\":{\"toolbar\":{\"id\":\"cad3c108-89f9-4211-addb-63873b49b12f\",\"type\":\"ProxyToolbar\"},\"toolbar_location\":\"above\"},\"id\":\"8a51986d-7576-451e-a6e1-2f68728b173a\",\"type\":\"ToolbarBox\"},{\"attributes\":{\"source\":{\"id\":\"68cb5749-723a-4b22-a32b-0e7ba8830074\",\"type\":\"ColumnDataSource\"}},\"id\":\"2c216649-f408-4816-a93f-47b00b039082\",\"type\":\"CDSView\"},{\"attributes\":{\"tools\":[{\"id\":\"a72851c3-9cda-40ab-91c8-9dedb3e12983\",\"type\":\"PanTool\"},{\"id\":\"f96bb254-b258-439c-ba12-f9e860691aa0\",\"type\":\"WheelZoomTool\"},{\"id\":\"9299b76e-52f6-42b6-af42-35e3d4ab6510\",\"type\":\"BoxZoomTool\"},{\"id\":\"0565e25b-0d00-4ed2-8798-e93c6cdb9add\",\"type\":\"SaveTool\"},{\"id\":\"a8454c84-3209-4204-9210-7652c6238430\",\"type\":\"ResetTool\"},{\"id\":\"3a5f780e-261c-44d1-b4b2-b633d0deea9e\",\"type\":\"HelpTool\"},{\"id\":\"830afaef-f7ef-4363-ac29-9b4631c4b687\",\"type\":\"PanTool\"},{\"id\":\"bad23ffe-eb03-463d-9d01-965b14f07e16\",\"type\":\"WheelZoomTool\"},{\"id\":\"dbf5ef3d-70d5-46b5-b434-ca16141fec6e\",\"type\":\"BoxZoomTool\"},{\"id\":\"b9b99e57-9a15-45f3-8069-16f8c49e6235\",\"type\":\"SaveTool\"},{\"id\":\"e0cc2055-7806-4b2e-afb7-ea5de079b6ed\",\"type\":\"ResetTool\"},{\"id\":\"588e82e8-26e5-4d81-a07d-4e0d1101f072\",\"type\":\"HelpTool\"},{\"id\":\"eeb838c7-10a6-4f55-8316-cf9758202480\",\"type\":\"PanTool\"},{\"id\":\"2299dfcb-d84c-4c07-8800-a80fb9bb7434\",\"type\":\"WheelZoomTool\"},{\"id\":\"f537dd65-9f95-4d1a-9b58-21253f8a4d7a\",\"type\":\"BoxZoomTool\"},{\"id\":\"62c5dfbc-c8e1-43c4-831f-26f5c282eb00\",\"type\":\"SaveTool\"},{\"id\":\"6666c6af-db18-45dc-82e4-bfa824d26942\",\"type\":\"ResetTool\"},{\"id\":\"03b3057f-27fb-4e16-8a0e-55657ef09618\",\"type\":\"HelpTool\"}]},\"id\":\"cad3c108-89f9-4211-addb-63873b49b12f\",\"type\":\"ProxyToolbar\"},{\"attributes\":{},\"id\":\"a8454c84-3209-4204-9210-7652c6238430\",\"type\":\"ResetTool\"},{\"attributes\":{},\"id\":\"c2250c26-d65d-4f7f-8d15-4e3d064ec883\",\"type\":\"LinearScale\"},{\"attributes\":{\"callback\":null},\"id\":\"cbe121b9-e53f-41a2-ba27-60a4ca4621f5\",\"type\":\"DataRange1d\"},{\"attributes\":{\"bottom_units\":\"screen\",\"fill_alpha\":{\"value\":0.5},\"fill_color\":{\"value\":\"lightgrey\"},\"left_units\":\"screen\",\"level\":\"overlay\",\"line_alpha\":{\"value\":1.0},\"line_color\":{\"value\":\"black\"},\"line_dash\":[4,4],\"line_width\":{\"value\":2},\"plot\":null,\"render_mode\":\"css\",\"right_units\":\"screen\",\"top_units\":\"screen\"},\"id\":\"a1431cc6-a155-4be0-9a89-53670e92a3d8\",\"type\":\"BoxAnnotation\"},{\"attributes\":{\"callback\":null,\"data\":{\"band\":[\"1\",\"2\",\"3\",\"4\",\"5\",\"6\",\"7\",\"8\",\"9\",\"10\",\"11\"],\"flux\":{\"__ndarray__\":\"ABU3bjE/xz8AqPxreeWyPwBwdmuZDLO/IP5+MVuy0D8AgbVq14S4PwDQ+uk/a46/YGthFto50j8AukxNgje4P4DMdRppqaA/ADSpRlRNdb+gzZ4VYj+pPw==\",\"dtype\":\"float64\",\"shape\":[11]}},\"selected\":{\"id\":\"76d6563f-16aa-43ac-99d4-3e498570969b\",\"type\":\"Selection\"},\"selection_policy\":{\"id\":\"2b54425c-07f4-4592-a137-f3e7b1d5c807\",\"type\":\"UnionRenderers\"}},\"id\":\"9dd7a8e2-2fa0-4bcb-a39e-bf0cfbdfe09d\",\"type\":\"ColumnDataSource\"},{\"attributes\":{\"fill_alpha\":{\"value\":0.1},\"fill_color\":{\"value\":\"#1f77b4\"},\"line_alpha\":{\"value\":0.1},\"line_color\":{\"value\":\"#1f77b4\"},\"top\":{\"field\":\"flux\"},\"width\":{\"value\":0.9},\"x\":{\"field\":\"band\"}},\"id\":\"3d6c2ab6-c897-42f1-ae75-55b1521e6375\",\"type\":\"VBar\"},{\"attributes\":{},\"id\":\"bad23ffe-eb03-463d-9d01-965b14f07e16\",\"type\":\"WheelZoomTool\"}],\"root_ids\":[\"060a899d-ca35-42ac-8250-1d2abc632388\"]},\"title\":\"Bokeh Application\",\"version\":\"0.12.16\"}};\n",
       "  var render_items = [{\"docid\":\"f4a6a51c-76e3-4315-8c1f-d1337ea7384d\",\"elementid\":\"08b94d20-6553-44c7-92e7-f08c65602d25\",\"modelid\":\"060a899d-ca35-42ac-8250-1d2abc632388\"}];\n",
       "  root.Bokeh.embed.embed_items_notebook(docs_json, render_items);\n",
       "\n",
       "  }\n",
       "  if (root.Bokeh !== undefined) {\n",
       "    embed_document(root);\n",
       "  } else {\n",
       "    var attempts = 0;\n",
       "    var timer = setInterval(function(root) {\n",
       "      if (root.Bokeh !== undefined) {\n",
       "        embed_document(root);\n",
       "        clearInterval(timer);\n",
       "      }\n",
       "      attempts++;\n",
       "      if (attempts > 100) {\n",
       "        console.log(\"Bokeh: ERROR: Unable to run BokehJS code because BokehJS library is missing\")\n",
       "        clearInterval(timer);\n",
       "      }\n",
       "    }, 10, root)\n",
       "  }\n",
       "})(window);"
      ],
      "application/vnd.bokehjs_exec.v0+json": ""
     },
     "metadata": {
      "application/vnd.bokehjs_exec.v0+json": {
       "id": "060a899d-ca35-42ac-8250-1d2abc632388"
      }
     },
     "output_type": "display_data"
    },
    {
     "data": {
      "text/markdown": [
       "*FIGURE.* Difference between CLIRAD and CRD in TOA, SFC and net atmosphere flux, in each spectral band."
      ],
      "text/plain": [
       "<IPython.core.display.Markdown object>"
      ]
     },
     "metadata": {},
     "output_type": "display_data"
    },
    {
     "data": {
      "text/html": [
       "<div>\n",
       "<style scoped>\n",
       "    .dataframe tbody tr th:only-of-type {\n",
       "        vertical-align: middle;\n",
       "    }\n",
       "\n",
       "    .dataframe tbody tr th {\n",
       "        vertical-align: top;\n",
       "    }\n",
       "\n",
       "    .dataframe thead th {\n",
       "        text-align: right;\n",
       "    }\n",
       "</style>\n",
       "<table border=\"1\" class=\"dataframe\">\n",
       "  <thead>\n",
       "    <tr style=\"text-align: right;\">\n",
       "      <th></th>\n",
       "      <th>OLR flux</th>\n",
       "      <th>SFC flux</th>\n",
       "      <th>ATM heating</th>\n",
       "    </tr>\n",
       "    <tr>\n",
       "      <th>Sum over bands</th>\n",
       "      <th></th>\n",
       "      <th></th>\n",
       "      <th></th>\n",
       "    </tr>\n",
       "  </thead>\n",
       "  <tbody>\n",
       "    <tr>\n",
       "      <th>CLIRAD (single-run) - CRD</th>\n",
       "      <td>0.98</td>\n",
       "      <td>-0.24</td>\n",
       "      <td>1.22</td>\n",
       "    </tr>\n",
       "    <tr>\n",
       "      <th>CRD</th>\n",
       "      <td>-201.06</td>\n",
       "      <td>166.03</td>\n",
       "      <td>-119.67</td>\n",
       "    </tr>\n",
       "  </tbody>\n",
       "</table>\n",
       "</div>"
      ],
      "text/plain": [
       "                           OLR flux  SFC flux  ATM heating\n",
       "Sum over bands                                            \n",
       "CLIRAD (single-run) - CRD      0.98     -0.24         1.22\n",
       "CRD                         -201.06    166.03      -119.67"
      ]
     },
     "metadata": {},
     "output_type": "display_data"
    },
    {
     "data": {
      "text/markdown": [
       "*TABLE.* Difference between CLIRAD and CRD in TOA, SFC and net atmosphere flux, over all spectral bands. CRD's TOA, SFC and net atmosphere flux, over all spectral bands."
      ],
      "text/plain": [
       "<IPython.core.display.Markdown object>"
      ]
     },
     "metadata": {},
     "output_type": "display_data"
    },
    {
     "data": {
      "text/html": [
       "<a id=\"Cooling_rates._trp.\"></a>"
      ],
      "text/plain": [
       "<IPython.core.display.HTML object>"
      ]
     },
     "metadata": {},
     "output_type": "display_data"
    },
    {
     "data": {
      "text/markdown": [
       "# Cooling rates. trp."
      ],
      "text/plain": [
       "<IPython.core.display.Markdown object>"
      ]
     },
     "metadata": {},
     "output_type": "display_data"
    },
    {
     "data": {
      "text/html": [
       "\n",
       "<div class=\"bk-root\">\n",
       "    <div class=\"bk-plotdiv\" id=\"b95b2a0f-9a33-48c4-bed9-3f1fe40689a9\"></div>\n",
       "</div>"
      ]
     },
     "metadata": {},
     "output_type": "display_data"
    },
    {
     "data": {
      "application/javascript": [
       "(function(root) {\n",
       "  function embed_document(root) {\n",
       "    \n",
       "  var docs_json = {\"f0677651-9f11-4a84-ae8a-467f6244fdf2\":{\"roots\":{\"references\":[{\"attributes\":{},\"id\":\"adaf44ba-5a48-4bdc-a202-cf018d64ba92\",\"type\":\"SaveTool\"},{\"attributes\":{\"data_source\":{\"id\":\"150c5cb5-d3d7-4103-bb9a-e42aa4ed9fc2\",\"type\":\"ColumnDataSource\"},\"glyph\":{\"id\":\"80dc85e7-75de-47a5-8a85-d2a3f507cba7\",\"type\":\"Line\"},\"hover_glyph\":null,\"muted_glyph\":null,\"nonselection_glyph\":{\"id\":\"b20ee32f-9c0d-4442-b9fc-24a628693ff6\",\"type\":\"Line\"},\"selection_glyph\":null,\"view\":{\"id\":\"b8c526ba-01b1-4c7d-bce0-f1a2d2322e9d\",\"type\":\"CDSView\"}},\"id\":\"143d9aa5-7f97-4b2d-8204-56be5ee8131b\",\"type\":\"GlyphRenderer\"},{\"attributes\":{\"items\":[{\"id\":\"0c62103e-8e8c-4203-b2bd-884a05ef6749\",\"type\":\"LegendItem\"}],\"label_text_font_size\":{\"value\":\"8pt\"},\"location\":\"top_center\",\"orientation\":\"horizontal\",\"plot\":{\"id\":\"0c43c2e1-9fa0-45ff-9fd3-f27a87cbea4b\",\"subtype\":\"Figure\",\"type\":\"Plot\"}},\"id\":\"337ed6a0-97d9-4ac4-b1d3-0166f26ca72b\",\"type\":\"Legend\"},{\"attributes\":{},\"id\":\"82bf2a24-17a3-4c86-ae6c-77e2e2e418bc\",\"type\":\"UnionRenderers\"},{\"attributes\":{\"above\":[{\"id\":\"337ed6a0-97d9-4ac4-b1d3-0166f26ca72b\",\"type\":\"Legend\"}],\"below\":[{\"id\":\"1a13b5e2-88b8-43c7-9158-90ec22dcfd63\",\"type\":\"LinearAxis\"}],\"left\":[{\"id\":\"d3692013-769f-46bf-a323-bd7a7c7ca7c7\",\"type\":\"LogAxis\"}],\"plot_width\":300,\"renderers\":[{\"id\":\"1a13b5e2-88b8-43c7-9158-90ec22dcfd63\",\"type\":\"LinearAxis\"},{\"id\":\"c4968cdb-55b5-4c0f-8fdb-d8f6ff410ef1\",\"type\":\"Grid\"},{\"id\":\"d3692013-769f-46bf-a323-bd7a7c7ca7c7\",\"type\":\"LogAxis\"},{\"id\":\"418b98b6-57cf-4c6b-be30-8fe90e14068a\",\"type\":\"Grid\"},{\"id\":\"561fa6de-7648-43d3-8448-12959dbaa941\",\"type\":\"BoxAnnotation\"},{\"id\":\"e76826bd-252b-42d3-b9ff-25d50e4c60c0\",\"type\":\"GlyphRenderer\"},{\"id\":\"51655867-e623-4286-88ed-80b27b2711d6\",\"type\":\"GlyphRenderer\"},{\"id\":\"337ed6a0-97d9-4ac4-b1d3-0166f26ca72b\",\"type\":\"Legend\"}],\"title\":{\"id\":\"a9b9098a-7f8c-4111-9e69-f715ba655df5\",\"type\":\"Title\"},\"toolbar\":{\"id\":\"348b21bc-a4c4-49c7-81af-ae052c43373c\",\"type\":\"Toolbar\"},\"toolbar_location\":null,\"x_range\":{\"id\":\"0932bcef-40ab-41c7-abad-7cdc9dedc38b\",\"type\":\"Range1d\"},\"x_scale\":{\"id\":\"b96f0c63-36dc-4724-b18f-01e5f91ca6c3\",\"type\":\"LinearScale\"},\"y_range\":{\"id\":\"c47e21ef-6361-4848-b8a3-ce31b9ca1ad0\",\"type\":\"Range1d\"},\"y_scale\":{\"id\":\"7f3b87aa-c704-413c-9b63-f96cbdcc4d67\",\"type\":\"LogScale\"}},\"id\":\"0c43c2e1-9fa0-45ff-9fd3-f27a87cbea4b\",\"subtype\":\"Figure\",\"type\":\"Plot\"},{\"attributes\":{\"items\":[{\"id\":\"34acf7c6-cd5b-40b2-b4fc-e287e8e822e5\",\"type\":\"LegendItem\"},{\"id\":\"b0d2cf74-1215-4822-be64-4640f35f6693\",\"type\":\"LegendItem\"}],\"label_text_font_size\":{\"value\":\"8pt\"},\"location\":\"top_center\",\"orientation\":\"horizontal\",\"plot\":{\"id\":\"ca778cc7-4d1b-4dc1-a4eb-5f46145ae815\",\"subtype\":\"Figure\",\"type\":\"Plot\"}},\"id\":\"65d0072f-0929-4cac-9fe2-d272b2e579e5\",\"type\":\"Legend\"},{\"attributes\":{},\"id\":\"9bb90363-8290-4cd4-8a29-43b67e154c70\",\"type\":\"HelpTool\"},{\"attributes\":{\"active_drag\":\"auto\",\"active_inspect\":\"auto\",\"active_scroll\":\"auto\",\"active_tap\":\"auto\",\"tools\":[{\"id\":\"011fa2c7-32d2-49ea-83b0-eb05f9712611\",\"type\":\"PanTool\"},{\"id\":\"574c7f38-176a-4c24-aebe-51ca30822d94\",\"type\":\"WheelZoomTool\"},{\"id\":\"2c45b774-a235-4d30-a41b-b1db9e1ad26a\",\"type\":\"BoxZoomTool\"},{\"id\":\"adaf44ba-5a48-4bdc-a202-cf018d64ba92\",\"type\":\"SaveTool\"},{\"id\":\"200ae36b-7925-4a59-8caa-0689f2c3e34d\",\"type\":\"ResetTool\"},{\"id\":\"9bb90363-8290-4cd4-8a29-43b67e154c70\",\"type\":\"HelpTool\"}]},\"id\":\"3b6ee53c-d985-430b-9eed-ffeed7ecdf79\",\"type\":\"Toolbar\"},{\"attributes\":{\"active_drag\":\"auto\",\"active_inspect\":\"auto\",\"active_scroll\":\"auto\",\"active_tap\":\"auto\",\"tools\":[{\"id\":\"98099ead-8e8f-4d87-8164-145d4940d841\",\"type\":\"PanTool\"},{\"id\":\"0dd5f986-b983-4e5e-81aa-249b37fb9bfd\",\"type\":\"WheelZoomTool\"},{\"id\":\"720e51d1-05e4-4138-a06e-cf4618973de8\",\"type\":\"BoxZoomTool\"},{\"id\":\"d35b4414-da12-4cea-ae49-3bcb93b07da5\",\"type\":\"SaveTool\"},{\"id\":\"99035098-213a-490c-b6e7-19a49055a8fb\",\"type\":\"ResetTool\"},{\"id\":\"0052d166-83e8-4388-9713-942726e6cc5d\",\"type\":\"HelpTool\"}]},\"id\":\"348b21bc-a4c4-49c7-81af-ae052c43373c\",\"type\":\"Toolbar\"},{\"attributes\":{\"overlay\":{\"id\":\"6f820d3d-ea83-4d4e-b047-bc51260e28be\",\"type\":\"BoxAnnotation\"}},\"id\":\"dfeadf53-6a69-4289-b017-4e050b5563dc\",\"type\":\"BoxZoomTool\"},{\"attributes\":{\"callback\":null,\"end\":0.01,\"start\":1020},\"id\":\"d7b6ffcc-46ff-47c0-9ff2-8479a5652cf3\",\"type\":\"Range1d\"},{\"attributes\":{\"above\":[{\"id\":\"65d0072f-0929-4cac-9fe2-d272b2e579e5\",\"type\":\"Legend\"}],\"below\":[{\"id\":\"557e055d-9a20-40fd-b477-846dacea8f8d\",\"type\":\"LinearAxis\"}],\"left\":[{\"id\":\"3b036a1f-a55e-4c8b-83f5-8756b28b9a18\",\"type\":\"LogAxis\"}],\"plot_width\":300,\"renderers\":[{\"id\":\"557e055d-9a20-40fd-b477-846dacea8f8d\",\"type\":\"LinearAxis\"},{\"id\":\"a98b21b0-7390-457c-bc16-ec1ea433d421\",\"type\":\"Grid\"},{\"id\":\"3b036a1f-a55e-4c8b-83f5-8756b28b9a18\",\"type\":\"LogAxis\"},{\"id\":\"46eff2f4-ff71-4254-878e-7ac3a18a0a4c\",\"type\":\"Grid\"},{\"id\":\"fa43f0e3-72c4-475d-8ff8-8771076ba881\",\"type\":\"BoxAnnotation\"},{\"id\":\"845be4db-c4ad-4591-83e6-006924020efc\",\"type\":\"GlyphRenderer\"},{\"id\":\"f7cfbc93-ea97-4d13-9c58-d692f576e02c\",\"type\":\"GlyphRenderer\"},{\"id\":\"0494155f-477e-4e74-8cdd-9b62768b5d05\",\"type\":\"GlyphRenderer\"},{\"id\":\"65d0072f-0929-4cac-9fe2-d272b2e579e5\",\"type\":\"Legend\"}],\"title\":{\"id\":\"c9dc2c08-248a-4822-bcf7-b42e2ec3660a\",\"type\":\"Title\"},\"toolbar\":{\"id\":\"3b6ee53c-d985-430b-9eed-ffeed7ecdf79\",\"type\":\"Toolbar\"},\"toolbar_location\":null,\"x_range\":{\"id\":\"16b8a073-bf2c-494d-8b04-694e5342717f\",\"type\":\"Range1d\"},\"x_scale\":{\"id\":\"05469ad5-52de-4d22-87ba-b61346a3855f\",\"type\":\"LinearScale\"},\"y_range\":{\"id\":\"d7b6ffcc-46ff-47c0-9ff2-8479a5652cf3\",\"type\":\"Range1d\"},\"y_scale\":{\"id\":\"30ba414f-4d0b-44e5-b324-36069af47eba\",\"type\":\"LogScale\"}},\"id\":\"ca778cc7-4d1b-4dc1-a4eb-5f46145ae815\",\"subtype\":\"Figure\",\"type\":\"Plot\"},{\"attributes\":{},\"id\":\"8ab63b72-443d-46ee-b88d-149a4c631e0f\",\"type\":\"UnionRenderers\"},{\"attributes\":{},\"id\":\"574c7f38-176a-4c24-aebe-51ca30822d94\",\"type\":\"WheelZoomTool\"},{\"attributes\":{\"source\":{\"id\":\"150c5cb5-d3d7-4103-bb9a-e42aa4ed9fc2\",\"type\":\"ColumnDataSource\"}},\"id\":\"b8c526ba-01b1-4c7d-bce0-f1a2d2322e9d\",\"type\":\"CDSView\"},{\"attributes\":{\"overlay\":{\"id\":\"fa43f0e3-72c4-475d-8ff8-8771076ba881\",\"type\":\"BoxAnnotation\"}},\"id\":\"2c45b774-a235-4d30-a41b-b1db9e1ad26a\",\"type\":\"BoxZoomTool\"},{\"attributes\":{\"label\":{\"value\":\"CRD\"},\"renderers\":[{\"id\":\"dc3513be-b2f2-4608-a0ca-570ce6f80234\",\"type\":\"GlyphRenderer\"},{\"id\":\"143d9aa5-7f97-4b2d-8204-56be5ee8131b\",\"type\":\"GlyphRenderer\"}]},\"id\":\"4d5a9ae4-f5ec-4194-972a-45394b4d42ab\",\"type\":\"LegendItem\"},{\"attributes\":{\"bottom_units\":\"screen\",\"fill_alpha\":{\"value\":0.5},\"fill_color\":{\"value\":\"lightgrey\"},\"left_units\":\"screen\",\"level\":\"overlay\",\"line_alpha\":{\"value\":1.0},\"line_color\":{\"value\":\"black\"},\"line_dash\":[4,4],\"line_width\":{\"value\":2},\"plot\":null,\"render_mode\":\"css\",\"right_units\":\"screen\",\"top_units\":\"screen\"},\"id\":\"fa43f0e3-72c4-475d-8ff8-8771076ba881\",\"type\":\"BoxAnnotation\"},{\"attributes\":{\"callback\":null,\"end\":0.01,\"start\":1020},\"id\":\"c47e21ef-6361-4848-b8a3-ce31b9ca1ad0\",\"type\":\"Range1d\"},{\"attributes\":{\"callback\":null,\"end\":0.01,\"start\":1020},\"id\":\"bdf027b1-72d1-421c-9c02-e54cba2db7b4\",\"type\":\"Range1d\"},{\"attributes\":{\"label\":{\"value\":\"CLIRAD (single-run)\"},\"renderers\":[{\"id\":\"2d187cc8-ae9b-4404-a830-3c6d000b7c03\",\"type\":\"GlyphRenderer\"}]},\"id\":\"d8154ccd-8295-4773-ae84-e56d3e9586ae\",\"type\":\"LegendItem\"},{\"attributes\":{\"source\":{\"id\":\"4c47590d-59be-4156-b32b-fcdeca4f9ff5\",\"type\":\"ColumnDataSource\"}},\"id\":\"87b0e228-dde4-4b61-8685-4771eca10569\",\"type\":\"CDSView\"},{\"attributes\":{},\"id\":\"200ae36b-7925-4a59-8caa-0689f2c3e34d\",\"type\":\"ResetTool\"},{\"attributes\":{\"callback\":null,\"data\":{\"x\":{\"__ndarray__\":\"/Ennn5VNRUD8VF4j4aNCQAx6wyHciUFAJKJk6L7wP0Cwn3V5qdk7QBfQP9aX/DZA6BVhwYHJMUBRosAa4t4pQBYLCHPyNCJACZjuRFOLGkAflatQrDEVQGRQBDzu/hFAqNzNk2SHDUD3XGj9LyQDQGkqgBUJ0f4/wzvuywGhBUAcka1/NzoMQLhDBUwUmRBAWeaLEsfbE0A502l0/k0ZQAsC8yXXDCFAh4aZeKMEJ0DLJYLukxwoQH0CZ2iyhyRA3jZH8OYpIUBRSKf6lVgcQC1wwMrEVxhAGihYaJYnFECK0gHakrcPQBui4E9pJQlAwwh3pAcgBUA5cSgyKVwAQHbfwFRSd/Q/DJ1okwCo5T/3H3u4QmrQPw9rHCYOacK/Fb9fIvbx3r//dO13AHvYv1bMskm023y/3FCc16S4xD8fExtoMmTYP0xjqWXTmOw/yeERqemq9j+MBck59Mj9Pw5tM5WG5QBAadGyIxJ/AUA3geKxakICQOwRFBFiSAJA0nhvfQUTAUDHucYQRH4AQHo4QPIHTQBA3oiv9ZMtAEBvuLhCcQMAQPcgz6hcnP8/3FCNY1hA/z8IzBVukQn/P+1LajQ2Ef8/GsUA9sJG/z88F9snbWn/P+sANXNQa/8/GHkDE1JT/z+N6IAfMwL/P3co/oDr4P0/FKNqmPrR/D9ffC1G5jf6PyTO22TCo/c/ruJnvGH19T+NwH04H4b0PwaWrcPCy/M/LSkfDMGc8z86tLC1I7bzP9kneDo7GPQ/7EkhJVgK9T8joAnnL8H2P0wHuA54qgFA\",\"dtype\":\"float64\",\"shape\":[75]},\"y\":{\"__ndarray__\":\"S/O/Q+51ND/Sv8nbtpRIP2vylNV0PVE/aTum7souWD/At0SJ8fVgPw3Iuahxymc/MSNhhJWvcD/bTfBN02d3P2zb5nxnaoA/CD5h5MAGhz8NmeH1TyaQP+zrCsc9p5Y/LbKd76fGnz/bLW5ISEmmPww9YvTcQq8/JV2OstnstT8Er5Y7M8G+P0c+r3jqkcU/5h99k6ZBzj88bCIzFzjVP4enV8oyxN0//yH99nXg5D8qOpLLf0jtP5kqGJXUifQ/c9cS8kHP/D+/DpwzojQEQIEmwoanVwxA4lgXt9HgE0BSSZ2AJuIbQAMJih9jjiNA5q4l5INuK0AwTKYKRj0zQNv5fmq8/DpAaCJseHrtQkB/+zpwzoxKQM3MzMzMeFJAZmZmZmZqWEAAAAAAAFxeQM3MzMzMJmJAmpmZmZkfZUBmZmZmZhhoQDMzMzMzEWtAAAAAAAAKbkBmZmZmZoFwQM3MzMzM/XFAMzMzMzN6c0CamZmZmfZ0QAAAAAAAc3ZAZmZmZmbvd0DNzMzMzGt5QDMzMzMz6HpAmpmZmZlkfEAAAAAAAOF9QGZmZmZmXX9AZmZmZuZsgECamZmZGSuBQM3MzMxM6YFAAAAAAICngkAzMzMzs2WDQGZmZmbmI4RAmpmZmRnihEDNzMzMTKCFQAAAAACAXoZAMzMzM7Mch0BmZmZm5tqHQJqZmZkZmYhAzczMzExXiUAAAAAAgBWKQDMzMzOz04pAZmZmZuaRi0CamZmZGVCMQM3MzMxMDo1AAAAAAIDMjUAzMzMzs4qOQGZmZmbmSI9A\",\"dtype\":\"float64\",\"shape\":[75]}},\"selected\":{\"id\":\"06573091-00dc-4155-80e4-551d0075c293\",\"type\":\"Selection\"},\"selection_policy\":{\"id\":\"b052b473-8989-4f6f-a99c-3655dd7f2044\",\"type\":\"UnionRenderers\"}},\"id\":\"bc5c5cba-3719-44da-8a51-531c1615a34c\",\"type\":\"ColumnDataSource\"},{\"attributes\":{\"line_alpha\":0.8,\"line_color\":\"#984ea3\",\"line_width\":1.5,\"x\":{\"field\":\"x\"},\"y\":{\"field\":\"y\"}},\"id\":\"510bea97-c43b-4c52-bd82-675d3c60f237\",\"type\":\"Line\"},{\"attributes\":{},\"id\":\"8f34c90d-145f-49dd-afe6-327183fb50a5\",\"type\":\"Selection\"},{\"attributes\":{\"callback\":null,\"end\":12.208641498854199,\"start\":-0.6091831027142},\"id\":\"16b8a073-bf2c-494d-8b04-694e5342717f\",\"type\":\"Range1d\"},{\"attributes\":{},\"id\":\"e24756f5-cbc3-4795-b9ce-0f85db4b43a4\",\"type\":\"UnionRenderers\"},{\"attributes\":{},\"id\":\"b1743a7f-9b41-4caf-9d0a-4ed9c9ed509e\",\"type\":\"WheelZoomTool\"},{\"attributes\":{},\"id\":\"011fa2c7-32d2-49ea-83b0-eb05f9712611\",\"type\":\"PanTool\"},{\"attributes\":{},\"id\":\"87362100-6384-483e-876b-ba8648d65657\",\"type\":\"Selection\"},{\"attributes\":{\"line_alpha\":0.1,\"line_color\":\"#1f77b4\",\"line_width\":1.5,\"x\":{\"field\":\"x\"},\"y\":{\"field\":\"y\"}},\"id\":\"9ed58b5c-f01c-4849-890b-edd7dbd681f8\",\"type\":\"Line\"},{\"attributes\":{\"dimension\":1,\"plot\":{\"id\":\"ca778cc7-4d1b-4dc1-a4eb-5f46145ae815\",\"subtype\":\"Figure\",\"type\":\"Plot\"},\"ticker\":{\"id\":\"85848b38-9bc0-4bb4-a872-c596c3b6f8b4\",\"type\":\"LogTicker\"}},\"id\":\"46eff2f4-ff71-4254-878e-7ac3a18a0a4c\",\"type\":\"Grid\"},{\"attributes\":{\"label\":{\"value\":\"CRD\"},\"renderers\":[{\"id\":\"f7cfbc93-ea97-4d13-9c58-d692f576e02c\",\"type\":\"GlyphRenderer\"},{\"id\":\"0494155f-477e-4e74-8cdd-9b62768b5d05\",\"type\":\"GlyphRenderer\"}]},\"id\":\"b0d2cf74-1215-4822-be64-4640f35f6693\",\"type\":\"LegendItem\"},{\"attributes\":{\"items\":[{\"id\":\"d8154ccd-8295-4773-ae84-e56d3e9586ae\",\"type\":\"LegendItem\"},{\"id\":\"4d5a9ae4-f5ec-4194-972a-45394b4d42ab\",\"type\":\"LegendItem\"}],\"label_text_font_size\":{\"value\":\"8pt\"},\"location\":\"top_center\",\"orientation\":\"horizontal\",\"plot\":{\"id\":\"c0482d79-431f-4283-ac35-af32888120b2\",\"subtype\":\"Figure\",\"type\":\"Plot\"}},\"id\":\"2132349e-1d7f-4de0-b737-3e6ac751ef60\",\"type\":\"Legend\"},{\"attributes\":{\"source\":{\"id\":\"1d8155e4-8fa8-48a1-8070-20dce53c2026\",\"type\":\"ColumnDataSource\"}},\"id\":\"722a9221-6b31-43f1-958c-ac9afbb35e90\",\"type\":\"CDSView\"},{\"attributes\":{\"fill_alpha\":{\"value\":0.7},\"fill_color\":{\"value\":\"#4daf4a\"},\"line_alpha\":{\"value\":0.7},\"line_color\":{\"value\":\"#4daf4a\"},\"x\":{\"field\":\"x\"},\"y\":{\"field\":\"y\"}},\"id\":\"39b4a9b9-9e31-4b0b-aa3e-96c06f90027a\",\"type\":\"Circle\"},{\"attributes\":{\"data_source\":{\"id\":\"e52534b7-16db-4267-aedd-e640127e43ed\",\"type\":\"ColumnDataSource\"},\"glyph\":{\"id\":\"a778bcd6-61e3-4205-a448-5fc5effa6538\",\"type\":\"Circle\"},\"hover_glyph\":null,\"muted_glyph\":null,\"nonselection_glyph\":{\"id\":\"40e3bd8d-3b53-4b26-b8b3-42943436e3c1\",\"type\":\"Circle\"},\"selection_glyph\":null,\"view\":{\"id\":\"ad6071aa-33bd-44b7-bbe9-e3868a99e4dc\",\"type\":\"CDSView\"}},\"id\":\"dc3513be-b2f2-4608-a0ca-570ce6f80234\",\"type\":\"GlyphRenderer\"},{\"attributes\":{\"line_color\":\"#4daf4a\",\"line_width\":1.5,\"x\":{\"field\":\"x\"},\"y\":{\"field\":\"y\"}},\"id\":\"dd92a1b7-df27-45af-9b3e-33bca01e94fa\",\"type\":\"Line\"},{\"attributes\":{},\"id\":\"17f21f0f-f61d-448b-903b-e72b9e6bc42d\",\"type\":\"HelpTool\"},{\"attributes\":{\"data_source\":{\"id\":\"1d8155e4-8fa8-48a1-8070-20dce53c2026\",\"type\":\"ColumnDataSource\"},\"glyph\":{\"id\":\"ace5c09b-f2cb-43d3-a900-2db4ce72668e\",\"type\":\"Line\"},\"hover_glyph\":null,\"muted_glyph\":null,\"nonselection_glyph\":{\"id\":\"59cef0fe-630e-4d33-b6d4-59d5a8b52472\",\"type\":\"Line\"},\"selection_glyph\":null,\"view\":{\"id\":\"722a9221-6b31-43f1-958c-ac9afbb35e90\",\"type\":\"CDSView\"}},\"id\":\"2d187cc8-ae9b-4404-a830-3c6d000b7c03\",\"type\":\"GlyphRenderer\"},{\"attributes\":{\"source\":{\"id\":\"1ebbc2ec-9963-4d6c-a6a3-a154aca41651\",\"type\":\"ColumnDataSource\"}},\"id\":\"e5ae4416-9e11-4182-b3cf-3fbfee96aa7c\",\"type\":\"CDSView\"},{\"attributes\":{\"fill_alpha\":{\"value\":0.1},\"fill_color\":{\"value\":\"#1f77b4\"},\"line_alpha\":{\"value\":0.1},\"line_color\":{\"value\":\"#1f77b4\"},\"x\":{\"field\":\"x\"},\"y\":{\"field\":\"y\"}},\"id\":\"0dce2d2b-ff89-4d55-81b2-cbe82d090379\",\"type\":\"Circle\"},{\"attributes\":{\"overlay\":{\"id\":\"561fa6de-7648-43d3-8448-12959dbaa941\",\"type\":\"BoxAnnotation\"}},\"id\":\"720e51d1-05e4-4138-a06e-cf4618973de8\",\"type\":\"BoxZoomTool\"},{\"attributes\":{\"line_alpha\":0.1,\"line_color\":\"#1f77b4\",\"line_width\":1.5,\"x\":{\"field\":\"x\"},\"y\":{\"field\":\"y\"}},\"id\":\"74be629d-1b8f-43c5-8030-48aef6bb53d2\",\"type\":\"Line\"},{\"attributes\":{\"callback\":null,\"data\":{\"x\":{\"__ndarray__\":\"R/KIaN7AVEClCeJMyPNGQOvRhpxr30JAptxzhxx4PkA7SssMElA4QK6Bp3CyUDNAsVXpjES9LkBFhUV0+5coQMHYwqbbySNA6f09nM3nH0CaSd/3eYoZQDmgiAOW8BNAPYqARh3eDEBkm4vCgvr+P9D+5tWhQfY/P8DwKRnSAkBq38kb17ILQDT7IWuSsxFAUr2Rjm0FFkAinq3s9XgbQGCHwtYcqSFAG64kT303J0C7dRDneyooQD9JYrbK8yRA9S3bneHhIUAIymSuUMMcQIkHLe6VEBdAAau3cITREkA6CiNvkQIPQJU39ki7IQlAaAvwok1UA0BXLQiS4+L7P0xzDpJ2hPI/NNuPGMbJ5z91mUVYxqfSPxqwUPSxZca/G11peifD3L8QzNj5t2jTvwzOozTL360/SPJ4VI1VzD9KJ0nXEIncP8yDdlvHt+4/Et49nYLW9z++2teD4Jn+P+568eH/bwFALf5D9lmAAkCiZAicVOkCQPPT4jNKxwJAOjp3wTzBAUBSQsKNGisBQG4OmjqJwQBAJ3sZoHFuAEA5Ar0Sdi0AQGy4rw5+9f8/7W4nSrC3/z8mPr8zj4T/P4UYRHCQS/8/embVKYcF/z+5YXG+LLP+P/qb8BVUgf4/KvafTtyO/j/avAK1Ppv+PwJV9VVm2P0/JFtYlU/n/D9sN+q2fiX6Pw44e41PNPc/Opt+Z/wN9T+x3vcSW1vzP9ofvWQJlvI/8sciQQBW8j80sfkQa17yPzg5qng2r/I/Oh14WJBh8z+VZjnpctj0P6CcrSuCqQBA\",\"dtype\":\"float64\",\"shape\":[75]},\"y\":{\"__ndarray__\":\"GhExyth1ND/Sv8nbtpRIP2vylNV0PVE/aTum7souWD/At0SJ8fVgPw3Iuahxymc/MSNhhJWvcD/bTfBN02d3P2zb5nxnaoA/CD5h5MAGhz8NmeH1TyaQP+zrCsc9p5Y/LbKd76fGnz/bLW5ISEmmPww9YvTcQq8/JV2OstnstT8Er5Y7M8G+P0c+r3jqkcU/5h99k6ZBzj88bCIzFzjVP4enV8oyxN0//yH99nXg5D8qOpLLf0jtP5kqGJXUifQ/c9cS8kHP/D+/DpwzojQEQIEmwoanVwxA4lgXt9HgE0BSSZ2AJuIbQAMJih9jjiNA5q4l5INuK0AwTKYKRj0zQNv5fmq8/DpAaCJseHrtQkB/+zpwzoxKQM3MzMzMeFJAZmZmZmZqWEAAAAAAAFxeQM3MzMzMJmJAmpmZmZkfZUBmZmZmZhhoQDMzMzMzEWtAAAAAAAAKbkBmZmZmZoFwQM3MzMzM/XFAMzMzMzN6c0CamZmZmfZ0QAAAAAAAc3ZAZmZmZmbvd0DNzMzMzGt5QDMzMzMz6HpAmpmZmZlkfEAAAAAAAOF9QGZmZmZmXX9AZmZmZuZsgECamZmZGSuBQM3MzMxM6YFAAAAAAICngkAzMzMzs2WDQGZmZmbmI4RAmpmZmRnihEDNzMzMTKCFQAAAAACAXoZAMzMzM7Mch0BmZmZm5tqHQJqZmZkZmYhAzczMzExXiUAAAAAAgBWKQDMzMzOz04pAZmZmZuaRi0CamZmZGVCMQM3MzMxMDo1AAAAAAIDMjUAzMzMzs4qOQGZmZmbmSI9A\",\"dtype\":\"float64\",\"shape\":[75]}},\"selected\":{\"id\":\"909d1eaa-6c20-481e-8bf2-728a8947e0a6\",\"type\":\"Selection\"},\"selection_policy\":{\"id\":\"dac7dba7-2498-4ef7-8cd5-a8df76044795\",\"type\":\"UnionRenderers\"}},\"id\":\"e52534b7-16db-4267-aedd-e640127e43ed\",\"type\":\"ColumnDataSource\"},{\"attributes\":{},\"id\":\"0052d166-83e8-4388-9713-942726e6cc5d\",\"type\":\"HelpTool\"},{\"attributes\":{\"dimension\":1,\"plot\":{\"id\":\"0c43c2e1-9fa0-45ff-9fd3-f27a87cbea4b\",\"subtype\":\"Figure\",\"type\":\"Plot\"},\"ticker\":{\"id\":\"9e5a839d-d950-4935-b1fc-745cc3ec6d10\",\"type\":\"LogTicker\"}},\"id\":\"418b98b6-57cf-4c6b-be30-8fe90e14068a\",\"type\":\"Grid\"},{\"attributes\":{\"callback\":null,\"data\":{\"x\":{\"__ndarray__\":\"R/KIaN7AVEClCeJMyPNGQOvRhpxr30JAptxzhxx4PkA7SssMElA4QK6Bp3CyUDNAsVXpjES9LkBFhUV0+5coQMHYwqbbySNA6f09nM3nH0CaSd/3eYoZQDmgiAOW8BNAPYqARh3eDEBkm4vCgvr+P9D+5tWhQfY/P8DwKRnSAkBq38kb17ILQDT7IWuSsxFAUr2Rjm0FFkAinq3s9XgbQGCHwtYcqSFAG64kT303J0C7dRDneyooQD9JYrbK8yRA9S3bneHhIUAIymSuUMMcQIkHLe6VEBdAAau3cITREkA6CiNvkQIPQJU39ki7IQlAaAvwok1UA0BXLQiS4+L7P0xzDpJ2hPI/NNuPGMbJ5z91mUVYxqfSPxqwUPSxZca/G11peifD3L8QzNj5t2jTvwzOozTL360/SPJ4VI1VzD9KJ0nXEIncP8yDdlvHt+4/Et49nYLW9z++2teD4Jn+P+568eH/bwFALf5D9lmAAkCiZAicVOkCQPPT4jNKxwJAOjp3wTzBAUBSQsKNGisBQG4OmjqJwQBAJ3sZoHFuAEA5Ar0Sdi0AQGy4rw5+9f8/7W4nSrC3/z8mPr8zj4T/P4UYRHCQS/8/embVKYcF/z+5YXG+LLP+P/qb8BVUgf4/KvafTtyO/j/avAK1Ppv+PwJV9VVm2P0/JFtYlU/n/D9sN+q2fiX6Pw44e41PNPc/Opt+Z/wN9T+x3vcSW1vzP9ofvWQJlvI/8sciQQBW8j80sfkQa17yPzg5qng2r/I/Oh14WJBh8z+VZjnpctj0P6CcrSuCqQBA\",\"dtype\":\"float64\",\"shape\":[75]},\"y\":{\"__ndarray__\":\"GhExyth1ND/Sv8nbtpRIP2vylNV0PVE/aTum7souWD/At0SJ8fVgPw3Iuahxymc/MSNhhJWvcD/bTfBN02d3P2zb5nxnaoA/CD5h5MAGhz8NmeH1TyaQP+zrCsc9p5Y/LbKd76fGnz/bLW5ISEmmPww9YvTcQq8/JV2OstnstT8Er5Y7M8G+P0c+r3jqkcU/5h99k6ZBzj88bCIzFzjVP4enV8oyxN0//yH99nXg5D8qOpLLf0jtP5kqGJXUifQ/c9cS8kHP/D+/DpwzojQEQIEmwoanVwxA4lgXt9HgE0BSSZ2AJuIbQAMJih9jjiNA5q4l5INuK0AwTKYKRj0zQNv5fmq8/DpAaCJseHrtQkB/+zpwzoxKQM3MzMzMeFJAZmZmZmZqWEAAAAAAAFxeQM3MzMzMJmJAmpmZmZkfZUBmZmZmZhhoQDMzMzMzEWtAAAAAAAAKbkBmZmZmZoFwQM3MzMzM/XFAMzMzMzN6c0CamZmZmfZ0QAAAAAAAc3ZAZmZmZmbvd0DNzMzMzGt5QDMzMzMz6HpAmpmZmZlkfEAAAAAAAOF9QGZmZmZmXX9AZmZmZuZsgECamZmZGSuBQM3MzMxM6YFAAAAAAICngkAzMzMzs2WDQGZmZmbmI4RAmpmZmRnihEDNzMzMTKCFQAAAAACAXoZAMzMzM7Mch0BmZmZm5tqHQJqZmZkZmYhAzczMzExXiUAAAAAAgBWKQDMzMzOz04pAZmZmZuaRi0CamZmZGVCMQM3MzMxMDo1AAAAAAIDMjUAzMzMzs4qOQGZmZmbmSI9A\",\"dtype\":\"float64\",\"shape\":[75]}},\"selected\":{\"id\":\"87362100-6384-483e-876b-ba8648d65657\",\"type\":\"Selection\"},\"selection_policy\":{\"id\":\"82bf2a24-17a3-4c86-ae6c-77e2e2e418bc\",\"type\":\"UnionRenderers\"}},\"id\":\"1ebbc2ec-9963-4d6c-a6a3-a154aca41651\",\"type\":\"ColumnDataSource\"},{\"attributes\":{\"line_alpha\":0.1,\"line_color\":\"#1f77b4\",\"line_dash\":[6],\"line_width\":5,\"x\":{\"field\":\"x\"},\"y\":{\"field\":\"y\"}},\"id\":\"5f941017-5522-4781-a15e-8d109f0b02a4\",\"type\":\"Line\"},{\"attributes\":{\"num_minor_ticks\":10},\"id\":\"9e5a839d-d950-4935-b1fc-745cc3ec6d10\",\"type\":\"LogTicker\"},{\"attributes\":{},\"id\":\"7f3b87aa-c704-413c-9b63-f96cbdcc4d67\",\"type\":\"LogScale\"},{\"attributes\":{\"source\":{\"id\":\"a5ae600a-873b-4208-8cb9-a0ee8ad5862f\",\"type\":\"ColumnDataSource\"}},\"id\":\"f1e99478-7741-4214-a15c-155ab3064625\",\"type\":\"CDSView\"},{\"attributes\":{\"bottom_units\":\"screen\",\"fill_alpha\":{\"value\":0.5},\"fill_color\":{\"value\":\"lightgrey\"},\"left_units\":\"screen\",\"level\":\"overlay\",\"line_alpha\":{\"value\":1.0},\"line_color\":{\"value\":\"black\"},\"line_dash\":[4,4],\"line_width\":{\"value\":2},\"plot\":null,\"render_mode\":\"css\",\"right_units\":\"screen\",\"top_units\":\"screen\"},\"id\":\"561fa6de-7648-43d3-8448-12959dbaa941\",\"type\":\"BoxAnnotation\"},{\"attributes\":{\"axis_label\":\"pressure [mb]\",\"formatter\":{\"id\":\"59366f25-f4f8-4ae1-a8b3-ce869c1132bb\",\"type\":\"LogTickFormatter\"},\"plot\":{\"id\":\"0c43c2e1-9fa0-45ff-9fd3-f27a87cbea4b\",\"subtype\":\"Figure\",\"type\":\"Plot\"},\"ticker\":{\"id\":\"9e5a839d-d950-4935-b1fc-745cc3ec6d10\",\"type\":\"LogTicker\"}},\"id\":\"d3692013-769f-46bf-a323-bd7a7c7ca7c7\",\"type\":\"LogAxis\"},{\"attributes\":{},\"id\":\"99035098-213a-490c-b6e7-19a49055a8fb\",\"type\":\"ResetTool\"},{\"attributes\":{\"data_source\":{\"id\":\"1ebbc2ec-9963-4d6c-a6a3-a154aca41651\",\"type\":\"ColumnDataSource\"},\"glyph\":{\"id\":\"39b4a9b9-9e31-4b0b-aa3e-96c06f90027a\",\"type\":\"Circle\"},\"hover_glyph\":null,\"muted_glyph\":null,\"nonselection_glyph\":{\"id\":\"0dce2d2b-ff89-4d55-81b2-cbe82d090379\",\"type\":\"Circle\"},\"selection_glyph\":null,\"view\":{\"id\":\"e5ae4416-9e11-4182-b3cf-3fbfee96aa7c\",\"type\":\"CDSView\"}},\"id\":\"f7cfbc93-ea97-4d13-9c58-d692f576e02c\",\"type\":\"GlyphRenderer\"},{\"attributes\":{\"callback\":null,\"end\":0.5537637849402082,\"start\":-1.3590636542774073},\"id\":\"0932bcef-40ab-41c7-abad-7cdc9dedc38b\",\"type\":\"Range1d\"},{\"attributes\":{\"callback\":null,\"data\":{\"x\":{\"__ndarray__\":\"R/KIaN7AVEClCeJMyPNGQOvRhpxr30JAptxzhxx4PkA7SssMElA4QK6Bp3CyUDNAsVXpjES9LkBFhUV0+5coQMHYwqbbySNA6f09nM3nH0CaSd/3eYoZQDmgiAOW8BNAPYqARh3eDEBkm4vCgvr+P9D+5tWhQfY/P8DwKRnSAkBq38kb17ILQDT7IWuSsxFAUr2Rjm0FFkAinq3s9XgbQGCHwtYcqSFAG64kT303J0C7dRDneyooQD9JYrbK8yRA9S3bneHhIUAIymSuUMMcQIkHLe6VEBdAAau3cITREkA6CiNvkQIPQJU39ki7IQlAaAvwok1UA0BXLQiS4+L7P0xzDpJ2hPI/NNuPGMbJ5z91mUVYxqfSPxqwUPSxZca/G11peifD3L8QzNj5t2jTvwzOozTL360/SPJ4VI1VzD9KJ0nXEIncP8yDdlvHt+4/Et49nYLW9z++2teD4Jn+P+568eH/bwFALf5D9lmAAkCiZAicVOkCQPPT4jNKxwJAOjp3wTzBAUBSQsKNGisBQG4OmjqJwQBAJ3sZoHFuAEA5Ar0Sdi0AQGy4rw5+9f8/7W4nSrC3/z8mPr8zj4T/P4UYRHCQS/8/embVKYcF/z+5YXG+LLP+P/qb8BVUgf4/KvafTtyO/j/avAK1Ppv+PwJV9VVm2P0/JFtYlU/n/D9sN+q2fiX6Pw44e41PNPc/Opt+Z/wN9T+x3vcSW1vzP9ofvWQJlvI/8sciQQBW8j80sfkQa17yPzg5qng2r/I/Oh14WJBh8z+VZjnpctj0P6CcrSuCqQBA\",\"dtype\":\"float64\",\"shape\":[75]},\"y\":{\"__ndarray__\":\"GhExyth1ND/Sv8nbtpRIP2vylNV0PVE/aTum7souWD/At0SJ8fVgPw3Iuahxymc/MSNhhJWvcD/bTfBN02d3P2zb5nxnaoA/CD5h5MAGhz8NmeH1TyaQP+zrCsc9p5Y/LbKd76fGnz/bLW5ISEmmPww9YvTcQq8/JV2OstnstT8Er5Y7M8G+P0c+r3jqkcU/5h99k6ZBzj88bCIzFzjVP4enV8oyxN0//yH99nXg5D8qOpLLf0jtP5kqGJXUifQ/c9cS8kHP/D+/DpwzojQEQIEmwoanVwxA4lgXt9HgE0BSSZ2AJuIbQAMJih9jjiNA5q4l5INuK0AwTKYKRj0zQNv5fmq8/DpAaCJseHrtQkB/+zpwzoxKQM3MzMzMeFJAZmZmZmZqWEAAAAAAAFxeQM3MzMzMJmJAmpmZmZkfZUBmZmZmZhhoQDMzMzMzEWtAAAAAAAAKbkBmZmZmZoFwQM3MzMzM/XFAMzMzMzN6c0CamZmZmfZ0QAAAAAAAc3ZAZmZmZmbvd0DNzMzMzGt5QDMzMzMz6HpAmpmZmZlkfEAAAAAAAOF9QGZmZmZmXX9AZmZmZuZsgECamZmZGSuBQM3MzMxM6YFAAAAAAICngkAzMzMzs2WDQGZmZmbmI4RAmpmZmRnihEDNzMzMTKCFQAAAAACAXoZAMzMzM7Mch0BmZmZm5tqHQJqZmZkZmYhAzczMzExXiUAAAAAAgBWKQDMzMzOz04pAZmZmZuaRi0CamZmZGVCMQM3MzMxMDo1AAAAAAIDMjUAzMzMzs4qOQGZmZmbmSI9A\",\"dtype\":\"float64\",\"shape\":[75]}},\"selected\":{\"id\":\"8f34c90d-145f-49dd-afe6-327183fb50a5\",\"type\":\"Selection\"},\"selection_policy\":{\"id\":\"8ab63b72-443d-46ee-b88d-149a4c631e0f\",\"type\":\"UnionRenderers\"}},\"id\":\"4c47590d-59be-4156-b32b-fcdeca4f9ff5\",\"type\":\"ColumnDataSource\"},{\"attributes\":{},\"id\":\"b96f0c63-36dc-4724-b18f-01e5f91ca6c3\",\"type\":\"LinearScale\"},{\"attributes\":{\"data_source\":{\"id\":\"a5ae600a-873b-4208-8cb9-a0ee8ad5862f\",\"type\":\"ColumnDataSource\"},\"glyph\":{\"id\":\"510bea97-c43b-4c52-bd82-675d3c60f237\",\"type\":\"Line\"},\"hover_glyph\":null,\"muted_glyph\":null,\"nonselection_glyph\":{\"id\":\"9ed58b5c-f01c-4849-890b-edd7dbd681f8\",\"type\":\"Line\"},\"selection_glyph\":null,\"view\":{\"id\":\"f1e99478-7741-4214-a15c-155ab3064625\",\"type\":\"CDSView\"}},\"id\":\"51655867-e623-4286-88ed-80b27b2711d6\",\"type\":\"GlyphRenderer\"},{\"attributes\":{},\"id\":\"98099ead-8e8f-4d87-8164-145d4940d841\",\"type\":\"PanTool\"},{\"attributes\":{\"active_drag\":\"auto\",\"active_inspect\":\"auto\",\"active_scroll\":\"auto\",\"active_tap\":\"auto\",\"tools\":[{\"id\":\"7b76ff2b-13f3-4a9b-afdb-d0dec91da003\",\"type\":\"PanTool\"},{\"id\":\"b1743a7f-9b41-4caf-9d0a-4ed9c9ed509e\",\"type\":\"WheelZoomTool\"},{\"id\":\"dfeadf53-6a69-4289-b017-4e050b5563dc\",\"type\":\"BoxZoomTool\"},{\"id\":\"ec067cb5-040c-4fc5-a85c-218e200835e9\",\"type\":\"SaveTool\"},{\"id\":\"edc45a50-326f-4701-a992-22782b4a1aba\",\"type\":\"ResetTool\"},{\"id\":\"17f21f0f-f61d-448b-903b-e72b9e6bc42d\",\"type\":\"HelpTool\"}]},\"id\":\"b75b15e4-def5-4ebc-a36c-b62259edd891\",\"type\":\"Toolbar\"},{\"attributes\":{},\"id\":\"b052b473-8989-4f6f-a99c-3655dd7f2044\",\"type\":\"UnionRenderers\"},{\"attributes\":{\"fill_alpha\":{\"value\":0.7},\"fill_color\":{\"value\":\"#4daf4a\"},\"line_alpha\":{\"value\":0.7},\"line_color\":{\"value\":\"#4daf4a\"},\"x\":{\"field\":\"x\"},\"y\":{\"field\":\"y\"}},\"id\":\"a778bcd6-61e3-4205-a448-5fc5effa6538\",\"type\":\"Circle\"},{\"attributes\":{\"bottom_units\":\"screen\",\"fill_alpha\":{\"value\":0.5},\"fill_color\":{\"value\":\"lightgrey\"},\"left_units\":\"screen\",\"level\":\"overlay\",\"line_alpha\":{\"value\":1.0},\"line_color\":{\"value\":\"black\"},\"line_dash\":[4,4],\"line_width\":{\"value\":2},\"plot\":null,\"render_mode\":\"css\",\"right_units\":\"screen\",\"top_units\":\"screen\"},\"id\":\"6f820d3d-ea83-4d4e-b047-bc51260e28be\",\"type\":\"BoxAnnotation\"},{\"attributes\":{\"data_source\":{\"id\":\"4c47590d-59be-4156-b32b-fcdeca4f9ff5\",\"type\":\"ColumnDataSource\"},\"glyph\":{\"id\":\"dd92a1b7-df27-45af-9b3e-33bca01e94fa\",\"type\":\"Line\"},\"hover_glyph\":null,\"muted_glyph\":null,\"nonselection_glyph\":{\"id\":\"74be629d-1b8f-43c5-8030-48aef6bb53d2\",\"type\":\"Line\"},\"selection_glyph\":null,\"view\":{\"id\":\"87b0e228-dde4-4b61-8685-4771eca10569\",\"type\":\"CDSView\"}},\"id\":\"0494155f-477e-4e74-8cdd-9b62768b5d05\",\"type\":\"GlyphRenderer\"},{\"attributes\":{},\"id\":\"0dd5f986-b983-4e5e-81aa-249b37fb9bfd\",\"type\":\"WheelZoomTool\"},{\"attributes\":{\"axis_label\":\"cooling rate [K/day]\",\"formatter\":{\"id\":\"b9b151db-1d40-4c03-9a89-6297babdf9e3\",\"type\":\"BasicTickFormatter\"},\"plot\":{\"id\":\"0c43c2e1-9fa0-45ff-9fd3-f27a87cbea4b\",\"subtype\":\"Figure\",\"type\":\"Plot\"},\"ticker\":{\"id\":\"ccddc506-ad96-4050-92ea-3b65d677755a\",\"type\":\"BasicTicker\"}},\"id\":\"1a13b5e2-88b8-43c7-9158-90ec22dcfd63\",\"type\":\"LinearAxis\"},{\"attributes\":{\"line_color\":\"#4daf4a\",\"line_width\":1.5,\"x\":{\"field\":\"x\"},\"y\":{\"field\":\"y\"}},\"id\":\"80dc85e7-75de-47a5-8a85-d2a3f507cba7\",\"type\":\"Line\"},{\"attributes\":{\"line_alpha\":0.1,\"line_color\":\"#1f77b4\",\"line_width\":1.5,\"x\":{\"field\":\"x\"},\"y\":{\"field\":\"y\"}},\"id\":\"b20ee32f-9c0d-4442-b9fc-24a628693ff6\",\"type\":\"Line\"},{\"attributes\":{\"plot\":{\"id\":\"0c43c2e1-9fa0-45ff-9fd3-f27a87cbea4b\",\"subtype\":\"Figure\",\"type\":\"Plot\"},\"ticker\":{\"id\":\"ccddc506-ad96-4050-92ea-3b65d677755a\",\"type\":\"BasicTicker\"}},\"id\":\"c4968cdb-55b5-4c0f-8fdb-d8f6ff410ef1\",\"type\":\"Grid\"},{\"attributes\":{\"callback\":null,\"data\":{\"x\":{\"__ndarray__\":\"R/KIaN7AVEClCeJMyPNGQOvRhpxr30JAptxzhxx4PkA7SssMElA4QK6Bp3CyUDNAsVXpjES9LkBFhUV0+5coQMHYwqbbySNA6f09nM3nH0CaSd/3eYoZQDmgiAOW8BNAPYqARh3eDEBkm4vCgvr+P9D+5tWhQfY/P8DwKRnSAkBq38kb17ILQDT7IWuSsxFAUr2Rjm0FFkAinq3s9XgbQGCHwtYcqSFAG64kT303J0C7dRDneyooQD9JYrbK8yRA9S3bneHhIUAIymSuUMMcQIkHLe6VEBdAAau3cITREkA6CiNvkQIPQJU39ki7IQlAaAvwok1UA0BXLQiS4+L7P0xzDpJ2hPI/NNuPGMbJ5z91mUVYxqfSPxqwUPSxZca/G11peifD3L8QzNj5t2jTvwzOozTL360/SPJ4VI1VzD9KJ0nXEIncP8yDdlvHt+4/Et49nYLW9z++2teD4Jn+P+568eH/bwFALf5D9lmAAkCiZAicVOkCQPPT4jNKxwJAOjp3wTzBAUBSQsKNGisBQG4OmjqJwQBAJ3sZoHFuAEA5Ar0Sdi0AQGy4rw5+9f8/7W4nSrC3/z8mPr8zj4T/P4UYRHCQS/8/embVKYcF/z+5YXG+LLP+P/qb8BVUgf4/KvafTtyO/j/avAK1Ppv+PwJV9VVm2P0/JFtYlU/n/D9sN+q2fiX6Pw44e41PNPc/Opt+Z/wN9T+x3vcSW1vzP9ofvWQJlvI/8sciQQBW8j80sfkQa17yPzg5qng2r/I/Oh14WJBh8z+VZjnpctj0P6CcrSuCqQBA\",\"dtype\":\"float64\",\"shape\":[75]},\"y\":{\"__ndarray__\":\"GhExyth1ND/Sv8nbtpRIP2vylNV0PVE/aTum7souWD/At0SJ8fVgPw3Iuahxymc/MSNhhJWvcD/bTfBN02d3P2zb5nxnaoA/CD5h5MAGhz8NmeH1TyaQP+zrCsc9p5Y/LbKd76fGnz/bLW5ISEmmPww9YvTcQq8/JV2OstnstT8Er5Y7M8G+P0c+r3jqkcU/5h99k6ZBzj88bCIzFzjVP4enV8oyxN0//yH99nXg5D8qOpLLf0jtP5kqGJXUifQ/c9cS8kHP/D+/DpwzojQEQIEmwoanVwxA4lgXt9HgE0BSSZ2AJuIbQAMJih9jjiNA5q4l5INuK0AwTKYKRj0zQNv5fmq8/DpAaCJseHrtQkB/+zpwzoxKQM3MzMzMeFJAZmZmZmZqWEAAAAAAAFxeQM3MzMzMJmJAmpmZmZkfZUBmZmZmZhhoQDMzMzMzEWtAAAAAAAAKbkBmZmZmZoFwQM3MzMzM/XFAMzMzMzN6c0CamZmZmfZ0QAAAAAAAc3ZAZmZmZmbvd0DNzMzMzGt5QDMzMzMz6HpAmpmZmZlkfEAAAAAAAOF9QGZmZmZmXX9AZmZmZuZsgECamZmZGSuBQM3MzMxM6YFAAAAAAICngkAzMzMzs2WDQGZmZmbmI4RAmpmZmRnihEDNzMzMTKCFQAAAAACAXoZAMzMzM7Mch0BmZmZm5tqHQJqZmZkZmYhAzczMzExXiUAAAAAAgBWKQDMzMzOz04pAZmZmZuaRi0CamZmZGVCMQM3MzMxMDo1AAAAAAIDMjUAzMzMzs4qOQGZmZmbmSI9A\",\"dtype\":\"float64\",\"shape\":[75]}},\"selected\":{\"id\":\"09b18d60-1bd3-41fc-a908-fd203fc5a6fc\",\"type\":\"Selection\"},\"selection_policy\":{\"id\":\"67a31901-c866-4fb5-8e8e-8c4c954ab14f\",\"type\":\"UnionRenderers\"}},\"id\":\"150c5cb5-d3d7-4103-bb9a-e42aa4ed9fc2\",\"type\":\"ColumnDataSource\"},{\"attributes\":{\"source\":{\"id\":\"e52534b7-16db-4267-aedd-e640127e43ed\",\"type\":\"ColumnDataSource\"}},\"id\":\"ad6071aa-33bd-44b7-bbe9-e3868a99e4dc\",\"type\":\"CDSView\"},{\"attributes\":{},\"id\":\"edc45a50-326f-4701-a992-22782b4a1aba\",\"type\":\"ResetTool\"},{\"attributes\":{\"label\":{\"value\":\"CLIRAD (single-run)\"},\"renderers\":[{\"id\":\"845be4db-c4ad-4591-83e6-006924020efc\",\"type\":\"GlyphRenderer\"}]},\"id\":\"34acf7c6-cd5b-40b2-b4fc-e287e8e822e5\",\"type\":\"LegendItem\"},{\"attributes\":{},\"id\":\"d35b4414-da12-4cea-ae49-3bcb93b07da5\",\"type\":\"SaveTool\"},{\"attributes\":{\"line_alpha\":0.6,\"line_color\":\"#377eb8\",\"line_dash\":[6],\"line_width\":5,\"x\":{\"field\":\"x\"},\"y\":{\"field\":\"y\"}},\"id\":\"afa14432-37b6-44e0-832b-2273540c22f9\",\"type\":\"Line\"},{\"attributes\":{\"fill_alpha\":{\"value\":0.1},\"fill_color\":{\"value\":\"#1f77b4\"},\"line_alpha\":{\"value\":0.1},\"line_color\":{\"value\":\"#1f77b4\"},\"x\":{\"field\":\"x\"},\"y\":{\"field\":\"y\"}},\"id\":\"40e3bd8d-3b53-4b26-b8b3-42943436e3c1\",\"type\":\"Circle\"},{\"attributes\":{},\"id\":\"ccddc506-ad96-4050-92ea-3b65d677755a\",\"type\":\"BasicTicker\"},{\"attributes\":{\"callback\":null,\"data\":{\"x\":{\"__ndarray__\":\"pNIOppw/IcACfjWs91gFwOtXDA8mivc/oKtSZbtMDEA8c8IsK18NQHtYY9f7VgNA49CxZ2pu5D+t2qw7k07pv4GXPV3pcfW/69HOnDZj8b9b/UR4fBrfv0BNqqnpKLU/G3oU4XQ33T80VzJ/zh7hPx7c6w9Fd9Y/VjZ2fAzssD/Gd8vx4afRv863LuAzTeG/PlcewrtX4b+WqvAZtojTv7TJk0XrbLm//uGfHPHPm78LsdF+EwbLv9DifrJV/9a/MW1g76yuur89ijbJ7XLUP4zRB3ofYdU/DwrZWy2gtj9wOVRTN3BdP7XVbxigu8w/btQiSbtV0z+OwiYrvC2/P0/xOSksDrG/+8tT/hzsob9VKKJxHuWfP9EPsz91dqG/vKNS+CFJtL/KE+3eoL2wv6iFcvOhc66/r1C4vHmTsL8CBGmun/ewv6bEv0KPubK/fKbaQYkdqr/Zu8GXKU+xv0zMEil9FMC/Im28RD3dtL+WgbCzCLqvvw0t+IDoxrW/OhFxn8+atb/ofHUWUiCtv1SSfJpqN6C/MuUkAmgClb+E3SV4WUiWvyWEh6b51Z2/codcanG/nr8CTebsHS2Nv+yn1wrzTpA/O7A2LQ3Ipj/6nYyoiz+tP6tdcIy4jqg/tOyKnxq9mT/I6KYRVgphPzwQuO38VHW/VPJEQ49ncj/DhSXYtdybP4buKJ2q7Kw/wR1eWEKssj+2YgfvlVuzP7kTxq8MbLQ/XTBwS4p7tT/36d4cTJC2PxvLksp8jLo/6ZgD3c+Lvj+9qqYwXg/APw==\",\"dtype\":\"float64\",\"shape\":[74]},\"y\":{\"__ndarray__\":\"0r/J27aUSD9r8pTVdD1RP2k7pu7KLlg/wLdEifH1YD8NyLmoccpnPzEjYYSVr3A/203wTdNndz9s2+Z8Z2qAPwg+YeTABoc/DZnh9U8mkD/s6wrHPaeWPy2yne+nxp8/2y1uSEhJpj8MPWL03EKvPyVdjrLZ7LU/BK+WOzPBvj9HPq946pHFP+YffZOmQc4/PGwiMxc41T+Hp1fKMsTdP/8h/fZ14OQ/KjqSy39I7T+ZKhiV1In0P3PXEvJBz/w/vw6cM6I0BECBJsKGp1cMQOJYF7fR4BNAUkmdgCbiG0ADCYofY44jQOauJeSDbitAMEymCkY9M0Db+X5qvPw6QGgibHh67UJAf/s6cM6MSkDNzMzMzHhSQGZmZmZmalhAAAAAAABcXkDNzMzMzCZiQJqZmZmZH2VAZmZmZmYYaEAzMzMzMxFrQAAAAAAACm5AZmZmZmaBcEDNzMzMzP1xQDMzMzMzenNAmpmZmZn2dEAAAAAAAHN2QGZmZmZm73dAzczMzMxreUAzMzMzM+h6QJqZmZmZZHxAAAAAAADhfUBmZmZmZl1/QGZmZmbmbIBAmpmZmRkrgUDNzMzMTOmBQAAAAACAp4JAMzMzM7Nlg0BmZmZm5iOEQJqZmZkZ4oRAzczMzEyghUAAAAAAgF6GQDMzMzOzHIdAZmZmZubah0CamZmZGZmIQM3MzMxMV4lAAAAAAIAVikAzMzMzs9OKQGZmZmbmkYtAmpmZmRlQjEDNzMzMTA6NQAAAAACAzI1AMzMzM7OKjkBmZmZm5kiPQA==\",\"dtype\":\"float64\",\"shape\":[74]}},\"selected\":{\"id\":\"a79fc968-50c8-4d70-bbd1-eeeca819c5ee\",\"type\":\"Selection\"},\"selection_policy\":{\"id\":\"4e21b935-301f-4521-ac69-76dcd860c196\",\"type\":\"UnionRenderers\"}},\"id\":\"a5ae600a-873b-4208-8cb9-a0ee8ad5862f\",\"type\":\"ColumnDataSource\"},{\"attributes\":{\"plot\":{\"id\":\"ca778cc7-4d1b-4dc1-a4eb-5f46145ae815\",\"subtype\":\"Figure\",\"type\":\"Plot\"},\"ticker\":{\"id\":\"7fdbfdb4-d7ce-45d3-8d66-9248e1ba5647\",\"type\":\"BasicTicker\"}},\"id\":\"a98b21b0-7390-457c-bc16-ec1ea433d421\",\"type\":\"Grid\"},{\"attributes\":{\"axis_label\":\"cooling rate [K/day]\",\"formatter\":{\"id\":\"4cdc646e-eebe-4128-acef-d0d438ab30c5\",\"type\":\"BasicTickFormatter\"},\"plot\":{\"id\":\"ca778cc7-4d1b-4dc1-a4eb-5f46145ae815\",\"subtype\":\"Figure\",\"type\":\"Plot\"},\"ticker\":{\"id\":\"7fdbfdb4-d7ce-45d3-8d66-9248e1ba5647\",\"type\":\"BasicTicker\"}},\"id\":\"557e055d-9a20-40fd-b477-846dacea8f8d\",\"type\":\"LinearAxis\"},{\"attributes\":{},\"id\":\"dac7dba7-2498-4ef7-8cd5-a8df76044795\",\"type\":\"UnionRenderers\"},{\"attributes\":{\"children\":[{\"id\":\"c0482d79-431f-4283-ac35-af32888120b2\",\"subtype\":\"Figure\",\"type\":\"Plot\"},{\"id\":\"ca778cc7-4d1b-4dc1-a4eb-5f46145ae815\",\"subtype\":\"Figure\",\"type\":\"Plot\"},{\"id\":\"0c43c2e1-9fa0-45ff-9fd3-f27a87cbea4b\",\"subtype\":\"Figure\",\"type\":\"Plot\"}]},\"id\":\"c93aae28-f5dc-4397-aa48-aa3ee9f5d58a\",\"type\":\"Row\"},{\"attributes\":{},\"id\":\"30ba414f-4d0b-44e5-b324-36069af47eba\",\"type\":\"LogScale\"},{\"attributes\":{\"plot\":null,\"text\":\"\"},\"id\":\"a3d21ba9-ac67-4bf5-a577-7e615ce7e772\",\"type\":\"Title\"},{\"attributes\":{\"callback\":null,\"end\":2.3924054017371006,\"start\":-0.5119926463071},\"id\":\"13944a8c-6d5f-4aba-8a4a-319a94ed216e\",\"type\":\"Range1d\"},{\"attributes\":{},\"id\":\"f92c13ef-9f32-4844-82c9-bf87aadd3a6b\",\"type\":\"Selection\"},{\"attributes\":{},\"id\":\"b8733cd2-c82f-432a-bad1-d31ed4143230\",\"type\":\"BasicTickFormatter\"},{\"attributes\":{},\"id\":\"7fdbfdb4-d7ce-45d3-8d66-9248e1ba5647\",\"type\":\"BasicTicker\"},{\"attributes\":{\"source\":{\"id\":\"5fd5eaaa-c5a3-4bf4-aa58-3ff29f5c6972\",\"type\":\"ColumnDataSource\"}},\"id\":\"5cf87444-eb2e-430e-8381-9718efba9199\",\"type\":\"CDSView\"},{\"attributes\":{},\"id\":\"ec067cb5-040c-4fc5-a85c-218e200835e9\",\"type\":\"SaveTool\"},{\"attributes\":{\"children\":[{\"id\":\"c93aae28-f5dc-4397-aa48-aa3ee9f5d58a\",\"type\":\"Row\"}]},\"id\":\"1c009a98-9795-40b8-b09a-0455ab6b5b24\",\"type\":\"Column\"},{\"attributes\":{\"callback\":null,\"data\":{\"x\":{\"__ndarray__\":\"pNIOppw/IcACfjWs91gFwOtXDA8mivc/oKtSZbtMDEA8c8IsK18NQHtYY9f7VgNA49CxZ2pu5D+t2qw7k07pv4GXPV3pcfW/69HOnDZj8b9b/UR4fBrfv0BNqqnpKLU/G3oU4XQ33T80VzJ/zh7hPx7c6w9Fd9Y/VjZ2fAzssD/Gd8vx4afRv863LuAzTeG/PlcewrtX4b+WqvAZtojTv7TJk0XrbLm//uGfHPHPm78LsdF+EwbLv9DifrJV/9a/MW1g76yuur89ijbJ7XLUP4zRB3ofYdU/DwrZWy2gtj9wOVRTN3BdP7XVbxigu8w/btQiSbtV0z+OwiYrvC2/P0/xOSksDrG/+8tT/hzsob9VKKJxHuWfP9EPsz91dqG/vKNS+CFJtL/KE+3eoL2wv6iFcvOhc66/r1C4vHmTsL8CBGmun/ewv6bEv0KPubK/fKbaQYkdqr/Zu8GXKU+xv0zMEil9FMC/Im28RD3dtL+WgbCzCLqvvw0t+IDoxrW/OhFxn8+atb/ofHUWUiCtv1SSfJpqN6C/MuUkAmgClb+E3SV4WUiWvyWEh6b51Z2/codcanG/nr8CTebsHS2Nv+yn1wrzTpA/O7A2LQ3Ipj/6nYyoiz+tP6tdcIy4jqg/tOyKnxq9mT/I6KYRVgphPzwQuO38VHW/VPJEQ49ncj/DhSXYtdybP4buKJ2q7Kw/wR1eWEKssj+2YgfvlVuzP7kTxq8MbLQ/XTBwS4p7tT/36d4cTJC2PxvLksp8jLo/6ZgD3c+Lvj+9qqYwXg/APw==\",\"dtype\":\"float64\",\"shape\":[74]},\"y\":{\"__ndarray__\":\"0r/J27aUSD9r8pTVdD1RP2k7pu7KLlg/wLdEifH1YD8NyLmoccpnPzEjYYSVr3A/203wTdNndz9s2+Z8Z2qAPwg+YeTABoc/DZnh9U8mkD/s6wrHPaeWPy2yne+nxp8/2y1uSEhJpj8MPWL03EKvPyVdjrLZ7LU/BK+WOzPBvj9HPq946pHFP+YffZOmQc4/PGwiMxc41T+Hp1fKMsTdP/8h/fZ14OQ/KjqSy39I7T+ZKhiV1In0P3PXEvJBz/w/vw6cM6I0BECBJsKGp1cMQOJYF7fR4BNAUkmdgCbiG0ADCYofY44jQOauJeSDbitAMEymCkY9M0Db+X5qvPw6QGgibHh67UJAf/s6cM6MSkDNzMzMzHhSQGZmZmZmalhAAAAAAABcXkDNzMzMzCZiQJqZmZmZH2VAZmZmZmYYaEAzMzMzMxFrQAAAAAAACm5AZmZmZmaBcEDNzMzMzP1xQDMzMzMzenNAmpmZmZn2dEAAAAAAAHN2QGZmZmZm73dAzczMzMxreUAzMzMzM+h6QJqZmZmZZHxAAAAAAADhfUBmZmZmZl1/QGZmZmbmbIBAmpmZmRkrgUDNzMzMTOmBQAAAAACAp4JAMzMzM7Nlg0BmZmZm5iOEQJqZmZkZ4oRAzczMzEyghUAAAAAAgF6GQDMzMzOzHIdAZmZmZubah0CamZmZGZmIQM3MzMxMV4lAAAAAAIAVikAzMzMzs9OKQGZmZmbmkYtAmpmZmRlQjEDNzMzMTA6NQAAAAACAzI1AMzMzM7OKjkBmZmZm5kiPQA==\",\"dtype\":\"float64\",\"shape\":[74]}},\"selected\":{\"id\":\"bb44f86d-52fd-40a9-9cb3-bae47f135067\",\"type\":\"Selection\"},\"selection_policy\":{\"id\":\"1f874024-5dfc-48c8-95f6-e6989794455e\",\"type\":\"UnionRenderers\"}},\"id\":\"5fd5eaaa-c5a3-4bf4-aa58-3ff29f5c6972\",\"type\":\"ColumnDataSource\"},{\"attributes\":{\"label\":{\"value\":\"CLIRAD (single-run) - CRD\"},\"renderers\":[{\"id\":\"e76826bd-252b-42d3-b9ff-25d50e4c60c0\",\"type\":\"GlyphRenderer\"},{\"id\":\"51655867-e623-4286-88ed-80b27b2711d6\",\"type\":\"GlyphRenderer\"}]},\"id\":\"0c62103e-8e8c-4203-b2bd-884a05ef6749\",\"type\":\"LegendItem\"},{\"attributes\":{\"axis_label\":\"pressure [mb]\",\"formatter\":{\"id\":\"965625b4-56c1-43e6-b9df-0c1ae6c7434c\",\"type\":\"LogTickFormatter\"},\"plot\":{\"id\":\"ca778cc7-4d1b-4dc1-a4eb-5f46145ae815\",\"subtype\":\"Figure\",\"type\":\"Plot\"},\"ticker\":{\"id\":\"85848b38-9bc0-4bb4-a872-c596c3b6f8b4\",\"type\":\"LogTicker\"}},\"id\":\"3b036a1f-a55e-4c8b-83f5-8756b28b9a18\",\"type\":\"LogAxis\"},{\"attributes\":{\"fill_alpha\":{\"value\":0.7},\"fill_color\":{\"value\":\"#984ea3\"},\"line_alpha\":{\"value\":0.7},\"line_color\":{\"value\":\"#984ea3\"},\"x\":{\"field\":\"x\"},\"y\":{\"field\":\"y\"}},\"id\":\"f331f498-9748-445c-a308-1ff3e3f7bad7\",\"type\":\"Circle\"},{\"attributes\":{\"above\":[{\"id\":\"2132349e-1d7f-4de0-b737-3e6ac751ef60\",\"type\":\"Legend\"}],\"below\":[{\"id\":\"34fb398e-b411-4326-a610-13ae4c333fb4\",\"type\":\"LinearAxis\"}],\"left\":[{\"id\":\"c2597777-d4b0-41ec-b79e-b3c39273a80e\",\"type\":\"LinearAxis\"}],\"plot_width\":300,\"renderers\":[{\"id\":\"34fb398e-b411-4326-a610-13ae4c333fb4\",\"type\":\"LinearAxis\"},{\"id\":\"bbcf0f37-f5e9-42fb-8bb2-c5cf6f32cc20\",\"type\":\"Grid\"},{\"id\":\"c2597777-d4b0-41ec-b79e-b3c39273a80e\",\"type\":\"LinearAxis\"},{\"id\":\"5438ce96-d82b-484e-9464-4bdc8dbf0148\",\"type\":\"Grid\"},{\"id\":\"6f820d3d-ea83-4d4e-b047-bc51260e28be\",\"type\":\"BoxAnnotation\"},{\"id\":\"2d187cc8-ae9b-4404-a830-3c6d000b7c03\",\"type\":\"GlyphRenderer\"},{\"id\":\"dc3513be-b2f2-4608-a0ca-570ce6f80234\",\"type\":\"GlyphRenderer\"},{\"id\":\"143d9aa5-7f97-4b2d-8204-56be5ee8131b\",\"type\":\"GlyphRenderer\"},{\"id\":\"2132349e-1d7f-4de0-b737-3e6ac751ef60\",\"type\":\"Legend\"}],\"title\":{\"id\":\"a3d21ba9-ac67-4bf5-a577-7e615ce7e772\",\"type\":\"Title\"},\"toolbar\":{\"id\":\"b75b15e4-def5-4ebc-a36c-b62259edd891\",\"type\":\"Toolbar\"},\"toolbar_location\":null,\"x_range\":{\"id\":\"13944a8c-6d5f-4aba-8a4a-319a94ed216e\",\"type\":\"Range1d\"},\"x_scale\":{\"id\":\"a465eb85-2a15-4187-b8ab-27db042f8700\",\"type\":\"LinearScale\"},\"y_range\":{\"id\":\"bdf027b1-72d1-421c-9c02-e54cba2db7b4\",\"type\":\"Range1d\"},\"y_scale\":{\"id\":\"4b4c4037-959d-4d7e-af35-2a0cc8a4f044\",\"type\":\"LinearScale\"}},\"id\":\"c0482d79-431f-4283-ac35-af32888120b2\",\"subtype\":\"Figure\",\"type\":\"Plot\"},{\"attributes\":{},\"id\":\"9a9016f9-c7f4-46a5-94a3-343da250ba32\",\"type\":\"BasicTickFormatter\"},{\"attributes\":{},\"id\":\"7b76ff2b-13f3-4a9b-afdb-d0dec91da003\",\"type\":\"PanTool\"},{\"attributes\":{\"fill_alpha\":{\"value\":0.1},\"fill_color\":{\"value\":\"#1f77b4\"},\"line_alpha\":{\"value\":0.1},\"line_color\":{\"value\":\"#1f77b4\"},\"x\":{\"field\":\"x\"},\"y\":{\"field\":\"y\"}},\"id\":\"c74be6c0-c4d3-4504-a51d-0d85a3d93857\",\"type\":\"Circle\"},{\"attributes\":{\"data_source\":{\"id\":\"5fd5eaaa-c5a3-4bf4-aa58-3ff29f5c6972\",\"type\":\"ColumnDataSource\"},\"glyph\":{\"id\":\"f331f498-9748-445c-a308-1ff3e3f7bad7\",\"type\":\"Circle\"},\"hover_glyph\":null,\"muted_glyph\":null,\"nonselection_glyph\":{\"id\":\"c74be6c0-c4d3-4504-a51d-0d85a3d93857\",\"type\":\"Circle\"},\"selection_glyph\":null,\"view\":{\"id\":\"5cf87444-eb2e-430e-8381-9718efba9199\",\"type\":\"CDSView\"}},\"id\":\"e76826bd-252b-42d3-b9ff-25d50e4c60c0\",\"type\":\"GlyphRenderer\"},{\"attributes\":{\"num_minor_ticks\":10},\"id\":\"85848b38-9bc0-4bb4-a872-c596c3b6f8b4\",\"type\":\"LogTicker\"},{\"attributes\":{},\"id\":\"05469ad5-52de-4d22-87ba-b61346a3855f\",\"type\":\"LinearScale\"},{\"attributes\":{\"dimension\":1,\"plot\":{\"id\":\"c0482d79-431f-4283-ac35-af32888120b2\",\"subtype\":\"Figure\",\"type\":\"Plot\"},\"ticker\":{\"id\":\"4dc26058-7632-4f56-9829-a96071786ae4\",\"type\":\"BasicTicker\"}},\"id\":\"5438ce96-d82b-484e-9464-4bdc8dbf0148\",\"type\":\"Grid\"},{\"attributes\":{},\"id\":\"1f874024-5dfc-48c8-95f6-e6989794455e\",\"type\":\"UnionRenderers\"},{\"attributes\":{},\"id\":\"4b4c4037-959d-4d7e-af35-2a0cc8a4f044\",\"type\":\"LinearScale\"},{\"attributes\":{},\"id\":\"4e21b935-301f-4521-ac69-76dcd860c196\",\"type\":\"UnionRenderers\"},{\"attributes\":{\"data_source\":{\"id\":\"bc5c5cba-3719-44da-8a51-531c1615a34c\",\"type\":\"ColumnDataSource\"},\"glyph\":{\"id\":\"afa14432-37b6-44e0-832b-2273540c22f9\",\"type\":\"Line\"},\"hover_glyph\":null,\"muted_glyph\":null,\"nonselection_glyph\":{\"id\":\"5f941017-5522-4781-a15e-8d109f0b02a4\",\"type\":\"Line\"},\"selection_glyph\":null,\"view\":{\"id\":\"9b0b6294-7213-4ee6-9dee-ead6260cb1fa\",\"type\":\"CDSView\"}},\"id\":\"845be4db-c4ad-4591-83e6-006924020efc\",\"type\":\"GlyphRenderer\"},{\"attributes\":{\"plot\":{\"id\":\"c0482d79-431f-4283-ac35-af32888120b2\",\"subtype\":\"Figure\",\"type\":\"Plot\"},\"ticker\":{\"id\":\"b4a948d6-991f-4a11-b9a5-b3947cbb5f5b\",\"type\":\"BasicTicker\"}},\"id\":\"bbcf0f37-f5e9-42fb-8bb2-c5cf6f32cc20\",\"type\":\"Grid\"},{\"attributes\":{},\"id\":\"909d1eaa-6c20-481e-8bf2-728a8947e0a6\",\"type\":\"Selection\"},{\"attributes\":{\"children\":[{\"id\":\"06b936b1-0b4b-4f61-b455-c63bf238d889\",\"type\":\"ToolbarBox\"},{\"id\":\"1c009a98-9795-40b8-b09a-0455ab6b5b24\",\"type\":\"Column\"}]},\"id\":\"bf8f4970-1208-4ec9-85c8-0af09415f903\",\"type\":\"Column\"},{\"attributes\":{},\"id\":\"bb44f86d-52fd-40a9-9cb3-bae47f135067\",\"type\":\"Selection\"},{\"attributes\":{},\"id\":\"a79fc968-50c8-4d70-bbd1-eeeca819c5ee\",\"type\":\"Selection\"},{\"attributes\":{},\"id\":\"b4a948d6-991f-4a11-b9a5-b3947cbb5f5b\",\"type\":\"BasicTicker\"},{\"attributes\":{},\"id\":\"b9b151db-1d40-4c03-9a89-6297babdf9e3\",\"type\":\"BasicTickFormatter\"},{\"attributes\":{\"toolbar\":{\"id\":\"9119ebc0-ee6f-4156-9924-4286905de4ee\",\"type\":\"ProxyToolbar\"},\"toolbar_location\":\"above\"},\"id\":\"06b936b1-0b4b-4f61-b455-c63bf238d889\",\"type\":\"ToolbarBox\"},{\"attributes\":{},\"id\":\"09b18d60-1bd3-41fc-a908-fd203fc5a6fc\",\"type\":\"Selection\"},{\"attributes\":{},\"id\":\"67a31901-c866-4fb5-8e8e-8c4c954ab14f\",\"type\":\"UnionRenderers\"},{\"attributes\":{\"line_alpha\":0.1,\"line_color\":\"#1f77b4\",\"line_dash\":[6],\"line_width\":5,\"x\":{\"field\":\"x\"},\"y\":{\"field\":\"y\"}},\"id\":\"59cef0fe-630e-4d33-b6d4-59d5a8b52472\",\"type\":\"Line\"},{\"attributes\":{\"axis_label\":\"pressure [mb]\",\"formatter\":{\"id\":\"b8733cd2-c82f-432a-bad1-d31ed4143230\",\"type\":\"BasicTickFormatter\"},\"plot\":{\"id\":\"c0482d79-431f-4283-ac35-af32888120b2\",\"subtype\":\"Figure\",\"type\":\"Plot\"},\"ticker\":{\"id\":\"4dc26058-7632-4f56-9829-a96071786ae4\",\"type\":\"BasicTicker\"}},\"id\":\"c2597777-d4b0-41ec-b79e-b3c39273a80e\",\"type\":\"LinearAxis\"},{\"attributes\":{\"ticker\":null},\"id\":\"59366f25-f4f8-4ae1-a8b3-ce869c1132bb\",\"type\":\"LogTickFormatter\"},{\"attributes\":{\"tools\":[{\"id\":\"7b76ff2b-13f3-4a9b-afdb-d0dec91da003\",\"type\":\"PanTool\"},{\"id\":\"b1743a7f-9b41-4caf-9d0a-4ed9c9ed509e\",\"type\":\"WheelZoomTool\"},{\"id\":\"dfeadf53-6a69-4289-b017-4e050b5563dc\",\"type\":\"BoxZoomTool\"},{\"id\":\"ec067cb5-040c-4fc5-a85c-218e200835e9\",\"type\":\"SaveTool\"},{\"id\":\"edc45a50-326f-4701-a992-22782b4a1aba\",\"type\":\"ResetTool\"},{\"id\":\"17f21f0f-f61d-448b-903b-e72b9e6bc42d\",\"type\":\"HelpTool\"},{\"id\":\"011fa2c7-32d2-49ea-83b0-eb05f9712611\",\"type\":\"PanTool\"},{\"id\":\"574c7f38-176a-4c24-aebe-51ca30822d94\",\"type\":\"WheelZoomTool\"},{\"id\":\"2c45b774-a235-4d30-a41b-b1db9e1ad26a\",\"type\":\"BoxZoomTool\"},{\"id\":\"adaf44ba-5a48-4bdc-a202-cf018d64ba92\",\"type\":\"SaveTool\"},{\"id\":\"200ae36b-7925-4a59-8caa-0689f2c3e34d\",\"type\":\"ResetTool\"},{\"id\":\"9bb90363-8290-4cd4-8a29-43b67e154c70\",\"type\":\"HelpTool\"},{\"id\":\"98099ead-8e8f-4d87-8164-145d4940d841\",\"type\":\"PanTool\"},{\"id\":\"0dd5f986-b983-4e5e-81aa-249b37fb9bfd\",\"type\":\"WheelZoomTool\"},{\"id\":\"720e51d1-05e4-4138-a06e-cf4618973de8\",\"type\":\"BoxZoomTool\"},{\"id\":\"d35b4414-da12-4cea-ae49-3bcb93b07da5\",\"type\":\"SaveTool\"},{\"id\":\"99035098-213a-490c-b6e7-19a49055a8fb\",\"type\":\"ResetTool\"},{\"id\":\"0052d166-83e8-4388-9713-942726e6cc5d\",\"type\":\"HelpTool\"}]},\"id\":\"9119ebc0-ee6f-4156-9924-4286905de4ee\",\"type\":\"ProxyToolbar\"},{\"attributes\":{\"axis_label\":\"cooling rate [K/day]\",\"formatter\":{\"id\":\"9a9016f9-c7f4-46a5-94a3-343da250ba32\",\"type\":\"BasicTickFormatter\"},\"plot\":{\"id\":\"c0482d79-431f-4283-ac35-af32888120b2\",\"subtype\":\"Figure\",\"type\":\"Plot\"},\"ticker\":{\"id\":\"b4a948d6-991f-4a11-b9a5-b3947cbb5f5b\",\"type\":\"BasicTicker\"}},\"id\":\"34fb398e-b411-4326-a610-13ae4c333fb4\",\"type\":\"LinearAxis\"},{\"attributes\":{\"source\":{\"id\":\"bc5c5cba-3719-44da-8a51-531c1615a34c\",\"type\":\"ColumnDataSource\"}},\"id\":\"9b0b6294-7213-4ee6-9dee-ead6260cb1fa\",\"type\":\"CDSView\"},{\"attributes\":{},\"id\":\"4dc26058-7632-4f56-9829-a96071786ae4\",\"type\":\"BasicTicker\"},{\"attributes\":{\"ticker\":null},\"id\":\"965625b4-56c1-43e6-b9df-0c1ae6c7434c\",\"type\":\"LogTickFormatter\"},{\"attributes\":{\"plot\":null,\"text\":\"\"},\"id\":\"c9dc2c08-248a-4822-bcf7-b42e2ec3660a\",\"type\":\"Title\"},{\"attributes\":{\"callback\":null,\"data\":{\"x\":{\"__ndarray__\":\"/Ennn5VNRUD8VF4j4aNCQAx6wyHciUFAJKJk6L7wP0Cwn3V5qdk7QBfQP9aX/DZA6BVhwYHJMUBRosAa4t4pQBYLCHPyNCJACZjuRFOLGkAflatQrDEVQGRQBDzu/hFAqNzNk2SHDUD3XGj9LyQDQGkqgBUJ0f4/wzvuywGhBUAcka1/NzoMQLhDBUwUmRBAWeaLEsfbE0A502l0/k0ZQAsC8yXXDCFAh4aZeKMEJ0DLJYLukxwoQH0CZ2iyhyRA3jZH8OYpIUBRSKf6lVgcQC1wwMrEVxhAGihYaJYnFECK0gHakrcPQBui4E9pJQlAwwh3pAcgBUA5cSgyKVwAQHbfwFRSd/Q/DJ1okwCo5T/3H3u4QmrQPw9rHCYOacK/Fb9fIvbx3r//dO13AHvYv1bMskm023y/3FCc16S4xD8fExtoMmTYP0xjqWXTmOw/yeERqemq9j+MBck59Mj9Pw5tM5WG5QBAadGyIxJ/AUA3geKxakICQOwRFBFiSAJA0nhvfQUTAUDHucYQRH4AQHo4QPIHTQBA3oiv9ZMtAEBvuLhCcQMAQPcgz6hcnP8/3FCNY1hA/z8IzBVukQn/P+1LajQ2Ef8/GsUA9sJG/z88F9snbWn/P+sANXNQa/8/GHkDE1JT/z+N6IAfMwL/P3co/oDr4P0/FKNqmPrR/D9ffC1G5jf6PyTO22TCo/c/ruJnvGH19T+NwH04H4b0PwaWrcPCy/M/LSkfDMGc8z86tLC1I7bzP9kneDo7GPQ/7EkhJVgK9T8joAnnL8H2P0wHuA54qgFA\",\"dtype\":\"float64\",\"shape\":[75]},\"y\":{\"__ndarray__\":\"S/O/Q+51ND/Sv8nbtpRIP2vylNV0PVE/aTum7souWD/At0SJ8fVgPw3Iuahxymc/MSNhhJWvcD/bTfBN02d3P2zb5nxnaoA/CD5h5MAGhz8NmeH1TyaQP+zrCsc9p5Y/LbKd76fGnz/bLW5ISEmmPww9YvTcQq8/JV2OstnstT8Er5Y7M8G+P0c+r3jqkcU/5h99k6ZBzj88bCIzFzjVP4enV8oyxN0//yH99nXg5D8qOpLLf0jtP5kqGJXUifQ/c9cS8kHP/D+/DpwzojQEQIEmwoanVwxA4lgXt9HgE0BSSZ2AJuIbQAMJih9jjiNA5q4l5INuK0AwTKYKRj0zQNv5fmq8/DpAaCJseHrtQkB/+zpwzoxKQM3MzMzMeFJAZmZmZmZqWEAAAAAAAFxeQM3MzMzMJmJAmpmZmZkfZUBmZmZmZhhoQDMzMzMzEWtAAAAAAAAKbkBmZmZmZoFwQM3MzMzM/XFAMzMzMzN6c0CamZmZmfZ0QAAAAAAAc3ZAZmZmZmbvd0DNzMzMzGt5QDMzMzMz6HpAmpmZmZlkfEAAAAAAAOF9QGZmZmZmXX9AZmZmZuZsgECamZmZGSuBQM3MzMxM6YFAAAAAAICngkAzMzMzs2WDQGZmZmbmI4RAmpmZmRnihEDNzMzMTKCFQAAAAACAXoZAMzMzM7Mch0BmZmZm5tqHQJqZmZkZmYhAzczMzExXiUAAAAAAgBWKQDMzMzOz04pAZmZmZuaRi0CamZmZGVCMQM3MzMxMDo1AAAAAAIDMjUAzMzMzs4qOQGZmZmbmSI9A\",\"dtype\":\"float64\",\"shape\":[75]}},\"selected\":{\"id\":\"f92c13ef-9f32-4844-82c9-bf87aadd3a6b\",\"type\":\"Selection\"},\"selection_policy\":{\"id\":\"e24756f5-cbc3-4795-b9ce-0f85db4b43a4\",\"type\":\"UnionRenderers\"}},\"id\":\"1d8155e4-8fa8-48a1-8070-20dce53c2026\",\"type\":\"ColumnDataSource\"},{\"attributes\":{},\"id\":\"4cdc646e-eebe-4128-acef-d0d438ab30c5\",\"type\":\"BasicTickFormatter\"},{\"attributes\":{\"plot\":null,\"text\":\"\"},\"id\":\"a9b9098a-7f8c-4111-9e69-f715ba655df5\",\"type\":\"Title\"},{\"attributes\":{\"line_alpha\":0.6,\"line_color\":\"#377eb8\",\"line_dash\":[6],\"line_width\":5,\"x\":{\"field\":\"x\"},\"y\":{\"field\":\"y\"}},\"id\":\"ace5c09b-f2cb-43d3-a900-2db4ce72668e\",\"type\":\"Line\"},{\"attributes\":{},\"id\":\"a465eb85-2a15-4187-b8ab-27db042f8700\",\"type\":\"LinearScale\"},{\"attributes\":{},\"id\":\"06573091-00dc-4155-80e4-551d0075c293\",\"type\":\"Selection\"}],\"root_ids\":[\"bf8f4970-1208-4ec9-85c8-0af09415f903\"]},\"title\":\"Bokeh Application\",\"version\":\"0.12.16\"}};\n",
       "  var render_items = [{\"docid\":\"f0677651-9f11-4a84-ae8a-467f6244fdf2\",\"elementid\":\"b95b2a0f-9a33-48c4-bed9-3f1fe40689a9\",\"modelid\":\"bf8f4970-1208-4ec9-85c8-0af09415f903\"}];\n",
       "  root.Bokeh.embed.embed_items_notebook(docs_json, render_items);\n",
       "\n",
       "  }\n",
       "  if (root.Bokeh !== undefined) {\n",
       "    embed_document(root);\n",
       "  } else {\n",
       "    var attempts = 0;\n",
       "    var timer = setInterval(function(root) {\n",
       "      if (root.Bokeh !== undefined) {\n",
       "        embed_document(root);\n",
       "        clearInterval(timer);\n",
       "      }\n",
       "      attempts++;\n",
       "      if (attempts > 100) {\n",
       "        console.log(\"Bokeh: ERROR: Unable to run BokehJS code because BokehJS library is missing\")\n",
       "        clearInterval(timer);\n",
       "      }\n",
       "    }, 10, root)\n",
       "  }\n",
       "})(window);"
      ],
      "application/vnd.bokehjs_exec.v0+json": ""
     },
     "metadata": {
      "application/vnd.bokehjs_exec.v0+json": {
       "id": "bf8f4970-1208-4ec9-85c8-0af09415f903"
      }
     },
     "output_type": "display_data"
    },
    {
     "data": {
      "text/markdown": [
       "*FIGURE.* Cooling rates & difference."
      ],
      "text/plain": [
       "<IPython.core.display.Markdown object>"
      ]
     },
     "metadata": {},
     "output_type": "display_data"
    },
    {
     "data": {
      "text/html": [
       "<a id=\"Fluxes._trp.\"></a>"
      ],
      "text/plain": [
       "<IPython.core.display.HTML object>"
      ]
     },
     "metadata": {},
     "output_type": "display_data"
    },
    {
     "data": {
      "text/markdown": [
       "# Fluxes. trp."
      ],
      "text/plain": [
       "<IPython.core.display.Markdown object>"
      ]
     },
     "metadata": {},
     "output_type": "display_data"
    },
    {
     "data": {
      "text/html": [
       "\n",
       "<div class=\"bk-root\">\n",
       "    <div class=\"bk-plotdiv\" id=\"5ed981a0-641a-450e-ae5a-7d663c148d72\"></div>\n",
       "</div>"
      ]
     },
     "metadata": {},
     "output_type": "display_data"
    },
    {
     "data": {
      "application/javascript": [
       "(function(root) {\n",
       "  function embed_document(root) {\n",
       "    \n",
       "  var docs_json = {\"1e0d8d95-faf3-4e42-8245-606e813d5d72\":{\"roots\":{\"references\":[{\"attributes\":{\"callback\":null,\"data\":{\"band\":[\"1\",\"2\",\"3\",\"4\",\"5\",\"6\",\"7\",\"8\",\"9\",\"10\",\"11\"],\"flux\":{\"__ndarray__\":\"AADADkbs874Ak+S5vg/QPwANMzSeCMq/ABTRr62frj8g5Xyx92LjP8AUrHE2Hd0/wGqGrwovsj8g4+sh0M/RP0Churn429E/AFDtmpDWiD9AH8vMFlqxPw==\",\"dtype\":\"float64\",\"shape\":[11]}},\"selected\":{\"id\":\"b566598a-2925-4aad-9571-2eb5e0a66a86\",\"type\":\"Selection\"},\"selection_policy\":{\"id\":\"653eace3-8f1e-494b-8cdd-9f4b38db672e\",\"type\":\"UnionRenderers\"}},\"id\":\"60485df3-ebd2-434e-a9aa-c90b75d74ea6\",\"type\":\"ColumnDataSource\"},{\"attributes\":{\"children\":[{\"id\":\"cc0c23b0-cafc-4720-b74f-42840b3068a7\",\"type\":\"Row\"}]},\"id\":\"e547b7ae-b77e-488e-b812-d7a83da91bcc\",\"type\":\"Column\"},{\"attributes\":{},\"id\":\"18f35e81-1d27-4f89-a9fc-01290f9d77b7\",\"type\":\"WheelZoomTool\"},{\"attributes\":{},\"id\":\"9dbbdc82-7787-4e73-81d9-93eee61b7919\",\"type\":\"BasicTickFormatter\"},{\"attributes\":{},\"id\":\"21921cfb-324e-46ab-9b5a-7fbd8bb3a879\",\"type\":\"ResetTool\"},{\"attributes\":{},\"id\":\"cb04932a-5f70-4e61-b7dc-c88b1ad9f0d9\",\"type\":\"CategoricalTickFormatter\"},{\"attributes\":{},\"id\":\"b6c8f29d-b043-4c28-be17-259421d4e2b7\",\"type\":\"ResetTool\"},{\"attributes\":{\"toolbar\":{\"id\":\"4f836c33-0b00-41ad-8605-b4d4336e0920\",\"type\":\"ProxyToolbar\"},\"toolbar_location\":\"above\"},\"id\":\"cb9ac2f1-013b-4d6d-9db9-c1ade0093344\",\"type\":\"ToolbarBox\"},{\"attributes\":{},\"id\":\"17dc4bda-9b4d-4fa1-84f6-fce6ff87d3c8\",\"type\":\"SaveTool\"},{\"attributes\":{},\"id\":\"cdb53f69-39ca-41ea-a13f-1a5d7d741b9a\",\"type\":\"CategoricalScale\"},{\"attributes\":{\"plot\":{\"id\":\"cfdf414f-115a-4111-a7d3-58a5b0cbfcd6\",\"subtype\":\"Figure\",\"type\":\"Plot\"},\"ticker\":{\"id\":\"553eb17a-dbd8-4a24-90bf-cdb4ff5302f2\",\"type\":\"CategoricalTicker\"}},\"id\":\"c350e1bb-3f35-440c-af65-e8bcf40fafa8\",\"type\":\"Grid\"},{\"attributes\":{},\"id\":\"570116f8-11d9-4241-9fd9-f6ec4b0882b2\",\"type\":\"BasicTickFormatter\"},{\"attributes\":{},\"id\":\"62d37cf7-73df-49f1-b9e8-56db5f1ed1f8\",\"type\":\"WheelZoomTool\"},{\"attributes\":{\"axis_label\":\"spectral band\",\"formatter\":{\"id\":\"cb04932a-5f70-4e61-b7dc-c88b1ad9f0d9\",\"type\":\"CategoricalTickFormatter\"},\"plot\":{\"id\":\"cfdf414f-115a-4111-a7d3-58a5b0cbfcd6\",\"subtype\":\"Figure\",\"type\":\"Plot\"},\"ticker\":{\"id\":\"553eb17a-dbd8-4a24-90bf-cdb4ff5302f2\",\"type\":\"CategoricalTicker\"}},\"id\":\"66692278-72df-46ff-bca9-c11161e9fa14\",\"type\":\"CategoricalAxis\"},{\"attributes\":{\"bottom_units\":\"screen\",\"fill_alpha\":{\"value\":0.5},\"fill_color\":{\"value\":\"lightgrey\"},\"left_units\":\"screen\",\"level\":\"overlay\",\"line_alpha\":{\"value\":1.0},\"line_color\":{\"value\":\"black\"},\"line_dash\":[4,4],\"line_width\":{\"value\":2},\"plot\":null,\"render_mode\":\"css\",\"right_units\":\"screen\",\"top_units\":\"screen\"},\"id\":\"0cd5f36f-b71f-4ae4-bd29-127a988736f6\",\"type\":\"BoxAnnotation\"},{\"attributes\":{},\"id\":\"1a474cb1-5ef9-447d-a8d9-0adfd1fbe3fe\",\"type\":\"CategoricalTickFormatter\"},{\"attributes\":{\"overlay\":{\"id\":\"0cd5f36f-b71f-4ae4-bd29-127a988736f6\",\"type\":\"BoxAnnotation\"}},\"id\":\"16dfba25-0dbe-4f67-8da8-95ac96a99479\",\"type\":\"BoxZoomTool\"},{\"attributes\":{\"callback\":null,\"factors\":[\"1\",\"2\",\"3\",\"4\",\"5\",\"6\",\"7\",\"8\",\"9\",\"10\",\"11\"]},\"id\":\"83d6ee6d-8528-4928-92e6-609082967408\",\"type\":\"FactorRange\"},{\"attributes\":{\"fill_color\":{\"value\":\"#1f77b4\"},\"line_color\":{\"value\":\"#1f77b4\"},\"top\":{\"field\":\"flux\"},\"width\":{\"value\":0.9},\"x\":{\"field\":\"band\"}},\"id\":\"db264d71-bb26-4e97-8d4f-a76c035d7c19\",\"type\":\"VBar\"},{\"attributes\":{},\"id\":\"545181d3-689f-40c7-aa3f-d75abe85836d\",\"type\":\"SaveTool\"},{\"attributes\":{\"data_source\":{\"id\":\"60485df3-ebd2-434e-a9aa-c90b75d74ea6\",\"type\":\"ColumnDataSource\"},\"glyph\":{\"id\":\"37f6c7b2-7a45-4c06-90fe-cb9d9ee757f7\",\"type\":\"VBar\"},\"hover_glyph\":null,\"muted_glyph\":null,\"nonselection_glyph\":{\"id\":\"60d831fc-e1d0-4f6b-906c-3d7420923754\",\"type\":\"VBar\"},\"selection_glyph\":null,\"view\":{\"id\":\"9733af82-4328-4c85-901f-b1e61c4eede0\",\"type\":\"CDSView\"}},\"id\":\"b49f6049-23fe-4d91-b6ee-49d3ac917a2a\",\"type\":\"GlyphRenderer\"},{\"attributes\":{},\"id\":\"553eb17a-dbd8-4a24-90bf-cdb4ff5302f2\",\"type\":\"CategoricalTicker\"},{\"attributes\":{},\"id\":\"77d614ec-6548-4010-8ea1-8a9be1691553\",\"type\":\"BasicTicker\"},{\"attributes\":{\"overlay\":{\"id\":\"f992b158-d72d-485d-8c5e-2fa652a90837\",\"type\":\"BoxAnnotation\"}},\"id\":\"1703102b-0d1c-4605-a675-5bebad7bfabb\",\"type\":\"BoxZoomTool\"},{\"attributes\":{\"bottom_units\":\"screen\",\"fill_alpha\":{\"value\":0.5},\"fill_color\":{\"value\":\"lightgrey\"},\"left_units\":\"screen\",\"level\":\"overlay\",\"line_alpha\":{\"value\":1.0},\"line_color\":{\"value\":\"black\"},\"line_dash\":[4,4],\"line_width\":{\"value\":2},\"plot\":null,\"render_mode\":\"css\",\"right_units\":\"screen\",\"top_units\":\"screen\"},\"id\":\"f992b158-d72d-485d-8c5e-2fa652a90837\",\"type\":\"BoxAnnotation\"},{\"attributes\":{\"axis_label\":\"flux (W m-2)\",\"formatter\":{\"id\":\"572cf1d5-28d8-4a11-9bc0-1371f10b3cd6\",\"type\":\"BasicTickFormatter\"},\"plot\":{\"id\":\"cfdf414f-115a-4111-a7d3-58a5b0cbfcd6\",\"subtype\":\"Figure\",\"type\":\"Plot\"},\"ticker\":{\"id\":\"77d614ec-6548-4010-8ea1-8a9be1691553\",\"type\":\"BasicTicker\"}},\"id\":\"2aa5e7e8-de95-4d78-bf1c-5279dd45e01a\",\"type\":\"LinearAxis\"},{\"attributes\":{},\"id\":\"e4151904-0c47-4a66-8fd4-2e68f2fcbadb\",\"type\":\"UnionRenderers\"},{\"attributes\":{\"children\":[{\"id\":\"21b40057-3380-4ad6-bd87-996b02c65003\",\"subtype\":\"Figure\",\"type\":\"Plot\"},{\"id\":\"abe4a07e-caed-43bf-b2b0-a66bee372ac4\",\"subtype\":\"Figure\",\"type\":\"Plot\"},{\"id\":\"cfdf414f-115a-4111-a7d3-58a5b0cbfcd6\",\"subtype\":\"Figure\",\"type\":\"Plot\"}]},\"id\":\"cc0c23b0-cafc-4720-b74f-42840b3068a7\",\"type\":\"Row\"},{\"attributes\":{},\"id\":\"afe7b1ac-b76b-46de-9f05-23e6711a420d\",\"type\":\"CategoricalTickFormatter\"},{\"attributes\":{},\"id\":\"572cf1d5-28d8-4a11-9bc0-1371f10b3cd6\",\"type\":\"BasicTickFormatter\"},{\"attributes\":{\"children\":[{\"id\":\"cb9ac2f1-013b-4d6d-9db9-c1ade0093344\",\"type\":\"ToolbarBox\"},{\"id\":\"e547b7ae-b77e-488e-b812-d7a83da91bcc\",\"type\":\"Column\"}]},\"id\":\"256c047a-4a1f-4682-967a-6d78b73f1348\",\"type\":\"Column\"},{\"attributes\":{\"callback\":null},\"id\":\"d632afcb-394d-4aee-b2d4-8b3ba68f0f9e\",\"type\":\"DataRange1d\"},{\"attributes\":{\"below\":[{\"id\":\"ae3aa7dc-341c-4542-83d9-d21014fa0b3d\",\"type\":\"CategoricalAxis\"}],\"left\":[{\"id\":\"2d4bb913-11b6-4c02-b7b7-b657e7ccdac2\",\"type\":\"LinearAxis\"}],\"plot_height\":300,\"plot_width\":300,\"renderers\":[{\"id\":\"ae3aa7dc-341c-4542-83d9-d21014fa0b3d\",\"type\":\"CategoricalAxis\"},{\"id\":\"07936bcc-6429-4d0f-8bab-feed06d591b2\",\"type\":\"Grid\"},{\"id\":\"2d4bb913-11b6-4c02-b7b7-b657e7ccdac2\",\"type\":\"LinearAxis\"},{\"id\":\"0e25a897-22b3-480c-9761-113bbe6421dc\",\"type\":\"Grid\"},{\"id\":\"f992b158-d72d-485d-8c5e-2fa652a90837\",\"type\":\"BoxAnnotation\"},{\"id\":\"b49f6049-23fe-4d91-b6ee-49d3ac917a2a\",\"type\":\"GlyphRenderer\"}],\"title\":{\"id\":\"d75b75ee-8550-4d94-a502-42e8719ea637\",\"type\":\"Title\"},\"toolbar\":{\"id\":\"4eb86cff-049d-4e73-89bf-41f2af059cdf\",\"type\":\"Toolbar\"},\"toolbar_location\":null,\"x_range\":{\"id\":\"83d6ee6d-8528-4928-92e6-609082967408\",\"type\":\"FactorRange\"},\"x_scale\":{\"id\":\"cdb53f69-39ca-41ea-a13f-1a5d7d741b9a\",\"type\":\"CategoricalScale\"},\"y_range\":{\"id\":\"d632afcb-394d-4aee-b2d4-8b3ba68f0f9e\",\"type\":\"DataRange1d\"},\"y_scale\":{\"id\":\"e1473ba4-8857-46ea-b264-47cd7258b1be\",\"type\":\"LinearScale\"}},\"id\":\"abe4a07e-caed-43bf-b2b0-a66bee372ac4\",\"subtype\":\"Figure\",\"type\":\"Plot\"},{\"attributes\":{\"fill_alpha\":{\"value\":0.1},\"fill_color\":{\"value\":\"#1f77b4\"},\"line_alpha\":{\"value\":0.1},\"line_color\":{\"value\":\"#1f77b4\"},\"top\":{\"field\":\"flux\"},\"width\":{\"value\":0.9},\"x\":{\"field\":\"band\"}},\"id\":\"e95e2c14-5133-4d72-a9b3-35f0f4b9db5d\",\"type\":\"VBar\"},{\"attributes\":{\"data_source\":{\"id\":\"0d9d27ef-3ac9-4c15-861a-7a123c40b849\",\"type\":\"ColumnDataSource\"},\"glyph\":{\"id\":\"db264d71-bb26-4e97-8d4f-a76c035d7c19\",\"type\":\"VBar\"},\"hover_glyph\":null,\"muted_glyph\":null,\"nonselection_glyph\":{\"id\":\"e95e2c14-5133-4d72-a9b3-35f0f4b9db5d\",\"type\":\"VBar\"},\"selection_glyph\":null,\"view\":{\"id\":\"a728e617-4c29-4424-96f4-18c9e1174f6f\",\"type\":\"CDSView\"}},\"id\":\"41f9133a-aec9-45d9-8946-7c4f94ab05e5\",\"type\":\"GlyphRenderer\"},{\"attributes\":{},\"id\":\"7c3f1c10-95b0-43ba-b4f3-a5124e4d6422\",\"type\":\"PanTool\"},{\"attributes\":{},\"id\":\"0d50ff62-8f5a-463f-b839-882e7e90ed60\",\"type\":\"Selection\"},{\"attributes\":{\"source\":{\"id\":\"0d9d27ef-3ac9-4c15-861a-7a123c40b849\",\"type\":\"ColumnDataSource\"}},\"id\":\"a728e617-4c29-4424-96f4-18c9e1174f6f\",\"type\":\"CDSView\"},{\"attributes\":{},\"id\":\"653eace3-8f1e-494b-8cdd-9f4b38db672e\",\"type\":\"UnionRenderers\"},{\"attributes\":{},\"id\":\"3f51ebfc-20f6-41af-a71e-788bb25b364f\",\"type\":\"Selection\"},{\"attributes\":{},\"id\":\"ebe4f6d5-ca17-4f0f-931f-244c835694af\",\"type\":\"HelpTool\"},{\"attributes\":{},\"id\":\"a25a46e3-b9c3-49a7-91b1-328841ea0d17\",\"type\":\"HelpTool\"},{\"attributes\":{\"source\":{\"id\":\"60485df3-ebd2-434e-a9aa-c90b75d74ea6\",\"type\":\"ColumnDataSource\"}},\"id\":\"9733af82-4328-4c85-901f-b1e61c4eede0\",\"type\":\"CDSView\"},{\"attributes\":{},\"id\":\"1867038f-3ace-49b1-bbcf-88c026c5dea7\",\"type\":\"PanTool\"},{\"attributes\":{\"dimension\":1,\"plot\":{\"id\":\"cfdf414f-115a-4111-a7d3-58a5b0cbfcd6\",\"subtype\":\"Figure\",\"type\":\"Plot\"},\"ticker\":{\"id\":\"77d614ec-6548-4010-8ea1-8a9be1691553\",\"type\":\"BasicTicker\"}},\"id\":\"0f7a7956-7608-4cb9-b787-95882ac49590\",\"type\":\"Grid\"},{\"attributes\":{},\"id\":\"71fd4517-3396-4591-b87d-ef10e5e35585\",\"type\":\"UnionRenderers\"},{\"attributes\":{\"tools\":[{\"id\":\"b40437d0-e956-4d28-bedc-b0eda3dbf1e6\",\"type\":\"PanTool\"},{\"id\":\"97b24cb7-b124-4d30-b295-224039052f71\",\"type\":\"WheelZoomTool\"},{\"id\":\"abc9e550-2460-4f95-9fbd-a0f3587fc16e\",\"type\":\"BoxZoomTool\"},{\"id\":\"07bb01d8-a001-4ff2-a0eb-e428a61f9903\",\"type\":\"SaveTool\"},{\"id\":\"376d9416-8699-4311-858e-80d5363fc405\",\"type\":\"ResetTool\"},{\"id\":\"ce92a540-47de-4d34-a31c-e299f452a93b\",\"type\":\"HelpTool\"},{\"id\":\"1867038f-3ace-49b1-bbcf-88c026c5dea7\",\"type\":\"PanTool\"},{\"id\":\"62d37cf7-73df-49f1-b9e8-56db5f1ed1f8\",\"type\":\"WheelZoomTool\"},{\"id\":\"1703102b-0d1c-4605-a675-5bebad7bfabb\",\"type\":\"BoxZoomTool\"},{\"id\":\"17dc4bda-9b4d-4fa1-84f6-fce6ff87d3c8\",\"type\":\"SaveTool\"},{\"id\":\"21921cfb-324e-46ab-9b5a-7fbd8bb3a879\",\"type\":\"ResetTool\"},{\"id\":\"ebe4f6d5-ca17-4f0f-931f-244c835694af\",\"type\":\"HelpTool\"},{\"id\":\"7c3f1c10-95b0-43ba-b4f3-a5124e4d6422\",\"type\":\"PanTool\"},{\"id\":\"18f35e81-1d27-4f89-a9fc-01290f9d77b7\",\"type\":\"WheelZoomTool\"},{\"id\":\"16dfba25-0dbe-4f67-8da8-95ac96a99479\",\"type\":\"BoxZoomTool\"},{\"id\":\"545181d3-689f-40c7-aa3f-d75abe85836d\",\"type\":\"SaveTool\"},{\"id\":\"b6c8f29d-b043-4c28-be17-259421d4e2b7\",\"type\":\"ResetTool\"},{\"id\":\"a25a46e3-b9c3-49a7-91b1-328841ea0d17\",\"type\":\"HelpTool\"}]},\"id\":\"4f836c33-0b00-41ad-8605-b4d4336e0920\",\"type\":\"ProxyToolbar\"},{\"attributes\":{\"callback\":null,\"factors\":[\"1\",\"2\",\"3\",\"4\",\"5\",\"6\",\"7\",\"8\",\"9\",\"10\",\"11\"]},\"id\":\"57b9714f-0a7f-4df5-8ee4-9ebd31a7f3b7\",\"type\":\"FactorRange\"},{\"attributes\":{\"plot\":{\"id\":\"abe4a07e-caed-43bf-b2b0-a66bee372ac4\",\"subtype\":\"Figure\",\"type\":\"Plot\"},\"ticker\":{\"id\":\"a72e5d07-d3d5-4461-8be0-737771b71bcd\",\"type\":\"CategoricalTicker\"}},\"id\":\"07936bcc-6429-4d0f-8bab-feed06d591b2\",\"type\":\"Grid\"},{\"attributes\":{\"fill_alpha\":{\"value\":0.1},\"fill_color\":{\"value\":\"#1f77b4\"},\"line_alpha\":{\"value\":0.1},\"line_color\":{\"value\":\"#1f77b4\"},\"top\":{\"field\":\"flux\"},\"width\":{\"value\":0.9},\"x\":{\"field\":\"band\"}},\"id\":\"60d831fc-e1d0-4f6b-906c-3d7420923754\",\"type\":\"VBar\"},{\"attributes\":{\"fill_color\":{\"value\":\"#1f77b4\"},\"line_color\":{\"value\":\"#1f77b4\"},\"top\":{\"field\":\"flux\"},\"width\":{\"value\":0.9},\"x\":{\"field\":\"band\"}},\"id\":\"37f6c7b2-7a45-4c06-90fe-cb9d9ee757f7\",\"type\":\"VBar\"},{\"attributes\":{\"axis_label\":\"flux (W m-2)\",\"formatter\":{\"id\":\"9dbbdc82-7787-4e73-81d9-93eee61b7919\",\"type\":\"BasicTickFormatter\"},\"plot\":{\"id\":\"21b40057-3380-4ad6-bd87-996b02c65003\",\"subtype\":\"Figure\",\"type\":\"Plot\"},\"ticker\":{\"id\":\"f9702761-b51b-4015-b65c-5bb736485c4c\",\"type\":\"BasicTicker\"}},\"id\":\"a268f06a-2e94-4ac4-9472-77e53205eb9b\",\"type\":\"LinearAxis\"},{\"attributes\":{},\"id\":\"8c88305d-8e9b-4045-a69a-e0e47aef5865\",\"type\":\"CategoricalScale\"},{\"attributes\":{\"callback\":null,\"data\":{\"band\":[\"1\",\"2\",\"3\",\"4\",\"5\",\"6\",\"7\",\"8\",\"9\",\"10\",\"11\"],\"flux\":{\"__ndarray__\":\"AJJCWfj6yj+AQ1VMpZ/UP0BNZVHYRdO/UGMJa2Ps4T8ADykGSDTUPwDo9SfxuaO/AMo329yYzj+AW7G/7J7OPwDC9pMxPpw/4IZphCPtwT9AYfXsXpPHPw==\",\"dtype\":\"float64\",\"shape\":[11]}},\"selected\":{\"id\":\"0d50ff62-8f5a-463f-b839-882e7e90ed60\",\"type\":\"Selection\"},\"selection_policy\":{\"id\":\"71fd4517-3396-4591-b87d-ef10e5e35585\",\"type\":\"UnionRenderers\"}},\"id\":\"9db1ede9-830d-4324-9738-64e9cf59cc1f\",\"type\":\"ColumnDataSource\"},{\"attributes\":{},\"id\":\"f9702761-b51b-4015-b65c-5bb736485c4c\",\"type\":\"BasicTicker\"},{\"attributes\":{\"plot\":null,\"text\":\"SFC flux. CLIRAD (single-run) - CRD.\"},\"id\":\"d75b75ee-8550-4d94-a502-42e8719ea637\",\"type\":\"Title\"},{\"attributes\":{\"callback\":null},\"id\":\"7694eba6-d590-4bd7-a338-1cdf62ffec4d\",\"type\":\"DataRange1d\"},{\"attributes\":{\"callback\":null},\"id\":\"a1e26f9d-e0fb-444c-8269-66cbf57d5e74\",\"type\":\"DataRange1d\"},{\"attributes\":{\"plot\":null,\"text\":\"TOA flux. CLIRAD (single-run) - CRD.\"},\"id\":\"f12a9217-f4d0-44d6-8ff0-8cdb4b87621d\",\"type\":\"Title\"},{\"attributes\":{},\"id\":\"20c4da99-560b-44e8-97dc-956060f154cc\",\"type\":\"LinearScale\"},{\"attributes\":{\"dimension\":1,\"plot\":{\"id\":\"abe4a07e-caed-43bf-b2b0-a66bee372ac4\",\"subtype\":\"Figure\",\"type\":\"Plot\"},\"ticker\":{\"id\":\"43b4f270-16a9-4970-b3ce-361d6760ce63\",\"type\":\"BasicTicker\"}},\"id\":\"0e25a897-22b3-480c-9761-113bbe6421dc\",\"type\":\"Grid\"},{\"attributes\":{\"active_drag\":\"auto\",\"active_inspect\":\"auto\",\"active_scroll\":\"auto\",\"active_tap\":\"auto\",\"tools\":[{\"id\":\"1867038f-3ace-49b1-bbcf-88c026c5dea7\",\"type\":\"PanTool\"},{\"id\":\"62d37cf7-73df-49f1-b9e8-56db5f1ed1f8\",\"type\":\"WheelZoomTool\"},{\"id\":\"1703102b-0d1c-4605-a675-5bebad7bfabb\",\"type\":\"BoxZoomTool\"},{\"id\":\"17dc4bda-9b4d-4fa1-84f6-fce6ff87d3c8\",\"type\":\"SaveTool\"},{\"id\":\"21921cfb-324e-46ab-9b5a-7fbd8bb3a879\",\"type\":\"ResetTool\"},{\"id\":\"ebe4f6d5-ca17-4f0f-931f-244c835694af\",\"type\":\"HelpTool\"}]},\"id\":\"4eb86cff-049d-4e73-89bf-41f2af059cdf\",\"type\":\"Toolbar\"},{\"attributes\":{\"axis_label\":\"spectral band\",\"formatter\":{\"id\":\"1a474cb1-5ef9-447d-a8d9-0adfd1fbe3fe\",\"type\":\"CategoricalTickFormatter\"},\"plot\":{\"id\":\"21b40057-3380-4ad6-bd87-996b02c65003\",\"subtype\":\"Figure\",\"type\":\"Plot\"},\"ticker\":{\"id\":\"8f994568-3e70-409d-a5b3-682859d36603\",\"type\":\"CategoricalTicker\"}},\"id\":\"2469fd4c-184a-4907-8359-c6302a12d219\",\"type\":\"CategoricalAxis\"},{\"attributes\":{},\"id\":\"b40437d0-e956-4d28-bedc-b0eda3dbf1e6\",\"type\":\"PanTool\"},{\"attributes\":{\"callback\":null,\"factors\":[\"1\",\"2\",\"3\",\"4\",\"5\",\"6\",\"7\",\"8\",\"9\",\"10\",\"11\"]},\"id\":\"6a8e62bc-5a0f-47f5-a40c-5660a58b8882\",\"type\":\"FactorRange\"},{\"attributes\":{},\"id\":\"43b4f270-16a9-4970-b3ce-361d6760ce63\",\"type\":\"BasicTicker\"},{\"attributes\":{\"below\":[{\"id\":\"66692278-72df-46ff-bca9-c11161e9fa14\",\"type\":\"CategoricalAxis\"}],\"left\":[{\"id\":\"2aa5e7e8-de95-4d78-bf1c-5279dd45e01a\",\"type\":\"LinearAxis\"}],\"plot_height\":300,\"plot_width\":300,\"renderers\":[{\"id\":\"66692278-72df-46ff-bca9-c11161e9fa14\",\"type\":\"CategoricalAxis\"},{\"id\":\"c350e1bb-3f35-440c-af65-e8bcf40fafa8\",\"type\":\"Grid\"},{\"id\":\"2aa5e7e8-de95-4d78-bf1c-5279dd45e01a\",\"type\":\"LinearAxis\"},{\"id\":\"0f7a7956-7608-4cb9-b787-95882ac49590\",\"type\":\"Grid\"},{\"id\":\"0cd5f36f-b71f-4ae4-bd29-127a988736f6\",\"type\":\"BoxAnnotation\"},{\"id\":\"41f9133a-aec9-45d9-8946-7c4f94ab05e5\",\"type\":\"GlyphRenderer\"}],\"title\":{\"id\":\"391d1f8d-f18c-4fd6-9c66-f10d091f2101\",\"type\":\"Title\"},\"toolbar\":{\"id\":\"fb4f2269-414e-40f0-a248-6d19ea483934\",\"type\":\"Toolbar\"},\"toolbar_location\":null,\"x_range\":{\"id\":\"57b9714f-0a7f-4df5-8ee4-9ebd31a7f3b7\",\"type\":\"FactorRange\"},\"x_scale\":{\"id\":\"8c88305d-8e9b-4045-a69a-e0e47aef5865\",\"type\":\"CategoricalScale\"},\"y_range\":{\"id\":\"a1e26f9d-e0fb-444c-8269-66cbf57d5e74\",\"type\":\"DataRange1d\"},\"y_scale\":{\"id\":\"20c4da99-560b-44e8-97dc-956060f154cc\",\"type\":\"LinearScale\"}},\"id\":\"cfdf414f-115a-4111-a7d3-58a5b0cbfcd6\",\"subtype\":\"Figure\",\"type\":\"Plot\"},{\"attributes\":{\"fill_color\":{\"value\":\"#1f77b4\"},\"line_color\":{\"value\":\"#1f77b4\"},\"top\":{\"field\":\"flux\"},\"width\":{\"value\":0.9},\"x\":{\"field\":\"band\"}},\"id\":\"922d13af-19b0-4996-a849-8ed0552e56ac\",\"type\":\"VBar\"},{\"attributes\":{},\"id\":\"b566598a-2925-4aad-9571-2eb5e0a66a86\",\"type\":\"Selection\"},{\"attributes\":{\"bottom_units\":\"screen\",\"fill_alpha\":{\"value\":0.5},\"fill_color\":{\"value\":\"lightgrey\"},\"left_units\":\"screen\",\"level\":\"overlay\",\"line_alpha\":{\"value\":1.0},\"line_color\":{\"value\":\"black\"},\"line_dash\":[4,4],\"line_width\":{\"value\":2},\"plot\":null,\"render_mode\":\"css\",\"right_units\":\"screen\",\"top_units\":\"screen\"},\"id\":\"9104bf4b-57a8-4862-aebf-e1c675846c12\",\"type\":\"BoxAnnotation\"},{\"attributes\":{},\"id\":\"376d9416-8699-4311-858e-80d5363fc405\",\"type\":\"ResetTool\"},{\"attributes\":{\"axis_label\":\"spectral band\",\"formatter\":{\"id\":\"afe7b1ac-b76b-46de-9f05-23e6711a420d\",\"type\":\"CategoricalTickFormatter\"},\"plot\":{\"id\":\"abe4a07e-caed-43bf-b2b0-a66bee372ac4\",\"subtype\":\"Figure\",\"type\":\"Plot\"},\"ticker\":{\"id\":\"a72e5d07-d3d5-4461-8be0-737771b71bcd\",\"type\":\"CategoricalTicker\"}},\"id\":\"ae3aa7dc-341c-4542-83d9-d21014fa0b3d\",\"type\":\"CategoricalAxis\"},{\"attributes\":{},\"id\":\"cb005202-aed8-4e8d-a267-c6ed0d3971da\",\"type\":\"LinearScale\"},{\"attributes\":{},\"id\":\"a72e5d07-d3d5-4461-8be0-737771b71bcd\",\"type\":\"CategoricalTicker\"},{\"attributes\":{\"plot\":null,\"text\":\"Atmosphere heating. CLIRAD (single-run) - CRD.\"},\"id\":\"391d1f8d-f18c-4fd6-9c66-f10d091f2101\",\"type\":\"Title\"},{\"attributes\":{},\"id\":\"ce92a540-47de-4d34-a31c-e299f452a93b\",\"type\":\"HelpTool\"},{\"attributes\":{\"axis_label\":\"flux (W m-2)\",\"formatter\":{\"id\":\"570116f8-11d9-4241-9fd9-f6ec4b0882b2\",\"type\":\"BasicTickFormatter\"},\"plot\":{\"id\":\"abe4a07e-caed-43bf-b2b0-a66bee372ac4\",\"subtype\":\"Figure\",\"type\":\"Plot\"},\"ticker\":{\"id\":\"43b4f270-16a9-4970-b3ce-361d6760ce63\",\"type\":\"BasicTicker\"}},\"id\":\"2d4bb913-11b6-4c02-b7b7-b657e7ccdac2\",\"type\":\"LinearAxis\"},{\"attributes\":{\"source\":{\"id\":\"9db1ede9-830d-4324-9738-64e9cf59cc1f\",\"type\":\"ColumnDataSource\"}},\"id\":\"d823a5bb-cf75-4b84-a9a1-bc686b12f3fb\",\"type\":\"CDSView\"},{\"attributes\":{\"below\":[{\"id\":\"2469fd4c-184a-4907-8359-c6302a12d219\",\"type\":\"CategoricalAxis\"}],\"left\":[{\"id\":\"a268f06a-2e94-4ac4-9472-77e53205eb9b\",\"type\":\"LinearAxis\"}],\"plot_height\":300,\"plot_width\":300,\"renderers\":[{\"id\":\"2469fd4c-184a-4907-8359-c6302a12d219\",\"type\":\"CategoricalAxis\"},{\"id\":\"7e5078de-3c31-44db-8699-4a5d192e4c68\",\"type\":\"Grid\"},{\"id\":\"a268f06a-2e94-4ac4-9472-77e53205eb9b\",\"type\":\"LinearAxis\"},{\"id\":\"fd71818f-1278-4022-8b61-3d56ebb71d64\",\"type\":\"Grid\"},{\"id\":\"9104bf4b-57a8-4862-aebf-e1c675846c12\",\"type\":\"BoxAnnotation\"},{\"id\":\"cc51b7d2-69aa-45ec-83a4-d3b00789b1d0\",\"type\":\"GlyphRenderer\"}],\"title\":{\"id\":\"f12a9217-f4d0-44d6-8ff0-8cdb4b87621d\",\"type\":\"Title\"},\"toolbar\":{\"id\":\"932d411a-8a8c-429a-be90-e0b7feac0191\",\"type\":\"Toolbar\"},\"toolbar_location\":null,\"x_range\":{\"id\":\"6a8e62bc-5a0f-47f5-a40c-5660a58b8882\",\"type\":\"FactorRange\"},\"x_scale\":{\"id\":\"1c88159f-1654-4291-ac7c-2513b02bbf44\",\"type\":\"CategoricalScale\"},\"y_range\":{\"id\":\"7694eba6-d590-4bd7-a338-1cdf62ffec4d\",\"type\":\"DataRange1d\"},\"y_scale\":{\"id\":\"cb005202-aed8-4e8d-a267-c6ed0d3971da\",\"type\":\"LinearScale\"}},\"id\":\"21b40057-3380-4ad6-bd87-996b02c65003\",\"subtype\":\"Figure\",\"type\":\"Plot\"},{\"attributes\":{\"dimension\":1,\"plot\":{\"id\":\"21b40057-3380-4ad6-bd87-996b02c65003\",\"subtype\":\"Figure\",\"type\":\"Plot\"},\"ticker\":{\"id\":\"f9702761-b51b-4015-b65c-5bb736485c4c\",\"type\":\"BasicTicker\"}},\"id\":\"fd71818f-1278-4022-8b61-3d56ebb71d64\",\"type\":\"Grid\"},{\"attributes\":{\"data_source\":{\"id\":\"9db1ede9-830d-4324-9738-64e9cf59cc1f\",\"type\":\"ColumnDataSource\"},\"glyph\":{\"id\":\"922d13af-19b0-4996-a849-8ed0552e56ac\",\"type\":\"VBar\"},\"hover_glyph\":null,\"muted_glyph\":null,\"nonselection_glyph\":{\"id\":\"dac76448-4cab-4658-b70c-8089bb3ae73c\",\"type\":\"VBar\"},\"selection_glyph\":null,\"view\":{\"id\":\"d823a5bb-cf75-4b84-a9a1-bc686b12f3fb\",\"type\":\"CDSView\"}},\"id\":\"cc51b7d2-69aa-45ec-83a4-d3b00789b1d0\",\"type\":\"GlyphRenderer\"},{\"attributes\":{\"callback\":null,\"data\":{\"band\":[\"1\",\"2\",\"3\",\"4\",\"5\",\"6\",\"7\",\"8\",\"9\",\"10\",\"11\"],\"flux\":{\"__ndarray__\":\"AFB2r2r7yj8AtBBHyz+yPwD3EENhBrm/wNV8jQsE4D/AGtmVlpHSv4DRqpZ0lN+/gII3pFGBxT8ABFWjVwOkv6D51RwgGNC/QC7gp6JfwD/gGfRK/sy9Pw==\",\"dtype\":\"float64\",\"shape\":[11]}},\"selected\":{\"id\":\"3f51ebfc-20f6-41af-a71e-788bb25b364f\",\"type\":\"Selection\"},\"selection_policy\":{\"id\":\"e4151904-0c47-4a66-8fd4-2e68f2fcbadb\",\"type\":\"UnionRenderers\"}},\"id\":\"0d9d27ef-3ac9-4c15-861a-7a123c40b849\",\"type\":\"ColumnDataSource\"},{\"attributes\":{},\"id\":\"97b24cb7-b124-4d30-b295-224039052f71\",\"type\":\"WheelZoomTool\"},{\"attributes\":{},\"id\":\"07bb01d8-a001-4ff2-a0eb-e428a61f9903\",\"type\":\"SaveTool\"},{\"attributes\":{\"active_drag\":\"auto\",\"active_inspect\":\"auto\",\"active_scroll\":\"auto\",\"active_tap\":\"auto\",\"tools\":[{\"id\":\"b40437d0-e956-4d28-bedc-b0eda3dbf1e6\",\"type\":\"PanTool\"},{\"id\":\"97b24cb7-b124-4d30-b295-224039052f71\",\"type\":\"WheelZoomTool\"},{\"id\":\"abc9e550-2460-4f95-9fbd-a0f3587fc16e\",\"type\":\"BoxZoomTool\"},{\"id\":\"07bb01d8-a001-4ff2-a0eb-e428a61f9903\",\"type\":\"SaveTool\"},{\"id\":\"376d9416-8699-4311-858e-80d5363fc405\",\"type\":\"ResetTool\"},{\"id\":\"ce92a540-47de-4d34-a31c-e299f452a93b\",\"type\":\"HelpTool\"}]},\"id\":\"932d411a-8a8c-429a-be90-e0b7feac0191\",\"type\":\"Toolbar\"},{\"attributes\":{},\"id\":\"8f994568-3e70-409d-a5b3-682859d36603\",\"type\":\"CategoricalTicker\"},{\"attributes\":{\"overlay\":{\"id\":\"9104bf4b-57a8-4862-aebf-e1c675846c12\",\"type\":\"BoxAnnotation\"}},\"id\":\"abc9e550-2460-4f95-9fbd-a0f3587fc16e\",\"type\":\"BoxZoomTool\"},{\"attributes\":{\"active_drag\":\"auto\",\"active_inspect\":\"auto\",\"active_scroll\":\"auto\",\"active_tap\":\"auto\",\"tools\":[{\"id\":\"7c3f1c10-95b0-43ba-b4f3-a5124e4d6422\",\"type\":\"PanTool\"},{\"id\":\"18f35e81-1d27-4f89-a9fc-01290f9d77b7\",\"type\":\"WheelZoomTool\"},{\"id\":\"16dfba25-0dbe-4f67-8da8-95ac96a99479\",\"type\":\"BoxZoomTool\"},{\"id\":\"545181d3-689f-40c7-aa3f-d75abe85836d\",\"type\":\"SaveTool\"},{\"id\":\"b6c8f29d-b043-4c28-be17-259421d4e2b7\",\"type\":\"ResetTool\"},{\"id\":\"a25a46e3-b9c3-49a7-91b1-328841ea0d17\",\"type\":\"HelpTool\"}]},\"id\":\"fb4f2269-414e-40f0-a248-6d19ea483934\",\"type\":\"Toolbar\"},{\"attributes\":{},\"id\":\"1c88159f-1654-4291-ac7c-2513b02bbf44\",\"type\":\"CategoricalScale\"},{\"attributes\":{},\"id\":\"e1473ba4-8857-46ea-b264-47cd7258b1be\",\"type\":\"LinearScale\"},{\"attributes\":{\"plot\":{\"id\":\"21b40057-3380-4ad6-bd87-996b02c65003\",\"subtype\":\"Figure\",\"type\":\"Plot\"},\"ticker\":{\"id\":\"8f994568-3e70-409d-a5b3-682859d36603\",\"type\":\"CategoricalTicker\"}},\"id\":\"7e5078de-3c31-44db-8699-4a5d192e4c68\",\"type\":\"Grid\"},{\"attributes\":{\"fill_alpha\":{\"value\":0.1},\"fill_color\":{\"value\":\"#1f77b4\"},\"line_alpha\":{\"value\":0.1},\"line_color\":{\"value\":\"#1f77b4\"},\"top\":{\"field\":\"flux\"},\"width\":{\"value\":0.9},\"x\":{\"field\":\"band\"}},\"id\":\"dac76448-4cab-4658-b70c-8089bb3ae73c\",\"type\":\"VBar\"}],\"root_ids\":[\"256c047a-4a1f-4682-967a-6d78b73f1348\"]},\"title\":\"Bokeh Application\",\"version\":\"0.12.16\"}};\n",
       "  var render_items = [{\"docid\":\"1e0d8d95-faf3-4e42-8245-606e813d5d72\",\"elementid\":\"5ed981a0-641a-450e-ae5a-7d663c148d72\",\"modelid\":\"256c047a-4a1f-4682-967a-6d78b73f1348\"}];\n",
       "  root.Bokeh.embed.embed_items_notebook(docs_json, render_items);\n",
       "\n",
       "  }\n",
       "  if (root.Bokeh !== undefined) {\n",
       "    embed_document(root);\n",
       "  } else {\n",
       "    var attempts = 0;\n",
       "    var timer = setInterval(function(root) {\n",
       "      if (root.Bokeh !== undefined) {\n",
       "        embed_document(root);\n",
       "        clearInterval(timer);\n",
       "      }\n",
       "      attempts++;\n",
       "      if (attempts > 100) {\n",
       "        console.log(\"Bokeh: ERROR: Unable to run BokehJS code because BokehJS library is missing\")\n",
       "        clearInterval(timer);\n",
       "      }\n",
       "    }, 10, root)\n",
       "  }\n",
       "})(window);"
      ],
      "application/vnd.bokehjs_exec.v0+json": ""
     },
     "metadata": {
      "application/vnd.bokehjs_exec.v0+json": {
       "id": "256c047a-4a1f-4682-967a-6d78b73f1348"
      }
     },
     "output_type": "display_data"
    },
    {
     "data": {
      "text/markdown": [
       "*FIGURE.* Difference between CLIRAD and CRD in TOA, SFC and net atmosphere flux, in each spectral band."
      ],
      "text/plain": [
       "<IPython.core.display.Markdown object>"
      ]
     },
     "metadata": {},
     "output_type": "display_data"
    },
    {
     "data": {
      "text/html": [
       "<div>\n",
       "<style scoped>\n",
       "    .dataframe tbody tr th:only-of-type {\n",
       "        vertical-align: middle;\n",
       "    }\n",
       "\n",
       "    .dataframe tbody tr th {\n",
       "        vertical-align: top;\n",
       "    }\n",
       "\n",
       "    .dataframe thead th {\n",
       "        text-align: right;\n",
       "    }\n",
       "</style>\n",
       "<table border=\"1\" class=\"dataframe\">\n",
       "  <thead>\n",
       "    <tr style=\"text-align: right;\">\n",
       "      <th></th>\n",
       "      <th>OLR flux</th>\n",
       "      <th>SFC flux</th>\n",
       "      <th>ATM heating</th>\n",
       "    </tr>\n",
       "    <tr>\n",
       "      <th>Sum over bands</th>\n",
       "      <th></th>\n",
       "      <th></th>\n",
       "      <th></th>\n",
       "    </tr>\n",
       "  </thead>\n",
       "  <tbody>\n",
       "    <tr>\n",
       "      <th>CLIRAD (single-run) - CRD</th>\n",
       "      <td>1.9</td>\n",
       "      <td>1.88</td>\n",
       "      <td>0.02</td>\n",
       "    </tr>\n",
       "    <tr>\n",
       "      <th>CRD</th>\n",
       "      <td>-303.4</td>\n",
       "      <td>337.24</td>\n",
       "      <td>-181.37</td>\n",
       "    </tr>\n",
       "  </tbody>\n",
       "</table>\n",
       "</div>"
      ],
      "text/plain": [
       "                           OLR flux  SFC flux  ATM heating\n",
       "Sum over bands                                            \n",
       "CLIRAD (single-run) - CRD       1.9      1.88         0.02\n",
       "CRD                          -303.4    337.24      -181.37"
      ]
     },
     "metadata": {},
     "output_type": "display_data"
    },
    {
     "data": {
      "text/markdown": [
       "*TABLE.* Difference between CLIRAD and CRD in TOA, SFC and net atmosphere flux, over all spectral bands. CRD's TOA, SFC and net atmosphere flux, over all spectral bands."
      ],
      "text/plain": [
       "<IPython.core.display.Markdown object>"
      ]
     },
     "metadata": {},
     "output_type": "display_data"
    }
   ],
   "source": [
    "def show_html(s):\n",
    "    display.display(display.HTML(s))\n",
    "\n",
    "    \n",
    "def show_markdown(s):\n",
    "    display.display(display.Markdown(s))\n",
    "\n",
    "\n",
    "def script():\n",
    "    \n",
    "    d_atm = {'mls': 'mid-latitude summer',\n",
    "             'saw': 'sub-arctic winter',\n",
    "             'trp': 'tropical'}\n",
    "    \n",
    "    title = ('## Results over entire range of molecules'\n",
    "             ' and spectral bands')\n",
    "    \n",
    "    s_makeup = 'Makeup of atmosphere.'\n",
    "    s_atmpro = '# {}'\n",
    "    s_cool = 'Cooling rates. {}.'\n",
    "    s_flux = 'Fluxes. {}.'\n",
    "    \n",
    "    atmpros = ['mls', 'saw', 'trp']\n",
    "    \n",
    "    # TOC\n",
    "    show_markdown(title)\n",
    "    show_markdown('### Table of Contents')\n",
    "    show_html(climahtml.getHTML_hrefanchor(s_makeup))\n",
    "    for atmpro in atmpros:\n",
    "        show_markdown('**' + d_atm[atmpro] + '**')\n",
    "        show_html(climahtml.getHTML_hrefanchor(s_cool.format(atmpro)))\n",
    "        show_html(climahtml.getHTML_hrefanchor(s_flux.format(atmpro)))\n",
    "\n",
    "        \n",
    "    # Atmosphere makeup\n",
    "    show_html(climahtml.getHTML_idanchor(s_makeup))\n",
    "    show_markdown(climahtml.getMarkdown_sectitle(s_makeup))\n",
    "    show_makeup()\n",
    "        \n",
    "    for atmpro in atmpros:\n",
    "        show_html(climahtml.getHTML_idanchor(s_cool.format(atmpro)))\n",
    "        show_markdown(\n",
    "            climahtml.getMarkdown_sectitle(s_cool.format(atmpro)))\n",
    "        show_cool(atmpro=atmpro)\n",
    "        show_html(climahtml.getHTML_idanchor(s_flux.format(atmpro)))\n",
    "        show_markdown(\n",
    "            climahtml.getMarkdown_sectitle(s_flux.format(atmpro)))\n",
    "        show_hist_flux(atmpro=atmpro)\n",
    "        show_tb_flux(atmpro=atmpro)\n",
    "    \n",
    "    \n",
    "script()  "
   ]
  },
  {
   "cell_type": "code",
   "execution_count": null,
   "metadata": {
    "collapsed": true
   },
   "outputs": [],
   "source": []
  },
  {
   "cell_type": "code",
   "execution_count": 384,
   "metadata": {},
   "outputs": [
    {
     "data": {
      "text/html": [
       "<script>\n",
       "code_show=true; \n",
       "function code_toggle() {\n",
       " if (code_show){\n",
       " $('div.input').hide();\n",
       " } else {\n",
       " $('div.input').show();\n",
       " }\n",
       " code_show = !code_show\n",
       "} \n",
       "$( document ).ready(code_toggle);\n",
       "</script>\n",
       "<form action=\"javascript:code_toggle()\"><input type=\"submit\" value=\"Click here to toggle on/off the raw code.\"></form>"
      ],
      "text/plain": [
       "<IPython.core.display.HTML object>"
      ]
     },
     "execution_count": 384,
     "metadata": {},
     "output_type": "execute_result"
    }
   ],
   "source": [
    "display.HTML('''<script>\n",
    "code_show=true; \n",
    "function code_toggle() {\n",
    " if (code_show){\n",
    " $('div.input').hide();\n",
    " } else {\n",
    " $('div.input').show();\n",
    " }\n",
    " code_show = !code_show\n",
    "} \n",
    "$( document ).ready(code_toggle);\n",
    "</script>\n",
    "<form action=\"javascript:code_toggle()\"><input type=\"submit\" value=\"Click here to toggle on/off the raw code.\"></form>''')"
   ]
  },
  {
   "cell_type": "code",
   "execution_count": null,
   "metadata": {
    "collapsed": true
   },
   "outputs": [],
   "source": []
  }
 ],
 "metadata": {
  "kernelspec": {
   "display_name": "Python 3",
   "language": "python",
   "name": "python3"
  },
  "language_info": {
   "codemirror_mode": {
    "name": "ipython",
    "version": 3
   },
   "file_extension": ".py",
   "mimetype": "text/x-python",
   "name": "python",
   "nbconvert_exporter": "python",
   "pygments_lexer": "ipython3",
   "version": "3.6.1"
  }
 },
 "nbformat": 4,
 "nbformat_minor": 2
}
