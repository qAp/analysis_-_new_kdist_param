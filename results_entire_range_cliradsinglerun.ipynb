{
 "cells": [
  {
   "cell_type": "code",
   "execution_count": 497,
   "metadata": {
    "collapsed": true
   },
   "outputs": [],
   "source": [
    "import os\n",
    "import ast\n",
    "import json\n",
    "import importlib \n",
    "import itertools\n",
    "import collections\n",
    "import pprint\n",
    "\n",
    "from bokeh.io import output_notebook, show\n",
    "from bokeh.layouts import gridplot\n",
    "from bokeh.plotting import figure\n",
    "from bokeh.models import Range1d, Legend, ColumnDataSource, FactorRange\n",
    "from bokeh.palettes import all_palettes\n",
    "from bokeh.transform import factor_cmap\n",
    "\n",
    "import matplotlib\n",
    "import matplotlib.pyplot as plt\n",
    "import numpy as np\n",
    "import pandas as pd\n",
    "import xarray as xr\n",
    "\n",
    "\n",
    "import climatools.lblnew.bestfit_params as bestfits\n",
    "from climatools.lblnew import setup_bestfit, setup_overlap\n",
    "import climatools.lblnew.pipeline as pipe_lblnew\n",
    "import climatools.cliradlw.setup as setup_cliradlw\n",
    "import climatools.cliradlw.pipeline as pipe_cliradlw\n",
    "\n",
    "import climatools.html.html as climahtml\n",
    "from climatools.lblnew.dataio import *\n",
    "from climatools.plot.plot import *\n",
    "\n",
    "\n",
    "from IPython import display\n",
    "\n",
    "#importlib.reload(bestfits)\n",
    "#importlib.reload(setup_bestfit)\n",
    "#importlib.reload(setup_overlap)\n",
    "#importlib.reload(pipe_lblnew)\n",
    "#importlib.reload(setup_cliradlw)\n",
    "#importlib.reload(pipe_cliradlw)"
   ]
  },
  {
   "cell_type": "code",
   "execution_count": 498,
   "metadata": {
    "scrolled": true
   },
   "outputs": [
    {
     "data": {
      "text/html": [
       "\n",
       "    <div class=\"bk-root\">\n",
       "        <a href=\"https://bokeh.pydata.org\" target=\"_blank\" class=\"bk-logo bk-logo-small bk-logo-notebook\"></a>\n",
       "        <span id=\"ab87fae5-359d-4b5c-b65b-855488daf7ec\">Loading BokehJS ...</span>\n",
       "    </div>"
      ]
     },
     "metadata": {},
     "output_type": "display_data"
    },
    {
     "data": {
      "application/javascript": [
       "\n",
       "(function(root) {\n",
       "  function now() {\n",
       "    return new Date();\n",
       "  }\n",
       "\n",
       "  var force = true;\n",
       "\n",
       "  if (typeof (root._bokeh_onload_callbacks) === \"undefined\" || force === true) {\n",
       "    root._bokeh_onload_callbacks = [];\n",
       "    root._bokeh_is_loading = undefined;\n",
       "  }\n",
       "\n",
       "  var JS_MIME_TYPE = 'application/javascript';\n",
       "  var HTML_MIME_TYPE = 'text/html';\n",
       "  var EXEC_MIME_TYPE = 'application/vnd.bokehjs_exec.v0+json';\n",
       "  var CLASS_NAME = 'output_bokeh rendered_html';\n",
       "\n",
       "  /**\n",
       "   * Render data to the DOM node\n",
       "   */\n",
       "  function render(props, node) {\n",
       "    var script = document.createElement(\"script\");\n",
       "    node.appendChild(script);\n",
       "  }\n",
       "\n",
       "  /**\n",
       "   * Handle when an output is cleared or removed\n",
       "   */\n",
       "  function handleClearOutput(event, handle) {\n",
       "    var cell = handle.cell;\n",
       "\n",
       "    var id = cell.output_area._bokeh_element_id;\n",
       "    var server_id = cell.output_area._bokeh_server_id;\n",
       "    // Clean up Bokeh references\n",
       "    if (id !== undefined) {\n",
       "      Bokeh.index[id].model.document.clear();\n",
       "      delete Bokeh.index[id];\n",
       "    }\n",
       "\n",
       "    if (server_id !== undefined) {\n",
       "      // Clean up Bokeh references\n",
       "      var cmd = \"from bokeh.io.state import curstate; print(curstate().uuid_to_server['\" + server_id + \"'].get_sessions()[0].document.roots[0]._id)\";\n",
       "      cell.notebook.kernel.execute(cmd, {\n",
       "        iopub: {\n",
       "          output: function(msg) {\n",
       "            var element_id = msg.content.text.trim();\n",
       "            Bokeh.index[element_id].model.document.clear();\n",
       "            delete Bokeh.index[element_id];\n",
       "          }\n",
       "        }\n",
       "      });\n",
       "      // Destroy server and session\n",
       "      var cmd = \"import bokeh.io.notebook as ion; ion.destroy_server('\" + server_id + \"')\";\n",
       "      cell.notebook.kernel.execute(cmd);\n",
       "    }\n",
       "  }\n",
       "\n",
       "  /**\n",
       "   * Handle when a new output is added\n",
       "   */\n",
       "  function handleAddOutput(event, handle) {\n",
       "    var output_area = handle.output_area;\n",
       "    var output = handle.output;\n",
       "\n",
       "    // limit handleAddOutput to display_data with EXEC_MIME_TYPE content only\n",
       "    if ((output.output_type != \"display_data\") || (!output.data.hasOwnProperty(EXEC_MIME_TYPE))) {\n",
       "      return\n",
       "    }\n",
       "\n",
       "    var toinsert = output_area.element.find(\".\" + CLASS_NAME.split(' ')[0]);\n",
       "\n",
       "    if (output.metadata[EXEC_MIME_TYPE][\"id\"] !== undefined) {\n",
       "      toinsert[toinsert.length - 1].firstChild.textContent = output.data[JS_MIME_TYPE];\n",
       "      // store reference to embed id on output_area\n",
       "      output_area._bokeh_element_id = output.metadata[EXEC_MIME_TYPE][\"id\"];\n",
       "    }\n",
       "    if (output.metadata[EXEC_MIME_TYPE][\"server_id\"] !== undefined) {\n",
       "      var bk_div = document.createElement(\"div\");\n",
       "      bk_div.innerHTML = output.data[HTML_MIME_TYPE];\n",
       "      var script_attrs = bk_div.children[0].attributes;\n",
       "      for (var i = 0; i < script_attrs.length; i++) {\n",
       "        toinsert[toinsert.length - 1].firstChild.setAttribute(script_attrs[i].name, script_attrs[i].value);\n",
       "      }\n",
       "      // store reference to server id on output_area\n",
       "      output_area._bokeh_server_id = output.metadata[EXEC_MIME_TYPE][\"server_id\"];\n",
       "    }\n",
       "  }\n",
       "\n",
       "  function register_renderer(events, OutputArea) {\n",
       "\n",
       "    function append_mime(data, metadata, element) {\n",
       "      // create a DOM node to render to\n",
       "      var toinsert = this.create_output_subarea(\n",
       "        metadata,\n",
       "        CLASS_NAME,\n",
       "        EXEC_MIME_TYPE\n",
       "      );\n",
       "      this.keyboard_manager.register_events(toinsert);\n",
       "      // Render to node\n",
       "      var props = {data: data, metadata: metadata[EXEC_MIME_TYPE]};\n",
       "      render(props, toinsert[toinsert.length - 1]);\n",
       "      element.append(toinsert);\n",
       "      return toinsert\n",
       "    }\n",
       "\n",
       "    /* Handle when an output is cleared or removed */\n",
       "    events.on('clear_output.CodeCell', handleClearOutput);\n",
       "    events.on('delete.Cell', handleClearOutput);\n",
       "\n",
       "    /* Handle when a new output is added */\n",
       "    events.on('output_added.OutputArea', handleAddOutput);\n",
       "\n",
       "    /**\n",
       "     * Register the mime type and append_mime function with output_area\n",
       "     */\n",
       "    OutputArea.prototype.register_mime_type(EXEC_MIME_TYPE, append_mime, {\n",
       "      /* Is output safe? */\n",
       "      safe: true,\n",
       "      /* Index of renderer in `output_area.display_order` */\n",
       "      index: 0\n",
       "    });\n",
       "  }\n",
       "\n",
       "  // register the mime type if in Jupyter Notebook environment and previously unregistered\n",
       "  if (root.Jupyter !== undefined) {\n",
       "    var events = require('base/js/events');\n",
       "    var OutputArea = require('notebook/js/outputarea').OutputArea;\n",
       "\n",
       "    if (OutputArea.prototype.mime_types().indexOf(EXEC_MIME_TYPE) == -1) {\n",
       "      register_renderer(events, OutputArea);\n",
       "    }\n",
       "  }\n",
       "\n",
       "  \n",
       "  if (typeof (root._bokeh_timeout) === \"undefined\" || force === true) {\n",
       "    root._bokeh_timeout = Date.now() + 5000;\n",
       "    root._bokeh_failed_load = false;\n",
       "  }\n",
       "\n",
       "  var NB_LOAD_WARNING = {'data': {'text/html':\n",
       "     \"<div style='background-color: #fdd'>\\n\"+\n",
       "     \"<p>\\n\"+\n",
       "     \"BokehJS does not appear to have successfully loaded. If loading BokehJS from CDN, this \\n\"+\n",
       "     \"may be due to a slow or bad network connection. Possible fixes:\\n\"+\n",
       "     \"</p>\\n\"+\n",
       "     \"<ul>\\n\"+\n",
       "     \"<li>re-rerun `output_notebook()` to attempt to load from CDN again, or</li>\\n\"+\n",
       "     \"<li>use INLINE resources instead, as so:</li>\\n\"+\n",
       "     \"</ul>\\n\"+\n",
       "     \"<code>\\n\"+\n",
       "     \"from bokeh.resources import INLINE\\n\"+\n",
       "     \"output_notebook(resources=INLINE)\\n\"+\n",
       "     \"</code>\\n\"+\n",
       "     \"</div>\"}};\n",
       "\n",
       "  function display_loaded() {\n",
       "    var el = document.getElementById(\"ab87fae5-359d-4b5c-b65b-855488daf7ec\");\n",
       "    if (el != null) {\n",
       "      el.textContent = \"BokehJS is loading...\";\n",
       "    }\n",
       "    if (root.Bokeh !== undefined) {\n",
       "      if (el != null) {\n",
       "        el.textContent = \"BokehJS \" + root.Bokeh.version + \" successfully loaded.\";\n",
       "      }\n",
       "    } else if (Date.now() < root._bokeh_timeout) {\n",
       "      setTimeout(display_loaded, 100)\n",
       "    }\n",
       "  }\n",
       "\n",
       "\n",
       "  function run_callbacks() {\n",
       "    try {\n",
       "      root._bokeh_onload_callbacks.forEach(function(callback) { callback() });\n",
       "    }\n",
       "    finally {\n",
       "      delete root._bokeh_onload_callbacks\n",
       "    }\n",
       "    console.info(\"Bokeh: all callbacks have finished\");\n",
       "  }\n",
       "\n",
       "  function load_libs(js_urls, callback) {\n",
       "    root._bokeh_onload_callbacks.push(callback);\n",
       "    if (root._bokeh_is_loading > 0) {\n",
       "      console.log(\"Bokeh: BokehJS is being loaded, scheduling callback at\", now());\n",
       "      return null;\n",
       "    }\n",
       "    if (js_urls == null || js_urls.length === 0) {\n",
       "      run_callbacks();\n",
       "      return null;\n",
       "    }\n",
       "    console.log(\"Bokeh: BokehJS not loaded, scheduling load and callback at\", now());\n",
       "    root._bokeh_is_loading = js_urls.length;\n",
       "    for (var i = 0; i < js_urls.length; i++) {\n",
       "      var url = js_urls[i];\n",
       "      var s = document.createElement('script');\n",
       "      s.src = url;\n",
       "      s.async = false;\n",
       "      s.onreadystatechange = s.onload = function() {\n",
       "        root._bokeh_is_loading--;\n",
       "        if (root._bokeh_is_loading === 0) {\n",
       "          console.log(\"Bokeh: all BokehJS libraries loaded\");\n",
       "          run_callbacks()\n",
       "        }\n",
       "      };\n",
       "      s.onerror = function() {\n",
       "        console.warn(\"failed to load library \" + url);\n",
       "      };\n",
       "      console.log(\"Bokeh: injecting script tag for BokehJS library: \", url);\n",
       "      document.getElementsByTagName(\"head\")[0].appendChild(s);\n",
       "    }\n",
       "  };var element = document.getElementById(\"ab87fae5-359d-4b5c-b65b-855488daf7ec\");\n",
       "  if (element == null) {\n",
       "    console.log(\"Bokeh: ERROR: autoload.js configured with elementid 'ab87fae5-359d-4b5c-b65b-855488daf7ec' but no matching script tag was found. \")\n",
       "    return false;\n",
       "  }\n",
       "\n",
       "  var js_urls = [\"https://cdn.pydata.org/bokeh/release/bokeh-0.12.16.min.js\", \"https://cdn.pydata.org/bokeh/release/bokeh-widgets-0.12.16.min.js\", \"https://cdn.pydata.org/bokeh/release/bokeh-tables-0.12.16.min.js\", \"https://cdn.pydata.org/bokeh/release/bokeh-gl-0.12.16.min.js\"];\n",
       "\n",
       "  var inline_js = [\n",
       "    function(Bokeh) {\n",
       "      Bokeh.set_log_level(\"info\");\n",
       "    },\n",
       "    \n",
       "    function(Bokeh) {\n",
       "      \n",
       "    },\n",
       "    function(Bokeh) {\n",
       "      console.log(\"Bokeh: injecting CSS: https://cdn.pydata.org/bokeh/release/bokeh-0.12.16.min.css\");\n",
       "      Bokeh.embed.inject_css(\"https://cdn.pydata.org/bokeh/release/bokeh-0.12.16.min.css\");\n",
       "      console.log(\"Bokeh: injecting CSS: https://cdn.pydata.org/bokeh/release/bokeh-widgets-0.12.16.min.css\");\n",
       "      Bokeh.embed.inject_css(\"https://cdn.pydata.org/bokeh/release/bokeh-widgets-0.12.16.min.css\");\n",
       "      console.log(\"Bokeh: injecting CSS: https://cdn.pydata.org/bokeh/release/bokeh-tables-0.12.16.min.css\");\n",
       "      Bokeh.embed.inject_css(\"https://cdn.pydata.org/bokeh/release/bokeh-tables-0.12.16.min.css\");\n",
       "    }\n",
       "  ];\n",
       "\n",
       "  function run_inline_js() {\n",
       "    \n",
       "    if ((root.Bokeh !== undefined) || (force === true)) {\n",
       "      for (var i = 0; i < inline_js.length; i++) {\n",
       "        inline_js[i].call(root, root.Bokeh);\n",
       "      }if (force === true) {\n",
       "        display_loaded();\n",
       "      }} else if (Date.now() < root._bokeh_timeout) {\n",
       "      setTimeout(run_inline_js, 100);\n",
       "    } else if (!root._bokeh_failed_load) {\n",
       "      console.log(\"Bokeh: BokehJS failed to load within specified timeout.\");\n",
       "      root._bokeh_failed_load = true;\n",
       "    } else if (force !== true) {\n",
       "      var cell = $(document.getElementById(\"ab87fae5-359d-4b5c-b65b-855488daf7ec\")).parents('.cell').data().cell;\n",
       "      cell.output_area.append_execute_result(NB_LOAD_WARNING)\n",
       "    }\n",
       "\n",
       "  }\n",
       "\n",
       "  if (root._bokeh_is_loading === 0) {\n",
       "    console.log(\"Bokeh: BokehJS loaded, going straight to plotting\");\n",
       "    run_inline_js();\n",
       "  } else {\n",
       "    load_libs(js_urls, function() {\n",
       "      console.log(\"Bokeh: BokehJS plotting callback run at\", now());\n",
       "      run_inline_js();\n",
       "    });\n",
       "  }\n",
       "}(window));"
      ],
      "application/vnd.bokehjs_load.v0+json": "\n(function(root) {\n  function now() {\n    return new Date();\n  }\n\n  var force = true;\n\n  if (typeof (root._bokeh_onload_callbacks) === \"undefined\" || force === true) {\n    root._bokeh_onload_callbacks = [];\n    root._bokeh_is_loading = undefined;\n  }\n\n  \n\n  \n  if (typeof (root._bokeh_timeout) === \"undefined\" || force === true) {\n    root._bokeh_timeout = Date.now() + 5000;\n    root._bokeh_failed_load = false;\n  }\n\n  var NB_LOAD_WARNING = {'data': {'text/html':\n     \"<div style='background-color: #fdd'>\\n\"+\n     \"<p>\\n\"+\n     \"BokehJS does not appear to have successfully loaded. If loading BokehJS from CDN, this \\n\"+\n     \"may be due to a slow or bad network connection. Possible fixes:\\n\"+\n     \"</p>\\n\"+\n     \"<ul>\\n\"+\n     \"<li>re-rerun `output_notebook()` to attempt to load from CDN again, or</li>\\n\"+\n     \"<li>use INLINE resources instead, as so:</li>\\n\"+\n     \"</ul>\\n\"+\n     \"<code>\\n\"+\n     \"from bokeh.resources import INLINE\\n\"+\n     \"output_notebook(resources=INLINE)\\n\"+\n     \"</code>\\n\"+\n     \"</div>\"}};\n\n  function display_loaded() {\n    var el = document.getElementById(\"ab87fae5-359d-4b5c-b65b-855488daf7ec\");\n    if (el != null) {\n      el.textContent = \"BokehJS is loading...\";\n    }\n    if (root.Bokeh !== undefined) {\n      if (el != null) {\n        el.textContent = \"BokehJS \" + root.Bokeh.version + \" successfully loaded.\";\n      }\n    } else if (Date.now() < root._bokeh_timeout) {\n      setTimeout(display_loaded, 100)\n    }\n  }\n\n\n  function run_callbacks() {\n    try {\n      root._bokeh_onload_callbacks.forEach(function(callback) { callback() });\n    }\n    finally {\n      delete root._bokeh_onload_callbacks\n    }\n    console.info(\"Bokeh: all callbacks have finished\");\n  }\n\n  function load_libs(js_urls, callback) {\n    root._bokeh_onload_callbacks.push(callback);\n    if (root._bokeh_is_loading > 0) {\n      console.log(\"Bokeh: BokehJS is being loaded, scheduling callback at\", now());\n      return null;\n    }\n    if (js_urls == null || js_urls.length === 0) {\n      run_callbacks();\n      return null;\n    }\n    console.log(\"Bokeh: BokehJS not loaded, scheduling load and callback at\", now());\n    root._bokeh_is_loading = js_urls.length;\n    for (var i = 0; i < js_urls.length; i++) {\n      var url = js_urls[i];\n      var s = document.createElement('script');\n      s.src = url;\n      s.async = false;\n      s.onreadystatechange = s.onload = function() {\n        root._bokeh_is_loading--;\n        if (root._bokeh_is_loading === 0) {\n          console.log(\"Bokeh: all BokehJS libraries loaded\");\n          run_callbacks()\n        }\n      };\n      s.onerror = function() {\n        console.warn(\"failed to load library \" + url);\n      };\n      console.log(\"Bokeh: injecting script tag for BokehJS library: \", url);\n      document.getElementsByTagName(\"head\")[0].appendChild(s);\n    }\n  };var element = document.getElementById(\"ab87fae5-359d-4b5c-b65b-855488daf7ec\");\n  if (element == null) {\n    console.log(\"Bokeh: ERROR: autoload.js configured with elementid 'ab87fae5-359d-4b5c-b65b-855488daf7ec' but no matching script tag was found. \")\n    return false;\n  }\n\n  var js_urls = [\"https://cdn.pydata.org/bokeh/release/bokeh-0.12.16.min.js\", \"https://cdn.pydata.org/bokeh/release/bokeh-widgets-0.12.16.min.js\", \"https://cdn.pydata.org/bokeh/release/bokeh-tables-0.12.16.min.js\", \"https://cdn.pydata.org/bokeh/release/bokeh-gl-0.12.16.min.js\"];\n\n  var inline_js = [\n    function(Bokeh) {\n      Bokeh.set_log_level(\"info\");\n    },\n    \n    function(Bokeh) {\n      \n    },\n    function(Bokeh) {\n      console.log(\"Bokeh: injecting CSS: https://cdn.pydata.org/bokeh/release/bokeh-0.12.16.min.css\");\n      Bokeh.embed.inject_css(\"https://cdn.pydata.org/bokeh/release/bokeh-0.12.16.min.css\");\n      console.log(\"Bokeh: injecting CSS: https://cdn.pydata.org/bokeh/release/bokeh-widgets-0.12.16.min.css\");\n      Bokeh.embed.inject_css(\"https://cdn.pydata.org/bokeh/release/bokeh-widgets-0.12.16.min.css\");\n      console.log(\"Bokeh: injecting CSS: https://cdn.pydata.org/bokeh/release/bokeh-tables-0.12.16.min.css\");\n      Bokeh.embed.inject_css(\"https://cdn.pydata.org/bokeh/release/bokeh-tables-0.12.16.min.css\");\n    }\n  ];\n\n  function run_inline_js() {\n    \n    if ((root.Bokeh !== undefined) || (force === true)) {\n      for (var i = 0; i < inline_js.length; i++) {\n        inline_js[i].call(root, root.Bokeh);\n      }if (force === true) {\n        display_loaded();\n      }} else if (Date.now() < root._bokeh_timeout) {\n      setTimeout(run_inline_js, 100);\n    } else if (!root._bokeh_failed_load) {\n      console.log(\"Bokeh: BokehJS failed to load within specified timeout.\");\n      root._bokeh_failed_load = true;\n    } else if (force !== true) {\n      var cell = $(document.getElementById(\"ab87fae5-359d-4b5c-b65b-855488daf7ec\")).parents('.cell').data().cell;\n      cell.output_area.append_execute_result(NB_LOAD_WARNING)\n    }\n\n  }\n\n  if (root._bokeh_is_loading === 0) {\n    console.log(\"Bokeh: BokehJS loaded, going straight to plotting\");\n    run_inline_js();\n  } else {\n    load_libs(js_urls, function() {\n      console.log(\"Bokeh: BokehJS plotting callback run at\", now());\n      run_inline_js();\n    });\n  }\n}(window));"
     },
     "metadata": {},
     "output_type": "display_data"
    }
   ],
   "source": [
    "output_notebook()"
   ]
  },
  {
   "cell_type": "code",
   "execution_count": 499,
   "metadata": {
    "collapsed": true
   },
   "outputs": [],
   "source": [
    "'''\n",
    "Get the clirad-lw and lblnew `param`s for all spectral bands.  \n",
    "These are returned by functions `clirad_params_atm` and\n",
    "`lblnew_params_atm`, respectively.\n",
    "'''\n",
    "\n",
    "def molecules_byband_atm():\n",
    "    return {1: {'h2o': 'atmpro'},\n",
    "            2: {'h2o': 'atmpro'}, \n",
    "            3: {'co2': 0.0004, 'h2o': 'atmpro', 'n2o': 3.2e-07},\n",
    "            4: {'co2': 0.0004, 'h2o': 'atmpro'},\n",
    "            5: {'co2': 0.0004, 'h2o': 'atmpro'},\n",
    "            6: {'co2': 0.0004, 'h2o': 'atmpro'},\n",
    "            7: {'co2': 0.0004, 'h2o': 'atmpro', 'o3': 'atmpro'},\n",
    "            8: {'h2o': 'atmpro'},\n",
    "            9: {'ch4': 1.8e-06, 'h2o': 'atmpro', 'n2o': 3.2e-07},\n",
    "            10: {'h2o': 'atmpro'},\n",
    "            11: {'co2': 0.0004, 'h2o': 'atmpro'}}\n",
    "\n",
    "\n",
    "def greyabsorbers_by_band_atm():\n",
    "    return {1: {'con': 'atmpro'},\n",
    "            2: {'con': 'atmpro'},\n",
    "            3: {'con': 'atmpro'},\n",
    "            4: {'con': 'atmpro'},\n",
    "            5: {'con': 'atmpro'},\n",
    "            6: {'con': 'atmpro'}, \n",
    "            7: {'con': 'atmpro'},\n",
    "            8: {'con': 'atmpro', 'n2o': 3.2e-7}, \n",
    "            9: {'con': 'atmpro'}, \n",
    "            10: None,\n",
    "            11: None}\n",
    "\n",
    "\n",
    "def clirad_params_atm(atmpro='mls'):\n",
    "    d = {}\n",
    "    for band, molecule in molecules_byband_atm().items():\n",
    "        for param in setup_cliradlw.test_cases():\n",
    "            if [band] == param['band'] and molecule == param['molecule']:\n",
    "                param['atmpro'] = atmpro\n",
    "                d[band] = param\n",
    "                break                \n",
    "    return d\n",
    "\n",
    "\n",
    "def clirad_params_atm_singlerun(atmpro='mls'):\n",
    "    '''\n",
    "    Returns param of clirad-lw run that is equivalent to the total\n",
    "    of all the runs listed in molecules_byband_atm().  In order\n",
    "    for the output to be compatible with clirad_data_atm(), it will\n",
    "    be a list.\n",
    "    '''\n",
    "    param0 = {'band': [1, 2, 3, 4, 5, 6, 7, 8, 9, 10, 11],\n",
    "              'commitnumber': 'b972cd6',\n",
    "              'molecule': {'ch4': 1.8e-06,\n",
    "                           'co2': 0.0004,\n",
    "                           'h2o': 'atmpro',\n",
    "                           'n2o': 3.2e-07,\n",
    "                           'o3': 'atmpro'}}\n",
    "    \n",
    "    d_atmpros = {'mls': 294, 'saw': 257, 'trp': 300}\n",
    "    \n",
    "    param = param0.copy()\n",
    "    param['atmpro'] = atmpro\n",
    "    param['tsfc'] = d_atmpros[atmpro]\n",
    "    \n",
    "    d = {}\n",
    "    d['all'] = param\n",
    "    return d\n",
    "\n",
    "\n",
    "def analysis_dirs_atm(atmpro='mls'):\n",
    "    params = clirad_params_atm(atmpro=atmpro)\n",
    "    return {band: pipe_cliradlw.get_analysis_dir(param=param,\n",
    "                                                 setup=setup_cliradlw) \n",
    "            for band, param in params.items()}\n",
    "\n",
    "\n",
    "def lblnew_params_atm(atmpro='mls'):\n",
    "    dirs = analysis_dirs_atm(atmpro=atmpro)\n",
    "    \n",
    "    d = {}\n",
    "    for band, dirname in dirs.items():\n",
    "        with open(os.path.join(dirname, 'param.py'), \n",
    "                  mode='r', encoding='utf-8') as f:\n",
    "            _, l = f.readlines()\n",
    "        \n",
    "        s = l.split('=')[1].strip()\n",
    "        d[band] = ast.literal_eval(s)\n",
    "        \n",
    "    return d\n"
   ]
  },
  {
   "cell_type": "code",
   "execution_count": 500,
   "metadata": {
    "collapsed": true
   },
   "outputs": [],
   "source": [
    "def db_getdir():\n",
    "    atmpro = 'mls'\n",
    "    params = clirad_params_atm_singlerun(atmpro=atmpro)\n",
    "    param = params['all']\n",
    "    \n",
    "    fdir = pipe_cliradlw.get_fortran_dir(param=param, \n",
    "                                         setup=setup_cliradlw)\n",
    "    return fdir\n",
    "\n",
    "\n",
    "def db_ktable():\n",
    "    fdir = db_getdir()    \n",
    "    fpath = os.path.join(fdir, 'ktable.dat')\n",
    "    \n",
    "    df = pd.read_csv(fpath, sep=r'\\s+')\n",
    "    df = df.set_index(['band', 'mid', 'il', 'it', 'g'])\n",
    "    ds = xr.Dataset.from_dataframe(df)\n",
    "    return ds\n",
    "\n",
    "\n",
    "def db_ng_dgs():\n",
    "    fdir = db_getdir()\n",
    "    fpath = os.path.join(fdir, 'ng_dgs.dat')\n",
    "    \n",
    "    df = pd.read_csv(fpath, sep=r'\\s+')\n",
    "    df = df.set_index(['band', 'mid', 'g'])\n",
    "    ds = xr.Dataset.from_dataframe(df)\n",
    "    return ds\n"
   ]
  },
  {
   "cell_type": "code",
   "execution_count": 501,
   "metadata": {
    "collapsed": true
   },
   "outputs": [],
   "source": [
    "def show_makeup():\n",
    "    df = pd.DataFrame()\n",
    "\n",
    "    for band, molecule in molecules_byband_atm().items():\n",
    "        for name, conc in molecule.items():\n",
    "            df.loc[name, band] = str(conc)\n",
    "\n",
    "    df = df.fillna(0)\n",
    "    df.columns.name = 'clirad band'\n",
    "    df.index.name = 'molecule'\n",
    "    \n",
    "    display.display(df)\n",
    "    \n",
    "    display.display(\n",
    "        display.Markdown('*TABLE.* Non-grey absorbers in the atmosphere.'))\n",
    "\n",
    "\n",
    "def show_grey_makeup():\n",
    "    df = pd.DataFrame()\n",
    "    \n",
    "    for band, molecule in greyabsorbers_by_band_atm().items():\n",
    "        if molecule == None:\n",
    "            pass\n",
    "        else:\n",
    "            for name, conc in molecule.items():\n",
    "                df.loc[name, band] = str(conc)\n",
    "                \n",
    "    df = df.fillna(0)\n",
    "    df.columns.name = 'clirad band'\n",
    "    df.index.name = 'absorber'\n",
    "    \n",
    "    display.display(df)\n",
    "    display.display(\n",
    "        display.Markdown('*TABLE.* Grey absorbers in the atmosphere.')\n",
    "    )"
   ]
  },
  {
   "cell_type": "code",
   "execution_count": 502,
   "metadata": {
    "collapsed": true
   },
   "outputs": [],
   "source": [
    "def load_output_file(path_csv):\n",
    "    '''\n",
    "    Load lblnew output .csv file to xarray.Dataset\n",
    "    \n",
    "    Parameters\n",
    "    ----------\n",
    "    path_csv: str\n",
    "              Path to the .csv file to be loaded.\n",
    "    ds: xarray.Dataset\n",
    "        Data in the input file in the form of an xarray.Dataset.\n",
    "    '''\n",
    "    toindex = ['band', 'pressure', 'igg', 'g']    \n",
    "    df = pd.read_csv(path_csv, sep=r'\\s+')\n",
    "    df = df.set_index([i for i in toindex if i in df.columns])\n",
    "    df = df.rename(columns={'sfu': 'flug',\n",
    "                            'sfd': 'fldg',\n",
    "                            'fnet': 'fnetg',\n",
    "                            'coolr': 'coolrg'})\n",
    "    ds = xr.Dataset.from_dataframe(df)\n",
    "\n",
    "    for l in ('level', 'layer'):\n",
    "        if l in ds.data_vars:\n",
    "            if len(ds[l].dims) > 1:\n",
    "                surface = {d: 0 for d in ds.dims if d != 'pressure'}\n",
    "                coord_level = ds[l][surface]\n",
    "                ds.coords[l] = ('pressure', coord_level)\n",
    "            else:\n",
    "                ds.coords[l] = ('pressure', ds[l])\n",
    "    \n",
    "    return ds"
   ]
  },
  {
   "cell_type": "code",
   "execution_count": 503,
   "metadata": {
    "collapsed": true
   },
   "outputs": [],
   "source": [
    "def lblnew_setup(param=None):\n",
    "    if 'ng_refs' in param:\n",
    "        return {'setup': setup_bestfit,\n",
    "                'fname_flux_crd': 'output_flux.dat',\n",
    "                'fname_cool_crd': 'output_coolr.dat',\n",
    "                'fname_flux_wgt': 'output_wfluxg.dat',\n",
    "                'fname_cool_wgt': 'output_wcoolrg.dat'}\n",
    "    else:\n",
    "        return {'setup': setup_overlap,\n",
    "                'fname_flux_crd': 'output_flux.dat',\n",
    "                'fname_cool_crd': 'output_coolr.dat',\n",
    "                'fname_flux_wgt': 'output_wflux.dat',\n",
    "                'fname_cool_wgt': 'output_wcoolr.dat'}\n",
    "\n",
    "    \n",
    "def load_lblnew_data(param):\n",
    "    \n",
    "    fname_dsname = [('fname_flux_crd', 'ds_flux_crd'),\n",
    "                    ('fname_cool_crd', 'ds_cool_crd'),\n",
    "                    ('fname_flux_wgt', 'ds_flux_wgt'),\n",
    "                    ('fname_cool_wgt', 'ds_cool_wgt')]\n",
    "    \n",
    "    d = lblnew_setup(param)\n",
    "    dir_fortran = pipe_lblnew.get_dir_case(param, setup=d['setup'])\n",
    "    \n",
    "    data_dict = {}\n",
    "    for fname, dsname in fname_dsname:\n",
    "        fpath = os.path.join(dir_fortran, d[fname])\n",
    "        data_dict[dsname] = load_output_file(fpath)\n",
    "    return data_dict"
   ]
  },
  {
   "cell_type": "code",
   "execution_count": 504,
   "metadata": {
    "collapsed": true
   },
   "outputs": [],
   "source": [
    "def crd_data_atm(params_atm):\n",
    "    '''\n",
    "    Parameters\n",
    "    ----------\n",
    "    \n",
    "    params_atm: dict\n",
    "                Parameter dictionary for each band.\n",
    "                \n",
    "    d: dict\n",
    "       'flux': xr.Dataset. [pressure, band]\n",
    "               Fluxes.\n",
    "       'cool': xr.Dataset. [pressure, band]\n",
    "               Cooling rate.\n",
    "    \n",
    "    '''\n",
    "    \n",
    "    results_atm = {band: load_lblnew_data(param) \n",
    "                   for band, param in params_atm.items()}\n",
    "    \n",
    "    bands = [band for band, _ in params_atm.items()]\n",
    "    fluxs = [d['ds_flux_crd'] for _, d in results_atm.items()]\n",
    "    cools = [d['ds_cool_crd'] for _, d in results_atm.items()]\n",
    "    \n",
    "    d = {}\n",
    "    d['flux'] = xr.concat(fluxs, dim=bands).rename({'concat_dim': 'band'})\n",
    "    d['cool'] = xr.concat(cools, dim=bands).rename({'concat_dim': 'band'})\n",
    "    return d        \n",
    "        \n",
    "        \n",
    "\n",
    "def clirad_data_atm(params_atm):\n",
    "    \n",
    "    dirnames = [pipe_cliradlw.get_fortran_dir(param,\n",
    "                                              setup=setup_cliradlw)\n",
    "                for _, param in params_atm.items()]\n",
    "    \n",
    "    fpaths_flux = [os.path.join(n, 'output_flux.dat') for n in dirnames]\n",
    "    fpaths_cool = [os.path.join(n, 'output_coolr.dat') for n in dirnames]\n",
    "    \n",
    "    fluxs = [load_output_file(p) for p in fpaths_flux]    \n",
    "    cools = [load_output_file(p) for p in fpaths_cool]\n",
    "    \n",
    "    d = {}\n",
    "    d['flux'] = sum(fluxs)\n",
    "    d['cool'] = sum(cools)\n",
    "    return d\n",
    "\n"
   ]
  },
  {
   "cell_type": "code",
   "execution_count": 505,
   "metadata": {
    "collapsed": true
   },
   "outputs": [],
   "source": [
    "\n",
    "\n",
    "import rtmtools.clirad.sw.wrangle as cliradwrangle\n",
    "\n",
    "import importlib\n",
    "importlib.reload(cliradwrangle)\n",
    "\n",
    "def oldclirad_data_atm():\n",
    "    '''\n",
    "    Load the OLD clirad's results. mls only.\n",
    "    '''\n",
    "    fpath = os.path.join('/chia_cluster/home/jackyu/radiation',\n",
    "                         'clirad-lw',\n",
    "                         'LW',\n",
    "                         'examples',\n",
    "                         'mls75_h2o_atmpro_co2_.0004_o3_atmpro_n2o_3.2e-7_ch4_1.8e-6_H2012',\n",
    "                         'OUTPUT_CLIRAD.dat')\n",
    "    \n",
    "    ds = cliradwrangle.load_OUTPUT_CLIRAD(readfrom=fpath)\n",
    "    \n",
    "    ds_cool = xr.Dataset()\n",
    "    ds_cool.coords['pressure'] = ('pressure', ds['layer_pressure'])\n",
    "    ds_cool.coords['band'] = ('band', ds['spectral_band'])\n",
    "    ds_cool['coolrg'] = (('band', 'pressure'), - ds['heating_rate'])\n",
    "    \n",
    "    ds_flux = xr.Dataset()\n",
    "    ds_flux.coords['pressure'] = ('pressure', ds['level_pressure'])\n",
    "    ds_flux.coords['band'] = ('band', ds['spectral_band'])\n",
    "    ds_flux['flug'] = (('band', 'pressure'), ds['flux_up'])\n",
    "    ds_flux['fldg'] = (('band', 'pressure'), ds['flux_down'])\n",
    "    ds_flux['fnetg'] = (('band', 'pressure'), ds['net_flux'])\n",
    "    \n",
    "    \n",
    "    d = {}\n",
    "    d['cool'] = ds_cool\n",
    "    d['flux'] = ds_flux\n",
    "    return d\n"
   ]
  },
  {
   "cell_type": "code",
   "execution_count": 506,
   "metadata": {
    "collapsed": true
   },
   "outputs": [],
   "source": [
    "def fmt_cool(ds_in):\n",
    "    ds = ds_in.copy(deep=True)\n",
    "    if 'igg' in ds.dims:\n",
    "        ds = ds.sel(igg=1)\n",
    "\n",
    "    if 'g' in ds.dims:\n",
    "        ds = ds.sum('g')\n",
    "            \n",
    "    if 'band' in ds.dims:\n",
    "        try:\n",
    "            ds = ds.squeeze('band')\n",
    "        except ValueError:\n",
    "            ds = ds.sum('band')\n",
    "                \n",
    "    return ds['coolrg']\n",
    "\n",
    "\n",
    "\n",
    "def nice_xlims(pltdata=None, prange=None):\n",
    "    \n",
    "    def get_slice(srs):\n",
    "        return srs.sel(pressure=slice(*prange))\n",
    "    \n",
    "    srss = [d['srs'] for d in pltdata]\n",
    "    vmin = min([get_slice(srs).min() for srs in srss])\n",
    "    vmax = max([get_slice(srs).max() for srs in srss])\n",
    "    dv = (vmax - vmin) * .01\n",
    "    return float(vmin - dv), float(vmax + dv)\n",
    "\n",
    "\n",
    "    \n",
    "def plt_cool_bokeh(pltdata=None, \n",
    "                   y_axis_type='linear', prange=(50, 1050)):\n",
    "    \n",
    "    ymin = 1e-2 \n",
    "    ymax = 1020\n",
    "    \n",
    "    p2 = figure(y_axis_type=y_axis_type, plot_width=300)\n",
    "    xmin, xmax = nice_xlims(pltdata, prange=prange)\n",
    "    \n",
    "    rs = []\n",
    "    for d in pltdata:\n",
    "        rd = []\n",
    "        if 'marker' in d:\n",
    "            r_mark = getattr(p2, d['marker'])(d['srs'].values, \n",
    "                        d['srs'].coords['pressure'].values,\n",
    "                        color=d['color'], alpha=.7)\n",
    "            rd.append(r_mark)\n",
    "        r_line = p2.line(d['srs'].values, \n",
    "                         d['srs'].coords['pressure'].values,\n",
    "                         color=d['color'], alpha=d['alpha'], \n",
    "                         line_width=d['line_width'], \n",
    "                         line_dash=d['line_dash'])\n",
    "        rd.append(r_line)\n",
    "      \n",
    "        rs.append(rd)\n",
    "        \n",
    "    p2.y_range = Range1d(ymax, ymin)  \n",
    "    p2.yaxis.axis_label = 'pressure [mb]'\n",
    "    \n",
    "    p2.x_range = Range1d(xmin, xmax)\n",
    "    p2.xaxis.axis_label = 'cooling rate [K/day]'\n",
    "    \n",
    "    items = [(d['label'], r) for r, d in zip(rs, pltdata)]\n",
    "    legend = Legend(items=items, location=(10, 0))\n",
    "    legend.label_text_font_size = '8pt'\n",
    "    p2.add_layout(legend, 'above')\n",
    "    p2.legend.orientation = 'horizontal'\n",
    "    p2.legend.location = 'top_center'\n",
    "    \n",
    "    return p2"
   ]
  },
  {
   "cell_type": "code",
   "execution_count": 507,
   "metadata": {
    "collapsed": true
   },
   "outputs": [],
   "source": [
    "def pltdata_cool(atmpro='mls'):\n",
    "    \n",
    "    d_clirad_singlerun = clirad_data_atm(\n",
    "        clirad_params_atm_singlerun(atmpro=atmpro))\n",
    "    d_clirad = clirad_data_atm(clirad_params_atm(atmpro=atmpro))\n",
    "    d_crd = crd_data_atm(lblnew_params_atm(atmpro=atmpro))\n",
    "\n",
    "    ds_clirad_singlerun = d_clirad_singlerun['cool']\n",
    "    ds_clirad = d_clirad['cool']\n",
    "    ds_crd = d_crd['cool']\n",
    "\n",
    "    colors = all_palettes['Set1'][4]\n",
    "    \n",
    "    data = [\n",
    "        {'label': 'CLIRAD (single-run)',\n",
    "        'srs': fmt_cool(ds_clirad_singlerun),\n",
    "        'line_dash': 'dashed', 'line_width': 5,\n",
    "        'color': colors[1], 'alpha': .6},\n",
    "        {'label': 'CRD',\n",
    "         'srs': fmt_cool(ds_crd),\n",
    "         'line_dash': 'solid', 'line_width': 1.5,\n",
    "         'marker': 'circle', 'marker_size': 5,\n",
    "         'color': colors[2], 'alpha': 1}\n",
    "    ]\n",
    "#        {'label': 'CLIRAD',\n",
    "#         'srs': fmt_cool(ds_clirad),\n",
    "#         'line_dash': 'dashed', 'line_width': 5,\n",
    "#         'color': colors[0], 'alpha': .6}\n",
    "        \n",
    "\n",
    "    \n",
    "    # include old CLIRAD's results for mls profile\n",
    "    if atmpro == 'mls':\n",
    "        d_oldclirad = oldclirad_data_atm()\n",
    "        ds_oldclirad = d_oldclirad['cool']        \n",
    "        data.append(\n",
    "            {'label': 'old CLIRAD (H2012)',\n",
    "             'srs': fmt_cool(ds_oldclirad),\n",
    "             'line_dash': 'solid', 'line_width': 1.5,\n",
    "             'marker': 'square', 'marker_size': 3,\n",
    "             'color': colors[3], 'alpha': .5})\n",
    "    return data\n",
    "\n",
    "\n",
    "def pltdata_cooldiff(atmpro='mls'):\n",
    "    \n",
    "    d_clirad_singlerun = clirad_data_atm(\n",
    "        clirad_params_atm_singlerun(atmpro=atmpro))\n",
    "    d_clirad = clirad_data_atm(clirad_params_atm(atmpro=atmpro))\n",
    "    d_crd = crd_data_atm(lblnew_params_atm(atmpro=atmpro))\n",
    "    \n",
    "    ds_clirad_singlerun = d_clirad_singlerun['cool']\n",
    "    ds_clirad = d_clirad['cool']\n",
    "    ds_crd = d_crd['cool']\n",
    "    \n",
    "    ds_diff = ds_clirad_singlerun - ds_crd\n",
    "    \n",
    "    colors = all_palettes['Set1'][4]\n",
    "    \n",
    "    data = [\n",
    "        {'label': 'CLIRAD (single-run) - CRD',\n",
    "         'srs': fmt_cool(ds_diff),\n",
    "         'line_dash': 'solid', 'line_width': 1.5, \n",
    "         'marker': 'circle', 'marker_size': 7,\n",
    "         'color': colors[3], 'alpha': .8}\n",
    "    ]\n",
    "    \n",
    "    # include old CLIRAD's results for mls profile\n",
    "    if atmpro == 'mls':\n",
    "        d_oldclirad = oldclirad_data_atm()\n",
    "        ds_oldclirad = d_oldclirad['cool']\n",
    "        ds_oldclirad.coords['pressure'] = ds_crd.coords['pressure']\n",
    "        ds_diff_old = ds_oldclirad.sum('band') - ds_crd.sum('band')\n",
    "        data.append(\n",
    "            {'label': 'old CLIRAD (H2012) - CRD',\n",
    "             'srs': fmt_cool(ds_diff_old),\n",
    "             'line_dash': 'dashed', 'line_width': 4,\n",
    "             'color': colors[1], 'alpha': .5}\n",
    "        )\n",
    "    return data\n",
    "\n",
    "\n",
    "def show_cool(atmpro='mls'):\n",
    "    \n",
    "    data_cool = pltdata_cool(atmpro=atmpro)\n",
    "    p_cool_liny = plt_cool_bokeh(pltdata=data_cool)\n",
    "    p_cool_logy = plt_cool_bokeh(pltdata=data_cool, \n",
    "                                 y_axis_type='log',\n",
    "                                 prange=(.01, 200))\n",
    "    \n",
    "    data_cooldiff = pltdata_cooldiff(atmpro=atmpro)\n",
    "    p_cooldiff_logy = plt_cool_bokeh(pltdata=data_cooldiff,\n",
    "                                     y_axis_type='log',\n",
    "                                     prange=(.01, 200))\n",
    "    \n",
    "    everything = gridplot(p_cool_liny, p_cool_logy, \n",
    "                          p_cooldiff_logy,\n",
    "                          ncols=3)\n",
    "    show(everything)\n",
    "    display.display(\n",
    "        display.Markdown('*FIGURE.* Cooling rates & difference.'))\n",
    "\n",
    "\n",
    "    "
   ]
  },
  {
   "cell_type": "code",
   "execution_count": null,
   "metadata": {
    "collapsed": true
   },
   "outputs": [],
   "source": []
  },
  {
   "cell_type": "code",
   "execution_count": 508,
   "metadata": {
    "collapsed": true,
    "scrolled": false
   },
   "outputs": [],
   "source": [
    "\n",
    "\n",
    "def hist_band_vs_flux(da, title='Title'):\n",
    "       \n",
    "    bands = [str(b.values) for b in da['band']]\n",
    "\n",
    "    source = ColumnDataSource(\n",
    "        data={'band': bands, 'flux': da.values})\n",
    "\n",
    "    p = figure(x_range=bands, title=title)\n",
    "    p.vbar(source=source, x='band', top='flux', width=.9)\n",
    "\n",
    "    p.yaxis.axis_label = 'flux (W m-2)'\n",
    "    p.xaxis.axis_label = 'spectral band'\n",
    "    \n",
    "    return p\n",
    "\n",
    "\n",
    "def show_hist_flux(atmpro='mls'):\n",
    "    ds_crd = crd_data_atm(lblnew_params_atm(atmpro=atmpro))['flux']\n",
    "    ds_clirad = clirad_data_atm(\n",
    "        clirad_params_atm(atmpro=atmpro))['flux']\n",
    "    ds_clirad_singlerun = clirad_data_atm(\n",
    "        clirad_params_atm_singlerun(atmpro=atmpro))['flux']\n",
    "    \n",
    "    ip, varname = 0, 'flug'\n",
    "    da = (ds_clirad_singlerun - ds_crd).isel(pressure=ip)[varname]\n",
    "    p_toa = hist_band_vs_flux(da, \n",
    "        title='TOA flux. CLIRAD (single-run) - CRD.')\n",
    "\n",
    "    ip, varname = -1, 'fldg'\n",
    "    da = (ds_clirad_singlerun - ds_crd).isel(pressure=ip)[varname]\n",
    "    p_sfc = hist_band_vs_flux(da, \n",
    "        title='SFC flux. CLIRAD (single-run) - CRD.')    \n",
    "    \n",
    "    atm_crd = (ds_crd.isel(pressure=0) \n",
    "               - ds_crd.isel(pressure=-1))['fnetg']\n",
    "    atm_clirad_singlerun = (ds_clirad_singlerun.isel(pressure=0) \n",
    "                  - ds_clirad_singlerun.isel(pressure=-1))['fnetg']\n",
    "    da = atm_clirad_singlerun - atm_crd\n",
    "    p_atm = hist_band_vs_flux(da, \n",
    "        title='Atmosphere heating. CLIRAD (single-run) - CRD.')\n",
    "\n",
    "    everything = gridplot(p_toa, p_sfc, p_atm, ncols=3, \n",
    "                          plot_width=300, plot_height=300)\n",
    "    \n",
    "    show(everything)\n",
    "    display.display(\n",
    "        display.Markdown('*FIGURE.* Difference between CLIRAD and CRD'\n",
    "          ' in TOA, SFC and net atmosphere flux,'\n",
    "          ' in each spectral band.'))\n",
    "\n",
    "\n",
    "    \n",
    "def show_tb_flux(atmpro='mls'):\n",
    "    ds_crd = crd_data_atm(lblnew_params_atm(atmpro=atmpro))['flux']\n",
    "    olr_crd = ds_crd['flug'].isel(pressure=0)\n",
    "    sfc_crd = ds_crd['fldg'].isel(pressure=-1)\n",
    "    atm_crd = (ds_crd.isel(pressure=0)\n",
    "               - ds_crd.isel(pressure=-1))['fnetg']\n",
    "    \n",
    "    ds_clirad = clirad_data_atm(\n",
    "        clirad_params_atm(atmpro=atmpro))['flux']\n",
    "    olr_clirad = ds_clirad['flug'].isel(pressure=0)\n",
    "    sfc_clirad = ds_clirad['fldg'].isel(pressure=-1)\n",
    "    atm_clirad = (ds_clirad.isel(pressure=0)\n",
    "                  - ds_clirad.isel(pressure=-1))['fnetg']\n",
    "\n",
    "    ds_clirad_singlerun = clirad_data_atm(\n",
    "        clirad_params_atm_singlerun(atmpro=atmpro))['flux']\n",
    "    olr_clirad_singlerun = ds_clirad_singlerun['flug'].isel(pressure=0)\n",
    "    sfc_clirad_singlerun = ds_clirad_singlerun['fldg'].isel(pressure=-1)\n",
    "    atm_clirad_singlerun = (ds_clirad_singlerun.isel(pressure=0)\n",
    "                  - ds_clirad_singlerun.isel(pressure=-1))['fnetg']\n",
    "    \n",
    "    if atmpro == 'mls':\n",
    "        ds_oldclirad = oldclirad_data_atm()['flux']\n",
    "        ds_oldclirad['pressure'] = ds_crd['pressure']\n",
    "        olr_oldclirad = ds_oldclirad['flug'].isel(pressure=0)\n",
    "        sfc_oldclirad = ds_oldclirad['fldg'].isel(pressure=-1)\n",
    "        atm_oldclirad = (ds_oldclirad.isel(pressure=0)\n",
    "                         - ds_oldclirad.isel(pressure=-1))['fnetg']\n",
    "        \n",
    "    \n",
    "    \n",
    "    df = pd.DataFrame()\n",
    "    df.index.name = 'Sum over bands'\n",
    "    \n",
    "    if atmpro == 'mls':\n",
    "        df.loc['old CLIRAD - CRD', 'OLR flux'] = (olr_oldclirad.sum('band') - olr_crd.sum('band')).values\n",
    "        df.loc['old CLIRAD - CRD', 'SFC flux'] = (sfc_oldclirad.sum('band') - sfc_crd.sum('band')).values\n",
    "        df.loc['old CLIRAD - CRD', 'ATM heating'] = (atm_oldclirad.sum('band') - atm_crd.sum('band')).values\n",
    "    \n",
    "    df.loc['CLIRAD (single-run) - CRD', 'OLR flux'] = (olr_clirad_singlerun - olr_crd).sum('band').values\n",
    "    df.loc['CLIRAD (single-run) - CRD', 'SFC flux'] = (sfc_clirad_singlerun - sfc_crd).sum('band').values\n",
    "    df.loc['CLIRAD (single-run) - CRD', 'ATM heating'] = (atm_clirad_singlerun - atm_crd).sum('band').values\n",
    "\n",
    "    df.loc['CRD', 'OLR flux'] = olr_crd.sum('band').values\n",
    "    df.loc['CRD', 'SFC flux'] = sfc_crd.sum('band').values\n",
    "    df.loc['CRD', 'ATM heating'] = atm_crd.sum('band').values\n",
    "        \n",
    "    df = df.astype('float').round(2)\n",
    "    \n",
    "    display.display(df)\n",
    "    display.display(\n",
    "        display.Markdown('*TABLE.* Difference between CLIRAD and CRD'\n",
    "          ' in TOA, SFC and net atmosphere flux,'\n",
    "          ' over all spectral bands. CRD\\'s'\n",
    "          ' TOA, SFC and net atmosphere flux,'\n",
    "          ' over all spectral bands.'))\n"
   ]
  },
  {
   "cell_type": "code",
   "execution_count": 509,
   "metadata": {
    "scrolled": false
   },
   "outputs": [
    {
     "data": {
      "text/markdown": [
       "## Results over entire range of molecules and spectral bands"
      ],
      "text/plain": [
       "<IPython.core.display.Markdown object>"
      ]
     },
     "metadata": {},
     "output_type": "display_data"
    },
    {
     "data": {
      "text/markdown": [
       "### Table of Contents"
      ],
      "text/plain": [
       "<IPython.core.display.Markdown object>"
      ]
     },
     "metadata": {},
     "output_type": "display_data"
    },
    {
     "data": {
      "text/html": [
       "<a href=\"#Makeup_of_atmosphere.\">Makeup of atmosphere.</a>"
      ],
      "text/plain": [
       "<IPython.core.display.HTML object>"
      ]
     },
     "metadata": {},
     "output_type": "display_data"
    },
    {
     "data": {
      "text/markdown": [
       "**mid-latitude summer**"
      ],
      "text/plain": [
       "<IPython.core.display.Markdown object>"
      ]
     },
     "metadata": {},
     "output_type": "display_data"
    },
    {
     "data": {
      "text/html": [
       "<a href=\"#Cooling_rates._mls.\">Cooling rates. mls.</a>"
      ],
      "text/plain": [
       "<IPython.core.display.HTML object>"
      ]
     },
     "metadata": {},
     "output_type": "display_data"
    },
    {
     "data": {
      "text/html": [
       "<a href=\"#Fluxes._mls.\">Fluxes. mls.</a>"
      ],
      "text/plain": [
       "<IPython.core.display.HTML object>"
      ]
     },
     "metadata": {},
     "output_type": "display_data"
    },
    {
     "data": {
      "text/markdown": [
       "**sub-arctic winter**"
      ],
      "text/plain": [
       "<IPython.core.display.Markdown object>"
      ]
     },
     "metadata": {},
     "output_type": "display_data"
    },
    {
     "data": {
      "text/html": [
       "<a href=\"#Cooling_rates._saw.\">Cooling rates. saw.</a>"
      ],
      "text/plain": [
       "<IPython.core.display.HTML object>"
      ]
     },
     "metadata": {},
     "output_type": "display_data"
    },
    {
     "data": {
      "text/html": [
       "<a href=\"#Fluxes._saw.\">Fluxes. saw.</a>"
      ],
      "text/plain": [
       "<IPython.core.display.HTML object>"
      ]
     },
     "metadata": {},
     "output_type": "display_data"
    },
    {
     "data": {
      "text/markdown": [
       "**tropical**"
      ],
      "text/plain": [
       "<IPython.core.display.Markdown object>"
      ]
     },
     "metadata": {},
     "output_type": "display_data"
    },
    {
     "data": {
      "text/html": [
       "<a href=\"#Cooling_rates._trp.\">Cooling rates. trp.</a>"
      ],
      "text/plain": [
       "<IPython.core.display.HTML object>"
      ]
     },
     "metadata": {},
     "output_type": "display_data"
    },
    {
     "data": {
      "text/html": [
       "<a href=\"#Fluxes._trp.\">Fluxes. trp.</a>"
      ],
      "text/plain": [
       "<IPython.core.display.HTML object>"
      ]
     },
     "metadata": {},
     "output_type": "display_data"
    },
    {
     "data": {
      "text/html": [
       "<a id=\"Makeup_of_atmosphere.\"></a>"
      ],
      "text/plain": [
       "<IPython.core.display.HTML object>"
      ]
     },
     "metadata": {},
     "output_type": "display_data"
    },
    {
     "data": {
      "text/markdown": [
       "# Makeup of atmosphere."
      ],
      "text/plain": [
       "<IPython.core.display.Markdown object>"
      ]
     },
     "metadata": {},
     "output_type": "display_data"
    },
    {
     "data": {
      "text/html": [
       "<div>\n",
       "<style scoped>\n",
       "    .dataframe tbody tr th:only-of-type {\n",
       "        vertical-align: middle;\n",
       "    }\n",
       "\n",
       "    .dataframe tbody tr th {\n",
       "        vertical-align: top;\n",
       "    }\n",
       "\n",
       "    .dataframe thead th {\n",
       "        text-align: right;\n",
       "    }\n",
       "</style>\n",
       "<table border=\"1\" class=\"dataframe\">\n",
       "  <thead>\n",
       "    <tr style=\"text-align: right;\">\n",
       "      <th>clirad band</th>\n",
       "      <th>1</th>\n",
       "      <th>2</th>\n",
       "      <th>3</th>\n",
       "      <th>4</th>\n",
       "      <th>5</th>\n",
       "      <th>6</th>\n",
       "      <th>7</th>\n",
       "      <th>8</th>\n",
       "      <th>9</th>\n",
       "      <th>10</th>\n",
       "      <th>11</th>\n",
       "    </tr>\n",
       "    <tr>\n",
       "      <th>molecule</th>\n",
       "      <th></th>\n",
       "      <th></th>\n",
       "      <th></th>\n",
       "      <th></th>\n",
       "      <th></th>\n",
       "      <th></th>\n",
       "      <th></th>\n",
       "      <th></th>\n",
       "      <th></th>\n",
       "      <th></th>\n",
       "      <th></th>\n",
       "    </tr>\n",
       "  </thead>\n",
       "  <tbody>\n",
       "    <tr>\n",
       "      <th>h2o</th>\n",
       "      <td>atmpro</td>\n",
       "      <td>atmpro</td>\n",
       "      <td>atmpro</td>\n",
       "      <td>atmpro</td>\n",
       "      <td>atmpro</td>\n",
       "      <td>atmpro</td>\n",
       "      <td>atmpro</td>\n",
       "      <td>atmpro</td>\n",
       "      <td>atmpro</td>\n",
       "      <td>atmpro</td>\n",
       "      <td>atmpro</td>\n",
       "    </tr>\n",
       "    <tr>\n",
       "      <th>co2</th>\n",
       "      <td>0</td>\n",
       "      <td>0</td>\n",
       "      <td>0.0004</td>\n",
       "      <td>0.0004</td>\n",
       "      <td>0.0004</td>\n",
       "      <td>0.0004</td>\n",
       "      <td>0.0004</td>\n",
       "      <td>0</td>\n",
       "      <td>0</td>\n",
       "      <td>0</td>\n",
       "      <td>0.0004</td>\n",
       "    </tr>\n",
       "    <tr>\n",
       "      <th>n2o</th>\n",
       "      <td>0</td>\n",
       "      <td>0</td>\n",
       "      <td>3.2e-07</td>\n",
       "      <td>0</td>\n",
       "      <td>0</td>\n",
       "      <td>0</td>\n",
       "      <td>0</td>\n",
       "      <td>0</td>\n",
       "      <td>3.2e-07</td>\n",
       "      <td>0</td>\n",
       "      <td>0</td>\n",
       "    </tr>\n",
       "    <tr>\n",
       "      <th>o3</th>\n",
       "      <td>0</td>\n",
       "      <td>0</td>\n",
       "      <td>0</td>\n",
       "      <td>0</td>\n",
       "      <td>0</td>\n",
       "      <td>0</td>\n",
       "      <td>atmpro</td>\n",
       "      <td>0</td>\n",
       "      <td>0</td>\n",
       "      <td>0</td>\n",
       "      <td>0</td>\n",
       "    </tr>\n",
       "    <tr>\n",
       "      <th>ch4</th>\n",
       "      <td>0</td>\n",
       "      <td>0</td>\n",
       "      <td>0</td>\n",
       "      <td>0</td>\n",
       "      <td>0</td>\n",
       "      <td>0</td>\n",
       "      <td>0</td>\n",
       "      <td>0</td>\n",
       "      <td>1.8e-06</td>\n",
       "      <td>0</td>\n",
       "      <td>0</td>\n",
       "    </tr>\n",
       "  </tbody>\n",
       "</table>\n",
       "</div>"
      ],
      "text/plain": [
       "clirad band      1       2        3       4       5       6       7       8   \\\n",
       "molecule                                                                       \n",
       "h2o          atmpro  atmpro   atmpro  atmpro  atmpro  atmpro  atmpro  atmpro   \n",
       "co2               0       0   0.0004  0.0004  0.0004  0.0004  0.0004       0   \n",
       "n2o               0       0  3.2e-07       0       0       0       0       0   \n",
       "o3                0       0        0       0       0       0  atmpro       0   \n",
       "ch4               0       0        0       0       0       0       0       0   \n",
       "\n",
       "clirad band       9       10      11  \n",
       "molecule                              \n",
       "h2o           atmpro  atmpro  atmpro  \n",
       "co2                0       0  0.0004  \n",
       "n2o          3.2e-07       0       0  \n",
       "o3                 0       0       0  \n",
       "ch4          1.8e-06       0       0  "
      ]
     },
     "metadata": {},
     "output_type": "display_data"
    },
    {
     "data": {
      "text/markdown": [
       "*TABLE.* Non-grey absorbers in the atmosphere."
      ],
      "text/plain": [
       "<IPython.core.display.Markdown object>"
      ]
     },
     "metadata": {},
     "output_type": "display_data"
    },
    {
     "data": {
      "text/html": [
       "<div>\n",
       "<style scoped>\n",
       "    .dataframe tbody tr th:only-of-type {\n",
       "        vertical-align: middle;\n",
       "    }\n",
       "\n",
       "    .dataframe tbody tr th {\n",
       "        vertical-align: top;\n",
       "    }\n",
       "\n",
       "    .dataframe thead th {\n",
       "        text-align: right;\n",
       "    }\n",
       "</style>\n",
       "<table border=\"1\" class=\"dataframe\">\n",
       "  <thead>\n",
       "    <tr style=\"text-align: right;\">\n",
       "      <th>clirad band</th>\n",
       "      <th>1</th>\n",
       "      <th>2</th>\n",
       "      <th>3</th>\n",
       "      <th>4</th>\n",
       "      <th>5</th>\n",
       "      <th>6</th>\n",
       "      <th>7</th>\n",
       "      <th>8</th>\n",
       "      <th>9</th>\n",
       "    </tr>\n",
       "    <tr>\n",
       "      <th>absorber</th>\n",
       "      <th></th>\n",
       "      <th></th>\n",
       "      <th></th>\n",
       "      <th></th>\n",
       "      <th></th>\n",
       "      <th></th>\n",
       "      <th></th>\n",
       "      <th></th>\n",
       "      <th></th>\n",
       "    </tr>\n",
       "  </thead>\n",
       "  <tbody>\n",
       "    <tr>\n",
       "      <th>con</th>\n",
       "      <td>atmpro</td>\n",
       "      <td>atmpro</td>\n",
       "      <td>atmpro</td>\n",
       "      <td>atmpro</td>\n",
       "      <td>atmpro</td>\n",
       "      <td>atmpro</td>\n",
       "      <td>atmpro</td>\n",
       "      <td>atmpro</td>\n",
       "      <td>atmpro</td>\n",
       "    </tr>\n",
       "    <tr>\n",
       "      <th>n2o</th>\n",
       "      <td>0</td>\n",
       "      <td>0</td>\n",
       "      <td>0</td>\n",
       "      <td>0</td>\n",
       "      <td>0</td>\n",
       "      <td>0</td>\n",
       "      <td>0</td>\n",
       "      <td>3.2e-07</td>\n",
       "      <td>0</td>\n",
       "    </tr>\n",
       "  </tbody>\n",
       "</table>\n",
       "</div>"
      ],
      "text/plain": [
       "clirad band       1       2       3       4       5       6       7        8  \\\n",
       "absorber                                                                       \n",
       "con          atmpro  atmpro  atmpro  atmpro  atmpro  atmpro  atmpro   atmpro   \n",
       "n2o               0       0       0       0       0       0       0  3.2e-07   \n",
       "\n",
       "clirad band       9  \n",
       "absorber             \n",
       "con          atmpro  \n",
       "n2o               0  "
      ]
     },
     "metadata": {},
     "output_type": "display_data"
    },
    {
     "data": {
      "text/markdown": [
       "*TABLE.* Grey absorbers in the atmosphere."
      ],
      "text/plain": [
       "<IPython.core.display.Markdown object>"
      ]
     },
     "metadata": {},
     "output_type": "display_data"
    },
    {
     "data": {
      "text/html": [
       "<a id=\"Cooling_rates._mls.\"></a>"
      ],
      "text/plain": [
       "<IPython.core.display.HTML object>"
      ]
     },
     "metadata": {},
     "output_type": "display_data"
    },
    {
     "data": {
      "text/markdown": [
       "# Cooling rates. mls."
      ],
      "text/plain": [
       "<IPython.core.display.Markdown object>"
      ]
     },
     "metadata": {},
     "output_type": "display_data"
    },
    {
     "data": {
      "text/html": [
       "\n",
       "<div class=\"bk-root\">\n",
       "    <div class=\"bk-plotdiv\" id=\"93d2c868-4b5f-4839-8150-e56e022b2911\"></div>\n",
       "</div>"
      ]
     },
     "metadata": {},
     "output_type": "display_data"
    },
    {
     "data": {
      "application/javascript": [
       "(function(root) {\n",
       "  function embed_document(root) {\n",
       "    \n",
       "  var docs_json = {\"1e9da772-2ace-43db-8958-b40cd0569f50\":{\"roots\":{\"references\":[{\"attributes\":{\"line_alpha\":0.1,\"line_color\":\"#1f77b4\",\"line_width\":1.5,\"x\":{\"field\":\"x\"},\"y\":{\"field\":\"y\"}},\"id\":\"f47f2c54-865f-4c24-bd85-025a07021cf6\",\"type\":\"Line\"},{\"attributes\":{\"data_source\":{\"id\":\"6079df8d-f9b3-4bcb-9104-2bf4f9c9adb9\",\"type\":\"ColumnDataSource\"},\"glyph\":{\"id\":\"aa598150-8c0c-451c-90f2-e38e1123b29a\",\"type\":\"Line\"},\"hover_glyph\":null,\"muted_glyph\":null,\"nonselection_glyph\":{\"id\":\"f47f2c54-865f-4c24-bd85-025a07021cf6\",\"type\":\"Line\"},\"selection_glyph\":null,\"view\":{\"id\":\"5ccd3a9d-cd96-4152-a148-fb20f112c0e8\",\"type\":\"CDSView\"}},\"id\":\"5d51a380-119a-40d9-9aa2-e33b34032b02\",\"type\":\"GlyphRenderer\"},{\"attributes\":{\"callback\":null,\"data\":{\"x\":{\"__ndarray__\":\"cm1sTMT3VEDEyvjosEJHQOKI6DjzCUNArgQWV9awPkB9Lm8XG3M4QEz+Qv6iYzNA7eV8HaPLLkCX1QHyTpMoQFBmYSYetiNAUB04GtGpH0AmFyVE5j8ZQJca9QPGqBNALJP+OOHHDEBNxaf7QF8AQKtislomWuw/cW2dcO6A9T/uJJvfPu0EQIaQLTI/JQ1AxGiII+PmEkCJvfVeuCsYQD6ZBhGbHB9AXQw69DTYJEAsubcwKucqQNuT9D5OmipAJyi3szEJJUBlNebh5WkgQDDcPHBr2xlArtlANXuQFEBdJadFHckQQI2Avh0ZsQtAjYiwt1rsBUCL0SDoVBgAQK6C0nEEjvc/CggLSme58T9sXU2orFPnP0v0JYz9Gdg/vT38vxYczD9nBQTe6kHHP1IhkEXJwKo/8OZnhCVAub+xtVgCpmqzP6DUpY6g0+k/PKK3T1h4+D8RTDjQc1EAQG/dAQs7TwJAQt2eHpPLAEBWEh074x//PyCap9ZSGf4/rEzaTySm/T+7aXhHRmr9P688KeqeNP0/ruZ4EemD/D8olrZcn9T7P0+vNc9hW/s/i9VVL+4P+z+0NzC24uz6P8731Kza8vo/xFf4SHzq+z+gYyHpvHb8P68ROkiFevw/BAjYdCga/D8AUp8VbW77P3JrF/nKmvo/qCQeGfq++T/dplwHJfn4P2G4p+Uva/g/OzZ0RqMZ+D8dmn/iar73P/OuA7Ka8PY/gaaeQHGn9T9hkyjAH1L0P3aZGhdAU/M/n8VP/g7P8j+90HxHNvfyPwhNBtgrqvk/\",\"dtype\":\"float64\",\"shape\":[75]},\"y\":{\"__ndarray__\":\"GhExyth1ND/Sv8nbtpRIP2vylNV0PVE/aTum7souWD/At0SJ8fVgPw3Iuahxymc/MSNhhJWvcD/bTfBN02d3P2zb5nxnaoA/CD5h5MAGhz8NmeH1TyaQP+zrCsc9p5Y/LbKd76fGnz/bLW5ISEmmPww9YvTcQq8/JV2OstnstT8Er5Y7M8G+P0c+r3jqkcU/5h99k6ZBzj88bCIzFzjVP4enV8oyxN0//yH99nXg5D8qOpLLf0jtP5kqGJXUifQ/c9cS8kHP/D+/DpwzojQEQIEmwoanVwxA4lgXt9HgE0BSSZ2AJuIbQAMJih9jjiNA5q4l5INuK0AwTKYKRj0zQNv5fmq8/DpAaCJseHrtQkB/+zpwzoxKQM3MzMzMeFJAZmZmZmZqWEAAAAAAAFxeQM3MzMzMJmJAmpmZmZkfZUBmZmZmZhhoQDMzMzMzEWtAAAAAAAAKbkBmZmZmZoFwQM3MzMzM/XFAMzMzMzN6c0CamZmZmfZ0QAAAAAAAc3ZAZmZmZmbvd0DNzMzMzGt5QDMzMzMz6HpAmpmZmZlkfEAAAAAAAOF9QGZmZmZmXX9AZmZmZuZsgECamZmZGSuBQM3MzMxM6YFAAAAAAICngkAzMzMzs2WDQGZmZmbmI4RAmpmZmRnihEDNzMzMTKCFQAAAAACAXoZAMzMzM7Mch0BmZmZm5tqHQJqZmZkZmYhAzczMzExXiUAAAAAAgBWKQDMzMzOz04pAZmZmZuaRi0CamZmZGVCMQM3MzMxMDo1AAAAAAIDMjUAzMzMzs4qOQGZmZmbmSI9A\",\"dtype\":\"float64\",\"shape\":[75]}},\"selected\":{\"id\":\"315c6fda-da1a-4e51-b154-a324ff18ba24\",\"type\":\"Selection\"},\"selection_policy\":{\"id\":\"55f7ace4-3d4e-4580-be83-928b0b262837\",\"type\":\"UnionRenderers\"}},\"id\":\"c742ca63-0636-417b-9a09-ff2a69669faf\",\"type\":\"ColumnDataSource\"},{\"attributes\":{\"line_alpha\":0.5,\"line_color\":\"#984ea3\",\"line_width\":1.5,\"x\":{\"field\":\"x\"},\"y\":{\"field\":\"y\"}},\"id\":\"aa598150-8c0c-451c-90f2-e38e1123b29a\",\"type\":\"Line\"},{\"attributes\":{\"source\":{\"id\":\"38a74fd8-c46f-4a05-9d97-b07b81586089\",\"type\":\"ColumnDataSource\"}},\"id\":\"28bb8d80-0ba5-4041-b0db-cdaebf2e27e3\",\"type\":\"CDSView\"},{\"attributes\":{\"label\":{\"value\":\"CRD\"},\"renderers\":[{\"id\":\"4d6be3e4-1fa8-40c1-9582-9f1049912b02\",\"type\":\"GlyphRenderer\"},{\"id\":\"7d21d130-1e57-4ecc-a989-bfb61f4f6425\",\"type\":\"GlyphRenderer\"}]},\"id\":\"a7f982ee-dac7-4ca4-85e2-7907e05cbd52\",\"type\":\"LegendItem\"},{\"attributes\":{\"data_source\":{\"id\":\"38a74fd8-c46f-4a05-9d97-b07b81586089\",\"type\":\"ColumnDataSource\"},\"glyph\":{\"id\":\"f0e1d92c-d792-4202-a3da-d17f8c447064\",\"type\":\"Line\"},\"hover_glyph\":null,\"muted_glyph\":null,\"nonselection_glyph\":{\"id\":\"54230ec1-3514-4759-9106-1fb2b1790256\",\"type\":\"Line\"},\"selection_glyph\":null,\"view\":{\"id\":\"28bb8d80-0ba5-4041-b0db-cdaebf2e27e3\",\"type\":\"CDSView\"}},\"id\":\"783b12f0-b083-4549-8d2e-ecd22b93e1c4\",\"type\":\"GlyphRenderer\"},{\"attributes\":{\"source\":{\"id\":\"84224604-ab9e-49b2-a19b-ef12c059c7b5\",\"type\":\"ColumnDataSource\"}},\"id\":\"fee2ef73-7ede-4d92-a33f-e28b64fca0df\",\"type\":\"CDSView\"},{\"attributes\":{\"source\":{\"id\":\"c742ca63-0636-417b-9a09-ff2a69669faf\",\"type\":\"ColumnDataSource\"}},\"id\":\"a2443c48-6ad1-4f1c-b68b-19235f3cceea\",\"type\":\"CDSView\"},{\"attributes\":{\"label\":{\"value\":\"CLIRAD (single-run) - CRD\"},\"renderers\":[{\"id\":\"927ffc61-e753-4d8f-8a87-7118c39d4f76\",\"type\":\"GlyphRenderer\"},{\"id\":\"d97967ec-f1b2-4499-8f92-baeee5de77a8\",\"type\":\"GlyphRenderer\"}]},\"id\":\"a784210c-a69e-4f9f-b317-6275981cc33f\",\"type\":\"LegendItem\"},{\"attributes\":{\"callback\":null,\"data\":{\"x\":{\"__ndarray__\":\"cm1sTMT3VEDEyvjosEJHQOKI6DjzCUNArgQWV9awPkB9Lm8XG3M4QEz+Qv6iYzNA7eV8HaPLLkCX1QHyTpMoQFBmYSYetiNAUB04GtGpH0AmFyVE5j8ZQJca9QPGqBNALJP+OOHHDEBNxaf7QF8AQKtislomWuw/cW2dcO6A9T/uJJvfPu0EQIaQLTI/JQ1AxGiII+PmEkCJvfVeuCsYQD6ZBhGbHB9AXQw69DTYJEAsubcwKucqQNuT9D5OmipAJyi3szEJJUBlNebh5WkgQDDcPHBr2xlArtlANXuQFEBdJadFHckQQI2Avh0ZsQtAjYiwt1rsBUCL0SDoVBgAQK6C0nEEjvc/CggLSme58T9sXU2orFPnP0v0JYz9Gdg/vT38vxYczD9nBQTe6kHHP1IhkEXJwKo/8OZnhCVAub+xtVgCpmqzP6DUpY6g0+k/PKK3T1h4+D8RTDjQc1EAQG/dAQs7TwJAQt2eHpPLAEBWEh074x//PyCap9ZSGf4/rEzaTySm/T+7aXhHRmr9P688KeqeNP0/ruZ4EemD/D8olrZcn9T7P0+vNc9hW/s/i9VVL+4P+z+0NzC24uz6P8731Kza8vo/xFf4SHzq+z+gYyHpvHb8P68ROkiFevw/BAjYdCga/D8AUp8VbW77P3JrF/nKmvo/qCQeGfq++T/dplwHJfn4P2G4p+Uva/g/OzZ0RqMZ+D8dmn/iar73P/OuA7Ka8PY/gaaeQHGn9T9hkyjAH1L0P3aZGhdAU/M/n8VP/g7P8j+90HxHNvfyPwhNBtgrqvk/\",\"dtype\":\"float64\",\"shape\":[75]},\"y\":{\"__ndarray__\":\"GhExyth1ND/Sv8nbtpRIP2vylNV0PVE/aTum7souWD/At0SJ8fVgPw3Iuahxymc/MSNhhJWvcD/bTfBN02d3P2zb5nxnaoA/CD5h5MAGhz8NmeH1TyaQP+zrCsc9p5Y/LbKd76fGnz/bLW5ISEmmPww9YvTcQq8/JV2OstnstT8Er5Y7M8G+P0c+r3jqkcU/5h99k6ZBzj88bCIzFzjVP4enV8oyxN0//yH99nXg5D8qOpLLf0jtP5kqGJXUifQ/c9cS8kHP/D+/DpwzojQEQIEmwoanVwxA4lgXt9HgE0BSSZ2AJuIbQAMJih9jjiNA5q4l5INuK0AwTKYKRj0zQNv5fmq8/DpAaCJseHrtQkB/+zpwzoxKQM3MzMzMeFJAZmZmZmZqWEAAAAAAAFxeQM3MzMzMJmJAmpmZmZkfZUBmZmZmZhhoQDMzMzMzEWtAAAAAAAAKbkBmZmZmZoFwQM3MzMzM/XFAMzMzMzN6c0CamZmZmfZ0QAAAAAAAc3ZAZmZmZmbvd0DNzMzMzGt5QDMzMzMz6HpAmpmZmZlkfEAAAAAAAOF9QGZmZmZmXX9AZmZmZuZsgECamZmZGSuBQM3MzMxM6YFAAAAAAICngkAzMzMzs2WDQGZmZmbmI4RAmpmZmRnihEDNzMzMTKCFQAAAAACAXoZAMzMzM7Mch0BmZmZm5tqHQJqZmZkZmYhAzczMzExXiUAAAAAAgBWKQDMzMzOz04pAZmZmZuaRi0CamZmZGVCMQM3MzMxMDo1AAAAAAIDMjUAzMzMzs4qOQGZmZmbmSI9A\",\"dtype\":\"float64\",\"shape\":[75]}},\"selected\":{\"id\":\"96bd00bc-3034-47e8-b4c6-e10487309b22\",\"type\":\"Selection\"},\"selection_policy\":{\"id\":\"86ee02ad-7293-4fe1-ac5b-8fbd23f3e6ab\",\"type\":\"UnionRenderers\"}},\"id\":\"fd6896bc-f048-41a7-a4b2-fd3422adb262\",\"type\":\"ColumnDataSource\"},{\"attributes\":{},\"id\":\"04995f09-0e06-45c4-a66c-e917a5d6131f\",\"type\":\"BasicTickFormatter\"},{\"attributes\":{\"dimension\":1,\"plot\":{\"id\":\"5b435bc6-8957-4632-ae37-c734a89c1b24\",\"subtype\":\"Figure\",\"type\":\"Plot\"},\"ticker\":{\"id\":\"9f731297-1114-4f58-b6da-d19a1023a85c\",\"type\":\"LogTicker\"}},\"id\":\"ac5152cb-93d5-473e-af05-10093ff65464\",\"type\":\"Grid\"},{\"attributes\":{\"callback\":null,\"data\":{\"x\":{\"__ndarray__\":\"MXhf+wfXU0AZbvNjswdFQLQWsEQVdUFA5TlpnhT9QUB/x1dOYK05QImjxHmcEjZA9jYDSBB3L0AISPl4H6wqQBPuuwfAzyJAOcHprUZAIUB7WWpkesAXQJoT1Uq+ChVArO/8u0EXCkBgVNlshzgCQMeNQ+Nzu/I/POwv1Qzh+D9QxMRmcj8DQOrE7tC4mAxAQsLBRIlHEkAi4cPYoDEXQEeDpjRjzB1ASZ0GEfCuI0DVFj11sssnQOMiVKSMHyhAWRHvUxNoJEDo8cjD4g8gQLGGvR2NDRpAdpI3nV5oFECtyWH9Lp4QQIZQd9bvmwtAkshlnu1BBkBMysnQf1UAQHZJU/DYZ/c/HoEhV+G48T/rSm4vc/TmP3EgV4cD49g/xmy6+4w7zz+bEsjh3uDDPw5SRMRogKs/4GPKdPc1a78lazVXN1vCP/B84ODeUug/LOyxgXDV9z+/DBHyZAwAQAOIY+fy/QFAahF3XKCUAECV0GHvGsz+P+X4k4Nhvf0/RO/IqI98/T8rkW+v/zT9P59vGMDsAv0/zEX7plCY/D/E3siS8kj7P2yUMv+hDvs/RmrXDaYs+z+c9f5GCO36P58nVCbr7vo/Qus8hbcy/D+rD5hFMCf9P4t6dxofnPw/bRp4QYZ2/D/q8NNiN2b8P5YTVw9ESPw/l1Dy0X/K+j+WKih3ZdD5P2k8OYxHjvk/hceGh5N4+T8lpPahWSn5P6vJnePt4vY/UuhmxnXI9T8miFqdE+D0Pz7qfx5CR/Q/0khvq2US9D9LfVdHQGv0P9syeEmwYfg/\",\"dtype\":\"float64\",\"shape\":[75]},\"y\":{\"__ndarray__\":\"hLndy31yND/6fmq8dJNIP8n9DkWBPlE/aDum7souWD/b4a/JGvVgP9f34SAhymc/ZvM4DOavcD+z0M5pFmh3PxuC4zJuaoA/xjcUPlsHhz8uHAjJAiaQP9ieWRKgppY/oI7HDFTGnz+a5h2n6EimPzS6g9iZQq8/IuAQqtTstT9SSZ2AJsK+P4nS3uALk8U/ih9j7lpCzj+ASL99HTjVP4enV8oyxN0/ACL99nXg5D9fmEwVjErtPyUGgZVDi/Q/AiuHFtnO/D9OYhBYOTQEQPHSTWIQWAxA4XoUrkfhE0D8qfHSTeIbQMh2vp8ajyNArkfhehRuK0Bcj8L1KDwzQFyPwvUo/DpAPgrXo3DtQkDNzMzMzIxKQClcj8L1eFJAKVyPwvVoWECamZmZmVleQGZmZmZmJmJAAAAAAAAgZUCamZmZmRloQJqZmZmZEWtAmpmZmZkJbkCamZmZmYFwQGZmZmZm/nFAZmZmZmZ6c0BmZmZmZvZ0QDQzMzMzc3ZAAAAAAADwd0AAAAAAAGx5QAAAAAAA6HpAzMzMzMxkfEDMzMzMzOB9QM3MzMzMXH9AzczMzMxsgEAzMzMzMyuBQDMzMzMz6YFAMzMzMzOngkCamZmZmWWDQAAAAAAAJIRAAAAAAADihEAAAAAAAKCFQGZmZmZmXoZAzczMzMwch0DNzMzMzNqHQM3MzMzMmIhAMzMzMzNXiUCamZmZmRWKQAAAAAAA1IpAAAAAAACSi0AAAAAAAFCMQGZmZmZmDo1AzczMzMzMjUDNzMzMzIqOQM3MzMzMSI9A\",\"dtype\":\"float64\",\"shape\":[75]}},\"selected\":{\"id\":\"a83a3f00-8450-4a77-afab-420adfed46db\",\"type\":\"Selection\"},\"selection_policy\":{\"id\":\"c7ca55bf-3d75-4d20-965e-28fe1901232e\",\"type\":\"UnionRenderers\"}},\"id\":\"6079df8d-f9b3-4bcb-9104-2bf4f9c9adb9\",\"type\":\"ColumnDataSource\"},{\"attributes\":{\"fill_alpha\":{\"value\":0.7},\"fill_color\":{\"value\":\"#4daf4a\"},\"line_alpha\":{\"value\":0.7},\"line_color\":{\"value\":\"#4daf4a\"},\"x\":{\"field\":\"x\"},\"y\":{\"field\":\"y\"}},\"id\":\"570cab80-52ea-43ae-9bf6-74499160dc12\",\"type\":\"Circle\"},{\"attributes\":{\"callback\":null,\"data\":{\"x\":{\"__ndarray__\":\"EFTPEMULEsBY5Soo7NcRwOAih0PfTQnAcLzxlkslFUAgkIluU6TzP+gpDdzLdwVAICHKUKVt1T+Ik7s3hMbwP6AHr9TDy9y/ECnbDOK15j+w2qv7vfbXvzCQ/22EH9Y/ABwN6PuE1b8w8RgTZ5TNP8ZxqdeCOdI/WPaTJPMAyz/gCWaNx9zKv4Bz2SfMkLG/QNDU2Dvrw7/gjDvG8ELPv3BfAcZ9A9W/QPE2M06U4r+4EtXbvdv4v8CHA9UM1vO/wNkC+csj1L9A31CHx4DGv4BAVcDWEKk/AJyjBEwOpL8A2K0iJHelvwAHMEdHKYW/QAFQrblkpT+AYHxUdJWePwCcnL/AFYO/AIDdMF2+IL9AoMQ3Xs6Hv8CEJWa/IIk/SHjx3bH7mD9glt/hXwibv4AXhtbv81c/0ZPByHVmuD+ZIBKsyEuxPwB7VdwaDKi/AMK2wPlcpL+A1M+Jt0OhvwBblecIUqS/AOzlE2F5m79AcNDuEvKUv8BO6MRU/Ja/ALSuiFPKhL8ASGwETKOKvwCIZggV2Yi/AB5fgpVndD+A7LY9mXWhv8C4xgD0L5O/ALuUgd63fD8AAPReZ8gCPwB4gQY0fE+/gN8kEc8Okj9ggdWOaw6mPwButB7pzIA/QJoEKHMXlz9A3ZOmSfmuP0CC+mOR17o/8L5CjVu4sD8gd3D5DeiqP4BAGGl6MbI/oBQpEQTvtT+AoHD36662PwCQysucWWu/gOgg5EKCgD+gmD6me76hPwAZquxAgK4/MDP40Wo1tD/gyKr9n0C3P9Ci4ei4h7S/\",\"dtype\":\"float64\",\"shape\":[75]},\"y\":{\"__ndarray__\":\"GhExyth1ND/Sv8nbtpRIP2vylNV0PVE/aTum7souWD/At0SJ8fVgPw3Iuahxymc/MSNhhJWvcD/bTfBN02d3P2zb5nxnaoA/CD5h5MAGhz8NmeH1TyaQP+zrCsc9p5Y/LbKd76fGnz/bLW5ISEmmPww9YvTcQq8/JV2OstnstT8Er5Y7M8G+P0c+r3jqkcU/5h99k6ZBzj88bCIzFzjVP4enV8oyxN0//yH99nXg5D8qOpLLf0jtP5kqGJXUifQ/c9cS8kHP/D+/DpwzojQEQIEmwoanVwxA4lgXt9HgE0BSSZ2AJuIbQAMJih9jjiNA5q4l5INuK0AwTKYKRj0zQNv5fmq8/DpAaCJseHrtQkB/+zpwzoxKQM3MzMzMeFJAZmZmZmZqWEAAAAAAAFxeQM3MzMzMJmJAmpmZmZkfZUBmZmZmZhhoQDMzMzMzEWtAAAAAAAAKbkBmZmZmZoFwQM3MzMzM/XFAMzMzMzN6c0CamZmZmfZ0QAAAAAAAc3ZAZmZmZmbvd0DNzMzMzGt5QDMzMzMz6HpAmpmZmZlkfEAAAAAAAOF9QGZmZmZmXX9AZmZmZuZsgECamZmZGSuBQM3MzMxM6YFAAAAAAICngkAzMzMzs2WDQGZmZmbmI4RAmpmZmRnihEDNzMzMTKCFQAAAAACAXoZAMzMzM7Mch0BmZmZm5tqHQJqZmZkZmYhAzczMzExXiUAAAAAAgBWKQDMzMzOz04pAZmZmZuaRi0CamZmZGVCMQM3MzMxMDo1AAAAAAIDMjUAzMzMzs4qOQGZmZmbmSI9A\",\"dtype\":\"float64\",\"shape\":[75]}},\"selected\":{\"id\":\"6d228c4b-3cfe-4e88-8d60-a24764bfd612\",\"type\":\"Selection\"},\"selection_policy\":{\"id\":\"0c690ccf-72b9-4b2f-af3e-de45f752e4f1\",\"type\":\"UnionRenderers\"}},\"id\":\"38a74fd8-c46f-4a05-9d97-b07b81586089\",\"type\":\"ColumnDataSource\"},{\"attributes\":{\"line_alpha\":0.5,\"line_color\":\"#377eb8\",\"line_dash\":[6],\"line_width\":4,\"x\":{\"field\":\"x\"},\"y\":{\"field\":\"y\"}},\"id\":\"f0e1d92c-d792-4202-a3da-d17f8c447064\",\"type\":\"Line\"},{\"attributes\":{\"line_alpha\":0.1,\"line_color\":\"#1f77b4\",\"line_dash\":[6],\"line_width\":4,\"x\":{\"field\":\"x\"},\"y\":{\"field\":\"y\"}},\"id\":\"54230ec1-3514-4759-9106-1fb2b1790256\",\"type\":\"Line\"},{\"attributes\":{\"data_source\":{\"id\":\"c742ca63-0636-417b-9a09-ff2a69669faf\",\"type\":\"ColumnDataSource\"},\"glyph\":{\"id\":\"570cab80-52ea-43ae-9bf6-74499160dc12\",\"type\":\"Circle\"},\"hover_glyph\":null,\"muted_glyph\":null,\"nonselection_glyph\":{\"id\":\"6a654783-0d02-42fc-92f1-980ffa84c9bd\",\"type\":\"Circle\"},\"selection_glyph\":null,\"view\":{\"id\":\"a2443c48-6ad1-4f1c-b68b-19235f3cceea\",\"type\":\"CDSView\"}},\"id\":\"4d6be3e4-1fa8-40c1-9582-9f1049912b02\",\"type\":\"GlyphRenderer\"},{\"attributes\":{\"label\":{\"value\":\"CRD\"},\"renderers\":[{\"id\":\"5fbb0edf-bd6b-4a82-8ceb-0688a5509b32\",\"type\":\"GlyphRenderer\"},{\"id\":\"daf77d1c-bc1d-4b3b-9655-4403436e1dc6\",\"type\":\"GlyphRenderer\"}]},\"id\":\"b05c397a-ffa4-487d-8d3a-ad308111dd75\",\"type\":\"LegendItem\"},{\"attributes\":{\"axis_label\":\"pressure [mb]\",\"formatter\":{\"id\":\"f817fe11-ba29-41d8-83b2-a86fe1e80017\",\"type\":\"LogTickFormatter\"},\"plot\":{\"id\":\"5b435bc6-8957-4632-ae37-c734a89c1b24\",\"subtype\":\"Figure\",\"type\":\"Plot\"},\"ticker\":{\"id\":\"9f731297-1114-4f58-b6da-d19a1023a85c\",\"type\":\"LogTicker\"}},\"id\":\"083588ee-0a99-467d-b472-e1d7aeb15061\",\"type\":\"LogAxis\"},{\"attributes\":{\"fill_alpha\":{\"value\":0.1},\"fill_color\":{\"value\":\"#1f77b4\"},\"line_alpha\":{\"value\":0.1},\"line_color\":{\"value\":\"#1f77b4\"},\"x\":{\"field\":\"x\"},\"y\":{\"field\":\"y\"}},\"id\":\"6a654783-0d02-42fc-92f1-980ffa84c9bd\",\"type\":\"Circle\"},{\"attributes\":{\"source\":{\"id\":\"8d850c45-d722-4643-8365-5b1b54502abd\",\"type\":\"ColumnDataSource\"}},\"id\":\"598c391f-2165-43b5-8f5c-ccc2311654fd\",\"type\":\"CDSView\"},{\"attributes\":{\"source\":{\"id\":\"6ca5d972-7424-4369-abfd-409946728627\",\"type\":\"ColumnDataSource\"}},\"id\":\"a75ea4c2-8ebf-47a6-bd77-9b84d228f34e\",\"type\":\"CDSView\"},{\"attributes\":{\"label\":{\"value\":\"old CLIRAD (H2012)\"},\"renderers\":[{\"id\":\"de34a0ce-de81-4c1c-aa6f-e7a985d9418a\",\"type\":\"GlyphRenderer\"},{\"id\":\"5d51a380-119a-40d9-9aa2-e33b34032b02\",\"type\":\"GlyphRenderer\"}]},\"id\":\"31579bbc-a2e8-4f78-9946-8b5def6fb1ad\",\"type\":\"LegendItem\"},{\"attributes\":{\"plot\":null,\"text\":\"\"},\"id\":\"5b854be7-a157-4942-af6c-4c0e19821afe\",\"type\":\"Title\"},{\"attributes\":{\"above\":[{\"id\":\"2dc8f201-1f34-4a2b-b97e-fbc75fea24e9\",\"type\":\"Legend\"}],\"below\":[{\"id\":\"2dd2070c-764b-4b65-9d1e-6378a81e923e\",\"type\":\"LinearAxis\"}],\"left\":[{\"id\":\"3fdd8569-a1e2-4f91-ad07-932358ab34a9\",\"type\":\"LogAxis\"}],\"plot_width\":300,\"renderers\":[{\"id\":\"2dd2070c-764b-4b65-9d1e-6378a81e923e\",\"type\":\"LinearAxis\"},{\"id\":\"5c4eac07-5b6c-44cf-b36c-ec58db4e7012\",\"type\":\"Grid\"},{\"id\":\"3fdd8569-a1e2-4f91-ad07-932358ab34a9\",\"type\":\"LogAxis\"},{\"id\":\"bc369fc5-54be-49d8-9bbf-fb233453999b\",\"type\":\"Grid\"},{\"id\":\"7d455065-dbc2-4c31-909c-7f420c9d220e\",\"type\":\"BoxAnnotation\"},{\"id\":\"927ffc61-e753-4d8f-8a87-7118c39d4f76\",\"type\":\"GlyphRenderer\"},{\"id\":\"d97967ec-f1b2-4499-8f92-baeee5de77a8\",\"type\":\"GlyphRenderer\"},{\"id\":\"783b12f0-b083-4549-8d2e-ecd22b93e1c4\",\"type\":\"GlyphRenderer\"},{\"id\":\"2dc8f201-1f34-4a2b-b97e-fbc75fea24e9\",\"type\":\"Legend\"}],\"title\":{\"id\":\"c73111da-ac98-49bd-8f11-b71114144c85\",\"type\":\"Title\"},\"toolbar\":{\"id\":\"130b2fde-7c08-4ed4-a6d9-88cdf48f1fe2\",\"type\":\"Toolbar\"},\"toolbar_location\":null,\"x_range\":{\"id\":\"48bb7c77-dac3-4863-ada6-e024acfb08ae\",\"type\":\"Range1d\"},\"x_scale\":{\"id\":\"bae45489-deb8-4645-8cac-8d546c67ef41\",\"type\":\"LinearScale\"},\"y_range\":{\"id\":\"c68050f9-f04b-4e97-b467-ebef5b58a89a\",\"type\":\"Range1d\"},\"y_scale\":{\"id\":\"10d0d873-7332-43dd-9187-2dfadf358a9e\",\"type\":\"LogScale\"}},\"id\":\"2dd10246-2b68-4809-8157-5c15523b3c0a\",\"subtype\":\"Figure\",\"type\":\"Plot\"},{\"attributes\":{\"source\":{\"id\":\"6079df8d-f9b3-4bcb-9104-2bf4f9c9adb9\",\"type\":\"ColumnDataSource\"}},\"id\":\"5ccd3a9d-cd96-4152-a148-fb20f112c0e8\",\"type\":\"CDSView\"},{\"attributes\":{\"data_source\":{\"id\":\"82a16e3c-0f2b-4758-b45d-7008f38055d8\",\"type\":\"ColumnDataSource\"},\"glyph\":{\"id\":\"6366784c-b3e8-4a69-b697-bab3d82e3ff5\",\"type\":\"Line\"},\"hover_glyph\":null,\"muted_glyph\":null,\"nonselection_glyph\":{\"id\":\"8de2a032-89fa-4b2f-9e33-971472a492a5\",\"type\":\"Line\"},\"selection_glyph\":null,\"view\":{\"id\":\"0a6d8647-310c-4abd-9c5b-3f7e7251f562\",\"type\":\"CDSView\"}},\"id\":\"935ec7a8-535b-416d-8d9a-f93ab87b645a\",\"type\":\"GlyphRenderer\"},{\"attributes\":{\"label\":{\"value\":\"old CLIRAD (H2012) - CRD\"},\"renderers\":[{\"id\":\"783b12f0-b083-4549-8d2e-ecd22b93e1c4\",\"type\":\"GlyphRenderer\"}]},\"id\":\"3944ceb9-e685-4de4-bf0d-ee94594a2272\",\"type\":\"LegendItem\"},{\"attributes\":{\"source\":{\"id\":\"82a16e3c-0f2b-4758-b45d-7008f38055d8\",\"type\":\"ColumnDataSource\"}},\"id\":\"0a6d8647-310c-4abd-9c5b-3f7e7251f562\",\"type\":\"CDSView\"},{\"attributes\":{\"label\":{\"value\":\"CLIRAD (single-run)\"},\"renderers\":[{\"id\":\"eefe48cb-965e-4442-810c-cc8e9f7e8119\",\"type\":\"GlyphRenderer\"}]},\"id\":\"6a533a62-406f-4cd9-870c-1500d6b1787d\",\"type\":\"LegendItem\"},{\"attributes\":{},\"id\":\"4abde1f0-6e0b-495c-a1bd-62a41c2921a0\",\"type\":\"ResetTool\"},{\"attributes\":{},\"id\":\"16910d26-cbfb-4876-9fe0-dc4cc6fb8b2c\",\"type\":\"Selection\"},{\"attributes\":{\"line_alpha\":0.1,\"line_color\":\"#1f77b4\",\"line_width\":1.5,\"x\":{\"field\":\"x\"},\"y\":{\"field\":\"y\"}},\"id\":\"339edd48-2945-46d2-b4c9-4b6b284b42a1\",\"type\":\"Line\"},{\"attributes\":{\"active_drag\":\"auto\",\"active_inspect\":\"auto\",\"active_scroll\":\"auto\",\"active_tap\":\"auto\",\"tools\":[{\"id\":\"9242d1fd-2d22-448b-90bb-257a91660ead\",\"type\":\"PanTool\"},{\"id\":\"848d68c0-dd84-45b6-86c3-c0f716b4b63e\",\"type\":\"WheelZoomTool\"},{\"id\":\"14ba36e4-43f6-4e04-87d0-99cf42f0ed44\",\"type\":\"BoxZoomTool\"},{\"id\":\"1592af4e-dfc8-42a7-8ef6-6a5a02725985\",\"type\":\"SaveTool\"},{\"id\":\"3308cda8-3230-437b-ae36-786e472a55b5\",\"type\":\"ResetTool\"},{\"id\":\"5d8c2fd5-6921-442e-84f2-fb8e7b6357ba\",\"type\":\"HelpTool\"}]},\"id\":\"ef6228bd-5ff3-430a-b02a-33b317a4a123\",\"type\":\"Toolbar\"},{\"attributes\":{\"dimension\":1,\"plot\":{\"id\":\"2dd10246-2b68-4809-8157-5c15523b3c0a\",\"subtype\":\"Figure\",\"type\":\"Plot\"},\"ticker\":{\"id\":\"e85237f7-771f-4496-8231-5330dc5a6000\",\"type\":\"LogTicker\"}},\"id\":\"bc369fc5-54be-49d8-9bbf-fb233453999b\",\"type\":\"Grid\"},{\"attributes\":{},\"id\":\"55f7ace4-3d4e-4580-be83-928b0b262837\",\"type\":\"UnionRenderers\"},{\"attributes\":{\"children\":[{\"id\":\"adbdf3cd-f1f7-466d-af4c-ac2ebba86fe6\",\"type\":\"Row\"}]},\"id\":\"7b6bf5fe-3142-4d09-a8f9-bad03b87014f\",\"type\":\"Column\"},{\"attributes\":{},\"id\":\"074e8219-d670-4358-89fa-96e7cd765c1a\",\"type\":\"Selection\"},{\"attributes\":{},\"id\":\"5d8c2fd5-6921-442e-84f2-fb8e7b6357ba\",\"type\":\"HelpTool\"},{\"attributes\":{},\"id\":\"33705b73-d437-40e0-8643-d4c0151cd697\",\"type\":\"SaveTool\"},{\"attributes\":{\"source\":{\"id\":\"9d69b74b-ff00-4b52-b06f-545b7cfe2814\",\"type\":\"ColumnDataSource\"}},\"id\":\"aa7e2ba6-0f19-46b5-83f2-7f9b86e462a6\",\"type\":\"CDSView\"},{\"attributes\":{},\"id\":\"0c690ccf-72b9-4b2f-af3e-de45f752e4f1\",\"type\":\"UnionRenderers\"},{\"attributes\":{\"children\":[{\"id\":\"d711c7a4-7d80-4a69-a520-ecf7f7f977de\",\"subtype\":\"Figure\",\"type\":\"Plot\"},{\"id\":\"5b435bc6-8957-4632-ae37-c734a89c1b24\",\"subtype\":\"Figure\",\"type\":\"Plot\"},{\"id\":\"2dd10246-2b68-4809-8157-5c15523b3c0a\",\"subtype\":\"Figure\",\"type\":\"Plot\"}]},\"id\":\"adbdf3cd-f1f7-466d-af4c-ac2ebba86fe6\",\"type\":\"Row\"},{\"attributes\":{},\"id\":\"74280770-66e0-4823-8ac3-fd032f2a2ed2\",\"type\":\"UnionRenderers\"},{\"attributes\":{\"data_source\":{\"id\":\"3e9a444c-7623-426b-bde1-ec4f9b5ac182\",\"type\":\"ColumnDataSource\"},\"glyph\":{\"id\":\"c16ebeba-d853-4a36-b460-2771a3e5eb99\",\"type\":\"Line\"},\"hover_glyph\":null,\"muted_glyph\":null,\"nonselection_glyph\":{\"id\":\"4158bdcc-2175-4517-abd3-b71d45a2bb5c\",\"type\":\"Line\"},\"selection_glyph\":null,\"view\":{\"id\":\"30091172-eca5-438f-aa69-18465ceed510\",\"type\":\"CDSView\"}},\"id\":\"723a7f0e-7d94-49cb-8509-03f568f96dde\",\"type\":\"GlyphRenderer\"},{\"attributes\":{\"callback\":null,\"data\":{\"x\":{\"__ndarray__\":\"MXhf+wfXU0AZbvNjswdFQLQWsEQVdUFA5TlpnhT9QUB/x1dOYK05QImjxHmcEjZA9jYDSBB3L0AISPl4H6wqQBPuuwfAzyJAOcHprUZAIUB7WWpkesAXQJoT1Uq+ChVArO/8u0EXCkBgVNlshzgCQMeNQ+Nzu/I/POwv1Qzh+D9QxMRmcj8DQOrE7tC4mAxAQsLBRIlHEkAi4cPYoDEXQEeDpjRjzB1ASZ0GEfCuI0DVFj11sssnQOMiVKSMHyhAWRHvUxNoJEDo8cjD4g8gQLGGvR2NDRpAdpI3nV5oFECtyWH9Lp4QQIZQd9bvmwtAkshlnu1BBkBMysnQf1UAQHZJU/DYZ/c/HoEhV+G48T/rSm4vc/TmP3EgV4cD49g/xmy6+4w7zz+bEsjh3uDDPw5SRMRogKs/4GPKdPc1a78lazVXN1vCP/B84ODeUug/LOyxgXDV9z+/DBHyZAwAQAOIY+fy/QFAahF3XKCUAECV0GHvGsz+P+X4k4Nhvf0/RO/IqI98/T8rkW+v/zT9P59vGMDsAv0/zEX7plCY/D/E3siS8kj7P2yUMv+hDvs/RmrXDaYs+z+c9f5GCO36P58nVCbr7vo/Qus8hbcy/D+rD5hFMCf9P4t6dxofnPw/bRp4QYZ2/D/q8NNiN2b8P5YTVw9ESPw/l1Dy0X/K+j+WKih3ZdD5P2k8OYxHjvk/hceGh5N4+T8lpPahWSn5P6vJnePt4vY/UuhmxnXI9T8miFqdE+D0Pz7qfx5CR/Q/0khvq2US9D9LfVdHQGv0P9syeEmwYfg/\",\"dtype\":\"float64\",\"shape\":[75]},\"y\":{\"__ndarray__\":\"hLndy31yND/6fmq8dJNIP8n9DkWBPlE/aDum7souWD/b4a/JGvVgP9f34SAhymc/ZvM4DOavcD+z0M5pFmh3PxuC4zJuaoA/xjcUPlsHhz8uHAjJAiaQP9ieWRKgppY/oI7HDFTGnz+a5h2n6EimPzS6g9iZQq8/IuAQqtTstT9SSZ2AJsK+P4nS3uALk8U/ih9j7lpCzj+ASL99HTjVP4enV8oyxN0/ACL99nXg5D9fmEwVjErtPyUGgZVDi/Q/AiuHFtnO/D9OYhBYOTQEQPHSTWIQWAxA4XoUrkfhE0D8qfHSTeIbQMh2vp8ajyNArkfhehRuK0Bcj8L1KDwzQFyPwvUo/DpAPgrXo3DtQkDNzMzMzIxKQClcj8L1eFJAKVyPwvVoWECamZmZmVleQGZmZmZmJmJAAAAAAAAgZUCamZmZmRloQJqZmZmZEWtAmpmZmZkJbkCamZmZmYFwQGZmZmZm/nFAZmZmZmZ6c0BmZmZmZvZ0QDQzMzMzc3ZAAAAAAADwd0AAAAAAAGx5QAAAAAAA6HpAzMzMzMxkfEDMzMzMzOB9QM3MzMzMXH9AzczMzMxsgEAzMzMzMyuBQDMzMzMz6YFAMzMzMzOngkCamZmZmWWDQAAAAAAAJIRAAAAAAADihEAAAAAAAKCFQGZmZmZmXoZAzczMzMwch0DNzMzMzNqHQM3MzMzMmIhAMzMzMzNXiUCamZmZmRWKQAAAAAAA1IpAAAAAAACSi0AAAAAAAFCMQGZmZmZmDo1AzczMzMzMjUDNzMzMzIqOQM3MzMzMSI9A\",\"dtype\":\"float64\",\"shape\":[75]}},\"selected\":{\"id\":\"074e8219-d670-4358-89fa-96e7cd765c1a\",\"type\":\"Selection\"},\"selection_policy\":{\"id\":\"f27394cf-9126-4000-9107-31ae18834ff0\",\"type\":\"UnionRenderers\"}},\"id\":\"3e9a444c-7623-426b-bde1-ec4f9b5ac182\",\"type\":\"ColumnDataSource\"},{\"attributes\":{\"callback\":null,\"data\":{\"x\":{\"__ndarray__\":\"MXhf+wfXU0AZbvNjswdFQLQWsEQVdUFA5TlpnhT9QUB/x1dOYK05QImjxHmcEjZA9jYDSBB3L0AISPl4H6wqQBPuuwfAzyJAOcHprUZAIUB7WWpkesAXQJoT1Uq+ChVArO/8u0EXCkBgVNlshzgCQMeNQ+Nzu/I/POwv1Qzh+D9QxMRmcj8DQOrE7tC4mAxAQsLBRIlHEkAi4cPYoDEXQEeDpjRjzB1ASZ0GEfCuI0DVFj11sssnQOMiVKSMHyhAWRHvUxNoJEDo8cjD4g8gQLGGvR2NDRpAdpI3nV5oFECtyWH9Lp4QQIZQd9bvmwtAkshlnu1BBkBMysnQf1UAQHZJU/DYZ/c/HoEhV+G48T/rSm4vc/TmP3EgV4cD49g/xmy6+4w7zz+bEsjh3uDDPw5SRMRogKs/4GPKdPc1a78lazVXN1vCP/B84ODeUug/LOyxgXDV9z+/DBHyZAwAQAOIY+fy/QFAahF3XKCUAECV0GHvGsz+P+X4k4Nhvf0/RO/IqI98/T8rkW+v/zT9P59vGMDsAv0/zEX7plCY/D/E3siS8kj7P2yUMv+hDvs/RmrXDaYs+z+c9f5GCO36P58nVCbr7vo/Qus8hbcy/D+rD5hFMCf9P4t6dxofnPw/bRp4QYZ2/D/q8NNiN2b8P5YTVw9ESPw/l1Dy0X/K+j+WKih3ZdD5P2k8OYxHjvk/hceGh5N4+T8lpPahWSn5P6vJnePt4vY/UuhmxnXI9T8miFqdE+D0Pz7qfx5CR/Q/0khvq2US9D9LfVdHQGv0P9syeEmwYfg/\",\"dtype\":\"float64\",\"shape\":[75]},\"y\":{\"__ndarray__\":\"hLndy31yND/6fmq8dJNIP8n9DkWBPlE/aDum7souWD/b4a/JGvVgP9f34SAhymc/ZvM4DOavcD+z0M5pFmh3PxuC4zJuaoA/xjcUPlsHhz8uHAjJAiaQP9ieWRKgppY/oI7HDFTGnz+a5h2n6EimPzS6g9iZQq8/IuAQqtTstT9SSZ2AJsK+P4nS3uALk8U/ih9j7lpCzj+ASL99HTjVP4enV8oyxN0/ACL99nXg5D9fmEwVjErtPyUGgZVDi/Q/AiuHFtnO/D9OYhBYOTQEQPHSTWIQWAxA4XoUrkfhE0D8qfHSTeIbQMh2vp8ajyNArkfhehRuK0Bcj8L1KDwzQFyPwvUo/DpAPgrXo3DtQkDNzMzMzIxKQClcj8L1eFJAKVyPwvVoWECamZmZmVleQGZmZmZmJmJAAAAAAAAgZUCamZmZmRloQJqZmZmZEWtAmpmZmZkJbkCamZmZmYFwQGZmZmZm/nFAZmZmZmZ6c0BmZmZmZvZ0QDQzMzMzc3ZAAAAAAADwd0AAAAAAAGx5QAAAAAAA6HpAzMzMzMxkfEDMzMzMzOB9QM3MzMzMXH9AzczMzMxsgEAzMzMzMyuBQDMzMzMz6YFAMzMzMzOngkCamZmZmWWDQAAAAAAAJIRAAAAAAADihEAAAAAAAKCFQGZmZmZmXoZAzczMzMwch0DNzMzMzNqHQM3MzMzMmIhAMzMzMzNXiUCamZmZmRWKQAAAAAAA1IpAAAAAAACSi0AAAAAAAFCMQGZmZmZmDo1AzczMzMzMjUDNzMzMzIqOQM3MzMzMSI9A\",\"dtype\":\"float64\",\"shape\":[75]}},\"selected\":{\"id\":\"a96cd523-a890-48ee-ab63-be6fb92a7e6b\",\"type\":\"Selection\"},\"selection_policy\":{\"id\":\"fac7c097-0c65-4b4e-a0d5-4ff0310c03b7\",\"type\":\"UnionRenderers\"}},\"id\":\"9d69b74b-ff00-4b52-b06f-545b7cfe2814\",\"type\":\"ColumnDataSource\"},{\"attributes\":{\"line_alpha\":0.1,\"line_color\":\"#1f77b4\",\"line_width\":1.5,\"x\":{\"field\":\"x\"},\"y\":{\"field\":\"y\"}},\"id\":\"4158bdcc-2175-4517-abd3-b71d45a2bb5c\",\"type\":\"Line\"},{\"attributes\":{},\"id\":\"70798d5e-06b3-4ff2-985d-27c76244a17d\",\"type\":\"UnionRenderers\"},{\"attributes\":{\"tools\":[{\"id\":\"c35d9e84-a5bc-48c7-b06b-f87ebee2c9a4\",\"type\":\"PanTool\"},{\"id\":\"dcfe13f7-413c-4861-bb76-254f6847a51f\",\"type\":\"WheelZoomTool\"},{\"id\":\"02f9b664-f0bc-4c35-a11c-0fd7ae8bacf1\",\"type\":\"BoxZoomTool\"},{\"id\":\"2e79df48-dc45-402e-af39-00dcce6b4101\",\"type\":\"SaveTool\"},{\"id\":\"ac73e658-1cb7-4fd4-b3dd-b83a3ef78960\",\"type\":\"ResetTool\"},{\"id\":\"cdd6990c-b858-42f9-befa-3e1514a09719\",\"type\":\"HelpTool\"},{\"id\":\"9242d1fd-2d22-448b-90bb-257a91660ead\",\"type\":\"PanTool\"},{\"id\":\"848d68c0-dd84-45b6-86c3-c0f716b4b63e\",\"type\":\"WheelZoomTool\"},{\"id\":\"14ba36e4-43f6-4e04-87d0-99cf42f0ed44\",\"type\":\"BoxZoomTool\"},{\"id\":\"1592af4e-dfc8-42a7-8ef6-6a5a02725985\",\"type\":\"SaveTool\"},{\"id\":\"3308cda8-3230-437b-ae36-786e472a55b5\",\"type\":\"ResetTool\"},{\"id\":\"5d8c2fd5-6921-442e-84f2-fb8e7b6357ba\",\"type\":\"HelpTool\"},{\"id\":\"b960316f-2cef-46cc-ad80-2a12f37dd840\",\"type\":\"PanTool\"},{\"id\":\"b983b386-56cc-4260-a6fc-95842340e927\",\"type\":\"WheelZoomTool\"},{\"id\":\"51dd07c5-bc34-4400-9280-845129cc26e2\",\"type\":\"BoxZoomTool\"},{\"id\":\"33705b73-d437-40e0-8643-d4c0151cd697\",\"type\":\"SaveTool\"},{\"id\":\"4abde1f0-6e0b-495c-a1bd-62a41c2921a0\",\"type\":\"ResetTool\"},{\"id\":\"a7fc9d9f-d067-4ac9-963f-f09fa5b6fadf\",\"type\":\"HelpTool\"}]},\"id\":\"30c04cb0-7dbc-4cae-a9e5-a519d63b1721\",\"type\":\"ProxyToolbar\"},{\"attributes\":{},\"id\":\"9242d1fd-2d22-448b-90bb-257a91660ead\",\"type\":\"PanTool\"},{\"attributes\":{},\"id\":\"848d68c0-dd84-45b6-86c3-c0f716b4b63e\",\"type\":\"WheelZoomTool\"},{\"attributes\":{\"data_source\":{\"id\":\"fd6896bc-f048-41a7-a4b2-fd3422adb262\",\"type\":\"ColumnDataSource\"},\"glyph\":{\"id\":\"41917dc5-0814-451a-aba2-ebecb7a4663a\",\"type\":\"Line\"},\"hover_glyph\":null,\"muted_glyph\":null,\"nonselection_glyph\":{\"id\":\"339edd48-2945-46d2-b4c9-4b6b284b42a1\",\"type\":\"Line\"},\"selection_glyph\":null,\"view\":{\"id\":\"2840f7f1-d5bc-41fc-977e-3f3e3b8bf559\",\"type\":\"CDSView\"}},\"id\":\"7d21d130-1e57-4ecc-a989-bfb61f4f6425\",\"type\":\"GlyphRenderer\"},{\"attributes\":{\"items\":[{\"id\":\"6eaa3de0-2a46-41fa-96f9-da854d31dec8\",\"type\":\"LegendItem\"},{\"id\":\"a7f982ee-dac7-4ca4-85e2-7907e05cbd52\",\"type\":\"LegendItem\"},{\"id\":\"56c69948-5f81-41b0-bf01-837244066eb5\",\"type\":\"LegendItem\"}],\"label_text_font_size\":{\"value\":\"8pt\"},\"location\":\"top_center\",\"orientation\":\"horizontal\",\"plot\":{\"id\":\"d711c7a4-7d80-4a69-a520-ecf7f7f977de\",\"subtype\":\"Figure\",\"type\":\"Plot\"}},\"id\":\"4a9d5feb-0f95-4ab8-a485-79c6145c542d\",\"type\":\"Legend\"},{\"attributes\":{\"callback\":null,\"data\":{\"x\":{\"__ndarray__\":\"PJ4BuxvYRUBzldOxaxdDQEKUFHoO40FAwUp4Y4g+QEC5+FFyUD88QOZSQpNQPDdATgIoD7DoMUDJr0np1OMpQI8KMbvyGCJABi/hDoUwGkDRygwdDtoUQKlNILbnshFAzjQgGqpFDUAFRio8rI4DQPJHVOzq5/U/QNNGdP+B+j+LnGNpiy0FQEFUpQY3CwtAmkY5mLffEEBjWwCouRcWQIBLppV2/x1AE8tyOMjWJED6PwLlyM4qQHETNLSh/ilARjnkJGVRJEBVJF9hGEogQG/bpuyGaBtAMFP9rqAJFkDfIISyKywRQHE/ZOa/5wtAGBzYcJ0PCEAcUDhMWtICQJhW7F2UEvo/7kJN7DBU8T81MRGxcJrnPx4Ugr/ZItw/Xxt0eLZmzT8KMVUiDoTAP1mpS8dWN6K/bUua0HY9yb8GHhlxEguCv8b9y5XIzOc/UQiYzSCJ9z9A9NhiNCIAQDdXGN1krwFAhBlsTWcpAEAoDzbdzpv+P+2S/mmLkv0/9XiW4XX5/D9STrDO3Ov8P9JBOtvsK/0/FpYMgLDo/D9khKVUJqP8P3FfzdlwhPw/itEXLcWX/D8haCaUlcn8Pzm2ITWbMv0/mM8JkA4D/z8vvM9H0k8AQPAaU/O+2wBA7rkSWdkOAUDlrO18r+AAQP0pchxBdABAic4MxK0GAED1sjA/TG7/P/BsZqhed/8/bigS0m4CAECJxYSldXgAQP+wdQ490ABANlmtkBUHAUAtAhc43U0BQK6i5VaGywFApXRoll2FAkBfRLxt1ooDQBho655E5QdA\",\"dtype\":\"float64\",\"shape\":[75]},\"y\":{\"__ndarray__\":\"GhExyth1ND/Sv8nbtpRIP2vylNV0PVE/aTum7souWD/At0SJ8fVgPw3Iuahxymc/MSNhhJWvcD/bTfBN02d3P2zb5nxnaoA/CD5h5MAGhz8NmeH1TyaQP+zrCsc9p5Y/LbKd76fGnz/bLW5ISEmmPww9YvTcQq8/JV2OstnstT8Er5Y7M8G+P0c+r3jqkcU/5h99k6ZBzj88bCIzFzjVP4enV8oyxN0//yH99nXg5D8qOpLLf0jtP5kqGJXUifQ/c9cS8kHP/D+/DpwzojQEQIEmwoanVwxA4lgXt9HgE0BSSZ2AJuIbQAMJih9jjiNA5q4l5INuK0AwTKYKRj0zQNv5fmq8/DpAaCJseHrtQkB/+zpwzoxKQM3MzMzMeFJAZmZmZmZqWEAAAAAAAFxeQM3MzMzMJmJAmpmZmZkfZUBmZmZmZhhoQDMzMzMzEWtAAAAAAAAKbkBmZmZmZoFwQM3MzMzM/XFAMzMzMzN6c0CamZmZmfZ0QAAAAAAAc3ZAZmZmZmbvd0DNzMzMzGt5QDMzMzMz6HpAmpmZmZlkfEAAAAAAAOF9QGZmZmZmXX9AZmZmZuZsgECamZmZGSuBQM3MzMxM6YFAAAAAAICngkAzMzMzs2WDQGZmZmbmI4RAmpmZmRnihEDNzMzMTKCFQAAAAACAXoZAMzMzM7Mch0BmZmZm5tqHQJqZmZkZmYhAzczMzExXiUAAAAAAgBWKQDMzMzOz04pAZmZmZuaRi0CamZmZGVCMQM3MzMxMDo1AAAAAAIDMjUAzMzMzs4qOQGZmZmbmSI9A\",\"dtype\":\"float64\",\"shape\":[75]}},\"selected\":{\"id\":\"ee99239b-c5d4-49f6-a9b4-846827d63c0a\",\"type\":\"Selection\"},\"selection_policy\":{\"id\":\"22b1b45e-a962-43b8-8136-d5c6d6a5a776\",\"type\":\"UnionRenderers\"}},\"id\":\"82a16e3c-0f2b-4758-b45d-7008f38055d8\",\"type\":\"ColumnDataSource\"},{\"attributes\":{},\"id\":\"eb14687f-7509-4708-abe8-7fd36b89f49e\",\"type\":\"UnionRenderers\"},{\"attributes\":{\"line_alpha\":0.6,\"line_color\":\"#377eb8\",\"line_dash\":[6],\"line_width\":5,\"x\":{\"field\":\"x\"},\"y\":{\"field\":\"y\"}},\"id\":\"6366784c-b3e8-4a69-b697-bab3d82e3ff5\",\"type\":\"Line\"},{\"attributes\":{\"fill_alpha\":{\"value\":0.1},\"fill_color\":{\"value\":\"#1f77b4\"},\"line_alpha\":{\"value\":0.1},\"line_color\":{\"value\":\"#1f77b4\"},\"x\":{\"field\":\"x\"},\"y\":{\"field\":\"y\"}},\"id\":\"92c2aa49-c8dd-4fb5-b725-816405ffe93b\",\"type\":\"Square\"},{\"attributes\":{},\"id\":\"6d228c4b-3cfe-4e88-8d60-a24764bfd612\",\"type\":\"Selection\"},{\"attributes\":{\"overlay\":{\"id\":\"6f7931d1-fdf3-4b4a-a9b6-7da7673940d0\",\"type\":\"BoxAnnotation\"}},\"id\":\"14ba36e4-43f6-4e04-87d0-99cf42f0ed44\",\"type\":\"BoxZoomTool\"},{\"attributes\":{\"line_alpha\":0.5,\"line_color\":\"#984ea3\",\"line_width\":1.5,\"x\":{\"field\":\"x\"},\"y\":{\"field\":\"y\"}},\"id\":\"c16ebeba-d853-4a36-b460-2771a3e5eb99\",\"type\":\"Line\"},{\"attributes\":{},\"id\":\"96bd00bc-3034-47e8-b4c6-e10487309b22\",\"type\":\"Selection\"},{\"attributes\":{\"data_source\":{\"id\":\"9d69b74b-ff00-4b52-b06f-545b7cfe2814\",\"type\":\"ColumnDataSource\"},\"glyph\":{\"id\":\"09d25bfd-d55e-4aca-9033-35c1fdf448db\",\"type\":\"Square\"},\"hover_glyph\":null,\"muted_glyph\":null,\"nonselection_glyph\":{\"id\":\"92c2aa49-c8dd-4fb5-b725-816405ffe93b\",\"type\":\"Square\"},\"selection_glyph\":null,\"view\":{\"id\":\"aa7e2ba6-0f19-46b5-83f2-7f9b86e462a6\",\"type\":\"CDSView\"}},\"id\":\"41f6f08e-a04e-405a-9b4a-078139076a87\",\"type\":\"GlyphRenderer\"},{\"attributes\":{},\"id\":\"1592af4e-dfc8-42a7-8ef6-6a5a02725985\",\"type\":\"SaveTool\"},{\"attributes\":{\"num_minor_ticks\":10},\"id\":\"e85237f7-771f-4496-8231-5330dc5a6000\",\"type\":\"LogTicker\"},{\"attributes\":{\"toolbar\":{\"id\":\"30c04cb0-7dbc-4cae-a9e5-a519d63b1721\",\"type\":\"ProxyToolbar\"},\"toolbar_location\":\"above\"},\"id\":\"55f1d756-9591-4182-ac6a-ab4ff8ea91dc\",\"type\":\"ToolbarBox\"},{\"attributes\":{\"source\":{\"id\":\"3e9a444c-7623-426b-bde1-ec4f9b5ac182\",\"type\":\"ColumnDataSource\"}},\"id\":\"30091172-eca5-438f-aa69-18465ceed510\",\"type\":\"CDSView\"},{\"attributes\":{\"callback\":null,\"end\":0.01,\"start\":1020},\"id\":\"c68050f9-f04b-4e97-b467-ebef5b58a89a\",\"type\":\"Range1d\"},{\"attributes\":{\"above\":[{\"id\":\"6b209e82-e648-445e-bcd7-f0145c3d2612\",\"type\":\"Legend\"}],\"below\":[{\"id\":\"cde22954-16aa-467e-b5dc-a933bb2167ec\",\"type\":\"LinearAxis\"}],\"left\":[{\"id\":\"083588ee-0a99-467d-b472-e1d7aeb15061\",\"type\":\"LogAxis\"}],\"plot_width\":300,\"renderers\":[{\"id\":\"cde22954-16aa-467e-b5dc-a933bb2167ec\",\"type\":\"LinearAxis\"},{\"id\":\"217b47a0-4bbc-459a-9fbc-e3d46a5736aa\",\"type\":\"Grid\"},{\"id\":\"083588ee-0a99-467d-b472-e1d7aeb15061\",\"type\":\"LogAxis\"},{\"id\":\"ac5152cb-93d5-473e-af05-10093ff65464\",\"type\":\"Grid\"},{\"id\":\"6f7931d1-fdf3-4b4a-a9b6-7da7673940d0\",\"type\":\"BoxAnnotation\"},{\"id\":\"eefe48cb-965e-4442-810c-cc8e9f7e8119\",\"type\":\"GlyphRenderer\"},{\"id\":\"5fbb0edf-bd6b-4a82-8ceb-0688a5509b32\",\"type\":\"GlyphRenderer\"},{\"id\":\"daf77d1c-bc1d-4b3b-9655-4403436e1dc6\",\"type\":\"GlyphRenderer\"},{\"id\":\"de34a0ce-de81-4c1c-aa6f-e7a985d9418a\",\"type\":\"GlyphRenderer\"},{\"id\":\"5d51a380-119a-40d9-9aa2-e33b34032b02\",\"type\":\"GlyphRenderer\"},{\"id\":\"6b209e82-e648-445e-bcd7-f0145c3d2612\",\"type\":\"Legend\"}],\"title\":{\"id\":\"f9b7fdb5-bc2f-4b01-98a5-2b50bbc2245b\",\"type\":\"Title\"},\"toolbar\":{\"id\":\"ef6228bd-5ff3-430a-b02a-33b317a4a123\",\"type\":\"Toolbar\"},\"toolbar_location\":null,\"x_range\":{\"id\":\"803b7884-c1b0-4efb-956e-8c7ee87a6aa0\",\"type\":\"Range1d\"},\"x_scale\":{\"id\":\"6865498f-3af0-4048-9074-28037e4d3f48\",\"type\":\"LinearScale\"},\"y_range\":{\"id\":\"1a70bb18-764e-4545-8cc8-eee971f07be9\",\"type\":\"Range1d\"},\"y_scale\":{\"id\":\"fadc73fb-e799-46d2-b729-7cb2a53ac35a\",\"type\":\"LogScale\"}},\"id\":\"5b435bc6-8957-4632-ae37-c734a89c1b24\",\"subtype\":\"Figure\",\"type\":\"Plot\"},{\"attributes\":{},\"id\":\"f27394cf-9126-4000-9107-31ae18834ff0\",\"type\":\"UnionRenderers\"},{\"attributes\":{\"overlay\":{\"id\":\"7d455065-dbc2-4c31-909c-7f420c9d220e\",\"type\":\"BoxAnnotation\"}},\"id\":\"51dd07c5-bc34-4400-9280-845129cc26e2\",\"type\":\"BoxZoomTool\"},{\"attributes\":{},\"id\":\"86ee02ad-7293-4fe1-ac5b-8fbd23f3e6ab\",\"type\":\"UnionRenderers\"},{\"attributes\":{\"bottom_units\":\"screen\",\"fill_alpha\":{\"value\":0.5},\"fill_color\":{\"value\":\"lightgrey\"},\"left_units\":\"screen\",\"level\":\"overlay\",\"line_alpha\":{\"value\":1.0},\"line_color\":{\"value\":\"black\"},\"line_dash\":[4,4],\"line_width\":{\"value\":2},\"plot\":null,\"render_mode\":\"css\",\"right_units\":\"screen\",\"top_units\":\"screen\"},\"id\":\"7d455065-dbc2-4c31-909c-7f420c9d220e\",\"type\":\"BoxAnnotation\"},{\"attributes\":{},\"id\":\"c7ca55bf-3d75-4d20-965e-28fe1901232e\",\"type\":\"UnionRenderers\"},{\"attributes\":{},\"id\":\"b1c116cc-f14e-4a51-8a5e-2b2c45d43bf5\",\"type\":\"UnionRenderers\"},{\"attributes\":{},\"id\":\"a7fc9d9f-d067-4ac9-963f-f09fa5b6fadf\",\"type\":\"HelpTool\"},{\"attributes\":{\"ticker\":null},\"id\":\"996f38f9-3c70-44ba-a5a7-899368b1a6ce\",\"type\":\"LogTickFormatter\"},{\"attributes\":{\"children\":[{\"id\":\"55f1d756-9591-4182-ac6a-ab4ff8ea91dc\",\"type\":\"ToolbarBox\"},{\"id\":\"7b6bf5fe-3142-4d09-a8f9-bad03b87014f\",\"type\":\"Column\"}]},\"id\":\"5741e31c-1bf2-4437-879e-62cbddd38d1a\",\"type\":\"Column\"},{\"attributes\":{\"source\":{\"id\":\"fd6896bc-f048-41a7-a4b2-fd3422adb262\",\"type\":\"ColumnDataSource\"}},\"id\":\"2840f7f1-d5bc-41fc-977e-3f3e3b8bf559\",\"type\":\"CDSView\"},{\"attributes\":{},\"id\":\"b983b386-56cc-4260-a6fc-95842340e927\",\"type\":\"WheelZoomTool\"},{\"attributes\":{\"fill_alpha\":{\"value\":0.7},\"fill_color\":{\"value\":\"#984ea3\"},\"line_alpha\":{\"value\":0.7},\"line_color\":{\"value\":\"#984ea3\"},\"x\":{\"field\":\"x\"},\"y\":{\"field\":\"y\"}},\"id\":\"09d25bfd-d55e-4aca-9033-35c1fdf448db\",\"type\":\"Square\"},{\"attributes\":{},\"id\":\"27005997-0326-4e68-a4f3-e97e8bce5224\",\"type\":\"Selection\"},{\"attributes\":{},\"id\":\"3308cda8-3230-437b-ae36-786e472a55b5\",\"type\":\"ResetTool\"},{\"attributes\":{},\"id\":\"b960316f-2cef-46cc-ad80-2a12f37dd840\",\"type\":\"PanTool\"},{\"attributes\":{\"axis_label\":\"pressure [mb]\",\"formatter\":{\"id\":\"996f38f9-3c70-44ba-a5a7-899368b1a6ce\",\"type\":\"LogTickFormatter\"},\"plot\":{\"id\":\"2dd10246-2b68-4809-8157-5c15523b3c0a\",\"subtype\":\"Figure\",\"type\":\"Plot\"},\"ticker\":{\"id\":\"e85237f7-771f-4496-8231-5330dc5a6000\",\"type\":\"LogTicker\"}},\"id\":\"3fdd8569-a1e2-4f91-ad07-932358ab34a9\",\"type\":\"LogAxis\"},{\"attributes\":{\"bottom_units\":\"screen\",\"fill_alpha\":{\"value\":0.5},\"fill_color\":{\"value\":\"lightgrey\"},\"left_units\":\"screen\",\"level\":\"overlay\",\"line_alpha\":{\"value\":1.0},\"line_color\":{\"value\":\"black\"},\"line_dash\":[4,4],\"line_width\":{\"value\":2},\"plot\":null,\"render_mode\":\"css\",\"right_units\":\"screen\",\"top_units\":\"screen\"},\"id\":\"6f7931d1-fdf3-4b4a-a9b6-7da7673940d0\",\"type\":\"BoxAnnotation\"},{\"attributes\":{},\"id\":\"e6a48491-3834-4ccb-acb6-8acf927aba14\",\"type\":\"BasicTickFormatter\"},{\"attributes\":{\"line_color\":\"#4daf4a\",\"line_width\":1.5,\"x\":{\"field\":\"x\"},\"y\":{\"field\":\"y\"}},\"id\":\"41917dc5-0814-451a-aba2-ebecb7a4663a\",\"type\":\"Line\"},{\"attributes\":{},\"id\":\"2fa7bbf8-e5ff-460f-acc6-7b7b952c3108\",\"type\":\"BasicTickFormatter\"},{\"attributes\":{},\"id\":\"a96cd523-a890-48ee-ab63-be6fb92a7e6b\",\"type\":\"Selection\"},{\"attributes\":{},\"id\":\"2e2d578a-7aca-4742-a196-1e996d7d3579\",\"type\":\"UnionRenderers\"},{\"attributes\":{},\"id\":\"fac7c097-0c65-4b4e-a0d5-4ff0310c03b7\",\"type\":\"UnionRenderers\"},{\"attributes\":{\"line_alpha\":0.1,\"line_color\":\"#1f77b4\",\"line_dash\":[6],\"line_width\":5,\"x\":{\"field\":\"x\"},\"y\":{\"field\":\"y\"}},\"id\":\"8de2a032-89fa-4b2f-9e33-971472a492a5\",\"type\":\"Line\"},{\"attributes\":{\"callback\":null,\"data\":{\"x\":{\"__ndarray__\":\"cm1sTMT3VEDEyvjosEJHQOKI6DjzCUNArgQWV9awPkB9Lm8XG3M4QEz+Qv6iYzNA7eV8HaPLLkCX1QHyTpMoQFBmYSYetiNAUB04GtGpH0AmFyVE5j8ZQJca9QPGqBNALJP+OOHHDEBNxaf7QF8AQKtislomWuw/cW2dcO6A9T/uJJvfPu0EQIaQLTI/JQ1AxGiII+PmEkCJvfVeuCsYQD6ZBhGbHB9AXQw69DTYJEAsubcwKucqQNuT9D5OmipAJyi3szEJJUBlNebh5WkgQDDcPHBr2xlArtlANXuQFEBdJadFHckQQI2Avh0ZsQtAjYiwt1rsBUCL0SDoVBgAQK6C0nEEjvc/CggLSme58T9sXU2orFPnP0v0JYz9Gdg/vT38vxYczD9nBQTe6kHHP1IhkEXJwKo/8OZnhCVAub+xtVgCpmqzP6DUpY6g0+k/PKK3T1h4+D8RTDjQc1EAQG/dAQs7TwJAQt2eHpPLAEBWEh074x//PyCap9ZSGf4/rEzaTySm/T+7aXhHRmr9P688KeqeNP0/ruZ4EemD/D8olrZcn9T7P0+vNc9hW/s/i9VVL+4P+z+0NzC24uz6P8731Kza8vo/xFf4SHzq+z+gYyHpvHb8P68ROkiFevw/BAjYdCga/D8AUp8VbW77P3JrF/nKmvo/qCQeGfq++T/dplwHJfn4P2G4p+Uva/g/OzZ0RqMZ+D8dmn/iar73P/OuA7Ka8PY/gaaeQHGn9T9hkyjAH1L0P3aZGhdAU/M/n8VP/g7P8j+90HxHNvfyPwhNBtgrqvk/\",\"dtype\":\"float64\",\"shape\":[75]},\"y\":{\"__ndarray__\":\"GhExyth1ND/Sv8nbtpRIP2vylNV0PVE/aTum7souWD/At0SJ8fVgPw3Iuahxymc/MSNhhJWvcD/bTfBN02d3P2zb5nxnaoA/CD5h5MAGhz8NmeH1TyaQP+zrCsc9p5Y/LbKd76fGnz/bLW5ISEmmPww9YvTcQq8/JV2OstnstT8Er5Y7M8G+P0c+r3jqkcU/5h99k6ZBzj88bCIzFzjVP4enV8oyxN0//yH99nXg5D8qOpLLf0jtP5kqGJXUifQ/c9cS8kHP/D+/DpwzojQEQIEmwoanVwxA4lgXt9HgE0BSSZ2AJuIbQAMJih9jjiNA5q4l5INuK0AwTKYKRj0zQNv5fmq8/DpAaCJseHrtQkB/+zpwzoxKQM3MzMzMeFJAZmZmZmZqWEAAAAAAAFxeQM3MzMzMJmJAmpmZmZkfZUBmZmZmZhhoQDMzMzMzEWtAAAAAAAAKbkBmZmZmZoFwQM3MzMzM/XFAMzMzMzN6c0CamZmZmfZ0QAAAAAAAc3ZAZmZmZmbvd0DNzMzMzGt5QDMzMzMz6HpAmpmZmZlkfEAAAAAAAOF9QGZmZmZmXX9AZmZmZuZsgECamZmZGSuBQM3MzMxM6YFAAAAAAICngkAzMzMzs2WDQGZmZmbmI4RAmpmZmRnihEDNzMzMTKCFQAAAAACAXoZAMzMzM7Mch0BmZmZm5tqHQJqZmZkZmYhAzczMzExXiUAAAAAAgBWKQDMzMzOz04pAZmZmZuaRi0CamZmZGVCMQM3MzMxMDo1AAAAAAIDMjUAzMzMzs4qOQGZmZmbmSI9A\",\"dtype\":\"float64\",\"shape\":[75]}},\"selected\":{\"id\":\"16910d26-cbfb-4876-9fe0-dc4cc6fb8b2c\",\"type\":\"Selection\"},\"selection_policy\":{\"id\":\"70798d5e-06b3-4ff2-985d-27c76244a17d\",\"type\":\"UnionRenderers\"}},\"id\":\"bcec2a39-48fd-4421-a25e-934e202aea17\",\"type\":\"ColumnDataSource\"},{\"attributes\":{},\"id\":\"dcfe13f7-413c-4861-bb76-254f6847a51f\",\"type\":\"WheelZoomTool\"},{\"attributes\":{\"fill_alpha\":{\"value\":0.7},\"fill_color\":{\"value\":\"#984ea3\"},\"line_alpha\":{\"value\":0.7},\"line_color\":{\"value\":\"#984ea3\"},\"x\":{\"field\":\"x\"},\"y\":{\"field\":\"y\"}},\"id\":\"4a80027a-78c0-4ee4-8602-bf7556c66f3a\",\"type\":\"Square\"},{\"attributes\":{\"axis_label\":\"cooling rate [K/day]\",\"formatter\":{\"id\":\"e6a48491-3834-4ccb-acb6-8acf927aba14\",\"type\":\"BasicTickFormatter\"},\"plot\":{\"id\":\"5b435bc6-8957-4632-ae37-c734a89c1b24\",\"subtype\":\"Figure\",\"type\":\"Plot\"},\"ticker\":{\"id\":\"007e5543-5dfd-488f-a01d-f76099860a1b\",\"type\":\"BasicTicker\"}},\"id\":\"cde22954-16aa-467e-b5dc-a933bb2167ec\",\"type\":\"LinearAxis\"},{\"attributes\":{\"callback\":null,\"data\":{\"x\":{\"__ndarray__\":\"PJ4BuxvYRUBzldOxaxdDQEKUFHoO40FAwUp4Y4g+QEC5+FFyUD88QOZSQpNQPDdATgIoD7DoMUDJr0np1OMpQI8KMbvyGCJABi/hDoUwGkDRygwdDtoUQKlNILbnshFAzjQgGqpFDUAFRio8rI4DQPJHVOzq5/U/QNNGdP+B+j+LnGNpiy0FQEFUpQY3CwtAmkY5mLffEEBjWwCouRcWQIBLppV2/x1AE8tyOMjWJED6PwLlyM4qQHETNLSh/ilARjnkJGVRJEBVJF9hGEogQG/bpuyGaBtAMFP9rqAJFkDfIISyKywRQHE/ZOa/5wtAGBzYcJ0PCEAcUDhMWtICQJhW7F2UEvo/7kJN7DBU8T81MRGxcJrnPx4Ugr/ZItw/Xxt0eLZmzT8KMVUiDoTAP1mpS8dWN6K/bUua0HY9yb8GHhlxEguCv8b9y5XIzOc/UQiYzSCJ9z9A9NhiNCIAQDdXGN1krwFAhBlsTWcpAEAoDzbdzpv+P+2S/mmLkv0/9XiW4XX5/D9STrDO3Ov8P9JBOtvsK/0/FpYMgLDo/D9khKVUJqP8P3FfzdlwhPw/itEXLcWX/D8haCaUlcn8Pzm2ITWbMv0/mM8JkA4D/z8vvM9H0k8AQPAaU/O+2wBA7rkSWdkOAUDlrO18r+AAQP0pchxBdABAic4MxK0GAED1sjA/TG7/P/BsZqhed/8/bigS0m4CAECJxYSldXgAQP+wdQ490ABANlmtkBUHAUAtAhc43U0BQK6i5VaGywFApXRoll2FAkBfRLxt1ooDQBho655E5QdA\",\"dtype\":\"float64\",\"shape\":[75]},\"y\":{\"__ndarray__\":\"GhExyth1ND/Sv8nbtpRIP2vylNV0PVE/aTum7souWD/At0SJ8fVgPw3Iuahxymc/MSNhhJWvcD/bTfBN02d3P2zb5nxnaoA/CD5h5MAGhz8NmeH1TyaQP+zrCsc9p5Y/LbKd76fGnz/bLW5ISEmmPww9YvTcQq8/JV2OstnstT8Er5Y7M8G+P0c+r3jqkcU/5h99k6ZBzj88bCIzFzjVP4enV8oyxN0//yH99nXg5D8qOpLLf0jtP5kqGJXUifQ/c9cS8kHP/D+/DpwzojQEQIEmwoanVwxA4lgXt9HgE0BSSZ2AJuIbQAMJih9jjiNA5q4l5INuK0AwTKYKRj0zQNv5fmq8/DpAaCJseHrtQkB/+zpwzoxKQM3MzMzMeFJAZmZmZmZqWEAAAAAAAFxeQM3MzMzMJmJAmpmZmZkfZUBmZmZmZhhoQDMzMzMzEWtAAAAAAAAKbkBmZmZmZoFwQM3MzMzM/XFAMzMzMzN6c0CamZmZmfZ0QAAAAAAAc3ZAZmZmZmbvd0DNzMzMzGt5QDMzMzMz6HpAmpmZmZlkfEAAAAAAAOF9QGZmZmZmXX9AZmZmZuZsgECamZmZGSuBQM3MzMxM6YFAAAAAAICngkAzMzMzs2WDQGZmZmbmI4RAmpmZmRnihEDNzMzMTKCFQAAAAACAXoZAMzMzM7Mch0BmZmZm5tqHQJqZmZkZmYhAzczMzExXiUAAAAAAgBWKQDMzMzOz04pAZmZmZuaRi0CamZmZGVCMQM3MzMxMDo1AAAAAAIDMjUAzMzMzs4qOQGZmZmbmSI9A\",\"dtype\":\"float64\",\"shape\":[75]}},\"selected\":{\"id\":\"51c14e83-44b5-485d-84e3-eb2cb1766a2a\",\"type\":\"Selection\"},\"selection_policy\":{\"id\":\"b1c116cc-f14e-4a51-8a5e-2b2c45d43bf5\",\"type\":\"UnionRenderers\"}},\"id\":\"6ca5d972-7424-4369-abfd-409946728627\",\"type\":\"ColumnDataSource\"},{\"attributes\":{\"source\":{\"id\":\"46d1777b-1bfd-4a13-a194-ed0e66a4fd5a\",\"type\":\"ColumnDataSource\"}},\"id\":\"29f7a552-cd91-41b7-b069-a384e26d301b\",\"type\":\"CDSView\"},{\"attributes\":{},\"id\":\"007e5543-5dfd-488f-a01d-f76099860a1b\",\"type\":\"BasicTicker\"},{\"attributes\":{\"callback\":null,\"data\":{\"x\":{\"__ndarray__\":\"MXhf+wfXU0AZbvNjswdFQLQWsEQVdUFA5TlpnhT9QUB/x1dOYK05QImjxHmcEjZA9jYDSBB3L0AISPl4H6wqQBPuuwfAzyJAOcHprUZAIUB7WWpkesAXQJoT1Uq+ChVArO/8u0EXCkBgVNlshzgCQMeNQ+Nzu/I/POwv1Qzh+D9QxMRmcj8DQOrE7tC4mAxAQsLBRIlHEkAi4cPYoDEXQEeDpjRjzB1ASZ0GEfCuI0DVFj11sssnQOMiVKSMHyhAWRHvUxNoJEDo8cjD4g8gQLGGvR2NDRpAdpI3nV5oFECtyWH9Lp4QQIZQd9bvmwtAkshlnu1BBkBMysnQf1UAQHZJU/DYZ/c/HoEhV+G48T/rSm4vc/TmP3EgV4cD49g/xmy6+4w7zz+bEsjh3uDDPw5SRMRogKs/4GPKdPc1a78lazVXN1vCP/B84ODeUug/LOyxgXDV9z+/DBHyZAwAQAOIY+fy/QFAahF3XKCUAECV0GHvGsz+P+X4k4Nhvf0/RO/IqI98/T8rkW+v/zT9P59vGMDsAv0/zEX7plCY/D/E3siS8kj7P2yUMv+hDvs/RmrXDaYs+z+c9f5GCO36P58nVCbr7vo/Qus8hbcy/D+rD5hFMCf9P4t6dxofnPw/bRp4QYZ2/D/q8NNiN2b8P5YTVw9ESPw/l1Dy0X/K+j+WKih3ZdD5P2k8OYxHjvk/hceGh5N4+T8lpPahWSn5P6vJnePt4vY/UuhmxnXI9T8miFqdE+D0Pz7qfx5CR/Q/0khvq2US9D9LfVdHQGv0P9syeEmwYfg/\",\"dtype\":\"float64\",\"shape\":[75]},\"y\":{\"__ndarray__\":\"hLndy31yND/6fmq8dJNIP8n9DkWBPlE/aDum7souWD/b4a/JGvVgP9f34SAhymc/ZvM4DOavcD+z0M5pFmh3PxuC4zJuaoA/xjcUPlsHhz8uHAjJAiaQP9ieWRKgppY/oI7HDFTGnz+a5h2n6EimPzS6g9iZQq8/IuAQqtTstT9SSZ2AJsK+P4nS3uALk8U/ih9j7lpCzj+ASL99HTjVP4enV8oyxN0/ACL99nXg5D9fmEwVjErtPyUGgZVDi/Q/AiuHFtnO/D9OYhBYOTQEQPHSTWIQWAxA4XoUrkfhE0D8qfHSTeIbQMh2vp8ajyNArkfhehRuK0Bcj8L1KDwzQFyPwvUo/DpAPgrXo3DtQkDNzMzMzIxKQClcj8L1eFJAKVyPwvVoWECamZmZmVleQGZmZmZmJmJAAAAAAAAgZUCamZmZmRloQJqZmZmZEWtAmpmZmZkJbkCamZmZmYFwQGZmZmZm/nFAZmZmZmZ6c0BmZmZmZvZ0QDQzMzMzc3ZAAAAAAADwd0AAAAAAAGx5QAAAAAAA6HpAzMzMzMxkfEDMzMzMzOB9QM3MzMzMXH9AzczMzMxsgEAzMzMzMyuBQDMzMzMz6YFAMzMzMzOngkCamZmZmWWDQAAAAAAAJIRAAAAAAADihEAAAAAAAKCFQGZmZmZmXoZAzczMzMwch0DNzMzMzNqHQM3MzMzMmIhAMzMzMzNXiUCamZmZmRWKQAAAAAAA1IpAAAAAAACSi0AAAAAAAFCMQGZmZmZmDo1AzczMzMzMjUDNzMzMzIqOQM3MzMzMSI9A\",\"dtype\":\"float64\",\"shape\":[75]}},\"selected\":{\"id\":\"13a36e27-84b1-4cf1-89a2-145f6745f186\",\"type\":\"Selection\"},\"selection_policy\":{\"id\":\"74280770-66e0-4823-8ac3-fd032f2a2ed2\",\"type\":\"UnionRenderers\"}},\"id\":\"84224604-ab9e-49b2-a19b-ef12c059c7b5\",\"type\":\"ColumnDataSource\"},{\"attributes\":{\"callback\":null,\"end\":13.587980581445697,\"start\":-0.3336750560757},\"id\":\"803b7884-c1b0-4efb-956e-8c7ee87a6aa0\",\"type\":\"Range1d\"},{\"attributes\":{\"line_alpha\":0.1,\"line_color\":\"#1f77b4\",\"line_width\":1.5,\"x\":{\"field\":\"x\"},\"y\":{\"field\":\"y\"}},\"id\":\"a7e62ffa-6925-4ea2-b8d7-0ea07eb31f29\",\"type\":\"Line\"},{\"attributes\":{\"line_color\":\"#4daf4a\",\"line_width\":1.5,\"x\":{\"field\":\"x\"},\"y\":{\"field\":\"y\"}},\"id\":\"ec8ec70e-2337-4cb2-9472-da50af7709f2\",\"type\":\"Line\"},{\"attributes\":{\"data_source\":{\"id\":\"84224604-ab9e-49b2-a19b-ef12c059c7b5\",\"type\":\"ColumnDataSource\"},\"glyph\":{\"id\":\"4a80027a-78c0-4ee4-8602-bf7556c66f3a\",\"type\":\"Square\"},\"hover_glyph\":null,\"muted_glyph\":null,\"nonselection_glyph\":{\"id\":\"b7f104de-594e-4f40-b0fb-875c467efc6b\",\"type\":\"Square\"},\"selection_glyph\":null,\"view\":{\"id\":\"fee2ef73-7ede-4d92-a33f-e28b64fca0df\",\"type\":\"CDSView\"}},\"id\":\"de34a0ce-de81-4c1c-aa6f-e7a985d9418a\",\"type\":\"GlyphRenderer\"},{\"attributes\":{\"callback\":null,\"data\":{\"x\":{\"__ndarray__\":\"cm1sTMT3VEDEyvjosEJHQOKI6DjzCUNArgQWV9awPkB9Lm8XG3M4QEz+Qv6iYzNA7eV8HaPLLkCX1QHyTpMoQFBmYSYetiNAUB04GtGpH0AmFyVE5j8ZQJca9QPGqBNALJP+OOHHDEBNxaf7QF8AQKtislomWuw/cW2dcO6A9T/uJJvfPu0EQIaQLTI/JQ1AxGiII+PmEkCJvfVeuCsYQD6ZBhGbHB9AXQw69DTYJEAsubcwKucqQNuT9D5OmipAJyi3szEJJUBlNebh5WkgQDDcPHBr2xlArtlANXuQFEBdJadFHckQQI2Avh0ZsQtAjYiwt1rsBUCL0SDoVBgAQK6C0nEEjvc/CggLSme58T9sXU2orFPnP0v0JYz9Gdg/vT38vxYczD9nBQTe6kHHP1IhkEXJwKo/8OZnhCVAub+xtVgCpmqzP6DUpY6g0+k/PKK3T1h4+D8RTDjQc1EAQG/dAQs7TwJAQt2eHpPLAEBWEh074x//PyCap9ZSGf4/rEzaTySm/T+7aXhHRmr9P688KeqeNP0/ruZ4EemD/D8olrZcn9T7P0+vNc9hW/s/i9VVL+4P+z+0NzC24uz6P8731Kza8vo/xFf4SHzq+z+gYyHpvHb8P68ROkiFevw/BAjYdCga/D8AUp8VbW77P3JrF/nKmvo/qCQeGfq++T/dplwHJfn4P2G4p+Uva/g/OzZ0RqMZ+D8dmn/iar73P/OuA7Ka8PY/gaaeQHGn9T9hkyjAH1L0P3aZGhdAU/M/n8VP/g7P8j+90HxHNvfyPwhNBtgrqvk/\",\"dtype\":\"float64\",\"shape\":[75]},\"y\":{\"__ndarray__\":\"GhExyth1ND/Sv8nbtpRIP2vylNV0PVE/aTum7souWD/At0SJ8fVgPw3Iuahxymc/MSNhhJWvcD/bTfBN02d3P2zb5nxnaoA/CD5h5MAGhz8NmeH1TyaQP+zrCsc9p5Y/LbKd76fGnz/bLW5ISEmmPww9YvTcQq8/JV2OstnstT8Er5Y7M8G+P0c+r3jqkcU/5h99k6ZBzj88bCIzFzjVP4enV8oyxN0//yH99nXg5D8qOpLLf0jtP5kqGJXUifQ/c9cS8kHP/D+/DpwzojQEQIEmwoanVwxA4lgXt9HgE0BSSZ2AJuIbQAMJih9jjiNA5q4l5INuK0AwTKYKRj0zQNv5fmq8/DpAaCJseHrtQkB/+zpwzoxKQM3MzMzMeFJAZmZmZmZqWEAAAAAAAFxeQM3MzMzMJmJAmpmZmZkfZUBmZmZmZhhoQDMzMzMzEWtAAAAAAAAKbkBmZmZmZoFwQM3MzMzM/XFAMzMzMzN6c0CamZmZmfZ0QAAAAAAAc3ZAZmZmZmbvd0DNzMzMzGt5QDMzMzMz6HpAmpmZmZlkfEAAAAAAAOF9QGZmZmZmXX9AZmZmZuZsgECamZmZGSuBQM3MzMxM6YFAAAAAAICngkAzMzMzs2WDQGZmZmbmI4RAmpmZmRnihEDNzMzMTKCFQAAAAACAXoZAMzMzM7Mch0BmZmZm5tqHQJqZmZkZmYhAzczMzExXiUAAAAAAgBWKQDMzMzOz04pAZmZmZuaRi0CamZmZGVCMQM3MzMxMDo1AAAAAAIDMjUAzMzMzs4qOQGZmZmbmSI9A\",\"dtype\":\"float64\",\"shape\":[75]}},\"selected\":{\"id\":\"27005997-0326-4e68-a4f3-e97e8bce5224\",\"type\":\"Selection\"},\"selection_policy\":{\"id\":\"2e2d578a-7aca-4742-a196-1e996d7d3579\",\"type\":\"UnionRenderers\"}},\"id\":\"46d1777b-1bfd-4a13-a194-ed0e66a4fd5a\",\"type\":\"ColumnDataSource\"},{\"attributes\":{\"label\":{\"value\":\"old CLIRAD (H2012)\"},\"renderers\":[{\"id\":\"41f6f08e-a04e-405a-9b4a-078139076a87\",\"type\":\"GlyphRenderer\"},{\"id\":\"723a7f0e-7d94-49cb-8509-03f568f96dde\",\"type\":\"GlyphRenderer\"}]},\"id\":\"56c69948-5f81-41b0-bf01-837244066eb5\",\"type\":\"LegendItem\"},{\"attributes\":{},\"id\":\"489f5642-d0e0-4cf3-9e85-0bfe7860e13a\",\"type\":\"Selection\"},{\"attributes\":{\"items\":[{\"id\":\"6a533a62-406f-4cd9-870c-1500d6b1787d\",\"type\":\"LegendItem\"},{\"id\":\"b05c397a-ffa4-487d-8d3a-ad308111dd75\",\"type\":\"LegendItem\"},{\"id\":\"31579bbc-a2e8-4f78-9946-8b5def6fb1ad\",\"type\":\"LegendItem\"}],\"label_text_font_size\":{\"value\":\"8pt\"},\"location\":\"top_center\",\"orientation\":\"horizontal\",\"plot\":{\"id\":\"5b435bc6-8957-4632-ae37-c734a89c1b24\",\"subtype\":\"Figure\",\"type\":\"Plot\"}},\"id\":\"6b209e82-e648-445e-bcd7-f0145c3d2612\",\"type\":\"Legend\"},{\"attributes\":{\"fill_alpha\":{\"value\":0.7},\"fill_color\":{\"value\":\"#4daf4a\"},\"line_alpha\":{\"value\":0.7},\"line_color\":{\"value\":\"#4daf4a\"},\"x\":{\"field\":\"x\"},\"y\":{\"field\":\"y\"}},\"id\":\"56c7844a-00c5-4508-8845-087578f46540\",\"type\":\"Circle\"},{\"attributes\":{\"callback\":null,\"data\":{\"x\":{\"__ndarray__\":\"qDzX3WwXRMBD1ZTcFK0gwN9JP+1LbgLAZA2p/abD/D/kURbXqmEOQNek+qdsxQ5AzHpMA/QWBEApo310XwjlPxO8BbO20um/KLlbLTDl9b9OMWGcYJfxv8zOTN3kXd+/CmloSDhyrz+3BRQEWnvZP3Ba7Pte694/NpelDkQE1D9A5x1yIhOgPxjiQVxB0NC/SRF5Wlw54L8+Eau39Z/gv9LbBLZH0tG/UJ0UdLzLZr9VM3m1S2GovzANEFiRddO/CNxd2pH51r+8EBGHgM2vv+zzn8a30dg/HZjHm1eS1z/C4D43m8O4Pxly31JkU5s/ZJw8yRUa0T989LsgK9DVP0afzmB/JMQ/+0Zxb5dNmb/18fQwArGBP05/cM1wI7A/Ktp9h/uphD92Ubvucveqv1rlbQYQfLa/6q/MHMg6ub9w2XtQCKy1v9C2zsa/NrC/eT3zQ/Dmrb+s6Kuvtp+Xv//GML3F+rO/oHdYJnpFtL8/ZuC8i4Kgv27mIJXt2KC/pXZ6yM2Vpb+a2gYyXpqfv4i39d0dZGG//9nrpNsxmT99x9393tCpPw8Ce6nwkLI/378f3G99uD/PBmPfLcu9P1bzZUIE/sE/jr6LOJLEyD//UviZnqPQP8OQsHni89Q/ZK819SgO2D8uH/CQx0vZPySiM//cNtk/q+Htu4U52T9lMFDfnNTZPzvS+gq7MNw/hGrAdums3z/o4RPRAGXiPxVmz9W+X+U/2hd4wXPN6D/t4QpgNZPsP+arsJbMQ/A/qyOBLqw78j8AuPuTdh70PyqD0GVdIPY/\",\"dtype\":\"float64\",\"shape\":[75]},\"y\":{\"__ndarray__\":\"GhExyth1ND/Sv8nbtpRIP2vylNV0PVE/aTum7souWD/At0SJ8fVgPw3Iuahxymc/MSNhhJWvcD/bTfBN02d3P2zb5nxnaoA/CD5h5MAGhz8NmeH1TyaQP+zrCsc9p5Y/LbKd76fGnz/bLW5ISEmmPww9YvTcQq8/JV2OstnstT8Er5Y7M8G+P0c+r3jqkcU/5h99k6ZBzj88bCIzFzjVP4enV8oyxN0//yH99nXg5D8qOpLLf0jtP5kqGJXUifQ/c9cS8kHP/D+/DpwzojQEQIEmwoanVwxA4lgXt9HgE0BSSZ2AJuIbQAMJih9jjiNA5q4l5INuK0AwTKYKRj0zQNv5fmq8/DpAaCJseHrtQkB/+zpwzoxKQM3MzMzMeFJAZmZmZmZqWEAAAAAAAFxeQM3MzMzMJmJAmpmZmZkfZUBmZmZmZhhoQDMzMzMzEWtAAAAAAAAKbkBmZmZmZoFwQM3MzMzM/XFAMzMzMzN6c0CamZmZmfZ0QAAAAAAAc3ZAZmZmZmbvd0DNzMzMzGt5QDMzMzMz6HpAmpmZmZlkfEAAAAAAAOF9QGZmZmZmXX9AZmZmZuZsgECamZmZGSuBQM3MzMxM6YFAAAAAAICngkAzMzMzs2WDQGZmZmbmI4RAmpmZmRnihEDNzMzMTKCFQAAAAACAXoZAMzMzM7Mch0BmZmZm5tqHQJqZmZkZmYhAzczMzExXiUAAAAAAgBWKQDMzMzOz04pAZmZmZuaRi0CamZmZGVCMQM3MzMxMDo1AAAAAAIDMjUAzMzMzs4qOQGZmZmbmSI9A\",\"dtype\":\"float64\",\"shape\":[75]}},\"selected\":{\"id\":\"489f5642-d0e0-4cf3-9e85-0bfe7860e13a\",\"type\":\"Selection\"},\"selection_policy\":{\"id\":\"69dff56c-56cc-4f8c-b261-26e24abcf1dc\",\"type\":\"UnionRenderers\"}},\"id\":\"6535cb08-ae4b-4e0e-b69c-cd7bdc9959b5\",\"type\":\"ColumnDataSource\"},{\"attributes\":{\"plot\":{\"id\":\"5b435bc6-8957-4632-ae37-c734a89c1b24\",\"subtype\":\"Figure\",\"type\":\"Plot\"},\"ticker\":{\"id\":\"007e5543-5dfd-488f-a01d-f76099860a1b\",\"type\":\"BasicTicker\"}},\"id\":\"217b47a0-4bbc-459a-9fbc-e3d46a5736aa\",\"type\":\"Grid\"},{\"attributes\":{\"fill_alpha\":{\"value\":0.1},\"fill_color\":{\"value\":\"#1f77b4\"},\"line_alpha\":{\"value\":0.1},\"line_color\":{\"value\":\"#1f77b4\"},\"x\":{\"field\":\"x\"},\"y\":{\"field\":\"y\"}},\"id\":\"afa4cb29-b823-44a6-b146-79fb79f81f9f\",\"type\":\"Circle\"},{\"attributes\":{\"data_source\":{\"id\":\"46d1777b-1bfd-4a13-a194-ed0e66a4fd5a\",\"type\":\"ColumnDataSource\"},\"glyph\":{\"id\":\"ec8ec70e-2337-4cb2-9472-da50af7709f2\",\"type\":\"Line\"},\"hover_glyph\":null,\"muted_glyph\":null,\"nonselection_glyph\":{\"id\":\"a7e62ffa-6925-4ea2-b8d7-0ea07eb31f29\",\"type\":\"Line\"},\"selection_glyph\":null,\"view\":{\"id\":\"29f7a552-cd91-41b7-b069-a384e26d301b\",\"type\":\"CDSView\"}},\"id\":\"daf77d1c-bc1d-4b3b-9655-4403436e1dc6\",\"type\":\"GlyphRenderer\"},{\"attributes\":{},\"id\":\"fadc73fb-e799-46d2-b729-7cb2a53ac35a\",\"type\":\"LogScale\"},{\"attributes\":{\"active_drag\":\"auto\",\"active_inspect\":\"auto\",\"active_scroll\":\"auto\",\"active_tap\":\"auto\",\"tools\":[{\"id\":\"c35d9e84-a5bc-48c7-b06b-f87ebee2c9a4\",\"type\":\"PanTool\"},{\"id\":\"dcfe13f7-413c-4861-bb76-254f6847a51f\",\"type\":\"WheelZoomTool\"},{\"id\":\"02f9b664-f0bc-4c35-a11c-0fd7ae8bacf1\",\"type\":\"BoxZoomTool\"},{\"id\":\"2e79df48-dc45-402e-af39-00dcce6b4101\",\"type\":\"SaveTool\"},{\"id\":\"ac73e658-1cb7-4fd4-b3dd-b83a3ef78960\",\"type\":\"ResetTool\"},{\"id\":\"cdd6990c-b858-42f9-befa-3e1514a09719\",\"type\":\"HelpTool\"}]},\"id\":\"e3ed82de-9071-4bb6-87cf-a5078b436c96\",\"type\":\"Toolbar\"},{\"attributes\":{\"source\":{\"id\":\"bcec2a39-48fd-4421-a25e-934e202aea17\",\"type\":\"ColumnDataSource\"}},\"id\":\"b110cf80-bd63-4d83-8fd6-2f46c78c8266\",\"type\":\"CDSView\"},{\"attributes\":{\"data_source\":{\"id\":\"bcec2a39-48fd-4421-a25e-934e202aea17\",\"type\":\"ColumnDataSource\"},\"glyph\":{\"id\":\"56c7844a-00c5-4508-8845-087578f46540\",\"type\":\"Circle\"},\"hover_glyph\":null,\"muted_glyph\":null,\"nonselection_glyph\":{\"id\":\"afa4cb29-b823-44a6-b146-79fb79f81f9f\",\"type\":\"Circle\"},\"selection_glyph\":null,\"view\":{\"id\":\"b110cf80-bd63-4d83-8fd6-2f46c78c8266\",\"type\":\"CDSView\"}},\"id\":\"5fbb0edf-bd6b-4a82-8ceb-0688a5509b32\",\"type\":\"GlyphRenderer\"},{\"attributes\":{\"fill_alpha\":{\"value\":0.1},\"fill_color\":{\"value\":\"#1f77b4\"},\"line_alpha\":{\"value\":0.1},\"line_color\":{\"value\":\"#1f77b4\"},\"x\":{\"field\":\"x\"},\"y\":{\"field\":\"y\"}},\"id\":\"b7f104de-594e-4f40-b0fb-875c467efc6b\",\"type\":\"Square\"},{\"attributes\":{\"label\":{\"value\":\"CLIRAD (single-run)\"},\"renderers\":[{\"id\":\"935ec7a8-535b-416d-8d9a-f93ab87b645a\",\"type\":\"GlyphRenderer\"}]},\"id\":\"6eaa3de0-2a46-41fa-96f9-da854d31dec8\",\"type\":\"LegendItem\"},{\"attributes\":{\"line_alpha\":0.6,\"line_color\":\"#377eb8\",\"line_dash\":[6],\"line_width\":5,\"x\":{\"field\":\"x\"},\"y\":{\"field\":\"y\"}},\"id\":\"dd75caed-3590-4f80-abc3-ef2fa3acc5ed\",\"type\":\"Line\"},{\"attributes\":{},\"id\":\"6865498f-3af0-4048-9074-28037e4d3f48\",\"type\":\"LinearScale\"},{\"attributes\":{\"above\":[{\"id\":\"4a9d5feb-0f95-4ab8-a485-79c6145c542d\",\"type\":\"Legend\"}],\"below\":[{\"id\":\"444aeb1f-c21c-4c02-a74e-7133f4758d39\",\"type\":\"LinearAxis\"}],\"left\":[{\"id\":\"0b4142b3-29d8-4569-8c4d-44a16bf205d5\",\"type\":\"LinearAxis\"}],\"plot_width\":300,\"renderers\":[{\"id\":\"444aeb1f-c21c-4c02-a74e-7133f4758d39\",\"type\":\"LinearAxis\"},{\"id\":\"5785f04f-8bd4-4be5-bc79-f74c772c5acc\",\"type\":\"Grid\"},{\"id\":\"0b4142b3-29d8-4569-8c4d-44a16bf205d5\",\"type\":\"LinearAxis\"},{\"id\":\"80bba5fc-f06c-41f6-bff1-ad8c9e66124c\",\"type\":\"Grid\"},{\"id\":\"d34d9cee-7e46-4c5f-b87e-1ccec95de9c9\",\"type\":\"BoxAnnotation\"},{\"id\":\"935ec7a8-535b-416d-8d9a-f93ab87b645a\",\"type\":\"GlyphRenderer\"},{\"id\":\"4d6be3e4-1fa8-40c1-9582-9f1049912b02\",\"type\":\"GlyphRenderer\"},{\"id\":\"7d21d130-1e57-4ecc-a989-bfb61f4f6425\",\"type\":\"GlyphRenderer\"},{\"id\":\"41f6f08e-a04e-405a-9b4a-078139076a87\",\"type\":\"GlyphRenderer\"},{\"id\":\"723a7f0e-7d94-49cb-8509-03f568f96dde\",\"type\":\"GlyphRenderer\"},{\"id\":\"4a9d5feb-0f95-4ab8-a485-79c6145c542d\",\"type\":\"Legend\"}],\"title\":{\"id\":\"5b854be7-a157-4942-af6c-4c0e19821afe\",\"type\":\"Title\"},\"toolbar\":{\"id\":\"e3ed82de-9071-4bb6-87cf-a5078b436c96\",\"type\":\"Toolbar\"},\"toolbar_location\":null,\"x_range\":{\"id\":\"c40fbe7b-6c62-493e-8cd4-0595c7ed57be\",\"type\":\"Range1d\"},\"x_scale\":{\"id\":\"5d2ef7cf-d910-4889-875c-684cc4c4be92\",\"type\":\"LinearScale\"},\"y_range\":{\"id\":\"cc8b88bb-c591-49ad-82ed-233d482f79e1\",\"type\":\"Range1d\"},\"y_scale\":{\"id\":\"042f802d-d2b3-4331-9d2a-45e30f9f24ad\",\"type\":\"LinearScale\"}},\"id\":\"d711c7a4-7d80-4a69-a520-ecf7f7f977de\",\"subtype\":\"Figure\",\"type\":\"Plot\"},{\"attributes\":{},\"id\":\"3212674b-9ffe-41f3-8641-db05eafbbb2f\",\"type\":\"BasicTickFormatter\"},{\"attributes\":{\"callback\":null,\"end\":0.01,\"start\":1020},\"id\":\"1a70bb18-764e-4545-8cc8-eee971f07be9\",\"type\":\"Range1d\"},{\"attributes\":{},\"id\":\"13a36e27-84b1-4cf1-89a2-145f6745f186\",\"type\":\"Selection\"},{\"attributes\":{\"callback\":null,\"end\":0.01,\"start\":1020},\"id\":\"cc8b88bb-c591-49ad-82ed-233d482f79e1\",\"type\":\"Range1d\"},{\"attributes\":{\"fill_alpha\":{\"value\":0.1},\"fill_color\":{\"value\":\"#1f77b4\"},\"line_alpha\":{\"value\":0.1},\"line_color\":{\"value\":\"#1f77b4\"},\"x\":{\"field\":\"x\"},\"y\":{\"field\":\"y\"}},\"id\":\"d3ea55f4-5da4-4cae-9c62-1decb013cce8\",\"type\":\"Circle\"},{\"attributes\":{\"plot\":null,\"text\":\"\"},\"id\":\"f9b7fdb5-bc2f-4b01-98a5-2b50bbc2245b\",\"type\":\"Title\"},{\"attributes\":{},\"id\":\"cac88250-d697-4b8b-bf8e-c32f5ad73be8\",\"type\":\"BasicTicker\"},{\"attributes\":{\"callback\":null,\"end\":0.7323360194662635,\"start\":-1.576281364019664},\"id\":\"48bb7c77-dac3-4863-ada6-e024acfb08ae\",\"type\":\"Range1d\"},{\"attributes\":{\"source\":{\"id\":\"6535cb08-ae4b-4e0e-b69c-cd7bdc9959b5\",\"type\":\"ColumnDataSource\"}},\"id\":\"ab03319e-bf92-4021-b2ea-67b82d89d52b\",\"type\":\"CDSView\"},{\"attributes\":{\"plot\":{\"id\":\"d711c7a4-7d80-4a69-a520-ecf7f7f977de\",\"subtype\":\"Figure\",\"type\":\"Plot\"},\"ticker\":{\"id\":\"cac88250-d697-4b8b-bf8e-c32f5ad73be8\",\"type\":\"BasicTicker\"}},\"id\":\"5785f04f-8bd4-4be5-bc79-f74c772c5acc\",\"type\":\"Grid\"},{\"attributes\":{\"fill_alpha\":{\"value\":0.7},\"fill_color\":{\"value\":\"#984ea3\"},\"line_alpha\":{\"value\":0.7},\"line_color\":{\"value\":\"#984ea3\"},\"x\":{\"field\":\"x\"},\"y\":{\"field\":\"y\"}},\"id\":\"a5117909-6677-496c-b572-be47fd3e3cf7\",\"type\":\"Circle\"},{\"attributes\":{},\"id\":\"042f802d-d2b3-4331-9d2a-45e30f9f24ad\",\"type\":\"LinearScale\"},{\"attributes\":{},\"id\":\"5d2ef7cf-d910-4889-875c-684cc4c4be92\",\"type\":\"LinearScale\"},{\"attributes\":{},\"id\":\"bae45489-deb8-4645-8cac-8d546c67ef41\",\"type\":\"LinearScale\"},{\"attributes\":{\"line_alpha\":0.1,\"line_color\":\"#1f77b4\",\"line_width\":1.5,\"x\":{\"field\":\"x\"},\"y\":{\"field\":\"y\"}},\"id\":\"81446bb0-018c-438c-b2ed-ad4ba88ed577\",\"type\":\"Line\"},{\"attributes\":{\"plot\":{\"id\":\"2dd10246-2b68-4809-8157-5c15523b3c0a\",\"subtype\":\"Figure\",\"type\":\"Plot\"},\"ticker\":{\"id\":\"338d78cb-8832-44c8-a8d8-9cc193d48ea2\",\"type\":\"BasicTicker\"}},\"id\":\"5c4eac07-5b6c-44cf-b36c-ec58db4e7012\",\"type\":\"Grid\"},{\"attributes\":{\"overlay\":{\"id\":\"d34d9cee-7e46-4c5f-b87e-1ccec95de9c9\",\"type\":\"BoxAnnotation\"}},\"id\":\"02f9b664-f0bc-4c35-a11c-0fd7ae8bacf1\",\"type\":\"BoxZoomTool\"},{\"attributes\":{},\"id\":\"338d78cb-8832-44c8-a8d8-9cc193d48ea2\",\"type\":\"BasicTicker\"},{\"attributes\":{},\"id\":\"2e79df48-dc45-402e-af39-00dcce6b4101\",\"type\":\"SaveTool\"},{\"attributes\":{\"bottom_units\":\"screen\",\"fill_alpha\":{\"value\":0.5},\"fill_color\":{\"value\":\"lightgrey\"},\"left_units\":\"screen\",\"level\":\"overlay\",\"line_alpha\":{\"value\":1.0},\"line_color\":{\"value\":\"black\"},\"line_dash\":[4,4],\"line_width\":{\"value\":2},\"plot\":null,\"render_mode\":\"css\",\"right_units\":\"screen\",\"top_units\":\"screen\"},\"id\":\"d34d9cee-7e46-4c5f-b87e-1ccec95de9c9\",\"type\":\"BoxAnnotation\"},{\"attributes\":{\"data_source\":{\"id\":\"8d850c45-d722-4643-8365-5b1b54502abd\",\"type\":\"ColumnDataSource\"},\"glyph\":{\"id\":\"97898219-3a56-41d9-a92b-95caaa5ffe96\",\"type\":\"Line\"},\"hover_glyph\":null,\"muted_glyph\":null,\"nonselection_glyph\":{\"id\":\"81446bb0-018c-438c-b2ed-ad4ba88ed577\",\"type\":\"Line\"},\"selection_glyph\":null,\"view\":{\"id\":\"598c391f-2165-43b5-8f5c-ccc2311654fd\",\"type\":\"CDSView\"}},\"id\":\"d97967ec-f1b2-4499-8f92-baeee5de77a8\",\"type\":\"GlyphRenderer\"},{\"attributes\":{},\"id\":\"c35d9e84-a5bc-48c7-b06b-f87ebee2c9a4\",\"type\":\"PanTool\"},{\"attributes\":{\"active_drag\":\"auto\",\"active_inspect\":\"auto\",\"active_scroll\":\"auto\",\"active_tap\":\"auto\",\"tools\":[{\"id\":\"b960316f-2cef-46cc-ad80-2a12f37dd840\",\"type\":\"PanTool\"},{\"id\":\"b983b386-56cc-4260-a6fc-95842340e927\",\"type\":\"WheelZoomTool\"},{\"id\":\"51dd07c5-bc34-4400-9280-845129cc26e2\",\"type\":\"BoxZoomTool\"},{\"id\":\"33705b73-d437-40e0-8643-d4c0151cd697\",\"type\":\"SaveTool\"},{\"id\":\"4abde1f0-6e0b-495c-a1bd-62a41c2921a0\",\"type\":\"ResetTool\"},{\"id\":\"a7fc9d9f-d067-4ac9-963f-f09fa5b6fadf\",\"type\":\"HelpTool\"}]},\"id\":\"130b2fde-7c08-4ed4-a6d9-88cdf48f1fe2\",\"type\":\"Toolbar\"},{\"attributes\":{},\"id\":\"922bd70b-1471-4abb-8931-e6184b706830\",\"type\":\"BasicTicker\"},{\"attributes\":{},\"id\":\"38090a1b-607f-45c2-9ef3-eee1b0228c10\",\"type\":\"Selection\"},{\"attributes\":{\"axis_label\":\"pressure [mb]\",\"formatter\":{\"id\":\"04995f09-0e06-45c4-a66c-e917a5d6131f\",\"type\":\"BasicTickFormatter\"},\"plot\":{\"id\":\"d711c7a4-7d80-4a69-a520-ecf7f7f977de\",\"subtype\":\"Figure\",\"type\":\"Plot\"},\"ticker\":{\"id\":\"922bd70b-1471-4abb-8931-e6184b706830\",\"type\":\"BasicTicker\"}},\"id\":\"0b4142b3-29d8-4569-8c4d-44a16bf205d5\",\"type\":\"LinearAxis\"},{\"attributes\":{},\"id\":\"69dff56c-56cc-4f8c-b261-26e24abcf1dc\",\"type\":\"UnionRenderers\"},{\"attributes\":{\"line_alpha\":0.1,\"line_color\":\"#1f77b4\",\"line_dash\":[6],\"line_width\":5,\"x\":{\"field\":\"x\"},\"y\":{\"field\":\"y\"}},\"id\":\"d35eb2cc-1f12-47bb-ac3a-e0fbff74fd8b\",\"type\":\"Line\"},{\"attributes\":{\"callback\":null,\"data\":{\"x\":{\"__ndarray__\":\"qDzX3WwXRMBD1ZTcFK0gwN9JP+1LbgLAZA2p/abD/D/kURbXqmEOQNek+qdsxQ5AzHpMA/QWBEApo310XwjlPxO8BbO20um/KLlbLTDl9b9OMWGcYJfxv8zOTN3kXd+/CmloSDhyrz+3BRQEWnvZP3Ba7Pte694/NpelDkQE1D9A5x1yIhOgPxjiQVxB0NC/SRF5Wlw54L8+Eau39Z/gv9LbBLZH0tG/UJ0UdLzLZr9VM3m1S2GovzANEFiRddO/CNxd2pH51r+8EBGHgM2vv+zzn8a30dg/HZjHm1eS1z/C4D43m8O4Pxly31JkU5s/ZJw8yRUa0T989LsgK9DVP0afzmB/JMQ/+0Zxb5dNmb/18fQwArGBP05/cM1wI7A/Ktp9h/uphD92Ubvucveqv1rlbQYQfLa/6q/MHMg6ub9w2XtQCKy1v9C2zsa/NrC/eT3zQ/Dmrb+s6Kuvtp+Xv//GML3F+rO/oHdYJnpFtL8/ZuC8i4Kgv27mIJXt2KC/pXZ6yM2Vpb+a2gYyXpqfv4i39d0dZGG//9nrpNsxmT99x9393tCpPw8Ce6nwkLI/378f3G99uD/PBmPfLcu9P1bzZUIE/sE/jr6LOJLEyD//UviZnqPQP8OQsHni89Q/ZK819SgO2D8uH/CQx0vZPySiM//cNtk/q+Htu4U52T9lMFDfnNTZPzvS+gq7MNw/hGrAdums3z/o4RPRAGXiPxVmz9W+X+U/2hd4wXPN6D/t4QpgNZPsP+arsJbMQ/A/qyOBLqw78j8AuPuTdh70PyqD0GVdIPY/\",\"dtype\":\"float64\",\"shape\":[75]},\"y\":{\"__ndarray__\":\"GhExyth1ND/Sv8nbtpRIP2vylNV0PVE/aTum7souWD/At0SJ8fVgPw3Iuahxymc/MSNhhJWvcD/bTfBN02d3P2zb5nxnaoA/CD5h5MAGhz8NmeH1TyaQP+zrCsc9p5Y/LbKd76fGnz/bLW5ISEmmPww9YvTcQq8/JV2OstnstT8Er5Y7M8G+P0c+r3jqkcU/5h99k6ZBzj88bCIzFzjVP4enV8oyxN0//yH99nXg5D8qOpLLf0jtP5kqGJXUifQ/c9cS8kHP/D+/DpwzojQEQIEmwoanVwxA4lgXt9HgE0BSSZ2AJuIbQAMJih9jjiNA5q4l5INuK0AwTKYKRj0zQNv5fmq8/DpAaCJseHrtQkB/+zpwzoxKQM3MzMzMeFJAZmZmZmZqWEAAAAAAAFxeQM3MzMzMJmJAmpmZmZkfZUBmZmZmZhhoQDMzMzMzEWtAAAAAAAAKbkBmZmZmZoFwQM3MzMzM/XFAMzMzMzN6c0CamZmZmfZ0QAAAAAAAc3ZAZmZmZmbvd0DNzMzMzGt5QDMzMzMz6HpAmpmZmZlkfEAAAAAAAOF9QGZmZmZmXX9AZmZmZuZsgECamZmZGSuBQM3MzMxM6YFAAAAAAICngkAzMzMzs2WDQGZmZmbmI4RAmpmZmRnihEDNzMzMTKCFQAAAAACAXoZAMzMzM7Mch0BmZmZm5tqHQJqZmZkZmYhAzczMzExXiUAAAAAAgBWKQDMzMzOz04pAZmZmZuaRi0CamZmZGVCMQM3MzMxMDo1AAAAAAIDMjUAzMzMzs4qOQGZmZmbmSI9A\",\"dtype\":\"float64\",\"shape\":[75]}},\"selected\":{\"id\":\"38090a1b-607f-45c2-9ef3-eee1b0228c10\",\"type\":\"Selection\"},\"selection_policy\":{\"id\":\"eb14687f-7509-4708-abe8-7fd36b89f49e\",\"type\":\"UnionRenderers\"}},\"id\":\"8d850c45-d722-4643-8365-5b1b54502abd\",\"type\":\"ColumnDataSource\"},{\"attributes\":{\"callback\":null,\"end\":3.018788645261,\"start\":-0.22902959136100004},\"id\":\"c40fbe7b-6c62-493e-8cd4-0595c7ed57be\",\"type\":\"Range1d\"},{\"attributes\":{\"dimension\":1,\"plot\":{\"id\":\"d711c7a4-7d80-4a69-a520-ecf7f7f977de\",\"subtype\":\"Figure\",\"type\":\"Plot\"},\"ticker\":{\"id\":\"922bd70b-1471-4abb-8931-e6184b706830\",\"type\":\"BasicTicker\"}},\"id\":\"80bba5fc-f06c-41f6-bff1-ad8c9e66124c\",\"type\":\"Grid\"},{\"attributes\":{\"num_minor_ticks\":10},\"id\":\"9f731297-1114-4f58-b6da-d19a1023a85c\",\"type\":\"LogTicker\"},{\"attributes\":{\"data_source\":{\"id\":\"6535cb08-ae4b-4e0e-b69c-cd7bdc9959b5\",\"type\":\"ColumnDataSource\"},\"glyph\":{\"id\":\"a5117909-6677-496c-b572-be47fd3e3cf7\",\"type\":\"Circle\"},\"hover_glyph\":null,\"muted_glyph\":null,\"nonselection_glyph\":{\"id\":\"d3ea55f4-5da4-4cae-9c62-1decb013cce8\",\"type\":\"Circle\"},\"selection_glyph\":null,\"view\":{\"id\":\"ab03319e-bf92-4021-b2ea-67b82d89d52b\",\"type\":\"CDSView\"}},\"id\":\"927ffc61-e753-4d8f-8a87-7118c39d4f76\",\"type\":\"GlyphRenderer\"},{\"attributes\":{\"items\":[{\"id\":\"a784210c-a69e-4f9f-b317-6275981cc33f\",\"type\":\"LegendItem\"},{\"id\":\"3944ceb9-e685-4de4-bf0d-ee94594a2272\",\"type\":\"LegendItem\"}],\"label_text_font_size\":{\"value\":\"8pt\"},\"location\":\"top_center\",\"orientation\":\"horizontal\",\"plot\":{\"id\":\"2dd10246-2b68-4809-8157-5c15523b3c0a\",\"subtype\":\"Figure\",\"type\":\"Plot\"}},\"id\":\"2dc8f201-1f34-4a2b-b97e-fbc75fea24e9\",\"type\":\"Legend\"},{\"attributes\":{\"plot\":null,\"text\":\"\"},\"id\":\"c73111da-ac98-49bd-8f11-b71114144c85\",\"type\":\"Title\"},{\"attributes\":{},\"id\":\"ee99239b-c5d4-49f6-a9b4-846827d63c0a\",\"type\":\"Selection\"},{\"attributes\":{},\"id\":\"ac73e658-1cb7-4fd4-b3dd-b83a3ef78960\",\"type\":\"ResetTool\"},{\"attributes\":{},\"id\":\"22b1b45e-a962-43b8-8136-d5c6d6a5a776\",\"type\":\"UnionRenderers\"},{\"attributes\":{\"data_source\":{\"id\":\"6ca5d972-7424-4369-abfd-409946728627\",\"type\":\"ColumnDataSource\"},\"glyph\":{\"id\":\"dd75caed-3590-4f80-abc3-ef2fa3acc5ed\",\"type\":\"Line\"},\"hover_glyph\":null,\"muted_glyph\":null,\"nonselection_glyph\":{\"id\":\"d35eb2cc-1f12-47bb-ac3a-e0fbff74fd8b\",\"type\":\"Line\"},\"selection_glyph\":null,\"view\":{\"id\":\"a75ea4c2-8ebf-47a6-bd77-9b84d228f34e\",\"type\":\"CDSView\"}},\"id\":\"eefe48cb-965e-4442-810c-cc8e9f7e8119\",\"type\":\"GlyphRenderer\"},{\"attributes\":{},\"id\":\"cdd6990c-b858-42f9-befa-3e1514a09719\",\"type\":\"HelpTool\"},{\"attributes\":{},\"id\":\"10d0d873-7332-43dd-9187-2dfadf358a9e\",\"type\":\"LogScale\"},{\"attributes\":{},\"id\":\"51c14e83-44b5-485d-84e3-eb2cb1766a2a\",\"type\":\"Selection\"},{\"attributes\":{\"axis_label\":\"cooling rate [K/day]\",\"formatter\":{\"id\":\"3212674b-9ffe-41f3-8641-db05eafbbb2f\",\"type\":\"BasicTickFormatter\"},\"plot\":{\"id\":\"d711c7a4-7d80-4a69-a520-ecf7f7f977de\",\"subtype\":\"Figure\",\"type\":\"Plot\"},\"ticker\":{\"id\":\"cac88250-d697-4b8b-bf8e-c32f5ad73be8\",\"type\":\"BasicTicker\"}},\"id\":\"444aeb1f-c21c-4c02-a74e-7133f4758d39\",\"type\":\"LinearAxis\"},{\"attributes\":{\"axis_label\":\"cooling rate [K/day]\",\"formatter\":{\"id\":\"2fa7bbf8-e5ff-460f-acc6-7b7b952c3108\",\"type\":\"BasicTickFormatter\"},\"plot\":{\"id\":\"2dd10246-2b68-4809-8157-5c15523b3c0a\",\"subtype\":\"Figure\",\"type\":\"Plot\"},\"ticker\":{\"id\":\"338d78cb-8832-44c8-a8d8-9cc193d48ea2\",\"type\":\"BasicTicker\"}},\"id\":\"2dd2070c-764b-4b65-9d1e-6378a81e923e\",\"type\":\"LinearAxis\"},{\"attributes\":{\"line_alpha\":0.8,\"line_color\":\"#984ea3\",\"line_width\":1.5,\"x\":{\"field\":\"x\"},\"y\":{\"field\":\"y\"}},\"id\":\"97898219-3a56-41d9-a92b-95caaa5ffe96\",\"type\":\"Line\"},{\"attributes\":{\"ticker\":null},\"id\":\"f817fe11-ba29-41d8-83b2-a86fe1e80017\",\"type\":\"LogTickFormatter\"},{\"attributes\":{},\"id\":\"315c6fda-da1a-4e51-b154-a324ff18ba24\",\"type\":\"Selection\"},{\"attributes\":{},\"id\":\"a83a3f00-8450-4a77-afab-420adfed46db\",\"type\":\"Selection\"}],\"root_ids\":[\"5741e31c-1bf2-4437-879e-62cbddd38d1a\"]},\"title\":\"Bokeh Application\",\"version\":\"0.12.16\"}};\n",
       "  var render_items = [{\"docid\":\"1e9da772-2ace-43db-8958-b40cd0569f50\",\"elementid\":\"93d2c868-4b5f-4839-8150-e56e022b2911\",\"modelid\":\"5741e31c-1bf2-4437-879e-62cbddd38d1a\"}];\n",
       "  root.Bokeh.embed.embed_items_notebook(docs_json, render_items);\n",
       "\n",
       "  }\n",
       "  if (root.Bokeh !== undefined) {\n",
       "    embed_document(root);\n",
       "  } else {\n",
       "    var attempts = 0;\n",
       "    var timer = setInterval(function(root) {\n",
       "      if (root.Bokeh !== undefined) {\n",
       "        embed_document(root);\n",
       "        clearInterval(timer);\n",
       "      }\n",
       "      attempts++;\n",
       "      if (attempts > 100) {\n",
       "        console.log(\"Bokeh: ERROR: Unable to run BokehJS code because BokehJS library is missing\")\n",
       "        clearInterval(timer);\n",
       "      }\n",
       "    }, 10, root)\n",
       "  }\n",
       "})(window);"
      ],
      "application/vnd.bokehjs_exec.v0+json": ""
     },
     "metadata": {
      "application/vnd.bokehjs_exec.v0+json": {
       "id": "5741e31c-1bf2-4437-879e-62cbddd38d1a"
      }
     },
     "output_type": "display_data"
    },
    {
     "data": {
      "text/markdown": [
       "*FIGURE.* Cooling rates & difference."
      ],
      "text/plain": [
       "<IPython.core.display.Markdown object>"
      ]
     },
     "metadata": {},
     "output_type": "display_data"
    },
    {
     "data": {
      "text/html": [
       "<a id=\"Fluxes._mls.\"></a>"
      ],
      "text/plain": [
       "<IPython.core.display.HTML object>"
      ]
     },
     "metadata": {},
     "output_type": "display_data"
    },
    {
     "data": {
      "text/markdown": [
       "# Fluxes. mls."
      ],
      "text/plain": [
       "<IPython.core.display.Markdown object>"
      ]
     },
     "metadata": {},
     "output_type": "display_data"
    },
    {
     "data": {
      "text/html": [
       "\n",
       "<div class=\"bk-root\">\n",
       "    <div class=\"bk-plotdiv\" id=\"0458bbf8-18f9-4434-b157-6339787c4160\"></div>\n",
       "</div>"
      ]
     },
     "metadata": {},
     "output_type": "display_data"
    },
    {
     "data": {
      "application/javascript": [
       "(function(root) {\n",
       "  function embed_document(root) {\n",
       "    \n",
       "  var docs_json = {\"d88e9b69-1046-405e-8622-23d4a08be898\":{\"roots\":{\"references\":[{\"attributes\":{\"toolbar\":{\"id\":\"8de53f11-1c5b-43a7-a645-dbf4390c2c9c\",\"type\":\"ProxyToolbar\"},\"toolbar_location\":\"above\"},\"id\":\"3c57fd93-0717-4e60-b9ba-eceb4e4a4edf\",\"type\":\"ToolbarBox\"},{\"attributes\":{\"axis_label\":\"flux (W m-2)\",\"formatter\":{\"id\":\"1c28051b-4bc8-42b5-a23e-0facf992c680\",\"type\":\"BasicTickFormatter\"},\"plot\":{\"id\":\"5f58a93a-daad-48e2-9800-61eed65e7792\",\"subtype\":\"Figure\",\"type\":\"Plot\"},\"ticker\":{\"id\":\"e791c4f1-5994-447e-b50f-1e87f54451b9\",\"type\":\"BasicTicker\"}},\"id\":\"7b496ac2-da94-4cae-9ee3-28ecc26a48b9\",\"type\":\"LinearAxis\"},{\"attributes\":{\"children\":[{\"id\":\"3c57fd93-0717-4e60-b9ba-eceb4e4a4edf\",\"type\":\"ToolbarBox\"},{\"id\":\"cb2e7efe-853a-4f7f-8b75-3fcfbaa11281\",\"type\":\"Column\"}]},\"id\":\"2f309c7f-1612-4cf7-9f3a-3c77cf464b69\",\"type\":\"Column\"},{\"attributes\":{},\"id\":\"5f257621-3f68-45a1-beda-84631890086c\",\"type\":\"CategoricalTicker\"},{\"attributes\":{},\"id\":\"f7feee5b-7d95-4cd4-b944-e1fdbed6ca27\",\"type\":\"BasicTickFormatter\"},{\"attributes\":{},\"id\":\"ee2a7495-61c7-4f48-88da-d9b703ab56e2\",\"type\":\"HelpTool\"},{\"attributes\":{\"tools\":[{\"id\":\"8aa92660-9603-4472-8d44-b50076b1804d\",\"type\":\"PanTool\"},{\"id\":\"b0184c0d-b136-4015-b401-1751a8e1406f\",\"type\":\"WheelZoomTool\"},{\"id\":\"d3891114-d3ec-4d7f-b9ec-117064e7fef2\",\"type\":\"BoxZoomTool\"},{\"id\":\"97c3890f-c900-4df3-a8e5-2b2e42e72bbd\",\"type\":\"SaveTool\"},{\"id\":\"ae9505ff-ec7f-4a0c-9c49-47fd7ac2859a\",\"type\":\"ResetTool\"},{\"id\":\"ec83ee8c-98c1-4b5c-ab41-89f990e0f473\",\"type\":\"HelpTool\"},{\"id\":\"da46bd57-c036-4984-8ca0-c988f662d918\",\"type\":\"PanTool\"},{\"id\":\"6114f1f0-5b8e-44a0-96f8-0d5def5a556b\",\"type\":\"WheelZoomTool\"},{\"id\":\"5ff38a07-875d-46e6-82ee-f9f965aed2a3\",\"type\":\"BoxZoomTool\"},{\"id\":\"8122c60a-6150-4cb5-b2fa-02cb6dbc84bd\",\"type\":\"SaveTool\"},{\"id\":\"28d9d545-0c66-4a63-849e-f57e08dc946e\",\"type\":\"ResetTool\"},{\"id\":\"ee2a7495-61c7-4f48-88da-d9b703ab56e2\",\"type\":\"HelpTool\"},{\"id\":\"d97bd1a9-d9e2-4ca4-939f-ac53fc601c9a\",\"type\":\"PanTool\"},{\"id\":\"203a5057-ccef-4247-8245-570d5f671fc5\",\"type\":\"WheelZoomTool\"},{\"id\":\"c7324bd2-4f40-4fb0-a99b-938d27d3199c\",\"type\":\"BoxZoomTool\"},{\"id\":\"3f1780cf-5481-434f-9bfb-d64a0007556c\",\"type\":\"SaveTool\"},{\"id\":\"c8acc379-ea95-48c0-b0aa-a37651182564\",\"type\":\"ResetTool\"},{\"id\":\"2781cea7-2246-4ff1-b514-7d031d18bbd1\",\"type\":\"HelpTool\"}]},\"id\":\"8de53f11-1c5b-43a7-a645-dbf4390c2c9c\",\"type\":\"ProxyToolbar\"},{\"attributes\":{\"below\":[{\"id\":\"8dbb8668-0a79-431f-be23-bed9ccb728f4\",\"type\":\"CategoricalAxis\"}],\"left\":[{\"id\":\"7b496ac2-da94-4cae-9ee3-28ecc26a48b9\",\"type\":\"LinearAxis\"}],\"plot_height\":300,\"plot_width\":300,\"renderers\":[{\"id\":\"8dbb8668-0a79-431f-be23-bed9ccb728f4\",\"type\":\"CategoricalAxis\"},{\"id\":\"ffa0cf30-053c-49d0-92b4-f5a72650723c\",\"type\":\"Grid\"},{\"id\":\"7b496ac2-da94-4cae-9ee3-28ecc26a48b9\",\"type\":\"LinearAxis\"},{\"id\":\"a9fd9b59-bf63-442f-b0be-90e6361e6f74\",\"type\":\"Grid\"},{\"id\":\"3699cbfd-88d3-47ca-a3e0-45c51f682617\",\"type\":\"BoxAnnotation\"},{\"id\":\"63b480e7-d6c4-41cb-8d9f-3cd787388ba5\",\"type\":\"GlyphRenderer\"}],\"title\":{\"id\":\"2f41d482-f489-4209-a065-368b809f6a94\",\"type\":\"Title\"},\"toolbar\":{\"id\":\"ddabfc67-4963-4ab0-bbf7-3bfb0abbdafb\",\"type\":\"Toolbar\"},\"toolbar_location\":null,\"x_range\":{\"id\":\"5f823488-6058-4147-8461-4189623e5e14\",\"type\":\"FactorRange\"},\"x_scale\":{\"id\":\"34ce75ad-3144-43fe-9dac-3a97bcd18faa\",\"type\":\"CategoricalScale\"},\"y_range\":{\"id\":\"130821e4-5048-4da9-9849-71abad1bab09\",\"type\":\"DataRange1d\"},\"y_scale\":{\"id\":\"8fcaf8bd-9bef-4881-b5e9-c992980f3773\",\"type\":\"LinearScale\"}},\"id\":\"5f58a93a-daad-48e2-9800-61eed65e7792\",\"subtype\":\"Figure\",\"type\":\"Plot\"},{\"attributes\":{\"source\":{\"id\":\"34072d40-e0c2-46f0-bac3-dfb79783733d\",\"type\":\"ColumnDataSource\"}},\"id\":\"f259b098-0f3f-4a31-8bda-4f2261be50b0\",\"type\":\"CDSView\"},{\"attributes\":{},\"id\":\"984abdbf-55b3-4384-942c-75a72021357b\",\"type\":\"Selection\"},{\"attributes\":{},\"id\":\"e791c4f1-5994-447e-b50f-1e87f54451b9\",\"type\":\"BasicTicker\"},{\"attributes\":{},\"id\":\"e5ff5948-b5d9-48a1-8d98-a12022d83bf5\",\"type\":\"CategoricalTickFormatter\"},{\"attributes\":{},\"id\":\"bfffcef6-8952-4af3-96ac-3edeaca38316\",\"type\":\"UnionRenderers\"},{\"attributes\":{},\"id\":\"16f5d657-bef4-4232-8d07-bf101e527528\",\"type\":\"UnionRenderers\"},{\"attributes\":{},\"id\":\"4b460b46-4611-4809-bafd-7a88d3d05e99\",\"type\":\"UnionRenderers\"},{\"attributes\":{},\"id\":\"dea3754e-6bfc-4d12-93d6-2ab9c51d0816\",\"type\":\"BasicTickFormatter\"},{\"attributes\":{\"dimension\":1,\"plot\":{\"id\":\"5f58a93a-daad-48e2-9800-61eed65e7792\",\"subtype\":\"Figure\",\"type\":\"Plot\"},\"ticker\":{\"id\":\"e791c4f1-5994-447e-b50f-1e87f54451b9\",\"type\":\"BasicTicker\"}},\"id\":\"a9fd9b59-bf63-442f-b0be-90e6361e6f74\",\"type\":\"Grid\"},{\"attributes\":{\"bottom_units\":\"screen\",\"fill_alpha\":{\"value\":0.5},\"fill_color\":{\"value\":\"lightgrey\"},\"left_units\":\"screen\",\"level\":\"overlay\",\"line_alpha\":{\"value\":1.0},\"line_color\":{\"value\":\"black\"},\"line_dash\":[4,4],\"line_width\":{\"value\":2},\"plot\":null,\"render_mode\":\"css\",\"right_units\":\"screen\",\"top_units\":\"screen\"},\"id\":\"fa057a17-178a-4e80-95da-715d36f0bcf6\",\"type\":\"BoxAnnotation\"},{\"attributes\":{},\"id\":\"c3b0b1fb-6268-46c1-89ce-419a3ed0d993\",\"type\":\"Selection\"},{\"attributes\":{\"plot\":{\"id\":\"5f58a93a-daad-48e2-9800-61eed65e7792\",\"subtype\":\"Figure\",\"type\":\"Plot\"},\"ticker\":{\"id\":\"5f257621-3f68-45a1-beda-84631890086c\",\"type\":\"CategoricalTicker\"}},\"id\":\"ffa0cf30-053c-49d0-92b4-f5a72650723c\",\"type\":\"Grid\"},{\"attributes\":{},\"id\":\"28d9d545-0c66-4a63-849e-f57e08dc946e\",\"type\":\"ResetTool\"},{\"attributes\":{\"data_source\":{\"id\":\"cb0100d2-1892-42a6-bb1a-0cb7df29fc16\",\"type\":\"ColumnDataSource\"},\"glyph\":{\"id\":\"14c24d7a-64fc-4db0-b906-c03a841e2fc1\",\"type\":\"VBar\"},\"hover_glyph\":null,\"muted_glyph\":null,\"nonselection_glyph\":{\"id\":\"735e91a9-a6cc-49d0-8562-1866904875f5\",\"type\":\"VBar\"},\"selection_glyph\":null,\"view\":{\"id\":\"911f55f4-d29c-47d6-a56a-d4b3ea9c69d9\",\"type\":\"CDSView\"}},\"id\":\"63b480e7-d6c4-41cb-8d9f-3cd787388ba5\",\"type\":\"GlyphRenderer\"},{\"attributes\":{\"fill_alpha\":{\"value\":0.1},\"fill_color\":{\"value\":\"#1f77b4\"},\"line_alpha\":{\"value\":0.1},\"line_color\":{\"value\":\"#1f77b4\"},\"top\":{\"field\":\"flux\"},\"width\":{\"value\":0.9},\"x\":{\"field\":\"band\"}},\"id\":\"735e91a9-a6cc-49d0-8562-1866904875f5\",\"type\":\"VBar\"},{\"attributes\":{\"fill_color\":{\"value\":\"#1f77b4\"},\"line_color\":{\"value\":\"#1f77b4\"},\"top\":{\"field\":\"flux\"},\"width\":{\"value\":0.9},\"x\":{\"field\":\"band\"}},\"id\":\"bd7c0d34-20d4-4a12-bc70-9a65155b4a07\",\"type\":\"VBar\"},{\"attributes\":{\"source\":{\"id\":\"cb0100d2-1892-42a6-bb1a-0cb7df29fc16\",\"type\":\"ColumnDataSource\"}},\"id\":\"911f55f4-d29c-47d6-a56a-d4b3ea9c69d9\",\"type\":\"CDSView\"},{\"attributes\":{},\"id\":\"da46bd57-c036-4984-8ca0-c988f662d918\",\"type\":\"PanTool\"},{\"attributes\":{},\"id\":\"f5a6c2d1-f52a-4591-b65b-4e7876f7af48\",\"type\":\"CategoricalScale\"},{\"attributes\":{\"callback\":null,\"factors\":[\"1\",\"2\",\"3\",\"4\",\"5\",\"6\",\"7\",\"8\",\"9\",\"10\",\"11\"]},\"id\":\"f4f19807-f8d6-4e42-9c58-ca83fac597d8\",\"type\":\"FactorRange\"},{\"attributes\":{\"axis_label\":\"flux (W m-2)\",\"formatter\":{\"id\":\"dea3754e-6bfc-4d12-93d6-2ab9c51d0816\",\"type\":\"BasicTickFormatter\"},\"plot\":{\"id\":\"c6273850-4952-45e5-ac0e-219f3d83e7ee\",\"subtype\":\"Figure\",\"type\":\"Plot\"},\"ticker\":{\"id\":\"5554e57c-1f71-4402-9855-f308215df756\",\"type\":\"BasicTicker\"}},\"id\":\"a9504769-2349-4f34-9105-ee177d57d93e\",\"type\":\"LinearAxis\"},{\"attributes\":{\"data_source\":{\"id\":\"34072d40-e0c2-46f0-bac3-dfb79783733d\",\"type\":\"ColumnDataSource\"},\"glyph\":{\"id\":\"bd7c0d34-20d4-4a12-bc70-9a65155b4a07\",\"type\":\"VBar\"},\"hover_glyph\":null,\"muted_glyph\":null,\"nonselection_glyph\":{\"id\":\"92f6a53b-88a1-4ab0-9b98-e2023890068e\",\"type\":\"VBar\"},\"selection_glyph\":null,\"view\":{\"id\":\"f259b098-0f3f-4a31-8bda-4f2261be50b0\",\"type\":\"CDSView\"}},\"id\":\"ae4ee602-439c-412f-89dc-b0f5a0bcf5fb\",\"type\":\"GlyphRenderer\"},{\"attributes\":{\"fill_alpha\":{\"value\":0.1},\"fill_color\":{\"value\":\"#1f77b4\"},\"line_alpha\":{\"value\":0.1},\"line_color\":{\"value\":\"#1f77b4\"},\"top\":{\"field\":\"flux\"},\"width\":{\"value\":0.9},\"x\":{\"field\":\"band\"}},\"id\":\"92f6a53b-88a1-4ab0-9b98-e2023890068e\",\"type\":\"VBar\"},{\"attributes\":{\"source\":{\"id\":\"0ca0337c-538f-4ac3-bf1a-3b576e586574\",\"type\":\"ColumnDataSource\"}},\"id\":\"486cd261-9d05-44d0-9f92-328f1e031725\",\"type\":\"CDSView\"},{\"attributes\":{\"callback\":null,\"factors\":[\"1\",\"2\",\"3\",\"4\",\"5\",\"6\",\"7\",\"8\",\"9\",\"10\",\"11\"]},\"id\":\"e3f98335-a7f8-47e4-ab10-af65261545a8\",\"type\":\"FactorRange\"},{\"attributes\":{\"callback\":null},\"id\":\"c6465974-7785-4422-bdec-61739107ecfd\",\"type\":\"DataRange1d\"},{\"attributes\":{},\"id\":\"7594a472-8550-4bae-96e6-28c40112f6b5\",\"type\":\"CategoricalTickFormatter\"},{\"attributes\":{\"active_drag\":\"auto\",\"active_inspect\":\"auto\",\"active_scroll\":\"auto\",\"active_tap\":\"auto\",\"tools\":[{\"id\":\"d97bd1a9-d9e2-4ca4-939f-ac53fc601c9a\",\"type\":\"PanTool\"},{\"id\":\"203a5057-ccef-4247-8245-570d5f671fc5\",\"type\":\"WheelZoomTool\"},{\"id\":\"c7324bd2-4f40-4fb0-a99b-938d27d3199c\",\"type\":\"BoxZoomTool\"},{\"id\":\"3f1780cf-5481-434f-9bfb-d64a0007556c\",\"type\":\"SaveTool\"},{\"id\":\"c8acc379-ea95-48c0-b0aa-a37651182564\",\"type\":\"ResetTool\"},{\"id\":\"2781cea7-2246-4ff1-b514-7d031d18bbd1\",\"type\":\"HelpTool\"}]},\"id\":\"550fb7b0-a2f2-47c9-8945-9913f5587a5f\",\"type\":\"Toolbar\"},{\"attributes\":{},\"id\":\"da7b6ed3-bb91-40a4-8b59-5a3b173badbf\",\"type\":\"LinearScale\"},{\"attributes\":{\"plot\":{\"id\":\"c6273850-4952-45e5-ac0e-219f3d83e7ee\",\"subtype\":\"Figure\",\"type\":\"Plot\"},\"ticker\":{\"id\":\"7681da57-f117-4c70-8686-633a79e4beb9\",\"type\":\"CategoricalTicker\"}},\"id\":\"e83c26a9-9ff2-4759-baaa-ceb681fee113\",\"type\":\"Grid\"},{\"attributes\":{},\"id\":\"1c28051b-4bc8-42b5-a23e-0facf992c680\",\"type\":\"BasicTickFormatter\"},{\"attributes\":{\"children\":[{\"id\":\"386221ee-2965-48ce-8cda-b1f84a07ad16\",\"type\":\"Row\"}]},\"id\":\"cb2e7efe-853a-4f7f-8b75-3fcfbaa11281\",\"type\":\"Column\"},{\"attributes\":{},\"id\":\"519879ad-48eb-47ea-a189-c4cfaffaade0\",\"type\":\"LinearScale\"},{\"attributes\":{},\"id\":\"b0184c0d-b136-4015-b401-1751a8e1406f\",\"type\":\"WheelZoomTool\"},{\"attributes\":{},\"id\":\"ec83ee8c-98c1-4b5c-ab41-89f990e0f473\",\"type\":\"HelpTool\"},{\"attributes\":{\"callback\":null},\"id\":\"130821e4-5048-4da9-9849-71abad1bab09\",\"type\":\"DataRange1d\"},{\"attributes\":{},\"id\":\"8fcaf8bd-9bef-4881-b5e9-c992980f3773\",\"type\":\"LinearScale\"},{\"attributes\":{},\"id\":\"a07688ee-b2fb-41fd-8e62-5f82236418aa\",\"type\":\"CategoricalScale\"},{\"attributes\":{},\"id\":\"8122c60a-6150-4cb5-b2fa-02cb6dbc84bd\",\"type\":\"SaveTool\"},{\"attributes\":{},\"id\":\"203a5057-ccef-4247-8245-570d5f671fc5\",\"type\":\"WheelZoomTool\"},{\"attributes\":{},\"id\":\"f7919dca-5599-42ab-ac3a-7af18d9b6045\",\"type\":\"CategoricalTickFormatter\"},{\"attributes\":{\"axis_label\":\"spectral band\",\"formatter\":{\"id\":\"7594a472-8550-4bae-96e6-28c40112f6b5\",\"type\":\"CategoricalTickFormatter\"},\"plot\":{\"id\":\"5f58a93a-daad-48e2-9800-61eed65e7792\",\"subtype\":\"Figure\",\"type\":\"Plot\"},\"ticker\":{\"id\":\"5f257621-3f68-45a1-beda-84631890086c\",\"type\":\"CategoricalTicker\"}},\"id\":\"8dbb8668-0a79-431f-be23-bed9ccb728f4\",\"type\":\"CategoricalAxis\"},{\"attributes\":{\"plot\":null,\"text\":\"Atmosphere heating. CLIRAD (single-run) - CRD.\"},\"id\":\"67043493-3193-4659-8c31-be310ec11e21\",\"type\":\"Title\"},{\"attributes\":{\"active_drag\":\"auto\",\"active_inspect\":\"auto\",\"active_scroll\":\"auto\",\"active_tap\":\"auto\",\"tools\":[{\"id\":\"da46bd57-c036-4984-8ca0-c988f662d918\",\"type\":\"PanTool\"},{\"id\":\"6114f1f0-5b8e-44a0-96f8-0d5def5a556b\",\"type\":\"WheelZoomTool\"},{\"id\":\"5ff38a07-875d-46e6-82ee-f9f965aed2a3\",\"type\":\"BoxZoomTool\"},{\"id\":\"8122c60a-6150-4cb5-b2fa-02cb6dbc84bd\",\"type\":\"SaveTool\"},{\"id\":\"28d9d545-0c66-4a63-849e-f57e08dc946e\",\"type\":\"ResetTool\"},{\"id\":\"ee2a7495-61c7-4f48-88da-d9b703ab56e2\",\"type\":\"HelpTool\"}]},\"id\":\"2c718308-0c1e-4687-b2d2-adbca31f4509\",\"type\":\"Toolbar\"},{\"attributes\":{},\"id\":\"3f1780cf-5481-434f-9bfb-d64a0007556c\",\"type\":\"SaveTool\"},{\"attributes\":{},\"id\":\"34ce75ad-3144-43fe-9dac-3a97bcd18faa\",\"type\":\"CategoricalScale\"},{\"attributes\":{\"fill_alpha\":{\"value\":0.1},\"fill_color\":{\"value\":\"#1f77b4\"},\"line_alpha\":{\"value\":0.1},\"line_color\":{\"value\":\"#1f77b4\"},\"top\":{\"field\":\"flux\"},\"width\":{\"value\":0.9},\"x\":{\"field\":\"band\"}},\"id\":\"4879ad25-e676-4565-82e5-8b9e05776358\",\"type\":\"VBar\"},{\"attributes\":{},\"id\":\"97c3890f-c900-4df3-a8e5-2b2e42e72bbd\",\"type\":\"SaveTool\"},{\"attributes\":{\"below\":[{\"id\":\"c28101cc-8896-4866-ac06-4fa8c46be980\",\"type\":\"CategoricalAxis\"}],\"left\":[{\"id\":\"a9504769-2349-4f34-9105-ee177d57d93e\",\"type\":\"LinearAxis\"}],\"plot_height\":300,\"plot_width\":300,\"renderers\":[{\"id\":\"c28101cc-8896-4866-ac06-4fa8c46be980\",\"type\":\"CategoricalAxis\"},{\"id\":\"e83c26a9-9ff2-4759-baaa-ceb681fee113\",\"type\":\"Grid\"},{\"id\":\"a9504769-2349-4f34-9105-ee177d57d93e\",\"type\":\"LinearAxis\"},{\"id\":\"a0923616-03f3-4233-9244-33d7a810a8d9\",\"type\":\"Grid\"},{\"id\":\"fa057a17-178a-4e80-95da-715d36f0bcf6\",\"type\":\"BoxAnnotation\"},{\"id\":\"ae4ee602-439c-412f-89dc-b0f5a0bcf5fb\",\"type\":\"GlyphRenderer\"}],\"title\":{\"id\":\"0454ab2f-3fe3-42a4-9546-6b157017c140\",\"type\":\"Title\"},\"toolbar\":{\"id\":\"2c718308-0c1e-4687-b2d2-adbca31f4509\",\"type\":\"Toolbar\"},\"toolbar_location\":null,\"x_range\":{\"id\":\"f4f19807-f8d6-4e42-9c58-ca83fac597d8\",\"type\":\"FactorRange\"},\"x_scale\":{\"id\":\"a07688ee-b2fb-41fd-8e62-5f82236418aa\",\"type\":\"CategoricalScale\"},\"y_range\":{\"id\":\"22c739b8-15f0-477a-af1c-694713ca3789\",\"type\":\"DataRange1d\"},\"y_scale\":{\"id\":\"519879ad-48eb-47ea-a189-c4cfaffaade0\",\"type\":\"LinearScale\"}},\"id\":\"c6273850-4952-45e5-ac0e-219f3d83e7ee\",\"subtype\":\"Figure\",\"type\":\"Plot\"},{\"attributes\":{},\"id\":\"d97bd1a9-d9e2-4ca4-939f-ac53fc601c9a\",\"type\":\"PanTool\"},{\"attributes\":{\"active_drag\":\"auto\",\"active_inspect\":\"auto\",\"active_scroll\":\"auto\",\"active_tap\":\"auto\",\"tools\":[{\"id\":\"8aa92660-9603-4472-8d44-b50076b1804d\",\"type\":\"PanTool\"},{\"id\":\"b0184c0d-b136-4015-b401-1751a8e1406f\",\"type\":\"WheelZoomTool\"},{\"id\":\"d3891114-d3ec-4d7f-b9ec-117064e7fef2\",\"type\":\"BoxZoomTool\"},{\"id\":\"97c3890f-c900-4df3-a8e5-2b2e42e72bbd\",\"type\":\"SaveTool\"},{\"id\":\"ae9505ff-ec7f-4a0c-9c49-47fd7ac2859a\",\"type\":\"ResetTool\"},{\"id\":\"ec83ee8c-98c1-4b5c-ab41-89f990e0f473\",\"type\":\"HelpTool\"}]},\"id\":\"ddabfc67-4963-4ab0-bbf7-3bfb0abbdafb\",\"type\":\"Toolbar\"},{\"attributes\":{\"callback\":null,\"data\":{\"band\":[\"1\",\"2\",\"3\",\"4\",\"5\",\"6\",\"7\",\"8\",\"9\",\"10\",\"11\"],\"flux\":{\"__ndarray__\":\"ALx4uzWbyj+Ac4gT80fQPwAjFs7BFfG/AIUh1SS2zD+2ByEgX8IXwFggelImbTLAvGWH+If9EMAgcQFolC4DwGA/Ozt0Ve+/QL8FwBXcvT8AZ1U6DnKtPw==\",\"dtype\":\"float64\",\"shape\":[11]}},\"selected\":{\"id\":\"c3b0b1fb-6268-46c1-89ce-419a3ed0d993\",\"type\":\"Selection\"},\"selection_policy\":{\"id\":\"16f5d657-bef4-4232-8d07-bf101e527528\",\"type\":\"UnionRenderers\"}},\"id\":\"0ca0337c-538f-4ac3-bf1a-3b576e586574\",\"type\":\"ColumnDataSource\"},{\"attributes\":{\"children\":[{\"id\":\"5f58a93a-daad-48e2-9800-61eed65e7792\",\"subtype\":\"Figure\",\"type\":\"Plot\"},{\"id\":\"c6273850-4952-45e5-ac0e-219f3d83e7ee\",\"subtype\":\"Figure\",\"type\":\"Plot\"},{\"id\":\"fcae0adb-8f50-4481-89fe-e3be4733ccae\",\"subtype\":\"Figure\",\"type\":\"Plot\"}]},\"id\":\"386221ee-2965-48ce-8cda-b1f84a07ad16\",\"type\":\"Row\"},{\"attributes\":{},\"id\":\"7681da57-f117-4c70-8686-633a79e4beb9\",\"type\":\"CategoricalTicker\"},{\"attributes\":{},\"id\":\"4b216896-a3ec-411e-9dc9-e1916aaee1ae\",\"type\":\"CategoricalTicker\"},{\"attributes\":{\"bottom_units\":\"screen\",\"fill_alpha\":{\"value\":0.5},\"fill_color\":{\"value\":\"lightgrey\"},\"left_units\":\"screen\",\"level\":\"overlay\",\"line_alpha\":{\"value\":1.0},\"line_color\":{\"value\":\"black\"},\"line_dash\":[4,4],\"line_width\":{\"value\":2},\"plot\":null,\"render_mode\":\"css\",\"right_units\":\"screen\",\"top_units\":\"screen\"},\"id\":\"3699cbfd-88d3-47ca-a3e0-45c51f682617\",\"type\":\"BoxAnnotation\"},{\"attributes\":{\"dimension\":1,\"plot\":{\"id\":\"fcae0adb-8f50-4481-89fe-e3be4733ccae\",\"subtype\":\"Figure\",\"type\":\"Plot\"},\"ticker\":{\"id\":\"071dd7ac-e256-43ad-a13c-b9551a0f452d\",\"type\":\"BasicTicker\"}},\"id\":\"aa6ac0d5-1a93-428e-a34f-fd1d48beb592\",\"type\":\"Grid\"},{\"attributes\":{\"callback\":null,\"data\":{\"band\":[\"1\",\"2\",\"3\",\"4\",\"5\",\"6\",\"7\",\"8\",\"9\",\"10\",\"11\"],\"flux\":{\"__ndarray__\":\"AAAAAyUF9r4AQ41CktnpP+Ai+N9KdvI/AMAma9RDtD+soKLqVzobQHqeifpuKjRA57nPO1/lE0AIxWf8DFkHQFAb8WQ3s/E/AKBF71TAjT8AcGzRXW2APw==\",\"dtype\":\"float64\",\"shape\":[11]}},\"selected\":{\"id\":\"984abdbf-55b3-4384-942c-75a72021357b\",\"type\":\"Selection\"},\"selection_policy\":{\"id\":\"bfffcef6-8952-4af3-96ac-3edeaca38316\",\"type\":\"UnionRenderers\"}},\"id\":\"34072d40-e0c2-46f0-bac3-dfb79783733d\",\"type\":\"ColumnDataSource\"},{\"attributes\":{},\"id\":\"ed5d1964-76d2-49e0-b5c8-feeb11822f96\",\"type\":\"Selection\"},{\"attributes\":{\"below\":[{\"id\":\"58036e83-ec15-4c07-9ad3-6b7a4ccd67b7\",\"type\":\"CategoricalAxis\"}],\"left\":[{\"id\":\"618327f5-8edc-4454-bc21-dea94eea7cb7\",\"type\":\"LinearAxis\"}],\"plot_height\":300,\"plot_width\":300,\"renderers\":[{\"id\":\"58036e83-ec15-4c07-9ad3-6b7a4ccd67b7\",\"type\":\"CategoricalAxis\"},{\"id\":\"033e157f-ef61-4f99-aa47-10d3efcf3275\",\"type\":\"Grid\"},{\"id\":\"618327f5-8edc-4454-bc21-dea94eea7cb7\",\"type\":\"LinearAxis\"},{\"id\":\"aa6ac0d5-1a93-428e-a34f-fd1d48beb592\",\"type\":\"Grid\"},{\"id\":\"d696ad34-2e65-4519-a85a-d3ae8687f5b9\",\"type\":\"BoxAnnotation\"},{\"id\":\"62e72e58-95e3-4924-a289-446d2d354eb2\",\"type\":\"GlyphRenderer\"}],\"title\":{\"id\":\"67043493-3193-4659-8c31-be310ec11e21\",\"type\":\"Title\"},\"toolbar\":{\"id\":\"550fb7b0-a2f2-47c9-8945-9913f5587a5f\",\"type\":\"Toolbar\"},\"toolbar_location\":null,\"x_range\":{\"id\":\"e3f98335-a7f8-47e4-ab10-af65261545a8\",\"type\":\"FactorRange\"},\"x_scale\":{\"id\":\"f5a6c2d1-f52a-4591-b65b-4e7876f7af48\",\"type\":\"CategoricalScale\"},\"y_range\":{\"id\":\"c6465974-7785-4422-bdec-61739107ecfd\",\"type\":\"DataRange1d\"},\"y_scale\":{\"id\":\"da7b6ed3-bb91-40a4-8b59-5a3b173badbf\",\"type\":\"LinearScale\"}},\"id\":\"fcae0adb-8f50-4481-89fe-e3be4733ccae\",\"subtype\":\"Figure\",\"type\":\"Plot\"},{\"attributes\":{},\"id\":\"5554e57c-1f71-4402-9855-f308215df756\",\"type\":\"BasicTicker\"},{\"attributes\":{\"plot\":null,\"text\":\"SFC flux. CLIRAD (single-run) - CRD.\"},\"id\":\"0454ab2f-3fe3-42a4-9546-6b157017c140\",\"type\":\"Title\"},{\"attributes\":{\"fill_color\":{\"value\":\"#1f77b4\"},\"line_color\":{\"value\":\"#1f77b4\"},\"top\":{\"field\":\"flux\"},\"width\":{\"value\":0.9},\"x\":{\"field\":\"band\"}},\"id\":\"b44e75c8-1299-46ee-9537-0ac337625a11\",\"type\":\"VBar\"},{\"attributes\":{\"axis_label\":\"spectral band\",\"formatter\":{\"id\":\"e5ff5948-b5d9-48a1-8d98-a12022d83bf5\",\"type\":\"CategoricalTickFormatter\"},\"plot\":{\"id\":\"c6273850-4952-45e5-ac0e-219f3d83e7ee\",\"subtype\":\"Figure\",\"type\":\"Plot\"},\"ticker\":{\"id\":\"7681da57-f117-4c70-8686-633a79e4beb9\",\"type\":\"CategoricalTicker\"}},\"id\":\"c28101cc-8896-4866-ac06-4fa8c46be980\",\"type\":\"CategoricalAxis\"},{\"attributes\":{\"callback\":null,\"factors\":[\"1\",\"2\",\"3\",\"4\",\"5\",\"6\",\"7\",\"8\",\"9\",\"10\",\"11\"]},\"id\":\"5f823488-6058-4147-8461-4189623e5e14\",\"type\":\"FactorRange\"},{\"attributes\":{\"axis_label\":\"flux (W m-2)\",\"formatter\":{\"id\":\"f7feee5b-7d95-4cd4-b944-e1fdbed6ca27\",\"type\":\"BasicTickFormatter\"},\"plot\":{\"id\":\"fcae0adb-8f50-4481-89fe-e3be4733ccae\",\"subtype\":\"Figure\",\"type\":\"Plot\"},\"ticker\":{\"id\":\"071dd7ac-e256-43ad-a13c-b9551a0f452d\",\"type\":\"BasicTicker\"}},\"id\":\"618327f5-8edc-4454-bc21-dea94eea7cb7\",\"type\":\"LinearAxis\"},{\"attributes\":{},\"id\":\"2781cea7-2246-4ff1-b514-7d031d18bbd1\",\"type\":\"HelpTool\"},{\"attributes\":{},\"id\":\"ae9505ff-ec7f-4a0c-9c49-47fd7ac2859a\",\"type\":\"ResetTool\"},{\"attributes\":{},\"id\":\"8aa92660-9603-4472-8d44-b50076b1804d\",\"type\":\"PanTool\"},{\"attributes\":{\"dimension\":1,\"plot\":{\"id\":\"c6273850-4952-45e5-ac0e-219f3d83e7ee\",\"subtype\":\"Figure\",\"type\":\"Plot\"},\"ticker\":{\"id\":\"5554e57c-1f71-4402-9855-f308215df756\",\"type\":\"BasicTicker\"}},\"id\":\"a0923616-03f3-4233-9244-33d7a810a8d9\",\"type\":\"Grid\"},{\"attributes\":{\"overlay\":{\"id\":\"d696ad34-2e65-4519-a85a-d3ae8687f5b9\",\"type\":\"BoxAnnotation\"}},\"id\":\"c7324bd2-4f40-4fb0-a99b-938d27d3199c\",\"type\":\"BoxZoomTool\"},{\"attributes\":{\"plot\":null,\"text\":\"TOA flux. CLIRAD (single-run) - CRD.\"},\"id\":\"2f41d482-f489-4209-a065-368b809f6a94\",\"type\":\"Title\"},{\"attributes\":{\"plot\":{\"id\":\"fcae0adb-8f50-4481-89fe-e3be4733ccae\",\"subtype\":\"Figure\",\"type\":\"Plot\"},\"ticker\":{\"id\":\"4b216896-a3ec-411e-9dc9-e1916aaee1ae\",\"type\":\"CategoricalTicker\"}},\"id\":\"033e157f-ef61-4f99-aa47-10d3efcf3275\",\"type\":\"Grid\"},{\"attributes\":{\"data_source\":{\"id\":\"0ca0337c-538f-4ac3-bf1a-3b576e586574\",\"type\":\"ColumnDataSource\"},\"glyph\":{\"id\":\"b44e75c8-1299-46ee-9537-0ac337625a11\",\"type\":\"VBar\"},\"hover_glyph\":null,\"muted_glyph\":null,\"nonselection_glyph\":{\"id\":\"4879ad25-e676-4565-82e5-8b9e05776358\",\"type\":\"VBar\"},\"selection_glyph\":null,\"view\":{\"id\":\"486cd261-9d05-44d0-9f92-328f1e031725\",\"type\":\"CDSView\"}},\"id\":\"62e72e58-95e3-4924-a289-446d2d354eb2\",\"type\":\"GlyphRenderer\"},{\"attributes\":{\"callback\":null,\"data\":{\"band\":[\"1\",\"2\",\"3\",\"4\",\"5\",\"6\",\"7\",\"8\",\"9\",\"10\",\"11\"],\"flux\":{\"__ndarray__\":\"AEzirIiayj/A7juGx/7wPwArTN9rCLY/AMOedvhr0z/go6mezL/rP4DsEWqG1Ps/4N/1mbM+5z8AJhqk4KngP0DvqgfMQ8A/YNQ5UPHJwD9AvtXft8awPw==\",\"dtype\":\"float64\",\"shape\":[11]}},\"selected\":{\"id\":\"ed5d1964-76d2-49e0-b5c8-feeb11822f96\",\"type\":\"Selection\"},\"selection_policy\":{\"id\":\"4b460b46-4611-4809-bafd-7a88d3d05e99\",\"type\":\"UnionRenderers\"}},\"id\":\"cb0100d2-1892-42a6-bb1a-0cb7df29fc16\",\"type\":\"ColumnDataSource\"},{\"attributes\":{},\"id\":\"071dd7ac-e256-43ad-a13c-b9551a0f452d\",\"type\":\"BasicTicker\"},{\"attributes\":{\"overlay\":{\"id\":\"3699cbfd-88d3-47ca-a3e0-45c51f682617\",\"type\":\"BoxAnnotation\"}},\"id\":\"d3891114-d3ec-4d7f-b9ec-117064e7fef2\",\"type\":\"BoxZoomTool\"},{\"attributes\":{\"axis_label\":\"spectral band\",\"formatter\":{\"id\":\"f7919dca-5599-42ab-ac3a-7af18d9b6045\",\"type\":\"CategoricalTickFormatter\"},\"plot\":{\"id\":\"fcae0adb-8f50-4481-89fe-e3be4733ccae\",\"subtype\":\"Figure\",\"type\":\"Plot\"},\"ticker\":{\"id\":\"4b216896-a3ec-411e-9dc9-e1916aaee1ae\",\"type\":\"CategoricalTicker\"}},\"id\":\"58036e83-ec15-4c07-9ad3-6b7a4ccd67b7\",\"type\":\"CategoricalAxis\"},{\"attributes\":{\"overlay\":{\"id\":\"fa057a17-178a-4e80-95da-715d36f0bcf6\",\"type\":\"BoxAnnotation\"}},\"id\":\"5ff38a07-875d-46e6-82ee-f9f965aed2a3\",\"type\":\"BoxZoomTool\"},{\"attributes\":{},\"id\":\"6114f1f0-5b8e-44a0-96f8-0d5def5a556b\",\"type\":\"WheelZoomTool\"},{\"attributes\":{},\"id\":\"c8acc379-ea95-48c0-b0aa-a37651182564\",\"type\":\"ResetTool\"},{\"attributes\":{\"callback\":null},\"id\":\"22c739b8-15f0-477a-af1c-694713ca3789\",\"type\":\"DataRange1d\"},{\"attributes\":{\"fill_color\":{\"value\":\"#1f77b4\"},\"line_color\":{\"value\":\"#1f77b4\"},\"top\":{\"field\":\"flux\"},\"width\":{\"value\":0.9},\"x\":{\"field\":\"band\"}},\"id\":\"14c24d7a-64fc-4db0-b906-c03a841e2fc1\",\"type\":\"VBar\"},{\"attributes\":{\"bottom_units\":\"screen\",\"fill_alpha\":{\"value\":0.5},\"fill_color\":{\"value\":\"lightgrey\"},\"left_units\":\"screen\",\"level\":\"overlay\",\"line_alpha\":{\"value\":1.0},\"line_color\":{\"value\":\"black\"},\"line_dash\":[4,4],\"line_width\":{\"value\":2},\"plot\":null,\"render_mode\":\"css\",\"right_units\":\"screen\",\"top_units\":\"screen\"},\"id\":\"d696ad34-2e65-4519-a85a-d3ae8687f5b9\",\"type\":\"BoxAnnotation\"}],\"root_ids\":[\"2f309c7f-1612-4cf7-9f3a-3c77cf464b69\"]},\"title\":\"Bokeh Application\",\"version\":\"0.12.16\"}};\n",
       "  var render_items = [{\"docid\":\"d88e9b69-1046-405e-8622-23d4a08be898\",\"elementid\":\"0458bbf8-18f9-4434-b157-6339787c4160\",\"modelid\":\"2f309c7f-1612-4cf7-9f3a-3c77cf464b69\"}];\n",
       "  root.Bokeh.embed.embed_items_notebook(docs_json, render_items);\n",
       "\n",
       "  }\n",
       "  if (root.Bokeh !== undefined) {\n",
       "    embed_document(root);\n",
       "  } else {\n",
       "    var attempts = 0;\n",
       "    var timer = setInterval(function(root) {\n",
       "      if (root.Bokeh !== undefined) {\n",
       "        embed_document(root);\n",
       "        clearInterval(timer);\n",
       "      }\n",
       "      attempts++;\n",
       "      if (attempts > 100) {\n",
       "        console.log(\"Bokeh: ERROR: Unable to run BokehJS code because BokehJS library is missing\")\n",
       "        clearInterval(timer);\n",
       "      }\n",
       "    }, 10, root)\n",
       "  }\n",
       "})(window);"
      ],
      "application/vnd.bokehjs_exec.v0+json": ""
     },
     "metadata": {
      "application/vnd.bokehjs_exec.v0+json": {
       "id": "2f309c7f-1612-4cf7-9f3a-3c77cf464b69"
      }
     },
     "output_type": "display_data"
    },
    {
     "data": {
      "text/markdown": [
       "*FIGURE.* Difference between CLIRAD and CRD in TOA, SFC and net atmosphere flux, in each spectral band."
      ],
      "text/plain": [
       "<IPython.core.display.Markdown object>"
      ]
     },
     "metadata": {},
     "output_type": "display_data"
    },
    {
     "data": {
      "text/html": [
       "<div>\n",
       "<style scoped>\n",
       "    .dataframe tbody tr th:only-of-type {\n",
       "        vertical-align: middle;\n",
       "    }\n",
       "\n",
       "    .dataframe tbody tr th {\n",
       "        vertical-align: top;\n",
       "    }\n",
       "\n",
       "    .dataframe thead th {\n",
       "        text-align: right;\n",
       "    }\n",
       "</style>\n",
       "<table border=\"1\" class=\"dataframe\">\n",
       "  <thead>\n",
       "    <tr style=\"text-align: right;\">\n",
       "      <th></th>\n",
       "      <th>OLR flux</th>\n",
       "      <th>SFC flux</th>\n",
       "      <th>ATM heating</th>\n",
       "    </tr>\n",
       "    <tr>\n",
       "      <th>Sum over bands</th>\n",
       "      <th></th>\n",
       "      <th></th>\n",
       "      <th></th>\n",
       "    </tr>\n",
       "  </thead>\n",
       "  <tbody>\n",
       "    <tr>\n",
       "      <th>old CLIRAD - CRD</th>\n",
       "      <td>0.14</td>\n",
       "      <td>2.01</td>\n",
       "      <td>-1.73</td>\n",
       "    </tr>\n",
       "    <tr>\n",
       "      <th>CLIRAD (single-run) - CRD</th>\n",
       "      <td>5.84</td>\n",
       "      <td>38.03</td>\n",
       "      <td>-32.20</td>\n",
       "    </tr>\n",
       "    <tr>\n",
       "      <th>CRD</th>\n",
       "      <td>-290.39</td>\n",
       "      <td>308.14</td>\n",
       "      <td>-174.89</td>\n",
       "    </tr>\n",
       "  </tbody>\n",
       "</table>\n",
       "</div>"
      ],
      "text/plain": [
       "                           OLR flux  SFC flux  ATM heating\n",
       "Sum over bands                                            \n",
       "old CLIRAD - CRD               0.14      2.01        -1.73\n",
       "CLIRAD (single-run) - CRD      5.84     38.03       -32.20\n",
       "CRD                         -290.39    308.14      -174.89"
      ]
     },
     "metadata": {},
     "output_type": "display_data"
    },
    {
     "data": {
      "text/markdown": [
       "*TABLE.* Difference between CLIRAD and CRD in TOA, SFC and net atmosphere flux, over all spectral bands. CRD's TOA, SFC and net atmosphere flux, over all spectral bands."
      ],
      "text/plain": [
       "<IPython.core.display.Markdown object>"
      ]
     },
     "metadata": {},
     "output_type": "display_data"
    },
    {
     "data": {
      "text/html": [
       "<a id=\"Cooling_rates._saw.\"></a>"
      ],
      "text/plain": [
       "<IPython.core.display.HTML object>"
      ]
     },
     "metadata": {},
     "output_type": "display_data"
    },
    {
     "data": {
      "text/markdown": [
       "# Cooling rates. saw."
      ],
      "text/plain": [
       "<IPython.core.display.Markdown object>"
      ]
     },
     "metadata": {},
     "output_type": "display_data"
    },
    {
     "data": {
      "text/html": [
       "\n",
       "<div class=\"bk-root\">\n",
       "    <div class=\"bk-plotdiv\" id=\"152a2b1c-d6cd-4620-9792-68ce3215530c\"></div>\n",
       "</div>"
      ]
     },
     "metadata": {},
     "output_type": "display_data"
    },
    {
     "data": {
      "application/javascript": [
       "(function(root) {\n",
       "  function embed_document(root) {\n",
       "    \n",
       "  var docs_json = {\"f63f4aa0-de0f-489b-8ce9-2821e34ffb9f\":{\"roots\":{\"references\":[{\"attributes\":{\"plot\":{\"id\":\"9d5ec81c-a457-4036-b879-8e4b18d9d1e4\",\"subtype\":\"Figure\",\"type\":\"Plot\"},\"ticker\":{\"id\":\"b6adcdc6-6d91-49d1-81b0-38692baa3f7e\",\"type\":\"BasicTicker\"}},\"id\":\"511214b6-1747-4423-96f7-4368c5054b3d\",\"type\":\"Grid\"},{\"attributes\":{\"items\":[{\"id\":\"665384eb-fbd2-41c6-98ec-2b3fad34a11b\",\"type\":\"LegendItem\"}],\"label_text_font_size\":{\"value\":\"8pt\"},\"location\":\"top_center\",\"orientation\":\"horizontal\",\"plot\":{\"id\":\"24b7a911-888a-43b4-9015-2c5d8a17ced2\",\"subtype\":\"Figure\",\"type\":\"Plot\"}},\"id\":\"b2986866-0ce8-4fde-b468-ca3ee083355c\",\"type\":\"Legend\"},{\"attributes\":{\"axis_label\":\"pressure [mb]\",\"formatter\":{\"id\":\"3447ed12-20c7-4205-903d-82d709c2d835\",\"type\":\"LogTickFormatter\"},\"plot\":{\"id\":\"9d5ec81c-a457-4036-b879-8e4b18d9d1e4\",\"subtype\":\"Figure\",\"type\":\"Plot\"},\"ticker\":{\"id\":\"1a40cd9e-b8b7-4016-9c20-17d6b47e85a8\",\"type\":\"LogTicker\"}},\"id\":\"5b2f289a-49ed-4ba7-a658-008099785854\",\"type\":\"LogAxis\"},{\"attributes\":{\"line_alpha\":0.1,\"line_color\":\"#1f77b4\",\"line_dash\":[6],\"line_width\":5,\"x\":{\"field\":\"x\"},\"y\":{\"field\":\"y\"}},\"id\":\"72b307d5-dd16-4c1f-8dbc-4d96859793d0\",\"type\":\"Line\"},{\"attributes\":{\"data_source\":{\"id\":\"e1b6261d-bd43-4518-973f-bd656d3dbd26\",\"type\":\"ColumnDataSource\"},\"glyph\":{\"id\":\"0737ee0e-7c35-4ce8-a08c-b841175a050b\",\"type\":\"Circle\"},\"hover_glyph\":null,\"muted_glyph\":null,\"nonselection_glyph\":{\"id\":\"c0f733bd-33f0-48c7-abbe-15979ff262fd\",\"type\":\"Circle\"},\"selection_glyph\":null,\"view\":{\"id\":\"9ad8fd1e-ad21-4255-aec0-a105a5b8ab82\",\"type\":\"CDSView\"}},\"id\":\"a24f4476-3c47-49fb-9a95-84ee9399fb14\",\"type\":\"GlyphRenderer\"},{\"attributes\":{},\"id\":\"2bdb1401-7eed-4831-8c08-eb94d0f6086e\",\"type\":\"LinearScale\"},{\"attributes\":{\"items\":[{\"id\":\"0d5768f7-c5bf-4bc9-8ab7-cca4943c4f45\",\"type\":\"LegendItem\"},{\"id\":\"f601f063-3c18-49af-a9aa-1c9669d5999a\",\"type\":\"LegendItem\"}],\"label_text_font_size\":{\"value\":\"8pt\"},\"location\":\"top_center\",\"orientation\":\"horizontal\",\"plot\":{\"id\":\"9d5ec81c-a457-4036-b879-8e4b18d9d1e4\",\"subtype\":\"Figure\",\"type\":\"Plot\"}},\"id\":\"d144a1c3-bc0a-4796-81fa-db147ef36a6b\",\"type\":\"Legend\"},{\"attributes\":{\"num_minor_ticks\":10},\"id\":\"1a40cd9e-b8b7-4016-9c20-17d6b47e85a8\",\"type\":\"LogTicker\"},{\"attributes\":{},\"id\":\"b5eae956-1846-4e50-a05e-ad15a6a314a5\",\"type\":\"WheelZoomTool\"},{\"attributes\":{\"num_minor_ticks\":10},\"id\":\"f2008c73-dde9-4ece-a2f0-c05b2c049b47\",\"type\":\"LogTicker\"},{\"attributes\":{\"data_source\":{\"id\":\"2a36eeec-e612-46ee-b8e6-4c80f7be212b\",\"type\":\"ColumnDataSource\"},\"glyph\":{\"id\":\"d60d3046-de24-48e6-beec-c77ba480bb53\",\"type\":\"Circle\"},\"hover_glyph\":null,\"muted_glyph\":null,\"nonselection_glyph\":{\"id\":\"01e634ec-4d32-44b4-a66f-5871a0693f31\",\"type\":\"Circle\"},\"selection_glyph\":null,\"view\":{\"id\":\"47dc9bfc-da12-42bb-920e-e9ed18129467\",\"type\":\"CDSView\"}},\"id\":\"55532d7d-98d7-4ac1-9869-64aff0271b11\",\"type\":\"GlyphRenderer\"},{\"attributes\":{\"label\":{\"value\":\"CRD\"},\"renderers\":[{\"id\":\"9049dc03-072a-4f45-bb87-d9e624ca49b6\",\"type\":\"GlyphRenderer\"},{\"id\":\"7ffecc5c-0896-4bb1-a7a6-a78a4941fd5c\",\"type\":\"GlyphRenderer\"}]},\"id\":\"f601f063-3c18-49af-a9aa-1c9669d5999a\",\"type\":\"LegendItem\"},{\"attributes\":{},\"id\":\"0a11e840-5745-470a-ad66-955b7bf1b222\",\"type\":\"HelpTool\"},{\"attributes\":{\"axis_label\":\"cooling rate [K/day]\",\"formatter\":{\"id\":\"37d01f41-bf4b-4528-abe6-ff4cf1dd8003\",\"type\":\"BasicTickFormatter\"},\"plot\":{\"id\":\"24b7a911-888a-43b4-9015-2c5d8a17ced2\",\"subtype\":\"Figure\",\"type\":\"Plot\"},\"ticker\":{\"id\":\"f2804305-2480-4985-bc58-fe721469293f\",\"type\":\"BasicTicker\"}},\"id\":\"c4b3cc03-4ca6-411f-94b5-741ec49bfcd8\",\"type\":\"LinearAxis\"},{\"attributes\":{\"overlay\":{\"id\":\"6ec947ce-d8a5-4910-ab1e-a3a865cccb95\",\"type\":\"BoxAnnotation\"}},\"id\":\"0b983a4f-c63f-44c4-bb18-e69dc8834859\",\"type\":\"BoxZoomTool\"},{\"attributes\":{},\"id\":\"872a9cb7-8e06-4fe9-8529-67b7f0b31e17\",\"type\":\"LogScale\"},{\"attributes\":{\"axis_label\":\"pressure [mb]\",\"formatter\":{\"id\":\"40c11364-194b-40a5-bd09-838c58560dd6\",\"type\":\"LogTickFormatter\"},\"plot\":{\"id\":\"24b7a911-888a-43b4-9015-2c5d8a17ced2\",\"subtype\":\"Figure\",\"type\":\"Plot\"},\"ticker\":{\"id\":\"f2008c73-dde9-4ece-a2f0-c05b2c049b47\",\"type\":\"LogTicker\"}},\"id\":\"841b3d15-5858-4caa-a418-62be4dec3dbf\",\"type\":\"LogAxis\"},{\"attributes\":{\"callback\":null,\"end\":0.99313316575504,\"start\":-1.6757489373790393},\"id\":\"17b6c064-9631-4cc0-8fa3-b36eadd71c94\",\"type\":\"Range1d\"},{\"attributes\":{},\"id\":\"59284e05-9816-460c-b2af-543c67ec8e52\",\"type\":\"LogScale\"},{\"attributes\":{\"line_alpha\":0.1,\"line_color\":\"#1f77b4\",\"line_dash\":[6],\"line_width\":5,\"x\":{\"field\":\"x\"},\"y\":{\"field\":\"y\"}},\"id\":\"d14c23bb-abb8-4f0f-a06e-231bb10a7578\",\"type\":\"Line\"},{\"attributes\":{},\"id\":\"b6adcdc6-6d91-49d1-81b0-38692baa3f7e\",\"type\":\"BasicTicker\"},{\"attributes\":{\"axis_label\":\"cooling rate [K/day]\",\"formatter\":{\"id\":\"a0f54b3c-4882-42bf-9e30-a572af65b1a9\",\"type\":\"BasicTickFormatter\"},\"plot\":{\"id\":\"9d5ec81c-a457-4036-b879-8e4b18d9d1e4\",\"subtype\":\"Figure\",\"type\":\"Plot\"},\"ticker\":{\"id\":\"b6adcdc6-6d91-49d1-81b0-38692baa3f7e\",\"type\":\"BasicTicker\"}},\"id\":\"c8e289a9-9a14-4279-8426-c61e3b7e66e7\",\"type\":\"LinearAxis\"},{\"attributes\":{},\"id\":\"f2804305-2480-4985-bc58-fe721469293f\",\"type\":\"BasicTicker\"},{\"attributes\":{},\"id\":\"d9fa6a89-ba07-41df-ae02-6f4cc073680c\",\"type\":\"SaveTool\"},{\"attributes\":{},\"id\":\"55c5dcf4-5e49-44b9-8202-4d2e2dc6ab43\",\"type\":\"PanTool\"},{\"attributes\":{\"plot\":{\"id\":\"24b7a911-888a-43b4-9015-2c5d8a17ced2\",\"subtype\":\"Figure\",\"type\":\"Plot\"},\"ticker\":{\"id\":\"f2804305-2480-4985-bc58-fe721469293f\",\"type\":\"BasicTicker\"}},\"id\":\"9ac8b455-1e2f-43c9-93d0-f14ab85e7c86\",\"type\":\"Grid\"},{\"attributes\":{\"fill_alpha\":{\"value\":0.1},\"fill_color\":{\"value\":\"#1f77b4\"},\"line_alpha\":{\"value\":0.1},\"line_color\":{\"value\":\"#1f77b4\"},\"x\":{\"field\":\"x\"},\"y\":{\"field\":\"y\"}},\"id\":\"c0f733bd-33f0-48c7-abbe-15979ff262fd\",\"type\":\"Circle\"},{\"attributes\":{},\"id\":\"6c12449d-aa2c-419c-bce7-994ec5d65fd6\",\"type\":\"ResetTool\"},{\"attributes\":{\"bottom_units\":\"screen\",\"fill_alpha\":{\"value\":0.5},\"fill_color\":{\"value\":\"lightgrey\"},\"left_units\":\"screen\",\"level\":\"overlay\",\"line_alpha\":{\"value\":1.0},\"line_color\":{\"value\":\"black\"},\"line_dash\":[4,4],\"line_width\":{\"value\":2},\"plot\":null,\"render_mode\":\"css\",\"right_units\":\"screen\",\"top_units\":\"screen\"},\"id\":\"6ec947ce-d8a5-4910-ab1e-a3a865cccb95\",\"type\":\"BoxAnnotation\"},{\"attributes\":{},\"id\":\"a5f85f29-19ab-4c0e-b14d-7beaf5a8ba40\",\"type\":\"LinearScale\"},{\"attributes\":{\"line_alpha\":0.6,\"line_color\":\"#377eb8\",\"line_dash\":[6],\"line_width\":5,\"x\":{\"field\":\"x\"},\"y\":{\"field\":\"y\"}},\"id\":\"cd959c68-9c2c-4c66-83ba-873090d892af\",\"type\":\"Line\"},{\"attributes\":{\"callback\":null,\"end\":0.01,\"start\":1020},\"id\":\"2f5e7c7e-dc27-4bfc-a2ed-8eacb5ee3d5b\",\"type\":\"Range1d\"},{\"attributes\":{},\"id\":\"cd94ada1-a46d-4091-a897-f854c657c4c9\",\"type\":\"WheelZoomTool\"},{\"attributes\":{\"data_source\":{\"id\":\"b9817ef3-5414-4cdf-a689-3f6b457e8ebb\",\"type\":\"ColumnDataSource\"},\"glyph\":{\"id\":\"62eeefa3-50ce-47a4-bffc-bac314425e8c\",\"type\":\"Line\"},\"hover_glyph\":null,\"muted_glyph\":null,\"nonselection_glyph\":{\"id\":\"2ba54955-edd1-4caa-b4a7-d10aed26a270\",\"type\":\"Line\"},\"selection_glyph\":null,\"view\":{\"id\":\"7fb4bf15-63aa-4dd2-ba6c-0627aa4a2351\",\"type\":\"CDSView\"}},\"id\":\"75438752-266e-4fed-a608-795ae7a75c06\",\"type\":\"GlyphRenderer\"},{\"attributes\":{},\"id\":\"a597070f-3889-474e-8dc4-be4f98284f96\",\"type\":\"Selection\"},{\"attributes\":{\"fill_alpha\":{\"value\":0.7},\"fill_color\":{\"value\":\"#4daf4a\"},\"line_alpha\":{\"value\":0.7},\"line_color\":{\"value\":\"#4daf4a\"},\"x\":{\"field\":\"x\"},\"y\":{\"field\":\"y\"}},\"id\":\"0737ee0e-7c35-4ce8-a08c-b841175a050b\",\"type\":\"Circle\"},{\"attributes\":{\"source\":{\"id\":\"b9817ef3-5414-4cdf-a689-3f6b457e8ebb\",\"type\":\"ColumnDataSource\"}},\"id\":\"7fb4bf15-63aa-4dd2-ba6c-0627aa4a2351\",\"type\":\"CDSView\"},{\"attributes\":{},\"id\":\"cce7cc4e-3d60-4dee-95e2-44a8436a8342\",\"type\":\"Selection\"},{\"attributes\":{\"source\":{\"id\":\"2a36eeec-e612-46ee-b8e6-4c80f7be212b\",\"type\":\"ColumnDataSource\"}},\"id\":\"47dc9bfc-da12-42bb-920e-e9ed18129467\",\"type\":\"CDSView\"},{\"attributes\":{\"dimension\":1,\"plot\":{\"id\":\"24b7a911-888a-43b4-9015-2c5d8a17ced2\",\"subtype\":\"Figure\",\"type\":\"Plot\"},\"ticker\":{\"id\":\"f2008c73-dde9-4ece-a2f0-c05b2c049b47\",\"type\":\"LogTicker\"}},\"id\":\"183c0f83-31e6-4572-b15f-659994ede2a8\",\"type\":\"Grid\"},{\"attributes\":{},\"id\":\"0a5ab831-995f-40e7-a376-def80a27eeb7\",\"type\":\"Selection\"},{\"attributes\":{\"ticker\":null},\"id\":\"40c11364-194b-40a5-bd09-838c58560dd6\",\"type\":\"LogTickFormatter\"},{\"attributes\":{},\"id\":\"3beb43f5-2d63-46ce-91ee-610146939e8f\",\"type\":\"Selection\"},{\"attributes\":{\"items\":[{\"id\":\"0aa8696c-45ba-4b66-a2c6-e969893992eb\",\"type\":\"LegendItem\"},{\"id\":\"fd5ec9f9-c534-466c-82b8-76f158a11a1d\",\"type\":\"LegendItem\"}],\"label_text_font_size\":{\"value\":\"8pt\"},\"location\":\"top_center\",\"orientation\":\"horizontal\",\"plot\":{\"id\":\"c90d0ccb-8f8c-44f0-af83-a95697383470\",\"subtype\":\"Figure\",\"type\":\"Plot\"}},\"id\":\"54c14ad0-2656-45fb-be98-a2c61e9e4c12\",\"type\":\"Legend\"},{\"attributes\":{},\"id\":\"6b5578de-1d27-41c5-88c6-bb2dcc8442fb\",\"type\":\"UnionRenderers\"},{\"attributes\":{\"plot\":{\"id\":\"c90d0ccb-8f8c-44f0-af83-a95697383470\",\"subtype\":\"Figure\",\"type\":\"Plot\"},\"ticker\":{\"id\":\"5912d0d3-f271-4bde-ac13-b8d1237636b0\",\"type\":\"BasicTicker\"}},\"id\":\"17a85c18-dfe1-43f6-b9d8-e8c4e5ea3085\",\"type\":\"Grid\"},{\"attributes\":{},\"id\":\"454c314d-861f-4be9-a0c1-ddc138110c95\",\"type\":\"UnionRenderers\"},{\"attributes\":{\"ticker\":null},\"id\":\"3447ed12-20c7-4205-903d-82d709c2d835\",\"type\":\"LogTickFormatter\"},{\"attributes\":{},\"id\":\"5912d0d3-f271-4bde-ac13-b8d1237636b0\",\"type\":\"BasicTicker\"},{\"attributes\":{\"toolbar\":{\"id\":\"27297d48-6f15-4515-81cf-e2adfd6355b3\",\"type\":\"ProxyToolbar\"},\"toolbar_location\":\"above\"},\"id\":\"1517ef6d-09d6-4df4-8745-c08ec7ea0d94\",\"type\":\"ToolbarBox\"},{\"attributes\":{\"overlay\":{\"id\":\"4559564d-741f-4448-b1fc-147d4ee2a8ac\",\"type\":\"BoxAnnotation\"}},\"id\":\"039fa7e0-f575-4487-b0ba-8200754e4093\",\"type\":\"BoxZoomTool\"},{\"attributes\":{},\"id\":\"6431417c-e3d5-43e6-8b42-854d24529e9c\",\"type\":\"BasicTickFormatter\"},{\"attributes\":{},\"id\":\"5c07c887-9234-4e7c-8bd9-65da7b5664b2\",\"type\":\"UnionRenderers\"},{\"attributes\":{},\"id\":\"e904ded5-6f52-439e-9e91-0c4a1c2fde39\",\"type\":\"UnionRenderers\"},{\"attributes\":{},\"id\":\"d2c0e92d-9b90-4baa-a9d7-a8afc96064a5\",\"type\":\"Selection\"},{\"attributes\":{\"fill_alpha\":{\"value\":0.7},\"fill_color\":{\"value\":\"#984ea3\"},\"line_alpha\":{\"value\":0.7},\"line_color\":{\"value\":\"#984ea3\"},\"x\":{\"field\":\"x\"},\"y\":{\"field\":\"y\"}},\"id\":\"d60d3046-de24-48e6-beec-c77ba480bb53\",\"type\":\"Circle\"},{\"attributes\":{},\"id\":\"719c6992-6529-4b5a-85ab-a0db5f7e353d\",\"type\":\"UnionRenderers\"},{\"attributes\":{\"callback\":null,\"data\":{\"x\":{\"__ndarray__\":\"0CYBcvU5UkCik9zf2GVBQF1VoNfLZ0BAVLxhiVXTPUDD1Wu1wJM6QFJyB025jjdAU6Aw5+b/NECYe1uuDfgyQB6bYtVTbTFAPxYSAF1HMEA00pYVm9QuQLolHbMzgC1AntlwirGsLECv+G9SjE4rQJH6ZLBp0ShAsLZQyPd/JkDyjgyf2PwkQLgyNGsrJyRAA13QbJD6I0C8hy0ilI4kQOVTXCEgcSZAovOGvZSGJUBVc/ZmUOIgQOf/6GHAyRlAcE8fAOBSFEDRur1U//gPQGFD9ZbokghAQsqHuSqSA0C91ci3W0UBQCtRQfvz7/4/kh8pntyB+j9t1/n+4TX1P773MAUjFfI/RgzR+CI28T8hBW8WHK7uPzVKjJfU8uk/0FPt4/z65T/wVYqzMPDhPz7K9C5CXuE/8+hSn9hY4T/9PPCkR6rhP1XsIC599OA/66X1nBCX3z/YbRM56QjcPz4dkSQc/dM/S7Wb8Fq00T+/yQdmX0vcP7TrGf476eM/WqNPJoWO7D9qOH1bcwDzP2bw+R5DQ/Y/RLSuQOQp+D8+aif8yAz5P0Wv6eBKRfk/0i2+IN4R+T/ik8QNFZr4PyS5UD5j/Pc/yJ68zXRG9z/2CHPL54H2P59SOhwKtPU/npkP8dfg9D8NlmVcdQz0P80ugRvuOvM/byxiAHN18j9USVZie8nxP5l9lNXYSPE/OB+F0UYP8T8Y7dsUCTHxP3EBgTHPcPE/bfx15p8S8T8FT+xkGtTuP6mdG7rkxuk/pboqTkHX5D/CrN8qGYngP7R4ZaL+htU/\",\"dtype\":\"float64\",\"shape\":[75]},\"y\":{\"__ndarray__\":\"GhExyth1ND/Sv8nbtpRIP2vylNV0PVE/aTum7souWD/At0SJ8fVgPw3Iuahxymc/MSNhhJWvcD/bTfBN02d3P2zb5nxnaoA/CD5h5MAGhz8NmeH1TyaQP+zrCsc9p5Y/LbKd76fGnz/bLW5ISEmmPww9YvTcQq8/JV2OstnstT8Er5Y7M8G+P0c+r3jqkcU/5h99k6ZBzj88bCIzFzjVP4enV8oyxN0//yH99nXg5D8qOpLLf0jtP5kqGJXUifQ/c9cS8kHP/D+/DpwzojQEQIEmwoanVwxA4lgXt9HgE0BSSZ2AJuIbQAMJih9jjiNA5q4l5INuK0AwTKYKRj0zQNv5fmq8/DpAaCJseHrtQkB/+zpwzoxKQM3MzMzMeFJAZmZmZmZqWEAAAAAAAFxeQM3MzMzMJmJAmpmZmZkfZUBmZmZmZhhoQDMzMzMzEWtAAAAAAAAKbkBmZmZmZoFwQM3MzMzM/XFAMzMzMzN6c0CamZmZmfZ0QAAAAAAAc3ZAZmZmZmbvd0DNzMzMzGt5QDMzMzMz6HpAmpmZmZlkfEAAAAAAAOF9QGZmZmZmXX9AZmZmZuZsgECamZmZGSuBQM3MzMxM6YFAAAAAAICngkAzMzMzs2WDQGZmZmbmI4RAmpmZmRnihEDNzMzMTKCFQAAAAACAXoZAMzMzM7Mch0BmZmZm5tqHQJqZmZkZmYhAzczMzExXiUAAAAAAgBWKQDMzMzOz04pAZmZmZuaRi0CamZmZGVCMQM3MzMxMDo1AAAAAAIDMjUAzMzMzs4qOQGZmZmbmSI9A\",\"dtype\":\"float64\",\"shape\":[75]}},\"selected\":{\"id\":\"3beb43f5-2d63-46ce-91ee-610146939e8f\",\"type\":\"Selection\"},\"selection_policy\":{\"id\":\"719c6992-6529-4b5a-85ab-a0db5f7e353d\",\"type\":\"UnionRenderers\"}},\"id\":\"b9817ef3-5414-4cdf-a689-3f6b457e8ebb\",\"type\":\"ColumnDataSource\"},{\"attributes\":{},\"id\":\"712c93f1-5df2-4171-a95b-ed927c62cdf2\",\"type\":\"Selection\"},{\"attributes\":{},\"id\":\"19dceee2-2d1b-48ad-ab73-d5606f12f174\",\"type\":\"UnionRenderers\"},{\"attributes\":{},\"id\":\"37d01f41-bf4b-4528-abe6-ff4cf1dd8003\",\"type\":\"BasicTickFormatter\"},{\"attributes\":{},\"id\":\"c625a534-5c2c-4b06-9522-6ad15b9076e0\",\"type\":\"UnionRenderers\"},{\"attributes\":{},\"id\":\"c4a3c2c9-63cf-4fd3-a450-e6154f116625\",\"type\":\"BasicTicker\"},{\"attributes\":{\"active_drag\":\"auto\",\"active_inspect\":\"auto\",\"active_scroll\":\"auto\",\"active_tap\":\"auto\",\"tools\":[{\"id\":\"fec90785-b64c-4f5a-b331-6ecb9120a5cf\",\"type\":\"PanTool\"},{\"id\":\"cd94ada1-a46d-4091-a897-f854c657c4c9\",\"type\":\"WheelZoomTool\"},{\"id\":\"039fa7e0-f575-4487-b0ba-8200754e4093\",\"type\":\"BoxZoomTool\"},{\"id\":\"0d8eeeb8-14cf-4239-a6b2-b06fb4c2339b\",\"type\":\"SaveTool\"},{\"id\":\"82afaf8c-4532-46f0-a213-9b6f5e7ddf41\",\"type\":\"ResetTool\"},{\"id\":\"ce8da566-24c5-43e9-8e37-694f90d0d76f\",\"type\":\"HelpTool\"}]},\"id\":\"e5e01be3-9165-4780-87f5-d1fe93285ee8\",\"type\":\"Toolbar\"},{\"attributes\":{\"label\":{\"value\":\"CLIRAD (single-run)\"},\"renderers\":[{\"id\":\"092d0858-ea29-47ee-91ec-fb4ddd680d54\",\"type\":\"GlyphRenderer\"}]},\"id\":\"0d5768f7-c5bf-4bc9-8ab7-cca4943c4f45\",\"type\":\"LegendItem\"},{\"attributes\":{\"dimension\":1,\"plot\":{\"id\":\"c90d0ccb-8f8c-44f0-af83-a95697383470\",\"subtype\":\"Figure\",\"type\":\"Plot\"},\"ticker\":{\"id\":\"c4a3c2c9-63cf-4fd3-a450-e6154f116625\",\"type\":\"BasicTicker\"}},\"id\":\"38389aef-d44f-43c1-9e3d-f3a6a3c945d7\",\"type\":\"Grid\"},{\"attributes\":{},\"id\":\"a0f54b3c-4882-42bf-9e30-a572af65b1a9\",\"type\":\"BasicTickFormatter\"},{\"attributes\":{},\"id\":\"fec90785-b64c-4f5a-b331-6ecb9120a5cf\",\"type\":\"PanTool\"},{\"attributes\":{\"callback\":null,\"data\":{\"x\":{\"__ndarray__\":\"6nM3pZiVQEAEwRh21408QCMUk6KyWj5A1F0+8gL1PkCSh++lCwc+QHUybL/UiTtABMLGLTHZN0AFd4gu0tEzQEIwTXB/gDBAG/E5zSNCLUDO4wtVblEsQJ6SlPs+2ixASZQcheK3LUBUfNy0oj0tQFJUXU9SoipALWWPy1VJJ0B2G6/c7XYkQCBdWZtn0iJAJx4gtK+kIkDyXPSQD7wjQJfZaEQeKyZArdl+vTisJUAdFoaiIighQIebe2wsYxlA8iqx7BxoE0CfH5E+HbUPQJoHgDDtvQpAMkHlWBzPBUAjiXlQQyUCQJgVBFH9cP8/v5ummQ0G/T9GZJrE6NP4PxeBynGvKvQ/YCswt3sa8T/gaY4zbr3uP/1C8rRgVOw/w9wciRp35z/TB1StKSPhP8kU08u/xN0/bNZbEXci3T/3PGC+1Z3ePxenX2XARd4//0nIMyvc3D9F5/QfMFnaP6ysyC2t6dI/g5MQwEz/0D/eqgzq/ELcPyA4kqEew+M/v5s6OJG/6z9nuheRPjryP7nGmTXgi/U/fo1ih07D9z9hJfOKw7j4Pz1iNDqR0fg/GfdkB0u++D+YakiOi434PwMsbGmZOPg/zvGsiS7A9z+csle2Tzb3P+cx5ohesfY/pj92fXgY9j9fuX57B3H1P4YVJ23ctfQ/FJ67UAX78z9Bu2gsf1XzP5R0xXNT2vI/C2o2DdWm8j9P+maO8dDyP0HuWvavCvM/XBOg4EGf8j8fkYlwoNvwP79GQyOnWew/gel8DUQU5z+hBGf8/IDiPx2sfGAZ7Ng/\",\"dtype\":\"float64\",\"shape\":[75]},\"y\":{\"__ndarray__\":\"GhExyth1ND/Sv8nbtpRIP2vylNV0PVE/aTum7souWD/At0SJ8fVgPw3Iuahxymc/MSNhhJWvcD/bTfBN02d3P2zb5nxnaoA/CD5h5MAGhz8NmeH1TyaQP+zrCsc9p5Y/LbKd76fGnz/bLW5ISEmmPww9YvTcQq8/JV2OstnstT8Er5Y7M8G+P0c+r3jqkcU/5h99k6ZBzj88bCIzFzjVP4enV8oyxN0//yH99nXg5D8qOpLLf0jtP5kqGJXUifQ/c9cS8kHP/D+/DpwzojQEQIEmwoanVwxA4lgXt9HgE0BSSZ2AJuIbQAMJih9jjiNA5q4l5INuK0AwTKYKRj0zQNv5fmq8/DpAaCJseHrtQkB/+zpwzoxKQM3MzMzMeFJAZmZmZmZqWEAAAAAAAFxeQM3MzMzMJmJAmpmZmZkfZUBmZmZmZhhoQDMzMzMzEWtAAAAAAAAKbkBmZmZmZoFwQM3MzMzM/XFAMzMzMzN6c0CamZmZmfZ0QAAAAAAAc3ZAZmZmZmbvd0DNzMzMzGt5QDMzMzMz6HpAmpmZmZlkfEAAAAAAAOF9QGZmZmZmXX9AZmZmZuZsgECamZmZGSuBQM3MzMxM6YFAAAAAAICngkAzMzMzs2WDQGZmZmbmI4RAmpmZmRnihEDNzMzMTKCFQAAAAACAXoZAMzMzM7Mch0BmZmZm5tqHQJqZmZkZmYhAzczMzExXiUAAAAAAgBWKQDMzMzOz04pAZmZmZuaRi0CamZmZGVCMQM3MzMxMDo1AAAAAAIDMjUAzMzMzs4qOQGZmZmbmSI9A\",\"dtype\":\"float64\",\"shape\":[75]}},\"selected\":{\"id\":\"5b8e70ff-b30b-4488-9f13-7824e56e2b3e\",\"type\":\"Selection\"},\"selection_policy\":{\"id\":\"e904ded5-6f52-439e-9e91-0c4a1c2fde39\",\"type\":\"UnionRenderers\"}},\"id\":\"1b681849-fa94-4d51-a78f-7fc7dcf6e157\",\"type\":\"ColumnDataSource\"},{\"attributes\":{},\"id\":\"82afaf8c-4532-46f0-a213-9b6f5e7ddf41\",\"type\":\"ResetTool\"},{\"attributes\":{\"bottom_units\":\"screen\",\"fill_alpha\":{\"value\":0.5},\"fill_color\":{\"value\":\"lightgrey\"},\"left_units\":\"screen\",\"level\":\"overlay\",\"line_alpha\":{\"value\":1.0},\"line_color\":{\"value\":\"black\"},\"line_dash\":[4,4],\"line_width\":{\"value\":2},\"plot\":null,\"render_mode\":\"css\",\"right_units\":\"screen\",\"top_units\":\"screen\"},\"id\":\"4559564d-741f-4448-b1fc-147d4ee2a8ac\",\"type\":\"BoxAnnotation\"},{\"attributes\":{\"fill_alpha\":{\"value\":0.1},\"fill_color\":{\"value\":\"#1f77b4\"},\"line_alpha\":{\"value\":0.1},\"line_color\":{\"value\":\"#1f77b4\"},\"x\":{\"field\":\"x\"},\"y\":{\"field\":\"y\"}},\"id\":\"01e634ec-4d32-44b4-a66f-5871a0693f31\",\"type\":\"Circle\"},{\"attributes\":{\"axis_label\":\"pressure [mb]\",\"formatter\":{\"id\":\"22c63314-64a1-4233-95c6-9f654355e20a\",\"type\":\"BasicTickFormatter\"},\"plot\":{\"id\":\"c90d0ccb-8f8c-44f0-af83-a95697383470\",\"subtype\":\"Figure\",\"type\":\"Plot\"},\"ticker\":{\"id\":\"c4a3c2c9-63cf-4fd3-a450-e6154f116625\",\"type\":\"BasicTicker\"}},\"id\":\"f95aaac0-d6fa-4325-bd4e-e863c5afbf29\",\"type\":\"LinearAxis\"},{\"attributes\":{},\"id\":\"5b8e70ff-b30b-4488-9f13-7824e56e2b3e\",\"type\":\"Selection\"},{\"attributes\":{},\"id\":\"0d8eeeb8-14cf-4239-a6b2-b06fb4c2339b\",\"type\":\"SaveTool\"},{\"attributes\":{},\"id\":\"ce8da566-24c5-43e9-8e37-694f90d0d76f\",\"type\":\"HelpTool\"},{\"attributes\":{},\"id\":\"000129c9-62c2-4a64-aac4-e2a331449672\",\"type\":\"UnionRenderers\"},{\"attributes\":{},\"id\":\"aaa5d51a-36c2-4a1b-a62f-d52279d63959\",\"type\":\"LinearScale\"},{\"attributes\":{\"plot\":null,\"text\":\"\"},\"id\":\"72fe32b0-2e03-4a09-8641-be79c64f5cd4\",\"type\":\"Title\"},{\"attributes\":{\"tools\":[{\"id\":\"fec90785-b64c-4f5a-b331-6ecb9120a5cf\",\"type\":\"PanTool\"},{\"id\":\"cd94ada1-a46d-4091-a897-f854c657c4c9\",\"type\":\"WheelZoomTool\"},{\"id\":\"039fa7e0-f575-4487-b0ba-8200754e4093\",\"type\":\"BoxZoomTool\"},{\"id\":\"0d8eeeb8-14cf-4239-a6b2-b06fb4c2339b\",\"type\":\"SaveTool\"},{\"id\":\"82afaf8c-4532-46f0-a213-9b6f5e7ddf41\",\"type\":\"ResetTool\"},{\"id\":\"ce8da566-24c5-43e9-8e37-694f90d0d76f\",\"type\":\"HelpTool\"},{\"id\":\"55c5dcf4-5e49-44b9-8202-4d2e2dc6ab43\",\"type\":\"PanTool\"},{\"id\":\"b5eae956-1846-4e50-a05e-ad15a6a314a5\",\"type\":\"WheelZoomTool\"},{\"id\":\"0b983a4f-c63f-44c4-bb18-e69dc8834859\",\"type\":\"BoxZoomTool\"},{\"id\":\"d9fa6a89-ba07-41df-ae02-6f4cc073680c\",\"type\":\"SaveTool\"},{\"id\":\"6c12449d-aa2c-419c-bce7-994ec5d65fd6\",\"type\":\"ResetTool\"},{\"id\":\"0a11e840-5745-470a-ad66-955b7bf1b222\",\"type\":\"HelpTool\"},{\"id\":\"ef1caa9e-a623-4d3b-9a96-24dab732ec17\",\"type\":\"PanTool\"},{\"id\":\"a3880bcd-6822-4e8e-b090-5e225042b501\",\"type\":\"WheelZoomTool\"},{\"id\":\"52406a52-d038-48b4-908f-8bbd3616bc71\",\"type\":\"BoxZoomTool\"},{\"id\":\"8c79fb8e-703d-424f-871d-fb073e521b28\",\"type\":\"SaveTool\"},{\"id\":\"09a1170a-64b0-4c68-a661-7962874cb624\",\"type\":\"ResetTool\"},{\"id\":\"71437634-b697-4fbf-b7ab-2c55681b2408\",\"type\":\"HelpTool\"}]},\"id\":\"27297d48-6f15-4515-81cf-e2adfd6355b3\",\"type\":\"ProxyToolbar\"},{\"attributes\":{\"line_alpha\":0.1,\"line_color\":\"#1f77b4\",\"line_width\":1.5,\"x\":{\"field\":\"x\"},\"y\":{\"field\":\"y\"}},\"id\":\"15da0798-a363-495d-b425-f22754840bb0\",\"type\":\"Line\"},{\"attributes\":{\"source\":{\"id\":\"f1924aca-d369-459a-8715-caaa74269778\",\"type\":\"ColumnDataSource\"}},\"id\":\"e2933e23-e4e1-4080-953f-406b6a282187\",\"type\":\"CDSView\"},{\"attributes\":{\"callback\":null,\"data\":{\"x\":{\"__ndarray__\":\"uNnKPlLeQ8AGmYEmafcYwKu0bGUopwPAGhjKjdYa8j9xjh2EV5oLQBUBJpPb2A9Akg2xNFLKBkCVbZ8FkDjrP15braKMmu2/HdtRl7Fk+r81c1cEZhn0v0xjEvGWvtS/l6q7qg+z4D9EOsgmZvHuP/qbhe+JDu0/f8/VZ8Ar2T+4b65LWL3Qv4xZrf08TOW/wO0Diwte5b8SWSUnklDav6iT3jx3gMG//AXz+//Rsj/4sejjjnTBPwMZWVv9pLm/zI/EbWJYzb/9yyaLhfigv9EhVswkWNE/d7fr+ozn0T+5bBYW8/y7P5+NWLgqIaA/WuHr24chxD/IZgQtNvDMP9hKzGRjrMA/r+fgoEGne7/YfMk+OqRePy7GL+tgDLM/SY/4UtrBpz9+w8nG4KCZv8f+WUgS37O/8u0nteg8tr8N9AAu5tqyv66MEbfPGa2/b99qSSvXpb9MaeiRkfuavyUJh2zvNpG/xzhkEcahhr+UvT3298RAv8rK2UOuDnO/R/Ogwn3emb95wK9Mmcaov4U1BSxd7Ka/ULIJU26lmb+BNxFNXAGVv99BU61p7py//q1NVsbklL8Fk1L4/hJpvyJvuY0VG44/fMEU/G5unj/gNJVc/YymPxTpe5WNqq8/g2Bqxgh6sz8SNZLxIUm2P5NrXhrlrrc/cRqXBSVZuD/SHiehPMC4P7tvD+OpF7k/Ua0Uu+N4uT+B07CYh/65P+bMnk0Mnrk/7G6hoh/KuD/RmTbhMxm3P6ZIPUkTlrQ/zHaR+hXosT/wfXUYPX6vP1WbufDVKKs/\",\"dtype\":\"float64\",\"shape\":[75]},\"y\":{\"__ndarray__\":\"GhExyth1ND/Sv8nbtpRIP2vylNV0PVE/aTum7souWD/At0SJ8fVgPw3Iuahxymc/MSNhhJWvcD/bTfBN02d3P2zb5nxnaoA/CD5h5MAGhz8NmeH1TyaQP+zrCsc9p5Y/LbKd76fGnz/bLW5ISEmmPww9YvTcQq8/JV2OstnstT8Er5Y7M8G+P0c+r3jqkcU/5h99k6ZBzj88bCIzFzjVP4enV8oyxN0//yH99nXg5D8qOpLLf0jtP5kqGJXUifQ/c9cS8kHP/D+/DpwzojQEQIEmwoanVwxA4lgXt9HgE0BSSZ2AJuIbQAMJih9jjiNA5q4l5INuK0AwTKYKRj0zQNv5fmq8/DpAaCJseHrtQkB/+zpwzoxKQM3MzMzMeFJAZmZmZmZqWEAAAAAAAFxeQM3MzMzMJmJAmpmZmZkfZUBmZmZmZhhoQDMzMzMzEWtAAAAAAAAKbkBmZmZmZoFwQM3MzMzM/XFAMzMzMzN6c0CamZmZmfZ0QAAAAAAAc3ZAZmZmZmbvd0DNzMzMzGt5QDMzMzMz6HpAmpmZmZlkfEAAAAAAAOF9QGZmZmZmXX9AZmZmZuZsgECamZmZGSuBQM3MzMxM6YFAAAAAAICngkAzMzMzs2WDQGZmZmbmI4RAmpmZmRnihEDNzMzMTKCFQAAAAACAXoZAMzMzM7Mch0BmZmZm5tqHQJqZmZkZmYhAzczMzExXiUAAAAAAgBWKQDMzMzOz04pAZmZmZuaRi0CamZmZGVCMQM3MzMxMDo1AAAAAAIDMjUAzMzMzs4qOQGZmZmbmSI9A\",\"dtype\":\"float64\",\"shape\":[75]}},\"selected\":{\"id\":\"a597070f-3889-474e-8dc4-be4f98284f96\",\"type\":\"Selection\"},\"selection_policy\":{\"id\":\"c625a534-5c2c-4b06-9522-6ad15b9076e0\",\"type\":\"UnionRenderers\"}},\"id\":\"f1924aca-d369-459a-8715-caaa74269778\",\"type\":\"ColumnDataSource\"},{\"attributes\":{\"children\":[{\"id\":\"c90d0ccb-8f8c-44f0-af83-a95697383470\",\"subtype\":\"Figure\",\"type\":\"Plot\"},{\"id\":\"9d5ec81c-a457-4036-b879-8e4b18d9d1e4\",\"subtype\":\"Figure\",\"type\":\"Plot\"},{\"id\":\"24b7a911-888a-43b4-9015-2c5d8a17ced2\",\"subtype\":\"Figure\",\"type\":\"Plot\"}]},\"id\":\"27168da3-0305-4e86-acff-39a093cf0fa2\",\"type\":\"Row\"},{\"attributes\":{\"label\":{\"value\":\"CRD\"},\"renderers\":[{\"id\":\"a24f4476-3c47-49fb-9a95-84ee9399fb14\",\"type\":\"GlyphRenderer\"},{\"id\":\"75438752-266e-4fed-a608-795ae7a75c06\",\"type\":\"GlyphRenderer\"}]},\"id\":\"fd5ec9f9-c534-466c-82b8-76f158a11a1d\",\"type\":\"LegendItem\"},{\"attributes\":{\"children\":[{\"id\":\"27168da3-0305-4e86-acff-39a093cf0fa2\",\"type\":\"Row\"}]},\"id\":\"0c259da0-ada7-465c-8759-bf8da2f53397\",\"type\":\"Column\"},{\"attributes\":{\"plot\":null,\"text\":\"\"},\"id\":\"25e612aa-61fb-4e1e-93f5-c3eff34e73f2\",\"type\":\"Title\"},{\"attributes\":{\"label\":{\"value\":\"CLIRAD (single-run) - CRD\"},\"renderers\":[{\"id\":\"55532d7d-98d7-4ac1-9869-64aff0271b11\",\"type\":\"GlyphRenderer\"},{\"id\":\"32ece981-5def-4149-991d-c72b14028c57\",\"type\":\"GlyphRenderer\"}]},\"id\":\"665384eb-fbd2-41c6-98ec-2b3fad34a11b\",\"type\":\"LegendItem\"},{\"attributes\":{\"line_alpha\":0.8,\"line_color\":\"#984ea3\",\"line_width\":1.5,\"x\":{\"field\":\"x\"},\"y\":{\"field\":\"y\"}},\"id\":\"9a0ad462-ccb5-4893-a8ad-57cc75869dbc\",\"type\":\"Line\"},{\"attributes\":{\"above\":[{\"id\":\"d144a1c3-bc0a-4796-81fa-db147ef36a6b\",\"type\":\"Legend\"}],\"below\":[{\"id\":\"c8e289a9-9a14-4279-8426-c61e3b7e66e7\",\"type\":\"LinearAxis\"}],\"left\":[{\"id\":\"5b2f289a-49ed-4ba7-a658-008099785854\",\"type\":\"LogAxis\"}],\"plot_width\":300,\"renderers\":[{\"id\":\"c8e289a9-9a14-4279-8426-c61e3b7e66e7\",\"type\":\"LinearAxis\"},{\"id\":\"511214b6-1747-4423-96f7-4368c5054b3d\",\"type\":\"Grid\"},{\"id\":\"5b2f289a-49ed-4ba7-a658-008099785854\",\"type\":\"LogAxis\"},{\"id\":\"a7ef3658-7d5e-4da4-b300-2a744e6f4c69\",\"type\":\"Grid\"},{\"id\":\"6ec947ce-d8a5-4910-ab1e-a3a865cccb95\",\"type\":\"BoxAnnotation\"},{\"id\":\"092d0858-ea29-47ee-91ec-fb4ddd680d54\",\"type\":\"GlyphRenderer\"},{\"id\":\"9049dc03-072a-4f45-bb87-d9e624ca49b6\",\"type\":\"GlyphRenderer\"},{\"id\":\"7ffecc5c-0896-4bb1-a7a6-a78a4941fd5c\",\"type\":\"GlyphRenderer\"},{\"id\":\"d144a1c3-bc0a-4796-81fa-db147ef36a6b\",\"type\":\"Legend\"}],\"title\":{\"id\":\"72fe32b0-2e03-4a09-8641-be79c64f5cd4\",\"type\":\"Title\"},\"toolbar\":{\"id\":\"ffcd76dc-3077-4c49-991e-6e4c243ee68d\",\"type\":\"Toolbar\"},\"toolbar_location\":null,\"x_range\":{\"id\":\"34e2b36c-c421-481c-8a5e-4b62f11d147a\",\"type\":\"Range1d\"},\"x_scale\":{\"id\":\"a5f85f29-19ab-4c0e-b14d-7beaf5a8ba40\",\"type\":\"LinearScale\"},\"y_range\":{\"id\":\"b592e717-a9d9-4a0d-941f-9d8fed0d02c2\",\"type\":\"Range1d\"},\"y_scale\":{\"id\":\"59284e05-9816-460c-b2af-543c67ec8e52\",\"type\":\"LogScale\"}},\"id\":\"9d5ec81c-a457-4036-b879-8e4b18d9d1e4\",\"subtype\":\"Figure\",\"type\":\"Plot\"},{\"attributes\":{\"plot\":null,\"text\":\"\"},\"id\":\"ec36b9a2-7039-417e-9dbb-3bc640811b73\",\"type\":\"Title\"},{\"attributes\":{\"line_color\":\"#4daf4a\",\"line_width\":1.5,\"x\":{\"field\":\"x\"},\"y\":{\"field\":\"y\"}},\"id\":\"62eeefa3-50ce-47a4-bffc-bac314425e8c\",\"type\":\"Line\"},{\"attributes\":{\"active_drag\":\"auto\",\"active_inspect\":\"auto\",\"active_scroll\":\"auto\",\"active_tap\":\"auto\",\"tools\":[{\"id\":\"55c5dcf4-5e49-44b9-8202-4d2e2dc6ab43\",\"type\":\"PanTool\"},{\"id\":\"b5eae956-1846-4e50-a05e-ad15a6a314a5\",\"type\":\"WheelZoomTool\"},{\"id\":\"0b983a4f-c63f-44c4-bb18-e69dc8834859\",\"type\":\"BoxZoomTool\"},{\"id\":\"d9fa6a89-ba07-41df-ae02-6f4cc073680c\",\"type\":\"SaveTool\"},{\"id\":\"6c12449d-aa2c-419c-bce7-994ec5d65fd6\",\"type\":\"ResetTool\"},{\"id\":\"0a11e840-5745-470a-ad66-955b7bf1b222\",\"type\":\"HelpTool\"}]},\"id\":\"ffcd76dc-3077-4c49-991e-6e4c243ee68d\",\"type\":\"Toolbar\"},{\"attributes\":{\"callback\":null,\"end\":0.01,\"start\":1020},\"id\":\"b592e717-a9d9-4a0d-941f-9d8fed0d02c2\",\"type\":\"Range1d\"},{\"attributes\":{\"data_source\":{\"id\":\"f1924aca-d369-459a-8715-caaa74269778\",\"type\":\"ColumnDataSource\"},\"glyph\":{\"id\":\"9a0ad462-ccb5-4893-a8ad-57cc75869dbc\",\"type\":\"Line\"},\"hover_glyph\":null,\"muted_glyph\":null,\"nonselection_glyph\":{\"id\":\"15da0798-a363-495d-b425-f22754840bb0\",\"type\":\"Line\"},\"selection_glyph\":null,\"view\":{\"id\":\"e2933e23-e4e1-4080-953f-406b6a282187\",\"type\":\"CDSView\"}},\"id\":\"32ece981-5def-4149-991d-c72b14028c57\",\"type\":\"GlyphRenderer\"},{\"attributes\":{\"line_alpha\":0.1,\"line_color\":\"#1f77b4\",\"line_width\":1.5,\"x\":{\"field\":\"x\"},\"y\":{\"field\":\"y\"}},\"id\":\"2ba54955-edd1-4caa-b4a7-d10aed26a270\",\"type\":\"Line\"},{\"attributes\":{},\"id\":\"22c63314-64a1-4233-95c6-9f654355e20a\",\"type\":\"BasicTickFormatter\"},{\"attributes\":{\"label\":{\"value\":\"CLIRAD (single-run)\"},\"renderers\":[{\"id\":\"f7f78ac9-29ed-479c-b3ed-9b9543ab3228\",\"type\":\"GlyphRenderer\"}]},\"id\":\"0aa8696c-45ba-4b66-a2c6-e969893992eb\",\"type\":\"LegendItem\"},{\"attributes\":{\"active_drag\":\"auto\",\"active_inspect\":\"auto\",\"active_scroll\":\"auto\",\"active_tap\":\"auto\",\"tools\":[{\"id\":\"ef1caa9e-a623-4d3b-9a96-24dab732ec17\",\"type\":\"PanTool\"},{\"id\":\"a3880bcd-6822-4e8e-b090-5e225042b501\",\"type\":\"WheelZoomTool\"},{\"id\":\"52406a52-d038-48b4-908f-8bbd3616bc71\",\"type\":\"BoxZoomTool\"},{\"id\":\"8c79fb8e-703d-424f-871d-fb073e521b28\",\"type\":\"SaveTool\"},{\"id\":\"09a1170a-64b0-4c68-a661-7962874cb624\",\"type\":\"ResetTool\"},{\"id\":\"71437634-b697-4fbf-b7ab-2c55681b2408\",\"type\":\"HelpTool\"}]},\"id\":\"4f4d4da2-30c4-461d-8ea3-c063613e2bc3\",\"type\":\"Toolbar\"},{\"attributes\":{\"callback\":null,\"end\":1.5925554613836002,\"start\":0.25244391503639996},\"id\":\"0f5ee09d-4d40-4ee2-b783-fde98a2065d5\",\"type\":\"Range1d\"},{\"attributes\":{\"line_color\":\"#4daf4a\",\"line_width\":1.5,\"x\":{\"field\":\"x\"},\"y\":{\"field\":\"y\"}},\"id\":\"4cee8f3b-e373-44ae-be73-ef9efe0391f1\",\"type\":\"Line\"},{\"attributes\":{\"source\":{\"id\":\"cc1817dd-d97d-45d0-a03f-06b9549a92d4\",\"type\":\"ColumnDataSource\"}},\"id\":\"67252040-fbef-4041-94d0-51c6fc1efbc4\",\"type\":\"CDSView\"},{\"attributes\":{\"axis_label\":\"cooling rate [K/day]\",\"formatter\":{\"id\":\"6431417c-e3d5-43e6-8b42-854d24529e9c\",\"type\":\"BasicTickFormatter\"},\"plot\":{\"id\":\"c90d0ccb-8f8c-44f0-af83-a95697383470\",\"subtype\":\"Figure\",\"type\":\"Plot\"},\"ticker\":{\"id\":\"5912d0d3-f271-4bde-ac13-b8d1237636b0\",\"type\":\"BasicTicker\"}},\"id\":\"2e2b64e1-e00d-4398-8b28-d6491d7e3934\",\"type\":\"LinearAxis\"},{\"attributes\":{\"above\":[{\"id\":\"b2986866-0ce8-4fde-b468-ca3ee083355c\",\"type\":\"Legend\"}],\"below\":[{\"id\":\"c4b3cc03-4ca6-411f-94b5-741ec49bfcd8\",\"type\":\"LinearAxis\"}],\"left\":[{\"id\":\"841b3d15-5858-4caa-a418-62be4dec3dbf\",\"type\":\"LogAxis\"}],\"plot_width\":300,\"renderers\":[{\"id\":\"c4b3cc03-4ca6-411f-94b5-741ec49bfcd8\",\"type\":\"LinearAxis\"},{\"id\":\"9ac8b455-1e2f-43c9-93d0-f14ab85e7c86\",\"type\":\"Grid\"},{\"id\":\"841b3d15-5858-4caa-a418-62be4dec3dbf\",\"type\":\"LogAxis\"},{\"id\":\"183c0f83-31e6-4572-b15f-659994ede2a8\",\"type\":\"Grid\"},{\"id\":\"6170d89c-ff8a-4292-a48f-c97efc71f65a\",\"type\":\"BoxAnnotation\"},{\"id\":\"55532d7d-98d7-4ac1-9869-64aff0271b11\",\"type\":\"GlyphRenderer\"},{\"id\":\"32ece981-5def-4149-991d-c72b14028c57\",\"type\":\"GlyphRenderer\"},{\"id\":\"b2986866-0ce8-4fde-b468-ca3ee083355c\",\"type\":\"Legend\"}],\"title\":{\"id\":\"ec36b9a2-7039-417e-9dbb-3bc640811b73\",\"type\":\"Title\"},\"toolbar\":{\"id\":\"4f4d4da2-30c4-461d-8ea3-c063613e2bc3\",\"type\":\"Toolbar\"},\"toolbar_location\":null,\"x_range\":{\"id\":\"17b6c064-9631-4cc0-8fa3-b36eadd71c94\",\"type\":\"Range1d\"},\"x_scale\":{\"id\":\"2bdb1401-7eed-4831-8c08-eb94d0f6086e\",\"type\":\"LinearScale\"},\"y_range\":{\"id\":\"ad579efb-4095-4165-aec8-f61a3bdbeb3e\",\"type\":\"Range1d\"},\"y_scale\":{\"id\":\"872a9cb7-8e06-4fe9-8529-67b7f0b31e17\",\"type\":\"LogScale\"}},\"id\":\"24b7a911-888a-43b4-9015-2c5d8a17ced2\",\"subtype\":\"Figure\",\"type\":\"Plot\"},{\"attributes\":{\"children\":[{\"id\":\"1517ef6d-09d6-4df4-8745-c08ec7ea0d94\",\"type\":\"ToolbarBox\"},{\"id\":\"0c259da0-ada7-465c-8759-bf8da2f53397\",\"type\":\"Column\"}]},\"id\":\"275fe8f6-5604-401b-80f8-ac2329fc8dac\",\"type\":\"Column\"},{\"attributes\":{\"callback\":null,\"end\":0.01,\"start\":1020},\"id\":\"ad579efb-4095-4165-aec8-f61a3bdbeb3e\",\"type\":\"Range1d\"},{\"attributes\":{\"source\":{\"id\":\"939f23ec-2d92-4868-a275-58acbc1bda0c\",\"type\":\"ColumnDataSource\"}},\"id\":\"de2d0fdb-2ad8-4443-a857-366ef2d0a13b\",\"type\":\"CDSView\"},{\"attributes\":{\"line_alpha\":0.1,\"line_color\":\"#1f77b4\",\"line_width\":1.5,\"x\":{\"field\":\"x\"},\"y\":{\"field\":\"y\"}},\"id\":\"c1110c4a-ae73-4df9-847a-864dd30e203f\",\"type\":\"Line\"},{\"attributes\":{\"source\":{\"id\":\"1b681849-fa94-4d51-a78f-7fc7dcf6e157\",\"type\":\"ColumnDataSource\"}},\"id\":\"d33b12a3-f099-47cd-8ffb-5719d7db4ba2\",\"type\":\"CDSView\"},{\"attributes\":{},\"id\":\"b3fac700-8219-42e3-bf7a-9cddaa4b8f4f\",\"type\":\"LinearScale\"},{\"attributes\":{\"callback\":null,\"data\":{\"x\":{\"__ndarray__\":\"6nM3pZiVQEAEwRh21408QCMUk6KyWj5A1F0+8gL1PkCSh++lCwc+QHUybL/UiTtABMLGLTHZN0AFd4gu0tEzQEIwTXB/gDBAG/E5zSNCLUDO4wtVblEsQJ6SlPs+2ixASZQcheK3LUBUfNy0oj0tQFJUXU9SoipALWWPy1VJJ0B2G6/c7XYkQCBdWZtn0iJAJx4gtK+kIkDyXPSQD7wjQJfZaEQeKyZArdl+vTisJUAdFoaiIighQIebe2wsYxlA8iqx7BxoE0CfH5E+HbUPQJoHgDDtvQpAMkHlWBzPBUAjiXlQQyUCQJgVBFH9cP8/v5ummQ0G/T9GZJrE6NP4PxeBynGvKvQ/YCswt3sa8T/gaY4zbr3uP/1C8rRgVOw/w9wciRp35z/TB1StKSPhP8kU08u/xN0/bNZbEXci3T/3PGC+1Z3ePxenX2XARd4//0nIMyvc3D9F5/QfMFnaP6ysyC2t6dI/g5MQwEz/0D/eqgzq/ELcPyA4kqEew+M/v5s6OJG/6z9nuheRPjryP7nGmTXgi/U/fo1ih07D9z9hJfOKw7j4Pz1iNDqR0fg/GfdkB0u++D+YakiOi434PwMsbGmZOPg/zvGsiS7A9z+csle2Tzb3P+cx5ohesfY/pj92fXgY9j9fuX57B3H1P4YVJ23ctfQ/FJ67UAX78z9Bu2gsf1XzP5R0xXNT2vI/C2o2DdWm8j9P+maO8dDyP0HuWvavCvM/XBOg4EGf8j8fkYlwoNvwP79GQyOnWew/gel8DUQU5z+hBGf8/IDiPx2sfGAZ7Ng/\",\"dtype\":\"float64\",\"shape\":[75]},\"y\":{\"__ndarray__\":\"GhExyth1ND/Sv8nbtpRIP2vylNV0PVE/aTum7souWD/At0SJ8fVgPw3Iuahxymc/MSNhhJWvcD/bTfBN02d3P2zb5nxnaoA/CD5h5MAGhz8NmeH1TyaQP+zrCsc9p5Y/LbKd76fGnz/bLW5ISEmmPww9YvTcQq8/JV2OstnstT8Er5Y7M8G+P0c+r3jqkcU/5h99k6ZBzj88bCIzFzjVP4enV8oyxN0//yH99nXg5D8qOpLLf0jtP5kqGJXUifQ/c9cS8kHP/D+/DpwzojQEQIEmwoanVwxA4lgXt9HgE0BSSZ2AJuIbQAMJih9jjiNA5q4l5INuK0AwTKYKRj0zQNv5fmq8/DpAaCJseHrtQkB/+zpwzoxKQM3MzMzMeFJAZmZmZmZqWEAAAAAAAFxeQM3MzMzMJmJAmpmZmZkfZUBmZmZmZhhoQDMzMzMzEWtAAAAAAAAKbkBmZmZmZoFwQM3MzMzM/XFAMzMzMzN6c0CamZmZmfZ0QAAAAAAAc3ZAZmZmZmbvd0DNzMzMzGt5QDMzMzMz6HpAmpmZmZlkfEAAAAAAAOF9QGZmZmZmXX9AZmZmZuZsgECamZmZGSuBQM3MzMxM6YFAAAAAAICngkAzMzMzs2WDQGZmZmbmI4RAmpmZmRnihEDNzMzMTKCFQAAAAACAXoZAMzMzM7Mch0BmZmZm5tqHQJqZmZkZmYhAzczMzExXiUAAAAAAgBWKQDMzMzOz04pAZmZmZuaRi0CamZmZGVCMQM3MzMxMDo1AAAAAAIDMjUAzMzMzs4qOQGZmZmbmSI9A\",\"dtype\":\"float64\",\"shape\":[75]}},\"selected\":{\"id\":\"712c93f1-5df2-4171-a95b-ed927c62cdf2\",\"type\":\"Selection\"},\"selection_policy\":{\"id\":\"6b5578de-1d27-41c5-88c6-bb2dcc8442fb\",\"type\":\"UnionRenderers\"}},\"id\":\"cc1817dd-d97d-45d0-a03f-06b9549a92d4\",\"type\":\"ColumnDataSource\"},{\"attributes\":{\"fill_alpha\":{\"value\":0.7},\"fill_color\":{\"value\":\"#4daf4a\"},\"line_alpha\":{\"value\":0.7},\"line_color\":{\"value\":\"#4daf4a\"},\"x\":{\"field\":\"x\"},\"y\":{\"field\":\"y\"}},\"id\":\"08dbba42-a58a-48e8-a470-2ea7d3fa1a90\",\"type\":\"Circle\"},{\"attributes\":{\"fill_alpha\":{\"value\":0.1},\"fill_color\":{\"value\":\"#1f77b4\"},\"line_alpha\":{\"value\":0.1},\"line_color\":{\"value\":\"#1f77b4\"},\"x\":{\"field\":\"x\"},\"y\":{\"field\":\"y\"}},\"id\":\"17817f78-9e5b-4b77-97db-41eb0ac5df26\",\"type\":\"Circle\"},{\"attributes\":{\"above\":[{\"id\":\"54c14ad0-2656-45fb-be98-a2c61e9e4c12\",\"type\":\"Legend\"}],\"below\":[{\"id\":\"2e2b64e1-e00d-4398-8b28-d6491d7e3934\",\"type\":\"LinearAxis\"}],\"left\":[{\"id\":\"f95aaac0-d6fa-4325-bd4e-e863c5afbf29\",\"type\":\"LinearAxis\"}],\"plot_width\":300,\"renderers\":[{\"id\":\"2e2b64e1-e00d-4398-8b28-d6491d7e3934\",\"type\":\"LinearAxis\"},{\"id\":\"17a85c18-dfe1-43f6-b9d8-e8c4e5ea3085\",\"type\":\"Grid\"},{\"id\":\"f95aaac0-d6fa-4325-bd4e-e863c5afbf29\",\"type\":\"LinearAxis\"},{\"id\":\"38389aef-d44f-43c1-9e3d-f3a6a3c945d7\",\"type\":\"Grid\"},{\"id\":\"4559564d-741f-4448-b1fc-147d4ee2a8ac\",\"type\":\"BoxAnnotation\"},{\"id\":\"f7f78ac9-29ed-479c-b3ed-9b9543ab3228\",\"type\":\"GlyphRenderer\"},{\"id\":\"a24f4476-3c47-49fb-9a95-84ee9399fb14\",\"type\":\"GlyphRenderer\"},{\"id\":\"75438752-266e-4fed-a608-795ae7a75c06\",\"type\":\"GlyphRenderer\"},{\"id\":\"54c14ad0-2656-45fb-be98-a2c61e9e4c12\",\"type\":\"Legend\"}],\"title\":{\"id\":\"25e612aa-61fb-4e1e-93f5-c3eff34e73f2\",\"type\":\"Title\"},\"toolbar\":{\"id\":\"e5e01be3-9165-4780-87f5-d1fe93285ee8\",\"type\":\"Toolbar\"},\"toolbar_location\":null,\"x_range\":{\"id\":\"0f5ee09d-4d40-4ee2-b783-fde98a2065d5\",\"type\":\"Range1d\"},\"x_scale\":{\"id\":\"aaa5d51a-36c2-4a1b-a62f-d52279d63959\",\"type\":\"LinearScale\"},\"y_range\":{\"id\":\"2f5e7c7e-dc27-4bfc-a2ed-8eacb5ee3d5b\",\"type\":\"Range1d\"},\"y_scale\":{\"id\":\"b3fac700-8219-42e3-bf7a-9cddaa4b8f4f\",\"type\":\"LinearScale\"}},\"id\":\"c90d0ccb-8f8c-44f0-af83-a95697383470\",\"subtype\":\"Figure\",\"type\":\"Plot\"},{\"attributes\":{\"dimension\":1,\"plot\":{\"id\":\"9d5ec81c-a457-4036-b879-8e4b18d9d1e4\",\"subtype\":\"Figure\",\"type\":\"Plot\"},\"ticker\":{\"id\":\"1a40cd9e-b8b7-4016-9c20-17d6b47e85a8\",\"type\":\"LogTicker\"}},\"id\":\"a7ef3658-7d5e-4da4-b300-2a744e6f4c69\",\"type\":\"Grid\"},{\"attributes\":{},\"id\":\"8c79fb8e-703d-424f-871d-fb073e521b28\",\"type\":\"SaveTool\"},{\"attributes\":{},\"id\":\"71437634-b697-4fbf-b7ab-2c55681b2408\",\"type\":\"HelpTool\"},{\"attributes\":{\"bottom_units\":\"screen\",\"fill_alpha\":{\"value\":0.5},\"fill_color\":{\"value\":\"lightgrey\"},\"left_units\":\"screen\",\"level\":\"overlay\",\"line_alpha\":{\"value\":1.0},\"line_color\":{\"value\":\"black\"},\"line_dash\":[4,4],\"line_width\":{\"value\":2},\"plot\":null,\"render_mode\":\"css\",\"right_units\":\"screen\",\"top_units\":\"screen\"},\"id\":\"6170d89c-ff8a-4292-a48f-c97efc71f65a\",\"type\":\"BoxAnnotation\"},{\"attributes\":{},\"id\":\"8b1ef2af-19a5-4469-ba45-f0347a9a3b8a\",\"type\":\"Selection\"},{\"attributes\":{},\"id\":\"a3880bcd-6822-4e8e-b090-5e225042b501\",\"type\":\"WheelZoomTool\"},{\"attributes\":{},\"id\":\"09a1170a-64b0-4c68-a661-7962874cb624\",\"type\":\"ResetTool\"},{\"attributes\":{\"data_source\":{\"id\":\"fd208d6e-4271-434f-94d2-ac9834313ee5\",\"type\":\"ColumnDataSource\"},\"glyph\":{\"id\":\"08dbba42-a58a-48e8-a470-2ea7d3fa1a90\",\"type\":\"Circle\"},\"hover_glyph\":null,\"muted_glyph\":null,\"nonselection_glyph\":{\"id\":\"17817f78-9e5b-4b77-97db-41eb0ac5df26\",\"type\":\"Circle\"},\"selection_glyph\":null,\"view\":{\"id\":\"eefdfcf0-35c9-4268-b54f-bc69c7dd710e\",\"type\":\"CDSView\"}},\"id\":\"9049dc03-072a-4f45-bb87-d9e624ca49b6\",\"type\":\"GlyphRenderer\"},{\"attributes\":{\"callback\":null,\"end\":16.436998163977037,\"start\":0.29699324090696005},\"id\":\"34e2b36c-c421-481c-8a5e-4b62f11d147a\",\"type\":\"Range1d\"},{\"attributes\":{\"callback\":null,\"data\":{\"x\":{\"__ndarray__\":\"0CYBcvU5UkCik9zf2GVBQF1VoNfLZ0BAVLxhiVXTPUDD1Wu1wJM6QFJyB025jjdAU6Aw5+b/NECYe1uuDfgyQB6bYtVTbTFAPxYSAF1HMEA00pYVm9QuQLolHbMzgC1AntlwirGsLECv+G9SjE4rQJH6ZLBp0ShAsLZQyPd/JkDyjgyf2PwkQLgyNGsrJyRAA13QbJD6I0C8hy0ilI4kQOVTXCEgcSZAovOGvZSGJUBVc/ZmUOIgQOf/6GHAyRlAcE8fAOBSFEDRur1U//gPQGFD9ZbokghAQsqHuSqSA0C91ci3W0UBQCtRQfvz7/4/kh8pntyB+j9t1/n+4TX1P773MAUjFfI/RgzR+CI28T8hBW8WHK7uPzVKjJfU8uk/0FPt4/z65T/wVYqzMPDhPz7K9C5CXuE/8+hSn9hY4T/9PPCkR6rhP1XsIC599OA/66X1nBCX3z/YbRM56QjcPz4dkSQc/dM/S7Wb8Fq00T+/yQdmX0vcP7TrGf476eM/WqNPJoWO7D9qOH1bcwDzP2bw+R5DQ/Y/RLSuQOQp+D8+aif8yAz5P0Wv6eBKRfk/0i2+IN4R+T/ik8QNFZr4PyS5UD5j/Pc/yJ68zXRG9z/2CHPL54H2P59SOhwKtPU/npkP8dfg9D8NlmVcdQz0P80ugRvuOvM/byxiAHN18j9USVZie8nxP5l9lNXYSPE/OB+F0UYP8T8Y7dsUCTHxP3EBgTHPcPE/bfx15p8S8T8FT+xkGtTuP6mdG7rkxuk/pboqTkHX5D/CrN8qGYngP7R4ZaL+htU/\",\"dtype\":\"float64\",\"shape\":[75]},\"y\":{\"__ndarray__\":\"GhExyth1ND/Sv8nbtpRIP2vylNV0PVE/aTum7souWD/At0SJ8fVgPw3Iuahxymc/MSNhhJWvcD/bTfBN02d3P2zb5nxnaoA/CD5h5MAGhz8NmeH1TyaQP+zrCsc9p5Y/LbKd76fGnz/bLW5ISEmmPww9YvTcQq8/JV2OstnstT8Er5Y7M8G+P0c+r3jqkcU/5h99k6ZBzj88bCIzFzjVP4enV8oyxN0//yH99nXg5D8qOpLLf0jtP5kqGJXUifQ/c9cS8kHP/D+/DpwzojQEQIEmwoanVwxA4lgXt9HgE0BSSZ2AJuIbQAMJih9jjiNA5q4l5INuK0AwTKYKRj0zQNv5fmq8/DpAaCJseHrtQkB/+zpwzoxKQM3MzMzMeFJAZmZmZmZqWEAAAAAAAFxeQM3MzMzMJmJAmpmZmZkfZUBmZmZmZhhoQDMzMzMzEWtAAAAAAAAKbkBmZmZmZoFwQM3MzMzM/XFAMzMzMzN6c0CamZmZmfZ0QAAAAAAAc3ZAZmZmZmbvd0DNzMzMzGt5QDMzMzMz6HpAmpmZmZlkfEAAAAAAAOF9QGZmZmZmXX9AZmZmZuZsgECamZmZGSuBQM3MzMxM6YFAAAAAAICngkAzMzMzs2WDQGZmZmbmI4RAmpmZmRnihEDNzMzMTKCFQAAAAACAXoZAMzMzM7Mch0BmZmZm5tqHQJqZmZkZmYhAzczMzExXiUAAAAAAgBWKQDMzMzOz04pAZmZmZuaRi0CamZmZGVCMQM3MzMxMDo1AAAAAAIDMjUAzMzMzs4qOQGZmZmbmSI9A\",\"dtype\":\"float64\",\"shape\":[75]}},\"selected\":{\"id\":\"0a5ab831-995f-40e7-a376-def80a27eeb7\",\"type\":\"Selection\"},\"selection_policy\":{\"id\":\"19dceee2-2d1b-48ad-ab73-d5606f12f174\",\"type\":\"UnionRenderers\"}},\"id\":\"e1b6261d-bd43-4518-973f-bd656d3dbd26\",\"type\":\"ColumnDataSource\"},{\"attributes\":{\"callback\":null,\"data\":{\"x\":{\"__ndarray__\":\"uNnKPlLeQ8AGmYEmafcYwKu0bGUopwPAGhjKjdYa8j9xjh2EV5oLQBUBJpPb2A9Akg2xNFLKBkCVbZ8FkDjrP15braKMmu2/HdtRl7Fk+r81c1cEZhn0v0xjEvGWvtS/l6q7qg+z4D9EOsgmZvHuP/qbhe+JDu0/f8/VZ8Ar2T+4b65LWL3Qv4xZrf08TOW/wO0Diwte5b8SWSUnklDav6iT3jx3gMG//AXz+//Rsj/4sejjjnTBPwMZWVv9pLm/zI/EbWJYzb/9yyaLhfigv9EhVswkWNE/d7fr+ozn0T+5bBYW8/y7P5+NWLgqIaA/WuHr24chxD/IZgQtNvDMP9hKzGRjrMA/r+fgoEGne7/YfMk+OqRePy7GL+tgDLM/SY/4UtrBpz9+w8nG4KCZv8f+WUgS37O/8u0nteg8tr8N9AAu5tqyv66MEbfPGa2/b99qSSvXpb9MaeiRkfuavyUJh2zvNpG/xzhkEcahhr+UvT3298RAv8rK2UOuDnO/R/Ogwn3emb95wK9Mmcaov4U1BSxd7Ka/ULIJU26lmb+BNxFNXAGVv99BU61p7py//q1NVsbklL8Fk1L4/hJpvyJvuY0VG44/fMEU/G5unj/gNJVc/YymPxTpe5WNqq8/g2Bqxgh6sz8SNZLxIUm2P5NrXhrlrrc/cRqXBSVZuD/SHiehPMC4P7tvD+OpF7k/Ua0Uu+N4uT+B07CYh/65P+bMnk0Mnrk/7G6hoh/KuD/RmTbhMxm3P6ZIPUkTlrQ/zHaR+hXosT/wfXUYPX6vP1WbufDVKKs/\",\"dtype\":\"float64\",\"shape\":[75]},\"y\":{\"__ndarray__\":\"GhExyth1ND/Sv8nbtpRIP2vylNV0PVE/aTum7souWD/At0SJ8fVgPw3Iuahxymc/MSNhhJWvcD/bTfBN02d3P2zb5nxnaoA/CD5h5MAGhz8NmeH1TyaQP+zrCsc9p5Y/LbKd76fGnz/bLW5ISEmmPww9YvTcQq8/JV2OstnstT8Er5Y7M8G+P0c+r3jqkcU/5h99k6ZBzj88bCIzFzjVP4enV8oyxN0//yH99nXg5D8qOpLLf0jtP5kqGJXUifQ/c9cS8kHP/D+/DpwzojQEQIEmwoanVwxA4lgXt9HgE0BSSZ2AJuIbQAMJih9jjiNA5q4l5INuK0AwTKYKRj0zQNv5fmq8/DpAaCJseHrtQkB/+zpwzoxKQM3MzMzMeFJAZmZmZmZqWEAAAAAAAFxeQM3MzMzMJmJAmpmZmZkfZUBmZmZmZhhoQDMzMzMzEWtAAAAAAAAKbkBmZmZmZoFwQM3MzMzM/XFAMzMzMzN6c0CamZmZmfZ0QAAAAAAAc3ZAZmZmZmbvd0DNzMzMzGt5QDMzMzMz6HpAmpmZmZlkfEAAAAAAAOF9QGZmZmZmXX9AZmZmZuZsgECamZmZGSuBQM3MzMxM6YFAAAAAAICngkAzMzMzs2WDQGZmZmbmI4RAmpmZmRnihEDNzMzMTKCFQAAAAACAXoZAMzMzM7Mch0BmZmZm5tqHQJqZmZkZmYhAzczMzExXiUAAAAAAgBWKQDMzMzOz04pAZmZmZuaRi0CamZmZGVCMQM3MzMxMDo1AAAAAAIDMjUAzMzMzs4qOQGZmZmbmSI9A\",\"dtype\":\"float64\",\"shape\":[75]}},\"selected\":{\"id\":\"d2c0e92d-9b90-4baa-a9d7-a8afc96064a5\",\"type\":\"Selection\"},\"selection_policy\":{\"id\":\"5c07c887-9234-4e7c-8bd9-65da7b5664b2\",\"type\":\"UnionRenderers\"}},\"id\":\"2a36eeec-e612-46ee-b8e6-4c80f7be212b\",\"type\":\"ColumnDataSource\"},{\"attributes\":{\"data_source\":{\"id\":\"1b681849-fa94-4d51-a78f-7fc7dcf6e157\",\"type\":\"ColumnDataSource\"},\"glyph\":{\"id\":\"cd959c68-9c2c-4c66-83ba-873090d892af\",\"type\":\"Line\"},\"hover_glyph\":null,\"muted_glyph\":null,\"nonselection_glyph\":{\"id\":\"72b307d5-dd16-4c1f-8dbc-4d96859793d0\",\"type\":\"Line\"},\"selection_glyph\":null,\"view\":{\"id\":\"d33b12a3-f099-47cd-8ffb-5719d7db4ba2\",\"type\":\"CDSView\"}},\"id\":\"f7f78ac9-29ed-479c-b3ed-9b9543ab3228\",\"type\":\"GlyphRenderer\"},{\"attributes\":{\"line_alpha\":0.6,\"line_color\":\"#377eb8\",\"line_dash\":[6],\"line_width\":5,\"x\":{\"field\":\"x\"},\"y\":{\"field\":\"y\"}},\"id\":\"94daee92-69b8-4c09-80b5-92fe23e9767f\",\"type\":\"Line\"},{\"attributes\":{\"callback\":null,\"data\":{\"x\":{\"__ndarray__\":\"0CYBcvU5UkCik9zf2GVBQF1VoNfLZ0BAVLxhiVXTPUDD1Wu1wJM6QFJyB025jjdAU6Aw5+b/NECYe1uuDfgyQB6bYtVTbTFAPxYSAF1HMEA00pYVm9QuQLolHbMzgC1AntlwirGsLECv+G9SjE4rQJH6ZLBp0ShAsLZQyPd/JkDyjgyf2PwkQLgyNGsrJyRAA13QbJD6I0C8hy0ilI4kQOVTXCEgcSZAovOGvZSGJUBVc/ZmUOIgQOf/6GHAyRlAcE8fAOBSFEDRur1U//gPQGFD9ZbokghAQsqHuSqSA0C91ci3W0UBQCtRQfvz7/4/kh8pntyB+j9t1/n+4TX1P773MAUjFfI/RgzR+CI28T8hBW8WHK7uPzVKjJfU8uk/0FPt4/z65T/wVYqzMPDhPz7K9C5CXuE/8+hSn9hY4T/9PPCkR6rhP1XsIC599OA/66X1nBCX3z/YbRM56QjcPz4dkSQc/dM/S7Wb8Fq00T+/yQdmX0vcP7TrGf476eM/WqNPJoWO7D9qOH1bcwDzP2bw+R5DQ/Y/RLSuQOQp+D8+aif8yAz5P0Wv6eBKRfk/0i2+IN4R+T/ik8QNFZr4PyS5UD5j/Pc/yJ68zXRG9z/2CHPL54H2P59SOhwKtPU/npkP8dfg9D8NlmVcdQz0P80ugRvuOvM/byxiAHN18j9USVZie8nxP5l9lNXYSPE/OB+F0UYP8T8Y7dsUCTHxP3EBgTHPcPE/bfx15p8S8T8FT+xkGtTuP6mdG7rkxuk/pboqTkHX5D/CrN8qGYngP7R4ZaL+htU/\",\"dtype\":\"float64\",\"shape\":[75]},\"y\":{\"__ndarray__\":\"GhExyth1ND/Sv8nbtpRIP2vylNV0PVE/aTum7souWD/At0SJ8fVgPw3Iuahxymc/MSNhhJWvcD/bTfBN02d3P2zb5nxnaoA/CD5h5MAGhz8NmeH1TyaQP+zrCsc9p5Y/LbKd76fGnz/bLW5ISEmmPww9YvTcQq8/JV2OstnstT8Er5Y7M8G+P0c+r3jqkcU/5h99k6ZBzj88bCIzFzjVP4enV8oyxN0//yH99nXg5D8qOpLLf0jtP5kqGJXUifQ/c9cS8kHP/D+/DpwzojQEQIEmwoanVwxA4lgXt9HgE0BSSZ2AJuIbQAMJih9jjiNA5q4l5INuK0AwTKYKRj0zQNv5fmq8/DpAaCJseHrtQkB/+zpwzoxKQM3MzMzMeFJAZmZmZmZqWEAAAAAAAFxeQM3MzMzMJmJAmpmZmZkfZUBmZmZmZhhoQDMzMzMzEWtAAAAAAAAKbkBmZmZmZoFwQM3MzMzM/XFAMzMzMzN6c0CamZmZmfZ0QAAAAAAAc3ZAZmZmZmbvd0DNzMzMzGt5QDMzMzMz6HpAmpmZmZlkfEAAAAAAAOF9QGZmZmZmXX9AZmZmZuZsgECamZmZGSuBQM3MzMxM6YFAAAAAAICngkAzMzMzs2WDQGZmZmbmI4RAmpmZmRnihEDNzMzMTKCFQAAAAACAXoZAMzMzM7Mch0BmZmZm5tqHQJqZmZkZmYhAzczMzExXiUAAAAAAgBWKQDMzMzOz04pAZmZmZuaRi0CamZmZGVCMQM3MzMxMDo1AAAAAAIDMjUAzMzMzs4qOQGZmZmbmSI9A\",\"dtype\":\"float64\",\"shape\":[75]}},\"selected\":{\"id\":\"cce7cc4e-3d60-4dee-95e2-44a8436a8342\",\"type\":\"Selection\"},\"selection_policy\":{\"id\":\"454c314d-861f-4be9-a0c1-ddc138110c95\",\"type\":\"UnionRenderers\"}},\"id\":\"939f23ec-2d92-4868-a275-58acbc1bda0c\",\"type\":\"ColumnDataSource\"},{\"attributes\":{\"data_source\":{\"id\":\"cc1817dd-d97d-45d0-a03f-06b9549a92d4\",\"type\":\"ColumnDataSource\"},\"glyph\":{\"id\":\"94daee92-69b8-4c09-80b5-92fe23e9767f\",\"type\":\"Line\"},\"hover_glyph\":null,\"muted_glyph\":null,\"nonselection_glyph\":{\"id\":\"d14c23bb-abb8-4f0f-a06e-231bb10a7578\",\"type\":\"Line\"},\"selection_glyph\":null,\"view\":{\"id\":\"67252040-fbef-4041-94d0-51c6fc1efbc4\",\"type\":\"CDSView\"}},\"id\":\"092d0858-ea29-47ee-91ec-fb4ddd680d54\",\"type\":\"GlyphRenderer\"},{\"attributes\":{\"callback\":null,\"data\":{\"x\":{\"__ndarray__\":\"0CYBcvU5UkCik9zf2GVBQF1VoNfLZ0BAVLxhiVXTPUDD1Wu1wJM6QFJyB025jjdAU6Aw5+b/NECYe1uuDfgyQB6bYtVTbTFAPxYSAF1HMEA00pYVm9QuQLolHbMzgC1AntlwirGsLECv+G9SjE4rQJH6ZLBp0ShAsLZQyPd/JkDyjgyf2PwkQLgyNGsrJyRAA13QbJD6I0C8hy0ilI4kQOVTXCEgcSZAovOGvZSGJUBVc/ZmUOIgQOf/6GHAyRlAcE8fAOBSFEDRur1U//gPQGFD9ZbokghAQsqHuSqSA0C91ci3W0UBQCtRQfvz7/4/kh8pntyB+j9t1/n+4TX1P773MAUjFfI/RgzR+CI28T8hBW8WHK7uPzVKjJfU8uk/0FPt4/z65T/wVYqzMPDhPz7K9C5CXuE/8+hSn9hY4T/9PPCkR6rhP1XsIC599OA/66X1nBCX3z/YbRM56QjcPz4dkSQc/dM/S7Wb8Fq00T+/yQdmX0vcP7TrGf476eM/WqNPJoWO7D9qOH1bcwDzP2bw+R5DQ/Y/RLSuQOQp+D8+aif8yAz5P0Wv6eBKRfk/0i2+IN4R+T/ik8QNFZr4PyS5UD5j/Pc/yJ68zXRG9z/2CHPL54H2P59SOhwKtPU/npkP8dfg9D8NlmVcdQz0P80ugRvuOvM/byxiAHN18j9USVZie8nxP5l9lNXYSPE/OB+F0UYP8T8Y7dsUCTHxP3EBgTHPcPE/bfx15p8S8T8FT+xkGtTuP6mdG7rkxuk/pboqTkHX5D/CrN8qGYngP7R4ZaL+htU/\",\"dtype\":\"float64\",\"shape\":[75]},\"y\":{\"__ndarray__\":\"GhExyth1ND/Sv8nbtpRIP2vylNV0PVE/aTum7souWD/At0SJ8fVgPw3Iuahxymc/MSNhhJWvcD/bTfBN02d3P2zb5nxnaoA/CD5h5MAGhz8NmeH1TyaQP+zrCsc9p5Y/LbKd76fGnz/bLW5ISEmmPww9YvTcQq8/JV2OstnstT8Er5Y7M8G+P0c+r3jqkcU/5h99k6ZBzj88bCIzFzjVP4enV8oyxN0//yH99nXg5D8qOpLLf0jtP5kqGJXUifQ/c9cS8kHP/D+/DpwzojQEQIEmwoanVwxA4lgXt9HgE0BSSZ2AJuIbQAMJih9jjiNA5q4l5INuK0AwTKYKRj0zQNv5fmq8/DpAaCJseHrtQkB/+zpwzoxKQM3MzMzMeFJAZmZmZmZqWEAAAAAAAFxeQM3MzMzMJmJAmpmZmZkfZUBmZmZmZhhoQDMzMzMzEWtAAAAAAAAKbkBmZmZmZoFwQM3MzMzM/XFAMzMzMzN6c0CamZmZmfZ0QAAAAAAAc3ZAZmZmZmbvd0DNzMzMzGt5QDMzMzMz6HpAmpmZmZlkfEAAAAAAAOF9QGZmZmZmXX9AZmZmZuZsgECamZmZGSuBQM3MzMxM6YFAAAAAAICngkAzMzMzs2WDQGZmZmbmI4RAmpmZmRnihEDNzMzMTKCFQAAAAACAXoZAMzMzM7Mch0BmZmZm5tqHQJqZmZkZmYhAzczMzExXiUAAAAAAgBWKQDMzMzOz04pAZmZmZuaRi0CamZmZGVCMQM3MzMxMDo1AAAAAAIDMjUAzMzMzs4qOQGZmZmbmSI9A\",\"dtype\":\"float64\",\"shape\":[75]}},\"selected\":{\"id\":\"8b1ef2af-19a5-4469-ba45-f0347a9a3b8a\",\"type\":\"Selection\"},\"selection_policy\":{\"id\":\"000129c9-62c2-4a64-aac4-e2a331449672\",\"type\":\"UnionRenderers\"}},\"id\":\"fd208d6e-4271-434f-94d2-ac9834313ee5\",\"type\":\"ColumnDataSource\"},{\"attributes\":{\"overlay\":{\"id\":\"6170d89c-ff8a-4292-a48f-c97efc71f65a\",\"type\":\"BoxAnnotation\"}},\"id\":\"52406a52-d038-48b4-908f-8bbd3616bc71\",\"type\":\"BoxZoomTool\"},{\"attributes\":{\"source\":{\"id\":\"e1b6261d-bd43-4518-973f-bd656d3dbd26\",\"type\":\"ColumnDataSource\"}},\"id\":\"9ad8fd1e-ad21-4255-aec0-a105a5b8ab82\",\"type\":\"CDSView\"},{\"attributes\":{\"source\":{\"id\":\"fd208d6e-4271-434f-94d2-ac9834313ee5\",\"type\":\"ColumnDataSource\"}},\"id\":\"eefdfcf0-35c9-4268-b54f-bc69c7dd710e\",\"type\":\"CDSView\"},{\"attributes\":{\"data_source\":{\"id\":\"939f23ec-2d92-4868-a275-58acbc1bda0c\",\"type\":\"ColumnDataSource\"},\"glyph\":{\"id\":\"4cee8f3b-e373-44ae-be73-ef9efe0391f1\",\"type\":\"Line\"},\"hover_glyph\":null,\"muted_glyph\":null,\"nonselection_glyph\":{\"id\":\"c1110c4a-ae73-4df9-847a-864dd30e203f\",\"type\":\"Line\"},\"selection_glyph\":null,\"view\":{\"id\":\"de2d0fdb-2ad8-4443-a857-366ef2d0a13b\",\"type\":\"CDSView\"}},\"id\":\"7ffecc5c-0896-4bb1-a7a6-a78a4941fd5c\",\"type\":\"GlyphRenderer\"},{\"attributes\":{},\"id\":\"ef1caa9e-a623-4d3b-9a96-24dab732ec17\",\"type\":\"PanTool\"}],\"root_ids\":[\"275fe8f6-5604-401b-80f8-ac2329fc8dac\"]},\"title\":\"Bokeh Application\",\"version\":\"0.12.16\"}};\n",
       "  var render_items = [{\"docid\":\"f63f4aa0-de0f-489b-8ce9-2821e34ffb9f\",\"elementid\":\"152a2b1c-d6cd-4620-9792-68ce3215530c\",\"modelid\":\"275fe8f6-5604-401b-80f8-ac2329fc8dac\"}];\n",
       "  root.Bokeh.embed.embed_items_notebook(docs_json, render_items);\n",
       "\n",
       "  }\n",
       "  if (root.Bokeh !== undefined) {\n",
       "    embed_document(root);\n",
       "  } else {\n",
       "    var attempts = 0;\n",
       "    var timer = setInterval(function(root) {\n",
       "      if (root.Bokeh !== undefined) {\n",
       "        embed_document(root);\n",
       "        clearInterval(timer);\n",
       "      }\n",
       "      attempts++;\n",
       "      if (attempts > 100) {\n",
       "        console.log(\"Bokeh: ERROR: Unable to run BokehJS code because BokehJS library is missing\")\n",
       "        clearInterval(timer);\n",
       "      }\n",
       "    }, 10, root)\n",
       "  }\n",
       "})(window);"
      ],
      "application/vnd.bokehjs_exec.v0+json": ""
     },
     "metadata": {
      "application/vnd.bokehjs_exec.v0+json": {
       "id": "275fe8f6-5604-401b-80f8-ac2329fc8dac"
      }
     },
     "output_type": "display_data"
    },
    {
     "data": {
      "text/markdown": [
       "*FIGURE.* Cooling rates & difference."
      ],
      "text/plain": [
       "<IPython.core.display.Markdown object>"
      ]
     },
     "metadata": {},
     "output_type": "display_data"
    },
    {
     "data": {
      "text/html": [
       "<a id=\"Fluxes._saw.\"></a>"
      ],
      "text/plain": [
       "<IPython.core.display.HTML object>"
      ]
     },
     "metadata": {},
     "output_type": "display_data"
    },
    {
     "data": {
      "text/markdown": [
       "# Fluxes. saw."
      ],
      "text/plain": [
       "<IPython.core.display.Markdown object>"
      ]
     },
     "metadata": {},
     "output_type": "display_data"
    },
    {
     "data": {
      "text/html": [
       "\n",
       "<div class=\"bk-root\">\n",
       "    <div class=\"bk-plotdiv\" id=\"65f28abc-168d-42ec-a580-1868eba6f7cb\"></div>\n",
       "</div>"
      ]
     },
     "metadata": {},
     "output_type": "display_data"
    },
    {
     "data": {
      "application/javascript": [
       "(function(root) {\n",
       "  function embed_document(root) {\n",
       "    \n",
       "  var docs_json = {\"d1a35c63-d1cd-497c-ae12-ebcbfae56ec2\":{\"roots\":{\"references\":[{\"attributes\":{\"plot\":null,\"text\":\"SFC flux. CLIRAD (single-run) - CRD.\"},\"id\":\"d9f13644-39ec-468d-a45b-6275a5aa5417\",\"type\":\"Title\"},{\"attributes\":{\"children\":[{\"id\":\"bddccc75-aacd-4ba0-b9a7-6ab07df816fd\",\"subtype\":\"Figure\",\"type\":\"Plot\"},{\"id\":\"7946d5aa-8e59-437d-8495-e0d0863ef616\",\"subtype\":\"Figure\",\"type\":\"Plot\"},{\"id\":\"b0a25d76-0956-4265-871f-3f387fa3df11\",\"subtype\":\"Figure\",\"type\":\"Plot\"}]},\"id\":\"edc1329b-e935-42a4-bede-90e68694fe0e\",\"type\":\"Row\"},{\"attributes\":{\"callback\":null,\"factors\":[\"1\",\"2\",\"3\",\"4\",\"5\",\"6\",\"7\",\"8\",\"9\",\"10\",\"11\"]},\"id\":\"72464b3e-7365-49da-9ef3-8fcfdc092ae6\",\"type\":\"FactorRange\"},{\"attributes\":{\"active_drag\":\"auto\",\"active_inspect\":\"auto\",\"active_scroll\":\"auto\",\"active_tap\":\"auto\",\"tools\":[{\"id\":\"3080f7b0-6ccf-489a-b183-80eb1d185784\",\"type\":\"PanTool\"},{\"id\":\"efc13c80-2cd1-41de-ba69-235add2b8e1a\",\"type\":\"WheelZoomTool\"},{\"id\":\"79dc1bf9-fb45-4fb3-8acd-f54390c0708a\",\"type\":\"BoxZoomTool\"},{\"id\":\"7d9496fb-88c8-4e4d-b841-2d344a693c3a\",\"type\":\"SaveTool\"},{\"id\":\"a30259a2-4a6d-4d65-a364-d388810865a4\",\"type\":\"ResetTool\"},{\"id\":\"0c33bf6d-8657-4c7b-b91e-c8d105766f26\",\"type\":\"HelpTool\"}]},\"id\":\"bffde738-8855-4d0f-9746-373e3b401ce6\",\"type\":\"Toolbar\"},{\"attributes\":{\"axis_label\":\"flux (W m-2)\",\"formatter\":{\"id\":\"7da75b39-db84-4fd3-bfca-26f4ebc610d6\",\"type\":\"BasicTickFormatter\"},\"plot\":{\"id\":\"7946d5aa-8e59-437d-8495-e0d0863ef616\",\"subtype\":\"Figure\",\"type\":\"Plot\"},\"ticker\":{\"id\":\"b97b0629-bc4b-4565-8eef-15900cc2d7d2\",\"type\":\"BasicTicker\"}},\"id\":\"97689ae9-4c42-48a5-9dd7-acc4f713a61e\",\"type\":\"LinearAxis\"},{\"attributes\":{},\"id\":\"7da75b39-db84-4fd3-bfca-26f4ebc610d6\",\"type\":\"BasicTickFormatter\"},{\"attributes\":{\"axis_label\":\"spectral band\",\"formatter\":{\"id\":\"90f3757a-25a7-4ea8-ab66-9bd7846d0772\",\"type\":\"CategoricalTickFormatter\"},\"plot\":{\"id\":\"b0a25d76-0956-4265-871f-3f387fa3df11\",\"subtype\":\"Figure\",\"type\":\"Plot\"},\"ticker\":{\"id\":\"79356082-988a-43cd-a1b8-af518bedddd8\",\"type\":\"CategoricalTicker\"}},\"id\":\"b5421148-cab3-4e83-a997-7c6972af9828\",\"type\":\"CategoricalAxis\"},{\"attributes\":{\"fill_alpha\":{\"value\":0.1},\"fill_color\":{\"value\":\"#1f77b4\"},\"line_alpha\":{\"value\":0.1},\"line_color\":{\"value\":\"#1f77b4\"},\"top\":{\"field\":\"flux\"},\"width\":{\"value\":0.9},\"x\":{\"field\":\"band\"}},\"id\":\"748e946d-aad9-429a-90d9-890c21107b79\",\"type\":\"VBar\"},{\"attributes\":{},\"id\":\"fabfff4f-296d-49ca-a677-07f96d337d01\",\"type\":\"Selection\"},{\"attributes\":{\"dimension\":1,\"plot\":{\"id\":\"7946d5aa-8e59-437d-8495-e0d0863ef616\",\"subtype\":\"Figure\",\"type\":\"Plot\"},\"ticker\":{\"id\":\"b97b0629-bc4b-4565-8eef-15900cc2d7d2\",\"type\":\"BasicTicker\"}},\"id\":\"c9eff3f8-c0a3-4b4e-9ed4-50137330e1eb\",\"type\":\"Grid\"},{\"attributes\":{},\"id\":\"513523f9-fe75-4133-9bb8-b768bd93c6b0\",\"type\":\"PanTool\"},{\"attributes\":{\"bottom_units\":\"screen\",\"fill_alpha\":{\"value\":0.5},\"fill_color\":{\"value\":\"lightgrey\"},\"left_units\":\"screen\",\"level\":\"overlay\",\"line_alpha\":{\"value\":1.0},\"line_color\":{\"value\":\"black\"},\"line_dash\":[4,4],\"line_width\":{\"value\":2},\"plot\":null,\"render_mode\":\"css\",\"right_units\":\"screen\",\"top_units\":\"screen\"},\"id\":\"27f60797-683c-4de4-b8ce-71d460e0db37\",\"type\":\"BoxAnnotation\"},{\"attributes\":{\"plot\":{\"id\":\"7946d5aa-8e59-437d-8495-e0d0863ef616\",\"subtype\":\"Figure\",\"type\":\"Plot\"},\"ticker\":{\"id\":\"29f7bba8-e742-4af1-a27b-60413d0aef8c\",\"type\":\"CategoricalTicker\"}},\"id\":\"6755c31a-e0cb-4013-9bba-c92e30d91bb8\",\"type\":\"Grid\"},{\"attributes\":{},\"id\":\"c50c9412-cf5b-4511-8174-abf589e5d110\",\"type\":\"UnionRenderers\"},{\"attributes\":{},\"id\":\"da1cb1b1-3f5f-41ed-9e24-b70557380d68\",\"type\":\"WheelZoomTool\"},{\"attributes\":{\"tools\":[{\"id\":\"3080f7b0-6ccf-489a-b183-80eb1d185784\",\"type\":\"PanTool\"},{\"id\":\"efc13c80-2cd1-41de-ba69-235add2b8e1a\",\"type\":\"WheelZoomTool\"},{\"id\":\"79dc1bf9-fb45-4fb3-8acd-f54390c0708a\",\"type\":\"BoxZoomTool\"},{\"id\":\"7d9496fb-88c8-4e4d-b841-2d344a693c3a\",\"type\":\"SaveTool\"},{\"id\":\"a30259a2-4a6d-4d65-a364-d388810865a4\",\"type\":\"ResetTool\"},{\"id\":\"0c33bf6d-8657-4c7b-b91e-c8d105766f26\",\"type\":\"HelpTool\"},{\"id\":\"a651781d-c936-4da6-8f93-40f83bead772\",\"type\":\"PanTool\"},{\"id\":\"59602088-c369-470a-a8fd-4aca15ddc894\",\"type\":\"WheelZoomTool\"},{\"id\":\"a288fea7-9608-4014-9530-3f3b0e70a126\",\"type\":\"BoxZoomTool\"},{\"id\":\"ca312fb0-6f33-408b-83a4-d8e04d3c749d\",\"type\":\"SaveTool\"},{\"id\":\"59775659-7840-46dd-bf49-97236cc4a71f\",\"type\":\"ResetTool\"},{\"id\":\"bf99ac8b-bb52-409e-a10d-2c517fa242cb\",\"type\":\"HelpTool\"},{\"id\":\"513523f9-fe75-4133-9bb8-b768bd93c6b0\",\"type\":\"PanTool\"},{\"id\":\"da1cb1b1-3f5f-41ed-9e24-b70557380d68\",\"type\":\"WheelZoomTool\"},{\"id\":\"3435d302-4d95-44a3-99c6-a369263053f8\",\"type\":\"BoxZoomTool\"},{\"id\":\"7f10e07a-7869-4460-9df3-c9eb71486176\",\"type\":\"SaveTool\"},{\"id\":\"474cd5a1-8f5b-4511-b0cb-68555a53432a\",\"type\":\"ResetTool\"},{\"id\":\"f72c7a6f-8018-4956-a84d-20785287d8db\",\"type\":\"HelpTool\"}]},\"id\":\"548bd54c-a4aa-45e3-94cd-629a8b3643c8\",\"type\":\"ProxyToolbar\"},{\"attributes\":{\"children\":[{\"id\":\"edc1329b-e935-42a4-bede-90e68694fe0e\",\"type\":\"Row\"}]},\"id\":\"9f02b84b-c579-494a-8e9b-e47a142be5be\",\"type\":\"Column\"},{\"attributes\":{},\"id\":\"85a48bcd-ef1b-4dd8-955c-f803c7b53369\",\"type\":\"BasicTicker\"},{\"attributes\":{},\"id\":\"f72c7a6f-8018-4956-a84d-20785287d8db\",\"type\":\"HelpTool\"},{\"attributes\":{\"fill_color\":{\"value\":\"#1f77b4\"},\"line_color\":{\"value\":\"#1f77b4\"},\"top\":{\"field\":\"flux\"},\"width\":{\"value\":0.9},\"x\":{\"field\":\"band\"}},\"id\":\"831dd87b-1ac8-4c1a-a960-61860dd464c6\",\"type\":\"VBar\"},{\"attributes\":{},\"id\":\"77334d3f-494f-4b14-b18f-ae0f8b21072c\",\"type\":\"BasicTickFormatter\"},{\"attributes\":{\"source\":{\"id\":\"d3ed82e6-e568-4fdc-a56e-af52cd2aff04\",\"type\":\"ColumnDataSource\"}},\"id\":\"8d2c96e1-955c-45d2-abaa-6a46ded33b1a\",\"type\":\"CDSView\"},{\"attributes\":{\"callback\":null},\"id\":\"3559c649-c8b4-4f4d-a62f-662ab1d13246\",\"type\":\"DataRange1d\"},{\"attributes\":{\"dimension\":1,\"plot\":{\"id\":\"b0a25d76-0956-4265-871f-3f387fa3df11\",\"subtype\":\"Figure\",\"type\":\"Plot\"},\"ticker\":{\"id\":\"85a48bcd-ef1b-4dd8-955c-f803c7b53369\",\"type\":\"BasicTicker\"}},\"id\":\"2362ec03-a253-4d9d-9147-495f28df1ee5\",\"type\":\"Grid\"},{\"attributes\":{\"active_drag\":\"auto\",\"active_inspect\":\"auto\",\"active_scroll\":\"auto\",\"active_tap\":\"auto\",\"tools\":[{\"id\":\"a651781d-c936-4da6-8f93-40f83bead772\",\"type\":\"PanTool\"},{\"id\":\"59602088-c369-470a-a8fd-4aca15ddc894\",\"type\":\"WheelZoomTool\"},{\"id\":\"a288fea7-9608-4014-9530-3f3b0e70a126\",\"type\":\"BoxZoomTool\"},{\"id\":\"ca312fb0-6f33-408b-83a4-d8e04d3c749d\",\"type\":\"SaveTool\"},{\"id\":\"59775659-7840-46dd-bf49-97236cc4a71f\",\"type\":\"ResetTool\"},{\"id\":\"bf99ac8b-bb52-409e-a10d-2c517fa242cb\",\"type\":\"HelpTool\"}]},\"id\":\"283dcc71-3d89-4034-9302-1d9b9087a73c\",\"type\":\"Toolbar\"},{\"attributes\":{},\"id\":\"941e122a-fbc8-4aa6-b24a-21e119f369a7\",\"type\":\"Selection\"},{\"attributes\":{\"source\":{\"id\":\"d3727bb6-c0b7-4b49-b1a2-f3eab44fcf9e\",\"type\":\"ColumnDataSource\"}},\"id\":\"305e689f-c72d-4f6c-a1f5-3a31b9ee9643\",\"type\":\"CDSView\"},{\"attributes\":{\"callback\":null,\"factors\":[\"1\",\"2\",\"3\",\"4\",\"5\",\"6\",\"7\",\"8\",\"9\",\"10\",\"11\"]},\"id\":\"e147ff3a-9d84-46a4-9432-a2cf9b378b4e\",\"type\":\"FactorRange\"},{\"attributes\":{\"children\":[{\"id\":\"60d5b970-f907-4261-ac08-a159e128b125\",\"type\":\"ToolbarBox\"},{\"id\":\"9f02b84b-c579-494a-8e9b-e47a142be5be\",\"type\":\"Column\"}]},\"id\":\"9fcc3e4b-9dfe-4e7b-b27b-e0f082a710c6\",\"type\":\"Column\"},{\"attributes\":{\"axis_label\":\"flux (W m-2)\",\"formatter\":{\"id\":\"bba7bf73-e3de-4d04-b0ff-42ff2c123d49\",\"type\":\"BasicTickFormatter\"},\"plot\":{\"id\":\"b0a25d76-0956-4265-871f-3f387fa3df11\",\"subtype\":\"Figure\",\"type\":\"Plot\"},\"ticker\":{\"id\":\"85a48bcd-ef1b-4dd8-955c-f803c7b53369\",\"type\":\"BasicTicker\"}},\"id\":\"1ce7c593-dcbc-4644-81b1-faf3cc8a22b3\",\"type\":\"LinearAxis\"},{\"attributes\":{},\"id\":\"474cd5a1-8f5b-4511-b0cb-68555a53432a\",\"type\":\"ResetTool\"},{\"attributes\":{},\"id\":\"0602cbaa-06c0-482f-8f8f-f38a6a465211\",\"type\":\"LinearScale\"},{\"attributes\":{},\"id\":\"f69b7ec3-dad1-4f8b-9240-89157c509c95\",\"type\":\"CategoricalTickFormatter\"},{\"attributes\":{},\"id\":\"79356082-988a-43cd-a1b8-af518bedddd8\",\"type\":\"CategoricalTicker\"},{\"attributes\":{\"plot\":null,\"text\":\"TOA flux. CLIRAD (single-run) - CRD.\"},\"id\":\"415ee919-4caa-4e06-89f1-a55a24134a4c\",\"type\":\"Title\"},{\"attributes\":{},\"id\":\"29f7bba8-e742-4af1-a27b-60413d0aef8c\",\"type\":\"CategoricalTicker\"},{\"attributes\":{},\"id\":\"b97b0629-bc4b-4565-8eef-15900cc2d7d2\",\"type\":\"BasicTicker\"},{\"attributes\":{\"axis_label\":\"spectral band\",\"formatter\":{\"id\":\"f69b7ec3-dad1-4f8b-9240-89157c509c95\",\"type\":\"CategoricalTickFormatter\"},\"plot\":{\"id\":\"7946d5aa-8e59-437d-8495-e0d0863ef616\",\"subtype\":\"Figure\",\"type\":\"Plot\"},\"ticker\":{\"id\":\"29f7bba8-e742-4af1-a27b-60413d0aef8c\",\"type\":\"CategoricalTicker\"}},\"id\":\"d3d4b677-2e91-434a-be89-def15f176c82\",\"type\":\"CategoricalAxis\"},{\"attributes\":{},\"id\":\"5551a8c7-829f-4ac9-b4fc-224177085680\",\"type\":\"CategoricalTickFormatter\"},{\"attributes\":{\"fill_color\":{\"value\":\"#1f77b4\"},\"line_color\":{\"value\":\"#1f77b4\"},\"top\":{\"field\":\"flux\"},\"width\":{\"value\":0.9},\"x\":{\"field\":\"band\"}},\"id\":\"1e1f24bd-aa97-4019-8f18-d3098facbddb\",\"type\":\"VBar\"},{\"attributes\":{\"bottom_units\":\"screen\",\"fill_alpha\":{\"value\":0.5},\"fill_color\":{\"value\":\"lightgrey\"},\"left_units\":\"screen\",\"level\":\"overlay\",\"line_alpha\":{\"value\":1.0},\"line_color\":{\"value\":\"black\"},\"line_dash\":[4,4],\"line_width\":{\"value\":2},\"plot\":null,\"render_mode\":\"css\",\"right_units\":\"screen\",\"top_units\":\"screen\"},\"id\":\"cb8f5233-36d0-4025-836e-eeddc17be6a4\",\"type\":\"BoxAnnotation\"},{\"attributes\":{\"below\":[{\"id\":\"a34436a1-3d1d-47ba-a25b-40a20128de1e\",\"type\":\"CategoricalAxis\"}],\"left\":[{\"id\":\"c71b66df-c84a-4389-8c7f-9981e593c2e1\",\"type\":\"LinearAxis\"}],\"plot_height\":300,\"plot_width\":300,\"renderers\":[{\"id\":\"a34436a1-3d1d-47ba-a25b-40a20128de1e\",\"type\":\"CategoricalAxis\"},{\"id\":\"465e21f2-4f86-4bfa-aeea-ff0a40016efe\",\"type\":\"Grid\"},{\"id\":\"c71b66df-c84a-4389-8c7f-9981e593c2e1\",\"type\":\"LinearAxis\"},{\"id\":\"d4b4d7a4-c143-45e2-aabe-7e1269d99fe3\",\"type\":\"Grid\"},{\"id\":\"cfc18d86-1e5d-4b80-8bda-0a8e469e6da8\",\"type\":\"BoxAnnotation\"},{\"id\":\"b883515c-3646-4194-9b8e-2eca0cfd0df2\",\"type\":\"GlyphRenderer\"}],\"title\":{\"id\":\"415ee919-4caa-4e06-89f1-a55a24134a4c\",\"type\":\"Title\"},\"toolbar\":{\"id\":\"bffde738-8855-4d0f-9746-373e3b401ce6\",\"type\":\"Toolbar\"},\"toolbar_location\":null,\"x_range\":{\"id\":\"e147ff3a-9d84-46a4-9432-a2cf9b378b4e\",\"type\":\"FactorRange\"},\"x_scale\":{\"id\":\"efa67538-71b6-4dbc-9dfe-9077f42a485c\",\"type\":\"CategoricalScale\"},\"y_range\":{\"id\":\"f7d6f68d-446c-4cd9-8be7-75596848b6bb\",\"type\":\"DataRange1d\"},\"y_scale\":{\"id\":\"8c5e075b-1e17-403a-8976-41ab3680ca76\",\"type\":\"LinearScale\"}},\"id\":\"bddccc75-aacd-4ba0-b9a7-6ab07df816fd\",\"subtype\":\"Figure\",\"type\":\"Plot\"},{\"attributes\":{},\"id\":\"bba7bf73-e3de-4d04-b0ff-42ff2c123d49\",\"type\":\"BasicTickFormatter\"},{\"attributes\":{\"fill_alpha\":{\"value\":0.1},\"fill_color\":{\"value\":\"#1f77b4\"},\"line_alpha\":{\"value\":0.1},\"line_color\":{\"value\":\"#1f77b4\"},\"top\":{\"field\":\"flux\"},\"width\":{\"value\":0.9},\"x\":{\"field\":\"band\"}},\"id\":\"ed3c71f5-5760-4ddb-b1e8-0e6acc9a7125\",\"type\":\"VBar\"},{\"attributes\":{\"toolbar\":{\"id\":\"548bd54c-a4aa-45e3-94cd-629a8b3643c8\",\"type\":\"ProxyToolbar\"},\"toolbar_location\":\"above\"},\"id\":\"60d5b970-f907-4261-ac08-a159e128b125\",\"type\":\"ToolbarBox\"},{\"attributes\":{},\"id\":\"7f8c6998-6202-41df-a395-f1a688fe0405\",\"type\":\"CategoricalScale\"},{\"attributes\":{},\"id\":\"10998e9f-4ec6-4db5-a847-07d981c46867\",\"type\":\"UnionRenderers\"},{\"attributes\":{\"plot\":{\"id\":\"b0a25d76-0956-4265-871f-3f387fa3df11\",\"subtype\":\"Figure\",\"type\":\"Plot\"},\"ticker\":{\"id\":\"79356082-988a-43cd-a1b8-af518bedddd8\",\"type\":\"CategoricalTicker\"}},\"id\":\"4c446f5c-574e-4b0e-b322-ebee78b8a098\",\"type\":\"Grid\"},{\"attributes\":{\"data_source\":{\"id\":\"d3727bb6-c0b7-4b49-b1a2-f3eab44fcf9e\",\"type\":\"ColumnDataSource\"},\"glyph\":{\"id\":\"831dd87b-1ac8-4c1a-a960-61860dd464c6\",\"type\":\"VBar\"},\"hover_glyph\":null,\"muted_glyph\":null,\"nonselection_glyph\":{\"id\":\"ed3c71f5-5760-4ddb-b1e8-0e6acc9a7125\",\"type\":\"VBar\"},\"selection_glyph\":null,\"view\":{\"id\":\"305e689f-c72d-4f6c-a1f5-3a31b9ee9643\",\"type\":\"CDSView\"}},\"id\":\"29731040-bd0f-4177-b6ff-4ea125498634\",\"type\":\"GlyphRenderer\"},{\"attributes\":{\"callback\":null,\"data\":{\"band\":[\"1\",\"2\",\"3\",\"4\",\"5\",\"6\",\"7\",\"8\",\"9\",\"10\",\"11\"],\"flux\":{\"__ndarray__\":\"gFVoIJbNyD8AgAncupvLPwA+fJkoQqq/oOvf9Zmz0D8Ao8ubw7W6PwBAaW6FsGq/YP58W7BU0j8A4bTgRV+5PwCe5Fgo46E/AGgLdJJSdb+AbxLeeT2TPw==\",\"dtype\":\"float64\",\"shape\":[11]}},\"selected\":{\"id\":\"d5a97ecf-6aa4-425d-97e1-0a0f24828581\",\"type\":\"Selection\"},\"selection_policy\":{\"id\":\"10998e9f-4ec6-4db5-a847-07d981c46867\",\"type\":\"UnionRenderers\"}},\"id\":\"30d96103-8f7e-49f4-a751-f08febf95ae2\",\"type\":\"ColumnDataSource\"},{\"attributes\":{\"data_source\":{\"id\":\"d3ed82e6-e568-4fdc-a56e-af52cd2aff04\",\"type\":\"ColumnDataSource\"},\"glyph\":{\"id\":\"1e1f24bd-aa97-4019-8f18-d3098facbddb\",\"type\":\"VBar\"},\"hover_glyph\":null,\"muted_glyph\":null,\"nonselection_glyph\":{\"id\":\"748e946d-aad9-429a-90d9-890c21107b79\",\"type\":\"VBar\"},\"selection_glyph\":null,\"view\":{\"id\":\"8d2c96e1-955c-45d2-abaa-6a46ded33b1a\",\"type\":\"CDSView\"}},\"id\":\"be861e4d-96f1-436a-bf4d-e19262e0ad98\",\"type\":\"GlyphRenderer\"},{\"attributes\":{\"below\":[{\"id\":\"b5421148-cab3-4e83-a997-7c6972af9828\",\"type\":\"CategoricalAxis\"}],\"left\":[{\"id\":\"1ce7c593-dcbc-4644-81b1-faf3cc8a22b3\",\"type\":\"LinearAxis\"}],\"plot_height\":300,\"plot_width\":300,\"renderers\":[{\"id\":\"b5421148-cab3-4e83-a997-7c6972af9828\",\"type\":\"CategoricalAxis\"},{\"id\":\"4c446f5c-574e-4b0e-b322-ebee78b8a098\",\"type\":\"Grid\"},{\"id\":\"1ce7c593-dcbc-4644-81b1-faf3cc8a22b3\",\"type\":\"LinearAxis\"},{\"id\":\"2362ec03-a253-4d9d-9147-495f28df1ee5\",\"type\":\"Grid\"},{\"id\":\"cb8f5233-36d0-4025-836e-eeddc17be6a4\",\"type\":\"BoxAnnotation\"},{\"id\":\"29731040-bd0f-4177-b6ff-4ea125498634\",\"type\":\"GlyphRenderer\"}],\"title\":{\"id\":\"06f3bef7-39ac-4cb2-802c-161be753af61\",\"type\":\"Title\"},\"toolbar\":{\"id\":\"41299a72-66b4-46f4-a37f-c5099a62dbef\",\"type\":\"Toolbar\"},\"toolbar_location\":null,\"x_range\":{\"id\":\"20cdfdeb-0d03-4ab2-bb1f-6a2f7f68f34b\",\"type\":\"FactorRange\"},\"x_scale\":{\"id\":\"1ad82a9b-fa3d-4e5d-892d-becee8c34649\",\"type\":\"CategoricalScale\"},\"y_range\":{\"id\":\"b1488b0a-8fe1-4c3d-b5c6-fae28548abfd\",\"type\":\"DataRange1d\"},\"y_scale\":{\"id\":\"efb9751c-48ff-4310-8274-3245e8bea904\",\"type\":\"LinearScale\"}},\"id\":\"b0a25d76-0956-4265-871f-3f387fa3df11\",\"subtype\":\"Figure\",\"type\":\"Plot\"},{\"attributes\":{},\"id\":\"d5a97ecf-6aa4-425d-97e1-0a0f24828581\",\"type\":\"Selection\"},{\"attributes\":{},\"id\":\"7f10e07a-7869-4460-9df3-c9eb71486176\",\"type\":\"SaveTool\"},{\"attributes\":{},\"id\":\"efb9751c-48ff-4310-8274-3245e8bea904\",\"type\":\"LinearScale\"},{\"attributes\":{},\"id\":\"a6d17375-b778-4da7-8a43-22954dfc9b62\",\"type\":\"UnionRenderers\"},{\"attributes\":{\"overlay\":{\"id\":\"cb8f5233-36d0-4025-836e-eeddc17be6a4\",\"type\":\"BoxAnnotation\"}},\"id\":\"3435d302-4d95-44a3-99c6-a369263053f8\",\"type\":\"BoxZoomTool\"},{\"attributes\":{},\"id\":\"7d9496fb-88c8-4e4d-b841-2d344a693c3a\",\"type\":\"SaveTool\"},{\"attributes\":{\"callback\":null},\"id\":\"b1488b0a-8fe1-4c3d-b5c6-fae28548abfd\",\"type\":\"DataRange1d\"},{\"attributes\":{},\"id\":\"a30259a2-4a6d-4d65-a364-d388810865a4\",\"type\":\"ResetTool\"},{\"attributes\":{\"callback\":null,\"factors\":[\"1\",\"2\",\"3\",\"4\",\"5\",\"6\",\"7\",\"8\",\"9\",\"10\",\"11\"]},\"id\":\"20cdfdeb-0d03-4ab2-bb1f-6a2f7f68f34b\",\"type\":\"FactorRange\"},{\"attributes\":{\"callback\":null},\"id\":\"f7d6f68d-446c-4cd9-8be7-75596848b6bb\",\"type\":\"DataRange1d\"},{\"attributes\":{},\"id\":\"56556128-cd34-4bf0-b795-02c732e691b8\",\"type\":\"BasicTicker\"},{\"attributes\":{\"overlay\":{\"id\":\"27f60797-683c-4de4-b8ce-71d460e0db37\",\"type\":\"BoxAnnotation\"}},\"id\":\"a288fea7-9608-4014-9530-3f3b0e70a126\",\"type\":\"BoxZoomTool\"},{\"attributes\":{},\"id\":\"80aa91f8-e450-430e-9759-5ee912381145\",\"type\":\"CategoricalTicker\"},{\"attributes\":{\"dimension\":1,\"plot\":{\"id\":\"bddccc75-aacd-4ba0-b9a7-6ab07df816fd\",\"subtype\":\"Figure\",\"type\":\"Plot\"},\"ticker\":{\"id\":\"56556128-cd34-4bf0-b795-02c732e691b8\",\"type\":\"BasicTicker\"}},\"id\":\"d4b4d7a4-c143-45e2-aabe-7e1269d99fe3\",\"type\":\"Grid\"},{\"attributes\":{},\"id\":\"59775659-7840-46dd-bf49-97236cc4a71f\",\"type\":\"ResetTool\"},{\"attributes\":{},\"id\":\"efa67538-71b6-4dbc-9dfe-9077f42a485c\",\"type\":\"CategoricalScale\"},{\"attributes\":{\"source\":{\"id\":\"30d96103-8f7e-49f4-a751-f08febf95ae2\",\"type\":\"ColumnDataSource\"}},\"id\":\"d0d9aa44-b3f4-452a-b3af-c1504cd06702\",\"type\":\"CDSView\"},{\"attributes\":{},\"id\":\"a651781d-c936-4da6-8f93-40f83bead772\",\"type\":\"PanTool\"},{\"attributes\":{\"axis_label\":\"spectral band\",\"formatter\":{\"id\":\"5551a8c7-829f-4ac9-b4fc-224177085680\",\"type\":\"CategoricalTickFormatter\"},\"plot\":{\"id\":\"bddccc75-aacd-4ba0-b9a7-6ab07df816fd\",\"subtype\":\"Figure\",\"type\":\"Plot\"},\"ticker\":{\"id\":\"80aa91f8-e450-430e-9759-5ee912381145\",\"type\":\"CategoricalTicker\"}},\"id\":\"a34436a1-3d1d-47ba-a25b-40a20128de1e\",\"type\":\"CategoricalAxis\"},{\"attributes\":{},\"id\":\"ca312fb0-6f33-408b-83a4-d8e04d3c749d\",\"type\":\"SaveTool\"},{\"attributes\":{\"fill_color\":{\"value\":\"#1f77b4\"},\"line_color\":{\"value\":\"#1f77b4\"},\"top\":{\"field\":\"flux\"},\"width\":{\"value\":0.9},\"x\":{\"field\":\"band\"}},\"id\":\"270e7bfe-ea5d-487a-8619-75fb08a51a92\",\"type\":\"VBar\"},{\"attributes\":{\"fill_alpha\":{\"value\":0.1},\"fill_color\":{\"value\":\"#1f77b4\"},\"line_alpha\":{\"value\":0.1},\"line_color\":{\"value\":\"#1f77b4\"},\"top\":{\"field\":\"flux\"},\"width\":{\"value\":0.9},\"x\":{\"field\":\"band\"}},\"id\":\"6ce1f894-1082-490e-bd9c-59c260423932\",\"type\":\"VBar\"},{\"attributes\":{\"active_drag\":\"auto\",\"active_inspect\":\"auto\",\"active_scroll\":\"auto\",\"active_tap\":\"auto\",\"tools\":[{\"id\":\"513523f9-fe75-4133-9bb8-b768bd93c6b0\",\"type\":\"PanTool\"},{\"id\":\"da1cb1b1-3f5f-41ed-9e24-b70557380d68\",\"type\":\"WheelZoomTool\"},{\"id\":\"3435d302-4d95-44a3-99c6-a369263053f8\",\"type\":\"BoxZoomTool\"},{\"id\":\"7f10e07a-7869-4460-9df3-c9eb71486176\",\"type\":\"SaveTool\"},{\"id\":\"474cd5a1-8f5b-4511-b0cb-68555a53432a\",\"type\":\"ResetTool\"},{\"id\":\"f72c7a6f-8018-4956-a84d-20785287d8db\",\"type\":\"HelpTool\"}]},\"id\":\"41299a72-66b4-46f4-a37f-c5099a62dbef\",\"type\":\"Toolbar\"},{\"attributes\":{\"callback\":null,\"data\":{\"band\":[\"1\",\"2\",\"3\",\"4\",\"5\",\"6\",\"7\",\"8\",\"9\",\"10\",\"11\"],\"flux\":{\"__ndarray__\":\"AICufmySb79AlWHcDWIEQIDAH37+e8I/AKtf6Xx4tj/w+fWeJePgP4T9jSxPluA/cMxGQraHxj+YhCs9JhTHP8DyNAXXgbA/AJDEy9O5oj8Ad2DnQ6NtPw==\",\"dtype\":\"float64\",\"shape\":[11]}},\"selected\":{\"id\":\"fabfff4f-296d-49ca-a677-07f96d337d01\",\"type\":\"Selection\"},\"selection_policy\":{\"id\":\"c50c9412-cf5b-4511-8174-abf589e5d110\",\"type\":\"UnionRenderers\"}},\"id\":\"d3ed82e6-e568-4fdc-a56e-af52cd2aff04\",\"type\":\"ColumnDataSource\"},{\"attributes\":{\"plot\":null,\"text\":\"Atmosphere heating. CLIRAD (single-run) - CRD.\"},\"id\":\"06f3bef7-39ac-4cb2-802c-161be753af61\",\"type\":\"Title\"},{\"attributes\":{\"overlay\":{\"id\":\"cfc18d86-1e5d-4b80-8bda-0a8e469e6da8\",\"type\":\"BoxAnnotation\"}},\"id\":\"79dc1bf9-fb45-4fb3-8acd-f54390c0708a\",\"type\":\"BoxZoomTool\"},{\"attributes\":{},\"id\":\"3080f7b0-6ccf-489a-b183-80eb1d185784\",\"type\":\"PanTool\"},{\"attributes\":{\"axis_label\":\"flux (W m-2)\",\"formatter\":{\"id\":\"77334d3f-494f-4b14-b18f-ae0f8b21072c\",\"type\":\"BasicTickFormatter\"},\"plot\":{\"id\":\"bddccc75-aacd-4ba0-b9a7-6ab07df816fd\",\"subtype\":\"Figure\",\"type\":\"Plot\"},\"ticker\":{\"id\":\"56556128-cd34-4bf0-b795-02c732e691b8\",\"type\":\"BasicTicker\"}},\"id\":\"c71b66df-c84a-4389-8c7f-9981e593c2e1\",\"type\":\"LinearAxis\"},{\"attributes\":{},\"id\":\"1ad82a9b-fa3d-4e5d-892d-becee8c34649\",\"type\":\"CategoricalScale\"},{\"attributes\":{},\"id\":\"8c5e075b-1e17-403a-8976-41ab3680ca76\",\"type\":\"LinearScale\"},{\"attributes\":{\"data_source\":{\"id\":\"30d96103-8f7e-49f4-a751-f08febf95ae2\",\"type\":\"ColumnDataSource\"},\"glyph\":{\"id\":\"270e7bfe-ea5d-487a-8619-75fb08a51a92\",\"type\":\"VBar\"},\"hover_glyph\":null,\"muted_glyph\":null,\"nonselection_glyph\":{\"id\":\"6ce1f894-1082-490e-bd9c-59c260423932\",\"type\":\"VBar\"},\"selection_glyph\":null,\"view\":{\"id\":\"d0d9aa44-b3f4-452a-b3af-c1504cd06702\",\"type\":\"CDSView\"}},\"id\":\"b883515c-3646-4194-9b8e-2eca0cfd0df2\",\"type\":\"GlyphRenderer\"},{\"attributes\":{},\"id\":\"90f3757a-25a7-4ea8-ab66-9bd7846d0772\",\"type\":\"CategoricalTickFormatter\"},{\"attributes\":{},\"id\":\"59602088-c369-470a-a8fd-4aca15ddc894\",\"type\":\"WheelZoomTool\"},{\"attributes\":{\"bottom_units\":\"screen\",\"fill_alpha\":{\"value\":0.5},\"fill_color\":{\"value\":\"lightgrey\"},\"left_units\":\"screen\",\"level\":\"overlay\",\"line_alpha\":{\"value\":1.0},\"line_color\":{\"value\":\"black\"},\"line_dash\":[4,4],\"line_width\":{\"value\":2},\"plot\":null,\"render_mode\":\"css\",\"right_units\":\"screen\",\"top_units\":\"screen\"},\"id\":\"cfc18d86-1e5d-4b80-8bda-0a8e469e6da8\",\"type\":\"BoxAnnotation\"},{\"attributes\":{},\"id\":\"0c33bf6d-8657-4c7b-b91e-c8d105766f26\",\"type\":\"HelpTool\"},{\"attributes\":{\"plot\":{\"id\":\"bddccc75-aacd-4ba0-b9a7-6ab07df816fd\",\"subtype\":\"Figure\",\"type\":\"Plot\"},\"ticker\":{\"id\":\"80aa91f8-e450-430e-9759-5ee912381145\",\"type\":\"CategoricalTicker\"}},\"id\":\"465e21f2-4f86-4bfa-aeea-ff0a40016efe\",\"type\":\"Grid\"},{\"attributes\":{},\"id\":\"efc13c80-2cd1-41de-ba69-235add2b8e1a\",\"type\":\"WheelZoomTool\"},{\"attributes\":{\"callback\":null,\"data\":{\"band\":[\"1\",\"2\",\"3\",\"4\",\"5\",\"6\",\"7\",\"8\",\"9\",\"10\",\"11\"],\"flux\":{\"__ndarray__\":\"gNgDEOtLyT8Qsj3EUKgCwEAvh913DMm/gNWmAAQrxj9gZBOq5RjbvwDbT8b4sOC/gDxIT5FDvD+Ah4ibU8m0vwDfA88YQZ6/gEM6lz1kpb+AJgqhQRKPPw==\",\"dtype\":\"float64\",\"shape\":[11]}},\"selected\":{\"id\":\"941e122a-fbc8-4aa6-b24a-21e119f369a7\",\"type\":\"Selection\"},\"selection_policy\":{\"id\":\"a6d17375-b778-4da7-8a43-22954dfc9b62\",\"type\":\"UnionRenderers\"}},\"id\":\"d3727bb6-c0b7-4b49-b1a2-f3eab44fcf9e\",\"type\":\"ColumnDataSource\"},{\"attributes\":{},\"id\":\"bf99ac8b-bb52-409e-a10d-2c517fa242cb\",\"type\":\"HelpTool\"},{\"attributes\":{\"below\":[{\"id\":\"d3d4b677-2e91-434a-be89-def15f176c82\",\"type\":\"CategoricalAxis\"}],\"left\":[{\"id\":\"97689ae9-4c42-48a5-9dd7-acc4f713a61e\",\"type\":\"LinearAxis\"}],\"plot_height\":300,\"plot_width\":300,\"renderers\":[{\"id\":\"d3d4b677-2e91-434a-be89-def15f176c82\",\"type\":\"CategoricalAxis\"},{\"id\":\"6755c31a-e0cb-4013-9bba-c92e30d91bb8\",\"type\":\"Grid\"},{\"id\":\"97689ae9-4c42-48a5-9dd7-acc4f713a61e\",\"type\":\"LinearAxis\"},{\"id\":\"c9eff3f8-c0a3-4b4e-9ed4-50137330e1eb\",\"type\":\"Grid\"},{\"id\":\"27f60797-683c-4de4-b8ce-71d460e0db37\",\"type\":\"BoxAnnotation\"},{\"id\":\"be861e4d-96f1-436a-bf4d-e19262e0ad98\",\"type\":\"GlyphRenderer\"}],\"title\":{\"id\":\"d9f13644-39ec-468d-a45b-6275a5aa5417\",\"type\":\"Title\"},\"toolbar\":{\"id\":\"283dcc71-3d89-4034-9302-1d9b9087a73c\",\"type\":\"Toolbar\"},\"toolbar_location\":null,\"x_range\":{\"id\":\"72464b3e-7365-49da-9ef3-8fcfdc092ae6\",\"type\":\"FactorRange\"},\"x_scale\":{\"id\":\"7f8c6998-6202-41df-a395-f1a688fe0405\",\"type\":\"CategoricalScale\"},\"y_range\":{\"id\":\"3559c649-c8b4-4f4d-a62f-662ab1d13246\",\"type\":\"DataRange1d\"},\"y_scale\":{\"id\":\"0602cbaa-06c0-482f-8f8f-f38a6a465211\",\"type\":\"LinearScale\"}},\"id\":\"7946d5aa-8e59-437d-8495-e0d0863ef616\",\"subtype\":\"Figure\",\"type\":\"Plot\"}],\"root_ids\":[\"9fcc3e4b-9dfe-4e7b-b27b-e0f082a710c6\"]},\"title\":\"Bokeh Application\",\"version\":\"0.12.16\"}};\n",
       "  var render_items = [{\"docid\":\"d1a35c63-d1cd-497c-ae12-ebcbfae56ec2\",\"elementid\":\"65f28abc-168d-42ec-a580-1868eba6f7cb\",\"modelid\":\"9fcc3e4b-9dfe-4e7b-b27b-e0f082a710c6\"}];\n",
       "  root.Bokeh.embed.embed_items_notebook(docs_json, render_items);\n",
       "\n",
       "  }\n",
       "  if (root.Bokeh !== undefined) {\n",
       "    embed_document(root);\n",
       "  } else {\n",
       "    var attempts = 0;\n",
       "    var timer = setInterval(function(root) {\n",
       "      if (root.Bokeh !== undefined) {\n",
       "        embed_document(root);\n",
       "        clearInterval(timer);\n",
       "      }\n",
       "      attempts++;\n",
       "      if (attempts > 100) {\n",
       "        console.log(\"Bokeh: ERROR: Unable to run BokehJS code because BokehJS library is missing\")\n",
       "        clearInterval(timer);\n",
       "      }\n",
       "    }, 10, root)\n",
       "  }\n",
       "})(window);"
      ],
      "application/vnd.bokehjs_exec.v0+json": ""
     },
     "metadata": {
      "application/vnd.bokehjs_exec.v0+json": {
       "id": "9fcc3e4b-9dfe-4e7b-b27b-e0f082a710c6"
      }
     },
     "output_type": "display_data"
    },
    {
     "data": {
      "text/markdown": [
       "*FIGURE.* Difference between CLIRAD and CRD in TOA, SFC and net atmosphere flux, in each spectral band."
      ],
      "text/plain": [
       "<IPython.core.display.Markdown object>"
      ]
     },
     "metadata": {},
     "output_type": "display_data"
    },
    {
     "data": {
      "text/html": [
       "<div>\n",
       "<style scoped>\n",
       "    .dataframe tbody tr th:only-of-type {\n",
       "        vertical-align: middle;\n",
       "    }\n",
       "\n",
       "    .dataframe tbody tr th {\n",
       "        vertical-align: top;\n",
       "    }\n",
       "\n",
       "    .dataframe thead th {\n",
       "        text-align: right;\n",
       "    }\n",
       "</style>\n",
       "<table border=\"1\" class=\"dataframe\">\n",
       "  <thead>\n",
       "    <tr style=\"text-align: right;\">\n",
       "      <th></th>\n",
       "      <th>OLR flux</th>\n",
       "      <th>SFC flux</th>\n",
       "      <th>ATM heating</th>\n",
       "    </tr>\n",
       "    <tr>\n",
       "      <th>Sum over bands</th>\n",
       "      <th></th>\n",
       "      <th></th>\n",
       "      <th></th>\n",
       "    </tr>\n",
       "  </thead>\n",
       "  <tbody>\n",
       "    <tr>\n",
       "      <th>CLIRAD (single-run) - CRD</th>\n",
       "      <td>1.15</td>\n",
       "      <td>4.28</td>\n",
       "      <td>-3.13</td>\n",
       "    </tr>\n",
       "    <tr>\n",
       "      <th>CRD</th>\n",
       "      <td>-201.06</td>\n",
       "      <td>166.03</td>\n",
       "      <td>-119.67</td>\n",
       "    </tr>\n",
       "  </tbody>\n",
       "</table>\n",
       "</div>"
      ],
      "text/plain": [
       "                           OLR flux  SFC flux  ATM heating\n",
       "Sum over bands                                            \n",
       "CLIRAD (single-run) - CRD      1.15      4.28        -3.13\n",
       "CRD                         -201.06    166.03      -119.67"
      ]
     },
     "metadata": {},
     "output_type": "display_data"
    },
    {
     "data": {
      "text/markdown": [
       "*TABLE.* Difference between CLIRAD and CRD in TOA, SFC and net atmosphere flux, over all spectral bands. CRD's TOA, SFC and net atmosphere flux, over all spectral bands."
      ],
      "text/plain": [
       "<IPython.core.display.Markdown object>"
      ]
     },
     "metadata": {},
     "output_type": "display_data"
    },
    {
     "data": {
      "text/html": [
       "<a id=\"Cooling_rates._trp.\"></a>"
      ],
      "text/plain": [
       "<IPython.core.display.HTML object>"
      ]
     },
     "metadata": {},
     "output_type": "display_data"
    },
    {
     "data": {
      "text/markdown": [
       "# Cooling rates. trp."
      ],
      "text/plain": [
       "<IPython.core.display.Markdown object>"
      ]
     },
     "metadata": {},
     "output_type": "display_data"
    },
    {
     "data": {
      "text/html": [
       "\n",
       "<div class=\"bk-root\">\n",
       "    <div class=\"bk-plotdiv\" id=\"235621e8-82f0-45fe-a920-b292928eb39b\"></div>\n",
       "</div>"
      ]
     },
     "metadata": {},
     "output_type": "display_data"
    },
    {
     "data": {
      "application/javascript": [
       "(function(root) {\n",
       "  function embed_document(root) {\n",
       "    \n",
       "  var docs_json = {\"8a6ef5a1-98c5-4d6f-9ed2-523b7b9fa8b5\":{\"roots\":{\"references\":[{\"attributes\":{\"line_color\":\"#4daf4a\",\"line_width\":1.5,\"x\":{\"field\":\"x\"},\"y\":{\"field\":\"y\"}},\"id\":\"7dfacc8e-6e65-46fb-8c01-9d0ecb4b8e65\",\"type\":\"Line\"},{\"attributes\":{\"callback\":null,\"data\":{\"x\":{\"__ndarray__\":\"9A4G/4CERUCVl1gYedJCQBgt277Js0FAME3pQ6EcQECNaUkvARU8QEIDMYaPKTdAs4R4hR7oMUCf5UMt6AIqQDrXH4WMRiJAXGpFj5yZGkA/5VC9gzcVQDVSRDyRAhJApAcOWNuNDUDGfOz/USoDQM5ajO013f4/vslMMHenBUCLqz7pJEEMQLenfHDEnBBAXzG4Cq3fE0BFoJ4p+VEZQFkxhFG0DiFACuqDFCcGJ0Axx+g8Bx4oQKnP8gPTiSRAp6jNy2ctIUC5lBX57GMcQN6vsA+TZxhAq+AlFiw7FEB40Z//UOgPQHOQVhnBYwlAeD3RmoNpBUA52TUCMqoAQNcKKcVBGPU/vFq4rpfX5j9vMgDEfEHSP1EPDbLIRcC/1ZUoTNhr3r+yknhtqhvYv0J21uiBAVe/9V77UAlyxT91FKOLpsPYP+6KugGoy+w/VFqLB77H9j+5Zhje+Oz9PzfMJOZx/gBAzYMC0iGkAUC0EYyXpHkCQHCO6pPolgJAcI+W5C92AUBicmOts/kAQGPOmGor5ABAglAOSgfsAEA4fpMup/0AQE1BOz6aFwFAVanSt4lDAUAUyyyIYYABQDmPHaws0AFAefLPXSkjAkARgFFbyVUCQK9/fq+GawJA4FYKGXl5AkCyqI+NLoECQPNocHxpRQJAxwDNQ03kAkBGG+vNLZ4CQNfloQLPVAJAVRfb4JeZAkDtnooEZE4CQI2tDV7saAJAkdMf7ubvAkAJLw5deqcDQKRizx5wfARAARoKwASLBUCg2psC0ukGQPP2X2gnIw5A\",\"dtype\":\"float64\",\"shape\":[75]},\"y\":{\"__ndarray__\":\"GhExyth1ND/Sv8nbtpRIP2vylNV0PVE/aTum7souWD/At0SJ8fVgPw3Iuahxymc/MSNhhJWvcD/bTfBN02d3P2zb5nxnaoA/CD5h5MAGhz8NmeH1TyaQP+zrCsc9p5Y/LbKd76fGnz/bLW5ISEmmPww9YvTcQq8/JV2OstnstT8Er5Y7M8G+P0c+r3jqkcU/5h99k6ZBzj88bCIzFzjVP4enV8oyxN0//yH99nXg5D8qOpLLf0jtP5kqGJXUifQ/c9cS8kHP/D+/DpwzojQEQIEmwoanVwxA4lgXt9HgE0BSSZ2AJuIbQAMJih9jjiNA5q4l5INuK0AwTKYKRj0zQNv5fmq8/DpAaCJseHrtQkB/+zpwzoxKQM3MzMzMeFJAZmZmZmZqWEAAAAAAAFxeQM3MzMzMJmJAmpmZmZkfZUBmZmZmZhhoQDMzMzMzEWtAAAAAAAAKbkBmZmZmZoFwQM3MzMzM/XFAMzMzMzN6c0CamZmZmfZ0QAAAAAAAc3ZAZmZmZmbvd0DNzMzMzGt5QDMzMzMz6HpAmpmZmZlkfEAAAAAAAOF9QGZmZmZmXX9AZmZmZuZsgECamZmZGSuBQM3MzMxM6YFAAAAAAICngkAzMzMzs2WDQGZmZmbmI4RAmpmZmRnihEDNzMzMTKCFQAAAAACAXoZAMzMzM7Mch0BmZmZm5tqHQJqZmZkZmYhAzczMzExXiUAAAAAAgBWKQDMzMzOz04pAZmZmZuaRi0CamZmZGVCMQM3MzMxMDo1AAAAAAIDMjUAzMzMzs4qOQGZmZmbmSI9A\",\"dtype\":\"float64\",\"shape\":[75]}},\"selected\":{\"id\":\"2871252c-48c3-40e5-9060-8972e7a9c34e\",\"type\":\"Selection\"},\"selection_policy\":{\"id\":\"c0011005-ba30-4449-bfc7-e231b0777ee6\",\"type\":\"UnionRenderers\"}},\"id\":\"3e090859-590d-4c2e-a8e0-cd0b1e8d55a1\",\"type\":\"ColumnDataSource\"},{\"attributes\":{\"overlay\":{\"id\":\"e33cf98b-9b4a-42d5-a13a-e4a1713ddfd2\",\"type\":\"BoxAnnotation\"}},\"id\":\"e7823102-a4cb-4c9e-8165-c1d84b4e89c7\",\"type\":\"BoxZoomTool\"},{\"attributes\":{\"fill_alpha\":{\"value\":0.7},\"fill_color\":{\"value\":\"#4daf4a\"},\"line_alpha\":{\"value\":0.7},\"line_color\":{\"value\":\"#4daf4a\"},\"x\":{\"field\":\"x\"},\"y\":{\"field\":\"y\"}},\"id\":\"699693a3-a341-40b7-81dc-351001458494\",\"type\":\"Circle\"},{\"attributes\":{},\"id\":\"2b8f48bf-85a6-4500-9f22-c7c69e056534\",\"type\":\"UnionRenderers\"},{\"attributes\":{\"data_source\":{\"id\":\"7862bb42-03b9-4252-9f64-dcf30d23b0ff\",\"type\":\"ColumnDataSource\"},\"glyph\":{\"id\":\"8d8dab7b-0d5b-4a7e-8238-65e4d1d6c703\",\"type\":\"Line\"},\"hover_glyph\":null,\"muted_glyph\":null,\"nonselection_glyph\":{\"id\":\"35d6baab-5acb-4968-8f0e-9f9be48cb9e5\",\"type\":\"Line\"},\"selection_glyph\":null,\"view\":{\"id\":\"c07f1db7-ee15-41f7-a136-7cd55a7f31ee\",\"type\":\"CDSView\"}},\"id\":\"3f541aa8-bb7a-4a7f-bdeb-de339f38421c\",\"type\":\"GlyphRenderer\"},{\"attributes\":{\"source\":{\"id\":\"7584c5bc-19f6-438f-96f3-4cc1f707d6c4\",\"type\":\"ColumnDataSource\"}},\"id\":\"7b200062-39ba-4434-a6b7-4d2fa2d5a10f\",\"type\":\"CDSView\"},{\"attributes\":{\"line_alpha\":0.1,\"line_color\":\"#1f77b4\",\"line_width\":1.5,\"x\":{\"field\":\"x\"},\"y\":{\"field\":\"y\"}},\"id\":\"fe028d69-2fe6-49d2-af17-2d48d46c70e1\",\"type\":\"Line\"},{\"attributes\":{},\"id\":\"126c3247-2187-449c-b972-85436d8ad3bd\",\"type\":\"SaveTool\"},{\"attributes\":{\"above\":[{\"id\":\"9c84f41f-a7c7-4a26-a577-dcff101fc43c\",\"type\":\"Legend\"}],\"below\":[{\"id\":\"e5d985e8-3b9a-458c-898b-cbd35f4c5daf\",\"type\":\"LinearAxis\"}],\"left\":[{\"id\":\"e20d85a7-4028-4aa8-8dbd-f7adbcb30fea\",\"type\":\"LogAxis\"}],\"plot_width\":300,\"renderers\":[{\"id\":\"e5d985e8-3b9a-458c-898b-cbd35f4c5daf\",\"type\":\"LinearAxis\"},{\"id\":\"98551d2a-26d9-4b8c-9df0-8ec98e81f2f4\",\"type\":\"Grid\"},{\"id\":\"e20d85a7-4028-4aa8-8dbd-f7adbcb30fea\",\"type\":\"LogAxis\"},{\"id\":\"36a83f6c-28aa-4857-9bf5-deae5e6f7966\",\"type\":\"Grid\"},{\"id\":\"d7443d57-61ac-4583-8e17-698702e454ac\",\"type\":\"BoxAnnotation\"},{\"id\":\"3f541aa8-bb7a-4a7f-bdeb-de339f38421c\",\"type\":\"GlyphRenderer\"},{\"id\":\"d9179a32-73f9-4a9c-b6e3-517f8cbc519b\",\"type\":\"GlyphRenderer\"},{\"id\":\"0b2c02f2-33c3-4110-8d63-ff1135d81256\",\"type\":\"GlyphRenderer\"},{\"id\":\"9c84f41f-a7c7-4a26-a577-dcff101fc43c\",\"type\":\"Legend\"}],\"title\":{\"id\":\"f90490b6-47a9-4c8c-8fdd-b354da70e6b5\",\"type\":\"Title\"},\"toolbar\":{\"id\":\"141c2eb4-1c75-49d7-b094-e5b415b63f06\",\"type\":\"Toolbar\"},\"toolbar_location\":null,\"x_range\":{\"id\":\"a381d576-6123-488a-9346-4e6712e4cc53\",\"type\":\"Range1d\"},\"x_scale\":{\"id\":\"9c99e1f8-109b-420d-afef-bce78255c7d1\",\"type\":\"LinearScale\"},\"y_range\":{\"id\":\"2346b05f-f4a0-44c9-a15e-66b170971051\",\"type\":\"Range1d\"},\"y_scale\":{\"id\":\"3dd77e67-6f35-41ed-8582-2f2d2799129c\",\"type\":\"LogScale\"}},\"id\":\"4e65c015-70c1-4e13-9130-f7d04a7268aa\",\"subtype\":\"Figure\",\"type\":\"Plot\"},{\"attributes\":{\"callback\":null,\"data\":{\"x\":{\"__ndarray__\":\"R/KIaN7AVEClCeJMyPNGQOvRhpxr30JAptxzhxx4PkA7SssMElA4QK6Bp3CyUDNAsVXpjES9LkBFhUV0+5coQMHYwqbbySNA6f09nM3nH0CaSd/3eYoZQDmgiAOW8BNAPYqARh3eDEBkm4vCgvr+P9D+5tWhQfY/P8DwKRnSAkBq38kb17ILQDT7IWuSsxFAUr2Rjm0FFkAinq3s9XgbQGCHwtYcqSFAG64kT303J0C7dRDneyooQD9JYrbK8yRA9S3bneHhIUAIymSuUMMcQIkHLe6VEBdAAau3cITREkA6CiNvkQIPQJU39ki7IQlAaAvwok1UA0BXLQiS4+L7P0xzDpJ2hPI/NNuPGMbJ5z91mUVYxqfSPxqwUPSxZca/G11peifD3L8QzNj5t2jTvwzOozTL360/SPJ4VI1VzD9KJ0nXEIncP8yDdlvHt+4/Et49nYLW9z++2teD4Jn+P+568eH/bwFALf5D9lmAAkCiZAicVOkCQPPT4jNKxwJAOjp3wTzBAUBSQsKNGisBQG4OmjqJwQBAJ3sZoHFuAEA5Ar0Sdi0AQGy4rw5+9f8/7W4nSrC3/z8mPr8zj4T/P4UYRHCQS/8/embVKYcF/z+5YXG+LLP+P/qb8BVUgf4/KvafTtyO/j/avAK1Ppv+PwJV9VVm2P0/JFtYlU/n/D9sN+q2fiX6Pw44e41PNPc/Opt+Z/wN9T+x3vcSW1vzP9ofvWQJlvI/8sciQQBW8j80sfkQa17yPzg5qng2r/I/Oh14WJBh8z+VZjnpctj0P6CcrSuCqQBA\",\"dtype\":\"float64\",\"shape\":[75]},\"y\":{\"__ndarray__\":\"GhExyth1ND/Sv8nbtpRIP2vylNV0PVE/aTum7souWD/At0SJ8fVgPw3Iuahxymc/MSNhhJWvcD/bTfBN02d3P2zb5nxnaoA/CD5h5MAGhz8NmeH1TyaQP+zrCsc9p5Y/LbKd76fGnz/bLW5ISEmmPww9YvTcQq8/JV2OstnstT8Er5Y7M8G+P0c+r3jqkcU/5h99k6ZBzj88bCIzFzjVP4enV8oyxN0//yH99nXg5D8qOpLLf0jtP5kqGJXUifQ/c9cS8kHP/D+/DpwzojQEQIEmwoanVwxA4lgXt9HgE0BSSZ2AJuIbQAMJih9jjiNA5q4l5INuK0AwTKYKRj0zQNv5fmq8/DpAaCJseHrtQkB/+zpwzoxKQM3MzMzMeFJAZmZmZmZqWEAAAAAAAFxeQM3MzMzMJmJAmpmZmZkfZUBmZmZmZhhoQDMzMzMzEWtAAAAAAAAKbkBmZmZmZoFwQM3MzMzM/XFAMzMzMzN6c0CamZmZmfZ0QAAAAAAAc3ZAZmZmZmbvd0DNzMzMzGt5QDMzMzMz6HpAmpmZmZlkfEAAAAAAAOF9QGZmZmZmXX9AZmZmZuZsgECamZmZGSuBQM3MzMxM6YFAAAAAAICngkAzMzMzs2WDQGZmZmbmI4RAmpmZmRnihEDNzMzMTKCFQAAAAACAXoZAMzMzM7Mch0BmZmZm5tqHQJqZmZkZmYhAzczMzExXiUAAAAAAgBWKQDMzMzOz04pAZmZmZuaRi0CamZmZGVCMQM3MzMxMDo1AAAAAAIDMjUAzMzMzs4qOQGZmZmbmSI9A\",\"dtype\":\"float64\",\"shape\":[75]}},\"selected\":{\"id\":\"ee7439cd-0866-42a7-ac1d-df40010c573c\",\"type\":\"Selection\"},\"selection_policy\":{\"id\":\"7bea1109-5157-4114-b7a0-4016b6b8515b\",\"type\":\"UnionRenderers\"}},\"id\":\"b3ab73f3-86bd-4ec6-a696-1e5c69096bd1\",\"type\":\"ColumnDataSource\"},{\"attributes\":{\"data_source\":{\"id\":\"7584c5bc-19f6-438f-96f3-4cc1f707d6c4\",\"type\":\"ColumnDataSource\"},\"glyph\":{\"id\":\"699693a3-a341-40b7-81dc-351001458494\",\"type\":\"Circle\"},\"hover_glyph\":null,\"muted_glyph\":null,\"nonselection_glyph\":{\"id\":\"c7e49ecc-5008-4c6e-a752-31cfb5001483\",\"type\":\"Circle\"},\"selection_glyph\":null,\"view\":{\"id\":\"7b200062-39ba-4434-a6b7-4d2fa2d5a10f\",\"type\":\"CDSView\"}},\"id\":\"d9179a32-73f9-4a9c-b6e3-517f8cbc519b\",\"type\":\"GlyphRenderer\"},{\"attributes\":{\"line_color\":\"#4daf4a\",\"line_width\":1.5,\"x\":{\"field\":\"x\"},\"y\":{\"field\":\"y\"}},\"id\":\"f3aac796-c3b3-49df-bd66-fafa1d6c3f94\",\"type\":\"Line\"},{\"attributes\":{},\"id\":\"f841cf4d-538c-4e54-b93c-1f017935390e\",\"type\":\"BasicTicker\"},{\"attributes\":{},\"id\":\"7bea1109-5157-4114-b7a0-4016b6b8515b\",\"type\":\"UnionRenderers\"},{\"attributes\":{},\"id\":\"26210796-fa45-4ac9-bf5d-9146d4ee033e\",\"type\":\"HelpTool\"},{\"attributes\":{\"callback\":null,\"data\":{\"x\":{\"__ndarray__\":\"R/KIaN7AVEClCeJMyPNGQOvRhpxr30JAptxzhxx4PkA7SssMElA4QK6Bp3CyUDNAsVXpjES9LkBFhUV0+5coQMHYwqbbySNA6f09nM3nH0CaSd/3eYoZQDmgiAOW8BNAPYqARh3eDEBkm4vCgvr+P9D+5tWhQfY/P8DwKRnSAkBq38kb17ILQDT7IWuSsxFAUr2Rjm0FFkAinq3s9XgbQGCHwtYcqSFAG64kT303J0C7dRDneyooQD9JYrbK8yRA9S3bneHhIUAIymSuUMMcQIkHLe6VEBdAAau3cITREkA6CiNvkQIPQJU39ki7IQlAaAvwok1UA0BXLQiS4+L7P0xzDpJ2hPI/NNuPGMbJ5z91mUVYxqfSPxqwUPSxZca/G11peifD3L8QzNj5t2jTvwzOozTL360/SPJ4VI1VzD9KJ0nXEIncP8yDdlvHt+4/Et49nYLW9z++2teD4Jn+P+568eH/bwFALf5D9lmAAkCiZAicVOkCQPPT4jNKxwJAOjp3wTzBAUBSQsKNGisBQG4OmjqJwQBAJ3sZoHFuAEA5Ar0Sdi0AQGy4rw5+9f8/7W4nSrC3/z8mPr8zj4T/P4UYRHCQS/8/embVKYcF/z+5YXG+LLP+P/qb8BVUgf4/KvafTtyO/j/avAK1Ppv+PwJV9VVm2P0/JFtYlU/n/D9sN+q2fiX6Pw44e41PNPc/Opt+Z/wN9T+x3vcSW1vzP9ofvWQJlvI/8sciQQBW8j80sfkQa17yPzg5qng2r/I/Oh14WJBh8z+VZjnpctj0P6CcrSuCqQBA\",\"dtype\":\"float64\",\"shape\":[75]},\"y\":{\"__ndarray__\":\"GhExyth1ND/Sv8nbtpRIP2vylNV0PVE/aTum7souWD/At0SJ8fVgPw3Iuahxymc/MSNhhJWvcD/bTfBN02d3P2zb5nxnaoA/CD5h5MAGhz8NmeH1TyaQP+zrCsc9p5Y/LbKd76fGnz/bLW5ISEmmPww9YvTcQq8/JV2OstnstT8Er5Y7M8G+P0c+r3jqkcU/5h99k6ZBzj88bCIzFzjVP4enV8oyxN0//yH99nXg5D8qOpLLf0jtP5kqGJXUifQ/c9cS8kHP/D+/DpwzojQEQIEmwoanVwxA4lgXt9HgE0BSSZ2AJuIbQAMJih9jjiNA5q4l5INuK0AwTKYKRj0zQNv5fmq8/DpAaCJseHrtQkB/+zpwzoxKQM3MzMzMeFJAZmZmZmZqWEAAAAAAAFxeQM3MzMzMJmJAmpmZmZkfZUBmZmZmZhhoQDMzMzMzEWtAAAAAAAAKbkBmZmZmZoFwQM3MzMzM/XFAMzMzMzN6c0CamZmZmfZ0QAAAAAAAc3ZAZmZmZmbvd0DNzMzMzGt5QDMzMzMz6HpAmpmZmZlkfEAAAAAAAOF9QGZmZmZmXX9AZmZmZuZsgECamZmZGSuBQM3MzMxM6YFAAAAAAICngkAzMzMzs2WDQGZmZmbmI4RAmpmZmRnihEDNzMzMTKCFQAAAAACAXoZAMzMzM7Mch0BmZmZm5tqHQJqZmZkZmYhAzczMzExXiUAAAAAAgBWKQDMzMzOz04pAZmZmZuaRi0CamZmZGVCMQM3MzMxMDo1AAAAAAIDMjUAzMzMzs4qOQGZmZmbmSI9A\",\"dtype\":\"float64\",\"shape\":[75]}},\"selected\":{\"id\":\"5412cd58-13d1-4edd-80b2-62603185d774\",\"type\":\"Selection\"},\"selection_policy\":{\"id\":\"2a0ce7e7-7eeb-49e2-a645-10612b68c099\",\"type\":\"UnionRenderers\"}},\"id\":\"8595b8b3-bc59-4824-8834-57a31933e176\",\"type\":\"ColumnDataSource\"},{\"attributes\":{},\"id\":\"fcdf557a-ea42-4df0-b9ad-8427e309dfbc\",\"type\":\"UnionRenderers\"},{\"attributes\":{},\"id\":\"d37a665f-bb31-4cb6-88ad-5cf86244308c\",\"type\":\"BasicTickFormatter\"},{\"attributes\":{\"fill_alpha\":{\"value\":0.1},\"fill_color\":{\"value\":\"#1f77b4\"},\"line_alpha\":{\"value\":0.1},\"line_color\":{\"value\":\"#1f77b4\"},\"x\":{\"field\":\"x\"},\"y\":{\"field\":\"y\"}},\"id\":\"c7e49ecc-5008-4c6e-a752-31cfb5001483\",\"type\":\"Circle\"},{\"attributes\":{\"line_alpha\":0.1,\"line_color\":\"#1f77b4\",\"line_dash\":[6],\"line_width\":5,\"x\":{\"field\":\"x\"},\"y\":{\"field\":\"y\"}},\"id\":\"35d6baab-5acb-4968-8f0e-9f9be48cb9e5\",\"type\":\"Line\"},{\"attributes\":{},\"id\":\"72de172f-22c2-44c6-ab27-7c510a96ac93\",\"type\":\"PanTool\"},{\"attributes\":{},\"id\":\"ee7439cd-0866-42a7-ac1d-df40010c573c\",\"type\":\"Selection\"},{\"attributes\":{},\"id\":\"df18ed12-6d23-46ac-9ff9-0031df87d717\",\"type\":\"Selection\"},{\"attributes\":{},\"id\":\"5c81bea3-bdb4-4cfa-9e57-7ee2aaf0d6d0\",\"type\":\"WheelZoomTool\"},{\"attributes\":{\"label\":{\"value\":\"CRD\"},\"renderers\":[{\"id\":\"7c2bac96-9b78-4abf-8227-836180854bb5\",\"type\":\"GlyphRenderer\"},{\"id\":\"8717002c-286b-4fac-a4bd-22367949248b\",\"type\":\"GlyphRenderer\"}]},\"id\":\"66c9e841-1ec4-438f-aded-4f297133ded3\",\"type\":\"LegendItem\"},{\"attributes\":{\"ticker\":null},\"id\":\"20a2f6e0-c000-45fa-acf7-448e966890eb\",\"type\":\"LogTickFormatter\"},{\"attributes\":{\"source\":{\"id\":\"b3ab73f3-86bd-4ec6-a696-1e5c69096bd1\",\"type\":\"ColumnDataSource\"}},\"id\":\"60a1245a-e248-4578-b192-2dd33753c5a2\",\"type\":\"CDSView\"},{\"attributes\":{\"callback\":null,\"data\":{\"x\":{\"__ndarray__\":\"R/KIaN7AVEClCeJMyPNGQOvRhpxr30JAptxzhxx4PkA7SssMElA4QK6Bp3CyUDNAsVXpjES9LkBFhUV0+5coQMHYwqbbySNA6f09nM3nH0CaSd/3eYoZQDmgiAOW8BNAPYqARh3eDEBkm4vCgvr+P9D+5tWhQfY/P8DwKRnSAkBq38kb17ILQDT7IWuSsxFAUr2Rjm0FFkAinq3s9XgbQGCHwtYcqSFAG64kT303J0C7dRDneyooQD9JYrbK8yRA9S3bneHhIUAIymSuUMMcQIkHLe6VEBdAAau3cITREkA6CiNvkQIPQJU39ki7IQlAaAvwok1UA0BXLQiS4+L7P0xzDpJ2hPI/NNuPGMbJ5z91mUVYxqfSPxqwUPSxZca/G11peifD3L8QzNj5t2jTvwzOozTL360/SPJ4VI1VzD9KJ0nXEIncP8yDdlvHt+4/Et49nYLW9z++2teD4Jn+P+568eH/bwFALf5D9lmAAkCiZAicVOkCQPPT4jNKxwJAOjp3wTzBAUBSQsKNGisBQG4OmjqJwQBAJ3sZoHFuAEA5Ar0Sdi0AQGy4rw5+9f8/7W4nSrC3/z8mPr8zj4T/P4UYRHCQS/8/embVKYcF/z+5YXG+LLP+P/qb8BVUgf4/KvafTtyO/j/avAK1Ppv+PwJV9VVm2P0/JFtYlU/n/D9sN+q2fiX6Pw44e41PNPc/Opt+Z/wN9T+x3vcSW1vzP9ofvWQJlvI/8sciQQBW8j80sfkQa17yPzg5qng2r/I/Oh14WJBh8z+VZjnpctj0P6CcrSuCqQBA\",\"dtype\":\"float64\",\"shape\":[75]},\"y\":{\"__ndarray__\":\"GhExyth1ND/Sv8nbtpRIP2vylNV0PVE/aTum7souWD/At0SJ8fVgPw3Iuahxymc/MSNhhJWvcD/bTfBN02d3P2zb5nxnaoA/CD5h5MAGhz8NmeH1TyaQP+zrCsc9p5Y/LbKd76fGnz/bLW5ISEmmPww9YvTcQq8/JV2OstnstT8Er5Y7M8G+P0c+r3jqkcU/5h99k6ZBzj88bCIzFzjVP4enV8oyxN0//yH99nXg5D8qOpLLf0jtP5kqGJXUifQ/c9cS8kHP/D+/DpwzojQEQIEmwoanVwxA4lgXt9HgE0BSSZ2AJuIbQAMJih9jjiNA5q4l5INuK0AwTKYKRj0zQNv5fmq8/DpAaCJseHrtQkB/+zpwzoxKQM3MzMzMeFJAZmZmZmZqWEAAAAAAAFxeQM3MzMzMJmJAmpmZmZkfZUBmZmZmZhhoQDMzMzMzEWtAAAAAAAAKbkBmZmZmZoFwQM3MzMzM/XFAMzMzMzN6c0CamZmZmfZ0QAAAAAAAc3ZAZmZmZmbvd0DNzMzMzGt5QDMzMzMz6HpAmpmZmZlkfEAAAAAAAOF9QGZmZmZmXX9AZmZmZuZsgECamZmZGSuBQM3MzMxM6YFAAAAAAICngkAzMzMzs2WDQGZmZmbmI4RAmpmZmRnihEDNzMzMTKCFQAAAAACAXoZAMzMzM7Mch0BmZmZm5tqHQJqZmZkZmYhAzczMzExXiUAAAAAAgBWKQDMzMzOz04pAZmZmZuaRi0CamZmZGVCMQM3MzMxMDo1AAAAAAIDMjUAzMzMzs4qOQGZmZmbmSI9A\",\"dtype\":\"float64\",\"shape\":[75]}},\"selected\":{\"id\":\"df18ed12-6d23-46ac-9ff9-0031df87d717\",\"type\":\"Selection\"},\"selection_policy\":{\"id\":\"2b8f48bf-85a6-4500-9f22-c7c69e056534\",\"type\":\"UnionRenderers\"}},\"id\":\"7584c5bc-19f6-438f-96f3-4cc1f707d6c4\",\"type\":\"ColumnDataSource\"},{\"attributes\":{},\"id\":\"06bea78f-b152-44a9-ae3d-9a76a60a4a47\",\"type\":\"BasicTickFormatter\"},{\"attributes\":{\"source\":{\"id\":\"7862bb42-03b9-4252-9f64-dcf30d23b0ff\",\"type\":\"ColumnDataSource\"}},\"id\":\"c07f1db7-ee15-41f7-a136-7cd55a7f31ee\",\"type\":\"CDSView\"},{\"attributes\":{\"plot\":null,\"text\":\"\"},\"id\":\"f90490b6-47a9-4c8c-8fdd-b354da70e6b5\",\"type\":\"Title\"},{\"attributes\":{\"source\":{\"id\":\"e69b1e18-6f6e-458f-ad67-02b308269de6\",\"type\":\"ColumnDataSource\"}},\"id\":\"7d28562a-e7cd-4d60-bc99-0501a54168f1\",\"type\":\"CDSView\"},{\"attributes\":{\"axis_label\":\"pressure [mb]\",\"formatter\":{\"id\":\"dfae9934-86b5-40c2-adb7-383d599db1f9\",\"type\":\"LogTickFormatter\"},\"plot\":{\"id\":\"94bde46f-1ea6-4beb-8d56-ee85a9eae83f\",\"subtype\":\"Figure\",\"type\":\"Plot\"},\"ticker\":{\"id\":\"bddbee4c-4a2c-46e9-a8e9-297eb2042c9b\",\"type\":\"LogTicker\"}},\"id\":\"5b49eb22-78c9-4b3a-bc39-d05864a7dc59\",\"type\":\"LogAxis\"},{\"attributes\":{\"label\":{\"value\":\"CLIRAD (single-run)\"},\"renderers\":[{\"id\":\"873ddf7b-99f6-45d6-90ee-1c8c817fbe7e\",\"type\":\"GlyphRenderer\"}]},\"id\":\"e83dddfe-b6d1-4ddb-90b8-78dfcbb8d891\",\"type\":\"LegendItem\"},{\"attributes\":{\"active_drag\":\"auto\",\"active_inspect\":\"auto\",\"active_scroll\":\"auto\",\"active_tap\":\"auto\",\"tools\":[{\"id\":\"91206f1d-fb02-4621-b37f-d1cd12f2a841\",\"type\":\"PanTool\"},{\"id\":\"cad842d7-2775-47dd-b3dc-56faef1dbda2\",\"type\":\"WheelZoomTool\"},{\"id\":\"702fdf65-b4f0-4655-8a24-9200bcb60941\",\"type\":\"BoxZoomTool\"},{\"id\":\"5676e1f9-54ff-4345-9d83-1125846f1197\",\"type\":\"SaveTool\"},{\"id\":\"d2dda166-ad1c-4048-be90-bb53f6b17afe\",\"type\":\"ResetTool\"},{\"id\":\"417d6caa-ffe9-4d64-8f09-8277d81224df\",\"type\":\"HelpTool\"}]},\"id\":\"141c2eb4-1c75-49d7-b094-e5b415b63f06\",\"type\":\"Toolbar\"},{\"attributes\":{\"dimension\":1,\"plot\":{\"id\":\"94bde46f-1ea6-4beb-8d56-ee85a9eae83f\",\"subtype\":\"Figure\",\"type\":\"Plot\"},\"ticker\":{\"id\":\"bddbee4c-4a2c-46e9-a8e9-297eb2042c9b\",\"type\":\"LogTicker\"}},\"id\":\"b23d202f-285b-4f30-ba49-ce73207bea8a\",\"type\":\"Grid\"},{\"attributes\":{\"line_alpha\":0.1,\"line_color\":\"#1f77b4\",\"line_width\":1.5,\"x\":{\"field\":\"x\"},\"y\":{\"field\":\"y\"}},\"id\":\"a104b4bb-2ad2-4738-92a1-405258ea6c5e\",\"type\":\"Line\"},{\"attributes\":{\"items\":[{\"id\":\"81871763-1e37-41ea-a5af-ee09e808bba0\",\"type\":\"LegendItem\"},{\"id\":\"535d62a7-93a5-44a8-bd39-cc8635b9f9dd\",\"type\":\"LegendItem\"}],\"label_text_font_size\":{\"value\":\"8pt\"},\"location\":\"top_center\",\"orientation\":\"horizontal\",\"plot\":{\"id\":\"4e65c015-70c1-4e13-9130-f7d04a7268aa\",\"subtype\":\"Figure\",\"type\":\"Plot\"}},\"id\":\"9c84f41f-a7c7-4a26-a577-dcff101fc43c\",\"type\":\"Legend\"},{\"attributes\":{\"data_source\":{\"id\":\"8595b8b3-bc59-4824-8834-57a31933e176\",\"type\":\"ColumnDataSource\"},\"glyph\":{\"id\":\"7dfacc8e-6e65-46fb-8c01-9d0ecb4b8e65\",\"type\":\"Line\"},\"hover_glyph\":null,\"muted_glyph\":null,\"nonselection_glyph\":{\"id\":\"fe028d69-2fe6-49d2-af17-2d48d46c70e1\",\"type\":\"Line\"},\"selection_glyph\":null,\"view\":{\"id\":\"e0b2cddc-f38d-4b60-81ee-517ca091dfdf\",\"type\":\"CDSView\"}},\"id\":\"0b2c02f2-33c3-4110-8d63-ff1135d81256\",\"type\":\"GlyphRenderer\"},{\"attributes\":{\"axis_label\":\"cooling rate [K/day]\",\"formatter\":{\"id\":\"3123e43c-c3a2-4fd6-9f8b-88a2556ce04a\",\"type\":\"BasicTickFormatter\"},\"plot\":{\"id\":\"94bde46f-1ea6-4beb-8d56-ee85a9eae83f\",\"subtype\":\"Figure\",\"type\":\"Plot\"},\"ticker\":{\"id\":\"f841cf4d-538c-4e54-b93c-1f017935390e\",\"type\":\"BasicTicker\"}},\"id\":\"7b6490f5-06b5-4856-a77a-5587f61c87ae\",\"type\":\"LinearAxis\"},{\"attributes\":{},\"id\":\"a8ce1557-76ca-456e-b9d7-8e1cbff343da\",\"type\":\"ResetTool\"},{\"attributes\":{\"plot\":{\"id\":\"94bde46f-1ea6-4beb-8d56-ee85a9eae83f\",\"subtype\":\"Figure\",\"type\":\"Plot\"},\"ticker\":{\"id\":\"f841cf4d-538c-4e54-b93c-1f017935390e\",\"type\":\"BasicTicker\"}},\"id\":\"29743fbe-1392-4563-b3aa-ae8bf9bb8ab6\",\"type\":\"Grid\"},{\"attributes\":{\"num_minor_ticks\":10},\"id\":\"bddbee4c-4a2c-46e9-a8e9-297eb2042c9b\",\"type\":\"LogTicker\"},{\"attributes\":{\"callback\":null,\"end\":0.01,\"start\":1020},\"id\":\"25ede5d6-185b-454c-bddf-6a8bfde6e317\",\"type\":\"Range1d\"},{\"attributes\":{\"bottom_units\":\"screen\",\"fill_alpha\":{\"value\":0.5},\"fill_color\":{\"value\":\"lightgrey\"},\"left_units\":\"screen\",\"level\":\"overlay\",\"line_alpha\":{\"value\":1.0},\"line_color\":{\"value\":\"black\"},\"line_dash\":[4,4],\"line_width\":{\"value\":2},\"plot\":null,\"render_mode\":\"css\",\"right_units\":\"screen\",\"top_units\":\"screen\"},\"id\":\"e33cf98b-9b4a-42d5-a13a-e4a1713ddfd2\",\"type\":\"BoxAnnotation\"},{\"attributes\":{\"data_source\":{\"id\":\"b3ab73f3-86bd-4ec6-a696-1e5c69096bd1\",\"type\":\"ColumnDataSource\"},\"glyph\":{\"id\":\"f3aac796-c3b3-49df-bd66-fafa1d6c3f94\",\"type\":\"Line\"},\"hover_glyph\":null,\"muted_glyph\":null,\"nonselection_glyph\":{\"id\":\"a104b4bb-2ad2-4738-92a1-405258ea6c5e\",\"type\":\"Line\"},\"selection_glyph\":null,\"view\":{\"id\":\"60a1245a-e248-4578-b192-2dd33753c5a2\",\"type\":\"CDSView\"}},\"id\":\"8717002c-286b-4fac-a4bd-22367949248b\",\"type\":\"GlyphRenderer\"},{\"attributes\":{},\"id\":\"9ca23baf-d613-4072-b68d-da5c2e9e40b8\",\"type\":\"LogScale\"},{\"attributes\":{\"data_source\":{\"id\":\"3e090859-590d-4c2e-a8e0-cd0b1e8d55a1\",\"type\":\"ColumnDataSource\"},\"glyph\":{\"id\":\"59315b14-4a8e-4813-b1a6-612548b8b9f1\",\"type\":\"Line\"},\"hover_glyph\":null,\"muted_glyph\":null,\"nonselection_glyph\":{\"id\":\"4a33bb1f-286f-45a9-bd64-8e049c7becce\",\"type\":\"Line\"},\"selection_glyph\":null,\"view\":{\"id\":\"d690e36e-72dd-4317-b6b4-67acceaf149e\",\"type\":\"CDSView\"}},\"id\":\"873ddf7b-99f6-45d6-90ee-1c8c817fbe7e\",\"type\":\"GlyphRenderer\"},{\"attributes\":{},\"id\":\"df34b02d-6d22-47b0-9cbb-8a215261470a\",\"type\":\"LinearScale\"},{\"attributes\":{\"callback\":null,\"data\":{\"x\":{\"__ndarray__\":\"nNUL0jv9Q8A9yCXSPIUgwBxNutodugLAbtvrBWAS/D+M+vATeScOQJoMTKzoxg5A184e+OFLBECfBeaPy67mP2oYMBryNOi/Nk7iM8Q49b9tkTnq2Evxv0fgRHRM4N6/jKyvMcL3tT+oeDX1hGjdP/q3Si8oN+E/+EvgMvCq1j84hJmuucmxP+c3VarfbNG/m1/MHgQu4b/w7ncY5jfhv/zAyqcQTdO/2AhiUB2ruL8KFF1PVOmYvz9m3pvsfcq/mqmwQTqP1r+bU81T7di3v0OFOhjSb9U/ilrjVnqa1j/E55gP8re8PzM4Fhh0gaA/iJAJv6+p0D9tFI7JAcbVP1+81JhZnsQ/3g7wOs1Fnr9YwVkRZZJ5vxyDDgmlf6g/kIvzGw2Lmr+IGn/Oycuyv7yB6kPXl66/Rk32DRCOq7+tljBdUiuuv+yNv5v1wa6/7DsoW0nssL+ygO639Jylv6CtK/N+Y6y/10sviASHu792uxQfAeyrvyPBIvzPMJi/wrIqODfDor9792cvcLOYv+n6X/8XUZE/jlY1fWplrz/Hf896Iwa6P2BRNm6zzcE/6h3vKxl7xj8WwNLknuHLP7AX3J8jU9E/6PkpRy4D1T+wecbgl+HXP5eNMSTlVtk/Vd7SjVeQ2T8vUnKYeZzZP5fzrYuyydo/0kyD5JXC4T9E/tfJuS3mP0Enke+c6uo/cpM3WjMl8D8qXx32bEHxP0E7XlfPO/I/MN8cm82J8z/erCKpifD0Pw+M9MSpSfY/xhacJ3m09z+qTv4bMfv4P6W0ZHlK8/o/\",\"dtype\":\"float64\",\"shape\":[75]},\"y\":{\"__ndarray__\":\"GhExyth1ND/Sv8nbtpRIP2vylNV0PVE/aTum7souWD/At0SJ8fVgPw3Iuahxymc/MSNhhJWvcD/bTfBN02d3P2zb5nxnaoA/CD5h5MAGhz8NmeH1TyaQP+zrCsc9p5Y/LbKd76fGnz/bLW5ISEmmPww9YvTcQq8/JV2OstnstT8Er5Y7M8G+P0c+r3jqkcU/5h99k6ZBzj88bCIzFzjVP4enV8oyxN0//yH99nXg5D8qOpLLf0jtP5kqGJXUifQ/c9cS8kHP/D+/DpwzojQEQIEmwoanVwxA4lgXt9HgE0BSSZ2AJuIbQAMJih9jjiNA5q4l5INuK0AwTKYKRj0zQNv5fmq8/DpAaCJseHrtQkB/+zpwzoxKQM3MzMzMeFJAZmZmZmZqWEAAAAAAAFxeQM3MzMzMJmJAmpmZmZkfZUBmZmZmZhhoQDMzMzMzEWtAAAAAAAAKbkBmZmZmZoFwQM3MzMzM/XFAMzMzMzN6c0CamZmZmfZ0QAAAAAAAc3ZAZmZmZmbvd0DNzMzMzGt5QDMzMzMz6HpAmpmZmZlkfEAAAAAAAOF9QGZmZmZmXX9AZmZmZuZsgECamZmZGSuBQM3MzMxM6YFAAAAAAICngkAzMzMzs2WDQGZmZmbmI4RAmpmZmRnihEDNzMzMTKCFQAAAAACAXoZAMzMzM7Mch0BmZmZm5tqHQJqZmZkZmYhAzczMzExXiUAAAAAAgBWKQDMzMzOz04pAZmZmZuaRi0CamZmZGVCMQM3MzMxMDo1AAAAAAIDMjUAzMzMzs4qOQGZmZmbmSI9A\",\"dtype\":\"float64\",\"shape\":[75]}},\"selected\":{\"id\":\"85195c92-9462-4c48-95d4-9bd6a054ef1f\",\"type\":\"Selection\"},\"selection_policy\":{\"id\":\"08fc548d-aefd-44d8-baa8-fc532e5f2c4d\",\"type\":\"UnionRenderers\"}},\"id\":\"379e4b5e-23c3-4bdc-b3c0-2eaa0475d4e9\",\"type\":\"ColumnDataSource\"},{\"attributes\":{\"line_alpha\":0.6,\"line_color\":\"#377eb8\",\"line_dash\":[6],\"line_width\":5,\"x\":{\"field\":\"x\"},\"y\":{\"field\":\"y\"}},\"id\":\"59315b14-4a8e-4813-b1a6-612548b8b9f1\",\"type\":\"Line\"},{\"attributes\":{\"fill_alpha\":{\"value\":0.7},\"fill_color\":{\"value\":\"#4daf4a\"},\"line_alpha\":{\"value\":0.7},\"line_color\":{\"value\":\"#4daf4a\"},\"x\":{\"field\":\"x\"},\"y\":{\"field\":\"y\"}},\"id\":\"c7f8bae1-9cb5-4d18-b2fa-2f95642ccb1c\",\"type\":\"Circle\"},{\"attributes\":{\"fill_alpha\":{\"value\":0.1},\"fill_color\":{\"value\":\"#1f77b4\"},\"line_alpha\":{\"value\":0.1},\"line_color\":{\"value\":\"#1f77b4\"},\"x\":{\"field\":\"x\"},\"y\":{\"field\":\"y\"}},\"id\":\"2791ffcd-4946-41d3-92e9-ce06c846b7ba\",\"type\":\"Circle\"},{\"attributes\":{},\"id\":\"80da1d0c-14d6-48ae-980e-ab3060f4e89a\",\"type\":\"Selection\"},{\"attributes\":{},\"id\":\"cad842d7-2775-47dd-b3dc-56faef1dbda2\",\"type\":\"WheelZoomTool\"},{\"attributes\":{\"data_source\":{\"id\":\"7b5b2fa3-d895-40f3-b0dc-424b786be931\",\"type\":\"ColumnDataSource\"},\"glyph\":{\"id\":\"b452113b-9aae-437b-862a-a613793d0325\",\"type\":\"Circle\"},\"hover_glyph\":null,\"muted_glyph\":null,\"nonselection_glyph\":{\"id\":\"b0b4714c-b577-4dfa-b07e-bd291adb2a38\",\"type\":\"Circle\"},\"selection_glyph\":null,\"view\":{\"id\":\"1ff85b8f-5acf-4e73-b8c9-28f55efff60d\",\"type\":\"CDSView\"}},\"id\":\"927c1718-957d-4966-968e-97a998d0607a\",\"type\":\"GlyphRenderer\"},{\"attributes\":{},\"id\":\"417d6caa-ffe9-4d64-8f09-8277d81224df\",\"type\":\"HelpTool\"},{\"attributes\":{\"active_drag\":\"auto\",\"active_inspect\":\"auto\",\"active_scroll\":\"auto\",\"active_tap\":\"auto\",\"tools\":[{\"id\":\"b3724a30-6448-4e20-821c-2d62cfe52fa7\",\"type\":\"PanTool\"},{\"id\":\"ac279849-49e8-41c2-8ad8-730fd7be040b\",\"type\":\"WheelZoomTool\"},{\"id\":\"c0a82b6f-64f1-48c4-90c2-fa4dd4da8bd9\",\"type\":\"BoxZoomTool\"},{\"id\":\"184640d8-2274-45bb-a497-ebd8847c6c60\",\"type\":\"SaveTool\"},{\"id\":\"1c416e0c-1315-4095-8967-8d2d9c3565c6\",\"type\":\"ResetTool\"},{\"id\":\"ae859201-13f2-4685-a040-08380b1c3b5f\",\"type\":\"HelpTool\"}]},\"id\":\"9463e065-c7b7-44ef-ae8e-d5a73724b84c\",\"type\":\"Toolbar\"},{\"attributes\":{\"source\":{\"id\":\"8595b8b3-bc59-4824-8834-57a31933e176\",\"type\":\"ColumnDataSource\"}},\"id\":\"e0b2cddc-f38d-4b60-81ee-517ca091dfdf\",\"type\":\"CDSView\"},{\"attributes\":{\"callback\":null,\"end\":0.01,\"start\":1020},\"id\":\"2346b05f-f4a0-44c9-a15e-66b170971051\",\"type\":\"Range1d\"},{\"attributes\":{\"above\":[{\"id\":\"9c19e6fa-06d2-4b7e-bb46-31b92727c8c0\",\"type\":\"Legend\"}],\"below\":[{\"id\":\"7b6490f5-06b5-4856-a77a-5587f61c87ae\",\"type\":\"LinearAxis\"}],\"left\":[{\"id\":\"5b49eb22-78c9-4b3a-bc39-d05864a7dc59\",\"type\":\"LogAxis\"}],\"plot_width\":300,\"renderers\":[{\"id\":\"7b6490f5-06b5-4856-a77a-5587f61c87ae\",\"type\":\"LinearAxis\"},{\"id\":\"29743fbe-1392-4563-b3aa-ae8bf9bb8ab6\",\"type\":\"Grid\"},{\"id\":\"5b49eb22-78c9-4b3a-bc39-d05864a7dc59\",\"type\":\"LogAxis\"},{\"id\":\"b23d202f-285b-4f30-ba49-ce73207bea8a\",\"type\":\"Grid\"},{\"id\":\"e33cf98b-9b4a-42d5-a13a-e4a1713ddfd2\",\"type\":\"BoxAnnotation\"},{\"id\":\"927c1718-957d-4966-968e-97a998d0607a\",\"type\":\"GlyphRenderer\"},{\"id\":\"12ccb0ae-9544-47a2-9ac9-d6979b7b75cc\",\"type\":\"GlyphRenderer\"},{\"id\":\"9c19e6fa-06d2-4b7e-bb46-31b92727c8c0\",\"type\":\"Legend\"}],\"title\":{\"id\":\"153456cb-d248-4f54-a5d2-d5ad847408d6\",\"type\":\"Title\"},\"toolbar\":{\"id\":\"35d22ea0-05b5-496e-9c9e-35dfa9546fcc\",\"type\":\"Toolbar\"},\"toolbar_location\":null,\"x_range\":{\"id\":\"92b5c3e6-8d34-461d-8214-724e70c495e3\",\"type\":\"Range1d\"},\"x_scale\":{\"id\":\"df34b02d-6d22-47b0-9cbb-8a215261470a\",\"type\":\"LinearScale\"},\"y_range\":{\"id\":\"bd9c4a02-a8d8-49e3-b8cc-e3b6133c9249\",\"type\":\"Range1d\"},\"y_scale\":{\"id\":\"9ca23baf-d613-4072-b68d-da5c2e9e40b8\",\"type\":\"LogScale\"}},\"id\":\"94bde46f-1ea6-4beb-8d56-ee85a9eae83f\",\"subtype\":\"Figure\",\"type\":\"Plot\"},{\"attributes\":{},\"id\":\"d2dda166-ad1c-4048-be90-bb53f6b17afe\",\"type\":\"ResetTool\"},{\"attributes\":{},\"id\":\"ac279849-49e8-41c2-8ad8-730fd7be040b\",\"type\":\"WheelZoomTool\"},{\"attributes\":{\"fill_alpha\":{\"value\":0.7},\"fill_color\":{\"value\":\"#984ea3\"},\"line_alpha\":{\"value\":0.7},\"line_color\":{\"value\":\"#984ea3\"},\"x\":{\"field\":\"x\"},\"y\":{\"field\":\"y\"}},\"id\":\"b452113b-9aae-437b-862a-a613793d0325\",\"type\":\"Circle\"},{\"attributes\":{\"overlay\":{\"id\":\"d7443d57-61ac-4583-8e17-698702e454ac\",\"type\":\"BoxAnnotation\"}},\"id\":\"702fdf65-b4f0-4655-8a24-9200bcb60941\",\"type\":\"BoxZoomTool\"},{\"attributes\":{\"items\":[{\"id\":\"007ef3b2-20e4-435c-a317-12b91051cd2e\",\"type\":\"LegendItem\"}],\"label_text_font_size\":{\"value\":\"8pt\"},\"location\":\"top_center\",\"orientation\":\"horizontal\",\"plot\":{\"id\":\"94bde46f-1ea6-4beb-8d56-ee85a9eae83f\",\"subtype\":\"Figure\",\"type\":\"Plot\"}},\"id\":\"9c19e6fa-06d2-4b7e-bb46-31b92727c8c0\",\"type\":\"Legend\"},{\"attributes\":{\"callback\":null,\"end\":0.01,\"start\":1020},\"id\":\"bd9c4a02-a8d8-49e3-b8cc-e3b6133c9249\",\"type\":\"Range1d\"},{\"attributes\":{},\"id\":\"5676e1f9-54ff-4345-9d83-1125846f1197\",\"type\":\"SaveTool\"},{\"attributes\":{},\"id\":\"91206f1d-fb02-4621-b37f-d1cd12f2a841\",\"type\":\"PanTool\"},{\"attributes\":{\"source\":{\"id\":\"7b5b2fa3-d895-40f3-b0dc-424b786be931\",\"type\":\"ColumnDataSource\"}},\"id\":\"1ff85b8f-5acf-4e73-b8c9-28f55efff60d\",\"type\":\"CDSView\"},{\"attributes\":{\"data_source\":{\"id\":\"e69b1e18-6f6e-458f-ad67-02b308269de6\",\"type\":\"ColumnDataSource\"},\"glyph\":{\"id\":\"c7f8bae1-9cb5-4d18-b2fa-2f95642ccb1c\",\"type\":\"Circle\"},\"hover_glyph\":null,\"muted_glyph\":null,\"nonselection_glyph\":{\"id\":\"2791ffcd-4946-41d3-92e9-ce06c846b7ba\",\"type\":\"Circle\"},\"selection_glyph\":null,\"view\":{\"id\":\"7d28562a-e7cd-4d60-bc99-0501a54168f1\",\"type\":\"CDSView\"}},\"id\":\"7c2bac96-9b78-4abf-8227-836180854bb5\",\"type\":\"GlyphRenderer\"},{\"attributes\":{\"callback\":null,\"data\":{\"x\":{\"__ndarray__\":\"nNUL0jv9Q8A9yCXSPIUgwBxNutodugLAbtvrBWAS/D+M+vATeScOQJoMTKzoxg5A184e+OFLBECfBeaPy67mP2oYMBryNOi/Nk7iM8Q49b9tkTnq2Evxv0fgRHRM4N6/jKyvMcL3tT+oeDX1hGjdP/q3Si8oN+E/+EvgMvCq1j84hJmuucmxP+c3VarfbNG/m1/MHgQu4b/w7ncY5jfhv/zAyqcQTdO/2AhiUB2ruL8KFF1PVOmYvz9m3pvsfcq/mqmwQTqP1r+bU81T7di3v0OFOhjSb9U/ilrjVnqa1j/E55gP8re8PzM4Fhh0gaA/iJAJv6+p0D9tFI7JAcbVP1+81JhZnsQ/3g7wOs1Fnr9YwVkRZZJ5vxyDDgmlf6g/kIvzGw2Lmr+IGn/Oycuyv7yB6kPXl66/Rk32DRCOq7+tljBdUiuuv+yNv5v1wa6/7DsoW0nssL+ygO639Jylv6CtK/N+Y6y/10sviASHu792uxQfAeyrvyPBIvzPMJi/wrIqODfDor9792cvcLOYv+n6X/8XUZE/jlY1fWplrz/Hf896Iwa6P2BRNm6zzcE/6h3vKxl7xj8WwNLknuHLP7AX3J8jU9E/6PkpRy4D1T+wecbgl+HXP5eNMSTlVtk/Vd7SjVeQ2T8vUnKYeZzZP5fzrYuyydo/0kyD5JXC4T9E/tfJuS3mP0Enke+c6uo/cpM3WjMl8D8qXx32bEHxP0E7XlfPO/I/MN8cm82J8z/erCKpifD0Pw+M9MSpSfY/xhacJ3m09z+qTv4bMfv4P6W0ZHlK8/o/\",\"dtype\":\"float64\",\"shape\":[75]},\"y\":{\"__ndarray__\":\"GhExyth1ND/Sv8nbtpRIP2vylNV0PVE/aTum7souWD/At0SJ8fVgPw3Iuahxymc/MSNhhJWvcD/bTfBN02d3P2zb5nxnaoA/CD5h5MAGhz8NmeH1TyaQP+zrCsc9p5Y/LbKd76fGnz/bLW5ISEmmPww9YvTcQq8/JV2OstnstT8Er5Y7M8G+P0c+r3jqkcU/5h99k6ZBzj88bCIzFzjVP4enV8oyxN0//yH99nXg5D8qOpLLf0jtP5kqGJXUifQ/c9cS8kHP/D+/DpwzojQEQIEmwoanVwxA4lgXt9HgE0BSSZ2AJuIbQAMJih9jjiNA5q4l5INuK0AwTKYKRj0zQNv5fmq8/DpAaCJseHrtQkB/+zpwzoxKQM3MzMzMeFJAZmZmZmZqWEAAAAAAAFxeQM3MzMzMJmJAmpmZmZkfZUBmZmZmZhhoQDMzMzMzEWtAAAAAAAAKbkBmZmZmZoFwQM3MzMzM/XFAMzMzMzN6c0CamZmZmfZ0QAAAAAAAc3ZAZmZmZmbvd0DNzMzMzGt5QDMzMzMz6HpAmpmZmZlkfEAAAAAAAOF9QGZmZmZmXX9AZmZmZuZsgECamZmZGSuBQM3MzMxM6YFAAAAAAICngkAzMzMzs2WDQGZmZmbmI4RAmpmZmRnihEDNzMzMTKCFQAAAAACAXoZAMzMzM7Mch0BmZmZm5tqHQJqZmZkZmYhAzczMzExXiUAAAAAAgBWKQDMzMzOz04pAZmZmZuaRi0CamZmZGVCMQM3MzMxMDo1AAAAAAIDMjUAzMzMzs4qOQGZmZmbmSI9A\",\"dtype\":\"float64\",\"shape\":[75]}},\"selected\":{\"id\":\"b51cbf9e-5483-4171-b99e-93578e195251\",\"type\":\"Selection\"},\"selection_policy\":{\"id\":\"bf3ecab7-d7be-4ab7-aacb-2f2baa393a3d\",\"type\":\"UnionRenderers\"}},\"id\":\"7b5b2fa3-d895-40f3-b0dc-424b786be931\",\"type\":\"ColumnDataSource\"},{\"attributes\":{\"axis_label\":\"cooling rate [K/day]\",\"formatter\":{\"id\":\"06bea78f-b152-44a9-ae3d-9a76a60a4a47\",\"type\":\"BasicTickFormatter\"},\"plot\":{\"id\":\"4e4130ad-e0b0-4ef9-982b-cf39f074ece6\",\"subtype\":\"Figure\",\"type\":\"Plot\"},\"ticker\":{\"id\":\"c1866055-2ee6-41f4-826f-be81bb0290b1\",\"type\":\"BasicTicker\"}},\"id\":\"bb86d7b3-9b0a-4071-b582-b05e51e6ae31\",\"type\":\"LinearAxis\"},{\"attributes\":{\"callback\":null,\"end\":12.208559640608398,\"start\":-0.6009154198884},\"id\":\"a381d576-6123-488a-9346-4e6712e4cc53\",\"type\":\"Range1d\"},{\"attributes\":{\"active_drag\":\"auto\",\"active_inspect\":\"auto\",\"active_scroll\":\"auto\",\"active_tap\":\"auto\",\"tools\":[{\"id\":\"72de172f-22c2-44c6-ab27-7c510a96ac93\",\"type\":\"PanTool\"},{\"id\":\"5c81bea3-bdb4-4cfa-9e57-7ee2aaf0d6d0\",\"type\":\"WheelZoomTool\"},{\"id\":\"e7823102-a4cb-4c9e-8165-c1d84b4e89c7\",\"type\":\"BoxZoomTool\"},{\"id\":\"126c3247-2187-449c-b972-85436d8ad3bd\",\"type\":\"SaveTool\"},{\"id\":\"a8ce1557-76ca-456e-b9d7-8e1cbff343da\",\"type\":\"ResetTool\"},{\"id\":\"26210796-fa45-4ac9-bf5d-9146d4ee033e\",\"type\":\"HelpTool\"}]},\"id\":\"35d22ea0-05b5-496e-9c9e-35dfa9546fcc\",\"type\":\"Toolbar\"},{\"attributes\":{\"dimension\":1,\"plot\":{\"id\":\"4e65c015-70c1-4e13-9130-f7d04a7268aa\",\"subtype\":\"Figure\",\"type\":\"Plot\"},\"ticker\":{\"id\":\"16343114-4c66-4f96-a867-cb7a2967a1c7\",\"type\":\"LogTicker\"}},\"id\":\"36a83f6c-28aa-4857-9bf5-deae5e6f7966\",\"type\":\"Grid\"},{\"attributes\":{\"bottom_units\":\"screen\",\"fill_alpha\":{\"value\":0.5},\"fill_color\":{\"value\":\"lightgrey\"},\"left_units\":\"screen\",\"level\":\"overlay\",\"line_alpha\":{\"value\":1.0},\"line_color\":{\"value\":\"black\"},\"line_dash\":[4,4],\"line_width\":{\"value\":2},\"plot\":null,\"render_mode\":\"css\",\"right_units\":\"screen\",\"top_units\":\"screen\"},\"id\":\"d7443d57-61ac-4583-8e17-698702e454ac\",\"type\":\"BoxAnnotation\"},{\"attributes\":{},\"id\":\"b3724a30-6448-4e20-821c-2d62cfe52fa7\",\"type\":\"PanTool\"},{\"attributes\":{\"num_minor_ticks\":10},\"id\":\"16343114-4c66-4f96-a867-cb7a2967a1c7\",\"type\":\"LogTicker\"},{\"attributes\":{\"data_source\":{\"id\":\"379e4b5e-23c3-4bdc-b3c0-2eaa0475d4e9\",\"type\":\"ColumnDataSource\"},\"glyph\":{\"id\":\"fb5e0ec8-e6ea-43ae-9e23-b7bde1e0a848\",\"type\":\"Line\"},\"hover_glyph\":null,\"muted_glyph\":null,\"nonselection_glyph\":{\"id\":\"bec8a256-7b1b-4262-a48b-ec0c8ac7c589\",\"type\":\"Line\"},\"selection_glyph\":null,\"view\":{\"id\":\"01d07734-01fd-49f3-9c59-8024ab444e18\",\"type\":\"CDSView\"}},\"id\":\"12ccb0ae-9544-47a2-9ac9-d6979b7b75cc\",\"type\":\"GlyphRenderer\"},{\"attributes\":{\"plot\":null,\"text\":\"\"},\"id\":\"b708d208-e730-4ff6-bf8c-4ec341eb8b92\",\"type\":\"Title\"},{\"attributes\":{},\"id\":\"daec870c-09b2-4791-8eee-fb01f232bc61\",\"type\":\"BasicTicker\"},{\"attributes\":{},\"id\":\"9c99e1f8-109b-420d-afef-bce78255c7d1\",\"type\":\"LinearScale\"},{\"attributes\":{\"children\":[{\"id\":\"4e4130ad-e0b0-4ef9-982b-cf39f074ece6\",\"subtype\":\"Figure\",\"type\":\"Plot\"},{\"id\":\"4e65c015-70c1-4e13-9130-f7d04a7268aa\",\"subtype\":\"Figure\",\"type\":\"Plot\"},{\"id\":\"94bde46f-1ea6-4beb-8d56-ee85a9eae83f\",\"subtype\":\"Figure\",\"type\":\"Plot\"}]},\"id\":\"a99de063-c40b-4dad-961b-35d659645524\",\"type\":\"Row\"},{\"attributes\":{\"label\":{\"value\":\"CRD\"},\"renderers\":[{\"id\":\"d9179a32-73f9-4a9c-b6e3-517f8cbc519b\",\"type\":\"GlyphRenderer\"},{\"id\":\"0b2c02f2-33c3-4110-8d63-ff1135d81256\",\"type\":\"GlyphRenderer\"}]},\"id\":\"535d62a7-93a5-44a8-bd39-cc8635b9f9dd\",\"type\":\"LegendItem\"},{\"attributes\":{\"source\":{\"id\":\"3e090859-590d-4c2e-a8e0-cd0b1e8d55a1\",\"type\":\"ColumnDataSource\"}},\"id\":\"d690e36e-72dd-4317-b6b4-67acceaf149e\",\"type\":\"CDSView\"},{\"attributes\":{\"label\":{\"value\":\"CLIRAD (single-run) - CRD\"},\"renderers\":[{\"id\":\"927c1718-957d-4966-968e-97a998d0607a\",\"type\":\"GlyphRenderer\"},{\"id\":\"12ccb0ae-9544-47a2-9ac9-d6979b7b75cc\",\"type\":\"GlyphRenderer\"}]},\"id\":\"007ef3b2-20e4-435c-a317-12b91051cd2e\",\"type\":\"LegendItem\"},{\"attributes\":{\"axis_label\":\"cooling rate [K/day]\",\"formatter\":{\"id\":\"d37a665f-bb31-4cb6-88ad-5cf86244308c\",\"type\":\"BasicTickFormatter\"},\"plot\":{\"id\":\"4e65c015-70c1-4e13-9130-f7d04a7268aa\",\"subtype\":\"Figure\",\"type\":\"Plot\"},\"ticker\":{\"id\":\"5a6e60a6-ce9a-439a-b19e-802febba3c1c\",\"type\":\"BasicTicker\"}},\"id\":\"e5d985e8-3b9a-458c-898b-cbd35f4c5daf\",\"type\":\"LinearAxis\"},{\"attributes\":{},\"id\":\"55b8866b-ac00-48e1-8b60-13d2a14fd1be\",\"type\":\"UnionRenderers\"},{\"attributes\":{},\"id\":\"3dd77e67-6f35-41ed-8582-2f2d2799129c\",\"type\":\"LogScale\"},{\"attributes\":{\"children\":[{\"id\":\"a99de063-c40b-4dad-961b-35d659645524\",\"type\":\"Row\"}]},\"id\":\"89677044-5c0c-4656-a6a4-644c70bf5750\",\"type\":\"Column\"},{\"attributes\":{\"source\":{\"id\":\"379e4b5e-23c3-4bdc-b3c0-2eaa0475d4e9\",\"type\":\"ColumnDataSource\"}},\"id\":\"01d07734-01fd-49f3-9c59-8024ab444e18\",\"type\":\"CDSView\"},{\"attributes\":{\"callback\":null,\"data\":{\"x\":{\"__ndarray__\":\"9A4G/4CERUCVl1gYedJCQBgt277Js0FAME3pQ6EcQECNaUkvARU8QEIDMYaPKTdAs4R4hR7oMUCf5UMt6AIqQDrXH4WMRiJAXGpFj5yZGkA/5VC9gzcVQDVSRDyRAhJApAcOWNuNDUDGfOz/USoDQM5ajO013f4/vslMMHenBUCLqz7pJEEMQLenfHDEnBBAXzG4Cq3fE0BFoJ4p+VEZQFkxhFG0DiFACuqDFCcGJ0Axx+g8Bx4oQKnP8gPTiSRAp6jNy2ctIUC5lBX57GMcQN6vsA+TZxhAq+AlFiw7FEB40Z//UOgPQHOQVhnBYwlAeD3RmoNpBUA52TUCMqoAQNcKKcVBGPU/vFq4rpfX5j9vMgDEfEHSP1EPDbLIRcC/1ZUoTNhr3r+yknhtqhvYv0J21uiBAVe/9V77UAlyxT91FKOLpsPYP+6KugGoy+w/VFqLB77H9j+5Zhje+Oz9PzfMJOZx/gBAzYMC0iGkAUC0EYyXpHkCQHCO6pPolgJAcI+W5C92AUBicmOts/kAQGPOmGor5ABAglAOSgfsAEA4fpMup/0AQE1BOz6aFwFAVanSt4lDAUAUyyyIYYABQDmPHaws0AFAefLPXSkjAkARgFFbyVUCQK9/fq+GawJA4FYKGXl5AkCyqI+NLoECQPNocHxpRQJAxwDNQ03kAkBGG+vNLZ4CQNfloQLPVAJAVRfb4JeZAkDtnooEZE4CQI2tDV7saAJAkdMf7ubvAkAJLw5deqcDQKRizx5wfARAARoKwASLBUCg2psC0ukGQPP2X2gnIw5A\",\"dtype\":\"float64\",\"shape\":[75]},\"y\":{\"__ndarray__\":\"GhExyth1ND/Sv8nbtpRIP2vylNV0PVE/aTum7souWD/At0SJ8fVgPw3Iuahxymc/MSNhhJWvcD/bTfBN02d3P2zb5nxnaoA/CD5h5MAGhz8NmeH1TyaQP+zrCsc9p5Y/LbKd76fGnz/bLW5ISEmmPww9YvTcQq8/JV2OstnstT8Er5Y7M8G+P0c+r3jqkcU/5h99k6ZBzj88bCIzFzjVP4enV8oyxN0//yH99nXg5D8qOpLLf0jtP5kqGJXUifQ/c9cS8kHP/D+/DpwzojQEQIEmwoanVwxA4lgXt9HgE0BSSZ2AJuIbQAMJih9jjiNA5q4l5INuK0AwTKYKRj0zQNv5fmq8/DpAaCJseHrtQkB/+zpwzoxKQM3MzMzMeFJAZmZmZmZqWEAAAAAAAFxeQM3MzMzMJmJAmpmZmZkfZUBmZmZmZhhoQDMzMzMzEWtAAAAAAAAKbkBmZmZmZoFwQM3MzMzM/XFAMzMzMzN6c0CamZmZmfZ0QAAAAAAAc3ZAZmZmZmbvd0DNzMzMzGt5QDMzMzMz6HpAmpmZmZlkfEAAAAAAAOF9QGZmZmZmXX9AZmZmZuZsgECamZmZGSuBQM3MzMxM6YFAAAAAAICngkAzMzMzs2WDQGZmZmbmI4RAmpmZmRnihEDNzMzMTKCFQAAAAACAXoZAMzMzM7Mch0BmZmZm5tqHQJqZmZkZmYhAzczMzExXiUAAAAAAgBWKQDMzMzOz04pAZmZmZuaRi0CamZmZGVCMQM3MzMxMDo1AAAAAAIDMjUAzMzMzs4qOQGZmZmbmSI9A\",\"dtype\":\"float64\",\"shape\":[75]}},\"selected\":{\"id\":\"80da1d0c-14d6-48ae-980e-ab3060f4e89a\",\"type\":\"Selection\"},\"selection_policy\":{\"id\":\"fcdf557a-ea42-4df0-b9ad-8427e309dfbc\",\"type\":\"UnionRenderers\"}},\"id\":\"7862bb42-03b9-4252-9f64-dcf30d23b0ff\",\"type\":\"ColumnDataSource\"},{\"attributes\":{},\"id\":\"4e850b70-b30f-46fa-a9f5-e02e0d3023a8\",\"type\":\"Selection\"},{\"attributes\":{\"callback\":null,\"end\":0.5566264489339079,\"start\":-1.3450024086211074},\"id\":\"92b5c3e6-8d34-461d-8214-724e70c495e3\",\"type\":\"Range1d\"},{\"attributes\":{\"line_alpha\":0.6,\"line_color\":\"#377eb8\",\"line_dash\":[6],\"line_width\":5,\"x\":{\"field\":\"x\"},\"y\":{\"field\":\"y\"}},\"id\":\"8d8dab7b-0d5b-4a7e-8238-65e4d1d6c703\",\"type\":\"Line\"},{\"attributes\":{},\"id\":\"5a6e60a6-ce9a-439a-b19e-802febba3c1c\",\"type\":\"BasicTicker\"},{\"attributes\":{},\"id\":\"2871252c-48c3-40e5-9060-8972e7a9c34e\",\"type\":\"Selection\"},{\"attributes\":{\"line_alpha\":0.1,\"line_color\":\"#1f77b4\",\"line_width\":1.5,\"x\":{\"field\":\"x\"},\"y\":{\"field\":\"y\"}},\"id\":\"bec8a256-7b1b-4262-a48b-ec0c8ac7c589\",\"type\":\"Line\"},{\"attributes\":{\"axis_label\":\"pressure [mb]\",\"formatter\":{\"id\":\"e7d49ff8-c118-4ab0-8bf5-7030234fa537\",\"type\":\"BasicTickFormatter\"},\"plot\":{\"id\":\"4e4130ad-e0b0-4ef9-982b-cf39f074ece6\",\"subtype\":\"Figure\",\"type\":\"Plot\"},\"ticker\":{\"id\":\"daec870c-09b2-4791-8eee-fb01f232bc61\",\"type\":\"BasicTicker\"}},\"id\":\"e5809367-0bd3-4192-9b8c-3f5d65044d1c\",\"type\":\"LinearAxis\"},{\"attributes\":{},\"id\":\"c0011005-ba30-4449-bfc7-e231b0777ee6\",\"type\":\"UnionRenderers\"},{\"attributes\":{\"dimension\":1,\"plot\":{\"id\":\"4e4130ad-e0b0-4ef9-982b-cf39f074ece6\",\"subtype\":\"Figure\",\"type\":\"Plot\"},\"ticker\":{\"id\":\"daec870c-09b2-4791-8eee-fb01f232bc61\",\"type\":\"BasicTicker\"}},\"id\":\"898ed8d2-e99f-482e-86dc-d5eeb7aa0af0\",\"type\":\"Grid\"},{\"attributes\":{\"plot\":{\"id\":\"4e4130ad-e0b0-4ef9-982b-cf39f074ece6\",\"subtype\":\"Figure\",\"type\":\"Plot\"},\"ticker\":{\"id\":\"c1866055-2ee6-41f4-826f-be81bb0290b1\",\"type\":\"BasicTicker\"}},\"id\":\"e9b1d0d5-5f66-40b6-8d77-73bdbc7f9f3c\",\"type\":\"Grid\"},{\"attributes\":{\"label\":{\"value\":\"CLIRAD (single-run)\"},\"renderers\":[{\"id\":\"3f541aa8-bb7a-4a7f-bdeb-de339f38421c\",\"type\":\"GlyphRenderer\"}]},\"id\":\"81871763-1e37-41ea-a5af-ee09e808bba0\",\"type\":\"LegendItem\"},{\"attributes\":{\"callback\":null,\"data\":{\"x\":{\"__ndarray__\":\"R/KIaN7AVEClCeJMyPNGQOvRhpxr30JAptxzhxx4PkA7SssMElA4QK6Bp3CyUDNAsVXpjES9LkBFhUV0+5coQMHYwqbbySNA6f09nM3nH0CaSd/3eYoZQDmgiAOW8BNAPYqARh3eDEBkm4vCgvr+P9D+5tWhQfY/P8DwKRnSAkBq38kb17ILQDT7IWuSsxFAUr2Rjm0FFkAinq3s9XgbQGCHwtYcqSFAG64kT303J0C7dRDneyooQD9JYrbK8yRA9S3bneHhIUAIymSuUMMcQIkHLe6VEBdAAau3cITREkA6CiNvkQIPQJU39ki7IQlAaAvwok1UA0BXLQiS4+L7P0xzDpJ2hPI/NNuPGMbJ5z91mUVYxqfSPxqwUPSxZca/G11peifD3L8QzNj5t2jTvwzOozTL360/SPJ4VI1VzD9KJ0nXEIncP8yDdlvHt+4/Et49nYLW9z++2teD4Jn+P+568eH/bwFALf5D9lmAAkCiZAicVOkCQPPT4jNKxwJAOjp3wTzBAUBSQsKNGisBQG4OmjqJwQBAJ3sZoHFuAEA5Ar0Sdi0AQGy4rw5+9f8/7W4nSrC3/z8mPr8zj4T/P4UYRHCQS/8/embVKYcF/z+5YXG+LLP+P/qb8BVUgf4/KvafTtyO/j/avAK1Ppv+PwJV9VVm2P0/JFtYlU/n/D9sN+q2fiX6Pw44e41PNPc/Opt+Z/wN9T+x3vcSW1vzP9ofvWQJlvI/8sciQQBW8j80sfkQa17yPzg5qng2r/I/Oh14WJBh8z+VZjnpctj0P6CcrSuCqQBA\",\"dtype\":\"float64\",\"shape\":[75]},\"y\":{\"__ndarray__\":\"GhExyth1ND/Sv8nbtpRIP2vylNV0PVE/aTum7souWD/At0SJ8fVgPw3Iuahxymc/MSNhhJWvcD/bTfBN02d3P2zb5nxnaoA/CD5h5MAGhz8NmeH1TyaQP+zrCsc9p5Y/LbKd76fGnz/bLW5ISEmmPww9YvTcQq8/JV2OstnstT8Er5Y7M8G+P0c+r3jqkcU/5h99k6ZBzj88bCIzFzjVP4enV8oyxN0//yH99nXg5D8qOpLLf0jtP5kqGJXUifQ/c9cS8kHP/D+/DpwzojQEQIEmwoanVwxA4lgXt9HgE0BSSZ2AJuIbQAMJih9jjiNA5q4l5INuK0AwTKYKRj0zQNv5fmq8/DpAaCJseHrtQkB/+zpwzoxKQM3MzMzMeFJAZmZmZmZqWEAAAAAAAFxeQM3MzMzMJmJAmpmZmZkfZUBmZmZmZhhoQDMzMzMzEWtAAAAAAAAKbkBmZmZmZoFwQM3MzMzM/XFAMzMzMzN6c0CamZmZmfZ0QAAAAAAAc3ZAZmZmZmbvd0DNzMzMzGt5QDMzMzMz6HpAmpmZmZlkfEAAAAAAAOF9QGZmZmZmXX9AZmZmZuZsgECamZmZGSuBQM3MzMxM6YFAAAAAAICngkAzMzMzs2WDQGZmZmbmI4RAmpmZmRnihEDNzMzMTKCFQAAAAACAXoZAMzMzM7Mch0BmZmZm5tqHQJqZmZkZmYhAzczMzExXiUAAAAAAgBWKQDMzMzOz04pAZmZmZuaRi0CamZmZGVCMQM3MzMxMDo1AAAAAAIDMjUAzMzMzs4qOQGZmZmbmSI9A\",\"dtype\":\"float64\",\"shape\":[75]}},\"selected\":{\"id\":\"4e850b70-b30f-46fa-a9f5-e02e0d3023a8\",\"type\":\"Selection\"},\"selection_policy\":{\"id\":\"55b8866b-ac00-48e1-8b60-13d2a14fd1be\",\"type\":\"UnionRenderers\"}},\"id\":\"e69b1e18-6f6e-458f-ad67-02b308269de6\",\"type\":\"ColumnDataSource\"},{\"attributes\":{\"above\":[{\"id\":\"5e378dd8-4cdb-42e0-bded-d6a3f71a53ef\",\"type\":\"Legend\"}],\"below\":[{\"id\":\"bb86d7b3-9b0a-4071-b582-b05e51e6ae31\",\"type\":\"LinearAxis\"}],\"left\":[{\"id\":\"e5809367-0bd3-4192-9b8c-3f5d65044d1c\",\"type\":\"LinearAxis\"}],\"plot_width\":300,\"renderers\":[{\"id\":\"bb86d7b3-9b0a-4071-b582-b05e51e6ae31\",\"type\":\"LinearAxis\"},{\"id\":\"e9b1d0d5-5f66-40b6-8d77-73bdbc7f9f3c\",\"type\":\"Grid\"},{\"id\":\"e5809367-0bd3-4192-9b8c-3f5d65044d1c\",\"type\":\"LinearAxis\"},{\"id\":\"898ed8d2-e99f-482e-86dc-d5eeb7aa0af0\",\"type\":\"Grid\"},{\"id\":\"0f5b9d07-1935-46d1-872d-10d98ed0bf12\",\"type\":\"BoxAnnotation\"},{\"id\":\"873ddf7b-99f6-45d6-90ee-1c8c817fbe7e\",\"type\":\"GlyphRenderer\"},{\"id\":\"7c2bac96-9b78-4abf-8227-836180854bb5\",\"type\":\"GlyphRenderer\"},{\"id\":\"8717002c-286b-4fac-a4bd-22367949248b\",\"type\":\"GlyphRenderer\"},{\"id\":\"5e378dd8-4cdb-42e0-bded-d6a3f71a53ef\",\"type\":\"Legend\"}],\"title\":{\"id\":\"b708d208-e730-4ff6-bf8c-4ec341eb8b92\",\"type\":\"Title\"},\"toolbar\":{\"id\":\"9463e065-c7b7-44ef-ae8e-d5a73724b84c\",\"type\":\"Toolbar\"},\"toolbar_location\":null,\"x_range\":{\"id\":\"eaded319-7a0d-4af3-aadc-14b5932282d5\",\"type\":\"Range1d\"},\"x_scale\":{\"id\":\"9e66caf5-6e81-4b39-87df-2767b7469bc9\",\"type\":\"LinearScale\"},\"y_range\":{\"id\":\"25ede5d6-185b-454c-bddf-6a8bfde6e317\",\"type\":\"Range1d\"},\"y_scale\":{\"id\":\"69663d64-ba6b-478e-8724-57f041482a04\",\"type\":\"LinearScale\"}},\"id\":\"4e4130ad-e0b0-4ef9-982b-cf39f074ece6\",\"subtype\":\"Figure\",\"type\":\"Plot\"},{\"attributes\":{\"line_alpha\":0.1,\"line_color\":\"#1f77b4\",\"line_dash\":[6],\"line_width\":5,\"x\":{\"field\":\"x\"},\"y\":{\"field\":\"y\"}},\"id\":\"4a33bb1f-286f-45a9-bd64-8e049c7becce\",\"type\":\"Line\"},{\"attributes\":{},\"id\":\"e7d49ff8-c118-4ab0-8bf5-7030234fa537\",\"type\":\"BasicTickFormatter\"},{\"attributes\":{\"callback\":null,\"end\":3.8095899813906007,\"start\":-0.5177573044506},\"id\":\"eaded319-7a0d-4af3-aadc-14b5932282d5\",\"type\":\"Range1d\"},{\"attributes\":{\"children\":[{\"id\":\"183aa438-297f-40e4-9e59-1ac332341a1f\",\"type\":\"ToolbarBox\"},{\"id\":\"89677044-5c0c-4656-a6a4-644c70bf5750\",\"type\":\"Column\"}]},\"id\":\"f2008037-98a4-4b84-8104-2d9487987199\",\"type\":\"Column\"},{\"attributes\":{\"bottom_units\":\"screen\",\"fill_alpha\":{\"value\":0.5},\"fill_color\":{\"value\":\"lightgrey\"},\"left_units\":\"screen\",\"level\":\"overlay\",\"line_alpha\":{\"value\":1.0},\"line_color\":{\"value\":\"black\"},\"line_dash\":[4,4],\"line_width\":{\"value\":2},\"plot\":null,\"render_mode\":\"css\",\"right_units\":\"screen\",\"top_units\":\"screen\"},\"id\":\"0f5b9d07-1935-46d1-872d-10d98ed0bf12\",\"type\":\"BoxAnnotation\"},{\"attributes\":{\"plot\":null,\"text\":\"\"},\"id\":\"153456cb-d248-4f54-a5d2-d5ad847408d6\",\"type\":\"Title\"},{\"attributes\":{},\"id\":\"3123e43c-c3a2-4fd6-9f8b-88a2556ce04a\",\"type\":\"BasicTickFormatter\"},{\"attributes\":{},\"id\":\"08fc548d-aefd-44d8-baa8-fc532e5f2c4d\",\"type\":\"UnionRenderers\"},{\"attributes\":{\"axis_label\":\"pressure [mb]\",\"formatter\":{\"id\":\"20a2f6e0-c000-45fa-acf7-448e966890eb\",\"type\":\"LogTickFormatter\"},\"plot\":{\"id\":\"4e65c015-70c1-4e13-9130-f7d04a7268aa\",\"subtype\":\"Figure\",\"type\":\"Plot\"},\"ticker\":{\"id\":\"16343114-4c66-4f96-a867-cb7a2967a1c7\",\"type\":\"LogTicker\"}},\"id\":\"e20d85a7-4028-4aa8-8dbd-f7adbcb30fea\",\"type\":\"LogAxis\"},{\"attributes\":{\"line_alpha\":0.8,\"line_color\":\"#984ea3\",\"line_width\":1.5,\"x\":{\"field\":\"x\"},\"y\":{\"field\":\"y\"}},\"id\":\"fb5e0ec8-e6ea-43ae-9e23-b7bde1e0a848\",\"type\":\"Line\"},{\"attributes\":{\"overlay\":{\"id\":\"0f5b9d07-1935-46d1-872d-10d98ed0bf12\",\"type\":\"BoxAnnotation\"}},\"id\":\"c0a82b6f-64f1-48c4-90c2-fa4dd4da8bd9\",\"type\":\"BoxZoomTool\"},{\"attributes\":{},\"id\":\"85195c92-9462-4c48-95d4-9bd6a054ef1f\",\"type\":\"Selection\"},{\"attributes\":{},\"id\":\"69663d64-ba6b-478e-8724-57f041482a04\",\"type\":\"LinearScale\"},{\"attributes\":{},\"id\":\"184640d8-2274-45bb-a497-ebd8847c6c60\",\"type\":\"SaveTool\"},{\"attributes\":{},\"id\":\"2a0ce7e7-7eeb-49e2-a645-10612b68c099\",\"type\":\"UnionRenderers\"},{\"attributes\":{\"ticker\":null},\"id\":\"dfae9934-86b5-40c2-adb7-383d599db1f9\",\"type\":\"LogTickFormatter\"},{\"attributes\":{},\"id\":\"b51cbf9e-5483-4171-b99e-93578e195251\",\"type\":\"Selection\"},{\"attributes\":{\"toolbar\":{\"id\":\"44b7b9d9-dfa8-49a8-9b50-1efa430bf17c\",\"type\":\"ProxyToolbar\"},\"toolbar_location\":\"above\"},\"id\":\"183aa438-297f-40e4-9e59-1ac332341a1f\",\"type\":\"ToolbarBox\"},{\"attributes\":{},\"id\":\"1c416e0c-1315-4095-8967-8d2d9c3565c6\",\"type\":\"ResetTool\"},{\"attributes\":{},\"id\":\"c1866055-2ee6-41f4-826f-be81bb0290b1\",\"type\":\"BasicTicker\"},{\"attributes\":{\"items\":[{\"id\":\"e83dddfe-b6d1-4ddb-90b8-78dfcbb8d891\",\"type\":\"LegendItem\"},{\"id\":\"66c9e841-1ec4-438f-aded-4f297133ded3\",\"type\":\"LegendItem\"}],\"label_text_font_size\":{\"value\":\"8pt\"},\"location\":\"top_center\",\"orientation\":\"horizontal\",\"plot\":{\"id\":\"4e4130ad-e0b0-4ef9-982b-cf39f074ece6\",\"subtype\":\"Figure\",\"type\":\"Plot\"}},\"id\":\"5e378dd8-4cdb-42e0-bded-d6a3f71a53ef\",\"type\":\"Legend\"},{\"attributes\":{},\"id\":\"ae859201-13f2-4685-a040-08380b1c3b5f\",\"type\":\"HelpTool\"},{\"attributes\":{},\"id\":\"9e66caf5-6e81-4b39-87df-2767b7469bc9\",\"type\":\"LinearScale\"},{\"attributes\":{},\"id\":\"5412cd58-13d1-4edd-80b2-62603185d774\",\"type\":\"Selection\"},{\"attributes\":{\"plot\":{\"id\":\"4e65c015-70c1-4e13-9130-f7d04a7268aa\",\"subtype\":\"Figure\",\"type\":\"Plot\"},\"ticker\":{\"id\":\"5a6e60a6-ce9a-439a-b19e-802febba3c1c\",\"type\":\"BasicTicker\"}},\"id\":\"98551d2a-26d9-4b8c-9df0-8ec98e81f2f4\",\"type\":\"Grid\"},{\"attributes\":{},\"id\":\"bf3ecab7-d7be-4ab7-aacb-2f2baa393a3d\",\"type\":\"UnionRenderers\"},{\"attributes\":{\"fill_alpha\":{\"value\":0.1},\"fill_color\":{\"value\":\"#1f77b4\"},\"line_alpha\":{\"value\":0.1},\"line_color\":{\"value\":\"#1f77b4\"},\"x\":{\"field\":\"x\"},\"y\":{\"field\":\"y\"}},\"id\":\"b0b4714c-b577-4dfa-b07e-bd291adb2a38\",\"type\":\"Circle\"},{\"attributes\":{\"tools\":[{\"id\":\"b3724a30-6448-4e20-821c-2d62cfe52fa7\",\"type\":\"PanTool\"},{\"id\":\"ac279849-49e8-41c2-8ad8-730fd7be040b\",\"type\":\"WheelZoomTool\"},{\"id\":\"c0a82b6f-64f1-48c4-90c2-fa4dd4da8bd9\",\"type\":\"BoxZoomTool\"},{\"id\":\"184640d8-2274-45bb-a497-ebd8847c6c60\",\"type\":\"SaveTool\"},{\"id\":\"1c416e0c-1315-4095-8967-8d2d9c3565c6\",\"type\":\"ResetTool\"},{\"id\":\"ae859201-13f2-4685-a040-08380b1c3b5f\",\"type\":\"HelpTool\"},{\"id\":\"91206f1d-fb02-4621-b37f-d1cd12f2a841\",\"type\":\"PanTool\"},{\"id\":\"cad842d7-2775-47dd-b3dc-56faef1dbda2\",\"type\":\"WheelZoomTool\"},{\"id\":\"702fdf65-b4f0-4655-8a24-9200bcb60941\",\"type\":\"BoxZoomTool\"},{\"id\":\"5676e1f9-54ff-4345-9d83-1125846f1197\",\"type\":\"SaveTool\"},{\"id\":\"d2dda166-ad1c-4048-be90-bb53f6b17afe\",\"type\":\"ResetTool\"},{\"id\":\"417d6caa-ffe9-4d64-8f09-8277d81224df\",\"type\":\"HelpTool\"},{\"id\":\"72de172f-22c2-44c6-ab27-7c510a96ac93\",\"type\":\"PanTool\"},{\"id\":\"5c81bea3-bdb4-4cfa-9e57-7ee2aaf0d6d0\",\"type\":\"WheelZoomTool\"},{\"id\":\"e7823102-a4cb-4c9e-8165-c1d84b4e89c7\",\"type\":\"BoxZoomTool\"},{\"id\":\"126c3247-2187-449c-b972-85436d8ad3bd\",\"type\":\"SaveTool\"},{\"id\":\"a8ce1557-76ca-456e-b9d7-8e1cbff343da\",\"type\":\"ResetTool\"},{\"id\":\"26210796-fa45-4ac9-bf5d-9146d4ee033e\",\"type\":\"HelpTool\"}]},\"id\":\"44b7b9d9-dfa8-49a8-9b50-1efa430bf17c\",\"type\":\"ProxyToolbar\"}],\"root_ids\":[\"f2008037-98a4-4b84-8104-2d9487987199\"]},\"title\":\"Bokeh Application\",\"version\":\"0.12.16\"}};\n",
       "  var render_items = [{\"docid\":\"8a6ef5a1-98c5-4d6f-9ed2-523b7b9fa8b5\",\"elementid\":\"235621e8-82f0-45fe-a920-b292928eb39b\",\"modelid\":\"f2008037-98a4-4b84-8104-2d9487987199\"}];\n",
       "  root.Bokeh.embed.embed_items_notebook(docs_json, render_items);\n",
       "\n",
       "  }\n",
       "  if (root.Bokeh !== undefined) {\n",
       "    embed_document(root);\n",
       "  } else {\n",
       "    var attempts = 0;\n",
       "    var timer = setInterval(function(root) {\n",
       "      if (root.Bokeh !== undefined) {\n",
       "        embed_document(root);\n",
       "        clearInterval(timer);\n",
       "      }\n",
       "      attempts++;\n",
       "      if (attempts > 100) {\n",
       "        console.log(\"Bokeh: ERROR: Unable to run BokehJS code because BokehJS library is missing\")\n",
       "        clearInterval(timer);\n",
       "      }\n",
       "    }, 10, root)\n",
       "  }\n",
       "})(window);"
      ],
      "application/vnd.bokehjs_exec.v0+json": ""
     },
     "metadata": {
      "application/vnd.bokehjs_exec.v0+json": {
       "id": "f2008037-98a4-4b84-8104-2d9487987199"
      }
     },
     "output_type": "display_data"
    },
    {
     "data": {
      "text/markdown": [
       "*FIGURE.* Cooling rates & difference."
      ],
      "text/plain": [
       "<IPython.core.display.Markdown object>"
      ]
     },
     "metadata": {},
     "output_type": "display_data"
    },
    {
     "data": {
      "text/html": [
       "<a id=\"Fluxes._trp.\"></a>"
      ],
      "text/plain": [
       "<IPython.core.display.HTML object>"
      ]
     },
     "metadata": {},
     "output_type": "display_data"
    },
    {
     "data": {
      "text/markdown": [
       "# Fluxes. trp."
      ],
      "text/plain": [
       "<IPython.core.display.Markdown object>"
      ]
     },
     "metadata": {},
     "output_type": "display_data"
    },
    {
     "data": {
      "text/html": [
       "\n",
       "<div class=\"bk-root\">\n",
       "    <div class=\"bk-plotdiv\" id=\"5a44fcd4-f63f-44b5-8d95-602a3b40bf08\"></div>\n",
       "</div>"
      ]
     },
     "metadata": {},
     "output_type": "display_data"
    },
    {
     "data": {
      "application/javascript": [
       "(function(root) {\n",
       "  function embed_document(root) {\n",
       "    \n",
       "  var docs_json = {\"7b5583e7-e899-49dc-be7e-478d15da685a\":{\"roots\":{\"references\":[{\"attributes\":{},\"id\":\"494a9220-b946-4de6-98ad-109e3348ba4b\",\"type\":\"HelpTool\"},{\"attributes\":{},\"id\":\"74c869e4-d450-4b46-b90a-c7b9038f4dbd\",\"type\":\"PanTool\"},{\"attributes\":{},\"id\":\"581c332c-2fed-4c88-8e47-03f0a56f2232\",\"type\":\"HelpTool\"},{\"attributes\":{\"fill_color\":{\"value\":\"#1f77b4\"},\"line_color\":{\"value\":\"#1f77b4\"},\"top\":{\"field\":\"flux\"},\"width\":{\"value\":0.9},\"x\":{\"field\":\"band\"}},\"id\":\"cdb986b6-95a9-46b7-a761-c4dc1487d039\",\"type\":\"VBar\"},{\"attributes\":{},\"id\":\"05f5cc22-1077-4dcd-b4b0-c96e5a1fd2a7\",\"type\":\"SaveTool\"},{\"attributes\":{},\"id\":\"f54ae6fc-a9c6-42a8-86d3-73db87304a08\",\"type\":\"Selection\"},{\"attributes\":{},\"id\":\"fb63629b-23aa-4ec8-b8f5-1a4ebe882826\",\"type\":\"CategoricalTicker\"},{\"attributes\":{\"below\":[{\"id\":\"7c48603b-6a8c-49a0-aa2f-194d59038f29\",\"type\":\"CategoricalAxis\"}],\"left\":[{\"id\":\"cd372c6e-37cb-4d73-ba18-51bae50a0d73\",\"type\":\"LinearAxis\"}],\"plot_height\":300,\"plot_width\":300,\"renderers\":[{\"id\":\"7c48603b-6a8c-49a0-aa2f-194d59038f29\",\"type\":\"CategoricalAxis\"},{\"id\":\"3e0c98b7-62d5-451a-8a75-3bd62756e1fe\",\"type\":\"Grid\"},{\"id\":\"cd372c6e-37cb-4d73-ba18-51bae50a0d73\",\"type\":\"LinearAxis\"},{\"id\":\"d5334f3c-0b17-4e05-8ba8-4edef587a632\",\"type\":\"Grid\"},{\"id\":\"1f67a158-f54f-4483-ac5d-80d3d9d2a915\",\"type\":\"BoxAnnotation\"},{\"id\":\"afc438c3-2a47-42c3-8b6e-bd40262981a4\",\"type\":\"GlyphRenderer\"}],\"title\":{\"id\":\"87d464f1-1033-402d-b8ea-34fefdbbd336\",\"type\":\"Title\"},\"toolbar\":{\"id\":\"fa3953c1-8a08-4baa-89e6-3e605d581803\",\"type\":\"Toolbar\"},\"toolbar_location\":null,\"x_range\":{\"id\":\"31d4bf78-f361-4678-a4ac-5aa7c5787d2e\",\"type\":\"FactorRange\"},\"x_scale\":{\"id\":\"bc45d4cf-1ae1-458b-90b9-368eed4179c2\",\"type\":\"CategoricalScale\"},\"y_range\":{\"id\":\"beb70559-1b18-40ad-8f2d-38f918a6ceb6\",\"type\":\"DataRange1d\"},\"y_scale\":{\"id\":\"0532a7a4-87fc-4eec-ab7a-0e147e89e92b\",\"type\":\"LinearScale\"}},\"id\":\"40dc148d-0f79-4375-b0c1-5cf7bace2aad\",\"subtype\":\"Figure\",\"type\":\"Plot\"},{\"attributes\":{\"fill_color\":{\"value\":\"#1f77b4\"},\"line_color\":{\"value\":\"#1f77b4\"},\"top\":{\"field\":\"flux\"},\"width\":{\"value\":0.9},\"x\":{\"field\":\"band\"}},\"id\":\"f0d34b5e-76ec-4bf5-8ba1-70dd46f5b26c\",\"type\":\"VBar\"},{\"attributes\":{\"fill_color\":{\"value\":\"#1f77b4\"},\"line_color\":{\"value\":\"#1f77b4\"},\"top\":{\"field\":\"flux\"},\"width\":{\"value\":0.9},\"x\":{\"field\":\"band\"}},\"id\":\"7ee387fb-8c72-415f-9186-c677237cb1fc\",\"type\":\"VBar\"},{\"attributes\":{\"callback\":null,\"data\":{\"band\":[\"1\",\"2\",\"3\",\"4\",\"5\",\"6\",\"7\",\"8\",\"9\",\"10\",\"11\"],\"flux\":{\"__ndarray__\":\"ANIJHUsKzT9AOSlpUWHmP8CYh8jALOS/QN3v7eks3j8UfeMQFiodwBzJ5T+kyzvA+GTFcHWQH8CUrIpwkxEQwFAs3+mEBvS/wG+hI6BfwD9Ab6jOWVWpPw==\",\"dtype\":\"float64\",\"shape\":[11]}},\"selected\":{\"id\":\"f54ae6fc-a9c6-42a8-86d3-73db87304a08\",\"type\":\"Selection\"},\"selection_policy\":{\"id\":\"15512866-158c-47a2-8665-040d9a2f972d\",\"type\":\"UnionRenderers\"}},\"id\":\"3c7e1eec-13f3-49f4-802b-41dca6dd92e1\",\"type\":\"ColumnDataSource\"},{\"attributes\":{},\"id\":\"0809a2e9-a7ee-4b08-a12d-949c3868aad7\",\"type\":\"PanTool\"},{\"attributes\":{\"children\":[{\"id\":\"8cfe92db-6f63-49d9-b7ea-3f14dc0d6c1e\",\"type\":\"Row\"}]},\"id\":\"21b9c088-bb7b-406b-b889-3f8cb99f88d2\",\"type\":\"Column\"},{\"attributes\":{\"axis_label\":\"spectral band\",\"formatter\":{\"id\":\"45569db5-ad3d-4e3f-bf96-4a26f2fa21c5\",\"type\":\"CategoricalTickFormatter\"},\"plot\":{\"id\":\"62305396-19e4-4e94-a38c-84de8fc5d281\",\"subtype\":\"Figure\",\"type\":\"Plot\"},\"ticker\":{\"id\":\"c80f9ed8-c884-4b24-8b5c-79ff1d337c23\",\"type\":\"CategoricalTicker\"}},\"id\":\"d6de5c13-0675-4f7e-b97e-c38996ae4929\",\"type\":\"CategoricalAxis\"},{\"attributes\":{},\"id\":\"875d6332-f912-47cd-bda0-ae8a1b877b38\",\"type\":\"LinearScale\"},{\"attributes\":{\"axis_label\":\"flux (W m-2)\",\"formatter\":{\"id\":\"86c636a2-9374-4f4d-99ce-aec600536ec6\",\"type\":\"BasicTickFormatter\"},\"plot\":{\"id\":\"40cc8139-4a44-47ef-819c-7d9848397ff6\",\"subtype\":\"Figure\",\"type\":\"Plot\"},\"ticker\":{\"id\":\"978251a6-d5c4-42d4-b358-7e5e8465cdf7\",\"type\":\"BasicTicker\"}},\"id\":\"a675409e-e981-49bb-a8e0-da3f55784e10\",\"type\":\"LinearAxis\"},{\"attributes\":{\"overlay\":{\"id\":\"c7f3f174-26be-4ed3-984a-a6ddfec708c1\",\"type\":\"BoxAnnotation\"}},\"id\":\"6e36c8ef-f9f9-4da3-9fd3-28618fad0491\",\"type\":\"BoxZoomTool\"},{\"attributes\":{},\"id\":\"519997b8-4a15-4b66-badc-227549d5b298\",\"type\":\"WheelZoomTool\"},{\"attributes\":{\"bottom_units\":\"screen\",\"fill_alpha\":{\"value\":0.5},\"fill_color\":{\"value\":\"lightgrey\"},\"left_units\":\"screen\",\"level\":\"overlay\",\"line_alpha\":{\"value\":1.0},\"line_color\":{\"value\":\"black\"},\"line_dash\":[4,4],\"line_width\":{\"value\":2},\"plot\":null,\"render_mode\":\"css\",\"right_units\":\"screen\",\"top_units\":\"screen\"},\"id\":\"e36e1337-bdba-4f2e-ab82-d8242de75da2\",\"type\":\"BoxAnnotation\"},{\"attributes\":{\"plot\":{\"id\":\"62305396-19e4-4e94-a38c-84de8fc5d281\",\"subtype\":\"Figure\",\"type\":\"Plot\"},\"ticker\":{\"id\":\"c80f9ed8-c884-4b24-8b5c-79ff1d337c23\",\"type\":\"CategoricalTicker\"}},\"id\":\"9c0e3098-7683-4d57-a0da-7c125be18ee2\",\"type\":\"Grid\"},{\"attributes\":{\"dimension\":1,\"plot\":{\"id\":\"62305396-19e4-4e94-a38c-84de8fc5d281\",\"subtype\":\"Figure\",\"type\":\"Plot\"},\"ticker\":{\"id\":\"e27cb0f4-32f5-4df9-9f8c-7e47baa27909\",\"type\":\"BasicTicker\"}},\"id\":\"7d952daf-8bd7-4863-8e3e-a27ba2edcfde\",\"type\":\"Grid\"},{\"attributes\":{\"overlay\":{\"id\":\"1f67a158-f54f-4483-ac5d-80d3d9d2a915\",\"type\":\"BoxAnnotation\"}},\"id\":\"ab1e8517-793e-4a61-aefe-9d57290e03e0\",\"type\":\"BoxZoomTool\"},{\"attributes\":{\"data_source\":{\"id\":\"6b5ae685-13ac-448f-be09-c731d3dc04ee\",\"type\":\"ColumnDataSource\"},\"glyph\":{\"id\":\"f0d34b5e-76ec-4bf5-8ba1-70dd46f5b26c\",\"type\":\"VBar\"},\"hover_glyph\":null,\"muted_glyph\":null,\"nonselection_glyph\":{\"id\":\"f5647a9b-f828-4835-a9c4-de57e6c925e0\",\"type\":\"VBar\"},\"selection_glyph\":null,\"view\":{\"id\":\"973edd4e-aca0-4195-8bec-190b3f2de363\",\"type\":\"CDSView\"}},\"id\":\"4a0ba6df-0f8b-47f7-b76d-7bd031237743\",\"type\":\"GlyphRenderer\"},{\"attributes\":{},\"id\":\"978251a6-d5c4-42d4-b358-7e5e8465cdf7\",\"type\":\"BasicTicker\"},{\"attributes\":{},\"id\":\"a6e47416-0da4-4383-8b31-960df2000d63\",\"type\":\"SaveTool\"},{\"attributes\":{},\"id\":\"2c5e104a-8ac9-4b15-acf6-c4f90ef2922c\",\"type\":\"BasicTickFormatter\"},{\"attributes\":{},\"id\":\"22b96ee0-2aeb-4bb5-a55d-737e83c2dd36\",\"type\":\"ResetTool\"},{\"attributes\":{\"dimension\":1,\"plot\":{\"id\":\"40dc148d-0f79-4375-b0c1-5cf7bace2aad\",\"subtype\":\"Figure\",\"type\":\"Plot\"},\"ticker\":{\"id\":\"e2d25c65-b184-49c3-a1d1-261d2658b2a4\",\"type\":\"BasicTicker\"}},\"id\":\"d5334f3c-0b17-4e05-8ba8-4edef587a632\",\"type\":\"Grid\"},{\"attributes\":{\"plot\":{\"id\":\"40cc8139-4a44-47ef-819c-7d9848397ff6\",\"subtype\":\"Figure\",\"type\":\"Plot\"},\"ticker\":{\"id\":\"7817c759-d95c-4600-bd78-65ea842c12ce\",\"type\":\"CategoricalTicker\"}},\"id\":\"102c6d79-a22f-4185-baa2-95bda47e05f6\",\"type\":\"Grid\"},{\"attributes\":{\"axis_label\":\"flux (W m-2)\",\"formatter\":{\"id\":\"27ff430a-7f9f-4a9f-9935-6a39b4b44525\",\"type\":\"BasicTickFormatter\"},\"plot\":{\"id\":\"62305396-19e4-4e94-a38c-84de8fc5d281\",\"subtype\":\"Figure\",\"type\":\"Plot\"},\"ticker\":{\"id\":\"e27cb0f4-32f5-4df9-9f8c-7e47baa27909\",\"type\":\"BasicTicker\"}},\"id\":\"bde7b1d0-abde-4e06-b2f6-a66f94f1e427\",\"type\":\"LinearAxis\"},{\"attributes\":{\"axis_label\":\"spectral band\",\"formatter\":{\"id\":\"0303b90d-4a44-4a04-a6e8-09a541ddf090\",\"type\":\"CategoricalTickFormatter\"},\"plot\":{\"id\":\"40cc8139-4a44-47ef-819c-7d9848397ff6\",\"subtype\":\"Figure\",\"type\":\"Plot\"},\"ticker\":{\"id\":\"7817c759-d95c-4600-bd78-65ea842c12ce\",\"type\":\"CategoricalTicker\"}},\"id\":\"a36d457d-5269-4f16-930c-4143a1dfe502\",\"type\":\"CategoricalAxis\"},{\"attributes\":{\"axis_label\":\"flux (W m-2)\",\"formatter\":{\"id\":\"2c5e104a-8ac9-4b15-acf6-c4f90ef2922c\",\"type\":\"BasicTickFormatter\"},\"plot\":{\"id\":\"40dc148d-0f79-4375-b0c1-5cf7bace2aad\",\"subtype\":\"Figure\",\"type\":\"Plot\"},\"ticker\":{\"id\":\"e2d25c65-b184-49c3-a1d1-261d2658b2a4\",\"type\":\"BasicTicker\"}},\"id\":\"cd372c6e-37cb-4d73-ba18-51bae50a0d73\",\"type\":\"LinearAxis\"},{\"attributes\":{\"source\":{\"id\":\"6b5ae685-13ac-448f-be09-c731d3dc04ee\",\"type\":\"ColumnDataSource\"}},\"id\":\"973edd4e-aca0-4195-8bec-190b3f2de363\",\"type\":\"CDSView\"},{\"attributes\":{},\"id\":\"7817c759-d95c-4600-bd78-65ea842c12ce\",\"type\":\"CategoricalTicker\"},{\"attributes\":{\"source\":{\"id\":\"54c13086-ba76-424e-8c13-faf8bc560764\",\"type\":\"ColumnDataSource\"}},\"id\":\"b35fa3d4-c8b4-491f-97a3-4a8fee27204e\",\"type\":\"CDSView\"},{\"attributes\":{},\"id\":\"e2d25c65-b184-49c3-a1d1-261d2658b2a4\",\"type\":\"BasicTicker\"},{\"attributes\":{},\"id\":\"c7cd25c2-b797-4d7a-904d-a1bd063fe515\",\"type\":\"CategoricalScale\"},{\"attributes\":{},\"id\":\"943e542d-7565-4074-901e-7db55fcfc30e\",\"type\":\"LinearScale\"},{\"attributes\":{},\"id\":\"c80f9ed8-c884-4b24-8b5c-79ff1d337c23\",\"type\":\"CategoricalTicker\"},{\"attributes\":{},\"id\":\"16ffc7e4-140c-400b-a1a5-c36c3122d79f\",\"type\":\"CategoricalTickFormatter\"},{\"attributes\":{},\"id\":\"c6c520c9-e0b8-4867-bd97-8d2e41ff3fa1\",\"type\":\"WheelZoomTool\"},{\"attributes\":{\"fill_alpha\":{\"value\":0.1},\"fill_color\":{\"value\":\"#1f77b4\"},\"line_alpha\":{\"value\":0.1},\"line_color\":{\"value\":\"#1f77b4\"},\"top\":{\"field\":\"flux\"},\"width\":{\"value\":0.9},\"x\":{\"field\":\"band\"}},\"id\":\"f5647a9b-f828-4835-a9c4-de57e6c925e0\",\"type\":\"VBar\"},{\"attributes\":{\"axis_label\":\"spectral band\",\"formatter\":{\"id\":\"16ffc7e4-140c-400b-a1a5-c36c3122d79f\",\"type\":\"CategoricalTickFormatter\"},\"plot\":{\"id\":\"40dc148d-0f79-4375-b0c1-5cf7bace2aad\",\"subtype\":\"Figure\",\"type\":\"Plot\"},\"ticker\":{\"id\":\"fb63629b-23aa-4ec8-b8f5-1a4ebe882826\",\"type\":\"CategoricalTicker\"}},\"id\":\"7c48603b-6a8c-49a0-aa2f-194d59038f29\",\"type\":\"CategoricalAxis\"},{\"attributes\":{},\"id\":\"b4f19b61-3910-41a2-8ea3-4b792b8b2555\",\"type\":\"PanTool\"},{\"attributes\":{},\"id\":\"bc45d4cf-1ae1-458b-90b9-368eed4179c2\",\"type\":\"CategoricalScale\"},{\"attributes\":{},\"id\":\"0532a7a4-87fc-4eec-ab7a-0e147e89e92b\",\"type\":\"LinearScale\"},{\"attributes\":{},\"id\":\"21798960-1253-4a10-87ea-7c3a595f12d8\",\"type\":\"WheelZoomTool\"},{\"attributes\":{},\"id\":\"fb5e7660-e4df-4422-9996-45b96f73b498\",\"type\":\"UnionRenderers\"},{\"attributes\":{\"active_drag\":\"auto\",\"active_inspect\":\"auto\",\"active_scroll\":\"auto\",\"active_tap\":\"auto\",\"tools\":[{\"id\":\"74c869e4-d450-4b46-b90a-c7b9038f4dbd\",\"type\":\"PanTool\"},{\"id\":\"21798960-1253-4a10-87ea-7c3a595f12d8\",\"type\":\"WheelZoomTool\"},{\"id\":\"e1cb8e90-3461-4398-a6d6-7f5bb7b29935\",\"type\":\"BoxZoomTool\"},{\"id\":\"05f5cc22-1077-4dcd-b4b0-c96e5a1fd2a7\",\"type\":\"SaveTool\"},{\"id\":\"17747c0b-4837-434f-ae2c-d7a20255bb41\",\"type\":\"ResetTool\"},{\"id\":\"494a9220-b946-4de6-98ad-109e3348ba4b\",\"type\":\"HelpTool\"}]},\"id\":\"97d8aace-0f88-41cb-ba13-3f7a83e395f6\",\"type\":\"Toolbar\"},{\"attributes\":{\"fill_alpha\":{\"value\":0.1},\"fill_color\":{\"value\":\"#1f77b4\"},\"line_alpha\":{\"value\":0.1},\"line_color\":{\"value\":\"#1f77b4\"},\"top\":{\"field\":\"flux\"},\"width\":{\"value\":0.9},\"x\":{\"field\":\"band\"}},\"id\":\"7d8b2cf3-e852-4ba2-87ab-7b0ecdfd2fd2\",\"type\":\"VBar\"},{\"attributes\":{\"callback\":null,\"factors\":[\"1\",\"2\",\"3\",\"4\",\"5\",\"6\",\"7\",\"8\",\"9\",\"10\",\"11\"]},\"id\":\"3c64f8be-99d1-4d69-a431-490b9a381f22\",\"type\":\"FactorRange\"},{\"attributes\":{},\"id\":\"f96420ab-d0db-4fbc-b480-820d1693ca28\",\"type\":\"SaveTool\"},{\"attributes\":{\"dimension\":1,\"plot\":{\"id\":\"40cc8139-4a44-47ef-819c-7d9848397ff6\",\"subtype\":\"Figure\",\"type\":\"Plot\"},\"ticker\":{\"id\":\"978251a6-d5c4-42d4-b358-7e5e8465cdf7\",\"type\":\"BasicTicker\"}},\"id\":\"95186d5e-07df-433d-b1c4-e7eeb288c0d8\",\"type\":\"Grid\"},{\"attributes\":{\"active_drag\":\"auto\",\"active_inspect\":\"auto\",\"active_scroll\":\"auto\",\"active_tap\":\"auto\",\"tools\":[{\"id\":\"b4f19b61-3910-41a2-8ea3-4b792b8b2555\",\"type\":\"PanTool\"},{\"id\":\"c6c520c9-e0b8-4867-bd97-8d2e41ff3fa1\",\"type\":\"WheelZoomTool\"},{\"id\":\"ab1e8517-793e-4a61-aefe-9d57290e03e0\",\"type\":\"BoxZoomTool\"},{\"id\":\"f96420ab-d0db-4fbc-b480-820d1693ca28\",\"type\":\"SaveTool\"},{\"id\":\"134a13b0-24ca-4654-94a8-f49c66c3f04f\",\"type\":\"ResetTool\"},{\"id\":\"4bf6f7eb-e81b-4829-9bf9-6491ec0315b4\",\"type\":\"HelpTool\"}]},\"id\":\"fa3953c1-8a08-4baa-89e6-3e605d581803\",\"type\":\"Toolbar\"},{\"attributes\":{\"overlay\":{\"id\":\"e36e1337-bdba-4f2e-ab82-d8242de75da2\",\"type\":\"BoxAnnotation\"}},\"id\":\"e1cb8e90-3461-4398-a6d6-7f5bb7b29935\",\"type\":\"BoxZoomTool\"},{\"attributes\":{\"plot\":null,\"text\":\"TOA flux. CLIRAD (single-run) - CRD.\"},\"id\":\"994b518d-c27a-4689-bfea-7eab2917c0e5\",\"type\":\"Title\"},{\"attributes\":{\"callback\":null,\"factors\":[\"1\",\"2\",\"3\",\"4\",\"5\",\"6\",\"7\",\"8\",\"9\",\"10\",\"11\"]},\"id\":\"31d4bf78-f361-4678-a4ac-5aa7c5787d2e\",\"type\":\"FactorRange\"},{\"attributes\":{},\"id\":\"e27cb0f4-32f5-4df9-9f8c-7e47baa27909\",\"type\":\"BasicTicker\"},{\"attributes\":{},\"id\":\"35fe2382-fbfb-405d-bedb-7adcc000afe2\",\"type\":\"CategoricalScale\"},{\"attributes\":{\"source\":{\"id\":\"3c7e1eec-13f3-49f4-802b-41dca6dd92e1\",\"type\":\"ColumnDataSource\"}},\"id\":\"cc290b6e-ee0f-416b-9670-78800c532dee\",\"type\":\"CDSView\"},{\"attributes\":{},\"id\":\"15512866-158c-47a2-8665-040d9a2f972d\",\"type\":\"UnionRenderers\"},{\"attributes\":{\"plot\":{\"id\":\"40dc148d-0f79-4375-b0c1-5cf7bace2aad\",\"subtype\":\"Figure\",\"type\":\"Plot\"},\"ticker\":{\"id\":\"fb63629b-23aa-4ec8-b8f5-1a4ebe882826\",\"type\":\"CategoricalTicker\"}},\"id\":\"3e0c98b7-62d5-451a-8a75-3bd62756e1fe\",\"type\":\"Grid\"},{\"attributes\":{\"plot\":null,\"text\":\"Atmosphere heating. CLIRAD (single-run) - CRD.\"},\"id\":\"87d464f1-1033-402d-b8ea-34fefdbbd336\",\"type\":\"Title\"},{\"attributes\":{\"data_source\":{\"id\":\"3c7e1eec-13f3-49f4-802b-41dca6dd92e1\",\"type\":\"ColumnDataSource\"},\"glyph\":{\"id\":\"cdb986b6-95a9-46b7-a761-c4dc1487d039\",\"type\":\"VBar\"},\"hover_glyph\":null,\"muted_glyph\":null,\"nonselection_glyph\":{\"id\":\"7d8b2cf3-e852-4ba2-87ab-7b0ecdfd2fd2\",\"type\":\"VBar\"},\"selection_glyph\":null,\"view\":{\"id\":\"cc290b6e-ee0f-416b-9670-78800c532dee\",\"type\":\"CDSView\"}},\"id\":\"afc438c3-2a47-42c3-8b6e-bd40262981a4\",\"type\":\"GlyphRenderer\"},{\"attributes\":{},\"id\":\"17747c0b-4837-434f-ae2c-d7a20255bb41\",\"type\":\"ResetTool\"},{\"attributes\":{\"callback\":null},\"id\":\"beb70559-1b18-40ad-8f2d-38f918a6ceb6\",\"type\":\"DataRange1d\"},{\"attributes\":{\"callback\":null},\"id\":\"48668d66-73a4-4a75-bd8d-c3b943f70ef1\",\"type\":\"DataRange1d\"},{\"attributes\":{\"data_source\":{\"id\":\"54c13086-ba76-424e-8c13-faf8bc560764\",\"type\":\"ColumnDataSource\"},\"glyph\":{\"id\":\"7ee387fb-8c72-415f-9186-c677237cb1fc\",\"type\":\"VBar\"},\"hover_glyph\":null,\"muted_glyph\":null,\"nonselection_glyph\":{\"id\":\"37546dc7-a1b1-4cba-941e-45d43e6a36ad\",\"type\":\"VBar\"},\"selection_glyph\":null,\"view\":{\"id\":\"b35fa3d4-c8b4-491f-97a3-4a8fee27204e\",\"type\":\"CDSView\"}},\"id\":\"acde4120-f15a-48db-9cbd-0a0f2ff4eb19\",\"type\":\"GlyphRenderer\"},{\"attributes\":{\"fill_alpha\":{\"value\":0.1},\"fill_color\":{\"value\":\"#1f77b4\"},\"line_alpha\":{\"value\":0.1},\"line_color\":{\"value\":\"#1f77b4\"},\"top\":{\"field\":\"flux\"},\"width\":{\"value\":0.9},\"x\":{\"field\":\"band\"}},\"id\":\"37546dc7-a1b1-4cba-941e-45d43e6a36ad\",\"type\":\"VBar\"},{\"attributes\":{\"callback\":null,\"data\":{\"band\":[\"1\",\"2\",\"3\",\"4\",\"5\",\"6\",\"7\",\"8\",\"9\",\"10\",\"11\"],\"flux\":{\"__ndarray__\":\"AADADkbs874Aaykg7X/cPwBbCd0l8ek/AHrm5bD7tj8Kp8zNN4IhQCTZI9QMwT9AHIEu0KQbIkBWNqypLPITQLBif9k9ufg/AFDtmpDWiD8AO3arQl6wPw==\",\"dtype\":\"float64\",\"shape\":[11]}},\"selected\":{\"id\":\"0ab408cd-4731-444d-91f2-5eb79ae49e80\",\"type\":\"Selection\"},\"selection_policy\":{\"id\":\"fb5e7660-e4df-4422-9996-45b96f73b498\",\"type\":\"UnionRenderers\"}},\"id\":\"54c13086-ba76-424e-8c13-faf8bc560764\",\"type\":\"ColumnDataSource\"},{\"attributes\":{\"active_drag\":\"auto\",\"active_inspect\":\"auto\",\"active_scroll\":\"auto\",\"active_tap\":\"auto\",\"tools\":[{\"id\":\"0809a2e9-a7ee-4b08-a12d-949c3868aad7\",\"type\":\"PanTool\"},{\"id\":\"519997b8-4a15-4b66-badc-227549d5b298\",\"type\":\"WheelZoomTool\"},{\"id\":\"6e36c8ef-f9f9-4da3-9fd3-28618fad0491\",\"type\":\"BoxZoomTool\"},{\"id\":\"a6e47416-0da4-4383-8b31-960df2000d63\",\"type\":\"SaveTool\"},{\"id\":\"22b96ee0-2aeb-4bb5-a55d-737e83c2dd36\",\"type\":\"ResetTool\"},{\"id\":\"581c332c-2fed-4c88-8e47-03f0a56f2232\",\"type\":\"HelpTool\"}]},\"id\":\"929ebc7b-8844-4d4e-b2d4-b12c2773cf89\",\"type\":\"Toolbar\"},{\"attributes\":{\"children\":[{\"id\":\"491b75d1-ad03-4684-9ab9-8898536a8fd1\",\"type\":\"ToolbarBox\"},{\"id\":\"21b9c088-bb7b-406b-b889-3f8cb99f88d2\",\"type\":\"Column\"}]},\"id\":\"706e3d46-382a-4837-9c9e-9ab3a0abbaf8\",\"type\":\"Column\"},{\"attributes\":{\"toolbar\":{\"id\":\"6442b789-a5ac-4125-b33f-1cf497fe163a\",\"type\":\"ProxyToolbar\"},\"toolbar_location\":\"above\"},\"id\":\"491b75d1-ad03-4684-9ab9-8898536a8fd1\",\"type\":\"ToolbarBox\"},{\"attributes\":{},\"id\":\"134a13b0-24ca-4654-94a8-f49c66c3f04f\",\"type\":\"ResetTool\"},{\"attributes\":{},\"id\":\"a7b6569b-1951-4318-ae67-3aaf7ad5e411\",\"type\":\"Selection\"},{\"attributes\":{},\"id\":\"0ab408cd-4731-444d-91f2-5eb79ae49e80\",\"type\":\"Selection\"},{\"attributes\":{\"children\":[{\"id\":\"62305396-19e4-4e94-a38c-84de8fc5d281\",\"subtype\":\"Figure\",\"type\":\"Plot\"},{\"id\":\"40cc8139-4a44-47ef-819c-7d9848397ff6\",\"subtype\":\"Figure\",\"type\":\"Plot\"},{\"id\":\"40dc148d-0f79-4375-b0c1-5cf7bace2aad\",\"subtype\":\"Figure\",\"type\":\"Plot\"}]},\"id\":\"8cfe92db-6f63-49d9-b7ea-3f14dc0d6c1e\",\"type\":\"Row\"},{\"attributes\":{\"plot\":null,\"text\":\"SFC flux. CLIRAD (single-run) - CRD.\"},\"id\":\"d92ad9ac-7f63-475d-8f83-1e01b23b427e\",\"type\":\"Title\"},{\"attributes\":{},\"id\":\"0303b90d-4a44-4a04-a6e8-09a541ddf090\",\"type\":\"CategoricalTickFormatter\"},{\"attributes\":{\"below\":[{\"id\":\"d6de5c13-0675-4f7e-b97e-c38996ae4929\",\"type\":\"CategoricalAxis\"}],\"left\":[{\"id\":\"bde7b1d0-abde-4e06-b2f6-a66f94f1e427\",\"type\":\"LinearAxis\"}],\"plot_height\":300,\"plot_width\":300,\"renderers\":[{\"id\":\"d6de5c13-0675-4f7e-b97e-c38996ae4929\",\"type\":\"CategoricalAxis\"},{\"id\":\"9c0e3098-7683-4d57-a0da-7c125be18ee2\",\"type\":\"Grid\"},{\"id\":\"bde7b1d0-abde-4e06-b2f6-a66f94f1e427\",\"type\":\"LinearAxis\"},{\"id\":\"7d952daf-8bd7-4863-8e3e-a27ba2edcfde\",\"type\":\"Grid\"},{\"id\":\"e36e1337-bdba-4f2e-ab82-d8242de75da2\",\"type\":\"BoxAnnotation\"},{\"id\":\"4a0ba6df-0f8b-47f7-b76d-7bd031237743\",\"type\":\"GlyphRenderer\"}],\"title\":{\"id\":\"994b518d-c27a-4689-bfea-7eab2917c0e5\",\"type\":\"Title\"},\"toolbar\":{\"id\":\"97d8aace-0f88-41cb-ba13-3f7a83e395f6\",\"type\":\"Toolbar\"},\"toolbar_location\":null,\"x_range\":{\"id\":\"3c64f8be-99d1-4d69-a431-490b9a381f22\",\"type\":\"FactorRange\"},\"x_scale\":{\"id\":\"c7cd25c2-b797-4d7a-904d-a1bd063fe515\",\"type\":\"CategoricalScale\"},\"y_range\":{\"id\":\"48668d66-73a4-4a75-bd8d-c3b943f70ef1\",\"type\":\"DataRange1d\"},\"y_scale\":{\"id\":\"875d6332-f912-47cd-bda0-ae8a1b877b38\",\"type\":\"LinearScale\"}},\"id\":\"62305396-19e4-4e94-a38c-84de8fc5d281\",\"subtype\":\"Figure\",\"type\":\"Plot\"},{\"attributes\":{},\"id\":\"06a95950-642e-4830-afae-af98ef98c1a1\",\"type\":\"UnionRenderers\"},{\"attributes\":{\"callback\":null},\"id\":\"eabab0d1-c1f8-4a98-85fa-c885bdb167ed\",\"type\":\"DataRange1d\"},{\"attributes\":{\"tools\":[{\"id\":\"74c869e4-d450-4b46-b90a-c7b9038f4dbd\",\"type\":\"PanTool\"},{\"id\":\"21798960-1253-4a10-87ea-7c3a595f12d8\",\"type\":\"WheelZoomTool\"},{\"id\":\"e1cb8e90-3461-4398-a6d6-7f5bb7b29935\",\"type\":\"BoxZoomTool\"},{\"id\":\"05f5cc22-1077-4dcd-b4b0-c96e5a1fd2a7\",\"type\":\"SaveTool\"},{\"id\":\"17747c0b-4837-434f-ae2c-d7a20255bb41\",\"type\":\"ResetTool\"},{\"id\":\"494a9220-b946-4de6-98ad-109e3348ba4b\",\"type\":\"HelpTool\"},{\"id\":\"0809a2e9-a7ee-4b08-a12d-949c3868aad7\",\"type\":\"PanTool\"},{\"id\":\"519997b8-4a15-4b66-badc-227549d5b298\",\"type\":\"WheelZoomTool\"},{\"id\":\"6e36c8ef-f9f9-4da3-9fd3-28618fad0491\",\"type\":\"BoxZoomTool\"},{\"id\":\"a6e47416-0da4-4383-8b31-960df2000d63\",\"type\":\"SaveTool\"},{\"id\":\"22b96ee0-2aeb-4bb5-a55d-737e83c2dd36\",\"type\":\"ResetTool\"},{\"id\":\"581c332c-2fed-4c88-8e47-03f0a56f2232\",\"type\":\"HelpTool\"},{\"id\":\"b4f19b61-3910-41a2-8ea3-4b792b8b2555\",\"type\":\"PanTool\"},{\"id\":\"c6c520c9-e0b8-4867-bd97-8d2e41ff3fa1\",\"type\":\"WheelZoomTool\"},{\"id\":\"ab1e8517-793e-4a61-aefe-9d57290e03e0\",\"type\":\"BoxZoomTool\"},{\"id\":\"f96420ab-d0db-4fbc-b480-820d1693ca28\",\"type\":\"SaveTool\"},{\"id\":\"134a13b0-24ca-4654-94a8-f49c66c3f04f\",\"type\":\"ResetTool\"},{\"id\":\"4bf6f7eb-e81b-4829-9bf9-6491ec0315b4\",\"type\":\"HelpTool\"}]},\"id\":\"6442b789-a5ac-4125-b33f-1cf497fe163a\",\"type\":\"ProxyToolbar\"},{\"attributes\":{},\"id\":\"86c636a2-9374-4f4d-99ce-aec600536ec6\",\"type\":\"BasicTickFormatter\"},{\"attributes\":{\"bottom_units\":\"screen\",\"fill_alpha\":{\"value\":0.5},\"fill_color\":{\"value\":\"lightgrey\"},\"left_units\":\"screen\",\"level\":\"overlay\",\"line_alpha\":{\"value\":1.0},\"line_color\":{\"value\":\"black\"},\"line_dash\":[4,4],\"line_width\":{\"value\":2},\"plot\":null,\"render_mode\":\"css\",\"right_units\":\"screen\",\"top_units\":\"screen\"},\"id\":\"c7f3f174-26be-4ed3-984a-a6ddfec708c1\",\"type\":\"BoxAnnotation\"},{\"attributes\":{\"bottom_units\":\"screen\",\"fill_alpha\":{\"value\":0.5},\"fill_color\":{\"value\":\"lightgrey\"},\"left_units\":\"screen\",\"level\":\"overlay\",\"line_alpha\":{\"value\":1.0},\"line_color\":{\"value\":\"black\"},\"line_dash\":[4,4],\"line_width\":{\"value\":2},\"plot\":null,\"render_mode\":\"css\",\"right_units\":\"screen\",\"top_units\":\"screen\"},\"id\":\"1f67a158-f54f-4483-ac5d-80d3d9d2a915\",\"type\":\"BoxAnnotation\"},{\"attributes\":{\"callback\":null,\"data\":{\"band\":[\"1\",\"2\",\"3\",\"4\",\"5\",\"6\",\"7\",\"8\",\"9\",\"10\",\"11\"],\"flux\":{\"__ndarray__\":\"AENaY9AJzT9gBmNEolDyPwBo6Qq2Ecc/kFIJT+j14T/g5LfoZGn3PzDDuBtEqw9AUE7tDFOb8j+AjNZR1QTvP4D3x3vVytI/4PGprSLtwT+A9UyK6gi9Pw==\",\"dtype\":\"float64\",\"shape\":[11]}},\"selected\":{\"id\":\"a7b6569b-1951-4318-ae67-3aaf7ad5e411\",\"type\":\"Selection\"},\"selection_policy\":{\"id\":\"06a95950-642e-4830-afae-af98ef98c1a1\",\"type\":\"UnionRenderers\"}},\"id\":\"6b5ae685-13ac-448f-be09-c731d3dc04ee\",\"type\":\"ColumnDataSource\"},{\"attributes\":{},\"id\":\"27ff430a-7f9f-4a9f-9935-6a39b4b44525\",\"type\":\"BasicTickFormatter\"},{\"attributes\":{},\"id\":\"4bf6f7eb-e81b-4829-9bf9-6491ec0315b4\",\"type\":\"HelpTool\"},{\"attributes\":{},\"id\":\"45569db5-ad3d-4e3f-bf96-4a26f2fa21c5\",\"type\":\"CategoricalTickFormatter\"},{\"attributes\":{\"callback\":null,\"factors\":[\"1\",\"2\",\"3\",\"4\",\"5\",\"6\",\"7\",\"8\",\"9\",\"10\",\"11\"]},\"id\":\"27943ea9-3e41-4c66-b63b-e09be82b7b93\",\"type\":\"FactorRange\"},{\"attributes\":{\"below\":[{\"id\":\"a36d457d-5269-4f16-930c-4143a1dfe502\",\"type\":\"CategoricalAxis\"}],\"left\":[{\"id\":\"a675409e-e981-49bb-a8e0-da3f55784e10\",\"type\":\"LinearAxis\"}],\"plot_height\":300,\"plot_width\":300,\"renderers\":[{\"id\":\"a36d457d-5269-4f16-930c-4143a1dfe502\",\"type\":\"CategoricalAxis\"},{\"id\":\"102c6d79-a22f-4185-baa2-95bda47e05f6\",\"type\":\"Grid\"},{\"id\":\"a675409e-e981-49bb-a8e0-da3f55784e10\",\"type\":\"LinearAxis\"},{\"id\":\"95186d5e-07df-433d-b1c4-e7eeb288c0d8\",\"type\":\"Grid\"},{\"id\":\"c7f3f174-26be-4ed3-984a-a6ddfec708c1\",\"type\":\"BoxAnnotation\"},{\"id\":\"acde4120-f15a-48db-9cbd-0a0f2ff4eb19\",\"type\":\"GlyphRenderer\"}],\"title\":{\"id\":\"d92ad9ac-7f63-475d-8f83-1e01b23b427e\",\"type\":\"Title\"},\"toolbar\":{\"id\":\"929ebc7b-8844-4d4e-b2d4-b12c2773cf89\",\"type\":\"Toolbar\"},\"toolbar_location\":null,\"x_range\":{\"id\":\"27943ea9-3e41-4c66-b63b-e09be82b7b93\",\"type\":\"FactorRange\"},\"x_scale\":{\"id\":\"35fe2382-fbfb-405d-bedb-7adcc000afe2\",\"type\":\"CategoricalScale\"},\"y_range\":{\"id\":\"eabab0d1-c1f8-4a98-85fa-c885bdb167ed\",\"type\":\"DataRange1d\"},\"y_scale\":{\"id\":\"943e542d-7565-4074-901e-7db55fcfc30e\",\"type\":\"LinearScale\"}},\"id\":\"40cc8139-4a44-47ef-819c-7d9848397ff6\",\"subtype\":\"Figure\",\"type\":\"Plot\"}],\"root_ids\":[\"706e3d46-382a-4837-9c9e-9ab3a0abbaf8\"]},\"title\":\"Bokeh Application\",\"version\":\"0.12.16\"}};\n",
       "  var render_items = [{\"docid\":\"7b5583e7-e899-49dc-be7e-478d15da685a\",\"elementid\":\"5a44fcd4-f63f-44b5-8d95-602a3b40bf08\",\"modelid\":\"706e3d46-382a-4837-9c9e-9ab3a0abbaf8\"}];\n",
       "  root.Bokeh.embed.embed_items_notebook(docs_json, render_items);\n",
       "\n",
       "  }\n",
       "  if (root.Bokeh !== undefined) {\n",
       "    embed_document(root);\n",
       "  } else {\n",
       "    var attempts = 0;\n",
       "    var timer = setInterval(function(root) {\n",
       "      if (root.Bokeh !== undefined) {\n",
       "        embed_document(root);\n",
       "        clearInterval(timer);\n",
       "      }\n",
       "      attempts++;\n",
       "      if (attempts > 100) {\n",
       "        console.log(\"Bokeh: ERROR: Unable to run BokehJS code because BokehJS library is missing\")\n",
       "        clearInterval(timer);\n",
       "      }\n",
       "    }, 10, root)\n",
       "  }\n",
       "})(window);"
      ],
      "application/vnd.bokehjs_exec.v0+json": ""
     },
     "metadata": {
      "application/vnd.bokehjs_exec.v0+json": {
       "id": "706e3d46-382a-4837-9c9e-9ab3a0abbaf8"
      }
     },
     "output_type": "display_data"
    },
    {
     "data": {
      "text/markdown": [
       "*FIGURE.* Difference between CLIRAD and CRD in TOA, SFC and net atmosphere flux, in each spectral band."
      ],
      "text/plain": [
       "<IPython.core.display.Markdown object>"
      ]
     },
     "metadata": {},
     "output_type": "display_data"
    },
    {
     "data": {
      "text/html": [
       "<div>\n",
       "<style scoped>\n",
       "    .dataframe tbody tr th:only-of-type {\n",
       "        vertical-align: middle;\n",
       "    }\n",
       "\n",
       "    .dataframe tbody tr th {\n",
       "        vertical-align: top;\n",
       "    }\n",
       "\n",
       "    .dataframe thead th {\n",
       "        text-align: right;\n",
       "    }\n",
       "</style>\n",
       "<table border=\"1\" class=\"dataframe\">\n",
       "  <thead>\n",
       "    <tr style=\"text-align: right;\">\n",
       "      <th></th>\n",
       "      <th>OLR flux</th>\n",
       "      <th>SFC flux</th>\n",
       "      <th>ATM heating</th>\n",
       "    </tr>\n",
       "    <tr>\n",
       "      <th>Sum over bands</th>\n",
       "      <th></th>\n",
       "      <th></th>\n",
       "      <th></th>\n",
       "    </tr>\n",
       "  </thead>\n",
       "  <tbody>\n",
       "    <tr>\n",
       "      <th>CLIRAD (single-run) - CRD</th>\n",
       "      <td>10.21</td>\n",
       "      <td>57.52</td>\n",
       "      <td>-47.30</td>\n",
       "    </tr>\n",
       "    <tr>\n",
       "      <th>CRD</th>\n",
       "      <td>-303.40</td>\n",
       "      <td>337.24</td>\n",
       "      <td>-181.37</td>\n",
       "    </tr>\n",
       "  </tbody>\n",
       "</table>\n",
       "</div>"
      ],
      "text/plain": [
       "                           OLR flux  SFC flux  ATM heating\n",
       "Sum over bands                                            \n",
       "CLIRAD (single-run) - CRD     10.21     57.52       -47.30\n",
       "CRD                         -303.40    337.24      -181.37"
      ]
     },
     "metadata": {},
     "output_type": "display_data"
    },
    {
     "data": {
      "text/markdown": [
       "*TABLE.* Difference between CLIRAD and CRD in TOA, SFC and net atmosphere flux, over all spectral bands. CRD's TOA, SFC and net atmosphere flux, over all spectral bands."
      ],
      "text/plain": [
       "<IPython.core.display.Markdown object>"
      ]
     },
     "metadata": {},
     "output_type": "display_data"
    }
   ],
   "source": [
    "def show_html(s):\n",
    "    display.display(display.HTML(s))\n",
    "\n",
    "    \n",
    "def show_markdown(s):\n",
    "    display.display(display.Markdown(s))\n",
    "\n",
    "\n",
    "def script():\n",
    "    \n",
    "    d_atm = {'mls': 'mid-latitude summer',\n",
    "             'saw': 'sub-arctic winter',\n",
    "             'trp': 'tropical'}\n",
    "    \n",
    "    title = ('## Results over entire range of molecules'\n",
    "             ' and spectral bands')\n",
    "    \n",
    "    s_makeup = 'Makeup of atmosphere.'\n",
    "    s_atmpro = '# {}'\n",
    "    s_cool = 'Cooling rates. {}.'\n",
    "    s_flux = 'Fluxes. {}.'\n",
    "    \n",
    "    atmpros = ['mls', 'saw', 'trp']\n",
    "    \n",
    "    # TOC\n",
    "    show_markdown(title)\n",
    "    show_markdown('### Table of Contents')\n",
    "    show_html(climahtml.getHTML_hrefanchor(s_makeup))\n",
    "    for atmpro in atmpros:\n",
    "        show_markdown('**' + d_atm[atmpro] + '**')\n",
    "        show_html(climahtml.getHTML_hrefanchor(s_cool.format(atmpro)))\n",
    "        show_html(climahtml.getHTML_hrefanchor(s_flux.format(atmpro)))\n",
    "\n",
    "        \n",
    "    # Atmosphere makeup\n",
    "    show_html(climahtml.getHTML_idanchor(s_makeup))\n",
    "    show_markdown(climahtml.getMarkdown_sectitle(s_makeup))\n",
    "    show_makeup()\n",
    "    show_grey_makeup()\n",
    "        \n",
    "    for atmpro in atmpros:\n",
    "        show_html(climahtml.getHTML_idanchor(s_cool.format(atmpro)))\n",
    "        show_markdown(\n",
    "            climahtml.getMarkdown_sectitle(s_cool.format(atmpro)))\n",
    "        show_cool(atmpro=atmpro)\n",
    "        show_html(climahtml.getHTML_idanchor(s_flux.format(atmpro)))\n",
    "        show_markdown(\n",
    "            climahtml.getMarkdown_sectitle(s_flux.format(atmpro)))\n",
    "        show_hist_flux(atmpro=atmpro)\n",
    "        show_tb_flux(atmpro=atmpro)\n",
    "    \n",
    "    \n",
    "script()  "
   ]
  },
  {
   "cell_type": "code",
   "execution_count": null,
   "metadata": {
    "collapsed": true
   },
   "outputs": [],
   "source": []
  },
  {
   "cell_type": "code",
   "execution_count": 510,
   "metadata": {},
   "outputs": [
    {
     "data": {
      "text/html": [
       "<script>\n",
       "code_show=true; \n",
       "function code_toggle() {\n",
       " if (code_show){\n",
       " $('div.input').hide();\n",
       " } else {\n",
       " $('div.input').show();\n",
       " }\n",
       " code_show = !code_show\n",
       "} \n",
       "$( document ).ready(code_toggle);\n",
       "</script>\n",
       "<form action=\"javascript:code_toggle()\"><input type=\"submit\" value=\"Click here to toggle on/off the raw code.\"></form>"
      ],
      "text/plain": [
       "<IPython.core.display.HTML object>"
      ]
     },
     "execution_count": 510,
     "metadata": {},
     "output_type": "execute_result"
    }
   ],
   "source": [
    "display.HTML('''<script>\n",
    "code_show=true; \n",
    "function code_toggle() {\n",
    " if (code_show){\n",
    " $('div.input').hide();\n",
    " } else {\n",
    " $('div.input').show();\n",
    " }\n",
    " code_show = !code_show\n",
    "} \n",
    "$( document ).ready(code_toggle);\n",
    "</script>\n",
    "<form action=\"javascript:code_toggle()\"><input type=\"submit\" value=\"Click here to toggle on/off the raw code.\"></form>''')"
   ]
  },
  {
   "cell_type": "code",
   "execution_count": null,
   "metadata": {
    "collapsed": true
   },
   "outputs": [],
   "source": []
  }
 ],
 "metadata": {
  "kernelspec": {
   "display_name": "Python 3",
   "language": "python",
   "name": "python3"
  },
  "language_info": {
   "codemirror_mode": {
    "name": "ipython",
    "version": 3
   },
   "file_extension": ".py",
   "mimetype": "text/x-python",
   "name": "python",
   "nbconvert_exporter": "python",
   "pygments_lexer": "ipython3",
   "version": "3.6.1"
  }
 },
 "nbformat": 4,
 "nbformat_minor": 2
}
