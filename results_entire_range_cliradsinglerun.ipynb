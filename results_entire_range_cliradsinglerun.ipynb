{
 "cells": [
  {
   "cell_type": "code",
   "execution_count": 567,
   "metadata": {
    "collapsed": true
   },
   "outputs": [],
   "source": [
    "import os\n",
    "import ast\n",
    "import json\n",
    "import importlib \n",
    "import itertools\n",
    "import collections\n",
    "import pprint\n",
    "\n",
    "from bokeh.io import output_notebook, show\n",
    "from bokeh.layouts import gridplot\n",
    "from bokeh.plotting import figure\n",
    "from bokeh.models import Range1d, Legend, ColumnDataSource, FactorRange\n",
    "from bokeh.palettes import all_palettes\n",
    "from bokeh.transform import factor_cmap\n",
    "\n",
    "import matplotlib\n",
    "import matplotlib.pyplot as plt\n",
    "import numpy as np\n",
    "import pandas as pd\n",
    "import xarray as xr\n",
    "\n",
    "\n",
    "import climatools.lblnew.bestfit_params as bestfits\n",
    "from climatools.lblnew import setup_bestfit, setup_overlap\n",
    "import climatools.lblnew.pipeline as pipe_lblnew\n",
    "import climatools.cliradlw.setup as setup_cliradlw\n",
    "import climatools.cliradlw.pipeline as pipe_cliradlw\n",
    "\n",
    "import climatools.html.html as climahtml\n",
    "from climatools.lblnew.dataio import *\n",
    "from climatools.plot.plot import *\n",
    "\n",
    "\n",
    "from IPython import display\n",
    "\n",
    "#importlib.reload(bestfits)\n",
    "#importlib.reload(setup_bestfit)\n",
    "#importlib.reload(setup_overlap)\n",
    "#importlib.reload(pipe_lblnew)\n",
    "#importlib.reload(setup_cliradlw)\n",
    "#importlib.reload(pipe_cliradlw)"
   ]
  },
  {
   "cell_type": "code",
   "execution_count": 568,
   "metadata": {
    "scrolled": true
   },
   "outputs": [
    {
     "data": {
      "text/html": [
       "\n",
       "    <div class=\"bk-root\">\n",
       "        <a href=\"https://bokeh.pydata.org\" target=\"_blank\" class=\"bk-logo bk-logo-small bk-logo-notebook\"></a>\n",
       "        <span id=\"496f8f04-7a1a-4980-878e-d94a5d2f3f55\">Loading BokehJS ...</span>\n",
       "    </div>"
      ]
     },
     "metadata": {},
     "output_type": "display_data"
    },
    {
     "data": {
      "application/javascript": [
       "\n",
       "(function(root) {\n",
       "  function now() {\n",
       "    return new Date();\n",
       "  }\n",
       "\n",
       "  var force = true;\n",
       "\n",
       "  if (typeof (root._bokeh_onload_callbacks) === \"undefined\" || force === true) {\n",
       "    root._bokeh_onload_callbacks = [];\n",
       "    root._bokeh_is_loading = undefined;\n",
       "  }\n",
       "\n",
       "  var JS_MIME_TYPE = 'application/javascript';\n",
       "  var HTML_MIME_TYPE = 'text/html';\n",
       "  var EXEC_MIME_TYPE = 'application/vnd.bokehjs_exec.v0+json';\n",
       "  var CLASS_NAME = 'output_bokeh rendered_html';\n",
       "\n",
       "  /**\n",
       "   * Render data to the DOM node\n",
       "   */\n",
       "  function render(props, node) {\n",
       "    var script = document.createElement(\"script\");\n",
       "    node.appendChild(script);\n",
       "  }\n",
       "\n",
       "  /**\n",
       "   * Handle when an output is cleared or removed\n",
       "   */\n",
       "  function handleClearOutput(event, handle) {\n",
       "    var cell = handle.cell;\n",
       "\n",
       "    var id = cell.output_area._bokeh_element_id;\n",
       "    var server_id = cell.output_area._bokeh_server_id;\n",
       "    // Clean up Bokeh references\n",
       "    if (id !== undefined) {\n",
       "      Bokeh.index[id].model.document.clear();\n",
       "      delete Bokeh.index[id];\n",
       "    }\n",
       "\n",
       "    if (server_id !== undefined) {\n",
       "      // Clean up Bokeh references\n",
       "      var cmd = \"from bokeh.io.state import curstate; print(curstate().uuid_to_server['\" + server_id + \"'].get_sessions()[0].document.roots[0]._id)\";\n",
       "      cell.notebook.kernel.execute(cmd, {\n",
       "        iopub: {\n",
       "          output: function(msg) {\n",
       "            var element_id = msg.content.text.trim();\n",
       "            Bokeh.index[element_id].model.document.clear();\n",
       "            delete Bokeh.index[element_id];\n",
       "          }\n",
       "        }\n",
       "      });\n",
       "      // Destroy server and session\n",
       "      var cmd = \"import bokeh.io.notebook as ion; ion.destroy_server('\" + server_id + \"')\";\n",
       "      cell.notebook.kernel.execute(cmd);\n",
       "    }\n",
       "  }\n",
       "\n",
       "  /**\n",
       "   * Handle when a new output is added\n",
       "   */\n",
       "  function handleAddOutput(event, handle) {\n",
       "    var output_area = handle.output_area;\n",
       "    var output = handle.output;\n",
       "\n",
       "    // limit handleAddOutput to display_data with EXEC_MIME_TYPE content only\n",
       "    if ((output.output_type != \"display_data\") || (!output.data.hasOwnProperty(EXEC_MIME_TYPE))) {\n",
       "      return\n",
       "    }\n",
       "\n",
       "    var toinsert = output_area.element.find(\".\" + CLASS_NAME.split(' ')[0]);\n",
       "\n",
       "    if (output.metadata[EXEC_MIME_TYPE][\"id\"] !== undefined) {\n",
       "      toinsert[toinsert.length - 1].firstChild.textContent = output.data[JS_MIME_TYPE];\n",
       "      // store reference to embed id on output_area\n",
       "      output_area._bokeh_element_id = output.metadata[EXEC_MIME_TYPE][\"id\"];\n",
       "    }\n",
       "    if (output.metadata[EXEC_MIME_TYPE][\"server_id\"] !== undefined) {\n",
       "      var bk_div = document.createElement(\"div\");\n",
       "      bk_div.innerHTML = output.data[HTML_MIME_TYPE];\n",
       "      var script_attrs = bk_div.children[0].attributes;\n",
       "      for (var i = 0; i < script_attrs.length; i++) {\n",
       "        toinsert[toinsert.length - 1].firstChild.setAttribute(script_attrs[i].name, script_attrs[i].value);\n",
       "      }\n",
       "      // store reference to server id on output_area\n",
       "      output_area._bokeh_server_id = output.metadata[EXEC_MIME_TYPE][\"server_id\"];\n",
       "    }\n",
       "  }\n",
       "\n",
       "  function register_renderer(events, OutputArea) {\n",
       "\n",
       "    function append_mime(data, metadata, element) {\n",
       "      // create a DOM node to render to\n",
       "      var toinsert = this.create_output_subarea(\n",
       "        metadata,\n",
       "        CLASS_NAME,\n",
       "        EXEC_MIME_TYPE\n",
       "      );\n",
       "      this.keyboard_manager.register_events(toinsert);\n",
       "      // Render to node\n",
       "      var props = {data: data, metadata: metadata[EXEC_MIME_TYPE]};\n",
       "      render(props, toinsert[toinsert.length - 1]);\n",
       "      element.append(toinsert);\n",
       "      return toinsert\n",
       "    }\n",
       "\n",
       "    /* Handle when an output is cleared or removed */\n",
       "    events.on('clear_output.CodeCell', handleClearOutput);\n",
       "    events.on('delete.Cell', handleClearOutput);\n",
       "\n",
       "    /* Handle when a new output is added */\n",
       "    events.on('output_added.OutputArea', handleAddOutput);\n",
       "\n",
       "    /**\n",
       "     * Register the mime type and append_mime function with output_area\n",
       "     */\n",
       "    OutputArea.prototype.register_mime_type(EXEC_MIME_TYPE, append_mime, {\n",
       "      /* Is output safe? */\n",
       "      safe: true,\n",
       "      /* Index of renderer in `output_area.display_order` */\n",
       "      index: 0\n",
       "    });\n",
       "  }\n",
       "\n",
       "  // register the mime type if in Jupyter Notebook environment and previously unregistered\n",
       "  if (root.Jupyter !== undefined) {\n",
       "    var events = require('base/js/events');\n",
       "    var OutputArea = require('notebook/js/outputarea').OutputArea;\n",
       "\n",
       "    if (OutputArea.prototype.mime_types().indexOf(EXEC_MIME_TYPE) == -1) {\n",
       "      register_renderer(events, OutputArea);\n",
       "    }\n",
       "  }\n",
       "\n",
       "  \n",
       "  if (typeof (root._bokeh_timeout) === \"undefined\" || force === true) {\n",
       "    root._bokeh_timeout = Date.now() + 5000;\n",
       "    root._bokeh_failed_load = false;\n",
       "  }\n",
       "\n",
       "  var NB_LOAD_WARNING = {'data': {'text/html':\n",
       "     \"<div style='background-color: #fdd'>\\n\"+\n",
       "     \"<p>\\n\"+\n",
       "     \"BokehJS does not appear to have successfully loaded. If loading BokehJS from CDN, this \\n\"+\n",
       "     \"may be due to a slow or bad network connection. Possible fixes:\\n\"+\n",
       "     \"</p>\\n\"+\n",
       "     \"<ul>\\n\"+\n",
       "     \"<li>re-rerun `output_notebook()` to attempt to load from CDN again, or</li>\\n\"+\n",
       "     \"<li>use INLINE resources instead, as so:</li>\\n\"+\n",
       "     \"</ul>\\n\"+\n",
       "     \"<code>\\n\"+\n",
       "     \"from bokeh.resources import INLINE\\n\"+\n",
       "     \"output_notebook(resources=INLINE)\\n\"+\n",
       "     \"</code>\\n\"+\n",
       "     \"</div>\"}};\n",
       "\n",
       "  function display_loaded() {\n",
       "    var el = document.getElementById(\"496f8f04-7a1a-4980-878e-d94a5d2f3f55\");\n",
       "    if (el != null) {\n",
       "      el.textContent = \"BokehJS is loading...\";\n",
       "    }\n",
       "    if (root.Bokeh !== undefined) {\n",
       "      if (el != null) {\n",
       "        el.textContent = \"BokehJS \" + root.Bokeh.version + \" successfully loaded.\";\n",
       "      }\n",
       "    } else if (Date.now() < root._bokeh_timeout) {\n",
       "      setTimeout(display_loaded, 100)\n",
       "    }\n",
       "  }\n",
       "\n",
       "\n",
       "  function run_callbacks() {\n",
       "    try {\n",
       "      root._bokeh_onload_callbacks.forEach(function(callback) { callback() });\n",
       "    }\n",
       "    finally {\n",
       "      delete root._bokeh_onload_callbacks\n",
       "    }\n",
       "    console.info(\"Bokeh: all callbacks have finished\");\n",
       "  }\n",
       "\n",
       "  function load_libs(js_urls, callback) {\n",
       "    root._bokeh_onload_callbacks.push(callback);\n",
       "    if (root._bokeh_is_loading > 0) {\n",
       "      console.log(\"Bokeh: BokehJS is being loaded, scheduling callback at\", now());\n",
       "      return null;\n",
       "    }\n",
       "    if (js_urls == null || js_urls.length === 0) {\n",
       "      run_callbacks();\n",
       "      return null;\n",
       "    }\n",
       "    console.log(\"Bokeh: BokehJS not loaded, scheduling load and callback at\", now());\n",
       "    root._bokeh_is_loading = js_urls.length;\n",
       "    for (var i = 0; i < js_urls.length; i++) {\n",
       "      var url = js_urls[i];\n",
       "      var s = document.createElement('script');\n",
       "      s.src = url;\n",
       "      s.async = false;\n",
       "      s.onreadystatechange = s.onload = function() {\n",
       "        root._bokeh_is_loading--;\n",
       "        if (root._bokeh_is_loading === 0) {\n",
       "          console.log(\"Bokeh: all BokehJS libraries loaded\");\n",
       "          run_callbacks()\n",
       "        }\n",
       "      };\n",
       "      s.onerror = function() {\n",
       "        console.warn(\"failed to load library \" + url);\n",
       "      };\n",
       "      console.log(\"Bokeh: injecting script tag for BokehJS library: \", url);\n",
       "      document.getElementsByTagName(\"head\")[0].appendChild(s);\n",
       "    }\n",
       "  };var element = document.getElementById(\"496f8f04-7a1a-4980-878e-d94a5d2f3f55\");\n",
       "  if (element == null) {\n",
       "    console.log(\"Bokeh: ERROR: autoload.js configured with elementid '496f8f04-7a1a-4980-878e-d94a5d2f3f55' but no matching script tag was found. \")\n",
       "    return false;\n",
       "  }\n",
       "\n",
       "  var js_urls = [\"https://cdn.pydata.org/bokeh/release/bokeh-0.12.16.min.js\", \"https://cdn.pydata.org/bokeh/release/bokeh-widgets-0.12.16.min.js\", \"https://cdn.pydata.org/bokeh/release/bokeh-tables-0.12.16.min.js\", \"https://cdn.pydata.org/bokeh/release/bokeh-gl-0.12.16.min.js\"];\n",
       "\n",
       "  var inline_js = [\n",
       "    function(Bokeh) {\n",
       "      Bokeh.set_log_level(\"info\");\n",
       "    },\n",
       "    \n",
       "    function(Bokeh) {\n",
       "      \n",
       "    },\n",
       "    function(Bokeh) {\n",
       "      console.log(\"Bokeh: injecting CSS: https://cdn.pydata.org/bokeh/release/bokeh-0.12.16.min.css\");\n",
       "      Bokeh.embed.inject_css(\"https://cdn.pydata.org/bokeh/release/bokeh-0.12.16.min.css\");\n",
       "      console.log(\"Bokeh: injecting CSS: https://cdn.pydata.org/bokeh/release/bokeh-widgets-0.12.16.min.css\");\n",
       "      Bokeh.embed.inject_css(\"https://cdn.pydata.org/bokeh/release/bokeh-widgets-0.12.16.min.css\");\n",
       "      console.log(\"Bokeh: injecting CSS: https://cdn.pydata.org/bokeh/release/bokeh-tables-0.12.16.min.css\");\n",
       "      Bokeh.embed.inject_css(\"https://cdn.pydata.org/bokeh/release/bokeh-tables-0.12.16.min.css\");\n",
       "    }\n",
       "  ];\n",
       "\n",
       "  function run_inline_js() {\n",
       "    \n",
       "    if ((root.Bokeh !== undefined) || (force === true)) {\n",
       "      for (var i = 0; i < inline_js.length; i++) {\n",
       "        inline_js[i].call(root, root.Bokeh);\n",
       "      }if (force === true) {\n",
       "        display_loaded();\n",
       "      }} else if (Date.now() < root._bokeh_timeout) {\n",
       "      setTimeout(run_inline_js, 100);\n",
       "    } else if (!root._bokeh_failed_load) {\n",
       "      console.log(\"Bokeh: BokehJS failed to load within specified timeout.\");\n",
       "      root._bokeh_failed_load = true;\n",
       "    } else if (force !== true) {\n",
       "      var cell = $(document.getElementById(\"496f8f04-7a1a-4980-878e-d94a5d2f3f55\")).parents('.cell').data().cell;\n",
       "      cell.output_area.append_execute_result(NB_LOAD_WARNING)\n",
       "    }\n",
       "\n",
       "  }\n",
       "\n",
       "  if (root._bokeh_is_loading === 0) {\n",
       "    console.log(\"Bokeh: BokehJS loaded, going straight to plotting\");\n",
       "    run_inline_js();\n",
       "  } else {\n",
       "    load_libs(js_urls, function() {\n",
       "      console.log(\"Bokeh: BokehJS plotting callback run at\", now());\n",
       "      run_inline_js();\n",
       "    });\n",
       "  }\n",
       "}(window));"
      ],
      "application/vnd.bokehjs_load.v0+json": "\n(function(root) {\n  function now() {\n    return new Date();\n  }\n\n  var force = true;\n\n  if (typeof (root._bokeh_onload_callbacks) === \"undefined\" || force === true) {\n    root._bokeh_onload_callbacks = [];\n    root._bokeh_is_loading = undefined;\n  }\n\n  \n\n  \n  if (typeof (root._bokeh_timeout) === \"undefined\" || force === true) {\n    root._bokeh_timeout = Date.now() + 5000;\n    root._bokeh_failed_load = false;\n  }\n\n  var NB_LOAD_WARNING = {'data': {'text/html':\n     \"<div style='background-color: #fdd'>\\n\"+\n     \"<p>\\n\"+\n     \"BokehJS does not appear to have successfully loaded. If loading BokehJS from CDN, this \\n\"+\n     \"may be due to a slow or bad network connection. Possible fixes:\\n\"+\n     \"</p>\\n\"+\n     \"<ul>\\n\"+\n     \"<li>re-rerun `output_notebook()` to attempt to load from CDN again, or</li>\\n\"+\n     \"<li>use INLINE resources instead, as so:</li>\\n\"+\n     \"</ul>\\n\"+\n     \"<code>\\n\"+\n     \"from bokeh.resources import INLINE\\n\"+\n     \"output_notebook(resources=INLINE)\\n\"+\n     \"</code>\\n\"+\n     \"</div>\"}};\n\n  function display_loaded() {\n    var el = document.getElementById(\"496f8f04-7a1a-4980-878e-d94a5d2f3f55\");\n    if (el != null) {\n      el.textContent = \"BokehJS is loading...\";\n    }\n    if (root.Bokeh !== undefined) {\n      if (el != null) {\n        el.textContent = \"BokehJS \" + root.Bokeh.version + \" successfully loaded.\";\n      }\n    } else if (Date.now() < root._bokeh_timeout) {\n      setTimeout(display_loaded, 100)\n    }\n  }\n\n\n  function run_callbacks() {\n    try {\n      root._bokeh_onload_callbacks.forEach(function(callback) { callback() });\n    }\n    finally {\n      delete root._bokeh_onload_callbacks\n    }\n    console.info(\"Bokeh: all callbacks have finished\");\n  }\n\n  function load_libs(js_urls, callback) {\n    root._bokeh_onload_callbacks.push(callback);\n    if (root._bokeh_is_loading > 0) {\n      console.log(\"Bokeh: BokehJS is being loaded, scheduling callback at\", now());\n      return null;\n    }\n    if (js_urls == null || js_urls.length === 0) {\n      run_callbacks();\n      return null;\n    }\n    console.log(\"Bokeh: BokehJS not loaded, scheduling load and callback at\", now());\n    root._bokeh_is_loading = js_urls.length;\n    for (var i = 0; i < js_urls.length; i++) {\n      var url = js_urls[i];\n      var s = document.createElement('script');\n      s.src = url;\n      s.async = false;\n      s.onreadystatechange = s.onload = function() {\n        root._bokeh_is_loading--;\n        if (root._bokeh_is_loading === 0) {\n          console.log(\"Bokeh: all BokehJS libraries loaded\");\n          run_callbacks()\n        }\n      };\n      s.onerror = function() {\n        console.warn(\"failed to load library \" + url);\n      };\n      console.log(\"Bokeh: injecting script tag for BokehJS library: \", url);\n      document.getElementsByTagName(\"head\")[0].appendChild(s);\n    }\n  };var element = document.getElementById(\"496f8f04-7a1a-4980-878e-d94a5d2f3f55\");\n  if (element == null) {\n    console.log(\"Bokeh: ERROR: autoload.js configured with elementid '496f8f04-7a1a-4980-878e-d94a5d2f3f55' but no matching script tag was found. \")\n    return false;\n  }\n\n  var js_urls = [\"https://cdn.pydata.org/bokeh/release/bokeh-0.12.16.min.js\", \"https://cdn.pydata.org/bokeh/release/bokeh-widgets-0.12.16.min.js\", \"https://cdn.pydata.org/bokeh/release/bokeh-tables-0.12.16.min.js\", \"https://cdn.pydata.org/bokeh/release/bokeh-gl-0.12.16.min.js\"];\n\n  var inline_js = [\n    function(Bokeh) {\n      Bokeh.set_log_level(\"info\");\n    },\n    \n    function(Bokeh) {\n      \n    },\n    function(Bokeh) {\n      console.log(\"Bokeh: injecting CSS: https://cdn.pydata.org/bokeh/release/bokeh-0.12.16.min.css\");\n      Bokeh.embed.inject_css(\"https://cdn.pydata.org/bokeh/release/bokeh-0.12.16.min.css\");\n      console.log(\"Bokeh: injecting CSS: https://cdn.pydata.org/bokeh/release/bokeh-widgets-0.12.16.min.css\");\n      Bokeh.embed.inject_css(\"https://cdn.pydata.org/bokeh/release/bokeh-widgets-0.12.16.min.css\");\n      console.log(\"Bokeh: injecting CSS: https://cdn.pydata.org/bokeh/release/bokeh-tables-0.12.16.min.css\");\n      Bokeh.embed.inject_css(\"https://cdn.pydata.org/bokeh/release/bokeh-tables-0.12.16.min.css\");\n    }\n  ];\n\n  function run_inline_js() {\n    \n    if ((root.Bokeh !== undefined) || (force === true)) {\n      for (var i = 0; i < inline_js.length; i++) {\n        inline_js[i].call(root, root.Bokeh);\n      }if (force === true) {\n        display_loaded();\n      }} else if (Date.now() < root._bokeh_timeout) {\n      setTimeout(run_inline_js, 100);\n    } else if (!root._bokeh_failed_load) {\n      console.log(\"Bokeh: BokehJS failed to load within specified timeout.\");\n      root._bokeh_failed_load = true;\n    } else if (force !== true) {\n      var cell = $(document.getElementById(\"496f8f04-7a1a-4980-878e-d94a5d2f3f55\")).parents('.cell').data().cell;\n      cell.output_area.append_execute_result(NB_LOAD_WARNING)\n    }\n\n  }\n\n  if (root._bokeh_is_loading === 0) {\n    console.log(\"Bokeh: BokehJS loaded, going straight to plotting\");\n    run_inline_js();\n  } else {\n    load_libs(js_urls, function() {\n      console.log(\"Bokeh: BokehJS plotting callback run at\", now());\n      run_inline_js();\n    });\n  }\n}(window));"
     },
     "metadata": {},
     "output_type": "display_data"
    }
   ],
   "source": [
    "output_notebook()"
   ]
  },
  {
   "cell_type": "code",
   "execution_count": 569,
   "metadata": {
    "collapsed": true
   },
   "outputs": [],
   "source": [
    "'''\n",
    "Get the clirad-lw and lblnew `param`s for all spectral bands.  \n",
    "These are returned by functions `clirad_params_atm` and\n",
    "`lblnew_params_atm`, respectively.\n",
    "'''\n",
    "\n",
    "def molecules_byband_atm():\n",
    "    return {1: {'h2o': 'atmpro'},\n",
    "            2: {'h2o': 'atmpro'}, \n",
    "            3: {'co2': 0.0004, 'h2o': 'atmpro', 'n2o': 3.2e-07},\n",
    "            4: {'co2': 0.0004, 'h2o': 'atmpro'},\n",
    "            5: {'co2': 0.0004, 'h2o': 'atmpro'},\n",
    "            6: {'co2': 0.0004, 'h2o': 'atmpro'},\n",
    "            7: {'co2': 0.0004, 'h2o': 'atmpro', 'o3': 'atmpro'},\n",
    "            8: {'h2o': 'atmpro'},\n",
    "            9: {'ch4': 1.8e-06, 'h2o': 'atmpro', 'n2o': 3.2e-07},\n",
    "            10: {'h2o': 'atmpro'},\n",
    "            11: {'co2': 0.0004, 'h2o': 'atmpro'}}\n",
    "\n",
    "\n",
    "def greyabsorbers_by_band_atm():\n",
    "    return {1: {'con': 'atmpro'},\n",
    "            2: {'con': 'atmpro'},\n",
    "            3: {'con': 'atmpro'},\n",
    "            4: {'con': 'atmpro'},\n",
    "            5: {'con': 'atmpro'},\n",
    "            6: {'con': 'atmpro'}, \n",
    "            7: {'con': 'atmpro'},\n",
    "            8: {'con': 'atmpro', 'n2o': 3.2e-7}, \n",
    "            9: {'con': 'atmpro'}, \n",
    "            10: None,\n",
    "            11: None}\n",
    "\n",
    "\n",
    "def clirad_params_atm(atmpro='mls'):\n",
    "    d = {}\n",
    "    for band, molecule in molecules_byband_atm().items():\n",
    "        for param in setup_cliradlw.test_cases():\n",
    "            if [band] == param['band'] and molecule == param['molecule']:\n",
    "                param['atmpro'] = atmpro\n",
    "                d[band] = param\n",
    "                break                \n",
    "    return d\n",
    "\n",
    "\n",
    "def clirad_params_atm_singlerun(atmpro='mls'):\n",
    "    '''\n",
    "    Returns param of clirad-lw run that is equivalent to the total\n",
    "    of all the runs listed in molecules_byband_atm().  In order\n",
    "    for the output to be compatible with clirad_data_atm(), it will\n",
    "    be a list.\n",
    "    '''\n",
    "    param0 = {'band': [1, 2, 3, 4, 5, 6, 7, 8, 9, 10, 11],\n",
    "              'commitnumber': '75e07d9',\n",
    "              'molecule': {'ch4': 1.8e-06,\n",
    "                           'co2': 0.0004,\n",
    "                           'h2o': 'atmpro',\n",
    "                           'n2o': 3.2e-07,\n",
    "                           'o3': 'atmpro'}}\n",
    "    \n",
    "    d_atmpros = {'mls': 294, 'saw': 257, 'trp': 300}\n",
    "    \n",
    "    param = param0.copy()\n",
    "    param['atmpro'] = atmpro\n",
    "    param['tsfc'] = d_atmpros[atmpro]\n",
    "    \n",
    "    d = {}\n",
    "    d['all'] = param\n",
    "    return d\n",
    "\n",
    "\n",
    "def analysis_dirs_atm(atmpro='mls'):\n",
    "    params = clirad_params_atm(atmpro=atmpro)\n",
    "    return {band: pipe_cliradlw.get_analysis_dir(param=param,\n",
    "                                                 setup=setup_cliradlw) \n",
    "            for band, param in params.items()}\n",
    "\n",
    "\n",
    "def lblnew_params_atm(atmpro='mls'):\n",
    "    dirs = analysis_dirs_atm(atmpro=atmpro)\n",
    "    \n",
    "    d = {}\n",
    "    for band, dirname in dirs.items():\n",
    "        with open(os.path.join(dirname, 'param.py'), \n",
    "                  mode='r', encoding='utf-8') as f:\n",
    "            _, l = f.readlines()\n",
    "        \n",
    "        s = l.split('=')[1].strip()\n",
    "        d[band] = ast.literal_eval(s)\n",
    "        \n",
    "    return d\n"
   ]
  },
  {
   "cell_type": "code",
   "execution_count": 570,
   "metadata": {
    "collapsed": true
   },
   "outputs": [],
   "source": [
    "def db_getdir():\n",
    "    atmpro = 'mls'\n",
    "    params = clirad_params_atm_singlerun(atmpro=atmpro)\n",
    "    param = params['all']\n",
    "    \n",
    "    fdir = pipe_cliradlw.get_fortran_dir(param=param, \n",
    "                                         setup=setup_cliradlw)\n",
    "    return fdir\n",
    "\n",
    "\n",
    "def db_ktable():\n",
    "    fdir = db_getdir()    \n",
    "    fpath = os.path.join(fdir, 'ktable.dat')\n",
    "    \n",
    "    df = pd.read_csv(fpath, sep=r'\\s+')\n",
    "    df = df.set_index(['band', 'mid', 'il', 'it', 'g'])\n",
    "    ds = xr.Dataset.from_dataframe(df)\n",
    "    return ds\n",
    "\n",
    "\n",
    "def db_ng_dgs():\n",
    "    fdir = db_getdir()\n",
    "    fpath = os.path.join(fdir, 'ng_dgs.dat')\n",
    "    \n",
    "    df = pd.read_csv(fpath, sep=r'\\s+')\n",
    "    df = df.set_index(['band', 'mid', 'g'])\n",
    "    ds = xr.Dataset.from_dataframe(df)\n",
    "    return ds\n"
   ]
  },
  {
   "cell_type": "code",
   "execution_count": 571,
   "metadata": {
    "collapsed": true
   },
   "outputs": [],
   "source": [
    "def show_makeup():\n",
    "    df = pd.DataFrame()\n",
    "\n",
    "    for band, molecule in molecules_byband_atm().items():\n",
    "        for name, conc in molecule.items():\n",
    "            df.loc[name, band] = str(conc)\n",
    "\n",
    "    df = df.fillna(0)\n",
    "    df.columns.name = 'clirad band'\n",
    "    df.index.name = 'molecule'\n",
    "    \n",
    "    display.display(df)\n",
    "    \n",
    "    display.display(\n",
    "        display.Markdown('*TABLE.* Non-grey absorbers in the atmosphere.'))\n",
    "\n",
    "\n",
    "def show_grey_makeup():\n",
    "    df = pd.DataFrame()\n",
    "    \n",
    "    for band, molecule in greyabsorbers_by_band_atm().items():\n",
    "        if molecule == None:\n",
    "            pass\n",
    "        else:\n",
    "            for name, conc in molecule.items():\n",
    "                df.loc[name, band] = str(conc)\n",
    "                \n",
    "    df = df.fillna(0)\n",
    "    df.columns.name = 'clirad band'\n",
    "    df.index.name = 'absorber'\n",
    "    \n",
    "    display.display(df)\n",
    "    display.display(\n",
    "        display.Markdown('*TABLE.* Grey absorbers in the atmosphere.')\n",
    "    )"
   ]
  },
  {
   "cell_type": "code",
   "execution_count": 572,
   "metadata": {
    "collapsed": true
   },
   "outputs": [],
   "source": [
    "def load_output_file(path_csv):\n",
    "    '''\n",
    "    Load lblnew output .csv file to xarray.Dataset\n",
    "    \n",
    "    Parameters\n",
    "    ----------\n",
    "    path_csv: str\n",
    "              Path to the .csv file to be loaded.\n",
    "    ds: xarray.Dataset\n",
    "        Data in the input file in the form of an xarray.Dataset.\n",
    "    '''\n",
    "    toindex = ['band', 'pressure', 'igg', 'g']    \n",
    "    df = pd.read_csv(path_csv, sep=r'\\s+')\n",
    "    df = df.set_index([i for i in toindex if i in df.columns])\n",
    "    df = df.rename(columns={'sfu': 'flug',\n",
    "                            'sfd': 'fldg',\n",
    "                            'fnet': 'fnetg',\n",
    "                            'coolr': 'coolrg'})\n",
    "    ds = xr.Dataset.from_dataframe(df)\n",
    "\n",
    "    for l in ('level', 'layer'):\n",
    "        if l in ds.data_vars:\n",
    "            if len(ds[l].dims) > 1:\n",
    "                surface = {d: 0 for d in ds.dims if d != 'pressure'}\n",
    "                coord_level = ds[l][surface]\n",
    "                ds.coords[l] = ('pressure', coord_level)\n",
    "            else:\n",
    "                ds.coords[l] = ('pressure', ds[l])\n",
    "    \n",
    "    return ds"
   ]
  },
  {
   "cell_type": "code",
   "execution_count": 573,
   "metadata": {
    "collapsed": true
   },
   "outputs": [],
   "source": [
    "def lblnew_setup(param=None):\n",
    "    if 'ng_refs' in param:\n",
    "        return {'setup': setup_bestfit,\n",
    "                'fname_flux_crd': 'output_flux.dat',\n",
    "                'fname_cool_crd': 'output_coolr.dat',\n",
    "                'fname_flux_wgt': 'output_wfluxg.dat',\n",
    "                'fname_cool_wgt': 'output_wcoolrg.dat'}\n",
    "    else:\n",
    "        return {'setup': setup_overlap,\n",
    "                'fname_flux_crd': 'output_flux.dat',\n",
    "                'fname_cool_crd': 'output_coolr.dat',\n",
    "                'fname_flux_wgt': 'output_wflux.dat',\n",
    "                'fname_cool_wgt': 'output_wcoolr.dat'}\n",
    "\n",
    "    \n",
    "def load_lblnew_data(param):\n",
    "    \n",
    "    fname_dsname = [('fname_flux_crd', 'ds_flux_crd'),\n",
    "                    ('fname_cool_crd', 'ds_cool_crd'),\n",
    "                    ('fname_flux_wgt', 'ds_flux_wgt'),\n",
    "                    ('fname_cool_wgt', 'ds_cool_wgt')]\n",
    "    \n",
    "    d = lblnew_setup(param)\n",
    "    dir_fortran = pipe_lblnew.get_dir_case(param, setup=d['setup'])\n",
    "    \n",
    "    data_dict = {}\n",
    "    for fname, dsname in fname_dsname:\n",
    "        fpath = os.path.join(dir_fortran, d[fname])\n",
    "        data_dict[dsname] = load_output_file(fpath)\n",
    "    return data_dict"
   ]
  },
  {
   "cell_type": "code",
   "execution_count": 574,
   "metadata": {
    "collapsed": true
   },
   "outputs": [],
   "source": [
    "def crd_data_atm(params_atm):\n",
    "    '''\n",
    "    Parameters\n",
    "    ----------\n",
    "    \n",
    "    params_atm: dict\n",
    "                Parameter dictionary for each band.\n",
    "                \n",
    "    d: dict\n",
    "       'flux': xr.Dataset. [pressure, band]\n",
    "               Fluxes.\n",
    "       'cool': xr.Dataset. [pressure, band]\n",
    "               Cooling rate.\n",
    "    \n",
    "    '''\n",
    "    \n",
    "    results_atm = {band: load_lblnew_data(param) \n",
    "                   for band, param in params_atm.items()}\n",
    "    \n",
    "    bands = [band for band, _ in params_atm.items()]\n",
    "    fluxs = [d['ds_flux_crd'] for _, d in results_atm.items()]\n",
    "    cools = [d['ds_cool_crd'] for _, d in results_atm.items()]\n",
    "    \n",
    "    d = {}\n",
    "    d['flux'] = xr.concat(fluxs, dim=bands).rename({'concat_dim': 'band'})\n",
    "    d['cool'] = xr.concat(cools, dim=bands).rename({'concat_dim': 'band'})\n",
    "    return d        \n",
    "        \n",
    "        \n",
    "\n",
    "def clirad_data_atm(params_atm):\n",
    "    \n",
    "    dirnames = [pipe_cliradlw.get_fortran_dir(param,\n",
    "                                              setup=setup_cliradlw)\n",
    "                for _, param in params_atm.items()]\n",
    "    \n",
    "    fpaths_flux = [os.path.join(n, 'output_flux.dat') for n in dirnames]\n",
    "    fpaths_cool = [os.path.join(n, 'output_coolr.dat') for n in dirnames]\n",
    "    \n",
    "    fluxs = [load_output_file(p) for p in fpaths_flux]    \n",
    "    cools = [load_output_file(p) for p in fpaths_cool]\n",
    "    \n",
    "    d = {}\n",
    "    d['flux'] = sum(fluxs)\n",
    "    d['cool'] = sum(cools)\n",
    "    return d\n",
    "\n"
   ]
  },
  {
   "cell_type": "code",
   "execution_count": 575,
   "metadata": {
    "collapsed": true
   },
   "outputs": [],
   "source": [
    "\n",
    "\n",
    "import rtmtools.clirad.sw.wrangle as cliradwrangle\n",
    "\n",
    "import importlib\n",
    "importlib.reload(cliradwrangle)\n",
    "\n",
    "def oldclirad_data_atm():\n",
    "    '''\n",
    "    Load the OLD clirad's results. mls only.\n",
    "    '''\n",
    "    fpath = os.path.join('/chia_cluster/home/jackyu/radiation',\n",
    "                         'clirad-lw',\n",
    "                         'LW',\n",
    "                         'examples',\n",
    "                         'mls75_h2o_atmpro_co2_.0004_o3_atmpro_n2o_3.2e-7_ch4_1.8e-6_H2012',\n",
    "                         'OUTPUT_CLIRAD.dat')\n",
    "    \n",
    "    ds = cliradwrangle.load_OUTPUT_CLIRAD(readfrom=fpath)\n",
    "    \n",
    "    ds_cool = xr.Dataset()\n",
    "    ds_cool.coords['pressure'] = ('pressure', ds['layer_pressure'])\n",
    "    ds_cool.coords['band'] = ('band', ds['spectral_band'])\n",
    "    ds_cool['coolrg'] = (('band', 'pressure'), - ds['heating_rate'])\n",
    "    \n",
    "    ds_flux = xr.Dataset()\n",
    "    ds_flux.coords['pressure'] = ('pressure', ds['level_pressure'])\n",
    "    ds_flux.coords['band'] = ('band', ds['spectral_band'])\n",
    "    ds_flux['flug'] = (('band', 'pressure'), ds['flux_up'])\n",
    "    ds_flux['fldg'] = (('band', 'pressure'), ds['flux_down'])\n",
    "    ds_flux['fnetg'] = (('band', 'pressure'), ds['net_flux'])\n",
    "    \n",
    "    \n",
    "    d = {}\n",
    "    d['cool'] = ds_cool\n",
    "    d['flux'] = ds_flux\n",
    "    return d\n"
   ]
  },
  {
   "cell_type": "code",
   "execution_count": 576,
   "metadata": {
    "collapsed": true
   },
   "outputs": [],
   "source": [
    "def fmt_cool(ds_in):\n",
    "    ds = ds_in.copy(deep=True)\n",
    "    if 'igg' in ds.dims:\n",
    "        ds = ds.sel(igg=1)\n",
    "\n",
    "    if 'g' in ds.dims:\n",
    "        ds = ds.sum('g')\n",
    "            \n",
    "    if 'band' in ds.dims:\n",
    "        try:\n",
    "            ds = ds.squeeze('band')\n",
    "        except ValueError:\n",
    "            ds = ds.sum('band')\n",
    "                \n",
    "    return ds['coolrg']\n",
    "\n",
    "\n",
    "\n",
    "def nice_xlims(pltdata=None, prange=None):\n",
    "    \n",
    "    def get_slice(srs):\n",
    "        return srs.sel(pressure=slice(*prange))\n",
    "    \n",
    "    srss = [d['srs'] for d in pltdata]\n",
    "    vmin = min([get_slice(srs).min() for srs in srss])\n",
    "    vmax = max([get_slice(srs).max() for srs in srss])\n",
    "    dv = (vmax - vmin) * .01\n",
    "    return float(vmin - dv), float(vmax + dv)\n",
    "\n",
    "\n",
    "    \n",
    "def plt_cool_bokeh(pltdata=None, \n",
    "                   y_axis_type='linear', prange=(50, 1050)):\n",
    "    \n",
    "    ymin = 1e-2 \n",
    "    ymax = 1020\n",
    "    \n",
    "    p2 = figure(y_axis_type=y_axis_type, plot_width=300)\n",
    "    xmin, xmax = nice_xlims(pltdata, prange=prange)\n",
    "    \n",
    "    rs = []\n",
    "    for d in pltdata:\n",
    "        rd = []\n",
    "        if 'marker' in d:\n",
    "            r_mark = getattr(p2, d['marker'])(d['srs'].values, \n",
    "                        d['srs'].coords['pressure'].values,\n",
    "                        color=d['color'], alpha=.7)\n",
    "            rd.append(r_mark)\n",
    "        r_line = p2.line(d['srs'].values, \n",
    "                         d['srs'].coords['pressure'].values,\n",
    "                         color=d['color'], alpha=d['alpha'], \n",
    "                         line_width=d['line_width'], \n",
    "                         line_dash=d['line_dash'])\n",
    "        rd.append(r_line)\n",
    "      \n",
    "        rs.append(rd)\n",
    "        \n",
    "    p2.y_range = Range1d(ymax, ymin)  \n",
    "    p2.yaxis.axis_label = 'pressure [mb]'\n",
    "    \n",
    "    p2.x_range = Range1d(xmin, xmax)\n",
    "    p2.xaxis.axis_label = 'cooling rate [K/day]'\n",
    "    \n",
    "    items = [(d['label'], r) for r, d in zip(rs, pltdata)]\n",
    "    legend = Legend(items=items, location=(10, 0))\n",
    "    legend.label_text_font_size = '8pt'\n",
    "    p2.add_layout(legend, 'above')\n",
    "    p2.legend.orientation = 'horizontal'\n",
    "    p2.legend.location = 'top_center'\n",
    "    \n",
    "    return p2"
   ]
  },
  {
   "cell_type": "code",
   "execution_count": 577,
   "metadata": {
    "collapsed": true
   },
   "outputs": [],
   "source": [
    "def pltdata_cool(atmpro='mls'):\n",
    "    \n",
    "    d_clirad_singlerun = clirad_data_atm(\n",
    "        clirad_params_atm_singlerun(atmpro=atmpro))\n",
    "    d_clirad = clirad_data_atm(clirad_params_atm(atmpro=atmpro))\n",
    "    d_crd = crd_data_atm(lblnew_params_atm(atmpro=atmpro))\n",
    "\n",
    "    ds_clirad_singlerun = d_clirad_singlerun['cool']\n",
    "    ds_clirad = d_clirad['cool']\n",
    "    ds_crd = d_crd['cool']\n",
    "\n",
    "    colors = all_palettes['Set1'][4]\n",
    "    \n",
    "    data = [\n",
    "        {'label': 'CLIRAD (single-run)',\n",
    "        'srs': fmt_cool(ds_clirad_singlerun),\n",
    "        'line_dash': 'dashed', 'line_width': 5,\n",
    "        'color': colors[1], 'alpha': .6},\n",
    "        {'label': 'CRD',\n",
    "         'srs': fmt_cool(ds_crd),\n",
    "         'line_dash': 'solid', 'line_width': 1.5,\n",
    "         'marker': 'circle', 'marker_size': 5,\n",
    "         'color': colors[2], 'alpha': 1}\n",
    "    ]\n",
    "#        {'label': 'CLIRAD',\n",
    "#         'srs': fmt_cool(ds_clirad),\n",
    "#         'line_dash': 'dashed', 'line_width': 5,\n",
    "#         'color': colors[0], 'alpha': .6}\n",
    "        \n",
    "\n",
    "    \n",
    "    # include old CLIRAD's results for mls profile\n",
    "    if atmpro == 'mls':\n",
    "        d_oldclirad = oldclirad_data_atm()\n",
    "        ds_oldclirad = d_oldclirad['cool']        \n",
    "        data.append(\n",
    "            {'label': 'old CLIRAD (H2012)',\n",
    "             'srs': fmt_cool(ds_oldclirad),\n",
    "             'line_dash': 'solid', 'line_width': 1.5,\n",
    "             'marker': 'square', 'marker_size': 3,\n",
    "             'color': colors[3], 'alpha': .5})\n",
    "    return data\n",
    "\n",
    "\n",
    "def pltdata_cooldiff(atmpro='mls'):\n",
    "    \n",
    "    d_clirad_singlerun = clirad_data_atm(\n",
    "        clirad_params_atm_singlerun(atmpro=atmpro))\n",
    "    d_clirad = clirad_data_atm(clirad_params_atm(atmpro=atmpro))\n",
    "    d_crd = crd_data_atm(lblnew_params_atm(atmpro=atmpro))\n",
    "    \n",
    "    ds_clirad_singlerun = d_clirad_singlerun['cool']\n",
    "    ds_clirad = d_clirad['cool']\n",
    "    ds_crd = d_crd['cool']\n",
    "    \n",
    "    ds_diff = ds_clirad_singlerun - ds_crd\n",
    "    \n",
    "    colors = all_palettes['Set1'][4]\n",
    "    \n",
    "    data = [\n",
    "        {'label': 'CLIRAD (single-run) - CRD',\n",
    "         'srs': fmt_cool(ds_diff),\n",
    "         'line_dash': 'solid', 'line_width': 1.5, \n",
    "         'marker': 'circle', 'marker_size': 7,\n",
    "         'color': colors[3], 'alpha': .8}\n",
    "    ]\n",
    "    \n",
    "    # include old CLIRAD's results for mls profile\n",
    "    if atmpro == 'mls':\n",
    "        d_oldclirad = oldclirad_data_atm()\n",
    "        ds_oldclirad = d_oldclirad['cool']\n",
    "        ds_oldclirad.coords['pressure'] = ds_crd.coords['pressure']\n",
    "        ds_diff_old = ds_oldclirad.sum('band') - ds_crd.sum('band')\n",
    "        data.append(\n",
    "            {'label': 'old CLIRAD (H2012) - CRD',\n",
    "             'srs': fmt_cool(ds_diff_old),\n",
    "             'line_dash': 'dashed', 'line_width': 4,\n",
    "             'color': colors[1], 'alpha': .5}\n",
    "        )\n",
    "    return data\n",
    "\n",
    "\n",
    "def show_cool(atmpro='mls'):\n",
    "    \n",
    "    data_cool = pltdata_cool(atmpro=atmpro)\n",
    "    p_cool_liny = plt_cool_bokeh(pltdata=data_cool)\n",
    "    p_cool_logy = plt_cool_bokeh(pltdata=data_cool, \n",
    "                                 y_axis_type='log',\n",
    "                                 prange=(.01, 200))\n",
    "    \n",
    "    data_cooldiff = pltdata_cooldiff(atmpro=atmpro)\n",
    "    p_cooldiff_logy = plt_cool_bokeh(pltdata=data_cooldiff,\n",
    "                                     y_axis_type='log',\n",
    "                                     prange=(.01, 200))\n",
    "    \n",
    "    everything = gridplot(p_cool_liny, p_cool_logy, \n",
    "                          p_cooldiff_logy,\n",
    "                          ncols=3)\n",
    "    show(everything)\n",
    "    display.display(\n",
    "        display.Markdown('*FIGURE.* Cooling rates & difference.'))\n",
    "\n",
    "\n",
    "    "
   ]
  },
  {
   "cell_type": "code",
   "execution_count": null,
   "metadata": {
    "collapsed": true
   },
   "outputs": [],
   "source": []
  },
  {
   "cell_type": "code",
   "execution_count": 578,
   "metadata": {
    "collapsed": true,
    "scrolled": false
   },
   "outputs": [],
   "source": [
    "\n",
    "\n",
    "def hist_band_vs_flux(da, title='Title'):\n",
    "       \n",
    "    bands = [str(b.values) for b in da['band']]\n",
    "\n",
    "    source = ColumnDataSource(\n",
    "        data={'band': bands, 'flux': da.values})\n",
    "\n",
    "    p = figure(x_range=bands, title=title)\n",
    "    p.vbar(source=source, x='band', top='flux', width=.9)\n",
    "\n",
    "    p.yaxis.axis_label = 'flux (W m-2)'\n",
    "    p.xaxis.axis_label = 'spectral band'\n",
    "    \n",
    "    return p\n",
    "\n",
    "\n",
    "def show_hist_flux(atmpro='mls'):\n",
    "    ds_crd = crd_data_atm(lblnew_params_atm(atmpro=atmpro))['flux']\n",
    "    ds_clirad = clirad_data_atm(\n",
    "        clirad_params_atm(atmpro=atmpro))['flux']\n",
    "    ds_clirad_singlerun = clirad_data_atm(\n",
    "        clirad_params_atm_singlerun(atmpro=atmpro))['flux']\n",
    "    \n",
    "    ip, varname = 0, 'flug'\n",
    "    da = (ds_clirad_singlerun - ds_crd).isel(pressure=ip)[varname]\n",
    "    p_toa = hist_band_vs_flux(da, \n",
    "        title='TOA flux. CLIRAD (single-run) - CRD.')\n",
    "\n",
    "    ip, varname = -1, 'fldg'\n",
    "    da = (ds_clirad_singlerun - ds_crd).isel(pressure=ip)[varname]\n",
    "    p_sfc = hist_band_vs_flux(da, \n",
    "        title='SFC flux. CLIRAD (single-run) - CRD.')    \n",
    "    \n",
    "    atm_crd = (ds_crd.isel(pressure=0) \n",
    "               - ds_crd.isel(pressure=-1))['fnetg']\n",
    "    atm_clirad_singlerun = (ds_clirad_singlerun.isel(pressure=0) \n",
    "                  - ds_clirad_singlerun.isel(pressure=-1))['fnetg']\n",
    "    da = atm_clirad_singlerun - atm_crd\n",
    "    p_atm = hist_band_vs_flux(da, \n",
    "        title='Atmosphere heating. CLIRAD (single-run) - CRD.')\n",
    "\n",
    "    everything = gridplot(p_toa, p_sfc, p_atm, ncols=3, \n",
    "                          plot_width=300, plot_height=300)\n",
    "    \n",
    "    show(everything)\n",
    "    display.display(\n",
    "        display.Markdown('*FIGURE.* Difference between CLIRAD and CRD'\n",
    "          ' in TOA, SFC and net atmosphere flux,'\n",
    "          ' in each spectral band.'))\n",
    "\n",
    "\n",
    "    \n",
    "def show_tb_flux(atmpro='mls'):\n",
    "    ds_crd = crd_data_atm(lblnew_params_atm(atmpro=atmpro))['flux']\n",
    "    olr_crd = ds_crd['flug'].isel(pressure=0)\n",
    "    sfc_crd = ds_crd['fldg'].isel(pressure=-1)\n",
    "    atm_crd = (ds_crd.isel(pressure=0)\n",
    "               - ds_crd.isel(pressure=-1))['fnetg']\n",
    "    \n",
    "    ds_clirad = clirad_data_atm(\n",
    "        clirad_params_atm(atmpro=atmpro))['flux']\n",
    "    olr_clirad = ds_clirad['flug'].isel(pressure=0)\n",
    "    sfc_clirad = ds_clirad['fldg'].isel(pressure=-1)\n",
    "    atm_clirad = (ds_clirad.isel(pressure=0)\n",
    "                  - ds_clirad.isel(pressure=-1))['fnetg']\n",
    "\n",
    "    ds_clirad_singlerun = clirad_data_atm(\n",
    "        clirad_params_atm_singlerun(atmpro=atmpro))['flux']\n",
    "    olr_clirad_singlerun = ds_clirad_singlerun['flug'].isel(pressure=0)\n",
    "    sfc_clirad_singlerun = ds_clirad_singlerun['fldg'].isel(pressure=-1)\n",
    "    atm_clirad_singlerun = (ds_clirad_singlerun.isel(pressure=0)\n",
    "                  - ds_clirad_singlerun.isel(pressure=-1))['fnetg']\n",
    "    \n",
    "    if atmpro == 'mls':\n",
    "        ds_oldclirad = oldclirad_data_atm()['flux']\n",
    "        ds_oldclirad['pressure'] = ds_crd['pressure']\n",
    "        olr_oldclirad = ds_oldclirad['flug'].isel(pressure=0)\n",
    "        sfc_oldclirad = ds_oldclirad['fldg'].isel(pressure=-1)\n",
    "        atm_oldclirad = (ds_oldclirad.isel(pressure=0)\n",
    "                         - ds_oldclirad.isel(pressure=-1))['fnetg']\n",
    "        \n",
    "    \n",
    "    \n",
    "    df = pd.DataFrame()\n",
    "    df.index.name = 'Sum over bands'\n",
    "    \n",
    "    if atmpro == 'mls':\n",
    "        df.loc['old CLIRAD - CRD', 'OLR flux'] = (olr_oldclirad.sum('band') - olr_crd.sum('band')).values\n",
    "        df.loc['old CLIRAD - CRD', 'SFC flux'] = (sfc_oldclirad.sum('band') - sfc_crd.sum('band')).values\n",
    "        df.loc['old CLIRAD - CRD', 'ATM heating'] = (atm_oldclirad.sum('band') - atm_crd.sum('band')).values\n",
    "    \n",
    "    df.loc['CLIRAD (single-run) - CRD', 'OLR flux'] = (olr_clirad_singlerun - olr_crd).sum('band').values\n",
    "    df.loc['CLIRAD (single-run) - CRD', 'SFC flux'] = (sfc_clirad_singlerun - sfc_crd).sum('band').values\n",
    "    df.loc['CLIRAD (single-run) - CRD', 'ATM heating'] = (atm_clirad_singlerun - atm_crd).sum('band').values\n",
    "\n",
    "    df.loc['CRD', 'OLR flux'] = olr_crd.sum('band').values\n",
    "    df.loc['CRD', 'SFC flux'] = sfc_crd.sum('band').values\n",
    "    df.loc['CRD', 'ATM heating'] = atm_crd.sum('band').values\n",
    "        \n",
    "    df = df.astype('float').round(2)\n",
    "    \n",
    "    display.display(df)\n",
    "    display.display(\n",
    "        display.Markdown('*TABLE.* Difference between CLIRAD and CRD'\n",
    "          ' in TOA, SFC and net atmosphere flux,'\n",
    "          ' over all spectral bands. CRD\\'s'\n",
    "          ' TOA, SFC and net atmosphere flux,'\n",
    "          ' over all spectral bands.'))\n"
   ]
  },
  {
   "cell_type": "code",
   "execution_count": 579,
   "metadata": {
    "scrolled": false
   },
   "outputs": [
    {
     "data": {
      "text/markdown": [
       "## Results over entire range of molecules and spectral bands"
      ],
      "text/plain": [
       "<IPython.core.display.Markdown object>"
      ]
     },
     "metadata": {},
     "output_type": "display_data"
    },
    {
     "data": {
      "text/markdown": [
       "### Table of Contents"
      ],
      "text/plain": [
       "<IPython.core.display.Markdown object>"
      ]
     },
     "metadata": {},
     "output_type": "display_data"
    },
    {
     "data": {
      "text/html": [
       "<a href=\"#Makeup_of_atmosphere.\">Makeup of atmosphere.</a>"
      ],
      "text/plain": [
       "<IPython.core.display.HTML object>"
      ]
     },
     "metadata": {},
     "output_type": "display_data"
    },
    {
     "data": {
      "text/markdown": [
       "**mid-latitude summer**"
      ],
      "text/plain": [
       "<IPython.core.display.Markdown object>"
      ]
     },
     "metadata": {},
     "output_type": "display_data"
    },
    {
     "data": {
      "text/html": [
       "<a href=\"#Cooling_rates._mls.\">Cooling rates. mls.</a>"
      ],
      "text/plain": [
       "<IPython.core.display.HTML object>"
      ]
     },
     "metadata": {},
     "output_type": "display_data"
    },
    {
     "data": {
      "text/html": [
       "<a href=\"#Fluxes._mls.\">Fluxes. mls.</a>"
      ],
      "text/plain": [
       "<IPython.core.display.HTML object>"
      ]
     },
     "metadata": {},
     "output_type": "display_data"
    },
    {
     "data": {
      "text/markdown": [
       "**sub-arctic winter**"
      ],
      "text/plain": [
       "<IPython.core.display.Markdown object>"
      ]
     },
     "metadata": {},
     "output_type": "display_data"
    },
    {
     "data": {
      "text/html": [
       "<a href=\"#Cooling_rates._saw.\">Cooling rates. saw.</a>"
      ],
      "text/plain": [
       "<IPython.core.display.HTML object>"
      ]
     },
     "metadata": {},
     "output_type": "display_data"
    },
    {
     "data": {
      "text/html": [
       "<a href=\"#Fluxes._saw.\">Fluxes. saw.</a>"
      ],
      "text/plain": [
       "<IPython.core.display.HTML object>"
      ]
     },
     "metadata": {},
     "output_type": "display_data"
    },
    {
     "data": {
      "text/markdown": [
       "**tropical**"
      ],
      "text/plain": [
       "<IPython.core.display.Markdown object>"
      ]
     },
     "metadata": {},
     "output_type": "display_data"
    },
    {
     "data": {
      "text/html": [
       "<a href=\"#Cooling_rates._trp.\">Cooling rates. trp.</a>"
      ],
      "text/plain": [
       "<IPython.core.display.HTML object>"
      ]
     },
     "metadata": {},
     "output_type": "display_data"
    },
    {
     "data": {
      "text/html": [
       "<a href=\"#Fluxes._trp.\">Fluxes. trp.</a>"
      ],
      "text/plain": [
       "<IPython.core.display.HTML object>"
      ]
     },
     "metadata": {},
     "output_type": "display_data"
    },
    {
     "data": {
      "text/html": [
       "<a id=\"Makeup_of_atmosphere.\"></a>"
      ],
      "text/plain": [
       "<IPython.core.display.HTML object>"
      ]
     },
     "metadata": {},
     "output_type": "display_data"
    },
    {
     "data": {
      "text/markdown": [
       "# Makeup of atmosphere."
      ],
      "text/plain": [
       "<IPython.core.display.Markdown object>"
      ]
     },
     "metadata": {},
     "output_type": "display_data"
    },
    {
     "data": {
      "text/html": [
       "<div>\n",
       "<style scoped>\n",
       "    .dataframe tbody tr th:only-of-type {\n",
       "        vertical-align: middle;\n",
       "    }\n",
       "\n",
       "    .dataframe tbody tr th {\n",
       "        vertical-align: top;\n",
       "    }\n",
       "\n",
       "    .dataframe thead th {\n",
       "        text-align: right;\n",
       "    }\n",
       "</style>\n",
       "<table border=\"1\" class=\"dataframe\">\n",
       "  <thead>\n",
       "    <tr style=\"text-align: right;\">\n",
       "      <th>clirad band</th>\n",
       "      <th>1</th>\n",
       "      <th>2</th>\n",
       "      <th>3</th>\n",
       "      <th>4</th>\n",
       "      <th>5</th>\n",
       "      <th>6</th>\n",
       "      <th>7</th>\n",
       "      <th>8</th>\n",
       "      <th>9</th>\n",
       "      <th>10</th>\n",
       "      <th>11</th>\n",
       "    </tr>\n",
       "    <tr>\n",
       "      <th>molecule</th>\n",
       "      <th></th>\n",
       "      <th></th>\n",
       "      <th></th>\n",
       "      <th></th>\n",
       "      <th></th>\n",
       "      <th></th>\n",
       "      <th></th>\n",
       "      <th></th>\n",
       "      <th></th>\n",
       "      <th></th>\n",
       "      <th></th>\n",
       "    </tr>\n",
       "  </thead>\n",
       "  <tbody>\n",
       "    <tr>\n",
       "      <th>h2o</th>\n",
       "      <td>atmpro</td>\n",
       "      <td>atmpro</td>\n",
       "      <td>atmpro</td>\n",
       "      <td>atmpro</td>\n",
       "      <td>atmpro</td>\n",
       "      <td>atmpro</td>\n",
       "      <td>atmpro</td>\n",
       "      <td>atmpro</td>\n",
       "      <td>atmpro</td>\n",
       "      <td>atmpro</td>\n",
       "      <td>atmpro</td>\n",
       "    </tr>\n",
       "    <tr>\n",
       "      <th>co2</th>\n",
       "      <td>0</td>\n",
       "      <td>0</td>\n",
       "      <td>0.0004</td>\n",
       "      <td>0.0004</td>\n",
       "      <td>0.0004</td>\n",
       "      <td>0.0004</td>\n",
       "      <td>0.0004</td>\n",
       "      <td>0</td>\n",
       "      <td>0</td>\n",
       "      <td>0</td>\n",
       "      <td>0.0004</td>\n",
       "    </tr>\n",
       "    <tr>\n",
       "      <th>n2o</th>\n",
       "      <td>0</td>\n",
       "      <td>0</td>\n",
       "      <td>3.2e-07</td>\n",
       "      <td>0</td>\n",
       "      <td>0</td>\n",
       "      <td>0</td>\n",
       "      <td>0</td>\n",
       "      <td>0</td>\n",
       "      <td>3.2e-07</td>\n",
       "      <td>0</td>\n",
       "      <td>0</td>\n",
       "    </tr>\n",
       "    <tr>\n",
       "      <th>o3</th>\n",
       "      <td>0</td>\n",
       "      <td>0</td>\n",
       "      <td>0</td>\n",
       "      <td>0</td>\n",
       "      <td>0</td>\n",
       "      <td>0</td>\n",
       "      <td>atmpro</td>\n",
       "      <td>0</td>\n",
       "      <td>0</td>\n",
       "      <td>0</td>\n",
       "      <td>0</td>\n",
       "    </tr>\n",
       "    <tr>\n",
       "      <th>ch4</th>\n",
       "      <td>0</td>\n",
       "      <td>0</td>\n",
       "      <td>0</td>\n",
       "      <td>0</td>\n",
       "      <td>0</td>\n",
       "      <td>0</td>\n",
       "      <td>0</td>\n",
       "      <td>0</td>\n",
       "      <td>1.8e-06</td>\n",
       "      <td>0</td>\n",
       "      <td>0</td>\n",
       "    </tr>\n",
       "  </tbody>\n",
       "</table>\n",
       "</div>"
      ],
      "text/plain": [
       "clirad band      1       2        3       4       5       6       7       8   \\\n",
       "molecule                                                                       \n",
       "h2o          atmpro  atmpro   atmpro  atmpro  atmpro  atmpro  atmpro  atmpro   \n",
       "co2               0       0   0.0004  0.0004  0.0004  0.0004  0.0004       0   \n",
       "n2o               0       0  3.2e-07       0       0       0       0       0   \n",
       "o3                0       0        0       0       0       0  atmpro       0   \n",
       "ch4               0       0        0       0       0       0       0       0   \n",
       "\n",
       "clirad band       9       10      11  \n",
       "molecule                              \n",
       "h2o           atmpro  atmpro  atmpro  \n",
       "co2                0       0  0.0004  \n",
       "n2o          3.2e-07       0       0  \n",
       "o3                 0       0       0  \n",
       "ch4          1.8e-06       0       0  "
      ]
     },
     "metadata": {},
     "output_type": "display_data"
    },
    {
     "data": {
      "text/markdown": [
       "*TABLE.* Non-grey absorbers in the atmosphere."
      ],
      "text/plain": [
       "<IPython.core.display.Markdown object>"
      ]
     },
     "metadata": {},
     "output_type": "display_data"
    },
    {
     "data": {
      "text/html": [
       "<div>\n",
       "<style scoped>\n",
       "    .dataframe tbody tr th:only-of-type {\n",
       "        vertical-align: middle;\n",
       "    }\n",
       "\n",
       "    .dataframe tbody tr th {\n",
       "        vertical-align: top;\n",
       "    }\n",
       "\n",
       "    .dataframe thead th {\n",
       "        text-align: right;\n",
       "    }\n",
       "</style>\n",
       "<table border=\"1\" class=\"dataframe\">\n",
       "  <thead>\n",
       "    <tr style=\"text-align: right;\">\n",
       "      <th>clirad band</th>\n",
       "      <th>1</th>\n",
       "      <th>2</th>\n",
       "      <th>3</th>\n",
       "      <th>4</th>\n",
       "      <th>5</th>\n",
       "      <th>6</th>\n",
       "      <th>7</th>\n",
       "      <th>8</th>\n",
       "      <th>9</th>\n",
       "    </tr>\n",
       "    <tr>\n",
       "      <th>absorber</th>\n",
       "      <th></th>\n",
       "      <th></th>\n",
       "      <th></th>\n",
       "      <th></th>\n",
       "      <th></th>\n",
       "      <th></th>\n",
       "      <th></th>\n",
       "      <th></th>\n",
       "      <th></th>\n",
       "    </tr>\n",
       "  </thead>\n",
       "  <tbody>\n",
       "    <tr>\n",
       "      <th>con</th>\n",
       "      <td>atmpro</td>\n",
       "      <td>atmpro</td>\n",
       "      <td>atmpro</td>\n",
       "      <td>atmpro</td>\n",
       "      <td>atmpro</td>\n",
       "      <td>atmpro</td>\n",
       "      <td>atmpro</td>\n",
       "      <td>atmpro</td>\n",
       "      <td>atmpro</td>\n",
       "    </tr>\n",
       "    <tr>\n",
       "      <th>n2o</th>\n",
       "      <td>0</td>\n",
       "      <td>0</td>\n",
       "      <td>0</td>\n",
       "      <td>0</td>\n",
       "      <td>0</td>\n",
       "      <td>0</td>\n",
       "      <td>0</td>\n",
       "      <td>3.2e-07</td>\n",
       "      <td>0</td>\n",
       "    </tr>\n",
       "  </tbody>\n",
       "</table>\n",
       "</div>"
      ],
      "text/plain": [
       "clirad band       1       2       3       4       5       6       7        8  \\\n",
       "absorber                                                                       \n",
       "con          atmpro  atmpro  atmpro  atmpro  atmpro  atmpro  atmpro   atmpro   \n",
       "n2o               0       0       0       0       0       0       0  3.2e-07   \n",
       "\n",
       "clirad band       9  \n",
       "absorber             \n",
       "con          atmpro  \n",
       "n2o               0  "
      ]
     },
     "metadata": {},
     "output_type": "display_data"
    },
    {
     "data": {
      "text/markdown": [
       "*TABLE.* Grey absorbers in the atmosphere."
      ],
      "text/plain": [
       "<IPython.core.display.Markdown object>"
      ]
     },
     "metadata": {},
     "output_type": "display_data"
    },
    {
     "data": {
      "text/html": [
       "<a id=\"Cooling_rates._mls.\"></a>"
      ],
      "text/plain": [
       "<IPython.core.display.HTML object>"
      ]
     },
     "metadata": {},
     "output_type": "display_data"
    },
    {
     "data": {
      "text/markdown": [
       "# Cooling rates. mls."
      ],
      "text/plain": [
       "<IPython.core.display.Markdown object>"
      ]
     },
     "metadata": {},
     "output_type": "display_data"
    },
    {
     "data": {
      "text/html": [
       "\n",
       "<div class=\"bk-root\">\n",
       "    <div class=\"bk-plotdiv\" id=\"8269defa-d16e-40bf-b45f-4d5312ab3f9d\"></div>\n",
       "</div>"
      ]
     },
     "metadata": {},
     "output_type": "display_data"
    },
    {
     "data": {
      "application/javascript": [
       "(function(root) {\n",
       "  function embed_document(root) {\n",
       "    \n",
       "  var docs_json = {\"810cc16d-d7e7-473f-8ffa-cb4c6ef148f0\":{\"roots\":{\"references\":[{\"attributes\":{},\"id\":\"3c35f54e-989c-4364-ad56-5ab2a1cf18ce\",\"type\":\"WheelZoomTool\"},{\"attributes\":{},\"id\":\"2dff3cb1-9ac2-4d6b-bc9f-caeaecc75ceb\",\"type\":\"Selection\"},{\"attributes\":{\"above\":[{\"id\":\"401c4b75-1beb-4c38-a695-f99a43ef4055\",\"type\":\"Legend\"}],\"below\":[{\"id\":\"2a5c65bd-1f78-46c5-b69e-be2f9925a8e1\",\"type\":\"LinearAxis\"}],\"left\":[{\"id\":\"9932d210-0a83-485d-ba74-e4b4dadd51ec\",\"type\":\"LinearAxis\"}],\"plot_width\":300,\"renderers\":[{\"id\":\"2a5c65bd-1f78-46c5-b69e-be2f9925a8e1\",\"type\":\"LinearAxis\"},{\"id\":\"e5668ea0-45a4-4654-beea-03d6bd04b9f5\",\"type\":\"Grid\"},{\"id\":\"9932d210-0a83-485d-ba74-e4b4dadd51ec\",\"type\":\"LinearAxis\"},{\"id\":\"9699f2ee-3278-4d5f-8afb-f738bf94042a\",\"type\":\"Grid\"},{\"id\":\"fa2971d2-e238-467c-8066-3de7a7600254\",\"type\":\"BoxAnnotation\"},{\"id\":\"c087ecc1-5aa8-48e5-b416-013d88b8333c\",\"type\":\"GlyphRenderer\"},{\"id\":\"c2095708-67f6-4c99-a4a3-6f23f573cc1e\",\"type\":\"GlyphRenderer\"},{\"id\":\"f094b68b-9611-4627-ba07-e0e03b52d74e\",\"type\":\"GlyphRenderer\"},{\"id\":\"4aae5711-61e5-4569-8f67-34c70795ec45\",\"type\":\"GlyphRenderer\"},{\"id\":\"4d50b36a-72fc-4eba-bfee-d3f79fbdf228\",\"type\":\"GlyphRenderer\"},{\"id\":\"401c4b75-1beb-4c38-a695-f99a43ef4055\",\"type\":\"Legend\"}],\"title\":{\"id\":\"6290524a-9d95-4a8e-9220-d26d18c65a8a\",\"type\":\"Title\"},\"toolbar\":{\"id\":\"2d6ba3f1-d019-4a81-9073-687c4c3b4593\",\"type\":\"Toolbar\"},\"toolbar_location\":null,\"x_range\":{\"id\":\"ae896c89-aacc-4f5d-af41-588ef8a23985\",\"type\":\"Range1d\"},\"x_scale\":{\"id\":\"979ef2c5-5676-45ec-88a5-bbc51c9f559f\",\"type\":\"LinearScale\"},\"y_range\":{\"id\":\"5079de72-99cb-43ab-8427-d478fcf5c536\",\"type\":\"Range1d\"},\"y_scale\":{\"id\":\"5c499ff2-110b-4684-b428-d022d7c0fe0c\",\"type\":\"LinearScale\"}},\"id\":\"603dc95c-6a82-476a-ad46-f4c26177a269\",\"subtype\":\"Figure\",\"type\":\"Plot\"},{\"attributes\":{\"active_drag\":\"auto\",\"active_inspect\":\"auto\",\"active_scroll\":\"auto\",\"active_tap\":\"auto\",\"tools\":[{\"id\":\"0d0f2c22-bcda-4609-a4b1-a9990264ad2c\",\"type\":\"PanTool\"},{\"id\":\"3c35f54e-989c-4364-ad56-5ab2a1cf18ce\",\"type\":\"WheelZoomTool\"},{\"id\":\"ce031ff1-c352-4719-868f-233df14f4d25\",\"type\":\"BoxZoomTool\"},{\"id\":\"b49d581d-b9f4-48e3-8a7f-409070eb518d\",\"type\":\"SaveTool\"},{\"id\":\"2aba3442-d2c4-46a2-af52-08375a46f559\",\"type\":\"ResetTool\"},{\"id\":\"e624c38e-9b23-4529-91d8-ee878a48c17e\",\"type\":\"HelpTool\"}]},\"id\":\"bbc06ef2-11f4-458e-b262-6ba9d5855818\",\"type\":\"Toolbar\"},{\"attributes\":{},\"id\":\"ff8be095-7152-48e2-9198-2fa8fa841326\",\"type\":\"UnionRenderers\"},{\"attributes\":{},\"id\":\"2b4e1606-2b2b-431b-8905-00f2bbe97492\",\"type\":\"Selection\"},{\"attributes\":{\"data_source\":{\"id\":\"2b319683-378d-482d-b266-848604342e14\",\"type\":\"ColumnDataSource\"},\"glyph\":{\"id\":\"7f91a325-06fa-46c2-81fb-328662ee5e40\",\"type\":\"Line\"},\"hover_glyph\":null,\"muted_glyph\":null,\"nonselection_glyph\":{\"id\":\"c2dd0202-9d78-47a5-a38a-89d76717e447\",\"type\":\"Line\"},\"selection_glyph\":null,\"view\":{\"id\":\"d2b6d100-27ce-42e1-b7f6-9f1c1726b1f9\",\"type\":\"CDSView\"}},\"id\":\"f094b68b-9611-4627-ba07-e0e03b52d74e\",\"type\":\"GlyphRenderer\"},{\"attributes\":{\"active_drag\":\"auto\",\"active_inspect\":\"auto\",\"active_scroll\":\"auto\",\"active_tap\":\"auto\",\"tools\":[{\"id\":\"3de80dbd-6906-47f0-a25e-9556a22974ef\",\"type\":\"PanTool\"},{\"id\":\"d0a9c485-1311-4cf7-9004-5dfa325385fd\",\"type\":\"WheelZoomTool\"},{\"id\":\"3c94b36d-3895-4132-af70-3b38eb1c5892\",\"type\":\"BoxZoomTool\"},{\"id\":\"440c2df7-e6e1-427d-b26c-54576f6c9960\",\"type\":\"SaveTool\"},{\"id\":\"c3520464-ec1f-4f51-a4ad-d158e1d751fc\",\"type\":\"ResetTool\"},{\"id\":\"7323d9e3-068e-4515-b136-83f7cba3fb13\",\"type\":\"HelpTool\"}]},\"id\":\"499b121a-2951-4d60-96dc-39171deebfc8\",\"type\":\"Toolbar\"},{\"attributes\":{\"line_alpha\":0.5,\"line_color\":\"#984ea3\",\"line_width\":1.5,\"x\":{\"field\":\"x\"},\"y\":{\"field\":\"y\"}},\"id\":\"b030c310-dc23-4199-809c-9d9f3264b88e\",\"type\":\"Line\"},{\"attributes\":{\"items\":[{\"id\":\"aad636aa-6591-4c73-b3ee-01c5d949d73d\",\"type\":\"LegendItem\"},{\"id\":\"21c02e96-bff1-4a2a-80ac-336aecdb4d66\",\"type\":\"LegendItem\"},{\"id\":\"d5ff9677-0c5f-44fe-ad0e-4d839a6a42a7\",\"type\":\"LegendItem\"}],\"label_text_font_size\":{\"value\":\"8pt\"},\"location\":\"top_center\",\"orientation\":\"horizontal\",\"plot\":{\"id\":\"d700374a-409b-4a71-a50b-6d968778e7f2\",\"subtype\":\"Figure\",\"type\":\"Plot\"}},\"id\":\"3803440d-6a8f-42a4-8fe1-623ec11d1bcf\",\"type\":\"Legend\"},{\"attributes\":{\"plot\":null,\"text\":\"\"},\"id\":\"ec0b5ef7-6509-4049-91f5-0c380e6e38e8\",\"type\":\"Title\"},{\"attributes\":{\"label\":{\"value\":\"old CLIRAD (H2012)\"},\"renderers\":[{\"id\":\"4aae5711-61e5-4569-8f67-34c70795ec45\",\"type\":\"GlyphRenderer\"},{\"id\":\"4d50b36a-72fc-4eba-bfee-d3f79fbdf228\",\"type\":\"GlyphRenderer\"}]},\"id\":\"e9be68ef-f9da-40d9-983b-841f6fd5f756\",\"type\":\"LegendItem\"},{\"attributes\":{\"source\":{\"id\":\"6f790cad-0d04-4bc9-8ce1-09362f203053\",\"type\":\"ColumnDataSource\"}},\"id\":\"28ada2f5-c8cc-4067-a2b2-e3591f9339a1\",\"type\":\"CDSView\"},{\"attributes\":{\"callback\":null,\"end\":0.01,\"start\":1020},\"id\":\"8e549606-5368-4f8e-abc3-b58083d78e67\",\"type\":\"Range1d\"},{\"attributes\":{\"line_alpha\":0.1,\"line_color\":\"#1f77b4\",\"line_width\":1.5,\"x\":{\"field\":\"x\"},\"y\":{\"field\":\"y\"}},\"id\":\"c2dd0202-9d78-47a5-a38a-89d76717e447\",\"type\":\"Line\"},{\"attributes\":{\"bottom_units\":\"screen\",\"fill_alpha\":{\"value\":0.5},\"fill_color\":{\"value\":\"lightgrey\"},\"left_units\":\"screen\",\"level\":\"overlay\",\"line_alpha\":{\"value\":1.0},\"line_color\":{\"value\":\"black\"},\"line_dash\":[4,4],\"line_width\":{\"value\":2},\"plot\":null,\"render_mode\":\"css\",\"right_units\":\"screen\",\"top_units\":\"screen\"},\"id\":\"b9e72146-c9dc-493e-9783-38ee58dfbfd6\",\"type\":\"BoxAnnotation\"},{\"attributes\":{\"callback\":null,\"data\":{\"x\":{\"__ndarray__\":\"MXhf+wfXU0AZbvNjswdFQLQWsEQVdUFA5TlpnhT9QUB/x1dOYK05QImjxHmcEjZA9jYDSBB3L0AISPl4H6wqQBPuuwfAzyJAOcHprUZAIUB7WWpkesAXQJoT1Uq+ChVArO/8u0EXCkBgVNlshzgCQMeNQ+Nzu/I/POwv1Qzh+D9QxMRmcj8DQOrE7tC4mAxAQsLBRIlHEkAi4cPYoDEXQEeDpjRjzB1ASZ0GEfCuI0DVFj11sssnQOMiVKSMHyhAWRHvUxNoJEDo8cjD4g8gQLGGvR2NDRpAdpI3nV5oFECtyWH9Lp4QQIZQd9bvmwtAkshlnu1BBkBMysnQf1UAQHZJU/DYZ/c/HoEhV+G48T/rSm4vc/TmP3EgV4cD49g/xmy6+4w7zz+bEsjh3uDDPw5SRMRogKs/4GPKdPc1a78lazVXN1vCP/B84ODeUug/LOyxgXDV9z+/DBHyZAwAQAOIY+fy/QFAahF3XKCUAECV0GHvGsz+P+X4k4Nhvf0/RO/IqI98/T8rkW+v/zT9P59vGMDsAv0/zEX7plCY/D/E3siS8kj7P2yUMv+hDvs/RmrXDaYs+z+c9f5GCO36P58nVCbr7vo/Qus8hbcy/D+rD5hFMCf9P4t6dxofnPw/bRp4QYZ2/D/q8NNiN2b8P5YTVw9ESPw/l1Dy0X/K+j+WKih3ZdD5P2k8OYxHjvk/hceGh5N4+T8lpPahWSn5P6vJnePt4vY/UuhmxnXI9T8miFqdE+D0Pz7qfx5CR/Q/0khvq2US9D9LfVdHQGv0P9syeEmwYfg/\",\"dtype\":\"float64\",\"shape\":[75]},\"y\":{\"__ndarray__\":\"hLndy31yND/6fmq8dJNIP8n9DkWBPlE/aDum7souWD/b4a/JGvVgP9f34SAhymc/ZvM4DOavcD+z0M5pFmh3PxuC4zJuaoA/xjcUPlsHhz8uHAjJAiaQP9ieWRKgppY/oI7HDFTGnz+a5h2n6EimPzS6g9iZQq8/IuAQqtTstT9SSZ2AJsK+P4nS3uALk8U/ih9j7lpCzj+ASL99HTjVP4enV8oyxN0/ACL99nXg5D9fmEwVjErtPyUGgZVDi/Q/AiuHFtnO/D9OYhBYOTQEQPHSTWIQWAxA4XoUrkfhE0D8qfHSTeIbQMh2vp8ajyNArkfhehRuK0Bcj8L1KDwzQFyPwvUo/DpAPgrXo3DtQkDNzMzMzIxKQClcj8L1eFJAKVyPwvVoWECamZmZmVleQGZmZmZmJmJAAAAAAAAgZUCamZmZmRloQJqZmZmZEWtAmpmZmZkJbkCamZmZmYFwQGZmZmZm/nFAZmZmZmZ6c0BmZmZmZvZ0QDQzMzMzc3ZAAAAAAADwd0AAAAAAAGx5QAAAAAAA6HpAzMzMzMxkfEDMzMzMzOB9QM3MzMzMXH9AzczMzMxsgEAzMzMzMyuBQDMzMzMz6YFAMzMzMzOngkCamZmZmWWDQAAAAAAAJIRAAAAAAADihEAAAAAAAKCFQGZmZmZmXoZAzczMzMwch0DNzMzMzNqHQM3MzMzMmIhAMzMzMzNXiUCamZmZmRWKQAAAAAAA1IpAAAAAAACSi0AAAAAAAFCMQGZmZmZmDo1AzczMzMzMjUDNzMzMzIqOQM3MzMzMSI9A\",\"dtype\":\"float64\",\"shape\":[75]}},\"selected\":{\"id\":\"2dff3cb1-9ac2-4d6b-bc9f-caeaecc75ceb\",\"type\":\"Selection\"},\"selection_policy\":{\"id\":\"63ba7396-de29-4d9b-87b7-e9962ab48caf\",\"type\":\"UnionRenderers\"}},\"id\":\"6f790cad-0d04-4bc9-8ce1-09362f203053\",\"type\":\"ColumnDataSource\"},{\"attributes\":{},\"id\":\"26377cbd-f5b2-463b-9520-646f2b0edbca\",\"type\":\"Selection\"},{\"attributes\":{\"source\":{\"id\":\"2b319683-378d-482d-b266-848604342e14\",\"type\":\"ColumnDataSource\"}},\"id\":\"d2b6d100-27ce-42e1-b7f6-9f1c1726b1f9\",\"type\":\"CDSView\"},{\"attributes\":{\"label\":{\"value\":\"CLIRAD (single-run)\"},\"renderers\":[{\"id\":\"c087ecc1-5aa8-48e5-b416-013d88b8333c\",\"type\":\"GlyphRenderer\"}]},\"id\":\"8e530e70-e0df-4f71-a676-0d9076bf8a2e\",\"type\":\"LegendItem\"},{\"attributes\":{},\"id\":\"b49d581d-b9f4-48e3-8a7f-409070eb518d\",\"type\":\"SaveTool\"},{\"attributes\":{},\"id\":\"2a53c238-e1ff-404f-9ad2-b2f2004bc03f\",\"type\":\"LogScale\"},{\"attributes\":{\"callback\":null,\"end\":13.587992271301857,\"start\":-0.33485573154785997},\"id\":\"8eb2c06b-bd2b-41ff-825f-9d7b20c6f7d2\",\"type\":\"Range1d\"},{\"attributes\":{},\"id\":\"ed7f3cb1-beb5-4bc0-9f08-2242c31765a5\",\"type\":\"LinearScale\"},{\"attributes\":{},\"id\":\"d0a9c485-1311-4cf7-9004-5dfa325385fd\",\"type\":\"WheelZoomTool\"},{\"attributes\":{},\"id\":\"0d0f2c22-bcda-4609-a4b1-a9990264ad2c\",\"type\":\"PanTool\"},{\"attributes\":{\"above\":[{\"id\":\"3803440d-6a8f-42a4-8fe1-623ec11d1bcf\",\"type\":\"Legend\"}],\"below\":[{\"id\":\"5a8c189d-2e48-43ea-aa72-0f63d3e9b3cf\",\"type\":\"LinearAxis\"}],\"left\":[{\"id\":\"134abb73-3ccf-44eb-96d7-623759048b71\",\"type\":\"LogAxis\"}],\"plot_width\":300,\"renderers\":[{\"id\":\"5a8c189d-2e48-43ea-aa72-0f63d3e9b3cf\",\"type\":\"LinearAxis\"},{\"id\":\"3bfea7c0-7560-4ed3-a186-94b02b99c727\",\"type\":\"Grid\"},{\"id\":\"134abb73-3ccf-44eb-96d7-623759048b71\",\"type\":\"LogAxis\"},{\"id\":\"d2419158-e387-47b8-afa2-c51e177ed31c\",\"type\":\"Grid\"},{\"id\":\"b9e72146-c9dc-493e-9783-38ee58dfbfd6\",\"type\":\"BoxAnnotation\"},{\"id\":\"5b06d95d-78e8-4c76-9cdf-c69fb51ae5f3\",\"type\":\"GlyphRenderer\"},{\"id\":\"2e6b1650-3812-48ea-84ae-2301e8c034c0\",\"type\":\"GlyphRenderer\"},{\"id\":\"ae406474-b694-4d69-b7ce-df571fcda9cc\",\"type\":\"GlyphRenderer\"},{\"id\":\"13d39281-26d8-4060-9b63-2e89ada02539\",\"type\":\"GlyphRenderer\"},{\"id\":\"282cd157-6edf-4350-b008-26ac6b06b5c4\",\"type\":\"GlyphRenderer\"},{\"id\":\"3803440d-6a8f-42a4-8fe1-623ec11d1bcf\",\"type\":\"Legend\"}],\"title\":{\"id\":\"ec0b5ef7-6509-4049-91f5-0c380e6e38e8\",\"type\":\"Title\"},\"toolbar\":{\"id\":\"499b121a-2951-4d60-96dc-39171deebfc8\",\"type\":\"Toolbar\"},\"toolbar_location\":null,\"x_range\":{\"id\":\"8eb2c06b-bd2b-41ff-825f-9d7b20c6f7d2\",\"type\":\"Range1d\"},\"x_scale\":{\"id\":\"ed7f3cb1-beb5-4bc0-9f08-2242c31765a5\",\"type\":\"LinearScale\"},\"y_range\":{\"id\":\"8e549606-5368-4f8e-abc3-b58083d78e67\",\"type\":\"Range1d\"},\"y_scale\":{\"id\":\"2a53c238-e1ff-404f-9ad2-b2f2004bc03f\",\"type\":\"LogScale\"}},\"id\":\"d700374a-409b-4a71-a50b-6d968778e7f2\",\"subtype\":\"Figure\",\"type\":\"Plot\"},{\"attributes\":{\"fill_alpha\":{\"value\":0.1},\"fill_color\":{\"value\":\"#1f77b4\"},\"line_alpha\":{\"value\":0.1},\"line_color\":{\"value\":\"#1f77b4\"},\"x\":{\"field\":\"x\"},\"y\":{\"field\":\"y\"}},\"id\":\"798386c2-8572-4b7f-9b81-b7b8fdd66abc\",\"type\":\"Square\"},{\"attributes\":{},\"id\":\"63ba7396-de29-4d9b-87b7-e9962ab48caf\",\"type\":\"UnionRenderers\"},{\"attributes\":{\"above\":[{\"id\":\"e3a1f277-a3b5-47ab-939c-191fbdec88ff\",\"type\":\"Legend\"}],\"below\":[{\"id\":\"ad3d6e8d-7d31-4361-9cf8-2103f69b7ed1\",\"type\":\"LinearAxis\"}],\"left\":[{\"id\":\"da1a5838-cf9a-4d86-9eb8-8d5a75745b91\",\"type\":\"LogAxis\"}],\"plot_width\":300,\"renderers\":[{\"id\":\"ad3d6e8d-7d31-4361-9cf8-2103f69b7ed1\",\"type\":\"LinearAxis\"},{\"id\":\"2f2037b0-b0c2-483e-b870-09b1ccfe2988\",\"type\":\"Grid\"},{\"id\":\"da1a5838-cf9a-4d86-9eb8-8d5a75745b91\",\"type\":\"LogAxis\"},{\"id\":\"58e7e356-489d-4353-9f71-a5591aeceec0\",\"type\":\"Grid\"},{\"id\":\"9f31d47d-da35-46c9-996c-17ff967fdcb8\",\"type\":\"BoxAnnotation\"},{\"id\":\"26793cf1-f0bb-47fd-981a-2970e48eb0b5\",\"type\":\"GlyphRenderer\"},{\"id\":\"52bb5af3-12a0-4560-a484-dbeab46e7429\",\"type\":\"GlyphRenderer\"},{\"id\":\"cebbfb0f-c77f-4495-85fe-0ec8678423ab\",\"type\":\"GlyphRenderer\"},{\"id\":\"e3a1f277-a3b5-47ab-939c-191fbdec88ff\",\"type\":\"Legend\"}],\"title\":{\"id\":\"ca89f93c-b21b-479e-aca0-1ee17e573990\",\"type\":\"Title\"},\"toolbar\":{\"id\":\"bbc06ef2-11f4-458e-b262-6ba9d5855818\",\"type\":\"Toolbar\"},\"toolbar_location\":null,\"x_range\":{\"id\":\"c0a98e61-4a29-48fa-8cdb-828694d473eb\",\"type\":\"Range1d\"},\"x_scale\":{\"id\":\"dcab7f4d-452d-4ea2-ae6b-4b5fca3c2c5a\",\"type\":\"LinearScale\"},\"y_range\":{\"id\":\"07b7d3ce-bf12-41e4-b9d9-4db8e50b8054\",\"type\":\"Range1d\"},\"y_scale\":{\"id\":\"1de5a42a-1f0e-4421-b231-2ba6b2f8e015\",\"type\":\"LogScale\"}},\"id\":\"abeade65-76fd-41a3-83c1-c42590e6fa01\",\"subtype\":\"Figure\",\"type\":\"Plot\"},{\"attributes\":{\"source\":{\"id\":\"a3d97925-d872-484b-86b5-08d08c0963f7\",\"type\":\"ColumnDataSource\"}},\"id\":\"d493e2d3-9c97-4ff4-bda8-bf0c0f87276f\",\"type\":\"CDSView\"},{\"attributes\":{\"fill_alpha\":{\"value\":0.1},\"fill_color\":{\"value\":\"#1f77b4\"},\"line_alpha\":{\"value\":0.1},\"line_color\":{\"value\":\"#1f77b4\"},\"x\":{\"field\":\"x\"},\"y\":{\"field\":\"y\"}},\"id\":\"77bdbe26-535b-4d89-9b10-92cd30e8ebd6\",\"type\":\"Circle\"},{\"attributes\":{\"callback\":null,\"data\":{\"x\":{\"__ndarray__\":\"MXhf+wfXU0AZbvNjswdFQLQWsEQVdUFA5TlpnhT9QUB/x1dOYK05QImjxHmcEjZA9jYDSBB3L0AISPl4H6wqQBPuuwfAzyJAOcHprUZAIUB7WWpkesAXQJoT1Uq+ChVArO/8u0EXCkBgVNlshzgCQMeNQ+Nzu/I/POwv1Qzh+D9QxMRmcj8DQOrE7tC4mAxAQsLBRIlHEkAi4cPYoDEXQEeDpjRjzB1ASZ0GEfCuI0DVFj11sssnQOMiVKSMHyhAWRHvUxNoJEDo8cjD4g8gQLGGvR2NDRpAdpI3nV5oFECtyWH9Lp4QQIZQd9bvmwtAkshlnu1BBkBMysnQf1UAQHZJU/DYZ/c/HoEhV+G48T/rSm4vc/TmP3EgV4cD49g/xmy6+4w7zz+bEsjh3uDDPw5SRMRogKs/4GPKdPc1a78lazVXN1vCP/B84ODeUug/LOyxgXDV9z+/DBHyZAwAQAOIY+fy/QFAahF3XKCUAECV0GHvGsz+P+X4k4Nhvf0/RO/IqI98/T8rkW+v/zT9P59vGMDsAv0/zEX7plCY/D/E3siS8kj7P2yUMv+hDvs/RmrXDaYs+z+c9f5GCO36P58nVCbr7vo/Qus8hbcy/D+rD5hFMCf9P4t6dxofnPw/bRp4QYZ2/D/q8NNiN2b8P5YTVw9ESPw/l1Dy0X/K+j+WKih3ZdD5P2k8OYxHjvk/hceGh5N4+T8lpPahWSn5P6vJnePt4vY/UuhmxnXI9T8miFqdE+D0Pz7qfx5CR/Q/0khvq2US9D9LfVdHQGv0P9syeEmwYfg/\",\"dtype\":\"float64\",\"shape\":[75]},\"y\":{\"__ndarray__\":\"hLndy31yND/6fmq8dJNIP8n9DkWBPlE/aDum7souWD/b4a/JGvVgP9f34SAhymc/ZvM4DOavcD+z0M5pFmh3PxuC4zJuaoA/xjcUPlsHhz8uHAjJAiaQP9ieWRKgppY/oI7HDFTGnz+a5h2n6EimPzS6g9iZQq8/IuAQqtTstT9SSZ2AJsK+P4nS3uALk8U/ih9j7lpCzj+ASL99HTjVP4enV8oyxN0/ACL99nXg5D9fmEwVjErtPyUGgZVDi/Q/AiuHFtnO/D9OYhBYOTQEQPHSTWIQWAxA4XoUrkfhE0D8qfHSTeIbQMh2vp8ajyNArkfhehRuK0Bcj8L1KDwzQFyPwvUo/DpAPgrXo3DtQkDNzMzMzIxKQClcj8L1eFJAKVyPwvVoWECamZmZmVleQGZmZmZmJmJAAAAAAAAgZUCamZmZmRloQJqZmZmZEWtAmpmZmZkJbkCamZmZmYFwQGZmZmZm/nFAZmZmZmZ6c0BmZmZmZvZ0QDQzMzMzc3ZAAAAAAADwd0AAAAAAAGx5QAAAAAAA6HpAzMzMzMxkfEDMzMzMzOB9QM3MzMzMXH9AzczMzMxsgEAzMzMzMyuBQDMzMzMz6YFAMzMzMzOngkCamZmZmWWDQAAAAAAAJIRAAAAAAADihEAAAAAAAKCFQGZmZmZmXoZAzczMzMwch0DNzMzMzNqHQM3MzMzMmIhAMzMzMzNXiUCamZmZmRWKQAAAAAAA1IpAAAAAAACSi0AAAAAAAFCMQGZmZmZmDo1AzczMzMzMjUDNzMzMzIqOQM3MzMzMSI9A\",\"dtype\":\"float64\",\"shape\":[75]}},\"selected\":{\"id\":\"5ba92887-d593-4301-83bd-e7ab6d6cdd8b\",\"type\":\"Selection\"},\"selection_policy\":{\"id\":\"ff8be095-7152-48e2-9198-2fa8fa841326\",\"type\":\"UnionRenderers\"}},\"id\":\"a3d97925-d872-484b-86b5-08d08c0963f7\",\"type\":\"ColumnDataSource\"},{\"attributes\":{\"data_source\":{\"id\":\"4a460162-6ce7-4017-9316-eafa7397ca5f\",\"type\":\"ColumnDataSource\"},\"glyph\":{\"id\":\"70ae344b-f441-45d4-9cc8-bb35df7246c3\",\"type\":\"Circle\"},\"hover_glyph\":null,\"muted_glyph\":null,\"nonselection_glyph\":{\"id\":\"77bdbe26-535b-4d89-9b10-92cd30e8ebd6\",\"type\":\"Circle\"},\"selection_glyph\":null,\"view\":{\"id\":\"a09e1f33-c25c-46b7-9d2f-ee8386fed092\",\"type\":\"CDSView\"}},\"id\":\"c2095708-67f6-4c99-a4a3-6f23f573cc1e\",\"type\":\"GlyphRenderer\"},{\"attributes\":{\"callback\":null,\"data\":{\"x\":{\"__ndarray__\":\"QW/ChKHYRUABfBHv8BdDQO7pX4+S40FAjlrTPAs/QEBi55KjU0A8QOVEIjtRPTdAAW6pHa7pMUBoDUjHy+UpQJPUAjnkGiJAkii6KF00GkDyfPLi2t0UQPkZqhKpthFAXgmBeRVNDUDo1yrq/pUDQBJCuTYK9vU/YoFqy5OO+j/mD7q8ijIFQB7JG9aeDgtAKZPg33XgEEB3e15vURcWQASfV5qt/R1A31afOw7VJEBkZ/sSPswqQPJ8sfjH+ylASXHMMLlOJECnFuR/okcgQKATN+gOZBtALtOaGrQFFkBYLwnonigRQH3MfkLg4AtAJbaM1c4ICEAqMLR+58sCQGn6INO6Bfo/9OD7FbZF8T+Hs4EjcHrnP564dUqD6Ns/JQfYEdIQzT9x/Lwc00XAP+SGDp6tAKO/xAoZ+sRjyb+ScdT6eNyDv/4NISJvwuc/0BNwzqJ+9z+OhxM/9RYAQGCVqWPPlwFApa4RsMkGAECakb3Sg0P+P/wSdfkQIv0/okwaebtq/D8NcsI81zv8PzS6YIBmV/w/t/rzZVDu+z9vHpSuI3P7PzxXiTLKB/s/+xEut0e9+j80CdGvY4f6P91Lpyhohfo/hq2DgXOb+z8jUdf2UHz8P+0LQT6D/vw/NxBjOnr9/D975RKvuF38PyqTiuWeRvs/G8nM6yIW+j8IPCAwnv/4P9UcYY9Qbfg/OqB8rKY8+D929obcuzf4P6/7j5gVtPc/VtnblNCk9j8Yh5Uy8nP1P2TvKkPTiPQ/Kaw4REER9D/JF0FfkkT0P/aWmIV77/o/\",\"dtype\":\"float64\",\"shape\":[75]},\"y\":{\"__ndarray__\":\"GhExyth1ND/Sv8nbtpRIP2vylNV0PVE/aTum7souWD/At0SJ8fVgPw3Iuahxymc/MSNhhJWvcD/bTfBN02d3P2zb5nxnaoA/CD5h5MAGhz8NmeH1TyaQP+zrCsc9p5Y/LbKd76fGnz/bLW5ISEmmPww9YvTcQq8/JV2OstnstT8Er5Y7M8G+P0c+r3jqkcU/5h99k6ZBzj88bCIzFzjVP4enV8oyxN0//yH99nXg5D8qOpLLf0jtP5kqGJXUifQ/c9cS8kHP/D+/DpwzojQEQIEmwoanVwxA4lgXt9HgE0BSSZ2AJuIbQAMJih9jjiNA5q4l5INuK0AwTKYKRj0zQNv5fmq8/DpAaCJseHrtQkB/+zpwzoxKQM3MzMzMeFJAZmZmZmZqWEAAAAAAAFxeQM3MzMzMJmJAmpmZmZkfZUBmZmZmZhhoQDMzMzMzEWtAAAAAAAAKbkBmZmZmZoFwQM3MzMzM/XFAMzMzMzN6c0CamZmZmfZ0QAAAAAAAc3ZAZmZmZmbvd0DNzMzMzGt5QDMzMzMz6HpAmpmZmZlkfEAAAAAAAOF9QGZmZmZmXX9AZmZmZuZsgECamZmZGSuBQM3MzMxM6YFAAAAAAICngkAzMzMzs2WDQGZmZmbmI4RAmpmZmRnihEDNzMzMTKCFQAAAAACAXoZAMzMzM7Mch0BmZmZm5tqHQJqZmZkZmYhAzczMzExXiUAAAAAAgBWKQDMzMzOz04pAZmZmZuaRi0CamZmZGVCMQM3MzMxMDo1AAAAAAIDMjUAzMzMzs4qOQGZmZmbmSI9A\",\"dtype\":\"float64\",\"shape\":[75]}},\"selected\":{\"id\":\"2b4e1606-2b2b-431b-8905-00f2bbe97492\",\"type\":\"Selection\"},\"selection_policy\":{\"id\":\"db078c76-5678-4681-9077-96e5919a56e0\",\"type\":\"UnionRenderers\"}},\"id\":\"61415030-9ed8-4b64-b7ba-facf78e52b4e\",\"type\":\"ColumnDataSource\"},{\"attributes\":{\"line_color\":\"#4daf4a\",\"line_width\":1.5,\"x\":{\"field\":\"x\"},\"y\":{\"field\":\"y\"}},\"id\":\"7f91a325-06fa-46c2-81fb-328662ee5e40\",\"type\":\"Line\"},{\"attributes\":{},\"id\":\"1de5a42a-1f0e-4421-b231-2ba6b2f8e015\",\"type\":\"LogScale\"},{\"attributes\":{\"source\":{\"id\":\"4a460162-6ce7-4017-9316-eafa7397ca5f\",\"type\":\"ColumnDataSource\"}},\"id\":\"a09e1f33-c25c-46b7-9d2f-ee8386fed092\",\"type\":\"CDSView\"},{\"attributes\":{\"callback\":null,\"data\":{\"x\":{\"__ndarray__\":\"cm1sTMT3VEDEyvjosEJHQOKI6DjzCUNArgQWV9awPkB9Lm8XG3M4QEz+Qv6iYzNA7eV8HaPLLkCX1QHyTpMoQFBmYSYetiNAUB04GtGpH0AmFyVE5j8ZQJca9QPGqBNALJP+OOHHDEBNxaf7QF8AQKtislomWuw/cW2dcO6A9T/uJJvfPu0EQIaQLTI/JQ1AxGiII+PmEkCJvfVeuCsYQD6ZBhGbHB9AXQw69DTYJEAsubcwKucqQNuT9D5OmipAJyi3szEJJUBlNebh5WkgQDDcPHBr2xlArtlANXuQFEBdJadFHckQQI2Avh0ZsQtAjYiwt1rsBUCL0SDoVBgAQK6C0nEEjvc/CggLSme58T9sXU2orFPnP0v0JYz9Gdg/vT38vxYczD9nBQTe6kHHP1IhkEXJwKo/8OZnhCVAub+xtVgCpmqzP6DUpY6g0+k/PKK3T1h4+D8RTDjQc1EAQG/dAQs7TwJAQt2eHpPLAEBWEh074x//PyCap9ZSGf4/rEzaTySm/T+7aXhHRmr9P688KeqeNP0/ruZ4EemD/D8olrZcn9T7P0+vNc9hW/s/i9VVL+4P+z+0NzC24uz6P8731Kza8vo/xFf4SHzq+z+gYyHpvHb8P68ROkiFevw/BAjYdCga/D8AUp8VbW77P3JrF/nKmvo/qCQeGfq++T/dplwHJfn4P2G4p+Uva/g/OzZ0RqMZ+D8dmn/iar73P/OuA7Ka8PY/gaaeQHGn9T9hkyjAH1L0P3aZGhdAU/M/n8VP/g7P8j+90HxHNvfyPwhNBtgrqvk/\",\"dtype\":\"float64\",\"shape\":[75]},\"y\":{\"__ndarray__\":\"GhExyth1ND/Sv8nbtpRIP2vylNV0PVE/aTum7souWD/At0SJ8fVgPw3Iuahxymc/MSNhhJWvcD/bTfBN02d3P2zb5nxnaoA/CD5h5MAGhz8NmeH1TyaQP+zrCsc9p5Y/LbKd76fGnz/bLW5ISEmmPww9YvTcQq8/JV2OstnstT8Er5Y7M8G+P0c+r3jqkcU/5h99k6ZBzj88bCIzFzjVP4enV8oyxN0//yH99nXg5D8qOpLLf0jtP5kqGJXUifQ/c9cS8kHP/D+/DpwzojQEQIEmwoanVwxA4lgXt9HgE0BSSZ2AJuIbQAMJih9jjiNA5q4l5INuK0AwTKYKRj0zQNv5fmq8/DpAaCJseHrtQkB/+zpwzoxKQM3MzMzMeFJAZmZmZmZqWEAAAAAAAFxeQM3MzMzMJmJAmpmZmZkfZUBmZmZmZhhoQDMzMzMzEWtAAAAAAAAKbkBmZmZmZoFwQM3MzMzM/XFAMzMzMzN6c0CamZmZmfZ0QAAAAAAAc3ZAZmZmZmbvd0DNzMzMzGt5QDMzMzMz6HpAmpmZmZlkfEAAAAAAAOF9QGZmZmZmXX9AZmZmZuZsgECamZmZGSuBQM3MzMxM6YFAAAAAAICngkAzMzMzs2WDQGZmZmbmI4RAmpmZmRnihEDNzMzMTKCFQAAAAACAXoZAMzMzM7Mch0BmZmZm5tqHQJqZmZkZmYhAzczMzExXiUAAAAAAgBWKQDMzMzOz04pAZmZmZuaRi0CamZmZGVCMQM3MzMxMDo1AAAAAAIDMjUAzMzMzs4qOQGZmZmbmSI9A\",\"dtype\":\"float64\",\"shape\":[75]}},\"selected\":{\"id\":\"26377cbd-f5b2-463b-9520-646f2b0edbca\",\"type\":\"Selection\"},\"selection_policy\":{\"id\":\"4b6484e8-6eec-411d-af38-d1bdd30edcda\",\"type\":\"UnionRenderers\"}},\"id\":\"2b319683-378d-482d-b266-848604342e14\",\"type\":\"ColumnDataSource\"},{\"attributes\":{\"line_alpha\":0.1,\"line_color\":\"#1f77b4\",\"line_width\":1.5,\"x\":{\"field\":\"x\"},\"y\":{\"field\":\"y\"}},\"id\":\"e3555ebe-8d76-4dde-88ca-6a1f8b27a409\",\"type\":\"Line\"},{\"attributes\":{\"ticker\":null},\"id\":\"39400168-cd6f-43aa-9636-44f7f8f8bd41\",\"type\":\"LogTickFormatter\"},{\"attributes\":{\"data_source\":{\"id\":\"6f790cad-0d04-4bc9-8ce1-09362f203053\",\"type\":\"ColumnDataSource\"},\"glyph\":{\"id\":\"b030c310-dc23-4199-809c-9d9f3264b88e\",\"type\":\"Line\"},\"hover_glyph\":null,\"muted_glyph\":null,\"nonselection_glyph\":{\"id\":\"e3555ebe-8d76-4dde-88ca-6a1f8b27a409\",\"type\":\"Line\"},\"selection_glyph\":null,\"view\":{\"id\":\"28ada2f5-c8cc-4067-a2b2-e3591f9339a1\",\"type\":\"CDSView\"}},\"id\":\"4d50b36a-72fc-4eba-bfee-d3f79fbdf228\",\"type\":\"GlyphRenderer\"},{\"attributes\":{\"data_source\":{\"id\":\"a3d97925-d872-484b-86b5-08d08c0963f7\",\"type\":\"ColumnDataSource\"},\"glyph\":{\"id\":\"7682db97-d1c9-40aa-91eb-5c5d248a1007\",\"type\":\"Square\"},\"hover_glyph\":null,\"muted_glyph\":null,\"nonselection_glyph\":{\"id\":\"798386c2-8572-4b7f-9b81-b7b8fdd66abc\",\"type\":\"Square\"},\"selection_glyph\":null,\"view\":{\"id\":\"d493e2d3-9c97-4ff4-bda8-bf0c0f87276f\",\"type\":\"CDSView\"}},\"id\":\"4aae5711-61e5-4569-8f67-34c70795ec45\",\"type\":\"GlyphRenderer\"},{\"attributes\":{},\"id\":\"0670733a-0105-4691-afc8-4f3c4c16de79\",\"type\":\"BasicTickFormatter\"},{\"attributes\":{\"fill_alpha\":{\"value\":0.7},\"fill_color\":{\"value\":\"#984ea3\"},\"line_alpha\":{\"value\":0.7},\"line_color\":{\"value\":\"#984ea3\"},\"x\":{\"field\":\"x\"},\"y\":{\"field\":\"y\"}},\"id\":\"7682db97-d1c9-40aa-91eb-5c5d248a1007\",\"type\":\"Square\"},{\"attributes\":{},\"id\":\"75645a16-3872-4639-a62b-eca3e44e0eb8\",\"type\":\"Selection\"},{\"attributes\":{\"plot\":{\"id\":\"d700374a-409b-4a71-a50b-6d968778e7f2\",\"subtype\":\"Figure\",\"type\":\"Plot\"},\"ticker\":{\"id\":\"89afc122-5d13-4888-94c6-ff6efd8e5b35\",\"type\":\"BasicTicker\"}},\"id\":\"3bfea7c0-7560-4ed3-a186-94b02b99c727\",\"type\":\"Grid\"},{\"attributes\":{},\"id\":\"5ba92887-d593-4301-83bd-e7ab6d6cdd8b\",\"type\":\"Selection\"},{\"attributes\":{\"data_source\":{\"id\":\"be2b7ec6-4231-438d-a16d-c9f6ba449984\",\"type\":\"ColumnDataSource\"},\"glyph\":{\"id\":\"7ad14e65-767d-4ab4-bb20-3bdc497f12d9\",\"type\":\"Line\"},\"hover_glyph\":null,\"muted_glyph\":null,\"nonselection_glyph\":{\"id\":\"c2c39320-1be3-4a10-8be1-6cba2efc9b50\",\"type\":\"Line\"},\"selection_glyph\":null,\"view\":{\"id\":\"6c7d2d42-0198-4ba2-bc00-f723c5672608\",\"type\":\"CDSView\"}},\"id\":\"ae406474-b694-4d69-b7ce-df571fcda9cc\",\"type\":\"GlyphRenderer\"},{\"attributes\":{},\"id\":\"dcab7f4d-452d-4ea2-ae6b-4b5fca3c2c5a\",\"type\":\"LinearScale\"},{\"attributes\":{\"axis_label\":\"cooling rate [K/day]\",\"formatter\":{\"id\":\"0670733a-0105-4691-afc8-4f3c4c16de79\",\"type\":\"BasicTickFormatter\"},\"plot\":{\"id\":\"abeade65-76fd-41a3-83c1-c42590e6fa01\",\"subtype\":\"Figure\",\"type\":\"Plot\"},\"ticker\":{\"id\":\"53711bb2-14dc-4d00-9f0c-589996778576\",\"type\":\"BasicTicker\"}},\"id\":\"ad3d6e8d-7d31-4361-9cf8-2103f69b7ed1\",\"type\":\"LinearAxis\"},{\"attributes\":{},\"id\":\"440c2df7-e6e1-427d-b26c-54576f6c9960\",\"type\":\"SaveTool\"},{\"attributes\":{},\"id\":\"53711bb2-14dc-4d00-9f0c-589996778576\",\"type\":\"BasicTicker\"},{\"attributes\":{\"line_alpha\":0.1,\"line_color\":\"#1f77b4\",\"line_dash\":[6],\"line_width\":5,\"x\":{\"field\":\"x\"},\"y\":{\"field\":\"y\"}},\"id\":\"f664b1bf-59c8-4056-a766-595ae922f01a\",\"type\":\"Line\"},{\"attributes\":{\"fill_alpha\":{\"value\":0.1},\"fill_color\":{\"value\":\"#1f77b4\"},\"line_alpha\":{\"value\":0.1},\"line_color\":{\"value\":\"#1f77b4\"},\"x\":{\"field\":\"x\"},\"y\":{\"field\":\"y\"}},\"id\":\"6956215b-64b1-4e69-ad69-07211d9da91e\",\"type\":\"Circle\"},{\"attributes\":{},\"id\":\"89afc122-5d13-4888-94c6-ff6efd8e5b35\",\"type\":\"BasicTicker\"},{\"attributes\":{\"callback\":null,\"data\":{\"x\":{\"__ndarray__\":\"cm1sTMT3VEDEyvjosEJHQOKI6DjzCUNArgQWV9awPkB9Lm8XG3M4QEz+Qv6iYzNA7eV8HaPLLkCX1QHyTpMoQFBmYSYetiNAUB04GtGpH0AmFyVE5j8ZQJca9QPGqBNALJP+OOHHDEBNxaf7QF8AQKtislomWuw/cW2dcO6A9T/uJJvfPu0EQIaQLTI/JQ1AxGiII+PmEkCJvfVeuCsYQD6ZBhGbHB9AXQw69DTYJEAsubcwKucqQNuT9D5OmipAJyi3szEJJUBlNebh5WkgQDDcPHBr2xlArtlANXuQFEBdJadFHckQQI2Avh0ZsQtAjYiwt1rsBUCL0SDoVBgAQK6C0nEEjvc/CggLSme58T9sXU2orFPnP0v0JYz9Gdg/vT38vxYczD9nBQTe6kHHP1IhkEXJwKo/8OZnhCVAub+xtVgCpmqzP6DUpY6g0+k/PKK3T1h4+D8RTDjQc1EAQG/dAQs7TwJAQt2eHpPLAEBWEh074x//PyCap9ZSGf4/rEzaTySm/T+7aXhHRmr9P688KeqeNP0/ruZ4EemD/D8olrZcn9T7P0+vNc9hW/s/i9VVL+4P+z+0NzC24uz6P8731Kza8vo/xFf4SHzq+z+gYyHpvHb8P68ROkiFevw/BAjYdCga/D8AUp8VbW77P3JrF/nKmvo/qCQeGfq++T/dplwHJfn4P2G4p+Uva/g/OzZ0RqMZ+D8dmn/iar73P/OuA7Ka8PY/gaaeQHGn9T9hkyjAH1L0P3aZGhdAU/M/n8VP/g7P8j+90HxHNvfyPwhNBtgrqvk/\",\"dtype\":\"float64\",\"shape\":[75]},\"y\":{\"__ndarray__\":\"GhExyth1ND/Sv8nbtpRIP2vylNV0PVE/aTum7souWD/At0SJ8fVgPw3Iuahxymc/MSNhhJWvcD/bTfBN02d3P2zb5nxnaoA/CD5h5MAGhz8NmeH1TyaQP+zrCsc9p5Y/LbKd76fGnz/bLW5ISEmmPww9YvTcQq8/JV2OstnstT8Er5Y7M8G+P0c+r3jqkcU/5h99k6ZBzj88bCIzFzjVP4enV8oyxN0//yH99nXg5D8qOpLLf0jtP5kqGJXUifQ/c9cS8kHP/D+/DpwzojQEQIEmwoanVwxA4lgXt9HgE0BSSZ2AJuIbQAMJih9jjiNA5q4l5INuK0AwTKYKRj0zQNv5fmq8/DpAaCJseHrtQkB/+zpwzoxKQM3MzMzMeFJAZmZmZmZqWEAAAAAAAFxeQM3MzMzMJmJAmpmZmZkfZUBmZmZmZhhoQDMzMzMzEWtAAAAAAAAKbkBmZmZmZoFwQM3MzMzM/XFAMzMzMzN6c0CamZmZmfZ0QAAAAAAAc3ZAZmZmZmbvd0DNzMzMzGt5QDMzMzMz6HpAmpmZmZlkfEAAAAAAAOF9QGZmZmZmXX9AZmZmZuZsgECamZmZGSuBQM3MzMxM6YFAAAAAAICngkAzMzMzs2WDQGZmZmbmI4RAmpmZmRnihEDNzMzMTKCFQAAAAACAXoZAMzMzM7Mch0BmZmZm5tqHQJqZmZkZmYhAzczMzExXiUAAAAAAgBWKQDMzMzOz04pAZmZmZuaRi0CamZmZGVCMQM3MzMxMDo1AAAAAAIDMjUAzMzMzs4qOQGZmZmbmSI9A\",\"dtype\":\"float64\",\"shape\":[75]}},\"selected\":{\"id\":\"7a64db9f-b108-4db9-a2a1-c8baa9a78b27\",\"type\":\"Selection\"},\"selection_policy\":{\"id\":\"9319c2c1-d4b9-44f5-9fd4-63c0e61b9ec5\",\"type\":\"UnionRenderers\"}},\"id\":\"be2b7ec6-4231-438d-a16d-c9f6ba449984\",\"type\":\"ColumnDataSource\"},{\"attributes\":{\"source\":{\"id\":\"39456b53-f74b-436c-bdf3-e29049b3e2b1\",\"type\":\"ColumnDataSource\"}},\"id\":\"f9427c87-eb14-4da5-b827-be6c99ab0886\",\"type\":\"CDSView\"},{\"attributes\":{\"data_source\":{\"id\":\"5c21ce7f-9f47-4529-b502-fd05632b6b3d\",\"type\":\"ColumnDataSource\"},\"glyph\":{\"id\":\"67b6e84e-f65a-419a-8dc7-8903ec0e522f\",\"type\":\"Line\"},\"hover_glyph\":null,\"muted_glyph\":null,\"nonselection_glyph\":{\"id\":\"e66de70b-a986-4635-964a-cfba6c91268c\",\"type\":\"Line\"},\"selection_glyph\":null,\"view\":{\"id\":\"5925246c-6c09-444e-9a0e-59440cb35cb8\",\"type\":\"CDSView\"}},\"id\":\"c087ecc1-5aa8-48e5-b416-013d88b8333c\",\"type\":\"GlyphRenderer\"},{\"attributes\":{\"fill_alpha\":{\"value\":0.7},\"fill_color\":{\"value\":\"#4daf4a\"},\"line_alpha\":{\"value\":0.7},\"line_color\":{\"value\":\"#4daf4a\"},\"x\":{\"field\":\"x\"},\"y\":{\"field\":\"y\"}},\"id\":\"cbf9a4da-5daa-4174-89b8-c406b6133701\",\"type\":\"Circle\"},{\"attributes\":{\"line_color\":\"#4daf4a\",\"line_width\":1.5,\"x\":{\"field\":\"x\"},\"y\":{\"field\":\"y\"}},\"id\":\"7ad14e65-767d-4ab4-bb20-3bdc497f12d9\",\"type\":\"Line\"},{\"attributes\":{\"label\":{\"value\":\"CRD\"},\"renderers\":[{\"id\":\"c2095708-67f6-4c99-a4a3-6f23f573cc1e\",\"type\":\"GlyphRenderer\"},{\"id\":\"f094b68b-9611-4627-ba07-e0e03b52d74e\",\"type\":\"GlyphRenderer\"}]},\"id\":\"ddee2172-3643-40e8-91be-4f5fc145a7a6\",\"type\":\"LegendItem\"},{\"attributes\":{\"line_alpha\":0.1,\"line_color\":\"#1f77b4\",\"line_width\":1.5,\"x\":{\"field\":\"x\"},\"y\":{\"field\":\"y\"}},\"id\":\"c2c39320-1be3-4a10-8be1-6cba2efc9b50\",\"type\":\"Line\"},{\"attributes\":{\"source\":{\"id\":\"be2b7ec6-4231-438d-a16d-c9f6ba449984\",\"type\":\"ColumnDataSource\"}},\"id\":\"6c7d2d42-0198-4ba2-bc00-f723c5672608\",\"type\":\"CDSView\"},{\"attributes\":{\"line_alpha\":0.6,\"line_color\":\"#377eb8\",\"line_dash\":[6],\"line_width\":5,\"x\":{\"field\":\"x\"},\"y\":{\"field\":\"y\"}},\"id\":\"000b8343-98ac-4aa8-b8a2-d077afe3882d\",\"type\":\"Line\"},{\"attributes\":{\"active_drag\":\"auto\",\"active_inspect\":\"auto\",\"active_scroll\":\"auto\",\"active_tap\":\"auto\",\"tools\":[{\"id\":\"8a2c4b5f-7125-4791-87d7-eba3776e2691\",\"type\":\"PanTool\"},{\"id\":\"2c92bb5e-9bf0-4947-814f-99603194ec8d\",\"type\":\"WheelZoomTool\"},{\"id\":\"2a88f44e-b0f9-4407-b728-4698a72c32bf\",\"type\":\"BoxZoomTool\"},{\"id\":\"17894ff5-66b7-477e-8000-4aa827d82227\",\"type\":\"SaveTool\"},{\"id\":\"8b270ccc-4984-4c1c-a95c-dfe5d93fdf0a\",\"type\":\"ResetTool\"},{\"id\":\"e51823f5-a2f4-4ffe-a69f-c5f639b36626\",\"type\":\"HelpTool\"}]},\"id\":\"2d6ba3f1-d019-4a81-9073-687c4c3b4593\",\"type\":\"Toolbar\"},{\"attributes\":{\"axis_label\":\"cooling rate [K/day]\",\"formatter\":{\"id\":\"7d5ac71c-853a-4b91-9742-e0901d3ee18e\",\"type\":\"BasicTickFormatter\"},\"plot\":{\"id\":\"d700374a-409b-4a71-a50b-6d968778e7f2\",\"subtype\":\"Figure\",\"type\":\"Plot\"},\"ticker\":{\"id\":\"89afc122-5d13-4888-94c6-ff6efd8e5b35\",\"type\":\"BasicTicker\"}},\"id\":\"5a8c189d-2e48-43ea-aa72-0f63d3e9b3cf\",\"type\":\"LinearAxis\"},{\"attributes\":{\"source\":{\"id\":\"61415030-9ed8-4b64-b7ba-facf78e52b4e\",\"type\":\"ColumnDataSource\"}},\"id\":\"b5b330ab-efa0-45c8-aab7-aa89b4e450d2\",\"type\":\"CDSView\"},{\"attributes\":{\"callback\":null,\"end\":0.01,\"start\":1020},\"id\":\"5079de72-99cb-43ab-8427-d478fcf5c536\",\"type\":\"Range1d\"},{\"attributes\":{\"line_alpha\":0.6,\"line_color\":\"#377eb8\",\"line_dash\":[6],\"line_width\":5,\"x\":{\"field\":\"x\"},\"y\":{\"field\":\"y\"}},\"id\":\"67b6e84e-f65a-419a-8dc7-8903ec0e522f\",\"type\":\"Line\"},{\"attributes\":{\"line_alpha\":0.1,\"line_color\":\"#1f77b4\",\"line_dash\":[6],\"line_width\":5,\"x\":{\"field\":\"x\"},\"y\":{\"field\":\"y\"}},\"id\":\"e66de70b-a986-4635-964a-cfba6c91268c\",\"type\":\"Line\"},{\"attributes\":{\"data_source\":{\"id\":\"39456b53-f74b-436c-bdf3-e29049b3e2b1\",\"type\":\"ColumnDataSource\"},\"glyph\":{\"id\":\"cbf9a4da-5daa-4174-89b8-c406b6133701\",\"type\":\"Circle\"},\"hover_glyph\":null,\"muted_glyph\":null,\"nonselection_glyph\":{\"id\":\"6956215b-64b1-4e69-ad69-07211d9da91e\",\"type\":\"Circle\"},\"selection_glyph\":null,\"view\":{\"id\":\"f9427c87-eb14-4da5-b827-be6c99ab0886\",\"type\":\"CDSView\"}},\"id\":\"2e6b1650-3812-48ea-84ae-2301e8c034c0\",\"type\":\"GlyphRenderer\"},{\"attributes\":{\"overlay\":{\"id\":\"9f31d47d-da35-46c9-996c-17ff967fdcb8\",\"type\":\"BoxAnnotation\"}},\"id\":\"ce031ff1-c352-4719-868f-233df14f4d25\",\"type\":\"BoxZoomTool\"},{\"attributes\":{\"data_source\":{\"id\":\"61415030-9ed8-4b64-b7ba-facf78e52b4e\",\"type\":\"ColumnDataSource\"},\"glyph\":{\"id\":\"000b8343-98ac-4aa8-b8a2-d077afe3882d\",\"type\":\"Line\"},\"hover_glyph\":null,\"muted_glyph\":null,\"nonselection_glyph\":{\"id\":\"f664b1bf-59c8-4056-a766-595ae922f01a\",\"type\":\"Line\"},\"selection_glyph\":null,\"view\":{\"id\":\"b5b330ab-efa0-45c8-aab7-aa89b4e450d2\",\"type\":\"CDSView\"}},\"id\":\"5b06d95d-78e8-4c76-9cdf-c69fb51ae5f3\",\"type\":\"GlyphRenderer\"},{\"attributes\":{\"callback\":null,\"data\":{\"x\":{\"__ndarray__\":\"cm1sTMT3VEDEyvjosEJHQOKI6DjzCUNArgQWV9awPkB9Lm8XG3M4QEz+Qv6iYzNA7eV8HaPLLkCX1QHyTpMoQFBmYSYetiNAUB04GtGpH0AmFyVE5j8ZQJca9QPGqBNALJP+OOHHDEBNxaf7QF8AQKtislomWuw/cW2dcO6A9T/uJJvfPu0EQIaQLTI/JQ1AxGiII+PmEkCJvfVeuCsYQD6ZBhGbHB9AXQw69DTYJEAsubcwKucqQNuT9D5OmipAJyi3szEJJUBlNebh5WkgQDDcPHBr2xlArtlANXuQFEBdJadFHckQQI2Avh0ZsQtAjYiwt1rsBUCL0SDoVBgAQK6C0nEEjvc/CggLSme58T9sXU2orFPnP0v0JYz9Gdg/vT38vxYczD9nBQTe6kHHP1IhkEXJwKo/8OZnhCVAub+xtVgCpmqzP6DUpY6g0+k/PKK3T1h4+D8RTDjQc1EAQG/dAQs7TwJAQt2eHpPLAEBWEh074x//PyCap9ZSGf4/rEzaTySm/T+7aXhHRmr9P688KeqeNP0/ruZ4EemD/D8olrZcn9T7P0+vNc9hW/s/i9VVL+4P+z+0NzC24uz6P8731Kza8vo/xFf4SHzq+z+gYyHpvHb8P68ROkiFevw/BAjYdCga/D8AUp8VbW77P3JrF/nKmvo/qCQeGfq++T/dplwHJfn4P2G4p+Uva/g/OzZ0RqMZ+D8dmn/iar73P/OuA7Ka8PY/gaaeQHGn9T9hkyjAH1L0P3aZGhdAU/M/n8VP/g7P8j+90HxHNvfyPwhNBtgrqvk/\",\"dtype\":\"float64\",\"shape\":[75]},\"y\":{\"__ndarray__\":\"GhExyth1ND/Sv8nbtpRIP2vylNV0PVE/aTum7souWD/At0SJ8fVgPw3Iuahxymc/MSNhhJWvcD/bTfBN02d3P2zb5nxnaoA/CD5h5MAGhz8NmeH1TyaQP+zrCsc9p5Y/LbKd76fGnz/bLW5ISEmmPww9YvTcQq8/JV2OstnstT8Er5Y7M8G+P0c+r3jqkcU/5h99k6ZBzj88bCIzFzjVP4enV8oyxN0//yH99nXg5D8qOpLLf0jtP5kqGJXUifQ/c9cS8kHP/D+/DpwzojQEQIEmwoanVwxA4lgXt9HgE0BSSZ2AJuIbQAMJih9jjiNA5q4l5INuK0AwTKYKRj0zQNv5fmq8/DpAaCJseHrtQkB/+zpwzoxKQM3MzMzMeFJAZmZmZmZqWEAAAAAAAFxeQM3MzMzMJmJAmpmZmZkfZUBmZmZmZhhoQDMzMzMzEWtAAAAAAAAKbkBmZmZmZoFwQM3MzMzM/XFAMzMzMzN6c0CamZmZmfZ0QAAAAAAAc3ZAZmZmZmbvd0DNzMzMzGt5QDMzMzMz6HpAmpmZmZlkfEAAAAAAAOF9QGZmZmZmXX9AZmZmZuZsgECamZmZGSuBQM3MzMxM6YFAAAAAAICngkAzMzMzs2WDQGZmZmbmI4RAmpmZmRnihEDNzMzMTKCFQAAAAACAXoZAMzMzM7Mch0BmZmZm5tqHQJqZmZkZmYhAzczMzExXiUAAAAAAgBWKQDMzMzOz04pAZmZmZuaRi0CamZmZGVCMQM3MzMxMDo1AAAAAAIDMjUAzMzMzs4qOQGZmZmbmSI9A\",\"dtype\":\"float64\",\"shape\":[75]}},\"selected\":{\"id\":\"d28b2301-8197-49d9-b9d4-5fd45a07bff0\",\"type\":\"Selection\"},\"selection_policy\":{\"id\":\"f3b3ddda-6650-4775-9255-5315cdc839ed\",\"type\":\"UnionRenderers\"}},\"id\":\"39456b53-f74b-436c-bdf3-e29049b3e2b1\",\"type\":\"ColumnDataSource\"},{\"attributes\":{\"items\":[{\"id\":\"8e530e70-e0df-4f71-a676-0d9076bf8a2e\",\"type\":\"LegendItem\"},{\"id\":\"ddee2172-3643-40e8-91be-4f5fc145a7a6\",\"type\":\"LegendItem\"},{\"id\":\"e9be68ef-f9da-40d9-983b-841f6fd5f756\",\"type\":\"LegendItem\"}],\"label_text_font_size\":{\"value\":\"8pt\"},\"location\":\"top_center\",\"orientation\":\"horizontal\",\"plot\":{\"id\":\"603dc95c-6a82-476a-ad46-f4c26177a269\",\"subtype\":\"Figure\",\"type\":\"Plot\"}},\"id\":\"401c4b75-1beb-4c38-a695-f99a43ef4055\",\"type\":\"Legend\"},{\"attributes\":{},\"id\":\"17894ff5-66b7-477e-8000-4aa827d82227\",\"type\":\"SaveTool\"},{\"attributes\":{},\"id\":\"7626c779-c239-404e-938e-f2fdde9e3b74\",\"type\":\"Selection\"},{\"attributes\":{\"label\":{\"value\":\"CRD\"},\"renderers\":[{\"id\":\"2e6b1650-3812-48ea-84ae-2301e8c034c0\",\"type\":\"GlyphRenderer\"},{\"id\":\"ae406474-b694-4d69-b7ce-df571fcda9cc\",\"type\":\"GlyphRenderer\"}]},\"id\":\"21c02e96-bff1-4a2a-80ac-336aecdb4d66\",\"type\":\"LegendItem\"},{\"attributes\":{},\"id\":\"d403052b-ca7a-412b-ba59-7778965f595f\",\"type\":\"Selection\"},{\"attributes\":{},\"id\":\"d28b2301-8197-49d9-b9d4-5fd45a07bff0\",\"type\":\"Selection\"},{\"attributes\":{},\"id\":\"8b270ccc-4984-4c1c-a95c-dfe5d93fdf0a\",\"type\":\"ResetTool\"},{\"attributes\":{\"label\":{\"value\":\"CLIRAD (single-run)\"},\"renderers\":[{\"id\":\"5b06d95d-78e8-4c76-9cdf-c69fb51ae5f3\",\"type\":\"GlyphRenderer\"}]},\"id\":\"aad636aa-6591-4c73-b3ee-01c5d949d73d\",\"type\":\"LegendItem\"},{\"attributes\":{\"data_source\":{\"id\":\"bb1998f7-141a-4f87-9351-35de7b4f6e36\",\"type\":\"ColumnDataSource\"},\"glyph\":{\"id\":\"4aba3509-a6c5-4489-a143-a336113eb42f\",\"type\":\"Square\"},\"hover_glyph\":null,\"muted_glyph\":null,\"nonselection_glyph\":{\"id\":\"68f690c7-7fd6-48a4-941f-2296c83f2781\",\"type\":\"Square\"},\"selection_glyph\":null,\"view\":{\"id\":\"864d55bc-f39f-418b-967f-50edb66a23f7\",\"type\":\"CDSView\"}},\"id\":\"13d39281-26d8-4060-9b63-2e89ada02539\",\"type\":\"GlyphRenderer\"},{\"attributes\":{\"dimension\":1,\"plot\":{\"id\":\"abeade65-76fd-41a3-83c1-c42590e6fa01\",\"subtype\":\"Figure\",\"type\":\"Plot\"},\"ticker\":{\"id\":\"da543ad5-d522-44a7-b40e-fe553ec6ebb1\",\"type\":\"LogTicker\"}},\"id\":\"58e7e356-489d-4353-9f71-a5591aeceec0\",\"type\":\"Grid\"},{\"attributes\":{\"fill_alpha\":{\"value\":0.1},\"fill_color\":{\"value\":\"#1f77b4\"},\"line_alpha\":{\"value\":0.1},\"line_color\":{\"value\":\"#1f77b4\"},\"x\":{\"field\":\"x\"},\"y\":{\"field\":\"y\"}},\"id\":\"68f690c7-7fd6-48a4-941f-2296c83f2781\",\"type\":\"Square\"},{\"attributes\":{\"line_alpha\":0.5,\"line_color\":\"#984ea3\",\"line_width\":1.5,\"x\":{\"field\":\"x\"},\"y\":{\"field\":\"y\"}},\"id\":\"f52048b3-27b3-4c9e-9f9c-5e09bb870a56\",\"type\":\"Line\"},{\"attributes\":{},\"id\":\"39e7e1e9-391d-4232-ad08-799e340d0b38\",\"type\":\"UnionRenderers\"},{\"attributes\":{},\"id\":\"74b61488-2544-4f2a-81ff-9a3f1fe35411\",\"type\":\"UnionRenderers\"},{\"attributes\":{\"label\":{\"value\":\"old CLIRAD (H2012)\"},\"renderers\":[{\"id\":\"13d39281-26d8-4060-9b63-2e89ada02539\",\"type\":\"GlyphRenderer\"},{\"id\":\"282cd157-6edf-4350-b008-26ac6b06b5c4\",\"type\":\"GlyphRenderer\"}]},\"id\":\"d5ff9677-0c5f-44fe-ad0e-4d839a6a42a7\",\"type\":\"LegendItem\"},{\"attributes\":{},\"id\":\"ea968bfd-c70a-41cb-9fb3-eba3110ef8e5\",\"type\":\"BasicTickFormatter\"},{\"attributes\":{\"callback\":null,\"data\":{\"x\":{\"__ndarray__\":\"MXhf+wfXU0AZbvNjswdFQLQWsEQVdUFA5TlpnhT9QUB/x1dOYK05QImjxHmcEjZA9jYDSBB3L0AISPl4H6wqQBPuuwfAzyJAOcHprUZAIUB7WWpkesAXQJoT1Uq+ChVArO/8u0EXCkBgVNlshzgCQMeNQ+Nzu/I/POwv1Qzh+D9QxMRmcj8DQOrE7tC4mAxAQsLBRIlHEkAi4cPYoDEXQEeDpjRjzB1ASZ0GEfCuI0DVFj11sssnQOMiVKSMHyhAWRHvUxNoJEDo8cjD4g8gQLGGvR2NDRpAdpI3nV5oFECtyWH9Lp4QQIZQd9bvmwtAkshlnu1BBkBMysnQf1UAQHZJU/DYZ/c/HoEhV+G48T/rSm4vc/TmP3EgV4cD49g/xmy6+4w7zz+bEsjh3uDDPw5SRMRogKs/4GPKdPc1a78lazVXN1vCP/B84ODeUug/LOyxgXDV9z+/DBHyZAwAQAOIY+fy/QFAahF3XKCUAECV0GHvGsz+P+X4k4Nhvf0/RO/IqI98/T8rkW+v/zT9P59vGMDsAv0/zEX7plCY/D/E3siS8kj7P2yUMv+hDvs/RmrXDaYs+z+c9f5GCO36P58nVCbr7vo/Qus8hbcy/D+rD5hFMCf9P4t6dxofnPw/bRp4QYZ2/D/q8NNiN2b8P5YTVw9ESPw/l1Dy0X/K+j+WKih3ZdD5P2k8OYxHjvk/hceGh5N4+T8lpPahWSn5P6vJnePt4vY/UuhmxnXI9T8miFqdE+D0Pz7qfx5CR/Q/0khvq2US9D9LfVdHQGv0P9syeEmwYfg/\",\"dtype\":\"float64\",\"shape\":[75]},\"y\":{\"__ndarray__\":\"hLndy31yND/6fmq8dJNIP8n9DkWBPlE/aDum7souWD/b4a/JGvVgP9f34SAhymc/ZvM4DOavcD+z0M5pFmh3PxuC4zJuaoA/xjcUPlsHhz8uHAjJAiaQP9ieWRKgppY/oI7HDFTGnz+a5h2n6EimPzS6g9iZQq8/IuAQqtTstT9SSZ2AJsK+P4nS3uALk8U/ih9j7lpCzj+ASL99HTjVP4enV8oyxN0/ACL99nXg5D9fmEwVjErtPyUGgZVDi/Q/AiuHFtnO/D9OYhBYOTQEQPHSTWIQWAxA4XoUrkfhE0D8qfHSTeIbQMh2vp8ajyNArkfhehRuK0Bcj8L1KDwzQFyPwvUo/DpAPgrXo3DtQkDNzMzMzIxKQClcj8L1eFJAKVyPwvVoWECamZmZmVleQGZmZmZmJmJAAAAAAAAgZUCamZmZmRloQJqZmZmZEWtAmpmZmZkJbkCamZmZmYFwQGZmZmZm/nFAZmZmZmZ6c0BmZmZmZvZ0QDQzMzMzc3ZAAAAAAADwd0AAAAAAAGx5QAAAAAAA6HpAzMzMzMxkfEDMzMzMzOB9QM3MzMzMXH9AzczMzMxsgEAzMzMzMyuBQDMzMzMz6YFAMzMzMzOngkCamZmZmWWDQAAAAAAAJIRAAAAAAADihEAAAAAAAKCFQGZmZmZmXoZAzczMzMwch0DNzMzMzNqHQM3MzMzMmIhAMzMzMzNXiUCamZmZmRWKQAAAAAAA1IpAAAAAAACSi0AAAAAAAFCMQGZmZmZmDo1AzczMzMzMjUDNzMzMzIqOQM3MzMzMSI9A\",\"dtype\":\"float64\",\"shape\":[75]}},\"selected\":{\"id\":\"4e919261-e18d-4cb4-aa02-bb5345473fa5\",\"type\":\"Selection\"},\"selection_policy\":{\"id\":\"86bdde3e-e2c6-4782-95bc-0f7fa62412cb\",\"type\":\"UnionRenderers\"}},\"id\":\"bb1998f7-141a-4f87-9351-35de7b4f6e36\",\"type\":\"ColumnDataSource\"},{\"attributes\":{},\"id\":\"e51823f5-a2f4-4ffe-a69f-c5f639b36626\",\"type\":\"HelpTool\"},{\"attributes\":{\"num_minor_ticks\":10},\"id\":\"da543ad5-d522-44a7-b40e-fe553ec6ebb1\",\"type\":\"LogTicker\"},{\"attributes\":{\"callback\":null,\"data\":{\"x\":{\"__ndarray__\":\"MXhf+wfXU0AZbvNjswdFQLQWsEQVdUFA5TlpnhT9QUB/x1dOYK05QImjxHmcEjZA9jYDSBB3L0AISPl4H6wqQBPuuwfAzyJAOcHprUZAIUB7WWpkesAXQJoT1Uq+ChVArO/8u0EXCkBgVNlshzgCQMeNQ+Nzu/I/POwv1Qzh+D9QxMRmcj8DQOrE7tC4mAxAQsLBRIlHEkAi4cPYoDEXQEeDpjRjzB1ASZ0GEfCuI0DVFj11sssnQOMiVKSMHyhAWRHvUxNoJEDo8cjD4g8gQLGGvR2NDRpAdpI3nV5oFECtyWH9Lp4QQIZQd9bvmwtAkshlnu1BBkBMysnQf1UAQHZJU/DYZ/c/HoEhV+G48T/rSm4vc/TmP3EgV4cD49g/xmy6+4w7zz+bEsjh3uDDPw5SRMRogKs/4GPKdPc1a78lazVXN1vCP/B84ODeUug/LOyxgXDV9z+/DBHyZAwAQAOIY+fy/QFAahF3XKCUAECV0GHvGsz+P+X4k4Nhvf0/RO/IqI98/T8rkW+v/zT9P59vGMDsAv0/zEX7plCY/D/E3siS8kj7P2yUMv+hDvs/RmrXDaYs+z+c9f5GCO36P58nVCbr7vo/Qus8hbcy/D+rD5hFMCf9P4t6dxofnPw/bRp4QYZ2/D/q8NNiN2b8P5YTVw9ESPw/l1Dy0X/K+j+WKih3ZdD5P2k8OYxHjvk/hceGh5N4+T8lpPahWSn5P6vJnePt4vY/UuhmxnXI9T8miFqdE+D0Pz7qfx5CR/Q/0khvq2US9D9LfVdHQGv0P9syeEmwYfg/\",\"dtype\":\"float64\",\"shape\":[75]},\"y\":{\"__ndarray__\":\"hLndy31yND/6fmq8dJNIP8n9DkWBPlE/aDum7souWD/b4a/JGvVgP9f34SAhymc/ZvM4DOavcD+z0M5pFmh3PxuC4zJuaoA/xjcUPlsHhz8uHAjJAiaQP9ieWRKgppY/oI7HDFTGnz+a5h2n6EimPzS6g9iZQq8/IuAQqtTstT9SSZ2AJsK+P4nS3uALk8U/ih9j7lpCzj+ASL99HTjVP4enV8oyxN0/ACL99nXg5D9fmEwVjErtPyUGgZVDi/Q/AiuHFtnO/D9OYhBYOTQEQPHSTWIQWAxA4XoUrkfhE0D8qfHSTeIbQMh2vp8ajyNArkfhehRuK0Bcj8L1KDwzQFyPwvUo/DpAPgrXo3DtQkDNzMzMzIxKQClcj8L1eFJAKVyPwvVoWECamZmZmVleQGZmZmZmJmJAAAAAAAAgZUCamZmZmRloQJqZmZmZEWtAmpmZmZkJbkCamZmZmYFwQGZmZmZm/nFAZmZmZmZ6c0BmZmZmZvZ0QDQzMzMzc3ZAAAAAAADwd0AAAAAAAGx5QAAAAAAA6HpAzMzMzMxkfEDMzMzMzOB9QM3MzMzMXH9AzczMzMxsgEAzMzMzMyuBQDMzMzMz6YFAMzMzMzOngkCamZmZmWWDQAAAAAAAJIRAAAAAAADihEAAAAAAAKCFQGZmZmZmXoZAzczMzMwch0DNzMzMzNqHQM3MzMzMmIhAMzMzMzNXiUCamZmZmRWKQAAAAAAA1IpAAAAAAACSi0AAAAAAAFCMQGZmZmZmDo1AzczMzMzMjUDNzMzMzIqOQM3MzMzMSI9A\",\"dtype\":\"float64\",\"shape\":[75]}},\"selected\":{\"id\":\"97e0b209-29ff-4c5e-ab6a-fef00d8cae77\",\"type\":\"Selection\"},\"selection_policy\":{\"id\":\"b4cac65b-bf9a-40d3-9df0-d12b73c33cd1\",\"type\":\"UnionRenderers\"}},\"id\":\"bcda5925-0b63-49a2-9d0d-2b77fb530f6b\",\"type\":\"ColumnDataSource\"},{\"attributes\":{},\"id\":\"05d3433f-d80c-4c4f-8c6e-781b702d68e8\",\"type\":\"UnionRenderers\"},{\"attributes\":{\"fill_alpha\":{\"value\":0.7},\"fill_color\":{\"value\":\"#984ea3\"},\"line_alpha\":{\"value\":0.7},\"line_color\":{\"value\":\"#984ea3\"},\"x\":{\"field\":\"x\"},\"y\":{\"field\":\"y\"}},\"id\":\"4aba3509-a6c5-4489-a143-a336113eb42f\",\"type\":\"Square\"},{\"attributes\":{},\"id\":\"4b6484e8-6eec-411d-af38-d1bdd30edcda\",\"type\":\"UnionRenderers\"},{\"attributes\":{},\"id\":\"f730d78f-af72-4da4-9e65-97046ee30edf\",\"type\":\"Selection\"},{\"attributes\":{},\"id\":\"7323d9e3-068e-4515-b136-83f7cba3fb13\",\"type\":\"HelpTool\"},{\"attributes\":{\"callback\":null,\"end\":0.7323360194662635,\"start\":-1.576281364019664},\"id\":\"c0a98e61-4a29-48fa-8cdb-828694d473eb\",\"type\":\"Range1d\"},{\"attributes\":{},\"id\":\"97e0b209-29ff-4c5e-ab6a-fef00d8cae77\",\"type\":\"Selection\"},{\"attributes\":{},\"id\":\"d9b29fec-3ebd-4226-9dee-18c2f7c1f727\",\"type\":\"UnionRenderers\"},{\"attributes\":{\"ticker\":null},\"id\":\"190d076f-232b-43a9-bb30-3531ba434cf4\",\"type\":\"LogTickFormatter\"},{\"attributes\":{},\"id\":\"b4cac65b-bf9a-40d3-9df0-d12b73c33cd1\",\"type\":\"UnionRenderers\"},{\"attributes\":{\"source\":{\"id\":\"bb1998f7-141a-4f87-9351-35de7b4f6e36\",\"type\":\"ColumnDataSource\"}},\"id\":\"864d55bc-f39f-418b-967f-50edb66a23f7\",\"type\":\"CDSView\"},{\"attributes\":{\"data_source\":{\"id\":\"bcda5925-0b63-49a2-9d0d-2b77fb530f6b\",\"type\":\"ColumnDataSource\"},\"glyph\":{\"id\":\"f52048b3-27b3-4c9e-9f9c-5e09bb870a56\",\"type\":\"Line\"},\"hover_glyph\":null,\"muted_glyph\":null,\"nonselection_glyph\":{\"id\":\"26788c53-be94-45d8-9090-db2a4d360677\",\"type\":\"Line\"},\"selection_glyph\":null,\"view\":{\"id\":\"2fc11958-76b3-49e2-8980-f13a4a6eff79\",\"type\":\"CDSView\"}},\"id\":\"282cd157-6edf-4350-b008-26ac6b06b5c4\",\"type\":\"GlyphRenderer\"},{\"attributes\":{\"bottom_units\":\"screen\",\"fill_alpha\":{\"value\":0.5},\"fill_color\":{\"value\":\"lightgrey\"},\"left_units\":\"screen\",\"level\":\"overlay\",\"line_alpha\":{\"value\":1.0},\"line_color\":{\"value\":\"black\"},\"line_dash\":[4,4],\"line_width\":{\"value\":2},\"plot\":null,\"render_mode\":\"css\",\"right_units\":\"screen\",\"top_units\":\"screen\"},\"id\":\"9f31d47d-da35-46c9-996c-17ff967fdcb8\",\"type\":\"BoxAnnotation\"},{\"attributes\":{\"plot\":{\"id\":\"603dc95c-6a82-476a-ad46-f4c26177a269\",\"subtype\":\"Figure\",\"type\":\"Plot\"},\"ticker\":{\"id\":\"515ce8ed-cb35-4d95-901a-73823fe7d1b5\",\"type\":\"BasicTicker\"}},\"id\":\"e5668ea0-45a4-4654-beea-03d6bd04b9f5\",\"type\":\"Grid\"},{\"attributes\":{\"line_alpha\":0.1,\"line_color\":\"#1f77b4\",\"line_width\":1.5,\"x\":{\"field\":\"x\"},\"y\":{\"field\":\"y\"}},\"id\":\"26788c53-be94-45d8-9090-db2a4d360677\",\"type\":\"Line\"},{\"attributes\":{\"overlay\":{\"id\":\"fa2971d2-e238-467c-8066-3de7a7600254\",\"type\":\"BoxAnnotation\"}},\"id\":\"2a88f44e-b0f9-4407-b728-4698a72c32bf\",\"type\":\"BoxZoomTool\"},{\"attributes\":{},\"id\":\"e624c38e-9b23-4529-91d8-ee878a48c17e\",\"type\":\"HelpTool\"},{\"attributes\":{},\"id\":\"86bdde3e-e2c6-4782-95bc-0f7fa62412cb\",\"type\":\"UnionRenderers\"},{\"attributes\":{\"axis_label\":\"cooling rate [K/day]\",\"formatter\":{\"id\":\"ea968bfd-c70a-41cb-9fb3-eba3110ef8e5\",\"type\":\"BasicTickFormatter\"},\"plot\":{\"id\":\"603dc95c-6a82-476a-ad46-f4c26177a269\",\"subtype\":\"Figure\",\"type\":\"Plot\"},\"ticker\":{\"id\":\"515ce8ed-cb35-4d95-901a-73823fe7d1b5\",\"type\":\"BasicTicker\"}},\"id\":\"2a5c65bd-1f78-46c5-b69e-be2f9925a8e1\",\"type\":\"LinearAxis\"},{\"attributes\":{\"callback\":null,\"data\":{\"x\":{\"__ndarray__\":\"oGsWFOcWRMAMO53n/6ogwD3viZgKZgLA/QYLKQLU/D8kxx1hxGkOQMQ0+uZxzQ5AVNhXd+QeBEAOfWNUzSflP8Ab6dWes+m/+NL3xc/V9b/FaMqELYjxv9IJsBTPId+/TcZOEIimsD/RlBh077XZP+5CgCXcI98/xk80a5U21D+mvbpH91KhP0I7juACtdC/1aw+HWoz4L+eELp8N6Pgv46j72rX7tG/sPOr1cQ1eb8yylG8HeyqvzLdYsjI0NO/iNtWXRBP17+iXw8BsSGxvwV3o383itg/95efVY5T1z8Wf4KYaOC3Pxz4JWCS45c/xGzh7qDj0D/z9Jq0lJzVP9S9cwqzvcM/ncXJA03snL/+DCuavWFzP5gifvItdK4/6ix5O2qXfj/VIxwFX/CrvyFUz3G74La/my7Kb2SHub/iQ7MhNea1vxA1JmSLibC/ec3xKLA2r7/CQWKSSD+dv/kBCet07ba/jdOl0S2ZuL/hF/AL7Yurv4nkUKY76K6/oQAAbI22s7/sel+r8Oayv1lPEDkNp6u/hX6dcBWzor/B7Z2I616YvxIFFivn5ZS/kePwCZ6plL+En8uXwV+Zv6r8aguhXJu/hY8q3THCk78YErbXNlBWP49H38C+f6A/WwZhsThqrD+Qb3Iuc+mtP/D2ZI59eqU/qxypqzTKlT/wr1QOo+RZP+CjI8tNBUE/JP80BLOBgT9iFteBPlSeP2eXidFcb6g/plqmh+qrrz+CO88mJx2yP91eBcEyWbM/pmiOXiQjtD+1cER8wdW0P/GeJNn6VLQ/\",\"dtype\":\"float64\",\"shape\":[75]},\"y\":{\"__ndarray__\":\"GhExyth1ND/Sv8nbtpRIP2vylNV0PVE/aTum7souWD/At0SJ8fVgPw3Iuahxymc/MSNhhJWvcD/bTfBN02d3P2zb5nxnaoA/CD5h5MAGhz8NmeH1TyaQP+zrCsc9p5Y/LbKd76fGnz/bLW5ISEmmPww9YvTcQq8/JV2OstnstT8Er5Y7M8G+P0c+r3jqkcU/5h99k6ZBzj88bCIzFzjVP4enV8oyxN0//yH99nXg5D8qOpLLf0jtP5kqGJXUifQ/c9cS8kHP/D+/DpwzojQEQIEmwoanVwxA4lgXt9HgE0BSSZ2AJuIbQAMJih9jjiNA5q4l5INuK0AwTKYKRj0zQNv5fmq8/DpAaCJseHrtQkB/+zpwzoxKQM3MzMzMeFJAZmZmZmZqWEAAAAAAAFxeQM3MzMzMJmJAmpmZmZkfZUBmZmZmZhhoQDMzMzMzEWtAAAAAAAAKbkBmZmZmZoFwQM3MzMzM/XFAMzMzMzN6c0CamZmZmfZ0QAAAAAAAc3ZAZmZmZmbvd0DNzMzMzGt5QDMzMzMz6HpAmpmZmZlkfEAAAAAAAOF9QGZmZmZmXX9AZmZmZuZsgECamZmZGSuBQM3MzMxM6YFAAAAAAICngkAzMzMzs2WDQGZmZmbmI4RAmpmZmRnihEDNzMzMTKCFQAAAAACAXoZAMzMzM7Mch0BmZmZm5tqHQJqZmZkZmYhAzczMzExXiUAAAAAAgBWKQDMzMzOz04pAZmZmZuaRi0CamZmZGVCMQM3MzMxMDo1AAAAAAIDMjUAzMzMzs4qOQGZmZmbmSI9A\",\"dtype\":\"float64\",\"shape\":[75]}},\"selected\":{\"id\":\"0d14ea8a-439a-4c40-a880-3839229bb412\",\"type\":\"Selection\"},\"selection_policy\":{\"id\":\"39e7e1e9-391d-4232-ad08-799e340d0b38\",\"type\":\"UnionRenderers\"}},\"id\":\"2b30e721-e907-46a5-be52-56f5b02f15f0\",\"type\":\"ColumnDataSource\"},{\"attributes\":{\"bottom_units\":\"screen\",\"fill_alpha\":{\"value\":0.5},\"fill_color\":{\"value\":\"lightgrey\"},\"left_units\":\"screen\",\"level\":\"overlay\",\"line_alpha\":{\"value\":1.0},\"line_color\":{\"value\":\"black\"},\"line_dash\":[4,4],\"line_width\":{\"value\":2},\"plot\":null,\"render_mode\":\"css\",\"right_units\":\"screen\",\"top_units\":\"screen\"},\"id\":\"fa2971d2-e238-467c-8066-3de7a7600254\",\"type\":\"BoxAnnotation\"},{\"attributes\":{},\"id\":\"979ef2c5-5676-45ec-88a5-bbc51c9f559f\",\"type\":\"LinearScale\"},{\"attributes\":{\"axis_label\":\"pressure [mb]\",\"formatter\":{\"id\":\"190d076f-232b-43a9-bb30-3531ba434cf4\",\"type\":\"LogTickFormatter\"},\"plot\":{\"id\":\"abeade65-76fd-41a3-83c1-c42590e6fa01\",\"subtype\":\"Figure\",\"type\":\"Plot\"},\"ticker\":{\"id\":\"da543ad5-d522-44a7-b40e-fe553ec6ebb1\",\"type\":\"LogTicker\"}},\"id\":\"da1a5838-cf9a-4d86-9eb8-8d5a75745b91\",\"type\":\"LogAxis\"},{\"attributes\":{\"plot\":null,\"text\":\"\"},\"id\":\"ca89f93c-b21b-479e-aca0-1ee17e573990\",\"type\":\"Title\"},{\"attributes\":{},\"id\":\"4e919261-e18d-4cb4-aa02-bb5345473fa5\",\"type\":\"Selection\"},{\"attributes\":{},\"id\":\"46107875-652d-4b0b-bfe6-65772dfff5d1\",\"type\":\"UnionRenderers\"},{\"attributes\":{\"plot\":{\"id\":\"abeade65-76fd-41a3-83c1-c42590e6fa01\",\"subtype\":\"Figure\",\"type\":\"Plot\"},\"ticker\":{\"id\":\"53711bb2-14dc-4d00-9f0c-589996778576\",\"type\":\"BasicTicker\"}},\"id\":\"2f2037b0-b0c2-483e-b870-09b1ccfe2988\",\"type\":\"Grid\"},{\"attributes\":{},\"id\":\"515ce8ed-cb35-4d95-901a-73823fe7d1b5\",\"type\":\"BasicTicker\"},{\"attributes\":{\"children\":[{\"id\":\"603dc95c-6a82-476a-ad46-f4c26177a269\",\"subtype\":\"Figure\",\"type\":\"Plot\"},{\"id\":\"d700374a-409b-4a71-a50b-6d968778e7f2\",\"subtype\":\"Figure\",\"type\":\"Plot\"},{\"id\":\"abeade65-76fd-41a3-83c1-c42590e6fa01\",\"subtype\":\"Figure\",\"type\":\"Plot\"}]},\"id\":\"14409a73-b2fe-446e-9f0f-0c8703e0c187\",\"type\":\"Row\"},{\"attributes\":{\"callback\":null,\"end\":0.01,\"start\":1020},\"id\":\"07b7d3ce-bf12-41e4-b9d9-4db8e50b8054\",\"type\":\"Range1d\"},{\"attributes\":{\"fill_alpha\":{\"value\":0.7},\"fill_color\":{\"value\":\"#984ea3\"},\"line_alpha\":{\"value\":0.7},\"line_color\":{\"value\":\"#984ea3\"},\"x\":{\"field\":\"x\"},\"y\":{\"field\":\"y\"}},\"id\":\"6fa1c2a3-4df5-47b6-91e6-43b2976cd322\",\"type\":\"Circle\"},{\"attributes\":{},\"id\":\"0d14ea8a-439a-4c40-a880-3839229bb412\",\"type\":\"Selection\"},{\"attributes\":{},\"id\":\"2aba3442-d2c4-46a2-af52-08375a46f559\",\"type\":\"ResetTool\"},{\"attributes\":{\"toolbar\":{\"id\":\"4f91fb04-edbd-43bf-ba67-729abeb98a95\",\"type\":\"ProxyToolbar\"},\"toolbar_location\":\"above\"},\"id\":\"433e6354-1f39-4ae9-93f7-18cb47502dcf\",\"type\":\"ToolbarBox\"},{\"attributes\":{},\"id\":\"5c499ff2-110b-4684-b428-d022d7c0fe0c\",\"type\":\"LinearScale\"},{\"attributes\":{\"source\":{\"id\":\"bcda5925-0b63-49a2-9d0d-2b77fb530f6b\",\"type\":\"ColumnDataSource\"}},\"id\":\"2fc11958-76b3-49e2-8980-f13a4a6eff79\",\"type\":\"CDSView\"},{\"attributes\":{},\"id\":\"f3b3ddda-6650-4775-9255-5315cdc839ed\",\"type\":\"UnionRenderers\"},{\"attributes\":{\"children\":[{\"id\":\"433e6354-1f39-4ae9-93f7-18cb47502dcf\",\"type\":\"ToolbarBox\"},{\"id\":\"5eada1d4-0047-4075-83fe-aa9513103759\",\"type\":\"Column\"}]},\"id\":\"af3f28e3-ae2f-41aa-99c2-c07d7447e047\",\"type\":\"Column\"},{\"attributes\":{},\"id\":\"db078c76-5678-4681-9077-96e5919a56e0\",\"type\":\"UnionRenderers\"},{\"attributes\":{\"callback\":null,\"end\":2.3135572748904605,\"start\":-0.22322766227646001},\"id\":\"ae896c89-aacc-4f5d-af41-588ef8a23985\",\"type\":\"Range1d\"},{\"attributes\":{},\"id\":\"2c92bb5e-9bf0-4947-814f-99603194ec8d\",\"type\":\"WheelZoomTool\"},{\"attributes\":{\"overlay\":{\"id\":\"b9e72146-c9dc-493e-9783-38ee58dfbfd6\",\"type\":\"BoxAnnotation\"}},\"id\":\"3c94b36d-3895-4132-af70-3b38eb1c5892\",\"type\":\"BoxZoomTool\"},{\"attributes\":{},\"id\":\"0b8d58a4-0a79-49d0-a407-d91dc5c8574d\",\"type\":\"BasicTicker\"},{\"attributes\":{},\"id\":\"9319c2c1-d4b9-44f5-9fd4-63c0e61b9ec5\",\"type\":\"UnionRenderers\"},{\"attributes\":{\"data_source\":{\"id\":\"4f15a893-cf4d-463f-b058-1a40ea00b7bd\",\"type\":\"ColumnDataSource\"},\"glyph\":{\"id\":\"5d7cd10c-dea7-478d-bef1-d348238dd5d6\",\"type\":\"Line\"},\"hover_glyph\":null,\"muted_glyph\":null,\"nonselection_glyph\":{\"id\":\"9c6b3cea-c41f-4a62-8cfa-7fa0c9d4ae4e\",\"type\":\"Line\"},\"selection_glyph\":null,\"view\":{\"id\":\"dcad2f3a-5b4f-49d8-9405-403cc57644c7\",\"type\":\"CDSView\"}},\"id\":\"cebbfb0f-c77f-4495-85fe-0ec8678423ab\",\"type\":\"GlyphRenderer\"},{\"attributes\":{\"line_alpha\":0.1,\"line_color\":\"#1f77b4\",\"line_dash\":[6],\"line_width\":4,\"x\":{\"field\":\"x\"},\"y\":{\"field\":\"y\"}},\"id\":\"9c6b3cea-c41f-4a62-8cfa-7fa0c9d4ae4e\",\"type\":\"Line\"},{\"attributes\":{\"items\":[{\"id\":\"e2e0fdea-a422-49e6-9f1f-f08758fd5133\",\"type\":\"LegendItem\"},{\"id\":\"8a9d8f8f-bdd6-44e2-8fba-300d4af41c39\",\"type\":\"LegendItem\"}],\"label_text_font_size\":{\"value\":\"8pt\"},\"location\":\"top_center\",\"orientation\":\"horizontal\",\"plot\":{\"id\":\"abeade65-76fd-41a3-83c1-c42590e6fa01\",\"subtype\":\"Figure\",\"type\":\"Plot\"}},\"id\":\"e3a1f277-a3b5-47ab-939c-191fbdec88ff\",\"type\":\"Legend\"},{\"attributes\":{},\"id\":\"3de80dbd-6906-47f0-a25e-9556a22974ef\",\"type\":\"PanTool\"},{\"attributes\":{\"source\":{\"id\":\"5c21ce7f-9f47-4529-b502-fd05632b6b3d\",\"type\":\"ColumnDataSource\"}},\"id\":\"5925246c-6c09-444e-9a0e-59440cb35cb8\",\"type\":\"CDSView\"},{\"attributes\":{\"callback\":null,\"data\":{\"x\":{\"__ndarray__\":\"oGsWFOcWRMAMO53n/6ogwD3viZgKZgLA/QYLKQLU/D8kxx1hxGkOQMQ0+uZxzQ5AVNhXd+QeBEAOfWNUzSflP8Ab6dWes+m/+NL3xc/V9b/FaMqELYjxv9IJsBTPId+/TcZOEIimsD/RlBh077XZP+5CgCXcI98/xk80a5U21D+mvbpH91KhP0I7juACtdC/1aw+HWoz4L+eELp8N6Pgv46j72rX7tG/sPOr1cQ1eb8yylG8HeyqvzLdYsjI0NO/iNtWXRBP17+iXw8BsSGxvwV3o383itg/95efVY5T1z8Wf4KYaOC3Pxz4JWCS45c/xGzh7qDj0D/z9Jq0lJzVP9S9cwqzvcM/ncXJA03snL/+DCuavWFzP5gifvItdK4/6ix5O2qXfj/VIxwFX/CrvyFUz3G74La/my7Kb2SHub/iQ7MhNea1vxA1JmSLibC/ec3xKLA2r7/CQWKSSD+dv/kBCet07ba/jdOl0S2ZuL/hF/AL7Yurv4nkUKY76K6/oQAAbI22s7/sel+r8Oayv1lPEDkNp6u/hX6dcBWzor/B7Z2I616YvxIFFivn5ZS/kePwCZ6plL+En8uXwV+Zv6r8aguhXJu/hY8q3THCk78YErbXNlBWP49H38C+f6A/WwZhsThqrD+Qb3Iuc+mtP/D2ZI59eqU/qxypqzTKlT/wr1QOo+RZP+CjI8tNBUE/JP80BLOBgT9iFteBPlSeP2eXidFcb6g/plqmh+qrrz+CO88mJx2yP91eBcEyWbM/pmiOXiQjtD+1cER8wdW0P/GeJNn6VLQ/\",\"dtype\":\"float64\",\"shape\":[75]},\"y\":{\"__ndarray__\":\"GhExyth1ND/Sv8nbtpRIP2vylNV0PVE/aTum7souWD/At0SJ8fVgPw3Iuahxymc/MSNhhJWvcD/bTfBN02d3P2zb5nxnaoA/CD5h5MAGhz8NmeH1TyaQP+zrCsc9p5Y/LbKd76fGnz/bLW5ISEmmPww9YvTcQq8/JV2OstnstT8Er5Y7M8G+P0c+r3jqkcU/5h99k6ZBzj88bCIzFzjVP4enV8oyxN0//yH99nXg5D8qOpLLf0jtP5kqGJXUifQ/c9cS8kHP/D+/DpwzojQEQIEmwoanVwxA4lgXt9HgE0BSSZ2AJuIbQAMJih9jjiNA5q4l5INuK0AwTKYKRj0zQNv5fmq8/DpAaCJseHrtQkB/+zpwzoxKQM3MzMzMeFJAZmZmZmZqWEAAAAAAAFxeQM3MzMzMJmJAmpmZmZkfZUBmZmZmZhhoQDMzMzMzEWtAAAAAAAAKbkBmZmZmZoFwQM3MzMzM/XFAMzMzMzN6c0CamZmZmfZ0QAAAAAAAc3ZAZmZmZmbvd0DNzMzMzGt5QDMzMzMz6HpAmpmZmZlkfEAAAAAAAOF9QGZmZmZmXX9AZmZmZuZsgECamZmZGSuBQM3MzMxM6YFAAAAAAICngkAzMzMzs2WDQGZmZmbmI4RAmpmZmRnihEDNzMzMTKCFQAAAAACAXoZAMzMzM7Mch0BmZmZm5tqHQJqZmZkZmYhAzczMzExXiUAAAAAAgBWKQDMzMzOz04pAZmZmZuaRi0CamZmZGVCMQM3MzMxMDo1AAAAAAIDMjUAzMzMzs4qOQGZmZmbmSI9A\",\"dtype\":\"float64\",\"shape\":[75]}},\"selected\":{\"id\":\"75645a16-3872-4639-a62b-eca3e44e0eb8\",\"type\":\"Selection\"},\"selection_policy\":{\"id\":\"05d3433f-d80c-4c4f-8c6e-781b702d68e8\",\"type\":\"UnionRenderers\"}},\"id\":\"f256eab5-9801-48e8-a79a-de6bb873bc06\",\"type\":\"ColumnDataSource\"},{\"attributes\":{\"children\":[{\"id\":\"14409a73-b2fe-446e-9f0f-0c8703e0c187\",\"type\":\"Row\"}]},\"id\":\"5eada1d4-0047-4075-83fe-aa9513103759\",\"type\":\"Column\"},{\"attributes\":{\"fill_alpha\":{\"value\":0.1},\"fill_color\":{\"value\":\"#1f77b4\"},\"line_alpha\":{\"value\":0.1},\"line_color\":{\"value\":\"#1f77b4\"},\"x\":{\"field\":\"x\"},\"y\":{\"field\":\"y\"}},\"id\":\"ca8050c2-cfb5-4fa6-ab3b-6f776c63693b\",\"type\":\"Circle\"},{\"attributes\":{\"dimension\":1,\"plot\":{\"id\":\"d700374a-409b-4a71-a50b-6d968778e7f2\",\"subtype\":\"Figure\",\"type\":\"Plot\"},\"ticker\":{\"id\":\"c09815b0-a432-4cc4-b6f7-fe482d353bce\",\"type\":\"LogTicker\"}},\"id\":\"d2419158-e387-47b8-afa2-c51e177ed31c\",\"type\":\"Grid\"},{\"attributes\":{\"line_alpha\":0.8,\"line_color\":\"#984ea3\",\"line_width\":1.5,\"x\":{\"field\":\"x\"},\"y\":{\"field\":\"y\"}},\"id\":\"f0d1b250-5df7-47e6-bad6-222d5455bda9\",\"type\":\"Line\"},{\"attributes\":{},\"id\":\"73361ae7-d42f-4ac0-9882-21ba567c29af\",\"type\":\"BasicTickFormatter\"},{\"attributes\":{\"callback\":null,\"data\":{\"x\":{\"__ndarray__\":\"QW/ChKHYRUABfBHv8BdDQO7pX4+S40FAjlrTPAs/QEBi55KjU0A8QOVEIjtRPTdAAW6pHa7pMUBoDUjHy+UpQJPUAjnkGiJAkii6KF00GkDyfPLi2t0UQPkZqhKpthFAXgmBeRVNDUDo1yrq/pUDQBJCuTYK9vU/YoFqy5OO+j/mD7q8ijIFQB7JG9aeDgtAKZPg33XgEEB3e15vURcWQASfV5qt/R1A31afOw7VJEBkZ/sSPswqQPJ8sfjH+ylASXHMMLlOJECnFuR/okcgQKATN+gOZBtALtOaGrQFFkBYLwnonigRQH3MfkLg4AtAJbaM1c4ICEAqMLR+58sCQGn6INO6Bfo/9OD7FbZF8T+Hs4EjcHrnP564dUqD6Ns/JQfYEdIQzT9x/Lwc00XAP+SGDp6tAKO/xAoZ+sRjyb+ScdT6eNyDv/4NISJvwuc/0BNwzqJ+9z+OhxM/9RYAQGCVqWPPlwFApa4RsMkGAECakb3Sg0P+P/wSdfkQIv0/okwaebtq/D8NcsI81zv8PzS6YIBmV/w/t/rzZVDu+z9vHpSuI3P7PzxXiTLKB/s/+xEut0e9+j80CdGvY4f6P91Lpyhohfo/hq2DgXOb+z8jUdf2UHz8P+0LQT6D/vw/NxBjOnr9/D975RKvuF38PyqTiuWeRvs/G8nM6yIW+j8IPCAwnv/4P9UcYY9Qbfg/OqB8rKY8+D929obcuzf4P6/7j5gVtPc/VtnblNCk9j8Yh5Uy8nP1P2TvKkPTiPQ/Kaw4REER9D/JF0FfkkT0P/aWmIV77/o/\",\"dtype\":\"float64\",\"shape\":[75]},\"y\":{\"__ndarray__\":\"GhExyth1ND/Sv8nbtpRIP2vylNV0PVE/aTum7souWD/At0SJ8fVgPw3Iuahxymc/MSNhhJWvcD/bTfBN02d3P2zb5nxnaoA/CD5h5MAGhz8NmeH1TyaQP+zrCsc9p5Y/LbKd76fGnz/bLW5ISEmmPww9YvTcQq8/JV2OstnstT8Er5Y7M8G+P0c+r3jqkcU/5h99k6ZBzj88bCIzFzjVP4enV8oyxN0//yH99nXg5D8qOpLLf0jtP5kqGJXUifQ/c9cS8kHP/D+/DpwzojQEQIEmwoanVwxA4lgXt9HgE0BSSZ2AJuIbQAMJih9jjiNA5q4l5INuK0AwTKYKRj0zQNv5fmq8/DpAaCJseHrtQkB/+zpwzoxKQM3MzMzMeFJAZmZmZmZqWEAAAAAAAFxeQM3MzMzMJmJAmpmZmZkfZUBmZmZmZhhoQDMzMzMzEWtAAAAAAAAKbkBmZmZmZoFwQM3MzMzM/XFAMzMzMzN6c0CamZmZmfZ0QAAAAAAAc3ZAZmZmZmbvd0DNzMzMzGt5QDMzMzMz6HpAmpmZmZlkfEAAAAAAAOF9QGZmZmZmXX9AZmZmZuZsgECamZmZGSuBQM3MzMxM6YFAAAAAAICngkAzMzMzs2WDQGZmZmbmI4RAmpmZmRnihEDNzMzMTKCFQAAAAACAXoZAMzMzM7Mch0BmZmZm5tqHQJqZmZkZmYhAzczMzExXiUAAAAAAgBWKQDMzMzOz04pAZmZmZuaRi0CamZmZGVCMQM3MzMxMDo1AAAAAAIDMjUAzMzMzs4qOQGZmZmbmSI9A\",\"dtype\":\"float64\",\"shape\":[75]}},\"selected\":{\"id\":\"f730d78f-af72-4da4-9e65-97046ee30edf\",\"type\":\"Selection\"},\"selection_policy\":{\"id\":\"46107875-652d-4b0b-bfe6-65772dfff5d1\",\"type\":\"UnionRenderers\"}},\"id\":\"5c21ce7f-9f47-4529-b502-fd05632b6b3d\",\"type\":\"ColumnDataSource\"},{\"attributes\":{\"data_source\":{\"id\":\"2b30e721-e907-46a5-be52-56f5b02f15f0\",\"type\":\"ColumnDataSource\"},\"glyph\":{\"id\":\"6fa1c2a3-4df5-47b6-91e6-43b2976cd322\",\"type\":\"Circle\"},\"hover_glyph\":null,\"muted_glyph\":null,\"nonselection_glyph\":{\"id\":\"ca8050c2-cfb5-4fa6-ab3b-6f776c63693b\",\"type\":\"Circle\"},\"selection_glyph\":null,\"view\":{\"id\":\"1db38d94-cf38-4ec4-adf0-400901fa01f0\",\"type\":\"CDSView\"}},\"id\":\"26793cf1-f0bb-47fd-981a-2970e48eb0b5\",\"type\":\"GlyphRenderer\"},{\"attributes\":{},\"id\":\"7a64db9f-b108-4db9-a2a1-c8baa9a78b27\",\"type\":\"Selection\"},{\"attributes\":{\"line_alpha\":0.1,\"line_color\":\"#1f77b4\",\"line_width\":1.5,\"x\":{\"field\":\"x\"},\"y\":{\"field\":\"y\"}},\"id\":\"da133c6e-f741-4e23-8185-69d42fdbbf96\",\"type\":\"Line\"},{\"attributes\":{\"num_minor_ticks\":10},\"id\":\"c09815b0-a432-4cc4-b6f7-fe482d353bce\",\"type\":\"LogTicker\"},{\"attributes\":{\"dimension\":1,\"plot\":{\"id\":\"603dc95c-6a82-476a-ad46-f4c26177a269\",\"subtype\":\"Figure\",\"type\":\"Plot\"},\"ticker\":{\"id\":\"0b8d58a4-0a79-49d0-a407-d91dc5c8574d\",\"type\":\"BasicTicker\"}},\"id\":\"9699f2ee-3278-4d5f-8afb-f738bf94042a\",\"type\":\"Grid\"},{\"attributes\":{\"plot\":null,\"text\":\"\"},\"id\":\"6290524a-9d95-4a8e-9220-d26d18c65a8a\",\"type\":\"Title\"},{\"attributes\":{\"tools\":[{\"id\":\"8a2c4b5f-7125-4791-87d7-eba3776e2691\",\"type\":\"PanTool\"},{\"id\":\"2c92bb5e-9bf0-4947-814f-99603194ec8d\",\"type\":\"WheelZoomTool\"},{\"id\":\"2a88f44e-b0f9-4407-b728-4698a72c32bf\",\"type\":\"BoxZoomTool\"},{\"id\":\"17894ff5-66b7-477e-8000-4aa827d82227\",\"type\":\"SaveTool\"},{\"id\":\"8b270ccc-4984-4c1c-a95c-dfe5d93fdf0a\",\"type\":\"ResetTool\"},{\"id\":\"e51823f5-a2f4-4ffe-a69f-c5f639b36626\",\"type\":\"HelpTool\"},{\"id\":\"3de80dbd-6906-47f0-a25e-9556a22974ef\",\"type\":\"PanTool\"},{\"id\":\"d0a9c485-1311-4cf7-9004-5dfa325385fd\",\"type\":\"WheelZoomTool\"},{\"id\":\"3c94b36d-3895-4132-af70-3b38eb1c5892\",\"type\":\"BoxZoomTool\"},{\"id\":\"440c2df7-e6e1-427d-b26c-54576f6c9960\",\"type\":\"SaveTool\"},{\"id\":\"c3520464-ec1f-4f51-a4ad-d158e1d751fc\",\"type\":\"ResetTool\"},{\"id\":\"7323d9e3-068e-4515-b136-83f7cba3fb13\",\"type\":\"HelpTool\"},{\"id\":\"0d0f2c22-bcda-4609-a4b1-a9990264ad2c\",\"type\":\"PanTool\"},{\"id\":\"3c35f54e-989c-4364-ad56-5ab2a1cf18ce\",\"type\":\"WheelZoomTool\"},{\"id\":\"ce031ff1-c352-4719-868f-233df14f4d25\",\"type\":\"BoxZoomTool\"},{\"id\":\"b49d581d-b9f4-48e3-8a7f-409070eb518d\",\"type\":\"SaveTool\"},{\"id\":\"2aba3442-d2c4-46a2-af52-08375a46f559\",\"type\":\"ResetTool\"},{\"id\":\"e624c38e-9b23-4529-91d8-ee878a48c17e\",\"type\":\"HelpTool\"}]},\"id\":\"4f91fb04-edbd-43bf-ba67-729abeb98a95\",\"type\":\"ProxyToolbar\"},{\"attributes\":{\"label\":{\"value\":\"CLIRAD (single-run) - CRD\"},\"renderers\":[{\"id\":\"26793cf1-f0bb-47fd-981a-2970e48eb0b5\",\"type\":\"GlyphRenderer\"},{\"id\":\"52bb5af3-12a0-4560-a484-dbeab46e7429\",\"type\":\"GlyphRenderer\"}]},\"id\":\"e2e0fdea-a422-49e6-9f1f-f08758fd5133\",\"type\":\"LegendItem\"},{\"attributes\":{},\"id\":\"7d5ac71c-853a-4b91-9742-e0901d3ee18e\",\"type\":\"BasicTickFormatter\"},{\"attributes\":{},\"id\":\"c3520464-ec1f-4f51-a4ad-d158e1d751fc\",\"type\":\"ResetTool\"},{\"attributes\":{\"callback\":null,\"data\":{\"x\":{\"__ndarray__\":\"EFTPEMULEsBY5Soo7NcRwOAih0PfTQnAcLzxlkslFUAgkIluU6TzP+gpDdzLdwVAICHKUKVt1T+Ik7s3hMbwP6AHr9TDy9y/ECnbDOK15j+w2qv7vfbXvzCQ/22EH9Y/ABwN6PuE1b8w8RgTZ5TNP8ZxqdeCOdI/WPaTJPMAyz/gCWaNx9zKv4Bz2SfMkLG/QNDU2Dvrw7/gjDvG8ELPv3BfAcZ9A9W/QPE2M06U4r+4EtXbvdv4v8CHA9UM1vO/wNkC+csj1L9A31CHx4DGv4BAVcDWEKk/AJyjBEwOpL8A2K0iJHelvwAHMEdHKYW/QAFQrblkpT+AYHxUdJWePwCcnL/AFYO/AIDdMF2+IL9AoMQ3Xs6Hv8CEJWa/IIk/SHjx3bH7mD9glt/hXwibv4AXhtbv81c/0ZPByHVmuD+ZIBKsyEuxPwB7VdwaDKi/AMK2wPlcpL+A1M+Jt0OhvwBblecIUqS/AOzlE2F5m79AcNDuEvKUv8BO6MRU/Ja/ALSuiFPKhL8ASGwETKOKvwCIZggV2Yi/AB5fgpVndD+A7LY9mXWhv8C4xgD0L5O/ALuUgd63fD8AAPReZ8gCPwB4gQY0fE+/gN8kEc8Okj9ggdWOaw6mPwButB7pzIA/QJoEKHMXlz9A3ZOmSfmuP0CC+mOR17o/8L5CjVu4sD8gd3D5DeiqP4BAGGl6MbI/oBQpEQTvtT+AoHD36662PwCQysucWWu/gOgg5EKCgD+gmD6me76hPwAZquxAgK4/MDP40Wo1tD/gyKr9n0C3P9Ci4ei4h7S/\",\"dtype\":\"float64\",\"shape\":[75]},\"y\":{\"__ndarray__\":\"GhExyth1ND/Sv8nbtpRIP2vylNV0PVE/aTum7souWD/At0SJ8fVgPw3Iuahxymc/MSNhhJWvcD/bTfBN02d3P2zb5nxnaoA/CD5h5MAGhz8NmeH1TyaQP+zrCsc9p5Y/LbKd76fGnz/bLW5ISEmmPww9YvTcQq8/JV2OstnstT8Er5Y7M8G+P0c+r3jqkcU/5h99k6ZBzj88bCIzFzjVP4enV8oyxN0//yH99nXg5D8qOpLLf0jtP5kqGJXUifQ/c9cS8kHP/D+/DpwzojQEQIEmwoanVwxA4lgXt9HgE0BSSZ2AJuIbQAMJih9jjiNA5q4l5INuK0AwTKYKRj0zQNv5fmq8/DpAaCJseHrtQkB/+zpwzoxKQM3MzMzMeFJAZmZmZmZqWEAAAAAAAFxeQM3MzMzMJmJAmpmZmZkfZUBmZmZmZhhoQDMzMzMzEWtAAAAAAAAKbkBmZmZmZoFwQM3MzMzM/XFAMzMzMzN6c0CamZmZmfZ0QAAAAAAAc3ZAZmZmZmbvd0DNzMzMzGt5QDMzMzMz6HpAmpmZmZlkfEAAAAAAAOF9QGZmZmZmXX9AZmZmZuZsgECamZmZGSuBQM3MzMxM6YFAAAAAAICngkAzMzMzs2WDQGZmZmbmI4RAmpmZmRnihEDNzMzMTKCFQAAAAACAXoZAMzMzM7Mch0BmZmZm5tqHQJqZmZkZmYhAzczMzExXiUAAAAAAgBWKQDMzMzOz04pAZmZmZuaRi0CamZmZGVCMQM3MzMxMDo1AAAAAAIDMjUAzMzMzs4qOQGZmZmbmSI9A\",\"dtype\":\"float64\",\"shape\":[75]}},\"selected\":{\"id\":\"d403052b-ca7a-412b-ba59-7778965f595f\",\"type\":\"Selection\"},\"selection_policy\":{\"id\":\"74b61488-2544-4f2a-81ff-9a3f1fe35411\",\"type\":\"UnionRenderers\"}},\"id\":\"4f15a893-cf4d-463f-b058-1a40ea00b7bd\",\"type\":\"ColumnDataSource\"},{\"attributes\":{},\"id\":\"8a2c4b5f-7125-4791-87d7-eba3776e2691\",\"type\":\"PanTool\"},{\"attributes\":{\"axis_label\":\"pressure [mb]\",\"formatter\":{\"id\":\"73361ae7-d42f-4ac0-9882-21ba567c29af\",\"type\":\"BasicTickFormatter\"},\"plot\":{\"id\":\"603dc95c-6a82-476a-ad46-f4c26177a269\",\"subtype\":\"Figure\",\"type\":\"Plot\"},\"ticker\":{\"id\":\"0b8d58a4-0a79-49d0-a407-d91dc5c8574d\",\"type\":\"BasicTicker\"}},\"id\":\"9932d210-0a83-485d-ba74-e4b4dadd51ec\",\"type\":\"LinearAxis\"},{\"attributes\":{\"data_source\":{\"id\":\"f256eab5-9801-48e8-a79a-de6bb873bc06\",\"type\":\"ColumnDataSource\"},\"glyph\":{\"id\":\"f0d1b250-5df7-47e6-bad6-222d5455bda9\",\"type\":\"Line\"},\"hover_glyph\":null,\"muted_glyph\":null,\"nonselection_glyph\":{\"id\":\"da133c6e-f741-4e23-8185-69d42fdbbf96\",\"type\":\"Line\"},\"selection_glyph\":null,\"view\":{\"id\":\"bdf091bd-7902-406d-b6b1-4c1fb3d96159\",\"type\":\"CDSView\"}},\"id\":\"52bb5af3-12a0-4560-a484-dbeab46e7429\",\"type\":\"GlyphRenderer\"},{\"attributes\":{\"fill_alpha\":{\"value\":0.7},\"fill_color\":{\"value\":\"#4daf4a\"},\"line_alpha\":{\"value\":0.7},\"line_color\":{\"value\":\"#4daf4a\"},\"x\":{\"field\":\"x\"},\"y\":{\"field\":\"y\"}},\"id\":\"70ae344b-f441-45d4-9cc8-bb35df7246c3\",\"type\":\"Circle\"},{\"attributes\":{\"axis_label\":\"pressure [mb]\",\"formatter\":{\"id\":\"39400168-cd6f-43aa-9636-44f7f8f8bd41\",\"type\":\"LogTickFormatter\"},\"plot\":{\"id\":\"d700374a-409b-4a71-a50b-6d968778e7f2\",\"subtype\":\"Figure\",\"type\":\"Plot\"},\"ticker\":{\"id\":\"c09815b0-a432-4cc4-b6f7-fe482d353bce\",\"type\":\"LogTicker\"}},\"id\":\"134abb73-3ccf-44eb-96d7-623759048b71\",\"type\":\"LogAxis\"},{\"attributes\":{\"source\":{\"id\":\"4f15a893-cf4d-463f-b058-1a40ea00b7bd\",\"type\":\"ColumnDataSource\"}},\"id\":\"dcad2f3a-5b4f-49d8-9405-403cc57644c7\",\"type\":\"CDSView\"},{\"attributes\":{\"source\":{\"id\":\"2b30e721-e907-46a5-be52-56f5b02f15f0\",\"type\":\"ColumnDataSource\"}},\"id\":\"1db38d94-cf38-4ec4-adf0-400901fa01f0\",\"type\":\"CDSView\"},{\"attributes\":{\"source\":{\"id\":\"f256eab5-9801-48e8-a79a-de6bb873bc06\",\"type\":\"ColumnDataSource\"}},\"id\":\"bdf091bd-7902-406d-b6b1-4c1fb3d96159\",\"type\":\"CDSView\"},{\"attributes\":{\"line_alpha\":0.5,\"line_color\":\"#377eb8\",\"line_dash\":[6],\"line_width\":4,\"x\":{\"field\":\"x\"},\"y\":{\"field\":\"y\"}},\"id\":\"5d7cd10c-dea7-478d-bef1-d348238dd5d6\",\"type\":\"Line\"},{\"attributes\":{\"callback\":null,\"data\":{\"x\":{\"__ndarray__\":\"cm1sTMT3VEDEyvjosEJHQOKI6DjzCUNArgQWV9awPkB9Lm8XG3M4QEz+Qv6iYzNA7eV8HaPLLkCX1QHyTpMoQFBmYSYetiNAUB04GtGpH0AmFyVE5j8ZQJca9QPGqBNALJP+OOHHDEBNxaf7QF8AQKtislomWuw/cW2dcO6A9T/uJJvfPu0EQIaQLTI/JQ1AxGiII+PmEkCJvfVeuCsYQD6ZBhGbHB9AXQw69DTYJEAsubcwKucqQNuT9D5OmipAJyi3szEJJUBlNebh5WkgQDDcPHBr2xlArtlANXuQFEBdJadFHckQQI2Avh0ZsQtAjYiwt1rsBUCL0SDoVBgAQK6C0nEEjvc/CggLSme58T9sXU2orFPnP0v0JYz9Gdg/vT38vxYczD9nBQTe6kHHP1IhkEXJwKo/8OZnhCVAub+xtVgCpmqzP6DUpY6g0+k/PKK3T1h4+D8RTDjQc1EAQG/dAQs7TwJAQt2eHpPLAEBWEh074x//PyCap9ZSGf4/rEzaTySm/T+7aXhHRmr9P688KeqeNP0/ruZ4EemD/D8olrZcn9T7P0+vNc9hW/s/i9VVL+4P+z+0NzC24uz6P8731Kza8vo/xFf4SHzq+z+gYyHpvHb8P68ROkiFevw/BAjYdCga/D8AUp8VbW77P3JrF/nKmvo/qCQeGfq++T/dplwHJfn4P2G4p+Uva/g/OzZ0RqMZ+D8dmn/iar73P/OuA7Ka8PY/gaaeQHGn9T9hkyjAH1L0P3aZGhdAU/M/n8VP/g7P8j+90HxHNvfyPwhNBtgrqvk/\",\"dtype\":\"float64\",\"shape\":[75]},\"y\":{\"__ndarray__\":\"GhExyth1ND/Sv8nbtpRIP2vylNV0PVE/aTum7souWD/At0SJ8fVgPw3Iuahxymc/MSNhhJWvcD/bTfBN02d3P2zb5nxnaoA/CD5h5MAGhz8NmeH1TyaQP+zrCsc9p5Y/LbKd76fGnz/bLW5ISEmmPww9YvTcQq8/JV2OstnstT8Er5Y7M8G+P0c+r3jqkcU/5h99k6ZBzj88bCIzFzjVP4enV8oyxN0//yH99nXg5D8qOpLLf0jtP5kqGJXUifQ/c9cS8kHP/D+/DpwzojQEQIEmwoanVwxA4lgXt9HgE0BSSZ2AJuIbQAMJih9jjiNA5q4l5INuK0AwTKYKRj0zQNv5fmq8/DpAaCJseHrtQkB/+zpwzoxKQM3MzMzMeFJAZmZmZmZqWEAAAAAAAFxeQM3MzMzMJmJAmpmZmZkfZUBmZmZmZhhoQDMzMzMzEWtAAAAAAAAKbkBmZmZmZoFwQM3MzMzM/XFAMzMzMzN6c0CamZmZmfZ0QAAAAAAAc3ZAZmZmZmbvd0DNzMzMzGt5QDMzMzMz6HpAmpmZmZlkfEAAAAAAAOF9QGZmZmZmXX9AZmZmZuZsgECamZmZGSuBQM3MzMxM6YFAAAAAAICngkAzMzMzs2WDQGZmZmbmI4RAmpmZmRnihEDNzMzMTKCFQAAAAACAXoZAMzMzM7Mch0BmZmZm5tqHQJqZmZkZmYhAzczMzExXiUAAAAAAgBWKQDMzMzOz04pAZmZmZuaRi0CamZmZGVCMQM3MzMxMDo1AAAAAAIDMjUAzMzMzs4qOQGZmZmbmSI9A\",\"dtype\":\"float64\",\"shape\":[75]}},\"selected\":{\"id\":\"7626c779-c239-404e-938e-f2fdde9e3b74\",\"type\":\"Selection\"},\"selection_policy\":{\"id\":\"d9b29fec-3ebd-4226-9dee-18c2f7c1f727\",\"type\":\"UnionRenderers\"}},\"id\":\"4a460162-6ce7-4017-9316-eafa7397ca5f\",\"type\":\"ColumnDataSource\"},{\"attributes\":{\"label\":{\"value\":\"old CLIRAD (H2012) - CRD\"},\"renderers\":[{\"id\":\"cebbfb0f-c77f-4495-85fe-0ec8678423ab\",\"type\":\"GlyphRenderer\"}]},\"id\":\"8a9d8f8f-bdd6-44e2-8fba-300d4af41c39\",\"type\":\"LegendItem\"}],\"root_ids\":[\"af3f28e3-ae2f-41aa-99c2-c07d7447e047\"]},\"title\":\"Bokeh Application\",\"version\":\"0.12.16\"}};\n",
       "  var render_items = [{\"docid\":\"810cc16d-d7e7-473f-8ffa-cb4c6ef148f0\",\"elementid\":\"8269defa-d16e-40bf-b45f-4d5312ab3f9d\",\"modelid\":\"af3f28e3-ae2f-41aa-99c2-c07d7447e047\"}];\n",
       "  root.Bokeh.embed.embed_items_notebook(docs_json, render_items);\n",
       "\n",
       "  }\n",
       "  if (root.Bokeh !== undefined) {\n",
       "    embed_document(root);\n",
       "  } else {\n",
       "    var attempts = 0;\n",
       "    var timer = setInterval(function(root) {\n",
       "      if (root.Bokeh !== undefined) {\n",
       "        embed_document(root);\n",
       "        clearInterval(timer);\n",
       "      }\n",
       "      attempts++;\n",
       "      if (attempts > 100) {\n",
       "        console.log(\"Bokeh: ERROR: Unable to run BokehJS code because BokehJS library is missing\")\n",
       "        clearInterval(timer);\n",
       "      }\n",
       "    }, 10, root)\n",
       "  }\n",
       "})(window);"
      ],
      "application/vnd.bokehjs_exec.v0+json": ""
     },
     "metadata": {
      "application/vnd.bokehjs_exec.v0+json": {
       "id": "af3f28e3-ae2f-41aa-99c2-c07d7447e047"
      }
     },
     "output_type": "display_data"
    },
    {
     "data": {
      "text/markdown": [
       "*FIGURE.* Cooling rates & difference."
      ],
      "text/plain": [
       "<IPython.core.display.Markdown object>"
      ]
     },
     "metadata": {},
     "output_type": "display_data"
    },
    {
     "data": {
      "text/html": [
       "<a id=\"Fluxes._mls.\"></a>"
      ],
      "text/plain": [
       "<IPython.core.display.HTML object>"
      ]
     },
     "metadata": {},
     "output_type": "display_data"
    },
    {
     "data": {
      "text/markdown": [
       "# Fluxes. mls."
      ],
      "text/plain": [
       "<IPython.core.display.Markdown object>"
      ]
     },
     "metadata": {},
     "output_type": "display_data"
    },
    {
     "data": {
      "text/html": [
       "\n",
       "<div class=\"bk-root\">\n",
       "    <div class=\"bk-plotdiv\" id=\"6f5e5dc6-dd8e-40c9-9665-61acac4c6a78\"></div>\n",
       "</div>"
      ]
     },
     "metadata": {},
     "output_type": "display_data"
    },
    {
     "data": {
      "application/javascript": [
       "(function(root) {\n",
       "  function embed_document(root) {\n",
       "    \n",
       "  var docs_json = {\"2e12e77c-bde0-40ad-a41c-6ff1b1b4a0ef\":{\"roots\":{\"references\":[{\"attributes\":{\"bottom_units\":\"screen\",\"fill_alpha\":{\"value\":0.5},\"fill_color\":{\"value\":\"lightgrey\"},\"left_units\":\"screen\",\"level\":\"overlay\",\"line_alpha\":{\"value\":1.0},\"line_color\":{\"value\":\"black\"},\"line_dash\":[4,4],\"line_width\":{\"value\":2},\"plot\":null,\"render_mode\":\"css\",\"right_units\":\"screen\",\"top_units\":\"screen\"},\"id\":\"70757e9c-d28e-48b9-8030-5c3d59085ef7\",\"type\":\"BoxAnnotation\"},{\"attributes\":{\"callback\":null,\"factors\":[\"1\",\"2\",\"3\",\"4\",\"5\",\"6\",\"7\",\"8\",\"9\",\"10\",\"11\"]},\"id\":\"389c10d8-f296-46d4-8b4d-1e07509eac3d\",\"type\":\"FactorRange\"},{\"attributes\":{\"plot\":{\"id\":\"b6596fe7-251e-477f-a087-d6d8db7b1e87\",\"subtype\":\"Figure\",\"type\":\"Plot\"},\"ticker\":{\"id\":\"0fea6dbf-d7f6-44b0-a9f7-1dd6bd19cac0\",\"type\":\"CategoricalTicker\"}},\"id\":\"ad4b259a-bc69-4b37-ba05-4d357f370ea6\",\"type\":\"Grid\"},{\"attributes\":{\"fill_alpha\":{\"value\":0.1},\"fill_color\":{\"value\":\"#1f77b4\"},\"line_alpha\":{\"value\":0.1},\"line_color\":{\"value\":\"#1f77b4\"},\"top\":{\"field\":\"flux\"},\"width\":{\"value\":0.9},\"x\":{\"field\":\"band\"}},\"id\":\"c0c6c257-e8d1-494d-9bbf-3ad797554dcc\",\"type\":\"VBar\"},{\"attributes\":{\"axis_label\":\"flux (W m-2)\",\"formatter\":{\"id\":\"0221c407-757d-468e-96f6-fb3d7b40c01d\",\"type\":\"BasicTickFormatter\"},\"plot\":{\"id\":\"b6596fe7-251e-477f-a087-d6d8db7b1e87\",\"subtype\":\"Figure\",\"type\":\"Plot\"},\"ticker\":{\"id\":\"76cc8a2b-e03e-46fd-8751-bb4ac377635d\",\"type\":\"BasicTicker\"}},\"id\":\"5c169d3a-a6f2-46ff-936d-782bb061cae1\",\"type\":\"LinearAxis\"},{\"attributes\":{\"toolbar\":{\"id\":\"c3f98066-5420-4054-9cd0-965565b1d4cd\",\"type\":\"ProxyToolbar\"},\"toolbar_location\":\"above\"},\"id\":\"93c27e88-5f7c-424e-9a38-b485e02dbde6\",\"type\":\"ToolbarBox\"},{\"attributes\":{},\"id\":\"f4f4949c-d3cf-4822-b6ea-187fdadbd52a\",\"type\":\"LinearScale\"},{\"attributes\":{\"below\":[{\"id\":\"095dbbe6-524f-4deb-9802-8619261994df\",\"type\":\"CategoricalAxis\"}],\"left\":[{\"id\":\"d1805e71-2c64-4c79-9fc8-049de3cf8fa4\",\"type\":\"LinearAxis\"}],\"plot_height\":300,\"plot_width\":300,\"renderers\":[{\"id\":\"095dbbe6-524f-4deb-9802-8619261994df\",\"type\":\"CategoricalAxis\"},{\"id\":\"d0aaf936-233f-4a73-898c-b817b5201f0c\",\"type\":\"Grid\"},{\"id\":\"d1805e71-2c64-4c79-9fc8-049de3cf8fa4\",\"type\":\"LinearAxis\"},{\"id\":\"3313bf89-f2a8-4dbb-b5db-1ac1d5cb18df\",\"type\":\"Grid\"},{\"id\":\"70757e9c-d28e-48b9-8030-5c3d59085ef7\",\"type\":\"BoxAnnotation\"},{\"id\":\"a0430fcb-6ac4-4318-b24e-d0a253f25234\",\"type\":\"GlyphRenderer\"}],\"title\":{\"id\":\"385d41d5-fa2d-41e4-b1af-336ada1f0f8c\",\"type\":\"Title\"},\"toolbar\":{\"id\":\"4375fcb7-d56f-45c6-b8cd-1b8505db4463\",\"type\":\"Toolbar\"},\"toolbar_location\":null,\"x_range\":{\"id\":\"06333162-c74f-4aea-bd42-04ff58faebd0\",\"type\":\"FactorRange\"},\"x_scale\":{\"id\":\"f8795e0d-e90a-4828-a5ad-f888a13c6005\",\"type\":\"CategoricalScale\"},\"y_range\":{\"id\":\"d036be7f-e1f4-490a-881e-a8f456355235\",\"type\":\"DataRange1d\"},\"y_scale\":{\"id\":\"f402c469-0826-4ebe-84d9-6317b766cc0a\",\"type\":\"LinearScale\"}},\"id\":\"cac4c9d1-1a21-4b2c-8a20-8078ede0f2fc\",\"subtype\":\"Figure\",\"type\":\"Plot\"},{\"attributes\":{},\"id\":\"6c2630e1-cb9f-452e-a1ff-91b7e7661a49\",\"type\":\"CategoricalTicker\"},{\"attributes\":{},\"id\":\"f9d3246a-846c-49cf-9b25-5dd1aabdd73c\",\"type\":\"CategoricalTickFormatter\"},{\"attributes\":{},\"id\":\"76cc8a2b-e03e-46fd-8751-bb4ac377635d\",\"type\":\"BasicTicker\"},{\"attributes\":{\"axis_label\":\"spectral band\",\"formatter\":{\"id\":\"2d90c35e-04ea-48a2-ab5f-934f5cbcc1dc\",\"type\":\"CategoricalTickFormatter\"},\"plot\":{\"id\":\"b6596fe7-251e-477f-a087-d6d8db7b1e87\",\"subtype\":\"Figure\",\"type\":\"Plot\"},\"ticker\":{\"id\":\"0fea6dbf-d7f6-44b0-a9f7-1dd6bd19cac0\",\"type\":\"CategoricalTicker\"}},\"id\":\"1279ab12-46da-4867-bb82-bde45a1eda6e\",\"type\":\"CategoricalAxis\"},{\"attributes\":{},\"id\":\"ed9c4768-cf53-431f-8fe6-6e4b3ef1bbab\",\"type\":\"HelpTool\"},{\"attributes\":{\"overlay\":{\"id\":\"a30b0b50-506a-486b-8f2f-0adba3314667\",\"type\":\"BoxAnnotation\"}},\"id\":\"939dd712-c3d4-425d-b6ee-647e1aea86fd\",\"type\":\"BoxZoomTool\"},{\"attributes\":{},\"id\":\"2d90c35e-04ea-48a2-ab5f-934f5cbcc1dc\",\"type\":\"CategoricalTickFormatter\"},{\"attributes\":{},\"id\":\"bb283d1c-fa59-4bd7-99af-fed9b7403aa7\",\"type\":\"UnionRenderers\"},{\"attributes\":{},\"id\":\"78f58490-d0cb-420c-b78f-d221c9b6de33\",\"type\":\"UnionRenderers\"},{\"attributes\":{\"axis_label\":\"flux (W m-2)\",\"formatter\":{\"id\":\"a49a6ea2-2f27-46b1-a3d9-aee99ab64b70\",\"type\":\"BasicTickFormatter\"},\"plot\":{\"id\":\"0233c625-6827-41c5-9321-4cdf410dc25c\",\"subtype\":\"Figure\",\"type\":\"Plot\"},\"ticker\":{\"id\":\"c3564ba2-2288-4607-93d9-1ec17b480679\",\"type\":\"BasicTicker\"}},\"id\":\"a8185f80-a80a-4702-9ad5-5df979f58f99\",\"type\":\"LinearAxis\"},{\"attributes\":{\"axis_label\":\"spectral band\",\"formatter\":{\"id\":\"aa355e5a-cb9a-4923-a291-d1f5d2b18783\",\"type\":\"CategoricalTickFormatter\"},\"plot\":{\"id\":\"0233c625-6827-41c5-9321-4cdf410dc25c\",\"subtype\":\"Figure\",\"type\":\"Plot\"},\"ticker\":{\"id\":\"6c2630e1-cb9f-452e-a1ff-91b7e7661a49\",\"type\":\"CategoricalTicker\"}},\"id\":\"a5d43a33-846f-4f64-8251-7b4a921987e6\",\"type\":\"CategoricalAxis\"},{\"attributes\":{\"data_source\":{\"id\":\"014bbafa-9ae1-4f0b-a610-e5d94b92ee6d\",\"type\":\"ColumnDataSource\"},\"glyph\":{\"id\":\"4c89902b-ca6b-4e3b-b423-fa2895423ea9\",\"type\":\"VBar\"},\"hover_glyph\":null,\"muted_glyph\":null,\"nonselection_glyph\":{\"id\":\"43680bfe-e076-4d1e-ac8e-baad659516b1\",\"type\":\"VBar\"},\"selection_glyph\":null,\"view\":{\"id\":\"61c66696-b8b3-4050-9ee5-f082d24f8b43\",\"type\":\"CDSView\"}},\"id\":\"a0430fcb-6ac4-4318-b24e-d0a253f25234\",\"type\":\"GlyphRenderer\"},{\"attributes\":{},\"id\":\"16ed6925-cff1-45ad-a1f4-83aa9161dd62\",\"type\":\"HelpTool\"},{\"attributes\":{\"source\":{\"id\":\"014bbafa-9ae1-4f0b-a610-e5d94b92ee6d\",\"type\":\"ColumnDataSource\"}},\"id\":\"61c66696-b8b3-4050-9ee5-f082d24f8b43\",\"type\":\"CDSView\"},{\"attributes\":{},\"id\":\"2e918343-7278-4c7d-9abe-7e61610ffe0f\",\"type\":\"Selection\"},{\"attributes\":{\"callback\":null,\"factors\":[\"1\",\"2\",\"3\",\"4\",\"5\",\"6\",\"7\",\"8\",\"9\",\"10\",\"11\"]},\"id\":\"85c9409a-2a53-4c08-a5fe-615084e8139e\",\"type\":\"FactorRange\"},{\"attributes\":{\"active_drag\":\"auto\",\"active_inspect\":\"auto\",\"active_scroll\":\"auto\",\"active_tap\":\"auto\",\"tools\":[{\"id\":\"d04c8c77-993e-48c5-a8e6-c4e5b94c8f21\",\"type\":\"PanTool\"},{\"id\":\"747df8c8-fc41-4479-8727-dedccff4fa87\",\"type\":\"WheelZoomTool\"},{\"id\":\"939dd712-c3d4-425d-b6ee-647e1aea86fd\",\"type\":\"BoxZoomTool\"},{\"id\":\"b32b787f-4fd2-4ecb-96f8-949d424f13b7\",\"type\":\"SaveTool\"},{\"id\":\"324d3661-1267-425e-a589-d26058c73190\",\"type\":\"ResetTool\"},{\"id\":\"ed9c4768-cf53-431f-8fe6-6e4b3ef1bbab\",\"type\":\"HelpTool\"}]},\"id\":\"41a0f73b-795a-4ade-b782-59683fee60b7\",\"type\":\"Toolbar\"},{\"attributes\":{},\"id\":\"c3564ba2-2288-4607-93d9-1ec17b480679\",\"type\":\"BasicTicker\"},{\"attributes\":{},\"id\":\"b32b787f-4fd2-4ecb-96f8-949d424f13b7\",\"type\":\"SaveTool\"},{\"attributes\":{\"tools\":[{\"id\":\"f87a6e36-1113-418f-8f30-93662dd96279\",\"type\":\"PanTool\"},{\"id\":\"bcbf22d7-debb-4745-927f-fbc36dab113a\",\"type\":\"WheelZoomTool\"},{\"id\":\"2e3e4249-43ce-4513-a554-ed05f5018523\",\"type\":\"BoxZoomTool\"},{\"id\":\"adf82cef-f650-4641-92d5-8964e3a12063\",\"type\":\"SaveTool\"},{\"id\":\"6b4a99f1-2369-4fa4-84a4-182d930a8140\",\"type\":\"ResetTool\"},{\"id\":\"76d74b26-04cb-4f10-8ee5-f021c9469f50\",\"type\":\"HelpTool\"},{\"id\":\"4101a2a6-5044-4787-8b69-c62f8744035f\",\"type\":\"PanTool\"},{\"id\":\"dcd65222-6629-45cf-bd8a-6dd7d8d774a9\",\"type\":\"WheelZoomTool\"},{\"id\":\"8d5aa7cc-a10c-4411-8e73-eaea37f3dc9f\",\"type\":\"BoxZoomTool\"},{\"id\":\"788f00ea-029a-447b-b134-10c18aaa85b7\",\"type\":\"SaveTool\"},{\"id\":\"0c56f4c7-3cab-43d8-b31e-c7be03bcc0fd\",\"type\":\"ResetTool\"},{\"id\":\"16ed6925-cff1-45ad-a1f4-83aa9161dd62\",\"type\":\"HelpTool\"},{\"id\":\"d04c8c77-993e-48c5-a8e6-c4e5b94c8f21\",\"type\":\"PanTool\"},{\"id\":\"747df8c8-fc41-4479-8727-dedccff4fa87\",\"type\":\"WheelZoomTool\"},{\"id\":\"939dd712-c3d4-425d-b6ee-647e1aea86fd\",\"type\":\"BoxZoomTool\"},{\"id\":\"b32b787f-4fd2-4ecb-96f8-949d424f13b7\",\"type\":\"SaveTool\"},{\"id\":\"324d3661-1267-425e-a589-d26058c73190\",\"type\":\"ResetTool\"},{\"id\":\"ed9c4768-cf53-431f-8fe6-6e4b3ef1bbab\",\"type\":\"HelpTool\"}]},\"id\":\"c3f98066-5420-4054-9cd0-965565b1d4cd\",\"type\":\"ProxyToolbar\"},{\"attributes\":{},\"id\":\"32d551fa-f587-4162-a3ce-9e8bcf0df655\",\"type\":\"CategoricalScale\"},{\"attributes\":{\"children\":[{\"id\":\"0233c625-6827-41c5-9321-4cdf410dc25c\",\"subtype\":\"Figure\",\"type\":\"Plot\"},{\"id\":\"cac4c9d1-1a21-4b2c-8a20-8078ede0f2fc\",\"subtype\":\"Figure\",\"type\":\"Plot\"},{\"id\":\"b6596fe7-251e-477f-a087-d6d8db7b1e87\",\"subtype\":\"Figure\",\"type\":\"Plot\"}]},\"id\":\"f88f9850-ea0d-4b80-8b49-4cc035dfe0b4\",\"type\":\"Row\"},{\"attributes\":{\"below\":[{\"id\":\"1279ab12-46da-4867-bb82-bde45a1eda6e\",\"type\":\"CategoricalAxis\"}],\"left\":[{\"id\":\"5c169d3a-a6f2-46ff-936d-782bb061cae1\",\"type\":\"LinearAxis\"}],\"plot_height\":300,\"plot_width\":300,\"renderers\":[{\"id\":\"1279ab12-46da-4867-bb82-bde45a1eda6e\",\"type\":\"CategoricalAxis\"},{\"id\":\"ad4b259a-bc69-4b37-ba05-4d357f370ea6\",\"type\":\"Grid\"},{\"id\":\"5c169d3a-a6f2-46ff-936d-782bb061cae1\",\"type\":\"LinearAxis\"},{\"id\":\"ea49fcda-fefd-4307-9a00-852e36d721f5\",\"type\":\"Grid\"},{\"id\":\"a30b0b50-506a-486b-8f2f-0adba3314667\",\"type\":\"BoxAnnotation\"},{\"id\":\"1daa444b-5448-4613-b33b-65d0207e770f\",\"type\":\"GlyphRenderer\"}],\"title\":{\"id\":\"c5550215-27b7-403f-92b3-33af4367cd1c\",\"type\":\"Title\"},\"toolbar\":{\"id\":\"41a0f73b-795a-4ade-b782-59683fee60b7\",\"type\":\"Toolbar\"},\"toolbar_location\":null,\"x_range\":{\"id\":\"389c10d8-f296-46d4-8b4d-1e07509eac3d\",\"type\":\"FactorRange\"},\"x_scale\":{\"id\":\"dfc7b09b-f5c0-4aa4-9457-8d276ab12753\",\"type\":\"CategoricalScale\"},\"y_range\":{\"id\":\"4e57a138-8240-44a2-8cd0-4a2e8f476abf\",\"type\":\"DataRange1d\"},\"y_scale\":{\"id\":\"94b254d1-4574-4dc7-82cf-40d0b071596c\",\"type\":\"LinearScale\"}},\"id\":\"b6596fe7-251e-477f-a087-d6d8db7b1e87\",\"subtype\":\"Figure\",\"type\":\"Plot\"},{\"attributes\":{\"below\":[{\"id\":\"a5d43a33-846f-4f64-8251-7b4a921987e6\",\"type\":\"CategoricalAxis\"}],\"left\":[{\"id\":\"a8185f80-a80a-4702-9ad5-5df979f58f99\",\"type\":\"LinearAxis\"}],\"plot_height\":300,\"plot_width\":300,\"renderers\":[{\"id\":\"a5d43a33-846f-4f64-8251-7b4a921987e6\",\"type\":\"CategoricalAxis\"},{\"id\":\"b2ba10d1-6957-4e0f-a02a-584cc6d28c7f\",\"type\":\"Grid\"},{\"id\":\"a8185f80-a80a-4702-9ad5-5df979f58f99\",\"type\":\"LinearAxis\"},{\"id\":\"630f3fda-4ea8-4238-88f2-e3403bb50fb8\",\"type\":\"Grid\"},{\"id\":\"a31d12ca-6700-4fd4-9f3b-9f411a8773c6\",\"type\":\"BoxAnnotation\"},{\"id\":\"86d385df-30fc-4134-8704-ccada00c139d\",\"type\":\"GlyphRenderer\"}],\"title\":{\"id\":\"66fc8328-379c-420b-9265-7078ecb22c65\",\"type\":\"Title\"},\"toolbar\":{\"id\":\"70f5469a-c2e1-4141-82a0-8c403a98a4c1\",\"type\":\"Toolbar\"},\"toolbar_location\":null,\"x_range\":{\"id\":\"85c9409a-2a53-4c08-a5fe-615084e8139e\",\"type\":\"FactorRange\"},\"x_scale\":{\"id\":\"32d551fa-f587-4162-a3ce-9e8bcf0df655\",\"type\":\"CategoricalScale\"},\"y_range\":{\"id\":\"14b8ecc8-43f4-4479-9585-ea2dbbd02d4b\",\"type\":\"DataRange1d\"},\"y_scale\":{\"id\":\"f4f4949c-d3cf-4822-b6ea-187fdadbd52a\",\"type\":\"LinearScale\"}},\"id\":\"0233c625-6827-41c5-9321-4cdf410dc25c\",\"subtype\":\"Figure\",\"type\":\"Plot\"},{\"attributes\":{},\"id\":\"42eb53c6-3db7-4046-b0e5-1f10a18b5c96\",\"type\":\"UnionRenderers\"},{\"attributes\":{},\"id\":\"dfc7b09b-f5c0-4aa4-9457-8d276ab12753\",\"type\":\"CategoricalScale\"},{\"attributes\":{},\"id\":\"0c56f4c7-3cab-43d8-b31e-c7be03bcc0fd\",\"type\":\"ResetTool\"},{\"attributes\":{\"overlay\":{\"id\":\"70757e9c-d28e-48b9-8030-5c3d59085ef7\",\"type\":\"BoxAnnotation\"}},\"id\":\"8d5aa7cc-a10c-4411-8e73-eaea37f3dc9f\",\"type\":\"BoxZoomTool\"},{\"attributes\":{\"data_source\":{\"id\":\"e80770ab-4afa-49b8-96b4-e33ad139421d\",\"type\":\"ColumnDataSource\"},\"glyph\":{\"id\":\"78a3c876-068a-4158-b4e9-412f471b9d93\",\"type\":\"VBar\"},\"hover_glyph\":null,\"muted_glyph\":null,\"nonselection_glyph\":{\"id\":\"c0c6c257-e8d1-494d-9bbf-3ad797554dcc\",\"type\":\"VBar\"},\"selection_glyph\":null,\"view\":{\"id\":\"b0944c0f-c156-49f2-9491-3b34e7614e2b\",\"type\":\"CDSView\"}},\"id\":\"1daa444b-5448-4613-b33b-65d0207e770f\",\"type\":\"GlyphRenderer\"},{\"attributes\":{\"children\":[{\"id\":\"f88f9850-ea0d-4b80-8b49-4cc035dfe0b4\",\"type\":\"Row\"}]},\"id\":\"ff78e518-9b6e-41ad-852e-f98416746004\",\"type\":\"Column\"},{\"attributes\":{\"source\":{\"id\":\"e80770ab-4afa-49b8-96b4-e33ad139421d\",\"type\":\"ColumnDataSource\"}},\"id\":\"b0944c0f-c156-49f2-9491-3b34e7614e2b\",\"type\":\"CDSView\"},{\"attributes\":{},\"id\":\"f91f26d5-166e-4688-8048-794450367198\",\"type\":\"Selection\"},{\"attributes\":{\"plot\":{\"id\":\"0233c625-6827-41c5-9321-4cdf410dc25c\",\"subtype\":\"Figure\",\"type\":\"Plot\"},\"ticker\":{\"id\":\"6c2630e1-cb9f-452e-a1ff-91b7e7661a49\",\"type\":\"CategoricalTicker\"}},\"id\":\"b2ba10d1-6957-4e0f-a02a-584cc6d28c7f\",\"type\":\"Grid\"},{\"attributes\":{},\"id\":\"a49a6ea2-2f27-46b1-a3d9-aee99ab64b70\",\"type\":\"BasicTickFormatter\"},{\"attributes\":{},\"id\":\"d04c8c77-993e-48c5-a8e6-c4e5b94c8f21\",\"type\":\"PanTool\"},{\"attributes\":{},\"id\":\"788f00ea-029a-447b-b134-10c18aaa85b7\",\"type\":\"SaveTool\"},{\"attributes\":{\"plot\":null,\"text\":\"Atmosphere heating. CLIRAD (single-run) - CRD.\"},\"id\":\"c5550215-27b7-403f-92b3-33af4367cd1c\",\"type\":\"Title\"},{\"attributes\":{\"children\":[{\"id\":\"93c27e88-5f7c-424e-9a38-b485e02dbde6\",\"type\":\"ToolbarBox\"},{\"id\":\"ff78e518-9b6e-41ad-852e-f98416746004\",\"type\":\"Column\"}]},\"id\":\"27e38d07-5160-4f87-b7ba-45a60af2c8de\",\"type\":\"Column\"},{\"attributes\":{},\"id\":\"94b254d1-4574-4dc7-82cf-40d0b071596c\",\"type\":\"LinearScale\"},{\"attributes\":{},\"id\":\"747df8c8-fc41-4479-8727-dedccff4fa87\",\"type\":\"WheelZoomTool\"},{\"attributes\":{},\"id\":\"aa355e5a-cb9a-4923-a291-d1f5d2b18783\",\"type\":\"CategoricalTickFormatter\"},{\"attributes\":{\"fill_color\":{\"value\":\"#1f77b4\"},\"line_color\":{\"value\":\"#1f77b4\"},\"top\":{\"field\":\"flux\"},\"width\":{\"value\":0.9},\"x\":{\"field\":\"band\"}},\"id\":\"78a3c876-068a-4158-b4e9-412f471b9d93\",\"type\":\"VBar\"},{\"attributes\":{\"bottom_units\":\"screen\",\"fill_alpha\":{\"value\":0.5},\"fill_color\":{\"value\":\"lightgrey\"},\"left_units\":\"screen\",\"level\":\"overlay\",\"line_alpha\":{\"value\":1.0},\"line_color\":{\"value\":\"black\"},\"line_dash\":[4,4],\"line_width\":{\"value\":2},\"plot\":null,\"render_mode\":\"css\",\"right_units\":\"screen\",\"top_units\":\"screen\"},\"id\":\"a30b0b50-506a-486b-8f2f-0adba3314667\",\"type\":\"BoxAnnotation\"},{\"attributes\":{\"dimension\":1,\"plot\":{\"id\":\"b6596fe7-251e-477f-a087-d6d8db7b1e87\",\"subtype\":\"Figure\",\"type\":\"Plot\"},\"ticker\":{\"id\":\"76cc8a2b-e03e-46fd-8751-bb4ac377635d\",\"type\":\"BasicTicker\"}},\"id\":\"ea49fcda-fefd-4307-9a00-852e36d721f5\",\"type\":\"Grid\"},{\"attributes\":{},\"id\":\"dcd65222-6629-45cf-bd8a-6dd7d8d774a9\",\"type\":\"WheelZoomTool\"},{\"attributes\":{},\"id\":\"4101a2a6-5044-4787-8b69-c62f8744035f\",\"type\":\"PanTool\"},{\"attributes\":{},\"id\":\"e94b522f-5442-4c4d-8fed-5c1ba172b883\",\"type\":\"Selection\"},{\"attributes\":{},\"id\":\"0fea6dbf-d7f6-44b0-a9f7-1dd6bd19cac0\",\"type\":\"CategoricalTicker\"},{\"attributes\":{},\"id\":\"324d3661-1267-425e-a589-d26058c73190\",\"type\":\"ResetTool\"},{\"attributes\":{\"callback\":null},\"id\":\"14b8ecc8-43f4-4479-9585-ea2dbbd02d4b\",\"type\":\"DataRange1d\"},{\"attributes\":{},\"id\":\"0221c407-757d-468e-96f6-fb3d7b40c01d\",\"type\":\"BasicTickFormatter\"},{\"attributes\":{\"callback\":null},\"id\":\"4e57a138-8240-44a2-8cd0-4a2e8f476abf\",\"type\":\"DataRange1d\"},{\"attributes\":{},\"id\":\"b263c7b8-9186-42cf-9fb3-6739c1a656d0\",\"type\":\"BasicTickFormatter\"},{\"attributes\":{},\"id\":\"f87a6e36-1113-418f-8f30-93662dd96279\",\"type\":\"PanTool\"},{\"attributes\":{},\"id\":\"adf82cef-f650-4641-92d5-8964e3a12063\",\"type\":\"SaveTool\"},{\"attributes\":{\"active_drag\":\"auto\",\"active_inspect\":\"auto\",\"active_scroll\":\"auto\",\"active_tap\":\"auto\",\"tools\":[{\"id\":\"f87a6e36-1113-418f-8f30-93662dd96279\",\"type\":\"PanTool\"},{\"id\":\"bcbf22d7-debb-4745-927f-fbc36dab113a\",\"type\":\"WheelZoomTool\"},{\"id\":\"2e3e4249-43ce-4513-a554-ed05f5018523\",\"type\":\"BoxZoomTool\"},{\"id\":\"adf82cef-f650-4641-92d5-8964e3a12063\",\"type\":\"SaveTool\"},{\"id\":\"6b4a99f1-2369-4fa4-84a4-182d930a8140\",\"type\":\"ResetTool\"},{\"id\":\"76d74b26-04cb-4f10-8ee5-f021c9469f50\",\"type\":\"HelpTool\"}]},\"id\":\"70f5469a-c2e1-4141-82a0-8c403a98a4c1\",\"type\":\"Toolbar\"},{\"attributes\":{\"callback\":null,\"data\":{\"band\":[\"1\",\"2\",\"3\",\"4\",\"5\",\"6\",\"7\",\"8\",\"9\",\"10\",\"11\"],\"flux\":{\"__ndarray__\":\"AEILCRhdyD+AzEHQ0arSP0DMe5xpwtO/gGStodRe0z/ASgaAKm7QPwBwl/2607G/QKz+CMOA2D8ASdv4E5W5vwC2wvS9hpC/YNQ5UPHJwD9AvtXft8awPw==\",\"dtype\":\"float64\",\"shape\":[11]}},\"selected\":{\"id\":\"e94b522f-5442-4c4d-8fed-5c1ba172b883\",\"type\":\"Selection\"},\"selection_policy\":{\"id\":\"78f58490-d0cb-420c-b78f-d221c9b6de33\",\"type\":\"UnionRenderers\"}},\"id\":\"e006c95c-215b-48f7-8420-7fa7054f0d18\",\"type\":\"ColumnDataSource\"},{\"attributes\":{\"callback\":null,\"data\":{\"band\":[\"1\",\"2\",\"3\",\"4\",\"5\",\"6\",\"7\",\"8\",\"9\",\"10\",\"11\"],\"flux\":{\"__ndarray__\":\"AAAAAyUF9r4AgsR29wDYPwC4H/DAANO/ANyul6YIsD+Ajh6/t+nfPwB0ImabwLM/ALE8WXvplz9gN3gVCPHBv4A0KnCyDcY/AKBF71TAjT8AcGzRXW2APw==\",\"dtype\":\"float64\",\"shape\":[11]}},\"selected\":{\"id\":\"2e918343-7278-4c7d-9abe-7e61610ffe0f\",\"type\":\"Selection\"},\"selection_policy\":{\"id\":\"bb283d1c-fa59-4bd7-99af-fed9b7403aa7\",\"type\":\"UnionRenderers\"}},\"id\":\"014bbafa-9ae1-4f0b-a610-e5d94b92ee6d\",\"type\":\"ColumnDataSource\"},{\"attributes\":{\"bottom_units\":\"screen\",\"fill_alpha\":{\"value\":0.5},\"fill_color\":{\"value\":\"lightgrey\"},\"left_units\":\"screen\",\"level\":\"overlay\",\"line_alpha\":{\"value\":1.0},\"line_color\":{\"value\":\"black\"},\"line_dash\":[4,4],\"line_width\":{\"value\":2},\"plot\":null,\"render_mode\":\"css\",\"right_units\":\"screen\",\"top_units\":\"screen\"},\"id\":\"a31d12ca-6700-4fd4-9f3b-9f411a8773c6\",\"type\":\"BoxAnnotation\"},{\"attributes\":{},\"id\":\"f402c469-0826-4ebe-84d9-6317b766cc0a\",\"type\":\"LinearScale\"},{\"attributes\":{\"fill_alpha\":{\"value\":0.1},\"fill_color\":{\"value\":\"#1f77b4\"},\"line_alpha\":{\"value\":0.1},\"line_color\":{\"value\":\"#1f77b4\"},\"top\":{\"field\":\"flux\"},\"width\":{\"value\":0.9},\"x\":{\"field\":\"band\"}},\"id\":\"43680bfe-e076-4d1e-ac8e-baad659516b1\",\"type\":\"VBar\"},{\"attributes\":{\"axis_label\":\"flux (W m-2)\",\"formatter\":{\"id\":\"b263c7b8-9186-42cf-9fb3-6739c1a656d0\",\"type\":\"BasicTickFormatter\"},\"plot\":{\"id\":\"cac4c9d1-1a21-4b2c-8a20-8078ede0f2fc\",\"subtype\":\"Figure\",\"type\":\"Plot\"},\"ticker\":{\"id\":\"3d91b6af-e6aa-41fd-ae4f-e9eaa27eeb2c\",\"type\":\"BasicTicker\"}},\"id\":\"d1805e71-2c64-4c79-9fc8-049de3cf8fa4\",\"type\":\"LinearAxis\"},{\"attributes\":{},\"id\":\"bcbf22d7-debb-4745-927f-fbc36dab113a\",\"type\":\"WheelZoomTool\"},{\"attributes\":{\"callback\":null,\"factors\":[\"1\",\"2\",\"3\",\"4\",\"5\",\"6\",\"7\",\"8\",\"9\",\"10\",\"11\"]},\"id\":\"06333162-c74f-4aea-bd42-04ff58faebd0\",\"type\":\"FactorRange\"},{\"attributes\":{\"axis_label\":\"spectral band\",\"formatter\":{\"id\":\"f9d3246a-846c-49cf-9b25-5dd1aabdd73c\",\"type\":\"CategoricalTickFormatter\"},\"plot\":{\"id\":\"cac4c9d1-1a21-4b2c-8a20-8078ede0f2fc\",\"subtype\":\"Figure\",\"type\":\"Plot\"},\"ticker\":{\"id\":\"0afe19d1-df88-4054-8ef5-00610578997d\",\"type\":\"CategoricalTicker\"}},\"id\":\"095dbbe6-524f-4deb-9802-8619261994df\",\"type\":\"CategoricalAxis\"},{\"attributes\":{\"data_source\":{\"id\":\"e006c95c-215b-48f7-8420-7fa7054f0d18\",\"type\":\"ColumnDataSource\"},\"glyph\":{\"id\":\"1c97e0e9-1b29-4dc1-9e81-f9dc9eb1e438\",\"type\":\"VBar\"},\"hover_glyph\":null,\"muted_glyph\":null,\"nonselection_glyph\":{\"id\":\"a97374af-32b3-4590-9256-90fbc2e12dd7\",\"type\":\"VBar\"},\"selection_glyph\":null,\"view\":{\"id\":\"7dd22db7-623e-4623-be87-08af47254a55\",\"type\":\"CDSView\"}},\"id\":\"86d385df-30fc-4134-8704-ccada00c139d\",\"type\":\"GlyphRenderer\"},{\"attributes\":{\"fill_color\":{\"value\":\"#1f77b4\"},\"line_color\":{\"value\":\"#1f77b4\"},\"top\":{\"field\":\"flux\"},\"width\":{\"value\":0.9},\"x\":{\"field\":\"band\"}},\"id\":\"1c97e0e9-1b29-4dc1-9e81-f9dc9eb1e438\",\"type\":\"VBar\"},{\"attributes\":{},\"id\":\"f8795e0d-e90a-4828-a5ad-f888a13c6005\",\"type\":\"CategoricalScale\"},{\"attributes\":{},\"id\":\"3d91b6af-e6aa-41fd-ae4f-e9eaa27eeb2c\",\"type\":\"BasicTicker\"},{\"attributes\":{\"dimension\":1,\"plot\":{\"id\":\"0233c625-6827-41c5-9321-4cdf410dc25c\",\"subtype\":\"Figure\",\"type\":\"Plot\"},\"ticker\":{\"id\":\"c3564ba2-2288-4607-93d9-1ec17b480679\",\"type\":\"BasicTicker\"}},\"id\":\"630f3fda-4ea8-4238-88f2-e3403bb50fb8\",\"type\":\"Grid\"},{\"attributes\":{},\"id\":\"76d74b26-04cb-4f10-8ee5-f021c9469f50\",\"type\":\"HelpTool\"},{\"attributes\":{},\"id\":\"0afe19d1-df88-4054-8ef5-00610578997d\",\"type\":\"CategoricalTicker\"},{\"attributes\":{\"dimension\":1,\"plot\":{\"id\":\"cac4c9d1-1a21-4b2c-8a20-8078ede0f2fc\",\"subtype\":\"Figure\",\"type\":\"Plot\"},\"ticker\":{\"id\":\"3d91b6af-e6aa-41fd-ae4f-e9eaa27eeb2c\",\"type\":\"BasicTicker\"}},\"id\":\"3313bf89-f2a8-4dbb-b5db-1ac1d5cb18df\",\"type\":\"Grid\"},{\"attributes\":{\"source\":{\"id\":\"e006c95c-215b-48f7-8420-7fa7054f0d18\",\"type\":\"ColumnDataSource\"}},\"id\":\"7dd22db7-623e-4623-be87-08af47254a55\",\"type\":\"CDSView\"},{\"attributes\":{\"overlay\":{\"id\":\"a31d12ca-6700-4fd4-9f3b-9f411a8773c6\",\"type\":\"BoxAnnotation\"}},\"id\":\"2e3e4249-43ce-4513-a554-ed05f5018523\",\"type\":\"BoxZoomTool\"},{\"attributes\":{},\"id\":\"6b4a99f1-2369-4fa4-84a4-182d930a8140\",\"type\":\"ResetTool\"},{\"attributes\":{\"plot\":{\"id\":\"cac4c9d1-1a21-4b2c-8a20-8078ede0f2fc\",\"subtype\":\"Figure\",\"type\":\"Plot\"},\"ticker\":{\"id\":\"0afe19d1-df88-4054-8ef5-00610578997d\",\"type\":\"CategoricalTicker\"}},\"id\":\"d0aaf936-233f-4a73-898c-b817b5201f0c\",\"type\":\"Grid\"},{\"attributes\":{\"active_drag\":\"auto\",\"active_inspect\":\"auto\",\"active_scroll\":\"auto\",\"active_tap\":\"auto\",\"tools\":[{\"id\":\"4101a2a6-5044-4787-8b69-c62f8744035f\",\"type\":\"PanTool\"},{\"id\":\"dcd65222-6629-45cf-bd8a-6dd7d8d774a9\",\"type\":\"WheelZoomTool\"},{\"id\":\"8d5aa7cc-a10c-4411-8e73-eaea37f3dc9f\",\"type\":\"BoxZoomTool\"},{\"id\":\"788f00ea-029a-447b-b134-10c18aaa85b7\",\"type\":\"SaveTool\"},{\"id\":\"0c56f4c7-3cab-43d8-b31e-c7be03bcc0fd\",\"type\":\"ResetTool\"},{\"id\":\"16ed6925-cff1-45ad-a1f4-83aa9161dd62\",\"type\":\"HelpTool\"}]},\"id\":\"4375fcb7-d56f-45c6-b8cd-1b8505db4463\",\"type\":\"Toolbar\"},{\"attributes\":{\"fill_alpha\":{\"value\":0.1},\"fill_color\":{\"value\":\"#1f77b4\"},\"line_alpha\":{\"value\":0.1},\"line_color\":{\"value\":\"#1f77b4\"},\"top\":{\"field\":\"flux\"},\"width\":{\"value\":0.9},\"x\":{\"field\":\"band\"}},\"id\":\"a97374af-32b3-4590-9256-90fbc2e12dd7\",\"type\":\"VBar\"},{\"attributes\":{\"callback\":null,\"data\":{\"band\":[\"1\",\"2\",\"3\",\"4\",\"5\",\"6\",\"7\",\"8\",\"9\",\"10\",\"11\"],\"flux\":{\"__ndarray__\":\"AIMde81dyD8AYEI3wVi1vwBYNyirM4i/ANGnfnO5zj9A+KOoM/fOvwBuLCgMysK/AHAlOzYC1z8A5hw8E5qkP8BJ06BoHsi/QL8FwBXcvT8AZ1U6DnKtPw==\",\"dtype\":\"float64\",\"shape\":[11]}},\"selected\":{\"id\":\"f91f26d5-166e-4688-8048-794450367198\",\"type\":\"Selection\"},\"selection_policy\":{\"id\":\"42eb53c6-3db7-4046-b0e5-1f10a18b5c96\",\"type\":\"UnionRenderers\"}},\"id\":\"e80770ab-4afa-49b8-96b4-e33ad139421d\",\"type\":\"ColumnDataSource\"},{\"attributes\":{\"callback\":null},\"id\":\"d036be7f-e1f4-490a-881e-a8f456355235\",\"type\":\"DataRange1d\"},{\"attributes\":{\"fill_color\":{\"value\":\"#1f77b4\"},\"line_color\":{\"value\":\"#1f77b4\"},\"top\":{\"field\":\"flux\"},\"width\":{\"value\":0.9},\"x\":{\"field\":\"band\"}},\"id\":\"4c89902b-ca6b-4e3b-b423-fa2895423ea9\",\"type\":\"VBar\"},{\"attributes\":{\"plot\":null,\"text\":\"TOA flux. CLIRAD (single-run) - CRD.\"},\"id\":\"66fc8328-379c-420b-9265-7078ecb22c65\",\"type\":\"Title\"},{\"attributes\":{\"plot\":null,\"text\":\"SFC flux. CLIRAD (single-run) - CRD.\"},\"id\":\"385d41d5-fa2d-41e4-b1af-336ada1f0f8c\",\"type\":\"Title\"}],\"root_ids\":[\"27e38d07-5160-4f87-b7ba-45a60af2c8de\"]},\"title\":\"Bokeh Application\",\"version\":\"0.12.16\"}};\n",
       "  var render_items = [{\"docid\":\"2e12e77c-bde0-40ad-a41c-6ff1b1b4a0ef\",\"elementid\":\"6f5e5dc6-dd8e-40c9-9665-61acac4c6a78\",\"modelid\":\"27e38d07-5160-4f87-b7ba-45a60af2c8de\"}];\n",
       "  root.Bokeh.embed.embed_items_notebook(docs_json, render_items);\n",
       "\n",
       "  }\n",
       "  if (root.Bokeh !== undefined) {\n",
       "    embed_document(root);\n",
       "  } else {\n",
       "    var attempts = 0;\n",
       "    var timer = setInterval(function(root) {\n",
       "      if (root.Bokeh !== undefined) {\n",
       "        embed_document(root);\n",
       "        clearInterval(timer);\n",
       "      }\n",
       "      attempts++;\n",
       "      if (attempts > 100) {\n",
       "        console.log(\"Bokeh: ERROR: Unable to run BokehJS code because BokehJS library is missing\")\n",
       "        clearInterval(timer);\n",
       "      }\n",
       "    }, 10, root)\n",
       "  }\n",
       "})(window);"
      ],
      "application/vnd.bokehjs_exec.v0+json": ""
     },
     "metadata": {
      "application/vnd.bokehjs_exec.v0+json": {
       "id": "27e38d07-5160-4f87-b7ba-45a60af2c8de"
      }
     },
     "output_type": "display_data"
    },
    {
     "data": {
      "text/markdown": [
       "*FIGURE.* Difference between CLIRAD and CRD in TOA, SFC and net atmosphere flux, in each spectral band."
      ],
      "text/plain": [
       "<IPython.core.display.Markdown object>"
      ]
     },
     "metadata": {},
     "output_type": "display_data"
    },
    {
     "data": {
      "text/html": [
       "<div>\n",
       "<style scoped>\n",
       "    .dataframe tbody tr th:only-of-type {\n",
       "        vertical-align: middle;\n",
       "    }\n",
       "\n",
       "    .dataframe tbody tr th {\n",
       "        vertical-align: top;\n",
       "    }\n",
       "\n",
       "    .dataframe thead th {\n",
       "        text-align: right;\n",
       "    }\n",
       "</style>\n",
       "<table border=\"1\" class=\"dataframe\">\n",
       "  <thead>\n",
       "    <tr style=\"text-align: right;\">\n",
       "      <th></th>\n",
       "      <th>OLR flux</th>\n",
       "      <th>SFC flux</th>\n",
       "      <th>ATM heating</th>\n",
       "    </tr>\n",
       "    <tr>\n",
       "      <th>Sum over bands</th>\n",
       "      <th></th>\n",
       "      <th></th>\n",
       "      <th></th>\n",
       "    </tr>\n",
       "  </thead>\n",
       "  <tbody>\n",
       "    <tr>\n",
       "      <th>old CLIRAD - CRD</th>\n",
       "      <td>0.14</td>\n",
       "      <td>2.01</td>\n",
       "      <td>-1.73</td>\n",
       "    </tr>\n",
       "    <tr>\n",
       "      <th>CLIRAD (single-run) - CRD</th>\n",
       "      <td>1.13</td>\n",
       "      <td>0.79</td>\n",
       "      <td>0.33</td>\n",
       "    </tr>\n",
       "    <tr>\n",
       "      <th>CRD</th>\n",
       "      <td>-290.39</td>\n",
       "      <td>308.14</td>\n",
       "      <td>-174.89</td>\n",
       "    </tr>\n",
       "  </tbody>\n",
       "</table>\n",
       "</div>"
      ],
      "text/plain": [
       "                           OLR flux  SFC flux  ATM heating\n",
       "Sum over bands                                            \n",
       "old CLIRAD - CRD               0.14      2.01        -1.73\n",
       "CLIRAD (single-run) - CRD      1.13      0.79         0.33\n",
       "CRD                         -290.39    308.14      -174.89"
      ]
     },
     "metadata": {},
     "output_type": "display_data"
    },
    {
     "data": {
      "text/markdown": [
       "*TABLE.* Difference between CLIRAD and CRD in TOA, SFC and net atmosphere flux, over all spectral bands. CRD's TOA, SFC and net atmosphere flux, over all spectral bands."
      ],
      "text/plain": [
       "<IPython.core.display.Markdown object>"
      ]
     },
     "metadata": {},
     "output_type": "display_data"
    },
    {
     "data": {
      "text/html": [
       "<a id=\"Cooling_rates._saw.\"></a>"
      ],
      "text/plain": [
       "<IPython.core.display.HTML object>"
      ]
     },
     "metadata": {},
     "output_type": "display_data"
    },
    {
     "data": {
      "text/markdown": [
       "# Cooling rates. saw."
      ],
      "text/plain": [
       "<IPython.core.display.Markdown object>"
      ]
     },
     "metadata": {},
     "output_type": "display_data"
    },
    {
     "data": {
      "text/html": [
       "\n",
       "<div class=\"bk-root\">\n",
       "    <div class=\"bk-plotdiv\" id=\"c757a191-085c-425f-a3f5-56fa7bd662e1\"></div>\n",
       "</div>"
      ]
     },
     "metadata": {},
     "output_type": "display_data"
    },
    {
     "data": {
      "application/javascript": [
       "(function(root) {\n",
       "  function embed_document(root) {\n",
       "    \n",
       "  var docs_json = {\"a228e4d2-a16c-48b8-a382-7447a98f824a\":{\"roots\":{\"references\":[{\"attributes\":{\"line_alpha\":0.1,\"line_color\":\"#1f77b4\",\"line_width\":1.5,\"x\":{\"field\":\"x\"},\"y\":{\"field\":\"y\"}},\"id\":\"3f136098-4875-43af-b7eb-72323661c6c7\",\"type\":\"Line\"},{\"attributes\":{},\"id\":\"c80cad83-ac25-4951-a2c5-e3268c910f55\",\"type\":\"UnionRenderers\"},{\"attributes\":{\"line_alpha\":0.6,\"line_color\":\"#377eb8\",\"line_dash\":[6],\"line_width\":5,\"x\":{\"field\":\"x\"},\"y\":{\"field\":\"y\"}},\"id\":\"8b7d66ff-1367-4831-a222-d3fe43e5b7cd\",\"type\":\"Line\"},{\"attributes\":{\"plot\":null,\"text\":\"\"},\"id\":\"60f10cc7-0e5e-48a6-9db5-b388b3d87f31\",\"type\":\"Title\"},{\"attributes\":{\"line_alpha\":0.8,\"line_color\":\"#984ea3\",\"line_width\":1.5,\"x\":{\"field\":\"x\"},\"y\":{\"field\":\"y\"}},\"id\":\"b896af65-1ded-4a05-b8d7-48b6f77923b1\",\"type\":\"Line\"},{\"attributes\":{\"line_alpha\":0.1,\"line_color\":\"#1f77b4\",\"line_dash\":[6],\"line_width\":5,\"x\":{\"field\":\"x\"},\"y\":{\"field\":\"y\"}},\"id\":\"316ef5a6-e4fb-4d46-a0b8-a9dee5198996\",\"type\":\"Line\"},{\"attributes\":{\"callback\":null,\"end\":1.5925520929577701,\"start\":0.25278412604523004},\"id\":\"299b4a2a-c2ac-4cd3-b0e4-e0932b38dac3\",\"type\":\"Range1d\"},{\"attributes\":{\"items\":[{\"id\":\"350ec7a0-8689-429b-bd42-4fe65aa5eb9e\",\"type\":\"LegendItem\"},{\"id\":\"af444638-0bc5-4381-9cfb-ec732f761b44\",\"type\":\"LegendItem\"}],\"label_text_font_size\":{\"value\":\"8pt\"},\"location\":\"top_center\",\"orientation\":\"horizontal\",\"plot\":{\"id\":\"edf298db-8620-4d39-aa68-20fe2a3046d0\",\"subtype\":\"Figure\",\"type\":\"Plot\"}},\"id\":\"77c94c42-90a3-4608-91c4-40804f7dbbc3\",\"type\":\"Legend\"},{\"attributes\":{\"callback\":null,\"data\":{\"x\":{\"__ndarray__\":\"LVz7uCfeQ8ChGUaLJfYYwCMb75vopAPAb3fOabke8j9lWIgE9JsLQOXvyvkb2g9APnR7Fi/LBkCmSIIxVTrrPyu2iXaXmu2/L3WfIbFl+r+C9ZYDcxv0v8J+sAdRy9S/UH1/Rkeq4D8IzsLpVObuP4jqcTibAe0/eTvd8oYO2T+OQTCLDt7Qv5ji9BpoXuW/V0+3xBhy5b94Z7G7lXzav/6pSlfL38G/zBgKKJYesj/I1tW4gTDBP4Gg9xnb/bm/6OHFBmFwzb/Jlv56HxKhv/EZB1BwXNE/tDFGwmnx0T+dgz8RYjK8P0oF0SHPn6A/1zw/k0lFxD8Gy+tFFBfNP2i9183Z08A/N3gKDez1dr+ErhDxWg1oP7z6DbGqTLM/FGuCmYk5qD8ZDNtblLmYvzx7mOPoprO/Rm2hQwsHtr9zgNat/qeyv3TBkyPWuay/lNouayB+pb/vTOCOl1uavx4jDSfir5C/H1Be0ivxhb9YuwufkpI/v2KxTpOelHS/zMZedMBUm7+XBGrFTJ+qv1BpC30ogKq/qPfp7IHAor8ApUU9lFmjv/JYEpkYzKq/kHn7d8SRqr/cmaU2k1ylvxjD/zelpZ+/nlGD3JJLmL/E21bacaGTv/6RwjCw64m/2h/zxmcAhL/NgBME6nGBv9orU+u8T4S/oIG6YxpWhr8lZK/mZTWEv+Zn75KUCXq/gNkHHrReOb9kVHMMU5p/P9Y9Y3OW2Is/nkfL3Nfckj+u+BL/t1+WP0aldYMAE5g/U2koibtulz9Klct3jleXPw5pTN3dV5Y/\",\"dtype\":\"float64\",\"shape\":[75]},\"y\":{\"__ndarray__\":\"GhExyth1ND/Sv8nbtpRIP2vylNV0PVE/aTum7souWD/At0SJ8fVgPw3Iuahxymc/MSNhhJWvcD/bTfBN02d3P2zb5nxnaoA/CD5h5MAGhz8NmeH1TyaQP+zrCsc9p5Y/LbKd76fGnz/bLW5ISEmmPww9YvTcQq8/JV2OstnstT8Er5Y7M8G+P0c+r3jqkcU/5h99k6ZBzj88bCIzFzjVP4enV8oyxN0//yH99nXg5D8qOpLLf0jtP5kqGJXUifQ/c9cS8kHP/D+/DpwzojQEQIEmwoanVwxA4lgXt9HgE0BSSZ2AJuIbQAMJih9jjiNA5q4l5INuK0AwTKYKRj0zQNv5fmq8/DpAaCJseHrtQkB/+zpwzoxKQM3MzMzMeFJAZmZmZmZqWEAAAAAAAFxeQM3MzMzMJmJAmpmZmZkfZUBmZmZmZhhoQDMzMzMzEWtAAAAAAAAKbkBmZmZmZoFwQM3MzMzM/XFAMzMzMzN6c0CamZmZmfZ0QAAAAAAAc3ZAZmZmZmbvd0DNzMzMzGt5QDMzMzMz6HpAmpmZmZlkfEAAAAAAAOF9QGZmZmZmXX9AZmZmZuZsgECamZmZGSuBQM3MzMxM6YFAAAAAAICngkAzMzMzs2WDQGZmZmbmI4RAmpmZmRnihEDNzMzMTKCFQAAAAACAXoZAMzMzM7Mch0BmZmZm5tqHQJqZmZkZmYhAzczMzExXiUAAAAAAgBWKQDMzMzOz04pAZmZmZuaRi0CamZmZGVCMQM3MzMxMDo1AAAAAAIDMjUAzMzMzs4qOQGZmZmbmSI9A\",\"dtype\":\"float64\",\"shape\":[75]}},\"selected\":{\"id\":\"e29b53a3-7de2-41b0-86de-d1431dc2275f\",\"type\":\"Selection\"},\"selection_policy\":{\"id\":\"64763dfa-1ff4-47d6-8cac-5386d8c62f65\",\"type\":\"UnionRenderers\"}},\"id\":\"232cea16-969e-4202-ac81-2bdeb52e4b3d\",\"type\":\"ColumnDataSource\"},{\"attributes\":{},\"id\":\"2ba0d908-a7f1-4e17-ac61-fcd8b48111ff\",\"type\":\"Selection\"},{\"attributes\":{\"line_alpha\":0.1,\"line_color\":\"#1f77b4\",\"line_width\":1.5,\"x\":{\"field\":\"x\"},\"y\":{\"field\":\"y\"}},\"id\":\"22762b87-2112-44a9-bdfe-a55300391748\",\"type\":\"Line\"},{\"attributes\":{},\"id\":\"64b04b25-9285-46e8-8c63-74fbfbc87ca1\",\"type\":\"UnionRenderers\"},{\"attributes\":{\"above\":[{\"id\":\"b931a673-b6a4-4a3b-bc44-80b64dd7aa99\",\"type\":\"Legend\"}],\"below\":[{\"id\":\"f833d368-656e-428b-92d6-fcec8e3c0ce6\",\"type\":\"LinearAxis\"}],\"left\":[{\"id\":\"92ec51c9-dd59-40ad-a887-1bfbe3dd9de1\",\"type\":\"LogAxis\"}],\"plot_width\":300,\"renderers\":[{\"id\":\"f833d368-656e-428b-92d6-fcec8e3c0ce6\",\"type\":\"LinearAxis\"},{\"id\":\"812d6d8c-1fc4-4169-98d5-25777dbf43fa\",\"type\":\"Grid\"},{\"id\":\"92ec51c9-dd59-40ad-a887-1bfbe3dd9de1\",\"type\":\"LogAxis\"},{\"id\":\"37722430-85a1-4c25-84e5-d49101d62983\",\"type\":\"Grid\"},{\"id\":\"e2510f7e-8801-4e38-9710-e5969065d41f\",\"type\":\"BoxAnnotation\"},{\"id\":\"960c14d1-9e26-45b4-8e9b-fac731d73b8d\",\"type\":\"GlyphRenderer\"},{\"id\":\"fcf0d456-164a-490a-ba1b-f35a9f82c0e0\",\"type\":\"GlyphRenderer\"},{\"id\":\"a9ad7b4c-2900-4f28-98b0-2bd837b59b82\",\"type\":\"GlyphRenderer\"},{\"id\":\"b931a673-b6a4-4a3b-bc44-80b64dd7aa99\",\"type\":\"Legend\"}],\"title\":{\"id\":\"145b00a2-e24a-45e6-83ef-c0b216ccc674\",\"type\":\"Title\"},\"toolbar\":{\"id\":\"d63b1b5b-12a6-4a78-bdd2-54bb33443584\",\"type\":\"Toolbar\"},\"toolbar_location\":null,\"x_range\":{\"id\":\"c2f42b6c-2a0e-4cb2-862d-42c213745b31\",\"type\":\"Range1d\"},\"x_scale\":{\"id\":\"d94e7bdd-59c9-4180-9350-e8797e52cc67\",\"type\":\"LinearScale\"},\"y_range\":{\"id\":\"6b78036b-b384-4844-b2cb-124bdaf338b9\",\"type\":\"Range1d\"},\"y_scale\":{\"id\":\"72627af2-3eab-4e36-9598-7f08cb5f1e25\",\"type\":\"LogScale\"}},\"id\":\"56ae4e9e-ca12-45d2-995b-30c5919d38b1\",\"subtype\":\"Figure\",\"type\":\"Plot\"},{\"attributes\":{\"source\":{\"id\":\"2d2f93d0-bb87-4a2b-b15f-1ff1de27c1e8\",\"type\":\"ColumnDataSource\"}},\"id\":\"cfccdef3-5ee1-46e3-897a-f6e818b2ff6e\",\"type\":\"CDSView\"},{\"attributes\":{\"data_source\":{\"id\":\"1301fda0-9c87-4bd0-93da-d6d0a1c6d7d7\",\"type\":\"ColumnDataSource\"},\"glyph\":{\"id\":\"275940ec-dad3-4e7e-8f6d-6a28bed33795\",\"type\":\"Circle\"},\"hover_glyph\":null,\"muted_glyph\":null,\"nonselection_glyph\":{\"id\":\"47e10b0c-a640-4cf6-be9e-2f95874e9093\",\"type\":\"Circle\"},\"selection_glyph\":null,\"view\":{\"id\":\"0da3538b-e0eb-45cf-b602-9d70db9a73d5\",\"type\":\"CDSView\"}},\"id\":\"35af93ea-5cae-4811-af6d-78eb07802034\",\"type\":\"GlyphRenderer\"},{\"attributes\":{},\"id\":\"f0e7e2c9-b010-4344-b229-b68c0584af8d\",\"type\":\"WheelZoomTool\"},{\"attributes\":{\"callback\":null,\"end\":16.436989944828248,\"start\":0.29782337493475003},\"id\":\"c2f42b6c-2a0e-4cb2-862d-42c213745b31\",\"type\":\"Range1d\"},{\"attributes\":{\"num_minor_ticks\":10},\"id\":\"a2d00ea7-d982-44be-8bd4-a44375bbfe9b\",\"type\":\"LogTicker\"},{\"attributes\":{\"source\":{\"id\":\"1a906025-e334-4739-b630-9f769c9f5ec0\",\"type\":\"ColumnDataSource\"}},\"id\":\"e666ab30-9768-42f1-9dd6-3f4728f0b270\",\"type\":\"CDSView\"},{\"attributes\":{},\"id\":\"efbf100b-15e0-4d12-8692-e2f2d8bf88d3\",\"type\":\"BasicTicker\"},{\"attributes\":{\"callback\":null,\"end\":0.01,\"start\":1020},\"id\":\"9d22ebf0-c999-4a8d-b1c5-095cc2428d31\",\"type\":\"Range1d\"},{\"attributes\":{\"plot\":{\"id\":\"2381db03-63ea-4a9e-8f49-69c60765f992\",\"subtype\":\"Figure\",\"type\":\"Plot\"},\"ticker\":{\"id\":\"efbf100b-15e0-4d12-8692-e2f2d8bf88d3\",\"type\":\"BasicTicker\"}},\"id\":\"bf9a22df-ba05-4ea6-9494-2004cb68ba69\",\"type\":\"Grid\"},{\"attributes\":{\"dimension\":1,\"plot\":{\"id\":\"2381db03-63ea-4a9e-8f49-69c60765f992\",\"subtype\":\"Figure\",\"type\":\"Plot\"},\"ticker\":{\"id\":\"a2d00ea7-d982-44be-8bd4-a44375bbfe9b\",\"type\":\"LogTicker\"}},\"id\":\"c835e5b0-48a6-4e26-9b8c-4da2e9ce6299\",\"type\":\"Grid\"},{\"attributes\":{\"children\":[{\"id\":\"fb510e1f-df35-479b-bd0b-631966fa7c99\",\"type\":\"Row\"}]},\"id\":\"ae55f43f-dc03-46c4-a485-96bbad54a810\",\"type\":\"Column\"},{\"attributes\":{\"source\":{\"id\":\"1301fda0-9c87-4bd0-93da-d6d0a1c6d7d7\",\"type\":\"ColumnDataSource\"}},\"id\":\"0da3538b-e0eb-45cf-b602-9d70db9a73d5\",\"type\":\"CDSView\"},{\"attributes\":{\"overlay\":{\"id\":\"c0826a2d-1066-4087-b30c-de46ec9c5a11\",\"type\":\"BoxAnnotation\"}},\"id\":\"a5477138-ebf5-4e39-8e5a-f94ebd513790\",\"type\":\"BoxZoomTool\"},{\"attributes\":{\"axis_label\":\"pressure [mb]\",\"formatter\":{\"id\":\"3862ff5e-2a7f-4526-b442-9b7765a3be1f\",\"type\":\"LogTickFormatter\"},\"plot\":{\"id\":\"2381db03-63ea-4a9e-8f49-69c60765f992\",\"subtype\":\"Figure\",\"type\":\"Plot\"},\"ticker\":{\"id\":\"a2d00ea7-d982-44be-8bd4-a44375bbfe9b\",\"type\":\"LogTicker\"}},\"id\":\"b2ec9806-2835-4bfd-8223-80dc18d54cb7\",\"type\":\"LogAxis\"},{\"attributes\":{\"callback\":null,\"data\":{\"x\":{\"__ndarray__\":\"dPEGK8OVQEDeoOdcKI48QFbHwpv6Wj5Ay6P+H0H1PkDQ4Pw1Pwc+QE/QQMz8iTtA2A4AykzZN0DdjedX4NEzQGtNrhl/gDBA2D3w2wNCLUCD8yO1LFEsQMSh3yrZ2SxAddHY/lW3LUCQJQyh8TwtQDsZ7GODoSpAi6Dn/2tIJ0DnDLMq6HUkQI7khOlE0SJADOiE4G6jIkCA/E90r7ojQD4p//OgKSZA0QfX6dGqJUCyytltEichQGghgfXIYRlAYiDp91xnE0B2wNHWtrQPQJ4m9qB2vgpAeJDQ8VfQBUDZ0VLI7iYCQFfZT3TydP8/LweR0IUK/T/QULeHxNj4P2vv6z6eL/Q/zgHEDC0f8T/QFWBxKcbuP44Jru1pXOw/gHqFfZV+5z+OfasQZCrhP6t1AyXK0t0/lna9be4v3T/c2Wqej6reP35gz5e/Ud4/nMqPj0zn3D8LaSXAL2PaPwxLIAIe8tI/ycIIktEE0T/QBmDBekPcP1FO88ASwOM/Iq2sIt+z6z9G6FH1eCvyPxuVEdtBb/U/iGRHMeCT9z8UPT1a/HH4P34cIRzqbvg/BVL+/E89+D8UZw90MO/3Pxe6cKnMffc/gpFKgkbl9j+HrQkEYjP2P3zN2LsygPU/XbOBIde49D8Mb12IkenzP3WIqqFOEvM/areay8ZI8j+L6oiWEKHxPzKOAUHPLvE/uT5D5rAN8T9sYOhno1DxP+7HZ16AqPE/jCnpRRNe8T/L5uQkGIfvP9VKN758h+o/8f1zKreS5T9uCZ6e1UPhP0M/OoB87NY/\",\"dtype\":\"float64\",\"shape\":[75]},\"y\":{\"__ndarray__\":\"GhExyth1ND/Sv8nbtpRIP2vylNV0PVE/aTum7souWD/At0SJ8fVgPw3Iuahxymc/MSNhhJWvcD/bTfBN02d3P2zb5nxnaoA/CD5h5MAGhz8NmeH1TyaQP+zrCsc9p5Y/LbKd76fGnz/bLW5ISEmmPww9YvTcQq8/JV2OstnstT8Er5Y7M8G+P0c+r3jqkcU/5h99k6ZBzj88bCIzFzjVP4enV8oyxN0//yH99nXg5D8qOpLLf0jtP5kqGJXUifQ/c9cS8kHP/D+/DpwzojQEQIEmwoanVwxA4lgXt9HgE0BSSZ2AJuIbQAMJih9jjiNA5q4l5INuK0AwTKYKRj0zQNv5fmq8/DpAaCJseHrtQkB/+zpwzoxKQM3MzMzMeFJAZmZmZmZqWEAAAAAAAFxeQM3MzMzMJmJAmpmZmZkfZUBmZmZmZhhoQDMzMzMzEWtAAAAAAAAKbkBmZmZmZoFwQM3MzMzM/XFAMzMzMzN6c0CamZmZmfZ0QAAAAAAAc3ZAZmZmZmbvd0DNzMzMzGt5QDMzMzMz6HpAmpmZmZlkfEAAAAAAAOF9QGZmZmZmXX9AZmZmZuZsgECamZmZGSuBQM3MzMxM6YFAAAAAAICngkAzMzMzs2WDQGZmZmbmI4RAmpmZmRnihEDNzMzMTKCFQAAAAACAXoZAMzMzM7Mch0BmZmZm5tqHQJqZmZkZmYhAzczMzExXiUAAAAAAgBWKQDMzMzOz04pAZmZmZuaRi0CamZmZGVCMQM3MzMxMDo1AAAAAAIDMjUAzMzMzs4qOQGZmZmbmSI9A\",\"dtype\":\"float64\",\"shape\":[75]}},\"selected\":{\"id\":\"2ba0d908-a7f1-4e17-ac61-fcd8b48111ff\",\"type\":\"Selection\"},\"selection_policy\":{\"id\":\"ff1a3be8-2314-42f3-bdea-e9b996bc6e9c\",\"type\":\"UnionRenderers\"}},\"id\":\"7dbef845-5bda-4bcf-8429-aefe7b9c0984\",\"type\":\"ColumnDataSource\"},{\"attributes\":{},\"id\":\"e29b53a3-7de2-41b0-86de-d1431dc2275f\",\"type\":\"Selection\"},{\"attributes\":{},\"id\":\"e13aaa8e-5ce8-4724-b1e4-64fe17d92d25\",\"type\":\"PanTool\"},{\"attributes\":{\"active_drag\":\"auto\",\"active_inspect\":\"auto\",\"active_scroll\":\"auto\",\"active_tap\":\"auto\",\"tools\":[{\"id\":\"e13aaa8e-5ce8-4724-b1e4-64fe17d92d25\",\"type\":\"PanTool\"},{\"id\":\"f0e7e2c9-b010-4344-b229-b68c0584af8d\",\"type\":\"WheelZoomTool\"},{\"id\":\"a5477138-ebf5-4e39-8e5a-f94ebd513790\",\"type\":\"BoxZoomTool\"},{\"id\":\"5f36d950-7f40-443f-b6b6-c79ce06d0369\",\"type\":\"SaveTool\"},{\"id\":\"a901b8a2-3665-415c-b0d8-651afd2bd951\",\"type\":\"ResetTool\"},{\"id\":\"9e85e8ca-2f92-409b-bb08-2b18550da335\",\"type\":\"HelpTool\"}]},\"id\":\"2e7b24c4-c044-437a-9d23-537ae50a6968\",\"type\":\"Toolbar\"},{\"attributes\":{},\"id\":\"ff1a3be8-2314-42f3-bdea-e9b996bc6e9c\",\"type\":\"UnionRenderers\"},{\"attributes\":{},\"id\":\"c9abe851-d074-4ebc-9b70-d7512d767a4d\",\"type\":\"LinearScale\"},{\"attributes\":{},\"id\":\"2bb1556d-d18f-430c-a438-d67c5c3b43fc\",\"type\":\"Selection\"},{\"attributes\":{\"source\":{\"id\":\"415d4de6-a9ea-46c0-94c0-0d2ea5bba5bd\",\"type\":\"ColumnDataSource\"}},\"id\":\"8b6bab7f-0260-4e94-b076-c3d97064bdb4\",\"type\":\"CDSView\"},{\"attributes\":{\"fill_alpha\":{\"value\":0.7},\"fill_color\":{\"value\":\"#4daf4a\"},\"line_alpha\":{\"value\":0.7},\"line_color\":{\"value\":\"#4daf4a\"},\"x\":{\"field\":\"x\"},\"y\":{\"field\":\"y\"}},\"id\":\"297df12d-f88e-47a4-87c0-8ae2a7c45d62\",\"type\":\"Circle\"},{\"attributes\":{\"axis_label\":\"cooling rate [K/day]\",\"formatter\":{\"id\":\"e6c2a46b-76c3-4505-8755-fba22f329eba\",\"type\":\"BasicTickFormatter\"},\"plot\":{\"id\":\"edf298db-8620-4d39-aa68-20fe2a3046d0\",\"subtype\":\"Figure\",\"type\":\"Plot\"},\"ticker\":{\"id\":\"e4ace9a5-f952-4f0e-a353-cc4414fb5c1f\",\"type\":\"BasicTicker\"}},\"id\":\"6f2460bc-3d0f-43c6-ab4a-da76aed8a899\",\"type\":\"LinearAxis\"},{\"attributes\":{\"data_source\":{\"id\":\"cfadd862-68a4-4182-b0b1-0851ce6b10eb\",\"type\":\"ColumnDataSource\"},\"glyph\":{\"id\":\"297df12d-f88e-47a4-87c0-8ae2a7c45d62\",\"type\":\"Circle\"},\"hover_glyph\":null,\"muted_glyph\":null,\"nonselection_glyph\":{\"id\":\"44825bda-4fdb-41ec-bd85-5d22853055ac\",\"type\":\"Circle\"},\"selection_glyph\":null,\"view\":{\"id\":\"acb7a4d8-f5fa-437e-a816-74af58adedd9\",\"type\":\"CDSView\"}},\"id\":\"9e00290e-0975-4a1e-bf03-6474eacfd3aa\",\"type\":\"GlyphRenderer\"},{\"attributes\":{},\"id\":\"2a9a046f-bc13-48fa-92b1-ee73ca8c0514\",\"type\":\"UnionRenderers\"},{\"attributes\":{\"fill_alpha\":{\"value\":0.1},\"fill_color\":{\"value\":\"#1f77b4\"},\"line_alpha\":{\"value\":0.1},\"line_color\":{\"value\":\"#1f77b4\"},\"x\":{\"field\":\"x\"},\"y\":{\"field\":\"y\"}},\"id\":\"44825bda-4fdb-41ec-bd85-5d22853055ac\",\"type\":\"Circle\"},{\"attributes\":{\"above\":[{\"id\":\"3d75bde1-cc6c-4042-9764-132585c668d2\",\"type\":\"Legend\"}],\"below\":[{\"id\":\"3e3435d3-64f4-4d98-b77e-8f876df70b06\",\"type\":\"LinearAxis\"}],\"left\":[{\"id\":\"b2ec9806-2835-4bfd-8223-80dc18d54cb7\",\"type\":\"LogAxis\"}],\"plot_width\":300,\"renderers\":[{\"id\":\"3e3435d3-64f4-4d98-b77e-8f876df70b06\",\"type\":\"LinearAxis\"},{\"id\":\"bf9a22df-ba05-4ea6-9494-2004cb68ba69\",\"type\":\"Grid\"},{\"id\":\"b2ec9806-2835-4bfd-8223-80dc18d54cb7\",\"type\":\"LogAxis\"},{\"id\":\"c835e5b0-48a6-4e26-9b8c-4da2e9ce6299\",\"type\":\"Grid\"},{\"id\":\"c0826a2d-1066-4087-b30c-de46ec9c5a11\",\"type\":\"BoxAnnotation\"},{\"id\":\"35af93ea-5cae-4811-af6d-78eb07802034\",\"type\":\"GlyphRenderer\"},{\"id\":\"6ec5287b-91be-4c64-917a-d5b9547c5b0e\",\"type\":\"GlyphRenderer\"},{\"id\":\"3d75bde1-cc6c-4042-9764-132585c668d2\",\"type\":\"Legend\"}],\"title\":{\"id\":\"60f10cc7-0e5e-48a6-9db5-b388b3d87f31\",\"type\":\"Title\"},\"toolbar\":{\"id\":\"2e7b24c4-c044-437a-9d23-537ae50a6968\",\"type\":\"Toolbar\"},\"toolbar_location\":null,\"x_range\":{\"id\":\"3db860dd-1e15-4965-a2cc-6b11f4cdc569\",\"type\":\"Range1d\"},\"x_scale\":{\"id\":\"a2c2b5f9-5a0e-4fee-ba04-b2670b0f9408\",\"type\":\"LinearScale\"},\"y_range\":{\"id\":\"9d22ebf0-c999-4a8d-b1c5-095cc2428d31\",\"type\":\"Range1d\"},\"y_scale\":{\"id\":\"eae07299-d481-4ca0-8620-182161d92c96\",\"type\":\"LogScale\"}},\"id\":\"2381db03-63ea-4a9e-8f49-69c60765f992\",\"subtype\":\"Figure\",\"type\":\"Plot\"},{\"attributes\":{},\"id\":\"e4ace9a5-f952-4f0e-a353-cc4414fb5c1f\",\"type\":\"BasicTicker\"},{\"attributes\":{},\"id\":\"87a90b23-9806-4490-8821-7ca2cd9730bd\",\"type\":\"BasicTickFormatter\"},{\"attributes\":{},\"id\":\"e6c2a46b-76c3-4505-8755-fba22f329eba\",\"type\":\"BasicTickFormatter\"},{\"attributes\":{\"plot\":{\"id\":\"edf298db-8620-4d39-aa68-20fe2a3046d0\",\"subtype\":\"Figure\",\"type\":\"Plot\"},\"ticker\":{\"id\":\"e4ace9a5-f952-4f0e-a353-cc4414fb5c1f\",\"type\":\"BasicTicker\"}},\"id\":\"6dca631c-e340-4a73-9b8a-ab0b6e6f7786\",\"type\":\"Grid\"},{\"attributes\":{\"ticker\":null},\"id\":\"3862ff5e-2a7f-4526-b442-9b7765a3be1f\",\"type\":\"LogTickFormatter\"},{\"attributes\":{\"axis_label\":\"pressure [mb]\",\"formatter\":{\"id\":\"323364bc-2562-4701-b5c5-41fb276d0a8c\",\"type\":\"BasicTickFormatter\"},\"plot\":{\"id\":\"edf298db-8620-4d39-aa68-20fe2a3046d0\",\"subtype\":\"Figure\",\"type\":\"Plot\"},\"ticker\":{\"id\":\"3b4faf18-ca15-47f7-98e3-c668c74bc8bd\",\"type\":\"BasicTicker\"}},\"id\":\"85db8357-d5ab-4993-8158-3b29c6614686\",\"type\":\"LinearAxis\"},{\"attributes\":{\"fill_alpha\":{\"value\":0.1},\"fill_color\":{\"value\":\"#1f77b4\"},\"line_alpha\":{\"value\":0.1},\"line_color\":{\"value\":\"#1f77b4\"},\"x\":{\"field\":\"x\"},\"y\":{\"field\":\"y\"}},\"id\":\"47e10b0c-a640-4cf6-be9e-2f95874e9093\",\"type\":\"Circle\"},{\"attributes\":{\"axis_label\":\"cooling rate [K/day]\",\"formatter\":{\"id\":\"87a90b23-9806-4490-8821-7ca2cd9730bd\",\"type\":\"BasicTickFormatter\"},\"plot\":{\"id\":\"2381db03-63ea-4a9e-8f49-69c60765f992\",\"subtype\":\"Figure\",\"type\":\"Plot\"},\"ticker\":{\"id\":\"efbf100b-15e0-4d12-8692-e2f2d8bf88d3\",\"type\":\"BasicTicker\"}},\"id\":\"3e3435d3-64f4-4d98-b77e-8f876df70b06\",\"type\":\"LinearAxis\"},{\"attributes\":{\"callback\":null,\"data\":{\"x\":{\"__ndarray__\":\"LVz7uCfeQ8ChGUaLJfYYwCMb75vopAPAb3fOabke8j9lWIgE9JsLQOXvyvkb2g9APnR7Fi/LBkCmSIIxVTrrPyu2iXaXmu2/L3WfIbFl+r+C9ZYDcxv0v8J+sAdRy9S/UH1/Rkeq4D8IzsLpVObuP4jqcTibAe0/eTvd8oYO2T+OQTCLDt7Qv5ji9BpoXuW/V0+3xBhy5b94Z7G7lXzav/6pSlfL38G/zBgKKJYesj/I1tW4gTDBP4Gg9xnb/bm/6OHFBmFwzb/Jlv56HxKhv/EZB1BwXNE/tDFGwmnx0T+dgz8RYjK8P0oF0SHPn6A/1zw/k0lFxD8Gy+tFFBfNP2i9183Z08A/N3gKDez1dr+ErhDxWg1oP7z6DbGqTLM/FGuCmYk5qD8ZDNtblLmYvzx7mOPoprO/Rm2hQwsHtr9zgNat/qeyv3TBkyPWuay/lNouayB+pb/vTOCOl1uavx4jDSfir5C/H1Be0ivxhb9YuwufkpI/v2KxTpOelHS/zMZedMBUm7+XBGrFTJ+qv1BpC30ogKq/qPfp7IHAor8ApUU9lFmjv/JYEpkYzKq/kHn7d8SRqr/cmaU2k1ylvxjD/zelpZ+/nlGD3JJLmL/E21bacaGTv/6RwjCw64m/2h/zxmcAhL/NgBME6nGBv9orU+u8T4S/oIG6YxpWhr8lZK/mZTWEv+Zn75KUCXq/gNkHHrReOb9kVHMMU5p/P9Y9Y3OW2Is/nkfL3Nfckj+u+BL/t1+WP0aldYMAE5g/U2koibtulz9Klct3jleXPw5pTN3dV5Y/\",\"dtype\":\"float64\",\"shape\":[75]},\"y\":{\"__ndarray__\":\"GhExyth1ND/Sv8nbtpRIP2vylNV0PVE/aTum7souWD/At0SJ8fVgPw3Iuahxymc/MSNhhJWvcD/bTfBN02d3P2zb5nxnaoA/CD5h5MAGhz8NmeH1TyaQP+zrCsc9p5Y/LbKd76fGnz/bLW5ISEmmPww9YvTcQq8/JV2OstnstT8Er5Y7M8G+P0c+r3jqkcU/5h99k6ZBzj88bCIzFzjVP4enV8oyxN0//yH99nXg5D8qOpLLf0jtP5kqGJXUifQ/c9cS8kHP/D+/DpwzojQEQIEmwoanVwxA4lgXt9HgE0BSSZ2AJuIbQAMJih9jjiNA5q4l5INuK0AwTKYKRj0zQNv5fmq8/DpAaCJseHrtQkB/+zpwzoxKQM3MzMzMeFJAZmZmZmZqWEAAAAAAAFxeQM3MzMzMJmJAmpmZmZkfZUBmZmZmZhhoQDMzMzMzEWtAAAAAAAAKbkBmZmZmZoFwQM3MzMzM/XFAMzMzMzN6c0CamZmZmfZ0QAAAAAAAc3ZAZmZmZmbvd0DNzMzMzGt5QDMzMzMz6HpAmpmZmZlkfEAAAAAAAOF9QGZmZmZmXX9AZmZmZuZsgECamZmZGSuBQM3MzMxM6YFAAAAAAICngkAzMzMzs2WDQGZmZmbmI4RAmpmZmRnihEDNzMzMTKCFQAAAAACAXoZAMzMzM7Mch0BmZmZm5tqHQJqZmZkZmYhAzczMzExXiUAAAAAAgBWKQDMzMzOz04pAZmZmZuaRi0CamZmZGVCMQM3MzMxMDo1AAAAAAIDMjUAzMzMzs4qOQGZmZmbmSI9A\",\"dtype\":\"float64\",\"shape\":[75]}},\"selected\":{\"id\":\"2bb1556d-d18f-430c-a438-d67c5c3b43fc\",\"type\":\"Selection\"},\"selection_policy\":{\"id\":\"2a9a046f-bc13-48fa-92b1-ee73ca8c0514\",\"type\":\"UnionRenderers\"}},\"id\":\"1301fda0-9c87-4bd0-93da-d6d0a1c6d7d7\",\"type\":\"ColumnDataSource\"},{\"attributes\":{\"dimension\":1,\"plot\":{\"id\":\"edf298db-8620-4d39-aa68-20fe2a3046d0\",\"subtype\":\"Figure\",\"type\":\"Plot\"},\"ticker\":{\"id\":\"3b4faf18-ca15-47f7-98e3-c668c74bc8bd\",\"type\":\"BasicTicker\"}},\"id\":\"b57e6493-1f0a-47dc-b85a-e8d44c47ab54\",\"type\":\"Grid\"},{\"attributes\":{},\"id\":\"5f36d950-7f40-443f-b6b6-c79ce06d0369\",\"type\":\"SaveTool\"},{\"attributes\":{\"line_color\":\"#4daf4a\",\"line_width\":1.5,\"x\":{\"field\":\"x\"},\"y\":{\"field\":\"y\"}},\"id\":\"2c99d4c5-8bbe-4ebf-ae47-18c295ed4c9e\",\"type\":\"Line\"},{\"attributes\":{\"callback\":null,\"data\":{\"x\":{\"__ndarray__\":\"0CYBcvU5UkCik9zf2GVBQF1VoNfLZ0BAVLxhiVXTPUDD1Wu1wJM6QFJyB025jjdAU6Aw5+b/NECYe1uuDfgyQB6bYtVTbTFAPxYSAF1HMEA00pYVm9QuQLolHbMzgC1AntlwirGsLECv+G9SjE4rQJH6ZLBp0ShAsLZQyPd/JkDyjgyf2PwkQLgyNGsrJyRAA13QbJD6I0C8hy0ilI4kQOVTXCEgcSZAovOGvZSGJUBVc/ZmUOIgQOf/6GHAyRlAcE8fAOBSFEDRur1U//gPQGFD9ZbokghAQsqHuSqSA0C91ci3W0UBQCtRQfvz7/4/kh8pntyB+j9t1/n+4TX1P773MAUjFfI/RgzR+CI28T8hBW8WHK7uPzVKjJfU8uk/0FPt4/z65T/wVYqzMPDhPz7K9C5CXuE/8+hSn9hY4T/9PPCkR6rhP1XsIC599OA/66X1nBCX3z/YbRM56QjcPz4dkSQc/dM/S7Wb8Fq00T+/yQdmX0vcP7TrGf476eM/WqNPJoWO7D9qOH1bcwDzP2bw+R5DQ/Y/RLSuQOQp+D8+aif8yAz5P0Wv6eBKRfk/0i2+IN4R+T/ik8QNFZr4PyS5UD5j/Pc/yJ68zXRG9z/2CHPL54H2P59SOhwKtPU/npkP8dfg9D8NlmVcdQz0P80ugRvuOvM/byxiAHN18j9USVZie8nxP5l9lNXYSPE/OB+F0UYP8T8Y7dsUCTHxP3EBgTHPcPE/bfx15p8S8T8FT+xkGtTuP6mdG7rkxuk/pboqTkHX5D/CrN8qGYngP7R4ZaL+htU/\",\"dtype\":\"float64\",\"shape\":[75]},\"y\":{\"__ndarray__\":\"GhExyth1ND/Sv8nbtpRIP2vylNV0PVE/aTum7souWD/At0SJ8fVgPw3Iuahxymc/MSNhhJWvcD/bTfBN02d3P2zb5nxnaoA/CD5h5MAGhz8NmeH1TyaQP+zrCsc9p5Y/LbKd76fGnz/bLW5ISEmmPww9YvTcQq8/JV2OstnstT8Er5Y7M8G+P0c+r3jqkcU/5h99k6ZBzj88bCIzFzjVP4enV8oyxN0//yH99nXg5D8qOpLLf0jtP5kqGJXUifQ/c9cS8kHP/D+/DpwzojQEQIEmwoanVwxA4lgXt9HgE0BSSZ2AJuIbQAMJih9jjiNA5q4l5INuK0AwTKYKRj0zQNv5fmq8/DpAaCJseHrtQkB/+zpwzoxKQM3MzMzMeFJAZmZmZmZqWEAAAAAAAFxeQM3MzMzMJmJAmpmZmZkfZUBmZmZmZhhoQDMzMzMzEWtAAAAAAAAKbkBmZmZmZoFwQM3MzMzM/XFAMzMzMzN6c0CamZmZmfZ0QAAAAAAAc3ZAZmZmZmbvd0DNzMzMzGt5QDMzMzMz6HpAmpmZmZlkfEAAAAAAAOF9QGZmZmZmXX9AZmZmZuZsgECamZmZGSuBQM3MzMxM6YFAAAAAAICngkAzMzMzs2WDQGZmZmbmI4RAmpmZmRnihEDNzMzMTKCFQAAAAACAXoZAMzMzM7Mch0BmZmZm5tqHQJqZmZkZmYhAzczMzExXiUAAAAAAgBWKQDMzMzOz04pAZmZmZuaRi0CamZmZGVCMQM3MzMxMDo1AAAAAAIDMjUAzMzMzs4qOQGZmZmbmSI9A\",\"dtype\":\"float64\",\"shape\":[75]}},\"selected\":{\"id\":\"248bbf63-0d13-4df9-bae3-4315a91defa4\",\"type\":\"Selection\"},\"selection_policy\":{\"id\":\"8c8a8a09-d4fe-4e26-b1c1-560136b2723b\",\"type\":\"UnionRenderers\"}},\"id\":\"2d2f93d0-bb87-4a2b-b15f-1ff1de27c1e8\",\"type\":\"ColumnDataSource\"},{\"attributes\":{},\"id\":\"3b4faf18-ca15-47f7-98e3-c668c74bc8bd\",\"type\":\"BasicTicker\"},{\"attributes\":{},\"id\":\"d94e7bdd-59c9-4180-9350-e8797e52cc67\",\"type\":\"LinearScale\"},{\"attributes\":{\"callback\":null,\"end\":0.01,\"start\":1020},\"id\":\"1f5da2bd-9a94-4faf-8620-3eb5b7f49bdd\",\"type\":\"Range1d\"},{\"attributes\":{\"axis_label\":\"cooling rate [K/day]\",\"formatter\":{\"id\":\"7040b3c1-3fdc-4b58-8505-15f72c74243b\",\"type\":\"BasicTickFormatter\"},\"plot\":{\"id\":\"56ae4e9e-ca12-45d2-995b-30c5919d38b1\",\"subtype\":\"Figure\",\"type\":\"Plot\"},\"ticker\":{\"id\":\"d03e8d56-02d6-456f-bb4b-ef06be564456\",\"type\":\"BasicTicker\"}},\"id\":\"f833d368-656e-428b-92d6-fcec8e3c0ce6\",\"type\":\"LinearAxis\"},{\"attributes\":{\"source\":{\"id\":\"232cea16-969e-4202-ac81-2bdeb52e4b3d\",\"type\":\"ColumnDataSource\"}},\"id\":\"7d05ab1f-3c3a-4482-8a23-d87f9fc00c5f\",\"type\":\"CDSView\"},{\"attributes\":{\"label\":{\"value\":\"CRD\"},\"renderers\":[{\"id\":\"9e00290e-0975-4a1e-bf03-6474eacfd3aa\",\"type\":\"GlyphRenderer\"},{\"id\":\"4fb4ad89-4330-4bda-8e6b-9f86263cfd90\",\"type\":\"GlyphRenderer\"}]},\"id\":\"af444638-0bc5-4381-9cfb-ec732f761b44\",\"type\":\"LegendItem\"},{\"attributes\":{\"line_alpha\":0.1,\"line_color\":\"#1f77b4\",\"line_dash\":[6],\"line_width\":5,\"x\":{\"field\":\"x\"},\"y\":{\"field\":\"y\"}},\"id\":\"5deed15d-f89e-4a48-a153-b7319c2975f6\",\"type\":\"Line\"},{\"attributes\":{},\"id\":\"9e85e8ca-2f92-409b-bb08-2b18550da335\",\"type\":\"HelpTool\"},{\"attributes\":{},\"id\":\"f6a2e7ec-6a69-41c1-ba68-f29ed2806cc7\",\"type\":\"HelpTool\"},{\"attributes\":{\"data_source\":{\"id\":\"232cea16-969e-4202-ac81-2bdeb52e4b3d\",\"type\":\"ColumnDataSource\"},\"glyph\":{\"id\":\"b896af65-1ded-4a05-b8d7-48b6f77923b1\",\"type\":\"Line\"},\"hover_glyph\":null,\"muted_glyph\":null,\"nonselection_glyph\":{\"id\":\"3f136098-4875-43af-b7eb-72323661c6c7\",\"type\":\"Line\"},\"selection_glyph\":null,\"view\":{\"id\":\"7d05ab1f-3c3a-4482-8a23-d87f9fc00c5f\",\"type\":\"CDSView\"}},\"id\":\"6ec5287b-91be-4c64-917a-d5b9547c5b0e\",\"type\":\"GlyphRenderer\"},{\"attributes\":{\"line_alpha\":0.6,\"line_color\":\"#377eb8\",\"line_dash\":[6],\"line_width\":5,\"x\":{\"field\":\"x\"},\"y\":{\"field\":\"y\"}},\"id\":\"b045ee6d-71dd-4306-bb57-c8f6099784b8\",\"type\":\"Line\"},{\"attributes\":{},\"id\":\"a901b8a2-3665-415c-b0d8-651afd2bd951\",\"type\":\"ResetTool\"},{\"attributes\":{\"data_source\":{\"id\":\"2d2f93d0-bb87-4a2b-b15f-1ff1de27c1e8\",\"type\":\"ColumnDataSource\"},\"glyph\":{\"id\":\"2c99d4c5-8bbe-4ebf-ae47-18c295ed4c9e\",\"type\":\"Line\"},\"hover_glyph\":null,\"muted_glyph\":null,\"nonselection_glyph\":{\"id\":\"22762b87-2112-44a9-bdfe-a55300391748\",\"type\":\"Line\"},\"selection_glyph\":null,\"view\":{\"id\":\"cfccdef3-5ee1-46e3-897a-f6e818b2ff6e\",\"type\":\"CDSView\"}},\"id\":\"4fb4ad89-4330-4bda-8e6b-9f86263cfd90\",\"type\":\"GlyphRenderer\"},{\"attributes\":{},\"id\":\"d29a35f7-7741-445f-a5f6-a931a664fe61\",\"type\":\"PanTool\"},{\"attributes\":{\"items\":[{\"id\":\"1fdd564e-0c38-46e5-bf86-c498abb3b0b0\",\"type\":\"LegendItem\"},{\"id\":\"c316a1a5-0dda-4855-8825-9a11fbadec9d\",\"type\":\"LegendItem\"}],\"label_text_font_size\":{\"value\":\"8pt\"},\"location\":\"top_center\",\"orientation\":\"horizontal\",\"plot\":{\"id\":\"56ae4e9e-ca12-45d2-995b-30c5919d38b1\",\"subtype\":\"Figure\",\"type\":\"Plot\"}},\"id\":\"b931a673-b6a4-4a3b-bc44-80b64dd7aa99\",\"type\":\"Legend\"},{\"attributes\":{\"callback\":null,\"end\":0.01,\"start\":1020},\"id\":\"6b78036b-b384-4844-b2cb-124bdaf338b9\",\"type\":\"Range1d\"},{\"attributes\":{\"bottom_units\":\"screen\",\"fill_alpha\":{\"value\":0.5},\"fill_color\":{\"value\":\"lightgrey\"},\"left_units\":\"screen\",\"level\":\"overlay\",\"line_alpha\":{\"value\":1.0},\"line_color\":{\"value\":\"black\"},\"line_dash\":[4,4],\"line_width\":{\"value\":2},\"plot\":null,\"render_mode\":\"css\",\"right_units\":\"screen\",\"top_units\":\"screen\"},\"id\":\"c0826a2d-1066-4087-b30c-de46ec9c5a11\",\"type\":\"BoxAnnotation\"},{\"attributes\":{\"dimension\":1,\"plot\":{\"id\":\"56ae4e9e-ca12-45d2-995b-30c5919d38b1\",\"subtype\":\"Figure\",\"type\":\"Plot\"},\"ticker\":{\"id\":\"578dbcc0-6e21-47b7-8dc8-312579ce631c\",\"type\":\"LogTicker\"}},\"id\":\"37722430-85a1-4c25-84e5-d49101d62983\",\"type\":\"Grid\"},{\"attributes\":{\"num_minor_ticks\":10},\"id\":\"578dbcc0-6e21-47b7-8dc8-312579ce631c\",\"type\":\"LogTicker\"},{\"attributes\":{},\"id\":\"72627af2-3eab-4e36-9598-7f08cb5f1e25\",\"type\":\"LogScale\"},{\"attributes\":{\"label\":{\"value\":\"CRD\"},\"renderers\":[{\"id\":\"fcf0d456-164a-490a-ba1b-f35a9f82c0e0\",\"type\":\"GlyphRenderer\"},{\"id\":\"a9ad7b4c-2900-4f28-98b0-2bd837b59b82\",\"type\":\"GlyphRenderer\"}]},\"id\":\"c316a1a5-0dda-4855-8825-9a11fbadec9d\",\"type\":\"LegendItem\"},{\"attributes\":{\"active_drag\":\"auto\",\"active_inspect\":\"auto\",\"active_scroll\":\"auto\",\"active_tap\":\"auto\",\"tools\":[{\"id\":\"6ffce519-01b0-49fb-b5a6-4e5567a1c8b6\",\"type\":\"PanTool\"},{\"id\":\"65e2c0f2-dcd4-43e9-b2c7-e5943c5acd0d\",\"type\":\"WheelZoomTool\"},{\"id\":\"451d675f-7e9e-4226-854e-faa506745c86\",\"type\":\"BoxZoomTool\"},{\"id\":\"242dc124-5bf9-4840-ba3d-3b19f87bb674\",\"type\":\"SaveTool\"},{\"id\":\"82df1390-1405-4080-bd73-1b409fd0207f\",\"type\":\"ResetTool\"},{\"id\":\"3475b1c3-fc63-417b-a237-239d3343e619\",\"type\":\"HelpTool\"}]},\"id\":\"d63b1b5b-12a6-4a78-bdd2-54bb33443584\",\"type\":\"Toolbar\"},{\"attributes\":{},\"id\":\"1b57a87a-7611-4a3f-9a81-14d3e37d2664\",\"type\":\"Selection\"},{\"attributes\":{},\"id\":\"d03e8d56-02d6-456f-bb4b-ef06be564456\",\"type\":\"BasicTicker\"},{\"attributes\":{\"axis_label\":\"pressure [mb]\",\"formatter\":{\"id\":\"a09f786d-1fe6-482a-b6e3-9d0ae7f9f5a6\",\"type\":\"LogTickFormatter\"},\"plot\":{\"id\":\"56ae4e9e-ca12-45d2-995b-30c5919d38b1\",\"subtype\":\"Figure\",\"type\":\"Plot\"},\"ticker\":{\"id\":\"578dbcc0-6e21-47b7-8dc8-312579ce631c\",\"type\":\"LogTicker\"}},\"id\":\"92ec51c9-dd59-40ad-a887-1bfbe3dd9de1\",\"type\":\"LogAxis\"},{\"attributes\":{\"label\":{\"value\":\"CLIRAD (single-run)\"},\"renderers\":[{\"id\":\"3bdbf7d6-9a0c-457d-b8da-55b232faae8d\",\"type\":\"GlyphRenderer\"}]},\"id\":\"350ec7a0-8689-429b-bd42-4fe65aa5eb9e\",\"type\":\"LegendItem\"},{\"attributes\":{\"active_drag\":\"auto\",\"active_inspect\":\"auto\",\"active_scroll\":\"auto\",\"active_tap\":\"auto\",\"tools\":[{\"id\":\"d29a35f7-7741-445f-a5f6-a931a664fe61\",\"type\":\"PanTool\"},{\"id\":\"880ab7bc-63e0-406b-b56e-89985fac2796\",\"type\":\"WheelZoomTool\"},{\"id\":\"fd75ea49-1907-4591-ae99-1a7fd33596f0\",\"type\":\"BoxZoomTool\"},{\"id\":\"7e47e303-e5c7-4353-be5d-e1d1c6f486f2\",\"type\":\"SaveTool\"},{\"id\":\"21051203-a406-4914-ad88-fac712879e2b\",\"type\":\"ResetTool\"},{\"id\":\"f6a2e7ec-6a69-41c1-ba68-f29ed2806cc7\",\"type\":\"HelpTool\"}]},\"id\":\"94f3ae5d-fa9a-4a59-bfcf-4be526853748\",\"type\":\"Toolbar\"},{\"attributes\":{\"data_source\":{\"id\":\"7dbef845-5bda-4bcf-8429-aefe7b9c0984\",\"type\":\"ColumnDataSource\"},\"glyph\":{\"id\":\"b045ee6d-71dd-4306-bb57-c8f6099784b8\",\"type\":\"Line\"},\"hover_glyph\":null,\"muted_glyph\":null,\"nonselection_glyph\":{\"id\":\"5deed15d-f89e-4a48-a153-b7319c2975f6\",\"type\":\"Line\"},\"selection_glyph\":null,\"view\":{\"id\":\"6c89fd58-c340-4831-93ba-ab0eb7f27835\",\"type\":\"CDSView\"}},\"id\":\"960c14d1-9e26-45b4-8e9b-fac731d73b8d\",\"type\":\"GlyphRenderer\"},{\"attributes\":{\"label\":{\"value\":\"CLIRAD (single-run)\"},\"renderers\":[{\"id\":\"960c14d1-9e26-45b4-8e9b-fac731d73b8d\",\"type\":\"GlyphRenderer\"}]},\"id\":\"1fdd564e-0c38-46e5-bf86-c498abb3b0b0\",\"type\":\"LegendItem\"},{\"attributes\":{\"plot\":{\"id\":\"56ae4e9e-ca12-45d2-995b-30c5919d38b1\",\"subtype\":\"Figure\",\"type\":\"Plot\"},\"ticker\":{\"id\":\"d03e8d56-02d6-456f-bb4b-ef06be564456\",\"type\":\"BasicTicker\"}},\"id\":\"812d6d8c-1fc4-4169-98d5-25777dbf43fa\",\"type\":\"Grid\"},{\"attributes\":{\"callback\":null,\"end\":0.9917710995134403,\"start\":-1.6759815666374394},\"id\":\"3db860dd-1e15-4965-a2cc-6b11f4cdc569\",\"type\":\"Range1d\"},{\"attributes\":{},\"id\":\"248bbf63-0d13-4df9-bae3-4315a91defa4\",\"type\":\"Selection\"},{\"attributes\":{},\"id\":\"21051203-a406-4914-ad88-fac712879e2b\",\"type\":\"ResetTool\"},{\"attributes\":{},\"id\":\"018a5963-acac-4b01-9f3f-7106b81ebad6\",\"type\":\"LinearScale\"},{\"attributes\":{\"data_source\":{\"id\":\"1a906025-e334-4739-b630-9f769c9f5ec0\",\"type\":\"ColumnDataSource\"},\"glyph\":{\"id\":\"79c9a8bc-31f2-4f78-9975-d5f1dc98190c\",\"type\":\"Line\"},\"hover_glyph\":null,\"muted_glyph\":null,\"nonselection_glyph\":{\"id\":\"0217f666-c813-4070-97f7-7bd8d43c174a\",\"type\":\"Line\"},\"selection_glyph\":null,\"view\":{\"id\":\"e666ab30-9768-42f1-9dd6-3f4728f0b270\",\"type\":\"CDSView\"}},\"id\":\"a9ad7b4c-2900-4f28-98b0-2bd837b59b82\",\"type\":\"GlyphRenderer\"},{\"attributes\":{},\"id\":\"e4166bee-cfce-46c1-8674-bcb2b37e909f\",\"type\":\"UnionRenderers\"},{\"attributes\":{},\"id\":\"8c8a8a09-d4fe-4e26-b1c1-560136b2723b\",\"type\":\"UnionRenderers\"},{\"attributes\":{},\"id\":\"a2c2b5f9-5a0e-4fee-ba04-b2670b0f9408\",\"type\":\"LinearScale\"},{\"attributes\":{\"overlay\":{\"id\":\"66efd77c-da77-4ddf-a473-35d139f72e7c\",\"type\":\"BoxAnnotation\"}},\"id\":\"fd75ea49-1907-4591-ae99-1a7fd33596f0\",\"type\":\"BoxZoomTool\"},{\"attributes\":{\"source\":{\"id\":\"cfadd862-68a4-4182-b0b1-0851ce6b10eb\",\"type\":\"ColumnDataSource\"}},\"id\":\"acb7a4d8-f5fa-437e-a816-74af58adedd9\",\"type\":\"CDSView\"},{\"attributes\":{\"items\":[{\"id\":\"bf5d5b4f-3d0d-4355-b509-034d8304c3b0\",\"type\":\"LegendItem\"}],\"label_text_font_size\":{\"value\":\"8pt\"},\"location\":\"top_center\",\"orientation\":\"horizontal\",\"plot\":{\"id\":\"2381db03-63ea-4a9e-8f49-69c60765f992\",\"subtype\":\"Figure\",\"type\":\"Plot\"}},\"id\":\"3d75bde1-cc6c-4042-9764-132585c668d2\",\"type\":\"Legend\"},{\"attributes\":{},\"id\":\"eae07299-d481-4ca0-8620-182161d92c96\",\"type\":\"LogScale\"},{\"attributes\":{\"fill_alpha\":{\"value\":0.7},\"fill_color\":{\"value\":\"#4daf4a\"},\"line_alpha\":{\"value\":0.7},\"line_color\":{\"value\":\"#4daf4a\"},\"x\":{\"field\":\"x\"},\"y\":{\"field\":\"y\"}},\"id\":\"96a37a10-a9e0-41cd-8ca4-f0cdce116b7e\",\"type\":\"Circle\"},{\"attributes\":{},\"id\":\"880ab7bc-63e0-406b-b56e-89985fac2796\",\"type\":\"WheelZoomTool\"},{\"attributes\":{\"callback\":null,\"data\":{\"x\":{\"__ndarray__\":\"0CYBcvU5UkCik9zf2GVBQF1VoNfLZ0BAVLxhiVXTPUDD1Wu1wJM6QFJyB025jjdAU6Aw5+b/NECYe1uuDfgyQB6bYtVTbTFAPxYSAF1HMEA00pYVm9QuQLolHbMzgC1AntlwirGsLECv+G9SjE4rQJH6ZLBp0ShAsLZQyPd/JkDyjgyf2PwkQLgyNGsrJyRAA13QbJD6I0C8hy0ilI4kQOVTXCEgcSZAovOGvZSGJUBVc/ZmUOIgQOf/6GHAyRlAcE8fAOBSFEDRur1U//gPQGFD9ZbokghAQsqHuSqSA0C91ci3W0UBQCtRQfvz7/4/kh8pntyB+j9t1/n+4TX1P773MAUjFfI/RgzR+CI28T8hBW8WHK7uPzVKjJfU8uk/0FPt4/z65T/wVYqzMPDhPz7K9C5CXuE/8+hSn9hY4T/9PPCkR6rhP1XsIC599OA/66X1nBCX3z/YbRM56QjcPz4dkSQc/dM/S7Wb8Fq00T+/yQdmX0vcP7TrGf476eM/WqNPJoWO7D9qOH1bcwDzP2bw+R5DQ/Y/RLSuQOQp+D8+aif8yAz5P0Wv6eBKRfk/0i2+IN4R+T/ik8QNFZr4PyS5UD5j/Pc/yJ68zXRG9z/2CHPL54H2P59SOhwKtPU/npkP8dfg9D8NlmVcdQz0P80ugRvuOvM/byxiAHN18j9USVZie8nxP5l9lNXYSPE/OB+F0UYP8T8Y7dsUCTHxP3EBgTHPcPE/bfx15p8S8T8FT+xkGtTuP6mdG7rkxuk/pboqTkHX5D/CrN8qGYngP7R4ZaL+htU/\",\"dtype\":\"float64\",\"shape\":[75]},\"y\":{\"__ndarray__\":\"GhExyth1ND/Sv8nbtpRIP2vylNV0PVE/aTum7souWD/At0SJ8fVgPw3Iuahxymc/MSNhhJWvcD/bTfBN02d3P2zb5nxnaoA/CD5h5MAGhz8NmeH1TyaQP+zrCsc9p5Y/LbKd76fGnz/bLW5ISEmmPww9YvTcQq8/JV2OstnstT8Er5Y7M8G+P0c+r3jqkcU/5h99k6ZBzj88bCIzFzjVP4enV8oyxN0//yH99nXg5D8qOpLLf0jtP5kqGJXUifQ/c9cS8kHP/D+/DpwzojQEQIEmwoanVwxA4lgXt9HgE0BSSZ2AJuIbQAMJih9jjiNA5q4l5INuK0AwTKYKRj0zQNv5fmq8/DpAaCJseHrtQkB/+zpwzoxKQM3MzMzMeFJAZmZmZmZqWEAAAAAAAFxeQM3MzMzMJmJAmpmZmZkfZUBmZmZmZhhoQDMzMzMzEWtAAAAAAAAKbkBmZmZmZoFwQM3MzMzM/XFAMzMzMzN6c0CamZmZmfZ0QAAAAAAAc3ZAZmZmZmbvd0DNzMzMzGt5QDMzMzMz6HpAmpmZmZlkfEAAAAAAAOF9QGZmZmZmXX9AZmZmZuZsgECamZmZGSuBQM3MzMxM6YFAAAAAAICngkAzMzMzs2WDQGZmZmbmI4RAmpmZmRnihEDNzMzMTKCFQAAAAACAXoZAMzMzM7Mch0BmZmZm5tqHQJqZmZkZmYhAzczMzExXiUAAAAAAgBWKQDMzMzOz04pAZmZmZuaRi0CamZmZGVCMQM3MzMxMDo1AAAAAAIDMjUAzMzMzs4qOQGZmZmbmSI9A\",\"dtype\":\"float64\",\"shape\":[75]}},\"selected\":{\"id\":\"1b57a87a-7611-4a3f-9a81-14d3e37d2664\",\"type\":\"Selection\"},\"selection_policy\":{\"id\":\"64b04b25-9285-46e8-8c63-74fbfbc87ca1\",\"type\":\"UnionRenderers\"}},\"id\":\"ae57205e-dd6e-4ef2-98f1-6a3354c7f0a7\",\"type\":\"ColumnDataSource\"},{\"attributes\":{},\"id\":\"3475b1c3-fc63-417b-a237-239d3343e619\",\"type\":\"HelpTool\"},{\"attributes\":{\"callback\":null,\"data\":{\"x\":{\"__ndarray__\":\"0CYBcvU5UkCik9zf2GVBQF1VoNfLZ0BAVLxhiVXTPUDD1Wu1wJM6QFJyB025jjdAU6Aw5+b/NECYe1uuDfgyQB6bYtVTbTFAPxYSAF1HMEA00pYVm9QuQLolHbMzgC1AntlwirGsLECv+G9SjE4rQJH6ZLBp0ShAsLZQyPd/JkDyjgyf2PwkQLgyNGsrJyRAA13QbJD6I0C8hy0ilI4kQOVTXCEgcSZAovOGvZSGJUBVc/ZmUOIgQOf/6GHAyRlAcE8fAOBSFEDRur1U//gPQGFD9ZbokghAQsqHuSqSA0C91ci3W0UBQCtRQfvz7/4/kh8pntyB+j9t1/n+4TX1P773MAUjFfI/RgzR+CI28T8hBW8WHK7uPzVKjJfU8uk/0FPt4/z65T/wVYqzMPDhPz7K9C5CXuE/8+hSn9hY4T/9PPCkR6rhP1XsIC599OA/66X1nBCX3z/YbRM56QjcPz4dkSQc/dM/S7Wb8Fq00T+/yQdmX0vcP7TrGf476eM/WqNPJoWO7D9qOH1bcwDzP2bw+R5DQ/Y/RLSuQOQp+D8+aif8yAz5P0Wv6eBKRfk/0i2+IN4R+T/ik8QNFZr4PyS5UD5j/Pc/yJ68zXRG9z/2CHPL54H2P59SOhwKtPU/npkP8dfg9D8NlmVcdQz0P80ugRvuOvM/byxiAHN18j9USVZie8nxP5l9lNXYSPE/OB+F0UYP8T8Y7dsUCTHxP3EBgTHPcPE/bfx15p8S8T8FT+xkGtTuP6mdG7rkxuk/pboqTkHX5D/CrN8qGYngP7R4ZaL+htU/\",\"dtype\":\"float64\",\"shape\":[75]},\"y\":{\"__ndarray__\":\"GhExyth1ND/Sv8nbtpRIP2vylNV0PVE/aTum7souWD/At0SJ8fVgPw3Iuahxymc/MSNhhJWvcD/bTfBN02d3P2zb5nxnaoA/CD5h5MAGhz8NmeH1TyaQP+zrCsc9p5Y/LbKd76fGnz/bLW5ISEmmPww9YvTcQq8/JV2OstnstT8Er5Y7M8G+P0c+r3jqkcU/5h99k6ZBzj88bCIzFzjVP4enV8oyxN0//yH99nXg5D8qOpLLf0jtP5kqGJXUifQ/c9cS8kHP/D+/DpwzojQEQIEmwoanVwxA4lgXt9HgE0BSSZ2AJuIbQAMJih9jjiNA5q4l5INuK0AwTKYKRj0zQNv5fmq8/DpAaCJseHrtQkB/+zpwzoxKQM3MzMzMeFJAZmZmZmZqWEAAAAAAAFxeQM3MzMzMJmJAmpmZmZkfZUBmZmZmZhhoQDMzMzMzEWtAAAAAAAAKbkBmZmZmZoFwQM3MzMzM/XFAMzMzMzN6c0CamZmZmfZ0QAAAAAAAc3ZAZmZmZmbvd0DNzMzMzGt5QDMzMzMz6HpAmpmZmZlkfEAAAAAAAOF9QGZmZmZmXX9AZmZmZuZsgECamZmZGSuBQM3MzMxM6YFAAAAAAICngkAzMzMzs2WDQGZmZmbmI4RAmpmZmRnihEDNzMzMTKCFQAAAAACAXoZAMzMzM7Mch0BmZmZm5tqHQJqZmZkZmYhAzczMzExXiUAAAAAAgBWKQDMzMzOz04pAZmZmZuaRi0CamZmZGVCMQM3MzMxMDo1AAAAAAIDMjUAzMzMzs4qOQGZmZmbmSI9A\",\"dtype\":\"float64\",\"shape\":[75]}},\"selected\":{\"id\":\"0a7a7089-a35a-4e50-a2ab-fc31df82a9d3\",\"type\":\"Selection\"},\"selection_policy\":{\"id\":\"c27fc696-60a9-43b0-a098-b5c46c3fb790\",\"type\":\"UnionRenderers\"}},\"id\":\"cfadd862-68a4-4182-b0b1-0851ce6b10eb\",\"type\":\"ColumnDataSource\"},{\"attributes\":{\"ticker\":null},\"id\":\"a09f786d-1fe6-482a-b6e3-9d0ae7f9f5a6\",\"type\":\"LogTickFormatter\"},{\"attributes\":{\"overlay\":{\"id\":\"e2510f7e-8801-4e38-9710-e5969065d41f\",\"type\":\"BoxAnnotation\"}},\"id\":\"451d675f-7e9e-4226-854e-faa506745c86\",\"type\":\"BoxZoomTool\"},{\"attributes\":{},\"id\":\"82df1390-1405-4080-bd73-1b409fd0207f\",\"type\":\"ResetTool\"},{\"attributes\":{},\"id\":\"323364bc-2562-4701-b5c5-41fb276d0a8c\",\"type\":\"BasicTickFormatter\"},{\"attributes\":{},\"id\":\"7040b3c1-3fdc-4b58-8505-15f72c74243b\",\"type\":\"BasicTickFormatter\"},{\"attributes\":{\"bottom_units\":\"screen\",\"fill_alpha\":{\"value\":0.5},\"fill_color\":{\"value\":\"lightgrey\"},\"left_units\":\"screen\",\"level\":\"overlay\",\"line_alpha\":{\"value\":1.0},\"line_color\":{\"value\":\"black\"},\"line_dash\":[4,4],\"line_width\":{\"value\":2},\"plot\":null,\"render_mode\":\"css\",\"right_units\":\"screen\",\"top_units\":\"screen\"},\"id\":\"66efd77c-da77-4ddf-a473-35d139f72e7c\",\"type\":\"BoxAnnotation\"},{\"attributes\":{},\"id\":\"6ffce519-01b0-49fb-b5a6-4e5567a1c8b6\",\"type\":\"PanTool\"},{\"attributes\":{\"children\":[{\"id\":\"edf298db-8620-4d39-aa68-20fe2a3046d0\",\"subtype\":\"Figure\",\"type\":\"Plot\"},{\"id\":\"56ae4e9e-ca12-45d2-995b-30c5919d38b1\",\"subtype\":\"Figure\",\"type\":\"Plot\"},{\"id\":\"2381db03-63ea-4a9e-8f49-69c60765f992\",\"subtype\":\"Figure\",\"type\":\"Plot\"}]},\"id\":\"fb510e1f-df35-479b-bd0b-631966fa7c99\",\"type\":\"Row\"},{\"attributes\":{\"plot\":null,\"text\":\"\"},\"id\":\"145b00a2-e24a-45e6-83ef-c0b216ccc674\",\"type\":\"Title\"},{\"attributes\":{\"callback\":null,\"data\":{\"x\":{\"__ndarray__\":\"0CYBcvU5UkCik9zf2GVBQF1VoNfLZ0BAVLxhiVXTPUDD1Wu1wJM6QFJyB025jjdAU6Aw5+b/NECYe1uuDfgyQB6bYtVTbTFAPxYSAF1HMEA00pYVm9QuQLolHbMzgC1AntlwirGsLECv+G9SjE4rQJH6ZLBp0ShAsLZQyPd/JkDyjgyf2PwkQLgyNGsrJyRAA13QbJD6I0C8hy0ilI4kQOVTXCEgcSZAovOGvZSGJUBVc/ZmUOIgQOf/6GHAyRlAcE8fAOBSFEDRur1U//gPQGFD9ZbokghAQsqHuSqSA0C91ci3W0UBQCtRQfvz7/4/kh8pntyB+j9t1/n+4TX1P773MAUjFfI/RgzR+CI28T8hBW8WHK7uPzVKjJfU8uk/0FPt4/z65T/wVYqzMPDhPz7K9C5CXuE/8+hSn9hY4T/9PPCkR6rhP1XsIC599OA/66X1nBCX3z/YbRM56QjcPz4dkSQc/dM/S7Wb8Fq00T+/yQdmX0vcP7TrGf476eM/WqNPJoWO7D9qOH1bcwDzP2bw+R5DQ/Y/RLSuQOQp+D8+aif8yAz5P0Wv6eBKRfk/0i2+IN4R+T/ik8QNFZr4PyS5UD5j/Pc/yJ68zXRG9z/2CHPL54H2P59SOhwKtPU/npkP8dfg9D8NlmVcdQz0P80ugRvuOvM/byxiAHN18j9USVZie8nxP5l9lNXYSPE/OB+F0UYP8T8Y7dsUCTHxP3EBgTHPcPE/bfx15p8S8T8FT+xkGtTuP6mdG7rkxuk/pboqTkHX5D/CrN8qGYngP7R4ZaL+htU/\",\"dtype\":\"float64\",\"shape\":[75]},\"y\":{\"__ndarray__\":\"GhExyth1ND/Sv8nbtpRIP2vylNV0PVE/aTum7souWD/At0SJ8fVgPw3Iuahxymc/MSNhhJWvcD/bTfBN02d3P2zb5nxnaoA/CD5h5MAGhz8NmeH1TyaQP+zrCsc9p5Y/LbKd76fGnz/bLW5ISEmmPww9YvTcQq8/JV2OstnstT8Er5Y7M8G+P0c+r3jqkcU/5h99k6ZBzj88bCIzFzjVP4enV8oyxN0//yH99nXg5D8qOpLLf0jtP5kqGJXUifQ/c9cS8kHP/D+/DpwzojQEQIEmwoanVwxA4lgXt9HgE0BSSZ2AJuIbQAMJih9jjiNA5q4l5INuK0AwTKYKRj0zQNv5fmq8/DpAaCJseHrtQkB/+zpwzoxKQM3MzMzMeFJAZmZmZmZqWEAAAAAAAFxeQM3MzMzMJmJAmpmZmZkfZUBmZmZmZhhoQDMzMzMzEWtAAAAAAAAKbkBmZmZmZoFwQM3MzMzM/XFAMzMzMzN6c0CamZmZmfZ0QAAAAAAAc3ZAZmZmZmbvd0DNzMzMzGt5QDMzMzMz6HpAmpmZmZlkfEAAAAAAAOF9QGZmZmZmXX9AZmZmZuZsgECamZmZGSuBQM3MzMxM6YFAAAAAAICngkAzMzMzs2WDQGZmZmbmI4RAmpmZmRnihEDNzMzMTKCFQAAAAACAXoZAMzMzM7Mch0BmZmZm5tqHQJqZmZkZmYhAzczMzExXiUAAAAAAgBWKQDMzMzOz04pAZmZmZuaRi0CamZmZGVCMQM3MzMxMDo1AAAAAAIDMjUAzMzMzs4qOQGZmZmbmSI9A\",\"dtype\":\"float64\",\"shape\":[75]}},\"selected\":{\"id\":\"38c0d580-01a8-4e7e-9dec-1567407bce1a\",\"type\":\"Selection\"},\"selection_policy\":{\"id\":\"c80cad83-ac25-4951-a2c5-e3268c910f55\",\"type\":\"UnionRenderers\"}},\"id\":\"1a906025-e334-4739-b630-9f769c9f5ec0\",\"type\":\"ColumnDataSource\"},{\"attributes\":{\"fill_alpha\":{\"value\":0.7},\"fill_color\":{\"value\":\"#984ea3\"},\"line_alpha\":{\"value\":0.7},\"line_color\":{\"value\":\"#984ea3\"},\"x\":{\"field\":\"x\"},\"y\":{\"field\":\"y\"}},\"id\":\"275940ec-dad3-4e7e-8f6d-6a28bed33795\",\"type\":\"Circle\"},{\"attributes\":{\"data_source\":{\"id\":\"ae57205e-dd6e-4ef2-98f1-6a3354c7f0a7\",\"type\":\"ColumnDataSource\"},\"glyph\":{\"id\":\"96a37a10-a9e0-41cd-8ca4-f0cdce116b7e\",\"type\":\"Circle\"},\"hover_glyph\":null,\"muted_glyph\":null,\"nonselection_glyph\":{\"id\":\"d4e621cb-ff58-4df8-a8ca-b2d3fa27df5f\",\"type\":\"Circle\"},\"selection_glyph\":null,\"view\":{\"id\":\"10708596-a8c1-4cff-a07d-3c8a920514d0\",\"type\":\"CDSView\"}},\"id\":\"fcf0d456-164a-490a-ba1b-f35a9f82c0e0\",\"type\":\"GlyphRenderer\"},{\"attributes\":{\"callback\":null,\"data\":{\"x\":{\"__ndarray__\":\"dPEGK8OVQEDeoOdcKI48QFbHwpv6Wj5Ay6P+H0H1PkDQ4Pw1Pwc+QE/QQMz8iTtA2A4AykzZN0DdjedX4NEzQGtNrhl/gDBA2D3w2wNCLUCD8yO1LFEsQMSh3yrZ2SxAddHY/lW3LUCQJQyh8TwtQDsZ7GODoSpAi6Dn/2tIJ0DnDLMq6HUkQI7khOlE0SJADOiE4G6jIkCA/E90r7ojQD4p//OgKSZA0QfX6dGqJUCyytltEichQGghgfXIYRlAYiDp91xnE0B2wNHWtrQPQJ4m9qB2vgpAeJDQ8VfQBUDZ0VLI7iYCQFfZT3TydP8/LweR0IUK/T/QULeHxNj4P2vv6z6eL/Q/zgHEDC0f8T/QFWBxKcbuP44Jru1pXOw/gHqFfZV+5z+OfasQZCrhP6t1AyXK0t0/lna9be4v3T/c2Wqej6reP35gz5e/Ud4/nMqPj0zn3D8LaSXAL2PaPwxLIAIe8tI/ycIIktEE0T/QBmDBekPcP1FO88ASwOM/Iq2sIt+z6z9G6FH1eCvyPxuVEdtBb/U/iGRHMeCT9z8UPT1a/HH4P34cIRzqbvg/BVL+/E89+D8UZw90MO/3Pxe6cKnMffc/gpFKgkbl9j+HrQkEYjP2P3zN2LsygPU/XbOBIde49D8Mb12IkenzP3WIqqFOEvM/areay8ZI8j+L6oiWEKHxPzKOAUHPLvE/uT5D5rAN8T9sYOhno1DxP+7HZ16AqPE/jCnpRRNe8T/L5uQkGIfvP9VKN758h+o/8f1zKreS5T9uCZ6e1UPhP0M/OoB87NY/\",\"dtype\":\"float64\",\"shape\":[75]},\"y\":{\"__ndarray__\":\"GhExyth1ND/Sv8nbtpRIP2vylNV0PVE/aTum7souWD/At0SJ8fVgPw3Iuahxymc/MSNhhJWvcD/bTfBN02d3P2zb5nxnaoA/CD5h5MAGhz8NmeH1TyaQP+zrCsc9p5Y/LbKd76fGnz/bLW5ISEmmPww9YvTcQq8/JV2OstnstT8Er5Y7M8G+P0c+r3jqkcU/5h99k6ZBzj88bCIzFzjVP4enV8oyxN0//yH99nXg5D8qOpLLf0jtP5kqGJXUifQ/c9cS8kHP/D+/DpwzojQEQIEmwoanVwxA4lgXt9HgE0BSSZ2AJuIbQAMJih9jjiNA5q4l5INuK0AwTKYKRj0zQNv5fmq8/DpAaCJseHrtQkB/+zpwzoxKQM3MzMzMeFJAZmZmZmZqWEAAAAAAAFxeQM3MzMzMJmJAmpmZmZkfZUBmZmZmZhhoQDMzMzMzEWtAAAAAAAAKbkBmZmZmZoFwQM3MzMzM/XFAMzMzMzN6c0CamZmZmfZ0QAAAAAAAc3ZAZmZmZmbvd0DNzMzMzGt5QDMzMzMz6HpAmpmZmZlkfEAAAAAAAOF9QGZmZmZmXX9AZmZmZuZsgECamZmZGSuBQM3MzMxM6YFAAAAAAICngkAzMzMzs2WDQGZmZmbmI4RAmpmZmRnihEDNzMzMTKCFQAAAAACAXoZAMzMzM7Mch0BmZmZm5tqHQJqZmZkZmYhAzczMzExXiUAAAAAAgBWKQDMzMzOz04pAZmZmZuaRi0CamZmZGVCMQM3MzMxMDo1AAAAAAIDMjUAzMzMzs4qOQGZmZmbmSI9A\",\"dtype\":\"float64\",\"shape\":[75]}},\"selected\":{\"id\":\"2fa8e364-8730-4dcc-afe7-007da130c3b4\",\"type\":\"Selection\"},\"selection_policy\":{\"id\":\"e4166bee-cfce-46c1-8674-bcb2b37e909f\",\"type\":\"UnionRenderers\"}},\"id\":\"415d4de6-a9ea-46c0-94c0-0d2ea5bba5bd\",\"type\":\"ColumnDataSource\"},{\"attributes\":{},\"id\":\"64763dfa-1ff4-47d6-8cac-5386d8c62f65\",\"type\":\"UnionRenderers\"},{\"attributes\":{\"toolbar\":{\"id\":\"c5dfe1f0-ab2b-49c8-9590-dea3b9e33c0f\",\"type\":\"ProxyToolbar\"},\"toolbar_location\":\"above\"},\"id\":\"8b031d3e-aa17-47af-bb51-76a0b4cd52d1\",\"type\":\"ToolbarBox\"},{\"attributes\":{\"tools\":[{\"id\":\"d29a35f7-7741-445f-a5f6-a931a664fe61\",\"type\":\"PanTool\"},{\"id\":\"880ab7bc-63e0-406b-b56e-89985fac2796\",\"type\":\"WheelZoomTool\"},{\"id\":\"fd75ea49-1907-4591-ae99-1a7fd33596f0\",\"type\":\"BoxZoomTool\"},{\"id\":\"7e47e303-e5c7-4353-be5d-e1d1c6f486f2\",\"type\":\"SaveTool\"},{\"id\":\"21051203-a406-4914-ad88-fac712879e2b\",\"type\":\"ResetTool\"},{\"id\":\"f6a2e7ec-6a69-41c1-ba68-f29ed2806cc7\",\"type\":\"HelpTool\"},{\"id\":\"6ffce519-01b0-49fb-b5a6-4e5567a1c8b6\",\"type\":\"PanTool\"},{\"id\":\"65e2c0f2-dcd4-43e9-b2c7-e5943c5acd0d\",\"type\":\"WheelZoomTool\"},{\"id\":\"451d675f-7e9e-4226-854e-faa506745c86\",\"type\":\"BoxZoomTool\"},{\"id\":\"242dc124-5bf9-4840-ba3d-3b19f87bb674\",\"type\":\"SaveTool\"},{\"id\":\"82df1390-1405-4080-bd73-1b409fd0207f\",\"type\":\"ResetTool\"},{\"id\":\"3475b1c3-fc63-417b-a237-239d3343e619\",\"type\":\"HelpTool\"},{\"id\":\"e13aaa8e-5ce8-4724-b1e4-64fe17d92d25\",\"type\":\"PanTool\"},{\"id\":\"f0e7e2c9-b010-4344-b229-b68c0584af8d\",\"type\":\"WheelZoomTool\"},{\"id\":\"a5477138-ebf5-4e39-8e5a-f94ebd513790\",\"type\":\"BoxZoomTool\"},{\"id\":\"5f36d950-7f40-443f-b6b6-c79ce06d0369\",\"type\":\"SaveTool\"},{\"id\":\"a901b8a2-3665-415c-b0d8-651afd2bd951\",\"type\":\"ResetTool\"},{\"id\":\"9e85e8ca-2f92-409b-bb08-2b18550da335\",\"type\":\"HelpTool\"}]},\"id\":\"c5dfe1f0-ab2b-49c8-9590-dea3b9e33c0f\",\"type\":\"ProxyToolbar\"},{\"attributes\":{\"plot\":null,\"text\":\"\"},\"id\":\"ffe0013e-02ad-420e-81f4-c3574efe87dd\",\"type\":\"Title\"},{\"attributes\":{\"above\":[{\"id\":\"77c94c42-90a3-4608-91c4-40804f7dbbc3\",\"type\":\"Legend\"}],\"below\":[{\"id\":\"6f2460bc-3d0f-43c6-ab4a-da76aed8a899\",\"type\":\"LinearAxis\"}],\"left\":[{\"id\":\"85db8357-d5ab-4993-8158-3b29c6614686\",\"type\":\"LinearAxis\"}],\"plot_width\":300,\"renderers\":[{\"id\":\"6f2460bc-3d0f-43c6-ab4a-da76aed8a899\",\"type\":\"LinearAxis\"},{\"id\":\"6dca631c-e340-4a73-9b8a-ab0b6e6f7786\",\"type\":\"Grid\"},{\"id\":\"85db8357-d5ab-4993-8158-3b29c6614686\",\"type\":\"LinearAxis\"},{\"id\":\"b57e6493-1f0a-47dc-b85a-e8d44c47ab54\",\"type\":\"Grid\"},{\"id\":\"66efd77c-da77-4ddf-a473-35d139f72e7c\",\"type\":\"BoxAnnotation\"},{\"id\":\"3bdbf7d6-9a0c-457d-b8da-55b232faae8d\",\"type\":\"GlyphRenderer\"},{\"id\":\"9e00290e-0975-4a1e-bf03-6474eacfd3aa\",\"type\":\"GlyphRenderer\"},{\"id\":\"4fb4ad89-4330-4bda-8e6b-9f86263cfd90\",\"type\":\"GlyphRenderer\"},{\"id\":\"77c94c42-90a3-4608-91c4-40804f7dbbc3\",\"type\":\"Legend\"}],\"title\":{\"id\":\"ffe0013e-02ad-420e-81f4-c3574efe87dd\",\"type\":\"Title\"},\"toolbar\":{\"id\":\"94f3ae5d-fa9a-4a59-bfcf-4be526853748\",\"type\":\"Toolbar\"},\"toolbar_location\":null,\"x_range\":{\"id\":\"299b4a2a-c2ac-4cd3-b0e4-e0932b38dac3\",\"type\":\"Range1d\"},\"x_scale\":{\"id\":\"018a5963-acac-4b01-9f3f-7106b81ebad6\",\"type\":\"LinearScale\"},\"y_range\":{\"id\":\"1f5da2bd-9a94-4faf-8620-3eb5b7f49bdd\",\"type\":\"Range1d\"},\"y_scale\":{\"id\":\"c9abe851-d074-4ebc-9b70-d7512d767a4d\",\"type\":\"LinearScale\"}},\"id\":\"edf298db-8620-4d39-aa68-20fe2a3046d0\",\"subtype\":\"Figure\",\"type\":\"Plot\"},{\"attributes\":{\"source\":{\"id\":\"7dbef845-5bda-4bcf-8429-aefe7b9c0984\",\"type\":\"ColumnDataSource\"}},\"id\":\"6c89fd58-c340-4831-93ba-ab0eb7f27835\",\"type\":\"CDSView\"},{\"attributes\":{\"source\":{\"id\":\"ae57205e-dd6e-4ef2-98f1-6a3354c7f0a7\",\"type\":\"ColumnDataSource\"}},\"id\":\"10708596-a8c1-4cff-a07d-3c8a920514d0\",\"type\":\"CDSView\"},{\"attributes\":{},\"id\":\"0a7a7089-a35a-4e50-a2ab-fc31df82a9d3\",\"type\":\"Selection\"},{\"attributes\":{\"bottom_units\":\"screen\",\"fill_alpha\":{\"value\":0.5},\"fill_color\":{\"value\":\"lightgrey\"},\"left_units\":\"screen\",\"level\":\"overlay\",\"line_alpha\":{\"value\":1.0},\"line_color\":{\"value\":\"black\"},\"line_dash\":[4,4],\"line_width\":{\"value\":2},\"plot\":null,\"render_mode\":\"css\",\"right_units\":\"screen\",\"top_units\":\"screen\"},\"id\":\"e2510f7e-8801-4e38-9710-e5969065d41f\",\"type\":\"BoxAnnotation\"},{\"attributes\":{},\"id\":\"242dc124-5bf9-4840-ba3d-3b19f87bb674\",\"type\":\"SaveTool\"},{\"attributes\":{\"data_source\":{\"id\":\"415d4de6-a9ea-46c0-94c0-0d2ea5bba5bd\",\"type\":\"ColumnDataSource\"},\"glyph\":{\"id\":\"8b7d66ff-1367-4831-a222-d3fe43e5b7cd\",\"type\":\"Line\"},\"hover_glyph\":null,\"muted_glyph\":null,\"nonselection_glyph\":{\"id\":\"316ef5a6-e4fb-4d46-a0b8-a9dee5198996\",\"type\":\"Line\"},\"selection_glyph\":null,\"view\":{\"id\":\"8b6bab7f-0260-4e94-b076-c3d97064bdb4\",\"type\":\"CDSView\"}},\"id\":\"3bdbf7d6-9a0c-457d-b8da-55b232faae8d\",\"type\":\"GlyphRenderer\"},{\"attributes\":{\"label\":{\"value\":\"CLIRAD (single-run) - CRD\"},\"renderers\":[{\"id\":\"35af93ea-5cae-4811-af6d-78eb07802034\",\"type\":\"GlyphRenderer\"},{\"id\":\"6ec5287b-91be-4c64-917a-d5b9547c5b0e\",\"type\":\"GlyphRenderer\"}]},\"id\":\"bf5d5b4f-3d0d-4355-b509-034d8304c3b0\",\"type\":\"LegendItem\"},{\"attributes\":{\"line_color\":\"#4daf4a\",\"line_width\":1.5,\"x\":{\"field\":\"x\"},\"y\":{\"field\":\"y\"}},\"id\":\"79c9a8bc-31f2-4f78-9975-d5f1dc98190c\",\"type\":\"Line\"},{\"attributes\":{},\"id\":\"7e47e303-e5c7-4353-be5d-e1d1c6f486f2\",\"type\":\"SaveTool\"},{\"attributes\":{},\"id\":\"2fa8e364-8730-4dcc-afe7-007da130c3b4\",\"type\":\"Selection\"},{\"attributes\":{\"fill_alpha\":{\"value\":0.1},\"fill_color\":{\"value\":\"#1f77b4\"},\"line_alpha\":{\"value\":0.1},\"line_color\":{\"value\":\"#1f77b4\"},\"x\":{\"field\":\"x\"},\"y\":{\"field\":\"y\"}},\"id\":\"d4e621cb-ff58-4df8-a8ca-b2d3fa27df5f\",\"type\":\"Circle\"},{\"attributes\":{\"children\":[{\"id\":\"8b031d3e-aa17-47af-bb51-76a0b4cd52d1\",\"type\":\"ToolbarBox\"},{\"id\":\"ae55f43f-dc03-46c4-a485-96bbad54a810\",\"type\":\"Column\"}]},\"id\":\"c7f52e52-9f72-4ff5-8df1-b4075f5116e5\",\"type\":\"Column\"},{\"attributes\":{\"line_alpha\":0.1,\"line_color\":\"#1f77b4\",\"line_width\":1.5,\"x\":{\"field\":\"x\"},\"y\":{\"field\":\"y\"}},\"id\":\"0217f666-c813-4070-97f7-7bd8d43c174a\",\"type\":\"Line\"},{\"attributes\":{},\"id\":\"c27fc696-60a9-43b0-a098-b5c46c3fb790\",\"type\":\"UnionRenderers\"},{\"attributes\":{},\"id\":\"65e2c0f2-dcd4-43e9-b2c7-e5943c5acd0d\",\"type\":\"WheelZoomTool\"},{\"attributes\":{},\"id\":\"38c0d580-01a8-4e7e-9dec-1567407bce1a\",\"type\":\"Selection\"}],\"root_ids\":[\"c7f52e52-9f72-4ff5-8df1-b4075f5116e5\"]},\"title\":\"Bokeh Application\",\"version\":\"0.12.16\"}};\n",
       "  var render_items = [{\"docid\":\"a228e4d2-a16c-48b8-a382-7447a98f824a\",\"elementid\":\"c757a191-085c-425f-a3f5-56fa7bd662e1\",\"modelid\":\"c7f52e52-9f72-4ff5-8df1-b4075f5116e5\"}];\n",
       "  root.Bokeh.embed.embed_items_notebook(docs_json, render_items);\n",
       "\n",
       "  }\n",
       "  if (root.Bokeh !== undefined) {\n",
       "    embed_document(root);\n",
       "  } else {\n",
       "    var attempts = 0;\n",
       "    var timer = setInterval(function(root) {\n",
       "      if (root.Bokeh !== undefined) {\n",
       "        embed_document(root);\n",
       "        clearInterval(timer);\n",
       "      }\n",
       "      attempts++;\n",
       "      if (attempts > 100) {\n",
       "        console.log(\"Bokeh: ERROR: Unable to run BokehJS code because BokehJS library is missing\")\n",
       "        clearInterval(timer);\n",
       "      }\n",
       "    }, 10, root)\n",
       "  }\n",
       "})(window);"
      ],
      "application/vnd.bokehjs_exec.v0+json": ""
     },
     "metadata": {
      "application/vnd.bokehjs_exec.v0+json": {
       "id": "c7f52e52-9f72-4ff5-8df1-b4075f5116e5"
      }
     },
     "output_type": "display_data"
    },
    {
     "data": {
      "text/markdown": [
       "*FIGURE.* Cooling rates & difference."
      ],
      "text/plain": [
       "<IPython.core.display.Markdown object>"
      ]
     },
     "metadata": {},
     "output_type": "display_data"
    },
    {
     "data": {
      "text/html": [
       "<a id=\"Fluxes._saw.\"></a>"
      ],
      "text/plain": [
       "<IPython.core.display.HTML object>"
      ]
     },
     "metadata": {},
     "output_type": "display_data"
    },
    {
     "data": {
      "text/markdown": [
       "# Fluxes. saw."
      ],
      "text/plain": [
       "<IPython.core.display.Markdown object>"
      ]
     },
     "metadata": {},
     "output_type": "display_data"
    },
    {
     "data": {
      "text/html": [
       "\n",
       "<div class=\"bk-root\">\n",
       "    <div class=\"bk-plotdiv\" id=\"0fee9e33-fff6-4e06-9bd9-9b15a2b43add\"></div>\n",
       "</div>"
      ]
     },
     "metadata": {},
     "output_type": "display_data"
    },
    {
     "data": {
      "application/javascript": [
       "(function(root) {\n",
       "  function embed_document(root) {\n",
       "    \n",
       "  var docs_json = {\"7ff471a6-35c1-4125-bcc6-6b6ebf45d4a8\":{\"roots\":{\"references\":[{\"attributes\":{},\"id\":\"3b6056f8-a981-4128-877b-b38aa331a359\",\"type\":\"CategoricalTickFormatter\"},{\"attributes\":{\"data_source\":{\"id\":\"3e6b9850-bc9d-4e54-9ed0-da800de09d36\",\"type\":\"ColumnDataSource\"},\"glyph\":{\"id\":\"53206f8b-d975-492e-a469-4595398d90c4\",\"type\":\"VBar\"},\"hover_glyph\":null,\"muted_glyph\":null,\"nonselection_glyph\":{\"id\":\"cf79eec3-7360-43c2-b209-241590eaf985\",\"type\":\"VBar\"},\"selection_glyph\":null,\"view\":{\"id\":\"0348f607-37cf-4920-9834-f458bcd54193\",\"type\":\"CDSView\"}},\"id\":\"226e5801-dd5e-488e-a08f-73d1f6f879e1\",\"type\":\"GlyphRenderer\"},{\"attributes\":{\"fill_color\":{\"value\":\"#1f77b4\"},\"line_color\":{\"value\":\"#1f77b4\"},\"top\":{\"field\":\"flux\"},\"width\":{\"value\":0.9},\"x\":{\"field\":\"band\"}},\"id\":\"53206f8b-d975-492e-a469-4595398d90c4\",\"type\":\"VBar\"},{\"attributes\":{\"overlay\":{\"id\":\"25987c96-2461-4243-85de-0b2ef60c04b3\",\"type\":\"BoxAnnotation\"}},\"id\":\"5bec8c25-a200-4ccf-81e3-68d4dea6c0f6\",\"type\":\"BoxZoomTool\"},{\"attributes\":{\"callback\":null},\"id\":\"a70266bd-3bb9-42f6-8bdb-922fc0d6eb62\",\"type\":\"DataRange1d\"},{\"attributes\":{\"callback\":null,\"factors\":[\"1\",\"2\",\"3\",\"4\",\"5\",\"6\",\"7\",\"8\",\"9\",\"10\",\"11\"]},\"id\":\"194a509d-2122-465e-86e3-f4da56bb1a3d\",\"type\":\"FactorRange\"},{\"attributes\":{},\"id\":\"e183cd1f-2e15-4b96-a137-11acfed49681\",\"type\":\"LinearScale\"},{\"attributes\":{\"active_drag\":\"auto\",\"active_inspect\":\"auto\",\"active_scroll\":\"auto\",\"active_tap\":\"auto\",\"tools\":[{\"id\":\"09e7f418-1fc3-44f6-b7ea-b7df37054fdd\",\"type\":\"PanTool\"},{\"id\":\"2b0b3a38-f299-43eb-8005-666117505407\",\"type\":\"WheelZoomTool\"},{\"id\":\"f112b24b-f978-40f0-a983-897b6c852913\",\"type\":\"BoxZoomTool\"},{\"id\":\"48c782ef-66e4-4cbe-976a-56e277ca91a7\",\"type\":\"SaveTool\"},{\"id\":\"474b4d64-1836-4357-a51e-00d059bddc24\",\"type\":\"ResetTool\"},{\"id\":\"b72846a4-6d9e-4c95-9963-6984ce32fe5e\",\"type\":\"HelpTool\"}]},\"id\":\"5aaa8c74-d6f6-4000-aec7-6338a2050d5a\",\"type\":\"Toolbar\"},{\"attributes\":{\"callback\":null,\"factors\":[\"1\",\"2\",\"3\",\"4\",\"5\",\"6\",\"7\",\"8\",\"9\",\"10\",\"11\"]},\"id\":\"bd798f62-7697-4325-9f9c-d4852b7641f8\",\"type\":\"FactorRange\"},{\"attributes\":{\"overlay\":{\"id\":\"af5f9103-0dee-473b-bd56-80debf69a3fa\",\"type\":\"BoxAnnotation\"}},\"id\":\"f112b24b-f978-40f0-a983-897b6c852913\",\"type\":\"BoxZoomTool\"},{\"attributes\":{},\"id\":\"dba61201-8105-4314-bf06-b4f8b6b8a817\",\"type\":\"CategoricalTicker\"},{\"attributes\":{},\"id\":\"d74b0684-77a9-4393-9fea-1f05116d427b\",\"type\":\"BasicTicker\"},{\"attributes\":{\"callback\":null},\"id\":\"79733ed8-4c08-4fa0-8057-2185a61676e0\",\"type\":\"DataRange1d\"},{\"attributes\":{\"active_drag\":\"auto\",\"active_inspect\":\"auto\",\"active_scroll\":\"auto\",\"active_tap\":\"auto\",\"tools\":[{\"id\":\"e65988d7-21aa-42d2-9994-ee76d3548de4\",\"type\":\"PanTool\"},{\"id\":\"46a40c25-9f67-47c8-8915-b02a7e71d614\",\"type\":\"WheelZoomTool\"},{\"id\":\"5bec8c25-a200-4ccf-81e3-68d4dea6c0f6\",\"type\":\"BoxZoomTool\"},{\"id\":\"2fe43959-4189-4238-ba0f-2e8d499b288c\",\"type\":\"SaveTool\"},{\"id\":\"71edbd4a-b802-4a79-86cf-fc634d01e2ab\",\"type\":\"ResetTool\"},{\"id\":\"4fd98700-1c3a-477e-9504-12ebd3531ca1\",\"type\":\"HelpTool\"}]},\"id\":\"afc42112-b485-4082-95f1-9a8730914c58\",\"type\":\"Toolbar\"},{\"attributes\":{\"callback\":null,\"data\":{\"band\":[\"1\",\"2\",\"3\",\"4\",\"5\",\"6\",\"7\",\"8\",\"9\",\"10\",\"11\"],\"flux\":{\"__ndarray__\":\"AEDdJAaBZb8Asg5HV+nAvwA2IEJcueC/AAeY+Q5+tj/A8wOyMnXIPyAWSPVCprm/QFhl8EEZsD/ga9jnGC20vwDdJRad0ZM/AJDEy9O5oj8Ad2DnQ6NtPw==\",\"dtype\":\"float64\",\"shape\":[11]}},\"selected\":{\"id\":\"7d63cea0-ff63-41ca-b75e-7dd9e66b7c71\",\"type\":\"Selection\"},\"selection_policy\":{\"id\":\"5d6e8c35-cba0-4c04-9da2-95cb7a1dbb3e\",\"type\":\"UnionRenderers\"}},\"id\":\"3e6b9850-bc9d-4e54-9ed0-da800de09d36\",\"type\":\"ColumnDataSource\"},{\"attributes\":{},\"id\":\"09e7f418-1fc3-44f6-b7ea-b7df37054fdd\",\"type\":\"PanTool\"},{\"attributes\":{\"plot\":{\"id\":\"3ce2eccc-8a0c-4992-afe5-1342eddf45a1\",\"subtype\":\"Figure\",\"type\":\"Plot\"},\"ticker\":{\"id\":\"dba61201-8105-4314-bf06-b4f8b6b8a817\",\"type\":\"CategoricalTicker\"}},\"id\":\"c1658ea7-0e86-4712-8550-1c416e1e8e52\",\"type\":\"Grid\"},{\"attributes\":{\"data_source\":{\"id\":\"6afc0405-db14-4781-ab27-34dfb170578e\",\"type\":\"ColumnDataSource\"},\"glyph\":{\"id\":\"e28ad685-9195-4d02-aa68-fda863a0e8ef\",\"type\":\"VBar\"},\"hover_glyph\":null,\"muted_glyph\":null,\"nonselection_glyph\":{\"id\":\"9f84bea1-5e6c-418a-b2fb-d28acf4fbf85\",\"type\":\"VBar\"},\"selection_glyph\":null,\"view\":{\"id\":\"f24ccf3a-8275-4f8b-aedc-0514673b1191\",\"type\":\"CDSView\"}},\"id\":\"064e4bba-2bc0-47fb-8108-544c96511636\",\"type\":\"GlyphRenderer\"},{\"attributes\":{},\"id\":\"2fe43959-4189-4238-ba0f-2e8d499b288c\",\"type\":\"SaveTool\"},{\"attributes\":{},\"id\":\"2b0b3a38-f299-43eb-8005-666117505407\",\"type\":\"WheelZoomTool\"},{\"attributes\":{},\"id\":\"474b4d64-1836-4357-a51e-00d059bddc24\",\"type\":\"ResetTool\"},{\"attributes\":{},\"id\":\"d934e591-557b-4dac-a443-04692af214b9\",\"type\":\"BasicTicker\"},{\"attributes\":{\"below\":[{\"id\":\"cb4b164a-c0e7-4654-84c4-d0c2dcbb468e\",\"type\":\"CategoricalAxis\"}],\"left\":[{\"id\":\"9f726af0-189d-40f0-9f6a-a2ff20335906\",\"type\":\"LinearAxis\"}],\"plot_height\":300,\"plot_width\":300,\"renderers\":[{\"id\":\"cb4b164a-c0e7-4654-84c4-d0c2dcbb468e\",\"type\":\"CategoricalAxis\"},{\"id\":\"1d80c5bc-736f-48ab-9562-6be9935958e7\",\"type\":\"Grid\"},{\"id\":\"9f726af0-189d-40f0-9f6a-a2ff20335906\",\"type\":\"LinearAxis\"},{\"id\":\"496a57e2-dc23-40dd-b4fd-88ae16b54d1b\",\"type\":\"Grid\"},{\"id\":\"25987c96-2461-4243-85de-0b2ef60c04b3\",\"type\":\"BoxAnnotation\"},{\"id\":\"226e5801-dd5e-488e-a08f-73d1f6f879e1\",\"type\":\"GlyphRenderer\"}],\"title\":{\"id\":\"dbf8a0df-7743-4e5c-bf29-d5017e5c0763\",\"type\":\"Title\"},\"toolbar\":{\"id\":\"afc42112-b485-4082-95f1-9a8730914c58\",\"type\":\"Toolbar\"},\"toolbar_location\":null,\"x_range\":{\"id\":\"bd798f62-7697-4325-9f9c-d4852b7641f8\",\"type\":\"FactorRange\"},\"x_scale\":{\"id\":\"6478e183-1177-4fd0-a58d-58c0d52c2653\",\"type\":\"CategoricalScale\"},\"y_range\":{\"id\":\"a70266bd-3bb9-42f6-8bdb-922fc0d6eb62\",\"type\":\"DataRange1d\"},\"y_scale\":{\"id\":\"c9d84e14-ae0e-4feb-9b2d-0eb55af41cc3\",\"type\":\"LinearScale\"}},\"id\":\"cc915641-b751-4c30-ba75-299777cc19d4\",\"subtype\":\"Figure\",\"type\":\"Plot\"},{\"attributes\":{\"fill_alpha\":{\"value\":0.1},\"fill_color\":{\"value\":\"#1f77b4\"},\"line_alpha\":{\"value\":0.1},\"line_color\":{\"value\":\"#1f77b4\"},\"top\":{\"field\":\"flux\"},\"width\":{\"value\":0.9},\"x\":{\"field\":\"band\"}},\"id\":\"cf79eec3-7360-43c2-b209-241590eaf985\",\"type\":\"VBar\"},{\"attributes\":{\"plot\":{\"id\":\"cc915641-b751-4c30-ba75-299777cc19d4\",\"subtype\":\"Figure\",\"type\":\"Plot\"},\"ticker\":{\"id\":\"3c716cfe-7a91-4f82-8f48-990d622a237e\",\"type\":\"CategoricalTicker\"}},\"id\":\"1d80c5bc-736f-48ab-9562-6be9935958e7\",\"type\":\"Grid\"},{\"attributes\":{},\"id\":\"ab3b049b-8678-47bf-9ce8-f1123b4a13f9\",\"type\":\"CategoricalScale\"},{\"attributes\":{},\"id\":\"762352ad-bd65-495c-a431-a909ebe94ea6\",\"type\":\"WheelZoomTool\"},{\"attributes\":{\"axis_label\":\"flux (W m-2)\",\"formatter\":{\"id\":\"0b1ee033-315e-4bd9-96fb-be8a4f83447a\",\"type\":\"BasicTickFormatter\"},\"plot\":{\"id\":\"cc915641-b751-4c30-ba75-299777cc19d4\",\"subtype\":\"Figure\",\"type\":\"Plot\"},\"ticker\":{\"id\":\"d74b0684-77a9-4393-9fea-1f05116d427b\",\"type\":\"BasicTicker\"}},\"id\":\"9f726af0-189d-40f0-9f6a-a2ff20335906\",\"type\":\"LinearAxis\"},{\"attributes\":{},\"id\":\"581d3a21-3d25-4613-86c7-a1dd3e4640cd\",\"type\":\"BasicTickFormatter\"},{\"attributes\":{},\"id\":\"7d63cea0-ff63-41ca-b75e-7dd9e66b7c71\",\"type\":\"Selection\"},{\"attributes\":{},\"id\":\"48c782ef-66e4-4cbe-976a-56e277ca91a7\",\"type\":\"SaveTool\"},{\"attributes\":{},\"id\":\"b72846a4-6d9e-4c95-9963-6984ce32fe5e\",\"type\":\"HelpTool\"},{\"attributes\":{},\"id\":\"f46749f1-7a5a-4606-9de8-cb7631aff4a3\",\"type\":\"UnionRenderers\"},{\"attributes\":{\"plot\":null,\"text\":\"TOA flux. CLIRAD (single-run) - CRD.\"},\"id\":\"e606c524-cfda-4745-8cd3-be27d95f2e01\",\"type\":\"Title\"},{\"attributes\":{},\"id\":\"3c35f8e4-d47e-4d14-ae8e-2ce2e0ba33b5\",\"type\":\"CategoricalTickFormatter\"},{\"attributes\":{\"children\":[{\"id\":\"adbddbf0-7008-4b13-a9ed-07e301f5d889\",\"type\":\"Row\"}]},\"id\":\"ed691b2d-7f05-4e06-9e42-23d67c8d7b7a\",\"type\":\"Column\"},{\"attributes\":{},\"id\":\"4fd98700-1c3a-477e-9504-12ebd3531ca1\",\"type\":\"HelpTool\"},{\"attributes\":{\"source\":{\"id\":\"6afc0405-db14-4781-ab27-34dfb170578e\",\"type\":\"ColumnDataSource\"}},\"id\":\"f24ccf3a-8275-4f8b-aedc-0514673b1191\",\"type\":\"CDSView\"},{\"attributes\":{},\"id\":\"0b1ee033-315e-4bd9-96fb-be8a4f83447a\",\"type\":\"BasicTickFormatter\"},{\"attributes\":{},\"id\":\"6478e183-1177-4fd0-a58d-58c0d52c2653\",\"type\":\"CategoricalScale\"},{\"attributes\":{},\"id\":\"31657bd1-7cdb-493a-97ec-dc13c0afff68\",\"type\":\"UnionRenderers\"},{\"attributes\":{},\"id\":\"8e5bb853-f9dc-49a1-9b59-781101e37e0c\",\"type\":\"ResetTool\"},{\"attributes\":{\"active_drag\":\"auto\",\"active_inspect\":\"auto\",\"active_scroll\":\"auto\",\"active_tap\":\"auto\",\"tools\":[{\"id\":\"4b3fa837-123c-4f6b-97e5-8f56e2318561\",\"type\":\"PanTool\"},{\"id\":\"762352ad-bd65-495c-a431-a909ebe94ea6\",\"type\":\"WheelZoomTool\"},{\"id\":\"cfe2c9b7-4229-4220-b1f4-d90988450bf9\",\"type\":\"BoxZoomTool\"},{\"id\":\"8d428f97-1ade-468c-8b08-ffb9b327ac80\",\"type\":\"SaveTool\"},{\"id\":\"8e5bb853-f9dc-49a1-9b59-781101e37e0c\",\"type\":\"ResetTool\"},{\"id\":\"e78f8154-66b7-4e51-a079-0112993da2ad\",\"type\":\"HelpTool\"}]},\"id\":\"7bb913c0-d481-4d25-8e18-d34a8cf76bb8\",\"type\":\"Toolbar\"},{\"attributes\":{},\"id\":\"5d6e8c35-cba0-4c04-9da2-95cb7a1dbb3e\",\"type\":\"UnionRenderers\"},{\"attributes\":{},\"id\":\"71edbd4a-b802-4a79-86cf-fc634d01e2ab\",\"type\":\"ResetTool\"},{\"attributes\":{},\"id\":\"d3e84328-caa5-4a8b-99ad-655de1ab1d56\",\"type\":\"Selection\"},{\"attributes\":{\"source\":{\"id\":\"3e6b9850-bc9d-4e54-9ed0-da800de09d36\",\"type\":\"ColumnDataSource\"}},\"id\":\"0348f607-37cf-4920-9834-f458bcd54193\",\"type\":\"CDSView\"},{\"attributes\":{\"callback\":null,\"factors\":[\"1\",\"2\",\"3\",\"4\",\"5\",\"6\",\"7\",\"8\",\"9\",\"10\",\"11\"]},\"id\":\"2d28bdc1-a6f1-44de-9f50-9f8d5e8ec04d\",\"type\":\"FactorRange\"},{\"attributes\":{\"tools\":[{\"id\":\"4b3fa837-123c-4f6b-97e5-8f56e2318561\",\"type\":\"PanTool\"},{\"id\":\"762352ad-bd65-495c-a431-a909ebe94ea6\",\"type\":\"WheelZoomTool\"},{\"id\":\"cfe2c9b7-4229-4220-b1f4-d90988450bf9\",\"type\":\"BoxZoomTool\"},{\"id\":\"8d428f97-1ade-468c-8b08-ffb9b327ac80\",\"type\":\"SaveTool\"},{\"id\":\"8e5bb853-f9dc-49a1-9b59-781101e37e0c\",\"type\":\"ResetTool\"},{\"id\":\"e78f8154-66b7-4e51-a079-0112993da2ad\",\"type\":\"HelpTool\"},{\"id\":\"e65988d7-21aa-42d2-9994-ee76d3548de4\",\"type\":\"PanTool\"},{\"id\":\"46a40c25-9f67-47c8-8915-b02a7e71d614\",\"type\":\"WheelZoomTool\"},{\"id\":\"5bec8c25-a200-4ccf-81e3-68d4dea6c0f6\",\"type\":\"BoxZoomTool\"},{\"id\":\"2fe43959-4189-4238-ba0f-2e8d499b288c\",\"type\":\"SaveTool\"},{\"id\":\"71edbd4a-b802-4a79-86cf-fc634d01e2ab\",\"type\":\"ResetTool\"},{\"id\":\"4fd98700-1c3a-477e-9504-12ebd3531ca1\",\"type\":\"HelpTool\"},{\"id\":\"09e7f418-1fc3-44f6-b7ea-b7df37054fdd\",\"type\":\"PanTool\"},{\"id\":\"2b0b3a38-f299-43eb-8005-666117505407\",\"type\":\"WheelZoomTool\"},{\"id\":\"f112b24b-f978-40f0-a983-897b6c852913\",\"type\":\"BoxZoomTool\"},{\"id\":\"48c782ef-66e4-4cbe-976a-56e277ca91a7\",\"type\":\"SaveTool\"},{\"id\":\"474b4d64-1836-4357-a51e-00d059bddc24\",\"type\":\"ResetTool\"},{\"id\":\"b72846a4-6d9e-4c95-9963-6984ce32fe5e\",\"type\":\"HelpTool\"}]},\"id\":\"6a8e83fa-1f5d-42a2-b4ee-5db7366080ef\",\"type\":\"ProxyToolbar\"},{\"attributes\":{},\"id\":\"d8bf15ca-8e04-4407-8ceb-75136a6a1211\",\"type\":\"Selection\"},{\"attributes\":{},\"id\":\"c37f6551-82ed-4a2c-9391-0299ea6ad0c4\",\"type\":\"BasicTickFormatter\"},{\"attributes\":{\"children\":[{\"id\":\"58203d8a-16b0-4ab8-8123-c6bd4b7970c0\",\"type\":\"ToolbarBox\"},{\"id\":\"ed691b2d-7f05-4e06-9e42-23d67c8d7b7a\",\"type\":\"Column\"}]},\"id\":\"bee365da-b3a1-4da8-8633-6f0d03e905b2\",\"type\":\"Column\"},{\"attributes\":{\"overlay\":{\"id\":\"a2ff3d12-3cfb-4d00-84a7-17310ae8e996\",\"type\":\"BoxAnnotation\"}},\"id\":\"cfe2c9b7-4229-4220-b1f4-d90988450bf9\",\"type\":\"BoxZoomTool\"},{\"attributes\":{\"plot\":null,\"text\":\"SFC flux. CLIRAD (single-run) - CRD.\"},\"id\":\"dbf8a0df-7743-4e5c-bf29-d5017e5c0763\",\"type\":\"Title\"},{\"attributes\":{\"axis_label\":\"flux (W m-2)\",\"formatter\":{\"id\":\"581d3a21-3d25-4613-86c7-a1dd3e4640cd\",\"type\":\"BasicTickFormatter\"},\"plot\":{\"id\":\"3ce2eccc-8a0c-4992-afe5-1342eddf45a1\",\"subtype\":\"Figure\",\"type\":\"Plot\"},\"ticker\":{\"id\":\"d934e591-557b-4dac-a443-04692af214b9\",\"type\":\"BasicTicker\"}},\"id\":\"9aa61a69-8509-43e8-b490-57168a9ae7ec\",\"type\":\"LinearAxis\"},{\"attributes\":{\"axis_label\":\"spectral band\",\"formatter\":{\"id\":\"0c7d170f-94d5-463d-8c0a-f2ad0bc78f24\",\"type\":\"CategoricalTickFormatter\"},\"plot\":{\"id\":\"3ce2eccc-8a0c-4992-afe5-1342eddf45a1\",\"subtype\":\"Figure\",\"type\":\"Plot\"},\"ticker\":{\"id\":\"dba61201-8105-4314-bf06-b4f8b6b8a817\",\"type\":\"CategoricalTicker\"}},\"id\":\"80c95a11-410b-4562-945f-45fb6e01b854\",\"type\":\"CategoricalAxis\"},{\"attributes\":{\"dimension\":1,\"plot\":{\"id\":\"3ce2eccc-8a0c-4992-afe5-1342eddf45a1\",\"subtype\":\"Figure\",\"type\":\"Plot\"},\"ticker\":{\"id\":\"d934e591-557b-4dac-a443-04692af214b9\",\"type\":\"BasicTicker\"}},\"id\":\"54e99f91-13a2-452e-955c-91be530c1558\",\"type\":\"Grid\"},{\"attributes\":{\"fill_color\":{\"value\":\"#1f77b4\"},\"line_color\":{\"value\":\"#1f77b4\"},\"top\":{\"field\":\"flux\"},\"width\":{\"value\":0.9},\"x\":{\"field\":\"band\"}},\"id\":\"76f9caa1-9e2b-449e-8b57-8c02c2d05fb6\",\"type\":\"VBar\"},{\"attributes\":{\"callback\":null,\"data\":{\"band\":[\"1\",\"2\",\"3\",\"4\",\"5\",\"6\",\"7\",\"8\",\"9\",\"10\",\"11\"],\"flux\":{\"__ndarray__\":\"gOIKWg6Vxz8AZUNIJ1zKP8BwLN5+r9w/QMdlApwjxj+ArqKa7WW4vwBJ8fEJ2bU/gB6GVidnzD+AUnx8QnawPwDBKhcq/4o/gEM6lz1kpb+AJgqhQRKPPw==\",\"dtype\":\"float64\",\"shape\":[11]}},\"selected\":{\"id\":\"d8bf15ca-8e04-4407-8ceb-75136a6a1211\",\"type\":\"Selection\"},\"selection_policy\":{\"id\":\"31657bd1-7cdb-493a-97ec-dc13c0afff68\",\"type\":\"UnionRenderers\"}},\"id\":\"6afc0405-db14-4781-ab27-34dfb170578e\",\"type\":\"ColumnDataSource\"},{\"attributes\":{\"callback\":null,\"data\":{\"band\":[\"1\",\"2\",\"3\",\"4\",\"5\",\"6\",\"7\",\"8\",\"9\",\"10\",\"11\"],\"flux\":{\"__ndarray__\":\"gGLUtfY+xz8ABgWlaOWyPwDVO9wODbO/gApHkEqx0D8Ans4VpYS4PwDQ+uk/a46/IIOj5NU50j8AHErtRbSNv4BE2safqKA/AGgLdJJSdb+AbxLeeT2TPw==\",\"dtype\":\"float64\",\"shape\":[11]}},\"selected\":{\"id\":\"d3e84328-caa5-4a8b-99ad-655de1ab1d56\",\"type\":\"Selection\"},\"selection_policy\":{\"id\":\"f46749f1-7a5a-4606-9de8-cb7631aff4a3\",\"type\":\"UnionRenderers\"}},\"id\":\"65461ec9-a492-4241-8ba8-8c8fcd442e26\",\"type\":\"ColumnDataSource\"},{\"attributes\":{\"fill_alpha\":{\"value\":0.1},\"fill_color\":{\"value\":\"#1f77b4\"},\"line_alpha\":{\"value\":0.1},\"line_color\":{\"value\":\"#1f77b4\"},\"top\":{\"field\":\"flux\"},\"width\":{\"value\":0.9},\"x\":{\"field\":\"band\"}},\"id\":\"79e910e1-82f2-444c-af39-ae5bffcf11b2\",\"type\":\"VBar\"},{\"attributes\":{},\"id\":\"8d428f97-1ade-468c-8b08-ffb9b327ac80\",\"type\":\"SaveTool\"},{\"attributes\":{\"bottom_units\":\"screen\",\"fill_alpha\":{\"value\":0.5},\"fill_color\":{\"value\":\"lightgrey\"},\"left_units\":\"screen\",\"level\":\"overlay\",\"line_alpha\":{\"value\":1.0},\"line_color\":{\"value\":\"black\"},\"line_dash\":[4,4],\"line_width\":{\"value\":2},\"plot\":null,\"render_mode\":\"css\",\"right_units\":\"screen\",\"top_units\":\"screen\"},\"id\":\"a2ff3d12-3cfb-4d00-84a7-17310ae8e996\",\"type\":\"BoxAnnotation\"},{\"attributes\":{\"dimension\":1,\"plot\":{\"id\":\"cc915641-b751-4c30-ba75-299777cc19d4\",\"subtype\":\"Figure\",\"type\":\"Plot\"},\"ticker\":{\"id\":\"d74b0684-77a9-4393-9fea-1f05116d427b\",\"type\":\"BasicTicker\"}},\"id\":\"496a57e2-dc23-40dd-b4fd-88ae16b54d1b\",\"type\":\"Grid\"},{\"attributes\":{},\"id\":\"c9d84e14-ae0e-4feb-9b2d-0eb55af41cc3\",\"type\":\"LinearScale\"},{\"attributes\":{\"source\":{\"id\":\"65461ec9-a492-4241-8ba8-8c8fcd442e26\",\"type\":\"ColumnDataSource\"}},\"id\":\"116ebc65-4fcf-41fc-861f-658d48a782e9\",\"type\":\"CDSView\"},{\"attributes\":{},\"id\":\"0c7d170f-94d5-463d-8c0a-f2ad0bc78f24\",\"type\":\"CategoricalTickFormatter\"},{\"attributes\":{\"dimension\":1,\"plot\":{\"id\":\"628092e6-5e64-49b9-98ac-096e2d4000f3\",\"subtype\":\"Figure\",\"type\":\"Plot\"},\"ticker\":{\"id\":\"a21a4568-461a-4955-a6f0-2040d60d6395\",\"type\":\"BasicTicker\"}},\"id\":\"5c241e84-7568-4798-bf7e-df5d633696a7\",\"type\":\"Grid\"},{\"attributes\":{\"bottom_units\":\"screen\",\"fill_alpha\":{\"value\":0.5},\"fill_color\":{\"value\":\"lightgrey\"},\"left_units\":\"screen\",\"level\":\"overlay\",\"line_alpha\":{\"value\":1.0},\"line_color\":{\"value\":\"black\"},\"line_dash\":[4,4],\"line_width\":{\"value\":2},\"plot\":null,\"render_mode\":\"css\",\"right_units\":\"screen\",\"top_units\":\"screen\"},\"id\":\"25987c96-2461-4243-85de-0b2ef60c04b3\",\"type\":\"BoxAnnotation\"},{\"attributes\":{},\"id\":\"e78f8154-66b7-4e51-a079-0112993da2ad\",\"type\":\"HelpTool\"},{\"attributes\":{\"plot\":null,\"text\":\"Atmosphere heating. CLIRAD (single-run) - CRD.\"},\"id\":\"7f86670c-df68-4e16-8d89-cf599dfac79b\",\"type\":\"Title\"},{\"attributes\":{},\"id\":\"d6bb0549-9a56-4263-bea1-6101ca5b2b90\",\"type\":\"CategoricalScale\"},{\"attributes\":{\"below\":[{\"id\":\"97474d48-ae32-454f-8727-e0428cfe0229\",\"type\":\"CategoricalAxis\"}],\"left\":[{\"id\":\"17114180-5eed-4386-8419-93597f932451\",\"type\":\"LinearAxis\"}],\"plot_height\":300,\"plot_width\":300,\"renderers\":[{\"id\":\"97474d48-ae32-454f-8727-e0428cfe0229\",\"type\":\"CategoricalAxis\"},{\"id\":\"82f8ddca-1370-4c55-8ab3-b5e0b6184466\",\"type\":\"Grid\"},{\"id\":\"17114180-5eed-4386-8419-93597f932451\",\"type\":\"LinearAxis\"},{\"id\":\"5c241e84-7568-4798-bf7e-df5d633696a7\",\"type\":\"Grid\"},{\"id\":\"af5f9103-0dee-473b-bd56-80debf69a3fa\",\"type\":\"BoxAnnotation\"},{\"id\":\"064e4bba-2bc0-47fb-8108-544c96511636\",\"type\":\"GlyphRenderer\"}],\"title\":{\"id\":\"7f86670c-df68-4e16-8d89-cf599dfac79b\",\"type\":\"Title\"},\"toolbar\":{\"id\":\"5aaa8c74-d6f6-4000-aec7-6338a2050d5a\",\"type\":\"Toolbar\"},\"toolbar_location\":null,\"x_range\":{\"id\":\"194a509d-2122-465e-86e3-f4da56bb1a3d\",\"type\":\"FactorRange\"},\"x_scale\":{\"id\":\"d6bb0549-9a56-4263-bea1-6101ca5b2b90\",\"type\":\"CategoricalScale\"},\"y_range\":{\"id\":\"381749ee-3246-4489-982d-028c7004a240\",\"type\":\"DataRange1d\"},\"y_scale\":{\"id\":\"53c4b8dc-7965-4758-9b44-4f20497ea862\",\"type\":\"LinearScale\"}},\"id\":\"628092e6-5e64-49b9-98ac-096e2d4000f3\",\"subtype\":\"Figure\",\"type\":\"Plot\"},{\"attributes\":{},\"id\":\"e65988d7-21aa-42d2-9994-ee76d3548de4\",\"type\":\"PanTool\"},{\"attributes\":{\"plot\":{\"id\":\"628092e6-5e64-49b9-98ac-096e2d4000f3\",\"subtype\":\"Figure\",\"type\":\"Plot\"},\"ticker\":{\"id\":\"867404e7-e8eb-47f8-a10e-58555f2a50cb\",\"type\":\"CategoricalTicker\"}},\"id\":\"82f8ddca-1370-4c55-8ab3-b5e0b6184466\",\"type\":\"Grid\"},{\"attributes\":{},\"id\":\"53c4b8dc-7965-4758-9b44-4f20497ea862\",\"type\":\"LinearScale\"},{\"attributes\":{\"callback\":null},\"id\":\"381749ee-3246-4489-982d-028c7004a240\",\"type\":\"DataRange1d\"},{\"attributes\":{},\"id\":\"46a40c25-9f67-47c8-8915-b02a7e71d614\",\"type\":\"WheelZoomTool\"},{\"attributes\":{\"axis_label\":\"flux (W m-2)\",\"formatter\":{\"id\":\"c37f6551-82ed-4a2c-9391-0299ea6ad0c4\",\"type\":\"BasicTickFormatter\"},\"plot\":{\"id\":\"628092e6-5e64-49b9-98ac-096e2d4000f3\",\"subtype\":\"Figure\",\"type\":\"Plot\"},\"ticker\":{\"id\":\"a21a4568-461a-4955-a6f0-2040d60d6395\",\"type\":\"BasicTicker\"}},\"id\":\"17114180-5eed-4386-8419-93597f932451\",\"type\":\"LinearAxis\"},{\"attributes\":{},\"id\":\"a21a4568-461a-4955-a6f0-2040d60d6395\",\"type\":\"BasicTicker\"},{\"attributes\":{},\"id\":\"4b3fa837-123c-4f6b-97e5-8f56e2318561\",\"type\":\"PanTool\"},{\"attributes\":{\"fill_color\":{\"value\":\"#1f77b4\"},\"line_color\":{\"value\":\"#1f77b4\"},\"top\":{\"field\":\"flux\"},\"width\":{\"value\":0.9},\"x\":{\"field\":\"band\"}},\"id\":\"e28ad685-9195-4d02-aa68-fda863a0e8ef\",\"type\":\"VBar\"},{\"attributes\":{},\"id\":\"867404e7-e8eb-47f8-a10e-58555f2a50cb\",\"type\":\"CategoricalTicker\"},{\"attributes\":{\"axis_label\":\"spectral band\",\"formatter\":{\"id\":\"3c35f8e4-d47e-4d14-ae8e-2ce2e0ba33b5\",\"type\":\"CategoricalTickFormatter\"},\"plot\":{\"id\":\"cc915641-b751-4c30-ba75-299777cc19d4\",\"subtype\":\"Figure\",\"type\":\"Plot\"},\"ticker\":{\"id\":\"3c716cfe-7a91-4f82-8f48-990d622a237e\",\"type\":\"CategoricalTicker\"}},\"id\":\"cb4b164a-c0e7-4654-84c4-d0c2dcbb468e\",\"type\":\"CategoricalAxis\"},{\"attributes\":{\"axis_label\":\"spectral band\",\"formatter\":{\"id\":\"3b6056f8-a981-4128-877b-b38aa331a359\",\"type\":\"CategoricalTickFormatter\"},\"plot\":{\"id\":\"628092e6-5e64-49b9-98ac-096e2d4000f3\",\"subtype\":\"Figure\",\"type\":\"Plot\"},\"ticker\":{\"id\":\"867404e7-e8eb-47f8-a10e-58555f2a50cb\",\"type\":\"CategoricalTicker\"}},\"id\":\"97474d48-ae32-454f-8727-e0428cfe0229\",\"type\":\"CategoricalAxis\"},{\"attributes\":{\"toolbar\":{\"id\":\"6a8e83fa-1f5d-42a2-b4ee-5db7366080ef\",\"type\":\"ProxyToolbar\"},\"toolbar_location\":\"above\"},\"id\":\"58203d8a-16b0-4ab8-8123-c6bd4b7970c0\",\"type\":\"ToolbarBox\"},{\"attributes\":{\"data_source\":{\"id\":\"65461ec9-a492-4241-8ba8-8c8fcd442e26\",\"type\":\"ColumnDataSource\"},\"glyph\":{\"id\":\"76f9caa1-9e2b-449e-8b57-8c02c2d05fb6\",\"type\":\"VBar\"},\"hover_glyph\":null,\"muted_glyph\":null,\"nonselection_glyph\":{\"id\":\"79e910e1-82f2-444c-af39-ae5bffcf11b2\",\"type\":\"VBar\"},\"selection_glyph\":null,\"view\":{\"id\":\"116ebc65-4fcf-41fc-861f-658d48a782e9\",\"type\":\"CDSView\"}},\"id\":\"1304c835-e2f0-465b-8f9b-95ad24d48860\",\"type\":\"GlyphRenderer\"},{\"attributes\":{\"children\":[{\"id\":\"3ce2eccc-8a0c-4992-afe5-1342eddf45a1\",\"subtype\":\"Figure\",\"type\":\"Plot\"},{\"id\":\"cc915641-b751-4c30-ba75-299777cc19d4\",\"subtype\":\"Figure\",\"type\":\"Plot\"},{\"id\":\"628092e6-5e64-49b9-98ac-096e2d4000f3\",\"subtype\":\"Figure\",\"type\":\"Plot\"}]},\"id\":\"adbddbf0-7008-4b13-a9ed-07e301f5d889\",\"type\":\"Row\"},{\"attributes\":{\"below\":[{\"id\":\"80c95a11-410b-4562-945f-45fb6e01b854\",\"type\":\"CategoricalAxis\"}],\"left\":[{\"id\":\"9aa61a69-8509-43e8-b490-57168a9ae7ec\",\"type\":\"LinearAxis\"}],\"plot_height\":300,\"plot_width\":300,\"renderers\":[{\"id\":\"80c95a11-410b-4562-945f-45fb6e01b854\",\"type\":\"CategoricalAxis\"},{\"id\":\"c1658ea7-0e86-4712-8550-1c416e1e8e52\",\"type\":\"Grid\"},{\"id\":\"9aa61a69-8509-43e8-b490-57168a9ae7ec\",\"type\":\"LinearAxis\"},{\"id\":\"54e99f91-13a2-452e-955c-91be530c1558\",\"type\":\"Grid\"},{\"id\":\"a2ff3d12-3cfb-4d00-84a7-17310ae8e996\",\"type\":\"BoxAnnotation\"},{\"id\":\"1304c835-e2f0-465b-8f9b-95ad24d48860\",\"type\":\"GlyphRenderer\"}],\"title\":{\"id\":\"e606c524-cfda-4745-8cd3-be27d95f2e01\",\"type\":\"Title\"},\"toolbar\":{\"id\":\"7bb913c0-d481-4d25-8e18-d34a8cf76bb8\",\"type\":\"Toolbar\"},\"toolbar_location\":null,\"x_range\":{\"id\":\"2d28bdc1-a6f1-44de-9f50-9f8d5e8ec04d\",\"type\":\"FactorRange\"},\"x_scale\":{\"id\":\"ab3b049b-8678-47bf-9ce8-f1123b4a13f9\",\"type\":\"CategoricalScale\"},\"y_range\":{\"id\":\"79733ed8-4c08-4fa0-8057-2185a61676e0\",\"type\":\"DataRange1d\"},\"y_scale\":{\"id\":\"e183cd1f-2e15-4b96-a137-11acfed49681\",\"type\":\"LinearScale\"}},\"id\":\"3ce2eccc-8a0c-4992-afe5-1342eddf45a1\",\"subtype\":\"Figure\",\"type\":\"Plot\"},{\"attributes\":{\"fill_alpha\":{\"value\":0.1},\"fill_color\":{\"value\":\"#1f77b4\"},\"line_alpha\":{\"value\":0.1},\"line_color\":{\"value\":\"#1f77b4\"},\"top\":{\"field\":\"flux\"},\"width\":{\"value\":0.9},\"x\":{\"field\":\"band\"}},\"id\":\"9f84bea1-5e6c-418a-b2fb-d28acf4fbf85\",\"type\":\"VBar\"},{\"attributes\":{},\"id\":\"3c716cfe-7a91-4f82-8f48-990d622a237e\",\"type\":\"CategoricalTicker\"},{\"attributes\":{\"bottom_units\":\"screen\",\"fill_alpha\":{\"value\":0.5},\"fill_color\":{\"value\":\"lightgrey\"},\"left_units\":\"screen\",\"level\":\"overlay\",\"line_alpha\":{\"value\":1.0},\"line_color\":{\"value\":\"black\"},\"line_dash\":[4,4],\"line_width\":{\"value\":2},\"plot\":null,\"render_mode\":\"css\",\"right_units\":\"screen\",\"top_units\":\"screen\"},\"id\":\"af5f9103-0dee-473b-bd56-80debf69a3fa\",\"type\":\"BoxAnnotation\"}],\"root_ids\":[\"bee365da-b3a1-4da8-8633-6f0d03e905b2\"]},\"title\":\"Bokeh Application\",\"version\":\"0.12.16\"}};\n",
       "  var render_items = [{\"docid\":\"7ff471a6-35c1-4125-bcc6-6b6ebf45d4a8\",\"elementid\":\"0fee9e33-fff6-4e06-9bd9-9b15a2b43add\",\"modelid\":\"bee365da-b3a1-4da8-8633-6f0d03e905b2\"}];\n",
       "  root.Bokeh.embed.embed_items_notebook(docs_json, render_items);\n",
       "\n",
       "  }\n",
       "  if (root.Bokeh !== undefined) {\n",
       "    embed_document(root);\n",
       "  } else {\n",
       "    var attempts = 0;\n",
       "    var timer = setInterval(function(root) {\n",
       "      if (root.Bokeh !== undefined) {\n",
       "        embed_document(root);\n",
       "        clearInterval(timer);\n",
       "      }\n",
       "      attempts++;\n",
       "      if (attempts > 100) {\n",
       "        console.log(\"Bokeh: ERROR: Unable to run BokehJS code because BokehJS library is missing\")\n",
       "        clearInterval(timer);\n",
       "      }\n",
       "    }, 10, root)\n",
       "  }\n",
       "})(window);"
      ],
      "application/vnd.bokehjs_exec.v0+json": ""
     },
     "metadata": {
      "application/vnd.bokehjs_exec.v0+json": {
       "id": "bee365da-b3a1-4da8-8633-6f0d03e905b2"
      }
     },
     "output_type": "display_data"
    },
    {
     "data": {
      "text/markdown": [
       "*FIGURE.* Difference between CLIRAD and CRD in TOA, SFC and net atmosphere flux, in each spectral band."
      ],
      "text/plain": [
       "<IPython.core.display.Markdown object>"
      ]
     },
     "metadata": {},
     "output_type": "display_data"
    },
    {
     "data": {
      "text/html": [
       "<div>\n",
       "<style scoped>\n",
       "    .dataframe tbody tr th:only-of-type {\n",
       "        vertical-align: middle;\n",
       "    }\n",
       "\n",
       "    .dataframe tbody tr th {\n",
       "        vertical-align: top;\n",
       "    }\n",
       "\n",
       "    .dataframe thead th {\n",
       "        text-align: right;\n",
       "    }\n",
       "</style>\n",
       "<table border=\"1\" class=\"dataframe\">\n",
       "  <thead>\n",
       "    <tr style=\"text-align: right;\">\n",
       "      <th></th>\n",
       "      <th>OLR flux</th>\n",
       "      <th>SFC flux</th>\n",
       "      <th>ATM heating</th>\n",
       "    </tr>\n",
       "    <tr>\n",
       "      <th>Sum over bands</th>\n",
       "      <th></th>\n",
       "      <th></th>\n",
       "      <th></th>\n",
       "    </tr>\n",
       "  </thead>\n",
       "  <tbody>\n",
       "    <tr>\n",
       "      <th>CLIRAD (single-run) - CRD</th>\n",
       "      <td>0.84</td>\n",
       "      <td>-0.44</td>\n",
       "      <td>1.27</td>\n",
       "    </tr>\n",
       "    <tr>\n",
       "      <th>CRD</th>\n",
       "      <td>-201.06</td>\n",
       "      <td>166.03</td>\n",
       "      <td>-119.67</td>\n",
       "    </tr>\n",
       "  </tbody>\n",
       "</table>\n",
       "</div>"
      ],
      "text/plain": [
       "                           OLR flux  SFC flux  ATM heating\n",
       "Sum over bands                                            \n",
       "CLIRAD (single-run) - CRD      0.84     -0.44         1.27\n",
       "CRD                         -201.06    166.03      -119.67"
      ]
     },
     "metadata": {},
     "output_type": "display_data"
    },
    {
     "data": {
      "text/markdown": [
       "*TABLE.* Difference between CLIRAD and CRD in TOA, SFC and net atmosphere flux, over all spectral bands. CRD's TOA, SFC and net atmosphere flux, over all spectral bands."
      ],
      "text/plain": [
       "<IPython.core.display.Markdown object>"
      ]
     },
     "metadata": {},
     "output_type": "display_data"
    },
    {
     "data": {
      "text/html": [
       "<a id=\"Cooling_rates._trp.\"></a>"
      ],
      "text/plain": [
       "<IPython.core.display.HTML object>"
      ]
     },
     "metadata": {},
     "output_type": "display_data"
    },
    {
     "data": {
      "text/markdown": [
       "# Cooling rates. trp."
      ],
      "text/plain": [
       "<IPython.core.display.Markdown object>"
      ]
     },
     "metadata": {},
     "output_type": "display_data"
    },
    {
     "data": {
      "text/html": [
       "\n",
       "<div class=\"bk-root\">\n",
       "    <div class=\"bk-plotdiv\" id=\"8b0ff270-feba-45f3-8a24-767ffd83efca\"></div>\n",
       "</div>"
      ]
     },
     "metadata": {},
     "output_type": "display_data"
    },
    {
     "data": {
      "application/javascript": [
       "(function(root) {\n",
       "  function embed_document(root) {\n",
       "    \n",
       "  var docs_json = {\"54d7ee33-fe8d-4ada-a2b9-02e808faa5e7\":{\"roots\":{\"references\":[{\"attributes\":{},\"id\":\"92f440b2-77b5-48e1-9520-57a8a1199c35\",\"type\":\"UnionRenderers\"},{\"attributes\":{\"callback\":null,\"data\":{\"x\":{\"__ndarray__\":\"R/KIaN7AVEClCeJMyPNGQOvRhpxr30JAptxzhxx4PkA7SssMElA4QK6Bp3CyUDNAsVXpjES9LkBFhUV0+5coQMHYwqbbySNA6f09nM3nH0CaSd/3eYoZQDmgiAOW8BNAPYqARh3eDEBkm4vCgvr+P9D+5tWhQfY/P8DwKRnSAkBq38kb17ILQDT7IWuSsxFAUr2Rjm0FFkAinq3s9XgbQGCHwtYcqSFAG64kT303J0C7dRDneyooQD9JYrbK8yRA9S3bneHhIUAIymSuUMMcQIkHLe6VEBdAAau3cITREkA6CiNvkQIPQJU39ki7IQlAaAvwok1UA0BXLQiS4+L7P0xzDpJ2hPI/NNuPGMbJ5z91mUVYxqfSPxqwUPSxZca/G11peifD3L8QzNj5t2jTvwzOozTL360/SPJ4VI1VzD9KJ0nXEIncP8yDdlvHt+4/Et49nYLW9z++2teD4Jn+P+568eH/bwFALf5D9lmAAkCiZAicVOkCQPPT4jNKxwJAOjp3wTzBAUBSQsKNGisBQG4OmjqJwQBAJ3sZoHFuAEA5Ar0Sdi0AQGy4rw5+9f8/7W4nSrC3/z8mPr8zj4T/P4UYRHCQS/8/embVKYcF/z+5YXG+LLP+P/qb8BVUgf4/KvafTtyO/j/avAK1Ppv+PwJV9VVm2P0/JFtYlU/n/D9sN+q2fiX6Pw44e41PNPc/Opt+Z/wN9T+x3vcSW1vzP9ofvWQJlvI/8sciQQBW8j80sfkQa17yPzg5qng2r/I/Oh14WJBh8z+VZjnpctj0P6CcrSuCqQBA\",\"dtype\":\"float64\",\"shape\":[75]},\"y\":{\"__ndarray__\":\"GhExyth1ND/Sv8nbtpRIP2vylNV0PVE/aTum7souWD/At0SJ8fVgPw3Iuahxymc/MSNhhJWvcD/bTfBN02d3P2zb5nxnaoA/CD5h5MAGhz8NmeH1TyaQP+zrCsc9p5Y/LbKd76fGnz/bLW5ISEmmPww9YvTcQq8/JV2OstnstT8Er5Y7M8G+P0c+r3jqkcU/5h99k6ZBzj88bCIzFzjVP4enV8oyxN0//yH99nXg5D8qOpLLf0jtP5kqGJXUifQ/c9cS8kHP/D+/DpwzojQEQIEmwoanVwxA4lgXt9HgE0BSSZ2AJuIbQAMJih9jjiNA5q4l5INuK0AwTKYKRj0zQNv5fmq8/DpAaCJseHrtQkB/+zpwzoxKQM3MzMzMeFJAZmZmZmZqWEAAAAAAAFxeQM3MzMzMJmJAmpmZmZkfZUBmZmZmZhhoQDMzMzMzEWtAAAAAAAAKbkBmZmZmZoFwQM3MzMzM/XFAMzMzMzN6c0CamZmZmfZ0QAAAAAAAc3ZAZmZmZmbvd0DNzMzMzGt5QDMzMzMz6HpAmpmZmZlkfEAAAAAAAOF9QGZmZmZmXX9AZmZmZuZsgECamZmZGSuBQM3MzMxM6YFAAAAAAICngkAzMzMzs2WDQGZmZmbmI4RAmpmZmRnihEDNzMzMTKCFQAAAAACAXoZAMzMzM7Mch0BmZmZm5tqHQJqZmZkZmYhAzczMzExXiUAAAAAAgBWKQDMzMzOz04pAZmZmZuaRi0CamZmZGVCMQM3MzMxMDo1AAAAAAIDMjUAzMzMzs4qOQGZmZmbmSI9A\",\"dtype\":\"float64\",\"shape\":[75]}},\"selected\":{\"id\":\"14f35ac5-b655-415a-8fba-a2f97920feae\",\"type\":\"Selection\"},\"selection_policy\":{\"id\":\"b0d6f395-8a40-44b3-8ece-543cdbc2b840\",\"type\":\"UnionRenderers\"}},\"id\":\"5cc04e5c-540d-4f55-b06f-983530a6c234\",\"type\":\"ColumnDataSource\"},{\"attributes\":{\"line_alpha\":0.1,\"line_color\":\"#1f77b4\",\"line_dash\":[6],\"line_width\":5,\"x\":{\"field\":\"x\"},\"y\":{\"field\":\"y\"}},\"id\":\"dee71043-7d76-43fe-8612-0df926da547e\",\"type\":\"Line\"},{\"attributes\":{\"data_source\":{\"id\":\"4646b4f4-903c-4fdf-b713-f8c766bb92f2\",\"type\":\"ColumnDataSource\"},\"glyph\":{\"id\":\"2b6c6362-d73c-4af4-b4d3-e0667a3ad77a\",\"type\":\"Line\"},\"hover_glyph\":null,\"muted_glyph\":null,\"nonselection_glyph\":{\"id\":\"c4d6342d-44d2-4c10-bc84-314f2f0febc3\",\"type\":\"Line\"},\"selection_glyph\":null,\"view\":{\"id\":\"bc77df2e-445e-4e81-b7de-60a26b59cea3\",\"type\":\"CDSView\"}},\"id\":\"9c3b1621-c277-441f-ad4d-1b618d56d8fa\",\"type\":\"GlyphRenderer\"},{\"attributes\":{},\"id\":\"443e749f-444d-4f13-b94a-f947d7159143\",\"type\":\"BasicTickFormatter\"},{\"attributes\":{\"source\":{\"id\":\"5757221f-c786-4939-8d01-c63bc3ff49ef\",\"type\":\"ColumnDataSource\"}},\"id\":\"935a3fdf-9ee7-4f93-b8f6-01816ef1a86c\",\"type\":\"CDSView\"},{\"attributes\":{\"callback\":null,\"data\":{\"x\":{\"__ndarray__\":\"+91suA2FRUDEhDu3BNNCQJGH2RpTtEFAEt02UCgdQEDVxLSQChY8QIhbJRqUKjdAYVUzOB7pMUDTM3KX3QQqQEK9BNB3SCJA6NjTUF6dGkBKgvPiLzsVQL0Sjm8nBhJA/DvUw9qUDUDkg8wWHTEDQPqPmlKB6f4/+3yWOi+sBUBavERq4UMMQLVhH27xnBBAfwWOfm3eE0DummfvB08ZQAaUixg3DCFArKetlIYCJ0Cs7TuihhkoQB+fXFuzhCRAQi/iYYwnIUBZuHizlFYcQC1AvJM7WRhAg3T9xFgsFEA0HebAUMcPQFKxsGLKOwlAuRjZ7ZQ7BUAmhydNp3kAQNl7ZywnsfQ/bePIZtQK5j8GONhrav7QPxDDyUYoicG/tW4zfJCS3r80aRMuziHYv2KS/mjbLl+/fwV3ehhXxT+O1XwUPq7YP7JEdD4ju+w/6QCXA6269j/1X/IRTNf9P3eY3xv76wBA9MudvM6EAUC4nZXZbkcCQJZjjxetTAJAN+UlS5cWAUCXT334HoEAQPbZ2qEuTwBAxddFMwkvAEAgAG4tOAQAQIwWdH+UnP8/BWSLQ0Y//z+ZMGChRAf/P7Wo5GjCDf8/mQ+WHj5C/z+7FkMl7WP/Px29Y3brZP8/oy7TqCBM/z/lglFOVvr+P18JCfCU2P0/cmhc+6zJ/D8DIuChwy/6P76YinnXm/c/Z9o81bPt9T/nsnvwZn70P/MHGE0DxPM/L8l+pxuV8z/YaqQova7zP2CtsiQ0EfQ/P+H9lMkD9T+yagFyKrv2P/6hXMS+pwFA\",\"dtype\":\"float64\",\"shape\":[75]},\"y\":{\"__ndarray__\":\"GhExyth1ND/Sv8nbtpRIP2vylNV0PVE/aTum7souWD/At0SJ8fVgPw3Iuahxymc/MSNhhJWvcD/bTfBN02d3P2zb5nxnaoA/CD5h5MAGhz8NmeH1TyaQP+zrCsc9p5Y/LbKd76fGnz/bLW5ISEmmPww9YvTcQq8/JV2OstnstT8Er5Y7M8G+P0c+r3jqkcU/5h99k6ZBzj88bCIzFzjVP4enV8oyxN0//yH99nXg5D8qOpLLf0jtP5kqGJXUifQ/c9cS8kHP/D+/DpwzojQEQIEmwoanVwxA4lgXt9HgE0BSSZ2AJuIbQAMJih9jjiNA5q4l5INuK0AwTKYKRj0zQNv5fmq8/DpAaCJseHrtQkB/+zpwzoxKQM3MzMzMeFJAZmZmZmZqWEAAAAAAAFxeQM3MzMzMJmJAmpmZmZkfZUBmZmZmZhhoQDMzMzMzEWtAAAAAAAAKbkBmZmZmZoFwQM3MzMzM/XFAMzMzMzN6c0CamZmZmfZ0QAAAAAAAc3ZAZmZmZmbvd0DNzMzMzGt5QDMzMzMz6HpAmpmZmZlkfEAAAAAAAOF9QGZmZmZmXX9AZmZmZuZsgECamZmZGSuBQM3MzMxM6YFAAAAAAICngkAzMzMzs2WDQGZmZmbmI4RAmpmZmRnihEDNzMzMTKCFQAAAAACAXoZAMzMzM7Mch0BmZmZm5tqHQJqZmZkZmYhAzczMzExXiUAAAAAAgBWKQDMzMzOz04pAZmZmZuaRi0CamZmZGVCMQM3MzMxMDo1AAAAAAIDMjUAzMzMzs4qOQGZmZmbmSI9A\",\"dtype\":\"float64\",\"shape\":[75]}},\"selected\":{\"id\":\"5e21be1a-82dc-4f54-905e-41625a81e92c\",\"type\":\"Selection\"},\"selection_policy\":{\"id\":\"92f440b2-77b5-48e1-9520-57a8a1199c35\",\"type\":\"UnionRenderers\"}},\"id\":\"028549c8-8b02-4b54-8213-95bcb2abaf78\",\"type\":\"ColumnDataSource\"},{\"attributes\":{},\"id\":\"dfa26043-b3bb-4e2c-a3bd-8a367b43efce\",\"type\":\"LogScale\"},{\"attributes\":{\"line_alpha\":0.1,\"line_color\":\"#1f77b4\",\"line_dash\":[6],\"line_width\":5,\"x\":{\"field\":\"x\"},\"y\":{\"field\":\"y\"}},\"id\":\"c4d6342d-44d2-4c10-bc84-314f2f0febc3\",\"type\":\"Line\"},{\"attributes\":{\"data_source\":{\"id\":\"028549c8-8b02-4b54-8213-95bcb2abaf78\",\"type\":\"ColumnDataSource\"},\"glyph\":{\"id\":\"4c15f731-7048-4e32-a50f-d2fe1253cfa2\",\"type\":\"Line\"},\"hover_glyph\":null,\"muted_glyph\":null,\"nonselection_glyph\":{\"id\":\"dee71043-7d76-43fe-8612-0df926da547e\",\"type\":\"Line\"},\"selection_glyph\":null,\"view\":{\"id\":\"ef262a0c-fbec-4de8-b518-2699303c864b\",\"type\":\"CDSView\"}},\"id\":\"63a674ee-3ff2-48f6-81c0-215df8d8e55d\",\"type\":\"GlyphRenderer\"},{\"attributes\":{\"line_alpha\":0.1,\"line_color\":\"#1f77b4\",\"line_width\":1.5,\"x\":{\"field\":\"x\"},\"y\":{\"field\":\"y\"}},\"id\":\"d7e31fa0-c16f-4c39-9b7b-546d89028a17\",\"type\":\"Line\"},{\"attributes\":{},\"id\":\"752495e8-bf74-47e5-b50a-1d4b414aab08\",\"type\":\"UnionRenderers\"},{\"attributes\":{},\"id\":\"aa5ad6cd-8728-424f-ade4-3682f8f5f1d7\",\"type\":\"WheelZoomTool\"},{\"attributes\":{\"fill_alpha\":{\"value\":0.7},\"fill_color\":{\"value\":\"#4daf4a\"},\"line_alpha\":{\"value\":0.7},\"line_color\":{\"value\":\"#4daf4a\"},\"x\":{\"field\":\"x\"},\"y\":{\"field\":\"y\"}},\"id\":\"71665a97-ab32-4c3f-913d-7f9c618d92d0\",\"type\":\"Circle\"},{\"attributes\":{\"ticker\":null},\"id\":\"f0f810df-3427-4808-a955-75790ab70525\",\"type\":\"LogTickFormatter\"},{\"attributes\":{},\"id\":\"dc813ed5-4e8e-4b87-9d67-e5485bdb4903\",\"type\":\"BasicTickFormatter\"},{\"attributes\":{\"label\":{\"value\":\"CLIRAD (single-run)\"},\"renderers\":[{\"id\":\"9c3b1621-c277-441f-ad4d-1b618d56d8fa\",\"type\":\"GlyphRenderer\"}]},\"id\":\"ee56ba24-d5b2-44db-bc9a-f79afae8a3e3\",\"type\":\"LegendItem\"},{\"attributes\":{},\"id\":\"4447003e-ebd0-4576-874b-ede6287526e9\",\"type\":\"LinearScale\"},{\"attributes\":{\"callback\":null,\"end\":12.208583273105388,\"start\":-0.6033023020843901},\"id\":\"14c26d2c-dc27-42f1-9e84-e870edf18ca6\",\"type\":\"Range1d\"},{\"attributes\":{\"above\":[{\"id\":\"e3bf0f35-b9cf-4b3e-aa1d-69a7e0dfb8fe\",\"type\":\"Legend\"}],\"below\":[{\"id\":\"abbf1bb2-cde4-4259-9456-972369a93c34\",\"type\":\"LinearAxis\"}],\"left\":[{\"id\":\"27db3d63-8bef-416c-b046-669753f1981b\",\"type\":\"LinearAxis\"}],\"plot_width\":300,\"renderers\":[{\"id\":\"abbf1bb2-cde4-4259-9456-972369a93c34\",\"type\":\"LinearAxis\"},{\"id\":\"04d5a206-fc77-4ab8-a239-aa2dc8063e9e\",\"type\":\"Grid\"},{\"id\":\"27db3d63-8bef-416c-b046-669753f1981b\",\"type\":\"LinearAxis\"},{\"id\":\"3666e97d-f414-4923-88c1-532daad410b6\",\"type\":\"Grid\"},{\"id\":\"ac623a12-91dc-47aa-9396-7098f6bfc426\",\"type\":\"BoxAnnotation\"},{\"id\":\"9c3b1621-c277-441f-ad4d-1b618d56d8fa\",\"type\":\"GlyphRenderer\"},{\"id\":\"5382002d-ba91-4b32-88e8-3c777346209f\",\"type\":\"GlyphRenderer\"},{\"id\":\"d8445861-dc18-4393-8d67-89fb7639366f\",\"type\":\"GlyphRenderer\"},{\"id\":\"e3bf0f35-b9cf-4b3e-aa1d-69a7e0dfb8fe\",\"type\":\"Legend\"}],\"title\":{\"id\":\"79ac4a95-ca1d-4d9e-906b-954811886054\",\"type\":\"Title\"},\"toolbar\":{\"id\":\"6070bb8b-1013-4dfc-8e9c-48b240e466c9\",\"type\":\"Toolbar\"},\"toolbar_location\":null,\"x_range\":{\"id\":\"dec09acb-00e6-4237-a3f9-ea7e549697c5\",\"type\":\"Range1d\"},\"x_scale\":{\"id\":\"ce8aa40f-a290-41db-bc76-5d64dddea920\",\"type\":\"LinearScale\"},\"y_range\":{\"id\":\"071edea0-af8c-4cac-baa8-0cce755ceea6\",\"type\":\"Range1d\"},\"y_scale\":{\"id\":\"0d278ebe-3354-4fbf-bf41-6182457f1df2\",\"type\":\"LinearScale\"}},\"id\":\"f950d287-7415-4282-8390-b0a82a1f5b8e\",\"subtype\":\"Figure\",\"type\":\"Plot\"},{\"attributes\":{},\"id\":\"38719300-fbc0-49de-bc94-67d5d4be39dc\",\"type\":\"SaveTool\"},{\"attributes\":{\"plot\":null,\"text\":\"\"},\"id\":\"18d4fddc-6b3f-4382-a437-ddc324fa9c15\",\"type\":\"Title\"},{\"attributes\":{\"tools\":[{\"id\":\"f6f44c71-3996-4517-8375-e3bb34a4cffd\",\"type\":\"PanTool\"},{\"id\":\"aa5ad6cd-8728-424f-ade4-3682f8f5f1d7\",\"type\":\"WheelZoomTool\"},{\"id\":\"b30c595d-f55e-4c29-a372-e856338d9fc0\",\"type\":\"BoxZoomTool\"},{\"id\":\"38719300-fbc0-49de-bc94-67d5d4be39dc\",\"type\":\"SaveTool\"},{\"id\":\"35a1e7d9-d232-4c27-955e-73044bdaae67\",\"type\":\"ResetTool\"},{\"id\":\"70c6298f-a46f-4583-a641-f12f91c7df60\",\"type\":\"HelpTool\"},{\"id\":\"edf62f5e-f1e4-4cd1-86f1-42ddb13f69d5\",\"type\":\"PanTool\"},{\"id\":\"2e79e14f-8015-48d3-ba77-b11b28ae3b22\",\"type\":\"WheelZoomTool\"},{\"id\":\"38319e52-f2ca-4551-bb97-ba89a43df6e4\",\"type\":\"BoxZoomTool\"},{\"id\":\"ebd814e2-968a-4487-ac97-76c2ebd31c52\",\"type\":\"SaveTool\"},{\"id\":\"a7f2c355-b207-4ac1-a39f-b9effd4dc989\",\"type\":\"ResetTool\"},{\"id\":\"1d658458-f7d9-4efc-80f0-b0fa2fd9139f\",\"type\":\"HelpTool\"},{\"id\":\"eb99fc31-f3a0-4f5e-9cae-b3d38b1a959b\",\"type\":\"PanTool\"},{\"id\":\"c3b23dd5-ae99-45fc-b9a4-bb0ccae5e8b3\",\"type\":\"WheelZoomTool\"},{\"id\":\"9afdb5ce-b76f-4f63-bb43-a82ac833c9e4\",\"type\":\"BoxZoomTool\"},{\"id\":\"777dcfa5-f95e-415e-b0c5-1be1d8c013ed\",\"type\":\"SaveTool\"},{\"id\":\"fc31bf32-bf51-45d2-9ba1-4f391d93f1de\",\"type\":\"ResetTool\"},{\"id\":\"06f22c7d-ce03-4468-8a12-ce4c247948b7\",\"type\":\"HelpTool\"}]},\"id\":\"05ebeb2e-f126-447a-bddc-3860ff1ef8bd\",\"type\":\"ProxyToolbar\"},{\"attributes\":{\"data_source\":{\"id\":\"5757221f-c786-4939-8d01-c63bc3ff49ef\",\"type\":\"ColumnDataSource\"},\"glyph\":{\"id\":\"b605b1c7-d614-4ea8-ada5-5a673aeb4534\",\"type\":\"Line\"},\"hover_glyph\":null,\"muted_glyph\":null,\"nonselection_glyph\":{\"id\":\"d7e31fa0-c16f-4c39-9b7b-546d89028a17\",\"type\":\"Line\"},\"selection_glyph\":null,\"view\":{\"id\":\"935a3fdf-9ee7-4f93-b8f6-01816ef1a86c\",\"type\":\"CDSView\"}},\"id\":\"80f7a285-135a-42cb-a88b-9de322a55c31\",\"type\":\"GlyphRenderer\"},{\"attributes\":{},\"id\":\"35a1e7d9-d232-4c27-955e-73044bdaae67\",\"type\":\"ResetTool\"},{\"attributes\":{\"data_source\":{\"id\":\"48c6eb4e-4cb4-4744-8b8e-687d7ee3b182\",\"type\":\"ColumnDataSource\"},\"glyph\":{\"id\":\"71665a97-ab32-4c3f-913d-7f9c618d92d0\",\"type\":\"Circle\"},\"hover_glyph\":null,\"muted_glyph\":null,\"nonselection_glyph\":{\"id\":\"5fa52e12-6d05-4b3b-99b9-c1088b3c9794\",\"type\":\"Circle\"},\"selection_glyph\":null,\"view\":{\"id\":\"fab4327a-38c0-4405-add6-774d7b381d31\",\"type\":\"CDSView\"}},\"id\":\"74af43dc-2b6a-46af-934a-bb7585a26ab2\",\"type\":\"GlyphRenderer\"},{\"attributes\":{\"fill_alpha\":{\"value\":0.1},\"fill_color\":{\"value\":\"#1f77b4\"},\"line_alpha\":{\"value\":0.1},\"line_color\":{\"value\":\"#1f77b4\"},\"x\":{\"field\":\"x\"},\"y\":{\"field\":\"y\"}},\"id\":\"5fa52e12-6d05-4b3b-99b9-c1088b3c9794\",\"type\":\"Circle\"},{\"attributes\":{\"callback\":null,\"end\":2.3923471759882906,\"start\":-0.5061118456772901},\"id\":\"dec09acb-00e6-4237-a3f9-ea7e549697c5\",\"type\":\"Range1d\"},{\"attributes\":{\"line_color\":\"#4daf4a\",\"line_width\":1.5,\"x\":{\"field\":\"x\"},\"y\":{\"field\":\"y\"}},\"id\":\"b605b1c7-d614-4ea8-ada5-5a673aeb4534\",\"type\":\"Line\"},{\"attributes\":{\"active_drag\":\"auto\",\"active_inspect\":\"auto\",\"active_scroll\":\"auto\",\"active_tap\":\"auto\",\"tools\":[{\"id\":\"edf62f5e-f1e4-4cd1-86f1-42ddb13f69d5\",\"type\":\"PanTool\"},{\"id\":\"2e79e14f-8015-48d3-ba77-b11b28ae3b22\",\"type\":\"WheelZoomTool\"},{\"id\":\"38319e52-f2ca-4551-bb97-ba89a43df6e4\",\"type\":\"BoxZoomTool\"},{\"id\":\"ebd814e2-968a-4487-ac97-76c2ebd31c52\",\"type\":\"SaveTool\"},{\"id\":\"a7f2c355-b207-4ac1-a39f-b9effd4dc989\",\"type\":\"ResetTool\"},{\"id\":\"1d658458-f7d9-4efc-80f0-b0fa2fd9139f\",\"type\":\"HelpTool\"}]},\"id\":\"ee36930e-05db-4e07-991c-a5a07372d890\",\"type\":\"Toolbar\"},{\"attributes\":{},\"id\":\"b0d6f395-8a40-44b3-8ece-543cdbc2b840\",\"type\":\"UnionRenderers\"},{\"attributes\":{\"source\":{\"id\":\"4646b4f4-903c-4fdf-b713-f8c766bb92f2\",\"type\":\"ColumnDataSource\"}},\"id\":\"bc77df2e-445e-4e81-b7de-60a26b59cea3\",\"type\":\"CDSView\"},{\"attributes\":{\"bottom_units\":\"screen\",\"fill_alpha\":{\"value\":0.5},\"fill_color\":{\"value\":\"lightgrey\"},\"left_units\":\"screen\",\"level\":\"overlay\",\"line_alpha\":{\"value\":1.0},\"line_color\":{\"value\":\"black\"},\"line_dash\":[4,4],\"line_width\":{\"value\":2},\"plot\":null,\"render_mode\":\"css\",\"right_units\":\"screen\",\"top_units\":\"screen\"},\"id\":\"ac623a12-91dc-47aa-9396-7098f6bfc426\",\"type\":\"BoxAnnotation\"},{\"attributes\":{\"plot\":{\"id\":\"f950d287-7415-4282-8390-b0a82a1f5b8e\",\"subtype\":\"Figure\",\"type\":\"Plot\"},\"ticker\":{\"id\":\"48e39e53-3e56-48b5-ba86-ff60de14cba8\",\"type\":\"BasicTicker\"}},\"id\":\"04d5a206-fc77-4ab8-a239-aa2dc8063e9e\",\"type\":\"Grid\"},{\"attributes\":{\"callback\":null,\"end\":0.5596213662811859,\"start\":-1.3413269281465863},\"id\":\"6c5a4795-b54c-4204-834c-b74ae174b0f1\",\"type\":\"Range1d\"},{\"attributes\":{\"plot\":null,\"text\":\"\"},\"id\":\"79ac4a95-ca1d-4d9e-906b-954811886054\",\"type\":\"Title\"},{\"attributes\":{},\"id\":\"e42e6268-2944-4a6d-b270-27311a1f06bc\",\"type\":\"BasicTicker\"},{\"attributes\":{},\"id\":\"beb029df-ea45-4538-9709-24106074aa91\",\"type\":\"UnionRenderers\"},{\"attributes\":{\"label\":{\"value\":\"CRD\"},\"renderers\":[{\"id\":\"5382002d-ba91-4b32-88e8-3c777346209f\",\"type\":\"GlyphRenderer\"},{\"id\":\"d8445861-dc18-4393-8d67-89fb7639366f\",\"type\":\"GlyphRenderer\"}]},\"id\":\"ce9f74be-78b5-4a6a-8924-6b3b5509efb6\",\"type\":\"LegendItem\"},{\"attributes\":{},\"id\":\"c9d02a06-2efb-49fb-a6e0-793f50dda369\",\"type\":\"Selection\"},{\"attributes\":{\"label\":{\"value\":\"CLIRAD (single-run) - CRD\"},\"renderers\":[{\"id\":\"3fcb00a2-554f-44d9-af07-cd4b886e9b81\",\"type\":\"GlyphRenderer\"},{\"id\":\"15df1030-5606-4b46-9708-2df0c65eaaa2\",\"type\":\"GlyphRenderer\"}]},\"id\":\"2b451201-7880-4366-9576-b9d70027e068\",\"type\":\"LegendItem\"},{\"attributes\":{\"source\":{\"id\":\"5cc04e5c-540d-4f55-b06f-983530a6c234\",\"type\":\"ColumnDataSource\"}},\"id\":\"f455ef2b-891d-4385-865d-c8379c3ca7bd\",\"type\":\"CDSView\"},{\"attributes\":{},\"id\":\"f6f44c71-3996-4517-8375-e3bb34a4cffd\",\"type\":\"PanTool\"},{\"attributes\":{},\"id\":\"14f35ac5-b655-415a-8fba-a2f97920feae\",\"type\":\"Selection\"},{\"attributes\":{\"data_source\":{\"id\":\"5cc04e5c-540d-4f55-b06f-983530a6c234\",\"type\":\"ColumnDataSource\"},\"glyph\":{\"id\":\"ec749cfd-ab71-478d-a1b3-6731036f4025\",\"type\":\"Circle\"},\"hover_glyph\":null,\"muted_glyph\":null,\"nonselection_glyph\":{\"id\":\"6106232c-6b9d-4879-b2ac-a285e415b681\",\"type\":\"Circle\"},\"selection_glyph\":null,\"view\":{\"id\":\"f455ef2b-891d-4385-865d-c8379c3ca7bd\",\"type\":\"CDSView\"}},\"id\":\"5382002d-ba91-4b32-88e8-3c777346209f\",\"type\":\"GlyphRenderer\"},{\"attributes\":{\"line_alpha\":0.6,\"line_color\":\"#377eb8\",\"line_dash\":[6],\"line_width\":5,\"x\":{\"field\":\"x\"},\"y\":{\"field\":\"y\"}},\"id\":\"2b6c6362-d73c-4af4-b4d3-e0667a3ad77a\",\"type\":\"Line\"},{\"attributes\":{\"ticker\":null},\"id\":\"3dd858c8-b830-489f-a527-4b6dfc210164\",\"type\":\"LogTickFormatter\"},{\"attributes\":{},\"id\":\"b884d391-1a27-403c-b167-5dbc001f4c5a\",\"type\":\"Selection\"},{\"attributes\":{},\"id\":\"a9678bcc-c6ac-45ee-82ef-2d85daee8a5d\",\"type\":\"UnionRenderers\"},{\"attributes\":{\"callback\":null,\"data\":{\"x\":{\"__ndarray__\":\"R/KIaN7AVEClCeJMyPNGQOvRhpxr30JAptxzhxx4PkA7SssMElA4QK6Bp3CyUDNAsVXpjES9LkBFhUV0+5coQMHYwqbbySNA6f09nM3nH0CaSd/3eYoZQDmgiAOW8BNAPYqARh3eDEBkm4vCgvr+P9D+5tWhQfY/P8DwKRnSAkBq38kb17ILQDT7IWuSsxFAUr2Rjm0FFkAinq3s9XgbQGCHwtYcqSFAG64kT303J0C7dRDneyooQD9JYrbK8yRA9S3bneHhIUAIymSuUMMcQIkHLe6VEBdAAau3cITREkA6CiNvkQIPQJU39ki7IQlAaAvwok1UA0BXLQiS4+L7P0xzDpJ2hPI/NNuPGMbJ5z91mUVYxqfSPxqwUPSxZca/G11peifD3L8QzNj5t2jTvwzOozTL360/SPJ4VI1VzD9KJ0nXEIncP8yDdlvHt+4/Et49nYLW9z++2teD4Jn+P+568eH/bwFALf5D9lmAAkCiZAicVOkCQPPT4jNKxwJAOjp3wTzBAUBSQsKNGisBQG4OmjqJwQBAJ3sZoHFuAEA5Ar0Sdi0AQGy4rw5+9f8/7W4nSrC3/z8mPr8zj4T/P4UYRHCQS/8/embVKYcF/z+5YXG+LLP+P/qb8BVUgf4/KvafTtyO/j/avAK1Ppv+PwJV9VVm2P0/JFtYlU/n/D9sN+q2fiX6Pw44e41PNPc/Opt+Z/wN9T+x3vcSW1vzP9ofvWQJlvI/8sciQQBW8j80sfkQa17yPzg5qng2r/I/Oh14WJBh8z+VZjnpctj0P6CcrSuCqQBA\",\"dtype\":\"float64\",\"shape\":[75]},\"y\":{\"__ndarray__\":\"GhExyth1ND/Sv8nbtpRIP2vylNV0PVE/aTum7souWD/At0SJ8fVgPw3Iuahxymc/MSNhhJWvcD/bTfBN02d3P2zb5nxnaoA/CD5h5MAGhz8NmeH1TyaQP+zrCsc9p5Y/LbKd76fGnz/bLW5ISEmmPww9YvTcQq8/JV2OstnstT8Er5Y7M8G+P0c+r3jqkcU/5h99k6ZBzj88bCIzFzjVP4enV8oyxN0//yH99nXg5D8qOpLLf0jtP5kqGJXUifQ/c9cS8kHP/D+/DpwzojQEQIEmwoanVwxA4lgXt9HgE0BSSZ2AJuIbQAMJih9jjiNA5q4l5INuK0AwTKYKRj0zQNv5fmq8/DpAaCJseHrtQkB/+zpwzoxKQM3MzMzMeFJAZmZmZmZqWEAAAAAAAFxeQM3MzMzMJmJAmpmZmZkfZUBmZmZmZhhoQDMzMzMzEWtAAAAAAAAKbkBmZmZmZoFwQM3MzMzM/XFAMzMzMzN6c0CamZmZmfZ0QAAAAAAAc3ZAZmZmZmbvd0DNzMzMzGt5QDMzMzMz6HpAmpmZmZlkfEAAAAAAAOF9QGZmZmZmXX9AZmZmZuZsgECamZmZGSuBQM3MzMxM6YFAAAAAAICngkAzMzMzs2WDQGZmZmbmI4RAmpmZmRnihEDNzMzMTKCFQAAAAACAXoZAMzMzM7Mch0BmZmZm5tqHQJqZmZkZmYhAzczMzExXiUAAAAAAgBWKQDMzMzOz04pAZmZmZuaRi0CamZmZGVCMQM3MzMxMDo1AAAAAAIDMjUAzMzMzs4qOQGZmZmbmSI9A\",\"dtype\":\"float64\",\"shape\":[75]}},\"selected\":{\"id\":\"b884d391-1a27-403c-b167-5dbc001f4c5a\",\"type\":\"Selection\"},\"selection_policy\":{\"id\":\"84e2b206-394a-4e24-949c-f28ac4a4cd82\",\"type\":\"UnionRenderers\"}},\"id\":\"d05a97e7-b38d-4ad6-82fb-a9fe6493a174\",\"type\":\"ColumnDataSource\"},{\"attributes\":{\"axis_label\":\"cooling rate [K/day]\",\"formatter\":{\"id\":\"dc813ed5-4e8e-4b87-9d67-e5485bdb4903\",\"type\":\"BasicTickFormatter\"},\"plot\":{\"id\":\"f7882800-bf2f-4a2c-81ec-9bd288954680\",\"subtype\":\"Figure\",\"type\":\"Plot\"},\"ticker\":{\"id\":\"db434aca-0e64-4c0c-bfc8-a4da5a41a721\",\"type\":\"BasicTicker\"}},\"id\":\"e60d903f-0c20-4506-a15a-7debd10c92dc\",\"type\":\"LinearAxis\"},{\"attributes\":{\"source\":{\"id\":\"d119c00c-62df-48f9-90d6-c1b19c560529\",\"type\":\"ColumnDataSource\"}},\"id\":\"bb0a120f-cc60-44f0-9a70-8b13a488392f\",\"type\":\"CDSView\"},{\"attributes\":{\"data_source\":{\"id\":\"d05a97e7-b38d-4ad6-82fb-a9fe6493a174\",\"type\":\"ColumnDataSource\"},\"glyph\":{\"id\":\"2e1b1335-5556-4d80-85cf-c862d2e6e90c\",\"type\":\"Line\"},\"hover_glyph\":null,\"muted_glyph\":null,\"nonselection_glyph\":{\"id\":\"9858a891-a40c-4ad0-964c-8b8a98b99cf9\",\"type\":\"Line\"},\"selection_glyph\":null,\"view\":{\"id\":\"b91cd7d4-382a-40f2-9089-54824391971b\",\"type\":\"CDSView\"}},\"id\":\"d8445861-dc18-4393-8d67-89fb7639366f\",\"type\":\"GlyphRenderer\"},{\"attributes\":{\"plot\":null,\"text\":\"\"},\"id\":\"0a7340b2-cef8-4a56-89f1-1757d4e1dfac\",\"type\":\"Title\"},{\"attributes\":{\"axis_label\":\"pressure [mb]\",\"formatter\":{\"id\":\"3dd858c8-b830-489f-a527-4b6dfc210164\",\"type\":\"LogTickFormatter\"},\"plot\":{\"id\":\"f7882800-bf2f-4a2c-81ec-9bd288954680\",\"subtype\":\"Figure\",\"type\":\"Plot\"},\"ticker\":{\"id\":\"d319a971-1a1f-44d1-8dfd-4a0f4e8aee18\",\"type\":\"LogTicker\"}},\"id\":\"1b501d9c-c96c-43b1-958e-0241ab4e7cff\",\"type\":\"LogAxis\"},{\"attributes\":{\"items\":[{\"id\":\"2b451201-7880-4366-9576-b9d70027e068\",\"type\":\"LegendItem\"}],\"label_text_font_size\":{\"value\":\"8pt\"},\"location\":\"top_center\",\"orientation\":\"horizontal\",\"plot\":{\"id\":\"f19afe14-a68b-4160-bdce-68573dd5c4bf\",\"subtype\":\"Figure\",\"type\":\"Plot\"}},\"id\":\"84a1b946-514d-48d0-88b5-5b30f06c189a\",\"type\":\"Legend\"},{\"attributes\":{},\"id\":\"514169f3-462a-4626-bb00-e49eb40d479c\",\"type\":\"Selection\"},{\"attributes\":{\"line_color\":\"#4daf4a\",\"line_width\":1.5,\"x\":{\"field\":\"x\"},\"y\":{\"field\":\"y\"}},\"id\":\"2e1b1335-5556-4d80-85cf-c862d2e6e90c\",\"type\":\"Line\"},{\"attributes\":{},\"id\":\"5bc1b24a-d082-4778-a08e-b84bbf406e65\",\"type\":\"Selection\"},{\"attributes\":{\"above\":[{\"id\":\"67f70efc-2f98-4eec-91b9-4aa0d78da20b\",\"type\":\"Legend\"}],\"below\":[{\"id\":\"e60d903f-0c20-4506-a15a-7debd10c92dc\",\"type\":\"LinearAxis\"}],\"left\":[{\"id\":\"1b501d9c-c96c-43b1-958e-0241ab4e7cff\",\"type\":\"LogAxis\"}],\"plot_width\":300,\"renderers\":[{\"id\":\"e60d903f-0c20-4506-a15a-7debd10c92dc\",\"type\":\"LinearAxis\"},{\"id\":\"e4dbb776-aadb-4b4f-8bf6-d2f71e7245c7\",\"type\":\"Grid\"},{\"id\":\"1b501d9c-c96c-43b1-958e-0241ab4e7cff\",\"type\":\"LogAxis\"},{\"id\":\"77fc9110-a6aa-41af-a6a1-c6b2b00b0b58\",\"type\":\"Grid\"},{\"id\":\"8d7bd994-3101-4c26-b9e2-2f0635b3f562\",\"type\":\"BoxAnnotation\"},{\"id\":\"63a674ee-3ff2-48f6-81c0-215df8d8e55d\",\"type\":\"GlyphRenderer\"},{\"id\":\"74af43dc-2b6a-46af-934a-bb7585a26ab2\",\"type\":\"GlyphRenderer\"},{\"id\":\"80f7a285-135a-42cb-a88b-9de322a55c31\",\"type\":\"GlyphRenderer\"},{\"id\":\"67f70efc-2f98-4eec-91b9-4aa0d78da20b\",\"type\":\"Legend\"}],\"title\":{\"id\":\"0a7340b2-cef8-4a56-89f1-1757d4e1dfac\",\"type\":\"Title\"},\"toolbar\":{\"id\":\"ee36930e-05db-4e07-991c-a5a07372d890\",\"type\":\"Toolbar\"},\"toolbar_location\":null,\"x_range\":{\"id\":\"14c26d2c-dc27-42f1-9e84-e870edf18ca6\",\"type\":\"Range1d\"},\"x_scale\":{\"id\":\"5040dcdf-5d79-4189-aaeb-225b9aad0065\",\"type\":\"LinearScale\"},\"y_range\":{\"id\":\"f7d1b83f-f51e-4077-9fde-263f8447b59e\",\"type\":\"Range1d\"},\"y_scale\":{\"id\":\"dfa26043-b3bb-4e2c-a3bd-8a367b43efce\",\"type\":\"LogScale\"}},\"id\":\"f7882800-bf2f-4a2c-81ec-9bd288954680\",\"subtype\":\"Figure\",\"type\":\"Plot\"},{\"attributes\":{\"dimension\":1,\"plot\":{\"id\":\"f19afe14-a68b-4160-bdce-68573dd5c4bf\",\"subtype\":\"Figure\",\"type\":\"Plot\"},\"ticker\":{\"id\":\"a598d7c9-71cc-464a-b09c-850a35c8c465\",\"type\":\"LogTicker\"}},\"id\":\"8a427f38-629b-4cdf-b7b1-9c0827f05044\",\"type\":\"Grid\"},{\"attributes\":{\"source\":{\"id\":\"d05a97e7-b38d-4ad6-82fb-a9fe6493a174\",\"type\":\"ColumnDataSource\"}},\"id\":\"b91cd7d4-382a-40f2-9089-54824391971b\",\"type\":\"CDSView\"},{\"attributes\":{\"callback\":null,\"data\":{\"x\":{\"__ndarray__\":\"lAalGK/8Q8CGE5pWDoMgwKSl1BqIsQLA3tedj0Ej/D/B1EsfxC8OQNnO7ksNzw5ASFT1jd9TBED76MoyIs7mP/K34Ws9Fui/B5SoLb0p9b9BHa9TKD3xv87XqD/ppt6/njd2qq/Xtj+IsTWs3Z7dP1IiZ/m+T+E/3uUthbDQ1j8unlvPSSGyPwqYKdAPatG/ob4dgAA44b+hGTDqb0/hvy5r3sa3nNO/PTeDO117ur+OD4jURPWgv4GIasHWxcu/WtYff6dK17+vawS7/i67v0WK81haitQ/KZhcREWt1T8/X2I46pe4PzW+eboZD4o/D9WQrnR0zj/ggxshrEHUP2hEyNKEZcE/X3xvHBvvq7/PFtbGvpWavye0G7YmcqM/gBmhHJD2nL+RdOrQWOSyv57C6w9C2a6/J7MHaNP5q7/hjWIWltauv5rxI9BByq+/qdJtmlm9sb8lWa88jlKov85OPMKYgLC//kbGNGdxv78v3VhOuDy0v/UW3BRHp66/jqAqyq5Utb8wV56ocj+1v8sdzS+mlqy/NrHRaTa0n7/4DIGn8p6UvyR46M5jOpa/WroCp4Eanr9uY8OXpFKfvyXpt68D546/m49UYHpbjj9RoDbaDBimP3AkZA7scqw/7g5nRouopz8Fg7FT5sWXPwCwL9oJTQc/RLPy+5mifb8AMtXr1YlkP+Yr2AP74Zk/tOXHt+32qz9ZQz3YvTCyP5KBroWe37I/zRPAZbbxsz80mqt6IQW1P3RCh8DaH7Y/QEBcyJMjuj/gQYCMeCu+P7+r4BWTx78/\",\"dtype\":\"float64\",\"shape\":[75]},\"y\":{\"__ndarray__\":\"GhExyth1ND/Sv8nbtpRIP2vylNV0PVE/aTum7souWD/At0SJ8fVgPw3Iuahxymc/MSNhhJWvcD/bTfBN02d3P2zb5nxnaoA/CD5h5MAGhz8NmeH1TyaQP+zrCsc9p5Y/LbKd76fGnz/bLW5ISEmmPww9YvTcQq8/JV2OstnstT8Er5Y7M8G+P0c+r3jqkcU/5h99k6ZBzj88bCIzFzjVP4enV8oyxN0//yH99nXg5D8qOpLLf0jtP5kqGJXUifQ/c9cS8kHP/D+/DpwzojQEQIEmwoanVwxA4lgXt9HgE0BSSZ2AJuIbQAMJih9jjiNA5q4l5INuK0AwTKYKRj0zQNv5fmq8/DpAaCJseHrtQkB/+zpwzoxKQM3MzMzMeFJAZmZmZmZqWEAAAAAAAFxeQM3MzMzMJmJAmpmZmZkfZUBmZmZmZhhoQDMzMzMzEWtAAAAAAAAKbkBmZmZmZoFwQM3MzMzM/XFAMzMzMzN6c0CamZmZmfZ0QAAAAAAAc3ZAZmZmZmbvd0DNzMzMzGt5QDMzMzMz6HpAmpmZmZlkfEAAAAAAAOF9QGZmZmZmXX9AZmZmZuZsgECamZmZGSuBQM3MzMxM6YFAAAAAAICngkAzMzMzs2WDQGZmZmbmI4RAmpmZmRnihEDNzMzMTKCFQAAAAACAXoZAMzMzM7Mch0BmZmZm5tqHQJqZmZkZmYhAzczMzExXiUAAAAAAgBWKQDMzMzOz04pAZmZmZuaRi0CamZmZGVCMQM3MzMxMDo1AAAAAAIDMjUAzMzMzs4qOQGZmZmbmSI9A\",\"dtype\":\"float64\",\"shape\":[75]}},\"selected\":{\"id\":\"514169f3-462a-4626-bb00-e49eb40d479c\",\"type\":\"Selection\"},\"selection_policy\":{\"id\":\"439155f2-20ac-4608-accf-31969508874a\",\"type\":\"UnionRenderers\"}},\"id\":\"0b2751e3-4ff8-4c56-87a0-823c704ddf0f\",\"type\":\"ColumnDataSource\"},{\"attributes\":{},\"id\":\"70c6298f-a46f-4583-a641-f12f91c7df60\",\"type\":\"HelpTool\"},{\"attributes\":{\"axis_label\":\"pressure [mb]\",\"formatter\":{\"id\":\"052edd9c-9ebe-4981-ad87-2df3fb73bbe1\",\"type\":\"BasicTickFormatter\"},\"plot\":{\"id\":\"f950d287-7415-4282-8390-b0a82a1f5b8e\",\"subtype\":\"Figure\",\"type\":\"Plot\"},\"ticker\":{\"id\":\"513ccf01-5abc-48dc-8d5b-adda5946bb26\",\"type\":\"BasicTicker\"}},\"id\":\"27db3d63-8bef-416c-b046-669753f1981b\",\"type\":\"LinearAxis\"},{\"attributes\":{\"children\":[{\"id\":\"bd508f7e-79a3-49ff-bb2a-a1c3875a598d\",\"type\":\"ToolbarBox\"},{\"id\":\"64120ebe-5841-44e5-9a57-5535f4ffa65e\",\"type\":\"Column\"}]},\"id\":\"c3bfd8c6-121a-4075-9969-567df2496cde\",\"type\":\"Column\"},{\"attributes\":{\"callback\":null,\"data\":{\"x\":{\"__ndarray__\":\"R/KIaN7AVEClCeJMyPNGQOvRhpxr30JAptxzhxx4PkA7SssMElA4QK6Bp3CyUDNAsVXpjES9LkBFhUV0+5coQMHYwqbbySNA6f09nM3nH0CaSd/3eYoZQDmgiAOW8BNAPYqARh3eDEBkm4vCgvr+P9D+5tWhQfY/P8DwKRnSAkBq38kb17ILQDT7IWuSsxFAUr2Rjm0FFkAinq3s9XgbQGCHwtYcqSFAG64kT303J0C7dRDneyooQD9JYrbK8yRA9S3bneHhIUAIymSuUMMcQIkHLe6VEBdAAau3cITREkA6CiNvkQIPQJU39ki7IQlAaAvwok1UA0BXLQiS4+L7P0xzDpJ2hPI/NNuPGMbJ5z91mUVYxqfSPxqwUPSxZca/G11peifD3L8QzNj5t2jTvwzOozTL360/SPJ4VI1VzD9KJ0nXEIncP8yDdlvHt+4/Et49nYLW9z++2teD4Jn+P+568eH/bwFALf5D9lmAAkCiZAicVOkCQPPT4jNKxwJAOjp3wTzBAUBSQsKNGisBQG4OmjqJwQBAJ3sZoHFuAEA5Ar0Sdi0AQGy4rw5+9f8/7W4nSrC3/z8mPr8zj4T/P4UYRHCQS/8/embVKYcF/z+5YXG+LLP+P/qb8BVUgf4/KvafTtyO/j/avAK1Ppv+PwJV9VVm2P0/JFtYlU/n/D9sN+q2fiX6Pw44e41PNPc/Opt+Z/wN9T+x3vcSW1vzP9ofvWQJlvI/8sciQQBW8j80sfkQa17yPzg5qng2r/I/Oh14WJBh8z+VZjnpctj0P6CcrSuCqQBA\",\"dtype\":\"float64\",\"shape\":[75]},\"y\":{\"__ndarray__\":\"GhExyth1ND/Sv8nbtpRIP2vylNV0PVE/aTum7souWD/At0SJ8fVgPw3Iuahxymc/MSNhhJWvcD/bTfBN02d3P2zb5nxnaoA/CD5h5MAGhz8NmeH1TyaQP+zrCsc9p5Y/LbKd76fGnz/bLW5ISEmmPww9YvTcQq8/JV2OstnstT8Er5Y7M8G+P0c+r3jqkcU/5h99k6ZBzj88bCIzFzjVP4enV8oyxN0//yH99nXg5D8qOpLLf0jtP5kqGJXUifQ/c9cS8kHP/D+/DpwzojQEQIEmwoanVwxA4lgXt9HgE0BSSZ2AJuIbQAMJih9jjiNA5q4l5INuK0AwTKYKRj0zQNv5fmq8/DpAaCJseHrtQkB/+zpwzoxKQM3MzMzMeFJAZmZmZmZqWEAAAAAAAFxeQM3MzMzMJmJAmpmZmZkfZUBmZmZmZhhoQDMzMzMzEWtAAAAAAAAKbkBmZmZmZoFwQM3MzMzM/XFAMzMzMzN6c0CamZmZmfZ0QAAAAAAAc3ZAZmZmZmbvd0DNzMzMzGt5QDMzMzMz6HpAmpmZmZlkfEAAAAAAAOF9QGZmZmZmXX9AZmZmZuZsgECamZmZGSuBQM3MzMxM6YFAAAAAAICngkAzMzMzs2WDQGZmZmbmI4RAmpmZmRnihEDNzMzMTKCFQAAAAACAXoZAMzMzM7Mch0BmZmZm5tqHQJqZmZkZmYhAzczMzExXiUAAAAAAgBWKQDMzMzOz04pAZmZmZuaRi0CamZmZGVCMQM3MzMxMDo1AAAAAAIDMjUAzMzMzs4qOQGZmZmbmSI9A\",\"dtype\":\"float64\",\"shape\":[75]}},\"selected\":{\"id\":\"5bc1b24a-d082-4778-a08e-b84bbf406e65\",\"type\":\"Selection\"},\"selection_policy\":{\"id\":\"a9678bcc-c6ac-45ee-82ef-2d85daee8a5d\",\"type\":\"UnionRenderers\"}},\"id\":\"5757221f-c786-4939-8d01-c63bc3ff49ef\",\"type\":\"ColumnDataSource\"},{\"attributes\":{\"items\":[{\"id\":\"21f73c4f-21cd-466b-9c41-8d907e03e5fc\",\"type\":\"LegendItem\"},{\"id\":\"7f41662d-7ba8-4401-aaac-c73098db89f2\",\"type\":\"LegendItem\"}],\"label_text_font_size\":{\"value\":\"8pt\"},\"location\":\"top_center\",\"orientation\":\"horizontal\",\"plot\":{\"id\":\"f7882800-bf2f-4a2c-81ec-9bd288954680\",\"subtype\":\"Figure\",\"type\":\"Plot\"}},\"id\":\"67f70efc-2f98-4eec-91b9-4aa0d78da20b\",\"type\":\"Legend\"},{\"attributes\":{\"overlay\":{\"id\":\"ac623a12-91dc-47aa-9396-7098f6bfc426\",\"type\":\"BoxAnnotation\"}},\"id\":\"b30c595d-f55e-4c29-a372-e856338d9fc0\",\"type\":\"BoxZoomTool\"},{\"attributes\":{\"children\":[{\"id\":\"f950d287-7415-4282-8390-b0a82a1f5b8e\",\"subtype\":\"Figure\",\"type\":\"Plot\"},{\"id\":\"f7882800-bf2f-4a2c-81ec-9bd288954680\",\"subtype\":\"Figure\",\"type\":\"Plot\"},{\"id\":\"f19afe14-a68b-4160-bdce-68573dd5c4bf\",\"subtype\":\"Figure\",\"type\":\"Plot\"}]},\"id\":\"5a57fc5b-e5ba-44be-b979-feffd538fdf8\",\"type\":\"Row\"},{\"attributes\":{\"source\":{\"id\":\"48c6eb4e-4cb4-4744-8b8e-687d7ee3b182\",\"type\":\"ColumnDataSource\"}},\"id\":\"fab4327a-38c0-4405-add6-774d7b381d31\",\"type\":\"CDSView\"},{\"attributes\":{},\"id\":\"c9b27128-5b09-49f5-9961-97d488b709bd\",\"type\":\"Selection\"},{\"attributes\":{},\"id\":\"439155f2-20ac-4608-accf-31969508874a\",\"type\":\"UnionRenderers\"},{\"attributes\":{\"toolbar\":{\"id\":\"05ebeb2e-f126-447a-bddc-3860ff1ef8bd\",\"type\":\"ProxyToolbar\"},\"toolbar_location\":\"above\"},\"id\":\"bd508f7e-79a3-49ff-bb2a-a1c3875a598d\",\"type\":\"ToolbarBox\"},{\"attributes\":{\"callback\":null,\"end\":0.01,\"start\":1020},\"id\":\"f7d1b83f-f51e-4077-9fde-263f8447b59e\",\"type\":\"Range1d\"},{\"attributes\":{\"axis_label\":\"cooling rate [K/day]\",\"formatter\":{\"id\":\"443e749f-444d-4f13-b94a-f947d7159143\",\"type\":\"BasicTickFormatter\"},\"plot\":{\"id\":\"f950d287-7415-4282-8390-b0a82a1f5b8e\",\"subtype\":\"Figure\",\"type\":\"Plot\"},\"ticker\":{\"id\":\"48e39e53-3e56-48b5-ba86-ff60de14cba8\",\"type\":\"BasicTicker\"}},\"id\":\"abbf1bb2-cde4-4259-9456-972369a93c34\",\"type\":\"LinearAxis\"},{\"attributes\":{\"line_alpha\":0.1,\"line_color\":\"#1f77b4\",\"line_width\":1.5,\"x\":{\"field\":\"x\"},\"y\":{\"field\":\"y\"}},\"id\":\"9858a891-a40c-4ad0-964c-8b8a98b99cf9\",\"type\":\"Line\"},{\"attributes\":{\"label\":{\"value\":\"CRD\"},\"renderers\":[{\"id\":\"74af43dc-2b6a-46af-934a-bb7585a26ab2\",\"type\":\"GlyphRenderer\"},{\"id\":\"80f7a285-135a-42cb-a88b-9de322a55c31\",\"type\":\"GlyphRenderer\"}]},\"id\":\"7f41662d-7ba8-4401-aaac-c73098db89f2\",\"type\":\"LegendItem\"},{\"attributes\":{},\"id\":\"513ccf01-5abc-48dc-8d5b-adda5946bb26\",\"type\":\"BasicTicker\"},{\"attributes\":{},\"id\":\"052edd9c-9ebe-4981-ad87-2df3fb73bbe1\",\"type\":\"BasicTickFormatter\"},{\"attributes\":{},\"id\":\"db434aca-0e64-4c0c-bfc8-a4da5a41a721\",\"type\":\"BasicTicker\"},{\"attributes\":{\"fill_alpha\":{\"value\":0.7},\"fill_color\":{\"value\":\"#984ea3\"},\"line_alpha\":{\"value\":0.7},\"line_color\":{\"value\":\"#984ea3\"},\"x\":{\"field\":\"x\"},\"y\":{\"field\":\"y\"}},\"id\":\"0fefff5e-01bd-4d2c-a3dd-95086becf1df\",\"type\":\"Circle\"},{\"attributes\":{\"num_minor_ticks\":10},\"id\":\"d319a971-1a1f-44d1-8dfd-4a0f4e8aee18\",\"type\":\"LogTicker\"},{\"attributes\":{\"source\":{\"id\":\"028549c8-8b02-4b54-8213-95bcb2abaf78\",\"type\":\"ColumnDataSource\"}},\"id\":\"ef262a0c-fbec-4de8-b518-2699303c864b\",\"type\":\"CDSView\"},{\"attributes\":{},\"id\":\"84e2b206-394a-4e24-949c-f28ac4a4cd82\",\"type\":\"UnionRenderers\"},{\"attributes\":{},\"id\":\"5040dcdf-5d79-4189-aaeb-225b9aad0065\",\"type\":\"LinearScale\"},{\"attributes\":{\"dimension\":1,\"plot\":{\"id\":\"f950d287-7415-4282-8390-b0a82a1f5b8e\",\"subtype\":\"Figure\",\"type\":\"Plot\"},\"ticker\":{\"id\":\"513ccf01-5abc-48dc-8d5b-adda5946bb26\",\"type\":\"BasicTicker\"}},\"id\":\"3666e97d-f414-4923-88c1-532daad410b6\",\"type\":\"Grid\"},{\"attributes\":{\"axis_label\":\"cooling rate [K/day]\",\"formatter\":{\"id\":\"84906f34-0bad-46d3-b60e-5d704f31f464\",\"type\":\"BasicTickFormatter\"},\"plot\":{\"id\":\"f19afe14-a68b-4160-bdce-68573dd5c4bf\",\"subtype\":\"Figure\",\"type\":\"Plot\"},\"ticker\":{\"id\":\"e42e6268-2944-4a6d-b270-27311a1f06bc\",\"type\":\"BasicTicker\"}},\"id\":\"ef57914b-fe51-448c-8ecb-392f7f61f6f4\",\"type\":\"LinearAxis\"},{\"attributes\":{\"callback\":null,\"data\":{\"x\":{\"__ndarray__\":\"R/KIaN7AVEClCeJMyPNGQOvRhpxr30JAptxzhxx4PkA7SssMElA4QK6Bp3CyUDNAsVXpjES9LkBFhUV0+5coQMHYwqbbySNA6f09nM3nH0CaSd/3eYoZQDmgiAOW8BNAPYqARh3eDEBkm4vCgvr+P9D+5tWhQfY/P8DwKRnSAkBq38kb17ILQDT7IWuSsxFAUr2Rjm0FFkAinq3s9XgbQGCHwtYcqSFAG64kT303J0C7dRDneyooQD9JYrbK8yRA9S3bneHhIUAIymSuUMMcQIkHLe6VEBdAAau3cITREkA6CiNvkQIPQJU39ki7IQlAaAvwok1UA0BXLQiS4+L7P0xzDpJ2hPI/NNuPGMbJ5z91mUVYxqfSPxqwUPSxZca/G11peifD3L8QzNj5t2jTvwzOozTL360/SPJ4VI1VzD9KJ0nXEIncP8yDdlvHt+4/Et49nYLW9z++2teD4Jn+P+568eH/bwFALf5D9lmAAkCiZAicVOkCQPPT4jNKxwJAOjp3wTzBAUBSQsKNGisBQG4OmjqJwQBAJ3sZoHFuAEA5Ar0Sdi0AQGy4rw5+9f8/7W4nSrC3/z8mPr8zj4T/P4UYRHCQS/8/embVKYcF/z+5YXG+LLP+P/qb8BVUgf4/KvafTtyO/j/avAK1Ppv+PwJV9VVm2P0/JFtYlU/n/D9sN+q2fiX6Pw44e41PNPc/Opt+Z/wN9T+x3vcSW1vzP9ofvWQJlvI/8sciQQBW8j80sfkQa17yPzg5qng2r/I/Oh14WJBh8z+VZjnpctj0P6CcrSuCqQBA\",\"dtype\":\"float64\",\"shape\":[75]},\"y\":{\"__ndarray__\":\"GhExyth1ND/Sv8nbtpRIP2vylNV0PVE/aTum7souWD/At0SJ8fVgPw3Iuahxymc/MSNhhJWvcD/bTfBN02d3P2zb5nxnaoA/CD5h5MAGhz8NmeH1TyaQP+zrCsc9p5Y/LbKd76fGnz/bLW5ISEmmPww9YvTcQq8/JV2OstnstT8Er5Y7M8G+P0c+r3jqkcU/5h99k6ZBzj88bCIzFzjVP4enV8oyxN0//yH99nXg5D8qOpLLf0jtP5kqGJXUifQ/c9cS8kHP/D+/DpwzojQEQIEmwoanVwxA4lgXt9HgE0BSSZ2AJuIbQAMJih9jjiNA5q4l5INuK0AwTKYKRj0zQNv5fmq8/DpAaCJseHrtQkB/+zpwzoxKQM3MzMzMeFJAZmZmZmZqWEAAAAAAAFxeQM3MzMzMJmJAmpmZmZkfZUBmZmZmZhhoQDMzMzMzEWtAAAAAAAAKbkBmZmZmZoFwQM3MzMzM/XFAMzMzMzN6c0CamZmZmfZ0QAAAAAAAc3ZAZmZmZmbvd0DNzMzMzGt5QDMzMzMz6HpAmpmZmZlkfEAAAAAAAOF9QGZmZmZmXX9AZmZmZuZsgECamZmZGSuBQM3MzMxM6YFAAAAAAICngkAzMzMzs2WDQGZmZmbmI4RAmpmZmRnihEDNzMzMTKCFQAAAAACAXoZAMzMzM7Mch0BmZmZm5tqHQJqZmZkZmYhAzczMzExXiUAAAAAAgBWKQDMzMzOz04pAZmZmZuaRi0CamZmZGVCMQM3MzMxMDo1AAAAAAIDMjUAzMzMzs4qOQGZmZmbmSI9A\",\"dtype\":\"float64\",\"shape\":[75]}},\"selected\":{\"id\":\"913e22e0-aad0-4009-8103-fa4ef8eb2a34\",\"type\":\"Selection\"},\"selection_policy\":{\"id\":\"53753caf-5557-480b-910b-24fcb7d72151\",\"type\":\"UnionRenderers\"}},\"id\":\"48c6eb4e-4cb4-4744-8b8e-687d7ee3b182\",\"type\":\"ColumnDataSource\"},{\"attributes\":{},\"id\":\"84906f34-0bad-46d3-b60e-5d704f31f464\",\"type\":\"BasicTickFormatter\"},{\"attributes\":{\"children\":[{\"id\":\"5a57fc5b-e5ba-44be-b979-feffd538fdf8\",\"type\":\"Row\"}]},\"id\":\"64120ebe-5841-44e5-9a57-5535f4ffa65e\",\"type\":\"Column\"},{\"attributes\":{},\"id\":\"aa013426-e35d-4834-aa91-205e262f4636\",\"type\":\"LogScale\"},{\"attributes\":{},\"id\":\"48e39e53-3e56-48b5-ba86-ff60de14cba8\",\"type\":\"BasicTicker\"},{\"attributes\":{\"fill_alpha\":{\"value\":0.1},\"fill_color\":{\"value\":\"#1f77b4\"},\"line_alpha\":{\"value\":0.1},\"line_color\":{\"value\":\"#1f77b4\"},\"x\":{\"field\":\"x\"},\"y\":{\"field\":\"y\"}},\"id\":\"6106232c-6b9d-4879-b2ac-a285e415b681\",\"type\":\"Circle\"},{\"attributes\":{},\"id\":\"c3b23dd5-ae99-45fc-b9a4-bb0ccae5e8b3\",\"type\":\"WheelZoomTool\"},{\"attributes\":{\"overlay\":{\"id\":\"d80c0b8f-5002-4399-b132-16e43bf3118d\",\"type\":\"BoxAnnotation\"}},\"id\":\"9afdb5ce-b76f-4f63-bb43-a82ac833c9e4\",\"type\":\"BoxZoomTool\"},{\"attributes\":{\"plot\":{\"id\":\"f19afe14-a68b-4160-bdce-68573dd5c4bf\",\"subtype\":\"Figure\",\"type\":\"Plot\"},\"ticker\":{\"id\":\"e42e6268-2944-4a6d-b270-27311a1f06bc\",\"type\":\"BasicTicker\"}},\"id\":\"a747f05d-48eb-4a81-83e2-de13ed141af5\",\"type\":\"Grid\"},{\"attributes\":{\"label\":{\"value\":\"CLIRAD (single-run)\"},\"renderers\":[{\"id\":\"63a674ee-3ff2-48f6-81c0-215df8d8e55d\",\"type\":\"GlyphRenderer\"}]},\"id\":\"21f73c4f-21cd-466b-9c41-8d907e03e5fc\",\"type\":\"LegendItem\"},{\"attributes\":{},\"id\":\"ebd814e2-968a-4487-ac97-76c2ebd31c52\",\"type\":\"SaveTool\"},{\"attributes\":{\"bottom_units\":\"screen\",\"fill_alpha\":{\"value\":0.5},\"fill_color\":{\"value\":\"lightgrey\"},\"left_units\":\"screen\",\"level\":\"overlay\",\"line_alpha\":{\"value\":1.0},\"line_color\":{\"value\":\"black\"},\"line_dash\":[4,4],\"line_width\":{\"value\":2},\"plot\":null,\"render_mode\":\"css\",\"right_units\":\"screen\",\"top_units\":\"screen\"},\"id\":\"d80c0b8f-5002-4399-b132-16e43bf3118d\",\"type\":\"BoxAnnotation\"},{\"attributes\":{},\"id\":\"913e22e0-aad0-4009-8103-fa4ef8eb2a34\",\"type\":\"Selection\"},{\"attributes\":{\"callback\":null,\"data\":{\"x\":{\"__ndarray__\":\"+91suA2FRUDEhDu3BNNCQJGH2RpTtEFAEt02UCgdQEDVxLSQChY8QIhbJRqUKjdAYVUzOB7pMUDTM3KX3QQqQEK9BNB3SCJA6NjTUF6dGkBKgvPiLzsVQL0Sjm8nBhJA/DvUw9qUDUDkg8wWHTEDQPqPmlKB6f4/+3yWOi+sBUBavERq4UMMQLVhH27xnBBAfwWOfm3eE0DummfvB08ZQAaUixg3DCFArKetlIYCJ0Cs7TuihhkoQB+fXFuzhCRAQi/iYYwnIUBZuHizlFYcQC1AvJM7WRhAg3T9xFgsFEA0HebAUMcPQFKxsGLKOwlAuRjZ7ZQ7BUAmhydNp3kAQNl7ZywnsfQ/bePIZtQK5j8GONhrav7QPxDDyUYoicG/tW4zfJCS3r80aRMuziHYv2KS/mjbLl+/fwV3ehhXxT+O1XwUPq7YP7JEdD4ju+w/6QCXA6269j/1X/IRTNf9P3eY3xv76wBA9MudvM6EAUC4nZXZbkcCQJZjjxetTAJAN+UlS5cWAUCXT334HoEAQPbZ2qEuTwBAxddFMwkvAEAgAG4tOAQAQIwWdH+UnP8/BWSLQ0Y//z+ZMGChRAf/P7Wo5GjCDf8/mQ+WHj5C/z+7FkMl7WP/Px29Y3brZP8/oy7TqCBM/z/lglFOVvr+P18JCfCU2P0/cmhc+6zJ/D8DIuChwy/6P76YinnXm/c/Z9o81bPt9T/nsnvwZn70P/MHGE0DxPM/L8l+pxuV8z/YaqQova7zP2CtsiQ0EfQ/P+H9lMkD9T+yagFyKrv2P/6hXMS+pwFA\",\"dtype\":\"float64\",\"shape\":[75]},\"y\":{\"__ndarray__\":\"GhExyth1ND/Sv8nbtpRIP2vylNV0PVE/aTum7souWD/At0SJ8fVgPw3Iuahxymc/MSNhhJWvcD/bTfBN02d3P2zb5nxnaoA/CD5h5MAGhz8NmeH1TyaQP+zrCsc9p5Y/LbKd76fGnz/bLW5ISEmmPww9YvTcQq8/JV2OstnstT8Er5Y7M8G+P0c+r3jqkcU/5h99k6ZBzj88bCIzFzjVP4enV8oyxN0//yH99nXg5D8qOpLLf0jtP5kqGJXUifQ/c9cS8kHP/D+/DpwzojQEQIEmwoanVwxA4lgXt9HgE0BSSZ2AJuIbQAMJih9jjiNA5q4l5INuK0AwTKYKRj0zQNv5fmq8/DpAaCJseHrtQkB/+zpwzoxKQM3MzMzMeFJAZmZmZmZqWEAAAAAAAFxeQM3MzMzMJmJAmpmZmZkfZUBmZmZmZhhoQDMzMzMzEWtAAAAAAAAKbkBmZmZmZoFwQM3MzMzM/XFAMzMzMzN6c0CamZmZmfZ0QAAAAAAAc3ZAZmZmZmbvd0DNzMzMzGt5QDMzMzMz6HpAmpmZmZlkfEAAAAAAAOF9QGZmZmZmXX9AZmZmZuZsgECamZmZGSuBQM3MzMxM6YFAAAAAAICngkAzMzMzs2WDQGZmZmbmI4RAmpmZmRnihEDNzMzMTKCFQAAAAACAXoZAMzMzM7Mch0BmZmZm5tqHQJqZmZkZmYhAzczMzExXiUAAAAAAgBWKQDMzMzOz04pAZmZmZuaRi0CamZmZGVCMQM3MzMxMDo1AAAAAAIDMjUAzMzMzs4qOQGZmZmbmSI9A\",\"dtype\":\"float64\",\"shape\":[75]}},\"selected\":{\"id\":\"c9b27128-5b09-49f5-9961-97d488b709bd\",\"type\":\"Selection\"},\"selection_policy\":{\"id\":\"beb029df-ea45-4538-9709-24106074aa91\",\"type\":\"UnionRenderers\"}},\"id\":\"4646b4f4-903c-4fdf-b713-f8c766bb92f2\",\"type\":\"ColumnDataSource\"},{\"attributes\":{\"overlay\":{\"id\":\"8d7bd994-3101-4c26-b9e2-2f0635b3f562\",\"type\":\"BoxAnnotation\"}},\"id\":\"38319e52-f2ca-4551-bb97-ba89a43df6e4\",\"type\":\"BoxZoomTool\"},{\"attributes\":{},\"id\":\"5e21be1a-82dc-4f54-905e-41625a81e92c\",\"type\":\"Selection\"},{\"attributes\":{},\"id\":\"edf62f5e-f1e4-4cd1-86f1-42ddb13f69d5\",\"type\":\"PanTool\"},{\"attributes\":{},\"id\":\"1d658458-f7d9-4efc-80f0-b0fa2fd9139f\",\"type\":\"HelpTool\"},{\"attributes\":{\"above\":[{\"id\":\"84a1b946-514d-48d0-88b5-5b30f06c189a\",\"type\":\"Legend\"}],\"below\":[{\"id\":\"ef57914b-fe51-448c-8ecb-392f7f61f6f4\",\"type\":\"LinearAxis\"}],\"left\":[{\"id\":\"bba9742e-fa82-4ec8-8090-ffa034ba84e3\",\"type\":\"LogAxis\"}],\"plot_width\":300,\"renderers\":[{\"id\":\"ef57914b-fe51-448c-8ecb-392f7f61f6f4\",\"type\":\"LinearAxis\"},{\"id\":\"a747f05d-48eb-4a81-83e2-de13ed141af5\",\"type\":\"Grid\"},{\"id\":\"bba9742e-fa82-4ec8-8090-ffa034ba84e3\",\"type\":\"LogAxis\"},{\"id\":\"8a427f38-629b-4cdf-b7b1-9c0827f05044\",\"type\":\"Grid\"},{\"id\":\"d80c0b8f-5002-4399-b132-16e43bf3118d\",\"type\":\"BoxAnnotation\"},{\"id\":\"3fcb00a2-554f-44d9-af07-cd4b886e9b81\",\"type\":\"GlyphRenderer\"},{\"id\":\"15df1030-5606-4b46-9708-2df0c65eaaa2\",\"type\":\"GlyphRenderer\"},{\"id\":\"84a1b946-514d-48d0-88b5-5b30f06c189a\",\"type\":\"Legend\"}],\"title\":{\"id\":\"18d4fddc-6b3f-4382-a437-ddc324fa9c15\",\"type\":\"Title\"},\"toolbar\":{\"id\":\"747e1e81-7502-4dc9-87bc-1b229f4fd768\",\"type\":\"Toolbar\"},\"toolbar_location\":null,\"x_range\":{\"id\":\"6c5a4795-b54c-4204-834c-b74ae174b0f1\",\"type\":\"Range1d\"},\"x_scale\":{\"id\":\"4447003e-ebd0-4576-874b-ede6287526e9\",\"type\":\"LinearScale\"},\"y_range\":{\"id\":\"83e38149-86e6-4557-aaad-a354bf4e47ea\",\"type\":\"Range1d\"},\"y_scale\":{\"id\":\"aa013426-e35d-4834-aa91-205e262f4636\",\"type\":\"LogScale\"}},\"id\":\"f19afe14-a68b-4160-bdce-68573dd5c4bf\",\"subtype\":\"Figure\",\"type\":\"Plot\"},{\"attributes\":{},\"id\":\"a7f2c355-b207-4ac1-a39f-b9effd4dc989\",\"type\":\"ResetTool\"},{\"attributes\":{},\"id\":\"2e79e14f-8015-48d3-ba77-b11b28ae3b22\",\"type\":\"WheelZoomTool\"},{\"attributes\":{\"dimension\":1,\"plot\":{\"id\":\"f7882800-bf2f-4a2c-81ec-9bd288954680\",\"subtype\":\"Figure\",\"type\":\"Plot\"},\"ticker\":{\"id\":\"d319a971-1a1f-44d1-8dfd-4a0f4e8aee18\",\"type\":\"LogTicker\"}},\"id\":\"77fc9110-a6aa-41af-a6a1-c6b2b00b0b58\",\"type\":\"Grid\"},{\"attributes\":{},\"id\":\"06f22c7d-ce03-4468-8a12-ce4c247948b7\",\"type\":\"HelpTool\"},{\"attributes\":{\"num_minor_ticks\":10},\"id\":\"a598d7c9-71cc-464a-b09c-850a35c8c465\",\"type\":\"LogTicker\"},{\"attributes\":{\"fill_alpha\":{\"value\":0.7},\"fill_color\":{\"value\":\"#4daf4a\"},\"line_alpha\":{\"value\":0.7},\"line_color\":{\"value\":\"#4daf4a\"},\"x\":{\"field\":\"x\"},\"y\":{\"field\":\"y\"}},\"id\":\"ec749cfd-ab71-478d-a1b3-6731036f4025\",\"type\":\"Circle\"},{\"attributes\":{\"bottom_units\":\"screen\",\"fill_alpha\":{\"value\":0.5},\"fill_color\":{\"value\":\"lightgrey\"},\"left_units\":\"screen\",\"level\":\"overlay\",\"line_alpha\":{\"value\":1.0},\"line_color\":{\"value\":\"black\"},\"line_dash\":[4,4],\"line_width\":{\"value\":2},\"plot\":null,\"render_mode\":\"css\",\"right_units\":\"screen\",\"top_units\":\"screen\"},\"id\":\"8d7bd994-3101-4c26-b9e2-2f0635b3f562\",\"type\":\"BoxAnnotation\"},{\"attributes\":{},\"id\":\"fc31bf32-bf51-45d2-9ba1-4f391d93f1de\",\"type\":\"ResetTool\"},{\"attributes\":{},\"id\":\"777dcfa5-f95e-415e-b0c5-1be1d8c013ed\",\"type\":\"SaveTool\"},{\"attributes\":{\"plot\":{\"id\":\"f7882800-bf2f-4a2c-81ec-9bd288954680\",\"subtype\":\"Figure\",\"type\":\"Plot\"},\"ticker\":{\"id\":\"db434aca-0e64-4c0c-bfc8-a4da5a41a721\",\"type\":\"BasicTicker\"}},\"id\":\"e4dbb776-aadb-4b4f-8bf6-d2f71e7245c7\",\"type\":\"Grid\"},{\"attributes\":{\"line_alpha\":0.1,\"line_color\":\"#1f77b4\",\"line_width\":1.5,\"x\":{\"field\":\"x\"},\"y\":{\"field\":\"y\"}},\"id\":\"69bbcf11-c5c8-4250-a596-5c44d3933246\",\"type\":\"Line\"},{\"attributes\":{\"line_alpha\":0.6,\"line_color\":\"#377eb8\",\"line_dash\":[6],\"line_width\":5,\"x\":{\"field\":\"x\"},\"y\":{\"field\":\"y\"}},\"id\":\"4c15f731-7048-4e32-a50f-d2fe1253cfa2\",\"type\":\"Line\"},{\"attributes\":{\"axis_label\":\"pressure [mb]\",\"formatter\":{\"id\":\"f0f810df-3427-4808-a955-75790ab70525\",\"type\":\"LogTickFormatter\"},\"plot\":{\"id\":\"f19afe14-a68b-4160-bdce-68573dd5c4bf\",\"subtype\":\"Figure\",\"type\":\"Plot\"},\"ticker\":{\"id\":\"a598d7c9-71cc-464a-b09c-850a35c8c465\",\"type\":\"LogTicker\"}},\"id\":\"bba9742e-fa82-4ec8-8090-ffa034ba84e3\",\"type\":\"LogAxis\"},{\"attributes\":{\"data_source\":{\"id\":\"0b2751e3-4ff8-4c56-87a0-823c704ddf0f\",\"type\":\"ColumnDataSource\"},\"glyph\":{\"id\":\"0fefff5e-01bd-4d2c-a3dd-95086becf1df\",\"type\":\"Circle\"},\"hover_glyph\":null,\"muted_glyph\":null,\"nonselection_glyph\":{\"id\":\"740157bf-8d8c-4f61-9798-f97676e6a4fa\",\"type\":\"Circle\"},\"selection_glyph\":null,\"view\":{\"id\":\"024ae267-7ca2-42c4-9c7f-8913dcd25e6e\",\"type\":\"CDSView\"}},\"id\":\"3fcb00a2-554f-44d9-af07-cd4b886e9b81\",\"type\":\"GlyphRenderer\"},{\"attributes\":{\"active_drag\":\"auto\",\"active_inspect\":\"auto\",\"active_scroll\":\"auto\",\"active_tap\":\"auto\",\"tools\":[{\"id\":\"f6f44c71-3996-4517-8375-e3bb34a4cffd\",\"type\":\"PanTool\"},{\"id\":\"aa5ad6cd-8728-424f-ade4-3682f8f5f1d7\",\"type\":\"WheelZoomTool\"},{\"id\":\"b30c595d-f55e-4c29-a372-e856338d9fc0\",\"type\":\"BoxZoomTool\"},{\"id\":\"38719300-fbc0-49de-bc94-67d5d4be39dc\",\"type\":\"SaveTool\"},{\"id\":\"35a1e7d9-d232-4c27-955e-73044bdaae67\",\"type\":\"ResetTool\"},{\"id\":\"70c6298f-a46f-4583-a641-f12f91c7df60\",\"type\":\"HelpTool\"}]},\"id\":\"6070bb8b-1013-4dfc-8e9c-48b240e466c9\",\"type\":\"Toolbar\"},{\"attributes\":{},\"id\":\"53753caf-5557-480b-910b-24fcb7d72151\",\"type\":\"UnionRenderers\"},{\"attributes\":{\"active_drag\":\"auto\",\"active_inspect\":\"auto\",\"active_scroll\":\"auto\",\"active_tap\":\"auto\",\"tools\":[{\"id\":\"eb99fc31-f3a0-4f5e-9cae-b3d38b1a959b\",\"type\":\"PanTool\"},{\"id\":\"c3b23dd5-ae99-45fc-b9a4-bb0ccae5e8b3\",\"type\":\"WheelZoomTool\"},{\"id\":\"9afdb5ce-b76f-4f63-bb43-a82ac833c9e4\",\"type\":\"BoxZoomTool\"},{\"id\":\"777dcfa5-f95e-415e-b0c5-1be1d8c013ed\",\"type\":\"SaveTool\"},{\"id\":\"fc31bf32-bf51-45d2-9ba1-4f391d93f1de\",\"type\":\"ResetTool\"},{\"id\":\"06f22c7d-ce03-4468-8a12-ce4c247948b7\",\"type\":\"HelpTool\"}]},\"id\":\"747e1e81-7502-4dc9-87bc-1b229f4fd768\",\"type\":\"Toolbar\"},{\"attributes\":{\"items\":[{\"id\":\"ee56ba24-d5b2-44db-bc9a-f79afae8a3e3\",\"type\":\"LegendItem\"},{\"id\":\"ce9f74be-78b5-4a6a-8924-6b3b5509efb6\",\"type\":\"LegendItem\"}],\"label_text_font_size\":{\"value\":\"8pt\"},\"location\":\"top_center\",\"orientation\":\"horizontal\",\"plot\":{\"id\":\"f950d287-7415-4282-8390-b0a82a1f5b8e\",\"subtype\":\"Figure\",\"type\":\"Plot\"}},\"id\":\"e3bf0f35-b9cf-4b3e-aa1d-69a7e0dfb8fe\",\"type\":\"Legend\"},{\"attributes\":{\"fill_alpha\":{\"value\":0.1},\"fill_color\":{\"value\":\"#1f77b4\"},\"line_alpha\":{\"value\":0.1},\"line_color\":{\"value\":\"#1f77b4\"},\"x\":{\"field\":\"x\"},\"y\":{\"field\":\"y\"}},\"id\":\"740157bf-8d8c-4f61-9798-f97676e6a4fa\",\"type\":\"Circle\"},{\"attributes\":{},\"id\":\"ce8aa40f-a290-41db-bc76-5d64dddea920\",\"type\":\"LinearScale\"},{\"attributes\":{},\"id\":\"eb99fc31-f3a0-4f5e-9cae-b3d38b1a959b\",\"type\":\"PanTool\"},{\"attributes\":{\"source\":{\"id\":\"0b2751e3-4ff8-4c56-87a0-823c704ddf0f\",\"type\":\"ColumnDataSource\"}},\"id\":\"024ae267-7ca2-42c4-9c7f-8913dcd25e6e\",\"type\":\"CDSView\"},{\"attributes\":{},\"id\":\"0d278ebe-3354-4fbf-bf41-6182457f1df2\",\"type\":\"LinearScale\"},{\"attributes\":{\"callback\":null,\"data\":{\"x\":{\"__ndarray__\":\"lAalGK/8Q8CGE5pWDoMgwKSl1BqIsQLA3tedj0Ej/D/B1EsfxC8OQNnO7ksNzw5ASFT1jd9TBED76MoyIs7mP/K34Ws9Fui/B5SoLb0p9b9BHa9TKD3xv87XqD/ppt6/njd2qq/Xtj+IsTWs3Z7dP1IiZ/m+T+E/3uUthbDQ1j8unlvPSSGyPwqYKdAPatG/ob4dgAA44b+hGTDqb0/hvy5r3sa3nNO/PTeDO117ur+OD4jURPWgv4GIasHWxcu/WtYff6dK17+vawS7/i67v0WK81haitQ/KZhcREWt1T8/X2I46pe4PzW+eboZD4o/D9WQrnR0zj/ggxshrEHUP2hEyNKEZcE/X3xvHBvvq7/PFtbGvpWavye0G7YmcqM/gBmhHJD2nL+RdOrQWOSyv57C6w9C2a6/J7MHaNP5q7/hjWIWltauv5rxI9BByq+/qdJtmlm9sb8lWa88jlKov85OPMKYgLC//kbGNGdxv78v3VhOuDy0v/UW3BRHp66/jqAqyq5Utb8wV56ocj+1v8sdzS+mlqy/NrHRaTa0n7/4DIGn8p6UvyR46M5jOpa/WroCp4Eanr9uY8OXpFKfvyXpt68D546/m49UYHpbjj9RoDbaDBimP3AkZA7scqw/7g5nRouopz8Fg7FT5sWXPwCwL9oJTQc/RLPy+5mifb8AMtXr1YlkP+Yr2AP74Zk/tOXHt+32qz9ZQz3YvTCyP5KBroWe37I/zRPAZbbxsz80mqt6IQW1P3RCh8DaH7Y/QEBcyJMjuj/gQYCMeCu+P7+r4BWTx78/\",\"dtype\":\"float64\",\"shape\":[75]},\"y\":{\"__ndarray__\":\"GhExyth1ND/Sv8nbtpRIP2vylNV0PVE/aTum7souWD/At0SJ8fVgPw3Iuahxymc/MSNhhJWvcD/bTfBN02d3P2zb5nxnaoA/CD5h5MAGhz8NmeH1TyaQP+zrCsc9p5Y/LbKd76fGnz/bLW5ISEmmPww9YvTcQq8/JV2OstnstT8Er5Y7M8G+P0c+r3jqkcU/5h99k6ZBzj88bCIzFzjVP4enV8oyxN0//yH99nXg5D8qOpLLf0jtP5kqGJXUifQ/c9cS8kHP/D+/DpwzojQEQIEmwoanVwxA4lgXt9HgE0BSSZ2AJuIbQAMJih9jjiNA5q4l5INuK0AwTKYKRj0zQNv5fmq8/DpAaCJseHrtQkB/+zpwzoxKQM3MzMzMeFJAZmZmZmZqWEAAAAAAAFxeQM3MzMzMJmJAmpmZmZkfZUBmZmZmZhhoQDMzMzMzEWtAAAAAAAAKbkBmZmZmZoFwQM3MzMzM/XFAMzMzMzN6c0CamZmZmfZ0QAAAAAAAc3ZAZmZmZmbvd0DNzMzMzGt5QDMzMzMz6HpAmpmZmZlkfEAAAAAAAOF9QGZmZmZmXX9AZmZmZuZsgECamZmZGSuBQM3MzMxM6YFAAAAAAICngkAzMzMzs2WDQGZmZmbmI4RAmpmZmRnihEDNzMzMTKCFQAAAAACAXoZAMzMzM7Mch0BmZmZm5tqHQJqZmZkZmYhAzczMzExXiUAAAAAAgBWKQDMzMzOz04pAZmZmZuaRi0CamZmZGVCMQM3MzMxMDo1AAAAAAIDMjUAzMzMzs4qOQGZmZmbmSI9A\",\"dtype\":\"float64\",\"shape\":[75]}},\"selected\":{\"id\":\"c9d02a06-2efb-49fb-a6e0-793f50dda369\",\"type\":\"Selection\"},\"selection_policy\":{\"id\":\"752495e8-bf74-47e5-b50a-1d4b414aab08\",\"type\":\"UnionRenderers\"}},\"id\":\"d119c00c-62df-48f9-90d6-c1b19c560529\",\"type\":\"ColumnDataSource\"},{\"attributes\":{\"callback\":null,\"end\":0.01,\"start\":1020},\"id\":\"071edea0-af8c-4cac-baa8-0cce755ceea6\",\"type\":\"Range1d\"},{\"attributes\":{\"data_source\":{\"id\":\"d119c00c-62df-48f9-90d6-c1b19c560529\",\"type\":\"ColumnDataSource\"},\"glyph\":{\"id\":\"0c4b4a61-bb26-46e3-a2fd-7b22ec12bf72\",\"type\":\"Line\"},\"hover_glyph\":null,\"muted_glyph\":null,\"nonselection_glyph\":{\"id\":\"69bbcf11-c5c8-4250-a596-5c44d3933246\",\"type\":\"Line\"},\"selection_glyph\":null,\"view\":{\"id\":\"bb0a120f-cc60-44f0-9a70-8b13a488392f\",\"type\":\"CDSView\"}},\"id\":\"15df1030-5606-4b46-9708-2df0c65eaaa2\",\"type\":\"GlyphRenderer\"},{\"attributes\":{\"callback\":null,\"end\":0.01,\"start\":1020},\"id\":\"83e38149-86e6-4557-aaad-a354bf4e47ea\",\"type\":\"Range1d\"},{\"attributes\":{\"line_alpha\":0.8,\"line_color\":\"#984ea3\",\"line_width\":1.5,\"x\":{\"field\":\"x\"},\"y\":{\"field\":\"y\"}},\"id\":\"0c4b4a61-bb26-46e3-a2fd-7b22ec12bf72\",\"type\":\"Line\"}],\"root_ids\":[\"c3bfd8c6-121a-4075-9969-567df2496cde\"]},\"title\":\"Bokeh Application\",\"version\":\"0.12.16\"}};\n",
       "  var render_items = [{\"docid\":\"54d7ee33-fe8d-4ada-a2b9-02e808faa5e7\",\"elementid\":\"8b0ff270-feba-45f3-8a24-767ffd83efca\",\"modelid\":\"c3bfd8c6-121a-4075-9969-567df2496cde\"}];\n",
       "  root.Bokeh.embed.embed_items_notebook(docs_json, render_items);\n",
       "\n",
       "  }\n",
       "  if (root.Bokeh !== undefined) {\n",
       "    embed_document(root);\n",
       "  } else {\n",
       "    var attempts = 0;\n",
       "    var timer = setInterval(function(root) {\n",
       "      if (root.Bokeh !== undefined) {\n",
       "        embed_document(root);\n",
       "        clearInterval(timer);\n",
       "      }\n",
       "      attempts++;\n",
       "      if (attempts > 100) {\n",
       "        console.log(\"Bokeh: ERROR: Unable to run BokehJS code because BokehJS library is missing\")\n",
       "        clearInterval(timer);\n",
       "      }\n",
       "    }, 10, root)\n",
       "  }\n",
       "})(window);"
      ],
      "application/vnd.bokehjs_exec.v0+json": ""
     },
     "metadata": {
      "application/vnd.bokehjs_exec.v0+json": {
       "id": "c3bfd8c6-121a-4075-9969-567df2496cde"
      }
     },
     "output_type": "display_data"
    },
    {
     "data": {
      "text/markdown": [
       "*FIGURE.* Cooling rates & difference."
      ],
      "text/plain": [
       "<IPython.core.display.Markdown object>"
      ]
     },
     "metadata": {},
     "output_type": "display_data"
    },
    {
     "data": {
      "text/html": [
       "<a id=\"Fluxes._trp.\"></a>"
      ],
      "text/plain": [
       "<IPython.core.display.HTML object>"
      ]
     },
     "metadata": {},
     "output_type": "display_data"
    },
    {
     "data": {
      "text/markdown": [
       "# Fluxes. trp."
      ],
      "text/plain": [
       "<IPython.core.display.Markdown object>"
      ]
     },
     "metadata": {},
     "output_type": "display_data"
    },
    {
     "data": {
      "text/html": [
       "\n",
       "<div class=\"bk-root\">\n",
       "    <div class=\"bk-plotdiv\" id=\"50568b03-a463-418f-8118-247d4d80c3a2\"></div>\n",
       "</div>"
      ]
     },
     "metadata": {},
     "output_type": "display_data"
    },
    {
     "data": {
      "application/javascript": [
       "(function(root) {\n",
       "  function embed_document(root) {\n",
       "    \n",
       "  var docs_json = {\"1a7bab1d-ab6e-44fc-9af1-d166d67f1351\":{\"roots\":{\"references\":[{\"attributes\":{\"callback\":null,\"data\":{\"band\":[\"1\",\"2\",\"3\",\"4\",\"5\",\"6\",\"7\",\"8\",\"9\",\"10\",\"11\"],\"flux\":{\"__ndarray__\":\"AADADkbs874Ak+S5vg/QPwANMzSeCMq/ABTRr62frj8A8Z2Y9WLjP6As7j8yHd0/gB2NQ/0usj8AQGTbs/iOP0Churn429E/AFDtmpDWiD8AO3arQl6wPw==\",\"dtype\":\"float64\",\"shape\":[11]}},\"selected\":{\"id\":\"dced3481-c929-42b5-b767-7263d8f70b8a\",\"type\":\"Selection\"},\"selection_policy\":{\"id\":\"e26397ee-ce94-4e10-b1dc-438eae2c3024\",\"type\":\"UnionRenderers\"}},\"id\":\"3f8e92be-56b5-4994-b44c-da025b1af1dc\",\"type\":\"ColumnDataSource\"},{\"attributes\":{\"plot\":null,\"text\":\"SFC flux. CLIRAD (single-run) - CRD.\"},\"id\":\"b28c4001-eeb2-4323-b409-5196d13f2cc8\",\"type\":\"Title\"},{\"attributes\":{},\"id\":\"953219cb-a08f-4e26-aafd-ccf5f8fdbc1e\",\"type\":\"BasicTickFormatter\"},{\"attributes\":{\"active_drag\":\"auto\",\"active_inspect\":\"auto\",\"active_scroll\":\"auto\",\"active_tap\":\"auto\",\"tools\":[{\"id\":\"788d667e-a1ee-4fcb-a75a-c3cd6bbc3b75\",\"type\":\"PanTool\"},{\"id\":\"208ff1e4-9452-409c-822c-25e0cccdbbea\",\"type\":\"WheelZoomTool\"},{\"id\":\"2badcc08-4f0b-45ad-8647-d4052875a6c4\",\"type\":\"BoxZoomTool\"},{\"id\":\"43239792-0fd2-46b4-bcbd-afd139cbc775\",\"type\":\"SaveTool\"},{\"id\":\"0a13fde4-888d-44aa-ab2e-676c054572ff\",\"type\":\"ResetTool\"},{\"id\":\"394d47e7-4e5c-4a8d-a32d-b1375cbfce36\",\"type\":\"HelpTool\"}]},\"id\":\"75199e83-55ad-412e-9a9a-7db3d1343c84\",\"type\":\"Toolbar\"},{\"attributes\":{\"callback\":null,\"factors\":[\"1\",\"2\",\"3\",\"4\",\"5\",\"6\",\"7\",\"8\",\"9\",\"10\",\"11\"]},\"id\":\"d1e026cd-e97a-42d6-945b-709a76a5608e\",\"type\":\"FactorRange\"},{\"attributes\":{\"source\":{\"id\":\"3f8e92be-56b5-4994-b44c-da025b1af1dc\",\"type\":\"ColumnDataSource\"}},\"id\":\"ac620946-7b1a-429c-bc00-c4d95829b098\",\"type\":\"CDSView\"},{\"attributes\":{\"below\":[{\"id\":\"ba93f81c-9f0c-49c7-89aa-9f99f4f60fe3\",\"type\":\"CategoricalAxis\"}],\"left\":[{\"id\":\"76d1f3fa-e1e8-4e64-a3a8-e92d39d9ed66\",\"type\":\"LinearAxis\"}],\"plot_height\":300,\"plot_width\":300,\"renderers\":[{\"id\":\"ba93f81c-9f0c-49c7-89aa-9f99f4f60fe3\",\"type\":\"CategoricalAxis\"},{\"id\":\"1f716f71-b2e4-4984-a76e-c0d232be006e\",\"type\":\"Grid\"},{\"id\":\"76d1f3fa-e1e8-4e64-a3a8-e92d39d9ed66\",\"type\":\"LinearAxis\"},{\"id\":\"0a0e43ef-73fa-458e-9506-a0a464826a18\",\"type\":\"Grid\"},{\"id\":\"b9482b19-48fc-4b9f-b34e-19a521076f74\",\"type\":\"BoxAnnotation\"},{\"id\":\"b3954cee-6897-4a65-a51a-1f054e4cdac8\",\"type\":\"GlyphRenderer\"}],\"title\":{\"id\":\"b28c4001-eeb2-4323-b409-5196d13f2cc8\",\"type\":\"Title\"},\"toolbar\":{\"id\":\"387155d5-34ed-4872-b5e2-996f6ae4504b\",\"type\":\"Toolbar\"},\"toolbar_location\":null,\"x_range\":{\"id\":\"83c88d89-dce6-4a23-b3b1-70b14cfe90c9\",\"type\":\"FactorRange\"},\"x_scale\":{\"id\":\"394f6cee-5306-471e-a9e0-3a22c519f7b3\",\"type\":\"CategoricalScale\"},\"y_range\":{\"id\":\"735e9e3b-016d-4d1e-b2bf-be81e5fe59dc\",\"type\":\"DataRange1d\"},\"y_scale\":{\"id\":\"ef1cf6fa-11e1-4486-a2b3-1b4e9681ccd1\",\"type\":\"LinearScale\"}},\"id\":\"fc9814c2-6a22-4039-8d41-72ed4b8bd9c4\",\"subtype\":\"Figure\",\"type\":\"Plot\"},{\"attributes\":{\"plot\":null,\"text\":\"TOA flux. CLIRAD (single-run) - CRD.\"},\"id\":\"769859be-9c1c-46ad-9ff3-f845c13a1a53\",\"type\":\"Title\"},{\"attributes\":{\"fill_alpha\":{\"value\":0.1},\"fill_color\":{\"value\":\"#1f77b4\"},\"line_alpha\":{\"value\":0.1},\"line_color\":{\"value\":\"#1f77b4\"},\"top\":{\"field\":\"flux\"},\"width\":{\"value\":0.9},\"x\":{\"field\":\"band\"}},\"id\":\"82a7a97d-1171-4cb0-a8ff-aaee6fe7d705\",\"type\":\"VBar\"},{\"attributes\":{\"callback\":null},\"id\":\"7f93caf5-796b-48c0-91be-33fba9dc02e0\",\"type\":\"DataRange1d\"},{\"attributes\":{\"below\":[{\"id\":\"97f73ac5-0209-4e8b-a3ae-142822d5d199\",\"type\":\"CategoricalAxis\"}],\"left\":[{\"id\":\"8764e18e-e479-49e5-ba80-5838095414b8\",\"type\":\"LinearAxis\"}],\"plot_height\":300,\"plot_width\":300,\"renderers\":[{\"id\":\"97f73ac5-0209-4e8b-a3ae-142822d5d199\",\"type\":\"CategoricalAxis\"},{\"id\":\"e375d3c0-3fee-444d-9ebf-198a87a9d304\",\"type\":\"Grid\"},{\"id\":\"8764e18e-e479-49e5-ba80-5838095414b8\",\"type\":\"LinearAxis\"},{\"id\":\"497583bd-20ef-4166-8039-c95b4e6bdb6b\",\"type\":\"Grid\"},{\"id\":\"12db9660-7bda-4179-aec3-ac98128e4af3\",\"type\":\"BoxAnnotation\"},{\"id\":\"1fdc42d9-e880-45b6-ae5f-b1fa1aa631b4\",\"type\":\"GlyphRenderer\"}],\"title\":{\"id\":\"769859be-9c1c-46ad-9ff3-f845c13a1a53\",\"type\":\"Title\"},\"toolbar\":{\"id\":\"75199e83-55ad-412e-9a9a-7db3d1343c84\",\"type\":\"Toolbar\"},\"toolbar_location\":null,\"x_range\":{\"id\":\"d1e026cd-e97a-42d6-945b-709a76a5608e\",\"type\":\"FactorRange\"},\"x_scale\":{\"id\":\"92d0a2b2-b5a8-4e62-bb81-4d8e2b71063b\",\"type\":\"CategoricalScale\"},\"y_range\":{\"id\":\"7f93caf5-796b-48c0-91be-33fba9dc02e0\",\"type\":\"DataRange1d\"},\"y_scale\":{\"id\":\"1560d84c-6a1d-4c0b-a9c2-1ce5f8a16a5f\",\"type\":\"LinearScale\"}},\"id\":\"95044afe-8c00-48c9-b0dc-5807b4c769f8\",\"subtype\":\"Figure\",\"type\":\"Plot\"},{\"attributes\":{\"dimension\":1,\"plot\":{\"id\":\"95044afe-8c00-48c9-b0dc-5807b4c769f8\",\"subtype\":\"Figure\",\"type\":\"Plot\"},\"ticker\":{\"id\":\"e72da4e7-2f37-408b-9460-1b47ae0f9002\",\"type\":\"BasicTicker\"}},\"id\":\"497583bd-20ef-4166-8039-c95b4e6bdb6b\",\"type\":\"Grid\"},{\"attributes\":{\"below\":[{\"id\":\"270863ba-f5b4-4cd6-bce7-7951efd9b1de\",\"type\":\"CategoricalAxis\"}],\"left\":[{\"id\":\"6abb6076-8406-4112-8b64-1a5252b77770\",\"type\":\"LinearAxis\"}],\"plot_height\":300,\"plot_width\":300,\"renderers\":[{\"id\":\"270863ba-f5b4-4cd6-bce7-7951efd9b1de\",\"type\":\"CategoricalAxis\"},{\"id\":\"5cb2d195-064e-4cd7-925d-2265f21c7c4d\",\"type\":\"Grid\"},{\"id\":\"6abb6076-8406-4112-8b64-1a5252b77770\",\"type\":\"LinearAxis\"},{\"id\":\"f767132f-f5a8-4bd3-92a0-47488c1c2dbb\",\"type\":\"Grid\"},{\"id\":\"ca353083-ee86-477e-b152-8cfd248c2b41\",\"type\":\"BoxAnnotation\"},{\"id\":\"f04a8fa0-c762-41ef-a8e0-30713ee61f38\",\"type\":\"GlyphRenderer\"}],\"title\":{\"id\":\"4d970e13-e236-48fb-ab86-512eaa5e83d2\",\"type\":\"Title\"},\"toolbar\":{\"id\":\"c1d26a50-161a-4571-8481-0bf7caae56e7\",\"type\":\"Toolbar\"},\"toolbar_location\":null,\"x_range\":{\"id\":\"15ea5e2d-0c8f-4e93-9a8f-34cd06959aaf\",\"type\":\"FactorRange\"},\"x_scale\":{\"id\":\"574e7747-5cdd-4db5-85bf-63bb966d2253\",\"type\":\"CategoricalScale\"},\"y_range\":{\"id\":\"fe0120c5-349d-420c-9ad6-94cb620d7805\",\"type\":\"DataRange1d\"},\"y_scale\":{\"id\":\"6af7646c-c497-44c3-bb5a-3a99e97ea089\",\"type\":\"LinearScale\"}},\"id\":\"dffbcdfb-1bc9-46cc-89b6-edd7d1077fb2\",\"subtype\":\"Figure\",\"type\":\"Plot\"},{\"attributes\":{\"dimension\":1,\"plot\":{\"id\":\"fc9814c2-6a22-4039-8d41-72ed4b8bd9c4\",\"subtype\":\"Figure\",\"type\":\"Plot\"},\"ticker\":{\"id\":\"8fe79903-cf32-4979-822f-8d167f5cb4a0\",\"type\":\"BasicTicker\"}},\"id\":\"0a0e43ef-73fa-458e-9506-a0a464826a18\",\"type\":\"Grid\"},{\"attributes\":{},\"id\":\"b95ef87d-8d95-440f-8f89-54218a0edd9c\",\"type\":\"BasicTicker\"},{\"attributes\":{},\"id\":\"57174afa-1129-4c95-907f-f483ff62385c\",\"type\":\"BasicTickFormatter\"},{\"attributes\":{\"axis_label\":\"spectral band\",\"formatter\":{\"id\":\"4c863e3b-819a-4476-9653-24865a7fc4d0\",\"type\":\"CategoricalTickFormatter\"},\"plot\":{\"id\":\"95044afe-8c00-48c9-b0dc-5807b4c769f8\",\"subtype\":\"Figure\",\"type\":\"Plot\"},\"ticker\":{\"id\":\"3e5cc554-c167-47f2-b361-af1c0f184aa0\",\"type\":\"CategoricalTicker\"}},\"id\":\"97f73ac5-0209-4e8b-a3ae-142822d5d199\",\"type\":\"CategoricalAxis\"},{\"attributes\":{\"overlay\":{\"id\":\"b9482b19-48fc-4b9f-b34e-19a521076f74\",\"type\":\"BoxAnnotation\"}},\"id\":\"2eb86176-375d-44c4-94b6-fffac1fc328c\",\"type\":\"BoxZoomTool\"},{\"attributes\":{},\"id\":\"aa262bd8-51f3-4ac9-8f8b-e90a7e4f250e\",\"type\":\"PanTool\"},{\"attributes\":{},\"id\":\"788d667e-a1ee-4fcb-a75a-c3cd6bbc3b75\",\"type\":\"PanTool\"},{\"attributes\":{\"callback\":null,\"factors\":[\"1\",\"2\",\"3\",\"4\",\"5\",\"6\",\"7\",\"8\",\"9\",\"10\",\"11\"]},\"id\":\"15ea5e2d-0c8f-4e93-9a8f-34cd06959aaf\",\"type\":\"FactorRange\"},{\"attributes\":{\"data_source\":{\"id\":\"d3cf378a-f26f-4954-8e00-4a6daa861038\",\"type\":\"ColumnDataSource\"},\"glyph\":{\"id\":\"677a4881-7ff2-4606-a4f9-6ea9b550a59b\",\"type\":\"VBar\"},\"hover_glyph\":null,\"muted_glyph\":null,\"nonselection_glyph\":{\"id\":\"efec80b8-c92a-4568-97c5-b762e58b21b1\",\"type\":\"VBar\"},\"selection_glyph\":null,\"view\":{\"id\":\"61177140-8f6c-4d0b-9397-0d04451976ff\",\"type\":\"CDSView\"}},\"id\":\"f04a8fa0-c762-41ef-a8e0-30713ee61f38\",\"type\":\"GlyphRenderer\"},{\"attributes\":{},\"id\":\"01d4fb2a-7851-4e65-9a11-9e51c2df86c9\",\"type\":\"CategoricalTickFormatter\"},{\"attributes\":{\"data_source\":{\"id\":\"3f8e92be-56b5-4994-b44c-da025b1af1dc\",\"type\":\"ColumnDataSource\"},\"glyph\":{\"id\":\"9fa9caf0-1b7e-4aab-b7d4-daa186ef1a33\",\"type\":\"VBar\"},\"hover_glyph\":null,\"muted_glyph\":null,\"nonselection_glyph\":{\"id\":\"82a7a97d-1171-4cb0-a8ff-aaee6fe7d705\",\"type\":\"VBar\"},\"selection_glyph\":null,\"view\":{\"id\":\"ac620946-7b1a-429c-bc00-c4d95829b098\",\"type\":\"CDSView\"}},\"id\":\"b3954cee-6897-4a65-a51a-1f054e4cdac8\",\"type\":\"GlyphRenderer\"},{\"attributes\":{\"source\":{\"id\":\"d3cf378a-f26f-4954-8e00-4a6daa861038\",\"type\":\"ColumnDataSource\"}},\"id\":\"61177140-8f6c-4d0b-9397-0d04451976ff\",\"type\":\"CDSView\"},{\"attributes\":{\"fill_color\":{\"value\":\"#1f77b4\"},\"line_color\":{\"value\":\"#1f77b4\"},\"top\":{\"field\":\"flux\"},\"width\":{\"value\":0.9},\"x\":{\"field\":\"band\"}},\"id\":\"65ac037b-e4a1-44aa-86e3-f6faba855660\",\"type\":\"VBar\"},{\"attributes\":{\"fill_alpha\":{\"value\":0.1},\"fill_color\":{\"value\":\"#1f77b4\"},\"line_alpha\":{\"value\":0.1},\"line_color\":{\"value\":\"#1f77b4\"},\"top\":{\"field\":\"flux\"},\"width\":{\"value\":0.9},\"x\":{\"field\":\"band\"}},\"id\":\"efec80b8-c92a-4568-97c5-b762e58b21b1\",\"type\":\"VBar\"},{\"attributes\":{},\"id\":\"394d47e7-4e5c-4a8d-a32d-b1375cbfce36\",\"type\":\"HelpTool\"},{\"attributes\":{\"children\":[{\"id\":\"c2f00fee-0e5e-45d7-ac98-37adf1e9d5c5\",\"type\":\"Row\"}]},\"id\":\"24c2fa99-49c2-46c5-89df-48d52455896c\",\"type\":\"Column\"},{\"attributes\":{},\"id\":\"e72da4e7-2f37-408b-9460-1b47ae0f9002\",\"type\":\"BasicTicker\"},{\"attributes\":{},\"id\":\"01b4077d-d5b6-47a4-b793-dd5afabf65e6\",\"type\":\"ResetTool\"},{\"attributes\":{\"bottom_units\":\"screen\",\"fill_alpha\":{\"value\":0.5},\"fill_color\":{\"value\":\"lightgrey\"},\"left_units\":\"screen\",\"level\":\"overlay\",\"line_alpha\":{\"value\":1.0},\"line_color\":{\"value\":\"black\"},\"line_dash\":[4,4],\"line_width\":{\"value\":2},\"plot\":null,\"render_mode\":\"css\",\"right_units\":\"screen\",\"top_units\":\"screen\"},\"id\":\"12db9660-7bda-4179-aec3-ac98128e4af3\",\"type\":\"BoxAnnotation\"},{\"attributes\":{},\"id\":\"3e5cc554-c167-47f2-b361-af1c0f184aa0\",\"type\":\"CategoricalTicker\"},{\"attributes\":{},\"id\":\"6706febf-57d3-4122-b08d-e264098ab7e6\",\"type\":\"HelpTool\"},{\"attributes\":{\"children\":[{\"id\":\"e0d00a5f-2e51-4b99-884c-46914b79f3cf\",\"type\":\"ToolbarBox\"},{\"id\":\"24c2fa99-49c2-46c5-89df-48d52455896c\",\"type\":\"Column\"}]},\"id\":\"e750d2c9-6560-4c0b-ae6a-27acfc0b05e2\",\"type\":\"Column\"},{\"attributes\":{},\"id\":\"208ff1e4-9452-409c-822c-25e0cccdbbea\",\"type\":\"WheelZoomTool\"},{\"attributes\":{},\"id\":\"255f7564-5d14-4e97-ba9f-3d14660d6323\",\"type\":\"HelpTool\"},{\"attributes\":{\"callback\":null},\"id\":\"735e9e3b-016d-4d1e-b2bf-be81e5fe59dc\",\"type\":\"DataRange1d\"},{\"attributes\":{\"toolbar\":{\"id\":\"3eaa255b-7c6a-47cb-8e44-1a1a2fafcde7\",\"type\":\"ProxyToolbar\"},\"toolbar_location\":\"above\"},\"id\":\"e0d00a5f-2e51-4b99-884c-46914b79f3cf\",\"type\":\"ToolbarBox\"},{\"attributes\":{\"plot\":null,\"text\":\"Atmosphere heating. CLIRAD (single-run) - CRD.\"},\"id\":\"4d970e13-e236-48fb-ab86-512eaa5e83d2\",\"type\":\"Title\"},{\"attributes\":{},\"id\":\"ef1cf6fa-11e1-4486-a2b3-1b4e9681ccd1\",\"type\":\"LinearScale\"},{\"attributes\":{},\"id\":\"9c84dbae-f513-4ac0-b31a-f764a5482f50\",\"type\":\"UnionRenderers\"},{\"attributes\":{\"axis_label\":\"flux (W m-2)\",\"formatter\":{\"id\":\"57174afa-1129-4c95-907f-f483ff62385c\",\"type\":\"BasicTickFormatter\"},\"plot\":{\"id\":\"fc9814c2-6a22-4039-8d41-72ed4b8bd9c4\",\"subtype\":\"Figure\",\"type\":\"Plot\"},\"ticker\":{\"id\":\"8fe79903-cf32-4979-822f-8d167f5cb4a0\",\"type\":\"BasicTicker\"}},\"id\":\"76d1f3fa-e1e8-4e64-a3a8-e92d39d9ed66\",\"type\":\"LinearAxis\"},{\"attributes\":{\"callback\":null,\"data\":{\"band\":[\"1\",\"2\",\"3\",\"4\",\"5\",\"6\",\"7\",\"8\",\"9\",\"10\",\"11\"],\"flux\":{\"__ndarray__\":\"AMHG9e/6yj8ARFVMpZ/UP8A1I4PcRdO/wKT4+ITs4T8A9+Y3TDTUPwDo9SfxuaO/gPm7d9SYzj8AbToCuFm8vwAu4dBbPJw/4PGprSLtwT+A9UyK6gi9Pw==\",\"dtype\":\"float64\",\"shape\":[11]}},\"selected\":{\"id\":\"0129d71a-fa33-438c-81ec-ed86a3c7ce12\",\"type\":\"Selection\"},\"selection_policy\":{\"id\":\"e0d8f107-4802-4d1c-b299-03d4a75a6a0e\",\"type\":\"UnionRenderers\"}},\"id\":\"1aa17384-6a78-4430-9e5c-dcf1ad9e6633\",\"type\":\"ColumnDataSource\"},{\"attributes\":{\"fill_color\":{\"value\":\"#1f77b4\"},\"line_color\":{\"value\":\"#1f77b4\"},\"top\":{\"field\":\"flux\"},\"width\":{\"value\":0.9},\"x\":{\"field\":\"band\"}},\"id\":\"677a4881-7ff2-4606-a4f9-6ea9b550a59b\",\"type\":\"VBar\"},{\"attributes\":{\"bottom_units\":\"screen\",\"fill_alpha\":{\"value\":0.5},\"fill_color\":{\"value\":\"lightgrey\"},\"left_units\":\"screen\",\"level\":\"overlay\",\"line_alpha\":{\"value\":1.0},\"line_color\":{\"value\":\"black\"},\"line_dash\":[4,4],\"line_width\":{\"value\":2},\"plot\":null,\"render_mode\":\"css\",\"right_units\":\"screen\",\"top_units\":\"screen\"},\"id\":\"ca353083-ee86-477e-b152-8cfd248c2b41\",\"type\":\"BoxAnnotation\"},{\"attributes\":{\"axis_label\":\"spectral band\",\"formatter\":{\"id\":\"d9348b4b-e56a-4ee5-8269-b343bf6e7a29\",\"type\":\"CategoricalTickFormatter\"},\"plot\":{\"id\":\"fc9814c2-6a22-4039-8d41-72ed4b8bd9c4\",\"subtype\":\"Figure\",\"type\":\"Plot\"},\"ticker\":{\"id\":\"8525e0dd-2841-4004-9ff2-124e5ef6bb53\",\"type\":\"CategoricalTicker\"}},\"id\":\"ba93f81c-9f0c-49c7-89aa-9f99f4f60fe3\",\"type\":\"CategoricalAxis\"},{\"attributes\":{\"dimension\":1,\"plot\":{\"id\":\"dffbcdfb-1bc9-46cc-89b6-edd7d1077fb2\",\"subtype\":\"Figure\",\"type\":\"Plot\"},\"ticker\":{\"id\":\"b95ef87d-8d95-440f-8f89-54218a0edd9c\",\"type\":\"BasicTicker\"}},\"id\":\"f767132f-f5a8-4bd3-92a0-47488c1c2dbb\",\"type\":\"Grid\"},{\"attributes\":{},\"id\":\"87525502-0797-455b-a75e-ec5f42c912ab\",\"type\":\"ResetTool\"},{\"attributes\":{\"children\":[{\"id\":\"95044afe-8c00-48c9-b0dc-5807b4c769f8\",\"subtype\":\"Figure\",\"type\":\"Plot\"},{\"id\":\"fc9814c2-6a22-4039-8d41-72ed4b8bd9c4\",\"subtype\":\"Figure\",\"type\":\"Plot\"},{\"id\":\"dffbcdfb-1bc9-46cc-89b6-edd7d1077fb2\",\"subtype\":\"Figure\",\"type\":\"Plot\"}]},\"id\":\"c2f00fee-0e5e-45d7-ac98-37adf1e9d5c5\",\"type\":\"Row\"},{\"attributes\":{},\"id\":\"3d93de24-fe17-4043-afee-ad8bea7247b4\",\"type\":\"WheelZoomTool\"},{\"attributes\":{},\"id\":\"4e9d314a-57f5-484c-a99b-106c6f8f7a83\",\"type\":\"SaveTool\"},{\"attributes\":{},\"id\":\"5ca3b8ba-7e59-4db9-86ea-8eb9d6915bbc\",\"type\":\"SaveTool\"},{\"attributes\":{},\"id\":\"e26397ee-ce94-4e10-b1dc-438eae2c3024\",\"type\":\"UnionRenderers\"},{\"attributes\":{},\"id\":\"f04cadbd-b224-4170-a97e-1b6f1c65fffa\",\"type\":\"PanTool\"},{\"attributes\":{},\"id\":\"574e7747-5cdd-4db5-85bf-63bb966d2253\",\"type\":\"CategoricalScale\"},{\"attributes\":{},\"id\":\"92d0a2b2-b5a8-4e62-bb81-4d8e2b71063b\",\"type\":\"CategoricalScale\"},{\"attributes\":{\"source\":{\"id\":\"1aa17384-6a78-4430-9e5c-dcf1ad9e6633\",\"type\":\"ColumnDataSource\"}},\"id\":\"a7a43bf6-90ee-4bf9-b8cb-0f561e334be6\",\"type\":\"CDSView\"},{\"attributes\":{},\"id\":\"d9348b4b-e56a-4ee5-8269-b343bf6e7a29\",\"type\":\"CategoricalTickFormatter\"},{\"attributes\":{\"tools\":[{\"id\":\"788d667e-a1ee-4fcb-a75a-c3cd6bbc3b75\",\"type\":\"PanTool\"},{\"id\":\"208ff1e4-9452-409c-822c-25e0cccdbbea\",\"type\":\"WheelZoomTool\"},{\"id\":\"2badcc08-4f0b-45ad-8647-d4052875a6c4\",\"type\":\"BoxZoomTool\"},{\"id\":\"43239792-0fd2-46b4-bcbd-afd139cbc775\",\"type\":\"SaveTool\"},{\"id\":\"0a13fde4-888d-44aa-ab2e-676c054572ff\",\"type\":\"ResetTool\"},{\"id\":\"394d47e7-4e5c-4a8d-a32d-b1375cbfce36\",\"type\":\"HelpTool\"},{\"id\":\"aa262bd8-51f3-4ac9-8f8b-e90a7e4f250e\",\"type\":\"PanTool\"},{\"id\":\"3d93de24-fe17-4043-afee-ad8bea7247b4\",\"type\":\"WheelZoomTool\"},{\"id\":\"2eb86176-375d-44c4-94b6-fffac1fc328c\",\"type\":\"BoxZoomTool\"},{\"id\":\"5ca3b8ba-7e59-4db9-86ea-8eb9d6915bbc\",\"type\":\"SaveTool\"},{\"id\":\"87525502-0797-455b-a75e-ec5f42c912ab\",\"type\":\"ResetTool\"},{\"id\":\"6706febf-57d3-4122-b08d-e264098ab7e6\",\"type\":\"HelpTool\"},{\"id\":\"f04cadbd-b224-4170-a97e-1b6f1c65fffa\",\"type\":\"PanTool\"},{\"id\":\"753f3117-e46e-47d5-8804-73fd6136df6c\",\"type\":\"WheelZoomTool\"},{\"id\":\"db5f22d7-240d-4022-871c-d926760b2c71\",\"type\":\"BoxZoomTool\"},{\"id\":\"4e9d314a-57f5-484c-a99b-106c6f8f7a83\",\"type\":\"SaveTool\"},{\"id\":\"01b4077d-d5b6-47a4-b793-dd5afabf65e6\",\"type\":\"ResetTool\"},{\"id\":\"255f7564-5d14-4e97-ba9f-3d14660d6323\",\"type\":\"HelpTool\"}]},\"id\":\"3eaa255b-7c6a-47cb-8e44-1a1a2fafcde7\",\"type\":\"ProxyToolbar\"},{\"attributes\":{\"overlay\":{\"id\":\"12db9660-7bda-4179-aec3-ac98128e4af3\",\"type\":\"BoxAnnotation\"}},\"id\":\"2badcc08-4f0b-45ad-8647-d4052875a6c4\",\"type\":\"BoxZoomTool\"},{\"attributes\":{},\"id\":\"1560d84c-6a1d-4c0b-a9c2-1ce5f8a16a5f\",\"type\":\"LinearScale\"},{\"attributes\":{\"axis_label\":\"spectral band\",\"formatter\":{\"id\":\"01d4fb2a-7851-4e65-9a11-9e51c2df86c9\",\"type\":\"CategoricalTickFormatter\"},\"plot\":{\"id\":\"dffbcdfb-1bc9-46cc-89b6-edd7d1077fb2\",\"subtype\":\"Figure\",\"type\":\"Plot\"},\"ticker\":{\"id\":\"f051795d-be3b-4c11-b273-bf86e14cb783\",\"type\":\"CategoricalTicker\"}},\"id\":\"270863ba-f5b4-4cd6-bce7-7951efd9b1de\",\"type\":\"CategoricalAxis\"},{\"attributes\":{},\"id\":\"43239792-0fd2-46b4-bcbd-afd139cbc775\",\"type\":\"SaveTool\"},{\"attributes\":{},\"id\":\"8525e0dd-2841-4004-9ff2-124e5ef6bb53\",\"type\":\"CategoricalTicker\"},{\"attributes\":{\"plot\":{\"id\":\"95044afe-8c00-48c9-b0dc-5807b4c769f8\",\"subtype\":\"Figure\",\"type\":\"Plot\"},\"ticker\":{\"id\":\"3e5cc554-c167-47f2-b361-af1c0f184aa0\",\"type\":\"CategoricalTicker\"}},\"id\":\"e375d3c0-3fee-444d-9ebf-198a87a9d304\",\"type\":\"Grid\"},{\"attributes\":{\"plot\":{\"id\":\"dffbcdfb-1bc9-46cc-89b6-edd7d1077fb2\",\"subtype\":\"Figure\",\"type\":\"Plot\"},\"ticker\":{\"id\":\"f051795d-be3b-4c11-b273-bf86e14cb783\",\"type\":\"CategoricalTicker\"}},\"id\":\"5cb2d195-064e-4cd7-925d-2265f21c7c4d\",\"type\":\"Grid\"},{\"attributes\":{\"overlay\":{\"id\":\"ca353083-ee86-477e-b152-8cfd248c2b41\",\"type\":\"BoxAnnotation\"}},\"id\":\"db5f22d7-240d-4022-871c-d926760b2c71\",\"type\":\"BoxZoomTool\"},{\"attributes\":{},\"id\":\"16c4a0bb-f3c8-48c5-a1cc-78fe689efc3b\",\"type\":\"BasicTickFormatter\"},{\"attributes\":{\"callback\":null,\"data\":{\"band\":[\"1\",\"2\",\"3\",\"4\",\"5\",\"6\",\"7\",\"8\",\"9\",\"10\",\"11\"],\"flux\":{\"__ndarray__\":\"AID6S2L7yj8AhLZzzD+yPwC8gsh9Brm/ABW46Y0C4D8gA5fHmpHSvwDp7GRwlN+/gOE/3UCBxT8Atr3dkhzAv0C4FKEiGNC/wG+hI6BfwD9Ab6jOWVWpPw==\",\"dtype\":\"float64\",\"shape\":[11]}},\"selected\":{\"id\":\"021e9b21-f9b1-4ac4-b744-2465ef5f0e33\",\"type\":\"Selection\"},\"selection_policy\":{\"id\":\"9c84dbae-f513-4ac0-b31a-f764a5482f50\",\"type\":\"UnionRenderers\"}},\"id\":\"d3cf378a-f26f-4954-8e00-4a6daa861038\",\"type\":\"ColumnDataSource\"},{\"attributes\":{\"data_source\":{\"id\":\"1aa17384-6a78-4430-9e5c-dcf1ad9e6633\",\"type\":\"ColumnDataSource\"},\"glyph\":{\"id\":\"65ac037b-e4a1-44aa-86e3-f6faba855660\",\"type\":\"VBar\"},\"hover_glyph\":null,\"muted_glyph\":null,\"nonselection_glyph\":{\"id\":\"bd3cd6f9-c8c4-47e3-8147-0444f6098f56\",\"type\":\"VBar\"},\"selection_glyph\":null,\"view\":{\"id\":\"a7a43bf6-90ee-4bf9-b8cb-0f561e334be6\",\"type\":\"CDSView\"}},\"id\":\"1fdc42d9-e880-45b6-ae5f-b1fa1aa631b4\",\"type\":\"GlyphRenderer\"},{\"attributes\":{\"active_drag\":\"auto\",\"active_inspect\":\"auto\",\"active_scroll\":\"auto\",\"active_tap\":\"auto\",\"tools\":[{\"id\":\"aa262bd8-51f3-4ac9-8f8b-e90a7e4f250e\",\"type\":\"PanTool\"},{\"id\":\"3d93de24-fe17-4043-afee-ad8bea7247b4\",\"type\":\"WheelZoomTool\"},{\"id\":\"2eb86176-375d-44c4-94b6-fffac1fc328c\",\"type\":\"BoxZoomTool\"},{\"id\":\"5ca3b8ba-7e59-4db9-86ea-8eb9d6915bbc\",\"type\":\"SaveTool\"},{\"id\":\"87525502-0797-455b-a75e-ec5f42c912ab\",\"type\":\"ResetTool\"},{\"id\":\"6706febf-57d3-4122-b08d-e264098ab7e6\",\"type\":\"HelpTool\"}]},\"id\":\"387155d5-34ed-4872-b5e2-996f6ae4504b\",\"type\":\"Toolbar\"},{\"attributes\":{},\"id\":\"dced3481-c929-42b5-b767-7263d8f70b8a\",\"type\":\"Selection\"},{\"attributes\":{\"callback\":null},\"id\":\"fe0120c5-349d-420c-9ad6-94cb620d7805\",\"type\":\"DataRange1d\"},{\"attributes\":{\"plot\":{\"id\":\"fc9814c2-6a22-4039-8d41-72ed4b8bd9c4\",\"subtype\":\"Figure\",\"type\":\"Plot\"},\"ticker\":{\"id\":\"8525e0dd-2841-4004-9ff2-124e5ef6bb53\",\"type\":\"CategoricalTicker\"}},\"id\":\"1f716f71-b2e4-4984-a76e-c0d232be006e\",\"type\":\"Grid\"},{\"attributes\":{},\"id\":\"6af7646c-c497-44c3-bb5a-3a99e97ea089\",\"type\":\"LinearScale\"},{\"attributes\":{},\"id\":\"0a13fde4-888d-44aa-ab2e-676c054572ff\",\"type\":\"ResetTool\"},{\"attributes\":{},\"id\":\"753f3117-e46e-47d5-8804-73fd6136df6c\",\"type\":\"WheelZoomTool\"},{\"attributes\":{\"axis_label\":\"flux (W m-2)\",\"formatter\":{\"id\":\"16c4a0bb-f3c8-48c5-a1cc-78fe689efc3b\",\"type\":\"BasicTickFormatter\"},\"plot\":{\"id\":\"95044afe-8c00-48c9-b0dc-5807b4c769f8\",\"subtype\":\"Figure\",\"type\":\"Plot\"},\"ticker\":{\"id\":\"e72da4e7-2f37-408b-9460-1b47ae0f9002\",\"type\":\"BasicTicker\"}},\"id\":\"8764e18e-e479-49e5-ba80-5838095414b8\",\"type\":\"LinearAxis\"},{\"attributes\":{\"axis_label\":\"flux (W m-2)\",\"formatter\":{\"id\":\"953219cb-a08f-4e26-aafd-ccf5f8fdbc1e\",\"type\":\"BasicTickFormatter\"},\"plot\":{\"id\":\"dffbcdfb-1bc9-46cc-89b6-edd7d1077fb2\",\"subtype\":\"Figure\",\"type\":\"Plot\"},\"ticker\":{\"id\":\"b95ef87d-8d95-440f-8f89-54218a0edd9c\",\"type\":\"BasicTicker\"}},\"id\":\"6abb6076-8406-4112-8b64-1a5252b77770\",\"type\":\"LinearAxis\"},{\"attributes\":{\"active_drag\":\"auto\",\"active_inspect\":\"auto\",\"active_scroll\":\"auto\",\"active_tap\":\"auto\",\"tools\":[{\"id\":\"f04cadbd-b224-4170-a97e-1b6f1c65fffa\",\"type\":\"PanTool\"},{\"id\":\"753f3117-e46e-47d5-8804-73fd6136df6c\",\"type\":\"WheelZoomTool\"},{\"id\":\"db5f22d7-240d-4022-871c-d926760b2c71\",\"type\":\"BoxZoomTool\"},{\"id\":\"4e9d314a-57f5-484c-a99b-106c6f8f7a83\",\"type\":\"SaveTool\"},{\"id\":\"01b4077d-d5b6-47a4-b793-dd5afabf65e6\",\"type\":\"ResetTool\"},{\"id\":\"255f7564-5d14-4e97-ba9f-3d14660d6323\",\"type\":\"HelpTool\"}]},\"id\":\"c1d26a50-161a-4571-8481-0bf7caae56e7\",\"type\":\"Toolbar\"},{\"attributes\":{\"fill_alpha\":{\"value\":0.1},\"fill_color\":{\"value\":\"#1f77b4\"},\"line_alpha\":{\"value\":0.1},\"line_color\":{\"value\":\"#1f77b4\"},\"top\":{\"field\":\"flux\"},\"width\":{\"value\":0.9},\"x\":{\"field\":\"band\"}},\"id\":\"bd3cd6f9-c8c4-47e3-8147-0444f6098f56\",\"type\":\"VBar\"},{\"attributes\":{},\"id\":\"021e9b21-f9b1-4ac4-b744-2465ef5f0e33\",\"type\":\"Selection\"},{\"attributes\":{\"bottom_units\":\"screen\",\"fill_alpha\":{\"value\":0.5},\"fill_color\":{\"value\":\"lightgrey\"},\"left_units\":\"screen\",\"level\":\"overlay\",\"line_alpha\":{\"value\":1.0},\"line_color\":{\"value\":\"black\"},\"line_dash\":[4,4],\"line_width\":{\"value\":2},\"plot\":null,\"render_mode\":\"css\",\"right_units\":\"screen\",\"top_units\":\"screen\"},\"id\":\"b9482b19-48fc-4b9f-b34e-19a521076f74\",\"type\":\"BoxAnnotation\"},{\"attributes\":{},\"id\":\"f051795d-be3b-4c11-b273-bf86e14cb783\",\"type\":\"CategoricalTicker\"},{\"attributes\":{\"callback\":null,\"factors\":[\"1\",\"2\",\"3\",\"4\",\"5\",\"6\",\"7\",\"8\",\"9\",\"10\",\"11\"]},\"id\":\"83c88d89-dce6-4a23-b3b1-70b14cfe90c9\",\"type\":\"FactorRange\"},{\"attributes\":{},\"id\":\"4c863e3b-819a-4476-9653-24865a7fc4d0\",\"type\":\"CategoricalTickFormatter\"},{\"attributes\":{},\"id\":\"8fe79903-cf32-4979-822f-8d167f5cb4a0\",\"type\":\"BasicTicker\"},{\"attributes\":{},\"id\":\"0129d71a-fa33-438c-81ec-ed86a3c7ce12\",\"type\":\"Selection\"},{\"attributes\":{\"fill_color\":{\"value\":\"#1f77b4\"},\"line_color\":{\"value\":\"#1f77b4\"},\"top\":{\"field\":\"flux\"},\"width\":{\"value\":0.9},\"x\":{\"field\":\"band\"}},\"id\":\"9fa9caf0-1b7e-4aab-b7d4-daa186ef1a33\",\"type\":\"VBar\"},{\"attributes\":{},\"id\":\"e0d8f107-4802-4d1c-b299-03d4a75a6a0e\",\"type\":\"UnionRenderers\"},{\"attributes\":{},\"id\":\"394f6cee-5306-471e-a9e0-3a22c519f7b3\",\"type\":\"CategoricalScale\"}],\"root_ids\":[\"e750d2c9-6560-4c0b-ae6a-27acfc0b05e2\"]},\"title\":\"Bokeh Application\",\"version\":\"0.12.16\"}};\n",
       "  var render_items = [{\"docid\":\"1a7bab1d-ab6e-44fc-9af1-d166d67f1351\",\"elementid\":\"50568b03-a463-418f-8118-247d4d80c3a2\",\"modelid\":\"e750d2c9-6560-4c0b-ae6a-27acfc0b05e2\"}];\n",
       "  root.Bokeh.embed.embed_items_notebook(docs_json, render_items);\n",
       "\n",
       "  }\n",
       "  if (root.Bokeh !== undefined) {\n",
       "    embed_document(root);\n",
       "  } else {\n",
       "    var attempts = 0;\n",
       "    var timer = setInterval(function(root) {\n",
       "      if (root.Bokeh !== undefined) {\n",
       "        embed_document(root);\n",
       "        clearInterval(timer);\n",
       "      }\n",
       "      attempts++;\n",
       "      if (attempts > 100) {\n",
       "        console.log(\"Bokeh: ERROR: Unable to run BokehJS code because BokehJS library is missing\")\n",
       "        clearInterval(timer);\n",
       "      }\n",
       "    }, 10, root)\n",
       "  }\n",
       "})(window);"
      ],
      "application/vnd.bokehjs_exec.v0+json": ""
     },
     "metadata": {
      "application/vnd.bokehjs_exec.v0+json": {
       "id": "e750d2c9-6560-4c0b-ae6a-27acfc0b05e2"
      }
     },
     "output_type": "display_data"
    },
    {
     "data": {
      "text/markdown": [
       "*FIGURE.* Difference between CLIRAD and CRD in TOA, SFC and net atmosphere flux, in each spectral band."
      ],
      "text/plain": [
       "<IPython.core.display.Markdown object>"
      ]
     },
     "metadata": {},
     "output_type": "display_data"
    },
    {
     "data": {
      "text/html": [
       "<div>\n",
       "<style scoped>\n",
       "    .dataframe tbody tr th:only-of-type {\n",
       "        vertical-align: middle;\n",
       "    }\n",
       "\n",
       "    .dataframe tbody tr th {\n",
       "        vertical-align: top;\n",
       "    }\n",
       "\n",
       "    .dataframe thead th {\n",
       "        text-align: right;\n",
       "    }\n",
       "</style>\n",
       "<table border=\"1\" class=\"dataframe\">\n",
       "  <thead>\n",
       "    <tr style=\"text-align: right;\">\n",
       "      <th></th>\n",
       "      <th>OLR flux</th>\n",
       "      <th>SFC flux</th>\n",
       "      <th>ATM heating</th>\n",
       "    </tr>\n",
       "    <tr>\n",
       "      <th>Sum over bands</th>\n",
       "      <th></th>\n",
       "      <th></th>\n",
       "      <th></th>\n",
       "    </tr>\n",
       "  </thead>\n",
       "  <tbody>\n",
       "    <tr>\n",
       "      <th>CLIRAD (single-run) - CRD</th>\n",
       "      <td>1.48</td>\n",
       "      <td>1.61</td>\n",
       "      <td>-0.13</td>\n",
       "    </tr>\n",
       "    <tr>\n",
       "      <th>CRD</th>\n",
       "      <td>-303.40</td>\n",
       "      <td>337.24</td>\n",
       "      <td>-181.37</td>\n",
       "    </tr>\n",
       "  </tbody>\n",
       "</table>\n",
       "</div>"
      ],
      "text/plain": [
       "                           OLR flux  SFC flux  ATM heating\n",
       "Sum over bands                                            \n",
       "CLIRAD (single-run) - CRD      1.48      1.61        -0.13\n",
       "CRD                         -303.40    337.24      -181.37"
      ]
     },
     "metadata": {},
     "output_type": "display_data"
    },
    {
     "data": {
      "text/markdown": [
       "*TABLE.* Difference between CLIRAD and CRD in TOA, SFC and net atmosphere flux, over all spectral bands. CRD's TOA, SFC and net atmosphere flux, over all spectral bands."
      ],
      "text/plain": [
       "<IPython.core.display.Markdown object>"
      ]
     },
     "metadata": {},
     "output_type": "display_data"
    }
   ],
   "source": [
    "def show_html(s):\n",
    "    display.display(display.HTML(s))\n",
    "\n",
    "    \n",
    "def show_markdown(s):\n",
    "    display.display(display.Markdown(s))\n",
    "\n",
    "\n",
    "def script():\n",
    "    \n",
    "    d_atm = {'mls': 'mid-latitude summer',\n",
    "             'saw': 'sub-arctic winter',\n",
    "             'trp': 'tropical'}\n",
    "    \n",
    "    title = ('## Results over entire range of molecules'\n",
    "             ' and spectral bands')\n",
    "    \n",
    "    s_makeup = 'Makeup of atmosphere.'\n",
    "    s_atmpro = '# {}'\n",
    "    s_cool = 'Cooling rates. {}.'\n",
    "    s_flux = 'Fluxes. {}.'\n",
    "    \n",
    "    atmpros = ['mls', 'saw', 'trp']\n",
    "    \n",
    "    # TOC\n",
    "    show_markdown(title)\n",
    "    show_markdown('### Table of Contents')\n",
    "    show_html(climahtml.getHTML_hrefanchor(s_makeup))\n",
    "    for atmpro in atmpros:\n",
    "        show_markdown('**' + d_atm[atmpro] + '**')\n",
    "        show_html(climahtml.getHTML_hrefanchor(s_cool.format(atmpro)))\n",
    "        show_html(climahtml.getHTML_hrefanchor(s_flux.format(atmpro)))\n",
    "\n",
    "        \n",
    "    # Atmosphere makeup\n",
    "    show_html(climahtml.getHTML_idanchor(s_makeup))\n",
    "    show_markdown(climahtml.getMarkdown_sectitle(s_makeup))\n",
    "    show_makeup()\n",
    "    show_grey_makeup()\n",
    "        \n",
    "    for atmpro in atmpros:\n",
    "        show_html(climahtml.getHTML_idanchor(s_cool.format(atmpro)))\n",
    "        show_markdown(\n",
    "            climahtml.getMarkdown_sectitle(s_cool.format(atmpro)))\n",
    "        show_cool(atmpro=atmpro)\n",
    "        show_html(climahtml.getHTML_idanchor(s_flux.format(atmpro)))\n",
    "        show_markdown(\n",
    "            climahtml.getMarkdown_sectitle(s_flux.format(atmpro)))\n",
    "        show_hist_flux(atmpro=atmpro)\n",
    "        show_tb_flux(atmpro=atmpro)\n",
    "    \n",
    "    \n",
    "script()  "
   ]
  },
  {
   "cell_type": "code",
   "execution_count": null,
   "metadata": {
    "collapsed": true
   },
   "outputs": [],
   "source": []
  },
  {
   "cell_type": "code",
   "execution_count": 580,
   "metadata": {},
   "outputs": [
    {
     "data": {
      "text/html": [
       "<script>\n",
       "code_show=true; \n",
       "function code_toggle() {\n",
       " if (code_show){\n",
       " $('div.input').hide();\n",
       " } else {\n",
       " $('div.input').show();\n",
       " }\n",
       " code_show = !code_show\n",
       "} \n",
       "$( document ).ready(code_toggle);\n",
       "</script>\n",
       "<form action=\"javascript:code_toggle()\"><input type=\"submit\" value=\"Click here to toggle on/off the raw code.\"></form>"
      ],
      "text/plain": [
       "<IPython.core.display.HTML object>"
      ]
     },
     "execution_count": 580,
     "metadata": {},
     "output_type": "execute_result"
    }
   ],
   "source": [
    "display.HTML('''<script>\n",
    "code_show=true; \n",
    "function code_toggle() {\n",
    " if (code_show){\n",
    " $('div.input').hide();\n",
    " } else {\n",
    " $('div.input').show();\n",
    " }\n",
    " code_show = !code_show\n",
    "} \n",
    "$( document ).ready(code_toggle);\n",
    "</script>\n",
    "<form action=\"javascript:code_toggle()\"><input type=\"submit\" value=\"Click here to toggle on/off the raw code.\"></form>''')"
   ]
  },
  {
   "cell_type": "code",
   "execution_count": null,
   "metadata": {
    "collapsed": true
   },
   "outputs": [],
   "source": []
  }
 ],
 "metadata": {
  "kernelspec": {
   "display_name": "Python 3",
   "language": "python",
   "name": "python3"
  },
  "language_info": {
   "codemirror_mode": {
    "name": "ipython",
    "version": 3
   },
   "file_extension": ".py",
   "mimetype": "text/x-python",
   "name": "python",
   "nbconvert_exporter": "python",
   "pygments_lexer": "ipython3",
   "version": "3.6.1"
  }
 },
 "nbformat": 4,
 "nbformat_minor": 2
}
