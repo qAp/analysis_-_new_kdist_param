{
 "cells": [
  {
   "cell_type": "code",
   "execution_count": 440,
   "metadata": {
    "collapsed": true
   },
   "outputs": [],
   "source": [
    "import os\n",
    "import ast\n",
    "import json\n",
    "import importlib \n",
    "import itertools\n",
    "import collections\n",
    "import pprint\n",
    "\n",
    "from bokeh.io import output_notebook, show\n",
    "from bokeh.layouts import gridplot\n",
    "from bokeh.plotting import figure\n",
    "from bokeh.models import Range1d, Legend, ColumnDataSource, FactorRange\n",
    "from bokeh.palettes import all_palettes\n",
    "from bokeh.transform import factor_cmap\n",
    "\n",
    "import matplotlib\n",
    "import matplotlib.pyplot as plt\n",
    "import numpy as np\n",
    "import pandas as pd\n",
    "import xarray as xr\n",
    "\n",
    "\n",
    "import climatools.lblnew.bestfit_params as bestfits\n",
    "from climatools.lblnew import setup_bestfit, setup_overlap\n",
    "import climatools.lblnew.pipeline as pipe_lblnew\n",
    "import climatools.cliradlw.setup as setup_cliradlw\n",
    "import climatools.cliradlw.pipeline as pipe_cliradlw\n",
    "\n",
    "import climatools.html.html as climahtml\n",
    "from climatools.lblnew.dataio import *\n",
    "from climatools.plot.plot import *\n",
    "\n",
    "\n",
    "from IPython import display\n",
    "\n",
    "#importlib.reload(bestfits)\n",
    "#importlib.reload(setup_bestfit)\n",
    "#importlib.reload(setup_overlap)\n",
    "#importlib.reload(pipe_lblnew)\n",
    "#importlib.reload(setup_cliradlw)\n",
    "#importlib.reload(pipe_cliradlw)"
   ]
  },
  {
   "cell_type": "code",
   "execution_count": 441,
   "metadata": {
    "scrolled": true
   },
   "outputs": [
    {
     "data": {
      "text/html": [
       "\n",
       "    <div class=\"bk-root\">\n",
       "        <a href=\"https://bokeh.pydata.org\" target=\"_blank\" class=\"bk-logo bk-logo-small bk-logo-notebook\"></a>\n",
       "        <span id=\"b8a19924-7fc5-44da-8cc5-178227658791\">Loading BokehJS ...</span>\n",
       "    </div>"
      ]
     },
     "metadata": {},
     "output_type": "display_data"
    },
    {
     "data": {
      "application/javascript": [
       "\n",
       "(function(root) {\n",
       "  function now() {\n",
       "    return new Date();\n",
       "  }\n",
       "\n",
       "  var force = true;\n",
       "\n",
       "  if (typeof (root._bokeh_onload_callbacks) === \"undefined\" || force === true) {\n",
       "    root._bokeh_onload_callbacks = [];\n",
       "    root._bokeh_is_loading = undefined;\n",
       "  }\n",
       "\n",
       "  var JS_MIME_TYPE = 'application/javascript';\n",
       "  var HTML_MIME_TYPE = 'text/html';\n",
       "  var EXEC_MIME_TYPE = 'application/vnd.bokehjs_exec.v0+json';\n",
       "  var CLASS_NAME = 'output_bokeh rendered_html';\n",
       "\n",
       "  /**\n",
       "   * Render data to the DOM node\n",
       "   */\n",
       "  function render(props, node) {\n",
       "    var script = document.createElement(\"script\");\n",
       "    node.appendChild(script);\n",
       "  }\n",
       "\n",
       "  /**\n",
       "   * Handle when an output is cleared or removed\n",
       "   */\n",
       "  function handleClearOutput(event, handle) {\n",
       "    var cell = handle.cell;\n",
       "\n",
       "    var id = cell.output_area._bokeh_element_id;\n",
       "    var server_id = cell.output_area._bokeh_server_id;\n",
       "    // Clean up Bokeh references\n",
       "    if (id !== undefined) {\n",
       "      Bokeh.index[id].model.document.clear();\n",
       "      delete Bokeh.index[id];\n",
       "    }\n",
       "\n",
       "    if (server_id !== undefined) {\n",
       "      // Clean up Bokeh references\n",
       "      var cmd = \"from bokeh.io.state import curstate; print(curstate().uuid_to_server['\" + server_id + \"'].get_sessions()[0].document.roots[0]._id)\";\n",
       "      cell.notebook.kernel.execute(cmd, {\n",
       "        iopub: {\n",
       "          output: function(msg) {\n",
       "            var element_id = msg.content.text.trim();\n",
       "            Bokeh.index[element_id].model.document.clear();\n",
       "            delete Bokeh.index[element_id];\n",
       "          }\n",
       "        }\n",
       "      });\n",
       "      // Destroy server and session\n",
       "      var cmd = \"import bokeh.io.notebook as ion; ion.destroy_server('\" + server_id + \"')\";\n",
       "      cell.notebook.kernel.execute(cmd);\n",
       "    }\n",
       "  }\n",
       "\n",
       "  /**\n",
       "   * Handle when a new output is added\n",
       "   */\n",
       "  function handleAddOutput(event, handle) {\n",
       "    var output_area = handle.output_area;\n",
       "    var output = handle.output;\n",
       "\n",
       "    // limit handleAddOutput to display_data with EXEC_MIME_TYPE content only\n",
       "    if ((output.output_type != \"display_data\") || (!output.data.hasOwnProperty(EXEC_MIME_TYPE))) {\n",
       "      return\n",
       "    }\n",
       "\n",
       "    var toinsert = output_area.element.find(\".\" + CLASS_NAME.split(' ')[0]);\n",
       "\n",
       "    if (output.metadata[EXEC_MIME_TYPE][\"id\"] !== undefined) {\n",
       "      toinsert[toinsert.length - 1].firstChild.textContent = output.data[JS_MIME_TYPE];\n",
       "      // store reference to embed id on output_area\n",
       "      output_area._bokeh_element_id = output.metadata[EXEC_MIME_TYPE][\"id\"];\n",
       "    }\n",
       "    if (output.metadata[EXEC_MIME_TYPE][\"server_id\"] !== undefined) {\n",
       "      var bk_div = document.createElement(\"div\");\n",
       "      bk_div.innerHTML = output.data[HTML_MIME_TYPE];\n",
       "      var script_attrs = bk_div.children[0].attributes;\n",
       "      for (var i = 0; i < script_attrs.length; i++) {\n",
       "        toinsert[toinsert.length - 1].firstChild.setAttribute(script_attrs[i].name, script_attrs[i].value);\n",
       "      }\n",
       "      // store reference to server id on output_area\n",
       "      output_area._bokeh_server_id = output.metadata[EXEC_MIME_TYPE][\"server_id\"];\n",
       "    }\n",
       "  }\n",
       "\n",
       "  function register_renderer(events, OutputArea) {\n",
       "\n",
       "    function append_mime(data, metadata, element) {\n",
       "      // create a DOM node to render to\n",
       "      var toinsert = this.create_output_subarea(\n",
       "        metadata,\n",
       "        CLASS_NAME,\n",
       "        EXEC_MIME_TYPE\n",
       "      );\n",
       "      this.keyboard_manager.register_events(toinsert);\n",
       "      // Render to node\n",
       "      var props = {data: data, metadata: metadata[EXEC_MIME_TYPE]};\n",
       "      render(props, toinsert[toinsert.length - 1]);\n",
       "      element.append(toinsert);\n",
       "      return toinsert\n",
       "    }\n",
       "\n",
       "    /* Handle when an output is cleared or removed */\n",
       "    events.on('clear_output.CodeCell', handleClearOutput);\n",
       "    events.on('delete.Cell', handleClearOutput);\n",
       "\n",
       "    /* Handle when a new output is added */\n",
       "    events.on('output_added.OutputArea', handleAddOutput);\n",
       "\n",
       "    /**\n",
       "     * Register the mime type and append_mime function with output_area\n",
       "     */\n",
       "    OutputArea.prototype.register_mime_type(EXEC_MIME_TYPE, append_mime, {\n",
       "      /* Is output safe? */\n",
       "      safe: true,\n",
       "      /* Index of renderer in `output_area.display_order` */\n",
       "      index: 0\n",
       "    });\n",
       "  }\n",
       "\n",
       "  // register the mime type if in Jupyter Notebook environment and previously unregistered\n",
       "  if (root.Jupyter !== undefined) {\n",
       "    var events = require('base/js/events');\n",
       "    var OutputArea = require('notebook/js/outputarea').OutputArea;\n",
       "\n",
       "    if (OutputArea.prototype.mime_types().indexOf(EXEC_MIME_TYPE) == -1) {\n",
       "      register_renderer(events, OutputArea);\n",
       "    }\n",
       "  }\n",
       "\n",
       "  \n",
       "  if (typeof (root._bokeh_timeout) === \"undefined\" || force === true) {\n",
       "    root._bokeh_timeout = Date.now() + 5000;\n",
       "    root._bokeh_failed_load = false;\n",
       "  }\n",
       "\n",
       "  var NB_LOAD_WARNING = {'data': {'text/html':\n",
       "     \"<div style='background-color: #fdd'>\\n\"+\n",
       "     \"<p>\\n\"+\n",
       "     \"BokehJS does not appear to have successfully loaded. If loading BokehJS from CDN, this \\n\"+\n",
       "     \"may be due to a slow or bad network connection. Possible fixes:\\n\"+\n",
       "     \"</p>\\n\"+\n",
       "     \"<ul>\\n\"+\n",
       "     \"<li>re-rerun `output_notebook()` to attempt to load from CDN again, or</li>\\n\"+\n",
       "     \"<li>use INLINE resources instead, as so:</li>\\n\"+\n",
       "     \"</ul>\\n\"+\n",
       "     \"<code>\\n\"+\n",
       "     \"from bokeh.resources import INLINE\\n\"+\n",
       "     \"output_notebook(resources=INLINE)\\n\"+\n",
       "     \"</code>\\n\"+\n",
       "     \"</div>\"}};\n",
       "\n",
       "  function display_loaded() {\n",
       "    var el = document.getElementById(\"b8a19924-7fc5-44da-8cc5-178227658791\");\n",
       "    if (el != null) {\n",
       "      el.textContent = \"BokehJS is loading...\";\n",
       "    }\n",
       "    if (root.Bokeh !== undefined) {\n",
       "      if (el != null) {\n",
       "        el.textContent = \"BokehJS \" + root.Bokeh.version + \" successfully loaded.\";\n",
       "      }\n",
       "    } else if (Date.now() < root._bokeh_timeout) {\n",
       "      setTimeout(display_loaded, 100)\n",
       "    }\n",
       "  }\n",
       "\n",
       "\n",
       "  function run_callbacks() {\n",
       "    try {\n",
       "      root._bokeh_onload_callbacks.forEach(function(callback) { callback() });\n",
       "    }\n",
       "    finally {\n",
       "      delete root._bokeh_onload_callbacks\n",
       "    }\n",
       "    console.info(\"Bokeh: all callbacks have finished\");\n",
       "  }\n",
       "\n",
       "  function load_libs(js_urls, callback) {\n",
       "    root._bokeh_onload_callbacks.push(callback);\n",
       "    if (root._bokeh_is_loading > 0) {\n",
       "      console.log(\"Bokeh: BokehJS is being loaded, scheduling callback at\", now());\n",
       "      return null;\n",
       "    }\n",
       "    if (js_urls == null || js_urls.length === 0) {\n",
       "      run_callbacks();\n",
       "      return null;\n",
       "    }\n",
       "    console.log(\"Bokeh: BokehJS not loaded, scheduling load and callback at\", now());\n",
       "    root._bokeh_is_loading = js_urls.length;\n",
       "    for (var i = 0; i < js_urls.length; i++) {\n",
       "      var url = js_urls[i];\n",
       "      var s = document.createElement('script');\n",
       "      s.src = url;\n",
       "      s.async = false;\n",
       "      s.onreadystatechange = s.onload = function() {\n",
       "        root._bokeh_is_loading--;\n",
       "        if (root._bokeh_is_loading === 0) {\n",
       "          console.log(\"Bokeh: all BokehJS libraries loaded\");\n",
       "          run_callbacks()\n",
       "        }\n",
       "      };\n",
       "      s.onerror = function() {\n",
       "        console.warn(\"failed to load library \" + url);\n",
       "      };\n",
       "      console.log(\"Bokeh: injecting script tag for BokehJS library: \", url);\n",
       "      document.getElementsByTagName(\"head\")[0].appendChild(s);\n",
       "    }\n",
       "  };var element = document.getElementById(\"b8a19924-7fc5-44da-8cc5-178227658791\");\n",
       "  if (element == null) {\n",
       "    console.log(\"Bokeh: ERROR: autoload.js configured with elementid 'b8a19924-7fc5-44da-8cc5-178227658791' but no matching script tag was found. \")\n",
       "    return false;\n",
       "  }\n",
       "\n",
       "  var js_urls = [\"https://cdn.pydata.org/bokeh/release/bokeh-0.12.16.min.js\", \"https://cdn.pydata.org/bokeh/release/bokeh-widgets-0.12.16.min.js\", \"https://cdn.pydata.org/bokeh/release/bokeh-tables-0.12.16.min.js\", \"https://cdn.pydata.org/bokeh/release/bokeh-gl-0.12.16.min.js\"];\n",
       "\n",
       "  var inline_js = [\n",
       "    function(Bokeh) {\n",
       "      Bokeh.set_log_level(\"info\");\n",
       "    },\n",
       "    \n",
       "    function(Bokeh) {\n",
       "      \n",
       "    },\n",
       "    function(Bokeh) {\n",
       "      console.log(\"Bokeh: injecting CSS: https://cdn.pydata.org/bokeh/release/bokeh-0.12.16.min.css\");\n",
       "      Bokeh.embed.inject_css(\"https://cdn.pydata.org/bokeh/release/bokeh-0.12.16.min.css\");\n",
       "      console.log(\"Bokeh: injecting CSS: https://cdn.pydata.org/bokeh/release/bokeh-widgets-0.12.16.min.css\");\n",
       "      Bokeh.embed.inject_css(\"https://cdn.pydata.org/bokeh/release/bokeh-widgets-0.12.16.min.css\");\n",
       "      console.log(\"Bokeh: injecting CSS: https://cdn.pydata.org/bokeh/release/bokeh-tables-0.12.16.min.css\");\n",
       "      Bokeh.embed.inject_css(\"https://cdn.pydata.org/bokeh/release/bokeh-tables-0.12.16.min.css\");\n",
       "    }\n",
       "  ];\n",
       "\n",
       "  function run_inline_js() {\n",
       "    \n",
       "    if ((root.Bokeh !== undefined) || (force === true)) {\n",
       "      for (var i = 0; i < inline_js.length; i++) {\n",
       "        inline_js[i].call(root, root.Bokeh);\n",
       "      }if (force === true) {\n",
       "        display_loaded();\n",
       "      }} else if (Date.now() < root._bokeh_timeout) {\n",
       "      setTimeout(run_inline_js, 100);\n",
       "    } else if (!root._bokeh_failed_load) {\n",
       "      console.log(\"Bokeh: BokehJS failed to load within specified timeout.\");\n",
       "      root._bokeh_failed_load = true;\n",
       "    } else if (force !== true) {\n",
       "      var cell = $(document.getElementById(\"b8a19924-7fc5-44da-8cc5-178227658791\")).parents('.cell').data().cell;\n",
       "      cell.output_area.append_execute_result(NB_LOAD_WARNING)\n",
       "    }\n",
       "\n",
       "  }\n",
       "\n",
       "  if (root._bokeh_is_loading === 0) {\n",
       "    console.log(\"Bokeh: BokehJS loaded, going straight to plotting\");\n",
       "    run_inline_js();\n",
       "  } else {\n",
       "    load_libs(js_urls, function() {\n",
       "      console.log(\"Bokeh: BokehJS plotting callback run at\", now());\n",
       "      run_inline_js();\n",
       "    });\n",
       "  }\n",
       "}(window));"
      ],
      "application/vnd.bokehjs_load.v0+json": "\n(function(root) {\n  function now() {\n    return new Date();\n  }\n\n  var force = true;\n\n  if (typeof (root._bokeh_onload_callbacks) === \"undefined\" || force === true) {\n    root._bokeh_onload_callbacks = [];\n    root._bokeh_is_loading = undefined;\n  }\n\n  \n\n  \n  if (typeof (root._bokeh_timeout) === \"undefined\" || force === true) {\n    root._bokeh_timeout = Date.now() + 5000;\n    root._bokeh_failed_load = false;\n  }\n\n  var NB_LOAD_WARNING = {'data': {'text/html':\n     \"<div style='background-color: #fdd'>\\n\"+\n     \"<p>\\n\"+\n     \"BokehJS does not appear to have successfully loaded. If loading BokehJS from CDN, this \\n\"+\n     \"may be due to a slow or bad network connection. Possible fixes:\\n\"+\n     \"</p>\\n\"+\n     \"<ul>\\n\"+\n     \"<li>re-rerun `output_notebook()` to attempt to load from CDN again, or</li>\\n\"+\n     \"<li>use INLINE resources instead, as so:</li>\\n\"+\n     \"</ul>\\n\"+\n     \"<code>\\n\"+\n     \"from bokeh.resources import INLINE\\n\"+\n     \"output_notebook(resources=INLINE)\\n\"+\n     \"</code>\\n\"+\n     \"</div>\"}};\n\n  function display_loaded() {\n    var el = document.getElementById(\"b8a19924-7fc5-44da-8cc5-178227658791\");\n    if (el != null) {\n      el.textContent = \"BokehJS is loading...\";\n    }\n    if (root.Bokeh !== undefined) {\n      if (el != null) {\n        el.textContent = \"BokehJS \" + root.Bokeh.version + \" successfully loaded.\";\n      }\n    } else if (Date.now() < root._bokeh_timeout) {\n      setTimeout(display_loaded, 100)\n    }\n  }\n\n\n  function run_callbacks() {\n    try {\n      root._bokeh_onload_callbacks.forEach(function(callback) { callback() });\n    }\n    finally {\n      delete root._bokeh_onload_callbacks\n    }\n    console.info(\"Bokeh: all callbacks have finished\");\n  }\n\n  function load_libs(js_urls, callback) {\n    root._bokeh_onload_callbacks.push(callback);\n    if (root._bokeh_is_loading > 0) {\n      console.log(\"Bokeh: BokehJS is being loaded, scheduling callback at\", now());\n      return null;\n    }\n    if (js_urls == null || js_urls.length === 0) {\n      run_callbacks();\n      return null;\n    }\n    console.log(\"Bokeh: BokehJS not loaded, scheduling load and callback at\", now());\n    root._bokeh_is_loading = js_urls.length;\n    for (var i = 0; i < js_urls.length; i++) {\n      var url = js_urls[i];\n      var s = document.createElement('script');\n      s.src = url;\n      s.async = false;\n      s.onreadystatechange = s.onload = function() {\n        root._bokeh_is_loading--;\n        if (root._bokeh_is_loading === 0) {\n          console.log(\"Bokeh: all BokehJS libraries loaded\");\n          run_callbacks()\n        }\n      };\n      s.onerror = function() {\n        console.warn(\"failed to load library \" + url);\n      };\n      console.log(\"Bokeh: injecting script tag for BokehJS library: \", url);\n      document.getElementsByTagName(\"head\")[0].appendChild(s);\n    }\n  };var element = document.getElementById(\"b8a19924-7fc5-44da-8cc5-178227658791\");\n  if (element == null) {\n    console.log(\"Bokeh: ERROR: autoload.js configured with elementid 'b8a19924-7fc5-44da-8cc5-178227658791' but no matching script tag was found. \")\n    return false;\n  }\n\n  var js_urls = [\"https://cdn.pydata.org/bokeh/release/bokeh-0.12.16.min.js\", \"https://cdn.pydata.org/bokeh/release/bokeh-widgets-0.12.16.min.js\", \"https://cdn.pydata.org/bokeh/release/bokeh-tables-0.12.16.min.js\", \"https://cdn.pydata.org/bokeh/release/bokeh-gl-0.12.16.min.js\"];\n\n  var inline_js = [\n    function(Bokeh) {\n      Bokeh.set_log_level(\"info\");\n    },\n    \n    function(Bokeh) {\n      \n    },\n    function(Bokeh) {\n      console.log(\"Bokeh: injecting CSS: https://cdn.pydata.org/bokeh/release/bokeh-0.12.16.min.css\");\n      Bokeh.embed.inject_css(\"https://cdn.pydata.org/bokeh/release/bokeh-0.12.16.min.css\");\n      console.log(\"Bokeh: injecting CSS: https://cdn.pydata.org/bokeh/release/bokeh-widgets-0.12.16.min.css\");\n      Bokeh.embed.inject_css(\"https://cdn.pydata.org/bokeh/release/bokeh-widgets-0.12.16.min.css\");\n      console.log(\"Bokeh: injecting CSS: https://cdn.pydata.org/bokeh/release/bokeh-tables-0.12.16.min.css\");\n      Bokeh.embed.inject_css(\"https://cdn.pydata.org/bokeh/release/bokeh-tables-0.12.16.min.css\");\n    }\n  ];\n\n  function run_inline_js() {\n    \n    if ((root.Bokeh !== undefined) || (force === true)) {\n      for (var i = 0; i < inline_js.length; i++) {\n        inline_js[i].call(root, root.Bokeh);\n      }if (force === true) {\n        display_loaded();\n      }} else if (Date.now() < root._bokeh_timeout) {\n      setTimeout(run_inline_js, 100);\n    } else if (!root._bokeh_failed_load) {\n      console.log(\"Bokeh: BokehJS failed to load within specified timeout.\");\n      root._bokeh_failed_load = true;\n    } else if (force !== true) {\n      var cell = $(document.getElementById(\"b8a19924-7fc5-44da-8cc5-178227658791\")).parents('.cell').data().cell;\n      cell.output_area.append_execute_result(NB_LOAD_WARNING)\n    }\n\n  }\n\n  if (root._bokeh_is_loading === 0) {\n    console.log(\"Bokeh: BokehJS loaded, going straight to plotting\");\n    run_inline_js();\n  } else {\n    load_libs(js_urls, function() {\n      console.log(\"Bokeh: BokehJS plotting callback run at\", now());\n      run_inline_js();\n    });\n  }\n}(window));"
     },
     "metadata": {},
     "output_type": "display_data"
    }
   ],
   "source": [
    "output_notebook()"
   ]
  },
  {
   "cell_type": "code",
   "execution_count": 442,
   "metadata": {
    "collapsed": true
   },
   "outputs": [],
   "source": [
    "'''\n",
    "Get the clirad-lw and lblnew `param`s for all spectral bands.  \n",
    "These are returned by functions `clirad_params_atm` and\n",
    "`lblnew_params_atm`, respectively.\n",
    "'''\n",
    "\n",
    "def molecules_byband_atm():\n",
    "    return {1: {'h2o': 'atmpro'},\n",
    "            2: {'h2o': 'atmpro'}, \n",
    "            3: {'co2': 0.0004, 'h2o': 'atmpro', 'n2o': 3.2e-07},\n",
    "            4: {'co2': 0.0004, 'h2o': 'atmpro'},\n",
    "            5: {'co2': 0.0004, 'h2o': 'atmpro'},\n",
    "            6: {'co2': 0.0004, 'h2o': 'atmpro'},\n",
    "            7: {'co2': 0.0004, 'h2o': 'atmpro', 'o3': 'atmpro'},\n",
    "            8: {'h2o': 'atmpro'},\n",
    "            9: {'ch4': 1.8e-06, 'h2o': 'atmpro', 'n2o': 3.2e-07},\n",
    "            10: {'h2o': 'atmpro'},\n",
    "            11: {'co2': 0.0004, 'h2o': 'atmpro'}}\n",
    "\n",
    "\n",
    "def greyabsorbers_by_band_atm():\n",
    "    return {1: None,\n",
    "            2: None,\n",
    "            3: None,\n",
    "            4: None,\n",
    "            5: None,\n",
    "            6: None, \n",
    "            7: None,\n",
    "            8: {'n2o': 3.2e-7}, \n",
    "            9: None, \n",
    "            10: None,\n",
    "            11: None}\n",
    "\n",
    "\n",
    "def clirad_params_atm(atmpro='mls'):\n",
    "    d = {}\n",
    "    for band, molecule in molecules_byband_atm().items():\n",
    "        for param in setup_cliradlw.test_cases():\n",
    "            if [band] == param['band'] and molecule == param['molecule']:\n",
    "                param['atmpro'] = atmpro\n",
    "                d[band] = param\n",
    "                break                \n",
    "    return d\n",
    "\n",
    "\n",
    "def clirad_params_atm_singlerun(atmpro='mls'):\n",
    "    '''\n",
    "    Returns param of clirad-lw run that is equivalent to the total\n",
    "    of all the runs listed in molecules_byband_atm().  In order\n",
    "    for the output to be compatible with clirad_data_atm(), it will\n",
    "    be a list.\n",
    "    '''\n",
    "    param0 = {'band': [1, 2, 3, 4, 5, 6, 7, 8, 9, 10, 11],\n",
    "              'commitnumber': '54ff959',\n",
    "              'molecule': {'ch4': 1.8e-06,\n",
    "                           'co2': 0.0004,\n",
    "                           'h2o': 'atmpro',\n",
    "                           'n2o': 3.2e-07,\n",
    "                           'o3': 'atmpro'}}\n",
    "    \n",
    "    d_atmpros = {'mls': 294, 'saw': 257, 'trp': 300}\n",
    "    \n",
    "    param = param0.copy()\n",
    "    param['atmpro'] = atmpro\n",
    "    param['tsfc'] = d_atmpros[atmpro]\n",
    "    \n",
    "    d = {}\n",
    "    d['all'] = param\n",
    "    return d\n",
    "\n",
    "\n",
    "def analysis_dirs_atm(atmpro='mls'):\n",
    "    params = clirad_params_atm(atmpro=atmpro)\n",
    "    return {band: pipe_cliradlw.get_analysis_dir(param=param,\n",
    "                                                 setup=setup_cliradlw) \n",
    "            for band, param in params.items()}\n",
    "\n",
    "\n",
    "def lblnew_params_atm(atmpro='mls'):\n",
    "    dirs = analysis_dirs_atm(atmpro=atmpro)\n",
    "    \n",
    "    d = {}\n",
    "    for band, dirname in dirs.items():\n",
    "        with open(os.path.join(dirname, 'param.py'), \n",
    "                  mode='r', encoding='utf-8') as f:\n",
    "            _, l = f.readlines()\n",
    "        \n",
    "        s = l.split('=')[1].strip()\n",
    "        d[band] = ast.literal_eval(s)\n",
    "        \n",
    "    return d\n"
   ]
  },
  {
   "cell_type": "code",
   "execution_count": 443,
   "metadata": {
    "collapsed": true
   },
   "outputs": [],
   "source": [
    "def db_getdir():\n",
    "    atmpro = 'mls'\n",
    "    params = clirad_params_atm_singlerun(atmpro=atmpro)\n",
    "    param = params['all']\n",
    "    \n",
    "    fdir = pipe_cliradlw.get_fortran_dir(param=param, \n",
    "                                         setup=setup_cliradlw)\n",
    "    return fdir\n",
    "\n",
    "\n",
    "def db_ktable():\n",
    "    fdir = db_getdir()    \n",
    "    fpath = os.path.join(fdir, 'ktable.dat')\n",
    "    \n",
    "    df = pd.read_csv(fpath, sep=r'\\s+')\n",
    "    df = df.set_index(['band', 'mid', 'il', 'it', 'g'])\n",
    "    ds = xr.Dataset.from_dataframe(df)\n",
    "    return ds\n",
    "\n",
    "\n",
    "def db_ng_dgs():\n",
    "    fdir = db_getdir()\n",
    "    fpath = os.path.join(fdir, 'ng_dgs.dat')\n",
    "    \n",
    "    df = pd.read_csv(fpath, sep=r'\\s+')\n",
    "    df = df.set_index(['band', 'mid', 'g'])\n",
    "    ds = xr.Dataset.from_dataframe(df)\n",
    "    return ds\n"
   ]
  },
  {
   "cell_type": "code",
   "execution_count": 444,
   "metadata": {
    "collapsed": true
   },
   "outputs": [],
   "source": [
    "def show_makeup():\n",
    "    df = pd.DataFrame()\n",
    "\n",
    "    for band, molecule in molecules_byband_atm().items():\n",
    "        for name, conc in molecule.items():\n",
    "            df.loc[name, band] = str(conc)\n",
    "\n",
    "    df = df.fillna(0)\n",
    "    df.columns.name = 'clirad band'\n",
    "    df.index.name = 'molecule'\n",
    "    \n",
    "    display.display(df)\n",
    "    \n",
    "    display.display(\n",
    "        display.Markdown('*TABLE.* Non-grey absorbers in the atmosphere.'))\n",
    "\n",
    "\n",
    "def show_grey_makeup():\n",
    "    df = pd.DataFrame()\n",
    "    \n",
    "    for band, molecule in greyabsorbers_by_band_atm().items():\n",
    "        if molecule == None:\n",
    "            pass\n",
    "        else:\n",
    "            for name, conc in molecule.items():\n",
    "                df.loc[name, band] = str(conc)\n",
    "                \n",
    "    df = df.fillna(0)\n",
    "    df.columns.name = 'clirad band'\n",
    "    df.index.name = 'absorber'\n",
    "    \n",
    "    display.display(df)\n",
    "    display.display(\n",
    "        display.Markdown('*TABLE.* Grey absorbers in the atmosphere.')\n",
    "    )"
   ]
  },
  {
   "cell_type": "code",
   "execution_count": 445,
   "metadata": {
    "collapsed": true
   },
   "outputs": [],
   "source": [
    "def load_output_file(path_csv):\n",
    "    '''\n",
    "    Load lblnew output .csv file to xarray.Dataset\n",
    "    \n",
    "    Parameters\n",
    "    ----------\n",
    "    path_csv: str\n",
    "              Path to the .csv file to be loaded.\n",
    "    ds: xarray.Dataset\n",
    "        Data in the input file in the form of an xarray.Dataset.\n",
    "    '''\n",
    "    toindex = ['band', 'pressure', 'igg', 'g']    \n",
    "    df = pd.read_csv(path_csv, sep=r'\\s+')\n",
    "    df = df.set_index([i for i in toindex if i in df.columns])\n",
    "    df = df.rename(columns={'sfu': 'flug',\n",
    "                            'sfd': 'fldg',\n",
    "                            'fnet': 'fnetg',\n",
    "                            'coolr': 'coolrg'})\n",
    "    ds = xr.Dataset.from_dataframe(df)\n",
    "\n",
    "    for l in ('level', 'layer'):\n",
    "        if l in ds.data_vars:\n",
    "            if len(ds[l].dims) > 1:\n",
    "                surface = {d: 0 for d in ds.dims if d != 'pressure'}\n",
    "                coord_level = ds[l][surface]\n",
    "                ds.coords[l] = ('pressure', coord_level)\n",
    "            else:\n",
    "                ds.coords[l] = ('pressure', ds[l])\n",
    "    \n",
    "    return ds"
   ]
  },
  {
   "cell_type": "code",
   "execution_count": 446,
   "metadata": {
    "collapsed": true
   },
   "outputs": [],
   "source": [
    "def lblnew_setup(param=None):\n",
    "    if 'ng_refs' in param:\n",
    "        return {'setup': setup_bestfit,\n",
    "                'fname_flux_crd': 'output_flux.dat',\n",
    "                'fname_cool_crd': 'output_coolr.dat',\n",
    "                'fname_flux_wgt': 'output_wfluxg.dat',\n",
    "                'fname_cool_wgt': 'output_wcoolrg.dat'}\n",
    "    else:\n",
    "        return {'setup': setup_overlap,\n",
    "                'fname_flux_crd': 'output_flux.dat',\n",
    "                'fname_cool_crd': 'output_coolr.dat',\n",
    "                'fname_flux_wgt': 'output_wflux.dat',\n",
    "                'fname_cool_wgt': 'output_wcoolr.dat'}\n",
    "\n",
    "    \n",
    "def load_lblnew_data(param):\n",
    "    \n",
    "    fname_dsname = [('fname_flux_crd', 'ds_flux_crd'),\n",
    "                    ('fname_cool_crd', 'ds_cool_crd'),\n",
    "                    ('fname_flux_wgt', 'ds_flux_wgt'),\n",
    "                    ('fname_cool_wgt', 'ds_cool_wgt')]\n",
    "    \n",
    "    d = lblnew_setup(param)\n",
    "    dir_fortran = pipe_lblnew.get_dir_case(param, setup=d['setup'])\n",
    "    \n",
    "    data_dict = {}\n",
    "    for fname, dsname in fname_dsname:\n",
    "        fpath = os.path.join(dir_fortran, d[fname])\n",
    "        data_dict[dsname] = load_output_file(fpath)\n",
    "    return data_dict"
   ]
  },
  {
   "cell_type": "code",
   "execution_count": 447,
   "metadata": {
    "collapsed": true
   },
   "outputs": [],
   "source": [
    "def crd_data_atm(params_atm):\n",
    "    '''\n",
    "    Parameters\n",
    "    ----------\n",
    "    \n",
    "    params_atm: dict\n",
    "                Parameter dictionary for each band.\n",
    "                \n",
    "    d: dict\n",
    "       'flux': xr.Dataset. [pressure, band]\n",
    "               Fluxes.\n",
    "       'cool': xr.Dataset. [pressure, band]\n",
    "               Cooling rate.\n",
    "    \n",
    "    '''\n",
    "    \n",
    "    results_atm = {band: load_lblnew_data(param) \n",
    "                   for band, param in params_atm.items()}\n",
    "    \n",
    "    bands = [band for band, _ in params_atm.items()]\n",
    "    fluxs = [d['ds_flux_crd'] for _, d in results_atm.items()]\n",
    "    cools = [d['ds_cool_crd'] for _, d in results_atm.items()]\n",
    "    \n",
    "    d = {}\n",
    "    d['flux'] = xr.concat(fluxs, dim=bands).rename({'concat_dim': 'band'})\n",
    "    d['cool'] = xr.concat(cools, dim=bands).rename({'concat_dim': 'band'})\n",
    "    return d        \n",
    "        \n",
    "        \n",
    "\n",
    "def clirad_data_atm(params_atm):\n",
    "    \n",
    "    dirnames = [pipe_cliradlw.get_fortran_dir(param,\n",
    "                                              setup=setup_cliradlw)\n",
    "                for _, param in params_atm.items()]\n",
    "    \n",
    "    fpaths_flux = [os.path.join(n, 'output_flux.dat') for n in dirnames]\n",
    "    fpaths_cool = [os.path.join(n, 'output_coolr.dat') for n in dirnames]\n",
    "    \n",
    "    fluxs = [load_output_file(p) for p in fpaths_flux]    \n",
    "    cools = [load_output_file(p) for p in fpaths_cool]\n",
    "    \n",
    "    d = {}\n",
    "    d['flux'] = sum(fluxs)\n",
    "    d['cool'] = sum(cools)\n",
    "    return d\n",
    "\n"
   ]
  },
  {
   "cell_type": "code",
   "execution_count": 448,
   "metadata": {
    "collapsed": true
   },
   "outputs": [],
   "source": [
    "\n",
    "\n",
    "import rtmtools.clirad.sw.wrangle as cliradwrangle\n",
    "\n",
    "import importlib\n",
    "importlib.reload(cliradwrangle)\n",
    "\n",
    "def oldclirad_data_atm():\n",
    "    '''\n",
    "    Load the OLD clirad's results. mls only.\n",
    "    '''\n",
    "    fpath = os.path.join('/chia_cluster/home/jackyu/radiation',\n",
    "                         'clirad-lw',\n",
    "                         'LW',\n",
    "                         'examples',\n",
    "                         'mls75_h2o_atmpro_co2_.0004_o3_atmpro_n2o_3.2e-7_ch4_1.8e-6_H2012',\n",
    "                         'OUTPUT_CLIRAD.dat')\n",
    "    \n",
    "    ds = cliradwrangle.load_OUTPUT_CLIRAD(readfrom=fpath)\n",
    "    \n",
    "    ds_cool = xr.Dataset()\n",
    "    ds_cool.coords['pressure'] = ('pressure', ds['layer_pressure'])\n",
    "    ds_cool.coords['band'] = ('band', ds['spectral_band'])\n",
    "    ds_cool['coolrg'] = (('band', 'pressure'), - ds['heating_rate'])\n",
    "    \n",
    "    ds_flux = xr.Dataset()\n",
    "    ds_flux.coords['pressure'] = ('pressure', ds['level_pressure'])\n",
    "    ds_flux.coords['band'] = ('band', ds['spectral_band'])\n",
    "    ds_flux['flug'] = (('band', 'pressure'), ds['flux_up'])\n",
    "    ds_flux['fldg'] = (('band', 'pressure'), ds['flux_down'])\n",
    "    ds_flux['fnetg'] = (('band', 'pressure'), ds['net_flux'])\n",
    "    \n",
    "    \n",
    "    d = {}\n",
    "    d['cool'] = ds_cool\n",
    "    d['flux'] = ds_flux\n",
    "    return d\n"
   ]
  },
  {
   "cell_type": "code",
   "execution_count": 449,
   "metadata": {
    "collapsed": true
   },
   "outputs": [],
   "source": [
    "def fmt_cool(ds_in):\n",
    "    ds = ds_in.copy(deep=True)\n",
    "    if 'igg' in ds.dims:\n",
    "        ds = ds.sel(igg=1)\n",
    "\n",
    "    if 'g' in ds.dims:\n",
    "        ds = ds.sum('g')\n",
    "            \n",
    "    if 'band' in ds.dims:\n",
    "        try:\n",
    "            ds = ds.squeeze('band')\n",
    "        except ValueError:\n",
    "            ds = ds.sum('band')\n",
    "                \n",
    "    return ds['coolrg']\n",
    "\n",
    "\n",
    "\n",
    "def nice_xlims(pltdata=None, prange=None):\n",
    "    \n",
    "    def get_slice(srs):\n",
    "        return srs.sel(pressure=slice(*prange))\n",
    "    \n",
    "    srss = [d['srs'] for d in pltdata]\n",
    "    vmin = min([get_slice(srs).min() for srs in srss])\n",
    "    vmax = max([get_slice(srs).max() for srs in srss])\n",
    "    dv = (vmax - vmin) * .01\n",
    "    return float(vmin - dv), float(vmax + dv)\n",
    "\n",
    "\n",
    "    \n",
    "def plt_cool_bokeh(pltdata=None, \n",
    "                   y_axis_type='linear', prange=(50, 1050)):\n",
    "    \n",
    "    ymin = 1e-2 \n",
    "    ymax = 1020\n",
    "    \n",
    "    p2 = figure(y_axis_type=y_axis_type, plot_width=300)\n",
    "    xmin, xmax = nice_xlims(pltdata, prange=prange)\n",
    "    \n",
    "    rs = []\n",
    "    for d in pltdata:\n",
    "        rd = []\n",
    "        if 'marker' in d:\n",
    "            r_mark = getattr(p2, d['marker'])(d['srs'].values, \n",
    "                        d['srs'].coords['pressure'].values,\n",
    "                        color=d['color'], alpha=.7)\n",
    "            rd.append(r_mark)\n",
    "        r_line = p2.line(d['srs'].values, \n",
    "                         d['srs'].coords['pressure'].values,\n",
    "                         color=d['color'], alpha=d['alpha'], \n",
    "                         line_width=d['line_width'], \n",
    "                         line_dash=d['line_dash'])\n",
    "        rd.append(r_line)\n",
    "      \n",
    "        rs.append(rd)\n",
    "        \n",
    "    p2.y_range = Range1d(ymax, ymin)  \n",
    "    p2.yaxis.axis_label = 'pressure [mb]'\n",
    "    \n",
    "    p2.x_range = Range1d(xmin, xmax)\n",
    "    p2.xaxis.axis_label = 'cooling rate [K/day]'\n",
    "    \n",
    "    items = [(d['label'], r) for r, d in zip(rs, pltdata)]\n",
    "    legend = Legend(items=items, location=(10, 0))\n",
    "    legend.label_text_font_size = '8pt'\n",
    "    p2.add_layout(legend, 'above')\n",
    "    p2.legend.orientation = 'horizontal'\n",
    "    p2.legend.location = 'top_center'\n",
    "    \n",
    "    return p2"
   ]
  },
  {
   "cell_type": "code",
   "execution_count": 450,
   "metadata": {
    "collapsed": true
   },
   "outputs": [],
   "source": [
    "def pltdata_cool(atmpro='mls'):\n",
    "    \n",
    "    d_clirad_singlerun = clirad_data_atm(\n",
    "        clirad_params_atm_singlerun(atmpro=atmpro))\n",
    "    d_clirad = clirad_data_atm(clirad_params_atm(atmpro=atmpro))\n",
    "    d_crd = crd_data_atm(lblnew_params_atm(atmpro=atmpro))\n",
    "\n",
    "    ds_clirad_singlerun = d_clirad_singlerun['cool']\n",
    "    ds_clirad = d_clirad['cool']\n",
    "    ds_crd = d_crd['cool']\n",
    "\n",
    "    colors = all_palettes['Set1'][4]\n",
    "    \n",
    "    data = [\n",
    "        {'label': 'CLIRAD (single-run)',\n",
    "        'srs': fmt_cool(ds_clirad_singlerun),\n",
    "        'line_dash': 'dashed', 'line_width': 5,\n",
    "        'color': colors[1], 'alpha': .6},\n",
    "        {'label': 'CRD',\n",
    "         'srs': fmt_cool(ds_crd),\n",
    "         'line_dash': 'solid', 'line_width': 1.5,\n",
    "         'marker': 'circle', 'marker_size': 5,\n",
    "         'color': colors[2], 'alpha': 1}\n",
    "    ]\n",
    "#        {'label': 'CLIRAD',\n",
    "#         'srs': fmt_cool(ds_clirad),\n",
    "#         'line_dash': 'dashed', 'line_width': 5,\n",
    "#         'color': colors[0], 'alpha': .6}\n",
    "        \n",
    "\n",
    "    \n",
    "    # include old CLIRAD's results for mls profile\n",
    "    if atmpro == 'mls':\n",
    "        d_oldclirad = oldclirad_data_atm()\n",
    "        ds_oldclirad = d_oldclirad['cool']        \n",
    "        data.append(\n",
    "            {'label': 'old CLIRAD (H2012)',\n",
    "             'srs': fmt_cool(ds_oldclirad),\n",
    "             'line_dash': 'solid', 'line_width': 1.5,\n",
    "             'marker': 'square', 'marker_size': 3,\n",
    "             'color': colors[3], 'alpha': .5})\n",
    "    return data\n",
    "\n",
    "\n",
    "def pltdata_cooldiff(atmpro='mls'):\n",
    "    \n",
    "    d_clirad_singlerun = clirad_data_atm(\n",
    "        clirad_params_atm_singlerun(atmpro=atmpro))\n",
    "    d_clirad = clirad_data_atm(clirad_params_atm(atmpro=atmpro))\n",
    "    d_crd = crd_data_atm(lblnew_params_atm(atmpro=atmpro))\n",
    "    \n",
    "    ds_clirad_singlerun = d_clirad_singlerun['cool']\n",
    "    ds_clirad = d_clirad['cool']\n",
    "    ds_crd = d_crd['cool']\n",
    "    \n",
    "    ds_diff = ds_clirad_singlerun - ds_crd\n",
    "    \n",
    "    colors = all_palettes['Set1'][4]\n",
    "    \n",
    "    data = [\n",
    "        {'label': 'CLIRAD (single-run) - CRD',\n",
    "         'srs': fmt_cool(ds_diff),\n",
    "         'line_dash': 'solid', 'line_width': 1.5, \n",
    "         'marker': 'circle', 'marker_size': 7,\n",
    "         'color': colors[3], 'alpha': .8}\n",
    "    ]\n",
    "    \n",
    "    # include old CLIRAD's results for mls profile\n",
    "    if atmpro == 'mls':\n",
    "        d_oldclirad = oldclirad_data_atm()\n",
    "        ds_oldclirad = d_oldclirad['cool']\n",
    "        ds_oldclirad.coords['pressure'] = ds_crd.coords['pressure']\n",
    "        ds_diff_old = ds_oldclirad.sum('band') - ds_crd.sum('band')\n",
    "        data.append(\n",
    "            {'label': 'old CLIRAD (H2012) - CRD',\n",
    "             'srs': fmt_cool(ds_diff_old),\n",
    "             'line_dash': 'dashed', 'line_width': 4,\n",
    "             'color': colors[1], 'alpha': .5}\n",
    "        )\n",
    "    return data\n",
    "\n",
    "\n",
    "def show_cool(atmpro='mls'):\n",
    "    \n",
    "    data_cool = pltdata_cool(atmpro=atmpro)\n",
    "    p_cool_liny = plt_cool_bokeh(pltdata=data_cool)\n",
    "    p_cool_logy = plt_cool_bokeh(pltdata=data_cool, \n",
    "                                 y_axis_type='log',\n",
    "                                 prange=(.01, 200))\n",
    "    \n",
    "    data_cooldiff = pltdata_cooldiff(atmpro=atmpro)\n",
    "    p_cooldiff_logy = plt_cool_bokeh(pltdata=data_cooldiff,\n",
    "                                     y_axis_type='log',\n",
    "                                     prange=(.01, 200))\n",
    "    \n",
    "    everything = gridplot(p_cool_liny, p_cool_logy, \n",
    "                          p_cooldiff_logy,\n",
    "                          ncols=3)\n",
    "    show(everything)\n",
    "    display.display(\n",
    "        display.Markdown('*FIGURE.* Cooling rates & difference.'))\n",
    "\n",
    "\n",
    "    "
   ]
  },
  {
   "cell_type": "code",
   "execution_count": null,
   "metadata": {
    "collapsed": true
   },
   "outputs": [],
   "source": []
  },
  {
   "cell_type": "code",
   "execution_count": 451,
   "metadata": {
    "collapsed": true,
    "scrolled": false
   },
   "outputs": [],
   "source": [
    "\n",
    "\n",
    "def hist_band_vs_flux(da, title='Title'):\n",
    "       \n",
    "    bands = [str(b.values) for b in da['band']]\n",
    "\n",
    "    source = ColumnDataSource(\n",
    "        data={'band': bands, 'flux': da.values})\n",
    "\n",
    "    p = figure(x_range=bands, title=title)\n",
    "    p.vbar(source=source, x='band', top='flux', width=.9)\n",
    "\n",
    "    p.yaxis.axis_label = 'flux (W m-2)'\n",
    "    p.xaxis.axis_label = 'spectral band'\n",
    "    \n",
    "    return p\n",
    "\n",
    "\n",
    "def show_hist_flux(atmpro='mls'):\n",
    "    ds_crd = crd_data_atm(lblnew_params_atm(atmpro=atmpro))['flux']\n",
    "    ds_clirad = clirad_data_atm(\n",
    "        clirad_params_atm(atmpro=atmpro))['flux']\n",
    "    ds_clirad_singlerun = clirad_data_atm(\n",
    "        clirad_params_atm_singlerun(atmpro=atmpro))['flux']\n",
    "    \n",
    "    ip, varname = 0, 'flug'\n",
    "    da = (ds_clirad_singlerun - ds_crd).isel(pressure=ip)[varname]\n",
    "    p_toa = hist_band_vs_flux(da, \n",
    "        title='TOA flux. CLIRAD (single-run) - CRD.')\n",
    "\n",
    "    ip, varname = -1, 'fldg'\n",
    "    da = (ds_clirad_singlerun - ds_crd).isel(pressure=ip)[varname]\n",
    "    p_sfc = hist_band_vs_flux(da, \n",
    "        title='SFC flux. CLIRAD (single-run) - CRD.')    \n",
    "    \n",
    "    atm_crd = (ds_crd.isel(pressure=0) \n",
    "               - ds_crd.isel(pressure=-1))['fnetg']\n",
    "    atm_clirad_singlerun = (ds_clirad_singlerun.isel(pressure=0) \n",
    "                  - ds_clirad_singlerun.isel(pressure=-1))['fnetg']\n",
    "    da = atm_clirad_singlerun - atm_crd\n",
    "    p_atm = hist_band_vs_flux(da, \n",
    "        title='Atmosphere heating. CLIRAD (single-run) - CRD.')\n",
    "\n",
    "    everything = gridplot(p_toa, p_sfc, p_atm, ncols=3, \n",
    "                          plot_width=300, plot_height=300)\n",
    "    \n",
    "    show(everything)\n",
    "    display.display(\n",
    "        display.Markdown('*FIGURE.* Difference between CLIRAD and CRD'\n",
    "          ' in TOA, SFC and net atmosphere flux,'\n",
    "          ' in each spectral band.'))\n",
    "\n",
    "\n",
    "    \n",
    "def show_tb_flux(atmpro='mls'):\n",
    "    ds_crd = crd_data_atm(lblnew_params_atm(atmpro=atmpro))['flux']\n",
    "    olr_crd = ds_crd['flug'].isel(pressure=0)\n",
    "    sfc_crd = ds_crd['fldg'].isel(pressure=-1)\n",
    "    atm_crd = (ds_crd.isel(pressure=0)\n",
    "               - ds_crd.isel(pressure=-1))['fnetg']\n",
    "    \n",
    "    ds_clirad = clirad_data_atm(\n",
    "        clirad_params_atm(atmpro=atmpro))['flux']\n",
    "    olr_clirad = ds_clirad['flug'].isel(pressure=0)\n",
    "    sfc_clirad = ds_clirad['fldg'].isel(pressure=-1)\n",
    "    atm_clirad = (ds_clirad.isel(pressure=0)\n",
    "                  - ds_clirad.isel(pressure=-1))['fnetg']\n",
    "\n",
    "    ds_clirad_singlerun = clirad_data_atm(\n",
    "        clirad_params_atm_singlerun(atmpro=atmpro))['flux']\n",
    "    olr_clirad_singlerun = ds_clirad_singlerun['flug'].isel(pressure=0)\n",
    "    sfc_clirad_singlerun = ds_clirad_singlerun['fldg'].isel(pressure=-1)\n",
    "    atm_clirad_singlerun = (ds_clirad_singlerun.isel(pressure=0)\n",
    "                  - ds_clirad_singlerun.isel(pressure=-1))['fnetg']\n",
    "    \n",
    "    if atmpro == 'mls':\n",
    "        ds_oldclirad = oldclirad_data_atm()['flux']\n",
    "        ds_oldclirad['pressure'] = ds_crd['pressure']\n",
    "        olr_oldclirad = ds_oldclirad['flug'].isel(pressure=0)\n",
    "        sfc_oldclirad = ds_oldclirad['fldg'].isel(pressure=-1)\n",
    "        atm_oldclirad = (ds_oldclirad.isel(pressure=0)\n",
    "                         - ds_oldclirad.isel(pressure=-1))['fnetg']\n",
    "        \n",
    "    \n",
    "    \n",
    "    df = pd.DataFrame()\n",
    "    df.index.name = 'Sum over bands'\n",
    "    \n",
    "    if atmpro == 'mls':\n",
    "        df.loc['old CLIRAD - CRD', 'OLR flux'] = (olr_oldclirad.sum('band') - olr_crd.sum('band')).values\n",
    "        df.loc['old CLIRAD - CRD', 'SFC flux'] = (sfc_oldclirad.sum('band') - sfc_crd.sum('band')).values\n",
    "        df.loc['old CLIRAD - CRD', 'ATM heating'] = (atm_oldclirad.sum('band') - atm_crd.sum('band')).values\n",
    "    \n",
    "    df.loc['CLIRAD (single-run) - CRD', 'OLR flux'] = (olr_clirad_singlerun - olr_crd).sum('band').values\n",
    "    df.loc['CLIRAD (single-run) - CRD', 'SFC flux'] = (sfc_clirad_singlerun - sfc_crd).sum('band').values\n",
    "    df.loc['CLIRAD (single-run) - CRD', 'ATM heating'] = (atm_clirad_singlerun - atm_crd).sum('band').values\n",
    "\n",
    "    df.loc['CRD', 'OLR flux'] = olr_crd.sum('band').values\n",
    "    df.loc['CRD', 'SFC flux'] = sfc_crd.sum('band').values\n",
    "    df.loc['CRD', 'ATM heating'] = atm_crd.sum('band').values\n",
    "        \n",
    "    df = df.astype('float').round(2)\n",
    "    \n",
    "    display.display(df)\n",
    "    display.display(\n",
    "        display.Markdown('*TABLE.* Difference between CLIRAD and CRD'\n",
    "          ' in TOA, SFC and net atmosphere flux,'\n",
    "          ' over all spectral bands. CRD\\'s'\n",
    "          ' TOA, SFC and net atmosphere flux,'\n",
    "          ' over all spectral bands.'))\n"
   ]
  },
  {
   "cell_type": "code",
   "execution_count": 452,
   "metadata": {
    "scrolled": false
   },
   "outputs": [
    {
     "data": {
      "text/markdown": [
       "## Results over entire range of molecules and spectral bands"
      ],
      "text/plain": [
       "<IPython.core.display.Markdown object>"
      ]
     },
     "metadata": {},
     "output_type": "display_data"
    },
    {
     "data": {
      "text/markdown": [
       "### Table of Contents"
      ],
      "text/plain": [
       "<IPython.core.display.Markdown object>"
      ]
     },
     "metadata": {},
     "output_type": "display_data"
    },
    {
     "data": {
      "text/html": [
       "<a href=\"#Makeup_of_atmosphere.\">Makeup of atmosphere.</a>"
      ],
      "text/plain": [
       "<IPython.core.display.HTML object>"
      ]
     },
     "metadata": {},
     "output_type": "display_data"
    },
    {
     "data": {
      "text/markdown": [
       "**mid-latitude summer**"
      ],
      "text/plain": [
       "<IPython.core.display.Markdown object>"
      ]
     },
     "metadata": {},
     "output_type": "display_data"
    },
    {
     "data": {
      "text/html": [
       "<a href=\"#Cooling_rates._mls.\">Cooling rates. mls.</a>"
      ],
      "text/plain": [
       "<IPython.core.display.HTML object>"
      ]
     },
     "metadata": {},
     "output_type": "display_data"
    },
    {
     "data": {
      "text/html": [
       "<a href=\"#Fluxes._mls.\">Fluxes. mls.</a>"
      ],
      "text/plain": [
       "<IPython.core.display.HTML object>"
      ]
     },
     "metadata": {},
     "output_type": "display_data"
    },
    {
     "data": {
      "text/markdown": [
       "**sub-arctic winter**"
      ],
      "text/plain": [
       "<IPython.core.display.Markdown object>"
      ]
     },
     "metadata": {},
     "output_type": "display_data"
    },
    {
     "data": {
      "text/html": [
       "<a href=\"#Cooling_rates._saw.\">Cooling rates. saw.</a>"
      ],
      "text/plain": [
       "<IPython.core.display.HTML object>"
      ]
     },
     "metadata": {},
     "output_type": "display_data"
    },
    {
     "data": {
      "text/html": [
       "<a href=\"#Fluxes._saw.\">Fluxes. saw.</a>"
      ],
      "text/plain": [
       "<IPython.core.display.HTML object>"
      ]
     },
     "metadata": {},
     "output_type": "display_data"
    },
    {
     "data": {
      "text/markdown": [
       "**tropical**"
      ],
      "text/plain": [
       "<IPython.core.display.Markdown object>"
      ]
     },
     "metadata": {},
     "output_type": "display_data"
    },
    {
     "data": {
      "text/html": [
       "<a href=\"#Cooling_rates._trp.\">Cooling rates. trp.</a>"
      ],
      "text/plain": [
       "<IPython.core.display.HTML object>"
      ]
     },
     "metadata": {},
     "output_type": "display_data"
    },
    {
     "data": {
      "text/html": [
       "<a href=\"#Fluxes._trp.\">Fluxes. trp.</a>"
      ],
      "text/plain": [
       "<IPython.core.display.HTML object>"
      ]
     },
     "metadata": {},
     "output_type": "display_data"
    },
    {
     "data": {
      "text/html": [
       "<a id=\"Makeup_of_atmosphere.\"></a>"
      ],
      "text/plain": [
       "<IPython.core.display.HTML object>"
      ]
     },
     "metadata": {},
     "output_type": "display_data"
    },
    {
     "data": {
      "text/markdown": [
       "# Makeup of atmosphere."
      ],
      "text/plain": [
       "<IPython.core.display.Markdown object>"
      ]
     },
     "metadata": {},
     "output_type": "display_data"
    },
    {
     "data": {
      "text/html": [
       "<div>\n",
       "<style scoped>\n",
       "    .dataframe tbody tr th:only-of-type {\n",
       "        vertical-align: middle;\n",
       "    }\n",
       "\n",
       "    .dataframe tbody tr th {\n",
       "        vertical-align: top;\n",
       "    }\n",
       "\n",
       "    .dataframe thead th {\n",
       "        text-align: right;\n",
       "    }\n",
       "</style>\n",
       "<table border=\"1\" class=\"dataframe\">\n",
       "  <thead>\n",
       "    <tr style=\"text-align: right;\">\n",
       "      <th>clirad band</th>\n",
       "      <th>1</th>\n",
       "      <th>2</th>\n",
       "      <th>3</th>\n",
       "      <th>4</th>\n",
       "      <th>5</th>\n",
       "      <th>6</th>\n",
       "      <th>7</th>\n",
       "      <th>8</th>\n",
       "      <th>9</th>\n",
       "      <th>10</th>\n",
       "      <th>11</th>\n",
       "    </tr>\n",
       "    <tr>\n",
       "      <th>molecule</th>\n",
       "      <th></th>\n",
       "      <th></th>\n",
       "      <th></th>\n",
       "      <th></th>\n",
       "      <th></th>\n",
       "      <th></th>\n",
       "      <th></th>\n",
       "      <th></th>\n",
       "      <th></th>\n",
       "      <th></th>\n",
       "      <th></th>\n",
       "    </tr>\n",
       "  </thead>\n",
       "  <tbody>\n",
       "    <tr>\n",
       "      <th>h2o</th>\n",
       "      <td>atmpro</td>\n",
       "      <td>atmpro</td>\n",
       "      <td>atmpro</td>\n",
       "      <td>atmpro</td>\n",
       "      <td>atmpro</td>\n",
       "      <td>atmpro</td>\n",
       "      <td>atmpro</td>\n",
       "      <td>atmpro</td>\n",
       "      <td>atmpro</td>\n",
       "      <td>atmpro</td>\n",
       "      <td>atmpro</td>\n",
       "    </tr>\n",
       "    <tr>\n",
       "      <th>co2</th>\n",
       "      <td>0</td>\n",
       "      <td>0</td>\n",
       "      <td>0.0004</td>\n",
       "      <td>0.0004</td>\n",
       "      <td>0.0004</td>\n",
       "      <td>0.0004</td>\n",
       "      <td>0.0004</td>\n",
       "      <td>0</td>\n",
       "      <td>0</td>\n",
       "      <td>0</td>\n",
       "      <td>0.0004</td>\n",
       "    </tr>\n",
       "    <tr>\n",
       "      <th>n2o</th>\n",
       "      <td>0</td>\n",
       "      <td>0</td>\n",
       "      <td>3.2e-07</td>\n",
       "      <td>0</td>\n",
       "      <td>0</td>\n",
       "      <td>0</td>\n",
       "      <td>0</td>\n",
       "      <td>0</td>\n",
       "      <td>3.2e-07</td>\n",
       "      <td>0</td>\n",
       "      <td>0</td>\n",
       "    </tr>\n",
       "    <tr>\n",
       "      <th>o3</th>\n",
       "      <td>0</td>\n",
       "      <td>0</td>\n",
       "      <td>0</td>\n",
       "      <td>0</td>\n",
       "      <td>0</td>\n",
       "      <td>0</td>\n",
       "      <td>atmpro</td>\n",
       "      <td>0</td>\n",
       "      <td>0</td>\n",
       "      <td>0</td>\n",
       "      <td>0</td>\n",
       "    </tr>\n",
       "    <tr>\n",
       "      <th>ch4</th>\n",
       "      <td>0</td>\n",
       "      <td>0</td>\n",
       "      <td>0</td>\n",
       "      <td>0</td>\n",
       "      <td>0</td>\n",
       "      <td>0</td>\n",
       "      <td>0</td>\n",
       "      <td>0</td>\n",
       "      <td>1.8e-06</td>\n",
       "      <td>0</td>\n",
       "      <td>0</td>\n",
       "    </tr>\n",
       "  </tbody>\n",
       "</table>\n",
       "</div>"
      ],
      "text/plain": [
       "clirad band      1       2        3       4       5       6       7       8   \\\n",
       "molecule                                                                       \n",
       "h2o          atmpro  atmpro   atmpro  atmpro  atmpro  atmpro  atmpro  atmpro   \n",
       "co2               0       0   0.0004  0.0004  0.0004  0.0004  0.0004       0   \n",
       "n2o               0       0  3.2e-07       0       0       0       0       0   \n",
       "o3                0       0        0       0       0       0  atmpro       0   \n",
       "ch4               0       0        0       0       0       0       0       0   \n",
       "\n",
       "clirad band       9       10      11  \n",
       "molecule                              \n",
       "h2o           atmpro  atmpro  atmpro  \n",
       "co2                0       0  0.0004  \n",
       "n2o          3.2e-07       0       0  \n",
       "o3                 0       0       0  \n",
       "ch4          1.8e-06       0       0  "
      ]
     },
     "metadata": {},
     "output_type": "display_data"
    },
    {
     "data": {
      "text/markdown": [
       "*TABLE.* Non-grey absorbers in the atmosphere."
      ],
      "text/plain": [
       "<IPython.core.display.Markdown object>"
      ]
     },
     "metadata": {},
     "output_type": "display_data"
    },
    {
     "data": {
      "text/html": [
       "<div>\n",
       "<style scoped>\n",
       "    .dataframe tbody tr th:only-of-type {\n",
       "        vertical-align: middle;\n",
       "    }\n",
       "\n",
       "    .dataframe tbody tr th {\n",
       "        vertical-align: top;\n",
       "    }\n",
       "\n",
       "    .dataframe thead th {\n",
       "        text-align: right;\n",
       "    }\n",
       "</style>\n",
       "<table border=\"1\" class=\"dataframe\">\n",
       "  <thead>\n",
       "    <tr style=\"text-align: right;\">\n",
       "      <th>clirad band</th>\n",
       "      <th>8</th>\n",
       "    </tr>\n",
       "    <tr>\n",
       "      <th>absorber</th>\n",
       "      <th></th>\n",
       "    </tr>\n",
       "  </thead>\n",
       "  <tbody>\n",
       "    <tr>\n",
       "      <th>n2o</th>\n",
       "      <td>3.2e-07</td>\n",
       "    </tr>\n",
       "  </tbody>\n",
       "</table>\n",
       "</div>"
      ],
      "text/plain": [
       "clirad band        8\n",
       "absorber            \n",
       "n2o          3.2e-07"
      ]
     },
     "metadata": {},
     "output_type": "display_data"
    },
    {
     "data": {
      "text/markdown": [
       "*TABLE.* Grey absorbers in the atmosphere."
      ],
      "text/plain": [
       "<IPython.core.display.Markdown object>"
      ]
     },
     "metadata": {},
     "output_type": "display_data"
    },
    {
     "data": {
      "text/html": [
       "<a id=\"Cooling_rates._mls.\"></a>"
      ],
      "text/plain": [
       "<IPython.core.display.HTML object>"
      ]
     },
     "metadata": {},
     "output_type": "display_data"
    },
    {
     "data": {
      "text/markdown": [
       "# Cooling rates. mls."
      ],
      "text/plain": [
       "<IPython.core.display.Markdown object>"
      ]
     },
     "metadata": {},
     "output_type": "display_data"
    },
    {
     "data": {
      "text/html": [
       "\n",
       "<div class=\"bk-root\">\n",
       "    <div class=\"bk-plotdiv\" id=\"4715ddd2-9a19-4c8f-8580-20b40feaa0eb\"></div>\n",
       "</div>"
      ]
     },
     "metadata": {},
     "output_type": "display_data"
    },
    {
     "data": {
      "application/javascript": [
       "(function(root) {\n",
       "  function embed_document(root) {\n",
       "    \n",
       "  var docs_json = {\"65e0a5b0-a333-433e-8438-02aae6cf187d\":{\"roots\":{\"references\":[{\"attributes\":{},\"id\":\"4e98f239-9598-4458-8886-3888f21d5375\",\"type\":\"UnionRenderers\"},{\"attributes\":{\"active_drag\":\"auto\",\"active_inspect\":\"auto\",\"active_scroll\":\"auto\",\"active_tap\":\"auto\",\"tools\":[{\"id\":\"2bc60a98-4a70-4c72-95f8-efaab768fbe1\",\"type\":\"PanTool\"},{\"id\":\"ed6d6794-3a82-4907-9e20-9fe3546bc26c\",\"type\":\"WheelZoomTool\"},{\"id\":\"2417eda2-409e-4a3f-a8fc-468bae61d683\",\"type\":\"BoxZoomTool\"},{\"id\":\"d47b9fbb-d6ef-48b4-b09f-600e3d52ff8c\",\"type\":\"SaveTool\"},{\"id\":\"ab00b1d4-6b3f-4e09-8810-6bfba536f7fd\",\"type\":\"ResetTool\"},{\"id\":\"7297178b-2082-4f16-a50c-c68691b6a6f7\",\"type\":\"HelpTool\"}]},\"id\":\"1e229b61-b7da-4849-b7bb-cf92229ee559\",\"type\":\"Toolbar\"},{\"attributes\":{\"callback\":null,\"end\":0.01,\"start\":1020},\"id\":\"75b43b4b-acf5-4526-aae7-952eb8599130\",\"type\":\"Range1d\"},{\"attributes\":{},\"id\":\"c152bce4-06b2-46ca-9e3c-2e8457443351\",\"type\":\"UnionRenderers\"},{\"attributes\":{\"callback\":null,\"data\":{\"x\":{\"__ndarray__\":\"TaCMwxPYRUACRY+MYxdDQGq+lvgF40FA+LCUgX8+QEBGpyrsPT88QGxJOUk9PDdAXufu+pvoMUCdt2spq+MpQNyv11rHGCJAeTDs9yowGkDTb8JzsNkUQBGG6XOGshFAWaFhPOBEDUCvAOLy2o0DQNQkVlkr5vU/xM9YxOl/+j+4A5m8NSwFQO0Ea6WECQtArnzAoaXeEEDqjDdaYhYWQBjP7u7I/R1AUsIrhLfVJEDVFQaKc80qQOuyreEI/SlA0z4tKItPJEAnidJp8kcgQKdnFge/YxtAm5/KCZQEFkA9hnXJ0iYRQLpvzWcr3AtA/OO/niIDCEAzLcCmZsUCQO0M9viA9/k/pzY4cKk28T9PKC9u9lrnP69UkW1Ep9s/tw6jo0KMzD8V66RdIIK/P8kIsE8OFKW/1DMWNIHnyb9GENcKRMSLv9IWcV8ipec/MLbsZkhx9z91ZpnG8RAAQNGmbXt3kgFAThIy5B0CAEA4QN1HhDv+P2XL+8JnG/0/74LGRmVl/D/2Ituzzjf8PyL85lmkVPw/3jx1Hczs+z99h5mR03L7P0rY7s+iCPs/BhvUvj2/+j9gu6ZJaor6P3nzqWJwifo/tPEomF+g+z8TwK7VB4L8P0sFgvHtBP0/Poyk74IE/T/KmTVOTWX8P+VwwEexTvs/bO4du6ge+j+TGDYijgj5P/9wKwqhdvg/WsW9J0ZG+D853NcZkEH4Px14S/j5vfc/xFvwdZyu9j9frRLgf331P+hv8dkCkvQ/6WxZ6/gZ9D/0BtPJvUz0P0B+bBsR9/o/\",\"dtype\":\"float64\",\"shape\":[75]},\"y\":{\"__ndarray__\":\"GhExyth1ND/Sv8nbtpRIP2vylNV0PVE/aTum7souWD/At0SJ8fVgPw3Iuahxymc/MSNhhJWvcD/bTfBN02d3P2zb5nxnaoA/CD5h5MAGhz8NmeH1TyaQP+zrCsc9p5Y/LbKd76fGnz/bLW5ISEmmPww9YvTcQq8/JV2OstnstT8Er5Y7M8G+P0c+r3jqkcU/5h99k6ZBzj88bCIzFzjVP4enV8oyxN0//yH99nXg5D8qOpLLf0jtP5kqGJXUifQ/c9cS8kHP/D+/DpwzojQEQIEmwoanVwxA4lgXt9HgE0BSSZ2AJuIbQAMJih9jjiNA5q4l5INuK0AwTKYKRj0zQNv5fmq8/DpAaCJseHrtQkB/+zpwzoxKQM3MzMzMeFJAZmZmZmZqWEAAAAAAAFxeQM3MzMzMJmJAmpmZmZkfZUBmZmZmZhhoQDMzMzMzEWtAAAAAAAAKbkBmZmZmZoFwQM3MzMzM/XFAMzMzMzN6c0CamZmZmfZ0QAAAAAAAc3ZAZmZmZmbvd0DNzMzMzGt5QDMzMzMz6HpAmpmZmZlkfEAAAAAAAOF9QGZmZmZmXX9AZmZmZuZsgECamZmZGSuBQM3MzMxM6YFAAAAAAICngkAzMzMzs2WDQGZmZmbmI4RAmpmZmRnihEDNzMzMTKCFQAAAAACAXoZAMzMzM7Mch0BmZmZm5tqHQJqZmZkZmYhAzczMzExXiUAAAAAAgBWKQDMzMzOz04pAZmZmZuaRi0CamZmZGVCMQM3MzMxMDo1AAAAAAIDMjUAzMzMzs4qOQGZmZmbmSI9A\",\"dtype\":\"float64\",\"shape\":[75]}},\"selected\":{\"id\":\"4f0b6cf6-441d-436f-8f21-7c385dbf4ef3\",\"type\":\"Selection\"},\"selection_policy\":{\"id\":\"018bbaa7-529c-40f7-b367-ed4defee44da\",\"type\":\"UnionRenderers\"}},\"id\":\"bfbb5105-a1ae-4d36-894c-6ddab865a404\",\"type\":\"ColumnDataSource\"},{\"attributes\":{\"above\":[{\"id\":\"f260aee8-1ca7-492e-ac92-a2df5256d45f\",\"type\":\"Legend\"}],\"below\":[{\"id\":\"b258c505-811e-4a82-8f4a-2192f33ceae4\",\"type\":\"LinearAxis\"}],\"left\":[{\"id\":\"69bf4e71-b231-41e6-9a40-e809341fcef7\",\"type\":\"LinearAxis\"}],\"plot_width\":300,\"renderers\":[{\"id\":\"b258c505-811e-4a82-8f4a-2192f33ceae4\",\"type\":\"LinearAxis\"},{\"id\":\"8256d2d0-7271-456b-8f98-a44f4568e421\",\"type\":\"Grid\"},{\"id\":\"69bf4e71-b231-41e6-9a40-e809341fcef7\",\"type\":\"LinearAxis\"},{\"id\":\"bdc5c12c-72a7-46af-97d1-f687330f0c59\",\"type\":\"Grid\"},{\"id\":\"ed0d85ed-2797-4738-886e-5f968fa83817\",\"type\":\"BoxAnnotation\"},{\"id\":\"b8baa7a6-8475-4f87-8726-03fd87313067\",\"type\":\"GlyphRenderer\"},{\"id\":\"42d6db33-19fb-4860-9d69-0b65e1831eae\",\"type\":\"GlyphRenderer\"},{\"id\":\"27ed3c4f-f1af-4b61-af04-207bf3b3b145\",\"type\":\"GlyphRenderer\"},{\"id\":\"97e6820f-e276-4555-a298-5509bfa565d4\",\"type\":\"GlyphRenderer\"},{\"id\":\"2d7a4943-2f25-4f75-be5f-42d8f10fbc73\",\"type\":\"GlyphRenderer\"},{\"id\":\"f260aee8-1ca7-492e-ac92-a2df5256d45f\",\"type\":\"Legend\"}],\"title\":{\"id\":\"da104549-f525-4d4d-b5b9-35564b595a5e\",\"type\":\"Title\"},\"toolbar\":{\"id\":\"735b9a49-e011-4f51-910d-06f0c0885d1c\",\"type\":\"Toolbar\"},\"toolbar_location\":null,\"x_range\":{\"id\":\"74a525dc-d023-4af8-bb38-00e9809392f2\",\"type\":\"Range1d\"},\"x_scale\":{\"id\":\"38b65eba-c253-4a08-886e-19cfec6c8e7d\",\"type\":\"LinearScale\"},\"y_range\":{\"id\":\"09c89439-48a7-401e-9a55-f3cb14f0ba5e\",\"type\":\"Range1d\"},\"y_scale\":{\"id\":\"0d651981-80b9-4f83-9f59-17ed782befb3\",\"type\":\"LinearScale\"}},\"id\":\"4f37833e-44b0-4b01-b63b-5aec7979993c\",\"subtype\":\"Figure\",\"type\":\"Plot\"},{\"attributes\":{},\"id\":\"d961d8b2-2cf9-4bfa-a8d6-ce4414546c49\",\"type\":\"BasicTickFormatter\"},{\"attributes\":{\"plot\":null,\"text\":\"\"},\"id\":\"642195ac-c2c0-41db-9459-9e19779f49c9\",\"type\":\"Title\"},{\"attributes\":{\"line_alpha\":0.1,\"line_color\":\"#1f77b4\",\"line_dash\":[6],\"line_width\":5,\"x\":{\"field\":\"x\"},\"y\":{\"field\":\"y\"}},\"id\":\"8af878b5-1ab7-4cab-9889-7599b0c70e34\",\"type\":\"Line\"},{\"attributes\":{\"ticker\":null},\"id\":\"3ae623f3-d5f0-4d99-a6d1-08aad80b41a3\",\"type\":\"LogTickFormatter\"},{\"attributes\":{\"items\":[{\"id\":\"594f7128-080e-4e0a-9939-4b8935cddab2\",\"type\":\"LegendItem\"},{\"id\":\"b5b727c3-3c52-471b-80af-f3c12d11ab76\",\"type\":\"LegendItem\"}],\"label_text_font_size\":{\"value\":\"8pt\"},\"location\":\"top_center\",\"orientation\":\"horizontal\",\"plot\":{\"id\":\"7f83cdad-a066-42bf-bfaf-72694c188eed\",\"subtype\":\"Figure\",\"type\":\"Plot\"}},\"id\":\"d3c64503-a02e-4709-a710-54acdcb4877d\",\"type\":\"Legend\"},{\"attributes\":{\"axis_label\":\"cooling rate [K/day]\",\"formatter\":{\"id\":\"789f0631-e6ae-43ea-b5f5-743c8ca024bc\",\"type\":\"BasicTickFormatter\"},\"plot\":{\"id\":\"7f83cdad-a066-42bf-bfaf-72694c188eed\",\"subtype\":\"Figure\",\"type\":\"Plot\"},\"ticker\":{\"id\":\"18fc2064-72bf-4780-81ab-86e33c8c1bae\",\"type\":\"BasicTicker\"}},\"id\":\"1bbcf530-d1d3-4d62-9162-daaa6a03bf00\",\"type\":\"LinearAxis\"},{\"attributes\":{},\"id\":\"81949af8-ae58-42d0-ae8f-34ec70e95694\",\"type\":\"BasicTicker\"},{\"attributes\":{\"plot\":{\"id\":\"4f37833e-44b0-4b01-b63b-5aec7979993c\",\"subtype\":\"Figure\",\"type\":\"Plot\"},\"ticker\":{\"id\":\"81949af8-ae58-42d0-ae8f-34ec70e95694\",\"type\":\"BasicTicker\"}},\"id\":\"8256d2d0-7271-456b-8f98-a44f4568e421\",\"type\":\"Grid\"},{\"attributes\":{\"axis_label\":\"cooling rate [K/day]\",\"formatter\":{\"id\":\"d961d8b2-2cf9-4bfa-a8d6-ce4414546c49\",\"type\":\"BasicTickFormatter\"},\"plot\":{\"id\":\"4f37833e-44b0-4b01-b63b-5aec7979993c\",\"subtype\":\"Figure\",\"type\":\"Plot\"},\"ticker\":{\"id\":\"81949af8-ae58-42d0-ae8f-34ec70e95694\",\"type\":\"BasicTicker\"}},\"id\":\"b258c505-811e-4a82-8f4a-2192f33ceae4\",\"type\":\"LinearAxis\"},{\"attributes\":{},\"id\":\"c75b284a-0752-4e2b-835d-d8179f926cb4\",\"type\":\"Selection\"},{\"attributes\":{\"dimension\":1,\"plot\":{\"id\":\"7f83cdad-a066-42bf-bfaf-72694c188eed\",\"subtype\":\"Figure\",\"type\":\"Plot\"},\"ticker\":{\"id\":\"4c28074c-3257-4d9b-88ce-15ef0b3cf1f4\",\"type\":\"LogTicker\"}},\"id\":\"a84628ae-71a1-4831-82cc-67843adbdde3\",\"type\":\"Grid\"},{\"attributes\":{},\"id\":\"f6152af4-681f-4e36-91f2-901062fcda96\",\"type\":\"Selection\"},{\"attributes\":{\"children\":[{\"id\":\"14e90568-2dff-4b63-9c1e-d0544091c8b7\",\"type\":\"Row\"}]},\"id\":\"86fe9943-29a0-4c76-930c-591c76eef4dd\",\"type\":\"Column\"},{\"attributes\":{},\"id\":\"63a8927f-c1c6-44ba-a1e3-e924d6a6c08c\",\"type\":\"BasicTickFormatter\"},{\"attributes\":{},\"id\":\"4057ff1b-4e17-4358-8313-32923daaf1c5\",\"type\":\"UnionRenderers\"},{\"attributes\":{\"label\":{\"value\":\"CLIRAD (single-run) - CRD\"},\"renderers\":[{\"id\":\"3720c0e1-e82e-4652-9225-38c24e81ad17\",\"type\":\"GlyphRenderer\"},{\"id\":\"20ebb3eb-6584-4f74-a7e2-f241c36eca34\",\"type\":\"GlyphRenderer\"}]},\"id\":\"594f7128-080e-4e0a-9939-4b8935cddab2\",\"type\":\"LegendItem\"},{\"attributes\":{\"plot\":null,\"text\":\"\"},\"id\":\"17728210-18eb-4544-afda-5bc168e32176\",\"type\":\"Title\"},{\"attributes\":{\"source\":{\"id\":\"a90b5bc0-4420-4c92-b826-7e10b7d10613\",\"type\":\"ColumnDataSource\"}},\"id\":\"3075241e-00d9-4b8c-a9da-63a974db257f\",\"type\":\"CDSView\"},{\"attributes\":{\"children\":[{\"id\":\"86c062ac-ca37-4727-91f4-6901d1494dec\",\"type\":\"ToolbarBox\"},{\"id\":\"86fe9943-29a0-4c76-930c-591c76eef4dd\",\"type\":\"Column\"}]},\"id\":\"6edf12b7-6b45-4c79-9fb9-6892bdbab337\",\"type\":\"Column\"},{\"attributes\":{\"fill_alpha\":{\"value\":0.7},\"fill_color\":{\"value\":\"#4daf4a\"},\"line_alpha\":{\"value\":0.7},\"line_color\":{\"value\":\"#4daf4a\"},\"x\":{\"field\":\"x\"},\"y\":{\"field\":\"y\"}},\"id\":\"fb01e01e-0248-4031-979d-9f220e167094\",\"type\":\"Circle\"},{\"attributes\":{\"toolbar\":{\"id\":\"3b51fd2e-871d-4a49-af08-b47027e2219c\",\"type\":\"ProxyToolbar\"},\"toolbar_location\":\"above\"},\"id\":\"86c062ac-ca37-4727-91f4-6901d1494dec\",\"type\":\"ToolbarBox\"},{\"attributes\":{},\"id\":\"98e44572-93dd-448e-830c-a991b67f63c9\",\"type\":\"Selection\"},{\"attributes\":{\"data_source\":{\"id\":\"9bc93047-ee81-4e09-b6a2-a23a030a411a\",\"type\":\"ColumnDataSource\"},\"glyph\":{\"id\":\"4a93d629-254d-46de-9c11-315cb2079e52\",\"type\":\"Line\"},\"hover_glyph\":null,\"muted_glyph\":null,\"nonselection_glyph\":{\"id\":\"f9052e06-1c33-450e-9dce-903085a9ad0e\",\"type\":\"Line\"},\"selection_glyph\":null,\"view\":{\"id\":\"209d26c1-828b-4ca3-aea8-801058f8658b\",\"type\":\"CDSView\"}},\"id\":\"33d71033-7d2f-4722-961b-76a20373f45e\",\"type\":\"GlyphRenderer\"},{\"attributes\":{\"overlay\":{\"id\":\"095dc4e7-9b4a-4f28-815b-2d822c1da948\",\"type\":\"BoxAnnotation\"}},\"id\":\"2417eda2-409e-4a3f-a8fc-468bae61d683\",\"type\":\"BoxZoomTool\"},{\"attributes\":{\"fill_alpha\":{\"value\":0.1},\"fill_color\":{\"value\":\"#1f77b4\"},\"line_alpha\":{\"value\":0.1},\"line_color\":{\"value\":\"#1f77b4\"},\"x\":{\"field\":\"x\"},\"y\":{\"field\":\"y\"}},\"id\":\"f0d4016f-dd6d-4c5e-bc1c-15ee9e616555\",\"type\":\"Circle\"},{\"attributes\":{},\"id\":\"84c1fe4e-2ec1-4b18-9ff6-50521a689a08\",\"type\":\"Selection\"},{\"attributes\":{\"line_color\":\"#4daf4a\",\"line_width\":1.5,\"x\":{\"field\":\"x\"},\"y\":{\"field\":\"y\"}},\"id\":\"4a93d629-254d-46de-9c11-315cb2079e52\",\"type\":\"Line\"},{\"attributes\":{\"source\":{\"id\":\"52882848-122a-4044-935d-46c4e805c51d\",\"type\":\"ColumnDataSource\"}},\"id\":\"0d97c8d2-0da2-41e4-9414-64f6c5adc8fb\",\"type\":\"CDSView\"},{\"attributes\":{},\"id\":\"4879aba6-8b67-4287-a413-1a39ec55cb21\",\"type\":\"UnionRenderers\"},{\"attributes\":{\"data_source\":{\"id\":\"a90b5bc0-4420-4c92-b826-7e10b7d10613\",\"type\":\"ColumnDataSource\"},\"glyph\":{\"id\":\"10a7aaf9-b661-4c8e-9633-381935ea4d22\",\"type\":\"Line\"},\"hover_glyph\":null,\"muted_glyph\":null,\"nonselection_glyph\":{\"id\":\"cb522db9-cff0-453a-9ba1-ff691f40fd18\",\"type\":\"Line\"},\"selection_glyph\":null,\"view\":{\"id\":\"3075241e-00d9-4b8c-a9da-63a974db257f\",\"type\":\"CDSView\"}},\"id\":\"579d3f4a-42fa-4015-b4f6-1e4f9b832a7d\",\"type\":\"GlyphRenderer\"},{\"attributes\":{\"label\":{\"value\":\"old CLIRAD (H2012) - CRD\"},\"renderers\":[{\"id\":\"579d3f4a-42fa-4015-b4f6-1e4f9b832a7d\",\"type\":\"GlyphRenderer\"}]},\"id\":\"b5b727c3-3c52-471b-80af-f3c12d11ab76\",\"type\":\"LegendItem\"},{\"attributes\":{\"line_alpha\":0.1,\"line_color\":\"#1f77b4\",\"line_width\":1.5,\"x\":{\"field\":\"x\"},\"y\":{\"field\":\"y\"}},\"id\":\"f9052e06-1c33-450e-9dce-903085a9ad0e\",\"type\":\"Line\"},{\"attributes\":{},\"id\":\"72462098-65b0-43aa-9dd8-c3076b9c2c8f\",\"type\":\"UnionRenderers\"},{\"attributes\":{\"source\":{\"id\":\"9bc93047-ee81-4e09-b6a2-a23a030a411a\",\"type\":\"ColumnDataSource\"}},\"id\":\"209d26c1-828b-4ca3-aea8-801058f8658b\",\"type\":\"CDSView\"},{\"attributes\":{},\"id\":\"885b3ab3-3f10-428f-b566-7f4cd3d7e0ba\",\"type\":\"Selection\"},{\"attributes\":{\"callback\":null,\"data\":{\"x\":{\"__ndarray__\":\"cm1sTMT3VEDEyvjosEJHQOKI6DjzCUNArgQWV9awPkB9Lm8XG3M4QEz+Qv6iYzNA7eV8HaPLLkCX1QHyTpMoQFBmYSYetiNAUB04GtGpH0AmFyVE5j8ZQJca9QPGqBNALJP+OOHHDEBNxaf7QF8AQKtislomWuw/cW2dcO6A9T/uJJvfPu0EQIaQLTI/JQ1AxGiII+PmEkCJvfVeuCsYQD6ZBhGbHB9AXQw69DTYJEAsubcwKucqQNuT9D5OmipAJyi3szEJJUBlNebh5WkgQDDcPHBr2xlArtlANXuQFEBdJadFHckQQI2Avh0ZsQtAjYiwt1rsBUCL0SDoVBgAQK6C0nEEjvc/CggLSme58T9sXU2orFPnP0v0JYz9Gdg/vT38vxYczD9nBQTe6kHHP1IhkEXJwKo/8OZnhCVAub+xtVgCpmqzP6DUpY6g0+k/PKK3T1h4+D8RTDjQc1EAQG/dAQs7TwJAQt2eHpPLAEBWEh074x//PyCap9ZSGf4/rEzaTySm/T+7aXhHRmr9P688KeqeNP0/ruZ4EemD/D8olrZcn9T7P0+vNc9hW/s/i9VVL+4P+z+0NzC24uz6P8731Kza8vo/xFf4SHzq+z+gYyHpvHb8P68ROkiFevw/BAjYdCga/D8AUp8VbW77P3JrF/nKmvo/qCQeGfq++T/dplwHJfn4P2G4p+Uva/g/OzZ0RqMZ+D8dmn/iar73P/OuA7Ka8PY/gaaeQHGn9T9hkyjAH1L0P3aZGhdAU/M/n8VP/g7P8j+90HxHNvfyPwhNBtgrqvk/\",\"dtype\":\"float64\",\"shape\":[75]},\"y\":{\"__ndarray__\":\"GhExyth1ND/Sv8nbtpRIP2vylNV0PVE/aTum7souWD/At0SJ8fVgPw3Iuahxymc/MSNhhJWvcD/bTfBN02d3P2zb5nxnaoA/CD5h5MAGhz8NmeH1TyaQP+zrCsc9p5Y/LbKd76fGnz/bLW5ISEmmPww9YvTcQq8/JV2OstnstT8Er5Y7M8G+P0c+r3jqkcU/5h99k6ZBzj88bCIzFzjVP4enV8oyxN0//yH99nXg5D8qOpLLf0jtP5kqGJXUifQ/c9cS8kHP/D+/DpwzojQEQIEmwoanVwxA4lgXt9HgE0BSSZ2AJuIbQAMJih9jjiNA5q4l5INuK0AwTKYKRj0zQNv5fmq8/DpAaCJseHrtQkB/+zpwzoxKQM3MzMzMeFJAZmZmZmZqWEAAAAAAAFxeQM3MzMzMJmJAmpmZmZkfZUBmZmZmZhhoQDMzMzMzEWtAAAAAAAAKbkBmZmZmZoFwQM3MzMzM/XFAMzMzMzN6c0CamZmZmfZ0QAAAAAAAc3ZAZmZmZmbvd0DNzMzMzGt5QDMzMzMz6HpAmpmZmZlkfEAAAAAAAOF9QGZmZmZmXX9AZmZmZuZsgECamZmZGSuBQM3MzMxM6YFAAAAAAICngkAzMzMzs2WDQGZmZmbmI4RAmpmZmRnihEDNzMzMTKCFQAAAAACAXoZAMzMzM7Mch0BmZmZm5tqHQJqZmZkZmYhAzczMzExXiUAAAAAAgBWKQDMzMzOz04pAZmZmZuaRi0CamZmZGVCMQM3MzMxMDo1AAAAAAIDMjUAzMzMzs4qOQGZmZmbmSI9A\",\"dtype\":\"float64\",\"shape\":[75]}},\"selected\":{\"id\":\"885b3ab3-3f10-428f-b566-7f4cd3d7e0ba\",\"type\":\"Selection\"},\"selection_policy\":{\"id\":\"4057ff1b-4e17-4358-8313-32923daaf1c5\",\"type\":\"UnionRenderers\"}},\"id\":\"9bc93047-ee81-4e09-b6a2-a23a030a411a\",\"type\":\"ColumnDataSource\"},{\"attributes\":{\"plot\":null,\"text\":\"\"},\"id\":\"da104549-f525-4d4d-b5b9-35564b595a5e\",\"type\":\"Title\"},{\"attributes\":{},\"id\":\"ed6d6794-3a82-4907-9e20-9fe3546bc26c\",\"type\":\"WheelZoomTool\"},{\"attributes\":{\"callback\":null,\"data\":{\"x\":{\"__ndarray__\":\"cm1sTMT3VEDEyvjosEJHQOKI6DjzCUNArgQWV9awPkB9Lm8XG3M4QEz+Qv6iYzNA7eV8HaPLLkCX1QHyTpMoQFBmYSYetiNAUB04GtGpH0AmFyVE5j8ZQJca9QPGqBNALJP+OOHHDEBNxaf7QF8AQKtislomWuw/cW2dcO6A9T/uJJvfPu0EQIaQLTI/JQ1AxGiII+PmEkCJvfVeuCsYQD6ZBhGbHB9AXQw69DTYJEAsubcwKucqQNuT9D5OmipAJyi3szEJJUBlNebh5WkgQDDcPHBr2xlArtlANXuQFEBdJadFHckQQI2Avh0ZsQtAjYiwt1rsBUCL0SDoVBgAQK6C0nEEjvc/CggLSme58T9sXU2orFPnP0v0JYz9Gdg/vT38vxYczD9nBQTe6kHHP1IhkEXJwKo/8OZnhCVAub+xtVgCpmqzP6DUpY6g0+k/PKK3T1h4+D8RTDjQc1EAQG/dAQs7TwJAQt2eHpPLAEBWEh074x//PyCap9ZSGf4/rEzaTySm/T+7aXhHRmr9P688KeqeNP0/ruZ4EemD/D8olrZcn9T7P0+vNc9hW/s/i9VVL+4P+z+0NzC24uz6P8731Kza8vo/xFf4SHzq+z+gYyHpvHb8P68ROkiFevw/BAjYdCga/D8AUp8VbW77P3JrF/nKmvo/qCQeGfq++T/dplwHJfn4P2G4p+Uva/g/OzZ0RqMZ+D8dmn/iar73P/OuA7Ka8PY/gaaeQHGn9T9hkyjAH1L0P3aZGhdAU/M/n8VP/g7P8j+90HxHNvfyPwhNBtgrqvk/\",\"dtype\":\"float64\",\"shape\":[75]},\"y\":{\"__ndarray__\":\"GhExyth1ND/Sv8nbtpRIP2vylNV0PVE/aTum7souWD/At0SJ8fVgPw3Iuahxymc/MSNhhJWvcD/bTfBN02d3P2zb5nxnaoA/CD5h5MAGhz8NmeH1TyaQP+zrCsc9p5Y/LbKd76fGnz/bLW5ISEmmPww9YvTcQq8/JV2OstnstT8Er5Y7M8G+P0c+r3jqkcU/5h99k6ZBzj88bCIzFzjVP4enV8oyxN0//yH99nXg5D8qOpLLf0jtP5kqGJXUifQ/c9cS8kHP/D+/DpwzojQEQIEmwoanVwxA4lgXt9HgE0BSSZ2AJuIbQAMJih9jjiNA5q4l5INuK0AwTKYKRj0zQNv5fmq8/DpAaCJseHrtQkB/+zpwzoxKQM3MzMzMeFJAZmZmZmZqWEAAAAAAAFxeQM3MzMzMJmJAmpmZmZkfZUBmZmZmZhhoQDMzMzMzEWtAAAAAAAAKbkBmZmZmZoFwQM3MzMzM/XFAMzMzMzN6c0CamZmZmfZ0QAAAAAAAc3ZAZmZmZmbvd0DNzMzMzGt5QDMzMzMz6HpAmpmZmZlkfEAAAAAAAOF9QGZmZmZmXX9AZmZmZuZsgECamZmZGSuBQM3MzMxM6YFAAAAAAICngkAzMzMzs2WDQGZmZmbmI4RAmpmZmRnihEDNzMzMTKCFQAAAAACAXoZAMzMzM7Mch0BmZmZm5tqHQJqZmZkZmYhAzczMzExXiUAAAAAAgBWKQDMzMzOz04pAZmZmZuaRi0CamZmZGVCMQM3MzMxMDo1AAAAAAIDMjUAzMzMzs4qOQGZmZmbmSI9A\",\"dtype\":\"float64\",\"shape\":[75]}},\"selected\":{\"id\":\"84c1fe4e-2ec1-4b18-9ff6-50521a689a08\",\"type\":\"Selection\"},\"selection_policy\":{\"id\":\"42d3a009-b48c-46a0-9a5b-f082e01bb49b\",\"type\":\"UnionRenderers\"}},\"id\":\"52882848-122a-4044-935d-46c4e805c51d\",\"type\":\"ColumnDataSource\"},{\"attributes\":{\"line_alpha\":0.1,\"line_color\":\"#1f77b4\",\"line_dash\":[6],\"line_width\":4,\"x\":{\"field\":\"x\"},\"y\":{\"field\":\"y\"}},\"id\":\"cb522db9-cff0-453a-9ba1-ff691f40fd18\",\"type\":\"Line\"},{\"attributes\":{},\"id\":\"2f43583b-7f2e-4f0b-bf44-f2db742b1427\",\"type\":\"BasicTicker\"},{\"attributes\":{\"children\":[{\"id\":\"4f37833e-44b0-4b01-b63b-5aec7979993c\",\"subtype\":\"Figure\",\"type\":\"Plot\"},{\"id\":\"28b3cf29-cd2d-4c6c-9517-dfa8bbb66f0c\",\"subtype\":\"Figure\",\"type\":\"Plot\"},{\"id\":\"7f83cdad-a066-42bf-bfaf-72694c188eed\",\"subtype\":\"Figure\",\"type\":\"Plot\"}]},\"id\":\"14e90568-2dff-4b63-9c1e-d0544091c8b7\",\"type\":\"Row\"},{\"attributes\":{},\"id\":\"fbd375be-3953-49d3-9f3f-de9a7a44ddc9\",\"type\":\"UnionRenderers\"},{\"attributes\":{\"axis_label\":\"cooling rate [K/day]\",\"formatter\":{\"id\":\"d2596a30-edfc-41c1-88b7-a343d489d032\",\"type\":\"BasicTickFormatter\"},\"plot\":{\"id\":\"28b3cf29-cd2d-4c6c-9517-dfa8bbb66f0c\",\"subtype\":\"Figure\",\"type\":\"Plot\"},\"ticker\":{\"id\":\"2f43583b-7f2e-4f0b-bf44-f2db742b1427\",\"type\":\"BasicTicker\"}},\"id\":\"b751d403-ebd4-415a-84a4-1133a3dbc8b9\",\"type\":\"LinearAxis\"},{\"attributes\":{},\"id\":\"42d3a009-b48c-46a0-9a5b-f082e01bb49b\",\"type\":\"UnionRenderers\"},{\"attributes\":{},\"id\":\"2bc60a98-4a70-4c72-95f8-efaab768fbe1\",\"type\":\"PanTool\"},{\"attributes\":{},\"id\":\"31674606-4fd3-4567-8d34-ee002453fde7\",\"type\":\"LogScale\"},{\"attributes\":{\"source\":{\"id\":\"cd957a1b-b9fa-4f42-892a-29bb97d77dce\",\"type\":\"ColumnDataSource\"}},\"id\":\"5c9ce008-2569-4725-838b-cfa048ea21bf\",\"type\":\"CDSView\"},{\"attributes\":{\"plot\":{\"id\":\"28b3cf29-cd2d-4c6c-9517-dfa8bbb66f0c\",\"subtype\":\"Figure\",\"type\":\"Plot\"},\"ticker\":{\"id\":\"2f43583b-7f2e-4f0b-bf44-f2db742b1427\",\"type\":\"BasicTicker\"}},\"id\":\"86603f01-c6c8-4fac-9c76-1430ffa1cec5\",\"type\":\"Grid\"},{\"attributes\":{},\"id\":\"d47b9fbb-d6ef-48b4-b09f-600e3d52ff8c\",\"type\":\"SaveTool\"},{\"attributes\":{\"data_source\":{\"id\":\"52882848-122a-4044-935d-46c4e805c51d\",\"type\":\"ColumnDataSource\"},\"glyph\":{\"id\":\"fb01e01e-0248-4031-979d-9f220e167094\",\"type\":\"Circle\"},\"hover_glyph\":null,\"muted_glyph\":null,\"nonselection_glyph\":{\"id\":\"f0d4016f-dd6d-4c5e-bc1c-15ee9e616555\",\"type\":\"Circle\"},\"selection_glyph\":null,\"view\":{\"id\":\"0d97c8d2-0da2-41e4-9414-64f6c5adc8fb\",\"type\":\"CDSView\"}},\"id\":\"4219aacd-0788-4a1c-8937-1460ff778143\",\"type\":\"GlyphRenderer\"},{\"attributes\":{},\"id\":\"183ccde1-623c-4285-8bd1-1da05e7b89e8\",\"type\":\"LinearScale\"},{\"attributes\":{},\"id\":\"a82dbe98-9fbd-4cba-9ec9-2e1f0c081cd0\",\"type\":\"Selection\"},{\"attributes\":{\"tools\":[{\"id\":\"edb94f8b-47b8-4a94-857e-617b31ec6d44\",\"type\":\"PanTool\"},{\"id\":\"54a428a4-e800-46e6-a9bf-2df575e0d0d1\",\"type\":\"WheelZoomTool\"},{\"id\":\"b45e9e3a-df4c-4ab3-bbb3-ea4c0e715446\",\"type\":\"BoxZoomTool\"},{\"id\":\"e566aa40-25e0-4958-aa86-0ab926864d26\",\"type\":\"SaveTool\"},{\"id\":\"6d94811d-aba4-4b00-a413-b7466aba638f\",\"type\":\"ResetTool\"},{\"id\":\"5081994e-0f4c-472e-ada0-6cc0a73b30bf\",\"type\":\"HelpTool\"},{\"id\":\"c20d22b7-63cf-4278-b0f2-b2bb0efeb46c\",\"type\":\"PanTool\"},{\"id\":\"517d2444-ce3f-481d-86fc-be50539bb798\",\"type\":\"WheelZoomTool\"},{\"id\":\"19329588-d9cd-4216-beb9-cc91ad742c04\",\"type\":\"BoxZoomTool\"},{\"id\":\"d856863c-2076-4356-bb4a-a828270dacf4\",\"type\":\"SaveTool\"},{\"id\":\"fb69dd87-d3b6-408c-a832-4844f3ee77b2\",\"type\":\"ResetTool\"},{\"id\":\"9536eefa-9173-44a3-9ad9-afa500f6191c\",\"type\":\"HelpTool\"},{\"id\":\"2bc60a98-4a70-4c72-95f8-efaab768fbe1\",\"type\":\"PanTool\"},{\"id\":\"ed6d6794-3a82-4907-9e20-9fe3546bc26c\",\"type\":\"WheelZoomTool\"},{\"id\":\"2417eda2-409e-4a3f-a8fc-468bae61d683\",\"type\":\"BoxZoomTool\"},{\"id\":\"d47b9fbb-d6ef-48b4-b09f-600e3d52ff8c\",\"type\":\"SaveTool\"},{\"id\":\"ab00b1d4-6b3f-4e09-8810-6bfba536f7fd\",\"type\":\"ResetTool\"},{\"id\":\"7297178b-2082-4f16-a50c-c68691b6a6f7\",\"type\":\"HelpTool\"}]},\"id\":\"3b51fd2e-871d-4a49-af08-b47027e2219c\",\"type\":\"ProxyToolbar\"},{\"attributes\":{\"callback\":null,\"end\":0.7323360194662635,\"start\":-1.576281364019664},\"id\":\"12fb5276-7188-45ce-ab9e-21e32878e09c\",\"type\":\"Range1d\"},{\"attributes\":{\"data_source\":{\"id\":\"57276e40-34ec-4915-a75b-c59f56aa2411\",\"type\":\"ColumnDataSource\"},\"glyph\":{\"id\":\"d5152ee9-1a62-4559-b79f-b14a600df142\",\"type\":\"Line\"},\"hover_glyph\":null,\"muted_glyph\":null,\"nonselection_glyph\":{\"id\":\"fb5f2093-beec-4e8e-8511-c86aa29e08a6\",\"type\":\"Line\"},\"selection_glyph\":null,\"view\":{\"id\":\"5c804994-3277-4399-a601-8287676a806a\",\"type\":\"CDSView\"}},\"id\":\"27ed3c4f-f1af-4b61-af04-207bf3b3b145\",\"type\":\"GlyphRenderer\"},{\"attributes\":{\"ticker\":null},\"id\":\"d1c9687a-19da-422f-a0e0-7903e7e71572\",\"type\":\"LogTickFormatter\"},{\"attributes\":{\"plot\":{\"id\":\"7f83cdad-a066-42bf-bfaf-72694c188eed\",\"subtype\":\"Figure\",\"type\":\"Plot\"},\"ticker\":{\"id\":\"18fc2064-72bf-4780-81ab-86e33c8c1bae\",\"type\":\"BasicTicker\"}},\"id\":\"a04fd9fb-6165-4c70-b780-7ad1199245b4\",\"type\":\"Grid\"},{\"attributes\":{\"overlay\":{\"id\":\"f777e573-11e1-4595-a750-0d001ba8a62d\",\"type\":\"BoxAnnotation\"}},\"id\":\"19329588-d9cd-4216-beb9-cc91ad742c04\",\"type\":\"BoxZoomTool\"},{\"attributes\":{\"num_minor_ticks\":10},\"id\":\"4c28074c-3257-4d9b-88ce-15ef0b3cf1f4\",\"type\":\"LogTicker\"},{\"attributes\":{\"line_alpha\":0.5,\"line_color\":\"#984ea3\",\"line_width\":1.5,\"x\":{\"field\":\"x\"},\"y\":{\"field\":\"y\"}},\"id\":\"8522aae6-0cd6-488f-b658-2f48b6552f27\",\"type\":\"Line\"},{\"attributes\":{\"fill_alpha\":{\"value\":0.7},\"fill_color\":{\"value\":\"#984ea3\"},\"line_alpha\":{\"value\":0.7},\"line_color\":{\"value\":\"#984ea3\"},\"x\":{\"field\":\"x\"},\"y\":{\"field\":\"y\"}},\"id\":\"f3b41368-383d-4612-a8ae-82f44db3b697\",\"type\":\"Circle\"},{\"attributes\":{\"line_color\":\"#4daf4a\",\"line_width\":1.5,\"x\":{\"field\":\"x\"},\"y\":{\"field\":\"y\"}},\"id\":\"d5152ee9-1a62-4559-b79f-b14a600df142\",\"type\":\"Line\"},{\"attributes\":{},\"id\":\"163695f0-c9b3-49c0-a832-b56675bb62e6\",\"type\":\"UnionRenderers\"},{\"attributes\":{},\"id\":\"343d595e-9252-4509-bece-d86837b652e9\",\"type\":\"UnionRenderers\"},{\"attributes\":{},\"id\":\"517d2444-ce3f-481d-86fc-be50539bb798\",\"type\":\"WheelZoomTool\"},{\"attributes\":{\"label\":{\"value\":\"old CLIRAD (H2012)\"},\"renderers\":[{\"id\":\"97e6820f-e276-4555-a298-5509bfa565d4\",\"type\":\"GlyphRenderer\"},{\"id\":\"2d7a4943-2f25-4f75-be5f-42d8f10fbc73\",\"type\":\"GlyphRenderer\"}]},\"id\":\"2b798995-eb47-47d6-9379-3ae5115967d8\",\"type\":\"LegendItem\"},{\"attributes\":{},\"id\":\"c20d22b7-63cf-4278-b0f2-b2bb0efeb46c\",\"type\":\"PanTool\"},{\"attributes\":{\"label\":{\"value\":\"CRD\"},\"renderers\":[{\"id\":\"42d6db33-19fb-4860-9d69-0b65e1831eae\",\"type\":\"GlyphRenderer\"},{\"id\":\"27ed3c4f-f1af-4b61-af04-207bf3b3b145\",\"type\":\"GlyphRenderer\"}]},\"id\":\"f94f07eb-1c63-4fe4-9254-10f064176e32\",\"type\":\"LegendItem\"},{\"attributes\":{\"callback\":null,\"data\":{\"x\":{\"__ndarray__\":\"lDpM1XQXRMAFF6ZxNa0gwHCnHAXUbgLAKtQ1wYrC/D9FxtulFmEOQP5YslfSxA5AOKODYVMWBEBdIJ52wwXlPzFnm7hs1em/XLMviZjm9b9CnYpB15jxv0RIuQD5Y9+/RovD2MA/rz8D29G5z3TZP/bN869g5N4/UIntTu370z90ZO9+bnufP8RcFGbU3dC/p2A/DuxB4L8AhfElsKrgv1qifCEi7dG/yF1QcoDrc79nWaOxprapvwAe3KirqNO/TSo9cdE017+0H9YJvPmwv3m3mG05hdg/uF6cSI1B1z86OJjzYG23P8mWdwcliZU/edt6OD+20D883fr0jWjVP/dRHDnkS8M/ZCxaOrtXoL8RhiuHFydNPyQDWws3aqw/cD606fgKbD9wP8a8agOuvxMVoMpr6re/uoDE49yOur+4l7ODLuO2v3DupXnxc7G/scCujP5wsL8LZ7lngiCgv8/ThvJxmLe/Zl6ZTacuub8zRPpn3ousv3TXeXViva+/yps8kfALtL9cbNQ5eSezv4QRSAhS/6u/ojl1gJ7jor9bqkPH8nKYv4bBtdG/r5S/z6BuIBwslL90FF8iG56Yv4oVwYqSWpq/C4TZMyyHkr+86Lga2ZVmP1dz/igVTaE/R4eQWU9LrT9n+cgSB9yuP1KuINXJfKY/w3Dyf6jrlz9YbuOyNdJuP3g9cQdJ4mY/7I7HpHBRhj+TQwjrpmSgPxMl+cjoq6k/NFQbVbNysD/on6H+AbayPwVnbS0s7LM/pHSa0J6utD9pY2MleFi1P3cTYzZUzrQ/\",\"dtype\":\"float64\",\"shape\":[75]},\"y\":{\"__ndarray__\":\"GhExyth1ND/Sv8nbtpRIP2vylNV0PVE/aTum7souWD/At0SJ8fVgPw3Iuahxymc/MSNhhJWvcD/bTfBN02d3P2zb5nxnaoA/CD5h5MAGhz8NmeH1TyaQP+zrCsc9p5Y/LbKd76fGnz/bLW5ISEmmPww9YvTcQq8/JV2OstnstT8Er5Y7M8G+P0c+r3jqkcU/5h99k6ZBzj88bCIzFzjVP4enV8oyxN0//yH99nXg5D8qOpLLf0jtP5kqGJXUifQ/c9cS8kHP/D+/DpwzojQEQIEmwoanVwxA4lgXt9HgE0BSSZ2AJuIbQAMJih9jjiNA5q4l5INuK0AwTKYKRj0zQNv5fmq8/DpAaCJseHrtQkB/+zpwzoxKQM3MzMzMeFJAZmZmZmZqWEAAAAAAAFxeQM3MzMzMJmJAmpmZmZkfZUBmZmZmZhhoQDMzMzMzEWtAAAAAAAAKbkBmZmZmZoFwQM3MzMzM/XFAMzMzMzN6c0CamZmZmfZ0QAAAAAAAc3ZAZmZmZmbvd0DNzMzMzGt5QDMzMzMz6HpAmpmZmZlkfEAAAAAAAOF9QGZmZmZmXX9AZmZmZuZsgECamZmZGSuBQM3MzMxM6YFAAAAAAICngkAzMzMzs2WDQGZmZmbmI4RAmpmZmRnihEDNzMzMTKCFQAAAAACAXoZAMzMzM7Mch0BmZmZm5tqHQJqZmZkZmYhAzczMzExXiUAAAAAAgBWKQDMzMzOz04pAZmZmZuaRi0CamZmZGVCMQM3MzMxMDo1AAAAAAIDMjUAzMzMzs4qOQGZmZmbmSI9A\",\"dtype\":\"float64\",\"shape\":[75]}},\"selected\":{\"id\":\"e0768f6f-8ecd-418f-b0f8-80199e11aca0\",\"type\":\"Selection\"},\"selection_policy\":{\"id\":\"2ac04c2f-00e1-4d07-b54a-8cc2a107d9d4\",\"type\":\"UnionRenderers\"}},\"id\":\"a740b7fb-a859-4ec8-979d-887c9505072a\",\"type\":\"ColumnDataSource\"},{\"attributes\":{\"callback\":null,\"data\":{\"x\":{\"__ndarray__\":\"MXhf+wfXU0AZbvNjswdFQLQWsEQVdUFA5TlpnhT9QUB/x1dOYK05QImjxHmcEjZA9jYDSBB3L0AISPl4H6wqQBPuuwfAzyJAOcHprUZAIUB7WWpkesAXQJoT1Uq+ChVArO/8u0EXCkBgVNlshzgCQMeNQ+Nzu/I/POwv1Qzh+D9QxMRmcj8DQOrE7tC4mAxAQsLBRIlHEkAi4cPYoDEXQEeDpjRjzB1ASZ0GEfCuI0DVFj11sssnQOMiVKSMHyhAWRHvUxNoJEDo8cjD4g8gQLGGvR2NDRpAdpI3nV5oFECtyWH9Lp4QQIZQd9bvmwtAkshlnu1BBkBMysnQf1UAQHZJU/DYZ/c/HoEhV+G48T/rSm4vc/TmP3EgV4cD49g/xmy6+4w7zz+bEsjh3uDDPw5SRMRogKs/4GPKdPc1a78lazVXN1vCP/B84ODeUug/LOyxgXDV9z+/DBHyZAwAQAOIY+fy/QFAahF3XKCUAECV0GHvGsz+P+X4k4Nhvf0/RO/IqI98/T8rkW+v/zT9P59vGMDsAv0/zEX7plCY/D/E3siS8kj7P2yUMv+hDvs/RmrXDaYs+z+c9f5GCO36P58nVCbr7vo/Qus8hbcy/D+rD5hFMCf9P4t6dxofnPw/bRp4QYZ2/D/q8NNiN2b8P5YTVw9ESPw/l1Dy0X/K+j+WKih3ZdD5P2k8OYxHjvk/hceGh5N4+T8lpPahWSn5P6vJnePt4vY/UuhmxnXI9T8miFqdE+D0Pz7qfx5CR/Q/0khvq2US9D9LfVdHQGv0P9syeEmwYfg/\",\"dtype\":\"float64\",\"shape\":[75]},\"y\":{\"__ndarray__\":\"hLndy31yND/6fmq8dJNIP8n9DkWBPlE/aDum7souWD/b4a/JGvVgP9f34SAhymc/ZvM4DOavcD+z0M5pFmh3PxuC4zJuaoA/xjcUPlsHhz8uHAjJAiaQP9ieWRKgppY/oI7HDFTGnz+a5h2n6EimPzS6g9iZQq8/IuAQqtTstT9SSZ2AJsK+P4nS3uALk8U/ih9j7lpCzj+ASL99HTjVP4enV8oyxN0/ACL99nXg5D9fmEwVjErtPyUGgZVDi/Q/AiuHFtnO/D9OYhBYOTQEQPHSTWIQWAxA4XoUrkfhE0D8qfHSTeIbQMh2vp8ajyNArkfhehRuK0Bcj8L1KDwzQFyPwvUo/DpAPgrXo3DtQkDNzMzMzIxKQClcj8L1eFJAKVyPwvVoWECamZmZmVleQGZmZmZmJmJAAAAAAAAgZUCamZmZmRloQJqZmZmZEWtAmpmZmZkJbkCamZmZmYFwQGZmZmZm/nFAZmZmZmZ6c0BmZmZmZvZ0QDQzMzMzc3ZAAAAAAADwd0AAAAAAAGx5QAAAAAAA6HpAzMzMzMxkfEDMzMzMzOB9QM3MzMzMXH9AzczMzMxsgEAzMzMzMyuBQDMzMzMz6YFAMzMzMzOngkCamZmZmWWDQAAAAAAAJIRAAAAAAADihEAAAAAAAKCFQGZmZmZmXoZAzczMzMwch0DNzMzMzNqHQM3MzMzMmIhAMzMzMzNXiUCamZmZmRWKQAAAAAAA1IpAAAAAAACSi0AAAAAAAFCMQGZmZmZmDo1AzczMzMzMjUDNzMzMzIqOQM3MzMzMSI9A\",\"dtype\":\"float64\",\"shape\":[75]}},\"selected\":{\"id\":\"db1b6489-ff87-447a-ab06-4f7f2660c6df\",\"type\":\"Selection\"},\"selection_policy\":{\"id\":\"4e98f239-9598-4458-8886-3888f21d5375\",\"type\":\"UnionRenderers\"}},\"id\":\"29269f11-935b-4ba9-8351-3f171b470742\",\"type\":\"ColumnDataSource\"},{\"attributes\":{},\"id\":\"2ac04c2f-00e1-4d07-b54a-8cc2a107d9d4\",\"type\":\"UnionRenderers\"},{\"attributes\":{\"data_source\":{\"id\":\"29269f11-935b-4ba9-8351-3f171b470742\",\"type\":\"ColumnDataSource\"},\"glyph\":{\"id\":\"8522aae6-0cd6-488f-b658-2f48b6552f27\",\"type\":\"Line\"},\"hover_glyph\":null,\"muted_glyph\":null,\"nonselection_glyph\":{\"id\":\"aa95bf72-60ae-4a26-8256-d00029069ff3\",\"type\":\"Line\"},\"selection_glyph\":null,\"view\":{\"id\":\"309f0afd-0d7a-4f67-9255-b197f77f5faa\",\"type\":\"CDSView\"}},\"id\":\"2d7a4943-2f25-4f75-be5f-42d8f10fbc73\",\"type\":\"GlyphRenderer\"},{\"attributes\":{\"line_alpha\":0.8,\"line_color\":\"#984ea3\",\"line_width\":1.5,\"x\":{\"field\":\"x\"},\"y\":{\"field\":\"y\"}},\"id\":\"348744e5-00d7-4ae1-9afd-1f250fac9399\",\"type\":\"Line\"},{\"attributes\":{\"active_drag\":\"auto\",\"active_inspect\":\"auto\",\"active_scroll\":\"auto\",\"active_tap\":\"auto\",\"tools\":[{\"id\":\"c20d22b7-63cf-4278-b0f2-b2bb0efeb46c\",\"type\":\"PanTool\"},{\"id\":\"517d2444-ce3f-481d-86fc-be50539bb798\",\"type\":\"WheelZoomTool\"},{\"id\":\"19329588-d9cd-4216-beb9-cc91ad742c04\",\"type\":\"BoxZoomTool\"},{\"id\":\"d856863c-2076-4356-bb4a-a828270dacf4\",\"type\":\"SaveTool\"},{\"id\":\"fb69dd87-d3b6-408c-a832-4844f3ee77b2\",\"type\":\"ResetTool\"},{\"id\":\"9536eefa-9173-44a3-9ad9-afa500f6191c\",\"type\":\"HelpTool\"}]},\"id\":\"ea3b8aad-a98d-4320-b76f-49b12f463514\",\"type\":\"Toolbar\"},{\"attributes\":{\"source\":{\"id\":\"a740b7fb-a859-4ec8-979d-887c9505072a\",\"type\":\"ColumnDataSource\"}},\"id\":\"16630a29-43e4-40e8-ae9a-526cd292f868\",\"type\":\"CDSView\"},{\"attributes\":{},\"id\":\"9536eefa-9173-44a3-9ad9-afa500f6191c\",\"type\":\"HelpTool\"},{\"attributes\":{\"items\":[{\"id\":\"d7c2df89-5938-4272-8ec6-6775d1f9af2b\",\"type\":\"LegendItem\"},{\"id\":\"954914b5-edb4-45ae-a31c-b131e9953987\",\"type\":\"LegendItem\"},{\"id\":\"0c464a64-cf75-4538-905d-92fdf2cfd334\",\"type\":\"LegendItem\"}],\"label_text_font_size\":{\"value\":\"8pt\"},\"location\":\"top_center\",\"orientation\":\"horizontal\",\"plot\":{\"id\":\"28b3cf29-cd2d-4c6c-9517-dfa8bbb66f0c\",\"subtype\":\"Figure\",\"type\":\"Plot\"}},\"id\":\"a717df07-7f84-4814-ab89-0b614872967f\",\"type\":\"Legend\"},{\"attributes\":{\"callback\":null,\"end\":13.588032473712698,\"start\":-0.3389161750427},\"id\":\"202bfecd-2c15-491b-b310-f542fe822558\",\"type\":\"Range1d\"},{\"attributes\":{\"line_alpha\":0.6,\"line_color\":\"#377eb8\",\"line_dash\":[6],\"line_width\":5,\"x\":{\"field\":\"x\"},\"y\":{\"field\":\"y\"}},\"id\":\"a7886325-a20c-465c-bba9-3ebc9f809fd0\",\"type\":\"Line\"},{\"attributes\":{\"data_source\":{\"id\":\"983d1449-df5d-4968-978e-3fb35ac83d5b\",\"type\":\"ColumnDataSource\"},\"glyph\":{\"id\":\"f73cc525-4a8f-4f01-ad48-272c56a14748\",\"type\":\"Circle\"},\"hover_glyph\":null,\"muted_glyph\":null,\"nonselection_glyph\":{\"id\":\"d5f51e5a-e224-4e70-8461-5759bbb036ee\",\"type\":\"Circle\"},\"selection_glyph\":null,\"view\":{\"id\":\"34819de3-07a9-4977-8c26-c0ebc4d0a53d\",\"type\":\"CDSView\"}},\"id\":\"42d6db33-19fb-4860-9d69-0b65e1831eae\",\"type\":\"GlyphRenderer\"},{\"attributes\":{\"line_alpha\":0.6,\"line_color\":\"#377eb8\",\"line_dash\":[6],\"line_width\":5,\"x\":{\"field\":\"x\"},\"y\":{\"field\":\"y\"}},\"id\":\"1ac28c75-e31d-47bd-a76e-ed7203708da6\",\"type\":\"Line\"},{\"attributes\":{\"label\":{\"value\":\"CLIRAD (single-run)\"},\"renderers\":[{\"id\":\"b8baa7a6-8475-4f87-8726-03fd87313067\",\"type\":\"GlyphRenderer\"}]},\"id\":\"16072301-b4e8-43b3-85c7-e6f5b1ead339\",\"type\":\"LegendItem\"},{\"attributes\":{},\"id\":\"4f0b6cf6-441d-436f-8f21-7c385dbf4ef3\",\"type\":\"Selection\"},{\"attributes\":{},\"id\":\"1391dcb4-99cc-45e3-9b24-9761df227aa2\",\"type\":\"Selection\"},{\"attributes\":{\"bottom_units\":\"screen\",\"fill_alpha\":{\"value\":0.5},\"fill_color\":{\"value\":\"lightgrey\"},\"left_units\":\"screen\",\"level\":\"overlay\",\"line_alpha\":{\"value\":1.0},\"line_color\":{\"value\":\"black\"},\"line_dash\":[4,4],\"line_width\":{\"value\":2},\"plot\":null,\"render_mode\":\"css\",\"right_units\":\"screen\",\"top_units\":\"screen\"},\"id\":\"095dc4e7-9b4a-4f28-815b-2d822c1da948\",\"type\":\"BoxAnnotation\"},{\"attributes\":{\"source\":{\"id\":\"bfbb5105-a1ae-4d36-894c-6ddab865a404\",\"type\":\"ColumnDataSource\"}},\"id\":\"bfa59eea-5420-42d3-87f9-3ffb9341b2ec\",\"type\":\"CDSView\"},{\"attributes\":{\"source\":{\"id\":\"29269f11-935b-4ba9-8351-3f171b470742\",\"type\":\"ColumnDataSource\"}},\"id\":\"309f0afd-0d7a-4f67-9255-b197f77f5faa\",\"type\":\"CDSView\"},{\"attributes\":{\"above\":[{\"id\":\"a717df07-7f84-4814-ab89-0b614872967f\",\"type\":\"Legend\"}],\"below\":[{\"id\":\"b751d403-ebd4-415a-84a4-1133a3dbc8b9\",\"type\":\"LinearAxis\"}],\"left\":[{\"id\":\"6312f19f-11ff-49e2-92c3-e2c17abec166\",\"type\":\"LogAxis\"}],\"plot_width\":300,\"renderers\":[{\"id\":\"b751d403-ebd4-415a-84a4-1133a3dbc8b9\",\"type\":\"LinearAxis\"},{\"id\":\"86603f01-c6c8-4fac-9c76-1430ffa1cec5\",\"type\":\"Grid\"},{\"id\":\"6312f19f-11ff-49e2-92c3-e2c17abec166\",\"type\":\"LogAxis\"},{\"id\":\"760b30b4-2565-430d-b445-99c5d696b682\",\"type\":\"Grid\"},{\"id\":\"f777e573-11e1-4595-a750-0d001ba8a62d\",\"type\":\"BoxAnnotation\"},{\"id\":\"9aff08ae-1b1f-41e4-a0a3-806afb66deec\",\"type\":\"GlyphRenderer\"},{\"id\":\"4219aacd-0788-4a1c-8937-1460ff778143\",\"type\":\"GlyphRenderer\"},{\"id\":\"33d71033-7d2f-4722-961b-76a20373f45e\",\"type\":\"GlyphRenderer\"},{\"id\":\"7b36d222-83ef-450a-94c9-c864c267f66c\",\"type\":\"GlyphRenderer\"},{\"id\":\"2689446d-ed37-49be-8a4e-07c0e5700767\",\"type\":\"GlyphRenderer\"},{\"id\":\"a717df07-7f84-4814-ab89-0b614872967f\",\"type\":\"Legend\"}],\"title\":{\"id\":\"642195ac-c2c0-41db-9459-9e19779f49c9\",\"type\":\"Title\"},\"toolbar\":{\"id\":\"ea3b8aad-a98d-4320-b76f-49b12f463514\",\"type\":\"Toolbar\"},\"toolbar_location\":null,\"x_range\":{\"id\":\"202bfecd-2c15-491b-b310-f542fe822558\",\"type\":\"Range1d\"},\"x_scale\":{\"id\":\"183ccde1-623c-4285-8bd1-1da05e7b89e8\",\"type\":\"LinearScale\"},\"y_range\":{\"id\":\"8d9d7891-9d34-45de-8f43-c0e58dbcd22b\",\"type\":\"Range1d\"},\"y_scale\":{\"id\":\"31674606-4fd3-4567-8d34-ee002453fde7\",\"type\":\"LogScale\"}},\"id\":\"28b3cf29-cd2d-4c6c-9517-dfa8bbb66f0c\",\"subtype\":\"Figure\",\"type\":\"Plot\"},{\"attributes\":{\"bottom_units\":\"screen\",\"fill_alpha\":{\"value\":0.5},\"fill_color\":{\"value\":\"lightgrey\"},\"left_units\":\"screen\",\"level\":\"overlay\",\"line_alpha\":{\"value\":1.0},\"line_color\":{\"value\":\"black\"},\"line_dash\":[4,4],\"line_width\":{\"value\":2},\"plot\":null,\"render_mode\":\"css\",\"right_units\":\"screen\",\"top_units\":\"screen\"},\"id\":\"f777e573-11e1-4595-a750-0d001ba8a62d\",\"type\":\"BoxAnnotation\"},{\"attributes\":{\"fill_alpha\":{\"value\":0.7},\"fill_color\":{\"value\":\"#4daf4a\"},\"line_alpha\":{\"value\":0.7},\"line_color\":{\"value\":\"#4daf4a\"},\"x\":{\"field\":\"x\"},\"y\":{\"field\":\"y\"}},\"id\":\"f73cc525-4a8f-4f01-ad48-272c56a14748\",\"type\":\"Circle\"},{\"attributes\":{},\"id\":\"e0768f6f-8ecd-418f-b0f8-80199e11aca0\",\"type\":\"Selection\"},{\"attributes\":{},\"id\":\"aff0211a-7b13-41b7-992c-95721e2da910\",\"type\":\"LinearScale\"},{\"attributes\":{\"line_alpha\":0.1,\"line_color\":\"#1f77b4\",\"line_width\":1.5,\"x\":{\"field\":\"x\"},\"y\":{\"field\":\"y\"}},\"id\":\"aa95bf72-60ae-4a26-8256-d00029069ff3\",\"type\":\"Line\"},{\"attributes\":{\"fill_alpha\":{\"value\":0.7},\"fill_color\":{\"value\":\"#984ea3\"},\"line_alpha\":{\"value\":0.7},\"line_color\":{\"value\":\"#984ea3\"},\"x\":{\"field\":\"x\"},\"y\":{\"field\":\"y\"}},\"id\":\"70b1bfa3-5b00-42d6-999b-e4ee1ac0fd90\",\"type\":\"Square\"},{\"attributes\":{\"num_minor_ticks\":10},\"id\":\"e73f2e8a-238c-489e-b2a9-b889d9d85fb3\",\"type\":\"LogTicker\"},{\"attributes\":{},\"id\":\"d856863c-2076-4356-bb4a-a828270dacf4\",\"type\":\"SaveTool\"},{\"attributes\":{},\"id\":\"7297178b-2082-4f16-a50c-c68691b6a6f7\",\"type\":\"HelpTool\"},{\"attributes\":{\"data_source\":{\"id\":\"bfbb5105-a1ae-4d36-894c-6ddab865a404\",\"type\":\"ColumnDataSource\"},\"glyph\":{\"id\":\"1ac28c75-e31d-47bd-a76e-ed7203708da6\",\"type\":\"Line\"},\"hover_glyph\":null,\"muted_glyph\":null,\"nonselection_glyph\":{\"id\":\"951f73bf-4352-4fb9-a0da-6be26893e2fe\",\"type\":\"Line\"},\"selection_glyph\":null,\"view\":{\"id\":\"bfa59eea-5420-42d3-87f9-3ffb9341b2ec\",\"type\":\"CDSView\"}},\"id\":\"b8baa7a6-8475-4f87-8726-03fd87313067\",\"type\":\"GlyphRenderer\"},{\"attributes\":{\"fill_alpha\":{\"value\":0.1},\"fill_color\":{\"value\":\"#1f77b4\"},\"line_alpha\":{\"value\":0.1},\"line_color\":{\"value\":\"#1f77b4\"},\"x\":{\"field\":\"x\"},\"y\":{\"field\":\"y\"}},\"id\":\"d5f51e5a-e224-4e70-8461-5759bbb036ee\",\"type\":\"Circle\"},{\"attributes\":{},\"id\":\"18fc2064-72bf-4780-81ab-86e33c8c1bae\",\"type\":\"BasicTicker\"},{\"attributes\":{\"line_alpha\":0.1,\"line_color\":\"#1f77b4\",\"line_width\":1.5,\"x\":{\"field\":\"x\"},\"y\":{\"field\":\"y\"}},\"id\":\"82bde074-3221-49c0-82f1-6c0c3eb8ccae\",\"type\":\"Line\"},{\"attributes\":{\"source\":{\"id\":\"983d1449-df5d-4968-978e-3fb35ac83d5b\",\"type\":\"ColumnDataSource\"}},\"id\":\"34819de3-07a9-4977-8c26-c0ebc4d0a53d\",\"type\":\"CDSView\"},{\"attributes\":{},\"id\":\"ab00b1d4-6b3f-4e09-8810-6bfba536f7fd\",\"type\":\"ResetTool\"},{\"attributes\":{\"callback\":null,\"data\":{\"x\":{\"__ndarray__\":\"MXhf+wfXU0AZbvNjswdFQLQWsEQVdUFA5TlpnhT9QUB/x1dOYK05QImjxHmcEjZA9jYDSBB3L0AISPl4H6wqQBPuuwfAzyJAOcHprUZAIUB7WWpkesAXQJoT1Uq+ChVArO/8u0EXCkBgVNlshzgCQMeNQ+Nzu/I/POwv1Qzh+D9QxMRmcj8DQOrE7tC4mAxAQsLBRIlHEkAi4cPYoDEXQEeDpjRjzB1ASZ0GEfCuI0DVFj11sssnQOMiVKSMHyhAWRHvUxNoJEDo8cjD4g8gQLGGvR2NDRpAdpI3nV5oFECtyWH9Lp4QQIZQd9bvmwtAkshlnu1BBkBMysnQf1UAQHZJU/DYZ/c/HoEhV+G48T/rSm4vc/TmP3EgV4cD49g/xmy6+4w7zz+bEsjh3uDDPw5SRMRogKs/4GPKdPc1a78lazVXN1vCP/B84ODeUug/LOyxgXDV9z+/DBHyZAwAQAOIY+fy/QFAahF3XKCUAECV0GHvGsz+P+X4k4Nhvf0/RO/IqI98/T8rkW+v/zT9P59vGMDsAv0/zEX7plCY/D/E3siS8kj7P2yUMv+hDvs/RmrXDaYs+z+c9f5GCO36P58nVCbr7vo/Qus8hbcy/D+rD5hFMCf9P4t6dxofnPw/bRp4QYZ2/D/q8NNiN2b8P5YTVw9ESPw/l1Dy0X/K+j+WKih3ZdD5P2k8OYxHjvk/hceGh5N4+T8lpPahWSn5P6vJnePt4vY/UuhmxnXI9T8miFqdE+D0Pz7qfx5CR/Q/0khvq2US9D9LfVdHQGv0P9syeEmwYfg/\",\"dtype\":\"float64\",\"shape\":[75]},\"y\":{\"__ndarray__\":\"hLndy31yND/6fmq8dJNIP8n9DkWBPlE/aDum7souWD/b4a/JGvVgP9f34SAhymc/ZvM4DOavcD+z0M5pFmh3PxuC4zJuaoA/xjcUPlsHhz8uHAjJAiaQP9ieWRKgppY/oI7HDFTGnz+a5h2n6EimPzS6g9iZQq8/IuAQqtTstT9SSZ2AJsK+P4nS3uALk8U/ih9j7lpCzj+ASL99HTjVP4enV8oyxN0/ACL99nXg5D9fmEwVjErtPyUGgZVDi/Q/AiuHFtnO/D9OYhBYOTQEQPHSTWIQWAxA4XoUrkfhE0D8qfHSTeIbQMh2vp8ajyNArkfhehRuK0Bcj8L1KDwzQFyPwvUo/DpAPgrXo3DtQkDNzMzMzIxKQClcj8L1eFJAKVyPwvVoWECamZmZmVleQGZmZmZmJmJAAAAAAAAgZUCamZmZmRloQJqZmZmZEWtAmpmZmZkJbkCamZmZmYFwQGZmZmZm/nFAZmZmZmZ6c0BmZmZmZvZ0QDQzMzMzc3ZAAAAAAADwd0AAAAAAAGx5QAAAAAAA6HpAzMzMzMxkfEDMzMzMzOB9QM3MzMzMXH9AzczMzMxsgEAzMzMzMyuBQDMzMzMz6YFAMzMzMzOngkCamZmZmWWDQAAAAAAAJIRAAAAAAADihEAAAAAAAKCFQGZmZmZmXoZAzczMzMwch0DNzMzMzNqHQM3MzMzMmIhAMzMzMzNXiUCamZmZmRWKQAAAAAAA1IpAAAAAAACSi0AAAAAAAFCMQGZmZmZmDo1AzczMzMzMjUDNzMzMzIqOQM3MzMzMSI9A\",\"dtype\":\"float64\",\"shape\":[75]}},\"selected\":{\"id\":\"cb13b673-6b30-452a-8685-7a4e6011ce68\",\"type\":\"Selection\"},\"selection_policy\":{\"id\":\"34f6e9fc-eea2-4a82-91b6-ec2f093a6b52\",\"type\":\"UnionRenderers\"}},\"id\":\"f5affc01-0cf6-4064-89a1-4bcc388782c6\",\"type\":\"ColumnDataSource\"},{\"attributes\":{},\"id\":\"789f0631-e6ae-43ea-b5f5-743c8ca024bc\",\"type\":\"BasicTickFormatter\"},{\"attributes\":{\"axis_label\":\"pressure [mb]\",\"formatter\":{\"id\":\"3ae623f3-d5f0-4d99-a6d1-08aad80b41a3\",\"type\":\"LogTickFormatter\"},\"plot\":{\"id\":\"28b3cf29-cd2d-4c6c-9517-dfa8bbb66f0c\",\"subtype\":\"Figure\",\"type\":\"Plot\"},\"ticker\":{\"id\":\"e73f2e8a-238c-489e-b2a9-b889d9d85fb3\",\"type\":\"LogTicker\"}},\"id\":\"6312f19f-11ff-49e2-92c3-e2c17abec166\",\"type\":\"LogAxis\"},{\"attributes\":{},\"id\":\"0e16179a-5e73-48b6-b3ab-f2f54df90dc9\",\"type\":\"Selection\"},{\"attributes\":{\"source\":{\"id\":\"f5affc01-0cf6-4064-89a1-4bcc388782c6\",\"type\":\"ColumnDataSource\"}},\"id\":\"267e513a-33ea-4ac8-989c-d3810c32b2a5\",\"type\":\"CDSView\"},{\"attributes\":{\"fill_alpha\":{\"value\":0.1},\"fill_color\":{\"value\":\"#1f77b4\"},\"line_alpha\":{\"value\":0.1},\"line_color\":{\"value\":\"#1f77b4\"},\"x\":{\"field\":\"x\"},\"y\":{\"field\":\"y\"}},\"id\":\"d5daf757-262a-4a92-b7a3-33ab4c0d609c\",\"type\":\"Square\"},{\"attributes\":{},\"id\":\"018bbaa7-529c-40f7-b367-ed4defee44da\",\"type\":\"UnionRenderers\"},{\"attributes\":{\"dimension\":1,\"plot\":{\"id\":\"28b3cf29-cd2d-4c6c-9517-dfa8bbb66f0c\",\"subtype\":\"Figure\",\"type\":\"Plot\"},\"ticker\":{\"id\":\"e73f2e8a-238c-489e-b2a9-b889d9d85fb3\",\"type\":\"LogTicker\"}},\"id\":\"760b30b4-2565-430d-b445-99c5d696b682\",\"type\":\"Grid\"},{\"attributes\":{\"source\":{\"id\":\"a19d8e21-8c66-45fc-9590-36dbd1e70e42\",\"type\":\"ColumnDataSource\"}},\"id\":\"dc9e8e71-d184-44da-8749-1d38f413bacf\",\"type\":\"CDSView\"},{\"attributes\":{\"callback\":null,\"data\":{\"x\":{\"__ndarray__\":\"cm1sTMT3VEDEyvjosEJHQOKI6DjzCUNArgQWV9awPkB9Lm8XG3M4QEz+Qv6iYzNA7eV8HaPLLkCX1QHyTpMoQFBmYSYetiNAUB04GtGpH0AmFyVE5j8ZQJca9QPGqBNALJP+OOHHDEBNxaf7QF8AQKtislomWuw/cW2dcO6A9T/uJJvfPu0EQIaQLTI/JQ1AxGiII+PmEkCJvfVeuCsYQD6ZBhGbHB9AXQw69DTYJEAsubcwKucqQNuT9D5OmipAJyi3szEJJUBlNebh5WkgQDDcPHBr2xlArtlANXuQFEBdJadFHckQQI2Avh0ZsQtAjYiwt1rsBUCL0SDoVBgAQK6C0nEEjvc/CggLSme58T9sXU2orFPnP0v0JYz9Gdg/vT38vxYczD9nBQTe6kHHP1IhkEXJwKo/8OZnhCVAub+xtVgCpmqzP6DUpY6g0+k/PKK3T1h4+D8RTDjQc1EAQG/dAQs7TwJAQt2eHpPLAEBWEh074x//PyCap9ZSGf4/rEzaTySm/T+7aXhHRmr9P688KeqeNP0/ruZ4EemD/D8olrZcn9T7P0+vNc9hW/s/i9VVL+4P+z+0NzC24uz6P8731Kza8vo/xFf4SHzq+z+gYyHpvHb8P68ROkiFevw/BAjYdCga/D8AUp8VbW77P3JrF/nKmvo/qCQeGfq++T/dplwHJfn4P2G4p+Uva/g/OzZ0RqMZ+D8dmn/iar73P/OuA7Ka8PY/gaaeQHGn9T9hkyjAH1L0P3aZGhdAU/M/n8VP/g7P8j+90HxHNvfyPwhNBtgrqvk/\",\"dtype\":\"float64\",\"shape\":[75]},\"y\":{\"__ndarray__\":\"GhExyth1ND/Sv8nbtpRIP2vylNV0PVE/aTum7souWD/At0SJ8fVgPw3Iuahxymc/MSNhhJWvcD/bTfBN02d3P2zb5nxnaoA/CD5h5MAGhz8NmeH1TyaQP+zrCsc9p5Y/LbKd76fGnz/bLW5ISEmmPww9YvTcQq8/JV2OstnstT8Er5Y7M8G+P0c+r3jqkcU/5h99k6ZBzj88bCIzFzjVP4enV8oyxN0//yH99nXg5D8qOpLLf0jtP5kqGJXUifQ/c9cS8kHP/D+/DpwzojQEQIEmwoanVwxA4lgXt9HgE0BSSZ2AJuIbQAMJih9jjiNA5q4l5INuK0AwTKYKRj0zQNv5fmq8/DpAaCJseHrtQkB/+zpwzoxKQM3MzMzMeFJAZmZmZmZqWEAAAAAAAFxeQM3MzMzMJmJAmpmZmZkfZUBmZmZmZhhoQDMzMzMzEWtAAAAAAAAKbkBmZmZmZoFwQM3MzMzM/XFAMzMzMzN6c0CamZmZmfZ0QAAAAAAAc3ZAZmZmZmbvd0DNzMzMzGt5QDMzMzMz6HpAmpmZmZlkfEAAAAAAAOF9QGZmZmZmXX9AZmZmZuZsgECamZmZGSuBQM3MzMxM6YFAAAAAAICngkAzMzMzs2WDQGZmZmbmI4RAmpmZmRnihEDNzMzMTKCFQAAAAACAXoZAMzMzM7Mch0BmZmZm5tqHQJqZmZkZmYhAzczMzExXiUAAAAAAgBWKQDMzMzOz04pAZmZmZuaRi0CamZmZGVCMQM3MzMxMDo1AAAAAAIDMjUAzMzMzs4qOQGZmZmbmSI9A\",\"dtype\":\"float64\",\"shape\":[75]}},\"selected\":{\"id\":\"c75b284a-0752-4e2b-835d-d8179f926cb4\",\"type\":\"Selection\"},\"selection_policy\":{\"id\":\"163695f0-c9b3-49c0-a832-b56675bb62e6\",\"type\":\"UnionRenderers\"}},\"id\":\"983d1449-df5d-4968-978e-3fb35ac83d5b\",\"type\":\"ColumnDataSource\"},{\"attributes\":{\"callback\":null,\"data\":{\"x\":{\"__ndarray__\":\"cm1sTMT3VEDEyvjosEJHQOKI6DjzCUNArgQWV9awPkB9Lm8XG3M4QEz+Qv6iYzNA7eV8HaPLLkCX1QHyTpMoQFBmYSYetiNAUB04GtGpH0AmFyVE5j8ZQJca9QPGqBNALJP+OOHHDEBNxaf7QF8AQKtislomWuw/cW2dcO6A9T/uJJvfPu0EQIaQLTI/JQ1AxGiII+PmEkCJvfVeuCsYQD6ZBhGbHB9AXQw69DTYJEAsubcwKucqQNuT9D5OmipAJyi3szEJJUBlNebh5WkgQDDcPHBr2xlArtlANXuQFEBdJadFHckQQI2Avh0ZsQtAjYiwt1rsBUCL0SDoVBgAQK6C0nEEjvc/CggLSme58T9sXU2orFPnP0v0JYz9Gdg/vT38vxYczD9nBQTe6kHHP1IhkEXJwKo/8OZnhCVAub+xtVgCpmqzP6DUpY6g0+k/PKK3T1h4+D8RTDjQc1EAQG/dAQs7TwJAQt2eHpPLAEBWEh074x//PyCap9ZSGf4/rEzaTySm/T+7aXhHRmr9P688KeqeNP0/ruZ4EemD/D8olrZcn9T7P0+vNc9hW/s/i9VVL+4P+z+0NzC24uz6P8731Kza8vo/xFf4SHzq+z+gYyHpvHb8P68ROkiFevw/BAjYdCga/D8AUp8VbW77P3JrF/nKmvo/qCQeGfq++T/dplwHJfn4P2G4p+Uva/g/OzZ0RqMZ+D8dmn/iar73P/OuA7Ka8PY/gaaeQHGn9T9hkyjAH1L0P3aZGhdAU/M/n8VP/g7P8j+90HxHNvfyPwhNBtgrqvk/\",\"dtype\":\"float64\",\"shape\":[75]},\"y\":{\"__ndarray__\":\"GhExyth1ND/Sv8nbtpRIP2vylNV0PVE/aTum7souWD/At0SJ8fVgPw3Iuahxymc/MSNhhJWvcD/bTfBN02d3P2zb5nxnaoA/CD5h5MAGhz8NmeH1TyaQP+zrCsc9p5Y/LbKd76fGnz/bLW5ISEmmPww9YvTcQq8/JV2OstnstT8Er5Y7M8G+P0c+r3jqkcU/5h99k6ZBzj88bCIzFzjVP4enV8oyxN0//yH99nXg5D8qOpLLf0jtP5kqGJXUifQ/c9cS8kHP/D+/DpwzojQEQIEmwoanVwxA4lgXt9HgE0BSSZ2AJuIbQAMJih9jjiNA5q4l5INuK0AwTKYKRj0zQNv5fmq8/DpAaCJseHrtQkB/+zpwzoxKQM3MzMzMeFJAZmZmZmZqWEAAAAAAAFxeQM3MzMzMJmJAmpmZmZkfZUBmZmZmZhhoQDMzMzMzEWtAAAAAAAAKbkBmZmZmZoFwQM3MzMzM/XFAMzMzMzN6c0CamZmZmfZ0QAAAAAAAc3ZAZmZmZmbvd0DNzMzMzGt5QDMzMzMz6HpAmpmZmZlkfEAAAAAAAOF9QGZmZmZmXX9AZmZmZuZsgECamZmZGSuBQM3MzMxM6YFAAAAAAICngkAzMzMzs2WDQGZmZmbmI4RAmpmZmRnihEDNzMzMTKCFQAAAAACAXoZAMzMzM7Mch0BmZmZm5tqHQJqZmZkZmYhAzczMzExXiUAAAAAAgBWKQDMzMzOz04pAZmZmZuaRi0CamZmZGVCMQM3MzMxMDo1AAAAAAIDMjUAzMzMzs4qOQGZmZmbmSI9A\",\"dtype\":\"float64\",\"shape\":[75]}},\"selected\":{\"id\":\"c6cd7156-e0ef-4c69-a58d-06c2d4465e09\",\"type\":\"Selection\"},\"selection_policy\":{\"id\":\"91d6465c-e78d-4f26-bcfb-b75eeae70a7c\",\"type\":\"UnionRenderers\"}},\"id\":\"57276e40-34ec-4915-a75b-c59f56aa2411\",\"type\":\"ColumnDataSource\"},{\"attributes\":{},\"id\":\"c6cd7156-e0ef-4c69-a58d-06c2d4465e09\",\"type\":\"Selection\"},{\"attributes\":{\"line_alpha\":0.1,\"line_color\":\"#1f77b4\",\"line_width\":1.5,\"x\":{\"field\":\"x\"},\"y\":{\"field\":\"y\"}},\"id\":\"fb5f2093-beec-4e8e-8511-c86aa29e08a6\",\"type\":\"Line\"},{\"attributes\":{},\"id\":\"fb69dd87-d3b6-408c-a832-4844f3ee77b2\",\"type\":\"ResetTool\"},{\"attributes\":{\"data_source\":{\"id\":\"a740b7fb-a859-4ec8-979d-887c9505072a\",\"type\":\"ColumnDataSource\"},\"glyph\":{\"id\":\"348744e5-00d7-4ae1-9afd-1f250fac9399\",\"type\":\"Line\"},\"hover_glyph\":null,\"muted_glyph\":null,\"nonselection_glyph\":{\"id\":\"82bde074-3221-49c0-82f1-6c0c3eb8ccae\",\"type\":\"Line\"},\"selection_glyph\":null,\"view\":{\"id\":\"16630a29-43e4-40e8-ae9a-526cd292f868\",\"type\":\"CDSView\"}},\"id\":\"20ebb3eb-6584-4f74-a7e2-f241c36eca34\",\"type\":\"GlyphRenderer\"},{\"attributes\":{},\"id\":\"6cf8ff9a-f68b-45d5-a94a-93f71834b302\",\"type\":\"LogScale\"},{\"attributes\":{\"axis_label\":\"pressure [mb]\",\"formatter\":{\"id\":\"d1c9687a-19da-422f-a0e0-7903e7e71572\",\"type\":\"LogTickFormatter\"},\"plot\":{\"id\":\"7f83cdad-a066-42bf-bfaf-72694c188eed\",\"subtype\":\"Figure\",\"type\":\"Plot\"},\"ticker\":{\"id\":\"4c28074c-3257-4d9b-88ce-15ef0b3cf1f4\",\"type\":\"LogTicker\"}},\"id\":\"1b42347f-3b7e-48bf-9703-7bdcdf21c3eb\",\"type\":\"LogAxis\"},{\"attributes\":{\"data_source\":{\"id\":\"a19d8e21-8c66-45fc-9590-36dbd1e70e42\",\"type\":\"ColumnDataSource\"},\"glyph\":{\"id\":\"f3b41368-383d-4612-a8ae-82f44db3b697\",\"type\":\"Circle\"},\"hover_glyph\":null,\"muted_glyph\":null,\"nonselection_glyph\":{\"id\":\"a15b0546-fb4a-46b1-895b-b16ca12b78bd\",\"type\":\"Circle\"},\"selection_glyph\":null,\"view\":{\"id\":\"dc9e8e71-d184-44da-8749-1d38f413bacf\",\"type\":\"CDSView\"}},\"id\":\"3720c0e1-e82e-4652-9225-38c24e81ad17\",\"type\":\"GlyphRenderer\"},{\"attributes\":{\"data_source\":{\"id\":\"f5affc01-0cf6-4064-89a1-4bcc388782c6\",\"type\":\"ColumnDataSource\"},\"glyph\":{\"id\":\"70b1bfa3-5b00-42d6-999b-e4ee1ac0fd90\",\"type\":\"Square\"},\"hover_glyph\":null,\"muted_glyph\":null,\"nonselection_glyph\":{\"id\":\"d5daf757-262a-4a92-b7a3-33ab4c0d609c\",\"type\":\"Square\"},\"selection_glyph\":null,\"view\":{\"id\":\"267e513a-33ea-4ac8-989c-d3810c32b2a5\",\"type\":\"CDSView\"}},\"id\":\"97e6820f-e276-4555-a298-5509bfa565d4\",\"type\":\"GlyphRenderer\"},{\"attributes\":{\"source\":{\"id\":\"57276e40-34ec-4915-a75b-c59f56aa2411\",\"type\":\"ColumnDataSource\"}},\"id\":\"5c804994-3277-4399-a601-8287676a806a\",\"type\":\"CDSView\"},{\"attributes\":{\"data_source\":{\"id\":\"cd957a1b-b9fa-4f42-892a-29bb97d77dce\",\"type\":\"ColumnDataSource\"},\"glyph\":{\"id\":\"a7886325-a20c-465c-bba9-3ebc9f809fd0\",\"type\":\"Line\"},\"hover_glyph\":null,\"muted_glyph\":null,\"nonselection_glyph\":{\"id\":\"8af878b5-1ab7-4cab-9889-7599b0c70e34\",\"type\":\"Line\"},\"selection_glyph\":null,\"view\":{\"id\":\"5c9ce008-2569-4725-838b-cfa048ea21bf\",\"type\":\"CDSView\"}},\"id\":\"9aff08ae-1b1f-41e4-a0a3-806afb66deec\",\"type\":\"GlyphRenderer\"},{\"attributes\":{\"fill_alpha\":{\"value\":0.1},\"fill_color\":{\"value\":\"#1f77b4\"},\"line_alpha\":{\"value\":0.1},\"line_color\":{\"value\":\"#1f77b4\"},\"x\":{\"field\":\"x\"},\"y\":{\"field\":\"y\"}},\"id\":\"a15b0546-fb4a-46b1-895b-b16ca12b78bd\",\"type\":\"Circle\"},{\"attributes\":{\"data_source\":{\"id\":\"0c7dc8d8-c539-4181-98a0-020ec6d7e94a\",\"type\":\"ColumnDataSource\"},\"glyph\":{\"id\":\"ae4176ff-7b2e-4409-9823-b0b212747c81\",\"type\":\"Square\"},\"hover_glyph\":null,\"muted_glyph\":null,\"nonselection_glyph\":{\"id\":\"1e24e8cf-6291-4dd4-a947-31c85f680192\",\"type\":\"Square\"},\"selection_glyph\":null,\"view\":{\"id\":\"6da58bad-6549-4341-a578-7a15419c4849\",\"type\":\"CDSView\"}},\"id\":\"7b36d222-83ef-450a-94c9-c864c267f66c\",\"type\":\"GlyphRenderer\"},{\"attributes\":{\"bottom_units\":\"screen\",\"fill_alpha\":{\"value\":0.5},\"fill_color\":{\"value\":\"lightgrey\"},\"left_units\":\"screen\",\"level\":\"overlay\",\"line_alpha\":{\"value\":1.0},\"line_color\":{\"value\":\"black\"},\"line_dash\":[4,4],\"line_width\":{\"value\":2},\"plot\":null,\"render_mode\":\"css\",\"right_units\":\"screen\",\"top_units\":\"screen\"},\"id\":\"ed0d85ed-2797-4738-886e-5f968fa83817\",\"type\":\"BoxAnnotation\"},{\"attributes\":{\"source\":{\"id\":\"49cff603-4eb3-44f0-813c-2e80561a9182\",\"type\":\"ColumnDataSource\"}},\"id\":\"c28f70b7-cd5a-47a1-bcc5-a15178c38268\",\"type\":\"CDSView\"},{\"attributes\":{\"fill_alpha\":{\"value\":0.1},\"fill_color\":{\"value\":\"#1f77b4\"},\"line_alpha\":{\"value\":0.1},\"line_color\":{\"value\":\"#1f77b4\"},\"x\":{\"field\":\"x\"},\"y\":{\"field\":\"y\"}},\"id\":\"1e24e8cf-6291-4dd4-a947-31c85f680192\",\"type\":\"Square\"},{\"attributes\":{\"items\":[{\"id\":\"16072301-b4e8-43b3-85c7-e6f5b1ead339\",\"type\":\"LegendItem\"},{\"id\":\"f94f07eb-1c63-4fe4-9254-10f064176e32\",\"type\":\"LegendItem\"},{\"id\":\"2b798995-eb47-47d6-9379-3ae5115967d8\",\"type\":\"LegendItem\"}],\"label_text_font_size\":{\"value\":\"8pt\"},\"location\":\"top_center\",\"orientation\":\"horizontal\",\"plot\":{\"id\":\"4f37833e-44b0-4b01-b63b-5aec7979993c\",\"subtype\":\"Figure\",\"type\":\"Plot\"}},\"id\":\"f260aee8-1ca7-492e-ac92-a2df5256d45f\",\"type\":\"Legend\"},{\"attributes\":{\"callback\":null,\"data\":{\"x\":{\"__ndarray__\":\"MXhf+wfXU0AZbvNjswdFQLQWsEQVdUFA5TlpnhT9QUB/x1dOYK05QImjxHmcEjZA9jYDSBB3L0AISPl4H6wqQBPuuwfAzyJAOcHprUZAIUB7WWpkesAXQJoT1Uq+ChVArO/8u0EXCkBgVNlshzgCQMeNQ+Nzu/I/POwv1Qzh+D9QxMRmcj8DQOrE7tC4mAxAQsLBRIlHEkAi4cPYoDEXQEeDpjRjzB1ASZ0GEfCuI0DVFj11sssnQOMiVKSMHyhAWRHvUxNoJEDo8cjD4g8gQLGGvR2NDRpAdpI3nV5oFECtyWH9Lp4QQIZQd9bvmwtAkshlnu1BBkBMysnQf1UAQHZJU/DYZ/c/HoEhV+G48T/rSm4vc/TmP3EgV4cD49g/xmy6+4w7zz+bEsjh3uDDPw5SRMRogKs/4GPKdPc1a78lazVXN1vCP/B84ODeUug/LOyxgXDV9z+/DBHyZAwAQAOIY+fy/QFAahF3XKCUAECV0GHvGsz+P+X4k4Nhvf0/RO/IqI98/T8rkW+v/zT9P59vGMDsAv0/zEX7plCY/D/E3siS8kj7P2yUMv+hDvs/RmrXDaYs+z+c9f5GCO36P58nVCbr7vo/Qus8hbcy/D+rD5hFMCf9P4t6dxofnPw/bRp4QYZ2/D/q8NNiN2b8P5YTVw9ESPw/l1Dy0X/K+j+WKih3ZdD5P2k8OYxHjvk/hceGh5N4+T8lpPahWSn5P6vJnePt4vY/UuhmxnXI9T8miFqdE+D0Pz7qfx5CR/Q/0khvq2US9D9LfVdHQGv0P9syeEmwYfg/\",\"dtype\":\"float64\",\"shape\":[75]},\"y\":{\"__ndarray__\":\"hLndy31yND/6fmq8dJNIP8n9DkWBPlE/aDum7souWD/b4a/JGvVgP9f34SAhymc/ZvM4DOavcD+z0M5pFmh3PxuC4zJuaoA/xjcUPlsHhz8uHAjJAiaQP9ieWRKgppY/oI7HDFTGnz+a5h2n6EimPzS6g9iZQq8/IuAQqtTstT9SSZ2AJsK+P4nS3uALk8U/ih9j7lpCzj+ASL99HTjVP4enV8oyxN0/ACL99nXg5D9fmEwVjErtPyUGgZVDi/Q/AiuHFtnO/D9OYhBYOTQEQPHSTWIQWAxA4XoUrkfhE0D8qfHSTeIbQMh2vp8ajyNArkfhehRuK0Bcj8L1KDwzQFyPwvUo/DpAPgrXo3DtQkDNzMzMzIxKQClcj8L1eFJAKVyPwvVoWECamZmZmVleQGZmZmZmJmJAAAAAAAAgZUCamZmZmRloQJqZmZmZEWtAmpmZmZkJbkCamZmZmYFwQGZmZmZm/nFAZmZmZmZ6c0BmZmZmZvZ0QDQzMzMzc3ZAAAAAAADwd0AAAAAAAGx5QAAAAAAA6HpAzMzMzMxkfEDMzMzMzOB9QM3MzMzMXH9AzczMzMxsgEAzMzMzMyuBQDMzMzMz6YFAMzMzMzOngkCamZmZmWWDQAAAAAAAJIRAAAAAAADihEAAAAAAAKCFQGZmZmZmXoZAzczMzMwch0DNzMzMzNqHQM3MzMzMmIhAMzMzMzNXiUCamZmZmRWKQAAAAAAA1IpAAAAAAACSi0AAAAAAAFCMQGZmZmZmDo1AzczMzMzMjUDNzMzMzIqOQM3MzMzMSI9A\",\"dtype\":\"float64\",\"shape\":[75]}},\"selected\":{\"id\":\"98e44572-93dd-448e-830c-a991b67f63c9\",\"type\":\"Selection\"},\"selection_policy\":{\"id\":\"fbd375be-3953-49d3-9f3f-de9a7a44ddc9\",\"type\":\"UnionRenderers\"}},\"id\":\"0c7dc8d8-c539-4181-98a0-020ec6d7e94a\",\"type\":\"ColumnDataSource\"},{\"attributes\":{\"label\":{\"value\":\"old CLIRAD (H2012)\"},\"renderers\":[{\"id\":\"7b36d222-83ef-450a-94c9-c864c267f66c\",\"type\":\"GlyphRenderer\"},{\"id\":\"2689446d-ed37-49be-8a4e-07c0e5700767\",\"type\":\"GlyphRenderer\"}]},\"id\":\"0c464a64-cf75-4538-905d-92fdf2cfd334\",\"type\":\"LegendItem\"},{\"attributes\":{\"callback\":null,\"data\":{\"x\":{\"__ndarray__\":\"MXhf+wfXU0AZbvNjswdFQLQWsEQVdUFA5TlpnhT9QUB/x1dOYK05QImjxHmcEjZA9jYDSBB3L0AISPl4H6wqQBPuuwfAzyJAOcHprUZAIUB7WWpkesAXQJoT1Uq+ChVArO/8u0EXCkBgVNlshzgCQMeNQ+Nzu/I/POwv1Qzh+D9QxMRmcj8DQOrE7tC4mAxAQsLBRIlHEkAi4cPYoDEXQEeDpjRjzB1ASZ0GEfCuI0DVFj11sssnQOMiVKSMHyhAWRHvUxNoJEDo8cjD4g8gQLGGvR2NDRpAdpI3nV5oFECtyWH9Lp4QQIZQd9bvmwtAkshlnu1BBkBMysnQf1UAQHZJU/DYZ/c/HoEhV+G48T/rSm4vc/TmP3EgV4cD49g/xmy6+4w7zz+bEsjh3uDDPw5SRMRogKs/4GPKdPc1a78lazVXN1vCP/B84ODeUug/LOyxgXDV9z+/DBHyZAwAQAOIY+fy/QFAahF3XKCUAECV0GHvGsz+P+X4k4Nhvf0/RO/IqI98/T8rkW+v/zT9P59vGMDsAv0/zEX7plCY/D/E3siS8kj7P2yUMv+hDvs/RmrXDaYs+z+c9f5GCO36P58nVCbr7vo/Qus8hbcy/D+rD5hFMCf9P4t6dxofnPw/bRp4QYZ2/D/q8NNiN2b8P5YTVw9ESPw/l1Dy0X/K+j+WKih3ZdD5P2k8OYxHjvk/hceGh5N4+T8lpPahWSn5P6vJnePt4vY/UuhmxnXI9T8miFqdE+D0Pz7qfx5CR/Q/0khvq2US9D9LfVdHQGv0P9syeEmwYfg/\",\"dtype\":\"float64\",\"shape\":[75]},\"y\":{\"__ndarray__\":\"hLndy31yND/6fmq8dJNIP8n9DkWBPlE/aDum7souWD/b4a/JGvVgP9f34SAhymc/ZvM4DOavcD+z0M5pFmh3PxuC4zJuaoA/xjcUPlsHhz8uHAjJAiaQP9ieWRKgppY/oI7HDFTGnz+a5h2n6EimPzS6g9iZQq8/IuAQqtTstT9SSZ2AJsK+P4nS3uALk8U/ih9j7lpCzj+ASL99HTjVP4enV8oyxN0/ACL99nXg5D9fmEwVjErtPyUGgZVDi/Q/AiuHFtnO/D9OYhBYOTQEQPHSTWIQWAxA4XoUrkfhE0D8qfHSTeIbQMh2vp8ajyNArkfhehRuK0Bcj8L1KDwzQFyPwvUo/DpAPgrXo3DtQkDNzMzMzIxKQClcj8L1eFJAKVyPwvVoWECamZmZmVleQGZmZmZmJmJAAAAAAAAgZUCamZmZmRloQJqZmZmZEWtAmpmZmZkJbkCamZmZmYFwQGZmZmZm/nFAZmZmZmZ6c0BmZmZmZvZ0QDQzMzMzc3ZAAAAAAADwd0AAAAAAAGx5QAAAAAAA6HpAzMzMzMxkfEDMzMzMzOB9QM3MzMzMXH9AzczMzMxsgEAzMzMzMyuBQDMzMzMz6YFAMzMzMzOngkCamZmZmWWDQAAAAAAAJIRAAAAAAADihEAAAAAAAKCFQGZmZmZmXoZAzczMzMwch0DNzMzMzNqHQM3MzMzMmIhAMzMzMzNXiUCamZmZmRWKQAAAAAAA1IpAAAAAAACSi0AAAAAAAFCMQGZmZmZmDo1AzczMzMzMjUDNzMzMzIqOQM3MzMzMSI9A\",\"dtype\":\"float64\",\"shape\":[75]}},\"selected\":{\"id\":\"f6152af4-681f-4e36-91f2-901062fcda96\",\"type\":\"Selection\"},\"selection_policy\":{\"id\":\"72462098-65b0-43aa-9dd8-c3076b9c2c8f\",\"type\":\"UnionRenderers\"}},\"id\":\"49cff603-4eb3-44f0-813c-2e80561a9182\",\"type\":\"ColumnDataSource\"},{\"attributes\":{\"above\":[{\"id\":\"d3c64503-a02e-4709-a710-54acdcb4877d\",\"type\":\"Legend\"}],\"below\":[{\"id\":\"1bbcf530-d1d3-4d62-9162-daaa6a03bf00\",\"type\":\"LinearAxis\"}],\"left\":[{\"id\":\"1b42347f-3b7e-48bf-9703-7bdcdf21c3eb\",\"type\":\"LogAxis\"}],\"plot_width\":300,\"renderers\":[{\"id\":\"1bbcf530-d1d3-4d62-9162-daaa6a03bf00\",\"type\":\"LinearAxis\"},{\"id\":\"a04fd9fb-6165-4c70-b780-7ad1199245b4\",\"type\":\"Grid\"},{\"id\":\"1b42347f-3b7e-48bf-9703-7bdcdf21c3eb\",\"type\":\"LogAxis\"},{\"id\":\"a84628ae-71a1-4831-82cc-67843adbdde3\",\"type\":\"Grid\"},{\"id\":\"095dc4e7-9b4a-4f28-815b-2d822c1da948\",\"type\":\"BoxAnnotation\"},{\"id\":\"3720c0e1-e82e-4652-9225-38c24e81ad17\",\"type\":\"GlyphRenderer\"},{\"id\":\"20ebb3eb-6584-4f74-a7e2-f241c36eca34\",\"type\":\"GlyphRenderer\"},{\"id\":\"579d3f4a-42fa-4015-b4f6-1e4f9b832a7d\",\"type\":\"GlyphRenderer\"},{\"id\":\"d3c64503-a02e-4709-a710-54acdcb4877d\",\"type\":\"Legend\"}],\"title\":{\"id\":\"17728210-18eb-4544-afda-5bc168e32176\",\"type\":\"Title\"},\"toolbar\":{\"id\":\"1e229b61-b7da-4849-b7bb-cf92229ee559\",\"type\":\"Toolbar\"},\"toolbar_location\":null,\"x_range\":{\"id\":\"12fb5276-7188-45ce-ab9e-21e32878e09c\",\"type\":\"Range1d\"},\"x_scale\":{\"id\":\"aff0211a-7b13-41b7-992c-95721e2da910\",\"type\":\"LinearScale\"},\"y_range\":{\"id\":\"75b43b4b-acf5-4526-aae7-952eb8599130\",\"type\":\"Range1d\"},\"y_scale\":{\"id\":\"6cf8ff9a-f68b-45d5-a94a-93f71834b302\",\"type\":\"LogScale\"}},\"id\":\"7f83cdad-a066-42bf-bfaf-72694c188eed\",\"subtype\":\"Figure\",\"type\":\"Plot\"},{\"attributes\":{\"axis_label\":\"pressure [mb]\",\"formatter\":{\"id\":\"63a8927f-c1c6-44ba-a1e3-e924d6a6c08c\",\"type\":\"BasicTickFormatter\"},\"plot\":{\"id\":\"4f37833e-44b0-4b01-b63b-5aec7979993c\",\"subtype\":\"Figure\",\"type\":\"Plot\"},\"ticker\":{\"id\":\"fb3d472e-24b1-4bb1-8e43-a47da0460084\",\"type\":\"BasicTicker\"}},\"id\":\"69bf4e71-b231-41e6-9a40-e809341fcef7\",\"type\":\"LinearAxis\"},{\"attributes\":{\"fill_alpha\":{\"value\":0.7},\"fill_color\":{\"value\":\"#984ea3\"},\"line_alpha\":{\"value\":0.7},\"line_color\":{\"value\":\"#984ea3\"},\"x\":{\"field\":\"x\"},\"y\":{\"field\":\"y\"}},\"id\":\"ae4176ff-7b2e-4409-9823-b0b212747c81\",\"type\":\"Square\"},{\"attributes\":{\"line_alpha\":0.1,\"line_color\":\"#1f77b4\",\"line_width\":1.5,\"x\":{\"field\":\"x\"},\"y\":{\"field\":\"y\"}},\"id\":\"56df1618-97f1-4fce-8ceb-6c8a5ac5f73b\",\"type\":\"Line\"},{\"attributes\":{},\"id\":\"5081994e-0f4c-472e-ada0-6cc0a73b30bf\",\"type\":\"HelpTool\"},{\"attributes\":{\"data_source\":{\"id\":\"49cff603-4eb3-44f0-813c-2e80561a9182\",\"type\":\"ColumnDataSource\"},\"glyph\":{\"id\":\"95af06ec-76e8-4044-9e03-0b82c5d92f64\",\"type\":\"Line\"},\"hover_glyph\":null,\"muted_glyph\":null,\"nonselection_glyph\":{\"id\":\"56df1618-97f1-4fce-8ceb-6c8a5ac5f73b\",\"type\":\"Line\"},\"selection_glyph\":null,\"view\":{\"id\":\"c28f70b7-cd5a-47a1-bcc5-a15178c38268\",\"type\":\"CDSView\"}},\"id\":\"2689446d-ed37-49be-8a4e-07c0e5700767\",\"type\":\"GlyphRenderer\"},{\"attributes\":{},\"id\":\"38b65eba-c253-4a08-886e-19cfec6c8e7d\",\"type\":\"LinearScale\"},{\"attributes\":{\"label\":{\"value\":\"CRD\"},\"renderers\":[{\"id\":\"4219aacd-0788-4a1c-8937-1460ff778143\",\"type\":\"GlyphRenderer\"},{\"id\":\"33d71033-7d2f-4722-961b-76a20373f45e\",\"type\":\"GlyphRenderer\"}]},\"id\":\"954914b5-edb4-45ae-a31c-b131e9953987\",\"type\":\"LegendItem\"},{\"attributes\":{},\"id\":\"d2596a30-edfc-41c1-88b7-a343d489d032\",\"type\":\"BasicTickFormatter\"},{\"attributes\":{},\"id\":\"91d6465c-e78d-4f26-bcfb-b75eeae70a7c\",\"type\":\"UnionRenderers\"},{\"attributes\":{},\"id\":\"6d94811d-aba4-4b00-a413-b7466aba638f\",\"type\":\"ResetTool\"},{\"attributes\":{},\"id\":\"db1b6489-ff87-447a-ab06-4f7f2660c6df\",\"type\":\"Selection\"},{\"attributes\":{},\"id\":\"e566aa40-25e0-4958-aa86-0ab926864d26\",\"type\":\"SaveTool\"},{\"attributes\":{\"line_alpha\":0.5,\"line_color\":\"#377eb8\",\"line_dash\":[6],\"line_width\":4,\"x\":{\"field\":\"x\"},\"y\":{\"field\":\"y\"}},\"id\":\"10a7aaf9-b661-4c8e-9633-381935ea4d22\",\"type\":\"Line\"},{\"attributes\":{\"line_alpha\":0.1,\"line_color\":\"#1f77b4\",\"line_dash\":[6],\"line_width\":5,\"x\":{\"field\":\"x\"},\"y\":{\"field\":\"y\"}},\"id\":\"951f73bf-4352-4fb9-a0da-6be26893e2fe\",\"type\":\"Line\"},{\"attributes\":{},\"id\":\"54a428a4-e800-46e6-a9bf-2df575e0d0d1\",\"type\":\"WheelZoomTool\"},{\"attributes\":{\"callback\":null,\"data\":{\"x\":{\"__ndarray__\":\"lDpM1XQXRMAFF6ZxNa0gwHCnHAXUbgLAKtQ1wYrC/D9FxtulFmEOQP5YslfSxA5AOKODYVMWBEBdIJ52wwXlPzFnm7hs1em/XLMviZjm9b9CnYpB15jxv0RIuQD5Y9+/RovD2MA/rz8D29G5z3TZP/bN869g5N4/UIntTu370z90ZO9+bnufP8RcFGbU3dC/p2A/DuxB4L8AhfElsKrgv1qifCEi7dG/yF1QcoDrc79nWaOxprapvwAe3KirqNO/TSo9cdE017+0H9YJvPmwv3m3mG05hdg/uF6cSI1B1z86OJjzYG23P8mWdwcliZU/edt6OD+20D883fr0jWjVP/dRHDnkS8M/ZCxaOrtXoL8RhiuHFydNPyQDWws3aqw/cD606fgKbD9wP8a8agOuvxMVoMpr6re/uoDE49yOur+4l7ODLuO2v3DupXnxc7G/scCujP5wsL8LZ7lngiCgv8/ThvJxmLe/Zl6ZTacuub8zRPpn3ousv3TXeXViva+/yps8kfALtL9cbNQ5eSezv4QRSAhS/6u/ojl1gJ7jor9bqkPH8nKYv4bBtdG/r5S/z6BuIBwslL90FF8iG56Yv4oVwYqSWpq/C4TZMyyHkr+86Lga2ZVmP1dz/igVTaE/R4eQWU9LrT9n+cgSB9yuP1KuINXJfKY/w3Dyf6jrlz9YbuOyNdJuP3g9cQdJ4mY/7I7HpHBRhj+TQwjrpmSgPxMl+cjoq6k/NFQbVbNysD/on6H+AbayPwVnbS0s7LM/pHSa0J6utD9pY2MleFi1P3cTYzZUzrQ/\",\"dtype\":\"float64\",\"shape\":[75]},\"y\":{\"__ndarray__\":\"GhExyth1ND/Sv8nbtpRIP2vylNV0PVE/aTum7souWD/At0SJ8fVgPw3Iuahxymc/MSNhhJWvcD/bTfBN02d3P2zb5nxnaoA/CD5h5MAGhz8NmeH1TyaQP+zrCsc9p5Y/LbKd76fGnz/bLW5ISEmmPww9YvTcQq8/JV2OstnstT8Er5Y7M8G+P0c+r3jqkcU/5h99k6ZBzj88bCIzFzjVP4enV8oyxN0//yH99nXg5D8qOpLLf0jtP5kqGJXUifQ/c9cS8kHP/D+/DpwzojQEQIEmwoanVwxA4lgXt9HgE0BSSZ2AJuIbQAMJih9jjiNA5q4l5INuK0AwTKYKRj0zQNv5fmq8/DpAaCJseHrtQkB/+zpwzoxKQM3MzMzMeFJAZmZmZmZqWEAAAAAAAFxeQM3MzMzMJmJAmpmZmZkfZUBmZmZmZhhoQDMzMzMzEWtAAAAAAAAKbkBmZmZmZoFwQM3MzMzM/XFAMzMzMzN6c0CamZmZmfZ0QAAAAAAAc3ZAZmZmZmbvd0DNzMzMzGt5QDMzMzMz6HpAmpmZmZlkfEAAAAAAAOF9QGZmZmZmXX9AZmZmZuZsgECamZmZGSuBQM3MzMxM6YFAAAAAAICngkAzMzMzs2WDQGZmZmbmI4RAmpmZmRnihEDNzMzMTKCFQAAAAACAXoZAMzMzM7Mch0BmZmZm5tqHQJqZmZkZmYhAzczMzExXiUAAAAAAgBWKQDMzMzOz04pAZmZmZuaRi0CamZmZGVCMQM3MzMxMDo1AAAAAAIDMjUAzMzMzs4qOQGZmZmbmSI9A\",\"dtype\":\"float64\",\"shape\":[75]}},\"selected\":{\"id\":\"1391dcb4-99cc-45e3-9b24-9761df227aa2\",\"type\":\"Selection\"},\"selection_policy\":{\"id\":\"343d595e-9252-4509-bece-d86837b652e9\",\"type\":\"UnionRenderers\"}},\"id\":\"a19d8e21-8c66-45fc-9590-36dbd1e70e42\",\"type\":\"ColumnDataSource\"},{\"attributes\":{\"callback\":null,\"end\":0.01,\"start\":1020},\"id\":\"09c89439-48a7-401e-9a55-f3cb14f0ba5e\",\"type\":\"Range1d\"},{\"attributes\":{},\"id\":\"fb3d472e-24b1-4bb1-8e43-a47da0460084\",\"type\":\"BasicTicker\"},{\"attributes\":{\"callback\":null,\"data\":{\"x\":{\"__ndarray__\":\"EFTPEMULEsBY5Soo7NcRwOAih0PfTQnAcLzxlkslFUAgkIluU6TzP+gpDdzLdwVAICHKUKVt1T+Ik7s3hMbwP6AHr9TDy9y/ECnbDOK15j+w2qv7vfbXvzCQ/22EH9Y/ABwN6PuE1b8w8RgTZ5TNP8ZxqdeCOdI/WPaTJPMAyz/gCWaNx9zKv4Bz2SfMkLG/QNDU2Dvrw7/gjDvG8ELPv3BfAcZ9A9W/QPE2M06U4r+4EtXbvdv4v8CHA9UM1vO/wNkC+csj1L9A31CHx4DGv4BAVcDWEKk/AJyjBEwOpL8A2K0iJHelvwAHMEdHKYW/QAFQrblkpT+AYHxUdJWePwCcnL/AFYO/AIDdMF2+IL9AoMQ3Xs6Hv8CEJWa/IIk/SHjx3bH7mD9glt/hXwibv4AXhtbv81c/0ZPByHVmuD+ZIBKsyEuxPwB7VdwaDKi/AMK2wPlcpL+A1M+Jt0OhvwBblecIUqS/AOzlE2F5m79AcNDuEvKUv8BO6MRU/Ja/ALSuiFPKhL8ASGwETKOKvwCIZggV2Yi/AB5fgpVndD+A7LY9mXWhv8C4xgD0L5O/ALuUgd63fD8AAPReZ8gCPwB4gQY0fE+/gN8kEc8Okj9ggdWOaw6mPwButB7pzIA/QJoEKHMXlz9A3ZOmSfmuP0CC+mOR17o/8L5CjVu4sD8gd3D5DeiqP4BAGGl6MbI/oBQpEQTvtT+AoHD36662PwCQysucWWu/gOgg5EKCgD+gmD6me76hPwAZquxAgK4/MDP40Wo1tD/gyKr9n0C3P9Ci4ei4h7S/\",\"dtype\":\"float64\",\"shape\":[75]},\"y\":{\"__ndarray__\":\"GhExyth1ND/Sv8nbtpRIP2vylNV0PVE/aTum7souWD/At0SJ8fVgPw3Iuahxymc/MSNhhJWvcD/bTfBN02d3P2zb5nxnaoA/CD5h5MAGhz8NmeH1TyaQP+zrCsc9p5Y/LbKd76fGnz/bLW5ISEmmPww9YvTcQq8/JV2OstnstT8Er5Y7M8G+P0c+r3jqkcU/5h99k6ZBzj88bCIzFzjVP4enV8oyxN0//yH99nXg5D8qOpLLf0jtP5kqGJXUifQ/c9cS8kHP/D+/DpwzojQEQIEmwoanVwxA4lgXt9HgE0BSSZ2AJuIbQAMJih9jjiNA5q4l5INuK0AwTKYKRj0zQNv5fmq8/DpAaCJseHrtQkB/+zpwzoxKQM3MzMzMeFJAZmZmZmZqWEAAAAAAAFxeQM3MzMzMJmJAmpmZmZkfZUBmZmZmZhhoQDMzMzMzEWtAAAAAAAAKbkBmZmZmZoFwQM3MzMzM/XFAMzMzMzN6c0CamZmZmfZ0QAAAAAAAc3ZAZmZmZmbvd0DNzMzMzGt5QDMzMzMz6HpAmpmZmZlkfEAAAAAAAOF9QGZmZmZmXX9AZmZmZuZsgECamZmZGSuBQM3MzMxM6YFAAAAAAICngkAzMzMzs2WDQGZmZmbmI4RAmpmZmRnihEDNzMzMTKCFQAAAAACAXoZAMzMzM7Mch0BmZmZm5tqHQJqZmZkZmYhAzczMzExXiUAAAAAAgBWKQDMzMzOz04pAZmZmZuaRi0CamZmZGVCMQM3MzMxMDo1AAAAAAIDMjUAzMzMzs4qOQGZmZmbmSI9A\",\"dtype\":\"float64\",\"shape\":[75]}},\"selected\":{\"id\":\"a82dbe98-9fbd-4cba-9ec9-2e1f0c081cd0\",\"type\":\"Selection\"},\"selection_policy\":{\"id\":\"4879aba6-8b67-4287-a413-1a39ec55cb21\",\"type\":\"UnionRenderers\"}},\"id\":\"a90b5bc0-4420-4c92-b826-7e10b7d10613\",\"type\":\"ColumnDataSource\"},{\"attributes\":{\"source\":{\"id\":\"0c7dc8d8-c539-4181-98a0-020ec6d7e94a\",\"type\":\"ColumnDataSource\"}},\"id\":\"6da58bad-6549-4341-a578-7a15419c4849\",\"type\":\"CDSView\"},{\"attributes\":{\"dimension\":1,\"plot\":{\"id\":\"4f37833e-44b0-4b01-b63b-5aec7979993c\",\"subtype\":\"Figure\",\"type\":\"Plot\"},\"ticker\":{\"id\":\"fb3d472e-24b1-4bb1-8e43-a47da0460084\",\"type\":\"BasicTicker\"}},\"id\":\"bdc5c12c-72a7-46af-97d1-f687330f0c59\",\"type\":\"Grid\"},{\"attributes\":{\"line_alpha\":0.5,\"line_color\":\"#984ea3\",\"line_width\":1.5,\"x\":{\"field\":\"x\"},\"y\":{\"field\":\"y\"}},\"id\":\"95af06ec-76e8-4044-9e03-0b82c5d92f64\",\"type\":\"Line\"},{\"attributes\":{},\"id\":\"cb13b673-6b30-452a-8685-7a4e6011ce68\",\"type\":\"Selection\"},{\"attributes\":{},\"id\":\"edb94f8b-47b8-4a94-857e-617b31ec6d44\",\"type\":\"PanTool\"},{\"attributes\":{},\"id\":\"34f6e9fc-eea2-4a82-91b6-ec2f093a6b52\",\"type\":\"UnionRenderers\"},{\"attributes\":{\"callback\":null,\"data\":{\"x\":{\"__ndarray__\":\"TaCMwxPYRUACRY+MYxdDQGq+lvgF40FA+LCUgX8+QEBGpyrsPT88QGxJOUk9PDdAXufu+pvoMUCdt2spq+MpQNyv11rHGCJAeTDs9yowGkDTb8JzsNkUQBGG6XOGshFAWaFhPOBEDUCvAOLy2o0DQNQkVlkr5vU/xM9YxOl/+j+4A5m8NSwFQO0Ea6WECQtArnzAoaXeEEDqjDdaYhYWQBjP7u7I/R1AUsIrhLfVJEDVFQaKc80qQOuyreEI/SlA0z4tKItPJEAnidJp8kcgQKdnFge/YxtAm5/KCZQEFkA9hnXJ0iYRQLpvzWcr3AtA/OO/niIDCEAzLcCmZsUCQO0M9viA9/k/pzY4cKk28T9PKC9u9lrnP69UkW1Ep9s/tw6jo0KMzD8V66RdIIK/P8kIsE8OFKW/1DMWNIHnyb9GENcKRMSLv9IWcV8ipec/MLbsZkhx9z91ZpnG8RAAQNGmbXt3kgFAThIy5B0CAEA4QN1HhDv+P2XL+8JnG/0/74LGRmVl/D/2Ituzzjf8PyL85lmkVPw/3jx1Hczs+z99h5mR03L7P0rY7s+iCPs/BhvUvj2/+j9gu6ZJaor6P3nzqWJwifo/tPEomF+g+z8TwK7VB4L8P0sFgvHtBP0/Poyk74IE/T/KmTVOTWX8P+VwwEexTvs/bO4du6ge+j+TGDYijgj5P/9wKwqhdvg/WsW9J0ZG+D853NcZkEH4Px14S/j5vfc/xFvwdZyu9j9frRLgf331P+hv8dkCkvQ/6WxZ6/gZ9D/0BtPJvUz0P0B+bBsR9/o/\",\"dtype\":\"float64\",\"shape\":[75]},\"y\":{\"__ndarray__\":\"GhExyth1ND/Sv8nbtpRIP2vylNV0PVE/aTum7souWD/At0SJ8fVgPw3Iuahxymc/MSNhhJWvcD/bTfBN02d3P2zb5nxnaoA/CD5h5MAGhz8NmeH1TyaQP+zrCsc9p5Y/LbKd76fGnz/bLW5ISEmmPww9YvTcQq8/JV2OstnstT8Er5Y7M8G+P0c+r3jqkcU/5h99k6ZBzj88bCIzFzjVP4enV8oyxN0//yH99nXg5D8qOpLLf0jtP5kqGJXUifQ/c9cS8kHP/D+/DpwzojQEQIEmwoanVwxA4lgXt9HgE0BSSZ2AJuIbQAMJih9jjiNA5q4l5INuK0AwTKYKRj0zQNv5fmq8/DpAaCJseHrtQkB/+zpwzoxKQM3MzMzMeFJAZmZmZmZqWEAAAAAAAFxeQM3MzMzMJmJAmpmZmZkfZUBmZmZmZhhoQDMzMzMzEWtAAAAAAAAKbkBmZmZmZoFwQM3MzMzM/XFAMzMzMzN6c0CamZmZmfZ0QAAAAAAAc3ZAZmZmZmbvd0DNzMzMzGt5QDMzMzMz6HpAmpmZmZlkfEAAAAAAAOF9QGZmZmZmXX9AZmZmZuZsgECamZmZGSuBQM3MzMxM6YFAAAAAAICngkAzMzMzs2WDQGZmZmbmI4RAmpmZmRnihEDNzMzMTKCFQAAAAACAXoZAMzMzM7Mch0BmZmZm5tqHQJqZmZkZmYhAzczMzExXiUAAAAAAgBWKQDMzMzOz04pAZmZmZuaRi0CamZmZGVCMQM3MzMxMDo1AAAAAAIDMjUAzMzMzs4qOQGZmZmbmSI9A\",\"dtype\":\"float64\",\"shape\":[75]}},\"selected\":{\"id\":\"0e16179a-5e73-48b6-b3ab-f2f54df90dc9\",\"type\":\"Selection\"},\"selection_policy\":{\"id\":\"c152bce4-06b2-46ca-9e3c-2e8457443351\",\"type\":\"UnionRenderers\"}},\"id\":\"cd957a1b-b9fa-4f42-892a-29bb97d77dce\",\"type\":\"ColumnDataSource\"},{\"attributes\":{\"active_drag\":\"auto\",\"active_inspect\":\"auto\",\"active_scroll\":\"auto\",\"active_tap\":\"auto\",\"tools\":[{\"id\":\"edb94f8b-47b8-4a94-857e-617b31ec6d44\",\"type\":\"PanTool\"},{\"id\":\"54a428a4-e800-46e6-a9bf-2df575e0d0d1\",\"type\":\"WheelZoomTool\"},{\"id\":\"b45e9e3a-df4c-4ab3-bbb3-ea4c0e715446\",\"type\":\"BoxZoomTool\"},{\"id\":\"e566aa40-25e0-4958-aa86-0ab926864d26\",\"type\":\"SaveTool\"},{\"id\":\"6d94811d-aba4-4b00-a413-b7466aba638f\",\"type\":\"ResetTool\"},{\"id\":\"5081994e-0f4c-472e-ada0-6cc0a73b30bf\",\"type\":\"HelpTool\"}]},\"id\":\"735b9a49-e011-4f51-910d-06f0c0885d1c\",\"type\":\"Toolbar\"},{\"attributes\":{\"callback\":null,\"end\":0.01,\"start\":1020},\"id\":\"8d9d7891-9d34-45de-8f43-c0e58dbcd22b\",\"type\":\"Range1d\"},{\"attributes\":{\"callback\":null,\"end\":2.3135974773013004,\"start\":-0.22728810577130001},\"id\":\"74a525dc-d023-4af8-bb38-00e9809392f2\",\"type\":\"Range1d\"},{\"attributes\":{\"label\":{\"value\":\"CLIRAD (single-run)\"},\"renderers\":[{\"id\":\"9aff08ae-1b1f-41e4-a0a3-806afb66deec\",\"type\":\"GlyphRenderer\"}]},\"id\":\"d7c2df89-5938-4272-8ec6-6775d1f9af2b\",\"type\":\"LegendItem\"},{\"attributes\":{\"overlay\":{\"id\":\"ed0d85ed-2797-4738-886e-5f968fa83817\",\"type\":\"BoxAnnotation\"}},\"id\":\"b45e9e3a-df4c-4ab3-bbb3-ea4c0e715446\",\"type\":\"BoxZoomTool\"},{\"attributes\":{},\"id\":\"0d651981-80b9-4f83-9f59-17ed782befb3\",\"type\":\"LinearScale\"}],\"root_ids\":[\"6edf12b7-6b45-4c79-9fb9-6892bdbab337\"]},\"title\":\"Bokeh Application\",\"version\":\"0.12.16\"}};\n",
       "  var render_items = [{\"docid\":\"65e0a5b0-a333-433e-8438-02aae6cf187d\",\"elementid\":\"4715ddd2-9a19-4c8f-8580-20b40feaa0eb\",\"modelid\":\"6edf12b7-6b45-4c79-9fb9-6892bdbab337\"}];\n",
       "  root.Bokeh.embed.embed_items_notebook(docs_json, render_items);\n",
       "\n",
       "  }\n",
       "  if (root.Bokeh !== undefined) {\n",
       "    embed_document(root);\n",
       "  } else {\n",
       "    var attempts = 0;\n",
       "    var timer = setInterval(function(root) {\n",
       "      if (root.Bokeh !== undefined) {\n",
       "        embed_document(root);\n",
       "        clearInterval(timer);\n",
       "      }\n",
       "      attempts++;\n",
       "      if (attempts > 100) {\n",
       "        console.log(\"Bokeh: ERROR: Unable to run BokehJS code because BokehJS library is missing\")\n",
       "        clearInterval(timer);\n",
       "      }\n",
       "    }, 10, root)\n",
       "  }\n",
       "})(window);"
      ],
      "application/vnd.bokehjs_exec.v0+json": ""
     },
     "metadata": {
      "application/vnd.bokehjs_exec.v0+json": {
       "id": "6edf12b7-6b45-4c79-9fb9-6892bdbab337"
      }
     },
     "output_type": "display_data"
    },
    {
     "data": {
      "text/markdown": [
       "*FIGURE.* Cooling rates & difference."
      ],
      "text/plain": [
       "<IPython.core.display.Markdown object>"
      ]
     },
     "metadata": {},
     "output_type": "display_data"
    },
    {
     "data": {
      "text/html": [
       "<a id=\"Fluxes._mls.\"></a>"
      ],
      "text/plain": [
       "<IPython.core.display.HTML object>"
      ]
     },
     "metadata": {},
     "output_type": "display_data"
    },
    {
     "data": {
      "text/markdown": [
       "# Fluxes. mls."
      ],
      "text/plain": [
       "<IPython.core.display.Markdown object>"
      ]
     },
     "metadata": {},
     "output_type": "display_data"
    },
    {
     "data": {
      "text/html": [
       "\n",
       "<div class=\"bk-root\">\n",
       "    <div class=\"bk-plotdiv\" id=\"24f4e5f6-ec5d-4a30-b1ca-548cbceebe91\"></div>\n",
       "</div>"
      ]
     },
     "metadata": {},
     "output_type": "display_data"
    },
    {
     "data": {
      "application/javascript": [
       "(function(root) {\n",
       "  function embed_document(root) {\n",
       "    \n",
       "  var docs_json = {\"c08327ba-1cac-435d-8e1a-ca58f94400b5\":{\"roots\":{\"references\":[{\"attributes\":{},\"id\":\"22416bc9-28d1-4081-b8df-0569c3e3cbfe\",\"type\":\"BasicTickFormatter\"},{\"attributes\":{\"fill_alpha\":{\"value\":0.1},\"fill_color\":{\"value\":\"#1f77b4\"},\"line_alpha\":{\"value\":0.1},\"line_color\":{\"value\":\"#1f77b4\"},\"top\":{\"field\":\"flux\"},\"width\":{\"value\":0.9},\"x\":{\"field\":\"band\"}},\"id\":\"b48745c5-6764-40f5-acf5-330e9ba88552\",\"type\":\"VBar\"},{\"attributes\":{\"fill_alpha\":{\"value\":0.1},\"fill_color\":{\"value\":\"#1f77b4\"},\"line_alpha\":{\"value\":0.1},\"line_color\":{\"value\":\"#1f77b4\"},\"top\":{\"field\":\"flux\"},\"width\":{\"value\":0.9},\"x\":{\"field\":\"band\"}},\"id\":\"11a18004-0135-4df2-b2b2-51dae5697431\",\"type\":\"VBar\"},{\"attributes\":{\"fill_color\":{\"value\":\"#1f77b4\"},\"line_color\":{\"value\":\"#1f77b4\"},\"top\":{\"field\":\"flux\"},\"width\":{\"value\":0.9},\"x\":{\"field\":\"band\"}},\"id\":\"5f18d7f4-4ab7-4486-bfa3-d7707b4243dc\",\"type\":\"VBar\"},{\"attributes\":{},\"id\":\"505cc1b0-e1eb-48a4-814b-8bcf92579a29\",\"type\":\"PanTool\"},{\"attributes\":{\"callback\":null,\"factors\":[\"1\",\"2\",\"3\",\"4\",\"5\",\"6\",\"7\",\"8\",\"9\",\"10\",\"11\"]},\"id\":\"e8193557-980b-4e77-871f-9fae83d0a4c6\",\"type\":\"FactorRange\"},{\"attributes\":{},\"id\":\"7b6ae4ec-4586-4931-9c7c-763e92fe10e7\",\"type\":\"LinearScale\"},{\"attributes\":{},\"id\":\"1be7147c-f8b0-4210-ba75-76be655269ea\",\"type\":\"CategoricalTickFormatter\"},{\"attributes\":{\"callback\":null},\"id\":\"9d4a7c67-6ab4-41e1-a66d-3e68455a6828\",\"type\":\"DataRange1d\"},{\"attributes\":{\"bottom_units\":\"screen\",\"fill_alpha\":{\"value\":0.5},\"fill_color\":{\"value\":\"lightgrey\"},\"left_units\":\"screen\",\"level\":\"overlay\",\"line_alpha\":{\"value\":1.0},\"line_color\":{\"value\":\"black\"},\"line_dash\":[4,4],\"line_width\":{\"value\":2},\"plot\":null,\"render_mode\":\"css\",\"right_units\":\"screen\",\"top_units\":\"screen\"},\"id\":\"3a69f11b-e2fe-4576-8ab4-8398b1e85081\",\"type\":\"BoxAnnotation\"},{\"attributes\":{},\"id\":\"d2cff618-5fd2-4ff9-a156-19ed14f0b36b\",\"type\":\"LinearScale\"},{\"attributes\":{},\"id\":\"72fe735c-033b-4642-ac26-6f269dcbbd85\",\"type\":\"CategoricalTickFormatter\"},{\"attributes\":{\"callback\":null,\"factors\":[\"1\",\"2\",\"3\",\"4\",\"5\",\"6\",\"7\",\"8\",\"9\",\"10\",\"11\"]},\"id\":\"69c42ab8-8964-40ac-bd83-2120ff6449f2\",\"type\":\"FactorRange\"},{\"attributes\":{},\"id\":\"e31d15cd-40c9-4515-9726-87885ef3311b\",\"type\":\"PanTool\"},{\"attributes\":{\"below\":[{\"id\":\"19190fbc-bf54-49d4-9f68-4d218ba6e82d\",\"type\":\"CategoricalAxis\"}],\"left\":[{\"id\":\"633d2a6f-2332-4867-997d-de0363c5206d\",\"type\":\"LinearAxis\"}],\"plot_height\":300,\"plot_width\":300,\"renderers\":[{\"id\":\"19190fbc-bf54-49d4-9f68-4d218ba6e82d\",\"type\":\"CategoricalAxis\"},{\"id\":\"c6175dd4-9982-4d23-ba14-1307aecad222\",\"type\":\"Grid\"},{\"id\":\"633d2a6f-2332-4867-997d-de0363c5206d\",\"type\":\"LinearAxis\"},{\"id\":\"f538bf5b-7463-4408-a3f0-23ce964d113d\",\"type\":\"Grid\"},{\"id\":\"103b8f1a-48e5-4699-a2d6-0ece93a88054\",\"type\":\"BoxAnnotation\"},{\"id\":\"a3d5715a-2013-4e38-ad13-7a14a866e89e\",\"type\":\"GlyphRenderer\"}],\"title\":{\"id\":\"88760a4e-25ec-4c85-99f2-c2a6621e0d25\",\"type\":\"Title\"},\"toolbar\":{\"id\":\"1346bdbb-5fd7-4fc9-b033-2c127a05d1df\",\"type\":\"Toolbar\"},\"toolbar_location\":null,\"x_range\":{\"id\":\"f077a4d2-e974-4913-9318-bc30d40de33c\",\"type\":\"FactorRange\"},\"x_scale\":{\"id\":\"77c1f445-20cd-4c71-877d-038953e3bec6\",\"type\":\"CategoricalScale\"},\"y_range\":{\"id\":\"9d7034f3-675d-4ef7-9d5e-ea308a4e5a69\",\"type\":\"DataRange1d\"},\"y_scale\":{\"id\":\"ce76add4-6027-4145-b949-e7ebb30c0126\",\"type\":\"LinearScale\"}},\"id\":\"15ec9a52-692d-4621-a57c-9a5351677152\",\"subtype\":\"Figure\",\"type\":\"Plot\"},{\"attributes\":{\"axis_label\":\"flux (W m-2)\",\"formatter\":{\"id\":\"a154e3b4-f456-49e9-9f28-2b69bea3dd28\",\"type\":\"BasicTickFormatter\"},\"plot\":{\"id\":\"9acba39f-02de-4964-8a91-d08fa948d7d5\",\"subtype\":\"Figure\",\"type\":\"Plot\"},\"ticker\":{\"id\":\"444a4973-360c-4855-908f-7143a80fa463\",\"type\":\"BasicTicker\"}},\"id\":\"67613868-739d-42b2-9c3e-5b34b96d717e\",\"type\":\"LinearAxis\"},{\"attributes\":{},\"id\":\"9699158f-bed9-4b0a-b834-bc4f6ef0b314\",\"type\":\"CategoricalScale\"},{\"attributes\":{\"axis_label\":\"flux (W m-2)\",\"formatter\":{\"id\":\"22416bc9-28d1-4081-b8df-0569c3e3cbfe\",\"type\":\"BasicTickFormatter\"},\"plot\":{\"id\":\"8d7e8e81-1388-4cfb-9241-3491957a1442\",\"subtype\":\"Figure\",\"type\":\"Plot\"},\"ticker\":{\"id\":\"507cad4b-1349-404d-ba43-94f52b3b55cf\",\"type\":\"BasicTicker\"}},\"id\":\"cccbe3e2-614f-49ab-916c-a41dd8f00d6a\",\"type\":\"LinearAxis\"},{\"attributes\":{\"fill_color\":{\"value\":\"#1f77b4\"},\"line_color\":{\"value\":\"#1f77b4\"},\"top\":{\"field\":\"flux\"},\"width\":{\"value\":0.9},\"x\":{\"field\":\"band\"}},\"id\":\"53696bbe-1a94-45d4-8a56-b19bfbd51a42\",\"type\":\"VBar\"},{\"attributes\":{\"active_drag\":\"auto\",\"active_inspect\":\"auto\",\"active_scroll\":\"auto\",\"active_tap\":\"auto\",\"tools\":[{\"id\":\"505cc1b0-e1eb-48a4-814b-8bcf92579a29\",\"type\":\"PanTool\"},{\"id\":\"93f3e1af-128b-48bd-80c6-23092aa9d4ff\",\"type\":\"WheelZoomTool\"},{\"id\":\"2ada4214-5eb9-4152-8e25-09e532af3d6b\",\"type\":\"BoxZoomTool\"},{\"id\":\"503b4b05-82c4-45dd-acbf-dafdb4f708af\",\"type\":\"SaveTool\"},{\"id\":\"27adc093-32b5-40f5-b395-45e136ca9af1\",\"type\":\"ResetTool\"},{\"id\":\"9576b3cb-37a7-4987-b525-aad7d2d1f015\",\"type\":\"HelpTool\"}]},\"id\":\"9bcbf9bc-a7f6-415b-945e-fcea11b4ac9b\",\"type\":\"Toolbar\"},{\"attributes\":{\"dimension\":1,\"plot\":{\"id\":\"8d7e8e81-1388-4cfb-9241-3491957a1442\",\"subtype\":\"Figure\",\"type\":\"Plot\"},\"ticker\":{\"id\":\"507cad4b-1349-404d-ba43-94f52b3b55cf\",\"type\":\"BasicTicker\"}},\"id\":\"3d2c7154-e2d4-424a-908f-a891e0256c95\",\"type\":\"Grid\"},{\"attributes\":{\"dimension\":1,\"plot\":{\"id\":\"9acba39f-02de-4964-8a91-d08fa948d7d5\",\"subtype\":\"Figure\",\"type\":\"Plot\"},\"ticker\":{\"id\":\"444a4973-360c-4855-908f-7143a80fa463\",\"type\":\"BasicTicker\"}},\"id\":\"9632f900-cc8a-440b-b84f-866aaf68a1d8\",\"type\":\"Grid\"},{\"attributes\":{\"data_source\":{\"id\":\"7899162b-23f0-4a98-9fb9-da369e8a4236\",\"type\":\"ColumnDataSource\"},\"glyph\":{\"id\":\"53696bbe-1a94-45d4-8a56-b19bfbd51a42\",\"type\":\"VBar\"},\"hover_glyph\":null,\"muted_glyph\":null,\"nonselection_glyph\":{\"id\":\"11a18004-0135-4df2-b2b2-51dae5697431\",\"type\":\"VBar\"},\"selection_glyph\":null,\"view\":{\"id\":\"6a8d28ea-6a46-4b5c-bc16-35dbb0c3e65a\",\"type\":\"CDSView\"}},\"id\":\"52c5b2e2-ece1-4663-9896-9c1aab9eec21\",\"type\":\"GlyphRenderer\"},{\"attributes\":{\"data_source\":{\"id\":\"eef8176e-cde3-4a33-9d85-cf537211828f\",\"type\":\"ColumnDataSource\"},\"glyph\":{\"id\":\"5f18d7f4-4ab7-4486-bfa3-d7707b4243dc\",\"type\":\"VBar\"},\"hover_glyph\":null,\"muted_glyph\":null,\"nonselection_glyph\":{\"id\":\"b48745c5-6764-40f5-acf5-330e9ba88552\",\"type\":\"VBar\"},\"selection_glyph\":null,\"view\":{\"id\":\"0fb7c4d9-207d-4255-8042-dbcbd5e21de2\",\"type\":\"CDSView\"}},\"id\":\"c8855a4e-9047-4956-a3c2-fc1ceaa2061c\",\"type\":\"GlyphRenderer\"},{\"attributes\":{\"overlay\":{\"id\":\"3a69f11b-e2fe-4576-8ab4-8398b1e85081\",\"type\":\"BoxAnnotation\"}},\"id\":\"2ada4214-5eb9-4152-8e25-09e532af3d6b\",\"type\":\"BoxZoomTool\"},{\"attributes\":{\"children\":[{\"id\":\"15ec9a52-692d-4621-a57c-9a5351677152\",\"subtype\":\"Figure\",\"type\":\"Plot\"},{\"id\":\"9acba39f-02de-4964-8a91-d08fa948d7d5\",\"subtype\":\"Figure\",\"type\":\"Plot\"},{\"id\":\"8d7e8e81-1388-4cfb-9241-3491957a1442\",\"subtype\":\"Figure\",\"type\":\"Plot\"}]},\"id\":\"602bc191-bfc7-406e-a8c0-4ccc2415a609\",\"type\":\"Row\"},{\"attributes\":{},\"id\":\"8c3f33e1-e006-40cf-9680-14eef5700487\",\"type\":\"SaveTool\"},{\"attributes\":{\"plot\":{\"id\":\"9acba39f-02de-4964-8a91-d08fa948d7d5\",\"subtype\":\"Figure\",\"type\":\"Plot\"},\"ticker\":{\"id\":\"235267e3-4944-4bcb-83a0-6f561d5c4595\",\"type\":\"CategoricalTicker\"}},\"id\":\"f3f4538e-478d-4631-8044-f76ee1aa1711\",\"type\":\"Grid\"},{\"attributes\":{\"plot\":null,\"text\":\"Atmosphere heating. CLIRAD (single-run) - CRD.\"},\"id\":\"8ec6c507-632a-4734-a729-0323f80a301b\",\"type\":\"Title\"},{\"attributes\":{},\"id\":\"828fc712-c9b2-4272-b0e0-5527eb45f951\",\"type\":\"CategoricalTicker\"},{\"attributes\":{\"axis_label\":\"spectral band\",\"formatter\":{\"id\":\"3633df55-fac7-4708-80f6-8077eefbd7dd\",\"type\":\"CategoricalTickFormatter\"},\"plot\":{\"id\":\"9acba39f-02de-4964-8a91-d08fa948d7d5\",\"subtype\":\"Figure\",\"type\":\"Plot\"},\"ticker\":{\"id\":\"235267e3-4944-4bcb-83a0-6f561d5c4595\",\"type\":\"CategoricalTicker\"}},\"id\":\"ed3d7799-88e3-47ce-b862-44c5c952ad49\",\"type\":\"CategoricalAxis\"},{\"attributes\":{},\"id\":\"de5cf48c-5c00-49f0-acbc-7132f47e16fc\",\"type\":\"UnionRenderers\"},{\"attributes\":{},\"id\":\"c9712e2e-11c7-4d3f-82a0-650445e5792f\",\"type\":\"ResetTool\"},{\"attributes\":{},\"id\":\"507cad4b-1349-404d-ba43-94f52b3b55cf\",\"type\":\"BasicTicker\"},{\"attributes\":{\"fill_color\":{\"value\":\"#1f77b4\"},\"line_color\":{\"value\":\"#1f77b4\"},\"top\":{\"field\":\"flux\"},\"width\":{\"value\":0.9},\"x\":{\"field\":\"band\"}},\"id\":\"04f10db4-4dd6-4a2c-a203-7e340116e862\",\"type\":\"VBar\"},{\"attributes\":{},\"id\":\"23afcfba-0a12-45ce-9151-65dbd89f1f1e\",\"type\":\"WheelZoomTool\"},{\"attributes\":{\"source\":{\"id\":\"eef8176e-cde3-4a33-9d85-cf537211828f\",\"type\":\"ColumnDataSource\"}},\"id\":\"0fb7c4d9-207d-4255-8042-dbcbd5e21de2\",\"type\":\"CDSView\"},{\"attributes\":{},\"id\":\"7070675a-41ae-4eb4-924b-1090147bdc8a\",\"type\":\"Selection\"},{\"attributes\":{\"active_drag\":\"auto\",\"active_inspect\":\"auto\",\"active_scroll\":\"auto\",\"active_tap\":\"auto\",\"tools\":[{\"id\":\"e31d15cd-40c9-4515-9726-87885ef3311b\",\"type\":\"PanTool\"},{\"id\":\"23afcfba-0a12-45ce-9151-65dbd89f1f1e\",\"type\":\"WheelZoomTool\"},{\"id\":\"e723bd3d-a8d0-43ba-a283-eacdf587e076\",\"type\":\"BoxZoomTool\"},{\"id\":\"8c3f33e1-e006-40cf-9680-14eef5700487\",\"type\":\"SaveTool\"},{\"id\":\"c9712e2e-11c7-4d3f-82a0-650445e5792f\",\"type\":\"ResetTool\"},{\"id\":\"98ebe345-6b82-4f91-98e9-afa298ef94ab\",\"type\":\"HelpTool\"}]},\"id\":\"45583a9e-4db7-4feb-b462-de733aa545c3\",\"type\":\"Toolbar\"},{\"attributes\":{},\"id\":\"27adc093-32b5-40f5-b395-45e136ca9af1\",\"type\":\"ResetTool\"},{\"attributes\":{},\"id\":\"896eb238-da38-475f-b4a3-901ec969ceab\",\"type\":\"BasicTickFormatter\"},{\"attributes\":{},\"id\":\"235267e3-4944-4bcb-83a0-6f561d5c4595\",\"type\":\"CategoricalTicker\"},{\"attributes\":{\"overlay\":{\"id\":\"23c5a0ca-bb6e-4dfc-997e-cee93688d50d\",\"type\":\"BoxAnnotation\"}},\"id\":\"e723bd3d-a8d0-43ba-a283-eacdf587e076\",\"type\":\"BoxZoomTool\"},{\"attributes\":{\"below\":[{\"id\":\"493e14e5-1725-4751-95cc-8bd5f460d68a\",\"type\":\"CategoricalAxis\"}],\"left\":[{\"id\":\"cccbe3e2-614f-49ab-916c-a41dd8f00d6a\",\"type\":\"LinearAxis\"}],\"plot_height\":300,\"plot_width\":300,\"renderers\":[{\"id\":\"493e14e5-1725-4751-95cc-8bd5f460d68a\",\"type\":\"CategoricalAxis\"},{\"id\":\"8e09ace3-48f9-4d55-bdcb-153be9e55c75\",\"type\":\"Grid\"},{\"id\":\"cccbe3e2-614f-49ab-916c-a41dd8f00d6a\",\"type\":\"LinearAxis\"},{\"id\":\"3d2c7154-e2d4-424a-908f-a891e0256c95\",\"type\":\"Grid\"},{\"id\":\"3a69f11b-e2fe-4576-8ab4-8398b1e85081\",\"type\":\"BoxAnnotation\"},{\"id\":\"c8855a4e-9047-4956-a3c2-fc1ceaa2061c\",\"type\":\"GlyphRenderer\"}],\"title\":{\"id\":\"8ec6c507-632a-4734-a729-0323f80a301b\",\"type\":\"Title\"},\"toolbar\":{\"id\":\"9bcbf9bc-a7f6-415b-945e-fcea11b4ac9b\",\"type\":\"Toolbar\"},\"toolbar_location\":null,\"x_range\":{\"id\":\"69c42ab8-8964-40ac-bd83-2120ff6449f2\",\"type\":\"FactorRange\"},\"x_scale\":{\"id\":\"9699158f-bed9-4b0a-b834-bc4f6ef0b314\",\"type\":\"CategoricalScale\"},\"y_range\":{\"id\":\"9d4a7c67-6ab4-41e1-a66d-3e68455a6828\",\"type\":\"DataRange1d\"},\"y_scale\":{\"id\":\"d2cff618-5fd2-4ff9-a156-19ed14f0b36b\",\"type\":\"LinearScale\"}},\"id\":\"8d7e8e81-1388-4cfb-9241-3491957a1442\",\"subtype\":\"Figure\",\"type\":\"Plot\"},{\"attributes\":{\"callback\":null},\"id\":\"18417310-0375-4d92-9ec7-1834e26b4dd5\",\"type\":\"DataRange1d\"},{\"attributes\":{\"axis_label\":\"spectral band\",\"formatter\":{\"id\":\"72fe735c-033b-4642-ac26-6f269dcbbd85\",\"type\":\"CategoricalTickFormatter\"},\"plot\":{\"id\":\"8d7e8e81-1388-4cfb-9241-3491957a1442\",\"subtype\":\"Figure\",\"type\":\"Plot\"},\"ticker\":{\"id\":\"828fc712-c9b2-4272-b0e0-5527eb45f951\",\"type\":\"CategoricalTicker\"}},\"id\":\"493e14e5-1725-4751-95cc-8bd5f460d68a\",\"type\":\"CategoricalAxis\"},{\"attributes\":{},\"id\":\"503b4b05-82c4-45dd-acbf-dafdb4f708af\",\"type\":\"SaveTool\"},{\"attributes\":{},\"id\":\"444a4973-360c-4855-908f-7143a80fa463\",\"type\":\"BasicTicker\"},{\"attributes\":{\"plot\":{\"id\":\"8d7e8e81-1388-4cfb-9241-3491957a1442\",\"subtype\":\"Figure\",\"type\":\"Plot\"},\"ticker\":{\"id\":\"828fc712-c9b2-4272-b0e0-5527eb45f951\",\"type\":\"CategoricalTicker\"}},\"id\":\"8e09ace3-48f9-4d55-bdcb-153be9e55c75\",\"type\":\"Grid\"},{\"attributes\":{},\"id\":\"9576b3cb-37a7-4987-b525-aad7d2d1f015\",\"type\":\"HelpTool\"},{\"attributes\":{\"children\":[{\"id\":\"602bc191-bfc7-406e-a8c0-4ccc2415a609\",\"type\":\"Row\"}]},\"id\":\"493f2c5b-224f-4dd7-8d1e-76854f8148c4\",\"type\":\"Column\"},{\"attributes\":{},\"id\":\"93f3e1af-128b-48bd-80c6-23092aa9d4ff\",\"type\":\"WheelZoomTool\"},{\"attributes\":{\"plot\":null,\"text\":\"SFC flux. CLIRAD (single-run) - CRD.\"},\"id\":\"90dbd3d3-1da4-45fb-b3e2-15710fe58788\",\"type\":\"Title\"},{\"attributes\":{},\"id\":\"e81f68b2-f7dd-4487-b328-ca45d28b3dac\",\"type\":\"CategoricalScale\"},{\"attributes\":{},\"id\":\"98ebe345-6b82-4f91-98e9-afa298ef94ab\",\"type\":\"HelpTool\"},{\"attributes\":{},\"id\":\"a15447bd-9071-41e2-920b-9917157b725f\",\"type\":\"PanTool\"},{\"attributes\":{\"axis_label\":\"flux (W m-2)\",\"formatter\":{\"id\":\"896eb238-da38-475f-b4a3-901ec969ceab\",\"type\":\"BasicTickFormatter\"},\"plot\":{\"id\":\"15ec9a52-692d-4621-a57c-9a5351677152\",\"subtype\":\"Figure\",\"type\":\"Plot\"},\"ticker\":{\"id\":\"214d7578-bef9-4872-90f3-f3c7230909ff\",\"type\":\"BasicTicker\"}},\"id\":\"633d2a6f-2332-4867-997d-de0363c5206d\",\"type\":\"LinearAxis\"},{\"attributes\":{\"plot\":{\"id\":\"15ec9a52-692d-4621-a57c-9a5351677152\",\"subtype\":\"Figure\",\"type\":\"Plot\"},\"ticker\":{\"id\":\"8f172603-2d69-4012-a4dc-7dc3c7f74361\",\"type\":\"CategoricalTicker\"}},\"id\":\"c6175dd4-9982-4d23-ba14-1307aecad222\",\"type\":\"Grid\"},{\"attributes\":{\"axis_label\":\"spectral band\",\"formatter\":{\"id\":\"1be7147c-f8b0-4210-ba75-76be655269ea\",\"type\":\"CategoricalTickFormatter\"},\"plot\":{\"id\":\"15ec9a52-692d-4621-a57c-9a5351677152\",\"subtype\":\"Figure\",\"type\":\"Plot\"},\"ticker\":{\"id\":\"8f172603-2d69-4012-a4dc-7dc3c7f74361\",\"type\":\"CategoricalTicker\"}},\"id\":\"19190fbc-bf54-49d4-9f68-4d218ba6e82d\",\"type\":\"CategoricalAxis\"},{\"attributes\":{},\"id\":\"a154e3b4-f456-49e9-9f28-2b69bea3dd28\",\"type\":\"BasicTickFormatter\"},{\"attributes\":{},\"id\":\"41ca7fbe-7647-469a-a7a4-c41ee5c72fd0\",\"type\":\"HelpTool\"},{\"attributes\":{\"below\":[{\"id\":\"ed3d7799-88e3-47ce-b862-44c5c952ad49\",\"type\":\"CategoricalAxis\"}],\"left\":[{\"id\":\"67613868-739d-42b2-9c3e-5b34b96d717e\",\"type\":\"LinearAxis\"}],\"plot_height\":300,\"plot_width\":300,\"renderers\":[{\"id\":\"ed3d7799-88e3-47ce-b862-44c5c952ad49\",\"type\":\"CategoricalAxis\"},{\"id\":\"f3f4538e-478d-4631-8044-f76ee1aa1711\",\"type\":\"Grid\"},{\"id\":\"67613868-739d-42b2-9c3e-5b34b96d717e\",\"type\":\"LinearAxis\"},{\"id\":\"9632f900-cc8a-440b-b84f-866aaf68a1d8\",\"type\":\"Grid\"},{\"id\":\"23c5a0ca-bb6e-4dfc-997e-cee93688d50d\",\"type\":\"BoxAnnotation\"},{\"id\":\"52c5b2e2-ece1-4663-9896-9c1aab9eec21\",\"type\":\"GlyphRenderer\"}],\"title\":{\"id\":\"90dbd3d3-1da4-45fb-b3e2-15710fe58788\",\"type\":\"Title\"},\"toolbar\":{\"id\":\"45583a9e-4db7-4feb-b462-de733aa545c3\",\"type\":\"Toolbar\"},\"toolbar_location\":null,\"x_range\":{\"id\":\"e8193557-980b-4e77-871f-9fae83d0a4c6\",\"type\":\"FactorRange\"},\"x_scale\":{\"id\":\"e81f68b2-f7dd-4487-b328-ca45d28b3dac\",\"type\":\"CategoricalScale\"},\"y_range\":{\"id\":\"18417310-0375-4d92-9ec7-1834e26b4dd5\",\"type\":\"DataRange1d\"},\"y_scale\":{\"id\":\"7b6ae4ec-4586-4931-9c7c-763e92fe10e7\",\"type\":\"LinearScale\"}},\"id\":\"9acba39f-02de-4964-8a91-d08fa948d7d5\",\"subtype\":\"Figure\",\"type\":\"Plot\"},{\"attributes\":{},\"id\":\"a9a8d9d9-58e6-4732-bd95-324bb7664cfc\",\"type\":\"UnionRenderers\"},{\"attributes\":{\"tools\":[{\"id\":\"a15447bd-9071-41e2-920b-9917157b725f\",\"type\":\"PanTool\"},{\"id\":\"283dea4a-0c07-4dc8-b103-c13bbd282269\",\"type\":\"WheelZoomTool\"},{\"id\":\"90d910a1-e96e-4eef-8aa4-19d4b460aec8\",\"type\":\"BoxZoomTool\"},{\"id\":\"9b447e99-fae9-4ce7-ab72-117dffb05767\",\"type\":\"SaveTool\"},{\"id\":\"eaf4304c-d15b-45c0-b09e-350d85a3f6fa\",\"type\":\"ResetTool\"},{\"id\":\"41ca7fbe-7647-469a-a7a4-c41ee5c72fd0\",\"type\":\"HelpTool\"},{\"id\":\"e31d15cd-40c9-4515-9726-87885ef3311b\",\"type\":\"PanTool\"},{\"id\":\"23afcfba-0a12-45ce-9151-65dbd89f1f1e\",\"type\":\"WheelZoomTool\"},{\"id\":\"e723bd3d-a8d0-43ba-a283-eacdf587e076\",\"type\":\"BoxZoomTool\"},{\"id\":\"8c3f33e1-e006-40cf-9680-14eef5700487\",\"type\":\"SaveTool\"},{\"id\":\"c9712e2e-11c7-4d3f-82a0-650445e5792f\",\"type\":\"ResetTool\"},{\"id\":\"98ebe345-6b82-4f91-98e9-afa298ef94ab\",\"type\":\"HelpTool\"},{\"id\":\"505cc1b0-e1eb-48a4-814b-8bcf92579a29\",\"type\":\"PanTool\"},{\"id\":\"93f3e1af-128b-48bd-80c6-23092aa9d4ff\",\"type\":\"WheelZoomTool\"},{\"id\":\"2ada4214-5eb9-4152-8e25-09e532af3d6b\",\"type\":\"BoxZoomTool\"},{\"id\":\"503b4b05-82c4-45dd-acbf-dafdb4f708af\",\"type\":\"SaveTool\"},{\"id\":\"27adc093-32b5-40f5-b395-45e136ca9af1\",\"type\":\"ResetTool\"},{\"id\":\"9576b3cb-37a7-4987-b525-aad7d2d1f015\",\"type\":\"HelpTool\"}]},\"id\":\"9b247aee-4f0b-49f9-8adf-f003bf8d29c4\",\"type\":\"ProxyToolbar\"},{\"attributes\":{\"dimension\":1,\"plot\":{\"id\":\"15ec9a52-692d-4621-a57c-9a5351677152\",\"subtype\":\"Figure\",\"type\":\"Plot\"},\"ticker\":{\"id\":\"214d7578-bef9-4872-90f3-f3c7230909ff\",\"type\":\"BasicTicker\"}},\"id\":\"f538bf5b-7463-4408-a3f0-23ce964d113d\",\"type\":\"Grid\"},{\"attributes\":{\"plot\":null,\"text\":\"TOA flux. CLIRAD (single-run) - CRD.\"},\"id\":\"88760a4e-25ec-4c85-99f2-c2a6621e0d25\",\"type\":\"Title\"},{\"attributes\":{\"active_drag\":\"auto\",\"active_inspect\":\"auto\",\"active_scroll\":\"auto\",\"active_tap\":\"auto\",\"tools\":[{\"id\":\"a15447bd-9071-41e2-920b-9917157b725f\",\"type\":\"PanTool\"},{\"id\":\"283dea4a-0c07-4dc8-b103-c13bbd282269\",\"type\":\"WheelZoomTool\"},{\"id\":\"90d910a1-e96e-4eef-8aa4-19d4b460aec8\",\"type\":\"BoxZoomTool\"},{\"id\":\"9b447e99-fae9-4ce7-ab72-117dffb05767\",\"type\":\"SaveTool\"},{\"id\":\"eaf4304c-d15b-45c0-b09e-350d85a3f6fa\",\"type\":\"ResetTool\"},{\"id\":\"41ca7fbe-7647-469a-a7a4-c41ee5c72fd0\",\"type\":\"HelpTool\"}]},\"id\":\"1346bdbb-5fd7-4fc9-b033-2c127a05d1df\",\"type\":\"Toolbar\"},{\"attributes\":{\"callback\":null},\"id\":\"9d7034f3-675d-4ef7-9d5e-ea308a4e5a69\",\"type\":\"DataRange1d\"},{\"attributes\":{\"callback\":null,\"data\":{\"band\":[\"1\",\"2\",\"3\",\"4\",\"5\",\"6\",\"7\",\"8\",\"9\",\"10\",\"11\"],\"flux\":{\"__ndarray__\":\"AAAAAyUF9r4AgsR29wDYPwC4H/DAANO/ANyul6YIsD+Ajh6/t+nfPwB0ImabwLM/ALE8WXvplz9ANwHhnkLAP4A0KnCyDcY/AKBF71TAjT8AcGzRXW2APw==\",\"dtype\":\"float64\",\"shape\":[11]}},\"selected\":{\"id\":\"593af662-4176-4705-8c21-6895e78c2195\",\"type\":\"Selection\"},\"selection_policy\":{\"id\":\"a9a8d9d9-58e6-4732-bd95-324bb7664cfc\",\"type\":\"UnionRenderers\"}},\"id\":\"7899162b-23f0-4a98-9fb9-da369e8a4236\",\"type\":\"ColumnDataSource\"},{\"attributes\":{},\"id\":\"3633df55-fac7-4708-80f6-8077eefbd7dd\",\"type\":\"CategoricalTickFormatter\"},{\"attributes\":{\"bottom_units\":\"screen\",\"fill_alpha\":{\"value\":0.5},\"fill_color\":{\"value\":\"lightgrey\"},\"left_units\":\"screen\",\"level\":\"overlay\",\"line_alpha\":{\"value\":1.0},\"line_color\":{\"value\":\"black\"},\"line_dash\":[4,4],\"line_width\":{\"value\":2},\"plot\":null,\"render_mode\":\"css\",\"right_units\":\"screen\",\"top_units\":\"screen\"},\"id\":\"103b8f1a-48e5-4699-a2d6-0ece93a88054\",\"type\":\"BoxAnnotation\"},{\"attributes\":{},\"id\":\"77c1f445-20cd-4c71-877d-038953e3bec6\",\"type\":\"CategoricalScale\"},{\"attributes\":{\"source\":{\"id\":\"7899162b-23f0-4a98-9fb9-da369e8a4236\",\"type\":\"ColumnDataSource\"}},\"id\":\"6a8d28ea-6a46-4b5c-bc16-35dbb0c3e65a\",\"type\":\"CDSView\"},{\"attributes\":{\"data_source\":{\"id\":\"22a893db-1234-4c38-85c2-b49e4878b8db\",\"type\":\"ColumnDataSource\"},\"glyph\":{\"id\":\"04f10db4-4dd6-4a2c-a203-7e340116e862\",\"type\":\"VBar\"},\"hover_glyph\":null,\"muted_glyph\":null,\"nonselection_glyph\":{\"id\":\"5cf4450d-4b9d-49bb-89b7-b39c22afdaa3\",\"type\":\"VBar\"},\"selection_glyph\":null,\"view\":{\"id\":\"b9c707f3-59bd-44af-93ab-30cdfb582ccc\",\"type\":\"CDSView\"}},\"id\":\"a3d5715a-2013-4e38-ad13-7a14a866e89e\",\"type\":\"GlyphRenderer\"},{\"attributes\":{},\"id\":\"ce76add4-6027-4145-b949-e7ebb30c0126\",\"type\":\"LinearScale\"},{\"attributes\":{\"callback\":null,\"data\":{\"band\":[\"1\",\"2\",\"3\",\"4\",\"5\",\"6\",\"7\",\"8\",\"9\",\"10\",\"11\"],\"flux\":{\"__ndarray__\":\"AIMde81dyD8AYEI3wVi1vwBYNyirM4i/ANGnfnO5zj9A+KOoM/fOvwBuLCgMysK/AHAlOzYC1z8A/DIYIxK1P8BJ06BoHsi/QL8FwBXcvT8AZ1U6DnKtPw==\",\"dtype\":\"float64\",\"shape\":[11]}},\"selected\":{\"id\":\"4abcf728-97fa-4bb5-bacc-77a5ce26aee0\",\"type\":\"Selection\"},\"selection_policy\":{\"id\":\"e390ab13-db3c-4ae5-b0a7-8ce68596307e\",\"type\":\"UnionRenderers\"}},\"id\":\"eef8176e-cde3-4a33-9d85-cf537211828f\",\"type\":\"ColumnDataSource\"},{\"attributes\":{},\"id\":\"e390ab13-db3c-4ae5-b0a7-8ce68596307e\",\"type\":\"UnionRenderers\"},{\"attributes\":{},\"id\":\"8f172603-2d69-4012-a4dc-7dc3c7f74361\",\"type\":\"CategoricalTicker\"},{\"attributes\":{},\"id\":\"eaf4304c-d15b-45c0-b09e-350d85a3f6fa\",\"type\":\"ResetTool\"},{\"attributes\":{\"overlay\":{\"id\":\"103b8f1a-48e5-4699-a2d6-0ece93a88054\",\"type\":\"BoxAnnotation\"}},\"id\":\"90d910a1-e96e-4eef-8aa4-19d4b460aec8\",\"type\":\"BoxZoomTool\"},{\"attributes\":{\"children\":[{\"id\":\"a4f6acb0-ca4f-42c5-98b7-ee8dd193664f\",\"type\":\"ToolbarBox\"},{\"id\":\"493f2c5b-224f-4dd7-8d1e-76854f8148c4\",\"type\":\"Column\"}]},\"id\":\"e70a0374-ad80-49c2-af27-0aaee1d1fc7e\",\"type\":\"Column\"},{\"attributes\":{\"bottom_units\":\"screen\",\"fill_alpha\":{\"value\":0.5},\"fill_color\":{\"value\":\"lightgrey\"},\"left_units\":\"screen\",\"level\":\"overlay\",\"line_alpha\":{\"value\":1.0},\"line_color\":{\"value\":\"black\"},\"line_dash\":[4,4],\"line_width\":{\"value\":2},\"plot\":null,\"render_mode\":\"css\",\"right_units\":\"screen\",\"top_units\":\"screen\"},\"id\":\"23c5a0ca-bb6e-4dfc-997e-cee93688d50d\",\"type\":\"BoxAnnotation\"},{\"attributes\":{},\"id\":\"593af662-4176-4705-8c21-6895e78c2195\",\"type\":\"Selection\"},{\"attributes\":{},\"id\":\"283dea4a-0c07-4dc8-b103-c13bbd282269\",\"type\":\"WheelZoomTool\"},{\"attributes\":{\"toolbar\":{\"id\":\"9b247aee-4f0b-49f9-8adf-f003bf8d29c4\",\"type\":\"ProxyToolbar\"},\"toolbar_location\":\"above\"},\"id\":\"a4f6acb0-ca4f-42c5-98b7-ee8dd193664f\",\"type\":\"ToolbarBox\"},{\"attributes\":{\"callback\":null,\"factors\":[\"1\",\"2\",\"3\",\"4\",\"5\",\"6\",\"7\",\"8\",\"9\",\"10\",\"11\"]},\"id\":\"f077a4d2-e974-4913-9318-bc30d40de33c\",\"type\":\"FactorRange\"},{\"attributes\":{\"source\":{\"id\":\"22a893db-1234-4c38-85c2-b49e4878b8db\",\"type\":\"ColumnDataSource\"}},\"id\":\"b9c707f3-59bd-44af-93ab-30cdfb582ccc\",\"type\":\"CDSView\"},{\"attributes\":{\"callback\":null,\"data\":{\"band\":[\"1\",\"2\",\"3\",\"4\",\"5\",\"6\",\"7\",\"8\",\"9\",\"10\",\"11\"],\"flux\":{\"__ndarray__\":\"AEILCRhdyD+AzEHQ0arSP0DMe5xpwtO/gGStodRe0z/ASgaAKm7QPwBwl/2607G/QKz+CMOA2D8AUN8yp8vKPwC2wvS9hpC/YNQ5UPHJwD9AvtXft8awPw==\",\"dtype\":\"float64\",\"shape\":[11]}},\"selected\":{\"id\":\"7070675a-41ae-4eb4-924b-1090147bdc8a\",\"type\":\"Selection\"},\"selection_policy\":{\"id\":\"de5cf48c-5c00-49f0-acbc-7132f47e16fc\",\"type\":\"UnionRenderers\"}},\"id\":\"22a893db-1234-4c38-85c2-b49e4878b8db\",\"type\":\"ColumnDataSource\"},{\"attributes\":{},\"id\":\"4abcf728-97fa-4bb5-bacc-77a5ce26aee0\",\"type\":\"Selection\"},{\"attributes\":{},\"id\":\"214d7578-bef9-4872-90f3-f3c7230909ff\",\"type\":\"BasicTicker\"},{\"attributes\":{\"fill_alpha\":{\"value\":0.1},\"fill_color\":{\"value\":\"#1f77b4\"},\"line_alpha\":{\"value\":0.1},\"line_color\":{\"value\":\"#1f77b4\"},\"top\":{\"field\":\"flux\"},\"width\":{\"value\":0.9},\"x\":{\"field\":\"band\"}},\"id\":\"5cf4450d-4b9d-49bb-89b7-b39c22afdaa3\",\"type\":\"VBar\"},{\"attributes\":{},\"id\":\"9b447e99-fae9-4ce7-ab72-117dffb05767\",\"type\":\"SaveTool\"}],\"root_ids\":[\"e70a0374-ad80-49c2-af27-0aaee1d1fc7e\"]},\"title\":\"Bokeh Application\",\"version\":\"0.12.16\"}};\n",
       "  var render_items = [{\"docid\":\"c08327ba-1cac-435d-8e1a-ca58f94400b5\",\"elementid\":\"24f4e5f6-ec5d-4a30-b1ca-548cbceebe91\",\"modelid\":\"e70a0374-ad80-49c2-af27-0aaee1d1fc7e\"}];\n",
       "  root.Bokeh.embed.embed_items_notebook(docs_json, render_items);\n",
       "\n",
       "  }\n",
       "  if (root.Bokeh !== undefined) {\n",
       "    embed_document(root);\n",
       "  } else {\n",
       "    var attempts = 0;\n",
       "    var timer = setInterval(function(root) {\n",
       "      if (root.Bokeh !== undefined) {\n",
       "        embed_document(root);\n",
       "        clearInterval(timer);\n",
       "      }\n",
       "      attempts++;\n",
       "      if (attempts > 100) {\n",
       "        console.log(\"Bokeh: ERROR: Unable to run BokehJS code because BokehJS library is missing\")\n",
       "        clearInterval(timer);\n",
       "      }\n",
       "    }, 10, root)\n",
       "  }\n",
       "})(window);"
      ],
      "application/vnd.bokehjs_exec.v0+json": ""
     },
     "metadata": {
      "application/vnd.bokehjs_exec.v0+json": {
       "id": "e70a0374-ad80-49c2-af27-0aaee1d1fc7e"
      }
     },
     "output_type": "display_data"
    },
    {
     "data": {
      "text/markdown": [
       "*FIGURE.* Difference between CLIRAD and CRD in TOA, SFC and net atmosphere flux, in each spectral band."
      ],
      "text/plain": [
       "<IPython.core.display.Markdown object>"
      ]
     },
     "metadata": {},
     "output_type": "display_data"
    },
    {
     "data": {
      "text/html": [
       "<div>\n",
       "<style scoped>\n",
       "    .dataframe tbody tr th:only-of-type {\n",
       "        vertical-align: middle;\n",
       "    }\n",
       "\n",
       "    .dataframe tbody tr th {\n",
       "        vertical-align: top;\n",
       "    }\n",
       "\n",
       "    .dataframe thead th {\n",
       "        text-align: right;\n",
       "    }\n",
       "</style>\n",
       "<table border=\"1\" class=\"dataframe\">\n",
       "  <thead>\n",
       "    <tr style=\"text-align: right;\">\n",
       "      <th></th>\n",
       "      <th>OLR flux</th>\n",
       "      <th>SFC flux</th>\n",
       "      <th>ATM heating</th>\n",
       "    </tr>\n",
       "    <tr>\n",
       "      <th>Sum over bands</th>\n",
       "      <th></th>\n",
       "      <th></th>\n",
       "      <th></th>\n",
       "    </tr>\n",
       "  </thead>\n",
       "  <tbody>\n",
       "    <tr>\n",
       "      <th>old CLIRAD - CRD</th>\n",
       "      <td>0.14</td>\n",
       "      <td>2.01</td>\n",
       "      <td>-1.73</td>\n",
       "    </tr>\n",
       "    <tr>\n",
       "      <th>CLIRAD (single-run) - CRD</th>\n",
       "      <td>1.44</td>\n",
       "      <td>1.06</td>\n",
       "      <td>0.37</td>\n",
       "    </tr>\n",
       "    <tr>\n",
       "      <th>CRD</th>\n",
       "      <td>-290.39</td>\n",
       "      <td>308.14</td>\n",
       "      <td>-174.89</td>\n",
       "    </tr>\n",
       "  </tbody>\n",
       "</table>\n",
       "</div>"
      ],
      "text/plain": [
       "                           OLR flux  SFC flux  ATM heating\n",
       "Sum over bands                                            \n",
       "old CLIRAD - CRD               0.14      2.01        -1.73\n",
       "CLIRAD (single-run) - CRD      1.44      1.06         0.37\n",
       "CRD                         -290.39    308.14      -174.89"
      ]
     },
     "metadata": {},
     "output_type": "display_data"
    },
    {
     "data": {
      "text/markdown": [
       "*TABLE.* Difference between CLIRAD and CRD in TOA, SFC and net atmosphere flux, over all spectral bands. CRD's TOA, SFC and net atmosphere flux, over all spectral bands."
      ],
      "text/plain": [
       "<IPython.core.display.Markdown object>"
      ]
     },
     "metadata": {},
     "output_type": "display_data"
    },
    {
     "data": {
      "text/html": [
       "<a id=\"Cooling_rates._saw.\"></a>"
      ],
      "text/plain": [
       "<IPython.core.display.HTML object>"
      ]
     },
     "metadata": {},
     "output_type": "display_data"
    },
    {
     "data": {
      "text/markdown": [
       "# Cooling rates. saw."
      ],
      "text/plain": [
       "<IPython.core.display.Markdown object>"
      ]
     },
     "metadata": {},
     "output_type": "display_data"
    },
    {
     "data": {
      "text/html": [
       "\n",
       "<div class=\"bk-root\">\n",
       "    <div class=\"bk-plotdiv\" id=\"660c9c94-6f94-40fe-900e-900a6f494dc3\"></div>\n",
       "</div>"
      ]
     },
     "metadata": {},
     "output_type": "display_data"
    },
    {
     "data": {
      "application/javascript": [
       "(function(root) {\n",
       "  function embed_document(root) {\n",
       "    \n",
       "  var docs_json = {\"28adf2fd-d3df-49cc-95a5-3bfb79c4c00f\":{\"roots\":{\"references\":[{\"attributes\":{},\"id\":\"7676a6ee-8f65-409e-9e4b-7e20322471da\",\"type\":\"BasicTicker\"},{\"attributes\":{\"overlay\":{\"id\":\"8cf07daf-357f-4071-80c8-48eb9deabaf7\",\"type\":\"BoxAnnotation\"}},\"id\":\"6ce28c3e-dea2-401f-83b4-6888529d463d\",\"type\":\"BoxZoomTool\"},{\"attributes\":{},\"id\":\"bb048ef2-afe9-49d8-9445-d6012d97820f\",\"type\":\"ResetTool\"},{\"attributes\":{},\"id\":\"bcc5cfd0-c204-4683-852e-f6b47e425de4\",\"type\":\"WheelZoomTool\"},{\"attributes\":{\"callback\":null,\"end\":0.01,\"start\":1020},\"id\":\"10b8e1ef-ce02-4fe9-bd05-4fc1fe9a202f\",\"type\":\"Range1d\"},{\"attributes\":{},\"id\":\"9329067c-3cf6-423b-a449-5b7f5081b943\",\"type\":\"BasicTicker\"},{\"attributes\":{\"callback\":null,\"data\":{\"x\":{\"__ndarray__\":\"0CYBcvU5UkCik9zf2GVBQF1VoNfLZ0BAVLxhiVXTPUDD1Wu1wJM6QFJyB025jjdAU6Aw5+b/NECYe1uuDfgyQB6bYtVTbTFAPxYSAF1HMEA00pYVm9QuQLolHbMzgC1AntlwirGsLECv+G9SjE4rQJH6ZLBp0ShAsLZQyPd/JkDyjgyf2PwkQLgyNGsrJyRAA13QbJD6I0C8hy0ilI4kQOVTXCEgcSZAovOGvZSGJUBVc/ZmUOIgQOf/6GHAyRlAcE8fAOBSFEDRur1U//gPQGFD9ZbokghAQsqHuSqSA0C91ci3W0UBQCtRQfvz7/4/kh8pntyB+j9t1/n+4TX1P773MAUjFfI/RgzR+CI28T8hBW8WHK7uPzVKjJfU8uk/0FPt4/z65T/wVYqzMPDhPz7K9C5CXuE/8+hSn9hY4T/9PPCkR6rhP1XsIC599OA/66X1nBCX3z/YbRM56QjcPz4dkSQc/dM/S7Wb8Fq00T+/yQdmX0vcP7TrGf476eM/WqNPJoWO7D9qOH1bcwDzP2bw+R5DQ/Y/RLSuQOQp+D8+aif8yAz5P0Wv6eBKRfk/0i2+IN4R+T/ik8QNFZr4PyS5UD5j/Pc/yJ68zXRG9z/2CHPL54H2P59SOhwKtPU/npkP8dfg9D8NlmVcdQz0P80ugRvuOvM/byxiAHN18j9USVZie8nxP5l9lNXYSPE/OB+F0UYP8T8Y7dsUCTHxP3EBgTHPcPE/bfx15p8S8T8FT+xkGtTuP6mdG7rkxuk/pboqTkHX5D/CrN8qGYngP7R4ZaL+htU/\",\"dtype\":\"float64\",\"shape\":[75]},\"y\":{\"__ndarray__\":\"GhExyth1ND/Sv8nbtpRIP2vylNV0PVE/aTum7souWD/At0SJ8fVgPw3Iuahxymc/MSNhhJWvcD/bTfBN02d3P2zb5nxnaoA/CD5h5MAGhz8NmeH1TyaQP+zrCsc9p5Y/LbKd76fGnz/bLW5ISEmmPww9YvTcQq8/JV2OstnstT8Er5Y7M8G+P0c+r3jqkcU/5h99k6ZBzj88bCIzFzjVP4enV8oyxN0//yH99nXg5D8qOpLLf0jtP5kqGJXUifQ/c9cS8kHP/D+/DpwzojQEQIEmwoanVwxA4lgXt9HgE0BSSZ2AJuIbQAMJih9jjiNA5q4l5INuK0AwTKYKRj0zQNv5fmq8/DpAaCJseHrtQkB/+zpwzoxKQM3MzMzMeFJAZmZmZmZqWEAAAAAAAFxeQM3MzMzMJmJAmpmZmZkfZUBmZmZmZhhoQDMzMzMzEWtAAAAAAAAKbkBmZmZmZoFwQM3MzMzM/XFAMzMzMzN6c0CamZmZmfZ0QAAAAAAAc3ZAZmZmZmbvd0DNzMzMzGt5QDMzMzMz6HpAmpmZmZlkfEAAAAAAAOF9QGZmZmZmXX9AZmZmZuZsgECamZmZGSuBQM3MzMxM6YFAAAAAAICngkAzMzMzs2WDQGZmZmbmI4RAmpmZmRnihEDNzMzMTKCFQAAAAACAXoZAMzMzM7Mch0BmZmZm5tqHQJqZmZkZmYhAzczMzExXiUAAAAAAgBWKQDMzMzOz04pAZmZmZuaRi0CamZmZGVCMQM3MzMxMDo1AAAAAAIDMjUAzMzMzs4qOQGZmZmbmSI9A\",\"dtype\":\"float64\",\"shape\":[75]}},\"selected\":{\"id\":\"c66f192b-a3cd-4505-ab18-e9bd34a72182\",\"type\":\"Selection\"},\"selection_policy\":{\"id\":\"bf12af0c-d417-4a29-aad5-249e08e453fc\",\"type\":\"UnionRenderers\"}},\"id\":\"b99110ba-f500-4277-9e2f-203d6b384c27\",\"type\":\"ColumnDataSource\"},{\"attributes\":{},\"id\":\"68d7a0a1-f257-44dc-87de-5ff751a93a59\",\"type\":\"SaveTool\"},{\"attributes\":{},\"id\":\"3bd11c43-b8a0-479c-81a9-0418d36a6f72\",\"type\":\"BasicTickFormatter\"},{\"attributes\":{\"line_color\":\"#4daf4a\",\"line_width\":1.5,\"x\":{\"field\":\"x\"},\"y\":{\"field\":\"y\"}},\"id\":\"74211b16-134b-4e31-97c8-2abc27bf57d7\",\"type\":\"Line\"},{\"attributes\":{\"data_source\":{\"id\":\"b99110ba-f500-4277-9e2f-203d6b384c27\",\"type\":\"ColumnDataSource\"},\"glyph\":{\"id\":\"74211b16-134b-4e31-97c8-2abc27bf57d7\",\"type\":\"Line\"},\"hover_glyph\":null,\"muted_glyph\":null,\"nonselection_glyph\":{\"id\":\"44e7237f-a341-4fb0-9d29-a25ea8d1826b\",\"type\":\"Line\"},\"selection_glyph\":null,\"view\":{\"id\":\"56b9ec39-0130-4ba1-bf44-18a7240e7299\",\"type\":\"CDSView\"}},\"id\":\"f2cdcb97-582e-45bf-99f5-3e32d65aec87\",\"type\":\"GlyphRenderer\"},{\"attributes\":{},\"id\":\"5eb1afea-6f4a-4cb0-abbc-0cf1cb7c808d\",\"type\":\"HelpTool\"},{\"attributes\":{\"bottom_units\":\"screen\",\"fill_alpha\":{\"value\":0.5},\"fill_color\":{\"value\":\"lightgrey\"},\"left_units\":\"screen\",\"level\":\"overlay\",\"line_alpha\":{\"value\":1.0},\"line_color\":{\"value\":\"black\"},\"line_dash\":[4,4],\"line_width\":{\"value\":2},\"plot\":null,\"render_mode\":\"css\",\"right_units\":\"screen\",\"top_units\":\"screen\"},\"id\":\"8cf07daf-357f-4071-80c8-48eb9deabaf7\",\"type\":\"BoxAnnotation\"},{\"attributes\":{\"line_alpha\":0.1,\"line_color\":\"#1f77b4\",\"line_width\":1.5,\"x\":{\"field\":\"x\"},\"y\":{\"field\":\"y\"}},\"id\":\"44e7237f-a341-4fb0-9d29-a25ea8d1826b\",\"type\":\"Line\"},{\"attributes\":{\"label\":{\"value\":\"CRD\"},\"renderers\":[{\"id\":\"5515e0ea-a374-45f8-b49c-2e301949bcad\",\"type\":\"GlyphRenderer\"},{\"id\":\"f2cdcb97-582e-45bf-99f5-3e32d65aec87\",\"type\":\"GlyphRenderer\"}]},\"id\":\"b5652fea-2eba-459c-9dd0-140fe3cfa5e5\",\"type\":\"LegendItem\"},{\"attributes\":{\"line_alpha\":0.1,\"line_color\":\"#1f77b4\",\"line_width\":1.5,\"x\":{\"field\":\"x\"},\"y\":{\"field\":\"y\"}},\"id\":\"178ca389-968c-4202-a885-45017617cc67\",\"type\":\"Line\"},{\"attributes\":{},\"id\":\"5747d22e-7aa0-43d9-816d-132a9dfa4575\",\"type\":\"LogScale\"},{\"attributes\":{\"items\":[{\"id\":\"c4d6823d-6028-4053-825a-0f9c8bbcaac5\",\"type\":\"LegendItem\"}],\"label_text_font_size\":{\"value\":\"8pt\"},\"location\":\"top_center\",\"orientation\":\"horizontal\",\"plot\":{\"id\":\"1df1f524-0483-479c-84d0-cefa52599dad\",\"subtype\":\"Figure\",\"type\":\"Plot\"}},\"id\":\"812191d9-6a94-427e-853b-bfd14c210413\",\"type\":\"Legend\"},{\"attributes\":{\"children\":[{\"id\":\"20186915-d80e-4480-882a-56a1f08492af\",\"subtype\":\"Figure\",\"type\":\"Plot\"},{\"id\":\"3f108a70-b241-41ed-ba57-d23b076f26a3\",\"subtype\":\"Figure\",\"type\":\"Plot\"},{\"id\":\"1df1f524-0483-479c-84d0-cefa52599dad\",\"subtype\":\"Figure\",\"type\":\"Plot\"}]},\"id\":\"76586571-2071-4274-beb5-1cb7d2efa11e\",\"type\":\"Row\"},{\"attributes\":{},\"id\":\"bf12af0c-d417-4a29-aad5-249e08e453fc\",\"type\":\"UnionRenderers\"},{\"attributes\":{\"label\":{\"value\":\"CLIRAD (single-run)\"},\"renderers\":[{\"id\":\"2653931d-3986-45dc-8330-763dc53c7b1e\",\"type\":\"GlyphRenderer\"}]},\"id\":\"2524320f-e528-4b6b-878e-6eefced298ed\",\"type\":\"LegendItem\"},{\"attributes\":{\"plot\":null,\"text\":\"\"},\"id\":\"444e1f2e-c3cd-49f1-8782-5231de2d6bbe\",\"type\":\"Title\"},{\"attributes\":{},\"id\":\"fa58ce34-cb1f-434c-b04f-76c52c26c445\",\"type\":\"Selection\"},{\"attributes\":{},\"id\":\"d229356b-8c33-4295-87ef-f30859528c30\",\"type\":\"UnionRenderers\"},{\"attributes\":{},\"id\":\"e38dec0b-da32-47ef-b502-ae16e6c2ff5a\",\"type\":\"Selection\"},{\"attributes\":{\"tools\":[{\"id\":\"83e20895-4235-4c57-b91c-859b5a71a87d\",\"type\":\"PanTool\"},{\"id\":\"4e2ffb5a-12e8-48dd-96be-833f36c06345\",\"type\":\"WheelZoomTool\"},{\"id\":\"6b3aa58f-8ee8-4cff-9ea8-93edb19feb23\",\"type\":\"BoxZoomTool\"},{\"id\":\"77085612-1108-4739-9b30-c6f48afa2179\",\"type\":\"SaveTool\"},{\"id\":\"7d248a72-7c94-4901-b3e7-fd9022f62116\",\"type\":\"ResetTool\"},{\"id\":\"8f52e41a-969e-4e4b-9e1b-fa6db6a62d42\",\"type\":\"HelpTool\"},{\"id\":\"bb35cc4c-842a-4ebd-961a-c85f4437ccd6\",\"type\":\"PanTool\"},{\"id\":\"bcc5cfd0-c204-4683-852e-f6b47e425de4\",\"type\":\"WheelZoomTool\"},{\"id\":\"6ce28c3e-dea2-401f-83b4-6888529d463d\",\"type\":\"BoxZoomTool\"},{\"id\":\"68d7a0a1-f257-44dc-87de-5ff751a93a59\",\"type\":\"SaveTool\"},{\"id\":\"bb048ef2-afe9-49d8-9445-d6012d97820f\",\"type\":\"ResetTool\"},{\"id\":\"5eb1afea-6f4a-4cb0-abbc-0cf1cb7c808d\",\"type\":\"HelpTool\"},{\"id\":\"4dfe7461-8fc7-4d92-bbf2-ee753a18b08a\",\"type\":\"PanTool\"},{\"id\":\"28ae7a23-82b2-4dcb-9c5c-ae5a07c23b71\",\"type\":\"WheelZoomTool\"},{\"id\":\"80c71250-d1fb-4e27-ab4c-9706064b484a\",\"type\":\"BoxZoomTool\"},{\"id\":\"fe6191fd-c7c1-418c-9ee2-df3cd0106777\",\"type\":\"SaveTool\"},{\"id\":\"a82a57a6-85a1-4ae7-93a8-6ffc9e7edd5e\",\"type\":\"ResetTool\"},{\"id\":\"de3428cc-30aa-47bf-8985-1300344ef696\",\"type\":\"HelpTool\"}]},\"id\":\"cf32edbe-14dd-4a56-b708-c84115fd246b\",\"type\":\"ProxyToolbar\"},{\"attributes\":{\"callback\":null,\"data\":{\"x\":{\"__ndarray__\":\"46eMdFLeQ8B9d47eavcYwAFqXP0rpwPAScHOCM8a8j96lf6VU5oLQO0RvW3X2A9AGoJd103KBkAP36wbfTjrPxEnm+Kgmu2/jjJkQ7xk+r8Gp82FcRn0v4JJrMvHvtS/a3FUdPWy4D/G+CwESvHuP5LPhhZrDu0/EKFopX0r2T/fSIyUoL3Qv+BYMwRkTOW//diJnDVe5b/kn+HI7FDavw+mer06gcG/xNQ7u1/Qsj+ClLx+uHPBP/WqjAa1prm/kJcSD0lZzb/9g3PiN/ygv7kzir6tV9E/FXtljRTn0T/Xmw9JBPu7P52unb4YHaA/S6lh4WMgxD9r8hHl3+7MP5bjzcDCqsA/s1S5uxjne7/8UgB26GhdPwL3t4VGBrM/eLflLXuzpz+JY5jMAsGZv/WWllLX6LO/Eh/dqhlJtr/aPBekLeqyv+2mBjl3Pq2/q9aJnAYDpr8M+apy3WWbv31qZ+xnuJG/Lnx3/TLfh78uR7c1ts9UvxI97BpXBHe/6irRglq8m7+ZuFnQsbiqvyUrUX4Ef6q/TtD9zO6kor9doGw0ziOjv/9qoVaYfKq/9fL7Ricpqr/7RtrWptukv4BD8d4ldZ6/FQTqA8Dulr/0VNNH+hqSv1JJ0OL7kIa/hq53k+ldgL+y2VzyjRp7v9y5nNmJLoC/OBqte1D9gb9i7CT+x1J/v6CehIT2knC/DKq+b1NuYD8KFW/IbdmEP0pHH0RJgJA/tCj3OFx2lT/karuh2vSYP5hB+AOmm5o/Lcfmg9blmT9tVo1HKLuZP/byeh9rp5g/\",\"dtype\":\"float64\",\"shape\":[75]},\"y\":{\"__ndarray__\":\"GhExyth1ND/Sv8nbtpRIP2vylNV0PVE/aTum7souWD/At0SJ8fVgPw3Iuahxymc/MSNhhJWvcD/bTfBN02d3P2zb5nxnaoA/CD5h5MAGhz8NmeH1TyaQP+zrCsc9p5Y/LbKd76fGnz/bLW5ISEmmPww9YvTcQq8/JV2OstnstT8Er5Y7M8G+P0c+r3jqkcU/5h99k6ZBzj88bCIzFzjVP4enV8oyxN0//yH99nXg5D8qOpLLf0jtP5kqGJXUifQ/c9cS8kHP/D+/DpwzojQEQIEmwoanVwxA4lgXt9HgE0BSSZ2AJuIbQAMJih9jjiNA5q4l5INuK0AwTKYKRj0zQNv5fmq8/DpAaCJseHrtQkB/+zpwzoxKQM3MzMzMeFJAZmZmZmZqWEAAAAAAAFxeQM3MzMzMJmJAmpmZmZkfZUBmZmZmZhhoQDMzMzMzEWtAAAAAAAAKbkBmZmZmZoFwQM3MzMzM/XFAMzMzMzN6c0CamZmZmfZ0QAAAAAAAc3ZAZmZmZmbvd0DNzMzMzGt5QDMzMzMz6HpAmpmZmZlkfEAAAAAAAOF9QGZmZmZmXX9AZmZmZuZsgECamZmZGSuBQM3MzMxM6YFAAAAAAICngkAzMzMzs2WDQGZmZmbmI4RAmpmZmRnihEDNzMzMTKCFQAAAAACAXoZAMzMzM7Mch0BmZmZm5tqHQJqZmZkZmYhAzczMzExXiUAAAAAAgBWKQDMzMzOz04pAZmZmZuaRi0CamZmZGVCMQM3MzMxMDo1AAAAAAIDMjUAzMzMzs4qOQGZmZmbmSI9A\",\"dtype\":\"float64\",\"shape\":[75]}},\"selected\":{\"id\":\"415f17f5-05ae-42d1-85e8-f8c33d3e941d\",\"type\":\"Selection\"},\"selection_policy\":{\"id\":\"d229356b-8c33-4295-87ef-f30859528c30\",\"type\":\"UnionRenderers\"}},\"id\":\"2d542a8a-6a84-4a14-bbdf-426d71f4d168\",\"type\":\"ColumnDataSource\"},{\"attributes\":{\"data_source\":{\"id\":\"ea976162-047f-4b2f-aec5-1c3fa8044912\",\"type\":\"ColumnDataSource\"},\"glyph\":{\"id\":\"207db5a8-716c-495a-a487-433506cd9455\",\"type\":\"Line\"},\"hover_glyph\":null,\"muted_glyph\":null,\"nonselection_glyph\":{\"id\":\"d82dcf81-df8a-40d4-b72b-d8c738cb0fff\",\"type\":\"Line\"},\"selection_glyph\":null,\"view\":{\"id\":\"fb6e3982-8794-4c2c-af7d-f9fc8b9a15a1\",\"type\":\"CDSView\"}},\"id\":\"2653931d-3986-45dc-8330-763dc53c7b1e\",\"type\":\"GlyphRenderer\"},{\"attributes\":{\"label\":{\"value\":\"CLIRAD (single-run)\"},\"renderers\":[{\"id\":\"608a23ec-31fd-44b0-b045-b19bb22f84e2\",\"type\":\"GlyphRenderer\"}]},\"id\":\"2114d42a-0e4f-4261-834b-9d080c6acc60\",\"type\":\"LegendItem\"},{\"attributes\":{\"line_alpha\":0.8,\"line_color\":\"#984ea3\",\"line_width\":1.5,\"x\":{\"field\":\"x\"},\"y\":{\"field\":\"y\"}},\"id\":\"e2b09211-55ee-4d98-b14e-c5a2bf589c80\",\"type\":\"Line\"},{\"attributes\":{},\"id\":\"415f17f5-05ae-42d1-85e8-f8c33d3e941d\",\"type\":\"Selection\"},{\"attributes\":{\"above\":[{\"id\":\"35314dcd-adc2-46c5-9bfc-6e37663599b2\",\"type\":\"Legend\"}],\"below\":[{\"id\":\"155b66d0-9615-4894-b91b-c3a38a45a6d7\",\"type\":\"LinearAxis\"}],\"left\":[{\"id\":\"2451be27-b858-44a6-96e0-5eb61b6b1857\",\"type\":\"LogAxis\"}],\"plot_width\":300,\"renderers\":[{\"id\":\"155b66d0-9615-4894-b91b-c3a38a45a6d7\",\"type\":\"LinearAxis\"},{\"id\":\"ac3a8190-02c8-4524-9b9d-465f2deae4ae\",\"type\":\"Grid\"},{\"id\":\"2451be27-b858-44a6-96e0-5eb61b6b1857\",\"type\":\"LogAxis\"},{\"id\":\"66a0b1be-bca0-4a5d-ac72-e3fa98498e22\",\"type\":\"Grid\"},{\"id\":\"8cf07daf-357f-4071-80c8-48eb9deabaf7\",\"type\":\"BoxAnnotation\"},{\"id\":\"608a23ec-31fd-44b0-b045-b19bb22f84e2\",\"type\":\"GlyphRenderer\"},{\"id\":\"775f4cc0-b313-472e-a966-dde6399c619d\",\"type\":\"GlyphRenderer\"},{\"id\":\"e9218e92-61b9-4862-acff-1116725ed680\",\"type\":\"GlyphRenderer\"},{\"id\":\"35314dcd-adc2-46c5-9bfc-6e37663599b2\",\"type\":\"Legend\"}],\"title\":{\"id\":\"444e1f2e-c3cd-49f1-8782-5231de2d6bbe\",\"type\":\"Title\"},\"toolbar\":{\"id\":\"dea02fee-d664-4a8a-b815-9e9ae1414dd4\",\"type\":\"Toolbar\"},\"toolbar_location\":null,\"x_range\":{\"id\":\"a92eba79-b535-46a0-af61-7df7a0adc62a\",\"type\":\"Range1d\"},\"x_scale\":{\"id\":\"f54cd9e3-3ad7-4e00-a213-297001c72396\",\"type\":\"LinearScale\"},\"y_range\":{\"id\":\"10b8e1ef-ce02-4fe9-bd05-4fc1fe9a202f\",\"type\":\"Range1d\"},\"y_scale\":{\"id\":\"5747d22e-7aa0-43d9-816d-132a9dfa4575\",\"type\":\"LogScale\"}},\"id\":\"3f108a70-b241-41ed-ba57-d23b076f26a3\",\"subtype\":\"Figure\",\"type\":\"Plot\"},{\"attributes\":{\"bottom_units\":\"screen\",\"fill_alpha\":{\"value\":0.5},\"fill_color\":{\"value\":\"lightgrey\"},\"left_units\":\"screen\",\"level\":\"overlay\",\"line_alpha\":{\"value\":1.0},\"line_color\":{\"value\":\"black\"},\"line_dash\":[4,4],\"line_width\":{\"value\":2},\"plot\":null,\"render_mode\":\"css\",\"right_units\":\"screen\",\"top_units\":\"screen\"},\"id\":\"8d482c06-d361-49a9-9075-41e922317751\",\"type\":\"BoxAnnotation\"},{\"attributes\":{\"line_alpha\":0.6,\"line_color\":\"#377eb8\",\"line_dash\":[6],\"line_width\":5,\"x\":{\"field\":\"x\"},\"y\":{\"field\":\"y\"}},\"id\":\"207db5a8-716c-495a-a487-433506cd9455\",\"type\":\"Line\"},{\"attributes\":{},\"id\":\"a7e117e5-6d82-4a0c-9efb-5ff996da5fdf\",\"type\":\"UnionRenderers\"},{\"attributes\":{\"callback\":null,\"data\":{\"x\":{\"__ndarray__\":\"vqV1b5iVQEBniRUI1408QHodlS+yWj5AaajueQL1PkBzqCsoCwc+QJAUvzrUiTtAk1AcojDZN0CQ4jiX0dEzQOTBTc5+gDBALKa3dyJCLUBSHd3kbFEsQG7Dv3Q92ixAtiC24eC3LUA8yLLyoD0tQItnzWFQoipAuPt7tVNJJ0CsLGia63YkQCr98Cpl0iJAcr8HE62kIkC9eua7DLwjQE5pZjYbKyZASWv9fDWsJUCoZfFIHyghQD7Nzo0lYxlAtLqmtxVoE0DB7DN1DrUPQNeJxk7evQpApHk0Sw3PBUCbUhHaMyUCQKE+NsHccP8/vVRVGukF/T+8FZz7vdP4PzG0Sl17KvQ/8lIV4Dsa8T9LBaqK0LzuPxdJQ2idU+w/Rq/LljR25z/SkiWdKCLhP73uQ4lOwt0/I4ru02of3T/DqtrgA5reP88DIXUrQd4/GWtkya/W3D9Kvuhhi1LaP5amyqWV4dI/aPmvWGH10D93EtKvjzbcPzkT5E8zu+M/ARo5UqKw6z+mavrMrSryPwxnB/tKb/U/w8VGyryU9z85BYSKqnP4P+6jNB5mcfg/Ok6G5pRA+D+rwQ3XN/P3PxX01KaOgvc/uPaszbnq9j+iu1Piezn2Pw2ydCTohvU/QKroHRzA9D80OXPOWvHzP1n1zQeRGvM/OdJqX3hR8j9nJFiaKKrxP/v4D99FOPE/jP48+30X8T9By2zwu1rxP5B+kVbQsvE/ENlZV3lo8T9dKvo5wZvvP7hfO+rBm+o/4PBJAnCm5T93Fxxt8lbhP+EnXVR1Edc/\",\"dtype\":\"float64\",\"shape\":[75]},\"y\":{\"__ndarray__\":\"GhExyth1ND/Sv8nbtpRIP2vylNV0PVE/aTum7souWD/At0SJ8fVgPw3Iuahxymc/MSNhhJWvcD/bTfBN02d3P2zb5nxnaoA/CD5h5MAGhz8NmeH1TyaQP+zrCsc9p5Y/LbKd76fGnz/bLW5ISEmmPww9YvTcQq8/JV2OstnstT8Er5Y7M8G+P0c+r3jqkcU/5h99k6ZBzj88bCIzFzjVP4enV8oyxN0//yH99nXg5D8qOpLLf0jtP5kqGJXUifQ/c9cS8kHP/D+/DpwzojQEQIEmwoanVwxA4lgXt9HgE0BSSZ2AJuIbQAMJih9jjiNA5q4l5INuK0AwTKYKRj0zQNv5fmq8/DpAaCJseHrtQkB/+zpwzoxKQM3MzMzMeFJAZmZmZmZqWEAAAAAAAFxeQM3MzMzMJmJAmpmZmZkfZUBmZmZmZhhoQDMzMzMzEWtAAAAAAAAKbkBmZmZmZoFwQM3MzMzM/XFAMzMzMzN6c0CamZmZmfZ0QAAAAAAAc3ZAZmZmZmbvd0DNzMzMzGt5QDMzMzMz6HpAmpmZmZlkfEAAAAAAAOF9QGZmZmZmXX9AZmZmZuZsgECamZmZGSuBQM3MzMxM6YFAAAAAAICngkAzMzMzs2WDQGZmZmbmI4RAmpmZmRnihEDNzMzMTKCFQAAAAACAXoZAMzMzM7Mch0BmZmZm5tqHQJqZmZkZmYhAzczMzExXiUAAAAAAgBWKQDMzMzOz04pAZmZmZuaRi0CamZmZGVCMQM3MzMxMDo1AAAAAAIDMjUAzMzMzs4qOQGZmZmbmSI9A\",\"dtype\":\"float64\",\"shape\":[75]}},\"selected\":{\"id\":\"87d96b26-ba30-452e-ae08-d9c049591997\",\"type\":\"Selection\"},\"selection_policy\":{\"id\":\"d7981072-5b47-4246-b728-ff88a12762ca\",\"type\":\"UnionRenderers\"}},\"id\":\"d6283d72-2e57-4829-8c10-205165838ac8\",\"type\":\"ColumnDataSource\"},{\"attributes\":{\"children\":[{\"id\":\"76586571-2071-4274-beb5-1cb7d2efa11e\",\"type\":\"Row\"}]},\"id\":\"974d0d7a-325c-4d55-a80a-abe8b6c2193d\",\"type\":\"Column\"},{\"attributes\":{},\"id\":\"c66f192b-a3cd-4505-ab18-e9bd34a72182\",\"type\":\"Selection\"},{\"attributes\":{\"ticker\":null},\"id\":\"a56952c0-b30b-4303-9e84-8e3c20a94e91\",\"type\":\"LogTickFormatter\"},{\"attributes\":{},\"id\":\"96b29c0c-76b2-4808-935c-74c818e2e706\",\"type\":\"Selection\"},{\"attributes\":{\"axis_label\":\"pressure [mb]\",\"formatter\":{\"id\":\"a56952c0-b30b-4303-9e84-8e3c20a94e91\",\"type\":\"LogTickFormatter\"},\"plot\":{\"id\":\"1df1f524-0483-479c-84d0-cefa52599dad\",\"subtype\":\"Figure\",\"type\":\"Plot\"},\"ticker\":{\"id\":\"17247973-071f-4645-acb9-b527ad26ec6b\",\"type\":\"LogTicker\"}},\"id\":\"f3c2454a-b4e2-4df0-8a8a-8f79271768e5\",\"type\":\"LogAxis\"},{\"attributes\":{\"plot\":null,\"text\":\"\"},\"id\":\"4587252d-7325-4d53-872e-73790c5cf8ff\",\"type\":\"Title\"},{\"attributes\":{\"label\":{\"value\":\"CLIRAD (single-run) - CRD\"},\"renderers\":[{\"id\":\"50e3380a-349d-4463-8ec0-c6c982f72b34\",\"type\":\"GlyphRenderer\"},{\"id\":\"2c21862d-aab2-4fdd-b991-74153e0cebd3\",\"type\":\"GlyphRenderer\"}]},\"id\":\"c4d6823d-6028-4053-825a-0f9c8bbcaac5\",\"type\":\"LegendItem\"},{\"attributes\":{\"callback\":null,\"end\":0.9931197174736404,\"start\":-1.6757590827576396},\"id\":\"9da4988a-cbb1-4138-b7d6-8c7517cd8fac\",\"type\":\"Range1d\"},{\"attributes\":{},\"id\":\"a82a57a6-85a1-4ae7-93a8-6ffc9e7edd5e\",\"type\":\"ResetTool\"},{\"attributes\":{},\"id\":\"02f8a702-aefa-48e5-b672-8f0327382859\",\"type\":\"Selection\"},{\"attributes\":{\"dimension\":1,\"plot\":{\"id\":\"20186915-d80e-4480-882a-56a1f08492af\",\"subtype\":\"Figure\",\"type\":\"Plot\"},\"ticker\":{\"id\":\"9329067c-3cf6-423b-a449-5b7f5081b943\",\"type\":\"BasicTicker\"}},\"id\":\"51f49b6a-5f9e-4ca6-86db-22ee12661b8c\",\"type\":\"Grid\"},{\"attributes\":{},\"id\":\"7d248a72-7c94-4901-b3e7-fd9022f62116\",\"type\":\"ResetTool\"},{\"attributes\":{},\"id\":\"48d59660-530b-455a-a352-e0676a626bc9\",\"type\":\"UnionRenderers\"},{\"attributes\":{},\"id\":\"53823e7f-df87-4827-b15e-df3f701c001a\",\"type\":\"BasicTickFormatter\"},{\"attributes\":{},\"id\":\"fe6191fd-c7c1-418c-9ee2-df3cd0106777\",\"type\":\"SaveTool\"},{\"attributes\":{\"plot\":{\"id\":\"1df1f524-0483-479c-84d0-cefa52599dad\",\"subtype\":\"Figure\",\"type\":\"Plot\"},\"ticker\":{\"id\":\"7676a6ee-8f65-409e-9e4b-7e20322471da\",\"type\":\"BasicTicker\"}},\"id\":\"1ead2095-7927-49b4-a071-aaeacf934684\",\"type\":\"Grid\"},{\"attributes\":{\"plot\":null,\"text\":\"\"},\"id\":\"ce448761-5ddd-480a-9fc4-3e0fe982c77c\",\"type\":\"Title\"},{\"attributes\":{\"source\":{\"id\":\"76bbb059-0849-4448-bbc4-618f7d8cf1bc\",\"type\":\"ColumnDataSource\"}},\"id\":\"e52fb934-b74e-4bb5-953c-2e3d61ef131f\",\"type\":\"CDSView\"},{\"attributes\":{},\"id\":\"83e20895-4235-4c57-b91c-859b5a71a87d\",\"type\":\"PanTool\"},{\"attributes\":{},\"id\":\"4e2ffb5a-12e8-48dd-96be-833f36c06345\",\"type\":\"WheelZoomTool\"},{\"attributes\":{\"axis_label\":\"cooling rate [K/day]\",\"formatter\":{\"id\":\"1baa3767-d941-4896-93dd-00a029402d60\",\"type\":\"BasicTickFormatter\"},\"plot\":{\"id\":\"1df1f524-0483-479c-84d0-cefa52599dad\",\"subtype\":\"Figure\",\"type\":\"Plot\"},\"ticker\":{\"id\":\"7676a6ee-8f65-409e-9e4b-7e20322471da\",\"type\":\"BasicTicker\"}},\"id\":\"a41861b6-ce7d-4534-9699-f93927e0fab4\",\"type\":\"LinearAxis\"},{\"attributes\":{},\"id\":\"8f83ea40-55f7-42ee-8af2-74b0ab7e1d34\",\"type\":\"UnionRenderers\"},{\"attributes\":{},\"id\":\"de3428cc-30aa-47bf-8985-1300344ef696\",\"type\":\"HelpTool\"},{\"attributes\":{\"label\":{\"value\":\"CRD\"},\"renderers\":[{\"id\":\"775f4cc0-b313-472e-a966-dde6399c619d\",\"type\":\"GlyphRenderer\"},{\"id\":\"e9218e92-61b9-4862-acff-1116725ed680\",\"type\":\"GlyphRenderer\"}]},\"id\":\"b8811f93-40c7-41ae-bd35-2544fb088aca\",\"type\":\"LegendItem\"},{\"attributes\":{},\"id\":\"f54cd9e3-3ad7-4e00-a213-297001c72396\",\"type\":\"LinearScale\"},{\"attributes\":{\"callback\":null,\"data\":{\"x\":{\"__ndarray__\":\"0CYBcvU5UkCik9zf2GVBQF1VoNfLZ0BAVLxhiVXTPUDD1Wu1wJM6QFJyB025jjdAU6Aw5+b/NECYe1uuDfgyQB6bYtVTbTFAPxYSAF1HMEA00pYVm9QuQLolHbMzgC1AntlwirGsLECv+G9SjE4rQJH6ZLBp0ShAsLZQyPd/JkDyjgyf2PwkQLgyNGsrJyRAA13QbJD6I0C8hy0ilI4kQOVTXCEgcSZAovOGvZSGJUBVc/ZmUOIgQOf/6GHAyRlAcE8fAOBSFEDRur1U//gPQGFD9ZbokghAQsqHuSqSA0C91ci3W0UBQCtRQfvz7/4/kh8pntyB+j9t1/n+4TX1P773MAUjFfI/RgzR+CI28T8hBW8WHK7uPzVKjJfU8uk/0FPt4/z65T/wVYqzMPDhPz7K9C5CXuE/8+hSn9hY4T/9PPCkR6rhP1XsIC599OA/66X1nBCX3z/YbRM56QjcPz4dkSQc/dM/S7Wb8Fq00T+/yQdmX0vcP7TrGf476eM/WqNPJoWO7D9qOH1bcwDzP2bw+R5DQ/Y/RLSuQOQp+D8+aif8yAz5P0Wv6eBKRfk/0i2+IN4R+T/ik8QNFZr4PyS5UD5j/Pc/yJ68zXRG9z/2CHPL54H2P59SOhwKtPU/npkP8dfg9D8NlmVcdQz0P80ugRvuOvM/byxiAHN18j9USVZie8nxP5l9lNXYSPE/OB+F0UYP8T8Y7dsUCTHxP3EBgTHPcPE/bfx15p8S8T8FT+xkGtTuP6mdG7rkxuk/pboqTkHX5D/CrN8qGYngP7R4ZaL+htU/\",\"dtype\":\"float64\",\"shape\":[75]},\"y\":{\"__ndarray__\":\"GhExyth1ND/Sv8nbtpRIP2vylNV0PVE/aTum7souWD/At0SJ8fVgPw3Iuahxymc/MSNhhJWvcD/bTfBN02d3P2zb5nxnaoA/CD5h5MAGhz8NmeH1TyaQP+zrCsc9p5Y/LbKd76fGnz/bLW5ISEmmPww9YvTcQq8/JV2OstnstT8Er5Y7M8G+P0c+r3jqkcU/5h99k6ZBzj88bCIzFzjVP4enV8oyxN0//yH99nXg5D8qOpLLf0jtP5kqGJXUifQ/c9cS8kHP/D+/DpwzojQEQIEmwoanVwxA4lgXt9HgE0BSSZ2AJuIbQAMJih9jjiNA5q4l5INuK0AwTKYKRj0zQNv5fmq8/DpAaCJseHrtQkB/+zpwzoxKQM3MzMzMeFJAZmZmZmZqWEAAAAAAAFxeQM3MzMzMJmJAmpmZmZkfZUBmZmZmZhhoQDMzMzMzEWtAAAAAAAAKbkBmZmZmZoFwQM3MzMzM/XFAMzMzMzN6c0CamZmZmfZ0QAAAAAAAc3ZAZmZmZmbvd0DNzMzMzGt5QDMzMzMz6HpAmpmZmZlkfEAAAAAAAOF9QGZmZmZmXX9AZmZmZuZsgECamZmZGSuBQM3MzMxM6YFAAAAAAICngkAzMzMzs2WDQGZmZmbmI4RAmpmZmRnihEDNzMzMTKCFQAAAAACAXoZAMzMzM7Mch0BmZmZm5tqHQJqZmZkZmYhAzczMzExXiUAAAAAAgBWKQDMzMzOz04pAZmZmZuaRi0CamZmZGVCMQM3MzMxMDo1AAAAAAIDMjUAzMzMzs4qOQGZmZmbmSI9A\",\"dtype\":\"float64\",\"shape\":[75]}},\"selected\":{\"id\":\"e38dec0b-da32-47ef-b502-ae16e6c2ff5a\",\"type\":\"Selection\"},\"selection_policy\":{\"id\":\"48d59660-530b-455a-a352-e0676a626bc9\",\"type\":\"UnionRenderers\"}},\"id\":\"76bbb059-0849-4448-bbc4-618f7d8cf1bc\",\"type\":\"ColumnDataSource\"},{\"attributes\":{\"toolbar\":{\"id\":\"cf32edbe-14dd-4a56-b708-c84115fd246b\",\"type\":\"ProxyToolbar\"},\"toolbar_location\":\"above\"},\"id\":\"f11de973-7692-418b-8f1e-b887a15555b3\",\"type\":\"ToolbarBox\"},{\"attributes\":{\"data_source\":{\"id\":\"d6283d72-2e57-4829-8c10-205165838ac8\",\"type\":\"ColumnDataSource\"},\"glyph\":{\"id\":\"b1ee5e0a-4223-44d0-8839-ec365e966827\",\"type\":\"Line\"},\"hover_glyph\":null,\"muted_glyph\":null,\"nonselection_glyph\":{\"id\":\"6167a38d-1d61-44bf-a8c5-756d587636a9\",\"type\":\"Line\"},\"selection_glyph\":null,\"view\":{\"id\":\"f76d3fa9-b0d6-4c8f-b7d5-1fa63d2b7fa1\",\"type\":\"CDSView\"}},\"id\":\"608a23ec-31fd-44b0-b045-b19bb22f84e2\",\"type\":\"GlyphRenderer\"},{\"attributes\":{\"bottom_units\":\"screen\",\"fill_alpha\":{\"value\":0.5},\"fill_color\":{\"value\":\"lightgrey\"},\"left_units\":\"screen\",\"level\":\"overlay\",\"line_alpha\":{\"value\":1.0},\"line_color\":{\"value\":\"black\"},\"line_dash\":[4,4],\"line_width\":{\"value\":2},\"plot\":null,\"render_mode\":\"css\",\"right_units\":\"screen\",\"top_units\":\"screen\"},\"id\":\"0ae9686b-19e7-4dc7-b73f-2afec720cd9e\",\"type\":\"BoxAnnotation\"},{\"attributes\":{},\"id\":\"1baa3767-d941-4896-93dd-00a029402d60\",\"type\":\"BasicTickFormatter\"},{\"attributes\":{},\"id\":\"1c1a7891-752f-42f9-aca2-ed68346639fd\",\"type\":\"BasicTickFormatter\"},{\"attributes\":{\"fill_alpha\":{\"value\":0.7},\"fill_color\":{\"value\":\"#4daf4a\"},\"line_alpha\":{\"value\":0.7},\"line_color\":{\"value\":\"#4daf4a\"},\"x\":{\"field\":\"x\"},\"y\":{\"field\":\"y\"}},\"id\":\"04e68cd2-25b0-4ef8-9c3b-af139fe288ad\",\"type\":\"Circle\"},{\"attributes\":{\"children\":[{\"id\":\"f11de973-7692-418b-8f1e-b887a15555b3\",\"type\":\"ToolbarBox\"},{\"id\":\"974d0d7a-325c-4d55-a80a-abe8b6c2193d\",\"type\":\"Column\"}]},\"id\":\"e60c856f-7b29-4e4f-be81-3f19cf48f4de\",\"type\":\"Column\"},{\"attributes\":{\"source\":{\"id\":\"b99110ba-f500-4277-9e2f-203d6b384c27\",\"type\":\"ColumnDataSource\"}},\"id\":\"56b9ec39-0130-4ba1-bf44-18a7240e7299\",\"type\":\"CDSView\"},{\"attributes\":{},\"id\":\"894c1d06-8d92-4883-a3d0-ce1ddac299f5\",\"type\":\"UnionRenderers\"},{\"attributes\":{},\"id\":\"8f52e41a-969e-4e4b-9e1b-fa6db6a62d42\",\"type\":\"HelpTool\"},{\"attributes\":{\"source\":{\"id\":\"617351af-690b-4324-bee4-066ff752b0c8\",\"type\":\"ColumnDataSource\"}},\"id\":\"81180d44-223d-431c-9062-8b983400a562\",\"type\":\"CDSView\"},{\"attributes\":{\"active_drag\":\"auto\",\"active_inspect\":\"auto\",\"active_scroll\":\"auto\",\"active_tap\":\"auto\",\"tools\":[{\"id\":\"bb35cc4c-842a-4ebd-961a-c85f4437ccd6\",\"type\":\"PanTool\"},{\"id\":\"bcc5cfd0-c204-4683-852e-f6b47e425de4\",\"type\":\"WheelZoomTool\"},{\"id\":\"6ce28c3e-dea2-401f-83b4-6888529d463d\",\"type\":\"BoxZoomTool\"},{\"id\":\"68d7a0a1-f257-44dc-87de-5ff751a93a59\",\"type\":\"SaveTool\"},{\"id\":\"bb048ef2-afe9-49d8-9445-d6012d97820f\",\"type\":\"ResetTool\"},{\"id\":\"5eb1afea-6f4a-4cb0-abbc-0cf1cb7c808d\",\"type\":\"HelpTool\"}]},\"id\":\"dea02fee-d664-4a8a-b815-9e9ae1414dd4\",\"type\":\"Toolbar\"},{\"attributes\":{\"line_alpha\":0.6,\"line_color\":\"#377eb8\",\"line_dash\":[6],\"line_width\":5,\"x\":{\"field\":\"x\"},\"y\":{\"field\":\"y\"}},\"id\":\"b1ee5e0a-4223-44d0-8839-ec365e966827\",\"type\":\"Line\"},{\"attributes\":{\"dimension\":1,\"plot\":{\"id\":\"1df1f524-0483-479c-84d0-cefa52599dad\",\"subtype\":\"Figure\",\"type\":\"Plot\"},\"ticker\":{\"id\":\"17247973-071f-4645-acb9-b527ad26ec6b\",\"type\":\"LogTicker\"}},\"id\":\"6726ae82-f45a-4059-b03b-15c06b97344d\",\"type\":\"Grid\"},{\"attributes\":{\"source\":{\"id\":\"d6283d72-2e57-4829-8c10-205165838ac8\",\"type\":\"ColumnDataSource\"}},\"id\":\"f76d3fa9-b0d6-4c8f-b7d5-1fa63d2b7fa1\",\"type\":\"CDSView\"},{\"attributes\":{\"source\":{\"id\":\"ea976162-047f-4b2f-aec5-1c3fa8044912\",\"type\":\"ColumnDataSource\"}},\"id\":\"fb6e3982-8794-4c2c-af7d-f9fc8b9a15a1\",\"type\":\"CDSView\"},{\"attributes\":{\"callback\":null,\"end\":1.5925615157941,\"start\":0.25183241957589997},\"id\":\"8690df38-1669-4e55-8288-176b1e5b4eb1\",\"type\":\"Range1d\"},{\"attributes\":{},\"id\":\"b394af0e-4983-4622-bf57-9cbf6ce9a199\",\"type\":\"BasicTicker\"},{\"attributes\":{\"data_source\":{\"id\":\"2d542a8a-6a84-4a14-bbdf-426d71f4d168\",\"type\":\"ColumnDataSource\"},\"glyph\":{\"id\":\"e2b09211-55ee-4d98-b14e-c5a2bf589c80\",\"type\":\"Line\"},\"hover_glyph\":null,\"muted_glyph\":null,\"nonselection_glyph\":{\"id\":\"178ca389-968c-4202-a885-45017617cc67\",\"type\":\"Line\"},\"selection_glyph\":null,\"view\":{\"id\":\"aa49c65c-1826-407c-bca5-57178b6ef2be\",\"type\":\"CDSView\"}},\"id\":\"2c21862d-aab2-4fdd-b991-74153e0cebd3\",\"type\":\"GlyphRenderer\"},{\"attributes\":{},\"id\":\"87d96b26-ba30-452e-ae08-d9c049591997\",\"type\":\"Selection\"},{\"attributes\":{},\"id\":\"f3ec7b44-a90e-4781-9378-3241e889fd1c\",\"type\":\"Selection\"},{\"attributes\":{},\"id\":\"4dfe7461-8fc7-4d92-bbf2-ee753a18b08a\",\"type\":\"PanTool\"},{\"attributes\":{\"fill_alpha\":{\"value\":0.7},\"fill_color\":{\"value\":\"#4daf4a\"},\"line_alpha\":{\"value\":0.7},\"line_color\":{\"value\":\"#4daf4a\"},\"x\":{\"field\":\"x\"},\"y\":{\"field\":\"y\"}},\"id\":\"a007fa0f-f826-4156-aa71-53a714179787\",\"type\":\"Circle\"},{\"attributes\":{},\"id\":\"fd73ae1e-4d02-4737-953e-004328638e32\",\"type\":\"LinearScale\"},{\"attributes\":{\"ticker\":null},\"id\":\"b9cc4ca6-331c-46b8-9772-0b900fdb2150\",\"type\":\"LogTickFormatter\"},{\"attributes\":{\"callback\":null,\"data\":{\"x\":{\"__ndarray__\":\"0CYBcvU5UkCik9zf2GVBQF1VoNfLZ0BAVLxhiVXTPUDD1Wu1wJM6QFJyB025jjdAU6Aw5+b/NECYe1uuDfgyQB6bYtVTbTFAPxYSAF1HMEA00pYVm9QuQLolHbMzgC1AntlwirGsLECv+G9SjE4rQJH6ZLBp0ShAsLZQyPd/JkDyjgyf2PwkQLgyNGsrJyRAA13QbJD6I0C8hy0ilI4kQOVTXCEgcSZAovOGvZSGJUBVc/ZmUOIgQOf/6GHAyRlAcE8fAOBSFEDRur1U//gPQGFD9ZbokghAQsqHuSqSA0C91ci3W0UBQCtRQfvz7/4/kh8pntyB+j9t1/n+4TX1P773MAUjFfI/RgzR+CI28T8hBW8WHK7uPzVKjJfU8uk/0FPt4/z65T/wVYqzMPDhPz7K9C5CXuE/8+hSn9hY4T/9PPCkR6rhP1XsIC599OA/66X1nBCX3z/YbRM56QjcPz4dkSQc/dM/S7Wb8Fq00T+/yQdmX0vcP7TrGf476eM/WqNPJoWO7D9qOH1bcwDzP2bw+R5DQ/Y/RLSuQOQp+D8+aif8yAz5P0Wv6eBKRfk/0i2+IN4R+T/ik8QNFZr4PyS5UD5j/Pc/yJ68zXRG9z/2CHPL54H2P59SOhwKtPU/npkP8dfg9D8NlmVcdQz0P80ugRvuOvM/byxiAHN18j9USVZie8nxP5l9lNXYSPE/OB+F0UYP8T8Y7dsUCTHxP3EBgTHPcPE/bfx15p8S8T8FT+xkGtTuP6mdG7rkxuk/pboqTkHX5D/CrN8qGYngP7R4ZaL+htU/\",\"dtype\":\"float64\",\"shape\":[75]},\"y\":{\"__ndarray__\":\"GhExyth1ND/Sv8nbtpRIP2vylNV0PVE/aTum7souWD/At0SJ8fVgPw3Iuahxymc/MSNhhJWvcD/bTfBN02d3P2zb5nxnaoA/CD5h5MAGhz8NmeH1TyaQP+zrCsc9p5Y/LbKd76fGnz/bLW5ISEmmPww9YvTcQq8/JV2OstnstT8Er5Y7M8G+P0c+r3jqkcU/5h99k6ZBzj88bCIzFzjVP4enV8oyxN0//yH99nXg5D8qOpLLf0jtP5kqGJXUifQ/c9cS8kHP/D+/DpwzojQEQIEmwoanVwxA4lgXt9HgE0BSSZ2AJuIbQAMJih9jjiNA5q4l5INuK0AwTKYKRj0zQNv5fmq8/DpAaCJseHrtQkB/+zpwzoxKQM3MzMzMeFJAZmZmZmZqWEAAAAAAAFxeQM3MzMzMJmJAmpmZmZkfZUBmZmZmZhhoQDMzMzMzEWtAAAAAAAAKbkBmZmZmZoFwQM3MzMzM/XFAMzMzMzN6c0CamZmZmfZ0QAAAAAAAc3ZAZmZmZmbvd0DNzMzMzGt5QDMzMzMz6HpAmpmZmZlkfEAAAAAAAOF9QGZmZmZmXX9AZmZmZuZsgECamZmZGSuBQM3MzMxM6YFAAAAAAICngkAzMzMzs2WDQGZmZmbmI4RAmpmZmRnihEDNzMzMTKCFQAAAAACAXoZAMzMzM7Mch0BmZmZm5tqHQJqZmZkZmYhAzczMzExXiUAAAAAAgBWKQDMzMzOz04pAZmZmZuaRi0CamZmZGVCMQM3MzMxMDo1AAAAAAIDMjUAzMzMzs4qOQGZmZmbmSI9A\",\"dtype\":\"float64\",\"shape\":[75]}},\"selected\":{\"id\":\"f3ec7b44-a90e-4781-9378-3241e889fd1c\",\"type\":\"Selection\"},\"selection_policy\":{\"id\":\"d68475df-1b15-45f0-8e93-a0fd25f16626\",\"type\":\"UnionRenderers\"}},\"id\":\"812f27d8-578f-4622-9a3c-42f6c7ca96d1\",\"type\":\"ColumnDataSource\"},{\"attributes\":{},\"id\":\"0d37398e-17eb-4953-886f-bd410400e17b\",\"type\":\"LinearScale\"},{\"attributes\":{\"source\":{\"id\":\"2d542a8a-6a84-4a14-bbdf-426d71f4d168\",\"type\":\"ColumnDataSource\"}},\"id\":\"aa49c65c-1826-407c-bca5-57178b6ef2be\",\"type\":\"CDSView\"},{\"attributes\":{\"overlay\":{\"id\":\"8d482c06-d361-49a9-9075-41e922317751\",\"type\":\"BoxAnnotation\"}},\"id\":\"80c71250-d1fb-4e27-ab4c-9706064b484a\",\"type\":\"BoxZoomTool\"},{\"attributes\":{\"callback\":null,\"end\":0.01,\"start\":1020},\"id\":\"e765c823-a561-47f7-9470-9d22d49af7ef\",\"type\":\"Range1d\"},{\"attributes\":{\"plot\":{\"id\":\"20186915-d80e-4480-882a-56a1f08492af\",\"subtype\":\"Figure\",\"type\":\"Plot\"},\"ticker\":{\"id\":\"b394af0e-4983-4622-bf57-9cbf6ce9a199\",\"type\":\"BasicTicker\"}},\"id\":\"3daeb342-2687-4e90-9002-8875a4a82841\",\"type\":\"Grid\"},{\"attributes\":{\"data_source\":{\"id\":\"76bbb059-0849-4448-bbc4-618f7d8cf1bc\",\"type\":\"ColumnDataSource\"},\"glyph\":{\"id\":\"04e68cd2-25b0-4ef8-9c3b-af139fe288ad\",\"type\":\"Circle\"},\"hover_glyph\":null,\"muted_glyph\":null,\"nonselection_glyph\":{\"id\":\"e04ad891-fd25-4013-8cd7-cb26f88ba4ce\",\"type\":\"Circle\"},\"selection_glyph\":null,\"view\":{\"id\":\"e52fb934-b74e-4bb5-953c-2e3d61ef131f\",\"type\":\"CDSView\"}},\"id\":\"5515e0ea-a374-45f8-b49c-2e301949bcad\",\"type\":\"GlyphRenderer\"},{\"attributes\":{\"fill_alpha\":{\"value\":0.1},\"fill_color\":{\"value\":\"#1f77b4\"},\"line_alpha\":{\"value\":0.1},\"line_color\":{\"value\":\"#1f77b4\"},\"x\":{\"field\":\"x\"},\"y\":{\"field\":\"y\"}},\"id\":\"27a75f25-1548-4067-a86d-8f3363a738cb\",\"type\":\"Circle\"},{\"attributes\":{\"callback\":null,\"end\":16.437000024214036,\"start\":0.29680535696996},\"id\":\"a92eba79-b535-46a0-af61-7df7a0adc62a\",\"type\":\"Range1d\"},{\"attributes\":{\"items\":[{\"id\":\"2114d42a-0e4f-4261-834b-9d080c6acc60\",\"type\":\"LegendItem\"},{\"id\":\"b8811f93-40c7-41ae-bd35-2544fb088aca\",\"type\":\"LegendItem\"}],\"label_text_font_size\":{\"value\":\"8pt\"},\"location\":\"top_center\",\"orientation\":\"horizontal\",\"plot\":{\"id\":\"3f108a70-b241-41ed-ba57-d23b076f26a3\",\"subtype\":\"Figure\",\"type\":\"Plot\"}},\"id\":\"35314dcd-adc2-46c5-9bfc-6e37663599b2\",\"type\":\"Legend\"},{\"attributes\":{},\"id\":\"905b1ec8-9d63-4507-b8d1-65a3852caf0f\",\"type\":\"LinearScale\"},{\"attributes\":{\"axis_label\":\"cooling rate [K/day]\",\"formatter\":{\"id\":\"3bd11c43-b8a0-479c-81a9-0418d36a6f72\",\"type\":\"BasicTickFormatter\"},\"plot\":{\"id\":\"20186915-d80e-4480-882a-56a1f08492af\",\"subtype\":\"Figure\",\"type\":\"Plot\"},\"ticker\":{\"id\":\"b394af0e-4983-4622-bf57-9cbf6ce9a199\",\"type\":\"BasicTicker\"}},\"id\":\"c704fe29-80ab-46d8-b2b4-4ae3ffbc7670\",\"type\":\"LinearAxis\"},{\"attributes\":{\"data_source\":{\"id\":\"812f27d8-578f-4622-9a3c-42f6c7ca96d1\",\"type\":\"ColumnDataSource\"},\"glyph\":{\"id\":\"a007fa0f-f826-4156-aa71-53a714179787\",\"type\":\"Circle\"},\"hover_glyph\":null,\"muted_glyph\":null,\"nonselection_glyph\":{\"id\":\"7b1cd540-1bae-4e63-83a8-52e98a16111c\",\"type\":\"Circle\"},\"selection_glyph\":null,\"view\":{\"id\":\"30e9fb86-3595-4deb-afaf-b9b5e5b481f6\",\"type\":\"CDSView\"}},\"id\":\"775f4cc0-b313-472e-a966-dde6399c619d\",\"type\":\"GlyphRenderer\"},{\"attributes\":{\"above\":[{\"id\":\"9671ef3c-a276-4652-8e4e-db1e5266df23\",\"type\":\"Legend\"}],\"below\":[{\"id\":\"c704fe29-80ab-46d8-b2b4-4ae3ffbc7670\",\"type\":\"LinearAxis\"}],\"left\":[{\"id\":\"52ecc6bc-070d-4a06-a143-cc4a3994e64f\",\"type\":\"LinearAxis\"}],\"plot_width\":300,\"renderers\":[{\"id\":\"c704fe29-80ab-46d8-b2b4-4ae3ffbc7670\",\"type\":\"LinearAxis\"},{\"id\":\"3daeb342-2687-4e90-9002-8875a4a82841\",\"type\":\"Grid\"},{\"id\":\"52ecc6bc-070d-4a06-a143-cc4a3994e64f\",\"type\":\"LinearAxis\"},{\"id\":\"51f49b6a-5f9e-4ca6-86db-22ee12661b8c\",\"type\":\"Grid\"},{\"id\":\"0ae9686b-19e7-4dc7-b73f-2afec720cd9e\",\"type\":\"BoxAnnotation\"},{\"id\":\"2653931d-3986-45dc-8330-763dc53c7b1e\",\"type\":\"GlyphRenderer\"},{\"id\":\"5515e0ea-a374-45f8-b49c-2e301949bcad\",\"type\":\"GlyphRenderer\"},{\"id\":\"f2cdcb97-582e-45bf-99f5-3e32d65aec87\",\"type\":\"GlyphRenderer\"},{\"id\":\"9671ef3c-a276-4652-8e4e-db1e5266df23\",\"type\":\"Legend\"}],\"title\":{\"id\":\"ce448761-5ddd-480a-9fc4-3e0fe982c77c\",\"type\":\"Title\"},\"toolbar\":{\"id\":\"f73f8a91-30df-4b5e-afcb-79c4bccd3796\",\"type\":\"Toolbar\"},\"toolbar_location\":null,\"x_range\":{\"id\":\"8690df38-1669-4e55-8288-176b1e5b4eb1\",\"type\":\"Range1d\"},\"x_scale\":{\"id\":\"fd73ae1e-4d02-4737-953e-004328638e32\",\"type\":\"LinearScale\"},\"y_range\":{\"id\":\"36ab85be-c665-4ed1-8cce-c354801b1ca5\",\"type\":\"Range1d\"},\"y_scale\":{\"id\":\"0d37398e-17eb-4953-886f-bd410400e17b\",\"type\":\"LinearScale\"}},\"id\":\"20186915-d80e-4480-882a-56a1f08492af\",\"subtype\":\"Figure\",\"type\":\"Plot\"},{\"attributes\":{\"fill_alpha\":{\"value\":0.1},\"fill_color\":{\"value\":\"#1f77b4\"},\"line_alpha\":{\"value\":0.1},\"line_color\":{\"value\":\"#1f77b4\"},\"x\":{\"field\":\"x\"},\"y\":{\"field\":\"y\"}},\"id\":\"7b1cd540-1bae-4e63-83a8-52e98a16111c\",\"type\":\"Circle\"},{\"attributes\":{\"dimension\":1,\"plot\":{\"id\":\"3f108a70-b241-41ed-ba57-d23b076f26a3\",\"subtype\":\"Figure\",\"type\":\"Plot\"},\"ticker\":{\"id\":\"d8cdc84c-1849-4dbf-9f90-8f27dae03f2b\",\"type\":\"LogTicker\"}},\"id\":\"66a0b1be-bca0-4a5d-ac72-e3fa98498e22\",\"type\":\"Grid\"},{\"attributes\":{\"line_alpha\":0.1,\"line_color\":\"#1f77b4\",\"line_dash\":[6],\"line_width\":5,\"x\":{\"field\":\"x\"},\"y\":{\"field\":\"y\"}},\"id\":\"d82dcf81-df8a-40d4-b72b-d8c738cb0fff\",\"type\":\"Line\"},{\"attributes\":{\"data_source\":{\"id\":\"ff0159c0-ab41-4d45-949c-dda470ad0c6b\",\"type\":\"ColumnDataSource\"},\"glyph\":{\"id\":\"73634205-c444-48b0-8c7c-6f1a76a4a09c\",\"type\":\"Line\"},\"hover_glyph\":null,\"muted_glyph\":null,\"nonselection_glyph\":{\"id\":\"14a08ede-72bb-4649-bf5c-65848988c94d\",\"type\":\"Line\"},\"selection_glyph\":null,\"view\":{\"id\":\"49a5c6ab-511c-411b-8720-f6996592d779\",\"type\":\"CDSView\"}},\"id\":\"e9218e92-61b9-4862-acff-1116725ed680\",\"type\":\"GlyphRenderer\"},{\"attributes\":{\"callback\":null,\"data\":{\"x\":{\"__ndarray__\":\"46eMdFLeQ8B9d47eavcYwAFqXP0rpwPAScHOCM8a8j96lf6VU5oLQO0RvW3X2A9AGoJd103KBkAP36wbfTjrPxEnm+Kgmu2/jjJkQ7xk+r8Gp82FcRn0v4JJrMvHvtS/a3FUdPWy4D/G+CwESvHuP5LPhhZrDu0/EKFopX0r2T/fSIyUoL3Qv+BYMwRkTOW//diJnDVe5b/kn+HI7FDavw+mer06gcG/xNQ7u1/Qsj+ClLx+uHPBP/WqjAa1prm/kJcSD0lZzb/9g3PiN/ygv7kzir6tV9E/FXtljRTn0T/Xmw9JBPu7P52unb4YHaA/S6lh4WMgxD9r8hHl3+7MP5bjzcDCqsA/s1S5uxjne7/8UgB26GhdPwL3t4VGBrM/eLflLXuzpz+JY5jMAsGZv/WWllLX6LO/Eh/dqhlJtr/aPBekLeqyv+2mBjl3Pq2/q9aJnAYDpr8M+apy3WWbv31qZ+xnuJG/Lnx3/TLfh78uR7c1ts9UvxI97BpXBHe/6irRglq8m7+ZuFnQsbiqvyUrUX4Ef6q/TtD9zO6kor9doGw0ziOjv/9qoVaYfKq/9fL7Ricpqr/7RtrWptukv4BD8d4ldZ6/FQTqA8Dulr/0VNNH+hqSv1JJ0OL7kIa/hq53k+ldgL+y2VzyjRp7v9y5nNmJLoC/OBqte1D9gb9i7CT+x1J/v6CehIT2knC/DKq+b1NuYD8KFW/IbdmEP0pHH0RJgJA/tCj3OFx2lT/karuh2vSYP5hB+AOmm5o/Lcfmg9blmT9tVo1HKLuZP/byeh9rp5g/\",\"dtype\":\"float64\",\"shape\":[75]},\"y\":{\"__ndarray__\":\"GhExyth1ND/Sv8nbtpRIP2vylNV0PVE/aTum7souWD/At0SJ8fVgPw3Iuahxymc/MSNhhJWvcD/bTfBN02d3P2zb5nxnaoA/CD5h5MAGhz8NmeH1TyaQP+zrCsc9p5Y/LbKd76fGnz/bLW5ISEmmPww9YvTcQq8/JV2OstnstT8Er5Y7M8G+P0c+r3jqkcU/5h99k6ZBzj88bCIzFzjVP4enV8oyxN0//yH99nXg5D8qOpLLf0jtP5kqGJXUifQ/c9cS8kHP/D+/DpwzojQEQIEmwoanVwxA4lgXt9HgE0BSSZ2AJuIbQAMJih9jjiNA5q4l5INuK0AwTKYKRj0zQNv5fmq8/DpAaCJseHrtQkB/+zpwzoxKQM3MzMzMeFJAZmZmZmZqWEAAAAAAAFxeQM3MzMzMJmJAmpmZmZkfZUBmZmZmZhhoQDMzMzMzEWtAAAAAAAAKbkBmZmZmZoFwQM3MzMzM/XFAMzMzMzN6c0CamZmZmfZ0QAAAAAAAc3ZAZmZmZmbvd0DNzMzMzGt5QDMzMzMz6HpAmpmZmZlkfEAAAAAAAOF9QGZmZmZmXX9AZmZmZuZsgECamZmZGSuBQM3MzMxM6YFAAAAAAICngkAzMzMzs2WDQGZmZmbmI4RAmpmZmRnihEDNzMzMTKCFQAAAAACAXoZAMzMzM7Mch0BmZmZm5tqHQJqZmZkZmYhAzczMzExXiUAAAAAAgBWKQDMzMzOz04pAZmZmZuaRi0CamZmZGVCMQM3MzMxMDo1AAAAAAIDMjUAzMzMzs4qOQGZmZmbmSI9A\",\"dtype\":\"float64\",\"shape\":[75]}},\"selected\":{\"id\":\"96b29c0c-76b2-4808-935c-74c818e2e706\",\"type\":\"Selection\"},\"selection_policy\":{\"id\":\"894c1d06-8d92-4883-a3d0-ce1ddac299f5\",\"type\":\"UnionRenderers\"}},\"id\":\"617351af-690b-4324-bee4-066ff752b0c8\",\"type\":\"ColumnDataSource\"},{\"attributes\":{},\"id\":\"d7981072-5b47-4246-b728-ff88a12762ca\",\"type\":\"UnionRenderers\"},{\"attributes\":{},\"id\":\"bb35cc4c-842a-4ebd-961a-c85f4437ccd6\",\"type\":\"PanTool\"},{\"attributes\":{},\"id\":\"77085612-1108-4739-9b30-c6f48afa2179\",\"type\":\"SaveTool\"},{\"attributes\":{\"source\":{\"id\":\"812f27d8-578f-4622-9a3c-42f6c7ca96d1\",\"type\":\"ColumnDataSource\"}},\"id\":\"30e9fb86-3595-4deb-afaf-b9b5e5b481f6\",\"type\":\"CDSView\"},{\"attributes\":{\"axis_label\":\"pressure [mb]\",\"formatter\":{\"id\":\"53823e7f-df87-4827-b15e-df3f701c001a\",\"type\":\"BasicTickFormatter\"},\"plot\":{\"id\":\"20186915-d80e-4480-882a-56a1f08492af\",\"subtype\":\"Figure\",\"type\":\"Plot\"},\"ticker\":{\"id\":\"9329067c-3cf6-423b-a449-5b7f5081b943\",\"type\":\"BasicTicker\"}},\"id\":\"52ecc6bc-070d-4a06-a143-cc4a3994e64f\",\"type\":\"LinearAxis\"},{\"attributes\":{\"callback\":null,\"data\":{\"x\":{\"__ndarray__\":\"0CYBcvU5UkCik9zf2GVBQF1VoNfLZ0BAVLxhiVXTPUDD1Wu1wJM6QFJyB025jjdAU6Aw5+b/NECYe1uuDfgyQB6bYtVTbTFAPxYSAF1HMEA00pYVm9QuQLolHbMzgC1AntlwirGsLECv+G9SjE4rQJH6ZLBp0ShAsLZQyPd/JkDyjgyf2PwkQLgyNGsrJyRAA13QbJD6I0C8hy0ilI4kQOVTXCEgcSZAovOGvZSGJUBVc/ZmUOIgQOf/6GHAyRlAcE8fAOBSFEDRur1U//gPQGFD9ZbokghAQsqHuSqSA0C91ci3W0UBQCtRQfvz7/4/kh8pntyB+j9t1/n+4TX1P773MAUjFfI/RgzR+CI28T8hBW8WHK7uPzVKjJfU8uk/0FPt4/z65T/wVYqzMPDhPz7K9C5CXuE/8+hSn9hY4T/9PPCkR6rhP1XsIC599OA/66X1nBCX3z/YbRM56QjcPz4dkSQc/dM/S7Wb8Fq00T+/yQdmX0vcP7TrGf476eM/WqNPJoWO7D9qOH1bcwDzP2bw+R5DQ/Y/RLSuQOQp+D8+aif8yAz5P0Wv6eBKRfk/0i2+IN4R+T/ik8QNFZr4PyS5UD5j/Pc/yJ68zXRG9z/2CHPL54H2P59SOhwKtPU/npkP8dfg9D8NlmVcdQz0P80ugRvuOvM/byxiAHN18j9USVZie8nxP5l9lNXYSPE/OB+F0UYP8T8Y7dsUCTHxP3EBgTHPcPE/bfx15p8S8T8FT+xkGtTuP6mdG7rkxuk/pboqTkHX5D/CrN8qGYngP7R4ZaL+htU/\",\"dtype\":\"float64\",\"shape\":[75]},\"y\":{\"__ndarray__\":\"GhExyth1ND/Sv8nbtpRIP2vylNV0PVE/aTum7souWD/At0SJ8fVgPw3Iuahxymc/MSNhhJWvcD/bTfBN02d3P2zb5nxnaoA/CD5h5MAGhz8NmeH1TyaQP+zrCsc9p5Y/LbKd76fGnz/bLW5ISEmmPww9YvTcQq8/JV2OstnstT8Er5Y7M8G+P0c+r3jqkcU/5h99k6ZBzj88bCIzFzjVP4enV8oyxN0//yH99nXg5D8qOpLLf0jtP5kqGJXUifQ/c9cS8kHP/D+/DpwzojQEQIEmwoanVwxA4lgXt9HgE0BSSZ2AJuIbQAMJih9jjiNA5q4l5INuK0AwTKYKRj0zQNv5fmq8/DpAaCJseHrtQkB/+zpwzoxKQM3MzMzMeFJAZmZmZmZqWEAAAAAAAFxeQM3MzMzMJmJAmpmZmZkfZUBmZmZmZhhoQDMzMzMzEWtAAAAAAAAKbkBmZmZmZoFwQM3MzMzM/XFAMzMzMzN6c0CamZmZmfZ0QAAAAAAAc3ZAZmZmZmbvd0DNzMzMzGt5QDMzMzMz6HpAmpmZmZlkfEAAAAAAAOF9QGZmZmZmXX9AZmZmZuZsgECamZmZGSuBQM3MzMxM6YFAAAAAAICngkAzMzMzs2WDQGZmZmbmI4RAmpmZmRnihEDNzMzMTKCFQAAAAACAXoZAMzMzM7Mch0BmZmZm5tqHQJqZmZkZmYhAzczMzExXiUAAAAAAgBWKQDMzMzOz04pAZmZmZuaRi0CamZmZGVCMQM3MzMxMDo1AAAAAAIDMjUAzMzMzs4qOQGZmZmbmSI9A\",\"dtype\":\"float64\",\"shape\":[75]}},\"selected\":{\"id\":\"02f8a702-aefa-48e5-b672-8f0327382859\",\"type\":\"Selection\"},\"selection_policy\":{\"id\":\"8f83ea40-55f7-42ee-8af2-74b0ab7e1d34\",\"type\":\"UnionRenderers\"}},\"id\":\"ff0159c0-ab41-4d45-949c-dda470ad0c6b\",\"type\":\"ColumnDataSource\"},{\"attributes\":{},\"id\":\"5c44277a-e175-4d67-8a2f-ac9f949a1113\",\"type\":\"BasicTicker\"},{\"attributes\":{\"overlay\":{\"id\":\"0ae9686b-19e7-4dc7-b73f-2afec720cd9e\",\"type\":\"BoxAnnotation\"}},\"id\":\"6b3aa58f-8ee8-4cff-9ea8-93edb19feb23\",\"type\":\"BoxZoomTool\"},{\"attributes\":{\"line_alpha\":0.1,\"line_color\":\"#1f77b4\",\"line_dash\":[6],\"line_width\":5,\"x\":{\"field\":\"x\"},\"y\":{\"field\":\"y\"}},\"id\":\"6167a38d-1d61-44bf-a8c5-756d587636a9\",\"type\":\"Line\"},{\"attributes\":{\"plot\":{\"id\":\"3f108a70-b241-41ed-ba57-d23b076f26a3\",\"subtype\":\"Figure\",\"type\":\"Plot\"},\"ticker\":{\"id\":\"5c44277a-e175-4d67-8a2f-ac9f949a1113\",\"type\":\"BasicTicker\"}},\"id\":\"ac3a8190-02c8-4524-9b9d-465f2deae4ae\",\"type\":\"Grid\"},{\"attributes\":{\"fill_alpha\":{\"value\":0.1},\"fill_color\":{\"value\":\"#1f77b4\"},\"line_alpha\":{\"value\":0.1},\"line_color\":{\"value\":\"#1f77b4\"},\"x\":{\"field\":\"x\"},\"y\":{\"field\":\"y\"}},\"id\":\"e04ad891-fd25-4013-8cd7-cb26f88ba4ce\",\"type\":\"Circle\"},{\"attributes\":{},\"id\":\"d68475df-1b15-45f0-8e93-a0fd25f16626\",\"type\":\"UnionRenderers\"},{\"attributes\":{\"active_drag\":\"auto\",\"active_inspect\":\"auto\",\"active_scroll\":\"auto\",\"active_tap\":\"auto\",\"tools\":[{\"id\":\"4dfe7461-8fc7-4d92-bbf2-ee753a18b08a\",\"type\":\"PanTool\"},{\"id\":\"28ae7a23-82b2-4dcb-9c5c-ae5a07c23b71\",\"type\":\"WheelZoomTool\"},{\"id\":\"80c71250-d1fb-4e27-ab4c-9706064b484a\",\"type\":\"BoxZoomTool\"},{\"id\":\"fe6191fd-c7c1-418c-9ee2-df3cd0106777\",\"type\":\"SaveTool\"},{\"id\":\"a82a57a6-85a1-4ae7-93a8-6ffc9e7edd5e\",\"type\":\"ResetTool\"},{\"id\":\"de3428cc-30aa-47bf-8985-1300344ef696\",\"type\":\"HelpTool\"}]},\"id\":\"76646eab-33b4-49be-bb83-d3607821e644\",\"type\":\"Toolbar\"},{\"attributes\":{},\"id\":\"61bd58aa-4dbb-4a7f-8763-1d8452591975\",\"type\":\"LogScale\"},{\"attributes\":{\"line_color\":\"#4daf4a\",\"line_width\":1.5,\"x\":{\"field\":\"x\"},\"y\":{\"field\":\"y\"}},\"id\":\"73634205-c444-48b0-8c7c-6f1a76a4a09c\",\"type\":\"Line\"},{\"attributes\":{\"above\":[{\"id\":\"812191d9-6a94-427e-853b-bfd14c210413\",\"type\":\"Legend\"}],\"below\":[{\"id\":\"a41861b6-ce7d-4534-9699-f93927e0fab4\",\"type\":\"LinearAxis\"}],\"left\":[{\"id\":\"f3c2454a-b4e2-4df0-8a8a-8f79271768e5\",\"type\":\"LogAxis\"}],\"plot_width\":300,\"renderers\":[{\"id\":\"a41861b6-ce7d-4534-9699-f93927e0fab4\",\"type\":\"LinearAxis\"},{\"id\":\"1ead2095-7927-49b4-a071-aaeacf934684\",\"type\":\"Grid\"},{\"id\":\"f3c2454a-b4e2-4df0-8a8a-8f79271768e5\",\"type\":\"LogAxis\"},{\"id\":\"6726ae82-f45a-4059-b03b-15c06b97344d\",\"type\":\"Grid\"},{\"id\":\"8d482c06-d361-49a9-9075-41e922317751\",\"type\":\"BoxAnnotation\"},{\"id\":\"50e3380a-349d-4463-8ec0-c6c982f72b34\",\"type\":\"GlyphRenderer\"},{\"id\":\"2c21862d-aab2-4fdd-b991-74153e0cebd3\",\"type\":\"GlyphRenderer\"},{\"id\":\"812191d9-6a94-427e-853b-bfd14c210413\",\"type\":\"Legend\"}],\"title\":{\"id\":\"4587252d-7325-4d53-872e-73790c5cf8ff\",\"type\":\"Title\"},\"toolbar\":{\"id\":\"76646eab-33b4-49be-bb83-d3607821e644\",\"type\":\"Toolbar\"},\"toolbar_location\":null,\"x_range\":{\"id\":\"9da4988a-cbb1-4138-b7d6-8c7517cd8fac\",\"type\":\"Range1d\"},\"x_scale\":{\"id\":\"905b1ec8-9d63-4507-b8d1-65a3852caf0f\",\"type\":\"LinearScale\"},\"y_range\":{\"id\":\"e765c823-a561-47f7-9470-9d22d49af7ef\",\"type\":\"Range1d\"},\"y_scale\":{\"id\":\"61bd58aa-4dbb-4a7f-8763-1d8452591975\",\"type\":\"LogScale\"}},\"id\":\"1df1f524-0483-479c-84d0-cefa52599dad\",\"subtype\":\"Figure\",\"type\":\"Plot\"},{\"attributes\":{\"active_drag\":\"auto\",\"active_inspect\":\"auto\",\"active_scroll\":\"auto\",\"active_tap\":\"auto\",\"tools\":[{\"id\":\"83e20895-4235-4c57-b91c-859b5a71a87d\",\"type\":\"PanTool\"},{\"id\":\"4e2ffb5a-12e8-48dd-96be-833f36c06345\",\"type\":\"WheelZoomTool\"},{\"id\":\"6b3aa58f-8ee8-4cff-9ea8-93edb19feb23\",\"type\":\"BoxZoomTool\"},{\"id\":\"77085612-1108-4739-9b30-c6f48afa2179\",\"type\":\"SaveTool\"},{\"id\":\"7d248a72-7c94-4901-b3e7-fd9022f62116\",\"type\":\"ResetTool\"},{\"id\":\"8f52e41a-969e-4e4b-9e1b-fa6db6a62d42\",\"type\":\"HelpTool\"}]},\"id\":\"f73f8a91-30df-4b5e-afcb-79c4bccd3796\",\"type\":\"Toolbar\"},{\"attributes\":{\"callback\":null,\"data\":{\"x\":{\"__ndarray__\":\"vqV1b5iVQEBniRUI1408QHodlS+yWj5AaajueQL1PkBzqCsoCwc+QJAUvzrUiTtAk1AcojDZN0CQ4jiX0dEzQOTBTc5+gDBALKa3dyJCLUBSHd3kbFEsQG7Dv3Q92ixAtiC24eC3LUA8yLLyoD0tQItnzWFQoipAuPt7tVNJJ0CsLGia63YkQCr98Cpl0iJAcr8HE62kIkC9eua7DLwjQE5pZjYbKyZASWv9fDWsJUCoZfFIHyghQD7Nzo0lYxlAtLqmtxVoE0DB7DN1DrUPQNeJxk7evQpApHk0Sw3PBUCbUhHaMyUCQKE+NsHccP8/vVRVGukF/T+8FZz7vdP4PzG0Sl17KvQ/8lIV4Dsa8T9LBaqK0LzuPxdJQ2idU+w/Rq/LljR25z/SkiWdKCLhP73uQ4lOwt0/I4ru02of3T/DqtrgA5reP88DIXUrQd4/GWtkya/W3D9Kvuhhi1LaP5amyqWV4dI/aPmvWGH10D93EtKvjzbcPzkT5E8zu+M/ARo5UqKw6z+mavrMrSryPwxnB/tKb/U/w8VGyryU9z85BYSKqnP4P+6jNB5mcfg/Ok6G5pRA+D+rwQ3XN/P3PxX01KaOgvc/uPaszbnq9j+iu1Piezn2Pw2ydCTohvU/QKroHRzA9D80OXPOWvHzP1n1zQeRGvM/OdJqX3hR8j9nJFiaKKrxP/v4D99FOPE/jP48+30X8T9By2zwu1rxP5B+kVbQsvE/ENlZV3lo8T9dKvo5wZvvP7hfO+rBm+o/4PBJAnCm5T93Fxxt8lbhP+EnXVR1Edc/\",\"dtype\":\"float64\",\"shape\":[75]},\"y\":{\"__ndarray__\":\"GhExyth1ND/Sv8nbtpRIP2vylNV0PVE/aTum7souWD/At0SJ8fVgPw3Iuahxymc/MSNhhJWvcD/bTfBN02d3P2zb5nxnaoA/CD5h5MAGhz8NmeH1TyaQP+zrCsc9p5Y/LbKd76fGnz/bLW5ISEmmPww9YvTcQq8/JV2OstnstT8Er5Y7M8G+P0c+r3jqkcU/5h99k6ZBzj88bCIzFzjVP4enV8oyxN0//yH99nXg5D8qOpLLf0jtP5kqGJXUifQ/c9cS8kHP/D+/DpwzojQEQIEmwoanVwxA4lgXt9HgE0BSSZ2AJuIbQAMJih9jjiNA5q4l5INuK0AwTKYKRj0zQNv5fmq8/DpAaCJseHrtQkB/+zpwzoxKQM3MzMzMeFJAZmZmZmZqWEAAAAAAAFxeQM3MzMzMJmJAmpmZmZkfZUBmZmZmZhhoQDMzMzMzEWtAAAAAAAAKbkBmZmZmZoFwQM3MzMzM/XFAMzMzMzN6c0CamZmZmfZ0QAAAAAAAc3ZAZmZmZmbvd0DNzMzMzGt5QDMzMzMz6HpAmpmZmZlkfEAAAAAAAOF9QGZmZmZmXX9AZmZmZuZsgECamZmZGSuBQM3MzMxM6YFAAAAAAICngkAzMzMzs2WDQGZmZmbmI4RAmpmZmRnihEDNzMzMTKCFQAAAAACAXoZAMzMzM7Mch0BmZmZm5tqHQJqZmZkZmYhAzczMzExXiUAAAAAAgBWKQDMzMzOz04pAZmZmZuaRi0CamZmZGVCMQM3MzMxMDo1AAAAAAIDMjUAzMzMzs4qOQGZmZmbmSI9A\",\"dtype\":\"float64\",\"shape\":[75]}},\"selected\":{\"id\":\"fa58ce34-cb1f-434c-b04f-76c52c26c445\",\"type\":\"Selection\"},\"selection_policy\":{\"id\":\"a7e117e5-6d82-4a0c-9efb-5ff996da5fdf\",\"type\":\"UnionRenderers\"}},\"id\":\"ea976162-047f-4b2f-aec5-1c3fa8044912\",\"type\":\"ColumnDataSource\"},{\"attributes\":{\"source\":{\"id\":\"ff0159c0-ab41-4d45-949c-dda470ad0c6b\",\"type\":\"ColumnDataSource\"}},\"id\":\"49a5c6ab-511c-411b-8720-f6996592d779\",\"type\":\"CDSView\"},{\"attributes\":{\"num_minor_ticks\":10},\"id\":\"17247973-071f-4645-acb9-b527ad26ec6b\",\"type\":\"LogTicker\"},{\"attributes\":{\"fill_alpha\":{\"value\":0.7},\"fill_color\":{\"value\":\"#984ea3\"},\"line_alpha\":{\"value\":0.7},\"line_color\":{\"value\":\"#984ea3\"},\"x\":{\"field\":\"x\"},\"y\":{\"field\":\"y\"}},\"id\":\"3e491f91-20a4-4cdf-bb58-795ccc25d419\",\"type\":\"Circle\"},{\"attributes\":{\"num_minor_ticks\":10},\"id\":\"d8cdc84c-1849-4dbf-9f90-8f27dae03f2b\",\"type\":\"LogTicker\"},{\"attributes\":{\"callback\":null,\"end\":0.01,\"start\":1020},\"id\":\"36ab85be-c665-4ed1-8cce-c354801b1ca5\",\"type\":\"Range1d\"},{\"attributes\":{\"data_source\":{\"id\":\"617351af-690b-4324-bee4-066ff752b0c8\",\"type\":\"ColumnDataSource\"},\"glyph\":{\"id\":\"3e491f91-20a4-4cdf-bb58-795ccc25d419\",\"type\":\"Circle\"},\"hover_glyph\":null,\"muted_glyph\":null,\"nonselection_glyph\":{\"id\":\"27a75f25-1548-4067-a86d-8f3363a738cb\",\"type\":\"Circle\"},\"selection_glyph\":null,\"view\":{\"id\":\"81180d44-223d-431c-9062-8b983400a562\",\"type\":\"CDSView\"}},\"id\":\"50e3380a-349d-4463-8ec0-c6c982f72b34\",\"type\":\"GlyphRenderer\"},{\"attributes\":{\"axis_label\":\"cooling rate [K/day]\",\"formatter\":{\"id\":\"1c1a7891-752f-42f9-aca2-ed68346639fd\",\"type\":\"BasicTickFormatter\"},\"plot\":{\"id\":\"3f108a70-b241-41ed-ba57-d23b076f26a3\",\"subtype\":\"Figure\",\"type\":\"Plot\"},\"ticker\":{\"id\":\"5c44277a-e175-4d67-8a2f-ac9f949a1113\",\"type\":\"BasicTicker\"}},\"id\":\"155b66d0-9615-4894-b91b-c3a38a45a6d7\",\"type\":\"LinearAxis\"},{\"attributes\":{},\"id\":\"28ae7a23-82b2-4dcb-9c5c-ae5a07c23b71\",\"type\":\"WheelZoomTool\"},{\"attributes\":{\"items\":[{\"id\":\"2524320f-e528-4b6b-878e-6eefced298ed\",\"type\":\"LegendItem\"},{\"id\":\"b5652fea-2eba-459c-9dd0-140fe3cfa5e5\",\"type\":\"LegendItem\"}],\"label_text_font_size\":{\"value\":\"8pt\"},\"location\":\"top_center\",\"orientation\":\"horizontal\",\"plot\":{\"id\":\"20186915-d80e-4480-882a-56a1f08492af\",\"subtype\":\"Figure\",\"type\":\"Plot\"}},\"id\":\"9671ef3c-a276-4652-8e4e-db1e5266df23\",\"type\":\"Legend\"},{\"attributes\":{\"axis_label\":\"pressure [mb]\",\"formatter\":{\"id\":\"b9cc4ca6-331c-46b8-9772-0b900fdb2150\",\"type\":\"LogTickFormatter\"},\"plot\":{\"id\":\"3f108a70-b241-41ed-ba57-d23b076f26a3\",\"subtype\":\"Figure\",\"type\":\"Plot\"},\"ticker\":{\"id\":\"d8cdc84c-1849-4dbf-9f90-8f27dae03f2b\",\"type\":\"LogTicker\"}},\"id\":\"2451be27-b858-44a6-96e0-5eb61b6b1857\",\"type\":\"LogAxis\"},{\"attributes\":{\"line_alpha\":0.1,\"line_color\":\"#1f77b4\",\"line_width\":1.5,\"x\":{\"field\":\"x\"},\"y\":{\"field\":\"y\"}},\"id\":\"14a08ede-72bb-4649-bf5c-65848988c94d\",\"type\":\"Line\"}],\"root_ids\":[\"e60c856f-7b29-4e4f-be81-3f19cf48f4de\"]},\"title\":\"Bokeh Application\",\"version\":\"0.12.16\"}};\n",
       "  var render_items = [{\"docid\":\"28adf2fd-d3df-49cc-95a5-3bfb79c4c00f\",\"elementid\":\"660c9c94-6f94-40fe-900e-900a6f494dc3\",\"modelid\":\"e60c856f-7b29-4e4f-be81-3f19cf48f4de\"}];\n",
       "  root.Bokeh.embed.embed_items_notebook(docs_json, render_items);\n",
       "\n",
       "  }\n",
       "  if (root.Bokeh !== undefined) {\n",
       "    embed_document(root);\n",
       "  } else {\n",
       "    var attempts = 0;\n",
       "    var timer = setInterval(function(root) {\n",
       "      if (root.Bokeh !== undefined) {\n",
       "        embed_document(root);\n",
       "        clearInterval(timer);\n",
       "      }\n",
       "      attempts++;\n",
       "      if (attempts > 100) {\n",
       "        console.log(\"Bokeh: ERROR: Unable to run BokehJS code because BokehJS library is missing\")\n",
       "        clearInterval(timer);\n",
       "      }\n",
       "    }, 10, root)\n",
       "  }\n",
       "})(window);"
      ],
      "application/vnd.bokehjs_exec.v0+json": ""
     },
     "metadata": {
      "application/vnd.bokehjs_exec.v0+json": {
       "id": "e60c856f-7b29-4e4f-be81-3f19cf48f4de"
      }
     },
     "output_type": "display_data"
    },
    {
     "data": {
      "text/markdown": [
       "*FIGURE.* Cooling rates & difference."
      ],
      "text/plain": [
       "<IPython.core.display.Markdown object>"
      ]
     },
     "metadata": {},
     "output_type": "display_data"
    },
    {
     "data": {
      "text/html": [
       "<a id=\"Fluxes._saw.\"></a>"
      ],
      "text/plain": [
       "<IPython.core.display.HTML object>"
      ]
     },
     "metadata": {},
     "output_type": "display_data"
    },
    {
     "data": {
      "text/markdown": [
       "# Fluxes. saw."
      ],
      "text/plain": [
       "<IPython.core.display.Markdown object>"
      ]
     },
     "metadata": {},
     "output_type": "display_data"
    },
    {
     "data": {
      "text/html": [
       "\n",
       "<div class=\"bk-root\">\n",
       "    <div class=\"bk-plotdiv\" id=\"90ef836c-1135-4596-a056-501392373a87\"></div>\n",
       "</div>"
      ]
     },
     "metadata": {},
     "output_type": "display_data"
    },
    {
     "data": {
      "application/javascript": [
       "(function(root) {\n",
       "  function embed_document(root) {\n",
       "    \n",
       "  var docs_json = {\"2959c5be-290c-4769-bd7c-1c417c754077\":{\"roots\":{\"references\":[{\"attributes\":{\"bottom_units\":\"screen\",\"fill_alpha\":{\"value\":0.5},\"fill_color\":{\"value\":\"lightgrey\"},\"left_units\":\"screen\",\"level\":\"overlay\",\"line_alpha\":{\"value\":1.0},\"line_color\":{\"value\":\"black\"},\"line_dash\":[4,4],\"line_width\":{\"value\":2},\"plot\":null,\"render_mode\":\"css\",\"right_units\":\"screen\",\"top_units\":\"screen\"},\"id\":\"fbf63d1d-55ed-4a71-b859-1bbbeae47e03\",\"type\":\"BoxAnnotation\"},{\"attributes\":{\"callback\":null},\"id\":\"46ea97ef-f842-4a94-8d17-032235ccc6c8\",\"type\":\"DataRange1d\"},{\"attributes\":{\"callback\":null,\"factors\":[\"1\",\"2\",\"3\",\"4\",\"5\",\"6\",\"7\",\"8\",\"9\",\"10\",\"11\"]},\"id\":\"60f5eaa3-3826-4192-a176-2bf10fdf6a49\",\"type\":\"FactorRange\"},{\"attributes\":{\"callback\":null,\"data\":{\"band\":[\"1\",\"2\",\"3\",\"4\",\"5\",\"6\",\"7\",\"8\",\"9\",\"10\",\"11\"],\"flux\":{\"__ndarray__\":\"gGLUtfY+xz8ABgWlaOWyPwDVO9wODbO/gApHkEqx0D8Ans4VpYS4PwDQ+uk/a46/IIOj5NU50j+AqrUwC+24P4BE2safqKA/AGgLdJJSdb+AbxLeeT2TPw==\",\"dtype\":\"float64\",\"shape\":[11]}},\"selected\":{\"id\":\"d2e98aea-afed-423b-b8ad-b3a660cc4e6a\",\"type\":\"Selection\"},\"selection_policy\":{\"id\":\"bc05ecc7-369f-4d2d-b4f2-fdd859ed1870\",\"type\":\"UnionRenderers\"}},\"id\":\"72089b8d-b6d8-4985-a8a5-8b0341bd90bb\",\"type\":\"ColumnDataSource\"},{\"attributes\":{\"callback\":null,\"data\":{\"band\":[\"1\",\"2\",\"3\",\"4\",\"5\",\"6\",\"7\",\"8\",\"9\",\"10\",\"11\"],\"flux\":{\"__ndarray__\":\"AEDdJAaBZb8Asg5HV+nAvwA2IEJcueC/AAeY+Q5+tj/A8wOyMnXIPyAWSPVCprm/QFhl8EEZsD8ghGffaAm8PwDdJRad0ZM/AJDEy9O5oj8Ad2DnQ6NtPw==\",\"dtype\":\"float64\",\"shape\":[11]}},\"selected\":{\"id\":\"a0212b5b-5655-42f1-b0b2-e06df8a6cc35\",\"type\":\"Selection\"},\"selection_policy\":{\"id\":\"3597c294-3ae1-46df-bc80-70afc32b84b4\",\"type\":\"UnionRenderers\"}},\"id\":\"ec9fc051-58d2-4bcf-8a58-f2a2eec5b33c\",\"type\":\"ColumnDataSource\"},{\"attributes\":{\"callback\":null,\"data\":{\"band\":[\"1\",\"2\",\"3\",\"4\",\"5\",\"6\",\"7\",\"8\",\"9\",\"10\",\"11\"],\"flux\":{\"__ndarray__\":\"gOIKWg6Vxz8AZUNIJ1zKP8BwLN5+r9w/QMdlApwjxj+ArqKa7WW4vwBJ8fEJ2bU/gB6GVidnzD8AlIyLWeWIvwDBKhcq/4o/gEM6lz1kpb+AJgqhQRKPPw==\",\"dtype\":\"float64\",\"shape\":[11]}},\"selected\":{\"id\":\"a3dc0fc2-350d-49d2-8a61-0a475c13fc37\",\"type\":\"Selection\"},\"selection_policy\":{\"id\":\"3467c0bf-4296-44f3-8f2a-8ec5ee44fdfc\",\"type\":\"UnionRenderers\"}},\"id\":\"0297f09c-ee10-47a3-a0a4-b708abb859e7\",\"type\":\"ColumnDataSource\"},{\"attributes\":{\"plot\":null,\"text\":\"TOA flux. CLIRAD (single-run) - CRD.\"},\"id\":\"0ac10972-6ad6-467c-8404-2146538e3977\",\"type\":\"Title\"},{\"attributes\":{\"below\":[{\"id\":\"5deb88d1-73dd-49c0-b6f4-0c1c3a751092\",\"type\":\"CategoricalAxis\"}],\"left\":[{\"id\":\"37916983-f034-45e1-8303-187595b2fa3c\",\"type\":\"LinearAxis\"}],\"plot_height\":300,\"plot_width\":300,\"renderers\":[{\"id\":\"5deb88d1-73dd-49c0-b6f4-0c1c3a751092\",\"type\":\"CategoricalAxis\"},{\"id\":\"408e8591-b824-430b-bd15-b1000ba0c2cd\",\"type\":\"Grid\"},{\"id\":\"37916983-f034-45e1-8303-187595b2fa3c\",\"type\":\"LinearAxis\"},{\"id\":\"14eea9ce-1f20-4a60-a1de-527857451249\",\"type\":\"Grid\"},{\"id\":\"4b57ecf0-9a88-48f8-8929-b554f0148a54\",\"type\":\"BoxAnnotation\"},{\"id\":\"18559017-f2ee-4771-8a82-f1e42d123244\",\"type\":\"GlyphRenderer\"}],\"title\":{\"id\":\"f896ee5d-bb4d-4138-8b02-195bb3bc6756\",\"type\":\"Title\"},\"toolbar\":{\"id\":\"947f934f-581e-4d22-ac28-b9b8c5bbe4be\",\"type\":\"Toolbar\"},\"toolbar_location\":null,\"x_range\":{\"id\":\"947a3643-de16-47f2-91f0-063c0895985b\",\"type\":\"FactorRange\"},\"x_scale\":{\"id\":\"52332336-583c-49c9-9372-67f3a674544e\",\"type\":\"CategoricalScale\"},\"y_range\":{\"id\":\"7a5d0c28-b1d6-4bc7-a18d-a8ed3beddf15\",\"type\":\"DataRange1d\"},\"y_scale\":{\"id\":\"3a2b3d69-f40c-4ceb-aa77-863eff15f4ed\",\"type\":\"LinearScale\"}},\"id\":\"be32ef84-e9de-4032-9ae4-b255a101921a\",\"subtype\":\"Figure\",\"type\":\"Plot\"},{\"attributes\":{\"below\":[{\"id\":\"30a0e62f-ea6e-42b0-9e88-338430c679c7\",\"type\":\"CategoricalAxis\"}],\"left\":[{\"id\":\"23998cf0-037a-4afa-ad25-8e159e5e3e2c\",\"type\":\"LinearAxis\"}],\"plot_height\":300,\"plot_width\":300,\"renderers\":[{\"id\":\"30a0e62f-ea6e-42b0-9e88-338430c679c7\",\"type\":\"CategoricalAxis\"},{\"id\":\"729b7a09-7e5a-4ddb-9c31-574d9b9aa128\",\"type\":\"Grid\"},{\"id\":\"23998cf0-037a-4afa-ad25-8e159e5e3e2c\",\"type\":\"LinearAxis\"},{\"id\":\"92bb1410-3fad-4896-af11-33ed84b5abaa\",\"type\":\"Grid\"},{\"id\":\"7676c64b-03b4-4a87-9b77-f610234f338e\",\"type\":\"BoxAnnotation\"},{\"id\":\"97c69049-9522-4117-871e-b3c43f291a69\",\"type\":\"GlyphRenderer\"}],\"title\":{\"id\":\"0ac10972-6ad6-467c-8404-2146538e3977\",\"type\":\"Title\"},\"toolbar\":{\"id\":\"8bbf4788-bb77-4d43-a9a8-9368432e0f2b\",\"type\":\"Toolbar\"},\"toolbar_location\":null,\"x_range\":{\"id\":\"60f5eaa3-3826-4192-a176-2bf10fdf6a49\",\"type\":\"FactorRange\"},\"x_scale\":{\"id\":\"cf1734d3-345b-4ec5-84bd-d82339863bb9\",\"type\":\"CategoricalScale\"},\"y_range\":{\"id\":\"46ea97ef-f842-4a94-8d17-032235ccc6c8\",\"type\":\"DataRange1d\"},\"y_scale\":{\"id\":\"774dfac2-d924-45cb-85e1-a503c90f0a27\",\"type\":\"LinearScale\"}},\"id\":\"dfad09c0-bfc9-438a-adb6-468f81aba49c\",\"subtype\":\"Figure\",\"type\":\"Plot\"},{\"attributes\":{\"source\":{\"id\":\"ec9fc051-58d2-4bcf-8a58-f2a2eec5b33c\",\"type\":\"ColumnDataSource\"}},\"id\":\"da344271-f60e-442a-ba63-c51b34b9011d\",\"type\":\"CDSView\"},{\"attributes\":{\"active_drag\":\"auto\",\"active_inspect\":\"auto\",\"active_scroll\":\"auto\",\"active_tap\":\"auto\",\"tools\":[{\"id\":\"688a2563-c114-4e16-9212-b13a8b5df7cb\",\"type\":\"PanTool\"},{\"id\":\"79bc3a09-1c1a-44da-9b47-f8720faa6034\",\"type\":\"WheelZoomTool\"},{\"id\":\"0d54803e-5515-4594-8851-f8bc1fe5fa51\",\"type\":\"BoxZoomTool\"},{\"id\":\"dea059e0-a839-443e-a520-75ca5db53f24\",\"type\":\"SaveTool\"},{\"id\":\"ff81eba8-a49f-4100-8c83-462f24bde867\",\"type\":\"ResetTool\"},{\"id\":\"2cc4bf07-38fa-4cc0-af82-fc4daada4c68\",\"type\":\"HelpTool\"}]},\"id\":\"8bbf4788-bb77-4d43-a9a8-9368432e0f2b\",\"type\":\"Toolbar\"},{\"attributes\":{},\"id\":\"9591016b-d1cd-450b-b732-d31befca9977\",\"type\":\"CategoricalTickFormatter\"},{\"attributes\":{},\"id\":\"d222ffc2-aaa2-41bf-a43d-bbf7dd62317b\",\"type\":\"CategoricalTicker\"},{\"attributes\":{\"below\":[{\"id\":\"3410dc56-963d-47de-89f5-2d360667cf01\",\"type\":\"CategoricalAxis\"}],\"left\":[{\"id\":\"c56d1c67-d9c8-4b81-84cf-f784779a6e45\",\"type\":\"LinearAxis\"}],\"plot_height\":300,\"plot_width\":300,\"renderers\":[{\"id\":\"3410dc56-963d-47de-89f5-2d360667cf01\",\"type\":\"CategoricalAxis\"},{\"id\":\"3886533d-9e28-428f-be03-c6d2b4922fd4\",\"type\":\"Grid\"},{\"id\":\"c56d1c67-d9c8-4b81-84cf-f784779a6e45\",\"type\":\"LinearAxis\"},{\"id\":\"e4878553-8404-4e69-80cc-7588e483a05f\",\"type\":\"Grid\"},{\"id\":\"fbf63d1d-55ed-4a71-b859-1bbbeae47e03\",\"type\":\"BoxAnnotation\"},{\"id\":\"0783a2b6-e03e-43a4-8f4f-2a6df8f1e317\",\"type\":\"GlyphRenderer\"}],\"title\":{\"id\":\"9a06d319-2b33-43ef-9f4f-f94129958736\",\"type\":\"Title\"},\"toolbar\":{\"id\":\"5da51b8b-facc-46d6-af3a-b9c79adfb165\",\"type\":\"Toolbar\"},\"toolbar_location\":null,\"x_range\":{\"id\":\"0f7e5aba-e4e6-4a16-a459-ed1d4ad1ed1e\",\"type\":\"FactorRange\"},\"x_scale\":{\"id\":\"90ec044f-a79a-4cd8-8af5-805bdf4583af\",\"type\":\"CategoricalScale\"},\"y_range\":{\"id\":\"33da2e50-a2c5-4643-a4cf-315a9f119515\",\"type\":\"DataRange1d\"},\"y_scale\":{\"id\":\"2e72b5cd-e15b-48d8-a1f4-39a4f1b6a914\",\"type\":\"LinearScale\"}},\"id\":\"ff3b9f3d-af98-4109-9856-8db261a3785b\",\"subtype\":\"Figure\",\"type\":\"Plot\"},{\"attributes\":{},\"id\":\"774dfac2-d924-45cb-85e1-a503c90f0a27\",\"type\":\"LinearScale\"},{\"attributes\":{\"children\":[{\"id\":\"9205b42a-beb8-495b-86ad-c7b0f0568804\",\"type\":\"Row\"}]},\"id\":\"b4ff84ff-ccb2-4fc2-a1fe-05bdc1bd2357\",\"type\":\"Column\"},{\"attributes\":{},\"id\":\"d4d5dbbc-46fc-43d2-95b0-b0b01ed3cfde\",\"type\":\"BasicTicker\"},{\"attributes\":{\"axis_label\":\"flux (W m-2)\",\"formatter\":{\"id\":\"577baca6-a9af-4241-8a1d-57a8cda00617\",\"type\":\"BasicTickFormatter\"},\"plot\":{\"id\":\"dfad09c0-bfc9-438a-adb6-468f81aba49c\",\"subtype\":\"Figure\",\"type\":\"Plot\"},\"ticker\":{\"id\":\"d4d5dbbc-46fc-43d2-95b0-b0b01ed3cfde\",\"type\":\"BasicTicker\"}},\"id\":\"23998cf0-037a-4afa-ad25-8e159e5e3e2c\",\"type\":\"LinearAxis\"},{\"attributes\":{\"bottom_units\":\"screen\",\"fill_alpha\":{\"value\":0.5},\"fill_color\":{\"value\":\"lightgrey\"},\"left_units\":\"screen\",\"level\":\"overlay\",\"line_alpha\":{\"value\":1.0},\"line_color\":{\"value\":\"black\"},\"line_dash\":[4,4],\"line_width\":{\"value\":2},\"plot\":null,\"render_mode\":\"css\",\"right_units\":\"screen\",\"top_units\":\"screen\"},\"id\":\"7676c64b-03b4-4a87-9b77-f610234f338e\",\"type\":\"BoxAnnotation\"},{\"attributes\":{\"axis_label\":\"spectral band\",\"formatter\":{\"id\":\"7b2ec19e-3569-490c-8da9-131136584164\",\"type\":\"CategoricalTickFormatter\"},\"plot\":{\"id\":\"ff3b9f3d-af98-4109-9856-8db261a3785b\",\"subtype\":\"Figure\",\"type\":\"Plot\"},\"ticker\":{\"id\":\"c01db267-215a-41ae-8d6e-edb58b7f0aa7\",\"type\":\"CategoricalTicker\"}},\"id\":\"3410dc56-963d-47de-89f5-2d360667cf01\",\"type\":\"CategoricalAxis\"},{\"attributes\":{\"fill_color\":{\"value\":\"#1f77b4\"},\"line_color\":{\"value\":\"#1f77b4\"},\"top\":{\"field\":\"flux\"},\"width\":{\"value\":0.9},\"x\":{\"field\":\"band\"}},\"id\":\"e6be018d-dda9-478d-9e57-72c21ec12494\",\"type\":\"VBar\"},{\"attributes\":{},\"id\":\"d2e98aea-afed-423b-b8ad-b3a660cc4e6a\",\"type\":\"Selection\"},{\"attributes\":{},\"id\":\"35a6b0b6-d1fa-4034-9ea1-41a8f74117cb\",\"type\":\"SaveTool\"},{\"attributes\":{\"callback\":null,\"factors\":[\"1\",\"2\",\"3\",\"4\",\"5\",\"6\",\"7\",\"8\",\"9\",\"10\",\"11\"]},\"id\":\"0f7e5aba-e4e6-4a16-a459-ed1d4ad1ed1e\",\"type\":\"FactorRange\"},{\"attributes\":{},\"id\":\"a0212b5b-5655-42f1-b0b2-e06df8a6cc35\",\"type\":\"Selection\"},{\"attributes\":{\"toolbar\":{\"id\":\"0ebe8888-2140-4ff0-b412-2d56bd58ec50\",\"type\":\"ProxyToolbar\"},\"toolbar_location\":\"above\"},\"id\":\"a7b20bd2-4bcd-4125-b521-c56ac80a24f4\",\"type\":\"ToolbarBox\"},{\"attributes\":{\"plot\":{\"id\":\"dfad09c0-bfc9-438a-adb6-468f81aba49c\",\"subtype\":\"Figure\",\"type\":\"Plot\"},\"ticker\":{\"id\":\"85e5dea3-220b-46bc-89ec-917362e33b40\",\"type\":\"CategoricalTicker\"}},\"id\":\"729b7a09-7e5a-4ddb-9c31-574d9b9aa128\",\"type\":\"Grid\"},{\"attributes\":{\"active_drag\":\"auto\",\"active_inspect\":\"auto\",\"active_scroll\":\"auto\",\"active_tap\":\"auto\",\"tools\":[{\"id\":\"04935db1-a2e2-416b-a061-f60bff77edf9\",\"type\":\"PanTool\"},{\"id\":\"24eba50c-e900-499c-b711-a1233224cece\",\"type\":\"WheelZoomTool\"},{\"id\":\"3696c08f-73c3-4bda-8c67-b05f95ec7242\",\"type\":\"BoxZoomTool\"},{\"id\":\"8ceb6b3e-059f-457f-9503-a0391c5b91ae\",\"type\":\"SaveTool\"},{\"id\":\"0ded9a9f-a295-4950-9df4-c0226fdd71ac\",\"type\":\"ResetTool\"},{\"id\":\"bf1f288a-a133-4f33-979c-da895d4e710b\",\"type\":\"HelpTool\"}]},\"id\":\"947f934f-581e-4d22-ac28-b9b8c5bbe4be\",\"type\":\"Toolbar\"},{\"attributes\":{},\"id\":\"688a2563-c114-4e16-9212-b13a8b5df7cb\",\"type\":\"PanTool\"},{\"attributes\":{},\"id\":\"85e5dea3-220b-46bc-89ec-917362e33b40\",\"type\":\"CategoricalTicker\"},{\"attributes\":{},\"id\":\"c01db267-215a-41ae-8d6e-edb58b7f0aa7\",\"type\":\"CategoricalTicker\"},{\"attributes\":{},\"id\":\"6b5ae7f7-916a-4fed-b5ba-0b035fb0ecc7\",\"type\":\"BasicTicker\"},{\"attributes\":{\"overlay\":{\"id\":\"fbf63d1d-55ed-4a71-b859-1bbbeae47e03\",\"type\":\"BoxAnnotation\"}},\"id\":\"7117bf40-4c83-4932-8700-7da9b4e1f2be\",\"type\":\"BoxZoomTool\"},{\"attributes\":{},\"id\":\"04935db1-a2e2-416b-a061-f60bff77edf9\",\"type\":\"PanTool\"},{\"attributes\":{},\"id\":\"577baca6-a9af-4241-8a1d-57a8cda00617\",\"type\":\"BasicTickFormatter\"},{\"attributes\":{\"dimension\":1,\"plot\":{\"id\":\"ff3b9f3d-af98-4109-9856-8db261a3785b\",\"subtype\":\"Figure\",\"type\":\"Plot\"},\"ticker\":{\"id\":\"6b5ae7f7-916a-4fed-b5ba-0b035fb0ecc7\",\"type\":\"BasicTicker\"}},\"id\":\"e4878553-8404-4e69-80cc-7588e483a05f\",\"type\":\"Grid\"},{\"attributes\":{},\"id\":\"179fb3fd-87c4-4c7a-8df6-b6c6ffa7e3ed\",\"type\":\"PanTool\"},{\"attributes\":{\"children\":[{\"id\":\"dfad09c0-bfc9-438a-adb6-468f81aba49c\",\"subtype\":\"Figure\",\"type\":\"Plot\"},{\"id\":\"ff3b9f3d-af98-4109-9856-8db261a3785b\",\"subtype\":\"Figure\",\"type\":\"Plot\"},{\"id\":\"be32ef84-e9de-4032-9ae4-b255a101921a\",\"subtype\":\"Figure\",\"type\":\"Plot\"}]},\"id\":\"9205b42a-beb8-495b-86ad-c7b0f0568804\",\"type\":\"Row\"},{\"attributes\":{\"fill_color\":{\"value\":\"#1f77b4\"},\"line_color\":{\"value\":\"#1f77b4\"},\"top\":{\"field\":\"flux\"},\"width\":{\"value\":0.9},\"x\":{\"field\":\"band\"}},\"id\":\"15290d74-2e58-4af4-9584-d81f4d7535d6\",\"type\":\"VBar\"},{\"attributes\":{\"source\":{\"id\":\"0297f09c-ee10-47a3-a0a4-b708abb859e7\",\"type\":\"ColumnDataSource\"}},\"id\":\"eb167bb5-95f7-40c6-b6fe-79f8e47d3c90\",\"type\":\"CDSView\"},{\"attributes\":{\"axis_label\":\"flux (W m-2)\",\"formatter\":{\"id\":\"3692b8ca-5916-4cb5-9467-a3a0af636aa5\",\"type\":\"BasicTickFormatter\"},\"plot\":{\"id\":\"ff3b9f3d-af98-4109-9856-8db261a3785b\",\"subtype\":\"Figure\",\"type\":\"Plot\"},\"ticker\":{\"id\":\"6b5ae7f7-916a-4fed-b5ba-0b035fb0ecc7\",\"type\":\"BasicTicker\"}},\"id\":\"c56d1c67-d9c8-4b81-84cf-f784779a6e45\",\"type\":\"LinearAxis\"},{\"attributes\":{},\"id\":\"9b74e64b-e277-4278-982f-b95964ea9bb8\",\"type\":\"WheelZoomTool\"},{\"attributes\":{},\"id\":\"a3dc0fc2-350d-49d2-8a61-0a475c13fc37\",\"type\":\"Selection\"},{\"attributes\":{},\"id\":\"1b86c2b4-3304-45e4-8b9c-83eb7b2b6e73\",\"type\":\"CategoricalTickFormatter\"},{\"attributes\":{\"fill_alpha\":{\"value\":0.1},\"fill_color\":{\"value\":\"#1f77b4\"},\"line_alpha\":{\"value\":0.1},\"line_color\":{\"value\":\"#1f77b4\"},\"top\":{\"field\":\"flux\"},\"width\":{\"value\":0.9},\"x\":{\"field\":\"band\"}},\"id\":\"c10bd18e-1f70-4bfe-8897-8881c940462c\",\"type\":\"VBar\"},{\"attributes\":{},\"id\":\"2e72b5cd-e15b-48d8-a1f4-39a4f1b6a914\",\"type\":\"LinearScale\"},{\"attributes\":{\"axis_label\":\"spectral band\",\"formatter\":{\"id\":\"1b86c2b4-3304-45e4-8b9c-83eb7b2b6e73\",\"type\":\"CategoricalTickFormatter\"},\"plot\":{\"id\":\"dfad09c0-bfc9-438a-adb6-468f81aba49c\",\"subtype\":\"Figure\",\"type\":\"Plot\"},\"ticker\":{\"id\":\"85e5dea3-220b-46bc-89ec-917362e33b40\",\"type\":\"CategoricalTicker\"}},\"id\":\"30a0e62f-ea6e-42b0-9e88-338430c679c7\",\"type\":\"CategoricalAxis\"},{\"attributes\":{\"data_source\":{\"id\":\"72089b8d-b6d8-4985-a8a5-8b0341bd90bb\",\"type\":\"ColumnDataSource\"},\"glyph\":{\"id\":\"15290d74-2e58-4af4-9584-d81f4d7535d6\",\"type\":\"VBar\"},\"hover_glyph\":null,\"muted_glyph\":null,\"nonselection_glyph\":{\"id\":\"708d7b50-c61a-4f99-af9c-24f972ae8f85\",\"type\":\"VBar\"},\"selection_glyph\":null,\"view\":{\"id\":\"6f927536-a4cc-4248-aba9-07852b38a3d8\",\"type\":\"CDSView\"}},\"id\":\"97c69049-9522-4117-871e-b3c43f291a69\",\"type\":\"GlyphRenderer\"},{\"attributes\":{},\"id\":\"cf1734d3-345b-4ec5-84bd-d82339863bb9\",\"type\":\"CategoricalScale\"},{\"attributes\":{},\"id\":\"90ec044f-a79a-4cd8-8af5-805bdf4583af\",\"type\":\"CategoricalScale\"},{\"attributes\":{},\"id\":\"0ded9a9f-a295-4950-9df4-c0226fdd71ac\",\"type\":\"ResetTool\"},{\"attributes\":{\"callback\":null},\"id\":\"7a5d0c28-b1d6-4bc7-a18d-a8ed3beddf15\",\"type\":\"DataRange1d\"},{\"attributes\":{\"axis_label\":\"flux (W m-2)\",\"formatter\":{\"id\":\"2c419e70-fc00-47aa-9c7a-079c5cb43dd5\",\"type\":\"BasicTickFormatter\"},\"plot\":{\"id\":\"be32ef84-e9de-4032-9ae4-b255a101921a\",\"subtype\":\"Figure\",\"type\":\"Plot\"},\"ticker\":{\"id\":\"ef904fb4-07bd-4d22-98ad-9e47b2c41714\",\"type\":\"BasicTicker\"}},\"id\":\"37916983-f034-45e1-8303-187595b2fa3c\",\"type\":\"LinearAxis\"},{\"attributes\":{},\"id\":\"52332336-583c-49c9-9372-67f3a674544e\",\"type\":\"CategoricalScale\"},{\"attributes\":{\"plot\":{\"id\":\"ff3b9f3d-af98-4109-9856-8db261a3785b\",\"subtype\":\"Figure\",\"type\":\"Plot\"},\"ticker\":{\"id\":\"c01db267-215a-41ae-8d6e-edb58b7f0aa7\",\"type\":\"CategoricalTicker\"}},\"id\":\"3886533d-9e28-428f-be03-c6d2b4922fd4\",\"type\":\"Grid\"},{\"attributes\":{},\"id\":\"ef904fb4-07bd-4d22-98ad-9e47b2c41714\",\"type\":\"BasicTicker\"},{\"attributes\":{},\"id\":\"2c419e70-fc00-47aa-9c7a-079c5cb43dd5\",\"type\":\"BasicTickFormatter\"},{\"attributes\":{\"dimension\":1,\"plot\":{\"id\":\"dfad09c0-bfc9-438a-adb6-468f81aba49c\",\"subtype\":\"Figure\",\"type\":\"Plot\"},\"ticker\":{\"id\":\"d4d5dbbc-46fc-43d2-95b0-b0b01ed3cfde\",\"type\":\"BasicTicker\"}},\"id\":\"92bb1410-3fad-4896-af11-33ed84b5abaa\",\"type\":\"Grid\"},{\"attributes\":{\"plot\":null,\"text\":\"SFC flux. CLIRAD (single-run) - CRD.\"},\"id\":\"9a06d319-2b33-43ef-9f4f-f94129958736\",\"type\":\"Title\"},{\"attributes\":{\"children\":[{\"id\":\"a7b20bd2-4bcd-4125-b521-c56ac80a24f4\",\"type\":\"ToolbarBox\"},{\"id\":\"b4ff84ff-ccb2-4fc2-a1fe-05bdc1bd2357\",\"type\":\"Column\"}]},\"id\":\"429c78bb-62e6-4d1b-b316-99555747dfbc\",\"type\":\"Column\"},{\"attributes\":{},\"id\":\"3597c294-3ae1-46df-bc80-70afc32b84b4\",\"type\":\"UnionRenderers\"},{\"attributes\":{},\"id\":\"24eba50c-e900-499c-b711-a1233224cece\",\"type\":\"WheelZoomTool\"},{\"attributes\":{\"fill_alpha\":{\"value\":0.1},\"fill_color\":{\"value\":\"#1f77b4\"},\"line_alpha\":{\"value\":0.1},\"line_color\":{\"value\":\"#1f77b4\"},\"top\":{\"field\":\"flux\"},\"width\":{\"value\":0.9},\"x\":{\"field\":\"band\"}},\"id\":\"708d7b50-c61a-4f99-af9c-24f972ae8f85\",\"type\":\"VBar\"},{\"attributes\":{},\"id\":\"bf1f288a-a133-4f33-979c-da895d4e710b\",\"type\":\"HelpTool\"},{\"attributes\":{\"axis_label\":\"spectral band\",\"formatter\":{\"id\":\"9591016b-d1cd-450b-b732-d31befca9977\",\"type\":\"CategoricalTickFormatter\"},\"plot\":{\"id\":\"be32ef84-e9de-4032-9ae4-b255a101921a\",\"subtype\":\"Figure\",\"type\":\"Plot\"},\"ticker\":{\"id\":\"d222ffc2-aaa2-41bf-a43d-bbf7dd62317b\",\"type\":\"CategoricalTicker\"}},\"id\":\"5deb88d1-73dd-49c0-b6f4-0c1c3a751092\",\"type\":\"CategoricalAxis\"},{\"attributes\":{},\"id\":\"2cc4bf07-38fa-4cc0-af82-fc4daada4c68\",\"type\":\"HelpTool\"},{\"attributes\":{\"bottom_units\":\"screen\",\"fill_alpha\":{\"value\":0.5},\"fill_color\":{\"value\":\"lightgrey\"},\"left_units\":\"screen\",\"level\":\"overlay\",\"line_alpha\":{\"value\":1.0},\"line_color\":{\"value\":\"black\"},\"line_dash\":[4,4],\"line_width\":{\"value\":2},\"plot\":null,\"render_mode\":\"css\",\"right_units\":\"screen\",\"top_units\":\"screen\"},\"id\":\"4b57ecf0-9a88-48f8-8929-b554f0148a54\",\"type\":\"BoxAnnotation\"},{\"attributes\":{\"active_drag\":\"auto\",\"active_inspect\":\"auto\",\"active_scroll\":\"auto\",\"active_tap\":\"auto\",\"tools\":[{\"id\":\"179fb3fd-87c4-4c7a-8df6-b6c6ffa7e3ed\",\"type\":\"PanTool\"},{\"id\":\"9b74e64b-e277-4278-982f-b95964ea9bb8\",\"type\":\"WheelZoomTool\"},{\"id\":\"7117bf40-4c83-4932-8700-7da9b4e1f2be\",\"type\":\"BoxZoomTool\"},{\"id\":\"35a6b0b6-d1fa-4034-9ea1-41a8f74117cb\",\"type\":\"SaveTool\"},{\"id\":\"112d581f-f190-4ec6-90df-dfdfd5759a83\",\"type\":\"ResetTool\"},{\"id\":\"3f41746e-e5ab-409a-8bc0-b2391896c737\",\"type\":\"HelpTool\"}]},\"id\":\"5da51b8b-facc-46d6-af3a-b9c79adfb165\",\"type\":\"Toolbar\"},{\"attributes\":{},\"id\":\"dea059e0-a839-443e-a520-75ca5db53f24\",\"type\":\"SaveTool\"},{\"attributes\":{},\"id\":\"8ceb6b3e-059f-457f-9503-a0391c5b91ae\",\"type\":\"SaveTool\"},{\"attributes\":{},\"id\":\"bc05ecc7-369f-4d2d-b4f2-fdd859ed1870\",\"type\":\"UnionRenderers\"},{\"attributes\":{},\"id\":\"79bc3a09-1c1a-44da-9b47-f8720faa6034\",\"type\":\"WheelZoomTool\"},{\"attributes\":{},\"id\":\"3f41746e-e5ab-409a-8bc0-b2391896c737\",\"type\":\"HelpTool\"},{\"attributes\":{\"data_source\":{\"id\":\"ec9fc051-58d2-4bcf-8a58-f2a2eec5b33c\",\"type\":\"ColumnDataSource\"},\"glyph\":{\"id\":\"fa165254-e84b-4f99-aed2-1a0ddf8d46dd\",\"type\":\"VBar\"},\"hover_glyph\":null,\"muted_glyph\":null,\"nonselection_glyph\":{\"id\":\"69da7899-59e1-4f37-813a-71b5c0758291\",\"type\":\"VBar\"},\"selection_glyph\":null,\"view\":{\"id\":\"da344271-f60e-442a-ba63-c51b34b9011d\",\"type\":\"CDSView\"}},\"id\":\"0783a2b6-e03e-43a4-8f4f-2a6df8f1e317\",\"type\":\"GlyphRenderer\"},{\"attributes\":{\"plot\":null,\"text\":\"Atmosphere heating. CLIRAD (single-run) - CRD.\"},\"id\":\"f896ee5d-bb4d-4138-8b02-195bb3bc6756\",\"type\":\"Title\"},{\"attributes\":{\"overlay\":{\"id\":\"7676c64b-03b4-4a87-9b77-f610234f338e\",\"type\":\"BoxAnnotation\"}},\"id\":\"0d54803e-5515-4594-8851-f8bc1fe5fa51\",\"type\":\"BoxZoomTool\"},{\"attributes\":{\"data_source\":{\"id\":\"0297f09c-ee10-47a3-a0a4-b708abb859e7\",\"type\":\"ColumnDataSource\"},\"glyph\":{\"id\":\"e6be018d-dda9-478d-9e57-72c21ec12494\",\"type\":\"VBar\"},\"hover_glyph\":null,\"muted_glyph\":null,\"nonselection_glyph\":{\"id\":\"c10bd18e-1f70-4bfe-8897-8881c940462c\",\"type\":\"VBar\"},\"selection_glyph\":null,\"view\":{\"id\":\"eb167bb5-95f7-40c6-b6fe-79f8e47d3c90\",\"type\":\"CDSView\"}},\"id\":\"18559017-f2ee-4771-8a82-f1e42d123244\",\"type\":\"GlyphRenderer\"},{\"attributes\":{},\"id\":\"3467c0bf-4296-44f3-8f2a-8ec5ee44fdfc\",\"type\":\"UnionRenderers\"},{\"attributes\":{\"callback\":null},\"id\":\"33da2e50-a2c5-4643-a4cf-315a9f119515\",\"type\":\"DataRange1d\"},{\"attributes\":{\"dimension\":1,\"plot\":{\"id\":\"be32ef84-e9de-4032-9ae4-b255a101921a\",\"subtype\":\"Figure\",\"type\":\"Plot\"},\"ticker\":{\"id\":\"ef904fb4-07bd-4d22-98ad-9e47b2c41714\",\"type\":\"BasicTicker\"}},\"id\":\"14eea9ce-1f20-4a60-a1de-527857451249\",\"type\":\"Grid\"},{\"attributes\":{},\"id\":\"3692b8ca-5916-4cb5-9467-a3a0af636aa5\",\"type\":\"BasicTickFormatter\"},{\"attributes\":{},\"id\":\"112d581f-f190-4ec6-90df-dfdfd5759a83\",\"type\":\"ResetTool\"},{\"attributes\":{\"overlay\":{\"id\":\"4b57ecf0-9a88-48f8-8929-b554f0148a54\",\"type\":\"BoxAnnotation\"}},\"id\":\"3696c08f-73c3-4bda-8c67-b05f95ec7242\",\"type\":\"BoxZoomTool\"},{\"attributes\":{\"source\":{\"id\":\"72089b8d-b6d8-4985-a8a5-8b0341bd90bb\",\"type\":\"ColumnDataSource\"}},\"id\":\"6f927536-a4cc-4248-aba9-07852b38a3d8\",\"type\":\"CDSView\"},{\"attributes\":{},\"id\":\"7b2ec19e-3569-490c-8da9-131136584164\",\"type\":\"CategoricalTickFormatter\"},{\"attributes\":{\"tools\":[{\"id\":\"688a2563-c114-4e16-9212-b13a8b5df7cb\",\"type\":\"PanTool\"},{\"id\":\"79bc3a09-1c1a-44da-9b47-f8720faa6034\",\"type\":\"WheelZoomTool\"},{\"id\":\"0d54803e-5515-4594-8851-f8bc1fe5fa51\",\"type\":\"BoxZoomTool\"},{\"id\":\"dea059e0-a839-443e-a520-75ca5db53f24\",\"type\":\"SaveTool\"},{\"id\":\"ff81eba8-a49f-4100-8c83-462f24bde867\",\"type\":\"ResetTool\"},{\"id\":\"2cc4bf07-38fa-4cc0-af82-fc4daada4c68\",\"type\":\"HelpTool\"},{\"id\":\"179fb3fd-87c4-4c7a-8df6-b6c6ffa7e3ed\",\"type\":\"PanTool\"},{\"id\":\"9b74e64b-e277-4278-982f-b95964ea9bb8\",\"type\":\"WheelZoomTool\"},{\"id\":\"7117bf40-4c83-4932-8700-7da9b4e1f2be\",\"type\":\"BoxZoomTool\"},{\"id\":\"35a6b0b6-d1fa-4034-9ea1-41a8f74117cb\",\"type\":\"SaveTool\"},{\"id\":\"112d581f-f190-4ec6-90df-dfdfd5759a83\",\"type\":\"ResetTool\"},{\"id\":\"3f41746e-e5ab-409a-8bc0-b2391896c737\",\"type\":\"HelpTool\"},{\"id\":\"04935db1-a2e2-416b-a061-f60bff77edf9\",\"type\":\"PanTool\"},{\"id\":\"24eba50c-e900-499c-b711-a1233224cece\",\"type\":\"WheelZoomTool\"},{\"id\":\"3696c08f-73c3-4bda-8c67-b05f95ec7242\",\"type\":\"BoxZoomTool\"},{\"id\":\"8ceb6b3e-059f-457f-9503-a0391c5b91ae\",\"type\":\"SaveTool\"},{\"id\":\"0ded9a9f-a295-4950-9df4-c0226fdd71ac\",\"type\":\"ResetTool\"},{\"id\":\"bf1f288a-a133-4f33-979c-da895d4e710b\",\"type\":\"HelpTool\"}]},\"id\":\"0ebe8888-2140-4ff0-b412-2d56bd58ec50\",\"type\":\"ProxyToolbar\"},{\"attributes\":{},\"id\":\"ff81eba8-a49f-4100-8c83-462f24bde867\",\"type\":\"ResetTool\"},{\"attributes\":{\"plot\":{\"id\":\"be32ef84-e9de-4032-9ae4-b255a101921a\",\"subtype\":\"Figure\",\"type\":\"Plot\"},\"ticker\":{\"id\":\"d222ffc2-aaa2-41bf-a43d-bbf7dd62317b\",\"type\":\"CategoricalTicker\"}},\"id\":\"408e8591-b824-430b-bd15-b1000ba0c2cd\",\"type\":\"Grid\"},{\"attributes\":{\"fill_color\":{\"value\":\"#1f77b4\"},\"line_color\":{\"value\":\"#1f77b4\"},\"top\":{\"field\":\"flux\"},\"width\":{\"value\":0.9},\"x\":{\"field\":\"band\"}},\"id\":\"fa165254-e84b-4f99-aed2-1a0ddf8d46dd\",\"type\":\"VBar\"},{\"attributes\":{\"callback\":null,\"factors\":[\"1\",\"2\",\"3\",\"4\",\"5\",\"6\",\"7\",\"8\",\"9\",\"10\",\"11\"]},\"id\":\"947a3643-de16-47f2-91f0-063c0895985b\",\"type\":\"FactorRange\"},{\"attributes\":{\"fill_alpha\":{\"value\":0.1},\"fill_color\":{\"value\":\"#1f77b4\"},\"line_alpha\":{\"value\":0.1},\"line_color\":{\"value\":\"#1f77b4\"},\"top\":{\"field\":\"flux\"},\"width\":{\"value\":0.9},\"x\":{\"field\":\"band\"}},\"id\":\"69da7899-59e1-4f37-813a-71b5c0758291\",\"type\":\"VBar\"},{\"attributes\":{},\"id\":\"3a2b3d69-f40c-4ceb-aa77-863eff15f4ed\",\"type\":\"LinearScale\"}],\"root_ids\":[\"429c78bb-62e6-4d1b-b316-99555747dfbc\"]},\"title\":\"Bokeh Application\",\"version\":\"0.12.16\"}};\n",
       "  var render_items = [{\"docid\":\"2959c5be-290c-4769-bd7c-1c417c754077\",\"elementid\":\"90ef836c-1135-4596-a056-501392373a87\",\"modelid\":\"429c78bb-62e6-4d1b-b316-99555747dfbc\"}];\n",
       "  root.Bokeh.embed.embed_items_notebook(docs_json, render_items);\n",
       "\n",
       "  }\n",
       "  if (root.Bokeh !== undefined) {\n",
       "    embed_document(root);\n",
       "  } else {\n",
       "    var attempts = 0;\n",
       "    var timer = setInterval(function(root) {\n",
       "      if (root.Bokeh !== undefined) {\n",
       "        embed_document(root);\n",
       "        clearInterval(timer);\n",
       "      }\n",
       "      attempts++;\n",
       "      if (attempts > 100) {\n",
       "        console.log(\"Bokeh: ERROR: Unable to run BokehJS code because BokehJS library is missing\")\n",
       "        clearInterval(timer);\n",
       "      }\n",
       "    }, 10, root)\n",
       "  }\n",
       "})(window);"
      ],
      "application/vnd.bokehjs_exec.v0+json": ""
     },
     "metadata": {
      "application/vnd.bokehjs_exec.v0+json": {
       "id": "429c78bb-62e6-4d1b-b316-99555747dfbc"
      }
     },
     "output_type": "display_data"
    },
    {
     "data": {
      "text/markdown": [
       "*FIGURE.* Difference between CLIRAD and CRD in TOA, SFC and net atmosphere flux, in each spectral band."
      ],
      "text/plain": [
       "<IPython.core.display.Markdown object>"
      ]
     },
     "metadata": {},
     "output_type": "display_data"
    },
    {
     "data": {
      "text/html": [
       "<div>\n",
       "<style scoped>\n",
       "    .dataframe tbody tr th:only-of-type {\n",
       "        vertical-align: middle;\n",
       "    }\n",
       "\n",
       "    .dataframe tbody tr th {\n",
       "        vertical-align: top;\n",
       "    }\n",
       "\n",
       "    .dataframe thead th {\n",
       "        text-align: right;\n",
       "    }\n",
       "</style>\n",
       "<table border=\"1\" class=\"dataframe\">\n",
       "  <thead>\n",
       "    <tr style=\"text-align: right;\">\n",
       "      <th></th>\n",
       "      <th>OLR flux</th>\n",
       "      <th>SFC flux</th>\n",
       "      <th>ATM heating</th>\n",
       "    </tr>\n",
       "    <tr>\n",
       "      <th>Sum over bands</th>\n",
       "      <th></th>\n",
       "      <th></th>\n",
       "      <th></th>\n",
       "    </tr>\n",
       "  </thead>\n",
       "  <tbody>\n",
       "    <tr>\n",
       "      <th>CLIRAD (single-run) - CRD</th>\n",
       "      <td>0.95</td>\n",
       "      <td>-0.25</td>\n",
       "      <td>1.20</td>\n",
       "    </tr>\n",
       "    <tr>\n",
       "      <th>CRD</th>\n",
       "      <td>-201.06</td>\n",
       "      <td>166.03</td>\n",
       "      <td>-119.67</td>\n",
       "    </tr>\n",
       "  </tbody>\n",
       "</table>\n",
       "</div>"
      ],
      "text/plain": [
       "                           OLR flux  SFC flux  ATM heating\n",
       "Sum over bands                                            \n",
       "CLIRAD (single-run) - CRD      0.95     -0.25         1.20\n",
       "CRD                         -201.06    166.03      -119.67"
      ]
     },
     "metadata": {},
     "output_type": "display_data"
    },
    {
     "data": {
      "text/markdown": [
       "*TABLE.* Difference between CLIRAD and CRD in TOA, SFC and net atmosphere flux, over all spectral bands. CRD's TOA, SFC and net atmosphere flux, over all spectral bands."
      ],
      "text/plain": [
       "<IPython.core.display.Markdown object>"
      ]
     },
     "metadata": {},
     "output_type": "display_data"
    },
    {
     "data": {
      "text/html": [
       "<a id=\"Cooling_rates._trp.\"></a>"
      ],
      "text/plain": [
       "<IPython.core.display.HTML object>"
      ]
     },
     "metadata": {},
     "output_type": "display_data"
    },
    {
     "data": {
      "text/markdown": [
       "# Cooling rates. trp."
      ],
      "text/plain": [
       "<IPython.core.display.Markdown object>"
      ]
     },
     "metadata": {},
     "output_type": "display_data"
    },
    {
     "data": {
      "text/html": [
       "\n",
       "<div class=\"bk-root\">\n",
       "    <div class=\"bk-plotdiv\" id=\"90997f79-9f9f-46bf-907b-ba6ad10789bf\"></div>\n",
       "</div>"
      ]
     },
     "metadata": {},
     "output_type": "display_data"
    },
    {
     "data": {
      "application/javascript": [
       "(function(root) {\n",
       "  function embed_document(root) {\n",
       "    \n",
       "  var docs_json = {\"3f888a0a-9d56-47a5-8670-a0cc664062eb\":{\"roots\":{\"references\":[{\"attributes\":{\"fill_alpha\":{\"value\":0.1},\"fill_color\":{\"value\":\"#1f77b4\"},\"line_alpha\":{\"value\":0.1},\"line_color\":{\"value\":\"#1f77b4\"},\"x\":{\"field\":\"x\"},\"y\":{\"field\":\"y\"}},\"id\":\"4ad9330a-5d6f-4f23-a132-75b300ebf09b\",\"type\":\"Circle\"},{\"attributes\":{\"line_alpha\":0.1,\"line_color\":\"#1f77b4\",\"line_dash\":[6],\"line_width\":5,\"x\":{\"field\":\"x\"},\"y\":{\"field\":\"y\"}},\"id\":\"6e6973d8-df1a-4a9b-9e75-b4977b5365bc\",\"type\":\"Line\"},{\"attributes\":{\"items\":[{\"id\":\"4ffff0d9-a288-4efe-974e-704d38c26ebe\",\"type\":\"LegendItem\"},{\"id\":\"51371f9f-95d3-468e-8496-91e203013444\",\"type\":\"LegendItem\"}],\"label_text_font_size\":{\"value\":\"8pt\"},\"location\":\"top_center\",\"orientation\":\"horizontal\",\"plot\":{\"id\":\"d7275873-45d2-474a-993f-89c9e16ce3d5\",\"subtype\":\"Figure\",\"type\":\"Plot\"}},\"id\":\"817b59b1-ed8d-4fe0-8eab-58b7c713efdd\",\"type\":\"Legend\"},{\"attributes\":{\"dimension\":1,\"plot\":{\"id\":\"d7275873-45d2-474a-993f-89c9e16ce3d5\",\"subtype\":\"Figure\",\"type\":\"Plot\"},\"ticker\":{\"id\":\"7d7f9c6d-d1bc-4e5c-aef0-1ea90b3a3edc\",\"type\":\"LogTicker\"}},\"id\":\"3f7355c9-9bb6-4468-97ea-bc611fc41eed\",\"type\":\"Grid\"},{\"attributes\":{\"fill_alpha\":{\"value\":0.1},\"fill_color\":{\"value\":\"#1f77b4\"},\"line_alpha\":{\"value\":0.1},\"line_color\":{\"value\":\"#1f77b4\"},\"x\":{\"field\":\"x\"},\"y\":{\"field\":\"y\"}},\"id\":\"93a215f9-65c9-4283-9845-9052956f793d\",\"type\":\"Circle\"},{\"attributes\":{\"bottom_units\":\"screen\",\"fill_alpha\":{\"value\":0.5},\"fill_color\":{\"value\":\"lightgrey\"},\"left_units\":\"screen\",\"level\":\"overlay\",\"line_alpha\":{\"value\":1.0},\"line_color\":{\"value\":\"black\"},\"line_dash\":[4,4],\"line_width\":{\"value\":2},\"plot\":null,\"render_mode\":\"css\",\"right_units\":\"screen\",\"top_units\":\"screen\"},\"id\":\"0f4d4dbe-a93b-430b-96aa-fc7a2e5578d6\",\"type\":\"BoxAnnotation\"},{\"attributes\":{\"callback\":null,\"data\":{\"x\":{\"__ndarray__\":\"LMunYk39Q8Ac5K+9hYUgwIuHOhlXuwLAltV0icEP/D9ciMBqEyYOQEEvTS9sxQ5Akk9ePE5KBEBV+YTOHajmP0UGQEYAPOi/26+cD3089b9RgP4ixk/xv2pCEiHW8N6/GNT09DSytT/Kk68oN1bdP5RqKCa/LOE/YmhRqpmQ1j+D3wAMgUGxP40ANRFImNG/b5TAzltJ4b93Tf0tBlrhv5JF8PwOotO/yD6A/KBOur9reWwStWugv/MPMWgcr8u/rZU+ATxJ17/n7rKlU1u7v8f5KS9Xc9Q/muf1wbaL1T8ggupVl+y3Pwkh51b/r4M/w1qKxkMAzj/nAwroXAHUP/bkiLMW2sA/v0hl7WNDrr+1pe499ZWfv9o6NmjZxqA/95zSSzc7ob+UsRdWjz20v71+6uaRs7C/+X9FsH1grr8qqtuiDoqwv/veDk+K7rC/oYoVcMSwsr/AVG4iegyqv8COVhfARrG/bSpkjUcQwL95TI8x4tS0v2fiAevrqa+/3yquglu/tb+EPm/QvZO1v0Saxz0SE62/KAA0MRAroL98A/o1rOuUv5xdm1QPNJa/BBD2d4TEnb+s0wwxb7Gevw8FodMrGY2/ELH9AWJUkD/kYw0wVsimP1j+QEJfPa0/yPRVyTKKqD+dXllL/K+ZP+BU0s9DiWA/pBF2C9aYdb8wCUuYxyNyP9paSq4LzJs/wKdJ7WDkrD/5xKXwwaeyP7rBqbSWVrM/9WC/z4tmtD/eSPcgj3W1P+wv9xzjibY/cN7nmK2Fuj/8Nzaan4S+P5S4FKuUC8A/\",\"dtype\":\"float64\",\"shape\":[75]},\"y\":{\"__ndarray__\":\"GhExyth1ND/Sv8nbtpRIP2vylNV0PVE/aTum7souWD/At0SJ8fVgPw3Iuahxymc/MSNhhJWvcD/bTfBN02d3P2zb5nxnaoA/CD5h5MAGhz8NmeH1TyaQP+zrCsc9p5Y/LbKd76fGnz/bLW5ISEmmPww9YvTcQq8/JV2OstnstT8Er5Y7M8G+P0c+r3jqkcU/5h99k6ZBzj88bCIzFzjVP4enV8oyxN0//yH99nXg5D8qOpLLf0jtP5kqGJXUifQ/c9cS8kHP/D+/DpwzojQEQIEmwoanVwxA4lgXt9HgE0BSSZ2AJuIbQAMJih9jjiNA5q4l5INuK0AwTKYKRj0zQNv5fmq8/DpAaCJseHrtQkB/+zpwzoxKQM3MzMzMeFJAZmZmZmZqWEAAAAAAAFxeQM3MzMzMJmJAmpmZmZkfZUBmZmZmZhhoQDMzMzMzEWtAAAAAAAAKbkBmZmZmZoFwQM3MzMzM/XFAMzMzMzN6c0CamZmZmfZ0QAAAAAAAc3ZAZmZmZmbvd0DNzMzMzGt5QDMzMzMz6HpAmpmZmZlkfEAAAAAAAOF9QGZmZmZmXX9AZmZmZuZsgECamZmZGSuBQM3MzMxM6YFAAAAAAICngkAzMzMzs2WDQGZmZmbmI4RAmpmZmRnihEDNzMzMTKCFQAAAAACAXoZAMzMzM7Mch0BmZmZm5tqHQJqZmZkZmYhAzczMzExXiUAAAAAAgBWKQDMzMzOz04pAZmZmZuaRi0CamZmZGVCMQM3MzMxMDo1AAAAAAIDMjUAzMzMzs4qOQGZmZmbmSI9A\",\"dtype\":\"float64\",\"shape\":[75]}},\"selected\":{\"id\":\"b9788e00-6f04-4a4c-8153-c8d34fbe4967\",\"type\":\"Selection\"},\"selection_policy\":{\"id\":\"65a9be5d-6ef3-4ca7-8b3d-f9d1b5366a97\",\"type\":\"UnionRenderers\"}},\"id\":\"1e22c809-9b48-4d4b-8482-2d2f4a4fee63\",\"type\":\"ColumnDataSource\"},{\"attributes\":{\"line_alpha\":0.8,\"line_color\":\"#984ea3\",\"line_width\":1.5,\"x\":{\"field\":\"x\"},\"y\":{\"field\":\"y\"}},\"id\":\"d446c944-bc99-43c2-ad2d-e5f890cccaee\",\"type\":\"Line\"},{\"attributes\":{},\"id\":\"48f4c7fd-a789-4f5d-ab51-7e8e47e7dd9d\",\"type\":\"ResetTool\"},{\"attributes\":{\"num_minor_ticks\":10},\"id\":\"7d7f9c6d-d1bc-4e5c-aef0-1ea90b3a3edc\",\"type\":\"LogTicker\"},{\"attributes\":{\"label\":{\"value\":\"CLIRAD (single-run)\"},\"renderers\":[{\"id\":\"11186a8f-25ec-4487-9914-c8ed37fa6bf4\",\"type\":\"GlyphRenderer\"}]},\"id\":\"4ffff0d9-a288-4efe-974e-704d38c26ebe\",\"type\":\"LegendItem\"},{\"attributes\":{},\"id\":\"6e94bbb4-b53c-448e-bc7e-3cdbb1fe41ca\",\"type\":\"HelpTool\"},{\"attributes\":{},\"id\":\"2a02e002-1bc1-470d-9a5a-dd6993fbb550\",\"type\":\"PanTool\"},{\"attributes\":{\"callback\":null,\"data\":{\"x\":{\"__ndarray__\":\"LMunYk39Q8Ac5K+9hYUgwIuHOhlXuwLAltV0icEP/D9ciMBqEyYOQEEvTS9sxQ5Akk9ePE5KBEBV+YTOHajmP0UGQEYAPOi/26+cD3089b9RgP4ixk/xv2pCEiHW8N6/GNT09DSytT/Kk68oN1bdP5RqKCa/LOE/YmhRqpmQ1j+D3wAMgUGxP40ANRFImNG/b5TAzltJ4b93Tf0tBlrhv5JF8PwOotO/yD6A/KBOur9reWwStWugv/MPMWgcr8u/rZU+ATxJ17/n7rKlU1u7v8f5KS9Xc9Q/muf1wbaL1T8ggupVl+y3Pwkh51b/r4M/w1qKxkMAzj/nAwroXAHUP/bkiLMW2sA/v0hl7WNDrr+1pe499ZWfv9o6NmjZxqA/95zSSzc7ob+UsRdWjz20v71+6uaRs7C/+X9FsH1grr8qqtuiDoqwv/veDk+K7rC/oYoVcMSwsr/AVG4iegyqv8COVhfARrG/bSpkjUcQwL95TI8x4tS0v2fiAevrqa+/3yquglu/tb+EPm/QvZO1v0Saxz0SE62/KAA0MRAroL98A/o1rOuUv5xdm1QPNJa/BBD2d4TEnb+s0wwxb7Gevw8FodMrGY2/ELH9AWJUkD/kYw0wVsimP1j+QEJfPa0/yPRVyTKKqD+dXllL/K+ZP+BU0s9DiWA/pBF2C9aYdb8wCUuYxyNyP9paSq4LzJs/wKdJ7WDkrD/5xKXwwaeyP7rBqbSWVrM/9WC/z4tmtD/eSPcgj3W1P+wv9xzjibY/cN7nmK2Fuj/8Nzaan4S+P5S4FKuUC8A/\",\"dtype\":\"float64\",\"shape\":[75]},\"y\":{\"__ndarray__\":\"GhExyth1ND/Sv8nbtpRIP2vylNV0PVE/aTum7souWD/At0SJ8fVgPw3Iuahxymc/MSNhhJWvcD/bTfBN02d3P2zb5nxnaoA/CD5h5MAGhz8NmeH1TyaQP+zrCsc9p5Y/LbKd76fGnz/bLW5ISEmmPww9YvTcQq8/JV2OstnstT8Er5Y7M8G+P0c+r3jqkcU/5h99k6ZBzj88bCIzFzjVP4enV8oyxN0//yH99nXg5D8qOpLLf0jtP5kqGJXUifQ/c9cS8kHP/D+/DpwzojQEQIEmwoanVwxA4lgXt9HgE0BSSZ2AJuIbQAMJih9jjiNA5q4l5INuK0AwTKYKRj0zQNv5fmq8/DpAaCJseHrtQkB/+zpwzoxKQM3MzMzMeFJAZmZmZmZqWEAAAAAAAFxeQM3MzMzMJmJAmpmZmZkfZUBmZmZmZhhoQDMzMzMzEWtAAAAAAAAKbkBmZmZmZoFwQM3MzMzM/XFAMzMzMzN6c0CamZmZmfZ0QAAAAAAAc3ZAZmZmZmbvd0DNzMzMzGt5QDMzMzMz6HpAmpmZmZlkfEAAAAAAAOF9QGZmZmZmXX9AZmZmZuZsgECamZmZGSuBQM3MzMxM6YFAAAAAAICngkAzMzMzs2WDQGZmZmbmI4RAmpmZmRnihEDNzMzMTKCFQAAAAACAXoZAMzMzM7Mch0BmZmZm5tqHQJqZmZkZmYhAzczMzExXiUAAAAAAgBWKQDMzMzOz04pAZmZmZuaRi0CamZmZGVCMQM3MzMxMDo1AAAAAAIDMjUAzMzMzs4qOQGZmZmbmSI9A\",\"dtype\":\"float64\",\"shape\":[75]}},\"selected\":{\"id\":\"95544781-ff5a-4145-ab05-e07f1f42d747\",\"type\":\"Selection\"},\"selection_policy\":{\"id\":\"38210c32-0b0c-4ad1-8af5-7f38eac9bc19\",\"type\":\"UnionRenderers\"}},\"id\":\"346b529a-7c9e-448f-944e-1caf63a8cee9\",\"type\":\"ColumnDataSource\"},{\"attributes\":{},\"id\":\"fdc75f5b-46f2-4a2e-bf01-598044f07eb4\",\"type\":\"WheelZoomTool\"},{\"attributes\":{\"overlay\":{\"id\":\"0f4d4dbe-a93b-430b-96aa-fc7a2e5578d6\",\"type\":\"BoxAnnotation\"}},\"id\":\"cafbfb56-8487-4f6c-9530-be92da02d1fd\",\"type\":\"BoxZoomTool\"},{\"attributes\":{\"toolbar\":{\"id\":\"c14aecfc-2475-4f54-8340-13b56d55cb4d\",\"type\":\"ProxyToolbar\"},\"toolbar_location\":\"above\"},\"id\":\"1f2d06e6-69db-4665-b72c-6f50140e8f4c\",\"type\":\"ToolbarBox\"},{\"attributes\":{\"fill_alpha\":{\"value\":0.7},\"fill_color\":{\"value\":\"#4daf4a\"},\"line_alpha\":{\"value\":0.7},\"line_color\":{\"value\":\"#4daf4a\"},\"x\":{\"field\":\"x\"},\"y\":{\"field\":\"y\"}},\"id\":\"01cda490-5044-43bf-9065-f6a197c50f29\",\"type\":\"Circle\"},{\"attributes\":{},\"id\":\"3ab0af14-0021-4257-990b-31fc7581bc33\",\"type\":\"SaveTool\"},{\"attributes\":{\"line_alpha\":0.6,\"line_color\":\"#377eb8\",\"line_dash\":[6],\"line_width\":5,\"x\":{\"field\":\"x\"},\"y\":{\"field\":\"y\"}},\"id\":\"443e4ae5-9daa-49f9-a1c3-46b5a0cdb047\",\"type\":\"Line\"},{\"attributes\":{\"line_alpha\":0.1,\"line_color\":\"#1f77b4\",\"line_width\":1.5,\"x\":{\"field\":\"x\"},\"y\":{\"field\":\"y\"}},\"id\":\"189942ad-f933-4c62-b873-2e09a42cc7fe\",\"type\":\"Line\"},{\"attributes\":{},\"id\":\"efa00c6e-72a5-4fd9-89a9-2eb964e2d092\",\"type\":\"WheelZoomTool\"},{\"attributes\":{},\"id\":\"5b57a0b1-a00b-476a-a197-6a56bbe80bbc\",\"type\":\"BasicTickFormatter\"},{\"attributes\":{\"axis_label\":\"cooling rate [K/day]\",\"formatter\":{\"id\":\"c236b842-86db-494c-b875-d13414d25370\",\"type\":\"BasicTickFormatter\"},\"plot\":{\"id\":\"d7275873-45d2-474a-993f-89c9e16ce3d5\",\"subtype\":\"Figure\",\"type\":\"Plot\"},\"ticker\":{\"id\":\"76899639-ba75-4f46-96c1-0882e546983f\",\"type\":\"BasicTicker\"}},\"id\":\"e8173543-2744-42dc-bdfa-d5dcbf1ce9ea\",\"type\":\"LinearAxis\"},{\"attributes\":{\"callback\":null,\"end\":12.208636979048098,\"start\":-0.6087266022981},\"id\":\"c43fdfd9-1f7c-4e2d-89d4-dadc5be23774\",\"type\":\"Range1d\"},{\"attributes\":{},\"id\":\"606d29a9-b57a-401c-b0b6-0aabeb112e34\",\"type\":\"Selection\"},{\"attributes\":{},\"id\":\"b9788e00-6f04-4a4c-8153-c8d34fbe4967\",\"type\":\"Selection\"},{\"attributes\":{\"axis_label\":\"cooling rate [K/day]\",\"formatter\":{\"id\":\"5b57a0b1-a00b-476a-a197-6a56bbe80bbc\",\"type\":\"BasicTickFormatter\"},\"plot\":{\"id\":\"9ce4b1ee-bd1e-4bab-8268-fe64004d6e68\",\"subtype\":\"Figure\",\"type\":\"Plot\"},\"ticker\":{\"id\":\"50e19086-f5db-45b9-97ba-15967bc228b5\",\"type\":\"BasicTicker\"}},\"id\":\"9e4319fb-8b53-4645-a3bc-47359a179bc4\",\"type\":\"LinearAxis\"},{\"attributes\":{},\"id\":\"c236b842-86db-494c-b875-d13414d25370\",\"type\":\"BasicTickFormatter\"},{\"attributes\":{\"data_source\":{\"id\":\"cfe457f5-7125-40da-83fe-10ff8373a5eb\",\"type\":\"ColumnDataSource\"},\"glyph\":{\"id\":\"443e4ae5-9daa-49f9-a1c3-46b5a0cdb047\",\"type\":\"Line\"},\"hover_glyph\":null,\"muted_glyph\":null,\"nonselection_glyph\":{\"id\":\"6e6973d8-df1a-4a9b-9e75-b4977b5365bc\",\"type\":\"Line\"},\"selection_glyph\":null,\"view\":{\"id\":\"a0be2657-6fce-4794-a5ed-0976f8d5925c\",\"type\":\"CDSView\"}},\"id\":\"11a60635-5538-4ff2-9d09-b4de876f49c8\",\"type\":\"GlyphRenderer\"},{\"attributes\":{\"callback\":null,\"end\":2.3924008819310005,\"start\":-0.511536145891},\"id\":\"9d4c0146-a6d8-40b2-81c7-578978c4ba90\",\"type\":\"Range1d\"},{\"attributes\":{\"items\":[{\"id\":\"9c2d5b33-6c65-44c6-84a3-c8984d5ed625\",\"type\":\"LegendItem\"},{\"id\":\"7264830e-18f4-438e-a5e4-94fe3fe90ec6\",\"type\":\"LegendItem\"}],\"label_text_font_size\":{\"value\":\"8pt\"},\"location\":\"top_center\",\"orientation\":\"horizontal\",\"plot\":{\"id\":\"e4dfc22a-3d53-491b-bf75-1dc3d5bd98f1\",\"subtype\":\"Figure\",\"type\":\"Plot\"}},\"id\":\"e37b15b0-998a-4bef-b44b-0cf2adfe3ee9\",\"type\":\"Legend\"},{\"attributes\":{\"callback\":null,\"end\":0.01,\"start\":1020},\"id\":\"7a76f34e-92ed-42c1-8f25-86cbb2355591\",\"type\":\"Range1d\"},{\"attributes\":{},\"id\":\"76899639-ba75-4f46-96c1-0882e546983f\",\"type\":\"BasicTicker\"},{\"attributes\":{},\"id\":\"a787e032-dffe-4192-b100-92c82d2e7235\",\"type\":\"HelpTool\"},{\"attributes\":{\"fill_alpha\":{\"value\":0.1},\"fill_color\":{\"value\":\"#1f77b4\"},\"line_alpha\":{\"value\":0.1},\"line_color\":{\"value\":\"#1f77b4\"},\"x\":{\"field\":\"x\"},\"y\":{\"field\":\"y\"}},\"id\":\"0a3aa842-f781-4338-b8be-518f9062b810\",\"type\":\"Circle\"},{\"attributes\":{},\"id\":\"65a9be5d-6ef3-4ca7-8b3d-f9d1b5366a97\",\"type\":\"UnionRenderers\"},{\"attributes\":{},\"id\":\"0daaae3f-da33-4286-bb7f-a4bb540e5271\",\"type\":\"UnionRenderers\"},{\"attributes\":{},\"id\":\"e251d9f3-4a79-448d-bcc6-57b15f390d8d\",\"type\":\"SaveTool\"},{\"attributes\":{},\"id\":\"15f61502-f9f8-48c9-b085-e2382237e096\",\"type\":\"UnionRenderers\"},{\"attributes\":{},\"id\":\"95544781-ff5a-4145-ab05-e07f1f42d747\",\"type\":\"Selection\"},{\"attributes\":{\"callback\":null,\"data\":{\"x\":{\"__ndarray__\":\"R/KIaN7AVEClCeJMyPNGQOvRhpxr30JAptxzhxx4PkA7SssMElA4QK6Bp3CyUDNAsVXpjES9LkBFhUV0+5coQMHYwqbbySNA6f09nM3nH0CaSd/3eYoZQDmgiAOW8BNAPYqARh3eDEBkm4vCgvr+P9D+5tWhQfY/P8DwKRnSAkBq38kb17ILQDT7IWuSsxFAUr2Rjm0FFkAinq3s9XgbQGCHwtYcqSFAG64kT303J0C7dRDneyooQD9JYrbK8yRA9S3bneHhIUAIymSuUMMcQIkHLe6VEBdAAau3cITREkA6CiNvkQIPQJU39ki7IQlAaAvwok1UA0BXLQiS4+L7P0xzDpJ2hPI/NNuPGMbJ5z91mUVYxqfSPxqwUPSxZca/G11peifD3L8QzNj5t2jTvwzOozTL360/SPJ4VI1VzD9KJ0nXEIncP8yDdlvHt+4/Et49nYLW9z++2teD4Jn+P+568eH/bwFALf5D9lmAAkCiZAicVOkCQPPT4jNKxwJAOjp3wTzBAUBSQsKNGisBQG4OmjqJwQBAJ3sZoHFuAEA5Ar0Sdi0AQGy4rw5+9f8/7W4nSrC3/z8mPr8zj4T/P4UYRHCQS/8/embVKYcF/z+5YXG+LLP+P/qb8BVUgf4/KvafTtyO/j/avAK1Ppv+PwJV9VVm2P0/JFtYlU/n/D9sN+q2fiX6Pw44e41PNPc/Opt+Z/wN9T+x3vcSW1vzP9ofvWQJlvI/8sciQQBW8j80sfkQa17yPzg5qng2r/I/Oh14WJBh8z+VZjnpctj0P6CcrSuCqQBA\",\"dtype\":\"float64\",\"shape\":[75]},\"y\":{\"__ndarray__\":\"GhExyth1ND/Sv8nbtpRIP2vylNV0PVE/aTum7souWD/At0SJ8fVgPw3Iuahxymc/MSNhhJWvcD/bTfBN02d3P2zb5nxnaoA/CD5h5MAGhz8NmeH1TyaQP+zrCsc9p5Y/LbKd76fGnz/bLW5ISEmmPww9YvTcQq8/JV2OstnstT8Er5Y7M8G+P0c+r3jqkcU/5h99k6ZBzj88bCIzFzjVP4enV8oyxN0//yH99nXg5D8qOpLLf0jtP5kqGJXUifQ/c9cS8kHP/D+/DpwzojQEQIEmwoanVwxA4lgXt9HgE0BSSZ2AJuIbQAMJih9jjiNA5q4l5INuK0AwTKYKRj0zQNv5fmq8/DpAaCJseHrtQkB/+zpwzoxKQM3MzMzMeFJAZmZmZmZqWEAAAAAAAFxeQM3MzMzMJmJAmpmZmZkfZUBmZmZmZhhoQDMzMzMzEWtAAAAAAAAKbkBmZmZmZoFwQM3MzMzM/XFAMzMzMzN6c0CamZmZmfZ0QAAAAAAAc3ZAZmZmZmbvd0DNzMzMzGt5QDMzMzMz6HpAmpmZmZlkfEAAAAAAAOF9QGZmZmZmXX9AZmZmZuZsgECamZmZGSuBQM3MzMxM6YFAAAAAAICngkAzMzMzs2WDQGZmZmbmI4RAmpmZmRnihEDNzMzMTKCFQAAAAACAXoZAMzMzM7Mch0BmZmZm5tqHQJqZmZkZmYhAzczMzExXiUAAAAAAgBWKQDMzMzOz04pAZmZmZuaRi0CamZmZGVCMQM3MzMxMDo1AAAAAAIDMjUAzMzMzs4qOQGZmZmbmSI9A\",\"dtype\":\"float64\",\"shape\":[75]}},\"selected\":{\"id\":\"c563be4e-54e8-4b38-bd28-10af978cf0c0\",\"type\":\"Selection\"},\"selection_policy\":{\"id\":\"b5c71449-ddb3-4bd2-b386-be18fc93df7d\",\"type\":\"UnionRenderers\"}},\"id\":\"831491e4-d17f-4a8c-8c7f-da42dfed1227\",\"type\":\"ColumnDataSource\"},{\"attributes\":{},\"id\":\"b5c71449-ddb3-4bd2-b386-be18fc93df7d\",\"type\":\"UnionRenderers\"},{\"attributes\":{\"ticker\":null},\"id\":\"7d19901e-f7a6-41a6-ab83-00068a09c8f3\",\"type\":\"LogTickFormatter\"},{\"attributes\":{\"line_alpha\":0.6,\"line_color\":\"#377eb8\",\"line_dash\":[6],\"line_width\":5,\"x\":{\"field\":\"x\"},\"y\":{\"field\":\"y\"}},\"id\":\"884caf30-9fed-42cc-b0d0-5ee072e552c6\",\"type\":\"Line\"},{\"attributes\":{\"callback\":null,\"data\":{\"x\":{\"__ndarray__\":\"Yxlqbm+ERUCfEHbdZtJCQHMp8yq2s0FAAJUFUIwcQEBJWyN61BQ8QJUnkfZfKTdAynQADuznMUDY1C1RfQIqQF3YXqIbRiJA89FWWK6YGkCGqR9viDYVQBR8d6GIARJA3zAo7q6LDUAswFtGCCgDQBo0+2gB2P4/S+06XyykBUBl5ikk4zwMQCyrDuoNmhBAxaq5FELcE0B09O0mtU0ZQDMF214MDCFAnq0rDeACJ0BCCf4xEBooQAGFwUQOhSRASDnRvZcnIUBM/s1f41UcQCWnH2HLVxhAegnX3D8qFEBLXtIp9sEPQLUeTUhrNQlAFLFY31E0BUAnVwVmnXEAQOuPf2i5n/Q/p4a52Y/l5T8Xr2YEZ67QP2MhQ5r7M8K/vLDjY47q3r91uF7PG3jYv4B7icnEOny/S5Jn6G29xD/APJIujWbYP+ynlBH2mew/aYU8Vnar9j8ZaMSyfMn9P3fGNuHJ5QBAhbttfVV/AUA+6nuKrUICQGjMNoSiSAJA5Mhh5UETAUBdyD6ffH4AQATwovE8TQBAJqtUX8UtAEAyDlG6ngMAQPZKXdGtnP8/rpZHOJ5A/z/YCvt2yQn/P33WnBheEf8/P13dsdhG/z/YzPFvb2n/P+ujAhA/a/8/0qXq5C1T/z9UIjCm/gH/Pyo+3feq4P0/FOVMv7bR/D9zgoJ+ojf6P3phNLx/o/c/d+jobh/19T8BOwIy14X0P/W7B9Byy/M/Ab4e/mic8z/CJQkDxLXzPzisearUF/Q/IZsGMusJ9T8UytzivMD2PynoXnY7qgFA\",\"dtype\":\"float64\",\"shape\":[75]},\"y\":{\"__ndarray__\":\"GhExyth1ND/Sv8nbtpRIP2vylNV0PVE/aTum7souWD/At0SJ8fVgPw3Iuahxymc/MSNhhJWvcD/bTfBN02d3P2zb5nxnaoA/CD5h5MAGhz8NmeH1TyaQP+zrCsc9p5Y/LbKd76fGnz/bLW5ISEmmPww9YvTcQq8/JV2OstnstT8Er5Y7M8G+P0c+r3jqkcU/5h99k6ZBzj88bCIzFzjVP4enV8oyxN0//yH99nXg5D8qOpLLf0jtP5kqGJXUifQ/c9cS8kHP/D+/DpwzojQEQIEmwoanVwxA4lgXt9HgE0BSSZ2AJuIbQAMJih9jjiNA5q4l5INuK0AwTKYKRj0zQNv5fmq8/DpAaCJseHrtQkB/+zpwzoxKQM3MzMzMeFJAZmZmZmZqWEAAAAAAAFxeQM3MzMzMJmJAmpmZmZkfZUBmZmZmZhhoQDMzMzMzEWtAAAAAAAAKbkBmZmZmZoFwQM3MzMzM/XFAMzMzMzN6c0CamZmZmfZ0QAAAAAAAc3ZAZmZmZmbvd0DNzMzMzGt5QDMzMzMz6HpAmpmZmZlkfEAAAAAAAOF9QGZmZmZmXX9AZmZmZuZsgECamZmZGSuBQM3MzMxM6YFAAAAAAICngkAzMzMzs2WDQGZmZmbmI4RAmpmZmRnihEDNzMzMTKCFQAAAAACAXoZAMzMzM7Mch0BmZmZm5tqHQJqZmZkZmYhAzczMzExXiUAAAAAAgBWKQDMzMzOz04pAZmZmZuaRi0CamZmZGVCMQM3MzMxMDo1AAAAAAIDMjUAzMzMzs4qOQGZmZmbmSI9A\",\"dtype\":\"float64\",\"shape\":[75]}},\"selected\":{\"id\":\"6d67d54a-d01e-4889-841a-96955859535c\",\"type\":\"Selection\"},\"selection_policy\":{\"id\":\"d2fda2c8-5596-4a65-92e0-6053e194f081\",\"type\":\"UnionRenderers\"}},\"id\":\"fbebe3a3-aad5-4091-b26e-1c43f7aa69c0\",\"type\":\"ColumnDataSource\"},{\"attributes\":{},\"id\":\"5e9f3f4f-302e-47b7-abf1-e252fa61f779\",\"type\":\"UnionRenderers\"},{\"attributes\":{\"ticker\":null},\"id\":\"509f41cb-e579-4990-8193-92ef8c133096\",\"type\":\"LogTickFormatter\"},{\"attributes\":{},\"id\":\"97a1a16d-4072-479d-bd72-dcc35e7bbaf1\",\"type\":\"LinearScale\"},{\"attributes\":{},\"id\":\"15b2d5ee-efe4-42ad-9f52-45e97b8230c7\",\"type\":\"BasicTickFormatter\"},{\"attributes\":{},\"id\":\"12de0bb6-b96d-4238-b365-e67bff2ea709\",\"type\":\"ResetTool\"},{\"attributes\":{},\"id\":\"38459b09-7174-4f45-b545-352dee36f790\",\"type\":\"LogScale\"},{\"attributes\":{},\"id\":\"38210c32-0b0c-4ad1-8af5-7f38eac9bc19\",\"type\":\"UnionRenderers\"},{\"attributes\":{},\"id\":\"c563be4e-54e8-4b38-bd28-10af978cf0c0\",\"type\":\"Selection\"},{\"attributes\":{},\"id\":\"56e9a8f3-83ff-4520-bed3-32188809dc29\",\"type\":\"LinearScale\"},{\"attributes\":{},\"id\":\"6d42e5b2-84d4-49ff-86a1-0ba56828eb7f\",\"type\":\"UnionRenderers\"},{\"attributes\":{},\"id\":\"50e19086-f5db-45b9-97ba-15967bc228b5\",\"type\":\"BasicTicker\"},{\"attributes\":{},\"id\":\"63f633e9-cecf-4174-8ed9-4fdb0dec6537\",\"type\":\"Selection\"},{\"attributes\":{\"axis_label\":\"cooling rate [K/day]\",\"formatter\":{\"id\":\"15b2d5ee-efe4-42ad-9f52-45e97b8230c7\",\"type\":\"BasicTickFormatter\"},\"plot\":{\"id\":\"e4dfc22a-3d53-491b-bf75-1dc3d5bd98f1\",\"subtype\":\"Figure\",\"type\":\"Plot\"},\"ticker\":{\"id\":\"b6a55c0d-fa06-4cad-9945-9879aaf9a7f7\",\"type\":\"BasicTicker\"}},\"id\":\"b6a6949e-5ab7-486d-a52c-d339ae03ddc2\",\"type\":\"LinearAxis\"},{\"attributes\":{\"tools\":[{\"id\":\"c6489191-ef63-4c89-8d75-43824923ec4f\",\"type\":\"PanTool\"},{\"id\":\"fdc75f5b-46f2-4a2e-bf01-598044f07eb4\",\"type\":\"WheelZoomTool\"},{\"id\":\"bedf5c47-a8f3-4ffc-957a-02562024b2c1\",\"type\":\"BoxZoomTool\"},{\"id\":\"e251d9f3-4a79-448d-bcc6-57b15f390d8d\",\"type\":\"SaveTool\"},{\"id\":\"12de0bb6-b96d-4238-b365-e67bff2ea709\",\"type\":\"ResetTool\"},{\"id\":\"a787e032-dffe-4192-b100-92c82d2e7235\",\"type\":\"HelpTool\"},{\"id\":\"2a02e002-1bc1-470d-9a5a-dd6993fbb550\",\"type\":\"PanTool\"},{\"id\":\"efa00c6e-72a5-4fd9-89a9-2eb964e2d092\",\"type\":\"WheelZoomTool\"},{\"id\":\"cafbfb56-8487-4f6c-9530-be92da02d1fd\",\"type\":\"BoxZoomTool\"},{\"id\":\"3ab0af14-0021-4257-990b-31fc7581bc33\",\"type\":\"SaveTool\"},{\"id\":\"48f4c7fd-a789-4f5d-ab51-7e8e47e7dd9d\",\"type\":\"ResetTool\"},{\"id\":\"6e94bbb4-b53c-448e-bc7e-3cdbb1fe41ca\",\"type\":\"HelpTool\"},{\"id\":\"97ee2612-499b-465a-8ea1-dbd0dc548524\",\"type\":\"PanTool\"},{\"id\":\"1a9997b6-e184-47f8-ac00-d93269110ce4\",\"type\":\"WheelZoomTool\"},{\"id\":\"f122dfc7-daa4-427a-9871-d0defd205a0e\",\"type\":\"BoxZoomTool\"},{\"id\":\"b73573e3-037d-4d7a-8fab-e7eb87812698\",\"type\":\"SaveTool\"},{\"id\":\"82a8cead-e44d-4afa-b51d-7a837978093d\",\"type\":\"ResetTool\"},{\"id\":\"4628e51d-0283-4a95-bfe2-cca4657d0211\",\"type\":\"HelpTool\"}]},\"id\":\"c14aecfc-2475-4f54-8340-13b56d55cb4d\",\"type\":\"ProxyToolbar\"},{\"attributes\":{\"plot\":null,\"text\":\"\"},\"id\":\"30ad9a79-cbab-4bd7-bda1-c29c13c23759\",\"type\":\"Title\"},{\"attributes\":{\"plot\":{\"id\":\"d7275873-45d2-474a-993f-89c9e16ce3d5\",\"subtype\":\"Figure\",\"type\":\"Plot\"},\"ticker\":{\"id\":\"76899639-ba75-4f46-96c1-0882e546983f\",\"type\":\"BasicTicker\"}},\"id\":\"046f3178-a75e-44d7-86d3-f2217f0e26d4\",\"type\":\"Grid\"},{\"attributes\":{},\"id\":\"6ed34ba7-43c7-44ec-9681-6a1f117be4b5\",\"type\":\"LinearScale\"},{\"attributes\":{\"axis_label\":\"pressure [mb]\",\"formatter\":{\"id\":\"7d19901e-f7a6-41a6-ab83-00068a09c8f3\",\"type\":\"LogTickFormatter\"},\"plot\":{\"id\":\"d7275873-45d2-474a-993f-89c9e16ce3d5\",\"subtype\":\"Figure\",\"type\":\"Plot\"},\"ticker\":{\"id\":\"7d7f9c6d-d1bc-4e5c-aef0-1ea90b3a3edc\",\"type\":\"LogTicker\"}},\"id\":\"81fde665-e359-4fe3-bcda-23c38ef30a79\",\"type\":\"LogAxis\"},{\"attributes\":{\"overlay\":{\"id\":\"27b7674d-fddf-4b33-be11-19aa27ffc08a\",\"type\":\"BoxAnnotation\"}},\"id\":\"bedf5c47-a8f3-4ffc-957a-02562024b2c1\",\"type\":\"BoxZoomTool\"},{\"attributes\":{\"label\":{\"value\":\"CLIRAD (single-run)\"},\"renderers\":[{\"id\":\"11a60635-5538-4ff2-9d09-b4de876f49c8\",\"type\":\"GlyphRenderer\"}]},\"id\":\"9c2d5b33-6c65-44c6-84a3-c8984d5ed625\",\"type\":\"LegendItem\"},{\"attributes\":{\"above\":[{\"id\":\"a75fd541-6908-4a82-a6b9-2c6ede04c3d1\",\"type\":\"Legend\"}],\"below\":[{\"id\":\"9e4319fb-8b53-4645-a3bc-47359a179bc4\",\"type\":\"LinearAxis\"}],\"left\":[{\"id\":\"79bb90de-b0be-4f41-a6f7-4564d4aaab49\",\"type\":\"LogAxis\"}],\"plot_width\":300,\"renderers\":[{\"id\":\"9e4319fb-8b53-4645-a3bc-47359a179bc4\",\"type\":\"LinearAxis\"},{\"id\":\"0e957537-86de-47c4-94c1-fd6a2510188b\",\"type\":\"Grid\"},{\"id\":\"79bb90de-b0be-4f41-a6f7-4564d4aaab49\",\"type\":\"LogAxis\"},{\"id\":\"a6933602-cdfe-457a-82d9-bc177514d42f\",\"type\":\"Grid\"},{\"id\":\"26dfc061-f9ed-4251-a8f6-1790baf6b695\",\"type\":\"BoxAnnotation\"},{\"id\":\"4411bea4-06b9-471d-a753-c6f681028ab9\",\"type\":\"GlyphRenderer\"},{\"id\":\"e0e83f47-fe29-4ead-84d0-540cc23cf3be\",\"type\":\"GlyphRenderer\"},{\"id\":\"a75fd541-6908-4a82-a6b9-2c6ede04c3d1\",\"type\":\"Legend\"}],\"title\":{\"id\":\"30ad9a79-cbab-4bd7-bda1-c29c13c23759\",\"type\":\"Title\"},\"toolbar\":{\"id\":\"318a291e-daee-4be6-8585-357c23723b91\",\"type\":\"Toolbar\"},\"toolbar_location\":null,\"x_range\":{\"id\":\"020e94a3-1da7-4f9a-8002-9d0953d3746e\",\"type\":\"Range1d\"},\"x_scale\":{\"id\":\"6ed34ba7-43c7-44ec-9681-6a1f117be4b5\",\"type\":\"LinearScale\"},\"y_range\":{\"id\":\"27689481-967b-4560-ac14-4d5ad3f3200d\",\"type\":\"Range1d\"},\"y_scale\":{\"id\":\"38459b09-7174-4f45-b545-352dee36f790\",\"type\":\"LogScale\"}},\"id\":\"9ce4b1ee-bd1e-4bab-8268-fe64004d6e68\",\"subtype\":\"Figure\",\"type\":\"Plot\"},{\"attributes\":{\"bottom_units\":\"screen\",\"fill_alpha\":{\"value\":0.5},\"fill_color\":{\"value\":\"lightgrey\"},\"left_units\":\"screen\",\"level\":\"overlay\",\"line_alpha\":{\"value\":1.0},\"line_color\":{\"value\":\"black\"},\"line_dash\":[4,4],\"line_width\":{\"value\":2},\"plot\":null,\"render_mode\":\"css\",\"right_units\":\"screen\",\"top_units\":\"screen\"},\"id\":\"27b7674d-fddf-4b33-be11-19aa27ffc08a\",\"type\":\"BoxAnnotation\"},{\"attributes\":{\"plot\":null,\"text\":\"\"},\"id\":\"62a1a187-6d43-4dee-8e44-f12b2c9fed6e\",\"type\":\"Title\"},{\"attributes\":{},\"id\":\"807ac4b1-870f-4f32-8397-8a56493536cd\",\"type\":\"LinearScale\"},{\"attributes\":{},\"id\":\"5f02dcb9-ced0-45c2-bd29-ef23a7fdb303\",\"type\":\"LogScale\"},{\"attributes\":{\"source\":{\"id\":\"cfe457f5-7125-40da-83fe-10ff8373a5eb\",\"type\":\"ColumnDataSource\"}},\"id\":\"a0be2657-6fce-4794-a5ed-0976f8d5925c\",\"type\":\"CDSView\"},{\"attributes\":{\"items\":[{\"id\":\"22a7bc64-db57-46e4-ae91-2085db09478f\",\"type\":\"LegendItem\"}],\"label_text_font_size\":{\"value\":\"8pt\"},\"location\":\"top_center\",\"orientation\":\"horizontal\",\"plot\":{\"id\":\"9ce4b1ee-bd1e-4bab-8268-fe64004d6e68\",\"subtype\":\"Figure\",\"type\":\"Plot\"}},\"id\":\"a75fd541-6908-4a82-a6b9-2c6ede04c3d1\",\"type\":\"Legend\"},{\"attributes\":{\"axis_label\":\"pressure [mb]\",\"formatter\":{\"id\":\"509f41cb-e579-4990-8193-92ef8c133096\",\"type\":\"LogTickFormatter\"},\"plot\":{\"id\":\"9ce4b1ee-bd1e-4bab-8268-fe64004d6e68\",\"subtype\":\"Figure\",\"type\":\"Plot\"},\"ticker\":{\"id\":\"a2879684-c735-4928-99ab-84b4991ef500\",\"type\":\"LogTicker\"}},\"id\":\"79bb90de-b0be-4f41-a6f7-4564d4aaab49\",\"type\":\"LogAxis\"},{\"attributes\":{\"source\":{\"id\":\"a5977dc4-b387-4693-a12f-0244c138b377\",\"type\":\"ColumnDataSource\"}},\"id\":\"ffcde0c0-d37b-40d5-87c3-f5e5cdb3f052\",\"type\":\"CDSView\"},{\"attributes\":{\"dimension\":1,\"plot\":{\"id\":\"9ce4b1ee-bd1e-4bab-8268-fe64004d6e68\",\"subtype\":\"Figure\",\"type\":\"Plot\"},\"ticker\":{\"id\":\"a2879684-c735-4928-99ab-84b4991ef500\",\"type\":\"LogTicker\"}},\"id\":\"a6933602-cdfe-457a-82d9-bc177514d42f\",\"type\":\"Grid\"},{\"attributes\":{\"plot\":null,\"text\":\"\"},\"id\":\"8cb5d96f-748c-4a3c-b056-d28d1dc54ff1\",\"type\":\"Title\"},{\"attributes\":{\"active_drag\":\"auto\",\"active_inspect\":\"auto\",\"active_scroll\":\"auto\",\"active_tap\":\"auto\",\"tools\":[{\"id\":\"2a02e002-1bc1-470d-9a5a-dd6993fbb550\",\"type\":\"PanTool\"},{\"id\":\"efa00c6e-72a5-4fd9-89a9-2eb964e2d092\",\"type\":\"WheelZoomTool\"},{\"id\":\"cafbfb56-8487-4f6c-9530-be92da02d1fd\",\"type\":\"BoxZoomTool\"},{\"id\":\"3ab0af14-0021-4257-990b-31fc7581bc33\",\"type\":\"SaveTool\"},{\"id\":\"48f4c7fd-a789-4f5d-ab51-7e8e47e7dd9d\",\"type\":\"ResetTool\"},{\"id\":\"6e94bbb4-b53c-448e-bc7e-3cdbb1fe41ca\",\"type\":\"HelpTool\"}]},\"id\":\"40355c32-7ee7-453d-b682-5938783a971f\",\"type\":\"Toolbar\"},{\"attributes\":{\"data_source\":{\"id\":\"1e22c809-9b48-4d4b-8482-2d2f4a4fee63\",\"type\":\"ColumnDataSource\"},\"glyph\":{\"id\":\"fed2eb77-697e-4952-ae10-10602b3c5baf\",\"type\":\"Circle\"},\"hover_glyph\":null,\"muted_glyph\":null,\"nonselection_glyph\":{\"id\":\"0a3aa842-f781-4338-b8be-518f9062b810\",\"type\":\"Circle\"},\"selection_glyph\":null,\"view\":{\"id\":\"052346af-b855-4371-8546-d7a6db2ef73e\",\"type\":\"CDSView\"}},\"id\":\"4411bea4-06b9-471d-a753-c6f681028ab9\",\"type\":\"GlyphRenderer\"},{\"attributes\":{\"above\":[{\"id\":\"817b59b1-ed8d-4fe0-8eab-58b7c713efdd\",\"type\":\"Legend\"}],\"below\":[{\"id\":\"e8173543-2744-42dc-bdfa-d5dcbf1ce9ea\",\"type\":\"LinearAxis\"}],\"left\":[{\"id\":\"81fde665-e359-4fe3-bcda-23c38ef30a79\",\"type\":\"LogAxis\"}],\"plot_width\":300,\"renderers\":[{\"id\":\"e8173543-2744-42dc-bdfa-d5dcbf1ce9ea\",\"type\":\"LinearAxis\"},{\"id\":\"046f3178-a75e-44d7-86d3-f2217f0e26d4\",\"type\":\"Grid\"},{\"id\":\"81fde665-e359-4fe3-bcda-23c38ef30a79\",\"type\":\"LogAxis\"},{\"id\":\"3f7355c9-9bb6-4468-97ea-bc611fc41eed\",\"type\":\"Grid\"},{\"id\":\"0f4d4dbe-a93b-430b-96aa-fc7a2e5578d6\",\"type\":\"BoxAnnotation\"},{\"id\":\"11186a8f-25ec-4487-9914-c8ed37fa6bf4\",\"type\":\"GlyphRenderer\"},{\"id\":\"33270fae-1a9f-40ff-8833-bbe40d28347f\",\"type\":\"GlyphRenderer\"},{\"id\":\"de627bb4-47d5-4583-b97d-7ba55add8757\",\"type\":\"GlyphRenderer\"},{\"id\":\"817b59b1-ed8d-4fe0-8eab-58b7c713efdd\",\"type\":\"Legend\"}],\"title\":{\"id\":\"62a1a187-6d43-4dee-8e44-f12b2c9fed6e\",\"type\":\"Title\"},\"toolbar\":{\"id\":\"40355c32-7ee7-453d-b682-5938783a971f\",\"type\":\"Toolbar\"},\"toolbar_location\":null,\"x_range\":{\"id\":\"c43fdfd9-1f7c-4e2d-89d4-dadc5be23774\",\"type\":\"Range1d\"},\"x_scale\":{\"id\":\"97a1a16d-4072-479d-bd72-dcc35e7bbaf1\",\"type\":\"LinearScale\"},\"y_range\":{\"id\":\"fa1daf7f-71fd-4fe2-9f46-a14aeb9a8592\",\"type\":\"Range1d\"},\"y_scale\":{\"id\":\"5f02dcb9-ced0-45c2-bd29-ef23a7fdb303\",\"type\":\"LogScale\"}},\"id\":\"d7275873-45d2-474a-993f-89c9e16ce3d5\",\"subtype\":\"Figure\",\"type\":\"Plot\"},{\"attributes\":{},\"id\":\"1b4ac3f7-750e-43fb-9d79-713d666abd45\",\"type\":\"BasicTickFormatter\"},{\"attributes\":{\"plot\":{\"id\":\"9ce4b1ee-bd1e-4bab-8268-fe64004d6e68\",\"subtype\":\"Figure\",\"type\":\"Plot\"},\"ticker\":{\"id\":\"50e19086-f5db-45b9-97ba-15967bc228b5\",\"type\":\"BasicTicker\"}},\"id\":\"0e957537-86de-47c4-94c1-fd6a2510188b\",\"type\":\"Grid\"},{\"attributes\":{\"children\":[{\"id\":\"8d2732d3-30a5-4901-b80a-bfd30fdef5fe\",\"type\":\"Row\"}]},\"id\":\"8edd8869-9116-42c3-8572-889078869c6b\",\"type\":\"Column\"},{\"attributes\":{\"active_drag\":\"auto\",\"active_inspect\":\"auto\",\"active_scroll\":\"auto\",\"active_tap\":\"auto\",\"tools\":[{\"id\":\"c6489191-ef63-4c89-8d75-43824923ec4f\",\"type\":\"PanTool\"},{\"id\":\"fdc75f5b-46f2-4a2e-bf01-598044f07eb4\",\"type\":\"WheelZoomTool\"},{\"id\":\"bedf5c47-a8f3-4ffc-957a-02562024b2c1\",\"type\":\"BoxZoomTool\"},{\"id\":\"e251d9f3-4a79-448d-bcc6-57b15f390d8d\",\"type\":\"SaveTool\"},{\"id\":\"12de0bb6-b96d-4238-b365-e67bff2ea709\",\"type\":\"ResetTool\"},{\"id\":\"a787e032-dffe-4192-b100-92c82d2e7235\",\"type\":\"HelpTool\"}]},\"id\":\"51e34606-5127-4e94-9e19-26ce1c53a817\",\"type\":\"Toolbar\"},{\"attributes\":{\"active_drag\":\"auto\",\"active_inspect\":\"auto\",\"active_scroll\":\"auto\",\"active_tap\":\"auto\",\"tools\":[{\"id\":\"97ee2612-499b-465a-8ea1-dbd0dc548524\",\"type\":\"PanTool\"},{\"id\":\"1a9997b6-e184-47f8-ac00-d93269110ce4\",\"type\":\"WheelZoomTool\"},{\"id\":\"f122dfc7-daa4-427a-9871-d0defd205a0e\",\"type\":\"BoxZoomTool\"},{\"id\":\"b73573e3-037d-4d7a-8fab-e7eb87812698\",\"type\":\"SaveTool\"},{\"id\":\"82a8cead-e44d-4afa-b51d-7a837978093d\",\"type\":\"ResetTool\"},{\"id\":\"4628e51d-0283-4a95-bfe2-cca4657d0211\",\"type\":\"HelpTool\"}]},\"id\":\"318a291e-daee-4be6-8585-357c23723b91\",\"type\":\"Toolbar\"},{\"attributes\":{\"callback\":null,\"end\":0.01,\"start\":1020},\"id\":\"27689481-967b-4560-ac14-4d5ad3f3200d\",\"type\":\"Range1d\"},{\"attributes\":{},\"id\":\"92c85136-e493-4537-a51f-8c5967103114\",\"type\":\"Selection\"},{\"attributes\":{\"children\":[{\"id\":\"1f2d06e6-69db-4665-b72c-6f50140e8f4c\",\"type\":\"ToolbarBox\"},{\"id\":\"8edd8869-9116-42c3-8572-889078869c6b\",\"type\":\"Column\"}]},\"id\":\"7cdd3aaf-8e0a-4e64-9adc-f16b979a3966\",\"type\":\"Column\"},{\"attributes\":{\"callback\":null,\"end\":0.5553520401785079,\"start\":-1.3459075044057083},\"id\":\"020e94a3-1da7-4f9a-8002-9d0953d3746e\",\"type\":\"Range1d\"},{\"attributes\":{\"label\":{\"value\":\"CRD\"},\"renderers\":[{\"id\":\"33270fae-1a9f-40ff-8833-bbe40d28347f\",\"type\":\"GlyphRenderer\"},{\"id\":\"de627bb4-47d5-4583-b97d-7ba55add8757\",\"type\":\"GlyphRenderer\"}]},\"id\":\"51371f9f-95d3-468e-8496-91e203013444\",\"type\":\"LegendItem\"},{\"attributes\":{\"num_minor_ticks\":10},\"id\":\"a2879684-c735-4928-99ab-84b4991ef500\",\"type\":\"LogTicker\"},{\"attributes\":{\"label\":{\"value\":\"CLIRAD (single-run) - CRD\"},\"renderers\":[{\"id\":\"4411bea4-06b9-471d-a753-c6f681028ab9\",\"type\":\"GlyphRenderer\"},{\"id\":\"e0e83f47-fe29-4ead-84d0-540cc23cf3be\",\"type\":\"GlyphRenderer\"}]},\"id\":\"22a7bc64-db57-46e4-ae91-2085db09478f\",\"type\":\"LegendItem\"},{\"attributes\":{\"children\":[{\"id\":\"e4dfc22a-3d53-491b-bf75-1dc3d5bd98f1\",\"subtype\":\"Figure\",\"type\":\"Plot\"},{\"id\":\"d7275873-45d2-474a-993f-89c9e16ce3d5\",\"subtype\":\"Figure\",\"type\":\"Plot\"},{\"id\":\"9ce4b1ee-bd1e-4bab-8268-fe64004d6e68\",\"subtype\":\"Figure\",\"type\":\"Plot\"}]},\"id\":\"8d2732d3-30a5-4901-b80a-bfd30fdef5fe\",\"type\":\"Row\"},{\"attributes\":{\"line_alpha\":0.1,\"line_color\":\"#1f77b4\",\"line_width\":1.5,\"x\":{\"field\":\"x\"},\"y\":{\"field\":\"y\"}},\"id\":\"8878dec1-088f-444e-8095-b949b42b8c49\",\"type\":\"Line\"},{\"attributes\":{},\"id\":\"c946c6fe-e4c1-43c7-a793-f181933edb92\",\"type\":\"Selection\"},{\"attributes\":{},\"id\":\"1a9997b6-e184-47f8-ac00-d93269110ce4\",\"type\":\"WheelZoomTool\"},{\"attributes\":{},\"id\":\"6d67d54a-d01e-4889-841a-96955859535c\",\"type\":\"Selection\"},{\"attributes\":{\"source\":{\"id\":\"1e22c809-9b48-4d4b-8482-2d2f4a4fee63\",\"type\":\"ColumnDataSource\"}},\"id\":\"052346af-b855-4371-8546-d7a6db2ef73e\",\"type\":\"CDSView\"},{\"attributes\":{},\"id\":\"c6489191-ef63-4c89-8d75-43824923ec4f\",\"type\":\"PanTool\"},{\"attributes\":{\"data_source\":{\"id\":\"346b529a-7c9e-448f-944e-1caf63a8cee9\",\"type\":\"ColumnDataSource\"},\"glyph\":{\"id\":\"d446c944-bc99-43c2-ad2d-e5f890cccaee\",\"type\":\"Line\"},\"hover_glyph\":null,\"muted_glyph\":null,\"nonselection_glyph\":{\"id\":\"189942ad-f933-4c62-b873-2e09a42cc7fe\",\"type\":\"Line\"},\"selection_glyph\":null,\"view\":{\"id\":\"7cad2112-6184-4808-9072-f76b4b8da94d\",\"type\":\"CDSView\"}},\"id\":\"e0e83f47-fe29-4ead-84d0-540cc23cf3be\",\"type\":\"GlyphRenderer\"},{\"attributes\":{\"dimension\":1,\"plot\":{\"id\":\"e4dfc22a-3d53-491b-bf75-1dc3d5bd98f1\",\"subtype\":\"Figure\",\"type\":\"Plot\"},\"ticker\":{\"id\":\"8266e7d6-b890-486c-b42f-de6b9c59431a\",\"type\":\"BasicTicker\"}},\"id\":\"4f44d845-0b51-4565-878c-fb38b4ae2c9e\",\"type\":\"Grid\"},{\"attributes\":{\"source\":{\"id\":\"5e5696c5-6da4-47f4-97b6-6098926685a8\",\"type\":\"ColumnDataSource\"}},\"id\":\"0c83adc1-3516-4c30-b1ee-a3008f38e80c\",\"type\":\"CDSView\"},{\"attributes\":{\"line_color\":\"#4daf4a\",\"line_width\":1.5,\"x\":{\"field\":\"x\"},\"y\":{\"field\":\"y\"}},\"id\":\"635fd0d1-ed1a-4df2-a948-2284c8b82a17\",\"type\":\"Line\"},{\"attributes\":{\"source\":{\"id\":\"831491e4-d17f-4a8c-8c7f-da42dfed1227\",\"type\":\"ColumnDataSource\"}},\"id\":\"1c6aba60-f4c8-4b17-ba52-c8b345a0af88\",\"type\":\"CDSView\"},{\"attributes\":{\"data_source\":{\"id\":\"fbebe3a3-aad5-4091-b26e-1c43f7aa69c0\",\"type\":\"ColumnDataSource\"},\"glyph\":{\"id\":\"884caf30-9fed-42cc-b0d0-5ee072e552c6\",\"type\":\"Line\"},\"hover_glyph\":null,\"muted_glyph\":null,\"nonselection_glyph\":{\"id\":\"d471194c-58d2-44e2-bada-5889c248b7be\",\"type\":\"Line\"},\"selection_glyph\":null,\"view\":{\"id\":\"749e8b3e-31b4-44ed-9526-41aab72f21c7\",\"type\":\"CDSView\"}},\"id\":\"11186a8f-25ec-4487-9914-c8ed37fa6bf4\",\"type\":\"GlyphRenderer\"},{\"attributes\":{\"data_source\":{\"id\":\"5e5696c5-6da4-47f4-97b6-6098926685a8\",\"type\":\"ColumnDataSource\"},\"glyph\":{\"id\":\"01cda490-5044-43bf-9065-f6a197c50f29\",\"type\":\"Circle\"},\"hover_glyph\":null,\"muted_glyph\":null,\"nonselection_glyph\":{\"id\":\"4ad9330a-5d6f-4f23-a132-75b300ebf09b\",\"type\":\"Circle\"},\"selection_glyph\":null,\"view\":{\"id\":\"0c83adc1-3516-4c30-b1ee-a3008f38e80c\",\"type\":\"CDSView\"}},\"id\":\"33270fae-1a9f-40ff-8833-bbe40d28347f\",\"type\":\"GlyphRenderer\"},{\"attributes\":{\"source\":{\"id\":\"346b529a-7c9e-448f-944e-1caf63a8cee9\",\"type\":\"ColumnDataSource\"}},\"id\":\"7cad2112-6184-4808-9072-f76b4b8da94d\",\"type\":\"CDSView\"},{\"attributes\":{\"callback\":null,\"data\":{\"x\":{\"__ndarray__\":\"Yxlqbm+ERUCfEHbdZtJCQHMp8yq2s0FAAJUFUIwcQEBJWyN61BQ8QJUnkfZfKTdAynQADuznMUDY1C1RfQIqQF3YXqIbRiJA89FWWK6YGkCGqR9viDYVQBR8d6GIARJA3zAo7q6LDUAswFtGCCgDQBo0+2gB2P4/S+06XyykBUBl5ikk4zwMQCyrDuoNmhBAxaq5FELcE0B09O0mtU0ZQDMF214MDCFAnq0rDeACJ0BCCf4xEBooQAGFwUQOhSRASDnRvZcnIUBM/s1f41UcQCWnH2HLVxhAegnX3D8qFEBLXtIp9sEPQLUeTUhrNQlAFLFY31E0BUAnVwVmnXEAQOuPf2i5n/Q/p4a52Y/l5T8Xr2YEZ67QP2MhQ5r7M8K/vLDjY47q3r91uF7PG3jYv4B7icnEOny/S5Jn6G29xD/APJIujWbYP+ynlBH2mew/aYU8Vnar9j8ZaMSyfMn9P3fGNuHJ5QBAhbttfVV/AUA+6nuKrUICQGjMNoSiSAJA5Mhh5UETAUBdyD6ffH4AQATwovE8TQBAJqtUX8UtAEAyDlG6ngMAQPZKXdGtnP8/rpZHOJ5A/z/YCvt2yQn/P33WnBheEf8/P13dsdhG/z/YzPFvb2n/P+ujAhA/a/8/0qXq5C1T/z9UIjCm/gH/Pyo+3feq4P0/FOVMv7bR/D9zgoJ+ojf6P3phNLx/o/c/d+jobh/19T8BOwIy14X0P/W7B9Byy/M/Ab4e/mic8z/CJQkDxLXzPzisearUF/Q/IZsGMusJ9T8UytzivMD2PynoXnY7qgFA\",\"dtype\":\"float64\",\"shape\":[75]},\"y\":{\"__ndarray__\":\"GhExyth1ND/Sv8nbtpRIP2vylNV0PVE/aTum7souWD/At0SJ8fVgPw3Iuahxymc/MSNhhJWvcD/bTfBN02d3P2zb5nxnaoA/CD5h5MAGhz8NmeH1TyaQP+zrCsc9p5Y/LbKd76fGnz/bLW5ISEmmPww9YvTcQq8/JV2OstnstT8Er5Y7M8G+P0c+r3jqkcU/5h99k6ZBzj88bCIzFzjVP4enV8oyxN0//yH99nXg5D8qOpLLf0jtP5kqGJXUifQ/c9cS8kHP/D+/DpwzojQEQIEmwoanVwxA4lgXt9HgE0BSSZ2AJuIbQAMJih9jjiNA5q4l5INuK0AwTKYKRj0zQNv5fmq8/DpAaCJseHrtQkB/+zpwzoxKQM3MzMzMeFJAZmZmZmZqWEAAAAAAAFxeQM3MzMzMJmJAmpmZmZkfZUBmZmZmZhhoQDMzMzMzEWtAAAAAAAAKbkBmZmZmZoFwQM3MzMzM/XFAMzMzMzN6c0CamZmZmfZ0QAAAAAAAc3ZAZmZmZmbvd0DNzMzMzGt5QDMzMzMz6HpAmpmZmZlkfEAAAAAAAOF9QGZmZmZmXX9AZmZmZuZsgECamZmZGSuBQM3MzMxM6YFAAAAAAICngkAzMzMzs2WDQGZmZmbmI4RAmpmZmRnihEDNzMzMTKCFQAAAAACAXoZAMzMzM7Mch0BmZmZm5tqHQJqZmZkZmYhAzczMzExXiUAAAAAAgBWKQDMzMzOz04pAZmZmZuaRi0CamZmZGVCMQM3MzMxMDo1AAAAAAIDMjUAzMzMzs4qOQGZmZmbmSI9A\",\"dtype\":\"float64\",\"shape\":[75]}},\"selected\":{\"id\":\"92c85136-e493-4537-a51f-8c5967103114\",\"type\":\"Selection\"},\"selection_policy\":{\"id\":\"5e9f3f4f-302e-47b7-abf1-e252fa61f779\",\"type\":\"UnionRenderers\"}},\"id\":\"cfe457f5-7125-40da-83fe-10ff8373a5eb\",\"type\":\"ColumnDataSource\"},{\"attributes\":{},\"id\":\"b73573e3-037d-4d7a-8fab-e7eb87812698\",\"type\":\"SaveTool\"},{\"attributes\":{\"fill_alpha\":{\"value\":0.7},\"fill_color\":{\"value\":\"#4daf4a\"},\"line_alpha\":{\"value\":0.7},\"line_color\":{\"value\":\"#4daf4a\"},\"x\":{\"field\":\"x\"},\"y\":{\"field\":\"y\"}},\"id\":\"d04325c4-2a6f-43d8-86ed-e6212aaa1fee\",\"type\":\"Circle\"},{\"attributes\":{},\"id\":\"82a8cead-e44d-4afa-b51d-7a837978093d\",\"type\":\"ResetTool\"},{\"attributes\":{\"callback\":null,\"data\":{\"x\":{\"__ndarray__\":\"R/KIaN7AVEClCeJMyPNGQOvRhpxr30JAptxzhxx4PkA7SssMElA4QK6Bp3CyUDNAsVXpjES9LkBFhUV0+5coQMHYwqbbySNA6f09nM3nH0CaSd/3eYoZQDmgiAOW8BNAPYqARh3eDEBkm4vCgvr+P9D+5tWhQfY/P8DwKRnSAkBq38kb17ILQDT7IWuSsxFAUr2Rjm0FFkAinq3s9XgbQGCHwtYcqSFAG64kT303J0C7dRDneyooQD9JYrbK8yRA9S3bneHhIUAIymSuUMMcQIkHLe6VEBdAAau3cITREkA6CiNvkQIPQJU39ki7IQlAaAvwok1UA0BXLQiS4+L7P0xzDpJ2hPI/NNuPGMbJ5z91mUVYxqfSPxqwUPSxZca/G11peifD3L8QzNj5t2jTvwzOozTL360/SPJ4VI1VzD9KJ0nXEIncP8yDdlvHt+4/Et49nYLW9z++2teD4Jn+P+568eH/bwFALf5D9lmAAkCiZAicVOkCQPPT4jNKxwJAOjp3wTzBAUBSQsKNGisBQG4OmjqJwQBAJ3sZoHFuAEA5Ar0Sdi0AQGy4rw5+9f8/7W4nSrC3/z8mPr8zj4T/P4UYRHCQS/8/embVKYcF/z+5YXG+LLP+P/qb8BVUgf4/KvafTtyO/j/avAK1Ppv+PwJV9VVm2P0/JFtYlU/n/D9sN+q2fiX6Pw44e41PNPc/Opt+Z/wN9T+x3vcSW1vzP9ofvWQJlvI/8sciQQBW8j80sfkQa17yPzg5qng2r/I/Oh14WJBh8z+VZjnpctj0P6CcrSuCqQBA\",\"dtype\":\"float64\",\"shape\":[75]},\"y\":{\"__ndarray__\":\"GhExyth1ND/Sv8nbtpRIP2vylNV0PVE/aTum7souWD/At0SJ8fVgPw3Iuahxymc/MSNhhJWvcD/bTfBN02d3P2zb5nxnaoA/CD5h5MAGhz8NmeH1TyaQP+zrCsc9p5Y/LbKd76fGnz/bLW5ISEmmPww9YvTcQq8/JV2OstnstT8Er5Y7M8G+P0c+r3jqkcU/5h99k6ZBzj88bCIzFzjVP4enV8oyxN0//yH99nXg5D8qOpLLf0jtP5kqGJXUifQ/c9cS8kHP/D+/DpwzojQEQIEmwoanVwxA4lgXt9HgE0BSSZ2AJuIbQAMJih9jjiNA5q4l5INuK0AwTKYKRj0zQNv5fmq8/DpAaCJseHrtQkB/+zpwzoxKQM3MzMzMeFJAZmZmZmZqWEAAAAAAAFxeQM3MzMzMJmJAmpmZmZkfZUBmZmZmZhhoQDMzMzMzEWtAAAAAAAAKbkBmZmZmZoFwQM3MzMzM/XFAMzMzMzN6c0CamZmZmfZ0QAAAAAAAc3ZAZmZmZmbvd0DNzMzMzGt5QDMzMzMz6HpAmpmZmZlkfEAAAAAAAOF9QGZmZmZmXX9AZmZmZuZsgECamZmZGSuBQM3MzMxM6YFAAAAAAICngkAzMzMzs2WDQGZmZmbmI4RAmpmZmRnihEDNzMzMTKCFQAAAAACAXoZAMzMzM7Mch0BmZmZm5tqHQJqZmZkZmYhAzczMzExXiUAAAAAAgBWKQDMzMzOz04pAZmZmZuaRi0CamZmZGVCMQM3MzMxMDo1AAAAAAIDMjUAzMzMzs4qOQGZmZmbmSI9A\",\"dtype\":\"float64\",\"shape\":[75]}},\"selected\":{\"id\":\"606d29a9-b57a-401c-b0b6-0aabeb112e34\",\"type\":\"Selection\"},\"selection_policy\":{\"id\":\"15f61502-f9f8-48c9-b085-e2382237e096\",\"type\":\"UnionRenderers\"}},\"id\":\"25cc2c7e-b046-443d-861a-b020c48f32bc\",\"type\":\"ColumnDataSource\"},{\"attributes\":{\"data_source\":{\"id\":\"a5977dc4-b387-4693-a12f-0244c138b377\",\"type\":\"ColumnDataSource\"},\"glyph\":{\"id\":\"a4359b2e-eaaf-4159-ad09-c4ec72bc7b3a\",\"type\":\"Line\"},\"hover_glyph\":null,\"muted_glyph\":null,\"nonselection_glyph\":{\"id\":\"8878dec1-088f-444e-8095-b949b42b8c49\",\"type\":\"Line\"},\"selection_glyph\":null,\"view\":{\"id\":\"ffcde0c0-d37b-40d5-87c3-f5e5cdb3f052\",\"type\":\"CDSView\"}},\"id\":\"eb87116c-dddc-48ef-994b-9865065d1aed\",\"type\":\"GlyphRenderer\"},{\"attributes\":{\"source\":{\"id\":\"fbebe3a3-aad5-4091-b26e-1c43f7aa69c0\",\"type\":\"ColumnDataSource\"}},\"id\":\"749e8b3e-31b4-44ed-9526-41aab72f21c7\",\"type\":\"CDSView\"},{\"attributes\":{\"axis_label\":\"pressure [mb]\",\"formatter\":{\"id\":\"1b4ac3f7-750e-43fb-9d79-713d666abd45\",\"type\":\"BasicTickFormatter\"},\"plot\":{\"id\":\"e4dfc22a-3d53-491b-bf75-1dc3d5bd98f1\",\"subtype\":\"Figure\",\"type\":\"Plot\"},\"ticker\":{\"id\":\"8266e7d6-b890-486c-b42f-de6b9c59431a\",\"type\":\"BasicTicker\"}},\"id\":\"820650be-ec83-4980-8731-80758f40ad27\",\"type\":\"LinearAxis\"},{\"attributes\":{\"callback\":null,\"end\":0.01,\"start\":1020},\"id\":\"fa1daf7f-71fd-4fe2-9f46-a14aeb9a8592\",\"type\":\"Range1d\"},{\"attributes\":{},\"id\":\"8266e7d6-b890-486c-b42f-de6b9c59431a\",\"type\":\"BasicTicker\"},{\"attributes\":{\"label\":{\"value\":\"CRD\"},\"renderers\":[{\"id\":\"d9260c07-cee8-4223-9a2f-04ff42da0d4e\",\"type\":\"GlyphRenderer\"},{\"id\":\"eb87116c-dddc-48ef-994b-9865065d1aed\",\"type\":\"GlyphRenderer\"}]},\"id\":\"7264830e-18f4-438e-a5e4-94fe3fe90ec6\",\"type\":\"LegendItem\"},{\"attributes\":{\"line_alpha\":0.1,\"line_color\":\"#1f77b4\",\"line_dash\":[6],\"line_width\":5,\"x\":{\"field\":\"x\"},\"y\":{\"field\":\"y\"}},\"id\":\"d471194c-58d2-44e2-bada-5889c248b7be\",\"type\":\"Line\"},{\"attributes\":{},\"id\":\"97ee2612-499b-465a-8ea1-dbd0dc548524\",\"type\":\"PanTool\"},{\"attributes\":{\"source\":{\"id\":\"25cc2c7e-b046-443d-861a-b020c48f32bc\",\"type\":\"ColumnDataSource\"}},\"id\":\"27e4d5ac-b565-4d95-82e1-6fd39d71b35a\",\"type\":\"CDSView\"},{\"attributes\":{},\"id\":\"4628e51d-0283-4a95-bfe2-cca4657d0211\",\"type\":\"HelpTool\"},{\"attributes\":{\"callback\":null,\"data\":{\"x\":{\"__ndarray__\":\"R/KIaN7AVEClCeJMyPNGQOvRhpxr30JAptxzhxx4PkA7SssMElA4QK6Bp3CyUDNAsVXpjES9LkBFhUV0+5coQMHYwqbbySNA6f09nM3nH0CaSd/3eYoZQDmgiAOW8BNAPYqARh3eDEBkm4vCgvr+P9D+5tWhQfY/P8DwKRnSAkBq38kb17ILQDT7IWuSsxFAUr2Rjm0FFkAinq3s9XgbQGCHwtYcqSFAG64kT303J0C7dRDneyooQD9JYrbK8yRA9S3bneHhIUAIymSuUMMcQIkHLe6VEBdAAau3cITREkA6CiNvkQIPQJU39ki7IQlAaAvwok1UA0BXLQiS4+L7P0xzDpJ2hPI/NNuPGMbJ5z91mUVYxqfSPxqwUPSxZca/G11peifD3L8QzNj5t2jTvwzOozTL360/SPJ4VI1VzD9KJ0nXEIncP8yDdlvHt+4/Et49nYLW9z++2teD4Jn+P+568eH/bwFALf5D9lmAAkCiZAicVOkCQPPT4jNKxwJAOjp3wTzBAUBSQsKNGisBQG4OmjqJwQBAJ3sZoHFuAEA5Ar0Sdi0AQGy4rw5+9f8/7W4nSrC3/z8mPr8zj4T/P4UYRHCQS/8/embVKYcF/z+5YXG+LLP+P/qb8BVUgf4/KvafTtyO/j/avAK1Ppv+PwJV9VVm2P0/JFtYlU/n/D9sN+q2fiX6Pw44e41PNPc/Opt+Z/wN9T+x3vcSW1vzP9ofvWQJlvI/8sciQQBW8j80sfkQa17yPzg5qng2r/I/Oh14WJBh8z+VZjnpctj0P6CcrSuCqQBA\",\"dtype\":\"float64\",\"shape\":[75]},\"y\":{\"__ndarray__\":\"GhExyth1ND/Sv8nbtpRIP2vylNV0PVE/aTum7souWD/At0SJ8fVgPw3Iuahxymc/MSNhhJWvcD/bTfBN02d3P2zb5nxnaoA/CD5h5MAGhz8NmeH1TyaQP+zrCsc9p5Y/LbKd76fGnz/bLW5ISEmmPww9YvTcQq8/JV2OstnstT8Er5Y7M8G+P0c+r3jqkcU/5h99k6ZBzj88bCIzFzjVP4enV8oyxN0//yH99nXg5D8qOpLLf0jtP5kqGJXUifQ/c9cS8kHP/D+/DpwzojQEQIEmwoanVwxA4lgXt9HgE0BSSZ2AJuIbQAMJih9jjiNA5q4l5INuK0AwTKYKRj0zQNv5fmq8/DpAaCJseHrtQkB/+zpwzoxKQM3MzMzMeFJAZmZmZmZqWEAAAAAAAFxeQM3MzMzMJmJAmpmZmZkfZUBmZmZmZhhoQDMzMzMzEWtAAAAAAAAKbkBmZmZmZoFwQM3MzMzM/XFAMzMzMzN6c0CamZmZmfZ0QAAAAAAAc3ZAZmZmZmbvd0DNzMzMzGt5QDMzMzMz6HpAmpmZmZlkfEAAAAAAAOF9QGZmZmZmXX9AZmZmZuZsgECamZmZGSuBQM3MzMxM6YFAAAAAAICngkAzMzMzs2WDQGZmZmbmI4RAmpmZmRnihEDNzMzMTKCFQAAAAACAXoZAMzMzM7Mch0BmZmZm5tqHQJqZmZkZmYhAzczMzExXiUAAAAAAgBWKQDMzMzOz04pAZmZmZuaRi0CamZmZGVCMQM3MzMxMDo1AAAAAAIDMjUAzMzMzs4qOQGZmZmbmSI9A\",\"dtype\":\"float64\",\"shape\":[75]}},\"selected\":{\"id\":\"63f633e9-cecf-4174-8ed9-4fdb0dec6537\",\"type\":\"Selection\"},\"selection_policy\":{\"id\":\"0daaae3f-da33-4286-bb7f-a4bb540e5271\",\"type\":\"UnionRenderers\"}},\"id\":\"a5977dc4-b387-4693-a12f-0244c138b377\",\"type\":\"ColumnDataSource\"},{\"attributes\":{\"bottom_units\":\"screen\",\"fill_alpha\":{\"value\":0.5},\"fill_color\":{\"value\":\"lightgrey\"},\"left_units\":\"screen\",\"level\":\"overlay\",\"line_alpha\":{\"value\":1.0},\"line_color\":{\"value\":\"black\"},\"line_dash\":[4,4],\"line_width\":{\"value\":2},\"plot\":null,\"render_mode\":\"css\",\"right_units\":\"screen\",\"top_units\":\"screen\"},\"id\":\"26dfc061-f9ed-4251-a8f6-1790baf6b695\",\"type\":\"BoxAnnotation\"},{\"attributes\":{\"fill_alpha\":{\"value\":0.7},\"fill_color\":{\"value\":\"#984ea3\"},\"line_alpha\":{\"value\":0.7},\"line_color\":{\"value\":\"#984ea3\"},\"x\":{\"field\":\"x\"},\"y\":{\"field\":\"y\"}},\"id\":\"fed2eb77-697e-4952-ae10-10602b3c5baf\",\"type\":\"Circle\"},{\"attributes\":{\"line_color\":\"#4daf4a\",\"line_width\":1.5,\"x\":{\"field\":\"x\"},\"y\":{\"field\":\"y\"}},\"id\":\"a4359b2e-eaaf-4159-ad09-c4ec72bc7b3a\",\"type\":\"Line\"},{\"attributes\":{\"above\":[{\"id\":\"e37b15b0-998a-4bef-b44b-0cf2adfe3ee9\",\"type\":\"Legend\"}],\"below\":[{\"id\":\"b6a6949e-5ab7-486d-a52c-d339ae03ddc2\",\"type\":\"LinearAxis\"}],\"left\":[{\"id\":\"820650be-ec83-4980-8731-80758f40ad27\",\"type\":\"LinearAxis\"}],\"plot_width\":300,\"renderers\":[{\"id\":\"b6a6949e-5ab7-486d-a52c-d339ae03ddc2\",\"type\":\"LinearAxis\"},{\"id\":\"3ef505e5-8d51-4fd1-b428-3a1082af23d0\",\"type\":\"Grid\"},{\"id\":\"820650be-ec83-4980-8731-80758f40ad27\",\"type\":\"LinearAxis\"},{\"id\":\"4f44d845-0b51-4565-878c-fb38b4ae2c9e\",\"type\":\"Grid\"},{\"id\":\"27b7674d-fddf-4b33-be11-19aa27ffc08a\",\"type\":\"BoxAnnotation\"},{\"id\":\"11a60635-5538-4ff2-9d09-b4de876f49c8\",\"type\":\"GlyphRenderer\"},{\"id\":\"d9260c07-cee8-4223-9a2f-04ff42da0d4e\",\"type\":\"GlyphRenderer\"},{\"id\":\"eb87116c-dddc-48ef-994b-9865065d1aed\",\"type\":\"GlyphRenderer\"},{\"id\":\"e37b15b0-998a-4bef-b44b-0cf2adfe3ee9\",\"type\":\"Legend\"}],\"title\":{\"id\":\"8cb5d96f-748c-4a3c-b056-d28d1dc54ff1\",\"type\":\"Title\"},\"toolbar\":{\"id\":\"51e34606-5127-4e94-9e19-26ce1c53a817\",\"type\":\"Toolbar\"},\"toolbar_location\":null,\"x_range\":{\"id\":\"9d4c0146-a6d8-40b2-81c7-578978c4ba90\",\"type\":\"Range1d\"},\"x_scale\":{\"id\":\"56e9a8f3-83ff-4520-bed3-32188809dc29\",\"type\":\"LinearScale\"},\"y_range\":{\"id\":\"7a76f34e-92ed-42c1-8f25-86cbb2355591\",\"type\":\"Range1d\"},\"y_scale\":{\"id\":\"807ac4b1-870f-4f32-8397-8a56493536cd\",\"type\":\"LinearScale\"}},\"id\":\"e4dfc22a-3d53-491b-bf75-1dc3d5bd98f1\",\"subtype\":\"Figure\",\"type\":\"Plot\"},{\"attributes\":{\"plot\":{\"id\":\"e4dfc22a-3d53-491b-bf75-1dc3d5bd98f1\",\"subtype\":\"Figure\",\"type\":\"Plot\"},\"ticker\":{\"id\":\"b6a55c0d-fa06-4cad-9945-9879aaf9a7f7\",\"type\":\"BasicTicker\"}},\"id\":\"3ef505e5-8d51-4fd1-b428-3a1082af23d0\",\"type\":\"Grid\"},{\"attributes\":{\"overlay\":{\"id\":\"26dfc061-f9ed-4251-a8f6-1790baf6b695\",\"type\":\"BoxAnnotation\"}},\"id\":\"f122dfc7-daa4-427a-9871-d0defd205a0e\",\"type\":\"BoxZoomTool\"},{\"attributes\":{\"data_source\":{\"id\":\"831491e4-d17f-4a8c-8c7f-da42dfed1227\",\"type\":\"ColumnDataSource\"},\"glyph\":{\"id\":\"d04325c4-2a6f-43d8-86ed-e6212aaa1fee\",\"type\":\"Circle\"},\"hover_glyph\":null,\"muted_glyph\":null,\"nonselection_glyph\":{\"id\":\"93a215f9-65c9-4283-9845-9052956f793d\",\"type\":\"Circle\"},\"selection_glyph\":null,\"view\":{\"id\":\"1c6aba60-f4c8-4b17-ba52-c8b345a0af88\",\"type\":\"CDSView\"}},\"id\":\"d9260c07-cee8-4223-9a2f-04ff42da0d4e\",\"type\":\"GlyphRenderer\"},{\"attributes\":{\"line_alpha\":0.1,\"line_color\":\"#1f77b4\",\"line_width\":1.5,\"x\":{\"field\":\"x\"},\"y\":{\"field\":\"y\"}},\"id\":\"6faf99b3-cc46-44c1-a32d-e16110b60d90\",\"type\":\"Line\"},{\"attributes\":{},\"id\":\"d2fda2c8-5596-4a65-92e0-6053e194f081\",\"type\":\"UnionRenderers\"},{\"attributes\":{\"callback\":null,\"data\":{\"x\":{\"__ndarray__\":\"R/KIaN7AVEClCeJMyPNGQOvRhpxr30JAptxzhxx4PkA7SssMElA4QK6Bp3CyUDNAsVXpjES9LkBFhUV0+5coQMHYwqbbySNA6f09nM3nH0CaSd/3eYoZQDmgiAOW8BNAPYqARh3eDEBkm4vCgvr+P9D+5tWhQfY/P8DwKRnSAkBq38kb17ILQDT7IWuSsxFAUr2Rjm0FFkAinq3s9XgbQGCHwtYcqSFAG64kT303J0C7dRDneyooQD9JYrbK8yRA9S3bneHhIUAIymSuUMMcQIkHLe6VEBdAAau3cITREkA6CiNvkQIPQJU39ki7IQlAaAvwok1UA0BXLQiS4+L7P0xzDpJ2hPI/NNuPGMbJ5z91mUVYxqfSPxqwUPSxZca/G11peifD3L8QzNj5t2jTvwzOozTL360/SPJ4VI1VzD9KJ0nXEIncP8yDdlvHt+4/Et49nYLW9z++2teD4Jn+P+568eH/bwFALf5D9lmAAkCiZAicVOkCQPPT4jNKxwJAOjp3wTzBAUBSQsKNGisBQG4OmjqJwQBAJ3sZoHFuAEA5Ar0Sdi0AQGy4rw5+9f8/7W4nSrC3/z8mPr8zj4T/P4UYRHCQS/8/embVKYcF/z+5YXG+LLP+P/qb8BVUgf4/KvafTtyO/j/avAK1Ppv+PwJV9VVm2P0/JFtYlU/n/D9sN+q2fiX6Pw44e41PNPc/Opt+Z/wN9T+x3vcSW1vzP9ofvWQJlvI/8sciQQBW8j80sfkQa17yPzg5qng2r/I/Oh14WJBh8z+VZjnpctj0P6CcrSuCqQBA\",\"dtype\":\"float64\",\"shape\":[75]},\"y\":{\"__ndarray__\":\"GhExyth1ND/Sv8nbtpRIP2vylNV0PVE/aTum7souWD/At0SJ8fVgPw3Iuahxymc/MSNhhJWvcD/bTfBN02d3P2zb5nxnaoA/CD5h5MAGhz8NmeH1TyaQP+zrCsc9p5Y/LbKd76fGnz/bLW5ISEmmPww9YvTcQq8/JV2OstnstT8Er5Y7M8G+P0c+r3jqkcU/5h99k6ZBzj88bCIzFzjVP4enV8oyxN0//yH99nXg5D8qOpLLf0jtP5kqGJXUifQ/c9cS8kHP/D+/DpwzojQEQIEmwoanVwxA4lgXt9HgE0BSSZ2AJuIbQAMJih9jjiNA5q4l5INuK0AwTKYKRj0zQNv5fmq8/DpAaCJseHrtQkB/+zpwzoxKQM3MzMzMeFJAZmZmZmZqWEAAAAAAAFxeQM3MzMzMJmJAmpmZmZkfZUBmZmZmZhhoQDMzMzMzEWtAAAAAAAAKbkBmZmZmZoFwQM3MzMzM/XFAMzMzMzN6c0CamZmZmfZ0QAAAAAAAc3ZAZmZmZmbvd0DNzMzMzGt5QDMzMzMz6HpAmpmZmZlkfEAAAAAAAOF9QGZmZmZmXX9AZmZmZuZsgECamZmZGSuBQM3MzMxM6YFAAAAAAICngkAzMzMzs2WDQGZmZmbmI4RAmpmZmRnihEDNzMzMTKCFQAAAAACAXoZAMzMzM7Mch0BmZmZm5tqHQJqZmZkZmYhAzczMzExXiUAAAAAAgBWKQDMzMzOz04pAZmZmZuaRi0CamZmZGVCMQM3MzMxMDo1AAAAAAIDMjUAzMzMzs4qOQGZmZmbmSI9A\",\"dtype\":\"float64\",\"shape\":[75]}},\"selected\":{\"id\":\"c946c6fe-e4c1-43c7-a793-f181933edb92\",\"type\":\"Selection\"},\"selection_policy\":{\"id\":\"6d42e5b2-84d4-49ff-86a1-0ba56828eb7f\",\"type\":\"UnionRenderers\"}},\"id\":\"5e5696c5-6da4-47f4-97b6-6098926685a8\",\"type\":\"ColumnDataSource\"},{\"attributes\":{\"data_source\":{\"id\":\"25cc2c7e-b046-443d-861a-b020c48f32bc\",\"type\":\"ColumnDataSource\"},\"glyph\":{\"id\":\"635fd0d1-ed1a-4df2-a948-2284c8b82a17\",\"type\":\"Line\"},\"hover_glyph\":null,\"muted_glyph\":null,\"nonselection_glyph\":{\"id\":\"6faf99b3-cc46-44c1-a32d-e16110b60d90\",\"type\":\"Line\"},\"selection_glyph\":null,\"view\":{\"id\":\"27e4d5ac-b565-4d95-82e1-6fd39d71b35a\",\"type\":\"CDSView\"}},\"id\":\"de627bb4-47d5-4583-b97d-7ba55add8757\",\"type\":\"GlyphRenderer\"},{\"attributes\":{},\"id\":\"b6a55c0d-fa06-4cad-9945-9879aaf9a7f7\",\"type\":\"BasicTicker\"}],\"root_ids\":[\"7cdd3aaf-8e0a-4e64-9adc-f16b979a3966\"]},\"title\":\"Bokeh Application\",\"version\":\"0.12.16\"}};\n",
       "  var render_items = [{\"docid\":\"3f888a0a-9d56-47a5-8670-a0cc664062eb\",\"elementid\":\"90997f79-9f9f-46bf-907b-ba6ad10789bf\",\"modelid\":\"7cdd3aaf-8e0a-4e64-9adc-f16b979a3966\"}];\n",
       "  root.Bokeh.embed.embed_items_notebook(docs_json, render_items);\n",
       "\n",
       "  }\n",
       "  if (root.Bokeh !== undefined) {\n",
       "    embed_document(root);\n",
       "  } else {\n",
       "    var attempts = 0;\n",
       "    var timer = setInterval(function(root) {\n",
       "      if (root.Bokeh !== undefined) {\n",
       "        embed_document(root);\n",
       "        clearInterval(timer);\n",
       "      }\n",
       "      attempts++;\n",
       "      if (attempts > 100) {\n",
       "        console.log(\"Bokeh: ERROR: Unable to run BokehJS code because BokehJS library is missing\")\n",
       "        clearInterval(timer);\n",
       "      }\n",
       "    }, 10, root)\n",
       "  }\n",
       "})(window);"
      ],
      "application/vnd.bokehjs_exec.v0+json": ""
     },
     "metadata": {
      "application/vnd.bokehjs_exec.v0+json": {
       "id": "7cdd3aaf-8e0a-4e64-9adc-f16b979a3966"
      }
     },
     "output_type": "display_data"
    },
    {
     "data": {
      "text/markdown": [
       "*FIGURE.* Cooling rates & difference."
      ],
      "text/plain": [
       "<IPython.core.display.Markdown object>"
      ]
     },
     "metadata": {},
     "output_type": "display_data"
    },
    {
     "data": {
      "text/html": [
       "<a id=\"Fluxes._trp.\"></a>"
      ],
      "text/plain": [
       "<IPython.core.display.HTML object>"
      ]
     },
     "metadata": {},
     "output_type": "display_data"
    },
    {
     "data": {
      "text/markdown": [
       "# Fluxes. trp."
      ],
      "text/plain": [
       "<IPython.core.display.Markdown object>"
      ]
     },
     "metadata": {},
     "output_type": "display_data"
    },
    {
     "data": {
      "text/html": [
       "\n",
       "<div class=\"bk-root\">\n",
       "    <div class=\"bk-plotdiv\" id=\"2805974f-d2dd-4593-a103-6283476afd4d\"></div>\n",
       "</div>"
      ]
     },
     "metadata": {},
     "output_type": "display_data"
    },
    {
     "data": {
      "application/javascript": [
       "(function(root) {\n",
       "  function embed_document(root) {\n",
       "    \n",
       "  var docs_json = {\"bf9ae71e-fda4-4c98-ae64-b5fad7955a85\":{\"roots\":{\"references\":[{\"attributes\":{},\"id\":\"81c47850-3bcc-475c-b0a4-3d8c7053e652\",\"type\":\"CategoricalTicker\"},{\"attributes\":{},\"id\":\"2a6fbd4a-c207-4532-b279-16b77679fc28\",\"type\":\"BasicTickFormatter\"},{\"attributes\":{\"fill_color\":{\"value\":\"#1f77b4\"},\"line_color\":{\"value\":\"#1f77b4\"},\"top\":{\"field\":\"flux\"},\"width\":{\"value\":0.9},\"x\":{\"field\":\"band\"}},\"id\":\"ad808d25-5ab3-458f-afb5-f20557dd9583\",\"type\":\"VBar\"},{\"attributes\":{\"callback\":null,\"factors\":[\"1\",\"2\",\"3\",\"4\",\"5\",\"6\",\"7\",\"8\",\"9\",\"10\",\"11\"]},\"id\":\"abcc9fa6-5c8b-4328-936a-36a048fd351f\",\"type\":\"FactorRange\"},{\"attributes\":{},\"id\":\"b9066523-b866-4e4c-9ede-ba108cc7d661\",\"type\":\"Selection\"},{\"attributes\":{\"source\":{\"id\":\"0e59b9dc-432f-4b7c-9bad-7ff16c8ca0bb\",\"type\":\"ColumnDataSource\"}},\"id\":\"504ceaf3-3c58-4abf-8c86-630cfdc09f06\",\"type\":\"CDSView\"},{\"attributes\":{\"dimension\":1,\"plot\":{\"id\":\"ddf6c3a8-aff8-41a4-8351-710918e86acc\",\"subtype\":\"Figure\",\"type\":\"Plot\"},\"ticker\":{\"id\":\"37444556-043b-4523-905d-b876f9a43b5e\",\"type\":\"BasicTicker\"}},\"id\":\"ee09476e-557c-420c-96a2-d5ebdd552d65\",\"type\":\"Grid\"},{\"attributes\":{\"children\":[{\"id\":\"12fb5356-8c87-43f4-a50d-6bd36af778e6\",\"subtype\":\"Figure\",\"type\":\"Plot\"},{\"id\":\"ddf6c3a8-aff8-41a4-8351-710918e86acc\",\"subtype\":\"Figure\",\"type\":\"Plot\"},{\"id\":\"cfd6a20a-2f3b-43ea-a1e5-cee3a459f95c\",\"subtype\":\"Figure\",\"type\":\"Plot\"}]},\"id\":\"7fe7ec41-80e5-40c6-8ae8-4b635d5d658c\",\"type\":\"Row\"},{\"attributes\":{},\"id\":\"8f3ba886-f5ed-4add-a2aa-22b57b1f48b4\",\"type\":\"ResetTool\"},{\"attributes\":{\"active_drag\":\"auto\",\"active_inspect\":\"auto\",\"active_scroll\":\"auto\",\"active_tap\":\"auto\",\"tools\":[{\"id\":\"8f1781b5-f607-4b5e-b7cf-1252e668a5d2\",\"type\":\"PanTool\"},{\"id\":\"8459d184-b6d7-406a-8287-48fc29acda23\",\"type\":\"WheelZoomTool\"},{\"id\":\"a98cfa7b-d35d-4f9f-ab0e-50e5fa7c038c\",\"type\":\"BoxZoomTool\"},{\"id\":\"4dcf1817-cb12-4745-b643-0b8906c317e5\",\"type\":\"SaveTool\"},{\"id\":\"a259d9ac-f336-48a0-89e4-0bc00ee605e0\",\"type\":\"ResetTool\"},{\"id\":\"4f3598b0-6350-4c9e-a1e3-10911e68c839\",\"type\":\"HelpTool\"}]},\"id\":\"84669d7e-1f95-42c8-8928-ab81eedc8b93\",\"type\":\"Toolbar\"},{\"attributes\":{\"callback\":null},\"id\":\"218c9afc-ab74-442b-9980-635fd6c45e92\",\"type\":\"DataRange1d\"},{\"attributes\":{},\"id\":\"e2731089-bbfa-4235-944d-c6c2dbbfffb4\",\"type\":\"PanTool\"},{\"attributes\":{},\"id\":\"8da6a39e-8463-4512-a2ae-b575899eee5f\",\"type\":\"LinearScale\"},{\"attributes\":{},\"id\":\"8c2bc874-a93f-4114-b3cc-455f5d66bba0\",\"type\":\"LinearScale\"},{\"attributes\":{},\"id\":\"6f7f7001-854e-4977-a56c-5967d64e31ec\",\"type\":\"CategoricalTickFormatter\"},{\"attributes\":{},\"id\":\"e75e0d05-dca3-44af-9b27-33c19ae5422b\",\"type\":\"ResetTool\"},{\"attributes\":{\"fill_alpha\":{\"value\":0.1},\"fill_color\":{\"value\":\"#1f77b4\"},\"line_alpha\":{\"value\":0.1},\"line_color\":{\"value\":\"#1f77b4\"},\"top\":{\"field\":\"flux\"},\"width\":{\"value\":0.9},\"x\":{\"field\":\"band\"}},\"id\":\"d78d4e45-888b-417f-9a2e-8a2d37e9406a\",\"type\":\"VBar\"},{\"attributes\":{\"plot\":{\"id\":\"cfd6a20a-2f3b-43ea-a1e5-cee3a459f95c\",\"subtype\":\"Figure\",\"type\":\"Plot\"},\"ticker\":{\"id\":\"81c47850-3bcc-475c-b0a4-3d8c7053e652\",\"type\":\"CategoricalTicker\"}},\"id\":\"abd9c0e1-ef54-4493-a0c9-b038b6e21a30\",\"type\":\"Grid\"},{\"attributes\":{},\"id\":\"3392f3a1-a0ea-4d4d-9f2b-a458d4bf6f0c\",\"type\":\"CategoricalTickFormatter\"},{\"attributes\":{\"overlay\":{\"id\":\"d1f3596d-39af-46e1-8684-d4badc96e641\",\"type\":\"BoxAnnotation\"}},\"id\":\"7c887012-76de-4b67-98f2-b1ffde17014a\",\"type\":\"BoxZoomTool\"},{\"attributes\":{\"below\":[{\"id\":\"c6bc48db-f4b8-49e7-892d-31e89ffa8a60\",\"type\":\"CategoricalAxis\"}],\"left\":[{\"id\":\"e8422947-4b5a-409c-8085-958092bc3bb8\",\"type\":\"LinearAxis\"}],\"plot_height\":300,\"plot_width\":300,\"renderers\":[{\"id\":\"c6bc48db-f4b8-49e7-892d-31e89ffa8a60\",\"type\":\"CategoricalAxis\"},{\"id\":\"abd9c0e1-ef54-4493-a0c9-b038b6e21a30\",\"type\":\"Grid\"},{\"id\":\"e8422947-4b5a-409c-8085-958092bc3bb8\",\"type\":\"LinearAxis\"},{\"id\":\"fc0e6c5e-71d9-4a6a-b322-764a379fa4d8\",\"type\":\"Grid\"},{\"id\":\"d1f3596d-39af-46e1-8684-d4badc96e641\",\"type\":\"BoxAnnotation\"},{\"id\":\"0db7266b-de9e-4523-8e89-3762ffd26d4e\",\"type\":\"GlyphRenderer\"}],\"title\":{\"id\":\"2a13f6f7-5a79-4340-b963-2099530723d5\",\"type\":\"Title\"},\"toolbar\":{\"id\":\"60be3ccf-83ca-48f7-bfc7-404f54da4763\",\"type\":\"Toolbar\"},\"toolbar_location\":null,\"x_range\":{\"id\":\"abcc9fa6-5c8b-4328-936a-36a048fd351f\",\"type\":\"FactorRange\"},\"x_scale\":{\"id\":\"66018c8a-fd87-473d-b03e-201be57ce468\",\"type\":\"CategoricalScale\"},\"y_range\":{\"id\":\"218c9afc-ab74-442b-9980-635fd6c45e92\",\"type\":\"DataRange1d\"},\"y_scale\":{\"id\":\"8da6a39e-8463-4512-a2ae-b575899eee5f\",\"type\":\"LinearScale\"}},\"id\":\"cfd6a20a-2f3b-43ea-a1e5-cee3a459f95c\",\"subtype\":\"Figure\",\"type\":\"Plot\"},{\"attributes\":{\"plot\":null,\"text\":\"Atmosphere heating. CLIRAD (single-run) - CRD.\"},\"id\":\"2a13f6f7-5a79-4340-b963-2099530723d5\",\"type\":\"Title\"},{\"attributes\":{},\"id\":\"c2b63645-58ae-4def-a081-4f927136648c\",\"type\":\"UnionRenderers\"},{\"attributes\":{\"active_drag\":\"auto\",\"active_inspect\":\"auto\",\"active_scroll\":\"auto\",\"active_tap\":\"auto\",\"tools\":[{\"id\":\"e2451a41-cc4e-479b-83e5-6d1f40a3010d\",\"type\":\"PanTool\"},{\"id\":\"a64c3391-7930-48de-bbf8-cc94bbbcb180\",\"type\":\"WheelZoomTool\"},{\"id\":\"40f2657c-6a1c-4838-ab08-881fa3893a62\",\"type\":\"BoxZoomTool\"},{\"id\":\"8a9c5a25-aa1d-4a8f-a0e3-62190293be56\",\"type\":\"SaveTool\"},{\"id\":\"e75e0d05-dca3-44af-9b27-33c19ae5422b\",\"type\":\"ResetTool\"},{\"id\":\"2f3e56cb-75d7-47de-8ae9-68397d806546\",\"type\":\"HelpTool\"}]},\"id\":\"cac84a2a-2f8c-4ef9-8bd9-2449e87a2f40\",\"type\":\"Toolbar\"},{\"attributes\":{},\"id\":\"1595217c-7fb7-4f4c-918e-5ad725e00f07\",\"type\":\"UnionRenderers\"},{\"attributes\":{\"children\":[{\"id\":\"011bcc24-b8df-4777-bfb2-98a18aedde78\",\"type\":\"ToolbarBox\"},{\"id\":\"7bf8b26f-73e5-4f38-9084-1e9b86bcc2bb\",\"type\":\"Column\"}]},\"id\":\"8295bb2b-dbd9-46b4-b305-af74f3a178a3\",\"type\":\"Column\"},{\"attributes\":{\"fill_color\":{\"value\":\"#1f77b4\"},\"line_color\":{\"value\":\"#1f77b4\"},\"top\":{\"field\":\"flux\"},\"width\":{\"value\":0.9},\"x\":{\"field\":\"band\"}},\"id\":\"09c708fc-daa6-4ad7-92e1-8e4a2cb861c9\",\"type\":\"VBar\"},{\"attributes\":{},\"id\":\"34ace712-ae58-4fe8-862e-125270b8f4ce\",\"type\":\"WheelZoomTool\"},{\"attributes\":{},\"id\":\"66018c8a-fd87-473d-b03e-201be57ce468\",\"type\":\"CategoricalScale\"},{\"attributes\":{},\"id\":\"37444556-043b-4523-905d-b876f9a43b5e\",\"type\":\"BasicTicker\"},{\"attributes\":{\"bottom_units\":\"screen\",\"fill_alpha\":{\"value\":0.5},\"fill_color\":{\"value\":\"lightgrey\"},\"left_units\":\"screen\",\"level\":\"overlay\",\"line_alpha\":{\"value\":1.0},\"line_color\":{\"value\":\"black\"},\"line_dash\":[4,4],\"line_width\":{\"value\":2},\"plot\":null,\"render_mode\":\"css\",\"right_units\":\"screen\",\"top_units\":\"screen\"},\"id\":\"d1f3596d-39af-46e1-8684-d4badc96e641\",\"type\":\"BoxAnnotation\"},{\"attributes\":{\"callback\":null,\"factors\":[\"1\",\"2\",\"3\",\"4\",\"5\",\"6\",\"7\",\"8\",\"9\",\"10\",\"11\"]},\"id\":\"65f1a085-f727-4f89-a9df-d8022f2d5753\",\"type\":\"FactorRange\"},{\"attributes\":{},\"id\":\"af7a0e3b-6c17-4fdf-bc79-f25348d8d1d9\",\"type\":\"SaveTool\"},{\"attributes\":{},\"id\":\"8a9c5a25-aa1d-4a8f-a0e3-62190293be56\",\"type\":\"SaveTool\"},{\"attributes\":{},\"id\":\"150c23d0-b563-4f6e-8c09-aad250e8b03b\",\"type\":\"Selection\"},{\"attributes\":{\"dimension\":1,\"plot\":{\"id\":\"cfd6a20a-2f3b-43ea-a1e5-cee3a459f95c\",\"subtype\":\"Figure\",\"type\":\"Plot\"},\"ticker\":{\"id\":\"37e67bb8-3586-4417-8f7b-f320fa035148\",\"type\":\"BasicTicker\"}},\"id\":\"fc0e6c5e-71d9-4a6a-b322-764a379fa4d8\",\"type\":\"Grid\"},{\"attributes\":{\"children\":[{\"id\":\"7fe7ec41-80e5-40c6-8ae8-4b635d5d658c\",\"type\":\"Row\"}]},\"id\":\"7bf8b26f-73e5-4f38-9084-1e9b86bcc2bb\",\"type\":\"Column\"},{\"attributes\":{\"bottom_units\":\"screen\",\"fill_alpha\":{\"value\":0.5},\"fill_color\":{\"value\":\"lightgrey\"},\"left_units\":\"screen\",\"level\":\"overlay\",\"line_alpha\":{\"value\":1.0},\"line_color\":{\"value\":\"black\"},\"line_dash\":[4,4],\"line_width\":{\"value\":2},\"plot\":null,\"render_mode\":\"css\",\"right_units\":\"screen\",\"top_units\":\"screen\"},\"id\":\"fc1084f1-4493-47f5-ac9e-663dea8f72c0\",\"type\":\"BoxAnnotation\"},{\"attributes\":{},\"id\":\"2f3e56cb-75d7-47de-8ae9-68397d806546\",\"type\":\"HelpTool\"},{\"attributes\":{\"callback\":null,\"factors\":[\"1\",\"2\",\"3\",\"4\",\"5\",\"6\",\"7\",\"8\",\"9\",\"10\",\"11\"]},\"id\":\"f6ca194e-481c-4de8-ae04-6cf067ed6033\",\"type\":\"FactorRange\"},{\"attributes\":{\"callback\":null},\"id\":\"a90a906e-a788-4ced-b98a-3603d5db4c2f\",\"type\":\"DataRange1d\"},{\"attributes\":{\"active_drag\":\"auto\",\"active_inspect\":\"auto\",\"active_scroll\":\"auto\",\"active_tap\":\"auto\",\"tools\":[{\"id\":\"e2731089-bbfa-4235-944d-c6c2dbbfffb4\",\"type\":\"PanTool\"},{\"id\":\"34ace712-ae58-4fe8-862e-125270b8f4ce\",\"type\":\"WheelZoomTool\"},{\"id\":\"7c887012-76de-4b67-98f2-b1ffde17014a\",\"type\":\"BoxZoomTool\"},{\"id\":\"af7a0e3b-6c17-4fdf-bc79-f25348d8d1d9\",\"type\":\"SaveTool\"},{\"id\":\"8f3ba886-f5ed-4add-a2aa-22b57b1f48b4\",\"type\":\"ResetTool\"},{\"id\":\"7c439da6-4f35-4b5d-80bc-5fc4362410e5\",\"type\":\"HelpTool\"}]},\"id\":\"60be3ccf-83ca-48f7-bfc7-404f54da4763\",\"type\":\"Toolbar\"},{\"attributes\":{\"tools\":[{\"id\":\"8f1781b5-f607-4b5e-b7cf-1252e668a5d2\",\"type\":\"PanTool\"},{\"id\":\"8459d184-b6d7-406a-8287-48fc29acda23\",\"type\":\"WheelZoomTool\"},{\"id\":\"a98cfa7b-d35d-4f9f-ab0e-50e5fa7c038c\",\"type\":\"BoxZoomTool\"},{\"id\":\"4dcf1817-cb12-4745-b643-0b8906c317e5\",\"type\":\"SaveTool\"},{\"id\":\"a259d9ac-f336-48a0-89e4-0bc00ee605e0\",\"type\":\"ResetTool\"},{\"id\":\"4f3598b0-6350-4c9e-a1e3-10911e68c839\",\"type\":\"HelpTool\"},{\"id\":\"e2451a41-cc4e-479b-83e5-6d1f40a3010d\",\"type\":\"PanTool\"},{\"id\":\"a64c3391-7930-48de-bbf8-cc94bbbcb180\",\"type\":\"WheelZoomTool\"},{\"id\":\"40f2657c-6a1c-4838-ab08-881fa3893a62\",\"type\":\"BoxZoomTool\"},{\"id\":\"8a9c5a25-aa1d-4a8f-a0e3-62190293be56\",\"type\":\"SaveTool\"},{\"id\":\"e75e0d05-dca3-44af-9b27-33c19ae5422b\",\"type\":\"ResetTool\"},{\"id\":\"2f3e56cb-75d7-47de-8ae9-68397d806546\",\"type\":\"HelpTool\"},{\"id\":\"e2731089-bbfa-4235-944d-c6c2dbbfffb4\",\"type\":\"PanTool\"},{\"id\":\"34ace712-ae58-4fe8-862e-125270b8f4ce\",\"type\":\"WheelZoomTool\"},{\"id\":\"7c887012-76de-4b67-98f2-b1ffde17014a\",\"type\":\"BoxZoomTool\"},{\"id\":\"af7a0e3b-6c17-4fdf-bc79-f25348d8d1d9\",\"type\":\"SaveTool\"},{\"id\":\"8f3ba886-f5ed-4add-a2aa-22b57b1f48b4\",\"type\":\"ResetTool\"},{\"id\":\"7c439da6-4f35-4b5d-80bc-5fc4362410e5\",\"type\":\"HelpTool\"}]},\"id\":\"39727a56-2e29-41cd-aaf9-ab5af9319822\",\"type\":\"ProxyToolbar\"},{\"attributes\":{\"callback\":null,\"data\":{\"band\":[\"1\",\"2\",\"3\",\"4\",\"5\",\"6\",\"7\",\"8\",\"9\",\"10\",\"11\"],\"flux\":{\"__ndarray__\":\"AMHG9e/6yj8ARFVMpZ/UP8A1I4PcRdO/wKT4+ITs4T8A9+Y3TDTUPwDo9SfxuaO/gPm7d9SYzj+AUMHhBRHPPwAu4dBbPJw/4PGprSLtwT+A9UyK6gi9Pw==\",\"dtype\":\"float64\",\"shape\":[11]}},\"selected\":{\"id\":\"9ac6584e-96b7-4fae-ab61-675878e25ede\",\"type\":\"Selection\"},\"selection_policy\":{\"id\":\"1595217c-7fb7-4f4c-918e-5ad725e00f07\",\"type\":\"UnionRenderers\"}},\"id\":\"3f44c245-4b10-4beb-89f3-c614e16c5c84\",\"type\":\"ColumnDataSource\"},{\"attributes\":{},\"id\":\"e2451a41-cc4e-479b-83e5-6d1f40a3010d\",\"type\":\"PanTool\"},{\"attributes\":{},\"id\":\"7c439da6-4f35-4b5d-80bc-5fc4362410e5\",\"type\":\"HelpTool\"},{\"attributes\":{},\"id\":\"9ac6584e-96b7-4fae-ab61-675878e25ede\",\"type\":\"Selection\"},{\"attributes\":{\"axis_label\":\"flux (W m-2)\",\"formatter\":{\"id\":\"d6ed1d82-c021-4e6e-a216-e740b1ba9797\",\"type\":\"BasicTickFormatter\"},\"plot\":{\"id\":\"ddf6c3a8-aff8-41a4-8351-710918e86acc\",\"subtype\":\"Figure\",\"type\":\"Plot\"},\"ticker\":{\"id\":\"37444556-043b-4523-905d-b876f9a43b5e\",\"type\":\"BasicTicker\"}},\"id\":\"8f875664-0c45-440f-9f63-c85defbab339\",\"type\":\"LinearAxis\"},{\"attributes\":{},\"id\":\"075414ed-6b08-47c9-813e-68854130cbf8\",\"type\":\"CategoricalTickFormatter\"},{\"attributes\":{\"toolbar\":{\"id\":\"39727a56-2e29-41cd-aaf9-ab5af9319822\",\"type\":\"ProxyToolbar\"},\"toolbar_location\":\"above\"},\"id\":\"011bcc24-b8df-4777-bfb2-98a18aedde78\",\"type\":\"ToolbarBox\"},{\"attributes\":{},\"id\":\"413acae3-608d-46fd-b112-497305925416\",\"type\":\"CategoricalScale\"},{\"attributes\":{},\"id\":\"ce437650-b431-48c1-9172-448c33e6b67c\",\"type\":\"UnionRenderers\"},{\"attributes\":{\"axis_label\":\"spectral band\",\"formatter\":{\"id\":\"3392f3a1-a0ea-4d4d-9f2b-a458d4bf6f0c\",\"type\":\"CategoricalTickFormatter\"},\"plot\":{\"id\":\"cfd6a20a-2f3b-43ea-a1e5-cee3a459f95c\",\"subtype\":\"Figure\",\"type\":\"Plot\"},\"ticker\":{\"id\":\"81c47850-3bcc-475c-b0a4-3d8c7053e652\",\"type\":\"CategoricalTicker\"}},\"id\":\"c6bc48db-f4b8-49e7-892d-31e89ffa8a60\",\"type\":\"CategoricalAxis\"},{\"attributes\":{\"data_source\":{\"id\":\"0e59b9dc-432f-4b7c-9bad-7ff16c8ca0bb\",\"type\":\"ColumnDataSource\"},\"glyph\":{\"id\":\"ad808d25-5ab3-458f-afb5-f20557dd9583\",\"type\":\"VBar\"},\"hover_glyph\":null,\"muted_glyph\":null,\"nonselection_glyph\":{\"id\":\"d78d4e45-888b-417f-9a2e-8a2d37e9406a\",\"type\":\"VBar\"},\"selection_glyph\":null,\"view\":{\"id\":\"504ceaf3-3c58-4abf-8c86-630cfdc09f06\",\"type\":\"CDSView\"}},\"id\":\"0db7266b-de9e-4523-8e89-3762ffd26d4e\",\"type\":\"GlyphRenderer\"},{\"attributes\":{\"axis_label\":\"flux (W m-2)\",\"formatter\":{\"id\":\"2a6fbd4a-c207-4532-b279-16b77679fc28\",\"type\":\"BasicTickFormatter\"},\"plot\":{\"id\":\"cfd6a20a-2f3b-43ea-a1e5-cee3a459f95c\",\"subtype\":\"Figure\",\"type\":\"Plot\"},\"ticker\":{\"id\":\"37e67bb8-3586-4417-8f7b-f320fa035148\",\"type\":\"BasicTicker\"}},\"id\":\"e8422947-4b5a-409c-8085-958092bc3bb8\",\"type\":\"LinearAxis\"},{\"attributes\":{},\"id\":\"ca310b0a-89de-4d2d-a710-6deafcfdec32\",\"type\":\"BasicTickFormatter\"},{\"attributes\":{\"overlay\":{\"id\":\"fc1084f1-4493-47f5-ac9e-663dea8f72c0\",\"type\":\"BoxAnnotation\"}},\"id\":\"40f2657c-6a1c-4838-ab08-881fa3893a62\",\"type\":\"BoxZoomTool\"},{\"attributes\":{},\"id\":\"d6ed1d82-c021-4e6e-a216-e740b1ba9797\",\"type\":\"BasicTickFormatter\"},{\"attributes\":{\"callback\":null,\"data\":{\"band\":[\"1\",\"2\",\"3\",\"4\",\"5\",\"6\",\"7\",\"8\",\"9\",\"10\",\"11\"],\"flux\":{\"__ndarray__\":\"AADADkbs874Ak+S5vg/QPwANMzSeCMq/ABTRr62frj8A8Z2Y9WLjP6As7j8yHd0/gB2NQ/0usj/A0phaAGTRP0Churn429E/AFDtmpDWiD8AO3arQl6wPw==\",\"dtype\":\"float64\",\"shape\":[11]}},\"selected\":{\"id\":\"150c23d0-b563-4f6e-8c09-aad250e8b03b\",\"type\":\"Selection\"},\"selection_policy\":{\"id\":\"ce437650-b431-48c1-9172-448c33e6b67c\",\"type\":\"UnionRenderers\"}},\"id\":\"c0eb381b-c4d5-44e1-a31a-479e8d83cb1e\",\"type\":\"ColumnDataSource\"},{\"attributes\":{\"plot\":null,\"text\":\"SFC flux. CLIRAD (single-run) - CRD.\"},\"id\":\"b9381166-3682-49d3-bc25-eea37129d67c\",\"type\":\"Title\"},{\"attributes\":{\"source\":{\"id\":\"c0eb381b-c4d5-44e1-a31a-479e8d83cb1e\",\"type\":\"ColumnDataSource\"}},\"id\":\"17726502-91cb-4585-abf9-f4034f459d9f\",\"type\":\"CDSView\"},{\"attributes\":{},\"id\":\"37e67bb8-3586-4417-8f7b-f320fa035148\",\"type\":\"BasicTicker\"},{\"attributes\":{},\"id\":\"a64c3391-7930-48de-bbf8-cc94bbbcb180\",\"type\":\"WheelZoomTool\"},{\"attributes\":{\"dimension\":1,\"plot\":{\"id\":\"12fb5356-8c87-43f4-a50d-6bd36af778e6\",\"subtype\":\"Figure\",\"type\":\"Plot\"},\"ticker\":{\"id\":\"ed759e70-9bbe-41b4-9d01-a029c56b5d49\",\"type\":\"BasicTicker\"}},\"id\":\"75ce934c-079f-40f7-896d-45e543d4d7cc\",\"type\":\"Grid\"},{\"attributes\":{\"axis_label\":\"spectral band\",\"formatter\":{\"id\":\"075414ed-6b08-47c9-813e-68854130cbf8\",\"type\":\"CategoricalTickFormatter\"},\"plot\":{\"id\":\"ddf6c3a8-aff8-41a4-8351-710918e86acc\",\"subtype\":\"Figure\",\"type\":\"Plot\"},\"ticker\":{\"id\":\"a841eab4-436a-481b-bfdf-c41d739075fe\",\"type\":\"CategoricalTicker\"}},\"id\":\"7352b745-c63f-4788-8512-9173264982ca\",\"type\":\"CategoricalAxis\"},{\"attributes\":{\"data_source\":{\"id\":\"c0eb381b-c4d5-44e1-a31a-479e8d83cb1e\",\"type\":\"ColumnDataSource\"},\"glyph\":{\"id\":\"09c708fc-daa6-4ad7-92e1-8e4a2cb861c9\",\"type\":\"VBar\"},\"hover_glyph\":null,\"muted_glyph\":null,\"nonselection_glyph\":{\"id\":\"62628869-98aa-4c51-b820-ed8273fc6be7\",\"type\":\"VBar\"},\"selection_glyph\":null,\"view\":{\"id\":\"17726502-91cb-4585-abf9-f4034f459d9f\",\"type\":\"CDSView\"}},\"id\":\"d91b8c87-48ed-4f7b-af92-52857847e346\",\"type\":\"GlyphRenderer\"},{\"attributes\":{\"plot\":{\"id\":\"ddf6c3a8-aff8-41a4-8351-710918e86acc\",\"subtype\":\"Figure\",\"type\":\"Plot\"},\"ticker\":{\"id\":\"a841eab4-436a-481b-bfdf-c41d739075fe\",\"type\":\"CategoricalTicker\"}},\"id\":\"fd2c07eb-2dcc-4d55-a6b7-5f16b024d479\",\"type\":\"Grid\"},{\"attributes\":{},\"id\":\"4dcf1817-cb12-4745-b643-0b8906c317e5\",\"type\":\"SaveTool\"},{\"attributes\":{\"plot\":null,\"text\":\"TOA flux. CLIRAD (single-run) - CRD.\"},\"id\":\"75a02f96-5c04-409a-9284-47fb05b8fd7a\",\"type\":\"Title\"},{\"attributes\":{\"plot\":{\"id\":\"12fb5356-8c87-43f4-a50d-6bd36af778e6\",\"subtype\":\"Figure\",\"type\":\"Plot\"},\"ticker\":{\"id\":\"66e45c37-a755-40fb-af42-73f856964efd\",\"type\":\"CategoricalTicker\"}},\"id\":\"177e5b32-17d1-4aeb-bc12-92039831a6c0\",\"type\":\"Grid\"},{\"attributes\":{\"axis_label\":\"flux (W m-2)\",\"formatter\":{\"id\":\"ca310b0a-89de-4d2d-a710-6deafcfdec32\",\"type\":\"BasicTickFormatter\"},\"plot\":{\"id\":\"12fb5356-8c87-43f4-a50d-6bd36af778e6\",\"subtype\":\"Figure\",\"type\":\"Plot\"},\"ticker\":{\"id\":\"ed759e70-9bbe-41b4-9d01-a029c56b5d49\",\"type\":\"BasicTicker\"}},\"id\":\"a25c0611-d2f9-4bb7-b6ea-c60a155b26ae\",\"type\":\"LinearAxis\"},{\"attributes\":{},\"id\":\"8f1781b5-f607-4b5e-b7cf-1252e668a5d2\",\"type\":\"PanTool\"},{\"attributes\":{},\"id\":\"53bc149d-f7fa-425e-9f58-2b71a3234257\",\"type\":\"CategoricalScale\"},{\"attributes\":{\"axis_label\":\"spectral band\",\"formatter\":{\"id\":\"6f7f7001-854e-4977-a56c-5967d64e31ec\",\"type\":\"CategoricalTickFormatter\"},\"plot\":{\"id\":\"12fb5356-8c87-43f4-a50d-6bd36af778e6\",\"subtype\":\"Figure\",\"type\":\"Plot\"},\"ticker\":{\"id\":\"66e45c37-a755-40fb-af42-73f856964efd\",\"type\":\"CategoricalTicker\"}},\"id\":\"89f12a9e-8007-47c8-acc0-3aa77913b6d6\",\"type\":\"CategoricalAxis\"},{\"attributes\":{\"source\":{\"id\":\"3f44c245-4b10-4beb-89f3-c614e16c5c84\",\"type\":\"ColumnDataSource\"}},\"id\":\"9542a05a-8600-46a0-b8ac-b15a1ae621a5\",\"type\":\"CDSView\"},{\"attributes\":{\"fill_alpha\":{\"value\":0.1},\"fill_color\":{\"value\":\"#1f77b4\"},\"line_alpha\":{\"value\":0.1},\"line_color\":{\"value\":\"#1f77b4\"},\"top\":{\"field\":\"flux\"},\"width\":{\"value\":0.9},\"x\":{\"field\":\"band\"}},\"id\":\"80cf9c88-65eb-4a80-9de6-2ef45f577246\",\"type\":\"VBar\"},{\"attributes\":{\"callback\":null,\"data\":{\"band\":[\"1\",\"2\",\"3\",\"4\",\"5\",\"6\",\"7\",\"8\",\"9\",\"10\",\"11\"],\"flux\":{\"__ndarray__\":\"AID6S2L7yj8AhLZzzD+yPwC8gsh9Brm/ABW46Y0C4D8gA5fHmpHSvwDp7GRwlN+/gOE/3UCBxT8AVKwahLmdv0C4FKEiGNC/wG+hI6BfwD9Ab6jOWVWpPw==\",\"dtype\":\"float64\",\"shape\":[11]}},\"selected\":{\"id\":\"b9066523-b866-4e4c-9ede-ba108cc7d661\",\"type\":\"Selection\"},\"selection_policy\":{\"id\":\"c2b63645-58ae-4def-a081-4f927136648c\",\"type\":\"UnionRenderers\"}},\"id\":\"0e59b9dc-432f-4b7c-9bad-7ff16c8ca0bb\",\"type\":\"ColumnDataSource\"},{\"attributes\":{\"data_source\":{\"id\":\"3f44c245-4b10-4beb-89f3-c614e16c5c84\",\"type\":\"ColumnDataSource\"},\"glyph\":{\"id\":\"dc96dde6-d0a4-47a2-9072-bd4dce52cc2e\",\"type\":\"VBar\"},\"hover_glyph\":null,\"muted_glyph\":null,\"nonselection_glyph\":{\"id\":\"80cf9c88-65eb-4a80-9de6-2ef45f577246\",\"type\":\"VBar\"},\"selection_glyph\":null,\"view\":{\"id\":\"9542a05a-8600-46a0-b8ac-b15a1ae621a5\",\"type\":\"CDSView\"}},\"id\":\"32852258-b340-49e8-8114-3f9fd9dbc931\",\"type\":\"GlyphRenderer\"},{\"attributes\":{},\"id\":\"a259d9ac-f336-48a0-89e4-0bc00ee605e0\",\"type\":\"ResetTool\"},{\"attributes\":{\"below\":[{\"id\":\"7352b745-c63f-4788-8512-9173264982ca\",\"type\":\"CategoricalAxis\"}],\"left\":[{\"id\":\"8f875664-0c45-440f-9f63-c85defbab339\",\"type\":\"LinearAxis\"}],\"plot_height\":300,\"plot_width\":300,\"renderers\":[{\"id\":\"7352b745-c63f-4788-8512-9173264982ca\",\"type\":\"CategoricalAxis\"},{\"id\":\"fd2c07eb-2dcc-4d55-a6b7-5f16b024d479\",\"type\":\"Grid\"},{\"id\":\"8f875664-0c45-440f-9f63-c85defbab339\",\"type\":\"LinearAxis\"},{\"id\":\"ee09476e-557c-420c-96a2-d5ebdd552d65\",\"type\":\"Grid\"},{\"id\":\"fc1084f1-4493-47f5-ac9e-663dea8f72c0\",\"type\":\"BoxAnnotation\"},{\"id\":\"d91b8c87-48ed-4f7b-af92-52857847e346\",\"type\":\"GlyphRenderer\"}],\"title\":{\"id\":\"b9381166-3682-49d3-bc25-eea37129d67c\",\"type\":\"Title\"},\"toolbar\":{\"id\":\"cac84a2a-2f8c-4ef9-8bd9-2449e87a2f40\",\"type\":\"Toolbar\"},\"toolbar_location\":null,\"x_range\":{\"id\":\"f6ca194e-481c-4de8-ae04-6cf067ed6033\",\"type\":\"FactorRange\"},\"x_scale\":{\"id\":\"53bc149d-f7fa-425e-9f58-2b71a3234257\",\"type\":\"CategoricalScale\"},\"y_range\":{\"id\":\"e953d715-c510-4ae5-8a74-c84f8c19980c\",\"type\":\"DataRange1d\"},\"y_scale\":{\"id\":\"38118e46-8195-4857-b38d-23f44747caad\",\"type\":\"LinearScale\"}},\"id\":\"ddf6c3a8-aff8-41a4-8351-710918e86acc\",\"subtype\":\"Figure\",\"type\":\"Plot\"},{\"attributes\":{},\"id\":\"66e45c37-a755-40fb-af42-73f856964efd\",\"type\":\"CategoricalTicker\"},{\"attributes\":{},\"id\":\"4f3598b0-6350-4c9e-a1e3-10911e68c839\",\"type\":\"HelpTool\"},{\"attributes\":{\"below\":[{\"id\":\"89f12a9e-8007-47c8-acc0-3aa77913b6d6\",\"type\":\"CategoricalAxis\"}],\"left\":[{\"id\":\"a25c0611-d2f9-4bb7-b6ea-c60a155b26ae\",\"type\":\"LinearAxis\"}],\"plot_height\":300,\"plot_width\":300,\"renderers\":[{\"id\":\"89f12a9e-8007-47c8-acc0-3aa77913b6d6\",\"type\":\"CategoricalAxis\"},{\"id\":\"177e5b32-17d1-4aeb-bc12-92039831a6c0\",\"type\":\"Grid\"},{\"id\":\"a25c0611-d2f9-4bb7-b6ea-c60a155b26ae\",\"type\":\"LinearAxis\"},{\"id\":\"75ce934c-079f-40f7-896d-45e543d4d7cc\",\"type\":\"Grid\"},{\"id\":\"e5287021-f2ff-476d-bd97-f86d9a00d05b\",\"type\":\"BoxAnnotation\"},{\"id\":\"32852258-b340-49e8-8114-3f9fd9dbc931\",\"type\":\"GlyphRenderer\"}],\"title\":{\"id\":\"75a02f96-5c04-409a-9284-47fb05b8fd7a\",\"type\":\"Title\"},\"toolbar\":{\"id\":\"84669d7e-1f95-42c8-8928-ab81eedc8b93\",\"type\":\"Toolbar\"},\"toolbar_location\":null,\"x_range\":{\"id\":\"65f1a085-f727-4f89-a9df-d8022f2d5753\",\"type\":\"FactorRange\"},\"x_scale\":{\"id\":\"413acae3-608d-46fd-b112-497305925416\",\"type\":\"CategoricalScale\"},\"y_range\":{\"id\":\"a90a906e-a788-4ced-b98a-3603d5db4c2f\",\"type\":\"DataRange1d\"},\"y_scale\":{\"id\":\"8c2bc874-a93f-4114-b3cc-455f5d66bba0\",\"type\":\"LinearScale\"}},\"id\":\"12fb5356-8c87-43f4-a50d-6bd36af778e6\",\"subtype\":\"Figure\",\"type\":\"Plot\"},{\"attributes\":{\"bottom_units\":\"screen\",\"fill_alpha\":{\"value\":0.5},\"fill_color\":{\"value\":\"lightgrey\"},\"left_units\":\"screen\",\"level\":\"overlay\",\"line_alpha\":{\"value\":1.0},\"line_color\":{\"value\":\"black\"},\"line_dash\":[4,4],\"line_width\":{\"value\":2},\"plot\":null,\"render_mode\":\"css\",\"right_units\":\"screen\",\"top_units\":\"screen\"},\"id\":\"e5287021-f2ff-476d-bd97-f86d9a00d05b\",\"type\":\"BoxAnnotation\"},{\"attributes\":{\"callback\":null},\"id\":\"e953d715-c510-4ae5-8a74-c84f8c19980c\",\"type\":\"DataRange1d\"},{\"attributes\":{\"overlay\":{\"id\":\"e5287021-f2ff-476d-bd97-f86d9a00d05b\",\"type\":\"BoxAnnotation\"}},\"id\":\"a98cfa7b-d35d-4f9f-ab0e-50e5fa7c038c\",\"type\":\"BoxZoomTool\"},{\"attributes\":{},\"id\":\"38118e46-8195-4857-b38d-23f44747caad\",\"type\":\"LinearScale\"},{\"attributes\":{},\"id\":\"a841eab4-436a-481b-bfdf-c41d739075fe\",\"type\":\"CategoricalTicker\"},{\"attributes\":{},\"id\":\"ed759e70-9bbe-41b4-9d01-a029c56b5d49\",\"type\":\"BasicTicker\"},{\"attributes\":{\"fill_color\":{\"value\":\"#1f77b4\"},\"line_color\":{\"value\":\"#1f77b4\"},\"top\":{\"field\":\"flux\"},\"width\":{\"value\":0.9},\"x\":{\"field\":\"band\"}},\"id\":\"dc96dde6-d0a4-47a2-9072-bd4dce52cc2e\",\"type\":\"VBar\"},{\"attributes\":{},\"id\":\"8459d184-b6d7-406a-8287-48fc29acda23\",\"type\":\"WheelZoomTool\"},{\"attributes\":{\"fill_alpha\":{\"value\":0.1},\"fill_color\":{\"value\":\"#1f77b4\"},\"line_alpha\":{\"value\":0.1},\"line_color\":{\"value\":\"#1f77b4\"},\"top\":{\"field\":\"flux\"},\"width\":{\"value\":0.9},\"x\":{\"field\":\"band\"}},\"id\":\"62628869-98aa-4c51-b820-ed8273fc6be7\",\"type\":\"VBar\"}],\"root_ids\":[\"8295bb2b-dbd9-46b4-b305-af74f3a178a3\"]},\"title\":\"Bokeh Application\",\"version\":\"0.12.16\"}};\n",
       "  var render_items = [{\"docid\":\"bf9ae71e-fda4-4c98-ae64-b5fad7955a85\",\"elementid\":\"2805974f-d2dd-4593-a103-6283476afd4d\",\"modelid\":\"8295bb2b-dbd9-46b4-b305-af74f3a178a3\"}];\n",
       "  root.Bokeh.embed.embed_items_notebook(docs_json, render_items);\n",
       "\n",
       "  }\n",
       "  if (root.Bokeh !== undefined) {\n",
       "    embed_document(root);\n",
       "  } else {\n",
       "    var attempts = 0;\n",
       "    var timer = setInterval(function(root) {\n",
       "      if (root.Bokeh !== undefined) {\n",
       "        embed_document(root);\n",
       "        clearInterval(timer);\n",
       "      }\n",
       "      attempts++;\n",
       "      if (attempts > 100) {\n",
       "        console.log(\"Bokeh: ERROR: Unable to run BokehJS code because BokehJS library is missing\")\n",
       "        clearInterval(timer);\n",
       "      }\n",
       "    }, 10, root)\n",
       "  }\n",
       "})(window);"
      ],
      "application/vnd.bokehjs_exec.v0+json": ""
     },
     "metadata": {
      "application/vnd.bokehjs_exec.v0+json": {
       "id": "8295bb2b-dbd9-46b4-b305-af74f3a178a3"
      }
     },
     "output_type": "display_data"
    },
    {
     "data": {
      "text/markdown": [
       "*FIGURE.* Difference between CLIRAD and CRD in TOA, SFC and net atmosphere flux, in each spectral band."
      ],
      "text/plain": [
       "<IPython.core.display.Markdown object>"
      ]
     },
     "metadata": {},
     "output_type": "display_data"
    },
    {
     "data": {
      "text/html": [
       "<div>\n",
       "<style scoped>\n",
       "    .dataframe tbody tr th:only-of-type {\n",
       "        vertical-align: middle;\n",
       "    }\n",
       "\n",
       "    .dataframe tbody tr th {\n",
       "        vertical-align: top;\n",
       "    }\n",
       "\n",
       "    .dataframe thead th {\n",
       "        text-align: right;\n",
       "    }\n",
       "</style>\n",
       "<table border=\"1\" class=\"dataframe\">\n",
       "  <thead>\n",
       "    <tr style=\"text-align: right;\">\n",
       "      <th></th>\n",
       "      <th>OLR flux</th>\n",
       "      <th>SFC flux</th>\n",
       "      <th>ATM heating</th>\n",
       "    </tr>\n",
       "    <tr>\n",
       "      <th>Sum over bands</th>\n",
       "      <th></th>\n",
       "      <th></th>\n",
       "      <th></th>\n",
       "    </tr>\n",
       "  </thead>\n",
       "  <tbody>\n",
       "    <tr>\n",
       "      <th>CLIRAD (single-run) - CRD</th>\n",
       "      <td>1.83</td>\n",
       "      <td>1.87</td>\n",
       "      <td>-0.03</td>\n",
       "    </tr>\n",
       "    <tr>\n",
       "      <th>CRD</th>\n",
       "      <td>-303.40</td>\n",
       "      <td>337.24</td>\n",
       "      <td>-181.37</td>\n",
       "    </tr>\n",
       "  </tbody>\n",
       "</table>\n",
       "</div>"
      ],
      "text/plain": [
       "                           OLR flux  SFC flux  ATM heating\n",
       "Sum over bands                                            \n",
       "CLIRAD (single-run) - CRD      1.83      1.87        -0.03\n",
       "CRD                         -303.40    337.24      -181.37"
      ]
     },
     "metadata": {},
     "output_type": "display_data"
    },
    {
     "data": {
      "text/markdown": [
       "*TABLE.* Difference between CLIRAD and CRD in TOA, SFC and net atmosphere flux, over all spectral bands. CRD's TOA, SFC and net atmosphere flux, over all spectral bands."
      ],
      "text/plain": [
       "<IPython.core.display.Markdown object>"
      ]
     },
     "metadata": {},
     "output_type": "display_data"
    }
   ],
   "source": [
    "def show_html(s):\n",
    "    display.display(display.HTML(s))\n",
    "\n",
    "    \n",
    "def show_markdown(s):\n",
    "    display.display(display.Markdown(s))\n",
    "\n",
    "\n",
    "def script():\n",
    "    \n",
    "    d_atm = {'mls': 'mid-latitude summer',\n",
    "             'saw': 'sub-arctic winter',\n",
    "             'trp': 'tropical'}\n",
    "    \n",
    "    title = ('## Results over entire range of molecules'\n",
    "             ' and spectral bands')\n",
    "    \n",
    "    s_makeup = 'Makeup of atmosphere.'\n",
    "    s_atmpro = '# {}'\n",
    "    s_cool = 'Cooling rates. {}.'\n",
    "    s_flux = 'Fluxes. {}.'\n",
    "    \n",
    "    atmpros = ['mls', 'saw', 'trp']\n",
    "    \n",
    "    # TOC\n",
    "    show_markdown(title)\n",
    "    show_markdown('### Table of Contents')\n",
    "    show_html(climahtml.getHTML_hrefanchor(s_makeup))\n",
    "    for atmpro in atmpros:\n",
    "        show_markdown('**' + d_atm[atmpro] + '**')\n",
    "        show_html(climahtml.getHTML_hrefanchor(s_cool.format(atmpro)))\n",
    "        show_html(climahtml.getHTML_hrefanchor(s_flux.format(atmpro)))\n",
    "\n",
    "        \n",
    "    # Atmosphere makeup\n",
    "    show_html(climahtml.getHTML_idanchor(s_makeup))\n",
    "    show_markdown(climahtml.getMarkdown_sectitle(s_makeup))\n",
    "    show_makeup()\n",
    "    show_grey_makeup()\n",
    "        \n",
    "    for atmpro in atmpros:\n",
    "        show_html(climahtml.getHTML_idanchor(s_cool.format(atmpro)))\n",
    "        show_markdown(\n",
    "            climahtml.getMarkdown_sectitle(s_cool.format(atmpro)))\n",
    "        show_cool(atmpro=atmpro)\n",
    "        show_html(climahtml.getHTML_idanchor(s_flux.format(atmpro)))\n",
    "        show_markdown(\n",
    "            climahtml.getMarkdown_sectitle(s_flux.format(atmpro)))\n",
    "        show_hist_flux(atmpro=atmpro)\n",
    "        show_tb_flux(atmpro=atmpro)\n",
    "    \n",
    "    \n",
    "script()  "
   ]
  },
  {
   "cell_type": "code",
   "execution_count": null,
   "metadata": {
    "collapsed": true
   },
   "outputs": [],
   "source": []
  },
  {
   "cell_type": "code",
   "execution_count": 453,
   "metadata": {},
   "outputs": [
    {
     "data": {
      "text/html": [
       "<script>\n",
       "code_show=true; \n",
       "function code_toggle() {\n",
       " if (code_show){\n",
       " $('div.input').hide();\n",
       " } else {\n",
       " $('div.input').show();\n",
       " }\n",
       " code_show = !code_show\n",
       "} \n",
       "$( document ).ready(code_toggle);\n",
       "</script>\n",
       "<form action=\"javascript:code_toggle()\"><input type=\"submit\" value=\"Click here to toggle on/off the raw code.\"></form>"
      ],
      "text/plain": [
       "<IPython.core.display.HTML object>"
      ]
     },
     "execution_count": 453,
     "metadata": {},
     "output_type": "execute_result"
    }
   ],
   "source": [
    "display.HTML('''<script>\n",
    "code_show=true; \n",
    "function code_toggle() {\n",
    " if (code_show){\n",
    " $('div.input').hide();\n",
    " } else {\n",
    " $('div.input').show();\n",
    " }\n",
    " code_show = !code_show\n",
    "} \n",
    "$( document ).ready(code_toggle);\n",
    "</script>\n",
    "<form action=\"javascript:code_toggle()\"><input type=\"submit\" value=\"Click here to toggle on/off the raw code.\"></form>''')"
   ]
  },
  {
   "cell_type": "code",
   "execution_count": null,
   "metadata": {
    "collapsed": true
   },
   "outputs": [],
   "source": []
  }
 ],
 "metadata": {
  "kernelspec": {
   "display_name": "Python 3",
   "language": "python",
   "name": "python3"
  },
  "language_info": {
   "codemirror_mode": {
    "name": "ipython",
    "version": 3
   },
   "file_extension": ".py",
   "mimetype": "text/x-python",
   "name": "python",
   "nbconvert_exporter": "python",
   "pygments_lexer": "ipython3",
   "version": "3.6.1"
  }
 },
 "nbformat": 4,
 "nbformat_minor": 2
}
