{
 "cells": [
  {
   "cell_type": "code",
   "execution_count": 595,
   "metadata": {
    "collapsed": true
   },
   "outputs": [],
   "source": [
    "import os\n",
    "import ast\n",
    "import json\n",
    "import importlib \n",
    "import itertools\n",
    "import collections\n",
    "import pprint\n",
    "\n",
    "from bokeh.io import output_notebook, show\n",
    "from bokeh.layouts import gridplot\n",
    "from bokeh.plotting import figure\n",
    "from bokeh.models import Range1d, Legend, ColumnDataSource, FactorRange\n",
    "from bokeh.palettes import all_palettes\n",
    "from bokeh.transform import factor_cmap\n",
    "\n",
    "import matplotlib\n",
    "import matplotlib.pyplot as plt\n",
    "import numpy as np\n",
    "import pandas as pd\n",
    "import xarray as xr\n",
    "\n",
    "\n",
    "import climatools.lblnew.bestfit_params as bestfits\n",
    "from climatools.lblnew import setup_bestfit, setup_overlap\n",
    "import climatools.lblnew.pipeline as pipe_lblnew\n",
    "import climatools.cliradlw.setup as setup_cliradlw\n",
    "import climatools.cliradlw.pipeline as pipe_cliradlw\n",
    "\n",
    "import climatools.html.html as climahtml\n",
    "from climatools.lblnew.dataio import *\n",
    "from climatools.plot.plot import *\n",
    "\n",
    "\n",
    "from IPython import display\n",
    "\n",
    "#importlib.reload(bestfits)\n",
    "#importlib.reload(setup_bestfit)\n",
    "#importlib.reload(setup_overlap)\n",
    "#importlib.reload(pipe_lblnew)\n",
    "#importlib.reload(setup_cliradlw)\n",
    "#importlib.reload(pipe_cliradlw)"
   ]
  },
  {
   "cell_type": "code",
   "execution_count": 596,
   "metadata": {
    "scrolled": true
   },
   "outputs": [
    {
     "data": {
      "text/html": [
       "\n",
       "    <div class=\"bk-root\">\n",
       "        <a href=\"https://bokeh.pydata.org\" target=\"_blank\" class=\"bk-logo bk-logo-small bk-logo-notebook\"></a>\n",
       "        <span id=\"a584e68f-ea61-4205-afd4-0a40b33212b5\">Loading BokehJS ...</span>\n",
       "    </div>"
      ]
     },
     "metadata": {},
     "output_type": "display_data"
    },
    {
     "data": {
      "application/javascript": [
       "\n",
       "(function(root) {\n",
       "  function now() {\n",
       "    return new Date();\n",
       "  }\n",
       "\n",
       "  var force = true;\n",
       "\n",
       "  if (typeof (root._bokeh_onload_callbacks) === \"undefined\" || force === true) {\n",
       "    root._bokeh_onload_callbacks = [];\n",
       "    root._bokeh_is_loading = undefined;\n",
       "  }\n",
       "\n",
       "  var JS_MIME_TYPE = 'application/javascript';\n",
       "  var HTML_MIME_TYPE = 'text/html';\n",
       "  var EXEC_MIME_TYPE = 'application/vnd.bokehjs_exec.v0+json';\n",
       "  var CLASS_NAME = 'output_bokeh rendered_html';\n",
       "\n",
       "  /**\n",
       "   * Render data to the DOM node\n",
       "   */\n",
       "  function render(props, node) {\n",
       "    var script = document.createElement(\"script\");\n",
       "    node.appendChild(script);\n",
       "  }\n",
       "\n",
       "  /**\n",
       "   * Handle when an output is cleared or removed\n",
       "   */\n",
       "  function handleClearOutput(event, handle) {\n",
       "    var cell = handle.cell;\n",
       "\n",
       "    var id = cell.output_area._bokeh_element_id;\n",
       "    var server_id = cell.output_area._bokeh_server_id;\n",
       "    // Clean up Bokeh references\n",
       "    if (id !== undefined) {\n",
       "      Bokeh.index[id].model.document.clear();\n",
       "      delete Bokeh.index[id];\n",
       "    }\n",
       "\n",
       "    if (server_id !== undefined) {\n",
       "      // Clean up Bokeh references\n",
       "      var cmd = \"from bokeh.io.state import curstate; print(curstate().uuid_to_server['\" + server_id + \"'].get_sessions()[0].document.roots[0]._id)\";\n",
       "      cell.notebook.kernel.execute(cmd, {\n",
       "        iopub: {\n",
       "          output: function(msg) {\n",
       "            var element_id = msg.content.text.trim();\n",
       "            Bokeh.index[element_id].model.document.clear();\n",
       "            delete Bokeh.index[element_id];\n",
       "          }\n",
       "        }\n",
       "      });\n",
       "      // Destroy server and session\n",
       "      var cmd = \"import bokeh.io.notebook as ion; ion.destroy_server('\" + server_id + \"')\";\n",
       "      cell.notebook.kernel.execute(cmd);\n",
       "    }\n",
       "  }\n",
       "\n",
       "  /**\n",
       "   * Handle when a new output is added\n",
       "   */\n",
       "  function handleAddOutput(event, handle) {\n",
       "    var output_area = handle.output_area;\n",
       "    var output = handle.output;\n",
       "\n",
       "    // limit handleAddOutput to display_data with EXEC_MIME_TYPE content only\n",
       "    if ((output.output_type != \"display_data\") || (!output.data.hasOwnProperty(EXEC_MIME_TYPE))) {\n",
       "      return\n",
       "    }\n",
       "\n",
       "    var toinsert = output_area.element.find(\".\" + CLASS_NAME.split(' ')[0]);\n",
       "\n",
       "    if (output.metadata[EXEC_MIME_TYPE][\"id\"] !== undefined) {\n",
       "      toinsert[toinsert.length - 1].firstChild.textContent = output.data[JS_MIME_TYPE];\n",
       "      // store reference to embed id on output_area\n",
       "      output_area._bokeh_element_id = output.metadata[EXEC_MIME_TYPE][\"id\"];\n",
       "    }\n",
       "    if (output.metadata[EXEC_MIME_TYPE][\"server_id\"] !== undefined) {\n",
       "      var bk_div = document.createElement(\"div\");\n",
       "      bk_div.innerHTML = output.data[HTML_MIME_TYPE];\n",
       "      var script_attrs = bk_div.children[0].attributes;\n",
       "      for (var i = 0; i < script_attrs.length; i++) {\n",
       "        toinsert[toinsert.length - 1].firstChild.setAttribute(script_attrs[i].name, script_attrs[i].value);\n",
       "      }\n",
       "      // store reference to server id on output_area\n",
       "      output_area._bokeh_server_id = output.metadata[EXEC_MIME_TYPE][\"server_id\"];\n",
       "    }\n",
       "  }\n",
       "\n",
       "  function register_renderer(events, OutputArea) {\n",
       "\n",
       "    function append_mime(data, metadata, element) {\n",
       "      // create a DOM node to render to\n",
       "      var toinsert = this.create_output_subarea(\n",
       "        metadata,\n",
       "        CLASS_NAME,\n",
       "        EXEC_MIME_TYPE\n",
       "      );\n",
       "      this.keyboard_manager.register_events(toinsert);\n",
       "      // Render to node\n",
       "      var props = {data: data, metadata: metadata[EXEC_MIME_TYPE]};\n",
       "      render(props, toinsert[toinsert.length - 1]);\n",
       "      element.append(toinsert);\n",
       "      return toinsert\n",
       "    }\n",
       "\n",
       "    /* Handle when an output is cleared or removed */\n",
       "    events.on('clear_output.CodeCell', handleClearOutput);\n",
       "    events.on('delete.Cell', handleClearOutput);\n",
       "\n",
       "    /* Handle when a new output is added */\n",
       "    events.on('output_added.OutputArea', handleAddOutput);\n",
       "\n",
       "    /**\n",
       "     * Register the mime type and append_mime function with output_area\n",
       "     */\n",
       "    OutputArea.prototype.register_mime_type(EXEC_MIME_TYPE, append_mime, {\n",
       "      /* Is output safe? */\n",
       "      safe: true,\n",
       "      /* Index of renderer in `output_area.display_order` */\n",
       "      index: 0\n",
       "    });\n",
       "  }\n",
       "\n",
       "  // register the mime type if in Jupyter Notebook environment and previously unregistered\n",
       "  if (root.Jupyter !== undefined) {\n",
       "    var events = require('base/js/events');\n",
       "    var OutputArea = require('notebook/js/outputarea').OutputArea;\n",
       "\n",
       "    if (OutputArea.prototype.mime_types().indexOf(EXEC_MIME_TYPE) == -1) {\n",
       "      register_renderer(events, OutputArea);\n",
       "    }\n",
       "  }\n",
       "\n",
       "  \n",
       "  if (typeof (root._bokeh_timeout) === \"undefined\" || force === true) {\n",
       "    root._bokeh_timeout = Date.now() + 5000;\n",
       "    root._bokeh_failed_load = false;\n",
       "  }\n",
       "\n",
       "  var NB_LOAD_WARNING = {'data': {'text/html':\n",
       "     \"<div style='background-color: #fdd'>\\n\"+\n",
       "     \"<p>\\n\"+\n",
       "     \"BokehJS does not appear to have successfully loaded. If loading BokehJS from CDN, this \\n\"+\n",
       "     \"may be due to a slow or bad network connection. Possible fixes:\\n\"+\n",
       "     \"</p>\\n\"+\n",
       "     \"<ul>\\n\"+\n",
       "     \"<li>re-rerun `output_notebook()` to attempt to load from CDN again, or</li>\\n\"+\n",
       "     \"<li>use INLINE resources instead, as so:</li>\\n\"+\n",
       "     \"</ul>\\n\"+\n",
       "     \"<code>\\n\"+\n",
       "     \"from bokeh.resources import INLINE\\n\"+\n",
       "     \"output_notebook(resources=INLINE)\\n\"+\n",
       "     \"</code>\\n\"+\n",
       "     \"</div>\"}};\n",
       "\n",
       "  function display_loaded() {\n",
       "    var el = document.getElementById(\"a584e68f-ea61-4205-afd4-0a40b33212b5\");\n",
       "    if (el != null) {\n",
       "      el.textContent = \"BokehJS is loading...\";\n",
       "    }\n",
       "    if (root.Bokeh !== undefined) {\n",
       "      if (el != null) {\n",
       "        el.textContent = \"BokehJS \" + root.Bokeh.version + \" successfully loaded.\";\n",
       "      }\n",
       "    } else if (Date.now() < root._bokeh_timeout) {\n",
       "      setTimeout(display_loaded, 100)\n",
       "    }\n",
       "  }\n",
       "\n",
       "\n",
       "  function run_callbacks() {\n",
       "    try {\n",
       "      root._bokeh_onload_callbacks.forEach(function(callback) { callback() });\n",
       "    }\n",
       "    finally {\n",
       "      delete root._bokeh_onload_callbacks\n",
       "    }\n",
       "    console.info(\"Bokeh: all callbacks have finished\");\n",
       "  }\n",
       "\n",
       "  function load_libs(js_urls, callback) {\n",
       "    root._bokeh_onload_callbacks.push(callback);\n",
       "    if (root._bokeh_is_loading > 0) {\n",
       "      console.log(\"Bokeh: BokehJS is being loaded, scheduling callback at\", now());\n",
       "      return null;\n",
       "    }\n",
       "    if (js_urls == null || js_urls.length === 0) {\n",
       "      run_callbacks();\n",
       "      return null;\n",
       "    }\n",
       "    console.log(\"Bokeh: BokehJS not loaded, scheduling load and callback at\", now());\n",
       "    root._bokeh_is_loading = js_urls.length;\n",
       "    for (var i = 0; i < js_urls.length; i++) {\n",
       "      var url = js_urls[i];\n",
       "      var s = document.createElement('script');\n",
       "      s.src = url;\n",
       "      s.async = false;\n",
       "      s.onreadystatechange = s.onload = function() {\n",
       "        root._bokeh_is_loading--;\n",
       "        if (root._bokeh_is_loading === 0) {\n",
       "          console.log(\"Bokeh: all BokehJS libraries loaded\");\n",
       "          run_callbacks()\n",
       "        }\n",
       "      };\n",
       "      s.onerror = function() {\n",
       "        console.warn(\"failed to load library \" + url);\n",
       "      };\n",
       "      console.log(\"Bokeh: injecting script tag for BokehJS library: \", url);\n",
       "      document.getElementsByTagName(\"head\")[0].appendChild(s);\n",
       "    }\n",
       "  };var element = document.getElementById(\"a584e68f-ea61-4205-afd4-0a40b33212b5\");\n",
       "  if (element == null) {\n",
       "    console.log(\"Bokeh: ERROR: autoload.js configured with elementid 'a584e68f-ea61-4205-afd4-0a40b33212b5' but no matching script tag was found. \")\n",
       "    return false;\n",
       "  }\n",
       "\n",
       "  var js_urls = [\"https://cdn.pydata.org/bokeh/release/bokeh-0.12.16.min.js\", \"https://cdn.pydata.org/bokeh/release/bokeh-widgets-0.12.16.min.js\", \"https://cdn.pydata.org/bokeh/release/bokeh-tables-0.12.16.min.js\", \"https://cdn.pydata.org/bokeh/release/bokeh-gl-0.12.16.min.js\"];\n",
       "\n",
       "  var inline_js = [\n",
       "    function(Bokeh) {\n",
       "      Bokeh.set_log_level(\"info\");\n",
       "    },\n",
       "    \n",
       "    function(Bokeh) {\n",
       "      \n",
       "    },\n",
       "    function(Bokeh) {\n",
       "      console.log(\"Bokeh: injecting CSS: https://cdn.pydata.org/bokeh/release/bokeh-0.12.16.min.css\");\n",
       "      Bokeh.embed.inject_css(\"https://cdn.pydata.org/bokeh/release/bokeh-0.12.16.min.css\");\n",
       "      console.log(\"Bokeh: injecting CSS: https://cdn.pydata.org/bokeh/release/bokeh-widgets-0.12.16.min.css\");\n",
       "      Bokeh.embed.inject_css(\"https://cdn.pydata.org/bokeh/release/bokeh-widgets-0.12.16.min.css\");\n",
       "      console.log(\"Bokeh: injecting CSS: https://cdn.pydata.org/bokeh/release/bokeh-tables-0.12.16.min.css\");\n",
       "      Bokeh.embed.inject_css(\"https://cdn.pydata.org/bokeh/release/bokeh-tables-0.12.16.min.css\");\n",
       "    }\n",
       "  ];\n",
       "\n",
       "  function run_inline_js() {\n",
       "    \n",
       "    if ((root.Bokeh !== undefined) || (force === true)) {\n",
       "      for (var i = 0; i < inline_js.length; i++) {\n",
       "        inline_js[i].call(root, root.Bokeh);\n",
       "      }if (force === true) {\n",
       "        display_loaded();\n",
       "      }} else if (Date.now() < root._bokeh_timeout) {\n",
       "      setTimeout(run_inline_js, 100);\n",
       "    } else if (!root._bokeh_failed_load) {\n",
       "      console.log(\"Bokeh: BokehJS failed to load within specified timeout.\");\n",
       "      root._bokeh_failed_load = true;\n",
       "    } else if (force !== true) {\n",
       "      var cell = $(document.getElementById(\"a584e68f-ea61-4205-afd4-0a40b33212b5\")).parents('.cell').data().cell;\n",
       "      cell.output_area.append_execute_result(NB_LOAD_WARNING)\n",
       "    }\n",
       "\n",
       "  }\n",
       "\n",
       "  if (root._bokeh_is_loading === 0) {\n",
       "    console.log(\"Bokeh: BokehJS loaded, going straight to plotting\");\n",
       "    run_inline_js();\n",
       "  } else {\n",
       "    load_libs(js_urls, function() {\n",
       "      console.log(\"Bokeh: BokehJS plotting callback run at\", now());\n",
       "      run_inline_js();\n",
       "    });\n",
       "  }\n",
       "}(window));"
      ],
      "application/vnd.bokehjs_load.v0+json": "\n(function(root) {\n  function now() {\n    return new Date();\n  }\n\n  var force = true;\n\n  if (typeof (root._bokeh_onload_callbacks) === \"undefined\" || force === true) {\n    root._bokeh_onload_callbacks = [];\n    root._bokeh_is_loading = undefined;\n  }\n\n  \n\n  \n  if (typeof (root._bokeh_timeout) === \"undefined\" || force === true) {\n    root._bokeh_timeout = Date.now() + 5000;\n    root._bokeh_failed_load = false;\n  }\n\n  var NB_LOAD_WARNING = {'data': {'text/html':\n     \"<div style='background-color: #fdd'>\\n\"+\n     \"<p>\\n\"+\n     \"BokehJS does not appear to have successfully loaded. If loading BokehJS from CDN, this \\n\"+\n     \"may be due to a slow or bad network connection. Possible fixes:\\n\"+\n     \"</p>\\n\"+\n     \"<ul>\\n\"+\n     \"<li>re-rerun `output_notebook()` to attempt to load from CDN again, or</li>\\n\"+\n     \"<li>use INLINE resources instead, as so:</li>\\n\"+\n     \"</ul>\\n\"+\n     \"<code>\\n\"+\n     \"from bokeh.resources import INLINE\\n\"+\n     \"output_notebook(resources=INLINE)\\n\"+\n     \"</code>\\n\"+\n     \"</div>\"}};\n\n  function display_loaded() {\n    var el = document.getElementById(\"a584e68f-ea61-4205-afd4-0a40b33212b5\");\n    if (el != null) {\n      el.textContent = \"BokehJS is loading...\";\n    }\n    if (root.Bokeh !== undefined) {\n      if (el != null) {\n        el.textContent = \"BokehJS \" + root.Bokeh.version + \" successfully loaded.\";\n      }\n    } else if (Date.now() < root._bokeh_timeout) {\n      setTimeout(display_loaded, 100)\n    }\n  }\n\n\n  function run_callbacks() {\n    try {\n      root._bokeh_onload_callbacks.forEach(function(callback) { callback() });\n    }\n    finally {\n      delete root._bokeh_onload_callbacks\n    }\n    console.info(\"Bokeh: all callbacks have finished\");\n  }\n\n  function load_libs(js_urls, callback) {\n    root._bokeh_onload_callbacks.push(callback);\n    if (root._bokeh_is_loading > 0) {\n      console.log(\"Bokeh: BokehJS is being loaded, scheduling callback at\", now());\n      return null;\n    }\n    if (js_urls == null || js_urls.length === 0) {\n      run_callbacks();\n      return null;\n    }\n    console.log(\"Bokeh: BokehJS not loaded, scheduling load and callback at\", now());\n    root._bokeh_is_loading = js_urls.length;\n    for (var i = 0; i < js_urls.length; i++) {\n      var url = js_urls[i];\n      var s = document.createElement('script');\n      s.src = url;\n      s.async = false;\n      s.onreadystatechange = s.onload = function() {\n        root._bokeh_is_loading--;\n        if (root._bokeh_is_loading === 0) {\n          console.log(\"Bokeh: all BokehJS libraries loaded\");\n          run_callbacks()\n        }\n      };\n      s.onerror = function() {\n        console.warn(\"failed to load library \" + url);\n      };\n      console.log(\"Bokeh: injecting script tag for BokehJS library: \", url);\n      document.getElementsByTagName(\"head\")[0].appendChild(s);\n    }\n  };var element = document.getElementById(\"a584e68f-ea61-4205-afd4-0a40b33212b5\");\n  if (element == null) {\n    console.log(\"Bokeh: ERROR: autoload.js configured with elementid 'a584e68f-ea61-4205-afd4-0a40b33212b5' but no matching script tag was found. \")\n    return false;\n  }\n\n  var js_urls = [\"https://cdn.pydata.org/bokeh/release/bokeh-0.12.16.min.js\", \"https://cdn.pydata.org/bokeh/release/bokeh-widgets-0.12.16.min.js\", \"https://cdn.pydata.org/bokeh/release/bokeh-tables-0.12.16.min.js\", \"https://cdn.pydata.org/bokeh/release/bokeh-gl-0.12.16.min.js\"];\n\n  var inline_js = [\n    function(Bokeh) {\n      Bokeh.set_log_level(\"info\");\n    },\n    \n    function(Bokeh) {\n      \n    },\n    function(Bokeh) {\n      console.log(\"Bokeh: injecting CSS: https://cdn.pydata.org/bokeh/release/bokeh-0.12.16.min.css\");\n      Bokeh.embed.inject_css(\"https://cdn.pydata.org/bokeh/release/bokeh-0.12.16.min.css\");\n      console.log(\"Bokeh: injecting CSS: https://cdn.pydata.org/bokeh/release/bokeh-widgets-0.12.16.min.css\");\n      Bokeh.embed.inject_css(\"https://cdn.pydata.org/bokeh/release/bokeh-widgets-0.12.16.min.css\");\n      console.log(\"Bokeh: injecting CSS: https://cdn.pydata.org/bokeh/release/bokeh-tables-0.12.16.min.css\");\n      Bokeh.embed.inject_css(\"https://cdn.pydata.org/bokeh/release/bokeh-tables-0.12.16.min.css\");\n    }\n  ];\n\n  function run_inline_js() {\n    \n    if ((root.Bokeh !== undefined) || (force === true)) {\n      for (var i = 0; i < inline_js.length; i++) {\n        inline_js[i].call(root, root.Bokeh);\n      }if (force === true) {\n        display_loaded();\n      }} else if (Date.now() < root._bokeh_timeout) {\n      setTimeout(run_inline_js, 100);\n    } else if (!root._bokeh_failed_load) {\n      console.log(\"Bokeh: BokehJS failed to load within specified timeout.\");\n      root._bokeh_failed_load = true;\n    } else if (force !== true) {\n      var cell = $(document.getElementById(\"a584e68f-ea61-4205-afd4-0a40b33212b5\")).parents('.cell').data().cell;\n      cell.output_area.append_execute_result(NB_LOAD_WARNING)\n    }\n\n  }\n\n  if (root._bokeh_is_loading === 0) {\n    console.log(\"Bokeh: BokehJS loaded, going straight to plotting\");\n    run_inline_js();\n  } else {\n    load_libs(js_urls, function() {\n      console.log(\"Bokeh: BokehJS plotting callback run at\", now());\n      run_inline_js();\n    });\n  }\n}(window));"
     },
     "metadata": {},
     "output_type": "display_data"
    }
   ],
   "source": [
    "output_notebook()"
   ]
  },
  {
   "cell_type": "code",
   "execution_count": 597,
   "metadata": {
    "collapsed": true
   },
   "outputs": [],
   "source": [
    "'''\n",
    "Get the clirad-lw and lblnew `param`s for all spectral bands.  \n",
    "These are returned by functions `clirad_params_atm` and\n",
    "`lblnew_params_atm`, respectively.\n",
    "'''\n",
    "\n",
    "def molecules_byband_atm():\n",
    "    return {1: {'h2o': 'atmpro'},\n",
    "            2: {'h2o': 'atmpro'}, \n",
    "            3: {'co2': 0.0004, 'h2o': 'atmpro', 'n2o': 3.2e-07},\n",
    "            4: {'co2': 0.0004, 'h2o': 'atmpro'},\n",
    "            5: {'co2': 0.0004, 'h2o': 'atmpro'},\n",
    "            6: {'co2': 0.0004, 'h2o': 'atmpro'},\n",
    "            7: {'co2': 0.0004, 'h2o': 'atmpro', 'o3': 'atmpro'},\n",
    "            8: {'h2o': 'atmpro'},\n",
    "            9: {'ch4': 1.8e-06, 'h2o': 'atmpro', 'n2o': 3.2e-07},\n",
    "            10: {'h2o': 'atmpro'},\n",
    "            11: {'co2': 0.0004, 'h2o': 'atmpro'}}\n",
    "\n",
    "\n",
    "def greyabsorbers_by_band_atm():\n",
    "    return {1: {'con': 'atmpro'},\n",
    "            2: {'con': 'atmpro'},\n",
    "            3: {'con': 'atmpro'},\n",
    "            4: {'con': 'atmpro'},\n",
    "            5: {'con': 'atmpro'},\n",
    "            6: {'con': 'atmpro'}, \n",
    "            7: {'con': 'atmpro'},\n",
    "            8: {'con': 'atmpro', 'n2o': 3.2e-7}, \n",
    "            9: {'con': 'atmpro'}, \n",
    "            10: None,\n",
    "            11: None}\n",
    "\n",
    "\n",
    "def clirad_params_atm(atmpro='mls'):\n",
    "    d = {}\n",
    "    for band, molecule in molecules_byband_atm().items():\n",
    "        for param in setup_cliradlw.test_cases():\n",
    "            if [band] == param['band'] and molecule == param['molecule']:\n",
    "                param['atmpro'] = atmpro\n",
    "                d[band] = param\n",
    "                break                \n",
    "    return d\n",
    "\n",
    "\n",
    "def clirad_params_atm_singlerun(atmpro='mls'):\n",
    "    '''\n",
    "    Returns param of clirad-lw run that is equivalent to the total\n",
    "    of all the runs listed in molecules_byband_atm().  In order\n",
    "    for the output to be compatible with clirad_data_atm(), it will\n",
    "    be a list.\n",
    "    '''\n",
    "    param0 = {'band': [1, 2, 3, 4, 5, 6, 7, 8, 9, 10, 11],\n",
    "              'commitnumber': '75e07d9',\n",
    "              'molecule': {'ch4': 1.8e-06,\n",
    "                           'co2': 0.0004,\n",
    "                           'h2o': 'atmpro',\n",
    "                           'n2o': 3.2e-07,\n",
    "                           'o3': 'atmpro'}}\n",
    "    \n",
    "    d_atmpros = {'mls': 294, 'saw': 257, 'trp': 300}\n",
    "    \n",
    "    param = param0.copy()\n",
    "    param['atmpro'] = atmpro\n",
    "    param['tsfc'] = d_atmpros[atmpro]\n",
    "    \n",
    "    d = {}\n",
    "    d['all'] = param\n",
    "    return d\n",
    "\n",
    "\n",
    "def analysis_dirs_atm(atmpro='mls'):\n",
    "    params = clirad_params_atm(atmpro=atmpro)\n",
    "    return {band: pipe_cliradlw.get_analysis_dir(param=param,\n",
    "                                                 setup=setup_cliradlw) \n",
    "            for band, param in params.items()}\n",
    "\n",
    "\n",
    "def lblnew_params_atm(atmpro='mls'):\n",
    "    dirs = analysis_dirs_atm(atmpro=atmpro)\n",
    "    \n",
    "    d = {}\n",
    "    for band, dirname in dirs.items():\n",
    "        with open(os.path.join(dirname, 'param.py'), \n",
    "                  mode='r', encoding='utf-8') as f:\n",
    "            _, l = f.readlines()\n",
    "        \n",
    "        s = l.split('=')[1].strip()\n",
    "        d[band] = ast.literal_eval(s)\n",
    "        \n",
    "    return d\n"
   ]
  },
  {
   "cell_type": "code",
   "execution_count": 598,
   "metadata": {
    "collapsed": true
   },
   "outputs": [],
   "source": [
    "def db_getdir():\n",
    "    atmpro = 'mls'\n",
    "    params = clirad_params_atm_singlerun(atmpro=atmpro)\n",
    "    param = params['all']\n",
    "    \n",
    "    fdir = pipe_cliradlw.get_fortran_dir(param=param, \n",
    "                                         setup=setup_cliradlw)\n",
    "    return fdir\n",
    "\n",
    "\n",
    "def db_ktable():\n",
    "    fdir = db_getdir()    \n",
    "    fpath = os.path.join(fdir, 'ktable.dat')\n",
    "    \n",
    "    df = pd.read_csv(fpath, sep=r'\\s+')\n",
    "    df = df.set_index(['band', 'mid', 'il', 'it', 'g'])\n",
    "    ds = xr.Dataset.from_dataframe(df)\n",
    "    return ds\n",
    "\n",
    "\n",
    "def db_ng_dgs():\n",
    "    fdir = db_getdir()\n",
    "    fpath = os.path.join(fdir, 'ng_dgs.dat')\n",
    "    \n",
    "    df = pd.read_csv(fpath, sep=r'\\s+')\n",
    "    df = df.set_index(['band', 'mid', 'g'])\n",
    "    ds = xr.Dataset.from_dataframe(df)\n",
    "    return ds\n"
   ]
  },
  {
   "cell_type": "code",
   "execution_count": 599,
   "metadata": {
    "collapsed": true
   },
   "outputs": [],
   "source": [
    "def show_makeup():\n",
    "    df = pd.DataFrame()\n",
    "\n",
    "    for band, molecule in molecules_byband_atm().items():\n",
    "        for name, conc in molecule.items():\n",
    "            df.loc[name, band] = str(conc)\n",
    "\n",
    "    df = df.fillna(0)\n",
    "    df.columns.name = 'clirad band'\n",
    "    df.index.name = 'molecule'\n",
    "    \n",
    "    display.display(df)\n",
    "    \n",
    "    display.display(\n",
    "        display.Markdown('*TABLE.* Non-grey absorbers in the atmosphere.'))\n",
    "\n",
    "\n",
    "def show_grey_makeup():\n",
    "    df = pd.DataFrame()\n",
    "    \n",
    "    for band, molecule in greyabsorbers_by_band_atm().items():\n",
    "        if molecule == None:\n",
    "            pass\n",
    "        else:\n",
    "            for name, conc in molecule.items():\n",
    "                df.loc[name, band] = str(conc)\n",
    "                \n",
    "    df = df.fillna(0)\n",
    "    df.columns.name = 'clirad band'\n",
    "    df.index.name = 'absorber'\n",
    "    \n",
    "    display.display(df)\n",
    "    display.display(\n",
    "        display.Markdown('*TABLE.* Grey absorbers in the atmosphere.')\n",
    "    )"
   ]
  },
  {
   "cell_type": "code",
   "execution_count": 600,
   "metadata": {
    "collapsed": true
   },
   "outputs": [],
   "source": [
    "def load_output_file(path_csv):\n",
    "    '''\n",
    "    Load lblnew output .csv file to xarray.Dataset\n",
    "    \n",
    "    Parameters\n",
    "    ----------\n",
    "    path_csv: str\n",
    "              Path to the .csv file to be loaded.\n",
    "    ds: xarray.Dataset\n",
    "        Data in the input file in the form of an xarray.Dataset.\n",
    "    '''\n",
    "    toindex = ['band', 'pressure', 'igg', 'g']    \n",
    "    df = pd.read_csv(path_csv, sep=r'\\s+')\n",
    "    df = df.set_index([i for i in toindex if i in df.columns])\n",
    "    df = df.rename(columns={'sfu': 'flug',\n",
    "                            'sfd': 'fldg',\n",
    "                            'fnet': 'fnetg',\n",
    "                            'coolr': 'coolrg'})\n",
    "    ds = xr.Dataset.from_dataframe(df)\n",
    "\n",
    "    for l in ('level', 'layer'):\n",
    "        if l in ds.data_vars:\n",
    "            if len(ds[l].dims) > 1:\n",
    "                surface = {d: 0 for d in ds.dims if d != 'pressure'}\n",
    "                coord_level = ds[l][surface]\n",
    "                ds.coords[l] = ('pressure', coord_level)\n",
    "            else:\n",
    "                ds.coords[l] = ('pressure', ds[l])\n",
    "    \n",
    "    return ds"
   ]
  },
  {
   "cell_type": "code",
   "execution_count": 601,
   "metadata": {
    "collapsed": true
   },
   "outputs": [],
   "source": [
    "def lblnew_setup(param=None):\n",
    "    if 'ng_refs' in param:\n",
    "        return {'setup': setup_bestfit,\n",
    "                'fname_flux_crd': 'output_flux.dat',\n",
    "                'fname_cool_crd': 'output_coolr.dat',\n",
    "                'fname_flux_wgt': 'output_wfluxg.dat',\n",
    "                'fname_cool_wgt': 'output_wcoolrg.dat'}\n",
    "    else:\n",
    "        return {'setup': setup_overlap,\n",
    "                'fname_flux_crd': 'output_flux.dat',\n",
    "                'fname_cool_crd': 'output_coolr.dat',\n",
    "                'fname_flux_wgt': 'output_wflux.dat',\n",
    "                'fname_cool_wgt': 'output_wcoolr.dat'}\n",
    "\n",
    "    \n",
    "def load_lblnew_data(param):\n",
    "    \n",
    "    fname_dsname = [('fname_flux_crd', 'ds_flux_crd'),\n",
    "                    ('fname_cool_crd', 'ds_cool_crd'),\n",
    "                    ('fname_flux_wgt', 'ds_flux_wgt'),\n",
    "                    ('fname_cool_wgt', 'ds_cool_wgt')]\n",
    "    \n",
    "    d = lblnew_setup(param)\n",
    "    dir_fortran = pipe_lblnew.get_dir_case(param, setup=d['setup'])\n",
    "    \n",
    "    data_dict = {}\n",
    "    for fname, dsname in fname_dsname:\n",
    "        fpath = os.path.join(dir_fortran, d[fname])\n",
    "        data_dict[dsname] = load_output_file(fpath)\n",
    "    return data_dict"
   ]
  },
  {
   "cell_type": "code",
   "execution_count": 602,
   "metadata": {
    "collapsed": true
   },
   "outputs": [],
   "source": [
    "def crd_data_atm(params_atm):\n",
    "    '''\n",
    "    Parameters\n",
    "    ----------\n",
    "    \n",
    "    params_atm: dict\n",
    "                Parameter dictionary for each band.\n",
    "                \n",
    "    d: dict\n",
    "       'flux': xr.Dataset. [pressure, band]\n",
    "               Fluxes.\n",
    "       'cool': xr.Dataset. [pressure, band]\n",
    "               Cooling rate.\n",
    "    \n",
    "    '''\n",
    "    \n",
    "    results_atm = {band: load_lblnew_data(param) \n",
    "                   for band, param in params_atm.items()}\n",
    "    \n",
    "    bands = [band for band, _ in params_atm.items()]\n",
    "    fluxs = [d['ds_flux_crd'] for _, d in results_atm.items()]\n",
    "    cools = [d['ds_cool_crd'] for _, d in results_atm.items()]\n",
    "    \n",
    "    d = {}\n",
    "    d['flux'] = xr.concat(fluxs, dim=bands).rename({'concat_dim': 'band'})\n",
    "    d['cool'] = xr.concat(cools, dim=bands).rename({'concat_dim': 'band'})\n",
    "    return d        \n",
    "        \n",
    "        \n",
    "\n",
    "def clirad_data_atm(params_atm):\n",
    "    \n",
    "    dirnames = [pipe_cliradlw.get_fortran_dir(param,\n",
    "                                              setup=setup_cliradlw)\n",
    "                for _, param in params_atm.items()]\n",
    "    \n",
    "    fpaths_flux = [os.path.join(n, 'output_flux.dat') for n in dirnames]\n",
    "    fpaths_cool = [os.path.join(n, 'output_coolr.dat') for n in dirnames]\n",
    "    \n",
    "    fluxs = [load_output_file(p) for p in fpaths_flux]    \n",
    "    cools = [load_output_file(p) for p in fpaths_cool]\n",
    "    \n",
    "    d = {}\n",
    "    d['flux'] = sum(fluxs)\n",
    "    d['cool'] = sum(cools)\n",
    "    return d\n",
    "\n"
   ]
  },
  {
   "cell_type": "code",
   "execution_count": 603,
   "metadata": {
    "collapsed": true
   },
   "outputs": [],
   "source": [
    "\n",
    "\n",
    "import rtmtools.clirad.sw.wrangle as cliradwrangle\n",
    "\n",
    "import importlib\n",
    "importlib.reload(cliradwrangle)\n",
    "\n",
    "def oldclirad_data_atm():\n",
    "    '''\n",
    "    Load the OLD clirad's results. mls only.\n",
    "    '''\n",
    "    fpath = os.path.join('/chia_cluster/home/jackyu/radiation',\n",
    "                         'clirad-lw',\n",
    "                         'LW',\n",
    "                         'examples',\n",
    "                         'mls75_h2o_atmpro_co2_.0004_o3_atmpro_n2o_3.2e-7_ch4_1.8e-6_H2012',\n",
    "                         'OUTPUT_CLIRAD.dat')\n",
    "    \n",
    "    ds = cliradwrangle.load_OUTPUT_CLIRAD(readfrom=fpath)\n",
    "    \n",
    "    ds_cool = xr.Dataset()\n",
    "    ds_cool.coords['pressure'] = ('pressure', ds['layer_pressure'])\n",
    "    ds_cool.coords['band'] = ('band', ds['spectral_band'])\n",
    "    ds_cool['coolrg'] = (('band', 'pressure'), - ds['heating_rate'])\n",
    "    \n",
    "    ds_flux = xr.Dataset()\n",
    "    ds_flux.coords['pressure'] = ('pressure', ds['level_pressure'])\n",
    "    ds_flux.coords['band'] = ('band', ds['spectral_band'])\n",
    "    ds_flux['flug'] = (('band', 'pressure'), ds['flux_up'])\n",
    "    ds_flux['fldg'] = (('band', 'pressure'), ds['flux_down'])\n",
    "    ds_flux['fnetg'] = (('band', 'pressure'), ds['net_flux'])\n",
    "    \n",
    "    \n",
    "    d = {}\n",
    "    d['cool'] = ds_cool\n",
    "    d['flux'] = ds_flux\n",
    "    return d\n"
   ]
  },
  {
   "cell_type": "code",
   "execution_count": 604,
   "metadata": {
    "collapsed": true
   },
   "outputs": [],
   "source": [
    "def fmt_cool(ds_in):\n",
    "    ds = ds_in.copy(deep=True)\n",
    "    if 'igg' in ds.dims:\n",
    "        ds = ds.sel(igg=1)\n",
    "\n",
    "    if 'g' in ds.dims:\n",
    "        ds = ds.sum('g')\n",
    "            \n",
    "    if 'band' in ds.dims:\n",
    "        try:\n",
    "            ds = ds.squeeze('band')\n",
    "        except ValueError:\n",
    "            ds = ds.sum('band')\n",
    "                \n",
    "    return ds['coolrg']\n",
    "\n",
    "\n",
    "\n",
    "def nice_xlims(pltdata=None, prange=None):\n",
    "    \n",
    "    def get_slice(srs):\n",
    "        return srs.sel(pressure=slice(*prange))\n",
    "    \n",
    "    srss = [d['srs'] for d in pltdata]\n",
    "    vmin = min([get_slice(srs).min() for srs in srss])\n",
    "    vmax = max([get_slice(srs).max() for srs in srss])\n",
    "    dv = (vmax - vmin) * .01\n",
    "    return float(vmin - dv), float(vmax + dv)\n",
    "\n",
    "\n",
    "    \n",
    "def plt_cool_bokeh(pltdata=None, \n",
    "                   y_axis_type='linear', prange=(50, 1050)):\n",
    "    \n",
    "    ymin = 1e-2 \n",
    "    ymax = 1020\n",
    "    \n",
    "    p2 = figure(y_axis_type=y_axis_type, plot_width=300)\n",
    "    xmin, xmax = nice_xlims(pltdata, prange=prange)\n",
    "    \n",
    "    rs = []\n",
    "    for d in pltdata:\n",
    "        rd = []\n",
    "        if 'marker' in d:\n",
    "            r_mark = getattr(p2, d['marker'])(d['srs'].values, \n",
    "                        d['srs'].coords['pressure'].values,\n",
    "                        color=d['color'], alpha=.7)\n",
    "            rd.append(r_mark)\n",
    "        r_line = p2.line(d['srs'].values, \n",
    "                         d['srs'].coords['pressure'].values,\n",
    "                         color=d['color'], alpha=d['alpha'], \n",
    "                         line_width=d['line_width'], \n",
    "                         line_dash=d['line_dash'])\n",
    "        rd.append(r_line)\n",
    "      \n",
    "        rs.append(rd)\n",
    "        \n",
    "    p2.y_range = Range1d(ymax, ymin)  \n",
    "    p2.yaxis.axis_label = 'pressure [mb]'\n",
    "    \n",
    "    p2.x_range = Range1d(xmin, xmax)\n",
    "    p2.xaxis.axis_label = 'cooling rate [K/day]'\n",
    "    \n",
    "    items = [(d['label'], r) for r, d in zip(rs, pltdata)]\n",
    "    legend = Legend(items=items, location=(10, 0))\n",
    "    legend.label_text_font_size = '8pt'\n",
    "    p2.add_layout(legend, 'above')\n",
    "    p2.legend.orientation = 'horizontal'\n",
    "    p2.legend.location = 'top_center'\n",
    "    \n",
    "    return p2"
   ]
  },
  {
   "cell_type": "code",
   "execution_count": 605,
   "metadata": {
    "collapsed": true
   },
   "outputs": [],
   "source": [
    "def pltdata_cool(atmpro='mls'):\n",
    "    \n",
    "    d_clirad_singlerun = clirad_data_atm(\n",
    "        clirad_params_atm_singlerun(atmpro=atmpro))\n",
    "    d_clirad = clirad_data_atm(clirad_params_atm(atmpro=atmpro))\n",
    "    d_crd = crd_data_atm(lblnew_params_atm(atmpro=atmpro))\n",
    "\n",
    "    ds_clirad_singlerun = d_clirad_singlerun['cool']\n",
    "    ds_clirad = d_clirad['cool']\n",
    "    ds_crd = d_crd['cool']\n",
    "\n",
    "    colors = all_palettes['Set1'][4]\n",
    "    \n",
    "    data = [\n",
    "        {'label': 'CLIRAD (single-run)',\n",
    "        'srs': fmt_cool(ds_clirad_singlerun),\n",
    "        'line_dash': 'dashed', 'line_width': 5,\n",
    "        'color': colors[1], 'alpha': .6},\n",
    "        {'label': 'CRD',\n",
    "         'srs': fmt_cool(ds_crd),\n",
    "         'line_dash': 'solid', 'line_width': 1.5,\n",
    "         'marker': 'circle', 'marker_size': 5,\n",
    "         'color': colors[2], 'alpha': 1}\n",
    "    ]\n",
    "#        {'label': 'CLIRAD',\n",
    "#         'srs': fmt_cool(ds_clirad),\n",
    "#         'line_dash': 'dashed', 'line_width': 5,\n",
    "#         'color': colors[0], 'alpha': .6}\n",
    "        \n",
    "\n",
    "    \n",
    "    # include old CLIRAD's results for mls profile\n",
    "    if atmpro == 'mls':\n",
    "        d_oldclirad = oldclirad_data_atm()\n",
    "        ds_oldclirad = d_oldclirad['cool']        \n",
    "        data.append(\n",
    "            {'label': 'old CLIRAD (H2012)',\n",
    "             'srs': fmt_cool(ds_oldclirad),\n",
    "             'line_dash': 'solid', 'line_width': 1.5,\n",
    "             'marker': 'square', 'marker_size': 3,\n",
    "             'color': colors[3], 'alpha': .5})\n",
    "    return data\n",
    "\n",
    "\n",
    "def pltdata_cooldiff(atmpro='mls'):\n",
    "    \n",
    "    d_clirad_singlerun = clirad_data_atm(\n",
    "        clirad_params_atm_singlerun(atmpro=atmpro))\n",
    "    d_clirad = clirad_data_atm(clirad_params_atm(atmpro=atmpro))\n",
    "    d_crd = crd_data_atm(lblnew_params_atm(atmpro=atmpro))\n",
    "    \n",
    "    ds_clirad_singlerun = d_clirad_singlerun['cool']\n",
    "    ds_clirad = d_clirad['cool']\n",
    "    ds_crd = d_crd['cool']\n",
    "    \n",
    "    ds_diff = ds_clirad_singlerun - ds_crd\n",
    "    \n",
    "    colors = all_palettes['Set1'][4]\n",
    "    \n",
    "    data = [\n",
    "        {'label': 'CLIRAD (single-run) - CRD',\n",
    "         'srs': fmt_cool(ds_diff),\n",
    "         'line_dash': 'solid', 'line_width': 1.5, \n",
    "         'marker': 'circle', 'marker_size': 7,\n",
    "         'color': colors[3], 'alpha': .8}\n",
    "    ]\n",
    "    \n",
    "    # include old CLIRAD's results for mls profile\n",
    "    if atmpro == 'mls':\n",
    "        d_oldclirad = oldclirad_data_atm()\n",
    "        ds_oldclirad = d_oldclirad['cool']\n",
    "        ds_oldclirad.coords['pressure'] = ds_crd.coords['pressure']\n",
    "        ds_diff_old = ds_oldclirad.sum('band') - ds_crd.sum('band')\n",
    "        data.append(\n",
    "            {'label': 'old CLIRAD (H2012) - CRD',\n",
    "             'srs': fmt_cool(ds_diff_old),\n",
    "             'line_dash': 'dashed', 'line_width': 4,\n",
    "             'color': colors[1], 'alpha': .5}\n",
    "        )\n",
    "    return data\n",
    "\n",
    "\n",
    "def show_cool(atmpro='mls'):\n",
    "    \n",
    "    data_cool = pltdata_cool(atmpro=atmpro)\n",
    "    p_cool_liny = plt_cool_bokeh(pltdata=data_cool)\n",
    "    p_cool_logy = plt_cool_bokeh(pltdata=data_cool, \n",
    "                                 y_axis_type='log',\n",
    "                                 prange=(.01, 200))\n",
    "    \n",
    "    data_cooldiff = pltdata_cooldiff(atmpro=atmpro)\n",
    "    p_cooldiff_logy = plt_cool_bokeh(pltdata=data_cooldiff,\n",
    "                                     y_axis_type='log',\n",
    "                                     prange=(.01, 200))\n",
    "    \n",
    "    everything = gridplot(p_cool_liny, p_cool_logy, \n",
    "                          p_cooldiff_logy,\n",
    "                          ncols=3)\n",
    "    show(everything)\n",
    "    display.display(\n",
    "        display.Markdown('*FIGURE.* Cooling rates & difference.'))\n",
    "\n",
    "\n",
    "    "
   ]
  },
  {
   "cell_type": "code",
   "execution_count": null,
   "metadata": {
    "collapsed": true
   },
   "outputs": [],
   "source": []
  },
  {
   "cell_type": "code",
   "execution_count": 606,
   "metadata": {
    "collapsed": true,
    "scrolled": false
   },
   "outputs": [],
   "source": [
    "\n",
    "\n",
    "def hist_band_vs_flux(da, title='Title'):\n",
    "       \n",
    "    bands = [str(b.values) for b in da['band']]\n",
    "\n",
    "    source = ColumnDataSource(\n",
    "        data={'band': bands, 'flux': da.values})\n",
    "\n",
    "    p = figure(x_range=bands, title=title)\n",
    "    p.vbar(source=source, x='band', top='flux', width=.9)\n",
    "\n",
    "    p.yaxis.axis_label = 'flux (W m-2)'\n",
    "    p.xaxis.axis_label = 'spectral band'\n",
    "    \n",
    "    return p\n",
    "\n",
    "\n",
    "def show_hist_flux(atmpro='mls'):\n",
    "    ds_crd = crd_data_atm(lblnew_params_atm(atmpro=atmpro))['flux']\n",
    "    ds_clirad = clirad_data_atm(\n",
    "        clirad_params_atm(atmpro=atmpro))['flux']\n",
    "    ds_clirad_singlerun = clirad_data_atm(\n",
    "        clirad_params_atm_singlerun(atmpro=atmpro))['flux']\n",
    "    \n",
    "    ip, varname = 0, 'flug'\n",
    "    da = (ds_clirad_singlerun - ds_crd).isel(pressure=ip)[varname]\n",
    "    p_toa = hist_band_vs_flux(da, \n",
    "        title='TOA flux. CLIRAD (single-run) - CRD.')\n",
    "\n",
    "    ip, varname = -1, 'fldg'\n",
    "    da = (ds_clirad_singlerun - ds_crd).isel(pressure=ip)[varname]\n",
    "    p_sfc = hist_band_vs_flux(da, \n",
    "        title='SFC flux. CLIRAD (single-run) - CRD.')    \n",
    "    \n",
    "    atm_crd = (ds_crd.isel(pressure=0) \n",
    "               - ds_crd.isel(pressure=-1))['fnetg']\n",
    "    atm_clirad_singlerun = (ds_clirad_singlerun.isel(pressure=0) \n",
    "                  - ds_clirad_singlerun.isel(pressure=-1))['fnetg']\n",
    "    da = atm_clirad_singlerun - atm_crd\n",
    "    p_atm = hist_band_vs_flux(da, \n",
    "        title='Atmosphere heating. CLIRAD (single-run) - CRD.')\n",
    "\n",
    "    everything = gridplot(p_toa, p_sfc, p_atm, ncols=3, \n",
    "                          plot_width=300, plot_height=300)\n",
    "    \n",
    "    show(everything)\n",
    "    display.display(\n",
    "        display.Markdown('*FIGURE.* Difference between CLIRAD and CRD'\n",
    "          ' in TOA, SFC and net atmosphere flux,'\n",
    "          ' in each spectral band.'))\n",
    "\n",
    "\n",
    "    \n",
    "def show_tb_flux(atmpro='mls'):\n",
    "    ds_crd = crd_data_atm(lblnew_params_atm(atmpro=atmpro))['flux']\n",
    "    olr_crd = ds_crd['flug'].isel(pressure=0)\n",
    "    sfc_crd = ds_crd['fldg'].isel(pressure=-1)\n",
    "    atm_crd = (ds_crd.isel(pressure=0)\n",
    "               - ds_crd.isel(pressure=-1))['fnetg']\n",
    "    \n",
    "    ds_clirad = clirad_data_atm(\n",
    "        clirad_params_atm(atmpro=atmpro))['flux']\n",
    "    olr_clirad = ds_clirad['flug'].isel(pressure=0)\n",
    "    sfc_clirad = ds_clirad['fldg'].isel(pressure=-1)\n",
    "    atm_clirad = (ds_clirad.isel(pressure=0)\n",
    "                  - ds_clirad.isel(pressure=-1))['fnetg']\n",
    "\n",
    "    ds_clirad_singlerun = clirad_data_atm(\n",
    "        clirad_params_atm_singlerun(atmpro=atmpro))['flux']\n",
    "    olr_clirad_singlerun = ds_clirad_singlerun['flug'].isel(pressure=0)\n",
    "    sfc_clirad_singlerun = ds_clirad_singlerun['fldg'].isel(pressure=-1)\n",
    "    atm_clirad_singlerun = (ds_clirad_singlerun.isel(pressure=0)\n",
    "                  - ds_clirad_singlerun.isel(pressure=-1))['fnetg']\n",
    "    \n",
    "    if atmpro == 'mls':\n",
    "        ds_oldclirad = oldclirad_data_atm()['flux']\n",
    "        ds_oldclirad['pressure'] = ds_crd['pressure']\n",
    "        olr_oldclirad = ds_oldclirad['flug'].isel(pressure=0)\n",
    "        sfc_oldclirad = ds_oldclirad['fldg'].isel(pressure=-1)\n",
    "        atm_oldclirad = (ds_oldclirad.isel(pressure=0)\n",
    "                         - ds_oldclirad.isel(pressure=-1))['fnetg']\n",
    "        \n",
    "    \n",
    "    \n",
    "    df = pd.DataFrame()\n",
    "    df.index.name = 'Sum over bands'\n",
    "    \n",
    "    if atmpro == 'mls':\n",
    "        df.loc['old CLIRAD - CRD', 'OLR flux'] = (olr_oldclirad.sum('band') - olr_crd.sum('band')).values\n",
    "        df.loc['old CLIRAD - CRD', 'SFC flux'] = (sfc_oldclirad.sum('band') - sfc_crd.sum('band')).values\n",
    "        df.loc['old CLIRAD - CRD', 'ATM heating'] = (atm_oldclirad.sum('band') - atm_crd.sum('band')).values\n",
    "    \n",
    "    df.loc['CLIRAD (single-run) - CRD', 'OLR flux'] = (olr_clirad_singlerun - olr_crd).sum('band').values\n",
    "    df.loc['CLIRAD (single-run) - CRD', 'SFC flux'] = (sfc_clirad_singlerun - sfc_crd).sum('band').values\n",
    "    df.loc['CLIRAD (single-run) - CRD', 'ATM heating'] = (atm_clirad_singlerun - atm_crd).sum('band').values\n",
    "\n",
    "    df.loc['CRD', 'OLR flux'] = olr_crd.sum('band').values\n",
    "    df.loc['CRD', 'SFC flux'] = sfc_crd.sum('band').values\n",
    "    df.loc['CRD', 'ATM heating'] = atm_crd.sum('band').values\n",
    "        \n",
    "    df = df.astype('float').round(2)\n",
    "    \n",
    "    display.display(df)\n",
    "    display.display(\n",
    "        display.Markdown('*TABLE.* Difference between CLIRAD and CRD'\n",
    "          ' in TOA, SFC and net atmosphere flux,'\n",
    "          ' over all spectral bands. CRD\\'s'\n",
    "          ' TOA, SFC and net atmosphere flux,'\n",
    "          ' over all spectral bands.'))\n"
   ]
  },
  {
   "cell_type": "code",
   "execution_count": 607,
   "metadata": {
    "scrolled": false
   },
   "outputs": [
    {
     "data": {
      "text/markdown": [
       "## Results over entire range of molecules and spectral bands"
      ],
      "text/plain": [
       "<IPython.core.display.Markdown object>"
      ]
     },
     "metadata": {},
     "output_type": "display_data"
    },
    {
     "data": {
      "text/markdown": [
       "### Table of Contents"
      ],
      "text/plain": [
       "<IPython.core.display.Markdown object>"
      ]
     },
     "metadata": {},
     "output_type": "display_data"
    },
    {
     "data": {
      "text/html": [
       "<a href=\"#Makeup_of_atmosphere.\">Makeup of atmosphere.</a>"
      ],
      "text/plain": [
       "<IPython.core.display.HTML object>"
      ]
     },
     "metadata": {},
     "output_type": "display_data"
    },
    {
     "data": {
      "text/markdown": [
       "**mid-latitude summer**"
      ],
      "text/plain": [
       "<IPython.core.display.Markdown object>"
      ]
     },
     "metadata": {},
     "output_type": "display_data"
    },
    {
     "data": {
      "text/html": [
       "<a href=\"#Cooling_rates._mls.\">Cooling rates. mls.</a>"
      ],
      "text/plain": [
       "<IPython.core.display.HTML object>"
      ]
     },
     "metadata": {},
     "output_type": "display_data"
    },
    {
     "data": {
      "text/html": [
       "<a href=\"#Fluxes._mls.\">Fluxes. mls.</a>"
      ],
      "text/plain": [
       "<IPython.core.display.HTML object>"
      ]
     },
     "metadata": {},
     "output_type": "display_data"
    },
    {
     "data": {
      "text/markdown": [
       "**sub-arctic winter**"
      ],
      "text/plain": [
       "<IPython.core.display.Markdown object>"
      ]
     },
     "metadata": {},
     "output_type": "display_data"
    },
    {
     "data": {
      "text/html": [
       "<a href=\"#Cooling_rates._saw.\">Cooling rates. saw.</a>"
      ],
      "text/plain": [
       "<IPython.core.display.HTML object>"
      ]
     },
     "metadata": {},
     "output_type": "display_data"
    },
    {
     "data": {
      "text/html": [
       "<a href=\"#Fluxes._saw.\">Fluxes. saw.</a>"
      ],
      "text/plain": [
       "<IPython.core.display.HTML object>"
      ]
     },
     "metadata": {},
     "output_type": "display_data"
    },
    {
     "data": {
      "text/markdown": [
       "**tropical**"
      ],
      "text/plain": [
       "<IPython.core.display.Markdown object>"
      ]
     },
     "metadata": {},
     "output_type": "display_data"
    },
    {
     "data": {
      "text/html": [
       "<a href=\"#Cooling_rates._trp.\">Cooling rates. trp.</a>"
      ],
      "text/plain": [
       "<IPython.core.display.HTML object>"
      ]
     },
     "metadata": {},
     "output_type": "display_data"
    },
    {
     "data": {
      "text/html": [
       "<a href=\"#Fluxes._trp.\">Fluxes. trp.</a>"
      ],
      "text/plain": [
       "<IPython.core.display.HTML object>"
      ]
     },
     "metadata": {},
     "output_type": "display_data"
    },
    {
     "data": {
      "text/html": [
       "<a id=\"Makeup_of_atmosphere.\"></a>"
      ],
      "text/plain": [
       "<IPython.core.display.HTML object>"
      ]
     },
     "metadata": {},
     "output_type": "display_data"
    },
    {
     "data": {
      "text/markdown": [
       "# Makeup of atmosphere."
      ],
      "text/plain": [
       "<IPython.core.display.Markdown object>"
      ]
     },
     "metadata": {},
     "output_type": "display_data"
    },
    {
     "data": {
      "text/html": [
       "<div>\n",
       "<style scoped>\n",
       "    .dataframe tbody tr th:only-of-type {\n",
       "        vertical-align: middle;\n",
       "    }\n",
       "\n",
       "    .dataframe tbody tr th {\n",
       "        vertical-align: top;\n",
       "    }\n",
       "\n",
       "    .dataframe thead th {\n",
       "        text-align: right;\n",
       "    }\n",
       "</style>\n",
       "<table border=\"1\" class=\"dataframe\">\n",
       "  <thead>\n",
       "    <tr style=\"text-align: right;\">\n",
       "      <th>clirad band</th>\n",
       "      <th>1</th>\n",
       "      <th>2</th>\n",
       "      <th>3</th>\n",
       "      <th>4</th>\n",
       "      <th>5</th>\n",
       "      <th>6</th>\n",
       "      <th>7</th>\n",
       "      <th>8</th>\n",
       "      <th>9</th>\n",
       "      <th>10</th>\n",
       "      <th>11</th>\n",
       "    </tr>\n",
       "    <tr>\n",
       "      <th>molecule</th>\n",
       "      <th></th>\n",
       "      <th></th>\n",
       "      <th></th>\n",
       "      <th></th>\n",
       "      <th></th>\n",
       "      <th></th>\n",
       "      <th></th>\n",
       "      <th></th>\n",
       "      <th></th>\n",
       "      <th></th>\n",
       "      <th></th>\n",
       "    </tr>\n",
       "  </thead>\n",
       "  <tbody>\n",
       "    <tr>\n",
       "      <th>h2o</th>\n",
       "      <td>atmpro</td>\n",
       "      <td>atmpro</td>\n",
       "      <td>atmpro</td>\n",
       "      <td>atmpro</td>\n",
       "      <td>atmpro</td>\n",
       "      <td>atmpro</td>\n",
       "      <td>atmpro</td>\n",
       "      <td>atmpro</td>\n",
       "      <td>atmpro</td>\n",
       "      <td>atmpro</td>\n",
       "      <td>atmpro</td>\n",
       "    </tr>\n",
       "    <tr>\n",
       "      <th>co2</th>\n",
       "      <td>0</td>\n",
       "      <td>0</td>\n",
       "      <td>0.0004</td>\n",
       "      <td>0.0004</td>\n",
       "      <td>0.0004</td>\n",
       "      <td>0.0004</td>\n",
       "      <td>0.0004</td>\n",
       "      <td>0</td>\n",
       "      <td>0</td>\n",
       "      <td>0</td>\n",
       "      <td>0.0004</td>\n",
       "    </tr>\n",
       "    <tr>\n",
       "      <th>n2o</th>\n",
       "      <td>0</td>\n",
       "      <td>0</td>\n",
       "      <td>3.2e-07</td>\n",
       "      <td>0</td>\n",
       "      <td>0</td>\n",
       "      <td>0</td>\n",
       "      <td>0</td>\n",
       "      <td>0</td>\n",
       "      <td>3.2e-07</td>\n",
       "      <td>0</td>\n",
       "      <td>0</td>\n",
       "    </tr>\n",
       "    <tr>\n",
       "      <th>o3</th>\n",
       "      <td>0</td>\n",
       "      <td>0</td>\n",
       "      <td>0</td>\n",
       "      <td>0</td>\n",
       "      <td>0</td>\n",
       "      <td>0</td>\n",
       "      <td>atmpro</td>\n",
       "      <td>0</td>\n",
       "      <td>0</td>\n",
       "      <td>0</td>\n",
       "      <td>0</td>\n",
       "    </tr>\n",
       "    <tr>\n",
       "      <th>ch4</th>\n",
       "      <td>0</td>\n",
       "      <td>0</td>\n",
       "      <td>0</td>\n",
       "      <td>0</td>\n",
       "      <td>0</td>\n",
       "      <td>0</td>\n",
       "      <td>0</td>\n",
       "      <td>0</td>\n",
       "      <td>1.8e-06</td>\n",
       "      <td>0</td>\n",
       "      <td>0</td>\n",
       "    </tr>\n",
       "  </tbody>\n",
       "</table>\n",
       "</div>"
      ],
      "text/plain": [
       "clirad band      1       2        3       4       5       6       7       8   \\\n",
       "molecule                                                                       \n",
       "h2o          atmpro  atmpro   atmpro  atmpro  atmpro  atmpro  atmpro  atmpro   \n",
       "co2               0       0   0.0004  0.0004  0.0004  0.0004  0.0004       0   \n",
       "n2o               0       0  3.2e-07       0       0       0       0       0   \n",
       "o3                0       0        0       0       0       0  atmpro       0   \n",
       "ch4               0       0        0       0       0       0       0       0   \n",
       "\n",
       "clirad band       9       10      11  \n",
       "molecule                              \n",
       "h2o           atmpro  atmpro  atmpro  \n",
       "co2                0       0  0.0004  \n",
       "n2o          3.2e-07       0       0  \n",
       "o3                 0       0       0  \n",
       "ch4          1.8e-06       0       0  "
      ]
     },
     "metadata": {},
     "output_type": "display_data"
    },
    {
     "data": {
      "text/markdown": [
       "*TABLE.* Non-grey absorbers in the atmosphere."
      ],
      "text/plain": [
       "<IPython.core.display.Markdown object>"
      ]
     },
     "metadata": {},
     "output_type": "display_data"
    },
    {
     "data": {
      "text/html": [
       "<div>\n",
       "<style scoped>\n",
       "    .dataframe tbody tr th:only-of-type {\n",
       "        vertical-align: middle;\n",
       "    }\n",
       "\n",
       "    .dataframe tbody tr th {\n",
       "        vertical-align: top;\n",
       "    }\n",
       "\n",
       "    .dataframe thead th {\n",
       "        text-align: right;\n",
       "    }\n",
       "</style>\n",
       "<table border=\"1\" class=\"dataframe\">\n",
       "  <thead>\n",
       "    <tr style=\"text-align: right;\">\n",
       "      <th>clirad band</th>\n",
       "      <th>1</th>\n",
       "      <th>2</th>\n",
       "      <th>3</th>\n",
       "      <th>4</th>\n",
       "      <th>5</th>\n",
       "      <th>6</th>\n",
       "      <th>7</th>\n",
       "      <th>8</th>\n",
       "      <th>9</th>\n",
       "    </tr>\n",
       "    <tr>\n",
       "      <th>absorber</th>\n",
       "      <th></th>\n",
       "      <th></th>\n",
       "      <th></th>\n",
       "      <th></th>\n",
       "      <th></th>\n",
       "      <th></th>\n",
       "      <th></th>\n",
       "      <th></th>\n",
       "      <th></th>\n",
       "    </tr>\n",
       "  </thead>\n",
       "  <tbody>\n",
       "    <tr>\n",
       "      <th>con</th>\n",
       "      <td>atmpro</td>\n",
       "      <td>atmpro</td>\n",
       "      <td>atmpro</td>\n",
       "      <td>atmpro</td>\n",
       "      <td>atmpro</td>\n",
       "      <td>atmpro</td>\n",
       "      <td>atmpro</td>\n",
       "      <td>atmpro</td>\n",
       "      <td>atmpro</td>\n",
       "    </tr>\n",
       "    <tr>\n",
       "      <th>n2o</th>\n",
       "      <td>0</td>\n",
       "      <td>0</td>\n",
       "      <td>0</td>\n",
       "      <td>0</td>\n",
       "      <td>0</td>\n",
       "      <td>0</td>\n",
       "      <td>0</td>\n",
       "      <td>3.2e-07</td>\n",
       "      <td>0</td>\n",
       "    </tr>\n",
       "  </tbody>\n",
       "</table>\n",
       "</div>"
      ],
      "text/plain": [
       "clirad band       1       2       3       4       5       6       7        8  \\\n",
       "absorber                                                                       \n",
       "con          atmpro  atmpro  atmpro  atmpro  atmpro  atmpro  atmpro   atmpro   \n",
       "n2o               0       0       0       0       0       0       0  3.2e-07   \n",
       "\n",
       "clirad band       9  \n",
       "absorber             \n",
       "con          atmpro  \n",
       "n2o               0  "
      ]
     },
     "metadata": {},
     "output_type": "display_data"
    },
    {
     "data": {
      "text/markdown": [
       "*TABLE.* Grey absorbers in the atmosphere."
      ],
      "text/plain": [
       "<IPython.core.display.Markdown object>"
      ]
     },
     "metadata": {},
     "output_type": "display_data"
    },
    {
     "data": {
      "text/html": [
       "<a id=\"Cooling_rates._mls.\"></a>"
      ],
      "text/plain": [
       "<IPython.core.display.HTML object>"
      ]
     },
     "metadata": {},
     "output_type": "display_data"
    },
    {
     "data": {
      "text/markdown": [
       "# Cooling rates. mls."
      ],
      "text/plain": [
       "<IPython.core.display.Markdown object>"
      ]
     },
     "metadata": {},
     "output_type": "display_data"
    },
    {
     "data": {
      "text/html": [
       "\n",
       "<div class=\"bk-root\">\n",
       "    <div class=\"bk-plotdiv\" id=\"a80da516-e179-4929-94c7-2d051bbb6b81\"></div>\n",
       "</div>"
      ]
     },
     "metadata": {},
     "output_type": "display_data"
    },
    {
     "data": {
      "application/javascript": [
       "(function(root) {\n",
       "  function embed_document(root) {\n",
       "    \n",
       "  var docs_json = {\"ae6abc06-e1fc-4481-85e1-8d86fd4e1ea0\":{\"roots\":{\"references\":[{\"attributes\":{\"line_alpha\":0.6,\"line_color\":\"#377eb8\",\"line_dash\":[6],\"line_width\":5,\"x\":{\"field\":\"x\"},\"y\":{\"field\":\"y\"}},\"id\":\"03e7e32d-07aa-4bba-9288-4f67e95f41ee\",\"type\":\"Line\"},{\"attributes\":{\"source\":{\"id\":\"8d1c302c-2396-440d-bf0a-51485359ba9e\",\"type\":\"ColumnDataSource\"}},\"id\":\"8bc5e44a-39ae-4074-9c02-34bd7d1c9089\",\"type\":\"CDSView\"},{\"attributes\":{\"data_source\":{\"id\":\"3d4524f9-c89c-4fde-ac32-1c574fcd0b88\",\"type\":\"ColumnDataSource\"},\"glyph\":{\"id\":\"1d02a6e2-eb3d-48c4-9906-e10c3f803cc5\",\"type\":\"Line\"},\"hover_glyph\":null,\"muted_glyph\":null,\"nonselection_glyph\":{\"id\":\"19498923-1c00-458e-9678-625f0447114c\",\"type\":\"Line\"},\"selection_glyph\":null,\"view\":{\"id\":\"d6d50935-2d1b-4c54-b48f-3d3d8f729dd3\",\"type\":\"CDSView\"}},\"id\":\"2107bf91-e487-4c7b-b6c6-4e4e67e919c7\",\"type\":\"GlyphRenderer\"},{\"attributes\":{\"callback\":null,\"end\":2.3135572748904605,\"start\":-0.22322766227646001},\"id\":\"ac48d2fe-34b6-419a-aa43-5367db0e0d8e\",\"type\":\"Range1d\"},{\"attributes\":{\"above\":[{\"id\":\"cd772063-1ab6-4aa0-bca4-abac3f72f08b\",\"type\":\"Legend\"}],\"below\":[{\"id\":\"77a28743-54aa-463b-bd67-54a9a327503c\",\"type\":\"LinearAxis\"}],\"left\":[{\"id\":\"6300a69a-b643-4f51-88eb-ceca4d2c8237\",\"type\":\"LogAxis\"}],\"plot_width\":300,\"renderers\":[{\"id\":\"77a28743-54aa-463b-bd67-54a9a327503c\",\"type\":\"LinearAxis\"},{\"id\":\"cfbb0c39-a278-4e70-8641-9da2c4dc3c4c\",\"type\":\"Grid\"},{\"id\":\"6300a69a-b643-4f51-88eb-ceca4d2c8237\",\"type\":\"LogAxis\"},{\"id\":\"643effea-bb65-4c16-a0dc-321eefa88fdc\",\"type\":\"Grid\"},{\"id\":\"2be5c55c-4e13-46aa-896e-2d48094719a2\",\"type\":\"BoxAnnotation\"},{\"id\":\"6e4b33a8-50a0-47e4-ac33-098b478bafdc\",\"type\":\"GlyphRenderer\"},{\"id\":\"617e56b9-d69d-4c95-9f02-2f5d1b0ee1d1\",\"type\":\"GlyphRenderer\"},{\"id\":\"ca96c3f7-8cb3-46cd-a14c-76d08997b48c\",\"type\":\"GlyphRenderer\"},{\"id\":\"b5f46eb4-094d-4175-adc8-e3bdbfff4602\",\"type\":\"GlyphRenderer\"},{\"id\":\"40ce4872-c7fc-4ce2-81be-04c5a1202da2\",\"type\":\"GlyphRenderer\"},{\"id\":\"cd772063-1ab6-4aa0-bca4-abac3f72f08b\",\"type\":\"Legend\"}],\"title\":{\"id\":\"d0bcecbf-b032-4722-a1a4-155f8d404b1c\",\"type\":\"Title\"},\"toolbar\":{\"id\":\"88ff42d2-3c7f-4910-83ac-5c34417abaf3\",\"type\":\"Toolbar\"},\"toolbar_location\":null,\"x_range\":{\"id\":\"7abac57f-ba73-46b9-94ae-a61fbcf6a09c\",\"type\":\"Range1d\"},\"x_scale\":{\"id\":\"c2ff087c-e76c-4b63-ab14-0bb7292536c2\",\"type\":\"LinearScale\"},\"y_range\":{\"id\":\"0ba05d34-2a19-447c-9852-4bff2ea40254\",\"type\":\"Range1d\"},\"y_scale\":{\"id\":\"cb0a887f-9165-4f19-aee1-4231894b28d1\",\"type\":\"LogScale\"}},\"id\":\"f53ae2fb-b68e-4cce-bdfe-a59f51e8b2aa\",\"subtype\":\"Figure\",\"type\":\"Plot\"},{\"attributes\":{\"callback\":null,\"data\":{\"x\":{\"__ndarray__\":\"QW/ChKHYRUABfBHv8BdDQO7pX4+S40FAjlrTPAs/QEBi55KjU0A8QOVEIjtRPTdAAW6pHa7pMUBoDUjHy+UpQJPUAjnkGiJAkii6KF00GkDyfPLi2t0UQPkZqhKpthFAXgmBeRVNDUDo1yrq/pUDQBJCuTYK9vU/YoFqy5OO+j/mD7q8ijIFQB7JG9aeDgtAKZPg33XgEEB3e15vURcWQASfV5qt/R1A31afOw7VJEBkZ/sSPswqQPJ8sfjH+ylASXHMMLlOJECnFuR/okcgQKATN+gOZBtALtOaGrQFFkBYLwnonigRQH3MfkLg4AtAJbaM1c4ICEAqMLR+58sCQGn6INO6Bfo/9OD7FbZF8T+Hs4EjcHrnP564dUqD6Ns/JQfYEdIQzT9x/Lwc00XAP+SGDp6tAKO/xAoZ+sRjyb+ScdT6eNyDv/4NISJvwuc/0BNwzqJ+9z+OhxM/9RYAQGCVqWPPlwFApa4RsMkGAECakb3Sg0P+P/wSdfkQIv0/okwaebtq/D8NcsI81zv8PzS6YIBmV/w/t/rzZVDu+z9vHpSuI3P7PzxXiTLKB/s/+xEut0e9+j80CdGvY4f6P91Lpyhohfo/hq2DgXOb+z8jUdf2UHz8P+0LQT6D/vw/NxBjOnr9/D975RKvuF38PyqTiuWeRvs/G8nM6yIW+j8IPCAwnv/4P9UcYY9Qbfg/OqB8rKY8+D929obcuzf4P6/7j5gVtPc/VtnblNCk9j8Yh5Uy8nP1P2TvKkPTiPQ/Kaw4REER9D/JF0FfkkT0P/aWmIV77/o/\",\"dtype\":\"float64\",\"shape\":[75]},\"y\":{\"__ndarray__\":\"GhExyth1ND/Sv8nbtpRIP2vylNV0PVE/aTum7souWD/At0SJ8fVgPw3Iuahxymc/MSNhhJWvcD/bTfBN02d3P2zb5nxnaoA/CD5h5MAGhz8NmeH1TyaQP+zrCsc9p5Y/LbKd76fGnz/bLW5ISEmmPww9YvTcQq8/JV2OstnstT8Er5Y7M8G+P0c+r3jqkcU/5h99k6ZBzj88bCIzFzjVP4enV8oyxN0//yH99nXg5D8qOpLLf0jtP5kqGJXUifQ/c9cS8kHP/D+/DpwzojQEQIEmwoanVwxA4lgXt9HgE0BSSZ2AJuIbQAMJih9jjiNA5q4l5INuK0AwTKYKRj0zQNv5fmq8/DpAaCJseHrtQkB/+zpwzoxKQM3MzMzMeFJAZmZmZmZqWEAAAAAAAFxeQM3MzMzMJmJAmpmZmZkfZUBmZmZmZhhoQDMzMzMzEWtAAAAAAAAKbkBmZmZmZoFwQM3MzMzM/XFAMzMzMzN6c0CamZmZmfZ0QAAAAAAAc3ZAZmZmZmbvd0DNzMzMzGt5QDMzMzMz6HpAmpmZmZlkfEAAAAAAAOF9QGZmZmZmXX9AZmZmZuZsgECamZmZGSuBQM3MzMxM6YFAAAAAAICngkAzMzMzs2WDQGZmZmbmI4RAmpmZmRnihEDNzMzMTKCFQAAAAACAXoZAMzMzM7Mch0BmZmZm5tqHQJqZmZkZmYhAzczMzExXiUAAAAAAgBWKQDMzMzOz04pAZmZmZuaRi0CamZmZGVCMQM3MzMxMDo1AAAAAAIDMjUAzMzMzs4qOQGZmZmbmSI9A\",\"dtype\":\"float64\",\"shape\":[75]}},\"selected\":{\"id\":\"1974d7b0-acb3-44e8-b27a-40a43f8e66e5\",\"type\":\"Selection\"},\"selection_policy\":{\"id\":\"4bf3200c-8951-4f0d-b3c0-186876f90664\",\"type\":\"UnionRenderers\"}},\"id\":\"6003c12a-bd33-42ad-8ed1-554727947aa1\",\"type\":\"ColumnDataSource\"},{\"attributes\":{\"source\":{\"id\":\"6003c12a-bd33-42ad-8ed1-554727947aa1\",\"type\":\"ColumnDataSource\"}},\"id\":\"faec0faa-1ab0-4948-b9ac-309afd2092dc\",\"type\":\"CDSView\"},{\"attributes\":{\"above\":[{\"id\":\"6b643c4d-e86f-41d3-8faa-01ddfce95da2\",\"type\":\"Legend\"}],\"below\":[{\"id\":\"993a6052-50e1-4f1e-a17f-7427783ec67d\",\"type\":\"LinearAxis\"}],\"left\":[{\"id\":\"4761a1c6-7337-4ef2-8308-61889fc1c429\",\"type\":\"LinearAxis\"}],\"plot_width\":300,\"renderers\":[{\"id\":\"993a6052-50e1-4f1e-a17f-7427783ec67d\",\"type\":\"LinearAxis\"},{\"id\":\"87c02d7b-63cc-4d50-9118-580aa7c65a3f\",\"type\":\"Grid\"},{\"id\":\"4761a1c6-7337-4ef2-8308-61889fc1c429\",\"type\":\"LinearAxis\"},{\"id\":\"5591d975-380a-4cfe-aaed-5a79b6c5c119\",\"type\":\"Grid\"},{\"id\":\"3f21fe4a-46dc-4991-922a-aad9b6236e1a\",\"type\":\"BoxAnnotation\"},{\"id\":\"4543ddc8-41f1-4c22-9a86-084c80d80ea0\",\"type\":\"GlyphRenderer\"},{\"id\":\"ed809717-4c1e-4b90-ac9a-9bbb9a58511a\",\"type\":\"GlyphRenderer\"},{\"id\":\"2107bf91-e487-4c7b-b6c6-4e4e67e919c7\",\"type\":\"GlyphRenderer\"},{\"id\":\"fb1c4899-d4a5-4fbd-bfb2-30eb708aa6e7\",\"type\":\"GlyphRenderer\"},{\"id\":\"c6f7acc0-28a3-4a2c-8b7f-1260ae2b7f6b\",\"type\":\"GlyphRenderer\"},{\"id\":\"6b643c4d-e86f-41d3-8faa-01ddfce95da2\",\"type\":\"Legend\"}],\"title\":{\"id\":\"487ffa7b-04ab-4f23-8d3f-39c36b7c8670\",\"type\":\"Title\"},\"toolbar\":{\"id\":\"b91b7b58-0d65-43b7-a1d3-df2e4f75dab0\",\"type\":\"Toolbar\"},\"toolbar_location\":null,\"x_range\":{\"id\":\"ac48d2fe-34b6-419a-aa43-5367db0e0d8e\",\"type\":\"Range1d\"},\"x_scale\":{\"id\":\"2693629e-b319-4ca8-8633-aac6cb88e301\",\"type\":\"LinearScale\"},\"y_range\":{\"id\":\"c67d7c8d-1af4-4508-be94-e73ebd3c4bdb\",\"type\":\"Range1d\"},\"y_scale\":{\"id\":\"48bc694d-56f7-46e6-9733-cc123c83e5fc\",\"type\":\"LinearScale\"}},\"id\":\"dcdd7238-41c3-4916-b8dc-e4425bade696\",\"subtype\":\"Figure\",\"type\":\"Plot\"},{\"attributes\":{\"line_alpha\":0.1,\"line_color\":\"#1f77b4\",\"line_width\":1.5,\"x\":{\"field\":\"x\"},\"y\":{\"field\":\"y\"}},\"id\":\"19498923-1c00-458e-9678-625f0447114c\",\"type\":\"Line\"},{\"attributes\":{},\"id\":\"10c72319-9e28-4472-abdb-9e92006d5086\",\"type\":\"BasicTickFormatter\"},{\"attributes\":{\"line_color\":\"#4daf4a\",\"line_width\":1.5,\"x\":{\"field\":\"x\"},\"y\":{\"field\":\"y\"}},\"id\":\"1d02a6e2-eb3d-48c4-9906-e10c3f803cc5\",\"type\":\"Line\"},{\"attributes\":{},\"id\":\"5341af16-460c-446c-9c6f-9c8bd66f7695\",\"type\":\"PanTool\"},{\"attributes\":{},\"id\":\"9f0c29e4-51c3-454f-96b1-b58a9e3747c9\",\"type\":\"LogScale\"},{\"attributes\":{},\"id\":\"8be89afd-458c-4c66-81e9-1be75fec375b\",\"type\":\"PanTool\"},{\"attributes\":{\"source\":{\"id\":\"3d4524f9-c89c-4fde-ac32-1c574fcd0b88\",\"type\":\"ColumnDataSource\"}},\"id\":\"d6d50935-2d1b-4c54-b48f-3d3d8f729dd3\",\"type\":\"CDSView\"},{\"attributes\":{},\"id\":\"5e8557af-a60c-4568-99b1-aa4ae632c827\",\"type\":\"UnionRenderers\"},{\"attributes\":{\"bottom_units\":\"screen\",\"fill_alpha\":{\"value\":0.5},\"fill_color\":{\"value\":\"lightgrey\"},\"left_units\":\"screen\",\"level\":\"overlay\",\"line_alpha\":{\"value\":1.0},\"line_color\":{\"value\":\"black\"},\"line_dash\":[4,4],\"line_width\":{\"value\":2},\"plot\":null,\"render_mode\":\"css\",\"right_units\":\"screen\",\"top_units\":\"screen\"},\"id\":\"3f21fe4a-46dc-4991-922a-aad9b6236e1a\",\"type\":\"BoxAnnotation\"},{\"attributes\":{\"overlay\":{\"id\":\"3f21fe4a-46dc-4991-922a-aad9b6236e1a\",\"type\":\"BoxAnnotation\"}},\"id\":\"d6380fc7-18f3-4987-929b-16b6693843a1\",\"type\":\"BoxZoomTool\"},{\"attributes\":{},\"id\":\"f37cf7d3-d398-4b71-b488-76e0f1144db5\",\"type\":\"Selection\"},{\"attributes\":{\"items\":[{\"id\":\"39e99dfb-1c2e-4b98-b8c3-1916c1d46250\",\"type\":\"LegendItem\"},{\"id\":\"5dc386aa-d1bf-42c5-b2b2-5e8548a10c6a\",\"type\":\"LegendItem\"}],\"label_text_font_size\":{\"value\":\"8pt\"},\"location\":\"top_center\",\"orientation\":\"horizontal\",\"plot\":{\"id\":\"a0353e80-9797-40f9-8519-03bd0da1cd06\",\"subtype\":\"Figure\",\"type\":\"Plot\"}},\"id\":\"52f4ae02-0f65-4570-8fd8-6272b04807c4\",\"type\":\"Legend\"},{\"attributes\":{\"active_drag\":\"auto\",\"active_inspect\":\"auto\",\"active_scroll\":\"auto\",\"active_tap\":\"auto\",\"tools\":[{\"id\":\"8be89afd-458c-4c66-81e9-1be75fec375b\",\"type\":\"PanTool\"},{\"id\":\"9bfe751b-6161-4046-bc7b-f14ba8ed39a9\",\"type\":\"WheelZoomTool\"},{\"id\":\"d6380fc7-18f3-4987-929b-16b6693843a1\",\"type\":\"BoxZoomTool\"},{\"id\":\"b13d4ce0-e09b-4a44-9e27-f467eecac40a\",\"type\":\"SaveTool\"},{\"id\":\"06763a4e-6316-47e7-94db-3743a7fc0bc6\",\"type\":\"ResetTool\"},{\"id\":\"d28c3d50-0df4-4903-8fee-05109d162b12\",\"type\":\"HelpTool\"}]},\"id\":\"b91b7b58-0d65-43b7-a1d3-df2e4f75dab0\",\"type\":\"Toolbar\"},{\"attributes\":{},\"id\":\"06763a4e-6316-47e7-94db-3743a7fc0bc6\",\"type\":\"ResetTool\"},{\"attributes\":{},\"id\":\"765a80ec-49c7-42bb-ae2f-4d3129edf40d\",\"type\":\"Selection\"},{\"attributes\":{},\"id\":\"2693629e-b319-4ca8-8633-aac6cb88e301\",\"type\":\"LinearScale\"},{\"attributes\":{\"active_drag\":\"auto\",\"active_inspect\":\"auto\",\"active_scroll\":\"auto\",\"active_tap\":\"auto\",\"tools\":[{\"id\":\"40d32a9c-4513-433f-8f9b-0068bbc84efe\",\"type\":\"PanTool\"},{\"id\":\"c7ea0b4b-27b1-406d-9fa0-130de3fda3af\",\"type\":\"WheelZoomTool\"},{\"id\":\"4c7f0c15-98ad-4407-848c-a8ee1ffc7484\",\"type\":\"BoxZoomTool\"},{\"id\":\"d1501e7c-6f36-4604-bf5b-f19beef03c15\",\"type\":\"SaveTool\"},{\"id\":\"8b853384-92a8-4f65-9b2c-615dd970ab5d\",\"type\":\"ResetTool\"},{\"id\":\"7a2f65a4-42ed-41fb-a6d0-a67a023496f6\",\"type\":\"HelpTool\"}]},\"id\":\"803f9839-756c-425c-abc0-9e0e672f4150\",\"type\":\"Toolbar\"},{\"attributes\":{},\"id\":\"6306a16a-24c1-44e5-aa47-0dbb3d89e262\",\"type\":\"WheelZoomTool\"},{\"attributes\":{},\"id\":\"f109d008-c4a0-4183-848f-0a564e7ee539\",\"type\":\"UnionRenderers\"},{\"attributes\":{\"source\":{\"id\":\"01f29c01-4c77-4966-9d90-1b7b5d7fb990\",\"type\":\"ColumnDataSource\"}},\"id\":\"4fb59e4c-7523-4d8d-9f3d-0f702a61fc27\",\"type\":\"CDSView\"},{\"attributes\":{\"line_alpha\":0.1,\"line_color\":\"#1f77b4\",\"line_width\":1.5,\"x\":{\"field\":\"x\"},\"y\":{\"field\":\"y\"}},\"id\":\"889cbc63-af62-47a6-9f37-7a7ddaad4ccb\",\"type\":\"Line\"},{\"attributes\":{\"fill_alpha\":{\"value\":0.1},\"fill_color\":{\"value\":\"#1f77b4\"},\"line_alpha\":{\"value\":0.1},\"line_color\":{\"value\":\"#1f77b4\"},\"x\":{\"field\":\"x\"},\"y\":{\"field\":\"y\"}},\"id\":\"16224a81-f62a-4584-b178-934e88641eb9\",\"type\":\"Square\"},{\"attributes\":{\"callback\":null,\"data\":{\"x\":{\"__ndarray__\":\"MXhf+wfXU0AZbvNjswdFQLQWsEQVdUFA5TlpnhT9QUB/x1dOYK05QImjxHmcEjZA9jYDSBB3L0AISPl4H6wqQBPuuwfAzyJAOcHprUZAIUB7WWpkesAXQJoT1Uq+ChVArO/8u0EXCkBgVNlshzgCQMeNQ+Nzu/I/POwv1Qzh+D9QxMRmcj8DQOrE7tC4mAxAQsLBRIlHEkAi4cPYoDEXQEeDpjRjzB1ASZ0GEfCuI0DVFj11sssnQOMiVKSMHyhAWRHvUxNoJEDo8cjD4g8gQLGGvR2NDRpAdpI3nV5oFECtyWH9Lp4QQIZQd9bvmwtAkshlnu1BBkBMysnQf1UAQHZJU/DYZ/c/HoEhV+G48T/rSm4vc/TmP3EgV4cD49g/xmy6+4w7zz+bEsjh3uDDPw5SRMRogKs/4GPKdPc1a78lazVXN1vCP/B84ODeUug/LOyxgXDV9z+/DBHyZAwAQAOIY+fy/QFAahF3XKCUAECV0GHvGsz+P+X4k4Nhvf0/RO/IqI98/T8rkW+v/zT9P59vGMDsAv0/zEX7plCY/D/E3siS8kj7P2yUMv+hDvs/RmrXDaYs+z+c9f5GCO36P58nVCbr7vo/Qus8hbcy/D+rD5hFMCf9P4t6dxofnPw/bRp4QYZ2/D/q8NNiN2b8P5YTVw9ESPw/l1Dy0X/K+j+WKih3ZdD5P2k8OYxHjvk/hceGh5N4+T8lpPahWSn5P6vJnePt4vY/UuhmxnXI9T8miFqdE+D0Pz7qfx5CR/Q/0khvq2US9D9LfVdHQGv0P9syeEmwYfg/\",\"dtype\":\"float64\",\"shape\":[75]},\"y\":{\"__ndarray__\":\"hLndy31yND/6fmq8dJNIP8n9DkWBPlE/aDum7souWD/b4a/JGvVgP9f34SAhymc/ZvM4DOavcD+z0M5pFmh3PxuC4zJuaoA/xjcUPlsHhz8uHAjJAiaQP9ieWRKgppY/oI7HDFTGnz+a5h2n6EimPzS6g9iZQq8/IuAQqtTstT9SSZ2AJsK+P4nS3uALk8U/ih9j7lpCzj+ASL99HTjVP4enV8oyxN0/ACL99nXg5D9fmEwVjErtPyUGgZVDi/Q/AiuHFtnO/D9OYhBYOTQEQPHSTWIQWAxA4XoUrkfhE0D8qfHSTeIbQMh2vp8ajyNArkfhehRuK0Bcj8L1KDwzQFyPwvUo/DpAPgrXo3DtQkDNzMzMzIxKQClcj8L1eFJAKVyPwvVoWECamZmZmVleQGZmZmZmJmJAAAAAAAAgZUCamZmZmRloQJqZmZmZEWtAmpmZmZkJbkCamZmZmYFwQGZmZmZm/nFAZmZmZmZ6c0BmZmZmZvZ0QDQzMzMzc3ZAAAAAAADwd0AAAAAAAGx5QAAAAAAA6HpAzMzMzMxkfEDMzMzMzOB9QM3MzMzMXH9AzczMzMxsgEAzMzMzMyuBQDMzMzMz6YFAMzMzMzOngkCamZmZmWWDQAAAAAAAJIRAAAAAAADihEAAAAAAAKCFQGZmZmZmXoZAzczMzMwch0DNzMzMzNqHQM3MzMzMmIhAMzMzMzNXiUCamZmZmRWKQAAAAAAA1IpAAAAAAACSi0AAAAAAAFCMQGZmZmZmDo1AzczMzMzMjUDNzMzMzIqOQM3MzMzMSI9A\",\"dtype\":\"float64\",\"shape\":[75]}},\"selected\":{\"id\":\"a31d11b0-a2c5-4e81-8dfc-eb522fce358f\",\"type\":\"Selection\"},\"selection_policy\":{\"id\":\"05b3f763-b1c7-451e-b72b-ed58b83cd16c\",\"type\":\"UnionRenderers\"}},\"id\":\"65d55922-da82-4a30-8c65-52dff9bd1839\",\"type\":\"ColumnDataSource\"},{\"attributes\":{\"label\":{\"value\":\"CRD\"},\"renderers\":[{\"id\":\"ed809717-4c1e-4b90-ac9a-9bbb9a58511a\",\"type\":\"GlyphRenderer\"},{\"id\":\"2107bf91-e487-4c7b-b6c6-4e4e67e919c7\",\"type\":\"GlyphRenderer\"}]},\"id\":\"b410335b-5b82-4114-a419-8511716a811e\",\"type\":\"LegendItem\"},{\"attributes\":{},\"id\":\"9bfe751b-6161-4046-bc7b-f14ba8ed39a9\",\"type\":\"WheelZoomTool\"},{\"attributes\":{},\"id\":\"a2f5c69f-5120-4b9c-ad5b-05d6f1704c0e\",\"type\":\"LinearScale\"},{\"attributes\":{\"data_source\":{\"id\":\"65d55922-da82-4a30-8c65-52dff9bd1839\",\"type\":\"ColumnDataSource\"},\"glyph\":{\"id\":\"823cd13a-c757-4b01-b1d7-67bb0067e5bd\",\"type\":\"Line\"},\"hover_glyph\":null,\"muted_glyph\":null,\"nonselection_glyph\":{\"id\":\"889cbc63-af62-47a6-9f37-7a7ddaad4ccb\",\"type\":\"Line\"},\"selection_glyph\":null,\"view\":{\"id\":\"94d0257a-c482-4b80-9b24-4df4b6a05aee\",\"type\":\"CDSView\"}},\"id\":\"c6f7acc0-28a3-4a2c-8b7f-1260ae2b7f6b\",\"type\":\"GlyphRenderer\"},{\"attributes\":{\"callback\":null,\"end\":0.7323360194662635,\"start\":-1.576281364019664},\"id\":\"2800a59c-6691-4114-92d3-d8378a533bd5\",\"type\":\"Range1d\"},{\"attributes\":{\"data_source\":{\"id\":\"01f29c01-4c77-4966-9d90-1b7b5d7fb990\",\"type\":\"ColumnDataSource\"},\"glyph\":{\"id\":\"a8a45416-48de-4158-b5bf-ce980ca89aa4\",\"type\":\"Square\"},\"hover_glyph\":null,\"muted_glyph\":null,\"nonselection_glyph\":{\"id\":\"16224a81-f62a-4584-b178-934e88641eb9\",\"type\":\"Square\"},\"selection_glyph\":null,\"view\":{\"id\":\"4fb59e4c-7523-4d8d-9f3d-0f702a61fc27\",\"type\":\"CDSView\"}},\"id\":\"fb1c4899-d4a5-4fbd-bfb2-30eb708aa6e7\",\"type\":\"GlyphRenderer\"},{\"attributes\":{\"items\":[{\"id\":\"a157999b-972c-4a45-85f4-c1c7586b1850\",\"type\":\"LegendItem\"},{\"id\":\"b410335b-5b82-4114-a419-8511716a811e\",\"type\":\"LegendItem\"},{\"id\":\"e833b456-2a89-439e-8372-33086305510a\",\"type\":\"LegendItem\"}],\"label_text_font_size\":{\"value\":\"8pt\"},\"location\":\"top_center\",\"orientation\":\"horizontal\",\"plot\":{\"id\":\"dcdd7238-41c3-4916-b8dc-e4425bade696\",\"subtype\":\"Figure\",\"type\":\"Plot\"}},\"id\":\"6b643c4d-e86f-41d3-8faa-01ddfce95da2\",\"type\":\"Legend\"},{\"attributes\":{\"callback\":null,\"data\":{\"x\":{\"__ndarray__\":\"MXhf+wfXU0AZbvNjswdFQLQWsEQVdUFA5TlpnhT9QUB/x1dOYK05QImjxHmcEjZA9jYDSBB3L0AISPl4H6wqQBPuuwfAzyJAOcHprUZAIUB7WWpkesAXQJoT1Uq+ChVArO/8u0EXCkBgVNlshzgCQMeNQ+Nzu/I/POwv1Qzh+D9QxMRmcj8DQOrE7tC4mAxAQsLBRIlHEkAi4cPYoDEXQEeDpjRjzB1ASZ0GEfCuI0DVFj11sssnQOMiVKSMHyhAWRHvUxNoJEDo8cjD4g8gQLGGvR2NDRpAdpI3nV5oFECtyWH9Lp4QQIZQd9bvmwtAkshlnu1BBkBMysnQf1UAQHZJU/DYZ/c/HoEhV+G48T/rSm4vc/TmP3EgV4cD49g/xmy6+4w7zz+bEsjh3uDDPw5SRMRogKs/4GPKdPc1a78lazVXN1vCP/B84ODeUug/LOyxgXDV9z+/DBHyZAwAQAOIY+fy/QFAahF3XKCUAECV0GHvGsz+P+X4k4Nhvf0/RO/IqI98/T8rkW+v/zT9P59vGMDsAv0/zEX7plCY/D/E3siS8kj7P2yUMv+hDvs/RmrXDaYs+z+c9f5GCO36P58nVCbr7vo/Qus8hbcy/D+rD5hFMCf9P4t6dxofnPw/bRp4QYZ2/D/q8NNiN2b8P5YTVw9ESPw/l1Dy0X/K+j+WKih3ZdD5P2k8OYxHjvk/hceGh5N4+T8lpPahWSn5P6vJnePt4vY/UuhmxnXI9T8miFqdE+D0Pz7qfx5CR/Q/0khvq2US9D9LfVdHQGv0P9syeEmwYfg/\",\"dtype\":\"float64\",\"shape\":[75]},\"y\":{\"__ndarray__\":\"hLndy31yND/6fmq8dJNIP8n9DkWBPlE/aDum7souWD/b4a/JGvVgP9f34SAhymc/ZvM4DOavcD+z0M5pFmh3PxuC4zJuaoA/xjcUPlsHhz8uHAjJAiaQP9ieWRKgppY/oI7HDFTGnz+a5h2n6EimPzS6g9iZQq8/IuAQqtTstT9SSZ2AJsK+P4nS3uALk8U/ih9j7lpCzj+ASL99HTjVP4enV8oyxN0/ACL99nXg5D9fmEwVjErtPyUGgZVDi/Q/AiuHFtnO/D9OYhBYOTQEQPHSTWIQWAxA4XoUrkfhE0D8qfHSTeIbQMh2vp8ajyNArkfhehRuK0Bcj8L1KDwzQFyPwvUo/DpAPgrXo3DtQkDNzMzMzIxKQClcj8L1eFJAKVyPwvVoWECamZmZmVleQGZmZmZmJmJAAAAAAAAgZUCamZmZmRloQJqZmZmZEWtAmpmZmZkJbkCamZmZmYFwQGZmZmZm/nFAZmZmZmZ6c0BmZmZmZvZ0QDQzMzMzc3ZAAAAAAADwd0AAAAAAAGx5QAAAAAAA6HpAzMzMzMxkfEDMzMzMzOB9QM3MzMzMXH9AzczMzMxsgEAzMzMzMyuBQDMzMzMz6YFAMzMzMzOngkCamZmZmWWDQAAAAAAAJIRAAAAAAADihEAAAAAAAKCFQGZmZmZmXoZAzczMzMwch0DNzMzMzNqHQM3MzMzMmIhAMzMzMzNXiUCamZmZmRWKQAAAAAAA1IpAAAAAAACSi0AAAAAAAFCMQGZmZmZmDo1AzczMzMzMjUDNzMzMzIqOQM3MzMzMSI9A\",\"dtype\":\"float64\",\"shape\":[75]}},\"selected\":{\"id\":\"bbac2337-99bb-4754-bd1f-11fffa278c86\",\"type\":\"Selection\"},\"selection_policy\":{\"id\":\"a48d4cb1-6cd0-49f3-93d7-b64048677bae\",\"type\":\"UnionRenderers\"}},\"id\":\"01f29c01-4c77-4966-9d90-1b7b5d7fb990\",\"type\":\"ColumnDataSource\"},{\"attributes\":{\"fill_alpha\":{\"value\":0.7},\"fill_color\":{\"value\":\"#984ea3\"},\"line_alpha\":{\"value\":0.7},\"line_color\":{\"value\":\"#984ea3\"},\"x\":{\"field\":\"x\"},\"y\":{\"field\":\"y\"}},\"id\":\"34f83c41-7aa7-4cc7-8752-61db3449c9f7\",\"type\":\"Circle\"},{\"attributes\":{\"fill_alpha\":{\"value\":0.7},\"fill_color\":{\"value\":\"#984ea3\"},\"line_alpha\":{\"value\":0.7},\"line_color\":{\"value\":\"#984ea3\"},\"x\":{\"field\":\"x\"},\"y\":{\"field\":\"y\"}},\"id\":\"a8a45416-48de-4158-b5bf-ce980ca89aa4\",\"type\":\"Square\"},{\"attributes\":{},\"id\":\"5be3e342-e03d-4666-9a2b-05e12e3a41e7\",\"type\":\"Selection\"},{\"attributes\":{},\"id\":\"e32f798b-c21d-417f-aec9-6d59cf962284\",\"type\":\"SaveTool\"},{\"attributes\":{},\"id\":\"b13d4ce0-e09b-4a44-9e27-f467eecac40a\",\"type\":\"SaveTool\"},{\"attributes\":{},\"id\":\"d28c3d50-0df4-4903-8fee-05109d162b12\",\"type\":\"HelpTool\"},{\"attributes\":{\"overlay\":{\"id\":\"d4c3b139-f0a5-46fe-82d9-e130bec4aa6e\",\"type\":\"BoxAnnotation\"}},\"id\":\"4c7f0c15-98ad-4407-848c-a8ee1ffc7484\",\"type\":\"BoxZoomTool\"},{\"attributes\":{\"data_source\":{\"id\":\"6003c12a-bd33-42ad-8ed1-554727947aa1\",\"type\":\"ColumnDataSource\"},\"glyph\":{\"id\":\"03e7e32d-07aa-4bba-9288-4f67e95f41ee\",\"type\":\"Line\"},\"hover_glyph\":null,\"muted_glyph\":null,\"nonselection_glyph\":{\"id\":\"0937eaf9-bb51-4ade-8174-09e50ac44198\",\"type\":\"Line\"},\"selection_glyph\":null,\"view\":{\"id\":\"faec0faa-1ab0-4948-b9ac-309afd2092dc\",\"type\":\"CDSView\"}},\"id\":\"6e4b33a8-50a0-47e4-ac33-098b478bafdc\",\"type\":\"GlyphRenderer\"},{\"attributes\":{\"dimension\":1,\"plot\":{\"id\":\"a0353e80-9797-40f9-8519-03bd0da1cd06\",\"subtype\":\"Figure\",\"type\":\"Plot\"},\"ticker\":{\"id\":\"ad5dca90-1799-45ab-8025-46dde55eac9e\",\"type\":\"LogTicker\"}},\"id\":\"d9981e8f-ea12-41a9-aa9e-f206457b2cdf\",\"type\":\"Grid\"},{\"attributes\":{\"line_alpha\":0.1,\"line_color\":\"#1f77b4\",\"line_dash\":[6],\"line_width\":5,\"x\":{\"field\":\"x\"},\"y\":{\"field\":\"y\"}},\"id\":\"67bb5f49-7a7e-45fd-a76b-dd901f6ddebe\",\"type\":\"Line\"},{\"attributes\":{\"source\":{\"id\":\"f571e52a-f068-4bcb-98ed-1a933bfa6328\",\"type\":\"ColumnDataSource\"}},\"id\":\"6c808b54-0b12-48dc-beed-fb1eb34b4059\",\"type\":\"CDSView\"},{\"attributes\":{},\"id\":\"8b853384-92a8-4f65-9b2c-615dd970ab5d\",\"type\":\"ResetTool\"},{\"attributes\":{\"line_alpha\":0.5,\"line_color\":\"#984ea3\",\"line_width\":1.5,\"x\":{\"field\":\"x\"},\"y\":{\"field\":\"y\"}},\"id\":\"823cd13a-c757-4b01-b1d7-67bb0067e5bd\",\"type\":\"Line\"},{\"attributes\":{},\"id\":\"7a2f65a4-42ed-41fb-a6d0-a67a023496f6\",\"type\":\"HelpTool\"},{\"attributes\":{\"plot\":null,\"text\":\"\"},\"id\":\"d0bcecbf-b032-4722-a1a4-155f8d404b1c\",\"type\":\"Title\"},{\"attributes\":{\"ticker\":null},\"id\":\"5757e794-c115-495a-ac3a-47b567897a39\",\"type\":\"LogTickFormatter\"},{\"attributes\":{\"line_alpha\":0.1,\"line_color\":\"#1f77b4\",\"line_dash\":[6],\"line_width\":5,\"x\":{\"field\":\"x\"},\"y\":{\"field\":\"y\"}},\"id\":\"0937eaf9-bb51-4ade-8174-09e50ac44198\",\"type\":\"Line\"},{\"attributes\":{\"source\":{\"id\":\"4c61a1fd-4bae-4263-bea7-ba54946a246a\",\"type\":\"ColumnDataSource\"}},\"id\":\"441868f8-d7d8-4ed9-812b-86846f980ac2\",\"type\":\"CDSView\"},{\"attributes\":{},\"id\":\"3b3ea179-afec-4ff6-b1ce-1ce3285df498\",\"type\":\"Selection\"},{\"attributes\":{},\"id\":\"35ef6eb0-02aa-4952-bfe9-aea35744efe2\",\"type\":\"BasicTickFormatter\"},{\"attributes\":{\"callback\":null,\"data\":{\"x\":{\"__ndarray__\":\"cm1sTMT3VEDEyvjosEJHQOKI6DjzCUNArgQWV9awPkB9Lm8XG3M4QEz+Qv6iYzNA7eV8HaPLLkCX1QHyTpMoQFBmYSYetiNAUB04GtGpH0AmFyVE5j8ZQJca9QPGqBNALJP+OOHHDEBNxaf7QF8AQKtislomWuw/cW2dcO6A9T/uJJvfPu0EQIaQLTI/JQ1AxGiII+PmEkCJvfVeuCsYQD6ZBhGbHB9AXQw69DTYJEAsubcwKucqQNuT9D5OmipAJyi3szEJJUBlNebh5WkgQDDcPHBr2xlArtlANXuQFEBdJadFHckQQI2Avh0ZsQtAjYiwt1rsBUCL0SDoVBgAQK6C0nEEjvc/CggLSme58T9sXU2orFPnP0v0JYz9Gdg/vT38vxYczD9nBQTe6kHHP1IhkEXJwKo/8OZnhCVAub+xtVgCpmqzP6DUpY6g0+k/PKK3T1h4+D8RTDjQc1EAQG/dAQs7TwJAQt2eHpPLAEBWEh074x//PyCap9ZSGf4/rEzaTySm/T+7aXhHRmr9P688KeqeNP0/ruZ4EemD/D8olrZcn9T7P0+vNc9hW/s/i9VVL+4P+z+0NzC24uz6P8731Kza8vo/xFf4SHzq+z+gYyHpvHb8P68ROkiFevw/BAjYdCga/D8AUp8VbW77P3JrF/nKmvo/qCQeGfq++T/dplwHJfn4P2G4p+Uva/g/OzZ0RqMZ+D8dmn/iar73P/OuA7Ka8PY/gaaeQHGn9T9hkyjAH1L0P3aZGhdAU/M/n8VP/g7P8j+90HxHNvfyPwhNBtgrqvk/\",\"dtype\":\"float64\",\"shape\":[75]},\"y\":{\"__ndarray__\":\"GhExyth1ND/Sv8nbtpRIP2vylNV0PVE/aTum7souWD/At0SJ8fVgPw3Iuahxymc/MSNhhJWvcD/bTfBN02d3P2zb5nxnaoA/CD5h5MAGhz8NmeH1TyaQP+zrCsc9p5Y/LbKd76fGnz/bLW5ISEmmPww9YvTcQq8/JV2OstnstT8Er5Y7M8G+P0c+r3jqkcU/5h99k6ZBzj88bCIzFzjVP4enV8oyxN0//yH99nXg5D8qOpLLf0jtP5kqGJXUifQ/c9cS8kHP/D+/DpwzojQEQIEmwoanVwxA4lgXt9HgE0BSSZ2AJuIbQAMJih9jjiNA5q4l5INuK0AwTKYKRj0zQNv5fmq8/DpAaCJseHrtQkB/+zpwzoxKQM3MzMzMeFJAZmZmZmZqWEAAAAAAAFxeQM3MzMzMJmJAmpmZmZkfZUBmZmZmZhhoQDMzMzMzEWtAAAAAAAAKbkBmZmZmZoFwQM3MzMzM/XFAMzMzMzN6c0CamZmZmfZ0QAAAAAAAc3ZAZmZmZmbvd0DNzMzMzGt5QDMzMzMz6HpAmpmZmZlkfEAAAAAAAOF9QGZmZmZmXX9AZmZmZuZsgECamZmZGSuBQM3MzMxM6YFAAAAAAICngkAzMzMzs2WDQGZmZmbmI4RAmpmZmRnihEDNzMzMTKCFQAAAAACAXoZAMzMzM7Mch0BmZmZm5tqHQJqZmZkZmYhAzczMzExXiUAAAAAAgBWKQDMzMzOz04pAZmZmZuaRi0CamZmZGVCMQM3MzMxMDo1AAAAAAIDMjUAzMzMzs4qOQGZmZmbmSI9A\",\"dtype\":\"float64\",\"shape\":[75]}},\"selected\":{\"id\":\"d0b89040-fd3a-4c09-aa80-6ea1b2d67aec\",\"type\":\"Selection\"},\"selection_policy\":{\"id\":\"fca476a4-1f2f-4cd9-8af7-9bfb9649419b\",\"type\":\"UnionRenderers\"}},\"id\":\"3d4524f9-c89c-4fde-ac32-1c574fcd0b88\",\"type\":\"ColumnDataSource\"},{\"attributes\":{\"fill_alpha\":{\"value\":0.1},\"fill_color\":{\"value\":\"#1f77b4\"},\"line_alpha\":{\"value\":0.1},\"line_color\":{\"value\":\"#1f77b4\"},\"x\":{\"field\":\"x\"},\"y\":{\"field\":\"y\"}},\"id\":\"3d088f0d-10d2-4dfa-a43e-fde972c4647e\",\"type\":\"Circle\"},{\"attributes\":{\"label\":{\"value\":\"CLIRAD (single-run)\"},\"renderers\":[{\"id\":\"6e4b33a8-50a0-47e4-ac33-098b478bafdc\",\"type\":\"GlyphRenderer\"}]},\"id\":\"f3c5ad44-3b66-4e3e-9508-c4df5becfde3\",\"type\":\"LegendItem\"},{\"attributes\":{},\"id\":\"c7ea0b4b-27b1-406d-9fa0-130de3fda3af\",\"type\":\"WheelZoomTool\"},{\"attributes\":{\"callback\":null,\"data\":{\"x\":{\"__ndarray__\":\"cm1sTMT3VEDEyvjosEJHQOKI6DjzCUNArgQWV9awPkB9Lm8XG3M4QEz+Qv6iYzNA7eV8HaPLLkCX1QHyTpMoQFBmYSYetiNAUB04GtGpH0AmFyVE5j8ZQJca9QPGqBNALJP+OOHHDEBNxaf7QF8AQKtislomWuw/cW2dcO6A9T/uJJvfPu0EQIaQLTI/JQ1AxGiII+PmEkCJvfVeuCsYQD6ZBhGbHB9AXQw69DTYJEAsubcwKucqQNuT9D5OmipAJyi3szEJJUBlNebh5WkgQDDcPHBr2xlArtlANXuQFEBdJadFHckQQI2Avh0ZsQtAjYiwt1rsBUCL0SDoVBgAQK6C0nEEjvc/CggLSme58T9sXU2orFPnP0v0JYz9Gdg/vT38vxYczD9nBQTe6kHHP1IhkEXJwKo/8OZnhCVAub+xtVgCpmqzP6DUpY6g0+k/PKK3T1h4+D8RTDjQc1EAQG/dAQs7TwJAQt2eHpPLAEBWEh074x//PyCap9ZSGf4/rEzaTySm/T+7aXhHRmr9P688KeqeNP0/ruZ4EemD/D8olrZcn9T7P0+vNc9hW/s/i9VVL+4P+z+0NzC24uz6P8731Kza8vo/xFf4SHzq+z+gYyHpvHb8P68ROkiFevw/BAjYdCga/D8AUp8VbW77P3JrF/nKmvo/qCQeGfq++T/dplwHJfn4P2G4p+Uva/g/OzZ0RqMZ+D8dmn/iar73P/OuA7Ka8PY/gaaeQHGn9T9hkyjAH1L0P3aZGhdAU/M/n8VP/g7P8j+90HxHNvfyPwhNBtgrqvk/\",\"dtype\":\"float64\",\"shape\":[75]},\"y\":{\"__ndarray__\":\"GhExyth1ND/Sv8nbtpRIP2vylNV0PVE/aTum7souWD/At0SJ8fVgPw3Iuahxymc/MSNhhJWvcD/bTfBN02d3P2zb5nxnaoA/CD5h5MAGhz8NmeH1TyaQP+zrCsc9p5Y/LbKd76fGnz/bLW5ISEmmPww9YvTcQq8/JV2OstnstT8Er5Y7M8G+P0c+r3jqkcU/5h99k6ZBzj88bCIzFzjVP4enV8oyxN0//yH99nXg5D8qOpLLf0jtP5kqGJXUifQ/c9cS8kHP/D+/DpwzojQEQIEmwoanVwxA4lgXt9HgE0BSSZ2AJuIbQAMJih9jjiNA5q4l5INuK0AwTKYKRj0zQNv5fmq8/DpAaCJseHrtQkB/+zpwzoxKQM3MzMzMeFJAZmZmZmZqWEAAAAAAAFxeQM3MzMzMJmJAmpmZmZkfZUBmZmZmZhhoQDMzMzMzEWtAAAAAAAAKbkBmZmZmZoFwQM3MzMzM/XFAMzMzMzN6c0CamZmZmfZ0QAAAAAAAc3ZAZmZmZmbvd0DNzMzMzGt5QDMzMzMz6HpAmpmZmZlkfEAAAAAAAOF9QGZmZmZmXX9AZmZmZuZsgECamZmZGSuBQM3MzMxM6YFAAAAAAICngkAzMzMzs2WDQGZmZmbmI4RAmpmZmRnihEDNzMzMTKCFQAAAAACAXoZAMzMzM7Mch0BmZmZm5tqHQJqZmZkZmYhAzczMzExXiUAAAAAAgBWKQDMzMzOz04pAZmZmZuaRi0CamZmZGVCMQM3MzMxMDo1AAAAAAIDMjUAzMzMzs4qOQGZmZmbmSI9A\",\"dtype\":\"float64\",\"shape\":[75]}},\"selected\":{\"id\":\"765a80ec-49c7-42bb-ae2f-4d3129edf40d\",\"type\":\"Selection\"},\"selection_policy\":{\"id\":\"f109d008-c4a0-4183-848f-0a564e7ee539\",\"type\":\"UnionRenderers\"}},\"id\":\"72766108-fa64-4fba-8a08-fbac7d9b6610\",\"type\":\"ColumnDataSource\"},{\"attributes\":{\"callback\":null,\"data\":{\"x\":{\"__ndarray__\":\"oGsWFOcWRMAMO53n/6ogwD3viZgKZgLA/QYLKQLU/D8kxx1hxGkOQMQ0+uZxzQ5AVNhXd+QeBEAOfWNUzSflP8Ab6dWes+m/+NL3xc/V9b/FaMqELYjxv9IJsBTPId+/TcZOEIimsD/RlBh077XZP+5CgCXcI98/xk80a5U21D+mvbpH91KhP0I7juACtdC/1aw+HWoz4L+eELp8N6Pgv46j72rX7tG/sPOr1cQ1eb8yylG8HeyqvzLdYsjI0NO/iNtWXRBP17+iXw8BsSGxvwV3o383itg/95efVY5T1z8Wf4KYaOC3Pxz4JWCS45c/xGzh7qDj0D/z9Jq0lJzVP9S9cwqzvcM/ncXJA03snL/+DCuavWFzP5gifvItdK4/6ix5O2qXfj/VIxwFX/CrvyFUz3G74La/my7Kb2SHub/iQ7MhNea1vxA1JmSLibC/ec3xKLA2r7/CQWKSSD+dv/kBCet07ba/jdOl0S2ZuL/hF/AL7Yurv4nkUKY76K6/oQAAbI22s7/sel+r8Oayv1lPEDkNp6u/hX6dcBWzor/B7Z2I616YvxIFFivn5ZS/kePwCZ6plL+En8uXwV+Zv6r8aguhXJu/hY8q3THCk78YErbXNlBWP49H38C+f6A/WwZhsThqrD+Qb3Iuc+mtP/D2ZI59eqU/qxypqzTKlT/wr1QOo+RZP+CjI8tNBUE/JP80BLOBgT9iFteBPlSeP2eXidFcb6g/plqmh+qrrz+CO88mJx2yP91eBcEyWbM/pmiOXiQjtD+1cER8wdW0P/GeJNn6VLQ/\",\"dtype\":\"float64\",\"shape\":[75]},\"y\":{\"__ndarray__\":\"GhExyth1ND/Sv8nbtpRIP2vylNV0PVE/aTum7souWD/At0SJ8fVgPw3Iuahxymc/MSNhhJWvcD/bTfBN02d3P2zb5nxnaoA/CD5h5MAGhz8NmeH1TyaQP+zrCsc9p5Y/LbKd76fGnz/bLW5ISEmmPww9YvTcQq8/JV2OstnstT8Er5Y7M8G+P0c+r3jqkcU/5h99k6ZBzj88bCIzFzjVP4enV8oyxN0//yH99nXg5D8qOpLLf0jtP5kqGJXUifQ/c9cS8kHP/D+/DpwzojQEQIEmwoanVwxA4lgXt9HgE0BSSZ2AJuIbQAMJih9jjiNA5q4l5INuK0AwTKYKRj0zQNv5fmq8/DpAaCJseHrtQkB/+zpwzoxKQM3MzMzMeFJAZmZmZmZqWEAAAAAAAFxeQM3MzMzMJmJAmpmZmZkfZUBmZmZmZhhoQDMzMzMzEWtAAAAAAAAKbkBmZmZmZoFwQM3MzMzM/XFAMzMzMzN6c0CamZmZmfZ0QAAAAAAAc3ZAZmZmZmbvd0DNzMzMzGt5QDMzMzMz6HpAmpmZmZlkfEAAAAAAAOF9QGZmZmZmXX9AZmZmZuZsgECamZmZGSuBQM3MzMxM6YFAAAAAAICngkAzMzMzs2WDQGZmZmbmI4RAmpmZmRnihEDNzMzMTKCFQAAAAACAXoZAMzMzM7Mch0BmZmZm5tqHQJqZmZkZmYhAzczMzExXiUAAAAAAgBWKQDMzMzOz04pAZmZmZuaRi0CamZmZGVCMQM3MzMxMDo1AAAAAAIDMjUAzMzMzs4qOQGZmZmbmSI9A\",\"dtype\":\"float64\",\"shape\":[75]}},\"selected\":{\"id\":\"b41f4f1e-fa1a-4b08-baf8-050a7ccd503f\",\"type\":\"Selection\"},\"selection_policy\":{\"id\":\"aa4ddf6e-78c5-4f82-9ff2-6908d17dab65\",\"type\":\"UnionRenderers\"}},\"id\":\"de29e0ef-8c57-4b6b-b127-4f856d53b85a\",\"type\":\"ColumnDataSource\"},{\"attributes\":{},\"id\":\"d1501e7c-6f36-4604-bf5b-f19beef03c15\",\"type\":\"SaveTool\"},{\"attributes\":{\"line_alpha\":0.1,\"line_color\":\"#1f77b4\",\"line_width\":1.5,\"x\":{\"field\":\"x\"},\"y\":{\"field\":\"y\"}},\"id\":\"171c8c0e-7606-4713-b9a7-eec8d68b5f57\",\"type\":\"Line\"},{\"attributes\":{\"label\":{\"value\":\"old CLIRAD (H2012)\"},\"renderers\":[{\"id\":\"b5f46eb4-094d-4175-adc8-e3bdbfff4602\",\"type\":\"GlyphRenderer\"},{\"id\":\"40ce4872-c7fc-4ce2-81be-04c5a1202da2\",\"type\":\"GlyphRenderer\"}]},\"id\":\"ec971b4f-ff63-4ea2-89a7-7b41141c1c91\",\"type\":\"LegendItem\"},{\"attributes\":{},\"id\":\"a48d4cb1-6cd0-49f3-93d7-b64048677bae\",\"type\":\"UnionRenderers\"},{\"attributes\":{},\"id\":\"a31d11b0-a2c5-4e81-8dfc-eb522fce358f\",\"type\":\"Selection\"},{\"attributes\":{},\"id\":\"9dba4a94-4732-423c-955f-e9273d40eb58\",\"type\":\"UnionRenderers\"},{\"attributes\":{},\"id\":\"05b3f763-b1c7-451e-b72b-ed58b83cd16c\",\"type\":\"UnionRenderers\"},{\"attributes\":{},\"id\":\"40d32a9c-4513-433f-8f9b-0068bbc84efe\",\"type\":\"PanTool\"},{\"attributes\":{\"data_source\":{\"id\":\"f571e52a-f068-4bcb-98ed-1a933bfa6328\",\"type\":\"ColumnDataSource\"},\"glyph\":{\"id\":\"a5a76459-b2b5-4345-bbc7-4ff4bb0193fc\",\"type\":\"Circle\"},\"hover_glyph\":null,\"muted_glyph\":null,\"nonselection_glyph\":{\"id\":\"3d088f0d-10d2-4dfa-a43e-fde972c4647e\",\"type\":\"Circle\"},\"selection_glyph\":null,\"view\":{\"id\":\"6c808b54-0b12-48dc-beed-fb1eb34b4059\",\"type\":\"CDSView\"}},\"id\":\"ed809717-4c1e-4b90-ac9a-9bbb9a58511a\",\"type\":\"GlyphRenderer\"},{\"attributes\":{\"callback\":null,\"data\":{\"x\":{\"__ndarray__\":\"MXhf+wfXU0AZbvNjswdFQLQWsEQVdUFA5TlpnhT9QUB/x1dOYK05QImjxHmcEjZA9jYDSBB3L0AISPl4H6wqQBPuuwfAzyJAOcHprUZAIUB7WWpkesAXQJoT1Uq+ChVArO/8u0EXCkBgVNlshzgCQMeNQ+Nzu/I/POwv1Qzh+D9QxMRmcj8DQOrE7tC4mAxAQsLBRIlHEkAi4cPYoDEXQEeDpjRjzB1ASZ0GEfCuI0DVFj11sssnQOMiVKSMHyhAWRHvUxNoJEDo8cjD4g8gQLGGvR2NDRpAdpI3nV5oFECtyWH9Lp4QQIZQd9bvmwtAkshlnu1BBkBMysnQf1UAQHZJU/DYZ/c/HoEhV+G48T/rSm4vc/TmP3EgV4cD49g/xmy6+4w7zz+bEsjh3uDDPw5SRMRogKs/4GPKdPc1a78lazVXN1vCP/B84ODeUug/LOyxgXDV9z+/DBHyZAwAQAOIY+fy/QFAahF3XKCUAECV0GHvGsz+P+X4k4Nhvf0/RO/IqI98/T8rkW+v/zT9P59vGMDsAv0/zEX7plCY/D/E3siS8kj7P2yUMv+hDvs/RmrXDaYs+z+c9f5GCO36P58nVCbr7vo/Qus8hbcy/D+rD5hFMCf9P4t6dxofnPw/bRp4QYZ2/D/q8NNiN2b8P5YTVw9ESPw/l1Dy0X/K+j+WKih3ZdD5P2k8OYxHjvk/hceGh5N4+T8lpPahWSn5P6vJnePt4vY/UuhmxnXI9T8miFqdE+D0Pz7qfx5CR/Q/0khvq2US9D9LfVdHQGv0P9syeEmwYfg/\",\"dtype\":\"float64\",\"shape\":[75]},\"y\":{\"__ndarray__\":\"hLndy31yND/6fmq8dJNIP8n9DkWBPlE/aDum7souWD/b4a/JGvVgP9f34SAhymc/ZvM4DOavcD+z0M5pFmh3PxuC4zJuaoA/xjcUPlsHhz8uHAjJAiaQP9ieWRKgppY/oI7HDFTGnz+a5h2n6EimPzS6g9iZQq8/IuAQqtTstT9SSZ2AJsK+P4nS3uALk8U/ih9j7lpCzj+ASL99HTjVP4enV8oyxN0/ACL99nXg5D9fmEwVjErtPyUGgZVDi/Q/AiuHFtnO/D9OYhBYOTQEQPHSTWIQWAxA4XoUrkfhE0D8qfHSTeIbQMh2vp8ajyNArkfhehRuK0Bcj8L1KDwzQFyPwvUo/DpAPgrXo3DtQkDNzMzMzIxKQClcj8L1eFJAKVyPwvVoWECamZmZmVleQGZmZmZmJmJAAAAAAAAgZUCamZmZmRloQJqZmZmZEWtAmpmZmZkJbkCamZmZmYFwQGZmZmZm/nFAZmZmZmZ6c0BmZmZmZvZ0QDQzMzMzc3ZAAAAAAADwd0AAAAAAAGx5QAAAAAAA6HpAzMzMzMxkfEDMzMzMzOB9QM3MzMzMXH9AzczMzMxsgEAzMzMzMyuBQDMzMzMz6YFAMzMzMzOngkCamZmZmWWDQAAAAAAAJIRAAAAAAADihEAAAAAAAKCFQGZmZmZmXoZAzczMzMwch0DNzMzMzNqHQM3MzMzMmIhAMzMzMzNXiUCamZmZmRWKQAAAAAAA1IpAAAAAAACSi0AAAAAAAFCMQGZmZmZmDo1AzczMzMzMjUDNzMzMzIqOQM3MzMzMSI9A\",\"dtype\":\"float64\",\"shape\":[75]}},\"selected\":{\"id\":\"80ef9d3a-a8b4-4586-b1ab-13c66b93dd06\",\"type\":\"Selection\"},\"selection_policy\":{\"id\":\"4727f754-92de-4d41-81d5-fbba99ecdb22\",\"type\":\"UnionRenderers\"}},\"id\":\"4c61a1fd-4bae-4263-bea7-ba54946a246a\",\"type\":\"ColumnDataSource\"},{\"attributes\":{},\"id\":\"fca476a4-1f2f-4cd9-8af7-9bfb9649419b\",\"type\":\"UnionRenderers\"},{\"attributes\":{\"source\":{\"id\":\"aebe0c9e-bfcd-4057-98f4-1a12d6640621\",\"type\":\"ColumnDataSource\"}},\"id\":\"8007cef2-b5ed-4fde-ad53-5094c8231698\",\"type\":\"CDSView\"},{\"attributes\":{\"data_source\":{\"id\":\"4c61a1fd-4bae-4263-bea7-ba54946a246a\",\"type\":\"ColumnDataSource\"},\"glyph\":{\"id\":\"077cc502-ffeb-4e60-a2d5-32f1af0d6831\",\"type\":\"Line\"},\"hover_glyph\":null,\"muted_glyph\":null,\"nonselection_glyph\":{\"id\":\"171c8c0e-7606-4713-b9a7-eec8d68b5f57\",\"type\":\"Line\"},\"selection_glyph\":null,\"view\":{\"id\":\"441868f8-d7d8-4ed9-812b-86846f980ac2\",\"type\":\"CDSView\"}},\"id\":\"40ce4872-c7fc-4ce2-81be-04c5a1202da2\",\"type\":\"GlyphRenderer\"},{\"attributes\":{\"data_source\":{\"id\":\"aebe0c9e-bfcd-4057-98f4-1a12d6640621\",\"type\":\"ColumnDataSource\"},\"glyph\":{\"id\":\"57c84c83-74bd-47e0-a238-82d09c9fca60\",\"type\":\"Square\"},\"hover_glyph\":null,\"muted_glyph\":null,\"nonselection_glyph\":{\"id\":\"9840b793-5045-4350-a655-4061a6b4b631\",\"type\":\"Square\"},\"selection_glyph\":null,\"view\":{\"id\":\"8007cef2-b5ed-4fde-ad53-5094c8231698\",\"type\":\"CDSView\"}},\"id\":\"b5f46eb4-094d-4175-adc8-e3bdbfff4602\",\"type\":\"GlyphRenderer\"},{\"attributes\":{\"fill_alpha\":{\"value\":0.7},\"fill_color\":{\"value\":\"#4daf4a\"},\"line_alpha\":{\"value\":0.7},\"line_color\":{\"value\":\"#4daf4a\"},\"x\":{\"field\":\"x\"},\"y\":{\"field\":\"y\"}},\"id\":\"a5a76459-b2b5-4345-bbc7-4ff4bb0193fc\",\"type\":\"Circle\"},{\"attributes\":{},\"id\":\"bbac2337-99bb-4754-bd1f-11fffa278c86\",\"type\":\"Selection\"},{\"attributes\":{\"callback\":null,\"end\":0.01,\"start\":1020},\"id\":\"c67d7c8d-1af4-4508-be94-e73ebd3c4bdb\",\"type\":\"Range1d\"},{\"attributes\":{},\"id\":\"bf2f23bf-a443-4285-9089-986682385f6e\",\"type\":\"Selection\"},{\"attributes\":{\"bottom_units\":\"screen\",\"fill_alpha\":{\"value\":0.5},\"fill_color\":{\"value\":\"lightgrey\"},\"left_units\":\"screen\",\"level\":\"overlay\",\"line_alpha\":{\"value\":1.0},\"line_color\":{\"value\":\"black\"},\"line_dash\":[4,4],\"line_width\":{\"value\":2},\"plot\":null,\"render_mode\":\"css\",\"right_units\":\"screen\",\"top_units\":\"screen\"},\"id\":\"d4c3b139-f0a5-46fe-82d9-e130bec4aa6e\",\"type\":\"BoxAnnotation\"},{\"attributes\":{\"label\":{\"value\":\"CRD\"},\"renderers\":[{\"id\":\"617e56b9-d69d-4c95-9f02-2f5d1b0ee1d1\",\"type\":\"GlyphRenderer\"},{\"id\":\"ca96c3f7-8cb3-46cd-a14c-76d08997b48c\",\"type\":\"GlyphRenderer\"}]},\"id\":\"efd8ca3a-cf0c-4b0e-b843-fdb78bf6f150\",\"type\":\"LegendItem\"},{\"attributes\":{\"data_source\":{\"id\":\"8d1c302c-2396-440d-bf0a-51485359ba9e\",\"type\":\"ColumnDataSource\"},\"glyph\":{\"id\":\"8e93cece-b5a3-4f2a-87c4-f9eab4395b93\",\"type\":\"Line\"},\"hover_glyph\":null,\"muted_glyph\":null,\"nonselection_glyph\":{\"id\":\"67bb5f49-7a7e-45fd-a76b-dd901f6ddebe\",\"type\":\"Line\"},\"selection_glyph\":null,\"view\":{\"id\":\"8bc5e44a-39ae-4074-9c02-34bd7d1c9089\",\"type\":\"CDSView\"}},\"id\":\"4543ddc8-41f1-4c22-9a86-084c80d80ea0\",\"type\":\"GlyphRenderer\"},{\"attributes\":{},\"id\":\"4bf3200c-8951-4f0d-b3c0-186876f90664\",\"type\":\"UnionRenderers\"},{\"attributes\":{\"line_alpha\":0.5,\"line_color\":\"#984ea3\",\"line_width\":1.5,\"x\":{\"field\":\"x\"},\"y\":{\"field\":\"y\"}},\"id\":\"077cc502-ffeb-4e60-a2d5-32f1af0d6831\",\"type\":\"Line\"},{\"attributes\":{},\"id\":\"5ba16788-277a-463d-b6c3-73c0c458e6a0\",\"type\":\"UnionRenderers\"},{\"attributes\":{\"children\":[{\"id\":\"c083db6c-51d3-45e6-8d00-1a8f7bcd7869\",\"type\":\"ToolbarBox\"},{\"id\":\"9e1feec4-66e0-4905-bfde-13d598a5d473\",\"type\":\"Column\"}]},\"id\":\"8a2035f2-017a-4904-8114-4ed6ee70bbcd\",\"type\":\"Column\"},{\"attributes\":{\"callback\":null,\"data\":{\"x\":{\"__ndarray__\":\"QW/ChKHYRUABfBHv8BdDQO7pX4+S40FAjlrTPAs/QEBi55KjU0A8QOVEIjtRPTdAAW6pHa7pMUBoDUjHy+UpQJPUAjnkGiJAkii6KF00GkDyfPLi2t0UQPkZqhKpthFAXgmBeRVNDUDo1yrq/pUDQBJCuTYK9vU/YoFqy5OO+j/mD7q8ijIFQB7JG9aeDgtAKZPg33XgEEB3e15vURcWQASfV5qt/R1A31afOw7VJEBkZ/sSPswqQPJ8sfjH+ylASXHMMLlOJECnFuR/okcgQKATN+gOZBtALtOaGrQFFkBYLwnonigRQH3MfkLg4AtAJbaM1c4ICEAqMLR+58sCQGn6INO6Bfo/9OD7FbZF8T+Hs4EjcHrnP564dUqD6Ns/JQfYEdIQzT9x/Lwc00XAP+SGDp6tAKO/xAoZ+sRjyb+ScdT6eNyDv/4NISJvwuc/0BNwzqJ+9z+OhxM/9RYAQGCVqWPPlwFApa4RsMkGAECakb3Sg0P+P/wSdfkQIv0/okwaebtq/D8NcsI81zv8PzS6YIBmV/w/t/rzZVDu+z9vHpSuI3P7PzxXiTLKB/s/+xEut0e9+j80CdGvY4f6P91Lpyhohfo/hq2DgXOb+z8jUdf2UHz8P+0LQT6D/vw/NxBjOnr9/D975RKvuF38PyqTiuWeRvs/G8nM6yIW+j8IPCAwnv/4P9UcYY9Qbfg/OqB8rKY8+D929obcuzf4P6/7j5gVtPc/VtnblNCk9j8Yh5Uy8nP1P2TvKkPTiPQ/Kaw4REER9D/JF0FfkkT0P/aWmIV77/o/\",\"dtype\":\"float64\",\"shape\":[75]},\"y\":{\"__ndarray__\":\"GhExyth1ND/Sv8nbtpRIP2vylNV0PVE/aTum7souWD/At0SJ8fVgPw3Iuahxymc/MSNhhJWvcD/bTfBN02d3P2zb5nxnaoA/CD5h5MAGhz8NmeH1TyaQP+zrCsc9p5Y/LbKd76fGnz/bLW5ISEmmPww9YvTcQq8/JV2OstnstT8Er5Y7M8G+P0c+r3jqkcU/5h99k6ZBzj88bCIzFzjVP4enV8oyxN0//yH99nXg5D8qOpLLf0jtP5kqGJXUifQ/c9cS8kHP/D+/DpwzojQEQIEmwoanVwxA4lgXt9HgE0BSSZ2AJuIbQAMJih9jjiNA5q4l5INuK0AwTKYKRj0zQNv5fmq8/DpAaCJseHrtQkB/+zpwzoxKQM3MzMzMeFJAZmZmZmZqWEAAAAAAAFxeQM3MzMzMJmJAmpmZmZkfZUBmZmZmZhhoQDMzMzMzEWtAAAAAAAAKbkBmZmZmZoFwQM3MzMzM/XFAMzMzMzN6c0CamZmZmfZ0QAAAAAAAc3ZAZmZmZmbvd0DNzMzMzGt5QDMzMzMz6HpAmpmZmZlkfEAAAAAAAOF9QGZmZmZmXX9AZmZmZuZsgECamZmZGSuBQM3MzMxM6YFAAAAAAICngkAzMzMzs2WDQGZmZmbmI4RAmpmZmRnihEDNzMzMTKCFQAAAAACAXoZAMzMzM7Mch0BmZmZm5tqHQJqZmZkZmYhAzczMzExXiUAAAAAAgBWKQDMzMzOz04pAZmZmZuaRi0CamZmZGVCMQM3MzMxMDo1AAAAAAIDMjUAzMzMzs4qOQGZmZmbmSI9A\",\"dtype\":\"float64\",\"shape\":[75]}},\"selected\":{\"id\":\"bf2f23bf-a443-4285-9089-986682385f6e\",\"type\":\"Selection\"},\"selection_policy\":{\"id\":\"9dba4a94-4732-423c-955f-e9273d40eb58\",\"type\":\"UnionRenderers\"}},\"id\":\"8d1c302c-2396-440d-bf0a-51485359ba9e\",\"type\":\"ColumnDataSource\"},{\"attributes\":{},\"id\":\"48bc694d-56f7-46e6-9733-cc123c83e5fc\",\"type\":\"LinearScale\"},{\"attributes\":{\"label\":{\"value\":\"old CLIRAD (H2012)\"},\"renderers\":[{\"id\":\"fb1c4899-d4a5-4fbd-bfb2-30eb708aa6e7\",\"type\":\"GlyphRenderer\"},{\"id\":\"c6f7acc0-28a3-4a2c-8b7f-1260ae2b7f6b\",\"type\":\"GlyphRenderer\"}]},\"id\":\"e833b456-2a89-439e-8372-33086305510a\",\"type\":\"LegendItem\"},{\"attributes\":{\"source\":{\"id\":\"72766108-fa64-4fba-8a08-fbac7d9b6610\",\"type\":\"ColumnDataSource\"}},\"id\":\"cd53a74b-ead0-46ab-a551-69c6dc2d8722\",\"type\":\"CDSView\"},{\"attributes\":{\"axis_label\":\"cooling rate [K/day]\",\"formatter\":{\"id\":\"898ca65a-1fe2-40bb-a012-d8057a8d6fef\",\"type\":\"BasicTickFormatter\"},\"plot\":{\"id\":\"a0353e80-9797-40f9-8519-03bd0da1cd06\",\"subtype\":\"Figure\",\"type\":\"Plot\"},\"ticker\":{\"id\":\"075b47a7-6fad-4ded-99c5-097b5d3ab563\",\"type\":\"BasicTicker\"}},\"id\":\"c9f2d61b-fe57-4daf-a2d2-ba72420facc8\",\"type\":\"LinearAxis\"},{\"attributes\":{\"plot\":null,\"text\":\"\"},\"id\":\"947bc04e-4e1c-4f64-868e-005628061a03\",\"type\":\"Title\"},{\"attributes\":{\"plot\":null,\"text\":\"\"},\"id\":\"487ffa7b-04ab-4f23-8d3f-39c36b7c8670\",\"type\":\"Title\"},{\"attributes\":{},\"id\":\"c2ff087c-e76c-4b63-ab14-0bb7292536c2\",\"type\":\"LinearScale\"},{\"attributes\":{\"axis_label\":\"pressure [mb]\",\"formatter\":{\"id\":\"00962134-fc32-4bd5-bae4-8fcb51ba8ccd\",\"type\":\"BasicTickFormatter\"},\"plot\":{\"id\":\"dcdd7238-41c3-4916-b8dc-e4425bade696\",\"subtype\":\"Figure\",\"type\":\"Plot\"},\"ticker\":{\"id\":\"05b2e57b-17e2-4a00-8e1e-12d48653a5fc\",\"type\":\"BasicTicker\"}},\"id\":\"4761a1c6-7337-4ef2-8308-61889fc1c429\",\"type\":\"LinearAxis\"},{\"attributes\":{\"children\":[{\"id\":\"dcdd7238-41c3-4916-b8dc-e4425bade696\",\"subtype\":\"Figure\",\"type\":\"Plot\"},{\"id\":\"f53ae2fb-b68e-4cce-bdfe-a59f51e8b2aa\",\"subtype\":\"Figure\",\"type\":\"Plot\"},{\"id\":\"a0353e80-9797-40f9-8519-03bd0da1cd06\",\"subtype\":\"Figure\",\"type\":\"Plot\"}]},\"id\":\"79bef9cb-a7eb-4a18-8dfa-f146683f5d58\",\"type\":\"Row\"},{\"attributes\":{\"callback\":null,\"end\":13.587992271301857,\"start\":-0.33485573154785997},\"id\":\"7abac57f-ba73-46b9-94ae-a61fbcf6a09c\",\"type\":\"Range1d\"},{\"attributes\":{\"fill_alpha\":{\"value\":0.7},\"fill_color\":{\"value\":\"#4daf4a\"},\"line_alpha\":{\"value\":0.7},\"line_color\":{\"value\":\"#4daf4a\"},\"x\":{\"field\":\"x\"},\"y\":{\"field\":\"y\"}},\"id\":\"698fa843-3baa-4efe-a6e5-4ce08ddbd9f2\",\"type\":\"Circle\"},{\"attributes\":{\"above\":[{\"id\":\"52f4ae02-0f65-4570-8fd8-6272b04807c4\",\"type\":\"Legend\"}],\"below\":[{\"id\":\"c9f2d61b-fe57-4daf-a2d2-ba72420facc8\",\"type\":\"LinearAxis\"}],\"left\":[{\"id\":\"e8e55350-5eca-4662-9d7d-ef102f29d2fd\",\"type\":\"LogAxis\"}],\"plot_width\":300,\"renderers\":[{\"id\":\"c9f2d61b-fe57-4daf-a2d2-ba72420facc8\",\"type\":\"LinearAxis\"},{\"id\":\"3398f4ed-1dd5-44f0-853d-b1ea519a1f32\",\"type\":\"Grid\"},{\"id\":\"e8e55350-5eca-4662-9d7d-ef102f29d2fd\",\"type\":\"LogAxis\"},{\"id\":\"d9981e8f-ea12-41a9-aa9e-f206457b2cdf\",\"type\":\"Grid\"},{\"id\":\"d4c3b139-f0a5-46fe-82d9-e130bec4aa6e\",\"type\":\"BoxAnnotation\"},{\"id\":\"7bd7660f-1b01-44e3-8a43-8148357e84e6\",\"type\":\"GlyphRenderer\"},{\"id\":\"a1809a0b-4937-4f03-bb64-6fa56e597246\",\"type\":\"GlyphRenderer\"},{\"id\":\"d8b5f2fb-c3b7-483a-b886-b905023a2e60\",\"type\":\"GlyphRenderer\"},{\"id\":\"52f4ae02-0f65-4570-8fd8-6272b04807c4\",\"type\":\"Legend\"}],\"title\":{\"id\":\"947bc04e-4e1c-4f64-868e-005628061a03\",\"type\":\"Title\"},\"toolbar\":{\"id\":\"803f9839-756c-425c-abc0-9e0e672f4150\",\"type\":\"Toolbar\"},\"toolbar_location\":null,\"x_range\":{\"id\":\"2800a59c-6691-4114-92d3-d8378a533bd5\",\"type\":\"Range1d\"},\"x_scale\":{\"id\":\"a2f5c69f-5120-4b9c-ad5b-05d6f1704c0e\",\"type\":\"LinearScale\"},\"y_range\":{\"id\":\"9b5b4b19-71bc-45a7-b706-d248a90a6959\",\"type\":\"Range1d\"},\"y_scale\":{\"id\":\"9f0c29e4-51c3-454f-96b1-b58a9e3747c9\",\"type\":\"LogScale\"}},\"id\":\"a0353e80-9797-40f9-8519-03bd0da1cd06\",\"subtype\":\"Figure\",\"type\":\"Plot\"},{\"attributes\":{\"callback\":null,\"end\":0.01,\"start\":1020},\"id\":\"9b5b4b19-71bc-45a7-b706-d248a90a6959\",\"type\":\"Range1d\"},{\"attributes\":{\"children\":[{\"id\":\"79bef9cb-a7eb-4a18-8dfa-f146683f5d58\",\"type\":\"Row\"}]},\"id\":\"9e1feec4-66e0-4905-bfde-13d598a5d473\",\"type\":\"Column\"},{\"attributes\":{},\"id\":\"b41f4f1e-fa1a-4b08-baf8-050a7ccd503f\",\"type\":\"Selection\"},{\"attributes\":{\"line_alpha\":0.1,\"line_color\":\"#1f77b4\",\"line_width\":1.5,\"x\":{\"field\":\"x\"},\"y\":{\"field\":\"y\"}},\"id\":\"3d530455-05e8-41ea-912d-6b5ce2932b02\",\"type\":\"Line\"},{\"attributes\":{\"overlay\":{\"id\":\"2be5c55c-4e13-46aa-896e-2d48094719a2\",\"type\":\"BoxAnnotation\"}},\"id\":\"aaac76c2-a863-44ff-9dd0-5bf454de2bba\",\"type\":\"BoxZoomTool\"},{\"attributes\":{\"num_minor_ticks\":10},\"id\":\"b237e931-b548-4955-bbb2-c9b8621ca657\",\"type\":\"LogTicker\"},{\"attributes\":{\"dimension\":1,\"plot\":{\"id\":\"f53ae2fb-b68e-4cce-bdfe-a59f51e8b2aa\",\"subtype\":\"Figure\",\"type\":\"Plot\"},\"ticker\":{\"id\":\"b237e931-b548-4955-bbb2-c9b8621ca657\",\"type\":\"LogTicker\"}},\"id\":\"643effea-bb65-4c16-a0dc-321eefa88fdc\",\"type\":\"Grid\"},{\"attributes\":{},\"id\":\"11f792cd-af5b-4131-a455-48d885b26114\",\"type\":\"Selection\"},{\"attributes\":{\"fill_alpha\":{\"value\":0.1},\"fill_color\":{\"value\":\"#1f77b4\"},\"line_alpha\":{\"value\":0.1},\"line_color\":{\"value\":\"#1f77b4\"},\"x\":{\"field\":\"x\"},\"y\":{\"field\":\"y\"}},\"id\":\"9840b793-5045-4350-a655-4061a6b4b631\",\"type\":\"Square\"},{\"attributes\":{\"source\":{\"id\":\"96c5bf38-3c60-4eea-847c-1a6794f62d2a\",\"type\":\"ColumnDataSource\"}},\"id\":\"cc33a1b1-bb82-4398-8b30-0e7c36420e16\",\"type\":\"CDSView\"},{\"attributes\":{\"label\":{\"value\":\"CLIRAD (single-run) - CRD\"},\"renderers\":[{\"id\":\"7bd7660f-1b01-44e3-8a43-8148357e84e6\",\"type\":\"GlyphRenderer\"},{\"id\":\"a1809a0b-4937-4f03-bb64-6fa56e597246\",\"type\":\"GlyphRenderer\"}]},\"id\":\"39e99dfb-1c2e-4b98-b8c3-1916c1d46250\",\"type\":\"LegendItem\"},{\"attributes\":{},\"id\":\"34c6620d-0d9c-42d4-97e1-f41101f48b94\",\"type\":\"Selection\"},{\"attributes\":{},\"id\":\"80ef9d3a-a8b4-4586-b1ab-13c66b93dd06\",\"type\":\"Selection\"},{\"attributes\":{},\"id\":\"cb0a887f-9165-4f19-aee1-4231894b28d1\",\"type\":\"LogScale\"},{\"attributes\":{\"callback\":null,\"data\":{\"x\":{\"__ndarray__\":\"MXhf+wfXU0AZbvNjswdFQLQWsEQVdUFA5TlpnhT9QUB/x1dOYK05QImjxHmcEjZA9jYDSBB3L0AISPl4H6wqQBPuuwfAzyJAOcHprUZAIUB7WWpkesAXQJoT1Uq+ChVArO/8u0EXCkBgVNlshzgCQMeNQ+Nzu/I/POwv1Qzh+D9QxMRmcj8DQOrE7tC4mAxAQsLBRIlHEkAi4cPYoDEXQEeDpjRjzB1ASZ0GEfCuI0DVFj11sssnQOMiVKSMHyhAWRHvUxNoJEDo8cjD4g8gQLGGvR2NDRpAdpI3nV5oFECtyWH9Lp4QQIZQd9bvmwtAkshlnu1BBkBMysnQf1UAQHZJU/DYZ/c/HoEhV+G48T/rSm4vc/TmP3EgV4cD49g/xmy6+4w7zz+bEsjh3uDDPw5SRMRogKs/4GPKdPc1a78lazVXN1vCP/B84ODeUug/LOyxgXDV9z+/DBHyZAwAQAOIY+fy/QFAahF3XKCUAECV0GHvGsz+P+X4k4Nhvf0/RO/IqI98/T8rkW+v/zT9P59vGMDsAv0/zEX7plCY/D/E3siS8kj7P2yUMv+hDvs/RmrXDaYs+z+c9f5GCO36P58nVCbr7vo/Qus8hbcy/D+rD5hFMCf9P4t6dxofnPw/bRp4QYZ2/D/q8NNiN2b8P5YTVw9ESPw/l1Dy0X/K+j+WKih3ZdD5P2k8OYxHjvk/hceGh5N4+T8lpPahWSn5P6vJnePt4vY/UuhmxnXI9T8miFqdE+D0Pz7qfx5CR/Q/0khvq2US9D9LfVdHQGv0P9syeEmwYfg/\",\"dtype\":\"float64\",\"shape\":[75]},\"y\":{\"__ndarray__\":\"hLndy31yND/6fmq8dJNIP8n9DkWBPlE/aDum7souWD/b4a/JGvVgP9f34SAhymc/ZvM4DOavcD+z0M5pFmh3PxuC4zJuaoA/xjcUPlsHhz8uHAjJAiaQP9ieWRKgppY/oI7HDFTGnz+a5h2n6EimPzS6g9iZQq8/IuAQqtTstT9SSZ2AJsK+P4nS3uALk8U/ih9j7lpCzj+ASL99HTjVP4enV8oyxN0/ACL99nXg5D9fmEwVjErtPyUGgZVDi/Q/AiuHFtnO/D9OYhBYOTQEQPHSTWIQWAxA4XoUrkfhE0D8qfHSTeIbQMh2vp8ajyNArkfhehRuK0Bcj8L1KDwzQFyPwvUo/DpAPgrXo3DtQkDNzMzMzIxKQClcj8L1eFJAKVyPwvVoWECamZmZmVleQGZmZmZmJmJAAAAAAAAgZUCamZmZmRloQJqZmZmZEWtAmpmZmZkJbkCamZmZmYFwQGZmZmZm/nFAZmZmZmZ6c0BmZmZmZvZ0QDQzMzMzc3ZAAAAAAADwd0AAAAAAAGx5QAAAAAAA6HpAzMzMzMxkfEDMzMzMzOB9QM3MzMzMXH9AzczMzMxsgEAzMzMzMyuBQDMzMzMz6YFAMzMzMzOngkCamZmZmWWDQAAAAAAAJIRAAAAAAADihEAAAAAAAKCFQGZmZmZmXoZAzczMzMwch0DNzMzMzNqHQM3MzMzMmIhAMzMzMzNXiUCamZmZmRWKQAAAAAAA1IpAAAAAAACSi0AAAAAAAFCMQGZmZmZmDo1AzczMzMzMjUDNzMzMzIqOQM3MzMzMSI9A\",\"dtype\":\"float64\",\"shape\":[75]}},\"selected\":{\"id\":\"f37cf7d3-d398-4b71-b488-76e0f1144db5\",\"type\":\"Selection\"},\"selection_policy\":{\"id\":\"202c6822-08f0-4f65-bae1-16b544355be4\",\"type\":\"UnionRenderers\"}},\"id\":\"aebe0c9e-bfcd-4057-98f4-1a12d6640621\",\"type\":\"ColumnDataSource\"},{\"attributes\":{},\"id\":\"9542d4fc-0827-4d7d-899c-24b18591d16c\",\"type\":\"UnionRenderers\"},{\"attributes\":{\"label\":{\"value\":\"old CLIRAD (H2012) - CRD\"},\"renderers\":[{\"id\":\"d8b5f2fb-c3b7-483a-b886-b905023a2e60\",\"type\":\"GlyphRenderer\"}]},\"id\":\"5dc386aa-d1bf-42c5-b2b2-5e8548a10c6a\",\"type\":\"LegendItem\"},{\"attributes\":{},\"id\":\"00962134-fc32-4bd5-bae4-8fcb51ba8ccd\",\"type\":\"BasicTickFormatter\"},{\"attributes\":{\"data_source\":{\"id\":\"e3d932d1-23ac-4e97-9d4c-5882a2be9511\",\"type\":\"ColumnDataSource\"},\"glyph\":{\"id\":\"b1ce21b7-9baa-45b7-bfa2-236b2e3f06c3\",\"type\":\"Line\"},\"hover_glyph\":null,\"muted_glyph\":null,\"nonselection_glyph\":{\"id\":\"d0356bc2-7783-4e54-a3f3-3b27e5666d8f\",\"type\":\"Line\"},\"selection_glyph\":null,\"view\":{\"id\":\"ecc7d085-11b1-4b27-985f-2c956b9deffa\",\"type\":\"CDSView\"}},\"id\":\"d8b5f2fb-c3b7-483a-b886-b905023a2e60\",\"type\":\"GlyphRenderer\"},{\"attributes\":{},\"id\":\"075b47a7-6fad-4ded-99c5-097b5d3ab563\",\"type\":\"BasicTicker\"},{\"attributes\":{\"fill_alpha\":{\"value\":0.1},\"fill_color\":{\"value\":\"#1f77b4\"},\"line_alpha\":{\"value\":0.1},\"line_color\":{\"value\":\"#1f77b4\"},\"x\":{\"field\":\"x\"},\"y\":{\"field\":\"y\"}},\"id\":\"53211981-2cab-4151-aa57-73653ab5135f\",\"type\":\"Circle\"},{\"attributes\":{},\"id\":\"aa4ddf6e-78c5-4f82-9ff2-6908d17dab65\",\"type\":\"UnionRenderers\"},{\"attributes\":{\"dimension\":1,\"plot\":{\"id\":\"dcdd7238-41c3-4916-b8dc-e4425bade696\",\"subtype\":\"Figure\",\"type\":\"Plot\"},\"ticker\":{\"id\":\"05b2e57b-17e2-4a00-8e1e-12d48653a5fc\",\"type\":\"BasicTicker\"}},\"id\":\"5591d975-380a-4cfe-aaed-5a79b6c5c119\",\"type\":\"Grid\"},{\"attributes\":{\"callback\":null,\"end\":0.01,\"start\":1020},\"id\":\"0ba05d34-2a19-447c-9852-4bff2ea40254\",\"type\":\"Range1d\"},{\"attributes\":{\"line_alpha\":0.5,\"line_color\":\"#377eb8\",\"line_dash\":[6],\"line_width\":4,\"x\":{\"field\":\"x\"},\"y\":{\"field\":\"y\"}},\"id\":\"b1ce21b7-9baa-45b7-bfa2-236b2e3f06c3\",\"type\":\"Line\"},{\"attributes\":{\"data_source\":{\"id\":\"72766108-fa64-4fba-8a08-fbac7d9b6610\",\"type\":\"ColumnDataSource\"},\"glyph\":{\"id\":\"698fa843-3baa-4efe-a6e5-4ce08ddbd9f2\",\"type\":\"Circle\"},\"hover_glyph\":null,\"muted_glyph\":null,\"nonselection_glyph\":{\"id\":\"86e181c7-75d3-43f0-a750-ea81772468d9\",\"type\":\"Circle\"},\"selection_glyph\":null,\"view\":{\"id\":\"cd53a74b-ead0-46ab-a551-69c6dc2d8722\",\"type\":\"CDSView\"}},\"id\":\"617e56b9-d69d-4c95-9f02-2f5d1b0ee1d1\",\"type\":\"GlyphRenderer\"},{\"attributes\":{\"items\":[{\"id\":\"f3c5ad44-3b66-4e3e-9508-c4df5becfde3\",\"type\":\"LegendItem\"},{\"id\":\"efd8ca3a-cf0c-4b0e-b843-fdb78bf6f150\",\"type\":\"LegendItem\"},{\"id\":\"ec971b4f-ff63-4ea2-89a7-7b41141c1c91\",\"type\":\"LegendItem\"}],\"label_text_font_size\":{\"value\":\"8pt\"},\"location\":\"top_center\",\"orientation\":\"horizontal\",\"plot\":{\"id\":\"f53ae2fb-b68e-4cce-bdfe-a59f51e8b2aa\",\"subtype\":\"Figure\",\"type\":\"Plot\"}},\"id\":\"cd772063-1ab6-4aa0-bca4-abac3f72f08b\",\"type\":\"Legend\"},{\"attributes\":{\"source\":{\"id\":\"fa8ce1cf-5363-4139-96c2-53f1c1885bd0\",\"type\":\"ColumnDataSource\"}},\"id\":\"b87f52a2-8051-4f1b-8e5a-dba6813cf947\",\"type\":\"CDSView\"},{\"attributes\":{},\"id\":\"0a728af4-ed7a-4453-aed6-fd92d7d7fe5d\",\"type\":\"ResetTool\"},{\"attributes\":{\"source\":{\"id\":\"de29e0ef-8c57-4b6b-b127-4f856d53b85a\",\"type\":\"ColumnDataSource\"}},\"id\":\"8f63db9a-49e8-4fd1-b0c3-bd6caad1fd01\",\"type\":\"CDSView\"},{\"attributes\":{\"data_source\":{\"id\":\"96c5bf38-3c60-4eea-847c-1a6794f62d2a\",\"type\":\"ColumnDataSource\"},\"glyph\":{\"id\":\"6a2c8e72-352f-474d-b68a-32fe00557225\",\"type\":\"Line\"},\"hover_glyph\":null,\"muted_glyph\":null,\"nonselection_glyph\":{\"id\":\"3d530455-05e8-41ea-912d-6b5ce2932b02\",\"type\":\"Line\"},\"selection_glyph\":null,\"view\":{\"id\":\"cc33a1b1-bb82-4398-8b30-0e7c36420e16\",\"type\":\"CDSView\"}},\"id\":\"ca96c3f7-8cb3-46cd-a14c-76d08997b48c\",\"type\":\"GlyphRenderer\"},{\"attributes\":{},\"id\":\"10ce6946-42fc-4966-ac12-3392083066af\",\"type\":\"BasicTicker\"},{\"attributes\":{},\"id\":\"15b76037-a7a7-4619-b620-25d217f129b6\",\"type\":\"UnionRenderers\"},{\"attributes\":{\"line_alpha\":0.8,\"line_color\":\"#984ea3\",\"line_width\":1.5,\"x\":{\"field\":\"x\"},\"y\":{\"field\":\"y\"}},\"id\":\"2607658b-54df-410a-9767-f7123e621806\",\"type\":\"Line\"},{\"attributes\":{},\"id\":\"202c6822-08f0-4f65-bae1-16b544355be4\",\"type\":\"UnionRenderers\"},{\"attributes\":{\"bottom_units\":\"screen\",\"fill_alpha\":{\"value\":0.5},\"fill_color\":{\"value\":\"lightgrey\"},\"left_units\":\"screen\",\"level\":\"overlay\",\"line_alpha\":{\"value\":1.0},\"line_color\":{\"value\":\"black\"},\"line_dash\":[4,4],\"line_width\":{\"value\":2},\"plot\":null,\"render_mode\":\"css\",\"right_units\":\"screen\",\"top_units\":\"screen\"},\"id\":\"2be5c55c-4e13-46aa-896e-2d48094719a2\",\"type\":\"BoxAnnotation\"},{\"attributes\":{\"source\":{\"id\":\"65d55922-da82-4a30-8c65-52dff9bd1839\",\"type\":\"ColumnDataSource\"}},\"id\":\"94d0257a-c482-4b80-9b24-4df4b6a05aee\",\"type\":\"CDSView\"},{\"attributes\":{\"ticker\":null},\"id\":\"b05af0b1-7ae8-4782-a6b9-4d6ab1ee3317\",\"type\":\"LogTickFormatter\"},{\"attributes\":{\"plot\":{\"id\":\"f53ae2fb-b68e-4cce-bdfe-a59f51e8b2aa\",\"subtype\":\"Figure\",\"type\":\"Plot\"},\"ticker\":{\"id\":\"10ce6946-42fc-4966-ac12-3392083066af\",\"type\":\"BasicTicker\"}},\"id\":\"cfbb0c39-a278-4e70-8641-9da2c4dc3c4c\",\"type\":\"Grid\"},{\"attributes\":{\"num_minor_ticks\":10},\"id\":\"ad5dca90-1799-45ab-8025-46dde55eac9e\",\"type\":\"LogTicker\"},{\"attributes\":{},\"id\":\"16fd24ef-15e0-494b-8765-7954b7c458f4\",\"type\":\"HelpTool\"},{\"attributes\":{\"callback\":null,\"data\":{\"x\":{\"__ndarray__\":\"oGsWFOcWRMAMO53n/6ogwD3viZgKZgLA/QYLKQLU/D8kxx1hxGkOQMQ0+uZxzQ5AVNhXd+QeBEAOfWNUzSflP8Ab6dWes+m/+NL3xc/V9b/FaMqELYjxv9IJsBTPId+/TcZOEIimsD/RlBh077XZP+5CgCXcI98/xk80a5U21D+mvbpH91KhP0I7juACtdC/1aw+HWoz4L+eELp8N6Pgv46j72rX7tG/sPOr1cQ1eb8yylG8HeyqvzLdYsjI0NO/iNtWXRBP17+iXw8BsSGxvwV3o383itg/95efVY5T1z8Wf4KYaOC3Pxz4JWCS45c/xGzh7qDj0D/z9Jq0lJzVP9S9cwqzvcM/ncXJA03snL/+DCuavWFzP5gifvItdK4/6ix5O2qXfj/VIxwFX/CrvyFUz3G74La/my7Kb2SHub/iQ7MhNea1vxA1JmSLibC/ec3xKLA2r7/CQWKSSD+dv/kBCet07ba/jdOl0S2ZuL/hF/AL7Yurv4nkUKY76K6/oQAAbI22s7/sel+r8Oayv1lPEDkNp6u/hX6dcBWzor/B7Z2I616YvxIFFivn5ZS/kePwCZ6plL+En8uXwV+Zv6r8aguhXJu/hY8q3THCk78YErbXNlBWP49H38C+f6A/WwZhsThqrD+Qb3Iuc+mtP/D2ZI59eqU/qxypqzTKlT/wr1QOo+RZP+CjI8tNBUE/JP80BLOBgT9iFteBPlSeP2eXidFcb6g/plqmh+qrrz+CO88mJx2yP91eBcEyWbM/pmiOXiQjtD+1cER8wdW0P/GeJNn6VLQ/\",\"dtype\":\"float64\",\"shape\":[75]},\"y\":{\"__ndarray__\":\"GhExyth1ND/Sv8nbtpRIP2vylNV0PVE/aTum7souWD/At0SJ8fVgPw3Iuahxymc/MSNhhJWvcD/bTfBN02d3P2zb5nxnaoA/CD5h5MAGhz8NmeH1TyaQP+zrCsc9p5Y/LbKd76fGnz/bLW5ISEmmPww9YvTcQq8/JV2OstnstT8Er5Y7M8G+P0c+r3jqkcU/5h99k6ZBzj88bCIzFzjVP4enV8oyxN0//yH99nXg5D8qOpLLf0jtP5kqGJXUifQ/c9cS8kHP/D+/DpwzojQEQIEmwoanVwxA4lgXt9HgE0BSSZ2AJuIbQAMJih9jjiNA5q4l5INuK0AwTKYKRj0zQNv5fmq8/DpAaCJseHrtQkB/+zpwzoxKQM3MzMzMeFJAZmZmZmZqWEAAAAAAAFxeQM3MzMzMJmJAmpmZmZkfZUBmZmZmZhhoQDMzMzMzEWtAAAAAAAAKbkBmZmZmZoFwQM3MzMzM/XFAMzMzMzN6c0CamZmZmfZ0QAAAAAAAc3ZAZmZmZmbvd0DNzMzMzGt5QDMzMzMz6HpAmpmZmZlkfEAAAAAAAOF9QGZmZmZmXX9AZmZmZuZsgECamZmZGSuBQM3MzMxM6YFAAAAAAICngkAzMzMzs2WDQGZmZmbmI4RAmpmZmRnihEDNzMzMTKCFQAAAAACAXoZAMzMzM7Mch0BmZmZm5tqHQJqZmZkZmYhAzczMzExXiUAAAAAAgBWKQDMzMzOz04pAZmZmZuaRi0CamZmZGVCMQM3MzMxMDo1AAAAAAIDMjUAzMzMzs4qOQGZmZmbmSI9A\",\"dtype\":\"float64\",\"shape\":[75]}},\"selected\":{\"id\":\"34c6620d-0d9c-42d4-97e1-f41101f48b94\",\"type\":\"Selection\"},\"selection_policy\":{\"id\":\"15b76037-a7a7-4619-b620-25d217f129b6\",\"type\":\"UnionRenderers\"}},\"id\":\"fa8ce1cf-5363-4139-96c2-53f1c1885bd0\",\"type\":\"ColumnDataSource\"},{\"attributes\":{\"axis_label\":\"pressure [mb]\",\"formatter\":{\"id\":\"5757e794-c115-495a-ac3a-47b567897a39\",\"type\":\"LogTickFormatter\"},\"plot\":{\"id\":\"f53ae2fb-b68e-4cce-bdfe-a59f51e8b2aa\",\"subtype\":\"Figure\",\"type\":\"Plot\"},\"ticker\":{\"id\":\"b237e931-b548-4955-bbb2-c9b8621ca657\",\"type\":\"LogTicker\"}},\"id\":\"6300a69a-b643-4f51-88eb-ceca4d2c8237\",\"type\":\"LogAxis\"},{\"attributes\":{\"axis_label\":\"pressure [mb]\",\"formatter\":{\"id\":\"b05af0b1-7ae8-4782-a6b9-4d6ab1ee3317\",\"type\":\"LogTickFormatter\"},\"plot\":{\"id\":\"a0353e80-9797-40f9-8519-03bd0da1cd06\",\"subtype\":\"Figure\",\"type\":\"Plot\"},\"ticker\":{\"id\":\"ad5dca90-1799-45ab-8025-46dde55eac9e\",\"type\":\"LogTicker\"}},\"id\":\"e8e55350-5eca-4662-9d7d-ef102f29d2fd\",\"type\":\"LogAxis\"},{\"attributes\":{},\"id\":\"f8ba4ec8-ebde-4bf6-82c1-109931b0084c\",\"type\":\"BasicTicker\"},{\"attributes\":{\"callback\":null,\"data\":{\"x\":{\"__ndarray__\":\"EFTPEMULEsBY5Soo7NcRwOAih0PfTQnAcLzxlkslFUAgkIluU6TzP+gpDdzLdwVAICHKUKVt1T+Ik7s3hMbwP6AHr9TDy9y/ECnbDOK15j+w2qv7vfbXvzCQ/22EH9Y/ABwN6PuE1b8w8RgTZ5TNP8ZxqdeCOdI/WPaTJPMAyz/gCWaNx9zKv4Bz2SfMkLG/QNDU2Dvrw7/gjDvG8ELPv3BfAcZ9A9W/QPE2M06U4r+4EtXbvdv4v8CHA9UM1vO/wNkC+csj1L9A31CHx4DGv4BAVcDWEKk/AJyjBEwOpL8A2K0iJHelvwAHMEdHKYW/QAFQrblkpT+AYHxUdJWePwCcnL/AFYO/AIDdMF2+IL9AoMQ3Xs6Hv8CEJWa/IIk/SHjx3bH7mD9glt/hXwibv4AXhtbv81c/0ZPByHVmuD+ZIBKsyEuxPwB7VdwaDKi/AMK2wPlcpL+A1M+Jt0OhvwBblecIUqS/AOzlE2F5m79AcNDuEvKUv8BO6MRU/Ja/ALSuiFPKhL8ASGwETKOKvwCIZggV2Yi/AB5fgpVndD+A7LY9mXWhv8C4xgD0L5O/ALuUgd63fD8AAPReZ8gCPwB4gQY0fE+/gN8kEc8Okj9ggdWOaw6mPwButB7pzIA/QJoEKHMXlz9A3ZOmSfmuP0CC+mOR17o/8L5CjVu4sD8gd3D5DeiqP4BAGGl6MbI/oBQpEQTvtT+AoHD36662PwCQysucWWu/gOgg5EKCgD+gmD6me76hPwAZquxAgK4/MDP40Wo1tD/gyKr9n0C3P9Ci4ei4h7S/\",\"dtype\":\"float64\",\"shape\":[75]},\"y\":{\"__ndarray__\":\"GhExyth1ND/Sv8nbtpRIP2vylNV0PVE/aTum7souWD/At0SJ8fVgPw3Iuahxymc/MSNhhJWvcD/bTfBN02d3P2zb5nxnaoA/CD5h5MAGhz8NmeH1TyaQP+zrCsc9p5Y/LbKd76fGnz/bLW5ISEmmPww9YvTcQq8/JV2OstnstT8Er5Y7M8G+P0c+r3jqkcU/5h99k6ZBzj88bCIzFzjVP4enV8oyxN0//yH99nXg5D8qOpLLf0jtP5kqGJXUifQ/c9cS8kHP/D+/DpwzojQEQIEmwoanVwxA4lgXt9HgE0BSSZ2AJuIbQAMJih9jjiNA5q4l5INuK0AwTKYKRj0zQNv5fmq8/DpAaCJseHrtQkB/+zpwzoxKQM3MzMzMeFJAZmZmZmZqWEAAAAAAAFxeQM3MzMzMJmJAmpmZmZkfZUBmZmZmZhhoQDMzMzMzEWtAAAAAAAAKbkBmZmZmZoFwQM3MzMzM/XFAMzMzMzN6c0CamZmZmfZ0QAAAAAAAc3ZAZmZmZmbvd0DNzMzMzGt5QDMzMzMz6HpAmpmZmZlkfEAAAAAAAOF9QGZmZmZmXX9AZmZmZuZsgECamZmZGSuBQM3MzMxM6YFAAAAAAICngkAzMzMzs2WDQGZmZmbmI4RAmpmZmRnihEDNzMzMTKCFQAAAAACAXoZAMzMzM7Mch0BmZmZm5tqHQJqZmZkZmYhAzczMzExXiUAAAAAAgBWKQDMzMzOz04pAZmZmZuaRi0CamZmZGVCMQM3MzMxMDo1AAAAAAIDMjUAzMzMzs4qOQGZmZmbmSI9A\",\"dtype\":\"float64\",\"shape\":[75]}},\"selected\":{\"id\":\"11f792cd-af5b-4131-a455-48d885b26114\",\"type\":\"Selection\"},\"selection_policy\":{\"id\":\"9542d4fc-0827-4d7d-899c-24b18591d16c\",\"type\":\"UnionRenderers\"}},\"id\":\"e3d932d1-23ac-4e97-9d4c-5882a2be9511\",\"type\":\"ColumnDataSource\"},{\"attributes\":{\"axis_label\":\"cooling rate [K/day]\",\"formatter\":{\"id\":\"35ef6eb0-02aa-4952-bfe9-aea35744efe2\",\"type\":\"BasicTickFormatter\"},\"plot\":{\"id\":\"dcdd7238-41c3-4916-b8dc-e4425bade696\",\"subtype\":\"Figure\",\"type\":\"Plot\"},\"ticker\":{\"id\":\"f8ba4ec8-ebde-4bf6-82c1-109931b0084c\",\"type\":\"BasicTicker\"}},\"id\":\"993a6052-50e1-4f1e-a17f-7427783ec67d\",\"type\":\"LinearAxis\"},{\"attributes\":{\"label\":{\"value\":\"CLIRAD (single-run)\"},\"renderers\":[{\"id\":\"4543ddc8-41f1-4c22-9a86-084c80d80ea0\",\"type\":\"GlyphRenderer\"}]},\"id\":\"a157999b-972c-4a45-85f4-c1c7586b1850\",\"type\":\"LegendItem\"},{\"attributes\":{\"line_alpha\":0.1,\"line_color\":\"#1f77b4\",\"line_dash\":[6],\"line_width\":4,\"x\":{\"field\":\"x\"},\"y\":{\"field\":\"y\"}},\"id\":\"d0356bc2-7783-4e54-a3f3-3b27e5666d8f\",\"type\":\"Line\"},{\"attributes\":{\"plot\":{\"id\":\"dcdd7238-41c3-4916-b8dc-e4425bade696\",\"subtype\":\"Figure\",\"type\":\"Plot\"},\"ticker\":{\"id\":\"f8ba4ec8-ebde-4bf6-82c1-109931b0084c\",\"type\":\"BasicTicker\"}},\"id\":\"87c02d7b-63cc-4d50-9118-580aa7c65a3f\",\"type\":\"Grid\"},{\"attributes\":{\"active_drag\":\"auto\",\"active_inspect\":\"auto\",\"active_scroll\":\"auto\",\"active_tap\":\"auto\",\"tools\":[{\"id\":\"5341af16-460c-446c-9c6f-9c8bd66f7695\",\"type\":\"PanTool\"},{\"id\":\"6306a16a-24c1-44e5-aa47-0dbb3d89e262\",\"type\":\"WheelZoomTool\"},{\"id\":\"aaac76c2-a863-44ff-9dd0-5bf454de2bba\",\"type\":\"BoxZoomTool\"},{\"id\":\"e32f798b-c21d-417f-aec9-6d59cf962284\",\"type\":\"SaveTool\"},{\"id\":\"0a728af4-ed7a-4453-aed6-fd92d7d7fe5d\",\"type\":\"ResetTool\"},{\"id\":\"16fd24ef-15e0-494b-8765-7954b7c458f4\",\"type\":\"HelpTool\"}]},\"id\":\"88ff42d2-3c7f-4910-83ac-5c34417abaf3\",\"type\":\"Toolbar\"},{\"attributes\":{\"plot\":{\"id\":\"a0353e80-9797-40f9-8519-03bd0da1cd06\",\"subtype\":\"Figure\",\"type\":\"Plot\"},\"ticker\":{\"id\":\"075b47a7-6fad-4ded-99c5-097b5d3ab563\",\"type\":\"BasicTicker\"}},\"id\":\"3398f4ed-1dd5-44f0-853d-b1ea519a1f32\",\"type\":\"Grid\"},{\"attributes\":{\"axis_label\":\"cooling rate [K/day]\",\"formatter\":{\"id\":\"10c72319-9e28-4472-abdb-9e92006d5086\",\"type\":\"BasicTickFormatter\"},\"plot\":{\"id\":\"f53ae2fb-b68e-4cce-bdfe-a59f51e8b2aa\",\"subtype\":\"Figure\",\"type\":\"Plot\"},\"ticker\":{\"id\":\"10ce6946-42fc-4966-ac12-3392083066af\",\"type\":\"BasicTicker\"}},\"id\":\"77a28743-54aa-463b-bd67-54a9a327503c\",\"type\":\"LinearAxis\"},{\"attributes\":{\"callback\":null,\"data\":{\"x\":{\"__ndarray__\":\"cm1sTMT3VEDEyvjosEJHQOKI6DjzCUNArgQWV9awPkB9Lm8XG3M4QEz+Qv6iYzNA7eV8HaPLLkCX1QHyTpMoQFBmYSYetiNAUB04GtGpH0AmFyVE5j8ZQJca9QPGqBNALJP+OOHHDEBNxaf7QF8AQKtislomWuw/cW2dcO6A9T/uJJvfPu0EQIaQLTI/JQ1AxGiII+PmEkCJvfVeuCsYQD6ZBhGbHB9AXQw69DTYJEAsubcwKucqQNuT9D5OmipAJyi3szEJJUBlNebh5WkgQDDcPHBr2xlArtlANXuQFEBdJadFHckQQI2Avh0ZsQtAjYiwt1rsBUCL0SDoVBgAQK6C0nEEjvc/CggLSme58T9sXU2orFPnP0v0JYz9Gdg/vT38vxYczD9nBQTe6kHHP1IhkEXJwKo/8OZnhCVAub+xtVgCpmqzP6DUpY6g0+k/PKK3T1h4+D8RTDjQc1EAQG/dAQs7TwJAQt2eHpPLAEBWEh074x//PyCap9ZSGf4/rEzaTySm/T+7aXhHRmr9P688KeqeNP0/ruZ4EemD/D8olrZcn9T7P0+vNc9hW/s/i9VVL+4P+z+0NzC24uz6P8731Kza8vo/xFf4SHzq+z+gYyHpvHb8P68ROkiFevw/BAjYdCga/D8AUp8VbW77P3JrF/nKmvo/qCQeGfq++T/dplwHJfn4P2G4p+Uva/g/OzZ0RqMZ+D8dmn/iar73P/OuA7Ka8PY/gaaeQHGn9T9hkyjAH1L0P3aZGhdAU/M/n8VP/g7P8j+90HxHNvfyPwhNBtgrqvk/\",\"dtype\":\"float64\",\"shape\":[75]},\"y\":{\"__ndarray__\":\"GhExyth1ND/Sv8nbtpRIP2vylNV0PVE/aTum7souWD/At0SJ8fVgPw3Iuahxymc/MSNhhJWvcD/bTfBN02d3P2zb5nxnaoA/CD5h5MAGhz8NmeH1TyaQP+zrCsc9p5Y/LbKd76fGnz/bLW5ISEmmPww9YvTcQq8/JV2OstnstT8Er5Y7M8G+P0c+r3jqkcU/5h99k6ZBzj88bCIzFzjVP4enV8oyxN0//yH99nXg5D8qOpLLf0jtP5kqGJXUifQ/c9cS8kHP/D+/DpwzojQEQIEmwoanVwxA4lgXt9HgE0BSSZ2AJuIbQAMJih9jjiNA5q4l5INuK0AwTKYKRj0zQNv5fmq8/DpAaCJseHrtQkB/+zpwzoxKQM3MzMzMeFJAZmZmZmZqWEAAAAAAAFxeQM3MzMzMJmJAmpmZmZkfZUBmZmZmZhhoQDMzMzMzEWtAAAAAAAAKbkBmZmZmZoFwQM3MzMzM/XFAMzMzMzN6c0CamZmZmfZ0QAAAAAAAc3ZAZmZmZmbvd0DNzMzMzGt5QDMzMzMz6HpAmpmZmZlkfEAAAAAAAOF9QGZmZmZmXX9AZmZmZuZsgECamZmZGSuBQM3MzMxM6YFAAAAAAICngkAzMzMzs2WDQGZmZmbmI4RAmpmZmRnihEDNzMzMTKCFQAAAAACAXoZAMzMzM7Mch0BmZmZm5tqHQJqZmZkZmYhAzczMzExXiUAAAAAAgBWKQDMzMzOz04pAZmZmZuaRi0CamZmZGVCMQM3MzMxMDo1AAAAAAIDMjUAzMzMzs4qOQGZmZmbmSI9A\",\"dtype\":\"float64\",\"shape\":[75]}},\"selected\":{\"id\":\"5be3e342-e03d-4666-9a2b-05e12e3a41e7\",\"type\":\"Selection\"},\"selection_policy\":{\"id\":\"5e8557af-a60c-4568-99b1-aa4ae632c827\",\"type\":\"UnionRenderers\"}},\"id\":\"96c5bf38-3c60-4eea-847c-1a6794f62d2a\",\"type\":\"ColumnDataSource\"},{\"attributes\":{\"source\":{\"id\":\"e3d932d1-23ac-4e97-9d4c-5882a2be9511\",\"type\":\"ColumnDataSource\"}},\"id\":\"ecc7d085-11b1-4b27-985f-2c956b9deffa\",\"type\":\"CDSView\"},{\"attributes\":{},\"id\":\"1974d7b0-acb3-44e8-b27a-40a43f8e66e5\",\"type\":\"Selection\"},{\"attributes\":{\"line_alpha\":0.1,\"line_color\":\"#1f77b4\",\"line_width\":1.5,\"x\":{\"field\":\"x\"},\"y\":{\"field\":\"y\"}},\"id\":\"1f67d5d0-a10e-414a-8a30-b296a279ac2a\",\"type\":\"Line\"},{\"attributes\":{\"data_source\":{\"id\":\"fa8ce1cf-5363-4139-96c2-53f1c1885bd0\",\"type\":\"ColumnDataSource\"},\"glyph\":{\"id\":\"2607658b-54df-410a-9767-f7123e621806\",\"type\":\"Line\"},\"hover_glyph\":null,\"muted_glyph\":null,\"nonselection_glyph\":{\"id\":\"1f67d5d0-a10e-414a-8a30-b296a279ac2a\",\"type\":\"Line\"},\"selection_glyph\":null,\"view\":{\"id\":\"b87f52a2-8051-4f1b-8e5a-dba6813cf947\",\"type\":\"CDSView\"}},\"id\":\"a1809a0b-4937-4f03-bb64-6fa56e597246\",\"type\":\"GlyphRenderer\"},{\"attributes\":{\"callback\":null,\"data\":{\"x\":{\"__ndarray__\":\"cm1sTMT3VEDEyvjosEJHQOKI6DjzCUNArgQWV9awPkB9Lm8XG3M4QEz+Qv6iYzNA7eV8HaPLLkCX1QHyTpMoQFBmYSYetiNAUB04GtGpH0AmFyVE5j8ZQJca9QPGqBNALJP+OOHHDEBNxaf7QF8AQKtislomWuw/cW2dcO6A9T/uJJvfPu0EQIaQLTI/JQ1AxGiII+PmEkCJvfVeuCsYQD6ZBhGbHB9AXQw69DTYJEAsubcwKucqQNuT9D5OmipAJyi3szEJJUBlNebh5WkgQDDcPHBr2xlArtlANXuQFEBdJadFHckQQI2Avh0ZsQtAjYiwt1rsBUCL0SDoVBgAQK6C0nEEjvc/CggLSme58T9sXU2orFPnP0v0JYz9Gdg/vT38vxYczD9nBQTe6kHHP1IhkEXJwKo/8OZnhCVAub+xtVgCpmqzP6DUpY6g0+k/PKK3T1h4+D8RTDjQc1EAQG/dAQs7TwJAQt2eHpPLAEBWEh074x//PyCap9ZSGf4/rEzaTySm/T+7aXhHRmr9P688KeqeNP0/ruZ4EemD/D8olrZcn9T7P0+vNc9hW/s/i9VVL+4P+z+0NzC24uz6P8731Kza8vo/xFf4SHzq+z+gYyHpvHb8P68ROkiFevw/BAjYdCga/D8AUp8VbW77P3JrF/nKmvo/qCQeGfq++T/dplwHJfn4P2G4p+Uva/g/OzZ0RqMZ+D8dmn/iar73P/OuA7Ka8PY/gaaeQHGn9T9hkyjAH1L0P3aZGhdAU/M/n8VP/g7P8j+90HxHNvfyPwhNBtgrqvk/\",\"dtype\":\"float64\",\"shape\":[75]},\"y\":{\"__ndarray__\":\"GhExyth1ND/Sv8nbtpRIP2vylNV0PVE/aTum7souWD/At0SJ8fVgPw3Iuahxymc/MSNhhJWvcD/bTfBN02d3P2zb5nxnaoA/CD5h5MAGhz8NmeH1TyaQP+zrCsc9p5Y/LbKd76fGnz/bLW5ISEmmPww9YvTcQq8/JV2OstnstT8Er5Y7M8G+P0c+r3jqkcU/5h99k6ZBzj88bCIzFzjVP4enV8oyxN0//yH99nXg5D8qOpLLf0jtP5kqGJXUifQ/c9cS8kHP/D+/DpwzojQEQIEmwoanVwxA4lgXt9HgE0BSSZ2AJuIbQAMJih9jjiNA5q4l5INuK0AwTKYKRj0zQNv5fmq8/DpAaCJseHrtQkB/+zpwzoxKQM3MzMzMeFJAZmZmZmZqWEAAAAAAAFxeQM3MzMzMJmJAmpmZmZkfZUBmZmZmZhhoQDMzMzMzEWtAAAAAAAAKbkBmZmZmZoFwQM3MzMzM/XFAMzMzMzN6c0CamZmZmfZ0QAAAAAAAc3ZAZmZmZmbvd0DNzMzMzGt5QDMzMzMz6HpAmpmZmZlkfEAAAAAAAOF9QGZmZmZmXX9AZmZmZuZsgECamZmZGSuBQM3MzMxM6YFAAAAAAICngkAzMzMzs2WDQGZmZmbmI4RAmpmZmRnihEDNzMzMTKCFQAAAAACAXoZAMzMzM7Mch0BmZmZm5tqHQJqZmZkZmYhAzczMzExXiUAAAAAAgBWKQDMzMzOz04pAZmZmZuaRi0CamZmZGVCMQM3MzMxMDo1AAAAAAIDMjUAzMzMzs4qOQGZmZmbmSI9A\",\"dtype\":\"float64\",\"shape\":[75]}},\"selected\":{\"id\":\"3b3ea179-afec-4ff6-b1ce-1ce3285df498\",\"type\":\"Selection\"},\"selection_policy\":{\"id\":\"5ba16788-277a-463d-b6c3-73c0c458e6a0\",\"type\":\"UnionRenderers\"}},\"id\":\"f571e52a-f068-4bcb-98ed-1a933bfa6328\",\"type\":\"ColumnDataSource\"},{\"attributes\":{},\"id\":\"4727f754-92de-4d41-81d5-fbba99ecdb22\",\"type\":\"UnionRenderers\"},{\"attributes\":{\"line_alpha\":0.6,\"line_color\":\"#377eb8\",\"line_dash\":[6],\"line_width\":5,\"x\":{\"field\":\"x\"},\"y\":{\"field\":\"y\"}},\"id\":\"8e93cece-b5a3-4f2a-87c4-f9eab4395b93\",\"type\":\"Line\"},{\"attributes\":{},\"id\":\"05b2e57b-17e2-4a00-8e1e-12d48653a5fc\",\"type\":\"BasicTicker\"},{\"attributes\":{\"fill_alpha\":{\"value\":0.7},\"fill_color\":{\"value\":\"#984ea3\"},\"line_alpha\":{\"value\":0.7},\"line_color\":{\"value\":\"#984ea3\"},\"x\":{\"field\":\"x\"},\"y\":{\"field\":\"y\"}},\"id\":\"57c84c83-74bd-47e0-a238-82d09c9fca60\",\"type\":\"Square\"},{\"attributes\":{\"tools\":[{\"id\":\"8be89afd-458c-4c66-81e9-1be75fec375b\",\"type\":\"PanTool\"},{\"id\":\"9bfe751b-6161-4046-bc7b-f14ba8ed39a9\",\"type\":\"WheelZoomTool\"},{\"id\":\"d6380fc7-18f3-4987-929b-16b6693843a1\",\"type\":\"BoxZoomTool\"},{\"id\":\"b13d4ce0-e09b-4a44-9e27-f467eecac40a\",\"type\":\"SaveTool\"},{\"id\":\"06763a4e-6316-47e7-94db-3743a7fc0bc6\",\"type\":\"ResetTool\"},{\"id\":\"d28c3d50-0df4-4903-8fee-05109d162b12\",\"type\":\"HelpTool\"},{\"id\":\"5341af16-460c-446c-9c6f-9c8bd66f7695\",\"type\":\"PanTool\"},{\"id\":\"6306a16a-24c1-44e5-aa47-0dbb3d89e262\",\"type\":\"WheelZoomTool\"},{\"id\":\"aaac76c2-a863-44ff-9dd0-5bf454de2bba\",\"type\":\"BoxZoomTool\"},{\"id\":\"e32f798b-c21d-417f-aec9-6d59cf962284\",\"type\":\"SaveTool\"},{\"id\":\"0a728af4-ed7a-4453-aed6-fd92d7d7fe5d\",\"type\":\"ResetTool\"},{\"id\":\"16fd24ef-15e0-494b-8765-7954b7c458f4\",\"type\":\"HelpTool\"},{\"id\":\"40d32a9c-4513-433f-8f9b-0068bbc84efe\",\"type\":\"PanTool\"},{\"id\":\"c7ea0b4b-27b1-406d-9fa0-130de3fda3af\",\"type\":\"WheelZoomTool\"},{\"id\":\"4c7f0c15-98ad-4407-848c-a8ee1ffc7484\",\"type\":\"BoxZoomTool\"},{\"id\":\"d1501e7c-6f36-4604-bf5b-f19beef03c15\",\"type\":\"SaveTool\"},{\"id\":\"8b853384-92a8-4f65-9b2c-615dd970ab5d\",\"type\":\"ResetTool\"},{\"id\":\"7a2f65a4-42ed-41fb-a6d0-a67a023496f6\",\"type\":\"HelpTool\"}]},\"id\":\"89a71bfa-1a55-41d6-8495-75def8b879d4\",\"type\":\"ProxyToolbar\"},{\"attributes\":{\"line_color\":\"#4daf4a\",\"line_width\":1.5,\"x\":{\"field\":\"x\"},\"y\":{\"field\":\"y\"}},\"id\":\"6a2c8e72-352f-474d-b68a-32fe00557225\",\"type\":\"Line\"},{\"attributes\":{\"data_source\":{\"id\":\"de29e0ef-8c57-4b6b-b127-4f856d53b85a\",\"type\":\"ColumnDataSource\"},\"glyph\":{\"id\":\"34f83c41-7aa7-4cc7-8752-61db3449c9f7\",\"type\":\"Circle\"},\"hover_glyph\":null,\"muted_glyph\":null,\"nonselection_glyph\":{\"id\":\"53211981-2cab-4151-aa57-73653ab5135f\",\"type\":\"Circle\"},\"selection_glyph\":null,\"view\":{\"id\":\"8f63db9a-49e8-4fd1-b0c3-bd6caad1fd01\",\"type\":\"CDSView\"}},\"id\":\"7bd7660f-1b01-44e3-8a43-8148357e84e6\",\"type\":\"GlyphRenderer\"},{\"attributes\":{},\"id\":\"898ca65a-1fe2-40bb-a012-d8057a8d6fef\",\"type\":\"BasicTickFormatter\"},{\"attributes\":{},\"id\":\"d0b89040-fd3a-4c09-aa80-6ea1b2d67aec\",\"type\":\"Selection\"},{\"attributes\":{\"toolbar\":{\"id\":\"89a71bfa-1a55-41d6-8495-75def8b879d4\",\"type\":\"ProxyToolbar\"},\"toolbar_location\":\"above\"},\"id\":\"c083db6c-51d3-45e6-8d00-1a8f7bcd7869\",\"type\":\"ToolbarBox\"},{\"attributes\":{\"fill_alpha\":{\"value\":0.1},\"fill_color\":{\"value\":\"#1f77b4\"},\"line_alpha\":{\"value\":0.1},\"line_color\":{\"value\":\"#1f77b4\"},\"x\":{\"field\":\"x\"},\"y\":{\"field\":\"y\"}},\"id\":\"86e181c7-75d3-43f0-a750-ea81772468d9\",\"type\":\"Circle\"}],\"root_ids\":[\"8a2035f2-017a-4904-8114-4ed6ee70bbcd\"]},\"title\":\"Bokeh Application\",\"version\":\"0.12.16\"}};\n",
       "  var render_items = [{\"docid\":\"ae6abc06-e1fc-4481-85e1-8d86fd4e1ea0\",\"elementid\":\"a80da516-e179-4929-94c7-2d051bbb6b81\",\"modelid\":\"8a2035f2-017a-4904-8114-4ed6ee70bbcd\"}];\n",
       "  root.Bokeh.embed.embed_items_notebook(docs_json, render_items);\n",
       "\n",
       "  }\n",
       "  if (root.Bokeh !== undefined) {\n",
       "    embed_document(root);\n",
       "  } else {\n",
       "    var attempts = 0;\n",
       "    var timer = setInterval(function(root) {\n",
       "      if (root.Bokeh !== undefined) {\n",
       "        embed_document(root);\n",
       "        clearInterval(timer);\n",
       "      }\n",
       "      attempts++;\n",
       "      if (attempts > 100) {\n",
       "        console.log(\"Bokeh: ERROR: Unable to run BokehJS code because BokehJS library is missing\")\n",
       "        clearInterval(timer);\n",
       "      }\n",
       "    }, 10, root)\n",
       "  }\n",
       "})(window);"
      ],
      "application/vnd.bokehjs_exec.v0+json": ""
     },
     "metadata": {
      "application/vnd.bokehjs_exec.v0+json": {
       "id": "8a2035f2-017a-4904-8114-4ed6ee70bbcd"
      }
     },
     "output_type": "display_data"
    },
    {
     "data": {
      "text/markdown": [
       "*FIGURE.* Cooling rates & difference."
      ],
      "text/plain": [
       "<IPython.core.display.Markdown object>"
      ]
     },
     "metadata": {},
     "output_type": "display_data"
    },
    {
     "data": {
      "text/html": [
       "<a id=\"Fluxes._mls.\"></a>"
      ],
      "text/plain": [
       "<IPython.core.display.HTML object>"
      ]
     },
     "metadata": {},
     "output_type": "display_data"
    },
    {
     "data": {
      "text/markdown": [
       "# Fluxes. mls."
      ],
      "text/plain": [
       "<IPython.core.display.Markdown object>"
      ]
     },
     "metadata": {},
     "output_type": "display_data"
    },
    {
     "data": {
      "text/html": [
       "\n",
       "<div class=\"bk-root\">\n",
       "    <div class=\"bk-plotdiv\" id=\"67f47fb6-895e-4d48-b6f0-afa60fc9ad9f\"></div>\n",
       "</div>"
      ]
     },
     "metadata": {},
     "output_type": "display_data"
    },
    {
     "data": {
      "application/javascript": [
       "(function(root) {\n",
       "  function embed_document(root) {\n",
       "    \n",
       "  var docs_json = {\"b57f17a6-0209-42c2-a444-eab53767138b\":{\"roots\":{\"references\":[{\"attributes\":{\"children\":[{\"id\":\"ae3def85-2aba-4218-a935-0b70b07b72a2\",\"subtype\":\"Figure\",\"type\":\"Plot\"},{\"id\":\"294654bf-2a35-43b3-a2aa-eea132ffd671\",\"subtype\":\"Figure\",\"type\":\"Plot\"},{\"id\":\"db0bf97f-9b61-43c7-afb6-7b1543c7b770\",\"subtype\":\"Figure\",\"type\":\"Plot\"}]},\"id\":\"717480d6-c6a2-4d90-bdb7-6466e8e59453\",\"type\":\"Row\"},{\"attributes\":{},\"id\":\"9196a15f-47be-4d0f-92a6-63cfc3e9bb76\",\"type\":\"BasicTicker\"},{\"attributes\":{},\"id\":\"d13c34a5-78ba-4bab-87ae-6537b6341d4f\",\"type\":\"Selection\"},{\"attributes\":{\"tools\":[{\"id\":\"b5566e5a-efdf-4456-8070-de6903c866e4\",\"type\":\"PanTool\"},{\"id\":\"b4e9a76e-0bde-4b0c-86ca-9dbe0a111f55\",\"type\":\"WheelZoomTool\"},{\"id\":\"838eb957-7648-4eb4-9f2b-6d78f59a21b2\",\"type\":\"BoxZoomTool\"},{\"id\":\"37effaaf-f3e0-4b6b-bcee-c7d66c330a41\",\"type\":\"SaveTool\"},{\"id\":\"bb7947d9-af63-4869-9e77-757c5418c70f\",\"type\":\"ResetTool\"},{\"id\":\"69d7d612-a615-4278-9f9a-e964263f968e\",\"type\":\"HelpTool\"},{\"id\":\"fc44bb77-17e6-40ec-ab6f-27441b267c41\",\"type\":\"PanTool\"},{\"id\":\"4baa1968-c72d-4cb3-9606-e245e3133da9\",\"type\":\"WheelZoomTool\"},{\"id\":\"0a2c857c-d3f8-4af3-9702-f6f4072ae7ff\",\"type\":\"BoxZoomTool\"},{\"id\":\"7822df9a-49d1-4fc8-9aee-509f46ae0a22\",\"type\":\"SaveTool\"},{\"id\":\"645797cf-0c52-46da-85b1-f16108e471fe\",\"type\":\"ResetTool\"},{\"id\":\"7f1cad3b-ea34-456d-acdd-f81bb0f83391\",\"type\":\"HelpTool\"},{\"id\":\"41d2a635-e381-455c-a7dd-0e64f73e1181\",\"type\":\"PanTool\"},{\"id\":\"e34a73f8-cbde-4994-a7c5-bd9d292a018c\",\"type\":\"WheelZoomTool\"},{\"id\":\"d52245a6-2c88-44e0-bcd4-09d362bf2ad5\",\"type\":\"BoxZoomTool\"},{\"id\":\"4457a5a0-46d1-4b70-8c1a-cd69a19bab2d\",\"type\":\"SaveTool\"},{\"id\":\"4c211154-5b62-43db-96c2-77d3f46a30e9\",\"type\":\"ResetTool\"},{\"id\":\"f1508d6a-a31d-480a-9195-bc29caa48d23\",\"type\":\"HelpTool\"}]},\"id\":\"d5865a6c-a247-418f-8a82-2b58b2d3fc6c\",\"type\":\"ProxyToolbar\"},{\"attributes\":{\"plot\":null,\"text\":\"SFC flux. CLIRAD (single-run) - CRD.\"},\"id\":\"a7ef64f7-78ad-4e88-9de8-dbc7012991f8\",\"type\":\"Title\"},{\"attributes\":{},\"id\":\"4396f740-eec4-45d0-b080-62efcaa2656d\",\"type\":\"UnionRenderers\"},{\"attributes\":{\"bottom_units\":\"screen\",\"fill_alpha\":{\"value\":0.5},\"fill_color\":{\"value\":\"lightgrey\"},\"left_units\":\"screen\",\"level\":\"overlay\",\"line_alpha\":{\"value\":1.0},\"line_color\":{\"value\":\"black\"},\"line_dash\":[4,4],\"line_width\":{\"value\":2},\"plot\":null,\"render_mode\":\"css\",\"right_units\":\"screen\",\"top_units\":\"screen\"},\"id\":\"baa3e591-b015-4466-a2eb-a8489bd1285d\",\"type\":\"BoxAnnotation\"},{\"attributes\":{\"callback\":null,\"data\":{\"band\":[\"1\",\"2\",\"3\",\"4\",\"5\",\"6\",\"7\",\"8\",\"9\",\"10\",\"11\"],\"flux\":{\"__ndarray__\":\"AIMde81dyD8AYEI3wVi1vwBYNyirM4i/ANGnfnO5zj9A+KOoM/fOvwBuLCgMysK/AHAlOzYC1z8A5hw8E5qkP8BJ06BoHsi/QL8FwBXcvT8AZ1U6DnKtPw==\",\"dtype\":\"float64\",\"shape\":[11]}},\"selected\":{\"id\":\"d13c34a5-78ba-4bab-87ae-6537b6341d4f\",\"type\":\"Selection\"},\"selection_policy\":{\"id\":\"d007a0b4-0177-4859-9aaa-77453ef14a85\",\"type\":\"UnionRenderers\"}},\"id\":\"693dd754-cf36-460c-b025-f96753ae4b76\",\"type\":\"ColumnDataSource\"},{\"attributes\":{\"bottom_units\":\"screen\",\"fill_alpha\":{\"value\":0.5},\"fill_color\":{\"value\":\"lightgrey\"},\"left_units\":\"screen\",\"level\":\"overlay\",\"line_alpha\":{\"value\":1.0},\"line_color\":{\"value\":\"black\"},\"line_dash\":[4,4],\"line_width\":{\"value\":2},\"plot\":null,\"render_mode\":\"css\",\"right_units\":\"screen\",\"top_units\":\"screen\"},\"id\":\"5444a687-0013-46a6-b81f-bee0517c3c7a\",\"type\":\"BoxAnnotation\"},{\"attributes\":{\"active_drag\":\"auto\",\"active_inspect\":\"auto\",\"active_scroll\":\"auto\",\"active_tap\":\"auto\",\"tools\":[{\"id\":\"b5566e5a-efdf-4456-8070-de6903c866e4\",\"type\":\"PanTool\"},{\"id\":\"b4e9a76e-0bde-4b0c-86ca-9dbe0a111f55\",\"type\":\"WheelZoomTool\"},{\"id\":\"838eb957-7648-4eb4-9f2b-6d78f59a21b2\",\"type\":\"BoxZoomTool\"},{\"id\":\"37effaaf-f3e0-4b6b-bcee-c7d66c330a41\",\"type\":\"SaveTool\"},{\"id\":\"bb7947d9-af63-4869-9e77-757c5418c70f\",\"type\":\"ResetTool\"},{\"id\":\"69d7d612-a615-4278-9f9a-e964263f968e\",\"type\":\"HelpTool\"}]},\"id\":\"40813f6a-d717-4b32-bf3b-5cf69cc57de0\",\"type\":\"Toolbar\"},{\"attributes\":{},\"id\":\"d007a0b4-0177-4859-9aaa-77453ef14a85\",\"type\":\"UnionRenderers\"},{\"attributes\":{\"below\":[{\"id\":\"5f4fa5d7-bc45-4195-96e5-0f2bfc01fd3b\",\"type\":\"CategoricalAxis\"}],\"left\":[{\"id\":\"e8e7bdd1-102d-4fba-b984-0dbc267c3172\",\"type\":\"LinearAxis\"}],\"plot_height\":300,\"plot_width\":300,\"renderers\":[{\"id\":\"5f4fa5d7-bc45-4195-96e5-0f2bfc01fd3b\",\"type\":\"CategoricalAxis\"},{\"id\":\"0c1bc54a-81c3-433d-88ff-94874eed904a\",\"type\":\"Grid\"},{\"id\":\"e8e7bdd1-102d-4fba-b984-0dbc267c3172\",\"type\":\"LinearAxis\"},{\"id\":\"423ebf43-c911-4608-9270-c2c747d16419\",\"type\":\"Grid\"},{\"id\":\"baa3e591-b015-4466-a2eb-a8489bd1285d\",\"type\":\"BoxAnnotation\"},{\"id\":\"7c916111-9d53-4462-9bc4-e2ef54494fa7\",\"type\":\"GlyphRenderer\"}],\"title\":{\"id\":\"cf7562ac-cae5-4ec8-abcf-cc11670fbb7c\",\"type\":\"Title\"},\"toolbar\":{\"id\":\"b20a50d5-d273-4b77-b6ae-e2dc820a8f9e\",\"type\":\"Toolbar\"},\"toolbar_location\":null,\"x_range\":{\"id\":\"b4469f63-f166-4c5d-abaf-0d93de29185b\",\"type\":\"FactorRange\"},\"x_scale\":{\"id\":\"7e80f04a-2e02-4690-aacc-4a938eb90a1e\",\"type\":\"CategoricalScale\"},\"y_range\":{\"id\":\"5c3a9282-06f7-420a-8e6b-e1383aee10e7\",\"type\":\"DataRange1d\"},\"y_scale\":{\"id\":\"abf4289e-d1e4-4320-96bb-efc85d6172d6\",\"type\":\"LinearScale\"}},\"id\":\"db0bf97f-9b61-43c7-afb6-7b1543c7b770\",\"subtype\":\"Figure\",\"type\":\"Plot\"},{\"attributes\":{},\"id\":\"f0d6fab8-1306-4558-84ee-b69b3f5d878b\",\"type\":\"BasicTickFormatter\"},{\"attributes\":{\"children\":[{\"id\":\"eae33b45-77b1-4ba5-92ed-4c7ca22064e9\",\"type\":\"ToolbarBox\"},{\"id\":\"a900709c-0cc5-4a07-a5c5-dd83b09b6d48\",\"type\":\"Column\"}]},\"id\":\"3970c0cb-df37-4b45-a9d8-e7a052476c6a\",\"type\":\"Column\"},{\"attributes\":{\"below\":[{\"id\":\"8cb7bdd0-6666-43a8-bb41-dcef9d15ad16\",\"type\":\"CategoricalAxis\"}],\"left\":[{\"id\":\"39e1709e-a914-40a7-883d-519439433045\",\"type\":\"LinearAxis\"}],\"plot_height\":300,\"plot_width\":300,\"renderers\":[{\"id\":\"8cb7bdd0-6666-43a8-bb41-dcef9d15ad16\",\"type\":\"CategoricalAxis\"},{\"id\":\"9e7076c8-2907-4a15-b062-79a8a263e85f\",\"type\":\"Grid\"},{\"id\":\"39e1709e-a914-40a7-883d-519439433045\",\"type\":\"LinearAxis\"},{\"id\":\"ab9edb44-af04-45c7-b919-25c91f278a73\",\"type\":\"Grid\"},{\"id\":\"1861a6bf-a369-4ac9-b356-83ced5f77863\",\"type\":\"BoxAnnotation\"},{\"id\":\"9a17db04-d183-4c9c-b804-992ff938ccfc\",\"type\":\"GlyphRenderer\"}],\"title\":{\"id\":\"a7ef64f7-78ad-4e88-9de8-dbc7012991f8\",\"type\":\"Title\"},\"toolbar\":{\"id\":\"db4e4e39-7764-43ca-9d62-ac89cc517bd9\",\"type\":\"Toolbar\"},\"toolbar_location\":null,\"x_range\":{\"id\":\"c0785517-b003-4de0-b000-c54d117a9720\",\"type\":\"FactorRange\"},\"x_scale\":{\"id\":\"8a581f14-e821-42cb-91da-713d3d313629\",\"type\":\"CategoricalScale\"},\"y_range\":{\"id\":\"f523ff11-5a9f-428f-99c1-79c8c3b52648\",\"type\":\"DataRange1d\"},\"y_scale\":{\"id\":\"e20ca34c-36b4-4161-ba93-be60641572b4\",\"type\":\"LinearScale\"}},\"id\":\"294654bf-2a35-43b3-a2aa-eea132ffd671\",\"subtype\":\"Figure\",\"type\":\"Plot\"},{\"attributes\":{},\"id\":\"9df83120-45f4-4ad6-9d82-f76cd870bac1\",\"type\":\"Selection\"},{\"attributes\":{},\"id\":\"6bb41b78-baa4-42e1-8df2-9f1175b184fd\",\"type\":\"CategoricalTickFormatter\"},{\"attributes\":{\"toolbar\":{\"id\":\"d5865a6c-a247-418f-8a82-2b58b2d3fc6c\",\"type\":\"ProxyToolbar\"},\"toolbar_location\":\"above\"},\"id\":\"eae33b45-77b1-4ba5-92ed-4c7ca22064e9\",\"type\":\"ToolbarBox\"},{\"attributes\":{\"callback\":null},\"id\":\"f523ff11-5a9f-428f-99c1-79c8c3b52648\",\"type\":\"DataRange1d\"},{\"attributes\":{\"source\":{\"id\":\"8e140194-3973-425c-a5e1-78877052ed0b\",\"type\":\"ColumnDataSource\"}},\"id\":\"62b944bd-554f-41ea-831a-4fe3eb43b6f7\",\"type\":\"CDSView\"},{\"attributes\":{},\"id\":\"b4e9a76e-0bde-4b0c-86ca-9dbe0a111f55\",\"type\":\"WheelZoomTool\"},{\"attributes\":{\"callback\":null,\"factors\":[\"1\",\"2\",\"3\",\"4\",\"5\",\"6\",\"7\",\"8\",\"9\",\"10\",\"11\"]},\"id\":\"c0785517-b003-4de0-b000-c54d117a9720\",\"type\":\"FactorRange\"},{\"attributes\":{},\"id\":\"4edb7302-60c3-4d93-a061-b76d0ad1b0ae\",\"type\":\"BasicTickFormatter\"},{\"attributes\":{\"overlay\":{\"id\":\"baa3e591-b015-4466-a2eb-a8489bd1285d\",\"type\":\"BoxAnnotation\"}},\"id\":\"d52245a6-2c88-44e0-bcd4-09d362bf2ad5\",\"type\":\"BoxZoomTool\"},{\"attributes\":{\"overlay\":{\"id\":\"5444a687-0013-46a6-b81f-bee0517c3c7a\",\"type\":\"BoxAnnotation\"}},\"id\":\"838eb957-7648-4eb4-9f2b-6d78f59a21b2\",\"type\":\"BoxZoomTool\"},{\"attributes\":{},\"id\":\"69e88163-fa38-4b33-bfee-42be8d17c18d\",\"type\":\"Selection\"},{\"attributes\":{},\"id\":\"7ed37892-eb8e-435b-b768-da9216dd7039\",\"type\":\"CategoricalTickFormatter\"},{\"attributes\":{},\"id\":\"b46ff067-68b7-4ff8-b4a1-975c35844b83\",\"type\":\"CategoricalScale\"},{\"attributes\":{},\"id\":\"66fbabe8-2d66-4ab0-b000-5461eb051b6e\",\"type\":\"CategoricalTicker\"},{\"attributes\":{\"fill_color\":{\"value\":\"#1f77b4\"},\"line_color\":{\"value\":\"#1f77b4\"},\"top\":{\"field\":\"flux\"},\"width\":{\"value\":0.9},\"x\":{\"field\":\"band\"}},\"id\":\"b55c9d18-bdb6-482a-b883-6dadeae3bab4\",\"type\":\"VBar\"},{\"attributes\":{},\"id\":\"ca2d95c6-3108-49ae-89f6-e21d686bc48d\",\"type\":\"LinearScale\"},{\"attributes\":{\"fill_alpha\":{\"value\":0.1},\"fill_color\":{\"value\":\"#1f77b4\"},\"line_alpha\":{\"value\":0.1},\"line_color\":{\"value\":\"#1f77b4\"},\"top\":{\"field\":\"flux\"},\"width\":{\"value\":0.9},\"x\":{\"field\":\"band\"}},\"id\":\"ad3575cf-4574-4242-9b17-b89e0ac5866b\",\"type\":\"VBar\"},{\"attributes\":{\"bottom_units\":\"screen\",\"fill_alpha\":{\"value\":0.5},\"fill_color\":{\"value\":\"lightgrey\"},\"left_units\":\"screen\",\"level\":\"overlay\",\"line_alpha\":{\"value\":1.0},\"line_color\":{\"value\":\"black\"},\"line_dash\":[4,4],\"line_width\":{\"value\":2},\"plot\":null,\"render_mode\":\"css\",\"right_units\":\"screen\",\"top_units\":\"screen\"},\"id\":\"1861a6bf-a369-4ac9-b356-83ced5f77863\",\"type\":\"BoxAnnotation\"},{\"attributes\":{\"callback\":null},\"id\":\"66d5625c-d0e3-4e55-baab-3208fec39591\",\"type\":\"DataRange1d\"},{\"attributes\":{\"callback\":null,\"factors\":[\"1\",\"2\",\"3\",\"4\",\"5\",\"6\",\"7\",\"8\",\"9\",\"10\",\"11\"]},\"id\":\"00dd59f0-1caf-4c7d-ac30-62efc00cc868\",\"type\":\"FactorRange\"},{\"attributes\":{\"active_drag\":\"auto\",\"active_inspect\":\"auto\",\"active_scroll\":\"auto\",\"active_tap\":\"auto\",\"tools\":[{\"id\":\"fc44bb77-17e6-40ec-ab6f-27441b267c41\",\"type\":\"PanTool\"},{\"id\":\"4baa1968-c72d-4cb3-9606-e245e3133da9\",\"type\":\"WheelZoomTool\"},{\"id\":\"0a2c857c-d3f8-4af3-9702-f6f4072ae7ff\",\"type\":\"BoxZoomTool\"},{\"id\":\"7822df9a-49d1-4fc8-9aee-509f46ae0a22\",\"type\":\"SaveTool\"},{\"id\":\"645797cf-0c52-46da-85b1-f16108e471fe\",\"type\":\"ResetTool\"},{\"id\":\"7f1cad3b-ea34-456d-acdd-f81bb0f83391\",\"type\":\"HelpTool\"}]},\"id\":\"db4e4e39-7764-43ca-9d62-ac89cc517bd9\",\"type\":\"Toolbar\"},{\"attributes\":{},\"id\":\"bb7947d9-af63-4869-9e77-757c5418c70f\",\"type\":\"ResetTool\"},{\"attributes\":{\"fill_color\":{\"value\":\"#1f77b4\"},\"line_color\":{\"value\":\"#1f77b4\"},\"top\":{\"field\":\"flux\"},\"width\":{\"value\":0.9},\"x\":{\"field\":\"band\"}},\"id\":\"d4aa0d71-0c1d-4a65-a5d4-eeed78315e56\",\"type\":\"VBar\"},{\"attributes\":{},\"id\":\"06632b93-ed47-49e0-a0c1-9a3e718559be\",\"type\":\"UnionRenderers\"},{\"attributes\":{},\"id\":\"f1508d6a-a31d-480a-9195-bc29caa48d23\",\"type\":\"HelpTool\"},{\"attributes\":{},\"id\":\"69d7d612-a615-4278-9f9a-e964263f968e\",\"type\":\"HelpTool\"},{\"attributes\":{},\"id\":\"4c211154-5b62-43db-96c2-77d3f46a30e9\",\"type\":\"ResetTool\"},{\"attributes\":{},\"id\":\"2a4aa240-73f0-48e7-bbf4-9cd7f93a47d8\",\"type\":\"BasicTickFormatter\"},{\"attributes\":{},\"id\":\"37effaaf-f3e0-4b6b-bcee-c7d66c330a41\",\"type\":\"SaveTool\"},{\"attributes\":{\"dimension\":1,\"plot\":{\"id\":\"ae3def85-2aba-4218-a935-0b70b07b72a2\",\"subtype\":\"Figure\",\"type\":\"Plot\"},\"ticker\":{\"id\":\"9196a15f-47be-4d0f-92a6-63cfc3e9bb76\",\"type\":\"BasicTicker\"}},\"id\":\"d2cbdbdf-5235-4315-b2f6-8077f07e1caa\",\"type\":\"Grid\"},{\"attributes\":{},\"id\":\"8a581f14-e821-42cb-91da-713d3d313629\",\"type\":\"CategoricalScale\"},{\"attributes\":{},\"id\":\"4457a5a0-46d1-4b70-8c1a-cd69a19bab2d\",\"type\":\"SaveTool\"},{\"attributes\":{\"axis_label\":\"spectral band\",\"formatter\":{\"id\":\"6bb41b78-baa4-42e1-8df2-9f1175b184fd\",\"type\":\"CategoricalTickFormatter\"},\"plot\":{\"id\":\"ae3def85-2aba-4218-a935-0b70b07b72a2\",\"subtype\":\"Figure\",\"type\":\"Plot\"},\"ticker\":{\"id\":\"66fbabe8-2d66-4ab0-b000-5461eb051b6e\",\"type\":\"CategoricalTicker\"}},\"id\":\"1f90522f-7ae3-4a44-8bfc-38353f139518\",\"type\":\"CategoricalAxis\"},{\"attributes\":{\"plot\":{\"id\":\"ae3def85-2aba-4218-a935-0b70b07b72a2\",\"subtype\":\"Figure\",\"type\":\"Plot\"},\"ticker\":{\"id\":\"66fbabe8-2d66-4ab0-b000-5461eb051b6e\",\"type\":\"CategoricalTicker\"}},\"id\":\"4abdc75b-d656-4473-a012-a540f41ada63\",\"type\":\"Grid\"},{\"attributes\":{},\"id\":\"b5566e5a-efdf-4456-8070-de6903c866e4\",\"type\":\"PanTool\"},{\"attributes\":{\"axis_label\":\"flux (W m-2)\",\"formatter\":{\"id\":\"2a4aa240-73f0-48e7-bbf4-9cd7f93a47d8\",\"type\":\"BasicTickFormatter\"},\"plot\":{\"id\":\"ae3def85-2aba-4218-a935-0b70b07b72a2\",\"subtype\":\"Figure\",\"type\":\"Plot\"},\"ticker\":{\"id\":\"9196a15f-47be-4d0f-92a6-63cfc3e9bb76\",\"type\":\"BasicTicker\"}},\"id\":\"fc6c7c1e-88a6-4bd6-bc57-cc0c9f735972\",\"type\":\"LinearAxis\"},{\"attributes\":{},\"id\":\"e0db3f59-91f6-45a2-87f7-c03a4fbe8f81\",\"type\":\"CategoricalTickFormatter\"},{\"attributes\":{\"source\":{\"id\":\"93418125-e71e-459c-9dd7-5cca6de58a3b\",\"type\":\"ColumnDataSource\"}},\"id\":\"1cfd0997-2be1-4fbf-95b0-87c3ca510e69\",\"type\":\"CDSView\"},{\"attributes\":{\"dimension\":1,\"plot\":{\"id\":\"294654bf-2a35-43b3-a2aa-eea132ffd671\",\"subtype\":\"Figure\",\"type\":\"Plot\"},\"ticker\":{\"id\":\"e94807dc-0d3f-4f17-90cf-c28ea0d83eb6\",\"type\":\"BasicTicker\"}},\"id\":\"ab9edb44-af04-45c7-b919-25c91f278a73\",\"type\":\"Grid\"},{\"attributes\":{},\"id\":\"abf4289e-d1e4-4320-96bb-efc85d6172d6\",\"type\":\"LinearScale\"},{\"attributes\":{},\"id\":\"b5d0ff79-deb7-408f-9153-4ecbb694f899\",\"type\":\"CategoricalTicker\"},{\"attributes\":{\"children\":[{\"id\":\"717480d6-c6a2-4d90-bdb7-6466e8e59453\",\"type\":\"Row\"}]},\"id\":\"a900709c-0cc5-4a07-a5c5-dd83b09b6d48\",\"type\":\"Column\"},{\"attributes\":{\"axis_label\":\"spectral band\",\"formatter\":{\"id\":\"e0db3f59-91f6-45a2-87f7-c03a4fbe8f81\",\"type\":\"CategoricalTickFormatter\"},\"plot\":{\"id\":\"294654bf-2a35-43b3-a2aa-eea132ffd671\",\"subtype\":\"Figure\",\"type\":\"Plot\"},\"ticker\":{\"id\":\"b5d0ff79-deb7-408f-9153-4ecbb694f899\",\"type\":\"CategoricalTicker\"}},\"id\":\"8cb7bdd0-6666-43a8-bb41-dcef9d15ad16\",\"type\":\"CategoricalAxis\"},{\"attributes\":{},\"id\":\"645797cf-0c52-46da-85b1-f16108e471fe\",\"type\":\"ResetTool\"},{\"attributes\":{\"fill_alpha\":{\"value\":0.1},\"fill_color\":{\"value\":\"#1f77b4\"},\"line_alpha\":{\"value\":0.1},\"line_color\":{\"value\":\"#1f77b4\"},\"top\":{\"field\":\"flux\"},\"width\":{\"value\":0.9},\"x\":{\"field\":\"band\"}},\"id\":\"90a34b7a-af56-4689-9f3c-b39f09c4b22f\",\"type\":\"VBar\"},{\"attributes\":{\"below\":[{\"id\":\"1f90522f-7ae3-4a44-8bfc-38353f139518\",\"type\":\"CategoricalAxis\"}],\"left\":[{\"id\":\"fc6c7c1e-88a6-4bd6-bc57-cc0c9f735972\",\"type\":\"LinearAxis\"}],\"plot_height\":300,\"plot_width\":300,\"renderers\":[{\"id\":\"1f90522f-7ae3-4a44-8bfc-38353f139518\",\"type\":\"CategoricalAxis\"},{\"id\":\"4abdc75b-d656-4473-a012-a540f41ada63\",\"type\":\"Grid\"},{\"id\":\"fc6c7c1e-88a6-4bd6-bc57-cc0c9f735972\",\"type\":\"LinearAxis\"},{\"id\":\"d2cbdbdf-5235-4315-b2f6-8077f07e1caa\",\"type\":\"Grid\"},{\"id\":\"5444a687-0013-46a6-b81f-bee0517c3c7a\",\"type\":\"BoxAnnotation\"},{\"id\":\"9f0d8eaa-5881-4049-89b1-7dd824d5d601\",\"type\":\"GlyphRenderer\"}],\"title\":{\"id\":\"6003823a-f36a-41db-88c8-fcc0a9d6f866\",\"type\":\"Title\"},\"toolbar\":{\"id\":\"40813f6a-d717-4b32-bf3b-5cf69cc57de0\",\"type\":\"Toolbar\"},\"toolbar_location\":null,\"x_range\":{\"id\":\"00dd59f0-1caf-4c7d-ac30-62efc00cc868\",\"type\":\"FactorRange\"},\"x_scale\":{\"id\":\"b46ff067-68b7-4ff8-b4a1-975c35844b83\",\"type\":\"CategoricalScale\"},\"y_range\":{\"id\":\"66d5625c-d0e3-4e55-baab-3208fec39591\",\"type\":\"DataRange1d\"},\"y_scale\":{\"id\":\"ca2d95c6-3108-49ae-89f6-e21d686bc48d\",\"type\":\"LinearScale\"}},\"id\":\"ae3def85-2aba-4218-a935-0b70b07b72a2\",\"subtype\":\"Figure\",\"type\":\"Plot\"},{\"attributes\":{\"active_drag\":\"auto\",\"active_inspect\":\"auto\",\"active_scroll\":\"auto\",\"active_tap\":\"auto\",\"tools\":[{\"id\":\"41d2a635-e381-455c-a7dd-0e64f73e1181\",\"type\":\"PanTool\"},{\"id\":\"e34a73f8-cbde-4994-a7c5-bd9d292a018c\",\"type\":\"WheelZoomTool\"},{\"id\":\"d52245a6-2c88-44e0-bcd4-09d362bf2ad5\",\"type\":\"BoxZoomTool\"},{\"id\":\"4457a5a0-46d1-4b70-8c1a-cd69a19bab2d\",\"type\":\"SaveTool\"},{\"id\":\"4c211154-5b62-43db-96c2-77d3f46a30e9\",\"type\":\"ResetTool\"},{\"id\":\"f1508d6a-a31d-480a-9195-bc29caa48d23\",\"type\":\"HelpTool\"}]},\"id\":\"b20a50d5-d273-4b77-b6ae-e2dc820a8f9e\",\"type\":\"Toolbar\"},{\"attributes\":{},\"id\":\"e94807dc-0d3f-4f17-90cf-c28ea0d83eb6\",\"type\":\"BasicTicker\"},{\"attributes\":{},\"id\":\"7822df9a-49d1-4fc8-9aee-509f46ae0a22\",\"type\":\"SaveTool\"},{\"attributes\":{},\"id\":\"fc44bb77-17e6-40ec-ab6f-27441b267c41\",\"type\":\"PanTool\"},{\"attributes\":{\"data_source\":{\"id\":\"693dd754-cf36-460c-b025-f96753ae4b76\",\"type\":\"ColumnDataSource\"},\"glyph\":{\"id\":\"5039868d-66b7-4bc9-9583-4cdbaa24f920\",\"type\":\"VBar\"},\"hover_glyph\":null,\"muted_glyph\":null,\"nonselection_glyph\":{\"id\":\"90a34b7a-af56-4689-9f3c-b39f09c4b22f\",\"type\":\"VBar\"},\"selection_glyph\":null,\"view\":{\"id\":\"188a0ad0-3939-4703-8612-03686b702c91\",\"type\":\"CDSView\"}},\"id\":\"7c916111-9d53-4462-9bc4-e2ef54494fa7\",\"type\":\"GlyphRenderer\"},{\"attributes\":{},\"id\":\"e34a73f8-cbde-4994-a7c5-bd9d292a018c\",\"type\":\"WheelZoomTool\"},{\"attributes\":{},\"id\":\"ed0ad63d-45ca-4f6e-a5b6-d9928271ef18\",\"type\":\"BasicTicker\"},{\"attributes\":{},\"id\":\"7e80f04a-2e02-4690-aacc-4a938eb90a1e\",\"type\":\"CategoricalScale\"},{\"attributes\":{\"axis_label\":\"spectral band\",\"formatter\":{\"id\":\"7ed37892-eb8e-435b-b768-da9216dd7039\",\"type\":\"CategoricalTickFormatter\"},\"plot\":{\"id\":\"db0bf97f-9b61-43c7-afb6-7b1543c7b770\",\"subtype\":\"Figure\",\"type\":\"Plot\"},\"ticker\":{\"id\":\"efdac112-716a-4ce4-afd2-181f4ad60bd2\",\"type\":\"CategoricalTicker\"}},\"id\":\"5f4fa5d7-bc45-4195-96e5-0f2bfc01fd3b\",\"type\":\"CategoricalAxis\"},{\"attributes\":{\"callback\":null,\"factors\":[\"1\",\"2\",\"3\",\"4\",\"5\",\"6\",\"7\",\"8\",\"9\",\"10\",\"11\"]},\"id\":\"b4469f63-f166-4c5d-abaf-0d93de29185b\",\"type\":\"FactorRange\"},{\"attributes\":{\"fill_color\":{\"value\":\"#1f77b4\"},\"line_color\":{\"value\":\"#1f77b4\"},\"top\":{\"field\":\"flux\"},\"width\":{\"value\":0.9},\"x\":{\"field\":\"band\"}},\"id\":\"5039868d-66b7-4bc9-9583-4cdbaa24f920\",\"type\":\"VBar\"},{\"attributes\":{},\"id\":\"e20ca34c-36b4-4161-ba93-be60641572b4\",\"type\":\"LinearScale\"},{\"attributes\":{\"fill_alpha\":{\"value\":0.1},\"fill_color\":{\"value\":\"#1f77b4\"},\"line_alpha\":{\"value\":0.1},\"line_color\":{\"value\":\"#1f77b4\"},\"top\":{\"field\":\"flux\"},\"width\":{\"value\":0.9},\"x\":{\"field\":\"band\"}},\"id\":\"5a72883c-6c18-46bf-89ca-e46f54a01ef6\",\"type\":\"VBar\"},{\"attributes\":{},\"id\":\"41d2a635-e381-455c-a7dd-0e64f73e1181\",\"type\":\"PanTool\"},{\"attributes\":{},\"id\":\"4baa1968-c72d-4cb3-9606-e245e3133da9\",\"type\":\"WheelZoomTool\"},{\"attributes\":{\"dimension\":1,\"plot\":{\"id\":\"db0bf97f-9b61-43c7-afb6-7b1543c7b770\",\"subtype\":\"Figure\",\"type\":\"Plot\"},\"ticker\":{\"id\":\"ed0ad63d-45ca-4f6e-a5b6-d9928271ef18\",\"type\":\"BasicTicker\"}},\"id\":\"423ebf43-c911-4608-9270-c2c747d16419\",\"type\":\"Grid\"},{\"attributes\":{},\"id\":\"7f1cad3b-ea34-456d-acdd-f81bb0f83391\",\"type\":\"HelpTool\"},{\"attributes\":{\"plot\":null,\"text\":\"Atmosphere heating. CLIRAD (single-run) - CRD.\"},\"id\":\"cf7562ac-cae5-4ec8-abcf-cc11670fbb7c\",\"type\":\"Title\"},{\"attributes\":{\"plot\":null,\"text\":\"TOA flux. CLIRAD (single-run) - CRD.\"},\"id\":\"6003823a-f36a-41db-88c8-fcc0a9d6f866\",\"type\":\"Title\"},{\"attributes\":{\"axis_label\":\"flux (W m-2)\",\"formatter\":{\"id\":\"4edb7302-60c3-4d93-a061-b76d0ad1b0ae\",\"type\":\"BasicTickFormatter\"},\"plot\":{\"id\":\"294654bf-2a35-43b3-a2aa-eea132ffd671\",\"subtype\":\"Figure\",\"type\":\"Plot\"},\"ticker\":{\"id\":\"e94807dc-0d3f-4f17-90cf-c28ea0d83eb6\",\"type\":\"BasicTicker\"}},\"id\":\"39e1709e-a914-40a7-883d-519439433045\",\"type\":\"LinearAxis\"},{\"attributes\":{\"overlay\":{\"id\":\"1861a6bf-a369-4ac9-b356-83ced5f77863\",\"type\":\"BoxAnnotation\"}},\"id\":\"0a2c857c-d3f8-4af3-9702-f6f4072ae7ff\",\"type\":\"BoxZoomTool\"},{\"attributes\":{},\"id\":\"efdac112-716a-4ce4-afd2-181f4ad60bd2\",\"type\":\"CategoricalTicker\"},{\"attributes\":{\"data_source\":{\"id\":\"93418125-e71e-459c-9dd7-5cca6de58a3b\",\"type\":\"ColumnDataSource\"},\"glyph\":{\"id\":\"d4aa0d71-0c1d-4a65-a5d4-eeed78315e56\",\"type\":\"VBar\"},\"hover_glyph\":null,\"muted_glyph\":null,\"nonselection_glyph\":{\"id\":\"ad3575cf-4574-4242-9b17-b89e0ac5866b\",\"type\":\"VBar\"},\"selection_glyph\":null,\"view\":{\"id\":\"1cfd0997-2be1-4fbf-95b0-87c3ca510e69\",\"type\":\"CDSView\"}},\"id\":\"9f0d8eaa-5881-4049-89b1-7dd824d5d601\",\"type\":\"GlyphRenderer\"},{\"attributes\":{\"axis_label\":\"flux (W m-2)\",\"formatter\":{\"id\":\"f0d6fab8-1306-4558-84ee-b69b3f5d878b\",\"type\":\"BasicTickFormatter\"},\"plot\":{\"id\":\"db0bf97f-9b61-43c7-afb6-7b1543c7b770\",\"subtype\":\"Figure\",\"type\":\"Plot\"},\"ticker\":{\"id\":\"ed0ad63d-45ca-4f6e-a5b6-d9928271ef18\",\"type\":\"BasicTicker\"}},\"id\":\"e8e7bdd1-102d-4fba-b984-0dbc267c3172\",\"type\":\"LinearAxis\"},{\"attributes\":{\"callback\":null,\"data\":{\"band\":[\"1\",\"2\",\"3\",\"4\",\"5\",\"6\",\"7\",\"8\",\"9\",\"10\",\"11\"],\"flux\":{\"__ndarray__\":\"AAAAAyUF9r4AgsR29wDYPwC4H/DAANO/ANyul6YIsD+Ajh6/t+nfPwB0ImabwLM/ALE8WXvplz9gN3gVCPHBv4A0KnCyDcY/AKBF71TAjT8AcGzRXW2APw==\",\"dtype\":\"float64\",\"shape\":[11]}},\"selected\":{\"id\":\"9df83120-45f4-4ad6-9d82-f76cd870bac1\",\"type\":\"Selection\"},\"selection_policy\":{\"id\":\"4396f740-eec4-45d0-b080-62efcaa2656d\",\"type\":\"UnionRenderers\"}},\"id\":\"8e140194-3973-425c-a5e1-78877052ed0b\",\"type\":\"ColumnDataSource\"},{\"attributes\":{\"plot\":{\"id\":\"294654bf-2a35-43b3-a2aa-eea132ffd671\",\"subtype\":\"Figure\",\"type\":\"Plot\"},\"ticker\":{\"id\":\"b5d0ff79-deb7-408f-9153-4ecbb694f899\",\"type\":\"CategoricalTicker\"}},\"id\":\"9e7076c8-2907-4a15-b062-79a8a263e85f\",\"type\":\"Grid\"},{\"attributes\":{\"data_source\":{\"id\":\"8e140194-3973-425c-a5e1-78877052ed0b\",\"type\":\"ColumnDataSource\"},\"glyph\":{\"id\":\"b55c9d18-bdb6-482a-b883-6dadeae3bab4\",\"type\":\"VBar\"},\"hover_glyph\":null,\"muted_glyph\":null,\"nonselection_glyph\":{\"id\":\"5a72883c-6c18-46bf-89ca-e46f54a01ef6\",\"type\":\"VBar\"},\"selection_glyph\":null,\"view\":{\"id\":\"62b944bd-554f-41ea-831a-4fe3eb43b6f7\",\"type\":\"CDSView\"}},\"id\":\"9a17db04-d183-4c9c-b804-992ff938ccfc\",\"type\":\"GlyphRenderer\"},{\"attributes\":{\"callback\":null},\"id\":\"5c3a9282-06f7-420a-8e6b-e1383aee10e7\",\"type\":\"DataRange1d\"},{\"attributes\":{\"callback\":null,\"data\":{\"band\":[\"1\",\"2\",\"3\",\"4\",\"5\",\"6\",\"7\",\"8\",\"9\",\"10\",\"11\"],\"flux\":{\"__ndarray__\":\"AEILCRhdyD+AzEHQ0arSP0DMe5xpwtO/gGStodRe0z/ASgaAKm7QPwBwl/2607G/QKz+CMOA2D8ASdv4E5W5vwC2wvS9hpC/YNQ5UPHJwD9AvtXft8awPw==\",\"dtype\":\"float64\",\"shape\":[11]}},\"selected\":{\"id\":\"69e88163-fa38-4b33-bfee-42be8d17c18d\",\"type\":\"Selection\"},\"selection_policy\":{\"id\":\"06632b93-ed47-49e0-a0c1-9a3e718559be\",\"type\":\"UnionRenderers\"}},\"id\":\"93418125-e71e-459c-9dd7-5cca6de58a3b\",\"type\":\"ColumnDataSource\"},{\"attributes\":{\"plot\":{\"id\":\"db0bf97f-9b61-43c7-afb6-7b1543c7b770\",\"subtype\":\"Figure\",\"type\":\"Plot\"},\"ticker\":{\"id\":\"efdac112-716a-4ce4-afd2-181f4ad60bd2\",\"type\":\"CategoricalTicker\"}},\"id\":\"0c1bc54a-81c3-433d-88ff-94874eed904a\",\"type\":\"Grid\"},{\"attributes\":{\"source\":{\"id\":\"693dd754-cf36-460c-b025-f96753ae4b76\",\"type\":\"ColumnDataSource\"}},\"id\":\"188a0ad0-3939-4703-8612-03686b702c91\",\"type\":\"CDSView\"}],\"root_ids\":[\"3970c0cb-df37-4b45-a9d8-e7a052476c6a\"]},\"title\":\"Bokeh Application\",\"version\":\"0.12.16\"}};\n",
       "  var render_items = [{\"docid\":\"b57f17a6-0209-42c2-a444-eab53767138b\",\"elementid\":\"67f47fb6-895e-4d48-b6f0-afa60fc9ad9f\",\"modelid\":\"3970c0cb-df37-4b45-a9d8-e7a052476c6a\"}];\n",
       "  root.Bokeh.embed.embed_items_notebook(docs_json, render_items);\n",
       "\n",
       "  }\n",
       "  if (root.Bokeh !== undefined) {\n",
       "    embed_document(root);\n",
       "  } else {\n",
       "    var attempts = 0;\n",
       "    var timer = setInterval(function(root) {\n",
       "      if (root.Bokeh !== undefined) {\n",
       "        embed_document(root);\n",
       "        clearInterval(timer);\n",
       "      }\n",
       "      attempts++;\n",
       "      if (attempts > 100) {\n",
       "        console.log(\"Bokeh: ERROR: Unable to run BokehJS code because BokehJS library is missing\")\n",
       "        clearInterval(timer);\n",
       "      }\n",
       "    }, 10, root)\n",
       "  }\n",
       "})(window);"
      ],
      "application/vnd.bokehjs_exec.v0+json": ""
     },
     "metadata": {
      "application/vnd.bokehjs_exec.v0+json": {
       "id": "3970c0cb-df37-4b45-a9d8-e7a052476c6a"
      }
     },
     "output_type": "display_data"
    },
    {
     "data": {
      "text/markdown": [
       "*FIGURE.* Difference between CLIRAD and CRD in TOA, SFC and net atmosphere flux, in each spectral band."
      ],
      "text/plain": [
       "<IPython.core.display.Markdown object>"
      ]
     },
     "metadata": {},
     "output_type": "display_data"
    },
    {
     "data": {
      "text/html": [
       "<div>\n",
       "<style scoped>\n",
       "    .dataframe tbody tr th:only-of-type {\n",
       "        vertical-align: middle;\n",
       "    }\n",
       "\n",
       "    .dataframe tbody tr th {\n",
       "        vertical-align: top;\n",
       "    }\n",
       "\n",
       "    .dataframe thead th {\n",
       "        text-align: right;\n",
       "    }\n",
       "</style>\n",
       "<table border=\"1\" class=\"dataframe\">\n",
       "  <thead>\n",
       "    <tr style=\"text-align: right;\">\n",
       "      <th></th>\n",
       "      <th>OLR flux</th>\n",
       "      <th>SFC flux</th>\n",
       "      <th>ATM heating</th>\n",
       "    </tr>\n",
       "    <tr>\n",
       "      <th>Sum over bands</th>\n",
       "      <th></th>\n",
       "      <th></th>\n",
       "      <th></th>\n",
       "    </tr>\n",
       "  </thead>\n",
       "  <tbody>\n",
       "    <tr>\n",
       "      <th>old CLIRAD - CRD</th>\n",
       "      <td>0.14</td>\n",
       "      <td>2.01</td>\n",
       "      <td>-1.73</td>\n",
       "    </tr>\n",
       "    <tr>\n",
       "      <th>CLIRAD (single-run) - CRD</th>\n",
       "      <td>1.13</td>\n",
       "      <td>0.79</td>\n",
       "      <td>0.33</td>\n",
       "    </tr>\n",
       "    <tr>\n",
       "      <th>CRD</th>\n",
       "      <td>-290.39</td>\n",
       "      <td>308.14</td>\n",
       "      <td>-174.89</td>\n",
       "    </tr>\n",
       "  </tbody>\n",
       "</table>\n",
       "</div>"
      ],
      "text/plain": [
       "                           OLR flux  SFC flux  ATM heating\n",
       "Sum over bands                                            \n",
       "old CLIRAD - CRD               0.14      2.01        -1.73\n",
       "CLIRAD (single-run) - CRD      1.13      0.79         0.33\n",
       "CRD                         -290.39    308.14      -174.89"
      ]
     },
     "metadata": {},
     "output_type": "display_data"
    },
    {
     "data": {
      "text/markdown": [
       "*TABLE.* Difference between CLIRAD and CRD in TOA, SFC and net atmosphere flux, over all spectral bands. CRD's TOA, SFC and net atmosphere flux, over all spectral bands."
      ],
      "text/plain": [
       "<IPython.core.display.Markdown object>"
      ]
     },
     "metadata": {},
     "output_type": "display_data"
    },
    {
     "data": {
      "text/html": [
       "<a id=\"Cooling_rates._saw.\"></a>"
      ],
      "text/plain": [
       "<IPython.core.display.HTML object>"
      ]
     },
     "metadata": {},
     "output_type": "display_data"
    },
    {
     "data": {
      "text/markdown": [
       "# Cooling rates. saw."
      ],
      "text/plain": [
       "<IPython.core.display.Markdown object>"
      ]
     },
     "metadata": {},
     "output_type": "display_data"
    },
    {
     "data": {
      "text/html": [
       "\n",
       "<div class=\"bk-root\">\n",
       "    <div class=\"bk-plotdiv\" id=\"c3ba7ed2-4365-4be2-bc7a-b56455932942\"></div>\n",
       "</div>"
      ]
     },
     "metadata": {},
     "output_type": "display_data"
    },
    {
     "data": {
      "application/javascript": [
       "(function(root) {\n",
       "  function embed_document(root) {\n",
       "    \n",
       "  var docs_json = {\"f6e87ea0-7236-4b59-b9e8-2495afb36605\":{\"roots\":{\"references\":[{\"attributes\":{\"bottom_units\":\"screen\",\"fill_alpha\":{\"value\":0.5},\"fill_color\":{\"value\":\"lightgrey\"},\"left_units\":\"screen\",\"level\":\"overlay\",\"line_alpha\":{\"value\":1.0},\"line_color\":{\"value\":\"black\"},\"line_dash\":[4,4],\"line_width\":{\"value\":2},\"plot\":null,\"render_mode\":\"css\",\"right_units\":\"screen\",\"top_units\":\"screen\"},\"id\":\"daf9458e-e2f6-4f09-9970-8a2c0d4f1d2d\",\"type\":\"BoxAnnotation\"},{\"attributes\":{},\"id\":\"c0374aad-12a4-47c1-9b49-d5fe856a9ee4\",\"type\":\"ResetTool\"},{\"attributes\":{},\"id\":\"f7381488-58a0-4167-9d7f-8a4111f61055\",\"type\":\"PanTool\"},{\"attributes\":{},\"id\":\"2490bf71-0182-413d-a500-c6573d52bf08\",\"type\":\"Selection\"},{\"attributes\":{\"bottom_units\":\"screen\",\"fill_alpha\":{\"value\":0.5},\"fill_color\":{\"value\":\"lightgrey\"},\"left_units\":\"screen\",\"level\":\"overlay\",\"line_alpha\":{\"value\":1.0},\"line_color\":{\"value\":\"black\"},\"line_dash\":[4,4],\"line_width\":{\"value\":2},\"plot\":null,\"render_mode\":\"css\",\"right_units\":\"screen\",\"top_units\":\"screen\"},\"id\":\"7fec47c5-9ec0-4989-83a0-bf1c792381af\",\"type\":\"BoxAnnotation\"},{\"attributes\":{\"callback\":null,\"data\":{\"x\":{\"__ndarray__\":\"dPEGK8OVQEDeoOdcKI48QFbHwpv6Wj5Ay6P+H0H1PkDQ4Pw1Pwc+QE/QQMz8iTtA2A4AykzZN0DdjedX4NEzQGtNrhl/gDBA2D3w2wNCLUCD8yO1LFEsQMSh3yrZ2SxAddHY/lW3LUCQJQyh8TwtQDsZ7GODoSpAi6Dn/2tIJ0DnDLMq6HUkQI7khOlE0SJADOiE4G6jIkCA/E90r7ojQD4p//OgKSZA0QfX6dGqJUCyytltEichQGghgfXIYRlAYiDp91xnE0B2wNHWtrQPQJ4m9qB2vgpAeJDQ8VfQBUDZ0VLI7iYCQFfZT3TydP8/LweR0IUK/T/QULeHxNj4P2vv6z6eL/Q/zgHEDC0f8T/QFWBxKcbuP44Jru1pXOw/gHqFfZV+5z+OfasQZCrhP6t1AyXK0t0/lna9be4v3T/c2Wqej6reP35gz5e/Ud4/nMqPj0zn3D8LaSXAL2PaPwxLIAIe8tI/ycIIktEE0T/QBmDBekPcP1FO88ASwOM/Iq2sIt+z6z9G6FH1eCvyPxuVEdtBb/U/iGRHMeCT9z8UPT1a/HH4P34cIRzqbvg/BVL+/E89+D8UZw90MO/3Pxe6cKnMffc/gpFKgkbl9j+HrQkEYjP2P3zN2LsygPU/XbOBIde49D8Mb12IkenzP3WIqqFOEvM/areay8ZI8j+L6oiWEKHxPzKOAUHPLvE/uT5D5rAN8T9sYOhno1DxP+7HZ16AqPE/jCnpRRNe8T/L5uQkGIfvP9VKN758h+o/8f1zKreS5T9uCZ6e1UPhP0M/OoB87NY/\",\"dtype\":\"float64\",\"shape\":[75]},\"y\":{\"__ndarray__\":\"GhExyth1ND/Sv8nbtpRIP2vylNV0PVE/aTum7souWD/At0SJ8fVgPw3Iuahxymc/MSNhhJWvcD/bTfBN02d3P2zb5nxnaoA/CD5h5MAGhz8NmeH1TyaQP+zrCsc9p5Y/LbKd76fGnz/bLW5ISEmmPww9YvTcQq8/JV2OstnstT8Er5Y7M8G+P0c+r3jqkcU/5h99k6ZBzj88bCIzFzjVP4enV8oyxN0//yH99nXg5D8qOpLLf0jtP5kqGJXUifQ/c9cS8kHP/D+/DpwzojQEQIEmwoanVwxA4lgXt9HgE0BSSZ2AJuIbQAMJih9jjiNA5q4l5INuK0AwTKYKRj0zQNv5fmq8/DpAaCJseHrtQkB/+zpwzoxKQM3MzMzMeFJAZmZmZmZqWEAAAAAAAFxeQM3MzMzMJmJAmpmZmZkfZUBmZmZmZhhoQDMzMzMzEWtAAAAAAAAKbkBmZmZmZoFwQM3MzMzM/XFAMzMzMzN6c0CamZmZmfZ0QAAAAAAAc3ZAZmZmZmbvd0DNzMzMzGt5QDMzMzMz6HpAmpmZmZlkfEAAAAAAAOF9QGZmZmZmXX9AZmZmZuZsgECamZmZGSuBQM3MzMxM6YFAAAAAAICngkAzMzMzs2WDQGZmZmbmI4RAmpmZmRnihEDNzMzMTKCFQAAAAACAXoZAMzMzM7Mch0BmZmZm5tqHQJqZmZkZmYhAzczMzExXiUAAAAAAgBWKQDMzMzOz04pAZmZmZuaRi0CamZmZGVCMQM3MzMxMDo1AAAAAAIDMjUAzMzMzs4qOQGZmZmbmSI9A\",\"dtype\":\"float64\",\"shape\":[75]}},\"selected\":{\"id\":\"91cd7be3-79a3-4134-96ab-01cf25d16333\",\"type\":\"Selection\"},\"selection_policy\":{\"id\":\"f0b880cf-af3f-4d36-8338-ef163ff853e6\",\"type\":\"UnionRenderers\"}},\"id\":\"e72163e0-0602-4ca0-8efa-dd3abbbb9b9d\",\"type\":\"ColumnDataSource\"},{\"attributes\":{},\"id\":\"f0b880cf-af3f-4d36-8338-ef163ff853e6\",\"type\":\"UnionRenderers\"},{\"attributes\":{\"above\":[{\"id\":\"d7d9d8d0-e5a3-4f96-ae06-1f28f1231236\",\"type\":\"Legend\"}],\"below\":[{\"id\":\"99cbff6b-bb4c-4e17-b217-ab144977399e\",\"type\":\"LinearAxis\"}],\"left\":[{\"id\":\"4fac5bc7-6df0-4f1f-84db-4320083881b6\",\"type\":\"LinearAxis\"}],\"plot_width\":300,\"renderers\":[{\"id\":\"99cbff6b-bb4c-4e17-b217-ab144977399e\",\"type\":\"LinearAxis\"},{\"id\":\"0e201bfc-f849-444e-ab7b-8b6500d16011\",\"type\":\"Grid\"},{\"id\":\"4fac5bc7-6df0-4f1f-84db-4320083881b6\",\"type\":\"LinearAxis\"},{\"id\":\"7ea5323c-664c-4f83-b931-7d624e67aa01\",\"type\":\"Grid\"},{\"id\":\"6f888a47-ea9e-41e3-a15f-25e4b1ddf26b\",\"type\":\"BoxAnnotation\"},{\"id\":\"4c8a5b0c-7885-4039-85af-aa5b8c80bcd8\",\"type\":\"GlyphRenderer\"},{\"id\":\"94821412-b167-4ef8-b7a0-e08f548df09c\",\"type\":\"GlyphRenderer\"},{\"id\":\"021314e7-1461-4582-8c5d-2277dd0ebbcf\",\"type\":\"GlyphRenderer\"},{\"id\":\"d7d9d8d0-e5a3-4f96-ae06-1f28f1231236\",\"type\":\"Legend\"}],\"title\":{\"id\":\"d71ac46d-d797-4719-918d-05ce6d032f9f\",\"type\":\"Title\"},\"toolbar\":{\"id\":\"a6772a79-99e7-4e91-9ea8-2bd3455fb24d\",\"type\":\"Toolbar\"},\"toolbar_location\":null,\"x_range\":{\"id\":\"5a8ad969-b57d-41ce-bf73-d39832069792\",\"type\":\"Range1d\"},\"x_scale\":{\"id\":\"517c5ea1-0462-46ac-865e-d0cd3d9d4d24\",\"type\":\"LinearScale\"},\"y_range\":{\"id\":\"58fdad93-cb70-4619-9445-007cf94cf0f7\",\"type\":\"Range1d\"},\"y_scale\":{\"id\":\"548a54d1-d03e-454b-b045-d04951de0d0c\",\"type\":\"LinearScale\"}},\"id\":\"36603005-34e0-44c9-9641-954a539d46cd\",\"subtype\":\"Figure\",\"type\":\"Plot\"},{\"attributes\":{\"callback\":null,\"end\":0.01,\"start\":1020},\"id\":\"58fdad93-cb70-4619-9445-007cf94cf0f7\",\"type\":\"Range1d\"},{\"attributes\":{\"data_source\":{\"id\":\"5dc0d4c8-0d49-44b7-9584-a47e3c47c947\",\"type\":\"ColumnDataSource\"},\"glyph\":{\"id\":\"5abe0d84-de60-4931-8567-4f9697afd07c\",\"type\":\"Line\"},\"hover_glyph\":null,\"muted_glyph\":null,\"nonselection_glyph\":{\"id\":\"8049e790-9035-47ff-bf40-9ae3eb7ace5a\",\"type\":\"Line\"},\"selection_glyph\":null,\"view\":{\"id\":\"9c1dccba-8add-4a48-9b5f-31c40089e3e7\",\"type\":\"CDSView\"}},\"id\":\"c3b4a0b6-6bc6-4059-a30c-6c952b974481\",\"type\":\"GlyphRenderer\"},{\"attributes\":{\"children\":[{\"id\":\"6a06b41b-beae-4bd2-851b-1af6d40f3890\",\"type\":\"ToolbarBox\"},{\"id\":\"226af2db-87e2-4c4a-994d-c468e077f6cf\",\"type\":\"Column\"}]},\"id\":\"1aa2b372-b0b2-4c25-8788-e0d472ac2115\",\"type\":\"Column\"},{\"attributes\":{\"line_alpha\":0.6,\"line_color\":\"#377eb8\",\"line_dash\":[6],\"line_width\":5,\"x\":{\"field\":\"x\"},\"y\":{\"field\":\"y\"}},\"id\":\"f679c0dd-00b5-487c-bd1d-cc38316a75e4\",\"type\":\"Line\"},{\"attributes\":{\"children\":[{\"id\":\"36603005-34e0-44c9-9641-954a539d46cd\",\"subtype\":\"Figure\",\"type\":\"Plot\"},{\"id\":\"da4c1862-953d-426e-969f-b49483eaff33\",\"subtype\":\"Figure\",\"type\":\"Plot\"},{\"id\":\"9a9bec1f-3266-4c21-9789-cc38acd222cc\",\"subtype\":\"Figure\",\"type\":\"Plot\"}]},\"id\":\"77741507-0085-4eea-b06a-30fe1ef98b2e\",\"type\":\"Row\"},{\"attributes\":{},\"id\":\"59c4ff19-43df-4e98-b010-1810e9e6d0fe\",\"type\":\"UnionRenderers\"},{\"attributes\":{},\"id\":\"150fb580-4c98-4544-9063-d5f23c4b152a\",\"type\":\"WheelZoomTool\"},{\"attributes\":{},\"id\":\"ba716d44-f1d3-4f30-96ff-0b0a8235c054\",\"type\":\"LogScale\"},{\"attributes\":{\"source\":{\"id\":\"5dc0d4c8-0d49-44b7-9584-a47e3c47c947\",\"type\":\"ColumnDataSource\"}},\"id\":\"9c1dccba-8add-4a48-9b5f-31c40089e3e7\",\"type\":\"CDSView\"},{\"attributes\":{\"plot\":null,\"text\":\"\"},\"id\":\"d71ac46d-d797-4719-918d-05ce6d032f9f\",\"type\":\"Title\"},{\"attributes\":{\"toolbar\":{\"id\":\"321630a8-1851-45c4-8aa6-6c984bffd4b0\",\"type\":\"ProxyToolbar\"},\"toolbar_location\":\"above\"},\"id\":\"6a06b41b-beae-4bd2-851b-1af6d40f3890\",\"type\":\"ToolbarBox\"},{\"attributes\":{\"children\":[{\"id\":\"77741507-0085-4eea-b06a-30fe1ef98b2e\",\"type\":\"Row\"}]},\"id\":\"226af2db-87e2-4c4a-994d-c468e077f6cf\",\"type\":\"Column\"},{\"attributes\":{},\"id\":\"ef312096-048f-4023-8ecd-5aaa6a346a22\",\"type\":\"UnionRenderers\"},{\"attributes\":{},\"id\":\"329d54a8-0e83-4b28-8704-e4e93bcea711\",\"type\":\"HelpTool\"},{\"attributes\":{\"tools\":[{\"id\":\"cd07b31d-50d4-44dc-8992-07a00ebfabc5\",\"type\":\"PanTool\"},{\"id\":\"a160ed45-b528-4239-b7d5-ecd42f5a4935\",\"type\":\"WheelZoomTool\"},{\"id\":\"c544a064-8659-452c-a73e-d7bf261000bf\",\"type\":\"BoxZoomTool\"},{\"id\":\"7238ebf8-0e8d-4e79-ac65-9d6a7c75a32a\",\"type\":\"SaveTool\"},{\"id\":\"2585ee27-70f1-4b8c-905d-c9e0d8200266\",\"type\":\"ResetTool\"},{\"id\":\"050498fa-962c-44ef-838e-01aa204a2551\",\"type\":\"HelpTool\"},{\"id\":\"229bb338-c86e-4f9a-8d04-5f356605ee1b\",\"type\":\"PanTool\"},{\"id\":\"21f1b2ef-8a6d-4979-b0c0-53df9936df02\",\"type\":\"WheelZoomTool\"},{\"id\":\"7f5bf569-350a-4f70-b83c-68d7c8777830\",\"type\":\"BoxZoomTool\"},{\"id\":\"f62d8d9a-b70e-4a83-83ff-04fb737dd0f2\",\"type\":\"SaveTool\"},{\"id\":\"c0374aad-12a4-47c1-9b49-d5fe856a9ee4\",\"type\":\"ResetTool\"},{\"id\":\"329d54a8-0e83-4b28-8704-e4e93bcea711\",\"type\":\"HelpTool\"},{\"id\":\"f7381488-58a0-4167-9d7f-8a4111f61055\",\"type\":\"PanTool\"},{\"id\":\"150fb580-4c98-4544-9063-d5f23c4b152a\",\"type\":\"WheelZoomTool\"},{\"id\":\"996f6da6-565e-45b5-8b7e-3334e00fad9b\",\"type\":\"BoxZoomTool\"},{\"id\":\"d7fda334-48c7-46e7-9fba-f5894c5abe0c\",\"type\":\"SaveTool\"},{\"id\":\"1186a7b1-fefa-48fd-bad6-dec67e2442d5\",\"type\":\"ResetTool\"},{\"id\":\"ef87bf8f-eba6-4f36-a620-c57747012c92\",\"type\":\"HelpTool\"}]},\"id\":\"321630a8-1851-45c4-8aa6-6c984bffd4b0\",\"type\":\"ProxyToolbar\"},{\"attributes\":{\"overlay\":{\"id\":\"7fec47c5-9ec0-4989-83a0-bf1c792381af\",\"type\":\"BoxAnnotation\"}},\"id\":\"996f6da6-565e-45b5-8b7e-3334e00fad9b\",\"type\":\"BoxZoomTool\"},{\"attributes\":{\"data_source\":{\"id\":\"ec5f3aa5-e092-4781-aad5-f320b4e570a6\",\"type\":\"ColumnDataSource\"},\"glyph\":{\"id\":\"1acbe2d4-3196-452a-bf2a-e8d6ddab0e0c\",\"type\":\"Line\"},\"hover_glyph\":null,\"muted_glyph\":null,\"nonselection_glyph\":{\"id\":\"49f74209-a541-4263-93ea-e8503b1e4e88\",\"type\":\"Line\"},\"selection_glyph\":null,\"view\":{\"id\":\"b96609b3-3a4f-4404-a7d7-53a1c795911d\",\"type\":\"CDSView\"}},\"id\":\"4c8a5b0c-7885-4039-85af-aa5b8c80bcd8\",\"type\":\"GlyphRenderer\"},{\"attributes\":{},\"id\":\"f4213746-f098-44b8-b360-cbec2698a3a8\",\"type\":\"BasicTickFormatter\"},{\"attributes\":{},\"id\":\"5807f6d8-5402-4428-a26c-8aa583fd4a07\",\"type\":\"UnionRenderers\"},{\"attributes\":{},\"id\":\"ef87bf8f-eba6-4f36-a620-c57747012c92\",\"type\":\"HelpTool\"},{\"attributes\":{},\"id\":\"1186a7b1-fefa-48fd-bad6-dec67e2442d5\",\"type\":\"ResetTool\"},{\"attributes\":{},\"id\":\"548a54d1-d03e-454b-b045-d04951de0d0c\",\"type\":\"LinearScale\"},{\"attributes\":{},\"id\":\"d7fda334-48c7-46e7-9fba-f5894c5abe0c\",\"type\":\"SaveTool\"},{\"attributes\":{\"callback\":null,\"end\":0.01,\"start\":1020},\"id\":\"2ec32fb4-eabe-42a1-9745-4294edcfd464\",\"type\":\"Range1d\"},{\"attributes\":{},\"id\":\"2585ee27-70f1-4b8c-905d-c9e0d8200266\",\"type\":\"ResetTool\"},{\"attributes\":{\"line_alpha\":0.8,\"line_color\":\"#984ea3\",\"line_width\":1.5,\"x\":{\"field\":\"x\"},\"y\":{\"field\":\"y\"}},\"id\":\"5abe0d84-de60-4931-8567-4f9697afd07c\",\"type\":\"Line\"},{\"attributes\":{},\"id\":\"7238ebf8-0e8d-4e79-ac65-9d6a7c75a32a\",\"type\":\"SaveTool\"},{\"attributes\":{\"dimension\":1,\"plot\":{\"id\":\"9a9bec1f-3266-4c21-9789-cc38acd222cc\",\"subtype\":\"Figure\",\"type\":\"Plot\"},\"ticker\":{\"id\":\"5a4cd68e-ce01-4442-8e9b-6a244129a6ce\",\"type\":\"LogTicker\"}},\"id\":\"07694db6-8386-4312-9711-828407c164d6\",\"type\":\"Grid\"},{\"attributes\":{},\"id\":\"d752a7c8-fcc1-4b99-9138-018266fcbeb0\",\"type\":\"LinearScale\"},{\"attributes\":{},\"id\":\"119797d9-e598-4e54-920f-3137205ecadb\",\"type\":\"BasicTicker\"},{\"attributes\":{\"data_source\":{\"id\":\"e72163e0-0602-4ca0-8efa-dd3abbbb9b9d\",\"type\":\"ColumnDataSource\"},\"glyph\":{\"id\":\"f679c0dd-00b5-487c-bd1d-cc38316a75e4\",\"type\":\"Line\"},\"hover_glyph\":null,\"muted_glyph\":null,\"nonselection_glyph\":{\"id\":\"c7e4a59a-89a5-4d29-a325-0b4ee249505f\",\"type\":\"Line\"},\"selection_glyph\":null,\"view\":{\"id\":\"3a3fbfed-fd23-49aa-b434-02500d9da0ab\",\"type\":\"CDSView\"}},\"id\":\"868050d1-5745-40c7-ae83-291e1b6055cb\",\"type\":\"GlyphRenderer\"},{\"attributes\":{\"items\":[{\"id\":\"38a75473-8179-481e-bdb4-c7ac86f05177\",\"type\":\"LegendItem\"},{\"id\":\"395dc32c-e74a-4968-92bd-8f0be91ac142\",\"type\":\"LegendItem\"}],\"label_text_font_size\":{\"value\":\"8pt\"},\"location\":\"top_center\",\"orientation\":\"horizontal\",\"plot\":{\"id\":\"da4c1862-953d-426e-969f-b49483eaff33\",\"subtype\":\"Figure\",\"type\":\"Plot\"}},\"id\":\"d2f0a912-230a-4bf5-8424-498c206b6757\",\"type\":\"Legend\"},{\"attributes\":{\"line_alpha\":0.6,\"line_color\":\"#377eb8\",\"line_dash\":[6],\"line_width\":5,\"x\":{\"field\":\"x\"},\"y\":{\"field\":\"y\"}},\"id\":\"1acbe2d4-3196-452a-bf2a-e8d6ddab0e0c\",\"type\":\"Line\"},{\"attributes\":{\"dimension\":1,\"plot\":{\"id\":\"da4c1862-953d-426e-969f-b49483eaff33\",\"subtype\":\"Figure\",\"type\":\"Plot\"},\"ticker\":{\"id\":\"e0c29848-cff7-4782-bfb5-ea33bf221fb3\",\"type\":\"LogTicker\"}},\"id\":\"b1e498ad-e941-40b5-96cc-8bc953154d9c\",\"type\":\"Grid\"},{\"attributes\":{\"items\":[{\"id\":\"87a8a56a-5943-4c6e-8d79-d35aaedb1a0f\",\"type\":\"LegendItem\"}],\"label_text_font_size\":{\"value\":\"8pt\"},\"location\":\"top_center\",\"orientation\":\"horizontal\",\"plot\":{\"id\":\"9a9bec1f-3266-4c21-9789-cc38acd222cc\",\"subtype\":\"Figure\",\"type\":\"Plot\"}},\"id\":\"d52ae4d5-23a7-4e48-a7f1-47e01159ff2e\",\"type\":\"Legend\"},{\"attributes\":{\"callback\":null,\"end\":0.01,\"start\":1020},\"id\":\"34bf1bba-05d3-4de0-bff7-8c63e726611e\",\"type\":\"Range1d\"},{\"attributes\":{\"active_drag\":\"auto\",\"active_inspect\":\"auto\",\"active_scroll\":\"auto\",\"active_tap\":\"auto\",\"tools\":[{\"id\":\"229bb338-c86e-4f9a-8d04-5f356605ee1b\",\"type\":\"PanTool\"},{\"id\":\"21f1b2ef-8a6d-4979-b0c0-53df9936df02\",\"type\":\"WheelZoomTool\"},{\"id\":\"7f5bf569-350a-4f70-b83c-68d7c8777830\",\"type\":\"BoxZoomTool\"},{\"id\":\"f62d8d9a-b70e-4a83-83ff-04fb737dd0f2\",\"type\":\"SaveTool\"},{\"id\":\"c0374aad-12a4-47c1-9b49-d5fe856a9ee4\",\"type\":\"ResetTool\"},{\"id\":\"329d54a8-0e83-4b28-8704-e4e93bcea711\",\"type\":\"HelpTool\"}]},\"id\":\"3a26ee74-28a3-4fe4-96c8-873e97ce8cfe\",\"type\":\"Toolbar\"},{\"attributes\":{},\"id\":\"7e47cc44-d1e3-46a2-9519-b08b782ef751\",\"type\":\"BasicTickFormatter\"},{\"attributes\":{\"source\":{\"id\":\"e74ec237-1ed5-475c-8ffc-3163b67379a5\",\"type\":\"ColumnDataSource\"}},\"id\":\"d7309d19-cff5-4d34-9d9b-07b02eba42c1\",\"type\":\"CDSView\"},{\"attributes\":{\"label\":{\"value\":\"CRD\"},\"renderers\":[{\"id\":\"94821412-b167-4ef8-b7a0-e08f548df09c\",\"type\":\"GlyphRenderer\"},{\"id\":\"021314e7-1461-4582-8c5d-2277dd0ebbcf\",\"type\":\"GlyphRenderer\"}]},\"id\":\"a275be76-5d72-4e05-b3cb-efa68ae24017\",\"type\":\"LegendItem\"},{\"attributes\":{\"above\":[{\"id\":\"d52ae4d5-23a7-4e48-a7f1-47e01159ff2e\",\"type\":\"Legend\"}],\"below\":[{\"id\":\"c8bc10b3-622b-4eeb-b2d2-7b8fa64d8ed0\",\"type\":\"LinearAxis\"}],\"left\":[{\"id\":\"99623f44-912b-400d-b8e4-3140a51a16c8\",\"type\":\"LogAxis\"}],\"plot_width\":300,\"renderers\":[{\"id\":\"c8bc10b3-622b-4eeb-b2d2-7b8fa64d8ed0\",\"type\":\"LinearAxis\"},{\"id\":\"d62bfa6c-0f9c-479c-b764-97c89c6c9f56\",\"type\":\"Grid\"},{\"id\":\"99623f44-912b-400d-b8e4-3140a51a16c8\",\"type\":\"LogAxis\"},{\"id\":\"07694db6-8386-4312-9711-828407c164d6\",\"type\":\"Grid\"},{\"id\":\"7fec47c5-9ec0-4989-83a0-bf1c792381af\",\"type\":\"BoxAnnotation\"},{\"id\":\"5dc9e5ea-bed7-4b5e-bf7e-35bfd6fa0bdf\",\"type\":\"GlyphRenderer\"},{\"id\":\"c3b4a0b6-6bc6-4059-a30c-6c952b974481\",\"type\":\"GlyphRenderer\"},{\"id\":\"d52ae4d5-23a7-4e48-a7f1-47e01159ff2e\",\"type\":\"Legend\"}],\"title\":{\"id\":\"5ce2c282-fc74-421e-b1a3-d282a370aed2\",\"type\":\"Title\"},\"toolbar\":{\"id\":\"db227a7b-04bf-413a-9cf5-386ea5ce0297\",\"type\":\"Toolbar\"},\"toolbar_location\":null,\"x_range\":{\"id\":\"0f500aec-0878-44f7-82bb-a6429465076d\",\"type\":\"Range1d\"},\"x_scale\":{\"id\":\"a89e4315-1dd4-4cc5-bae6-df14b8f23d12\",\"type\":\"LinearScale\"},\"y_range\":{\"id\":\"34bf1bba-05d3-4de0-bff7-8c63e726611e\",\"type\":\"Range1d\"},\"y_scale\":{\"id\":\"ba716d44-f1d3-4f30-96ff-0b0a8235c054\",\"type\":\"LogScale\"}},\"id\":\"9a9bec1f-3266-4c21-9789-cc38acd222cc\",\"subtype\":\"Figure\",\"type\":\"Plot\"},{\"attributes\":{\"fill_alpha\":{\"value\":0.7},\"fill_color\":{\"value\":\"#4daf4a\"},\"line_alpha\":{\"value\":0.7},\"line_color\":{\"value\":\"#4daf4a\"},\"x\":{\"field\":\"x\"},\"y\":{\"field\":\"y\"}},\"id\":\"7f5ae117-b001-49f5-bf71-db1b742a7abe\",\"type\":\"Circle\"},{\"attributes\":{\"axis_label\":\"pressure [mb]\",\"formatter\":{\"id\":\"36385cd7-380d-4cde-ba09-ef72b1deb746\",\"type\":\"LogTickFormatter\"},\"plot\":{\"id\":\"da4c1862-953d-426e-969f-b49483eaff33\",\"subtype\":\"Figure\",\"type\":\"Plot\"},\"ticker\":{\"id\":\"e0c29848-cff7-4782-bfb5-ea33bf221fb3\",\"type\":\"LogTicker\"}},\"id\":\"15951ac4-f3e8-4e8a-9050-62461a649a86\",\"type\":\"LogAxis\"},{\"attributes\":{\"axis_label\":\"pressure [mb]\",\"formatter\":{\"id\":\"56809917-156f-47d3-ac59-6b239c8fa832\",\"type\":\"LogTickFormatter\"},\"plot\":{\"id\":\"9a9bec1f-3266-4c21-9789-cc38acd222cc\",\"subtype\":\"Figure\",\"type\":\"Plot\"},\"ticker\":{\"id\":\"5a4cd68e-ce01-4442-8e9b-6a244129a6ce\",\"type\":\"LogTicker\"}},\"id\":\"99623f44-912b-400d-b8e4-3140a51a16c8\",\"type\":\"LogAxis\"},{\"attributes\":{},\"id\":\"92b8bcaa-a306-4ca5-b35e-6c0fceb31330\",\"type\":\"LogScale\"},{\"attributes\":{\"active_drag\":\"auto\",\"active_inspect\":\"auto\",\"active_scroll\":\"auto\",\"active_tap\":\"auto\",\"tools\":[{\"id\":\"f7381488-58a0-4167-9d7f-8a4111f61055\",\"type\":\"PanTool\"},{\"id\":\"150fb580-4c98-4544-9063-d5f23c4b152a\",\"type\":\"WheelZoomTool\"},{\"id\":\"996f6da6-565e-45b5-8b7e-3334e00fad9b\",\"type\":\"BoxZoomTool\"},{\"id\":\"d7fda334-48c7-46e7-9fba-f5894c5abe0c\",\"type\":\"SaveTool\"},{\"id\":\"1186a7b1-fefa-48fd-bad6-dec67e2442d5\",\"type\":\"ResetTool\"},{\"id\":\"ef87bf8f-eba6-4f36-a620-c57747012c92\",\"type\":\"HelpTool\"}]},\"id\":\"db227a7b-04bf-413a-9cf5-386ea5ce0297\",\"type\":\"Toolbar\"},{\"attributes\":{\"line_alpha\":0.1,\"line_color\":\"#1f77b4\",\"line_width\":1.5,\"x\":{\"field\":\"x\"},\"y\":{\"field\":\"y\"}},\"id\":\"d443284f-188e-44cd-8732-892f4de55d7f\",\"type\":\"Line\"},{\"attributes\":{\"num_minor_ticks\":10},\"id\":\"5a4cd68e-ce01-4442-8e9b-6a244129a6ce\",\"type\":\"LogTicker\"},{\"attributes\":{\"source\":{\"id\":\"4296e300-2d42-4b1a-8df0-5d5084dd39bc\",\"type\":\"ColumnDataSource\"}},\"id\":\"2b20c4c3-a290-4cb8-9cc2-c158111d8ab8\",\"type\":\"CDSView\"},{\"attributes\":{\"fill_alpha\":{\"value\":0.1},\"fill_color\":{\"value\":\"#1f77b4\"},\"line_alpha\":{\"value\":0.1},\"line_color\":{\"value\":\"#1f77b4\"},\"x\":{\"field\":\"x\"},\"y\":{\"field\":\"y\"}},\"id\":\"e5c32efd-281f-4286-9422-ce8384d22adf\",\"type\":\"Circle\"},{\"attributes\":{\"axis_label\":\"cooling rate [K/day]\",\"formatter\":{\"id\":\"f4213746-f098-44b8-b360-cbec2698a3a8\",\"type\":\"BasicTickFormatter\"},\"plot\":{\"id\":\"da4c1862-953d-426e-969f-b49483eaff33\",\"subtype\":\"Figure\",\"type\":\"Plot\"},\"ticker\":{\"id\":\"71494695-7057-4d35-a098-6d83141fbd9d\",\"type\":\"BasicTicker\"}},\"id\":\"4fab2cbc-ffad-47ac-a89e-be8abff08c70\",\"type\":\"LinearAxis\"},{\"attributes\":{},\"id\":\"cd07b31d-50d4-44dc-8992-07a00ebfabc5\",\"type\":\"PanTool\"},{\"attributes\":{\"plot\":null,\"text\":\"\"},\"id\":\"5ce2c282-fc74-421e-b1a3-d282a370aed2\",\"type\":\"Title\"},{\"attributes\":{\"num_minor_ticks\":10},\"id\":\"e0c29848-cff7-4782-bfb5-ea33bf221fb3\",\"type\":\"LogTicker\"},{\"attributes\":{},\"id\":\"c1afa733-6877-4558-94cb-284cefb0b7b5\",\"type\":\"Selection\"},{\"attributes\":{\"callback\":null,\"data\":{\"x\":{\"__ndarray__\":\"0CYBcvU5UkCik9zf2GVBQF1VoNfLZ0BAVLxhiVXTPUDD1Wu1wJM6QFJyB025jjdAU6Aw5+b/NECYe1uuDfgyQB6bYtVTbTFAPxYSAF1HMEA00pYVm9QuQLolHbMzgC1AntlwirGsLECv+G9SjE4rQJH6ZLBp0ShAsLZQyPd/JkDyjgyf2PwkQLgyNGsrJyRAA13QbJD6I0C8hy0ilI4kQOVTXCEgcSZAovOGvZSGJUBVc/ZmUOIgQOf/6GHAyRlAcE8fAOBSFEDRur1U//gPQGFD9ZbokghAQsqHuSqSA0C91ci3W0UBQCtRQfvz7/4/kh8pntyB+j9t1/n+4TX1P773MAUjFfI/RgzR+CI28T8hBW8WHK7uPzVKjJfU8uk/0FPt4/z65T/wVYqzMPDhPz7K9C5CXuE/8+hSn9hY4T/9PPCkR6rhP1XsIC599OA/66X1nBCX3z/YbRM56QjcPz4dkSQc/dM/S7Wb8Fq00T+/yQdmX0vcP7TrGf476eM/WqNPJoWO7D9qOH1bcwDzP2bw+R5DQ/Y/RLSuQOQp+D8+aif8yAz5P0Wv6eBKRfk/0i2+IN4R+T/ik8QNFZr4PyS5UD5j/Pc/yJ68zXRG9z/2CHPL54H2P59SOhwKtPU/npkP8dfg9D8NlmVcdQz0P80ugRvuOvM/byxiAHN18j9USVZie8nxP5l9lNXYSPE/OB+F0UYP8T8Y7dsUCTHxP3EBgTHPcPE/bfx15p8S8T8FT+xkGtTuP6mdG7rkxuk/pboqTkHX5D/CrN8qGYngP7R4ZaL+htU/\",\"dtype\":\"float64\",\"shape\":[75]},\"y\":{\"__ndarray__\":\"GhExyth1ND/Sv8nbtpRIP2vylNV0PVE/aTum7souWD/At0SJ8fVgPw3Iuahxymc/MSNhhJWvcD/bTfBN02d3P2zb5nxnaoA/CD5h5MAGhz8NmeH1TyaQP+zrCsc9p5Y/LbKd76fGnz/bLW5ISEmmPww9YvTcQq8/JV2OstnstT8Er5Y7M8G+P0c+r3jqkcU/5h99k6ZBzj88bCIzFzjVP4enV8oyxN0//yH99nXg5D8qOpLLf0jtP5kqGJXUifQ/c9cS8kHP/D+/DpwzojQEQIEmwoanVwxA4lgXt9HgE0BSSZ2AJuIbQAMJih9jjiNA5q4l5INuK0AwTKYKRj0zQNv5fmq8/DpAaCJseHrtQkB/+zpwzoxKQM3MzMzMeFJAZmZmZmZqWEAAAAAAAFxeQM3MzMzMJmJAmpmZmZkfZUBmZmZmZhhoQDMzMzMzEWtAAAAAAAAKbkBmZmZmZoFwQM3MzMzM/XFAMzMzMzN6c0CamZmZmfZ0QAAAAAAAc3ZAZmZmZmbvd0DNzMzMzGt5QDMzMzMz6HpAmpmZmZlkfEAAAAAAAOF9QGZmZmZmXX9AZmZmZuZsgECamZmZGSuBQM3MzMxM6YFAAAAAAICngkAzMzMzs2WDQGZmZmbmI4RAmpmZmRnihEDNzMzMTKCFQAAAAACAXoZAMzMzM7Mch0BmZmZm5tqHQJqZmZkZmYhAzczMzExXiUAAAAAAgBWKQDMzMzOz04pAZmZmZuaRi0CamZmZGVCMQM3MzMxMDo1AAAAAAIDMjUAzMzMzs4qOQGZmZmbmSI9A\",\"dtype\":\"float64\",\"shape\":[75]}},\"selected\":{\"id\":\"51774dd9-8344-4f44-9161-e3a657c776e3\",\"type\":\"Selection\"},\"selection_policy\":{\"id\":\"9bdd862f-f8be-44c4-8bd8-40e9d3f71b44\",\"type\":\"UnionRenderers\"}},\"id\":\"8300efd7-a1be-4487-b051-19ddef0a59b4\",\"type\":\"ColumnDataSource\"},{\"attributes\":{\"fill_alpha\":{\"value\":0.1},\"fill_color\":{\"value\":\"#1f77b4\"},\"line_alpha\":{\"value\":0.1},\"line_color\":{\"value\":\"#1f77b4\"},\"x\":{\"field\":\"x\"},\"y\":{\"field\":\"y\"}},\"id\":\"6d132239-6165-4d61-b5af-5afc5438daaf\",\"type\":\"Circle\"},{\"attributes\":{\"data_source\":{\"id\":\"4296e300-2d42-4b1a-8df0-5d5084dd39bc\",\"type\":\"ColumnDataSource\"},\"glyph\":{\"id\":\"eb46ba74-4f13-4674-b962-56e9f707bded\",\"type\":\"Circle\"},\"hover_glyph\":null,\"muted_glyph\":null,\"nonselection_glyph\":{\"id\":\"e5c32efd-281f-4286-9422-ce8384d22adf\",\"type\":\"Circle\"},\"selection_glyph\":null,\"view\":{\"id\":\"2b20c4c3-a290-4cb8-9cc2-c158111d8ab8\",\"type\":\"CDSView\"}},\"id\":\"d9de6699-462b-41da-a162-52b5949abf04\",\"type\":\"GlyphRenderer\"},{\"attributes\":{\"source\":{\"id\":\"6d392f45-8611-4405-bc64-583b1a214693\",\"type\":\"ColumnDataSource\"}},\"id\":\"0835731c-6087-4e39-a1c0-bbb71aa27e0d\",\"type\":\"CDSView\"},{\"attributes\":{\"label\":{\"value\":\"CLIRAD (single-run)\"},\"renderers\":[{\"id\":\"868050d1-5745-40c7-ae83-291e1b6055cb\",\"type\":\"GlyphRenderer\"}]},\"id\":\"38a75473-8179-481e-bdb4-c7ac86f05177\",\"type\":\"LegendItem\"},{\"attributes\":{\"callback\":null,\"data\":{\"x\":{\"__ndarray__\":\"0CYBcvU5UkCik9zf2GVBQF1VoNfLZ0BAVLxhiVXTPUDD1Wu1wJM6QFJyB025jjdAU6Aw5+b/NECYe1uuDfgyQB6bYtVTbTFAPxYSAF1HMEA00pYVm9QuQLolHbMzgC1AntlwirGsLECv+G9SjE4rQJH6ZLBp0ShAsLZQyPd/JkDyjgyf2PwkQLgyNGsrJyRAA13QbJD6I0C8hy0ilI4kQOVTXCEgcSZAovOGvZSGJUBVc/ZmUOIgQOf/6GHAyRlAcE8fAOBSFEDRur1U//gPQGFD9ZbokghAQsqHuSqSA0C91ci3W0UBQCtRQfvz7/4/kh8pntyB+j9t1/n+4TX1P773MAUjFfI/RgzR+CI28T8hBW8WHK7uPzVKjJfU8uk/0FPt4/z65T/wVYqzMPDhPz7K9C5CXuE/8+hSn9hY4T/9PPCkR6rhP1XsIC599OA/66X1nBCX3z/YbRM56QjcPz4dkSQc/dM/S7Wb8Fq00T+/yQdmX0vcP7TrGf476eM/WqNPJoWO7D9qOH1bcwDzP2bw+R5DQ/Y/RLSuQOQp+D8+aif8yAz5P0Wv6eBKRfk/0i2+IN4R+T/ik8QNFZr4PyS5UD5j/Pc/yJ68zXRG9z/2CHPL54H2P59SOhwKtPU/npkP8dfg9D8NlmVcdQz0P80ugRvuOvM/byxiAHN18j9USVZie8nxP5l9lNXYSPE/OB+F0UYP8T8Y7dsUCTHxP3EBgTHPcPE/bfx15p8S8T8FT+xkGtTuP6mdG7rkxuk/pboqTkHX5D/CrN8qGYngP7R4ZaL+htU/\",\"dtype\":\"float64\",\"shape\":[75]},\"y\":{\"__ndarray__\":\"GhExyth1ND/Sv8nbtpRIP2vylNV0PVE/aTum7souWD/At0SJ8fVgPw3Iuahxymc/MSNhhJWvcD/bTfBN02d3P2zb5nxnaoA/CD5h5MAGhz8NmeH1TyaQP+zrCsc9p5Y/LbKd76fGnz/bLW5ISEmmPww9YvTcQq8/JV2OstnstT8Er5Y7M8G+P0c+r3jqkcU/5h99k6ZBzj88bCIzFzjVP4enV8oyxN0//yH99nXg5D8qOpLLf0jtP5kqGJXUifQ/c9cS8kHP/D+/DpwzojQEQIEmwoanVwxA4lgXt9HgE0BSSZ2AJuIbQAMJih9jjiNA5q4l5INuK0AwTKYKRj0zQNv5fmq8/DpAaCJseHrtQkB/+zpwzoxKQM3MzMzMeFJAZmZmZmZqWEAAAAAAAFxeQM3MzMzMJmJAmpmZmZkfZUBmZmZmZhhoQDMzMzMzEWtAAAAAAAAKbkBmZmZmZoFwQM3MzMzM/XFAMzMzMzN6c0CamZmZmfZ0QAAAAAAAc3ZAZmZmZmbvd0DNzMzMzGt5QDMzMzMz6HpAmpmZmZlkfEAAAAAAAOF9QGZmZmZmXX9AZmZmZuZsgECamZmZGSuBQM3MzMxM6YFAAAAAAICngkAzMzMzs2WDQGZmZmbmI4RAmpmZmRnihEDNzMzMTKCFQAAAAACAXoZAMzMzM7Mch0BmZmZm5tqHQJqZmZkZmYhAzczMzExXiUAAAAAAgBWKQDMzMzOz04pAZmZmZuaRi0CamZmZGVCMQM3MzMxMDo1AAAAAAIDMjUAzMzMzs4qOQGZmZmbmSI9A\",\"dtype\":\"float64\",\"shape\":[75]}},\"selected\":{\"id\":\"9787f0df-fff3-489d-86be-a5117bc924cf\",\"type\":\"Selection\"},\"selection_policy\":{\"id\":\"5807f6d8-5402-4428-a26c-8aa583fd4a07\",\"type\":\"UnionRenderers\"}},\"id\":\"4296e300-2d42-4b1a-8df0-5d5084dd39bc\",\"type\":\"ColumnDataSource\"},{\"attributes\":{\"data_source\":{\"id\":\"e74ec237-1ed5-475c-8ffc-3163b67379a5\",\"type\":\"ColumnDataSource\"},\"glyph\":{\"id\":\"1f129d5f-7d68-4339-9edc-759551134b86\",\"type\":\"Circle\"},\"hover_glyph\":null,\"muted_glyph\":null,\"nonselection_glyph\":{\"id\":\"6d132239-6165-4d61-b5af-5afc5438daaf\",\"type\":\"Circle\"},\"selection_glyph\":null,\"view\":{\"id\":\"d7309d19-cff5-4d34-9d9b-07b02eba42c1\",\"type\":\"CDSView\"}},\"id\":\"5dc9e5ea-bed7-4b5e-bf7e-35bfd6fa0bdf\",\"type\":\"GlyphRenderer\"},{\"attributes\":{},\"id\":\"90bac609-c302-4af7-9c0d-48518797b0c4\",\"type\":\"BasicTicker\"},{\"attributes\":{\"ticker\":null},\"id\":\"56809917-156f-47d3-ac59-6b239c8fa832\",\"type\":\"LogTickFormatter\"},{\"attributes\":{},\"id\":\"517c5ea1-0462-46ac-865e-d0cd3d9d4d24\",\"type\":\"LinearScale\"},{\"attributes\":{\"source\":{\"id\":\"8300efd7-a1be-4487-b051-19ddef0a59b4\",\"type\":\"ColumnDataSource\"}},\"id\":\"a658d400-1dd0-43fe-a627-f7cd5da01973\",\"type\":\"CDSView\"},{\"attributes\":{},\"id\":\"91cd7be3-79a3-4134-96ab-01cf25d16333\",\"type\":\"Selection\"},{\"attributes\":{\"callback\":null,\"end\":16.436989944828248,\"start\":0.29782337493475003},\"id\":\"a2bdc62c-f578-4569-83e0-c3eba0df4928\",\"type\":\"Range1d\"},{\"attributes\":{\"fill_alpha\":{\"value\":0.1},\"fill_color\":{\"value\":\"#1f77b4\"},\"line_alpha\":{\"value\":0.1},\"line_color\":{\"value\":\"#1f77b4\"},\"x\":{\"field\":\"x\"},\"y\":{\"field\":\"y\"}},\"id\":\"2aee0321-1448-46a2-b0ba-7b832136fc71\",\"type\":\"Circle\"},{\"attributes\":{\"line_color\":\"#4daf4a\",\"line_width\":1.5,\"x\":{\"field\":\"x\"},\"y\":{\"field\":\"y\"}},\"id\":\"7a3f0683-f8ad-4e5c-aeae-dfc549c0e7f4\",\"type\":\"Line\"},{\"attributes\":{\"callback\":null,\"end\":1.5925520929577701,\"start\":0.25278412604523004},\"id\":\"5a8ad969-b57d-41ce-bf73-d39832069792\",\"type\":\"Range1d\"},{\"attributes\":{\"callback\":null,\"data\":{\"x\":{\"__ndarray__\":\"LVz7uCfeQ8ChGUaLJfYYwCMb75vopAPAb3fOabke8j9lWIgE9JsLQOXvyvkb2g9APnR7Fi/LBkCmSIIxVTrrPyu2iXaXmu2/L3WfIbFl+r+C9ZYDcxv0v8J+sAdRy9S/UH1/Rkeq4D8IzsLpVObuP4jqcTibAe0/eTvd8oYO2T+OQTCLDt7Qv5ji9BpoXuW/V0+3xBhy5b94Z7G7lXzav/6pSlfL38G/zBgKKJYesj/I1tW4gTDBP4Gg9xnb/bm/6OHFBmFwzb/Jlv56HxKhv/EZB1BwXNE/tDFGwmnx0T+dgz8RYjK8P0oF0SHPn6A/1zw/k0lFxD8Gy+tFFBfNP2i9183Z08A/N3gKDez1dr+ErhDxWg1oP7z6DbGqTLM/FGuCmYk5qD8ZDNtblLmYvzx7mOPoprO/Rm2hQwsHtr9zgNat/qeyv3TBkyPWuay/lNouayB+pb/vTOCOl1uavx4jDSfir5C/H1Be0ivxhb9YuwufkpI/v2KxTpOelHS/zMZedMBUm7+XBGrFTJ+qv1BpC30ogKq/qPfp7IHAor8ApUU9lFmjv/JYEpkYzKq/kHn7d8SRqr/cmaU2k1ylvxjD/zelpZ+/nlGD3JJLmL/E21bacaGTv/6RwjCw64m/2h/zxmcAhL/NgBME6nGBv9orU+u8T4S/oIG6YxpWhr8lZK/mZTWEv+Zn75KUCXq/gNkHHrReOb9kVHMMU5p/P9Y9Y3OW2Is/nkfL3Nfckj+u+BL/t1+WP0aldYMAE5g/U2koibtulz9Klct3jleXPw5pTN3dV5Y/\",\"dtype\":\"float64\",\"shape\":[75]},\"y\":{\"__ndarray__\":\"GhExyth1ND/Sv8nbtpRIP2vylNV0PVE/aTum7souWD/At0SJ8fVgPw3Iuahxymc/MSNhhJWvcD/bTfBN02d3P2zb5nxnaoA/CD5h5MAGhz8NmeH1TyaQP+zrCsc9p5Y/LbKd76fGnz/bLW5ISEmmPww9YvTcQq8/JV2OstnstT8Er5Y7M8G+P0c+r3jqkcU/5h99k6ZBzj88bCIzFzjVP4enV8oyxN0//yH99nXg5D8qOpLLf0jtP5kqGJXUifQ/c9cS8kHP/D+/DpwzojQEQIEmwoanVwxA4lgXt9HgE0BSSZ2AJuIbQAMJih9jjiNA5q4l5INuK0AwTKYKRj0zQNv5fmq8/DpAaCJseHrtQkB/+zpwzoxKQM3MzMzMeFJAZmZmZmZqWEAAAAAAAFxeQM3MzMzMJmJAmpmZmZkfZUBmZmZmZhhoQDMzMzMzEWtAAAAAAAAKbkBmZmZmZoFwQM3MzMzM/XFAMzMzMzN6c0CamZmZmfZ0QAAAAAAAc3ZAZmZmZmbvd0DNzMzMzGt5QDMzMzMz6HpAmpmZmZlkfEAAAAAAAOF9QGZmZmZmXX9AZmZmZuZsgECamZmZGSuBQM3MzMxM6YFAAAAAAICngkAzMzMzs2WDQGZmZmbmI4RAmpmZmRnihEDNzMzMTKCFQAAAAACAXoZAMzMzM7Mch0BmZmZm5tqHQJqZmZkZmYhAzczMzExXiUAAAAAAgBWKQDMzMzOz04pAZmZmZuaRi0CamZmZGVCMQM3MzMxMDo1AAAAAAIDMjUAzMzMzs4qOQGZmZmbmSI9A\",\"dtype\":\"float64\",\"shape\":[75]}},\"selected\":{\"id\":\"2490bf71-0182-413d-a500-c6573d52bf08\",\"type\":\"Selection\"},\"selection_policy\":{\"id\":\"59c4ff19-43df-4e98-b010-1810e9e6d0fe\",\"type\":\"UnionRenderers\"}},\"id\":\"5dc0d4c8-0d49-44b7-9584-a47e3c47c947\",\"type\":\"ColumnDataSource\"},{\"attributes\":{\"above\":[{\"id\":\"d2f0a912-230a-4bf5-8424-498c206b6757\",\"type\":\"Legend\"}],\"below\":[{\"id\":\"4fab2cbc-ffad-47ac-a89e-be8abff08c70\",\"type\":\"LinearAxis\"}],\"left\":[{\"id\":\"15951ac4-f3e8-4e8a-9050-62461a649a86\",\"type\":\"LogAxis\"}],\"plot_width\":300,\"renderers\":[{\"id\":\"4fab2cbc-ffad-47ac-a89e-be8abff08c70\",\"type\":\"LinearAxis\"},{\"id\":\"cdcb128b-d767-46ec-b66b-e57993316690\",\"type\":\"Grid\"},{\"id\":\"15951ac4-f3e8-4e8a-9050-62461a649a86\",\"type\":\"LogAxis\"},{\"id\":\"b1e498ad-e941-40b5-96cc-8bc953154d9c\",\"type\":\"Grid\"},{\"id\":\"daf9458e-e2f6-4f09-9970-8a2c0d4f1d2d\",\"type\":\"BoxAnnotation\"},{\"id\":\"868050d1-5745-40c7-ae83-291e1b6055cb\",\"type\":\"GlyphRenderer\"},{\"id\":\"d9de6699-462b-41da-a162-52b5949abf04\",\"type\":\"GlyphRenderer\"},{\"id\":\"85899211-f276-4398-b2c8-a1c2bab4735d\",\"type\":\"GlyphRenderer\"},{\"id\":\"d2f0a912-230a-4bf5-8424-498c206b6757\",\"type\":\"Legend\"}],\"title\":{\"id\":\"28de3849-e2c0-4031-831c-f9cfde4fe6bc\",\"type\":\"Title\"},\"toolbar\":{\"id\":\"3a26ee74-28a3-4fe4-96c8-873e97ce8cfe\",\"type\":\"Toolbar\"},\"toolbar_location\":null,\"x_range\":{\"id\":\"a2bdc62c-f578-4569-83e0-c3eba0df4928\",\"type\":\"Range1d\"},\"x_scale\":{\"id\":\"d752a7c8-fcc1-4b99-9138-018266fcbeb0\",\"type\":\"LinearScale\"},\"y_range\":{\"id\":\"2ec32fb4-eabe-42a1-9745-4294edcfd464\",\"type\":\"Range1d\"},\"y_scale\":{\"id\":\"92b8bcaa-a306-4ca5-b35e-6c0fceb31330\",\"type\":\"LogScale\"}},\"id\":\"da4c1862-953d-426e-969f-b49483eaff33\",\"subtype\":\"Figure\",\"type\":\"Plot\"},{\"attributes\":{\"source\":{\"id\":\"e72163e0-0602-4ca0-8efa-dd3abbbb9b9d\",\"type\":\"ColumnDataSource\"}},\"id\":\"3a3fbfed-fd23-49aa-b434-02500d9da0ab\",\"type\":\"CDSView\"},{\"attributes\":{\"plot\":{\"id\":\"da4c1862-953d-426e-969f-b49483eaff33\",\"subtype\":\"Figure\",\"type\":\"Plot\"},\"ticker\":{\"id\":\"71494695-7057-4d35-a098-6d83141fbd9d\",\"type\":\"BasicTicker\"}},\"id\":\"cdcb128b-d767-46ec-b66b-e57993316690\",\"type\":\"Grid\"},{\"attributes\":{\"callback\":null,\"data\":{\"x\":{\"__ndarray__\":\"dPEGK8OVQEDeoOdcKI48QFbHwpv6Wj5Ay6P+H0H1PkDQ4Pw1Pwc+QE/QQMz8iTtA2A4AykzZN0DdjedX4NEzQGtNrhl/gDBA2D3w2wNCLUCD8yO1LFEsQMSh3yrZ2SxAddHY/lW3LUCQJQyh8TwtQDsZ7GODoSpAi6Dn/2tIJ0DnDLMq6HUkQI7khOlE0SJADOiE4G6jIkCA/E90r7ojQD4p//OgKSZA0QfX6dGqJUCyytltEichQGghgfXIYRlAYiDp91xnE0B2wNHWtrQPQJ4m9qB2vgpAeJDQ8VfQBUDZ0VLI7iYCQFfZT3TydP8/LweR0IUK/T/QULeHxNj4P2vv6z6eL/Q/zgHEDC0f8T/QFWBxKcbuP44Jru1pXOw/gHqFfZV+5z+OfasQZCrhP6t1AyXK0t0/lna9be4v3T/c2Wqej6reP35gz5e/Ud4/nMqPj0zn3D8LaSXAL2PaPwxLIAIe8tI/ycIIktEE0T/QBmDBekPcP1FO88ASwOM/Iq2sIt+z6z9G6FH1eCvyPxuVEdtBb/U/iGRHMeCT9z8UPT1a/HH4P34cIRzqbvg/BVL+/E89+D8UZw90MO/3Pxe6cKnMffc/gpFKgkbl9j+HrQkEYjP2P3zN2LsygPU/XbOBIde49D8Mb12IkenzP3WIqqFOEvM/areay8ZI8j+L6oiWEKHxPzKOAUHPLvE/uT5D5rAN8T9sYOhno1DxP+7HZ16AqPE/jCnpRRNe8T/L5uQkGIfvP9VKN758h+o/8f1zKreS5T9uCZ6e1UPhP0M/OoB87NY/\",\"dtype\":\"float64\",\"shape\":[75]},\"y\":{\"__ndarray__\":\"GhExyth1ND/Sv8nbtpRIP2vylNV0PVE/aTum7souWD/At0SJ8fVgPw3Iuahxymc/MSNhhJWvcD/bTfBN02d3P2zb5nxnaoA/CD5h5MAGhz8NmeH1TyaQP+zrCsc9p5Y/LbKd76fGnz/bLW5ISEmmPww9YvTcQq8/JV2OstnstT8Er5Y7M8G+P0c+r3jqkcU/5h99k6ZBzj88bCIzFzjVP4enV8oyxN0//yH99nXg5D8qOpLLf0jtP5kqGJXUifQ/c9cS8kHP/D+/DpwzojQEQIEmwoanVwxA4lgXt9HgE0BSSZ2AJuIbQAMJih9jjiNA5q4l5INuK0AwTKYKRj0zQNv5fmq8/DpAaCJseHrtQkB/+zpwzoxKQM3MzMzMeFJAZmZmZmZqWEAAAAAAAFxeQM3MzMzMJmJAmpmZmZkfZUBmZmZmZhhoQDMzMzMzEWtAAAAAAAAKbkBmZmZmZoFwQM3MzMzM/XFAMzMzMzN6c0CamZmZmfZ0QAAAAAAAc3ZAZmZmZmbvd0DNzMzMzGt5QDMzMzMz6HpAmpmZmZlkfEAAAAAAAOF9QGZmZmZmXX9AZmZmZuZsgECamZmZGSuBQM3MzMxM6YFAAAAAAICngkAzMzMzs2WDQGZmZmbmI4RAmpmZmRnihEDNzMzMTKCFQAAAAACAXoZAMzMzM7Mch0BmZmZm5tqHQJqZmZkZmYhAzczMzExXiUAAAAAAgBWKQDMzMzOz04pAZmZmZuaRi0CamZmZGVCMQM3MzMxMDo1AAAAAAIDMjUAzMzMzs4qOQGZmZmbmSI9A\",\"dtype\":\"float64\",\"shape\":[75]}},\"selected\":{\"id\":\"4126976f-2e37-4763-870f-978f4bc17737\",\"type\":\"Selection\"},\"selection_policy\":{\"id\":\"c72906d3-fa63-46f1-bbfc-0f5234895df6\",\"type\":\"UnionRenderers\"}},\"id\":\"ec5f3aa5-e092-4781-aad5-f320b4e570a6\",\"type\":\"ColumnDataSource\"},{\"attributes\":{\"line_alpha\":0.1,\"line_color\":\"#1f77b4\",\"line_width\":1.5,\"x\":{\"field\":\"x\"},\"y\":{\"field\":\"y\"}},\"id\":\"8049e790-9035-47ff-bf40-9ae3eb7ace5a\",\"type\":\"Line\"},{\"attributes\":{\"items\":[{\"id\":\"14ff5a46-3b85-4cac-9776-cf8ae9b9e1d0\",\"type\":\"LegendItem\"},{\"id\":\"a275be76-5d72-4e05-b3cb-efa68ae24017\",\"type\":\"LegendItem\"}],\"label_text_font_size\":{\"value\":\"8pt\"},\"location\":\"top_center\",\"orientation\":\"horizontal\",\"plot\":{\"id\":\"36603005-34e0-44c9-9641-954a539d46cd\",\"subtype\":\"Figure\",\"type\":\"Plot\"}},\"id\":\"d7d9d8d0-e5a3-4f96-ae06-1f28f1231236\",\"type\":\"Legend\"},{\"attributes\":{},\"id\":\"1efeb7ff-1eac-4304-b436-1686377b0a46\",\"type\":\"BasicTickFormatter\"},{\"attributes\":{\"plot\":{\"id\":\"9a9bec1f-3266-4c21-9789-cc38acd222cc\",\"subtype\":\"Figure\",\"type\":\"Plot\"},\"ticker\":{\"id\":\"90bac609-c302-4af7-9c0d-48518797b0c4\",\"type\":\"BasicTicker\"}},\"id\":\"d62bfa6c-0f9c-479c-b764-97c89c6c9f56\",\"type\":\"Grid\"},{\"attributes\":{},\"id\":\"71494695-7057-4d35-a098-6d83141fbd9d\",\"type\":\"BasicTicker\"},{\"attributes\":{\"fill_alpha\":{\"value\":0.7},\"fill_color\":{\"value\":\"#984ea3\"},\"line_alpha\":{\"value\":0.7},\"line_color\":{\"value\":\"#984ea3\"},\"x\":{\"field\":\"x\"},\"y\":{\"field\":\"y\"}},\"id\":\"1f129d5f-7d68-4339-9edc-759551134b86\",\"type\":\"Circle\"},{\"attributes\":{\"active_drag\":\"auto\",\"active_inspect\":\"auto\",\"active_scroll\":\"auto\",\"active_tap\":\"auto\",\"tools\":[{\"id\":\"cd07b31d-50d4-44dc-8992-07a00ebfabc5\",\"type\":\"PanTool\"},{\"id\":\"a160ed45-b528-4239-b7d5-ecd42f5a4935\",\"type\":\"WheelZoomTool\"},{\"id\":\"c544a064-8659-452c-a73e-d7bf261000bf\",\"type\":\"BoxZoomTool\"},{\"id\":\"7238ebf8-0e8d-4e79-ac65-9d6a7c75a32a\",\"type\":\"SaveTool\"},{\"id\":\"2585ee27-70f1-4b8c-905d-c9e0d8200266\",\"type\":\"ResetTool\"},{\"id\":\"050498fa-962c-44ef-838e-01aa204a2551\",\"type\":\"HelpTool\"}]},\"id\":\"a6772a79-99e7-4e91-9ea8-2bd3455fb24d\",\"type\":\"Toolbar\"},{\"attributes\":{\"callback\":null,\"data\":{\"x\":{\"__ndarray__\":\"LVz7uCfeQ8ChGUaLJfYYwCMb75vopAPAb3fOabke8j9lWIgE9JsLQOXvyvkb2g9APnR7Fi/LBkCmSIIxVTrrPyu2iXaXmu2/L3WfIbFl+r+C9ZYDcxv0v8J+sAdRy9S/UH1/Rkeq4D8IzsLpVObuP4jqcTibAe0/eTvd8oYO2T+OQTCLDt7Qv5ji9BpoXuW/V0+3xBhy5b94Z7G7lXzav/6pSlfL38G/zBgKKJYesj/I1tW4gTDBP4Gg9xnb/bm/6OHFBmFwzb/Jlv56HxKhv/EZB1BwXNE/tDFGwmnx0T+dgz8RYjK8P0oF0SHPn6A/1zw/k0lFxD8Gy+tFFBfNP2i9183Z08A/N3gKDez1dr+ErhDxWg1oP7z6DbGqTLM/FGuCmYk5qD8ZDNtblLmYvzx7mOPoprO/Rm2hQwsHtr9zgNat/qeyv3TBkyPWuay/lNouayB+pb/vTOCOl1uavx4jDSfir5C/H1Be0ivxhb9YuwufkpI/v2KxTpOelHS/zMZedMBUm7+XBGrFTJ+qv1BpC30ogKq/qPfp7IHAor8ApUU9lFmjv/JYEpkYzKq/kHn7d8SRqr/cmaU2k1ylvxjD/zelpZ+/nlGD3JJLmL/E21bacaGTv/6RwjCw64m/2h/zxmcAhL/NgBME6nGBv9orU+u8T4S/oIG6YxpWhr8lZK/mZTWEv+Zn75KUCXq/gNkHHrReOb9kVHMMU5p/P9Y9Y3OW2Is/nkfL3Nfckj+u+BL/t1+WP0aldYMAE5g/U2koibtulz9Klct3jleXPw5pTN3dV5Y/\",\"dtype\":\"float64\",\"shape\":[75]},\"y\":{\"__ndarray__\":\"GhExyth1ND/Sv8nbtpRIP2vylNV0PVE/aTum7souWD/At0SJ8fVgPw3Iuahxymc/MSNhhJWvcD/bTfBN02d3P2zb5nxnaoA/CD5h5MAGhz8NmeH1TyaQP+zrCsc9p5Y/LbKd76fGnz/bLW5ISEmmPww9YvTcQq8/JV2OstnstT8Er5Y7M8G+P0c+r3jqkcU/5h99k6ZBzj88bCIzFzjVP4enV8oyxN0//yH99nXg5D8qOpLLf0jtP5kqGJXUifQ/c9cS8kHP/D+/DpwzojQEQIEmwoanVwxA4lgXt9HgE0BSSZ2AJuIbQAMJih9jjiNA5q4l5INuK0AwTKYKRj0zQNv5fmq8/DpAaCJseHrtQkB/+zpwzoxKQM3MzMzMeFJAZmZmZmZqWEAAAAAAAFxeQM3MzMzMJmJAmpmZmZkfZUBmZmZmZhhoQDMzMzMzEWtAAAAAAAAKbkBmZmZmZoFwQM3MzMzM/XFAMzMzMzN6c0CamZmZmfZ0QAAAAAAAc3ZAZmZmZmbvd0DNzMzMzGt5QDMzMzMz6HpAmpmZmZlkfEAAAAAAAOF9QGZmZmZmXX9AZmZmZuZsgECamZmZGSuBQM3MzMxM6YFAAAAAAICngkAzMzMzs2WDQGZmZmbmI4RAmpmZmRnihEDNzMzMTKCFQAAAAACAXoZAMzMzM7Mch0BmZmZm5tqHQJqZmZkZmYhAzczMzExXiUAAAAAAgBWKQDMzMzOz04pAZmZmZuaRi0CamZmZGVCMQM3MzMxMDo1AAAAAAIDMjUAzMzMzs4qOQGZmZmbmSI9A\",\"dtype\":\"float64\",\"shape\":[75]}},\"selected\":{\"id\":\"c1afa733-6877-4558-94cb-284cefb0b7b5\",\"type\":\"Selection\"},\"selection_policy\":{\"id\":\"ef312096-048f-4023-8ecd-5aaa6a346a22\",\"type\":\"UnionRenderers\"}},\"id\":\"e74ec237-1ed5-475c-8ffc-3163b67379a5\",\"type\":\"ColumnDataSource\"},{\"attributes\":{\"dimension\":1,\"plot\":{\"id\":\"36603005-34e0-44c9-9641-954a539d46cd\",\"subtype\":\"Figure\",\"type\":\"Plot\"},\"ticker\":{\"id\":\"119797d9-e598-4e54-920f-3137205ecadb\",\"type\":\"BasicTicker\"}},\"id\":\"7ea5323c-664c-4f83-b931-7d624e67aa01\",\"type\":\"Grid\"},{\"attributes\":{\"label\":{\"value\":\"CLIRAD (single-run)\"},\"renderers\":[{\"id\":\"4c8a5b0c-7885-4039-85af-aa5b8c80bcd8\",\"type\":\"GlyphRenderer\"}]},\"id\":\"14ff5a46-3b85-4cac-9776-cf8ae9b9e1d0\",\"type\":\"LegendItem\"},{\"attributes\":{\"line_alpha\":0.1,\"line_color\":\"#1f77b4\",\"line_dash\":[6],\"line_width\":5,\"x\":{\"field\":\"x\"},\"y\":{\"field\":\"y\"}},\"id\":\"c7e4a59a-89a5-4d29-a325-0b4ee249505f\",\"type\":\"Line\"},{\"attributes\":{\"fill_alpha\":{\"value\":0.7},\"fill_color\":{\"value\":\"#4daf4a\"},\"line_alpha\":{\"value\":0.7},\"line_color\":{\"value\":\"#4daf4a\"},\"x\":{\"field\":\"x\"},\"y\":{\"field\":\"y\"}},\"id\":\"eb46ba74-4f13-4674-b962-56e9f707bded\",\"type\":\"Circle\"},{\"attributes\":{\"overlay\":{\"id\":\"6f888a47-ea9e-41e3-a15f-25e4b1ddf26b\",\"type\":\"BoxAnnotation\"}},\"id\":\"c544a064-8659-452c-a73e-d7bf261000bf\",\"type\":\"BoxZoomTool\"},{\"attributes\":{\"data_source\":{\"id\":\"8300efd7-a1be-4487-b051-19ddef0a59b4\",\"type\":\"ColumnDataSource\"},\"glyph\":{\"id\":\"7a3f0683-f8ad-4e5c-aeae-dfc549c0e7f4\",\"type\":\"Line\"},\"hover_glyph\":null,\"muted_glyph\":null,\"nonselection_glyph\":{\"id\":\"d443284f-188e-44cd-8732-892f4de55d7f\",\"type\":\"Line\"},\"selection_glyph\":null,\"view\":{\"id\":\"a658d400-1dd0-43fe-a627-f7cd5da01973\",\"type\":\"CDSView\"}},\"id\":\"021314e7-1461-4582-8c5d-2277dd0ebbcf\",\"type\":\"GlyphRenderer\"},{\"attributes\":{\"source\":{\"id\":\"5078cee9-4b7c-40b8-980e-64d57fe29080\",\"type\":\"ColumnDataSource\"}},\"id\":\"52f1b238-79b5-4ff8-bc3a-ab246c0bef2f\",\"type\":\"CDSView\"},{\"attributes\":{\"data_source\":{\"id\":\"5078cee9-4b7c-40b8-980e-64d57fe29080\",\"type\":\"ColumnDataSource\"},\"glyph\":{\"id\":\"7f5ae117-b001-49f5-bf71-db1b742a7abe\",\"type\":\"Circle\"},\"hover_glyph\":null,\"muted_glyph\":null,\"nonselection_glyph\":{\"id\":\"2aee0321-1448-46a2-b0ba-7b832136fc71\",\"type\":\"Circle\"},\"selection_glyph\":null,\"view\":{\"id\":\"52f1b238-79b5-4ff8-bc3a-ab246c0bef2f\",\"type\":\"CDSView\"}},\"id\":\"94821412-b167-4ef8-b7a0-e08f548df09c\",\"type\":\"GlyphRenderer\"},{\"attributes\":{},\"id\":\"4cc2c52a-11a8-4728-b765-f366836a0840\",\"type\":\"BasicTicker\"},{\"attributes\":{},\"id\":\"f62d8d9a-b70e-4a83-83ff-04fb737dd0f2\",\"type\":\"SaveTool\"},{\"attributes\":{\"line_color\":\"#4daf4a\",\"line_width\":1.5,\"x\":{\"field\":\"x\"},\"y\":{\"field\":\"y\"}},\"id\":\"e9f318fe-9ac7-411b-b40c-d021ecbe7e8d\",\"type\":\"Line\"},{\"attributes\":{\"callback\":null,\"end\":0.9917710995134403,\"start\":-1.6759815666374394},\"id\":\"0f500aec-0878-44f7-82bb-a6429465076d\",\"type\":\"Range1d\"},{\"attributes\":{},\"id\":\"050498fa-962c-44ef-838e-01aa204a2551\",\"type\":\"HelpTool\"},{\"attributes\":{\"callback\":null,\"data\":{\"x\":{\"__ndarray__\":\"0CYBcvU5UkCik9zf2GVBQF1VoNfLZ0BAVLxhiVXTPUDD1Wu1wJM6QFJyB025jjdAU6Aw5+b/NECYe1uuDfgyQB6bYtVTbTFAPxYSAF1HMEA00pYVm9QuQLolHbMzgC1AntlwirGsLECv+G9SjE4rQJH6ZLBp0ShAsLZQyPd/JkDyjgyf2PwkQLgyNGsrJyRAA13QbJD6I0C8hy0ilI4kQOVTXCEgcSZAovOGvZSGJUBVc/ZmUOIgQOf/6GHAyRlAcE8fAOBSFEDRur1U//gPQGFD9ZbokghAQsqHuSqSA0C91ci3W0UBQCtRQfvz7/4/kh8pntyB+j9t1/n+4TX1P773MAUjFfI/RgzR+CI28T8hBW8WHK7uPzVKjJfU8uk/0FPt4/z65T/wVYqzMPDhPz7K9C5CXuE/8+hSn9hY4T/9PPCkR6rhP1XsIC599OA/66X1nBCX3z/YbRM56QjcPz4dkSQc/dM/S7Wb8Fq00T+/yQdmX0vcP7TrGf476eM/WqNPJoWO7D9qOH1bcwDzP2bw+R5DQ/Y/RLSuQOQp+D8+aif8yAz5P0Wv6eBKRfk/0i2+IN4R+T/ik8QNFZr4PyS5UD5j/Pc/yJ68zXRG9z/2CHPL54H2P59SOhwKtPU/npkP8dfg9D8NlmVcdQz0P80ugRvuOvM/byxiAHN18j9USVZie8nxP5l9lNXYSPE/OB+F0UYP8T8Y7dsUCTHxP3EBgTHPcPE/bfx15p8S8T8FT+xkGtTuP6mdG7rkxuk/pboqTkHX5D/CrN8qGYngP7R4ZaL+htU/\",\"dtype\":\"float64\",\"shape\":[75]},\"y\":{\"__ndarray__\":\"GhExyth1ND/Sv8nbtpRIP2vylNV0PVE/aTum7souWD/At0SJ8fVgPw3Iuahxymc/MSNhhJWvcD/bTfBN02d3P2zb5nxnaoA/CD5h5MAGhz8NmeH1TyaQP+zrCsc9p5Y/LbKd76fGnz/bLW5ISEmmPww9YvTcQq8/JV2OstnstT8Er5Y7M8G+P0c+r3jqkcU/5h99k6ZBzj88bCIzFzjVP4enV8oyxN0//yH99nXg5D8qOpLLf0jtP5kqGJXUifQ/c9cS8kHP/D+/DpwzojQEQIEmwoanVwxA4lgXt9HgE0BSSZ2AJuIbQAMJih9jjiNA5q4l5INuK0AwTKYKRj0zQNv5fmq8/DpAaCJseHrtQkB/+zpwzoxKQM3MzMzMeFJAZmZmZmZqWEAAAAAAAFxeQM3MzMzMJmJAmpmZmZkfZUBmZmZmZhhoQDMzMzMzEWtAAAAAAAAKbkBmZmZmZoFwQM3MzMzM/XFAMzMzMzN6c0CamZmZmfZ0QAAAAAAAc3ZAZmZmZmbvd0DNzMzMzGt5QDMzMzMz6HpAmpmZmZlkfEAAAAAAAOF9QGZmZmZmXX9AZmZmZuZsgECamZmZGSuBQM3MzMxM6YFAAAAAAICngkAzMzMzs2WDQGZmZmbmI4RAmpmZmRnihEDNzMzMTKCFQAAAAACAXoZAMzMzM7Mch0BmZmZm5tqHQJqZmZkZmYhAzczMzExXiUAAAAAAgBWKQDMzMzOz04pAZmZmZuaRi0CamZmZGVCMQM3MzMxMDo1AAAAAAIDMjUAzMzMzs4qOQGZmZmbmSI9A\",\"dtype\":\"float64\",\"shape\":[75]}},\"selected\":{\"id\":\"4698ecb1-0afd-4370-9eb4-68533f7769ad\",\"type\":\"Selection\"},\"selection_policy\":{\"id\":\"822ea580-4d17-4a65-b30b-be385367c7c1\",\"type\":\"UnionRenderers\"}},\"id\":\"6d392f45-8611-4405-bc64-583b1a214693\",\"type\":\"ColumnDataSource\"},{\"attributes\":{\"axis_label\":\"cooling rate [K/day]\",\"formatter\":{\"id\":\"7e47cc44-d1e3-46a2-9519-b08b782ef751\",\"type\":\"BasicTickFormatter\"},\"plot\":{\"id\":\"36603005-34e0-44c9-9641-954a539d46cd\",\"subtype\":\"Figure\",\"type\":\"Plot\"},\"ticker\":{\"id\":\"4cc2c52a-11a8-4728-b765-f366836a0840\",\"type\":\"BasicTicker\"}},\"id\":\"99cbff6b-bb4c-4e17-b217-ab144977399e\",\"type\":\"LinearAxis\"},{\"attributes\":{},\"id\":\"229bb338-c86e-4f9a-8d04-5f356605ee1b\",\"type\":\"PanTool\"},{\"attributes\":{},\"id\":\"9bdd862f-f8be-44c4-8bd8-40e9d3f71b44\",\"type\":\"UnionRenderers\"},{\"attributes\":{},\"id\":\"3067d7ab-ba19-4592-8a43-957b156973f0\",\"type\":\"BasicTickFormatter\"},{\"attributes\":{\"plot\":{\"id\":\"36603005-34e0-44c9-9641-954a539d46cd\",\"subtype\":\"Figure\",\"type\":\"Plot\"},\"ticker\":{\"id\":\"4cc2c52a-11a8-4728-b765-f366836a0840\",\"type\":\"BasicTicker\"}},\"id\":\"0e201bfc-f849-444e-ab7b-8b6500d16011\",\"type\":\"Grid\"},{\"attributes\":{\"callback\":null,\"data\":{\"x\":{\"__ndarray__\":\"0CYBcvU5UkCik9zf2GVBQF1VoNfLZ0BAVLxhiVXTPUDD1Wu1wJM6QFJyB025jjdAU6Aw5+b/NECYe1uuDfgyQB6bYtVTbTFAPxYSAF1HMEA00pYVm9QuQLolHbMzgC1AntlwirGsLECv+G9SjE4rQJH6ZLBp0ShAsLZQyPd/JkDyjgyf2PwkQLgyNGsrJyRAA13QbJD6I0C8hy0ilI4kQOVTXCEgcSZAovOGvZSGJUBVc/ZmUOIgQOf/6GHAyRlAcE8fAOBSFEDRur1U//gPQGFD9ZbokghAQsqHuSqSA0C91ci3W0UBQCtRQfvz7/4/kh8pntyB+j9t1/n+4TX1P773MAUjFfI/RgzR+CI28T8hBW8WHK7uPzVKjJfU8uk/0FPt4/z65T/wVYqzMPDhPz7K9C5CXuE/8+hSn9hY4T/9PPCkR6rhP1XsIC599OA/66X1nBCX3z/YbRM56QjcPz4dkSQc/dM/S7Wb8Fq00T+/yQdmX0vcP7TrGf476eM/WqNPJoWO7D9qOH1bcwDzP2bw+R5DQ/Y/RLSuQOQp+D8+aif8yAz5P0Wv6eBKRfk/0i2+IN4R+T/ik8QNFZr4PyS5UD5j/Pc/yJ68zXRG9z/2CHPL54H2P59SOhwKtPU/npkP8dfg9D8NlmVcdQz0P80ugRvuOvM/byxiAHN18j9USVZie8nxP5l9lNXYSPE/OB+F0UYP8T8Y7dsUCTHxP3EBgTHPcPE/bfx15p8S8T8FT+xkGtTuP6mdG7rkxuk/pboqTkHX5D/CrN8qGYngP7R4ZaL+htU/\",\"dtype\":\"float64\",\"shape\":[75]},\"y\":{\"__ndarray__\":\"GhExyth1ND/Sv8nbtpRIP2vylNV0PVE/aTum7souWD/At0SJ8fVgPw3Iuahxymc/MSNhhJWvcD/bTfBN02d3P2zb5nxnaoA/CD5h5MAGhz8NmeH1TyaQP+zrCsc9p5Y/LbKd76fGnz/bLW5ISEmmPww9YvTcQq8/JV2OstnstT8Er5Y7M8G+P0c+r3jqkcU/5h99k6ZBzj88bCIzFzjVP4enV8oyxN0//yH99nXg5D8qOpLLf0jtP5kqGJXUifQ/c9cS8kHP/D+/DpwzojQEQIEmwoanVwxA4lgXt9HgE0BSSZ2AJuIbQAMJih9jjiNA5q4l5INuK0AwTKYKRj0zQNv5fmq8/DpAaCJseHrtQkB/+zpwzoxKQM3MzMzMeFJAZmZmZmZqWEAAAAAAAFxeQM3MzMzMJmJAmpmZmZkfZUBmZmZmZhhoQDMzMzMzEWtAAAAAAAAKbkBmZmZmZoFwQM3MzMzM/XFAMzMzMzN6c0CamZmZmfZ0QAAAAAAAc3ZAZmZmZmbvd0DNzMzMzGt5QDMzMzMz6HpAmpmZmZlkfEAAAAAAAOF9QGZmZmZmXX9AZmZmZuZsgECamZmZGSuBQM3MzMxM6YFAAAAAAICngkAzMzMzs2WDQGZmZmbmI4RAmpmZmRnihEDNzMzMTKCFQAAAAACAXoZAMzMzM7Mch0BmZmZm5tqHQJqZmZkZmYhAzczMzExXiUAAAAAAgBWKQDMzMzOz04pAZmZmZuaRi0CamZmZGVCMQM3MzMxMDo1AAAAAAIDMjUAzMzMzs4qOQGZmZmbmSI9A\",\"dtype\":\"float64\",\"shape\":[75]}},\"selected\":{\"id\":\"cbc92025-e7d2-49ae-bdaf-6f276ece3412\",\"type\":\"Selection\"},\"selection_policy\":{\"id\":\"5b3a88c6-9b45-44bb-8520-186d634e94a8\",\"type\":\"UnionRenderers\"}},\"id\":\"5078cee9-4b7c-40b8-980e-64d57fe29080\",\"type\":\"ColumnDataSource\"},{\"attributes\":{},\"id\":\"4126976f-2e37-4763-870f-978f4bc17737\",\"type\":\"Selection\"},{\"attributes\":{\"line_alpha\":0.1,\"line_color\":\"#1f77b4\",\"line_dash\":[6],\"line_width\":5,\"x\":{\"field\":\"x\"},\"y\":{\"field\":\"y\"}},\"id\":\"49f74209-a541-4263-93ea-e8503b1e4e88\",\"type\":\"Line\"},{\"attributes\":{\"axis_label\":\"cooling rate [K/day]\",\"formatter\":{\"id\":\"1efeb7ff-1eac-4304-b436-1686377b0a46\",\"type\":\"BasicTickFormatter\"},\"plot\":{\"id\":\"9a9bec1f-3266-4c21-9789-cc38acd222cc\",\"subtype\":\"Figure\",\"type\":\"Plot\"},\"ticker\":{\"id\":\"90bac609-c302-4af7-9c0d-48518797b0c4\",\"type\":\"BasicTicker\"}},\"id\":\"c8bc10b3-622b-4eeb-b2d2-7b8fa64d8ed0\",\"type\":\"LinearAxis\"},{\"attributes\":{\"ticker\":null},\"id\":\"36385cd7-380d-4cde-ba09-ef72b1deb746\",\"type\":\"LogTickFormatter\"},{\"attributes\":{},\"id\":\"a160ed45-b528-4239-b7d5-ecd42f5a4935\",\"type\":\"WheelZoomTool\"},{\"attributes\":{},\"id\":\"9787f0df-fff3-489d-86be-a5117bc924cf\",\"type\":\"Selection\"},{\"attributes\":{\"source\":{\"id\":\"ec5f3aa5-e092-4781-aad5-f320b4e570a6\",\"type\":\"ColumnDataSource\"}},\"id\":\"b96609b3-3a4f-4404-a7d7-53a1c795911d\",\"type\":\"CDSView\"},{\"attributes\":{},\"id\":\"21f1b2ef-8a6d-4979-b0c0-53df9936df02\",\"type\":\"WheelZoomTool\"},{\"attributes\":{\"line_alpha\":0.1,\"line_color\":\"#1f77b4\",\"line_width\":1.5,\"x\":{\"field\":\"x\"},\"y\":{\"field\":\"y\"}},\"id\":\"4a272b05-3cb5-4fb7-bcd0-8dfd47733f01\",\"type\":\"Line\"},{\"attributes\":{},\"id\":\"5b3a88c6-9b45-44bb-8520-186d634e94a8\",\"type\":\"UnionRenderers\"},{\"attributes\":{},\"id\":\"4698ecb1-0afd-4370-9eb4-68533f7769ad\",\"type\":\"Selection\"},{\"attributes\":{\"plot\":null,\"text\":\"\"},\"id\":\"28de3849-e2c0-4031-831c-f9cfde4fe6bc\",\"type\":\"Title\"},{\"attributes\":{\"overlay\":{\"id\":\"daf9458e-e2f6-4f09-9970-8a2c0d4f1d2d\",\"type\":\"BoxAnnotation\"}},\"id\":\"7f5bf569-350a-4f70-b83c-68d7c8777830\",\"type\":\"BoxZoomTool\"},{\"attributes\":{},\"id\":\"c72906d3-fa63-46f1-bbfc-0f5234895df6\",\"type\":\"UnionRenderers\"},{\"attributes\":{\"label\":{\"value\":\"CRD\"},\"renderers\":[{\"id\":\"d9de6699-462b-41da-a162-52b5949abf04\",\"type\":\"GlyphRenderer\"},{\"id\":\"85899211-f276-4398-b2c8-a1c2bab4735d\",\"type\":\"GlyphRenderer\"}]},\"id\":\"395dc32c-e74a-4968-92bd-8f0be91ac142\",\"type\":\"LegendItem\"},{\"attributes\":{\"bottom_units\":\"screen\",\"fill_alpha\":{\"value\":0.5},\"fill_color\":{\"value\":\"lightgrey\"},\"left_units\":\"screen\",\"level\":\"overlay\",\"line_alpha\":{\"value\":1.0},\"line_color\":{\"value\":\"black\"},\"line_dash\":[4,4],\"line_width\":{\"value\":2},\"plot\":null,\"render_mode\":\"css\",\"right_units\":\"screen\",\"top_units\":\"screen\"},\"id\":\"6f888a47-ea9e-41e3-a15f-25e4b1ddf26b\",\"type\":\"BoxAnnotation\"},{\"attributes\":{},\"id\":\"a89e4315-1dd4-4cc5-bae6-df14b8f23d12\",\"type\":\"LinearScale\"},{\"attributes\":{\"label\":{\"value\":\"CLIRAD (single-run) - CRD\"},\"renderers\":[{\"id\":\"5dc9e5ea-bed7-4b5e-bf7e-35bfd6fa0bdf\",\"type\":\"GlyphRenderer\"},{\"id\":\"c3b4a0b6-6bc6-4059-a30c-6c952b974481\",\"type\":\"GlyphRenderer\"}]},\"id\":\"87a8a56a-5943-4c6e-8d79-d35aaedb1a0f\",\"type\":\"LegendItem\"},{\"attributes\":{\"axis_label\":\"pressure [mb]\",\"formatter\":{\"id\":\"3067d7ab-ba19-4592-8a43-957b156973f0\",\"type\":\"BasicTickFormatter\"},\"plot\":{\"id\":\"36603005-34e0-44c9-9641-954a539d46cd\",\"subtype\":\"Figure\",\"type\":\"Plot\"},\"ticker\":{\"id\":\"119797d9-e598-4e54-920f-3137205ecadb\",\"type\":\"BasicTicker\"}},\"id\":\"4fac5bc7-6df0-4f1f-84db-4320083881b6\",\"type\":\"LinearAxis\"},{\"attributes\":{},\"id\":\"51774dd9-8344-4f44-9161-e3a657c776e3\",\"type\":\"Selection\"},{\"attributes\":{},\"id\":\"822ea580-4d17-4a65-b30b-be385367c7c1\",\"type\":\"UnionRenderers\"},{\"attributes\":{\"data_source\":{\"id\":\"6d392f45-8611-4405-bc64-583b1a214693\",\"type\":\"ColumnDataSource\"},\"glyph\":{\"id\":\"e9f318fe-9ac7-411b-b40c-d021ecbe7e8d\",\"type\":\"Line\"},\"hover_glyph\":null,\"muted_glyph\":null,\"nonselection_glyph\":{\"id\":\"4a272b05-3cb5-4fb7-bcd0-8dfd47733f01\",\"type\":\"Line\"},\"selection_glyph\":null,\"view\":{\"id\":\"0835731c-6087-4e39-a1c0-bbb71aa27e0d\",\"type\":\"CDSView\"}},\"id\":\"85899211-f276-4398-b2c8-a1c2bab4735d\",\"type\":\"GlyphRenderer\"},{\"attributes\":{},\"id\":\"cbc92025-e7d2-49ae-bdaf-6f276ece3412\",\"type\":\"Selection\"}],\"root_ids\":[\"1aa2b372-b0b2-4c25-8788-e0d472ac2115\"]},\"title\":\"Bokeh Application\",\"version\":\"0.12.16\"}};\n",
       "  var render_items = [{\"docid\":\"f6e87ea0-7236-4b59-b9e8-2495afb36605\",\"elementid\":\"c3ba7ed2-4365-4be2-bc7a-b56455932942\",\"modelid\":\"1aa2b372-b0b2-4c25-8788-e0d472ac2115\"}];\n",
       "  root.Bokeh.embed.embed_items_notebook(docs_json, render_items);\n",
       "\n",
       "  }\n",
       "  if (root.Bokeh !== undefined) {\n",
       "    embed_document(root);\n",
       "  } else {\n",
       "    var attempts = 0;\n",
       "    var timer = setInterval(function(root) {\n",
       "      if (root.Bokeh !== undefined) {\n",
       "        embed_document(root);\n",
       "        clearInterval(timer);\n",
       "      }\n",
       "      attempts++;\n",
       "      if (attempts > 100) {\n",
       "        console.log(\"Bokeh: ERROR: Unable to run BokehJS code because BokehJS library is missing\")\n",
       "        clearInterval(timer);\n",
       "      }\n",
       "    }, 10, root)\n",
       "  }\n",
       "})(window);"
      ],
      "application/vnd.bokehjs_exec.v0+json": ""
     },
     "metadata": {
      "application/vnd.bokehjs_exec.v0+json": {
       "id": "1aa2b372-b0b2-4c25-8788-e0d472ac2115"
      }
     },
     "output_type": "display_data"
    },
    {
     "data": {
      "text/markdown": [
       "*FIGURE.* Cooling rates & difference."
      ],
      "text/plain": [
       "<IPython.core.display.Markdown object>"
      ]
     },
     "metadata": {},
     "output_type": "display_data"
    },
    {
     "data": {
      "text/html": [
       "<a id=\"Fluxes._saw.\"></a>"
      ],
      "text/plain": [
       "<IPython.core.display.HTML object>"
      ]
     },
     "metadata": {},
     "output_type": "display_data"
    },
    {
     "data": {
      "text/markdown": [
       "# Fluxes. saw."
      ],
      "text/plain": [
       "<IPython.core.display.Markdown object>"
      ]
     },
     "metadata": {},
     "output_type": "display_data"
    },
    {
     "data": {
      "text/html": [
       "\n",
       "<div class=\"bk-root\">\n",
       "    <div class=\"bk-plotdiv\" id=\"33878f54-9a5f-4b2b-9b87-b38fb1caab7c\"></div>\n",
       "</div>"
      ]
     },
     "metadata": {},
     "output_type": "display_data"
    },
    {
     "data": {
      "application/javascript": [
       "(function(root) {\n",
       "  function embed_document(root) {\n",
       "    \n",
       "  var docs_json = {\"c1e04f17-a869-41b1-9b0d-1d0eb1a09089\":{\"roots\":{\"references\":[{\"attributes\":{\"data_source\":{\"id\":\"4098528c-44e8-4c1f-8b7f-6be5f48a5ec2\",\"type\":\"ColumnDataSource\"},\"glyph\":{\"id\":\"239b5145-4e6d-44c3-9071-7b647ad267d7\",\"type\":\"VBar\"},\"hover_glyph\":null,\"muted_glyph\":null,\"nonselection_glyph\":{\"id\":\"3b0f38ea-82ad-4881-8e31-595d88dfaee1\",\"type\":\"VBar\"},\"selection_glyph\":null,\"view\":{\"id\":\"cbddfcae-d06b-4358-9e8e-b6e244be494e\",\"type\":\"CDSView\"}},\"id\":\"671e5f9e-a0db-4877-b2ec-c94a8559fca0\",\"type\":\"GlyphRenderer\"},{\"attributes\":{},\"id\":\"7b336850-a86b-434c-925b-9c4b4b38e6b3\",\"type\":\"BasicTickFormatter\"},{\"attributes\":{},\"id\":\"a44e55d9-2853-4e13-a17b-786a4617fe4c\",\"type\":\"UnionRenderers\"},{\"attributes\":{},\"id\":\"441d8a47-02e8-4cfc-bac4-bd1585ed43ab\",\"type\":\"Selection\"},{\"attributes\":{\"toolbar\":{\"id\":\"3ea42a79-9a3b-4a35-a891-99b4a40ca814\",\"type\":\"ProxyToolbar\"},\"toolbar_location\":\"above\"},\"id\":\"13d565ef-3fec-4097-aab0-5e4a8f5070df\",\"type\":\"ToolbarBox\"},{\"attributes\":{},\"id\":\"a48fb8b5-5461-40c6-a02b-491cd6587c43\",\"type\":\"CategoricalTicker\"},{\"attributes\":{},\"id\":\"870f4eb4-5a21-42c6-9047-bd9cb542d222\",\"type\":\"Selection\"},{\"attributes\":{},\"id\":\"f69ec0dc-63d1-4051-b5bf-f9d5fbb36d66\",\"type\":\"BasicTickFormatter\"},{\"attributes\":{\"fill_color\":{\"value\":\"#1f77b4\"},\"line_color\":{\"value\":\"#1f77b4\"},\"top\":{\"field\":\"flux\"},\"width\":{\"value\":0.9},\"x\":{\"field\":\"band\"}},\"id\":\"199fc4eb-5683-4724-a19d-57d91271475e\",\"type\":\"VBar\"},{\"attributes\":{},\"id\":\"ea06be13-0692-4a20-92d8-230ae906d774\",\"type\":\"BasicTicker\"},{\"attributes\":{\"dimension\":1,\"plot\":{\"id\":\"8c1348f2-53f0-48a5-82ed-ae3941ac2aad\",\"subtype\":\"Figure\",\"type\":\"Plot\"},\"ticker\":{\"id\":\"ea06be13-0692-4a20-92d8-230ae906d774\",\"type\":\"BasicTicker\"}},\"id\":\"77b11c7e-5967-4f4b-b387-0dff4a23e6c4\",\"type\":\"Grid\"},{\"attributes\":{\"overlay\":{\"id\":\"ceabcb91-7d6d-435f-b281-ae4ff74ef6e5\",\"type\":\"BoxAnnotation\"}},\"id\":\"16cf20e0-9cb8-43c7-a7a2-9a1d845950ee\",\"type\":\"BoxZoomTool\"},{\"attributes\":{\"plot\":null,\"text\":\"Atmosphere heating. CLIRAD (single-run) - CRD.\"},\"id\":\"14882b54-5880-4ac2-8d8e-f005b214df44\",\"type\":\"Title\"},{\"attributes\":{\"axis_label\":\"spectral band\",\"formatter\":{\"id\":\"9418d1a9-422f-49fd-8487-7dd3a6899f14\",\"type\":\"CategoricalTickFormatter\"},\"plot\":{\"id\":\"8c1348f2-53f0-48a5-82ed-ae3941ac2aad\",\"subtype\":\"Figure\",\"type\":\"Plot\"},\"ticker\":{\"id\":\"a48fb8b5-5461-40c6-a02b-491cd6587c43\",\"type\":\"CategoricalTicker\"}},\"id\":\"c5638b2f-ad8c-42b2-8342-d1dfd8c59fc1\",\"type\":\"CategoricalAxis\"},{\"attributes\":{},\"id\":\"9418d1a9-422f-49fd-8487-7dd3a6899f14\",\"type\":\"CategoricalTickFormatter\"},{\"attributes\":{\"axis_label\":\"flux (W m-2)\",\"formatter\":{\"id\":\"7b336850-a86b-434c-925b-9c4b4b38e6b3\",\"type\":\"BasicTickFormatter\"},\"plot\":{\"id\":\"8c1348f2-53f0-48a5-82ed-ae3941ac2aad\",\"subtype\":\"Figure\",\"type\":\"Plot\"},\"ticker\":{\"id\":\"ea06be13-0692-4a20-92d8-230ae906d774\",\"type\":\"BasicTicker\"}},\"id\":\"1e854e2c-5c0f-4e3a-a296-e0ccea57d2a4\",\"type\":\"LinearAxis\"},{\"attributes\":{},\"id\":\"db602dbb-90f4-4e87-8cec-fc397ae9c685\",\"type\":\"PanTool\"},{\"attributes\":{},\"id\":\"9671e731-17d6-4d58-af34-800eeb6d5c06\",\"type\":\"CategoricalTickFormatter\"},{\"attributes\":{\"bottom_units\":\"screen\",\"fill_alpha\":{\"value\":0.5},\"fill_color\":{\"value\":\"lightgrey\"},\"left_units\":\"screen\",\"level\":\"overlay\",\"line_alpha\":{\"value\":1.0},\"line_color\":{\"value\":\"black\"},\"line_dash\":[4,4],\"line_width\":{\"value\":2},\"plot\":null,\"render_mode\":\"css\",\"right_units\":\"screen\",\"top_units\":\"screen\"},\"id\":\"6d9a2c42-e9e8-4f49-a38f-da77c388a40c\",\"type\":\"BoxAnnotation\"},{\"attributes\":{},\"id\":\"e9facdd5-5cad-4ce6-ace6-47bdd2fe80ad\",\"type\":\"Selection\"},{\"attributes\":{\"fill_color\":{\"value\":\"#1f77b4\"},\"line_color\":{\"value\":\"#1f77b4\"},\"top\":{\"field\":\"flux\"},\"width\":{\"value\":0.9},\"x\":{\"field\":\"band\"}},\"id\":\"239b5145-4e6d-44c3-9071-7b647ad267d7\",\"type\":\"VBar\"},{\"attributes\":{\"callback\":null,\"data\":{\"band\":[\"1\",\"2\",\"3\",\"4\",\"5\",\"6\",\"7\",\"8\",\"9\",\"10\",\"11\"],\"flux\":{\"__ndarray__\":\"AEDdJAaBZb8Asg5HV+nAvwA2IEJcueC/AAeY+Q5+tj/A8wOyMnXIPyAWSPVCprm/QFhl8EEZsD/ga9jnGC20vwDdJRad0ZM/AJDEy9O5oj8Ad2DnQ6NtPw==\",\"dtype\":\"float64\",\"shape\":[11]}},\"selected\":{\"id\":\"870f4eb4-5a21-42c6-9047-bd9cb542d222\",\"type\":\"Selection\"},\"selection_policy\":{\"id\":\"a44e55d9-2853-4e13-a17b-786a4617fe4c\",\"type\":\"UnionRenderers\"}},\"id\":\"f72819fc-d733-4b39-9da3-6ed072cdb6cd\",\"type\":\"ColumnDataSource\"},{\"attributes\":{},\"id\":\"1c2237bf-90dc-418c-bc97-39844849fa0d\",\"type\":\"LinearScale\"},{\"attributes\":{},\"id\":\"9df21a2f-5948-4f56-a1af-ece7eb883e1b\",\"type\":\"WheelZoomTool\"},{\"attributes\":{},\"id\":\"3915623c-521c-4223-9a04-fa2301e63fdd\",\"type\":\"HelpTool\"},{\"attributes\":{\"below\":[{\"id\":\"65be0473-7354-4a5c-99a4-17d028ecda3a\",\"type\":\"CategoricalAxis\"}],\"left\":[{\"id\":\"23c05d40-6b8c-418f-bcab-e3c9d03c6ea4\",\"type\":\"LinearAxis\"}],\"plot_height\":300,\"plot_width\":300,\"renderers\":[{\"id\":\"65be0473-7354-4a5c-99a4-17d028ecda3a\",\"type\":\"CategoricalAxis\"},{\"id\":\"41ef9c3a-3fda-43bc-b43a-8985e15906ce\",\"type\":\"Grid\"},{\"id\":\"23c05d40-6b8c-418f-bcab-e3c9d03c6ea4\",\"type\":\"LinearAxis\"},{\"id\":\"732453f0-bd7b-41b3-9dff-464158bdda92\",\"type\":\"Grid\"},{\"id\":\"595c34d7-10c2-4f89-b54c-354f403a5f04\",\"type\":\"BoxAnnotation\"},{\"id\":\"c2966031-8152-4dab-a9f4-cfcc1b664e52\",\"type\":\"GlyphRenderer\"}],\"title\":{\"id\":\"6d8229a4-1530-4465-b51b-f907628d0a86\",\"type\":\"Title\"},\"toolbar\":{\"id\":\"f40ee611-b078-44a0-82d5-3059d610a921\",\"type\":\"Toolbar\"},\"toolbar_location\":null,\"x_range\":{\"id\":\"37811bf5-f3e2-46cd-92c2-7e4652bb512c\",\"type\":\"FactorRange\"},\"x_scale\":{\"id\":\"53044649-9dda-4460-b175-81e87772deb4\",\"type\":\"CategoricalScale\"},\"y_range\":{\"id\":\"d45725bd-27e0-4947-91e1-15274baaedbc\",\"type\":\"DataRange1d\"},\"y_scale\":{\"id\":\"f65df106-6880-4dc4-8461-b473b7673b05\",\"type\":\"LinearScale\"}},\"id\":\"0c80945b-50b8-44f7-aa72-7b8544e009f7\",\"subtype\":\"Figure\",\"type\":\"Plot\"},{\"attributes\":{\"callback\":null,\"factors\":[\"1\",\"2\",\"3\",\"4\",\"5\",\"6\",\"7\",\"8\",\"9\",\"10\",\"11\"]},\"id\":\"126aa2f6-ca9b-4fe8-9bb0-2a447d9f998f\",\"type\":\"FactorRange\"},{\"attributes\":{},\"id\":\"f85792a0-fbc4-4bae-a8fb-dd8ee9429fa8\",\"type\":\"CategoricalScale\"},{\"attributes\":{},\"id\":\"dc7995ac-ffcf-4bec-b79e-7e0fab22755f\",\"type\":\"BasicTickFormatter\"},{\"attributes\":{},\"id\":\"d9122fae-7e3c-4941-be1f-5d371774d69e\",\"type\":\"UnionRenderers\"},{\"attributes\":{\"children\":[{\"id\":\"0c80945b-50b8-44f7-aa72-7b8544e009f7\",\"subtype\":\"Figure\",\"type\":\"Plot\"},{\"id\":\"e9bb29f3-59bd-4635-95ba-f47bbf066eec\",\"subtype\":\"Figure\",\"type\":\"Plot\"},{\"id\":\"8c1348f2-53f0-48a5-82ed-ae3941ac2aad\",\"subtype\":\"Figure\",\"type\":\"Plot\"}]},\"id\":\"0d9e3fd4-dccf-424a-b8dd-51638d70092d\",\"type\":\"Row\"},{\"attributes\":{\"source\":{\"id\":\"4098528c-44e8-4c1f-8b7f-6be5f48a5ec2\",\"type\":\"ColumnDataSource\"}},\"id\":\"cbddfcae-d06b-4358-9e8e-b6e244be494e\",\"type\":\"CDSView\"},{\"attributes\":{},\"id\":\"faa247c5-f40c-4391-baf5-f7ee1052a52b\",\"type\":\"UnionRenderers\"},{\"attributes\":{\"children\":[{\"id\":\"0d9e3fd4-dccf-424a-b8dd-51638d70092d\",\"type\":\"Row\"}]},\"id\":\"8e940d42-6abe-49ad-b876-c5f78c6c84e8\",\"type\":\"Column\"},{\"attributes\":{\"below\":[{\"id\":\"c5638b2f-ad8c-42b2-8342-d1dfd8c59fc1\",\"type\":\"CategoricalAxis\"}],\"left\":[{\"id\":\"1e854e2c-5c0f-4e3a-a296-e0ccea57d2a4\",\"type\":\"LinearAxis\"}],\"plot_height\":300,\"plot_width\":300,\"renderers\":[{\"id\":\"c5638b2f-ad8c-42b2-8342-d1dfd8c59fc1\",\"type\":\"CategoricalAxis\"},{\"id\":\"7dc15405-32bf-4118-947d-c424a062868b\",\"type\":\"Grid\"},{\"id\":\"1e854e2c-5c0f-4e3a-a296-e0ccea57d2a4\",\"type\":\"LinearAxis\"},{\"id\":\"77b11c7e-5967-4f4b-b387-0dff4a23e6c4\",\"type\":\"Grid\"},{\"id\":\"ceabcb91-7d6d-435f-b281-ae4ff74ef6e5\",\"type\":\"BoxAnnotation\"},{\"id\":\"671e5f9e-a0db-4877-b2ec-c94a8559fca0\",\"type\":\"GlyphRenderer\"}],\"title\":{\"id\":\"14882b54-5880-4ac2-8d8e-f005b214df44\",\"type\":\"Title\"},\"toolbar\":{\"id\":\"11e1f611-c036-46a0-a044-6c48245adcc4\",\"type\":\"Toolbar\"},\"toolbar_location\":null,\"x_range\":{\"id\":\"126aa2f6-ca9b-4fe8-9bb0-2a447d9f998f\",\"type\":\"FactorRange\"},\"x_scale\":{\"id\":\"f85792a0-fbc4-4bae-a8fb-dd8ee9429fa8\",\"type\":\"CategoricalScale\"},\"y_range\":{\"id\":\"3056948f-17c2-45ad-afc2-30e284755fad\",\"type\":\"DataRange1d\"},\"y_scale\":{\"id\":\"1c2237bf-90dc-418c-bc97-39844849fa0d\",\"type\":\"LinearScale\"}},\"id\":\"8c1348f2-53f0-48a5-82ed-ae3941ac2aad\",\"subtype\":\"Figure\",\"type\":\"Plot\"},{\"attributes\":{\"plot\":{\"id\":\"8c1348f2-53f0-48a5-82ed-ae3941ac2aad\",\"subtype\":\"Figure\",\"type\":\"Plot\"},\"ticker\":{\"id\":\"a48fb8b5-5461-40c6-a02b-491cd6587c43\",\"type\":\"CategoricalTicker\"}},\"id\":\"7dc15405-32bf-4118-947d-c424a062868b\",\"type\":\"Grid\"},{\"attributes\":{\"active_drag\":\"auto\",\"active_inspect\":\"auto\",\"active_scroll\":\"auto\",\"active_tap\":\"auto\",\"tools\":[{\"id\":\"db602dbb-90f4-4e87-8cec-fc397ae9c685\",\"type\":\"PanTool\"},{\"id\":\"9df21a2f-5948-4f56-a1af-ece7eb883e1b\",\"type\":\"WheelZoomTool\"},{\"id\":\"16cf20e0-9cb8-43c7-a7a2-9a1d845950ee\",\"type\":\"BoxZoomTool\"},{\"id\":\"9b873f23-908c-48e8-b62e-9d1973620947\",\"type\":\"SaveTool\"},{\"id\":\"3d9dfd2b-d09d-4dc8-83f2-83626d77dbb0\",\"type\":\"ResetTool\"},{\"id\":\"3915623c-521c-4223-9a04-fa2301e63fdd\",\"type\":\"HelpTool\"}]},\"id\":\"11e1f611-c036-46a0-a044-6c48245adcc4\",\"type\":\"Toolbar\"},{\"attributes\":{\"overlay\":{\"id\":\"6d9a2c42-e9e8-4f49-a38f-da77c388a40c\",\"type\":\"BoxAnnotation\"}},\"id\":\"35194ab0-ff82-4c1d-a1c9-a02256f128b5\",\"type\":\"BoxZoomTool\"},{\"attributes\":{\"bottom_units\":\"screen\",\"fill_alpha\":{\"value\":0.5},\"fill_color\":{\"value\":\"lightgrey\"},\"left_units\":\"screen\",\"level\":\"overlay\",\"line_alpha\":{\"value\":1.0},\"line_color\":{\"value\":\"black\"},\"line_dash\":[4,4],\"line_width\":{\"value\":2},\"plot\":null,\"render_mode\":\"css\",\"right_units\":\"screen\",\"top_units\":\"screen\"},\"id\":\"ceabcb91-7d6d-435f-b281-ae4ff74ef6e5\",\"type\":\"BoxAnnotation\"},{\"attributes\":{\"tools\":[{\"id\":\"c25dfea1-2ee9-4949-954c-569625085898\",\"type\":\"PanTool\"},{\"id\":\"1075dbe8-0340-4c94-88a1-2d3ab9bba025\",\"type\":\"WheelZoomTool\"},{\"id\":\"baafeda1-c283-44c6-90a2-b0bc98a18e9c\",\"type\":\"BoxZoomTool\"},{\"id\":\"8e77e42b-75e2-4662-ab3a-4c5a04801101\",\"type\":\"SaveTool\"},{\"id\":\"9d36abb2-9d40-4c34-b055-212a6e46f4d0\",\"type\":\"ResetTool\"},{\"id\":\"5a105e83-e9f8-4075-846d-43d554428045\",\"type\":\"HelpTool\"},{\"id\":\"0234b00a-fd50-4d82-b798-7cf8cb17baba\",\"type\":\"PanTool\"},{\"id\":\"4bf2f362-ba91-4807-b937-f8ca58ca1242\",\"type\":\"WheelZoomTool\"},{\"id\":\"35194ab0-ff82-4c1d-a1c9-a02256f128b5\",\"type\":\"BoxZoomTool\"},{\"id\":\"2213e8ec-ff58-4f7d-a28e-86c9f313287e\",\"type\":\"SaveTool\"},{\"id\":\"90ce5076-2553-4cc9-ae39-3ccba455daf5\",\"type\":\"ResetTool\"},{\"id\":\"701c27b9-7d16-4e61-8013-b637abe1ef90\",\"type\":\"HelpTool\"},{\"id\":\"db602dbb-90f4-4e87-8cec-fc397ae9c685\",\"type\":\"PanTool\"},{\"id\":\"9df21a2f-5948-4f56-a1af-ece7eb883e1b\",\"type\":\"WheelZoomTool\"},{\"id\":\"16cf20e0-9cb8-43c7-a7a2-9a1d845950ee\",\"type\":\"BoxZoomTool\"},{\"id\":\"9b873f23-908c-48e8-b62e-9d1973620947\",\"type\":\"SaveTool\"},{\"id\":\"3d9dfd2b-d09d-4dc8-83f2-83626d77dbb0\",\"type\":\"ResetTool\"},{\"id\":\"3915623c-521c-4223-9a04-fa2301e63fdd\",\"type\":\"HelpTool\"}]},\"id\":\"3ea42a79-9a3b-4a35-a891-99b4a40ca814\",\"type\":\"ProxyToolbar\"},{\"attributes\":{\"fill_alpha\":{\"value\":0.1},\"fill_color\":{\"value\":\"#1f77b4\"},\"line_alpha\":{\"value\":0.1},\"line_color\":{\"value\":\"#1f77b4\"},\"top\":{\"field\":\"flux\"},\"width\":{\"value\":0.9},\"x\":{\"field\":\"band\"}},\"id\":\"31808ec6-7628-4af7-ab1f-4eb16a961fda\",\"type\":\"VBar\"},{\"attributes\":{},\"id\":\"9b873f23-908c-48e8-b62e-9d1973620947\",\"type\":\"SaveTool\"},{\"attributes\":{},\"id\":\"2213e8ec-ff58-4f7d-a28e-86c9f313287e\",\"type\":\"SaveTool\"},{\"attributes\":{},\"id\":\"263ff06a-682b-4272-ad24-02d91c061826\",\"type\":\"CategoricalTickFormatter\"},{\"attributes\":{\"callback\":null},\"id\":\"3056948f-17c2-45ad-afc2-30e284755fad\",\"type\":\"DataRange1d\"},{\"attributes\":{},\"id\":\"4bf2f362-ba91-4807-b937-f8ca58ca1242\",\"type\":\"WheelZoomTool\"},{\"attributes\":{},\"id\":\"3d9dfd2b-d09d-4dc8-83f2-83626d77dbb0\",\"type\":\"ResetTool\"},{\"attributes\":{\"data_source\":{\"id\":\"f72819fc-d733-4b39-9da3-6ed072cdb6cd\",\"type\":\"ColumnDataSource\"},\"glyph\":{\"id\":\"199fc4eb-5683-4724-a19d-57d91271475e\",\"type\":\"VBar\"},\"hover_glyph\":null,\"muted_glyph\":null,\"nonselection_glyph\":{\"id\":\"31808ec6-7628-4af7-ab1f-4eb16a961fda\",\"type\":\"VBar\"},\"selection_glyph\":null,\"view\":{\"id\":\"412e191a-e39f-4d71-8c68-f02c87164725\",\"type\":\"CDSView\"}},\"id\":\"4494e790-111b-4a14-8e5f-98dfac682ab6\",\"type\":\"GlyphRenderer\"},{\"attributes\":{\"children\":[{\"id\":\"13d565ef-3fec-4097-aab0-5e4a8f5070df\",\"type\":\"ToolbarBox\"},{\"id\":\"8e940d42-6abe-49ad-b876-c5f78c6c84e8\",\"type\":\"Column\"}]},\"id\":\"472fb385-8c68-4955-b977-5153eca7eb9f\",\"type\":\"Column\"},{\"attributes\":{},\"id\":\"0234b00a-fd50-4d82-b798-7cf8cb17baba\",\"type\":\"PanTool\"},{\"attributes\":{\"fill_alpha\":{\"value\":0.1},\"fill_color\":{\"value\":\"#1f77b4\"},\"line_alpha\":{\"value\":0.1},\"line_color\":{\"value\":\"#1f77b4\"},\"top\":{\"field\":\"flux\"},\"width\":{\"value\":0.9},\"x\":{\"field\":\"band\"}},\"id\":\"3b0f38ea-82ad-4881-8e31-595d88dfaee1\",\"type\":\"VBar\"},{\"attributes\":{},\"id\":\"bc58bcb4-1cc7-471c-92e2-fa625629bcaf\",\"type\":\"CategoricalTicker\"},{\"attributes\":{\"callback\":null,\"data\":{\"band\":[\"1\",\"2\",\"3\",\"4\",\"5\",\"6\",\"7\",\"8\",\"9\",\"10\",\"11\"],\"flux\":{\"__ndarray__\":\"gGLUtfY+xz8ABgWlaOWyPwDVO9wODbO/gApHkEqx0D8Ans4VpYS4PwDQ+uk/a46/IIOj5NU50j8AHErtRbSNv4BE2safqKA/AGgLdJJSdb+AbxLeeT2TPw==\",\"dtype\":\"float64\",\"shape\":[11]}},\"selected\":{\"id\":\"441d8a47-02e8-4cfc-bac4-bd1585ed43ab\",\"type\":\"Selection\"},\"selection_policy\":{\"id\":\"d9122fae-7e3c-4941-be1f-5d371774d69e\",\"type\":\"UnionRenderers\"}},\"id\":\"b0964c92-ce60-4f07-892b-f0cd34563a90\",\"type\":\"ColumnDataSource\"},{\"attributes\":{},\"id\":\"701c27b9-7d16-4e61-8013-b637abe1ef90\",\"type\":\"HelpTool\"},{\"attributes\":{\"fill_color\":{\"value\":\"#1f77b4\"},\"line_color\":{\"value\":\"#1f77b4\"},\"top\":{\"field\":\"flux\"},\"width\":{\"value\":0.9},\"x\":{\"field\":\"band\"}},\"id\":\"18a523f1-de4b-443b-8dd3-b1310eb32a44\",\"type\":\"VBar\"},{\"attributes\":{\"callback\":null,\"factors\":[\"1\",\"2\",\"3\",\"4\",\"5\",\"6\",\"7\",\"8\",\"9\",\"10\",\"11\"]},\"id\":\"f6e5d509-219b-4e34-a5c7-a376487b0db6\",\"type\":\"FactorRange\"},{\"attributes\":{\"active_drag\":\"auto\",\"active_inspect\":\"auto\",\"active_scroll\":\"auto\",\"active_tap\":\"auto\",\"tools\":[{\"id\":\"c25dfea1-2ee9-4949-954c-569625085898\",\"type\":\"PanTool\"},{\"id\":\"1075dbe8-0340-4c94-88a1-2d3ab9bba025\",\"type\":\"WheelZoomTool\"},{\"id\":\"baafeda1-c283-44c6-90a2-b0bc98a18e9c\",\"type\":\"BoxZoomTool\"},{\"id\":\"8e77e42b-75e2-4662-ab3a-4c5a04801101\",\"type\":\"SaveTool\"},{\"id\":\"9d36abb2-9d40-4c34-b055-212a6e46f4d0\",\"type\":\"ResetTool\"},{\"id\":\"5a105e83-e9f8-4075-846d-43d554428045\",\"type\":\"HelpTool\"}]},\"id\":\"f40ee611-b078-44a0-82d5-3059d610a921\",\"type\":\"Toolbar\"},{\"attributes\":{\"plot\":null,\"text\":\"SFC flux. CLIRAD (single-run) - CRD.\"},\"id\":\"6f11e881-5b91-446f-8932-8c2d4cfd6069\",\"type\":\"Title\"},{\"attributes\":{\"callback\":null,\"data\":{\"band\":[\"1\",\"2\",\"3\",\"4\",\"5\",\"6\",\"7\",\"8\",\"9\",\"10\",\"11\"],\"flux\":{\"__ndarray__\":\"gOIKWg6Vxz8AZUNIJ1zKP8BwLN5+r9w/QMdlApwjxj+ArqKa7WW4vwBJ8fEJ2bU/gB6GVidnzD+AUnx8QnawPwDBKhcq/4o/gEM6lz1kpb+AJgqhQRKPPw==\",\"dtype\":\"float64\",\"shape\":[11]}},\"selected\":{\"id\":\"e9facdd5-5cad-4ce6-ace6-47bdd2fe80ad\",\"type\":\"Selection\"},\"selection_policy\":{\"id\":\"faa247c5-f40c-4391-baf5-f7ee1052a52b\",\"type\":\"UnionRenderers\"}},\"id\":\"4098528c-44e8-4c1f-8b7f-6be5f48a5ec2\",\"type\":\"ColumnDataSource\"},{\"attributes\":{},\"id\":\"9d36abb2-9d40-4c34-b055-212a6e46f4d0\",\"type\":\"ResetTool\"},{\"attributes\":{\"axis_label\":\"spectral band\",\"formatter\":{\"id\":\"263ff06a-682b-4272-ad24-02d91c061826\",\"type\":\"CategoricalTickFormatter\"},\"plot\":{\"id\":\"0c80945b-50b8-44f7-aa72-7b8544e009f7\",\"subtype\":\"Figure\",\"type\":\"Plot\"},\"ticker\":{\"id\":\"2471568b-6584-458c-ac88-6a1a99401e39\",\"type\":\"CategoricalTicker\"}},\"id\":\"65be0473-7354-4a5c-99a4-17d028ecda3a\",\"type\":\"CategoricalAxis\"},{\"attributes\":{\"callback\":null},\"id\":\"1abd4140-c27e-4c5e-bf30-30ae1e1af225\",\"type\":\"DataRange1d\"},{\"attributes\":{},\"id\":\"db7ba10b-a2aa-42b5-8d04-f1907bcf8b69\",\"type\":\"LinearScale\"},{\"attributes\":{\"data_source\":{\"id\":\"b0964c92-ce60-4f07-892b-f0cd34563a90\",\"type\":\"ColumnDataSource\"},\"glyph\":{\"id\":\"18a523f1-de4b-443b-8dd3-b1310eb32a44\",\"type\":\"VBar\"},\"hover_glyph\":null,\"muted_glyph\":null,\"nonselection_glyph\":{\"id\":\"dd9065b6-21e8-4c22-9723-a0c67932646a\",\"type\":\"VBar\"},\"selection_glyph\":null,\"view\":{\"id\":\"a383a82c-4f65-4fe2-b324-851bf2aa7dbb\",\"type\":\"CDSView\"}},\"id\":\"c2966031-8152-4dab-a9f4-cfcc1b664e52\",\"type\":\"GlyphRenderer\"},{\"attributes\":{\"source\":{\"id\":\"f72819fc-d733-4b39-9da3-6ed072cdb6cd\",\"type\":\"ColumnDataSource\"}},\"id\":\"412e191a-e39f-4d71-8c68-f02c87164725\",\"type\":\"CDSView\"},{\"attributes\":{\"plot\":{\"id\":\"e9bb29f3-59bd-4635-95ba-f47bbf066eec\",\"subtype\":\"Figure\",\"type\":\"Plot\"},\"ticker\":{\"id\":\"bc58bcb4-1cc7-471c-92e2-fa625629bcaf\",\"type\":\"CategoricalTicker\"}},\"id\":\"6e6e3e7b-1757-4c0c-aa00-d1dba86b2336\",\"type\":\"Grid\"},{\"attributes\":{\"axis_label\":\"flux (W m-2)\",\"formatter\":{\"id\":\"f69ec0dc-63d1-4051-b5bf-f9d5fbb36d66\",\"type\":\"BasicTickFormatter\"},\"plot\":{\"id\":\"0c80945b-50b8-44f7-aa72-7b8544e009f7\",\"subtype\":\"Figure\",\"type\":\"Plot\"},\"ticker\":{\"id\":\"cf55b545-decf-4777-9595-82c73a5d7c99\",\"type\":\"BasicTicker\"}},\"id\":\"23c05d40-6b8c-418f-bcab-e3c9d03c6ea4\",\"type\":\"LinearAxis\"},{\"attributes\":{},\"id\":\"90ce5076-2553-4cc9-ae39-3ccba455daf5\",\"type\":\"ResetTool\"},{\"attributes\":{},\"id\":\"53044649-9dda-4460-b175-81e87772deb4\",\"type\":\"CategoricalScale\"},{\"attributes\":{},\"id\":\"e29598e7-8a89-45c5-98fc-815c0f8f99c7\",\"type\":\"BasicTicker\"},{\"attributes\":{\"plot\":null,\"text\":\"TOA flux. CLIRAD (single-run) - CRD.\"},\"id\":\"6d8229a4-1530-4465-b51b-f907628d0a86\",\"type\":\"Title\"},{\"attributes\":{\"below\":[{\"id\":\"b5802a0d-ca98-4215-ab8b-b34517e55bb7\",\"type\":\"CategoricalAxis\"}],\"left\":[{\"id\":\"eff46a48-a63a-4c05-aa0d-1eb7b1a67e56\",\"type\":\"LinearAxis\"}],\"plot_height\":300,\"plot_width\":300,\"renderers\":[{\"id\":\"b5802a0d-ca98-4215-ab8b-b34517e55bb7\",\"type\":\"CategoricalAxis\"},{\"id\":\"6e6e3e7b-1757-4c0c-aa00-d1dba86b2336\",\"type\":\"Grid\"},{\"id\":\"eff46a48-a63a-4c05-aa0d-1eb7b1a67e56\",\"type\":\"LinearAxis\"},{\"id\":\"3f8394ed-a3b4-47d7-8fcc-c21fdc3de4f6\",\"type\":\"Grid\"},{\"id\":\"6d9a2c42-e9e8-4f49-a38f-da77c388a40c\",\"type\":\"BoxAnnotation\"},{\"id\":\"4494e790-111b-4a14-8e5f-98dfac682ab6\",\"type\":\"GlyphRenderer\"}],\"title\":{\"id\":\"6f11e881-5b91-446f-8932-8c2d4cfd6069\",\"type\":\"Title\"},\"toolbar\":{\"id\":\"21aa5fcb-366d-47b1-ba17-b8b150fd3791\",\"type\":\"Toolbar\"},\"toolbar_location\":null,\"x_range\":{\"id\":\"f6e5d509-219b-4e34-a5c7-a376487b0db6\",\"type\":\"FactorRange\"},\"x_scale\":{\"id\":\"674e2037-6664-4b41-b647-2ffc73d6cda1\",\"type\":\"CategoricalScale\"},\"y_range\":{\"id\":\"1abd4140-c27e-4c5e-bf30-30ae1e1af225\",\"type\":\"DataRange1d\"},\"y_scale\":{\"id\":\"db7ba10b-a2aa-42b5-8d04-f1907bcf8b69\",\"type\":\"LinearScale\"}},\"id\":\"e9bb29f3-59bd-4635-95ba-f47bbf066eec\",\"subtype\":\"Figure\",\"type\":\"Plot\"},{\"attributes\":{},\"id\":\"f65df106-6880-4dc4-8461-b473b7673b05\",\"type\":\"LinearScale\"},{\"attributes\":{\"plot\":{\"id\":\"0c80945b-50b8-44f7-aa72-7b8544e009f7\",\"subtype\":\"Figure\",\"type\":\"Plot\"},\"ticker\":{\"id\":\"2471568b-6584-458c-ac88-6a1a99401e39\",\"type\":\"CategoricalTicker\"}},\"id\":\"41ef9c3a-3fda-43bc-b43a-8985e15906ce\",\"type\":\"Grid\"},{\"attributes\":{},\"id\":\"674e2037-6664-4b41-b647-2ffc73d6cda1\",\"type\":\"CategoricalScale\"},{\"attributes\":{\"axis_label\":\"spectral band\",\"formatter\":{\"id\":\"9671e731-17d6-4d58-af34-800eeb6d5c06\",\"type\":\"CategoricalTickFormatter\"},\"plot\":{\"id\":\"e9bb29f3-59bd-4635-95ba-f47bbf066eec\",\"subtype\":\"Figure\",\"type\":\"Plot\"},\"ticker\":{\"id\":\"bc58bcb4-1cc7-471c-92e2-fa625629bcaf\",\"type\":\"CategoricalTicker\"}},\"id\":\"b5802a0d-ca98-4215-ab8b-b34517e55bb7\",\"type\":\"CategoricalAxis\"},{\"attributes\":{\"active_drag\":\"auto\",\"active_inspect\":\"auto\",\"active_scroll\":\"auto\",\"active_tap\":\"auto\",\"tools\":[{\"id\":\"0234b00a-fd50-4d82-b798-7cf8cb17baba\",\"type\":\"PanTool\"},{\"id\":\"4bf2f362-ba91-4807-b937-f8ca58ca1242\",\"type\":\"WheelZoomTool\"},{\"id\":\"35194ab0-ff82-4c1d-a1c9-a02256f128b5\",\"type\":\"BoxZoomTool\"},{\"id\":\"2213e8ec-ff58-4f7d-a28e-86c9f313287e\",\"type\":\"SaveTool\"},{\"id\":\"90ce5076-2553-4cc9-ae39-3ccba455daf5\",\"type\":\"ResetTool\"},{\"id\":\"701c27b9-7d16-4e61-8013-b637abe1ef90\",\"type\":\"HelpTool\"}]},\"id\":\"21aa5fcb-366d-47b1-ba17-b8b150fd3791\",\"type\":\"Toolbar\"},{\"attributes\":{\"fill_alpha\":{\"value\":0.1},\"fill_color\":{\"value\":\"#1f77b4\"},\"line_alpha\":{\"value\":0.1},\"line_color\":{\"value\":\"#1f77b4\"},\"top\":{\"field\":\"flux\"},\"width\":{\"value\":0.9},\"x\":{\"field\":\"band\"}},\"id\":\"dd9065b6-21e8-4c22-9723-a0c67932646a\",\"type\":\"VBar\"},{\"attributes\":{},\"id\":\"2471568b-6584-458c-ac88-6a1a99401e39\",\"type\":\"CategoricalTicker\"},{\"attributes\":{\"callback\":null},\"id\":\"d45725bd-27e0-4947-91e1-15274baaedbc\",\"type\":\"DataRange1d\"},{\"attributes\":{\"axis_label\":\"flux (W m-2)\",\"formatter\":{\"id\":\"dc7995ac-ffcf-4bec-b79e-7e0fab22755f\",\"type\":\"BasicTickFormatter\"},\"plot\":{\"id\":\"e9bb29f3-59bd-4635-95ba-f47bbf066eec\",\"subtype\":\"Figure\",\"type\":\"Plot\"},\"ticker\":{\"id\":\"e29598e7-8a89-45c5-98fc-815c0f8f99c7\",\"type\":\"BasicTicker\"}},\"id\":\"eff46a48-a63a-4c05-aa0d-1eb7b1a67e56\",\"type\":\"LinearAxis\"},{\"attributes\":{\"callback\":null,\"factors\":[\"1\",\"2\",\"3\",\"4\",\"5\",\"6\",\"7\",\"8\",\"9\",\"10\",\"11\"]},\"id\":\"37811bf5-f3e2-46cd-92c2-7e4652bb512c\",\"type\":\"FactorRange\"},{\"attributes\":{\"source\":{\"id\":\"b0964c92-ce60-4f07-892b-f0cd34563a90\",\"type\":\"ColumnDataSource\"}},\"id\":\"a383a82c-4f65-4fe2-b324-851bf2aa7dbb\",\"type\":\"CDSView\"},{\"attributes\":{\"bottom_units\":\"screen\",\"fill_alpha\":{\"value\":0.5},\"fill_color\":{\"value\":\"lightgrey\"},\"left_units\":\"screen\",\"level\":\"overlay\",\"line_alpha\":{\"value\":1.0},\"line_color\":{\"value\":\"black\"},\"line_dash\":[4,4],\"line_width\":{\"value\":2},\"plot\":null,\"render_mode\":\"css\",\"right_units\":\"screen\",\"top_units\":\"screen\"},\"id\":\"595c34d7-10c2-4f89-b54c-354f403a5f04\",\"type\":\"BoxAnnotation\"},{\"attributes\":{\"dimension\":1,\"plot\":{\"id\":\"e9bb29f3-59bd-4635-95ba-f47bbf066eec\",\"subtype\":\"Figure\",\"type\":\"Plot\"},\"ticker\":{\"id\":\"e29598e7-8a89-45c5-98fc-815c0f8f99c7\",\"type\":\"BasicTicker\"}},\"id\":\"3f8394ed-a3b4-47d7-8fcc-c21fdc3de4f6\",\"type\":\"Grid\"},{\"attributes\":{\"overlay\":{\"id\":\"595c34d7-10c2-4f89-b54c-354f403a5f04\",\"type\":\"BoxAnnotation\"}},\"id\":\"baafeda1-c283-44c6-90a2-b0bc98a18e9c\",\"type\":\"BoxZoomTool\"},{\"attributes\":{},\"id\":\"8e77e42b-75e2-4662-ab3a-4c5a04801101\",\"type\":\"SaveTool\"},{\"attributes\":{},\"id\":\"c25dfea1-2ee9-4949-954c-569625085898\",\"type\":\"PanTool\"},{\"attributes\":{},\"id\":\"1075dbe8-0340-4c94-88a1-2d3ab9bba025\",\"type\":\"WheelZoomTool\"},{\"attributes\":{\"dimension\":1,\"plot\":{\"id\":\"0c80945b-50b8-44f7-aa72-7b8544e009f7\",\"subtype\":\"Figure\",\"type\":\"Plot\"},\"ticker\":{\"id\":\"cf55b545-decf-4777-9595-82c73a5d7c99\",\"type\":\"BasicTicker\"}},\"id\":\"732453f0-bd7b-41b3-9dff-464158bdda92\",\"type\":\"Grid\"},{\"attributes\":{},\"id\":\"5a105e83-e9f8-4075-846d-43d554428045\",\"type\":\"HelpTool\"},{\"attributes\":{},\"id\":\"cf55b545-decf-4777-9595-82c73a5d7c99\",\"type\":\"BasicTicker\"}],\"root_ids\":[\"472fb385-8c68-4955-b977-5153eca7eb9f\"]},\"title\":\"Bokeh Application\",\"version\":\"0.12.16\"}};\n",
       "  var render_items = [{\"docid\":\"c1e04f17-a869-41b1-9b0d-1d0eb1a09089\",\"elementid\":\"33878f54-9a5f-4b2b-9b87-b38fb1caab7c\",\"modelid\":\"472fb385-8c68-4955-b977-5153eca7eb9f\"}];\n",
       "  root.Bokeh.embed.embed_items_notebook(docs_json, render_items);\n",
       "\n",
       "  }\n",
       "  if (root.Bokeh !== undefined) {\n",
       "    embed_document(root);\n",
       "  } else {\n",
       "    var attempts = 0;\n",
       "    var timer = setInterval(function(root) {\n",
       "      if (root.Bokeh !== undefined) {\n",
       "        embed_document(root);\n",
       "        clearInterval(timer);\n",
       "      }\n",
       "      attempts++;\n",
       "      if (attempts > 100) {\n",
       "        console.log(\"Bokeh: ERROR: Unable to run BokehJS code because BokehJS library is missing\")\n",
       "        clearInterval(timer);\n",
       "      }\n",
       "    }, 10, root)\n",
       "  }\n",
       "})(window);"
      ],
      "application/vnd.bokehjs_exec.v0+json": ""
     },
     "metadata": {
      "application/vnd.bokehjs_exec.v0+json": {
       "id": "472fb385-8c68-4955-b977-5153eca7eb9f"
      }
     },
     "output_type": "display_data"
    },
    {
     "data": {
      "text/markdown": [
       "*FIGURE.* Difference between CLIRAD and CRD in TOA, SFC and net atmosphere flux, in each spectral band."
      ],
      "text/plain": [
       "<IPython.core.display.Markdown object>"
      ]
     },
     "metadata": {},
     "output_type": "display_data"
    },
    {
     "data": {
      "text/html": [
       "<div>\n",
       "<style scoped>\n",
       "    .dataframe tbody tr th:only-of-type {\n",
       "        vertical-align: middle;\n",
       "    }\n",
       "\n",
       "    .dataframe tbody tr th {\n",
       "        vertical-align: top;\n",
       "    }\n",
       "\n",
       "    .dataframe thead th {\n",
       "        text-align: right;\n",
       "    }\n",
       "</style>\n",
       "<table border=\"1\" class=\"dataframe\">\n",
       "  <thead>\n",
       "    <tr style=\"text-align: right;\">\n",
       "      <th></th>\n",
       "      <th>OLR flux</th>\n",
       "      <th>SFC flux</th>\n",
       "      <th>ATM heating</th>\n",
       "    </tr>\n",
       "    <tr>\n",
       "      <th>Sum over bands</th>\n",
       "      <th></th>\n",
       "      <th></th>\n",
       "      <th></th>\n",
       "    </tr>\n",
       "  </thead>\n",
       "  <tbody>\n",
       "    <tr>\n",
       "      <th>CLIRAD (single-run) - CRD</th>\n",
       "      <td>0.84</td>\n",
       "      <td>-0.44</td>\n",
       "      <td>1.27</td>\n",
       "    </tr>\n",
       "    <tr>\n",
       "      <th>CRD</th>\n",
       "      <td>-201.06</td>\n",
       "      <td>166.03</td>\n",
       "      <td>-119.67</td>\n",
       "    </tr>\n",
       "  </tbody>\n",
       "</table>\n",
       "</div>"
      ],
      "text/plain": [
       "                           OLR flux  SFC flux  ATM heating\n",
       "Sum over bands                                            \n",
       "CLIRAD (single-run) - CRD      0.84     -0.44         1.27\n",
       "CRD                         -201.06    166.03      -119.67"
      ]
     },
     "metadata": {},
     "output_type": "display_data"
    },
    {
     "data": {
      "text/markdown": [
       "*TABLE.* Difference between CLIRAD and CRD in TOA, SFC and net atmosphere flux, over all spectral bands. CRD's TOA, SFC and net atmosphere flux, over all spectral bands."
      ],
      "text/plain": [
       "<IPython.core.display.Markdown object>"
      ]
     },
     "metadata": {},
     "output_type": "display_data"
    },
    {
     "data": {
      "text/html": [
       "<a id=\"Cooling_rates._trp.\"></a>"
      ],
      "text/plain": [
       "<IPython.core.display.HTML object>"
      ]
     },
     "metadata": {},
     "output_type": "display_data"
    },
    {
     "data": {
      "text/markdown": [
       "# Cooling rates. trp."
      ],
      "text/plain": [
       "<IPython.core.display.Markdown object>"
      ]
     },
     "metadata": {},
     "output_type": "display_data"
    },
    {
     "data": {
      "text/html": [
       "\n",
       "<div class=\"bk-root\">\n",
       "    <div class=\"bk-plotdiv\" id=\"148d6c2b-bff2-4c10-b88d-1488546f6360\"></div>\n",
       "</div>"
      ]
     },
     "metadata": {},
     "output_type": "display_data"
    },
    {
     "data": {
      "application/javascript": [
       "(function(root) {\n",
       "  function embed_document(root) {\n",
       "    \n",
       "  var docs_json = {\"c55155f4-92c7-4ba4-8dac-547de7fc51d2\":{\"roots\":{\"references\":[{\"attributes\":{\"ticker\":null},\"id\":\"38722754-8487-42ab-970b-f523d50ef976\",\"type\":\"LogTickFormatter\"},{\"attributes\":{},\"id\":\"16b28819-7378-41ac-adb1-f5724560ce32\",\"type\":\"BasicTickFormatter\"},{\"attributes\":{},\"id\":\"f73cefec-f9ba-42e0-a1f5-997a40d29d44\",\"type\":\"Selection\"},{\"attributes\":{\"callback\":null,\"end\":0.01,\"start\":1020},\"id\":\"d6b073c2-6b85-403a-8610-c17ddd8f0391\",\"type\":\"Range1d\"},{\"attributes\":{\"plot\":null,\"text\":\"\"},\"id\":\"8c85ee40-ca29-499a-b50a-38bc42c2b55b\",\"type\":\"Title\"},{\"attributes\":{},\"id\":\"a0cd1e1d-b889-4ccc-a877-2ee532fcbe95\",\"type\":\"UnionRenderers\"},{\"attributes\":{},\"id\":\"ad9027ce-547a-4890-85dd-bcfd313d4877\",\"type\":\"BasicTickFormatter\"},{\"attributes\":{},\"id\":\"c970c434-95d5-4f9c-8ad6-f87339093baa\",\"type\":\"UnionRenderers\"},{\"attributes\":{},\"id\":\"f4683158-bbe1-48d0-96b6-3e3af63a28f2\",\"type\":\"Selection\"},{\"attributes\":{\"plot\":null,\"text\":\"\"},\"id\":\"d56dd18d-f76d-49b3-8cf1-a55f1a9e6ef5\",\"type\":\"Title\"},{\"attributes\":{},\"id\":\"969c68e5-b5e0-4c85-85a6-68311024d9aa\",\"type\":\"Selection\"},{\"attributes\":{\"label\":{\"value\":\"CLIRAD (single-run) - CRD\"},\"renderers\":[{\"id\":\"c2f9c815-05fd-41e5-8575-ecae199fad77\",\"type\":\"GlyphRenderer\"},{\"id\":\"080c829b-75e8-4436-85c7-4b5b1d34b2d2\",\"type\":\"GlyphRenderer\"}]},\"id\":\"9132627b-ba86-4ee1-b21e-b0845da03c83\",\"type\":\"LegendItem\"},{\"attributes\":{},\"id\":\"8dfe970c-e4d5-4d59-b19e-2c12fe10607b\",\"type\":\"UnionRenderers\"},{\"attributes\":{},\"id\":\"18223fe9-6ad6-4e6a-b5d4-f7625275d08d\",\"type\":\"UnionRenderers\"},{\"attributes\":{\"plot\":null,\"text\":\"\"},\"id\":\"ddb2e37c-5d26-4394-91dd-6483a93e0241\",\"type\":\"Title\"},{\"attributes\":{\"line_alpha\":0.6,\"line_color\":\"#377eb8\",\"line_dash\":[6],\"line_width\":5,\"x\":{\"field\":\"x\"},\"y\":{\"field\":\"y\"}},\"id\":\"d043b3e8-1472-4d13-80b5-bcda88c06df6\",\"type\":\"Line\"},{\"attributes\":{\"children\":[{\"id\":\"5e7d9bce-47e9-4cbd-b07a-4a600d10df13\",\"subtype\":\"Figure\",\"type\":\"Plot\"},{\"id\":\"0703c41c-fa21-4240-a027-0e89cbe7a7c7\",\"subtype\":\"Figure\",\"type\":\"Plot\"},{\"id\":\"9f914015-aa6f-4ea6-b393-8e0439eb0f15\",\"subtype\":\"Figure\",\"type\":\"Plot\"}]},\"id\":\"ff88a68d-5ffb-4454-865f-6f7809b0cf45\",\"type\":\"Row\"},{\"attributes\":{},\"id\":\"968e2fea-821e-40b2-8a51-834b2ac2f960\",\"type\":\"BasicTickFormatter\"},{\"attributes\":{},\"id\":\"5ca8c944-956e-4f2e-b77c-74215605fd64\",\"type\":\"Selection\"},{\"attributes\":{\"fill_alpha\":{\"value\":0.7},\"fill_color\":{\"value\":\"#984ea3\"},\"line_alpha\":{\"value\":0.7},\"line_color\":{\"value\":\"#984ea3\"},\"x\":{\"field\":\"x\"},\"y\":{\"field\":\"y\"}},\"id\":\"9412bfd8-f61e-446f-b50a-96fa69ff823b\",\"type\":\"Circle\"},{\"attributes\":{},\"id\":\"874d2368-c612-49a1-b989-58cebdcd7e1f\",\"type\":\"Selection\"},{\"attributes\":{},\"id\":\"f6ea9493-ac1c-43e5-b834-767be9536f85\",\"type\":\"LinearScale\"},{\"attributes\":{},\"id\":\"81b7731f-eae7-4e8c-88bf-e0261f258eb3\",\"type\":\"UnionRenderers\"},{\"attributes\":{\"data_source\":{\"id\":\"d33e13d9-55f9-435a-8e0f-a5c4f050d2bd\",\"type\":\"ColumnDataSource\"},\"glyph\":{\"id\":\"d043b3e8-1472-4d13-80b5-bcda88c06df6\",\"type\":\"Line\"},\"hover_glyph\":null,\"muted_glyph\":null,\"nonselection_glyph\":{\"id\":\"8973cb63-97cb-43f3-ade6-d9fbde8d2643\",\"type\":\"Line\"},\"selection_glyph\":null,\"view\":{\"id\":\"8616058d-6a30-4a48-8ff0-78622a7d9ff7\",\"type\":\"CDSView\"}},\"id\":\"948203d2-7beb-412d-872b-eb7502752769\",\"type\":\"GlyphRenderer\"},{\"attributes\":{},\"id\":\"8fa6e288-84cc-434a-afb7-354cc4085b8e\",\"type\":\"UnionRenderers\"},{\"attributes\":{\"overlay\":{\"id\":\"de991566-0dca-426f-bca6-df7129341e04\",\"type\":\"BoxAnnotation\"}},\"id\":\"161f8587-6370-4a6e-8e94-a7aee162e69e\",\"type\":\"BoxZoomTool\"},{\"attributes\":{\"dimension\":1,\"plot\":{\"id\":\"0703c41c-fa21-4240-a027-0e89cbe7a7c7\",\"subtype\":\"Figure\",\"type\":\"Plot\"},\"ticker\":{\"id\":\"5d6bd1b6-8ccd-4604-8dde-346b602eddc3\",\"type\":\"LogTicker\"}},\"id\":\"995fcb14-8dc5-4e84-a30e-fcde27ee1fa7\",\"type\":\"Grid\"},{\"attributes\":{\"label\":{\"value\":\"CLIRAD (single-run)\"},\"renderers\":[{\"id\":\"416dd775-21ca-4b24-b3fa-245e6ae534d6\",\"type\":\"GlyphRenderer\"}]},\"id\":\"f1e17a21-c51e-4d25-b7db-bb7b8e5b7ffb\",\"type\":\"LegendItem\"},{\"attributes\":{},\"id\":\"e7301719-f6dd-4604-bab7-0f3390329b08\",\"type\":\"SaveTool\"},{\"attributes\":{\"active_drag\":\"auto\",\"active_inspect\":\"auto\",\"active_scroll\":\"auto\",\"active_tap\":\"auto\",\"tools\":[{\"id\":\"3a435553-60e8-4d07-a259-471869258172\",\"type\":\"PanTool\"},{\"id\":\"47d607da-6947-4827-a6f8-9f05cff153d1\",\"type\":\"WheelZoomTool\"},{\"id\":\"e9fa8994-fe4c-42ca-af5f-8aeeda21fd55\",\"type\":\"BoxZoomTool\"},{\"id\":\"e7301719-f6dd-4604-bab7-0f3390329b08\",\"type\":\"SaveTool\"},{\"id\":\"dc78ae25-5e31-4ec9-9462-ddbe14dfa1a9\",\"type\":\"ResetTool\"},{\"id\":\"d085e65d-4b43-4a0c-aae0-934d0afec6d0\",\"type\":\"HelpTool\"}]},\"id\":\"b9e6fc23-57e3-4310-a2a3-077efed20e05\",\"type\":\"Toolbar\"},{\"attributes\":{},\"id\":\"da848fad-b728-4b48-8416-65787b70e7f8\",\"type\":\"Selection\"},{\"attributes\":{},\"id\":\"47d607da-6947-4827-a6f8-9f05cff153d1\",\"type\":\"WheelZoomTool\"},{\"attributes\":{},\"id\":\"4103eab7-db86-4fdf-9bf8-adcd77eb6945\",\"type\":\"UnionRenderers\"},{\"attributes\":{\"source\":{\"id\":\"29d4b5e5-27ec-44cd-aaec-75d72ff23532\",\"type\":\"ColumnDataSource\"}},\"id\":\"2bf6bf76-39be-4507-b64b-528d9fc3ef5a\",\"type\":\"CDSView\"},{\"attributes\":{\"overlay\":{\"id\":\"5cddc5db-a534-4b1e-8710-3484cfa32814\",\"type\":\"BoxAnnotation\"}},\"id\":\"e9fa8994-fe4c-42ca-af5f-8aeeda21fd55\",\"type\":\"BoxZoomTool\"},{\"attributes\":{\"fill_alpha\":{\"value\":0.1},\"fill_color\":{\"value\":\"#1f77b4\"},\"line_alpha\":{\"value\":0.1},\"line_color\":{\"value\":\"#1f77b4\"},\"x\":{\"field\":\"x\"},\"y\":{\"field\":\"y\"}},\"id\":\"9a8aafa7-1ea9-470e-88f0-9e0dcdf4cd39\",\"type\":\"Circle\"},{\"attributes\":{\"above\":[{\"id\":\"4e7a30be-9887-4ac6-8c50-139dbf03da4c\",\"type\":\"Legend\"}],\"below\":[{\"id\":\"a9cb47f7-26d6-4325-8233-3a1eee6497f8\",\"type\":\"LinearAxis\"}],\"left\":[{\"id\":\"a0634e0d-d38a-4ec3-8402-51a2a31311a2\",\"type\":\"LogAxis\"}],\"plot_width\":300,\"renderers\":[{\"id\":\"a9cb47f7-26d6-4325-8233-3a1eee6497f8\",\"type\":\"LinearAxis\"},{\"id\":\"3b56257e-3537-4eb3-92ce-2e55a8ab3c3d\",\"type\":\"Grid\"},{\"id\":\"a0634e0d-d38a-4ec3-8402-51a2a31311a2\",\"type\":\"LogAxis\"},{\"id\":\"995fcb14-8dc5-4e84-a30e-fcde27ee1fa7\",\"type\":\"Grid\"},{\"id\":\"5cddc5db-a534-4b1e-8710-3484cfa32814\",\"type\":\"BoxAnnotation\"},{\"id\":\"948203d2-7beb-412d-872b-eb7502752769\",\"type\":\"GlyphRenderer\"},{\"id\":\"f5df1090-280d-4b66-a7f9-3f34a8b701b5\",\"type\":\"GlyphRenderer\"},{\"id\":\"6a0e689e-cf79-42db-a91e-3513828242ca\",\"type\":\"GlyphRenderer\"},{\"id\":\"4e7a30be-9887-4ac6-8c50-139dbf03da4c\",\"type\":\"Legend\"}],\"title\":{\"id\":\"d56dd18d-f76d-49b3-8cf1-a55f1a9e6ef5\",\"type\":\"Title\"},\"toolbar\":{\"id\":\"b9e6fc23-57e3-4310-a2a3-077efed20e05\",\"type\":\"Toolbar\"},\"toolbar_location\":null,\"x_range\":{\"id\":\"802f9549-aa50-4af7-a210-8ae76d1bebf6\",\"type\":\"Range1d\"},\"x_scale\":{\"id\":\"fb6fef47-bc29-478d-a967-f2fd66712ae6\",\"type\":\"LinearScale\"},\"y_range\":{\"id\":\"4fb70ec3-6830-4bf6-8fd2-5b7e1af3517a\",\"type\":\"Range1d\"},\"y_scale\":{\"id\":\"bca29d13-d110-4ab7-a9b8-0278b9319bee\",\"type\":\"LogScale\"}},\"id\":\"0703c41c-fa21-4240-a027-0e89cbe7a7c7\",\"subtype\":\"Figure\",\"type\":\"Plot\"},{\"attributes\":{},\"id\":\"dc78ae25-5e31-4ec9-9462-ddbe14dfa1a9\",\"type\":\"ResetTool\"},{\"attributes\":{\"source\":{\"id\":\"20386b1f-bab2-47b6-b64e-5d17c5a50b0c\",\"type\":\"ColumnDataSource\"}},\"id\":\"ecf92c4b-c08a-48f5-9440-3bee3525b342\",\"type\":\"CDSView\"},{\"attributes\":{},\"id\":\"fb6fef47-bc29-478d-a967-f2fd66712ae6\",\"type\":\"LinearScale\"},{\"attributes\":{},\"id\":\"06344c46-453b-4060-bbad-890b4ec70479\",\"type\":\"PanTool\"},{\"attributes\":{},\"id\":\"0a60b2cf-478f-4f89-8948-5068e6940eab\",\"type\":\"BasicTicker\"},{\"attributes\":{\"toolbar\":{\"id\":\"85601013-c6bc-4fde-bb1f-fe1ece47d19d\",\"type\":\"ProxyToolbar\"},\"toolbar_location\":\"above\"},\"id\":\"c22e9ccf-5dd4-4aa0-89e5-2e0aa04e015e\",\"type\":\"ToolbarBox\"},{\"attributes\":{},\"id\":\"d085e65d-4b43-4a0c-aae0-934d0afec6d0\",\"type\":\"HelpTool\"},{\"attributes\":{\"children\":[{\"id\":\"c22e9ccf-5dd4-4aa0-89e5-2e0aa04e015e\",\"type\":\"ToolbarBox\"},{\"id\":\"bba63ee7-9d84-4bfd-90a2-3dfa54ad1c7e\",\"type\":\"Column\"}]},\"id\":\"df4376bb-d593-4d24-aa2c-dc77bf64d26b\",\"type\":\"Column\"},{\"attributes\":{},\"id\":\"bca67e98-3eca-4b36-af12-c1db358e1916\",\"type\":\"Selection\"},{\"attributes\":{\"dimension\":1,\"plot\":{\"id\":\"5e7d9bce-47e9-4cbd-b07a-4a600d10df13\",\"subtype\":\"Figure\",\"type\":\"Plot\"},\"ticker\":{\"id\":\"df5adf6b-56c2-4540-81a2-089c733be7f7\",\"type\":\"BasicTicker\"}},\"id\":\"fad8d198-8d1c-4b79-941c-5d5cf49f825c\",\"type\":\"Grid\"},{\"attributes\":{\"items\":[{\"id\":\"f1e17a21-c51e-4d25-b7db-bb7b8e5b7ffb\",\"type\":\"LegendItem\"},{\"id\":\"5535f0c6-ee76-420d-80a3-6fcfeee93b10\",\"type\":\"LegendItem\"}],\"label_text_font_size\":{\"value\":\"8pt\"},\"location\":\"top_center\",\"orientation\":\"horizontal\",\"plot\":{\"id\":\"5e7d9bce-47e9-4cbd-b07a-4a600d10df13\",\"subtype\":\"Figure\",\"type\":\"Plot\"}},\"id\":\"5c4af007-028f-445b-b20e-20d6cf007ca0\",\"type\":\"Legend\"},{\"attributes\":{},\"id\":\"3a435553-60e8-4d07-a259-471869258172\",\"type\":\"PanTool\"},{\"attributes\":{\"axis_label\":\"cooling rate [K/day]\",\"formatter\":{\"id\":\"ad9027ce-547a-4890-85dd-bcfd313d4877\",\"type\":\"BasicTickFormatter\"},\"plot\":{\"id\":\"0703c41c-fa21-4240-a027-0e89cbe7a7c7\",\"subtype\":\"Figure\",\"type\":\"Plot\"},\"ticker\":{\"id\":\"0a60b2cf-478f-4f89-8948-5068e6940eab\",\"type\":\"BasicTicker\"}},\"id\":\"a9cb47f7-26d6-4325-8233-3a1eee6497f8\",\"type\":\"LinearAxis\"},{\"attributes\":{\"tools\":[{\"id\":\"06344c46-453b-4060-bbad-890b4ec70479\",\"type\":\"PanTool\"},{\"id\":\"d3256b74-93a0-4051-ac34-686467dbe1a4\",\"type\":\"WheelZoomTool\"},{\"id\":\"161f8587-6370-4a6e-8e94-a7aee162e69e\",\"type\":\"BoxZoomTool\"},{\"id\":\"f718a8b1-76a3-4cfa-aea2-9a3e7abb0e31\",\"type\":\"SaveTool\"},{\"id\":\"d211c018-4569-483d-9cd1-9f742486f655\",\"type\":\"ResetTool\"},{\"id\":\"0555d571-f77a-442d-b1f9-214ac1edd8f8\",\"type\":\"HelpTool\"},{\"id\":\"3a435553-60e8-4d07-a259-471869258172\",\"type\":\"PanTool\"},{\"id\":\"47d607da-6947-4827-a6f8-9f05cff153d1\",\"type\":\"WheelZoomTool\"},{\"id\":\"e9fa8994-fe4c-42ca-af5f-8aeeda21fd55\",\"type\":\"BoxZoomTool\"},{\"id\":\"e7301719-f6dd-4604-bab7-0f3390329b08\",\"type\":\"SaveTool\"},{\"id\":\"dc78ae25-5e31-4ec9-9462-ddbe14dfa1a9\",\"type\":\"ResetTool\"},{\"id\":\"d085e65d-4b43-4a0c-aae0-934d0afec6d0\",\"type\":\"HelpTool\"},{\"id\":\"2d619cc0-16e1-47d1-a227-d69ee33e655c\",\"type\":\"PanTool\"},{\"id\":\"2e19ef2e-1793-401c-bf82-a824d547922e\",\"type\":\"WheelZoomTool\"},{\"id\":\"a476fb7c-e812-4939-9580-fc689e47f03d\",\"type\":\"BoxZoomTool\"},{\"id\":\"e86c0e1a-95e3-42a1-834a-8c1abf2e9ee2\",\"type\":\"SaveTool\"},{\"id\":\"123e9092-afa0-446f-84d8-44c26d226244\",\"type\":\"ResetTool\"},{\"id\":\"7603a6a0-add0-4c7c-84a0-094f7b59ba72\",\"type\":\"HelpTool\"}]},\"id\":\"85601013-c6bc-4fde-bb1f-fe1ece47d19d\",\"type\":\"ProxyToolbar\"},{\"attributes\":{\"plot\":{\"id\":\"5e7d9bce-47e9-4cbd-b07a-4a600d10df13\",\"subtype\":\"Figure\",\"type\":\"Plot\"},\"ticker\":{\"id\":\"d791c962-4734-4589-8e78-33bae0e85056\",\"type\":\"BasicTicker\"}},\"id\":\"9bd012ae-581d-4804-831f-0a52be37f3b4\",\"type\":\"Grid\"},{\"attributes\":{},\"id\":\"6f263780-ff61-45e7-a91c-9b2f5d1b1320\",\"type\":\"UnionRenderers\"},{\"attributes\":{\"active_drag\":\"auto\",\"active_inspect\":\"auto\",\"active_scroll\":\"auto\",\"active_tap\":\"auto\",\"tools\":[{\"id\":\"06344c46-453b-4060-bbad-890b4ec70479\",\"type\":\"PanTool\"},{\"id\":\"d3256b74-93a0-4051-ac34-686467dbe1a4\",\"type\":\"WheelZoomTool\"},{\"id\":\"161f8587-6370-4a6e-8e94-a7aee162e69e\",\"type\":\"BoxZoomTool\"},{\"id\":\"f718a8b1-76a3-4cfa-aea2-9a3e7abb0e31\",\"type\":\"SaveTool\"},{\"id\":\"d211c018-4569-483d-9cd1-9f742486f655\",\"type\":\"ResetTool\"},{\"id\":\"0555d571-f77a-442d-b1f9-214ac1edd8f8\",\"type\":\"HelpTool\"}]},\"id\":\"8fa39a74-c85e-434d-b39c-2cce03245a85\",\"type\":\"Toolbar\"},{\"attributes\":{},\"id\":\"d3256b74-93a0-4051-ac34-686467dbe1a4\",\"type\":\"WheelZoomTool\"},{\"attributes\":{\"ticker\":null},\"id\":\"67fd5826-dcfb-4909-a204-22d938205bba\",\"type\":\"LogTickFormatter\"},{\"attributes\":{\"above\":[{\"id\":\"5c4af007-028f-445b-b20e-20d6cf007ca0\",\"type\":\"Legend\"}],\"below\":[{\"id\":\"da062be3-4ee7-480b-be3a-40b50aeb6e2b\",\"type\":\"LinearAxis\"}],\"left\":[{\"id\":\"d813298a-110b-4649-b682-e2e5ed342402\",\"type\":\"LinearAxis\"}],\"plot_width\":300,\"renderers\":[{\"id\":\"da062be3-4ee7-480b-be3a-40b50aeb6e2b\",\"type\":\"LinearAxis\"},{\"id\":\"9bd012ae-581d-4804-831f-0a52be37f3b4\",\"type\":\"Grid\"},{\"id\":\"d813298a-110b-4649-b682-e2e5ed342402\",\"type\":\"LinearAxis\"},{\"id\":\"fad8d198-8d1c-4b79-941c-5d5cf49f825c\",\"type\":\"Grid\"},{\"id\":\"de991566-0dca-426f-bca6-df7129341e04\",\"type\":\"BoxAnnotation\"},{\"id\":\"416dd775-21ca-4b24-b3fa-245e6ae534d6\",\"type\":\"GlyphRenderer\"},{\"id\":\"65bb425c-9f0a-4c26-897c-98a462ba4837\",\"type\":\"GlyphRenderer\"},{\"id\":\"5affaa6f-d150-4e4b-8217-16f90a92da43\",\"type\":\"GlyphRenderer\"},{\"id\":\"5c4af007-028f-445b-b20e-20d6cf007ca0\",\"type\":\"Legend\"}],\"title\":{\"id\":\"ddb2e37c-5d26-4394-91dd-6483a93e0241\",\"type\":\"Title\"},\"toolbar\":{\"id\":\"8fa39a74-c85e-434d-b39c-2cce03245a85\",\"type\":\"Toolbar\"},\"toolbar_location\":null,\"x_range\":{\"id\":\"90b5dba8-19d4-4141-afce-aecab1f8ae5c\",\"type\":\"Range1d\"},\"x_scale\":{\"id\":\"f6ea9493-ac1c-43e5-b834-767be9536f85\",\"type\":\"LinearScale\"},\"y_range\":{\"id\":\"d6b073c2-6b85-403a-8610-c17ddd8f0391\",\"type\":\"Range1d\"},\"y_scale\":{\"id\":\"9f0aba40-0de0-4944-8328-3187149df994\",\"type\":\"LinearScale\"}},\"id\":\"5e7d9bce-47e9-4cbd-b07a-4a600d10df13\",\"subtype\":\"Figure\",\"type\":\"Plot\"},{\"attributes\":{\"items\":[{\"id\":\"0a6e843a-ddbf-4cc4-8498-efe2926c845a\",\"type\":\"LegendItem\"},{\"id\":\"8b41bb84-ab90-45be-b34c-be53e72588c5\",\"type\":\"LegendItem\"}],\"label_text_font_size\":{\"value\":\"8pt\"},\"location\":\"top_center\",\"orientation\":\"horizontal\",\"plot\":{\"id\":\"0703c41c-fa21-4240-a027-0e89cbe7a7c7\",\"subtype\":\"Figure\",\"type\":\"Plot\"}},\"id\":\"4e7a30be-9887-4ac6-8c50-139dbf03da4c\",\"type\":\"Legend\"},{\"attributes\":{\"num_minor_ticks\":10},\"id\":\"5d6bd1b6-8ccd-4604-8dde-346b602eddc3\",\"type\":\"LogTicker\"},{\"attributes\":{\"callback\":null,\"end\":12.208583273105388,\"start\":-0.6033023020843901},\"id\":\"802f9549-aa50-4af7-a210-8ae76d1bebf6\",\"type\":\"Range1d\"},{\"attributes\":{\"bottom_units\":\"screen\",\"fill_alpha\":{\"value\":0.5},\"fill_color\":{\"value\":\"lightgrey\"},\"left_units\":\"screen\",\"level\":\"overlay\",\"line_alpha\":{\"value\":1.0},\"line_color\":{\"value\":\"black\"},\"line_dash\":[4,4],\"line_width\":{\"value\":2},\"plot\":null,\"render_mode\":\"css\",\"right_units\":\"screen\",\"top_units\":\"screen\"},\"id\":\"5cddc5db-a534-4b1e-8710-3484cfa32814\",\"type\":\"BoxAnnotation\"},{\"attributes\":{\"label\":{\"value\":\"CRD\"},\"renderers\":[{\"id\":\"65bb425c-9f0a-4c26-897c-98a462ba4837\",\"type\":\"GlyphRenderer\"},{\"id\":\"5affaa6f-d150-4e4b-8217-16f90a92da43\",\"type\":\"GlyphRenderer\"}]},\"id\":\"5535f0c6-ee76-420d-80a3-6fcfeee93b10\",\"type\":\"LegendItem\"},{\"attributes\":{\"plot\":{\"id\":\"0703c41c-fa21-4240-a027-0e89cbe7a7c7\",\"subtype\":\"Figure\",\"type\":\"Plot\"},\"ticker\":{\"id\":\"0a60b2cf-478f-4f89-8948-5068e6940eab\",\"type\":\"BasicTicker\"}},\"id\":\"3b56257e-3537-4eb3-92ce-2e55a8ab3c3d\",\"type\":\"Grid\"},{\"attributes\":{\"axis_label\":\"pressure [mb]\",\"formatter\":{\"id\":\"38722754-8487-42ab-970b-f523d50ef976\",\"type\":\"LogTickFormatter\"},\"plot\":{\"id\":\"0703c41c-fa21-4240-a027-0e89cbe7a7c7\",\"subtype\":\"Figure\",\"type\":\"Plot\"},\"ticker\":{\"id\":\"5d6bd1b6-8ccd-4604-8dde-346b602eddc3\",\"type\":\"LogTicker\"}},\"id\":\"a0634e0d-d38a-4ec3-8402-51a2a31311a2\",\"type\":\"LogAxis\"},{\"attributes\":{},\"id\":\"f718a8b1-76a3-4cfa-aea2-9a3e7abb0e31\",\"type\":\"SaveTool\"},{\"attributes\":{},\"id\":\"bca29d13-d110-4ab7-a9b8-0278b9319bee\",\"type\":\"LogScale\"},{\"attributes\":{},\"id\":\"2e19ef2e-1793-401c-bf82-a824d547922e\",\"type\":\"WheelZoomTool\"},{\"attributes\":{},\"id\":\"2d619cc0-16e1-47d1-a227-d69ee33e655c\",\"type\":\"PanTool\"},{\"attributes\":{\"source\":{\"id\":\"c7bfec89-a85f-4c6e-95db-74122cf449bb\",\"type\":\"ColumnDataSource\"}},\"id\":\"b774c76f-cd44-42a8-a52f-ee38483d1bda\",\"type\":\"CDSView\"},{\"attributes\":{\"fill_alpha\":{\"value\":0.7},\"fill_color\":{\"value\":\"#4daf4a\"},\"line_alpha\":{\"value\":0.7},\"line_color\":{\"value\":\"#4daf4a\"},\"x\":{\"field\":\"x\"},\"y\":{\"field\":\"y\"}},\"id\":\"354e2852-19df-48ec-8be7-112090fb1c54\",\"type\":\"Circle\"},{\"attributes\":{\"data_source\":{\"id\":\"29d4b5e5-27ec-44cd-aaec-75d72ff23532\",\"type\":\"ColumnDataSource\"},\"glyph\":{\"id\":\"5f1c4dfa-503b-43ff-83c0-f192fb4b6b5e\",\"type\":\"Line\"},\"hover_glyph\":null,\"muted_glyph\":null,\"nonselection_glyph\":{\"id\":\"91766252-365c-43e6-a007-19bf1e75a8f4\",\"type\":\"Line\"},\"selection_glyph\":null,\"view\":{\"id\":\"2bf6bf76-39be-4507-b64b-528d9fc3ef5a\",\"type\":\"CDSView\"}},\"id\":\"5affaa6f-d150-4e4b-8217-16f90a92da43\",\"type\":\"GlyphRenderer\"},{\"attributes\":{\"callback\":null,\"data\":{\"x\":{\"__ndarray__\":\"R/KIaN7AVEClCeJMyPNGQOvRhpxr30JAptxzhxx4PkA7SssMElA4QK6Bp3CyUDNAsVXpjES9LkBFhUV0+5coQMHYwqbbySNA6f09nM3nH0CaSd/3eYoZQDmgiAOW8BNAPYqARh3eDEBkm4vCgvr+P9D+5tWhQfY/P8DwKRnSAkBq38kb17ILQDT7IWuSsxFAUr2Rjm0FFkAinq3s9XgbQGCHwtYcqSFAG64kT303J0C7dRDneyooQD9JYrbK8yRA9S3bneHhIUAIymSuUMMcQIkHLe6VEBdAAau3cITREkA6CiNvkQIPQJU39ki7IQlAaAvwok1UA0BXLQiS4+L7P0xzDpJ2hPI/NNuPGMbJ5z91mUVYxqfSPxqwUPSxZca/G11peifD3L8QzNj5t2jTvwzOozTL360/SPJ4VI1VzD9KJ0nXEIncP8yDdlvHt+4/Et49nYLW9z++2teD4Jn+P+568eH/bwFALf5D9lmAAkCiZAicVOkCQPPT4jNKxwJAOjp3wTzBAUBSQsKNGisBQG4OmjqJwQBAJ3sZoHFuAEA5Ar0Sdi0AQGy4rw5+9f8/7W4nSrC3/z8mPr8zj4T/P4UYRHCQS/8/embVKYcF/z+5YXG+LLP+P/qb8BVUgf4/KvafTtyO/j/avAK1Ppv+PwJV9VVm2P0/JFtYlU/n/D9sN+q2fiX6Pw44e41PNPc/Opt+Z/wN9T+x3vcSW1vzP9ofvWQJlvI/8sciQQBW8j80sfkQa17yPzg5qng2r/I/Oh14WJBh8z+VZjnpctj0P6CcrSuCqQBA\",\"dtype\":\"float64\",\"shape\":[75]},\"y\":{\"__ndarray__\":\"GhExyth1ND/Sv8nbtpRIP2vylNV0PVE/aTum7souWD/At0SJ8fVgPw3Iuahxymc/MSNhhJWvcD/bTfBN02d3P2zb5nxnaoA/CD5h5MAGhz8NmeH1TyaQP+zrCsc9p5Y/LbKd76fGnz/bLW5ISEmmPww9YvTcQq8/JV2OstnstT8Er5Y7M8G+P0c+r3jqkcU/5h99k6ZBzj88bCIzFzjVP4enV8oyxN0//yH99nXg5D8qOpLLf0jtP5kqGJXUifQ/c9cS8kHP/D+/DpwzojQEQIEmwoanVwxA4lgXt9HgE0BSSZ2AJuIbQAMJih9jjiNA5q4l5INuK0AwTKYKRj0zQNv5fmq8/DpAaCJseHrtQkB/+zpwzoxKQM3MzMzMeFJAZmZmZmZqWEAAAAAAAFxeQM3MzMzMJmJAmpmZmZkfZUBmZmZmZhhoQDMzMzMzEWtAAAAAAAAKbkBmZmZmZoFwQM3MzMzM/XFAMzMzMzN6c0CamZmZmfZ0QAAAAAAAc3ZAZmZmZmbvd0DNzMzMzGt5QDMzMzMz6HpAmpmZmZlkfEAAAAAAAOF9QGZmZmZmXX9AZmZmZuZsgECamZmZGSuBQM3MzMxM6YFAAAAAAICngkAzMzMzs2WDQGZmZmbmI4RAmpmZmRnihEDNzMzMTKCFQAAAAACAXoZAMzMzM7Mch0BmZmZm5tqHQJqZmZkZmYhAzczMzExXiUAAAAAAgBWKQDMzMzOz04pAZmZmZuaRi0CamZmZGVCMQM3MzMxMDo1AAAAAAIDMjUAzMzMzs4qOQGZmZmbmSI9A\",\"dtype\":\"float64\",\"shape\":[75]}},\"selected\":{\"id\":\"874d2368-c612-49a1-b989-58cebdcd7e1f\",\"type\":\"Selection\"},\"selection_policy\":{\"id\":\"18223fe9-6ad6-4e6a-b5d4-f7625275d08d\",\"type\":\"UnionRenderers\"}},\"id\":\"c7bfec89-a85f-4c6e-95db-74122cf449bb\",\"type\":\"ColumnDataSource\"},{\"attributes\":{\"dimension\":1,\"plot\":{\"id\":\"9f914015-aa6f-4ea6-b393-8e0439eb0f15\",\"subtype\":\"Figure\",\"type\":\"Plot\"},\"ticker\":{\"id\":\"4028417e-478f-410e-80e7-0941eb687247\",\"type\":\"LogTicker\"}},\"id\":\"b0f93601-a1f3-41ea-a33f-68d734ea4382\",\"type\":\"Grid\"},{\"attributes\":{},\"id\":\"9fd54731-76af-4d0c-a843-263e5f4264b5\",\"type\":\"BasicTicker\"},{\"attributes\":{},\"id\":\"7603a6a0-add0-4c7c-84a0-094f7b59ba72\",\"type\":\"HelpTool\"},{\"attributes\":{\"axis_label\":\"cooling rate [K/day]\",\"formatter\":{\"id\":\"968e2fea-821e-40b2-8a51-834b2ac2f960\",\"type\":\"BasicTickFormatter\"},\"plot\":{\"id\":\"9f914015-aa6f-4ea6-b393-8e0439eb0f15\",\"subtype\":\"Figure\",\"type\":\"Plot\"},\"ticker\":{\"id\":\"9fd54731-76af-4d0c-a843-263e5f4264b5\",\"type\":\"BasicTicker\"}},\"id\":\"92d047a5-eecd-4fce-8a86-7297c5793218\",\"type\":\"LinearAxis\"},{\"attributes\":{\"source\":{\"id\":\"d33e13d9-55f9-435a-8e0f-a5c4f050d2bd\",\"type\":\"ColumnDataSource\"}},\"id\":\"8616058d-6a30-4a48-8ff0-78622a7d9ff7\",\"type\":\"CDSView\"},{\"attributes\":{\"data_source\":{\"id\":\"9c035d4a-ba56-4163-b936-39a794f345ec\",\"type\":\"ColumnDataSource\"},\"glyph\":{\"id\":\"354e2852-19df-48ec-8be7-112090fb1c54\",\"type\":\"Circle\"},\"hover_glyph\":null,\"muted_glyph\":null,\"nonselection_glyph\":{\"id\":\"6fefbd5f-78be-43a1-b71e-b942560840fd\",\"type\":\"Circle\"},\"selection_glyph\":null,\"view\":{\"id\":\"570609cb-1e18-4bc3-9e23-11a4886dc377\",\"type\":\"CDSView\"}},\"id\":\"f5df1090-280d-4b66-a7f9-3f34a8b701b5\",\"type\":\"GlyphRenderer\"},{\"attributes\":{},\"id\":\"39ba0bff-4ce7-4d6a-8b51-abd0b0b86298\",\"type\":\"Selection\"},{\"attributes\":{\"num_minor_ticks\":10},\"id\":\"4028417e-478f-410e-80e7-0941eb687247\",\"type\":\"LogTicker\"},{\"attributes\":{\"fill_alpha\":{\"value\":0.1},\"fill_color\":{\"value\":\"#1f77b4\"},\"line_alpha\":{\"value\":0.1},\"line_color\":{\"value\":\"#1f77b4\"},\"x\":{\"field\":\"x\"},\"y\":{\"field\":\"y\"}},\"id\":\"6fefbd5f-78be-43a1-b71e-b942560840fd\",\"type\":\"Circle\"},{\"attributes\":{},\"id\":\"123e9092-afa0-446f-84d8-44c26d226244\",\"type\":\"ResetTool\"},{\"attributes\":{\"source\":{\"id\":\"0af1f738-4e88-4c0a-ac92-2a6806abbb8d\",\"type\":\"ColumnDataSource\"}},\"id\":\"a3b8d7a2-5388-4900-b797-98567495f292\",\"type\":\"CDSView\"},{\"attributes\":{\"line_alpha\":0.1,\"line_color\":\"#1f77b4\",\"line_width\":1.5,\"x\":{\"field\":\"x\"},\"y\":{\"field\":\"y\"}},\"id\":\"91766252-365c-43e6-a007-19bf1e75a8f4\",\"type\":\"Line\"},{\"attributes\":{\"bottom_units\":\"screen\",\"fill_alpha\":{\"value\":0.5},\"fill_color\":{\"value\":\"lightgrey\"},\"left_units\":\"screen\",\"level\":\"overlay\",\"line_alpha\":{\"value\":1.0},\"line_color\":{\"value\":\"black\"},\"line_dash\":[4,4],\"line_width\":{\"value\":2},\"plot\":null,\"render_mode\":\"css\",\"right_units\":\"screen\",\"top_units\":\"screen\"},\"id\":\"10e30b38-a434-4513-a11a-a7577f3019a6\",\"type\":\"BoxAnnotation\"},{\"attributes\":{\"data_source\":{\"id\":\"0af1f738-4e88-4c0a-ac92-2a6806abbb8d\",\"type\":\"ColumnDataSource\"},\"glyph\":{\"id\":\"9412bfd8-f61e-446f-b50a-96fa69ff823b\",\"type\":\"Circle\"},\"hover_glyph\":null,\"muted_glyph\":null,\"nonselection_glyph\":{\"id\":\"e6a8918b-42b6-4859-a43f-ca95b4f4234d\",\"type\":\"Circle\"},\"selection_glyph\":null,\"view\":{\"id\":\"a3b8d7a2-5388-4900-b797-98567495f292\",\"type\":\"CDSView\"}},\"id\":\"c2f9c815-05fd-41e5-8575-ecae199fad77\",\"type\":\"GlyphRenderer\"},{\"attributes\":{\"line_color\":\"#4daf4a\",\"line_width\":1.5,\"x\":{\"field\":\"x\"},\"y\":{\"field\":\"y\"}},\"id\":\"5f1c4dfa-503b-43ff-83c0-f192fb4b6b5e\",\"type\":\"Line\"},{\"attributes\":{\"plot\":{\"id\":\"9f914015-aa6f-4ea6-b393-8e0439eb0f15\",\"subtype\":\"Figure\",\"type\":\"Plot\"},\"ticker\":{\"id\":\"9fd54731-76af-4d0c-a843-263e5f4264b5\",\"type\":\"BasicTicker\"}},\"id\":\"299e835f-412c-42a7-9b6b-b71481a6ffdb\",\"type\":\"Grid\"},{\"attributes\":{\"source\":{\"id\":\"9c035d4a-ba56-4163-b936-39a794f345ec\",\"type\":\"ColumnDataSource\"}},\"id\":\"570609cb-1e18-4bc3-9e23-11a4886dc377\",\"type\":\"CDSView\"},{\"attributes\":{\"axis_label\":\"pressure [mb]\",\"formatter\":{\"id\":\"67fd5826-dcfb-4909-a204-22d938205bba\",\"type\":\"LogTickFormatter\"},\"plot\":{\"id\":\"9f914015-aa6f-4ea6-b393-8e0439eb0f15\",\"subtype\":\"Figure\",\"type\":\"Plot\"},\"ticker\":{\"id\":\"4028417e-478f-410e-80e7-0941eb687247\",\"type\":\"LogTicker\"}},\"id\":\"17a39a6c-a3a8-4d39-b9a5-3c3fca3854ae\",\"type\":\"LogAxis\"},{\"attributes\":{\"callback\":null,\"data\":{\"x\":{\"__ndarray__\":\"R/KIaN7AVEClCeJMyPNGQOvRhpxr30JAptxzhxx4PkA7SssMElA4QK6Bp3CyUDNAsVXpjES9LkBFhUV0+5coQMHYwqbbySNA6f09nM3nH0CaSd/3eYoZQDmgiAOW8BNAPYqARh3eDEBkm4vCgvr+P9D+5tWhQfY/P8DwKRnSAkBq38kb17ILQDT7IWuSsxFAUr2Rjm0FFkAinq3s9XgbQGCHwtYcqSFAG64kT303J0C7dRDneyooQD9JYrbK8yRA9S3bneHhIUAIymSuUMMcQIkHLe6VEBdAAau3cITREkA6CiNvkQIPQJU39ki7IQlAaAvwok1UA0BXLQiS4+L7P0xzDpJ2hPI/NNuPGMbJ5z91mUVYxqfSPxqwUPSxZca/G11peifD3L8QzNj5t2jTvwzOozTL360/SPJ4VI1VzD9KJ0nXEIncP8yDdlvHt+4/Et49nYLW9z++2teD4Jn+P+568eH/bwFALf5D9lmAAkCiZAicVOkCQPPT4jNKxwJAOjp3wTzBAUBSQsKNGisBQG4OmjqJwQBAJ3sZoHFuAEA5Ar0Sdi0AQGy4rw5+9f8/7W4nSrC3/z8mPr8zj4T/P4UYRHCQS/8/embVKYcF/z+5YXG+LLP+P/qb8BVUgf4/KvafTtyO/j/avAK1Ppv+PwJV9VVm2P0/JFtYlU/n/D9sN+q2fiX6Pw44e41PNPc/Opt+Z/wN9T+x3vcSW1vzP9ofvWQJlvI/8sciQQBW8j80sfkQa17yPzg5qng2r/I/Oh14WJBh8z+VZjnpctj0P6CcrSuCqQBA\",\"dtype\":\"float64\",\"shape\":[75]},\"y\":{\"__ndarray__\":\"GhExyth1ND/Sv8nbtpRIP2vylNV0PVE/aTum7souWD/At0SJ8fVgPw3Iuahxymc/MSNhhJWvcD/bTfBN02d3P2zb5nxnaoA/CD5h5MAGhz8NmeH1TyaQP+zrCsc9p5Y/LbKd76fGnz/bLW5ISEmmPww9YvTcQq8/JV2OstnstT8Er5Y7M8G+P0c+r3jqkcU/5h99k6ZBzj88bCIzFzjVP4enV8oyxN0//yH99nXg5D8qOpLLf0jtP5kqGJXUifQ/c9cS8kHP/D+/DpwzojQEQIEmwoanVwxA4lgXt9HgE0BSSZ2AJuIbQAMJih9jjiNA5q4l5INuK0AwTKYKRj0zQNv5fmq8/DpAaCJseHrtQkB/+zpwzoxKQM3MzMzMeFJAZmZmZmZqWEAAAAAAAFxeQM3MzMzMJmJAmpmZmZkfZUBmZmZmZhhoQDMzMzMzEWtAAAAAAAAKbkBmZmZmZoFwQM3MzMzM/XFAMzMzMzN6c0CamZmZmfZ0QAAAAAAAc3ZAZmZmZmbvd0DNzMzMzGt5QDMzMzMz6HpAmpmZmZlkfEAAAAAAAOF9QGZmZmZmXX9AZmZmZuZsgECamZmZGSuBQM3MzMxM6YFAAAAAAICngkAzMzMzs2WDQGZmZmbmI4RAmpmZmRnihEDNzMzMTKCFQAAAAACAXoZAMzMzM7Mch0BmZmZm5tqHQJqZmZkZmYhAzczMzExXiUAAAAAAgBWKQDMzMzOz04pAZmZmZuaRi0CamZmZGVCMQM3MzMxMDo1AAAAAAIDMjUAzMzMzs4qOQGZmZmbmSI9A\",\"dtype\":\"float64\",\"shape\":[75]}},\"selected\":{\"id\":\"39ba0bff-4ce7-4d6a-8b51-abd0b0b86298\",\"type\":\"Selection\"},\"selection_policy\":{\"id\":\"8fa6e288-84cc-434a-afb7-354cc4085b8e\",\"type\":\"UnionRenderers\"}},\"id\":\"9c035d4a-ba56-4163-b936-39a794f345ec\",\"type\":\"ColumnDataSource\"},{\"attributes\":{\"line_color\":\"#4daf4a\",\"line_width\":1.5,\"x\":{\"field\":\"x\"},\"y\":{\"field\":\"y\"}},\"id\":\"cb493c8e-50cd-402d-ab4b-bad0114d7795\",\"type\":\"Line\"},{\"attributes\":{},\"id\":\"e86c0e1a-95e3-42a1-834a-8c1abf2e9ee2\",\"type\":\"SaveTool\"},{\"attributes\":{\"line_alpha\":0.6,\"line_color\":\"#377eb8\",\"line_dash\":[6],\"line_width\":5,\"x\":{\"field\":\"x\"},\"y\":{\"field\":\"y\"}},\"id\":\"7e941e8d-7a2e-4b25-b261-36ab8da6bd40\",\"type\":\"Line\"},{\"attributes\":{\"overlay\":{\"id\":\"10e30b38-a434-4513-a11a-a7577f3019a6\",\"type\":\"BoxAnnotation\"}},\"id\":\"a476fb7c-e812-4939-9580-fc689e47f03d\",\"type\":\"BoxZoomTool\"},{\"attributes\":{},\"id\":\"df5adf6b-56c2-4540-81a2-089c733be7f7\",\"type\":\"BasicTicker\"},{\"attributes\":{\"callback\":null,\"data\":{\"x\":{\"__ndarray__\":\"+91suA2FRUDEhDu3BNNCQJGH2RpTtEFAEt02UCgdQEDVxLSQChY8QIhbJRqUKjdAYVUzOB7pMUDTM3KX3QQqQEK9BNB3SCJA6NjTUF6dGkBKgvPiLzsVQL0Sjm8nBhJA/DvUw9qUDUDkg8wWHTEDQPqPmlKB6f4/+3yWOi+sBUBavERq4UMMQLVhH27xnBBAfwWOfm3eE0DummfvB08ZQAaUixg3DCFArKetlIYCJ0Cs7TuihhkoQB+fXFuzhCRAQi/iYYwnIUBZuHizlFYcQC1AvJM7WRhAg3T9xFgsFEA0HebAUMcPQFKxsGLKOwlAuRjZ7ZQ7BUAmhydNp3kAQNl7ZywnsfQ/bePIZtQK5j8GONhrav7QPxDDyUYoicG/tW4zfJCS3r80aRMuziHYv2KS/mjbLl+/fwV3ehhXxT+O1XwUPq7YP7JEdD4ju+w/6QCXA6269j/1X/IRTNf9P3eY3xv76wBA9MudvM6EAUC4nZXZbkcCQJZjjxetTAJAN+UlS5cWAUCXT334HoEAQPbZ2qEuTwBAxddFMwkvAEAgAG4tOAQAQIwWdH+UnP8/BWSLQ0Y//z+ZMGChRAf/P7Wo5GjCDf8/mQ+WHj5C/z+7FkMl7WP/Px29Y3brZP8/oy7TqCBM/z/lglFOVvr+P18JCfCU2P0/cmhc+6zJ/D8DIuChwy/6P76YinnXm/c/Z9o81bPt9T/nsnvwZn70P/MHGE0DxPM/L8l+pxuV8z/YaqQova7zP2CtsiQ0EfQ/P+H9lMkD9T+yagFyKrv2P/6hXMS+pwFA\",\"dtype\":\"float64\",\"shape\":[75]},\"y\":{\"__ndarray__\":\"GhExyth1ND/Sv8nbtpRIP2vylNV0PVE/aTum7souWD/At0SJ8fVgPw3Iuahxymc/MSNhhJWvcD/bTfBN02d3P2zb5nxnaoA/CD5h5MAGhz8NmeH1TyaQP+zrCsc9p5Y/LbKd76fGnz/bLW5ISEmmPww9YvTcQq8/JV2OstnstT8Er5Y7M8G+P0c+r3jqkcU/5h99k6ZBzj88bCIzFzjVP4enV8oyxN0//yH99nXg5D8qOpLLf0jtP5kqGJXUifQ/c9cS8kHP/D+/DpwzojQEQIEmwoanVwxA4lgXt9HgE0BSSZ2AJuIbQAMJih9jjiNA5q4l5INuK0AwTKYKRj0zQNv5fmq8/DpAaCJseHrtQkB/+zpwzoxKQM3MzMzMeFJAZmZmZmZqWEAAAAAAAFxeQM3MzMzMJmJAmpmZmZkfZUBmZmZmZhhoQDMzMzMzEWtAAAAAAAAKbkBmZmZmZoFwQM3MzMzM/XFAMzMzMzN6c0CamZmZmfZ0QAAAAAAAc3ZAZmZmZmbvd0DNzMzMzGt5QDMzMzMz6HpAmpmZmZlkfEAAAAAAAOF9QGZmZmZmXX9AZmZmZuZsgECamZmZGSuBQM3MzMxM6YFAAAAAAICngkAzMzMzs2WDQGZmZmbmI4RAmpmZmRnihEDNzMzMTKCFQAAAAACAXoZAMzMzM7Mch0BmZmZm5tqHQJqZmZkZmYhAzczMzExXiUAAAAAAgBWKQDMzMzOz04pAZmZmZuaRi0CamZmZGVCMQM3MzMxMDo1AAAAAAIDMjUAzMzMzs4qOQGZmZmbmSI9A\",\"dtype\":\"float64\",\"shape\":[75]}},\"selected\":{\"id\":\"969c68e5-b5e0-4c85-85a6-68311024d9aa\",\"type\":\"Selection\"},\"selection_policy\":{\"id\":\"81b7731f-eae7-4e8c-88bf-e0261f258eb3\",\"type\":\"UnionRenderers\"}},\"id\":\"d33e13d9-55f9-435a-8e0f-a5c4f050d2bd\",\"type\":\"ColumnDataSource\"},{\"attributes\":{\"callback\":null,\"data\":{\"x\":{\"__ndarray__\":\"lAalGK/8Q8CGE5pWDoMgwKSl1BqIsQLA3tedj0Ej/D/B1EsfxC8OQNnO7ksNzw5ASFT1jd9TBED76MoyIs7mP/K34Ws9Fui/B5SoLb0p9b9BHa9TKD3xv87XqD/ppt6/njd2qq/Xtj+IsTWs3Z7dP1IiZ/m+T+E/3uUthbDQ1j8unlvPSSGyPwqYKdAPatG/ob4dgAA44b+hGTDqb0/hvy5r3sa3nNO/PTeDO117ur+OD4jURPWgv4GIasHWxcu/WtYff6dK17+vawS7/i67v0WK81haitQ/KZhcREWt1T8/X2I46pe4PzW+eboZD4o/D9WQrnR0zj/ggxshrEHUP2hEyNKEZcE/X3xvHBvvq7/PFtbGvpWavye0G7YmcqM/gBmhHJD2nL+RdOrQWOSyv57C6w9C2a6/J7MHaNP5q7/hjWIWltauv5rxI9BByq+/qdJtmlm9sb8lWa88jlKov85OPMKYgLC//kbGNGdxv78v3VhOuDy0v/UW3BRHp66/jqAqyq5Utb8wV56ocj+1v8sdzS+mlqy/NrHRaTa0n7/4DIGn8p6UvyR46M5jOpa/WroCp4Eanr9uY8OXpFKfvyXpt68D546/m49UYHpbjj9RoDbaDBimP3AkZA7scqw/7g5nRouopz8Fg7FT5sWXPwCwL9oJTQc/RLPy+5mifb8AMtXr1YlkP+Yr2AP74Zk/tOXHt+32qz9ZQz3YvTCyP5KBroWe37I/zRPAZbbxsz80mqt6IQW1P3RCh8DaH7Y/QEBcyJMjuj/gQYCMeCu+P7+r4BWTx78/\",\"dtype\":\"float64\",\"shape\":[75]},\"y\":{\"__ndarray__\":\"GhExyth1ND/Sv8nbtpRIP2vylNV0PVE/aTum7souWD/At0SJ8fVgPw3Iuahxymc/MSNhhJWvcD/bTfBN02d3P2zb5nxnaoA/CD5h5MAGhz8NmeH1TyaQP+zrCsc9p5Y/LbKd76fGnz/bLW5ISEmmPww9YvTcQq8/JV2OstnstT8Er5Y7M8G+P0c+r3jqkcU/5h99k6ZBzj88bCIzFzjVP4enV8oyxN0//yH99nXg5D8qOpLLf0jtP5kqGJXUifQ/c9cS8kHP/D+/DpwzojQEQIEmwoanVwxA4lgXt9HgE0BSSZ2AJuIbQAMJih9jjiNA5q4l5INuK0AwTKYKRj0zQNv5fmq8/DpAaCJseHrtQkB/+zpwzoxKQM3MzMzMeFJAZmZmZmZqWEAAAAAAAFxeQM3MzMzMJmJAmpmZmZkfZUBmZmZmZhhoQDMzMzMzEWtAAAAAAAAKbkBmZmZmZoFwQM3MzMzM/XFAMzMzMzN6c0CamZmZmfZ0QAAAAAAAc3ZAZmZmZmbvd0DNzMzMzGt5QDMzMzMz6HpAmpmZmZlkfEAAAAAAAOF9QGZmZmZmXX9AZmZmZuZsgECamZmZGSuBQM3MzMxM6YFAAAAAAICngkAzMzMzs2WDQGZmZmbmI4RAmpmZmRnihEDNzMzMTKCFQAAAAACAXoZAMzMzM7Mch0BmZmZm5tqHQJqZmZkZmYhAzczMzExXiUAAAAAAgBWKQDMzMzOz04pAZmZmZuaRi0CamZmZGVCMQM3MzMxMDo1AAAAAAIDMjUAzMzMzs4qOQGZmZmbmSI9A\",\"dtype\":\"float64\",\"shape\":[75]}},\"selected\":{\"id\":\"da848fad-b728-4b48-8416-65787b70e7f8\",\"type\":\"Selection\"},\"selection_policy\":{\"id\":\"4103eab7-db86-4fdf-9bf8-adcd77eb6945\",\"type\":\"UnionRenderers\"}},\"id\":\"0af1f738-4e88-4c0a-ac92-2a6806abbb8d\",\"type\":\"ColumnDataSource\"},{\"attributes\":{\"source\":{\"id\":\"bed7de9f-e1c7-4479-aab6-94cd8de36dc9\",\"type\":\"ColumnDataSource\"}},\"id\":\"a1ed9d38-f086-4ce8-8081-20ad91cb49a4\",\"type\":\"CDSView\"},{\"attributes\":{\"callback\":null,\"end\":0.01,\"start\":1020},\"id\":\"4fb70ec3-6830-4bf6-8fd2-5b7e1af3517a\",\"type\":\"Range1d\"},{\"attributes\":{\"label\":{\"value\":\"CRD\"},\"renderers\":[{\"id\":\"f5df1090-280d-4b66-a7f9-3f34a8b701b5\",\"type\":\"GlyphRenderer\"},{\"id\":\"6a0e689e-cf79-42db-a91e-3513828242ca\",\"type\":\"GlyphRenderer\"}]},\"id\":\"8b41bb84-ab90-45be-b34c-be53e72588c5\",\"type\":\"LegendItem\"},{\"attributes\":{},\"id\":\"d791c962-4734-4589-8e78-33bae0e85056\",\"type\":\"BasicTicker\"},{\"attributes\":{\"callback\":null,\"data\":{\"x\":{\"__ndarray__\":\"+91suA2FRUDEhDu3BNNCQJGH2RpTtEFAEt02UCgdQEDVxLSQChY8QIhbJRqUKjdAYVUzOB7pMUDTM3KX3QQqQEK9BNB3SCJA6NjTUF6dGkBKgvPiLzsVQL0Sjm8nBhJA/DvUw9qUDUDkg8wWHTEDQPqPmlKB6f4/+3yWOi+sBUBavERq4UMMQLVhH27xnBBAfwWOfm3eE0DummfvB08ZQAaUixg3DCFArKetlIYCJ0Cs7TuihhkoQB+fXFuzhCRAQi/iYYwnIUBZuHizlFYcQC1AvJM7WRhAg3T9xFgsFEA0HebAUMcPQFKxsGLKOwlAuRjZ7ZQ7BUAmhydNp3kAQNl7ZywnsfQ/bePIZtQK5j8GONhrav7QPxDDyUYoicG/tW4zfJCS3r80aRMuziHYv2KS/mjbLl+/fwV3ehhXxT+O1XwUPq7YP7JEdD4ju+w/6QCXA6269j/1X/IRTNf9P3eY3xv76wBA9MudvM6EAUC4nZXZbkcCQJZjjxetTAJAN+UlS5cWAUCXT334HoEAQPbZ2qEuTwBAxddFMwkvAEAgAG4tOAQAQIwWdH+UnP8/BWSLQ0Y//z+ZMGChRAf/P7Wo5GjCDf8/mQ+WHj5C/z+7FkMl7WP/Px29Y3brZP8/oy7TqCBM/z/lglFOVvr+P18JCfCU2P0/cmhc+6zJ/D8DIuChwy/6P76YinnXm/c/Z9o81bPt9T/nsnvwZn70P/MHGE0DxPM/L8l+pxuV8z/YaqQova7zP2CtsiQ0EfQ/P+H9lMkD9T+yagFyKrv2P/6hXMS+pwFA\",\"dtype\":\"float64\",\"shape\":[75]},\"y\":{\"__ndarray__\":\"GhExyth1ND/Sv8nbtpRIP2vylNV0PVE/aTum7souWD/At0SJ8fVgPw3Iuahxymc/MSNhhJWvcD/bTfBN02d3P2zb5nxnaoA/CD5h5MAGhz8NmeH1TyaQP+zrCsc9p5Y/LbKd76fGnz/bLW5ISEmmPww9YvTcQq8/JV2OstnstT8Er5Y7M8G+P0c+r3jqkcU/5h99k6ZBzj88bCIzFzjVP4enV8oyxN0//yH99nXg5D8qOpLLf0jtP5kqGJXUifQ/c9cS8kHP/D+/DpwzojQEQIEmwoanVwxA4lgXt9HgE0BSSZ2AJuIbQAMJih9jjiNA5q4l5INuK0AwTKYKRj0zQNv5fmq8/DpAaCJseHrtQkB/+zpwzoxKQM3MzMzMeFJAZmZmZmZqWEAAAAAAAFxeQM3MzMzMJmJAmpmZmZkfZUBmZmZmZhhoQDMzMzMzEWtAAAAAAAAKbkBmZmZmZoFwQM3MzMzM/XFAMzMzMzN6c0CamZmZmfZ0QAAAAAAAc3ZAZmZmZmbvd0DNzMzMzGt5QDMzMzMz6HpAmpmZmZlkfEAAAAAAAOF9QGZmZmZmXX9AZmZmZuZsgECamZmZGSuBQM3MzMxM6YFAAAAAAICngkAzMzMzs2WDQGZmZmbmI4RAmpmZmRnihEDNzMzMTKCFQAAAAACAXoZAMzMzM7Mch0BmZmZm5tqHQJqZmZkZmYhAzczMzExXiUAAAAAAgBWKQDMzMzOz04pAZmZmZuaRi0CamZmZGVCMQM3MzMxMDo1AAAAAAIDMjUAzMzMzs4qOQGZmZmbmSI9A\",\"dtype\":\"float64\",\"shape\":[75]}},\"selected\":{\"id\":\"f4683158-bbe1-48d0-96b6-3e3af63a28f2\",\"type\":\"Selection\"},\"selection_policy\":{\"id\":\"c970c434-95d5-4f9c-8ad6-f87339093baa\",\"type\":\"UnionRenderers\"}},\"id\":\"d32bb531-4bf4-4b5f-8b78-8fa6d26eaea7\",\"type\":\"ColumnDataSource\"},{\"attributes\":{\"line_alpha\":0.1,\"line_color\":\"#1f77b4\",\"line_dash\":[6],\"line_width\":5,\"x\":{\"field\":\"x\"},\"y\":{\"field\":\"y\"}},\"id\":\"8973cb63-97cb-43f3-ade6-d9fbde8d2643\",\"type\":\"Line\"},{\"attributes\":{},\"id\":\"602b42a4-b922-468d-95f7-37f50db5a193\",\"type\":\"BasicTickFormatter\"},{\"attributes\":{\"fill_alpha\":{\"value\":0.1},\"fill_color\":{\"value\":\"#1f77b4\"},\"line_alpha\":{\"value\":0.1},\"line_color\":{\"value\":\"#1f77b4\"},\"x\":{\"field\":\"x\"},\"y\":{\"field\":\"y\"}},\"id\":\"e6a8918b-42b6-4859-a43f-ca95b4f4234d\",\"type\":\"Circle\"},{\"attributes\":{\"bottom_units\":\"screen\",\"fill_alpha\":{\"value\":0.5},\"fill_color\":{\"value\":\"lightgrey\"},\"left_units\":\"screen\",\"level\":\"overlay\",\"line_alpha\":{\"value\":1.0},\"line_color\":{\"value\":\"black\"},\"line_dash\":[4,4],\"line_width\":{\"value\":2},\"plot\":null,\"render_mode\":\"css\",\"right_units\":\"screen\",\"top_units\":\"screen\"},\"id\":\"de991566-0dca-426f-bca6-df7129341e04\",\"type\":\"BoxAnnotation\"},{\"attributes\":{\"data_source\":{\"id\":\"d32bb531-4bf4-4b5f-8b78-8fa6d26eaea7\",\"type\":\"ColumnDataSource\"},\"glyph\":{\"id\":\"7e941e8d-7a2e-4b25-b261-36ab8da6bd40\",\"type\":\"Line\"},\"hover_glyph\":null,\"muted_glyph\":null,\"nonselection_glyph\":{\"id\":\"6c898c06-9f59-4c22-9fa9-6cb7780d83c9\",\"type\":\"Line\"},\"selection_glyph\":null,\"view\":{\"id\":\"71baaa2f-c14a-497a-b248-b28db9e1f357\",\"type\":\"CDSView\"}},\"id\":\"416dd775-21ca-4b24-b3fa-245e6ae534d6\",\"type\":\"GlyphRenderer\"},{\"attributes\":{\"line_alpha\":0.8,\"line_color\":\"#984ea3\",\"line_width\":1.5,\"x\":{\"field\":\"x\"},\"y\":{\"field\":\"y\"}},\"id\":\"f1e83cbd-6332-46ca-8aae-783415649a3a\",\"type\":\"Line\"},{\"attributes\":{\"data_source\":{\"id\":\"c7bfec89-a85f-4c6e-95db-74122cf449bb\",\"type\":\"ColumnDataSource\"},\"glyph\":{\"id\":\"cb493c8e-50cd-402d-ab4b-bad0114d7795\",\"type\":\"Line\"},\"hover_glyph\":null,\"muted_glyph\":null,\"nonselection_glyph\":{\"id\":\"05a58a79-1aa4-4d90-bb35-da1d19d5e65f\",\"type\":\"Line\"},\"selection_glyph\":null,\"view\":{\"id\":\"b774c76f-cd44-42a8-a52f-ee38483d1bda\",\"type\":\"CDSView\"}},\"id\":\"6a0e689e-cf79-42db-a91e-3513828242ca\",\"type\":\"GlyphRenderer\"},{\"attributes\":{\"above\":[{\"id\":\"ec7fc8bf-42e2-4bd3-807d-107681255477\",\"type\":\"Legend\"}],\"below\":[{\"id\":\"92d047a5-eecd-4fce-8a86-7297c5793218\",\"type\":\"LinearAxis\"}],\"left\":[{\"id\":\"17a39a6c-a3a8-4d39-b9a5-3c3fca3854ae\",\"type\":\"LogAxis\"}],\"plot_width\":300,\"renderers\":[{\"id\":\"92d047a5-eecd-4fce-8a86-7297c5793218\",\"type\":\"LinearAxis\"},{\"id\":\"299e835f-412c-42a7-9b6b-b71481a6ffdb\",\"type\":\"Grid\"},{\"id\":\"17a39a6c-a3a8-4d39-b9a5-3c3fca3854ae\",\"type\":\"LogAxis\"},{\"id\":\"b0f93601-a1f3-41ea-a33f-68d734ea4382\",\"type\":\"Grid\"},{\"id\":\"10e30b38-a434-4513-a11a-a7577f3019a6\",\"type\":\"BoxAnnotation\"},{\"id\":\"c2f9c815-05fd-41e5-8575-ecae199fad77\",\"type\":\"GlyphRenderer\"},{\"id\":\"080c829b-75e8-4436-85c7-4b5b1d34b2d2\",\"type\":\"GlyphRenderer\"},{\"id\":\"ec7fc8bf-42e2-4bd3-807d-107681255477\",\"type\":\"Legend\"}],\"title\":{\"id\":\"8c85ee40-ca29-499a-b50a-38bc42c2b55b\",\"type\":\"Title\"},\"toolbar\":{\"id\":\"4aa68462-10f6-400c-85e4-297d8db1e950\",\"type\":\"Toolbar\"},\"toolbar_location\":null,\"x_range\":{\"id\":\"99d0c5f6-a06d-4f9a-b94b-7003e07db3c0\",\"type\":\"Range1d\"},\"x_scale\":{\"id\":\"a0e9ae5d-0878-4ef0-8354-df5c899fa4a9\",\"type\":\"LinearScale\"},\"y_range\":{\"id\":\"fcc4fda8-a3be-4798-9bcf-e2c809b05350\",\"type\":\"Range1d\"},\"y_scale\":{\"id\":\"4bf65bef-1ab1-4e82-9b0a-198bb9ecb2e7\",\"type\":\"LogScale\"}},\"id\":\"9f914015-aa6f-4ea6-b393-8e0439eb0f15\",\"subtype\":\"Figure\",\"type\":\"Plot\"},{\"attributes\":{\"label\":{\"value\":\"CLIRAD (single-run)\"},\"renderers\":[{\"id\":\"948203d2-7beb-412d-872b-eb7502752769\",\"type\":\"GlyphRenderer\"}]},\"id\":\"0a6e843a-ddbf-4cc4-8498-efe2926c845a\",\"type\":\"LegendItem\"},{\"attributes\":{\"active_drag\":\"auto\",\"active_inspect\":\"auto\",\"active_scroll\":\"auto\",\"active_tap\":\"auto\",\"tools\":[{\"id\":\"2d619cc0-16e1-47d1-a227-d69ee33e655c\",\"type\":\"PanTool\"},{\"id\":\"2e19ef2e-1793-401c-bf82-a824d547922e\",\"type\":\"WheelZoomTool\"},{\"id\":\"a476fb7c-e812-4939-9580-fc689e47f03d\",\"type\":\"BoxZoomTool\"},{\"id\":\"e86c0e1a-95e3-42a1-834a-8c1abf2e9ee2\",\"type\":\"SaveTool\"},{\"id\":\"123e9092-afa0-446f-84d8-44c26d226244\",\"type\":\"ResetTool\"},{\"id\":\"7603a6a0-add0-4c7c-84a0-094f7b59ba72\",\"type\":\"HelpTool\"}]},\"id\":\"4aa68462-10f6-400c-85e4-297d8db1e950\",\"type\":\"Toolbar\"},{\"attributes\":{},\"id\":\"0555d571-f77a-442d-b1f9-214ac1edd8f8\",\"type\":\"HelpTool\"},{\"attributes\":{\"fill_alpha\":{\"value\":0.7},\"fill_color\":{\"value\":\"#4daf4a\"},\"line_alpha\":{\"value\":0.7},\"line_color\":{\"value\":\"#4daf4a\"},\"x\":{\"field\":\"x\"},\"y\":{\"field\":\"y\"}},\"id\":\"59160d7b-f530-4b8b-aa85-b458b85c4038\",\"type\":\"Circle\"},{\"attributes\":{\"items\":[{\"id\":\"9132627b-ba86-4ee1-b21e-b0845da03c83\",\"type\":\"LegendItem\"}],\"label_text_font_size\":{\"value\":\"8pt\"},\"location\":\"top_center\",\"orientation\":\"horizontal\",\"plot\":{\"id\":\"9f914015-aa6f-4ea6-b393-8e0439eb0f15\",\"subtype\":\"Figure\",\"type\":\"Plot\"}},\"id\":\"ec7fc8bf-42e2-4bd3-807d-107681255477\",\"type\":\"Legend\"},{\"attributes\":{\"callback\":null,\"end\":2.3923471759882906,\"start\":-0.5061118456772901},\"id\":\"90b5dba8-19d4-4141-afce-aecab1f8ae5c\",\"type\":\"Range1d\"},{\"attributes\":{\"callback\":null,\"end\":0.5596213662811859,\"start\":-1.3413269281465863},\"id\":\"99d0c5f6-a06d-4f9a-b94b-7003e07db3c0\",\"type\":\"Range1d\"},{\"attributes\":{\"children\":[{\"id\":\"ff88a68d-5ffb-4454-865f-6f7809b0cf45\",\"type\":\"Row\"}]},\"id\":\"bba63ee7-9d84-4bfd-90a2-3dfa54ad1c7e\",\"type\":\"Column\"},{\"attributes\":{},\"id\":\"d211c018-4569-483d-9cd1-9f742486f655\",\"type\":\"ResetTool\"},{\"attributes\":{\"callback\":null,\"data\":{\"x\":{\"__ndarray__\":\"R/KIaN7AVEClCeJMyPNGQOvRhpxr30JAptxzhxx4PkA7SssMElA4QK6Bp3CyUDNAsVXpjES9LkBFhUV0+5coQMHYwqbbySNA6f09nM3nH0CaSd/3eYoZQDmgiAOW8BNAPYqARh3eDEBkm4vCgvr+P9D+5tWhQfY/P8DwKRnSAkBq38kb17ILQDT7IWuSsxFAUr2Rjm0FFkAinq3s9XgbQGCHwtYcqSFAG64kT303J0C7dRDneyooQD9JYrbK8yRA9S3bneHhIUAIymSuUMMcQIkHLe6VEBdAAau3cITREkA6CiNvkQIPQJU39ki7IQlAaAvwok1UA0BXLQiS4+L7P0xzDpJ2hPI/NNuPGMbJ5z91mUVYxqfSPxqwUPSxZca/G11peifD3L8QzNj5t2jTvwzOozTL360/SPJ4VI1VzD9KJ0nXEIncP8yDdlvHt+4/Et49nYLW9z++2teD4Jn+P+568eH/bwFALf5D9lmAAkCiZAicVOkCQPPT4jNKxwJAOjp3wTzBAUBSQsKNGisBQG4OmjqJwQBAJ3sZoHFuAEA5Ar0Sdi0AQGy4rw5+9f8/7W4nSrC3/z8mPr8zj4T/P4UYRHCQS/8/embVKYcF/z+5YXG+LLP+P/qb8BVUgf4/KvafTtyO/j/avAK1Ppv+PwJV9VVm2P0/JFtYlU/n/D9sN+q2fiX6Pw44e41PNPc/Opt+Z/wN9T+x3vcSW1vzP9ofvWQJlvI/8sciQQBW8j80sfkQa17yPzg5qng2r/I/Oh14WJBh8z+VZjnpctj0P6CcrSuCqQBA\",\"dtype\":\"float64\",\"shape\":[75]},\"y\":{\"__ndarray__\":\"GhExyth1ND/Sv8nbtpRIP2vylNV0PVE/aTum7souWD/At0SJ8fVgPw3Iuahxymc/MSNhhJWvcD/bTfBN02d3P2zb5nxnaoA/CD5h5MAGhz8NmeH1TyaQP+zrCsc9p5Y/LbKd76fGnz/bLW5ISEmmPww9YvTcQq8/JV2OstnstT8Er5Y7M8G+P0c+r3jqkcU/5h99k6ZBzj88bCIzFzjVP4enV8oyxN0//yH99nXg5D8qOpLLf0jtP5kqGJXUifQ/c9cS8kHP/D+/DpwzojQEQIEmwoanVwxA4lgXt9HgE0BSSZ2AJuIbQAMJih9jjiNA5q4l5INuK0AwTKYKRj0zQNv5fmq8/DpAaCJseHrtQkB/+zpwzoxKQM3MzMzMeFJAZmZmZmZqWEAAAAAAAFxeQM3MzMzMJmJAmpmZmZkfZUBmZmZmZhhoQDMzMzMzEWtAAAAAAAAKbkBmZmZmZoFwQM3MzMzM/XFAMzMzMzN6c0CamZmZmfZ0QAAAAAAAc3ZAZmZmZmbvd0DNzMzMzGt5QDMzMzMz6HpAmpmZmZlkfEAAAAAAAOF9QGZmZmZmXX9AZmZmZuZsgECamZmZGSuBQM3MzMxM6YFAAAAAAICngkAzMzMzs2WDQGZmZmbmI4RAmpmZmRnihEDNzMzMTKCFQAAAAACAXoZAMzMzM7Mch0BmZmZm5tqHQJqZmZkZmYhAzczMzExXiUAAAAAAgBWKQDMzMzOz04pAZmZmZuaRi0CamZmZGVCMQM3MzMxMDo1AAAAAAIDMjUAzMzMzs4qOQGZmZmbmSI9A\",\"dtype\":\"float64\",\"shape\":[75]}},\"selected\":{\"id\":\"f73cefec-f9ba-42e0-a1f5-997a40d29d44\",\"type\":\"Selection\"},\"selection_policy\":{\"id\":\"a0cd1e1d-b889-4ccc-a877-2ee532fcbe95\",\"type\":\"UnionRenderers\"}},\"id\":\"20386b1f-bab2-47b6-b64e-5d17c5a50b0c\",\"type\":\"ColumnDataSource\"},{\"attributes\":{\"line_alpha\":0.1,\"line_color\":\"#1f77b4\",\"line_dash\":[6],\"line_width\":5,\"x\":{\"field\":\"x\"},\"y\":{\"field\":\"y\"}},\"id\":\"6c898c06-9f59-4c22-9fa9-6cb7780d83c9\",\"type\":\"Line\"},{\"attributes\":{\"callback\":null,\"data\":{\"x\":{\"__ndarray__\":\"R/KIaN7AVEClCeJMyPNGQOvRhpxr30JAptxzhxx4PkA7SssMElA4QK6Bp3CyUDNAsVXpjES9LkBFhUV0+5coQMHYwqbbySNA6f09nM3nH0CaSd/3eYoZQDmgiAOW8BNAPYqARh3eDEBkm4vCgvr+P9D+5tWhQfY/P8DwKRnSAkBq38kb17ILQDT7IWuSsxFAUr2Rjm0FFkAinq3s9XgbQGCHwtYcqSFAG64kT303J0C7dRDneyooQD9JYrbK8yRA9S3bneHhIUAIymSuUMMcQIkHLe6VEBdAAau3cITREkA6CiNvkQIPQJU39ki7IQlAaAvwok1UA0BXLQiS4+L7P0xzDpJ2hPI/NNuPGMbJ5z91mUVYxqfSPxqwUPSxZca/G11peifD3L8QzNj5t2jTvwzOozTL360/SPJ4VI1VzD9KJ0nXEIncP8yDdlvHt+4/Et49nYLW9z++2teD4Jn+P+568eH/bwFALf5D9lmAAkCiZAicVOkCQPPT4jNKxwJAOjp3wTzBAUBSQsKNGisBQG4OmjqJwQBAJ3sZoHFuAEA5Ar0Sdi0AQGy4rw5+9f8/7W4nSrC3/z8mPr8zj4T/P4UYRHCQS/8/embVKYcF/z+5YXG+LLP+P/qb8BVUgf4/KvafTtyO/j/avAK1Ppv+PwJV9VVm2P0/JFtYlU/n/D9sN+q2fiX6Pw44e41PNPc/Opt+Z/wN9T+x3vcSW1vzP9ofvWQJlvI/8sciQQBW8j80sfkQa17yPzg5qng2r/I/Oh14WJBh8z+VZjnpctj0P6CcrSuCqQBA\",\"dtype\":\"float64\",\"shape\":[75]},\"y\":{\"__ndarray__\":\"GhExyth1ND/Sv8nbtpRIP2vylNV0PVE/aTum7souWD/At0SJ8fVgPw3Iuahxymc/MSNhhJWvcD/bTfBN02d3P2zb5nxnaoA/CD5h5MAGhz8NmeH1TyaQP+zrCsc9p5Y/LbKd76fGnz/bLW5ISEmmPww9YvTcQq8/JV2OstnstT8Er5Y7M8G+P0c+r3jqkcU/5h99k6ZBzj88bCIzFzjVP4enV8oyxN0//yH99nXg5D8qOpLLf0jtP5kqGJXUifQ/c9cS8kHP/D+/DpwzojQEQIEmwoanVwxA4lgXt9HgE0BSSZ2AJuIbQAMJih9jjiNA5q4l5INuK0AwTKYKRj0zQNv5fmq8/DpAaCJseHrtQkB/+zpwzoxKQM3MzMzMeFJAZmZmZmZqWEAAAAAAAFxeQM3MzMzMJmJAmpmZmZkfZUBmZmZmZhhoQDMzMzMzEWtAAAAAAAAKbkBmZmZmZoFwQM3MzMzM/XFAMzMzMzN6c0CamZmZmfZ0QAAAAAAAc3ZAZmZmZmbvd0DNzMzMzGt5QDMzMzMz6HpAmpmZmZlkfEAAAAAAAOF9QGZmZmZmXX9AZmZmZuZsgECamZmZGSuBQM3MzMxM6YFAAAAAAICngkAzMzMzs2WDQGZmZmbmI4RAmpmZmRnihEDNzMzMTKCFQAAAAACAXoZAMzMzM7Mch0BmZmZm5tqHQJqZmZkZmYhAzczMzExXiUAAAAAAgBWKQDMzMzOz04pAZmZmZuaRi0CamZmZGVCMQM3MzMxMDo1AAAAAAIDMjUAzMzMzs4qOQGZmZmbmSI9A\",\"dtype\":\"float64\",\"shape\":[75]}},\"selected\":{\"id\":\"5ca8c944-956e-4f2e-b77c-74215605fd64\",\"type\":\"Selection\"},\"selection_policy\":{\"id\":\"8dfe970c-e4d5-4d59-b19e-2c12fe10607b\",\"type\":\"UnionRenderers\"}},\"id\":\"29d4b5e5-27ec-44cd-aaec-75d72ff23532\",\"type\":\"ColumnDataSource\"},{\"attributes\":{\"line_alpha\":0.1,\"line_color\":\"#1f77b4\",\"line_width\":1.5,\"x\":{\"field\":\"x\"},\"y\":{\"field\":\"y\"}},\"id\":\"05a58a79-1aa4-4d90-bb35-da1d19d5e65f\",\"type\":\"Line\"},{\"attributes\":{},\"id\":\"9f0aba40-0de0-4944-8328-3187149df994\",\"type\":\"LinearScale\"},{\"attributes\":{\"axis_label\":\"pressure [mb]\",\"formatter\":{\"id\":\"16b28819-7378-41ac-adb1-f5724560ce32\",\"type\":\"BasicTickFormatter\"},\"plot\":{\"id\":\"5e7d9bce-47e9-4cbd-b07a-4a600d10df13\",\"subtype\":\"Figure\",\"type\":\"Plot\"},\"ticker\":{\"id\":\"df5adf6b-56c2-4540-81a2-089c733be7f7\",\"type\":\"BasicTicker\"}},\"id\":\"d813298a-110b-4649-b682-e2e5ed342402\",\"type\":\"LinearAxis\"},{\"attributes\":{\"callback\":null,\"data\":{\"x\":{\"__ndarray__\":\"lAalGK/8Q8CGE5pWDoMgwKSl1BqIsQLA3tedj0Ej/D/B1EsfxC8OQNnO7ksNzw5ASFT1jd9TBED76MoyIs7mP/K34Ws9Fui/B5SoLb0p9b9BHa9TKD3xv87XqD/ppt6/njd2qq/Xtj+IsTWs3Z7dP1IiZ/m+T+E/3uUthbDQ1j8unlvPSSGyPwqYKdAPatG/ob4dgAA44b+hGTDqb0/hvy5r3sa3nNO/PTeDO117ur+OD4jURPWgv4GIasHWxcu/WtYff6dK17+vawS7/i67v0WK81haitQ/KZhcREWt1T8/X2I46pe4PzW+eboZD4o/D9WQrnR0zj/ggxshrEHUP2hEyNKEZcE/X3xvHBvvq7/PFtbGvpWavye0G7YmcqM/gBmhHJD2nL+RdOrQWOSyv57C6w9C2a6/J7MHaNP5q7/hjWIWltauv5rxI9BByq+/qdJtmlm9sb8lWa88jlKov85OPMKYgLC//kbGNGdxv78v3VhOuDy0v/UW3BRHp66/jqAqyq5Utb8wV56ocj+1v8sdzS+mlqy/NrHRaTa0n7/4DIGn8p6UvyR46M5jOpa/WroCp4Eanr9uY8OXpFKfvyXpt68D546/m49UYHpbjj9RoDbaDBimP3AkZA7scqw/7g5nRouopz8Fg7FT5sWXPwCwL9oJTQc/RLPy+5mifb8AMtXr1YlkP+Yr2AP74Zk/tOXHt+32qz9ZQz3YvTCyP5KBroWe37I/zRPAZbbxsz80mqt6IQW1P3RCh8DaH7Y/QEBcyJMjuj/gQYCMeCu+P7+r4BWTx78/\",\"dtype\":\"float64\",\"shape\":[75]},\"y\":{\"__ndarray__\":\"GhExyth1ND/Sv8nbtpRIP2vylNV0PVE/aTum7souWD/At0SJ8fVgPw3Iuahxymc/MSNhhJWvcD/bTfBN02d3P2zb5nxnaoA/CD5h5MAGhz8NmeH1TyaQP+zrCsc9p5Y/LbKd76fGnz/bLW5ISEmmPww9YvTcQq8/JV2OstnstT8Er5Y7M8G+P0c+r3jqkcU/5h99k6ZBzj88bCIzFzjVP4enV8oyxN0//yH99nXg5D8qOpLLf0jtP5kqGJXUifQ/c9cS8kHP/D+/DpwzojQEQIEmwoanVwxA4lgXt9HgE0BSSZ2AJuIbQAMJih9jjiNA5q4l5INuK0AwTKYKRj0zQNv5fmq8/DpAaCJseHrtQkB/+zpwzoxKQM3MzMzMeFJAZmZmZmZqWEAAAAAAAFxeQM3MzMzMJmJAmpmZmZkfZUBmZmZmZhhoQDMzMzMzEWtAAAAAAAAKbkBmZmZmZoFwQM3MzMzM/XFAMzMzMzN6c0CamZmZmfZ0QAAAAAAAc3ZAZmZmZmbvd0DNzMzMzGt5QDMzMzMz6HpAmpmZmZlkfEAAAAAAAOF9QGZmZmZmXX9AZmZmZuZsgECamZmZGSuBQM3MzMxM6YFAAAAAAICngkAzMzMzs2WDQGZmZmbmI4RAmpmZmRnihEDNzMzMTKCFQAAAAACAXoZAMzMzM7Mch0BmZmZm5tqHQJqZmZkZmYhAzczMzExXiUAAAAAAgBWKQDMzMzOz04pAZmZmZuaRi0CamZmZGVCMQM3MzMxMDo1AAAAAAIDMjUAzMzMzs4qOQGZmZmbmSI9A\",\"dtype\":\"float64\",\"shape\":[75]}},\"selected\":{\"id\":\"bca67e98-3eca-4b36-af12-c1db358e1916\",\"type\":\"Selection\"},\"selection_policy\":{\"id\":\"6f263780-ff61-45e7-a91c-9b2f5d1b1320\",\"type\":\"UnionRenderers\"}},\"id\":\"bed7de9f-e1c7-4479-aab6-94cd8de36dc9\",\"type\":\"ColumnDataSource\"},{\"attributes\":{\"data_source\":{\"id\":\"bed7de9f-e1c7-4479-aab6-94cd8de36dc9\",\"type\":\"ColumnDataSource\"},\"glyph\":{\"id\":\"f1e83cbd-6332-46ca-8aae-783415649a3a\",\"type\":\"Line\"},\"hover_glyph\":null,\"muted_glyph\":null,\"nonselection_glyph\":{\"id\":\"064fe64d-de6c-48da-adbc-603db075905a\",\"type\":\"Line\"},\"selection_glyph\":null,\"view\":{\"id\":\"a1ed9d38-f086-4ce8-8081-20ad91cb49a4\",\"type\":\"CDSView\"}},\"id\":\"080c829b-75e8-4436-85c7-4b5b1d34b2d2\",\"type\":\"GlyphRenderer\"},{\"attributes\":{},\"id\":\"4bf65bef-1ab1-4e82-9b0a-198bb9ecb2e7\",\"type\":\"LogScale\"},{\"attributes\":{},\"id\":\"a0e9ae5d-0878-4ef0-8354-df5c899fa4a9\",\"type\":\"LinearScale\"},{\"attributes\":{\"line_alpha\":0.1,\"line_color\":\"#1f77b4\",\"line_width\":1.5,\"x\":{\"field\":\"x\"},\"y\":{\"field\":\"y\"}},\"id\":\"064fe64d-de6c-48da-adbc-603db075905a\",\"type\":\"Line\"},{\"attributes\":{\"data_source\":{\"id\":\"20386b1f-bab2-47b6-b64e-5d17c5a50b0c\",\"type\":\"ColumnDataSource\"},\"glyph\":{\"id\":\"59160d7b-f530-4b8b-aa85-b458b85c4038\",\"type\":\"Circle\"},\"hover_glyph\":null,\"muted_glyph\":null,\"nonselection_glyph\":{\"id\":\"9a8aafa7-1ea9-470e-88f0-9e0dcdf4cd39\",\"type\":\"Circle\"},\"selection_glyph\":null,\"view\":{\"id\":\"ecf92c4b-c08a-48f5-9440-3bee3525b342\",\"type\":\"CDSView\"}},\"id\":\"65bb425c-9f0a-4c26-897c-98a462ba4837\",\"type\":\"GlyphRenderer\"},{\"attributes\":{\"axis_label\":\"cooling rate [K/day]\",\"formatter\":{\"id\":\"602b42a4-b922-468d-95f7-37f50db5a193\",\"type\":\"BasicTickFormatter\"},\"plot\":{\"id\":\"5e7d9bce-47e9-4cbd-b07a-4a600d10df13\",\"subtype\":\"Figure\",\"type\":\"Plot\"},\"ticker\":{\"id\":\"d791c962-4734-4589-8e78-33bae0e85056\",\"type\":\"BasicTicker\"}},\"id\":\"da062be3-4ee7-480b-be3a-40b50aeb6e2b\",\"type\":\"LinearAxis\"},{\"attributes\":{\"callback\":null,\"end\":0.01,\"start\":1020},\"id\":\"fcc4fda8-a3be-4798-9bcf-e2c809b05350\",\"type\":\"Range1d\"},{\"attributes\":{\"source\":{\"id\":\"d32bb531-4bf4-4b5f-8b78-8fa6d26eaea7\",\"type\":\"ColumnDataSource\"}},\"id\":\"71baaa2f-c14a-497a-b248-b28db9e1f357\",\"type\":\"CDSView\"}],\"root_ids\":[\"df4376bb-d593-4d24-aa2c-dc77bf64d26b\"]},\"title\":\"Bokeh Application\",\"version\":\"0.12.16\"}};\n",
       "  var render_items = [{\"docid\":\"c55155f4-92c7-4ba4-8dac-547de7fc51d2\",\"elementid\":\"148d6c2b-bff2-4c10-b88d-1488546f6360\",\"modelid\":\"df4376bb-d593-4d24-aa2c-dc77bf64d26b\"}];\n",
       "  root.Bokeh.embed.embed_items_notebook(docs_json, render_items);\n",
       "\n",
       "  }\n",
       "  if (root.Bokeh !== undefined) {\n",
       "    embed_document(root);\n",
       "  } else {\n",
       "    var attempts = 0;\n",
       "    var timer = setInterval(function(root) {\n",
       "      if (root.Bokeh !== undefined) {\n",
       "        embed_document(root);\n",
       "        clearInterval(timer);\n",
       "      }\n",
       "      attempts++;\n",
       "      if (attempts > 100) {\n",
       "        console.log(\"Bokeh: ERROR: Unable to run BokehJS code because BokehJS library is missing\")\n",
       "        clearInterval(timer);\n",
       "      }\n",
       "    }, 10, root)\n",
       "  }\n",
       "})(window);"
      ],
      "application/vnd.bokehjs_exec.v0+json": ""
     },
     "metadata": {
      "application/vnd.bokehjs_exec.v0+json": {
       "id": "df4376bb-d593-4d24-aa2c-dc77bf64d26b"
      }
     },
     "output_type": "display_data"
    },
    {
     "data": {
      "text/markdown": [
       "*FIGURE.* Cooling rates & difference."
      ],
      "text/plain": [
       "<IPython.core.display.Markdown object>"
      ]
     },
     "metadata": {},
     "output_type": "display_data"
    },
    {
     "data": {
      "text/html": [
       "<a id=\"Fluxes._trp.\"></a>"
      ],
      "text/plain": [
       "<IPython.core.display.HTML object>"
      ]
     },
     "metadata": {},
     "output_type": "display_data"
    },
    {
     "data": {
      "text/markdown": [
       "# Fluxes. trp."
      ],
      "text/plain": [
       "<IPython.core.display.Markdown object>"
      ]
     },
     "metadata": {},
     "output_type": "display_data"
    },
    {
     "data": {
      "text/html": [
       "\n",
       "<div class=\"bk-root\">\n",
       "    <div class=\"bk-plotdiv\" id=\"50b7254e-1296-4928-a035-0de9e055d9f0\"></div>\n",
       "</div>"
      ]
     },
     "metadata": {},
     "output_type": "display_data"
    },
    {
     "data": {
      "application/javascript": [
       "(function(root) {\n",
       "  function embed_document(root) {\n",
       "    \n",
       "  var docs_json = {\"45dee7a9-cf3a-4336-bbf0-ce4d34a6774e\":{\"roots\":{\"references\":[{\"attributes\":{\"overlay\":{\"id\":\"d6bd4039-f5c0-421c-a0eb-cc087cdb80e3\",\"type\":\"BoxAnnotation\"}},\"id\":\"2040183c-3ec4-4a0e-a6ab-518b34defdf8\",\"type\":\"BoxZoomTool\"},{\"attributes\":{},\"id\":\"0704022e-931e-4f60-8355-6086b2a4af6e\",\"type\":\"LinearScale\"},{\"attributes\":{\"callback\":null},\"id\":\"93bd2412-c586-4c8b-87af-4ac301ed9814\",\"type\":\"DataRange1d\"},{\"attributes\":{\"axis_label\":\"flux (W m-2)\",\"formatter\":{\"id\":\"2fa126a3-e2e3-4fcb-a829-079e3b5bfa92\",\"type\":\"BasicTickFormatter\"},\"plot\":{\"id\":\"c9358b20-c478-4686-b723-fd6eba17884a\",\"subtype\":\"Figure\",\"type\":\"Plot\"},\"ticker\":{\"id\":\"8ad97f63-f4ba-45ba-a7ed-251f26aa2616\",\"type\":\"BasicTicker\"}},\"id\":\"f8d2debf-84f0-4232-a4f8-e6763ab7a664\",\"type\":\"LinearAxis\"},{\"attributes\":{},\"id\":\"c5683827-112f-4dab-9b13-c44528bb41a5\",\"type\":\"CategoricalScale\"},{\"attributes\":{\"data_source\":{\"id\":\"8bd30f64-404b-4902-a0c2-c36465d7425b\",\"type\":\"ColumnDataSource\"},\"glyph\":{\"id\":\"1e7830f1-61c6-41a0-93e7-a8cbbee92363\",\"type\":\"VBar\"},\"hover_glyph\":null,\"muted_glyph\":null,\"nonselection_glyph\":{\"id\":\"a989a47f-98ec-4b14-8037-4c1c3914a528\",\"type\":\"VBar\"},\"selection_glyph\":null,\"view\":{\"id\":\"c6c00a4f-a548-4ac3-8ace-09303e52b115\",\"type\":\"CDSView\"}},\"id\":\"88d06a4e-469c-4d8a-8f2d-4576938430a8\",\"type\":\"GlyphRenderer\"},{\"attributes\":{},\"id\":\"fb7ca96f-864e-425c-bb53-54ac01d5a490\",\"type\":\"HelpTool\"},{\"attributes\":{},\"id\":\"26392a6d-cf88-4833-98d8-1efb4dfcf34f\",\"type\":\"WheelZoomTool\"},{\"attributes\":{\"overlay\":{\"id\":\"01e98d38-a236-40ec-938f-be160f06980a\",\"type\":\"BoxAnnotation\"}},\"id\":\"b7c92e52-4fc2-4956-ac5c-5348254ed250\",\"type\":\"BoxZoomTool\"},{\"attributes\":{},\"id\":\"bb24cc6f-19b4-4e94-85e8-736a84ee75d7\",\"type\":\"BasicTickFormatter\"},{\"attributes\":{\"callback\":null,\"factors\":[\"1\",\"2\",\"3\",\"4\",\"5\",\"6\",\"7\",\"8\",\"9\",\"10\",\"11\"]},\"id\":\"f04729e8-cf4a-450a-88cb-325497503d63\",\"type\":\"FactorRange\"},{\"attributes\":{\"callback\":null,\"factors\":[\"1\",\"2\",\"3\",\"4\",\"5\",\"6\",\"7\",\"8\",\"9\",\"10\",\"11\"]},\"id\":\"778398b5-1929-4b13-ac10-67e6caf3f440\",\"type\":\"FactorRange\"},{\"attributes\":{\"axis_label\":\"flux (W m-2)\",\"formatter\":{\"id\":\"070fa1e8-ec92-4f1b-bad7-2668ca69eb6e\",\"type\":\"BasicTickFormatter\"},\"plot\":{\"id\":\"92ae7ba5-317a-48e6-8d4c-b18da0237dc4\",\"subtype\":\"Figure\",\"type\":\"Plot\"},\"ticker\":{\"id\":\"1e28aa2a-c5fe-482a-ae28-b8093fd7d664\",\"type\":\"BasicTicker\"}},\"id\":\"e591bdd5-0972-472c-b96c-ac4e4c6455ea\",\"type\":\"LinearAxis\"},{\"attributes\":{},\"id\":\"cf3d2ff1-ecfb-4d22-acb0-c8d9e0c924f0\",\"type\":\"ResetTool\"},{\"attributes\":{\"overlay\":{\"id\":\"9aef4467-f5ed-4eb3-8b6c-374a99769317\",\"type\":\"BoxAnnotation\"}},\"id\":\"b5865dd8-f72e-4f4c-974a-424ba47ff79b\",\"type\":\"BoxZoomTool\"},{\"attributes\":{},\"id\":\"f43cecb9-3f58-4e6c-8c7a-ee9eef47e334\",\"type\":\"CategoricalTickFormatter\"},{\"attributes\":{\"plot\":null,\"text\":\"SFC flux. CLIRAD (single-run) - CRD.\"},\"id\":\"39e4ebd6-000d-4f8c-96a3-da7755bee6fc\",\"type\":\"Title\"},{\"attributes\":{\"fill_color\":{\"value\":\"#1f77b4\"},\"line_color\":{\"value\":\"#1f77b4\"},\"top\":{\"field\":\"flux\"},\"width\":{\"value\":0.9},\"x\":{\"field\":\"band\"}},\"id\":\"1e7830f1-61c6-41a0-93e7-a8cbbee92363\",\"type\":\"VBar\"},{\"attributes\":{\"callback\":null},\"id\":\"778bebfd-47e7-4990-a92a-a6f3271a8d2e\",\"type\":\"DataRange1d\"},{\"attributes\":{\"source\":{\"id\":\"89197c14-9fe9-4660-9304-6d5bef6204e5\",\"type\":\"ColumnDataSource\"}},\"id\":\"1a0e6314-8f92-4bff-aac2-e2265294bc54\",\"type\":\"CDSView\"},{\"attributes\":{},\"id\":\"8d888fa6-3290-45a7-a4ab-db509453308f\",\"type\":\"CategoricalScale\"},{\"attributes\":{\"children\":[{\"id\":\"15ec11bc-e8bc-4985-811f-8edf296397b6\",\"subtype\":\"Figure\",\"type\":\"Plot\"},{\"id\":\"92ae7ba5-317a-48e6-8d4c-b18da0237dc4\",\"subtype\":\"Figure\",\"type\":\"Plot\"},{\"id\":\"c9358b20-c478-4686-b723-fd6eba17884a\",\"subtype\":\"Figure\",\"type\":\"Plot\"}]},\"id\":\"9ba5b079-387a-434b-92a1-cdffe9fd9ba3\",\"type\":\"Row\"},{\"attributes\":{},\"id\":\"53c1c513-a9ea-4725-a045-b374b3233d89\",\"type\":\"PanTool\"},{\"attributes\":{},\"id\":\"1e28aa2a-c5fe-482a-ae28-b8093fd7d664\",\"type\":\"BasicTicker\"},{\"attributes\":{},\"id\":\"a82b7d54-2517-44a8-b4f7-8f1e676476e4\",\"type\":\"CategoricalTicker\"},{\"attributes\":{\"dimension\":1,\"plot\":{\"id\":\"92ae7ba5-317a-48e6-8d4c-b18da0237dc4\",\"subtype\":\"Figure\",\"type\":\"Plot\"},\"ticker\":{\"id\":\"1e28aa2a-c5fe-482a-ae28-b8093fd7d664\",\"type\":\"BasicTicker\"}},\"id\":\"ed473970-9b07-492e-9f63-4b3c512d1831\",\"type\":\"Grid\"},{\"attributes\":{},\"id\":\"34b0aa3c-23a9-43f0-ae52-e135bcf980be\",\"type\":\"CategoricalTicker\"},{\"attributes\":{},\"id\":\"192d6adc-0281-4a6d-80a0-d3a19fa51927\",\"type\":\"UnionRenderers\"},{\"attributes\":{},\"id\":\"a4ce82ad-c34a-40bc-90f7-a6255770ec5b\",\"type\":\"SaveTool\"},{\"attributes\":{},\"id\":\"34be1097-65be-417d-9233-06c55d1087bc\",\"type\":\"ResetTool\"},{\"attributes\":{\"active_drag\":\"auto\",\"active_inspect\":\"auto\",\"active_scroll\":\"auto\",\"active_tap\":\"auto\",\"tools\":[{\"id\":\"882733fe-7805-4565-b624-5f8372085fa5\",\"type\":\"PanTool\"},{\"id\":\"26392a6d-cf88-4833-98d8-1efb4dfcf34f\",\"type\":\"WheelZoomTool\"},{\"id\":\"b7c92e52-4fc2-4956-ac5c-5348254ed250\",\"type\":\"BoxZoomTool\"},{\"id\":\"001a5f4d-5418-46af-a4b1-9c9a3e729fad\",\"type\":\"SaveTool\"},{\"id\":\"cf3d2ff1-ecfb-4d22-acb0-c8d9e0c924f0\",\"type\":\"ResetTool\"},{\"id\":\"e4ac5769-6305-4393-b53c-f6f5ecc25cc6\",\"type\":\"HelpTool\"}]},\"id\":\"ae1901be-edbd-4aec-94c7-eb6cde7b71c1\",\"type\":\"Toolbar\"},{\"attributes\":{},\"id\":\"882733fe-7805-4565-b624-5f8372085fa5\",\"type\":\"PanTool\"},{\"attributes\":{\"fill_alpha\":{\"value\":0.1},\"fill_color\":{\"value\":\"#1f77b4\"},\"line_alpha\":{\"value\":0.1},\"line_color\":{\"value\":\"#1f77b4\"},\"top\":{\"field\":\"flux\"},\"width\":{\"value\":0.9},\"x\":{\"field\":\"band\"}},\"id\":\"552c04d4-14ee-4b97-ad29-21b6cbb5f694\",\"type\":\"VBar\"},{\"attributes\":{\"axis_label\":\"spectral band\",\"formatter\":{\"id\":\"960e039f-3492-4ed6-9b5d-50c9f19a8cb3\",\"type\":\"CategoricalTickFormatter\"},\"plot\":{\"id\":\"c9358b20-c478-4686-b723-fd6eba17884a\",\"subtype\":\"Figure\",\"type\":\"Plot\"},\"ticker\":{\"id\":\"a82b7d54-2517-44a8-b4f7-8f1e676476e4\",\"type\":\"CategoricalTicker\"}},\"id\":\"739cf719-da9c-40bc-a7d4-82ed0fc283cc\",\"type\":\"CategoricalAxis\"},{\"attributes\":{},\"id\":\"fe3ded8e-4731-4520-b122-5c4d74de5015\",\"type\":\"PanTool\"},{\"attributes\":{\"plot\":{\"id\":\"92ae7ba5-317a-48e6-8d4c-b18da0237dc4\",\"subtype\":\"Figure\",\"type\":\"Plot\"},\"ticker\":{\"id\":\"34b0aa3c-23a9-43f0-ae52-e135bcf980be\",\"type\":\"CategoricalTicker\"}},\"id\":\"2974fb3d-cda7-4f21-82b1-ac29b739cf47\",\"type\":\"Grid\"},{\"attributes\":{},\"id\":\"2fa6ab3c-7d96-4cb8-b5ac-b88711b03bf7\",\"type\":\"LinearScale\"},{\"attributes\":{},\"id\":\"e4ac5769-6305-4393-b53c-f6f5ecc25cc6\",\"type\":\"HelpTool\"},{\"attributes\":{\"fill_alpha\":{\"value\":0.1},\"fill_color\":{\"value\":\"#1f77b4\"},\"line_alpha\":{\"value\":0.1},\"line_color\":{\"value\":\"#1f77b4\"},\"top\":{\"field\":\"flux\"},\"width\":{\"value\":0.9},\"x\":{\"field\":\"band\"}},\"id\":\"a989a47f-98ec-4b14-8037-4c1c3914a528\",\"type\":\"VBar\"},{\"attributes\":{},\"id\":\"072108ff-fa94-451c-891a-51ffe60ea4a0\",\"type\":\"Selection\"},{\"attributes\":{},\"id\":\"001a5f4d-5418-46af-a4b1-9c9a3e729fad\",\"type\":\"SaveTool\"},{\"attributes\":{},\"id\":\"aa4a7e83-00f6-4502-b507-eaa4c89420dc\",\"type\":\"ResetTool\"},{\"attributes\":{\"fill_color\":{\"value\":\"#1f77b4\"},\"line_color\":{\"value\":\"#1f77b4\"},\"top\":{\"field\":\"flux\"},\"width\":{\"value\":0.9},\"x\":{\"field\":\"band\"}},\"id\":\"da8d6e81-ecf2-4bbd-b126-02b8827307be\",\"type\":\"VBar\"},{\"attributes\":{},\"id\":\"20a34aa4-617f-4212-b128-11e7761f3f69\",\"type\":\"SaveTool\"},{\"attributes\":{\"axis_label\":\"spectral band\",\"formatter\":{\"id\":\"557de06a-2cb8-4815-88d9-c5d75fafa7e1\",\"type\":\"CategoricalTickFormatter\"},\"plot\":{\"id\":\"92ae7ba5-317a-48e6-8d4c-b18da0237dc4\",\"subtype\":\"Figure\",\"type\":\"Plot\"},\"ticker\":{\"id\":\"34b0aa3c-23a9-43f0-ae52-e135bcf980be\",\"type\":\"CategoricalTicker\"}},\"id\":\"47eabc37-f9b2-4eb2-bb7e-114b3ed3d419\",\"type\":\"CategoricalAxis\"},{\"attributes\":{},\"id\":\"67c6f239-bf2b-467a-afc5-9269b55c1aff\",\"type\":\"WheelZoomTool\"},{\"attributes\":{},\"id\":\"0f763341-444c-4b21-bbb3-a24f840408ca\",\"type\":\"WheelZoomTool\"},{\"attributes\":{\"data_source\":{\"id\":\"89197c14-9fe9-4660-9304-6d5bef6204e5\",\"type\":\"ColumnDataSource\"},\"glyph\":{\"id\":\"6016b6c0-92fa-416f-b224-84954045aad7\",\"type\":\"VBar\"},\"hover_glyph\":null,\"muted_glyph\":null,\"nonselection_glyph\":{\"id\":\"552c04d4-14ee-4b97-ad29-21b6cbb5f694\",\"type\":\"VBar\"},\"selection_glyph\":null,\"view\":{\"id\":\"1a0e6314-8f92-4bff-aac2-e2265294bc54\",\"type\":\"CDSView\"}},\"id\":\"d04109c8-eb2c-4a56-9f85-213f5484d0cf\",\"type\":\"GlyphRenderer\"},{\"attributes\":{},\"id\":\"5e439b26-3c7e-46bf-9c2e-5e2424c9dde1\",\"type\":\"HelpTool\"},{\"attributes\":{\"plot\":{\"id\":\"c9358b20-c478-4686-b723-fd6eba17884a\",\"subtype\":\"Figure\",\"type\":\"Plot\"},\"ticker\":{\"id\":\"a82b7d54-2517-44a8-b4f7-8f1e676476e4\",\"type\":\"CategoricalTicker\"}},\"id\":\"8a8f5aa5-6f40-4b33-a589-6d6b257eefad\",\"type\":\"Grid\"},{\"attributes\":{\"source\":{\"id\":\"8bd30f64-404b-4902-a0c2-c36465d7425b\",\"type\":\"ColumnDataSource\"}},\"id\":\"c6c00a4f-a548-4ac3-8ace-09303e52b115\",\"type\":\"CDSView\"},{\"attributes\":{\"active_drag\":\"auto\",\"active_inspect\":\"auto\",\"active_scroll\":\"auto\",\"active_tap\":\"auto\",\"tools\":[{\"id\":\"fe3ded8e-4731-4520-b122-5c4d74de5015\",\"type\":\"PanTool\"},{\"id\":\"0f763341-444c-4b21-bbb3-a24f840408ca\",\"type\":\"WheelZoomTool\"},{\"id\":\"2040183c-3ec4-4a0e-a6ab-518b34defdf8\",\"type\":\"BoxZoomTool\"},{\"id\":\"20a34aa4-617f-4212-b128-11e7761f3f69\",\"type\":\"SaveTool\"},{\"id\":\"aa4a7e83-00f6-4502-b507-eaa4c89420dc\",\"type\":\"ResetTool\"},{\"id\":\"fb7ca96f-864e-425c-bb53-54ac01d5a490\",\"type\":\"HelpTool\"}]},\"id\":\"8856ca38-bfd4-4cb5-88f0-c4ee0ccba614\",\"type\":\"Toolbar\"},{\"attributes\":{\"fill_alpha\":{\"value\":0.1},\"fill_color\":{\"value\":\"#1f77b4\"},\"line_alpha\":{\"value\":0.1},\"line_color\":{\"value\":\"#1f77b4\"},\"top\":{\"field\":\"flux\"},\"width\":{\"value\":0.9},\"x\":{\"field\":\"band\"}},\"id\":\"cf6712bc-3a42-4cf5-acff-ce1573299f36\",\"type\":\"VBar\"},{\"attributes\":{\"children\":[{\"id\":\"9ba5b079-387a-434b-92a1-cdffe9fd9ba3\",\"type\":\"Row\"}]},\"id\":\"d63fb895-48b2-4388-b470-8022e76c6323\",\"type\":\"Column\"},{\"attributes\":{},\"id\":\"8ad97f63-f4ba-45ba-a7ed-251f26aa2616\",\"type\":\"BasicTicker\"},{\"attributes\":{\"bottom_units\":\"screen\",\"fill_alpha\":{\"value\":0.5},\"fill_color\":{\"value\":\"lightgrey\"},\"left_units\":\"screen\",\"level\":\"overlay\",\"line_alpha\":{\"value\":1.0},\"line_color\":{\"value\":\"black\"},\"line_dash\":[4,4],\"line_width\":{\"value\":2},\"plot\":null,\"render_mode\":\"css\",\"right_units\":\"screen\",\"top_units\":\"screen\"},\"id\":\"9aef4467-f5ed-4eb3-8b6c-374a99769317\",\"type\":\"BoxAnnotation\"},{\"attributes\":{\"dimension\":1,\"plot\":{\"id\":\"c9358b20-c478-4686-b723-fd6eba17884a\",\"subtype\":\"Figure\",\"type\":\"Plot\"},\"ticker\":{\"id\":\"8ad97f63-f4ba-45ba-a7ed-251f26aa2616\",\"type\":\"BasicTicker\"}},\"id\":\"6f42bdc6-ccd5-4568-9ee7-af437045b554\",\"type\":\"Grid\"},{\"attributes\":{\"bottom_units\":\"screen\",\"fill_alpha\":{\"value\":0.5},\"fill_color\":{\"value\":\"lightgrey\"},\"left_units\":\"screen\",\"level\":\"overlay\",\"line_alpha\":{\"value\":1.0},\"line_color\":{\"value\":\"black\"},\"line_dash\":[4,4],\"line_width\":{\"value\":2},\"plot\":null,\"render_mode\":\"css\",\"right_units\":\"screen\",\"top_units\":\"screen\"},\"id\":\"d6bd4039-f5c0-421c-a0eb-cc087cdb80e3\",\"type\":\"BoxAnnotation\"},{\"attributes\":{},\"id\":\"332e2617-b81d-447d-8783-4fdc77609c32\",\"type\":\"UnionRenderers\"},{\"attributes\":{},\"id\":\"648e7a4c-68bf-45d2-9593-66e3338aa0f4\",\"type\":\"BasicTicker\"},{\"attributes\":{\"below\":[{\"id\":\"739cf719-da9c-40bc-a7d4-82ed0fc283cc\",\"type\":\"CategoricalAxis\"}],\"left\":[{\"id\":\"f8d2debf-84f0-4232-a4f8-e6763ab7a664\",\"type\":\"LinearAxis\"}],\"plot_height\":300,\"plot_width\":300,\"renderers\":[{\"id\":\"739cf719-da9c-40bc-a7d4-82ed0fc283cc\",\"type\":\"CategoricalAxis\"},{\"id\":\"8a8f5aa5-6f40-4b33-a589-6d6b257eefad\",\"type\":\"Grid\"},{\"id\":\"f8d2debf-84f0-4232-a4f8-e6763ab7a664\",\"type\":\"LinearAxis\"},{\"id\":\"6f42bdc6-ccd5-4568-9ee7-af437045b554\",\"type\":\"Grid\"},{\"id\":\"d6bd4039-f5c0-421c-a0eb-cc087cdb80e3\",\"type\":\"BoxAnnotation\"},{\"id\":\"88d06a4e-469c-4d8a-8f2d-4576938430a8\",\"type\":\"GlyphRenderer\"}],\"title\":{\"id\":\"14b3f852-3775-4ccd-a15f-34f99a4ee098\",\"type\":\"Title\"},\"toolbar\":{\"id\":\"8856ca38-bfd4-4cb5-88f0-c4ee0ccba614\",\"type\":\"Toolbar\"},\"toolbar_location\":null,\"x_range\":{\"id\":\"778398b5-1929-4b13-ac10-67e6caf3f440\",\"type\":\"FactorRange\"},\"x_scale\":{\"id\":\"8d888fa6-3290-45a7-a4ab-db509453308f\",\"type\":\"CategoricalScale\"},\"y_range\":{\"id\":\"778bebfd-47e7-4990-a92a-a6f3271a8d2e\",\"type\":\"DataRange1d\"},\"y_scale\":{\"id\":\"2fa6ab3c-7d96-4cb8-b5ac-b88711b03bf7\",\"type\":\"LinearScale\"}},\"id\":\"c9358b20-c478-4686-b723-fd6eba17884a\",\"subtype\":\"Figure\",\"type\":\"Plot\"},{\"attributes\":{\"axis_label\":\"spectral band\",\"formatter\":{\"id\":\"f43cecb9-3f58-4e6c-8c7a-ee9eef47e334\",\"type\":\"CategoricalTickFormatter\"},\"plot\":{\"id\":\"15ec11bc-e8bc-4985-811f-8edf296397b6\",\"subtype\":\"Figure\",\"type\":\"Plot\"},\"ticker\":{\"id\":\"42c35b48-e093-47d9-891e-44f183baaedb\",\"type\":\"CategoricalTicker\"}},\"id\":\"989cc824-1659-4d9a-9091-8046a30fcf6f\",\"type\":\"CategoricalAxis\"},{\"attributes\":{\"plot\":null,\"text\":\"TOA flux. CLIRAD (single-run) - CRD.\"},\"id\":\"af39dc0b-7028-4bd4-b62f-44b21719c147\",\"type\":\"Title\"},{\"attributes\":{\"toolbar\":{\"id\":\"81a7c702-bd7c-4c15-9d41-15b0b09e799c\",\"type\":\"ProxyToolbar\"},\"toolbar_location\":\"above\"},\"id\":\"b3de5977-91af-4533-be94-8ca34c156581\",\"type\":\"ToolbarBox\"},{\"attributes\":{},\"id\":\"42c35b48-e093-47d9-891e-44f183baaedb\",\"type\":\"CategoricalTicker\"},{\"attributes\":{},\"id\":\"960e039f-3492-4ed6-9b5d-50c9f19a8cb3\",\"type\":\"CategoricalTickFormatter\"},{\"attributes\":{},\"id\":\"2fa126a3-e2e3-4fcb-a829-079e3b5bfa92\",\"type\":\"BasicTickFormatter\"},{\"attributes\":{\"plot\":{\"id\":\"15ec11bc-e8bc-4985-811f-8edf296397b6\",\"subtype\":\"Figure\",\"type\":\"Plot\"},\"ticker\":{\"id\":\"42c35b48-e093-47d9-891e-44f183baaedb\",\"type\":\"CategoricalTicker\"}},\"id\":\"525cbe05-91aa-4410-85e6-1b7d0d935ec0\",\"type\":\"Grid\"},{\"attributes\":{\"plot\":null,\"text\":\"Atmosphere heating. CLIRAD (single-run) - CRD.\"},\"id\":\"14b3f852-3775-4ccd-a15f-34f99a4ee098\",\"type\":\"Title\"},{\"attributes\":{\"children\":[{\"id\":\"b3de5977-91af-4533-be94-8ca34c156581\",\"type\":\"ToolbarBox\"},{\"id\":\"d63fb895-48b2-4388-b470-8022e76c6323\",\"type\":\"Column\"}]},\"id\":\"00130598-2adf-4769-8855-0766df597a8d\",\"type\":\"Column\"},{\"attributes\":{\"tools\":[{\"id\":\"53c1c513-a9ea-4725-a045-b374b3233d89\",\"type\":\"PanTool\"},{\"id\":\"67c6f239-bf2b-467a-afc5-9269b55c1aff\",\"type\":\"WheelZoomTool\"},{\"id\":\"b5865dd8-f72e-4f4c-974a-424ba47ff79b\",\"type\":\"BoxZoomTool\"},{\"id\":\"a4ce82ad-c34a-40bc-90f7-a6255770ec5b\",\"type\":\"SaveTool\"},{\"id\":\"34be1097-65be-417d-9233-06c55d1087bc\",\"type\":\"ResetTool\"},{\"id\":\"5e439b26-3c7e-46bf-9c2e-5e2424c9dde1\",\"type\":\"HelpTool\"},{\"id\":\"882733fe-7805-4565-b624-5f8372085fa5\",\"type\":\"PanTool\"},{\"id\":\"26392a6d-cf88-4833-98d8-1efb4dfcf34f\",\"type\":\"WheelZoomTool\"},{\"id\":\"b7c92e52-4fc2-4956-ac5c-5348254ed250\",\"type\":\"BoxZoomTool\"},{\"id\":\"001a5f4d-5418-46af-a4b1-9c9a3e729fad\",\"type\":\"SaveTool\"},{\"id\":\"cf3d2ff1-ecfb-4d22-acb0-c8d9e0c924f0\",\"type\":\"ResetTool\"},{\"id\":\"e4ac5769-6305-4393-b53c-f6f5ecc25cc6\",\"type\":\"HelpTool\"},{\"id\":\"fe3ded8e-4731-4520-b122-5c4d74de5015\",\"type\":\"PanTool\"},{\"id\":\"0f763341-444c-4b21-bbb3-a24f840408ca\",\"type\":\"WheelZoomTool\"},{\"id\":\"2040183c-3ec4-4a0e-a6ab-518b34defdf8\",\"type\":\"BoxZoomTool\"},{\"id\":\"20a34aa4-617f-4212-b128-11e7761f3f69\",\"type\":\"SaveTool\"},{\"id\":\"aa4a7e83-00f6-4502-b507-eaa4c89420dc\",\"type\":\"ResetTool\"},{\"id\":\"fb7ca96f-864e-425c-bb53-54ac01d5a490\",\"type\":\"HelpTool\"}]},\"id\":\"81a7c702-bd7c-4c15-9d41-15b0b09e799c\",\"type\":\"ProxyToolbar\"},{\"attributes\":{},\"id\":\"9dad24ba-1133-45f7-b7cf-3102973ad606\",\"type\":\"Selection\"},{\"attributes\":{},\"id\":\"a2e16eda-7b87-4cf0-a6b1-09f3380cac4c\",\"type\":\"CategoricalScale\"},{\"attributes\":{\"callback\":null,\"data\":{\"band\":[\"1\",\"2\",\"3\",\"4\",\"5\",\"6\",\"7\",\"8\",\"9\",\"10\",\"11\"],\"flux\":{\"__ndarray__\":\"AMHG9e/6yj8ARFVMpZ/UP8A1I4PcRdO/wKT4+ITs4T8A9+Y3TDTUPwDo9SfxuaO/gPm7d9SYzj8AbToCuFm8vwAu4dBbPJw/4PGprSLtwT+A9UyK6gi9Pw==\",\"dtype\":\"float64\",\"shape\":[11]}},\"selected\":{\"id\":\"072108ff-fa94-451c-891a-51ffe60ea4a0\",\"type\":\"Selection\"},\"selection_policy\":{\"id\":\"192d6adc-0281-4a6d-80a0-d3a19fa51927\",\"type\":\"UnionRenderers\"}},\"id\":\"89197c14-9fe9-4660-9304-6d5bef6204e5\",\"type\":\"ColumnDataSource\"},{\"attributes\":{},\"id\":\"ef1b6698-09bf-4c7f-a8cc-02344ee005d1\",\"type\":\"UnionRenderers\"},{\"attributes\":{\"callback\":null,\"data\":{\"band\":[\"1\",\"2\",\"3\",\"4\",\"5\",\"6\",\"7\",\"8\",\"9\",\"10\",\"11\"],\"flux\":{\"__ndarray__\":\"AADADkbs874Ak+S5vg/QPwANMzSeCMq/ABTRr62frj8A8Z2Y9WLjP6As7j8yHd0/gB2NQ/0usj8AQGTbs/iOP0Churn429E/AFDtmpDWiD8AO3arQl6wPw==\",\"dtype\":\"float64\",\"shape\":[11]}},\"selected\":{\"id\":\"9dad24ba-1133-45f7-b7cf-3102973ad606\",\"type\":\"Selection\"},\"selection_policy\":{\"id\":\"332e2617-b81d-447d-8783-4fdc77609c32\",\"type\":\"UnionRenderers\"}},\"id\":\"d57f3049-0b6d-40c8-97c4-d30b914e967a\",\"type\":\"ColumnDataSource\"},{\"attributes\":{\"callback\":null},\"id\":\"1353bed4-1773-463a-8997-bc3ac906c30d\",\"type\":\"DataRange1d\"},{\"attributes\":{\"dimension\":1,\"plot\":{\"id\":\"15ec11bc-e8bc-4985-811f-8edf296397b6\",\"subtype\":\"Figure\",\"type\":\"Plot\"},\"ticker\":{\"id\":\"648e7a4c-68bf-45d2-9593-66e3338aa0f4\",\"type\":\"BasicTicker\"}},\"id\":\"dd720676-bf86-483d-bd2c-b1365b851a5c\",\"type\":\"Grid\"},{\"attributes\":{\"fill_color\":{\"value\":\"#1f77b4\"},\"line_color\":{\"value\":\"#1f77b4\"},\"top\":{\"field\":\"flux\"},\"width\":{\"value\":0.9},\"x\":{\"field\":\"band\"}},\"id\":\"6016b6c0-92fa-416f-b224-84954045aad7\",\"type\":\"VBar\"},{\"attributes\":{\"source\":{\"id\":\"d57f3049-0b6d-40c8-97c4-d30b914e967a\",\"type\":\"ColumnDataSource\"}},\"id\":\"cdb10e1a-09d7-40cf-936c-7a6bfed92ec4\",\"type\":\"CDSView\"},{\"attributes\":{\"below\":[{\"id\":\"47eabc37-f9b2-4eb2-bb7e-114b3ed3d419\",\"type\":\"CategoricalAxis\"}],\"left\":[{\"id\":\"e591bdd5-0972-472c-b96c-ac4e4c6455ea\",\"type\":\"LinearAxis\"}],\"plot_height\":300,\"plot_width\":300,\"renderers\":[{\"id\":\"47eabc37-f9b2-4eb2-bb7e-114b3ed3d419\",\"type\":\"CategoricalAxis\"},{\"id\":\"2974fb3d-cda7-4f21-82b1-ac29b739cf47\",\"type\":\"Grid\"},{\"id\":\"e591bdd5-0972-472c-b96c-ac4e4c6455ea\",\"type\":\"LinearAxis\"},{\"id\":\"ed473970-9b07-492e-9f63-4b3c512d1831\",\"type\":\"Grid\"},{\"id\":\"01e98d38-a236-40ec-938f-be160f06980a\",\"type\":\"BoxAnnotation\"},{\"id\":\"9b4af49f-80a3-4527-8211-1f203a4556e5\",\"type\":\"GlyphRenderer\"}],\"title\":{\"id\":\"39e4ebd6-000d-4f8c-96a3-da7755bee6fc\",\"type\":\"Title\"},\"toolbar\":{\"id\":\"ae1901be-edbd-4aec-94c7-eb6cde7b71c1\",\"type\":\"Toolbar\"},\"toolbar_location\":null,\"x_range\":{\"id\":\"f04729e8-cf4a-450a-88cb-325497503d63\",\"type\":\"FactorRange\"},\"x_scale\":{\"id\":\"c5683827-112f-4dab-9b13-c44528bb41a5\",\"type\":\"CategoricalScale\"},\"y_range\":{\"id\":\"93bd2412-c586-4c8b-87af-4ac301ed9814\",\"type\":\"DataRange1d\"},\"y_scale\":{\"id\":\"0704022e-931e-4f60-8355-6086b2a4af6e\",\"type\":\"LinearScale\"}},\"id\":\"92ae7ba5-317a-48e6-8d4c-b18da0237dc4\",\"subtype\":\"Figure\",\"type\":\"Plot\"},{\"attributes\":{\"axis_label\":\"flux (W m-2)\",\"formatter\":{\"id\":\"bb24cc6f-19b4-4e94-85e8-736a84ee75d7\",\"type\":\"BasicTickFormatter\"},\"plot\":{\"id\":\"15ec11bc-e8bc-4985-811f-8edf296397b6\",\"subtype\":\"Figure\",\"type\":\"Plot\"},\"ticker\":{\"id\":\"648e7a4c-68bf-45d2-9593-66e3338aa0f4\",\"type\":\"BasicTicker\"}},\"id\":\"086bcec5-5c33-4ee0-98f9-e72d63c712ca\",\"type\":\"LinearAxis\"},{\"attributes\":{},\"id\":\"12b41bb7-a441-4e30-82f9-9cc6ac7e824b\",\"type\":\"Selection\"},{\"attributes\":{\"below\":[{\"id\":\"989cc824-1659-4d9a-9091-8046a30fcf6f\",\"type\":\"CategoricalAxis\"}],\"left\":[{\"id\":\"086bcec5-5c33-4ee0-98f9-e72d63c712ca\",\"type\":\"LinearAxis\"}],\"plot_height\":300,\"plot_width\":300,\"renderers\":[{\"id\":\"989cc824-1659-4d9a-9091-8046a30fcf6f\",\"type\":\"CategoricalAxis\"},{\"id\":\"525cbe05-91aa-4410-85e6-1b7d0d935ec0\",\"type\":\"Grid\"},{\"id\":\"086bcec5-5c33-4ee0-98f9-e72d63c712ca\",\"type\":\"LinearAxis\"},{\"id\":\"dd720676-bf86-483d-bd2c-b1365b851a5c\",\"type\":\"Grid\"},{\"id\":\"9aef4467-f5ed-4eb3-8b6c-374a99769317\",\"type\":\"BoxAnnotation\"},{\"id\":\"d04109c8-eb2c-4a56-9f85-213f5484d0cf\",\"type\":\"GlyphRenderer\"}],\"title\":{\"id\":\"af39dc0b-7028-4bd4-b62f-44b21719c147\",\"type\":\"Title\"},\"toolbar\":{\"id\":\"4a457d7d-be29-41e1-8cc5-24824a0137b9\",\"type\":\"Toolbar\"},\"toolbar_location\":null,\"x_range\":{\"id\":\"7f089fe6-ce6d-4c22-9f61-9bfca1713568\",\"type\":\"FactorRange\"},\"x_scale\":{\"id\":\"a2e16eda-7b87-4cf0-a6b1-09f3380cac4c\",\"type\":\"CategoricalScale\"},\"y_range\":{\"id\":\"1353bed4-1773-463a-8997-bc3ac906c30d\",\"type\":\"DataRange1d\"},\"y_scale\":{\"id\":\"30312126-8cb6-4c37-a3b4-d48dd6a13f07\",\"type\":\"LinearScale\"}},\"id\":\"15ec11bc-e8bc-4985-811f-8edf296397b6\",\"subtype\":\"Figure\",\"type\":\"Plot\"},{\"attributes\":{},\"id\":\"557de06a-2cb8-4815-88d9-c5d75fafa7e1\",\"type\":\"CategoricalTickFormatter\"},{\"attributes\":{\"bottom_units\":\"screen\",\"fill_alpha\":{\"value\":0.5},\"fill_color\":{\"value\":\"lightgrey\"},\"left_units\":\"screen\",\"level\":\"overlay\",\"line_alpha\":{\"value\":1.0},\"line_color\":{\"value\":\"black\"},\"line_dash\":[4,4],\"line_width\":{\"value\":2},\"plot\":null,\"render_mode\":\"css\",\"right_units\":\"screen\",\"top_units\":\"screen\"},\"id\":\"01e98d38-a236-40ec-938f-be160f06980a\",\"type\":\"BoxAnnotation\"},{\"attributes\":{\"callback\":null,\"factors\":[\"1\",\"2\",\"3\",\"4\",\"5\",\"6\",\"7\",\"8\",\"9\",\"10\",\"11\"]},\"id\":\"7f089fe6-ce6d-4c22-9f61-9bfca1713568\",\"type\":\"FactorRange\"},{\"attributes\":{\"data_source\":{\"id\":\"d57f3049-0b6d-40c8-97c4-d30b914e967a\",\"type\":\"ColumnDataSource\"},\"glyph\":{\"id\":\"da8d6e81-ecf2-4bbd-b126-02b8827307be\",\"type\":\"VBar\"},\"hover_glyph\":null,\"muted_glyph\":null,\"nonselection_glyph\":{\"id\":\"cf6712bc-3a42-4cf5-acff-ce1573299f36\",\"type\":\"VBar\"},\"selection_glyph\":null,\"view\":{\"id\":\"cdb10e1a-09d7-40cf-936c-7a6bfed92ec4\",\"type\":\"CDSView\"}},\"id\":\"9b4af49f-80a3-4527-8211-1f203a4556e5\",\"type\":\"GlyphRenderer\"},{\"attributes\":{},\"id\":\"30312126-8cb6-4c37-a3b4-d48dd6a13f07\",\"type\":\"LinearScale\"},{\"attributes\":{\"callback\":null,\"data\":{\"band\":[\"1\",\"2\",\"3\",\"4\",\"5\",\"6\",\"7\",\"8\",\"9\",\"10\",\"11\"],\"flux\":{\"__ndarray__\":\"AID6S2L7yj8AhLZzzD+yPwC8gsh9Brm/ABW46Y0C4D8gA5fHmpHSvwDp7GRwlN+/gOE/3UCBxT8Atr3dkhzAv0C4FKEiGNC/wG+hI6BfwD9Ab6jOWVWpPw==\",\"dtype\":\"float64\",\"shape\":[11]}},\"selected\":{\"id\":\"12b41bb7-a441-4e30-82f9-9cc6ac7e824b\",\"type\":\"Selection\"},\"selection_policy\":{\"id\":\"ef1b6698-09bf-4c7f-a8cc-02344ee005d1\",\"type\":\"UnionRenderers\"}},\"id\":\"8bd30f64-404b-4902-a0c2-c36465d7425b\",\"type\":\"ColumnDataSource\"},{\"attributes\":{\"active_drag\":\"auto\",\"active_inspect\":\"auto\",\"active_scroll\":\"auto\",\"active_tap\":\"auto\",\"tools\":[{\"id\":\"53c1c513-a9ea-4725-a045-b374b3233d89\",\"type\":\"PanTool\"},{\"id\":\"67c6f239-bf2b-467a-afc5-9269b55c1aff\",\"type\":\"WheelZoomTool\"},{\"id\":\"b5865dd8-f72e-4f4c-974a-424ba47ff79b\",\"type\":\"BoxZoomTool\"},{\"id\":\"a4ce82ad-c34a-40bc-90f7-a6255770ec5b\",\"type\":\"SaveTool\"},{\"id\":\"34be1097-65be-417d-9233-06c55d1087bc\",\"type\":\"ResetTool\"},{\"id\":\"5e439b26-3c7e-46bf-9c2e-5e2424c9dde1\",\"type\":\"HelpTool\"}]},\"id\":\"4a457d7d-be29-41e1-8cc5-24824a0137b9\",\"type\":\"Toolbar\"},{\"attributes\":{},\"id\":\"070fa1e8-ec92-4f1b-bad7-2668ca69eb6e\",\"type\":\"BasicTickFormatter\"}],\"root_ids\":[\"00130598-2adf-4769-8855-0766df597a8d\"]},\"title\":\"Bokeh Application\",\"version\":\"0.12.16\"}};\n",
       "  var render_items = [{\"docid\":\"45dee7a9-cf3a-4336-bbf0-ce4d34a6774e\",\"elementid\":\"50b7254e-1296-4928-a035-0de9e055d9f0\",\"modelid\":\"00130598-2adf-4769-8855-0766df597a8d\"}];\n",
       "  root.Bokeh.embed.embed_items_notebook(docs_json, render_items);\n",
       "\n",
       "  }\n",
       "  if (root.Bokeh !== undefined) {\n",
       "    embed_document(root);\n",
       "  } else {\n",
       "    var attempts = 0;\n",
       "    var timer = setInterval(function(root) {\n",
       "      if (root.Bokeh !== undefined) {\n",
       "        embed_document(root);\n",
       "        clearInterval(timer);\n",
       "      }\n",
       "      attempts++;\n",
       "      if (attempts > 100) {\n",
       "        console.log(\"Bokeh: ERROR: Unable to run BokehJS code because BokehJS library is missing\")\n",
       "        clearInterval(timer);\n",
       "      }\n",
       "    }, 10, root)\n",
       "  }\n",
       "})(window);"
      ],
      "application/vnd.bokehjs_exec.v0+json": ""
     },
     "metadata": {
      "application/vnd.bokehjs_exec.v0+json": {
       "id": "00130598-2adf-4769-8855-0766df597a8d"
      }
     },
     "output_type": "display_data"
    },
    {
     "data": {
      "text/markdown": [
       "*FIGURE.* Difference between CLIRAD and CRD in TOA, SFC and net atmosphere flux, in each spectral band."
      ],
      "text/plain": [
       "<IPython.core.display.Markdown object>"
      ]
     },
     "metadata": {},
     "output_type": "display_data"
    },
    {
     "data": {
      "text/html": [
       "<div>\n",
       "<style scoped>\n",
       "    .dataframe tbody tr th:only-of-type {\n",
       "        vertical-align: middle;\n",
       "    }\n",
       "\n",
       "    .dataframe tbody tr th {\n",
       "        vertical-align: top;\n",
       "    }\n",
       "\n",
       "    .dataframe thead th {\n",
       "        text-align: right;\n",
       "    }\n",
       "</style>\n",
       "<table border=\"1\" class=\"dataframe\">\n",
       "  <thead>\n",
       "    <tr style=\"text-align: right;\">\n",
       "      <th></th>\n",
       "      <th>OLR flux</th>\n",
       "      <th>SFC flux</th>\n",
       "      <th>ATM heating</th>\n",
       "    </tr>\n",
       "    <tr>\n",
       "      <th>Sum over bands</th>\n",
       "      <th></th>\n",
       "      <th></th>\n",
       "      <th></th>\n",
       "    </tr>\n",
       "  </thead>\n",
       "  <tbody>\n",
       "    <tr>\n",
       "      <th>CLIRAD (single-run) - CRD</th>\n",
       "      <td>1.48</td>\n",
       "      <td>1.61</td>\n",
       "      <td>-0.13</td>\n",
       "    </tr>\n",
       "    <tr>\n",
       "      <th>CRD</th>\n",
       "      <td>-303.40</td>\n",
       "      <td>337.24</td>\n",
       "      <td>-181.37</td>\n",
       "    </tr>\n",
       "  </tbody>\n",
       "</table>\n",
       "</div>"
      ],
      "text/plain": [
       "                           OLR flux  SFC flux  ATM heating\n",
       "Sum over bands                                            \n",
       "CLIRAD (single-run) - CRD      1.48      1.61        -0.13\n",
       "CRD                         -303.40    337.24      -181.37"
      ]
     },
     "metadata": {},
     "output_type": "display_data"
    },
    {
     "data": {
      "text/markdown": [
       "*TABLE.* Difference between CLIRAD and CRD in TOA, SFC and net atmosphere flux, over all spectral bands. CRD's TOA, SFC and net atmosphere flux, over all spectral bands."
      ],
      "text/plain": [
       "<IPython.core.display.Markdown object>"
      ]
     },
     "metadata": {},
     "output_type": "display_data"
    }
   ],
   "source": [
    "def show_html(s):\n",
    "    display.display(display.HTML(s))\n",
    "\n",
    "    \n",
    "def show_markdown(s):\n",
    "    display.display(display.Markdown(s))\n",
    "\n",
    "\n",
    "def script():\n",
    "    \n",
    "    d_atm = {'mls': 'mid-latitude summer',\n",
    "             'saw': 'sub-arctic winter',\n",
    "             'trp': 'tropical'}\n",
    "    \n",
    "    title = ('## Results over entire range of molecules'\n",
    "             ' and spectral bands')\n",
    "    \n",
    "    s_makeup = 'Makeup of atmosphere.'\n",
    "    s_atmpro = '# {}'\n",
    "    s_cool = 'Cooling rates. {}.'\n",
    "    s_flux = 'Fluxes. {}.'\n",
    "    \n",
    "    atmpros = ['mls', 'saw', 'trp']\n",
    "    \n",
    "    # TOC\n",
    "    show_markdown(title)\n",
    "    show_markdown('### Table of Contents')\n",
    "    show_html(climahtml.getHTML_hrefanchor(s_makeup))\n",
    "    for atmpro in atmpros:\n",
    "        show_markdown('**' + d_atm[atmpro] + '**')\n",
    "        show_html(climahtml.getHTML_hrefanchor(s_cool.format(atmpro)))\n",
    "        show_html(climahtml.getHTML_hrefanchor(s_flux.format(atmpro)))\n",
    "\n",
    "        \n",
    "    # Atmosphere makeup\n",
    "    show_html(climahtml.getHTML_idanchor(s_makeup))\n",
    "    show_markdown(climahtml.getMarkdown_sectitle(s_makeup))\n",
    "    show_makeup()\n",
    "    show_grey_makeup()\n",
    "        \n",
    "    for atmpro in atmpros:\n",
    "        show_html(climahtml.getHTML_idanchor(s_cool.format(atmpro)))\n",
    "        show_markdown(\n",
    "            climahtml.getMarkdown_sectitle(s_cool.format(atmpro)))\n",
    "        show_cool(atmpro=atmpro)\n",
    "        show_html(climahtml.getHTML_idanchor(s_flux.format(atmpro)))\n",
    "        show_markdown(\n",
    "            climahtml.getMarkdown_sectitle(s_flux.format(atmpro)))\n",
    "        show_hist_flux(atmpro=atmpro)\n",
    "        show_tb_flux(atmpro=atmpro)\n",
    "    \n",
    "    \n",
    "script()  "
   ]
  },
  {
   "cell_type": "code",
   "execution_count": null,
   "metadata": {
    "collapsed": true
   },
   "outputs": [],
   "source": []
  },
  {
   "cell_type": "code",
   "execution_count": 608,
   "metadata": {},
   "outputs": [
    {
     "data": {
      "text/html": [
       "<script>\n",
       "code_show=true; \n",
       "function code_toggle() {\n",
       " if (code_show){\n",
       " $('div.input').hide();\n",
       " } else {\n",
       " $('div.input').show();\n",
       " }\n",
       " code_show = !code_show\n",
       "} \n",
       "$( document ).ready(code_toggle);\n",
       "</script>\n",
       "<form action=\"javascript:code_toggle()\"><input type=\"submit\" value=\"Click here to toggle on/off the raw code.\"></form>"
      ],
      "text/plain": [
       "<IPython.core.display.HTML object>"
      ]
     },
     "execution_count": 608,
     "metadata": {},
     "output_type": "execute_result"
    }
   ],
   "source": [
    "display.HTML('''<script>\n",
    "code_show=true; \n",
    "function code_toggle() {\n",
    " if (code_show){\n",
    " $('div.input').hide();\n",
    " } else {\n",
    " $('div.input').show();\n",
    " }\n",
    " code_show = !code_show\n",
    "} \n",
    "$( document ).ready(code_toggle);\n",
    "</script>\n",
    "<form action=\"javascript:code_toggle()\"><input type=\"submit\" value=\"Click here to toggle on/off the raw code.\"></form>''')"
   ]
  },
  {
   "cell_type": "code",
   "execution_count": null,
   "metadata": {
    "collapsed": true
   },
   "outputs": [],
   "source": []
  }
 ],
 "metadata": {
  "kernelspec": {
   "display_name": "Python 3",
   "language": "python",
   "name": "python3"
  },
  "language_info": {
   "codemirror_mode": {
    "name": "ipython",
    "version": 3
   },
   "file_extension": ".py",
   "mimetype": "text/x-python",
   "name": "python",
   "nbconvert_exporter": "python",
   "pygments_lexer": "ipython3",
   "version": "3.6.1"
  }
 },
 "nbformat": 4,
 "nbformat_minor": 2
}
