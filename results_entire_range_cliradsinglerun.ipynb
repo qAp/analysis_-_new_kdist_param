{
 "cells": [
  {
   "cell_type": "code",
   "execution_count": 66,
   "metadata": {
    "collapsed": true
   },
   "outputs": [],
   "source": [
    "import os\n",
    "import ast\n",
    "import json\n",
    "import importlib \n",
    "import itertools\n",
    "import collections\n",
    "import pprint\n",
    "\n",
    "from bokeh.io import output_notebook, show\n",
    "from bokeh.layouts import gridplot\n",
    "from bokeh.plotting import figure\n",
    "from bokeh.models import Range1d, Legend, ColumnDataSource, FactorRange\n",
    "from bokeh.palettes import all_palettes\n",
    "from bokeh.transform import factor_cmap\n",
    "\n",
    "import matplotlib\n",
    "import matplotlib.pyplot as plt\n",
    "import numpy as np\n",
    "import pandas as pd\n",
    "import xarray as xr\n",
    "\n",
    "\n",
    "import climatools.lblnew.bestfit_params as bestfits\n",
    "from climatools.lblnew import setup_bestfit, setup_overlap\n",
    "import climatools.lblnew.pipeline as pipe_lblnew\n",
    "import climatools.cliradlw.setup as setup_cliradlw\n",
    "import climatools.cliradlw.pipeline as pipe_cliradlw\n",
    "\n",
    "import climatools.html.html as climahtml\n",
    "from climatools.lblnew.dataio import *\n",
    "from climatools.plot.plot import *\n",
    "\n",
    "\n",
    "from IPython import display\n",
    "\n",
    "#importlib.reload(bestfits)\n",
    "#importlib.reload(setup_bestfit)\n",
    "#importlib.reload(setup_overlap)\n",
    "#importlib.reload(pipe_lblnew)\n",
    "#importlib.reload(setup_cliradlw)\n",
    "#importlib.reload(pipe_cliradlw)"
   ]
  },
  {
   "cell_type": "code",
   "execution_count": 67,
   "metadata": {},
   "outputs": [
    {
     "data": {
      "text/html": [
       "\n",
       "    <div class=\"bk-root\">\n",
       "        <a href=\"https://bokeh.pydata.org\" target=\"_blank\" class=\"bk-logo bk-logo-small bk-logo-notebook\"></a>\n",
       "        <span id=\"e7c0bad5-aad6-4762-9119-9c22038b73f8\">Loading BokehJS ...</span>\n",
       "    </div>"
      ]
     },
     "metadata": {},
     "output_type": "display_data"
    },
    {
     "data": {
      "application/javascript": [
       "\n",
       "(function(root) {\n",
       "  function now() {\n",
       "    return new Date();\n",
       "  }\n",
       "\n",
       "  var force = true;\n",
       "\n",
       "  if (typeof (root._bokeh_onload_callbacks) === \"undefined\" || force === true) {\n",
       "    root._bokeh_onload_callbacks = [];\n",
       "    root._bokeh_is_loading = undefined;\n",
       "  }\n",
       "\n",
       "  var JS_MIME_TYPE = 'application/javascript';\n",
       "  var HTML_MIME_TYPE = 'text/html';\n",
       "  var EXEC_MIME_TYPE = 'application/vnd.bokehjs_exec.v0+json';\n",
       "  var CLASS_NAME = 'output_bokeh rendered_html';\n",
       "\n",
       "  /**\n",
       "   * Render data to the DOM node\n",
       "   */\n",
       "  function render(props, node) {\n",
       "    var script = document.createElement(\"script\");\n",
       "    node.appendChild(script);\n",
       "  }\n",
       "\n",
       "  /**\n",
       "   * Handle when an output is cleared or removed\n",
       "   */\n",
       "  function handleClearOutput(event, handle) {\n",
       "    var cell = handle.cell;\n",
       "\n",
       "    var id = cell.output_area._bokeh_element_id;\n",
       "    var server_id = cell.output_area._bokeh_server_id;\n",
       "    // Clean up Bokeh references\n",
       "    if (id !== undefined) {\n",
       "      Bokeh.index[id].model.document.clear();\n",
       "      delete Bokeh.index[id];\n",
       "    }\n",
       "\n",
       "    if (server_id !== undefined) {\n",
       "      // Clean up Bokeh references\n",
       "      var cmd = \"from bokeh.io.state import curstate; print(curstate().uuid_to_server['\" + server_id + \"'].get_sessions()[0].document.roots[0]._id)\";\n",
       "      cell.notebook.kernel.execute(cmd, {\n",
       "        iopub: {\n",
       "          output: function(msg) {\n",
       "            var element_id = msg.content.text.trim();\n",
       "            Bokeh.index[element_id].model.document.clear();\n",
       "            delete Bokeh.index[element_id];\n",
       "          }\n",
       "        }\n",
       "      });\n",
       "      // Destroy server and session\n",
       "      var cmd = \"import bokeh.io.notebook as ion; ion.destroy_server('\" + server_id + \"')\";\n",
       "      cell.notebook.kernel.execute(cmd);\n",
       "    }\n",
       "  }\n",
       "\n",
       "  /**\n",
       "   * Handle when a new output is added\n",
       "   */\n",
       "  function handleAddOutput(event, handle) {\n",
       "    var output_area = handle.output_area;\n",
       "    var output = handle.output;\n",
       "\n",
       "    // limit handleAddOutput to display_data with EXEC_MIME_TYPE content only\n",
       "    if ((output.output_type != \"display_data\") || (!output.data.hasOwnProperty(EXEC_MIME_TYPE))) {\n",
       "      return\n",
       "    }\n",
       "\n",
       "    var toinsert = output_area.element.find(\".\" + CLASS_NAME.split(' ')[0]);\n",
       "\n",
       "    if (output.metadata[EXEC_MIME_TYPE][\"id\"] !== undefined) {\n",
       "      toinsert[toinsert.length - 1].firstChild.textContent = output.data[JS_MIME_TYPE];\n",
       "      // store reference to embed id on output_area\n",
       "      output_area._bokeh_element_id = output.metadata[EXEC_MIME_TYPE][\"id\"];\n",
       "    }\n",
       "    if (output.metadata[EXEC_MIME_TYPE][\"server_id\"] !== undefined) {\n",
       "      var bk_div = document.createElement(\"div\");\n",
       "      bk_div.innerHTML = output.data[HTML_MIME_TYPE];\n",
       "      var script_attrs = bk_div.children[0].attributes;\n",
       "      for (var i = 0; i < script_attrs.length; i++) {\n",
       "        toinsert[toinsert.length - 1].firstChild.setAttribute(script_attrs[i].name, script_attrs[i].value);\n",
       "      }\n",
       "      // store reference to server id on output_area\n",
       "      output_area._bokeh_server_id = output.metadata[EXEC_MIME_TYPE][\"server_id\"];\n",
       "    }\n",
       "  }\n",
       "\n",
       "  function register_renderer(events, OutputArea) {\n",
       "\n",
       "    function append_mime(data, metadata, element) {\n",
       "      // create a DOM node to render to\n",
       "      var toinsert = this.create_output_subarea(\n",
       "        metadata,\n",
       "        CLASS_NAME,\n",
       "        EXEC_MIME_TYPE\n",
       "      );\n",
       "      this.keyboard_manager.register_events(toinsert);\n",
       "      // Render to node\n",
       "      var props = {data: data, metadata: metadata[EXEC_MIME_TYPE]};\n",
       "      render(props, toinsert[toinsert.length - 1]);\n",
       "      element.append(toinsert);\n",
       "      return toinsert\n",
       "    }\n",
       "\n",
       "    /* Handle when an output is cleared or removed */\n",
       "    events.on('clear_output.CodeCell', handleClearOutput);\n",
       "    events.on('delete.Cell', handleClearOutput);\n",
       "\n",
       "    /* Handle when a new output is added */\n",
       "    events.on('output_added.OutputArea', handleAddOutput);\n",
       "\n",
       "    /**\n",
       "     * Register the mime type and append_mime function with output_area\n",
       "     */\n",
       "    OutputArea.prototype.register_mime_type(EXEC_MIME_TYPE, append_mime, {\n",
       "      /* Is output safe? */\n",
       "      safe: true,\n",
       "      /* Index of renderer in `output_area.display_order` */\n",
       "      index: 0\n",
       "    });\n",
       "  }\n",
       "\n",
       "  // register the mime type if in Jupyter Notebook environment and previously unregistered\n",
       "  if (root.Jupyter !== undefined) {\n",
       "    var events = require('base/js/events');\n",
       "    var OutputArea = require('notebook/js/outputarea').OutputArea;\n",
       "\n",
       "    if (OutputArea.prototype.mime_types().indexOf(EXEC_MIME_TYPE) == -1) {\n",
       "      register_renderer(events, OutputArea);\n",
       "    }\n",
       "  }\n",
       "\n",
       "  \n",
       "  if (typeof (root._bokeh_timeout) === \"undefined\" || force === true) {\n",
       "    root._bokeh_timeout = Date.now() + 5000;\n",
       "    root._bokeh_failed_load = false;\n",
       "  }\n",
       "\n",
       "  var NB_LOAD_WARNING = {'data': {'text/html':\n",
       "     \"<div style='background-color: #fdd'>\\n\"+\n",
       "     \"<p>\\n\"+\n",
       "     \"BokehJS does not appear to have successfully loaded. If loading BokehJS from CDN, this \\n\"+\n",
       "     \"may be due to a slow or bad network connection. Possible fixes:\\n\"+\n",
       "     \"</p>\\n\"+\n",
       "     \"<ul>\\n\"+\n",
       "     \"<li>re-rerun `output_notebook()` to attempt to load from CDN again, or</li>\\n\"+\n",
       "     \"<li>use INLINE resources instead, as so:</li>\\n\"+\n",
       "     \"</ul>\\n\"+\n",
       "     \"<code>\\n\"+\n",
       "     \"from bokeh.resources import INLINE\\n\"+\n",
       "     \"output_notebook(resources=INLINE)\\n\"+\n",
       "     \"</code>\\n\"+\n",
       "     \"</div>\"}};\n",
       "\n",
       "  function display_loaded() {\n",
       "    var el = document.getElementById(\"e7c0bad5-aad6-4762-9119-9c22038b73f8\");\n",
       "    if (el != null) {\n",
       "      el.textContent = \"BokehJS is loading...\";\n",
       "    }\n",
       "    if (root.Bokeh !== undefined) {\n",
       "      if (el != null) {\n",
       "        el.textContent = \"BokehJS \" + root.Bokeh.version + \" successfully loaded.\";\n",
       "      }\n",
       "    } else if (Date.now() < root._bokeh_timeout) {\n",
       "      setTimeout(display_loaded, 100)\n",
       "    }\n",
       "  }\n",
       "\n",
       "\n",
       "  function run_callbacks() {\n",
       "    try {\n",
       "      root._bokeh_onload_callbacks.forEach(function(callback) { callback() });\n",
       "    }\n",
       "    finally {\n",
       "      delete root._bokeh_onload_callbacks\n",
       "    }\n",
       "    console.info(\"Bokeh: all callbacks have finished\");\n",
       "  }\n",
       "\n",
       "  function load_libs(js_urls, callback) {\n",
       "    root._bokeh_onload_callbacks.push(callback);\n",
       "    if (root._bokeh_is_loading > 0) {\n",
       "      console.log(\"Bokeh: BokehJS is being loaded, scheduling callback at\", now());\n",
       "      return null;\n",
       "    }\n",
       "    if (js_urls == null || js_urls.length === 0) {\n",
       "      run_callbacks();\n",
       "      return null;\n",
       "    }\n",
       "    console.log(\"Bokeh: BokehJS not loaded, scheduling load and callback at\", now());\n",
       "    root._bokeh_is_loading = js_urls.length;\n",
       "    for (var i = 0; i < js_urls.length; i++) {\n",
       "      var url = js_urls[i];\n",
       "      var s = document.createElement('script');\n",
       "      s.src = url;\n",
       "      s.async = false;\n",
       "      s.onreadystatechange = s.onload = function() {\n",
       "        root._bokeh_is_loading--;\n",
       "        if (root._bokeh_is_loading === 0) {\n",
       "          console.log(\"Bokeh: all BokehJS libraries loaded\");\n",
       "          run_callbacks()\n",
       "        }\n",
       "      };\n",
       "      s.onerror = function() {\n",
       "        console.warn(\"failed to load library \" + url);\n",
       "      };\n",
       "      console.log(\"Bokeh: injecting script tag for BokehJS library: \", url);\n",
       "      document.getElementsByTagName(\"head\")[0].appendChild(s);\n",
       "    }\n",
       "  };var element = document.getElementById(\"e7c0bad5-aad6-4762-9119-9c22038b73f8\");\n",
       "  if (element == null) {\n",
       "    console.log(\"Bokeh: ERROR: autoload.js configured with elementid 'e7c0bad5-aad6-4762-9119-9c22038b73f8' but no matching script tag was found. \")\n",
       "    return false;\n",
       "  }\n",
       "\n",
       "  var js_urls = [\"https://cdn.pydata.org/bokeh/release/bokeh-0.12.16.min.js\", \"https://cdn.pydata.org/bokeh/release/bokeh-widgets-0.12.16.min.js\", \"https://cdn.pydata.org/bokeh/release/bokeh-tables-0.12.16.min.js\", \"https://cdn.pydata.org/bokeh/release/bokeh-gl-0.12.16.min.js\"];\n",
       "\n",
       "  var inline_js = [\n",
       "    function(Bokeh) {\n",
       "      Bokeh.set_log_level(\"info\");\n",
       "    },\n",
       "    \n",
       "    function(Bokeh) {\n",
       "      \n",
       "    },\n",
       "    function(Bokeh) {\n",
       "      console.log(\"Bokeh: injecting CSS: https://cdn.pydata.org/bokeh/release/bokeh-0.12.16.min.css\");\n",
       "      Bokeh.embed.inject_css(\"https://cdn.pydata.org/bokeh/release/bokeh-0.12.16.min.css\");\n",
       "      console.log(\"Bokeh: injecting CSS: https://cdn.pydata.org/bokeh/release/bokeh-widgets-0.12.16.min.css\");\n",
       "      Bokeh.embed.inject_css(\"https://cdn.pydata.org/bokeh/release/bokeh-widgets-0.12.16.min.css\");\n",
       "      console.log(\"Bokeh: injecting CSS: https://cdn.pydata.org/bokeh/release/bokeh-tables-0.12.16.min.css\");\n",
       "      Bokeh.embed.inject_css(\"https://cdn.pydata.org/bokeh/release/bokeh-tables-0.12.16.min.css\");\n",
       "    }\n",
       "  ];\n",
       "\n",
       "  function run_inline_js() {\n",
       "    \n",
       "    if ((root.Bokeh !== undefined) || (force === true)) {\n",
       "      for (var i = 0; i < inline_js.length; i++) {\n",
       "        inline_js[i].call(root, root.Bokeh);\n",
       "      }if (force === true) {\n",
       "        display_loaded();\n",
       "      }} else if (Date.now() < root._bokeh_timeout) {\n",
       "      setTimeout(run_inline_js, 100);\n",
       "    } else if (!root._bokeh_failed_load) {\n",
       "      console.log(\"Bokeh: BokehJS failed to load within specified timeout.\");\n",
       "      root._bokeh_failed_load = true;\n",
       "    } else if (force !== true) {\n",
       "      var cell = $(document.getElementById(\"e7c0bad5-aad6-4762-9119-9c22038b73f8\")).parents('.cell').data().cell;\n",
       "      cell.output_area.append_execute_result(NB_LOAD_WARNING)\n",
       "    }\n",
       "\n",
       "  }\n",
       "\n",
       "  if (root._bokeh_is_loading === 0) {\n",
       "    console.log(\"Bokeh: BokehJS loaded, going straight to plotting\");\n",
       "    run_inline_js();\n",
       "  } else {\n",
       "    load_libs(js_urls, function() {\n",
       "      console.log(\"Bokeh: BokehJS plotting callback run at\", now());\n",
       "      run_inline_js();\n",
       "    });\n",
       "  }\n",
       "}(window));"
      ],
      "application/vnd.bokehjs_load.v0+json": "\n(function(root) {\n  function now() {\n    return new Date();\n  }\n\n  var force = true;\n\n  if (typeof (root._bokeh_onload_callbacks) === \"undefined\" || force === true) {\n    root._bokeh_onload_callbacks = [];\n    root._bokeh_is_loading = undefined;\n  }\n\n  \n\n  \n  if (typeof (root._bokeh_timeout) === \"undefined\" || force === true) {\n    root._bokeh_timeout = Date.now() + 5000;\n    root._bokeh_failed_load = false;\n  }\n\n  var NB_LOAD_WARNING = {'data': {'text/html':\n     \"<div style='background-color: #fdd'>\\n\"+\n     \"<p>\\n\"+\n     \"BokehJS does not appear to have successfully loaded. If loading BokehJS from CDN, this \\n\"+\n     \"may be due to a slow or bad network connection. Possible fixes:\\n\"+\n     \"</p>\\n\"+\n     \"<ul>\\n\"+\n     \"<li>re-rerun `output_notebook()` to attempt to load from CDN again, or</li>\\n\"+\n     \"<li>use INLINE resources instead, as so:</li>\\n\"+\n     \"</ul>\\n\"+\n     \"<code>\\n\"+\n     \"from bokeh.resources import INLINE\\n\"+\n     \"output_notebook(resources=INLINE)\\n\"+\n     \"</code>\\n\"+\n     \"</div>\"}};\n\n  function display_loaded() {\n    var el = document.getElementById(\"e7c0bad5-aad6-4762-9119-9c22038b73f8\");\n    if (el != null) {\n      el.textContent = \"BokehJS is loading...\";\n    }\n    if (root.Bokeh !== undefined) {\n      if (el != null) {\n        el.textContent = \"BokehJS \" + root.Bokeh.version + \" successfully loaded.\";\n      }\n    } else if (Date.now() < root._bokeh_timeout) {\n      setTimeout(display_loaded, 100)\n    }\n  }\n\n\n  function run_callbacks() {\n    try {\n      root._bokeh_onload_callbacks.forEach(function(callback) { callback() });\n    }\n    finally {\n      delete root._bokeh_onload_callbacks\n    }\n    console.info(\"Bokeh: all callbacks have finished\");\n  }\n\n  function load_libs(js_urls, callback) {\n    root._bokeh_onload_callbacks.push(callback);\n    if (root._bokeh_is_loading > 0) {\n      console.log(\"Bokeh: BokehJS is being loaded, scheduling callback at\", now());\n      return null;\n    }\n    if (js_urls == null || js_urls.length === 0) {\n      run_callbacks();\n      return null;\n    }\n    console.log(\"Bokeh: BokehJS not loaded, scheduling load and callback at\", now());\n    root._bokeh_is_loading = js_urls.length;\n    for (var i = 0; i < js_urls.length; i++) {\n      var url = js_urls[i];\n      var s = document.createElement('script');\n      s.src = url;\n      s.async = false;\n      s.onreadystatechange = s.onload = function() {\n        root._bokeh_is_loading--;\n        if (root._bokeh_is_loading === 0) {\n          console.log(\"Bokeh: all BokehJS libraries loaded\");\n          run_callbacks()\n        }\n      };\n      s.onerror = function() {\n        console.warn(\"failed to load library \" + url);\n      };\n      console.log(\"Bokeh: injecting script tag for BokehJS library: \", url);\n      document.getElementsByTagName(\"head\")[0].appendChild(s);\n    }\n  };var element = document.getElementById(\"e7c0bad5-aad6-4762-9119-9c22038b73f8\");\n  if (element == null) {\n    console.log(\"Bokeh: ERROR: autoload.js configured with elementid 'e7c0bad5-aad6-4762-9119-9c22038b73f8' but no matching script tag was found. \")\n    return false;\n  }\n\n  var js_urls = [\"https://cdn.pydata.org/bokeh/release/bokeh-0.12.16.min.js\", \"https://cdn.pydata.org/bokeh/release/bokeh-widgets-0.12.16.min.js\", \"https://cdn.pydata.org/bokeh/release/bokeh-tables-0.12.16.min.js\", \"https://cdn.pydata.org/bokeh/release/bokeh-gl-0.12.16.min.js\"];\n\n  var inline_js = [\n    function(Bokeh) {\n      Bokeh.set_log_level(\"info\");\n    },\n    \n    function(Bokeh) {\n      \n    },\n    function(Bokeh) {\n      console.log(\"Bokeh: injecting CSS: https://cdn.pydata.org/bokeh/release/bokeh-0.12.16.min.css\");\n      Bokeh.embed.inject_css(\"https://cdn.pydata.org/bokeh/release/bokeh-0.12.16.min.css\");\n      console.log(\"Bokeh: injecting CSS: https://cdn.pydata.org/bokeh/release/bokeh-widgets-0.12.16.min.css\");\n      Bokeh.embed.inject_css(\"https://cdn.pydata.org/bokeh/release/bokeh-widgets-0.12.16.min.css\");\n      console.log(\"Bokeh: injecting CSS: https://cdn.pydata.org/bokeh/release/bokeh-tables-0.12.16.min.css\");\n      Bokeh.embed.inject_css(\"https://cdn.pydata.org/bokeh/release/bokeh-tables-0.12.16.min.css\");\n    }\n  ];\n\n  function run_inline_js() {\n    \n    if ((root.Bokeh !== undefined) || (force === true)) {\n      for (var i = 0; i < inline_js.length; i++) {\n        inline_js[i].call(root, root.Bokeh);\n      }if (force === true) {\n        display_loaded();\n      }} else if (Date.now() < root._bokeh_timeout) {\n      setTimeout(run_inline_js, 100);\n    } else if (!root._bokeh_failed_load) {\n      console.log(\"Bokeh: BokehJS failed to load within specified timeout.\");\n      root._bokeh_failed_load = true;\n    } else if (force !== true) {\n      var cell = $(document.getElementById(\"e7c0bad5-aad6-4762-9119-9c22038b73f8\")).parents('.cell').data().cell;\n      cell.output_area.append_execute_result(NB_LOAD_WARNING)\n    }\n\n  }\n\n  if (root._bokeh_is_loading === 0) {\n    console.log(\"Bokeh: BokehJS loaded, going straight to plotting\");\n    run_inline_js();\n  } else {\n    load_libs(js_urls, function() {\n      console.log(\"Bokeh: BokehJS plotting callback run at\", now());\n      run_inline_js();\n    });\n  }\n}(window));"
     },
     "metadata": {},
     "output_type": "display_data"
    }
   ],
   "source": [
    "output_notebook()"
   ]
  },
  {
   "cell_type": "code",
   "execution_count": 68,
   "metadata": {
    "collapsed": true
   },
   "outputs": [],
   "source": [
    "'''\n",
    "Get the clirad-lw and lblnew `param`s for all spectral bands.  \n",
    "These are returned by functions `clirad_params_atm` and\n",
    "`lblnew_params_atm`, respectively.\n",
    "'''\n",
    "\n",
    "def molecules_byband_atm():\n",
    "    return {1: {'h2o': 'atmpro'},\n",
    "            2: {'h2o': 'atmpro'}, \n",
    "            3: {'co2': 0.0004, 'h2o': 'atmpro', 'n2o': 3.2e-07},\n",
    "            4: {'co2': 0.0004, 'h2o': 'atmpro'},\n",
    "            5: {'co2': 0.0004, 'h2o': 'atmpro'},\n",
    "            6: {'co2': 0.0004, 'h2o': 'atmpro'},\n",
    "            7: {'co2': 0.0004, 'h2o': 'atmpro', 'o3': 'atmpro'},\n",
    "            8: {'h2o': 'atmpro'},\n",
    "            9: {'ch4': 1.8e-06, 'h2o': 'atmpro', 'n2o': 3.2e-07},\n",
    "            10: {'h2o': 'atmpro'},\n",
    "            11: {'co2': 0.0004, 'h2o': 'atmpro'}}\n",
    "\n",
    "\n",
    "def clirad_params_atm(atmpro='mls'):\n",
    "    d = {}\n",
    "    for band, molecule in molecules_byband_atm().items():\n",
    "        for param in setup_cliradlw.test_cases():\n",
    "            if [band] == param['band'] and molecule == param['molecule']:\n",
    "                param['atmpro'] = atmpro\n",
    "                d[band] = param\n",
    "                break                \n",
    "    return d\n",
    "\n",
    "\n",
    "def clirad_params_atm_singlerun(atmpro='mls'):\n",
    "    '''\n",
    "    Returns param of clirad-lw run that is equivalent to the total\n",
    "    of all the runs listed in molecules_byband_atm().  In order\n",
    "    for the output to be compatible with clirad_data_atm(), it will\n",
    "    be a list.\n",
    "    '''\n",
    "    param0 = {'band': [1, 2, 3, 4, 5, 6, 7, 8, 9, 10, 11],\n",
    "              'commitnumber': '7860cde',\n",
    "              'molecule': {'ch4': 1.8e-06,\n",
    "                           'co2': 0.0004,\n",
    "                           'h2o': 'atmpro',\n",
    "                           'n2o': 3.2e-07,\n",
    "                           'o3': 'atmpro'}}\n",
    "    \n",
    "    d_atmpros = {'mls': 294, 'saw': 257, 'trp': 300}\n",
    "    \n",
    "    param = param0.copy()\n",
    "    param['atmpro'] = atmpro\n",
    "    param['tsfc'] = d_atmpros[atmpro]\n",
    "    \n",
    "    d = {}\n",
    "    d['all'] = param\n",
    "    return d\n",
    "\n",
    "\n",
    "def analysis_dirs_atm(atmpro='mls'):\n",
    "    params = clirad_params_atm(atmpro=atmpro)\n",
    "    return {band: pipe_cliradlw.get_analysis_dir(param=param,\n",
    "                                                 setup=setup_cliradlw) \n",
    "            for band, param in params.items()}\n",
    "\n",
    "\n",
    "def lblnew_params_atm(atmpro='mls'):\n",
    "    dirs = analysis_dirs_atm(atmpro=atmpro)\n",
    "    \n",
    "    d = {}\n",
    "    for band, dirname in dirs.items():\n",
    "        with open(os.path.join(dirname, 'param.py'), \n",
    "                  mode='r', encoding='utf-8') as f:\n",
    "            _, l = f.readlines()\n",
    "        \n",
    "        s = l.split('=')[1].strip()\n",
    "        d[band] = ast.literal_eval(s)\n",
    "        \n",
    "    return d\n"
   ]
  },
  {
   "cell_type": "code",
   "execution_count": 69,
   "metadata": {
    "collapsed": true
   },
   "outputs": [],
   "source": [
    "def show_makeup():\n",
    "    df = pd.DataFrame()\n",
    "\n",
    "    for band, molecule in molecules_byband_atm().items():\n",
    "        for name, conc in molecule.items():\n",
    "            df.loc[name, band] = str(conc)\n",
    "\n",
    "    df = df.fillna(0)\n",
    "    df.columns.name = 'clirad band'\n",
    "    df.index.name = 'molecule'\n",
    "    \n",
    "    display.display(df)\n",
    "    \n",
    "    display.display(\n",
    "        display.Markdown('*TABLE.* The makeup of the atmosphere.'))\n",
    "\n"
   ]
  },
  {
   "cell_type": "code",
   "execution_count": 70,
   "metadata": {
    "collapsed": true
   },
   "outputs": [],
   "source": [
    "def load_output_file(path_csv):\n",
    "    '''\n",
    "    Load lblnew output .csv file to xarray.Dataset\n",
    "    \n",
    "    Parameters\n",
    "    ----------\n",
    "    path_csv: str\n",
    "              Path to the .csv file to be loaded.\n",
    "    ds: xarray.Dataset\n",
    "        Data in the input file in the form of an xarray.Dataset.\n",
    "    '''\n",
    "    toindex = ['band', 'pressure', 'igg', 'g']    \n",
    "    df = pd.read_csv(path_csv, sep=r'\\s+')\n",
    "    df = df.set_index([i for i in toindex if i in df.columns])\n",
    "    df = df.rename(columns={'sfu': 'flug',\n",
    "                            'sfd': 'fldg',\n",
    "                            'fnet': 'fnetg',\n",
    "                            'coolr': 'coolrg'})\n",
    "    ds = xr.Dataset.from_dataframe(df)\n",
    "\n",
    "    for l in ('level', 'layer'):\n",
    "        if l in ds.data_vars:\n",
    "            if len(ds[l].dims) > 1:\n",
    "                surface = {d: 0 for d in ds.dims if d != 'pressure'}\n",
    "                coord_level = ds[l][surface]\n",
    "                ds.coords[l] = ('pressure', coord_level)\n",
    "            else:\n",
    "                ds.coords[l] = ('pressure', ds[l])\n",
    "    \n",
    "    return ds"
   ]
  },
  {
   "cell_type": "code",
   "execution_count": 71,
   "metadata": {
    "collapsed": true
   },
   "outputs": [],
   "source": [
    "def lblnew_setup(param=None):\n",
    "    if 'ng_refs' in param:\n",
    "        return {'setup': setup_bestfit,\n",
    "                'fname_flux_crd': 'output_flux.dat',\n",
    "                'fname_cool_crd': 'output_coolr.dat',\n",
    "                'fname_flux_wgt': 'output_wfluxg.dat',\n",
    "                'fname_cool_wgt': 'output_wcoolrg.dat'}\n",
    "    else:\n",
    "        return {'setup': setup_overlap,\n",
    "                'fname_flux_crd': 'output_flux.dat',\n",
    "                'fname_cool_crd': 'output_coolr.dat',\n",
    "                'fname_flux_wgt': 'output_wflux.dat',\n",
    "                'fname_cool_wgt': 'output_wcoolr.dat'}\n",
    "\n",
    "    \n",
    "def load_lblnew_data(param):\n",
    "    \n",
    "    fname_dsname = [('fname_flux_crd', 'ds_flux_crd'),\n",
    "                    ('fname_cool_crd', 'ds_cool_crd'),\n",
    "                    ('fname_flux_wgt', 'ds_flux_wgt'),\n",
    "                    ('fname_cool_wgt', 'ds_cool_wgt')]\n",
    "    \n",
    "    d = lblnew_setup(param)\n",
    "    dir_fortran = pipe_lblnew.get_dir_case(param, setup=d['setup'])\n",
    "    \n",
    "    data_dict = {}\n",
    "    for fname, dsname in fname_dsname:\n",
    "        fpath = os.path.join(dir_fortran, d[fname])\n",
    "        data_dict[dsname] = load_output_file(fpath)\n",
    "    return data_dict"
   ]
  },
  {
   "cell_type": "code",
   "execution_count": 72,
   "metadata": {
    "collapsed": true
   },
   "outputs": [],
   "source": [
    "def crd_data_atm(params_atm):\n",
    "    '''\n",
    "    Parameters\n",
    "    ----------\n",
    "    \n",
    "    params_atm: dict\n",
    "                Parameter dictionary for each band.\n",
    "                \n",
    "    d: dict\n",
    "       'flux': xr.Dataset. [pressure, band]\n",
    "               Fluxes.\n",
    "       'cool': xr.Dataset. [pressure, band]\n",
    "               Cooling rate.\n",
    "    \n",
    "    '''\n",
    "    \n",
    "    results_atm = {band: load_lblnew_data(param) \n",
    "                   for band, param in params_atm.items()}\n",
    "    \n",
    "    bands = [band for band, _ in params_atm.items()]\n",
    "    fluxs = [d['ds_flux_crd'] for _, d in results_atm.items()]\n",
    "    cools = [d['ds_cool_crd'] for _, d in results_atm.items()]\n",
    "    \n",
    "    d = {}\n",
    "    d['flux'] = xr.concat(fluxs, dim=bands).rename({'concat_dim': 'band'})\n",
    "    d['cool'] = xr.concat(cools, dim=bands).rename({'concat_dim': 'band'})\n",
    "    return d        \n",
    "        \n",
    "        \n",
    "\n",
    "def clirad_data_atm(params_atm):\n",
    "    \n",
    "    dirnames = [pipe_cliradlw.get_fortran_dir(param,\n",
    "                                              setup=setup_cliradlw)\n",
    "                for _, param in params_atm.items()]\n",
    "    \n",
    "    fpaths_flux = [os.path.join(n, 'output_flux.dat') for n in dirnames]\n",
    "    fpaths_cool = [os.path.join(n, 'output_coolr.dat') for n in dirnames]\n",
    "    \n",
    "    fluxs = [load_output_file(p) for p in fpaths_flux]    \n",
    "    cools = [load_output_file(p) for p in fpaths_cool]\n",
    "    \n",
    "    d = {}\n",
    "    d['flux'] = sum(fluxs)\n",
    "    d['cool'] = sum(cools)\n",
    "    return d\n",
    "\n"
   ]
  },
  {
   "cell_type": "code",
   "execution_count": 73,
   "metadata": {
    "collapsed": true
   },
   "outputs": [],
   "source": [
    "\n",
    "\n",
    "import rtmtools.clirad.sw.wrangle as cliradwrangle\n",
    "\n",
    "import importlib\n",
    "importlib.reload(cliradwrangle)\n",
    "\n",
    "def oldclirad_data_atm():\n",
    "    '''\n",
    "    Load the OLD clirad's results. mls only.\n",
    "    '''\n",
    "    fpath = os.path.join('/chia_cluster/home/jackyu/radiation',\n",
    "                         'clirad-lw',\n",
    "                         'LW',\n",
    "                         'examples',\n",
    "                         'mls75_h2o_atmpro_co2_.0004_o3_atmpro_n2o_3.2e-7_ch4_1.8e-6_H2012',\n",
    "                         'OUTPUT_CLIRAD.dat')\n",
    "    \n",
    "    ds = cliradwrangle.load_OUTPUT_CLIRAD(readfrom=fpath)\n",
    "    \n",
    "    ds_cool = xr.Dataset()\n",
    "    ds_cool.coords['pressure'] = ('pressure', ds['layer_pressure'])\n",
    "    ds_cool.coords['band'] = ('band', ds['spectral_band'])\n",
    "    ds_cool['coolrg'] = (('band', 'pressure'), - ds['heating_rate'])\n",
    "    \n",
    "    ds_flux = xr.Dataset()\n",
    "    ds_flux.coords['pressure'] = ('pressure', ds['level_pressure'])\n",
    "    ds_flux.coords['band'] = ('band', ds['spectral_band'])\n",
    "    ds_flux['flug'] = (('band', 'pressure'), ds['flux_up'])\n",
    "    ds_flux['fldg'] = (('band', 'pressure'), ds['flux_down'])\n",
    "    ds_flux['fnetg'] = (('band', 'pressure'), ds['net_flux'])\n",
    "    \n",
    "    \n",
    "    d = {}\n",
    "    d['cool'] = ds_cool\n",
    "    d['flux'] = ds_flux\n",
    "    return d\n"
   ]
  },
  {
   "cell_type": "code",
   "execution_count": 74,
   "metadata": {
    "collapsed": true
   },
   "outputs": [],
   "source": [
    "def fmt_cool(ds_in):\n",
    "    ds = ds_in.copy(deep=True)\n",
    "    if 'igg' in ds.dims:\n",
    "        ds = ds.sel(igg=1)\n",
    "\n",
    "    if 'g' in ds.dims:\n",
    "        ds = ds.sum('g')\n",
    "            \n",
    "    if 'band' in ds.dims:\n",
    "        try:\n",
    "            ds = ds.squeeze('band')\n",
    "        except ValueError:\n",
    "            ds = ds.sum('band')\n",
    "                \n",
    "    return ds['coolrg']\n",
    "\n",
    "\n",
    "\n",
    "def nice_xlims(pltdata=None, prange=None):\n",
    "    \n",
    "    def get_slice(srs):\n",
    "        return srs.sel(pressure=slice(*prange))\n",
    "    \n",
    "    srss = [d['srs'] for d in pltdata]\n",
    "    vmin = min([get_slice(srs).min() for srs in srss])\n",
    "    vmax = max([get_slice(srs).max() for srs in srss])\n",
    "    dv = (vmax - vmin) * .01\n",
    "    return float(vmin - dv), float(vmax + dv)\n",
    "\n",
    "\n",
    "    \n",
    "def plt_cool_bokeh(pltdata=None, \n",
    "                   y_axis_type='linear', prange=(50, 1050)):\n",
    "    \n",
    "    ymin = 1e-2 \n",
    "    ymax = 1020\n",
    "    \n",
    "    p2 = figure(y_axis_type=y_axis_type, plot_width=300)\n",
    "    xmin, xmax = nice_xlims(pltdata, prange=prange)\n",
    "    \n",
    "    rs = []\n",
    "    for d in pltdata:\n",
    "        rd = []\n",
    "        if 'marker' in d:\n",
    "            r_mark = getattr(p2, d['marker'])(d['srs'].values, \n",
    "                        d['srs'].coords['pressure'].values,\n",
    "                        color=d['color'], alpha=.7)\n",
    "            rd.append(r_mark)\n",
    "        r_line = p2.line(d['srs'].values, \n",
    "                         d['srs'].coords['pressure'].values,\n",
    "                         color=d['color'], alpha=d['alpha'], \n",
    "                         line_width=d['line_width'], \n",
    "                         line_dash=d['line_dash'])\n",
    "        rd.append(r_line)\n",
    "      \n",
    "        rs.append(rd)\n",
    "        \n",
    "    p2.y_range = Range1d(ymax, ymin)  \n",
    "    p2.yaxis.axis_label = 'pressure [mb]'\n",
    "    \n",
    "    p2.x_range = Range1d(xmin, xmax)\n",
    "    p2.xaxis.axis_label = 'cooling rate [K/day]'\n",
    "    \n",
    "    items = [(d['label'], r) for r, d in zip(rs, pltdata)]\n",
    "    legend = Legend(items=items, location=(10, 0))\n",
    "    legend.label_text_font_size = '8pt'\n",
    "    p2.add_layout(legend, 'above')\n",
    "    p2.legend.orientation = 'horizontal'\n",
    "    p2.legend.location = 'top_center'\n",
    "    \n",
    "    return p2"
   ]
  },
  {
   "cell_type": "code",
   "execution_count": 75,
   "metadata": {
    "collapsed": true
   },
   "outputs": [],
   "source": [
    "def pltdata_cool(atmpro='mls'):\n",
    "    \n",
    "    d_clirad_singlerun = clirad_data_atm(\n",
    "        clirad_params_atm_singlerun(atmpro=atmpro))\n",
    "    d_clirad = clirad_data_atm(clirad_params_atm(atmpro=atmpro))\n",
    "    d_crd = crd_data_atm(lblnew_params_atm(atmpro=atmpro))\n",
    "\n",
    "    ds_clirad_singlerun = d_clirad_singlerun['cool']\n",
    "    ds_clirad = d_clirad['cool']\n",
    "    ds_crd = d_crd['cool']\n",
    "\n",
    "    colors = all_palettes['Set1'][4]\n",
    "    \n",
    "    data = [\n",
    "        {'label': 'CLIRAD (single-run)',\n",
    "        'srs': fmt_cool(ds_clirad_singlerun),\n",
    "        'line_dash': 'dashed', 'line_width': 5,\n",
    "        'color': colors[1], 'alpha': .6},\n",
    "        {'label': 'CRD',\n",
    "         'srs': fmt_cool(ds_crd),\n",
    "         'line_dash': 'solid', 'line_width': 1.5,\n",
    "         'marker': 'circle', 'marker_size': 5,\n",
    "         'color': colors[2], 'alpha': 1}\n",
    "    ]\n",
    "#        {'label': 'CLIRAD',\n",
    "#         'srs': fmt_cool(ds_clirad),\n",
    "#         'line_dash': 'dashed', 'line_width': 5,\n",
    "#         'color': colors[0], 'alpha': .6}\n",
    "        \n",
    "\n",
    "    \n",
    "    # include old CLIRAD's results for mls profile\n",
    "    if atmpro == 'mls':\n",
    "        d_oldclirad = oldclirad_data_atm()\n",
    "        ds_oldclirad = d_oldclirad['cool']        \n",
    "        data.append(\n",
    "            {'label': 'old CLIRAD (H2012)',\n",
    "             'srs': fmt_cool(ds_oldclirad),\n",
    "             'line_dash': 'solid', 'line_width': 1.5,\n",
    "             'marker': 'square', 'marker_size': 3,\n",
    "             'color': colors[3], 'alpha': .5})\n",
    "    return data\n",
    "\n",
    "\n",
    "def pltdata_cooldiff(atmpro='mls'):\n",
    "    \n",
    "    d_clirad_singlerun = clirad_data_atm(\n",
    "        clirad_params_atm_singlerun(atmpro=atmpro))\n",
    "    d_clirad = clirad_data_atm(clirad_params_atm(atmpro=atmpro))\n",
    "    d_crd = crd_data_atm(lblnew_params_atm(atmpro=atmpro))\n",
    "    \n",
    "    ds_clirad_singlerun = d_clirad_singlerun['cool']\n",
    "    ds_clirad = d_clirad['cool']\n",
    "    ds_crd = d_crd['cool']\n",
    "    \n",
    "    ds_diff = ds_clirad_singlerun - ds_crd\n",
    "    \n",
    "    colors = all_palettes['Set1'][4]\n",
    "    \n",
    "    data = [\n",
    "        {'label': 'CLIRAD (single-run) - CRD',\n",
    "         'srs': fmt_cool(ds_diff),\n",
    "         'line_dash': 'solid', 'line_width': 1.5, \n",
    "         'marker': 'circle', 'marker_size': 7,\n",
    "         'color': colors[3], 'alpha': .8}\n",
    "    ]\n",
    "    \n",
    "    # include old CLIRAD's results for mls profile\n",
    "    if atmpro == 'mls':\n",
    "        d_oldclirad = oldclirad_data_atm()\n",
    "        ds_oldclirad = d_oldclirad['cool']\n",
    "        ds_oldclirad.coords['pressure'] = ds_crd.coords['pressure']\n",
    "        ds_diff_old = ds_oldclirad.sum('band') - ds_crd.sum('band')\n",
    "        data.append(\n",
    "            {'label': 'old CLIRAD (H2012) - CRD',\n",
    "             'srs': fmt_cool(ds_diff_old),\n",
    "             'line_dash': 'dashed', 'line_width': 4,\n",
    "             'color': colors[1], 'alpha': .5}\n",
    "        )\n",
    "    return data\n",
    "\n",
    "\n",
    "def show_cool(atmpro='mls'):\n",
    "    \n",
    "    data_cool = pltdata_cool(atmpro=atmpro)\n",
    "    p_cool_liny = plt_cool_bokeh(pltdata=data_cool)\n",
    "    p_cool_logy = plt_cool_bokeh(pltdata=data_cool, \n",
    "                                 y_axis_type='log',\n",
    "                                 prange=(.01, 200))\n",
    "    \n",
    "    data_cooldiff = pltdata_cooldiff(atmpro=atmpro)\n",
    "    p_cooldiff_logy = plt_cool_bokeh(pltdata=data_cooldiff,\n",
    "                                     y_axis_type='log',\n",
    "                                     prange=(.01, 200))\n",
    "    \n",
    "    everything = gridplot(p_cool_liny, p_cool_logy, \n",
    "                          p_cooldiff_logy,\n",
    "                          ncols=3)\n",
    "    show(everything)\n",
    "    display.display(\n",
    "        display.Markdown('*FIGURE.* Cooling rates & difference.'))\n",
    "\n",
    "\n",
    "    "
   ]
  },
  {
   "cell_type": "code",
   "execution_count": null,
   "metadata": {
    "collapsed": true
   },
   "outputs": [],
   "source": []
  },
  {
   "cell_type": "code",
   "execution_count": 76,
   "metadata": {
    "collapsed": true,
    "scrolled": false
   },
   "outputs": [],
   "source": [
    "\n",
    "\n",
    "def hist_band_vs_flux(da, title='Title'):\n",
    "       \n",
    "    bands = [str(b.values) for b in da['band']]\n",
    "\n",
    "    source = ColumnDataSource(\n",
    "        data={'band': bands, 'flux': da.values})\n",
    "\n",
    "    p = figure(x_range=bands, title=title)\n",
    "    p.vbar(source=source, x='band', top='flux', width=.9)\n",
    "\n",
    "    p.yaxis.axis_label = 'flux (W m-2)'\n",
    "    p.xaxis.axis_label = 'spectral band'\n",
    "    \n",
    "    return p\n",
    "\n",
    "\n",
    "def show_hist_flux(atmpro='mls'):\n",
    "    ds_crd = crd_data_atm(lblnew_params_atm(atmpro=atmpro))['flux']\n",
    "    ds_clirad = clirad_data_atm(\n",
    "        clirad_params_atm(atmpro=atmpro))['flux']\n",
    "    ds_clirad_singlerun = clirad_data_atm(\n",
    "        clirad_params_atm_singlerun(atmpro=atmpro))['flux']\n",
    "    \n",
    "    ip, varname = 0, 'flug'\n",
    "    da = (ds_clirad_singlerun - ds_crd).isel(pressure=ip)[varname]\n",
    "    p_toa = hist_band_vs_flux(da, \n",
    "        title='TOA flux. CLIRAD (single-run) - CRD.')\n",
    "\n",
    "    ip, varname = -1, 'fldg'\n",
    "    da = (ds_clirad_singlerun - ds_crd).isel(pressure=ip)[varname]\n",
    "    p_sfc = hist_band_vs_flux(da, \n",
    "        title='SFC flux. CLIRAD (single-run) - CRD.')    \n",
    "    \n",
    "    atm_crd = (ds_crd.isel(pressure=0) \n",
    "               - ds_crd.isel(pressure=-1))['fnetg']\n",
    "    atm_clirad_singlerun = (ds_clirad_singlerun.isel(pressure=0) \n",
    "                  - ds_clirad_singlerun.isel(pressure=-1))['fnetg']\n",
    "    da = atm_clirad_singlerun - atm_crd\n",
    "    p_atm = hist_band_vs_flux(da, \n",
    "        title='Atmosphere heating. CLIRAD (single-run) - CRD.')\n",
    "\n",
    "    everything = gridplot(p_toa, p_sfc, p_atm, ncols=3, \n",
    "                          plot_width=300, plot_height=300)\n",
    "    \n",
    "    show(everything)\n",
    "    display.display(\n",
    "        display.Markdown('*FIGURE.* Difference between CLIRAD and CRD'\n",
    "          ' in TOA, SFC and net atmosphere flux,'\n",
    "          ' in each spectral band.'))\n",
    "\n",
    "\n",
    "    \n",
    "def show_tb_flux(atmpro='mls'):\n",
    "    ds_crd = crd_data_atm(lblnew_params_atm(atmpro=atmpro))['flux']\n",
    "    olr_crd = ds_crd['flug'].isel(pressure=0)\n",
    "    sfc_crd = ds_crd['fldg'].isel(pressure=-1)\n",
    "    atm_crd = (ds_crd.isel(pressure=0)\n",
    "               - ds_crd.isel(pressure=-1))['fnetg']\n",
    "    \n",
    "    ds_clirad = clirad_data_atm(\n",
    "        clirad_params_atm(atmpro=atmpro))['flux']\n",
    "    olr_clirad = ds_clirad['flug'].isel(pressure=0)\n",
    "    sfc_clirad = ds_clirad['fldg'].isel(pressure=-1)\n",
    "    atm_clirad = (ds_clirad.isel(pressure=0)\n",
    "                  - ds_clirad.isel(pressure=-1))['fnetg']\n",
    "\n",
    "    ds_clirad_singlerun = clirad_data_atm(\n",
    "        clirad_params_atm_singlerun(atmpro=atmpro))['flux']\n",
    "    olr_clirad_singlerun = ds_clirad_singlerun['flug'].isel(pressure=0)\n",
    "    sfc_clirad_singlerun = ds_clirad_singlerun['fldg'].isel(pressure=-1)\n",
    "    atm_clirad_singlerun = (ds_clirad_singlerun.isel(pressure=0)\n",
    "                  - ds_clirad_singlerun.isel(pressure=-1))['fnetg']\n",
    "    \n",
    "    if atmpro == 'mls':\n",
    "        ds_oldclirad = oldclirad_data_atm()['flux']\n",
    "        ds_oldclirad['pressure'] = ds_crd['pressure']\n",
    "        olr_oldclirad = ds_oldclirad['flug'].isel(pressure=0)\n",
    "        sfc_oldclirad = ds_oldclirad['fldg'].isel(pressure=-1)\n",
    "        atm_oldclirad = (ds_oldclirad.isel(pressure=0)\n",
    "                         - ds_oldclirad.isel(pressure=-1))['fnetg']\n",
    "        \n",
    "    \n",
    "    \n",
    "    df = pd.DataFrame()\n",
    "    df.index.name = 'Sum over bands'\n",
    "    \n",
    "    if atmpro == 'mls':\n",
    "        df.loc['old CLIRAD - CRD', 'OLR flux'] = (olr_oldclirad.sum('band') - olr_crd.sum('band')).values\n",
    "        df.loc['old CLIRAD - CRD', 'SFC flux'] = (sfc_oldclirad.sum('band') - sfc_crd.sum('band')).values\n",
    "        df.loc['old CLIRAD - CRD', 'ATM heating'] = (atm_oldclirad.sum('band') - atm_crd.sum('band')).values\n",
    "    \n",
    "    df.loc['CLIRAD (single-run) - CRD', 'OLR flux'] = (olr_clirad_singlerun - olr_crd).sum('band').values\n",
    "    df.loc['CLIRAD (single-run) - CRD', 'SFC flux'] = (sfc_clirad_singlerun - sfc_crd).sum('band').values\n",
    "    df.loc['CLIRAD (single-run) - CRD', 'ATM heating'] = (atm_clirad_singlerun - atm_crd).sum('band').values\n",
    "\n",
    "    df.loc['CRD', 'OLR flux'] = olr_crd.sum('band').values\n",
    "    df.loc['CRD', 'SFC flux'] = sfc_crd.sum('band').values\n",
    "    df.loc['CRD', 'ATM heating'] = atm_crd.sum('band').values\n",
    "        \n",
    "    df = df.astype('float').round(2)\n",
    "    \n",
    "    display.display(df)\n",
    "    display.display(\n",
    "        display.Markdown('*TABLE.* Difference between CLIRAD and CRD'\n",
    "          ' in TOA, SFC and net atmosphere flux,'\n",
    "          ' over all spectral bands. CRD\\'s'\n",
    "          ' TOA, SFC and net atmosphere flux,'\n",
    "          ' over all spectral bands.'))\n"
   ]
  },
  {
   "cell_type": "code",
   "execution_count": 77,
   "metadata": {
    "scrolled": false
   },
   "outputs": [
    {
     "data": {
      "text/markdown": [
       "## Results over entire range of molecules and spectral bands"
      ],
      "text/plain": [
       "<IPython.core.display.Markdown object>"
      ]
     },
     "metadata": {},
     "output_type": "display_data"
    },
    {
     "data": {
      "text/markdown": [
       "### Table of Contents"
      ],
      "text/plain": [
       "<IPython.core.display.Markdown object>"
      ]
     },
     "metadata": {},
     "output_type": "display_data"
    },
    {
     "data": {
      "text/html": [
       "<a href=\"#Makeup_of_atmosphere.\">Makeup of atmosphere.</a>"
      ],
      "text/plain": [
       "<IPython.core.display.HTML object>"
      ]
     },
     "metadata": {},
     "output_type": "display_data"
    },
    {
     "data": {
      "text/markdown": [
       "**mid-latitude summer**"
      ],
      "text/plain": [
       "<IPython.core.display.Markdown object>"
      ]
     },
     "metadata": {},
     "output_type": "display_data"
    },
    {
     "data": {
      "text/html": [
       "<a href=\"#Cooling_rates._mls.\">Cooling rates. mls.</a>"
      ],
      "text/plain": [
       "<IPython.core.display.HTML object>"
      ]
     },
     "metadata": {},
     "output_type": "display_data"
    },
    {
     "data": {
      "text/html": [
       "<a href=\"#Fluxes._mls.\">Fluxes. mls.</a>"
      ],
      "text/plain": [
       "<IPython.core.display.HTML object>"
      ]
     },
     "metadata": {},
     "output_type": "display_data"
    },
    {
     "data": {
      "text/markdown": [
       "**sub-arctic winter**"
      ],
      "text/plain": [
       "<IPython.core.display.Markdown object>"
      ]
     },
     "metadata": {},
     "output_type": "display_data"
    },
    {
     "data": {
      "text/html": [
       "<a href=\"#Cooling_rates._saw.\">Cooling rates. saw.</a>"
      ],
      "text/plain": [
       "<IPython.core.display.HTML object>"
      ]
     },
     "metadata": {},
     "output_type": "display_data"
    },
    {
     "data": {
      "text/html": [
       "<a href=\"#Fluxes._saw.\">Fluxes. saw.</a>"
      ],
      "text/plain": [
       "<IPython.core.display.HTML object>"
      ]
     },
     "metadata": {},
     "output_type": "display_data"
    },
    {
     "data": {
      "text/markdown": [
       "**tropical**"
      ],
      "text/plain": [
       "<IPython.core.display.Markdown object>"
      ]
     },
     "metadata": {},
     "output_type": "display_data"
    },
    {
     "data": {
      "text/html": [
       "<a href=\"#Cooling_rates._trp.\">Cooling rates. trp.</a>"
      ],
      "text/plain": [
       "<IPython.core.display.HTML object>"
      ]
     },
     "metadata": {},
     "output_type": "display_data"
    },
    {
     "data": {
      "text/html": [
       "<a href=\"#Fluxes._trp.\">Fluxes. trp.</a>"
      ],
      "text/plain": [
       "<IPython.core.display.HTML object>"
      ]
     },
     "metadata": {},
     "output_type": "display_data"
    },
    {
     "data": {
      "text/html": [
       "<a id=\"Makeup_of_atmosphere.\"></a>"
      ],
      "text/plain": [
       "<IPython.core.display.HTML object>"
      ]
     },
     "metadata": {},
     "output_type": "display_data"
    },
    {
     "data": {
      "text/markdown": [
       "# Makeup of atmosphere."
      ],
      "text/plain": [
       "<IPython.core.display.Markdown object>"
      ]
     },
     "metadata": {},
     "output_type": "display_data"
    },
    {
     "data": {
      "text/html": [
       "<div>\n",
       "<style scoped>\n",
       "    .dataframe tbody tr th:only-of-type {\n",
       "        vertical-align: middle;\n",
       "    }\n",
       "\n",
       "    .dataframe tbody tr th {\n",
       "        vertical-align: top;\n",
       "    }\n",
       "\n",
       "    .dataframe thead th {\n",
       "        text-align: right;\n",
       "    }\n",
       "</style>\n",
       "<table border=\"1\" class=\"dataframe\">\n",
       "  <thead>\n",
       "    <tr style=\"text-align: right;\">\n",
       "      <th>clirad band</th>\n",
       "      <th>1</th>\n",
       "      <th>2</th>\n",
       "      <th>3</th>\n",
       "      <th>4</th>\n",
       "      <th>5</th>\n",
       "      <th>6</th>\n",
       "      <th>7</th>\n",
       "      <th>8</th>\n",
       "      <th>9</th>\n",
       "      <th>10</th>\n",
       "      <th>11</th>\n",
       "    </tr>\n",
       "    <tr>\n",
       "      <th>molecule</th>\n",
       "      <th></th>\n",
       "      <th></th>\n",
       "      <th></th>\n",
       "      <th></th>\n",
       "      <th></th>\n",
       "      <th></th>\n",
       "      <th></th>\n",
       "      <th></th>\n",
       "      <th></th>\n",
       "      <th></th>\n",
       "      <th></th>\n",
       "    </tr>\n",
       "  </thead>\n",
       "  <tbody>\n",
       "    <tr>\n",
       "      <th>h2o</th>\n",
       "      <td>atmpro</td>\n",
       "      <td>atmpro</td>\n",
       "      <td>atmpro</td>\n",
       "      <td>atmpro</td>\n",
       "      <td>atmpro</td>\n",
       "      <td>atmpro</td>\n",
       "      <td>atmpro</td>\n",
       "      <td>atmpro</td>\n",
       "      <td>atmpro</td>\n",
       "      <td>atmpro</td>\n",
       "      <td>atmpro</td>\n",
       "    </tr>\n",
       "    <tr>\n",
       "      <th>co2</th>\n",
       "      <td>0</td>\n",
       "      <td>0</td>\n",
       "      <td>0.0004</td>\n",
       "      <td>0.0004</td>\n",
       "      <td>0.0004</td>\n",
       "      <td>0.0004</td>\n",
       "      <td>0.0004</td>\n",
       "      <td>0</td>\n",
       "      <td>0</td>\n",
       "      <td>0</td>\n",
       "      <td>0.0004</td>\n",
       "    </tr>\n",
       "    <tr>\n",
       "      <th>n2o</th>\n",
       "      <td>0</td>\n",
       "      <td>0</td>\n",
       "      <td>3.2e-07</td>\n",
       "      <td>0</td>\n",
       "      <td>0</td>\n",
       "      <td>0</td>\n",
       "      <td>0</td>\n",
       "      <td>0</td>\n",
       "      <td>3.2e-07</td>\n",
       "      <td>0</td>\n",
       "      <td>0</td>\n",
       "    </tr>\n",
       "    <tr>\n",
       "      <th>o3</th>\n",
       "      <td>0</td>\n",
       "      <td>0</td>\n",
       "      <td>0</td>\n",
       "      <td>0</td>\n",
       "      <td>0</td>\n",
       "      <td>0</td>\n",
       "      <td>atmpro</td>\n",
       "      <td>0</td>\n",
       "      <td>0</td>\n",
       "      <td>0</td>\n",
       "      <td>0</td>\n",
       "    </tr>\n",
       "    <tr>\n",
       "      <th>ch4</th>\n",
       "      <td>0</td>\n",
       "      <td>0</td>\n",
       "      <td>0</td>\n",
       "      <td>0</td>\n",
       "      <td>0</td>\n",
       "      <td>0</td>\n",
       "      <td>0</td>\n",
       "      <td>0</td>\n",
       "      <td>1.8e-06</td>\n",
       "      <td>0</td>\n",
       "      <td>0</td>\n",
       "    </tr>\n",
       "  </tbody>\n",
       "</table>\n",
       "</div>"
      ],
      "text/plain": [
       "clirad band      1       2        3       4       5       6       7       8   \\\n",
       "molecule                                                                       \n",
       "h2o          atmpro  atmpro   atmpro  atmpro  atmpro  atmpro  atmpro  atmpro   \n",
       "co2               0       0   0.0004  0.0004  0.0004  0.0004  0.0004       0   \n",
       "n2o               0       0  3.2e-07       0       0       0       0       0   \n",
       "o3                0       0        0       0       0       0  atmpro       0   \n",
       "ch4               0       0        0       0       0       0       0       0   \n",
       "\n",
       "clirad band       9       10      11  \n",
       "molecule                              \n",
       "h2o           atmpro  atmpro  atmpro  \n",
       "co2                0       0  0.0004  \n",
       "n2o          3.2e-07       0       0  \n",
       "o3                 0       0       0  \n",
       "ch4          1.8e-06       0       0  "
      ]
     },
     "metadata": {},
     "output_type": "display_data"
    },
    {
     "data": {
      "text/markdown": [
       "*TABLE.* The makeup of the atmosphere."
      ],
      "text/plain": [
       "<IPython.core.display.Markdown object>"
      ]
     },
     "metadata": {},
     "output_type": "display_data"
    },
    {
     "data": {
      "text/html": [
       "<a id=\"Cooling_rates._mls.\"></a>"
      ],
      "text/plain": [
       "<IPython.core.display.HTML object>"
      ]
     },
     "metadata": {},
     "output_type": "display_data"
    },
    {
     "data": {
      "text/markdown": [
       "# Cooling rates. mls."
      ],
      "text/plain": [
       "<IPython.core.display.Markdown object>"
      ]
     },
     "metadata": {},
     "output_type": "display_data"
    },
    {
     "data": {
      "text/html": [
       "\n",
       "<div class=\"bk-root\">\n",
       "    <div class=\"bk-plotdiv\" id=\"628307e5-1296-4ae2-9122-510c2919c0d5\"></div>\n",
       "</div>"
      ]
     },
     "metadata": {},
     "output_type": "display_data"
    },
    {
     "data": {
      "application/javascript": [
       "(function(root) {\n",
       "  function embed_document(root) {\n",
       "    \n",
       "  var docs_json = {\"c52e8099-7ffd-4688-971b-478b4accb1b9\":{\"roots\":{\"references\":[{\"attributes\":{\"axis_label\":\"pressure [mb]\",\"formatter\":{\"id\":\"728e190c-8daa-46bf-ae55-1032be9942dd\",\"type\":\"LogTickFormatter\"},\"plot\":{\"id\":\"cf5d431e-591a-431e-a6cf-e40d3670b214\",\"subtype\":\"Figure\",\"type\":\"Plot\"},\"ticker\":{\"id\":\"8728084b-3bc6-4f0a-a522-ea38bac96196\",\"type\":\"LogTicker\"}},\"id\":\"3ed8d8ac-1281-42dc-a393-337e308a2f67\",\"type\":\"LogAxis\"},{\"attributes\":{},\"id\":\"7bd8b4e5-93df-4ecd-9295-5e0d83c14794\",\"type\":\"LinearScale\"},{\"attributes\":{\"data_source\":{\"id\":\"820c38d5-dff4-40ab-a937-fb8b727c9b14\",\"type\":\"ColumnDataSource\"},\"glyph\":{\"id\":\"5b59f2e5-46c4-473b-a4d3-a051536bf76d\",\"type\":\"Circle\"},\"hover_glyph\":null,\"muted_glyph\":null,\"nonselection_glyph\":{\"id\":\"06cbd85e-3e2e-47a4-b07b-9b985db52a9a\",\"type\":\"Circle\"},\"selection_glyph\":null,\"view\":{\"id\":\"7a987dd9-5109-4305-9d8a-da206d22a00c\",\"type\":\"CDSView\"}},\"id\":\"b40b9372-2f66-4d90-8fbd-cf5696e2106a\",\"type\":\"GlyphRenderer\"},{\"attributes\":{},\"id\":\"46c57b6e-7921-41ae-8538-136af2aef86d\",\"type\":\"UnionRenderers\"},{\"attributes\":{\"callback\":null,\"data\":{\"x\":{\"__ndarray__\":\"cm1sTMT3VEDEyvjosEJHQOKI6DjzCUNArgQWV9awPkB9Lm8XG3M4QEz+Qv6iYzNA7eV8HaPLLkCX1QHyTpMoQFBmYSYetiNAUB04GtGpH0AmFyVE5j8ZQJca9QPGqBNALJP+OOHHDEBNxaf7QF8AQKtislomWuw/cW2dcO6A9T/uJJvfPu0EQIaQLTI/JQ1AxGiII+PmEkCJvfVeuCsYQD6ZBhGbHB9AXQw69DTYJEAsubcwKucqQNuT9D5OmipAJyi3szEJJUBlNebh5WkgQDDcPHBr2xlArtlANXuQFEBdJadFHckQQI2Avh0ZsQtAjYiwt1rsBUCL0SDoVBgAQK6C0nEEjvc/CggLSme58T9sXU2orFPnP0v0JYz9Gdg/vT38vxYczD9nBQTe6kHHP1IhkEXJwKo/8OZnhCVAub+xtVgCpmqzP6DUpY6g0+k/PKK3T1h4+D8RTDjQc1EAQG/dAQs7TwJAQt2eHpPLAEBWEh074x//PyCap9ZSGf4/rEzaTySm/T+7aXhHRmr9P688KeqeNP0/ruZ4EemD/D8olrZcn9T7P0+vNc9hW/s/i9VVL+4P+z+0NzC24uz6P8731Kza8vo/xFf4SHzq+z+gYyHpvHb8P68ROkiFevw/BAjYdCga/D8AUp8VbW77P3JrF/nKmvo/qCQeGfq++T/dplwHJfn4P2G4p+Uva/g/OzZ0RqMZ+D8dmn/iar73P/OuA7Ka8PY/gaaeQHGn9T9hkyjAH1L0P3aZGhdAU/M/n8VP/g7P8j+90HxHNvfyPwhNBtgrqvk/\",\"dtype\":\"float64\",\"shape\":[75]},\"y\":{\"__ndarray__\":\"GhExyth1ND/Sv8nbtpRIP2vylNV0PVE/aTum7souWD/At0SJ8fVgPw3Iuahxymc/MSNhhJWvcD/bTfBN02d3P2zb5nxnaoA/CD5h5MAGhz8NmeH1TyaQP+zrCsc9p5Y/LbKd76fGnz/bLW5ISEmmPww9YvTcQq8/JV2OstnstT8Er5Y7M8G+P0c+r3jqkcU/5h99k6ZBzj88bCIzFzjVP4enV8oyxN0//yH99nXg5D8qOpLLf0jtP5kqGJXUifQ/c9cS8kHP/D+/DpwzojQEQIEmwoanVwxA4lgXt9HgE0BSSZ2AJuIbQAMJih9jjiNA5q4l5INuK0AwTKYKRj0zQNv5fmq8/DpAaCJseHrtQkB/+zpwzoxKQM3MzMzMeFJAZmZmZmZqWEAAAAAAAFxeQM3MzMzMJmJAmpmZmZkfZUBmZmZmZhhoQDMzMzMzEWtAAAAAAAAKbkBmZmZmZoFwQM3MzMzM/XFAMzMzMzN6c0CamZmZmfZ0QAAAAAAAc3ZAZmZmZmbvd0DNzMzMzGt5QDMzMzMz6HpAmpmZmZlkfEAAAAAAAOF9QGZmZmZmXX9AZmZmZuZsgECamZmZGSuBQM3MzMxM6YFAAAAAAICngkAzMzMzs2WDQGZmZmbmI4RAmpmZmRnihEDNzMzMTKCFQAAAAACAXoZAMzMzM7Mch0BmZmZm5tqHQJqZmZkZmYhAzczMzExXiUAAAAAAgBWKQDMzMzOz04pAZmZmZuaRi0CamZmZGVCMQM3MzMxMDo1AAAAAAIDMjUAzMzMzs4qOQGZmZmbmSI9A\",\"dtype\":\"float64\",\"shape\":[75]}},\"selected\":{\"id\":\"3f06ebc5-4a20-4115-899a-c20321077d5f\",\"type\":\"Selection\"},\"selection_policy\":{\"id\":\"f8be9205-7b62-424c-b671-09b76eb266da\",\"type\":\"UnionRenderers\"}},\"id\":\"820c38d5-dff4-40ab-a937-fb8b727c9b14\",\"type\":\"ColumnDataSource\"},{\"attributes\":{},\"id\":\"797f768c-bb86-4a12-b593-6b5b77c174ae\",\"type\":\"Selection\"},{\"attributes\":{},\"id\":\"481025ca-3a04-4b0c-82c6-ea94317b19d3\",\"type\":\"ResetTool\"},{\"attributes\":{\"source\":{\"id\":\"2057199b-d1c8-4332-ab62-c955269331d1\",\"type\":\"ColumnDataSource\"}},\"id\":\"5ac4a6c4-4014-4a65-8b1e-ba59fa0e5d95\",\"type\":\"CDSView\"},{\"attributes\":{\"children\":[{\"id\":\"6b91230d-3b8f-443d-86cb-341aeda6d22d\",\"type\":\"Row\"}]},\"id\":\"ac95fcb1-cb17-4529-bda8-cf05492f3d8d\",\"type\":\"Column\"},{\"attributes\":{\"data_source\":{\"id\":\"8d5ffdbb-fe67-4834-a28f-0367751c47f0\",\"type\":\"ColumnDataSource\"},\"glyph\":{\"id\":\"b496d6df-0a25-4879-a76d-3609495429a9\",\"type\":\"Line\"},\"hover_glyph\":null,\"muted_glyph\":null,\"nonselection_glyph\":{\"id\":\"2af24ec0-2355-4649-9ba2-87205de7738a\",\"type\":\"Line\"},\"selection_glyph\":null,\"view\":{\"id\":\"ed916ded-f2c1-463f-8bd7-cd09525ef0a5\",\"type\":\"CDSView\"}},\"id\":\"a0a25e4a-c5ab-4088-b7f2-0e182694cbdd\",\"type\":\"GlyphRenderer\"},{\"attributes\":{\"data_source\":{\"id\":\"83507a3c-d4f8-4f47-83e6-1674ae2ec335\",\"type\":\"ColumnDataSource\"},\"glyph\":{\"id\":\"fd83c847-4867-4257-9549-d8c35814dba3\",\"type\":\"Line\"},\"hover_glyph\":null,\"muted_glyph\":null,\"nonselection_glyph\":{\"id\":\"9b03c0b6-829a-401a-9d49-4522fbf79274\",\"type\":\"Line\"},\"selection_glyph\":null,\"view\":{\"id\":\"adae3d7f-660c-4a71-b605-5ba4b1f68e46\",\"type\":\"CDSView\"}},\"id\":\"9c3ca9d9-9014-4a0e-a54e-94561c404537\",\"type\":\"GlyphRenderer\"},{\"attributes\":{\"fill_alpha\":{\"value\":0.7},\"fill_color\":{\"value\":\"#984ea3\"},\"line_alpha\":{\"value\":0.7},\"line_color\":{\"value\":\"#984ea3\"},\"x\":{\"field\":\"x\"},\"y\":{\"field\":\"y\"}},\"id\":\"abe5cf29-e0dc-4f7f-8446-b900d31f4d93\",\"type\":\"Circle\"},{\"attributes\":{},\"id\":\"6382342f-cf10-4c16-994c-2c4a80e56fc5\",\"type\":\"BasicTicker\"},{\"attributes\":{},\"id\":\"40246910-2955-42ee-bb4a-2a6608eb7936\",\"type\":\"LogScale\"},{\"attributes\":{\"source\":{\"id\":\"83507a3c-d4f8-4f47-83e6-1674ae2ec335\",\"type\":\"ColumnDataSource\"}},\"id\":\"adae3d7f-660c-4a71-b605-5ba4b1f68e46\",\"type\":\"CDSView\"},{\"attributes\":{\"callback\":null,\"data\":{\"x\":{\"__ndarray__\":\"BPuz262hRUD1g8JaPelCQPv3GB6DuUFAhg9FhZ0aQECPbyNHiwQ8QCSvBVjNDzdAy9bjz2rKMUDQXb4lUMApQDN0Gfa/ByJA8AjV9PoiGkDvu/Wb+tQUQJNEiucRsBFAsa3lOeFADUDhK0qLUIoDQNecNFQA4PU/w6YRJ4F6+j/cyQIp9SkFQBnfiarrBwtAcdqW0EreEECn2/yDtxYWQOnQgo9N/x1AiMMZTXzXJECiemqEpdAqQMe+qpMoASpAZOTAdGBTJEDpikcZ2UogQIll6W7DZhtAe2VW3rIEFkAzgmpnkiQRQKjTvV/U0wtAcqqcYNj3B0DknV5JtLgCQA5W+W3q3fk/U1s+ID0e8T8pLRzymjHnP9ZKFUJPbts/aqtyISJGzD+VHlLEqyS/P1ZfYF91oKW/1GxCu/oByr/IoQS2hPiMv1c+mEtboec/qmtS8q9v9z/f3n8sRxAAQP8QrLPkkQFAtRAaAZkBAECF4DWAlDr+PxNqnleTGv0/cVcop6lk/D94GAULKDf8P72WjnwQVPw/mAC3f0ns+z8v+iIIYXL7PzXs/sc+CPs/Ng1AWee++j+G9FgNIor6PwvP/ew2ifo/R5p3mTOg+z+11Qym6oH8PxM5RUrhBP0/RPrJt4cE/T/3gFBJY2X8P/RN9QjXTvs/ZfiWDNwe+j93a/6AzAj5P9OJ6kfodvg//F85OJRG+D8Iz6J840H4P1Tl6OJQvvc/B+PtavWu9j9tXzMF2n31P5n0wBZekvQ/jB7OdFUa9D/ip0UTHE30P7qnJwNy9/o/\",\"dtype\":\"float64\",\"shape\":[75]},\"y\":{\"__ndarray__\":\"S/O/Q+51ND/Sv8nbtpRIP2vylNV0PVE/aTum7souWD/At0SJ8fVgPw3Iuahxymc/MSNhhJWvcD/bTfBN02d3P2zb5nxnaoA/CD5h5MAGhz8NmeH1TyaQP+zrCsc9p5Y/LbKd76fGnz/bLW5ISEmmPww9YvTcQq8/JV2OstnstT8Er5Y7M8G+P0c+r3jqkcU/5h99k6ZBzj88bCIzFzjVP4enV8oyxN0//yH99nXg5D8qOpLLf0jtP5kqGJXUifQ/c9cS8kHP/D+/DpwzojQEQIEmwoanVwxA4lgXt9HgE0BSSZ2AJuIbQAMJih9jjiNA5q4l5INuK0AwTKYKRj0zQNv5fmq8/DpAaCJseHrtQkB/+zpwzoxKQM3MzMzMeFJAZmZmZmZqWEAAAAAAAFxeQM3MzMzMJmJAmpmZmZkfZUBmZmZmZhhoQDMzMzMzEWtAAAAAAAAKbkBmZmZmZoFwQM3MzMzM/XFAMzMzMzN6c0CamZmZmfZ0QAAAAAAAc3ZAZmZmZmbvd0DNzMzMzGt5QDMzMzMz6HpAmpmZmZlkfEAAAAAAAOF9QGZmZmZmXX9AZmZmZuZsgECamZmZGSuBQM3MzMxM6YFAAAAAAICngkAzMzMzs2WDQGZmZmbmI4RAmpmZmRnihEDNzMzMTKCFQAAAAACAXoZAMzMzM7Mch0BmZmZm5tqHQJqZmZkZmYhAzczMzExXiUAAAAAAgBWKQDMzMzOz04pAZmZmZuaRi0CamZmZGVCMQM3MzMxMDo1AAAAAAIDMjUAzMzMzs4qOQGZmZmbmSI9A\",\"dtype\":\"float64\",\"shape\":[75]}},\"selected\":{\"id\":\"ca488c67-5d3f-4e14-8760-c01324ffc89f\",\"type\":\"Selection\"},\"selection_policy\":{\"id\":\"2a2dccda-ef97-4d70-b26f-70c3c04f510e\",\"type\":\"UnionRenderers\"}},\"id\":\"77084456-d4bf-4224-95af-7949d6989f7e\",\"type\":\"ColumnDataSource\"},{\"attributes\":{\"fill_alpha\":{\"value\":0.1},\"fill_color\":{\"value\":\"#1f77b4\"},\"line_alpha\":{\"value\":0.1},\"line_color\":{\"value\":\"#1f77b4\"},\"x\":{\"field\":\"x\"},\"y\":{\"field\":\"y\"}},\"id\":\"06cbd85e-3e2e-47a4-b07b-9b985db52a9a\",\"type\":\"Circle\"},{\"attributes\":{\"source\":{\"id\":\"8d5ffdbb-fe67-4834-a28f-0367751c47f0\",\"type\":\"ColumnDataSource\"}},\"id\":\"ed916ded-f2c1-463f-8bd7-cd09525ef0a5\",\"type\":\"CDSView\"},{\"attributes\":{},\"id\":\"3fc2036a-ea15-4132-9c64-15a5bd0fb1ee\",\"type\":\"HelpTool\"},{\"attributes\":{\"source\":{\"id\":\"7ec84ebb-a3ac-4ada-ac3d-372671870e6b\",\"type\":\"ColumnDataSource\"}},\"id\":\"79acfec1-0526-427d-91a3-759df60dc589\",\"type\":\"CDSView\"},{\"attributes\":{\"children\":[{\"id\":\"a1dd12f5-6b00-472c-9ace-25fceddc056d\",\"subtype\":\"Figure\",\"type\":\"Plot\"},{\"id\":\"ffc9f701-b0f0-4ffe-87d5-8235735c75b0\",\"subtype\":\"Figure\",\"type\":\"Plot\"},{\"id\":\"cf5d431e-591a-431e-a6cf-e40d3670b214\",\"subtype\":\"Figure\",\"type\":\"Plot\"}]},\"id\":\"6b91230d-3b8f-443d-86cb-341aeda6d22d\",\"type\":\"Row\"},{\"attributes\":{\"line_alpha\":0.1,\"line_color\":\"#1f77b4\",\"line_dash\":[6],\"line_width\":4,\"x\":{\"field\":\"x\"},\"y\":{\"field\":\"y\"}},\"id\":\"9b03c0b6-829a-401a-9d49-4522fbf79274\",\"type\":\"Line\"},{\"attributes\":{\"active_drag\":\"auto\",\"active_inspect\":\"auto\",\"active_scroll\":\"auto\",\"active_tap\":\"auto\",\"tools\":[{\"id\":\"63a9c106-0cd6-4c24-a92d-05cfc8a86a8e\",\"type\":\"PanTool\"},{\"id\":\"4b8e99db-0ccf-48d1-bec4-080b2d23ad9f\",\"type\":\"WheelZoomTool\"},{\"id\":\"1d8d754f-a3e0-462d-bf5c-81cd9054f986\",\"type\":\"BoxZoomTool\"},{\"id\":\"55ab03b4-18e8-4b7e-9ffe-4fe2ed145fff\",\"type\":\"SaveTool\"},{\"id\":\"578cf667-e9e4-48f0-b4c7-f7cc5155ae1e\",\"type\":\"ResetTool\"},{\"id\":\"37910f66-42c8-4a48-a514-ab02d5a65969\",\"type\":\"HelpTool\"}]},\"id\":\"caa0d173-6113-4b44-b841-931a66244655\",\"type\":\"Toolbar\"},{\"attributes\":{\"bottom_units\":\"screen\",\"fill_alpha\":{\"value\":0.5},\"fill_color\":{\"value\":\"lightgrey\"},\"left_units\":\"screen\",\"level\":\"overlay\",\"line_alpha\":{\"value\":1.0},\"line_color\":{\"value\":\"black\"},\"line_dash\":[4,4],\"line_width\":{\"value\":2},\"plot\":null,\"render_mode\":\"css\",\"right_units\":\"screen\",\"top_units\":\"screen\"},\"id\":\"ccf01192-7d37-4163-9d4f-9565974e3d1f\",\"type\":\"BoxAnnotation\"},{\"attributes\":{\"callback\":null,\"data\":{\"x\":{\"__ndarray__\":\"PBvZOM5lIcCJDvmsAQcFwOmlQTdLRvg/kAiifYGLDEDLhhXOUmENQKAeKwnKJANAgoPIOxPQ4j/SIX8E4+Xqv4FRjJVYG/a/1Gy9oK6r8b9JYK3GQYvfv12hxjkAQK4/pDQTfXxY2T8Grm2btMveP0Xl0NlK5tM/4nbSsyRbnj94ix09nOrQv5dyjJfCROC/Eg/H1wao4L8+hTwY2NTRv2C1GgnkFFe/OIw+TayEpr+SojpptSTTvz54yN4nuta/+nuqnsgMr7+ilcjqf7XYP+G8WJF6Q9c/jzXXcEjdtj/Yjan/oF2RPy8PYUftW9A/x2LuCfsC1T/4mjbhL3/CPw+XlTlFZaO/zCCYGNsIcb9QtHqvjaKqP+zWNruwBVU/athr71O+rr9WQHhSnzC4v7vyHPLPw7q/6UkZmbYJt79QsmwYKpKxv0RpU9aFirC/cEwb7ihLoL+0jbnqyqq3v2+RmbBDP7m/fDrmXNeprL+YASbh79evv5VTH4uqF7S/VBQ1x+Mxs781vlSzzRGsv5XCPDjy86K/hf7mJJWPmL+SxrDNwciUvwsVcoW1QZS/5MrQNSqwmL+1MMr172iav3RfL+ArkpK/vDDk1nlbZj9w7GRBgEuhP9ZHPl7oS60/DN8ldsberj8yULz7gYGmP4jvNN58+Jc/2DWJQ/NObz+Q46KFxHBnP0TglOJ4eIY/gp1mRBNvoD8vzKYcxrapP2zI86RCeLA/vsCsUKS7sj8WsmX63/GzP9qO5WdntLQ/QnKNvFxetT8nqxWyYtS0Pw==\",\"dtype\":\"float64\",\"shape\":[74]},\"y\":{\"__ndarray__\":\"0r/J27aUSD9r8pTVdD1RP2k7pu7KLlg/wLdEifH1YD8NyLmoccpnPzEjYYSVr3A/203wTdNndz9s2+Z8Z2qAPwg+YeTABoc/DZnh9U8mkD/s6wrHPaeWPy2yne+nxp8/2y1uSEhJpj8MPWL03EKvPyVdjrLZ7LU/BK+WOzPBvj9HPq946pHFP+YffZOmQc4/PGwiMxc41T+Hp1fKMsTdP/8h/fZ14OQ/KjqSy39I7T+ZKhiV1In0P3PXEvJBz/w/vw6cM6I0BECBJsKGp1cMQOJYF7fR4BNAUkmdgCbiG0ADCYofY44jQOauJeSDbitAMEymCkY9M0Db+X5qvPw6QGgibHh67UJAf/s6cM6MSkDNzMzMzHhSQGZmZmZmalhAAAAAAABcXkDNzMzMzCZiQJqZmZmZH2VAZmZmZmYYaEAzMzMzMxFrQAAAAAAACm5AZmZmZmaBcEDNzMzMzP1xQDMzMzMzenNAmpmZmZn2dEAAAAAAAHN2QGZmZmZm73dAzczMzMxreUAzMzMzM+h6QJqZmZmZZHxAAAAAAADhfUBmZmZmZl1/QGZmZmbmbIBAmpmZmRkrgUDNzMzMTOmBQAAAAACAp4JAMzMzM7Nlg0BmZmZm5iOEQJqZmZkZ4oRAzczMzEyghUAAAAAAgF6GQDMzMzOzHIdAZmZmZubah0CamZmZGZmIQM3MzMxMV4lAAAAAAIAVikAzMzMzs9OKQGZmZmbmkYtAmpmZmRlQjEDNzMzMTA6NQAAAAACAzI1AMzMzM7OKjkBmZmZm5kiPQA==\",\"dtype\":\"float64\",\"shape\":[74]}},\"selected\":{\"id\":\"497c1855-b99a-433f-9f55-d54182cbf97d\",\"type\":\"Selection\"},\"selection_policy\":{\"id\":\"a879bccc-c101-418b-9d55-386ef038529c\",\"type\":\"UnionRenderers\"}},\"id\":\"8d5ffdbb-fe67-4834-a28f-0367751c47f0\",\"type\":\"ColumnDataSource\"},{\"attributes\":{\"callback\":null,\"end\":0.01,\"start\":1020},\"id\":\"919a83ae-f1ce-4710-9d1e-cdcec33f5122\",\"type\":\"Range1d\"},{\"attributes\":{\"tools\":[{\"id\":\"961d69ed-d71d-46be-b57d-aec61aaa5e9d\",\"type\":\"PanTool\"},{\"id\":\"73616186-a83a-4961-aa4a-39d51c64f46c\",\"type\":\"WheelZoomTool\"},{\"id\":\"5fb0a029-5f87-4115-9e1e-d339f752319d\",\"type\":\"BoxZoomTool\"},{\"id\":\"e0e48161-0a6d-4299-a019-844822f35ffa\",\"type\":\"SaveTool\"},{\"id\":\"481025ca-3a04-4b0c-82c6-ea94317b19d3\",\"type\":\"ResetTool\"},{\"id\":\"3fc2036a-ea15-4132-9c64-15a5bd0fb1ee\",\"type\":\"HelpTool\"},{\"id\":\"63a9c106-0cd6-4c24-a92d-05cfc8a86a8e\",\"type\":\"PanTool\"},{\"id\":\"4b8e99db-0ccf-48d1-bec4-080b2d23ad9f\",\"type\":\"WheelZoomTool\"},{\"id\":\"1d8d754f-a3e0-462d-bf5c-81cd9054f986\",\"type\":\"BoxZoomTool\"},{\"id\":\"55ab03b4-18e8-4b7e-9ffe-4fe2ed145fff\",\"type\":\"SaveTool\"},{\"id\":\"578cf667-e9e4-48f0-b4c7-f7cc5155ae1e\",\"type\":\"ResetTool\"},{\"id\":\"37910f66-42c8-4a48-a514-ab02d5a65969\",\"type\":\"HelpTool\"},{\"id\":\"299edeab-f28d-4eb4-be0c-caa14ebc562c\",\"type\":\"PanTool\"},{\"id\":\"bff2cb8a-5c70-4af6-b6c4-9dd611c6456d\",\"type\":\"WheelZoomTool\"},{\"id\":\"6718492e-f121-410f-b1b2-02f6428c0d46\",\"type\":\"BoxZoomTool\"},{\"id\":\"a90c46a3-f059-4098-8f80-3be95cf83b54\",\"type\":\"SaveTool\"},{\"id\":\"f1afae29-96f6-4e9f-9d72-729f0e819cd3\",\"type\":\"ResetTool\"},{\"id\":\"5da6dc2f-b547-4b77-a8d1-0a1e0123040a\",\"type\":\"HelpTool\"}]},\"id\":\"587e43bf-b4f6-4804-9e6c-655d9ff522ba\",\"type\":\"ProxyToolbar\"},{\"attributes\":{\"plot\":null,\"text\":\"\"},\"id\":\"bc08fe02-47fe-4b01-9692-3c9c208043f9\",\"type\":\"Title\"},{\"attributes\":{\"line_alpha\":0.1,\"line_color\":\"#1f77b4\",\"line_width\":1.5,\"x\":{\"field\":\"x\"},\"y\":{\"field\":\"y\"}},\"id\":\"094d2245-4193-48d1-be1f-1402f84cddf7\",\"type\":\"Line\"},{\"attributes\":{\"fill_alpha\":{\"value\":0.7},\"fill_color\":{\"value\":\"#4daf4a\"},\"line_alpha\":{\"value\":0.7},\"line_color\":{\"value\":\"#4daf4a\"},\"x\":{\"field\":\"x\"},\"y\":{\"field\":\"y\"}},\"id\":\"5b59f2e5-46c4-473b-a4d3-a051536bf76d\",\"type\":\"Circle\"},{\"attributes\":{\"line_color\":\"#4daf4a\",\"line_width\":1.5,\"x\":{\"field\":\"x\"},\"y\":{\"field\":\"y\"}},\"id\":\"8d23550e-a204-420a-83b0-57f3978c33ab\",\"type\":\"Line\"},{\"attributes\":{\"toolbar\":{\"id\":\"587e43bf-b4f6-4804-9e6c-655d9ff522ba\",\"type\":\"ProxyToolbar\"},\"toolbar_location\":\"above\"},\"id\":\"69d19faa-527d-4f9e-a4ba-beee69718559\",\"type\":\"ToolbarBox\"},{\"attributes\":{\"plot\":{\"id\":\"cf5d431e-591a-431e-a6cf-e40d3670b214\",\"subtype\":\"Figure\",\"type\":\"Plot\"},\"ticker\":{\"id\":\"6382342f-cf10-4c16-994c-2c4a80e56fc5\",\"type\":\"BasicTicker\"}},\"id\":\"81ce5fa3-4286-4cca-818c-97b68860111b\",\"type\":\"Grid\"},{\"attributes\":{\"source\":{\"id\":\"892c3b4c-bcc8-44de-a2c7-71e792a6140f\",\"type\":\"ColumnDataSource\"}},\"id\":\"835de33e-b8b2-4c33-b1b3-d1218a6062dd\",\"type\":\"CDSView\"},{\"attributes\":{\"data_source\":{\"id\":\"f94b6f7f-5c6b-447b-9ec5-e2abda6845d2\",\"type\":\"ColumnDataSource\"},\"glyph\":{\"id\":\"8d23550e-a204-420a-83b0-57f3978c33ab\",\"type\":\"Line\"},\"hover_glyph\":null,\"muted_glyph\":null,\"nonselection_glyph\":{\"id\":\"094d2245-4193-48d1-be1f-1402f84cddf7\",\"type\":\"Line\"},\"selection_glyph\":null,\"view\":{\"id\":\"aec2e961-5b7f-4dc6-8498-a83e6d6e2129\",\"type\":\"CDSView\"}},\"id\":\"11b11031-2255-4233-99ca-558d9755f062\",\"type\":\"GlyphRenderer\"},{\"attributes\":{\"axis_label\":\"cooling rate [K/day]\",\"formatter\":{\"id\":\"ab016258-d2eb-431f-b212-b2ac953cdf29\",\"type\":\"BasicTickFormatter\"},\"plot\":{\"id\":\"cf5d431e-591a-431e-a6cf-e40d3670b214\",\"subtype\":\"Figure\",\"type\":\"Plot\"},\"ticker\":{\"id\":\"6382342f-cf10-4c16-994c-2c4a80e56fc5\",\"type\":\"BasicTicker\"}},\"id\":\"a481e653-83ea-4c6d-8355-63dbad4c8dfe\",\"type\":\"LinearAxis\"},{\"attributes\":{\"fill_alpha\":{\"value\":0.1},\"fill_color\":{\"value\":\"#1f77b4\"},\"line_alpha\":{\"value\":0.1},\"line_color\":{\"value\":\"#1f77b4\"},\"x\":{\"field\":\"x\"},\"y\":{\"field\":\"y\"}},\"id\":\"35e9931b-0553-4237-bdc5-c44081669334\",\"type\":\"Circle\"},{\"attributes\":{\"source\":{\"id\":\"f94b6f7f-5c6b-447b-9ec5-e2abda6845d2\",\"type\":\"ColumnDataSource\"}},\"id\":\"aec2e961-5b7f-4dc6-8498-a83e6d6e2129\",\"type\":\"CDSView\"},{\"attributes\":{\"fill_alpha\":{\"value\":0.7},\"fill_color\":{\"value\":\"#984ea3\"},\"line_alpha\":{\"value\":0.7},\"line_color\":{\"value\":\"#984ea3\"},\"x\":{\"field\":\"x\"},\"y\":{\"field\":\"y\"}},\"id\":\"d9693b8f-026c-4c73-9d83-7a233be117df\",\"type\":\"Square\"},{\"attributes\":{\"callback\":null,\"data\":{\"x\":{\"__ndarray__\":\"EFTPEMULEsBY5Soo7NcRwOAih0PfTQnAcLzxlkslFUAgkIluU6TzP+gpDdzLdwVAICHKUKVt1T+Ik7s3hMbwP6AHr9TDy9y/ECnbDOK15j+w2qv7vfbXvzCQ/22EH9Y/ABwN6PuE1b8w8RgTZ5TNP8ZxqdeCOdI/WPaTJPMAyz/gCWaNx9zKv4Bz2SfMkLG/QNDU2Dvrw7/gjDvG8ELPv3BfAcZ9A9W/QPE2M06U4r+4EtXbvdv4v8CHA9UM1vO/wNkC+csj1L9A31CHx4DGv4BAVcDWEKk/AJyjBEwOpL8A2K0iJHelvwAHMEdHKYW/QAFQrblkpT+AYHxUdJWePwCcnL/AFYO/AIDdMF2+IL9AoMQ3Xs6Hv8CEJWa/IIk/SHjx3bH7mD9glt/hXwibv4AXhtbv81c/0ZPByHVmuD+ZIBKsyEuxPwB7VdwaDKi/AMK2wPlcpL+A1M+Jt0OhvwBblecIUqS/AOzlE2F5m79AcNDuEvKUv8BO6MRU/Ja/ALSuiFPKhL8ASGwETKOKvwCIZggV2Yi/AB5fgpVndD+A7LY9mXWhv8C4xgD0L5O/ALuUgd63fD8AAPReZ8gCPwB4gQY0fE+/gN8kEc8Okj9ggdWOaw6mPwButB7pzIA/QJoEKHMXlz9A3ZOmSfmuP0CC+mOR17o/8L5CjVu4sD8gd3D5DeiqP4BAGGl6MbI/oBQpEQTvtT+AoHD36662PwCQysucWWu/gOgg5EKCgD+gmD6me76hPwAZquxAgK4/MDP40Wo1tD/gyKr9n0C3P9Ci4ei4h7S/\",\"dtype\":\"float64\",\"shape\":[75]},\"y\":{\"__ndarray__\":\"GhExyth1ND/Sv8nbtpRIP2vylNV0PVE/aTum7souWD/At0SJ8fVgPw3Iuahxymc/MSNhhJWvcD/bTfBN02d3P2zb5nxnaoA/CD5h5MAGhz8NmeH1TyaQP+zrCsc9p5Y/LbKd76fGnz/bLW5ISEmmPww9YvTcQq8/JV2OstnstT8Er5Y7M8G+P0c+r3jqkcU/5h99k6ZBzj88bCIzFzjVP4enV8oyxN0//yH99nXg5D8qOpLLf0jtP5kqGJXUifQ/c9cS8kHP/D+/DpwzojQEQIEmwoanVwxA4lgXt9HgE0BSSZ2AJuIbQAMJih9jjiNA5q4l5INuK0AwTKYKRj0zQNv5fmq8/DpAaCJseHrtQkB/+zpwzoxKQM3MzMzMeFJAZmZmZmZqWEAAAAAAAFxeQM3MzMzMJmJAmpmZmZkfZUBmZmZmZhhoQDMzMzMzEWtAAAAAAAAKbkBmZmZmZoFwQM3MzMzM/XFAMzMzMzN6c0CamZmZmfZ0QAAAAAAAc3ZAZmZmZmbvd0DNzMzMzGt5QDMzMzMz6HpAmpmZmZlkfEAAAAAAAOF9QGZmZmZmXX9AZmZmZuZsgECamZmZGSuBQM3MzMxM6YFAAAAAAICngkAzMzMzs2WDQGZmZmbmI4RAmpmZmRnihEDNzMzMTKCFQAAAAACAXoZAMzMzM7Mch0BmZmZm5tqHQJqZmZkZmYhAzczMzExXiUAAAAAAgBWKQDMzMzOz04pAZmZmZuaRi0CamZmZGVCMQM3MzMxMDo1AAAAAAIDMjUAzMzMzs4qOQGZmZmbmSI9A\",\"dtype\":\"float64\",\"shape\":[75]}},\"selected\":{\"id\":\"93868881-bd10-4c78-9218-f46ad5040948\",\"type\":\"Selection\"},\"selection_policy\":{\"id\":\"03d62a4d-7542-4781-8b3b-ddf2498228a8\",\"type\":\"UnionRenderers\"}},\"id\":\"83507a3c-d4f8-4f47-83e6-1674ae2ec335\",\"type\":\"ColumnDataSource\"},{\"attributes\":{\"callback\":null,\"data\":{\"x\":{\"__ndarray__\":\"MXhf+wfXU0AZbvNjswdFQLQWsEQVdUFA5TlpnhT9QUB/x1dOYK05QImjxHmcEjZA9jYDSBB3L0AISPl4H6wqQBPuuwfAzyJAOcHprUZAIUB7WWpkesAXQJoT1Uq+ChVArO/8u0EXCkBgVNlshzgCQMeNQ+Nzu/I/POwv1Qzh+D9QxMRmcj8DQOrE7tC4mAxAQsLBRIlHEkAi4cPYoDEXQEeDpjRjzB1ASZ0GEfCuI0DVFj11sssnQOMiVKSMHyhAWRHvUxNoJEDo8cjD4g8gQLGGvR2NDRpAdpI3nV5oFECtyWH9Lp4QQIZQd9bvmwtAkshlnu1BBkBMysnQf1UAQHZJU/DYZ/c/HoEhV+G48T/rSm4vc/TmP3EgV4cD49g/xmy6+4w7zz+bEsjh3uDDPw5SRMRogKs/4GPKdPc1a78lazVXN1vCP/B84ODeUug/LOyxgXDV9z+/DBHyZAwAQAOIY+fy/QFAahF3XKCUAECV0GHvGsz+P+X4k4Nhvf0/RO/IqI98/T8rkW+v/zT9P59vGMDsAv0/zEX7plCY/D/E3siS8kj7P2yUMv+hDvs/RmrXDaYs+z+c9f5GCO36P58nVCbr7vo/Qus8hbcy/D+rD5hFMCf9P4t6dxofnPw/bRp4QYZ2/D/q8NNiN2b8P5YTVw9ESPw/l1Dy0X/K+j+WKih3ZdD5P2k8OYxHjvk/hceGh5N4+T8lpPahWSn5P6vJnePt4vY/UuhmxnXI9T8miFqdE+D0Pz7qfx5CR/Q/0khvq2US9D9LfVdHQGv0P9syeEmwYfg/\",\"dtype\":\"float64\",\"shape\":[75]},\"y\":{\"__ndarray__\":\"hLndy31yND/6fmq8dJNIP8n9DkWBPlE/aDum7souWD/b4a/JGvVgP9f34SAhymc/ZvM4DOavcD+z0M5pFmh3PxuC4zJuaoA/xjcUPlsHhz8uHAjJAiaQP9ieWRKgppY/oI7HDFTGnz+a5h2n6EimPzS6g9iZQq8/IuAQqtTstT9SSZ2AJsK+P4nS3uALk8U/ih9j7lpCzj+ASL99HTjVP4enV8oyxN0/ACL99nXg5D9fmEwVjErtPyUGgZVDi/Q/AiuHFtnO/D9OYhBYOTQEQPHSTWIQWAxA4XoUrkfhE0D8qfHSTeIbQMh2vp8ajyNArkfhehRuK0Bcj8L1KDwzQFyPwvUo/DpAPgrXo3DtQkDNzMzMzIxKQClcj8L1eFJAKVyPwvVoWECamZmZmVleQGZmZmZmJmJAAAAAAAAgZUCamZmZmRloQJqZmZmZEWtAmpmZmZkJbkCamZmZmYFwQGZmZmZm/nFAZmZmZmZ6c0BmZmZmZvZ0QDQzMzMzc3ZAAAAAAADwd0AAAAAAAGx5QAAAAAAA6HpAzMzMzMxkfEDMzMzMzOB9QM3MzMzMXH9AzczMzMxsgEAzMzMzMyuBQDMzMzMz6YFAMzMzMzOngkCamZmZmWWDQAAAAAAAJIRAAAAAAADihEAAAAAAAKCFQGZmZmZmXoZAzczMzMwch0DNzMzMzNqHQM3MzMzMmIhAMzMzMzNXiUCamZmZmRWKQAAAAAAA1IpAAAAAAACSi0AAAAAAAFCMQGZmZmZmDo1AzczMzMzMjUDNzMzMzIqOQM3MzMzMSI9A\",\"dtype\":\"float64\",\"shape\":[75]}},\"selected\":{\"id\":\"903a86bc-ae97-4dfb-b6f0-461c027b56a3\",\"type\":\"Selection\"},\"selection_policy\":{\"id\":\"bc96f980-a64b-4da5-a328-fcbecf4732f0\",\"type\":\"UnionRenderers\"}},\"id\":\"ea1e148f-688b-4869-992d-fddc6da09e6f\",\"type\":\"ColumnDataSource\"},{\"attributes\":{\"ticker\":null},\"id\":\"728e190c-8daa-46bf-ae55-1032be9942dd\",\"type\":\"LogTickFormatter\"},{\"attributes\":{\"line_alpha\":0.1,\"line_color\":\"#1f77b4\",\"line_width\":1.5,\"x\":{\"field\":\"x\"},\"y\":{\"field\":\"y\"}},\"id\":\"2af24ec0-2355-4649-9ba2-87205de7738a\",\"type\":\"Line\"},{\"attributes\":{},\"id\":\"73616186-a83a-4961-aa4a-39d51c64f46c\",\"type\":\"WheelZoomTool\"},{\"attributes\":{\"callback\":null,\"data\":{\"x\":{\"__ndarray__\":\"cm1sTMT3VEDEyvjosEJHQOKI6DjzCUNArgQWV9awPkB9Lm8XG3M4QEz+Qv6iYzNA7eV8HaPLLkCX1QHyTpMoQFBmYSYetiNAUB04GtGpH0AmFyVE5j8ZQJca9QPGqBNALJP+OOHHDEBNxaf7QF8AQKtislomWuw/cW2dcO6A9T/uJJvfPu0EQIaQLTI/JQ1AxGiII+PmEkCJvfVeuCsYQD6ZBhGbHB9AXQw69DTYJEAsubcwKucqQNuT9D5OmipAJyi3szEJJUBlNebh5WkgQDDcPHBr2xlArtlANXuQFEBdJadFHckQQI2Avh0ZsQtAjYiwt1rsBUCL0SDoVBgAQK6C0nEEjvc/CggLSme58T9sXU2orFPnP0v0JYz9Gdg/vT38vxYczD9nBQTe6kHHP1IhkEXJwKo/8OZnhCVAub+xtVgCpmqzP6DUpY6g0+k/PKK3T1h4+D8RTDjQc1EAQG/dAQs7TwJAQt2eHpPLAEBWEh074x//PyCap9ZSGf4/rEzaTySm/T+7aXhHRmr9P688KeqeNP0/ruZ4EemD/D8olrZcn9T7P0+vNc9hW/s/i9VVL+4P+z+0NzC24uz6P8731Kza8vo/xFf4SHzq+z+gYyHpvHb8P68ROkiFevw/BAjYdCga/D8AUp8VbW77P3JrF/nKmvo/qCQeGfq++T/dplwHJfn4P2G4p+Uva/g/OzZ0RqMZ+D8dmn/iar73P/OuA7Ka8PY/gaaeQHGn9T9hkyjAH1L0P3aZGhdAU/M/n8VP/g7P8j+90HxHNvfyPwhNBtgrqvk/\",\"dtype\":\"float64\",\"shape\":[75]},\"y\":{\"__ndarray__\":\"GhExyth1ND/Sv8nbtpRIP2vylNV0PVE/aTum7souWD/At0SJ8fVgPw3Iuahxymc/MSNhhJWvcD/bTfBN02d3P2zb5nxnaoA/CD5h5MAGhz8NmeH1TyaQP+zrCsc9p5Y/LbKd76fGnz/bLW5ISEmmPww9YvTcQq8/JV2OstnstT8Er5Y7M8G+P0c+r3jqkcU/5h99k6ZBzj88bCIzFzjVP4enV8oyxN0//yH99nXg5D8qOpLLf0jtP5kqGJXUifQ/c9cS8kHP/D+/DpwzojQEQIEmwoanVwxA4lgXt9HgE0BSSZ2AJuIbQAMJih9jjiNA5q4l5INuK0AwTKYKRj0zQNv5fmq8/DpAaCJseHrtQkB/+zpwzoxKQM3MzMzMeFJAZmZmZmZqWEAAAAAAAFxeQM3MzMzMJmJAmpmZmZkfZUBmZmZmZhhoQDMzMzMzEWtAAAAAAAAKbkBmZmZmZoFwQM3MzMzM/XFAMzMzMzN6c0CamZmZmfZ0QAAAAAAAc3ZAZmZmZmbvd0DNzMzMzGt5QDMzMzMz6HpAmpmZmZlkfEAAAAAAAOF9QGZmZmZmXX9AZmZmZuZsgECamZmZGSuBQM3MzMxM6YFAAAAAAICngkAzMzMzs2WDQGZmZmbmI4RAmpmZmRnihEDNzMzMTKCFQAAAAACAXoZAMzMzM7Mch0BmZmZm5tqHQJqZmZkZmYhAzczMzExXiUAAAAAAgBWKQDMzMzOz04pAZmZmZuaRi0CamZmZGVCMQM3MzMxMDo1AAAAAAIDMjUAzMzMzs4qOQGZmZmbmSI9A\",\"dtype\":\"float64\",\"shape\":[75]}},\"selected\":{\"id\":\"a875280a-474a-4b1e-afc7-6b7adef65127\",\"type\":\"Selection\"},\"selection_policy\":{\"id\":\"60d00287-8fee-41cd-a01a-e407fa13473b\",\"type\":\"UnionRenderers\"}},\"id\":\"f94b6f7f-5c6b-447b-9ec5-e2abda6845d2\",\"type\":\"ColumnDataSource\"},{\"attributes\":{\"callback\":null,\"data\":{\"x\":{\"__ndarray__\":\"MXhf+wfXU0AZbvNjswdFQLQWsEQVdUFA5TlpnhT9QUB/x1dOYK05QImjxHmcEjZA9jYDSBB3L0AISPl4H6wqQBPuuwfAzyJAOcHprUZAIUB7WWpkesAXQJoT1Uq+ChVArO/8u0EXCkBgVNlshzgCQMeNQ+Nzu/I/POwv1Qzh+D9QxMRmcj8DQOrE7tC4mAxAQsLBRIlHEkAi4cPYoDEXQEeDpjRjzB1ASZ0GEfCuI0DVFj11sssnQOMiVKSMHyhAWRHvUxNoJEDo8cjD4g8gQLGGvR2NDRpAdpI3nV5oFECtyWH9Lp4QQIZQd9bvmwtAkshlnu1BBkBMysnQf1UAQHZJU/DYZ/c/HoEhV+G48T/rSm4vc/TmP3EgV4cD49g/xmy6+4w7zz+bEsjh3uDDPw5SRMRogKs/4GPKdPc1a78lazVXN1vCP/B84ODeUug/LOyxgXDV9z+/DBHyZAwAQAOIY+fy/QFAahF3XKCUAECV0GHvGsz+P+X4k4Nhvf0/RO/IqI98/T8rkW+v/zT9P59vGMDsAv0/zEX7plCY/D/E3siS8kj7P2yUMv+hDvs/RmrXDaYs+z+c9f5GCO36P58nVCbr7vo/Qus8hbcy/D+rD5hFMCf9P4t6dxofnPw/bRp4QYZ2/D/q8NNiN2b8P5YTVw9ESPw/l1Dy0X/K+j+WKih3ZdD5P2k8OYxHjvk/hceGh5N4+T8lpPahWSn5P6vJnePt4vY/UuhmxnXI9T8miFqdE+D0Pz7qfx5CR/Q/0khvq2US9D9LfVdHQGv0P9syeEmwYfg/\",\"dtype\":\"float64\",\"shape\":[75]},\"y\":{\"__ndarray__\":\"hLndy31yND/6fmq8dJNIP8n9DkWBPlE/aDum7souWD/b4a/JGvVgP9f34SAhymc/ZvM4DOavcD+z0M5pFmh3PxuC4zJuaoA/xjcUPlsHhz8uHAjJAiaQP9ieWRKgppY/oI7HDFTGnz+a5h2n6EimPzS6g9iZQq8/IuAQqtTstT9SSZ2AJsK+P4nS3uALk8U/ih9j7lpCzj+ASL99HTjVP4enV8oyxN0/ACL99nXg5D9fmEwVjErtPyUGgZVDi/Q/AiuHFtnO/D9OYhBYOTQEQPHSTWIQWAxA4XoUrkfhE0D8qfHSTeIbQMh2vp8ajyNArkfhehRuK0Bcj8L1KDwzQFyPwvUo/DpAPgrXo3DtQkDNzMzMzIxKQClcj8L1eFJAKVyPwvVoWECamZmZmVleQGZmZmZmJmJAAAAAAAAgZUCamZmZmRloQJqZmZmZEWtAmpmZmZkJbkCamZmZmYFwQGZmZmZm/nFAZmZmZmZ6c0BmZmZmZvZ0QDQzMzMzc3ZAAAAAAADwd0AAAAAAAGx5QAAAAAAA6HpAzMzMzMxkfEDMzMzMzOB9QM3MzMzMXH9AzczMzMxsgEAzMzMzMyuBQDMzMzMz6YFAMzMzMzOngkCamZmZmWWDQAAAAAAAJIRAAAAAAADihEAAAAAAAKCFQGZmZmZmXoZAzczMzMwch0DNzMzMzNqHQM3MzMzMmIhAMzMzMzNXiUCamZmZmRWKQAAAAAAA1IpAAAAAAACSi0AAAAAAAFCMQGZmZmZmDo1AzczMzMzMjUDNzMzMzIqOQM3MzMzMSI9A\",\"dtype\":\"float64\",\"shape\":[75]}},\"selected\":{\"id\":\"19db6e55-c17c-4cc9-b07e-32588cc7f540\",\"type\":\"Selection\"},\"selection_policy\":{\"id\":\"62fe8183-54e1-43bf-a4bc-9c956d664125\",\"type\":\"UnionRenderers\"}},\"id\":\"c7e05759-a00a-4b08-9771-729bb114243e\",\"type\":\"ColumnDataSource\"},{\"attributes\":{\"line_alpha\":0.5,\"line_color\":\"#377eb8\",\"line_dash\":[6],\"line_width\":4,\"x\":{\"field\":\"x\"},\"y\":{\"field\":\"y\"}},\"id\":\"fd83c847-4867-4257-9549-d8c35814dba3\",\"type\":\"Line\"},{\"attributes\":{},\"id\":\"93868881-bd10-4c78-9218-f46ad5040948\",\"type\":\"Selection\"},{\"attributes\":{\"line_alpha\":0.1,\"line_color\":\"#1f77b4\",\"line_dash\":[6],\"line_width\":5,\"x\":{\"field\":\"x\"},\"y\":{\"field\":\"y\"}},\"id\":\"caafed60-9d5e-4bf2-9f33-ae9e04133589\",\"type\":\"Line\"},{\"attributes\":{\"line_alpha\":0.5,\"line_color\":\"#984ea3\",\"line_width\":1.5,\"x\":{\"field\":\"x\"},\"y\":{\"field\":\"y\"}},\"id\":\"721d5098-e6e8-4995-a41c-e2274363f597\",\"type\":\"Line\"},{\"attributes\":{\"data_source\":{\"id\":\"2057199b-d1c8-4332-ab62-c955269331d1\",\"type\":\"ColumnDataSource\"},\"glyph\":{\"id\":\"abe5cf29-e0dc-4f7f-8446-b900d31f4d93\",\"type\":\"Circle\"},\"hover_glyph\":null,\"muted_glyph\":null,\"nonselection_glyph\":{\"id\":\"35e9931b-0553-4237-bdc5-c44081669334\",\"type\":\"Circle\"},\"selection_glyph\":null,\"view\":{\"id\":\"5ac4a6c4-4014-4a65-8b1e-ba59fa0e5d95\",\"type\":\"CDSView\"}},\"id\":\"1b623014-6f83-4816-acd1-43d691b8fd91\",\"type\":\"GlyphRenderer\"},{\"attributes\":{\"line_alpha\":0.6,\"line_color\":\"#377eb8\",\"line_dash\":[6],\"line_width\":5,\"x\":{\"field\":\"x\"},\"y\":{\"field\":\"y\"}},\"id\":\"a3175246-a48d-48dd-95e9-f767afd16e4f\",\"type\":\"Line\"},{\"attributes\":{\"source\":{\"id\":\"c7e05759-a00a-4b08-9771-729bb114243e\",\"type\":\"ColumnDataSource\"}},\"id\":\"c4f22e40-1ad1-4012-9203-75cf81e7f540\",\"type\":\"CDSView\"},{\"attributes\":{\"data_source\":{\"id\":\"c7e05759-a00a-4b08-9771-729bb114243e\",\"type\":\"ColumnDataSource\"},\"glyph\":{\"id\":\"d9693b8f-026c-4c73-9d83-7a233be117df\",\"type\":\"Square\"},\"hover_glyph\":null,\"muted_glyph\":null,\"nonselection_glyph\":{\"id\":\"d867c5d6-be54-4cfc-bf94-68237c372510\",\"type\":\"Square\"},\"selection_glyph\":null,\"view\":{\"id\":\"c4f22e40-1ad1-4012-9203-75cf81e7f540\",\"type\":\"CDSView\"}},\"id\":\"46ac3ba5-ffa7-4855-9349-90b4e55857ac\",\"type\":\"GlyphRenderer\"},{\"attributes\":{\"line_alpha\":0.1,\"line_color\":\"#1f77b4\",\"line_dash\":[6],\"line_width\":5,\"x\":{\"field\":\"x\"},\"y\":{\"field\":\"y\"}},\"id\":\"ced3926c-3ab1-4bdb-9b3f-9504cd84a93a\",\"type\":\"Line\"},{\"attributes\":{\"fill_alpha\":{\"value\":0.1},\"fill_color\":{\"value\":\"#1f77b4\"},\"line_alpha\":{\"value\":0.1},\"line_color\":{\"value\":\"#1f77b4\"},\"x\":{\"field\":\"x\"},\"y\":{\"field\":\"y\"}},\"id\":\"d867c5d6-be54-4cfc-bf94-68237c372510\",\"type\":\"Square\"},{\"attributes\":{},\"id\":\"39a68fef-a0d0-4fbf-b2a8-eeb8d0e38fc7\",\"type\":\"BasicTickFormatter\"},{\"attributes\":{\"label\":{\"value\":\"CLIRAD (single-run)\"},\"renderers\":[{\"id\":\"398f7c74-90f0-412b-b3f9-b661b8d4c17a\",\"type\":\"GlyphRenderer\"}]},\"id\":\"fe00dc38-d657-4294-b7e3-ddc9cf6dd67c\",\"type\":\"LegendItem\"},{\"attributes\":{\"callback\":null,\"end\":0.01,\"start\":1020},\"id\":\"0dddac27-6b2d-4972-ba5e-68b2c4c684dc\",\"type\":\"Range1d\"},{\"attributes\":{\"source\":{\"id\":\"ea1e148f-688b-4869-992d-fddc6da09e6f\",\"type\":\"ColumnDataSource\"}},\"id\":\"28881bf7-ee6b-4923-86ac-dcb534807c66\",\"type\":\"CDSView\"},{\"attributes\":{\"data_source\":{\"id\":\"ea1e148f-688b-4869-992d-fddc6da09e6f\",\"type\":\"ColumnDataSource\"},\"glyph\":{\"id\":\"721d5098-e6e8-4995-a41c-e2274363f597\",\"type\":\"Line\"},\"hover_glyph\":null,\"muted_glyph\":null,\"nonselection_glyph\":{\"id\":\"3b0d5089-2d9a-4655-b01b-4e00146cb591\",\"type\":\"Line\"},\"selection_glyph\":null,\"view\":{\"id\":\"28881bf7-ee6b-4923-86ac-dcb534807c66\",\"type\":\"CDSView\"}},\"id\":\"c8d5c0af-f448-4790-a1ed-a56bd36ce502\",\"type\":\"GlyphRenderer\"},{\"attributes\":{\"line_alpha\":0.1,\"line_color\":\"#1f77b4\",\"line_width\":1.5,\"x\":{\"field\":\"x\"},\"y\":{\"field\":\"y\"}},\"id\":\"3b0d5089-2d9a-4655-b01b-4e00146cb591\",\"type\":\"Line\"},{\"attributes\":{\"items\":[{\"id\":\"fe00dc38-d657-4294-b7e3-ddc9cf6dd67c\",\"type\":\"LegendItem\"},{\"id\":\"dad5b8da-08bc-4977-86e8-ecda1ed5fe16\",\"type\":\"LegendItem\"},{\"id\":\"eeb758a0-f708-4ba7-81ef-26c5c34483cd\",\"type\":\"LegendItem\"}],\"label_text_font_size\":{\"value\":\"8pt\"},\"location\":\"top_center\",\"orientation\":\"horizontal\",\"plot\":{\"id\":\"ffc9f701-b0f0-4ffe-87d5-8235735c75b0\",\"subtype\":\"Figure\",\"type\":\"Plot\"}},\"id\":\"09a515a1-8c79-41f2-bfb8-2a6a2f3ad33c\",\"type\":\"Legend\"},{\"attributes\":{\"overlay\":{\"id\":\"ccf01192-7d37-4163-9d4f-9565974e3d1f\",\"type\":\"BoxAnnotation\"}},\"id\":\"5fb0a029-5f87-4115-9e1e-d339f752319d\",\"type\":\"BoxZoomTool\"},{\"attributes\":{\"line_alpha\":0.8,\"line_color\":\"#984ea3\",\"line_width\":1.5,\"x\":{\"field\":\"x\"},\"y\":{\"field\":\"y\"}},\"id\":\"b496d6df-0a25-4879-a76d-3609495429a9\",\"type\":\"Line\"},{\"attributes\":{\"label\":{\"value\":\"CLIRAD (single-run) - CRD\"},\"renderers\":[{\"id\":\"1b623014-6f83-4816-acd1-43d691b8fd91\",\"type\":\"GlyphRenderer\"},{\"id\":\"a0a25e4a-c5ab-4088-b7f2-0e182694cbdd\",\"type\":\"GlyphRenderer\"}]},\"id\":\"4549d6a2-b17c-42a1-a03d-a3b4168a1788\",\"type\":\"LegendItem\"},{\"attributes\":{\"label\":{\"value\":\"old CLIRAD (H2012)\"},\"renderers\":[{\"id\":\"46ac3ba5-ffa7-4855-9349-90b4e55857ac\",\"type\":\"GlyphRenderer\"},{\"id\":\"c8d5c0af-f448-4790-a1ed-a56bd36ce502\",\"type\":\"GlyphRenderer\"}]},\"id\":\"eeb758a0-f708-4ba7-81ef-26c5c34483cd\",\"type\":\"LegendItem\"},{\"attributes\":{\"source\":{\"id\":\"820c38d5-dff4-40ab-a937-fb8b727c9b14\",\"type\":\"ColumnDataSource\"}},\"id\":\"7a987dd9-5109-4305-9d8a-da206d22a00c\",\"type\":\"CDSView\"},{\"attributes\":{},\"id\":\"e0e48161-0a6d-4299-a019-844822f35ffa\",\"type\":\"SaveTool\"},{\"attributes\":{\"label\":{\"value\":\"old CLIRAD (H2012) - CRD\"},\"renderers\":[{\"id\":\"9c3ca9d9-9014-4a0e-a54e-94561c404537\",\"type\":\"GlyphRenderer\"}]},\"id\":\"990ad841-284f-4940-b072-88eaaf1f834d\",\"type\":\"LegendItem\"},{\"attributes\":{\"label\":{\"value\":\"CRD\"},\"renderers\":[{\"id\":\"b40b9372-2f66-4d90-8fbd-cf5696e2106a\",\"type\":\"GlyphRenderer\"},{\"id\":\"11b11031-2255-4233-99ca-558d9755f062\",\"type\":\"GlyphRenderer\"}]},\"id\":\"dad5b8da-08bc-4977-86e8-ecda1ed5fe16\",\"type\":\"LegendItem\"},{\"attributes\":{\"dimension\":1,\"plot\":{\"id\":\"cf5d431e-591a-431e-a6cf-e40d3670b214\",\"subtype\":\"Figure\",\"type\":\"Plot\"},\"ticker\":{\"id\":\"8728084b-3bc6-4f0a-a522-ea38bac96196\",\"type\":\"LogTicker\"}},\"id\":\"2c0473ff-c880-4c2d-9d6d-2385a82b28fc\",\"type\":\"Grid\"},{\"attributes\":{},\"id\":\"a879bccc-c101-418b-9d55-386ef038529c\",\"type\":\"UnionRenderers\"},{\"attributes\":{},\"id\":\"961d69ed-d71d-46be-b57d-aec61aaa5e9d\",\"type\":\"PanTool\"},{\"attributes\":{\"callback\":null,\"end\":2.3136055567443004,\"start\":-0.2281041295143},\"id\":\"8b73bad7-576b-4e67-a336-ea0a5d4d4912\",\"type\":\"Range1d\"},{\"attributes\":{},\"id\":\"62fe8183-54e1-43bf-a4bc-9c956d664125\",\"type\":\"UnionRenderers\"},{\"attributes\":{},\"id\":\"b314efbc-2bf0-4387-90c0-4cd9c4ad5cec\",\"type\":\"UnionRenderers\"},{\"attributes\":{},\"id\":\"3d48d5b1-9a55-487f-a242-63f31c9b9bee\",\"type\":\"Selection\"},{\"attributes\":{},\"id\":\"37910f66-42c8-4a48-a514-ab02d5a65969\",\"type\":\"HelpTool\"},{\"attributes\":{},\"id\":\"31e78d09-3483-493e-bd14-0ff320ca9a40\",\"type\":\"BasicTicker\"},{\"attributes\":{},\"id\":\"1994d4de-3a50-459b-b42f-7e89f9dea3c8\",\"type\":\"UnionRenderers\"},{\"attributes\":{\"callback\":null,\"end\":0.7323360194662635,\"start\":-1.576281364019664},\"id\":\"ef755eb9-0545-4c80-9b3d-a2e35e3dbdf7\",\"type\":\"Range1d\"},{\"attributes\":{},\"id\":\"3b58e25f-fafc-449c-9c2d-3af7c98a4b02\",\"type\":\"LinearScale\"},{\"attributes\":{},\"id\":\"8035a192-063a-41d3-a09a-c84357dc4eef\",\"type\":\"BasicTickFormatter\"},{\"attributes\":{},\"id\":\"5fc89bd7-126c-46b9-bc84-1c7c7e9071bd\",\"type\":\"LinearScale\"},{\"attributes\":{},\"id\":\"3f06ebc5-4a20-4115-899a-c20321077d5f\",\"type\":\"Selection\"},{\"attributes\":{},\"id\":\"a875280a-474a-4b1e-afc7-6b7adef65127\",\"type\":\"Selection\"},{\"attributes\":{},\"id\":\"0043967a-b507-4f5e-8ea6-192213e74b6c\",\"type\":\"BasicTicker\"},{\"attributes\":{},\"id\":\"47c69c44-59f1-4f5c-b41a-fa35aed82aa5\",\"type\":\"UnionRenderers\"},{\"attributes\":{},\"id\":\"578cf667-e9e4-48f0-b4c7-f7cc5155ae1e\",\"type\":\"ResetTool\"},{\"attributes\":{\"label\":{\"value\":\"CRD\"},\"renderers\":[{\"id\":\"7951b8f8-47bb-4928-8ee6-9efc5a3731cd\",\"type\":\"GlyphRenderer\"},{\"id\":\"3c462e3f-2b62-49b2-bc4b-8507e02bce57\",\"type\":\"GlyphRenderer\"}]},\"id\":\"dda1acc1-1f48-40d4-bae9-5a037a405143\",\"type\":\"LegendItem\"},{\"attributes\":{},\"id\":\"b80b19d6-3e9f-4b9d-ad71-d03b9e033fd9\",\"type\":\"LinearScale\"},{\"attributes\":{\"items\":[{\"id\":\"4549d6a2-b17c-42a1-a03d-a3b4168a1788\",\"type\":\"LegendItem\"},{\"id\":\"990ad841-284f-4940-b072-88eaaf1f834d\",\"type\":\"LegendItem\"}],\"label_text_font_size\":{\"value\":\"8pt\"},\"location\":\"top_center\",\"orientation\":\"horizontal\",\"plot\":{\"id\":\"cf5d431e-591a-431e-a6cf-e40d3670b214\",\"subtype\":\"Figure\",\"type\":\"Plot\"}},\"id\":\"63bdb4e2-eae1-4788-abfe-bbf0008ef665\",\"type\":\"Legend\"},{\"attributes\":{},\"id\":\"dc4ed57d-1fd6-4212-bc26-acaf5477a214\",\"type\":\"UnionRenderers\"},{\"attributes\":{},\"id\":\"8b7d3e65-bffe-467d-9d80-65e38cb65641\",\"type\":\"Selection\"},{\"attributes\":{\"label\":{\"value\":\"CLIRAD (single-run)\"},\"renderers\":[{\"id\":\"6eef9e85-5ac3-4427-80b2-c5c3776f423a\",\"type\":\"GlyphRenderer\"}]},\"id\":\"393932df-1913-4445-b02d-165c66f8f3c9\",\"type\":\"LegendItem\"},{\"attributes\":{\"plot\":{\"id\":\"a1dd12f5-6b00-472c-9ace-25fceddc056d\",\"subtype\":\"Figure\",\"type\":\"Plot\"},\"ticker\":{\"id\":\"31e78d09-3483-493e-bd14-0ff320ca9a40\",\"type\":\"BasicTicker\"}},\"id\":\"f828809c-d2df-45a7-b918-54b8fd1ba68b\",\"type\":\"Grid\"},{\"attributes\":{},\"id\":\"d6af3496-779c-40d5-882a-e02366669c02\",\"type\":\"UnionRenderers\"},{\"attributes\":{\"line_alpha\":0.5,\"line_color\":\"#984ea3\",\"line_width\":1.5,\"x\":{\"field\":\"x\"},\"y\":{\"field\":\"y\"}},\"id\":\"78233c24-7df6-465f-abb9-4125b562d5d2\",\"type\":\"Line\"},{\"attributes\":{\"axis_label\":\"pressure [mb]\",\"formatter\":{\"id\":\"39a68fef-a0d0-4fbf-b2a8-eeb8d0e38fc7\",\"type\":\"BasicTickFormatter\"},\"plot\":{\"id\":\"a1dd12f5-6b00-472c-9ace-25fceddc056d\",\"subtype\":\"Figure\",\"type\":\"Plot\"},\"ticker\":{\"id\":\"f055ee84-f711-4e10-969d-d20f5bfe7ef9\",\"type\":\"BasicTicker\"}},\"id\":\"200296dc-b47d-4dd1-953c-506e6cb83c95\",\"type\":\"LinearAxis\"},{\"attributes\":{},\"id\":\"53543d06-63b1-4dc9-8eff-5151b5caae60\",\"type\":\"Selection\"},{\"attributes\":{\"plot\":null,\"text\":\"\"},\"id\":\"25056306-9807-4bdb-99bd-c280782f66d8\",\"type\":\"Title\"},{\"attributes\":{\"callback\":null,\"end\":13.588040553155697,\"start\":-0.33973219878569993},\"id\":\"85c01beb-2214-40fd-bf32-89aee07506db\",\"type\":\"Range1d\"},{\"attributes\":{\"callback\":null,\"data\":{\"x\":{\"__ndarray__\":\"cm1sTMT3VEDEyvjosEJHQOKI6DjzCUNArgQWV9awPkB9Lm8XG3M4QEz+Qv6iYzNA7eV8HaPLLkCX1QHyTpMoQFBmYSYetiNAUB04GtGpH0AmFyVE5j8ZQJca9QPGqBNALJP+OOHHDEBNxaf7QF8AQKtislomWuw/cW2dcO6A9T/uJJvfPu0EQIaQLTI/JQ1AxGiII+PmEkCJvfVeuCsYQD6ZBhGbHB9AXQw69DTYJEAsubcwKucqQNuT9D5OmipAJyi3szEJJUBlNebh5WkgQDDcPHBr2xlArtlANXuQFEBdJadFHckQQI2Avh0ZsQtAjYiwt1rsBUCL0SDoVBgAQK6C0nEEjvc/CggLSme58T9sXU2orFPnP0v0JYz9Gdg/vT38vxYczD9nBQTe6kHHP1IhkEXJwKo/8OZnhCVAub+xtVgCpmqzP6DUpY6g0+k/PKK3T1h4+D8RTDjQc1EAQG/dAQs7TwJAQt2eHpPLAEBWEh074x//PyCap9ZSGf4/rEzaTySm/T+7aXhHRmr9P688KeqeNP0/ruZ4EemD/D8olrZcn9T7P0+vNc9hW/s/i9VVL+4P+z+0NzC24uz6P8731Kza8vo/xFf4SHzq+z+gYyHpvHb8P68ROkiFevw/BAjYdCga/D8AUp8VbW77P3JrF/nKmvo/qCQeGfq++T/dplwHJfn4P2G4p+Uva/g/OzZ0RqMZ+D8dmn/iar73P/OuA7Ka8PY/gaaeQHGn9T9hkyjAH1L0P3aZGhdAU/M/n8VP/g7P8j+90HxHNvfyPwhNBtgrqvk/\",\"dtype\":\"float64\",\"shape\":[75]},\"y\":{\"__ndarray__\":\"GhExyth1ND/Sv8nbtpRIP2vylNV0PVE/aTum7souWD/At0SJ8fVgPw3Iuahxymc/MSNhhJWvcD/bTfBN02d3P2zb5nxnaoA/CD5h5MAGhz8NmeH1TyaQP+zrCsc9p5Y/LbKd76fGnz/bLW5ISEmmPww9YvTcQq8/JV2OstnstT8Er5Y7M8G+P0c+r3jqkcU/5h99k6ZBzj88bCIzFzjVP4enV8oyxN0//yH99nXg5D8qOpLLf0jtP5kqGJXUifQ/c9cS8kHP/D+/DpwzojQEQIEmwoanVwxA4lgXt9HgE0BSSZ2AJuIbQAMJih9jjiNA5q4l5INuK0AwTKYKRj0zQNv5fmq8/DpAaCJseHrtQkB/+zpwzoxKQM3MzMzMeFJAZmZmZmZqWEAAAAAAAFxeQM3MzMzMJmJAmpmZmZkfZUBmZmZmZhhoQDMzMzMzEWtAAAAAAAAKbkBmZmZmZoFwQM3MzMzM/XFAMzMzMzN6c0CamZmZmfZ0QAAAAAAAc3ZAZmZmZmbvd0DNzMzMzGt5QDMzMzMz6HpAmpmZmZlkfEAAAAAAAOF9QGZmZmZmXX9AZmZmZuZsgECamZmZGSuBQM3MzMxM6YFAAAAAAICngkAzMzMzs2WDQGZmZmbmI4RAmpmZmRnihEDNzMzMTKCFQAAAAACAXoZAMzMzM7Mch0BmZmZm5tqHQJqZmZkZmYhAzczMzExXiUAAAAAAgBWKQDMzMzOz04pAZmZmZuaRi0CamZmZGVCMQM3MzMxMDo1AAAAAAIDMjUAzMzMzs4qOQGZmZmbmSI9A\",\"dtype\":\"float64\",\"shape\":[75]}},\"selected\":{\"id\":\"4392998d-5d01-4883-aa02-9bd57cbaf9a3\",\"type\":\"Selection\"},\"selection_policy\":{\"id\":\"dc4ed57d-1fd6-4212-bc26-acaf5477a214\",\"type\":\"UnionRenderers\"}},\"id\":\"36349046-fea3-4f65-a5c3-a045c56d7537\",\"type\":\"ColumnDataSource\"},{\"attributes\":{},\"id\":\"903a86bc-ae97-4dfb-b6f0-461c027b56a3\",\"type\":\"Selection\"},{\"attributes\":{\"line_alpha\":0.6,\"line_color\":\"#377eb8\",\"line_dash\":[6],\"line_width\":5,\"x\":{\"field\":\"x\"},\"y\":{\"field\":\"y\"}},\"id\":\"b844b1c1-acc4-4ef2-9fe3-878d502a98ca\",\"type\":\"Line\"},{\"attributes\":{},\"id\":\"7f0d1a82-4d9c-44fa-8823-3c3c34538275\",\"type\":\"Selection\"},{\"attributes\":{\"callback\":null,\"end\":0.01,\"start\":1020},\"id\":\"ce5f8334-c268-4bf9-b6a7-66ca81b26a96\",\"type\":\"Range1d\"},{\"attributes\":{\"source\":{\"id\":\"77084456-d4bf-4224-95af-7949d6989f7e\",\"type\":\"ColumnDataSource\"}},\"id\":\"384e61b7-0395-48bc-b513-d01a632456d0\",\"type\":\"CDSView\"},{\"attributes\":{\"bottom_units\":\"screen\",\"fill_alpha\":{\"value\":0.5},\"fill_color\":{\"value\":\"lightgrey\"},\"left_units\":\"screen\",\"level\":\"overlay\",\"line_alpha\":{\"value\":1.0},\"line_color\":{\"value\":\"black\"},\"line_dash\":[4,4],\"line_width\":{\"value\":2},\"plot\":null,\"render_mode\":\"css\",\"right_units\":\"screen\",\"top_units\":\"screen\"},\"id\":\"435b8c9a-84cd-4848-8179-bf7b3b1e0e8f\",\"type\":\"BoxAnnotation\"},{\"attributes\":{},\"id\":\"60d00287-8fee-41cd-a01a-e407fa13473b\",\"type\":\"UnionRenderers\"},{\"attributes\":{},\"id\":\"f8be9205-7b62-424c-b671-09b76eb266da\",\"type\":\"UnionRenderers\"},{\"attributes\":{\"ticker\":null},\"id\":\"ce7c2c03-6ada-408f-a44b-1692c0216488\",\"type\":\"LogTickFormatter\"},{\"attributes\":{},\"id\":\"4392998d-5d01-4883-aa02-9bd57cbaf9a3\",\"type\":\"Selection\"},{\"attributes\":{\"data_source\":{\"id\":\"892c3b4c-bcc8-44de-a2c7-71e792a6140f\",\"type\":\"ColumnDataSource\"},\"glyph\":{\"id\":\"78233c24-7df6-465f-abb9-4125b562d5d2\",\"type\":\"Line\"},\"hover_glyph\":null,\"muted_glyph\":null,\"nonselection_glyph\":{\"id\":\"3790d172-b668-4700-b0dd-bc03fd85b322\",\"type\":\"Line\"},\"selection_glyph\":null,\"view\":{\"id\":\"835de33e-b8b2-4c33-b1b3-d1218a6062dd\",\"type\":\"CDSView\"}},\"id\":\"5b68f0ad-2390-408c-a2b6-0b14575a034c\",\"type\":\"GlyphRenderer\"},{\"attributes\":{\"items\":[{\"id\":\"393932df-1913-4445-b02d-165c66f8f3c9\",\"type\":\"LegendItem\"},{\"id\":\"dda1acc1-1f48-40d4-bae9-5a037a405143\",\"type\":\"LegendItem\"},{\"id\":\"c9784028-6974-4874-b025-c11a9f8bee28\",\"type\":\"LegendItem\"}],\"label_text_font_size\":{\"value\":\"8pt\"},\"location\":\"top_center\",\"orientation\":\"horizontal\",\"plot\":{\"id\":\"a1dd12f5-6b00-472c-9ace-25fceddc056d\",\"subtype\":\"Figure\",\"type\":\"Plot\"}},\"id\":\"d02bcba0-10b0-4cdd-951a-09aa745e95f8\",\"type\":\"Legend\"},{\"attributes\":{\"above\":[{\"id\":\"63bdb4e2-eae1-4788-abfe-bbf0008ef665\",\"type\":\"Legend\"}],\"below\":[{\"id\":\"a481e653-83ea-4c6d-8355-63dbad4c8dfe\",\"type\":\"LinearAxis\"}],\"left\":[{\"id\":\"3ed8d8ac-1281-42dc-a393-337e308a2f67\",\"type\":\"LogAxis\"}],\"plot_width\":300,\"renderers\":[{\"id\":\"a481e653-83ea-4c6d-8355-63dbad4c8dfe\",\"type\":\"LinearAxis\"},{\"id\":\"81ce5fa3-4286-4cca-818c-97b68860111b\",\"type\":\"Grid\"},{\"id\":\"3ed8d8ac-1281-42dc-a393-337e308a2f67\",\"type\":\"LogAxis\"},{\"id\":\"2c0473ff-c880-4c2d-9d6d-2385a82b28fc\",\"type\":\"Grid\"},{\"id\":\"242c34f0-6a8d-465e-a405-daa1b5b0057d\",\"type\":\"BoxAnnotation\"},{\"id\":\"1b623014-6f83-4816-acd1-43d691b8fd91\",\"type\":\"GlyphRenderer\"},{\"id\":\"a0a25e4a-c5ab-4088-b7f2-0e182694cbdd\",\"type\":\"GlyphRenderer\"},{\"id\":\"9c3ca9d9-9014-4a0e-a54e-94561c404537\",\"type\":\"GlyphRenderer\"},{\"id\":\"63bdb4e2-eae1-4788-abfe-bbf0008ef665\",\"type\":\"Legend\"}],\"title\":{\"id\":\"25056306-9807-4bdb-99bd-c280782f66d8\",\"type\":\"Title\"},\"toolbar\":{\"id\":\"0bb2e2c4-7e2d-454f-8b8c-f4ee0270f708\",\"type\":\"Toolbar\"},\"toolbar_location\":null,\"x_range\":{\"id\":\"ef755eb9-0545-4c80-9b3d-a2e35e3dbdf7\",\"type\":\"Range1d\"},\"x_scale\":{\"id\":\"7bd8b4e5-93df-4ecd-9295-5e0d83c14794\",\"type\":\"LinearScale\"},\"y_range\":{\"id\":\"ce5f8334-c268-4bf9-b6a7-66ca81b26a96\",\"type\":\"Range1d\"},\"y_scale\":{\"id\":\"40246910-2955-42ee-bb4a-2a6608eb7936\",\"type\":\"LogScale\"}},\"id\":\"cf5d431e-591a-431e-a6cf-e40d3670b214\",\"subtype\":\"Figure\",\"type\":\"Plot\"},{\"attributes\":{},\"id\":\"19db6e55-c17c-4cc9-b07e-32588cc7f540\",\"type\":\"Selection\"},{\"attributes\":{\"data_source\":{\"id\":\"77084456-d4bf-4224-95af-7949d6989f7e\",\"type\":\"ColumnDataSource\"},\"glyph\":{\"id\":\"a3175246-a48d-48dd-95e9-f767afd16e4f\",\"type\":\"Line\"},\"hover_glyph\":null,\"muted_glyph\":null,\"nonselection_glyph\":{\"id\":\"caafed60-9d5e-4bf2-9f33-ae9e04133589\",\"type\":\"Line\"},\"selection_glyph\":null,\"view\":{\"id\":\"384e61b7-0395-48bc-b513-d01a632456d0\",\"type\":\"CDSView\"}},\"id\":\"6eef9e85-5ac3-4427-80b2-c5c3776f423a\",\"type\":\"GlyphRenderer\"},{\"attributes\":{},\"id\":\"2de82bd3-5dcb-4fc1-8454-3a4cdbebbe45\",\"type\":\"LogScale\"},{\"attributes\":{\"bottom_units\":\"screen\",\"fill_alpha\":{\"value\":0.5},\"fill_color\":{\"value\":\"lightgrey\"},\"left_units\":\"screen\",\"level\":\"overlay\",\"line_alpha\":{\"value\":1.0},\"line_color\":{\"value\":\"black\"},\"line_dash\":[4,4],\"line_width\":{\"value\":2},\"plot\":null,\"render_mode\":\"css\",\"right_units\":\"screen\",\"top_units\":\"screen\"},\"id\":\"242c34f0-6a8d-465e-a405-daa1b5b0057d\",\"type\":\"BoxAnnotation\"},{\"attributes\":{},\"id\":\"ab016258-d2eb-431f-b212-b2ac953cdf29\",\"type\":\"BasicTickFormatter\"},{\"attributes\":{\"above\":[{\"id\":\"09a515a1-8c79-41f2-bfb8-2a6a2f3ad33c\",\"type\":\"Legend\"}],\"below\":[{\"id\":\"8e7fb88d-8093-4837-9947-d584c1bd7c83\",\"type\":\"LinearAxis\"}],\"left\":[{\"id\":\"315ae045-21bc-4aea-b1de-f47f471e59f9\",\"type\":\"LogAxis\"}],\"plot_width\":300,\"renderers\":[{\"id\":\"8e7fb88d-8093-4837-9947-d584c1bd7c83\",\"type\":\"LinearAxis\"},{\"id\":\"b2d95016-9b38-42bf-b7c0-5dfb57d74246\",\"type\":\"Grid\"},{\"id\":\"315ae045-21bc-4aea-b1de-f47f471e59f9\",\"type\":\"LogAxis\"},{\"id\":\"d2b5516d-68f0-468b-a38b-2c6639905831\",\"type\":\"Grid\"},{\"id\":\"435b8c9a-84cd-4848-8179-bf7b3b1e0e8f\",\"type\":\"BoxAnnotation\"},{\"id\":\"398f7c74-90f0-412b-b3f9-b661b8d4c17a\",\"type\":\"GlyphRenderer\"},{\"id\":\"b40b9372-2f66-4d90-8fbd-cf5696e2106a\",\"type\":\"GlyphRenderer\"},{\"id\":\"11b11031-2255-4233-99ca-558d9755f062\",\"type\":\"GlyphRenderer\"},{\"id\":\"46ac3ba5-ffa7-4855-9349-90b4e55857ac\",\"type\":\"GlyphRenderer\"},{\"id\":\"c8d5c0af-f448-4790-a1ed-a56bd36ce502\",\"type\":\"GlyphRenderer\"},{\"id\":\"09a515a1-8c79-41f2-bfb8-2a6a2f3ad33c\",\"type\":\"Legend\"}],\"title\":{\"id\":\"bc08fe02-47fe-4b01-9692-3c9c208043f9\",\"type\":\"Title\"},\"toolbar\":{\"id\":\"caa0d173-6113-4b44-b841-931a66244655\",\"type\":\"Toolbar\"},\"toolbar_location\":null,\"x_range\":{\"id\":\"85c01beb-2214-40fd-bf32-89aee07506db\",\"type\":\"Range1d\"},\"x_scale\":{\"id\":\"b80b19d6-3e9f-4b9d-ad71-d03b9e033fd9\",\"type\":\"LinearScale\"},\"y_range\":{\"id\":\"919a83ae-f1ce-4710-9d1e-cdcec33f5122\",\"type\":\"Range1d\"},\"y_scale\":{\"id\":\"2de82bd3-5dcb-4fc1-8454-3a4cdbebbe45\",\"type\":\"LogScale\"}},\"id\":\"ffc9f701-b0f0-4ffe-87d5-8235735c75b0\",\"subtype\":\"Figure\",\"type\":\"Plot\"},{\"attributes\":{},\"id\":\"bc96f980-a64b-4da5-a328-fcbecf4732f0\",\"type\":\"UnionRenderers\"},{\"attributes\":{},\"id\":\"f1afae29-96f6-4e9f-9d72-729f0e819cd3\",\"type\":\"ResetTool\"},{\"attributes\":{},\"id\":\"03d62a4d-7542-4781-8b3b-ddf2498228a8\",\"type\":\"UnionRenderers\"},{\"attributes\":{},\"id\":\"497c1855-b99a-433f-9f55-d54182cbf97d\",\"type\":\"Selection\"},{\"attributes\":{},\"id\":\"5da6dc2f-b547-4b77-a8d1-0a1e0123040a\",\"type\":\"HelpTool\"},{\"attributes\":{},\"id\":\"ca488c67-5d3f-4e14-8760-c01324ffc89f\",\"type\":\"Selection\"},{\"attributes\":{\"above\":[{\"id\":\"d02bcba0-10b0-4cdd-951a-09aa745e95f8\",\"type\":\"Legend\"}],\"below\":[{\"id\":\"439524a2-3aa1-4378-b35d-d37ea91bfd8a\",\"type\":\"LinearAxis\"}],\"left\":[{\"id\":\"200296dc-b47d-4dd1-953c-506e6cb83c95\",\"type\":\"LinearAxis\"}],\"plot_width\":300,\"renderers\":[{\"id\":\"439524a2-3aa1-4378-b35d-d37ea91bfd8a\",\"type\":\"LinearAxis\"},{\"id\":\"f828809c-d2df-45a7-b918-54b8fd1ba68b\",\"type\":\"Grid\"},{\"id\":\"200296dc-b47d-4dd1-953c-506e6cb83c95\",\"type\":\"LinearAxis\"},{\"id\":\"f7dc4ce5-df26-4f06-94c1-7addc4350e36\",\"type\":\"Grid\"},{\"id\":\"ccf01192-7d37-4163-9d4f-9565974e3d1f\",\"type\":\"BoxAnnotation\"},{\"id\":\"6eef9e85-5ac3-4427-80b2-c5c3776f423a\",\"type\":\"GlyphRenderer\"},{\"id\":\"7951b8f8-47bb-4928-8ee6-9efc5a3731cd\",\"type\":\"GlyphRenderer\"},{\"id\":\"3c462e3f-2b62-49b2-bc4b-8507e02bce57\",\"type\":\"GlyphRenderer\"},{\"id\":\"c815c446-0c85-4428-8eac-3d13fb5cc52c\",\"type\":\"GlyphRenderer\"},{\"id\":\"5b68f0ad-2390-408c-a2b6-0b14575a034c\",\"type\":\"GlyphRenderer\"},{\"id\":\"d02bcba0-10b0-4cdd-951a-09aa745e95f8\",\"type\":\"Legend\"}],\"title\":{\"id\":\"89c2ccfb-dd5f-4746-922a-e4e3012439ed\",\"type\":\"Title\"},\"toolbar\":{\"id\":\"88bdfbcb-72b9-4ede-8703-c1b937db6a87\",\"type\":\"Toolbar\"},\"toolbar_location\":null,\"x_range\":{\"id\":\"8b73bad7-576b-4e67-a336-ea0a5d4d4912\",\"type\":\"Range1d\"},\"x_scale\":{\"id\":\"5fc89bd7-126c-46b9-bc84-1c7c7e9071bd\",\"type\":\"LinearScale\"},\"y_range\":{\"id\":\"0dddac27-6b2d-4972-ba5e-68b2c4c684dc\",\"type\":\"Range1d\"},\"y_scale\":{\"id\":\"3b58e25f-fafc-449c-9c2d-3af7c98a4b02\",\"type\":\"LinearScale\"}},\"id\":\"a1dd12f5-6b00-472c-9ace-25fceddc056d\",\"subtype\":\"Figure\",\"type\":\"Plot\"},{\"attributes\":{\"label\":{\"value\":\"old CLIRAD (H2012)\"},\"renderers\":[{\"id\":\"c815c446-0c85-4428-8eac-3d13fb5cc52c\",\"type\":\"GlyphRenderer\"},{\"id\":\"5b68f0ad-2390-408c-a2b6-0b14575a034c\",\"type\":\"GlyphRenderer\"}]},\"id\":\"c9784028-6974-4874-b025-c11a9f8bee28\",\"type\":\"LegendItem\"},{\"attributes\":{\"plot\":null,\"text\":\"\"},\"id\":\"89c2ccfb-dd5f-4746-922a-e4e3012439ed\",\"type\":\"Title\"},{\"attributes\":{},\"id\":\"2a2dccda-ef97-4d70-b26f-70c3c04f510e\",\"type\":\"UnionRenderers\"},{\"attributes\":{\"num_minor_ticks\":10},\"id\":\"8728084b-3bc6-4f0a-a522-ea38bac96196\",\"type\":\"LogTicker\"},{\"attributes\":{},\"id\":\"0ab81d41-9470-49ee-820e-b819eb5e0eac\",\"type\":\"BasicTickFormatter\"},{\"attributes\":{\"axis_label\":\"cooling rate [K/day]\",\"formatter\":{\"id\":\"8035a192-063a-41d3-a09a-c84357dc4eef\",\"type\":\"BasicTickFormatter\"},\"plot\":{\"id\":\"ffc9f701-b0f0-4ffe-87d5-8235735c75b0\",\"subtype\":\"Figure\",\"type\":\"Plot\"},\"ticker\":{\"id\":\"0043967a-b507-4f5e-8ea6-192213e74b6c\",\"type\":\"BasicTicker\"}},\"id\":\"8e7fb88d-8093-4837-9947-d584c1bd7c83\",\"type\":\"LinearAxis\"},{\"attributes\":{\"active_drag\":\"auto\",\"active_inspect\":\"auto\",\"active_scroll\":\"auto\",\"active_tap\":\"auto\",\"tools\":[{\"id\":\"299edeab-f28d-4eb4-be0c-caa14ebc562c\",\"type\":\"PanTool\"},{\"id\":\"bff2cb8a-5c70-4af6-b6c4-9dd611c6456d\",\"type\":\"WheelZoomTool\"},{\"id\":\"6718492e-f121-410f-b1b2-02f6428c0d46\",\"type\":\"BoxZoomTool\"},{\"id\":\"a90c46a3-f059-4098-8f80-3be95cf83b54\",\"type\":\"SaveTool\"},{\"id\":\"f1afae29-96f6-4e9f-9d72-729f0e819cd3\",\"type\":\"ResetTool\"},{\"id\":\"5da6dc2f-b547-4b77-a8d1-0a1e0123040a\",\"type\":\"HelpTool\"}]},\"id\":\"0bb2e2c4-7e2d-454f-8b8c-f4ee0270f708\",\"type\":\"Toolbar\"},{\"attributes\":{\"callback\":null,\"data\":{\"x\":{\"__ndarray__\":\"MXhf+wfXU0AZbvNjswdFQLQWsEQVdUFA5TlpnhT9QUB/x1dOYK05QImjxHmcEjZA9jYDSBB3L0AISPl4H6wqQBPuuwfAzyJAOcHprUZAIUB7WWpkesAXQJoT1Uq+ChVArO/8u0EXCkBgVNlshzgCQMeNQ+Nzu/I/POwv1Qzh+D9QxMRmcj8DQOrE7tC4mAxAQsLBRIlHEkAi4cPYoDEXQEeDpjRjzB1ASZ0GEfCuI0DVFj11sssnQOMiVKSMHyhAWRHvUxNoJEDo8cjD4g8gQLGGvR2NDRpAdpI3nV5oFECtyWH9Lp4QQIZQd9bvmwtAkshlnu1BBkBMysnQf1UAQHZJU/DYZ/c/HoEhV+G48T/rSm4vc/TmP3EgV4cD49g/xmy6+4w7zz+bEsjh3uDDPw5SRMRogKs/4GPKdPc1a78lazVXN1vCP/B84ODeUug/LOyxgXDV9z+/DBHyZAwAQAOIY+fy/QFAahF3XKCUAECV0GHvGsz+P+X4k4Nhvf0/RO/IqI98/T8rkW+v/zT9P59vGMDsAv0/zEX7plCY/D/E3siS8kj7P2yUMv+hDvs/RmrXDaYs+z+c9f5GCO36P58nVCbr7vo/Qus8hbcy/D+rD5hFMCf9P4t6dxofnPw/bRp4QYZ2/D/q8NNiN2b8P5YTVw9ESPw/l1Dy0X/K+j+WKih3ZdD5P2k8OYxHjvk/hceGh5N4+T8lpPahWSn5P6vJnePt4vY/UuhmxnXI9T8miFqdE+D0Pz7qfx5CR/Q/0khvq2US9D9LfVdHQGv0P9syeEmwYfg/\",\"dtype\":\"float64\",\"shape\":[75]},\"y\":{\"__ndarray__\":\"hLndy31yND/6fmq8dJNIP8n9DkWBPlE/aDum7souWD/b4a/JGvVgP9f34SAhymc/ZvM4DOavcD+z0M5pFmh3PxuC4zJuaoA/xjcUPlsHhz8uHAjJAiaQP9ieWRKgppY/oI7HDFTGnz+a5h2n6EimPzS6g9iZQq8/IuAQqtTstT9SSZ2AJsK+P4nS3uALk8U/ih9j7lpCzj+ASL99HTjVP4enV8oyxN0/ACL99nXg5D9fmEwVjErtPyUGgZVDi/Q/AiuHFtnO/D9OYhBYOTQEQPHSTWIQWAxA4XoUrkfhE0D8qfHSTeIbQMh2vp8ajyNArkfhehRuK0Bcj8L1KDwzQFyPwvUo/DpAPgrXo3DtQkDNzMzMzIxKQClcj8L1eFJAKVyPwvVoWECamZmZmVleQGZmZmZmJmJAAAAAAAAgZUCamZmZmRloQJqZmZmZEWtAmpmZmZkJbkCamZmZmYFwQGZmZmZm/nFAZmZmZmZ6c0BmZmZmZvZ0QDQzMzMzc3ZAAAAAAADwd0AAAAAAAGx5QAAAAAAA6HpAzMzMzMxkfEDMzMzMzOB9QM3MzMzMXH9AzczMzMxsgEAzMzMzMyuBQDMzMzMz6YFAMzMzMzOngkCamZmZmWWDQAAAAAAAJIRAAAAAAADihEAAAAAAAKCFQGZmZmZmXoZAzczMzMwch0DNzMzMzNqHQM3MzMzMmIhAMzMzMzNXiUCamZmZmRWKQAAAAAAA1IpAAAAAAACSi0AAAAAAAFCMQGZmZmZmDo1AzczMzMzMjUDNzMzMzIqOQM3MzMzMSI9A\",\"dtype\":\"float64\",\"shape\":[75]}},\"selected\":{\"id\":\"53543d06-63b1-4dc9-8eff-5151b5caae60\",\"type\":\"Selection\"},\"selection_policy\":{\"id\":\"1994d4de-3a50-459b-b42f-7e89f9dea3c8\",\"type\":\"UnionRenderers\"}},\"id\":\"7d6586e9-5b69-4e36-a1bd-0a4da535d72c\",\"type\":\"ColumnDataSource\"},{\"attributes\":{\"overlay\":{\"id\":\"242c34f0-6a8d-465e-a405-daa1b5b0057d\",\"type\":\"BoxAnnotation\"}},\"id\":\"6718492e-f121-410f-b1b2-02f6428c0d46\",\"type\":\"BoxZoomTool\"},{\"attributes\":{\"plot\":{\"id\":\"ffc9f701-b0f0-4ffe-87d5-8235735c75b0\",\"subtype\":\"Figure\",\"type\":\"Plot\"},\"ticker\":{\"id\":\"0043967a-b507-4f5e-8ea6-192213e74b6c\",\"type\":\"BasicTicker\"}},\"id\":\"b2d95016-9b38-42bf-b7c0-5dfb57d74246\",\"type\":\"Grid\"},{\"attributes\":{\"source\":{\"id\":\"36349046-fea3-4f65-a5c3-a045c56d7537\",\"type\":\"ColumnDataSource\"}},\"id\":\"b0121e0c-3c10-46eb-bd4f-87fab4c01ccb\",\"type\":\"CDSView\"},{\"attributes\":{},\"id\":\"f055ee84-f711-4e10-969d-d20f5bfe7ef9\",\"type\":\"BasicTicker\"},{\"attributes\":{},\"id\":\"63a9c106-0cd6-4c24-a92d-05cfc8a86a8e\",\"type\":\"PanTool\"},{\"attributes\":{\"axis_label\":\"cooling rate [K/day]\",\"formatter\":{\"id\":\"0ab81d41-9470-49ee-820e-b819eb5e0eac\",\"type\":\"BasicTickFormatter\"},\"plot\":{\"id\":\"a1dd12f5-6b00-472c-9ace-25fceddc056d\",\"subtype\":\"Figure\",\"type\":\"Plot\"},\"ticker\":{\"id\":\"31e78d09-3483-493e-bd14-0ff320ca9a40\",\"type\":\"BasicTicker\"}},\"id\":\"439524a2-3aa1-4378-b35d-d37ea91bfd8a\",\"type\":\"LinearAxis\"},{\"attributes\":{\"callback\":null,\"data\":{\"x\":{\"__ndarray__\":\"BPuz262hRUD1g8JaPelCQPv3GB6DuUFAhg9FhZ0aQECPbyNHiwQ8QCSvBVjNDzdAy9bjz2rKMUDQXb4lUMApQDN0Gfa/ByJA8AjV9PoiGkDvu/Wb+tQUQJNEiucRsBFAsa3lOeFADUDhK0qLUIoDQNecNFQA4PU/w6YRJ4F6+j/cyQIp9SkFQBnfiarrBwtAcdqW0EreEECn2/yDtxYWQOnQgo9N/x1AiMMZTXzXJECiemqEpdAqQMe+qpMoASpAZOTAdGBTJEDpikcZ2UogQIll6W7DZhtAe2VW3rIEFkAzgmpnkiQRQKjTvV/U0wtAcqqcYNj3B0DknV5JtLgCQA5W+W3q3fk/U1s+ID0e8T8pLRzymjHnP9ZKFUJPbts/aqtyISJGzD+VHlLEqyS/P1ZfYF91oKW/1GxCu/oByr/IoQS2hPiMv1c+mEtboec/qmtS8q9v9z/f3n8sRxAAQP8QrLPkkQFAtRAaAZkBAECF4DWAlDr+PxNqnleTGv0/cVcop6lk/D94GAULKDf8P72WjnwQVPw/mAC3f0ns+z8v+iIIYXL7PzXs/sc+CPs/Ng1AWee++j+G9FgNIor6PwvP/ew2ifo/R5p3mTOg+z+11Qym6oH8PxM5RUrhBP0/RPrJt4cE/T/3gFBJY2X8P/RN9QjXTvs/ZfiWDNwe+j93a/6AzAj5P9OJ6kfodvg//F85OJRG+D8Iz6J840H4P1Tl6OJQvvc/B+PtavWu9j9tXzMF2n31P5n0wBZekvQ/jB7OdFUa9D/ip0UTHE30P7qnJwNy9/o/\",\"dtype\":\"float64\",\"shape\":[75]},\"y\":{\"__ndarray__\":\"S/O/Q+51ND/Sv8nbtpRIP2vylNV0PVE/aTum7souWD/At0SJ8fVgPw3Iuahxymc/MSNhhJWvcD/bTfBN02d3P2zb5nxnaoA/CD5h5MAGhz8NmeH1TyaQP+zrCsc9p5Y/LbKd76fGnz/bLW5ISEmmPww9YvTcQq8/JV2OstnstT8Er5Y7M8G+P0c+r3jqkcU/5h99k6ZBzj88bCIzFzjVP4enV8oyxN0//yH99nXg5D8qOpLLf0jtP5kqGJXUifQ/c9cS8kHP/D+/DpwzojQEQIEmwoanVwxA4lgXt9HgE0BSSZ2AJuIbQAMJih9jjiNA5q4l5INuK0AwTKYKRj0zQNv5fmq8/DpAaCJseHrtQkB/+zpwzoxKQM3MzMzMeFJAZmZmZmZqWEAAAAAAAFxeQM3MzMzMJmJAmpmZmZkfZUBmZmZmZhhoQDMzMzMzEWtAAAAAAAAKbkBmZmZmZoFwQM3MzMzM/XFAMzMzMzN6c0CamZmZmfZ0QAAAAAAAc3ZAZmZmZmbvd0DNzMzMzGt5QDMzMzMz6HpAmpmZmZlkfEAAAAAAAOF9QGZmZmZmXX9AZmZmZuZsgECamZmZGSuBQM3MzMxM6YFAAAAAAICngkAzMzMzs2WDQGZmZmbmI4RAmpmZmRnihEDNzMzMTKCFQAAAAACAXoZAMzMzM7Mch0BmZmZm5tqHQJqZmZkZmYhAzczMzExXiUAAAAAAgBWKQDMzMzOz04pAZmZmZuaRi0CamZmZGVCMQM3MzMxMDo1AAAAAAIDMjUAzMzMzs4qOQGZmZmbmSI9A\",\"dtype\":\"float64\",\"shape\":[75]}},\"selected\":{\"id\":\"8b7d3e65-bffe-467d-9d80-65e38cb65641\",\"type\":\"Selection\"},\"selection_policy\":{\"id\":\"d6af3496-779c-40d5-882a-e02366669c02\",\"type\":\"UnionRenderers\"}},\"id\":\"7ec84ebb-a3ac-4ada-ac3d-372671870e6b\",\"type\":\"ColumnDataSource\"},{\"attributes\":{},\"id\":\"299edeab-f28d-4eb4-be0c-caa14ebc562c\",\"type\":\"PanTool\"},{\"attributes\":{\"overlay\":{\"id\":\"435b8c9a-84cd-4848-8179-bf7b3b1e0e8f\",\"type\":\"BoxAnnotation\"}},\"id\":\"1d8d754f-a3e0-462d-bf5c-81cd9054f986\",\"type\":\"BoxZoomTool\"},{\"attributes\":{\"callback\":null,\"data\":{\"x\":{\"__ndarray__\":\"cm1sTMT3VEDEyvjosEJHQOKI6DjzCUNArgQWV9awPkB9Lm8XG3M4QEz+Qv6iYzNA7eV8HaPLLkCX1QHyTpMoQFBmYSYetiNAUB04GtGpH0AmFyVE5j8ZQJca9QPGqBNALJP+OOHHDEBNxaf7QF8AQKtislomWuw/cW2dcO6A9T/uJJvfPu0EQIaQLTI/JQ1AxGiII+PmEkCJvfVeuCsYQD6ZBhGbHB9AXQw69DTYJEAsubcwKucqQNuT9D5OmipAJyi3szEJJUBlNebh5WkgQDDcPHBr2xlArtlANXuQFEBdJadFHckQQI2Avh0ZsQtAjYiwt1rsBUCL0SDoVBgAQK6C0nEEjvc/CggLSme58T9sXU2orFPnP0v0JYz9Gdg/vT38vxYczD9nBQTe6kHHP1IhkEXJwKo/8OZnhCVAub+xtVgCpmqzP6DUpY6g0+k/PKK3T1h4+D8RTDjQc1EAQG/dAQs7TwJAQt2eHpPLAEBWEh074x//PyCap9ZSGf4/rEzaTySm/T+7aXhHRmr9P688KeqeNP0/ruZ4EemD/D8olrZcn9T7P0+vNc9hW/s/i9VVL+4P+z+0NzC24uz6P8731Kza8vo/xFf4SHzq+z+gYyHpvHb8P68ROkiFevw/BAjYdCga/D8AUp8VbW77P3JrF/nKmvo/qCQeGfq++T/dplwHJfn4P2G4p+Uva/g/OzZ0RqMZ+D8dmn/iar73P/OuA7Ka8PY/gaaeQHGn9T9hkyjAH1L0P3aZGhdAU/M/n8VP/g7P8j+90HxHNvfyPwhNBtgrqvk/\",\"dtype\":\"float64\",\"shape\":[75]},\"y\":{\"__ndarray__\":\"GhExyth1ND/Sv8nbtpRIP2vylNV0PVE/aTum7souWD/At0SJ8fVgPw3Iuahxymc/MSNhhJWvcD/bTfBN02d3P2zb5nxnaoA/CD5h5MAGhz8NmeH1TyaQP+zrCsc9p5Y/LbKd76fGnz/bLW5ISEmmPww9YvTcQq8/JV2OstnstT8Er5Y7M8G+P0c+r3jqkcU/5h99k6ZBzj88bCIzFzjVP4enV8oyxN0//yH99nXg5D8qOpLLf0jtP5kqGJXUifQ/c9cS8kHP/D+/DpwzojQEQIEmwoanVwxA4lgXt9HgE0BSSZ2AJuIbQAMJih9jjiNA5q4l5INuK0AwTKYKRj0zQNv5fmq8/DpAaCJseHrtQkB/+zpwzoxKQM3MzMzMeFJAZmZmZmZqWEAAAAAAAFxeQM3MzMzMJmJAmpmZmZkfZUBmZmZmZhhoQDMzMzMzEWtAAAAAAAAKbkBmZmZmZoFwQM3MzMzM/XFAMzMzMzN6c0CamZmZmfZ0QAAAAAAAc3ZAZmZmZmbvd0DNzMzMzGt5QDMzMzMz6HpAmpmZmZlkfEAAAAAAAOF9QGZmZmZmXX9AZmZmZuZsgECamZmZGSuBQM3MzMxM6YFAAAAAAICngkAzMzMzs2WDQGZmZmbmI4RAmpmZmRnihEDNzMzMTKCFQAAAAACAXoZAMzMzM7Mch0BmZmZm5tqHQJqZmZkZmYhAzczMzExXiUAAAAAAgBWKQDMzMzOz04pAZmZmZuaRi0CamZmZGVCMQM3MzMxMDo1AAAAAAIDMjUAzMzMzs4qOQGZmZmbmSI9A\",\"dtype\":\"float64\",\"shape\":[75]}},\"selected\":{\"id\":\"7f0d1a82-4d9c-44fa-8823-3c3c34538275\",\"type\":\"Selection\"},\"selection_policy\":{\"id\":\"47c69c44-59f1-4f5c-b41a-fa35aed82aa5\",\"type\":\"UnionRenderers\"}},\"id\":\"16fdac1d-e084-4b8a-a162-6b264f6c1dc2\",\"type\":\"ColumnDataSource\"},{\"attributes\":{\"children\":[{\"id\":\"69d19faa-527d-4f9e-a4ba-beee69718559\",\"type\":\"ToolbarBox\"},{\"id\":\"ac95fcb1-cb17-4529-bda8-cf05492f3d8d\",\"type\":\"Column\"}]},\"id\":\"5fb1fe64-4882-4829-a41c-c4f83a3d9506\",\"type\":\"Column\"},{\"attributes\":{},\"id\":\"bff2cb8a-5c70-4af6-b6c4-9dd611c6456d\",\"type\":\"WheelZoomTool\"},{\"attributes\":{\"line_alpha\":0.1,\"line_color\":\"#1f77b4\",\"line_width\":1.5,\"x\":{\"field\":\"x\"},\"y\":{\"field\":\"y\"}},\"id\":\"f780a1a2-8e21-4d8a-9911-879edbec16c9\",\"type\":\"Line\"},{\"attributes\":{\"data_source\":{\"id\":\"16fdac1d-e084-4b8a-a162-6b264f6c1dc2\",\"type\":\"ColumnDataSource\"},\"glyph\":{\"id\":\"bb11a621-9b4b-4899-8b2b-ca65c19b704a\",\"type\":\"Line\"},\"hover_glyph\":null,\"muted_glyph\":null,\"nonselection_glyph\":{\"id\":\"f780a1a2-8e21-4d8a-9911-879edbec16c9\",\"type\":\"Line\"},\"selection_glyph\":null,\"view\":{\"id\":\"56025205-4002-4bba-97f5-011f490979ba\",\"type\":\"CDSView\"}},\"id\":\"3c462e3f-2b62-49b2-bc4b-8507e02bce57\",\"type\":\"GlyphRenderer\"},{\"attributes\":{\"data_source\":{\"id\":\"7d6586e9-5b69-4e36-a1bd-0a4da535d72c\",\"type\":\"ColumnDataSource\"},\"glyph\":{\"id\":\"dcc84d33-4862-4d4e-8db6-97b4f47d02d5\",\"type\":\"Square\"},\"hover_glyph\":null,\"muted_glyph\":null,\"nonselection_glyph\":{\"id\":\"83de6de6-b91c-4c2c-8efa-60ade6d3aa05\",\"type\":\"Square\"},\"selection_glyph\":null,\"view\":{\"id\":\"e35da010-d87e-49aa-93a9-6b431d19d0b9\",\"type\":\"CDSView\"}},\"id\":\"c815c446-0c85-4428-8eac-3d13fb5cc52c\",\"type\":\"GlyphRenderer\"},{\"attributes\":{\"axis_label\":\"pressure [mb]\",\"formatter\":{\"id\":\"ce7c2c03-6ada-408f-a44b-1692c0216488\",\"type\":\"LogTickFormatter\"},\"plot\":{\"id\":\"ffc9f701-b0f0-4ffe-87d5-8235735c75b0\",\"subtype\":\"Figure\",\"type\":\"Plot\"},\"ticker\":{\"id\":\"47efafc8-b219-406c-8bcc-33a41759fa12\",\"type\":\"LogTicker\"}},\"id\":\"315ae045-21bc-4aea-b1de-f47f471e59f9\",\"type\":\"LogAxis\"},{\"attributes\":{},\"id\":\"a90c46a3-f059-4098-8f80-3be95cf83b54\",\"type\":\"SaveTool\"},{\"attributes\":{\"source\":{\"id\":\"7d6586e9-5b69-4e36-a1bd-0a4da535d72c\",\"type\":\"ColumnDataSource\"}},\"id\":\"e35da010-d87e-49aa-93a9-6b431d19d0b9\",\"type\":\"CDSView\"},{\"attributes\":{},\"id\":\"55ab03b4-18e8-4b7e-9ffe-4fe2ed145fff\",\"type\":\"SaveTool\"},{\"attributes\":{\"fill_alpha\":{\"value\":0.1},\"fill_color\":{\"value\":\"#1f77b4\"},\"line_alpha\":{\"value\":0.1},\"line_color\":{\"value\":\"#1f77b4\"},\"x\":{\"field\":\"x\"},\"y\":{\"field\":\"y\"}},\"id\":\"83de6de6-b91c-4c2c-8efa-60ade6d3aa05\",\"type\":\"Square\"},{\"attributes\":{\"line_alpha\":0.1,\"line_color\":\"#1f77b4\",\"line_width\":1.5,\"x\":{\"field\":\"x\"},\"y\":{\"field\":\"y\"}},\"id\":\"3790d172-b668-4700-b0dd-bc03fd85b322\",\"type\":\"Line\"},{\"attributes\":{},\"id\":\"4b8e99db-0ccf-48d1-bec4-080b2d23ad9f\",\"type\":\"WheelZoomTool\"},{\"attributes\":{\"fill_alpha\":{\"value\":0.7},\"fill_color\":{\"value\":\"#984ea3\"},\"line_alpha\":{\"value\":0.7},\"line_color\":{\"value\":\"#984ea3\"},\"x\":{\"field\":\"x\"},\"y\":{\"field\":\"y\"}},\"id\":\"dcc84d33-4862-4d4e-8db6-97b4f47d02d5\",\"type\":\"Square\"},{\"attributes\":{\"data_source\":{\"id\":\"7ec84ebb-a3ac-4ada-ac3d-372671870e6b\",\"type\":\"ColumnDataSource\"},\"glyph\":{\"id\":\"b844b1c1-acc4-4ef2-9fe3-878d502a98ca\",\"type\":\"Line\"},\"hover_glyph\":null,\"muted_glyph\":null,\"nonselection_glyph\":{\"id\":\"ced3926c-3ab1-4bdb-9b3f-9504cd84a93a\",\"type\":\"Line\"},\"selection_glyph\":null,\"view\":{\"id\":\"79acfec1-0526-427d-91a3-759df60dc589\",\"type\":\"CDSView\"}},\"id\":\"398f7c74-90f0-412b-b3f9-b661b8d4c17a\",\"type\":\"GlyphRenderer\"},{\"attributes\":{\"data_source\":{\"id\":\"36349046-fea3-4f65-a5c3-a045c56d7537\",\"type\":\"ColumnDataSource\"},\"glyph\":{\"id\":\"04cd08dd-1452-480d-8e74-f3f54ed340f0\",\"type\":\"Circle\"},\"hover_glyph\":null,\"muted_glyph\":null,\"nonselection_glyph\":{\"id\":\"c1f351e1-554f-4ed4-a1ff-68fc58b61942\",\"type\":\"Circle\"},\"selection_glyph\":null,\"view\":{\"id\":\"b0121e0c-3c10-46eb-bd4f-87fab4c01ccb\",\"type\":\"CDSView\"}},\"id\":\"7951b8f8-47bb-4928-8ee6-9efc5a3731cd\",\"type\":\"GlyphRenderer\"},{\"attributes\":{\"dimension\":1,\"plot\":{\"id\":\"ffc9f701-b0f0-4ffe-87d5-8235735c75b0\",\"subtype\":\"Figure\",\"type\":\"Plot\"},\"ticker\":{\"id\":\"47efafc8-b219-406c-8bcc-33a41759fa12\",\"type\":\"LogTicker\"}},\"id\":\"d2b5516d-68f0-468b-a38b-2c6639905831\",\"type\":\"Grid\"},{\"attributes\":{\"callback\":null,\"data\":{\"x\":{\"__ndarray__\":\"MXhf+wfXU0AZbvNjswdFQLQWsEQVdUFA5TlpnhT9QUB/x1dOYK05QImjxHmcEjZA9jYDSBB3L0AISPl4H6wqQBPuuwfAzyJAOcHprUZAIUB7WWpkesAXQJoT1Uq+ChVArO/8u0EXCkBgVNlshzgCQMeNQ+Nzu/I/POwv1Qzh+D9QxMRmcj8DQOrE7tC4mAxAQsLBRIlHEkAi4cPYoDEXQEeDpjRjzB1ASZ0GEfCuI0DVFj11sssnQOMiVKSMHyhAWRHvUxNoJEDo8cjD4g8gQLGGvR2NDRpAdpI3nV5oFECtyWH9Lp4QQIZQd9bvmwtAkshlnu1BBkBMysnQf1UAQHZJU/DYZ/c/HoEhV+G48T/rSm4vc/TmP3EgV4cD49g/xmy6+4w7zz+bEsjh3uDDPw5SRMRogKs/4GPKdPc1a78lazVXN1vCP/B84ODeUug/LOyxgXDV9z+/DBHyZAwAQAOIY+fy/QFAahF3XKCUAECV0GHvGsz+P+X4k4Nhvf0/RO/IqI98/T8rkW+v/zT9P59vGMDsAv0/zEX7plCY/D/E3siS8kj7P2yUMv+hDvs/RmrXDaYs+z+c9f5GCO36P58nVCbr7vo/Qus8hbcy/D+rD5hFMCf9P4t6dxofnPw/bRp4QYZ2/D/q8NNiN2b8P5YTVw9ESPw/l1Dy0X/K+j+WKih3ZdD5P2k8OYxHjvk/hceGh5N4+T8lpPahWSn5P6vJnePt4vY/UuhmxnXI9T8miFqdE+D0Pz7qfx5CR/Q/0khvq2US9D9LfVdHQGv0P9syeEmwYfg/\",\"dtype\":\"float64\",\"shape\":[75]},\"y\":{\"__ndarray__\":\"hLndy31yND/6fmq8dJNIP8n9DkWBPlE/aDum7souWD/b4a/JGvVgP9f34SAhymc/ZvM4DOavcD+z0M5pFmh3PxuC4zJuaoA/xjcUPlsHhz8uHAjJAiaQP9ieWRKgppY/oI7HDFTGnz+a5h2n6EimPzS6g9iZQq8/IuAQqtTstT9SSZ2AJsK+P4nS3uALk8U/ih9j7lpCzj+ASL99HTjVP4enV8oyxN0/ACL99nXg5D9fmEwVjErtPyUGgZVDi/Q/AiuHFtnO/D9OYhBYOTQEQPHSTWIQWAxA4XoUrkfhE0D8qfHSTeIbQMh2vp8ajyNArkfhehRuK0Bcj8L1KDwzQFyPwvUo/DpAPgrXo3DtQkDNzMzMzIxKQClcj8L1eFJAKVyPwvVoWECamZmZmVleQGZmZmZmJmJAAAAAAAAgZUCamZmZmRloQJqZmZmZEWtAmpmZmZkJbkCamZmZmYFwQGZmZmZm/nFAZmZmZmZ6c0BmZmZmZvZ0QDQzMzMzc3ZAAAAAAADwd0AAAAAAAGx5QAAAAAAA6HpAzMzMzMxkfEDMzMzMzOB9QM3MzMzMXH9AzczMzMxsgEAzMzMzMyuBQDMzMzMz6YFAMzMzMzOngkCamZmZmWWDQAAAAAAAJIRAAAAAAADihEAAAAAAAKCFQGZmZmZmXoZAzczMzMwch0DNzMzMzNqHQM3MzMzMmIhAMzMzMzNXiUCamZmZmRWKQAAAAAAA1IpAAAAAAACSi0AAAAAAAFCMQGZmZmZmDo1AzczMzMzMjUDNzMzMzIqOQM3MzMzMSI9A\",\"dtype\":\"float64\",\"shape\":[75]}},\"selected\":{\"id\":\"3d48d5b1-9a55-487f-a242-63f31c9b9bee\",\"type\":\"Selection\"},\"selection_policy\":{\"id\":\"b314efbc-2bf0-4387-90c0-4cd9c4ad5cec\",\"type\":\"UnionRenderers\"}},\"id\":\"892c3b4c-bcc8-44de-a2c7-71e792a6140f\",\"type\":\"ColumnDataSource\"},{\"attributes\":{\"active_drag\":\"auto\",\"active_inspect\":\"auto\",\"active_scroll\":\"auto\",\"active_tap\":\"auto\",\"tools\":[{\"id\":\"961d69ed-d71d-46be-b57d-aec61aaa5e9d\",\"type\":\"PanTool\"},{\"id\":\"73616186-a83a-4961-aa4a-39d51c64f46c\",\"type\":\"WheelZoomTool\"},{\"id\":\"5fb0a029-5f87-4115-9e1e-d339f752319d\",\"type\":\"BoxZoomTool\"},{\"id\":\"e0e48161-0a6d-4299-a019-844822f35ffa\",\"type\":\"SaveTool\"},{\"id\":\"481025ca-3a04-4b0c-82c6-ea94317b19d3\",\"type\":\"ResetTool\"},{\"id\":\"3fc2036a-ea15-4132-9c64-15a5bd0fb1ee\",\"type\":\"HelpTool\"}]},\"id\":\"88bdfbcb-72b9-4ede-8703-c1b937db6a87\",\"type\":\"Toolbar\"},{\"attributes\":{\"num_minor_ticks\":10},\"id\":\"47efafc8-b219-406c-8bcc-33a41759fa12\",\"type\":\"LogTicker\"},{\"attributes\":{\"dimension\":1,\"plot\":{\"id\":\"a1dd12f5-6b00-472c-9ace-25fceddc056d\",\"subtype\":\"Figure\",\"type\":\"Plot\"},\"ticker\":{\"id\":\"f055ee84-f711-4e10-969d-d20f5bfe7ef9\",\"type\":\"BasicTicker\"}},\"id\":\"f7dc4ce5-df26-4f06-94c1-7addc4350e36\",\"type\":\"Grid\"},{\"attributes\":{\"line_color\":\"#4daf4a\",\"line_width\":1.5,\"x\":{\"field\":\"x\"},\"y\":{\"field\":\"y\"}},\"id\":\"bb11a621-9b4b-4899-8b2b-ca65c19b704a\",\"type\":\"Line\"},{\"attributes\":{\"callback\":null,\"data\":{\"x\":{\"__ndarray__\":\"PBvZOM5lIcCJDvmsAQcFwOmlQTdLRvg/kAiifYGLDEDLhhXOUmENQKAeKwnKJANAgoPIOxPQ4j/SIX8E4+Xqv4FRjJVYG/a/1Gy9oK6r8b9JYK3GQYvfv12hxjkAQK4/pDQTfXxY2T8Grm2btMveP0Xl0NlK5tM/4nbSsyRbnj94ix09nOrQv5dyjJfCROC/Eg/H1wao4L8+hTwY2NTRv2C1GgnkFFe/OIw+TayEpr+SojpptSTTvz54yN4nuta/+nuqnsgMr7+ilcjqf7XYP+G8WJF6Q9c/jzXXcEjdtj/Yjan/oF2RPy8PYUftW9A/x2LuCfsC1T/4mjbhL3/CPw+XlTlFZaO/zCCYGNsIcb9QtHqvjaKqP+zWNruwBVU/athr71O+rr9WQHhSnzC4v7vyHPLPw7q/6UkZmbYJt79QsmwYKpKxv0RpU9aFirC/cEwb7ihLoL+0jbnqyqq3v2+RmbBDP7m/fDrmXNeprL+YASbh79evv5VTH4uqF7S/VBQ1x+Mxs781vlSzzRGsv5XCPDjy86K/hf7mJJWPmL+SxrDNwciUvwsVcoW1QZS/5MrQNSqwmL+1MMr172iav3RfL+ArkpK/vDDk1nlbZj9w7GRBgEuhP9ZHPl7oS60/DN8ldsberj8yULz7gYGmP4jvNN58+Jc/2DWJQ/NObz+Q46KFxHBnP0TglOJ4eIY/gp1mRBNvoD8vzKYcxrapP2zI86RCeLA/vsCsUKS7sj8WsmX63/GzP9qO5WdntLQ/QnKNvFxetT8nqxWyYtS0Pw==\",\"dtype\":\"float64\",\"shape\":[74]},\"y\":{\"__ndarray__\":\"0r/J27aUSD9r8pTVdD1RP2k7pu7KLlg/wLdEifH1YD8NyLmoccpnPzEjYYSVr3A/203wTdNndz9s2+Z8Z2qAPwg+YeTABoc/DZnh9U8mkD/s6wrHPaeWPy2yne+nxp8/2y1uSEhJpj8MPWL03EKvPyVdjrLZ7LU/BK+WOzPBvj9HPq946pHFP+YffZOmQc4/PGwiMxc41T+Hp1fKMsTdP/8h/fZ14OQ/KjqSy39I7T+ZKhiV1In0P3PXEvJBz/w/vw6cM6I0BECBJsKGp1cMQOJYF7fR4BNAUkmdgCbiG0ADCYofY44jQOauJeSDbitAMEymCkY9M0Db+X5qvPw6QGgibHh67UJAf/s6cM6MSkDNzMzMzHhSQGZmZmZmalhAAAAAAABcXkDNzMzMzCZiQJqZmZmZH2VAZmZmZmYYaEAzMzMzMxFrQAAAAAAACm5AZmZmZmaBcEDNzMzMzP1xQDMzMzMzenNAmpmZmZn2dEAAAAAAAHN2QGZmZmZm73dAzczMzMxreUAzMzMzM+h6QJqZmZmZZHxAAAAAAADhfUBmZmZmZl1/QGZmZmbmbIBAmpmZmRkrgUDNzMzMTOmBQAAAAACAp4JAMzMzM7Nlg0BmZmZm5iOEQJqZmZkZ4oRAzczMzEyghUAAAAAAgF6GQDMzMzOzHIdAZmZmZubah0CamZmZGZmIQM3MzMxMV4lAAAAAAIAVikAzMzMzs9OKQGZmZmbmkYtAmpmZmRlQjEDNzMzMTA6NQAAAAACAzI1AMzMzM7OKjkBmZmZm5kiPQA==\",\"dtype\":\"float64\",\"shape\":[74]}},\"selected\":{\"id\":\"797f768c-bb86-4a12-b593-6b5b77c174ae\",\"type\":\"Selection\"},\"selection_policy\":{\"id\":\"46c57b6e-7921-41ae-8538-136af2aef86d\",\"type\":\"UnionRenderers\"}},\"id\":\"2057199b-d1c8-4332-ab62-c955269331d1\",\"type\":\"ColumnDataSource\"},{\"attributes\":{\"source\":{\"id\":\"16fdac1d-e084-4b8a-a162-6b264f6c1dc2\",\"type\":\"ColumnDataSource\"}},\"id\":\"56025205-4002-4bba-97f5-011f490979ba\",\"type\":\"CDSView\"},{\"attributes\":{\"fill_alpha\":{\"value\":0.1},\"fill_color\":{\"value\":\"#1f77b4\"},\"line_alpha\":{\"value\":0.1},\"line_color\":{\"value\":\"#1f77b4\"},\"x\":{\"field\":\"x\"},\"y\":{\"field\":\"y\"}},\"id\":\"c1f351e1-554f-4ed4-a1ff-68fc58b61942\",\"type\":\"Circle\"},{\"attributes\":{\"fill_alpha\":{\"value\":0.7},\"fill_color\":{\"value\":\"#4daf4a\"},\"line_alpha\":{\"value\":0.7},\"line_color\":{\"value\":\"#4daf4a\"},\"x\":{\"field\":\"x\"},\"y\":{\"field\":\"y\"}},\"id\":\"04cd08dd-1452-480d-8e74-f3f54ed340f0\",\"type\":\"Circle\"}],\"root_ids\":[\"5fb1fe64-4882-4829-a41c-c4f83a3d9506\"]},\"title\":\"Bokeh Application\",\"version\":\"0.12.16\"}};\n",
       "  var render_items = [{\"docid\":\"c52e8099-7ffd-4688-971b-478b4accb1b9\",\"elementid\":\"628307e5-1296-4ae2-9122-510c2919c0d5\",\"modelid\":\"5fb1fe64-4882-4829-a41c-c4f83a3d9506\"}];\n",
       "  root.Bokeh.embed.embed_items_notebook(docs_json, render_items);\n",
       "\n",
       "  }\n",
       "  if (root.Bokeh !== undefined) {\n",
       "    embed_document(root);\n",
       "  } else {\n",
       "    var attempts = 0;\n",
       "    var timer = setInterval(function(root) {\n",
       "      if (root.Bokeh !== undefined) {\n",
       "        embed_document(root);\n",
       "        clearInterval(timer);\n",
       "      }\n",
       "      attempts++;\n",
       "      if (attempts > 100) {\n",
       "        console.log(\"Bokeh: ERROR: Unable to run BokehJS code because BokehJS library is missing\")\n",
       "        clearInterval(timer);\n",
       "      }\n",
       "    }, 10, root)\n",
       "  }\n",
       "})(window);"
      ],
      "application/vnd.bokehjs_exec.v0+json": ""
     },
     "metadata": {
      "application/vnd.bokehjs_exec.v0+json": {
       "id": "5fb1fe64-4882-4829-a41c-c4f83a3d9506"
      }
     },
     "output_type": "display_data"
    },
    {
     "data": {
      "text/markdown": [
       "*FIGURE.* Cooling rates & difference."
      ],
      "text/plain": [
       "<IPython.core.display.Markdown object>"
      ]
     },
     "metadata": {},
     "output_type": "display_data"
    },
    {
     "data": {
      "text/html": [
       "<a id=\"Fluxes._mls.\"></a>"
      ],
      "text/plain": [
       "<IPython.core.display.HTML object>"
      ]
     },
     "metadata": {},
     "output_type": "display_data"
    },
    {
     "data": {
      "text/markdown": [
       "# Fluxes. mls."
      ],
      "text/plain": [
       "<IPython.core.display.Markdown object>"
      ]
     },
     "metadata": {},
     "output_type": "display_data"
    },
    {
     "data": {
      "text/html": [
       "\n",
       "<div class=\"bk-root\">\n",
       "    <div class=\"bk-plotdiv\" id=\"648e5c68-fefc-4190-8ce6-20c927e87792\"></div>\n",
       "</div>"
      ]
     },
     "metadata": {},
     "output_type": "display_data"
    },
    {
     "data": {
      "application/javascript": [
       "(function(root) {\n",
       "  function embed_document(root) {\n",
       "    \n",
       "  var docs_json = {\"bbda8621-e349-4d78-820b-700442d1e313\":{\"roots\":{\"references\":[{\"attributes\":{\"overlay\":{\"id\":\"d6c9973b-7823-4966-80cb-ab8c26b8694e\",\"type\":\"BoxAnnotation\"}},\"id\":\"2aca8629-ccdf-4c15-96dd-dad7815c4360\",\"type\":\"BoxZoomTool\"},{\"attributes\":{\"plot\":{\"id\":\"6f4cffd2-b270-4216-b371-9ed3f4fa4d8b\",\"subtype\":\"Figure\",\"type\":\"Plot\"},\"ticker\":{\"id\":\"06d00afb-efa3-4ab9-accf-bc281ebad6b4\",\"type\":\"CategoricalTicker\"}},\"id\":\"443080a5-5cbb-4a17-a535-aa08457e79bb\",\"type\":\"Grid\"},{\"attributes\":{\"plot\":{\"id\":\"cd51918b-a234-446b-a061-60d679a1cf62\",\"subtype\":\"Figure\",\"type\":\"Plot\"},\"ticker\":{\"id\":\"d066eba8-ba3f-4dde-897b-872ecf1bac9e\",\"type\":\"CategoricalTicker\"}},\"id\":\"b625273d-fda9-4671-98a0-aca007c85232\",\"type\":\"Grid\"},{\"attributes\":{\"dimension\":1,\"plot\":{\"id\":\"6f4cffd2-b270-4216-b371-9ed3f4fa4d8b\",\"subtype\":\"Figure\",\"type\":\"Plot\"},\"ticker\":{\"id\":\"1b7a7f4e-d458-4365-94b1-1461716deaf2\",\"type\":\"BasicTicker\"}},\"id\":\"347339bb-8745-4248-9937-856e569e451b\",\"type\":\"Grid\"},{\"attributes\":{\"callback\":null},\"id\":\"5a008795-0732-4bda-9065-67e9da257de8\",\"type\":\"DataRange1d\"},{\"attributes\":{},\"id\":\"80df7e28-fdac-4a8b-8ea5-69915929281a\",\"type\":\"CategoricalScale\"},{\"attributes\":{\"fill_alpha\":{\"value\":0.1},\"fill_color\":{\"value\":\"#1f77b4\"},\"line_alpha\":{\"value\":0.1},\"line_color\":{\"value\":\"#1f77b4\"},\"top\":{\"field\":\"flux\"},\"width\":{\"value\":0.9},\"x\":{\"field\":\"band\"}},\"id\":\"4afb7943-4409-412d-a096-dfb9402c3717\",\"type\":\"VBar\"},{\"attributes\":{\"children\":[{\"id\":\"468c89b8-6f89-40e6-9068-848dd5ebe9d7\",\"type\":\"Row\"}]},\"id\":\"b3ffbb70-3d4d-484c-af01-a9a32868dd3f\",\"type\":\"Column\"},{\"attributes\":{},\"id\":\"5187a89e-0c81-4920-a405-216e8c6b47f5\",\"type\":\"BasicTicker\"},{\"attributes\":{\"active_drag\":\"auto\",\"active_inspect\":\"auto\",\"active_scroll\":\"auto\",\"active_tap\":\"auto\",\"tools\":[{\"id\":\"8a5dc728-9131-4aa0-a9bd-0a924f678181\",\"type\":\"PanTool\"},{\"id\":\"5b808634-fc56-4f35-97f3-f42d03ca057e\",\"type\":\"WheelZoomTool\"},{\"id\":\"69f4c5b1-2f72-4c9a-ae58-34b290452006\",\"type\":\"BoxZoomTool\"},{\"id\":\"3a1652e3-4e09-4567-a383-93a03620f5e3\",\"type\":\"SaveTool\"},{\"id\":\"cad0b936-3554-42ed-b0d8-70599b59fe04\",\"type\":\"ResetTool\"},{\"id\":\"f786d801-ed02-4032-990a-5146e6a85de1\",\"type\":\"HelpTool\"}]},\"id\":\"4146884c-8b74-46dc-9925-ee8bba6c3103\",\"type\":\"Toolbar\"},{\"attributes\":{\"data_source\":{\"id\":\"f02c0829-5fe6-4b22-a595-ededa59031d8\",\"type\":\"ColumnDataSource\"},\"glyph\":{\"id\":\"6472edae-24fd-4293-938b-eed16d027432\",\"type\":\"VBar\"},\"hover_glyph\":null,\"muted_glyph\":null,\"nonselection_glyph\":{\"id\":\"4afb7943-4409-412d-a096-dfb9402c3717\",\"type\":\"VBar\"},\"selection_glyph\":null,\"view\":{\"id\":\"929c4948-e13f-4d23-9a5a-683d2bf33396\",\"type\":\"CDSView\"}},\"id\":\"5e47bb87-64f9-4460-b32f-a1f70c8773fe\",\"type\":\"GlyphRenderer\"},{\"attributes\":{\"children\":[{\"id\":\"62b11413-d70e-4429-95d5-e87015528631\",\"subtype\":\"Figure\",\"type\":\"Plot\"},{\"id\":\"cd51918b-a234-446b-a061-60d679a1cf62\",\"subtype\":\"Figure\",\"type\":\"Plot\"},{\"id\":\"6f4cffd2-b270-4216-b371-9ed3f4fa4d8b\",\"subtype\":\"Figure\",\"type\":\"Plot\"}]},\"id\":\"468c89b8-6f89-40e6-9068-848dd5ebe9d7\",\"type\":\"Row\"},{\"attributes\":{\"bottom_units\":\"screen\",\"fill_alpha\":{\"value\":0.5},\"fill_color\":{\"value\":\"lightgrey\"},\"left_units\":\"screen\",\"level\":\"overlay\",\"line_alpha\":{\"value\":1.0},\"line_color\":{\"value\":\"black\"},\"line_dash\":[4,4],\"line_width\":{\"value\":2},\"plot\":null,\"render_mode\":\"css\",\"right_units\":\"screen\",\"top_units\":\"screen\"},\"id\":\"c937b3c4-7f3d-4ecc-affc-6161dabc8a9d\",\"type\":\"BoxAnnotation\"},{\"attributes\":{},\"id\":\"b891f995-1d03-48f7-8fe6-e05389b41268\",\"type\":\"UnionRenderers\"},{\"attributes\":{},\"id\":\"c2676a73-8d3d-4219-9342-137551488b7a\",\"type\":\"PanTool\"},{\"attributes\":{\"fill_alpha\":{\"value\":0.1},\"fill_color\":{\"value\":\"#1f77b4\"},\"line_alpha\":{\"value\":0.1},\"line_color\":{\"value\":\"#1f77b4\"},\"top\":{\"field\":\"flux\"},\"width\":{\"value\":0.9},\"x\":{\"field\":\"band\"}},\"id\":\"7c7866e9-bf51-4f3f-9363-32c797160b66\",\"type\":\"VBar\"},{\"attributes\":{},\"id\":\"7d722cec-14cf-42e7-98f4-437605db653e\",\"type\":\"CategoricalTickFormatter\"},{\"attributes\":{},\"id\":\"9f2a3277-6cf2-4e62-adf3-d1153cf71465\",\"type\":\"CategoricalScale\"},{\"attributes\":{},\"id\":\"ab563d73-069c-414b-82e8-a0ec238020c0\",\"type\":\"CategoricalScale\"},{\"attributes\":{},\"id\":\"dd99e2e4-ce44-43be-bdcf-815d4aed6940\",\"type\":\"ResetTool\"},{\"attributes\":{\"callback\":null,\"factors\":[\"1\",\"2\",\"3\",\"4\",\"5\",\"6\",\"7\",\"8\",\"9\",\"10\",\"11\"]},\"id\":\"607fc54b-9403-4ba8-a688-d45a42d48c9a\",\"type\":\"FactorRange\"},{\"attributes\":{\"dimension\":1,\"plot\":{\"id\":\"cd51918b-a234-446b-a061-60d679a1cf62\",\"subtype\":\"Figure\",\"type\":\"Plot\"},\"ticker\":{\"id\":\"5187a89e-0c81-4920-a405-216e8c6b47f5\",\"type\":\"BasicTicker\"}},\"id\":\"94402d69-1387-4b00-b3eb-5720ca5ff67d\",\"type\":\"Grid\"},{\"attributes\":{},\"id\":\"0d8241a6-2d40-4d40-9593-cb3dc6a35d61\",\"type\":\"LinearScale\"},{\"attributes\":{\"fill_color\":{\"value\":\"#1f77b4\"},\"line_color\":{\"value\":\"#1f77b4\"},\"top\":{\"field\":\"flux\"},\"width\":{\"value\":0.9},\"x\":{\"field\":\"band\"}},\"id\":\"4689d234-65c9-4927-b0f6-d7b9d7319cc9\",\"type\":\"VBar\"},{\"attributes\":{\"plot\":null,\"text\":\"Atmosphere heating. CLIRAD (single-run) - CRD.\"},\"id\":\"de772747-071c-4010-87b4-83088b70015e\",\"type\":\"Title\"},{\"attributes\":{\"plot\":null,\"text\":\"TOA flux. CLIRAD (single-run) - CRD.\"},\"id\":\"239574ed-b820-48bf-ad9e-6ebb08611973\",\"type\":\"Title\"},{\"attributes\":{\"fill_color\":{\"value\":\"#1f77b4\"},\"line_color\":{\"value\":\"#1f77b4\"},\"top\":{\"field\":\"flux\"},\"width\":{\"value\":0.9},\"x\":{\"field\":\"band\"}},\"id\":\"6472edae-24fd-4293-938b-eed16d027432\",\"type\":\"VBar\"},{\"attributes\":{\"axis_label\":\"flux (W m-2)\",\"formatter\":{\"id\":\"a159fe32-4780-45ff-a13b-d42abd5e74b7\",\"type\":\"BasicTickFormatter\"},\"plot\":{\"id\":\"6f4cffd2-b270-4216-b371-9ed3f4fa4d8b\",\"subtype\":\"Figure\",\"type\":\"Plot\"},\"ticker\":{\"id\":\"1b7a7f4e-d458-4365-94b1-1461716deaf2\",\"type\":\"BasicTicker\"}},\"id\":\"5831aaf1-1f91-468b-80fe-eb708f89fcaa\",\"type\":\"LinearAxis\"},{\"attributes\":{\"bottom_units\":\"screen\",\"fill_alpha\":{\"value\":0.5},\"fill_color\":{\"value\":\"lightgrey\"},\"left_units\":\"screen\",\"level\":\"overlay\",\"line_alpha\":{\"value\":1.0},\"line_color\":{\"value\":\"black\"},\"line_dash\":[4,4],\"line_width\":{\"value\":2},\"plot\":null,\"render_mode\":\"css\",\"right_units\":\"screen\",\"top_units\":\"screen\"},\"id\":\"d6c9973b-7823-4966-80cb-ab8c26b8694e\",\"type\":\"BoxAnnotation\"},{\"attributes\":{\"callback\":null,\"factors\":[\"1\",\"2\",\"3\",\"4\",\"5\",\"6\",\"7\",\"8\",\"9\",\"10\",\"11\"]},\"id\":\"11e5e006-61a8-4c01-bc11-c5e061428859\",\"type\":\"FactorRange\"},{\"attributes\":{\"axis_label\":\"spectral band\",\"formatter\":{\"id\":\"a297d4c7-7d31-4e52-a793-848d0a6c5c97\",\"type\":\"CategoricalTickFormatter\"},\"plot\":{\"id\":\"cd51918b-a234-446b-a061-60d679a1cf62\",\"subtype\":\"Figure\",\"type\":\"Plot\"},\"ticker\":{\"id\":\"d066eba8-ba3f-4dde-897b-872ecf1bac9e\",\"type\":\"CategoricalTicker\"}},\"id\":\"30adb9b0-9743-4cf3-819a-3148a1335c09\",\"type\":\"CategoricalAxis\"},{\"attributes\":{\"callback\":null},\"id\":\"efac50bc-38b8-4c39-a8ca-61f5583b7b3d\",\"type\":\"DataRange1d\"},{\"attributes\":{\"source\":{\"id\":\"f02c0829-5fe6-4b22-a595-ededa59031d8\",\"type\":\"ColumnDataSource\"}},\"id\":\"929c4948-e13f-4d23-9a5a-683d2bf33396\",\"type\":\"CDSView\"},{\"attributes\":{\"data_source\":{\"id\":\"f0fc6f24-1d4b-4a96-aaa9-00989afe2c2c\",\"type\":\"ColumnDataSource\"},\"glyph\":{\"id\":\"4689d234-65c9-4927-b0f6-d7b9d7319cc9\",\"type\":\"VBar\"},\"hover_glyph\":null,\"muted_glyph\":null,\"nonselection_glyph\":{\"id\":\"7c7866e9-bf51-4f3f-9363-32c797160b66\",\"type\":\"VBar\"},\"selection_glyph\":null,\"view\":{\"id\":\"16e50faf-316b-4877-a78a-a2178a6fa500\",\"type\":\"CDSView\"}},\"id\":\"10a71d43-1f0c-44d2-9449-32bfe5aad925\",\"type\":\"GlyphRenderer\"},{\"attributes\":{\"axis_label\":\"spectral band\",\"formatter\":{\"id\":\"f5be42dd-9f3d-46b7-8c8b-45e34a4f7a9c\",\"type\":\"CategoricalTickFormatter\"},\"plot\":{\"id\":\"6f4cffd2-b270-4216-b371-9ed3f4fa4d8b\",\"subtype\":\"Figure\",\"type\":\"Plot\"},\"ticker\":{\"id\":\"06d00afb-efa3-4ab9-accf-bc281ebad6b4\",\"type\":\"CategoricalTicker\"}},\"id\":\"94cca2c9-3667-4b32-afaa-caacbcda44b8\",\"type\":\"CategoricalAxis\"},{\"attributes\":{},\"id\":\"487d6f93-a366-4a3b-bada-9dcc8ba73298\",\"type\":\"LinearScale\"},{\"attributes\":{},\"id\":\"1b7a7f4e-d458-4365-94b1-1461716deaf2\",\"type\":\"BasicTicker\"},{\"attributes\":{\"callback\":null,\"factors\":[\"1\",\"2\",\"3\",\"4\",\"5\",\"6\",\"7\",\"8\",\"9\",\"10\",\"11\"]},\"id\":\"3598094c-10e3-4df0-8d72-6996dbe0bca1\",\"type\":\"FactorRange\"},{\"attributes\":{\"callback\":null},\"id\":\"7d687166-e562-4617-a5b9-f7d98ca49dda\",\"type\":\"DataRange1d\"},{\"attributes\":{},\"id\":\"457619c6-0d9c-4b97-b384-c1b72fee6514\",\"type\":\"Selection\"},{\"attributes\":{\"tools\":[{\"id\":\"8a5dc728-9131-4aa0-a9bd-0a924f678181\",\"type\":\"PanTool\"},{\"id\":\"5b808634-fc56-4f35-97f3-f42d03ca057e\",\"type\":\"WheelZoomTool\"},{\"id\":\"69f4c5b1-2f72-4c9a-ae58-34b290452006\",\"type\":\"BoxZoomTool\"},{\"id\":\"3a1652e3-4e09-4567-a383-93a03620f5e3\",\"type\":\"SaveTool\"},{\"id\":\"cad0b936-3554-42ed-b0d8-70599b59fe04\",\"type\":\"ResetTool\"},{\"id\":\"f786d801-ed02-4032-990a-5146e6a85de1\",\"type\":\"HelpTool\"},{\"id\":\"b23d19ac-67a7-4798-9b11-548032ab6372\",\"type\":\"PanTool\"},{\"id\":\"293ed360-3ed2-416a-ac42-574b2db83480\",\"type\":\"WheelZoomTool\"},{\"id\":\"1579da35-5ff3-4873-bcc4-5c3b500f2c87\",\"type\":\"BoxZoomTool\"},{\"id\":\"3a57f0ab-2a74-4ff5-83b9-49f137f2d5ab\",\"type\":\"SaveTool\"},{\"id\":\"5659dccc-3b9f-41ec-9183-cd90e42892eb\",\"type\":\"ResetTool\"},{\"id\":\"8de508e0-cec9-44c2-81cf-798536d3a14c\",\"type\":\"HelpTool\"},{\"id\":\"c2676a73-8d3d-4219-9342-137551488b7a\",\"type\":\"PanTool\"},{\"id\":\"1da7c1af-2d99-4187-a8db-4ba63ba65250\",\"type\":\"WheelZoomTool\"},{\"id\":\"2aca8629-ccdf-4c15-96dd-dad7815c4360\",\"type\":\"BoxZoomTool\"},{\"id\":\"e44dd892-023f-47a5-82e5-42194dccdc95\",\"type\":\"SaveTool\"},{\"id\":\"dd99e2e4-ce44-43be-bdcf-815d4aed6940\",\"type\":\"ResetTool\"},{\"id\":\"6c9d2cc9-ac41-4f0e-8ea8-35f3734db9a7\",\"type\":\"HelpTool\"}]},\"id\":\"58f3bd33-6aa2-4844-bff0-5ba5bfefa82e\",\"type\":\"ProxyToolbar\"},{\"attributes\":{},\"id\":\"1da7c1af-2d99-4187-a8db-4ba63ba65250\",\"type\":\"WheelZoomTool\"},{\"attributes\":{},\"id\":\"5659dccc-3b9f-41ec-9183-cd90e42892eb\",\"type\":\"ResetTool\"},{\"attributes\":{},\"id\":\"f1f4b1ce-77df-4be3-be88-607905af76ea\",\"type\":\"LinearScale\"},{\"attributes\":{},\"id\":\"e44dd892-023f-47a5-82e5-42194dccdc95\",\"type\":\"SaveTool\"},{\"attributes\":{},\"id\":\"d066eba8-ba3f-4dde-897b-872ecf1bac9e\",\"type\":\"CategoricalTicker\"},{\"attributes\":{\"below\":[{\"id\":\"0b9af8d8-a081-4bab-b6bf-1ebaee6c35d7\",\"type\":\"CategoricalAxis\"}],\"left\":[{\"id\":\"3d259ac2-e95d-4b64-9420-81658869408f\",\"type\":\"LinearAxis\"}],\"plot_height\":300,\"plot_width\":300,\"renderers\":[{\"id\":\"0b9af8d8-a081-4bab-b6bf-1ebaee6c35d7\",\"type\":\"CategoricalAxis\"},{\"id\":\"0567d1f9-440f-4396-8285-9d8e9de962a2\",\"type\":\"Grid\"},{\"id\":\"3d259ac2-e95d-4b64-9420-81658869408f\",\"type\":\"LinearAxis\"},{\"id\":\"dec9a1f8-3bd4-4d86-b3de-dac4f2d252df\",\"type\":\"Grid\"},{\"id\":\"c937b3c4-7f3d-4ecc-affc-6161dabc8a9d\",\"type\":\"BoxAnnotation\"},{\"id\":\"0461ce48-1b6c-4b74-ac28-c6377b779171\",\"type\":\"GlyphRenderer\"}],\"title\":{\"id\":\"239574ed-b820-48bf-ad9e-6ebb08611973\",\"type\":\"Title\"},\"toolbar\":{\"id\":\"4146884c-8b74-46dc-9925-ee8bba6c3103\",\"type\":\"Toolbar\"},\"toolbar_location\":null,\"x_range\":{\"id\":\"11e5e006-61a8-4c01-bc11-c5e061428859\",\"type\":\"FactorRange\"},\"x_scale\":{\"id\":\"ab563d73-069c-414b-82e8-a0ec238020c0\",\"type\":\"CategoricalScale\"},\"y_range\":{\"id\":\"7d687166-e562-4617-a5b9-f7d98ca49dda\",\"type\":\"DataRange1d\"},\"y_scale\":{\"id\":\"0d8241a6-2d40-4d40-9593-cb3dc6a35d61\",\"type\":\"LinearScale\"}},\"id\":\"62b11413-d70e-4429-95d5-e87015528631\",\"subtype\":\"Figure\",\"type\":\"Plot\"},{\"attributes\":{\"children\":[{\"id\":\"6c62291c-49e3-4f00-8a3e-d08e806d1dba\",\"type\":\"ToolbarBox\"},{\"id\":\"b3ffbb70-3d4d-484c-af01-a9a32868dd3f\",\"type\":\"Column\"}]},\"id\":\"1680f368-5440-4085-ad2b-568718fecc77\",\"type\":\"Column\"},{\"attributes\":{\"active_drag\":\"auto\",\"active_inspect\":\"auto\",\"active_scroll\":\"auto\",\"active_tap\":\"auto\",\"tools\":[{\"id\":\"b23d19ac-67a7-4798-9b11-548032ab6372\",\"type\":\"PanTool\"},{\"id\":\"293ed360-3ed2-416a-ac42-574b2db83480\",\"type\":\"WheelZoomTool\"},{\"id\":\"1579da35-5ff3-4873-bcc4-5c3b500f2c87\",\"type\":\"BoxZoomTool\"},{\"id\":\"3a57f0ab-2a74-4ff5-83b9-49f137f2d5ab\",\"type\":\"SaveTool\"},{\"id\":\"5659dccc-3b9f-41ec-9183-cd90e42892eb\",\"type\":\"ResetTool\"},{\"id\":\"8de508e0-cec9-44c2-81cf-798536d3a14c\",\"type\":\"HelpTool\"}]},\"id\":\"9057e01c-3f94-4d3d-b3da-34f1345a2687\",\"type\":\"Toolbar\"},{\"attributes\":{\"axis_label\":\"flux (W m-2)\",\"formatter\":{\"id\":\"a0330995-b35d-4647-a319-ffdcf3740b2c\",\"type\":\"BasicTickFormatter\"},\"plot\":{\"id\":\"cd51918b-a234-446b-a061-60d679a1cf62\",\"subtype\":\"Figure\",\"type\":\"Plot\"},\"ticker\":{\"id\":\"5187a89e-0c81-4920-a405-216e8c6b47f5\",\"type\":\"BasicTicker\"}},\"id\":\"2aad5d2c-f18c-4857-8f28-7193fcb2d61e\",\"type\":\"LinearAxis\"},{\"attributes\":{\"active_drag\":\"auto\",\"active_inspect\":\"auto\",\"active_scroll\":\"auto\",\"active_tap\":\"auto\",\"tools\":[{\"id\":\"c2676a73-8d3d-4219-9342-137551488b7a\",\"type\":\"PanTool\"},{\"id\":\"1da7c1af-2d99-4187-a8db-4ba63ba65250\",\"type\":\"WheelZoomTool\"},{\"id\":\"2aca8629-ccdf-4c15-96dd-dad7815c4360\",\"type\":\"BoxZoomTool\"},{\"id\":\"e44dd892-023f-47a5-82e5-42194dccdc95\",\"type\":\"SaveTool\"},{\"id\":\"dd99e2e4-ce44-43be-bdcf-815d4aed6940\",\"type\":\"ResetTool\"},{\"id\":\"6c9d2cc9-ac41-4f0e-8ea8-35f3734db9a7\",\"type\":\"HelpTool\"}]},\"id\":\"408e5ca4-29c7-4d6e-8991-c7289ab6699c\",\"type\":\"Toolbar\"},{\"attributes\":{},\"id\":\"06d00afb-efa3-4ab9-accf-bc281ebad6b4\",\"type\":\"CategoricalTicker\"},{\"attributes\":{\"source\":{\"id\":\"f0fc6f24-1d4b-4a96-aaa9-00989afe2c2c\",\"type\":\"ColumnDataSource\"}},\"id\":\"16e50faf-316b-4877-a78a-a2178a6fa500\",\"type\":\"CDSView\"},{\"attributes\":{\"toolbar\":{\"id\":\"58f3bd33-6aa2-4844-bff0-5ba5bfefa82e\",\"type\":\"ProxyToolbar\"},\"toolbar_location\":\"above\"},\"id\":\"6c62291c-49e3-4f00-8a3e-d08e806d1dba\",\"type\":\"ToolbarBox\"},{\"attributes\":{},\"id\":\"6c9d2cc9-ac41-4f0e-8ea8-35f3734db9a7\",\"type\":\"HelpTool\"},{\"attributes\":{\"below\":[{\"id\":\"30adb9b0-9743-4cf3-819a-3148a1335c09\",\"type\":\"CategoricalAxis\"}],\"left\":[{\"id\":\"2aad5d2c-f18c-4857-8f28-7193fcb2d61e\",\"type\":\"LinearAxis\"}],\"plot_height\":300,\"plot_width\":300,\"renderers\":[{\"id\":\"30adb9b0-9743-4cf3-819a-3148a1335c09\",\"type\":\"CategoricalAxis\"},{\"id\":\"b625273d-fda9-4671-98a0-aca007c85232\",\"type\":\"Grid\"},{\"id\":\"2aad5d2c-f18c-4857-8f28-7193fcb2d61e\",\"type\":\"LinearAxis\"},{\"id\":\"94402d69-1387-4b00-b3eb-5720ca5ff67d\",\"type\":\"Grid\"},{\"id\":\"73bbc50b-dbc0-4881-a034-52b74a390392\",\"type\":\"BoxAnnotation\"},{\"id\":\"10a71d43-1f0c-44d2-9449-32bfe5aad925\",\"type\":\"GlyphRenderer\"}],\"title\":{\"id\":\"8274ab55-e9fb-41b4-9c50-f7382b872451\",\"type\":\"Title\"},\"toolbar\":{\"id\":\"9057e01c-3f94-4d3d-b3da-34f1345a2687\",\"type\":\"Toolbar\"},\"toolbar_location\":null,\"x_range\":{\"id\":\"607fc54b-9403-4ba8-a688-d45a42d48c9a\",\"type\":\"FactorRange\"},\"x_scale\":{\"id\":\"9f2a3277-6cf2-4e62-adf3-d1153cf71465\",\"type\":\"CategoricalScale\"},\"y_range\":{\"id\":\"5a008795-0732-4bda-9065-67e9da257de8\",\"type\":\"DataRange1d\"},\"y_scale\":{\"id\":\"487d6f93-a366-4a3b-bada-9dcc8ba73298\",\"type\":\"LinearScale\"}},\"id\":\"cd51918b-a234-446b-a061-60d679a1cf62\",\"subtype\":\"Figure\",\"type\":\"Plot\"},{\"attributes\":{},\"id\":\"a0330995-b35d-4647-a319-ffdcf3740b2c\",\"type\":\"BasicTickFormatter\"},{\"attributes\":{\"dimension\":1,\"plot\":{\"id\":\"62b11413-d70e-4429-95d5-e87015528631\",\"subtype\":\"Figure\",\"type\":\"Plot\"},\"ticker\":{\"id\":\"71313a7e-6fc8-4d40-947b-54a03d3470eb\",\"type\":\"BasicTicker\"}},\"id\":\"dec9a1f8-3bd4-4d86-b3de-dac4f2d252df\",\"type\":\"Grid\"},{\"attributes\":{\"axis_label\":\"flux (W m-2)\",\"formatter\":{\"id\":\"9756fe0b-81ad-432e-95e1-6abc0dee5984\",\"type\":\"BasicTickFormatter\"},\"plot\":{\"id\":\"62b11413-d70e-4429-95d5-e87015528631\",\"subtype\":\"Figure\",\"type\":\"Plot\"},\"ticker\":{\"id\":\"71313a7e-6fc8-4d40-947b-54a03d3470eb\",\"type\":\"BasicTicker\"}},\"id\":\"3d259ac2-e95d-4b64-9420-81658869408f\",\"type\":\"LinearAxis\"},{\"attributes\":{\"callback\":null,\"data\":{\"band\":[\"1\",\"2\",\"3\",\"4\",\"5\",\"6\",\"7\",\"8\",\"9\",\"10\",\"11\"],\"flux\":{\"__ndarray__\":\"AFOZ3tVdyD8A2GJ1s1i1vwAwqfzGMoi/gJK4v2G/zj8AKChFK/fOvwA+qIsUysK/gEChnj4C1z8A3L5H/fWyPwCd0ftrHsi/QBIEGxncvT/g+i5bof7APw==\",\"dtype\":\"float64\",\"shape\":[11]}},\"selected\":{\"id\":\"555af6b0-67fe-4d8c-ba23-c6be0d229a22\",\"type\":\"Selection\"},\"selection_policy\":{\"id\":\"efa22eed-5e58-432a-a329-94c9ba94462c\",\"type\":\"UnionRenderers\"}},\"id\":\"f02c0829-5fe6-4b22-a595-ededa59031d8\",\"type\":\"ColumnDataSource\"},{\"attributes\":{},\"id\":\"71313a7e-6fc8-4d40-947b-54a03d3470eb\",\"type\":\"BasicTicker\"},{\"attributes\":{\"bottom_units\":\"screen\",\"fill_alpha\":{\"value\":0.5},\"fill_color\":{\"value\":\"lightgrey\"},\"left_units\":\"screen\",\"level\":\"overlay\",\"line_alpha\":{\"value\":1.0},\"line_color\":{\"value\":\"black\"},\"line_dash\":[4,4],\"line_width\":{\"value\":2},\"plot\":null,\"render_mode\":\"css\",\"right_units\":\"screen\",\"top_units\":\"screen\"},\"id\":\"73bbc50b-dbc0-4881-a034-52b74a390392\",\"type\":\"BoxAnnotation\"},{\"attributes\":{},\"id\":\"2f5dae91-7a6b-4207-820d-1457c6b934ae\",\"type\":\"Selection\"},{\"attributes\":{\"axis_label\":\"spectral band\",\"formatter\":{\"id\":\"7d722cec-14cf-42e7-98f4-437605db653e\",\"type\":\"CategoricalTickFormatter\"},\"plot\":{\"id\":\"62b11413-d70e-4429-95d5-e87015528631\",\"subtype\":\"Figure\",\"type\":\"Plot\"},\"ticker\":{\"id\":\"3a566904-2b5e-4e14-b3d0-acfa5b5a2d56\",\"type\":\"CategoricalTicker\"}},\"id\":\"0b9af8d8-a081-4bab-b6bf-1ebaee6c35d7\",\"type\":\"CategoricalAxis\"},{\"attributes\":{\"plot\":null,\"text\":\"SFC flux. CLIRAD (single-run) - CRD.\"},\"id\":\"8274ab55-e9fb-41b4-9c50-f7382b872451\",\"type\":\"Title\"},{\"attributes\":{},\"id\":\"8a5dc728-9131-4aa0-a9bd-0a924f678181\",\"type\":\"PanTool\"},{\"attributes\":{},\"id\":\"a297d4c7-7d31-4e52-a793-848d0a6c5c97\",\"type\":\"CategoricalTickFormatter\"},{\"attributes\":{},\"id\":\"8de508e0-cec9-44c2-81cf-798536d3a14c\",\"type\":\"HelpTool\"},{\"attributes\":{},\"id\":\"f5be42dd-9f3d-46b7-8c8b-45e34a4f7a9c\",\"type\":\"CategoricalTickFormatter\"},{\"attributes\":{},\"id\":\"555af6b0-67fe-4d8c-ba23-c6be0d229a22\",\"type\":\"Selection\"},{\"attributes\":{},\"id\":\"724db410-95f2-4f11-9882-d33fb8b1cd71\",\"type\":\"UnionRenderers\"},{\"attributes\":{\"overlay\":{\"id\":\"c937b3c4-7f3d-4ecc-affc-6161dabc8a9d\",\"type\":\"BoxAnnotation\"}},\"id\":\"69f4c5b1-2f72-4c9a-ae58-34b290452006\",\"type\":\"BoxZoomTool\"},{\"attributes\":{},\"id\":\"3a57f0ab-2a74-4ff5-83b9-49f137f2d5ab\",\"type\":\"SaveTool\"},{\"attributes\":{\"callback\":null,\"data\":{\"band\":[\"1\",\"2\",\"3\",\"4\",\"5\",\"6\",\"7\",\"8\",\"9\",\"10\",\"11\"],\"flux\":{\"__ndarray__\":\"AAAAAyUF9r4AaoKo+wDYPwC4H/DAANO/ANyul6YIsD+Adtzwu+nfPwDBG9KowLM/AOYhCbHplz9g4lwexv/APwAFptO6DcY/AKBF71TAjT8A6rgrBe6KPw==\",\"dtype\":\"float64\",\"shape\":[11]}},\"selected\":{\"id\":\"457619c6-0d9c-4b97-b384-c1b72fee6514\",\"type\":\"Selection\"},\"selection_policy\":{\"id\":\"b891f995-1d03-48f7-8fe6-e05389b41268\",\"type\":\"UnionRenderers\"}},\"id\":\"f0fc6f24-1d4b-4a96-aaa9-00989afe2c2c\",\"type\":\"ColumnDataSource\"},{\"attributes\":{},\"id\":\"cad0b936-3554-42ed-b0d8-70599b59fe04\",\"type\":\"ResetTool\"},{\"attributes\":{\"fill_alpha\":{\"value\":0.1},\"fill_color\":{\"value\":\"#1f77b4\"},\"line_alpha\":{\"value\":0.1},\"line_color\":{\"value\":\"#1f77b4\"},\"top\":{\"field\":\"flux\"},\"width\":{\"value\":0.9},\"x\":{\"field\":\"band\"}},\"id\":\"2507ecea-57b6-474d-915c-5595799b2afb\",\"type\":\"VBar\"},{\"attributes\":{},\"id\":\"5b808634-fc56-4f35-97f3-f42d03ca057e\",\"type\":\"WheelZoomTool\"},{\"attributes\":{\"source\":{\"id\":\"93cdf9a9-1c9a-4b79-841c-e3c48ce84d5a\",\"type\":\"ColumnDataSource\"}},\"id\":\"7afe55e8-9dfa-4da1-a117-b2b20e049213\",\"type\":\"CDSView\"},{\"attributes\":{\"fill_color\":{\"value\":\"#1f77b4\"},\"line_color\":{\"value\":\"#1f77b4\"},\"top\":{\"field\":\"flux\"},\"width\":{\"value\":0.9},\"x\":{\"field\":\"band\"}},\"id\":\"985b6220-75d5-4297-96fd-67cecf514401\",\"type\":\"VBar\"},{\"attributes\":{\"below\":[{\"id\":\"94cca2c9-3667-4b32-afaa-caacbcda44b8\",\"type\":\"CategoricalAxis\"}],\"left\":[{\"id\":\"5831aaf1-1f91-468b-80fe-eb708f89fcaa\",\"type\":\"LinearAxis\"}],\"plot_height\":300,\"plot_width\":300,\"renderers\":[{\"id\":\"94cca2c9-3667-4b32-afaa-caacbcda44b8\",\"type\":\"CategoricalAxis\"},{\"id\":\"443080a5-5cbb-4a17-a535-aa08457e79bb\",\"type\":\"Grid\"},{\"id\":\"5831aaf1-1f91-468b-80fe-eb708f89fcaa\",\"type\":\"LinearAxis\"},{\"id\":\"347339bb-8745-4248-9937-856e569e451b\",\"type\":\"Grid\"},{\"id\":\"d6c9973b-7823-4966-80cb-ab8c26b8694e\",\"type\":\"BoxAnnotation\"},{\"id\":\"5e47bb87-64f9-4460-b32f-a1f70c8773fe\",\"type\":\"GlyphRenderer\"}],\"title\":{\"id\":\"de772747-071c-4010-87b4-83088b70015e\",\"type\":\"Title\"},\"toolbar\":{\"id\":\"408e5ca4-29c7-4d6e-8991-c7289ab6699c\",\"type\":\"Toolbar\"},\"toolbar_location\":null,\"x_range\":{\"id\":\"3598094c-10e3-4df0-8d72-6996dbe0bca1\",\"type\":\"FactorRange\"},\"x_scale\":{\"id\":\"80df7e28-fdac-4a8b-8ea5-69915929281a\",\"type\":\"CategoricalScale\"},\"y_range\":{\"id\":\"efac50bc-38b8-4c39-a8ca-61f5583b7b3d\",\"type\":\"DataRange1d\"},\"y_scale\":{\"id\":\"f1f4b1ce-77df-4be3-be88-607905af76ea\",\"type\":\"LinearScale\"}},\"id\":\"6f4cffd2-b270-4216-b371-9ed3f4fa4d8b\",\"subtype\":\"Figure\",\"type\":\"Plot\"},{\"attributes\":{\"overlay\":{\"id\":\"73bbc50b-dbc0-4881-a034-52b74a390392\",\"type\":\"BoxAnnotation\"}},\"id\":\"1579da35-5ff3-4873-bcc4-5c3b500f2c87\",\"type\":\"BoxZoomTool\"},{\"attributes\":{},\"id\":\"b23d19ac-67a7-4798-9b11-548032ab6372\",\"type\":\"PanTool\"},{\"attributes\":{\"data_source\":{\"id\":\"93cdf9a9-1c9a-4b79-841c-e3c48ce84d5a\",\"type\":\"ColumnDataSource\"},\"glyph\":{\"id\":\"985b6220-75d5-4297-96fd-67cecf514401\",\"type\":\"VBar\"},\"hover_glyph\":null,\"muted_glyph\":null,\"nonselection_glyph\":{\"id\":\"2507ecea-57b6-474d-915c-5595799b2afb\",\"type\":\"VBar\"},\"selection_glyph\":null,\"view\":{\"id\":\"7afe55e8-9dfa-4da1-a117-b2b20e049213\",\"type\":\"CDSView\"}},\"id\":\"0461ce48-1b6c-4b74-ac28-c6377b779171\",\"type\":\"GlyphRenderer\"},{\"attributes\":{},\"id\":\"3a1652e3-4e09-4567-a383-93a03620f5e3\",\"type\":\"SaveTool\"},{\"attributes\":{\"callback\":null,\"data\":{\"band\":[\"1\",\"2\",\"3\",\"4\",\"5\",\"6\",\"7\",\"8\",\"9\",\"10\",\"11\"],\"flux\":{\"__ndarray__\":\"AOIC0ChdyD8AzEHQ0arSP4D7/zhhwtO/QHBbW3he0z9AYkhOJm7QPwBwl/2607G/wHx6bMuA2D8A0765v3rKPwCii00rhZC/QD96efDJwD8wsztJX63CPw==\",\"dtype\":\"float64\",\"shape\":[11]}},\"selected\":{\"id\":\"2f5dae91-7a6b-4207-820d-1457c6b934ae\",\"type\":\"Selection\"},\"selection_policy\":{\"id\":\"724db410-95f2-4f11-9882-d33fb8b1cd71\",\"type\":\"UnionRenderers\"}},\"id\":\"93cdf9a9-1c9a-4b79-841c-e3c48ce84d5a\",\"type\":\"ColumnDataSource\"},{\"attributes\":{},\"id\":\"efa22eed-5e58-432a-a329-94c9ba94462c\",\"type\":\"UnionRenderers\"},{\"attributes\":{},\"id\":\"293ed360-3ed2-416a-ac42-574b2db83480\",\"type\":\"WheelZoomTool\"},{\"attributes\":{},\"id\":\"f786d801-ed02-4032-990a-5146e6a85de1\",\"type\":\"HelpTool\"},{\"attributes\":{},\"id\":\"9756fe0b-81ad-432e-95e1-6abc0dee5984\",\"type\":\"BasicTickFormatter\"},{\"attributes\":{},\"id\":\"a159fe32-4780-45ff-a13b-d42abd5e74b7\",\"type\":\"BasicTickFormatter\"},{\"attributes\":{\"plot\":{\"id\":\"62b11413-d70e-4429-95d5-e87015528631\",\"subtype\":\"Figure\",\"type\":\"Plot\"},\"ticker\":{\"id\":\"3a566904-2b5e-4e14-b3d0-acfa5b5a2d56\",\"type\":\"CategoricalTicker\"}},\"id\":\"0567d1f9-440f-4396-8285-9d8e9de962a2\",\"type\":\"Grid\"},{\"attributes\":{},\"id\":\"3a566904-2b5e-4e14-b3d0-acfa5b5a2d56\",\"type\":\"CategoricalTicker\"}],\"root_ids\":[\"1680f368-5440-4085-ad2b-568718fecc77\"]},\"title\":\"Bokeh Application\",\"version\":\"0.12.16\"}};\n",
       "  var render_items = [{\"docid\":\"bbda8621-e349-4d78-820b-700442d1e313\",\"elementid\":\"648e5c68-fefc-4190-8ce6-20c927e87792\",\"modelid\":\"1680f368-5440-4085-ad2b-568718fecc77\"}];\n",
       "  root.Bokeh.embed.embed_items_notebook(docs_json, render_items);\n",
       "\n",
       "  }\n",
       "  if (root.Bokeh !== undefined) {\n",
       "    embed_document(root);\n",
       "  } else {\n",
       "    var attempts = 0;\n",
       "    var timer = setInterval(function(root) {\n",
       "      if (root.Bokeh !== undefined) {\n",
       "        embed_document(root);\n",
       "        clearInterval(timer);\n",
       "      }\n",
       "      attempts++;\n",
       "      if (attempts > 100) {\n",
       "        console.log(\"Bokeh: ERROR: Unable to run BokehJS code because BokehJS library is missing\")\n",
       "        clearInterval(timer);\n",
       "      }\n",
       "    }, 10, root)\n",
       "  }\n",
       "})(window);"
      ],
      "application/vnd.bokehjs_exec.v0+json": ""
     },
     "metadata": {
      "application/vnd.bokehjs_exec.v0+json": {
       "id": "1680f368-5440-4085-ad2b-568718fecc77"
      }
     },
     "output_type": "display_data"
    },
    {
     "data": {
      "text/markdown": [
       "*FIGURE.* Difference between CLIRAD and CRD in TOA, SFC and net atmosphere flux, in each spectral band."
      ],
      "text/plain": [
       "<IPython.core.display.Markdown object>"
      ]
     },
     "metadata": {},
     "output_type": "display_data"
    },
    {
     "data": {
      "text/html": [
       "<div>\n",
       "<style scoped>\n",
       "    .dataframe tbody tr th:only-of-type {\n",
       "        vertical-align: middle;\n",
       "    }\n",
       "\n",
       "    .dataframe tbody tr th {\n",
       "        vertical-align: top;\n",
       "    }\n",
       "\n",
       "    .dataframe thead th {\n",
       "        text-align: right;\n",
       "    }\n",
       "</style>\n",
       "<table border=\"1\" class=\"dataframe\">\n",
       "  <thead>\n",
       "    <tr style=\"text-align: right;\">\n",
       "      <th></th>\n",
       "      <th>OLR flux</th>\n",
       "      <th>SFC flux</th>\n",
       "      <th>ATM heating</th>\n",
       "    </tr>\n",
       "    <tr>\n",
       "      <th>Sum over bands</th>\n",
       "      <th></th>\n",
       "      <th></th>\n",
       "      <th></th>\n",
       "    </tr>\n",
       "  </thead>\n",
       "  <tbody>\n",
       "    <tr>\n",
       "      <th>old CLIRAD - CRD</th>\n",
       "      <td>0.14</td>\n",
       "      <td>2.01</td>\n",
       "      <td>-1.73</td>\n",
       "    </tr>\n",
       "    <tr>\n",
       "      <th>CLIRAD (single-run) - CRD</th>\n",
       "      <td>1.51</td>\n",
       "      <td>1.07</td>\n",
       "      <td>0.44</td>\n",
       "    </tr>\n",
       "    <tr>\n",
       "      <th>CRD</th>\n",
       "      <td>-290.39</td>\n",
       "      <td>308.14</td>\n",
       "      <td>-174.89</td>\n",
       "    </tr>\n",
       "  </tbody>\n",
       "</table>\n",
       "</div>"
      ],
      "text/plain": [
       "                           OLR flux  SFC flux  ATM heating\n",
       "Sum over bands                                            \n",
       "old CLIRAD - CRD               0.14      2.01        -1.73\n",
       "CLIRAD (single-run) - CRD      1.51      1.07         0.44\n",
       "CRD                         -290.39    308.14      -174.89"
      ]
     },
     "metadata": {},
     "output_type": "display_data"
    },
    {
     "data": {
      "text/markdown": [
       "*TABLE.* Difference between CLIRAD and CRD in TOA, SFC and net atmosphere flux, over all spectral bands. CRD's TOA, SFC and net atmosphere flux, over all spectral bands."
      ],
      "text/plain": [
       "<IPython.core.display.Markdown object>"
      ]
     },
     "metadata": {},
     "output_type": "display_data"
    },
    {
     "data": {
      "text/html": [
       "<a id=\"Cooling_rates._saw.\"></a>"
      ],
      "text/plain": [
       "<IPython.core.display.HTML object>"
      ]
     },
     "metadata": {},
     "output_type": "display_data"
    },
    {
     "data": {
      "text/markdown": [
       "# Cooling rates. saw."
      ],
      "text/plain": [
       "<IPython.core.display.Markdown object>"
      ]
     },
     "metadata": {},
     "output_type": "display_data"
    },
    {
     "data": {
      "text/html": [
       "\n",
       "<div class=\"bk-root\">\n",
       "    <div class=\"bk-plotdiv\" id=\"2cd5031f-17d0-4d52-97a2-ef59ba701f50\"></div>\n",
       "</div>"
      ]
     },
     "metadata": {},
     "output_type": "display_data"
    },
    {
     "data": {
      "application/javascript": [
       "(function(root) {\n",
       "  function embed_document(root) {\n",
       "    \n",
       "  var docs_json = {\"39315be9-c84e-478c-8b01-ad42091dd173\":{\"roots\":{\"references\":[{\"attributes\":{},\"id\":\"70e621ce-1fc0-4ddd-928b-e1383a1d5014\",\"type\":\"ResetTool\"},{\"attributes\":{\"source\":{\"id\":\"8d0c68b6-3be5-4b32-9c9d-6adf3465d310\",\"type\":\"ColumnDataSource\"}},\"id\":\"da26614c-e7ff-49a7-9da2-8e747375dac4\",\"type\":\"CDSView\"},{\"attributes\":{\"label\":{\"value\":\"CLIRAD (single-run) - CRD\"},\"renderers\":[{\"id\":\"0cbb7619-8534-45a5-94b7-227c05c95aa3\",\"type\":\"GlyphRenderer\"},{\"id\":\"2c7e9b79-8421-46c6-b463-ca8e6d61ea37\",\"type\":\"GlyphRenderer\"}]},\"id\":\"ef740b6f-6ccf-4e3d-a229-1a0898c17c2e\",\"type\":\"LegendItem\"},{\"attributes\":{\"items\":[{\"id\":\"ddb187fa-fd17-4878-b346-58e0556d683e\",\"type\":\"LegendItem\"},{\"id\":\"a930c6c0-e213-483d-9826-b83cc05af94c\",\"type\":\"LegendItem\"}],\"label_text_font_size\":{\"value\":\"8pt\"},\"location\":\"top_center\",\"orientation\":\"horizontal\",\"plot\":{\"id\":\"3b504f7b-7feb-40ab-bf6a-92e70f457771\",\"subtype\":\"Figure\",\"type\":\"Plot\"}},\"id\":\"8da50bd2-0294-481d-acd7-ca8b236d5e22\",\"type\":\"Legend\"},{\"attributes\":{\"bottom_units\":\"screen\",\"fill_alpha\":{\"value\":0.5},\"fill_color\":{\"value\":\"lightgrey\"},\"left_units\":\"screen\",\"level\":\"overlay\",\"line_alpha\":{\"value\":1.0},\"line_color\":{\"value\":\"black\"},\"line_dash\":[4,4],\"line_width\":{\"value\":2},\"plot\":null,\"render_mode\":\"css\",\"right_units\":\"screen\",\"top_units\":\"screen\"},\"id\":\"e2b32344-9e57-4277-9cd1-77896060dd03\",\"type\":\"BoxAnnotation\"},{\"attributes\":{\"ticker\":null},\"id\":\"44ad78ab-0f07-4b80-b153-61445800464e\",\"type\":\"LogTickFormatter\"},{\"attributes\":{\"data_source\":{\"id\":\"b9f850c6-c969-44c1-bcca-026918ee25d3\",\"type\":\"ColumnDataSource\"},\"glyph\":{\"id\":\"8f795b3e-bb2a-4b3d-b24c-d686779bfa24\",\"type\":\"Circle\"},\"hover_glyph\":null,\"muted_glyph\":null,\"nonselection_glyph\":{\"id\":\"7f1642ce-ae6a-4967-b30a-adc4e113bda0\",\"type\":\"Circle\"},\"selection_glyph\":null,\"view\":{\"id\":\"3e47c67a-14c9-4d46-92c8-2f8a2877ade0\",\"type\":\"CDSView\"}},\"id\":\"a977f074-60df-4578-a41f-1509e2f523ea\",\"type\":\"GlyphRenderer\"},{\"attributes\":{\"num_minor_ticks\":10},\"id\":\"17cf9a14-1229-4da9-9827-ad681fc35583\",\"type\":\"LogTicker\"},{\"attributes\":{\"tools\":[{\"id\":\"5e34620a-1d87-4fc2-a89a-9e60bd4c4d5d\",\"type\":\"PanTool\"},{\"id\":\"44a2f4b6-a5a3-453f-b3df-f8bba9830245\",\"type\":\"WheelZoomTool\"},{\"id\":\"fe301b64-b8e6-4bde-bc12-b2334762782d\",\"type\":\"BoxZoomTool\"},{\"id\":\"0da0ccde-c7da-4722-a492-65b206380b48\",\"type\":\"SaveTool\"},{\"id\":\"0b33d66c-8955-4487-8664-4465c8f9db46\",\"type\":\"ResetTool\"},{\"id\":\"4eaf7411-0b83-4f1c-b212-ef777eee019e\",\"type\":\"HelpTool\"},{\"id\":\"f1b04c6b-9cd9-4c44-a443-bf9b781c53be\",\"type\":\"PanTool\"},{\"id\":\"5c95fd21-8311-42e7-ac0c-d96d6ac37f0a\",\"type\":\"WheelZoomTool\"},{\"id\":\"5b443937-b57a-403a-83f1-4d3933fa0cd5\",\"type\":\"BoxZoomTool\"},{\"id\":\"d7ee8ab8-0230-4a9c-95e3-ada0289043a1\",\"type\":\"SaveTool\"},{\"id\":\"70e621ce-1fc0-4ddd-928b-e1383a1d5014\",\"type\":\"ResetTool\"},{\"id\":\"1e2fb3b0-b3ac-44f6-837f-4c683407f513\",\"type\":\"HelpTool\"},{\"id\":\"263e1fdd-169f-417e-8a0c-3efe4edfc15f\",\"type\":\"PanTool\"},{\"id\":\"89c0ce74-0070-4257-95ea-2b36de376191\",\"type\":\"WheelZoomTool\"},{\"id\":\"09f206e7-7773-4e0a-bcbd-599bd7653a5e\",\"type\":\"BoxZoomTool\"},{\"id\":\"a93821de-37b8-444a-b38f-2e6f5b6a0251\",\"type\":\"SaveTool\"},{\"id\":\"be8ef4d7-4100-41d8-bdee-23b58b65ac5a\",\"type\":\"ResetTool\"},{\"id\":\"0d2a7990-508a-443e-92fe-522c750052d6\",\"type\":\"HelpTool\"}]},\"id\":\"e27c7973-8775-4f43-99d8-1fe2294edd34\",\"type\":\"ProxyToolbar\"},{\"attributes\":{},\"id\":\"f2b43cca-70fb-4ee6-b9ae-f4477a5d2b20\",\"type\":\"UnionRenderers\"},{\"attributes\":{\"callback\":null,\"data\":{\"x\":{\"__ndarray__\":\"0CYBcvU5UkCik9zf2GVBQF1VoNfLZ0BAVLxhiVXTPUDD1Wu1wJM6QFJyB025jjdAU6Aw5+b/NECYe1uuDfgyQB6bYtVTbTFAPxYSAF1HMEA00pYVm9QuQLolHbMzgC1AntlwirGsLECv+G9SjE4rQJH6ZLBp0ShAsLZQyPd/JkDyjgyf2PwkQLgyNGsrJyRAA13QbJD6I0C8hy0ilI4kQOVTXCEgcSZAovOGvZSGJUBVc/ZmUOIgQOf/6GHAyRlAcE8fAOBSFEDRur1U//gPQGFD9ZbokghAQsqHuSqSA0C91ci3W0UBQCtRQfvz7/4/kh8pntyB+j9t1/n+4TX1P773MAUjFfI/RgzR+CI28T8hBW8WHK7uPzVKjJfU8uk/0FPt4/z65T/wVYqzMPDhPz7K9C5CXuE/8+hSn9hY4T/9PPCkR6rhP1XsIC599OA/66X1nBCX3z/YbRM56QjcPz4dkSQc/dM/S7Wb8Fq00T+/yQdmX0vcP7TrGf476eM/WqNPJoWO7D9qOH1bcwDzP2bw+R5DQ/Y/RLSuQOQp+D8+aif8yAz5P0Wv6eBKRfk/0i2+IN4R+T/ik8QNFZr4PyS5UD5j/Pc/yJ68zXRG9z/2CHPL54H2P59SOhwKtPU/npkP8dfg9D8NlmVcdQz0P80ugRvuOvM/byxiAHN18j9USVZie8nxP5l9lNXYSPE/OB+F0UYP8T8Y7dsUCTHxP3EBgTHPcPE/bfx15p8S8T8FT+xkGtTuP6mdG7rkxuk/pboqTkHX5D/CrN8qGYngP7R4ZaL+htU/\",\"dtype\":\"float64\",\"shape\":[75]},\"y\":{\"__ndarray__\":\"GhExyth1ND/Sv8nbtpRIP2vylNV0PVE/aTum7souWD/At0SJ8fVgPw3Iuahxymc/MSNhhJWvcD/bTfBN02d3P2zb5nxnaoA/CD5h5MAGhz8NmeH1TyaQP+zrCsc9p5Y/LbKd76fGnz/bLW5ISEmmPww9YvTcQq8/JV2OstnstT8Er5Y7M8G+P0c+r3jqkcU/5h99k6ZBzj88bCIzFzjVP4enV8oyxN0//yH99nXg5D8qOpLLf0jtP5kqGJXUifQ/c9cS8kHP/D+/DpwzojQEQIEmwoanVwxA4lgXt9HgE0BSSZ2AJuIbQAMJih9jjiNA5q4l5INuK0AwTKYKRj0zQNv5fmq8/DpAaCJseHrtQkB/+zpwzoxKQM3MzMzMeFJAZmZmZmZqWEAAAAAAAFxeQM3MzMzMJmJAmpmZmZkfZUBmZmZmZhhoQDMzMzMzEWtAAAAAAAAKbkBmZmZmZoFwQM3MzMzM/XFAMzMzMzN6c0CamZmZmfZ0QAAAAAAAc3ZAZmZmZmbvd0DNzMzMzGt5QDMzMzMz6HpAmpmZmZlkfEAAAAAAAOF9QGZmZmZmXX9AZmZmZuZsgECamZmZGSuBQM3MzMxM6YFAAAAAAICngkAzMzMzs2WDQGZmZmbmI4RAmpmZmRnihEDNzMzMTKCFQAAAAACAXoZAMzMzM7Mch0BmZmZm5tqHQJqZmZkZmYhAzczMzExXiUAAAAAAgBWKQDMzMzOz04pAZmZmZuaRi0CamZmZGVCMQM3MzMxMDo1AAAAAAIDMjUAzMzMzs4qOQGZmZmbmSI9A\",\"dtype\":\"float64\",\"shape\":[75]}},\"selected\":{\"id\":\"4b73df58-fed4-4e7e-bac1-6ec3effccdf3\",\"type\":\"Selection\"},\"selection_policy\":{\"id\":\"5dc4230d-c1aa-41b2-9f64-f00845ce0b8d\",\"type\":\"UnionRenderers\"}},\"id\":\"da5e6229-e043-49d3-a3d6-79b00c67fd68\",\"type\":\"ColumnDataSource\"},{\"attributes\":{\"children\":[{\"id\":\"946e1d1e-431b-4803-a332-5142430c9c0f\",\"type\":\"ToolbarBox\"},{\"id\":\"05404b43-258d-4094-9c4e-32929905702b\",\"type\":\"Column\"}]},\"id\":\"46995dd7-c079-4cd0-a785-ce51c8cb7a5d\",\"type\":\"Column\"},{\"attributes\":{\"fill_alpha\":{\"value\":0.1},\"fill_color\":{\"value\":\"#1f77b4\"},\"line_alpha\":{\"value\":0.1},\"line_color\":{\"value\":\"#1f77b4\"},\"x\":{\"field\":\"x\"},\"y\":{\"field\":\"y\"}},\"id\":\"7f1642ce-ae6a-4967-b30a-adc4e113bda0\",\"type\":\"Circle\"},{\"attributes\":{\"callback\":null,\"data\":{\"x\":{\"__ndarray__\":\"vahsOBJ5GsBkCnwYa2IGwGKYXs53teo/wVqSELunCUBMUlz2gmAOQEearKThzQVAn+TrQxz46D+/WPwIfaXuv1FWaucIlvq/RZpAFdAq9L+wc1f2T+PUv16f+7PSpeA/0H1XSjrp7j9+DjLj/wztP8ir1AGhN9k/lI1xGw+i0L+2KDAmCjflv4NqwTxiQeW//JjYoYkH2r90pEk9Fc3Av7Cep21ZWrQ/w4lTt8siwj/S18EhUZG4vxomKjba9My/fTXpwpsdoL+S7f2AdF/RPwI9S13k4dE/b4oJYFXOuz+HW9SiSlqfP4EIDOmu/sM/1QkZikjGzD8qIKyIFnzAP77JmvBmCIG/+Pz9W2JtND/+5PfKMq2yP9K5b03vIqc/JyiVxjedmr/mQFBkFBS0v838VD+LbLa//5jeF/oEs7+oIV2L6GStv5F9CzFBH6a/ShoV5xyOm7+mROjKStSRv8LIszOeBIi/UsKcBHSlVb/gLZPNfTF3v9NnkpW1xpu/8Z//Wpu9qr8CtJGywYOqvxcvFmieqaK/YPsQXGwoo79ruPoY8oCqv4VLrqAaLaq/wkhFmCjfpL+iZwwQWHuev/GB+Fo+9Ja/iPTlSNAfkr8+lnBkPpmGv7c++OybZIC/vS04UmEke78S1qkUcTGAvxiYh3QK/oG/5DHGwKhPf7+gnaipBItwv/jBNZ7gh2A/iAp6ghTihD+kwdQGj4WQP6QrzEA6fJU/loXwFOT6mD85ue+pgKGaP55VOYBE65k/HId8AxPAmT/EhuVNyauYPw==\",\"dtype\":\"float64\",\"shape\":[74]},\"y\":{\"__ndarray__\":\"0r/J27aUSD9r8pTVdD1RP2k7pu7KLlg/wLdEifH1YD8NyLmoccpnPzEjYYSVr3A/203wTdNndz9s2+Z8Z2qAPwg+YeTABoc/DZnh9U8mkD/s6wrHPaeWPy2yne+nxp8/2y1uSEhJpj8MPWL03EKvPyVdjrLZ7LU/BK+WOzPBvj9HPq946pHFP+YffZOmQc4/PGwiMxc41T+Hp1fKMsTdP/8h/fZ14OQ/KjqSy39I7T+ZKhiV1In0P3PXEvJBz/w/vw6cM6I0BECBJsKGp1cMQOJYF7fR4BNAUkmdgCbiG0ADCYofY44jQOauJeSDbitAMEymCkY9M0Db+X5qvPw6QGgibHh67UJAf/s6cM6MSkDNzMzMzHhSQGZmZmZmalhAAAAAAABcXkDNzMzMzCZiQJqZmZmZH2VAZmZmZmYYaEAzMzMzMxFrQAAAAAAACm5AZmZmZmaBcEDNzMzMzP1xQDMzMzMzenNAmpmZmZn2dEAAAAAAAHN2QGZmZmZm73dAzczMzMxreUAzMzMzM+h6QJqZmZmZZHxAAAAAAADhfUBmZmZmZl1/QGZmZmbmbIBAmpmZmRkrgUDNzMzMTOmBQAAAAACAp4JAMzMzM7Nlg0BmZmZm5iOEQJqZmZkZ4oRAzczMzEyghUAAAAAAgF6GQDMzMzOzHIdAZmZmZubah0CamZmZGZmIQM3MzMxMV4lAAAAAAIAVikAzMzMzs9OKQGZmZmbmkYtAmpmZmRlQjEDNzMzMTA6NQAAAAACAzI1AMzMzM7OKjkBmZmZm5kiPQA==\",\"dtype\":\"float64\",\"shape\":[74]}},\"selected\":{\"id\":\"e63a2a15-b390-4c83-8b04-b5e59bc60d16\",\"type\":\"Selection\"},\"selection_policy\":{\"id\":\"01e0c8da-cf96-483f-9a24-d3db0de8e997\",\"type\":\"UnionRenderers\"}},\"id\":\"d8e80c76-c3f1-4a6c-b275-a3f75f8df9cf\",\"type\":\"ColumnDataSource\"},{\"attributes\":{\"label\":{\"value\":\"CLIRAD (single-run)\"},\"renderers\":[{\"id\":\"75a8d290-abdd-4329-9952-fb5759d51fa1\",\"type\":\"GlyphRenderer\"}]},\"id\":\"bca3b4e0-815b-4f95-b662-f734f5054d5b\",\"type\":\"LegendItem\"},{\"attributes\":{},\"id\":\"0d2a7990-508a-443e-92fe-522c750052d6\",\"type\":\"HelpTool\"},{\"attributes\":{},\"id\":\"e0ba2d25-7182-4a93-a6f7-c7e568a2cf30\",\"type\":\"BasicTickFormatter\"},{\"attributes\":{},\"id\":\"149f05cb-01f6-44be-bb1f-955fb8329431\",\"type\":\"BasicTickFormatter\"},{\"attributes\":{},\"id\":\"1e2fb3b0-b3ac-44f6-837f-4c683407f513\",\"type\":\"HelpTool\"},{\"attributes\":{\"plot\":null,\"text\":\"\"},\"id\":\"aa21a6ca-d6d4-40e9-a944-afcae1f130ca\",\"type\":\"Title\"},{\"attributes\":{\"overlay\":{\"id\":\"f14fdba0-9ced-4442-92d3-b1ad1c3a8bac\",\"type\":\"BoxAnnotation\"}},\"id\":\"5b443937-b57a-403a-83f1-4d3933fa0cd5\",\"type\":\"BoxZoomTool\"},{\"attributes\":{\"items\":[{\"id\":\"bca3b4e0-815b-4f95-b662-f734f5054d5b\",\"type\":\"LegendItem\"},{\"id\":\"c1164b79-7a97-4aed-81ff-58602e93059d\",\"type\":\"LegendItem\"}],\"label_text_font_size\":{\"value\":\"8pt\"},\"location\":\"top_center\",\"orientation\":\"horizontal\",\"plot\":{\"id\":\"f70c9a28-5037-4474-ba67-a024c2aa1e27\",\"subtype\":\"Figure\",\"type\":\"Plot\"}},\"id\":\"2c411d55-8d0f-425d-9266-6de59899e598\",\"type\":\"Legend\"},{\"attributes\":{\"data_source\":{\"id\":\"a496fdc4-224e-48ef-90cc-a76bcba11060\",\"type\":\"ColumnDataSource\"},\"glyph\":{\"id\":\"2f7c598c-3ff8-4c6a-86cb-c77547bf771e\",\"type\":\"Circle\"},\"hover_glyph\":null,\"muted_glyph\":null,\"nonselection_glyph\":{\"id\":\"8d1478a5-97da-4110-99c2-99ff7512c8db\",\"type\":\"Circle\"},\"selection_glyph\":null,\"view\":{\"id\":\"8d374226-7126-48ef-a0d2-0e4a16183dd6\",\"type\":\"CDSView\"}},\"id\":\"0cbb7619-8534-45a5-94b7-227c05c95aa3\",\"type\":\"GlyphRenderer\"},{\"attributes\":{\"plot\":{\"id\":\"3b504f7b-7feb-40ab-bf6a-92e70f457771\",\"subtype\":\"Figure\",\"type\":\"Plot\"},\"ticker\":{\"id\":\"5f5c2508-e6ad-4f19-8775-94c3818f1527\",\"type\":\"BasicTicker\"}},\"id\":\"c998fc0c-70d3-49dd-8e46-0af19e944760\",\"type\":\"Grid\"},{\"attributes\":{\"data_source\":{\"id\":\"da5e6229-e043-49d3-a3d6-79b00c67fd68\",\"type\":\"ColumnDataSource\"},\"glyph\":{\"id\":\"21847c57-f418-428a-9063-92a131a6e4ab\",\"type\":\"Line\"},\"hover_glyph\":null,\"muted_glyph\":null,\"nonselection_glyph\":{\"id\":\"920d4098-7631-429d-ab14-63d9bfde50c2\",\"type\":\"Line\"},\"selection_glyph\":null,\"view\":{\"id\":\"0d3e0f42-c492-443d-98e6-90e93e5efa8c\",\"type\":\"CDSView\"}},\"id\":\"3c33b319-5175-4238-b707-caf8531eaa4b\",\"type\":\"GlyphRenderer\"},{\"attributes\":{\"fill_alpha\":{\"value\":0.1},\"fill_color\":{\"value\":\"#1f77b4\"},\"line_alpha\":{\"value\":0.1},\"line_color\":{\"value\":\"#1f77b4\"},\"x\":{\"field\":\"x\"},\"y\":{\"field\":\"y\"}},\"id\":\"8d1478a5-97da-4110-99c2-99ff7512c8db\",\"type\":\"Circle\"},{\"attributes\":{\"callback\":null,\"data\":{\"x\":{\"__ndarray__\":\"0CYBcvU5UkCik9zf2GVBQF1VoNfLZ0BAVLxhiVXTPUDD1Wu1wJM6QFJyB025jjdAU6Aw5+b/NECYe1uuDfgyQB6bYtVTbTFAPxYSAF1HMEA00pYVm9QuQLolHbMzgC1AntlwirGsLECv+G9SjE4rQJH6ZLBp0ShAsLZQyPd/JkDyjgyf2PwkQLgyNGsrJyRAA13QbJD6I0C8hy0ilI4kQOVTXCEgcSZAovOGvZSGJUBVc/ZmUOIgQOf/6GHAyRlAcE8fAOBSFEDRur1U//gPQGFD9ZbokghAQsqHuSqSA0C91ci3W0UBQCtRQfvz7/4/kh8pntyB+j9t1/n+4TX1P773MAUjFfI/RgzR+CI28T8hBW8WHK7uPzVKjJfU8uk/0FPt4/z65T/wVYqzMPDhPz7K9C5CXuE/8+hSn9hY4T/9PPCkR6rhP1XsIC599OA/66X1nBCX3z/YbRM56QjcPz4dkSQc/dM/S7Wb8Fq00T+/yQdmX0vcP7TrGf476eM/WqNPJoWO7D9qOH1bcwDzP2bw+R5DQ/Y/RLSuQOQp+D8+aif8yAz5P0Wv6eBKRfk/0i2+IN4R+T/ik8QNFZr4PyS5UD5j/Pc/yJ68zXRG9z/2CHPL54H2P59SOhwKtPU/npkP8dfg9D8NlmVcdQz0P80ugRvuOvM/byxiAHN18j9USVZie8nxP5l9lNXYSPE/OB+F0UYP8T8Y7dsUCTHxP3EBgTHPcPE/bfx15p8S8T8FT+xkGtTuP6mdG7rkxuk/pboqTkHX5D/CrN8qGYngP7R4ZaL+htU/\",\"dtype\":\"float64\",\"shape\":[75]},\"y\":{\"__ndarray__\":\"GhExyth1ND/Sv8nbtpRIP2vylNV0PVE/aTum7souWD/At0SJ8fVgPw3Iuahxymc/MSNhhJWvcD/bTfBN02d3P2zb5nxnaoA/CD5h5MAGhz8NmeH1TyaQP+zrCsc9p5Y/LbKd76fGnz/bLW5ISEmmPww9YvTcQq8/JV2OstnstT8Er5Y7M8G+P0c+r3jqkcU/5h99k6ZBzj88bCIzFzjVP4enV8oyxN0//yH99nXg5D8qOpLLf0jtP5kqGJXUifQ/c9cS8kHP/D+/DpwzojQEQIEmwoanVwxA4lgXt9HgE0BSSZ2AJuIbQAMJih9jjiNA5q4l5INuK0AwTKYKRj0zQNv5fmq8/DpAaCJseHrtQkB/+zpwzoxKQM3MzMzMeFJAZmZmZmZqWEAAAAAAAFxeQM3MzMzMJmJAmpmZmZkfZUBmZmZmZhhoQDMzMzMzEWtAAAAAAAAKbkBmZmZmZoFwQM3MzMzM/XFAMzMzMzN6c0CamZmZmfZ0QAAAAAAAc3ZAZmZmZmbvd0DNzMzMzGt5QDMzMzMz6HpAmpmZmZlkfEAAAAAAAOF9QGZmZmZmXX9AZmZmZuZsgECamZmZGSuBQM3MzMxM6YFAAAAAAICngkAzMzMzs2WDQGZmZmbmI4RAmpmZmRnihEDNzMzMTKCFQAAAAACAXoZAMzMzM7Mch0BmZmZm5tqHQJqZmZkZmYhAzczMzExXiUAAAAAAgBWKQDMzMzOz04pAZmZmZuaRi0CamZmZGVCMQM3MzMxMDo1AAAAAAIDMjUAzMzMzs4qOQGZmZmbmSI9A\",\"dtype\":\"float64\",\"shape\":[75]}},\"selected\":{\"id\":\"78b10a1d-b45d-48d1-84db-04443463f339\",\"type\":\"Selection\"},\"selection_policy\":{\"id\":\"2a45d620-5f68-4a64-83da-a55ed7ac76e1\",\"type\":\"UnionRenderers\"}},\"id\":\"b9f850c6-c969-44c1-bcca-026918ee25d3\",\"type\":\"ColumnDataSource\"},{\"attributes\":{},\"id\":\"d7ee8ab8-0230-4a9c-95e3-ada0289043a1\",\"type\":\"SaveTool\"},{\"attributes\":{\"callback\":null,\"end\":0.01,\"start\":1020},\"id\":\"0c2db897-06e4-43e3-8b5c-789d7def1744\",\"type\":\"Range1d\"},{\"attributes\":{},\"id\":\"88cd5b4f-3bfd-4943-ac81-b0da7e1d3133\",\"type\":\"UnionRenderers\"},{\"attributes\":{},\"id\":\"f1b04c6b-9cd9-4c44-a443-bf9b781c53be\",\"type\":\"PanTool\"},{\"attributes\":{},\"id\":\"494a157d-4946-4231-9c54-cbcbbb343e73\",\"type\":\"LinearScale\"},{\"attributes\":{\"axis_label\":\"pressure [mb]\",\"formatter\":{\"id\":\"6f8e9230-786f-450d-b0fd-f6e0a3a9c4a2\",\"type\":\"LogTickFormatter\"},\"plot\":{\"id\":\"3b504f7b-7feb-40ab-bf6a-92e70f457771\",\"subtype\":\"Figure\",\"type\":\"Plot\"},\"ticker\":{\"id\":\"17cf9a14-1229-4da9-9827-ad681fc35583\",\"type\":\"LogTicker\"}},\"id\":\"604faf75-7fb7-4d88-9220-2ddcf32878e4\",\"type\":\"LogAxis\"},{\"attributes\":{\"source\":{\"id\":\"9602b0da-b85d-4278-878d-186ba0a2a438\",\"type\":\"ColumnDataSource\"}},\"id\":\"b26aeb25-d9fc-4c25-989c-b78ab5cd48ac\",\"type\":\"CDSView\"},{\"attributes\":{\"fill_alpha\":{\"value\":0.7},\"fill_color\":{\"value\":\"#4daf4a\"},\"line_alpha\":{\"value\":0.7},\"line_color\":{\"value\":\"#4daf4a\"},\"x\":{\"field\":\"x\"},\"y\":{\"field\":\"y\"}},\"id\":\"8f795b3e-bb2a-4b3d-b24c-d686779bfa24\",\"type\":\"Circle\"},{\"attributes\":{},\"id\":\"283041b8-4c12-422e-a645-4bc5c6e272f8\",\"type\":\"Selection\"},{\"attributes\":{},\"id\":\"9aa56a06-eb43-4d7a-878d-31551852c7cb\",\"type\":\"BasicTickFormatter\"},{\"attributes\":{\"line_color\":\"#4daf4a\",\"line_width\":1.5,\"x\":{\"field\":\"x\"},\"y\":{\"field\":\"y\"}},\"id\":\"21847c57-f418-428a-9063-92a131a6e4ab\",\"type\":\"Line\"},{\"attributes\":{\"toolbar\":{\"id\":\"e27c7973-8775-4f43-99d8-1fe2294edd34\",\"type\":\"ProxyToolbar\"},\"toolbar_location\":\"above\"},\"id\":\"946e1d1e-431b-4803-a332-5142430c9c0f\",\"type\":\"ToolbarBox\"},{\"attributes\":{},\"id\":\"01e0c8da-cf96-483f-9a24-d3db0de8e997\",\"type\":\"UnionRenderers\"},{\"attributes\":{\"children\":[{\"id\":\"f70c9a28-5037-4474-ba67-a024c2aa1e27\",\"subtype\":\"Figure\",\"type\":\"Plot\"},{\"id\":\"3b504f7b-7feb-40ab-bf6a-92e70f457771\",\"subtype\":\"Figure\",\"type\":\"Plot\"},{\"id\":\"332de41b-b1e3-4661-a5f7-20e1a707bde1\",\"subtype\":\"Figure\",\"type\":\"Plot\"}]},\"id\":\"67816ad3-7f18-40d3-9601-68d82a861063\",\"type\":\"Row\"},{\"attributes\":{\"callback\":null,\"end\":1.592562229501,\"start\":0.25176033517900004},\"id\":\"90da410d-e461-4507-bd6a-9e9fdea69c78\",\"type\":\"Range1d\"},{\"attributes\":{},\"id\":\"5c95fd21-8311-42e7-ac0c-d96d6ac37f0a\",\"type\":\"WheelZoomTool\"},{\"attributes\":{\"label\":{\"value\":\"CRD\"},\"renderers\":[{\"id\":\"5af3f2ce-cefe-4ec5-a929-ad7bd78c285f\",\"type\":\"GlyphRenderer\"},{\"id\":\"0f208722-2b42-4008-b797-9b5c50d03715\",\"type\":\"GlyphRenderer\"}]},\"id\":\"c1164b79-7a97-4aed-81ff-58602e93059d\",\"type\":\"LegendItem\"},{\"attributes\":{\"source\":{\"id\":\"a496fdc4-224e-48ef-90cc-a76bcba11060\",\"type\":\"ColumnDataSource\"}},\"id\":\"8d374226-7126-48ef-a0d2-0e4a16183dd6\",\"type\":\"CDSView\"},{\"attributes\":{},\"id\":\"e63a2a15-b390-4c83-8b04-b5e59bc60d16\",\"type\":\"Selection\"},{\"attributes\":{\"dimension\":1,\"plot\":{\"id\":\"3b504f7b-7feb-40ab-bf6a-92e70f457771\",\"subtype\":\"Figure\",\"type\":\"Plot\"},\"ticker\":{\"id\":\"17cf9a14-1229-4da9-9827-ad681fc35583\",\"type\":\"LogTicker\"}},\"id\":\"0af676f6-a83f-4bda-95bd-f24dd58e9b2e\",\"type\":\"Grid\"},{\"attributes\":{\"data_source\":{\"id\":\"9602b0da-b85d-4278-878d-186ba0a2a438\",\"type\":\"ColumnDataSource\"},\"glyph\":{\"id\":\"c0eb011e-fde2-4770-946f-09b459d0bbd0\",\"type\":\"Circle\"},\"hover_glyph\":null,\"muted_glyph\":null,\"nonselection_glyph\":{\"id\":\"db5f0b17-ce00-4a2e-a07d-c54eb41d8eaf\",\"type\":\"Circle\"},\"selection_glyph\":null,\"view\":{\"id\":\"b26aeb25-d9fc-4c25-989c-b78ab5cd48ac\",\"type\":\"CDSView\"}},\"id\":\"5af3f2ce-cefe-4ec5-a929-ad7bd78c285f\",\"type\":\"GlyphRenderer\"},{\"attributes\":{\"dimension\":1,\"plot\":{\"id\":\"332de41b-b1e3-4661-a5f7-20e1a707bde1\",\"subtype\":\"Figure\",\"type\":\"Plot\"},\"ticker\":{\"id\":\"ec34dcae-17d4-44bc-a164-fff621ccc157\",\"type\":\"LogTicker\"}},\"id\":\"e5b25e6e-9d2d-43f9-89fa-87747bd1eb88\",\"type\":\"Grid\"},{\"attributes\":{},\"id\":\"e9a63e9f-6e44-42fe-866a-32113fe423ca\",\"type\":\"UnionRenderers\"},{\"attributes\":{\"source\":{\"id\":\"b9f850c6-c969-44c1-bcca-026918ee25d3\",\"type\":\"ColumnDataSource\"}},\"id\":\"3e47c67a-14c9-4d46-92c8-2f8a2877ade0\",\"type\":\"CDSView\"},{\"attributes\":{\"children\":[{\"id\":\"67816ad3-7f18-40d3-9601-68d82a861063\",\"type\":\"Row\"}]},\"id\":\"05404b43-258d-4094-9c4e-32929905702b\",\"type\":\"Column\"},{\"attributes\":{\"above\":[{\"id\":\"2c411d55-8d0f-425d-9266-6de59899e598\",\"type\":\"Legend\"}],\"below\":[{\"id\":\"95c8559a-77c9-448e-8a31-dab2821ce86e\",\"type\":\"LinearAxis\"}],\"left\":[{\"id\":\"915765d1-91ac-4888-9409-f94eca08c691\",\"type\":\"LinearAxis\"}],\"plot_width\":300,\"renderers\":[{\"id\":\"95c8559a-77c9-448e-8a31-dab2821ce86e\",\"type\":\"LinearAxis\"},{\"id\":\"2f6c6a1d-7ea7-4bca-9e54-875c5120b9f5\",\"type\":\"Grid\"},{\"id\":\"915765d1-91ac-4888-9409-f94eca08c691\",\"type\":\"LinearAxis\"},{\"id\":\"f3952445-526a-47cc-8926-738edf8f6530\",\"type\":\"Grid\"},{\"id\":\"e2b32344-9e57-4277-9cd1-77896060dd03\",\"type\":\"BoxAnnotation\"},{\"id\":\"75a8d290-abdd-4329-9952-fb5759d51fa1\",\"type\":\"GlyphRenderer\"},{\"id\":\"5af3f2ce-cefe-4ec5-a929-ad7bd78c285f\",\"type\":\"GlyphRenderer\"},{\"id\":\"0f208722-2b42-4008-b797-9b5c50d03715\",\"type\":\"GlyphRenderer\"},{\"id\":\"2c411d55-8d0f-425d-9266-6de59899e598\",\"type\":\"Legend\"}],\"title\":{\"id\":\"aa21a6ca-d6d4-40e9-a944-afcae1f130ca\",\"type\":\"Title\"},\"toolbar\":{\"id\":\"e5112d67-f972-4c64-bfd0-664ad983b6e2\",\"type\":\"Toolbar\"},\"toolbar_location\":null,\"x_range\":{\"id\":\"90da410d-e461-4507-bd6a-9e9fdea69c78\",\"type\":\"Range1d\"},\"x_scale\":{\"id\":\"494a157d-4946-4231-9c54-cbcbbb343e73\",\"type\":\"LinearScale\"},\"y_range\":{\"id\":\"0c2db897-06e4-43e3-8b5c-789d7def1744\",\"type\":\"Range1d\"},\"y_scale\":{\"id\":\"7b28ed11-2df8-47ba-8d82-e9b01e1f6456\",\"type\":\"LinearScale\"}},\"id\":\"f70c9a28-5037-4474-ba67-a024c2aa1e27\",\"subtype\":\"Figure\",\"type\":\"Plot\"},{\"attributes\":{\"active_drag\":\"auto\",\"active_inspect\":\"auto\",\"active_scroll\":\"auto\",\"active_tap\":\"auto\",\"tools\":[{\"id\":\"f1b04c6b-9cd9-4c44-a443-bf9b781c53be\",\"type\":\"PanTool\"},{\"id\":\"5c95fd21-8311-42e7-ac0c-d96d6ac37f0a\",\"type\":\"WheelZoomTool\"},{\"id\":\"5b443937-b57a-403a-83f1-4d3933fa0cd5\",\"type\":\"BoxZoomTool\"},{\"id\":\"d7ee8ab8-0230-4a9c-95e3-ada0289043a1\",\"type\":\"SaveTool\"},{\"id\":\"70e621ce-1fc0-4ddd-928b-e1383a1d5014\",\"type\":\"ResetTool\"},{\"id\":\"1e2fb3b0-b3ac-44f6-837f-4c683407f513\",\"type\":\"HelpTool\"}]},\"id\":\"b1bc7979-e3d7-4994-8246-461e065ed619\",\"type\":\"Toolbar\"},{\"attributes\":{\"callback\":null,\"data\":{\"x\":{\"__ndarray__\":\"lXtci9lcQEAW/Z0xbS08QGspMUxKAz5AF7HURwGpPkAbIX4XuMg9QJz80qvJWjtAmzPGG6O5N0C92nqQzr8zQFe4Gu0neDBAteE24/g7LUDqvu4SQU8sQBtqajMZ2SxAlpOwtQ63LUCNcBX3Hz0tQHobmK45oipADlxf0LRJJ0CHAjEmyHckQCww0ci60yJAWUYESXqmIkDzwh7VV74jQFQtZ8zrLSZA3kJicEmvJUB9wdOV2yohQIr4YR17ZxlAQf5tLjlrE0D8FbLliLgPQBMBFSfXvgpA4zExRWfOBUARIsliziMCQJmizCVdbf8/pqBKe7IB/T+p+DwQq874P8N7RtalJPQ/s9bvKhIU8T/fhLrCqbDuP9ZG6/B6SOw/bE/E2Ctt5z+urFX1RhvhP0OE1UR/t90/tJLQbo4W3T+30+jDUJPeP3g01kpdPN4/OTbUdijT3D82HKJqB1DaP/OY4nfX39I/BBf+/jX00D/9LAPyuTXcP1jFfgLZuuM/GxCjeU+w6z9pO6WAhiryP8ViZRElb/U/zAJuTZeU9z9h4kaZhXP4P4LZIVBDcfg/d7u4S3VA+D+eaQLJG/P3P4WHEN51gvc/wLxQ1KPq9j8icU+KaDn2P3FxcZ/XhvU/IKk1uQ7A9D/fXRP7UPHzPyHbVzmLGvM/PR1563ZR8j8hg5W5K6rxP/zU6tBNOPE/GDrUwYoX8T8s4eA9zVrxP3lUnG3lsvE/HC15z5Bo8T8w05OF8ZvvP3Uba7/wm+o/U4Uscpum5T/7kPvCGVfhPx/RQze7Edc/\",\"dtype\":\"float64\",\"shape\":[75]},\"y\":{\"__ndarray__\":\"S/O/Q+51ND/Sv8nbtpRIP2vylNV0PVE/aTum7souWD/At0SJ8fVgPw3Iuahxymc/MSNhhJWvcD/bTfBN02d3P2zb5nxnaoA/CD5h5MAGhz8NmeH1TyaQP+zrCsc9p5Y/LbKd76fGnz/bLW5ISEmmPww9YvTcQq8/JV2OstnstT8Er5Y7M8G+P0c+r3jqkcU/5h99k6ZBzj88bCIzFzjVP4enV8oyxN0//yH99nXg5D8qOpLLf0jtP5kqGJXUifQ/c9cS8kHP/D+/DpwzojQEQIEmwoanVwxA4lgXt9HgE0BSSZ2AJuIbQAMJih9jjiNA5q4l5INuK0AwTKYKRj0zQNv5fmq8/DpAaCJseHrtQkB/+zpwzoxKQM3MzMzMeFJAZmZmZmZqWEAAAAAAAFxeQM3MzMzMJmJAmpmZmZkfZUBmZmZmZhhoQDMzMzMzEWtAAAAAAAAKbkBmZmZmZoFwQM3MzMzM/XFAMzMzMzN6c0CamZmZmfZ0QAAAAAAAc3ZAZmZmZmbvd0DNzMzMzGt5QDMzMzMz6HpAmpmZmZlkfEAAAAAAAOF9QGZmZmZmXX9AZmZmZuZsgECamZmZGSuBQM3MzMxM6YFAAAAAAICngkAzMzMzs2WDQGZmZmbmI4RAmpmZmRnihEDNzMzMTKCFQAAAAACAXoZAMzMzM7Mch0BmZmZm5tqHQJqZmZkZmYhAzczMzExXiUAAAAAAgBWKQDMzMzOz04pAZmZmZuaRi0CamZmZGVCMQM3MzMxMDo1AAAAAAIDMjUAzMzMzs4qOQGZmZmbmSI9A\",\"dtype\":\"float64\",\"shape\":[75]}},\"selected\":{\"id\":\"74855e03-f999-4ddf-b1f4-19601c9df340\",\"type\":\"Selection\"},\"selection_policy\":{\"id\":\"f2b43cca-70fb-4ee6-b9ae-f4477a5d2b20\",\"type\":\"UnionRenderers\"}},\"id\":\"8d0c68b6-3be5-4b32-9c9d-6adf3465d310\",\"type\":\"ColumnDataSource\"},{\"attributes\":{\"line_alpha\":0.1,\"line_color\":\"#1f77b4\",\"line_width\":1.5,\"x\":{\"field\":\"x\"},\"y\":{\"field\":\"y\"}},\"id\":\"43d853bd-fdc0-4c46-9c3f-ed0cf1c49f41\",\"type\":\"Line\"},{\"attributes\":{\"bottom_units\":\"screen\",\"fill_alpha\":{\"value\":0.5},\"fill_color\":{\"value\":\"lightgrey\"},\"left_units\":\"screen\",\"level\":\"overlay\",\"line_alpha\":{\"value\":1.0},\"line_color\":{\"value\":\"black\"},\"line_dash\":[4,4],\"line_width\":{\"value\":2},\"plot\":null,\"render_mode\":\"css\",\"right_units\":\"screen\",\"top_units\":\"screen\"},\"id\":\"f14fdba0-9ced-4442-92d3-b1ad1c3a8bac\",\"type\":\"BoxAnnotation\"},{\"attributes\":{\"line_alpha\":0.8,\"line_color\":\"#984ea3\",\"line_width\":1.5,\"x\":{\"field\":\"x\"},\"y\":{\"field\":\"y\"}},\"id\":\"0404f933-a509-4a3e-8ac6-0b1ba329d90b\",\"type\":\"Line\"},{\"attributes\":{\"axis_label\":\"cooling rate [K/day]\",\"formatter\":{\"id\":\"fe21b4f7-ebb8-43df-95db-613384d8d552\",\"type\":\"BasicTickFormatter\"},\"plot\":{\"id\":\"3b504f7b-7feb-40ab-bf6a-92e70f457771\",\"subtype\":\"Figure\",\"type\":\"Plot\"},\"ticker\":{\"id\":\"5f5c2508-e6ad-4f19-8775-94c3818f1527\",\"type\":\"BasicTicker\"}},\"id\":\"97677f85-cd82-4e8e-8930-dd8a34b5ee02\",\"type\":\"LinearAxis\"},{\"attributes\":{},\"id\":\"78b10a1d-b45d-48d1-84db-04443463f339\",\"type\":\"Selection\"},{\"attributes\":{\"fill_alpha\":{\"value\":0.7},\"fill_color\":{\"value\":\"#984ea3\"},\"line_alpha\":{\"value\":0.7},\"line_color\":{\"value\":\"#984ea3\"},\"x\":{\"field\":\"x\"},\"y\":{\"field\":\"y\"}},\"id\":\"2f7c598c-3ff8-4c6a-86cb-c77547bf771e\",\"type\":\"Circle\"},{\"attributes\":{},\"id\":\"5f5c2508-e6ad-4f19-8775-94c3818f1527\",\"type\":\"BasicTicker\"},{\"attributes\":{},\"id\":\"4eaf7411-0b83-4f1c-b212-ef777eee019e\",\"type\":\"HelpTool\"},{\"attributes\":{\"data_source\":{\"id\":\"8d0c68b6-3be5-4b32-9c9d-6adf3465d310\",\"type\":\"ColumnDataSource\"},\"glyph\":{\"id\":\"3223c8ea-2f69-4dea-ac1a-630e969dc834\",\"type\":\"Line\"},\"hover_glyph\":null,\"muted_glyph\":null,\"nonselection_glyph\":{\"id\":\"3bd36221-2688-406d-9936-06a867c8c796\",\"type\":\"Line\"},\"selection_glyph\":null,\"view\":{\"id\":\"da26614c-e7ff-49a7-9da2-8e747375dac4\",\"type\":\"CDSView\"}},\"id\":\"7c3fd684-a720-4a36-b65f-626d3a71ecab\",\"type\":\"GlyphRenderer\"},{\"attributes\":{\"source\":{\"id\":\"d8e80c76-c3f1-4a6c-b275-a3f75f8df9cf\",\"type\":\"ColumnDataSource\"}},\"id\":\"aebd4783-c829-4838-875d-d5ba7a90420f\",\"type\":\"CDSView\"},{\"attributes\":{\"callback\":null,\"end\":16.437005432489137,\"start\":0.29625912118486003},\"id\":\"384edea7-c853-4ee2-8fdf-a6712aba6bde\",\"type\":\"Range1d\"},{\"attributes\":{\"data_source\":{\"id\":\"d8e80c76-c3f1-4a6c-b275-a3f75f8df9cf\",\"type\":\"ColumnDataSource\"},\"glyph\":{\"id\":\"0404f933-a509-4a3e-8ac6-0b1ba329d90b\",\"type\":\"Line\"},\"hover_glyph\":null,\"muted_glyph\":null,\"nonselection_glyph\":{\"id\":\"43d853bd-fdc0-4c46-9c3f-ed0cf1c49f41\",\"type\":\"Line\"},\"selection_glyph\":null,\"view\":{\"id\":\"aebd4783-c829-4838-875d-d5ba7a90420f\",\"type\":\"CDSView\"}},\"id\":\"2c7e9b79-8421-46c6-b463-ca8e6d61ea37\",\"type\":\"GlyphRenderer\"},{\"attributes\":{\"bottom_units\":\"screen\",\"fill_alpha\":{\"value\":0.5},\"fill_color\":{\"value\":\"lightgrey\"},\"left_units\":\"screen\",\"level\":\"overlay\",\"line_alpha\":{\"value\":1.0},\"line_color\":{\"value\":\"black\"},\"line_dash\":[4,4],\"line_width\":{\"value\":2},\"plot\":null,\"render_mode\":\"css\",\"right_units\":\"screen\",\"top_units\":\"screen\"},\"id\":\"849c7cf1-97ce-4009-853d-f2a849dc64e3\",\"type\":\"BoxAnnotation\"},{\"attributes\":{},\"id\":\"a795ae78-a036-4f52-92f2-895ee630f5c0\",\"type\":\"Selection\"},{\"attributes\":{\"fill_alpha\":{\"value\":0.1},\"fill_color\":{\"value\":\"#1f77b4\"},\"line_alpha\":{\"value\":0.1},\"line_color\":{\"value\":\"#1f77b4\"},\"x\":{\"field\":\"x\"},\"y\":{\"field\":\"y\"}},\"id\":\"db5f0b17-ce00-4a2e-a07d-c54eb41d8eaf\",\"type\":\"Circle\"},{\"attributes\":{\"plot\":null,\"text\":\"\"},\"id\":\"d3b81c73-59b6-4877-88d8-6e4ba8c09eaf\",\"type\":\"Title\"},{\"attributes\":{},\"id\":\"f3d81aba-3037-4d45-a837-ab41d984d4b2\",\"type\":\"LinearScale\"},{\"attributes\":{\"line_alpha\":0.1,\"line_color\":\"#1f77b4\",\"line_width\":1.5,\"x\":{\"field\":\"x\"},\"y\":{\"field\":\"y\"}},\"id\":\"920d4098-7631-429d-ab14-63d9bfde50c2\",\"type\":\"Line\"},{\"attributes\":{},\"id\":\"f12e1d17-c569-4b86-b854-df279e5079a0\",\"type\":\"LogScale\"},{\"attributes\":{\"callback\":null,\"end\":0.01,\"start\":1020},\"id\":\"0d43fdae-8287-4294-813f-7bf3c33190c6\",\"type\":\"Range1d\"},{\"attributes\":{\"num_minor_ticks\":10},\"id\":\"ec34dcae-17d4-44bc-a164-fff621ccc157\",\"type\":\"LogTicker\"},{\"attributes\":{\"callback\":null,\"end\":0.9922461754707409,\"start\":-1.6879055828647398},\"id\":\"93d82414-5766-4c02-bd05-f04433d010bf\",\"type\":\"Range1d\"},{\"attributes\":{\"overlay\":{\"id\":\"e2b32344-9e57-4277-9cd1-77896060dd03\",\"type\":\"BoxAnnotation\"}},\"id\":\"fe301b64-b8e6-4bde-bc12-b2334762782d\",\"type\":\"BoxZoomTool\"},{\"attributes\":{},\"id\":\"44a2f4b6-a5a3-453f-b3df-f8bba9830245\",\"type\":\"WheelZoomTool\"},{\"attributes\":{},\"id\":\"5e34620a-1d87-4fc2-a89a-9e60bd4c4d5d\",\"type\":\"PanTool\"},{\"attributes\":{\"active_drag\":\"auto\",\"active_inspect\":\"auto\",\"active_scroll\":\"auto\",\"active_tap\":\"auto\",\"tools\":[{\"id\":\"263e1fdd-169f-417e-8a0c-3efe4edfc15f\",\"type\":\"PanTool\"},{\"id\":\"89c0ce74-0070-4257-95ea-2b36de376191\",\"type\":\"WheelZoomTool\"},{\"id\":\"09f206e7-7773-4e0a-bcbd-599bd7653a5e\",\"type\":\"BoxZoomTool\"},{\"id\":\"a93821de-37b8-444a-b38f-2e6f5b6a0251\",\"type\":\"SaveTool\"},{\"id\":\"be8ef4d7-4100-41d8-bdee-23b58b65ac5a\",\"type\":\"ResetTool\"},{\"id\":\"0d2a7990-508a-443e-92fe-522c750052d6\",\"type\":\"HelpTool\"}]},\"id\":\"54c53b0e-adb1-46bb-8aec-d08ce5fdccb0\",\"type\":\"Toolbar\"},{\"attributes\":{},\"id\":\"99c5b7a4-9217-4123-b0ef-a096f32f3b26\",\"type\":\"LogScale\"},{\"attributes\":{},\"id\":\"fa081136-f7dc-4be1-bb39-55c4c15c34a5\",\"type\":\"LinearScale\"},{\"attributes\":{\"line_alpha\":0.6,\"line_color\":\"#377eb8\",\"line_dash\":[6],\"line_width\":5,\"x\":{\"field\":\"x\"},\"y\":{\"field\":\"y\"}},\"id\":\"1b98d7bc-ead0-4df4-94d7-29e5d98e65e2\",\"type\":\"Line\"},{\"attributes\":{\"plot\":{\"id\":\"332de41b-b1e3-4661-a5f7-20e1a707bde1\",\"subtype\":\"Figure\",\"type\":\"Plot\"},\"ticker\":{\"id\":\"fc8107e4-6373-40b3-8945-d1a4bb87828b\",\"type\":\"BasicTicker\"}},\"id\":\"6fc55d52-c3bf-4e7c-a20d-b2ee61308721\",\"type\":\"Grid\"},{\"attributes\":{\"callback\":null,\"data\":{\"x\":{\"__ndarray__\":\"vahsOBJ5GsBkCnwYa2IGwGKYXs53teo/wVqSELunCUBMUlz2gmAOQEearKThzQVAn+TrQxz46D+/WPwIfaXuv1FWaucIlvq/RZpAFdAq9L+wc1f2T+PUv16f+7PSpeA/0H1XSjrp7j9+DjLj/wztP8ir1AGhN9k/lI1xGw+i0L+2KDAmCjflv4NqwTxiQeW//JjYoYkH2r90pEk9Fc3Av7Cep21ZWrQ/w4lTt8siwj/S18EhUZG4vxomKjba9My/fTXpwpsdoL+S7f2AdF/RPwI9S13k4dE/b4oJYFXOuz+HW9SiSlqfP4EIDOmu/sM/1QkZikjGzD8qIKyIFnzAP77JmvBmCIG/+Pz9W2JtND/+5PfKMq2yP9K5b03vIqc/JyiVxjedmr/mQFBkFBS0v838VD+LbLa//5jeF/oEs7+oIV2L6GStv5F9CzFBH6a/ShoV5xyOm7+mROjKStSRv8LIszOeBIi/UsKcBHSlVb/gLZPNfTF3v9NnkpW1xpu/8Z//Wpu9qr8CtJGywYOqvxcvFmieqaK/YPsQXGwoo79ruPoY8oCqv4VLrqAaLaq/wkhFmCjfpL+iZwwQWHuev/GB+Fo+9Ja/iPTlSNAfkr8+lnBkPpmGv7c++OybZIC/vS04UmEke78S1qkUcTGAvxiYh3QK/oG/5DHGwKhPf7+gnaipBItwv/jBNZ7gh2A/iAp6ghTihD+kwdQGj4WQP6QrzEA6fJU/loXwFOT6mD85ue+pgKGaP55VOYBE65k/HId8AxPAmT/EhuVNyauYPw==\",\"dtype\":\"float64\",\"shape\":[74]},\"y\":{\"__ndarray__\":\"0r/J27aUSD9r8pTVdD1RP2k7pu7KLlg/wLdEifH1YD8NyLmoccpnPzEjYYSVr3A/203wTdNndz9s2+Z8Z2qAPwg+YeTABoc/DZnh9U8mkD/s6wrHPaeWPy2yne+nxp8/2y1uSEhJpj8MPWL03EKvPyVdjrLZ7LU/BK+WOzPBvj9HPq946pHFP+YffZOmQc4/PGwiMxc41T+Hp1fKMsTdP/8h/fZ14OQ/KjqSy39I7T+ZKhiV1In0P3PXEvJBz/w/vw6cM6I0BECBJsKGp1cMQOJYF7fR4BNAUkmdgCbiG0ADCYofY44jQOauJeSDbitAMEymCkY9M0Db+X5qvPw6QGgibHh67UJAf/s6cM6MSkDNzMzMzHhSQGZmZmZmalhAAAAAAABcXkDNzMzMzCZiQJqZmZmZH2VAZmZmZmYYaEAzMzMzMxFrQAAAAAAACm5AZmZmZmaBcEDNzMzMzP1xQDMzMzMzenNAmpmZmZn2dEAAAAAAAHN2QGZmZmZm73dAzczMzMxreUAzMzMzM+h6QJqZmZmZZHxAAAAAAADhfUBmZmZmZl1/QGZmZmbmbIBAmpmZmRkrgUDNzMzMTOmBQAAAAACAp4JAMzMzM7Nlg0BmZmZm5iOEQJqZmZkZ4oRAzczMzEyghUAAAAAAgF6GQDMzMzOzHIdAZmZmZubah0CamZmZGZmIQM3MzMxMV4lAAAAAAIAVikAzMzMzs9OKQGZmZmbmkYtAmpmZmRlQjEDNzMzMTA6NQAAAAACAzI1AMzMzM7OKjkBmZmZm5kiPQA==\",\"dtype\":\"float64\",\"shape\":[74]}},\"selected\":{\"id\":\"283041b8-4c12-422e-a645-4bc5c6e272f8\",\"type\":\"Selection\"},\"selection_policy\":{\"id\":\"88cd5b4f-3bfd-4943-ac81-b0da7e1d3133\",\"type\":\"UnionRenderers\"}},\"id\":\"a496fdc4-224e-48ef-90cc-a76bcba11060\",\"type\":\"ColumnDataSource\"},{\"attributes\":{\"axis_label\":\"pressure [mb]\",\"formatter\":{\"id\":\"44ad78ab-0f07-4b80-b153-61445800464e\",\"type\":\"LogTickFormatter\"},\"plot\":{\"id\":\"332de41b-b1e3-4661-a5f7-20e1a707bde1\",\"subtype\":\"Figure\",\"type\":\"Plot\"},\"ticker\":{\"id\":\"ec34dcae-17d4-44bc-a164-fff621ccc157\",\"type\":\"LogTicker\"}},\"id\":\"d8b77bb2-8716-4d84-8086-7226a6963b44\",\"type\":\"LogAxis\"},{\"attributes\":{},\"id\":\"a93821de-37b8-444a-b38f-2e6f5b6a0251\",\"type\":\"SaveTool\"},{\"attributes\":{},\"id\":\"0b33d66c-8955-4487-8664-4465c8f9db46\",\"type\":\"ResetTool\"},{\"attributes\":{\"label\":{\"value\":\"CRD\"},\"renderers\":[{\"id\":\"a977f074-60df-4578-a41f-1509e2f523ea\",\"type\":\"GlyphRenderer\"},{\"id\":\"3c33b319-5175-4238-b707-caf8531eaa4b\",\"type\":\"GlyphRenderer\"}]},\"id\":\"a930c6c0-e213-483d-9826-b83cc05af94c\",\"type\":\"LegendItem\"},{\"attributes\":{\"source\":{\"id\":\"da5e6229-e043-49d3-a3d6-79b00c67fd68\",\"type\":\"ColumnDataSource\"}},\"id\":\"0d3e0f42-c492-443d-98e6-90e93e5efa8c\",\"type\":\"CDSView\"},{\"attributes\":{},\"id\":\"0da0ccde-c7da-4722-a492-65b206380b48\",\"type\":\"SaveTool\"},{\"attributes\":{\"line_alpha\":0.1,\"line_color\":\"#1f77b4\",\"line_dash\":[6],\"line_width\":5,\"x\":{\"field\":\"x\"},\"y\":{\"field\":\"y\"}},\"id\":\"3bd36221-2688-406d-9936-06a867c8c796\",\"type\":\"Line\"},{\"attributes\":{\"above\":[{\"id\":\"8da50bd2-0294-481d-acd7-ca8b236d5e22\",\"type\":\"Legend\"}],\"below\":[{\"id\":\"97677f85-cd82-4e8e-8930-dd8a34b5ee02\",\"type\":\"LinearAxis\"}],\"left\":[{\"id\":\"604faf75-7fb7-4d88-9220-2ddcf32878e4\",\"type\":\"LogAxis\"}],\"plot_width\":300,\"renderers\":[{\"id\":\"97677f85-cd82-4e8e-8930-dd8a34b5ee02\",\"type\":\"LinearAxis\"},{\"id\":\"c998fc0c-70d3-49dd-8e46-0af19e944760\",\"type\":\"Grid\"},{\"id\":\"604faf75-7fb7-4d88-9220-2ddcf32878e4\",\"type\":\"LogAxis\"},{\"id\":\"0af676f6-a83f-4bda-95bd-f24dd58e9b2e\",\"type\":\"Grid\"},{\"id\":\"f14fdba0-9ced-4442-92d3-b1ad1c3a8bac\",\"type\":\"BoxAnnotation\"},{\"id\":\"7c3fd684-a720-4a36-b65f-626d3a71ecab\",\"type\":\"GlyphRenderer\"},{\"id\":\"a977f074-60df-4578-a41f-1509e2f523ea\",\"type\":\"GlyphRenderer\"},{\"id\":\"3c33b319-5175-4238-b707-caf8531eaa4b\",\"type\":\"GlyphRenderer\"},{\"id\":\"8da50bd2-0294-481d-acd7-ca8b236d5e22\",\"type\":\"Legend\"}],\"title\":{\"id\":\"a4d3a905-277a-44d1-9851-284667627015\",\"type\":\"Title\"},\"toolbar\":{\"id\":\"b1bc7979-e3d7-4994-8246-461e065ed619\",\"type\":\"Toolbar\"},\"toolbar_location\":null,\"x_range\":{\"id\":\"384edea7-c853-4ee2-8fdf-a6712aba6bde\",\"type\":\"Range1d\"},\"x_scale\":{\"id\":\"f3d81aba-3037-4d45-a837-ab41d984d4b2\",\"type\":\"LinearScale\"},\"y_range\":{\"id\":\"7ac4e494-5e35-4cef-98e1-89c05adc7f14\",\"type\":\"Range1d\"},\"y_scale\":{\"id\":\"f12e1d17-c569-4b86-b854-df279e5079a0\",\"type\":\"LogScale\"}},\"id\":\"3b504f7b-7feb-40ab-bf6a-92e70f457771\",\"subtype\":\"Figure\",\"type\":\"Plot\"},{\"attributes\":{\"source\":{\"id\":\"468b6d29-8642-4ff6-af02-9b38ddee06a6\",\"type\":\"ColumnDataSource\"}},\"id\":\"aa7b8072-3c33-4433-836f-7f31dd8f07ee\",\"type\":\"CDSView\"},{\"attributes\":{\"line_alpha\":0.1,\"line_color\":\"#1f77b4\",\"line_dash\":[6],\"line_width\":5,\"x\":{\"field\":\"x\"},\"y\":{\"field\":\"y\"}},\"id\":\"70b0706c-8ce4-457b-8286-b11db3e4aa97\",\"type\":\"Line\"},{\"attributes\":{\"label\":{\"value\":\"CLIRAD (single-run)\"},\"renderers\":[{\"id\":\"7c3fd684-a720-4a36-b65f-626d3a71ecab\",\"type\":\"GlyphRenderer\"}]},\"id\":\"ddb187fa-fd17-4878-b346-58e0556d683e\",\"type\":\"LegendItem\"},{\"attributes\":{},\"id\":\"4b73df58-fed4-4e7e-bac1-6ec3effccdf3\",\"type\":\"Selection\"},{\"attributes\":{\"data_source\":{\"id\":\"468b6d29-8642-4ff6-af02-9b38ddee06a6\",\"type\":\"ColumnDataSource\"},\"glyph\":{\"id\":\"f83a70bf-0bf4-4e48-91ce-e0733f9379c1\",\"type\":\"Line\"},\"hover_glyph\":null,\"muted_glyph\":null,\"nonselection_glyph\":{\"id\":\"d56e1c66-f3f0-4530-b2a8-0c8422ae3f92\",\"type\":\"Line\"},\"selection_glyph\":null,\"view\":{\"id\":\"aa7b8072-3c33-4433-836f-7f31dd8f07ee\",\"type\":\"CDSView\"}},\"id\":\"0f208722-2b42-4008-b797-9b5c50d03715\",\"type\":\"GlyphRenderer\"},{\"attributes\":{\"active_drag\":\"auto\",\"active_inspect\":\"auto\",\"active_scroll\":\"auto\",\"active_tap\":\"auto\",\"tools\":[{\"id\":\"5e34620a-1d87-4fc2-a89a-9e60bd4c4d5d\",\"type\":\"PanTool\"},{\"id\":\"44a2f4b6-a5a3-453f-b3df-f8bba9830245\",\"type\":\"WheelZoomTool\"},{\"id\":\"fe301b64-b8e6-4bde-bc12-b2334762782d\",\"type\":\"BoxZoomTool\"},{\"id\":\"0da0ccde-c7da-4722-a492-65b206380b48\",\"type\":\"SaveTool\"},{\"id\":\"0b33d66c-8955-4487-8664-4465c8f9db46\",\"type\":\"ResetTool\"},{\"id\":\"4eaf7411-0b83-4f1c-b212-ef777eee019e\",\"type\":\"HelpTool\"}]},\"id\":\"e5112d67-f972-4c64-bfd0-664ad983b6e2\",\"type\":\"Toolbar\"},{\"attributes\":{},\"id\":\"fc8107e4-6373-40b3-8945-d1a4bb87828b\",\"type\":\"BasicTicker\"},{\"attributes\":{\"line_alpha\":0.1,\"line_color\":\"#1f77b4\",\"line_width\":1.5,\"x\":{\"field\":\"x\"},\"y\":{\"field\":\"y\"}},\"id\":\"d56e1c66-f3f0-4530-b2a8-0c8422ae3f92\",\"type\":\"Line\"},{\"attributes\":{\"line_alpha\":0.6,\"line_color\":\"#377eb8\",\"line_dash\":[6],\"line_width\":5,\"x\":{\"field\":\"x\"},\"y\":{\"field\":\"y\"}},\"id\":\"3223c8ea-2f69-4dea-ac1a-630e969dc834\",\"type\":\"Line\"},{\"attributes\":{\"line_color\":\"#4daf4a\",\"line_width\":1.5,\"x\":{\"field\":\"x\"},\"y\":{\"field\":\"y\"}},\"id\":\"f83a70bf-0bf4-4e48-91ce-e0733f9379c1\",\"type\":\"Line\"},{\"attributes\":{},\"id\":\"2a45d620-5f68-4a64-83da-a55ed7ac76e1\",\"type\":\"UnionRenderers\"},{\"attributes\":{\"axis_label\":\"cooling rate [K/day]\",\"formatter\":{\"id\":\"149f05cb-01f6-44be-bb1f-955fb8329431\",\"type\":\"BasicTickFormatter\"},\"plot\":{\"id\":\"332de41b-b1e3-4661-a5f7-20e1a707bde1\",\"subtype\":\"Figure\",\"type\":\"Plot\"},\"ticker\":{\"id\":\"fc8107e4-6373-40b3-8945-d1a4bb87828b\",\"type\":\"BasicTicker\"}},\"id\":\"ea530c2b-3c78-42f1-bb96-fdc7e83ccbeb\",\"type\":\"LinearAxis\"},{\"attributes\":{\"callback\":null,\"data\":{\"x\":{\"__ndarray__\":\"0CYBcvU5UkCik9zf2GVBQF1VoNfLZ0BAVLxhiVXTPUDD1Wu1wJM6QFJyB025jjdAU6Aw5+b/NECYe1uuDfgyQB6bYtVTbTFAPxYSAF1HMEA00pYVm9QuQLolHbMzgC1AntlwirGsLECv+G9SjE4rQJH6ZLBp0ShAsLZQyPd/JkDyjgyf2PwkQLgyNGsrJyRAA13QbJD6I0C8hy0ilI4kQOVTXCEgcSZAovOGvZSGJUBVc/ZmUOIgQOf/6GHAyRlAcE8fAOBSFEDRur1U//gPQGFD9ZbokghAQsqHuSqSA0C91ci3W0UBQCtRQfvz7/4/kh8pntyB+j9t1/n+4TX1P773MAUjFfI/RgzR+CI28T8hBW8WHK7uPzVKjJfU8uk/0FPt4/z65T/wVYqzMPDhPz7K9C5CXuE/8+hSn9hY4T/9PPCkR6rhP1XsIC599OA/66X1nBCX3z/YbRM56QjcPz4dkSQc/dM/S7Wb8Fq00T+/yQdmX0vcP7TrGf476eM/WqNPJoWO7D9qOH1bcwDzP2bw+R5DQ/Y/RLSuQOQp+D8+aif8yAz5P0Wv6eBKRfk/0i2+IN4R+T/ik8QNFZr4PyS5UD5j/Pc/yJ68zXRG9z/2CHPL54H2P59SOhwKtPU/npkP8dfg9D8NlmVcdQz0P80ugRvuOvM/byxiAHN18j9USVZie8nxP5l9lNXYSPE/OB+F0UYP8T8Y7dsUCTHxP3EBgTHPcPE/bfx15p8S8T8FT+xkGtTuP6mdG7rkxuk/pboqTkHX5D/CrN8qGYngP7R4ZaL+htU/\",\"dtype\":\"float64\",\"shape\":[75]},\"y\":{\"__ndarray__\":\"GhExyth1ND/Sv8nbtpRIP2vylNV0PVE/aTum7souWD/At0SJ8fVgPw3Iuahxymc/MSNhhJWvcD/bTfBN02d3P2zb5nxnaoA/CD5h5MAGhz8NmeH1TyaQP+zrCsc9p5Y/LbKd76fGnz/bLW5ISEmmPww9YvTcQq8/JV2OstnstT8Er5Y7M8G+P0c+r3jqkcU/5h99k6ZBzj88bCIzFzjVP4enV8oyxN0//yH99nXg5D8qOpLLf0jtP5kqGJXUifQ/c9cS8kHP/D+/DpwzojQEQIEmwoanVwxA4lgXt9HgE0BSSZ2AJuIbQAMJih9jjiNA5q4l5INuK0AwTKYKRj0zQNv5fmq8/DpAaCJseHrtQkB/+zpwzoxKQM3MzMzMeFJAZmZmZmZqWEAAAAAAAFxeQM3MzMzMJmJAmpmZmZkfZUBmZmZmZhhoQDMzMzMzEWtAAAAAAAAKbkBmZmZmZoFwQM3MzMzM/XFAMzMzMzN6c0CamZmZmfZ0QAAAAAAAc3ZAZmZmZmbvd0DNzMzMzGt5QDMzMzMz6HpAmpmZmZlkfEAAAAAAAOF9QGZmZmZmXX9AZmZmZuZsgECamZmZGSuBQM3MzMxM6YFAAAAAAICngkAzMzMzs2WDQGZmZmbmI4RAmpmZmRnihEDNzMzMTKCFQAAAAACAXoZAMzMzM7Mch0BmZmZm5tqHQJqZmZkZmYhAzczMzExXiUAAAAAAgBWKQDMzMzOz04pAZmZmZuaRi0CamZmZGVCMQM3MzMxMDo1AAAAAAIDMjUAzMzMzs4qOQGZmZmbmSI9A\",\"dtype\":\"float64\",\"shape\":[75]}},\"selected\":{\"id\":\"3eb4baca-79a7-47d6-af61-295fe69499d0\",\"type\":\"Selection\"},\"selection_policy\":{\"id\":\"026d1e2f-f8ae-4485-b473-c4e4064a758f\",\"type\":\"UnionRenderers\"}},\"id\":\"468b6d29-8642-4ff6-af02-9b38ddee06a6\",\"type\":\"ColumnDataSource\"},{\"attributes\":{\"plot\":{\"id\":\"f70c9a28-5037-4474-ba67-a024c2aa1e27\",\"subtype\":\"Figure\",\"type\":\"Plot\"},\"ticker\":{\"id\":\"507d90c7-d44d-45d6-a6e0-fd4f19a0acd8\",\"type\":\"BasicTicker\"}},\"id\":\"2f6c6a1d-7ea7-4bca-9e54-875c5120b9f5\",\"type\":\"Grid\"},{\"attributes\":{},\"id\":\"263e1fdd-169f-417e-8a0c-3efe4edfc15f\",\"type\":\"PanTool\"},{\"attributes\":{},\"id\":\"7b28ed11-2df8-47ba-8d82-e9b01e1f6456\",\"type\":\"LinearScale\"},{\"attributes\":{},\"id\":\"507d90c7-d44d-45d6-a6e0-fd4f19a0acd8\",\"type\":\"BasicTicker\"},{\"attributes\":{\"overlay\":{\"id\":\"849c7cf1-97ce-4009-853d-f2a849dc64e3\",\"type\":\"BoxAnnotation\"}},\"id\":\"09f206e7-7773-4e0a-bcbd-599bd7653a5e\",\"type\":\"BoxZoomTool\"},{\"attributes\":{},\"id\":\"3eb4baca-79a7-47d6-af61-295fe69499d0\",\"type\":\"Selection\"},{\"attributes\":{},\"id\":\"b8ce3e1d-0569-4b79-acad-9298829f9d92\",\"type\":\"UnionRenderers\"},{\"attributes\":{\"callback\":null,\"end\":0.01,\"start\":1020},\"id\":\"7ac4e494-5e35-4cef-98e1-89c05adc7f14\",\"type\":\"Range1d\"},{\"attributes\":{\"axis_label\":\"pressure [mb]\",\"formatter\":{\"id\":\"9aa56a06-eb43-4d7a-878d-31551852c7cb\",\"type\":\"BasicTickFormatter\"},\"plot\":{\"id\":\"f70c9a28-5037-4474-ba67-a024c2aa1e27\",\"subtype\":\"Figure\",\"type\":\"Plot\"},\"ticker\":{\"id\":\"d2f67570-e662-46eb-9b2f-645cfa88234e\",\"type\":\"BasicTicker\"}},\"id\":\"915765d1-91ac-4888-9409-f94eca08c691\",\"type\":\"LinearAxis\"},{\"attributes\":{\"data_source\":{\"id\":\"d06c3c30-2d87-4417-a360-d87d54362cad\",\"type\":\"ColumnDataSource\"},\"glyph\":{\"id\":\"1b98d7bc-ead0-4df4-94d7-29e5d98e65e2\",\"type\":\"Line\"},\"hover_glyph\":null,\"muted_glyph\":null,\"nonselection_glyph\":{\"id\":\"70b0706c-8ce4-457b-8286-b11db3e4aa97\",\"type\":\"Line\"},\"selection_glyph\":null,\"view\":{\"id\":\"8f6a63f4-919f-452c-9949-471de8416d29\",\"type\":\"CDSView\"}},\"id\":\"75a8d290-abdd-4329-9952-fb5759d51fa1\",\"type\":\"GlyphRenderer\"},{\"attributes\":{\"items\":[{\"id\":\"ef740b6f-6ccf-4e3d-a229-1a0898c17c2e\",\"type\":\"LegendItem\"}],\"label_text_font_size\":{\"value\":\"8pt\"},\"location\":\"top_center\",\"orientation\":\"horizontal\",\"plot\":{\"id\":\"332de41b-b1e3-4661-a5f7-20e1a707bde1\",\"subtype\":\"Figure\",\"type\":\"Plot\"}},\"id\":\"091dd7c0-c6af-448e-8b36-4e6200c83aa2\",\"type\":\"Legend\"},{\"attributes\":{},\"id\":\"1af7d9dc-fff6-439e-8d89-c1df8da859dd\",\"type\":\"Selection\"},{\"attributes\":{},\"id\":\"5dc4230d-c1aa-41b2-9f64-f00845ce0b8d\",\"type\":\"UnionRenderers\"},{\"attributes\":{\"callback\":null,\"data\":{\"x\":{\"__ndarray__\":\"lXtci9lcQEAW/Z0xbS08QGspMUxKAz5AF7HURwGpPkAbIX4XuMg9QJz80qvJWjtAmzPGG6O5N0C92nqQzr8zQFe4Gu0neDBAteE24/g7LUDqvu4SQU8sQBtqajMZ2SxAlpOwtQ63LUCNcBX3Hz0tQHobmK45oipADlxf0LRJJ0CHAjEmyHckQCww0ci60yJAWUYESXqmIkDzwh7VV74jQFQtZ8zrLSZA3kJicEmvJUB9wdOV2yohQIr4YR17ZxlAQf5tLjlrE0D8FbLliLgPQBMBFSfXvgpA4zExRWfOBUARIsliziMCQJmizCVdbf8/pqBKe7IB/T+p+DwQq874P8N7RtalJPQ/s9bvKhIU8T/fhLrCqbDuP9ZG6/B6SOw/bE/E2Ctt5z+urFX1RhvhP0OE1UR/t90/tJLQbo4W3T+30+jDUJPeP3g01kpdPN4/OTbUdijT3D82HKJqB1DaP/OY4nfX39I/BBf+/jX00D/9LAPyuTXcP1jFfgLZuuM/GxCjeU+w6z9pO6WAhiryP8ViZRElb/U/zAJuTZeU9z9h4kaZhXP4P4LZIVBDcfg/d7u4S3VA+D+eaQLJG/P3P4WHEN51gvc/wLxQ1KPq9j8icU+KaDn2P3FxcZ/XhvU/IKk1uQ7A9D/fXRP7UPHzPyHbVzmLGvM/PR1563ZR8j8hg5W5K6rxP/zU6tBNOPE/GDrUwYoX8T8s4eA9zVrxP3lUnG3lsvE/HC15z5Bo8T8w05OF8ZvvP3Uba7/wm+o/U4Uscpum5T/7kPvCGVfhPx/RQze7Edc/\",\"dtype\":\"float64\",\"shape\":[75]},\"y\":{\"__ndarray__\":\"S/O/Q+51ND/Sv8nbtpRIP2vylNV0PVE/aTum7souWD/At0SJ8fVgPw3Iuahxymc/MSNhhJWvcD/bTfBN02d3P2zb5nxnaoA/CD5h5MAGhz8NmeH1TyaQP+zrCsc9p5Y/LbKd76fGnz/bLW5ISEmmPww9YvTcQq8/JV2OstnstT8Er5Y7M8G+P0c+r3jqkcU/5h99k6ZBzj88bCIzFzjVP4enV8oyxN0//yH99nXg5D8qOpLLf0jtP5kqGJXUifQ/c9cS8kHP/D+/DpwzojQEQIEmwoanVwxA4lgXt9HgE0BSSZ2AJuIbQAMJih9jjiNA5q4l5INuK0AwTKYKRj0zQNv5fmq8/DpAaCJseHrtQkB/+zpwzoxKQM3MzMzMeFJAZmZmZmZqWEAAAAAAAFxeQM3MzMzMJmJAmpmZmZkfZUBmZmZmZhhoQDMzMzMzEWtAAAAAAAAKbkBmZmZmZoFwQM3MzMzM/XFAMzMzMzN6c0CamZmZmfZ0QAAAAAAAc3ZAZmZmZmbvd0DNzMzMzGt5QDMzMzMz6HpAmpmZmZlkfEAAAAAAAOF9QGZmZmZmXX9AZmZmZuZsgECamZmZGSuBQM3MzMxM6YFAAAAAAICngkAzMzMzs2WDQGZmZmbmI4RAmpmZmRnihEDNzMzMTKCFQAAAAACAXoZAMzMzM7Mch0BmZmZm5tqHQJqZmZkZmYhAzczMzExXiUAAAAAAgBWKQDMzMzOz04pAZmZmZuaRi0CamZmZGVCMQM3MzMxMDo1AAAAAAIDMjUAzMzMzs4qOQGZmZmbmSI9A\",\"dtype\":\"float64\",\"shape\":[75]}},\"selected\":{\"id\":\"a795ae78-a036-4f52-92f2-895ee630f5c0\",\"type\":\"Selection\"},\"selection_policy\":{\"id\":\"e9a63e9f-6e44-42fe-866a-32113fe423ca\",\"type\":\"UnionRenderers\"}},\"id\":\"d06c3c30-2d87-4417-a360-d87d54362cad\",\"type\":\"ColumnDataSource\"},{\"attributes\":{\"plot\":null,\"text\":\"\"},\"id\":\"a4d3a905-277a-44d1-9851-284667627015\",\"type\":\"Title\"},{\"attributes\":{},\"id\":\"d2f67570-e662-46eb-9b2f-645cfa88234e\",\"type\":\"BasicTicker\"},{\"attributes\":{\"source\":{\"id\":\"d06c3c30-2d87-4417-a360-d87d54362cad\",\"type\":\"ColumnDataSource\"}},\"id\":\"8f6a63f4-919f-452c-9949-471de8416d29\",\"type\":\"CDSView\"},{\"attributes\":{},\"id\":\"74855e03-f999-4ddf-b1f4-19601c9df340\",\"type\":\"Selection\"},{\"attributes\":{},\"id\":\"be8ef4d7-4100-41d8-bdee-23b58b65ac5a\",\"type\":\"ResetTool\"},{\"attributes\":{\"fill_alpha\":{\"value\":0.7},\"fill_color\":{\"value\":\"#4daf4a\"},\"line_alpha\":{\"value\":0.7},\"line_color\":{\"value\":\"#4daf4a\"},\"x\":{\"field\":\"x\"},\"y\":{\"field\":\"y\"}},\"id\":\"c0eb011e-fde2-4770-946f-09b459d0bbd0\",\"type\":\"Circle\"},{\"attributes\":{\"dimension\":1,\"plot\":{\"id\":\"f70c9a28-5037-4474-ba67-a024c2aa1e27\",\"subtype\":\"Figure\",\"type\":\"Plot\"},\"ticker\":{\"id\":\"d2f67570-e662-46eb-9b2f-645cfa88234e\",\"type\":\"BasicTicker\"}},\"id\":\"f3952445-526a-47cc-8926-738edf8f6530\",\"type\":\"Grid\"},{\"attributes\":{\"above\":[{\"id\":\"091dd7c0-c6af-448e-8b36-4e6200c83aa2\",\"type\":\"Legend\"}],\"below\":[{\"id\":\"ea530c2b-3c78-42f1-bb96-fdc7e83ccbeb\",\"type\":\"LinearAxis\"}],\"left\":[{\"id\":\"d8b77bb2-8716-4d84-8086-7226a6963b44\",\"type\":\"LogAxis\"}],\"plot_width\":300,\"renderers\":[{\"id\":\"ea530c2b-3c78-42f1-bb96-fdc7e83ccbeb\",\"type\":\"LinearAxis\"},{\"id\":\"6fc55d52-c3bf-4e7c-a20d-b2ee61308721\",\"type\":\"Grid\"},{\"id\":\"d8b77bb2-8716-4d84-8086-7226a6963b44\",\"type\":\"LogAxis\"},{\"id\":\"e5b25e6e-9d2d-43f9-89fa-87747bd1eb88\",\"type\":\"Grid\"},{\"id\":\"849c7cf1-97ce-4009-853d-f2a849dc64e3\",\"type\":\"BoxAnnotation\"},{\"id\":\"0cbb7619-8534-45a5-94b7-227c05c95aa3\",\"type\":\"GlyphRenderer\"},{\"id\":\"2c7e9b79-8421-46c6-b463-ca8e6d61ea37\",\"type\":\"GlyphRenderer\"},{\"id\":\"091dd7c0-c6af-448e-8b36-4e6200c83aa2\",\"type\":\"Legend\"}],\"title\":{\"id\":\"d3b81c73-59b6-4877-88d8-6e4ba8c09eaf\",\"type\":\"Title\"},\"toolbar\":{\"id\":\"54c53b0e-adb1-46bb-8aec-d08ce5fdccb0\",\"type\":\"Toolbar\"},\"toolbar_location\":null,\"x_range\":{\"id\":\"93d82414-5766-4c02-bd05-f04433d010bf\",\"type\":\"Range1d\"},\"x_scale\":{\"id\":\"fa081136-f7dc-4be1-bb39-55c4c15c34a5\",\"type\":\"LinearScale\"},\"y_range\":{\"id\":\"0d43fdae-8287-4294-813f-7bf3c33190c6\",\"type\":\"Range1d\"},\"y_scale\":{\"id\":\"99c5b7a4-9217-4123-b0ef-a096f32f3b26\",\"type\":\"LogScale\"}},\"id\":\"332de41b-b1e3-4661-a5f7-20e1a707bde1\",\"subtype\":\"Figure\",\"type\":\"Plot\"},{\"attributes\":{},\"id\":\"89c0ce74-0070-4257-95ea-2b36de376191\",\"type\":\"WheelZoomTool\"},{\"attributes\":{\"ticker\":null},\"id\":\"6f8e9230-786f-450d-b0fd-f6e0a3a9c4a2\",\"type\":\"LogTickFormatter\"},{\"attributes\":{\"axis_label\":\"cooling rate [K/day]\",\"formatter\":{\"id\":\"e0ba2d25-7182-4a93-a6f7-c7e568a2cf30\",\"type\":\"BasicTickFormatter\"},\"plot\":{\"id\":\"f70c9a28-5037-4474-ba67-a024c2aa1e27\",\"subtype\":\"Figure\",\"type\":\"Plot\"},\"ticker\":{\"id\":\"507d90c7-d44d-45d6-a6e0-fd4f19a0acd8\",\"type\":\"BasicTicker\"}},\"id\":\"95c8559a-77c9-448e-8a31-dab2821ce86e\",\"type\":\"LinearAxis\"},{\"attributes\":{},\"id\":\"026d1e2f-f8ae-4485-b473-c4e4064a758f\",\"type\":\"UnionRenderers\"},{\"attributes\":{},\"id\":\"fe21b4f7-ebb8-43df-95db-613384d8d552\",\"type\":\"BasicTickFormatter\"},{\"attributes\":{\"callback\":null,\"data\":{\"x\":{\"__ndarray__\":\"0CYBcvU5UkCik9zf2GVBQF1VoNfLZ0BAVLxhiVXTPUDD1Wu1wJM6QFJyB025jjdAU6Aw5+b/NECYe1uuDfgyQB6bYtVTbTFAPxYSAF1HMEA00pYVm9QuQLolHbMzgC1AntlwirGsLECv+G9SjE4rQJH6ZLBp0ShAsLZQyPd/JkDyjgyf2PwkQLgyNGsrJyRAA13QbJD6I0C8hy0ilI4kQOVTXCEgcSZAovOGvZSGJUBVc/ZmUOIgQOf/6GHAyRlAcE8fAOBSFEDRur1U//gPQGFD9ZbokghAQsqHuSqSA0C91ci3W0UBQCtRQfvz7/4/kh8pntyB+j9t1/n+4TX1P773MAUjFfI/RgzR+CI28T8hBW8WHK7uPzVKjJfU8uk/0FPt4/z65T/wVYqzMPDhPz7K9C5CXuE/8+hSn9hY4T/9PPCkR6rhP1XsIC599OA/66X1nBCX3z/YbRM56QjcPz4dkSQc/dM/S7Wb8Fq00T+/yQdmX0vcP7TrGf476eM/WqNPJoWO7D9qOH1bcwDzP2bw+R5DQ/Y/RLSuQOQp+D8+aif8yAz5P0Wv6eBKRfk/0i2+IN4R+T/ik8QNFZr4PyS5UD5j/Pc/yJ68zXRG9z/2CHPL54H2P59SOhwKtPU/npkP8dfg9D8NlmVcdQz0P80ugRvuOvM/byxiAHN18j9USVZie8nxP5l9lNXYSPE/OB+F0UYP8T8Y7dsUCTHxP3EBgTHPcPE/bfx15p8S8T8FT+xkGtTuP6mdG7rkxuk/pboqTkHX5D/CrN8qGYngP7R4ZaL+htU/\",\"dtype\":\"float64\",\"shape\":[75]},\"y\":{\"__ndarray__\":\"GhExyth1ND/Sv8nbtpRIP2vylNV0PVE/aTum7souWD/At0SJ8fVgPw3Iuahxymc/MSNhhJWvcD/bTfBN02d3P2zb5nxnaoA/CD5h5MAGhz8NmeH1TyaQP+zrCsc9p5Y/LbKd76fGnz/bLW5ISEmmPww9YvTcQq8/JV2OstnstT8Er5Y7M8G+P0c+r3jqkcU/5h99k6ZBzj88bCIzFzjVP4enV8oyxN0//yH99nXg5D8qOpLLf0jtP5kqGJXUifQ/c9cS8kHP/D+/DpwzojQEQIEmwoanVwxA4lgXt9HgE0BSSZ2AJuIbQAMJih9jjiNA5q4l5INuK0AwTKYKRj0zQNv5fmq8/DpAaCJseHrtQkB/+zpwzoxKQM3MzMzMeFJAZmZmZmZqWEAAAAAAAFxeQM3MzMzMJmJAmpmZmZkfZUBmZmZmZhhoQDMzMzMzEWtAAAAAAAAKbkBmZmZmZoFwQM3MzMzM/XFAMzMzMzN6c0CamZmZmfZ0QAAAAAAAc3ZAZmZmZmbvd0DNzMzMzGt5QDMzMzMz6HpAmpmZmZlkfEAAAAAAAOF9QGZmZmZmXX9AZmZmZuZsgECamZmZGSuBQM3MzMxM6YFAAAAAAICngkAzMzMzs2WDQGZmZmbmI4RAmpmZmRnihEDNzMzMTKCFQAAAAACAXoZAMzMzM7Mch0BmZmZm5tqHQJqZmZkZmYhAzczMzExXiUAAAAAAgBWKQDMzMzOz04pAZmZmZuaRi0CamZmZGVCMQM3MzMxMDo1AAAAAAIDMjUAzMzMzs4qOQGZmZmbmSI9A\",\"dtype\":\"float64\",\"shape\":[75]}},\"selected\":{\"id\":\"1af7d9dc-fff6-439e-8d89-c1df8da859dd\",\"type\":\"Selection\"},\"selection_policy\":{\"id\":\"b8ce3e1d-0569-4b79-acad-9298829f9d92\",\"type\":\"UnionRenderers\"}},\"id\":\"9602b0da-b85d-4278-878d-186ba0a2a438\",\"type\":\"ColumnDataSource\"}],\"root_ids\":[\"46995dd7-c079-4cd0-a785-ce51c8cb7a5d\"]},\"title\":\"Bokeh Application\",\"version\":\"0.12.16\"}};\n",
       "  var render_items = [{\"docid\":\"39315be9-c84e-478c-8b01-ad42091dd173\",\"elementid\":\"2cd5031f-17d0-4d52-97a2-ef59ba701f50\",\"modelid\":\"46995dd7-c079-4cd0-a785-ce51c8cb7a5d\"}];\n",
       "  root.Bokeh.embed.embed_items_notebook(docs_json, render_items);\n",
       "\n",
       "  }\n",
       "  if (root.Bokeh !== undefined) {\n",
       "    embed_document(root);\n",
       "  } else {\n",
       "    var attempts = 0;\n",
       "    var timer = setInterval(function(root) {\n",
       "      if (root.Bokeh !== undefined) {\n",
       "        embed_document(root);\n",
       "        clearInterval(timer);\n",
       "      }\n",
       "      attempts++;\n",
       "      if (attempts > 100) {\n",
       "        console.log(\"Bokeh: ERROR: Unable to run BokehJS code because BokehJS library is missing\")\n",
       "        clearInterval(timer);\n",
       "      }\n",
       "    }, 10, root)\n",
       "  }\n",
       "})(window);"
      ],
      "application/vnd.bokehjs_exec.v0+json": ""
     },
     "metadata": {
      "application/vnd.bokehjs_exec.v0+json": {
       "id": "46995dd7-c079-4cd0-a785-ce51c8cb7a5d"
      }
     },
     "output_type": "display_data"
    },
    {
     "data": {
      "text/markdown": [
       "*FIGURE.* Cooling rates & difference."
      ],
      "text/plain": [
       "<IPython.core.display.Markdown object>"
      ]
     },
     "metadata": {},
     "output_type": "display_data"
    },
    {
     "data": {
      "text/html": [
       "<a id=\"Fluxes._saw.\"></a>"
      ],
      "text/plain": [
       "<IPython.core.display.HTML object>"
      ]
     },
     "metadata": {},
     "output_type": "display_data"
    },
    {
     "data": {
      "text/markdown": [
       "# Fluxes. saw."
      ],
      "text/plain": [
       "<IPython.core.display.Markdown object>"
      ]
     },
     "metadata": {},
     "output_type": "display_data"
    },
    {
     "data": {
      "text/html": [
       "\n",
       "<div class=\"bk-root\">\n",
       "    <div class=\"bk-plotdiv\" id=\"c264dd83-7bae-4a6a-b02c-6e6a29693085\"></div>\n",
       "</div>"
      ]
     },
     "metadata": {},
     "output_type": "display_data"
    },
    {
     "data": {
      "application/javascript": [
       "(function(root) {\n",
       "  function embed_document(root) {\n",
       "    \n",
       "  var docs_json = {\"e9712d3d-a227-4b7d-9ffc-c684b823d577\":{\"roots\":{\"references\":[{\"attributes\":{},\"id\":\"530a6d88-c1cb-45c6-925c-360b343080e5\",\"type\":\"CategoricalScale\"},{\"attributes\":{\"bottom_units\":\"screen\",\"fill_alpha\":{\"value\":0.5},\"fill_color\":{\"value\":\"lightgrey\"},\"left_units\":\"screen\",\"level\":\"overlay\",\"line_alpha\":{\"value\":1.0},\"line_color\":{\"value\":\"black\"},\"line_dash\":[4,4],\"line_width\":{\"value\":2},\"plot\":null,\"render_mode\":\"css\",\"right_units\":\"screen\",\"top_units\":\"screen\"},\"id\":\"823f393b-b218-4820-980b-2e06f27a2164\",\"type\":\"BoxAnnotation\"},{\"attributes\":{\"active_drag\":\"auto\",\"active_inspect\":\"auto\",\"active_scroll\":\"auto\",\"active_tap\":\"auto\",\"tools\":[{\"id\":\"4b5486c3-2525-4d5a-9e59-8b1f402bbd91\",\"type\":\"PanTool\"},{\"id\":\"b1b213af-3a2e-45ba-8d13-112a86f8aa0e\",\"type\":\"WheelZoomTool\"},{\"id\":\"b36e4f52-cd91-432a-8183-5d8b43d9f634\",\"type\":\"BoxZoomTool\"},{\"id\":\"aa658e3d-225f-411f-b60c-62b378616f11\",\"type\":\"SaveTool\"},{\"id\":\"bdc266ba-0885-4d4d-b1cd-9f19cc00c77d\",\"type\":\"ResetTool\"},{\"id\":\"92b35099-ae62-4f67-a52b-74e17d3279c1\",\"type\":\"HelpTool\"}]},\"id\":\"654cb84d-235e-43f5-8b85-61ee289f31d6\",\"type\":\"Toolbar\"},{\"attributes\":{\"below\":[{\"id\":\"6848d85b-0d03-4383-8813-82133ff669a7\",\"type\":\"CategoricalAxis\"}],\"left\":[{\"id\":\"c8f03191-142e-4b6d-af84-b922ff3c4a45\",\"type\":\"LinearAxis\"}],\"plot_height\":300,\"plot_width\":300,\"renderers\":[{\"id\":\"6848d85b-0d03-4383-8813-82133ff669a7\",\"type\":\"CategoricalAxis\"},{\"id\":\"c8e7e367-41bd-4a78-9c1c-ab74701f1beb\",\"type\":\"Grid\"},{\"id\":\"c8f03191-142e-4b6d-af84-b922ff3c4a45\",\"type\":\"LinearAxis\"},{\"id\":\"4dc0f770-6834-4a1a-9f75-6ed65a30ea2b\",\"type\":\"Grid\"},{\"id\":\"3564d272-61fc-4277-bc4f-34cc084bdfce\",\"type\":\"BoxAnnotation\"},{\"id\":\"2153bb18-3af3-4e52-bf51-bacf81abd27a\",\"type\":\"GlyphRenderer\"}],\"title\":{\"id\":\"76294a10-d8e8-44d5-8d0a-68aee2a8f201\",\"type\":\"Title\"},\"toolbar\":{\"id\":\"654cb84d-235e-43f5-8b85-61ee289f31d6\",\"type\":\"Toolbar\"},\"toolbar_location\":null,\"x_range\":{\"id\":\"8c46cb93-41a8-4af3-81d9-0a1439cbb1d1\",\"type\":\"FactorRange\"},\"x_scale\":{\"id\":\"530a6d88-c1cb-45c6-925c-360b343080e5\",\"type\":\"CategoricalScale\"},\"y_range\":{\"id\":\"ec5e0375-cd36-432d-865a-e7da002126e0\",\"type\":\"DataRange1d\"},\"y_scale\":{\"id\":\"1245b49d-3df8-40c1-8c17-54092e6c9904\",\"type\":\"LinearScale\"}},\"id\":\"f1cba0a7-533e-4382-843d-c19c6a43d7f8\",\"subtype\":\"Figure\",\"type\":\"Plot\"},{\"attributes\":{\"active_drag\":\"auto\",\"active_inspect\":\"auto\",\"active_scroll\":\"auto\",\"active_tap\":\"auto\",\"tools\":[{\"id\":\"ecc8974a-5727-47af-85a3-a3f80bce4095\",\"type\":\"PanTool\"},{\"id\":\"fa78d226-4b8b-49f0-bb82-458609ad1043\",\"type\":\"WheelZoomTool\"},{\"id\":\"9bba5aac-3041-4185-b35b-f37810f4cc2a\",\"type\":\"BoxZoomTool\"},{\"id\":\"5b6b8b1c-046a-40ce-9fcd-4361408ae6c8\",\"type\":\"SaveTool\"},{\"id\":\"9523fcf7-9e46-4e1a-a913-07df6c70008e\",\"type\":\"ResetTool\"},{\"id\":\"5606259c-11ed-44bc-a34e-1a0b15c29e25\",\"type\":\"HelpTool\"}]},\"id\":\"e98ae297-69ad-4464-9e72-9542a29df315\",\"type\":\"Toolbar\"},{\"attributes\":{},\"id\":\"bca79b6e-21a3-43c4-9add-3d0115d1c977\",\"type\":\"PanTool\"},{\"attributes\":{},\"id\":\"d0ba7400-0a94-4e14-ade1-24509ec0b6c1\",\"type\":\"BasicTicker\"},{\"attributes\":{\"data_source\":{\"id\":\"e4918c64-50f9-4539-9f25-2815a864f97b\",\"type\":\"ColumnDataSource\"},\"glyph\":{\"id\":\"9ba02c06-80f5-41c5-b7b2-e9e72e7c4186\",\"type\":\"VBar\"},\"hover_glyph\":null,\"muted_glyph\":null,\"nonselection_glyph\":{\"id\":\"146cd69e-3f45-4765-850b-1b6dbf907981\",\"type\":\"VBar\"},\"selection_glyph\":null,\"view\":{\"id\":\"9e9240f5-9640-44e6-aeb8-991d1bc56f3a\",\"type\":\"CDSView\"}},\"id\":\"2153bb18-3af3-4e52-bf51-bacf81abd27a\",\"type\":\"GlyphRenderer\"},{\"attributes\":{},\"id\":\"da541814-5710-4306-836c-30a71fb91fd6\",\"type\":\"CategoricalTickFormatter\"},{\"attributes\":{\"plot\":{\"id\":\"522a3537-e7ef-4ebb-ab27-4044b5a17988\",\"subtype\":\"Figure\",\"type\":\"Plot\"},\"ticker\":{\"id\":\"57f00f0c-f5a8-4b47-a5b2-7bcd6ed3b43d\",\"type\":\"CategoricalTicker\"}},\"id\":\"0c0a37f5-0928-467c-b3dc-490b5c9457f3\",\"type\":\"Grid\"},{\"attributes\":{},\"id\":\"ff6e8962-5b9a-4d35-b893-57e8cfdbf061\",\"type\":\"SaveTool\"},{\"attributes\":{\"overlay\":{\"id\":\"3564d272-61fc-4277-bc4f-34cc084bdfce\",\"type\":\"BoxAnnotation\"}},\"id\":\"b36e4f52-cd91-432a-8183-5d8b43d9f634\",\"type\":\"BoxZoomTool\"},{\"attributes\":{},\"id\":\"92b35099-ae62-4f67-a52b-74e17d3279c1\",\"type\":\"HelpTool\"},{\"attributes\":{\"dimension\":1,\"plot\":{\"id\":\"522a3537-e7ef-4ebb-ab27-4044b5a17988\",\"subtype\":\"Figure\",\"type\":\"Plot\"},\"ticker\":{\"id\":\"d0ba7400-0a94-4e14-ade1-24509ec0b6c1\",\"type\":\"BasicTicker\"}},\"id\":\"3a8f98c7-2043-4a14-b02c-5ff9311ec0d8\",\"type\":\"Grid\"},{\"attributes\":{\"callback\":null,\"factors\":[\"1\",\"2\",\"3\",\"4\",\"5\",\"6\",\"7\",\"8\",\"9\",\"10\",\"11\"]},\"id\":\"8c46cb93-41a8-4af3-81d9-0a1439cbb1d1\",\"type\":\"FactorRange\"},{\"attributes\":{\"source\":{\"id\":\"13077709-da64-4adf-8367-fc0dfc862335\",\"type\":\"ColumnDataSource\"}},\"id\":\"5775a43f-3728-4748-85f4-45ddf1994211\",\"type\":\"CDSView\"},{\"attributes\":{},\"id\":\"867c2abc-de20-41f4-a69e-a01284421cf7\",\"type\":\"UnionRenderers\"},{\"attributes\":{},\"id\":\"78578d47-89a7-40aa-ba6f-8d593c5a43a7\",\"type\":\"LinearScale\"},{\"attributes\":{\"fill_alpha\":{\"value\":0.1},\"fill_color\":{\"value\":\"#1f77b4\"},\"line_alpha\":{\"value\":0.1},\"line_color\":{\"value\":\"#1f77b4\"},\"top\":{\"field\":\"flux\"},\"width\":{\"value\":0.9},\"x\":{\"field\":\"band\"}},\"id\":\"219749c5-bf61-4d08-947e-018a080205a5\",\"type\":\"VBar\"},{\"attributes\":{},\"id\":\"94f9e4e3-4cae-476c-8b0e-66fc47ba36d2\",\"type\":\"Selection\"},{\"attributes\":{},\"id\":\"68746b3b-f324-42cc-b0a2-f842b3794dca\",\"type\":\"BasicTickFormatter\"},{\"attributes\":{},\"id\":\"51266449-bab7-4581-bacf-9ece1282ef7a\",\"type\":\"CategoricalTickFormatter\"},{\"attributes\":{},\"id\":\"a67cc0d3-9f75-4abc-a6a4-bcfd5a5f9cf6\",\"type\":\"CategoricalTickFormatter\"},{\"attributes\":{\"source\":{\"id\":\"e4918c64-50f9-4539-9f25-2815a864f97b\",\"type\":\"ColumnDataSource\"}},\"id\":\"9e9240f5-9640-44e6-aeb8-991d1bc56f3a\",\"type\":\"CDSView\"},{\"attributes\":{},\"id\":\"45c9f89d-2480-43be-be0b-1a219b7ac553\",\"type\":\"CategoricalTicker\"},{\"attributes\":{},\"id\":\"1245b49d-3df8-40c1-8c17-54092e6c9904\",\"type\":\"LinearScale\"},{\"attributes\":{\"plot\":null,\"text\":\"Atmosphere heating. CLIRAD (single-run) - CRD.\"},\"id\":\"76294a10-d8e8-44d5-8d0a-68aee2a8f201\",\"type\":\"Title\"},{\"attributes\":{\"tools\":[{\"id\":\"bca79b6e-21a3-43c4-9add-3d0115d1c977\",\"type\":\"PanTool\"},{\"id\":\"994c3bfb-e4f1-4ec2-b6fa-5136f6aa0599\",\"type\":\"WheelZoomTool\"},{\"id\":\"d5aa49d8-084d-4f0e-9b61-2bb694761c03\",\"type\":\"BoxZoomTool\"},{\"id\":\"ff6e8962-5b9a-4d35-b893-57e8cfdbf061\",\"type\":\"SaveTool\"},{\"id\":\"bd042f26-b939-4e1c-84b8-d00af1d18695\",\"type\":\"ResetTool\"},{\"id\":\"4b94b3dd-cc86-4e61-a469-8dc54f4fcd34\",\"type\":\"HelpTool\"},{\"id\":\"ecc8974a-5727-47af-85a3-a3f80bce4095\",\"type\":\"PanTool\"},{\"id\":\"fa78d226-4b8b-49f0-bb82-458609ad1043\",\"type\":\"WheelZoomTool\"},{\"id\":\"9bba5aac-3041-4185-b35b-f37810f4cc2a\",\"type\":\"BoxZoomTool\"},{\"id\":\"5b6b8b1c-046a-40ce-9fcd-4361408ae6c8\",\"type\":\"SaveTool\"},{\"id\":\"9523fcf7-9e46-4e1a-a913-07df6c70008e\",\"type\":\"ResetTool\"},{\"id\":\"5606259c-11ed-44bc-a34e-1a0b15c29e25\",\"type\":\"HelpTool\"},{\"id\":\"4b5486c3-2525-4d5a-9e59-8b1f402bbd91\",\"type\":\"PanTool\"},{\"id\":\"b1b213af-3a2e-45ba-8d13-112a86f8aa0e\",\"type\":\"WheelZoomTool\"},{\"id\":\"b36e4f52-cd91-432a-8183-5d8b43d9f634\",\"type\":\"BoxZoomTool\"},{\"id\":\"aa658e3d-225f-411f-b60c-62b378616f11\",\"type\":\"SaveTool\"},{\"id\":\"bdc266ba-0885-4d4d-b1cd-9f19cc00c77d\",\"type\":\"ResetTool\"},{\"id\":\"92b35099-ae62-4f67-a52b-74e17d3279c1\",\"type\":\"HelpTool\"}]},\"id\":\"f8001d1e-0093-44ce-838e-70801f698ebd\",\"type\":\"ProxyToolbar\"},{\"attributes\":{},\"id\":\"b1b213af-3a2e-45ba-8d13-112a86f8aa0e\",\"type\":\"WheelZoomTool\"},{\"attributes\":{\"callback\":null},\"id\":\"5d692f24-82dd-4934-8e0c-9a30a1b8af9b\",\"type\":\"DataRange1d\"},{\"attributes\":{},\"id\":\"4989f0bb-843b-44f4-8c28-3f1a84e4270f\",\"type\":\"BasicTicker\"},{\"attributes\":{\"overlay\":{\"id\":\"f111c6b7-11b7-46d0-9b7d-1320476339cf\",\"type\":\"BoxAnnotation\"}},\"id\":\"d5aa49d8-084d-4f0e-9b61-2bb694761c03\",\"type\":\"BoxZoomTool\"},{\"attributes\":{},\"id\":\"3cec577c-2b29-419e-8bf5-a17ec58be299\",\"type\":\"Selection\"},{\"attributes\":{\"below\":[{\"id\":\"2706fe64-532e-429b-ae62-bc40ba9a0890\",\"type\":\"CategoricalAxis\"}],\"left\":[{\"id\":\"c2ca25fa-1f51-497d-8f68-c80a4bd24d18\",\"type\":\"LinearAxis\"}],\"plot_height\":300,\"plot_width\":300,\"renderers\":[{\"id\":\"2706fe64-532e-429b-ae62-bc40ba9a0890\",\"type\":\"CategoricalAxis\"},{\"id\":\"0c0a37f5-0928-467c-b3dc-490b5c9457f3\",\"type\":\"Grid\"},{\"id\":\"c2ca25fa-1f51-497d-8f68-c80a4bd24d18\",\"type\":\"LinearAxis\"},{\"id\":\"3a8f98c7-2043-4a14-b02c-5ff9311ec0d8\",\"type\":\"Grid\"},{\"id\":\"f111c6b7-11b7-46d0-9b7d-1320476339cf\",\"type\":\"BoxAnnotation\"},{\"id\":\"c38c0359-cb63-47df-bd0e-cf8251f4da09\",\"type\":\"GlyphRenderer\"}],\"title\":{\"id\":\"13dcc319-3d9e-42b4-9247-9bf715f4a45d\",\"type\":\"Title\"},\"toolbar\":{\"id\":\"98b7d510-5c5b-4fe3-a71c-204aaf76664e\",\"type\":\"Toolbar\"},\"toolbar_location\":null,\"x_range\":{\"id\":\"6e82d411-34af-4f5e-b593-ea097c7c44d1\",\"type\":\"FactorRange\"},\"x_scale\":{\"id\":\"b5628a84-6680-4598-aefe-8cef88319fd7\",\"type\":\"CategoricalScale\"},\"y_range\":{\"id\":\"5d692f24-82dd-4934-8e0c-9a30a1b8af9b\",\"type\":\"DataRange1d\"},\"y_scale\":{\"id\":\"78578d47-89a7-40aa-ba6f-8d593c5a43a7\",\"type\":\"LinearScale\"}},\"id\":\"522a3537-e7ef-4ebb-ab27-4044b5a17988\",\"subtype\":\"Figure\",\"type\":\"Plot\"},{\"attributes\":{},\"id\":\"6d6f9a13-16af-4c44-9486-2c112dc582f7\",\"type\":\"UnionRenderers\"},{\"attributes\":{},\"id\":\"4b94b3dd-cc86-4e61-a469-8dc54f4fcd34\",\"type\":\"HelpTool\"},{\"attributes\":{\"dimension\":1,\"plot\":{\"id\":\"f1cba0a7-533e-4382-843d-c19c6a43d7f8\",\"subtype\":\"Figure\",\"type\":\"Plot\"},\"ticker\":{\"id\":\"4989f0bb-843b-44f4-8c28-3f1a84e4270f\",\"type\":\"BasicTicker\"}},\"id\":\"4dc0f770-6834-4a1a-9f75-6ed65a30ea2b\",\"type\":\"Grid\"},{\"attributes\":{\"active_drag\":\"auto\",\"active_inspect\":\"auto\",\"active_scroll\":\"auto\",\"active_tap\":\"auto\",\"tools\":[{\"id\":\"bca79b6e-21a3-43c4-9add-3d0115d1c977\",\"type\":\"PanTool\"},{\"id\":\"994c3bfb-e4f1-4ec2-b6fa-5136f6aa0599\",\"type\":\"WheelZoomTool\"},{\"id\":\"d5aa49d8-084d-4f0e-9b61-2bb694761c03\",\"type\":\"BoxZoomTool\"},{\"id\":\"ff6e8962-5b9a-4d35-b893-57e8cfdbf061\",\"type\":\"SaveTool\"},{\"id\":\"bd042f26-b939-4e1c-84b8-d00af1d18695\",\"type\":\"ResetTool\"},{\"id\":\"4b94b3dd-cc86-4e61-a469-8dc54f4fcd34\",\"type\":\"HelpTool\"}]},\"id\":\"98b7d510-5c5b-4fe3-a71c-204aaf76664e\",\"type\":\"Toolbar\"},{\"attributes\":{},\"id\":\"bd042f26-b939-4e1c-84b8-d00af1d18695\",\"type\":\"ResetTool\"},{\"attributes\":{\"below\":[{\"id\":\"bb3e63a8-5ef2-4b50-86ff-841cf91dd07e\",\"type\":\"CategoricalAxis\"}],\"left\":[{\"id\":\"2bdebba8-9d28-4af9-8330-da608d5fb8fc\",\"type\":\"LinearAxis\"}],\"plot_height\":300,\"plot_width\":300,\"renderers\":[{\"id\":\"bb3e63a8-5ef2-4b50-86ff-841cf91dd07e\",\"type\":\"CategoricalAxis\"},{\"id\":\"af67911c-3bf6-400c-b349-c068d88bdc04\",\"type\":\"Grid\"},{\"id\":\"2bdebba8-9d28-4af9-8330-da608d5fb8fc\",\"type\":\"LinearAxis\"},{\"id\":\"0b457028-fe64-47ac-a53f-c8a01e627d44\",\"type\":\"Grid\"},{\"id\":\"823f393b-b218-4820-980b-2e06f27a2164\",\"type\":\"BoxAnnotation\"},{\"id\":\"777c7593-94b8-4436-976c-d6abc4253eea\",\"type\":\"GlyphRenderer\"}],\"title\":{\"id\":\"d9a9892c-1198-476e-af51-cf8acc1058c0\",\"type\":\"Title\"},\"toolbar\":{\"id\":\"e98ae297-69ad-4464-9e72-9542a29df315\",\"type\":\"Toolbar\"},\"toolbar_location\":null,\"x_range\":{\"id\":\"42b63ebe-3175-4baa-ab8d-6e29db3f0d9b\",\"type\":\"FactorRange\"},\"x_scale\":{\"id\":\"77467dd8-2224-490f-913f-6df416f37638\",\"type\":\"CategoricalScale\"},\"y_range\":{\"id\":\"65ac0486-5d86-4594-b297-bd643c9cdd7a\",\"type\":\"DataRange1d\"},\"y_scale\":{\"id\":\"5386bb21-1a68-44bc-8026-b2b8f30e38f7\",\"type\":\"LinearScale\"}},\"id\":\"0b75ccec-14af-4ac3-88b6-599f97708cdc\",\"subtype\":\"Figure\",\"type\":\"Plot\"},{\"attributes\":{\"fill_color\":{\"value\":\"#1f77b4\"},\"line_color\":{\"value\":\"#1f77b4\"},\"top\":{\"field\":\"flux\"},\"width\":{\"value\":0.9},\"x\":{\"field\":\"band\"}},\"id\":\"4c145e41-a6ed-478e-a18a-7f6a2c5159df\",\"type\":\"VBar\"},{\"attributes\":{\"children\":[{\"id\":\"d684fbf6-d5c4-4179-b443-be70d7f2216e\",\"type\":\"ToolbarBox\"},{\"id\":\"56e07d51-a1f9-4196-9fb5-9b491474c2c2\",\"type\":\"Column\"}]},\"id\":\"2089f5f8-bd56-46e5-aa65-a8922c69810f\",\"type\":\"Column\"},{\"attributes\":{},\"id\":\"f179e9eb-6907-4568-95c6-b1fde081fc62\",\"type\":\"BasicTickFormatter\"},{\"attributes\":{},\"id\":\"963270aa-62c3-4d09-8e10-7b686895eddb\",\"type\":\"BasicTickFormatter\"},{\"attributes\":{\"data_source\":{\"id\":\"13077709-da64-4adf-8367-fc0dfc862335\",\"type\":\"ColumnDataSource\"},\"glyph\":{\"id\":\"4c145e41-a6ed-478e-a18a-7f6a2c5159df\",\"type\":\"VBar\"},\"hover_glyph\":null,\"muted_glyph\":null,\"nonselection_glyph\":{\"id\":\"219749c5-bf61-4d08-947e-018a080205a5\",\"type\":\"VBar\"},\"selection_glyph\":null,\"view\":{\"id\":\"5775a43f-3728-4748-85f4-45ddf1994211\",\"type\":\"CDSView\"}},\"id\":\"c38c0359-cb63-47df-bd0e-cf8251f4da09\",\"type\":\"GlyphRenderer\"},{\"attributes\":{\"fill_color\":{\"value\":\"#1f77b4\"},\"line_color\":{\"value\":\"#1f77b4\"},\"top\":{\"field\":\"flux\"},\"width\":{\"value\":0.9},\"x\":{\"field\":\"band\"}},\"id\":\"9ba02c06-80f5-41c5-b7b2-e9e72e7c4186\",\"type\":\"VBar\"},{\"attributes\":{},\"id\":\"bdc266ba-0885-4d4d-b1cd-9f19cc00c77d\",\"type\":\"ResetTool\"},{\"attributes\":{\"plot\":null,\"text\":\"TOA flux. CLIRAD (single-run) - CRD.\"},\"id\":\"13dcc319-3d9e-42b4-9247-9bf715f4a45d\",\"type\":\"Title\"},{\"attributes\":{\"bottom_units\":\"screen\",\"fill_alpha\":{\"value\":0.5},\"fill_color\":{\"value\":\"lightgrey\"},\"left_units\":\"screen\",\"level\":\"overlay\",\"line_alpha\":{\"value\":1.0},\"line_color\":{\"value\":\"black\"},\"line_dash\":[4,4],\"line_width\":{\"value\":2},\"plot\":null,\"render_mode\":\"css\",\"right_units\":\"screen\",\"top_units\":\"screen\"},\"id\":\"f111c6b7-11b7-46d0-9b7d-1320476339cf\",\"type\":\"BoxAnnotation\"},{\"attributes\":{\"axis_label\":\"flux (W m-2)\",\"formatter\":{\"id\":\"f179e9eb-6907-4568-95c6-b1fde081fc62\",\"type\":\"BasicTickFormatter\"},\"plot\":{\"id\":\"522a3537-e7ef-4ebb-ab27-4044b5a17988\",\"subtype\":\"Figure\",\"type\":\"Plot\"},\"ticker\":{\"id\":\"d0ba7400-0a94-4e14-ade1-24509ec0b6c1\",\"type\":\"BasicTicker\"}},\"id\":\"c2ca25fa-1f51-497d-8f68-c80a4bd24d18\",\"type\":\"LinearAxis\"},{\"attributes\":{},\"id\":\"4b5486c3-2525-4d5a-9e59-8b1f402bbd91\",\"type\":\"PanTool\"},{\"attributes\":{\"fill_alpha\":{\"value\":0.1},\"fill_color\":{\"value\":\"#1f77b4\"},\"line_alpha\":{\"value\":0.1},\"line_color\":{\"value\":\"#1f77b4\"},\"top\":{\"field\":\"flux\"},\"width\":{\"value\":0.9},\"x\":{\"field\":\"band\"}},\"id\":\"146cd69e-3f45-4765-850b-1b6dbf907981\",\"type\":\"VBar\"},{\"attributes\":{},\"id\":\"b5628a84-6680-4598-aefe-8cef88319fd7\",\"type\":\"CategoricalScale\"},{\"attributes\":{},\"id\":\"c1e32e6d-3395-41f3-8a57-e63a63a8e7f9\",\"type\":\"Selection\"},{\"attributes\":{},\"id\":\"aa658e3d-225f-411f-b60c-62b378616f11\",\"type\":\"SaveTool\"},{\"attributes\":{\"axis_label\":\"flux (W m-2)\",\"formatter\":{\"id\":\"963270aa-62c3-4d09-8e10-7b686895eddb\",\"type\":\"BasicTickFormatter\"},\"plot\":{\"id\":\"f1cba0a7-533e-4382-843d-c19c6a43d7f8\",\"subtype\":\"Figure\",\"type\":\"Plot\"},\"ticker\":{\"id\":\"4989f0bb-843b-44f4-8c28-3f1a84e4270f\",\"type\":\"BasicTicker\"}},\"id\":\"c8f03191-142e-4b6d-af84-b922ff3c4a45\",\"type\":\"LinearAxis\"},{\"attributes\":{\"plot\":{\"id\":\"f1cba0a7-533e-4382-843d-c19c6a43d7f8\",\"subtype\":\"Figure\",\"type\":\"Plot\"},\"ticker\":{\"id\":\"45c9f89d-2480-43be-be0b-1a219b7ac553\",\"type\":\"CategoricalTicker\"}},\"id\":\"c8e7e367-41bd-4a78-9c1c-ab74701f1beb\",\"type\":\"Grid\"},{\"attributes\":{\"toolbar\":{\"id\":\"f8001d1e-0093-44ce-838e-70801f698ebd\",\"type\":\"ProxyToolbar\"},\"toolbar_location\":\"above\"},\"id\":\"d684fbf6-d5c4-4179-b443-be70d7f2216e\",\"type\":\"ToolbarBox\"},{\"attributes\":{\"axis_label\":\"spectral band\",\"formatter\":{\"id\":\"51266449-bab7-4581-bacf-9ece1282ef7a\",\"type\":\"CategoricalTickFormatter\"},\"plot\":{\"id\":\"522a3537-e7ef-4ebb-ab27-4044b5a17988\",\"subtype\":\"Figure\",\"type\":\"Plot\"},\"ticker\":{\"id\":\"57f00f0c-f5a8-4b47-a5b2-7bcd6ed3b43d\",\"type\":\"CategoricalTicker\"}},\"id\":\"2706fe64-532e-429b-ae62-bc40ba9a0890\",\"type\":\"CategoricalAxis\"},{\"attributes\":{\"bottom_units\":\"screen\",\"fill_alpha\":{\"value\":0.5},\"fill_color\":{\"value\":\"lightgrey\"},\"left_units\":\"screen\",\"level\":\"overlay\",\"line_alpha\":{\"value\":1.0},\"line_color\":{\"value\":\"black\"},\"line_dash\":[4,4],\"line_width\":{\"value\":2},\"plot\":null,\"render_mode\":\"css\",\"right_units\":\"screen\",\"top_units\":\"screen\"},\"id\":\"3564d272-61fc-4277-bc4f-34cc084bdfce\",\"type\":\"BoxAnnotation\"},{\"attributes\":{\"callback\":null,\"data\":{\"band\":[\"1\",\"2\",\"3\",\"4\",\"5\",\"6\",\"7\",\"8\",\"9\",\"10\",\"11\"],\"flux\":{\"__ndarray__\":\"ALOGvRaVxz8Aa0g3HVzKP6CCab2Er9w/wPnWrbwpxj8A3iY35WW4vwBJ8fEJ2bU/QL99HThnzD8AYMrAAS2NvwByMasc/4o/ADL9tzdkpb8QkqqSbYWlPw==\",\"dtype\":\"float64\",\"shape\":[11]}},\"selected\":{\"id\":\"3cec577c-2b29-419e-8bf5-a17ec58be299\",\"type\":\"Selection\"},\"selection_policy\":{\"id\":\"6d6f9a13-16af-4c44-9486-2c112dc582f7\",\"type\":\"UnionRenderers\"}},\"id\":\"e4918c64-50f9-4539-9f25-2815a864f97b\",\"type\":\"ColumnDataSource\"},{\"attributes\":{\"children\":[{\"id\":\"522a3537-e7ef-4ebb-ab27-4044b5a17988\",\"subtype\":\"Figure\",\"type\":\"Plot\"},{\"id\":\"0b75ccec-14af-4ac3-88b6-599f97708cdc\",\"subtype\":\"Figure\",\"type\":\"Plot\"},{\"id\":\"f1cba0a7-533e-4382-843d-c19c6a43d7f8\",\"subtype\":\"Figure\",\"type\":\"Plot\"}]},\"id\":\"94201035-f07a-4fd0-8e52-5a3f80b92555\",\"type\":\"Row\"},{\"attributes\":{},\"id\":\"57f00f0c-f5a8-4b47-a5b2-7bcd6ed3b43d\",\"type\":\"CategoricalTicker\"},{\"attributes\":{\"callback\":null,\"factors\":[\"1\",\"2\",\"3\",\"4\",\"5\",\"6\",\"7\",\"8\",\"9\",\"10\",\"11\"]},\"id\":\"6e82d411-34af-4f5e-b593-ea097c7c44d1\",\"type\":\"FactorRange\"},{\"attributes\":{\"children\":[{\"id\":\"94201035-f07a-4fd0-8e52-5a3f80b92555\",\"type\":\"Row\"}]},\"id\":\"56e07d51-a1f9-4196-9fb5-9b491474c2c2\",\"type\":\"Column\"},{\"attributes\":{\"callback\":null},\"id\":\"ec5e0375-cd36-432d-865a-e7da002126e0\",\"type\":\"DataRange1d\"},{\"attributes\":{\"axis_label\":\"spectral band\",\"formatter\":{\"id\":\"a67cc0d3-9f75-4abc-a6a4-bcfd5a5f9cf6\",\"type\":\"CategoricalTickFormatter\"},\"plot\":{\"id\":\"f1cba0a7-533e-4382-843d-c19c6a43d7f8\",\"subtype\":\"Figure\",\"type\":\"Plot\"},\"ticker\":{\"id\":\"45c9f89d-2480-43be-be0b-1a219b7ac553\",\"type\":\"CategoricalTicker\"}},\"id\":\"6848d85b-0d03-4383-8813-82133ff669a7\",\"type\":\"CategoricalAxis\"},{\"attributes\":{},\"id\":\"994c3bfb-e4f1-4ec2-b6fa-5136f6aa0599\",\"type\":\"WheelZoomTool\"},{\"attributes\":{},\"id\":\"ae634f38-2d31-4419-8042-78fdf9aaa56b\",\"type\":\"CategoricalTicker\"},{\"attributes\":{\"fill_color\":{\"value\":\"#1f77b4\"},\"line_color\":{\"value\":\"#1f77b4\"},\"top\":{\"field\":\"flux\"},\"width\":{\"value\":0.9},\"x\":{\"field\":\"band\"}},\"id\":\"813e3f29-7716-4caa-88f9-1452eafb41fb\",\"type\":\"VBar\"},{\"attributes\":{\"axis_label\":\"flux (W m-2)\",\"formatter\":{\"id\":\"68746b3b-f324-42cc-b0a2-f842b3794dca\",\"type\":\"BasicTickFormatter\"},\"plot\":{\"id\":\"0b75ccec-14af-4ac3-88b6-599f97708cdc\",\"subtype\":\"Figure\",\"type\":\"Plot\"},\"ticker\":{\"id\":\"87b4557a-9bd8-4dd4-a015-420a88e0f2fa\",\"type\":\"BasicTicker\"}},\"id\":\"2bdebba8-9d28-4af9-8330-da608d5fb8fc\",\"type\":\"LinearAxis\"},{\"attributes\":{\"plot\":null,\"text\":\"SFC flux. CLIRAD (single-run) - CRD.\"},\"id\":\"d9a9892c-1198-476e-af51-cf8acc1058c0\",\"type\":\"Title\"},{\"attributes\":{\"dimension\":1,\"plot\":{\"id\":\"0b75ccec-14af-4ac3-88b6-599f97708cdc\",\"subtype\":\"Figure\",\"type\":\"Plot\"},\"ticker\":{\"id\":\"87b4557a-9bd8-4dd4-a015-420a88e0f2fa\",\"type\":\"BasicTicker\"}},\"id\":\"0b457028-fe64-47ac-a53f-c8a01e627d44\",\"type\":\"Grid\"},{\"attributes\":{},\"id\":\"fa78d226-4b8b-49f0-bb82-458609ad1043\",\"type\":\"WheelZoomTool\"},{\"attributes\":{\"axis_label\":\"spectral band\",\"formatter\":{\"id\":\"da541814-5710-4306-836c-30a71fb91fd6\",\"type\":\"CategoricalTickFormatter\"},\"plot\":{\"id\":\"0b75ccec-14af-4ac3-88b6-599f97708cdc\",\"subtype\":\"Figure\",\"type\":\"Plot\"},\"ticker\":{\"id\":\"ae634f38-2d31-4419-8042-78fdf9aaa56b\",\"type\":\"CategoricalTicker\"}},\"id\":\"bb3e63a8-5ef2-4b50-86ff-841cf91dd07e\",\"type\":\"CategoricalAxis\"},{\"attributes\":{\"callback\":null,\"factors\":[\"1\",\"2\",\"3\",\"4\",\"5\",\"6\",\"7\",\"8\",\"9\",\"10\",\"11\"]},\"id\":\"42b63ebe-3175-4baa-ab8d-6e29db3f0d9b\",\"type\":\"FactorRange\"},{\"attributes\":{\"source\":{\"id\":\"f3be8003-546e-4b56-b97b-b56eb3aca86d\",\"type\":\"ColumnDataSource\"}},\"id\":\"533e4447-2ae1-46c1-ae40-77adf8befb66\",\"type\":\"CDSView\"},{\"attributes\":{},\"id\":\"9523fcf7-9e46-4e1a-a913-07df6c70008e\",\"type\":\"ResetTool\"},{\"attributes\":{\"plot\":{\"id\":\"0b75ccec-14af-4ac3-88b6-599f97708cdc\",\"subtype\":\"Figure\",\"type\":\"Plot\"},\"ticker\":{\"id\":\"ae634f38-2d31-4419-8042-78fdf9aaa56b\",\"type\":\"CategoricalTicker\"}},\"id\":\"af67911c-3bf6-400c-b349-c068d88bdc04\",\"type\":\"Grid\"},{\"attributes\":{},\"id\":\"77467dd8-2224-490f-913f-6df416f37638\",\"type\":\"CategoricalScale\"},{\"attributes\":{},\"id\":\"ecc8974a-5727-47af-85a3-a3f80bce4095\",\"type\":\"PanTool\"},{\"attributes\":{\"overlay\":{\"id\":\"823f393b-b218-4820-980b-2e06f27a2164\",\"type\":\"BoxAnnotation\"}},\"id\":\"9bba5aac-3041-4185-b35b-f37810f4cc2a\",\"type\":\"BoxZoomTool\"},{\"attributes\":{},\"id\":\"5606259c-11ed-44bc-a34e-1a0b15c29e25\",\"type\":\"HelpTool\"},{\"attributes\":{},\"id\":\"5386bb21-1a68-44bc-8026-b2b8f30e38f7\",\"type\":\"LinearScale\"},{\"attributes\":{\"fill_alpha\":{\"value\":0.1},\"fill_color\":{\"value\":\"#1f77b4\"},\"line_alpha\":{\"value\":0.1},\"line_color\":{\"value\":\"#1f77b4\"},\"top\":{\"field\":\"flux\"},\"width\":{\"value\":0.9},\"x\":{\"field\":\"band\"}},\"id\":\"111665aa-d78e-46b0-b534-46cc3f31a9db\",\"type\":\"VBar\"},{\"attributes\":{},\"id\":\"5b6b8b1c-046a-40ce-9fcd-4361408ae6c8\",\"type\":\"SaveTool\"},{\"attributes\":{},\"id\":\"87b4557a-9bd8-4dd4-a015-420a88e0f2fa\",\"type\":\"BasicTicker\"},{\"attributes\":{\"callback\":null,\"data\":{\"band\":[\"1\",\"2\",\"3\",\"4\",\"5\",\"6\",\"7\",\"8\",\"9\",\"10\",\"11\"],\"flux\":{\"__ndarray__\":\"AEDdJAaBZb8A4pLjTunAvwA2IEJcueC/AAeY+Q5+tj8A3MHjNnXIP4DsyEdBprm/YNXi+EYZsD9g4mXZ1dy7PwDQGzix0ZM/AJDEy9O5oj+AEyT419l9Pw==\",\"dtype\":\"float64\",\"shape\":[11]}},\"selected\":{\"id\":\"c1e32e6d-3395-41f3-8a57-e63a63a8e7f9\",\"type\":\"Selection\"},\"selection_policy\":{\"id\":\"867c2abc-de20-41f4-a69e-a01284421cf7\",\"type\":\"UnionRenderers\"}},\"id\":\"f3be8003-546e-4b56-b97b-b56eb3aca86d\",\"type\":\"ColumnDataSource\"},{\"attributes\":{\"callback\":null},\"id\":\"65ac0486-5d86-4594-b297-bd643c9cdd7a\",\"type\":\"DataRange1d\"},{\"attributes\":{},\"id\":\"e8ef2511-8bb5-44aa-83d5-bea4bab4dc88\",\"type\":\"UnionRenderers\"},{\"attributes\":{\"data_source\":{\"id\":\"f3be8003-546e-4b56-b97b-b56eb3aca86d\",\"type\":\"ColumnDataSource\"},\"glyph\":{\"id\":\"813e3f29-7716-4caa-88f9-1452eafb41fb\",\"type\":\"VBar\"},\"hover_glyph\":null,\"muted_glyph\":null,\"nonselection_glyph\":{\"id\":\"111665aa-d78e-46b0-b534-46cc3f31a9db\",\"type\":\"VBar\"},\"selection_glyph\":null,\"view\":{\"id\":\"533e4447-2ae1-46c1-ae40-77adf8befb66\",\"type\":\"CDSView\"}},\"id\":\"777c7593-94b8-4436-976c-d6abc4253eea\",\"type\":\"GlyphRenderer\"},{\"attributes\":{\"callback\":null,\"data\":{\"band\":[\"1\",\"2\",\"3\",\"4\",\"5\",\"6\",\"7\",\"8\",\"9\",\"10\",\"11\"],\"flux\":{\"__ndarray__\":\"ABU3bjE/xz8AqPxreeWyPwBwdmuZDLO/IP5+MVuy0D8AgbVq14S4PwDQ+uk/a46/YGthFto50j8AukxNgje4P4DMdRppqaA/ADSpRlRNdb+gzZ4VYj+pPw==\",\"dtype\":\"float64\",\"shape\":[11]}},\"selected\":{\"id\":\"94f9e4e3-4cae-476c-8b0e-66fc47ba36d2\",\"type\":\"Selection\"},\"selection_policy\":{\"id\":\"e8ef2511-8bb5-44aa-83d5-bea4bab4dc88\",\"type\":\"UnionRenderers\"}},\"id\":\"13077709-da64-4adf-8367-fc0dfc862335\",\"type\":\"ColumnDataSource\"}],\"root_ids\":[\"2089f5f8-bd56-46e5-aa65-a8922c69810f\"]},\"title\":\"Bokeh Application\",\"version\":\"0.12.16\"}};\n",
       "  var render_items = [{\"docid\":\"e9712d3d-a227-4b7d-9ffc-c684b823d577\",\"elementid\":\"c264dd83-7bae-4a6a-b02c-6e6a29693085\",\"modelid\":\"2089f5f8-bd56-46e5-aa65-a8922c69810f\"}];\n",
       "  root.Bokeh.embed.embed_items_notebook(docs_json, render_items);\n",
       "\n",
       "  }\n",
       "  if (root.Bokeh !== undefined) {\n",
       "    embed_document(root);\n",
       "  } else {\n",
       "    var attempts = 0;\n",
       "    var timer = setInterval(function(root) {\n",
       "      if (root.Bokeh !== undefined) {\n",
       "        embed_document(root);\n",
       "        clearInterval(timer);\n",
       "      }\n",
       "      attempts++;\n",
       "      if (attempts > 100) {\n",
       "        console.log(\"Bokeh: ERROR: Unable to run BokehJS code because BokehJS library is missing\")\n",
       "        clearInterval(timer);\n",
       "      }\n",
       "    }, 10, root)\n",
       "  }\n",
       "})(window);"
      ],
      "application/vnd.bokehjs_exec.v0+json": ""
     },
     "metadata": {
      "application/vnd.bokehjs_exec.v0+json": {
       "id": "2089f5f8-bd56-46e5-aa65-a8922c69810f"
      }
     },
     "output_type": "display_data"
    },
    {
     "data": {
      "text/markdown": [
       "*FIGURE.* Difference between CLIRAD and CRD in TOA, SFC and net atmosphere flux, in each spectral band."
      ],
      "text/plain": [
       "<IPython.core.display.Markdown object>"
      ]
     },
     "metadata": {},
     "output_type": "display_data"
    },
    {
     "data": {
      "text/html": [
       "<div>\n",
       "<style scoped>\n",
       "    .dataframe tbody tr th:only-of-type {\n",
       "        vertical-align: middle;\n",
       "    }\n",
       "\n",
       "    .dataframe tbody tr th {\n",
       "        vertical-align: top;\n",
       "    }\n",
       "\n",
       "    .dataframe thead th {\n",
       "        text-align: right;\n",
       "    }\n",
       "</style>\n",
       "<table border=\"1\" class=\"dataframe\">\n",
       "  <thead>\n",
       "    <tr style=\"text-align: right;\">\n",
       "      <th></th>\n",
       "      <th>OLR flux</th>\n",
       "      <th>SFC flux</th>\n",
       "      <th>ATM heating</th>\n",
       "    </tr>\n",
       "    <tr>\n",
       "      <th>Sum over bands</th>\n",
       "      <th></th>\n",
       "      <th></th>\n",
       "      <th></th>\n",
       "    </tr>\n",
       "  </thead>\n",
       "  <tbody>\n",
       "    <tr>\n",
       "      <th>CLIRAD (single-run) - CRD</th>\n",
       "      <td>0.98</td>\n",
       "      <td>-0.24</td>\n",
       "      <td>1.22</td>\n",
       "    </tr>\n",
       "    <tr>\n",
       "      <th>CRD</th>\n",
       "      <td>-201.06</td>\n",
       "      <td>166.03</td>\n",
       "      <td>-119.67</td>\n",
       "    </tr>\n",
       "  </tbody>\n",
       "</table>\n",
       "</div>"
      ],
      "text/plain": [
       "                           OLR flux  SFC flux  ATM heating\n",
       "Sum over bands                                            \n",
       "CLIRAD (single-run) - CRD      0.98     -0.24         1.22\n",
       "CRD                         -201.06    166.03      -119.67"
      ]
     },
     "metadata": {},
     "output_type": "display_data"
    },
    {
     "data": {
      "text/markdown": [
       "*TABLE.* Difference between CLIRAD and CRD in TOA, SFC and net atmosphere flux, over all spectral bands. CRD's TOA, SFC and net atmosphere flux, over all spectral bands."
      ],
      "text/plain": [
       "<IPython.core.display.Markdown object>"
      ]
     },
     "metadata": {},
     "output_type": "display_data"
    },
    {
     "data": {
      "text/html": [
       "<a id=\"Cooling_rates._trp.\"></a>"
      ],
      "text/plain": [
       "<IPython.core.display.HTML object>"
      ]
     },
     "metadata": {},
     "output_type": "display_data"
    },
    {
     "data": {
      "text/markdown": [
       "# Cooling rates. trp."
      ],
      "text/plain": [
       "<IPython.core.display.Markdown object>"
      ]
     },
     "metadata": {},
     "output_type": "display_data"
    },
    {
     "data": {
      "text/html": [
       "\n",
       "<div class=\"bk-root\">\n",
       "    <div class=\"bk-plotdiv\" id=\"0e45b480-0828-4af2-8813-b1736e0e2879\"></div>\n",
       "</div>"
      ]
     },
     "metadata": {},
     "output_type": "display_data"
    },
    {
     "data": {
      "application/javascript": [
       "(function(root) {\n",
       "  function embed_document(root) {\n",
       "    \n",
       "  var docs_json = {\"28bb5f94-7231-4570-b5e9-2fb139651f1b\":{\"roots\":{\"references\":[{\"attributes\":{\"overlay\":{\"id\":\"ead3dc70-e75b-4bcd-a71f-5ca17ad667bc\",\"type\":\"BoxAnnotation\"}},\"id\":\"42d0992a-dfb6-41a0-9cd7-6300a2fc9eed\",\"type\":\"BoxZoomTool\"},{\"attributes\":{\"source\":{\"id\":\"1c8031c2-d522-4b13-9c8b-cb487d7495ac\",\"type\":\"ColumnDataSource\"}},\"id\":\"1b93e20b-2fc7-4e9d-aedc-cf863ab5438f\",\"type\":\"CDSView\"},{\"attributes\":{},\"id\":\"030ecd1e-2edc-4681-9168-a3ef18658f1c\",\"type\":\"Selection\"},{\"attributes\":{\"tools\":[{\"id\":\"881459a5-ce52-44dc-bbe2-dd528b47f94b\",\"type\":\"PanTool\"},{\"id\":\"6d8a99aa-af26-4c97-8b7b-ea2a3ad4277a\",\"type\":\"WheelZoomTool\"},{\"id\":\"42d0992a-dfb6-41a0-9cd7-6300a2fc9eed\",\"type\":\"BoxZoomTool\"},{\"id\":\"e72037ef-68b1-4984-ac88-61364c89e005\",\"type\":\"SaveTool\"},{\"id\":\"9a864c19-a0d3-43e2-a731-a2633d0df3ab\",\"type\":\"ResetTool\"},{\"id\":\"f8e01d0b-f490-4202-af31-473224315dca\",\"type\":\"HelpTool\"},{\"id\":\"51a96f25-f591-41be-b175-e9433684d96b\",\"type\":\"PanTool\"},{\"id\":\"caec47fa-1106-403e-abb6-9fd2e1f750a2\",\"type\":\"WheelZoomTool\"},{\"id\":\"fe88b716-49aa-4590-8034-5c1740b81320\",\"type\":\"BoxZoomTool\"},{\"id\":\"08d91b4d-22bc-4d68-bc67-64e8cceba97a\",\"type\":\"SaveTool\"},{\"id\":\"7c8e3442-50af-41d4-9173-dc0f7bb59459\",\"type\":\"ResetTool\"},{\"id\":\"0327fa1e-c648-4890-936e-5d815dcf463f\",\"type\":\"HelpTool\"},{\"id\":\"8bf45801-038a-4f88-adef-72be18e1f81c\",\"type\":\"PanTool\"},{\"id\":\"9ab2cf7a-4ec3-4783-b503-6646eaf2d432\",\"type\":\"WheelZoomTool\"},{\"id\":\"6a07b2e4-92e2-425e-a7a1-33c46287de01\",\"type\":\"BoxZoomTool\"},{\"id\":\"8fe8b48a-5ea9-42f9-ac09-ebd4bce55462\",\"type\":\"SaveTool\"},{\"id\":\"fdaa401b-1f11-479a-bcfb-35fb146be0f2\",\"type\":\"ResetTool\"},{\"id\":\"270120a6-5628-4085-9b6d-fb41b724421a\",\"type\":\"HelpTool\"}]},\"id\":\"0f939df7-afdc-494a-a625-495c6fff4419\",\"type\":\"ProxyToolbar\"},{\"attributes\":{},\"id\":\"57b20c54-af2d-4f3f-af01-c1a28e30140d\",\"type\":\"LinearScale\"},{\"attributes\":{},\"id\":\"2589efe1-033c-4965-8508-98269be7581a\",\"type\":\"LinearScale\"},{\"attributes\":{\"dimension\":1,\"plot\":{\"id\":\"4cf3a01a-05e9-46f2-b895-50bd54a95739\",\"subtype\":\"Figure\",\"type\":\"Plot\"},\"ticker\":{\"id\":\"c2165de0-2126-45fe-826a-8aad3e88b70f\",\"type\":\"BasicTicker\"}},\"id\":\"f616566d-ea00-4866-ae15-bdb6c57ed7a5\",\"type\":\"Grid\"},{\"attributes\":{},\"id\":\"1a2ff543-5dbc-48f3-8828-aca125c8e05e\",\"type\":\"BasicTickFormatter\"},{\"attributes\":{},\"id\":\"e72037ef-68b1-4984-ac88-61364c89e005\",\"type\":\"SaveTool\"},{\"attributes\":{},\"id\":\"ab4b5a21-c750-4593-9981-709f4ddef0b4\",\"type\":\"Selection\"},{\"attributes\":{\"active_drag\":\"auto\",\"active_inspect\":\"auto\",\"active_scroll\":\"auto\",\"active_tap\":\"auto\",\"tools\":[{\"id\":\"881459a5-ce52-44dc-bbe2-dd528b47f94b\",\"type\":\"PanTool\"},{\"id\":\"6d8a99aa-af26-4c97-8b7b-ea2a3ad4277a\",\"type\":\"WheelZoomTool\"},{\"id\":\"42d0992a-dfb6-41a0-9cd7-6300a2fc9eed\",\"type\":\"BoxZoomTool\"},{\"id\":\"e72037ef-68b1-4984-ac88-61364c89e005\",\"type\":\"SaveTool\"},{\"id\":\"9a864c19-a0d3-43e2-a731-a2633d0df3ab\",\"type\":\"ResetTool\"},{\"id\":\"f8e01d0b-f490-4202-af31-473224315dca\",\"type\":\"HelpTool\"}]},\"id\":\"8a5f9c54-25ff-4037-8109-c17b3e8629ca\",\"type\":\"Toolbar\"},{\"attributes\":{\"ticker\":null},\"id\":\"0c8891f6-d27c-4468-9366-a8d3dd575715\",\"type\":\"LogTickFormatter\"},{\"attributes\":{},\"id\":\"08d91b4d-22bc-4d68-bc67-64e8cceba97a\",\"type\":\"SaveTool\"},{\"attributes\":{\"callback\":null,\"end\":2.3924054017371006,\"start\":-0.5119926463071},\"id\":\"6cd10f24-1377-490a-9740-3674a0866d90\",\"type\":\"Range1d\"},{\"attributes\":{},\"id\":\"92a0aaf7-d3d5-49c7-882d-297c3efc73d7\",\"type\":\"UnionRenderers\"},{\"attributes\":{},\"id\":\"9a864c19-a0d3-43e2-a731-a2633d0df3ab\",\"type\":\"ResetTool\"},{\"attributes\":{},\"id\":\"6d8a99aa-af26-4c97-8b7b-ea2a3ad4277a\",\"type\":\"WheelZoomTool\"},{\"attributes\":{\"plot\":null,\"text\":\"\"},\"id\":\"c555f882-d84b-4fa6-977f-639e9e89a621\",\"type\":\"Title\"},{\"attributes\":{\"callback\":null,\"end\":12.208641498854199,\"start\":-0.6091831027142},\"id\":\"f0fd6b82-ce9d-426c-a0c4-d9293f8abc2e\",\"type\":\"Range1d\"},{\"attributes\":{\"axis_label\":\"cooling rate [K/day]\",\"formatter\":{\"id\":\"1a2ff543-5dbc-48f3-8828-aca125c8e05e\",\"type\":\"BasicTickFormatter\"},\"plot\":{\"id\":\"c06edfaf-54cd-49f1-ada5-29a4049da3aa\",\"subtype\":\"Figure\",\"type\":\"Plot\"},\"ticker\":{\"id\":\"f7e54260-f8ba-4caf-982a-92916992aa3f\",\"type\":\"BasicTicker\"}},\"id\":\"ee44e91a-9504-4f67-a6cc-487fb615e6d3\",\"type\":\"LinearAxis\"},{\"attributes\":{},\"id\":\"f7e54260-f8ba-4caf-982a-92916992aa3f\",\"type\":\"BasicTicker\"},{\"attributes\":{},\"id\":\"312942c0-073d-4f28-aaac-979d66f83546\",\"type\":\"UnionRenderers\"},{\"attributes\":{\"label\":{\"value\":\"CRD\"},\"renderers\":[{\"id\":\"82aff1b9-7f57-4904-a168-c2d61d0cbfd4\",\"type\":\"GlyphRenderer\"},{\"id\":\"9c60f215-45e3-4cf2-bac4-40dd103ce0b3\",\"type\":\"GlyphRenderer\"}]},\"id\":\"b2e2dcac-6d39-4e63-89b2-41c52e6178c9\",\"type\":\"LegendItem\"},{\"attributes\":{\"callback\":null,\"data\":{\"x\":{\"__ndarray__\":\"R/KIaN7AVEClCeJMyPNGQOvRhpxr30JAptxzhxx4PkA7SssMElA4QK6Bp3CyUDNAsVXpjES9LkBFhUV0+5coQMHYwqbbySNA6f09nM3nH0CaSd/3eYoZQDmgiAOW8BNAPYqARh3eDEBkm4vCgvr+P9D+5tWhQfY/P8DwKRnSAkBq38kb17ILQDT7IWuSsxFAUr2Rjm0FFkAinq3s9XgbQGCHwtYcqSFAG64kT303J0C7dRDneyooQD9JYrbK8yRA9S3bneHhIUAIymSuUMMcQIkHLe6VEBdAAau3cITREkA6CiNvkQIPQJU39ki7IQlAaAvwok1UA0BXLQiS4+L7P0xzDpJ2hPI/NNuPGMbJ5z91mUVYxqfSPxqwUPSxZca/G11peifD3L8QzNj5t2jTvwzOozTL360/SPJ4VI1VzD9KJ0nXEIncP8yDdlvHt+4/Et49nYLW9z++2teD4Jn+P+568eH/bwFALf5D9lmAAkCiZAicVOkCQPPT4jNKxwJAOjp3wTzBAUBSQsKNGisBQG4OmjqJwQBAJ3sZoHFuAEA5Ar0Sdi0AQGy4rw5+9f8/7W4nSrC3/z8mPr8zj4T/P4UYRHCQS/8/embVKYcF/z+5YXG+LLP+P/qb8BVUgf4/KvafTtyO/j/avAK1Ppv+PwJV9VVm2P0/JFtYlU/n/D9sN+q2fiX6Pw44e41PNPc/Opt+Z/wN9T+x3vcSW1vzP9ofvWQJlvI/8sciQQBW8j80sfkQa17yPzg5qng2r/I/Oh14WJBh8z+VZjnpctj0P6CcrSuCqQBA\",\"dtype\":\"float64\",\"shape\":[75]},\"y\":{\"__ndarray__\":\"GhExyth1ND/Sv8nbtpRIP2vylNV0PVE/aTum7souWD/At0SJ8fVgPw3Iuahxymc/MSNhhJWvcD/bTfBN02d3P2zb5nxnaoA/CD5h5MAGhz8NmeH1TyaQP+zrCsc9p5Y/LbKd76fGnz/bLW5ISEmmPww9YvTcQq8/JV2OstnstT8Er5Y7M8G+P0c+r3jqkcU/5h99k6ZBzj88bCIzFzjVP4enV8oyxN0//yH99nXg5D8qOpLLf0jtP5kqGJXUifQ/c9cS8kHP/D+/DpwzojQEQIEmwoanVwxA4lgXt9HgE0BSSZ2AJuIbQAMJih9jjiNA5q4l5INuK0AwTKYKRj0zQNv5fmq8/DpAaCJseHrtQkB/+zpwzoxKQM3MzMzMeFJAZmZmZmZqWEAAAAAAAFxeQM3MzMzMJmJAmpmZmZkfZUBmZmZmZhhoQDMzMzMzEWtAAAAAAAAKbkBmZmZmZoFwQM3MzMzM/XFAMzMzMzN6c0CamZmZmfZ0QAAAAAAAc3ZAZmZmZmbvd0DNzMzMzGt5QDMzMzMz6HpAmpmZmZlkfEAAAAAAAOF9QGZmZmZmXX9AZmZmZuZsgECamZmZGSuBQM3MzMxM6YFAAAAAAICngkAzMzMzs2WDQGZmZmbmI4RAmpmZmRnihEDNzMzMTKCFQAAAAACAXoZAMzMzM7Mch0BmZmZm5tqHQJqZmZkZmYhAzczMzExXiUAAAAAAgBWKQDMzMzOz04pAZmZmZuaRi0CamZmZGVCMQM3MzMxMDo1AAAAAAIDMjUAzMzMzs4qOQGZmZmbmSI9A\",\"dtype\":\"float64\",\"shape\":[75]}},\"selected\":{\"id\":\"e2f1fc4e-a832-42d9-bae0-477723f28e6f\",\"type\":\"Selection\"},\"selection_policy\":{\"id\":\"f9e5ecee-151c-4e16-b0c5-9c44e7232371\",\"type\":\"UnionRenderers\"}},\"id\":\"d045f7b1-d031-4725-a8f6-9dcd1b1e20cc\",\"type\":\"ColumnDataSource\"},{\"attributes\":{},\"id\":\"0327fa1e-c648-4890-936e-5d815dcf463f\",\"type\":\"HelpTool\"},{\"attributes\":{},\"id\":\"cea75d77-4758-48fc-99ad-20057070447c\",\"type\":\"UnionRenderers\"},{\"attributes\":{},\"id\":\"ff715afc-97e5-446b-9374-5ec2e331e08f\",\"type\":\"LinearScale\"},{\"attributes\":{},\"id\":\"609d8392-5869-4ffc-a847-76d590943cda\",\"type\":\"UnionRenderers\"},{\"attributes\":{\"bottom_units\":\"screen\",\"fill_alpha\":{\"value\":0.5},\"fill_color\":{\"value\":\"lightgrey\"},\"left_units\":\"screen\",\"level\":\"overlay\",\"line_alpha\":{\"value\":1.0},\"line_color\":{\"value\":\"black\"},\"line_dash\":[4,4],\"line_width\":{\"value\":2},\"plot\":null,\"render_mode\":\"css\",\"right_units\":\"screen\",\"top_units\":\"screen\"},\"id\":\"ee9c2209-35dc-4c59-80ab-1f08fe4f3cdd\",\"type\":\"BoxAnnotation\"},{\"attributes\":{},\"id\":\"b6fdf4e8-49fe-4777-8775-3f6fb7d32b65\",\"type\":\"UnionRenderers\"},{\"attributes\":{},\"id\":\"51a96f25-f591-41be-b175-e9433684d96b\",\"type\":\"PanTool\"},{\"attributes\":{},\"id\":\"816d0c66-df31-430a-bb6b-0db8699b9736\",\"type\":\"UnionRenderers\"},{\"attributes\":{},\"id\":\"8fe8b48a-5ea9-42f9-ac09-ebd4bce55462\",\"type\":\"SaveTool\"},{\"attributes\":{\"label\":{\"value\":\"CLIRAD (single-run) - CRD\"},\"renderers\":[{\"id\":\"1a4fe769-447d-4f34-9456-0c9528387c63\",\"type\":\"GlyphRenderer\"},{\"id\":\"6993860c-0c22-4a3a-a735-2b71405e293d\",\"type\":\"GlyphRenderer\"}]},\"id\":\"598877b3-41b6-486c-badf-b865aa416238\",\"type\":\"LegendItem\"},{\"attributes\":{\"line_alpha\":0.6,\"line_color\":\"#377eb8\",\"line_dash\":[6],\"line_width\":5,\"x\":{\"field\":\"x\"},\"y\":{\"field\":\"y\"}},\"id\":\"c8ef512a-9504-49f1-a833-c8bd39c25db2\",\"type\":\"Line\"},{\"attributes\":{},\"id\":\"caec47fa-1106-403e-abb6-9fd2e1f750a2\",\"type\":\"WheelZoomTool\"},{\"attributes\":{\"axis_label\":\"pressure [mb]\",\"formatter\":{\"id\":\"7a00479b-fc42-4740-9fc7-fc0669664885\",\"type\":\"BasicTickFormatter\"},\"plot\":{\"id\":\"4cf3a01a-05e9-46f2-b895-50bd54a95739\",\"subtype\":\"Figure\",\"type\":\"Plot\"},\"ticker\":{\"id\":\"c2165de0-2126-45fe-826a-8aad3e88b70f\",\"type\":\"BasicTicker\"}},\"id\":\"84b9c056-ea15-4fae-b393-7b693bb271c9\",\"type\":\"LinearAxis\"},{\"attributes\":{\"toolbar\":{\"id\":\"0f939df7-afdc-494a-a625-495c6fff4419\",\"type\":\"ProxyToolbar\"},\"toolbar_location\":\"above\"},\"id\":\"859ad7f1-876e-4697-b7ca-4a436f652aeb\",\"type\":\"ToolbarBox\"},{\"attributes\":{},\"id\":\"270120a6-5628-4085-9b6d-fb41b724421a\",\"type\":\"HelpTool\"},{\"attributes\":{\"bottom_units\":\"screen\",\"fill_alpha\":{\"value\":0.5},\"fill_color\":{\"value\":\"lightgrey\"},\"left_units\":\"screen\",\"level\":\"overlay\",\"line_alpha\":{\"value\":1.0},\"line_color\":{\"value\":\"black\"},\"line_dash\":[4,4],\"line_width\":{\"value\":2},\"plot\":null,\"render_mode\":\"css\",\"right_units\":\"screen\",\"top_units\":\"screen\"},\"id\":\"ead3dc70-e75b-4bcd-a71f-5ca17ad667bc\",\"type\":\"BoxAnnotation\"},{\"attributes\":{\"items\":[{\"id\":\"2c7ab216-3f65-4511-b364-06c9556f953d\",\"type\":\"LegendItem\"},{\"id\":\"11713af9-618c-4362-899d-3e7c6a674dc8\",\"type\":\"LegendItem\"}],\"label_text_font_size\":{\"value\":\"8pt\"},\"location\":\"top_center\",\"orientation\":\"horizontal\",\"plot\":{\"id\":\"4cf3a01a-05e9-46f2-b895-50bd54a95739\",\"subtype\":\"Figure\",\"type\":\"Plot\"}},\"id\":\"e8fbb31c-57e8-4fb6-8338-b788adda265f\",\"type\":\"Legend\"},{\"attributes\":{\"overlay\":{\"id\":\"d85f89b5-ce7d-4fe8-82b9-e9c0aa564a57\",\"type\":\"BoxAnnotation\"}},\"id\":\"fe88b716-49aa-4590-8034-5c1740b81320\",\"type\":\"BoxZoomTool\"},{\"attributes\":{\"plot\":{\"id\":\"d4d40ffa-9866-474c-8067-e080a0d42e65\",\"subtype\":\"Figure\",\"type\":\"Plot\"},\"ticker\":{\"id\":\"0173b955-c11a-4492-a5d2-bc2aef8ef9db\",\"type\":\"BasicTicker\"}},\"id\":\"58932aa3-564d-46be-9707-c0ab7f0e0357\",\"type\":\"Grid\"},{\"attributes\":{\"plot\":null,\"text\":\"\"},\"id\":\"2b8f365d-ade6-42ab-801d-7d952fab9159\",\"type\":\"Title\"},{\"attributes\":{\"overlay\":{\"id\":\"ee9c2209-35dc-4c59-80ab-1f08fe4f3cdd\",\"type\":\"BoxAnnotation\"}},\"id\":\"6a07b2e4-92e2-425e-a7a1-33c46287de01\",\"type\":\"BoxZoomTool\"},{\"attributes\":{\"bottom_units\":\"screen\",\"fill_alpha\":{\"value\":0.5},\"fill_color\":{\"value\":\"lightgrey\"},\"left_units\":\"screen\",\"level\":\"overlay\",\"line_alpha\":{\"value\":1.0},\"line_color\":{\"value\":\"black\"},\"line_dash\":[4,4],\"line_width\":{\"value\":2},\"plot\":null,\"render_mode\":\"css\",\"right_units\":\"screen\",\"top_units\":\"screen\"},\"id\":\"d85f89b5-ce7d-4fe8-82b9-e9c0aa564a57\",\"type\":\"BoxAnnotation\"},{\"attributes\":{\"plot\":{\"id\":\"4cf3a01a-05e9-46f2-b895-50bd54a95739\",\"subtype\":\"Figure\",\"type\":\"Plot\"},\"ticker\":{\"id\":\"40087c3a-e48e-4666-8cfc-d4278bf9765a\",\"type\":\"BasicTicker\"}},\"id\":\"405a62dd-fc6e-41e9-8639-0e91ed802390\",\"type\":\"Grid\"},{\"attributes\":{\"label\":{\"value\":\"CLIRAD (single-run)\"},\"renderers\":[{\"id\":\"41462353-7b7a-4a86-9fc8-e3ee427f7add\",\"type\":\"GlyphRenderer\"}]},\"id\":\"9667a63f-077f-4f47-8f1b-4c45fde412c4\",\"type\":\"LegendItem\"},{\"attributes\":{},\"id\":\"7a00479b-fc42-4740-9fc7-fc0669664885\",\"type\":\"BasicTickFormatter\"},{\"attributes\":{},\"id\":\"881459a5-ce52-44dc-bbe2-dd528b47f94b\",\"type\":\"PanTool\"},{\"attributes\":{},\"id\":\"6f0d72af-60e6-4774-809f-1155ecdc1da1\",\"type\":\"LogScale\"},{\"attributes\":{\"num_minor_ticks\":10},\"id\":\"9f2187d0-8766-4e15-9f9e-cd82b9553dd5\",\"type\":\"LogTicker\"},{\"attributes\":{},\"id\":\"9ab2cf7a-4ec3-4783-b503-6646eaf2d432\",\"type\":\"WheelZoomTool\"},{\"attributes\":{},\"id\":\"fb1d43f0-6d17-4a7f-bcab-95671f4e633c\",\"type\":\"UnionRenderers\"},{\"attributes\":{},\"id\":\"1b8826e5-c560-46cb-83df-d864aee21948\",\"type\":\"Selection\"},{\"attributes\":{\"axis_label\":\"cooling rate [K/day]\",\"formatter\":{\"id\":\"91ce7051-5217-4f6c-b448-545a8155513e\",\"type\":\"BasicTickFormatter\"},\"plot\":{\"id\":\"4cf3a01a-05e9-46f2-b895-50bd54a95739\",\"subtype\":\"Figure\",\"type\":\"Plot\"},\"ticker\":{\"id\":\"40087c3a-e48e-4666-8cfc-d4278bf9765a\",\"type\":\"BasicTicker\"}},\"id\":\"9fc6d3ba-0b8e-449c-9545-18736ad057f9\",\"type\":\"LinearAxis\"},{\"attributes\":{\"plot\":null,\"text\":\"\"},\"id\":\"3a448a5f-35ac-486e-85fa-f8cfefc06a45\",\"type\":\"Title\"},{\"attributes\":{},\"id\":\"40087c3a-e48e-4666-8cfc-d4278bf9765a\",\"type\":\"BasicTicker\"},{\"attributes\":{},\"id\":\"f8e01d0b-f490-4202-af31-473224315dca\",\"type\":\"HelpTool\"},{\"attributes\":{},\"id\":\"7c8e3442-50af-41d4-9173-dc0f7bb59459\",\"type\":\"ResetTool\"},{\"attributes\":{\"axis_label\":\"pressure [mb]\",\"formatter\":{\"id\":\"7fa2cc40-b971-41ad-91d2-6ddcc1ea919a\",\"type\":\"LogTickFormatter\"},\"plot\":{\"id\":\"d4d40ffa-9866-474c-8067-e080a0d42e65\",\"subtype\":\"Figure\",\"type\":\"Plot\"},\"ticker\":{\"id\":\"9f2187d0-8766-4e15-9f9e-cd82b9553dd5\",\"type\":\"LogTicker\"}},\"id\":\"fbd29a00-a6aa-4e60-b167-5ca9d2294092\",\"type\":\"LogAxis\"},{\"attributes\":{\"callback\":null,\"data\":{\"x\":{\"__ndarray__\":\"/Ennn5VNRUD8VF4j4aNCQAx6wyHciUFAJKJk6L7wP0Cwn3V5qdk7QBfQP9aX/DZA6BVhwYHJMUBRosAa4t4pQBYLCHPyNCJACZjuRFOLGkAflatQrDEVQGRQBDzu/hFAqNzNk2SHDUD3XGj9LyQDQGkqgBUJ0f4/wzvuywGhBUAcka1/NzoMQLhDBUwUmRBAWeaLEsfbE0A502l0/k0ZQAsC8yXXDCFAh4aZeKMEJ0DLJYLukxwoQH0CZ2iyhyRA3jZH8OYpIUBRSKf6lVgcQC1wwMrEVxhAGihYaJYnFECK0gHakrcPQBui4E9pJQlAwwh3pAcgBUA5cSgyKVwAQHbfwFRSd/Q/DJ1okwCo5T/3H3u4QmrQPw9rHCYOacK/Fb9fIvbx3r//dO13AHvYv1bMskm023y/3FCc16S4xD8fExtoMmTYP0xjqWXTmOw/yeERqemq9j+MBck59Mj9Pw5tM5WG5QBAadGyIxJ/AUA3geKxakICQOwRFBFiSAJA0nhvfQUTAUDHucYQRH4AQHo4QPIHTQBA3oiv9ZMtAEBvuLhCcQMAQPcgz6hcnP8/3FCNY1hA/z8IzBVukQn/P+1LajQ2Ef8/GsUA9sJG/z88F9snbWn/P+sANXNQa/8/GHkDE1JT/z+N6IAfMwL/P3co/oDr4P0/FKNqmPrR/D9ffC1G5jf6PyTO22TCo/c/ruJnvGH19T+NwH04H4b0PwaWrcPCy/M/LSkfDMGc8z86tLC1I7bzP9kneDo7GPQ/7EkhJVgK9T8joAnnL8H2P0wHuA54qgFA\",\"dtype\":\"float64\",\"shape\":[75]},\"y\":{\"__ndarray__\":\"S/O/Q+51ND/Sv8nbtpRIP2vylNV0PVE/aTum7souWD/At0SJ8fVgPw3Iuahxymc/MSNhhJWvcD/bTfBN02d3P2zb5nxnaoA/CD5h5MAGhz8NmeH1TyaQP+zrCsc9p5Y/LbKd76fGnz/bLW5ISEmmPww9YvTcQq8/JV2OstnstT8Er5Y7M8G+P0c+r3jqkcU/5h99k6ZBzj88bCIzFzjVP4enV8oyxN0//yH99nXg5D8qOpLLf0jtP5kqGJXUifQ/c9cS8kHP/D+/DpwzojQEQIEmwoanVwxA4lgXt9HgE0BSSZ2AJuIbQAMJih9jjiNA5q4l5INuK0AwTKYKRj0zQNv5fmq8/DpAaCJseHrtQkB/+zpwzoxKQM3MzMzMeFJAZmZmZmZqWEAAAAAAAFxeQM3MzMzMJmJAmpmZmZkfZUBmZmZmZhhoQDMzMzMzEWtAAAAAAAAKbkBmZmZmZoFwQM3MzMzM/XFAMzMzMzN6c0CamZmZmfZ0QAAAAAAAc3ZAZmZmZmbvd0DNzMzMzGt5QDMzMzMz6HpAmpmZmZlkfEAAAAAAAOF9QGZmZmZmXX9AZmZmZuZsgECamZmZGSuBQM3MzMxM6YFAAAAAAICngkAzMzMzs2WDQGZmZmbmI4RAmpmZmRnihEDNzMzMTKCFQAAAAACAXoZAMzMzM7Mch0BmZmZm5tqHQJqZmZkZmYhAzczMzExXiUAAAAAAgBWKQDMzMzOz04pAZmZmZuaRi0CamZmZGVCMQM3MzMxMDo1AAAAAAIDMjUAzMzMzs4qOQGZmZmbmSI9A\",\"dtype\":\"float64\",\"shape\":[75]}},\"selected\":{\"id\":\"ab4b5a21-c750-4593-9981-709f4ddef0b4\",\"type\":\"Selection\"},\"selection_policy\":{\"id\":\"312942c0-073d-4f28-aaac-979d66f83546\",\"type\":\"UnionRenderers\"}},\"id\":\"016c33a0-c43c-4fed-b5c7-8f25d76bf911\",\"type\":\"ColumnDataSource\"},{\"attributes\":{},\"id\":\"a88334f2-2895-45bb-a60d-f76d9e975469\",\"type\":\"Selection\"},{\"attributes\":{\"dimension\":1,\"plot\":{\"id\":\"d4d40ffa-9866-474c-8067-e080a0d42e65\",\"subtype\":\"Figure\",\"type\":\"Plot\"},\"ticker\":{\"id\":\"9f2187d0-8766-4e15-9f9e-cd82b9553dd5\",\"type\":\"LogTicker\"}},\"id\":\"3dcc97bc-b2fc-43b3-955a-f5f61dffb141\",\"type\":\"Grid\"},{\"attributes\":{},\"id\":\"f0f068f5-144a-4924-9b7b-214ebfdec178\",\"type\":\"Selection\"},{\"attributes\":{},\"id\":\"91ce7051-5217-4f6c-b448-545a8155513e\",\"type\":\"BasicTickFormatter\"},{\"attributes\":{},\"id\":\"fdaa401b-1f11-479a-bcfb-35fb146be0f2\",\"type\":\"ResetTool\"},{\"attributes\":{\"children\":[{\"id\":\"859ad7f1-876e-4697-b7ca-4a436f652aeb\",\"type\":\"ToolbarBox\"},{\"id\":\"12d87d9b-10da-4091-8f2f-2c751529aca9\",\"type\":\"Column\"}]},\"id\":\"a141f12c-838d-4583-aeea-b7c6efafb236\",\"type\":\"Column\"},{\"attributes\":{},\"id\":\"c2165de0-2126-45fe-826a-8aad3e88b70f\",\"type\":\"BasicTicker\"},{\"attributes\":{},\"id\":\"0173b955-c11a-4492-a5d2-bc2aef8ef9db\",\"type\":\"BasicTicker\"},{\"attributes\":{},\"id\":\"679a5af1-30f4-4189-b02f-6c5703882f1c\",\"type\":\"LinearScale\"},{\"attributes\":{\"callback\":null,\"data\":{\"x\":{\"__ndarray__\":\"pNIOppw/IcACfjWs91gFwOtXDA8mivc/oKtSZbtMDEA8c8IsK18NQHtYY9f7VgNA49CxZ2pu5D+t2qw7k07pv4GXPV3pcfW/69HOnDZj8b9b/UR4fBrfv0BNqqnpKLU/G3oU4XQ33T80VzJ/zh7hPx7c6w9Fd9Y/VjZ2fAzssD/Gd8vx4afRv863LuAzTeG/PlcewrtX4b+WqvAZtojTv7TJk0XrbLm//uGfHPHPm78LsdF+EwbLv9DifrJV/9a/MW1g76yuur89ijbJ7XLUP4zRB3ofYdU/DwrZWy2gtj9wOVRTN3BdP7XVbxigu8w/btQiSbtV0z+OwiYrvC2/P0/xOSksDrG/+8tT/hzsob9VKKJxHuWfP9EPsz91dqG/vKNS+CFJtL/KE+3eoL2wv6iFcvOhc66/r1C4vHmTsL8CBGmun/ewv6bEv0KPubK/fKbaQYkdqr/Zu8GXKU+xv0zMEil9FMC/Im28RD3dtL+WgbCzCLqvvw0t+IDoxrW/OhFxn8+atb/ofHUWUiCtv1SSfJpqN6C/MuUkAmgClb+E3SV4WUiWvyWEh6b51Z2/codcanG/nr8CTebsHS2Nv+yn1wrzTpA/O7A2LQ3Ipj/6nYyoiz+tP6tdcIy4jqg/tOyKnxq9mT/I6KYRVgphPzwQuO38VHW/VPJEQ49ncj/DhSXYtdybP4buKJ2q7Kw/wR1eWEKssj+2YgfvlVuzP7kTxq8MbLQ/XTBwS4p7tT/36d4cTJC2PxvLksp8jLo/6ZgD3c+Lvj+9qqYwXg/APw==\",\"dtype\":\"float64\",\"shape\":[74]},\"y\":{\"__ndarray__\":\"0r/J27aUSD9r8pTVdD1RP2k7pu7KLlg/wLdEifH1YD8NyLmoccpnPzEjYYSVr3A/203wTdNndz9s2+Z8Z2qAPwg+YeTABoc/DZnh9U8mkD/s6wrHPaeWPy2yne+nxp8/2y1uSEhJpj8MPWL03EKvPyVdjrLZ7LU/BK+WOzPBvj9HPq946pHFP+YffZOmQc4/PGwiMxc41T+Hp1fKMsTdP/8h/fZ14OQ/KjqSy39I7T+ZKhiV1In0P3PXEvJBz/w/vw6cM6I0BECBJsKGp1cMQOJYF7fR4BNAUkmdgCbiG0ADCYofY44jQOauJeSDbitAMEymCkY9M0Db+X5qvPw6QGgibHh67UJAf/s6cM6MSkDNzMzMzHhSQGZmZmZmalhAAAAAAABcXkDNzMzMzCZiQJqZmZmZH2VAZmZmZmYYaEAzMzMzMxFrQAAAAAAACm5AZmZmZmaBcEDNzMzMzP1xQDMzMzMzenNAmpmZmZn2dEAAAAAAAHN2QGZmZmZm73dAzczMzMxreUAzMzMzM+h6QJqZmZmZZHxAAAAAAADhfUBmZmZmZl1/QGZmZmbmbIBAmpmZmRkrgUDNzMzMTOmBQAAAAACAp4JAMzMzM7Nlg0BmZmZm5iOEQJqZmZkZ4oRAzczMzEyghUAAAAAAgF6GQDMzMzOzHIdAZmZmZubah0CamZmZGZmIQM3MzMxMV4lAAAAAAIAVikAzMzMzs9OKQGZmZmbmkYtAmpmZmRlQjEDNzMzMTA6NQAAAAACAzI1AMzMzM7OKjkBmZmZm5kiPQA==\",\"dtype\":\"float64\",\"shape\":[74]}},\"selected\":{\"id\":\"a88334f2-2895-45bb-a60d-f76d9e975469\",\"type\":\"Selection\"},\"selection_policy\":{\"id\":\"816d0c66-df31-430a-bb6b-0db8699b9736\",\"type\":\"UnionRenderers\"}},\"id\":\"a6d86176-5bee-407f-bcc5-bb2b6d865a37\",\"type\":\"ColumnDataSource\"},{\"attributes\":{\"items\":[{\"id\":\"9667a63f-077f-4f47-8f1b-4c45fde412c4\",\"type\":\"LegendItem\"},{\"id\":\"b2e2dcac-6d39-4e63-89b2-41c52e6178c9\",\"type\":\"LegendItem\"}],\"label_text_font_size\":{\"value\":\"8pt\"},\"location\":\"top_center\",\"orientation\":\"horizontal\",\"plot\":{\"id\":\"d4d40ffa-9866-474c-8067-e080a0d42e65\",\"subtype\":\"Figure\",\"type\":\"Plot\"}},\"id\":\"c5388127-4675-42d2-820b-158c0dba6618\",\"type\":\"Legend\"},{\"attributes\":{\"axis_label\":\"cooling rate [K/day]\",\"formatter\":{\"id\":\"ef23b2de-738f-485e-b2d8-3efc8ff382e6\",\"type\":\"BasicTickFormatter\"},\"plot\":{\"id\":\"d4d40ffa-9866-474c-8067-e080a0d42e65\",\"subtype\":\"Figure\",\"type\":\"Plot\"},\"ticker\":{\"id\":\"0173b955-c11a-4492-a5d2-bc2aef8ef9db\",\"type\":\"BasicTicker\"}},\"id\":\"01338ab9-6436-4cbb-9210-9c8881881433\",\"type\":\"LinearAxis\"},{\"attributes\":{\"data_source\":{\"id\":\"62058f06-509d-4463-bbac-d8a7d3f4833f\",\"type\":\"ColumnDataSource\"},\"glyph\":{\"id\":\"fec29148-32a2-483e-92d9-646c4c90a878\",\"type\":\"Line\"},\"hover_glyph\":null,\"muted_glyph\":null,\"nonselection_glyph\":{\"id\":\"c468796b-457f-4364-9147-8a17197abbec\",\"type\":\"Line\"},\"selection_glyph\":null,\"view\":{\"id\":\"5371aa6c-a51c-46c9-a058-03f60ccb35a1\",\"type\":\"CDSView\"}},\"id\":\"d5341ec5-6f71-45f8-b309-f17701e68eb8\",\"type\":\"GlyphRenderer\"},{\"attributes\":{\"above\":[{\"id\":\"53108aba-013a-4a91-b0e1-631d08ce40fa\",\"type\":\"Legend\"}],\"below\":[{\"id\":\"ee44e91a-9504-4f67-a6cc-487fb615e6d3\",\"type\":\"LinearAxis\"}],\"left\":[{\"id\":\"9daae819-eb66-49d5-b866-542a1dd4a951\",\"type\":\"LogAxis\"}],\"plot_width\":300,\"renderers\":[{\"id\":\"ee44e91a-9504-4f67-a6cc-487fb615e6d3\",\"type\":\"LinearAxis\"},{\"id\":\"75a11472-f7b8-4d15-afd9-1b46df158392\",\"type\":\"Grid\"},{\"id\":\"9daae819-eb66-49d5-b866-542a1dd4a951\",\"type\":\"LogAxis\"},{\"id\":\"62329e56-1d1b-4449-b109-e2567dfb2f80\",\"type\":\"Grid\"},{\"id\":\"ee9c2209-35dc-4c59-80ab-1f08fe4f3cdd\",\"type\":\"BoxAnnotation\"},{\"id\":\"1a4fe769-447d-4f34-9456-0c9528387c63\",\"type\":\"GlyphRenderer\"},{\"id\":\"6993860c-0c22-4a3a-a735-2b71405e293d\",\"type\":\"GlyphRenderer\"},{\"id\":\"53108aba-013a-4a91-b0e1-631d08ce40fa\",\"type\":\"Legend\"}],\"title\":{\"id\":\"2b8f365d-ade6-42ab-801d-7d952fab9159\",\"type\":\"Title\"},\"toolbar\":{\"id\":\"92cae52e-e5ab-4306-a3fc-1cf57c6dba9a\",\"type\":\"Toolbar\"},\"toolbar_location\":null,\"x_range\":{\"id\":\"538e6a18-9678-4909-8b5a-bc81b0782725\",\"type\":\"Range1d\"},\"x_scale\":{\"id\":\"679a5af1-30f4-4189-b02f-6c5703882f1c\",\"type\":\"LinearScale\"},\"y_range\":{\"id\":\"7be7e59c-bd18-4cb1-b3ff-25e7d419fab4\",\"type\":\"Range1d\"},\"y_scale\":{\"id\":\"20e075d4-e622-4467-a833-598dc2c29fe9\",\"type\":\"LogScale\"}},\"id\":\"c06edfaf-54cd-49f1-ada5-29a4049da3aa\",\"subtype\":\"Figure\",\"type\":\"Plot\"},{\"attributes\":{\"source\":{\"id\":\"62058f06-509d-4463-bbac-d8a7d3f4833f\",\"type\":\"ColumnDataSource\"}},\"id\":\"5371aa6c-a51c-46c9-a058-03f60ccb35a1\",\"type\":\"CDSView\"},{\"attributes\":{\"fill_alpha\":{\"value\":0.1},\"fill_color\":{\"value\":\"#1f77b4\"},\"line_alpha\":{\"value\":0.1},\"line_color\":{\"value\":\"#1f77b4\"},\"x\":{\"field\":\"x\"},\"y\":{\"field\":\"y\"}},\"id\":\"e3bd58fc-965d-4ef3-a7a5-4c9cc3775d4d\",\"type\":\"Circle\"},{\"attributes\":{\"line_alpha\":0.1,\"line_color\":\"#1f77b4\",\"line_width\":1.5,\"x\":{\"field\":\"x\"},\"y\":{\"field\":\"y\"}},\"id\":\"39175bf2-d955-4030-ad26-297a158dea16\",\"type\":\"Line\"},{\"attributes\":{\"callback\":null,\"end\":0.01,\"start\":1020},\"id\":\"1c10ddd3-074c-410f-994a-fbefd7371d5d\",\"type\":\"Range1d\"},{\"attributes\":{\"data_source\":{\"id\":\"5cb877a4-52d8-45f3-bde5-16f2e3dafc9a\",\"type\":\"ColumnDataSource\"},\"glyph\":{\"id\":\"b676d079-c43a-4d8c-b2f3-f74a3c1f0234\",\"type\":\"Circle\"},\"hover_glyph\":null,\"muted_glyph\":null,\"nonselection_glyph\":{\"id\":\"e3bd58fc-965d-4ef3-a7a5-4c9cc3775d4d\",\"type\":\"Circle\"},\"selection_glyph\":null,\"view\":{\"id\":\"703baf1d-611b-48a5-8c70-7c34d762d4eb\",\"type\":\"CDSView\"}},\"id\":\"d3b25d4a-3bdb-45a7-a240-26b8875f3714\",\"type\":\"GlyphRenderer\"},{\"attributes\":{\"callback\":null,\"end\":0.01,\"start\":1020},\"id\":\"91bdc608-6e9b-4309-bdd6-41403689123b\",\"type\":\"Range1d\"},{\"attributes\":{\"above\":[{\"id\":\"e8fbb31c-57e8-4fb6-8338-b788adda265f\",\"type\":\"Legend\"}],\"below\":[{\"id\":\"9fc6d3ba-0b8e-449c-9545-18736ad057f9\",\"type\":\"LinearAxis\"}],\"left\":[{\"id\":\"84b9c056-ea15-4fae-b393-7b693bb271c9\",\"type\":\"LinearAxis\"}],\"plot_width\":300,\"renderers\":[{\"id\":\"9fc6d3ba-0b8e-449c-9545-18736ad057f9\",\"type\":\"LinearAxis\"},{\"id\":\"405a62dd-fc6e-41e9-8639-0e91ed802390\",\"type\":\"Grid\"},{\"id\":\"84b9c056-ea15-4fae-b393-7b693bb271c9\",\"type\":\"LinearAxis\"},{\"id\":\"f616566d-ea00-4866-ae15-bdb6c57ed7a5\",\"type\":\"Grid\"},{\"id\":\"ead3dc70-e75b-4bcd-a71f-5ca17ad667bc\",\"type\":\"BoxAnnotation\"},{\"id\":\"0f2774a1-dea9-4bcf-9de1-2ab58184db65\",\"type\":\"GlyphRenderer\"},{\"id\":\"d3b25d4a-3bdb-45a7-a240-26b8875f3714\",\"type\":\"GlyphRenderer\"},{\"id\":\"d5341ec5-6f71-45f8-b309-f17701e68eb8\",\"type\":\"GlyphRenderer\"},{\"id\":\"e8fbb31c-57e8-4fb6-8338-b788adda265f\",\"type\":\"Legend\"}],\"title\":{\"id\":\"c555f882-d84b-4fa6-977f-639e9e89a621\",\"type\":\"Title\"},\"toolbar\":{\"id\":\"8a5f9c54-25ff-4037-8109-c17b3e8629ca\",\"type\":\"Toolbar\"},\"toolbar_location\":null,\"x_range\":{\"id\":\"6cd10f24-1377-490a-9740-3674a0866d90\",\"type\":\"Range1d\"},\"x_scale\":{\"id\":\"57b20c54-af2d-4f3f-af01-c1a28e30140d\",\"type\":\"LinearScale\"},\"y_range\":{\"id\":\"1c10ddd3-074c-410f-994a-fbefd7371d5d\",\"type\":\"Range1d\"},\"y_scale\":{\"id\":\"2589efe1-033c-4965-8508-98269be7581a\",\"type\":\"LinearScale\"}},\"id\":\"4cf3a01a-05e9-46f2-b895-50bd54a95739\",\"subtype\":\"Figure\",\"type\":\"Plot\"},{\"attributes\":{\"callback\":null,\"data\":{\"x\":{\"__ndarray__\":\"R/KIaN7AVEClCeJMyPNGQOvRhpxr30JAptxzhxx4PkA7SssMElA4QK6Bp3CyUDNAsVXpjES9LkBFhUV0+5coQMHYwqbbySNA6f09nM3nH0CaSd/3eYoZQDmgiAOW8BNAPYqARh3eDEBkm4vCgvr+P9D+5tWhQfY/P8DwKRnSAkBq38kb17ILQDT7IWuSsxFAUr2Rjm0FFkAinq3s9XgbQGCHwtYcqSFAG64kT303J0C7dRDneyooQD9JYrbK8yRA9S3bneHhIUAIymSuUMMcQIkHLe6VEBdAAau3cITREkA6CiNvkQIPQJU39ki7IQlAaAvwok1UA0BXLQiS4+L7P0xzDpJ2hPI/NNuPGMbJ5z91mUVYxqfSPxqwUPSxZca/G11peifD3L8QzNj5t2jTvwzOozTL360/SPJ4VI1VzD9KJ0nXEIncP8yDdlvHt+4/Et49nYLW9z++2teD4Jn+P+568eH/bwFALf5D9lmAAkCiZAicVOkCQPPT4jNKxwJAOjp3wTzBAUBSQsKNGisBQG4OmjqJwQBAJ3sZoHFuAEA5Ar0Sdi0AQGy4rw5+9f8/7W4nSrC3/z8mPr8zj4T/P4UYRHCQS/8/embVKYcF/z+5YXG+LLP+P/qb8BVUgf4/KvafTtyO/j/avAK1Ppv+PwJV9VVm2P0/JFtYlU/n/D9sN+q2fiX6Pw44e41PNPc/Opt+Z/wN9T+x3vcSW1vzP9ofvWQJlvI/8sciQQBW8j80sfkQa17yPzg5qng2r/I/Oh14WJBh8z+VZjnpctj0P6CcrSuCqQBA\",\"dtype\":\"float64\",\"shape\":[75]},\"y\":{\"__ndarray__\":\"GhExyth1ND/Sv8nbtpRIP2vylNV0PVE/aTum7souWD/At0SJ8fVgPw3Iuahxymc/MSNhhJWvcD/bTfBN02d3P2zb5nxnaoA/CD5h5MAGhz8NmeH1TyaQP+zrCsc9p5Y/LbKd76fGnz/bLW5ISEmmPww9YvTcQq8/JV2OstnstT8Er5Y7M8G+P0c+r3jqkcU/5h99k6ZBzj88bCIzFzjVP4enV8oyxN0//yH99nXg5D8qOpLLf0jtP5kqGJXUifQ/c9cS8kHP/D+/DpwzojQEQIEmwoanVwxA4lgXt9HgE0BSSZ2AJuIbQAMJih9jjiNA5q4l5INuK0AwTKYKRj0zQNv5fmq8/DpAaCJseHrtQkB/+zpwzoxKQM3MzMzMeFJAZmZmZmZqWEAAAAAAAFxeQM3MzMzMJmJAmpmZmZkfZUBmZmZmZhhoQDMzMzMzEWtAAAAAAAAKbkBmZmZmZoFwQM3MzMzM/XFAMzMzMzN6c0CamZmZmfZ0QAAAAAAAc3ZAZmZmZmbvd0DNzMzMzGt5QDMzMzMz6HpAmpmZmZlkfEAAAAAAAOF9QGZmZmZmXX9AZmZmZuZsgECamZmZGSuBQM3MzMxM6YFAAAAAAICngkAzMzMzs2WDQGZmZmbmI4RAmpmZmRnihEDNzMzMTKCFQAAAAACAXoZAMzMzM7Mch0BmZmZm5tqHQJqZmZkZmYhAzczMzExXiUAAAAAAgBWKQDMzMzOz04pAZmZmZuaRi0CamZmZGVCMQM3MzMxMDo1AAAAAAIDMjUAzMzMzs4qOQGZmZmbmSI9A\",\"dtype\":\"float64\",\"shape\":[75]}},\"selected\":{\"id\":\"52f462bb-f782-4329-922a-437629ea1388\",\"type\":\"Selection\"},\"selection_policy\":{\"id\":\"92a0aaf7-d3d5-49c7-882d-297c3efc73d7\",\"type\":\"UnionRenderers\"}},\"id\":\"5d3b6dd5-1445-47b9-b533-66f6bec0f1e4\",\"type\":\"ColumnDataSource\"},{\"attributes\":{\"callback\":null,\"data\":{\"x\":{\"__ndarray__\":\"R/KIaN7AVEClCeJMyPNGQOvRhpxr30JAptxzhxx4PkA7SssMElA4QK6Bp3CyUDNAsVXpjES9LkBFhUV0+5coQMHYwqbbySNA6f09nM3nH0CaSd/3eYoZQDmgiAOW8BNAPYqARh3eDEBkm4vCgvr+P9D+5tWhQfY/P8DwKRnSAkBq38kb17ILQDT7IWuSsxFAUr2Rjm0FFkAinq3s9XgbQGCHwtYcqSFAG64kT303J0C7dRDneyooQD9JYrbK8yRA9S3bneHhIUAIymSuUMMcQIkHLe6VEBdAAau3cITREkA6CiNvkQIPQJU39ki7IQlAaAvwok1UA0BXLQiS4+L7P0xzDpJ2hPI/NNuPGMbJ5z91mUVYxqfSPxqwUPSxZca/G11peifD3L8QzNj5t2jTvwzOozTL360/SPJ4VI1VzD9KJ0nXEIncP8yDdlvHt+4/Et49nYLW9z++2teD4Jn+P+568eH/bwFALf5D9lmAAkCiZAicVOkCQPPT4jNKxwJAOjp3wTzBAUBSQsKNGisBQG4OmjqJwQBAJ3sZoHFuAEA5Ar0Sdi0AQGy4rw5+9f8/7W4nSrC3/z8mPr8zj4T/P4UYRHCQS/8/embVKYcF/z+5YXG+LLP+P/qb8BVUgf4/KvafTtyO/j/avAK1Ppv+PwJV9VVm2P0/JFtYlU/n/D9sN+q2fiX6Pw44e41PNPc/Opt+Z/wN9T+x3vcSW1vzP9ofvWQJlvI/8sciQQBW8j80sfkQa17yPzg5qng2r/I/Oh14WJBh8z+VZjnpctj0P6CcrSuCqQBA\",\"dtype\":\"float64\",\"shape\":[75]},\"y\":{\"__ndarray__\":\"GhExyth1ND/Sv8nbtpRIP2vylNV0PVE/aTum7souWD/At0SJ8fVgPw3Iuahxymc/MSNhhJWvcD/bTfBN02d3P2zb5nxnaoA/CD5h5MAGhz8NmeH1TyaQP+zrCsc9p5Y/LbKd76fGnz/bLW5ISEmmPww9YvTcQq8/JV2OstnstT8Er5Y7M8G+P0c+r3jqkcU/5h99k6ZBzj88bCIzFzjVP4enV8oyxN0//yH99nXg5D8qOpLLf0jtP5kqGJXUifQ/c9cS8kHP/D+/DpwzojQEQIEmwoanVwxA4lgXt9HgE0BSSZ2AJuIbQAMJih9jjiNA5q4l5INuK0AwTKYKRj0zQNv5fmq8/DpAaCJseHrtQkB/+zpwzoxKQM3MzMzMeFJAZmZmZmZqWEAAAAAAAFxeQM3MzMzMJmJAmpmZmZkfZUBmZmZmZhhoQDMzMzMzEWtAAAAAAAAKbkBmZmZmZoFwQM3MzMzM/XFAMzMzMzN6c0CamZmZmfZ0QAAAAAAAc3ZAZmZmZmbvd0DNzMzMzGt5QDMzMzMz6HpAmpmZmZlkfEAAAAAAAOF9QGZmZmZmXX9AZmZmZuZsgECamZmZGSuBQM3MzMxM6YFAAAAAAICngkAzMzMzs2WDQGZmZmbmI4RAmpmZmRnihEDNzMzMTKCFQAAAAACAXoZAMzMzM7Mch0BmZmZm5tqHQJqZmZkZmYhAzczMzExXiUAAAAAAgBWKQDMzMzOz04pAZmZmZuaRi0CamZmZGVCMQM3MzMxMDo1AAAAAAIDMjUAzMzMzs4qOQGZmZmbmSI9A\",\"dtype\":\"float64\",\"shape\":[75]}},\"selected\":{\"id\":\"f0f068f5-144a-4924-9b7b-214ebfdec178\",\"type\":\"Selection\"},\"selection_policy\":{\"id\":\"b6fdf4e8-49fe-4777-8775-3f6fb7d32b65\",\"type\":\"UnionRenderers\"}},\"id\":\"62058f06-509d-4463-bbac-d8a7d3f4833f\",\"type\":\"ColumnDataSource\"},{\"attributes\":{\"line_alpha\":0.1,\"line_color\":\"#1f77b4\",\"line_width\":1.5,\"x\":{\"field\":\"x\"},\"y\":{\"field\":\"y\"}},\"id\":\"c468796b-457f-4364-9147-8a17197abbec\",\"type\":\"Line\"},{\"attributes\":{\"callback\":null,\"data\":{\"x\":{\"__ndarray__\":\"R/KIaN7AVEClCeJMyPNGQOvRhpxr30JAptxzhxx4PkA7SssMElA4QK6Bp3CyUDNAsVXpjES9LkBFhUV0+5coQMHYwqbbySNA6f09nM3nH0CaSd/3eYoZQDmgiAOW8BNAPYqARh3eDEBkm4vCgvr+P9D+5tWhQfY/P8DwKRnSAkBq38kb17ILQDT7IWuSsxFAUr2Rjm0FFkAinq3s9XgbQGCHwtYcqSFAG64kT303J0C7dRDneyooQD9JYrbK8yRA9S3bneHhIUAIymSuUMMcQIkHLe6VEBdAAau3cITREkA6CiNvkQIPQJU39ki7IQlAaAvwok1UA0BXLQiS4+L7P0xzDpJ2hPI/NNuPGMbJ5z91mUVYxqfSPxqwUPSxZca/G11peifD3L8QzNj5t2jTvwzOozTL360/SPJ4VI1VzD9KJ0nXEIncP8yDdlvHt+4/Et49nYLW9z++2teD4Jn+P+568eH/bwFALf5D9lmAAkCiZAicVOkCQPPT4jNKxwJAOjp3wTzBAUBSQsKNGisBQG4OmjqJwQBAJ3sZoHFuAEA5Ar0Sdi0AQGy4rw5+9f8/7W4nSrC3/z8mPr8zj4T/P4UYRHCQS/8/embVKYcF/z+5YXG+LLP+P/qb8BVUgf4/KvafTtyO/j/avAK1Ppv+PwJV9VVm2P0/JFtYlU/n/D9sN+q2fiX6Pw44e41PNPc/Opt+Z/wN9T+x3vcSW1vzP9ofvWQJlvI/8sciQQBW8j80sfkQa17yPzg5qng2r/I/Oh14WJBh8z+VZjnpctj0P6CcrSuCqQBA\",\"dtype\":\"float64\",\"shape\":[75]},\"y\":{\"__ndarray__\":\"GhExyth1ND/Sv8nbtpRIP2vylNV0PVE/aTum7souWD/At0SJ8fVgPw3Iuahxymc/MSNhhJWvcD/bTfBN02d3P2zb5nxnaoA/CD5h5MAGhz8NmeH1TyaQP+zrCsc9p5Y/LbKd76fGnz/bLW5ISEmmPww9YvTcQq8/JV2OstnstT8Er5Y7M8G+P0c+r3jqkcU/5h99k6ZBzj88bCIzFzjVP4enV8oyxN0//yH99nXg5D8qOpLLf0jtP5kqGJXUifQ/c9cS8kHP/D+/DpwzojQEQIEmwoanVwxA4lgXt9HgE0BSSZ2AJuIbQAMJih9jjiNA5q4l5INuK0AwTKYKRj0zQNv5fmq8/DpAaCJseHrtQkB/+zpwzoxKQM3MzMzMeFJAZmZmZmZqWEAAAAAAAFxeQM3MzMzMJmJAmpmZmZkfZUBmZmZmZhhoQDMzMzMzEWtAAAAAAAAKbkBmZmZmZoFwQM3MzMzM/XFAMzMzMzN6c0CamZmZmfZ0QAAAAAAAc3ZAZmZmZmbvd0DNzMzMzGt5QDMzMzMz6HpAmpmZmZlkfEAAAAAAAOF9QGZmZmZmXX9AZmZmZuZsgECamZmZGSuBQM3MzMxM6YFAAAAAAICngkAzMzMzs2WDQGZmZmbmI4RAmpmZmRnihEDNzMzMTKCFQAAAAACAXoZAMzMzM7Mch0BmZmZm5tqHQJqZmZkZmYhAzczMzExXiUAAAAAAgBWKQDMzMzOz04pAZmZmZuaRi0CamZmZGVCMQM3MzMxMDo1AAAAAAIDMjUAzMzMzs4qOQGZmZmbmSI9A\",\"dtype\":\"float64\",\"shape\":[75]}},\"selected\":{\"id\":\"030ecd1e-2edc-4681-9168-a3ef18658f1c\",\"type\":\"Selection\"},\"selection_policy\":{\"id\":\"fb1d43f0-6d17-4a7f-bcab-95671f4e633c\",\"type\":\"UnionRenderers\"}},\"id\":\"5cb877a4-52d8-45f3-bde5-16f2e3dafc9a\",\"type\":\"ColumnDataSource\"},{\"attributes\":{\"source\":{\"id\":\"5cb877a4-52d8-45f3-bde5-16f2e3dafc9a\",\"type\":\"ColumnDataSource\"}},\"id\":\"703baf1d-611b-48a5-8c70-7c34d762d4eb\",\"type\":\"CDSView\"},{\"attributes\":{\"fill_alpha\":{\"value\":0.7},\"fill_color\":{\"value\":\"#4daf4a\"},\"line_alpha\":{\"value\":0.7},\"line_color\":{\"value\":\"#4daf4a\"},\"x\":{\"field\":\"x\"},\"y\":{\"field\":\"y\"}},\"id\":\"b676d079-c43a-4d8c-b2f3-f74a3c1f0234\",\"type\":\"Circle\"},{\"attributes\":{\"callback\":null,\"end\":0.5537637849402082,\"start\":-1.3590636542774073},\"id\":\"538e6a18-9678-4909-8b5a-bc81b0782725\",\"type\":\"Range1d\"},{\"attributes\":{\"line_color\":\"#4daf4a\",\"line_width\":1.5,\"x\":{\"field\":\"x\"},\"y\":{\"field\":\"y\"}},\"id\":\"3e5db94f-248d-4d8c-b741-c61bca5c5181\",\"type\":\"Line\"},{\"attributes\":{\"source\":{\"id\":\"d045f7b1-d031-4725-a8f6-9dcd1b1e20cc\",\"type\":\"ColumnDataSource\"}},\"id\":\"bffa6ee0-6097-4e48-880a-33e3d8064f1e\",\"type\":\"CDSView\"},{\"attributes\":{\"data_source\":{\"id\":\"5d3b6dd5-1445-47b9-b533-66f6bec0f1e4\",\"type\":\"ColumnDataSource\"},\"glyph\":{\"id\":\"3e5db94f-248d-4d8c-b741-c61bca5c5181\",\"type\":\"Line\"},\"hover_glyph\":null,\"muted_glyph\":null,\"nonselection_glyph\":{\"id\":\"39175bf2-d955-4030-ad26-297a158dea16\",\"type\":\"Line\"},\"selection_glyph\":null,\"view\":{\"id\":\"7e9c866d-e47a-4c94-83e2-14d43b28e57f\",\"type\":\"CDSView\"}},\"id\":\"9c60f215-45e3-4cf2-bac4-40dd103ce0b3\",\"type\":\"GlyphRenderer\"},{\"attributes\":{\"fill_alpha\":{\"value\":0.1},\"fill_color\":{\"value\":\"#1f77b4\"},\"line_alpha\":{\"value\":0.1},\"line_color\":{\"value\":\"#1f77b4\"},\"x\":{\"field\":\"x\"},\"y\":{\"field\":\"y\"}},\"id\":\"f1d25329-fc93-4dc2-b3c4-c27aae25bc8e\",\"type\":\"Circle\"},{\"attributes\":{\"data_source\":{\"id\":\"d045f7b1-d031-4725-a8f6-9dcd1b1e20cc\",\"type\":\"ColumnDataSource\"},\"glyph\":{\"id\":\"7aaeb20f-fe71-4e19-b34a-9ea8c41dbf7b\",\"type\":\"Circle\"},\"hover_glyph\":null,\"muted_glyph\":null,\"nonselection_glyph\":{\"id\":\"f1d25329-fc93-4dc2-b3c4-c27aae25bc8e\",\"type\":\"Circle\"},\"selection_glyph\":null,\"view\":{\"id\":\"bffa6ee0-6097-4e48-880a-33e3d8064f1e\",\"type\":\"CDSView\"}},\"id\":\"82aff1b9-7f57-4904-a168-c2d61d0cbfd4\",\"type\":\"GlyphRenderer\"},{\"attributes\":{},\"id\":\"8bf45801-038a-4f88-adef-72be18e1f81c\",\"type\":\"PanTool\"},{\"attributes\":{\"line_color\":\"#4daf4a\",\"line_width\":1.5,\"x\":{\"field\":\"x\"},\"y\":{\"field\":\"y\"}},\"id\":\"fec29148-32a2-483e-92d9-646c4c90a878\",\"type\":\"Line\"},{\"attributes\":{\"ticker\":null},\"id\":\"7fa2cc40-b971-41ad-91d2-6ddcc1ea919a\",\"type\":\"LogTickFormatter\"},{\"attributes\":{},\"id\":\"ef23b2de-738f-485e-b2d8-3efc8ff382e6\",\"type\":\"BasicTickFormatter\"},{\"attributes\":{\"num_minor_ticks\":10},\"id\":\"48246db9-32a4-49cc-aca0-576148c37e12\",\"type\":\"LogTicker\"},{\"attributes\":{\"data_source\":{\"id\":\"016c33a0-c43c-4fed-b5c7-8f25d76bf911\",\"type\":\"ColumnDataSource\"},\"glyph\":{\"id\":\"c8ef512a-9504-49f1-a833-c8bd39c25db2\",\"type\":\"Line\"},\"hover_glyph\":null,\"muted_glyph\":null,\"nonselection_glyph\":{\"id\":\"706de4e9-3853-40de-bbb2-41efde01db5c\",\"type\":\"Line\"},\"selection_glyph\":null,\"view\":{\"id\":\"8dd86399-5a57-40a6-9a4d-36da691e282a\",\"type\":\"CDSView\"}},\"id\":\"0f2774a1-dea9-4bcf-9de1-2ab58184db65\",\"type\":\"GlyphRenderer\"},{\"attributes\":{},\"id\":\"6da595ba-c461-4350-bf7e-597c239b5fd1\",\"type\":\"Selection\"},{\"attributes\":{\"plot\":{\"id\":\"c06edfaf-54cd-49f1-ada5-29a4049da3aa\",\"subtype\":\"Figure\",\"type\":\"Plot\"},\"ticker\":{\"id\":\"f7e54260-f8ba-4caf-982a-92916992aa3f\",\"type\":\"BasicTicker\"}},\"id\":\"75a11472-f7b8-4d15-afd9-1b46df158392\",\"type\":\"Grid\"},{\"attributes\":{\"axis_label\":\"pressure [mb]\",\"formatter\":{\"id\":\"0c8891f6-d27c-4468-9366-a8d3dd575715\",\"type\":\"LogTickFormatter\"},\"plot\":{\"id\":\"c06edfaf-54cd-49f1-ada5-29a4049da3aa\",\"subtype\":\"Figure\",\"type\":\"Plot\"},\"ticker\":{\"id\":\"48246db9-32a4-49cc-aca0-576148c37e12\",\"type\":\"LogTicker\"}},\"id\":\"9daae819-eb66-49d5-b866-542a1dd4a951\",\"type\":\"LogAxis\"},{\"attributes\":{},\"id\":\"e2f1fc4e-a832-42d9-bae0-477723f28e6f\",\"type\":\"Selection\"},{\"attributes\":{\"dimension\":1,\"plot\":{\"id\":\"c06edfaf-54cd-49f1-ada5-29a4049da3aa\",\"subtype\":\"Figure\",\"type\":\"Plot\"},\"ticker\":{\"id\":\"48246db9-32a4-49cc-aca0-576148c37e12\",\"type\":\"LogTicker\"}},\"id\":\"62329e56-1d1b-4449-b109-e2567dfb2f80\",\"type\":\"Grid\"},{\"attributes\":{},\"id\":\"f9e5ecee-151c-4e16-b0c5-9c44e7232371\",\"type\":\"UnionRenderers\"},{\"attributes\":{\"source\":{\"id\":\"a6d86176-5bee-407f-bcc5-bb2b6d865a37\",\"type\":\"ColumnDataSource\"}},\"id\":\"081230b2-8dbd-4b1e-834e-85b91a14df72\",\"type\":\"CDSView\"},{\"attributes\":{\"callback\":null,\"data\":{\"x\":{\"__ndarray__\":\"pNIOppw/IcACfjWs91gFwOtXDA8mivc/oKtSZbtMDEA8c8IsK18NQHtYY9f7VgNA49CxZ2pu5D+t2qw7k07pv4GXPV3pcfW/69HOnDZj8b9b/UR4fBrfv0BNqqnpKLU/G3oU4XQ33T80VzJ/zh7hPx7c6w9Fd9Y/VjZ2fAzssD/Gd8vx4afRv863LuAzTeG/PlcewrtX4b+WqvAZtojTv7TJk0XrbLm//uGfHPHPm78LsdF+EwbLv9DifrJV/9a/MW1g76yuur89ijbJ7XLUP4zRB3ofYdU/DwrZWy2gtj9wOVRTN3BdP7XVbxigu8w/btQiSbtV0z+OwiYrvC2/P0/xOSksDrG/+8tT/hzsob9VKKJxHuWfP9EPsz91dqG/vKNS+CFJtL/KE+3eoL2wv6iFcvOhc66/r1C4vHmTsL8CBGmun/ewv6bEv0KPubK/fKbaQYkdqr/Zu8GXKU+xv0zMEil9FMC/Im28RD3dtL+WgbCzCLqvvw0t+IDoxrW/OhFxn8+atb/ofHUWUiCtv1SSfJpqN6C/MuUkAmgClb+E3SV4WUiWvyWEh6b51Z2/codcanG/nr8CTebsHS2Nv+yn1wrzTpA/O7A2LQ3Ipj/6nYyoiz+tP6tdcIy4jqg/tOyKnxq9mT/I6KYRVgphPzwQuO38VHW/VPJEQ49ncj/DhSXYtdybP4buKJ2q7Kw/wR1eWEKssj+2YgfvlVuzP7kTxq8MbLQ/XTBwS4p7tT/36d4cTJC2PxvLksp8jLo/6ZgD3c+Lvj+9qqYwXg/APw==\",\"dtype\":\"float64\",\"shape\":[74]},\"y\":{\"__ndarray__\":\"0r/J27aUSD9r8pTVdD1RP2k7pu7KLlg/wLdEifH1YD8NyLmoccpnPzEjYYSVr3A/203wTdNndz9s2+Z8Z2qAPwg+YeTABoc/DZnh9U8mkD/s6wrHPaeWPy2yne+nxp8/2y1uSEhJpj8MPWL03EKvPyVdjrLZ7LU/BK+WOzPBvj9HPq946pHFP+YffZOmQc4/PGwiMxc41T+Hp1fKMsTdP/8h/fZ14OQ/KjqSy39I7T+ZKhiV1In0P3PXEvJBz/w/vw6cM6I0BECBJsKGp1cMQOJYF7fR4BNAUkmdgCbiG0ADCYofY44jQOauJeSDbitAMEymCkY9M0Db+X5qvPw6QGgibHh67UJAf/s6cM6MSkDNzMzMzHhSQGZmZmZmalhAAAAAAABcXkDNzMzMzCZiQJqZmZmZH2VAZmZmZmYYaEAzMzMzMxFrQAAAAAAACm5AZmZmZmaBcEDNzMzMzP1xQDMzMzMzenNAmpmZmZn2dEAAAAAAAHN2QGZmZmZm73dAzczMzMxreUAzMzMzM+h6QJqZmZmZZHxAAAAAAADhfUBmZmZmZl1/QGZmZmbmbIBAmpmZmRkrgUDNzMzMTOmBQAAAAACAp4JAMzMzM7Nlg0BmZmZm5iOEQJqZmZkZ4oRAzczMzEyghUAAAAAAgF6GQDMzMzOzHIdAZmZmZubah0CamZmZGZmIQM3MzMxMV4lAAAAAAIAVikAzMzMzs9OKQGZmZmbmkYtAmpmZmRlQjEDNzMzMTA6NQAAAAACAzI1AMzMzM7OKjkBmZmZm5kiPQA==\",\"dtype\":\"float64\",\"shape\":[74]}},\"selected\":{\"id\":\"1b8826e5-c560-46cb-83df-d864aee21948\",\"type\":\"Selection\"},\"selection_policy\":{\"id\":\"cea75d77-4758-48fc-99ad-20057070447c\",\"type\":\"UnionRenderers\"}},\"id\":\"bad85bbc-ceb3-43a0-9b0a-14b68fa75f98\",\"type\":\"ColumnDataSource\"},{\"attributes\":{\"line_alpha\":0.6,\"line_color\":\"#377eb8\",\"line_dash\":[6],\"line_width\":5,\"x\":{\"field\":\"x\"},\"y\":{\"field\":\"y\"}},\"id\":\"1b94d386-223f-4ea0-a5eb-58f81a5bb887\",\"type\":\"Line\"},{\"attributes\":{\"fill_alpha\":{\"value\":0.7},\"fill_color\":{\"value\":\"#984ea3\"},\"line_alpha\":{\"value\":0.7},\"line_color\":{\"value\":\"#984ea3\"},\"x\":{\"field\":\"x\"},\"y\":{\"field\":\"y\"}},\"id\":\"d62db7f0-01ed-44f3-87b0-aa0d8bff96b7\",\"type\":\"Circle\"},{\"attributes\":{\"above\":[{\"id\":\"c5388127-4675-42d2-820b-158c0dba6618\",\"type\":\"Legend\"}],\"below\":[{\"id\":\"01338ab9-6436-4cbb-9210-9c8881881433\",\"type\":\"LinearAxis\"}],\"left\":[{\"id\":\"fbd29a00-a6aa-4e60-b167-5ca9d2294092\",\"type\":\"LogAxis\"}],\"plot_width\":300,\"renderers\":[{\"id\":\"01338ab9-6436-4cbb-9210-9c8881881433\",\"type\":\"LinearAxis\"},{\"id\":\"58932aa3-564d-46be-9707-c0ab7f0e0357\",\"type\":\"Grid\"},{\"id\":\"fbd29a00-a6aa-4e60-b167-5ca9d2294092\",\"type\":\"LogAxis\"},{\"id\":\"3dcc97bc-b2fc-43b3-955a-f5f61dffb141\",\"type\":\"Grid\"},{\"id\":\"d85f89b5-ce7d-4fe8-82b9-e9c0aa564a57\",\"type\":\"BoxAnnotation\"},{\"id\":\"41462353-7b7a-4a86-9fc8-e3ee427f7add\",\"type\":\"GlyphRenderer\"},{\"id\":\"82aff1b9-7f57-4904-a168-c2d61d0cbfd4\",\"type\":\"GlyphRenderer\"},{\"id\":\"9c60f215-45e3-4cf2-bac4-40dd103ce0b3\",\"type\":\"GlyphRenderer\"},{\"id\":\"c5388127-4675-42d2-820b-158c0dba6618\",\"type\":\"Legend\"}],\"title\":{\"id\":\"3a448a5f-35ac-486e-85fa-f8cfefc06a45\",\"type\":\"Title\"},\"toolbar\":{\"id\":\"ff26fd80-5ead-49da-94ce-ed2aad47f1b3\",\"type\":\"Toolbar\"},\"toolbar_location\":null,\"x_range\":{\"id\":\"f0fd6b82-ce9d-426c-a0c4-d9293f8abc2e\",\"type\":\"Range1d\"},\"x_scale\":{\"id\":\"ff715afc-97e5-446b-9374-5ec2e331e08f\",\"type\":\"LinearScale\"},\"y_range\":{\"id\":\"91bdc608-6e9b-4309-bdd6-41403689123b\",\"type\":\"Range1d\"},\"y_scale\":{\"id\":\"6f0d72af-60e6-4774-809f-1155ecdc1da1\",\"type\":\"LogScale\"}},\"id\":\"d4d40ffa-9866-474c-8067-e080a0d42e65\",\"subtype\":\"Figure\",\"type\":\"Plot\"},{\"attributes\":{\"callback\":null,\"data\":{\"x\":{\"__ndarray__\":\"/Ennn5VNRUD8VF4j4aNCQAx6wyHciUFAJKJk6L7wP0Cwn3V5qdk7QBfQP9aX/DZA6BVhwYHJMUBRosAa4t4pQBYLCHPyNCJACZjuRFOLGkAflatQrDEVQGRQBDzu/hFAqNzNk2SHDUD3XGj9LyQDQGkqgBUJ0f4/wzvuywGhBUAcka1/NzoMQLhDBUwUmRBAWeaLEsfbE0A502l0/k0ZQAsC8yXXDCFAh4aZeKMEJ0DLJYLukxwoQH0CZ2iyhyRA3jZH8OYpIUBRSKf6lVgcQC1wwMrEVxhAGihYaJYnFECK0gHakrcPQBui4E9pJQlAwwh3pAcgBUA5cSgyKVwAQHbfwFRSd/Q/DJ1okwCo5T/3H3u4QmrQPw9rHCYOacK/Fb9fIvbx3r//dO13AHvYv1bMskm023y/3FCc16S4xD8fExtoMmTYP0xjqWXTmOw/yeERqemq9j+MBck59Mj9Pw5tM5WG5QBAadGyIxJ/AUA3geKxakICQOwRFBFiSAJA0nhvfQUTAUDHucYQRH4AQHo4QPIHTQBA3oiv9ZMtAEBvuLhCcQMAQPcgz6hcnP8/3FCNY1hA/z8IzBVukQn/P+1LajQ2Ef8/GsUA9sJG/z88F9snbWn/P+sANXNQa/8/GHkDE1JT/z+N6IAfMwL/P3co/oDr4P0/FKNqmPrR/D9ffC1G5jf6PyTO22TCo/c/ruJnvGH19T+NwH04H4b0PwaWrcPCy/M/LSkfDMGc8z86tLC1I7bzP9kneDo7GPQ/7EkhJVgK9T8joAnnL8H2P0wHuA54qgFA\",\"dtype\":\"float64\",\"shape\":[75]},\"y\":{\"__ndarray__\":\"S/O/Q+51ND/Sv8nbtpRIP2vylNV0PVE/aTum7souWD/At0SJ8fVgPw3Iuahxymc/MSNhhJWvcD/bTfBN02d3P2zb5nxnaoA/CD5h5MAGhz8NmeH1TyaQP+zrCsc9p5Y/LbKd76fGnz/bLW5ISEmmPww9YvTcQq8/JV2OstnstT8Er5Y7M8G+P0c+r3jqkcU/5h99k6ZBzj88bCIzFzjVP4enV8oyxN0//yH99nXg5D8qOpLLf0jtP5kqGJXUifQ/c9cS8kHP/D+/DpwzojQEQIEmwoanVwxA4lgXt9HgE0BSSZ2AJuIbQAMJih9jjiNA5q4l5INuK0AwTKYKRj0zQNv5fmq8/DpAaCJseHrtQkB/+zpwzoxKQM3MzMzMeFJAZmZmZmZqWEAAAAAAAFxeQM3MzMzMJmJAmpmZmZkfZUBmZmZmZhhoQDMzMzMzEWtAAAAAAAAKbkBmZmZmZoFwQM3MzMzM/XFAMzMzMzN6c0CamZmZmfZ0QAAAAAAAc3ZAZmZmZmbvd0DNzMzMzGt5QDMzMzMz6HpAmpmZmZlkfEAAAAAAAOF9QGZmZmZmXX9AZmZmZuZsgECamZmZGSuBQM3MzMxM6YFAAAAAAICngkAzMzMzs2WDQGZmZmbmI4RAmpmZmRnihEDNzMzMTKCFQAAAAACAXoZAMzMzM7Mch0BmZmZm5tqHQJqZmZkZmYhAzczMzExXiUAAAAAAgBWKQDMzMzOz04pAZmZmZuaRi0CamZmZGVCMQM3MzMxMDo1AAAAAAIDMjUAzMzMzs4qOQGZmZmbmSI9A\",\"dtype\":\"float64\",\"shape\":[75]}},\"selected\":{\"id\":\"6da595ba-c461-4350-bf7e-597c239b5fd1\",\"type\":\"Selection\"},\"selection_policy\":{\"id\":\"609d8392-5869-4ffc-a847-76d590943cda\",\"type\":\"UnionRenderers\"}},\"id\":\"1c8031c2-d522-4b13-9c8b-cb487d7495ac\",\"type\":\"ColumnDataSource\"},{\"attributes\":{\"line_alpha\":0.1,\"line_color\":\"#1f77b4\",\"line_width\":1.5,\"x\":{\"field\":\"x\"},\"y\":{\"field\":\"y\"}},\"id\":\"4c0498aa-9a19-4d7b-ab65-e5c33af5c5a1\",\"type\":\"Line\"},{\"attributes\":{\"children\":[{\"id\":\"4cf3a01a-05e9-46f2-b895-50bd54a95739\",\"subtype\":\"Figure\",\"type\":\"Plot\"},{\"id\":\"d4d40ffa-9866-474c-8067-e080a0d42e65\",\"subtype\":\"Figure\",\"type\":\"Plot\"},{\"id\":\"c06edfaf-54cd-49f1-ada5-29a4049da3aa\",\"subtype\":\"Figure\",\"type\":\"Plot\"}]},\"id\":\"8ec25295-48bd-45c2-bf10-d448d103cbfa\",\"type\":\"Row\"},{\"attributes\":{\"children\":[{\"id\":\"8ec25295-48bd-45c2-bf10-d448d103cbfa\",\"type\":\"Row\"}]},\"id\":\"12d87d9b-10da-4091-8f2f-2c751529aca9\",\"type\":\"Column\"},{\"attributes\":{},\"id\":\"20e075d4-e622-4467-a833-598dc2c29fe9\",\"type\":\"LogScale\"},{\"attributes\":{\"source\":{\"id\":\"016c33a0-c43c-4fed-b5c7-8f25d76bf911\",\"type\":\"ColumnDataSource\"}},\"id\":\"8dd86399-5a57-40a6-9a4d-36da691e282a\",\"type\":\"CDSView\"},{\"attributes\":{\"source\":{\"id\":\"5d3b6dd5-1445-47b9-b533-66f6bec0f1e4\",\"type\":\"ColumnDataSource\"}},\"id\":\"7e9c866d-e47a-4c94-83e2-14d43b28e57f\",\"type\":\"CDSView\"},{\"attributes\":{\"callback\":null,\"end\":0.01,\"start\":1020},\"id\":\"7be7e59c-bd18-4cb1-b3ff-25e7d419fab4\",\"type\":\"Range1d\"},{\"attributes\":{\"items\":[{\"id\":\"598877b3-41b6-486c-badf-b865aa416238\",\"type\":\"LegendItem\"}],\"label_text_font_size\":{\"value\":\"8pt\"},\"location\":\"top_center\",\"orientation\":\"horizontal\",\"plot\":{\"id\":\"c06edfaf-54cd-49f1-ada5-29a4049da3aa\",\"subtype\":\"Figure\",\"type\":\"Plot\"}},\"id\":\"53108aba-013a-4a91-b0e1-631d08ce40fa\",\"type\":\"Legend\"},{\"attributes\":{\"data_source\":{\"id\":\"bad85bbc-ceb3-43a0-9b0a-14b68fa75f98\",\"type\":\"ColumnDataSource\"},\"glyph\":{\"id\":\"f133723f-7d61-4284-8257-a4941011a6dd\",\"type\":\"Line\"},\"hover_glyph\":null,\"muted_glyph\":null,\"nonselection_glyph\":{\"id\":\"4c0498aa-9a19-4d7b-ab65-e5c33af5c5a1\",\"type\":\"Line\"},\"selection_glyph\":null,\"view\":{\"id\":\"a897c1e0-934f-4f01-89b9-0c6e4d5b764e\",\"type\":\"CDSView\"}},\"id\":\"6993860c-0c22-4a3a-a735-2b71405e293d\",\"type\":\"GlyphRenderer\"},{\"attributes\":{\"line_alpha\":0.1,\"line_color\":\"#1f77b4\",\"line_dash\":[6],\"line_width\":5,\"x\":{\"field\":\"x\"},\"y\":{\"field\":\"y\"}},\"id\":\"6fb01c3d-7b6c-4a9d-b802-4b587db3ff4f\",\"type\":\"Line\"},{\"attributes\":{\"data_source\":{\"id\":\"1c8031c2-d522-4b13-9c8b-cb487d7495ac\",\"type\":\"ColumnDataSource\"},\"glyph\":{\"id\":\"1b94d386-223f-4ea0-a5eb-58f81a5bb887\",\"type\":\"Line\"},\"hover_glyph\":null,\"muted_glyph\":null,\"nonselection_glyph\":{\"id\":\"6fb01c3d-7b6c-4a9d-b802-4b587db3ff4f\",\"type\":\"Line\"},\"selection_glyph\":null,\"view\":{\"id\":\"1b93e20b-2fc7-4e9d-aedc-cf863ab5438f\",\"type\":\"CDSView\"}},\"id\":\"41462353-7b7a-4a86-9fc8-e3ee427f7add\",\"type\":\"GlyphRenderer\"},{\"attributes\":{\"active_drag\":\"auto\",\"active_inspect\":\"auto\",\"active_scroll\":\"auto\",\"active_tap\":\"auto\",\"tools\":[{\"id\":\"8bf45801-038a-4f88-adef-72be18e1f81c\",\"type\":\"PanTool\"},{\"id\":\"9ab2cf7a-4ec3-4783-b503-6646eaf2d432\",\"type\":\"WheelZoomTool\"},{\"id\":\"6a07b2e4-92e2-425e-a7a1-33c46287de01\",\"type\":\"BoxZoomTool\"},{\"id\":\"8fe8b48a-5ea9-42f9-ac09-ebd4bce55462\",\"type\":\"SaveTool\"},{\"id\":\"fdaa401b-1f11-479a-bcfb-35fb146be0f2\",\"type\":\"ResetTool\"},{\"id\":\"270120a6-5628-4085-9b6d-fb41b724421a\",\"type\":\"HelpTool\"}]},\"id\":\"92cae52e-e5ab-4306-a3fc-1cf57c6dba9a\",\"type\":\"Toolbar\"},{\"attributes\":{\"line_alpha\":0.8,\"line_color\":\"#984ea3\",\"line_width\":1.5,\"x\":{\"field\":\"x\"},\"y\":{\"field\":\"y\"}},\"id\":\"f133723f-7d61-4284-8257-a4941011a6dd\",\"type\":\"Line\"},{\"attributes\":{\"active_drag\":\"auto\",\"active_inspect\":\"auto\",\"active_scroll\":\"auto\",\"active_tap\":\"auto\",\"tools\":[{\"id\":\"51a96f25-f591-41be-b175-e9433684d96b\",\"type\":\"PanTool\"},{\"id\":\"caec47fa-1106-403e-abb6-9fd2e1f750a2\",\"type\":\"WheelZoomTool\"},{\"id\":\"fe88b716-49aa-4590-8034-5c1740b81320\",\"type\":\"BoxZoomTool\"},{\"id\":\"08d91b4d-22bc-4d68-bc67-64e8cceba97a\",\"type\":\"SaveTool\"},{\"id\":\"7c8e3442-50af-41d4-9173-dc0f7bb59459\",\"type\":\"ResetTool\"},{\"id\":\"0327fa1e-c648-4890-936e-5d815dcf463f\",\"type\":\"HelpTool\"}]},\"id\":\"ff26fd80-5ead-49da-94ce-ed2aad47f1b3\",\"type\":\"Toolbar\"},{\"attributes\":{\"label\":{\"value\":\"CRD\"},\"renderers\":[{\"id\":\"d3b25d4a-3bdb-45a7-a240-26b8875f3714\",\"type\":\"GlyphRenderer\"},{\"id\":\"d5341ec5-6f71-45f8-b309-f17701e68eb8\",\"type\":\"GlyphRenderer\"}]},\"id\":\"11713af9-618c-4362-899d-3e7c6a674dc8\",\"type\":\"LegendItem\"},{\"attributes\":{\"data_source\":{\"id\":\"a6d86176-5bee-407f-bcc5-bb2b6d865a37\",\"type\":\"ColumnDataSource\"},\"glyph\":{\"id\":\"d62db7f0-01ed-44f3-87b0-aa0d8bff96b7\",\"type\":\"Circle\"},\"hover_glyph\":null,\"muted_glyph\":null,\"nonselection_glyph\":{\"id\":\"0130e117-c3f4-4783-84c1-8ea7957184ea\",\"type\":\"Circle\"},\"selection_glyph\":null,\"view\":{\"id\":\"081230b2-8dbd-4b1e-834e-85b91a14df72\",\"type\":\"CDSView\"}},\"id\":\"1a4fe769-447d-4f34-9456-0c9528387c63\",\"type\":\"GlyphRenderer\"},{\"attributes\":{\"fill_alpha\":{\"value\":0.7},\"fill_color\":{\"value\":\"#4daf4a\"},\"line_alpha\":{\"value\":0.7},\"line_color\":{\"value\":\"#4daf4a\"},\"x\":{\"field\":\"x\"},\"y\":{\"field\":\"y\"}},\"id\":\"7aaeb20f-fe71-4e19-b34a-9ea8c41dbf7b\",\"type\":\"Circle\"},{\"attributes\":{},\"id\":\"52f462bb-f782-4329-922a-437629ea1388\",\"type\":\"Selection\"},{\"attributes\":{\"label\":{\"value\":\"CLIRAD (single-run)\"},\"renderers\":[{\"id\":\"0f2774a1-dea9-4bcf-9de1-2ab58184db65\",\"type\":\"GlyphRenderer\"}]},\"id\":\"2c7ab216-3f65-4511-b364-06c9556f953d\",\"type\":\"LegendItem\"},{\"attributes\":{\"line_alpha\":0.1,\"line_color\":\"#1f77b4\",\"line_dash\":[6],\"line_width\":5,\"x\":{\"field\":\"x\"},\"y\":{\"field\":\"y\"}},\"id\":\"706de4e9-3853-40de-bbb2-41efde01db5c\",\"type\":\"Line\"},{\"attributes\":{\"fill_alpha\":{\"value\":0.1},\"fill_color\":{\"value\":\"#1f77b4\"},\"line_alpha\":{\"value\":0.1},\"line_color\":{\"value\":\"#1f77b4\"},\"x\":{\"field\":\"x\"},\"y\":{\"field\":\"y\"}},\"id\":\"0130e117-c3f4-4783-84c1-8ea7957184ea\",\"type\":\"Circle\"},{\"attributes\":{\"source\":{\"id\":\"bad85bbc-ceb3-43a0-9b0a-14b68fa75f98\",\"type\":\"ColumnDataSource\"}},\"id\":\"a897c1e0-934f-4f01-89b9-0c6e4d5b764e\",\"type\":\"CDSView\"}],\"root_ids\":[\"a141f12c-838d-4583-aeea-b7c6efafb236\"]},\"title\":\"Bokeh Application\",\"version\":\"0.12.16\"}};\n",
       "  var render_items = [{\"docid\":\"28bb5f94-7231-4570-b5e9-2fb139651f1b\",\"elementid\":\"0e45b480-0828-4af2-8813-b1736e0e2879\",\"modelid\":\"a141f12c-838d-4583-aeea-b7c6efafb236\"}];\n",
       "  root.Bokeh.embed.embed_items_notebook(docs_json, render_items);\n",
       "\n",
       "  }\n",
       "  if (root.Bokeh !== undefined) {\n",
       "    embed_document(root);\n",
       "  } else {\n",
       "    var attempts = 0;\n",
       "    var timer = setInterval(function(root) {\n",
       "      if (root.Bokeh !== undefined) {\n",
       "        embed_document(root);\n",
       "        clearInterval(timer);\n",
       "      }\n",
       "      attempts++;\n",
       "      if (attempts > 100) {\n",
       "        console.log(\"Bokeh: ERROR: Unable to run BokehJS code because BokehJS library is missing\")\n",
       "        clearInterval(timer);\n",
       "      }\n",
       "    }, 10, root)\n",
       "  }\n",
       "})(window);"
      ],
      "application/vnd.bokehjs_exec.v0+json": ""
     },
     "metadata": {
      "application/vnd.bokehjs_exec.v0+json": {
       "id": "a141f12c-838d-4583-aeea-b7c6efafb236"
      }
     },
     "output_type": "display_data"
    },
    {
     "data": {
      "text/markdown": [
       "*FIGURE.* Cooling rates & difference."
      ],
      "text/plain": [
       "<IPython.core.display.Markdown object>"
      ]
     },
     "metadata": {},
     "output_type": "display_data"
    },
    {
     "data": {
      "text/html": [
       "<a id=\"Fluxes._trp.\"></a>"
      ],
      "text/plain": [
       "<IPython.core.display.HTML object>"
      ]
     },
     "metadata": {},
     "output_type": "display_data"
    },
    {
     "data": {
      "text/markdown": [
       "# Fluxes. trp."
      ],
      "text/plain": [
       "<IPython.core.display.Markdown object>"
      ]
     },
     "metadata": {},
     "output_type": "display_data"
    },
    {
     "data": {
      "text/html": [
       "\n",
       "<div class=\"bk-root\">\n",
       "    <div class=\"bk-plotdiv\" id=\"6b13b1a6-b86e-42e3-b6e9-d175ef00fed4\"></div>\n",
       "</div>"
      ]
     },
     "metadata": {},
     "output_type": "display_data"
    },
    {
     "data": {
      "application/javascript": [
       "(function(root) {\n",
       "  function embed_document(root) {\n",
       "    \n",
       "  var docs_json = {\"f18ccc61-8246-4bc7-a0d4-e2e9a500a774\":{\"roots\":{\"references\":[{\"attributes\":{},\"id\":\"ee25deaa-15ba-4d0c-a226-f7e243d29a92\",\"type\":\"UnionRenderers\"},{\"attributes\":{},\"id\":\"3135dea2-17dc-424e-a6ff-f67e215cf045\",\"type\":\"WheelZoomTool\"},{\"attributes\":{\"plot\":{\"id\":\"c2b08031-f7e8-4c1f-9269-8a6b8ece095c\",\"subtype\":\"Figure\",\"type\":\"Plot\"},\"ticker\":{\"id\":\"2b4757ad-648a-46a5-80dc-22e942995740\",\"type\":\"CategoricalTicker\"}},\"id\":\"9e8c51ac-d888-4251-abc4-7443b54b137a\",\"type\":\"Grid\"},{\"attributes\":{},\"id\":\"169177b2-216e-4c6f-948f-7a1f46630aa2\",\"type\":\"BasicTickFormatter\"},{\"attributes\":{\"dimension\":1,\"plot\":{\"id\":\"0395080e-42cc-462c-9601-8aa347b918cd\",\"subtype\":\"Figure\",\"type\":\"Plot\"},\"ticker\":{\"id\":\"2a6c09fd-74aa-4599-be3a-3f45e168c459\",\"type\":\"BasicTicker\"}},\"id\":\"446c6d81-20fb-4250-b5eb-524ae446f1d0\",\"type\":\"Grid\"},{\"attributes\":{},\"id\":\"1a3c25d2-f23e-4464-ab15-97dc76f49aec\",\"type\":\"UnionRenderers\"},{\"attributes\":{\"toolbar\":{\"id\":\"de9b90bd-ce16-463e-8528-926e63115e99\",\"type\":\"ProxyToolbar\"},\"toolbar_location\":\"above\"},\"id\":\"c41b4115-b130-460e-8928-c707a60c4301\",\"type\":\"ToolbarBox\"},{\"attributes\":{\"axis_label\":\"spectral band\",\"formatter\":{\"id\":\"31575c29-3a02-42cb-9e9a-11a10d6bd7cd\",\"type\":\"CategoricalTickFormatter\"},\"plot\":{\"id\":\"c2b08031-f7e8-4c1f-9269-8a6b8ece095c\",\"subtype\":\"Figure\",\"type\":\"Plot\"},\"ticker\":{\"id\":\"2b4757ad-648a-46a5-80dc-22e942995740\",\"type\":\"CategoricalTicker\"}},\"id\":\"5ac50d74-1509-479a-bc34-3d49af59229a\",\"type\":\"CategoricalAxis\"},{\"attributes\":{\"callback\":null,\"data\":{\"band\":[\"1\",\"2\",\"3\",\"4\",\"5\",\"6\",\"7\",\"8\",\"9\",\"10\",\"11\"],\"flux\":{\"__ndarray__\":\"AADADkbs874Ak+S5vg/QPwANMzSeCMq/ABTRr62frj8g5Xyx92LjP8AUrHE2Hd0/wGqGrwovsj8g4+sh0M/RP0Churn429E/AFDtmpDWiD9AH8vMFlqxPw==\",\"dtype\":\"float64\",\"shape\":[11]}},\"selected\":{\"id\":\"6ddc5bda-ac3d-4ede-9bf5-e740745ed9b6\",\"type\":\"Selection\"},\"selection_policy\":{\"id\":\"fc76b3bb-360c-4890-b2d3-11f67d1171ba\",\"type\":\"UnionRenderers\"}},\"id\":\"32ef7d0b-8b15-4deb-86bc-e45725a7f8c3\",\"type\":\"ColumnDataSource\"},{\"attributes\":{\"overlay\":{\"id\":\"b74ab2a6-e98d-4c4f-a9a3-b05985029065\",\"type\":\"BoxAnnotation\"}},\"id\":\"acd236bc-7a2b-4532-9f86-54b3e4e26a5f\",\"type\":\"BoxZoomTool\"},{\"attributes\":{},\"id\":\"a70738da-7a86-4d1c-ab23-c7106c9a60b7\",\"type\":\"BasicTickFormatter\"},{\"attributes\":{\"data_source\":{\"id\":\"63e6a504-18ce-425c-a779-1c9b1c52cafa\",\"type\":\"ColumnDataSource\"},\"glyph\":{\"id\":\"2f01e064-c176-4da1-b483-b060c27e10c3\",\"type\":\"VBar\"},\"hover_glyph\":null,\"muted_glyph\":null,\"nonselection_glyph\":{\"id\":\"f9aff291-6ce2-43da-b449-e5536c98189f\",\"type\":\"VBar\"},\"selection_glyph\":null,\"view\":{\"id\":\"234451cb-4260-4839-b097-ed5a4f545759\",\"type\":\"CDSView\"}},\"id\":\"360a5426-1d5b-4ecb-889e-a20c6af18506\",\"type\":\"GlyphRenderer\"},{\"attributes\":{},\"id\":\"eeed8994-73c8-4788-9172-fd16a49409b1\",\"type\":\"SaveTool\"},{\"attributes\":{\"callback\":null},\"id\":\"0d9b0576-1b73-46c9-ba50-b42e5fe902f6\",\"type\":\"DataRange1d\"},{\"attributes\":{\"overlay\":{\"id\":\"674e463f-2359-4952-838e-27d02f96dbe9\",\"type\":\"BoxAnnotation\"}},\"id\":\"cbae4257-2519-48be-8603-8b735f7add02\",\"type\":\"BoxZoomTool\"},{\"attributes\":{\"source\":{\"id\":\"32ef7d0b-8b15-4deb-86bc-e45725a7f8c3\",\"type\":\"ColumnDataSource\"}},\"id\":\"695f9ee3-10e3-46ae-b493-d4665484038e\",\"type\":\"CDSView\"},{\"attributes\":{},\"id\":\"762da88f-92b7-4837-b1ff-2706bde991f6\",\"type\":\"Selection\"},{\"attributes\":{},\"id\":\"26f01a67-f94e-441d-8d3c-829f4b34840d\",\"type\":\"PanTool\"},{\"attributes\":{},\"id\":\"51646c3d-0bfd-43a8-94f6-2689894f99c1\",\"type\":\"HelpTool\"},{\"attributes\":{},\"id\":\"4d9fff15-127d-4173-8000-3f978d1786d3\",\"type\":\"LinearScale\"},{\"attributes\":{\"tools\":[{\"id\":\"aa21dd72-5224-4af3-9905-5432ecdd495a\",\"type\":\"PanTool\"},{\"id\":\"b245ff55-03e4-434e-8522-06b88dab81a2\",\"type\":\"WheelZoomTool\"},{\"id\":\"8f793862-dbea-4136-bcc4-45a42074bc5f\",\"type\":\"BoxZoomTool\"},{\"id\":\"1df2bbe5-a6f4-4dc6-9d1a-7ef298f91dc6\",\"type\":\"SaveTool\"},{\"id\":\"dcd3e7eb-acf0-4712-9f29-00d9f642ae1c\",\"type\":\"ResetTool\"},{\"id\":\"ab243eb8-6a38-41f8-ae2b-92930ffbe960\",\"type\":\"HelpTool\"},{\"id\":\"26f01a67-f94e-441d-8d3c-829f4b34840d\",\"type\":\"PanTool\"},{\"id\":\"63047ace-1b57-4c54-9d10-9abe13fbfe5f\",\"type\":\"WheelZoomTool\"},{\"id\":\"cbae4257-2519-48be-8603-8b735f7add02\",\"type\":\"BoxZoomTool\"},{\"id\":\"5c093a2e-c326-4b97-a917-0a9d73b4c636\",\"type\":\"SaveTool\"},{\"id\":\"0f691ed0-c4ce-4243-889e-98111ffab6c1\",\"type\":\"ResetTool\"},{\"id\":\"20a3aee3-3d75-407d-9500-6777f2c75fe9\",\"type\":\"HelpTool\"},{\"id\":\"e7e401c5-bed0-4b5c-b754-fcf87da7849a\",\"type\":\"PanTool\"},{\"id\":\"3135dea2-17dc-424e-a6ff-f67e215cf045\",\"type\":\"WheelZoomTool\"},{\"id\":\"acd236bc-7a2b-4532-9f86-54b3e4e26a5f\",\"type\":\"BoxZoomTool\"},{\"id\":\"eeed8994-73c8-4788-9172-fd16a49409b1\",\"type\":\"SaveTool\"},{\"id\":\"7d7301b9-a2d4-4467-b64b-e377ea7cf665\",\"type\":\"ResetTool\"},{\"id\":\"51646c3d-0bfd-43a8-94f6-2689894f99c1\",\"type\":\"HelpTool\"}]},\"id\":\"de9b90bd-ce16-463e-8528-926e63115e99\",\"type\":\"ProxyToolbar\"},{\"attributes\":{\"children\":[{\"id\":\"c41b4115-b130-460e-8928-c707a60c4301\",\"type\":\"ToolbarBox\"},{\"id\":\"08b9ae87-b0ca-4ef6-bf9d-8c89c826dbe0\",\"type\":\"Column\"}]},\"id\":\"e6e3cc1e-c84e-47f7-8a90-26f3612db901\",\"type\":\"Column\"},{\"attributes\":{\"plot\":null,\"text\":\"TOA flux. CLIRAD (single-run) - CRD.\"},\"id\":\"8635f50d-7d2d-40d3-8377-7cfe5163f59d\",\"type\":\"Title\"},{\"attributes\":{},\"id\":\"2b4757ad-648a-46a5-80dc-22e942995740\",\"type\":\"CategoricalTicker\"},{\"attributes\":{},\"id\":\"63047ace-1b57-4c54-9d10-9abe13fbfe5f\",\"type\":\"WheelZoomTool\"},{\"attributes\":{},\"id\":\"7d7301b9-a2d4-4467-b64b-e377ea7cf665\",\"type\":\"ResetTool\"},{\"attributes\":{\"below\":[{\"id\":\"5ac50d74-1509-479a-bc34-3d49af59229a\",\"type\":\"CategoricalAxis\"}],\"left\":[{\"id\":\"39fb4e4b-bb94-4a1a-84a0-3f8f5f8f151d\",\"type\":\"LinearAxis\"}],\"plot_height\":300,\"plot_width\":300,\"renderers\":[{\"id\":\"5ac50d74-1509-479a-bc34-3d49af59229a\",\"type\":\"CategoricalAxis\"},{\"id\":\"9e8c51ac-d888-4251-abc4-7443b54b137a\",\"type\":\"Grid\"},{\"id\":\"39fb4e4b-bb94-4a1a-84a0-3f8f5f8f151d\",\"type\":\"LinearAxis\"},{\"id\":\"b38d6659-54a8-451e-8da8-805402357f91\",\"type\":\"Grid\"},{\"id\":\"5e50cfda-92e4-4f9d-afe0-bf81e858eca1\",\"type\":\"BoxAnnotation\"},{\"id\":\"3ac1889d-aa4d-4c9b-b350-0c7290be9797\",\"type\":\"GlyphRenderer\"}],\"title\":{\"id\":\"8635f50d-7d2d-40d3-8377-7cfe5163f59d\",\"type\":\"Title\"},\"toolbar\":{\"id\":\"a3f20357-c458-47ec-bd4a-559728adf660\",\"type\":\"Toolbar\"},\"toolbar_location\":null,\"x_range\":{\"id\":\"a4318909-4b85-4c88-9a00-8f1693d40fb5\",\"type\":\"FactorRange\"},\"x_scale\":{\"id\":\"d7d72e6a-3a3c-4e42-9372-9a2948444014\",\"type\":\"CategoricalScale\"},\"y_range\":{\"id\":\"0d9b0576-1b73-46c9-ba50-b42e5fe902f6\",\"type\":\"DataRange1d\"},\"y_scale\":{\"id\":\"4d9fff15-127d-4173-8000-3f978d1786d3\",\"type\":\"LinearScale\"}},\"id\":\"c2b08031-f7e8-4c1f-9269-8a6b8ece095c\",\"subtype\":\"Figure\",\"type\":\"Plot\"},{\"attributes\":{\"plot\":{\"id\":\"0395080e-42cc-462c-9601-8aa347b918cd\",\"subtype\":\"Figure\",\"type\":\"Plot\"},\"ticker\":{\"id\":\"c2ab2687-d4a3-429e-b271-70020a13ee6e\",\"type\":\"CategoricalTicker\"}},\"id\":\"a3e09cca-1647-4350-8ac7-176448a07cca\",\"type\":\"Grid\"},{\"attributes\":{\"callback\":null,\"factors\":[\"1\",\"2\",\"3\",\"4\",\"5\",\"6\",\"7\",\"8\",\"9\",\"10\",\"11\"]},\"id\":\"a4318909-4b85-4c88-9a00-8f1693d40fb5\",\"type\":\"FactorRange\"},{\"attributes\":{},\"id\":\"31575c29-3a02-42cb-9e9a-11a10d6bd7cd\",\"type\":\"CategoricalTickFormatter\"},{\"attributes\":{\"bottom_units\":\"screen\",\"fill_alpha\":{\"value\":0.5},\"fill_color\":{\"value\":\"lightgrey\"},\"left_units\":\"screen\",\"level\":\"overlay\",\"line_alpha\":{\"value\":1.0},\"line_color\":{\"value\":\"black\"},\"line_dash\":[4,4],\"line_width\":{\"value\":2},\"plot\":null,\"render_mode\":\"css\",\"right_units\":\"screen\",\"top_units\":\"screen\"},\"id\":\"b74ab2a6-e98d-4c4f-a9a3-b05985029065\",\"type\":\"BoxAnnotation\"},{\"attributes\":{},\"id\":\"d7d72e6a-3a3c-4e42-9372-9a2948444014\",\"type\":\"CategoricalScale\"},{\"attributes\":{},\"id\":\"eff72b12-923a-42ca-b0bc-167bf7909825\",\"type\":\"BasicTickFormatter\"},{\"attributes\":{},\"id\":\"e7e401c5-bed0-4b5c-b754-fcf87da7849a\",\"type\":\"PanTool\"},{\"attributes\":{},\"id\":\"4f00eab4-966c-4621-8f23-dbfcf138b861\",\"type\":\"CategoricalTickFormatter\"},{\"attributes\":{\"source\":{\"id\":\"63e6a504-18ce-425c-a779-1c9b1c52cafa\",\"type\":\"ColumnDataSource\"}},\"id\":\"234451cb-4260-4839-b097-ed5a4f545759\",\"type\":\"CDSView\"},{\"attributes\":{},\"id\":\"2a4fd9ec-cf00-453b-ada1-dc54cf2c0040\",\"type\":\"Selection\"},{\"attributes\":{},\"id\":\"0f691ed0-c4ce-4243-889e-98111ffab6c1\",\"type\":\"ResetTool\"},{\"attributes\":{\"axis_label\":\"flux (W m-2)\",\"formatter\":{\"id\":\"169177b2-216e-4c6f-948f-7a1f46630aa2\",\"type\":\"BasicTickFormatter\"},\"plot\":{\"id\":\"c2b08031-f7e8-4c1f-9269-8a6b8ece095c\",\"subtype\":\"Figure\",\"type\":\"Plot\"},\"ticker\":{\"id\":\"a1861944-cd44-466c-87ee-dbf3b452b57f\",\"type\":\"BasicTicker\"}},\"id\":\"39fb4e4b-bb94-4a1a-84a0-3f8f5f8f151d\",\"type\":\"LinearAxis\"},{\"attributes\":{\"callback\":null},\"id\":\"e8183a07-25b6-4986-ab31-9041c2b4e9bc\",\"type\":\"DataRange1d\"},{\"attributes\":{\"data_source\":{\"id\":\"32ef7d0b-8b15-4deb-86bc-e45725a7f8c3\",\"type\":\"ColumnDataSource\"},\"glyph\":{\"id\":\"2a1e67c0-f70e-46c7-a805-f87f852494d4\",\"type\":\"VBar\"},\"hover_glyph\":null,\"muted_glyph\":null,\"nonselection_glyph\":{\"id\":\"e219ca3a-c4c2-4d1f-aaa5-ab138c3bcc36\",\"type\":\"VBar\"},\"selection_glyph\":null,\"view\":{\"id\":\"695f9ee3-10e3-46ae-b493-d4665484038e\",\"type\":\"CDSView\"}},\"id\":\"b05c83ef-d519-4505-8f20-d268d53d4a12\",\"type\":\"GlyphRenderer\"},{\"attributes\":{\"plot\":{\"id\":\"5ff64299-57ca-474c-a573-3ec4450f5b48\",\"subtype\":\"Figure\",\"type\":\"Plot\"},\"ticker\":{\"id\":\"9d797fca-3444-4ca6-90b6-8d474716d675\",\"type\":\"CategoricalTicker\"}},\"id\":\"2c19742f-a0e7-4e87-bf37-ed628dda4a0e\",\"type\":\"Grid\"},{\"attributes\":{\"fill_alpha\":{\"value\":0.1},\"fill_color\":{\"value\":\"#1f77b4\"},\"line_alpha\":{\"value\":0.1},\"line_color\":{\"value\":\"#1f77b4\"},\"top\":{\"field\":\"flux\"},\"width\":{\"value\":0.9},\"x\":{\"field\":\"band\"}},\"id\":\"f9aff291-6ce2-43da-b449-e5536c98189f\",\"type\":\"VBar\"},{\"attributes\":{\"fill_color\":{\"value\":\"#1f77b4\"},\"line_color\":{\"value\":\"#1f77b4\"},\"top\":{\"field\":\"flux\"},\"width\":{\"value\":0.9},\"x\":{\"field\":\"band\"}},\"id\":\"2f01e064-c176-4da1-b483-b060c27e10c3\",\"type\":\"VBar\"},{\"attributes\":{\"callback\":null,\"data\":{\"band\":[\"1\",\"2\",\"3\",\"4\",\"5\",\"6\",\"7\",\"8\",\"9\",\"10\",\"11\"],\"flux\":{\"__ndarray__\":\"AFB2r2r7yj8AtBBHyz+yPwD3EENhBrm/wNV8jQsE4D/AGtmVlpHSv4DRqpZ0lN+/gII3pFGBxT8ABFWjVwOkv6D51RwgGNC/QC7gp6JfwD/gGfRK/sy9Pw==\",\"dtype\":\"float64\",\"shape\":[11]}},\"selected\":{\"id\":\"762da88f-92b7-4837-b1ff-2706bde991f6\",\"type\":\"Selection\"},\"selection_policy\":{\"id\":\"ee25deaa-15ba-4d0c-a226-f7e243d29a92\",\"type\":\"UnionRenderers\"}},\"id\":\"63e6a504-18ce-425c-a779-1c9b1c52cafa\",\"type\":\"ColumnDataSource\"},{\"attributes\":{\"overlay\":{\"id\":\"5e50cfda-92e4-4f9d-afe0-bf81e858eca1\",\"type\":\"BoxAnnotation\"}},\"id\":\"8f793862-dbea-4136-bcc4-45a42074bc5f\",\"type\":\"BoxZoomTool\"},{\"attributes\":{\"children\":[{\"id\":\"c2b08031-f7e8-4c1f-9269-8a6b8ece095c\",\"subtype\":\"Figure\",\"type\":\"Plot\"},{\"id\":\"0395080e-42cc-462c-9601-8aa347b918cd\",\"subtype\":\"Figure\",\"type\":\"Plot\"},{\"id\":\"5ff64299-57ca-474c-a573-3ec4450f5b48\",\"subtype\":\"Figure\",\"type\":\"Plot\"}]},\"id\":\"2d9ee35a-9e15-4f89-a78f-66f6eda0453f\",\"type\":\"Row\"},{\"attributes\":{\"plot\":null,\"text\":\"SFC flux. CLIRAD (single-run) - CRD.\"},\"id\":\"53d25df6-753e-424a-83bd-14be98919cd9\",\"type\":\"Title\"},{\"attributes\":{},\"id\":\"a1861944-cd44-466c-87ee-dbf3b452b57f\",\"type\":\"BasicTicker\"},{\"attributes\":{},\"id\":\"4c57aebd-5b96-462e-882b-0e2ee8cc4403\",\"type\":\"CategoricalTickFormatter\"},{\"attributes\":{},\"id\":\"ab243eb8-6a38-41f8-ae2b-92930ffbe960\",\"type\":\"HelpTool\"},{\"attributes\":{\"active_drag\":\"auto\",\"active_inspect\":\"auto\",\"active_scroll\":\"auto\",\"active_tap\":\"auto\",\"tools\":[{\"id\":\"aa21dd72-5224-4af3-9905-5432ecdd495a\",\"type\":\"PanTool\"},{\"id\":\"b245ff55-03e4-434e-8522-06b88dab81a2\",\"type\":\"WheelZoomTool\"},{\"id\":\"8f793862-dbea-4136-bcc4-45a42074bc5f\",\"type\":\"BoxZoomTool\"},{\"id\":\"1df2bbe5-a6f4-4dc6-9d1a-7ef298f91dc6\",\"type\":\"SaveTool\"},{\"id\":\"dcd3e7eb-acf0-4712-9f29-00d9f642ae1c\",\"type\":\"ResetTool\"},{\"id\":\"ab243eb8-6a38-41f8-ae2b-92930ffbe960\",\"type\":\"HelpTool\"}]},\"id\":\"a3f20357-c458-47ec-bd4a-559728adf660\",\"type\":\"Toolbar\"},{\"attributes\":{\"data_source\":{\"id\":\"b4abf7a4-8c7a-4244-932c-3019e5935aef\",\"type\":\"ColumnDataSource\"},\"glyph\":{\"id\":\"ca873717-0260-4fae-98f5-0e95ae82f078\",\"type\":\"VBar\"},\"hover_glyph\":null,\"muted_glyph\":null,\"nonselection_glyph\":{\"id\":\"9588c9c2-62e5-4c67-825d-b37cdc9bbd42\",\"type\":\"VBar\"},\"selection_glyph\":null,\"view\":{\"id\":\"4b6271bf-a381-4629-bbf8-cba7871ab089\",\"type\":\"CDSView\"}},\"id\":\"3ac1889d-aa4d-4c9b-b350-0c7290be9797\",\"type\":\"GlyphRenderer\"},{\"attributes\":{},\"id\":\"20a3aee3-3d75-407d-9500-6777f2c75fe9\",\"type\":\"HelpTool\"},{\"attributes\":{\"callback\":null,\"data\":{\"band\":[\"1\",\"2\",\"3\",\"4\",\"5\",\"6\",\"7\",\"8\",\"9\",\"10\",\"11\"],\"flux\":{\"__ndarray__\":\"AJJCWfj6yj+AQ1VMpZ/UP0BNZVHYRdO/UGMJa2Ps4T8ADykGSDTUPwDo9SfxuaO/AMo329yYzj+AW7G/7J7OPwDC9pMxPpw/4IZphCPtwT9AYfXsXpPHPw==\",\"dtype\":\"float64\",\"shape\":[11]}},\"selected\":{\"id\":\"2a4fd9ec-cf00-453b-ada1-dc54cf2c0040\",\"type\":\"Selection\"},\"selection_policy\":{\"id\":\"1a3c25d2-f23e-4464-ab15-97dc76f49aec\",\"type\":\"UnionRenderers\"}},\"id\":\"b4abf7a4-8c7a-4244-932c-3019e5935aef\",\"type\":\"ColumnDataSource\"},{\"attributes\":{},\"id\":\"b245ff55-03e4-434e-8522-06b88dab81a2\",\"type\":\"WheelZoomTool\"},{\"attributes\":{\"active_drag\":\"auto\",\"active_inspect\":\"auto\",\"active_scroll\":\"auto\",\"active_tap\":\"auto\",\"tools\":[{\"id\":\"e7e401c5-bed0-4b5c-b754-fcf87da7849a\",\"type\":\"PanTool\"},{\"id\":\"3135dea2-17dc-424e-a6ff-f67e215cf045\",\"type\":\"WheelZoomTool\"},{\"id\":\"acd236bc-7a2b-4532-9f86-54b3e4e26a5f\",\"type\":\"BoxZoomTool\"},{\"id\":\"eeed8994-73c8-4788-9172-fd16a49409b1\",\"type\":\"SaveTool\"},{\"id\":\"7d7301b9-a2d4-4467-b64b-e377ea7cf665\",\"type\":\"ResetTool\"},{\"id\":\"51646c3d-0bfd-43a8-94f6-2689894f99c1\",\"type\":\"HelpTool\"}]},\"id\":\"729f9437-460b-40cf-81e5-791ff9c8192f\",\"type\":\"Toolbar\"},{\"attributes\":{},\"id\":\"2a6c09fd-74aa-4599-be3a-3f45e168c459\",\"type\":\"BasicTicker\"},{\"attributes\":{},\"id\":\"c2ab2687-d4a3-429e-b271-70020a13ee6e\",\"type\":\"CategoricalTicker\"},{\"attributes\":{\"axis_label\":\"spectral band\",\"formatter\":{\"id\":\"4f00eab4-966c-4621-8f23-dbfcf138b861\",\"type\":\"CategoricalTickFormatter\"},\"plot\":{\"id\":\"0395080e-42cc-462c-9601-8aa347b918cd\",\"subtype\":\"Figure\",\"type\":\"Plot\"},\"ticker\":{\"id\":\"c2ab2687-d4a3-429e-b271-70020a13ee6e\",\"type\":\"CategoricalTicker\"}},\"id\":\"230f0002-5721-493b-b80f-5a23b5ed7755\",\"type\":\"CategoricalAxis\"},{\"attributes\":{\"fill_color\":{\"value\":\"#1f77b4\"},\"line_color\":{\"value\":\"#1f77b4\"},\"top\":{\"field\":\"flux\"},\"width\":{\"value\":0.9},\"x\":{\"field\":\"band\"}},\"id\":\"ca873717-0260-4fae-98f5-0e95ae82f078\",\"type\":\"VBar\"},{\"attributes\":{},\"id\":\"c6376ae8-a1e2-4b6a-af6e-02e237732556\",\"type\":\"LinearScale\"},{\"attributes\":{\"axis_label\":\"flux (W m-2)\",\"formatter\":{\"id\":\"eff72b12-923a-42ca-b0bc-167bf7909825\",\"type\":\"BasicTickFormatter\"},\"plot\":{\"id\":\"5ff64299-57ca-474c-a573-3ec4450f5b48\",\"subtype\":\"Figure\",\"type\":\"Plot\"},\"ticker\":{\"id\":\"1a3735da-d7a4-4879-b6a3-abc6eaa49ef0\",\"type\":\"BasicTicker\"}},\"id\":\"94348af9-c16e-42a3-9fbb-4cc2e1ac054a\",\"type\":\"LinearAxis\"},{\"attributes\":{},\"id\":\"aa21dd72-5224-4af3-9905-5432ecdd495a\",\"type\":\"PanTool\"},{\"attributes\":{\"axis_label\":\"spectral band\",\"formatter\":{\"id\":\"4c57aebd-5b96-462e-882b-0e2ee8cc4403\",\"type\":\"CategoricalTickFormatter\"},\"plot\":{\"id\":\"5ff64299-57ca-474c-a573-3ec4450f5b48\",\"subtype\":\"Figure\",\"type\":\"Plot\"},\"ticker\":{\"id\":\"9d797fca-3444-4ca6-90b6-8d474716d675\",\"type\":\"CategoricalTicker\"}},\"id\":\"7bf770b4-4e0a-46b0-9b89-d23219a19c02\",\"type\":\"CategoricalAxis\"},{\"attributes\":{\"fill_alpha\":{\"value\":0.1},\"fill_color\":{\"value\":\"#1f77b4\"},\"line_alpha\":{\"value\":0.1},\"line_color\":{\"value\":\"#1f77b4\"},\"top\":{\"field\":\"flux\"},\"width\":{\"value\":0.9},\"x\":{\"field\":\"band\"}},\"id\":\"e219ca3a-c4c2-4d1f-aaa5-ab138c3bcc36\",\"type\":\"VBar\"},{\"attributes\":{\"source\":{\"id\":\"b4abf7a4-8c7a-4244-932c-3019e5935aef\",\"type\":\"ColumnDataSource\"}},\"id\":\"4b6271bf-a381-4629-bbf8-cba7871ab089\",\"type\":\"CDSView\"},{\"attributes\":{},\"id\":\"1a3735da-d7a4-4879-b6a3-abc6eaa49ef0\",\"type\":\"BasicTicker\"},{\"attributes\":{\"callback\":null,\"factors\":[\"1\",\"2\",\"3\",\"4\",\"5\",\"6\",\"7\",\"8\",\"9\",\"10\",\"11\"]},\"id\":\"5a2425bd-a112-4d54-a4aa-49756eefeaa9\",\"type\":\"FactorRange\"},{\"attributes\":{\"plot\":null,\"text\":\"Atmosphere heating. CLIRAD (single-run) - CRD.\"},\"id\":\"2152ca67-1e0a-424e-b342-e4c9e332ceef\",\"type\":\"Title\"},{\"attributes\":{},\"id\":\"dd0c05b8-1b4c-47bc-be7f-bce2eece0a3e\",\"type\":\"CategoricalScale\"},{\"attributes\":{\"callback\":null,\"factors\":[\"1\",\"2\",\"3\",\"4\",\"5\",\"6\",\"7\",\"8\",\"9\",\"10\",\"11\"]},\"id\":\"50eb5b5e-ca65-45c5-8557-6126efb420de\",\"type\":\"FactorRange\"},{\"attributes\":{},\"id\":\"30cc1c7c-765c-4c88-9096-9f9eec3a3d94\",\"type\":\"LinearScale\"},{\"attributes\":{\"callback\":null},\"id\":\"fc8b7006-500b-445e-9430-440c0ffa612f\",\"type\":\"DataRange1d\"},{\"attributes\":{\"below\":[{\"id\":\"230f0002-5721-493b-b80f-5a23b5ed7755\",\"type\":\"CategoricalAxis\"}],\"left\":[{\"id\":\"6e1a4310-81e2-4b4a-976f-17303f9aac41\",\"type\":\"LinearAxis\"}],\"plot_height\":300,\"plot_width\":300,\"renderers\":[{\"id\":\"230f0002-5721-493b-b80f-5a23b5ed7755\",\"type\":\"CategoricalAxis\"},{\"id\":\"a3e09cca-1647-4350-8ac7-176448a07cca\",\"type\":\"Grid\"},{\"id\":\"6e1a4310-81e2-4b4a-976f-17303f9aac41\",\"type\":\"LinearAxis\"},{\"id\":\"446c6d81-20fb-4250-b5eb-524ae446f1d0\",\"type\":\"Grid\"},{\"id\":\"674e463f-2359-4952-838e-27d02f96dbe9\",\"type\":\"BoxAnnotation\"},{\"id\":\"b05c83ef-d519-4505-8f20-d268d53d4a12\",\"type\":\"GlyphRenderer\"}],\"title\":{\"id\":\"53d25df6-753e-424a-83bd-14be98919cd9\",\"type\":\"Title\"},\"toolbar\":{\"id\":\"1d43487b-ed09-40e5-9039-fcb2c56387f4\",\"type\":\"Toolbar\"},\"toolbar_location\":null,\"x_range\":{\"id\":\"50eb5b5e-ca65-45c5-8557-6126efb420de\",\"type\":\"FactorRange\"},\"x_scale\":{\"id\":\"dd0c05b8-1b4c-47bc-be7f-bce2eece0a3e\",\"type\":\"CategoricalScale\"},\"y_range\":{\"id\":\"e8183a07-25b6-4986-ab31-9041c2b4e9bc\",\"type\":\"DataRange1d\"},\"y_scale\":{\"id\":\"c6376ae8-a1e2-4b6a-af6e-02e237732556\",\"type\":\"LinearScale\"}},\"id\":\"0395080e-42cc-462c-9601-8aa347b918cd\",\"subtype\":\"Figure\",\"type\":\"Plot\"},{\"attributes\":{\"bottom_units\":\"screen\",\"fill_alpha\":{\"value\":0.5},\"fill_color\":{\"value\":\"lightgrey\"},\"left_units\":\"screen\",\"level\":\"overlay\",\"line_alpha\":{\"value\":1.0},\"line_color\":{\"value\":\"black\"},\"line_dash\":[4,4],\"line_width\":{\"value\":2},\"plot\":null,\"render_mode\":\"css\",\"right_units\":\"screen\",\"top_units\":\"screen\"},\"id\":\"674e463f-2359-4952-838e-27d02f96dbe9\",\"type\":\"BoxAnnotation\"},{\"attributes\":{\"fill_alpha\":{\"value\":0.1},\"fill_color\":{\"value\":\"#1f77b4\"},\"line_alpha\":{\"value\":0.1},\"line_color\":{\"value\":\"#1f77b4\"},\"top\":{\"field\":\"flux\"},\"width\":{\"value\":0.9},\"x\":{\"field\":\"band\"}},\"id\":\"9588c9c2-62e5-4c67-825d-b37cdc9bbd42\",\"type\":\"VBar\"},{\"attributes\":{},\"id\":\"1df2bbe5-a6f4-4dc6-9d1a-7ef298f91dc6\",\"type\":\"SaveTool\"},{\"attributes\":{\"bottom_units\":\"screen\",\"fill_alpha\":{\"value\":0.5},\"fill_color\":{\"value\":\"lightgrey\"},\"left_units\":\"screen\",\"level\":\"overlay\",\"line_alpha\":{\"value\":1.0},\"line_color\":{\"value\":\"black\"},\"line_dash\":[4,4],\"line_width\":{\"value\":2},\"plot\":null,\"render_mode\":\"css\",\"right_units\":\"screen\",\"top_units\":\"screen\"},\"id\":\"5e50cfda-92e4-4f9d-afe0-bf81e858eca1\",\"type\":\"BoxAnnotation\"},{\"attributes\":{\"dimension\":1,\"plot\":{\"id\":\"c2b08031-f7e8-4c1f-9269-8a6b8ece095c\",\"subtype\":\"Figure\",\"type\":\"Plot\"},\"ticker\":{\"id\":\"a1861944-cd44-466c-87ee-dbf3b452b57f\",\"type\":\"BasicTicker\"}},\"id\":\"b38d6659-54a8-451e-8da8-805402357f91\",\"type\":\"Grid\"},{\"attributes\":{},\"id\":\"fc76b3bb-360c-4890-b2d3-11f67d1171ba\",\"type\":\"UnionRenderers\"},{\"attributes\":{\"below\":[{\"id\":\"7bf770b4-4e0a-46b0-9b89-d23219a19c02\",\"type\":\"CategoricalAxis\"}],\"left\":[{\"id\":\"94348af9-c16e-42a3-9fbb-4cc2e1ac054a\",\"type\":\"LinearAxis\"}],\"plot_height\":300,\"plot_width\":300,\"renderers\":[{\"id\":\"7bf770b4-4e0a-46b0-9b89-d23219a19c02\",\"type\":\"CategoricalAxis\"},{\"id\":\"2c19742f-a0e7-4e87-bf37-ed628dda4a0e\",\"type\":\"Grid\"},{\"id\":\"94348af9-c16e-42a3-9fbb-4cc2e1ac054a\",\"type\":\"LinearAxis\"},{\"id\":\"56888b27-4315-433b-acbe-6834dc19e282\",\"type\":\"Grid\"},{\"id\":\"b74ab2a6-e98d-4c4f-a9a3-b05985029065\",\"type\":\"BoxAnnotation\"},{\"id\":\"360a5426-1d5b-4ecb-889e-a20c6af18506\",\"type\":\"GlyphRenderer\"}],\"title\":{\"id\":\"2152ca67-1e0a-424e-b342-e4c9e332ceef\",\"type\":\"Title\"},\"toolbar\":{\"id\":\"729f9437-460b-40cf-81e5-791ff9c8192f\",\"type\":\"Toolbar\"},\"toolbar_location\":null,\"x_range\":{\"id\":\"5a2425bd-a112-4d54-a4aa-49756eefeaa9\",\"type\":\"FactorRange\"},\"x_scale\":{\"id\":\"1df7eb44-6592-4be6-b082-1efaf964c5db\",\"type\":\"CategoricalScale\"},\"y_range\":{\"id\":\"fc8b7006-500b-445e-9430-440c0ffa612f\",\"type\":\"DataRange1d\"},\"y_scale\":{\"id\":\"30cc1c7c-765c-4c88-9096-9f9eec3a3d94\",\"type\":\"LinearScale\"}},\"id\":\"5ff64299-57ca-474c-a573-3ec4450f5b48\",\"subtype\":\"Figure\",\"type\":\"Plot\"},{\"attributes\":{\"children\":[{\"id\":\"2d9ee35a-9e15-4f89-a78f-66f6eda0453f\",\"type\":\"Row\"}]},\"id\":\"08b9ae87-b0ca-4ef6-bf9d-8c89c826dbe0\",\"type\":\"Column\"},{\"attributes\":{\"dimension\":1,\"plot\":{\"id\":\"5ff64299-57ca-474c-a573-3ec4450f5b48\",\"subtype\":\"Figure\",\"type\":\"Plot\"},\"ticker\":{\"id\":\"1a3735da-d7a4-4879-b6a3-abc6eaa49ef0\",\"type\":\"BasicTicker\"}},\"id\":\"56888b27-4315-433b-acbe-6834dc19e282\",\"type\":\"Grid\"},{\"attributes\":{},\"id\":\"dcd3e7eb-acf0-4712-9f29-00d9f642ae1c\",\"type\":\"ResetTool\"},{\"attributes\":{\"active_drag\":\"auto\",\"active_inspect\":\"auto\",\"active_scroll\":\"auto\",\"active_tap\":\"auto\",\"tools\":[{\"id\":\"26f01a67-f94e-441d-8d3c-829f4b34840d\",\"type\":\"PanTool\"},{\"id\":\"63047ace-1b57-4c54-9d10-9abe13fbfe5f\",\"type\":\"WheelZoomTool\"},{\"id\":\"cbae4257-2519-48be-8603-8b735f7add02\",\"type\":\"BoxZoomTool\"},{\"id\":\"5c093a2e-c326-4b97-a917-0a9d73b4c636\",\"type\":\"SaveTool\"},{\"id\":\"0f691ed0-c4ce-4243-889e-98111ffab6c1\",\"type\":\"ResetTool\"},{\"id\":\"20a3aee3-3d75-407d-9500-6777f2c75fe9\",\"type\":\"HelpTool\"}]},\"id\":\"1d43487b-ed09-40e5-9039-fcb2c56387f4\",\"type\":\"Toolbar\"},{\"attributes\":{\"fill_color\":{\"value\":\"#1f77b4\"},\"line_color\":{\"value\":\"#1f77b4\"},\"top\":{\"field\":\"flux\"},\"width\":{\"value\":0.9},\"x\":{\"field\":\"band\"}},\"id\":\"2a1e67c0-f70e-46c7-a805-f87f852494d4\",\"type\":\"VBar\"},{\"attributes\":{},\"id\":\"5c093a2e-c326-4b97-a917-0a9d73b4c636\",\"type\":\"SaveTool\"},{\"attributes\":{\"axis_label\":\"flux (W m-2)\",\"formatter\":{\"id\":\"a70738da-7a86-4d1c-ab23-c7106c9a60b7\",\"type\":\"BasicTickFormatter\"},\"plot\":{\"id\":\"0395080e-42cc-462c-9601-8aa347b918cd\",\"subtype\":\"Figure\",\"type\":\"Plot\"},\"ticker\":{\"id\":\"2a6c09fd-74aa-4599-be3a-3f45e168c459\",\"type\":\"BasicTicker\"}},\"id\":\"6e1a4310-81e2-4b4a-976f-17303f9aac41\",\"type\":\"LinearAxis\"},{\"attributes\":{},\"id\":\"6ddc5bda-ac3d-4ede-9bf5-e740745ed9b6\",\"type\":\"Selection\"},{\"attributes\":{},\"id\":\"1df7eb44-6592-4be6-b082-1efaf964c5db\",\"type\":\"CategoricalScale\"},{\"attributes\":{},\"id\":\"9d797fca-3444-4ca6-90b6-8d474716d675\",\"type\":\"CategoricalTicker\"}],\"root_ids\":[\"e6e3cc1e-c84e-47f7-8a90-26f3612db901\"]},\"title\":\"Bokeh Application\",\"version\":\"0.12.16\"}};\n",
       "  var render_items = [{\"docid\":\"f18ccc61-8246-4bc7-a0d4-e2e9a500a774\",\"elementid\":\"6b13b1a6-b86e-42e3-b6e9-d175ef00fed4\",\"modelid\":\"e6e3cc1e-c84e-47f7-8a90-26f3612db901\"}];\n",
       "  root.Bokeh.embed.embed_items_notebook(docs_json, render_items);\n",
       "\n",
       "  }\n",
       "  if (root.Bokeh !== undefined) {\n",
       "    embed_document(root);\n",
       "  } else {\n",
       "    var attempts = 0;\n",
       "    var timer = setInterval(function(root) {\n",
       "      if (root.Bokeh !== undefined) {\n",
       "        embed_document(root);\n",
       "        clearInterval(timer);\n",
       "      }\n",
       "      attempts++;\n",
       "      if (attempts > 100) {\n",
       "        console.log(\"Bokeh: ERROR: Unable to run BokehJS code because BokehJS library is missing\")\n",
       "        clearInterval(timer);\n",
       "      }\n",
       "    }, 10, root)\n",
       "  }\n",
       "})(window);"
      ],
      "application/vnd.bokehjs_exec.v0+json": ""
     },
     "metadata": {
      "application/vnd.bokehjs_exec.v0+json": {
       "id": "e6e3cc1e-c84e-47f7-8a90-26f3612db901"
      }
     },
     "output_type": "display_data"
    },
    {
     "data": {
      "text/markdown": [
       "*FIGURE.* Difference between CLIRAD and CRD in TOA, SFC and net atmosphere flux, in each spectral band."
      ],
      "text/plain": [
       "<IPython.core.display.Markdown object>"
      ]
     },
     "metadata": {},
     "output_type": "display_data"
    },
    {
     "data": {
      "text/html": [
       "<div>\n",
       "<style scoped>\n",
       "    .dataframe tbody tr th:only-of-type {\n",
       "        vertical-align: middle;\n",
       "    }\n",
       "\n",
       "    .dataframe tbody tr th {\n",
       "        vertical-align: top;\n",
       "    }\n",
       "\n",
       "    .dataframe thead th {\n",
       "        text-align: right;\n",
       "    }\n",
       "</style>\n",
       "<table border=\"1\" class=\"dataframe\">\n",
       "  <thead>\n",
       "    <tr style=\"text-align: right;\">\n",
       "      <th></th>\n",
       "      <th>OLR flux</th>\n",
       "      <th>SFC flux</th>\n",
       "      <th>ATM heating</th>\n",
       "    </tr>\n",
       "    <tr>\n",
       "      <th>Sum over bands</th>\n",
       "      <th></th>\n",
       "      <th></th>\n",
       "      <th></th>\n",
       "    </tr>\n",
       "  </thead>\n",
       "  <tbody>\n",
       "    <tr>\n",
       "      <th>CLIRAD (single-run) - CRD</th>\n",
       "      <td>1.9</td>\n",
       "      <td>1.88</td>\n",
       "      <td>0.02</td>\n",
       "    </tr>\n",
       "    <tr>\n",
       "      <th>CRD</th>\n",
       "      <td>-303.4</td>\n",
       "      <td>337.24</td>\n",
       "      <td>-181.37</td>\n",
       "    </tr>\n",
       "  </tbody>\n",
       "</table>\n",
       "</div>"
      ],
      "text/plain": [
       "                           OLR flux  SFC flux  ATM heating\n",
       "Sum over bands                                            \n",
       "CLIRAD (single-run) - CRD       1.9      1.88         0.02\n",
       "CRD                          -303.4    337.24      -181.37"
      ]
     },
     "metadata": {},
     "output_type": "display_data"
    },
    {
     "data": {
      "text/markdown": [
       "*TABLE.* Difference between CLIRAD and CRD in TOA, SFC and net atmosphere flux, over all spectral bands. CRD's TOA, SFC and net atmosphere flux, over all spectral bands."
      ],
      "text/plain": [
       "<IPython.core.display.Markdown object>"
      ]
     },
     "metadata": {},
     "output_type": "display_data"
    }
   ],
   "source": [
    "def show_html(s):\n",
    "    display.display(display.HTML(s))\n",
    "\n",
    "    \n",
    "def show_markdown(s):\n",
    "    display.display(display.Markdown(s))\n",
    "\n",
    "\n",
    "def script():\n",
    "    \n",
    "    d_atm = {'mls': 'mid-latitude summer',\n",
    "             'saw': 'sub-arctic winter',\n",
    "             'trp': 'tropical'}\n",
    "    \n",
    "    title = ('## Results over entire range of molecules'\n",
    "             ' and spectral bands')\n",
    "    \n",
    "    s_makeup = 'Makeup of atmosphere.'\n",
    "    s_atmpro = '# {}'\n",
    "    s_cool = 'Cooling rates. {}.'\n",
    "    s_flux = 'Fluxes. {}.'\n",
    "    \n",
    "    atmpros = ['mls', 'saw', 'trp']\n",
    "    \n",
    "    # TOC\n",
    "    show_markdown(title)\n",
    "    show_markdown('### Table of Contents')\n",
    "    show_html(climahtml.getHTML_hrefanchor(s_makeup))\n",
    "    for atmpro in atmpros:\n",
    "        show_markdown('**' + d_atm[atmpro] + '**')\n",
    "        show_html(climahtml.getHTML_hrefanchor(s_cool.format(atmpro)))\n",
    "        show_html(climahtml.getHTML_hrefanchor(s_flux.format(atmpro)))\n",
    "\n",
    "        \n",
    "    # Atmosphere makeup\n",
    "    show_html(climahtml.getHTML_idanchor(s_makeup))\n",
    "    show_markdown(climahtml.getMarkdown_sectitle(s_makeup))\n",
    "    show_makeup()\n",
    "        \n",
    "    for atmpro in atmpros:\n",
    "        show_html(climahtml.getHTML_idanchor(s_cool.format(atmpro)))\n",
    "        show_markdown(\n",
    "            climahtml.getMarkdown_sectitle(s_cool.format(atmpro)))\n",
    "        show_cool(atmpro=atmpro)\n",
    "        show_html(climahtml.getHTML_idanchor(s_flux.format(atmpro)))\n",
    "        show_markdown(\n",
    "            climahtml.getMarkdown_sectitle(s_flux.format(atmpro)))\n",
    "        show_hist_flux(atmpro=atmpro)\n",
    "        show_tb_flux(atmpro=atmpro)\n",
    "    \n",
    "    \n",
    "script()  "
   ]
  },
  {
   "cell_type": "code",
   "execution_count": null,
   "metadata": {
    "collapsed": true
   },
   "outputs": [],
   "source": []
  },
  {
   "cell_type": "code",
   "execution_count": 78,
   "metadata": {},
   "outputs": [
    {
     "data": {
      "text/html": [
       "<script>\n",
       "code_show=true; \n",
       "function code_toggle() {\n",
       " if (code_show){\n",
       " $('div.input').hide();\n",
       " } else {\n",
       " $('div.input').show();\n",
       " }\n",
       " code_show = !code_show\n",
       "} \n",
       "$( document ).ready(code_toggle);\n",
       "</script>\n",
       "<form action=\"javascript:code_toggle()\"><input type=\"submit\" value=\"Click here to toggle on/off the raw code.\"></form>"
      ],
      "text/plain": [
       "<IPython.core.display.HTML object>"
      ]
     },
     "execution_count": 78,
     "metadata": {},
     "output_type": "execute_result"
    }
   ],
   "source": [
    "display.HTML('''<script>\n",
    "code_show=true; \n",
    "function code_toggle() {\n",
    " if (code_show){\n",
    " $('div.input').hide();\n",
    " } else {\n",
    " $('div.input').show();\n",
    " }\n",
    " code_show = !code_show\n",
    "} \n",
    "$( document ).ready(code_toggle);\n",
    "</script>\n",
    "<form action=\"javascript:code_toggle()\"><input type=\"submit\" value=\"Click here to toggle on/off the raw code.\"></form>''')"
   ]
  },
  {
   "cell_type": "code",
   "execution_count": null,
   "metadata": {
    "collapsed": true
   },
   "outputs": [],
   "source": []
  }
 ],
 "metadata": {
  "kernelspec": {
   "display_name": "Python 3",
   "language": "python",
   "name": "python3"
  },
  "language_info": {
   "codemirror_mode": {
    "name": "ipython",
    "version": 3
   },
   "file_extension": ".py",
   "mimetype": "text/x-python",
   "name": "python",
   "nbconvert_exporter": "python",
   "pygments_lexer": "ipython3",
   "version": "3.6.1"
  }
 },
 "nbformat": 4,
 "nbformat_minor": 2
}
