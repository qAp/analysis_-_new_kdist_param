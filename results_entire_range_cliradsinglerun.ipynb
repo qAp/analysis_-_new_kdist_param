{
 "cells": [
  {
   "cell_type": "code",
   "execution_count": 1017,
   "metadata": {
    "collapsed": true
   },
   "outputs": [],
   "source": [
    "import os\n",
    "import ast\n",
    "import json\n",
    "import importlib \n",
    "import itertools\n",
    "import collections\n",
    "import pprint\n",
    "\n",
    "from bokeh.io import output_notebook, show\n",
    "from bokeh.layouts import gridplot\n",
    "from bokeh.plotting import figure\n",
    "from bokeh.models import Range1d, Legend, ColumnDataSource, FactorRange\n",
    "from bokeh.palettes import all_palettes\n",
    "from bokeh.transform import factor_cmap\n",
    "\n",
    "import matplotlib\n",
    "import matplotlib.pyplot as plt\n",
    "import numpy as np\n",
    "import pandas as pd\n",
    "import xarray as xr\n",
    "\n",
    "\n",
    "import climatools.lblnew.bestfit_params as bestfits\n",
    "from climatools.lblnew import setup_bestfit, setup_overlap\n",
    "import climatools.lblnew.pipeline as pipe_lblnew\n",
    "import climatools.cliradlw.setup as setup_cliradlw\n",
    "import climatools.cliradlw.pipeline as pipe_cliradlw\n",
    "\n",
    "import climatools.html.html as climahtml\n",
    "from climatools.lblnew.dataio import *\n",
    "from climatools.plot.plot import *\n",
    "\n",
    "\n",
    "from IPython import display\n",
    "\n",
    "#importlib.reload(bestfits)\n",
    "#importlib.reload(setup_bestfit)\n",
    "#importlib.reload(setup_overlap)\n",
    "#importlib.reload(pipe_lblnew)\n",
    "#importlib.reload(setup_cliradlw)\n",
    "#importlib.reload(pipe_cliradlw)"
   ]
  },
  {
   "cell_type": "code",
   "execution_count": 1018,
   "metadata": {
    "scrolled": true
   },
   "outputs": [
    {
     "data": {
      "text/html": [
       "\n",
       "    <div class=\"bk-root\">\n",
       "        <a href=\"https://bokeh.pydata.org\" target=\"_blank\" class=\"bk-logo bk-logo-small bk-logo-notebook\"></a>\n",
       "        <span id=\"c2c530bf-ce96-4387-bf4b-8c4a076da4c6\">Loading BokehJS ...</span>\n",
       "    </div>"
      ]
     },
     "metadata": {},
     "output_type": "display_data"
    },
    {
     "data": {
      "application/javascript": [
       "\n",
       "(function(root) {\n",
       "  function now() {\n",
       "    return new Date();\n",
       "  }\n",
       "\n",
       "  var force = true;\n",
       "\n",
       "  if (typeof (root._bokeh_onload_callbacks) === \"undefined\" || force === true) {\n",
       "    root._bokeh_onload_callbacks = [];\n",
       "    root._bokeh_is_loading = undefined;\n",
       "  }\n",
       "\n",
       "  var JS_MIME_TYPE = 'application/javascript';\n",
       "  var HTML_MIME_TYPE = 'text/html';\n",
       "  var EXEC_MIME_TYPE = 'application/vnd.bokehjs_exec.v0+json';\n",
       "  var CLASS_NAME = 'output_bokeh rendered_html';\n",
       "\n",
       "  /**\n",
       "   * Render data to the DOM node\n",
       "   */\n",
       "  function render(props, node) {\n",
       "    var script = document.createElement(\"script\");\n",
       "    node.appendChild(script);\n",
       "  }\n",
       "\n",
       "  /**\n",
       "   * Handle when an output is cleared or removed\n",
       "   */\n",
       "  function handleClearOutput(event, handle) {\n",
       "    var cell = handle.cell;\n",
       "\n",
       "    var id = cell.output_area._bokeh_element_id;\n",
       "    var server_id = cell.output_area._bokeh_server_id;\n",
       "    // Clean up Bokeh references\n",
       "    if (id !== undefined) {\n",
       "      Bokeh.index[id].model.document.clear();\n",
       "      delete Bokeh.index[id];\n",
       "    }\n",
       "\n",
       "    if (server_id !== undefined) {\n",
       "      // Clean up Bokeh references\n",
       "      var cmd = \"from bokeh.io.state import curstate; print(curstate().uuid_to_server['\" + server_id + \"'].get_sessions()[0].document.roots[0]._id)\";\n",
       "      cell.notebook.kernel.execute(cmd, {\n",
       "        iopub: {\n",
       "          output: function(msg) {\n",
       "            var element_id = msg.content.text.trim();\n",
       "            Bokeh.index[element_id].model.document.clear();\n",
       "            delete Bokeh.index[element_id];\n",
       "          }\n",
       "        }\n",
       "      });\n",
       "      // Destroy server and session\n",
       "      var cmd = \"import bokeh.io.notebook as ion; ion.destroy_server('\" + server_id + \"')\";\n",
       "      cell.notebook.kernel.execute(cmd);\n",
       "    }\n",
       "  }\n",
       "\n",
       "  /**\n",
       "   * Handle when a new output is added\n",
       "   */\n",
       "  function handleAddOutput(event, handle) {\n",
       "    var output_area = handle.output_area;\n",
       "    var output = handle.output;\n",
       "\n",
       "    // limit handleAddOutput to display_data with EXEC_MIME_TYPE content only\n",
       "    if ((output.output_type != \"display_data\") || (!output.data.hasOwnProperty(EXEC_MIME_TYPE))) {\n",
       "      return\n",
       "    }\n",
       "\n",
       "    var toinsert = output_area.element.find(\".\" + CLASS_NAME.split(' ')[0]);\n",
       "\n",
       "    if (output.metadata[EXEC_MIME_TYPE][\"id\"] !== undefined) {\n",
       "      toinsert[toinsert.length - 1].firstChild.textContent = output.data[JS_MIME_TYPE];\n",
       "      // store reference to embed id on output_area\n",
       "      output_area._bokeh_element_id = output.metadata[EXEC_MIME_TYPE][\"id\"];\n",
       "    }\n",
       "    if (output.metadata[EXEC_MIME_TYPE][\"server_id\"] !== undefined) {\n",
       "      var bk_div = document.createElement(\"div\");\n",
       "      bk_div.innerHTML = output.data[HTML_MIME_TYPE];\n",
       "      var script_attrs = bk_div.children[0].attributes;\n",
       "      for (var i = 0; i < script_attrs.length; i++) {\n",
       "        toinsert[toinsert.length - 1].firstChild.setAttribute(script_attrs[i].name, script_attrs[i].value);\n",
       "      }\n",
       "      // store reference to server id on output_area\n",
       "      output_area._bokeh_server_id = output.metadata[EXEC_MIME_TYPE][\"server_id\"];\n",
       "    }\n",
       "  }\n",
       "\n",
       "  function register_renderer(events, OutputArea) {\n",
       "\n",
       "    function append_mime(data, metadata, element) {\n",
       "      // create a DOM node to render to\n",
       "      var toinsert = this.create_output_subarea(\n",
       "        metadata,\n",
       "        CLASS_NAME,\n",
       "        EXEC_MIME_TYPE\n",
       "      );\n",
       "      this.keyboard_manager.register_events(toinsert);\n",
       "      // Render to node\n",
       "      var props = {data: data, metadata: metadata[EXEC_MIME_TYPE]};\n",
       "      render(props, toinsert[toinsert.length - 1]);\n",
       "      element.append(toinsert);\n",
       "      return toinsert\n",
       "    }\n",
       "\n",
       "    /* Handle when an output is cleared or removed */\n",
       "    events.on('clear_output.CodeCell', handleClearOutput);\n",
       "    events.on('delete.Cell', handleClearOutput);\n",
       "\n",
       "    /* Handle when a new output is added */\n",
       "    events.on('output_added.OutputArea', handleAddOutput);\n",
       "\n",
       "    /**\n",
       "     * Register the mime type and append_mime function with output_area\n",
       "     */\n",
       "    OutputArea.prototype.register_mime_type(EXEC_MIME_TYPE, append_mime, {\n",
       "      /* Is output safe? */\n",
       "      safe: true,\n",
       "      /* Index of renderer in `output_area.display_order` */\n",
       "      index: 0\n",
       "    });\n",
       "  }\n",
       "\n",
       "  // register the mime type if in Jupyter Notebook environment and previously unregistered\n",
       "  if (root.Jupyter !== undefined) {\n",
       "    var events = require('base/js/events');\n",
       "    var OutputArea = require('notebook/js/outputarea').OutputArea;\n",
       "\n",
       "    if (OutputArea.prototype.mime_types().indexOf(EXEC_MIME_TYPE) == -1) {\n",
       "      register_renderer(events, OutputArea);\n",
       "    }\n",
       "  }\n",
       "\n",
       "  \n",
       "  if (typeof (root._bokeh_timeout) === \"undefined\" || force === true) {\n",
       "    root._bokeh_timeout = Date.now() + 5000;\n",
       "    root._bokeh_failed_load = false;\n",
       "  }\n",
       "\n",
       "  var NB_LOAD_WARNING = {'data': {'text/html':\n",
       "     \"<div style='background-color: #fdd'>\\n\"+\n",
       "     \"<p>\\n\"+\n",
       "     \"BokehJS does not appear to have successfully loaded. If loading BokehJS from CDN, this \\n\"+\n",
       "     \"may be due to a slow or bad network connection. Possible fixes:\\n\"+\n",
       "     \"</p>\\n\"+\n",
       "     \"<ul>\\n\"+\n",
       "     \"<li>re-rerun `output_notebook()` to attempt to load from CDN again, or</li>\\n\"+\n",
       "     \"<li>use INLINE resources instead, as so:</li>\\n\"+\n",
       "     \"</ul>\\n\"+\n",
       "     \"<code>\\n\"+\n",
       "     \"from bokeh.resources import INLINE\\n\"+\n",
       "     \"output_notebook(resources=INLINE)\\n\"+\n",
       "     \"</code>\\n\"+\n",
       "     \"</div>\"}};\n",
       "\n",
       "  function display_loaded() {\n",
       "    var el = document.getElementById(\"c2c530bf-ce96-4387-bf4b-8c4a076da4c6\");\n",
       "    if (el != null) {\n",
       "      el.textContent = \"BokehJS is loading...\";\n",
       "    }\n",
       "    if (root.Bokeh !== undefined) {\n",
       "      if (el != null) {\n",
       "        el.textContent = \"BokehJS \" + root.Bokeh.version + \" successfully loaded.\";\n",
       "      }\n",
       "    } else if (Date.now() < root._bokeh_timeout) {\n",
       "      setTimeout(display_loaded, 100)\n",
       "    }\n",
       "  }\n",
       "\n",
       "\n",
       "  function run_callbacks() {\n",
       "    try {\n",
       "      root._bokeh_onload_callbacks.forEach(function(callback) { callback() });\n",
       "    }\n",
       "    finally {\n",
       "      delete root._bokeh_onload_callbacks\n",
       "    }\n",
       "    console.info(\"Bokeh: all callbacks have finished\");\n",
       "  }\n",
       "\n",
       "  function load_libs(js_urls, callback) {\n",
       "    root._bokeh_onload_callbacks.push(callback);\n",
       "    if (root._bokeh_is_loading > 0) {\n",
       "      console.log(\"Bokeh: BokehJS is being loaded, scheduling callback at\", now());\n",
       "      return null;\n",
       "    }\n",
       "    if (js_urls == null || js_urls.length === 0) {\n",
       "      run_callbacks();\n",
       "      return null;\n",
       "    }\n",
       "    console.log(\"Bokeh: BokehJS not loaded, scheduling load and callback at\", now());\n",
       "    root._bokeh_is_loading = js_urls.length;\n",
       "    for (var i = 0; i < js_urls.length; i++) {\n",
       "      var url = js_urls[i];\n",
       "      var s = document.createElement('script');\n",
       "      s.src = url;\n",
       "      s.async = false;\n",
       "      s.onreadystatechange = s.onload = function() {\n",
       "        root._bokeh_is_loading--;\n",
       "        if (root._bokeh_is_loading === 0) {\n",
       "          console.log(\"Bokeh: all BokehJS libraries loaded\");\n",
       "          run_callbacks()\n",
       "        }\n",
       "      };\n",
       "      s.onerror = function() {\n",
       "        console.warn(\"failed to load library \" + url);\n",
       "      };\n",
       "      console.log(\"Bokeh: injecting script tag for BokehJS library: \", url);\n",
       "      document.getElementsByTagName(\"head\")[0].appendChild(s);\n",
       "    }\n",
       "  };var element = document.getElementById(\"c2c530bf-ce96-4387-bf4b-8c4a076da4c6\");\n",
       "  if (element == null) {\n",
       "    console.log(\"Bokeh: ERROR: autoload.js configured with elementid 'c2c530bf-ce96-4387-bf4b-8c4a076da4c6' but no matching script tag was found. \")\n",
       "    return false;\n",
       "  }\n",
       "\n",
       "  var js_urls = [\"https://cdn.pydata.org/bokeh/release/bokeh-0.12.16.min.js\", \"https://cdn.pydata.org/bokeh/release/bokeh-widgets-0.12.16.min.js\", \"https://cdn.pydata.org/bokeh/release/bokeh-tables-0.12.16.min.js\", \"https://cdn.pydata.org/bokeh/release/bokeh-gl-0.12.16.min.js\"];\n",
       "\n",
       "  var inline_js = [\n",
       "    function(Bokeh) {\n",
       "      Bokeh.set_log_level(\"info\");\n",
       "    },\n",
       "    \n",
       "    function(Bokeh) {\n",
       "      \n",
       "    },\n",
       "    function(Bokeh) {\n",
       "      console.log(\"Bokeh: injecting CSS: https://cdn.pydata.org/bokeh/release/bokeh-0.12.16.min.css\");\n",
       "      Bokeh.embed.inject_css(\"https://cdn.pydata.org/bokeh/release/bokeh-0.12.16.min.css\");\n",
       "      console.log(\"Bokeh: injecting CSS: https://cdn.pydata.org/bokeh/release/bokeh-widgets-0.12.16.min.css\");\n",
       "      Bokeh.embed.inject_css(\"https://cdn.pydata.org/bokeh/release/bokeh-widgets-0.12.16.min.css\");\n",
       "      console.log(\"Bokeh: injecting CSS: https://cdn.pydata.org/bokeh/release/bokeh-tables-0.12.16.min.css\");\n",
       "      Bokeh.embed.inject_css(\"https://cdn.pydata.org/bokeh/release/bokeh-tables-0.12.16.min.css\");\n",
       "    }\n",
       "  ];\n",
       "\n",
       "  function run_inline_js() {\n",
       "    \n",
       "    if ((root.Bokeh !== undefined) || (force === true)) {\n",
       "      for (var i = 0; i < inline_js.length; i++) {\n",
       "        inline_js[i].call(root, root.Bokeh);\n",
       "      }if (force === true) {\n",
       "        display_loaded();\n",
       "      }} else if (Date.now() < root._bokeh_timeout) {\n",
       "      setTimeout(run_inline_js, 100);\n",
       "    } else if (!root._bokeh_failed_load) {\n",
       "      console.log(\"Bokeh: BokehJS failed to load within specified timeout.\");\n",
       "      root._bokeh_failed_load = true;\n",
       "    } else if (force !== true) {\n",
       "      var cell = $(document.getElementById(\"c2c530bf-ce96-4387-bf4b-8c4a076da4c6\")).parents('.cell').data().cell;\n",
       "      cell.output_area.append_execute_result(NB_LOAD_WARNING)\n",
       "    }\n",
       "\n",
       "  }\n",
       "\n",
       "  if (root._bokeh_is_loading === 0) {\n",
       "    console.log(\"Bokeh: BokehJS loaded, going straight to plotting\");\n",
       "    run_inline_js();\n",
       "  } else {\n",
       "    load_libs(js_urls, function() {\n",
       "      console.log(\"Bokeh: BokehJS plotting callback run at\", now());\n",
       "      run_inline_js();\n",
       "    });\n",
       "  }\n",
       "}(window));"
      ],
      "application/vnd.bokehjs_load.v0+json": "\n(function(root) {\n  function now() {\n    return new Date();\n  }\n\n  var force = true;\n\n  if (typeof (root._bokeh_onload_callbacks) === \"undefined\" || force === true) {\n    root._bokeh_onload_callbacks = [];\n    root._bokeh_is_loading = undefined;\n  }\n\n  \n\n  \n  if (typeof (root._bokeh_timeout) === \"undefined\" || force === true) {\n    root._bokeh_timeout = Date.now() + 5000;\n    root._bokeh_failed_load = false;\n  }\n\n  var NB_LOAD_WARNING = {'data': {'text/html':\n     \"<div style='background-color: #fdd'>\\n\"+\n     \"<p>\\n\"+\n     \"BokehJS does not appear to have successfully loaded. If loading BokehJS from CDN, this \\n\"+\n     \"may be due to a slow or bad network connection. Possible fixes:\\n\"+\n     \"</p>\\n\"+\n     \"<ul>\\n\"+\n     \"<li>re-rerun `output_notebook()` to attempt to load from CDN again, or</li>\\n\"+\n     \"<li>use INLINE resources instead, as so:</li>\\n\"+\n     \"</ul>\\n\"+\n     \"<code>\\n\"+\n     \"from bokeh.resources import INLINE\\n\"+\n     \"output_notebook(resources=INLINE)\\n\"+\n     \"</code>\\n\"+\n     \"</div>\"}};\n\n  function display_loaded() {\n    var el = document.getElementById(\"c2c530bf-ce96-4387-bf4b-8c4a076da4c6\");\n    if (el != null) {\n      el.textContent = \"BokehJS is loading...\";\n    }\n    if (root.Bokeh !== undefined) {\n      if (el != null) {\n        el.textContent = \"BokehJS \" + root.Bokeh.version + \" successfully loaded.\";\n      }\n    } else if (Date.now() < root._bokeh_timeout) {\n      setTimeout(display_loaded, 100)\n    }\n  }\n\n\n  function run_callbacks() {\n    try {\n      root._bokeh_onload_callbacks.forEach(function(callback) { callback() });\n    }\n    finally {\n      delete root._bokeh_onload_callbacks\n    }\n    console.info(\"Bokeh: all callbacks have finished\");\n  }\n\n  function load_libs(js_urls, callback) {\n    root._bokeh_onload_callbacks.push(callback);\n    if (root._bokeh_is_loading > 0) {\n      console.log(\"Bokeh: BokehJS is being loaded, scheduling callback at\", now());\n      return null;\n    }\n    if (js_urls == null || js_urls.length === 0) {\n      run_callbacks();\n      return null;\n    }\n    console.log(\"Bokeh: BokehJS not loaded, scheduling load and callback at\", now());\n    root._bokeh_is_loading = js_urls.length;\n    for (var i = 0; i < js_urls.length; i++) {\n      var url = js_urls[i];\n      var s = document.createElement('script');\n      s.src = url;\n      s.async = false;\n      s.onreadystatechange = s.onload = function() {\n        root._bokeh_is_loading--;\n        if (root._bokeh_is_loading === 0) {\n          console.log(\"Bokeh: all BokehJS libraries loaded\");\n          run_callbacks()\n        }\n      };\n      s.onerror = function() {\n        console.warn(\"failed to load library \" + url);\n      };\n      console.log(\"Bokeh: injecting script tag for BokehJS library: \", url);\n      document.getElementsByTagName(\"head\")[0].appendChild(s);\n    }\n  };var element = document.getElementById(\"c2c530bf-ce96-4387-bf4b-8c4a076da4c6\");\n  if (element == null) {\n    console.log(\"Bokeh: ERROR: autoload.js configured with elementid 'c2c530bf-ce96-4387-bf4b-8c4a076da4c6' but no matching script tag was found. \")\n    return false;\n  }\n\n  var js_urls = [\"https://cdn.pydata.org/bokeh/release/bokeh-0.12.16.min.js\", \"https://cdn.pydata.org/bokeh/release/bokeh-widgets-0.12.16.min.js\", \"https://cdn.pydata.org/bokeh/release/bokeh-tables-0.12.16.min.js\", \"https://cdn.pydata.org/bokeh/release/bokeh-gl-0.12.16.min.js\"];\n\n  var inline_js = [\n    function(Bokeh) {\n      Bokeh.set_log_level(\"info\");\n    },\n    \n    function(Bokeh) {\n      \n    },\n    function(Bokeh) {\n      console.log(\"Bokeh: injecting CSS: https://cdn.pydata.org/bokeh/release/bokeh-0.12.16.min.css\");\n      Bokeh.embed.inject_css(\"https://cdn.pydata.org/bokeh/release/bokeh-0.12.16.min.css\");\n      console.log(\"Bokeh: injecting CSS: https://cdn.pydata.org/bokeh/release/bokeh-widgets-0.12.16.min.css\");\n      Bokeh.embed.inject_css(\"https://cdn.pydata.org/bokeh/release/bokeh-widgets-0.12.16.min.css\");\n      console.log(\"Bokeh: injecting CSS: https://cdn.pydata.org/bokeh/release/bokeh-tables-0.12.16.min.css\");\n      Bokeh.embed.inject_css(\"https://cdn.pydata.org/bokeh/release/bokeh-tables-0.12.16.min.css\");\n    }\n  ];\n\n  function run_inline_js() {\n    \n    if ((root.Bokeh !== undefined) || (force === true)) {\n      for (var i = 0; i < inline_js.length; i++) {\n        inline_js[i].call(root, root.Bokeh);\n      }if (force === true) {\n        display_loaded();\n      }} else if (Date.now() < root._bokeh_timeout) {\n      setTimeout(run_inline_js, 100);\n    } else if (!root._bokeh_failed_load) {\n      console.log(\"Bokeh: BokehJS failed to load within specified timeout.\");\n      root._bokeh_failed_load = true;\n    } else if (force !== true) {\n      var cell = $(document.getElementById(\"c2c530bf-ce96-4387-bf4b-8c4a076da4c6\")).parents('.cell').data().cell;\n      cell.output_area.append_execute_result(NB_LOAD_WARNING)\n    }\n\n  }\n\n  if (root._bokeh_is_loading === 0) {\n    console.log(\"Bokeh: BokehJS loaded, going straight to plotting\");\n    run_inline_js();\n  } else {\n    load_libs(js_urls, function() {\n      console.log(\"Bokeh: BokehJS plotting callback run at\", now());\n      run_inline_js();\n    });\n  }\n}(window));"
     },
     "metadata": {},
     "output_type": "display_data"
    }
   ],
   "source": [
    "output_notebook()"
   ]
  },
  {
   "cell_type": "code",
   "execution_count": 1019,
   "metadata": {
    "collapsed": true
   },
   "outputs": [],
   "source": [
    "'''\n",
    "Get the clirad-lw and lblnew `param`s for all spectral bands.  \n",
    "These are returned by functions `clirad_params_atm` and\n",
    "`lblnew_params_atm`, respectively.\n",
    "'''\n",
    "\n",
    "def molecules_byband_atm():\n",
    "    return {1: {'h2o': 'atmpro'},\n",
    "            2: {'h2o': 'atmpro'}, \n",
    "            3: {'co2': 0.0004, 'h2o': 'atmpro', 'n2o': 3.2e-07},\n",
    "            4: {'co2': 0.0004, 'h2o': 'atmpro'},\n",
    "            5: {'co2': 0.0004, 'h2o': 'atmpro'},\n",
    "            6: {'co2': 0.0004, 'h2o': 'atmpro'},\n",
    "            7: {'co2': 0.0004, 'h2o': 'atmpro', 'o3': 'atmpro'},\n",
    "            8: {'h2o': 'atmpro'},\n",
    "            9: {'ch4': 1.8e-06, 'h2o': 'atmpro', 'n2o': 3.2e-07},\n",
    "            10: {'h2o': 'atmpro'},\n",
    "            11: {'co2': 0.0004, 'h2o': 'atmpro'}}\n",
    "\n",
    "\n",
    "def greyabsorbers_by_band_atm():\n",
    "    return {1: {'con': 'atmpro'},\n",
    "            2: {'con': 'atmpro'},\n",
    "            3: {'con': 'atmpro'},\n",
    "            4: {'con': 'atmpro'},\n",
    "            5: {'con': 'atmpro'},\n",
    "            6: {'con': 'atmpro'}, \n",
    "            7: {'con': 'atmpro'},\n",
    "            8: {'con': 'atmpro', 'n2o': 3.2e-7}, \n",
    "            9: {'con': 'atmpro'}, \n",
    "            10: None,\n",
    "            11: None}\n",
    "\n",
    "\n",
    "def clirad_params_atm(atmpro='mls'):\n",
    "    d = {}\n",
    "    for band, molecule in molecules_byband_atm().items():\n",
    "        for param in setup_cliradlw.test_cases():\n",
    "            if [band] == param['band'] and molecule == param['molecule']:\n",
    "                param['atmpro'] = atmpro\n",
    "                d[band] = param\n",
    "                break                \n",
    "    return d\n",
    "\n",
    "\n",
    "def clirad_params_atm_singlerun(atmpro='mls'):\n",
    "    '''\n",
    "    Returns param of clirad-lw run that is equivalent to the total\n",
    "    of all the runs listed in molecules_byband_atm().  In order\n",
    "    for the output to be compatible with clirad_data_atm(), it will\n",
    "    be a list.\n",
    "    '''\n",
    "    param0 = {'band': [1, 2, 3, 4, 5, 6, 7, 8, 9, 10, 11],\n",
    "              'commitnumber': '6d3074e',\n",
    "              'molecule': {'ch4': 1.8e-06,\n",
    "                           'co2': 0.0004,\n",
    "                           'h2o': 'atmpro',\n",
    "                           'n2o': 3.2e-07,\n",
    "                           'o3': 'atmpro'}}\n",
    "    \n",
    "    d_atmpros = {'mls': 294, 'saw': 257, 'trp': 300}\n",
    "    \n",
    "    param = param0.copy()\n",
    "    param['atmpro'] = atmpro\n",
    "    param['tsfc'] = d_atmpros[atmpro]\n",
    "    \n",
    "    d = {}\n",
    "    d['all'] = param\n",
    "    return d\n",
    "\n",
    "\n",
    "def analysis_dirs_atm(atmpro='mls'):\n",
    "    params = clirad_params_atm(atmpro=atmpro)\n",
    "    return {band: pipe_cliradlw.get_analysis_dir(param=param,\n",
    "                                                 setup=setup_cliradlw) \n",
    "            for band, param in params.items()}\n",
    "\n",
    "\n",
    "def lblnew_params_atm(atmpro='mls'):\n",
    "    dirs = analysis_dirs_atm(atmpro=atmpro)\n",
    "    \n",
    "    d = {}\n",
    "    for band, dirname in dirs.items():\n",
    "        with open(os.path.join(dirname, 'param.py'), \n",
    "                  mode='r', encoding='utf-8') as f:\n",
    "            _, l = f.readlines()\n",
    "        \n",
    "        s = l.split('=')[1].strip()\n",
    "        d[band] = ast.literal_eval(s)\n",
    "        \n",
    "    return d\n"
   ]
  },
  {
   "cell_type": "code",
   "execution_count": 1020,
   "metadata": {
    "collapsed": true
   },
   "outputs": [],
   "source": [
    "def db_getdir():\n",
    "    atmpro = 'mls'\n",
    "    params = clirad_params_atm_singlerun(atmpro=atmpro)\n",
    "    param = params['all']\n",
    "    \n",
    "    fdir = pipe_cliradlw.get_fortran_dir(param=param, \n",
    "                                         setup=setup_cliradlw)\n",
    "    return fdir\n",
    "\n",
    "\n",
    "def db_ktable():\n",
    "    fdir = db_getdir()    \n",
    "    fpath = os.path.join(fdir, 'ktable.dat')\n",
    "    \n",
    "    df = pd.read_csv(fpath, sep=r'\\s+')\n",
    "    df = df.set_index(['band', 'mid', 'il', 'it', 'g'])\n",
    "    ds = xr.Dataset.from_dataframe(df)\n",
    "    return ds\n",
    "\n",
    "\n",
    "def db_ng_dgs():\n",
    "    fdir = db_getdir()\n",
    "    fpath = os.path.join(fdir, 'ng_dgs.dat')\n",
    "    \n",
    "    df = pd.read_csv(fpath, sep=r'\\s+')\n",
    "    df = df.set_index(['band', 'mid', 'g'])\n",
    "    ds = xr.Dataset.from_dataframe(df)\n",
    "    return ds\n"
   ]
  },
  {
   "cell_type": "code",
   "execution_count": 1021,
   "metadata": {
    "collapsed": true
   },
   "outputs": [],
   "source": [
    "def show_makeup():\n",
    "    df = pd.DataFrame()\n",
    "\n",
    "    for band, molecule in molecules_byband_atm().items():\n",
    "        for name, conc in molecule.items():\n",
    "            df.loc[name, band] = str(conc)\n",
    "\n",
    "    df = df.fillna(0)\n",
    "    df.columns.name = 'clirad band'\n",
    "    df.index.name = 'molecule'\n",
    "    \n",
    "    display.display(df)\n",
    "    \n",
    "    display.display(\n",
    "        display.Markdown('*TABLE.* Non-grey absorbers in the atmosphere.'))\n",
    "\n",
    "\n",
    "def show_grey_makeup():\n",
    "    df = pd.DataFrame()\n",
    "    \n",
    "    for band, molecule in greyabsorbers_by_band_atm().items():\n",
    "        if molecule == None:\n",
    "            pass\n",
    "        else:\n",
    "            for name, conc in molecule.items():\n",
    "                df.loc[name, band] = str(conc)\n",
    "                \n",
    "    df = df.fillna(0)\n",
    "    df.columns.name = 'clirad band'\n",
    "    df.index.name = 'absorber'\n",
    "    \n",
    "    display.display(df)\n",
    "    display.display(\n",
    "        display.Markdown('*TABLE.* Grey absorbers in the atmosphere.')\n",
    "    )"
   ]
  },
  {
   "cell_type": "code",
   "execution_count": 1022,
   "metadata": {
    "collapsed": true
   },
   "outputs": [],
   "source": [
    "def load_output_file(path_csv):\n",
    "    '''\n",
    "    Load lblnew output .csv file to xarray.Dataset\n",
    "    \n",
    "    Parameters\n",
    "    ----------\n",
    "    path_csv: str\n",
    "              Path to the .csv file to be loaded.\n",
    "    ds: xarray.Dataset\n",
    "        Data in the input file in the form of an xarray.Dataset.\n",
    "    '''\n",
    "    toindex = ['band', 'pressure', 'igg', 'g']    \n",
    "    df = pd.read_csv(path_csv, sep=r'\\s+')\n",
    "    df = df.set_index([i for i in toindex if i in df.columns])\n",
    "    df = df.rename(columns={'sfu': 'flug',\n",
    "                            'sfd': 'fldg',\n",
    "                            'fnet': 'fnetg',\n",
    "                            'coolr': 'coolrg'})\n",
    "    ds = xr.Dataset.from_dataframe(df)\n",
    "\n",
    "    for l in ('level', 'layer'):\n",
    "        if l in ds.data_vars:\n",
    "            if len(ds[l].dims) > 1:\n",
    "                surface = {d: 0 for d in ds.dims if d != 'pressure'}\n",
    "                coord_level = ds[l][surface]\n",
    "                ds.coords[l] = ('pressure', coord_level)\n",
    "            else:\n",
    "                ds.coords[l] = ('pressure', ds[l])\n",
    "    \n",
    "    return ds"
   ]
  },
  {
   "cell_type": "code",
   "execution_count": 1023,
   "metadata": {
    "collapsed": true
   },
   "outputs": [],
   "source": [
    "def lblnew_setup(param=None):\n",
    "    if 'ng_refs' in param:\n",
    "        return {'setup': setup_bestfit,\n",
    "                'fname_flux_crd': 'output_flux.dat',\n",
    "                'fname_cool_crd': 'output_coolr.dat',\n",
    "                'fname_flux_wgt': 'output_wfluxg.dat',\n",
    "                'fname_cool_wgt': 'output_wcoolrg.dat'}\n",
    "    else:\n",
    "        return {'setup': setup_overlap,\n",
    "                'fname_flux_crd': 'output_flux.dat',\n",
    "                'fname_cool_crd': 'output_coolr.dat',\n",
    "                'fname_flux_wgt': 'output_wflux.dat',\n",
    "                'fname_cool_wgt': 'output_wcoolr.dat'}\n",
    "\n",
    "    \n",
    "def load_lblnew_data(param):\n",
    "    \n",
    "    fname_dsname = [('fname_flux_crd', 'ds_flux_crd'),\n",
    "                    ('fname_cool_crd', 'ds_cool_crd'),\n",
    "                    ('fname_flux_wgt', 'ds_flux_wgt'),\n",
    "                    ('fname_cool_wgt', 'ds_cool_wgt')]\n",
    "    \n",
    "    d = lblnew_setup(param)\n",
    "    dir_fortran = pipe_lblnew.get_dir_case(param, setup=d['setup'])\n",
    "    \n",
    "    data_dict = {}\n",
    "    for fname, dsname in fname_dsname:\n",
    "        fpath = os.path.join(dir_fortran, d[fname])\n",
    "        data_dict[dsname] = load_output_file(fpath)\n",
    "    return data_dict"
   ]
  },
  {
   "cell_type": "code",
   "execution_count": 1024,
   "metadata": {
    "collapsed": true
   },
   "outputs": [],
   "source": [
    "def crd_data_atm(params_atm):\n",
    "    '''\n",
    "    Parameters\n",
    "    ----------\n",
    "    \n",
    "    params_atm: dict\n",
    "                Parameter dictionary for each band.\n",
    "                \n",
    "    d: dict\n",
    "       'flux': xr.Dataset. [pressure, band]\n",
    "               Fluxes.\n",
    "       'cool': xr.Dataset. [pressure, band]\n",
    "               Cooling rate.\n",
    "    \n",
    "    '''\n",
    "    \n",
    "    results_atm = {band: load_lblnew_data(param) \n",
    "                   for band, param in params_atm.items()}\n",
    "    \n",
    "    bands = [band for band, _ in params_atm.items()]\n",
    "    fluxs = [d['ds_flux_crd'] for _, d in results_atm.items()]\n",
    "    cools = [d['ds_cool_crd'] for _, d in results_atm.items()]\n",
    "    \n",
    "    d = {}\n",
    "    d['flux'] = xr.concat(fluxs, dim=bands).rename({'concat_dim': 'band'})\n",
    "    d['cool'] = xr.concat(cools, dim=bands).rename({'concat_dim': 'band'})\n",
    "    return d        \n",
    "        \n",
    "        \n",
    "\n",
    "def clirad_data_atm(params_atm):\n",
    "    \n",
    "    dirnames = [pipe_cliradlw.get_fortran_dir(param,\n",
    "                                              setup=setup_cliradlw)\n",
    "                for _, param in params_atm.items()]\n",
    "    \n",
    "    fpaths_flux = [os.path.join(n, 'output_flux.dat') for n in dirnames]\n",
    "    fpaths_cool = [os.path.join(n, 'output_coolr.dat') for n in dirnames]\n",
    "    \n",
    "    fluxs = [load_output_file(p) for p in fpaths_flux]    \n",
    "    cools = [load_output_file(p) for p in fpaths_cool]\n",
    "    \n",
    "    d = {}\n",
    "    d['flux'] = sum(fluxs)\n",
    "    d['cool'] = sum(cools)\n",
    "    return d\n",
    "\n"
   ]
  },
  {
   "cell_type": "code",
   "execution_count": 1025,
   "metadata": {
    "collapsed": true
   },
   "outputs": [],
   "source": [
    "\n",
    "\n",
    "import rtmtools.clirad.sw.wrangle as cliradwrangle\n",
    "\n",
    "import importlib\n",
    "importlib.reload(cliradwrangle)\n",
    "\n",
    "def oldclirad_data_atm():\n",
    "    '''\n",
    "    Load the OLD clirad's results. mls only.\n",
    "    '''\n",
    "    fpath = os.path.join('/chia_cluster/home/jackyu/radiation',\n",
    "                         'clirad-lw',\n",
    "                         'LW',\n",
    "                         'examples',\n",
    "                         'mls75_h2o_atmpro_co2_.0004_o3_atmpro_n2o_3.2e-7_ch4_1.8e-6_H2012',\n",
    "                         'OUTPUT_CLIRAD.dat')\n",
    "    \n",
    "    ds = cliradwrangle.load_OUTPUT_CLIRAD(readfrom=fpath)\n",
    "    \n",
    "    ds_cool = xr.Dataset()\n",
    "    ds_cool.coords['pressure'] = ('pressure', ds['layer_pressure'])\n",
    "    ds_cool.coords['band'] = ('band', ds['spectral_band'])\n",
    "    ds_cool['coolrg'] = (('band', 'pressure'), - ds['heating_rate'])\n",
    "    \n",
    "    ds_flux = xr.Dataset()\n",
    "    ds_flux.coords['pressure'] = ('pressure', ds['level_pressure'])\n",
    "    ds_flux.coords['band'] = ('band', ds['spectral_band'])\n",
    "    ds_flux['flug'] = (('band', 'pressure'), ds['flux_up'])\n",
    "    ds_flux['fldg'] = (('band', 'pressure'), ds['flux_down'])\n",
    "    ds_flux['fnetg'] = (('band', 'pressure'), ds['net_flux'])\n",
    "    \n",
    "    \n",
    "    d = {}\n",
    "    d['cool'] = ds_cool\n",
    "    d['flux'] = ds_flux\n",
    "    return d\n"
   ]
  },
  {
   "cell_type": "code",
   "execution_count": 1026,
   "metadata": {
    "collapsed": true
   },
   "outputs": [],
   "source": [
    "def fmt_cool(ds_in):\n",
    "    ds = ds_in.copy(deep=True)\n",
    "    if 'igg' in ds.dims:\n",
    "        ds = ds.sel(igg=1)\n",
    "\n",
    "    if 'g' in ds.dims:\n",
    "        ds = ds.sum('g')\n",
    "            \n",
    "    if 'band' in ds.dims:\n",
    "        try:\n",
    "            ds = ds.squeeze('band')\n",
    "        except ValueError:\n",
    "            ds = ds.sum('band')\n",
    "                \n",
    "    return ds['coolrg']\n",
    "\n",
    "\n",
    "\n",
    "def nice_xlims(pltdata=None, prange=None):\n",
    "    \n",
    "    def get_slice(srs):\n",
    "        return srs.sel(pressure=slice(*prange))\n",
    "    \n",
    "    srss = [d['srs'] for d in pltdata]\n",
    "    vmin = min([get_slice(srs).min() for srs in srss])\n",
    "    vmax = max([get_slice(srs).max() for srs in srss])\n",
    "    dv = (vmax - vmin) * .01\n",
    "    return float(vmin - dv), float(vmax + dv)\n",
    "\n",
    "\n",
    "    \n",
    "def plt_cool_bokeh(pltdata=None, \n",
    "                   y_axis_type='linear', prange=(50, 1050)):\n",
    "    \n",
    "    ymin = 1e-2 \n",
    "    ymax = 1020\n",
    "    \n",
    "    p2 = figure(y_axis_type=y_axis_type, plot_width=300)\n",
    "    xmin, xmax = nice_xlims(pltdata, prange=prange)\n",
    "    \n",
    "    rs = []\n",
    "    for d in pltdata:\n",
    "        rd = []\n",
    "        if 'marker' in d:\n",
    "            r_mark = getattr(p2, d['marker'])(d['srs'].values, \n",
    "                        d['srs'].coords['pressure'].values,\n",
    "                        color=d['color'], alpha=.7)\n",
    "            rd.append(r_mark)\n",
    "        r_line = p2.line(d['srs'].values, \n",
    "                         d['srs'].coords['pressure'].values,\n",
    "                         color=d['color'], alpha=d['alpha'], \n",
    "                         line_width=d['line_width'], \n",
    "                         line_dash=d['line_dash'])\n",
    "        rd.append(r_line)\n",
    "      \n",
    "        rs.append(rd)\n",
    "        \n",
    "    p2.y_range = Range1d(ymax, ymin)  \n",
    "    p2.yaxis.axis_label = 'pressure [mb]'\n",
    "    \n",
    "    p2.x_range = Range1d(xmin, xmax)\n",
    "    p2.xaxis.axis_label = 'cooling rate [K/day]'\n",
    "    \n",
    "    items = [(d['label'], r) for r, d in zip(rs, pltdata)]\n",
    "    legend = Legend(items=items, location=(10, 0))\n",
    "    legend.label_text_font_size = '8pt'\n",
    "    p2.add_layout(legend, 'above')\n",
    "    p2.legend.orientation = 'horizontal'\n",
    "    p2.legend.location = 'top_center'\n",
    "    \n",
    "    return p2"
   ]
  },
  {
   "cell_type": "code",
   "execution_count": 1027,
   "metadata": {
    "collapsed": true
   },
   "outputs": [],
   "source": [
    "def pltdata_cool(atmpro='mls'):\n",
    "    \n",
    "    d_clirad_singlerun = clirad_data_atm(\n",
    "        clirad_params_atm_singlerun(atmpro=atmpro))\n",
    "    d_clirad = clirad_data_atm(clirad_params_atm(atmpro=atmpro))\n",
    "    d_crd = crd_data_atm(lblnew_params_atm(atmpro=atmpro))\n",
    "\n",
    "    ds_clirad_singlerun = d_clirad_singlerun['cool']\n",
    "    ds_clirad = d_clirad['cool']\n",
    "    ds_crd = d_crd['cool']\n",
    "\n",
    "    colors = all_palettes['Set1'][4]\n",
    "    \n",
    "    data = [\n",
    "        {'label': 'CLIRAD (single-run)',\n",
    "        'srs': fmt_cool(ds_clirad_singlerun),\n",
    "        'line_dash': 'dashed', 'line_width': 5,\n",
    "        'color': colors[1], 'alpha': .6},\n",
    "        {'label': 'CRD',\n",
    "         'srs': fmt_cool(ds_crd),\n",
    "         'line_dash': 'solid', 'line_width': 1.5,\n",
    "         'marker': 'circle', 'marker_size': 5,\n",
    "         'color': colors[2], 'alpha': 1}\n",
    "    ]\n",
    "#        {'label': 'CLIRAD',\n",
    "#         'srs': fmt_cool(ds_clirad),\n",
    "#         'line_dash': 'dashed', 'line_width': 5,\n",
    "#         'color': colors[0], 'alpha': .6}\n",
    "        \n",
    "\n",
    "    \n",
    "    # include old CLIRAD's results for mls profile\n",
    "    if atmpro == 'mls':\n",
    "        d_oldclirad = oldclirad_data_atm()\n",
    "        ds_oldclirad = d_oldclirad['cool']        \n",
    "        data.append(\n",
    "            {'label': 'old CLIRAD (H2012)',\n",
    "             'srs': fmt_cool(ds_oldclirad),\n",
    "             'line_dash': 'solid', 'line_width': 1.5,\n",
    "             'marker': 'square', 'marker_size': 3,\n",
    "             'color': colors[3], 'alpha': .5})\n",
    "    return data\n",
    "\n",
    "\n",
    "def pltdata_cooldiff(atmpro='mls'):\n",
    "    \n",
    "    d_clirad_singlerun = clirad_data_atm(\n",
    "        clirad_params_atm_singlerun(atmpro=atmpro))\n",
    "    d_clirad = clirad_data_atm(clirad_params_atm(atmpro=atmpro))\n",
    "    d_crd = crd_data_atm(lblnew_params_atm(atmpro=atmpro))\n",
    "    \n",
    "    ds_clirad_singlerun = d_clirad_singlerun['cool']\n",
    "    ds_clirad = d_clirad['cool']\n",
    "    ds_crd = d_crd['cool']\n",
    "    \n",
    "    ds_diff = ds_clirad_singlerun - ds_crd\n",
    "    \n",
    "    colors = all_palettes['Set1'][4]\n",
    "    \n",
    "    data = [\n",
    "        {'label': 'CLIRAD (single-run) - CRD',\n",
    "         'srs': fmt_cool(ds_diff),\n",
    "         'line_dash': 'solid', 'line_width': 1.5, \n",
    "         'marker': 'circle', 'marker_size': 7,\n",
    "         'color': colors[3], 'alpha': .8}\n",
    "    ]\n",
    "    \n",
    "    # include old CLIRAD's results for mls profile\n",
    "    if atmpro == 'mls':\n",
    "        d_oldclirad = oldclirad_data_atm()\n",
    "        ds_oldclirad = d_oldclirad['cool']\n",
    "        ds_oldclirad.coords['pressure'] = ds_crd.coords['pressure']\n",
    "        ds_diff_old = ds_oldclirad.sum('band') - ds_crd.sum('band')\n",
    "        data.append(\n",
    "            {'label': 'old CLIRAD (H2012) - CRD',\n",
    "             'srs': fmt_cool(ds_diff_old),\n",
    "             'line_dash': 'dashed', 'line_width': 4,\n",
    "             'color': colors[1], 'alpha': .5}\n",
    "        )\n",
    "    return data\n",
    "\n",
    "\n",
    "def show_cool(atmpro='mls'):\n",
    "    \n",
    "    data_cool = pltdata_cool(atmpro=atmpro)\n",
    "    p_cool_liny = plt_cool_bokeh(pltdata=data_cool)\n",
    "    p_cool_logy = plt_cool_bokeh(pltdata=data_cool, \n",
    "                                 y_axis_type='log',\n",
    "                                 prange=(.01, 200))\n",
    "    \n",
    "    data_cooldiff = pltdata_cooldiff(atmpro=atmpro)\n",
    "    p_cooldiff_logy = plt_cool_bokeh(pltdata=data_cooldiff,\n",
    "                                     y_axis_type='log',\n",
    "                                     prange=(.01, 200))\n",
    "    \n",
    "    everything = gridplot(p_cool_liny, p_cool_logy, \n",
    "                          p_cooldiff_logy,\n",
    "                          ncols=3)\n",
    "    show(everything)\n",
    "    display.display(\n",
    "        display.Markdown('*FIGURE.* Cooling rates & difference.'))\n",
    "\n",
    "\n",
    "    "
   ]
  },
  {
   "cell_type": "code",
   "execution_count": null,
   "metadata": {
    "collapsed": true
   },
   "outputs": [],
   "source": []
  },
  {
   "cell_type": "code",
   "execution_count": 1028,
   "metadata": {
    "collapsed": true,
    "scrolled": false
   },
   "outputs": [],
   "source": [
    "\n",
    "\n",
    "def hist_band_vs_flux(da, title='Title'):\n",
    "       \n",
    "    bands = [str(b.values) for b in da['band']]\n",
    "\n",
    "    source = ColumnDataSource(\n",
    "        data={'band': bands, 'flux': da.values})\n",
    "\n",
    "    p = figure(x_range=bands, title=title)\n",
    "    p.vbar(source=source, x='band', top='flux', width=.9)\n",
    "\n",
    "    p.yaxis.axis_label = 'flux (W m-2)'\n",
    "    p.xaxis.axis_label = 'spectral band'\n",
    "    \n",
    "    return p\n",
    "\n",
    "\n",
    "def show_hist_flux(atmpro='mls'):\n",
    "    ds_crd = crd_data_atm(lblnew_params_atm(atmpro=atmpro))['flux']\n",
    "    ds_clirad = clirad_data_atm(\n",
    "        clirad_params_atm(atmpro=atmpro))['flux']\n",
    "    ds_clirad_singlerun = clirad_data_atm(\n",
    "        clirad_params_atm_singlerun(atmpro=atmpro))['flux']\n",
    "    \n",
    "    ip, varname = 0, 'flug'\n",
    "    da = (ds_clirad_singlerun - ds_crd).isel(pressure=ip)[varname]\n",
    "    p_toa = hist_band_vs_flux(da, \n",
    "        title='TOA flux. CLIRAD (single-run) - CRD.')\n",
    "\n",
    "    ip, varname = -1, 'fldg'\n",
    "    da = (ds_clirad_singlerun - ds_crd).isel(pressure=ip)[varname]\n",
    "    p_sfc = hist_band_vs_flux(da, \n",
    "        title='SFC flux. CLIRAD (single-run) - CRD.')    \n",
    "    \n",
    "    atm_crd = (ds_crd.isel(pressure=0) \n",
    "               - ds_crd.isel(pressure=-1))['fnetg']\n",
    "    atm_clirad_singlerun = (ds_clirad_singlerun.isel(pressure=0) \n",
    "                  - ds_clirad_singlerun.isel(pressure=-1))['fnetg']\n",
    "    da = atm_clirad_singlerun - atm_crd\n",
    "    p_atm = hist_band_vs_flux(da, \n",
    "        title='Atmosphere heating. CLIRAD (single-run) - CRD.')\n",
    "\n",
    "    everything = gridplot(p_toa, p_sfc, p_atm, ncols=3, \n",
    "                          plot_width=300, plot_height=300)\n",
    "    \n",
    "    show(everything)\n",
    "    display.display(\n",
    "        display.Markdown('*FIGURE.* Difference between CLIRAD and CRD'\n",
    "          ' in TOA, SFC and net atmosphere flux,'\n",
    "          ' in each spectral band.'))\n",
    "\n",
    "\n",
    "    \n",
    "def show_tb_flux(atmpro='mls'):\n",
    "    \n",
    "    def fmt(da_in):\n",
    "        da = da_in.copy(deep=True)\n",
    "        if 'igg' in da.dims:\n",
    "            da = da.sel(igg=1)\n",
    "            \n",
    "        if 'g' in da.dims:\n",
    "            da = da.sum('g')\n",
    "        \n",
    "        if 'band' in da.dims:\n",
    "            try:\n",
    "                da = da.squeeze('band')\n",
    "            except ValueError:\n",
    "                da = da.sum('band')\n",
    "                \n",
    "        return da\n",
    "    \n",
    "    ds_crd = crd_data_atm(lblnew_params_atm(atmpro=atmpro))['flux']\n",
    "    olr_crd = ds_crd['flug'].isel(pressure=0)\n",
    "    sfc_crd = ds_crd['fldg'].isel(pressure=-1)\n",
    "    atm_crd = (ds_crd.isel(pressure=0)\n",
    "               - ds_crd.isel(pressure=-1))['fnetg']\n",
    "    \n",
    "    ds_clirad = clirad_data_atm(\n",
    "        clirad_params_atm(atmpro=atmpro))['flux']\n",
    "    olr_clirad = ds_clirad['flug'].isel(pressure=0)\n",
    "    sfc_clirad = ds_clirad['fldg'].isel(pressure=-1)\n",
    "    atm_clirad = (ds_clirad.isel(pressure=0)\n",
    "                  - ds_clirad.isel(pressure=-1))['fnetg']\n",
    "\n",
    "    ds_clirad_singlerun = clirad_data_atm(\n",
    "        clirad_params_atm_singlerun(atmpro=atmpro))['flux']\n",
    "    olr_clirad_singlerun = ds_clirad_singlerun['flug'].isel(pressure=0)\n",
    "    sfc_clirad_singlerun = ds_clirad_singlerun['fldg'].isel(pressure=-1)\n",
    "    atm_clirad_singlerun = (ds_clirad_singlerun.isel(pressure=0)\n",
    "                  - ds_clirad_singlerun.isel(pressure=-1))['fnetg']\n",
    "    \n",
    "    if atmpro == 'mls':\n",
    "        ds_oldclirad = oldclirad_data_atm()['flux']\n",
    "        ds_oldclirad['pressure'] = ds_crd['pressure']\n",
    "        olr_oldclirad = ds_oldclirad['flug'].isel(pressure=0)\n",
    "        sfc_oldclirad = ds_oldclirad['fldg'].isel(pressure=-1)\n",
    "        atm_oldclirad = (ds_oldclirad.isel(pressure=0)\n",
    "                         - ds_oldclirad.isel(pressure=-1))['fnetg']\n",
    "        \n",
    "    \n",
    "    \n",
    "    df = pd.DataFrame()\n",
    "    df.index.name = 'Sum over bands'\n",
    "    \n",
    "    if atmpro == 'mls':\n",
    "        df.loc['old CLIRAD - CRD', \n",
    "               'OLR flux'] = (fmt(olr_oldclirad)\n",
    "                              - fmt(olr_crd)).values\n",
    "        df.loc['old CLIRAD - CRD', \n",
    "               'SFC flux'] = (fmt(sfc_oldclirad)\n",
    "                              - fmt(sfc_crd)).values\n",
    "        df.loc['old CLIRAD - CRD', \n",
    "               'ATM heating'] = (fmt(atm_oldclirad)\n",
    "                                 - fmt(atm_crd)).values\n",
    "    \n",
    "    df.loc['CLIRAD (single-run) - CRD', \n",
    "           'OLR flux'] = (fmt(olr_clirad_singlerun) \n",
    "                          - fmt(olr_crd)).values\n",
    "    df.loc['CLIRAD (single-run) - CRD', \n",
    "           'SFC flux'] = (fmt(sfc_clirad_singlerun) \n",
    "                          - fmt(sfc_crd)).values\n",
    "    df.loc['CLIRAD (single-run) - CRD', \n",
    "           'ATM heating'] = (fmt(atm_clirad_singlerun) \n",
    "                             - fmt(atm_crd)).values\n",
    "\n",
    "    df.loc['CRD', 'OLR flux'] = fmt(olr_crd).values\n",
    "    df.loc['CRD', 'SFC flux'] = fmt(sfc_crd).values\n",
    "    df.loc['CRD', 'ATM heating'] = fmt(atm_crd).values\n",
    "        \n",
    "    df = df.astype('float').round(2)\n",
    "    \n",
    "    display.display(df)\n",
    "    display.display(\n",
    "        display.Markdown('*TABLE.* Difference between CLIRAD and CRD'\n",
    "          ' in TOA, SFC and net atmosphere flux,'\n",
    "          ' over all spectral bands. CRD\\'s'\n",
    "          ' TOA, SFC and net atmosphere flux,'\n",
    "          ' over all spectral bands.'))\n"
   ]
  },
  {
   "cell_type": "code",
   "execution_count": 1029,
   "metadata": {
    "scrolled": false
   },
   "outputs": [
    {
     "data": {
      "text/markdown": [
       "## Results over entire range of molecules and spectral bands"
      ],
      "text/plain": [
       "<IPython.core.display.Markdown object>"
      ]
     },
     "metadata": {},
     "output_type": "display_data"
    },
    {
     "data": {
      "text/markdown": [
       "### Table of Contents"
      ],
      "text/plain": [
       "<IPython.core.display.Markdown object>"
      ]
     },
     "metadata": {},
     "output_type": "display_data"
    },
    {
     "data": {
      "text/html": [
       "<a href=\"#Makeup_of_atmosphere.\">Makeup of atmosphere.</a>"
      ],
      "text/plain": [
       "<IPython.core.display.HTML object>"
      ]
     },
     "metadata": {},
     "output_type": "display_data"
    },
    {
     "data": {
      "text/markdown": [
       "**mid-latitude summer**"
      ],
      "text/plain": [
       "<IPython.core.display.Markdown object>"
      ]
     },
     "metadata": {},
     "output_type": "display_data"
    },
    {
     "data": {
      "text/html": [
       "<a href=\"#Cooling_rates._mls.\">Cooling rates. mls.</a>"
      ],
      "text/plain": [
       "<IPython.core.display.HTML object>"
      ]
     },
     "metadata": {},
     "output_type": "display_data"
    },
    {
     "data": {
      "text/html": [
       "<a href=\"#Fluxes._mls.\">Fluxes. mls.</a>"
      ],
      "text/plain": [
       "<IPython.core.display.HTML object>"
      ]
     },
     "metadata": {},
     "output_type": "display_data"
    },
    {
     "data": {
      "text/markdown": [
       "**sub-arctic winter**"
      ],
      "text/plain": [
       "<IPython.core.display.Markdown object>"
      ]
     },
     "metadata": {},
     "output_type": "display_data"
    },
    {
     "data": {
      "text/html": [
       "<a href=\"#Cooling_rates._saw.\">Cooling rates. saw.</a>"
      ],
      "text/plain": [
       "<IPython.core.display.HTML object>"
      ]
     },
     "metadata": {},
     "output_type": "display_data"
    },
    {
     "data": {
      "text/html": [
       "<a href=\"#Fluxes._saw.\">Fluxes. saw.</a>"
      ],
      "text/plain": [
       "<IPython.core.display.HTML object>"
      ]
     },
     "metadata": {},
     "output_type": "display_data"
    },
    {
     "data": {
      "text/markdown": [
       "**tropical**"
      ],
      "text/plain": [
       "<IPython.core.display.Markdown object>"
      ]
     },
     "metadata": {},
     "output_type": "display_data"
    },
    {
     "data": {
      "text/html": [
       "<a href=\"#Cooling_rates._trp.\">Cooling rates. trp.</a>"
      ],
      "text/plain": [
       "<IPython.core.display.HTML object>"
      ]
     },
     "metadata": {},
     "output_type": "display_data"
    },
    {
     "data": {
      "text/html": [
       "<a href=\"#Fluxes._trp.\">Fluxes. trp.</a>"
      ],
      "text/plain": [
       "<IPython.core.display.HTML object>"
      ]
     },
     "metadata": {},
     "output_type": "display_data"
    },
    {
     "data": {
      "text/html": [
       "<a id=\"Makeup_of_atmosphere.\"></a>"
      ],
      "text/plain": [
       "<IPython.core.display.HTML object>"
      ]
     },
     "metadata": {},
     "output_type": "display_data"
    },
    {
     "data": {
      "text/markdown": [
       "# Makeup of atmosphere."
      ],
      "text/plain": [
       "<IPython.core.display.Markdown object>"
      ]
     },
     "metadata": {},
     "output_type": "display_data"
    },
    {
     "data": {
      "text/html": [
       "<div>\n",
       "<style scoped>\n",
       "    .dataframe tbody tr th:only-of-type {\n",
       "        vertical-align: middle;\n",
       "    }\n",
       "\n",
       "    .dataframe tbody tr th {\n",
       "        vertical-align: top;\n",
       "    }\n",
       "\n",
       "    .dataframe thead th {\n",
       "        text-align: right;\n",
       "    }\n",
       "</style>\n",
       "<table border=\"1\" class=\"dataframe\">\n",
       "  <thead>\n",
       "    <tr style=\"text-align: right;\">\n",
       "      <th>clirad band</th>\n",
       "      <th>1</th>\n",
       "      <th>2</th>\n",
       "      <th>3</th>\n",
       "      <th>4</th>\n",
       "      <th>5</th>\n",
       "      <th>6</th>\n",
       "      <th>7</th>\n",
       "      <th>8</th>\n",
       "      <th>9</th>\n",
       "      <th>10</th>\n",
       "      <th>11</th>\n",
       "    </tr>\n",
       "    <tr>\n",
       "      <th>molecule</th>\n",
       "      <th></th>\n",
       "      <th></th>\n",
       "      <th></th>\n",
       "      <th></th>\n",
       "      <th></th>\n",
       "      <th></th>\n",
       "      <th></th>\n",
       "      <th></th>\n",
       "      <th></th>\n",
       "      <th></th>\n",
       "      <th></th>\n",
       "    </tr>\n",
       "  </thead>\n",
       "  <tbody>\n",
       "    <tr>\n",
       "      <th>h2o</th>\n",
       "      <td>atmpro</td>\n",
       "      <td>atmpro</td>\n",
       "      <td>atmpro</td>\n",
       "      <td>atmpro</td>\n",
       "      <td>atmpro</td>\n",
       "      <td>atmpro</td>\n",
       "      <td>atmpro</td>\n",
       "      <td>atmpro</td>\n",
       "      <td>atmpro</td>\n",
       "      <td>atmpro</td>\n",
       "      <td>atmpro</td>\n",
       "    </tr>\n",
       "    <tr>\n",
       "      <th>co2</th>\n",
       "      <td>0</td>\n",
       "      <td>0</td>\n",
       "      <td>0.0004</td>\n",
       "      <td>0.0004</td>\n",
       "      <td>0.0004</td>\n",
       "      <td>0.0004</td>\n",
       "      <td>0.0004</td>\n",
       "      <td>0</td>\n",
       "      <td>0</td>\n",
       "      <td>0</td>\n",
       "      <td>0.0004</td>\n",
       "    </tr>\n",
       "    <tr>\n",
       "      <th>n2o</th>\n",
       "      <td>0</td>\n",
       "      <td>0</td>\n",
       "      <td>3.2e-07</td>\n",
       "      <td>0</td>\n",
       "      <td>0</td>\n",
       "      <td>0</td>\n",
       "      <td>0</td>\n",
       "      <td>0</td>\n",
       "      <td>3.2e-07</td>\n",
       "      <td>0</td>\n",
       "      <td>0</td>\n",
       "    </tr>\n",
       "    <tr>\n",
       "      <th>o3</th>\n",
       "      <td>0</td>\n",
       "      <td>0</td>\n",
       "      <td>0</td>\n",
       "      <td>0</td>\n",
       "      <td>0</td>\n",
       "      <td>0</td>\n",
       "      <td>atmpro</td>\n",
       "      <td>0</td>\n",
       "      <td>0</td>\n",
       "      <td>0</td>\n",
       "      <td>0</td>\n",
       "    </tr>\n",
       "    <tr>\n",
       "      <th>ch4</th>\n",
       "      <td>0</td>\n",
       "      <td>0</td>\n",
       "      <td>0</td>\n",
       "      <td>0</td>\n",
       "      <td>0</td>\n",
       "      <td>0</td>\n",
       "      <td>0</td>\n",
       "      <td>0</td>\n",
       "      <td>1.8e-06</td>\n",
       "      <td>0</td>\n",
       "      <td>0</td>\n",
       "    </tr>\n",
       "  </tbody>\n",
       "</table>\n",
       "</div>"
      ],
      "text/plain": [
       "clirad band      1       2        3       4       5       6       7       8   \\\n",
       "molecule                                                                       \n",
       "h2o          atmpro  atmpro   atmpro  atmpro  atmpro  atmpro  atmpro  atmpro   \n",
       "co2               0       0   0.0004  0.0004  0.0004  0.0004  0.0004       0   \n",
       "n2o               0       0  3.2e-07       0       0       0       0       0   \n",
       "o3                0       0        0       0       0       0  atmpro       0   \n",
       "ch4               0       0        0       0       0       0       0       0   \n",
       "\n",
       "clirad band       9       10      11  \n",
       "molecule                              \n",
       "h2o           atmpro  atmpro  atmpro  \n",
       "co2                0       0  0.0004  \n",
       "n2o          3.2e-07       0       0  \n",
       "o3                 0       0       0  \n",
       "ch4          1.8e-06       0       0  "
      ]
     },
     "metadata": {},
     "output_type": "display_data"
    },
    {
     "data": {
      "text/markdown": [
       "*TABLE.* Non-grey absorbers in the atmosphere."
      ],
      "text/plain": [
       "<IPython.core.display.Markdown object>"
      ]
     },
     "metadata": {},
     "output_type": "display_data"
    },
    {
     "data": {
      "text/html": [
       "<div>\n",
       "<style scoped>\n",
       "    .dataframe tbody tr th:only-of-type {\n",
       "        vertical-align: middle;\n",
       "    }\n",
       "\n",
       "    .dataframe tbody tr th {\n",
       "        vertical-align: top;\n",
       "    }\n",
       "\n",
       "    .dataframe thead th {\n",
       "        text-align: right;\n",
       "    }\n",
       "</style>\n",
       "<table border=\"1\" class=\"dataframe\">\n",
       "  <thead>\n",
       "    <tr style=\"text-align: right;\">\n",
       "      <th>clirad band</th>\n",
       "      <th>1</th>\n",
       "      <th>2</th>\n",
       "      <th>3</th>\n",
       "      <th>4</th>\n",
       "      <th>5</th>\n",
       "      <th>6</th>\n",
       "      <th>7</th>\n",
       "      <th>8</th>\n",
       "      <th>9</th>\n",
       "    </tr>\n",
       "    <tr>\n",
       "      <th>absorber</th>\n",
       "      <th></th>\n",
       "      <th></th>\n",
       "      <th></th>\n",
       "      <th></th>\n",
       "      <th></th>\n",
       "      <th></th>\n",
       "      <th></th>\n",
       "      <th></th>\n",
       "      <th></th>\n",
       "    </tr>\n",
       "  </thead>\n",
       "  <tbody>\n",
       "    <tr>\n",
       "      <th>con</th>\n",
       "      <td>atmpro</td>\n",
       "      <td>atmpro</td>\n",
       "      <td>atmpro</td>\n",
       "      <td>atmpro</td>\n",
       "      <td>atmpro</td>\n",
       "      <td>atmpro</td>\n",
       "      <td>atmpro</td>\n",
       "      <td>atmpro</td>\n",
       "      <td>atmpro</td>\n",
       "    </tr>\n",
       "    <tr>\n",
       "      <th>n2o</th>\n",
       "      <td>0</td>\n",
       "      <td>0</td>\n",
       "      <td>0</td>\n",
       "      <td>0</td>\n",
       "      <td>0</td>\n",
       "      <td>0</td>\n",
       "      <td>0</td>\n",
       "      <td>3.2e-07</td>\n",
       "      <td>0</td>\n",
       "    </tr>\n",
       "  </tbody>\n",
       "</table>\n",
       "</div>"
      ],
      "text/plain": [
       "clirad band       1       2       3       4       5       6       7        8  \\\n",
       "absorber                                                                       \n",
       "con          atmpro  atmpro  atmpro  atmpro  atmpro  atmpro  atmpro   atmpro   \n",
       "n2o               0       0       0       0       0       0       0  3.2e-07   \n",
       "\n",
       "clirad band       9  \n",
       "absorber             \n",
       "con          atmpro  \n",
       "n2o               0  "
      ]
     },
     "metadata": {},
     "output_type": "display_data"
    },
    {
     "data": {
      "text/markdown": [
       "*TABLE.* Grey absorbers in the atmosphere."
      ],
      "text/plain": [
       "<IPython.core.display.Markdown object>"
      ]
     },
     "metadata": {},
     "output_type": "display_data"
    },
    {
     "data": {
      "text/html": [
       "<a id=\"Cooling_rates._mls.\"></a>"
      ],
      "text/plain": [
       "<IPython.core.display.HTML object>"
      ]
     },
     "metadata": {},
     "output_type": "display_data"
    },
    {
     "data": {
      "text/markdown": [
       "# Cooling rates. mls."
      ],
      "text/plain": [
       "<IPython.core.display.Markdown object>"
      ]
     },
     "metadata": {},
     "output_type": "display_data"
    },
    {
     "data": {
      "text/html": [
       "\n",
       "<div class=\"bk-root\">\n",
       "    <div class=\"bk-plotdiv\" id=\"730396a3-016d-420d-9045-95bf8f84de6c\"></div>\n",
       "</div>"
      ]
     },
     "metadata": {},
     "output_type": "display_data"
    },
    {
     "data": {
      "application/javascript": [
       "(function(root) {\n",
       "  function embed_document(root) {\n",
       "    \n",
       "  var docs_json = {\"c8f5c08c-60a2-4e0d-a409-8a77050c6406\":{\"roots\":{\"references\":[{\"attributes\":{},\"id\":\"c14f5c6f-6ebb-40d7-a11d-eb1a5c6c87fd\",\"type\":\"BasicTickFormatter\"},{\"attributes\":{\"source\":{\"id\":\"09a8ee1f-d6c5-4057-b741-a07b519b9091\",\"type\":\"ColumnDataSource\"}},\"id\":\"700efd29-e128-4759-9931-ca4689bb0713\",\"type\":\"CDSView\"},{\"attributes\":{},\"id\":\"d588b4ef-f1dc-4cac-9d80-8f48ef147194\",\"type\":\"Selection\"},{\"attributes\":{\"callback\":null,\"end\":2.3135572748904605,\"start\":-0.22322766227646001},\"id\":\"1fe16ec0-50ea-4e0c-9412-5a6712d1f01e\",\"type\":\"Range1d\"},{\"attributes\":{\"callback\":null,\"data\":{\"x\":{\"__ndarray__\":\"QW/ChKHYRUABfBHv8BdDQO7pX4+S40FAjlrTPAs/QEBi55KjU0A8QOVEIjtRPTdAAW6pHa7pMUBoDUjHy+UpQJPUAjnkGiJAkii6KF00GkDyfPLi2t0UQPkZqhKpthFAXgmBeRVNDUDo1yrq/pUDQBJCuTYK9vU/YoFqy5OO+j/mD7q8ijIFQB7JG9aeDgtAKZPg33XgEEB3e15vURcWQASfV5qt/R1A31afOw7VJEBkZ/sSPswqQPJ8sfjH+ylASXHMMLlOJECnFuR/okcgQKATN+gOZBtALtOaGrQFFkBYLwnonigRQH3MfkLg4AtAJbaM1c4ICEAqMLR+58sCQGn6INO6Bfo/9OD7FbZF8T+Hs4EjcHrnP564dUqD6Ns/JQfYEdIQzT9x/Lwc00XAP+SGDp6tAKO/xAoZ+sRjyb+ScdT6eNyDv/4NISJvwuc/0BNwzqJ+9z+OhxM/9RYAQGCVqWPPlwFApa4RsMkGAECakb3Sg0P+P/wSdfkQIv0/okwaebtq/D8NcsI81zv8PzS6YIBmV/w/t/rzZVDu+z9vHpSuI3P7PzxXiTLKB/s/+xEut0e9+j80CdGvY4f6P91Lpyhohfo/hq2DgXOb+z8jUdf2UHz8P+0LQT6D/vw/NxBjOnr9/D975RKvuF38PyqTiuWeRvs/G8nM6yIW+j8IPCAwnv/4P9UcYY9Qbfg/OqB8rKY8+D929obcuzf4P6/7j5gVtPc/VtnblNCk9j8Yh5Uy8nP1P2TvKkPTiPQ/Kaw4REER9D/JF0FfkkT0P/aWmIV77/o/\",\"dtype\":\"float64\",\"shape\":[75]},\"y\":{\"__ndarray__\":\"GhExyth1ND/Sv8nbtpRIP2vylNV0PVE/aTum7souWD/At0SJ8fVgPw3Iuahxymc/MSNhhJWvcD/bTfBN02d3P2zb5nxnaoA/CD5h5MAGhz8NmeH1TyaQP+zrCsc9p5Y/LbKd76fGnz/bLW5ISEmmPww9YvTcQq8/JV2OstnstT8Er5Y7M8G+P0c+r3jqkcU/5h99k6ZBzj88bCIzFzjVP4enV8oyxN0//yH99nXg5D8qOpLLf0jtP5kqGJXUifQ/c9cS8kHP/D+/DpwzojQEQIEmwoanVwxA4lgXt9HgE0BSSZ2AJuIbQAMJih9jjiNA5q4l5INuK0AwTKYKRj0zQNv5fmq8/DpAaCJseHrtQkB/+zpwzoxKQM3MzMzMeFJAZmZmZmZqWEAAAAAAAFxeQM3MzMzMJmJAmpmZmZkfZUBmZmZmZhhoQDMzMzMzEWtAAAAAAAAKbkBmZmZmZoFwQM3MzMzM/XFAMzMzMzN6c0CamZmZmfZ0QAAAAAAAc3ZAZmZmZmbvd0DNzMzMzGt5QDMzMzMz6HpAmpmZmZlkfEAAAAAAAOF9QGZmZmZmXX9AZmZmZuZsgECamZmZGSuBQM3MzMxM6YFAAAAAAICngkAzMzMzs2WDQGZmZmbmI4RAmpmZmRnihEDNzMzMTKCFQAAAAACAXoZAMzMzM7Mch0BmZmZm5tqHQJqZmZkZmYhAzczMzExXiUAAAAAAgBWKQDMzMzOz04pAZmZmZuaRi0CamZmZGVCMQM3MzMxMDo1AAAAAAIDMjUAzMzMzs4qOQGZmZmbmSI9A\",\"dtype\":\"float64\",\"shape\":[75]}},\"selected\":{\"id\":\"bfc76da6-51ea-4fc1-bb74-2eab6c514e01\",\"type\":\"Selection\"},\"selection_policy\":{\"id\":\"b904bf16-52af-4b7f-999d-362aa5d972f1\",\"type\":\"UnionRenderers\"}},\"id\":\"73e3121c-d41f-4080-aaa0-c655f968bbab\",\"type\":\"ColumnDataSource\"},{\"attributes\":{\"axis_label\":\"pressure [mb]\",\"formatter\":{\"id\":\"02ab8cf1-0b9e-43f7-a4f1-bcb198b8e675\",\"type\":\"LogTickFormatter\"},\"plot\":{\"id\":\"4213432d-ab49-4c1a-8abb-0c7dd057bba1\",\"subtype\":\"Figure\",\"type\":\"Plot\"},\"ticker\":{\"id\":\"6c356cb2-c894-400c-92d3-53b20d2d8a04\",\"type\":\"LogTicker\"}},\"id\":\"1f1ad6b0-0334-4c47-ba51-67ac31199390\",\"type\":\"LogAxis\"},{\"attributes\":{},\"id\":\"2f0863a4-52c0-4072-a616-dea268442c0e\",\"type\":\"UnionRenderers\"},{\"attributes\":{\"callback\":null,\"end\":13.587992271301857,\"start\":-0.33485573154785997},\"id\":\"a02d458f-9326-4d3d-ad13-4f14e545b786\",\"type\":\"Range1d\"},{\"attributes\":{},\"id\":\"bfc76da6-51ea-4fc1-bb74-2eab6c514e01\",\"type\":\"Selection\"},{\"attributes\":{\"line_alpha\":0.1,\"line_color\":\"#1f77b4\",\"line_width\":1.5,\"x\":{\"field\":\"x\"},\"y\":{\"field\":\"y\"}},\"id\":\"2b0d0eea-2cc1-4f31-871c-697ee96d3e1e\",\"type\":\"Line\"},{\"attributes\":{\"data_source\":{\"id\":\"367f3c83-9140-436e-a461-f5005c336f64\",\"type\":\"ColumnDataSource\"},\"glyph\":{\"id\":\"76a5c64f-6b24-4a7c-a67d-5f4aacd29392\",\"type\":\"Line\"},\"hover_glyph\":null,\"muted_glyph\":null,\"nonselection_glyph\":{\"id\":\"4dc06c7e-dc9e-45e6-baf1-5735c1d2ede0\",\"type\":\"Line\"},\"selection_glyph\":null,\"view\":{\"id\":\"ada095a6-8642-479c-be0c-a3eb66d9e41f\",\"type\":\"CDSView\"}},\"id\":\"f3ba4f48-bb6c-4942-b81a-86d7f3ae0e8f\",\"type\":\"GlyphRenderer\"},{\"attributes\":{\"callback\":null,\"end\":0.7044648345483613,\"start\":-1.3851868827390335},\"id\":\"703e82f1-cc0c-48d1-a9d9-27a71515f548\",\"type\":\"Range1d\"},{\"attributes\":{},\"id\":\"b904bf16-52af-4b7f-999d-362aa5d972f1\",\"type\":\"UnionRenderers\"},{\"attributes\":{\"fill_alpha\":{\"value\":0.7},\"fill_color\":{\"value\":\"#4daf4a\"},\"line_alpha\":{\"value\":0.7},\"line_color\":{\"value\":\"#4daf4a\"},\"x\":{\"field\":\"x\"},\"y\":{\"field\":\"y\"}},\"id\":\"1fec85b4-2f8c-409c-8cba-98d47a679092\",\"type\":\"Circle\"},{\"attributes\":{},\"id\":\"8275e3b5-9b7b-4a00-9db0-1480b628fc1b\",\"type\":\"LinearScale\"},{\"attributes\":{\"fill_alpha\":{\"value\":0.1},\"fill_color\":{\"value\":\"#1f77b4\"},\"line_alpha\":{\"value\":0.1},\"line_color\":{\"value\":\"#1f77b4\"},\"x\":{\"field\":\"x\"},\"y\":{\"field\":\"y\"}},\"id\":\"124d1f0f-a53e-4047-9cc9-e2e36e67fda6\",\"type\":\"Circle\"},{\"attributes\":{\"source\":{\"id\":\"367f3c83-9140-436e-a461-f5005c336f64\",\"type\":\"ColumnDataSource\"}},\"id\":\"ada095a6-8642-479c-be0c-a3eb66d9e41f\",\"type\":\"CDSView\"},{\"attributes\":{\"source\":{\"id\":\"73e3121c-d41f-4080-aaa0-c655f968bbab\",\"type\":\"ColumnDataSource\"}},\"id\":\"1875162a-4482-41ac-86a3-a54ae43a9ef5\",\"type\":\"CDSView\"},{\"attributes\":{\"children\":[{\"id\":\"426216c9-10c7-43a2-8ce7-53883f1b27d4\",\"type\":\"ToolbarBox\"},{\"id\":\"51b4e2a1-9d86-479f-a34c-b2e9dcf96a1c\",\"type\":\"Column\"}]},\"id\":\"745e0dec-5cdb-4656-a93d-7b12880459b3\",\"type\":\"Column\"},{\"attributes\":{\"callback\":null,\"data\":{\"x\":{\"__ndarray__\":\"cm1sTMT3VEDEyvjosEJHQOKI6DjzCUNArgQWV9awPkB9Lm8XG3M4QEz+Qv6iYzNA7eV8HaPLLkCX1QHyTpMoQFBmYSYetiNAUB04GtGpH0AmFyVE5j8ZQJca9QPGqBNALJP+OOHHDEBNxaf7QF8AQKtislomWuw/cW2dcO6A9T/uJJvfPu0EQIaQLTI/JQ1AxGiII+PmEkCJvfVeuCsYQD6ZBhGbHB9AXQw69DTYJEAsubcwKucqQNuT9D5OmipAJyi3szEJJUBlNebh5WkgQDDcPHBr2xlArtlANXuQFEBdJadFHckQQI2Avh0ZsQtAjYiwt1rsBUCL0SDoVBgAQK6C0nEEjvc/CggLSme58T9sXU2orFPnP0v0JYz9Gdg/vT38vxYczD9nBQTe6kHHP1IhkEXJwKo/8OZnhCVAub+xtVgCpmqzP6DUpY6g0+k/PKK3T1h4+D8RTDjQc1EAQG/dAQs7TwJAQt2eHpPLAEBWEh074x//PyCap9ZSGf4/rEzaTySm/T+7aXhHRmr9P688KeqeNP0/ruZ4EemD/D8olrZcn9T7P0+vNc9hW/s/i9VVL+4P+z+0NzC24uz6P8731Kza8vo/xFf4SHzq+z+gYyHpvHb8P68ROkiFevw/BAjYdCga/D8AUp8VbW77P3JrF/nKmvo/qCQeGfq++T/dplwHJfn4P2G4p+Uva/g/OzZ0RqMZ+D8dmn/iar73P/OuA7Ka8PY/gaaeQHGn9T9hkyjAH1L0P3aZGhdAU/M/n8VP/g7P8j+90HxHNvfyPwhNBtgrqvk/\",\"dtype\":\"float64\",\"shape\":[75]},\"y\":{\"__ndarray__\":\"GhExyth1ND/Sv8nbtpRIP2vylNV0PVE/aTum7souWD/At0SJ8fVgPw3Iuahxymc/MSNhhJWvcD/bTfBN02d3P2zb5nxnaoA/CD5h5MAGhz8NmeH1TyaQP+zrCsc9p5Y/LbKd76fGnz/bLW5ISEmmPww9YvTcQq8/JV2OstnstT8Er5Y7M8G+P0c+r3jqkcU/5h99k6ZBzj88bCIzFzjVP4enV8oyxN0//yH99nXg5D8qOpLLf0jtP5kqGJXUifQ/c9cS8kHP/D+/DpwzojQEQIEmwoanVwxA4lgXt9HgE0BSSZ2AJuIbQAMJih9jjiNA5q4l5INuK0AwTKYKRj0zQNv5fmq8/DpAaCJseHrtQkB/+zpwzoxKQM3MzMzMeFJAZmZmZmZqWEAAAAAAAFxeQM3MzMzMJmJAmpmZmZkfZUBmZmZmZhhoQDMzMzMzEWtAAAAAAAAKbkBmZmZmZoFwQM3MzMzM/XFAMzMzMzN6c0CamZmZmfZ0QAAAAAAAc3ZAZmZmZmbvd0DNzMzMzGt5QDMzMzMz6HpAmpmZmZlkfEAAAAAAAOF9QGZmZmZmXX9AZmZmZuZsgECamZmZGSuBQM3MzMxM6YFAAAAAAICngkAzMzMzs2WDQGZmZmbmI4RAmpmZmRnihEDNzMzMTKCFQAAAAACAXoZAMzMzM7Mch0BmZmZm5tqHQJqZmZkZmYhAzczMzExXiUAAAAAAgBWKQDMzMzOz04pAZmZmZuaRi0CamZmZGVCMQM3MzMxMDo1AAAAAAIDMjUAzMzMzs4qOQGZmZmbmSI9A\",\"dtype\":\"float64\",\"shape\":[75]}},\"selected\":{\"id\":\"4749cb3d-ca06-4ac0-8135-2c6a749f003c\",\"type\":\"Selection\"},\"selection_policy\":{\"id\":\"2f0863a4-52c0-4072-a616-dea268442c0e\",\"type\":\"UnionRenderers\"}},\"id\":\"09a8ee1f-d6c5-4057-b741-a07b519b9091\",\"type\":\"ColumnDataSource\"},{\"attributes\":{},\"id\":\"bc72db56-dd0d-4ec6-a4ec-947c81a5e938\",\"type\":\"UnionRenderers\"},{\"attributes\":{\"plot\":null,\"text\":\"\"},\"id\":\"3ccb7008-d731-4d68-a6cd-d72a8a21b090\",\"type\":\"Title\"},{\"attributes\":{},\"id\":\"aa23c31f-6faa-4418-a733-e0c0859d1226\",\"type\":\"UnionRenderers\"},{\"attributes\":{},\"id\":\"4749cb3d-ca06-4ac0-8135-2c6a749f003c\",\"type\":\"Selection\"},{\"attributes\":{\"line_alpha\":0.1,\"line_color\":\"#1f77b4\",\"line_width\":1.5,\"x\":{\"field\":\"x\"},\"y\":{\"field\":\"y\"}},\"id\":\"b0053f4d-7419-41ec-84a1-7c6628f537f6\",\"type\":\"Line\"},{\"attributes\":{},\"id\":\"a29ab71f-19f9-4bb2-b168-42458453fd7f\",\"type\":\"Selection\"},{\"attributes\":{\"label\":{\"value\":\"old CLIRAD (H2012)\"},\"renderers\":[{\"id\":\"2a3d9173-b551-4b25-8490-bfe44d09b89e\",\"type\":\"GlyphRenderer\"},{\"id\":\"497c685c-18fc-4fe9-93db-bf7ff984e7e6\",\"type\":\"GlyphRenderer\"}]},\"id\":\"a794faa6-3218-4b3a-9e33-8f72fac6c6dd\",\"type\":\"LegendItem\"},{\"attributes\":{\"label\":{\"value\":\"CLIRAD (single-run) - CRD\"},\"renderers\":[{\"id\":\"cf6dda05-8267-44a7-8d7b-f91af23e0196\",\"type\":\"GlyphRenderer\"},{\"id\":\"bae3e72a-00ec-463e-973e-a6126dae97eb\",\"type\":\"GlyphRenderer\"}]},\"id\":\"9af0a36b-69c5-4174-b49b-1eeb05529b33\",\"type\":\"LegendItem\"},{\"attributes\":{\"ticker\":null},\"id\":\"956fbe12-6bf9-4e0e-afe3-9ba09c1590cb\",\"type\":\"LogTickFormatter\"},{\"attributes\":{\"num_minor_ticks\":10},\"id\":\"6c356cb2-c894-400c-92d3-53b20d2d8a04\",\"type\":\"LogTicker\"},{\"attributes\":{\"data_source\":{\"id\":\"09a8ee1f-d6c5-4057-b741-a07b519b9091\",\"type\":\"ColumnDataSource\"},\"glyph\":{\"id\":\"9c1cace3-9e56-4543-b8a2-c680e0bdf04e\",\"type\":\"Circle\"},\"hover_glyph\":null,\"muted_glyph\":null,\"nonselection_glyph\":{\"id\":\"124d1f0f-a53e-4047-9cc9-e2e36e67fda6\",\"type\":\"Circle\"},\"selection_glyph\":null,\"view\":{\"id\":\"700efd29-e128-4759-9931-ca4689bb0713\",\"type\":\"CDSView\"}},\"id\":\"e8dc62ad-5d65-41a6-a040-e4a2d2a09a14\",\"type\":\"GlyphRenderer\"},{\"attributes\":{},\"id\":\"83313e31-d329-4cb7-b0c4-664020be8a24\",\"type\":\"LinearScale\"},{\"attributes\":{},\"id\":\"4a92218a-0d1f-43c7-a764-f794c10052c9\",\"type\":\"HelpTool\"},{\"attributes\":{\"line_alpha\":0.8,\"line_color\":\"#984ea3\",\"line_width\":1.5,\"x\":{\"field\":\"x\"},\"y\":{\"field\":\"y\"}},\"id\":\"4313ce54-eec1-4026-a4ec-1667923bf1bb\",\"type\":\"Line\"},{\"attributes\":{\"fill_alpha\":{\"value\":0.7},\"fill_color\":{\"value\":\"#4daf4a\"},\"line_alpha\":{\"value\":0.7},\"line_color\":{\"value\":\"#4daf4a\"},\"x\":{\"field\":\"x\"},\"y\":{\"field\":\"y\"}},\"id\":\"9c1cace3-9e56-4543-b8a2-c680e0bdf04e\",\"type\":\"Circle\"},{\"attributes\":{},\"id\":\"5da6d288-1c77-4f1a-8d55-910c5c9808f4\",\"type\":\"UnionRenderers\"},{\"attributes\":{\"axis_label\":\"cooling rate [K/day]\",\"formatter\":{\"id\":\"6c713fd1-da88-4b03-8bf9-cf5269231c06\",\"type\":\"BasicTickFormatter\"},\"plot\":{\"id\":\"4213432d-ab49-4c1a-8abb-0c7dd057bba1\",\"subtype\":\"Figure\",\"type\":\"Plot\"},\"ticker\":{\"id\":\"b6c25fa8-5501-43ce-89c0-ba0bd693d2ab\",\"type\":\"BasicTicker\"}},\"id\":\"01470305-aad0-4b3a-b495-7dab157a3eb2\",\"type\":\"LinearAxis\"},{\"attributes\":{\"callback\":null,\"end\":0.01,\"start\":1020},\"id\":\"a7e4e42d-8176-48b9-896e-6d3620b9261a\",\"type\":\"Range1d\"},{\"attributes\":{\"callback\":null,\"data\":{\"x\":{\"__ndarray__\":\"cm1sTMT3VEDEyvjosEJHQOKI6DjzCUNArgQWV9awPkB9Lm8XG3M4QEz+Qv6iYzNA7eV8HaPLLkCX1QHyTpMoQFBmYSYetiNAUB04GtGpH0AmFyVE5j8ZQJca9QPGqBNALJP+OOHHDEBNxaf7QF8AQKtislomWuw/cW2dcO6A9T/uJJvfPu0EQIaQLTI/JQ1AxGiII+PmEkCJvfVeuCsYQD6ZBhGbHB9AXQw69DTYJEAsubcwKucqQNuT9D5OmipAJyi3szEJJUBlNebh5WkgQDDcPHBr2xlArtlANXuQFEBdJadFHckQQI2Avh0ZsQtAjYiwt1rsBUCL0SDoVBgAQK6C0nEEjvc/CggLSme58T9sXU2orFPnP0v0JYz9Gdg/vT38vxYczD9nBQTe6kHHP1IhkEXJwKo/8OZnhCVAub+xtVgCpmqzP6DUpY6g0+k/PKK3T1h4+D8RTDjQc1EAQG/dAQs7TwJAQt2eHpPLAEBWEh074x//PyCap9ZSGf4/rEzaTySm/T+7aXhHRmr9P688KeqeNP0/ruZ4EemD/D8olrZcn9T7P0+vNc9hW/s/i9VVL+4P+z+0NzC24uz6P8731Kza8vo/xFf4SHzq+z+gYyHpvHb8P68ROkiFevw/BAjYdCga/D8AUp8VbW77P3JrF/nKmvo/qCQeGfq++T/dplwHJfn4P2G4p+Uva/g/OzZ0RqMZ+D8dmn/iar73P/OuA7Ka8PY/gaaeQHGn9T9hkyjAH1L0P3aZGhdAU/M/n8VP/g7P8j+90HxHNvfyPwhNBtgrqvk/\",\"dtype\":\"float64\",\"shape\":[75]},\"y\":{\"__ndarray__\":\"GhExyth1ND/Sv8nbtpRIP2vylNV0PVE/aTum7souWD/At0SJ8fVgPw3Iuahxymc/MSNhhJWvcD/bTfBN02d3P2zb5nxnaoA/CD5h5MAGhz8NmeH1TyaQP+zrCsc9p5Y/LbKd76fGnz/bLW5ISEmmPww9YvTcQq8/JV2OstnstT8Er5Y7M8G+P0c+r3jqkcU/5h99k6ZBzj88bCIzFzjVP4enV8oyxN0//yH99nXg5D8qOpLLf0jtP5kqGJXUifQ/c9cS8kHP/D+/DpwzojQEQIEmwoanVwxA4lgXt9HgE0BSSZ2AJuIbQAMJih9jjiNA5q4l5INuK0AwTKYKRj0zQNv5fmq8/DpAaCJseHrtQkB/+zpwzoxKQM3MzMzMeFJAZmZmZmZqWEAAAAAAAFxeQM3MzMzMJmJAmpmZmZkfZUBmZmZmZhhoQDMzMzMzEWtAAAAAAAAKbkBmZmZmZoFwQM3MzMzM/XFAMzMzMzN6c0CamZmZmfZ0QAAAAAAAc3ZAZmZmZmbvd0DNzMzMzGt5QDMzMzMz6HpAmpmZmZlkfEAAAAAAAOF9QGZmZmZmXX9AZmZmZuZsgECamZmZGSuBQM3MzMxM6YFAAAAAAICngkAzMzMzs2WDQGZmZmbmI4RAmpmZmRnihEDNzMzMTKCFQAAAAACAXoZAMzMzM7Mch0BmZmZm5tqHQJqZmZkZmYhAzczMzExXiUAAAAAAgBWKQDMzMzOz04pAZmZmZuaRi0CamZmZGVCMQM3MzMxMDo1AAAAAAIDMjUAzMzMzs4qOQGZmZmbmSI9A\",\"dtype\":\"float64\",\"shape\":[75]}},\"selected\":{\"id\":\"e6a2c6cf-0f3c-46eb-bbc9-5da7e67704e5\",\"type\":\"Selection\"},\"selection_policy\":{\"id\":\"2f6985f8-30fe-44ce-9b41-4fab6ee9fa75\",\"type\":\"UnionRenderers\"}},\"id\":\"72fda3b1-6f2b-408c-a73a-ae4cfeee00c7\",\"type\":\"ColumnDataSource\"},{\"attributes\":{},\"id\":\"5ca74062-fddb-4cbb-a483-0686246c6934\",\"type\":\"LinearScale\"},{\"attributes\":{},\"id\":\"eb075e4b-e975-4736-9e8f-b5b6740fbf86\",\"type\":\"Selection\"},{\"attributes\":{\"axis_label\":\"cooling rate [K/day]\",\"formatter\":{\"id\":\"d7db0f3a-cca1-4669-9f75-6e4eec1fe9f4\",\"type\":\"BasicTickFormatter\"},\"plot\":{\"id\":\"7d9babed-c5f9-4189-8fae-2ad7c8bc757f\",\"subtype\":\"Figure\",\"type\":\"Plot\"},\"ticker\":{\"id\":\"1bd5e2db-ba2b-4af3-b90c-bb8e7f196766\",\"type\":\"BasicTicker\"}},\"id\":\"e96a0062-0ebf-467e-91f3-d2a04b8c12c6\",\"type\":\"LinearAxis\"},{\"attributes\":{\"plot\":{\"id\":\"4213432d-ab49-4c1a-8abb-0c7dd057bba1\",\"subtype\":\"Figure\",\"type\":\"Plot\"},\"ticker\":{\"id\":\"b6c25fa8-5501-43ce-89c0-ba0bd693d2ab\",\"type\":\"BasicTicker\"}},\"id\":\"a7472d65-1636-4b3c-a2bb-ebff90d92005\",\"type\":\"Grid\"},{\"attributes\":{\"source\":{\"id\":\"72fda3b1-6f2b-408c-a73a-ae4cfeee00c7\",\"type\":\"ColumnDataSource\"}},\"id\":\"c51293b2-c5f6-4f93-a937-a55b4a6ca5f2\",\"type\":\"CDSView\"},{\"attributes\":{\"bottom_units\":\"screen\",\"fill_alpha\":{\"value\":0.5},\"fill_color\":{\"value\":\"lightgrey\"},\"left_units\":\"screen\",\"level\":\"overlay\",\"line_alpha\":{\"value\":1.0},\"line_color\":{\"value\":\"black\"},\"line_dash\":[4,4],\"line_width\":{\"value\":2},\"plot\":null,\"render_mode\":\"css\",\"right_units\":\"screen\",\"top_units\":\"screen\"},\"id\":\"e66eeb8d-c700-4436-b4e9-0f7f8ae7fe39\",\"type\":\"BoxAnnotation\"},{\"attributes\":{},\"id\":\"cfc58d36-d0fa-48d1-b710-bbd1fd17a51c\",\"type\":\"Selection\"},{\"attributes\":{\"line_alpha\":0.6,\"line_color\":\"#377eb8\",\"line_dash\":[6],\"line_width\":5,\"x\":{\"field\":\"x\"},\"y\":{\"field\":\"y\"}},\"id\":\"ab3f3dd6-9d53-494d-b4b7-bfdc7ccb687f\",\"type\":\"Line\"},{\"attributes\":{\"data_source\":{\"id\":\"72fda3b1-6f2b-408c-a73a-ae4cfeee00c7\",\"type\":\"ColumnDataSource\"},\"glyph\":{\"id\":\"eb7aa2b0-1ba5-43b9-ad5d-324c8b65782b\",\"type\":\"Line\"},\"hover_glyph\":null,\"muted_glyph\":null,\"nonselection_glyph\":{\"id\":\"2b0d0eea-2cc1-4f31-871c-697ee96d3e1e\",\"type\":\"Line\"},\"selection_glyph\":null,\"view\":{\"id\":\"c51293b2-c5f6-4f93-a937-a55b4a6ca5f2\",\"type\":\"CDSView\"}},\"id\":\"d5266ec0-3f0f-4b7e-b43f-1f4711d9b0de\",\"type\":\"GlyphRenderer\"},{\"attributes\":{\"label\":{\"value\":\"old CLIRAD (H2012) - CRD\"},\"renderers\":[{\"id\":\"f3ba4f48-bb6c-4942-b81a-86d7f3ae0e8f\",\"type\":\"GlyphRenderer\"}]},\"id\":\"270c518d-ae85-4f5a-84cb-0db4b7e79d66\",\"type\":\"LegendItem\"},{\"attributes\":{},\"id\":\"b6c25fa8-5501-43ce-89c0-ba0bd693d2ab\",\"type\":\"BasicTicker\"},{\"attributes\":{},\"id\":\"383de94b-f8d6-4f32-8b1a-db5325d8707d\",\"type\":\"Selection\"},{\"attributes\":{},\"id\":\"60f4ece1-332a-44db-9c40-a3e334897ca5\",\"type\":\"LogScale\"},{\"attributes\":{\"label\":{\"value\":\"CRD\"},\"renderers\":[{\"id\":\"e8dc62ad-5d65-41a6-a040-e4a2d2a09a14\",\"type\":\"GlyphRenderer\"},{\"id\":\"d5266ec0-3f0f-4b7e-b43f-1f4711d9b0de\",\"type\":\"GlyphRenderer\"}]},\"id\":\"5c853cf7-484c-48cb-81d9-fb3e7ef41898\",\"type\":\"LegendItem\"},{\"attributes\":{},\"id\":\"cfe2a311-7beb-4f84-86eb-5bedabe934c3\",\"type\":\"LogScale\"},{\"attributes\":{\"callback\":null,\"data\":{\"x\":{\"__ndarray__\":\"oGsWFOcWRMAMO53n/6ogwD3viZgKZgLA/QYLKQLU/D8kxx1hxGkOQMQ0+uZxzQ5AVNhXd+QeBEAOfWNUzSflP8Ab6dWes+m/+NL3xc/V9b/FaMqELYjxv9IJsBTPId+/TcZOEIimsD/RlBh077XZP+5CgCXcI98/xk80a5U21D+mvbpH91KhP0I7juACtdC/1aw+HWoz4L+eELp8N6Pgv46j72rX7tG/sPOr1cQ1eb8yylG8HeyqvzLdYsjI0NO/iNtWXRBP17+iXw8BsSGxvwV3o383itg/95efVY5T1z8Wf4KYaOC3Pxz4JWCS45c/xGzh7qDj0D/z9Jq0lJzVP9S9cwqzvcM/ncXJA03snL/+DCuavWFzP5gifvItdK4/6ix5O2qXfj/VIxwFX/CrvyFUz3G74La/my7Kb2SHub/iQ7MhNea1vxA1JmSLibC/ec3xKLA2r7/CQWKSSD+dv/kBCet07ba/jdOl0S2ZuL/hF/AL7Yurv4nkUKY76K6/oQAAbI22s7/sel+r8Oayv1lPEDkNp6u/hX6dcBWzor/B7Z2I616YvxIFFivn5ZS/kePwCZ6plL+En8uXwV+Zv6r8aguhXJu/hY8q3THCk78YErbXNlBWP49H38C+f6A/WwZhsThqrD+Qb3Iuc+mtP/D2ZI59eqU/qxypqzTKlT/wr1QOo+RZP+CjI8tNBUE/JP80BLOBgT9iFteBPlSeP2eXidFcb6g/plqmh+qrrz+CO88mJx2yP91eBcEyWbM/pmiOXiQjtD+1cER8wdW0P/GeJNn6VLQ/\",\"dtype\":\"float64\",\"shape\":[75]},\"y\":{\"__ndarray__\":\"GhExyth1ND/Sv8nbtpRIP2vylNV0PVE/aTum7souWD/At0SJ8fVgPw3Iuahxymc/MSNhhJWvcD/bTfBN02d3P2zb5nxnaoA/CD5h5MAGhz8NmeH1TyaQP+zrCsc9p5Y/LbKd76fGnz/bLW5ISEmmPww9YvTcQq8/JV2OstnstT8Er5Y7M8G+P0c+r3jqkcU/5h99k6ZBzj88bCIzFzjVP4enV8oyxN0//yH99nXg5D8qOpLLf0jtP5kqGJXUifQ/c9cS8kHP/D+/DpwzojQEQIEmwoanVwxA4lgXt9HgE0BSSZ2AJuIbQAMJih9jjiNA5q4l5INuK0AwTKYKRj0zQNv5fmq8/DpAaCJseHrtQkB/+zpwzoxKQM3MzMzMeFJAZmZmZmZqWEAAAAAAAFxeQM3MzMzMJmJAmpmZmZkfZUBmZmZmZhhoQDMzMzMzEWtAAAAAAAAKbkBmZmZmZoFwQM3MzMzM/XFAMzMzMzN6c0CamZmZmfZ0QAAAAAAAc3ZAZmZmZmbvd0DNzMzMzGt5QDMzMzMz6HpAmpmZmZlkfEAAAAAAAOF9QGZmZmZmXX9AZmZmZuZsgECamZmZGSuBQM3MzMxM6YFAAAAAAICngkAzMzMzs2WDQGZmZmbmI4RAmpmZmRnihEDNzMzMTKCFQAAAAACAXoZAMzMzM7Mch0BmZmZm5tqHQJqZmZkZmYhAzczMzExXiUAAAAAAgBWKQDMzMzOz04pAZmZmZuaRi0CamZmZGVCMQM3MzMxMDo1AAAAAAIDMjUAzMzMzs4qOQGZmZmbmSI9A\",\"dtype\":\"float64\",\"shape\":[75]}},\"selected\":{\"id\":\"d588b4ef-f1dc-4cac-9d80-8f48ef147194\",\"type\":\"Selection\"},\"selection_policy\":{\"id\":\"5da6d288-1c77-4f1a-8d55-910c5c9808f4\",\"type\":\"UnionRenderers\"}},\"id\":\"0ce5daa2-caf9-47bb-8a44-02477a0b15d9\",\"type\":\"ColumnDataSource\"},{\"attributes\":{},\"id\":\"48290f6b-98ff-4c73-858c-e107ea2854be\",\"type\":\"SaveTool\"},{\"attributes\":{\"callback\":null,\"data\":{\"x\":{\"__ndarray__\":\"cm1sTMT3VEDEyvjosEJHQOKI6DjzCUNArgQWV9awPkB9Lm8XG3M4QEz+Qv6iYzNA7eV8HaPLLkCX1QHyTpMoQFBmYSYetiNAUB04GtGpH0AmFyVE5j8ZQJca9QPGqBNALJP+OOHHDEBNxaf7QF8AQKtislomWuw/cW2dcO6A9T/uJJvfPu0EQIaQLTI/JQ1AxGiII+PmEkCJvfVeuCsYQD6ZBhGbHB9AXQw69DTYJEAsubcwKucqQNuT9D5OmipAJyi3szEJJUBlNebh5WkgQDDcPHBr2xlArtlANXuQFEBdJadFHckQQI2Avh0ZsQtAjYiwt1rsBUCL0SDoVBgAQK6C0nEEjvc/CggLSme58T9sXU2orFPnP0v0JYz9Gdg/vT38vxYczD9nBQTe6kHHP1IhkEXJwKo/8OZnhCVAub+xtVgCpmqzP6DUpY6g0+k/PKK3T1h4+D8RTDjQc1EAQG/dAQs7TwJAQt2eHpPLAEBWEh074x//PyCap9ZSGf4/rEzaTySm/T+7aXhHRmr9P688KeqeNP0/ruZ4EemD/D8olrZcn9T7P0+vNc9hW/s/i9VVL+4P+z+0NzC24uz6P8731Kza8vo/xFf4SHzq+z+gYyHpvHb8P68ROkiFevw/BAjYdCga/D8AUp8VbW77P3JrF/nKmvo/qCQeGfq++T/dplwHJfn4P2G4p+Uva/g/OzZ0RqMZ+D8dmn/iar73P/OuA7Ka8PY/gaaeQHGn9T9hkyjAH1L0P3aZGhdAU/M/n8VP/g7P8j+90HxHNvfyPwhNBtgrqvk/\",\"dtype\":\"float64\",\"shape\":[75]},\"y\":{\"__ndarray__\":\"GhExyth1ND/Sv8nbtpRIP2vylNV0PVE/aTum7souWD/At0SJ8fVgPw3Iuahxymc/MSNhhJWvcD/bTfBN02d3P2zb5nxnaoA/CD5h5MAGhz8NmeH1TyaQP+zrCsc9p5Y/LbKd76fGnz/bLW5ISEmmPww9YvTcQq8/JV2OstnstT8Er5Y7M8G+P0c+r3jqkcU/5h99k6ZBzj88bCIzFzjVP4enV8oyxN0//yH99nXg5D8qOpLLf0jtP5kqGJXUifQ/c9cS8kHP/D+/DpwzojQEQIEmwoanVwxA4lgXt9HgE0BSSZ2AJuIbQAMJih9jjiNA5q4l5INuK0AwTKYKRj0zQNv5fmq8/DpAaCJseHrtQkB/+zpwzoxKQM3MzMzMeFJAZmZmZmZqWEAAAAAAAFxeQM3MzMzMJmJAmpmZmZkfZUBmZmZmZhhoQDMzMzMzEWtAAAAAAAAKbkBmZmZmZoFwQM3MzMzM/XFAMzMzMzN6c0CamZmZmfZ0QAAAAAAAc3ZAZmZmZmbvd0DNzMzMzGt5QDMzMzMz6HpAmpmZmZlkfEAAAAAAAOF9QGZmZmZmXX9AZmZmZuZsgECamZmZGSuBQM3MzMxM6YFAAAAAAICngkAzMzMzs2WDQGZmZmbmI4RAmpmZmRnihEDNzMzMTKCFQAAAAACAXoZAMzMzM7Mch0BmZmZm5tqHQJqZmZkZmYhAzczMzExXiUAAAAAAgBWKQDMzMzOz04pAZmZmZuaRi0CamZmZGVCMQM3MzMxMDo1AAAAAAIDMjUAzMzMzs4qOQGZmZmbmSI9A\",\"dtype\":\"float64\",\"shape\":[75]}},\"selected\":{\"id\":\"383de94b-f8d6-4f32-8b1a-db5325d8707d\",\"type\":\"Selection\"},\"selection_policy\":{\"id\":\"aa23c31f-6faa-4418-a733-e0c0859d1226\",\"type\":\"UnionRenderers\"}},\"id\":\"41e0577d-1c15-45fe-a5e6-2bab4fd6eee8\",\"type\":\"ColumnDataSource\"},{\"attributes\":{\"dimension\":1,\"plot\":{\"id\":\"4213432d-ab49-4c1a-8abb-0c7dd057bba1\",\"subtype\":\"Figure\",\"type\":\"Plot\"},\"ticker\":{\"id\":\"6c356cb2-c894-400c-92d3-53b20d2d8a04\",\"type\":\"LogTicker\"}},\"id\":\"ba07b31c-36c9-44ce-8067-59dcd62dd5bb\",\"type\":\"Grid\"},{\"attributes\":{\"line_color\":\"#4daf4a\",\"line_width\":1.5,\"x\":{\"field\":\"x\"},\"y\":{\"field\":\"y\"}},\"id\":\"eb7aa2b0-1ba5-43b9-ad5d-324c8b65782b\",\"type\":\"Line\"},{\"attributes\":{},\"id\":\"759a2a63-b841-4da1-b38a-ab976c8d6003\",\"type\":\"UnionRenderers\"},{\"attributes\":{},\"id\":\"70aa51a1-c94b-46b8-9008-bd906d87c15f\",\"type\":\"PanTool\"},{\"attributes\":{},\"id\":\"19437b11-e232-496b-b0ae-c287981c1813\",\"type\":\"HelpTool\"},{\"attributes\":{\"fill_alpha\":{\"value\":0.1},\"fill_color\":{\"value\":\"#1f77b4\"},\"line_alpha\":{\"value\":0.1},\"line_color\":{\"value\":\"#1f77b4\"},\"x\":{\"field\":\"x\"},\"y\":{\"field\":\"y\"}},\"id\":\"4b0fd3cf-6b0e-4d3d-a55e-2362c9862b5a\",\"type\":\"Circle\"},{\"attributes\":{},\"id\":\"07b22b02-01b6-426f-872d-1d74ff42e360\",\"type\":\"Selection\"},{\"attributes\":{\"source\":{\"id\":\"41e0577d-1c15-45fe-a5e6-2bab4fd6eee8\",\"type\":\"ColumnDataSource\"}},\"id\":\"44565de8-d867-47d4-a00b-6fd74454d232\",\"type\":\"CDSView\"},{\"attributes\":{\"above\":[{\"id\":\"a6e27dfb-6bf9-45b4-a4ba-78469c321704\",\"type\":\"Legend\"}],\"below\":[{\"id\":\"8a1480f5-8b52-4383-b612-a20597722092\",\"type\":\"LinearAxis\"}],\"left\":[{\"id\":\"9574034a-3d4a-4b50-bd01-6b8601c8f0c0\",\"type\":\"LinearAxis\"}],\"plot_width\":300,\"renderers\":[{\"id\":\"8a1480f5-8b52-4383-b612-a20597722092\",\"type\":\"LinearAxis\"},{\"id\":\"bbb11d4d-112a-4772-987c-cb9ccee2c58f\",\"type\":\"Grid\"},{\"id\":\"9574034a-3d4a-4b50-bd01-6b8601c8f0c0\",\"type\":\"LinearAxis\"},{\"id\":\"d98898e1-fcc2-4f5b-ae2c-b39089325feb\",\"type\":\"Grid\"},{\"id\":\"f9e29866-03dc-4519-bcd1-cbaa54447e35\",\"type\":\"BoxAnnotation\"},{\"id\":\"7467f0c7-4996-4ccf-8166-7528586ac82b\",\"type\":\"GlyphRenderer\"},{\"id\":\"e8dc62ad-5d65-41a6-a040-e4a2d2a09a14\",\"type\":\"GlyphRenderer\"},{\"id\":\"d5266ec0-3f0f-4b7e-b43f-1f4711d9b0de\",\"type\":\"GlyphRenderer\"},{\"id\":\"2a3d9173-b551-4b25-8490-bfe44d09b89e\",\"type\":\"GlyphRenderer\"},{\"id\":\"497c685c-18fc-4fe9-93db-bf7ff984e7e6\",\"type\":\"GlyphRenderer\"},{\"id\":\"a6e27dfb-6bf9-45b4-a4ba-78469c321704\",\"type\":\"Legend\"}],\"title\":{\"id\":\"3ccb7008-d731-4d68-a6cd-d72a8a21b090\",\"type\":\"Title\"},\"toolbar\":{\"id\":\"3da06dd2-3b4f-442b-9ad0-bc55101ed795\",\"type\":\"Toolbar\"},\"toolbar_location\":null,\"x_range\":{\"id\":\"1fe16ec0-50ea-4e0c-9412-5a6712d1f01e\",\"type\":\"Range1d\"},\"x_scale\":{\"id\":\"8275e3b5-9b7b-4a00-9db0-1480b628fc1b\",\"type\":\"LinearScale\"},\"y_range\":{\"id\":\"407cf558-44ef-4939-9bf6-b41344f295f7\",\"type\":\"Range1d\"},\"y_scale\":{\"id\":\"dbf95112-a72b-4e7a-981f-e7229500b9b5\",\"type\":\"LinearScale\"}},\"id\":\"dc6e9f82-14d2-450d-a7e9-eea83a476d44\",\"subtype\":\"Figure\",\"type\":\"Plot\"},{\"attributes\":{\"active_drag\":\"auto\",\"active_inspect\":\"auto\",\"active_scroll\":\"auto\",\"active_tap\":\"auto\",\"tools\":[{\"id\":\"26e0b7a4-6587-4cc0-ad54-9a27ab23277d\",\"type\":\"PanTool\"},{\"id\":\"9f904a4c-55e7-4495-b65f-bc28dd0d6fee\",\"type\":\"WheelZoomTool\"},{\"id\":\"284671a2-a59f-4661-93d7-f0dd4322d241\",\"type\":\"BoxZoomTool\"},{\"id\":\"bcea7313-c440-4bca-a376-e99d280a4e89\",\"type\":\"SaveTool\"},{\"id\":\"fb9af254-e659-471d-a26d-78468c72e03f\",\"type\":\"ResetTool\"},{\"id\":\"19437b11-e232-496b-b0ae-c287981c1813\",\"type\":\"HelpTool\"}]},\"id\":\"bf064ae6-d56f-4688-b2b6-f2c30e1ae004\",\"type\":\"Toolbar\"},{\"attributes\":{\"axis_label\":\"pressure [mb]\",\"formatter\":{\"id\":\"956fbe12-6bf9-4e0e-afe3-9ba09c1590cb\",\"type\":\"LogTickFormatter\"},\"plot\":{\"id\":\"7d9babed-c5f9-4189-8fae-2ad7c8bc757f\",\"subtype\":\"Figure\",\"type\":\"Plot\"},\"ticker\":{\"id\":\"cee52277-4bfe-442d-bb96-174801794938\",\"type\":\"LogTicker\"}},\"id\":\"b71457ab-ad2c-4d24-b27f-d291935ff6ef\",\"type\":\"LogAxis\"},{\"attributes\":{\"line_alpha\":0.6,\"line_color\":\"#377eb8\",\"line_dash\":[6],\"line_width\":5,\"x\":{\"field\":\"x\"},\"y\":{\"field\":\"y\"}},\"id\":\"d9fb494d-33ae-4d8b-82b3-338b00f52813\",\"type\":\"Line\"},{\"attributes\":{},\"id\":\"6c713fd1-da88-4b03-8bf9-cf5269231c06\",\"type\":\"BasicTickFormatter\"},{\"attributes\":{},\"id\":\"7944ac79-154a-4d63-9d4c-79cc3d003ef2\",\"type\":\"UnionRenderers\"},{\"attributes\":{\"data_source\":{\"id\":\"41e0577d-1c15-45fe-a5e6-2bab4fd6eee8\",\"type\":\"ColumnDataSource\"},\"glyph\":{\"id\":\"1fec85b4-2f8c-409c-8cba-98d47a679092\",\"type\":\"Circle\"},\"hover_glyph\":null,\"muted_glyph\":null,\"nonselection_glyph\":{\"id\":\"4b0fd3cf-6b0e-4d3d-a55e-2362c9862b5a\",\"type\":\"Circle\"},\"selection_glyph\":null,\"view\":{\"id\":\"44565de8-d867-47d4-a00b-6fd74454d232\",\"type\":\"CDSView\"}},\"id\":\"be4bbba8-d972-46c4-b450-03654268ed45\",\"type\":\"GlyphRenderer\"},{\"attributes\":{\"callback\":null,\"data\":{\"x\":{\"__ndarray__\":\"zhhdnl3RU0CKgDdE+dxEQP6f5duhdUFAMJBr6ewEQkAADxZQyK45QBmX3ka8EDZAjl8alnlwL0CeYJlYHKIqQJoaoQNWxSJAwL4t7BozIUBMkS56I6AXQBxPe4ld/BRAnMjiKz2HCkCJCgdQ/WcBQKJTvluRvOg/j/JpYJwB9j+fcxKIKREEQOwUvOtLFw1AV0At7oRoEkD5lECKxjYXQAdydNQ0jR1ACbyvRZLfI0CO3MmPRGApQCcUNq4qNylA6VN9h30SJECRnP+HbGofQDQKaukXmhlAteFC/mL9E0CTDffT91MQQEkVAKh1YwtAqFesCIQRBkATatBMXLz/P4fvYPUXo/Y/tDrQnFTK8T/fneFQ7xLnP14aDQuCJtc/5BrOx2LRzT+fE4V0bnvHP3ueIXamhrA/cWaxNtALrr92uqPyMJK3P6q5+U821+g/ckrZjXL49z/TaxRJZAUAQPzVLij27QFAige8XqaCAEAv4Q7keaX+P0VyKG35kv0/XHVqXZRQ/T/+RskYEAv9PwKD1IjB3fw/JBko3yJ2/D//mRCM5iX7P/btQHcr5vo/xTCcdQr9+j+f/V+tjrf6P0Wt2HvLrvo/9IV/x6br+z/bYX40veD8P8+HZwkyUvw/CkxgoI8l/D8QA+bsYB78P2eu9w7DDvw/khNJm3qS+j8vZ0xHVJ75Py0d1shscPk/NKgVKiiK+T/NNtzstIr5P4ps72zyaPc/TlSpuPUj9j9S2qZu6gj1P2XVmdu6VPQ/t/WgjjEZ9D+np734CoH0P1P4Q57qwfo/\",\"dtype\":\"float64\",\"shape\":[75]},\"y\":{\"__ndarray__\":\"hLndy31yND/6fmq8dJNIP8n9DkWBPlE/aDum7souWD/b4a/JGvVgP9f34SAhymc/ZvM4DOavcD+z0M5pFmh3PxuC4zJuaoA/xjcUPlsHhz8uHAjJAiaQP9ieWRKgppY/oI7HDFTGnz+a5h2n6EimPzS6g9iZQq8/IuAQqtTstT9SSZ2AJsK+P4nS3uALk8U/ih9j7lpCzj+ASL99HTjVP4enV8oyxN0/ACL99nXg5D9fmEwVjErtPyUGgZVDi/Q/AiuHFtnO/D9OYhBYOTQEQPHSTWIQWAxA4XoUrkfhE0D8qfHSTeIbQMh2vp8ajyNArkfhehRuK0Bcj8L1KDwzQFyPwvUo/DpAPgrXo3DtQkDNzMzMzIxKQClcj8L1eFJAKVyPwvVoWECamZmZmVleQGZmZmZmJmJAAAAAAAAgZUCamZmZmRloQJqZmZmZEWtAmpmZmZkJbkCamZmZmYFwQGZmZmZm/nFAZmZmZmZ6c0BmZmZmZvZ0QDQzMzMzc3ZAAAAAAADwd0AAAAAAAGx5QAAAAAAA6HpAzMzMzMxkfEDMzMzMzOB9QM3MzMzMXH9AzczMzMxsgEAzMzMzMyuBQDMzMzMz6YFAMzMzMzOngkCamZmZmWWDQAAAAAAAJIRAAAAAAADihEAAAAAAAKCFQGZmZmZmXoZAzczMzMwch0DNzMzMzNqHQM3MzMzMmIhAMzMzMzNXiUCamZmZmRWKQAAAAAAA1IpAAAAAAACSi0AAAAAAAFCMQGZmZmZmDo1AzczMzMzMjUDNzMzMzIqOQM3MzMzMSI9A\",\"dtype\":\"float64\",\"shape\":[75]}},\"selected\":{\"id\":\"cfc58d36-d0fa-48d1-b710-bbd1fd17a51c\",\"type\":\"Selection\"},\"selection_policy\":{\"id\":\"9abd1419-8f48-47a0-b991-e75c62fd1a6a\",\"type\":\"UnionRenderers\"}},\"id\":\"9d865d60-9560-4356-a4d6-378fe0abf437\",\"type\":\"ColumnDataSource\"},{\"attributes\":{\"num_minor_ticks\":10},\"id\":\"cee52277-4bfe-442d-bb96-174801794938\",\"type\":\"LogTicker\"},{\"attributes\":{\"callback\":null,\"end\":0.01,\"start\":1020},\"id\":\"407cf558-44ef-4939-9bf6-b41344f295f7\",\"type\":\"Range1d\"},{\"attributes\":{\"source\":{\"id\":\"7e014448-92a2-4438-9b36-33054ea2d980\",\"type\":\"ColumnDataSource\"}},\"id\":\"c6595ea9-e05b-4fa0-876e-849e7511ba91\",\"type\":\"CDSView\"},{\"attributes\":{\"children\":[{\"id\":\"0e340e2a-bd98-40e1-900d-d8715ab2b4e0\",\"type\":\"Row\"}]},\"id\":\"51b4e2a1-9d86-479f-a34c-b2e9dcf96a1c\",\"type\":\"Column\"},{\"attributes\":{\"children\":[{\"id\":\"dc6e9f82-14d2-450d-a7e9-eea83a476d44\",\"subtype\":\"Figure\",\"type\":\"Plot\"},{\"id\":\"7d9babed-c5f9-4189-8fae-2ad7c8bc757f\",\"subtype\":\"Figure\",\"type\":\"Plot\"},{\"id\":\"4213432d-ab49-4c1a-8abb-0c7dd057bba1\",\"subtype\":\"Figure\",\"type\":\"Plot\"}]},\"id\":\"0e340e2a-bd98-40e1-900d-d8715ab2b4e0\",\"type\":\"Row\"},{\"attributes\":{},\"id\":\"1d8668db-681c-47ed-bac6-d8c4509ead3e\",\"type\":\"PanTool\"},{\"attributes\":{\"data_source\":{\"id\":\"7e014448-92a2-4438-9b36-33054ea2d980\",\"type\":\"ColumnDataSource\"},\"glyph\":{\"id\":\"76260b7c-2526-4047-badd-beaf8c5b2806\",\"type\":\"Line\"},\"hover_glyph\":null,\"muted_glyph\":null,\"nonselection_glyph\":{\"id\":\"fc24f132-f973-4a93-992e-289a933821ee\",\"type\":\"Line\"},\"selection_glyph\":null,\"view\":{\"id\":\"c6595ea9-e05b-4fa0-876e-849e7511ba91\",\"type\":\"CDSView\"}},\"id\":\"c2f5f8f2-2eb9-4480-9dba-659f0f9a803c\",\"type\":\"GlyphRenderer\"},{\"attributes\":{},\"id\":\"480652e5-19f5-4896-8b58-c99e6ce7349c\",\"type\":\"BasicTickFormatter\"},{\"attributes\":{\"source\":{\"id\":\"7af56066-8e01-4782-9bb3-cf56218dbf4f\",\"type\":\"ColumnDataSource\"}},\"id\":\"1b2376ed-3835-456a-b50e-b0c2f62a48ab\",\"type\":\"CDSView\"},{\"attributes\":{\"line_color\":\"#4daf4a\",\"line_width\":1.5,\"x\":{\"field\":\"x\"},\"y\":{\"field\":\"y\"}},\"id\":\"76260b7c-2526-4047-badd-beaf8c5b2806\",\"type\":\"Line\"},{\"attributes\":{\"fill_alpha\":{\"value\":0.7},\"fill_color\":{\"value\":\"#984ea3\"},\"line_alpha\":{\"value\":0.7},\"line_color\":{\"value\":\"#984ea3\"},\"x\":{\"field\":\"x\"},\"y\":{\"field\":\"y\"}},\"id\":\"a66343de-76a3-40d7-9c90-4dc70912d90e\",\"type\":\"Square\"},{\"attributes\":{\"source\":{\"id\":\"830a61fa-1be8-4395-9ae7-8d08ec5a187c\",\"type\":\"ColumnDataSource\"}},\"id\":\"755e7e59-b44c-4750-a3e1-66922b9c9d1d\",\"type\":\"CDSView\"},{\"attributes\":{\"ticker\":null},\"id\":\"02ab8cf1-0b9e-43f7-a4f1-bcb198b8e675\",\"type\":\"LogTickFormatter\"},{\"attributes\":{\"dimension\":1,\"plot\":{\"id\":\"7d9babed-c5f9-4189-8fae-2ad7c8bc757f\",\"subtype\":\"Figure\",\"type\":\"Plot\"},\"ticker\":{\"id\":\"cee52277-4bfe-442d-bb96-174801794938\",\"type\":\"LogTicker\"}},\"id\":\"e3838867-71e5-407f-a494-5177f16fc090\",\"type\":\"Grid\"},{\"attributes\":{\"line_alpha\":0.1,\"line_color\":\"#1f77b4\",\"line_width\":1.5,\"x\":{\"field\":\"x\"},\"y\":{\"field\":\"y\"}},\"id\":\"fc24f132-f973-4a93-992e-289a933821ee\",\"type\":\"Line\"},{\"attributes\":{\"tools\":[{\"id\":\"70aa51a1-c94b-46b8-9008-bd906d87c15f\",\"type\":\"PanTool\"},{\"id\":\"b82460da-b8bb-413d-a6f2-1e29de3a1dcc\",\"type\":\"WheelZoomTool\"},{\"id\":\"049a26b2-2c30-414c-9a5a-4111f427e329\",\"type\":\"BoxZoomTool\"},{\"id\":\"fcc5f298-68d3-4d6f-9da6-378312b04ad0\",\"type\":\"SaveTool\"},{\"id\":\"b55916b1-60ea-4571-823b-d86602089dd3\",\"type\":\"ResetTool\"},{\"id\":\"4a92218a-0d1f-43c7-a764-f794c10052c9\",\"type\":\"HelpTool\"},{\"id\":\"1d8668db-681c-47ed-bac6-d8c4509ead3e\",\"type\":\"PanTool\"},{\"id\":\"83d8c14b-a075-4b31-9df5-3d0439db8c8b\",\"type\":\"WheelZoomTool\"},{\"id\":\"7d052988-074d-4e10-bfda-6f7ab8433128\",\"type\":\"BoxZoomTool\"},{\"id\":\"48290f6b-98ff-4c73-858c-e107ea2854be\",\"type\":\"SaveTool\"},{\"id\":\"ce069e37-e448-4489-98cf-44e27e1165bb\",\"type\":\"ResetTool\"},{\"id\":\"cdacc9be-7b1c-47d8-bed6-7e8ddc2062c2\",\"type\":\"HelpTool\"},{\"id\":\"26e0b7a4-6587-4cc0-ad54-9a27ab23277d\",\"type\":\"PanTool\"},{\"id\":\"9f904a4c-55e7-4495-b65f-bc28dd0d6fee\",\"type\":\"WheelZoomTool\"},{\"id\":\"284671a2-a59f-4661-93d7-f0dd4322d241\",\"type\":\"BoxZoomTool\"},{\"id\":\"bcea7313-c440-4bca-a376-e99d280a4e89\",\"type\":\"SaveTool\"},{\"id\":\"fb9af254-e659-471d-a26d-78468c72e03f\",\"type\":\"ResetTool\"},{\"id\":\"19437b11-e232-496b-b0ae-c287981c1813\",\"type\":\"HelpTool\"}]},\"id\":\"c2c2fbc6-26ec-43ef-b3ee-2a58ac115836\",\"type\":\"ProxyToolbar\"},{\"attributes\":{\"callback\":null,\"data\":{\"x\":{\"__ndarray__\":\"zhhdnl3RU0CKgDdE+dxEQP6f5duhdUFAMJBr6ewEQkAADxZQyK45QBmX3ka8EDZAjl8alnlwL0CeYJlYHKIqQJoaoQNWxSJAwL4t7BozIUBMkS56I6AXQBxPe4ld/BRAnMjiKz2HCkCJCgdQ/WcBQKJTvluRvOg/j/JpYJwB9j+fcxKIKREEQOwUvOtLFw1AV0At7oRoEkD5lECKxjYXQAdydNQ0jR1ACbyvRZLfI0CO3MmPRGApQCcUNq4qNylA6VN9h30SJECRnP+HbGofQDQKaukXmhlAteFC/mL9E0CTDffT91MQQEkVAKh1YwtAqFesCIQRBkATatBMXLz/P4fvYPUXo/Y/tDrQnFTK8T/fneFQ7xLnP14aDQuCJtc/5BrOx2LRzT+fE4V0bnvHP3ueIXamhrA/cWaxNtALrr92uqPyMJK3P6q5+U821+g/ckrZjXL49z/TaxRJZAUAQPzVLij27QFAige8XqaCAEAv4Q7keaX+P0VyKG35kv0/XHVqXZRQ/T/+RskYEAv9PwKD1IjB3fw/JBko3yJ2/D//mRCM5iX7P/btQHcr5vo/xTCcdQr9+j+f/V+tjrf6P0Wt2HvLrvo/9IV/x6br+z/bYX40veD8P8+HZwkyUvw/CkxgoI8l/D8QA+bsYB78P2eu9w7DDvw/khNJm3qS+j8vZ0xHVJ75Py0d1shscPk/NKgVKiiK+T/NNtzstIr5P4ps72zyaPc/TlSpuPUj9j9S2qZu6gj1P2XVmdu6VPQ/t/WgjjEZ9D+np734CoH0P1P4Q57qwfo/\",\"dtype\":\"float64\",\"shape\":[75]},\"y\":{\"__ndarray__\":\"hLndy31yND/6fmq8dJNIP8n9DkWBPlE/aDum7souWD/b4a/JGvVgP9f34SAhymc/ZvM4DOavcD+z0M5pFmh3PxuC4zJuaoA/xjcUPlsHhz8uHAjJAiaQP9ieWRKgppY/oI7HDFTGnz+a5h2n6EimPzS6g9iZQq8/IuAQqtTstT9SSZ2AJsK+P4nS3uALk8U/ih9j7lpCzj+ASL99HTjVP4enV8oyxN0/ACL99nXg5D9fmEwVjErtPyUGgZVDi/Q/AiuHFtnO/D9OYhBYOTQEQPHSTWIQWAxA4XoUrkfhE0D8qfHSTeIbQMh2vp8ajyNArkfhehRuK0Bcj8L1KDwzQFyPwvUo/DpAPgrXo3DtQkDNzMzMzIxKQClcj8L1eFJAKVyPwvVoWECamZmZmVleQGZmZmZmJmJAAAAAAAAgZUCamZmZmRloQJqZmZmZEWtAmpmZmZkJbkCamZmZmYFwQGZmZmZm/nFAZmZmZmZ6c0BmZmZmZvZ0QDQzMzMzc3ZAAAAAAADwd0AAAAAAAGx5QAAAAAAA6HpAzMzMzMxkfEDMzMzMzOB9QM3MzMzMXH9AzczMzMxsgEAzMzMzMyuBQDMzMzMz6YFAMzMzMzOngkCamZmZmWWDQAAAAAAAJIRAAAAAAADihEAAAAAAAKCFQGZmZmZmXoZAzczMzMwch0DNzMzMzNqHQM3MzMzMmIhAMzMzMzNXiUCamZmZmRWKQAAAAAAA1IpAAAAAAACSi0AAAAAAAFCMQGZmZmZmDo1AzczMzMzMjUDNzMzMzIqOQM3MzMzMSI9A\",\"dtype\":\"float64\",\"shape\":[75]}},\"selected\":{\"id\":\"176528b4-0ed1-4fae-b130-ad73c9b09776\",\"type\":\"Selection\"},\"selection_policy\":{\"id\":\"9bbb5453-63f0-49d2-8b76-3a02335e64b7\",\"type\":\"UnionRenderers\"}},\"id\":\"830a61fa-1be8-4395-9ae7-8d08ec5a187c\",\"type\":\"ColumnDataSource\"},{\"attributes\":{\"bottom_units\":\"screen\",\"fill_alpha\":{\"value\":0.5},\"fill_color\":{\"value\":\"lightgrey\"},\"left_units\":\"screen\",\"level\":\"overlay\",\"line_alpha\":{\"value\":1.0},\"line_color\":{\"value\":\"black\"},\"line_dash\":[4,4],\"line_width\":{\"value\":2},\"plot\":null,\"render_mode\":\"css\",\"right_units\":\"screen\",\"top_units\":\"screen\"},\"id\":\"70489f05-149a-4977-95a8-716dd479d2d5\",\"type\":\"BoxAnnotation\"},{\"attributes\":{\"data_source\":{\"id\":\"830a61fa-1be8-4395-9ae7-8d08ec5a187c\",\"type\":\"ColumnDataSource\"},\"glyph\":{\"id\":\"a66343de-76a3-40d7-9c90-4dc70912d90e\",\"type\":\"Square\"},\"hover_glyph\":null,\"muted_glyph\":null,\"nonselection_glyph\":{\"id\":\"133a1612-d2be-4672-8787-a4186f9c1e30\",\"type\":\"Square\"},\"selection_glyph\":null,\"view\":{\"id\":\"755e7e59-b44c-4750-a3e1-66922b9c9d1d\",\"type\":\"CDSView\"}},\"id\":\"2a3d9173-b551-4b25-8490-bfe44d09b89e\",\"type\":\"GlyphRenderer\"},{\"attributes\":{\"fill_alpha\":{\"value\":0.1},\"fill_color\":{\"value\":\"#1f77b4\"},\"line_alpha\":{\"value\":0.1},\"line_color\":{\"value\":\"#1f77b4\"},\"x\":{\"field\":\"x\"},\"y\":{\"field\":\"y\"}},\"id\":\"133a1612-d2be-4672-8787-a4186f9c1e30\",\"type\":\"Square\"},{\"attributes\":{\"data_source\":{\"id\":\"73e3121c-d41f-4080-aaa0-c655f968bbab\",\"type\":\"ColumnDataSource\"},\"glyph\":{\"id\":\"d9fb494d-33ae-4d8b-82b3-338b00f52813\",\"type\":\"Line\"},\"hover_glyph\":null,\"muted_glyph\":null,\"nonselection_glyph\":{\"id\":\"e867d358-bc1e-4edd-af9d-b0a1a10fb18d\",\"type\":\"Line\"},\"selection_glyph\":null,\"view\":{\"id\":\"1875162a-4482-41ac-86a3-a54ae43a9ef5\",\"type\":\"CDSView\"}},\"id\":\"7467f0c7-4996-4ccf-8166-7528586ac82b\",\"type\":\"GlyphRenderer\"},{\"attributes\":{\"toolbar\":{\"id\":\"c2c2fbc6-26ec-43ef-b3ee-2a58ac115836\",\"type\":\"ProxyToolbar\"},\"toolbar_location\":\"above\"},\"id\":\"426216c9-10c7-43a2-8ce7-53883f1b27d4\",\"type\":\"ToolbarBox\"},{\"attributes\":{\"line_alpha\":0.1,\"line_color\":\"#1f77b4\",\"line_dash\":[6],\"line_width\":5,\"x\":{\"field\":\"x\"},\"y\":{\"field\":\"y\"}},\"id\":\"e867d358-bc1e-4edd-af9d-b0a1a10fb18d\",\"type\":\"Line\"},{\"attributes\":{\"line_alpha\":0.5,\"line_color\":\"#984ea3\",\"line_width\":1.5,\"x\":{\"field\":\"x\"},\"y\":{\"field\":\"y\"}},\"id\":\"4afa8401-342f-448f-90bc-fd13cc30d8c2\",\"type\":\"Line\"},{\"attributes\":{\"callback\":null,\"data\":{\"x\":{\"__ndarray__\":\"cm1sTMT3VEDEyvjosEJHQOKI6DjzCUNArgQWV9awPkB9Lm8XG3M4QEz+Qv6iYzNA7eV8HaPLLkCX1QHyTpMoQFBmYSYetiNAUB04GtGpH0AmFyVE5j8ZQJca9QPGqBNALJP+OOHHDEBNxaf7QF8AQKtislomWuw/cW2dcO6A9T/uJJvfPu0EQIaQLTI/JQ1AxGiII+PmEkCJvfVeuCsYQD6ZBhGbHB9AXQw69DTYJEAsubcwKucqQNuT9D5OmipAJyi3szEJJUBlNebh5WkgQDDcPHBr2xlArtlANXuQFEBdJadFHckQQI2Avh0ZsQtAjYiwt1rsBUCL0SDoVBgAQK6C0nEEjvc/CggLSme58T9sXU2orFPnP0v0JYz9Gdg/vT38vxYczD9nBQTe6kHHP1IhkEXJwKo/8OZnhCVAub+xtVgCpmqzP6DUpY6g0+k/PKK3T1h4+D8RTDjQc1EAQG/dAQs7TwJAQt2eHpPLAEBWEh074x//PyCap9ZSGf4/rEzaTySm/T+7aXhHRmr9P688KeqeNP0/ruZ4EemD/D8olrZcn9T7P0+vNc9hW/s/i9VVL+4P+z+0NzC24uz6P8731Kza8vo/xFf4SHzq+z+gYyHpvHb8P68ROkiFevw/BAjYdCga/D8AUp8VbW77P3JrF/nKmvo/qCQeGfq++T/dplwHJfn4P2G4p+Uva/g/OzZ0RqMZ+D8dmn/iar73P/OuA7Ka8PY/gaaeQHGn9T9hkyjAH1L0P3aZGhdAU/M/n8VP/g7P8j+90HxHNvfyPwhNBtgrqvk/\",\"dtype\":\"float64\",\"shape\":[75]},\"y\":{\"__ndarray__\":\"GhExyth1ND/Sv8nbtpRIP2vylNV0PVE/aTum7souWD/At0SJ8fVgPw3Iuahxymc/MSNhhJWvcD/bTfBN02d3P2zb5nxnaoA/CD5h5MAGhz8NmeH1TyaQP+zrCsc9p5Y/LbKd76fGnz/bLW5ISEmmPww9YvTcQq8/JV2OstnstT8Er5Y7M8G+P0c+r3jqkcU/5h99k6ZBzj88bCIzFzjVP4enV8oyxN0//yH99nXg5D8qOpLLf0jtP5kqGJXUifQ/c9cS8kHP/D+/DpwzojQEQIEmwoanVwxA4lgXt9HgE0BSSZ2AJuIbQAMJih9jjiNA5q4l5INuK0AwTKYKRj0zQNv5fmq8/DpAaCJseHrtQkB/+zpwzoxKQM3MzMzMeFJAZmZmZmZqWEAAAAAAAFxeQM3MzMzMJmJAmpmZmZkfZUBmZmZmZhhoQDMzMzMzEWtAAAAAAAAKbkBmZmZmZoFwQM3MzMzM/XFAMzMzMzN6c0CamZmZmfZ0QAAAAAAAc3ZAZmZmZmbvd0DNzMzMzGt5QDMzMzMz6HpAmpmZmZlkfEAAAAAAAOF9QGZmZmZmXX9AZmZmZuZsgECamZmZGSuBQM3MzMxM6YFAAAAAAICngkAzMzMzs2WDQGZmZmbmI4RAmpmZmRnihEDNzMzMTKCFQAAAAACAXoZAMzMzM7Mch0BmZmZm5tqHQJqZmZkZmYhAzczMzExXiUAAAAAAgBWKQDMzMzOz04pAZmZmZuaRi0CamZmZGVCMQM3MzMxMDo1AAAAAAIDMjUAzMzMzs4qOQGZmZmbmSI9A\",\"dtype\":\"float64\",\"shape\":[75]}},\"selected\":{\"id\":\"a29ab71f-19f9-4bb2-b168-42458453fd7f\",\"type\":\"Selection\"},\"selection_policy\":{\"id\":\"04daa572-6cc5-4a00-af76-9dedfa7937de\",\"type\":\"UnionRenderers\"}},\"id\":\"7e014448-92a2-4438-9b36-33054ea2d980\",\"type\":\"ColumnDataSource\"},{\"attributes\":{\"source\":{\"id\":\"ce5b2299-805b-4c9b-92bc-1e6b7055545b\",\"type\":\"ColumnDataSource\"}},\"id\":\"040f29e4-aa4e-43ab-a7e6-e3733ca25ab8\",\"type\":\"CDSView\"},{\"attributes\":{\"items\":[{\"id\":\"c447ce24-2c91-4e56-81e2-d85a9642f44c\",\"type\":\"LegendItem\"},{\"id\":\"5c853cf7-484c-48cb-81d9-fb3e7ef41898\",\"type\":\"LegendItem\"},{\"id\":\"a794faa6-3218-4b3a-9e33-8f72fac6c6dd\",\"type\":\"LegendItem\"}],\"label_text_font_size\":{\"value\":\"8pt\"},\"location\":\"top_center\",\"orientation\":\"horizontal\",\"plot\":{\"id\":\"dc6e9f82-14d2-450d-a7e9-eea83a476d44\",\"subtype\":\"Figure\",\"type\":\"Plot\"}},\"id\":\"a6e27dfb-6bf9-45b4-a4ba-78469c321704\",\"type\":\"Legend\"},{\"attributes\":{\"line_alpha\":0.5,\"line_color\":\"#984ea3\",\"line_width\":1.5,\"x\":{\"field\":\"x\"},\"y\":{\"field\":\"y\"}},\"id\":\"e441233c-1502-48da-a62c-d9413a719800\",\"type\":\"Line\"},{\"attributes\":{\"overlay\":{\"id\":\"e66eeb8d-c700-4436-b4e9-0f7f8ae7fe39\",\"type\":\"BoxAnnotation\"}},\"id\":\"7d052988-074d-4e10-bfda-6f7ab8433128\",\"type\":\"BoxZoomTool\"},{\"attributes\":{\"line_alpha\":0.1,\"line_color\":\"#1f77b4\",\"line_dash\":[6],\"line_width\":4,\"x\":{\"field\":\"x\"},\"y\":{\"field\":\"y\"}},\"id\":\"4dc06c7e-dc9e-45e6-baf1-5735c1d2ede0\",\"type\":\"Line\"},{\"attributes\":{},\"id\":\"83d8c14b-a075-4b31-9df5-3d0439db8c8b\",\"type\":\"WheelZoomTool\"},{\"attributes\":{\"callback\":null,\"data\":{\"x\":{\"__ndarray__\":\"zhhdnl3RU0CKgDdE+dxEQP6f5duhdUFAMJBr6ewEQkAADxZQyK45QBmX3ka8EDZAjl8alnlwL0CeYJlYHKIqQJoaoQNWxSJAwL4t7BozIUBMkS56I6AXQBxPe4ld/BRAnMjiKz2HCkCJCgdQ/WcBQKJTvluRvOg/j/JpYJwB9j+fcxKIKREEQOwUvOtLFw1AV0At7oRoEkD5lECKxjYXQAdydNQ0jR1ACbyvRZLfI0CO3MmPRGApQCcUNq4qNylA6VN9h30SJECRnP+HbGofQDQKaukXmhlAteFC/mL9E0CTDffT91MQQEkVAKh1YwtAqFesCIQRBkATatBMXLz/P4fvYPUXo/Y/tDrQnFTK8T/fneFQ7xLnP14aDQuCJtc/5BrOx2LRzT+fE4V0bnvHP3ueIXamhrA/cWaxNtALrr92uqPyMJK3P6q5+U821+g/ckrZjXL49z/TaxRJZAUAQPzVLij27QFAige8XqaCAEAv4Q7keaX+P0VyKG35kv0/XHVqXZRQ/T/+RskYEAv9PwKD1IjB3fw/JBko3yJ2/D//mRCM5iX7P/btQHcr5vo/xTCcdQr9+j+f/V+tjrf6P0Wt2HvLrvo/9IV/x6br+z/bYX40veD8P8+HZwkyUvw/CkxgoI8l/D8QA+bsYB78P2eu9w7DDvw/khNJm3qS+j8vZ0xHVJ75Py0d1shscPk/NKgVKiiK+T/NNtzstIr5P4ps72zyaPc/TlSpuPUj9j9S2qZu6gj1P2XVmdu6VPQ/t/WgjjEZ9D+np734CoH0P1P4Q57qwfo/\",\"dtype\":\"float64\",\"shape\":[75]},\"y\":{\"__ndarray__\":\"hLndy31yND/6fmq8dJNIP8n9DkWBPlE/aDum7souWD/b4a/JGvVgP9f34SAhymc/ZvM4DOavcD+z0M5pFmh3PxuC4zJuaoA/xjcUPlsHhz8uHAjJAiaQP9ieWRKgppY/oI7HDFTGnz+a5h2n6EimPzS6g9iZQq8/IuAQqtTstT9SSZ2AJsK+P4nS3uALk8U/ih9j7lpCzj+ASL99HTjVP4enV8oyxN0/ACL99nXg5D9fmEwVjErtPyUGgZVDi/Q/AiuHFtnO/D9OYhBYOTQEQPHSTWIQWAxA4XoUrkfhE0D8qfHSTeIbQMh2vp8ajyNArkfhehRuK0Bcj8L1KDwzQFyPwvUo/DpAPgrXo3DtQkDNzMzMzIxKQClcj8L1eFJAKVyPwvVoWECamZmZmVleQGZmZmZmJmJAAAAAAAAgZUCamZmZmRloQJqZmZmZEWtAmpmZmZkJbkCamZmZmYFwQGZmZmZm/nFAZmZmZmZ6c0BmZmZmZvZ0QDQzMzMzc3ZAAAAAAADwd0AAAAAAAGx5QAAAAAAA6HpAzMzMzMxkfEDMzMzMzOB9QM3MzMzMXH9AzczMzMxsgEAzMzMzMyuBQDMzMzMz6YFAMzMzMzOngkCamZmZmWWDQAAAAAAAJIRAAAAAAADihEAAAAAAAKCFQGZmZmZmXoZAzczMzMwch0DNzMzMzNqHQM3MzMzMmIhAMzMzMzNXiUCamZmZmRWKQAAAAAAA1IpAAAAAAACSi0AAAAAAAFCMQGZmZmZmDo1AzczMzMzMjUDNzMzMzIqOQM3MzMzMSI9A\",\"dtype\":\"float64\",\"shape\":[75]}},\"selected\":{\"id\":\"3ed265e3-e81e-45aa-990a-e055d4e1b776\",\"type\":\"Selection\"},\"selection_policy\":{\"id\":\"1279f4f5-f4b8-4372-8344-eb112a3774d3\",\"type\":\"UnionRenderers\"}},\"id\":\"ce5b2299-805b-4c9b-92bc-1e6b7055545b\",\"type\":\"ColumnDataSource\"},{\"attributes\":{\"source\":{\"id\":\"fec00592-d0a1-4aff-a717-5df597229e9e\",\"type\":\"ColumnDataSource\"}},\"id\":\"eb350248-16a3-433d-99c0-70de97e8f89c\",\"type\":\"CDSView\"},{\"attributes\":{\"above\":[{\"id\":\"c017b07f-cb6d-46e4-810e-b54a2b3f99a6\",\"type\":\"Legend\"}],\"below\":[{\"id\":\"e96a0062-0ebf-467e-91f3-d2a04b8c12c6\",\"type\":\"LinearAxis\"}],\"left\":[{\"id\":\"b71457ab-ad2c-4d24-b27f-d291935ff6ef\",\"type\":\"LogAxis\"}],\"plot_width\":300,\"renderers\":[{\"id\":\"e96a0062-0ebf-467e-91f3-d2a04b8c12c6\",\"type\":\"LinearAxis\"},{\"id\":\"6faed178-3b46-4a71-bec4-8b7f39179350\",\"type\":\"Grid\"},{\"id\":\"b71457ab-ad2c-4d24-b27f-d291935ff6ef\",\"type\":\"LogAxis\"},{\"id\":\"e3838867-71e5-407f-a494-5177f16fc090\",\"type\":\"Grid\"},{\"id\":\"e66eeb8d-c700-4436-b4e9-0f7f8ae7fe39\",\"type\":\"BoxAnnotation\"},{\"id\":\"1ae09172-b808-4791-9d63-9f58261de1f1\",\"type\":\"GlyphRenderer\"},{\"id\":\"be4bbba8-d972-46c4-b450-03654268ed45\",\"type\":\"GlyphRenderer\"},{\"id\":\"c2f5f8f2-2eb9-4480-9dba-659f0f9a803c\",\"type\":\"GlyphRenderer\"},{\"id\":\"6f5c9a79-878f-497d-8a83-1ad56ffc5ccd\",\"type\":\"GlyphRenderer\"},{\"id\":\"659acd64-e4c3-4a31-bb95-a1f66851925d\",\"type\":\"GlyphRenderer\"},{\"id\":\"c017b07f-cb6d-46e4-810e-b54a2b3f99a6\",\"type\":\"Legend\"}],\"title\":{\"id\":\"717da141-ed7b-4eb6-80dd-04a52d99b2d3\",\"type\":\"Title\"},\"toolbar\":{\"id\":\"1ffc1885-6cc8-4fde-9613-1daebfbf5d0f\",\"type\":\"Toolbar\"},\"toolbar_location\":null,\"x_range\":{\"id\":\"a02d458f-9326-4d3d-ad13-4f14e545b786\",\"type\":\"Range1d\"},\"x_scale\":{\"id\":\"83313e31-d329-4cb7-b0c4-664020be8a24\",\"type\":\"LinearScale\"},\"y_range\":{\"id\":\"ae3106e1-2251-478a-b255-9980e7d9c317\",\"type\":\"Range1d\"},\"y_scale\":{\"id\":\"cfe2a311-7beb-4f84-86eb-5bedabe934c3\",\"type\":\"LogScale\"}},\"id\":\"7d9babed-c5f9-4189-8fae-2ad7c8bc757f\",\"subtype\":\"Figure\",\"type\":\"Plot\"},{\"attributes\":{\"line_alpha\":0.1,\"line_color\":\"#1f77b4\",\"line_width\":1.5,\"x\":{\"field\":\"x\"},\"y\":{\"field\":\"y\"}},\"id\":\"d82678e4-82b5-4e92-8c66-75eea396697b\",\"type\":\"Line\"},{\"attributes\":{},\"id\":\"bcea7313-c440-4bca-a376-e99d280a4e89\",\"type\":\"SaveTool\"},{\"attributes\":{},\"id\":\"d7db0f3a-cca1-4669-9f75-6e4eec1fe9f4\",\"type\":\"BasicTickFormatter\"},{\"attributes\":{\"active_drag\":\"auto\",\"active_inspect\":\"auto\",\"active_scroll\":\"auto\",\"active_tap\":\"auto\",\"tools\":[{\"id\":\"70aa51a1-c94b-46b8-9008-bd906d87c15f\",\"type\":\"PanTool\"},{\"id\":\"b82460da-b8bb-413d-a6f2-1e29de3a1dcc\",\"type\":\"WheelZoomTool\"},{\"id\":\"049a26b2-2c30-414c-9a5a-4111f427e329\",\"type\":\"BoxZoomTool\"},{\"id\":\"fcc5f298-68d3-4d6f-9da6-378312b04ad0\",\"type\":\"SaveTool\"},{\"id\":\"b55916b1-60ea-4571-823b-d86602089dd3\",\"type\":\"ResetTool\"},{\"id\":\"4a92218a-0d1f-43c7-a764-f794c10052c9\",\"type\":\"HelpTool\"}]},\"id\":\"3da06dd2-3b4f-442b-9ad0-bc55101ed795\",\"type\":\"Toolbar\"},{\"attributes\":{\"fill_alpha\":{\"value\":0.7},\"fill_color\":{\"value\":\"#984ea3\"},\"line_alpha\":{\"value\":0.7},\"line_color\":{\"value\":\"#984ea3\"},\"x\":{\"field\":\"x\"},\"y\":{\"field\":\"y\"}},\"id\":\"4ece9e90-707e-40df-8469-79f66774fbc5\",\"type\":\"Circle\"},{\"attributes\":{},\"id\":\"dbf95112-a72b-4e7a-981f-e7229500b9b5\",\"type\":\"LinearScale\"},{\"attributes\":{},\"id\":\"cdacc9be-7b1c-47d8-bed6-7e8ddc2062c2\",\"type\":\"HelpTool\"},{\"attributes\":{\"source\":{\"id\":\"0ce5daa2-caf9-47bb-8a44-02477a0b15d9\",\"type\":\"ColumnDataSource\"}},\"id\":\"cfb83c55-14dd-45eb-ac27-47c0854347a9\",\"type\":\"CDSView\"},{\"attributes\":{\"data_source\":{\"id\":\"0ce5daa2-caf9-47bb-8a44-02477a0b15d9\",\"type\":\"ColumnDataSource\"},\"glyph\":{\"id\":\"4313ce54-eec1-4026-a4ec-1667923bf1bb\",\"type\":\"Line\"},\"hover_glyph\":null,\"muted_glyph\":null,\"nonselection_glyph\":{\"id\":\"0fca5019-fd06-4ed5-a9cb-98c4f1ceda5a\",\"type\":\"Line\"},\"selection_glyph\":null,\"view\":{\"id\":\"cfb83c55-14dd-45eb-ac27-47c0854347a9\",\"type\":\"CDSView\"}},\"id\":\"bae3e72a-00ec-463e-973e-a6126dae97eb\",\"type\":\"GlyphRenderer\"},{\"attributes\":{\"source\":{\"id\":\"6107f603-7218-4133-becd-997e98a44a3a\",\"type\":\"ColumnDataSource\"}},\"id\":\"a1c77aa6-305e-4610-8655-52d2c9a1be57\",\"type\":\"CDSView\"},{\"attributes\":{},\"id\":\"e6a2c6cf-0f3c-46eb-bbc9-5da7e67704e5\",\"type\":\"Selection\"},{\"attributes\":{\"plot\":null,\"text\":\"\"},\"id\":\"717da141-ed7b-4eb6-80dd-04a52d99b2d3\",\"type\":\"Title\"},{\"attributes\":{\"data_source\":{\"id\":\"7af56066-8e01-4782-9bb3-cf56218dbf4f\",\"type\":\"ColumnDataSource\"},\"glyph\":{\"id\":\"4ece9e90-707e-40df-8469-79f66774fbc5\",\"type\":\"Circle\"},\"hover_glyph\":null,\"muted_glyph\":null,\"nonselection_glyph\":{\"id\":\"2a8db922-8309-470a-9719-aa53a86f3d42\",\"type\":\"Circle\"},\"selection_glyph\":null,\"view\":{\"id\":\"1b2376ed-3835-456a-b50e-b0c2f62a48ab\",\"type\":\"CDSView\"}},\"id\":\"cf6dda05-8267-44a7-8d7b-f91af23e0196\",\"type\":\"GlyphRenderer\"},{\"attributes\":{\"fill_alpha\":{\"value\":0.7},\"fill_color\":{\"value\":\"#984ea3\"},\"line_alpha\":{\"value\":0.7},\"line_color\":{\"value\":\"#984ea3\"},\"x\":{\"field\":\"x\"},\"y\":{\"field\":\"y\"}},\"id\":\"06aa64b5-c4b9-420e-b162-00ef731ecb96\",\"type\":\"Square\"},{\"attributes\":{\"data_source\":{\"id\":\"6107f603-7218-4133-becd-997e98a44a3a\",\"type\":\"ColumnDataSource\"},\"glyph\":{\"id\":\"ab3f3dd6-9d53-494d-b4b7-bfdc7ccb687f\",\"type\":\"Line\"},\"hover_glyph\":null,\"muted_glyph\":null,\"nonselection_glyph\":{\"id\":\"11350234-d3c0-40b4-8aed-9d4d337b780b\",\"type\":\"Line\"},\"selection_glyph\":null,\"view\":{\"id\":\"a1c77aa6-305e-4610-8655-52d2c9a1be57\",\"type\":\"CDSView\"}},\"id\":\"1ae09172-b808-4791-9d63-9f58261de1f1\",\"type\":\"GlyphRenderer\"},{\"attributes\":{},\"id\":\"ce069e37-e448-4489-98cf-44e27e1165bb\",\"type\":\"ResetTool\"},{\"attributes\":{\"data_source\":{\"id\":\"fec00592-d0a1-4aff-a717-5df597229e9e\",\"type\":\"ColumnDataSource\"},\"glyph\":{\"id\":\"e441233c-1502-48da-a62c-d9413a719800\",\"type\":\"Line\"},\"hover_glyph\":null,\"muted_glyph\":null,\"nonselection_glyph\":{\"id\":\"d82678e4-82b5-4e92-8c66-75eea396697b\",\"type\":\"Line\"},\"selection_glyph\":null,\"view\":{\"id\":\"eb350248-16a3-433d-99c0-70de97e8f89c\",\"type\":\"CDSView\"}},\"id\":\"659acd64-e4c3-4a31-bb95-a1f66851925d\",\"type\":\"GlyphRenderer\"},{\"attributes\":{\"fill_alpha\":{\"value\":0.1},\"fill_color\":{\"value\":\"#1f77b4\"},\"line_alpha\":{\"value\":0.1},\"line_color\":{\"value\":\"#1f77b4\"},\"x\":{\"field\":\"x\"},\"y\":{\"field\":\"y\"}},\"id\":\"b31c0140-1c46-4d2d-83f2-d8024e05aca7\",\"type\":\"Square\"},{\"attributes\":{},\"id\":\"9abd1419-8f48-47a0-b991-e75c62fd1a6a\",\"type\":\"UnionRenderers\"},{\"attributes\":{\"line_alpha\":0.1,\"line_color\":\"#1f77b4\",\"line_width\":1.5,\"x\":{\"field\":\"x\"},\"y\":{\"field\":\"y\"}},\"id\":\"0fca5019-fd06-4ed5-a9cb-98c4f1ceda5a\",\"type\":\"Line\"},{\"attributes\":{},\"id\":\"9bbb5453-63f0-49d2-8b76-3a02335e64b7\",\"type\":\"UnionRenderers\"},{\"attributes\":{\"callback\":null,\"data\":{\"x\":{\"__ndarray__\":\"zhhdnl3RU0CKgDdE+dxEQP6f5duhdUFAMJBr6ewEQkAADxZQyK45QBmX3ka8EDZAjl8alnlwL0CeYJlYHKIqQJoaoQNWxSJAwL4t7BozIUBMkS56I6AXQBxPe4ld/BRAnMjiKz2HCkCJCgdQ/WcBQKJTvluRvOg/j/JpYJwB9j+fcxKIKREEQOwUvOtLFw1AV0At7oRoEkD5lECKxjYXQAdydNQ0jR1ACbyvRZLfI0CO3MmPRGApQCcUNq4qNylA6VN9h30SJECRnP+HbGofQDQKaukXmhlAteFC/mL9E0CTDffT91MQQEkVAKh1YwtAqFesCIQRBkATatBMXLz/P4fvYPUXo/Y/tDrQnFTK8T/fneFQ7xLnP14aDQuCJtc/5BrOx2LRzT+fE4V0bnvHP3ueIXamhrA/cWaxNtALrr92uqPyMJK3P6q5+U821+g/ckrZjXL49z/TaxRJZAUAQPzVLij27QFAige8XqaCAEAv4Q7keaX+P0VyKG35kv0/XHVqXZRQ/T/+RskYEAv9PwKD1IjB3fw/JBko3yJ2/D//mRCM5iX7P/btQHcr5vo/xTCcdQr9+j+f/V+tjrf6P0Wt2HvLrvo/9IV/x6br+z/bYX40veD8P8+HZwkyUvw/CkxgoI8l/D8QA+bsYB78P2eu9w7DDvw/khNJm3qS+j8vZ0xHVJ75Py0d1shscPk/NKgVKiiK+T/NNtzstIr5P4ps72zyaPc/TlSpuPUj9j9S2qZu6gj1P2XVmdu6VPQ/t/WgjjEZ9D+np734CoH0P1P4Q57qwfo/\",\"dtype\":\"float64\",\"shape\":[75]},\"y\":{\"__ndarray__\":\"hLndy31yND/6fmq8dJNIP8n9DkWBPlE/aDum7souWD/b4a/JGvVgP9f34SAhymc/ZvM4DOavcD+z0M5pFmh3PxuC4zJuaoA/xjcUPlsHhz8uHAjJAiaQP9ieWRKgppY/oI7HDFTGnz+a5h2n6EimPzS6g9iZQq8/IuAQqtTstT9SSZ2AJsK+P4nS3uALk8U/ih9j7lpCzj+ASL99HTjVP4enV8oyxN0/ACL99nXg5D9fmEwVjErtPyUGgZVDi/Q/AiuHFtnO/D9OYhBYOTQEQPHSTWIQWAxA4XoUrkfhE0D8qfHSTeIbQMh2vp8ajyNArkfhehRuK0Bcj8L1KDwzQFyPwvUo/DpAPgrXo3DtQkDNzMzMzIxKQClcj8L1eFJAKVyPwvVoWECamZmZmVleQGZmZmZmJmJAAAAAAAAgZUCamZmZmRloQJqZmZmZEWtAmpmZmZkJbkCamZmZmYFwQGZmZmZm/nFAZmZmZmZ6c0BmZmZmZvZ0QDQzMzMzc3ZAAAAAAADwd0AAAAAAAGx5QAAAAAAA6HpAzMzMzMxkfEDMzMzMzOB9QM3MzMzMXH9AzczMzMxsgEAzMzMzMyuBQDMzMzMz6YFAMzMzMzOngkCamZmZmWWDQAAAAAAAJIRAAAAAAADihEAAAAAAAKCFQGZmZmZmXoZAzczMzMwch0DNzMzMzNqHQM3MzMzMmIhAMzMzMzNXiUCamZmZmRWKQAAAAAAA1IpAAAAAAACSi0AAAAAAAFCMQGZmZmZmDo1AzczMzMzMjUDNzMzMzIqOQM3MzMzMSI9A\",\"dtype\":\"float64\",\"shape\":[75]}},\"selected\":{\"id\":\"eb075e4b-e975-4736-9e8f-b5b6740fbf86\",\"type\":\"Selection\"},\"selection_policy\":{\"id\":\"69120d7d-8c73-4759-b5ad-46638f7fab6e\",\"type\":\"UnionRenderers\"}},\"id\":\"fec00592-d0a1-4aff-a717-5df597229e9e\",\"type\":\"ColumnDataSource\"},{\"attributes\":{\"line_alpha\":0.5,\"line_color\":\"#377eb8\",\"line_dash\":[6],\"line_width\":4,\"x\":{\"field\":\"x\"},\"y\":{\"field\":\"y\"}},\"id\":\"76a5c64f-6b24-4a7c-a67d-5f4aacd29392\",\"type\":\"Line\"},{\"attributes\":{\"items\":[{\"id\":\"e971175c-2a03-447f-81e9-2b01608ea795\",\"type\":\"LegendItem\"},{\"id\":\"da7abb50-36cc-430c-bdeb-078d1eb908f7\",\"type\":\"LegendItem\"},{\"id\":\"6b4aa9ca-04fe-4ede-915b-0a103aa34214\",\"type\":\"LegendItem\"}],\"label_text_font_size\":{\"value\":\"8pt\"},\"location\":\"top_center\",\"orientation\":\"horizontal\",\"plot\":{\"id\":\"7d9babed-c5f9-4189-8fae-2ad7c8bc757f\",\"subtype\":\"Figure\",\"type\":\"Plot\"}},\"id\":\"c017b07f-cb6d-46e4-810e-b54a2b3f99a6\",\"type\":\"Legend\"},{\"attributes\":{\"callback\":null,\"data\":{\"x\":{\"__ndarray__\":\"oGsWFOcWRMAMO53n/6ogwD3viZgKZgLA/QYLKQLU/D8kxx1hxGkOQMQ0+uZxzQ5AVNhXd+QeBEAOfWNUzSflP8Ab6dWes+m/+NL3xc/V9b/FaMqELYjxv9IJsBTPId+/TcZOEIimsD/RlBh077XZP+5CgCXcI98/xk80a5U21D+mvbpH91KhP0I7juACtdC/1aw+HWoz4L+eELp8N6Pgv46j72rX7tG/sPOr1cQ1eb8yylG8HeyqvzLdYsjI0NO/iNtWXRBP17+iXw8BsSGxvwV3o383itg/95efVY5T1z8Wf4KYaOC3Pxz4JWCS45c/xGzh7qDj0D/z9Jq0lJzVP9S9cwqzvcM/ncXJA03snL/+DCuavWFzP5gifvItdK4/6ix5O2qXfj/VIxwFX/CrvyFUz3G74La/my7Kb2SHub/iQ7MhNea1vxA1JmSLibC/ec3xKLA2r7/CQWKSSD+dv/kBCet07ba/jdOl0S2ZuL/hF/AL7Yurv4nkUKY76K6/oQAAbI22s7/sel+r8Oayv1lPEDkNp6u/hX6dcBWzor/B7Z2I616YvxIFFivn5ZS/kePwCZ6plL+En8uXwV+Zv6r8aguhXJu/hY8q3THCk78YErbXNlBWP49H38C+f6A/WwZhsThqrD+Qb3Iuc+mtP/D2ZI59eqU/qxypqzTKlT/wr1QOo+RZP+CjI8tNBUE/JP80BLOBgT9iFteBPlSeP2eXidFcb6g/plqmh+qrrz+CO88mJx2yP91eBcEyWbM/pmiOXiQjtD+1cER8wdW0P/GeJNn6VLQ/\",\"dtype\":\"float64\",\"shape\":[75]},\"y\":{\"__ndarray__\":\"GhExyth1ND/Sv8nbtpRIP2vylNV0PVE/aTum7souWD/At0SJ8fVgPw3Iuahxymc/MSNhhJWvcD/bTfBN02d3P2zb5nxnaoA/CD5h5MAGhz8NmeH1TyaQP+zrCsc9p5Y/LbKd76fGnz/bLW5ISEmmPww9YvTcQq8/JV2OstnstT8Er5Y7M8G+P0c+r3jqkcU/5h99k6ZBzj88bCIzFzjVP4enV8oyxN0//yH99nXg5D8qOpLLf0jtP5kqGJXUifQ/c9cS8kHP/D+/DpwzojQEQIEmwoanVwxA4lgXt9HgE0BSSZ2AJuIbQAMJih9jjiNA5q4l5INuK0AwTKYKRj0zQNv5fmq8/DpAaCJseHrtQkB/+zpwzoxKQM3MzMzMeFJAZmZmZmZqWEAAAAAAAFxeQM3MzMzMJmJAmpmZmZkfZUBmZmZmZhhoQDMzMzMzEWtAAAAAAAAKbkBmZmZmZoFwQM3MzMzM/XFAMzMzMzN6c0CamZmZmfZ0QAAAAAAAc3ZAZmZmZmbvd0DNzMzMzGt5QDMzMzMz6HpAmpmZmZlkfEAAAAAAAOF9QGZmZmZmXX9AZmZmZuZsgECamZmZGSuBQM3MzMxM6YFAAAAAAICngkAzMzMzs2WDQGZmZmbmI4RAmpmZmRnihEDNzMzMTKCFQAAAAACAXoZAMzMzM7Mch0BmZmZm5tqHQJqZmZkZmYhAzczMzExXiUAAAAAAgBWKQDMzMzOz04pAZmZmZuaRi0CamZmZGVCMQM3MzMxMDo1AAAAAAIDMjUAzMzMzs4qOQGZmZmbmSI9A\",\"dtype\":\"float64\",\"shape\":[75]}},\"selected\":{\"id\":\"bae18562-3938-4897-9a8d-330532ddcc86\",\"type\":\"Selection\"},\"selection_policy\":{\"id\":\"759a2a63-b841-4da1-b38a-ab976c8d6003\",\"type\":\"UnionRenderers\"}},\"id\":\"7af56066-8e01-4782-9bb3-cf56218dbf4f\",\"type\":\"ColumnDataSource\"},{\"attributes\":{\"above\":[{\"id\":\"0e1f89fb-31d6-4a13-8b21-798dd422e7d0\",\"type\":\"Legend\"}],\"below\":[{\"id\":\"01470305-aad0-4b3a-b495-7dab157a3eb2\",\"type\":\"LinearAxis\"}],\"left\":[{\"id\":\"1f1ad6b0-0334-4c47-ba51-67ac31199390\",\"type\":\"LogAxis\"}],\"plot_width\":300,\"renderers\":[{\"id\":\"01470305-aad0-4b3a-b495-7dab157a3eb2\",\"type\":\"LinearAxis\"},{\"id\":\"a7472d65-1636-4b3c-a2bb-ebff90d92005\",\"type\":\"Grid\"},{\"id\":\"1f1ad6b0-0334-4c47-ba51-67ac31199390\",\"type\":\"LogAxis\"},{\"id\":\"ba07b31c-36c9-44ce-8067-59dcd62dd5bb\",\"type\":\"Grid\"},{\"id\":\"70489f05-149a-4977-95a8-716dd479d2d5\",\"type\":\"BoxAnnotation\"},{\"id\":\"cf6dda05-8267-44a7-8d7b-f91af23e0196\",\"type\":\"GlyphRenderer\"},{\"id\":\"bae3e72a-00ec-463e-973e-a6126dae97eb\",\"type\":\"GlyphRenderer\"},{\"id\":\"f3ba4f48-bb6c-4942-b81a-86d7f3ae0e8f\",\"type\":\"GlyphRenderer\"},{\"id\":\"0e1f89fb-31d6-4a13-8b21-798dd422e7d0\",\"type\":\"Legend\"}],\"title\":{\"id\":\"e411ccc2-d102-48cb-985f-9dfa0d645c91\",\"type\":\"Title\"},\"toolbar\":{\"id\":\"bf064ae6-d56f-4688-b2b6-f2c30e1ae004\",\"type\":\"Toolbar\"},\"toolbar_location\":null,\"x_range\":{\"id\":\"703e82f1-cc0c-48d1-a9d9-27a71515f548\",\"type\":\"Range1d\"},\"x_scale\":{\"id\":\"5ca74062-fddb-4cbb-a483-0686246c6934\",\"type\":\"LinearScale\"},\"y_range\":{\"id\":\"a7e4e42d-8176-48b9-896e-6d3620b9261a\",\"type\":\"Range1d\"},\"y_scale\":{\"id\":\"60f4ece1-332a-44db-9c40-a3e334897ca5\",\"type\":\"LogScale\"}},\"id\":\"4213432d-ab49-4c1a-8abb-0c7dd057bba1\",\"subtype\":\"Figure\",\"type\":\"Plot\"},{\"attributes\":{},\"id\":\"176528b4-0ed1-4fae-b130-ad73c9b09776\",\"type\":\"Selection\"},{\"attributes\":{},\"id\":\"3a88ae73-a4ff-42c9-9ee7-d4f93a9276a6\",\"type\":\"Selection\"},{\"attributes\":{\"line_alpha\":0.1,\"line_color\":\"#1f77b4\",\"line_dash\":[6],\"line_width\":5,\"x\":{\"field\":\"x\"},\"y\":{\"field\":\"y\"}},\"id\":\"11350234-d3c0-40b4-8aed-9d4d337b780b\",\"type\":\"Line\"},{\"attributes\":{\"callback\":null,\"data\":{\"x\":{\"__ndarray__\":\"QEr14GpmEsDQUQomvS0TwECOLtAVRQnAyG4E7w1kFUAwCG6K07rzP2jG3ETKaAVAIDSvE8+a1D84WLw0a3bwP8B2CVgEGd6/gAEb8SXj5T+gXWifLPzZv1BIY1h4OdU/gFTeaCAF0r/AU/RFxYvAP0h4oPen7Ly/wKOQ+b0VoD/gKRbxqoK7vwA09+KM5nu/QBvKVo2Xv78AEqWWOp7Ov3BzIslj9ti/gApK0VUU37/gyd0OWm7ov0D75ws5Mua/wIc6h4XW3r+Q48y885XWvwB/tLThVLC/IP++3wZjwr+A8gVsXEm9vwDRmm/daKO/gI3nfaiUkj/AQE7cYBOdv+BkMo6PXa2/AKoyxVLtcD9A4+/aVS+Av6A9GyNwb46/cNIdfcBUiz8AHIdAy8FcP5BuzJoOMok/b2ce0np0pD8UEyzBK56QP8Beg9VHjZ+/gPKVd3D5n7+AD/jI4QOjv8DcwbQ4Uai/AG61+C87or/ASYzDVZqev2D75C8ty6C/ANT1m/xjlb9Ar8iri82Xv0BrLlVYt5W/ABSboWSMa78ghb8UGtelv0BWMP2VTZ2/AMakubnjcr+ACh1oBKqKv0CiEj/MA5G/AADjcuinMj/Ajj/XEoCaPwDwRGmfKYS/AAyIEFfOZj8AItboev6lP1AvBF6BP7c/QN1dRRBwqj9ACvj956WkP8BM5jLOU7A/kB8XOk4Itz8Ay8mloMS8P8Bl77ruFZ4/QHOrAh4hnz8g3sjPVdmmP/C+80esF7A/gAETBSmitD+gbg0US524P7C02mPse7E/\",\"dtype\":\"float64\",\"shape\":[75]},\"y\":{\"__ndarray__\":\"GhExyth1ND/Sv8nbtpRIP2vylNV0PVE/aTum7souWD/At0SJ8fVgPw3Iuahxymc/MSNhhJWvcD/bTfBN02d3P2zb5nxnaoA/CD5h5MAGhz8NmeH1TyaQP+zrCsc9p5Y/LbKd76fGnz/bLW5ISEmmPww9YvTcQq8/JV2OstnstT8Er5Y7M8G+P0c+r3jqkcU/5h99k6ZBzj88bCIzFzjVP4enV8oyxN0//yH99nXg5D8qOpLLf0jtP5kqGJXUifQ/c9cS8kHP/D+/DpwzojQEQIEmwoanVwxA4lgXt9HgE0BSSZ2AJuIbQAMJih9jjiNA5q4l5INuK0AwTKYKRj0zQNv5fmq8/DpAaCJseHrtQkB/+zpwzoxKQM3MzMzMeFJAZmZmZmZqWEAAAAAAAFxeQM3MzMzMJmJAmpmZmZkfZUBmZmZmZhhoQDMzMzMzEWtAAAAAAAAKbkBmZmZmZoFwQM3MzMzM/XFAMzMzMzN6c0CamZmZmfZ0QAAAAAAAc3ZAZmZmZmbvd0DNzMzMzGt5QDMzMzMz6HpAmpmZmZlkfEAAAAAAAOF9QGZmZmZmXX9AZmZmZuZsgECamZmZGSuBQM3MzMxM6YFAAAAAAICngkAzMzMzs2WDQGZmZmbmI4RAmpmZmRnihEDNzMzMTKCFQAAAAACAXoZAMzMzM7Mch0BmZmZm5tqHQJqZmZkZmYhAzczMzExXiUAAAAAAgBWKQDMzMzOz04pAZmZmZuaRi0CamZmZGVCMQM3MzMxMDo1AAAAAAIDMjUAzMzMzs4qOQGZmZmbmSI9A\",\"dtype\":\"float64\",\"shape\":[75]}},\"selected\":{\"id\":\"07b22b02-01b6-426f-872d-1d74ff42e360\",\"type\":\"Selection\"},\"selection_policy\":{\"id\":\"7944ac79-154a-4d63-9d4c-79cc3d003ef2\",\"type\":\"UnionRenderers\"}},\"id\":\"367f3c83-9140-436e-a461-f5005c336f64\",\"type\":\"ColumnDataSource\"},{\"attributes\":{\"data_source\":{\"id\":\"ce5b2299-805b-4c9b-92bc-1e6b7055545b\",\"type\":\"ColumnDataSource\"},\"glyph\":{\"id\":\"06aa64b5-c4b9-420e-b162-00ef731ecb96\",\"type\":\"Square\"},\"hover_glyph\":null,\"muted_glyph\":null,\"nonselection_glyph\":{\"id\":\"b31c0140-1c46-4d2d-83f2-d8024e05aca7\",\"type\":\"Square\"},\"selection_glyph\":null,\"view\":{\"id\":\"040f29e4-aa4e-43ab-a7e6-e3733ca25ab8\",\"type\":\"CDSView\"}},\"id\":\"6f5c9a79-878f-497d-8a83-1ad56ffc5ccd\",\"type\":\"GlyphRenderer\"},{\"attributes\":{\"plot\":{\"id\":\"dc6e9f82-14d2-450d-a7e9-eea83a476d44\",\"subtype\":\"Figure\",\"type\":\"Plot\"},\"ticker\":{\"id\":\"9bf7a8dd-2c7e-4046-83d4-ae89b06f3996\",\"type\":\"BasicTicker\"}},\"id\":\"bbb11d4d-112a-4772-987c-cb9ccee2c58f\",\"type\":\"Grid\"},{\"attributes\":{\"overlay\":{\"id\":\"f9e29866-03dc-4519-bcd1-cbaa54447e35\",\"type\":\"BoxAnnotation\"}},\"id\":\"049a26b2-2c30-414c-9a5a-4111f427e329\",\"type\":\"BoxZoomTool\"},{\"attributes\":{\"source\":{\"id\":\"9d865d60-9560-4356-a4d6-378fe0abf437\",\"type\":\"ColumnDataSource\"}},\"id\":\"5a92a793-53c8-49ac-a859-36beba6a0ccb\",\"type\":\"CDSView\"},{\"attributes\":{},\"id\":\"69120d7d-8c73-4759-b5ad-46638f7fab6e\",\"type\":\"UnionRenderers\"},{\"attributes\":{},\"id\":\"9f904a4c-55e7-4495-b65f-bc28dd0d6fee\",\"type\":\"WheelZoomTool\"},{\"attributes\":{\"bottom_units\":\"screen\",\"fill_alpha\":{\"value\":0.5},\"fill_color\":{\"value\":\"lightgrey\"},\"left_units\":\"screen\",\"level\":\"overlay\",\"line_alpha\":{\"value\":1.0},\"line_color\":{\"value\":\"black\"},\"line_dash\":[4,4],\"line_width\":{\"value\":2},\"plot\":null,\"render_mode\":\"css\",\"right_units\":\"screen\",\"top_units\":\"screen\"},\"id\":\"f9e29866-03dc-4519-bcd1-cbaa54447e35\",\"type\":\"BoxAnnotation\"},{\"attributes\":{\"label\":{\"value\":\"CLIRAD (single-run)\"},\"renderers\":[{\"id\":\"7467f0c7-4996-4ccf-8166-7528586ac82b\",\"type\":\"GlyphRenderer\"}]},\"id\":\"c447ce24-2c91-4e56-81e2-d85a9642f44c\",\"type\":\"LegendItem\"},{\"attributes\":{\"fill_alpha\":{\"value\":0.1},\"fill_color\":{\"value\":\"#1f77b4\"},\"line_alpha\":{\"value\":0.1},\"line_color\":{\"value\":\"#1f77b4\"},\"x\":{\"field\":\"x\"},\"y\":{\"field\":\"y\"}},\"id\":\"2a8db922-8309-470a-9719-aa53a86f3d42\",\"type\":\"Circle\"},{\"attributes\":{},\"id\":\"04daa572-6cc5-4a00-af76-9dedfa7937de\",\"type\":\"UnionRenderers\"},{\"attributes\":{},\"id\":\"db7c35eb-62a4-4d49-b5c0-b00f00fcf08e\",\"type\":\"BasicTicker\"},{\"attributes\":{\"plot\":null,\"text\":\"\"},\"id\":\"e411ccc2-d102-48cb-985f-9dfa0d645c91\",\"type\":\"Title\"},{\"attributes\":{},\"id\":\"fcc5f298-68d3-4d6f-9da6-378312b04ad0\",\"type\":\"SaveTool\"},{\"attributes\":{},\"id\":\"9bf7a8dd-2c7e-4046-83d4-ae89b06f3996\",\"type\":\"BasicTicker\"},{\"attributes\":{},\"id\":\"26e0b7a4-6587-4cc0-ad54-9a27ab23277d\",\"type\":\"PanTool\"},{\"attributes\":{},\"id\":\"b82460da-b8bb-413d-a6f2-1e29de3a1dcc\",\"type\":\"WheelZoomTool\"},{\"attributes\":{\"overlay\":{\"id\":\"70489f05-149a-4977-95a8-716dd479d2d5\",\"type\":\"BoxAnnotation\"}},\"id\":\"284671a2-a59f-4661-93d7-f0dd4322d241\",\"type\":\"BoxZoomTool\"},{\"attributes\":{\"items\":[{\"id\":\"9af0a36b-69c5-4174-b49b-1eeb05529b33\",\"type\":\"LegendItem\"},{\"id\":\"270c518d-ae85-4f5a-84cb-0db4b7e79d66\",\"type\":\"LegendItem\"}],\"label_text_font_size\":{\"value\":\"8pt\"},\"location\":\"top_center\",\"orientation\":\"horizontal\",\"plot\":{\"id\":\"4213432d-ab49-4c1a-8abb-0c7dd057bba1\",\"subtype\":\"Figure\",\"type\":\"Plot\"}},\"id\":\"0e1f89fb-31d6-4a13-8b21-798dd422e7d0\",\"type\":\"Legend\"},{\"attributes\":{},\"id\":\"1bd5e2db-ba2b-4af3-b90c-bb8e7f196766\",\"type\":\"BasicTicker\"},{\"attributes\":{\"dimension\":1,\"plot\":{\"id\":\"dc6e9f82-14d2-450d-a7e9-eea83a476d44\",\"subtype\":\"Figure\",\"type\":\"Plot\"},\"ticker\":{\"id\":\"db7c35eb-62a4-4d49-b5c0-b00f00fcf08e\",\"type\":\"BasicTicker\"}},\"id\":\"d98898e1-fcc2-4f5b-ae2c-b39089325feb\",\"type\":\"Grid\"},{\"attributes\":{\"callback\":null,\"data\":{\"x\":{\"__ndarray__\":\"QW/ChKHYRUABfBHv8BdDQO7pX4+S40FAjlrTPAs/QEBi55KjU0A8QOVEIjtRPTdAAW6pHa7pMUBoDUjHy+UpQJPUAjnkGiJAkii6KF00GkDyfPLi2t0UQPkZqhKpthFAXgmBeRVNDUDo1yrq/pUDQBJCuTYK9vU/YoFqy5OO+j/mD7q8ijIFQB7JG9aeDgtAKZPg33XgEEB3e15vURcWQASfV5qt/R1A31afOw7VJEBkZ/sSPswqQPJ8sfjH+ylASXHMMLlOJECnFuR/okcgQKATN+gOZBtALtOaGrQFFkBYLwnonigRQH3MfkLg4AtAJbaM1c4ICEAqMLR+58sCQGn6INO6Bfo/9OD7FbZF8T+Hs4EjcHrnP564dUqD6Ns/JQfYEdIQzT9x/Lwc00XAP+SGDp6tAKO/xAoZ+sRjyb+ScdT6eNyDv/4NISJvwuc/0BNwzqJ+9z+OhxM/9RYAQGCVqWPPlwFApa4RsMkGAECakb3Sg0P+P/wSdfkQIv0/okwaebtq/D8NcsI81zv8PzS6YIBmV/w/t/rzZVDu+z9vHpSuI3P7PzxXiTLKB/s/+xEut0e9+j80CdGvY4f6P91Lpyhohfo/hq2DgXOb+z8jUdf2UHz8P+0LQT6D/vw/NxBjOnr9/D975RKvuF38PyqTiuWeRvs/G8nM6yIW+j8IPCAwnv/4P9UcYY9Qbfg/OqB8rKY8+D929obcuzf4P6/7j5gVtPc/VtnblNCk9j8Yh5Uy8nP1P2TvKkPTiPQ/Kaw4REER9D/JF0FfkkT0P/aWmIV77/o/\",\"dtype\":\"float64\",\"shape\":[75]},\"y\":{\"__ndarray__\":\"GhExyth1ND/Sv8nbtpRIP2vylNV0PVE/aTum7souWD/At0SJ8fVgPw3Iuahxymc/MSNhhJWvcD/bTfBN02d3P2zb5nxnaoA/CD5h5MAGhz8NmeH1TyaQP+zrCsc9p5Y/LbKd76fGnz/bLW5ISEmmPww9YvTcQq8/JV2OstnstT8Er5Y7M8G+P0c+r3jqkcU/5h99k6ZBzj88bCIzFzjVP4enV8oyxN0//yH99nXg5D8qOpLLf0jtP5kqGJXUifQ/c9cS8kHP/D+/DpwzojQEQIEmwoanVwxA4lgXt9HgE0BSSZ2AJuIbQAMJih9jjiNA5q4l5INuK0AwTKYKRj0zQNv5fmq8/DpAaCJseHrtQkB/+zpwzoxKQM3MzMzMeFJAZmZmZmZqWEAAAAAAAFxeQM3MzMzMJmJAmpmZmZkfZUBmZmZmZhhoQDMzMzMzEWtAAAAAAAAKbkBmZmZmZoFwQM3MzMzM/XFAMzMzMzN6c0CamZmZmfZ0QAAAAAAAc3ZAZmZmZmbvd0DNzMzMzGt5QDMzMzMz6HpAmpmZmZlkfEAAAAAAAOF9QGZmZmZmXX9AZmZmZuZsgECamZmZGSuBQM3MzMxM6YFAAAAAAICngkAzMzMzs2WDQGZmZmbmI4RAmpmZmRnihEDNzMzMTKCFQAAAAACAXoZAMzMzM7Mch0BmZmZm5tqHQJqZmZkZmYhAzczMzExXiUAAAAAAgBWKQDMzMzOz04pAZmZmZuaRi0CamZmZGVCMQM3MzMxMDo1AAAAAAIDMjUAzMzMzs4qOQGZmZmbmSI9A\",\"dtype\":\"float64\",\"shape\":[75]}},\"selected\":{\"id\":\"3a88ae73-a4ff-42c9-9ee7-d4f93a9276a6\",\"type\":\"Selection\"},\"selection_policy\":{\"id\":\"bc72db56-dd0d-4ec6-a4ec-947c81a5e938\",\"type\":\"UnionRenderers\"}},\"id\":\"6107f603-7218-4133-becd-997e98a44a3a\",\"type\":\"ColumnDataSource\"},{\"attributes\":{},\"id\":\"fb9af254-e659-471d-a26d-78468c72e03f\",\"type\":\"ResetTool\"},{\"attributes\":{},\"id\":\"3ed265e3-e81e-45aa-990a-e055d4e1b776\",\"type\":\"Selection\"},{\"attributes\":{\"label\":{\"value\":\"CRD\"},\"renderers\":[{\"id\":\"be4bbba8-d972-46c4-b450-03654268ed45\",\"type\":\"GlyphRenderer\"},{\"id\":\"c2f5f8f2-2eb9-4480-9dba-659f0f9a803c\",\"type\":\"GlyphRenderer\"}]},\"id\":\"da7abb50-36cc-430c-bdeb-078d1eb908f7\",\"type\":\"LegendItem\"},{\"attributes\":{},\"id\":\"2f6985f8-30fe-44ce-9b41-4fab6ee9fa75\",\"type\":\"UnionRenderers\"},{\"attributes\":{\"label\":{\"value\":\"CLIRAD (single-run)\"},\"renderers\":[{\"id\":\"1ae09172-b808-4791-9d63-9f58261de1f1\",\"type\":\"GlyphRenderer\"}]},\"id\":\"e971175c-2a03-447f-81e9-2b01608ea795\",\"type\":\"LegendItem\"},{\"attributes\":{\"callback\":null,\"end\":0.01,\"start\":1020},\"id\":\"ae3106e1-2251-478a-b255-9980e7d9c317\",\"type\":\"Range1d\"},{\"attributes\":{\"active_drag\":\"auto\",\"active_inspect\":\"auto\",\"active_scroll\":\"auto\",\"active_tap\":\"auto\",\"tools\":[{\"id\":\"1d8668db-681c-47ed-bac6-d8c4509ead3e\",\"type\":\"PanTool\"},{\"id\":\"83d8c14b-a075-4b31-9df5-3d0439db8c8b\",\"type\":\"WheelZoomTool\"},{\"id\":\"7d052988-074d-4e10-bfda-6f7ab8433128\",\"type\":\"BoxZoomTool\"},{\"id\":\"48290f6b-98ff-4c73-858c-e107ea2854be\",\"type\":\"SaveTool\"},{\"id\":\"ce069e37-e448-4489-98cf-44e27e1165bb\",\"type\":\"ResetTool\"},{\"id\":\"cdacc9be-7b1c-47d8-bed6-7e8ddc2062c2\",\"type\":\"HelpTool\"}]},\"id\":\"1ffc1885-6cc8-4fde-9613-1daebfbf5d0f\",\"type\":\"Toolbar\"},{\"attributes\":{\"axis_label\":\"cooling rate [K/day]\",\"formatter\":{\"id\":\"480652e5-19f5-4896-8b58-c99e6ce7349c\",\"type\":\"BasicTickFormatter\"},\"plot\":{\"id\":\"dc6e9f82-14d2-450d-a7e9-eea83a476d44\",\"subtype\":\"Figure\",\"type\":\"Plot\"},\"ticker\":{\"id\":\"9bf7a8dd-2c7e-4046-83d4-ae89b06f3996\",\"type\":\"BasicTicker\"}},\"id\":\"8a1480f5-8b52-4383-b612-a20597722092\",\"type\":\"LinearAxis\"},{\"attributes\":{},\"id\":\"b55916b1-60ea-4571-823b-d86602089dd3\",\"type\":\"ResetTool\"},{\"attributes\":{},\"id\":\"bae18562-3938-4897-9a8d-330532ddcc86\",\"type\":\"Selection\"},{\"attributes\":{\"data_source\":{\"id\":\"9d865d60-9560-4356-a4d6-378fe0abf437\",\"type\":\"ColumnDataSource\"},\"glyph\":{\"id\":\"4afa8401-342f-448f-90bc-fd13cc30d8c2\",\"type\":\"Line\"},\"hover_glyph\":null,\"muted_glyph\":null,\"nonselection_glyph\":{\"id\":\"b0053f4d-7419-41ec-84a1-7c6628f537f6\",\"type\":\"Line\"},\"selection_glyph\":null,\"view\":{\"id\":\"5a92a793-53c8-49ac-a859-36beba6a0ccb\",\"type\":\"CDSView\"}},\"id\":\"497c685c-18fc-4fe9-93db-bf7ff984e7e6\",\"type\":\"GlyphRenderer\"},{\"attributes\":{\"label\":{\"value\":\"old CLIRAD (H2012)\"},\"renderers\":[{\"id\":\"6f5c9a79-878f-497d-8a83-1ad56ffc5ccd\",\"type\":\"GlyphRenderer\"},{\"id\":\"659acd64-e4c3-4a31-bb95-a1f66851925d\",\"type\":\"GlyphRenderer\"}]},\"id\":\"6b4aa9ca-04fe-4ede-915b-0a103aa34214\",\"type\":\"LegendItem\"},{\"attributes\":{\"axis_label\":\"pressure [mb]\",\"formatter\":{\"id\":\"c14f5c6f-6ebb-40d7-a11d-eb1a5c6c87fd\",\"type\":\"BasicTickFormatter\"},\"plot\":{\"id\":\"dc6e9f82-14d2-450d-a7e9-eea83a476d44\",\"subtype\":\"Figure\",\"type\":\"Plot\"},\"ticker\":{\"id\":\"db7c35eb-62a4-4d49-b5c0-b00f00fcf08e\",\"type\":\"BasicTicker\"}},\"id\":\"9574034a-3d4a-4b50-bd01-6b8601c8f0c0\",\"type\":\"LinearAxis\"},{\"attributes\":{},\"id\":\"1279f4f5-f4b8-4372-8344-eb112a3774d3\",\"type\":\"UnionRenderers\"},{\"attributes\":{\"plot\":{\"id\":\"7d9babed-c5f9-4189-8fae-2ad7c8bc757f\",\"subtype\":\"Figure\",\"type\":\"Plot\"},\"ticker\":{\"id\":\"1bd5e2db-ba2b-4af3-b90c-bb8e7f196766\",\"type\":\"BasicTicker\"}},\"id\":\"6faed178-3b46-4a71-bec4-8b7f39179350\",\"type\":\"Grid\"}],\"root_ids\":[\"745e0dec-5cdb-4656-a93d-7b12880459b3\"]},\"title\":\"Bokeh Application\",\"version\":\"0.12.16\"}};\n",
       "  var render_items = [{\"docid\":\"c8f5c08c-60a2-4e0d-a409-8a77050c6406\",\"elementid\":\"730396a3-016d-420d-9045-95bf8f84de6c\",\"modelid\":\"745e0dec-5cdb-4656-a93d-7b12880459b3\"}];\n",
       "  root.Bokeh.embed.embed_items_notebook(docs_json, render_items);\n",
       "\n",
       "  }\n",
       "  if (root.Bokeh !== undefined) {\n",
       "    embed_document(root);\n",
       "  } else {\n",
       "    var attempts = 0;\n",
       "    var timer = setInterval(function(root) {\n",
       "      if (root.Bokeh !== undefined) {\n",
       "        embed_document(root);\n",
       "        clearInterval(timer);\n",
       "      }\n",
       "      attempts++;\n",
       "      if (attempts > 100) {\n",
       "        console.log(\"Bokeh: ERROR: Unable to run BokehJS code because BokehJS library is missing\")\n",
       "        clearInterval(timer);\n",
       "      }\n",
       "    }, 10, root)\n",
       "  }\n",
       "})(window);"
      ],
      "application/vnd.bokehjs_exec.v0+json": ""
     },
     "metadata": {
      "application/vnd.bokehjs_exec.v0+json": {
       "id": "745e0dec-5cdb-4656-a93d-7b12880459b3"
      }
     },
     "output_type": "display_data"
    },
    {
     "data": {
      "text/markdown": [
       "*FIGURE.* Cooling rates & difference."
      ],
      "text/plain": [
       "<IPython.core.display.Markdown object>"
      ]
     },
     "metadata": {},
     "output_type": "display_data"
    },
    {
     "data": {
      "text/html": [
       "<a id=\"Fluxes._mls.\"></a>"
      ],
      "text/plain": [
       "<IPython.core.display.HTML object>"
      ]
     },
     "metadata": {},
     "output_type": "display_data"
    },
    {
     "data": {
      "text/markdown": [
       "# Fluxes. mls."
      ],
      "text/plain": [
       "<IPython.core.display.Markdown object>"
      ]
     },
     "metadata": {},
     "output_type": "display_data"
    },
    {
     "data": {
      "text/html": [
       "\n",
       "<div class=\"bk-root\">\n",
       "    <div class=\"bk-plotdiv\" id=\"59cdeeaf-55f2-4a51-9258-61ff67b30b1e\"></div>\n",
       "</div>"
      ]
     },
     "metadata": {},
     "output_type": "display_data"
    },
    {
     "data": {
      "application/javascript": [
       "(function(root) {\n",
       "  function embed_document(root) {\n",
       "    \n",
       "  var docs_json = {\"b6b4c2a5-0aa9-4cfa-abee-fd0450d262d2\":{\"roots\":{\"references\":[{\"attributes\":{\"data_source\":{\"id\":\"ef0b8c58-c666-4b30-a9a6-46d0f2fa951a\",\"type\":\"ColumnDataSource\"},\"glyph\":{\"id\":\"3b0a7aa6-ac59-46e0-8a90-1c2f546bf761\",\"type\":\"VBar\"},\"hover_glyph\":null,\"muted_glyph\":null,\"nonselection_glyph\":{\"id\":\"7740991d-ec10-43b9-8848-117eafda41d0\",\"type\":\"VBar\"},\"selection_glyph\":null,\"view\":{\"id\":\"97a209bf-42d3-4f82-a66c-0fb41b8cdb81\",\"type\":\"CDSView\"}},\"id\":\"f117c50b-e652-4000-897c-0e4aa13e7553\",\"type\":\"GlyphRenderer\"},{\"attributes\":{\"source\":{\"id\":\"63f09825-0330-48f6-b12c-a98cb791cc6d\",\"type\":\"ColumnDataSource\"}},\"id\":\"8d6ba36a-d05f-43fb-8816-b15d1d06bb6d\",\"type\":\"CDSView\"},{\"attributes\":{\"plot\":{\"id\":\"47874ed9-a289-41c8-a264-40f485d18bf4\",\"subtype\":\"Figure\",\"type\":\"Plot\"},\"ticker\":{\"id\":\"43839ffb-1b2b-4dd6-8801-e721dbb11ea3\",\"type\":\"CategoricalTicker\"}},\"id\":\"e94500a4-2048-48a6-93cc-5a192f7c05c4\",\"type\":\"Grid\"},{\"attributes\":{\"callback\":null,\"factors\":[\"1\",\"2\",\"3\",\"4\",\"5\",\"6\",\"7\",\"8\",\"9\",\"10\",\"11\"]},\"id\":\"e70461e1-0da6-4459-81d1-a9f57981ab88\",\"type\":\"FactorRange\"},{\"attributes\":{},\"id\":\"47ea1d6f-f669-4a80-87b3-e638bebf0ddc\",\"type\":\"CategoricalTickFormatter\"},{\"attributes\":{},\"id\":\"24f77a1c-e32b-4d00-9ab4-6235ca946bed\",\"type\":\"SaveTool\"},{\"attributes\":{},\"id\":\"255025c7-7342-411c-ac3f-27a0a0558f8a\",\"type\":\"BasicTicker\"},{\"attributes\":{},\"id\":\"5ab30bc1-a0c4-4aab-b45d-c0c39d308cb7\",\"type\":\"CategoricalScale\"},{\"attributes\":{\"fill_color\":{\"value\":\"#1f77b4\"},\"line_color\":{\"value\":\"#1f77b4\"},\"top\":{\"field\":\"flux\"},\"width\":{\"value\":0.9},\"x\":{\"field\":\"band\"}},\"id\":\"99e27a38-edb2-47e6-a2de-2bcea2dbb63b\",\"type\":\"VBar\"},{\"attributes\":{\"source\":{\"id\":\"03821b97-1492-4824-897b-6cead3d418ec\",\"type\":\"ColumnDataSource\"}},\"id\":\"c58206f8-3a61-4eff-a8f0-19d7ffe6da28\",\"type\":\"CDSView\"},{\"attributes\":{\"tools\":[{\"id\":\"31c36c19-e769-4096-9ca6-5dca70c49313\",\"type\":\"PanTool\"},{\"id\":\"7444642a-19d8-4bab-b105-5a3b47c03f94\",\"type\":\"WheelZoomTool\"},{\"id\":\"b2a27f8e-32a5-4218-ae7f-94c81939dc54\",\"type\":\"BoxZoomTool\"},{\"id\":\"f3b21d00-704b-4cb7-8bad-9659ba905afc\",\"type\":\"SaveTool\"},{\"id\":\"44b2de3e-b421-4806-a04b-582f76cef1ae\",\"type\":\"ResetTool\"},{\"id\":\"18d5eea7-767d-4e48-84a5-63b081fd7684\",\"type\":\"HelpTool\"},{\"id\":\"06663199-9c03-476d-a1e8-a784e20e4942\",\"type\":\"PanTool\"},{\"id\":\"7d4150fc-cefb-49df-85e0-8bc3d4979287\",\"type\":\"WheelZoomTool\"},{\"id\":\"258f1d49-1461-4f63-9225-9d20c80499f6\",\"type\":\"BoxZoomTool\"},{\"id\":\"3420d8c6-d20f-4a7d-ac65-bd102e5b21da\",\"type\":\"SaveTool\"},{\"id\":\"b7cca656-dee9-422c-9b4e-0387a8ef6ab7\",\"type\":\"ResetTool\"},{\"id\":\"1a93f245-e26b-491b-b254-8b0bf58aa4c3\",\"type\":\"HelpTool\"},{\"id\":\"0a8496ce-44f8-48ab-a1fc-3bb9da5c8d8e\",\"type\":\"PanTool\"},{\"id\":\"fdc47529-6baf-4fd7-a284-90ba46b4791f\",\"type\":\"WheelZoomTool\"},{\"id\":\"f7f753a0-bbab-4423-90e8-db380d5c2b39\",\"type\":\"BoxZoomTool\"},{\"id\":\"24f77a1c-e32b-4d00-9ab4-6235ca946bed\",\"type\":\"SaveTool\"},{\"id\":\"42240ea0-053a-4fc4-8909-225cd2b8d199\",\"type\":\"ResetTool\"},{\"id\":\"cd8d1406-2e72-4d18-920a-eb9be7ac352a\",\"type\":\"HelpTool\"}]},\"id\":\"04ce11de-8f21-407d-8a26-95cfc91a836f\",\"type\":\"ProxyToolbar\"},{\"attributes\":{},\"id\":\"7444642a-19d8-4bab-b105-5a3b47c03f94\",\"type\":\"WheelZoomTool\"},{\"attributes\":{\"plot\":{\"id\":\"2a09b545-3930-4557-a1b2-4313d9a9c5c5\",\"subtype\":\"Figure\",\"type\":\"Plot\"},\"ticker\":{\"id\":\"34f1bcec-1073-4ecf-87e4-50d6f7eef49e\",\"type\":\"CategoricalTicker\"}},\"id\":\"0c1c5680-de56-4a8e-89bc-0828150dc802\",\"type\":\"Grid\"},{\"attributes\":{\"fill_color\":{\"value\":\"#1f77b4\"},\"line_color\":{\"value\":\"#1f77b4\"},\"top\":{\"field\":\"flux\"},\"width\":{\"value\":0.9},\"x\":{\"field\":\"band\"}},\"id\":\"51419d7b-a30d-4496-ae5e-bc468dfc03bf\",\"type\":\"VBar\"},{\"attributes\":{\"children\":[{\"id\":\"f65ad9bd-ceb7-4084-a231-ff10333049a3\",\"type\":\"ToolbarBox\"},{\"id\":\"6c784816-7d67-47d5-b562-9b38a1245930\",\"type\":\"Column\"}]},\"id\":\"47a07174-bea6-4856-afba-b7cbea54f670\",\"type\":\"Column\"},{\"attributes\":{},\"id\":\"25b71105-0c2e-419a-8dec-4b34adfad49d\",\"type\":\"BasicTickFormatter\"},{\"attributes\":{\"children\":[{\"id\":\"eac97eea-25d1-4091-8d7a-859bad0324a2\",\"type\":\"Row\"}]},\"id\":\"6c784816-7d67-47d5-b562-9b38a1245930\",\"type\":\"Column\"},{\"attributes\":{\"fill_alpha\":{\"value\":0.1},\"fill_color\":{\"value\":\"#1f77b4\"},\"line_alpha\":{\"value\":0.1},\"line_color\":{\"value\":\"#1f77b4\"},\"top\":{\"field\":\"flux\"},\"width\":{\"value\":0.9},\"x\":{\"field\":\"band\"}},\"id\":\"86c2c793-8a2f-4bff-a4a8-2eb04d8ac70c\",\"type\":\"VBar\"},{\"attributes\":{\"source\":{\"id\":\"ef0b8c58-c666-4b30-a9a6-46d0f2fa951a\",\"type\":\"ColumnDataSource\"}},\"id\":\"97a209bf-42d3-4f82-a66c-0fb41b8cdb81\",\"type\":\"CDSView\"},{\"attributes\":{},\"id\":\"b7cca656-dee9-422c-9b4e-0387a8ef6ab7\",\"type\":\"ResetTool\"},{\"attributes\":{},\"id\":\"fdc47529-6baf-4fd7-a284-90ba46b4791f\",\"type\":\"WheelZoomTool\"},{\"attributes\":{\"axis_label\":\"spectral band\",\"formatter\":{\"id\":\"3c7d99fb-99cc-434b-9fac-b78c51045704\",\"type\":\"CategoricalTickFormatter\"},\"plot\":{\"id\":\"2a09b545-3930-4557-a1b2-4313d9a9c5c5\",\"subtype\":\"Figure\",\"type\":\"Plot\"},\"ticker\":{\"id\":\"34f1bcec-1073-4ecf-87e4-50d6f7eef49e\",\"type\":\"CategoricalTicker\"}},\"id\":\"b2b77825-731f-44df-af7c-af04f7796bd5\",\"type\":\"CategoricalAxis\"},{\"attributes\":{},\"id\":\"a3fa228f-3fb9-4098-ae25-063ce6c1029e\",\"type\":\"BasicTicker\"},{\"attributes\":{},\"id\":\"39be4f2c-11bc-47a3-8c39-450f7f3f4971\",\"type\":\"UnionRenderers\"},{\"attributes\":{\"toolbar\":{\"id\":\"04ce11de-8f21-407d-8a26-95cfc91a836f\",\"type\":\"ProxyToolbar\"},\"toolbar_location\":\"above\"},\"id\":\"f65ad9bd-ceb7-4084-a231-ff10333049a3\",\"type\":\"ToolbarBox\"},{\"attributes\":{\"callback\":null},\"id\":\"741a8171-e9b6-4143-9bef-3451b3e5a5ef\",\"type\":\"DataRange1d\"},{\"attributes\":{},\"id\":\"3420d8c6-d20f-4a7d-ac65-bd102e5b21da\",\"type\":\"SaveTool\"},{\"attributes\":{},\"id\":\"49920ad7-947f-4080-a105-97b893a7a034\",\"type\":\"CategoricalScale\"},{\"attributes\":{},\"id\":\"0a8496ce-44f8-48ab-a1fc-3bb9da5c8d8e\",\"type\":\"PanTool\"},{\"attributes\":{\"callback\":null,\"data\":{\"band\":[\"1\",\"2\",\"3\",\"4\",\"5\",\"6\",\"7\",\"8\",\"9\",\"10\",\"11\"],\"flux\":{\"__ndarray__\":\"AIMde81dyD8AYEI3wVi1vwBYNyirM4i/ANGnfnO5zj9A+KOoM/fOvwBuLCgMysK/AHAlOzYC1z8A5hw8E5qkP8BJ06BoHsi/QL8FwBXcvT8AZ1U6DnKtPw==\",\"dtype\":\"float64\",\"shape\":[11]}},\"selected\":{\"id\":\"56ba3be4-9c54-4ba2-a674-4a22baac8dd0\",\"type\":\"Selection\"},\"selection_policy\":{\"id\":\"39be4f2c-11bc-47a3-8c39-450f7f3f4971\",\"type\":\"UnionRenderers\"}},\"id\":\"63f09825-0330-48f6-b12c-a98cb791cc6d\",\"type\":\"ColumnDataSource\"},{\"attributes\":{\"children\":[{\"id\":\"47874ed9-a289-41c8-a264-40f485d18bf4\",\"subtype\":\"Figure\",\"type\":\"Plot\"},{\"id\":\"8795e90c-8630-46c1-a75a-1c5011602f04\",\"subtype\":\"Figure\",\"type\":\"Plot\"},{\"id\":\"2a09b545-3930-4557-a1b2-4313d9a9c5c5\",\"subtype\":\"Figure\",\"type\":\"Plot\"}]},\"id\":\"eac97eea-25d1-4091-8d7a-859bad0324a2\",\"type\":\"Row\"},{\"attributes\":{},\"id\":\"31c36c19-e769-4096-9ca6-5dca70c49313\",\"type\":\"PanTool\"},{\"attributes\":{},\"id\":\"1a93f245-e26b-491b-b254-8b0bf58aa4c3\",\"type\":\"HelpTool\"},{\"attributes\":{\"below\":[{\"id\":\"b2b77825-731f-44df-af7c-af04f7796bd5\",\"type\":\"CategoricalAxis\"}],\"left\":[{\"id\":\"4e1e40f7-4f7d-4fc8-8349-0a2cd4e3e2fe\",\"type\":\"LinearAxis\"}],\"plot_height\":300,\"plot_width\":300,\"renderers\":[{\"id\":\"b2b77825-731f-44df-af7c-af04f7796bd5\",\"type\":\"CategoricalAxis\"},{\"id\":\"0c1c5680-de56-4a8e-89bc-0828150dc802\",\"type\":\"Grid\"},{\"id\":\"4e1e40f7-4f7d-4fc8-8349-0a2cd4e3e2fe\",\"type\":\"LinearAxis\"},{\"id\":\"c2507ac7-20a4-46ec-8492-bfdba3a87d49\",\"type\":\"Grid\"},{\"id\":\"37c4a50c-d02c-4ee5-aa1c-7fab52a93aa3\",\"type\":\"BoxAnnotation\"},{\"id\":\"93deb217-3fce-465b-8764-a7fb6e814f71\",\"type\":\"GlyphRenderer\"}],\"title\":{\"id\":\"73b7a7b7-dd7a-471e-95fc-63f72f231372\",\"type\":\"Title\"},\"toolbar\":{\"id\":\"192ed0c1-1b6e-4e3e-bc27-44def2f8cb31\",\"type\":\"Toolbar\"},\"toolbar_location\":null,\"x_range\":{\"id\":\"e70461e1-0da6-4459-81d1-a9f57981ab88\",\"type\":\"FactorRange\"},\"x_scale\":{\"id\":\"49920ad7-947f-4080-a105-97b893a7a034\",\"type\":\"CategoricalScale\"},\"y_range\":{\"id\":\"741a8171-e9b6-4143-9bef-3451b3e5a5ef\",\"type\":\"DataRange1d\"},\"y_scale\":{\"id\":\"e9dffaea-b76a-4018-a453-42c2db830a20\",\"type\":\"LinearScale\"}},\"id\":\"2a09b545-3930-4557-a1b2-4313d9a9c5c5\",\"subtype\":\"Figure\",\"type\":\"Plot\"},{\"attributes\":{\"axis_label\":\"spectral band\",\"formatter\":{\"id\":\"b49c29b0-3913-4bff-a2c6-96738d2a40cb\",\"type\":\"CategoricalTickFormatter\"},\"plot\":{\"id\":\"47874ed9-a289-41c8-a264-40f485d18bf4\",\"subtype\":\"Figure\",\"type\":\"Plot\"},\"ticker\":{\"id\":\"43839ffb-1b2b-4dd6-8801-e721dbb11ea3\",\"type\":\"CategoricalTicker\"}},\"id\":\"8981da03-af25-4b85-b20a-501d7f452d24\",\"type\":\"CategoricalAxis\"},{\"attributes\":{},\"id\":\"dcdac5d8-f183-4e2a-9b2a-98d206f47cfc\",\"type\":\"BasicTickFormatter\"},{\"attributes\":{},\"id\":\"cd8d1406-2e72-4d18-920a-eb9be7ac352a\",\"type\":\"HelpTool\"},{\"attributes\":{},\"id\":\"b49c29b0-3913-4bff-a2c6-96738d2a40cb\",\"type\":\"CategoricalTickFormatter\"},{\"attributes\":{},\"id\":\"43839ffb-1b2b-4dd6-8801-e721dbb11ea3\",\"type\":\"CategoricalTicker\"},{\"attributes\":{},\"id\":\"34f1bcec-1073-4ecf-87e4-50d6f7eef49e\",\"type\":\"CategoricalTicker\"},{\"attributes\":{\"axis_label\":\"flux (W m-2)\",\"formatter\":{\"id\":\"25b71105-0c2e-419a-8dec-4b34adfad49d\",\"type\":\"BasicTickFormatter\"},\"plot\":{\"id\":\"47874ed9-a289-41c8-a264-40f485d18bf4\",\"subtype\":\"Figure\",\"type\":\"Plot\"},\"ticker\":{\"id\":\"255025c7-7342-411c-ac3f-27a0a0558f8a\",\"type\":\"BasicTicker\"}},\"id\":\"754964ab-333f-4cb1-9dfa-e64b636008d7\",\"type\":\"LinearAxis\"},{\"attributes\":{},\"id\":\"e9dffaea-b76a-4018-a453-42c2db830a20\",\"type\":\"LinearScale\"},{\"attributes\":{\"callback\":null,\"factors\":[\"1\",\"2\",\"3\",\"4\",\"5\",\"6\",\"7\",\"8\",\"9\",\"10\",\"11\"]},\"id\":\"ec65bac4-15dc-4218-8571-f6e2d530d16a\",\"type\":\"FactorRange\"},{\"attributes\":{\"active_drag\":\"auto\",\"active_inspect\":\"auto\",\"active_scroll\":\"auto\",\"active_tap\":\"auto\",\"tools\":[{\"id\":\"0a8496ce-44f8-48ab-a1fc-3bb9da5c8d8e\",\"type\":\"PanTool\"},{\"id\":\"fdc47529-6baf-4fd7-a284-90ba46b4791f\",\"type\":\"WheelZoomTool\"},{\"id\":\"f7f753a0-bbab-4423-90e8-db380d5c2b39\",\"type\":\"BoxZoomTool\"},{\"id\":\"24f77a1c-e32b-4d00-9ab4-6235ca946bed\",\"type\":\"SaveTool\"},{\"id\":\"42240ea0-053a-4fc4-8909-225cd2b8d199\",\"type\":\"ResetTool\"},{\"id\":\"cd8d1406-2e72-4d18-920a-eb9be7ac352a\",\"type\":\"HelpTool\"}]},\"id\":\"192ed0c1-1b6e-4e3e-bc27-44def2f8cb31\",\"type\":\"Toolbar\"},{\"attributes\":{\"data_source\":{\"id\":\"63f09825-0330-48f6-b12c-a98cb791cc6d\",\"type\":\"ColumnDataSource\"},\"glyph\":{\"id\":\"99e27a38-edb2-47e6-a2de-2bcea2dbb63b\",\"type\":\"VBar\"},\"hover_glyph\":null,\"muted_glyph\":null,\"nonselection_glyph\":{\"id\":\"c35c0dfa-73db-4ca9-95dd-732e801c7ba4\",\"type\":\"VBar\"},\"selection_glyph\":null,\"view\":{\"id\":\"8d6ba36a-d05f-43fb-8816-b15d1d06bb6d\",\"type\":\"CDSView\"}},\"id\":\"93deb217-3fce-465b-8764-a7fb6e814f71\",\"type\":\"GlyphRenderer\"},{\"attributes\":{},\"id\":\"128488e6-5031-443d-a73e-61150bf5deb9\",\"type\":\"BasicTickFormatter\"},{\"attributes\":{\"dimension\":1,\"plot\":{\"id\":\"2a09b545-3930-4557-a1b2-4313d9a9c5c5\",\"subtype\":\"Figure\",\"type\":\"Plot\"},\"ticker\":{\"id\":\"a3fa228f-3fb9-4098-ae25-063ce6c1029e\",\"type\":\"BasicTicker\"}},\"id\":\"c2507ac7-20a4-46ec-8492-bfdba3a87d49\",\"type\":\"Grid\"},{\"attributes\":{\"overlay\":{\"id\":\"37c4a50c-d02c-4ee5-aa1c-7fab52a93aa3\",\"type\":\"BoxAnnotation\"}},\"id\":\"f7f753a0-bbab-4423-90e8-db380d5c2b39\",\"type\":\"BoxZoomTool\"},{\"attributes\":{\"dimension\":1,\"plot\":{\"id\":\"47874ed9-a289-41c8-a264-40f485d18bf4\",\"subtype\":\"Figure\",\"type\":\"Plot\"},\"ticker\":{\"id\":\"255025c7-7342-411c-ac3f-27a0a0558f8a\",\"type\":\"BasicTicker\"}},\"id\":\"b1f5f14e-2587-46ce-99f6-44c38b1bd1ec\",\"type\":\"Grid\"},{\"attributes\":{\"callback\":null},\"id\":\"dfa527fe-ff48-4f56-9936-109959855b50\",\"type\":\"DataRange1d\"},{\"attributes\":{\"callback\":null,\"data\":{\"band\":[\"1\",\"2\",\"3\",\"4\",\"5\",\"6\",\"7\",\"8\",\"9\",\"10\",\"11\"],\"flux\":{\"__ndarray__\":\"AEILCRhdyD+AzEHQ0arSP0DMe5xpwtO/gGStodRe0z/ASgaAKm7QPwBwl/2607G/QKz+CMOA2D8ASdv4E5W5vwC2wvS9hpC/YNQ5UPHJwD9AvtXft8awPw==\",\"dtype\":\"float64\",\"shape\":[11]}},\"selected\":{\"id\":\"aee373df-0b79-44de-9275-a772aa4afcf4\",\"type\":\"Selection\"},\"selection_policy\":{\"id\":\"dc3aa6a4-c3db-4271-91f4-e7bdee4fd48a\",\"type\":\"UnionRenderers\"}},\"id\":\"03821b97-1492-4824-897b-6cead3d418ec\",\"type\":\"ColumnDataSource\"},{\"attributes\":{},\"id\":\"49b8b470-af0d-4415-927e-618e0771c163\",\"type\":\"UnionRenderers\"},{\"attributes\":{},\"id\":\"aee373df-0b79-44de-9275-a772aa4afcf4\",\"type\":\"Selection\"},{\"attributes\":{},\"id\":\"dc3aa6a4-c3db-4271-91f4-e7bdee4fd48a\",\"type\":\"UnionRenderers\"},{\"attributes\":{\"data_source\":{\"id\":\"03821b97-1492-4824-897b-6cead3d418ec\",\"type\":\"ColumnDataSource\"},\"glyph\":{\"id\":\"51419d7b-a30d-4496-ae5e-bc468dfc03bf\",\"type\":\"VBar\"},\"hover_glyph\":null,\"muted_glyph\":null,\"nonselection_glyph\":{\"id\":\"86c2c793-8a2f-4bff-a4a8-2eb04d8ac70c\",\"type\":\"VBar\"},\"selection_glyph\":null,\"view\":{\"id\":\"c58206f8-3a61-4eff-a8f0-19d7ffe6da28\",\"type\":\"CDSView\"}},\"id\":\"1e2c0138-ba6d-4379-a55a-2145b6d494f1\",\"type\":\"GlyphRenderer\"},{\"attributes\":{},\"id\":\"42240ea0-053a-4fc4-8909-225cd2b8d199\",\"type\":\"ResetTool\"},{\"attributes\":{\"callback\":null,\"data\":{\"band\":[\"1\",\"2\",\"3\",\"4\",\"5\",\"6\",\"7\",\"8\",\"9\",\"10\",\"11\"],\"flux\":{\"__ndarray__\":\"AAAAAyUF9r4AgsR29wDYPwC4H/DAANO/ANyul6YIsD+Ajh6/t+nfPwB0ImabwLM/ALE8WXvplz9gN3gVCPHBv4A0KnCyDcY/AKBF71TAjT8AcGzRXW2APw==\",\"dtype\":\"float64\",\"shape\":[11]}},\"selected\":{\"id\":\"dedef3fb-4a43-45d9-a1b2-18bfd4141ae1\",\"type\":\"Selection\"},\"selection_policy\":{\"id\":\"49b8b470-af0d-4415-927e-618e0771c163\",\"type\":\"UnionRenderers\"}},\"id\":\"ef0b8c58-c666-4b30-a9a6-46d0f2fa951a\",\"type\":\"ColumnDataSource\"},{\"attributes\":{\"plot\":null,\"text\":\"Atmosphere heating. CLIRAD (single-run) - CRD.\"},\"id\":\"73b7a7b7-dd7a-471e-95fc-63f72f231372\",\"type\":\"Title\"},{\"attributes\":{},\"id\":\"dedef3fb-4a43-45d9-a1b2-18bfd4141ae1\",\"type\":\"Selection\"},{\"attributes\":{\"overlay\":{\"id\":\"dddc30cc-23bf-4f58-ae1b-e7b5404127e7\",\"type\":\"BoxAnnotation\"}},\"id\":\"b2a27f8e-32a5-4218-ae7f-94c81939dc54\",\"type\":\"BoxZoomTool\"},{\"attributes\":{\"bottom_units\":\"screen\",\"fill_alpha\":{\"value\":0.5},\"fill_color\":{\"value\":\"lightgrey\"},\"left_units\":\"screen\",\"level\":\"overlay\",\"line_alpha\":{\"value\":1.0},\"line_color\":{\"value\":\"black\"},\"line_dash\":[4,4],\"line_width\":{\"value\":2},\"plot\":null,\"render_mode\":\"css\",\"right_units\":\"screen\",\"top_units\":\"screen\"},\"id\":\"37c4a50c-d02c-4ee5-aa1c-7fab52a93aa3\",\"type\":\"BoxAnnotation\"},{\"attributes\":{},\"id\":\"6b388239-411a-4ea2-8d04-de368f36bb09\",\"type\":\"LinearScale\"},{\"attributes\":{},\"id\":\"56ba3be4-9c54-4ba2-a674-4a22baac8dd0\",\"type\":\"Selection\"},{\"attributes\":{\"fill_alpha\":{\"value\":0.1},\"fill_color\":{\"value\":\"#1f77b4\"},\"line_alpha\":{\"value\":0.1},\"line_color\":{\"value\":\"#1f77b4\"},\"top\":{\"field\":\"flux\"},\"width\":{\"value\":0.9},\"x\":{\"field\":\"band\"}},\"id\":\"c35c0dfa-73db-4ca9-95dd-732e801c7ba4\",\"type\":\"VBar\"},{\"attributes\":{\"axis_label\":\"flux (W m-2)\",\"formatter\":{\"id\":\"dcdac5d8-f183-4e2a-9b2a-98d206f47cfc\",\"type\":\"BasicTickFormatter\"},\"plot\":{\"id\":\"2a09b545-3930-4557-a1b2-4313d9a9c5c5\",\"subtype\":\"Figure\",\"type\":\"Plot\"},\"ticker\":{\"id\":\"a3fa228f-3fb9-4098-ae25-063ce6c1029e\",\"type\":\"BasicTicker\"}},\"id\":\"4e1e40f7-4f7d-4fc8-8349-0a2cd4e3e2fe\",\"type\":\"LinearAxis\"},{\"attributes\":{\"callback\":null},\"id\":\"7c8ede05-7dde-4d7a-a369-2662d3ae0f16\",\"type\":\"DataRange1d\"},{\"attributes\":{},\"id\":\"f3b21d00-704b-4cb7-8bad-9659ba905afc\",\"type\":\"SaveTool\"},{\"attributes\":{},\"id\":\"507ce46b-087e-45fe-bb98-278f85832bdb\",\"type\":\"CategoricalScale\"},{\"attributes\":{},\"id\":\"bd6a094a-482f-49b8-ae45-cc4529c87bda\",\"type\":\"CategoricalTicker\"},{\"attributes\":{},\"id\":\"18d5eea7-767d-4e48-84a5-63b081fd7684\",\"type\":\"HelpTool\"},{\"attributes\":{\"axis_label\":\"flux (W m-2)\",\"formatter\":{\"id\":\"128488e6-5031-443d-a73e-61150bf5deb9\",\"type\":\"BasicTickFormatter\"},\"plot\":{\"id\":\"8795e90c-8630-46c1-a75a-1c5011602f04\",\"subtype\":\"Figure\",\"type\":\"Plot\"},\"ticker\":{\"id\":\"545ed585-62f3-4fc4-ac88-4260e2ba802d\",\"type\":\"BasicTicker\"}},\"id\":\"d38f31e0-05b5-4335-ab81-2520d9f4fc73\",\"type\":\"LinearAxis\"},{\"attributes\":{\"fill_color\":{\"value\":\"#1f77b4\"},\"line_color\":{\"value\":\"#1f77b4\"},\"top\":{\"field\":\"flux\"},\"width\":{\"value\":0.9},\"x\":{\"field\":\"band\"}},\"id\":\"3b0a7aa6-ac59-46e0-8a90-1c2f546bf761\",\"type\":\"VBar\"},{\"attributes\":{\"fill_alpha\":{\"value\":0.1},\"fill_color\":{\"value\":\"#1f77b4\"},\"line_alpha\":{\"value\":0.1},\"line_color\":{\"value\":\"#1f77b4\"},\"top\":{\"field\":\"flux\"},\"width\":{\"value\":0.9},\"x\":{\"field\":\"band\"}},\"id\":\"7740991d-ec10-43b9-8848-117eafda41d0\",\"type\":\"VBar\"},{\"attributes\":{\"axis_label\":\"spectral band\",\"formatter\":{\"id\":\"47ea1d6f-f669-4a80-87b3-e638bebf0ddc\",\"type\":\"CategoricalTickFormatter\"},\"plot\":{\"id\":\"8795e90c-8630-46c1-a75a-1c5011602f04\",\"subtype\":\"Figure\",\"type\":\"Plot\"},\"ticker\":{\"id\":\"bd6a094a-482f-49b8-ae45-cc4529c87bda\",\"type\":\"CategoricalTicker\"}},\"id\":\"025e685f-1f17-4012-a940-e83bb8f2add7\",\"type\":\"CategoricalAxis\"},{\"attributes\":{},\"id\":\"06663199-9c03-476d-a1e8-a784e20e4942\",\"type\":\"PanTool\"},{\"attributes\":{},\"id\":\"545ed585-62f3-4fc4-ac88-4260e2ba802d\",\"type\":\"BasicTicker\"},{\"attributes\":{\"callback\":null,\"factors\":[\"1\",\"2\",\"3\",\"4\",\"5\",\"6\",\"7\",\"8\",\"9\",\"10\",\"11\"]},\"id\":\"7782d37f-413d-45f7-be9a-b3ea71c23759\",\"type\":\"FactorRange\"},{\"attributes\":{\"active_drag\":\"auto\",\"active_inspect\":\"auto\",\"active_scroll\":\"auto\",\"active_tap\":\"auto\",\"tools\":[{\"id\":\"31c36c19-e769-4096-9ca6-5dca70c49313\",\"type\":\"PanTool\"},{\"id\":\"7444642a-19d8-4bab-b105-5a3b47c03f94\",\"type\":\"WheelZoomTool\"},{\"id\":\"b2a27f8e-32a5-4218-ae7f-94c81939dc54\",\"type\":\"BoxZoomTool\"},{\"id\":\"f3b21d00-704b-4cb7-8bad-9659ba905afc\",\"type\":\"SaveTool\"},{\"id\":\"44b2de3e-b421-4806-a04b-582f76cef1ae\",\"type\":\"ResetTool\"},{\"id\":\"18d5eea7-767d-4e48-84a5-63b081fd7684\",\"type\":\"HelpTool\"}]},\"id\":\"766892e4-93da-45f6-a45d-316c3105a91c\",\"type\":\"Toolbar\"},{\"attributes\":{\"below\":[{\"id\":\"025e685f-1f17-4012-a940-e83bb8f2add7\",\"type\":\"CategoricalAxis\"}],\"left\":[{\"id\":\"d38f31e0-05b5-4335-ab81-2520d9f4fc73\",\"type\":\"LinearAxis\"}],\"plot_height\":300,\"plot_width\":300,\"renderers\":[{\"id\":\"025e685f-1f17-4012-a940-e83bb8f2add7\",\"type\":\"CategoricalAxis\"},{\"id\":\"20393775-05de-4784-be9d-e7010d02fbf7\",\"type\":\"Grid\"},{\"id\":\"d38f31e0-05b5-4335-ab81-2520d9f4fc73\",\"type\":\"LinearAxis\"},{\"id\":\"a1daa1b2-3455-4fa3-8092-18738fd988d9\",\"type\":\"Grid\"},{\"id\":\"72f96ea9-7c17-46cc-bdd3-1adf5b4511ad\",\"type\":\"BoxAnnotation\"},{\"id\":\"f117c50b-e652-4000-897c-0e4aa13e7553\",\"type\":\"GlyphRenderer\"}],\"title\":{\"id\":\"7d6c66a1-25d0-449b-9f93-89d6bf358108\",\"type\":\"Title\"},\"toolbar\":{\"id\":\"ffc7c5d4-e73f-4fcd-94a4-4d627d10e825\",\"type\":\"Toolbar\"},\"toolbar_location\":null,\"x_range\":{\"id\":\"7782d37f-413d-45f7-be9a-b3ea71c23759\",\"type\":\"FactorRange\"},\"x_scale\":{\"id\":\"507ce46b-087e-45fe-bb98-278f85832bdb\",\"type\":\"CategoricalScale\"},\"y_range\":{\"id\":\"7c8ede05-7dde-4d7a-a369-2662d3ae0f16\",\"type\":\"DataRange1d\"},\"y_scale\":{\"id\":\"fc221221-98fb-4319-a902-9e800aa96356\",\"type\":\"LinearScale\"}},\"id\":\"8795e90c-8630-46c1-a75a-1c5011602f04\",\"subtype\":\"Figure\",\"type\":\"Plot\"},{\"attributes\":{\"bottom_units\":\"screen\",\"fill_alpha\":{\"value\":0.5},\"fill_color\":{\"value\":\"lightgrey\"},\"left_units\":\"screen\",\"level\":\"overlay\",\"line_alpha\":{\"value\":1.0},\"line_color\":{\"value\":\"black\"},\"line_dash\":[4,4],\"line_width\":{\"value\":2},\"plot\":null,\"render_mode\":\"css\",\"right_units\":\"screen\",\"top_units\":\"screen\"},\"id\":\"dddc30cc-23bf-4f58-ae1b-e7b5404127e7\",\"type\":\"BoxAnnotation\"},{\"attributes\":{\"plot\":null,\"text\":\"SFC flux. CLIRAD (single-run) - CRD.\"},\"id\":\"7d6c66a1-25d0-449b-9f93-89d6bf358108\",\"type\":\"Title\"},{\"attributes\":{\"below\":[{\"id\":\"8981da03-af25-4b85-b20a-501d7f452d24\",\"type\":\"CategoricalAxis\"}],\"left\":[{\"id\":\"754964ab-333f-4cb1-9dfa-e64b636008d7\",\"type\":\"LinearAxis\"}],\"plot_height\":300,\"plot_width\":300,\"renderers\":[{\"id\":\"8981da03-af25-4b85-b20a-501d7f452d24\",\"type\":\"CategoricalAxis\"},{\"id\":\"e94500a4-2048-48a6-93cc-5a192f7c05c4\",\"type\":\"Grid\"},{\"id\":\"754964ab-333f-4cb1-9dfa-e64b636008d7\",\"type\":\"LinearAxis\"},{\"id\":\"b1f5f14e-2587-46ce-99f6-44c38b1bd1ec\",\"type\":\"Grid\"},{\"id\":\"dddc30cc-23bf-4f58-ae1b-e7b5404127e7\",\"type\":\"BoxAnnotation\"},{\"id\":\"1e2c0138-ba6d-4379-a55a-2145b6d494f1\",\"type\":\"GlyphRenderer\"}],\"title\":{\"id\":\"50db2f4c-587f-4966-984e-c2595840f875\",\"type\":\"Title\"},\"toolbar\":{\"id\":\"766892e4-93da-45f6-a45d-316c3105a91c\",\"type\":\"Toolbar\"},\"toolbar_location\":null,\"x_range\":{\"id\":\"ec65bac4-15dc-4218-8571-f6e2d530d16a\",\"type\":\"FactorRange\"},\"x_scale\":{\"id\":\"5ab30bc1-a0c4-4aab-b45d-c0c39d308cb7\",\"type\":\"CategoricalScale\"},\"y_range\":{\"id\":\"dfa527fe-ff48-4f56-9936-109959855b50\",\"type\":\"DataRange1d\"},\"y_scale\":{\"id\":\"6b388239-411a-4ea2-8d04-de368f36bb09\",\"type\":\"LinearScale\"}},\"id\":\"47874ed9-a289-41c8-a264-40f485d18bf4\",\"subtype\":\"Figure\",\"type\":\"Plot\"},{\"attributes\":{},\"id\":\"3c7d99fb-99cc-434b-9fac-b78c51045704\",\"type\":\"CategoricalTickFormatter\"},{\"attributes\":{\"overlay\":{\"id\":\"72f96ea9-7c17-46cc-bdd3-1adf5b4511ad\",\"type\":\"BoxAnnotation\"}},\"id\":\"258f1d49-1461-4f63-9225-9d20c80499f6\",\"type\":\"BoxZoomTool\"},{\"attributes\":{},\"id\":\"fc221221-98fb-4319-a902-9e800aa96356\",\"type\":\"LinearScale\"},{\"attributes\":{},\"id\":\"7d4150fc-cefb-49df-85e0-8bc3d4979287\",\"type\":\"WheelZoomTool\"},{\"attributes\":{},\"id\":\"44b2de3e-b421-4806-a04b-582f76cef1ae\",\"type\":\"ResetTool\"},{\"attributes\":{\"bottom_units\":\"screen\",\"fill_alpha\":{\"value\":0.5},\"fill_color\":{\"value\":\"lightgrey\"},\"left_units\":\"screen\",\"level\":\"overlay\",\"line_alpha\":{\"value\":1.0},\"line_color\":{\"value\":\"black\"},\"line_dash\":[4,4],\"line_width\":{\"value\":2},\"plot\":null,\"render_mode\":\"css\",\"right_units\":\"screen\",\"top_units\":\"screen\"},\"id\":\"72f96ea9-7c17-46cc-bdd3-1adf5b4511ad\",\"type\":\"BoxAnnotation\"},{\"attributes\":{\"plot\":null,\"text\":\"TOA flux. CLIRAD (single-run) - CRD.\"},\"id\":\"50db2f4c-587f-4966-984e-c2595840f875\",\"type\":\"Title\"},{\"attributes\":{\"dimension\":1,\"plot\":{\"id\":\"8795e90c-8630-46c1-a75a-1c5011602f04\",\"subtype\":\"Figure\",\"type\":\"Plot\"},\"ticker\":{\"id\":\"545ed585-62f3-4fc4-ac88-4260e2ba802d\",\"type\":\"BasicTicker\"}},\"id\":\"a1daa1b2-3455-4fa3-8092-18738fd988d9\",\"type\":\"Grid\"},{\"attributes\":{\"active_drag\":\"auto\",\"active_inspect\":\"auto\",\"active_scroll\":\"auto\",\"active_tap\":\"auto\",\"tools\":[{\"id\":\"06663199-9c03-476d-a1e8-a784e20e4942\",\"type\":\"PanTool\"},{\"id\":\"7d4150fc-cefb-49df-85e0-8bc3d4979287\",\"type\":\"WheelZoomTool\"},{\"id\":\"258f1d49-1461-4f63-9225-9d20c80499f6\",\"type\":\"BoxZoomTool\"},{\"id\":\"3420d8c6-d20f-4a7d-ac65-bd102e5b21da\",\"type\":\"SaveTool\"},{\"id\":\"b7cca656-dee9-422c-9b4e-0387a8ef6ab7\",\"type\":\"ResetTool\"},{\"id\":\"1a93f245-e26b-491b-b254-8b0bf58aa4c3\",\"type\":\"HelpTool\"}]},\"id\":\"ffc7c5d4-e73f-4fcd-94a4-4d627d10e825\",\"type\":\"Toolbar\"},{\"attributes\":{\"plot\":{\"id\":\"8795e90c-8630-46c1-a75a-1c5011602f04\",\"subtype\":\"Figure\",\"type\":\"Plot\"},\"ticker\":{\"id\":\"bd6a094a-482f-49b8-ae45-cc4529c87bda\",\"type\":\"CategoricalTicker\"}},\"id\":\"20393775-05de-4784-be9d-e7010d02fbf7\",\"type\":\"Grid\"}],\"root_ids\":[\"47a07174-bea6-4856-afba-b7cbea54f670\"]},\"title\":\"Bokeh Application\",\"version\":\"0.12.16\"}};\n",
       "  var render_items = [{\"docid\":\"b6b4c2a5-0aa9-4cfa-abee-fd0450d262d2\",\"elementid\":\"59cdeeaf-55f2-4a51-9258-61ff67b30b1e\",\"modelid\":\"47a07174-bea6-4856-afba-b7cbea54f670\"}];\n",
       "  root.Bokeh.embed.embed_items_notebook(docs_json, render_items);\n",
       "\n",
       "  }\n",
       "  if (root.Bokeh !== undefined) {\n",
       "    embed_document(root);\n",
       "  } else {\n",
       "    var attempts = 0;\n",
       "    var timer = setInterval(function(root) {\n",
       "      if (root.Bokeh !== undefined) {\n",
       "        embed_document(root);\n",
       "        clearInterval(timer);\n",
       "      }\n",
       "      attempts++;\n",
       "      if (attempts > 100) {\n",
       "        console.log(\"Bokeh: ERROR: Unable to run BokehJS code because BokehJS library is missing\")\n",
       "        clearInterval(timer);\n",
       "      }\n",
       "    }, 10, root)\n",
       "  }\n",
       "})(window);"
      ],
      "application/vnd.bokehjs_exec.v0+json": ""
     },
     "metadata": {
      "application/vnd.bokehjs_exec.v0+json": {
       "id": "47a07174-bea6-4856-afba-b7cbea54f670"
      }
     },
     "output_type": "display_data"
    },
    {
     "data": {
      "text/markdown": [
       "*FIGURE.* Difference between CLIRAD and CRD in TOA, SFC and net atmosphere flux, in each spectral band."
      ],
      "text/plain": [
       "<IPython.core.display.Markdown object>"
      ]
     },
     "metadata": {},
     "output_type": "display_data"
    },
    {
     "data": {
      "text/html": [
       "<div>\n",
       "<style scoped>\n",
       "    .dataframe tbody tr th:only-of-type {\n",
       "        vertical-align: middle;\n",
       "    }\n",
       "\n",
       "    .dataframe tbody tr th {\n",
       "        vertical-align: top;\n",
       "    }\n",
       "\n",
       "    .dataframe thead th {\n",
       "        text-align: right;\n",
       "    }\n",
       "</style>\n",
       "<table border=\"1\" class=\"dataframe\">\n",
       "  <thead>\n",
       "    <tr style=\"text-align: right;\">\n",
       "      <th></th>\n",
       "      <th>OLR flux</th>\n",
       "      <th>SFC flux</th>\n",
       "      <th>ATM heating</th>\n",
       "    </tr>\n",
       "    <tr>\n",
       "      <th>Sum over bands</th>\n",
       "      <th></th>\n",
       "      <th></th>\n",
       "      <th></th>\n",
       "    </tr>\n",
       "  </thead>\n",
       "  <tbody>\n",
       "    <tr>\n",
       "      <th>old CLIRAD - CRD</th>\n",
       "      <td>0.09</td>\n",
       "      <td>1.54</td>\n",
       "      <td>-1.31</td>\n",
       "    </tr>\n",
       "    <tr>\n",
       "      <th>CLIRAD (single-run) - CRD</th>\n",
       "      <td>1.13</td>\n",
       "      <td>0.79</td>\n",
       "      <td>0.33</td>\n",
       "    </tr>\n",
       "    <tr>\n",
       "      <th>CRD</th>\n",
       "      <td>-290.39</td>\n",
       "      <td>308.14</td>\n",
       "      <td>-174.89</td>\n",
       "    </tr>\n",
       "  </tbody>\n",
       "</table>\n",
       "</div>"
      ],
      "text/plain": [
       "                           OLR flux  SFC flux  ATM heating\n",
       "Sum over bands                                            \n",
       "old CLIRAD - CRD               0.09      1.54        -1.31\n",
       "CLIRAD (single-run) - CRD      1.13      0.79         0.33\n",
       "CRD                         -290.39    308.14      -174.89"
      ]
     },
     "metadata": {},
     "output_type": "display_data"
    },
    {
     "data": {
      "text/markdown": [
       "*TABLE.* Difference between CLIRAD and CRD in TOA, SFC and net atmosphere flux, over all spectral bands. CRD's TOA, SFC and net atmosphere flux, over all spectral bands."
      ],
      "text/plain": [
       "<IPython.core.display.Markdown object>"
      ]
     },
     "metadata": {},
     "output_type": "display_data"
    },
    {
     "data": {
      "text/html": [
       "<a id=\"Cooling_rates._saw.\"></a>"
      ],
      "text/plain": [
       "<IPython.core.display.HTML object>"
      ]
     },
     "metadata": {},
     "output_type": "display_data"
    },
    {
     "data": {
      "text/markdown": [
       "# Cooling rates. saw."
      ],
      "text/plain": [
       "<IPython.core.display.Markdown object>"
      ]
     },
     "metadata": {},
     "output_type": "display_data"
    },
    {
     "data": {
      "text/html": [
       "\n",
       "<div class=\"bk-root\">\n",
       "    <div class=\"bk-plotdiv\" id=\"ee391821-da34-48e7-a334-8edcd12f74c2\"></div>\n",
       "</div>"
      ]
     },
     "metadata": {},
     "output_type": "display_data"
    },
    {
     "data": {
      "application/javascript": [
       "(function(root) {\n",
       "  function embed_document(root) {\n",
       "    \n",
       "  var docs_json = {\"d512f07f-0d8b-4a43-bd6b-ddd70a5c5f9e\":{\"roots\":{\"references\":[{\"attributes\":{\"fill_alpha\":{\"value\":0.7},\"fill_color\":{\"value\":\"#984ea3\"},\"line_alpha\":{\"value\":0.7},\"line_color\":{\"value\":\"#984ea3\"},\"x\":{\"field\":\"x\"},\"y\":{\"field\":\"y\"}},\"id\":\"1de4a3da-a915-47c3-8418-6b02ef59f82b\",\"type\":\"Circle\"},{\"attributes\":{},\"id\":\"dc185222-2717-4c53-8b11-8d6ff1438f34\",\"type\":\"UnionRenderers\"},{\"attributes\":{\"fill_alpha\":{\"value\":0.1},\"fill_color\":{\"value\":\"#1f77b4\"},\"line_alpha\":{\"value\":0.1},\"line_color\":{\"value\":\"#1f77b4\"},\"x\":{\"field\":\"x\"},\"y\":{\"field\":\"y\"}},\"id\":\"a3708e79-0693-406a-a3ec-5c5346e0dc29\",\"type\":\"Circle\"},{\"attributes\":{},\"id\":\"48539ea5-cf55-4933-a7ff-228c114b05d9\",\"type\":\"ResetTool\"},{\"attributes\":{},\"id\":\"1ada6ea0-3233-4271-ac3b-fc234bd7f696\",\"type\":\"LinearScale\"},{\"attributes\":{},\"id\":\"d76cc144-0090-4588-907d-848f20d3e466\",\"type\":\"Selection\"},{\"attributes\":{\"tools\":[{\"id\":\"b5b9136d-3058-4547-b85a-4dad3b3a37fd\",\"type\":\"PanTool\"},{\"id\":\"be86f3a8-e9b9-4efa-881b-ed92e0101cb8\",\"type\":\"WheelZoomTool\"},{\"id\":\"1a6e401d-7893-4669-bacc-400cb8bfb250\",\"type\":\"BoxZoomTool\"},{\"id\":\"b6863c74-a638-4e14-b258-0cf135d600fe\",\"type\":\"SaveTool\"},{\"id\":\"d70e184a-f7ff-433a-9630-6caf4d9b8e5d\",\"type\":\"ResetTool\"},{\"id\":\"249f5cfe-a528-4306-a59f-d8bd3bd55e9a\",\"type\":\"HelpTool\"},{\"id\":\"3187e272-39f0-4e3f-955f-7351b5542528\",\"type\":\"PanTool\"},{\"id\":\"3d4b19fd-d435-4526-ac36-de68c55fcb94\",\"type\":\"WheelZoomTool\"},{\"id\":\"cef5e72c-94ec-43c7-966c-dac794ad418d\",\"type\":\"BoxZoomTool\"},{\"id\":\"27c52fa0-8eb2-4b61-b336-868dedc37528\",\"type\":\"SaveTool\"},{\"id\":\"48539ea5-cf55-4933-a7ff-228c114b05d9\",\"type\":\"ResetTool\"},{\"id\":\"13db52b7-b050-4edb-a82a-37445e6debcf\",\"type\":\"HelpTool\"},{\"id\":\"92ea8078-2921-45b7-a367-a356d9a615c8\",\"type\":\"PanTool\"},{\"id\":\"0e33c2d4-5a98-4e57-9327-6530cd0d0803\",\"type\":\"WheelZoomTool\"},{\"id\":\"fde00601-b7b9-4c3e-913d-14800b33471c\",\"type\":\"BoxZoomTool\"},{\"id\":\"94d15a9c-b213-4e61-a481-c15729cb41a7\",\"type\":\"SaveTool\"},{\"id\":\"9a6d57f8-7bd9-42b3-b9ae-56fccb119275\",\"type\":\"ResetTool\"},{\"id\":\"1c682e0d-8b3d-40a5-a975-7ece614686d5\",\"type\":\"HelpTool\"}]},\"id\":\"a0b15a5f-8a75-4c3c-b88f-0767b9950e68\",\"type\":\"ProxyToolbar\"},{\"attributes\":{},\"id\":\"3d4b19fd-d435-4526-ac36-de68c55fcb94\",\"type\":\"WheelZoomTool\"},{\"attributes\":{\"items\":[{\"id\":\"e6bb83fb-72c6-4198-a2ea-f1dc7738a607\",\"type\":\"LegendItem\"}],\"label_text_font_size\":{\"value\":\"8pt\"},\"location\":\"top_center\",\"orientation\":\"horizontal\",\"plot\":{\"id\":\"3b45c815-dcd1-4ff7-8d43-575a46d26e40\",\"subtype\":\"Figure\",\"type\":\"Plot\"}},\"id\":\"575f4e94-bb36-4b27-973c-c06647d9bd71\",\"type\":\"Legend\"},{\"attributes\":{},\"id\":\"152b2fab-9209-42d6-acbb-646215dacca9\",\"type\":\"BasicTicker\"},{\"attributes\":{\"dimension\":1,\"plot\":{\"id\":\"3b45c815-dcd1-4ff7-8d43-575a46d26e40\",\"subtype\":\"Figure\",\"type\":\"Plot\"},\"ticker\":{\"id\":\"ebee05cd-41a3-476a-89af-2da84a01a270\",\"type\":\"LogTicker\"}},\"id\":\"7c610b36-9345-4f88-8392-13655b5af9f6\",\"type\":\"Grid\"},{\"attributes\":{\"callback\":null,\"data\":{\"x\":{\"__ndarray__\":\"dPEGK8OVQEDeoOdcKI48QFbHwpv6Wj5Ay6P+H0H1PkDQ4Pw1Pwc+QE/QQMz8iTtA2A4AykzZN0DdjedX4NEzQGtNrhl/gDBA2D3w2wNCLUCD8yO1LFEsQMSh3yrZ2SxAddHY/lW3LUCQJQyh8TwtQDsZ7GODoSpAi6Dn/2tIJ0DnDLMq6HUkQI7khOlE0SJADOiE4G6jIkCA/E90r7ojQD4p//OgKSZA0QfX6dGqJUCyytltEichQGghgfXIYRlAYiDp91xnE0B2wNHWtrQPQJ4m9qB2vgpAeJDQ8VfQBUDZ0VLI7iYCQFfZT3TydP8/LweR0IUK/T/QULeHxNj4P2vv6z6eL/Q/zgHEDC0f8T/QFWBxKcbuP44Jru1pXOw/gHqFfZV+5z+OfasQZCrhP6t1AyXK0t0/lna9be4v3T/c2Wqej6reP35gz5e/Ud4/nMqPj0zn3D8LaSXAL2PaPwxLIAIe8tI/ycIIktEE0T/QBmDBekPcP1FO88ASwOM/Iq2sIt+z6z9G6FH1eCvyPxuVEdtBb/U/iGRHMeCT9z8UPT1a/HH4P34cIRzqbvg/BVL+/E89+D8UZw90MO/3Pxe6cKnMffc/gpFKgkbl9j+HrQkEYjP2P3zN2LsygPU/XbOBIde49D8Mb12IkenzP3WIqqFOEvM/areay8ZI8j+L6oiWEKHxPzKOAUHPLvE/uT5D5rAN8T9sYOhno1DxP+7HZ16AqPE/jCnpRRNe8T/L5uQkGIfvP9VKN758h+o/8f1zKreS5T9uCZ6e1UPhP0M/OoB87NY/\",\"dtype\":\"float64\",\"shape\":[75]},\"y\":{\"__ndarray__\":\"GhExyth1ND/Sv8nbtpRIP2vylNV0PVE/aTum7souWD/At0SJ8fVgPw3Iuahxymc/MSNhhJWvcD/bTfBN02d3P2zb5nxnaoA/CD5h5MAGhz8NmeH1TyaQP+zrCsc9p5Y/LbKd76fGnz/bLW5ISEmmPww9YvTcQq8/JV2OstnstT8Er5Y7M8G+P0c+r3jqkcU/5h99k6ZBzj88bCIzFzjVP4enV8oyxN0//yH99nXg5D8qOpLLf0jtP5kqGJXUifQ/c9cS8kHP/D+/DpwzojQEQIEmwoanVwxA4lgXt9HgE0BSSZ2AJuIbQAMJih9jjiNA5q4l5INuK0AwTKYKRj0zQNv5fmq8/DpAaCJseHrtQkB/+zpwzoxKQM3MzMzMeFJAZmZmZmZqWEAAAAAAAFxeQM3MzMzMJmJAmpmZmZkfZUBmZmZmZhhoQDMzMzMzEWtAAAAAAAAKbkBmZmZmZoFwQM3MzMzM/XFAMzMzMzN6c0CamZmZmfZ0QAAAAAAAc3ZAZmZmZmbvd0DNzMzMzGt5QDMzMzMz6HpAmpmZmZlkfEAAAAAAAOF9QGZmZmZmXX9AZmZmZuZsgECamZmZGSuBQM3MzMxM6YFAAAAAAICngkAzMzMzs2WDQGZmZmbmI4RAmpmZmRnihEDNzMzMTKCFQAAAAACAXoZAMzMzM7Mch0BmZmZm5tqHQJqZmZkZmYhAzczMzExXiUAAAAAAgBWKQDMzMzOz04pAZmZmZuaRi0CamZmZGVCMQM3MzMxMDo1AAAAAAIDMjUAzMzMzs4qOQGZmZmbmSI9A\",\"dtype\":\"float64\",\"shape\":[75]}},\"selected\":{\"id\":\"5cab33b8-fb0f-456e-ac34-adb61c399d11\",\"type\":\"Selection\"},\"selection_policy\":{\"id\":\"861f84b2-c9b8-4a0a-9b79-dd62768e537e\",\"type\":\"UnionRenderers\"}},\"id\":\"bb0c7eab-2888-4809-b5e2-c6fa9c4e7ca0\",\"type\":\"ColumnDataSource\"},{\"attributes\":{\"bottom_units\":\"screen\",\"fill_alpha\":{\"value\":0.5},\"fill_color\":{\"value\":\"lightgrey\"},\"left_units\":\"screen\",\"level\":\"overlay\",\"line_alpha\":{\"value\":1.0},\"line_color\":{\"value\":\"black\"},\"line_dash\":[4,4],\"line_width\":{\"value\":2},\"plot\":null,\"render_mode\":\"css\",\"right_units\":\"screen\",\"top_units\":\"screen\"},\"id\":\"bd588ec0-17e6-4866-8ca6-e9e7001b5c4d\",\"type\":\"BoxAnnotation\"},{\"attributes\":{},\"id\":\"3187e272-39f0-4e3f-955f-7351b5542528\",\"type\":\"PanTool\"},{\"attributes\":{\"source\":{\"id\":\"2566155a-62fd-4e9e-9bd0-d2b249d61c26\",\"type\":\"ColumnDataSource\"}},\"id\":\"88f1b175-3536-44a3-a3ee-d159260f6b41\",\"type\":\"CDSView\"},{\"attributes\":{},\"id\":\"56d12735-8de8-4702-abdf-d9217d4a72a1\",\"type\":\"Selection\"},{\"attributes\":{\"above\":[{\"id\":\"575f4e94-bb36-4b27-973c-c06647d9bd71\",\"type\":\"Legend\"}],\"below\":[{\"id\":\"b93a06bd-8b76-49ff-903b-7ea3d526b7ef\",\"type\":\"LinearAxis\"}],\"left\":[{\"id\":\"38d9e133-3b3f-4179-a035-62712be830aa\",\"type\":\"LogAxis\"}],\"plot_width\":300,\"renderers\":[{\"id\":\"b93a06bd-8b76-49ff-903b-7ea3d526b7ef\",\"type\":\"LinearAxis\"},{\"id\":\"e712513f-275c-4d99-8854-3d0748584257\",\"type\":\"Grid\"},{\"id\":\"38d9e133-3b3f-4179-a035-62712be830aa\",\"type\":\"LogAxis\"},{\"id\":\"7c610b36-9345-4f88-8392-13655b5af9f6\",\"type\":\"Grid\"},{\"id\":\"f94b1d72-dac1-403f-b412-0421da226ba9\",\"type\":\"BoxAnnotation\"},{\"id\":\"2c2d1382-3d66-45e4-991e-4a4bed09d847\",\"type\":\"GlyphRenderer\"},{\"id\":\"e6f0042a-6a0d-4ee4-bce7-0e4bbf27a65f\",\"type\":\"GlyphRenderer\"},{\"id\":\"575f4e94-bb36-4b27-973c-c06647d9bd71\",\"type\":\"Legend\"}],\"title\":{\"id\":\"9476c0b1-587b-4e0d-8035-9df171b38632\",\"type\":\"Title\"},\"toolbar\":{\"id\":\"8222facd-09c8-41d1-86d9-5870bc2316ea\",\"type\":\"Toolbar\"},\"toolbar_location\":null,\"x_range\":{\"id\":\"14ccbfa3-cbb8-4b46-9763-74746daf21fb\",\"type\":\"Range1d\"},\"x_scale\":{\"id\":\"1ada6ea0-3233-4271-ac3b-fc234bd7f696\",\"type\":\"LinearScale\"},\"y_range\":{\"id\":\"d7783de5-2af3-47b6-b2c9-ed7ec63643d9\",\"type\":\"Range1d\"},\"y_scale\":{\"id\":\"8be7a4e5-11d3-4d8b-a166-a49215e61774\",\"type\":\"LogScale\"}},\"id\":\"3b45c815-dcd1-4ff7-8d43-575a46d26e40\",\"subtype\":\"Figure\",\"type\":\"Plot\"},{\"attributes\":{\"line_alpha\":0.1,\"line_color\":\"#1f77b4\",\"line_width\":1.5,\"x\":{\"field\":\"x\"},\"y\":{\"field\":\"y\"}},\"id\":\"ff05a028-e9f9-44f0-b30b-f3bf19cb7f6c\",\"type\":\"Line\"},{\"attributes\":{},\"id\":\"f9f112ec-f42a-4fae-bf45-c1620fdb0a45\",\"type\":\"UnionRenderers\"},{\"attributes\":{\"source\":{\"id\":\"7cc8e230-3162-453a-80d7-04e4a8e2faa6\",\"type\":\"ColumnDataSource\"}},\"id\":\"d8427964-4eb3-4580-aa22-37a07750557f\",\"type\":\"CDSView\"},{\"attributes\":{\"plot\":null,\"text\":\"\"},\"id\":\"45d0ad01-8281-442d-9b28-e59086e99c8a\",\"type\":\"Title\"},{\"attributes\":{\"active_drag\":\"auto\",\"active_inspect\":\"auto\",\"active_scroll\":\"auto\",\"active_tap\":\"auto\",\"tools\":[{\"id\":\"92ea8078-2921-45b7-a367-a356d9a615c8\",\"type\":\"PanTool\"},{\"id\":\"0e33c2d4-5a98-4e57-9327-6530cd0d0803\",\"type\":\"WheelZoomTool\"},{\"id\":\"fde00601-b7b9-4c3e-913d-14800b33471c\",\"type\":\"BoxZoomTool\"},{\"id\":\"94d15a9c-b213-4e61-a481-c15729cb41a7\",\"type\":\"SaveTool\"},{\"id\":\"9a6d57f8-7bd9-42b3-b9ae-56fccb119275\",\"type\":\"ResetTool\"},{\"id\":\"1c682e0d-8b3d-40a5-a975-7ece614686d5\",\"type\":\"HelpTool\"}]},\"id\":\"8222facd-09c8-41d1-86d9-5870bc2316ea\",\"type\":\"Toolbar\"},{\"attributes\":{},\"id\":\"27c52fa0-8eb2-4b61-b336-868dedc37528\",\"type\":\"SaveTool\"},{\"attributes\":{\"axis_label\":\"pressure [mb]\",\"formatter\":{\"id\":\"93bd418a-1fd1-4aac-b7cc-6a8a4bb2135a\",\"type\":\"LogTickFormatter\"},\"plot\":{\"id\":\"3b45c815-dcd1-4ff7-8d43-575a46d26e40\",\"subtype\":\"Figure\",\"type\":\"Plot\"},\"ticker\":{\"id\":\"ebee05cd-41a3-476a-89af-2da84a01a270\",\"type\":\"LogTicker\"}},\"id\":\"38d9e133-3b3f-4179-a035-62712be830aa\",\"type\":\"LogAxis\"},{\"attributes\":{\"dimension\":1,\"plot\":{\"id\":\"9242efad-b88b-47eb-8b8c-2fd207dd6307\",\"subtype\":\"Figure\",\"type\":\"Plot\"},\"ticker\":{\"id\":\"82517eeb-4531-4f73-aa34-48dbab6eb125\",\"type\":\"LogTicker\"}},\"id\":\"13fd634d-c39e-4f90-976b-9cabaed29009\",\"type\":\"Grid\"},{\"attributes\":{\"items\":[{\"id\":\"e593e492-1262-447d-8ee9-f23485e3a711\",\"type\":\"LegendItem\"},{\"id\":\"80372edf-bc54-42a0-8336-14189fe94b3e\",\"type\":\"LegendItem\"}],\"label_text_font_size\":{\"value\":\"8pt\"},\"location\":\"top_center\",\"orientation\":\"horizontal\",\"plot\":{\"id\":\"9242efad-b88b-47eb-8b8c-2fd207dd6307\",\"subtype\":\"Figure\",\"type\":\"Plot\"}},\"id\":\"1577530d-12c8-46c5-835b-5c22b403a28d\",\"type\":\"Legend\"},{\"attributes\":{\"toolbar\":{\"id\":\"a0b15a5f-8a75-4c3c-b88f-0767b9950e68\",\"type\":\"ProxyToolbar\"},\"toolbar_location\":\"above\"},\"id\":\"86a8e95e-eb37-4ac7-8257-5a7561793207\",\"type\":\"ToolbarBox\"},{\"attributes\":{\"callback\":null,\"data\":{\"x\":{\"__ndarray__\":\"0CYBcvU5UkCik9zf2GVBQF1VoNfLZ0BAVLxhiVXTPUDD1Wu1wJM6QFJyB025jjdAU6Aw5+b/NECYe1uuDfgyQB6bYtVTbTFAPxYSAF1HMEA00pYVm9QuQLolHbMzgC1AntlwirGsLECv+G9SjE4rQJH6ZLBp0ShAsLZQyPd/JkDyjgyf2PwkQLgyNGsrJyRAA13QbJD6I0C8hy0ilI4kQOVTXCEgcSZAovOGvZSGJUBVc/ZmUOIgQOf/6GHAyRlAcE8fAOBSFEDRur1U//gPQGFD9ZbokghAQsqHuSqSA0C91ci3W0UBQCtRQfvz7/4/kh8pntyB+j9t1/n+4TX1P773MAUjFfI/RgzR+CI28T8hBW8WHK7uPzVKjJfU8uk/0FPt4/z65T/wVYqzMPDhPz7K9C5CXuE/8+hSn9hY4T/9PPCkR6rhP1XsIC599OA/66X1nBCX3z/YbRM56QjcPz4dkSQc/dM/S7Wb8Fq00T+/yQdmX0vcP7TrGf476eM/WqNPJoWO7D9qOH1bcwDzP2bw+R5DQ/Y/RLSuQOQp+D8+aif8yAz5P0Wv6eBKRfk/0i2+IN4R+T/ik8QNFZr4PyS5UD5j/Pc/yJ68zXRG9z/2CHPL54H2P59SOhwKtPU/npkP8dfg9D8NlmVcdQz0P80ugRvuOvM/byxiAHN18j9USVZie8nxP5l9lNXYSPE/OB+F0UYP8T8Y7dsUCTHxP3EBgTHPcPE/bfx15p8S8T8FT+xkGtTuP6mdG7rkxuk/pboqTkHX5D/CrN8qGYngP7R4ZaL+htU/\",\"dtype\":\"float64\",\"shape\":[75]},\"y\":{\"__ndarray__\":\"GhExyth1ND/Sv8nbtpRIP2vylNV0PVE/aTum7souWD/At0SJ8fVgPw3Iuahxymc/MSNhhJWvcD/bTfBN02d3P2zb5nxnaoA/CD5h5MAGhz8NmeH1TyaQP+zrCsc9p5Y/LbKd76fGnz/bLW5ISEmmPww9YvTcQq8/JV2OstnstT8Er5Y7M8G+P0c+r3jqkcU/5h99k6ZBzj88bCIzFzjVP4enV8oyxN0//yH99nXg5D8qOpLLf0jtP5kqGJXUifQ/c9cS8kHP/D+/DpwzojQEQIEmwoanVwxA4lgXt9HgE0BSSZ2AJuIbQAMJih9jjiNA5q4l5INuK0AwTKYKRj0zQNv5fmq8/DpAaCJseHrtQkB/+zpwzoxKQM3MzMzMeFJAZmZmZmZqWEAAAAAAAFxeQM3MzMzMJmJAmpmZmZkfZUBmZmZmZhhoQDMzMzMzEWtAAAAAAAAKbkBmZmZmZoFwQM3MzMzM/XFAMzMzMzN6c0CamZmZmfZ0QAAAAAAAc3ZAZmZmZmbvd0DNzMzMzGt5QDMzMzMz6HpAmpmZmZlkfEAAAAAAAOF9QGZmZmZmXX9AZmZmZuZsgECamZmZGSuBQM3MzMxM6YFAAAAAAICngkAzMzMzs2WDQGZmZmbmI4RAmpmZmRnihEDNzMzMTKCFQAAAAACAXoZAMzMzM7Mch0BmZmZm5tqHQJqZmZkZmYhAzczMzExXiUAAAAAAgBWKQDMzMzOz04pAZmZmZuaRi0CamZmZGVCMQM3MzMxMDo1AAAAAAIDMjUAzMzMzs4qOQGZmZmbmSI9A\",\"dtype\":\"float64\",\"shape\":[75]}},\"selected\":{\"id\":\"d76cc144-0090-4588-907d-848f20d3e466\",\"type\":\"Selection\"},\"selection_policy\":{\"id\":\"dc185222-2717-4c53-8b11-8d6ff1438f34\",\"type\":\"UnionRenderers\"}},\"id\":\"45f564e1-4143-46e8-9b85-84ea4ec233a5\",\"type\":\"ColumnDataSource\"},{\"attributes\":{},\"id\":\"a4c97ace-d5a4-4196-92cb-02c683748d80\",\"type\":\"Selection\"},{\"attributes\":{},\"id\":\"56c2d633-31c7-4f81-b116-b384d6c7f397\",\"type\":\"UnionRenderers\"},{\"attributes\":{\"ticker\":null},\"id\":\"93bd418a-1fd1-4aac-b7cc-6a8a4bb2135a\",\"type\":\"LogTickFormatter\"},{\"attributes\":{\"line_color\":\"#4daf4a\",\"line_width\":1.5,\"x\":{\"field\":\"x\"},\"y\":{\"field\":\"y\"}},\"id\":\"6aa6827d-1b84-4044-8242-8ae399856e86\",\"type\":\"Line\"},{\"attributes\":{},\"id\":\"13db52b7-b050-4edb-a82a-37445e6debcf\",\"type\":\"HelpTool\"},{\"attributes\":{\"source\":{\"id\":\"45f564e1-4143-46e8-9b85-84ea4ec233a5\",\"type\":\"ColumnDataSource\"}},\"id\":\"2b86fcb2-693c-4f51-994e-6d1a9564c883\",\"type\":\"CDSView\"},{\"attributes\":{\"fill_alpha\":{\"value\":0.7},\"fill_color\":{\"value\":\"#4daf4a\"},\"line_alpha\":{\"value\":0.7},\"line_color\":{\"value\":\"#4daf4a\"},\"x\":{\"field\":\"x\"},\"y\":{\"field\":\"y\"}},\"id\":\"7b03f68a-e92d-4c42-90f5-ccfa8da2cb95\",\"type\":\"Circle\"},{\"attributes\":{},\"id\":\"861f84b2-c9b8-4a0a-9b79-dd62768e537e\",\"type\":\"UnionRenderers\"},{\"attributes\":{},\"id\":\"73210313-6c3a-438c-9fd0-bcec0ded084d\",\"type\":\"UnionRenderers\"},{\"attributes\":{},\"id\":\"ad65f8bb-083f-477c-b487-0772af517a75\",\"type\":\"UnionRenderers\"},{\"attributes\":{\"dimension\":1,\"plot\":{\"id\":\"ba9519f8-d622-44ba-a235-e64f4c310737\",\"subtype\":\"Figure\",\"type\":\"Plot\"},\"ticker\":{\"id\":\"df809590-2ea3-4090-b5cd-d7b7d14c914b\",\"type\":\"BasicTicker\"}},\"id\":\"fcc438da-f392-414b-afb2-0aa6fd8aa99a\",\"type\":\"Grid\"},{\"attributes\":{\"callback\":null,\"end\":0.01,\"start\":1020},\"id\":\"1d7090fe-3b99-4e38-8fe2-9883973530d1\",\"type\":\"Range1d\"},{\"attributes\":{\"callback\":null,\"data\":{\"x\":{\"__ndarray__\":\"dPEGK8OVQEDeoOdcKI48QFbHwpv6Wj5Ay6P+H0H1PkDQ4Pw1Pwc+QE/QQMz8iTtA2A4AykzZN0DdjedX4NEzQGtNrhl/gDBA2D3w2wNCLUCD8yO1LFEsQMSh3yrZ2SxAddHY/lW3LUCQJQyh8TwtQDsZ7GODoSpAi6Dn/2tIJ0DnDLMq6HUkQI7khOlE0SJADOiE4G6jIkCA/E90r7ojQD4p//OgKSZA0QfX6dGqJUCyytltEichQGghgfXIYRlAYiDp91xnE0B2wNHWtrQPQJ4m9qB2vgpAeJDQ8VfQBUDZ0VLI7iYCQFfZT3TydP8/LweR0IUK/T/QULeHxNj4P2vv6z6eL/Q/zgHEDC0f8T/QFWBxKcbuP44Jru1pXOw/gHqFfZV+5z+OfasQZCrhP6t1AyXK0t0/lna9be4v3T/c2Wqej6reP35gz5e/Ud4/nMqPj0zn3D8LaSXAL2PaPwxLIAIe8tI/ycIIktEE0T/QBmDBekPcP1FO88ASwOM/Iq2sIt+z6z9G6FH1eCvyPxuVEdtBb/U/iGRHMeCT9z8UPT1a/HH4P34cIRzqbvg/BVL+/E89+D8UZw90MO/3Pxe6cKnMffc/gpFKgkbl9j+HrQkEYjP2P3zN2LsygPU/XbOBIde49D8Mb12IkenzP3WIqqFOEvM/areay8ZI8j+L6oiWEKHxPzKOAUHPLvE/uT5D5rAN8T9sYOhno1DxP+7HZ16AqPE/jCnpRRNe8T/L5uQkGIfvP9VKN758h+o/8f1zKreS5T9uCZ6e1UPhP0M/OoB87NY/\",\"dtype\":\"float64\",\"shape\":[75]},\"y\":{\"__ndarray__\":\"GhExyth1ND/Sv8nbtpRIP2vylNV0PVE/aTum7souWD/At0SJ8fVgPw3Iuahxymc/MSNhhJWvcD/bTfBN02d3P2zb5nxnaoA/CD5h5MAGhz8NmeH1TyaQP+zrCsc9p5Y/LbKd76fGnz/bLW5ISEmmPww9YvTcQq8/JV2OstnstT8Er5Y7M8G+P0c+r3jqkcU/5h99k6ZBzj88bCIzFzjVP4enV8oyxN0//yH99nXg5D8qOpLLf0jtP5kqGJXUifQ/c9cS8kHP/D+/DpwzojQEQIEmwoanVwxA4lgXt9HgE0BSSZ2AJuIbQAMJih9jjiNA5q4l5INuK0AwTKYKRj0zQNv5fmq8/DpAaCJseHrtQkB/+zpwzoxKQM3MzMzMeFJAZmZmZmZqWEAAAAAAAFxeQM3MzMzMJmJAmpmZmZkfZUBmZmZmZhhoQDMzMzMzEWtAAAAAAAAKbkBmZmZmZoFwQM3MzMzM/XFAMzMzMzN6c0CamZmZmfZ0QAAAAAAAc3ZAZmZmZmbvd0DNzMzMzGt5QDMzMzMz6HpAmpmZmZlkfEAAAAAAAOF9QGZmZmZmXX9AZmZmZuZsgECamZmZGSuBQM3MzMxM6YFAAAAAAICngkAzMzMzs2WDQGZmZmbmI4RAmpmZmRnihEDNzMzMTKCFQAAAAACAXoZAMzMzM7Mch0BmZmZm5tqHQJqZmZkZmYhAzczMzExXiUAAAAAAgBWKQDMzMzOz04pAZmZmZuaRi0CamZmZGVCMQM3MzMxMDo1AAAAAAIDMjUAzMzMzs4qOQGZmZmbmSI9A\",\"dtype\":\"float64\",\"shape\":[75]}},\"selected\":{\"id\":\"60e3eed5-e43f-4bbc-9fc1-c7e8a306cfc4\",\"type\":\"Selection\"},\"selection_policy\":{\"id\":\"f0f5b517-8da9-4081-b534-8517c657bccc\",\"type\":\"UnionRenderers\"}},\"id\":\"7cc8e230-3162-453a-80d7-04e4a8e2faa6\",\"type\":\"ColumnDataSource\"},{\"attributes\":{\"data_source\":{\"id\":\"2566155a-62fd-4e9e-9bd0-d2b249d61c26\",\"type\":\"ColumnDataSource\"},\"glyph\":{\"id\":\"7b03f68a-e92d-4c42-90f5-ccfa8da2cb95\",\"type\":\"Circle\"},\"hover_glyph\":null,\"muted_glyph\":null,\"nonselection_glyph\":{\"id\":\"a3708e79-0693-406a-a3ec-5c5346e0dc29\",\"type\":\"Circle\"},\"selection_glyph\":null,\"view\":{\"id\":\"88f1b175-3536-44a3-a3ee-d159260f6b41\",\"type\":\"CDSView\"}},\"id\":\"73694b9e-b724-4f49-88e2-d483df32924f\",\"type\":\"GlyphRenderer\"},{\"attributes\":{},\"id\":\"8be7a4e5-11d3-4d8b-a166-a49215e61774\",\"type\":\"LogScale\"},{\"attributes\":{\"plot\":{\"id\":\"3b45c815-dcd1-4ff7-8d43-575a46d26e40\",\"subtype\":\"Figure\",\"type\":\"Plot\"},\"ticker\":{\"id\":\"152b2fab-9209-42d6-acbb-646215dacca9\",\"type\":\"BasicTicker\"}},\"id\":\"e712513f-275c-4d99-8854-3d0748584257\",\"type\":\"Grid\"},{\"attributes\":{\"ticker\":null},\"id\":\"59d7db88-63a7-4791-85a9-286601c88431\",\"type\":\"LogTickFormatter\"},{\"attributes\":{\"overlay\":{\"id\":\"bd588ec0-17e6-4866-8ca6-e9e7001b5c4d\",\"type\":\"BoxAnnotation\"}},\"id\":\"cef5e72c-94ec-43c7-966c-dac794ad418d\",\"type\":\"BoxZoomTool\"},{\"attributes\":{\"callback\":null,\"end\":0.9917710995134403,\"start\":-1.6759815666374394},\"id\":\"14ccbfa3-cbb8-4b46-9763-74746daf21fb\",\"type\":\"Range1d\"},{\"attributes\":{},\"id\":\"747ba89a-f16d-4709-95b9-16b7e28cf1ea\",\"type\":\"BasicTickFormatter\"},{\"attributes\":{\"axis_label\":\"cooling rate [K/day]\",\"formatter\":{\"id\":\"f5c64b63-a94a-4355-a710-d699d3c48f75\",\"type\":\"BasicTickFormatter\"},\"plot\":{\"id\":\"3b45c815-dcd1-4ff7-8d43-575a46d26e40\",\"subtype\":\"Figure\",\"type\":\"Plot\"},\"ticker\":{\"id\":\"152b2fab-9209-42d6-acbb-646215dacca9\",\"type\":\"BasicTicker\"}},\"id\":\"b93a06bd-8b76-49ff-903b-7ea3d526b7ef\",\"type\":\"LinearAxis\"},{\"attributes\":{\"plot\":null,\"text\":\"\"},\"id\":\"9476c0b1-587b-4e0d-8035-9df171b38632\",\"type\":\"Title\"},{\"attributes\":{\"line_alpha\":0.6,\"line_color\":\"#377eb8\",\"line_dash\":[6],\"line_width\":5,\"x\":{\"field\":\"x\"},\"y\":{\"field\":\"y\"}},\"id\":\"8f6ffdd5-339e-45f8-a811-57f2ec444ff8\",\"type\":\"Line\"},{\"attributes\":{\"callback\":null,\"end\":0.01,\"start\":1020},\"id\":\"d7783de5-2af3-47b6-b2c9-ed7ec63643d9\",\"type\":\"Range1d\"},{\"attributes\":{},\"id\":\"f5c64b63-a94a-4355-a710-d699d3c48f75\",\"type\":\"BasicTickFormatter\"},{\"attributes\":{\"callback\":null,\"end\":0.01,\"start\":1020},\"id\":\"cfbf7ed5-b5d1-4185-84a2-b152c2e8aed3\",\"type\":\"Range1d\"},{\"attributes\":{\"num_minor_ticks\":10},\"id\":\"ebee05cd-41a3-476a-89af-2da84a01a270\",\"type\":\"LogTicker\"},{\"attributes\":{\"callback\":null,\"end\":16.436989944828248,\"start\":0.29782337493475003},\"id\":\"9d750663-34fe-4368-8214-e70661416539\",\"type\":\"Range1d\"},{\"attributes\":{\"callback\":null,\"data\":{\"x\":{\"__ndarray__\":\"LVz7uCfeQ8ChGUaLJfYYwCMb75vopAPAb3fOabke8j9lWIgE9JsLQOXvyvkb2g9APnR7Fi/LBkCmSIIxVTrrPyu2iXaXmu2/L3WfIbFl+r+C9ZYDcxv0v8J+sAdRy9S/UH1/Rkeq4D8IzsLpVObuP4jqcTibAe0/eTvd8oYO2T+OQTCLDt7Qv5ji9BpoXuW/V0+3xBhy5b94Z7G7lXzav/6pSlfL38G/zBgKKJYesj/I1tW4gTDBP4Gg9xnb/bm/6OHFBmFwzb/Jlv56HxKhv/EZB1BwXNE/tDFGwmnx0T+dgz8RYjK8P0oF0SHPn6A/1zw/k0lFxD8Gy+tFFBfNP2i9183Z08A/N3gKDez1dr+ErhDxWg1oP7z6DbGqTLM/FGuCmYk5qD8ZDNtblLmYvzx7mOPoprO/Rm2hQwsHtr9zgNat/qeyv3TBkyPWuay/lNouayB+pb/vTOCOl1uavx4jDSfir5C/H1Be0ivxhb9YuwufkpI/v2KxTpOelHS/zMZedMBUm7+XBGrFTJ+qv1BpC30ogKq/qPfp7IHAor8ApUU9lFmjv/JYEpkYzKq/kHn7d8SRqr/cmaU2k1ylvxjD/zelpZ+/nlGD3JJLmL/E21bacaGTv/6RwjCw64m/2h/zxmcAhL/NgBME6nGBv9orU+u8T4S/oIG6YxpWhr8lZK/mZTWEv+Zn75KUCXq/gNkHHrReOb9kVHMMU5p/P9Y9Y3OW2Is/nkfL3Nfckj+u+BL/t1+WP0aldYMAE5g/U2koibtulz9Klct3jleXPw5pTN3dV5Y/\",\"dtype\":\"float64\",\"shape\":[75]},\"y\":{\"__ndarray__\":\"GhExyth1ND/Sv8nbtpRIP2vylNV0PVE/aTum7souWD/At0SJ8fVgPw3Iuahxymc/MSNhhJWvcD/bTfBN02d3P2zb5nxnaoA/CD5h5MAGhz8NmeH1TyaQP+zrCsc9p5Y/LbKd76fGnz/bLW5ISEmmPww9YvTcQq8/JV2OstnstT8Er5Y7M8G+P0c+r3jqkcU/5h99k6ZBzj88bCIzFzjVP4enV8oyxN0//yH99nXg5D8qOpLLf0jtP5kqGJXUifQ/c9cS8kHP/D+/DpwzojQEQIEmwoanVwxA4lgXt9HgE0BSSZ2AJuIbQAMJih9jjiNA5q4l5INuK0AwTKYKRj0zQNv5fmq8/DpAaCJseHrtQkB/+zpwzoxKQM3MzMzMeFJAZmZmZmZqWEAAAAAAAFxeQM3MzMzMJmJAmpmZmZkfZUBmZmZmZhhoQDMzMzMzEWtAAAAAAAAKbkBmZmZmZoFwQM3MzMzM/XFAMzMzMzN6c0CamZmZmfZ0QAAAAAAAc3ZAZmZmZmbvd0DNzMzMzGt5QDMzMzMz6HpAmpmZmZlkfEAAAAAAAOF9QGZmZmZmXX9AZmZmZuZsgECamZmZGSuBQM3MzMxM6YFAAAAAAICngkAzMzMzs2WDQGZmZmbmI4RAmpmZmRnihEDNzMzMTKCFQAAAAACAXoZAMzMzM7Mch0BmZmZm5tqHQJqZmZkZmYhAzczMzExXiUAAAAAAgBWKQDMzMzOz04pAZmZmZuaRi0CamZmZGVCMQM3MzMxMDo1AAAAAAIDMjUAzMzMzs4qOQGZmZmbmSI9A\",\"dtype\":\"float64\",\"shape\":[75]}},\"selected\":{\"id\":\"68b7d90a-abca-4b8f-b372-faec0bd5fe2e\",\"type\":\"Selection\"},\"selection_policy\":{\"id\":\"73210313-6c3a-438c-9fd0-bcec0ded084d\",\"type\":\"UnionRenderers\"}},\"id\":\"8f00d195-da75-492b-b9b3-7ac9d4c48b91\",\"type\":\"ColumnDataSource\"},{\"attributes\":{\"data_source\":{\"id\":\"45f564e1-4143-46e8-9b85-84ea4ec233a5\",\"type\":\"ColumnDataSource\"},\"glyph\":{\"id\":\"6aa6827d-1b84-4044-8242-8ae399856e86\",\"type\":\"Line\"},\"hover_glyph\":null,\"muted_glyph\":null,\"nonselection_glyph\":{\"id\":\"ff05a028-e9f9-44f0-b30b-f3bf19cb7f6c\",\"type\":\"Line\"},\"selection_glyph\":null,\"view\":{\"id\":\"2b86fcb2-693c-4f51-994e-6d1a9564c883\",\"type\":\"CDSView\"}},\"id\":\"9ae682d4-bcd4-4913-88ff-b0c49bb95713\",\"type\":\"GlyphRenderer\"},{\"attributes\":{\"callback\":null,\"data\":{\"x\":{\"__ndarray__\":\"0CYBcvU5UkCik9zf2GVBQF1VoNfLZ0BAVLxhiVXTPUDD1Wu1wJM6QFJyB025jjdAU6Aw5+b/NECYe1uuDfgyQB6bYtVTbTFAPxYSAF1HMEA00pYVm9QuQLolHbMzgC1AntlwirGsLECv+G9SjE4rQJH6ZLBp0ShAsLZQyPd/JkDyjgyf2PwkQLgyNGsrJyRAA13QbJD6I0C8hy0ilI4kQOVTXCEgcSZAovOGvZSGJUBVc/ZmUOIgQOf/6GHAyRlAcE8fAOBSFEDRur1U//gPQGFD9ZbokghAQsqHuSqSA0C91ci3W0UBQCtRQfvz7/4/kh8pntyB+j9t1/n+4TX1P773MAUjFfI/RgzR+CI28T8hBW8WHK7uPzVKjJfU8uk/0FPt4/z65T/wVYqzMPDhPz7K9C5CXuE/8+hSn9hY4T/9PPCkR6rhP1XsIC599OA/66X1nBCX3z/YbRM56QjcPz4dkSQc/dM/S7Wb8Fq00T+/yQdmX0vcP7TrGf476eM/WqNPJoWO7D9qOH1bcwDzP2bw+R5DQ/Y/RLSuQOQp+D8+aif8yAz5P0Wv6eBKRfk/0i2+IN4R+T/ik8QNFZr4PyS5UD5j/Pc/yJ68zXRG9z/2CHPL54H2P59SOhwKtPU/npkP8dfg9D8NlmVcdQz0P80ugRvuOvM/byxiAHN18j9USVZie8nxP5l9lNXYSPE/OB+F0UYP8T8Y7dsUCTHxP3EBgTHPcPE/bfx15p8S8T8FT+xkGtTuP6mdG7rkxuk/pboqTkHX5D/CrN8qGYngP7R4ZaL+htU/\",\"dtype\":\"float64\",\"shape\":[75]},\"y\":{\"__ndarray__\":\"GhExyth1ND/Sv8nbtpRIP2vylNV0PVE/aTum7souWD/At0SJ8fVgPw3Iuahxymc/MSNhhJWvcD/bTfBN02d3P2zb5nxnaoA/CD5h5MAGhz8NmeH1TyaQP+zrCsc9p5Y/LbKd76fGnz/bLW5ISEmmPww9YvTcQq8/JV2OstnstT8Er5Y7M8G+P0c+r3jqkcU/5h99k6ZBzj88bCIzFzjVP4enV8oyxN0//yH99nXg5D8qOpLLf0jtP5kqGJXUifQ/c9cS8kHP/D+/DpwzojQEQIEmwoanVwxA4lgXt9HgE0BSSZ2AJuIbQAMJih9jjiNA5q4l5INuK0AwTKYKRj0zQNv5fmq8/DpAaCJseHrtQkB/+zpwzoxKQM3MzMzMeFJAZmZmZmZqWEAAAAAAAFxeQM3MzMzMJmJAmpmZmZkfZUBmZmZmZhhoQDMzMzMzEWtAAAAAAAAKbkBmZmZmZoFwQM3MzMzM/XFAMzMzMzN6c0CamZmZmfZ0QAAAAAAAc3ZAZmZmZmbvd0DNzMzMzGt5QDMzMzMz6HpAmpmZmZlkfEAAAAAAAOF9QGZmZmZmXX9AZmZmZuZsgECamZmZGSuBQM3MzMxM6YFAAAAAAICngkAzMzMzs2WDQGZmZmbmI4RAmpmZmRnihEDNzMzMTKCFQAAAAACAXoZAMzMzM7Mch0BmZmZm5tqHQJqZmZkZmYhAzczMzExXiUAAAAAAgBWKQDMzMzOz04pAZmZmZuaRi0CamZmZGVCMQM3MzMxMDo1AAAAAAIDMjUAzMzMzs4qOQGZmZmbmSI9A\",\"dtype\":\"float64\",\"shape\":[75]}},\"selected\":{\"id\":\"b66d6d07-7796-4950-a72a-5e6ad23654ba\",\"type\":\"Selection\"},\"selection_policy\":{\"id\":\"56c2d633-31c7-4f81-b116-b384d6c7f397\",\"type\":\"UnionRenderers\"}},\"id\":\"2566155a-62fd-4e9e-9bd0-d2b249d61c26\",\"type\":\"ColumnDataSource\"},{\"attributes\":{},\"id\":\"f0f5b517-8da9-4081-b534-8517c657bccc\",\"type\":\"UnionRenderers\"},{\"attributes\":{\"children\":[{\"id\":\"cc1a6d37-2d5e-48d8-a583-0bcaa72c8971\",\"type\":\"Row\"}]},\"id\":\"346d8f81-e335-473c-a056-116e6c1b2d33\",\"type\":\"Column\"},{\"attributes\":{},\"id\":\"082bb47a-29c7-4a7c-bbec-27045da5fbab\",\"type\":\"BasicTickFormatter\"},{\"attributes\":{},\"id\":\"68b7d90a-abca-4b8f-b372-faec0bd5fe2e\",\"type\":\"Selection\"},{\"attributes\":{\"children\":[{\"id\":\"86a8e95e-eb37-4ac7-8257-5a7561793207\",\"type\":\"ToolbarBox\"},{\"id\":\"346d8f81-e335-473c-a056-116e6c1b2d33\",\"type\":\"Column\"}]},\"id\":\"f7ffc3fb-fb19-4390-af57-cb454b28d34a\",\"type\":\"Column\"},{\"attributes\":{\"data_source\":{\"id\":\"bb0c7eab-2888-4809-b5e2-c6fa9c4e7ca0\",\"type\":\"ColumnDataSource\"},\"glyph\":{\"id\":\"67a46ffe-8893-4f12-a7b5-32053d8177f0\",\"type\":\"Line\"},\"hover_glyph\":null,\"muted_glyph\":null,\"nonselection_glyph\":{\"id\":\"175520c5-a5ec-4183-8e60-bab7398d3789\",\"type\":\"Line\"},\"selection_glyph\":null,\"view\":{\"id\":\"ea46d9e1-c8d7-40d1-9b4a-5d8998271a71\",\"type\":\"CDSView\"}},\"id\":\"18abfe8d-09ac-4956-8fe7-e4af26c5f420\",\"type\":\"GlyphRenderer\"},{\"attributes\":{\"callback\":null,\"data\":{\"x\":{\"__ndarray__\":\"0CYBcvU5UkCik9zf2GVBQF1VoNfLZ0BAVLxhiVXTPUDD1Wu1wJM6QFJyB025jjdAU6Aw5+b/NECYe1uuDfgyQB6bYtVTbTFAPxYSAF1HMEA00pYVm9QuQLolHbMzgC1AntlwirGsLECv+G9SjE4rQJH6ZLBp0ShAsLZQyPd/JkDyjgyf2PwkQLgyNGsrJyRAA13QbJD6I0C8hy0ilI4kQOVTXCEgcSZAovOGvZSGJUBVc/ZmUOIgQOf/6GHAyRlAcE8fAOBSFEDRur1U//gPQGFD9ZbokghAQsqHuSqSA0C91ci3W0UBQCtRQfvz7/4/kh8pntyB+j9t1/n+4TX1P773MAUjFfI/RgzR+CI28T8hBW8WHK7uPzVKjJfU8uk/0FPt4/z65T/wVYqzMPDhPz7K9C5CXuE/8+hSn9hY4T/9PPCkR6rhP1XsIC599OA/66X1nBCX3z/YbRM56QjcPz4dkSQc/dM/S7Wb8Fq00T+/yQdmX0vcP7TrGf476eM/WqNPJoWO7D9qOH1bcwDzP2bw+R5DQ/Y/RLSuQOQp+D8+aif8yAz5P0Wv6eBKRfk/0i2+IN4R+T/ik8QNFZr4PyS5UD5j/Pc/yJ68zXRG9z/2CHPL54H2P59SOhwKtPU/npkP8dfg9D8NlmVcdQz0P80ugRvuOvM/byxiAHN18j9USVZie8nxP5l9lNXYSPE/OB+F0UYP8T8Y7dsUCTHxP3EBgTHPcPE/bfx15p8S8T8FT+xkGtTuP6mdG7rkxuk/pboqTkHX5D/CrN8qGYngP7R4ZaL+htU/\",\"dtype\":\"float64\",\"shape\":[75]},\"y\":{\"__ndarray__\":\"GhExyth1ND/Sv8nbtpRIP2vylNV0PVE/aTum7souWD/At0SJ8fVgPw3Iuahxymc/MSNhhJWvcD/bTfBN02d3P2zb5nxnaoA/CD5h5MAGhz8NmeH1TyaQP+zrCsc9p5Y/LbKd76fGnz/bLW5ISEmmPww9YvTcQq8/JV2OstnstT8Er5Y7M8G+P0c+r3jqkcU/5h99k6ZBzj88bCIzFzjVP4enV8oyxN0//yH99nXg5D8qOpLLf0jtP5kqGJXUifQ/c9cS8kHP/D+/DpwzojQEQIEmwoanVwxA4lgXt9HgE0BSSZ2AJuIbQAMJih9jjiNA5q4l5INuK0AwTKYKRj0zQNv5fmq8/DpAaCJseHrtQkB/+zpwzoxKQM3MzMzMeFJAZmZmZmZqWEAAAAAAAFxeQM3MzMzMJmJAmpmZmZkfZUBmZmZmZhhoQDMzMzMzEWtAAAAAAAAKbkBmZmZmZoFwQM3MzMzM/XFAMzMzMzN6c0CamZmZmfZ0QAAAAAAAc3ZAZmZmZmbvd0DNzMzMzGt5QDMzMzMz6HpAmpmZmZlkfEAAAAAAAOF9QGZmZmZmXX9AZmZmZuZsgECamZmZGSuBQM3MzMxM6YFAAAAAAICngkAzMzMzs2WDQGZmZmbmI4RAmpmZmRnihEDNzMzMTKCFQAAAAACAXoZAMzMzM7Mch0BmZmZm5tqHQJqZmZkZmYhAzczMzExXiUAAAAAAgBWKQDMzMzOz04pAZmZmZuaRi0CamZmZGVCMQM3MzMxMDo1AAAAAAIDMjUAzMzMzs4qOQGZmZmbmSI9A\",\"dtype\":\"float64\",\"shape\":[75]}},\"selected\":{\"id\":\"80aaf0b3-17f9-45fd-bde3-d3910bfa39c5\",\"type\":\"Selection\"},\"selection_policy\":{\"id\":\"fed02733-1fab-43c7-ba1f-c7677d8e5ab3\",\"type\":\"UnionRenderers\"}},\"id\":\"dcef975a-0f76-4464-a9f8-402c9b95253b\",\"type\":\"ColumnDataSource\"},{\"attributes\":{\"label\":{\"value\":\"CRD\"},\"renderers\":[{\"id\":\"4d38fdd3-4659-4732-96a8-49001bd053df\",\"type\":\"GlyphRenderer\"},{\"id\":\"f2e2416a-54ec-4070-a6bd-90b882d6de3f\",\"type\":\"GlyphRenderer\"}]},\"id\":\"197ae15f-fd4b-4ff9-b116-0ee41fe0d2be\",\"type\":\"LegendItem\"},{\"attributes\":{\"line_alpha\":0.1,\"line_color\":\"#1f77b4\",\"line_width\":1.5,\"x\":{\"field\":\"x\"},\"y\":{\"field\":\"y\"}},\"id\":\"e8049b82-7a41-4296-acae-b7d782fb9e7f\",\"type\":\"Line\"},{\"attributes\":{\"source\":{\"id\":\"dcef975a-0f76-4464-a9f8-402c9b95253b\",\"type\":\"ColumnDataSource\"}},\"id\":\"d742f8f0-2c24-4736-a5f6-991aed6afd93\",\"type\":\"CDSView\"},{\"attributes\":{\"axis_label\":\"pressure [mb]\",\"formatter\":{\"id\":\"59d7db88-63a7-4791-85a9-286601c88431\",\"type\":\"LogTickFormatter\"},\"plot\":{\"id\":\"9242efad-b88b-47eb-8b8c-2fd207dd6307\",\"subtype\":\"Figure\",\"type\":\"Plot\"},\"ticker\":{\"id\":\"82517eeb-4531-4f73-aa34-48dbab6eb125\",\"type\":\"LogTicker\"}},\"id\":\"aca6186d-e6c3-48c7-8fd4-39bfbfbf924e\",\"type\":\"LogAxis\"},{\"attributes\":{\"label\":{\"value\":\"CLIRAD (single-run) - CRD\"},\"renderers\":[{\"id\":\"2c2d1382-3d66-45e4-991e-4a4bed09d847\",\"type\":\"GlyphRenderer\"},{\"id\":\"e6f0042a-6a0d-4ee4-bce7-0e4bbf27a65f\",\"type\":\"GlyphRenderer\"}]},\"id\":\"e6bb83fb-72c6-4198-a2ea-f1dc7738a607\",\"type\":\"LegendItem\"},{\"attributes\":{\"data_source\":{\"id\":\"981f1416-523e-497c-8ebf-c8829c47eeaf\",\"type\":\"ColumnDataSource\"},\"glyph\":{\"id\":\"52a4f917-ecf6-4a6a-bf63-95d3032556a3\",\"type\":\"Line\"},\"hover_glyph\":null,\"muted_glyph\":null,\"nonselection_glyph\":{\"id\":\"e8049b82-7a41-4296-acae-b7d782fb9e7f\",\"type\":\"Line\"},\"selection_glyph\":null,\"view\":{\"id\":\"e9494a2d-b73c-4e43-8a4c-0a090ad5e0a4\",\"type\":\"CDSView\"}},\"id\":\"f2e2416a-54ec-4070-a6bd-90b882d6de3f\",\"type\":\"GlyphRenderer\"},{\"attributes\":{},\"id\":\"2feba385-895f-431e-b52f-871d72adbe0f\",\"type\":\"BasicTicker\"},{\"attributes\":{\"source\":{\"id\":\"981f1416-523e-497c-8ebf-c8829c47eeaf\",\"type\":\"ColumnDataSource\"}},\"id\":\"e9494a2d-b73c-4e43-8a4c-0a090ad5e0a4\",\"type\":\"CDSView\"},{\"attributes\":{\"active_drag\":\"auto\",\"active_inspect\":\"auto\",\"active_scroll\":\"auto\",\"active_tap\":\"auto\",\"tools\":[{\"id\":\"3187e272-39f0-4e3f-955f-7351b5542528\",\"type\":\"PanTool\"},{\"id\":\"3d4b19fd-d435-4526-ac36-de68c55fcb94\",\"type\":\"WheelZoomTool\"},{\"id\":\"cef5e72c-94ec-43c7-966c-dac794ad418d\",\"type\":\"BoxZoomTool\"},{\"id\":\"27c52fa0-8eb2-4b61-b336-868dedc37528\",\"type\":\"SaveTool\"},{\"id\":\"48539ea5-cf55-4933-a7ff-228c114b05d9\",\"type\":\"ResetTool\"},{\"id\":\"13db52b7-b050-4edb-a82a-37445e6debcf\",\"type\":\"HelpTool\"}]},\"id\":\"f24e0e07-21bc-490f-9603-8eef5cf19a53\",\"type\":\"Toolbar\"},{\"attributes\":{\"line_alpha\":0.1,\"line_color\":\"#1f77b4\",\"line_dash\":[6],\"line_width\":5,\"x\":{\"field\":\"x\"},\"y\":{\"field\":\"y\"}},\"id\":\"1e68d3df-2771-42b1-8751-6b0c283b2884\",\"type\":\"Line\"},{\"attributes\":{},\"id\":\"59876072-58d1-4fa3-a97c-0464582f4e48\",\"type\":\"LinearScale\"},{\"attributes\":{\"label\":{\"value\":\"CLIRAD (single-run)\"},\"renderers\":[{\"id\":\"c814ebc9-1f4c-4db6-a528-2c9992a5715c\",\"type\":\"GlyphRenderer\"}]},\"id\":\"e593e492-1262-447d-8ee9-f23485e3a711\",\"type\":\"LegendItem\"},{\"attributes\":{\"line_color\":\"#4daf4a\",\"line_width\":1.5,\"x\":{\"field\":\"x\"},\"y\":{\"field\":\"y\"}},\"id\":\"52a4f917-ecf6-4a6a-bf63-95d3032556a3\",\"type\":\"Line\"},{\"attributes\":{\"axis_label\":\"cooling rate [K/day]\",\"formatter\":{\"id\":\"082bb47a-29c7-4a7c-bbec-27045da5fbab\",\"type\":\"BasicTickFormatter\"},\"plot\":{\"id\":\"ba9519f8-d622-44ba-a235-e64f4c310737\",\"subtype\":\"Figure\",\"type\":\"Plot\"},\"ticker\":{\"id\":\"2feba385-895f-431e-b52f-871d72adbe0f\",\"type\":\"BasicTicker\"}},\"id\":\"139a83ad-0409-4a60-a98c-15a31a470d94\",\"type\":\"LinearAxis\"},{\"attributes\":{},\"id\":\"e2c21ea3-5eb7-4974-830f-d1249883fadc\",\"type\":\"BasicTickFormatter\"},{\"attributes\":{},\"id\":\"920729bc-01e8-4166-a449-52167cb78450\",\"type\":\"LogScale\"},{\"attributes\":{},\"id\":\"19374368-b22d-43df-96fa-0baf0eea9754\",\"type\":\"BasicTicker\"},{\"attributes\":{\"plot\":{\"id\":\"9242efad-b88b-47eb-8b8c-2fd207dd6307\",\"subtype\":\"Figure\",\"type\":\"Plot\"},\"ticker\":{\"id\":\"19374368-b22d-43df-96fa-0baf0eea9754\",\"type\":\"BasicTicker\"}},\"id\":\"ca332600-6b94-4e7f-a49a-6f1cdf9ffb37\",\"type\":\"Grid\"},{\"attributes\":{\"data_source\":{\"id\":\"dcef975a-0f76-4464-a9f8-402c9b95253b\",\"type\":\"ColumnDataSource\"},\"glyph\":{\"id\":\"ddd8be9b-4206-470d-9acc-4a21e9ceaf60\",\"type\":\"Circle\"},\"hover_glyph\":null,\"muted_glyph\":null,\"nonselection_glyph\":{\"id\":\"4ce9439b-4cb6-479d-896c-8230138fc68c\",\"type\":\"Circle\"},\"selection_glyph\":null,\"view\":{\"id\":\"d742f8f0-2c24-4736-a5f6-991aed6afd93\",\"type\":\"CDSView\"}},\"id\":\"4d38fdd3-4659-4732-96a8-49001bd053df\",\"type\":\"GlyphRenderer\"},{\"attributes\":{\"callback\":null,\"data\":{\"x\":{\"__ndarray__\":\"0CYBcvU5UkCik9zf2GVBQF1VoNfLZ0BAVLxhiVXTPUDD1Wu1wJM6QFJyB025jjdAU6Aw5+b/NECYe1uuDfgyQB6bYtVTbTFAPxYSAF1HMEA00pYVm9QuQLolHbMzgC1AntlwirGsLECv+G9SjE4rQJH6ZLBp0ShAsLZQyPd/JkDyjgyf2PwkQLgyNGsrJyRAA13QbJD6I0C8hy0ilI4kQOVTXCEgcSZAovOGvZSGJUBVc/ZmUOIgQOf/6GHAyRlAcE8fAOBSFEDRur1U//gPQGFD9ZbokghAQsqHuSqSA0C91ci3W0UBQCtRQfvz7/4/kh8pntyB+j9t1/n+4TX1P773MAUjFfI/RgzR+CI28T8hBW8WHK7uPzVKjJfU8uk/0FPt4/z65T/wVYqzMPDhPz7K9C5CXuE/8+hSn9hY4T/9PPCkR6rhP1XsIC599OA/66X1nBCX3z/YbRM56QjcPz4dkSQc/dM/S7Wb8Fq00T+/yQdmX0vcP7TrGf476eM/WqNPJoWO7D9qOH1bcwDzP2bw+R5DQ/Y/RLSuQOQp+D8+aif8yAz5P0Wv6eBKRfk/0i2+IN4R+T/ik8QNFZr4PyS5UD5j/Pc/yJ68zXRG9z/2CHPL54H2P59SOhwKtPU/npkP8dfg9D8NlmVcdQz0P80ugRvuOvM/byxiAHN18j9USVZie8nxP5l9lNXYSPE/OB+F0UYP8T8Y7dsUCTHxP3EBgTHPcPE/bfx15p8S8T8FT+xkGtTuP6mdG7rkxuk/pboqTkHX5D/CrN8qGYngP7R4ZaL+htU/\",\"dtype\":\"float64\",\"shape\":[75]},\"y\":{\"__ndarray__\":\"GhExyth1ND/Sv8nbtpRIP2vylNV0PVE/aTum7souWD/At0SJ8fVgPw3Iuahxymc/MSNhhJWvcD/bTfBN02d3P2zb5nxnaoA/CD5h5MAGhz8NmeH1TyaQP+zrCsc9p5Y/LbKd76fGnz/bLW5ISEmmPww9YvTcQq8/JV2OstnstT8Er5Y7M8G+P0c+r3jqkcU/5h99k6ZBzj88bCIzFzjVP4enV8oyxN0//yH99nXg5D8qOpLLf0jtP5kqGJXUifQ/c9cS8kHP/D+/DpwzojQEQIEmwoanVwxA4lgXt9HgE0BSSZ2AJuIbQAMJih9jjiNA5q4l5INuK0AwTKYKRj0zQNv5fmq8/DpAaCJseHrtQkB/+zpwzoxKQM3MzMzMeFJAZmZmZmZqWEAAAAAAAFxeQM3MzMzMJmJAmpmZmZkfZUBmZmZmZhhoQDMzMzMzEWtAAAAAAAAKbkBmZmZmZoFwQM3MzMzM/XFAMzMzMzN6c0CamZmZmfZ0QAAAAAAAc3ZAZmZmZmbvd0DNzMzMzGt5QDMzMzMz6HpAmpmZmZlkfEAAAAAAAOF9QGZmZmZmXX9AZmZmZuZsgECamZmZGSuBQM3MzMxM6YFAAAAAAICngkAzMzMzs2WDQGZmZmbmI4RAmpmZmRnihEDNzMzMTKCFQAAAAACAXoZAMzMzM7Mch0BmZmZm5tqHQJqZmZkZmYhAzczMzExXiUAAAAAAgBWKQDMzMzOz04pAZmZmZuaRi0CamZmZGVCMQM3MzMxMDo1AAAAAAIDMjUAzMzMzs4qOQGZmZmbmSI9A\",\"dtype\":\"float64\",\"shape\":[75]}},\"selected\":{\"id\":\"56d12735-8de8-4702-abdf-d9217d4a72a1\",\"type\":\"Selection\"},\"selection_policy\":{\"id\":\"ad65f8bb-083f-477c-b487-0772af517a75\",\"type\":\"UnionRenderers\"}},\"id\":\"981f1416-523e-497c-8ebf-c8829c47eeaf\",\"type\":\"ColumnDataSource\"},{\"attributes\":{\"axis_label\":\"pressure [mb]\",\"formatter\":{\"id\":\"e2c21ea3-5eb7-4974-830f-d1249883fadc\",\"type\":\"BasicTickFormatter\"},\"plot\":{\"id\":\"ba9519f8-d622-44ba-a235-e64f4c310737\",\"subtype\":\"Figure\",\"type\":\"Plot\"},\"ticker\":{\"id\":\"df809590-2ea3-4090-b5cd-d7b7d14c914b\",\"type\":\"BasicTicker\"}},\"id\":\"b0238c20-a16e-460b-a13c-6d3dc651acd7\",\"type\":\"LinearAxis\"},{\"attributes\":{\"num_minor_ticks\":10},\"id\":\"82517eeb-4531-4f73-aa34-48dbab6eb125\",\"type\":\"LogTicker\"},{\"attributes\":{\"data_source\":{\"id\":\"7cc8e230-3162-453a-80d7-04e4a8e2faa6\",\"type\":\"ColumnDataSource\"},\"glyph\":{\"id\":\"8f6ffdd5-339e-45f8-a811-57f2ec444ff8\",\"type\":\"Line\"},\"hover_glyph\":null,\"muted_glyph\":null,\"nonselection_glyph\":{\"id\":\"1e68d3df-2771-42b1-8751-6b0c283b2884\",\"type\":\"Line\"},\"selection_glyph\":null,\"view\":{\"id\":\"d8427964-4eb3-4580-aa22-37a07750557f\",\"type\":\"CDSView\"}},\"id\":\"c814ebc9-1f4c-4db6-a528-2c9992a5715c\",\"type\":\"GlyphRenderer\"},{\"attributes\":{\"source\":{\"id\":\"bb0c7eab-2888-4809-b5e2-c6fa9c4e7ca0\",\"type\":\"ColumnDataSource\"}},\"id\":\"ea46d9e1-c8d7-40d1-9b4a-5d8998271a71\",\"type\":\"CDSView\"},{\"attributes\":{\"above\":[{\"id\":\"1577530d-12c8-46c5-835b-5c22b403a28d\",\"type\":\"Legend\"}],\"below\":[{\"id\":\"9bd714f8-029b-4e9a-8c27-45a6a1554f08\",\"type\":\"LinearAxis\"}],\"left\":[{\"id\":\"aca6186d-e6c3-48c7-8fd4-39bfbfbf924e\",\"type\":\"LogAxis\"}],\"plot_width\":300,\"renderers\":[{\"id\":\"9bd714f8-029b-4e9a-8c27-45a6a1554f08\",\"type\":\"LinearAxis\"},{\"id\":\"ca332600-6b94-4e7f-a49a-6f1cdf9ffb37\",\"type\":\"Grid\"},{\"id\":\"aca6186d-e6c3-48c7-8fd4-39bfbfbf924e\",\"type\":\"LogAxis\"},{\"id\":\"13fd634d-c39e-4f90-976b-9cabaed29009\",\"type\":\"Grid\"},{\"id\":\"bd588ec0-17e6-4866-8ca6-e9e7001b5c4d\",\"type\":\"BoxAnnotation\"},{\"id\":\"c814ebc9-1f4c-4db6-a528-2c9992a5715c\",\"type\":\"GlyphRenderer\"},{\"id\":\"73694b9e-b724-4f49-88e2-d483df32924f\",\"type\":\"GlyphRenderer\"},{\"id\":\"9ae682d4-bcd4-4913-88ff-b0c49bb95713\",\"type\":\"GlyphRenderer\"},{\"id\":\"1577530d-12c8-46c5-835b-5c22b403a28d\",\"type\":\"Legend\"}],\"title\":{\"id\":\"45d0ad01-8281-442d-9b28-e59086e99c8a\",\"type\":\"Title\"},\"toolbar\":{\"id\":\"f24e0e07-21bc-490f-9603-8eef5cf19a53\",\"type\":\"Toolbar\"},\"toolbar_location\":null,\"x_range\":{\"id\":\"9d750663-34fe-4368-8214-e70661416539\",\"type\":\"Range1d\"},\"x_scale\":{\"id\":\"7341741a-0499-4328-8fef-13e5b4352487\",\"type\":\"LinearScale\"},\"y_range\":{\"id\":\"1d7090fe-3b99-4e38-8fe2-9883973530d1\",\"type\":\"Range1d\"},\"y_scale\":{\"id\":\"920729bc-01e8-4166-a449-52167cb78450\",\"type\":\"LogScale\"}},\"id\":\"9242efad-b88b-47eb-8b8c-2fd207dd6307\",\"subtype\":\"Figure\",\"type\":\"Plot\"},{\"attributes\":{\"label\":{\"value\":\"CRD\"},\"renderers\":[{\"id\":\"73694b9e-b724-4f49-88e2-d483df32924f\",\"type\":\"GlyphRenderer\"},{\"id\":\"9ae682d4-bcd4-4913-88ff-b0c49bb95713\",\"type\":\"GlyphRenderer\"}]},\"id\":\"80372edf-bc54-42a0-8336-14189fe94b3e\",\"type\":\"LegendItem\"},{\"attributes\":{\"label\":{\"value\":\"CLIRAD (single-run)\"},\"renderers\":[{\"id\":\"18abfe8d-09ac-4956-8fe7-e4af26c5f420\",\"type\":\"GlyphRenderer\"}]},\"id\":\"432405fd-a688-471c-a191-f1c9426decd3\",\"type\":\"LegendItem\"},{\"attributes\":{\"fill_alpha\":{\"value\":0.1},\"fill_color\":{\"value\":\"#1f77b4\"},\"line_alpha\":{\"value\":0.1},\"line_color\":{\"value\":\"#1f77b4\"},\"x\":{\"field\":\"x\"},\"y\":{\"field\":\"y\"}},\"id\":\"4ce9439b-4cb6-479d-896c-8230138fc68c\",\"type\":\"Circle\"},{\"attributes\":{\"fill_alpha\":{\"value\":0.7},\"fill_color\":{\"value\":\"#4daf4a\"},\"line_alpha\":{\"value\":0.7},\"line_color\":{\"value\":\"#4daf4a\"},\"x\":{\"field\":\"x\"},\"y\":{\"field\":\"y\"}},\"id\":\"ddd8be9b-4206-470d-9acc-4a21e9ceaf60\",\"type\":\"Circle\"},{\"attributes\":{},\"id\":\"7341741a-0499-4328-8fef-13e5b4352487\",\"type\":\"LinearScale\"},{\"attributes\":{\"axis_label\":\"cooling rate [K/day]\",\"formatter\":{\"id\":\"747ba89a-f16d-4709-95b9-16b7e28cf1ea\",\"type\":\"BasicTickFormatter\"},\"plot\":{\"id\":\"9242efad-b88b-47eb-8b8c-2fd207dd6307\",\"subtype\":\"Figure\",\"type\":\"Plot\"},\"ticker\":{\"id\":\"19374368-b22d-43df-96fa-0baf0eea9754\",\"type\":\"BasicTicker\"}},\"id\":\"9bd714f8-029b-4e9a-8c27-45a6a1554f08\",\"type\":\"LinearAxis\"},{\"attributes\":{},\"id\":\"60e3eed5-e43f-4bbc-9fc1-c7e8a306cfc4\",\"type\":\"Selection\"},{\"attributes\":{\"children\":[{\"id\":\"ba9519f8-d622-44ba-a235-e64f4c310737\",\"subtype\":\"Figure\",\"type\":\"Plot\"},{\"id\":\"9242efad-b88b-47eb-8b8c-2fd207dd6307\",\"subtype\":\"Figure\",\"type\":\"Plot\"},{\"id\":\"3b45c815-dcd1-4ff7-8d43-575a46d26e40\",\"subtype\":\"Figure\",\"type\":\"Plot\"}]},\"id\":\"cc1a6d37-2d5e-48d8-a583-0bcaa72c8971\",\"type\":\"Row\"},{\"attributes\":{\"source\":{\"id\":\"b83b519e-2303-4a71-979e-b4b90fec99e3\",\"type\":\"ColumnDataSource\"}},\"id\":\"ecfb49ef-9df9-4129-89ed-76eff4d78baf\",\"type\":\"CDSView\"},{\"attributes\":{},\"id\":\"1c682e0d-8b3d-40a5-a975-7ece614686d5\",\"type\":\"HelpTool\"},{\"attributes\":{\"above\":[{\"id\":\"f49ec4d8-8871-416f-9571-249dac4f35da\",\"type\":\"Legend\"}],\"below\":[{\"id\":\"139a83ad-0409-4a60-a98c-15a31a470d94\",\"type\":\"LinearAxis\"}],\"left\":[{\"id\":\"b0238c20-a16e-460b-a13c-6d3dc651acd7\",\"type\":\"LinearAxis\"}],\"plot_width\":300,\"renderers\":[{\"id\":\"139a83ad-0409-4a60-a98c-15a31a470d94\",\"type\":\"LinearAxis\"},{\"id\":\"f7fc99e3-782f-43d1-bf13-f555d6aaebb4\",\"type\":\"Grid\"},{\"id\":\"b0238c20-a16e-460b-a13c-6d3dc651acd7\",\"type\":\"LinearAxis\"},{\"id\":\"fcc438da-f392-414b-afb2-0aa6fd8aa99a\",\"type\":\"Grid\"},{\"id\":\"d8404720-660f-4a47-aa86-03baa50c7548\",\"type\":\"BoxAnnotation\"},{\"id\":\"18abfe8d-09ac-4956-8fe7-e4af26c5f420\",\"type\":\"GlyphRenderer\"},{\"id\":\"4d38fdd3-4659-4732-96a8-49001bd053df\",\"type\":\"GlyphRenderer\"},{\"id\":\"f2e2416a-54ec-4070-a6bd-90b882d6de3f\",\"type\":\"GlyphRenderer\"},{\"id\":\"f49ec4d8-8871-416f-9571-249dac4f35da\",\"type\":\"Legend\"}],\"title\":{\"id\":\"48e35faa-e738-4974-896b-8dcda90f5de8\",\"type\":\"Title\"},\"toolbar\":{\"id\":\"ed48df2e-54f8-4851-84ad-c9a535323313\",\"type\":\"Toolbar\"},\"toolbar_location\":null,\"x_range\":{\"id\":\"3d89d33a-3ffe-49fe-9469-1105dfabc1ee\",\"type\":\"Range1d\"},\"x_scale\":{\"id\":\"7522fbb7-58bf-4502-b01d-92e9431b69cc\",\"type\":\"LinearScale\"},\"y_range\":{\"id\":\"cfbf7ed5-b5d1-4185-84a2-b152c2e8aed3\",\"type\":\"Range1d\"},\"y_scale\":{\"id\":\"59876072-58d1-4fa3-a97c-0464582f4e48\",\"type\":\"LinearScale\"}},\"id\":\"ba9519f8-d622-44ba-a235-e64f4c310737\",\"subtype\":\"Figure\",\"type\":\"Plot\"},{\"attributes\":{},\"id\":\"92ea8078-2921-45b7-a367-a356d9a615c8\",\"type\":\"PanTool\"},{\"attributes\":{\"line_alpha\":0.1,\"line_color\":\"#1f77b4\",\"line_dash\":[6],\"line_width\":5,\"x\":{\"field\":\"x\"},\"y\":{\"field\":\"y\"}},\"id\":\"175520c5-a5ec-4183-8e60-bab7398d3789\",\"type\":\"Line\"},{\"attributes\":{\"callback\":null,\"data\":{\"x\":{\"__ndarray__\":\"LVz7uCfeQ8ChGUaLJfYYwCMb75vopAPAb3fOabke8j9lWIgE9JsLQOXvyvkb2g9APnR7Fi/LBkCmSIIxVTrrPyu2iXaXmu2/L3WfIbFl+r+C9ZYDcxv0v8J+sAdRy9S/UH1/Rkeq4D8IzsLpVObuP4jqcTibAe0/eTvd8oYO2T+OQTCLDt7Qv5ji9BpoXuW/V0+3xBhy5b94Z7G7lXzav/6pSlfL38G/zBgKKJYesj/I1tW4gTDBP4Gg9xnb/bm/6OHFBmFwzb/Jlv56HxKhv/EZB1BwXNE/tDFGwmnx0T+dgz8RYjK8P0oF0SHPn6A/1zw/k0lFxD8Gy+tFFBfNP2i9183Z08A/N3gKDez1dr+ErhDxWg1oP7z6DbGqTLM/FGuCmYk5qD8ZDNtblLmYvzx7mOPoprO/Rm2hQwsHtr9zgNat/qeyv3TBkyPWuay/lNouayB+pb/vTOCOl1uavx4jDSfir5C/H1Be0ivxhb9YuwufkpI/v2KxTpOelHS/zMZedMBUm7+XBGrFTJ+qv1BpC30ogKq/qPfp7IHAor8ApUU9lFmjv/JYEpkYzKq/kHn7d8SRqr/cmaU2k1ylvxjD/zelpZ+/nlGD3JJLmL/E21bacaGTv/6RwjCw64m/2h/zxmcAhL/NgBME6nGBv9orU+u8T4S/oIG6YxpWhr8lZK/mZTWEv+Zn75KUCXq/gNkHHrReOb9kVHMMU5p/P9Y9Y3OW2Is/nkfL3Nfckj+u+BL/t1+WP0aldYMAE5g/U2koibtulz9Klct3jleXPw5pTN3dV5Y/\",\"dtype\":\"float64\",\"shape\":[75]},\"y\":{\"__ndarray__\":\"GhExyth1ND/Sv8nbtpRIP2vylNV0PVE/aTum7souWD/At0SJ8fVgPw3Iuahxymc/MSNhhJWvcD/bTfBN02d3P2zb5nxnaoA/CD5h5MAGhz8NmeH1TyaQP+zrCsc9p5Y/LbKd76fGnz/bLW5ISEmmPww9YvTcQq8/JV2OstnstT8Er5Y7M8G+P0c+r3jqkcU/5h99k6ZBzj88bCIzFzjVP4enV8oyxN0//yH99nXg5D8qOpLLf0jtP5kqGJXUifQ/c9cS8kHP/D+/DpwzojQEQIEmwoanVwxA4lgXt9HgE0BSSZ2AJuIbQAMJih9jjiNA5q4l5INuK0AwTKYKRj0zQNv5fmq8/DpAaCJseHrtQkB/+zpwzoxKQM3MzMzMeFJAZmZmZmZqWEAAAAAAAFxeQM3MzMzMJmJAmpmZmZkfZUBmZmZmZhhoQDMzMzMzEWtAAAAAAAAKbkBmZmZmZoFwQM3MzMzM/XFAMzMzMzN6c0CamZmZmfZ0QAAAAAAAc3ZAZmZmZmbvd0DNzMzMzGt5QDMzMzMz6HpAmpmZmZlkfEAAAAAAAOF9QGZmZmZmXX9AZmZmZuZsgECamZmZGSuBQM3MzMxM6YFAAAAAAICngkAzMzMzs2WDQGZmZmbmI4RAmpmZmRnihEDNzMzMTKCFQAAAAACAXoZAMzMzM7Mch0BmZmZm5tqHQJqZmZkZmYhAzczMzExXiUAAAAAAgBWKQDMzMzOz04pAZmZmZuaRi0CamZmZGVCMQM3MzMxMDo1AAAAAAIDMjUAzMzMzs4qOQGZmZmbmSI9A\",\"dtype\":\"float64\",\"shape\":[75]}},\"selected\":{\"id\":\"a4c97ace-d5a4-4196-92cb-02c683748d80\",\"type\":\"Selection\"},\"selection_policy\":{\"id\":\"f9f112ec-f42a-4fae-bf45-c1620fdb0a45\",\"type\":\"UnionRenderers\"}},\"id\":\"b83b519e-2303-4a71-979e-b4b90fec99e3\",\"type\":\"ColumnDataSource\"},{\"attributes\":{},\"id\":\"9a6d57f8-7bd9-42b3-b9ae-56fccb119275\",\"type\":\"ResetTool\"},{\"attributes\":{},\"id\":\"94d15a9c-b213-4e61-a481-c15729cb41a7\",\"type\":\"SaveTool\"},{\"attributes\":{\"bottom_units\":\"screen\",\"fill_alpha\":{\"value\":0.5},\"fill_color\":{\"value\":\"lightgrey\"},\"left_units\":\"screen\",\"level\":\"overlay\",\"line_alpha\":{\"value\":1.0},\"line_color\":{\"value\":\"black\"},\"line_dash\":[4,4],\"line_width\":{\"value\":2},\"plot\":null,\"render_mode\":\"css\",\"right_units\":\"screen\",\"top_units\":\"screen\"},\"id\":\"d8404720-660f-4a47-aa86-03baa50c7548\",\"type\":\"BoxAnnotation\"},{\"attributes\":{\"bottom_units\":\"screen\",\"fill_alpha\":{\"value\":0.5},\"fill_color\":{\"value\":\"lightgrey\"},\"left_units\":\"screen\",\"level\":\"overlay\",\"line_alpha\":{\"value\":1.0},\"line_color\":{\"value\":\"black\"},\"line_dash\":[4,4],\"line_width\":{\"value\":2},\"plot\":null,\"render_mode\":\"css\",\"right_units\":\"screen\",\"top_units\":\"screen\"},\"id\":\"f94b1d72-dac1-403f-b412-0421da226ba9\",\"type\":\"BoxAnnotation\"},{\"attributes\":{\"data_source\":{\"id\":\"8f00d195-da75-492b-b9b3-7ac9d4c48b91\",\"type\":\"ColumnDataSource\"},\"glyph\":{\"id\":\"1de4a3da-a915-47c3-8418-6b02ef59f82b\",\"type\":\"Circle\"},\"hover_glyph\":null,\"muted_glyph\":null,\"nonselection_glyph\":{\"id\":\"d676ef6e-d2e3-4042-8b91-8f8ac93488e8\",\"type\":\"Circle\"},\"selection_glyph\":null,\"view\":{\"id\":\"2b5b3e48-fe75-4f2d-97c5-2e47d711c8d9\",\"type\":\"CDSView\"}},\"id\":\"2c2d1382-3d66-45e4-991e-4a4bed09d847\",\"type\":\"GlyphRenderer\"},{\"attributes\":{},\"id\":\"0e33c2d4-5a98-4e57-9327-6530cd0d0803\",\"type\":\"WheelZoomTool\"},{\"attributes\":{\"overlay\":{\"id\":\"f94b1d72-dac1-403f-b412-0421da226ba9\",\"type\":\"BoxAnnotation\"}},\"id\":\"fde00601-b7b9-4c3e-913d-14800b33471c\",\"type\":\"BoxZoomTool\"},{\"attributes\":{},\"id\":\"249f5cfe-a528-4306-a59f-d8bd3bd55e9a\",\"type\":\"HelpTool\"},{\"attributes\":{\"line_alpha\":0.1,\"line_color\":\"#1f77b4\",\"line_width\":1.5,\"x\":{\"field\":\"x\"},\"y\":{\"field\":\"y\"}},\"id\":\"6d3b4290-ea4b-4f9a-aebc-d10d88f94a7b\",\"type\":\"Line\"},{\"attributes\":{},\"id\":\"d70e184a-f7ff-433a-9630-6caf4d9b8e5d\",\"type\":\"ResetTool\"},{\"attributes\":{\"source\":{\"id\":\"8f00d195-da75-492b-b9b3-7ac9d4c48b91\",\"type\":\"ColumnDataSource\"}},\"id\":\"2b5b3e48-fe75-4f2d-97c5-2e47d711c8d9\",\"type\":\"CDSView\"},{\"attributes\":{},\"id\":\"b66d6d07-7796-4950-a72a-5e6ad23654ba\",\"type\":\"Selection\"},{\"attributes\":{\"plot\":null,\"text\":\"\"},\"id\":\"48e35faa-e738-4974-896b-8dcda90f5de8\",\"type\":\"Title\"},{\"attributes\":{},\"id\":\"5cab33b8-fb0f-456e-ac34-adb61c399d11\",\"type\":\"Selection\"},{\"attributes\":{\"fill_alpha\":{\"value\":0.1},\"fill_color\":{\"value\":\"#1f77b4\"},\"line_alpha\":{\"value\":0.1},\"line_color\":{\"value\":\"#1f77b4\"},\"x\":{\"field\":\"x\"},\"y\":{\"field\":\"y\"}},\"id\":\"d676ef6e-d2e3-4042-8b91-8f8ac93488e8\",\"type\":\"Circle\"},{\"attributes\":{},\"id\":\"be86f3a8-e9b9-4efa-881b-ed92e0101cb8\",\"type\":\"WheelZoomTool\"},{\"attributes\":{\"overlay\":{\"id\":\"d8404720-660f-4a47-aa86-03baa50c7548\",\"type\":\"BoxAnnotation\"}},\"id\":\"1a6e401d-7893-4669-bacc-400cb8bfb250\",\"type\":\"BoxZoomTool\"},{\"attributes\":{},\"id\":\"b6863c74-a638-4e14-b258-0cf135d600fe\",\"type\":\"SaveTool\"},{\"attributes\":{\"data_source\":{\"id\":\"b83b519e-2303-4a71-979e-b4b90fec99e3\",\"type\":\"ColumnDataSource\"},\"glyph\":{\"id\":\"ef500645-94f8-410e-b76c-080ef08b3cfb\",\"type\":\"Line\"},\"hover_glyph\":null,\"muted_glyph\":null,\"nonselection_glyph\":{\"id\":\"6d3b4290-ea4b-4f9a-aebc-d10d88f94a7b\",\"type\":\"Line\"},\"selection_glyph\":null,\"view\":{\"id\":\"ecfb49ef-9df9-4129-89ed-76eff4d78baf\",\"type\":\"CDSView\"}},\"id\":\"e6f0042a-6a0d-4ee4-bce7-0e4bbf27a65f\",\"type\":\"GlyphRenderer\"},{\"attributes\":{\"line_alpha\":0.6,\"line_color\":\"#377eb8\",\"line_dash\":[6],\"line_width\":5,\"x\":{\"field\":\"x\"},\"y\":{\"field\":\"y\"}},\"id\":\"67a46ffe-8893-4f12-a7b5-32053d8177f0\",\"type\":\"Line\"},{\"attributes\":{\"line_alpha\":0.8,\"line_color\":\"#984ea3\",\"line_width\":1.5,\"x\":{\"field\":\"x\"},\"y\":{\"field\":\"y\"}},\"id\":\"ef500645-94f8-410e-b76c-080ef08b3cfb\",\"type\":\"Line\"},{\"attributes\":{\"plot\":{\"id\":\"ba9519f8-d622-44ba-a235-e64f4c310737\",\"subtype\":\"Figure\",\"type\":\"Plot\"},\"ticker\":{\"id\":\"2feba385-895f-431e-b52f-871d72adbe0f\",\"type\":\"BasicTicker\"}},\"id\":\"f7fc99e3-782f-43d1-bf13-f555d6aaebb4\",\"type\":\"Grid\"},{\"attributes\":{\"items\":[{\"id\":\"432405fd-a688-471c-a191-f1c9426decd3\",\"type\":\"LegendItem\"},{\"id\":\"197ae15f-fd4b-4ff9-b116-0ee41fe0d2be\",\"type\":\"LegendItem\"}],\"label_text_font_size\":{\"value\":\"8pt\"},\"location\":\"top_center\",\"orientation\":\"horizontal\",\"plot\":{\"id\":\"ba9519f8-d622-44ba-a235-e64f4c310737\",\"subtype\":\"Figure\",\"type\":\"Plot\"}},\"id\":\"f49ec4d8-8871-416f-9571-249dac4f35da\",\"type\":\"Legend\"},{\"attributes\":{},\"id\":\"b5b9136d-3058-4547-b85a-4dad3b3a37fd\",\"type\":\"PanTool\"},{\"attributes\":{},\"id\":\"80aaf0b3-17f9-45fd-bde3-d3910bfa39c5\",\"type\":\"Selection\"},{\"attributes\":{},\"id\":\"df809590-2ea3-4090-b5cd-d7b7d14c914b\",\"type\":\"BasicTicker\"},{\"attributes\":{\"active_drag\":\"auto\",\"active_inspect\":\"auto\",\"active_scroll\":\"auto\",\"active_tap\":\"auto\",\"tools\":[{\"id\":\"b5b9136d-3058-4547-b85a-4dad3b3a37fd\",\"type\":\"PanTool\"},{\"id\":\"be86f3a8-e9b9-4efa-881b-ed92e0101cb8\",\"type\":\"WheelZoomTool\"},{\"id\":\"1a6e401d-7893-4669-bacc-400cb8bfb250\",\"type\":\"BoxZoomTool\"},{\"id\":\"b6863c74-a638-4e14-b258-0cf135d600fe\",\"type\":\"SaveTool\"},{\"id\":\"d70e184a-f7ff-433a-9630-6caf4d9b8e5d\",\"type\":\"ResetTool\"},{\"id\":\"249f5cfe-a528-4306-a59f-d8bd3bd55e9a\",\"type\":\"HelpTool\"}]},\"id\":\"ed48df2e-54f8-4851-84ad-c9a535323313\",\"type\":\"Toolbar\"},{\"attributes\":{\"callback\":null,\"end\":1.5925520929577701,\"start\":0.25278412604523004},\"id\":\"3d89d33a-3ffe-49fe-9469-1105dfabc1ee\",\"type\":\"Range1d\"},{\"attributes\":{},\"id\":\"7522fbb7-58bf-4502-b01d-92e9431b69cc\",\"type\":\"LinearScale\"},{\"attributes\":{},\"id\":\"fed02733-1fab-43c7-ba1f-c7677d8e5ab3\",\"type\":\"UnionRenderers\"}],\"root_ids\":[\"f7ffc3fb-fb19-4390-af57-cb454b28d34a\"]},\"title\":\"Bokeh Application\",\"version\":\"0.12.16\"}};\n",
       "  var render_items = [{\"docid\":\"d512f07f-0d8b-4a43-bd6b-ddd70a5c5f9e\",\"elementid\":\"ee391821-da34-48e7-a334-8edcd12f74c2\",\"modelid\":\"f7ffc3fb-fb19-4390-af57-cb454b28d34a\"}];\n",
       "  root.Bokeh.embed.embed_items_notebook(docs_json, render_items);\n",
       "\n",
       "  }\n",
       "  if (root.Bokeh !== undefined) {\n",
       "    embed_document(root);\n",
       "  } else {\n",
       "    var attempts = 0;\n",
       "    var timer = setInterval(function(root) {\n",
       "      if (root.Bokeh !== undefined) {\n",
       "        embed_document(root);\n",
       "        clearInterval(timer);\n",
       "      }\n",
       "      attempts++;\n",
       "      if (attempts > 100) {\n",
       "        console.log(\"Bokeh: ERROR: Unable to run BokehJS code because BokehJS library is missing\")\n",
       "        clearInterval(timer);\n",
       "      }\n",
       "    }, 10, root)\n",
       "  }\n",
       "})(window);"
      ],
      "application/vnd.bokehjs_exec.v0+json": ""
     },
     "metadata": {
      "application/vnd.bokehjs_exec.v0+json": {
       "id": "f7ffc3fb-fb19-4390-af57-cb454b28d34a"
      }
     },
     "output_type": "display_data"
    },
    {
     "data": {
      "text/markdown": [
       "*FIGURE.* Cooling rates & difference."
      ],
      "text/plain": [
       "<IPython.core.display.Markdown object>"
      ]
     },
     "metadata": {},
     "output_type": "display_data"
    },
    {
     "data": {
      "text/html": [
       "<a id=\"Fluxes._saw.\"></a>"
      ],
      "text/plain": [
       "<IPython.core.display.HTML object>"
      ]
     },
     "metadata": {},
     "output_type": "display_data"
    },
    {
     "data": {
      "text/markdown": [
       "# Fluxes. saw."
      ],
      "text/plain": [
       "<IPython.core.display.Markdown object>"
      ]
     },
     "metadata": {},
     "output_type": "display_data"
    },
    {
     "data": {
      "text/html": [
       "\n",
       "<div class=\"bk-root\">\n",
       "    <div class=\"bk-plotdiv\" id=\"15fdbab4-079b-4cbf-af90-563437f0108b\"></div>\n",
       "</div>"
      ]
     },
     "metadata": {},
     "output_type": "display_data"
    },
    {
     "data": {
      "application/javascript": [
       "(function(root) {\n",
       "  function embed_document(root) {\n",
       "    \n",
       "  var docs_json = {\"3833779c-ebe8-4748-af3e-ba40b314c63b\":{\"roots\":{\"references\":[{\"attributes\":{},\"id\":\"2db07cee-dbff-44c7-b82c-fc8aebb8dbc3\",\"type\":\"CategoricalScale\"},{\"attributes\":{\"toolbar\":{\"id\":\"6ed78402-ced1-4ded-8f57-6021e84f78ec\",\"type\":\"ProxyToolbar\"},\"toolbar_location\":\"above\"},\"id\":\"90225149-4570-4b24-9b75-1ea2ec7dce33\",\"type\":\"ToolbarBox\"},{\"attributes\":{\"axis_label\":\"flux (W m-2)\",\"formatter\":{\"id\":\"bd395d51-4001-4d9f-8cef-451ee5b3da3b\",\"type\":\"BasicTickFormatter\"},\"plot\":{\"id\":\"c2e7f0bc-8699-4568-9f59-588c39caa58a\",\"subtype\":\"Figure\",\"type\":\"Plot\"},\"ticker\":{\"id\":\"58962763-fa02-43a4-a068-52117b4c2832\",\"type\":\"BasicTicker\"}},\"id\":\"b789623a-0fdc-4e44-bfd4-a169caef0230\",\"type\":\"LinearAxis\"},{\"attributes\":{\"plot\":null,\"text\":\"Atmosphere heating. CLIRAD (single-run) - CRD.\"},\"id\":\"f1773f2d-9050-4e65-8d03-65c2bf6aa942\",\"type\":\"Title\"},{\"attributes\":{\"overlay\":{\"id\":\"5eed43f1-9745-49b7-8919-5d34d8948e6e\",\"type\":\"BoxAnnotation\"}},\"id\":\"340bc3ee-ef48-421a-a875-64d1cc3944f3\",\"type\":\"BoxZoomTool\"},{\"attributes\":{},\"id\":\"60f46b17-d0d7-4fdb-883e-710227907a44\",\"type\":\"CategoricalTickFormatter\"},{\"attributes\":{},\"id\":\"7a116068-8049-44ae-bf16-f133d6c404ea\",\"type\":\"WheelZoomTool\"},{\"attributes\":{\"axis_label\":\"spectral band\",\"formatter\":{\"id\":\"60f46b17-d0d7-4fdb-883e-710227907a44\",\"type\":\"CategoricalTickFormatter\"},\"plot\":{\"id\":\"c2e7f0bc-8699-4568-9f59-588c39caa58a\",\"subtype\":\"Figure\",\"type\":\"Plot\"},\"ticker\":{\"id\":\"93d40166-c339-4fd2-814a-2d61249efd41\",\"type\":\"CategoricalTicker\"}},\"id\":\"dc79d144-479e-4352-95e0-92f17a66cd9f\",\"type\":\"CategoricalAxis\"},{\"attributes\":{\"below\":[{\"id\":\"dc79d144-479e-4352-95e0-92f17a66cd9f\",\"type\":\"CategoricalAxis\"}],\"left\":[{\"id\":\"b789623a-0fdc-4e44-bfd4-a169caef0230\",\"type\":\"LinearAxis\"}],\"plot_height\":300,\"plot_width\":300,\"renderers\":[{\"id\":\"dc79d144-479e-4352-95e0-92f17a66cd9f\",\"type\":\"CategoricalAxis\"},{\"id\":\"48a09787-4344-43ab-9608-ff8fc49c9268\",\"type\":\"Grid\"},{\"id\":\"b789623a-0fdc-4e44-bfd4-a169caef0230\",\"type\":\"LinearAxis\"},{\"id\":\"f65b7eef-59b1-456d-a824-086fb6ab9ff0\",\"type\":\"Grid\"},{\"id\":\"88b6fc44-2e92-4e95-a5dc-6debe862af57\",\"type\":\"BoxAnnotation\"},{\"id\":\"c7b96291-52d5-4402-b157-ab22d7345bf6\",\"type\":\"GlyphRenderer\"}],\"title\":{\"id\":\"f1773f2d-9050-4e65-8d03-65c2bf6aa942\",\"type\":\"Title\"},\"toolbar\":{\"id\":\"aab3d33f-cbd3-4950-9e60-77f94c298eb8\",\"type\":\"Toolbar\"},\"toolbar_location\":null,\"x_range\":{\"id\":\"8bea9654-fc5f-442a-8097-84d87e4dcc83\",\"type\":\"FactorRange\"},\"x_scale\":{\"id\":\"2db07cee-dbff-44c7-b82c-fc8aebb8dbc3\",\"type\":\"CategoricalScale\"},\"y_range\":{\"id\":\"ae2e4184-2993-4679-b0bc-6c2a70520621\",\"type\":\"DataRange1d\"},\"y_scale\":{\"id\":\"584be14b-d84a-40b5-bdad-02d7b5585709\",\"type\":\"LinearScale\"}},\"id\":\"c2e7f0bc-8699-4568-9f59-588c39caa58a\",\"subtype\":\"Figure\",\"type\":\"Plot\"},{\"attributes\":{\"below\":[{\"id\":\"fb6b232e-dbb1-4357-a245-d4f5059d867e\",\"type\":\"CategoricalAxis\"}],\"left\":[{\"id\":\"95905327-b03b-4e9d-bb2a-a842418e03b5\",\"type\":\"LinearAxis\"}],\"plot_height\":300,\"plot_width\":300,\"renderers\":[{\"id\":\"fb6b232e-dbb1-4357-a245-d4f5059d867e\",\"type\":\"CategoricalAxis\"},{\"id\":\"def0dd69-8c18-4cbd-8b96-474b3e47a9b2\",\"type\":\"Grid\"},{\"id\":\"95905327-b03b-4e9d-bb2a-a842418e03b5\",\"type\":\"LinearAxis\"},{\"id\":\"3bd5ed0c-28c5-4ba7-b4e4-f0027d0c1647\",\"type\":\"Grid\"},{\"id\":\"5eed43f1-9745-49b7-8919-5d34d8948e6e\",\"type\":\"BoxAnnotation\"},{\"id\":\"9ef0fd6e-651e-495a-8007-029e33dffc52\",\"type\":\"GlyphRenderer\"}],\"title\":{\"id\":\"f20515e3-e964-4ea1-baf4-54dac545a9a6\",\"type\":\"Title\"},\"toolbar\":{\"id\":\"4a767077-3648-4bec-b2f5-858408d41516\",\"type\":\"Toolbar\"},\"toolbar_location\":null,\"x_range\":{\"id\":\"9fc953cd-8139-471f-9c28-9a1e8e256074\",\"type\":\"FactorRange\"},\"x_scale\":{\"id\":\"5df90859-7ce6-44c6-a9f3-b1a9db470578\",\"type\":\"CategoricalScale\"},\"y_range\":{\"id\":\"e6a81725-150f-4108-a4dc-7c8c9f30b219\",\"type\":\"DataRange1d\"},\"y_scale\":{\"id\":\"30673727-451a-442e-87f5-30939339bae6\",\"type\":\"LinearScale\"}},\"id\":\"e511ddf3-4f53-4e21-8416-c6bf5ccf5860\",\"subtype\":\"Figure\",\"type\":\"Plot\"},{\"attributes\":{\"bottom_units\":\"screen\",\"fill_alpha\":{\"value\":0.5},\"fill_color\":{\"value\":\"lightgrey\"},\"left_units\":\"screen\",\"level\":\"overlay\",\"line_alpha\":{\"value\":1.0},\"line_color\":{\"value\":\"black\"},\"line_dash\":[4,4],\"line_width\":{\"value\":2},\"plot\":null,\"render_mode\":\"css\",\"right_units\":\"screen\",\"top_units\":\"screen\"},\"id\":\"e27760b8-7a5b-4d2f-9cc8-5e0e1f57a8e6\",\"type\":\"BoxAnnotation\"},{\"attributes\":{},\"id\":\"46b4cfbc-1b70-4702-bec4-a8b73bca3e8f\",\"type\":\"ResetTool\"},{\"attributes\":{\"active_drag\":\"auto\",\"active_inspect\":\"auto\",\"active_scroll\":\"auto\",\"active_tap\":\"auto\",\"tools\":[{\"id\":\"3599ea3a-f359-4c97-a96e-f3c078016652\",\"type\":\"PanTool\"},{\"id\":\"20e5fd6c-6098-4cc0-94b2-0f5874ab952c\",\"type\":\"WheelZoomTool\"},{\"id\":\"735daafd-b1d9-4514-971a-cf15dffd9f89\",\"type\":\"BoxZoomTool\"},{\"id\":\"0b6d389a-0ec4-4849-a72b-a7f89afe05f5\",\"type\":\"SaveTool\"},{\"id\":\"298710af-3f91-4672-94ea-1c6f908ae318\",\"type\":\"ResetTool\"},{\"id\":\"6f46a1a3-0061-4a73-b5dd-7012de4392f6\",\"type\":\"HelpTool\"}]},\"id\":\"aab3d33f-cbd3-4950-9e60-77f94c298eb8\",\"type\":\"Toolbar\"},{\"attributes\":{},\"id\":\"43ff7970-1ef7-49a7-8fbb-b73b9450c611\",\"type\":\"SaveTool\"},{\"attributes\":{\"plot\":null,\"text\":\"SFC flux. CLIRAD (single-run) - CRD.\"},\"id\":\"5e97852d-1abd-492c-8a81-c202c2ae45fe\",\"type\":\"Title\"},{\"attributes\":{},\"id\":\"93d40166-c339-4fd2-814a-2d61249efd41\",\"type\":\"CategoricalTicker\"},{\"attributes\":{\"callback\":null,\"factors\":[\"1\",\"2\",\"3\",\"4\",\"5\",\"6\",\"7\",\"8\",\"9\",\"10\",\"11\"]},\"id\":\"8bea9654-fc5f-442a-8097-84d87e4dcc83\",\"type\":\"FactorRange\"},{\"attributes\":{},\"id\":\"9cab7ed7-7030-4110-ac95-10502b0cd391\",\"type\":\"BasicTicker\"},{\"attributes\":{},\"id\":\"584be14b-d84a-40b5-bdad-02d7b5585709\",\"type\":\"LinearScale\"},{\"attributes\":{},\"id\":\"bd395d51-4001-4d9f-8cef-451ee5b3da3b\",\"type\":\"BasicTickFormatter\"},{\"attributes\":{\"fill_alpha\":{\"value\":0.1},\"fill_color\":{\"value\":\"#1f77b4\"},\"line_alpha\":{\"value\":0.1},\"line_color\":{\"value\":\"#1f77b4\"},\"top\":{\"field\":\"flux\"},\"width\":{\"value\":0.9},\"x\":{\"field\":\"band\"}},\"id\":\"5da3c3b2-a265-4bc8-8d8f-2e72f724a327\",\"type\":\"VBar\"},{\"attributes\":{},\"id\":\"58962763-fa02-43a4-a068-52117b4c2832\",\"type\":\"BasicTicker\"},{\"attributes\":{\"callback\":null,\"data\":{\"band\":[\"1\",\"2\",\"3\",\"4\",\"5\",\"6\",\"7\",\"8\",\"9\",\"10\",\"11\"],\"flux\":{\"__ndarray__\":\"gOIKWg6Vxz8AZUNIJ1zKP8BwLN5+r9w/QMdlApwjxj+ArqKa7WW4vwBJ8fEJ2bU/gB6GVidnzD+AUnx8QnawPwDBKhcq/4o/gEM6lz1kpb+AJgqhQRKPPw==\",\"dtype\":\"float64\",\"shape\":[11]}},\"selected\":{\"id\":\"b5f9ae64-9259-4670-8780-3070e690bc07\",\"type\":\"Selection\"},\"selection_policy\":{\"id\":\"a17c54bd-f874-498a-9f6d-e1479b634f78\",\"type\":\"UnionRenderers\"}},\"id\":\"f23b4d71-fce7-4dd7-964f-9e1ce8fd5dcd\",\"type\":\"ColumnDataSource\"},{\"attributes\":{},\"id\":\"0f4a5cf2-b981-4d5c-9a45-9dc8ce1eb93d\",\"type\":\"PanTool\"},{\"attributes\":{\"fill_color\":{\"value\":\"#1f77b4\"},\"line_color\":{\"value\":\"#1f77b4\"},\"top\":{\"field\":\"flux\"},\"width\":{\"value\":0.9},\"x\":{\"field\":\"band\"}},\"id\":\"880052e5-6b95-47de-884b-cc7250b814d0\",\"type\":\"VBar\"},{\"attributes\":{},\"id\":\"5909f0c8-d4ed-42db-bc29-7cadf7e03173\",\"type\":\"SaveTool\"},{\"attributes\":{\"source\":{\"id\":\"6000f2f3-41f6-425e-a869-f13fd784de70\",\"type\":\"ColumnDataSource\"}},\"id\":\"ac899e98-826d-4b2f-9c4b-65e3394a2a93\",\"type\":\"CDSView\"},{\"attributes\":{\"callback\":null,\"data\":{\"band\":[\"1\",\"2\",\"3\",\"4\",\"5\",\"6\",\"7\",\"8\",\"9\",\"10\",\"11\"],\"flux\":{\"__ndarray__\":\"gGLUtfY+xz8ABgWlaOWyPwDVO9wODbO/gApHkEqx0D8Ans4VpYS4PwDQ+uk/a46/IIOj5NU50j8AHErtRbSNv4BE2safqKA/AGgLdJJSdb+AbxLeeT2TPw==\",\"dtype\":\"float64\",\"shape\":[11]}},\"selected\":{\"id\":\"0ca63023-fe1a-4ff3-960a-267a93b88f8c\",\"type\":\"Selection\"},\"selection_policy\":{\"id\":\"159cadec-9c1f-4e58-a10a-0caf667db855\",\"type\":\"UnionRenderers\"}},\"id\":\"6000f2f3-41f6-425e-a869-f13fd784de70\",\"type\":\"ColumnDataSource\"},{\"attributes\":{},\"id\":\"c65d217d-d7b8-4032-80e3-495dd9049551\",\"type\":\"HelpTool\"},{\"attributes\":{\"below\":[{\"id\":\"b00336f6-ebfa-422a-9431-0e937b5b5837\",\"type\":\"CategoricalAxis\"}],\"left\":[{\"id\":\"502d3d8c-cb7a-4bb2-8bd7-ad769b3bf128\",\"type\":\"LinearAxis\"}],\"plot_height\":300,\"plot_width\":300,\"renderers\":[{\"id\":\"b00336f6-ebfa-422a-9431-0e937b5b5837\",\"type\":\"CategoricalAxis\"},{\"id\":\"6a50780f-eb42-4592-99ed-7f3e110b85c2\",\"type\":\"Grid\"},{\"id\":\"502d3d8c-cb7a-4bb2-8bd7-ad769b3bf128\",\"type\":\"LinearAxis\"},{\"id\":\"db704395-63d9-4e8a-b82f-0c0e5e0d4b5d\",\"type\":\"Grid\"},{\"id\":\"e27760b8-7a5b-4d2f-9cc8-5e0e1f57a8e6\",\"type\":\"BoxAnnotation\"},{\"id\":\"43111332-caa1-4479-857b-774137e7e177\",\"type\":\"GlyphRenderer\"}],\"title\":{\"id\":\"5e97852d-1abd-492c-8a81-c202c2ae45fe\",\"type\":\"Title\"},\"toolbar\":{\"id\":\"78d1b8d8-e45d-4690-ba35-d103740a1bcc\",\"type\":\"Toolbar\"},\"toolbar_location\":null,\"x_range\":{\"id\":\"432155de-7fde-43f1-b7f2-28da8ec5b7fe\",\"type\":\"FactorRange\"},\"x_scale\":{\"id\":\"ece79e4f-27a4-4e84-b5d6-9a1e86a7723d\",\"type\":\"CategoricalScale\"},\"y_range\":{\"id\":\"eb7797de-dda8-4246-af03-2aee5404c97b\",\"type\":\"DataRange1d\"},\"y_scale\":{\"id\":\"2bb4dd60-cd98-48d1-9152-ab66b5302206\",\"type\":\"LinearScale\"}},\"id\":\"50f0ae57-06c0-4f89-9599-333791501149\",\"subtype\":\"Figure\",\"type\":\"Plot\"},{\"attributes\":{\"data_source\":{\"id\":\"6000f2f3-41f6-425e-a869-f13fd784de70\",\"type\":\"ColumnDataSource\"},\"glyph\":{\"id\":\"880052e5-6b95-47de-884b-cc7250b814d0\",\"type\":\"VBar\"},\"hover_glyph\":null,\"muted_glyph\":null,\"nonselection_glyph\":{\"id\":\"5da3c3b2-a265-4bc8-8d8f-2e72f724a327\",\"type\":\"VBar\"},\"selection_glyph\":null,\"view\":{\"id\":\"ac899e98-826d-4b2f-9c4b-65e3394a2a93\",\"type\":\"CDSView\"}},\"id\":\"9ef0fd6e-651e-495a-8007-029e33dffc52\",\"type\":\"GlyphRenderer\"},{\"attributes\":{},\"id\":\"9cc3b9dd-12a8-46b9-b9fd-fff3aaf78a51\",\"type\":\"HelpTool\"},{\"attributes\":{\"source\":{\"id\":\"cfe86e97-7e38-4000-9f5a-2479135c57a1\",\"type\":\"ColumnDataSource\"}},\"id\":\"36fc80fa-2d2a-4ce3-bb0a-f11f62eeb000\",\"type\":\"CDSView\"},{\"attributes\":{\"callback\":null},\"id\":\"ae2e4184-2993-4679-b0bc-6c2a70520621\",\"type\":\"DataRange1d\"},{\"attributes\":{\"bottom_units\":\"screen\",\"fill_alpha\":{\"value\":0.5},\"fill_color\":{\"value\":\"lightgrey\"},\"left_units\":\"screen\",\"level\":\"overlay\",\"line_alpha\":{\"value\":1.0},\"line_color\":{\"value\":\"black\"},\"line_dash\":[4,4],\"line_width\":{\"value\":2},\"plot\":null,\"render_mode\":\"css\",\"right_units\":\"screen\",\"top_units\":\"screen\"},\"id\":\"5eed43f1-9745-49b7-8919-5d34d8948e6e\",\"type\":\"BoxAnnotation\"},{\"attributes\":{\"dimension\":1,\"plot\":{\"id\":\"e511ddf3-4f53-4e21-8416-c6bf5ccf5860\",\"subtype\":\"Figure\",\"type\":\"Plot\"},\"ticker\":{\"id\":\"9cab7ed7-7030-4110-ac95-10502b0cd391\",\"type\":\"BasicTicker\"}},\"id\":\"3bd5ed0c-28c5-4ba7-b4e4-f0027d0c1647\",\"type\":\"Grid\"},{\"attributes\":{\"overlay\":{\"id\":\"e27760b8-7a5b-4d2f-9cc8-5e0e1f57a8e6\",\"type\":\"BoxAnnotation\"}},\"id\":\"01c09392-734b-4ac4-8acd-37cbac3da87b\",\"type\":\"BoxZoomTool\"},{\"attributes\":{},\"id\":\"5819ee8d-d066-4c12-b2bb-aebe0c9479f4\",\"type\":\"ResetTool\"},{\"attributes\":{\"callback\":null},\"id\":\"eb7797de-dda8-4246-af03-2aee5404c97b\",\"type\":\"DataRange1d\"},{\"attributes\":{\"callback\":null},\"id\":\"e6a81725-150f-4108-a4dc-7c8c9f30b219\",\"type\":\"DataRange1d\"},{\"attributes\":{\"callback\":null,\"factors\":[\"1\",\"2\",\"3\",\"4\",\"5\",\"6\",\"7\",\"8\",\"9\",\"10\",\"11\"]},\"id\":\"432155de-7fde-43f1-b7f2-28da8ec5b7fe\",\"type\":\"FactorRange\"},{\"attributes\":{\"active_drag\":\"auto\",\"active_inspect\":\"auto\",\"active_scroll\":\"auto\",\"active_tap\":\"auto\",\"tools\":[{\"id\":\"54e7b042-fc08-4551-bb3f-608cd6c3eb5e\",\"type\":\"PanTool\"},{\"id\":\"972e3f53-122e-467e-b123-272bf164db96\",\"type\":\"WheelZoomTool\"},{\"id\":\"01c09392-734b-4ac4-8acd-37cbac3da87b\",\"type\":\"BoxZoomTool\"},{\"id\":\"43ff7970-1ef7-49a7-8fbb-b73b9450c611\",\"type\":\"SaveTool\"},{\"id\":\"5819ee8d-d066-4c12-b2bb-aebe0c9479f4\",\"type\":\"ResetTool\"},{\"id\":\"c65d217d-d7b8-4032-80e3-495dd9049551\",\"type\":\"HelpTool\"}]},\"id\":\"78d1b8d8-e45d-4690-ba35-d103740a1bcc\",\"type\":\"Toolbar\"},{\"attributes\":{\"children\":[{\"id\":\"ac9f7754-dc4a-43bf-924e-c52022246b4a\",\"type\":\"Row\"}]},\"id\":\"b0845ec4-fc89-40c0-b365-f9a3af9bb940\",\"type\":\"Column\"},{\"attributes\":{\"tools\":[{\"id\":\"0f4a5cf2-b981-4d5c-9a45-9dc8ce1eb93d\",\"type\":\"PanTool\"},{\"id\":\"7a116068-8049-44ae-bf16-f133d6c404ea\",\"type\":\"WheelZoomTool\"},{\"id\":\"340bc3ee-ef48-421a-a875-64d1cc3944f3\",\"type\":\"BoxZoomTool\"},{\"id\":\"5909f0c8-d4ed-42db-bc29-7cadf7e03173\",\"type\":\"SaveTool\"},{\"id\":\"46b4cfbc-1b70-4702-bec4-a8b73bca3e8f\",\"type\":\"ResetTool\"},{\"id\":\"9cc3b9dd-12a8-46b9-b9fd-fff3aaf78a51\",\"type\":\"HelpTool\"},{\"id\":\"54e7b042-fc08-4551-bb3f-608cd6c3eb5e\",\"type\":\"PanTool\"},{\"id\":\"972e3f53-122e-467e-b123-272bf164db96\",\"type\":\"WheelZoomTool\"},{\"id\":\"01c09392-734b-4ac4-8acd-37cbac3da87b\",\"type\":\"BoxZoomTool\"},{\"id\":\"43ff7970-1ef7-49a7-8fbb-b73b9450c611\",\"type\":\"SaveTool\"},{\"id\":\"5819ee8d-d066-4c12-b2bb-aebe0c9479f4\",\"type\":\"ResetTool\"},{\"id\":\"c65d217d-d7b8-4032-80e3-495dd9049551\",\"type\":\"HelpTool\"},{\"id\":\"3599ea3a-f359-4c97-a96e-f3c078016652\",\"type\":\"PanTool\"},{\"id\":\"20e5fd6c-6098-4cc0-94b2-0f5874ab952c\",\"type\":\"WheelZoomTool\"},{\"id\":\"735daafd-b1d9-4514-971a-cf15dffd9f89\",\"type\":\"BoxZoomTool\"},{\"id\":\"0b6d389a-0ec4-4849-a72b-a7f89afe05f5\",\"type\":\"SaveTool\"},{\"id\":\"298710af-3f91-4672-94ea-1c6f908ae318\",\"type\":\"ResetTool\"},{\"id\":\"6f46a1a3-0061-4a73-b5dd-7012de4392f6\",\"type\":\"HelpTool\"}]},\"id\":\"6ed78402-ced1-4ded-8f57-6021e84f78ec\",\"type\":\"ProxyToolbar\"},{\"attributes\":{\"callback\":null,\"factors\":[\"1\",\"2\",\"3\",\"4\",\"5\",\"6\",\"7\",\"8\",\"9\",\"10\",\"11\"]},\"id\":\"9fc953cd-8139-471f-9c28-9a1e8e256074\",\"type\":\"FactorRange\"},{\"attributes\":{},\"id\":\"ece79e4f-27a4-4e84-b5d6-9a1e86a7723d\",\"type\":\"CategoricalScale\"},{\"attributes\":{\"fill_color\":{\"value\":\"#1f77b4\"},\"line_color\":{\"value\":\"#1f77b4\"},\"top\":{\"field\":\"flux\"},\"width\":{\"value\":0.9},\"x\":{\"field\":\"band\"}},\"id\":\"251aab85-c5e0-4c99-95f2-9a3ab52133ef\",\"type\":\"VBar\"},{\"attributes\":{\"source\":{\"id\":\"f23b4d71-fce7-4dd7-964f-9e1ce8fd5dcd\",\"type\":\"ColumnDataSource\"}},\"id\":\"26b9974f-239d-4ff8-984f-387f0b8f17a9\",\"type\":\"CDSView\"},{\"attributes\":{\"data_source\":{\"id\":\"f23b4d71-fce7-4dd7-964f-9e1ce8fd5dcd\",\"type\":\"ColumnDataSource\"},\"glyph\":{\"id\":\"251aab85-c5e0-4c99-95f2-9a3ab52133ef\",\"type\":\"VBar\"},\"hover_glyph\":null,\"muted_glyph\":null,\"nonselection_glyph\":{\"id\":\"5d4e5a38-3d50-4afa-8c6a-8f987f1f2bb0\",\"type\":\"VBar\"},\"selection_glyph\":null,\"view\":{\"id\":\"26b9974f-239d-4ff8-984f-387f0b8f17a9\",\"type\":\"CDSView\"}},\"id\":\"c7b96291-52d5-4402-b157-ab22d7345bf6\",\"type\":\"GlyphRenderer\"},{\"attributes\":{},\"id\":\"20e5fd6c-6098-4cc0-94b2-0f5874ab952c\",\"type\":\"WheelZoomTool\"},{\"attributes\":{\"dimension\":1,\"plot\":{\"id\":\"c2e7f0bc-8699-4568-9f59-588c39caa58a\",\"subtype\":\"Figure\",\"type\":\"Plot\"},\"ticker\":{\"id\":\"58962763-fa02-43a4-a068-52117b4c2832\",\"type\":\"BasicTicker\"}},\"id\":\"f65b7eef-59b1-456d-a824-086fb6ab9ff0\",\"type\":\"Grid\"},{\"attributes\":{\"children\":[{\"id\":\"e511ddf3-4f53-4e21-8416-c6bf5ccf5860\",\"subtype\":\"Figure\",\"type\":\"Plot\"},{\"id\":\"50f0ae57-06c0-4f89-9599-333791501149\",\"subtype\":\"Figure\",\"type\":\"Plot\"},{\"id\":\"c2e7f0bc-8699-4568-9f59-588c39caa58a\",\"subtype\":\"Figure\",\"type\":\"Plot\"}]},\"id\":\"ac9f7754-dc4a-43bf-924e-c52022246b4a\",\"type\":\"Row\"},{\"attributes\":{\"axis_label\":\"spectral band\",\"formatter\":{\"id\":\"d7cdd068-3599-4881-b354-a4897f578627\",\"type\":\"CategoricalTickFormatter\"},\"plot\":{\"id\":\"50f0ae57-06c0-4f89-9599-333791501149\",\"subtype\":\"Figure\",\"type\":\"Plot\"},\"ticker\":{\"id\":\"a138d3e7-d1cb-4ee4-ad34-7f72073baec4\",\"type\":\"CategoricalTicker\"}},\"id\":\"b00336f6-ebfa-422a-9431-0e937b5b5837\",\"type\":\"CategoricalAxis\"},{\"attributes\":{\"dimension\":1,\"plot\":{\"id\":\"50f0ae57-06c0-4f89-9599-333791501149\",\"subtype\":\"Figure\",\"type\":\"Plot\"},\"ticker\":{\"id\":\"f95b77d2-2464-4786-9145-64eb31c58710\",\"type\":\"BasicTicker\"}},\"id\":\"db704395-63d9-4e8a-b82f-0c0e5e0d4b5d\",\"type\":\"Grid\"},{\"attributes\":{},\"id\":\"b5f9ae64-9259-4670-8780-3070e690bc07\",\"type\":\"Selection\"},{\"attributes\":{\"fill_alpha\":{\"value\":0.1},\"fill_color\":{\"value\":\"#1f77b4\"},\"line_alpha\":{\"value\":0.1},\"line_color\":{\"value\":\"#1f77b4\"},\"top\":{\"field\":\"flux\"},\"width\":{\"value\":0.9},\"x\":{\"field\":\"band\"}},\"id\":\"61816af2-8e8c-4d3e-9eb5-b3ee36c3c02a\",\"type\":\"VBar\"},{\"attributes\":{},\"id\":\"d7cdd068-3599-4881-b354-a4897f578627\",\"type\":\"CategoricalTickFormatter\"},{\"attributes\":{\"fill_alpha\":{\"value\":0.1},\"fill_color\":{\"value\":\"#1f77b4\"},\"line_alpha\":{\"value\":0.1},\"line_color\":{\"value\":\"#1f77b4\"},\"top\":{\"field\":\"flux\"},\"width\":{\"value\":0.9},\"x\":{\"field\":\"band\"}},\"id\":\"5d4e5a38-3d50-4afa-8c6a-8f987f1f2bb0\",\"type\":\"VBar\"},{\"attributes\":{},\"id\":\"6f46a1a3-0061-4a73-b5dd-7012de4392f6\",\"type\":\"HelpTool\"},{\"attributes\":{},\"id\":\"5df90859-7ce6-44c6-a9f3-b1a9db470578\",\"type\":\"CategoricalScale\"},{\"attributes\":{},\"id\":\"30673727-451a-442e-87f5-30939339bae6\",\"type\":\"LinearScale\"},{\"attributes\":{\"plot\":{\"id\":\"c2e7f0bc-8699-4568-9f59-588c39caa58a\",\"subtype\":\"Figure\",\"type\":\"Plot\"},\"ticker\":{\"id\":\"93d40166-c339-4fd2-814a-2d61249efd41\",\"type\":\"CategoricalTicker\"}},\"id\":\"48a09787-4344-43ab-9608-ff8fc49c9268\",\"type\":\"Grid\"},{\"attributes\":{},\"id\":\"2bb4dd60-cd98-48d1-9152-ab66b5302206\",\"type\":\"LinearScale\"},{\"attributes\":{},\"id\":\"3599ea3a-f359-4c97-a96e-f3c078016652\",\"type\":\"PanTool\"},{\"attributes\":{},\"id\":\"a138d3e7-d1cb-4ee4-ad34-7f72073baec4\",\"type\":\"CategoricalTicker\"},{\"attributes\":{},\"id\":\"0b6d389a-0ec4-4849-a72b-a7f89afe05f5\",\"type\":\"SaveTool\"},{\"attributes\":{\"axis_label\":\"flux (W m-2)\",\"formatter\":{\"id\":\"5e52f057-8c08-4897-b05b-5199c60b096f\",\"type\":\"BasicTickFormatter\"},\"plot\":{\"id\":\"50f0ae57-06c0-4f89-9599-333791501149\",\"subtype\":\"Figure\",\"type\":\"Plot\"},\"ticker\":{\"id\":\"f95b77d2-2464-4786-9145-64eb31c58710\",\"type\":\"BasicTicker\"}},\"id\":\"502d3d8c-cb7a-4bb2-8bd7-ad769b3bf128\",\"type\":\"LinearAxis\"},{\"attributes\":{\"overlay\":{\"id\":\"88b6fc44-2e92-4e95-a5dc-6debe862af57\",\"type\":\"BoxAnnotation\"}},\"id\":\"735daafd-b1d9-4514-971a-cf15dffd9f89\",\"type\":\"BoxZoomTool\"},{\"attributes\":{\"plot\":{\"id\":\"50f0ae57-06c0-4f89-9599-333791501149\",\"subtype\":\"Figure\",\"type\":\"Plot\"},\"ticker\":{\"id\":\"a138d3e7-d1cb-4ee4-ad34-7f72073baec4\",\"type\":\"CategoricalTicker\"}},\"id\":\"6a50780f-eb42-4592-99ed-7f3e110b85c2\",\"type\":\"Grid\"},{\"attributes\":{},\"id\":\"0db2fbb3-450d-4046-889f-5072e6d5ae70\",\"type\":\"CategoricalTicker\"},{\"attributes\":{\"fill_color\":{\"value\":\"#1f77b4\"},\"line_color\":{\"value\":\"#1f77b4\"},\"top\":{\"field\":\"flux\"},\"width\":{\"value\":0.9},\"x\":{\"field\":\"band\"}},\"id\":\"e82e2ed4-83e6-44a2-82bd-1220f6c36e15\",\"type\":\"VBar\"},{\"attributes\":{},\"id\":\"298710af-3f91-4672-94ea-1c6f908ae318\",\"type\":\"ResetTool\"},{\"attributes\":{},\"id\":\"44984ce1-47a6-4ec2-9733-9ba9676a16eb\",\"type\":\"UnionRenderers\"},{\"attributes\":{\"plot\":null,\"text\":\"TOA flux. CLIRAD (single-run) - CRD.\"},\"id\":\"f20515e3-e964-4ea1-baf4-54dac545a9a6\",\"type\":\"Title\"},{\"attributes\":{},\"id\":\"5e52f057-8c08-4897-b05b-5199c60b096f\",\"type\":\"BasicTickFormatter\"},{\"attributes\":{},\"id\":\"0ca63023-fe1a-4ff3-960a-267a93b88f8c\",\"type\":\"Selection\"},{\"attributes\":{},\"id\":\"f95b77d2-2464-4786-9145-64eb31c58710\",\"type\":\"BasicTicker\"},{\"attributes\":{\"callback\":null,\"data\":{\"band\":[\"1\",\"2\",\"3\",\"4\",\"5\",\"6\",\"7\",\"8\",\"9\",\"10\",\"11\"],\"flux\":{\"__ndarray__\":\"AEDdJAaBZb8Asg5HV+nAvwA2IEJcueC/AAeY+Q5+tj/A8wOyMnXIPyAWSPVCprm/QFhl8EEZsD/ga9jnGC20vwDdJRad0ZM/AJDEy9O5oj8Ad2DnQ6NtPw==\",\"dtype\":\"float64\",\"shape\":[11]}},\"selected\":{\"id\":\"c119ad21-2fbd-45bf-914c-a9604bb2d03c\",\"type\":\"Selection\"},\"selection_policy\":{\"id\":\"44984ce1-47a6-4ec2-9733-9ba9676a16eb\",\"type\":\"UnionRenderers\"}},\"id\":\"cfe86e97-7e38-4000-9f5a-2479135c57a1\",\"type\":\"ColumnDataSource\"},{\"attributes\":{},\"id\":\"8644f00b-87b2-4971-84e1-d636b18e7bda\",\"type\":\"BasicTickFormatter\"},{\"attributes\":{\"axis_label\":\"flux (W m-2)\",\"formatter\":{\"id\":\"8644f00b-87b2-4971-84e1-d636b18e7bda\",\"type\":\"BasicTickFormatter\"},\"plot\":{\"id\":\"e511ddf3-4f53-4e21-8416-c6bf5ccf5860\",\"subtype\":\"Figure\",\"type\":\"Plot\"},\"ticker\":{\"id\":\"9cab7ed7-7030-4110-ac95-10502b0cd391\",\"type\":\"BasicTicker\"}},\"id\":\"95905327-b03b-4e9d-bb2a-a842418e03b5\",\"type\":\"LinearAxis\"},{\"attributes\":{},\"id\":\"159cadec-9c1f-4e58-a10a-0caf667db855\",\"type\":\"UnionRenderers\"},{\"attributes\":{\"bottom_units\":\"screen\",\"fill_alpha\":{\"value\":0.5},\"fill_color\":{\"value\":\"lightgrey\"},\"left_units\":\"screen\",\"level\":\"overlay\",\"line_alpha\":{\"value\":1.0},\"line_color\":{\"value\":\"black\"},\"line_dash\":[4,4],\"line_width\":{\"value\":2},\"plot\":null,\"render_mode\":\"css\",\"right_units\":\"screen\",\"top_units\":\"screen\"},\"id\":\"88b6fc44-2e92-4e95-a5dc-6debe862af57\",\"type\":\"BoxAnnotation\"},{\"attributes\":{},\"id\":\"c119ad21-2fbd-45bf-914c-a9604bb2d03c\",\"type\":\"Selection\"},{\"attributes\":{\"plot\":{\"id\":\"e511ddf3-4f53-4e21-8416-c6bf5ccf5860\",\"subtype\":\"Figure\",\"type\":\"Plot\"},\"ticker\":{\"id\":\"0db2fbb3-450d-4046-889f-5072e6d5ae70\",\"type\":\"CategoricalTicker\"}},\"id\":\"def0dd69-8c18-4cbd-8b96-474b3e47a9b2\",\"type\":\"Grid\"},{\"attributes\":{},\"id\":\"e8fd6a34-97eb-4847-aba5-eda942a11139\",\"type\":\"CategoricalTickFormatter\"},{\"attributes\":{},\"id\":\"972e3f53-122e-467e-b123-272bf164db96\",\"type\":\"WheelZoomTool\"},{\"attributes\":{},\"id\":\"54e7b042-fc08-4551-bb3f-608cd6c3eb5e\",\"type\":\"PanTool\"},{\"attributes\":{\"data_source\":{\"id\":\"cfe86e97-7e38-4000-9f5a-2479135c57a1\",\"type\":\"ColumnDataSource\"},\"glyph\":{\"id\":\"e82e2ed4-83e6-44a2-82bd-1220f6c36e15\",\"type\":\"VBar\"},\"hover_glyph\":null,\"muted_glyph\":null,\"nonselection_glyph\":{\"id\":\"61816af2-8e8c-4d3e-9eb5-b3ee36c3c02a\",\"type\":\"VBar\"},\"selection_glyph\":null,\"view\":{\"id\":\"36fc80fa-2d2a-4ce3-bb0a-f11f62eeb000\",\"type\":\"CDSView\"}},\"id\":\"43111332-caa1-4479-857b-774137e7e177\",\"type\":\"GlyphRenderer\"},{\"attributes\":{\"active_drag\":\"auto\",\"active_inspect\":\"auto\",\"active_scroll\":\"auto\",\"active_tap\":\"auto\",\"tools\":[{\"id\":\"0f4a5cf2-b981-4d5c-9a45-9dc8ce1eb93d\",\"type\":\"PanTool\"},{\"id\":\"7a116068-8049-44ae-bf16-f133d6c404ea\",\"type\":\"WheelZoomTool\"},{\"id\":\"340bc3ee-ef48-421a-a875-64d1cc3944f3\",\"type\":\"BoxZoomTool\"},{\"id\":\"5909f0c8-d4ed-42db-bc29-7cadf7e03173\",\"type\":\"SaveTool\"},{\"id\":\"46b4cfbc-1b70-4702-bec4-a8b73bca3e8f\",\"type\":\"ResetTool\"},{\"id\":\"9cc3b9dd-12a8-46b9-b9fd-fff3aaf78a51\",\"type\":\"HelpTool\"}]},\"id\":\"4a767077-3648-4bec-b2f5-858408d41516\",\"type\":\"Toolbar\"},{\"attributes\":{\"children\":[{\"id\":\"90225149-4570-4b24-9b75-1ea2ec7dce33\",\"type\":\"ToolbarBox\"},{\"id\":\"b0845ec4-fc89-40c0-b365-f9a3af9bb940\",\"type\":\"Column\"}]},\"id\":\"4422c631-3c44-4106-84b9-22c387cbae93\",\"type\":\"Column\"},{\"attributes\":{},\"id\":\"a17c54bd-f874-498a-9f6d-e1479b634f78\",\"type\":\"UnionRenderers\"},{\"attributes\":{\"axis_label\":\"spectral band\",\"formatter\":{\"id\":\"e8fd6a34-97eb-4847-aba5-eda942a11139\",\"type\":\"CategoricalTickFormatter\"},\"plot\":{\"id\":\"e511ddf3-4f53-4e21-8416-c6bf5ccf5860\",\"subtype\":\"Figure\",\"type\":\"Plot\"},\"ticker\":{\"id\":\"0db2fbb3-450d-4046-889f-5072e6d5ae70\",\"type\":\"CategoricalTicker\"}},\"id\":\"fb6b232e-dbb1-4357-a245-d4f5059d867e\",\"type\":\"CategoricalAxis\"}],\"root_ids\":[\"4422c631-3c44-4106-84b9-22c387cbae93\"]},\"title\":\"Bokeh Application\",\"version\":\"0.12.16\"}};\n",
       "  var render_items = [{\"docid\":\"3833779c-ebe8-4748-af3e-ba40b314c63b\",\"elementid\":\"15fdbab4-079b-4cbf-af90-563437f0108b\",\"modelid\":\"4422c631-3c44-4106-84b9-22c387cbae93\"}];\n",
       "  root.Bokeh.embed.embed_items_notebook(docs_json, render_items);\n",
       "\n",
       "  }\n",
       "  if (root.Bokeh !== undefined) {\n",
       "    embed_document(root);\n",
       "  } else {\n",
       "    var attempts = 0;\n",
       "    var timer = setInterval(function(root) {\n",
       "      if (root.Bokeh !== undefined) {\n",
       "        embed_document(root);\n",
       "        clearInterval(timer);\n",
       "      }\n",
       "      attempts++;\n",
       "      if (attempts > 100) {\n",
       "        console.log(\"Bokeh: ERROR: Unable to run BokehJS code because BokehJS library is missing\")\n",
       "        clearInterval(timer);\n",
       "      }\n",
       "    }, 10, root)\n",
       "  }\n",
       "})(window);"
      ],
      "application/vnd.bokehjs_exec.v0+json": ""
     },
     "metadata": {
      "application/vnd.bokehjs_exec.v0+json": {
       "id": "4422c631-3c44-4106-84b9-22c387cbae93"
      }
     },
     "output_type": "display_data"
    },
    {
     "data": {
      "text/markdown": [
       "*FIGURE.* Difference between CLIRAD and CRD in TOA, SFC and net atmosphere flux, in each spectral band."
      ],
      "text/plain": [
       "<IPython.core.display.Markdown object>"
      ]
     },
     "metadata": {},
     "output_type": "display_data"
    },
    {
     "data": {
      "text/html": [
       "<div>\n",
       "<style scoped>\n",
       "    .dataframe tbody tr th:only-of-type {\n",
       "        vertical-align: middle;\n",
       "    }\n",
       "\n",
       "    .dataframe tbody tr th {\n",
       "        vertical-align: top;\n",
       "    }\n",
       "\n",
       "    .dataframe thead th {\n",
       "        text-align: right;\n",
       "    }\n",
       "</style>\n",
       "<table border=\"1\" class=\"dataframe\">\n",
       "  <thead>\n",
       "    <tr style=\"text-align: right;\">\n",
       "      <th></th>\n",
       "      <th>OLR flux</th>\n",
       "      <th>SFC flux</th>\n",
       "      <th>ATM heating</th>\n",
       "    </tr>\n",
       "    <tr>\n",
       "      <th>Sum over bands</th>\n",
       "      <th></th>\n",
       "      <th></th>\n",
       "      <th></th>\n",
       "    </tr>\n",
       "  </thead>\n",
       "  <tbody>\n",
       "    <tr>\n",
       "      <th>CLIRAD (single-run) - CRD</th>\n",
       "      <td>0.84</td>\n",
       "      <td>-0.44</td>\n",
       "      <td>1.27</td>\n",
       "    </tr>\n",
       "    <tr>\n",
       "      <th>CRD</th>\n",
       "      <td>-201.06</td>\n",
       "      <td>166.03</td>\n",
       "      <td>-119.67</td>\n",
       "    </tr>\n",
       "  </tbody>\n",
       "</table>\n",
       "</div>"
      ],
      "text/plain": [
       "                           OLR flux  SFC flux  ATM heating\n",
       "Sum over bands                                            \n",
       "CLIRAD (single-run) - CRD      0.84     -0.44         1.27\n",
       "CRD                         -201.06    166.03      -119.67"
      ]
     },
     "metadata": {},
     "output_type": "display_data"
    },
    {
     "data": {
      "text/markdown": [
       "*TABLE.* Difference between CLIRAD and CRD in TOA, SFC and net atmosphere flux, over all spectral bands. CRD's TOA, SFC and net atmosphere flux, over all spectral bands."
      ],
      "text/plain": [
       "<IPython.core.display.Markdown object>"
      ]
     },
     "metadata": {},
     "output_type": "display_data"
    },
    {
     "data": {
      "text/html": [
       "<a id=\"Cooling_rates._trp.\"></a>"
      ],
      "text/plain": [
       "<IPython.core.display.HTML object>"
      ]
     },
     "metadata": {},
     "output_type": "display_data"
    },
    {
     "data": {
      "text/markdown": [
       "# Cooling rates. trp."
      ],
      "text/plain": [
       "<IPython.core.display.Markdown object>"
      ]
     },
     "metadata": {},
     "output_type": "display_data"
    },
    {
     "data": {
      "text/html": [
       "\n",
       "<div class=\"bk-root\">\n",
       "    <div class=\"bk-plotdiv\" id=\"48f2aabd-d2ee-4e58-b188-49e26e9e6477\"></div>\n",
       "</div>"
      ]
     },
     "metadata": {},
     "output_type": "display_data"
    },
    {
     "data": {
      "application/javascript": [
       "(function(root) {\n",
       "  function embed_document(root) {\n",
       "    \n",
       "  var docs_json = {\"e9da4e2e-fe4a-4ebc-8059-a3781e6a1bba\":{\"roots\":{\"references\":[{\"attributes\":{\"active_drag\":\"auto\",\"active_inspect\":\"auto\",\"active_scroll\":\"auto\",\"active_tap\":\"auto\",\"tools\":[{\"id\":\"d5b6d1de-51b5-406e-9e62-5416939b3712\",\"type\":\"PanTool\"},{\"id\":\"773e6ee8-9102-40d0-948a-5f713dbf768f\",\"type\":\"WheelZoomTool\"},{\"id\":\"3c6b938a-6488-44e6-9bfd-608b517ec99b\",\"type\":\"BoxZoomTool\"},{\"id\":\"b3671f3a-1166-4e87-85e3-9d029a4641e5\",\"type\":\"SaveTool\"},{\"id\":\"077634a2-7d7f-4104-a14f-6a494d949056\",\"type\":\"ResetTool\"},{\"id\":\"5201d85e-0f15-4a75-a053-3ae5a85e5e0a\",\"type\":\"HelpTool\"}]},\"id\":\"43b94165-2ea7-41be-9a69-7fbed0c7f991\",\"type\":\"Toolbar\"},{\"attributes\":{\"active_drag\":\"auto\",\"active_inspect\":\"auto\",\"active_scroll\":\"auto\",\"active_tap\":\"auto\",\"tools\":[{\"id\":\"533aac73-3a9f-477c-b40a-37af2049232b\",\"type\":\"PanTool\"},{\"id\":\"370e95d6-1323-4c51-bf29-456e8d84762e\",\"type\":\"WheelZoomTool\"},{\"id\":\"c9d3e544-0cfa-482c-9c29-f1ed57b8f260\",\"type\":\"BoxZoomTool\"},{\"id\":\"5984d28e-ff10-48bd-accd-fc301823b56b\",\"type\":\"SaveTool\"},{\"id\":\"10a8e466-a2e8-42bd-87a7-3eff39178e7a\",\"type\":\"ResetTool\"},{\"id\":\"33fcda68-2f2c-4a29-9276-496d47f2b747\",\"type\":\"HelpTool\"}]},\"id\":\"4456cd86-b860-4d62-9565-d0c4f396917c\",\"type\":\"Toolbar\"},{\"attributes\":{\"overlay\":{\"id\":\"4b5c4420-aa0e-425f-8319-6e34e75f2b57\",\"type\":\"BoxAnnotation\"}},\"id\":\"4d22a098-8264-4979-b611-808a739b642a\",\"type\":\"BoxZoomTool\"},{\"attributes\":{\"items\":[{\"id\":\"0d810119-585b-4ec0-8092-a3a409b0bfb7\",\"type\":\"LegendItem\"},{\"id\":\"e09fcdca-a42f-4900-8180-9b8ced8ae485\",\"type\":\"LegendItem\"}],\"label_text_font_size\":{\"value\":\"8pt\"},\"location\":\"top_center\",\"orientation\":\"horizontal\",\"plot\":{\"id\":\"8899e028-30f8-4e0b-89ae-15d90327442f\",\"subtype\":\"Figure\",\"type\":\"Plot\"}},\"id\":\"95b2b9ae-feca-4656-bff7-6754fb577bc9\",\"type\":\"Legend\"},{\"attributes\":{\"num_minor_ticks\":10},\"id\":\"cef89112-8f3a-4626-8924-b62f358cee7e\",\"type\":\"LogTicker\"},{\"attributes\":{\"data_source\":{\"id\":\"b7ff81db-0ec1-479a-bcdb-0612c72347d1\",\"type\":\"ColumnDataSource\"},\"glyph\":{\"id\":\"d8350683-3b2e-4fe8-a967-7f803146abe4\",\"type\":\"Circle\"},\"hover_glyph\":null,\"muted_glyph\":null,\"nonselection_glyph\":{\"id\":\"b288e4c8-2bd8-4c26-a2e0-166a54606e60\",\"type\":\"Circle\"},\"selection_glyph\":null,\"view\":{\"id\":\"f4977b77-ab92-4c76-8a69-f2f4562e9a14\",\"type\":\"CDSView\"}},\"id\":\"65122ba7-9e77-4a02-877c-68e9038ff830\",\"type\":\"GlyphRenderer\"},{\"attributes\":{},\"id\":\"4425b435-10b0-4c47-be52-7581c620cf71\",\"type\":\"WheelZoomTool\"},{\"attributes\":{},\"id\":\"dab30a2a-080d-48a5-b62f-e329aedfbea0\",\"type\":\"PanTool\"},{\"attributes\":{\"above\":[{\"id\":\"7aa8cd3a-e228-4de3-a249-94c881e3e8c4\",\"type\":\"Legend\"}],\"below\":[{\"id\":\"21f8c1c0-da89-4229-ba2a-accb90829d3c\",\"type\":\"LinearAxis\"}],\"left\":[{\"id\":\"115797b5-30ca-4764-a646-006bddd26956\",\"type\":\"LogAxis\"}],\"plot_width\":300,\"renderers\":[{\"id\":\"21f8c1c0-da89-4229-ba2a-accb90829d3c\",\"type\":\"LinearAxis\"},{\"id\":\"db07cffe-6325-4569-b08f-1a9441b70303\",\"type\":\"Grid\"},{\"id\":\"115797b5-30ca-4764-a646-006bddd26956\",\"type\":\"LogAxis\"},{\"id\":\"4c289d8e-0edc-4d46-96f8-c385cb72435a\",\"type\":\"Grid\"},{\"id\":\"21d4ffd8-2b2b-4a75-9735-2fc52f6694d4\",\"type\":\"BoxAnnotation\"},{\"id\":\"f137c421-0926-4d2b-8dea-bfbd25e06a62\",\"type\":\"GlyphRenderer\"},{\"id\":\"c6d7737b-a655-4f2e-b107-da61867faa1d\",\"type\":\"GlyphRenderer\"},{\"id\":\"7aa8cd3a-e228-4de3-a249-94c881e3e8c4\",\"type\":\"Legend\"}],\"title\":{\"id\":\"c4192de2-d82f-4d9b-a392-f7930337221e\",\"type\":\"Title\"},\"toolbar\":{\"id\":\"43b94165-2ea7-41be-9a69-7fbed0c7f991\",\"type\":\"Toolbar\"},\"toolbar_location\":null,\"x_range\":{\"id\":\"1a823f1c-df4d-4555-b531-3ba3c39c2ce3\",\"type\":\"Range1d\"},\"x_scale\":{\"id\":\"92fe93a4-2f7f-43e6-8b8b-014269e6ee68\",\"type\":\"LinearScale\"},\"y_range\":{\"id\":\"1974719f-4382-49e6-baf9-147922990972\",\"type\":\"Range1d\"},\"y_scale\":{\"id\":\"48afca24-c9d5-47eb-a97d-54ff3e6975ff\",\"type\":\"LogScale\"}},\"id\":\"976898c9-6d45-488a-8d16-517a28e86b3a\",\"subtype\":\"Figure\",\"type\":\"Plot\"},{\"attributes\":{\"callback\":null,\"data\":{\"x\":{\"__ndarray__\":\"lAalGK/8Q8CGE5pWDoMgwKSl1BqIsQLA3tedj0Ej/D/B1EsfxC8OQNnO7ksNzw5ASFT1jd9TBED76MoyIs7mP/K34Ws9Fui/B5SoLb0p9b9BHa9TKD3xv87XqD/ppt6/njd2qq/Xtj+IsTWs3Z7dP1IiZ/m+T+E/3uUthbDQ1j8unlvPSSGyPwqYKdAPatG/ob4dgAA44b+hGTDqb0/hvy5r3sa3nNO/PTeDO117ur+OD4jURPWgv4GIasHWxcu/WtYff6dK17+vawS7/i67v0WK81haitQ/KZhcREWt1T8/X2I46pe4PzW+eboZD4o/D9WQrnR0zj/ggxshrEHUP2hEyNKEZcE/X3xvHBvvq7/PFtbGvpWavye0G7YmcqM/gBmhHJD2nL+RdOrQWOSyv57C6w9C2a6/J7MHaNP5q7/hjWIWltauv5rxI9BByq+/qdJtmlm9sb8lWa88jlKov85OPMKYgLC//kbGNGdxv78v3VhOuDy0v/UW3BRHp66/jqAqyq5Utb8wV56ocj+1v8sdzS+mlqy/NrHRaTa0n7/4DIGn8p6UvyR46M5jOpa/WroCp4Eanr9uY8OXpFKfvyXpt68D546/m49UYHpbjj9RoDbaDBimP3AkZA7scqw/7g5nRouopz8Fg7FT5sWXPwCwL9oJTQc/RLPy+5mifb8AMtXr1YlkP+Yr2AP74Zk/tOXHt+32qz9ZQz3YvTCyP5KBroWe37I/zRPAZbbxsz80mqt6IQW1P3RCh8DaH7Y/QEBcyJMjuj/gQYCMeCu+P7+r4BWTx78/\",\"dtype\":\"float64\",\"shape\":[75]},\"y\":{\"__ndarray__\":\"GhExyth1ND/Sv8nbtpRIP2vylNV0PVE/aTum7souWD/At0SJ8fVgPw3Iuahxymc/MSNhhJWvcD/bTfBN02d3P2zb5nxnaoA/CD5h5MAGhz8NmeH1TyaQP+zrCsc9p5Y/LbKd76fGnz/bLW5ISEmmPww9YvTcQq8/JV2OstnstT8Er5Y7M8G+P0c+r3jqkcU/5h99k6ZBzj88bCIzFzjVP4enV8oyxN0//yH99nXg5D8qOpLLf0jtP5kqGJXUifQ/c9cS8kHP/D+/DpwzojQEQIEmwoanVwxA4lgXt9HgE0BSSZ2AJuIbQAMJih9jjiNA5q4l5INuK0AwTKYKRj0zQNv5fmq8/DpAaCJseHrtQkB/+zpwzoxKQM3MzMzMeFJAZmZmZmZqWEAAAAAAAFxeQM3MzMzMJmJAmpmZmZkfZUBmZmZmZhhoQDMzMzMzEWtAAAAAAAAKbkBmZmZmZoFwQM3MzMzM/XFAMzMzMzN6c0CamZmZmfZ0QAAAAAAAc3ZAZmZmZmbvd0DNzMzMzGt5QDMzMzMz6HpAmpmZmZlkfEAAAAAAAOF9QGZmZmZmXX9AZmZmZuZsgECamZmZGSuBQM3MzMxM6YFAAAAAAICngkAzMzMzs2WDQGZmZmbmI4RAmpmZmRnihEDNzMzMTKCFQAAAAACAXoZAMzMzM7Mch0BmZmZm5tqHQJqZmZkZmYhAzczMzExXiUAAAAAAgBWKQDMzMzOz04pAZmZmZuaRi0CamZmZGVCMQM3MzMxMDo1AAAAAAIDMjUAzMzMzs4qOQGZmZmbmSI9A\",\"dtype\":\"float64\",\"shape\":[75]}},\"selected\":{\"id\":\"fcdc298c-907b-4875-b65b-2cb0ba39b9c2\",\"type\":\"Selection\"},\"selection_policy\":{\"id\":\"e8c6cf35-7aa6-4c04-a51a-fbb245277213\",\"type\":\"UnionRenderers\"}},\"id\":\"fccf6b70-c83f-4b60-b5f7-3fda4d4e3515\",\"type\":\"ColumnDataSource\"},{\"attributes\":{\"source\":{\"id\":\"b7ff81db-0ec1-479a-bcdb-0612c72347d1\",\"type\":\"ColumnDataSource\"}},\"id\":\"f4977b77-ab92-4c76-8a69-f2f4562e9a14\",\"type\":\"CDSView\"},{\"attributes\":{\"callback\":null,\"end\":0.01,\"start\":1020},\"id\":\"1974719f-4382-49e6-baf9-147922990972\",\"type\":\"Range1d\"},{\"attributes\":{\"line_alpha\":0.1,\"line_color\":\"#1f77b4\",\"line_width\":1.5,\"x\":{\"field\":\"x\"},\"y\":{\"field\":\"y\"}},\"id\":\"23364baa-ae16-4c52-85ff-eafc94cb27da\",\"type\":\"Line\"},{\"attributes\":{},\"id\":\"5e7bafd2-2792-46b3-9f8f-f1faba5c0b57\",\"type\":\"BasicTickFormatter\"},{\"attributes\":{\"plot\":{\"id\":\"90cdab05-8a1c-4fd4-821c-cdf9f51c648a\",\"subtype\":\"Figure\",\"type\":\"Plot\"},\"ticker\":{\"id\":\"12477b56-688f-4d45-9707-99fac8416aca\",\"type\":\"BasicTicker\"}},\"id\":\"a34827b3-cafd-4d27-b690-6264699a086e\",\"type\":\"Grid\"},{\"attributes\":{\"source\":{\"id\":\"37436152-96a1-4497-b48b-6f672dc9ca3d\",\"type\":\"ColumnDataSource\"}},\"id\":\"7ec28d6f-859c-46b4-9044-db85181a35a0\",\"type\":\"CDSView\"},{\"attributes\":{\"plot\":{\"id\":\"8899e028-30f8-4e0b-89ae-15d90327442f\",\"subtype\":\"Figure\",\"type\":\"Plot\"},\"ticker\":{\"id\":\"2af7e3d8-2566-43ee-b379-198b6f21f2e8\",\"type\":\"BasicTicker\"}},\"id\":\"bfaf24cc-5a19-4b07-aeaa-da9a37ea8b7e\",\"type\":\"Grid\"},{\"attributes\":{\"label\":{\"value\":\"CLIRAD (single-run) - CRD\"},\"renderers\":[{\"id\":\"f137c421-0926-4d2b-8dea-bfbd25e06a62\",\"type\":\"GlyphRenderer\"},{\"id\":\"c6d7737b-a655-4f2e-b107-da61867faa1d\",\"type\":\"GlyphRenderer\"}]},\"id\":\"d2da3ff8-6f7e-41c6-8e05-d381136ff4e5\",\"type\":\"LegendItem\"},{\"attributes\":{\"data_source\":{\"id\":\"84e104a3-d49a-488e-8281-0dd9a601b581\",\"type\":\"ColumnDataSource\"},\"glyph\":{\"id\":\"9b1a54bf-0c82-4b56-a010-25fd468139db\",\"type\":\"Circle\"},\"hover_glyph\":null,\"muted_glyph\":null,\"nonselection_glyph\":{\"id\":\"f040d246-3898-4226-91a9-ef43538d7c0a\",\"type\":\"Circle\"},\"selection_glyph\":null,\"view\":{\"id\":\"f2006788-5fa0-43d4-80bb-2196372712f9\",\"type\":\"CDSView\"}},\"id\":\"a89fd19a-0ac5-4866-9c29-0668953a2862\",\"type\":\"GlyphRenderer\"},{\"attributes\":{\"axis_label\":\"pressure [mb]\",\"formatter\":{\"id\":\"5e7bafd2-2792-46b3-9f8f-f1faba5c0b57\",\"type\":\"BasicTickFormatter\"},\"plot\":{\"id\":\"90cdab05-8a1c-4fd4-821c-cdf9f51c648a\",\"subtype\":\"Figure\",\"type\":\"Plot\"},\"ticker\":{\"id\":\"e7e23211-0076-4f43-861b-eacc384dd07b\",\"type\":\"BasicTicker\"}},\"id\":\"d9541217-6693-473c-95d4-c5d5ae89a52f\",\"type\":\"LinearAxis\"},{\"attributes\":{},\"id\":\"e7e23211-0076-4f43-861b-eacc384dd07b\",\"type\":\"BasicTicker\"},{\"attributes\":{\"data_source\":{\"id\":\"c8bf7b05-8ed7-44ba-a4fa-dd299739c0fb\",\"type\":\"ColumnDataSource\"},\"glyph\":{\"id\":\"3c487796-92c7-4813-85aa-6a1383441d0e\",\"type\":\"Line\"},\"hover_glyph\":null,\"muted_glyph\":null,\"nonselection_glyph\":{\"id\":\"bf91dea3-73ef-4e2a-ab1a-eb37bc7eb935\",\"type\":\"Line\"},\"selection_glyph\":null,\"view\":{\"id\":\"2ca709ec-db3b-474a-94e2-87ab093839bc\",\"type\":\"CDSView\"}},\"id\":\"7d0ed8c8-7d82-4d70-9705-034d1c95f8e2\",\"type\":\"GlyphRenderer\"},{\"attributes\":{},\"id\":\"22380a28-6f5e-4e5e-92c4-40e019b09557\",\"type\":\"Selection\"},{\"attributes\":{\"items\":[{\"id\":\"f5e96d9f-5292-42d1-a314-0ed4e751e096\",\"type\":\"LegendItem\"},{\"id\":\"f5a044d0-dcc8-42c2-92d8-e405ce6ad35f\",\"type\":\"LegendItem\"}],\"label_text_font_size\":{\"value\":\"8pt\"},\"location\":\"top_center\",\"orientation\":\"horizontal\",\"plot\":{\"id\":\"90cdab05-8a1c-4fd4-821c-cdf9f51c648a\",\"subtype\":\"Figure\",\"type\":\"Plot\"}},\"id\":\"b0f190cd-0507-4644-b9d3-4eff395b72db\",\"type\":\"Legend\"},{\"attributes\":{},\"id\":\"6377d47f-f23f-4e01-8404-f1edbeba7e03\",\"type\":\"LinearScale\"},{\"attributes\":{\"line_alpha\":0.1,\"line_color\":\"#1f77b4\",\"line_width\":1.5,\"x\":{\"field\":\"x\"},\"y\":{\"field\":\"y\"}},\"id\":\"bf91dea3-73ef-4e2a-ab1a-eb37bc7eb935\",\"type\":\"Line\"},{\"attributes\":{\"data_source\":{\"id\":\"37436152-96a1-4497-b48b-6f672dc9ca3d\",\"type\":\"ColumnDataSource\"},\"glyph\":{\"id\":\"ba5e4c84-2b2b-446c-aa7f-3505d93ff820\",\"type\":\"Line\"},\"hover_glyph\":null,\"muted_glyph\":null,\"nonselection_glyph\":{\"id\":\"23364baa-ae16-4c52-85ff-eafc94cb27da\",\"type\":\"Line\"},\"selection_glyph\":null,\"view\":{\"id\":\"7ec28d6f-859c-46b4-9044-db85181a35a0\",\"type\":\"CDSView\"}},\"id\":\"c6d7737b-a655-4f2e-b107-da61867faa1d\",\"type\":\"GlyphRenderer\"},{\"attributes\":{\"line_color\":\"#4daf4a\",\"line_width\":1.5,\"x\":{\"field\":\"x\"},\"y\":{\"field\":\"y\"}},\"id\":\"3c487796-92c7-4813-85aa-6a1383441d0e\",\"type\":\"Line\"},{\"attributes\":{\"children\":[{\"id\":\"90cdab05-8a1c-4fd4-821c-cdf9f51c648a\",\"subtype\":\"Figure\",\"type\":\"Plot\"},{\"id\":\"8899e028-30f8-4e0b-89ae-15d90327442f\",\"subtype\":\"Figure\",\"type\":\"Plot\"},{\"id\":\"976898c9-6d45-488a-8d16-517a28e86b3a\",\"subtype\":\"Figure\",\"type\":\"Plot\"}]},\"id\":\"3f0d47b8-b03e-4ad2-8e00-226b3f38db07\",\"type\":\"Row\"},{\"attributes\":{\"fill_alpha\":{\"value\":0.1},\"fill_color\":{\"value\":\"#1f77b4\"},\"line_alpha\":{\"value\":0.1},\"line_color\":{\"value\":\"#1f77b4\"},\"x\":{\"field\":\"x\"},\"y\":{\"field\":\"y\"}},\"id\":\"f040d246-3898-4226-91a9-ef43538d7c0a\",\"type\":\"Circle\"},{\"attributes\":{\"axis_label\":\"pressure [mb]\",\"formatter\":{\"id\":\"ddfce8ed-a219-4c57-971a-6533b1d402e3\",\"type\":\"LogTickFormatter\"},\"plot\":{\"id\":\"8899e028-30f8-4e0b-89ae-15d90327442f\",\"subtype\":\"Figure\",\"type\":\"Plot\"},\"ticker\":{\"id\":\"cef89112-8f3a-4626-8924-b62f358cee7e\",\"type\":\"LogTicker\"}},\"id\":\"48e8174f-0cd7-44d8-8301-5f32365acf6f\",\"type\":\"LogAxis\"},{\"attributes\":{\"callback\":null,\"data\":{\"x\":{\"__ndarray__\":\"R/KIaN7AVEClCeJMyPNGQOvRhpxr30JAptxzhxx4PkA7SssMElA4QK6Bp3CyUDNAsVXpjES9LkBFhUV0+5coQMHYwqbbySNA6f09nM3nH0CaSd/3eYoZQDmgiAOW8BNAPYqARh3eDEBkm4vCgvr+P9D+5tWhQfY/P8DwKRnSAkBq38kb17ILQDT7IWuSsxFAUr2Rjm0FFkAinq3s9XgbQGCHwtYcqSFAG64kT303J0C7dRDneyooQD9JYrbK8yRA9S3bneHhIUAIymSuUMMcQIkHLe6VEBdAAau3cITREkA6CiNvkQIPQJU39ki7IQlAaAvwok1UA0BXLQiS4+L7P0xzDpJ2hPI/NNuPGMbJ5z91mUVYxqfSPxqwUPSxZca/G11peifD3L8QzNj5t2jTvwzOozTL360/SPJ4VI1VzD9KJ0nXEIncP8yDdlvHt+4/Et49nYLW9z++2teD4Jn+P+568eH/bwFALf5D9lmAAkCiZAicVOkCQPPT4jNKxwJAOjp3wTzBAUBSQsKNGisBQG4OmjqJwQBAJ3sZoHFuAEA5Ar0Sdi0AQGy4rw5+9f8/7W4nSrC3/z8mPr8zj4T/P4UYRHCQS/8/embVKYcF/z+5YXG+LLP+P/qb8BVUgf4/KvafTtyO/j/avAK1Ppv+PwJV9VVm2P0/JFtYlU/n/D9sN+q2fiX6Pw44e41PNPc/Opt+Z/wN9T+x3vcSW1vzP9ofvWQJlvI/8sciQQBW8j80sfkQa17yPzg5qng2r/I/Oh14WJBh8z+VZjnpctj0P6CcrSuCqQBA\",\"dtype\":\"float64\",\"shape\":[75]},\"y\":{\"__ndarray__\":\"GhExyth1ND/Sv8nbtpRIP2vylNV0PVE/aTum7souWD/At0SJ8fVgPw3Iuahxymc/MSNhhJWvcD/bTfBN02d3P2zb5nxnaoA/CD5h5MAGhz8NmeH1TyaQP+zrCsc9p5Y/LbKd76fGnz/bLW5ISEmmPww9YvTcQq8/JV2OstnstT8Er5Y7M8G+P0c+r3jqkcU/5h99k6ZBzj88bCIzFzjVP4enV8oyxN0//yH99nXg5D8qOpLLf0jtP5kqGJXUifQ/c9cS8kHP/D+/DpwzojQEQIEmwoanVwxA4lgXt9HgE0BSSZ2AJuIbQAMJih9jjiNA5q4l5INuK0AwTKYKRj0zQNv5fmq8/DpAaCJseHrtQkB/+zpwzoxKQM3MzMzMeFJAZmZmZmZqWEAAAAAAAFxeQM3MzMzMJmJAmpmZmZkfZUBmZmZmZhhoQDMzMzMzEWtAAAAAAAAKbkBmZmZmZoFwQM3MzMzM/XFAMzMzMzN6c0CamZmZmfZ0QAAAAAAAc3ZAZmZmZmbvd0DNzMzMzGt5QDMzMzMz6HpAmpmZmZlkfEAAAAAAAOF9QGZmZmZmXX9AZmZmZuZsgECamZmZGSuBQM3MzMxM6YFAAAAAAICngkAzMzMzs2WDQGZmZmbmI4RAmpmZmRnihEDNzMzMTKCFQAAAAACAXoZAMzMzM7Mch0BmZmZm5tqHQJqZmZkZmYhAzczMzExXiUAAAAAAgBWKQDMzMzOz04pAZmZmZuaRi0CamZmZGVCMQM3MzMxMDo1AAAAAAIDMjUAzMzMzs4qOQGZmZmbmSI9A\",\"dtype\":\"float64\",\"shape\":[75]}},\"selected\":{\"id\":\"4f9673c7-ef43-427f-b107-f0ebb1c6f6f1\",\"type\":\"Selection\"},\"selection_policy\":{\"id\":\"a2b49d8f-5b34-4ca0-8cce-2b63eca6331f\",\"type\":\"UnionRenderers\"}},\"id\":\"84e104a3-d49a-488e-8281-0dd9a601b581\",\"type\":\"ColumnDataSource\"},{\"attributes\":{\"callback\":null,\"data\":{\"x\":{\"__ndarray__\":\"R/KIaN7AVEClCeJMyPNGQOvRhpxr30JAptxzhxx4PkA7SssMElA4QK6Bp3CyUDNAsVXpjES9LkBFhUV0+5coQMHYwqbbySNA6f09nM3nH0CaSd/3eYoZQDmgiAOW8BNAPYqARh3eDEBkm4vCgvr+P9D+5tWhQfY/P8DwKRnSAkBq38kb17ILQDT7IWuSsxFAUr2Rjm0FFkAinq3s9XgbQGCHwtYcqSFAG64kT303J0C7dRDneyooQD9JYrbK8yRA9S3bneHhIUAIymSuUMMcQIkHLe6VEBdAAau3cITREkA6CiNvkQIPQJU39ki7IQlAaAvwok1UA0BXLQiS4+L7P0xzDpJ2hPI/NNuPGMbJ5z91mUVYxqfSPxqwUPSxZca/G11peifD3L8QzNj5t2jTvwzOozTL360/SPJ4VI1VzD9KJ0nXEIncP8yDdlvHt+4/Et49nYLW9z++2teD4Jn+P+568eH/bwFALf5D9lmAAkCiZAicVOkCQPPT4jNKxwJAOjp3wTzBAUBSQsKNGisBQG4OmjqJwQBAJ3sZoHFuAEA5Ar0Sdi0AQGy4rw5+9f8/7W4nSrC3/z8mPr8zj4T/P4UYRHCQS/8/embVKYcF/z+5YXG+LLP+P/qb8BVUgf4/KvafTtyO/j/avAK1Ppv+PwJV9VVm2P0/JFtYlU/n/D9sN+q2fiX6Pw44e41PNPc/Opt+Z/wN9T+x3vcSW1vzP9ofvWQJlvI/8sciQQBW8j80sfkQa17yPzg5qng2r/I/Oh14WJBh8z+VZjnpctj0P6CcrSuCqQBA\",\"dtype\":\"float64\",\"shape\":[75]},\"y\":{\"__ndarray__\":\"GhExyth1ND/Sv8nbtpRIP2vylNV0PVE/aTum7souWD/At0SJ8fVgPw3Iuahxymc/MSNhhJWvcD/bTfBN02d3P2zb5nxnaoA/CD5h5MAGhz8NmeH1TyaQP+zrCsc9p5Y/LbKd76fGnz/bLW5ISEmmPww9YvTcQq8/JV2OstnstT8Er5Y7M8G+P0c+r3jqkcU/5h99k6ZBzj88bCIzFzjVP4enV8oyxN0//yH99nXg5D8qOpLLf0jtP5kqGJXUifQ/c9cS8kHP/D+/DpwzojQEQIEmwoanVwxA4lgXt9HgE0BSSZ2AJuIbQAMJih9jjiNA5q4l5INuK0AwTKYKRj0zQNv5fmq8/DpAaCJseHrtQkB/+zpwzoxKQM3MzMzMeFJAZmZmZmZqWEAAAAAAAFxeQM3MzMzMJmJAmpmZmZkfZUBmZmZmZhhoQDMzMzMzEWtAAAAAAAAKbkBmZmZmZoFwQM3MzMzM/XFAMzMzMzN6c0CamZmZmfZ0QAAAAAAAc3ZAZmZmZmbvd0DNzMzMzGt5QDMzMzMz6HpAmpmZmZlkfEAAAAAAAOF9QGZmZmZmXX9AZmZmZuZsgECamZmZGSuBQM3MzMxM6YFAAAAAAICngkAzMzMzs2WDQGZmZmbmI4RAmpmZmRnihEDNzMzMTKCFQAAAAACAXoZAMzMzM7Mch0BmZmZm5tqHQJqZmZkZmYhAzczMzExXiUAAAAAAgBWKQDMzMzOz04pAZmZmZuaRi0CamZmZGVCMQM3MzMxMDo1AAAAAAIDMjUAzMzMzs4qOQGZmZmbmSI9A\",\"dtype\":\"float64\",\"shape\":[75]}},\"selected\":{\"id\":\"3418921b-7395-4392-a890-83559064fece\",\"type\":\"Selection\"},\"selection_policy\":{\"id\":\"7186756a-f55c-4f8d-b57f-30e0f503db2e\",\"type\":\"UnionRenderers\"}},\"id\":\"c8bf7b05-8ed7-44ba-a4fa-dd299739c0fb\",\"type\":\"ColumnDataSource\"},{\"attributes\":{},\"id\":\"8c87e648-463f-4996-bd0f-8ea4400d3522\",\"type\":\"UnionRenderers\"},{\"attributes\":{\"dimension\":1,\"plot\":{\"id\":\"8899e028-30f8-4e0b-89ae-15d90327442f\",\"subtype\":\"Figure\",\"type\":\"Plot\"},\"ticker\":{\"id\":\"cef89112-8f3a-4626-8924-b62f358cee7e\",\"type\":\"LogTicker\"}},\"id\":\"795b8d7b-503e-4eb5-8512-00e3535cd2a3\",\"type\":\"Grid\"},{\"attributes\":{\"dimension\":1,\"plot\":{\"id\":\"90cdab05-8a1c-4fd4-821c-cdf9f51c648a\",\"subtype\":\"Figure\",\"type\":\"Plot\"},\"ticker\":{\"id\":\"e7e23211-0076-4f43-861b-eacc384dd07b\",\"type\":\"BasicTicker\"}},\"id\":\"15e7fe73-ff04-4187-a729-9096fc2d75d3\",\"type\":\"Grid\"},{\"attributes\":{},\"id\":\"12477b56-688f-4d45-9707-99fac8416aca\",\"type\":\"BasicTicker\"},{\"attributes\":{\"source\":{\"id\":\"84e104a3-d49a-488e-8281-0dd9a601b581\",\"type\":\"ColumnDataSource\"}},\"id\":\"f2006788-5fa0-43d4-80bb-2196372712f9\",\"type\":\"CDSView\"},{\"attributes\":{},\"id\":\"4f9673c7-ef43-427f-b107-f0ebb1c6f6f1\",\"type\":\"Selection\"},{\"attributes\":{\"plot\":null,\"text\":\"\"},\"id\":\"2ee67a12-6ae0-4384-bfcb-b6ddffd8bc9f\",\"type\":\"Title\"},{\"attributes\":{\"fill_alpha\":{\"value\":0.7},\"fill_color\":{\"value\":\"#4daf4a\"},\"line_alpha\":{\"value\":0.7},\"line_color\":{\"value\":\"#4daf4a\"},\"x\":{\"field\":\"x\"},\"y\":{\"field\":\"y\"}},\"id\":\"9b1a54bf-0c82-4b56-a010-25fd468139db\",\"type\":\"Circle\"},{\"attributes\":{},\"id\":\"0b14f78e-8873-4abe-8ea7-e8bc78baebd5\",\"type\":\"Selection\"},{\"attributes\":{\"axis_label\":\"cooling rate [K/day]\",\"formatter\":{\"id\":\"65eac302-de8d-4016-bf3b-7b36d54c62f2\",\"type\":\"BasicTickFormatter\"},\"plot\":{\"id\":\"976898c9-6d45-488a-8d16-517a28e86b3a\",\"subtype\":\"Figure\",\"type\":\"Plot\"},\"ticker\":{\"id\":\"cdaf3a21-6aef-49fa-baa3-a8ec8da882d8\",\"type\":\"BasicTicker\"}},\"id\":\"21f8c1c0-da89-4229-ba2a-accb90829d3c\",\"type\":\"LinearAxis\"},{\"attributes\":{\"source\":{\"id\":\"c8bf7b05-8ed7-44ba-a4fa-dd299739c0fb\",\"type\":\"ColumnDataSource\"}},\"id\":\"2ca709ec-db3b-474a-94e2-87ab093839bc\",\"type\":\"CDSView\"},{\"attributes\":{\"children\":[{\"id\":\"3f0d47b8-b03e-4ad2-8e00-226b3f38db07\",\"type\":\"Row\"}]},\"id\":\"62b559fe-2bc4-44e1-ac25-af7695b86df9\",\"type\":\"Column\"},{\"attributes\":{},\"id\":\"34076685-b1c2-4f05-81f2-493525534f76\",\"type\":\"LogScale\"},{\"attributes\":{\"axis_label\":\"cooling rate [K/day]\",\"formatter\":{\"id\":\"a34855da-c77d-4280-b43f-131e16457c91\",\"type\":\"BasicTickFormatter\"},\"plot\":{\"id\":\"8899e028-30f8-4e0b-89ae-15d90327442f\",\"subtype\":\"Figure\",\"type\":\"Plot\"},\"ticker\":{\"id\":\"2af7e3d8-2566-43ee-b379-198b6f21f2e8\",\"type\":\"BasicTicker\"}},\"id\":\"2be06607-6bf8-4c5a-983b-43143d16202f\",\"type\":\"LinearAxis\"},{\"attributes\":{},\"id\":\"2af7e3d8-2566-43ee-b379-198b6f21f2e8\",\"type\":\"BasicTicker\"},{\"attributes\":{},\"id\":\"cbcb9617-ecfe-449d-966d-d8ecd7fbfa1f\",\"type\":\"UnionRenderers\"},{\"attributes\":{},\"id\":\"58410a60-2e9e-4d9a-8878-96ed1794bce4\",\"type\":\"Selection\"},{\"attributes\":{},\"id\":\"533aac73-3a9f-477c-b40a-37af2049232b\",\"type\":\"PanTool\"},{\"attributes\":{},\"id\":\"b3671f3a-1166-4e87-85e3-9d029a4641e5\",\"type\":\"SaveTool\"},{\"attributes\":{\"data_source\":{\"id\":\"3ce69612-9a3d-4576-bb04-acd5cd513806\",\"type\":\"ColumnDataSource\"},\"glyph\":{\"id\":\"c629195e-99be-45ed-a05e-d524ac482ce8\",\"type\":\"Line\"},\"hover_glyph\":null,\"muted_glyph\":null,\"nonselection_glyph\":{\"id\":\"23340808-e9e6-40f0-a20c-e061cb5aef08\",\"type\":\"Line\"},\"selection_glyph\":null,\"view\":{\"id\":\"4e5d5472-809d-41a9-9bd5-991785c06cdb\",\"type\":\"CDSView\"}},\"id\":\"3f0dedb9-3886-4fcb-a637-a9c29970b4ed\",\"type\":\"GlyphRenderer\"},{\"attributes\":{},\"id\":\"773e6ee8-9102-40d0-948a-5f713dbf768f\",\"type\":\"WheelZoomTool\"},{\"attributes\":{\"callback\":null,\"end\":12.208583273105388,\"start\":-0.6033023020843901},\"id\":\"0faa7144-5b01-4d79-9aa5-42aadd3295eb\",\"type\":\"Range1d\"},{\"attributes\":{},\"id\":\"5984d28e-ff10-48bd-accd-fc301823b56b\",\"type\":\"SaveTool\"},{\"attributes\":{\"axis_label\":\"cooling rate [K/day]\",\"formatter\":{\"id\":\"38e09701-aa2a-4605-b391-f90688c038fa\",\"type\":\"BasicTickFormatter\"},\"plot\":{\"id\":\"90cdab05-8a1c-4fd4-821c-cdf9f51c648a\",\"subtype\":\"Figure\",\"type\":\"Plot\"},\"ticker\":{\"id\":\"12477b56-688f-4d45-9707-99fac8416aca\",\"type\":\"BasicTicker\"}},\"id\":\"4e091cc6-1496-4ec7-a703-2efb79500e98\",\"type\":\"LinearAxis\"},{\"attributes\":{},\"id\":\"370e95d6-1323-4c51-bf29-456e8d84762e\",\"type\":\"WheelZoomTool\"},{\"attributes\":{},\"id\":\"10a8e466-a2e8-42bd-87a7-3eff39178e7a\",\"type\":\"ResetTool\"},{\"attributes\":{\"bottom_units\":\"screen\",\"fill_alpha\":{\"value\":0.5},\"fill_color\":{\"value\":\"lightgrey\"},\"left_units\":\"screen\",\"level\":\"overlay\",\"line_alpha\":{\"value\":1.0},\"line_color\":{\"value\":\"black\"},\"line_dash\":[4,4],\"line_width\":{\"value\":2},\"plot\":null,\"render_mode\":\"css\",\"right_units\":\"screen\",\"top_units\":\"screen\"},\"id\":\"21d4ffd8-2b2b-4a75-9735-2fc52f6694d4\",\"type\":\"BoxAnnotation\"},{\"attributes\":{},\"id\":\"7e74f919-020a-49fa-a65e-fd39ba4afefc\",\"type\":\"UnionRenderers\"},{\"attributes\":{},\"id\":\"fd7c467c-5a64-483b-bb1f-08c43e54bdbc\",\"type\":\"LinearScale\"},{\"attributes\":{\"line_alpha\":0.6,\"line_color\":\"#377eb8\",\"line_dash\":[6],\"line_width\":5,\"x\":{\"field\":\"x\"},\"y\":{\"field\":\"y\"}},\"id\":\"d03a6c0f-3fbe-46dd-afbe-d4daf5cce35f\",\"type\":\"Line\"},{\"attributes\":{},\"id\":\"48afca24-c9d5-47eb-a97d-54ff3e6975ff\",\"type\":\"LogScale\"},{\"attributes\":{\"callback\":null,\"end\":0.5596213662811859,\"start\":-1.3413269281465863},\"id\":\"1a823f1c-df4d-4555-b531-3ba3c39c2ce3\",\"type\":\"Range1d\"},{\"attributes\":{\"overlay\":{\"id\":\"21d4ffd8-2b2b-4a75-9735-2fc52f6694d4\",\"type\":\"BoxAnnotation\"}},\"id\":\"3c6b938a-6488-44e6-9bfd-608b517ec99b\",\"type\":\"BoxZoomTool\"},{\"attributes\":{\"bottom_units\":\"screen\",\"fill_alpha\":{\"value\":0.5},\"fill_color\":{\"value\":\"lightgrey\"},\"left_units\":\"screen\",\"level\":\"overlay\",\"line_alpha\":{\"value\":1.0},\"line_color\":{\"value\":\"black\"},\"line_dash\":[4,4],\"line_width\":{\"value\":2},\"plot\":null,\"render_mode\":\"css\",\"right_units\":\"screen\",\"top_units\":\"screen\"},\"id\":\"691e1075-3dae-4f4f-b9ab-054b2d6281da\",\"type\":\"BoxAnnotation\"},{\"attributes\":{\"callback\":null,\"data\":{\"x\":{\"__ndarray__\":\"+91suA2FRUDEhDu3BNNCQJGH2RpTtEFAEt02UCgdQEDVxLSQChY8QIhbJRqUKjdAYVUzOB7pMUDTM3KX3QQqQEK9BNB3SCJA6NjTUF6dGkBKgvPiLzsVQL0Sjm8nBhJA/DvUw9qUDUDkg8wWHTEDQPqPmlKB6f4/+3yWOi+sBUBavERq4UMMQLVhH27xnBBAfwWOfm3eE0DummfvB08ZQAaUixg3DCFArKetlIYCJ0Cs7TuihhkoQB+fXFuzhCRAQi/iYYwnIUBZuHizlFYcQC1AvJM7WRhAg3T9xFgsFEA0HebAUMcPQFKxsGLKOwlAuRjZ7ZQ7BUAmhydNp3kAQNl7ZywnsfQ/bePIZtQK5j8GONhrav7QPxDDyUYoicG/tW4zfJCS3r80aRMuziHYv2KS/mjbLl+/fwV3ehhXxT+O1XwUPq7YP7JEdD4ju+w/6QCXA6269j/1X/IRTNf9P3eY3xv76wBA9MudvM6EAUC4nZXZbkcCQJZjjxetTAJAN+UlS5cWAUCXT334HoEAQPbZ2qEuTwBAxddFMwkvAEAgAG4tOAQAQIwWdH+UnP8/BWSLQ0Y//z+ZMGChRAf/P7Wo5GjCDf8/mQ+WHj5C/z+7FkMl7WP/Px29Y3brZP8/oy7TqCBM/z/lglFOVvr+P18JCfCU2P0/cmhc+6zJ/D8DIuChwy/6P76YinnXm/c/Z9o81bPt9T/nsnvwZn70P/MHGE0DxPM/L8l+pxuV8z/YaqQova7zP2CtsiQ0EfQ/P+H9lMkD9T+yagFyKrv2P/6hXMS+pwFA\",\"dtype\":\"float64\",\"shape\":[75]},\"y\":{\"__ndarray__\":\"GhExyth1ND/Sv8nbtpRIP2vylNV0PVE/aTum7souWD/At0SJ8fVgPw3Iuahxymc/MSNhhJWvcD/bTfBN02d3P2zb5nxnaoA/CD5h5MAGhz8NmeH1TyaQP+zrCsc9p5Y/LbKd76fGnz/bLW5ISEmmPww9YvTcQq8/JV2OstnstT8Er5Y7M8G+P0c+r3jqkcU/5h99k6ZBzj88bCIzFzjVP4enV8oyxN0//yH99nXg5D8qOpLLf0jtP5kqGJXUifQ/c9cS8kHP/D+/DpwzojQEQIEmwoanVwxA4lgXt9HgE0BSSZ2AJuIbQAMJih9jjiNA5q4l5INuK0AwTKYKRj0zQNv5fmq8/DpAaCJseHrtQkB/+zpwzoxKQM3MzMzMeFJAZmZmZmZqWEAAAAAAAFxeQM3MzMzMJmJAmpmZmZkfZUBmZmZmZhhoQDMzMzMzEWtAAAAAAAAKbkBmZmZmZoFwQM3MzMzM/XFAMzMzMzN6c0CamZmZmfZ0QAAAAAAAc3ZAZmZmZmbvd0DNzMzMzGt5QDMzMzMz6HpAmpmZmZlkfEAAAAAAAOF9QGZmZmZmXX9AZmZmZuZsgECamZmZGSuBQM3MzMxM6YFAAAAAAICngkAzMzMzs2WDQGZmZmbmI4RAmpmZmRnihEDNzMzMTKCFQAAAAACAXoZAMzMzM7Mch0BmZmZm5tqHQJqZmZkZmYhAzczMzExXiUAAAAAAgBWKQDMzMzOz04pAZmZmZuaRi0CamZmZGVCMQM3MzMxMDo1AAAAAAIDMjUAzMzMzs4qOQGZmZmbmSI9A\",\"dtype\":\"float64\",\"shape\":[75]}},\"selected\":{\"id\":\"b40e5b1b-4653-4935-8911-642962b8a91c\",\"type\":\"Selection\"},\"selection_policy\":{\"id\":\"7e74f919-020a-49fa-a65e-fd39ba4afefc\",\"type\":\"UnionRenderers\"}},\"id\":\"3ce69612-9a3d-4576-bb04-acd5cd513806\",\"type\":\"ColumnDataSource\"},{\"attributes\":{\"items\":[{\"id\":\"d2da3ff8-6f7e-41c6-8e05-d381136ff4e5\",\"type\":\"LegendItem\"}],\"label_text_font_size\":{\"value\":\"8pt\"},\"location\":\"top_center\",\"orientation\":\"horizontal\",\"plot\":{\"id\":\"976898c9-6d45-488a-8d16-517a28e86b3a\",\"subtype\":\"Figure\",\"type\":\"Plot\"}},\"id\":\"7aa8cd3a-e228-4de3-a249-94c881e3e8c4\",\"type\":\"Legend\"},{\"attributes\":{},\"id\":\"33fcda68-2f2c-4a29-9276-496d47f2b747\",\"type\":\"HelpTool\"},{\"attributes\":{\"above\":[{\"id\":\"b0f190cd-0507-4644-b9d3-4eff395b72db\",\"type\":\"Legend\"}],\"below\":[{\"id\":\"4e091cc6-1496-4ec7-a703-2efb79500e98\",\"type\":\"LinearAxis\"}],\"left\":[{\"id\":\"d9541217-6693-473c-95d4-c5d5ae89a52f\",\"type\":\"LinearAxis\"}],\"plot_width\":300,\"renderers\":[{\"id\":\"4e091cc6-1496-4ec7-a703-2efb79500e98\",\"type\":\"LinearAxis\"},{\"id\":\"a34827b3-cafd-4d27-b690-6264699a086e\",\"type\":\"Grid\"},{\"id\":\"d9541217-6693-473c-95d4-c5d5ae89a52f\",\"type\":\"LinearAxis\"},{\"id\":\"15e7fe73-ff04-4187-a729-9096fc2d75d3\",\"type\":\"Grid\"},{\"id\":\"691e1075-3dae-4f4f-b9ab-054b2d6281da\",\"type\":\"BoxAnnotation\"},{\"id\":\"2a6a6f82-3779-4236-971e-d3002a6e10af\",\"type\":\"GlyphRenderer\"},{\"id\":\"65122ba7-9e77-4a02-877c-68e9038ff830\",\"type\":\"GlyphRenderer\"},{\"id\":\"9abb90cc-7274-4220-ac96-0f52b8d43187\",\"type\":\"GlyphRenderer\"},{\"id\":\"b0f190cd-0507-4644-b9d3-4eff395b72db\",\"type\":\"Legend\"}],\"title\":{\"id\":\"2ee67a12-6ae0-4384-bfcb-b6ddffd8bc9f\",\"type\":\"Title\"},\"toolbar\":{\"id\":\"4456cd86-b860-4d62-9565-d0c4f396917c\",\"type\":\"Toolbar\"},\"toolbar_location\":null,\"x_range\":{\"id\":\"b018df5e-9b71-4906-87d7-45f208aeb5a4\",\"type\":\"Range1d\"},\"x_scale\":{\"id\":\"fd7c467c-5a64-483b-bb1f-08c43e54bdbc\",\"type\":\"LinearScale\"},\"y_range\":{\"id\":\"1b70edb1-01c4-4f6d-bc3a-1d24a22a4bab\",\"type\":\"Range1d\"},\"y_scale\":{\"id\":\"6377d47f-f23f-4e01-8404-f1edbeba7e03\",\"type\":\"LinearScale\"}},\"id\":\"90cdab05-8a1c-4fd4-821c-cdf9f51c648a\",\"subtype\":\"Figure\",\"type\":\"Plot\"},{\"attributes\":{\"overlay\":{\"id\":\"691e1075-3dae-4f4f-b9ab-054b2d6281da\",\"type\":\"BoxAnnotation\"}},\"id\":\"c9d3e544-0cfa-482c-9c29-f1ed57b8f260\",\"type\":\"BoxZoomTool\"},{\"attributes\":{},\"id\":\"d5b6d1de-51b5-406e-9e62-5416939b3712\",\"type\":\"PanTool\"},{\"attributes\":{},\"id\":\"077634a2-7d7f-4104-a14f-6a494d949056\",\"type\":\"ResetTool\"},{\"attributes\":{\"source\":{\"id\":\"6da6e762-a551-47b3-b917-3e793b6508ea\",\"type\":\"ColumnDataSource\"}},\"id\":\"69802a35-47be-491a-9056-0077ebb18ebe\",\"type\":\"CDSView\"},{\"attributes\":{},\"id\":\"5201d85e-0f15-4a75-a053-3ae5a85e5e0a\",\"type\":\"HelpTool\"},{\"attributes\":{\"num_minor_ticks\":10},\"id\":\"75120416-1fa1-466f-921f-ae2252c5141c\",\"type\":\"LogTicker\"},{\"attributes\":{\"callback\":null,\"end\":0.01,\"start\":1020},\"id\":\"1b70edb1-01c4-4f6d-bc3a-1d24a22a4bab\",\"type\":\"Range1d\"},{\"attributes\":{\"callback\":null,\"end\":2.3923471759882906,\"start\":-0.5061118456772901},\"id\":\"b018df5e-9b71-4906-87d7-45f208aeb5a4\",\"type\":\"Range1d\"},{\"attributes\":{\"line_alpha\":0.1,\"line_color\":\"#1f77b4\",\"line_dash\":[6],\"line_width\":5,\"x\":{\"field\":\"x\"},\"y\":{\"field\":\"y\"}},\"id\":\"be7fae5b-2cf5-424c-a99f-7b36f3293693\",\"type\":\"Line\"},{\"attributes\":{},\"id\":\"92fe93a4-2f7f-43e6-8b8b-014269e6ee68\",\"type\":\"LinearScale\"},{\"attributes\":{\"line_alpha\":0.6,\"line_color\":\"#377eb8\",\"line_dash\":[6],\"line_width\":5,\"x\":{\"field\":\"x\"},\"y\":{\"field\":\"y\"}},\"id\":\"c629195e-99be-45ed-a05e-d524ac482ce8\",\"type\":\"Line\"},{\"attributes\":{\"fill_alpha\":{\"value\":0.1},\"fill_color\":{\"value\":\"#1f77b4\"},\"line_alpha\":{\"value\":0.1},\"line_color\":{\"value\":\"#1f77b4\"},\"x\":{\"field\":\"x\"},\"y\":{\"field\":\"y\"}},\"id\":\"7f502d19-2923-4739-a4f3-de9f6ce6c23d\",\"type\":\"Circle\"},{\"attributes\":{},\"id\":\"e2bbfed6-a4d8-4e76-bf09-4027799b9fa8\",\"type\":\"UnionRenderers\"},{\"attributes\":{\"tools\":[{\"id\":\"533aac73-3a9f-477c-b40a-37af2049232b\",\"type\":\"PanTool\"},{\"id\":\"370e95d6-1323-4c51-bf29-456e8d84762e\",\"type\":\"WheelZoomTool\"},{\"id\":\"c9d3e544-0cfa-482c-9c29-f1ed57b8f260\",\"type\":\"BoxZoomTool\"},{\"id\":\"5984d28e-ff10-48bd-accd-fc301823b56b\",\"type\":\"SaveTool\"},{\"id\":\"10a8e466-a2e8-42bd-87a7-3eff39178e7a\",\"type\":\"ResetTool\"},{\"id\":\"33fcda68-2f2c-4a29-9276-496d47f2b747\",\"type\":\"HelpTool\"},{\"id\":\"dab30a2a-080d-48a5-b62f-e329aedfbea0\",\"type\":\"PanTool\"},{\"id\":\"4425b435-10b0-4c47-be52-7581c620cf71\",\"type\":\"WheelZoomTool\"},{\"id\":\"4d22a098-8264-4979-b611-808a739b642a\",\"type\":\"BoxZoomTool\"},{\"id\":\"0f6f5f9b-c05e-43e5-be75-74fce7b4cb92\",\"type\":\"SaveTool\"},{\"id\":\"da0cf6ce-ca68-4408-b470-46da61a78f6f\",\"type\":\"ResetTool\"},{\"id\":\"5c4d2682-c13d-42b3-b1ce-3d8b2fca46dd\",\"type\":\"HelpTool\"},{\"id\":\"d5b6d1de-51b5-406e-9e62-5416939b3712\",\"type\":\"PanTool\"},{\"id\":\"773e6ee8-9102-40d0-948a-5f713dbf768f\",\"type\":\"WheelZoomTool\"},{\"id\":\"3c6b938a-6488-44e6-9bfd-608b517ec99b\",\"type\":\"BoxZoomTool\"},{\"id\":\"b3671f3a-1166-4e87-85e3-9d029a4641e5\",\"type\":\"SaveTool\"},{\"id\":\"077634a2-7d7f-4104-a14f-6a494d949056\",\"type\":\"ResetTool\"},{\"id\":\"5201d85e-0f15-4a75-a053-3ae5a85e5e0a\",\"type\":\"HelpTool\"}]},\"id\":\"7b7da60b-5d93-44dd-a220-507649f486d2\",\"type\":\"ProxyToolbar\"},{\"attributes\":{\"line_alpha\":0.8,\"line_color\":\"#984ea3\",\"line_width\":1.5,\"x\":{\"field\":\"x\"},\"y\":{\"field\":\"y\"}},\"id\":\"ba5e4c84-2b2b-446c-aa7f-3505d93ff820\",\"type\":\"Line\"},{\"attributes\":{\"source\":{\"id\":\"89f04a53-cab5-4e78-a3d7-d653bf8dd17d\",\"type\":\"ColumnDataSource\"}},\"id\":\"3a1fc711-d837-4658-abc7-e554ad6da6a5\",\"type\":\"CDSView\"},{\"attributes\":{\"source\":{\"id\":\"3ce69612-9a3d-4576-bb04-acd5cd513806\",\"type\":\"ColumnDataSource\"}},\"id\":\"4e5d5472-809d-41a9-9bd5-991785c06cdb\",\"type\":\"CDSView\"},{\"attributes\":{},\"id\":\"cdaf3a21-6aef-49fa-baa3-a8ec8da882d8\",\"type\":\"BasicTicker\"},{\"attributes\":{\"callback\":null,\"data\":{\"x\":{\"__ndarray__\":\"+91suA2FRUDEhDu3BNNCQJGH2RpTtEFAEt02UCgdQEDVxLSQChY8QIhbJRqUKjdAYVUzOB7pMUDTM3KX3QQqQEK9BNB3SCJA6NjTUF6dGkBKgvPiLzsVQL0Sjm8nBhJA/DvUw9qUDUDkg8wWHTEDQPqPmlKB6f4/+3yWOi+sBUBavERq4UMMQLVhH27xnBBAfwWOfm3eE0DummfvB08ZQAaUixg3DCFArKetlIYCJ0Cs7TuihhkoQB+fXFuzhCRAQi/iYYwnIUBZuHizlFYcQC1AvJM7WRhAg3T9xFgsFEA0HebAUMcPQFKxsGLKOwlAuRjZ7ZQ7BUAmhydNp3kAQNl7ZywnsfQ/bePIZtQK5j8GONhrav7QPxDDyUYoicG/tW4zfJCS3r80aRMuziHYv2KS/mjbLl+/fwV3ehhXxT+O1XwUPq7YP7JEdD4ju+w/6QCXA6269j/1X/IRTNf9P3eY3xv76wBA9MudvM6EAUC4nZXZbkcCQJZjjxetTAJAN+UlS5cWAUCXT334HoEAQPbZ2qEuTwBAxddFMwkvAEAgAG4tOAQAQIwWdH+UnP8/BWSLQ0Y//z+ZMGChRAf/P7Wo5GjCDf8/mQ+WHj5C/z+7FkMl7WP/Px29Y3brZP8/oy7TqCBM/z/lglFOVvr+P18JCfCU2P0/cmhc+6zJ/D8DIuChwy/6P76YinnXm/c/Z9o81bPt9T/nsnvwZn70P/MHGE0DxPM/L8l+pxuV8z/YaqQova7zP2CtsiQ0EfQ/P+H9lMkD9T+yagFyKrv2P/6hXMS+pwFA\",\"dtype\":\"float64\",\"shape\":[75]},\"y\":{\"__ndarray__\":\"GhExyth1ND/Sv8nbtpRIP2vylNV0PVE/aTum7souWD/At0SJ8fVgPw3Iuahxymc/MSNhhJWvcD/bTfBN02d3P2zb5nxnaoA/CD5h5MAGhz8NmeH1TyaQP+zrCsc9p5Y/LbKd76fGnz/bLW5ISEmmPww9YvTcQq8/JV2OstnstT8Er5Y7M8G+P0c+r3jqkcU/5h99k6ZBzj88bCIzFzjVP4enV8oyxN0//yH99nXg5D8qOpLLf0jtP5kqGJXUifQ/c9cS8kHP/D+/DpwzojQEQIEmwoanVwxA4lgXt9HgE0BSSZ2AJuIbQAMJih9jjiNA5q4l5INuK0AwTKYKRj0zQNv5fmq8/DpAaCJseHrtQkB/+zpwzoxKQM3MzMzMeFJAZmZmZmZqWEAAAAAAAFxeQM3MzMzMJmJAmpmZmZkfZUBmZmZmZhhoQDMzMzMzEWtAAAAAAAAKbkBmZmZmZoFwQM3MzMzM/XFAMzMzMzN6c0CamZmZmfZ0QAAAAAAAc3ZAZmZmZmbvd0DNzMzMzGt5QDMzMzMz6HpAmpmZmZlkfEAAAAAAAOF9QGZmZmZmXX9AZmZmZuZsgECamZmZGSuBQM3MzMxM6YFAAAAAAICngkAzMzMzs2WDQGZmZmbmI4RAmpmZmRnihEDNzMzMTKCFQAAAAACAXoZAMzMzM7Mch0BmZmZm5tqHQJqZmZkZmYhAzczMzExXiUAAAAAAgBWKQDMzMzOz04pAZmZmZuaRi0CamZmZGVCMQM3MzMxMDo1AAAAAAIDMjUAzMzMzs4qOQGZmZmbmSI9A\",\"dtype\":\"float64\",\"shape\":[75]}},\"selected\":{\"id\":\"0b14f78e-8873-4abe-8ea7-e8bc78baebd5\",\"type\":\"Selection\"},\"selection_policy\":{\"id\":\"cbcb9617-ecfe-449d-966d-d8ecd7fbfa1f\",\"type\":\"UnionRenderers\"}},\"id\":\"6da6e762-a551-47b3-b917-3e793b6508ea\",\"type\":\"ColumnDataSource\"},{\"attributes\":{\"label\":{\"value\":\"CLIRAD (single-run)\"},\"renderers\":[{\"id\":\"3f0dedb9-3886-4fcb-a637-a9c29970b4ed\",\"type\":\"GlyphRenderer\"}]},\"id\":\"0d810119-585b-4ec0-8092-a3a409b0bfb7\",\"type\":\"LegendItem\"},{\"attributes\":{},\"id\":\"e8c6cf35-7aa6-4c04-a51a-fbb245277213\",\"type\":\"UnionRenderers\"},{\"attributes\":{},\"id\":\"b40e5b1b-4653-4935-8911-642962b8a91c\",\"type\":\"Selection\"},{\"attributes\":{\"dimension\":1,\"plot\":{\"id\":\"976898c9-6d45-488a-8d16-517a28e86b3a\",\"subtype\":\"Figure\",\"type\":\"Plot\"},\"ticker\":{\"id\":\"75120416-1fa1-466f-921f-ae2252c5141c\",\"type\":\"LogTicker\"}},\"id\":\"4c289d8e-0edc-4d46-96f8-c385cb72435a\",\"type\":\"Grid\"},{\"attributes\":{},\"id\":\"3418921b-7395-4392-a890-83559064fece\",\"type\":\"Selection\"},{\"attributes\":{\"bottom_units\":\"screen\",\"fill_alpha\":{\"value\":0.5},\"fill_color\":{\"value\":\"lightgrey\"},\"left_units\":\"screen\",\"level\":\"overlay\",\"line_alpha\":{\"value\":1.0},\"line_color\":{\"value\":\"black\"},\"line_dash\":[4,4],\"line_width\":{\"value\":2},\"plot\":null,\"render_mode\":\"css\",\"right_units\":\"screen\",\"top_units\":\"screen\"},\"id\":\"4b5c4420-aa0e-425f-8319-6e34e75f2b57\",\"type\":\"BoxAnnotation\"},{\"attributes\":{\"active_drag\":\"auto\",\"active_inspect\":\"auto\",\"active_scroll\":\"auto\",\"active_tap\":\"auto\",\"tools\":[{\"id\":\"dab30a2a-080d-48a5-b62f-e329aedfbea0\",\"type\":\"PanTool\"},{\"id\":\"4425b435-10b0-4c47-be52-7581c620cf71\",\"type\":\"WheelZoomTool\"},{\"id\":\"4d22a098-8264-4979-b611-808a739b642a\",\"type\":\"BoxZoomTool\"},{\"id\":\"0f6f5f9b-c05e-43e5-be75-74fce7b4cb92\",\"type\":\"SaveTool\"},{\"id\":\"da0cf6ce-ca68-4408-b470-46da61a78f6f\",\"type\":\"ResetTool\"},{\"id\":\"5c4d2682-c13d-42b3-b1ce-3d8b2fca46dd\",\"type\":\"HelpTool\"}]},\"id\":\"b70950be-ad32-49fe-82b3-2ec46140dac0\",\"type\":\"Toolbar\"},{\"attributes\":{\"plot\":null,\"text\":\"\"},\"id\":\"c4192de2-d82f-4d9b-a392-f7930337221e\",\"type\":\"Title\"},{\"attributes\":{},\"id\":\"38e09701-aa2a-4605-b391-f90688c038fa\",\"type\":\"BasicTickFormatter\"},{\"attributes\":{},\"id\":\"f976e9bf-eeba-4fff-a6c7-fa94938fe609\",\"type\":\"LinearScale\"},{\"attributes\":{\"ticker\":null},\"id\":\"6ac015c4-931e-4d14-8161-aff0b55385fd\",\"type\":\"LogTickFormatter\"},{\"attributes\":{\"line_alpha\":0.1,\"line_color\":\"#1f77b4\",\"line_dash\":[6],\"line_width\":5,\"x\":{\"field\":\"x\"},\"y\":{\"field\":\"y\"}},\"id\":\"23340808-e9e6-40f0-a20c-e061cb5aef08\",\"type\":\"Line\"},{\"attributes\":{},\"id\":\"7186756a-f55c-4f8d-b57f-30e0f503db2e\",\"type\":\"UnionRenderers\"},{\"attributes\":{},\"id\":\"d49efb04-6fcd-48c7-a92e-192eae3cad76\",\"type\":\"Selection\"},{\"attributes\":{\"data_source\":{\"id\":\"fccf6b70-c83f-4b60-b5f7-3fda4d4e3515\",\"type\":\"ColumnDataSource\"},\"glyph\":{\"id\":\"f7617c7e-78af-4a31-ac20-f9cee6623871\",\"type\":\"Circle\"},\"hover_glyph\":null,\"muted_glyph\":null,\"nonselection_glyph\":{\"id\":\"7f502d19-2923-4739-a4f3-de9f6ce6c23d\",\"type\":\"Circle\"},\"selection_glyph\":null,\"view\":{\"id\":\"83ba8194-1a1a-4f24-b264-3926c8e5bf60\",\"type\":\"CDSView\"}},\"id\":\"f137c421-0926-4d2b-8dea-bfbd25e06a62\",\"type\":\"GlyphRenderer\"},{\"attributes\":{\"plot\":null,\"text\":\"\"},\"id\":\"a0950cc1-b151-44ed-b593-a9200da4f1c9\",\"type\":\"Title\"},{\"attributes\":{\"axis_label\":\"pressure [mb]\",\"formatter\":{\"id\":\"6ac015c4-931e-4d14-8161-aff0b55385fd\",\"type\":\"LogTickFormatter\"},\"plot\":{\"id\":\"976898c9-6d45-488a-8d16-517a28e86b3a\",\"subtype\":\"Figure\",\"type\":\"Plot\"},\"ticker\":{\"id\":\"75120416-1fa1-466f-921f-ae2252c5141c\",\"type\":\"LogTicker\"}},\"id\":\"115797b5-30ca-4764-a646-006bddd26956\",\"type\":\"LogAxis\"},{\"attributes\":{\"ticker\":null},\"id\":\"ddfce8ed-a219-4c57-971a-6533b1d402e3\",\"type\":\"LogTickFormatter\"},{\"attributes\":{\"data_source\":{\"id\":\"89f04a53-cab5-4e78-a3d7-d653bf8dd17d\",\"type\":\"ColumnDataSource\"},\"glyph\":{\"id\":\"192ebbd5-ea00-41b8-bfe5-fcce1d3d9739\",\"type\":\"Line\"},\"hover_glyph\":null,\"muted_glyph\":null,\"nonselection_glyph\":{\"id\":\"b79c7599-234b-4eca-9163-2a2f00d15089\",\"type\":\"Line\"},\"selection_glyph\":null,\"view\":{\"id\":\"3a1fc711-d837-4658-abc7-e554ad6da6a5\",\"type\":\"CDSView\"}},\"id\":\"9abb90cc-7274-4220-ac96-0f52b8d43187\",\"type\":\"GlyphRenderer\"},{\"attributes\":{\"fill_alpha\":{\"value\":0.7},\"fill_color\":{\"value\":\"#4daf4a\"},\"line_alpha\":{\"value\":0.7},\"line_color\":{\"value\":\"#4daf4a\"},\"x\":{\"field\":\"x\"},\"y\":{\"field\":\"y\"}},\"id\":\"d8350683-3b2e-4fe8-a967-7f803146abe4\",\"type\":\"Circle\"},{\"attributes\":{},\"id\":\"a34855da-c77d-4280-b43f-131e16457c91\",\"type\":\"BasicTickFormatter\"},{\"attributes\":{},\"id\":\"0f6f5f9b-c05e-43e5-be75-74fce7b4cb92\",\"type\":\"SaveTool\"},{\"attributes\":{\"line_color\":\"#4daf4a\",\"line_width\":1.5,\"x\":{\"field\":\"x\"},\"y\":{\"field\":\"y\"}},\"id\":\"192ebbd5-ea00-41b8-bfe5-fcce1d3d9739\",\"type\":\"Line\"},{\"attributes\":{},\"id\":\"da0cf6ce-ca68-4408-b470-46da61a78f6f\",\"type\":\"ResetTool\"},{\"attributes\":{\"callback\":null,\"data\":{\"x\":{\"__ndarray__\":\"R/KIaN7AVEClCeJMyPNGQOvRhpxr30JAptxzhxx4PkA7SssMElA4QK6Bp3CyUDNAsVXpjES9LkBFhUV0+5coQMHYwqbbySNA6f09nM3nH0CaSd/3eYoZQDmgiAOW8BNAPYqARh3eDEBkm4vCgvr+P9D+5tWhQfY/P8DwKRnSAkBq38kb17ILQDT7IWuSsxFAUr2Rjm0FFkAinq3s9XgbQGCHwtYcqSFAG64kT303J0C7dRDneyooQD9JYrbK8yRA9S3bneHhIUAIymSuUMMcQIkHLe6VEBdAAau3cITREkA6CiNvkQIPQJU39ki7IQlAaAvwok1UA0BXLQiS4+L7P0xzDpJ2hPI/NNuPGMbJ5z91mUVYxqfSPxqwUPSxZca/G11peifD3L8QzNj5t2jTvwzOozTL360/SPJ4VI1VzD9KJ0nXEIncP8yDdlvHt+4/Et49nYLW9z++2teD4Jn+P+568eH/bwFALf5D9lmAAkCiZAicVOkCQPPT4jNKxwJAOjp3wTzBAUBSQsKNGisBQG4OmjqJwQBAJ3sZoHFuAEA5Ar0Sdi0AQGy4rw5+9f8/7W4nSrC3/z8mPr8zj4T/P4UYRHCQS/8/embVKYcF/z+5YXG+LLP+P/qb8BVUgf4/KvafTtyO/j/avAK1Ppv+PwJV9VVm2P0/JFtYlU/n/D9sN+q2fiX6Pw44e41PNPc/Opt+Z/wN9T+x3vcSW1vzP9ofvWQJlvI/8sciQQBW8j80sfkQa17yPzg5qng2r/I/Oh14WJBh8z+VZjnpctj0P6CcrSuCqQBA\",\"dtype\":\"float64\",\"shape\":[75]},\"y\":{\"__ndarray__\":\"GhExyth1ND/Sv8nbtpRIP2vylNV0PVE/aTum7souWD/At0SJ8fVgPw3Iuahxymc/MSNhhJWvcD/bTfBN02d3P2zb5nxnaoA/CD5h5MAGhz8NmeH1TyaQP+zrCsc9p5Y/LbKd76fGnz/bLW5ISEmmPww9YvTcQq8/JV2OstnstT8Er5Y7M8G+P0c+r3jqkcU/5h99k6ZBzj88bCIzFzjVP4enV8oyxN0//yH99nXg5D8qOpLLf0jtP5kqGJXUifQ/c9cS8kHP/D+/DpwzojQEQIEmwoanVwxA4lgXt9HgE0BSSZ2AJuIbQAMJih9jjiNA5q4l5INuK0AwTKYKRj0zQNv5fmq8/DpAaCJseHrtQkB/+zpwzoxKQM3MzMzMeFJAZmZmZmZqWEAAAAAAAFxeQM3MzMzMJmJAmpmZmZkfZUBmZmZmZhhoQDMzMzMzEWtAAAAAAAAKbkBmZmZmZoFwQM3MzMzM/XFAMzMzMzN6c0CamZmZmfZ0QAAAAAAAc3ZAZmZmZmbvd0DNzMzMzGt5QDMzMzMz6HpAmpmZmZlkfEAAAAAAAOF9QGZmZmZmXX9AZmZmZuZsgECamZmZGSuBQM3MzMxM6YFAAAAAAICngkAzMzMzs2WDQGZmZmbmI4RAmpmZmRnihEDNzMzMTKCFQAAAAACAXoZAMzMzM7Mch0BmZmZm5tqHQJqZmZkZmYhAzczMzExXiUAAAAAAgBWKQDMzMzOz04pAZmZmZuaRi0CamZmZGVCMQM3MzMxMDo1AAAAAAIDMjUAzMzMzs4qOQGZmZmbmSI9A\",\"dtype\":\"float64\",\"shape\":[75]}},\"selected\":{\"id\":\"22380a28-6f5e-4e5e-92c4-40e019b09557\",\"type\":\"Selection\"},\"selection_policy\":{\"id\":\"8c87e648-463f-4996-bd0f-8ea4400d3522\",\"type\":\"UnionRenderers\"}},\"id\":\"b7ff81db-0ec1-479a-bcdb-0612c72347d1\",\"type\":\"ColumnDataSource\"},{\"attributes\":{},\"id\":\"a2b49d8f-5b34-4ca0-8cce-2b63eca6331f\",\"type\":\"UnionRenderers\"},{\"attributes\":{\"toolbar\":{\"id\":\"7b7da60b-5d93-44dd-a220-507649f486d2\",\"type\":\"ProxyToolbar\"},\"toolbar_location\":\"above\"},\"id\":\"35b770b6-1c73-48b6-90b0-13d2151f7d14\",\"type\":\"ToolbarBox\"},{\"attributes\":{\"callback\":null,\"data\":{\"x\":{\"__ndarray__\":\"R/KIaN7AVEClCeJMyPNGQOvRhpxr30JAptxzhxx4PkA7SssMElA4QK6Bp3CyUDNAsVXpjES9LkBFhUV0+5coQMHYwqbbySNA6f09nM3nH0CaSd/3eYoZQDmgiAOW8BNAPYqARh3eDEBkm4vCgvr+P9D+5tWhQfY/P8DwKRnSAkBq38kb17ILQDT7IWuSsxFAUr2Rjm0FFkAinq3s9XgbQGCHwtYcqSFAG64kT303J0C7dRDneyooQD9JYrbK8yRA9S3bneHhIUAIymSuUMMcQIkHLe6VEBdAAau3cITREkA6CiNvkQIPQJU39ki7IQlAaAvwok1UA0BXLQiS4+L7P0xzDpJ2hPI/NNuPGMbJ5z91mUVYxqfSPxqwUPSxZca/G11peifD3L8QzNj5t2jTvwzOozTL360/SPJ4VI1VzD9KJ0nXEIncP8yDdlvHt+4/Et49nYLW9z++2teD4Jn+P+568eH/bwFALf5D9lmAAkCiZAicVOkCQPPT4jNKxwJAOjp3wTzBAUBSQsKNGisBQG4OmjqJwQBAJ3sZoHFuAEA5Ar0Sdi0AQGy4rw5+9f8/7W4nSrC3/z8mPr8zj4T/P4UYRHCQS/8/embVKYcF/z+5YXG+LLP+P/qb8BVUgf4/KvafTtyO/j/avAK1Ppv+PwJV9VVm2P0/JFtYlU/n/D9sN+q2fiX6Pw44e41PNPc/Opt+Z/wN9T+x3vcSW1vzP9ofvWQJlvI/8sciQQBW8j80sfkQa17yPzg5qng2r/I/Oh14WJBh8z+VZjnpctj0P6CcrSuCqQBA\",\"dtype\":\"float64\",\"shape\":[75]},\"y\":{\"__ndarray__\":\"GhExyth1ND/Sv8nbtpRIP2vylNV0PVE/aTum7souWD/At0SJ8fVgPw3Iuahxymc/MSNhhJWvcD/bTfBN02d3P2zb5nxnaoA/CD5h5MAGhz8NmeH1TyaQP+zrCsc9p5Y/LbKd76fGnz/bLW5ISEmmPww9YvTcQq8/JV2OstnstT8Er5Y7M8G+P0c+r3jqkcU/5h99k6ZBzj88bCIzFzjVP4enV8oyxN0//yH99nXg5D8qOpLLf0jtP5kqGJXUifQ/c9cS8kHP/D+/DpwzojQEQIEmwoanVwxA4lgXt9HgE0BSSZ2AJuIbQAMJih9jjiNA5q4l5INuK0AwTKYKRj0zQNv5fmq8/DpAaCJseHrtQkB/+zpwzoxKQM3MzMzMeFJAZmZmZmZqWEAAAAAAAFxeQM3MzMzMJmJAmpmZmZkfZUBmZmZmZhhoQDMzMzMzEWtAAAAAAAAKbkBmZmZmZoFwQM3MzMzM/XFAMzMzMzN6c0CamZmZmfZ0QAAAAAAAc3ZAZmZmZmbvd0DNzMzMzGt5QDMzMzMz6HpAmpmZmZlkfEAAAAAAAOF9QGZmZmZmXX9AZmZmZuZsgECamZmZGSuBQM3MzMxM6YFAAAAAAICngkAzMzMzs2WDQGZmZmbmI4RAmpmZmRnihEDNzMzMTKCFQAAAAACAXoZAMzMzM7Mch0BmZmZm5tqHQJqZmZkZmYhAzczMzExXiUAAAAAAgBWKQDMzMzOz04pAZmZmZuaRi0CamZmZGVCMQM3MzMxMDo1AAAAAAIDMjUAzMzMzs4qOQGZmZmbmSI9A\",\"dtype\":\"float64\",\"shape\":[75]}},\"selected\":{\"id\":\"58410a60-2e9e-4d9a-8878-96ed1794bce4\",\"type\":\"Selection\"},\"selection_policy\":{\"id\":\"e2bbfed6-a4d8-4e76-bf09-4027799b9fa8\",\"type\":\"UnionRenderers\"}},\"id\":\"89f04a53-cab5-4e78-a3d7-d653bf8dd17d\",\"type\":\"ColumnDataSource\"},{\"attributes\":{\"source\":{\"id\":\"fccf6b70-c83f-4b60-b5f7-3fda4d4e3515\",\"type\":\"ColumnDataSource\"}},\"id\":\"83ba8194-1a1a-4f24-b264-3926c8e5bf60\",\"type\":\"CDSView\"},{\"attributes\":{\"label\":{\"value\":\"CRD\"},\"renderers\":[{\"id\":\"a89fd19a-0ac5-4866-9c29-0668953a2862\",\"type\":\"GlyphRenderer\"},{\"id\":\"7d0ed8c8-7d82-4d70-9705-034d1c95f8e2\",\"type\":\"GlyphRenderer\"}]},\"id\":\"e09fcdca-a42f-4900-8180-9b8ced8ae485\",\"type\":\"LegendItem\"},{\"attributes\":{},\"id\":\"5c4d2682-c13d-42b3-b1ce-3d8b2fca46dd\",\"type\":\"HelpTool\"},{\"attributes\":{},\"id\":\"65eac302-de8d-4016-bf3b-7b36d54c62f2\",\"type\":\"BasicTickFormatter\"},{\"attributes\":{},\"id\":\"fcdc298c-907b-4875-b65b-2cb0ba39b9c2\",\"type\":\"Selection\"},{\"attributes\":{\"label\":{\"value\":\"CRD\"},\"renderers\":[{\"id\":\"65122ba7-9e77-4a02-877c-68e9038ff830\",\"type\":\"GlyphRenderer\"},{\"id\":\"9abb90cc-7274-4220-ac96-0f52b8d43187\",\"type\":\"GlyphRenderer\"}]},\"id\":\"f5a044d0-dcc8-42c2-92d8-e405ce6ad35f\",\"type\":\"LegendItem\"},{\"attributes\":{\"data_source\":{\"id\":\"6da6e762-a551-47b3-b917-3e793b6508ea\",\"type\":\"ColumnDataSource\"},\"glyph\":{\"id\":\"d03a6c0f-3fbe-46dd-afbe-d4daf5cce35f\",\"type\":\"Line\"},\"hover_glyph\":null,\"muted_glyph\":null,\"nonselection_glyph\":{\"id\":\"be7fae5b-2cf5-424c-a99f-7b36f3293693\",\"type\":\"Line\"},\"selection_glyph\":null,\"view\":{\"id\":\"69802a35-47be-491a-9056-0077ebb18ebe\",\"type\":\"CDSView\"}},\"id\":\"2a6a6f82-3779-4236-971e-d3002a6e10af\",\"type\":\"GlyphRenderer\"},{\"attributes\":{\"callback\":null,\"end\":0.01,\"start\":1020},\"id\":\"328c0c89-0b5d-4c40-9d91-adb58cb516d0\",\"type\":\"Range1d\"},{\"attributes\":{\"fill_alpha\":{\"value\":0.7},\"fill_color\":{\"value\":\"#984ea3\"},\"line_alpha\":{\"value\":0.7},\"line_color\":{\"value\":\"#984ea3\"},\"x\":{\"field\":\"x\"},\"y\":{\"field\":\"y\"}},\"id\":\"f7617c7e-78af-4a31-ac20-f9cee6623871\",\"type\":\"Circle\"},{\"attributes\":{\"plot\":{\"id\":\"976898c9-6d45-488a-8d16-517a28e86b3a\",\"subtype\":\"Figure\",\"type\":\"Plot\"},\"ticker\":{\"id\":\"cdaf3a21-6aef-49fa-baa3-a8ec8da882d8\",\"type\":\"BasicTicker\"}},\"id\":\"db07cffe-6325-4569-b08f-1a9441b70303\",\"type\":\"Grid\"},{\"attributes\":{\"label\":{\"value\":\"CLIRAD (single-run)\"},\"renderers\":[{\"id\":\"2a6a6f82-3779-4236-971e-d3002a6e10af\",\"type\":\"GlyphRenderer\"}]},\"id\":\"f5e96d9f-5292-42d1-a314-0ed4e751e096\",\"type\":\"LegendItem\"},{\"attributes\":{\"callback\":null,\"data\":{\"x\":{\"__ndarray__\":\"lAalGK/8Q8CGE5pWDoMgwKSl1BqIsQLA3tedj0Ej/D/B1EsfxC8OQNnO7ksNzw5ASFT1jd9TBED76MoyIs7mP/K34Ws9Fui/B5SoLb0p9b9BHa9TKD3xv87XqD/ppt6/njd2qq/Xtj+IsTWs3Z7dP1IiZ/m+T+E/3uUthbDQ1j8unlvPSSGyPwqYKdAPatG/ob4dgAA44b+hGTDqb0/hvy5r3sa3nNO/PTeDO117ur+OD4jURPWgv4GIasHWxcu/WtYff6dK17+vawS7/i67v0WK81haitQ/KZhcREWt1T8/X2I46pe4PzW+eboZD4o/D9WQrnR0zj/ggxshrEHUP2hEyNKEZcE/X3xvHBvvq7/PFtbGvpWavye0G7YmcqM/gBmhHJD2nL+RdOrQWOSyv57C6w9C2a6/J7MHaNP5q7/hjWIWltauv5rxI9BByq+/qdJtmlm9sb8lWa88jlKov85OPMKYgLC//kbGNGdxv78v3VhOuDy0v/UW3BRHp66/jqAqyq5Utb8wV56ocj+1v8sdzS+mlqy/NrHRaTa0n7/4DIGn8p6UvyR46M5jOpa/WroCp4Eanr9uY8OXpFKfvyXpt68D546/m49UYHpbjj9RoDbaDBimP3AkZA7scqw/7g5nRouopz8Fg7FT5sWXPwCwL9oJTQc/RLPy+5mifb8AMtXr1YlkP+Yr2AP74Zk/tOXHt+32qz9ZQz3YvTCyP5KBroWe37I/zRPAZbbxsz80mqt6IQW1P3RCh8DaH7Y/QEBcyJMjuj/gQYCMeCu+P7+r4BWTx78/\",\"dtype\":\"float64\",\"shape\":[75]},\"y\":{\"__ndarray__\":\"GhExyth1ND/Sv8nbtpRIP2vylNV0PVE/aTum7souWD/At0SJ8fVgPw3Iuahxymc/MSNhhJWvcD/bTfBN02d3P2zb5nxnaoA/CD5h5MAGhz8NmeH1TyaQP+zrCsc9p5Y/LbKd76fGnz/bLW5ISEmmPww9YvTcQq8/JV2OstnstT8Er5Y7M8G+P0c+r3jqkcU/5h99k6ZBzj88bCIzFzjVP4enV8oyxN0//yH99nXg5D8qOpLLf0jtP5kqGJXUifQ/c9cS8kHP/D+/DpwzojQEQIEmwoanVwxA4lgXt9HgE0BSSZ2AJuIbQAMJih9jjiNA5q4l5INuK0AwTKYKRj0zQNv5fmq8/DpAaCJseHrtQkB/+zpwzoxKQM3MzMzMeFJAZmZmZmZqWEAAAAAAAFxeQM3MzMzMJmJAmpmZmZkfZUBmZmZmZhhoQDMzMzMzEWtAAAAAAAAKbkBmZmZmZoFwQM3MzMzM/XFAMzMzMzN6c0CamZmZmfZ0QAAAAAAAc3ZAZmZmZmbvd0DNzMzMzGt5QDMzMzMz6HpAmpmZmZlkfEAAAAAAAOF9QGZmZmZmXX9AZmZmZuZsgECamZmZGSuBQM3MzMxM6YFAAAAAAICngkAzMzMzs2WDQGZmZmbmI4RAmpmZmRnihEDNzMzMTKCFQAAAAACAXoZAMzMzM7Mch0BmZmZm5tqHQJqZmZkZmYhAzczMzExXiUAAAAAAgBWKQDMzMzOz04pAZmZmZuaRi0CamZmZGVCMQM3MzMxMDo1AAAAAAIDMjUAzMzMzs4qOQGZmZmbmSI9A\",\"dtype\":\"float64\",\"shape\":[75]}},\"selected\":{\"id\":\"d49efb04-6fcd-48c7-a92e-192eae3cad76\",\"type\":\"Selection\"},\"selection_policy\":{\"id\":\"0e21538a-8b33-44d0-8fb9-ec6776af02bc\",\"type\":\"UnionRenderers\"}},\"id\":\"37436152-96a1-4497-b48b-6f672dc9ca3d\",\"type\":\"ColumnDataSource\"},{\"attributes\":{},\"id\":\"0e21538a-8b33-44d0-8fb9-ec6776af02bc\",\"type\":\"UnionRenderers\"},{\"attributes\":{\"fill_alpha\":{\"value\":0.1},\"fill_color\":{\"value\":\"#1f77b4\"},\"line_alpha\":{\"value\":0.1},\"line_color\":{\"value\":\"#1f77b4\"},\"x\":{\"field\":\"x\"},\"y\":{\"field\":\"y\"}},\"id\":\"b288e4c8-2bd8-4c26-a2e0-166a54606e60\",\"type\":\"Circle\"},{\"attributes\":{\"line_alpha\":0.1,\"line_color\":\"#1f77b4\",\"line_width\":1.5,\"x\":{\"field\":\"x\"},\"y\":{\"field\":\"y\"}},\"id\":\"b79c7599-234b-4eca-9163-2a2f00d15089\",\"type\":\"Line\"},{\"attributes\":{\"children\":[{\"id\":\"35b770b6-1c73-48b6-90b0-13d2151f7d14\",\"type\":\"ToolbarBox\"},{\"id\":\"62b559fe-2bc4-44e1-ac25-af7695b86df9\",\"type\":\"Column\"}]},\"id\":\"40b03ab3-dd13-462f-81d5-90c2d61863f8\",\"type\":\"Column\"},{\"attributes\":{\"above\":[{\"id\":\"95b2b9ae-feca-4656-bff7-6754fb577bc9\",\"type\":\"Legend\"}],\"below\":[{\"id\":\"2be06607-6bf8-4c5a-983b-43143d16202f\",\"type\":\"LinearAxis\"}],\"left\":[{\"id\":\"48e8174f-0cd7-44d8-8301-5f32365acf6f\",\"type\":\"LogAxis\"}],\"plot_width\":300,\"renderers\":[{\"id\":\"2be06607-6bf8-4c5a-983b-43143d16202f\",\"type\":\"LinearAxis\"},{\"id\":\"bfaf24cc-5a19-4b07-aeaa-da9a37ea8b7e\",\"type\":\"Grid\"},{\"id\":\"48e8174f-0cd7-44d8-8301-5f32365acf6f\",\"type\":\"LogAxis\"},{\"id\":\"795b8d7b-503e-4eb5-8512-00e3535cd2a3\",\"type\":\"Grid\"},{\"id\":\"4b5c4420-aa0e-425f-8319-6e34e75f2b57\",\"type\":\"BoxAnnotation\"},{\"id\":\"3f0dedb9-3886-4fcb-a637-a9c29970b4ed\",\"type\":\"GlyphRenderer\"},{\"id\":\"a89fd19a-0ac5-4866-9c29-0668953a2862\",\"type\":\"GlyphRenderer\"},{\"id\":\"7d0ed8c8-7d82-4d70-9705-034d1c95f8e2\",\"type\":\"GlyphRenderer\"},{\"id\":\"95b2b9ae-feca-4656-bff7-6754fb577bc9\",\"type\":\"Legend\"}],\"title\":{\"id\":\"a0950cc1-b151-44ed-b593-a9200da4f1c9\",\"type\":\"Title\"},\"toolbar\":{\"id\":\"b70950be-ad32-49fe-82b3-2ec46140dac0\",\"type\":\"Toolbar\"},\"toolbar_location\":null,\"x_range\":{\"id\":\"0faa7144-5b01-4d79-9aa5-42aadd3295eb\",\"type\":\"Range1d\"},\"x_scale\":{\"id\":\"f976e9bf-eeba-4fff-a6c7-fa94938fe609\",\"type\":\"LinearScale\"},\"y_range\":{\"id\":\"328c0c89-0b5d-4c40-9d91-adb58cb516d0\",\"type\":\"Range1d\"},\"y_scale\":{\"id\":\"34076685-b1c2-4f05-81f2-493525534f76\",\"type\":\"LogScale\"}},\"id\":\"8899e028-30f8-4e0b-89ae-15d90327442f\",\"subtype\":\"Figure\",\"type\":\"Plot\"}],\"root_ids\":[\"40b03ab3-dd13-462f-81d5-90c2d61863f8\"]},\"title\":\"Bokeh Application\",\"version\":\"0.12.16\"}};\n",
       "  var render_items = [{\"docid\":\"e9da4e2e-fe4a-4ebc-8059-a3781e6a1bba\",\"elementid\":\"48f2aabd-d2ee-4e58-b188-49e26e9e6477\",\"modelid\":\"40b03ab3-dd13-462f-81d5-90c2d61863f8\"}];\n",
       "  root.Bokeh.embed.embed_items_notebook(docs_json, render_items);\n",
       "\n",
       "  }\n",
       "  if (root.Bokeh !== undefined) {\n",
       "    embed_document(root);\n",
       "  } else {\n",
       "    var attempts = 0;\n",
       "    var timer = setInterval(function(root) {\n",
       "      if (root.Bokeh !== undefined) {\n",
       "        embed_document(root);\n",
       "        clearInterval(timer);\n",
       "      }\n",
       "      attempts++;\n",
       "      if (attempts > 100) {\n",
       "        console.log(\"Bokeh: ERROR: Unable to run BokehJS code because BokehJS library is missing\")\n",
       "        clearInterval(timer);\n",
       "      }\n",
       "    }, 10, root)\n",
       "  }\n",
       "})(window);"
      ],
      "application/vnd.bokehjs_exec.v0+json": ""
     },
     "metadata": {
      "application/vnd.bokehjs_exec.v0+json": {
       "id": "40b03ab3-dd13-462f-81d5-90c2d61863f8"
      }
     },
     "output_type": "display_data"
    },
    {
     "data": {
      "text/markdown": [
       "*FIGURE.* Cooling rates & difference."
      ],
      "text/plain": [
       "<IPython.core.display.Markdown object>"
      ]
     },
     "metadata": {},
     "output_type": "display_data"
    },
    {
     "data": {
      "text/html": [
       "<a id=\"Fluxes._trp.\"></a>"
      ],
      "text/plain": [
       "<IPython.core.display.HTML object>"
      ]
     },
     "metadata": {},
     "output_type": "display_data"
    },
    {
     "data": {
      "text/markdown": [
       "# Fluxes. trp."
      ],
      "text/plain": [
       "<IPython.core.display.Markdown object>"
      ]
     },
     "metadata": {},
     "output_type": "display_data"
    },
    {
     "data": {
      "text/html": [
       "\n",
       "<div class=\"bk-root\">\n",
       "    <div class=\"bk-plotdiv\" id=\"fa28555f-f64f-479c-b99e-a44e3d5dc7cc\"></div>\n",
       "</div>"
      ]
     },
     "metadata": {},
     "output_type": "display_data"
    },
    {
     "data": {
      "application/javascript": [
       "(function(root) {\n",
       "  function embed_document(root) {\n",
       "    \n",
       "  var docs_json = {\"5e252575-2b56-41d7-98ad-cdfbe4458e27\":{\"roots\":{\"references\":[{\"attributes\":{\"tools\":[{\"id\":\"d7d64b84-84c3-4836-99a8-7fedcb84c593\",\"type\":\"PanTool\"},{\"id\":\"4505b392-3b2f-4143-9995-1bb61ab37c1d\",\"type\":\"WheelZoomTool\"},{\"id\":\"148a5416-52e4-43c5-bfb0-946a88e4389b\",\"type\":\"BoxZoomTool\"},{\"id\":\"0e448e1d-e814-4a24-b5d1-37377d566196\",\"type\":\"SaveTool\"},{\"id\":\"d328bc29-2e1c-44a0-85dd-6e00e976dd0c\",\"type\":\"ResetTool\"},{\"id\":\"7c114138-efc9-43ee-9d9c-ae87d2eb4aa4\",\"type\":\"HelpTool\"},{\"id\":\"61397a7e-9543-4312-8adb-1cf943d8d658\",\"type\":\"PanTool\"},{\"id\":\"6c61f4d8-3463-49de-8ccd-6eb91caf39e8\",\"type\":\"WheelZoomTool\"},{\"id\":\"97acbb1a-942c-4470-b6de-8ff1130d263b\",\"type\":\"BoxZoomTool\"},{\"id\":\"d7168124-0068-439a-8ba0-0a49dcfc4d91\",\"type\":\"SaveTool\"},{\"id\":\"3c37a07f-8392-43c3-bedb-42bf44bb4118\",\"type\":\"ResetTool\"},{\"id\":\"f96344ef-7c0d-4ddd-82f6-97290f58cbf8\",\"type\":\"HelpTool\"},{\"id\":\"70d0545e-49a2-44db-bf6c-f6ecb1a94a35\",\"type\":\"PanTool\"},{\"id\":\"d1639377-6994-4129-baaf-a6b283cd4014\",\"type\":\"WheelZoomTool\"},{\"id\":\"8b95b749-1775-448b-8968-a24f5fef0699\",\"type\":\"BoxZoomTool\"},{\"id\":\"48fe99d4-3880-4459-a4f4-1d5999abcce5\",\"type\":\"SaveTool\"},{\"id\":\"43d42bb7-3949-4890-8514-2d9e16c9ad62\",\"type\":\"ResetTool\"},{\"id\":\"a4105cd3-1fa7-4eb2-bbff-c249de5613b3\",\"type\":\"HelpTool\"}]},\"id\":\"cdd08cf5-7d4d-4f86-b0e3-8ff6fba6cb36\",\"type\":\"ProxyToolbar\"},{\"attributes\":{},\"id\":\"61397a7e-9543-4312-8adb-1cf943d8d658\",\"type\":\"PanTool\"},{\"attributes\":{\"callback\":null},\"id\":\"d4eb303c-7821-41e5-b007-07cde6009e12\",\"type\":\"DataRange1d\"},{\"attributes\":{\"axis_label\":\"flux (W m-2)\",\"formatter\":{\"id\":\"70995d21-93d7-455a-b3cc-922a98985e3b\",\"type\":\"BasicTickFormatter\"},\"plot\":{\"id\":\"4c294025-ab5e-4813-964a-ecde359fb1cc\",\"subtype\":\"Figure\",\"type\":\"Plot\"},\"ticker\":{\"id\":\"a15a0831-1c8a-4d1c-9871-cf4a14331400\",\"type\":\"BasicTicker\"}},\"id\":\"ec5c583f-3012-4131-9d7f-1248e09a3491\",\"type\":\"LinearAxis\"},{\"attributes\":{\"plot\":{\"id\":\"874954c0-3ae3-4cb8-b8fa-7166e3b8e277\",\"subtype\":\"Figure\",\"type\":\"Plot\"},\"ticker\":{\"id\":\"9209e657-966a-4fef-ad77-1b0b1e94e1b7\",\"type\":\"CategoricalTicker\"}},\"id\":\"b9bb9eb9-1466-462a-98a3-76bef7f4d2ff\",\"type\":\"Grid\"},{\"attributes\":{\"overlay\":{\"id\":\"360b62ac-b645-442c-ba3d-a3a98f6303bc\",\"type\":\"BoxAnnotation\"}},\"id\":\"97acbb1a-942c-4470-b6de-8ff1130d263b\",\"type\":\"BoxZoomTool\"},{\"attributes\":{\"children\":[{\"id\":\"87deb5db-026f-4230-a7cf-0b69aa2405b2\",\"type\":\"Row\"}]},\"id\":\"1df4d1e2-d799-451d-9491-4a0db3c109a2\",\"type\":\"Column\"},{\"attributes\":{\"bottom_units\":\"screen\",\"fill_alpha\":{\"value\":0.5},\"fill_color\":{\"value\":\"lightgrey\"},\"left_units\":\"screen\",\"level\":\"overlay\",\"line_alpha\":{\"value\":1.0},\"line_color\":{\"value\":\"black\"},\"line_dash\":[4,4],\"line_width\":{\"value\":2},\"plot\":null,\"render_mode\":\"css\",\"right_units\":\"screen\",\"top_units\":\"screen\"},\"id\":\"5ab4699f-4445-4376-8617-90778a7fdd95\",\"type\":\"BoxAnnotation\"},{\"attributes\":{\"overlay\":{\"id\":\"cf9702f4-d994-445c-ae3b-7f39042f950d\",\"type\":\"BoxAnnotation\"}},\"id\":\"8b95b749-1775-448b-8968-a24f5fef0699\",\"type\":\"BoxZoomTool\"},{\"attributes\":{\"data_source\":{\"id\":\"b05163f5-4ecb-4927-964b-cae5630024ed\",\"type\":\"ColumnDataSource\"},\"glyph\":{\"id\":\"e9c54ab4-e119-4624-8ccd-b573a29e0855\",\"type\":\"VBar\"},\"hover_glyph\":null,\"muted_glyph\":null,\"nonselection_glyph\":{\"id\":\"84de89d3-b540-4902-8083-11c080fc5949\",\"type\":\"VBar\"},\"selection_glyph\":null,\"view\":{\"id\":\"cc1497a7-509e-4ed0-a8df-b1affa3bcb3e\",\"type\":\"CDSView\"}},\"id\":\"a06b066a-4d9e-456f-93cf-bbe449abff7a\",\"type\":\"GlyphRenderer\"},{\"attributes\":{\"overlay\":{\"id\":\"5ab4699f-4445-4376-8617-90778a7fdd95\",\"type\":\"BoxAnnotation\"}},\"id\":\"148a5416-52e4-43c5-bfb0-946a88e4389b\",\"type\":\"BoxZoomTool\"},{\"attributes\":{\"callback\":null},\"id\":\"19ff1de5-cb0c-420f-8252-eebdef977b7b\",\"type\":\"DataRange1d\"},{\"attributes\":{\"plot\":null,\"text\":\"SFC flux. CLIRAD (single-run) - CRD.\"},\"id\":\"10d52819-b15f-4aa6-96d6-c8d79c0cd99a\",\"type\":\"Title\"},{\"attributes\":{\"dimension\":1,\"plot\":{\"id\":\"222d238a-77d3-40a7-9f07-477b4911c628\",\"subtype\":\"Figure\",\"type\":\"Plot\"},\"ticker\":{\"id\":\"844e66d9-15ed-4fd5-8362-9ef2383a0eaa\",\"type\":\"BasicTicker\"}},\"id\":\"45d7cb4b-9062-422f-b500-a5a264d5c3cf\",\"type\":\"Grid\"},{\"attributes\":{\"callback\":null,\"data\":{\"band\":[\"1\",\"2\",\"3\",\"4\",\"5\",\"6\",\"7\",\"8\",\"9\",\"10\",\"11\"],\"flux\":{\"__ndarray__\":\"AADADkbs874Ak+S5vg/QPwANMzSeCMq/ABTRr62frj8A8Z2Y9WLjP6As7j8yHd0/gB2NQ/0usj8AQGTbs/iOP0Churn429E/AFDtmpDWiD8AO3arQl6wPw==\",\"dtype\":\"float64\",\"shape\":[11]}},\"selected\":{\"id\":\"12bee02e-559b-4477-a420-d2467c035fae\",\"type\":\"Selection\"},\"selection_policy\":{\"id\":\"86fd0ae7-941d-4393-b325-f824702de2d3\",\"type\":\"UnionRenderers\"}},\"id\":\"b05163f5-4ecb-4927-964b-cae5630024ed\",\"type\":\"ColumnDataSource\"},{\"attributes\":{\"plot\":{\"id\":\"4c294025-ab5e-4813-964a-ecde359fb1cc\",\"subtype\":\"Figure\",\"type\":\"Plot\"},\"ticker\":{\"id\":\"b30455b3-fa77-4c20-8dbe-8f92db788307\",\"type\":\"CategoricalTicker\"}},\"id\":\"8ba1f553-09a6-455f-bbcd-44ef79448db1\",\"type\":\"Grid\"},{\"attributes\":{},\"id\":\"3c76670b-5da3-4f49-9818-991d81631c4b\",\"type\":\"LinearScale\"},{\"attributes\":{\"active_drag\":\"auto\",\"active_inspect\":\"auto\",\"active_scroll\":\"auto\",\"active_tap\":\"auto\",\"tools\":[{\"id\":\"d7d64b84-84c3-4836-99a8-7fedcb84c593\",\"type\":\"PanTool\"},{\"id\":\"4505b392-3b2f-4143-9995-1bb61ab37c1d\",\"type\":\"WheelZoomTool\"},{\"id\":\"148a5416-52e4-43c5-bfb0-946a88e4389b\",\"type\":\"BoxZoomTool\"},{\"id\":\"0e448e1d-e814-4a24-b5d1-37377d566196\",\"type\":\"SaveTool\"},{\"id\":\"d328bc29-2e1c-44a0-85dd-6e00e976dd0c\",\"type\":\"ResetTool\"},{\"id\":\"7c114138-efc9-43ee-9d9c-ae87d2eb4aa4\",\"type\":\"HelpTool\"}]},\"id\":\"372e14f7-1d36-4c39-932b-c04d2b2782a7\",\"type\":\"Toolbar\"},{\"attributes\":{},\"id\":\"86fd0ae7-941d-4393-b325-f824702de2d3\",\"type\":\"UnionRenderers\"},{\"attributes\":{},\"id\":\"a15a0831-1c8a-4d1c-9871-cf4a14331400\",\"type\":\"BasicTicker\"},{\"attributes\":{},\"id\":\"a9078e89-6190-4e42-9fa9-8bd34d7257ce\",\"type\":\"BasicTicker\"},{\"attributes\":{},\"id\":\"a10fe025-4800-4650-9f46-f11cb3000afb\",\"type\":\"Selection\"},{\"attributes\":{\"axis_label\":\"spectral band\",\"formatter\":{\"id\":\"fde2457a-a58b-4d1b-b130-98b4e7710814\",\"type\":\"CategoricalTickFormatter\"},\"plot\":{\"id\":\"222d238a-77d3-40a7-9f07-477b4911c628\",\"subtype\":\"Figure\",\"type\":\"Plot\"},\"ticker\":{\"id\":\"64e8e47c-d6cb-4f7c-bf1a-051d16677a4e\",\"type\":\"CategoricalTicker\"}},\"id\":\"6906640f-88a3-4b82-b188-9bddf14021a4\",\"type\":\"CategoricalAxis\"},{\"attributes\":{\"callback\":null,\"factors\":[\"1\",\"2\",\"3\",\"4\",\"5\",\"6\",\"7\",\"8\",\"9\",\"10\",\"11\"]},\"id\":\"909678ab-636f-492d-b07b-b166c415c01a\",\"type\":\"FactorRange\"},{\"attributes\":{\"source\":{\"id\":\"16ce8dbe-1c43-4e08-ae05-20b7799f6045\",\"type\":\"ColumnDataSource\"}},\"id\":\"8b7173c9-2850-4ee1-9809-ef5e7eb8d4c5\",\"type\":\"CDSView\"},{\"attributes\":{},\"id\":\"43d42bb7-3949-4890-8514-2d9e16c9ad62\",\"type\":\"ResetTool\"},{\"attributes\":{},\"id\":\"933f2293-bfa6-4963-849b-17df04387a2f\",\"type\":\"UnionRenderers\"},{\"attributes\":{\"fill_color\":{\"value\":\"#1f77b4\"},\"line_color\":{\"value\":\"#1f77b4\"},\"top\":{\"field\":\"flux\"},\"width\":{\"value\":0.9},\"x\":{\"field\":\"band\"}},\"id\":\"cd684a65-899d-41f5-8076-54c9356be8bb\",\"type\":\"VBar\"},{\"attributes\":{},\"id\":\"090e70bf-2761-41fb-aa0e-26907e5f3883\",\"type\":\"LinearScale\"},{\"attributes\":{\"plot\":{\"id\":\"222d238a-77d3-40a7-9f07-477b4911c628\",\"subtype\":\"Figure\",\"type\":\"Plot\"},\"ticker\":{\"id\":\"64e8e47c-d6cb-4f7c-bf1a-051d16677a4e\",\"type\":\"CategoricalTicker\"}},\"id\":\"2bc422bf-a23c-437e-b7cd-d6f06042c980\",\"type\":\"Grid\"},{\"attributes\":{},\"id\":\"b30455b3-fa77-4c20-8dbe-8f92db788307\",\"type\":\"CategoricalTicker\"},{\"attributes\":{\"dimension\":1,\"plot\":{\"id\":\"4c294025-ab5e-4813-964a-ecde359fb1cc\",\"subtype\":\"Figure\",\"type\":\"Plot\"},\"ticker\":{\"id\":\"a15a0831-1c8a-4d1c-9871-cf4a14331400\",\"type\":\"BasicTicker\"}},\"id\":\"97eb8305-2bf6-428d-8b30-c1a24f186c78\",\"type\":\"Grid\"},{\"attributes\":{},\"id\":\"64e8e47c-d6cb-4f7c-bf1a-051d16677a4e\",\"type\":\"CategoricalTicker\"},{\"attributes\":{\"axis_label\":\"spectral band\",\"formatter\":{\"id\":\"87237a9a-9ffe-43bb-b34d-a0ddb70e2dc4\",\"type\":\"CategoricalTickFormatter\"},\"plot\":{\"id\":\"4c294025-ab5e-4813-964a-ecde359fb1cc\",\"subtype\":\"Figure\",\"type\":\"Plot\"},\"ticker\":{\"id\":\"b30455b3-fa77-4c20-8dbe-8f92db788307\",\"type\":\"CategoricalTicker\"}},\"id\":\"e77dd2f0-5654-4dc2-8bf1-29a4e5940bce\",\"type\":\"CategoricalAxis\"},{\"attributes\":{\"data_source\":{\"id\":\"16ce8dbe-1c43-4e08-ae05-20b7799f6045\",\"type\":\"ColumnDataSource\"},\"glyph\":{\"id\":\"cd684a65-899d-41f5-8076-54c9356be8bb\",\"type\":\"VBar\"},\"hover_glyph\":null,\"muted_glyph\":null,\"nonselection_glyph\":{\"id\":\"001f91ca-9d6f-4369-9e09-2831c8e5f825\",\"type\":\"VBar\"},\"selection_glyph\":null,\"view\":{\"id\":\"8b7173c9-2850-4ee1-9809-ef5e7eb8d4c5\",\"type\":\"CDSView\"}},\"id\":\"6a6248c1-d169-4e8e-ad2a-e28f87735633\",\"type\":\"GlyphRenderer\"},{\"attributes\":{},\"id\":\"844e66d9-15ed-4fd5-8362-9ef2383a0eaa\",\"type\":\"BasicTicker\"},{\"attributes\":{},\"id\":\"a4105cd3-1fa7-4eb2-bbff-c249de5613b3\",\"type\":\"HelpTool\"},{\"attributes\":{\"bottom_units\":\"screen\",\"fill_alpha\":{\"value\":0.5},\"fill_color\":{\"value\":\"lightgrey\"},\"left_units\":\"screen\",\"level\":\"overlay\",\"line_alpha\":{\"value\":1.0},\"line_color\":{\"value\":\"black\"},\"line_dash\":[4,4],\"line_width\":{\"value\":2},\"plot\":null,\"render_mode\":\"css\",\"right_units\":\"screen\",\"top_units\":\"screen\"},\"id\":\"360b62ac-b645-442c-ba3d-a3a98f6303bc\",\"type\":\"BoxAnnotation\"},{\"attributes\":{\"data_source\":{\"id\":\"23e819f3-9ff7-46a6-83d5-610fa0a8ce4d\",\"type\":\"ColumnDataSource\"},\"glyph\":{\"id\":\"9a415e82-fae9-4e82-b1e7-63e18b66a9b3\",\"type\":\"VBar\"},\"hover_glyph\":null,\"muted_glyph\":null,\"nonselection_glyph\":{\"id\":\"dd588f4e-1889-41e6-b683-824377e06630\",\"type\":\"VBar\"},\"selection_glyph\":null,\"view\":{\"id\":\"07893071-740d-42e0-aec0-ebf6262edb2a\",\"type\":\"CDSView\"}},\"id\":\"c2d981cc-4a63-4691-a63d-3093c054054b\",\"type\":\"GlyphRenderer\"},{\"attributes\":{},\"id\":\"4505b392-3b2f-4143-9995-1bb61ab37c1d\",\"type\":\"WheelZoomTool\"},{\"attributes\":{\"fill_alpha\":{\"value\":0.1},\"fill_color\":{\"value\":\"#1f77b4\"},\"line_alpha\":{\"value\":0.1},\"line_color\":{\"value\":\"#1f77b4\"},\"top\":{\"field\":\"flux\"},\"width\":{\"value\":0.9},\"x\":{\"field\":\"band\"}},\"id\":\"001f91ca-9d6f-4369-9e09-2831c8e5f825\",\"type\":\"VBar\"},{\"attributes\":{},\"id\":\"bb937e4b-fe35-4fbb-8bff-46446064112e\",\"type\":\"UnionRenderers\"},{\"attributes\":{},\"id\":\"7c114138-efc9-43ee-9d9c-ae87d2eb4aa4\",\"type\":\"HelpTool\"},{\"attributes\":{\"callback\":null,\"data\":{\"band\":[\"1\",\"2\",\"3\",\"4\",\"5\",\"6\",\"7\",\"8\",\"9\",\"10\",\"11\"],\"flux\":{\"__ndarray__\":\"AID6S2L7yj8AhLZzzD+yPwC8gsh9Brm/ABW46Y0C4D8gA5fHmpHSvwDp7GRwlN+/gOE/3UCBxT8Atr3dkhzAv0C4FKEiGNC/wG+hI6BfwD9Ab6jOWVWpPw==\",\"dtype\":\"float64\",\"shape\":[11]}},\"selected\":{\"id\":\"571cdd08-2fe5-44a6-aa0f-ef19d32f6253\",\"type\":\"Selection\"},\"selection_policy\":{\"id\":\"933f2293-bfa6-4963-849b-17df04387a2f\",\"type\":\"UnionRenderers\"}},\"id\":\"16ce8dbe-1c43-4e08-ae05-20b7799f6045\",\"type\":\"ColumnDataSource\"},{\"attributes\":{\"callback\":null,\"factors\":[\"1\",\"2\",\"3\",\"4\",\"5\",\"6\",\"7\",\"8\",\"9\",\"10\",\"11\"]},\"id\":\"e272d13d-b119-444a-8ac3-d320914920e0\",\"type\":\"FactorRange\"},{\"attributes\":{},\"id\":\"d1639377-6994-4129-baaf-a6b283cd4014\",\"type\":\"WheelZoomTool\"},{\"attributes\":{},\"id\":\"70d0545e-49a2-44db-bf6c-f6ecb1a94a35\",\"type\":\"PanTool\"},{\"attributes\":{},\"id\":\"70995d21-93d7-455a-b3cc-922a98985e3b\",\"type\":\"BasicTickFormatter\"},{\"attributes\":{},\"id\":\"d7168124-0068-439a-8ba0-0a49dcfc4d91\",\"type\":\"SaveTool\"},{\"attributes\":{},\"id\":\"87237a9a-9ffe-43bb-b34d-a0ddb70e2dc4\",\"type\":\"CategoricalTickFormatter\"},{\"attributes\":{},\"id\":\"28fd55cc-773e-4611-9854-5cb6992c5ee3\",\"type\":\"CategoricalScale\"},{\"attributes\":{\"callback\":null},\"id\":\"6b249b3b-32f1-41ed-a783-2d1fe3fdd812\",\"type\":\"DataRange1d\"},{\"attributes\":{},\"id\":\"6c61f4d8-3463-49de-8ccd-6eb91caf39e8\",\"type\":\"WheelZoomTool\"},{\"attributes\":{},\"id\":\"93e5f422-437c-43a4-a9dd-17da65da9b70\",\"type\":\"CategoricalScale\"},{\"attributes\":{\"children\":[{\"id\":\"3bb212c6-7c3d-4c0f-a86a-ab3138b829ed\",\"type\":\"ToolbarBox\"},{\"id\":\"1df4d1e2-d799-451d-9491-4a0db3c109a2\",\"type\":\"Column\"}]},\"id\":\"4aac0a4a-54bf-4513-ada6-cf57408257e8\",\"type\":\"Column\"},{\"attributes\":{\"callback\":null,\"factors\":[\"1\",\"2\",\"3\",\"4\",\"5\",\"6\",\"7\",\"8\",\"9\",\"10\",\"11\"]},\"id\":\"9965a143-0a3b-46cb-be0f-dd8461cb095d\",\"type\":\"FactorRange\"},{\"attributes\":{\"axis_label\":\"flux (W m-2)\",\"formatter\":{\"id\":\"e58cbf79-b9dd-4ceb-9dc9-1dc3c350e629\",\"type\":\"BasicTickFormatter\"},\"plot\":{\"id\":\"874954c0-3ae3-4cb8-b8fa-7166e3b8e277\",\"subtype\":\"Figure\",\"type\":\"Plot\"},\"ticker\":{\"id\":\"a9078e89-6190-4e42-9fa9-8bd34d7257ce\",\"type\":\"BasicTicker\"}},\"id\":\"f71c8d0e-320d-4b17-a8ee-cdbb19b23e91\",\"type\":\"LinearAxis\"},{\"attributes\":{\"plot\":null,\"text\":\"Atmosphere heating. CLIRAD (single-run) - CRD.\"},\"id\":\"231ffaba-222b-4702-899e-52e63d8f8c57\",\"type\":\"Title\"},{\"attributes\":{},\"id\":\"571cdd08-2fe5-44a6-aa0f-ef19d32f6253\",\"type\":\"Selection\"},{\"attributes\":{\"fill_color\":{\"value\":\"#1f77b4\"},\"line_color\":{\"value\":\"#1f77b4\"},\"top\":{\"field\":\"flux\"},\"width\":{\"value\":0.9},\"x\":{\"field\":\"band\"}},\"id\":\"9a415e82-fae9-4e82-b1e7-63e18b66a9b3\",\"type\":\"VBar\"},{\"attributes\":{},\"id\":\"f96344ef-7c0d-4ddd-82f6-97290f58cbf8\",\"type\":\"HelpTool\"},{\"attributes\":{},\"id\":\"9209e657-966a-4fef-ad77-1b0b1e94e1b7\",\"type\":\"CategoricalTicker\"},{\"attributes\":{\"axis_label\":\"flux (W m-2)\",\"formatter\":{\"id\":\"27eeded5-50d4-4458-9de6-ede6993f2017\",\"type\":\"BasicTickFormatter\"},\"plot\":{\"id\":\"222d238a-77d3-40a7-9f07-477b4911c628\",\"subtype\":\"Figure\",\"type\":\"Plot\"},\"ticker\":{\"id\":\"844e66d9-15ed-4fd5-8362-9ef2383a0eaa\",\"type\":\"BasicTicker\"}},\"id\":\"40446768-0f94-445a-81b1-0fa53868caec\",\"type\":\"LinearAxis\"},{\"attributes\":{},\"id\":\"84dd6ef9-7f98-477a-b388-d8078d7bb339\",\"type\":\"LinearScale\"},{\"attributes\":{},\"id\":\"e58cbf79-b9dd-4ceb-9dc9-1dc3c350e629\",\"type\":\"BasicTickFormatter\"},{\"attributes\":{\"dimension\":1,\"plot\":{\"id\":\"874954c0-3ae3-4cb8-b8fa-7166e3b8e277\",\"subtype\":\"Figure\",\"type\":\"Plot\"},\"ticker\":{\"id\":\"a9078e89-6190-4e42-9fa9-8bd34d7257ce\",\"type\":\"BasicTicker\"}},\"id\":\"a1406308-59c1-45eb-a1d1-a842c0f93243\",\"type\":\"Grid\"},{\"attributes\":{},\"id\":\"d7d64b84-84c3-4836-99a8-7fedcb84c593\",\"type\":\"PanTool\"},{\"attributes\":{},\"id\":\"3c37a07f-8392-43c3-bedb-42bf44bb4118\",\"type\":\"ResetTool\"},{\"attributes\":{\"axis_label\":\"spectral band\",\"formatter\":{\"id\":\"6b1b46b8-dbb1-41a5-8c95-92b8fae5d7d1\",\"type\":\"CategoricalTickFormatter\"},\"plot\":{\"id\":\"874954c0-3ae3-4cb8-b8fa-7166e3b8e277\",\"subtype\":\"Figure\",\"type\":\"Plot\"},\"ticker\":{\"id\":\"9209e657-966a-4fef-ad77-1b0b1e94e1b7\",\"type\":\"CategoricalTicker\"}},\"id\":\"d38ee856-f4d7-4223-adc4-6e9365358462\",\"type\":\"CategoricalAxis\"},{\"attributes\":{\"active_drag\":\"auto\",\"active_inspect\":\"auto\",\"active_scroll\":\"auto\",\"active_tap\":\"auto\",\"tools\":[{\"id\":\"70d0545e-49a2-44db-bf6c-f6ecb1a94a35\",\"type\":\"PanTool\"},{\"id\":\"d1639377-6994-4129-baaf-a6b283cd4014\",\"type\":\"WheelZoomTool\"},{\"id\":\"8b95b749-1775-448b-8968-a24f5fef0699\",\"type\":\"BoxZoomTool\"},{\"id\":\"48fe99d4-3880-4459-a4f4-1d5999abcce5\",\"type\":\"SaveTool\"},{\"id\":\"43d42bb7-3949-4890-8514-2d9e16c9ad62\",\"type\":\"ResetTool\"},{\"id\":\"a4105cd3-1fa7-4eb2-bbff-c249de5613b3\",\"type\":\"HelpTool\"}]},\"id\":\"34045527-184c-4af7-9dec-472c2e93f80b\",\"type\":\"Toolbar\"},{\"attributes\":{},\"id\":\"8723128c-d443-4a8c-81d1-0db64fbb25b1\",\"type\":\"CategoricalScale\"},{\"attributes\":{},\"id\":\"0e448e1d-e814-4a24-b5d1-37377d566196\",\"type\":\"SaveTool\"},{\"attributes\":{\"active_drag\":\"auto\",\"active_inspect\":\"auto\",\"active_scroll\":\"auto\",\"active_tap\":\"auto\",\"tools\":[{\"id\":\"61397a7e-9543-4312-8adb-1cf943d8d658\",\"type\":\"PanTool\"},{\"id\":\"6c61f4d8-3463-49de-8ccd-6eb91caf39e8\",\"type\":\"WheelZoomTool\"},{\"id\":\"97acbb1a-942c-4470-b6de-8ff1130d263b\",\"type\":\"BoxZoomTool\"},{\"id\":\"d7168124-0068-439a-8ba0-0a49dcfc4d91\",\"type\":\"SaveTool\"},{\"id\":\"3c37a07f-8392-43c3-bedb-42bf44bb4118\",\"type\":\"ResetTool\"},{\"id\":\"f96344ef-7c0d-4ddd-82f6-97290f58cbf8\",\"type\":\"HelpTool\"}]},\"id\":\"5a73cb83-a366-44ce-82f1-28c3d16fc50a\",\"type\":\"Toolbar\"},{\"attributes\":{},\"id\":\"6b1b46b8-dbb1-41a5-8c95-92b8fae5d7d1\",\"type\":\"CategoricalTickFormatter\"},{\"attributes\":{},\"id\":\"d328bc29-2e1c-44a0-85dd-6e00e976dd0c\",\"type\":\"ResetTool\"},{\"attributes\":{},\"id\":\"12bee02e-559b-4477-a420-d2467c035fae\",\"type\":\"Selection\"},{\"attributes\":{\"bottom_units\":\"screen\",\"fill_alpha\":{\"value\":0.5},\"fill_color\":{\"value\":\"lightgrey\"},\"left_units\":\"screen\",\"level\":\"overlay\",\"line_alpha\":{\"value\":1.0},\"line_color\":{\"value\":\"black\"},\"line_dash\":[4,4],\"line_width\":{\"value\":2},\"plot\":null,\"render_mode\":\"css\",\"right_units\":\"screen\",\"top_units\":\"screen\"},\"id\":\"cf9702f4-d994-445c-ae3b-7f39042f950d\",\"type\":\"BoxAnnotation\"},{\"attributes\":{},\"id\":\"48fe99d4-3880-4459-a4f4-1d5999abcce5\",\"type\":\"SaveTool\"},{\"attributes\":{\"children\":[{\"id\":\"4c294025-ab5e-4813-964a-ecde359fb1cc\",\"subtype\":\"Figure\",\"type\":\"Plot\"},{\"id\":\"874954c0-3ae3-4cb8-b8fa-7166e3b8e277\",\"subtype\":\"Figure\",\"type\":\"Plot\"},{\"id\":\"222d238a-77d3-40a7-9f07-477b4911c628\",\"subtype\":\"Figure\",\"type\":\"Plot\"}]},\"id\":\"87deb5db-026f-4230-a7cf-0b69aa2405b2\",\"type\":\"Row\"},{\"attributes\":{\"fill_alpha\":{\"value\":0.1},\"fill_color\":{\"value\":\"#1f77b4\"},\"line_alpha\":{\"value\":0.1},\"line_color\":{\"value\":\"#1f77b4\"},\"top\":{\"field\":\"flux\"},\"width\":{\"value\":0.9},\"x\":{\"field\":\"band\"}},\"id\":\"dd588f4e-1889-41e6-b683-824377e06630\",\"type\":\"VBar\"},{\"attributes\":{\"toolbar\":{\"id\":\"cdd08cf5-7d4d-4f86-b0e3-8ff6fba6cb36\",\"type\":\"ProxyToolbar\"},\"toolbar_location\":\"above\"},\"id\":\"3bb212c6-7c3d-4c0f-a86a-ab3138b829ed\",\"type\":\"ToolbarBox\"},{\"attributes\":{\"source\":{\"id\":\"23e819f3-9ff7-46a6-83d5-610fa0a8ce4d\",\"type\":\"ColumnDataSource\"}},\"id\":\"07893071-740d-42e0-aec0-ebf6262edb2a\",\"type\":\"CDSView\"},{\"attributes\":{\"below\":[{\"id\":\"6906640f-88a3-4b82-b188-9bddf14021a4\",\"type\":\"CategoricalAxis\"}],\"left\":[{\"id\":\"40446768-0f94-445a-81b1-0fa53868caec\",\"type\":\"LinearAxis\"}],\"plot_height\":300,\"plot_width\":300,\"renderers\":[{\"id\":\"6906640f-88a3-4b82-b188-9bddf14021a4\",\"type\":\"CategoricalAxis\"},{\"id\":\"2bc422bf-a23c-437e-b7cd-d6f06042c980\",\"type\":\"Grid\"},{\"id\":\"40446768-0f94-445a-81b1-0fa53868caec\",\"type\":\"LinearAxis\"},{\"id\":\"45d7cb4b-9062-422f-b500-a5a264d5c3cf\",\"type\":\"Grid\"},{\"id\":\"cf9702f4-d994-445c-ae3b-7f39042f950d\",\"type\":\"BoxAnnotation\"},{\"id\":\"6a6248c1-d169-4e8e-ad2a-e28f87735633\",\"type\":\"GlyphRenderer\"}],\"title\":{\"id\":\"231ffaba-222b-4702-899e-52e63d8f8c57\",\"type\":\"Title\"},\"toolbar\":{\"id\":\"34045527-184c-4af7-9dec-472c2e93f80b\",\"type\":\"Toolbar\"},\"toolbar_location\":null,\"x_range\":{\"id\":\"e272d13d-b119-444a-8ac3-d320914920e0\",\"type\":\"FactorRange\"},\"x_scale\":{\"id\":\"8723128c-d443-4a8c-81d1-0db64fbb25b1\",\"type\":\"CategoricalScale\"},\"y_range\":{\"id\":\"d4eb303c-7821-41e5-b007-07cde6009e12\",\"type\":\"DataRange1d\"},\"y_scale\":{\"id\":\"84dd6ef9-7f98-477a-b388-d8078d7bb339\",\"type\":\"LinearScale\"}},\"id\":\"222d238a-77d3-40a7-9f07-477b4911c628\",\"subtype\":\"Figure\",\"type\":\"Plot\"},{\"attributes\":{\"below\":[{\"id\":\"d38ee856-f4d7-4223-adc4-6e9365358462\",\"type\":\"CategoricalAxis\"}],\"left\":[{\"id\":\"f71c8d0e-320d-4b17-a8ee-cdbb19b23e91\",\"type\":\"LinearAxis\"}],\"plot_height\":300,\"plot_width\":300,\"renderers\":[{\"id\":\"d38ee856-f4d7-4223-adc4-6e9365358462\",\"type\":\"CategoricalAxis\"},{\"id\":\"b9bb9eb9-1466-462a-98a3-76bef7f4d2ff\",\"type\":\"Grid\"},{\"id\":\"f71c8d0e-320d-4b17-a8ee-cdbb19b23e91\",\"type\":\"LinearAxis\"},{\"id\":\"a1406308-59c1-45eb-a1d1-a842c0f93243\",\"type\":\"Grid\"},{\"id\":\"360b62ac-b645-442c-ba3d-a3a98f6303bc\",\"type\":\"BoxAnnotation\"},{\"id\":\"a06b066a-4d9e-456f-93cf-bbe449abff7a\",\"type\":\"GlyphRenderer\"}],\"title\":{\"id\":\"10d52819-b15f-4aa6-96d6-c8d79c0cd99a\",\"type\":\"Title\"},\"toolbar\":{\"id\":\"5a73cb83-a366-44ce-82f1-28c3d16fc50a\",\"type\":\"Toolbar\"},\"toolbar_location\":null,\"x_range\":{\"id\":\"909678ab-636f-492d-b07b-b166c415c01a\",\"type\":\"FactorRange\"},\"x_scale\":{\"id\":\"28fd55cc-773e-4611-9854-5cb6992c5ee3\",\"type\":\"CategoricalScale\"},\"y_range\":{\"id\":\"6b249b3b-32f1-41ed-a783-2d1fe3fdd812\",\"type\":\"DataRange1d\"},\"y_scale\":{\"id\":\"3c76670b-5da3-4f49-9818-991d81631c4b\",\"type\":\"LinearScale\"}},\"id\":\"874954c0-3ae3-4cb8-b8fa-7166e3b8e277\",\"subtype\":\"Figure\",\"type\":\"Plot\"},{\"attributes\":{},\"id\":\"27eeded5-50d4-4458-9de6-ede6993f2017\",\"type\":\"BasicTickFormatter\"},{\"attributes\":{\"callback\":null,\"data\":{\"band\":[\"1\",\"2\",\"3\",\"4\",\"5\",\"6\",\"7\",\"8\",\"9\",\"10\",\"11\"],\"flux\":{\"__ndarray__\":\"AMHG9e/6yj8ARFVMpZ/UP8A1I4PcRdO/wKT4+ITs4T8A9+Y3TDTUPwDo9SfxuaO/gPm7d9SYzj8AbToCuFm8vwAu4dBbPJw/4PGprSLtwT+A9UyK6gi9Pw==\",\"dtype\":\"float64\",\"shape\":[11]}},\"selected\":{\"id\":\"a10fe025-4800-4650-9f46-f11cb3000afb\",\"type\":\"Selection\"},\"selection_policy\":{\"id\":\"bb937e4b-fe35-4fbb-8bff-46446064112e\",\"type\":\"UnionRenderers\"}},\"id\":\"23e819f3-9ff7-46a6-83d5-610fa0a8ce4d\",\"type\":\"ColumnDataSource\"},{\"attributes\":{\"source\":{\"id\":\"b05163f5-4ecb-4927-964b-cae5630024ed\",\"type\":\"ColumnDataSource\"}},\"id\":\"cc1497a7-509e-4ed0-a8df-b1affa3bcb3e\",\"type\":\"CDSView\"},{\"attributes\":{\"plot\":null,\"text\":\"TOA flux. CLIRAD (single-run) - CRD.\"},\"id\":\"b2beb1cd-277a-4450-8339-c0d4b1e0e085\",\"type\":\"Title\"},{\"attributes\":{},\"id\":\"fde2457a-a58b-4d1b-b130-98b4e7710814\",\"type\":\"CategoricalTickFormatter\"},{\"attributes\":{\"fill_alpha\":{\"value\":0.1},\"fill_color\":{\"value\":\"#1f77b4\"},\"line_alpha\":{\"value\":0.1},\"line_color\":{\"value\":\"#1f77b4\"},\"top\":{\"field\":\"flux\"},\"width\":{\"value\":0.9},\"x\":{\"field\":\"band\"}},\"id\":\"84de89d3-b540-4902-8083-11c080fc5949\",\"type\":\"VBar\"},{\"attributes\":{\"below\":[{\"id\":\"e77dd2f0-5654-4dc2-8bf1-29a4e5940bce\",\"type\":\"CategoricalAxis\"}],\"left\":[{\"id\":\"ec5c583f-3012-4131-9d7f-1248e09a3491\",\"type\":\"LinearAxis\"}],\"plot_height\":300,\"plot_width\":300,\"renderers\":[{\"id\":\"e77dd2f0-5654-4dc2-8bf1-29a4e5940bce\",\"type\":\"CategoricalAxis\"},{\"id\":\"8ba1f553-09a6-455f-bbcd-44ef79448db1\",\"type\":\"Grid\"},{\"id\":\"ec5c583f-3012-4131-9d7f-1248e09a3491\",\"type\":\"LinearAxis\"},{\"id\":\"97eb8305-2bf6-428d-8b30-c1a24f186c78\",\"type\":\"Grid\"},{\"id\":\"5ab4699f-4445-4376-8617-90778a7fdd95\",\"type\":\"BoxAnnotation\"},{\"id\":\"c2d981cc-4a63-4691-a63d-3093c054054b\",\"type\":\"GlyphRenderer\"}],\"title\":{\"id\":\"b2beb1cd-277a-4450-8339-c0d4b1e0e085\",\"type\":\"Title\"},\"toolbar\":{\"id\":\"372e14f7-1d36-4c39-932b-c04d2b2782a7\",\"type\":\"Toolbar\"},\"toolbar_location\":null,\"x_range\":{\"id\":\"9965a143-0a3b-46cb-be0f-dd8461cb095d\",\"type\":\"FactorRange\"},\"x_scale\":{\"id\":\"93e5f422-437c-43a4-a9dd-17da65da9b70\",\"type\":\"CategoricalScale\"},\"y_range\":{\"id\":\"19ff1de5-cb0c-420f-8252-eebdef977b7b\",\"type\":\"DataRange1d\"},\"y_scale\":{\"id\":\"090e70bf-2761-41fb-aa0e-26907e5f3883\",\"type\":\"LinearScale\"}},\"id\":\"4c294025-ab5e-4813-964a-ecde359fb1cc\",\"subtype\":\"Figure\",\"type\":\"Plot\"},{\"attributes\":{\"fill_color\":{\"value\":\"#1f77b4\"},\"line_color\":{\"value\":\"#1f77b4\"},\"top\":{\"field\":\"flux\"},\"width\":{\"value\":0.9},\"x\":{\"field\":\"band\"}},\"id\":\"e9c54ab4-e119-4624-8ccd-b573a29e0855\",\"type\":\"VBar\"}],\"root_ids\":[\"4aac0a4a-54bf-4513-ada6-cf57408257e8\"]},\"title\":\"Bokeh Application\",\"version\":\"0.12.16\"}};\n",
       "  var render_items = [{\"docid\":\"5e252575-2b56-41d7-98ad-cdfbe4458e27\",\"elementid\":\"fa28555f-f64f-479c-b99e-a44e3d5dc7cc\",\"modelid\":\"4aac0a4a-54bf-4513-ada6-cf57408257e8\"}];\n",
       "  root.Bokeh.embed.embed_items_notebook(docs_json, render_items);\n",
       "\n",
       "  }\n",
       "  if (root.Bokeh !== undefined) {\n",
       "    embed_document(root);\n",
       "  } else {\n",
       "    var attempts = 0;\n",
       "    var timer = setInterval(function(root) {\n",
       "      if (root.Bokeh !== undefined) {\n",
       "        embed_document(root);\n",
       "        clearInterval(timer);\n",
       "      }\n",
       "      attempts++;\n",
       "      if (attempts > 100) {\n",
       "        console.log(\"Bokeh: ERROR: Unable to run BokehJS code because BokehJS library is missing\")\n",
       "        clearInterval(timer);\n",
       "      }\n",
       "    }, 10, root)\n",
       "  }\n",
       "})(window);"
      ],
      "application/vnd.bokehjs_exec.v0+json": ""
     },
     "metadata": {
      "application/vnd.bokehjs_exec.v0+json": {
       "id": "4aac0a4a-54bf-4513-ada6-cf57408257e8"
      }
     },
     "output_type": "display_data"
    },
    {
     "data": {
      "text/markdown": [
       "*FIGURE.* Difference between CLIRAD and CRD in TOA, SFC and net atmosphere flux, in each spectral band."
      ],
      "text/plain": [
       "<IPython.core.display.Markdown object>"
      ]
     },
     "metadata": {},
     "output_type": "display_data"
    },
    {
     "data": {
      "text/html": [
       "<div>\n",
       "<style scoped>\n",
       "    .dataframe tbody tr th:only-of-type {\n",
       "        vertical-align: middle;\n",
       "    }\n",
       "\n",
       "    .dataframe tbody tr th {\n",
       "        vertical-align: top;\n",
       "    }\n",
       "\n",
       "    .dataframe thead th {\n",
       "        text-align: right;\n",
       "    }\n",
       "</style>\n",
       "<table border=\"1\" class=\"dataframe\">\n",
       "  <thead>\n",
       "    <tr style=\"text-align: right;\">\n",
       "      <th></th>\n",
       "      <th>OLR flux</th>\n",
       "      <th>SFC flux</th>\n",
       "      <th>ATM heating</th>\n",
       "    </tr>\n",
       "    <tr>\n",
       "      <th>Sum over bands</th>\n",
       "      <th></th>\n",
       "      <th></th>\n",
       "      <th></th>\n",
       "    </tr>\n",
       "  </thead>\n",
       "  <tbody>\n",
       "    <tr>\n",
       "      <th>CLIRAD (single-run) - CRD</th>\n",
       "      <td>1.48</td>\n",
       "      <td>1.61</td>\n",
       "      <td>-0.13</td>\n",
       "    </tr>\n",
       "    <tr>\n",
       "      <th>CRD</th>\n",
       "      <td>-303.40</td>\n",
       "      <td>337.24</td>\n",
       "      <td>-181.37</td>\n",
       "    </tr>\n",
       "  </tbody>\n",
       "</table>\n",
       "</div>"
      ],
      "text/plain": [
       "                           OLR flux  SFC flux  ATM heating\n",
       "Sum over bands                                            \n",
       "CLIRAD (single-run) - CRD      1.48      1.61        -0.13\n",
       "CRD                         -303.40    337.24      -181.37"
      ]
     },
     "metadata": {},
     "output_type": "display_data"
    },
    {
     "data": {
      "text/markdown": [
       "*TABLE.* Difference between CLIRAD and CRD in TOA, SFC and net atmosphere flux, over all spectral bands. CRD's TOA, SFC and net atmosphere flux, over all spectral bands."
      ],
      "text/plain": [
       "<IPython.core.display.Markdown object>"
      ]
     },
     "metadata": {},
     "output_type": "display_data"
    }
   ],
   "source": [
    "def show_html(s):\n",
    "    display.display(display.HTML(s))\n",
    "\n",
    "    \n",
    "def show_markdown(s):\n",
    "    display.display(display.Markdown(s))\n",
    "\n",
    "\n",
    "def script():\n",
    "    \n",
    "    d_atm = {'mls': 'mid-latitude summer',\n",
    "             'saw': 'sub-arctic winter',\n",
    "             'trp': 'tropical'}\n",
    "    \n",
    "    title = ('## Results over entire range of molecules'\n",
    "             ' and spectral bands')\n",
    "    \n",
    "    s_makeup = 'Makeup of atmosphere.'\n",
    "    s_atmpro = '# {}'\n",
    "    s_cool = 'Cooling rates. {}.'\n",
    "    s_flux = 'Fluxes. {}.'\n",
    "    \n",
    "    atmpros = ['mls', 'saw', 'trp']\n",
    "    \n",
    "    # TOC\n",
    "    show_markdown(title)\n",
    "    show_markdown('### Table of Contents')\n",
    "    show_html(climahtml.getHTML_hrefanchor(s_makeup))\n",
    "    for atmpro in atmpros:\n",
    "        show_markdown('**' + d_atm[atmpro] + '**')\n",
    "        show_html(climahtml.getHTML_hrefanchor(s_cool.format(atmpro)))\n",
    "        show_html(climahtml.getHTML_hrefanchor(s_flux.format(atmpro)))\n",
    "\n",
    "        \n",
    "    # Atmosphere makeup\n",
    "    show_html(climahtml.getHTML_idanchor(s_makeup))\n",
    "    show_markdown(climahtml.getMarkdown_sectitle(s_makeup))\n",
    "    show_makeup()\n",
    "    show_grey_makeup()\n",
    "        \n",
    "    for atmpro in atmpros:\n",
    "        show_html(climahtml.getHTML_idanchor(s_cool.format(atmpro)))\n",
    "        show_markdown(\n",
    "            climahtml.getMarkdown_sectitle(s_cool.format(atmpro)))\n",
    "        show_cool(atmpro=atmpro)\n",
    "        show_html(climahtml.getHTML_idanchor(s_flux.format(atmpro)))\n",
    "        show_markdown(\n",
    "            climahtml.getMarkdown_sectitle(s_flux.format(atmpro)))\n",
    "        show_hist_flux(atmpro=atmpro)\n",
    "        show_tb_flux(atmpro=atmpro)\n",
    "    \n",
    "    \n",
    "script()  "
   ]
  },
  {
   "cell_type": "code",
   "execution_count": null,
   "metadata": {
    "collapsed": true
   },
   "outputs": [],
   "source": []
  },
  {
   "cell_type": "code",
   "execution_count": 1030,
   "metadata": {},
   "outputs": [
    {
     "data": {
      "text/html": [
       "<script>\n",
       "code_show=true; \n",
       "function code_toggle() {\n",
       " if (code_show){\n",
       " $('div.input').hide();\n",
       " } else {\n",
       " $('div.input').show();\n",
       " }\n",
       " code_show = !code_show\n",
       "} \n",
       "$( document ).ready(code_toggle);\n",
       "</script>\n",
       "<form action=\"javascript:code_toggle()\"><input type=\"submit\" value=\"Click here to toggle on/off the raw code.\"></form>"
      ],
      "text/plain": [
       "<IPython.core.display.HTML object>"
      ]
     },
     "execution_count": 1030,
     "metadata": {},
     "output_type": "execute_result"
    }
   ],
   "source": [
    "display.HTML('''<script>\n",
    "code_show=true; \n",
    "function code_toggle() {\n",
    " if (code_show){\n",
    " $('div.input').hide();\n",
    " } else {\n",
    " $('div.input').show();\n",
    " }\n",
    " code_show = !code_show\n",
    "} \n",
    "$( document ).ready(code_toggle);\n",
    "</script>\n",
    "<form action=\"javascript:code_toggle()\"><input type=\"submit\" value=\"Click here to toggle on/off the raw code.\"></form>''')"
   ]
  },
  {
   "cell_type": "code",
   "execution_count": null,
   "metadata": {
    "collapsed": true
   },
   "outputs": [],
   "source": []
  }
 ],
 "metadata": {
  "kernelspec": {
   "display_name": "Python 3",
   "language": "python",
   "name": "python3"
  },
  "language_info": {
   "codemirror_mode": {
    "name": "ipython",
    "version": 3
   },
   "file_extension": ".py",
   "mimetype": "text/x-python",
   "name": "python",
   "nbconvert_exporter": "python",
   "pygments_lexer": "ipython3",
   "version": "3.6.1"
  }
 },
 "nbformat": 4,
 "nbformat_minor": 2
}
