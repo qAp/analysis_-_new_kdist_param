{
 "cells": [
  {
   "cell_type": "code",
   "execution_count": 8,
   "metadata": {
    "collapsed": true
   },
   "outputs": [],
   "source": [
    "%reload_ext autoreload\n",
    "%autoreload 2\n",
    "\n",
    "import os\n",
    "import pprint\n",
    "import io\n",
    "\n",
    "import pymongo\n",
    "import json\n",
    "import pandas as pd\n",
    "\n",
    "from IPython.display import display, HTML\n",
    "\n",
    "import climatools.lblnew.setup_bestfit as setup_bestfit\n",
    "import climatools.lblnew.runrecord_bestfit as runrecord\n",
    "import climatools.lblnew.pipeline as pipeline"
   ]
  },
  {
   "cell_type": "code",
   "execution_count": 2,
   "metadata": {
    "collapsed": true
   },
   "outputs": [],
   "source": [
    "client = pymongo.MongoClient('localhost', 27017, connect=False)"
   ]
  },
  {
   "cell_type": "code",
   "execution_count": 3,
   "metadata": {
    "collapsed": true
   },
   "outputs": [],
   "source": [
    "db = client.lblnew"
   ]
  },
  {
   "cell_type": "code",
   "execution_count": 4,
   "metadata": {
    "collapsed": true
   },
   "outputs": [],
   "source": [
    "collection = db.bestfit_lw"
   ]
  },
  {
   "cell_type": "code",
   "execution_count": 5,
   "metadata": {
    "collapsed": true
   },
   "outputs": [],
   "source": [
    "def make_doc(param=None):\n",
    "    '''\n",
    "    Makes a Mongodb document for an lblnew-bestfit run.\n",
    "    \n",
    "    Parameters\n",
    "    ----------\n",
    "    param: dict\n",
    "        lblnew-bestfit input parameters.\n",
    "    doc: dict\n",
    "        lblnew-bestfit input (param) and output (flux and cooling rate)\n",
    "    '''\n",
    "    dir_fortran = pipeline.get_dir_case(param=param, \n",
    "                                        setup=setup_bestfit)\n",
    "    \n",
    "    fnames = [n for n in os.listdir(dir_fortran) if n in \n",
    "              ('output_wfluxg.dat', 'output_wcoolrg.dat',\n",
    "               'output_fluxg.dat', 'output_coolrg.dat',\n",
    "               'output_flux.dat', 'output_coolr.dat',\n",
    "               'abscom.dat', 'dgdgs.dat',\n",
    "               'kg_lin.dat', 'kg_nonlin.dat')]    \n",
    "    \n",
    "    fpaths = (os.path.join(dir_fortran, n) for n in fnames)\n",
    "    s_outputs = (open(p, mode='r', encoding='utf-8').read() \n",
    "                 for p in fpaths)\n",
    "    \n",
    "    doc = {fname.split('.')[0]: s \n",
    "           for fname, s in zip(fnames, s_outputs)}\n",
    "    doc['param'] = param\n",
    "    \n",
    "    return doc\n",
    "\n",
    "\n",
    "\n",
    "def make_query(param=None):\n",
    "    '''\n",
    "    Returns the MongoDB query for a lblnew-bestfit \n",
    "    run's document.\n",
    "    \n",
    "    Parameters\n",
    "    ----------\n",
    "    param: dict\n",
    "    lblnew-bestfit input parameters.\n",
    "    '''\n",
    "    return {'param.' + name: value for name, value in param.items()}\n",
    "    "
   ]
  },
  {
   "cell_type": "markdown",
   "metadata": {},
   "source": [
    "# Saving lblnew-bestfit runs in general"
   ]
  },
  {
   "cell_type": "code",
   "execution_count": 9,
   "metadata": {},
   "outputs": [],
   "source": [
    "params = runrecord.params()"
   ]
  },
  {
   "cell_type": "code",
   "execution_count": 72,
   "metadata": {},
   "outputs": [
    {
     "data": {
      "text/plain": [
       "<pymongo.results.InsertManyResult at 0x2ab2fdd3d1f8>"
      ]
     },
     "execution_count": 72,
     "metadata": {},
     "output_type": "execute_result"
    }
   ],
   "source": [
    "docs = (make_doc(param=param) for param in params)\n",
    "collection.insert_many(docs)"
   ]
  },
  {
   "cell_type": "code",
   "execution_count": 73,
   "metadata": {
    "collapsed": true
   },
   "outputs": [],
   "source": [
    "#collection.delete_many({'param.atmpro': 'trp'})"
   ]
  },
  {
   "cell_type": "code",
   "execution_count": 74,
   "metadata": {},
   "outputs": [
    {
     "data": {
      "text/plain": [
       "144"
      ]
     },
     "execution_count": 74,
     "metadata": {},
     "output_type": "execute_result"
    }
   ],
   "source": [
    "collection.count()"
   ]
  },
  {
   "cell_type": "markdown",
   "metadata": {},
   "source": [
    "# Saving best-fit runs\n",
    "\n",
    "These runs are lblnew-bestift runs, and they are also considered the \"best-fit\" to the line-by-line calculations and are to be imported into clirad-lw."
   ]
  },
  {
   "cell_type": "code",
   "execution_count": 16,
   "metadata": {
    "collapsed": true
   },
   "outputs": [],
   "source": [
    "import climatools.lblnew.bestfit_params as bfit\n",
    "import climatools.lblnew.export as export"
   ]
  },
  {
   "cell_type": "code",
   "execution_count": 29,
   "metadata": {
    "collapsed": true
   },
   "outputs": [],
   "source": [
    "def get_mbs():\n",
    "    '''\n",
    "    Returns all (molecule, band) pairs implemented in clirad-lw.\n",
    "    '''\n",
    "    fs = [export.h2o_gasbands, export.co2_gasbands,\n",
    "          export.o3_gasbands, export.n2o_gasbands,\n",
    "          export.ch4_gasbands]\n",
    "    return [mb for f in fs for mb in f()]"
   ]
  },
  {
   "cell_type": "code",
   "execution_count": 31,
   "metadata": {
    "collapsed": true
   },
   "outputs": [],
   "source": [
    "params = [bfit.kdist_params(molecule=m, band=b) \n",
    "          for m, b in get_mbs()]"
   ]
  },
  {
   "cell_type": "code",
   "execution_count": 23,
   "metadata": {},
   "outputs": [
    {
     "name": "stdout",
     "output_type": "stream",
     "text": [
      "dict_keys(['kg_nonlin', 'kg_lin', 'output_wcoolrg', 'output_wfluxg', 'output_flux', 'output_fluxg', 'output_coolr', 'output_coolrg', 'abscom', 'dgdgs', 'param'])\n",
      "dict_keys(['kg_nonlin', 'kg_lin', 'output_wcoolrg', 'output_wfluxg', 'output_flux', 'output_fluxg', 'output_coolr', 'output_coolrg', 'abscom', 'dgdgs', 'param'])\n"
     ]
    }
   ],
   "source": [
    "docs = (make_doc(param=p) for p in params)\n",
    "for doc in docs:\n",
    "    print(doc.keys())"
   ]
  },
  {
   "cell_type": "code",
   "execution_count": null,
   "metadata": {
    "collapsed": true
   },
   "outputs": [],
   "source": []
  },
  {
   "cell_type": "code",
   "execution_count": 32,
   "metadata": {
    "scrolled": false
   },
   "outputs": [
    {
     "name": "stdout",
     "output_type": "stream",
     "text": [
      "h2o 1\n",
      "dict_keys(['_id', 'param', 'kg_nonlin', 'kg_lin', 'debug_dtku', 'output_wcoolrg', 'output_wfluxg', 'output_flux', 'output_fluxg', 'output_coolr', 'output_coolrg', 'abscom', 'dgdgs', 'pt_ktable'])\n",
      "\n",
      "h2o 2\n",
      "dict_keys(['_id', 'param', 'kg_nonlin', 'kg_lin', 'debug_dtku', 'output_wcoolrg', 'output_wfluxg', 'output_flux', 'output_fluxg', 'output_coolr', 'output_coolrg', 'abscom', 'dgdgs', 'pt_ktable'])\n",
      "\n",
      "h2o 3a\n",
      "dict_keys(['_id', 'param', 'kg_nonlin', 'kg_lin', 'debug_dtku', 'output_wcoolrg', 'output_wfluxg', 'output_flux', 'output_fluxg', 'output_coolr', 'output_coolrg', 'abscom', 'dgdgs', 'pt_ktable'])\n",
      "\n",
      "h2o 3b\n",
      "dict_keys(['_id', 'param', 'kg_nonlin', 'kg_lin', 'debug_dtku', 'output_wcoolrg', 'output_wfluxg', 'output_flux', 'output_fluxg', 'output_coolr', 'output_coolrg', 'abscom', 'dgdgs', 'pt_ktable'])\n",
      "\n",
      "h2o 3c\n",
      "dict_keys(['_id', 'param', 'kg_nonlin', 'kg_lin', 'debug_dtku', 'output_wcoolrg', 'output_wfluxg', 'output_flux', 'output_fluxg', 'output_coolr', 'output_coolrg', 'abscom', 'dgdgs', 'pt_ktable'])\n",
      "\n",
      "h2o 4\n",
      "dict_keys(['_id', 'param', 'kg_nonlin', 'kg_lin', 'debug_dtku', 'output_wcoolrg', 'output_wfluxg', 'output_flux', 'output_fluxg', 'output_coolr', 'output_coolrg', 'abscom', 'dgdgs', 'pt_ktable'])\n",
      "\n",
      "h2o 5\n",
      "dict_keys(['_id', 'param', 'kg_nonlin', 'kg_lin', 'debug_dtku', 'output_wcoolrg', 'output_wfluxg', 'output_flux', 'output_fluxg', 'output_coolr', 'output_coolrg', 'abscom', 'dgdgs', 'pt_ktable'])\n",
      "\n",
      "h2o 6\n",
      "dict_keys(['_id', 'param', 'kg_nonlin', 'kg_lin', 'debug_dtku', 'output_wcoolrg', 'output_wfluxg', 'output_flux', 'output_fluxg', 'output_coolr', 'output_coolrg', 'abscom', 'dgdgs', 'pt_ktable'])\n",
      "\n",
      "h2o 7\n",
      "dict_keys(['_id', 'param', 'kg_nonlin', 'kg_lin', 'debug_dtku', 'output_wcoolrg', 'output_wfluxg', 'output_flux', 'output_fluxg', 'output_coolr', 'output_coolrg', 'abscom', 'dgdgs', 'pt_ktable'])\n",
      "\n",
      "h2o 8\n",
      "dict_keys(['_id', 'param', 'kg_nonlin', 'kg_lin', 'debug_dtku', 'output_wcoolrg', 'output_wfluxg', 'output_flux', 'output_fluxg', 'output_coolr', 'output_coolrg', 'abscom', 'dgdgs', 'pt_ktable'])\n",
      "\n",
      "h2o 9\n",
      "dict_keys(['_id', 'param', 'kg_nonlin', 'kg_lin', 'debug_dtku', 'output_wcoolrg', 'output_wfluxg', 'output_flux', 'output_fluxg', 'output_coolr', 'output_coolrg', 'abscom', 'dgdgs', 'pt_ktable'])\n",
      "\n",
      "co2 3a\n",
      "dict_keys(['_id', 'param', 'kg_nonlin', 'kg_lin', 'debug_dtku', 'output_wcoolrg', 'output_wfluxg', 'output_flux', 'output_fluxg', 'output_coolr', 'output_coolrg', 'abscom', 'dgdgs', 'pt_ktable'])\n",
      "\n",
      "co2 3b\n",
      "dict_keys(['_id', 'param', 'kg_nonlin', 'kg_lin', 'debug_dtku', 'output_wcoolrg', 'output_wfluxg', 'output_flux', 'output_fluxg', 'output_coolr', 'output_coolrg', 'abscom', 'dgdgs', 'pt_ktable'])\n",
      "\n",
      "co2 3c\n",
      "dict_keys(['_id', 'param', 'kg_nonlin', 'kg_lin', 'debug_dtku', 'output_wcoolrg', 'output_wfluxg', 'output_flux', 'output_fluxg', 'output_coolr', 'output_coolrg', 'abscom', 'dgdgs', 'pt_ktable'])\n",
      "\n",
      "co2 4\n",
      "dict_keys(['_id', 'param', 'kg_nonlin', 'kg_lin', 'debug_dtku', 'output_wcoolrg', 'output_wfluxg', 'output_flux', 'output_fluxg', 'output_coolr', 'output_coolrg', 'abscom', 'dgdgs', 'pt_ktable'])\n",
      "\n",
      "co2 5\n",
      "dict_keys(['_id', 'param', 'kg_nonlin', 'kg_lin', 'debug_dtku', 'output_wcoolrg', 'output_wfluxg', 'output_flux', 'output_fluxg', 'output_coolr', 'output_coolrg', 'abscom', 'dgdgs', 'pt_ktable'])\n",
      "\n",
      "co2 9\n",
      "dict_keys(['_id', 'param', 'kg_nonlin', 'kg_lin', 'debug_dtku', 'output_wcoolrg', 'output_wfluxg', 'output_flux', 'output_fluxg', 'output_coolr', 'output_coolrg', 'abscom', 'dgdgs', 'pt_ktable'])\n",
      "\n",
      "o3 5\n",
      "dict_keys(['_id', 'param', 'kg_nonlin', 'kg_lin', 'debug_dtku', 'output_wcoolrg', 'output_wfluxg', 'output_flux', 'output_fluxg', 'output_coolr', 'output_coolrg', 'abscom', 'dgdgs', 'pt_ktable'])\n",
      "\n",
      "o3 9\n",
      "dict_keys(['_id', 'param', 'kg_nonlin', 'kg_lin', 'debug_dtku', 'output_wcoolrg', 'output_wfluxg', 'output_flux', 'output_fluxg', 'output_coolr', 'output_coolrg', 'abscom', 'dgdgs', 'pt_ktable'])\n",
      "\n",
      "n2o 3a\n",
      "dict_keys(['_id', 'param', 'kg_nonlin', 'kg_lin', 'debug_dtku', 'output_wcoolrg', 'output_wfluxg', 'output_flux', 'output_fluxg', 'output_coolr', 'output_coolrg', 'abscom', 'dgdgs', 'pt_ktable'])\n",
      "\n",
      "n2o 6\n",
      "dict_keys(['_id', 'param', 'kg_nonlin', 'kg_lin', 'debug_dtku', 'output_wcoolrg', 'output_wfluxg', 'output_flux', 'output_fluxg', 'output_coolr', 'output_coolrg', 'abscom', 'dgdgs', 'pt_ktable'])\n",
      "\n",
      "n2o 7\n",
      "dict_keys(['_id', 'param', 'kg_nonlin', 'kg_lin', 'debug_dtku', 'output_wcoolrg', 'output_wfluxg', 'output_flux', 'output_fluxg', 'output_coolr', 'output_coolrg', 'abscom', 'dgdgs', 'pt_ktable'])\n",
      "\n",
      "ch4 6\n",
      "dict_keys(['_id', 'param', 'kg_nonlin', 'kg_lin', 'debug_dtku', 'output_wcoolrg', 'output_wfluxg', 'output_flux', 'output_fluxg', 'output_coolr', 'output_coolrg', 'abscom', 'dgdgs', 'pt_ktable'])\n",
      "\n",
      "ch4 7\n",
      "dict_keys(['_id', 'param', 'kg_nonlin', 'kg_lin', 'debug_dtku', 'output_wcoolrg', 'output_wfluxg', 'output_flux', 'output_fluxg', 'output_coolr', 'output_coolrg', 'abscom', 'dgdgs', 'pt_ktable'])\n",
      "\n"
     ]
    }
   ],
   "source": [
    "for p in params:\n",
    "    print(p['molecule'], p['band'])\n",
    "    rs = collection.find(make_query(param=p))\n",
    "    if rs:\n",
    "        for r in rs:\n",
    "            print(r.keys())\n",
    "            \n",
    "    print()\n",
    "\n",
    "    \n",
    "        "
   ]
  },
  {
   "cell_type": "code",
   "execution_count": null,
   "metadata": {
    "collapsed": true
   },
   "outputs": [],
   "source": []
  }
 ],
 "metadata": {
  "kernelspec": {
   "display_name": "Python 3",
   "language": "python",
   "name": "python3"
  },
  "language_info": {
   "codemirror_mode": {
    "name": "ipython",
    "version": 3
   },
   "file_extension": ".py",
   "mimetype": "text/x-python",
   "name": "python",
   "nbconvert_exporter": "python",
   "pygments_lexer": "ipython3",
   "version": "3.6.1"
  }
 },
 "nbformat": 4,
 "nbformat_minor": 2
}
