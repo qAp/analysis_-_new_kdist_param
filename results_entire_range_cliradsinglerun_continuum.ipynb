{
 "cells": [
  {
   "cell_type": "code",
   "execution_count": 1,
   "metadata": {
    "collapsed": true
   },
   "outputs": [],
   "source": [
    "import os\n",
    "import ast\n",
    "import json\n",
    "import importlib \n",
    "import itertools\n",
    "import collections\n",
    "import pprint\n",
    "\n",
    "from bokeh.io import output_notebook, show\n",
    "from bokeh.layouts import gridplot\n",
    "from bokeh.plotting import figure\n",
    "from bokeh.models import Range1d, Legend, ColumnDataSource, FactorRange\n",
    "from bokeh.palettes import all_palettes\n",
    "from bokeh.transform import factor_cmap\n",
    "\n",
    "import matplotlib\n",
    "import matplotlib.pyplot as plt\n",
    "import numpy as np\n",
    "import pandas as pd\n",
    "import xarray as xr\n",
    "\n",
    "\n",
    "import climatools.lblnew.bestfit_params as bestfits\n",
    "from climatools.lblnew import setup_bestfit, setup_overlap\n",
    "import climatools.lblnew.pipeline as pipe_lblnew\n",
    "import climatools.cliradlw.setup as setup_cliradlw\n",
    "import climatools.cliradlw.pipeline as pipe_cliradlw\n",
    "\n",
    "import climatools.html.html as climahtml\n",
    "from climatools.lblnew.dataio import *\n",
    "from climatools.plot.plot import *\n",
    "\n",
    "\n",
    "from IPython import display\n",
    "\n",
    "#importlib.reload(bestfits)\n",
    "#importlib.reload(setup_bestfit)\n",
    "#importlib.reload(setup_overlap)\n",
    "#importlib.reload(pipe_lblnew)\n",
    "#importlib.reload(setup_cliradlw)\n",
    "#importlib.reload(pipe_cliradlw)"
   ]
  },
  {
   "cell_type": "code",
   "execution_count": 2,
   "metadata": {
    "scrolled": true
   },
   "outputs": [
    {
     "data": {
      "text/html": [
       "\n",
       "    <div class=\"bk-root\">\n",
       "        <a href=\"https://bokeh.pydata.org\" target=\"_blank\" class=\"bk-logo bk-logo-small bk-logo-notebook\"></a>\n",
       "        <span id=\"220bed6d-dd23-4883-9646-7fb8eac9184d\">Loading BokehJS ...</span>\n",
       "    </div>"
      ]
     },
     "metadata": {},
     "output_type": "display_data"
    },
    {
     "data": {
      "application/javascript": [
       "\n",
       "(function(root) {\n",
       "  function now() {\n",
       "    return new Date();\n",
       "  }\n",
       "\n",
       "  var force = true;\n",
       "\n",
       "  if (typeof (root._bokeh_onload_callbacks) === \"undefined\" || force === true) {\n",
       "    root._bokeh_onload_callbacks = [];\n",
       "    root._bokeh_is_loading = undefined;\n",
       "  }\n",
       "\n",
       "  var JS_MIME_TYPE = 'application/javascript';\n",
       "  var HTML_MIME_TYPE = 'text/html';\n",
       "  var EXEC_MIME_TYPE = 'application/vnd.bokehjs_exec.v0+json';\n",
       "  var CLASS_NAME = 'output_bokeh rendered_html';\n",
       "\n",
       "  /**\n",
       "   * Render data to the DOM node\n",
       "   */\n",
       "  function render(props, node) {\n",
       "    var script = document.createElement(\"script\");\n",
       "    node.appendChild(script);\n",
       "  }\n",
       "\n",
       "  /**\n",
       "   * Handle when an output is cleared or removed\n",
       "   */\n",
       "  function handleClearOutput(event, handle) {\n",
       "    var cell = handle.cell;\n",
       "\n",
       "    var id = cell.output_area._bokeh_element_id;\n",
       "    var server_id = cell.output_area._bokeh_server_id;\n",
       "    // Clean up Bokeh references\n",
       "    if (id !== undefined) {\n",
       "      Bokeh.index[id].model.document.clear();\n",
       "      delete Bokeh.index[id];\n",
       "    }\n",
       "\n",
       "    if (server_id !== undefined) {\n",
       "      // Clean up Bokeh references\n",
       "      var cmd = \"from bokeh.io.state import curstate; print(curstate().uuid_to_server['\" + server_id + \"'].get_sessions()[0].document.roots[0]._id)\";\n",
       "      cell.notebook.kernel.execute(cmd, {\n",
       "        iopub: {\n",
       "          output: function(msg) {\n",
       "            var element_id = msg.content.text.trim();\n",
       "            Bokeh.index[element_id].model.document.clear();\n",
       "            delete Bokeh.index[element_id];\n",
       "          }\n",
       "        }\n",
       "      });\n",
       "      // Destroy server and session\n",
       "      var cmd = \"import bokeh.io.notebook as ion; ion.destroy_server('\" + server_id + \"')\";\n",
       "      cell.notebook.kernel.execute(cmd);\n",
       "    }\n",
       "  }\n",
       "\n",
       "  /**\n",
       "   * Handle when a new output is added\n",
       "   */\n",
       "  function handleAddOutput(event, handle) {\n",
       "    var output_area = handle.output_area;\n",
       "    var output = handle.output;\n",
       "\n",
       "    // limit handleAddOutput to display_data with EXEC_MIME_TYPE content only\n",
       "    if ((output.output_type != \"display_data\") || (!output.data.hasOwnProperty(EXEC_MIME_TYPE))) {\n",
       "      return\n",
       "    }\n",
       "\n",
       "    var toinsert = output_area.element.find(\".\" + CLASS_NAME.split(' ')[0]);\n",
       "\n",
       "    if (output.metadata[EXEC_MIME_TYPE][\"id\"] !== undefined) {\n",
       "      toinsert[toinsert.length - 1].firstChild.textContent = output.data[JS_MIME_TYPE];\n",
       "      // store reference to embed id on output_area\n",
       "      output_area._bokeh_element_id = output.metadata[EXEC_MIME_TYPE][\"id\"];\n",
       "    }\n",
       "    if (output.metadata[EXEC_MIME_TYPE][\"server_id\"] !== undefined) {\n",
       "      var bk_div = document.createElement(\"div\");\n",
       "      bk_div.innerHTML = output.data[HTML_MIME_TYPE];\n",
       "      var script_attrs = bk_div.children[0].attributes;\n",
       "      for (var i = 0; i < script_attrs.length; i++) {\n",
       "        toinsert[toinsert.length - 1].firstChild.setAttribute(script_attrs[i].name, script_attrs[i].value);\n",
       "      }\n",
       "      // store reference to server id on output_area\n",
       "      output_area._bokeh_server_id = output.metadata[EXEC_MIME_TYPE][\"server_id\"];\n",
       "    }\n",
       "  }\n",
       "\n",
       "  function register_renderer(events, OutputArea) {\n",
       "\n",
       "    function append_mime(data, metadata, element) {\n",
       "      // create a DOM node to render to\n",
       "      var toinsert = this.create_output_subarea(\n",
       "        metadata,\n",
       "        CLASS_NAME,\n",
       "        EXEC_MIME_TYPE\n",
       "      );\n",
       "      this.keyboard_manager.register_events(toinsert);\n",
       "      // Render to node\n",
       "      var props = {data: data, metadata: metadata[EXEC_MIME_TYPE]};\n",
       "      render(props, toinsert[toinsert.length - 1]);\n",
       "      element.append(toinsert);\n",
       "      return toinsert\n",
       "    }\n",
       "\n",
       "    /* Handle when an output is cleared or removed */\n",
       "    events.on('clear_output.CodeCell', handleClearOutput);\n",
       "    events.on('delete.Cell', handleClearOutput);\n",
       "\n",
       "    /* Handle when a new output is added */\n",
       "    events.on('output_added.OutputArea', handleAddOutput);\n",
       "\n",
       "    /**\n",
       "     * Register the mime type and append_mime function with output_area\n",
       "     */\n",
       "    OutputArea.prototype.register_mime_type(EXEC_MIME_TYPE, append_mime, {\n",
       "      /* Is output safe? */\n",
       "      safe: true,\n",
       "      /* Index of renderer in `output_area.display_order` */\n",
       "      index: 0\n",
       "    });\n",
       "  }\n",
       "\n",
       "  // register the mime type if in Jupyter Notebook environment and previously unregistered\n",
       "  if (root.Jupyter !== undefined) {\n",
       "    var events = require('base/js/events');\n",
       "    var OutputArea = require('notebook/js/outputarea').OutputArea;\n",
       "\n",
       "    if (OutputArea.prototype.mime_types().indexOf(EXEC_MIME_TYPE) == -1) {\n",
       "      register_renderer(events, OutputArea);\n",
       "    }\n",
       "  }\n",
       "\n",
       "  \n",
       "  if (typeof (root._bokeh_timeout) === \"undefined\" || force === true) {\n",
       "    root._bokeh_timeout = Date.now() + 5000;\n",
       "    root._bokeh_failed_load = false;\n",
       "  }\n",
       "\n",
       "  var NB_LOAD_WARNING = {'data': {'text/html':\n",
       "     \"<div style='background-color: #fdd'>\\n\"+\n",
       "     \"<p>\\n\"+\n",
       "     \"BokehJS does not appear to have successfully loaded. If loading BokehJS from CDN, this \\n\"+\n",
       "     \"may be due to a slow or bad network connection. Possible fixes:\\n\"+\n",
       "     \"</p>\\n\"+\n",
       "     \"<ul>\\n\"+\n",
       "     \"<li>re-rerun `output_notebook()` to attempt to load from CDN again, or</li>\\n\"+\n",
       "     \"<li>use INLINE resources instead, as so:</li>\\n\"+\n",
       "     \"</ul>\\n\"+\n",
       "     \"<code>\\n\"+\n",
       "     \"from bokeh.resources import INLINE\\n\"+\n",
       "     \"output_notebook(resources=INLINE)\\n\"+\n",
       "     \"</code>\\n\"+\n",
       "     \"</div>\"}};\n",
       "\n",
       "  function display_loaded() {\n",
       "    var el = document.getElementById(\"220bed6d-dd23-4883-9646-7fb8eac9184d\");\n",
       "    if (el != null) {\n",
       "      el.textContent = \"BokehJS is loading...\";\n",
       "    }\n",
       "    if (root.Bokeh !== undefined) {\n",
       "      if (el != null) {\n",
       "        el.textContent = \"BokehJS \" + root.Bokeh.version + \" successfully loaded.\";\n",
       "      }\n",
       "    } else if (Date.now() < root._bokeh_timeout) {\n",
       "      setTimeout(display_loaded, 100)\n",
       "    }\n",
       "  }\n",
       "\n",
       "\n",
       "  function run_callbacks() {\n",
       "    try {\n",
       "      root._bokeh_onload_callbacks.forEach(function(callback) { callback() });\n",
       "    }\n",
       "    finally {\n",
       "      delete root._bokeh_onload_callbacks\n",
       "    }\n",
       "    console.info(\"Bokeh: all callbacks have finished\");\n",
       "  }\n",
       "\n",
       "  function load_libs(js_urls, callback) {\n",
       "    root._bokeh_onload_callbacks.push(callback);\n",
       "    if (root._bokeh_is_loading > 0) {\n",
       "      console.log(\"Bokeh: BokehJS is being loaded, scheduling callback at\", now());\n",
       "      return null;\n",
       "    }\n",
       "    if (js_urls == null || js_urls.length === 0) {\n",
       "      run_callbacks();\n",
       "      return null;\n",
       "    }\n",
       "    console.log(\"Bokeh: BokehJS not loaded, scheduling load and callback at\", now());\n",
       "    root._bokeh_is_loading = js_urls.length;\n",
       "    for (var i = 0; i < js_urls.length; i++) {\n",
       "      var url = js_urls[i];\n",
       "      var s = document.createElement('script');\n",
       "      s.src = url;\n",
       "      s.async = false;\n",
       "      s.onreadystatechange = s.onload = function() {\n",
       "        root._bokeh_is_loading--;\n",
       "        if (root._bokeh_is_loading === 0) {\n",
       "          console.log(\"Bokeh: all BokehJS libraries loaded\");\n",
       "          run_callbacks()\n",
       "        }\n",
       "      };\n",
       "      s.onerror = function() {\n",
       "        console.warn(\"failed to load library \" + url);\n",
       "      };\n",
       "      console.log(\"Bokeh: injecting script tag for BokehJS library: \", url);\n",
       "      document.getElementsByTagName(\"head\")[0].appendChild(s);\n",
       "    }\n",
       "  };var element = document.getElementById(\"220bed6d-dd23-4883-9646-7fb8eac9184d\");\n",
       "  if (element == null) {\n",
       "    console.log(\"Bokeh: ERROR: autoload.js configured with elementid '220bed6d-dd23-4883-9646-7fb8eac9184d' but no matching script tag was found. \")\n",
       "    return false;\n",
       "  }\n",
       "\n",
       "  var js_urls = [\"https://cdn.pydata.org/bokeh/release/bokeh-0.12.16.min.js\", \"https://cdn.pydata.org/bokeh/release/bokeh-widgets-0.12.16.min.js\", \"https://cdn.pydata.org/bokeh/release/bokeh-tables-0.12.16.min.js\", \"https://cdn.pydata.org/bokeh/release/bokeh-gl-0.12.16.min.js\"];\n",
       "\n",
       "  var inline_js = [\n",
       "    function(Bokeh) {\n",
       "      Bokeh.set_log_level(\"info\");\n",
       "    },\n",
       "    \n",
       "    function(Bokeh) {\n",
       "      \n",
       "    },\n",
       "    function(Bokeh) {\n",
       "      console.log(\"Bokeh: injecting CSS: https://cdn.pydata.org/bokeh/release/bokeh-0.12.16.min.css\");\n",
       "      Bokeh.embed.inject_css(\"https://cdn.pydata.org/bokeh/release/bokeh-0.12.16.min.css\");\n",
       "      console.log(\"Bokeh: injecting CSS: https://cdn.pydata.org/bokeh/release/bokeh-widgets-0.12.16.min.css\");\n",
       "      Bokeh.embed.inject_css(\"https://cdn.pydata.org/bokeh/release/bokeh-widgets-0.12.16.min.css\");\n",
       "      console.log(\"Bokeh: injecting CSS: https://cdn.pydata.org/bokeh/release/bokeh-tables-0.12.16.min.css\");\n",
       "      Bokeh.embed.inject_css(\"https://cdn.pydata.org/bokeh/release/bokeh-tables-0.12.16.min.css\");\n",
       "    }\n",
       "  ];\n",
       "\n",
       "  function run_inline_js() {\n",
       "    \n",
       "    if ((root.Bokeh !== undefined) || (force === true)) {\n",
       "      for (var i = 0; i < inline_js.length; i++) {\n",
       "        inline_js[i].call(root, root.Bokeh);\n",
       "      }if (force === true) {\n",
       "        display_loaded();\n",
       "      }} else if (Date.now() < root._bokeh_timeout) {\n",
       "      setTimeout(run_inline_js, 100);\n",
       "    } else if (!root._bokeh_failed_load) {\n",
       "      console.log(\"Bokeh: BokehJS failed to load within specified timeout.\");\n",
       "      root._bokeh_failed_load = true;\n",
       "    } else if (force !== true) {\n",
       "      var cell = $(document.getElementById(\"220bed6d-dd23-4883-9646-7fb8eac9184d\")).parents('.cell').data().cell;\n",
       "      cell.output_area.append_execute_result(NB_LOAD_WARNING)\n",
       "    }\n",
       "\n",
       "  }\n",
       "\n",
       "  if (root._bokeh_is_loading === 0) {\n",
       "    console.log(\"Bokeh: BokehJS loaded, going straight to plotting\");\n",
       "    run_inline_js();\n",
       "  } else {\n",
       "    load_libs(js_urls, function() {\n",
       "      console.log(\"Bokeh: BokehJS plotting callback run at\", now());\n",
       "      run_inline_js();\n",
       "    });\n",
       "  }\n",
       "}(window));"
      ],
      "application/vnd.bokehjs_load.v0+json": "\n(function(root) {\n  function now() {\n    return new Date();\n  }\n\n  var force = true;\n\n  if (typeof (root._bokeh_onload_callbacks) === \"undefined\" || force === true) {\n    root._bokeh_onload_callbacks = [];\n    root._bokeh_is_loading = undefined;\n  }\n\n  \n\n  \n  if (typeof (root._bokeh_timeout) === \"undefined\" || force === true) {\n    root._bokeh_timeout = Date.now() + 5000;\n    root._bokeh_failed_load = false;\n  }\n\n  var NB_LOAD_WARNING = {'data': {'text/html':\n     \"<div style='background-color: #fdd'>\\n\"+\n     \"<p>\\n\"+\n     \"BokehJS does not appear to have successfully loaded. If loading BokehJS from CDN, this \\n\"+\n     \"may be due to a slow or bad network connection. Possible fixes:\\n\"+\n     \"</p>\\n\"+\n     \"<ul>\\n\"+\n     \"<li>re-rerun `output_notebook()` to attempt to load from CDN again, or</li>\\n\"+\n     \"<li>use INLINE resources instead, as so:</li>\\n\"+\n     \"</ul>\\n\"+\n     \"<code>\\n\"+\n     \"from bokeh.resources import INLINE\\n\"+\n     \"output_notebook(resources=INLINE)\\n\"+\n     \"</code>\\n\"+\n     \"</div>\"}};\n\n  function display_loaded() {\n    var el = document.getElementById(\"220bed6d-dd23-4883-9646-7fb8eac9184d\");\n    if (el != null) {\n      el.textContent = \"BokehJS is loading...\";\n    }\n    if (root.Bokeh !== undefined) {\n      if (el != null) {\n        el.textContent = \"BokehJS \" + root.Bokeh.version + \" successfully loaded.\";\n      }\n    } else if (Date.now() < root._bokeh_timeout) {\n      setTimeout(display_loaded, 100)\n    }\n  }\n\n\n  function run_callbacks() {\n    try {\n      root._bokeh_onload_callbacks.forEach(function(callback) { callback() });\n    }\n    finally {\n      delete root._bokeh_onload_callbacks\n    }\n    console.info(\"Bokeh: all callbacks have finished\");\n  }\n\n  function load_libs(js_urls, callback) {\n    root._bokeh_onload_callbacks.push(callback);\n    if (root._bokeh_is_loading > 0) {\n      console.log(\"Bokeh: BokehJS is being loaded, scheduling callback at\", now());\n      return null;\n    }\n    if (js_urls == null || js_urls.length === 0) {\n      run_callbacks();\n      return null;\n    }\n    console.log(\"Bokeh: BokehJS not loaded, scheduling load and callback at\", now());\n    root._bokeh_is_loading = js_urls.length;\n    for (var i = 0; i < js_urls.length; i++) {\n      var url = js_urls[i];\n      var s = document.createElement('script');\n      s.src = url;\n      s.async = false;\n      s.onreadystatechange = s.onload = function() {\n        root._bokeh_is_loading--;\n        if (root._bokeh_is_loading === 0) {\n          console.log(\"Bokeh: all BokehJS libraries loaded\");\n          run_callbacks()\n        }\n      };\n      s.onerror = function() {\n        console.warn(\"failed to load library \" + url);\n      };\n      console.log(\"Bokeh: injecting script tag for BokehJS library: \", url);\n      document.getElementsByTagName(\"head\")[0].appendChild(s);\n    }\n  };var element = document.getElementById(\"220bed6d-dd23-4883-9646-7fb8eac9184d\");\n  if (element == null) {\n    console.log(\"Bokeh: ERROR: autoload.js configured with elementid '220bed6d-dd23-4883-9646-7fb8eac9184d' but no matching script tag was found. \")\n    return false;\n  }\n\n  var js_urls = [\"https://cdn.pydata.org/bokeh/release/bokeh-0.12.16.min.js\", \"https://cdn.pydata.org/bokeh/release/bokeh-widgets-0.12.16.min.js\", \"https://cdn.pydata.org/bokeh/release/bokeh-tables-0.12.16.min.js\", \"https://cdn.pydata.org/bokeh/release/bokeh-gl-0.12.16.min.js\"];\n\n  var inline_js = [\n    function(Bokeh) {\n      Bokeh.set_log_level(\"info\");\n    },\n    \n    function(Bokeh) {\n      \n    },\n    function(Bokeh) {\n      console.log(\"Bokeh: injecting CSS: https://cdn.pydata.org/bokeh/release/bokeh-0.12.16.min.css\");\n      Bokeh.embed.inject_css(\"https://cdn.pydata.org/bokeh/release/bokeh-0.12.16.min.css\");\n      console.log(\"Bokeh: injecting CSS: https://cdn.pydata.org/bokeh/release/bokeh-widgets-0.12.16.min.css\");\n      Bokeh.embed.inject_css(\"https://cdn.pydata.org/bokeh/release/bokeh-widgets-0.12.16.min.css\");\n      console.log(\"Bokeh: injecting CSS: https://cdn.pydata.org/bokeh/release/bokeh-tables-0.12.16.min.css\");\n      Bokeh.embed.inject_css(\"https://cdn.pydata.org/bokeh/release/bokeh-tables-0.12.16.min.css\");\n    }\n  ];\n\n  function run_inline_js() {\n    \n    if ((root.Bokeh !== undefined) || (force === true)) {\n      for (var i = 0; i < inline_js.length; i++) {\n        inline_js[i].call(root, root.Bokeh);\n      }if (force === true) {\n        display_loaded();\n      }} else if (Date.now() < root._bokeh_timeout) {\n      setTimeout(run_inline_js, 100);\n    } else if (!root._bokeh_failed_load) {\n      console.log(\"Bokeh: BokehJS failed to load within specified timeout.\");\n      root._bokeh_failed_load = true;\n    } else if (force !== true) {\n      var cell = $(document.getElementById(\"220bed6d-dd23-4883-9646-7fb8eac9184d\")).parents('.cell').data().cell;\n      cell.output_area.append_execute_result(NB_LOAD_WARNING)\n    }\n\n  }\n\n  if (root._bokeh_is_loading === 0) {\n    console.log(\"Bokeh: BokehJS loaded, going straight to plotting\");\n    run_inline_js();\n  } else {\n    load_libs(js_urls, function() {\n      console.log(\"Bokeh: BokehJS plotting callback run at\", now());\n      run_inline_js();\n    });\n  }\n}(window));"
     },
     "metadata": {},
     "output_type": "display_data"
    }
   ],
   "source": [
    "output_notebook()"
   ]
  },
  {
   "cell_type": "code",
   "execution_count": 3,
   "metadata": {
    "collapsed": true
   },
   "outputs": [],
   "source": [
    "'''\n",
    "Get the clirad-lw and lblnew `param`s for all spectral bands.  \n",
    "These are returned by functions `clirad_params_atm` and\n",
    "`lblnew_params_atm`, respectively.\n",
    "'''\n",
    "\n",
    "def molecules_byband_atm():\n",
    "    return {1: {'h2o': 'atmpro'},\n",
    "            2: {'h2o': 'atmpro'}, \n",
    "            3: {'co2': 0.0004, 'h2o': 'atmpro', 'n2o': 3.2e-07},\n",
    "            4: {'co2': 0.0004, 'h2o': 'atmpro'},\n",
    "            5: {'co2': 0.0004, 'h2o': 'atmpro'},\n",
    "            6: {'co2': 0.0004, 'h2o': 'atmpro'},\n",
    "            7: {'co2': 0.0004, 'h2o': 'atmpro', 'o3': 'atmpro'},\n",
    "            8: {'h2o': 'atmpro'},\n",
    "            9: {'ch4': 1.8e-06, 'h2o': 'atmpro', 'n2o': 3.2e-07},\n",
    "            10: {'h2o': 'atmpro'},\n",
    "            11: {'co2': 0.0004, 'h2o': 'atmpro'}}\n",
    "\n",
    "\n",
    "def greyabsorbers_by_band_atm():\n",
    "    return {1: {'con': 'atmpro'},\n",
    "            2: {'con': 'atmpro'},\n",
    "            3: {'con': 'atmpro'},\n",
    "            4: {'con': 'atmpro'},\n",
    "            5: {'con': 'atmpro'},\n",
    "            6: {'con': 'atmpro'}, \n",
    "            7: {'con': 'atmpro'},\n",
    "            8: {'con': 'atmpro', 'n2o': 3.2e-7}, \n",
    "            9: {'con': 'atmpro'}, \n",
    "            10: None,\n",
    "            11: None}\n",
    "\n",
    "\n",
    "def clirad_params_atm(atmpro='mls'):\n",
    "    d = {}\n",
    "    for band, molecule in molecules_byband_atm().items():\n",
    "        for param in setup_cliradlw.test_cases():\n",
    "            if [band] == param['band'] and molecule == param['molecule']:\n",
    "                param['atmpro'] = atmpro\n",
    "                d[band] = param\n",
    "                break                \n",
    "    return d\n",
    "\n",
    "\n",
    "def clirad_params_atm_singlerun(atmpro='mls'):\n",
    "    '''\n",
    "    Returns param of clirad-lw run that is equivalent to the total\n",
    "    of all the runs listed in molecules_byband_atm().  In order\n",
    "    for the output to be compatible with clirad_data_atm(), it will\n",
    "    be a list.\n",
    "    '''\n",
    "    param0 = {'band': [1, 2, 3, 4, 5, 6, 7, 8, 9, 10, 11],\n",
    "              'commitnumber': 'a1ae169',\n",
    "              'molecule': {'ch4': 1.8e-06,\n",
    "                           'co2': 0.0004,\n",
    "                           'h2o': 'atmpro',\n",
    "                           'n2o': 3.2e-07,\n",
    "                           'o3': 'atmpro'}}\n",
    "    \n",
    "    d_atmpros = {'mls': 294, 'saw': 257, 'trp': 300}\n",
    "    \n",
    "    param = param0.copy()\n",
    "    param['atmpro'] = atmpro\n",
    "    param['tsfc'] = d_atmpros[atmpro]\n",
    "    \n",
    "    d = {}\n",
    "    d['all'] = param\n",
    "    return d\n",
    "\n",
    "\n",
    "def analysis_dirs_atm(atmpro='mls'):\n",
    "    params = clirad_params_atm(atmpro=atmpro)\n",
    "    return {band: pipe_cliradlw.get_analysis_dir(param=param,\n",
    "                                                 setup=setup_cliradlw) \n",
    "            for band, param in params.items()}\n",
    "\n",
    "\n",
    "def lblnew_params_atm(atmpro='mls'):\n",
    "    dirs = analysis_dirs_atm(atmpro=atmpro)\n",
    "    \n",
    "    d = {}\n",
    "    for band, dirname in dirs.items():\n",
    "        with open(os.path.join(dirname, 'param.py'), \n",
    "                  mode='r', encoding='utf-8') as f:\n",
    "            _, l = f.readlines()\n",
    "        \n",
    "        s = l.split('=')[1].strip()\n",
    "        d[band] = ast.literal_eval(s)\n",
    "        \n",
    "    return d\n"
   ]
  },
  {
   "cell_type": "code",
   "execution_count": 4,
   "metadata": {
    "collapsed": true
   },
   "outputs": [],
   "source": [
    "def db_getdir():\n",
    "    atmpro = 'mls'\n",
    "    params = clirad_params_atm_singlerun(atmpro=atmpro)\n",
    "    param = params['all']\n",
    "    \n",
    "    fdir = pipe_cliradlw.get_fortran_dir(param=param, \n",
    "                                         setup=setup_cliradlw)\n",
    "    return fdir\n",
    "\n",
    "\n",
    "def db_ktable():\n",
    "    fdir = db_getdir()    \n",
    "    fpath = os.path.join(fdir, 'ktable.dat')\n",
    "    \n",
    "    df = pd.read_csv(fpath, sep=r'\\s+')\n",
    "    df = df.set_index(['band', 'mid', 'il', 'it', 'g'])\n",
    "    ds = xr.Dataset.from_dataframe(df)\n",
    "    return ds\n",
    "\n",
    "\n",
    "def db_ng_dgs():\n",
    "    fdir = db_getdir()\n",
    "    fpath = os.path.join(fdir, 'ng_dgs.dat')\n",
    "    \n",
    "    df = pd.read_csv(fpath, sep=r'\\s+')\n",
    "    df = df.set_index(['band', 'mid', 'g'])\n",
    "    ds = xr.Dataset.from_dataframe(df)\n",
    "    return ds\n"
   ]
  },
  {
   "cell_type": "code",
   "execution_count": 5,
   "metadata": {
    "collapsed": true
   },
   "outputs": [],
   "source": [
    "def show_makeup():\n",
    "    df = pd.DataFrame()\n",
    "\n",
    "    for band, molecule in molecules_byband_atm().items():\n",
    "        for name, conc in molecule.items():\n",
    "            df.loc[name, band] = str(conc)\n",
    "\n",
    "    df = df.fillna(0)\n",
    "    df.columns.name = 'clirad band'\n",
    "    df.index.name = 'molecule'\n",
    "    \n",
    "    display.display(df)\n",
    "    \n",
    "    display.display(\n",
    "        display.Markdown('*TABLE.* Non-grey absorbers in the atmosphere.'))\n",
    "\n",
    "\n",
    "def show_grey_makeup():\n",
    "    df = pd.DataFrame()\n",
    "    \n",
    "    for band, molecule in greyabsorbers_by_band_atm().items():\n",
    "        if molecule == None:\n",
    "            pass\n",
    "        else:\n",
    "            for name, conc in molecule.items():\n",
    "                df.loc[name, band] = str(conc)\n",
    "                \n",
    "    df = df.fillna(0)\n",
    "    df.columns.name = 'clirad band'\n",
    "    df.index.name = 'absorber'\n",
    "    \n",
    "    display.display(df)\n",
    "    display.display(\n",
    "        display.Markdown('*TABLE.* Grey absorbers in the atmosphere.')\n",
    "    )"
   ]
  },
  {
   "cell_type": "code",
   "execution_count": 6,
   "metadata": {
    "collapsed": true
   },
   "outputs": [],
   "source": [
    "def load_output_file(path_csv):\n",
    "    '''\n",
    "    Load lblnew output .csv file to xarray.Dataset\n",
    "    \n",
    "    Parameters\n",
    "    ----------\n",
    "    path_csv: str\n",
    "              Path to the .csv file to be loaded.\n",
    "    ds: xarray.Dataset\n",
    "        Data in the input file in the form of an xarray.Dataset.\n",
    "    '''\n",
    "    toindex = ['band', 'pressure', 'igg', 'g']    \n",
    "    df = pd.read_csv(path_csv, sep=r'\\s+')\n",
    "    df = df.set_index([i for i in toindex if i in df.columns])\n",
    "    df = df.rename(columns={'sfu': 'flug',\n",
    "                            'sfd': 'fldg',\n",
    "                            'fnet': 'fnetg',\n",
    "                            'coolr': 'coolrg'})\n",
    "    ds = xr.Dataset.from_dataframe(df)\n",
    "\n",
    "    for l in ('level', 'layer'):\n",
    "        if l in ds.data_vars:\n",
    "            if len(ds[l].dims) > 1:\n",
    "                surface = {d: 0 for d in ds.dims if d != 'pressure'}\n",
    "                coord_level = ds[l][surface]\n",
    "                ds.coords[l] = ('pressure', coord_level)\n",
    "            else:\n",
    "                ds.coords[l] = ('pressure', ds[l])\n",
    "    \n",
    "    return ds"
   ]
  },
  {
   "cell_type": "code",
   "execution_count": 7,
   "metadata": {
    "collapsed": true
   },
   "outputs": [],
   "source": [
    "def lblnew_setup(param=None):\n",
    "    if 'ng_refs' in param:\n",
    "        return {'setup': setup_bestfit,\n",
    "                'fname_flux_crd': 'output_flux.dat',\n",
    "                'fname_cool_crd': 'output_coolr.dat',\n",
    "                'fname_flux_wgt': 'output_wfluxg.dat',\n",
    "                'fname_cool_wgt': 'output_wcoolrg.dat'}\n",
    "    else:\n",
    "        return {'setup': setup_overlap,\n",
    "                'fname_flux_crd': 'output_flux.dat',\n",
    "                'fname_cool_crd': 'output_coolr.dat',\n",
    "                'fname_flux_wgt': 'output_wflux.dat',\n",
    "                'fname_cool_wgt': 'output_wcoolr.dat'}\n",
    "\n",
    "    \n",
    "def load_lblnew_data(param):\n",
    "    \n",
    "    fname_dsname = [('fname_flux_crd', 'ds_flux_crd'),\n",
    "                    ('fname_cool_crd', 'ds_cool_crd'),\n",
    "                    ('fname_flux_wgt', 'ds_flux_wgt'),\n",
    "                    ('fname_cool_wgt', 'ds_cool_wgt')]\n",
    "    \n",
    "    d = lblnew_setup(param)\n",
    "    dir_fortran = pipe_lblnew.get_dir_case(param, setup=d['setup'])\n",
    "    \n",
    "    data_dict = {}\n",
    "    for fname, dsname in fname_dsname:\n",
    "        fpath = os.path.join(dir_fortran, d[fname])\n",
    "        data_dict[dsname] = load_output_file(fpath)\n",
    "    return data_dict"
   ]
  },
  {
   "cell_type": "code",
   "execution_count": 8,
   "metadata": {
    "collapsed": true
   },
   "outputs": [],
   "source": [
    "def crd_data_atm(params_atm):\n",
    "    '''\n",
    "    Parameters\n",
    "    ----------\n",
    "    \n",
    "    params_atm: dict\n",
    "                Parameter dictionary for each band.\n",
    "                \n",
    "    d: dict\n",
    "       'flux': xr.Dataset. [pressure, band]\n",
    "               Fluxes.\n",
    "       'cool': xr.Dataset. [pressure, band]\n",
    "               Cooling rate.\n",
    "    \n",
    "    '''\n",
    "    \n",
    "    results_atm = {band: load_lblnew_data(param) \n",
    "                   for band, param in params_atm.items()}\n",
    "    \n",
    "    bands = [band for band, _ in params_atm.items()]\n",
    "    fluxs = [d['ds_flux_crd'] for _, d in results_atm.items()]\n",
    "    cools = [d['ds_cool_crd'] for _, d in results_atm.items()]\n",
    "    \n",
    "    d = {}\n",
    "    d['flux'] = xr.concat(fluxs, dim=bands).rename({'concat_dim': 'band'})\n",
    "    d['cool'] = xr.concat(cools, dim=bands).rename({'concat_dim': 'band'})\n",
    "    return d        \n",
    "        \n",
    "        \n",
    "\n",
    "def clirad_data_atm(params_atm):\n",
    "    \n",
    "    dirnames = [pipe_cliradlw.get_fortran_dir(param,\n",
    "                                              setup=setup_cliradlw)\n",
    "                for _, param in params_atm.items()]\n",
    "    \n",
    "    fpaths_flux = [os.path.join(n, 'output_flux.dat') for n in dirnames]\n",
    "    fpaths_cool = [os.path.join(n, 'output_coolr.dat') for n in dirnames]\n",
    "    \n",
    "    fluxs = [load_output_file(p) for p in fpaths_flux]    \n",
    "    cools = [load_output_file(p) for p in fpaths_cool]\n",
    "    \n",
    "    d = {}\n",
    "    d['flux'] = sum(fluxs)\n",
    "    d['cool'] = sum(cools)\n",
    "    return d\n",
    "\n"
   ]
  },
  {
   "cell_type": "code",
   "execution_count": 9,
   "metadata": {
    "collapsed": true
   },
   "outputs": [],
   "source": [
    "\n",
    "\n",
    "import rtmtools.clirad.sw.wrangle as cliradwrangle\n",
    "\n",
    "import importlib\n",
    "importlib.reload(cliradwrangle)\n",
    "\n",
    "def oldclirad_data_atm():\n",
    "    '''\n",
    "    Load the OLD clirad's results. mls only.\n",
    "    '''\n",
    "    fpath = os.path.join('/chia_cluster/home/jackyu/radiation',\n",
    "                         'clirad-lw',\n",
    "                         'LW',\n",
    "                         'examples',\n",
    "                         'mls75_h2o_atmpro_co2_.0004_o3_atmpro_n2o_3.2e-7_ch4_1.8e-6_H2012',\n",
    "                         'OUTPUT_CLIRAD.dat')\n",
    "    \n",
    "    ds = cliradwrangle.load_OUTPUT_CLIRAD(readfrom=fpath)\n",
    "    \n",
    "    ds_cool = xr.Dataset()\n",
    "    ds_cool.coords['pressure'] = ('pressure', ds['layer_pressure'])\n",
    "    ds_cool.coords['band'] = ('band', ds['spectral_band'])\n",
    "    ds_cool['coolrg'] = (('band', 'pressure'), - ds['heating_rate'])\n",
    "    \n",
    "    ds_flux = xr.Dataset()\n",
    "    ds_flux.coords['pressure'] = ('pressure', ds['level_pressure'])\n",
    "    ds_flux.coords['band'] = ('band', ds['spectral_band'])\n",
    "    ds_flux['flug'] = (('band', 'pressure'), ds['flux_up'])\n",
    "    ds_flux['fldg'] = (('band', 'pressure'), ds['flux_down'])\n",
    "    ds_flux['fnetg'] = (('band', 'pressure'), ds['net_flux'])\n",
    "    \n",
    "    \n",
    "    d = {}\n",
    "    d['cool'] = ds_cool\n",
    "    d['flux'] = ds_flux\n",
    "    return d\n"
   ]
  },
  {
   "cell_type": "code",
   "execution_count": 10,
   "metadata": {
    "collapsed": true
   },
   "outputs": [],
   "source": [
    "def fmt_cool(ds_in):\n",
    "    ds = ds_in.copy(deep=True)\n",
    "    if 'igg' in ds.dims:\n",
    "        ds = ds.sel(igg=1)\n",
    "\n",
    "    if 'g' in ds.dims:\n",
    "        ds = ds.sum('g')\n",
    "            \n",
    "    if 'band' in ds.dims:\n",
    "        try:\n",
    "            ds = ds.squeeze('band')\n",
    "        except ValueError:\n",
    "            ds = ds.sum('band')\n",
    "                \n",
    "    return ds['coolrg']\n",
    "\n",
    "\n",
    "\n",
    "def nice_xlims(pltdata=None, prange=None):\n",
    "    \n",
    "    def get_slice(srs):\n",
    "        return srs.sel(pressure=slice(*prange))\n",
    "    \n",
    "    srss = [d['srs'] for d in pltdata]\n",
    "    vmin = min([get_slice(srs).min() for srs in srss])\n",
    "    vmax = max([get_slice(srs).max() for srs in srss])\n",
    "    dv = (vmax - vmin) * .01\n",
    "    return float(vmin - dv), float(vmax + dv)\n",
    "\n",
    "\n",
    "    \n",
    "def plt_cool_bokeh(pltdata=None, \n",
    "                   y_axis_type='linear', prange=(50, 1050)):\n",
    "    \n",
    "    ymin = 1e-2 \n",
    "    ymax = 1020\n",
    "    \n",
    "    p2 = figure(y_axis_type=y_axis_type, plot_width=300)\n",
    "    xmin, xmax = nice_xlims(pltdata, prange=prange)\n",
    "    \n",
    "    rs = []\n",
    "    for d in pltdata:\n",
    "        rd = []\n",
    "        if 'marker' in d:\n",
    "            r_mark = getattr(p2, d['marker'])(d['srs'].values, \n",
    "                        d['srs'].coords['pressure'].values,\n",
    "                        color=d['color'], alpha=.7)\n",
    "            rd.append(r_mark)\n",
    "        r_line = p2.line(d['srs'].values, \n",
    "                         d['srs'].coords['pressure'].values,\n",
    "                         color=d['color'], alpha=d['alpha'], \n",
    "                         line_width=d['line_width'], \n",
    "                         line_dash=d['line_dash'])\n",
    "        rd.append(r_line)\n",
    "      \n",
    "        rs.append(rd)\n",
    "        \n",
    "    p2.y_range = Range1d(ymax, ymin)  \n",
    "    p2.yaxis.axis_label = 'pressure [mb]'\n",
    "    \n",
    "    p2.x_range = Range1d(xmin, xmax)\n",
    "    p2.xaxis.axis_label = 'cooling rate [K/day]'\n",
    "    \n",
    "    items = [(d['label'], r) for r, d in zip(rs, pltdata)]\n",
    "    legend = Legend(items=items, location=(10, 0))\n",
    "    legend.label_text_font_size = '8pt'\n",
    "    p2.add_layout(legend, 'above')\n",
    "    p2.legend.orientation = 'horizontal'\n",
    "    p2.legend.location = 'top_center'\n",
    "    \n",
    "    return p2"
   ]
  },
  {
   "cell_type": "code",
   "execution_count": 11,
   "metadata": {
    "collapsed": true
   },
   "outputs": [],
   "source": [
    "def pltdata_cool(atmpro='mls'):\n",
    "    \n",
    "    d_clirad_singlerun = clirad_data_atm(\n",
    "        clirad_params_atm_singlerun(atmpro=atmpro))\n",
    "    d_clirad = clirad_data_atm(clirad_params_atm(atmpro=atmpro))\n",
    "    d_crd = crd_data_atm(lblnew_params_atm(atmpro=atmpro))\n",
    "\n",
    "    ds_clirad_singlerun = d_clirad_singlerun['cool']\n",
    "    ds_clirad = d_clirad['cool']\n",
    "    ds_crd = d_crd['cool']\n",
    "\n",
    "    colors = all_palettes['Set1'][4]\n",
    "    \n",
    "    data = [\n",
    "        {'label': 'CLIRAD (single-run)',\n",
    "        'srs': fmt_cool(ds_clirad_singlerun),\n",
    "        'line_dash': 'dashed', 'line_width': 5,\n",
    "        'color': colors[1], 'alpha': .6},\n",
    "        {'label': 'CRD',\n",
    "         'srs': fmt_cool(ds_crd),\n",
    "         'line_dash': 'solid', 'line_width': 1.5,\n",
    "         'marker': 'circle', 'marker_size': 5,\n",
    "         'color': colors[2], 'alpha': 1}\n",
    "    ]\n",
    "#        {'label': 'CLIRAD',\n",
    "#         'srs': fmt_cool(ds_clirad),\n",
    "#         'line_dash': 'dashed', 'line_width': 5,\n",
    "#         'color': colors[0], 'alpha': .6}\n",
    "        \n",
    "\n",
    "    \n",
    "    # include old CLIRAD's results for mls profile\n",
    "    if atmpro == 'mls':\n",
    "        d_oldclirad = oldclirad_data_atm()\n",
    "        ds_oldclirad = d_oldclirad['cool']        \n",
    "        data.append(\n",
    "            {'label': 'old CLIRAD (H2012)',\n",
    "             'srs': fmt_cool(ds_oldclirad),\n",
    "             'line_dash': 'solid', 'line_width': 1.5,\n",
    "             'marker': 'square', 'marker_size': 3,\n",
    "             'color': colors[3], 'alpha': .5})\n",
    "    return data\n",
    "\n",
    "\n",
    "def pltdata_cooldiff(atmpro='mls'):\n",
    "    \n",
    "    d_clirad_singlerun = clirad_data_atm(\n",
    "        clirad_params_atm_singlerun(atmpro=atmpro))\n",
    "    d_clirad = clirad_data_atm(clirad_params_atm(atmpro=atmpro))\n",
    "    d_crd = crd_data_atm(lblnew_params_atm(atmpro=atmpro))\n",
    "    \n",
    "    ds_clirad_singlerun = d_clirad_singlerun['cool']\n",
    "    ds_clirad = d_clirad['cool']\n",
    "    ds_crd = d_crd['cool']\n",
    "    \n",
    "    ds_diff = ds_clirad_singlerun - ds_crd\n",
    "    \n",
    "    colors = all_palettes['Set1'][4]\n",
    "    \n",
    "    data = [\n",
    "        {'label': 'CLIRAD (single-run) - CRD',\n",
    "         'srs': fmt_cool(ds_diff),\n",
    "         'line_dash': 'solid', 'line_width': 1.5, \n",
    "         'marker': 'circle', 'marker_size': 7,\n",
    "         'color': colors[3], 'alpha': .8}\n",
    "    ]\n",
    "    \n",
    "    # include old CLIRAD's results for mls profile\n",
    "    if atmpro == 'mls':\n",
    "        d_oldclirad = oldclirad_data_atm()\n",
    "        ds_oldclirad = d_oldclirad['cool']\n",
    "        ds_oldclirad.coords['pressure'] = ds_crd.coords['pressure']\n",
    "        ds_diff_old = ds_oldclirad.sum('band') - ds_crd.sum('band')\n",
    "        data.append(\n",
    "            {'label': 'old CLIRAD (H2012) - CRD',\n",
    "             'srs': fmt_cool(ds_diff_old),\n",
    "             'line_dash': 'dashed', 'line_width': 4,\n",
    "             'color': colors[1], 'alpha': .5}\n",
    "        )\n",
    "    return data\n",
    "\n",
    "\n",
    "def show_cool(atmpro='mls'):\n",
    "    \n",
    "    data_cool = pltdata_cool(atmpro=atmpro)\n",
    "    p_cool_liny = plt_cool_bokeh(pltdata=data_cool)\n",
    "    p_cool_logy = plt_cool_bokeh(pltdata=data_cool, \n",
    "                                 y_axis_type='log',\n",
    "                                 prange=(.01, 200))\n",
    "    \n",
    "    data_cooldiff = pltdata_cooldiff(atmpro=atmpro)\n",
    "    p_cooldiff_logy = plt_cool_bokeh(pltdata=data_cooldiff,\n",
    "                                     y_axis_type='log',\n",
    "                                     prange=(.01, 200))\n",
    "    \n",
    "    everything = gridplot(p_cool_liny, p_cool_logy, \n",
    "                          p_cooldiff_logy,\n",
    "                          ncols=3)\n",
    "    show(everything)\n",
    "    display.display(\n",
    "        display.Markdown('*FIGURE.* Cooling rates & difference.'))\n",
    "\n",
    "\n",
    "    "
   ]
  },
  {
   "cell_type": "code",
   "execution_count": null,
   "metadata": {
    "collapsed": true
   },
   "outputs": [],
   "source": []
  },
  {
   "cell_type": "code",
   "execution_count": 12,
   "metadata": {
    "collapsed": true,
    "scrolled": false
   },
   "outputs": [],
   "source": [
    "\n",
    "\n",
    "def hist_band_vs_flux(da, title='Title'):\n",
    "       \n",
    "    bands = [str(b.values) for b in da['band']]\n",
    "\n",
    "    source = ColumnDataSource(\n",
    "        data={'band': bands, 'flux': da.values})\n",
    "\n",
    "    p = figure(x_range=bands, title=title)\n",
    "    p.vbar(source=source, x='band', top='flux', width=.9)\n",
    "\n",
    "    p.yaxis.axis_label = 'flux (W m-2)'\n",
    "    p.xaxis.axis_label = 'spectral band'\n",
    "    \n",
    "    return p\n",
    "\n",
    "\n",
    "def show_hist_flux(atmpro='mls'):\n",
    "    ds_crd = crd_data_atm(lblnew_params_atm(atmpro=atmpro))['flux']\n",
    "    ds_clirad = clirad_data_atm(\n",
    "        clirad_params_atm(atmpro=atmpro))['flux']\n",
    "    ds_clirad_singlerun = clirad_data_atm(\n",
    "        clirad_params_atm_singlerun(atmpro=atmpro))['flux']\n",
    "    \n",
    "    ip, varname = 0, 'flug'\n",
    "    da = (ds_clirad_singlerun - ds_crd).isel(pressure=ip)[varname]\n",
    "    p_toa = hist_band_vs_flux(da, \n",
    "        title='TOA flux. CLIRAD (single-run) - CRD.')\n",
    "\n",
    "    ip, varname = -1, 'fldg'\n",
    "    da = (ds_clirad_singlerun - ds_crd).isel(pressure=ip)[varname]\n",
    "    p_sfc = hist_band_vs_flux(da, \n",
    "        title='SFC flux. CLIRAD (single-run) - CRD.')    \n",
    "    \n",
    "    atm_crd = (ds_crd.isel(pressure=0) \n",
    "               - ds_crd.isel(pressure=-1))['fnetg']\n",
    "    atm_clirad_singlerun = (ds_clirad_singlerun.isel(pressure=0) \n",
    "                  - ds_clirad_singlerun.isel(pressure=-1))['fnetg']\n",
    "    da = atm_clirad_singlerun - atm_crd\n",
    "    p_atm = hist_band_vs_flux(da, \n",
    "        title='Atmosphere heating. CLIRAD (single-run) - CRD.')\n",
    "\n",
    "    everything = gridplot(p_toa, p_sfc, p_atm, ncols=3, \n",
    "                          plot_width=300, plot_height=300)\n",
    "    \n",
    "    show(everything)\n",
    "    display.display(\n",
    "        display.Markdown('*FIGURE.* Difference between CLIRAD and CRD'\n",
    "          ' in TOA, SFC and net atmosphere flux,'\n",
    "          ' in each spectral band.'))\n",
    "\n",
    "\n",
    "    \n",
    "def show_tb_flux(atmpro='mls'):\n",
    "    ds_crd = crd_data_atm(lblnew_params_atm(atmpro=atmpro))['flux']\n",
    "    olr_crd = ds_crd['flug'].isel(pressure=0)\n",
    "    sfc_crd = ds_crd['fldg'].isel(pressure=-1)\n",
    "    atm_crd = (ds_crd.isel(pressure=0)\n",
    "               - ds_crd.isel(pressure=-1))['fnetg']\n",
    "    \n",
    "    ds_clirad = clirad_data_atm(\n",
    "        clirad_params_atm(atmpro=atmpro))['flux']\n",
    "    olr_clirad = ds_clirad['flug'].isel(pressure=0)\n",
    "    sfc_clirad = ds_clirad['fldg'].isel(pressure=-1)\n",
    "    atm_clirad = (ds_clirad.isel(pressure=0)\n",
    "                  - ds_clirad.isel(pressure=-1))['fnetg']\n",
    "\n",
    "    ds_clirad_singlerun = clirad_data_atm(\n",
    "        clirad_params_atm_singlerun(atmpro=atmpro))['flux']\n",
    "    olr_clirad_singlerun = ds_clirad_singlerun['flug'].isel(pressure=0)\n",
    "    sfc_clirad_singlerun = ds_clirad_singlerun['fldg'].isel(pressure=-1)\n",
    "    atm_clirad_singlerun = (ds_clirad_singlerun.isel(pressure=0)\n",
    "                  - ds_clirad_singlerun.isel(pressure=-1))['fnetg']\n",
    "    \n",
    "    if atmpro == 'mls':\n",
    "        ds_oldclirad = oldclirad_data_atm()['flux']\n",
    "        ds_oldclirad['pressure'] = ds_crd['pressure']\n",
    "        olr_oldclirad = ds_oldclirad['flug'].isel(pressure=0)\n",
    "        sfc_oldclirad = ds_oldclirad['fldg'].isel(pressure=-1)\n",
    "        atm_oldclirad = (ds_oldclirad.isel(pressure=0)\n",
    "                         - ds_oldclirad.isel(pressure=-1))['fnetg']\n",
    "        \n",
    "    \n",
    "    \n",
    "    df = pd.DataFrame()\n",
    "    df.index.name = 'Sum over bands'\n",
    "    \n",
    "    if atmpro == 'mls':\n",
    "        df.loc['old CLIRAD - CRD', 'OLR flux'] = (olr_oldclirad.sum('band') - olr_crd.sum('band')).values\n",
    "        df.loc['old CLIRAD - CRD', 'SFC flux'] = (sfc_oldclirad.sum('band') - sfc_crd.sum('band')).values\n",
    "        df.loc['old CLIRAD - CRD', 'ATM heating'] = (atm_oldclirad.sum('band') - atm_crd.sum('band')).values\n",
    "    \n",
    "    df.loc['CLIRAD (single-run) - CRD', 'OLR flux'] = (olr_clirad_singlerun - olr_crd).sum('band').values\n",
    "    df.loc['CLIRAD (single-run) - CRD', 'SFC flux'] = (sfc_clirad_singlerun - sfc_crd).sum('band').values\n",
    "    df.loc['CLIRAD (single-run) - CRD', 'ATM heating'] = (atm_clirad_singlerun - atm_crd).sum('band').values\n",
    "\n",
    "    df.loc['CRD', 'OLR flux'] = olr_crd.sum('band').values\n",
    "    df.loc['CRD', 'SFC flux'] = sfc_crd.sum('band').values\n",
    "    df.loc['CRD', 'ATM heating'] = atm_crd.sum('band').values\n",
    "        \n",
    "    df = df.astype('float').round(2)\n",
    "    \n",
    "    display.display(df)\n",
    "    display.display(\n",
    "        display.Markdown('*TABLE.* Difference between CLIRAD and CRD'\n",
    "          ' in TOA, SFC and net atmosphere flux,'\n",
    "          ' over all spectral bands. CRD\\'s'\n",
    "          ' TOA, SFC and net atmosphere flux,'\n",
    "          ' over all spectral bands.'))\n"
   ]
  },
  {
   "cell_type": "code",
   "execution_count": 13,
   "metadata": {
    "scrolled": false
   },
   "outputs": [
    {
     "data": {
      "text/markdown": [
       "## Results over entire range of molecules and spectral bands"
      ],
      "text/plain": [
       "<IPython.core.display.Markdown object>"
      ]
     },
     "metadata": {},
     "output_type": "display_data"
    },
    {
     "data": {
      "text/markdown": [
       "### Table of Contents"
      ],
      "text/plain": [
       "<IPython.core.display.Markdown object>"
      ]
     },
     "metadata": {},
     "output_type": "display_data"
    },
    {
     "data": {
      "text/html": [
       "<a href=\"#Makeup_of_atmosphere.\">Makeup of atmosphere.</a>"
      ],
      "text/plain": [
       "<IPython.core.display.HTML object>"
      ]
     },
     "metadata": {},
     "output_type": "display_data"
    },
    {
     "data": {
      "text/markdown": [
       "**mid-latitude summer**"
      ],
      "text/plain": [
       "<IPython.core.display.Markdown object>"
      ]
     },
     "metadata": {},
     "output_type": "display_data"
    },
    {
     "data": {
      "text/html": [
       "<a href=\"#Cooling_rates._mls.\">Cooling rates. mls.</a>"
      ],
      "text/plain": [
       "<IPython.core.display.HTML object>"
      ]
     },
     "metadata": {},
     "output_type": "display_data"
    },
    {
     "data": {
      "text/html": [
       "<a href=\"#Fluxes._mls.\">Fluxes. mls.</a>"
      ],
      "text/plain": [
       "<IPython.core.display.HTML object>"
      ]
     },
     "metadata": {},
     "output_type": "display_data"
    },
    {
     "data": {
      "text/markdown": [
       "**sub-arctic winter**"
      ],
      "text/plain": [
       "<IPython.core.display.Markdown object>"
      ]
     },
     "metadata": {},
     "output_type": "display_data"
    },
    {
     "data": {
      "text/html": [
       "<a href=\"#Cooling_rates._saw.\">Cooling rates. saw.</a>"
      ],
      "text/plain": [
       "<IPython.core.display.HTML object>"
      ]
     },
     "metadata": {},
     "output_type": "display_data"
    },
    {
     "data": {
      "text/html": [
       "<a href=\"#Fluxes._saw.\">Fluxes. saw.</a>"
      ],
      "text/plain": [
       "<IPython.core.display.HTML object>"
      ]
     },
     "metadata": {},
     "output_type": "display_data"
    },
    {
     "data": {
      "text/markdown": [
       "**tropical**"
      ],
      "text/plain": [
       "<IPython.core.display.Markdown object>"
      ]
     },
     "metadata": {},
     "output_type": "display_data"
    },
    {
     "data": {
      "text/html": [
       "<a href=\"#Cooling_rates._trp.\">Cooling rates. trp.</a>"
      ],
      "text/plain": [
       "<IPython.core.display.HTML object>"
      ]
     },
     "metadata": {},
     "output_type": "display_data"
    },
    {
     "data": {
      "text/html": [
       "<a href=\"#Fluxes._trp.\">Fluxes. trp.</a>"
      ],
      "text/plain": [
       "<IPython.core.display.HTML object>"
      ]
     },
     "metadata": {},
     "output_type": "display_data"
    },
    {
     "data": {
      "text/html": [
       "<a id=\"Makeup_of_atmosphere.\"></a>"
      ],
      "text/plain": [
       "<IPython.core.display.HTML object>"
      ]
     },
     "metadata": {},
     "output_type": "display_data"
    },
    {
     "data": {
      "text/markdown": [
       "# Makeup of atmosphere."
      ],
      "text/plain": [
       "<IPython.core.display.Markdown object>"
      ]
     },
     "metadata": {},
     "output_type": "display_data"
    },
    {
     "data": {
      "text/html": [
       "<div>\n",
       "<style scoped>\n",
       "    .dataframe tbody tr th:only-of-type {\n",
       "        vertical-align: middle;\n",
       "    }\n",
       "\n",
       "    .dataframe tbody tr th {\n",
       "        vertical-align: top;\n",
       "    }\n",
       "\n",
       "    .dataframe thead th {\n",
       "        text-align: right;\n",
       "    }\n",
       "</style>\n",
       "<table border=\"1\" class=\"dataframe\">\n",
       "  <thead>\n",
       "    <tr style=\"text-align: right;\">\n",
       "      <th>clirad band</th>\n",
       "      <th>1</th>\n",
       "      <th>2</th>\n",
       "      <th>3</th>\n",
       "      <th>4</th>\n",
       "      <th>5</th>\n",
       "      <th>6</th>\n",
       "      <th>7</th>\n",
       "      <th>8</th>\n",
       "      <th>9</th>\n",
       "      <th>10</th>\n",
       "      <th>11</th>\n",
       "    </tr>\n",
       "    <tr>\n",
       "      <th>molecule</th>\n",
       "      <th></th>\n",
       "      <th></th>\n",
       "      <th></th>\n",
       "      <th></th>\n",
       "      <th></th>\n",
       "      <th></th>\n",
       "      <th></th>\n",
       "      <th></th>\n",
       "      <th></th>\n",
       "      <th></th>\n",
       "      <th></th>\n",
       "    </tr>\n",
       "  </thead>\n",
       "  <tbody>\n",
       "    <tr>\n",
       "      <th>h2o</th>\n",
       "      <td>atmpro</td>\n",
       "      <td>atmpro</td>\n",
       "      <td>atmpro</td>\n",
       "      <td>atmpro</td>\n",
       "      <td>atmpro</td>\n",
       "      <td>atmpro</td>\n",
       "      <td>atmpro</td>\n",
       "      <td>atmpro</td>\n",
       "      <td>atmpro</td>\n",
       "      <td>atmpro</td>\n",
       "      <td>atmpro</td>\n",
       "    </tr>\n",
       "    <tr>\n",
       "      <th>co2</th>\n",
       "      <td>0</td>\n",
       "      <td>0</td>\n",
       "      <td>0.0004</td>\n",
       "      <td>0.0004</td>\n",
       "      <td>0.0004</td>\n",
       "      <td>0.0004</td>\n",
       "      <td>0.0004</td>\n",
       "      <td>0</td>\n",
       "      <td>0</td>\n",
       "      <td>0</td>\n",
       "      <td>0.0004</td>\n",
       "    </tr>\n",
       "    <tr>\n",
       "      <th>n2o</th>\n",
       "      <td>0</td>\n",
       "      <td>0</td>\n",
       "      <td>3.2e-07</td>\n",
       "      <td>0</td>\n",
       "      <td>0</td>\n",
       "      <td>0</td>\n",
       "      <td>0</td>\n",
       "      <td>0</td>\n",
       "      <td>3.2e-07</td>\n",
       "      <td>0</td>\n",
       "      <td>0</td>\n",
       "    </tr>\n",
       "    <tr>\n",
       "      <th>o3</th>\n",
       "      <td>0</td>\n",
       "      <td>0</td>\n",
       "      <td>0</td>\n",
       "      <td>0</td>\n",
       "      <td>0</td>\n",
       "      <td>0</td>\n",
       "      <td>atmpro</td>\n",
       "      <td>0</td>\n",
       "      <td>0</td>\n",
       "      <td>0</td>\n",
       "      <td>0</td>\n",
       "    </tr>\n",
       "    <tr>\n",
       "      <th>ch4</th>\n",
       "      <td>0</td>\n",
       "      <td>0</td>\n",
       "      <td>0</td>\n",
       "      <td>0</td>\n",
       "      <td>0</td>\n",
       "      <td>0</td>\n",
       "      <td>0</td>\n",
       "      <td>0</td>\n",
       "      <td>1.8e-06</td>\n",
       "      <td>0</td>\n",
       "      <td>0</td>\n",
       "    </tr>\n",
       "  </tbody>\n",
       "</table>\n",
       "</div>"
      ],
      "text/plain": [
       "clirad band      1       2        3       4       5       6       7       8   \\\n",
       "molecule                                                                       \n",
       "h2o          atmpro  atmpro   atmpro  atmpro  atmpro  atmpro  atmpro  atmpro   \n",
       "co2               0       0   0.0004  0.0004  0.0004  0.0004  0.0004       0   \n",
       "n2o               0       0  3.2e-07       0       0       0       0       0   \n",
       "o3                0       0        0       0       0       0  atmpro       0   \n",
       "ch4               0       0        0       0       0       0       0       0   \n",
       "\n",
       "clirad band       9       10      11  \n",
       "molecule                              \n",
       "h2o           atmpro  atmpro  atmpro  \n",
       "co2                0       0  0.0004  \n",
       "n2o          3.2e-07       0       0  \n",
       "o3                 0       0       0  \n",
       "ch4          1.8e-06       0       0  "
      ]
     },
     "metadata": {},
     "output_type": "display_data"
    },
    {
     "data": {
      "text/markdown": [
       "*TABLE.* Non-grey absorbers in the atmosphere."
      ],
      "text/plain": [
       "<IPython.core.display.Markdown object>"
      ]
     },
     "metadata": {},
     "output_type": "display_data"
    },
    {
     "data": {
      "text/html": [
       "<a id=\"Cooling_rates._mls.\"></a>"
      ],
      "text/plain": [
       "<IPython.core.display.HTML object>"
      ]
     },
     "metadata": {},
     "output_type": "display_data"
    },
    {
     "data": {
      "text/markdown": [
       "# Cooling rates. mls."
      ],
      "text/plain": [
       "<IPython.core.display.Markdown object>"
      ]
     },
     "metadata": {},
     "output_type": "display_data"
    },
    {
     "data": {
      "text/html": [
       "\n",
       "<div class=\"bk-root\">\n",
       "    <div class=\"bk-plotdiv\" id=\"e0a4c540-b9a6-4f83-8b4a-1dded63cbfc3\"></div>\n",
       "</div>"
      ]
     },
     "metadata": {},
     "output_type": "display_data"
    },
    {
     "data": {
      "application/javascript": [
       "(function(root) {\n",
       "  function embed_document(root) {\n",
       "    \n",
       "  var docs_json = {\"a34b05f7-08a8-45d9-b0ff-1cb6f88e1068\":{\"roots\":{\"references\":[{\"attributes\":{\"source\":{\"id\":\"6f6e78e4-80df-45aa-8179-052cef903e66\",\"type\":\"ColumnDataSource\"}},\"id\":\"225c6e60-0190-43a2-9e10-0827f35a5339\",\"type\":\"CDSView\"},{\"attributes\":{\"callback\":null,\"data\":{\"x\":{\"__ndarray__\":\"FsMuwOEWRMAVV8Tg6aogwAAHkLmsZQLADlih88nU/D8WLn1ZLmoOQA9AX/7hzQ5As+E94FofBEA46rduwCnlP7Xj2LORsem/DUTl27vU9b/SqmZRC4fxv7zMM7gMHd+/tBoGrHy6sD8Xu0D3J7vZPySbaKqIKd8/rG/5Y5o91D/mG/pC1J2hP/y+g53BqNC/EvXVTIMr4L90icHxJZngv8T3BcZO1dG/CBDeM5QEcb8LYXT1UKGpvxCKJD8An9O/DZfNjyIV17+MSFpp/BOwv7PS9glk1dg/MVX51Qaj1z/K0dt6WzG5P3Q0oayzmJ0/gecUlSVG0T+ZHB7n3wLWP0ohKxaqk8Q/+SbyqZCflb/9rW8cJWWJP5K5VxciI7E/2AJeOZnIjD8qtb17/+6ov2+h4cysd7W/yN9RxJ04uL92254CXrS0v5hoKmZTo66/h43+T0VGrL/uTK+2Q7OUvwVB0zYdVbO/mxXh71a1s7+q65ZPkRqfv/487aJ0DqC/m6kA0bD1pL/7CWUmd62ev6xs1OxmEFm/K5WGwDJ+mT9Ns47Aw9CpP/hMANSFfrI/ka65rXFZuD/dkvYMhpa9PzZPKRXm28E/IHqg/sSbyD8Nyk7uYIzQPyc3BQZN2tQ/rNyAa8Dy1z/4Yaq3Cy/ZP55ESkJJGdk/J9xJAJIb2T83+LWDx7bZP2lAff6NE9w/KsNYqReR3z9EQGIUNFjiPxTI2EiTVOU/aKJeYHXE6D/zP0BI5IzsP8tDtMsvQvA/LnyOIsM78j+Q0gaFXCD0P3SJWAEUJPY/\",\"dtype\":\"float64\",\"shape\":[75]},\"y\":{\"__ndarray__\":\"GhExyth1ND/Sv8nbtpRIP2vylNV0PVE/aTum7souWD/At0SJ8fVgPw3Iuahxymc/MSNhhJWvcD/bTfBN02d3P2zb5nxnaoA/CD5h5MAGhz8NmeH1TyaQP+zrCsc9p5Y/LbKd76fGnz/bLW5ISEmmPww9YvTcQq8/JV2OstnstT8Er5Y7M8G+P0c+r3jqkcU/5h99k6ZBzj88bCIzFzjVP4enV8oyxN0//yH99nXg5D8qOpLLf0jtP5kqGJXUifQ/c9cS8kHP/D+/DpwzojQEQIEmwoanVwxA4lgXt9HgE0BSSZ2AJuIbQAMJih9jjiNA5q4l5INuK0AwTKYKRj0zQNv5fmq8/DpAaCJseHrtQkB/+zpwzoxKQM3MzMzMeFJAZmZmZmZqWEAAAAAAAFxeQM3MzMzMJmJAmpmZmZkfZUBmZmZmZhhoQDMzMzMzEWtAAAAAAAAKbkBmZmZmZoFwQM3MzMzM/XFAMzMzMzN6c0CamZmZmfZ0QAAAAAAAc3ZAZmZmZmbvd0DNzMzMzGt5QDMzMzMz6HpAmpmZmZlkfEAAAAAAAOF9QGZmZmZmXX9AZmZmZuZsgECamZmZGSuBQM3MzMxM6YFAAAAAAICngkAzMzMzs2WDQGZmZmbmI4RAmpmZmRnihEDNzMzMTKCFQAAAAACAXoZAMzMzM7Mch0BmZmZm5tqHQJqZmZkZmYhAzczMzExXiUAAAAAAgBWKQDMzMzOz04pAZmZmZuaRi0CamZmZGVCMQM3MzMxMDo1AAAAAAIDMjUAzMzMzs4qOQGZmZmbmSI9A\",\"dtype\":\"float64\",\"shape\":[75]}},\"selected\":{\"id\":\"7cf68f62-db11-4499-82c8-b557c9fa92fe\",\"type\":\"Selection\"},\"selection_policy\":{\"id\":\"97076737-1b41-4fbe-ae90-786698f5d7af\",\"type\":\"UnionRenderers\"}},\"id\":\"6f6e78e4-80df-45aa-8179-052cef903e66\",\"type\":\"ColumnDataSource\"},{\"attributes\":{\"data_source\":{\"id\":\"594bfb51-2f98-48fb-a8ee-4357397bdbee\",\"type\":\"ColumnDataSource\"},\"glyph\":{\"id\":\"bba3bd39-f888-4d18-938a-31a9480bcd90\",\"type\":\"Line\"},\"hover_glyph\":null,\"muted_glyph\":null,\"nonselection_glyph\":{\"id\":\"74e8abef-bca2-4325-8ec6-845921113960\",\"type\":\"Line\"},\"selection_glyph\":null,\"view\":{\"id\":\"a94a81f5-74bd-403d-87ef-df534eb246e8\",\"type\":\"CDSView\"}},\"id\":\"07cf5b45-f4ea-41e8-b10e-270336e1b27e\",\"type\":\"GlyphRenderer\"},{\"attributes\":{\"callback\":null,\"data\":{\"x\":{\"__ndarray__\":\"cm1sTMT3VEDEyvjosEJHQOKI6DjzCUNArgQWV9awPkB9Lm8XG3M4QEz+Qv6iYzNA7eV8HaPLLkCX1QHyTpMoQFBmYSYetiNAUB04GtGpH0AmFyVE5j8ZQJca9QPGqBNALJP+OOHHDEBNxaf7QF8AQKtislomWuw/cW2dcO6A9T/uJJvfPu0EQIaQLTI/JQ1AxGiII+PmEkCJvfVeuCsYQD6ZBhGbHB9AXQw69DTYJEAsubcwKucqQNuT9D5OmipAJyi3szEJJUBlNebh5WkgQDDcPHBr2xlArtlANXuQFEBdJadFHckQQI2Avh0ZsQtAjYiwt1rsBUCL0SDoVBgAQK6C0nEEjvc/CggLSme58T9sXU2orFPnP0v0JYz9Gdg/vT38vxYczD9nBQTe6kHHP1IhkEXJwKo/8OZnhCVAub+xtVgCpmqzP6DUpY6g0+k/PKK3T1h4+D8RTDjQc1EAQG/dAQs7TwJAQt2eHpPLAEBWEh074x//PyCap9ZSGf4/rEzaTySm/T+7aXhHRmr9P688KeqeNP0/ruZ4EemD/D8olrZcn9T7P0+vNc9hW/s/i9VVL+4P+z+0NzC24uz6P8731Kza8vo/xFf4SHzq+z+gYyHpvHb8P68ROkiFevw/BAjYdCga/D8AUp8VbW77P3JrF/nKmvo/qCQeGfq++T/dplwHJfn4P2G4p+Uva/g/OzZ0RqMZ+D8dmn/iar73P/OuA7Ka8PY/gaaeQHGn9T9hkyjAH1L0P3aZGhdAU/M/n8VP/g7P8j+90HxHNvfyPwhNBtgrqvk/\",\"dtype\":\"float64\",\"shape\":[75]},\"y\":{\"__ndarray__\":\"GhExyth1ND/Sv8nbtpRIP2vylNV0PVE/aTum7souWD/At0SJ8fVgPw3Iuahxymc/MSNhhJWvcD/bTfBN02d3P2zb5nxnaoA/CD5h5MAGhz8NmeH1TyaQP+zrCsc9p5Y/LbKd76fGnz/bLW5ISEmmPww9YvTcQq8/JV2OstnstT8Er5Y7M8G+P0c+r3jqkcU/5h99k6ZBzj88bCIzFzjVP4enV8oyxN0//yH99nXg5D8qOpLLf0jtP5kqGJXUifQ/c9cS8kHP/D+/DpwzojQEQIEmwoanVwxA4lgXt9HgE0BSSZ2AJuIbQAMJih9jjiNA5q4l5INuK0AwTKYKRj0zQNv5fmq8/DpAaCJseHrtQkB/+zpwzoxKQM3MzMzMeFJAZmZmZmZqWEAAAAAAAFxeQM3MzMzMJmJAmpmZmZkfZUBmZmZmZhhoQDMzMzMzEWtAAAAAAAAKbkBmZmZmZoFwQM3MzMzM/XFAMzMzMzN6c0CamZmZmfZ0QAAAAAAAc3ZAZmZmZmbvd0DNzMzMzGt5QDMzMzMz6HpAmpmZmZlkfEAAAAAAAOF9QGZmZmZmXX9AZmZmZuZsgECamZmZGSuBQM3MzMxM6YFAAAAAAICngkAzMzMzs2WDQGZmZmbmI4RAmpmZmRnihEDNzMzMTKCFQAAAAACAXoZAMzMzM7Mch0BmZmZm5tqHQJqZmZkZmYhAzczMzExXiUAAAAAAgBWKQDMzMzOz04pAZmZmZuaRi0CamZmZGVCMQM3MzMxMDo1AAAAAAIDMjUAzMzMzs4qOQGZmZmbmSI9A\",\"dtype\":\"float64\",\"shape\":[75]}},\"selected\":{\"id\":\"9b62991d-a8c4-448c-9a28-8a7ddf42f21b\",\"type\":\"Selection\"},\"selection_policy\":{\"id\":\"c2236f24-7fe2-4752-a07f-4e2fefd51293\",\"type\":\"UnionRenderers\"}},\"id\":\"37d229be-1563-4ca8-8d6b-57a534e29a22\",\"type\":\"ColumnDataSource\"},{\"attributes\":{\"data_source\":{\"id\":\"fb9fcaed-765c-4710-b2e5-38d5036d337a\",\"type\":\"ColumnDataSource\"},\"glyph\":{\"id\":\"5c50ae61-7694-4845-ae11-34c163f9859d\",\"type\":\"Line\"},\"hover_glyph\":null,\"muted_glyph\":null,\"nonselection_glyph\":{\"id\":\"00b720fd-61ae-4595-9691-a3dd296c334d\",\"type\":\"Line\"},\"selection_glyph\":null,\"view\":{\"id\":\"176161b6-6618-4f2a-a89e-bc41a4fea2d1\",\"type\":\"CDSView\"}},\"id\":\"ccadce36-b589-412b-8191-e0b48b040cd7\",\"type\":\"GlyphRenderer\"},{\"attributes\":{\"callback\":null,\"data\":{\"x\":{\"__ndarray__\":\"FsMuwOEWRMAVV8Tg6aogwAAHkLmsZQLADlih88nU/D8WLn1ZLmoOQA9AX/7hzQ5As+E94FofBEA46rduwCnlP7Xj2LORsem/DUTl27vU9b/SqmZRC4fxv7zMM7gMHd+/tBoGrHy6sD8Xu0D3J7vZPySbaKqIKd8/rG/5Y5o91D/mG/pC1J2hP/y+g53BqNC/EvXVTIMr4L90icHxJZngv8T3BcZO1dG/CBDeM5QEcb8LYXT1UKGpvxCKJD8An9O/DZfNjyIV17+MSFpp/BOwv7PS9glk1dg/MVX51Qaj1z/K0dt6WzG5P3Q0oayzmJ0/gecUlSVG0T+ZHB7n3wLWP0ohKxaqk8Q/+SbyqZCflb/9rW8cJWWJP5K5VxciI7E/2AJeOZnIjD8qtb17/+6ov2+h4cysd7W/yN9RxJ04uL92254CXrS0v5hoKmZTo66/h43+T0VGrL/uTK+2Q7OUvwVB0zYdVbO/mxXh71a1s7+q65ZPkRqfv/487aJ0DqC/m6kA0bD1pL/7CWUmd62ev6xs1OxmEFm/K5WGwDJ+mT9Ns47Aw9CpP/hMANSFfrI/ka65rXFZuD/dkvYMhpa9PzZPKRXm28E/IHqg/sSbyD8Nyk7uYIzQPyc3BQZN2tQ/rNyAa8Dy1z/4Yaq3Cy/ZP55ESkJJGdk/J9xJAJIb2T83+LWDx7bZP2lAff6NE9w/KsNYqReR3z9EQGIUNFjiPxTI2EiTVOU/aKJeYHXE6D/zP0BI5IzsP8tDtMsvQvA/LnyOIsM78j+Q0gaFXCD0P3SJWAEUJPY/\",\"dtype\":\"float64\",\"shape\":[75]},\"y\":{\"__ndarray__\":\"GhExyth1ND/Sv8nbtpRIP2vylNV0PVE/aTum7souWD/At0SJ8fVgPw3Iuahxymc/MSNhhJWvcD/bTfBN02d3P2zb5nxnaoA/CD5h5MAGhz8NmeH1TyaQP+zrCsc9p5Y/LbKd76fGnz/bLW5ISEmmPww9YvTcQq8/JV2OstnstT8Er5Y7M8G+P0c+r3jqkcU/5h99k6ZBzj88bCIzFzjVP4enV8oyxN0//yH99nXg5D8qOpLLf0jtP5kqGJXUifQ/c9cS8kHP/D+/DpwzojQEQIEmwoanVwxA4lgXt9HgE0BSSZ2AJuIbQAMJih9jjiNA5q4l5INuK0AwTKYKRj0zQNv5fmq8/DpAaCJseHrtQkB/+zpwzoxKQM3MzMzMeFJAZmZmZmZqWEAAAAAAAFxeQM3MzMzMJmJAmpmZmZkfZUBmZmZmZhhoQDMzMzMzEWtAAAAAAAAKbkBmZmZmZoFwQM3MzMzM/XFAMzMzMzN6c0CamZmZmfZ0QAAAAAAAc3ZAZmZmZmbvd0DNzMzMzGt5QDMzMzMz6HpAmpmZmZlkfEAAAAAAAOF9QGZmZmZmXX9AZmZmZuZsgECamZmZGSuBQM3MzMxM6YFAAAAAAICngkAzMzMzs2WDQGZmZmbmI4RAmpmZmRnihEDNzMzMTKCFQAAAAACAXoZAMzMzM7Mch0BmZmZm5tqHQJqZmZkZmYhAzczMzExXiUAAAAAAgBWKQDMzMzOz04pAZmZmZuaRi0CamZmZGVCMQM3MzMxMDo1AAAAAAIDMjUAzMzMzs4qOQGZmZmbmSI9A\",\"dtype\":\"float64\",\"shape\":[75]}},\"selected\":{\"id\":\"b43940d8-5cd3-4593-b6ed-1b28ead76c15\",\"type\":\"Selection\"},\"selection_policy\":{\"id\":\"8701d120-8f98-4ccd-bc74-03d14b85f0e0\",\"type\":\"UnionRenderers\"}},\"id\":\"06da45b7-09bd-4d83-b638-b0937a2b319f\",\"type\":\"ColumnDataSource\"},{\"attributes\":{\"callback\":null,\"data\":{\"x\":{\"__ndarray__\":\"EFTPEMULEsBY5Soo7NcRwOAih0PfTQnAcLzxlkslFUAgkIluU6TzP+gpDdzLdwVAICHKUKVt1T+Ik7s3hMbwP6AHr9TDy9y/ECnbDOK15j+w2qv7vfbXvzCQ/22EH9Y/ABwN6PuE1b8w8RgTZ5TNP8ZxqdeCOdI/WPaTJPMAyz/gCWaNx9zKv4Bz2SfMkLG/QNDU2Dvrw7/gjDvG8ELPv3BfAcZ9A9W/QPE2M06U4r+4EtXbvdv4v8CHA9UM1vO/wNkC+csj1L9A31CHx4DGv4BAVcDWEKk/AJyjBEwOpL8A2K0iJHelvwAHMEdHKYW/QAFQrblkpT+AYHxUdJWePwCcnL/AFYO/AIDdMF2+IL9AoMQ3Xs6Hv8CEJWa/IIk/SHjx3bH7mD9glt/hXwibv4AXhtbv81c/0ZPByHVmuD+ZIBKsyEuxPwB7VdwaDKi/AMK2wPlcpL+A1M+Jt0OhvwBblecIUqS/AOzlE2F5m79AcNDuEvKUv8BO6MRU/Ja/ALSuiFPKhL8ASGwETKOKvwCIZggV2Yi/AB5fgpVndD+A7LY9mXWhv8C4xgD0L5O/ALuUgd63fD8AAPReZ8gCPwB4gQY0fE+/gN8kEc8Okj9ggdWOaw6mPwButB7pzIA/QJoEKHMXlz9A3ZOmSfmuP0CC+mOR17o/8L5CjVu4sD8gd3D5DeiqP4BAGGl6MbI/oBQpEQTvtT+AoHD36662PwCQysucWWu/gOgg5EKCgD+gmD6me76hPwAZquxAgK4/MDP40Wo1tD/gyKr9n0C3P9Ci4ei4h7S/\",\"dtype\":\"float64\",\"shape\":[75]},\"y\":{\"__ndarray__\":\"GhExyth1ND/Sv8nbtpRIP2vylNV0PVE/aTum7souWD/At0SJ8fVgPw3Iuahxymc/MSNhhJWvcD/bTfBN02d3P2zb5nxnaoA/CD5h5MAGhz8NmeH1TyaQP+zrCsc9p5Y/LbKd76fGnz/bLW5ISEmmPww9YvTcQq8/JV2OstnstT8Er5Y7M8G+P0c+r3jqkcU/5h99k6ZBzj88bCIzFzjVP4enV8oyxN0//yH99nXg5D8qOpLLf0jtP5kqGJXUifQ/c9cS8kHP/D+/DpwzojQEQIEmwoanVwxA4lgXt9HgE0BSSZ2AJuIbQAMJih9jjiNA5q4l5INuK0AwTKYKRj0zQNv5fmq8/DpAaCJseHrtQkB/+zpwzoxKQM3MzMzMeFJAZmZmZmZqWEAAAAAAAFxeQM3MzMzMJmJAmpmZmZkfZUBmZmZmZhhoQDMzMzMzEWtAAAAAAAAKbkBmZmZmZoFwQM3MzMzM/XFAMzMzMzN6c0CamZmZmfZ0QAAAAAAAc3ZAZmZmZmbvd0DNzMzMzGt5QDMzMzMz6HpAmpmZmZlkfEAAAAAAAOF9QGZmZmZmXX9AZmZmZuZsgECamZmZGSuBQM3MzMxM6YFAAAAAAICngkAzMzMzs2WDQGZmZmbmI4RAmpmZmRnihEDNzMzMTKCFQAAAAACAXoZAMzMzM7Mch0BmZmZm5tqHQJqZmZkZmYhAzczMzExXiUAAAAAAgBWKQDMzMzOz04pAZmZmZuaRi0CamZmZGVCMQM3MzMxMDo1AAAAAAIDMjUAzMzMzs4qOQGZmZmbmSI9A\",\"dtype\":\"float64\",\"shape\":[75]}},\"selected\":{\"id\":\"02ac18a5-5a3f-47c0-8347-4084b61b1664\",\"type\":\"Selection\"},\"selection_policy\":{\"id\":\"329757eb-ee7b-49fa-be30-ecfbb5fa4ee8\",\"type\":\"UnionRenderers\"}},\"id\":\"fb9fcaed-765c-4710-b2e5-38d5036d337a\",\"type\":\"ColumnDataSource\"},{\"attributes\":{\"source\":{\"id\":\"594bfb51-2f98-48fb-a8ee-4357397bdbee\",\"type\":\"ColumnDataSource\"}},\"id\":\"a94a81f5-74bd-403d-87ef-df534eb246e8\",\"type\":\"CDSView\"},{\"attributes\":{\"label\":{\"value\":\"CLIRAD (single-run) - CRD\"},\"renderers\":[{\"id\":\"809f1446-f33c-4e22-8258-4bb15a09171e\",\"type\":\"GlyphRenderer\"},{\"id\":\"cd40eeeb-97c5-4ab1-8bb4-bce3bed3c584\",\"type\":\"GlyphRenderer\"}]},\"id\":\"78c1aefe-ea42-443e-a735-89098aa37816\",\"type\":\"LegendItem\"},{\"attributes\":{\"line_alpha\":0.1,\"line_color\":\"#1f77b4\",\"line_dash\":[6],\"line_width\":5,\"x\":{\"field\":\"x\"},\"y\":{\"field\":\"y\"}},\"id\":\"74e8abef-bca2-4325-8ec6-845921113960\",\"type\":\"Line\"},{\"attributes\":{\"plot\":null,\"text\":\"\"},\"id\":\"96ae02cd-04d0-4f3e-9ddc-b30839f59e0b\",\"type\":\"Title\"},{\"attributes\":{\"line_alpha\":0.1,\"line_color\":\"#1f77b4\",\"line_width\":1.5,\"x\":{\"field\":\"x\"},\"y\":{\"field\":\"y\"}},\"id\":\"9418732a-b810-433e-9ea6-df9d75db8705\",\"type\":\"Line\"},{\"attributes\":{\"line_alpha\":0.8,\"line_color\":\"#984ea3\",\"line_width\":1.5,\"x\":{\"field\":\"x\"},\"y\":{\"field\":\"y\"}},\"id\":\"455dfa84-bf60-4166-85b4-ea722ac49883\",\"type\":\"Line\"},{\"attributes\":{\"line_alpha\":0.5,\"line_color\":\"#377eb8\",\"line_dash\":[6],\"line_width\":4,\"x\":{\"field\":\"x\"},\"y\":{\"field\":\"y\"}},\"id\":\"5c50ae61-7694-4845-ae11-34c163f9859d\",\"type\":\"Line\"},{\"attributes\":{\"label\":{\"value\":\"old CLIRAD (H2012) - CRD\"},\"renderers\":[{\"id\":\"ccadce36-b589-412b-8191-e0b48b040cd7\",\"type\":\"GlyphRenderer\"}]},\"id\":\"3091d856-6d97-4f0e-a215-4cca69965638\",\"type\":\"LegendItem\"},{\"attributes\":{},\"id\":\"a185d52c-f36d-4924-8622-7334ef713ba7\",\"type\":\"BasicTickFormatter\"},{\"attributes\":{\"line_alpha\":0.1,\"line_color\":\"#1f77b4\",\"line_dash\":[6],\"line_width\":4,\"x\":{\"field\":\"x\"},\"y\":{\"field\":\"y\"}},\"id\":\"00b720fd-61ae-4595-9691-a3dd296c334d\",\"type\":\"Line\"},{\"attributes\":{\"data_source\":{\"id\":\"06da45b7-09bd-4d83-b638-b0937a2b319f\",\"type\":\"ColumnDataSource\"},\"glyph\":{\"id\":\"455dfa84-bf60-4166-85b4-ea722ac49883\",\"type\":\"Line\"},\"hover_glyph\":null,\"muted_glyph\":null,\"nonselection_glyph\":{\"id\":\"9418732a-b810-433e-9ea6-df9d75db8705\",\"type\":\"Line\"},\"selection_glyph\":null,\"view\":{\"id\":\"3258b79f-126f-45c0-bc78-9ce2d85c315a\",\"type\":\"CDSView\"}},\"id\":\"cd40eeeb-97c5-4ab1-8bb4-bce3bed3c584\",\"type\":\"GlyphRenderer\"},{\"attributes\":{\"line_alpha\":0.6,\"line_color\":\"#377eb8\",\"line_dash\":[6],\"line_width\":5,\"x\":{\"field\":\"x\"},\"y\":{\"field\":\"y\"}},\"id\":\"4249e5f5-912b-44c3-90ba-6132a1b71bd4\",\"type\":\"Line\"},{\"attributes\":{\"source\":{\"id\":\"fb9fcaed-765c-4710-b2e5-38d5036d337a\",\"type\":\"ColumnDataSource\"}},\"id\":\"176161b6-6618-4f2a-a89e-bc41a4fea2d1\",\"type\":\"CDSView\"},{\"attributes\":{\"source\":{\"id\":\"06da45b7-09bd-4d83-b638-b0937a2b319f\",\"type\":\"ColumnDataSource\"}},\"id\":\"3258b79f-126f-45c0-bc78-9ce2d85c315a\",\"type\":\"CDSView\"},{\"attributes\":{\"plot\":{\"id\":\"76c0e078-d616-430e-8ac7-1b8b1358ed6d\",\"subtype\":\"Figure\",\"type\":\"Plot\"},\"ticker\":{\"id\":\"9b11934f-76f5-4a47-87e0-a33e70114cb1\",\"type\":\"BasicTicker\"}},\"id\":\"1d104aa9-9508-44ea-8615-1e72a0dbafb6\",\"type\":\"Grid\"},{\"attributes\":{\"source\":{\"id\":\"26497ce1-7f9d-4cfc-9422-72bd21e0d194\",\"type\":\"ColumnDataSource\"}},\"id\":\"018dedd1-50a0-4d4c-8b99-c6d99f0e6ef2\",\"type\":\"CDSView\"},{\"attributes\":{},\"id\":\"3280e84c-fd36-428c-8ef1-4ebb8df8ecc8\",\"type\":\"WheelZoomTool\"},{\"attributes\":{},\"id\":\"c2a76078-b837-4e61-8995-ce0d8e84e6f7\",\"type\":\"LogScale\"},{\"attributes\":{\"label\":{\"value\":\"CRD\"},\"renderers\":[{\"id\":\"0cdcc59c-4e36-4e31-acb7-b15110b0bd42\",\"type\":\"GlyphRenderer\"},{\"id\":\"4fe35780-8cd8-4a7d-8ba7-e8fcc6ea75a0\",\"type\":\"GlyphRenderer\"}]},\"id\":\"5f3ee4c5-eff2-42b0-a0c1-116b22f1fa08\",\"type\":\"LegendItem\"},{\"attributes\":{\"callback\":null,\"data\":{\"x\":{\"__ndarray__\":\"MXhf+wfXU0AZbvNjswdFQLQWsEQVdUFA5TlpnhT9QUB/x1dOYK05QImjxHmcEjZA9jYDSBB3L0AISPl4H6wqQBPuuwfAzyJAOcHprUZAIUB7WWpkesAXQJoT1Uq+ChVArO/8u0EXCkBgVNlshzgCQMeNQ+Nzu/I/POwv1Qzh+D9QxMRmcj8DQOrE7tC4mAxAQsLBRIlHEkAi4cPYoDEXQEeDpjRjzB1ASZ0GEfCuI0DVFj11sssnQOMiVKSMHyhAWRHvUxNoJEDo8cjD4g8gQLGGvR2NDRpAdpI3nV5oFECtyWH9Lp4QQIZQd9bvmwtAkshlnu1BBkBMysnQf1UAQHZJU/DYZ/c/HoEhV+G48T/rSm4vc/TmP3EgV4cD49g/xmy6+4w7zz+bEsjh3uDDPw5SRMRogKs/4GPKdPc1a78lazVXN1vCP/B84ODeUug/LOyxgXDV9z+/DBHyZAwAQAOIY+fy/QFAahF3XKCUAECV0GHvGsz+P+X4k4Nhvf0/RO/IqI98/T8rkW+v/zT9P59vGMDsAv0/zEX7plCY/D/E3siS8kj7P2yUMv+hDvs/RmrXDaYs+z+c9f5GCO36P58nVCbr7vo/Qus8hbcy/D+rD5hFMCf9P4t6dxofnPw/bRp4QYZ2/D/q8NNiN2b8P5YTVw9ESPw/l1Dy0X/K+j+WKih3ZdD5P2k8OYxHjvk/hceGh5N4+T8lpPahWSn5P6vJnePt4vY/UuhmxnXI9T8miFqdE+D0Pz7qfx5CR/Q/0khvq2US9D9LfVdHQGv0P9syeEmwYfg/\",\"dtype\":\"float64\",\"shape\":[75]},\"y\":{\"__ndarray__\":\"hLndy31yND/6fmq8dJNIP8n9DkWBPlE/aDum7souWD/b4a/JGvVgP9f34SAhymc/ZvM4DOavcD+z0M5pFmh3PxuC4zJuaoA/xjcUPlsHhz8uHAjJAiaQP9ieWRKgppY/oI7HDFTGnz+a5h2n6EimPzS6g9iZQq8/IuAQqtTstT9SSZ2AJsK+P4nS3uALk8U/ih9j7lpCzj+ASL99HTjVP4enV8oyxN0/ACL99nXg5D9fmEwVjErtPyUGgZVDi/Q/AiuHFtnO/D9OYhBYOTQEQPHSTWIQWAxA4XoUrkfhE0D8qfHSTeIbQMh2vp8ajyNArkfhehRuK0Bcj8L1KDwzQFyPwvUo/DpAPgrXo3DtQkDNzMzMzIxKQClcj8L1eFJAKVyPwvVoWECamZmZmVleQGZmZmZmJmJAAAAAAAAgZUCamZmZmRloQJqZmZmZEWtAmpmZmZkJbkCamZmZmYFwQGZmZmZm/nFAZmZmZmZ6c0BmZmZmZvZ0QDQzMzMzc3ZAAAAAAADwd0AAAAAAAGx5QAAAAAAA6HpAzMzMzMxkfEDMzMzMzOB9QM3MzMzMXH9AzczMzMxsgEAzMzMzMyuBQDMzMzMz6YFAMzMzMzOngkCamZmZmWWDQAAAAAAAJIRAAAAAAADihEAAAAAAAKCFQGZmZmZmXoZAzczMzMwch0DNzMzMzNqHQM3MzMzMmIhAMzMzMzNXiUCamZmZmRWKQAAAAAAA1IpAAAAAAACSi0AAAAAAAFCMQGZmZmZmDo1AzczMzMzMjUDNzMzMzIqOQM3MzMzMSI9A\",\"dtype\":\"float64\",\"shape\":[75]}},\"selected\":{\"id\":\"8f79a215-4f97-4fef-b2bd-ed5393244363\",\"type\":\"Selection\"},\"selection_policy\":{\"id\":\"dc5b3347-cf9c-469b-a739-e25ee6ddc3fc\",\"type\":\"UnionRenderers\"}},\"id\":\"23010b3e-d251-4d74-b3bc-5c2960b497aa\",\"type\":\"ColumnDataSource\"},{\"attributes\":{\"dimension\":1,\"plot\":{\"id\":\"76c0e078-d616-430e-8ac7-1b8b1358ed6d\",\"subtype\":\"Figure\",\"type\":\"Plot\"},\"ticker\":{\"id\":\"c1eb3a62-629e-4f8f-a341-e857284f44e6\",\"type\":\"LogTicker\"}},\"id\":\"8ec81c8a-81f8-41ca-aaba-cc85064e722e\",\"type\":\"Grid\"},{\"attributes\":{},\"id\":\"365ede6c-a0ee-4167-9bfe-84524ed15d82\",\"type\":\"ResetTool\"},{\"attributes\":{\"line_alpha\":0.1,\"line_color\":\"#1f77b4\",\"line_width\":1.5,\"x\":{\"field\":\"x\"},\"y\":{\"field\":\"y\"}},\"id\":\"c0612e57-1b4e-4be9-8600-d3ef9352e3e2\",\"type\":\"Line\"},{\"attributes\":{\"label\":{\"value\":\"old CLIRAD (H2012)\"},\"renderers\":[{\"id\":\"7c182bad-5b74-4128-903b-c20b9a39c918\",\"type\":\"GlyphRenderer\"},{\"id\":\"212cdf81-7aa5-4c94-b745-78768e6fc2a7\",\"type\":\"GlyphRenderer\"}]},\"id\":\"d5ed2b51-5e46-45f2-808b-2d206bd80df0\",\"type\":\"LegendItem\"},{\"attributes\":{\"num_minor_ticks\":10},\"id\":\"c1eb3a62-629e-4f8f-a341-e857284f44e6\",\"type\":\"LogTicker\"},{\"attributes\":{\"line_alpha\":0.5,\"line_color\":\"#984ea3\",\"line_width\":1.5,\"x\":{\"field\":\"x\"},\"y\":{\"field\":\"y\"}},\"id\":\"197bba35-6d08-43d2-a4af-c056c3361bf2\",\"type\":\"Line\"},{\"attributes\":{},\"id\":\"e8dacc1d-9c50-43fb-89eb-46d32dba20a1\",\"type\":\"SaveTool\"},{\"attributes\":{\"label\":{\"value\":\"CLIRAD (single-run)\"},\"renderers\":[{\"id\":\"4b5803a0-1823-4530-a226-53145eb7e485\",\"type\":\"GlyphRenderer\"}]},\"id\":\"6e4b976a-ac3f-41ca-ba0b-4fae965200b9\",\"type\":\"LegendItem\"},{\"attributes\":{},\"id\":\"8b858b52-f0df-4ba2-8571-bb45a499ccee\",\"type\":\"LinearScale\"},{\"attributes\":{},\"id\":\"81b97a4a-5ea6-4f05-ada4-af7920dc5d9f\",\"type\":\"PanTool\"},{\"attributes\":{\"items\":[{\"id\":\"823bc93f-fe64-42a0-9b81-6f5a9c1989b3\",\"type\":\"LegendItem\"},{\"id\":\"dd04c93b-97b8-44ef-bf76-1e98f02d69fb\",\"type\":\"LegendItem\"},{\"id\":\"4acc1558-ab4d-4631-aab4-6a886bb21eac\",\"type\":\"LegendItem\"}],\"label_text_font_size\":{\"value\":\"8pt\"},\"location\":\"top_center\",\"orientation\":\"horizontal\",\"plot\":{\"id\":\"76c0e078-d616-430e-8ac7-1b8b1358ed6d\",\"subtype\":\"Figure\",\"type\":\"Plot\"}},\"id\":\"7c184bcf-8905-45b3-8ee4-d0e114fcb87e\",\"type\":\"Legend\"},{\"attributes\":{\"data_source\":{\"id\":\"26497ce1-7f9d-4cfc-9422-72bd21e0d194\",\"type\":\"ColumnDataSource\"},\"glyph\":{\"id\":\"c0d63ba0-90f9-4286-a934-6167c3df01b5\",\"type\":\"Square\"},\"hover_glyph\":null,\"muted_glyph\":null,\"nonselection_glyph\":{\"id\":\"7623e76e-bc9a-44a8-ba25-fe3efadbb08f\",\"type\":\"Square\"},\"selection_glyph\":null,\"view\":{\"id\":\"018dedd1-50a0-4d4c-8b99-c6d99f0e6ef2\",\"type\":\"CDSView\"}},\"id\":\"7c182bad-5b74-4128-903b-c20b9a39c918\",\"type\":\"GlyphRenderer\"},{\"attributes\":{\"axis_label\":\"pressure [mb]\",\"formatter\":{\"id\":\"7eb9b6dd-14ec-46f5-a5a8-94d273f6c238\",\"type\":\"LogTickFormatter\"},\"plot\":{\"id\":\"76c0e078-d616-430e-8ac7-1b8b1358ed6d\",\"subtype\":\"Figure\",\"type\":\"Plot\"},\"ticker\":{\"id\":\"c1eb3a62-629e-4f8f-a341-e857284f44e6\",\"type\":\"LogTicker\"}},\"id\":\"b2f8f0f6-7b55-4c32-957a-3e8bae6e1412\",\"type\":\"LogAxis\"},{\"attributes\":{},\"id\":\"9213c840-693b-40de-b403-7c0f20702b32\",\"type\":\"HelpTool\"},{\"attributes\":{\"bottom_units\":\"screen\",\"fill_alpha\":{\"value\":0.5},\"fill_color\":{\"value\":\"lightgrey\"},\"left_units\":\"screen\",\"level\":\"overlay\",\"line_alpha\":{\"value\":1.0},\"line_color\":{\"value\":\"black\"},\"line_dash\":[4,4],\"line_width\":{\"value\":2},\"plot\":null,\"render_mode\":\"css\",\"right_units\":\"screen\",\"top_units\":\"screen\"},\"id\":\"6d465a34-cbf7-4d94-9640-9a8cc0e3eb1d\",\"type\":\"BoxAnnotation\"},{\"attributes\":{\"axis_label\":\"cooling rate [K/day]\",\"formatter\":{\"id\":\"6bdd0fdf-afbc-45b1-b388-35f18f823fcb\",\"type\":\"BasicTickFormatter\"},\"plot\":{\"id\":\"76c0e078-d616-430e-8ac7-1b8b1358ed6d\",\"subtype\":\"Figure\",\"type\":\"Plot\"},\"ticker\":{\"id\":\"9b11934f-76f5-4a47-87e0-a33e70114cb1\",\"type\":\"BasicTicker\"}},\"id\":\"eff49c02-f189-4ce6-8f18-1219e089d189\",\"type\":\"LinearAxis\"},{\"attributes\":{},\"id\":\"9b11934f-76f5-4a47-87e0-a33e70114cb1\",\"type\":\"BasicTicker\"},{\"attributes\":{\"callback\":null,\"data\":{\"x\":{\"__ndarray__\":\"zReq2KbYRUD/tMdw9hdDQHCIT22Y40FAFg0oexE/QEBA1J7iYEA8QE3mDj5fPTdAKy/G6rzpMUA6VO346uUpQBXYIwsFGyJATcw+I6I0GkBwbMtvI94UQMrdcTj1thFAAMReHrVNDUCx3I/6pZYDQCBY81d19/U/XcmbCVWQ+j9dDacwtjMFQKUYff4mEAtAIartuXLhEEBdjL2gkxgWQME5piRG/x1Am5CzYRTWJEDMRMLfiM0qQIpv+zxW/SlAbrs4n4hQJEDVgBPpvUkgQFtJ3LDBaBtAAW+goqsKFkCklJKz4i0RQPbCF4VK7AtAfCVTah8VCEAflQTlsNgCQNjml7R5IPo/bj9jB+li8T8lHL88QbnnP6/i+xHGYtw/6R2SU6DozT8dmBT/KgbBP4QhM1SQLqC/XONcpGG8yL98XGIEgJt0vxcuQ1hr6ec/0K03JSaW9z937cpIDSgAQGdDSyGStAFAlNQfZ+gtAECrtt71eKP+PzkwkDHfmP0/XkdSyXb+/D+U1d5qkO/8P5IHbtBaLv0/AgF73OHp/D/CC7t6JaP8Px+0dSxKg/w/dXAxSoWV/D/ioP8WS8b8P7Uhem9XLv0/CmfM6PT9/j8Ri1qS6kwAQL2v3USM2ABAlh/cR2wLAUA/9cQBGN0AQE3+1KSOcABA2E2YTO8CAEDqJEro1mb/P3sIR2UTcP8/BmfKMOn9/z8gXVh2QnUAQH8JOCtyzQBA2ftm+NUEAUCuWSTySEwBQKFuZ/G3ygFA5yBvEGmFAkCn0UFmyYsDQD1rr+wf5wdA\",\"dtype\":\"float64\",\"shape\":[75]},\"y\":{\"__ndarray__\":\"GhExyth1ND/Sv8nbtpRIP2vylNV0PVE/aTum7souWD/At0SJ8fVgPw3Iuahxymc/MSNhhJWvcD/bTfBN02d3P2zb5nxnaoA/CD5h5MAGhz8NmeH1TyaQP+zrCsc9p5Y/LbKd76fGnz/bLW5ISEmmPww9YvTcQq8/JV2OstnstT8Er5Y7M8G+P0c+r3jqkcU/5h99k6ZBzj88bCIzFzjVP4enV8oyxN0//yH99nXg5D8qOpLLf0jtP5kqGJXUifQ/c9cS8kHP/D+/DpwzojQEQIEmwoanVwxA4lgXt9HgE0BSSZ2AJuIbQAMJih9jjiNA5q4l5INuK0AwTKYKRj0zQNv5fmq8/DpAaCJseHrtQkB/+zpwzoxKQM3MzMzMeFJAZmZmZmZqWEAAAAAAAFxeQM3MzMzMJmJAmpmZmZkfZUBmZmZmZhhoQDMzMzMzEWtAAAAAAAAKbkBmZmZmZoFwQM3MzMzM/XFAMzMzMzN6c0CamZmZmfZ0QAAAAAAAc3ZAZmZmZmbvd0DNzMzMzGt5QDMzMzMz6HpAmpmZmZlkfEAAAAAAAOF9QGZmZmZmXX9AZmZmZuZsgECamZmZGSuBQM3MzMxM6YFAAAAAAICngkAzMzMzs2WDQGZmZmbmI4RAmpmZmRnihEDNzMzMTKCFQAAAAACAXoZAMzMzM7Mch0BmZmZm5tqHQJqZmZkZmYhAzczMzExXiUAAAAAAgBWKQDMzMzOz04pAZmZmZuaRi0CamZmZGVCMQM3MzMxMDo1AAAAAAIDMjUAzMzMzs4qOQGZmZmbmSI9A\",\"dtype\":\"float64\",\"shape\":[75]}},\"selected\":{\"id\":\"25c2bcba-0d78-4533-8754-9524f660e177\",\"type\":\"Selection\"},\"selection_policy\":{\"id\":\"f5bd335c-fea4-4ba5-9721-84c037e45e0b\",\"type\":\"UnionRenderers\"}},\"id\":\"594bfb51-2f98-48fb-a8ee-4357397bdbee\",\"type\":\"ColumnDataSource\"},{\"attributes\":{\"overlay\":{\"id\":\"6d465a34-cbf7-4d94-9640-9a8cc0e3eb1d\",\"type\":\"BoxAnnotation\"}},\"id\":\"c4e0e377-dee7-4011-bec7-92bfe934f17a\",\"type\":\"BoxZoomTool\"},{\"attributes\":{\"callback\":null,\"end\":13.587941188529957,\"start\":-0.32969637158596},\"id\":\"44deedb2-434e-431d-98c0-76d0eb9e6fa2\",\"type\":\"Range1d\"},{\"attributes\":{\"source\":{\"id\":\"23010b3e-d251-4d74-b3bc-5c2960b497aa\",\"type\":\"ColumnDataSource\"}},\"id\":\"ee9f6e5f-a47e-41ec-ad0e-fbe7546fccef\",\"type\":\"CDSView\"},{\"attributes\":{\"above\":[{\"id\":\"30f3b26b-cef8-4033-bc46-661832ce181d\",\"type\":\"Legend\"}],\"below\":[{\"id\":\"46d4b9f5-892c-4bd9-ab3b-bdc529d8e81f\",\"type\":\"LinearAxis\"}],\"left\":[{\"id\":\"ce90d7d4-dfd4-4d89-8656-370ea4ab47a4\",\"type\":\"LinearAxis\"}],\"plot_width\":300,\"renderers\":[{\"id\":\"46d4b9f5-892c-4bd9-ab3b-bdc529d8e81f\",\"type\":\"LinearAxis\"},{\"id\":\"f5ee2e9c-2db4-4e6d-8c01-3ea54ac06a49\",\"type\":\"Grid\"},{\"id\":\"ce90d7d4-dfd4-4d89-8656-370ea4ab47a4\",\"type\":\"LinearAxis\"},{\"id\":\"d97fdb48-0eda-44fa-845e-f3fc3af61465\",\"type\":\"Grid\"},{\"id\":\"420ed65d-ed99-4de6-b8c3-f25290a5f129\",\"type\":\"BoxAnnotation\"},{\"id\":\"4b5803a0-1823-4530-a226-53145eb7e485\",\"type\":\"GlyphRenderer\"},{\"id\":\"0cdcc59c-4e36-4e31-acb7-b15110b0bd42\",\"type\":\"GlyphRenderer\"},{\"id\":\"4fe35780-8cd8-4a7d-8ba7-e8fcc6ea75a0\",\"type\":\"GlyphRenderer\"},{\"id\":\"7c182bad-5b74-4128-903b-c20b9a39c918\",\"type\":\"GlyphRenderer\"},{\"id\":\"212cdf81-7aa5-4c94-b745-78768e6fc2a7\",\"type\":\"GlyphRenderer\"},{\"id\":\"30f3b26b-cef8-4033-bc46-661832ce181d\",\"type\":\"Legend\"}],\"title\":{\"id\":\"96ae02cd-04d0-4f3e-9ddc-b30839f59e0b\",\"type\":\"Title\"},\"toolbar\":{\"id\":\"dd8bad3e-ddb8-43c8-81bf-bcbafd43539b\",\"type\":\"Toolbar\"},\"toolbar_location\":null,\"x_range\":{\"id\":\"d347085d-6d52-4035-97b2-8750f98255e2\",\"type\":\"Range1d\"},\"x_scale\":{\"id\":\"e9415d85-09a7-4890-b650-dacd244d678d\",\"type\":\"LinearScale\"},\"y_range\":{\"id\":\"2c81f721-2b15-411e-a198-a4ab50e36b13\",\"type\":\"Range1d\"},\"y_scale\":{\"id\":\"43f025df-2a5c-4c82-936d-1bdcc946f635\",\"type\":\"LinearScale\"}},\"id\":\"14e025f0-0e18-4b6f-987c-179fa8b971d7\",\"subtype\":\"Figure\",\"type\":\"Plot\"},{\"attributes\":{\"active_drag\":\"auto\",\"active_inspect\":\"auto\",\"active_scroll\":\"auto\",\"active_tap\":\"auto\",\"tools\":[{\"id\":\"81b97a4a-5ea6-4f05-ada4-af7920dc5d9f\",\"type\":\"PanTool\"},{\"id\":\"3280e84c-fd36-428c-8ef1-4ebb8df8ecc8\",\"type\":\"WheelZoomTool\"},{\"id\":\"c4e0e377-dee7-4011-bec7-92bfe934f17a\",\"type\":\"BoxZoomTool\"},{\"id\":\"e8dacc1d-9c50-43fb-89eb-46d32dba20a1\",\"type\":\"SaveTool\"},{\"id\":\"365ede6c-a0ee-4167-9bfe-84524ed15d82\",\"type\":\"ResetTool\"},{\"id\":\"9213c840-693b-40de-b403-7c0f20702b32\",\"type\":\"HelpTool\"}]},\"id\":\"0bae1f5d-9abb-4ffb-be5d-4181a5692e43\",\"type\":\"Toolbar\"},{\"attributes\":{\"data_source\":{\"id\":\"23010b3e-d251-4d74-b3bc-5c2960b497aa\",\"type\":\"ColumnDataSource\"},\"glyph\":{\"id\":\"197bba35-6d08-43d2-a4af-c056c3361bf2\",\"type\":\"Line\"},\"hover_glyph\":null,\"muted_glyph\":null,\"nonselection_glyph\":{\"id\":\"c0612e57-1b4e-4be9-8600-d3ef9352e3e2\",\"type\":\"Line\"},\"selection_glyph\":null,\"view\":{\"id\":\"ee9f6e5f-a47e-41ec-ad0e-fbe7546fccef\",\"type\":\"CDSView\"}},\"id\":\"212cdf81-7aa5-4c94-b745-78768e6fc2a7\",\"type\":\"GlyphRenderer\"},{\"attributes\":{},\"id\":\"3760b1cf-1d91-4ac0-b939-82ddaba5d223\",\"type\":\"Selection\"},{\"attributes\":{},\"id\":\"6035640d-909d-45a8-a10f-344e23225744\",\"type\":\"UnionRenderers\"},{\"attributes\":{\"plot\":null,\"text\":\"\"},\"id\":\"ceae9be2-05d2-4196-b808-96dc2d06d2ec\",\"type\":\"Title\"},{\"attributes\":{\"callback\":null,\"data\":{\"x\":{\"__ndarray__\":\"MXhf+wfXU0AZbvNjswdFQLQWsEQVdUFA5TlpnhT9QUB/x1dOYK05QImjxHmcEjZA9jYDSBB3L0AISPl4H6wqQBPuuwfAzyJAOcHprUZAIUB7WWpkesAXQJoT1Uq+ChVArO/8u0EXCkBgVNlshzgCQMeNQ+Nzu/I/POwv1Qzh+D9QxMRmcj8DQOrE7tC4mAxAQsLBRIlHEkAi4cPYoDEXQEeDpjRjzB1ASZ0GEfCuI0DVFj11sssnQOMiVKSMHyhAWRHvUxNoJEDo8cjD4g8gQLGGvR2NDRpAdpI3nV5oFECtyWH9Lp4QQIZQd9bvmwtAkshlnu1BBkBMysnQf1UAQHZJU/DYZ/c/HoEhV+G48T/rSm4vc/TmP3EgV4cD49g/xmy6+4w7zz+bEsjh3uDDPw5SRMRogKs/4GPKdPc1a78lazVXN1vCP/B84ODeUug/LOyxgXDV9z+/DBHyZAwAQAOIY+fy/QFAahF3XKCUAECV0GHvGsz+P+X4k4Nhvf0/RO/IqI98/T8rkW+v/zT9P59vGMDsAv0/zEX7plCY/D/E3siS8kj7P2yUMv+hDvs/RmrXDaYs+z+c9f5GCO36P58nVCbr7vo/Qus8hbcy/D+rD5hFMCf9P4t6dxofnPw/bRp4QYZ2/D/q8NNiN2b8P5YTVw9ESPw/l1Dy0X/K+j+WKih3ZdD5P2k8OYxHjvk/hceGh5N4+T8lpPahWSn5P6vJnePt4vY/UuhmxnXI9T8miFqdE+D0Pz7qfx5CR/Q/0khvq2US9D9LfVdHQGv0P9syeEmwYfg/\",\"dtype\":\"float64\",\"shape\":[75]},\"y\":{\"__ndarray__\":\"hLndy31yND/6fmq8dJNIP8n9DkWBPlE/aDum7souWD/b4a/JGvVgP9f34SAhymc/ZvM4DOavcD+z0M5pFmh3PxuC4zJuaoA/xjcUPlsHhz8uHAjJAiaQP9ieWRKgppY/oI7HDFTGnz+a5h2n6EimPzS6g9iZQq8/IuAQqtTstT9SSZ2AJsK+P4nS3uALk8U/ih9j7lpCzj+ASL99HTjVP4enV8oyxN0/ACL99nXg5D9fmEwVjErtPyUGgZVDi/Q/AiuHFtnO/D9OYhBYOTQEQPHSTWIQWAxA4XoUrkfhE0D8qfHSTeIbQMh2vp8ajyNArkfhehRuK0Bcj8L1KDwzQFyPwvUo/DpAPgrXo3DtQkDNzMzMzIxKQClcj8L1eFJAKVyPwvVoWECamZmZmVleQGZmZmZmJmJAAAAAAAAgZUCamZmZmRloQJqZmZmZEWtAmpmZmZkJbkCamZmZmYFwQGZmZmZm/nFAZmZmZmZ6c0BmZmZmZvZ0QDQzMzMzc3ZAAAAAAADwd0AAAAAAAGx5QAAAAAAA6HpAzMzMzMxkfEDMzMzMzOB9QM3MzMzMXH9AzczMzMxsgEAzMzMzMyuBQDMzMzMz6YFAMzMzMzOngkCamZmZmWWDQAAAAAAAJIRAAAAAAADihEAAAAAAAKCFQGZmZmZmXoZAzczMzMwch0DNzMzMzNqHQM3MzMzMmIhAMzMzMzNXiUCamZmZmRWKQAAAAAAA1IpAAAAAAACSi0AAAAAAAFCMQGZmZmZmDo1AzczMzMzMjUDNzMzMzIqOQM3MzMzMSI9A\",\"dtype\":\"float64\",\"shape\":[75]}},\"selected\":{\"id\":\"34142d30-d51b-4e06-b6ab-957cb867ea38\",\"type\":\"Selection\"},\"selection_policy\":{\"id\":\"4a5e3aed-8a72-4161-baac-bd97fffe8782\",\"type\":\"UnionRenderers\"}},\"id\":\"26497ce1-7f9d-4cfc-9422-72bd21e0d194\",\"type\":\"ColumnDataSource\"},{\"attributes\":{},\"id\":\"9e206f21-46a5-4861-802a-13320672a6b7\",\"type\":\"BasicTickFormatter\"},{\"attributes\":{\"source\":{\"id\":\"b3693c93-9ea5-4ce7-8a05-54e70b371f79\",\"type\":\"ColumnDataSource\"}},\"id\":\"b9095da8-5022-4f93-8ab7-5271d17ce4df\",\"type\":\"CDSView\"},{\"attributes\":{\"callback\":null,\"end\":3.01966488804526,\"start\":-0.22505997257126006},\"id\":\"d347085d-6d52-4035-97b2-8750f98255e2\",\"type\":\"Range1d\"},{\"attributes\":{},\"id\":\"5d533f3d-cddb-49ee-8dd9-79e624c7337c\",\"type\":\"Selection\"},{\"attributes\":{\"ticker\":null},\"id\":\"fce081c8-a200-47fc-a072-0d7db4544031\",\"type\":\"LogTickFormatter\"},{\"attributes\":{\"items\":[{\"id\":\"6e4b976a-ac3f-41ca-ba0b-4fae965200b9\",\"type\":\"LegendItem\"},{\"id\":\"5f3ee4c5-eff2-42b0-a0c1-116b22f1fa08\",\"type\":\"LegendItem\"},{\"id\":\"d5ed2b51-5e46-45f2-808b-2d206bd80df0\",\"type\":\"LegendItem\"}],\"label_text_font_size\":{\"value\":\"8pt\"},\"location\":\"top_center\",\"orientation\":\"horizontal\",\"plot\":{\"id\":\"14e025f0-0e18-4b6f-987c-179fa8b971d7\",\"subtype\":\"Figure\",\"type\":\"Plot\"}},\"id\":\"30f3b26b-cef8-4033-bc46-661832ce181d\",\"type\":\"Legend\"},{\"attributes\":{},\"id\":\"03892d43-9bf0-40b3-8e73-6990fea9e83a\",\"type\":\"UnionRenderers\"},{\"attributes\":{},\"id\":\"4a535242-0edd-46e1-8683-3285192c0f8f\",\"type\":\"Selection\"},{\"attributes\":{\"line_color\":\"#4daf4a\",\"line_width\":1.5,\"x\":{\"field\":\"x\"},\"y\":{\"field\":\"y\"}},\"id\":\"1ad3971c-bfd0-4ccb-9731-b0cd0bc03367\",\"type\":\"Line\"},{\"attributes\":{\"callback\":null,\"data\":{\"x\":{\"__ndarray__\":\"cm1sTMT3VEDEyvjosEJHQOKI6DjzCUNArgQWV9awPkB9Lm8XG3M4QEz+Qv6iYzNA7eV8HaPLLkCX1QHyTpMoQFBmYSYetiNAUB04GtGpH0AmFyVE5j8ZQJca9QPGqBNALJP+OOHHDEBNxaf7QF8AQKtislomWuw/cW2dcO6A9T/uJJvfPu0EQIaQLTI/JQ1AxGiII+PmEkCJvfVeuCsYQD6ZBhGbHB9AXQw69DTYJEAsubcwKucqQNuT9D5OmipAJyi3szEJJUBlNebh5WkgQDDcPHBr2xlArtlANXuQFEBdJadFHckQQI2Avh0ZsQtAjYiwt1rsBUCL0SDoVBgAQK6C0nEEjvc/CggLSme58T9sXU2orFPnP0v0JYz9Gdg/vT38vxYczD9nBQTe6kHHP1IhkEXJwKo/8OZnhCVAub+xtVgCpmqzP6DUpY6g0+k/PKK3T1h4+D8RTDjQc1EAQG/dAQs7TwJAQt2eHpPLAEBWEh074x//PyCap9ZSGf4/rEzaTySm/T+7aXhHRmr9P688KeqeNP0/ruZ4EemD/D8olrZcn9T7P0+vNc9hW/s/i9VVL+4P+z+0NzC24uz6P8731Kza8vo/xFf4SHzq+z+gYyHpvHb8P68ROkiFevw/BAjYdCga/D8AUp8VbW77P3JrF/nKmvo/qCQeGfq++T/dplwHJfn4P2G4p+Uva/g/OzZ0RqMZ+D8dmn/iar73P/OuA7Ka8PY/gaaeQHGn9T9hkyjAH1L0P3aZGhdAU/M/n8VP/g7P8j+90HxHNvfyPwhNBtgrqvk/\",\"dtype\":\"float64\",\"shape\":[75]},\"y\":{\"__ndarray__\":\"GhExyth1ND/Sv8nbtpRIP2vylNV0PVE/aTum7souWD/At0SJ8fVgPw3Iuahxymc/MSNhhJWvcD/bTfBN02d3P2zb5nxnaoA/CD5h5MAGhz8NmeH1TyaQP+zrCsc9p5Y/LbKd76fGnz/bLW5ISEmmPww9YvTcQq8/JV2OstnstT8Er5Y7M8G+P0c+r3jqkcU/5h99k6ZBzj88bCIzFzjVP4enV8oyxN0//yH99nXg5D8qOpLLf0jtP5kqGJXUifQ/c9cS8kHP/D+/DpwzojQEQIEmwoanVwxA4lgXt9HgE0BSSZ2AJuIbQAMJih9jjiNA5q4l5INuK0AwTKYKRj0zQNv5fmq8/DpAaCJseHrtQkB/+zpwzoxKQM3MzMzMeFJAZmZmZmZqWEAAAAAAAFxeQM3MzMzMJmJAmpmZmZkfZUBmZmZmZhhoQDMzMzMzEWtAAAAAAAAKbkBmZmZmZoFwQM3MzMzM/XFAMzMzMzN6c0CamZmZmfZ0QAAAAAAAc3ZAZmZmZmbvd0DNzMzMzGt5QDMzMzMz6HpAmpmZmZlkfEAAAAAAAOF9QGZmZmZmXX9AZmZmZuZsgECamZmZGSuBQM3MzMxM6YFAAAAAAICngkAzMzMzs2WDQGZmZmbmI4RAmpmZmRnihEDNzMzMTKCFQAAAAACAXoZAMzMzM7Mch0BmZmZm5tqHQJqZmZkZmYhAzczMzExXiUAAAAAAgBWKQDMzMzOz04pAZmZmZuaRi0CamZmZGVCMQM3MzMxMDo1AAAAAAIDMjUAzMzMzs4qOQGZmZmbmSI9A\",\"dtype\":\"float64\",\"shape\":[75]}},\"selected\":{\"id\":\"32526f69-20e6-4d67-9a3f-59b6bc36e59b\",\"type\":\"Selection\"},\"selection_policy\":{\"id\":\"1cdbe672-c3b3-44e7-9a75-ec2980771522\",\"type\":\"UnionRenderers\"}},\"id\":\"282ffbe3-9c28-4f47-ac30-36b3a8b45972\",\"type\":\"ColumnDataSource\"},{\"attributes\":{},\"id\":\"7cf68f62-db11-4499-82c8-b557c9fa92fe\",\"type\":\"Selection\"},{\"attributes\":{},\"id\":\"43f025df-2a5c-4c82-936d-1bdcc946f635\",\"type\":\"LinearScale\"},{\"attributes\":{\"active_drag\":\"auto\",\"active_inspect\":\"auto\",\"active_scroll\":\"auto\",\"active_tap\":\"auto\",\"tools\":[{\"id\":\"28b99f94-db8d-44be-8f6e-951fda179195\",\"type\":\"PanTool\"},{\"id\":\"19959384-ed38-4918-ae7d-b7f2a55f93cc\",\"type\":\"WheelZoomTool\"},{\"id\":\"a91fbedd-6598-467b-8b8f-45e57900c91a\",\"type\":\"BoxZoomTool\"},{\"id\":\"928508ce-76c1-419b-b853-3c9f11db468e\",\"type\":\"SaveTool\"},{\"id\":\"38d7221b-44aa-4c09-98b5-2435cde6b11d\",\"type\":\"ResetTool\"},{\"id\":\"f2fb5e9f-9e31-4a39-ac28-a047dc228ec8\",\"type\":\"HelpTool\"}]},\"id\":\"dd8bad3e-ddb8-43c8-81bf-bcbafd43539b\",\"type\":\"Toolbar\"},{\"attributes\":{},\"id\":\"97076737-1b41-4fbe-ae90-786698f5d7af\",\"type\":\"UnionRenderers\"},{\"attributes\":{\"data_source\":{\"id\":\"b3693c93-9ea5-4ce7-8a05-54e70b371f79\",\"type\":\"ColumnDataSource\"},\"glyph\":{\"id\":\"5e3b6e1b-c649-49d2-9471-0de44b9fd094\",\"type\":\"Circle\"},\"hover_glyph\":null,\"muted_glyph\":null,\"nonselection_glyph\":{\"id\":\"22a055fc-5a20-4f06-b57e-6fc6f0b667ce\",\"type\":\"Circle\"},\"selection_glyph\":null,\"view\":{\"id\":\"b9095da8-5022-4f93-8ab7-5271d17ce4df\",\"type\":\"CDSView\"}},\"id\":\"0cdcc59c-4e36-4e31-acb7-b15110b0bd42\",\"type\":\"GlyphRenderer\"},{\"attributes\":{},\"id\":\"9b62991d-a8c4-448c-9a28-8a7ddf42f21b\",\"type\":\"Selection\"},{\"attributes\":{\"fill_alpha\":{\"value\":0.7},\"fill_color\":{\"value\":\"#984ea3\"},\"line_alpha\":{\"value\":0.7},\"line_color\":{\"value\":\"#984ea3\"},\"x\":{\"field\":\"x\"},\"y\":{\"field\":\"y\"}},\"id\":\"c0d63ba0-90f9-4286-a934-6167c3df01b5\",\"type\":\"Square\"},{\"attributes\":{},\"id\":\"8701d120-8f98-4ccd-bc74-03d14b85f0e0\",\"type\":\"UnionRenderers\"},{\"attributes\":{\"axis_label\":\"cooling rate [K/day]\",\"formatter\":{\"id\":\"898da356-b110-4376-bec4-b824a22955b1\",\"type\":\"BasicTickFormatter\"},\"plot\":{\"id\":\"14e025f0-0e18-4b6f-987c-179fa8b971d7\",\"subtype\":\"Figure\",\"type\":\"Plot\"},\"ticker\":{\"id\":\"f4a79832-c8fc-4561-a6ef-402b76a2d022\",\"type\":\"BasicTicker\"}},\"id\":\"46d4b9f5-892c-4bd9-ab3b-bdc529d8e81f\",\"type\":\"LinearAxis\"},{\"attributes\":{},\"id\":\"9b7957ed-f4bf-4895-bcd2-81b30d4d4848\",\"type\":\"UnionRenderers\"},{\"attributes\":{\"fill_alpha\":{\"value\":0.7},\"fill_color\":{\"value\":\"#4daf4a\"},\"line_alpha\":{\"value\":0.7},\"line_color\":{\"value\":\"#4daf4a\"},\"x\":{\"field\":\"x\"},\"y\":{\"field\":\"y\"}},\"id\":\"5e3b6e1b-c649-49d2-9471-0de44b9fd094\",\"type\":\"Circle\"},{\"attributes\":{\"fill_alpha\":{\"value\":0.1},\"fill_color\":{\"value\":\"#1f77b4\"},\"line_alpha\":{\"value\":0.1},\"line_color\":{\"value\":\"#1f77b4\"},\"x\":{\"field\":\"x\"},\"y\":{\"field\":\"y\"}},\"id\":\"22a055fc-5a20-4f06-b57e-6fc6f0b667ce\",\"type\":\"Circle\"},{\"attributes\":{\"fill_alpha\":{\"value\":0.1},\"fill_color\":{\"value\":\"#1f77b4\"},\"line_alpha\":{\"value\":0.1},\"line_color\":{\"value\":\"#1f77b4\"},\"x\":{\"field\":\"x\"},\"y\":{\"field\":\"y\"}},\"id\":\"7623e76e-bc9a-44a8-ba25-fe3efadbb08f\",\"type\":\"Square\"},{\"attributes\":{},\"id\":\"4dc6396c-cfcd-46e4-b96c-1c2e7c35e744\",\"type\":\"UnionRenderers\"},{\"attributes\":{\"line_alpha\":0.1,\"line_color\":\"#1f77b4\",\"line_width\":1.5,\"x\":{\"field\":\"x\"},\"y\":{\"field\":\"y\"}},\"id\":\"7a292ce7-8486-4c4c-9e13-6208a4ad9cd2\",\"type\":\"Line\"},{\"attributes\":{},\"id\":\"e9415d85-09a7-4890-b650-dacd244d678d\",\"type\":\"LinearScale\"},{\"attributes\":{\"data_source\":{\"id\":\"282ffbe3-9c28-4f47-ac30-36b3a8b45972\",\"type\":\"ColumnDataSource\"},\"glyph\":{\"id\":\"1ad3971c-bfd0-4ccb-9731-b0cd0bc03367\",\"type\":\"Line\"},\"hover_glyph\":null,\"muted_glyph\":null,\"nonselection_glyph\":{\"id\":\"7a292ce7-8486-4c4c-9e13-6208a4ad9cd2\",\"type\":\"Line\"},\"selection_glyph\":null,\"view\":{\"id\":\"98ff33fc-9691-4950-b553-8395b0001b0f\",\"type\":\"CDSView\"}},\"id\":\"4fe35780-8cd8-4a7d-8ba7-e8fcc6ea75a0\",\"type\":\"GlyphRenderer\"},{\"attributes\":{\"data_source\":{\"id\":\"a1d7dee9-117b-4ebb-8e03-4b8a18c4ccae\",\"type\":\"ColumnDataSource\"},\"glyph\":{\"id\":\"852c74d9-f84e-47d9-87ca-126abc083d8c\",\"type\":\"Square\"},\"hover_glyph\":null,\"muted_glyph\":null,\"nonselection_glyph\":{\"id\":\"e71b7de5-2840-47a0-b3ca-e546aecb0c99\",\"type\":\"Square\"},\"selection_glyph\":null,\"view\":{\"id\":\"cb7a47ea-2b53-4116-9d38-ce607367fc6a\",\"type\":\"CDSView\"}},\"id\":\"ec338b92-3311-4605-aae2-5a045a5321ff\",\"type\":\"GlyphRenderer\"},{\"attributes\":{\"source\":{\"id\":\"282ffbe3-9c28-4f47-ac30-36b3a8b45972\",\"type\":\"ColumnDataSource\"}},\"id\":\"98ff33fc-9691-4950-b553-8395b0001b0f\",\"type\":\"CDSView\"},{\"attributes\":{\"axis_label\":\"pressure [mb]\",\"formatter\":{\"id\":\"a185d52c-f36d-4924-8622-7334ef713ba7\",\"type\":\"BasicTickFormatter\"},\"plot\":{\"id\":\"14e025f0-0e18-4b6f-987c-179fa8b971d7\",\"subtype\":\"Figure\",\"type\":\"Plot\"},\"ticker\":{\"id\":\"a81c32ab-d273-492c-8d0f-1153ac284a3b\",\"type\":\"BasicTicker\"}},\"id\":\"ce90d7d4-dfd4-4d89-8656-370ea4ab47a4\",\"type\":\"LinearAxis\"},{\"attributes\":{\"dimension\":1,\"plot\":{\"id\":\"207ffa9a-8d5b-4b05-94c2-11b236c5bfc9\",\"subtype\":\"Figure\",\"type\":\"Plot\"},\"ticker\":{\"id\":\"ecbdf79d-13f9-4027-a460-cd67a4d75b3b\",\"type\":\"LogTicker\"}},\"id\":\"765add70-d3b7-43ed-a7db-303211d1958b\",\"type\":\"Grid\"},{\"attributes\":{\"callback\":null,\"end\":0.7323360194662635,\"start\":-1.576281364019664},\"id\":\"d225d0eb-e7c5-48cd-a8ae-5ce9f6144b2a\",\"type\":\"Range1d\"},{\"attributes\":{\"above\":[{\"id\":\"7c184bcf-8905-45b3-8ee4-d0e114fcb87e\",\"type\":\"Legend\"}],\"below\":[{\"id\":\"eff49c02-f189-4ce6-8f18-1219e089d189\",\"type\":\"LinearAxis\"}],\"left\":[{\"id\":\"b2f8f0f6-7b55-4c32-957a-3e8bae6e1412\",\"type\":\"LogAxis\"}],\"plot_width\":300,\"renderers\":[{\"id\":\"eff49c02-f189-4ce6-8f18-1219e089d189\",\"type\":\"LinearAxis\"},{\"id\":\"1d104aa9-9508-44ea-8615-1e72a0dbafb6\",\"type\":\"Grid\"},{\"id\":\"b2f8f0f6-7b55-4c32-957a-3e8bae6e1412\",\"type\":\"LogAxis\"},{\"id\":\"8ec81c8a-81f8-41ca-aaba-cc85064e722e\",\"type\":\"Grid\"},{\"id\":\"6d465a34-cbf7-4d94-9640-9a8cc0e3eb1d\",\"type\":\"BoxAnnotation\"},{\"id\":\"07cf5b45-f4ea-41e8-b10e-270336e1b27e\",\"type\":\"GlyphRenderer\"},{\"id\":\"ec7b5315-94ad-4bf8-a35f-00b9b49e7fee\",\"type\":\"GlyphRenderer\"},{\"id\":\"6f1e002d-a908-41ff-91f2-d2c73857833a\",\"type\":\"GlyphRenderer\"},{\"id\":\"ec338b92-3311-4605-aae2-5a045a5321ff\",\"type\":\"GlyphRenderer\"},{\"id\":\"d08d148e-0d5a-4a95-92e7-173e4a4b759b\",\"type\":\"GlyphRenderer\"},{\"id\":\"7c184bcf-8905-45b3-8ee4-d0e114fcb87e\",\"type\":\"Legend\"}],\"title\":{\"id\":\"d791d88d-e512-41a2-b2d8-b6edb263b25c\",\"type\":\"Title\"},\"toolbar\":{\"id\":\"0bae1f5d-9abb-4ffb-be5d-4181a5692e43\",\"type\":\"Toolbar\"},\"toolbar_location\":null,\"x_range\":{\"id\":\"44deedb2-434e-431d-98c0-76d0eb9e6fa2\",\"type\":\"Range1d\"},\"x_scale\":{\"id\":\"8b858b52-f0df-4ba2-8571-bb45a499ccee\",\"type\":\"LinearScale\"},\"y_range\":{\"id\":\"196b2472-5977-4b67-9ed6-7ebd3eec0247\",\"type\":\"Range1d\"},\"y_scale\":{\"id\":\"c2a76078-b837-4e61-8995-ce0d8e84e6f7\",\"type\":\"LogScale\"}},\"id\":\"76c0e078-d616-430e-8ac7-1b8b1358ed6d\",\"subtype\":\"Figure\",\"type\":\"Plot\"},{\"attributes\":{\"fill_alpha\":{\"value\":0.1},\"fill_color\":{\"value\":\"#1f77b4\"},\"line_alpha\":{\"value\":0.1},\"line_color\":{\"value\":\"#1f77b4\"},\"x\":{\"field\":\"x\"},\"y\":{\"field\":\"y\"}},\"id\":\"61001249-f1c2-44da-81d0-e12018d0a766\",\"type\":\"Circle\"},{\"attributes\":{},\"id\":\"25c2bcba-0d78-4533-8754-9524f660e177\",\"type\":\"Selection\"},{\"attributes\":{},\"id\":\"d5f17743-50d5-477e-bc79-cdade20add3a\",\"type\":\"SaveTool\"},{\"attributes\":{\"bottom_units\":\"screen\",\"fill_alpha\":{\"value\":0.5},\"fill_color\":{\"value\":\"lightgrey\"},\"left_units\":\"screen\",\"level\":\"overlay\",\"line_alpha\":{\"value\":1.0},\"line_color\":{\"value\":\"black\"},\"line_dash\":[4,4],\"line_width\":{\"value\":2},\"plot\":null,\"render_mode\":\"css\",\"right_units\":\"screen\",\"top_units\":\"screen\"},\"id\":\"161fa402-a422-4ef0-807e-2e4cb0bf31ee\",\"type\":\"BoxAnnotation\"},{\"attributes\":{\"fill_alpha\":{\"value\":0.1},\"fill_color\":{\"value\":\"#1f77b4\"},\"line_alpha\":{\"value\":0.1},\"line_color\":{\"value\":\"#1f77b4\"},\"x\":{\"field\":\"x\"},\"y\":{\"field\":\"y\"}},\"id\":\"e270ac80-4772-4093-9b05-0ac92e12acc8\",\"type\":\"Circle\"},{\"attributes\":{\"line_alpha\":0.1,\"line_color\":\"#1f77b4\",\"line_dash\":[6],\"line_width\":5,\"x\":{\"field\":\"x\"},\"y\":{\"field\":\"y\"}},\"id\":\"4f4b81a1-1421-40a1-a859-88446cd3c48b\",\"type\":\"Line\"},{\"attributes\":{\"label\":{\"value\":\"CRD\"},\"renderers\":[{\"id\":\"ec7b5315-94ad-4bf8-a35f-00b9b49e7fee\",\"type\":\"GlyphRenderer\"},{\"id\":\"6f1e002d-a908-41ff-91f2-d2c73857833a\",\"type\":\"GlyphRenderer\"}]},\"id\":\"dd04c93b-97b8-44ef-bf76-1e98f02d69fb\",\"type\":\"LegendItem\"},{\"attributes\":{},\"id\":\"68b9891e-a4ec-47b4-a31d-a8e69136e47e\",\"type\":\"LinearScale\"},{\"attributes\":{\"callback\":null,\"end\":0.01,\"start\":1020},\"id\":\"b019b690-477d-4b74-81c4-ed56dbb6e9fa\",\"type\":\"Range1d\"},{\"attributes\":{\"line_color\":\"#4daf4a\",\"line_width\":1.5,\"x\":{\"field\":\"x\"},\"y\":{\"field\":\"y\"}},\"id\":\"053a75bc-6b85-4509-b325-24896ae66946\",\"type\":\"Line\"},{\"attributes\":{\"overlay\":{\"id\":\"420ed65d-ed99-4de6-b8c3-f25290a5f129\",\"type\":\"BoxAnnotation\"}},\"id\":\"a91fbedd-6598-467b-8b8f-45e57900c91a\",\"type\":\"BoxZoomTool\"},{\"attributes\":{\"num_minor_ticks\":10},\"id\":\"ecbdf79d-13f9-4027-a460-cd67a4d75b3b\",\"type\":\"LogTicker\"},{\"attributes\":{},\"id\":\"24535833-07d2-4664-af1d-d352dd771cce\",\"type\":\"BasicTicker\"},{\"attributes\":{\"callback\":null,\"end\":0.01,\"start\":1020},\"id\":\"2c81f721-2b15-411e-a198-a4ab50e36b13\",\"type\":\"Range1d\"},{\"attributes\":{\"plot\":{\"id\":\"207ffa9a-8d5b-4b05-94c2-11b236c5bfc9\",\"subtype\":\"Figure\",\"type\":\"Plot\"},\"ticker\":{\"id\":\"24535833-07d2-4664-af1d-d352dd771cce\",\"type\":\"BasicTicker\"}},\"id\":\"fe69c2f5-0631-46ec-beed-fc3c517d3675\",\"type\":\"Grid\"},{\"attributes\":{\"data_source\":{\"id\":\"ba33b3cb-4a56-42fb-9182-afe71a83b6bf\",\"type\":\"ColumnDataSource\"},\"glyph\":{\"id\":\"053a75bc-6b85-4509-b325-24896ae66946\",\"type\":\"Line\"},\"hover_glyph\":null,\"muted_glyph\":null,\"nonselection_glyph\":{\"id\":\"fcfcf30b-926f-4b09-bd57-cc912e5f5263\",\"type\":\"Line\"},\"selection_glyph\":null,\"view\":{\"id\":\"766c7ce7-2f9a-4bf6-9589-6acf95664ab5\",\"type\":\"CDSView\"}},\"id\":\"6f1e002d-a908-41ff-91f2-d2c73857833a\",\"type\":\"GlyphRenderer\"},{\"attributes\":{\"children\":[{\"id\":\"14e025f0-0e18-4b6f-987c-179fa8b971d7\",\"subtype\":\"Figure\",\"type\":\"Plot\"},{\"id\":\"76c0e078-d616-430e-8ac7-1b8b1358ed6d\",\"subtype\":\"Figure\",\"type\":\"Plot\"},{\"id\":\"207ffa9a-8d5b-4b05-94c2-11b236c5bfc9\",\"subtype\":\"Figure\",\"type\":\"Plot\"}]},\"id\":\"af462fff-4c09-4e42-aa09-cfa88e1963bb\",\"type\":\"Row\"},{\"attributes\":{},\"id\":\"8a763b5c-127c-47f1-83b9-e885e2bb059a\",\"type\":\"ResetTool\"},{\"attributes\":{},\"id\":\"847e1ca0-d0fb-4355-b1f0-bb6e4bf87776\",\"type\":\"WheelZoomTool\"},{\"attributes\":{\"fill_alpha\":{\"value\":0.7},\"fill_color\":{\"value\":\"#984ea3\"},\"line_alpha\":{\"value\":0.7},\"line_color\":{\"value\":\"#984ea3\"},\"x\":{\"field\":\"x\"},\"y\":{\"field\":\"y\"}},\"id\":\"b01e3579-23bd-43df-a8a9-c022e79e217c\",\"type\":\"Circle\"},{\"attributes\":{\"axis_label\":\"cooling rate [K/day]\",\"formatter\":{\"id\":\"9e206f21-46a5-4861-802a-13320672a6b7\",\"type\":\"BasicTickFormatter\"},\"plot\":{\"id\":\"207ffa9a-8d5b-4b05-94c2-11b236c5bfc9\",\"subtype\":\"Figure\",\"type\":\"Plot\"},\"ticker\":{\"id\":\"24535833-07d2-4664-af1d-d352dd771cce\",\"type\":\"BasicTicker\"}},\"id\":\"e6df95da-8ea6-4b55-9892-c78921156bf6\",\"type\":\"LinearAxis\"},{\"attributes\":{\"callback\":null,\"data\":{\"x\":{\"__ndarray__\":\"cm1sTMT3VEDEyvjosEJHQOKI6DjzCUNArgQWV9awPkB9Lm8XG3M4QEz+Qv6iYzNA7eV8HaPLLkCX1QHyTpMoQFBmYSYetiNAUB04GtGpH0AmFyVE5j8ZQJca9QPGqBNALJP+OOHHDEBNxaf7QF8AQKtislomWuw/cW2dcO6A9T/uJJvfPu0EQIaQLTI/JQ1AxGiII+PmEkCJvfVeuCsYQD6ZBhGbHB9AXQw69DTYJEAsubcwKucqQNuT9D5OmipAJyi3szEJJUBlNebh5WkgQDDcPHBr2xlArtlANXuQFEBdJadFHckQQI2Avh0ZsQtAjYiwt1rsBUCL0SDoVBgAQK6C0nEEjvc/CggLSme58T9sXU2orFPnP0v0JYz9Gdg/vT38vxYczD9nBQTe6kHHP1IhkEXJwKo/8OZnhCVAub+xtVgCpmqzP6DUpY6g0+k/PKK3T1h4+D8RTDjQc1EAQG/dAQs7TwJAQt2eHpPLAEBWEh074x//PyCap9ZSGf4/rEzaTySm/T+7aXhHRmr9P688KeqeNP0/ruZ4EemD/D8olrZcn9T7P0+vNc9hW/s/i9VVL+4P+z+0NzC24uz6P8731Kza8vo/xFf4SHzq+z+gYyHpvHb8P68ROkiFevw/BAjYdCga/D8AUp8VbW77P3JrF/nKmvo/qCQeGfq++T/dplwHJfn4P2G4p+Uva/g/OzZ0RqMZ+D8dmn/iar73P/OuA7Ka8PY/gaaeQHGn9T9hkyjAH1L0P3aZGhdAU/M/n8VP/g7P8j+90HxHNvfyPwhNBtgrqvk/\",\"dtype\":\"float64\",\"shape\":[75]},\"y\":{\"__ndarray__\":\"GhExyth1ND/Sv8nbtpRIP2vylNV0PVE/aTum7souWD/At0SJ8fVgPw3Iuahxymc/MSNhhJWvcD/bTfBN02d3P2zb5nxnaoA/CD5h5MAGhz8NmeH1TyaQP+zrCsc9p5Y/LbKd76fGnz/bLW5ISEmmPww9YvTcQq8/JV2OstnstT8Er5Y7M8G+P0c+r3jqkcU/5h99k6ZBzj88bCIzFzjVP4enV8oyxN0//yH99nXg5D8qOpLLf0jtP5kqGJXUifQ/c9cS8kHP/D+/DpwzojQEQIEmwoanVwxA4lgXt9HgE0BSSZ2AJuIbQAMJih9jjiNA5q4l5INuK0AwTKYKRj0zQNv5fmq8/DpAaCJseHrtQkB/+zpwzoxKQM3MzMzMeFJAZmZmZmZqWEAAAAAAAFxeQM3MzMzMJmJAmpmZmZkfZUBmZmZmZhhoQDMzMzMzEWtAAAAAAAAKbkBmZmZmZoFwQM3MzMzM/XFAMzMzMzN6c0CamZmZmfZ0QAAAAAAAc3ZAZmZmZmbvd0DNzMzMzGt5QDMzMzMz6HpAmpmZmZlkfEAAAAAAAOF9QGZmZmZmXX9AZmZmZuZsgECamZmZGSuBQM3MzMxM6YFAAAAAAICngkAzMzMzs2WDQGZmZmbmI4RAmpmZmRnihEDNzMzMTKCFQAAAAACAXoZAMzMzM7Mch0BmZmZm5tqHQJqZmZkZmYhAzczMzExXiUAAAAAAgBWKQDMzMzOz04pAZmZmZuaRi0CamZmZGVCMQM3MzMxMDo1AAAAAAIDMjUAzMzMzs4qOQGZmZmbmSI9A\",\"dtype\":\"float64\",\"shape\":[75]}},\"selected\":{\"id\":\"3760b1cf-1d91-4ac0-b939-82ddaba5d223\",\"type\":\"Selection\"},\"selection_policy\":{\"id\":\"9b7957ed-f4bf-4895-bcd2-81b30d4d4848\",\"type\":\"UnionRenderers\"}},\"id\":\"ba33b3cb-4a56-42fb-9182-afe71a83b6bf\",\"type\":\"ColumnDataSource\"},{\"attributes\":{\"toolbar\":{\"id\":\"f6212513-c938-4238-bdb1-d56cd9094b5f\",\"type\":\"ProxyToolbar\"},\"toolbar_location\":\"above\"},\"id\":\"0c078704-f3ea-4219-80bf-9abeda3f6f2f\",\"type\":\"ToolbarBox\"},{\"attributes\":{\"children\":[{\"id\":\"af462fff-4c09-4e42-aa09-cfa88e1963bb\",\"type\":\"Row\"}]},\"id\":\"8599bebc-de14-49c0-9e8a-7588af229a2e\",\"type\":\"Column\"},{\"attributes\":{\"label\":{\"value\":\"old CLIRAD (H2012)\"},\"renderers\":[{\"id\":\"ec338b92-3311-4605-aae2-5a045a5321ff\",\"type\":\"GlyphRenderer\"},{\"id\":\"d08d148e-0d5a-4a95-92e7-173e4a4b759b\",\"type\":\"GlyphRenderer\"}]},\"id\":\"4acc1558-ab4d-4631-aab4-6a886bb21eac\",\"type\":\"LegendItem\"},{\"attributes\":{\"axis_label\":\"pressure [mb]\",\"formatter\":{\"id\":\"fce081c8-a200-47fc-a072-0d7db4544031\",\"type\":\"LogTickFormatter\"},\"plot\":{\"id\":\"207ffa9a-8d5b-4b05-94c2-11b236c5bfc9\",\"subtype\":\"Figure\",\"type\":\"Plot\"},\"ticker\":{\"id\":\"ecbdf79d-13f9-4027-a460-cd67a4d75b3b\",\"type\":\"LogTicker\"}},\"id\":\"4390e1c9-7b64-499f-b8ba-f1df4f19d2d1\",\"type\":\"LogAxis\"},{\"attributes\":{\"source\":{\"id\":\"a1d7dee9-117b-4ebb-8e03-4b8a18c4ccae\",\"type\":\"ColumnDataSource\"}},\"id\":\"cb7a47ea-2b53-4116-9d38-ce607367fc6a\",\"type\":\"CDSView\"},{\"attributes\":{\"tools\":[{\"id\":\"28b99f94-db8d-44be-8f6e-951fda179195\",\"type\":\"PanTool\"},{\"id\":\"19959384-ed38-4918-ae7d-b7f2a55f93cc\",\"type\":\"WheelZoomTool\"},{\"id\":\"a91fbedd-6598-467b-8b8f-45e57900c91a\",\"type\":\"BoxZoomTool\"},{\"id\":\"928508ce-76c1-419b-b853-3c9f11db468e\",\"type\":\"SaveTool\"},{\"id\":\"38d7221b-44aa-4c09-98b5-2435cde6b11d\",\"type\":\"ResetTool\"},{\"id\":\"f2fb5e9f-9e31-4a39-ac28-a047dc228ec8\",\"type\":\"HelpTool\"},{\"id\":\"81b97a4a-5ea6-4f05-ada4-af7920dc5d9f\",\"type\":\"PanTool\"},{\"id\":\"3280e84c-fd36-428c-8ef1-4ebb8df8ecc8\",\"type\":\"WheelZoomTool\"},{\"id\":\"c4e0e377-dee7-4011-bec7-92bfe934f17a\",\"type\":\"BoxZoomTool\"},{\"id\":\"e8dacc1d-9c50-43fb-89eb-46d32dba20a1\",\"type\":\"SaveTool\"},{\"id\":\"365ede6c-a0ee-4167-9bfe-84524ed15d82\",\"type\":\"ResetTool\"},{\"id\":\"9213c840-693b-40de-b403-7c0f20702b32\",\"type\":\"HelpTool\"},{\"id\":\"11def7dc-5bab-4324-8dc7-628fb548022d\",\"type\":\"PanTool\"},{\"id\":\"847e1ca0-d0fb-4355-b1f0-bb6e4bf87776\",\"type\":\"WheelZoomTool\"},{\"id\":\"8580d79a-36dc-42ef-8546-874937bdc006\",\"type\":\"BoxZoomTool\"},{\"id\":\"d5f17743-50d5-477e-bc79-cdade20add3a\",\"type\":\"SaveTool\"},{\"id\":\"8a763b5c-127c-47f1-83b9-e885e2bb059a\",\"type\":\"ResetTool\"},{\"id\":\"e6ccb32c-dbba-4ba5-b6b9-e28846ba584b\",\"type\":\"HelpTool\"}]},\"id\":\"f6212513-c938-4238-bdb1-d56cd9094b5f\",\"type\":\"ProxyToolbar\"},{\"attributes\":{\"line_alpha\":0.5,\"line_color\":\"#984ea3\",\"line_width\":1.5,\"x\":{\"field\":\"x\"},\"y\":{\"field\":\"y\"}},\"id\":\"058e1a30-5dfa-4b79-9d61-103eae5fc987\",\"type\":\"Line\"},{\"attributes\":{\"callback\":null,\"data\":{\"x\":{\"__ndarray__\":\"zReq2KbYRUD/tMdw9hdDQHCIT22Y40FAFg0oexE/QEBA1J7iYEA8QE3mDj5fPTdAKy/G6rzpMUA6VO346uUpQBXYIwsFGyJATcw+I6I0GkBwbMtvI94UQMrdcTj1thFAAMReHrVNDUCx3I/6pZYDQCBY81d19/U/XcmbCVWQ+j9dDacwtjMFQKUYff4mEAtAIartuXLhEEBdjL2gkxgWQME5piRG/x1Am5CzYRTWJEDMRMLfiM0qQIpv+zxW/SlAbrs4n4hQJEDVgBPpvUkgQFtJ3LDBaBtAAW+goqsKFkCklJKz4i0RQPbCF4VK7AtAfCVTah8VCEAflQTlsNgCQNjml7R5IPo/bj9jB+li8T8lHL88QbnnP6/i+xHGYtw/6R2SU6DozT8dmBT/KgbBP4QhM1SQLqC/XONcpGG8yL98XGIEgJt0vxcuQ1hr6ec/0K03JSaW9z937cpIDSgAQGdDSyGStAFAlNQfZ+gtAECrtt71eKP+PzkwkDHfmP0/XkdSyXb+/D+U1d5qkO/8P5IHbtBaLv0/AgF73OHp/D/CC7t6JaP8Px+0dSxKg/w/dXAxSoWV/D/ioP8WS8b8P7Uhem9XLv0/CmfM6PT9/j8Ri1qS6kwAQL2v3USM2ABAlh/cR2wLAUA/9cQBGN0AQE3+1KSOcABA2E2YTO8CAEDqJEro1mb/P3sIR2UTcP8/BmfKMOn9/z8gXVh2QnUAQH8JOCtyzQBA2ftm+NUEAUCuWSTySEwBQKFuZ/G3ygFA5yBvEGmFAkCn0UFmyYsDQD1rr+wf5wdA\",\"dtype\":\"float64\",\"shape\":[75]},\"y\":{\"__ndarray__\":\"GhExyth1ND/Sv8nbtpRIP2vylNV0PVE/aTum7souWD/At0SJ8fVgPw3Iuahxymc/MSNhhJWvcD/bTfBN02d3P2zb5nxnaoA/CD5h5MAGhz8NmeH1TyaQP+zrCsc9p5Y/LbKd76fGnz/bLW5ISEmmPww9YvTcQq8/JV2OstnstT8Er5Y7M8G+P0c+r3jqkcU/5h99k6ZBzj88bCIzFzjVP4enV8oyxN0//yH99nXg5D8qOpLLf0jtP5kqGJXUifQ/c9cS8kHP/D+/DpwzojQEQIEmwoanVwxA4lgXt9HgE0BSSZ2AJuIbQAMJih9jjiNA5q4l5INuK0AwTKYKRj0zQNv5fmq8/DpAaCJseHrtQkB/+zpwzoxKQM3MzMzMeFJAZmZmZmZqWEAAAAAAAFxeQM3MzMzMJmJAmpmZmZkfZUBmZmZmZhhoQDMzMzMzEWtAAAAAAAAKbkBmZmZmZoFwQM3MzMzM/XFAMzMzMzN6c0CamZmZmfZ0QAAAAAAAc3ZAZmZmZmbvd0DNzMzMzGt5QDMzMzMz6HpAmpmZmZlkfEAAAAAAAOF9QGZmZmZmXX9AZmZmZuZsgECamZmZGSuBQM3MzMxM6YFAAAAAAICngkAzMzMzs2WDQGZmZmbmI4RAmpmZmRnihEDNzMzMTKCFQAAAAACAXoZAMzMzM7Mch0BmZmZm5tqHQJqZmZkZmYhAzczMzExXiUAAAAAAgBWKQDMzMzOz04pAZmZmZuaRi0CamZmZGVCMQM3MzMxMDo1AAAAAAIDMjUAzMzMzs4qOQGZmZmbmSI9A\",\"dtype\":\"float64\",\"shape\":[75]}},\"selected\":{\"id\":\"a7715b53-9327-49d7-b5b5-c9e895716c0a\",\"type\":\"Selection\"},\"selection_policy\":{\"id\":\"6035640d-909d-45a8-a10f-344e23225744\",\"type\":\"UnionRenderers\"}},\"id\":\"8bad57a5-eb26-4aed-a4e3-9afb41316f1d\",\"type\":\"ColumnDataSource\"},{\"attributes\":{\"line_alpha\":0.6,\"line_color\":\"#377eb8\",\"line_dash\":[6],\"line_width\":5,\"x\":{\"field\":\"x\"},\"y\":{\"field\":\"y\"}},\"id\":\"bba3bd39-f888-4d18-938a-31a9480bcd90\",\"type\":\"Line\"},{\"attributes\":{\"plot\":{\"id\":\"14e025f0-0e18-4b6f-987c-179fa8b971d7\",\"subtype\":\"Figure\",\"type\":\"Plot\"},\"ticker\":{\"id\":\"f4a79832-c8fc-4561-a6ef-402b76a2d022\",\"type\":\"BasicTicker\"}},\"id\":\"f5ee2e9c-2db4-4e6d-8c01-3ea54ac06a49\",\"type\":\"Grid\"},{\"attributes\":{},\"id\":\"34142d30-d51b-4e06-b6ab-957cb867ea38\",\"type\":\"Selection\"},{\"attributes\":{\"data_source\":{\"id\":\"6f6e78e4-80df-45aa-8179-052cef903e66\",\"type\":\"ColumnDataSource\"},\"glyph\":{\"id\":\"b01e3579-23bd-43df-a8a9-c022e79e217c\",\"type\":\"Circle\"},\"hover_glyph\":null,\"muted_glyph\":null,\"nonselection_glyph\":{\"id\":\"e270ac80-4772-4093-9b05-0ac92e12acc8\",\"type\":\"Circle\"},\"selection_glyph\":null,\"view\":{\"id\":\"225c6e60-0190-43a2-9e10-0827f35a5339\",\"type\":\"CDSView\"}},\"id\":\"809f1446-f33c-4e22-8258-4bb15a09171e\",\"type\":\"GlyphRenderer\"},{\"attributes\":{},\"id\":\"b43940d8-5cd3-4593-b6ed-1b28ead76c15\",\"type\":\"Selection\"},{\"attributes\":{\"line_alpha\":0.1,\"line_color\":\"#1f77b4\",\"line_width\":1.5,\"x\":{\"field\":\"x\"},\"y\":{\"field\":\"y\"}},\"id\":\"13ad9ced-4bde-4187-8dae-252b19cc6b9c\",\"type\":\"Line\"},{\"attributes\":{},\"id\":\"02ac18a5-5a3f-47c0-8347-4084b61b1664\",\"type\":\"Selection\"},{\"attributes\":{\"label\":{\"value\":\"CLIRAD (single-run)\"},\"renderers\":[{\"id\":\"07cf5b45-f4ea-41e8-b10e-270336e1b27e\",\"type\":\"GlyphRenderer\"}]},\"id\":\"823bc93f-fe64-42a0-9b81-6f5a9c1989b3\",\"type\":\"LegendItem\"},{\"attributes\":{},\"id\":\"c2236f24-7fe2-4752-a07f-4e2fefd51293\",\"type\":\"UnionRenderers\"},{\"attributes\":{},\"id\":\"32526f69-20e6-4d67-9a3f-59b6bc36e59b\",\"type\":\"Selection\"},{\"attributes\":{\"fill_alpha\":{\"value\":0.7},\"fill_color\":{\"value\":\"#4daf4a\"},\"line_alpha\":{\"value\":0.7},\"line_color\":{\"value\":\"#4daf4a\"},\"x\":{\"field\":\"x\"},\"y\":{\"field\":\"y\"}},\"id\":\"58a58cc7-9679-45e0-94b4-6d474dc4ad1e\",\"type\":\"Circle\"},{\"attributes\":{\"source\":{\"id\":\"8bad57a5-eb26-4aed-a4e3-9afb41316f1d\",\"type\":\"ColumnDataSource\"}},\"id\":\"38461457-4bf7-47e8-b6a3-ad932ba85535\",\"type\":\"CDSView\"},{\"attributes\":{\"data_source\":{\"id\":\"5d12792c-3008-4229-8001-21170fee5884\",\"type\":\"ColumnDataSource\"},\"glyph\":{\"id\":\"058e1a30-5dfa-4b79-9d61-103eae5fc987\",\"type\":\"Line\"},\"hover_glyph\":null,\"muted_glyph\":null,\"nonselection_glyph\":{\"id\":\"13ad9ced-4bde-4187-8dae-252b19cc6b9c\",\"type\":\"Line\"},\"selection_glyph\":null,\"view\":{\"id\":\"6856d60a-57fc-479d-9d0a-547ff629c748\",\"type\":\"CDSView\"}},\"id\":\"d08d148e-0d5a-4a95-92e7-173e4a4b759b\",\"type\":\"GlyphRenderer\"},{\"attributes\":{},\"id\":\"6bdd0fdf-afbc-45b1-b388-35f18f823fcb\",\"type\":\"BasicTickFormatter\"},{\"attributes\":{\"data_source\":{\"id\":\"37d229be-1563-4ca8-8d6b-57a534e29a22\",\"type\":\"ColumnDataSource\"},\"glyph\":{\"id\":\"58a58cc7-9679-45e0-94b4-6d474dc4ad1e\",\"type\":\"Circle\"},\"hover_glyph\":null,\"muted_glyph\":null,\"nonselection_glyph\":{\"id\":\"61001249-f1c2-44da-81d0-e12018d0a766\",\"type\":\"Circle\"},\"selection_glyph\":null,\"view\":{\"id\":\"2ca9a58f-2074-485e-be24-58689301b7d2\",\"type\":\"CDSView\"}},\"id\":\"ec7b5315-94ad-4bf8-a35f-00b9b49e7fee\",\"type\":\"GlyphRenderer\"},{\"attributes\":{},\"id\":\"898da356-b110-4376-bec4-b824a22955b1\",\"type\":\"BasicTickFormatter\"},{\"attributes\":{\"ticker\":null},\"id\":\"7eb9b6dd-14ec-46f5-a5a8-94d273f6c238\",\"type\":\"LogTickFormatter\"},{\"attributes\":{},\"id\":\"928508ce-76c1-419b-b853-3c9f11db468e\",\"type\":\"SaveTool\"},{\"attributes\":{\"overlay\":{\"id\":\"161fa402-a422-4ef0-807e-2e4cb0bf31ee\",\"type\":\"BoxAnnotation\"}},\"id\":\"8580d79a-36dc-42ef-8546-874937bdc006\",\"type\":\"BoxZoomTool\"},{\"attributes\":{},\"id\":\"329757eb-ee7b-49fa-be30-ecfbb5fa4ee8\",\"type\":\"UnionRenderers\"},{\"attributes\":{},\"id\":\"e6ccb32c-dbba-4ba5-b6b9-e28846ba584b\",\"type\":\"HelpTool\"},{\"attributes\":{},\"id\":\"4a5e3aed-8a72-4161-baac-bd97fffe8782\",\"type\":\"UnionRenderers\"},{\"attributes\":{\"line_alpha\":0.1,\"line_color\":\"#1f77b4\",\"line_width\":1.5,\"x\":{\"field\":\"x\"},\"y\":{\"field\":\"y\"}},\"id\":\"fcfcf30b-926f-4b09-bd57-cc912e5f5263\",\"type\":\"Line\"},{\"attributes\":{},\"id\":\"11def7dc-5bab-4324-8dc7-628fb548022d\",\"type\":\"PanTool\"},{\"attributes\":{},\"id\":\"a81c32ab-d273-492c-8d0f-1153ac284a3b\",\"type\":\"BasicTicker\"},{\"attributes\":{\"bottom_units\":\"screen\",\"fill_alpha\":{\"value\":0.5},\"fill_color\":{\"value\":\"lightgrey\"},\"left_units\":\"screen\",\"level\":\"overlay\",\"line_alpha\":{\"value\":1.0},\"line_color\":{\"value\":\"black\"},\"line_dash\":[4,4],\"line_width\":{\"value\":2},\"plot\":null,\"render_mode\":\"css\",\"right_units\":\"screen\",\"top_units\":\"screen\"},\"id\":\"420ed65d-ed99-4de6-b8c3-f25290a5f129\",\"type\":\"BoxAnnotation\"},{\"attributes\":{\"data_source\":{\"id\":\"8bad57a5-eb26-4aed-a4e3-9afb41316f1d\",\"type\":\"ColumnDataSource\"},\"glyph\":{\"id\":\"4249e5f5-912b-44c3-90ba-6132a1b71bd4\",\"type\":\"Line\"},\"hover_glyph\":null,\"muted_glyph\":null,\"nonselection_glyph\":{\"id\":\"4f4b81a1-1421-40a1-a859-88446cd3c48b\",\"type\":\"Line\"},\"selection_glyph\":null,\"view\":{\"id\":\"38461457-4bf7-47e8-b6a3-ad932ba85535\",\"type\":\"CDSView\"}},\"id\":\"4b5803a0-1823-4530-a226-53145eb7e485\",\"type\":\"GlyphRenderer\"},{\"attributes\":{\"callback\":null,\"data\":{\"x\":{\"__ndarray__\":\"MXhf+wfXU0AZbvNjswdFQLQWsEQVdUFA5TlpnhT9QUB/x1dOYK05QImjxHmcEjZA9jYDSBB3L0AISPl4H6wqQBPuuwfAzyJAOcHprUZAIUB7WWpkesAXQJoT1Uq+ChVArO/8u0EXCkBgVNlshzgCQMeNQ+Nzu/I/POwv1Qzh+D9QxMRmcj8DQOrE7tC4mAxAQsLBRIlHEkAi4cPYoDEXQEeDpjRjzB1ASZ0GEfCuI0DVFj11sssnQOMiVKSMHyhAWRHvUxNoJEDo8cjD4g8gQLGGvR2NDRpAdpI3nV5oFECtyWH9Lp4QQIZQd9bvmwtAkshlnu1BBkBMysnQf1UAQHZJU/DYZ/c/HoEhV+G48T/rSm4vc/TmP3EgV4cD49g/xmy6+4w7zz+bEsjh3uDDPw5SRMRogKs/4GPKdPc1a78lazVXN1vCP/B84ODeUug/LOyxgXDV9z+/DBHyZAwAQAOIY+fy/QFAahF3XKCUAECV0GHvGsz+P+X4k4Nhvf0/RO/IqI98/T8rkW+v/zT9P59vGMDsAv0/zEX7plCY/D/E3siS8kj7P2yUMv+hDvs/RmrXDaYs+z+c9f5GCO36P58nVCbr7vo/Qus8hbcy/D+rD5hFMCf9P4t6dxofnPw/bRp4QYZ2/D/q8NNiN2b8P5YTVw9ESPw/l1Dy0X/K+j+WKih3ZdD5P2k8OYxHjvk/hceGh5N4+T8lpPahWSn5P6vJnePt4vY/UuhmxnXI9T8miFqdE+D0Pz7qfx5CR/Q/0khvq2US9D9LfVdHQGv0P9syeEmwYfg/\",\"dtype\":\"float64\",\"shape\":[75]},\"y\":{\"__ndarray__\":\"hLndy31yND/6fmq8dJNIP8n9DkWBPlE/aDum7souWD/b4a/JGvVgP9f34SAhymc/ZvM4DOavcD+z0M5pFmh3PxuC4zJuaoA/xjcUPlsHhz8uHAjJAiaQP9ieWRKgppY/oI7HDFTGnz+a5h2n6EimPzS6g9iZQq8/IuAQqtTstT9SSZ2AJsK+P4nS3uALk8U/ih9j7lpCzj+ASL99HTjVP4enV8oyxN0/ACL99nXg5D9fmEwVjErtPyUGgZVDi/Q/AiuHFtnO/D9OYhBYOTQEQPHSTWIQWAxA4XoUrkfhE0D8qfHSTeIbQMh2vp8ajyNArkfhehRuK0Bcj8L1KDwzQFyPwvUo/DpAPgrXo3DtQkDNzMzMzIxKQClcj8L1eFJAKVyPwvVoWECamZmZmVleQGZmZmZmJmJAAAAAAAAgZUCamZmZmRloQJqZmZmZEWtAmpmZmZkJbkCamZmZmYFwQGZmZmZm/nFAZmZmZmZ6c0BmZmZmZvZ0QDQzMzMzc3ZAAAAAAADwd0AAAAAAAGx5QAAAAAAA6HpAzMzMzMxkfEDMzMzMzOB9QM3MzMzMXH9AzczMzMxsgEAzMzMzMyuBQDMzMzMz6YFAMzMzMzOngkCamZmZmWWDQAAAAAAAJIRAAAAAAADihEAAAAAAAKCFQGZmZmZmXoZAzczMzMwch0DNzMzMzNqHQM3MzMzMmIhAMzMzMzNXiUCamZmZmRWKQAAAAAAA1IpAAAAAAACSi0AAAAAAAFCMQGZmZmZmDo1AzczMzMzMjUDNzMzMzIqOQM3MzMzMSI9A\",\"dtype\":\"float64\",\"shape\":[75]}},\"selected\":{\"id\":\"5d533f3d-cddb-49ee-8dd9-79e624c7337c\",\"type\":\"Selection\"},\"selection_policy\":{\"id\":\"4dc6396c-cfcd-46e4-b96c-1c2e7c35e744\",\"type\":\"UnionRenderers\"}},\"id\":\"5d12792c-3008-4229-8001-21170fee5884\",\"type\":\"ColumnDataSource\"},{\"attributes\":{},\"id\":\"19959384-ed38-4918-ae7d-b7f2a55f93cc\",\"type\":\"WheelZoomTool\"},{\"attributes\":{\"children\":[{\"id\":\"0c078704-f3ea-4219-80bf-9abeda3f6f2f\",\"type\":\"ToolbarBox\"},{\"id\":\"8599bebc-de14-49c0-9e8a-7588af229a2e\",\"type\":\"Column\"}]},\"id\":\"2b4b624b-db4a-4a3c-ba9b-8751a7e2f15d\",\"type\":\"Column\"},{\"attributes\":{\"callback\":null,\"data\":{\"x\":{\"__ndarray__\":\"cm1sTMT3VEDEyvjosEJHQOKI6DjzCUNArgQWV9awPkB9Lm8XG3M4QEz+Qv6iYzNA7eV8HaPLLkCX1QHyTpMoQFBmYSYetiNAUB04GtGpH0AmFyVE5j8ZQJca9QPGqBNALJP+OOHHDEBNxaf7QF8AQKtislomWuw/cW2dcO6A9T/uJJvfPu0EQIaQLTI/JQ1AxGiII+PmEkCJvfVeuCsYQD6ZBhGbHB9AXQw69DTYJEAsubcwKucqQNuT9D5OmipAJyi3szEJJUBlNebh5WkgQDDcPHBr2xlArtlANXuQFEBdJadFHckQQI2Avh0ZsQtAjYiwt1rsBUCL0SDoVBgAQK6C0nEEjvc/CggLSme58T9sXU2orFPnP0v0JYz9Gdg/vT38vxYczD9nBQTe6kHHP1IhkEXJwKo/8OZnhCVAub+xtVgCpmqzP6DUpY6g0+k/PKK3T1h4+D8RTDjQc1EAQG/dAQs7TwJAQt2eHpPLAEBWEh074x//PyCap9ZSGf4/rEzaTySm/T+7aXhHRmr9P688KeqeNP0/ruZ4EemD/D8olrZcn9T7P0+vNc9hW/s/i9VVL+4P+z+0NzC24uz6P8731Kza8vo/xFf4SHzq+z+gYyHpvHb8P68ROkiFevw/BAjYdCga/D8AUp8VbW77P3JrF/nKmvo/qCQeGfq++T/dplwHJfn4P2G4p+Uva/g/OzZ0RqMZ+D8dmn/iar73P/OuA7Ka8PY/gaaeQHGn9T9hkyjAH1L0P3aZGhdAU/M/n8VP/g7P8j+90HxHNvfyPwhNBtgrqvk/\",\"dtype\":\"float64\",\"shape\":[75]},\"y\":{\"__ndarray__\":\"GhExyth1ND/Sv8nbtpRIP2vylNV0PVE/aTum7souWD/At0SJ8fVgPw3Iuahxymc/MSNhhJWvcD/bTfBN02d3P2zb5nxnaoA/CD5h5MAGhz8NmeH1TyaQP+zrCsc9p5Y/LbKd76fGnz/bLW5ISEmmPww9YvTcQq8/JV2OstnstT8Er5Y7M8G+P0c+r3jqkcU/5h99k6ZBzj88bCIzFzjVP4enV8oyxN0//yH99nXg5D8qOpLLf0jtP5kqGJXUifQ/c9cS8kHP/D+/DpwzojQEQIEmwoanVwxA4lgXt9HgE0BSSZ2AJuIbQAMJih9jjiNA5q4l5INuK0AwTKYKRj0zQNv5fmq8/DpAaCJseHrtQkB/+zpwzoxKQM3MzMzMeFJAZmZmZmZqWEAAAAAAAFxeQM3MzMzMJmJAmpmZmZkfZUBmZmZmZhhoQDMzMzMzEWtAAAAAAAAKbkBmZmZmZoFwQM3MzMzM/XFAMzMzMzN6c0CamZmZmfZ0QAAAAAAAc3ZAZmZmZmbvd0DNzMzMzGt5QDMzMzMz6HpAmpmZmZlkfEAAAAAAAOF9QGZmZmZmXX9AZmZmZuZsgECamZmZGSuBQM3MzMxM6YFAAAAAAICngkAzMzMzs2WDQGZmZmbmI4RAmpmZmRnihEDNzMzMTKCFQAAAAACAXoZAMzMzM7Mch0BmZmZm5tqHQJqZmZkZmYhAzczMzExXiUAAAAAAgBWKQDMzMzOz04pAZmZmZuaRi0CamZmZGVCMQM3MzMxMDo1AAAAAAIDMjUAzMzMzs4qOQGZmZmbmSI9A\",\"dtype\":\"float64\",\"shape\":[75]}},\"selected\":{\"id\":\"06a8f0e9-6166-4b42-be7a-09e2c310a3b3\",\"type\":\"Selection\"},\"selection_policy\":{\"id\":\"856de817-db79-4bfd-a14d-de50f8309a9a\",\"type\":\"UnionRenderers\"}},\"id\":\"b3693c93-9ea5-4ce7-8a05-54e70b371f79\",\"type\":\"ColumnDataSource\"},{\"attributes\":{\"source\":{\"id\":\"ba33b3cb-4a56-42fb-9182-afe71a83b6bf\",\"type\":\"ColumnDataSource\"}},\"id\":\"766c7ce7-2f9a-4bf6-9589-6acf95664ab5\",\"type\":\"CDSView\"},{\"attributes\":{},\"id\":\"2dfa00be-c15c-4797-8364-75904169e3a4\",\"type\":\"LogScale\"},{\"attributes\":{\"dimension\":1,\"plot\":{\"id\":\"14e025f0-0e18-4b6f-987c-179fa8b971d7\",\"subtype\":\"Figure\",\"type\":\"Plot\"},\"ticker\":{\"id\":\"a81c32ab-d273-492c-8d0f-1153ac284a3b\",\"type\":\"BasicTicker\"}},\"id\":\"d97fdb48-0eda-44fa-845e-f3fc3af61465\",\"type\":\"Grid\"},{\"attributes\":{},\"id\":\"dc5b3347-cf9c-469b-a739-e25ee6ddc3fc\",\"type\":\"UnionRenderers\"},{\"attributes\":{},\"id\":\"28b99f94-db8d-44be-8f6e-951fda179195\",\"type\":\"PanTool\"},{\"attributes\":{\"above\":[{\"id\":\"fb91331a-bf34-49f3-96e3-8a06b6079a40\",\"type\":\"Legend\"}],\"below\":[{\"id\":\"e6df95da-8ea6-4b55-9892-c78921156bf6\",\"type\":\"LinearAxis\"}],\"left\":[{\"id\":\"4390e1c9-7b64-499f-b8ba-f1df4f19d2d1\",\"type\":\"LogAxis\"}],\"plot_width\":300,\"renderers\":[{\"id\":\"e6df95da-8ea6-4b55-9892-c78921156bf6\",\"type\":\"LinearAxis\"},{\"id\":\"fe69c2f5-0631-46ec-beed-fc3c517d3675\",\"type\":\"Grid\"},{\"id\":\"4390e1c9-7b64-499f-b8ba-f1df4f19d2d1\",\"type\":\"LogAxis\"},{\"id\":\"765add70-d3b7-43ed-a7db-303211d1958b\",\"type\":\"Grid\"},{\"id\":\"161fa402-a422-4ef0-807e-2e4cb0bf31ee\",\"type\":\"BoxAnnotation\"},{\"id\":\"809f1446-f33c-4e22-8258-4bb15a09171e\",\"type\":\"GlyphRenderer\"},{\"id\":\"cd40eeeb-97c5-4ab1-8bb4-bce3bed3c584\",\"type\":\"GlyphRenderer\"},{\"id\":\"ccadce36-b589-412b-8191-e0b48b040cd7\",\"type\":\"GlyphRenderer\"},{\"id\":\"fb91331a-bf34-49f3-96e3-8a06b6079a40\",\"type\":\"Legend\"}],\"title\":{\"id\":\"ceae9be2-05d2-4196-b808-96dc2d06d2ec\",\"type\":\"Title\"},\"toolbar\":{\"id\":\"a3a18001-9c1b-49ca-86ce-a15aed8d19cd\",\"type\":\"Toolbar\"},\"toolbar_location\":null,\"x_range\":{\"id\":\"d225d0eb-e7c5-48cd-a8ae-5ce9f6144b2a\",\"type\":\"Range1d\"},\"x_scale\":{\"id\":\"68b9891e-a4ec-47b4-a31d-a8e69136e47e\",\"type\":\"LinearScale\"},\"y_range\":{\"id\":\"b019b690-477d-4b74-81c4-ed56dbb6e9fa\",\"type\":\"Range1d\"},\"y_scale\":{\"id\":\"2dfa00be-c15c-4797-8364-75904169e3a4\",\"type\":\"LogScale\"}},\"id\":\"207ffa9a-8d5b-4b05-94c2-11b236c5bfc9\",\"subtype\":\"Figure\",\"type\":\"Plot\"},{\"attributes\":{\"fill_alpha\":{\"value\":0.1},\"fill_color\":{\"value\":\"#1f77b4\"},\"line_alpha\":{\"value\":0.1},\"line_color\":{\"value\":\"#1f77b4\"},\"x\":{\"field\":\"x\"},\"y\":{\"field\":\"y\"}},\"id\":\"e71b7de5-2840-47a0-b3ca-e546aecb0c99\",\"type\":\"Square\"},{\"attributes\":{},\"id\":\"a7715b53-9327-49d7-b5b5-c9e895716c0a\",\"type\":\"Selection\"},{\"attributes\":{},\"id\":\"f5bd335c-fea4-4ba5-9721-84c037e45e0b\",\"type\":\"UnionRenderers\"},{\"attributes\":{},\"id\":\"f4a79832-c8fc-4561-a6ef-402b76a2d022\",\"type\":\"BasicTicker\"},{\"attributes\":{\"items\":[{\"id\":\"78c1aefe-ea42-443e-a735-89098aa37816\",\"type\":\"LegendItem\"},{\"id\":\"3091d856-6d97-4f0e-a215-4cca69965638\",\"type\":\"LegendItem\"}],\"label_text_font_size\":{\"value\":\"8pt\"},\"location\":\"top_center\",\"orientation\":\"horizontal\",\"plot\":{\"id\":\"207ffa9a-8d5b-4b05-94c2-11b236c5bfc9\",\"subtype\":\"Figure\",\"type\":\"Plot\"}},\"id\":\"fb91331a-bf34-49f3-96e3-8a06b6079a40\",\"type\":\"Legend\"},{\"attributes\":{\"active_drag\":\"auto\",\"active_inspect\":\"auto\",\"active_scroll\":\"auto\",\"active_tap\":\"auto\",\"tools\":[{\"id\":\"11def7dc-5bab-4324-8dc7-628fb548022d\",\"type\":\"PanTool\"},{\"id\":\"847e1ca0-d0fb-4355-b1f0-bb6e4bf87776\",\"type\":\"WheelZoomTool\"},{\"id\":\"8580d79a-36dc-42ef-8546-874937bdc006\",\"type\":\"BoxZoomTool\"},{\"id\":\"d5f17743-50d5-477e-bc79-cdade20add3a\",\"type\":\"SaveTool\"},{\"id\":\"8a763b5c-127c-47f1-83b9-e885e2bb059a\",\"type\":\"ResetTool\"},{\"id\":\"e6ccb32c-dbba-4ba5-b6b9-e28846ba584b\",\"type\":\"HelpTool\"}]},\"id\":\"a3a18001-9c1b-49ca-86ce-a15aed8d19cd\",\"type\":\"Toolbar\"},{\"attributes\":{\"fill_alpha\":{\"value\":0.7},\"fill_color\":{\"value\":\"#984ea3\"},\"line_alpha\":{\"value\":0.7},\"line_color\":{\"value\":\"#984ea3\"},\"x\":{\"field\":\"x\"},\"y\":{\"field\":\"y\"}},\"id\":\"852c74d9-f84e-47d9-87ca-126abc083d8c\",\"type\":\"Square\"},{\"attributes\":{},\"id\":\"8f79a215-4f97-4fef-b2bd-ed5393244363\",\"type\":\"Selection\"},{\"attributes\":{},\"id\":\"f2fb5e9f-9e31-4a39-ac28-a047dc228ec8\",\"type\":\"HelpTool\"},{\"attributes\":{\"callback\":null,\"data\":{\"x\":{\"__ndarray__\":\"MXhf+wfXU0AZbvNjswdFQLQWsEQVdUFA5TlpnhT9QUB/x1dOYK05QImjxHmcEjZA9jYDSBB3L0AISPl4H6wqQBPuuwfAzyJAOcHprUZAIUB7WWpkesAXQJoT1Uq+ChVArO/8u0EXCkBgVNlshzgCQMeNQ+Nzu/I/POwv1Qzh+D9QxMRmcj8DQOrE7tC4mAxAQsLBRIlHEkAi4cPYoDEXQEeDpjRjzB1ASZ0GEfCuI0DVFj11sssnQOMiVKSMHyhAWRHvUxNoJEDo8cjD4g8gQLGGvR2NDRpAdpI3nV5oFECtyWH9Lp4QQIZQd9bvmwtAkshlnu1BBkBMysnQf1UAQHZJU/DYZ/c/HoEhV+G48T/rSm4vc/TmP3EgV4cD49g/xmy6+4w7zz+bEsjh3uDDPw5SRMRogKs/4GPKdPc1a78lazVXN1vCP/B84ODeUug/LOyxgXDV9z+/DBHyZAwAQAOIY+fy/QFAahF3XKCUAECV0GHvGsz+P+X4k4Nhvf0/RO/IqI98/T8rkW+v/zT9P59vGMDsAv0/zEX7plCY/D/E3siS8kj7P2yUMv+hDvs/RmrXDaYs+z+c9f5GCO36P58nVCbr7vo/Qus8hbcy/D+rD5hFMCf9P4t6dxofnPw/bRp4QYZ2/D/q8NNiN2b8P5YTVw9ESPw/l1Dy0X/K+j+WKih3ZdD5P2k8OYxHjvk/hceGh5N4+T8lpPahWSn5P6vJnePt4vY/UuhmxnXI9T8miFqdE+D0Pz7qfx5CR/Q/0khvq2US9D9LfVdHQGv0P9syeEmwYfg/\",\"dtype\":\"float64\",\"shape\":[75]},\"y\":{\"__ndarray__\":\"hLndy31yND/6fmq8dJNIP8n9DkWBPlE/aDum7souWD/b4a/JGvVgP9f34SAhymc/ZvM4DOavcD+z0M5pFmh3PxuC4zJuaoA/xjcUPlsHhz8uHAjJAiaQP9ieWRKgppY/oI7HDFTGnz+a5h2n6EimPzS6g9iZQq8/IuAQqtTstT9SSZ2AJsK+P4nS3uALk8U/ih9j7lpCzj+ASL99HTjVP4enV8oyxN0/ACL99nXg5D9fmEwVjErtPyUGgZVDi/Q/AiuHFtnO/D9OYhBYOTQEQPHSTWIQWAxA4XoUrkfhE0D8qfHSTeIbQMh2vp8ajyNArkfhehRuK0Bcj8L1KDwzQFyPwvUo/DpAPgrXo3DtQkDNzMzMzIxKQClcj8L1eFJAKVyPwvVoWECamZmZmVleQGZmZmZmJmJAAAAAAAAgZUCamZmZmRloQJqZmZmZEWtAmpmZmZkJbkCamZmZmYFwQGZmZmZm/nFAZmZmZmZ6c0BmZmZmZvZ0QDQzMzMzc3ZAAAAAAADwd0AAAAAAAGx5QAAAAAAA6HpAzMzMzMxkfEDMzMzMzOB9QM3MzMzMXH9AzczMzMxsgEAzMzMzMyuBQDMzMzMz6YFAMzMzMzOngkCamZmZmWWDQAAAAAAAJIRAAAAAAADihEAAAAAAAKCFQGZmZmZmXoZAzczMzMwch0DNzMzMzNqHQM3MzMzMmIhAMzMzMzNXiUCamZmZmRWKQAAAAAAA1IpAAAAAAACSi0AAAAAAAFCMQGZmZmZmDo1AzczMzMzMjUDNzMzMzIqOQM3MzMzMSI9A\",\"dtype\":\"float64\",\"shape\":[75]}},\"selected\":{\"id\":\"4a535242-0edd-46e1-8683-3285192c0f8f\",\"type\":\"Selection\"},\"selection_policy\":{\"id\":\"03892d43-9bf0-40b3-8e73-6990fea9e83a\",\"type\":\"UnionRenderers\"}},\"id\":\"a1d7dee9-117b-4ebb-8e03-4b8a18c4ccae\",\"type\":\"ColumnDataSource\"},{\"attributes\":{\"source\":{\"id\":\"37d229be-1563-4ca8-8d6b-57a534e29a22\",\"type\":\"ColumnDataSource\"}},\"id\":\"2ca9a58f-2074-485e-be24-58689301b7d2\",\"type\":\"CDSView\"},{\"attributes\":{},\"id\":\"06a8f0e9-6166-4b42-be7a-09e2c310a3b3\",\"type\":\"Selection\"},{\"attributes\":{},\"id\":\"38d7221b-44aa-4c09-98b5-2435cde6b11d\",\"type\":\"ResetTool\"},{\"attributes\":{\"source\":{\"id\":\"5d12792c-3008-4229-8001-21170fee5884\",\"type\":\"ColumnDataSource\"}},\"id\":\"6856d60a-57fc-479d-9d0a-547ff629c748\",\"type\":\"CDSView\"},{\"attributes\":{},\"id\":\"1cdbe672-c3b3-44e7-9a75-ec2980771522\",\"type\":\"UnionRenderers\"},{\"attributes\":{\"plot\":null,\"text\":\"\"},\"id\":\"d791d88d-e512-41a2-b2d8-b6edb263b25c\",\"type\":\"Title\"},{\"attributes\":{},\"id\":\"856de817-db79-4bfd-a14d-de50f8309a9a\",\"type\":\"UnionRenderers\"},{\"attributes\":{\"callback\":null,\"end\":0.01,\"start\":1020},\"id\":\"196b2472-5977-4b67-9ed6-7ebd3eec0247\",\"type\":\"Range1d\"}],\"root_ids\":[\"2b4b624b-db4a-4a3c-ba9b-8751a7e2f15d\"]},\"title\":\"Bokeh Application\",\"version\":\"0.12.16\"}};\n",
       "  var render_items = [{\"docid\":\"a34b05f7-08a8-45d9-b0ff-1cb6f88e1068\",\"elementid\":\"e0a4c540-b9a6-4f83-8b4a-1dded63cbfc3\",\"modelid\":\"2b4b624b-db4a-4a3c-ba9b-8751a7e2f15d\"}];\n",
       "  root.Bokeh.embed.embed_items_notebook(docs_json, render_items);\n",
       "\n",
       "  }\n",
       "  if (root.Bokeh !== undefined) {\n",
       "    embed_document(root);\n",
       "  } else {\n",
       "    var attempts = 0;\n",
       "    var timer = setInterval(function(root) {\n",
       "      if (root.Bokeh !== undefined) {\n",
       "        embed_document(root);\n",
       "        clearInterval(timer);\n",
       "      }\n",
       "      attempts++;\n",
       "      if (attempts > 100) {\n",
       "        console.log(\"Bokeh: ERROR: Unable to run BokehJS code because BokehJS library is missing\")\n",
       "        clearInterval(timer);\n",
       "      }\n",
       "    }, 10, root)\n",
       "  }\n",
       "})(window);"
      ],
      "application/vnd.bokehjs_exec.v0+json": ""
     },
     "metadata": {
      "application/vnd.bokehjs_exec.v0+json": {
       "id": "2b4b624b-db4a-4a3c-ba9b-8751a7e2f15d"
      }
     },
     "output_type": "display_data"
    },
    {
     "data": {
      "text/markdown": [
       "*FIGURE.* Cooling rates & difference."
      ],
      "text/plain": [
       "<IPython.core.display.Markdown object>"
      ]
     },
     "metadata": {},
     "output_type": "display_data"
    },
    {
     "data": {
      "text/html": [
       "<a id=\"Fluxes._mls.\"></a>"
      ],
      "text/plain": [
       "<IPython.core.display.HTML object>"
      ]
     },
     "metadata": {},
     "output_type": "display_data"
    },
    {
     "data": {
      "text/markdown": [
       "# Fluxes. mls."
      ],
      "text/plain": [
       "<IPython.core.display.Markdown object>"
      ]
     },
     "metadata": {},
     "output_type": "display_data"
    },
    {
     "data": {
      "text/html": [
       "\n",
       "<div class=\"bk-root\">\n",
       "    <div class=\"bk-plotdiv\" id=\"e534f102-7029-47dc-8c7d-14a2c25b05fe\"></div>\n",
       "</div>"
      ]
     },
     "metadata": {},
     "output_type": "display_data"
    },
    {
     "data": {
      "application/javascript": [
       "(function(root) {\n",
       "  function embed_document(root) {\n",
       "    \n",
       "  var docs_json = {\"e892d0c9-0021-4555-9899-0b3e2ef84c54\":{\"roots\":{\"references\":[{\"attributes\":{\"below\":[{\"id\":\"8aadb120-da91-4406-ba42-546464145fa2\",\"type\":\"CategoricalAxis\"}],\"left\":[{\"id\":\"3d5a3f4a-a1f9-4ecc-bc10-c1f9420f1cb3\",\"type\":\"LinearAxis\"}],\"plot_height\":300,\"plot_width\":300,\"renderers\":[{\"id\":\"8aadb120-da91-4406-ba42-546464145fa2\",\"type\":\"CategoricalAxis\"},{\"id\":\"0d4d32ea-526c-4506-b19f-77ef6a08d1a6\",\"type\":\"Grid\"},{\"id\":\"3d5a3f4a-a1f9-4ecc-bc10-c1f9420f1cb3\",\"type\":\"LinearAxis\"},{\"id\":\"effc08a3-b0c3-467c-bf6b-3fee20fc9773\",\"type\":\"Grid\"},{\"id\":\"aba4cf43-96b6-4a4a-8e96-aa838c67afe4\",\"type\":\"BoxAnnotation\"},{\"id\":\"0b13ae7b-37f9-40ed-a2e9-3dc4a1264220\",\"type\":\"GlyphRenderer\"}],\"title\":{\"id\":\"67ec9f84-0793-4874-906e-a6a4c1556cdb\",\"type\":\"Title\"},\"toolbar\":{\"id\":\"61d7ab3b-682e-4ec1-a0c3-b2f5acc72368\",\"type\":\"Toolbar\"},\"toolbar_location\":null,\"x_range\":{\"id\":\"53e0d164-1311-4627-a023-10de42105d4e\",\"type\":\"FactorRange\"},\"x_scale\":{\"id\":\"a617b1fd-7797-40d3-b9c4-daf4c8ee5150\",\"type\":\"CategoricalScale\"},\"y_range\":{\"id\":\"0fd46f2e-2882-43ea-a1b9-ba0f3f29c225\",\"type\":\"DataRange1d\"},\"y_scale\":{\"id\":\"10ba99cb-53c3-42f6-8fe0-7be3c3553a86\",\"type\":\"LinearScale\"}},\"id\":\"0456d187-4a30-4e55-ba5f-e68ec33f4a50\",\"subtype\":\"Figure\",\"type\":\"Plot\"},{\"attributes\":{\"tools\":[{\"id\":\"2af1fb12-c12d-4d22-aab4-9c8608153a51\",\"type\":\"PanTool\"},{\"id\":\"e6d078cf-8189-4e49-89ca-2aae9599db06\",\"type\":\"WheelZoomTool\"},{\"id\":\"84a0463e-386f-4e32-808f-ae4a85e0754f\",\"type\":\"BoxZoomTool\"},{\"id\":\"37d99d5e-ab2d-45a7-9046-5703c1b1fd4b\",\"type\":\"SaveTool\"},{\"id\":\"f0e2c4d4-d5eb-4ff5-b389-b096c15fd0ab\",\"type\":\"ResetTool\"},{\"id\":\"82757cda-0fe2-4015-ae06-bb2af8dbeae1\",\"type\":\"HelpTool\"},{\"id\":\"eab43f68-3ec4-4e6e-be30-f884d8e584a5\",\"type\":\"PanTool\"},{\"id\":\"bf3e59ef-3869-40fb-ba43-587c2751e5f0\",\"type\":\"WheelZoomTool\"},{\"id\":\"c8ca2336-b051-4b33-bbb1-470b18dda263\",\"type\":\"BoxZoomTool\"},{\"id\":\"ef2a46c5-8d34-4e3b-adb9-d02d89988f79\",\"type\":\"SaveTool\"},{\"id\":\"9e82407a-baf8-4dd9-b62c-9311ff0994f8\",\"type\":\"ResetTool\"},{\"id\":\"e8dce06f-fbd9-46a5-8f48-a3a42a291ea2\",\"type\":\"HelpTool\"},{\"id\":\"a07b8b30-be8b-4e1b-a706-8efb576fb5c7\",\"type\":\"PanTool\"},{\"id\":\"e57d21c7-c3b4-4c05-a26e-4761f3bd1f22\",\"type\":\"WheelZoomTool\"},{\"id\":\"bbcd0d56-1cef-493e-9be3-e35764310751\",\"type\":\"BoxZoomTool\"},{\"id\":\"6282e44f-81a9-49d5-90d7-138490788689\",\"type\":\"SaveTool\"},{\"id\":\"714c32b6-94a1-4674-8413-e6b1fa30f0eb\",\"type\":\"ResetTool\"},{\"id\":\"d08ae556-8c24-4ed9-ab06-41d3cbce7e26\",\"type\":\"HelpTool\"}]},\"id\":\"f6e3cbce-0833-422f-8db3-a163afa2f574\",\"type\":\"ProxyToolbar\"},{\"attributes\":{},\"id\":\"82757cda-0fe2-4015-ae06-bb2af8dbeae1\",\"type\":\"HelpTool\"},{\"attributes\":{\"callback\":null},\"id\":\"96851c35-56a2-4a38-9ad4-cc1ba176e920\",\"type\":\"DataRange1d\"},{\"attributes\":{\"fill_color\":{\"value\":\"#1f77b4\"},\"line_color\":{\"value\":\"#1f77b4\"},\"top\":{\"field\":\"flux\"},\"width\":{\"value\":0.9},\"x\":{\"field\":\"band\"}},\"id\":\"00d4073f-231c-4ec3-a8a1-8009d3d40ea0\",\"type\":\"VBar\"},{\"attributes\":{\"overlay\":{\"id\":\"aba4cf43-96b6-4a4a-8e96-aa838c67afe4\",\"type\":\"BoxAnnotation\"}},\"id\":\"84a0463e-386f-4e32-808f-ae4a85e0754f\",\"type\":\"BoxZoomTool\"},{\"attributes\":{},\"id\":\"f87dc138-01ad-420b-a9d2-52a598cadc92\",\"type\":\"CategoricalScale\"},{\"attributes\":{\"toolbar\":{\"id\":\"f6e3cbce-0833-422f-8db3-a163afa2f574\",\"type\":\"ProxyToolbar\"},\"toolbar_location\":\"above\"},\"id\":\"bed403a8-68a0-4357-b445-ffff7006ab9f\",\"type\":\"ToolbarBox\"},{\"attributes\":{\"axis_label\":\"flux (W m-2)\",\"formatter\":{\"id\":\"b7f69821-bc3d-4168-aac9-942af8bfe9f3\",\"type\":\"BasicTickFormatter\"},\"plot\":{\"id\":\"ba3fe2df-5536-48a6-809e-4c9eb2e47fdc\",\"subtype\":\"Figure\",\"type\":\"Plot\"},\"ticker\":{\"id\":\"cde6273b-340e-4726-ad42-f088e1ea37de\",\"type\":\"BasicTicker\"}},\"id\":\"679579f2-a9ee-496f-af77-ca6954427fd0\",\"type\":\"LinearAxis\"},{\"attributes\":{},\"id\":\"f0e2c4d4-d5eb-4ff5-b389-b096c15fd0ab\",\"type\":\"ResetTool\"},{\"attributes\":{\"callback\":null,\"factors\":[\"1\",\"2\",\"3\",\"4\",\"5\",\"6\",\"7\",\"8\",\"9\",\"10\",\"11\"]},\"id\":\"2acc74fb-37e9-4b2f-b9f0-f421d246cc19\",\"type\":\"FactorRange\"},{\"attributes\":{},\"id\":\"9e82407a-baf8-4dd9-b62c-9311ff0994f8\",\"type\":\"ResetTool\"},{\"attributes\":{\"callback\":null,\"data\":{\"band\":[\"1\",\"2\",\"3\",\"4\",\"5\",\"6\",\"7\",\"8\",\"9\",\"10\",\"11\"],\"flux\":{\"__ndarray__\":\"ALx4uzWbyj+Ac4gT80fQPwAjFs7BFfG/AIUh1SS2zD+2ByEgX8IXwFggelImbTLAvGWH+If9EMAs100pr9UDwGA/Ozt0Ve+/QL8FwBXcvT8AZ1U6DnKtPw==\",\"dtype\":\"float64\",\"shape\":[11]}},\"selected\":{\"id\":\"570e7222-8c19-45ca-883b-3b6caff640c4\",\"type\":\"Selection\"},\"selection_policy\":{\"id\":\"0d2457ac-2956-4cc5-8197-e28e30547179\",\"type\":\"UnionRenderers\"}},\"id\":\"972f8797-1ac5-49ea-8833-1dccba1b5628\",\"type\":\"ColumnDataSource\"},{\"attributes\":{},\"id\":\"37d99d5e-ab2d-45a7-9046-5703c1b1fd4b\",\"type\":\"SaveTool\"},{\"attributes\":{\"source\":{\"id\":\"520e34db-2c97-4bc4-a464-adc03dc096c6\",\"type\":\"ColumnDataSource\"}},\"id\":\"feaa406a-128a-4566-8dc1-204624689911\",\"type\":\"CDSView\"},{\"attributes\":{\"axis_label\":\"flux (W m-2)\",\"formatter\":{\"id\":\"bb73e737-0907-4fdb-8524-811289083148\",\"type\":\"BasicTickFormatter\"},\"plot\":{\"id\":\"0456d187-4a30-4e55-ba5f-e68ec33f4a50\",\"subtype\":\"Figure\",\"type\":\"Plot\"},\"ticker\":{\"id\":\"8e6569ca-587a-4c0a-bcfe-cc38fe5a9d54\",\"type\":\"BasicTicker\"}},\"id\":\"3d5a3f4a-a1f9-4ecc-bc10-c1f9420f1cb3\",\"type\":\"LinearAxis\"},{\"attributes\":{\"plot\":{\"id\":\"ba3fe2df-5536-48a6-809e-4c9eb2e47fdc\",\"subtype\":\"Figure\",\"type\":\"Plot\"},\"ticker\":{\"id\":\"6d487a69-690c-43de-8e69-29254039c1b0\",\"type\":\"CategoricalTicker\"}},\"id\":\"d86bdeb9-be2d-4bcc-85ce-533c167422b6\",\"type\":\"Grid\"},{\"attributes\":{\"source\":{\"id\":\"da6f5f34-662e-4dc3-b796-38f7b43d9533\",\"type\":\"ColumnDataSource\"}},\"id\":\"16d03ddd-f006-4368-9c17-9bf3cdebc9f9\",\"type\":\"CDSView\"},{\"attributes\":{},\"id\":\"08d23250-a5c3-4679-a590-b72e997ae910\",\"type\":\"LinearScale\"},{\"attributes\":{},\"id\":\"29e90cad-2c28-45f0-b448-c0691f4cf697\",\"type\":\"CategoricalTicker\"},{\"attributes\":{\"bottom_units\":\"screen\",\"fill_alpha\":{\"value\":0.5},\"fill_color\":{\"value\":\"lightgrey\"},\"left_units\":\"screen\",\"level\":\"overlay\",\"line_alpha\":{\"value\":1.0},\"line_color\":{\"value\":\"black\"},\"line_dash\":[4,4],\"line_width\":{\"value\":2},\"plot\":null,\"render_mode\":\"css\",\"right_units\":\"screen\",\"top_units\":\"screen\"},\"id\":\"aba4cf43-96b6-4a4a-8e96-aa838c67afe4\",\"type\":\"BoxAnnotation\"},{\"attributes\":{},\"id\":\"cde6273b-340e-4726-ad42-f088e1ea37de\",\"type\":\"BasicTicker\"},{\"attributes\":{\"axis_label\":\"spectral band\",\"formatter\":{\"id\":\"1a62eab3-a168-48fe-9671-ddb4edcae9cd\",\"type\":\"CategoricalTickFormatter\"},\"plot\":{\"id\":\"0456d187-4a30-4e55-ba5f-e68ec33f4a50\",\"subtype\":\"Figure\",\"type\":\"Plot\"},\"ticker\":{\"id\":\"29e90cad-2c28-45f0-b448-c0691f4cf697\",\"type\":\"CategoricalTicker\"}},\"id\":\"8aadb120-da91-4406-ba42-546464145fa2\",\"type\":\"CategoricalAxis\"},{\"attributes\":{\"fill_alpha\":{\"value\":0.1},\"fill_color\":{\"value\":\"#1f77b4\"},\"line_alpha\":{\"value\":0.1},\"line_color\":{\"value\":\"#1f77b4\"},\"top\":{\"field\":\"flux\"},\"width\":{\"value\":0.9},\"x\":{\"field\":\"band\"}},\"id\":\"f4ad4306-d2c5-4ad2-8656-c4c7291352c6\",\"type\":\"VBar\"},{\"attributes\":{},\"id\":\"6d487a69-690c-43de-8e69-29254039c1b0\",\"type\":\"CategoricalTicker\"},{\"attributes\":{\"axis_label\":\"spectral band\",\"formatter\":{\"id\":\"4f464118-4f1a-4ca3-a613-ad3650f7559c\",\"type\":\"CategoricalTickFormatter\"},\"plot\":{\"id\":\"ba3fe2df-5536-48a6-809e-4c9eb2e47fdc\",\"subtype\":\"Figure\",\"type\":\"Plot\"},\"ticker\":{\"id\":\"6d487a69-690c-43de-8e69-29254039c1b0\",\"type\":\"CategoricalTicker\"}},\"id\":\"d09705b0-020f-4078-8965-d0cce5bba603\",\"type\":\"CategoricalAxis\"},{\"attributes\":{\"children\":[{\"id\":\"0456d187-4a30-4e55-ba5f-e68ec33f4a50\",\"subtype\":\"Figure\",\"type\":\"Plot\"},{\"id\":\"be5d6d51-ea18-45ad-af88-74e86393409f\",\"subtype\":\"Figure\",\"type\":\"Plot\"},{\"id\":\"ba3fe2df-5536-48a6-809e-4c9eb2e47fdc\",\"subtype\":\"Figure\",\"type\":\"Plot\"}]},\"id\":\"819611a7-22c3-4fb1-b8b7-53283e4572fc\",\"type\":\"Row\"},{\"attributes\":{\"dimension\":1,\"plot\":{\"id\":\"0456d187-4a30-4e55-ba5f-e68ec33f4a50\",\"subtype\":\"Figure\",\"type\":\"Plot\"},\"ticker\":{\"id\":\"8e6569ca-587a-4c0a-bcfe-cc38fe5a9d54\",\"type\":\"BasicTicker\"}},\"id\":\"effc08a3-b0c3-467c-bf6b-3fee20fc9773\",\"type\":\"Grid\"},{\"attributes\":{\"fill_color\":{\"value\":\"#1f77b4\"},\"line_color\":{\"value\":\"#1f77b4\"},\"top\":{\"field\":\"flux\"},\"width\":{\"value\":0.9},\"x\":{\"field\":\"band\"}},\"id\":\"08a807ae-144a-40ab-a56e-ea75edb8c8ad\",\"type\":\"VBar\"},{\"attributes\":{},\"id\":\"bb73e737-0907-4fdb-8524-811289083148\",\"type\":\"BasicTickFormatter\"},{\"attributes\":{},\"id\":\"e6d078cf-8189-4e49-89ca-2aae9599db06\",\"type\":\"WheelZoomTool\"},{\"attributes\":{\"dimension\":1,\"plot\":{\"id\":\"ba3fe2df-5536-48a6-809e-4c9eb2e47fdc\",\"subtype\":\"Figure\",\"type\":\"Plot\"},\"ticker\":{\"id\":\"cde6273b-340e-4726-ad42-f088e1ea37de\",\"type\":\"BasicTicker\"}},\"id\":\"ffd8678f-12eb-4e7f-81a9-27c3101dec87\",\"type\":\"Grid\"},{\"attributes\":{},\"id\":\"e57d21c7-c3b4-4c05-a26e-4761f3bd1f22\",\"type\":\"WheelZoomTool\"},{\"attributes\":{\"data_source\":{\"id\":\"972f8797-1ac5-49ea-8833-1dccba1b5628\",\"type\":\"ColumnDataSource\"},\"glyph\":{\"id\":\"08a807ae-144a-40ab-a56e-ea75edb8c8ad\",\"type\":\"VBar\"},\"hover_glyph\":null,\"muted_glyph\":null,\"nonselection_glyph\":{\"id\":\"f4ad4306-d2c5-4ad2-8656-c4c7291352c6\",\"type\":\"VBar\"},\"selection_glyph\":null,\"view\":{\"id\":\"23ace8fe-6d2d-432b-beda-340aec89c58d\",\"type\":\"CDSView\"}},\"id\":\"72c65a1c-daf1-4d06-a9bf-c8c8418bb28f\",\"type\":\"GlyphRenderer\"},{\"attributes\":{},\"id\":\"a07b8b30-be8b-4e1b-a706-8efb576fb5c7\",\"type\":\"PanTool\"},{\"attributes\":{\"bottom_units\":\"screen\",\"fill_alpha\":{\"value\":0.5},\"fill_color\":{\"value\":\"lightgrey\"},\"left_units\":\"screen\",\"level\":\"overlay\",\"line_alpha\":{\"value\":1.0},\"line_color\":{\"value\":\"black\"},\"line_dash\":[4,4],\"line_width\":{\"value\":2},\"plot\":null,\"render_mode\":\"css\",\"right_units\":\"screen\",\"top_units\":\"screen\"},\"id\":\"2665a667-222a-4d34-a98f-fb4e36c0a4e6\",\"type\":\"BoxAnnotation\"},{\"attributes\":{},\"id\":\"d08ae556-8c24-4ed9-ab06-41d3cbce7e26\",\"type\":\"HelpTool\"},{\"attributes\":{\"data_source\":{\"id\":\"da6f5f34-662e-4dc3-b796-38f7b43d9533\",\"type\":\"ColumnDataSource\"},\"glyph\":{\"id\":\"00d4073f-231c-4ec3-a8a1-8009d3d40ea0\",\"type\":\"VBar\"},\"hover_glyph\":null,\"muted_glyph\":null,\"nonselection_glyph\":{\"id\":\"910f2814-a451-44c8-839e-b5683b60e125\",\"type\":\"VBar\"},\"selection_glyph\":null,\"view\":{\"id\":\"16d03ddd-f006-4368-9c17-9bf3cdebc9f9\",\"type\":\"CDSView\"}},\"id\":\"0b13ae7b-37f9-40ed-a2e9-3dc4a1264220\",\"type\":\"GlyphRenderer\"},{\"attributes\":{},\"id\":\"714c32b6-94a1-4674-8413-e6b1fa30f0eb\",\"type\":\"ResetTool\"},{\"attributes\":{},\"id\":\"10ba99cb-53c3-42f6-8fe0-7be3c3553a86\",\"type\":\"LinearScale\"},{\"attributes\":{},\"id\":\"6282e44f-81a9-49d5-90d7-138490788689\",\"type\":\"SaveTool\"},{\"attributes\":{\"overlay\":{\"id\":\"2665a667-222a-4d34-a98f-fb4e36c0a4e6\",\"type\":\"BoxAnnotation\"}},\"id\":\"bbcd0d56-1cef-493e-9be3-e35764310751\",\"type\":\"BoxZoomTool\"},{\"attributes\":{},\"id\":\"8e6569ca-587a-4c0a-bcfe-cc38fe5a9d54\",\"type\":\"BasicTicker\"},{\"attributes\":{\"children\":[{\"id\":\"819611a7-22c3-4fb1-b8b7-53283e4572fc\",\"type\":\"Row\"}]},\"id\":\"d45c5549-c023-439e-a095-fd3cdf954b35\",\"type\":\"Column\"},{\"attributes\":{},\"id\":\"2af1fb12-c12d-4d22-aab4-9c8608153a51\",\"type\":\"PanTool\"},{\"attributes\":{\"source\":{\"id\":\"972f8797-1ac5-49ea-8833-1dccba1b5628\",\"type\":\"ColumnDataSource\"}},\"id\":\"23ace8fe-6d2d-432b-beda-340aec89c58d\",\"type\":\"CDSView\"},{\"attributes\":{},\"id\":\"2495f4a0-6ba9-45e3-9745-17e9475fb24d\",\"type\":\"UnionRenderers\"},{\"attributes\":{\"plot\":{\"id\":\"0456d187-4a30-4e55-ba5f-e68ec33f4a50\",\"subtype\":\"Figure\",\"type\":\"Plot\"},\"ticker\":{\"id\":\"29e90cad-2c28-45f0-b448-c0691f4cf697\",\"type\":\"CategoricalTicker\"}},\"id\":\"0d4d32ea-526c-4506-b19f-77ef6a08d1a6\",\"type\":\"Grid\"},{\"attributes\":{\"callback\":null,\"data\":{\"band\":[\"1\",\"2\",\"3\",\"4\",\"5\",\"6\",\"7\",\"8\",\"9\",\"10\",\"11\"],\"flux\":{\"__ndarray__\":\"AEzirIiayj/A7juGx/7wPwArTN9rCLY/AMOedvhr0z/go6mezL/rP4DsEWqG1Ps/4N/1mbM+5z+AK9fbZirMP0DvqgfMQ8A/YNQ5UPHJwD9AvtXft8awPw==\",\"dtype\":\"float64\",\"shape\":[11]}},\"selected\":{\"id\":\"b665b959-03eb-4430-99a6-8fcc4628262f\",\"type\":\"Selection\"},\"selection_policy\":{\"id\":\"2495f4a0-6ba9-45e3-9745-17e9475fb24d\",\"type\":\"UnionRenderers\"}},\"id\":\"da6f5f34-662e-4dc3-b796-38f7b43d9533\",\"type\":\"ColumnDataSource\"},{\"attributes\":{},\"id\":\"0d2457ac-2956-4cc5-8197-e28e30547179\",\"type\":\"UnionRenderers\"},{\"attributes\":{},\"id\":\"b665b959-03eb-4430-99a6-8fcc4628262f\",\"type\":\"Selection\"},{\"attributes\":{},\"id\":\"1a62eab3-a168-48fe-9671-ddb4edcae9cd\",\"type\":\"CategoricalTickFormatter\"},{\"attributes\":{},\"id\":\"1a152ef7-c72c-4d05-90c5-29a73fbdbe1f\",\"type\":\"BasicTickFormatter\"},{\"attributes\":{\"fill_alpha\":{\"value\":0.1},\"fill_color\":{\"value\":\"#1f77b4\"},\"line_alpha\":{\"value\":0.1},\"line_color\":{\"value\":\"#1f77b4\"},\"top\":{\"field\":\"flux\"},\"width\":{\"value\":0.9},\"x\":{\"field\":\"band\"}},\"id\":\"910f2814-a451-44c8-839e-b5683b60e125\",\"type\":\"VBar\"},{\"attributes\":{},\"id\":\"1f3ae19b-c22f-4968-b0cd-6c1153a68de6\",\"type\":\"CategoricalTickFormatter\"},{\"attributes\":{\"callback\":null,\"data\":{\"band\":[\"1\",\"2\",\"3\",\"4\",\"5\",\"6\",\"7\",\"8\",\"9\",\"10\",\"11\"],\"flux\":{\"__ndarray__\":\"AAAAAyUF9r4AQ41CktnpP+Ai+N9KdvI/AMAma9RDtD+soKLqVzobQHqeifpuKjRA57nPO1/lE0DoBkMdVpgFQFAb8WQ3s/E/AKBF71TAjT8AcGzRXW2APw==\",\"dtype\":\"float64\",\"shape\":[11]}},\"selected\":{\"id\":\"2382aefb-194f-485b-bad8-1101928cf768\",\"type\":\"Selection\"},\"selection_policy\":{\"id\":\"9f023f6c-b817-4376-ab11-1f7f5934f276\",\"type\":\"UnionRenderers\"}},\"id\":\"520e34db-2c97-4bc4-a464-adc03dc096c6\",\"type\":\"ColumnDataSource\"},{\"attributes\":{},\"id\":\"4f464118-4f1a-4ca3-a613-ad3650f7559c\",\"type\":\"CategoricalTickFormatter\"},{\"attributes\":{\"children\":[{\"id\":\"bed403a8-68a0-4357-b445-ffff7006ab9f\",\"type\":\"ToolbarBox\"},{\"id\":\"d45c5549-c023-439e-a095-fd3cdf954b35\",\"type\":\"Column\"}]},\"id\":\"b217ce1a-023b-4011-8f04-ceff65ee9ab3\",\"type\":\"Column\"},{\"attributes\":{},\"id\":\"b7f69821-bc3d-4168-aac9-942af8bfe9f3\",\"type\":\"BasicTickFormatter\"},{\"attributes\":{},\"id\":\"a617b1fd-7797-40d3-b9c4-daf4c8ee5150\",\"type\":\"CategoricalScale\"},{\"attributes\":{},\"id\":\"570e7222-8c19-45ca-883b-3b6caff640c4\",\"type\":\"Selection\"},{\"attributes\":{\"active_drag\":\"auto\",\"active_inspect\":\"auto\",\"active_scroll\":\"auto\",\"active_tap\":\"auto\",\"tools\":[{\"id\":\"eab43f68-3ec4-4e6e-be30-f884d8e584a5\",\"type\":\"PanTool\"},{\"id\":\"bf3e59ef-3869-40fb-ba43-587c2751e5f0\",\"type\":\"WheelZoomTool\"},{\"id\":\"c8ca2336-b051-4b33-bbb1-470b18dda263\",\"type\":\"BoxZoomTool\"},{\"id\":\"ef2a46c5-8d34-4e3b-adb9-d02d89988f79\",\"type\":\"SaveTool\"},{\"id\":\"9e82407a-baf8-4dd9-b62c-9311ff0994f8\",\"type\":\"ResetTool\"},{\"id\":\"e8dce06f-fbd9-46a5-8f48-a3a42a291ea2\",\"type\":\"HelpTool\"}]},\"id\":\"bc47f009-7f49-4750-8e85-5b5180a312a1\",\"type\":\"Toolbar\"},{\"attributes\":{},\"id\":\"2382aefb-194f-485b-bad8-1101928cf768\",\"type\":\"Selection\"},{\"attributes\":{},\"id\":\"1809438b-14f3-4264-b9ab-567c213684d9\",\"type\":\"CategoricalTicker\"},{\"attributes\":{},\"id\":\"f34ea7c5-31ad-4a33-a72a-7957fd781dd3\",\"type\":\"CategoricalScale\"},{\"attributes\":{\"plot\":null,\"text\":\"SFC flux. CLIRAD (single-run) - CRD.\"},\"id\":\"cf2cebfb-5802-4b13-b80b-2615166c1b52\",\"type\":\"Title\"},{\"attributes\":{\"active_drag\":\"auto\",\"active_inspect\":\"auto\",\"active_scroll\":\"auto\",\"active_tap\":\"auto\",\"tools\":[{\"id\":\"a07b8b30-be8b-4e1b-a706-8efb576fb5c7\",\"type\":\"PanTool\"},{\"id\":\"e57d21c7-c3b4-4c05-a26e-4761f3bd1f22\",\"type\":\"WheelZoomTool\"},{\"id\":\"bbcd0d56-1cef-493e-9be3-e35764310751\",\"type\":\"BoxZoomTool\"},{\"id\":\"6282e44f-81a9-49d5-90d7-138490788689\",\"type\":\"SaveTool\"},{\"id\":\"714c32b6-94a1-4674-8413-e6b1fa30f0eb\",\"type\":\"ResetTool\"},{\"id\":\"d08ae556-8c24-4ed9-ab06-41d3cbce7e26\",\"type\":\"HelpTool\"}]},\"id\":\"96573b6b-f359-419f-8856-53840c203811\",\"type\":\"Toolbar\"},{\"attributes\":{},\"id\":\"e8dce06f-fbd9-46a5-8f48-a3a42a291ea2\",\"type\":\"HelpTool\"},{\"attributes\":{\"dimension\":1,\"plot\":{\"id\":\"be5d6d51-ea18-45ad-af88-74e86393409f\",\"subtype\":\"Figure\",\"type\":\"Plot\"},\"ticker\":{\"id\":\"4a84466c-5cf3-4ef2-9d6d-a721f381e0a5\",\"type\":\"BasicTicker\"}},\"id\":\"edb8335f-ce54-41f6-b196-16cf3b9d8a29\",\"type\":\"Grid\"},{\"attributes\":{\"callback\":null},\"id\":\"0fd46f2e-2882-43ea-a1b9-ba0f3f29c225\",\"type\":\"DataRange1d\"},{\"attributes\":{\"callback\":null,\"factors\":[\"1\",\"2\",\"3\",\"4\",\"5\",\"6\",\"7\",\"8\",\"9\",\"10\",\"11\"]},\"id\":\"18ca77ac-9c43-43e4-9186-bc88ed46b40d\",\"type\":\"FactorRange\"},{\"attributes\":{\"plot\":{\"id\":\"be5d6d51-ea18-45ad-af88-74e86393409f\",\"subtype\":\"Figure\",\"type\":\"Plot\"},\"ticker\":{\"id\":\"1809438b-14f3-4264-b9ab-567c213684d9\",\"type\":\"CategoricalTicker\"}},\"id\":\"83d13d09-56ec-4df4-9e08-79353431772f\",\"type\":\"Grid\"},{\"attributes\":{\"callback\":null,\"factors\":[\"1\",\"2\",\"3\",\"4\",\"5\",\"6\",\"7\",\"8\",\"9\",\"10\",\"11\"]},\"id\":\"53e0d164-1311-4627-a023-10de42105d4e\",\"type\":\"FactorRange\"},{\"attributes\":{\"axis_label\":\"flux (W m-2)\",\"formatter\":{\"id\":\"1a152ef7-c72c-4d05-90c5-29a73fbdbe1f\",\"type\":\"BasicTickFormatter\"},\"plot\":{\"id\":\"be5d6d51-ea18-45ad-af88-74e86393409f\",\"subtype\":\"Figure\",\"type\":\"Plot\"},\"ticker\":{\"id\":\"4a84466c-5cf3-4ef2-9d6d-a721f381e0a5\",\"type\":\"BasicTicker\"}},\"id\":\"fac5a11e-6767-4e81-b6ea-a491f76a39a7\",\"type\":\"LinearAxis\"},{\"attributes\":{\"fill_alpha\":{\"value\":0.1},\"fill_color\":{\"value\":\"#1f77b4\"},\"line_alpha\":{\"value\":0.1},\"line_color\":{\"value\":\"#1f77b4\"},\"top\":{\"field\":\"flux\"},\"width\":{\"value\":0.9},\"x\":{\"field\":\"band\"}},\"id\":\"bd0c7dbe-cc10-4052-9387-58b34534d934\",\"type\":\"VBar\"},{\"attributes\":{},\"id\":\"bf3e59ef-3869-40fb-ba43-587c2751e5f0\",\"type\":\"WheelZoomTool\"},{\"attributes\":{},\"id\":\"fded0361-b00a-454b-91e5-4e2bdd37609d\",\"type\":\"LinearScale\"},{\"attributes\":{\"overlay\":{\"id\":\"11590624-101c-43f6-b7aa-d992f7e78a84\",\"type\":\"BoxAnnotation\"}},\"id\":\"c8ca2336-b051-4b33-bbb1-470b18dda263\",\"type\":\"BoxZoomTool\"},{\"attributes\":{},\"id\":\"ef2a46c5-8d34-4e3b-adb9-d02d89988f79\",\"type\":\"SaveTool\"},{\"attributes\":{\"fill_color\":{\"value\":\"#1f77b4\"},\"line_color\":{\"value\":\"#1f77b4\"},\"top\":{\"field\":\"flux\"},\"width\":{\"value\":0.9},\"x\":{\"field\":\"band\"}},\"id\":\"51a9321d-5903-4ae6-a09c-c3139647d68a\",\"type\":\"VBar\"},{\"attributes\":{},\"id\":\"eab43f68-3ec4-4e6e-be30-f884d8e584a5\",\"type\":\"PanTool\"},{\"attributes\":{\"plot\":null,\"text\":\"TOA flux. CLIRAD (single-run) - CRD.\"},\"id\":\"67ec9f84-0793-4874-906e-a6a4c1556cdb\",\"type\":\"Title\"},{\"attributes\":{\"axis_label\":\"spectral band\",\"formatter\":{\"id\":\"1f3ae19b-c22f-4968-b0cd-6c1153a68de6\",\"type\":\"CategoricalTickFormatter\"},\"plot\":{\"id\":\"be5d6d51-ea18-45ad-af88-74e86393409f\",\"subtype\":\"Figure\",\"type\":\"Plot\"},\"ticker\":{\"id\":\"1809438b-14f3-4264-b9ab-567c213684d9\",\"type\":\"CategoricalTicker\"}},\"id\":\"25caa1b0-b46c-4ae8-86b0-fbcb64a0c21a\",\"type\":\"CategoricalAxis\"},{\"attributes\":{\"below\":[{\"id\":\"25caa1b0-b46c-4ae8-86b0-fbcb64a0c21a\",\"type\":\"CategoricalAxis\"}],\"left\":[{\"id\":\"fac5a11e-6767-4e81-b6ea-a491f76a39a7\",\"type\":\"LinearAxis\"}],\"plot_height\":300,\"plot_width\":300,\"renderers\":[{\"id\":\"25caa1b0-b46c-4ae8-86b0-fbcb64a0c21a\",\"type\":\"CategoricalAxis\"},{\"id\":\"83d13d09-56ec-4df4-9e08-79353431772f\",\"type\":\"Grid\"},{\"id\":\"fac5a11e-6767-4e81-b6ea-a491f76a39a7\",\"type\":\"LinearAxis\"},{\"id\":\"edb8335f-ce54-41f6-b196-16cf3b9d8a29\",\"type\":\"Grid\"},{\"id\":\"11590624-101c-43f6-b7aa-d992f7e78a84\",\"type\":\"BoxAnnotation\"},{\"id\":\"9082627f-e611-4afb-bdc8-a43db5477c1b\",\"type\":\"GlyphRenderer\"}],\"title\":{\"id\":\"cf2cebfb-5802-4b13-b80b-2615166c1b52\",\"type\":\"Title\"},\"toolbar\":{\"id\":\"bc47f009-7f49-4750-8e85-5b5180a312a1\",\"type\":\"Toolbar\"},\"toolbar_location\":null,\"x_range\":{\"id\":\"18ca77ac-9c43-43e4-9186-bc88ed46b40d\",\"type\":\"FactorRange\"},\"x_scale\":{\"id\":\"f34ea7c5-31ad-4a33-a72a-7957fd781dd3\",\"type\":\"CategoricalScale\"},\"y_range\":{\"id\":\"3c4b28db-3081-4fd7-8c16-84dda621c5e1\",\"type\":\"DataRange1d\"},\"y_scale\":{\"id\":\"fded0361-b00a-454b-91e5-4e2bdd37609d\",\"type\":\"LinearScale\"}},\"id\":\"be5d6d51-ea18-45ad-af88-74e86393409f\",\"subtype\":\"Figure\",\"type\":\"Plot\"},{\"attributes\":{\"data_source\":{\"id\":\"520e34db-2c97-4bc4-a464-adc03dc096c6\",\"type\":\"ColumnDataSource\"},\"glyph\":{\"id\":\"51a9321d-5903-4ae6-a09c-c3139647d68a\",\"type\":\"VBar\"},\"hover_glyph\":null,\"muted_glyph\":null,\"nonselection_glyph\":{\"id\":\"bd0c7dbe-cc10-4052-9387-58b34534d934\",\"type\":\"VBar\"},\"selection_glyph\":null,\"view\":{\"id\":\"feaa406a-128a-4566-8dc1-204624689911\",\"type\":\"CDSView\"}},\"id\":\"9082627f-e611-4afb-bdc8-a43db5477c1b\",\"type\":\"GlyphRenderer\"},{\"attributes\":{\"callback\":null},\"id\":\"3c4b28db-3081-4fd7-8c16-84dda621c5e1\",\"type\":\"DataRange1d\"},{\"attributes\":{\"plot\":null,\"text\":\"Atmosphere heating. CLIRAD (single-run) - CRD.\"},\"id\":\"fe2410f1-c5a4-4e34-8fcc-51c023ae139c\",\"type\":\"Title\"},{\"attributes\":{\"active_drag\":\"auto\",\"active_inspect\":\"auto\",\"active_scroll\":\"auto\",\"active_tap\":\"auto\",\"tools\":[{\"id\":\"2af1fb12-c12d-4d22-aab4-9c8608153a51\",\"type\":\"PanTool\"},{\"id\":\"e6d078cf-8189-4e49-89ca-2aae9599db06\",\"type\":\"WheelZoomTool\"},{\"id\":\"84a0463e-386f-4e32-808f-ae4a85e0754f\",\"type\":\"BoxZoomTool\"},{\"id\":\"37d99d5e-ab2d-45a7-9046-5703c1b1fd4b\",\"type\":\"SaveTool\"},{\"id\":\"f0e2c4d4-d5eb-4ff5-b389-b096c15fd0ab\",\"type\":\"ResetTool\"},{\"id\":\"82757cda-0fe2-4015-ae06-bb2af8dbeae1\",\"type\":\"HelpTool\"}]},\"id\":\"61d7ab3b-682e-4ec1-a0c3-b2f5acc72368\",\"type\":\"Toolbar\"},{\"attributes\":{\"bottom_units\":\"screen\",\"fill_alpha\":{\"value\":0.5},\"fill_color\":{\"value\":\"lightgrey\"},\"left_units\":\"screen\",\"level\":\"overlay\",\"line_alpha\":{\"value\":1.0},\"line_color\":{\"value\":\"black\"},\"line_dash\":[4,4],\"line_width\":{\"value\":2},\"plot\":null,\"render_mode\":\"css\",\"right_units\":\"screen\",\"top_units\":\"screen\"},\"id\":\"11590624-101c-43f6-b7aa-d992f7e78a84\",\"type\":\"BoxAnnotation\"},{\"attributes\":{\"below\":[{\"id\":\"d09705b0-020f-4078-8965-d0cce5bba603\",\"type\":\"CategoricalAxis\"}],\"left\":[{\"id\":\"679579f2-a9ee-496f-af77-ca6954427fd0\",\"type\":\"LinearAxis\"}],\"plot_height\":300,\"plot_width\":300,\"renderers\":[{\"id\":\"d09705b0-020f-4078-8965-d0cce5bba603\",\"type\":\"CategoricalAxis\"},{\"id\":\"d86bdeb9-be2d-4bcc-85ce-533c167422b6\",\"type\":\"Grid\"},{\"id\":\"679579f2-a9ee-496f-af77-ca6954427fd0\",\"type\":\"LinearAxis\"},{\"id\":\"ffd8678f-12eb-4e7f-81a9-27c3101dec87\",\"type\":\"Grid\"},{\"id\":\"2665a667-222a-4d34-a98f-fb4e36c0a4e6\",\"type\":\"BoxAnnotation\"},{\"id\":\"72c65a1c-daf1-4d06-a9bf-c8c8418bb28f\",\"type\":\"GlyphRenderer\"}],\"title\":{\"id\":\"fe2410f1-c5a4-4e34-8fcc-51c023ae139c\",\"type\":\"Title\"},\"toolbar\":{\"id\":\"96573b6b-f359-419f-8856-53840c203811\",\"type\":\"Toolbar\"},\"toolbar_location\":null,\"x_range\":{\"id\":\"2acc74fb-37e9-4b2f-b9f0-f421d246cc19\",\"type\":\"FactorRange\"},\"x_scale\":{\"id\":\"f87dc138-01ad-420b-a9d2-52a598cadc92\",\"type\":\"CategoricalScale\"},\"y_range\":{\"id\":\"96851c35-56a2-4a38-9ad4-cc1ba176e920\",\"type\":\"DataRange1d\"},\"y_scale\":{\"id\":\"08d23250-a5c3-4679-a590-b72e997ae910\",\"type\":\"LinearScale\"}},\"id\":\"ba3fe2df-5536-48a6-809e-4c9eb2e47fdc\",\"subtype\":\"Figure\",\"type\":\"Plot\"},{\"attributes\":{},\"id\":\"9f023f6c-b817-4376-ab11-1f7f5934f276\",\"type\":\"UnionRenderers\"},{\"attributes\":{},\"id\":\"4a84466c-5cf3-4ef2-9d6d-a721f381e0a5\",\"type\":\"BasicTicker\"}],\"root_ids\":[\"b217ce1a-023b-4011-8f04-ceff65ee9ab3\"]},\"title\":\"Bokeh Application\",\"version\":\"0.12.16\"}};\n",
       "  var render_items = [{\"docid\":\"e892d0c9-0021-4555-9899-0b3e2ef84c54\",\"elementid\":\"e534f102-7029-47dc-8c7d-14a2c25b05fe\",\"modelid\":\"b217ce1a-023b-4011-8f04-ceff65ee9ab3\"}];\n",
       "  root.Bokeh.embed.embed_items_notebook(docs_json, render_items);\n",
       "\n",
       "  }\n",
       "  if (root.Bokeh !== undefined) {\n",
       "    embed_document(root);\n",
       "  } else {\n",
       "    var attempts = 0;\n",
       "    var timer = setInterval(function(root) {\n",
       "      if (root.Bokeh !== undefined) {\n",
       "        embed_document(root);\n",
       "        clearInterval(timer);\n",
       "      }\n",
       "      attempts++;\n",
       "      if (attempts > 100) {\n",
       "        console.log(\"Bokeh: ERROR: Unable to run BokehJS code because BokehJS library is missing\")\n",
       "        clearInterval(timer);\n",
       "      }\n",
       "    }, 10, root)\n",
       "  }\n",
       "})(window);"
      ],
      "application/vnd.bokehjs_exec.v0+json": ""
     },
     "metadata": {
      "application/vnd.bokehjs_exec.v0+json": {
       "id": "b217ce1a-023b-4011-8f04-ceff65ee9ab3"
      }
     },
     "output_type": "display_data"
    },
    {
     "data": {
      "text/markdown": [
       "*FIGURE.* Difference between CLIRAD and CRD in TOA, SFC and net atmosphere flux, in each spectral band."
      ],
      "text/plain": [
       "<IPython.core.display.Markdown object>"
      ]
     },
     "metadata": {},
     "output_type": "display_data"
    },
    {
     "data": {
      "text/html": [
       "<div>\n",
       "<style scoped>\n",
       "    .dataframe tbody tr th:only-of-type {\n",
       "        vertical-align: middle;\n",
       "    }\n",
       "\n",
       "    .dataframe tbody tr th {\n",
       "        vertical-align: top;\n",
       "    }\n",
       "\n",
       "    .dataframe thead th {\n",
       "        text-align: right;\n",
       "    }\n",
       "</style>\n",
       "<table border=\"1\" class=\"dataframe\">\n",
       "  <thead>\n",
       "    <tr style=\"text-align: right;\">\n",
       "      <th></th>\n",
       "      <th>OLR flux</th>\n",
       "      <th>SFC flux</th>\n",
       "      <th>ATM heating</th>\n",
       "    </tr>\n",
       "    <tr>\n",
       "      <th>Sum over bands</th>\n",
       "      <th></th>\n",
       "      <th></th>\n",
       "      <th></th>\n",
       "    </tr>\n",
       "  </thead>\n",
       "  <tbody>\n",
       "    <tr>\n",
       "      <th>old CLIRAD - CRD</th>\n",
       "      <td>0.14</td>\n",
       "      <td>2.01</td>\n",
       "      <td>-1.73</td>\n",
       "    </tr>\n",
       "    <tr>\n",
       "      <th>CLIRAD (single-run) - CRD</th>\n",
       "      <td>5.54</td>\n",
       "      <td>37.82</td>\n",
       "      <td>-32.28</td>\n",
       "    </tr>\n",
       "    <tr>\n",
       "      <th>CRD</th>\n",
       "      <td>-290.39</td>\n",
       "      <td>308.14</td>\n",
       "      <td>-174.89</td>\n",
       "    </tr>\n",
       "  </tbody>\n",
       "</table>\n",
       "</div>"
      ],
      "text/plain": [
       "                           OLR flux  SFC flux  ATM heating\n",
       "Sum over bands                                            \n",
       "old CLIRAD - CRD               0.14      2.01        -1.73\n",
       "CLIRAD (single-run) - CRD      5.54     37.82       -32.28\n",
       "CRD                         -290.39    308.14      -174.89"
      ]
     },
     "metadata": {},
     "output_type": "display_data"
    },
    {
     "data": {
      "text/markdown": [
       "*TABLE.* Difference between CLIRAD and CRD in TOA, SFC and net atmosphere flux, over all spectral bands. CRD's TOA, SFC and net atmosphere flux, over all spectral bands."
      ],
      "text/plain": [
       "<IPython.core.display.Markdown object>"
      ]
     },
     "metadata": {},
     "output_type": "display_data"
    },
    {
     "data": {
      "text/html": [
       "<a id=\"Cooling_rates._saw.\"></a>"
      ],
      "text/plain": [
       "<IPython.core.display.HTML object>"
      ]
     },
     "metadata": {},
     "output_type": "display_data"
    },
    {
     "data": {
      "text/markdown": [
       "# Cooling rates. saw."
      ],
      "text/plain": [
       "<IPython.core.display.Markdown object>"
      ]
     },
     "metadata": {},
     "output_type": "display_data"
    },
    {
     "data": {
      "text/html": [
       "\n",
       "<div class=\"bk-root\">\n",
       "    <div class=\"bk-plotdiv\" id=\"62dc3e0b-2a0c-46f2-9fbd-a69574e01a4d\"></div>\n",
       "</div>"
      ]
     },
     "metadata": {},
     "output_type": "display_data"
    },
    {
     "data": {
      "application/javascript": [
       "(function(root) {\n",
       "  function embed_document(root) {\n",
       "    \n",
       "  var docs_json = {\"c9344701-b697-4184-979e-a5b1970e4e98\":{\"roots\":{\"references\":[{\"attributes\":{\"bottom_units\":\"screen\",\"fill_alpha\":{\"value\":0.5},\"fill_color\":{\"value\":\"lightgrey\"},\"left_units\":\"screen\",\"level\":\"overlay\",\"line_alpha\":{\"value\":1.0},\"line_color\":{\"value\":\"black\"},\"line_dash\":[4,4],\"line_width\":{\"value\":2},\"plot\":null,\"render_mode\":\"css\",\"right_units\":\"screen\",\"top_units\":\"screen\"},\"id\":\"ea0563a8-d0b8-4aad-b3e7-ddd24fc2c28d\",\"type\":\"BoxAnnotation\"},{\"attributes\":{},\"id\":\"77ac28db-5fb8-4ed3-8c8e-b14a44553815\",\"type\":\"SaveTool\"},{\"attributes\":{\"toolbar\":{\"id\":\"ebc540d4-4965-4ed4-b0a1-ae356889b9ef\",\"type\":\"ProxyToolbar\"},\"toolbar_location\":\"above\"},\"id\":\"e3254c17-bf7a-4c41-ac07-f9a754cb1dd9\",\"type\":\"ToolbarBox\"},{\"attributes\":{\"source\":{\"id\":\"e44424df-fd8d-4426-9b82-3e385d59465c\",\"type\":\"ColumnDataSource\"}},\"id\":\"85b52e96-3f63-40f0-8490-bba1e101073f\",\"type\":\"CDSView\"},{\"attributes\":{\"above\":[{\"id\":\"8adc85f3-2742-4c61-a661-12899391c8db\",\"type\":\"Legend\"}],\"below\":[{\"id\":\"94f93d9e-75ba-40c3-bf16-b8e862f7df80\",\"type\":\"LinearAxis\"}],\"left\":[{\"id\":\"561954c9-17e2-4b2a-b0d9-a1c83dc82bf7\",\"type\":\"LinearAxis\"}],\"plot_width\":300,\"renderers\":[{\"id\":\"94f93d9e-75ba-40c3-bf16-b8e862f7df80\",\"type\":\"LinearAxis\"},{\"id\":\"b4a0213c-72d3-434e-9b00-c2a27eb0f180\",\"type\":\"Grid\"},{\"id\":\"561954c9-17e2-4b2a-b0d9-a1c83dc82bf7\",\"type\":\"LinearAxis\"},{\"id\":\"a3336e05-b4b7-495a-89e5-025f81e85223\",\"type\":\"Grid\"},{\"id\":\"ea0563a8-d0b8-4aad-b3e7-ddd24fc2c28d\",\"type\":\"BoxAnnotation\"},{\"id\":\"915162de-2f4c-4469-b761-48b3d7cbd187\",\"type\":\"GlyphRenderer\"},{\"id\":\"a5d53713-74bd-4a35-944e-10ed6f605857\",\"type\":\"GlyphRenderer\"},{\"id\":\"34f61379-7c00-46d3-ba8d-72a7a74d30db\",\"type\":\"GlyphRenderer\"},{\"id\":\"8adc85f3-2742-4c61-a661-12899391c8db\",\"type\":\"Legend\"}],\"title\":{\"id\":\"c974190f-eb7d-4872-87a0-b40ee7b51448\",\"type\":\"Title\"},\"toolbar\":{\"id\":\"352ab246-db42-4b66-af30-8d4cbe6d1f7a\",\"type\":\"Toolbar\"},\"toolbar_location\":null,\"x_range\":{\"id\":\"b7fadef6-8487-4874-beb5-25a786dfd597\",\"type\":\"Range1d\"},\"x_scale\":{\"id\":\"028f4a0f-1915-485e-84d1-f4f6e8682a7a\",\"type\":\"LinearScale\"},\"y_range\":{\"id\":\"b12bc555-e624-4b46-9afa-3173039b9a0d\",\"type\":\"Range1d\"},\"y_scale\":{\"id\":\"edd1f067-1bdf-4abb-93ac-a3b705d454d7\",\"type\":\"LinearScale\"}},\"id\":\"78775c5d-ae52-4713-ae88-5511ca61c521\",\"subtype\":\"Figure\",\"type\":\"Plot\"},{\"attributes\":{\"callback\":null,\"data\":{\"x\":{\"__ndarray__\":\"1WgAXcOVQECYD1vDKI48QOJvLwf7Wj5AI1W/kEH1PkBRXzCsPwc+QFgmXUn9iTtAvHcaTk3ZN0BfAKfn4NEzQB++HbR/gDBA9Z9RIgVCLUBC2zIWLlEsQEQklKLa2SxARpIfk1e3LUDCqxVU8zwtQBjuW0KFoSpAgNXaBm5IJ0DNrNld6nUkQKXUzEpH0SJAzJF9cnGjIkDDEz46srojQJXO4fKjKSZAPOI4G9WqJUCW1U64FSchQMPs7LXPYRlA45qyDmRnE0Aee6xjxbQPQAibLEaFvgpAv1X9wmbQBUB6hzUC/iYCQPQKEIsSdf8/IX3M1qkK/T9HU5vX7tj4P8WTR9rRL/Q/d5muamwf8T/B4NMnxsbuP+3rukcsXew/oukQfXp/5z9D1d0tZCvhP8g1OYE51d0/mA42xPgy3T+yZYGUX67eP45zFKBSVt4/qmmiEcbs3D8mOpqV0mnaP/rad6Ez+tI/IAcwEbsO0T84DokU5k/cP6dNGCD9x+M/nZSoGM3C6z+xcItFCTvyP2UXkazWi/U/L1FrnXHC9z+qMvU4Fbf4P/juAGoVz/g/w16D1wa7+D8rzKyxhYn4P8RUaBTaM/g/DhGqar+69z/2qgvzOzD3P5f3q5axqvY/Bc2Zuz4R9j+5uhiRTGn1P6XyzM2rrfQ/ZB68IGny8z8dD61CgEzzP2Mmr6D50PI/maEbVyid8j9z6TfK/MbyPw+GauWGAPM/Ftr1rwWV8j8tGNY5eNHwP8VFeya+Rew/5HRA+OoA5z+PgRiHQ27iP6W7m0rux9g/\",\"dtype\":\"float64\",\"shape\":[75]},\"y\":{\"__ndarray__\":\"GhExyth1ND/Sv8nbtpRIP2vylNV0PVE/aTum7souWD/At0SJ8fVgPw3Iuahxymc/MSNhhJWvcD/bTfBN02d3P2zb5nxnaoA/CD5h5MAGhz8NmeH1TyaQP+zrCsc9p5Y/LbKd76fGnz/bLW5ISEmmPww9YvTcQq8/JV2OstnstT8Er5Y7M8G+P0c+r3jqkcU/5h99k6ZBzj88bCIzFzjVP4enV8oyxN0//yH99nXg5D8qOpLLf0jtP5kqGJXUifQ/c9cS8kHP/D+/DpwzojQEQIEmwoanVwxA4lgXt9HgE0BSSZ2AJuIbQAMJih9jjiNA5q4l5INuK0AwTKYKRj0zQNv5fmq8/DpAaCJseHrtQkB/+zpwzoxKQM3MzMzMeFJAZmZmZmZqWEAAAAAAAFxeQM3MzMzMJmJAmpmZmZkfZUBmZmZmZhhoQDMzMzMzEWtAAAAAAAAKbkBmZmZmZoFwQM3MzMzM/XFAMzMzMzN6c0CamZmZmfZ0QAAAAAAAc3ZAZmZmZmbvd0DNzMzMzGt5QDMzMzMz6HpAmpmZmZlkfEAAAAAAAOF9QGZmZmZmXX9AZmZmZuZsgECamZmZGSuBQM3MzMxM6YFAAAAAAICngkAzMzMzs2WDQGZmZmbmI4RAmpmZmRnihEDNzMzMTKCFQAAAAACAXoZAMzMzM7Mch0BmZmZm5tqHQJqZmZkZmYhAzczMzExXiUAAAAAAgBWKQDMzMzOz04pAZmZmZuaRi0CamZmZGVCMQM3MzMxMDo1AAAAAAIDMjUAzMzMzs4qOQGZmZmbmSI9A\",\"dtype\":\"float64\",\"shape\":[75]}},\"selected\":{\"id\":\"6dc439a7-e8ea-4cc0-82ac-c2c2ce80aed6\",\"type\":\"Selection\"},\"selection_policy\":{\"id\":\"da66a44c-f004-42c3-8586-2e64fac16668\",\"type\":\"UnionRenderers\"}},\"id\":\"224fdfa5-f2b7-4541-9417-26751bf9acd4\",\"type\":\"ColumnDataSource\"},{\"attributes\":{\"line_alpha\":0.1,\"line_color\":\"#1f77b4\",\"line_dash\":[6],\"line_width\":5,\"x\":{\"field\":\"x\"},\"y\":{\"field\":\"y\"}},\"id\":\"48f4800c-fd18-414e-bdc8-92cdabc596c8\",\"type\":\"Line\"},{\"attributes\":{\"callback\":null,\"data\":{\"x\":{\"__ndarray__\":\"0CYBcvU5UkCik9zf2GVBQF1VoNfLZ0BAVLxhiVXTPUDD1Wu1wJM6QFJyB025jjdAU6Aw5+b/NECYe1uuDfgyQB6bYtVTbTFAPxYSAF1HMEA00pYVm9QuQLolHbMzgC1AntlwirGsLECv+G9SjE4rQJH6ZLBp0ShAsLZQyPd/JkDyjgyf2PwkQLgyNGsrJyRAA13QbJD6I0C8hy0ilI4kQOVTXCEgcSZAovOGvZSGJUBVc/ZmUOIgQOf/6GHAyRlAcE8fAOBSFEDRur1U//gPQGFD9ZbokghAQsqHuSqSA0C91ci3W0UBQCtRQfvz7/4/kh8pntyB+j9t1/n+4TX1P773MAUjFfI/RgzR+CI28T8hBW8WHK7uPzVKjJfU8uk/0FPt4/z65T/wVYqzMPDhPz7K9C5CXuE/8+hSn9hY4T/9PPCkR6rhP1XsIC599OA/66X1nBCX3z/YbRM56QjcPz4dkSQc/dM/S7Wb8Fq00T+/yQdmX0vcP7TrGf476eM/WqNPJoWO7D9qOH1bcwDzP2bw+R5DQ/Y/RLSuQOQp+D8+aif8yAz5P0Wv6eBKRfk/0i2+IN4R+T/ik8QNFZr4PyS5UD5j/Pc/yJ68zXRG9z/2CHPL54H2P59SOhwKtPU/npkP8dfg9D8NlmVcdQz0P80ugRvuOvM/byxiAHN18j9USVZie8nxP5l9lNXYSPE/OB+F0UYP8T8Y7dsUCTHxP3EBgTHPcPE/bfx15p8S8T8FT+xkGtTuP6mdG7rkxuk/pboqTkHX5D/CrN8qGYngP7R4ZaL+htU/\",\"dtype\":\"float64\",\"shape\":[75]},\"y\":{\"__ndarray__\":\"GhExyth1ND/Sv8nbtpRIP2vylNV0PVE/aTum7souWD/At0SJ8fVgPw3Iuahxymc/MSNhhJWvcD/bTfBN02d3P2zb5nxnaoA/CD5h5MAGhz8NmeH1TyaQP+zrCsc9p5Y/LbKd76fGnz/bLW5ISEmmPww9YvTcQq8/JV2OstnstT8Er5Y7M8G+P0c+r3jqkcU/5h99k6ZBzj88bCIzFzjVP4enV8oyxN0//yH99nXg5D8qOpLLf0jtP5kqGJXUifQ/c9cS8kHP/D+/DpwzojQEQIEmwoanVwxA4lgXt9HgE0BSSZ2AJuIbQAMJih9jjiNA5q4l5INuK0AwTKYKRj0zQNv5fmq8/DpAaCJseHrtQkB/+zpwzoxKQM3MzMzMeFJAZmZmZmZqWEAAAAAAAFxeQM3MzMzMJmJAmpmZmZkfZUBmZmZmZhhoQDMzMzMzEWtAAAAAAAAKbkBmZmZmZoFwQM3MzMzM/XFAMzMzMzN6c0CamZmZmfZ0QAAAAAAAc3ZAZmZmZmbvd0DNzMzMzGt5QDMzMzMz6HpAmpmZmZlkfEAAAAAAAOF9QGZmZmZmXX9AZmZmZuZsgECamZmZGSuBQM3MzMxM6YFAAAAAAICngkAzMzMzs2WDQGZmZmbmI4RAmpmZmRnihEDNzMzMTKCFQAAAAACAXoZAMzMzM7Mch0BmZmZm5tqHQJqZmZkZmYhAzczMzExXiUAAAAAAgBWKQDMzMzOz04pAZmZmZuaRi0CamZmZGVCMQM3MzMxMDo1AAAAAAIDMjUAzMzMzs4qOQGZmZmbmSI9A\",\"dtype\":\"float64\",\"shape\":[75]}},\"selected\":{\"id\":\"e1446163-ad41-443d-9ca1-3cd1ef7393fb\",\"type\":\"Selection\"},\"selection_policy\":{\"id\":\"f428caad-6a2c-498d-8871-06218e307eb7\",\"type\":\"UnionRenderers\"}},\"id\":\"4a981a39-76cf-4009-8af8-69eadb54714d\",\"type\":\"ColumnDataSource\"},{\"attributes\":{\"children\":[{\"id\":\"e3254c17-bf7a-4c41-ac07-f9a754cb1dd9\",\"type\":\"ToolbarBox\"},{\"id\":\"24e4391e-c0b8-496f-98c5-11718c6be089\",\"type\":\"Column\"}]},\"id\":\"8a4a3dc7-7e99-417f-8d98-3c0bb7b6f617\",\"type\":\"Column\"},{\"attributes\":{},\"id\":\"6fc6ceec-1a6e-401d-9e19-7d4c6abe8ba7\",\"type\":\"UnionRenderers\"},{\"attributes\":{},\"id\":\"4b269a24-51e8-48ac-b421-9ddb64e218c1\",\"type\":\"HelpTool\"},{\"attributes\":{\"callback\":null,\"end\":0.01,\"start\":1020},\"id\":\"b12bc555-e624-4b46-9afa-3173039b9a0d\",\"type\":\"Range1d\"},{\"attributes\":{\"plot\":null,\"text\":\"\"},\"id\":\"9854a517-3726-4770-a49d-55883b5adcbd\",\"type\":\"Title\"},{\"attributes\":{},\"id\":\"4acf79df-ad3a-4532-8530-6f69f6b17166\",\"type\":\"WheelZoomTool\"},{\"attributes\":{\"overlay\":{\"id\":\"ea0563a8-d0b8-4aad-b3e7-ddd24fc2c28d\",\"type\":\"BoxAnnotation\"}},\"id\":\"22186c8f-8eb5-4b28-9387-b76dfb984929\",\"type\":\"BoxZoomTool\"},{\"attributes\":{\"tools\":[{\"id\":\"37bf4158-75da-43d6-8a21-dcc8b7cf954e\",\"type\":\"PanTool\"},{\"id\":\"4acf79df-ad3a-4532-8530-6f69f6b17166\",\"type\":\"WheelZoomTool\"},{\"id\":\"22186c8f-8eb5-4b28-9387-b76dfb984929\",\"type\":\"BoxZoomTool\"},{\"id\":\"77ac28db-5fb8-4ed3-8c8e-b14a44553815\",\"type\":\"SaveTool\"},{\"id\":\"fe07e554-3500-48ab-8f21-c41a21592358\",\"type\":\"ResetTool\"},{\"id\":\"4b269a24-51e8-48ac-b421-9ddb64e218c1\",\"type\":\"HelpTool\"},{\"id\":\"7d29ccf0-f2f7-48f8-a1ad-6e0160c92c61\",\"type\":\"PanTool\"},{\"id\":\"963f1ab1-015e-42bc-8f27-85e602f28f96\",\"type\":\"WheelZoomTool\"},{\"id\":\"69992f76-804e-422f-9836-c16bb926b30e\",\"type\":\"BoxZoomTool\"},{\"id\":\"80cde314-818c-4fc8-b0ba-13be079dd7e5\",\"type\":\"SaveTool\"},{\"id\":\"f6b4ab8f-2395-49eb-b503-da284e05adce\",\"type\":\"ResetTool\"},{\"id\":\"8b83d09f-2a77-4d07-adb5-8b1e12324f94\",\"type\":\"HelpTool\"},{\"id\":\"75d20aaf-e8bf-4d84-8aaf-a29467b12124\",\"type\":\"PanTool\"},{\"id\":\"c2204e88-baeb-4e51-8cb3-8a9a456d0f7a\",\"type\":\"WheelZoomTool\"},{\"id\":\"3c3c59ad-4c35-4e52-bd8f-dda704f00d21\",\"type\":\"BoxZoomTool\"},{\"id\":\"6cad5a38-911f-45cb-b3b5-064133b185c9\",\"type\":\"SaveTool\"},{\"id\":\"126f9b86-cf6e-4ec0-bd75-5957269d321c\",\"type\":\"ResetTool\"},{\"id\":\"9bfa9837-39a1-4b18-bc7a-961084ffc305\",\"type\":\"HelpTool\"}]},\"id\":\"ebc540d4-4965-4ed4-b0a1-ae356889b9ef\",\"type\":\"ProxyToolbar\"},{\"attributes\":{},\"id\":\"3d618290-db83-4760-b9d4-a5724eaf37e3\",\"type\":\"Selection\"},{\"attributes\":{},\"id\":\"76db0b9d-e607-4004-bf01-8d0e27820ff5\",\"type\":\"UnionRenderers\"},{\"attributes\":{\"ticker\":null},\"id\":\"9527fa14-44f2-4ed8-99da-207ba1aac429\",\"type\":\"LogTickFormatter\"},{\"attributes\":{},\"id\":\"5d4e7345-b3e7-4f4c-904a-36194b544cb9\",\"type\":\"Selection\"},{\"attributes\":{\"source\":{\"id\":\"224fdfa5-f2b7-4541-9417-26751bf9acd4\",\"type\":\"ColumnDataSource\"}},\"id\":\"ee0eb182-25d5-4a9b-863b-e9b91b8170dc\",\"type\":\"CDSView\"},{\"attributes\":{},\"id\":\"f02fa6c8-1fbe-47f0-aca5-8fa9638e5a71\",\"type\":\"UnionRenderers\"},{\"attributes\":{},\"id\":\"f428caad-6a2c-498d-8871-06218e307eb7\",\"type\":\"UnionRenderers\"},{\"attributes\":{},\"id\":\"16ceac5c-211b-4d83-aa06-db3d680d3b6e\",\"type\":\"UnionRenderers\"},{\"attributes\":{},\"id\":\"e9e0f6a6-4ff5-48c1-bc93-207c1e449e4d\",\"type\":\"BasicTickFormatter\"},{\"attributes\":{},\"id\":\"24139ee6-8f62-4c74-884b-86514e9b6a2e\",\"type\":\"UnionRenderers\"},{\"attributes\":{\"fill_alpha\":{\"value\":0.1},\"fill_color\":{\"value\":\"#1f77b4\"},\"line_alpha\":{\"value\":0.1},\"line_color\":{\"value\":\"#1f77b4\"},\"x\":{\"field\":\"x\"},\"y\":{\"field\":\"y\"}},\"id\":\"f73fa488-5536-4ca1-9106-87dc2a4a266e\",\"type\":\"Circle\"},{\"attributes\":{\"data_source\":{\"id\":\"e44424df-fd8d-4426-9b82-3e385d59465c\",\"type\":\"ColumnDataSource\"},\"glyph\":{\"id\":\"0fc9e6d1-47eb-4949-b163-299dce7087e5\",\"type\":\"Circle\"},\"hover_glyph\":null,\"muted_glyph\":null,\"nonselection_glyph\":{\"id\":\"f73fa488-5536-4ca1-9106-87dc2a4a266e\",\"type\":\"Circle\"},\"selection_glyph\":null,\"view\":{\"id\":\"85b52e96-3f63-40f0-8490-bba1e101073f\",\"type\":\"CDSView\"}},\"id\":\"8144d87f-b62a-4af8-a1e3-37328c101e25\",\"type\":\"GlyphRenderer\"},{\"attributes\":{\"ticker\":null},\"id\":\"2744b585-6ee9-4652-b47f-2c03f3e2d997\",\"type\":\"LogTickFormatter\"},{\"attributes\":{\"line_alpha\":0.1,\"line_color\":\"#1f77b4\",\"line_dash\":[6],\"line_width\":5,\"x\":{\"field\":\"x\"},\"y\":{\"field\":\"y\"}},\"id\":\"e901ad0c-cb91-4aef-a32f-c100ab0797c0\",\"type\":\"Line\"},{\"attributes\":{\"callback\":null,\"data\":{\"x\":{\"__ndarray__\":\"0CYBcvU5UkCik9zf2GVBQF1VoNfLZ0BAVLxhiVXTPUDD1Wu1wJM6QFJyB025jjdAU6Aw5+b/NECYe1uuDfgyQB6bYtVTbTFAPxYSAF1HMEA00pYVm9QuQLolHbMzgC1AntlwirGsLECv+G9SjE4rQJH6ZLBp0ShAsLZQyPd/JkDyjgyf2PwkQLgyNGsrJyRAA13QbJD6I0C8hy0ilI4kQOVTXCEgcSZAovOGvZSGJUBVc/ZmUOIgQOf/6GHAyRlAcE8fAOBSFEDRur1U//gPQGFD9ZbokghAQsqHuSqSA0C91ci3W0UBQCtRQfvz7/4/kh8pntyB+j9t1/n+4TX1P773MAUjFfI/RgzR+CI28T8hBW8WHK7uPzVKjJfU8uk/0FPt4/z65T/wVYqzMPDhPz7K9C5CXuE/8+hSn9hY4T/9PPCkR6rhP1XsIC599OA/66X1nBCX3z/YbRM56QjcPz4dkSQc/dM/S7Wb8Fq00T+/yQdmX0vcP7TrGf476eM/WqNPJoWO7D9qOH1bcwDzP2bw+R5DQ/Y/RLSuQOQp+D8+aif8yAz5P0Wv6eBKRfk/0i2+IN4R+T/ik8QNFZr4PyS5UD5j/Pc/yJ68zXRG9z/2CHPL54H2P59SOhwKtPU/npkP8dfg9D8NlmVcdQz0P80ugRvuOvM/byxiAHN18j9USVZie8nxP5l9lNXYSPE/OB+F0UYP8T8Y7dsUCTHxP3EBgTHPcPE/bfx15p8S8T8FT+xkGtTuP6mdG7rkxuk/pboqTkHX5D/CrN8qGYngP7R4ZaL+htU/\",\"dtype\":\"float64\",\"shape\":[75]},\"y\":{\"__ndarray__\":\"GhExyth1ND/Sv8nbtpRIP2vylNV0PVE/aTum7souWD/At0SJ8fVgPw3Iuahxymc/MSNhhJWvcD/bTfBN02d3P2zb5nxnaoA/CD5h5MAGhz8NmeH1TyaQP+zrCsc9p5Y/LbKd76fGnz/bLW5ISEmmPww9YvTcQq8/JV2OstnstT8Er5Y7M8G+P0c+r3jqkcU/5h99k6ZBzj88bCIzFzjVP4enV8oyxN0//yH99nXg5D8qOpLLf0jtP5kqGJXUifQ/c9cS8kHP/D+/DpwzojQEQIEmwoanVwxA4lgXt9HgE0BSSZ2AJuIbQAMJih9jjiNA5q4l5INuK0AwTKYKRj0zQNv5fmq8/DpAaCJseHrtQkB/+zpwzoxKQM3MzMzMeFJAZmZmZmZqWEAAAAAAAFxeQM3MzMzMJmJAmpmZmZkfZUBmZmZmZhhoQDMzMzMzEWtAAAAAAAAKbkBmZmZmZoFwQM3MzMzM/XFAMzMzMzN6c0CamZmZmfZ0QAAAAAAAc3ZAZmZmZmbvd0DNzMzMzGt5QDMzMzMz6HpAmpmZmZlkfEAAAAAAAOF9QGZmZmZmXX9AZmZmZuZsgECamZmZGSuBQM3MzMxM6YFAAAAAAICngkAzMzMzs2WDQGZmZmbmI4RAmpmZmRnihEDNzMzMTKCFQAAAAACAXoZAMzMzM7Mch0BmZmZm5tqHQJqZmZkZmYhAzczMzExXiUAAAAAAgBWKQDMzMzOz04pAZmZmZuaRi0CamZmZGVCMQM3MzMxMDo1AAAAAAIDMjUAzMzMzs4qOQGZmZmbmSI9A\",\"dtype\":\"float64\",\"shape\":[75]}},\"selected\":{\"id\":\"5d4e7345-b3e7-4f4c-904a-36194b544cb9\",\"type\":\"Selection\"},\"selection_policy\":{\"id\":\"f02fa6c8-1fbe-47f0-aca5-8fa9638e5a71\",\"type\":\"UnionRenderers\"}},\"id\":\"e44424df-fd8d-4426-9b82-3e385d59465c\",\"type\":\"ColumnDataSource\"},{\"attributes\":{},\"id\":\"e1446163-ad41-443d-9ca1-3cd1ef7393fb\",\"type\":\"Selection\"},{\"attributes\":{},\"id\":\"7bc06e3b-b076-4ee6-b870-ee392bc87204\",\"type\":\"Selection\"},{\"attributes\":{\"plot\":null,\"text\":\"\"},\"id\":\"b1c37086-5a4e-447e-a0da-98a19a050949\",\"type\":\"Title\"},{\"attributes\":{},\"id\":\"1159f8b8-c94e-4a15-89cc-1396504ba2c3\",\"type\":\"Selection\"},{\"attributes\":{\"bottom_units\":\"screen\",\"fill_alpha\":{\"value\":0.5},\"fill_color\":{\"value\":\"lightgrey\"},\"left_units\":\"screen\",\"level\":\"overlay\",\"line_alpha\":{\"value\":1.0},\"line_color\":{\"value\":\"black\"},\"line_dash\":[4,4],\"line_width\":{\"value\":2},\"plot\":null,\"render_mode\":\"css\",\"right_units\":\"screen\",\"top_units\":\"screen\"},\"id\":\"a93b089b-c7e2-429e-88b2-7bb268cf3efb\",\"type\":\"BoxAnnotation\"},{\"attributes\":{\"data_source\":{\"id\":\"afd68cdc-fd10-4201-9261-8cf5740bba05\",\"type\":\"ColumnDataSource\"},\"glyph\":{\"id\":\"4feb7417-4049-40fd-9bc1-36b6010563d2\",\"type\":\"Line\"},\"hover_glyph\":null,\"muted_glyph\":null,\"nonselection_glyph\":{\"id\":\"48f4800c-fd18-414e-bdc8-92cdabc596c8\",\"type\":\"Line\"},\"selection_glyph\":null,\"view\":{\"id\":\"ee11852d-f276-4f2f-b970-f0999b63b5c8\",\"type\":\"CDSView\"}},\"id\":\"915162de-2f4c-4469-b761-48b3d7cbd187\",\"type\":\"GlyphRenderer\"},{\"attributes\":{\"data_source\":{\"id\":\"224fdfa5-f2b7-4541-9417-26751bf9acd4\",\"type\":\"ColumnDataSource\"},\"glyph\":{\"id\":\"660b6d3d-db05-472a-86b0-d1e8d3bb1d08\",\"type\":\"Line\"},\"hover_glyph\":null,\"muted_glyph\":null,\"nonselection_glyph\":{\"id\":\"e901ad0c-cb91-4aef-a32f-c100ab0797c0\",\"type\":\"Line\"},\"selection_glyph\":null,\"view\":{\"id\":\"ee0eb182-25d5-4a9b-863b-e9b91b8170dc\",\"type\":\"CDSView\"}},\"id\":\"f2938eb8-6e0c-4aa1-9b99-8c859e667100\",\"type\":\"GlyphRenderer\"},{\"attributes\":{},\"id\":\"fbc645f5-7527-43ac-b588-e58899afec6c\",\"type\":\"Selection\"},{\"attributes\":{},\"id\":\"31ea4c78-4aaf-492a-89b2-769c0229a47e\",\"type\":\"BasicTickFormatter\"},{\"attributes\":{\"fill_alpha\":{\"value\":0.7},\"fill_color\":{\"value\":\"#4daf4a\"},\"line_alpha\":{\"value\":0.7},\"line_color\":{\"value\":\"#4daf4a\"},\"x\":{\"field\":\"x\"},\"y\":{\"field\":\"y\"}},\"id\":\"0fc9e6d1-47eb-4949-b163-299dce7087e5\",\"type\":\"Circle\"},{\"attributes\":{},\"id\":\"37bf4158-75da-43d6-8a21-dcc8b7cf954e\",\"type\":\"PanTool\"},{\"attributes\":{\"fill_alpha\":{\"value\":0.1},\"fill_color\":{\"value\":\"#1f77b4\"},\"line_alpha\":{\"value\":0.1},\"line_color\":{\"value\":\"#1f77b4\"},\"x\":{\"field\":\"x\"},\"y\":{\"field\":\"y\"}},\"id\":\"79a2e5ce-e589-4629-89fe-03d6d9aeb223\",\"type\":\"Circle\"},{\"attributes\":{},\"id\":\"d3bfc8df-68a1-460c-906a-c5c33edc8154\",\"type\":\"Selection\"},{\"attributes\":{},\"id\":\"9d893202-3575-44dd-9d10-2fbe8b10e380\",\"type\":\"UnionRenderers\"},{\"attributes\":{},\"id\":\"90503e9a-fd01-448f-854a-3c216735bfc3\",\"type\":\"BasicTickFormatter\"},{\"attributes\":{},\"id\":\"fe07e554-3500-48ab-8f21-c41a21592358\",\"type\":\"ResetTool\"},{\"attributes\":{\"active_drag\":\"auto\",\"active_inspect\":\"auto\",\"active_scroll\":\"auto\",\"active_tap\":\"auto\",\"tools\":[{\"id\":\"37bf4158-75da-43d6-8a21-dcc8b7cf954e\",\"type\":\"PanTool\"},{\"id\":\"4acf79df-ad3a-4532-8530-6f69f6b17166\",\"type\":\"WheelZoomTool\"},{\"id\":\"22186c8f-8eb5-4b28-9387-b76dfb984929\",\"type\":\"BoxZoomTool\"},{\"id\":\"77ac28db-5fb8-4ed3-8c8e-b14a44553815\",\"type\":\"SaveTool\"},{\"id\":\"fe07e554-3500-48ab-8f21-c41a21592358\",\"type\":\"ResetTool\"},{\"id\":\"4b269a24-51e8-48ac-b421-9ddb64e218c1\",\"type\":\"HelpTool\"}]},\"id\":\"352ab246-db42-4b66-af30-8d4cbe6d1f7a\",\"type\":\"Toolbar\"},{\"attributes\":{},\"id\":\"33d0d840-08ee-4678-94d4-601e372978b9\",\"type\":\"BasicTicker\"},{\"attributes\":{\"items\":[{\"id\":\"104499a0-0b87-4746-bdf8-57bed6cf667c\",\"type\":\"LegendItem\"},{\"id\":\"00ac8468-860e-4d3d-b50d-faa94dad331a\",\"type\":\"LegendItem\"}],\"label_text_font_size\":{\"value\":\"8pt\"},\"location\":\"top_center\",\"orientation\":\"horizontal\",\"plot\":{\"id\":\"78775c5d-ae52-4713-ae88-5511ca61c521\",\"subtype\":\"Figure\",\"type\":\"Plot\"}},\"id\":\"8adc85f3-2742-4c61-a661-12899391c8db\",\"type\":\"Legend\"},{\"attributes\":{\"children\":[{\"id\":\"78775c5d-ae52-4713-ae88-5511ca61c521\",\"subtype\":\"Figure\",\"type\":\"Plot\"},{\"id\":\"33efff4d-3b19-4626-a34c-d0bce607cf2a\",\"subtype\":\"Figure\",\"type\":\"Plot\"},{\"id\":\"a56842e3-c333-4de6-8642-ddad19093453\",\"subtype\":\"Figure\",\"type\":\"Plot\"}]},\"id\":\"bac6ce5f-ef35-4c2d-9d1d-b5ad18e07ec2\",\"type\":\"Row\"},{\"attributes\":{\"children\":[{\"id\":\"bac6ce5f-ef35-4c2d-9d1d-b5ad18e07ec2\",\"type\":\"Row\"}]},\"id\":\"24e4391e-c0b8-496f-98c5-11718c6be089\",\"type\":\"Column\"},{\"attributes\":{},\"id\":\"edd1f067-1bdf-4abb-93ac-a3b705d454d7\",\"type\":\"LinearScale\"},{\"attributes\":{},\"id\":\"29261a77-90e1-440a-8e1b-aad01a36fc1f\",\"type\":\"LinearScale\"},{\"attributes\":{\"callback\":null,\"data\":{\"x\":{\"__ndarray__\":\"zeQBhyfeQ8C1XnjxI/YYwLTWiUDlpAPAFY3ZdcAe8j9qTCS295sLQCegreIf2g9AVrtONzPLBkDlmHApZzrrP6mfmyiEmu2/TWSU7qZl+r+Xtx/7Zxv0v5MuIBEiy9S/YIrrimCq4D8XMVsacObuP1k4bx+5Ae0/7tlD0ccO2T/ORFwmyN3QvzrhdQZCXuW/ZrMspe9x5b/ufu79PHzavyRUoZ4L38G/yk332C4gsj86kBhWVDHBPxXKBP8q/Lm/sJGWLX5vzb8v7E9EfA6hv0e9unnlXNE/5FusS+Dx0T+NN5ZNSTS8PyM51/nRo6A/a+waxWlGxD/T3gvFZhjNP0XgtKh21cA/QdFyIo62dr9QoNtkEapoP6wNdYG9UrM/NF05ktlHqD9yFZC1kJmYv856wXIrnbO/Qw2/6eH6tb8hUXzVvpiyv/Aoa+E9lay/HeKZWlRSpb8yO5M3avGZv0kklDGILpC/M8V17fuzhL/Y6REFuhoyP5EHzwBvn3C/jtfhtAF3mb819zi+Qq2ov/QfG02O7aa/7MXY0Kjcmb8T5Y3M8GyVvxMTMLpdjZ2/osOzTtK1lb9wtscXXI9wv7bPzQtru4s/L5FcO6cSnT9CQBTzhMqlPwKfNE7v1K4/dDajqGwGsz+tSjJLc821P4A9vCTbK7c/cR+fBWLPtz+MXGwFTjC4P6aMqrEMgrg/LyZoWRjeuD/Bxb9VO1+5P8BJmD57+7g/hdr9l1wmuD+7Cv91sHa2P9hA/WLL9rM/5tGtUE1NsT/MTI3DpVKuP40XskF9B6o/\",\"dtype\":\"float64\",\"shape\":[75]},\"y\":{\"__ndarray__\":\"GhExyth1ND/Sv8nbtpRIP2vylNV0PVE/aTum7souWD/At0SJ8fVgPw3Iuahxymc/MSNhhJWvcD/bTfBN02d3P2zb5nxnaoA/CD5h5MAGhz8NmeH1TyaQP+zrCsc9p5Y/LbKd76fGnz/bLW5ISEmmPww9YvTcQq8/JV2OstnstT8Er5Y7M8G+P0c+r3jqkcU/5h99k6ZBzj88bCIzFzjVP4enV8oyxN0//yH99nXg5D8qOpLLf0jtP5kqGJXUifQ/c9cS8kHP/D+/DpwzojQEQIEmwoanVwxA4lgXt9HgE0BSSZ2AJuIbQAMJih9jjiNA5q4l5INuK0AwTKYKRj0zQNv5fmq8/DpAaCJseHrtQkB/+zpwzoxKQM3MzMzMeFJAZmZmZmZqWEAAAAAAAFxeQM3MzMzMJmJAmpmZmZkfZUBmZmZmZhhoQDMzMzMzEWtAAAAAAAAKbkBmZmZmZoFwQM3MzMzM/XFAMzMzMzN6c0CamZmZmfZ0QAAAAAAAc3ZAZmZmZmbvd0DNzMzMzGt5QDMzMzMz6HpAmpmZmZlkfEAAAAAAAOF9QGZmZmZmXX9AZmZmZuZsgECamZmZGSuBQM3MzMxM6YFAAAAAAICngkAzMzMzs2WDQGZmZmbmI4RAmpmZmRnihEDNzMzMTKCFQAAAAACAXoZAMzMzM7Mch0BmZmZm5tqHQJqZmZkZmYhAzczMzExXiUAAAAAAgBWKQDMzMzOz04pAZmZmZuaRi0CamZmZGVCMQM3MzMxMDo1AAAAAAIDMjUAzMzMzs4qOQGZmZmbmSI9A\",\"dtype\":\"float64\",\"shape\":[75]}},\"selected\":{\"id\":\"fbc645f5-7527-43ac-b588-e58899afec6c\",\"type\":\"Selection\"},\"selection_policy\":{\"id\":\"9d893202-3575-44dd-9d10-2fbe8b10e380\",\"type\":\"UnionRenderers\"}},\"id\":\"938a4673-c1cf-4d0f-a52b-8be7f9731268\",\"type\":\"ColumnDataSource\"},{\"attributes\":{\"source\":{\"id\":\"938a4673-c1cf-4d0f-a52b-8be7f9731268\",\"type\":\"ColumnDataSource\"}},\"id\":\"86e78696-1ff2-4946-af97-f86df337defa\",\"type\":\"CDSView\"},{\"attributes\":{\"dimension\":1,\"plot\":{\"id\":\"78775c5d-ae52-4713-ae88-5511ca61c521\",\"subtype\":\"Figure\",\"type\":\"Plot\"},\"ticker\":{\"id\":\"c99e7c14-62bf-4a55-acfb-f57256737bd0\",\"type\":\"BasicTicker\"}},\"id\":\"a3336e05-b4b7-495a-89e5-025f81e85223\",\"type\":\"Grid\"},{\"attributes\":{\"source\":{\"id\":\"1e3b3cfe-4412-497a-bc08-619404ff956e\",\"type\":\"ColumnDataSource\"}},\"id\":\"a86af894-d091-446b-a61b-d75c79159a21\",\"type\":\"CDSView\"},{\"attributes\":{\"fill_alpha\":{\"value\":0.1},\"fill_color\":{\"value\":\"#1f77b4\"},\"line_alpha\":{\"value\":0.1},\"line_color\":{\"value\":\"#1f77b4\"},\"x\":{\"field\":\"x\"},\"y\":{\"field\":\"y\"}},\"id\":\"17405130-c06e-46c9-8761-8bddde948a13\",\"type\":\"Circle\"},{\"attributes\":{},\"id\":\"6c0edaf2-7a43-4ae1-b3cf-1e994246411f\",\"type\":\"BasicTicker\"},{\"attributes\":{\"line_alpha\":0.8,\"line_color\":\"#984ea3\",\"line_width\":1.5,\"x\":{\"field\":\"x\"},\"y\":{\"field\":\"y\"}},\"id\":\"408c49c9-7044-4503-94d0-8e2e5e785793\",\"type\":\"Line\"},{\"attributes\":{},\"id\":\"044254ec-e798-4159-8fe6-8d04595bc152\",\"type\":\"LogScale\"},{\"attributes\":{\"label\":{\"value\":\"CLIRAD (single-run) - CRD\"},\"renderers\":[{\"id\":\"10e77b78-b838-4c9d-96d9-137a49899d39\",\"type\":\"GlyphRenderer\"},{\"id\":\"ba91cd10-c6f8-4569-afd9-a66c8f7caf09\",\"type\":\"GlyphRenderer\"}]},\"id\":\"4acd0b8a-7d13-48e0-872b-68f0214f3c93\",\"type\":\"LegendItem\"},{\"attributes\":{\"data_source\":{\"id\":\"6ff25664-f87b-4278-81a6-fe8909392730\",\"type\":\"ColumnDataSource\"},\"glyph\":{\"id\":\"37ae816f-b9f9-476d-a747-4a5131fc194d\",\"type\":\"Circle\"},\"hover_glyph\":null,\"muted_glyph\":null,\"nonselection_glyph\":{\"id\":\"17405130-c06e-46c9-8761-8bddde948a13\",\"type\":\"Circle\"},\"selection_glyph\":null,\"view\":{\"id\":\"394c9690-da5f-4a18-8d9c-f9cd19c17c6a\",\"type\":\"CDSView\"}},\"id\":\"a5d53713-74bd-4a35-944e-10ed6f605857\",\"type\":\"GlyphRenderer\"},{\"attributes\":{},\"id\":\"028f4a0f-1915-485e-84d1-f4f6e8682a7a\",\"type\":\"LinearScale\"},{\"attributes\":{\"callback\":null,\"data\":{\"x\":{\"__ndarray__\":\"0CYBcvU5UkCik9zf2GVBQF1VoNfLZ0BAVLxhiVXTPUDD1Wu1wJM6QFJyB025jjdAU6Aw5+b/NECYe1uuDfgyQB6bYtVTbTFAPxYSAF1HMEA00pYVm9QuQLolHbMzgC1AntlwirGsLECv+G9SjE4rQJH6ZLBp0ShAsLZQyPd/JkDyjgyf2PwkQLgyNGsrJyRAA13QbJD6I0C8hy0ilI4kQOVTXCEgcSZAovOGvZSGJUBVc/ZmUOIgQOf/6GHAyRlAcE8fAOBSFEDRur1U//gPQGFD9ZbokghAQsqHuSqSA0C91ci3W0UBQCtRQfvz7/4/kh8pntyB+j9t1/n+4TX1P773MAUjFfI/RgzR+CI28T8hBW8WHK7uPzVKjJfU8uk/0FPt4/z65T/wVYqzMPDhPz7K9C5CXuE/8+hSn9hY4T/9PPCkR6rhP1XsIC599OA/66X1nBCX3z/YbRM56QjcPz4dkSQc/dM/S7Wb8Fq00T+/yQdmX0vcP7TrGf476eM/WqNPJoWO7D9qOH1bcwDzP2bw+R5DQ/Y/RLSuQOQp+D8+aif8yAz5P0Wv6eBKRfk/0i2+IN4R+T/ik8QNFZr4PyS5UD5j/Pc/yJ68zXRG9z/2CHPL54H2P59SOhwKtPU/npkP8dfg9D8NlmVcdQz0P80ugRvuOvM/byxiAHN18j9USVZie8nxP5l9lNXYSPE/OB+F0UYP8T8Y7dsUCTHxP3EBgTHPcPE/bfx15p8S8T8FT+xkGtTuP6mdG7rkxuk/pboqTkHX5D/CrN8qGYngP7R4ZaL+htU/\",\"dtype\":\"float64\",\"shape\":[75]},\"y\":{\"__ndarray__\":\"GhExyth1ND/Sv8nbtpRIP2vylNV0PVE/aTum7souWD/At0SJ8fVgPw3Iuahxymc/MSNhhJWvcD/bTfBN02d3P2zb5nxnaoA/CD5h5MAGhz8NmeH1TyaQP+zrCsc9p5Y/LbKd76fGnz/bLW5ISEmmPww9YvTcQq8/JV2OstnstT8Er5Y7M8G+P0c+r3jqkcU/5h99k6ZBzj88bCIzFzjVP4enV8oyxN0//yH99nXg5D8qOpLLf0jtP5kqGJXUifQ/c9cS8kHP/D+/DpwzojQEQIEmwoanVwxA4lgXt9HgE0BSSZ2AJuIbQAMJih9jjiNA5q4l5INuK0AwTKYKRj0zQNv5fmq8/DpAaCJseHrtQkB/+zpwzoxKQM3MzMzMeFJAZmZmZmZqWEAAAAAAAFxeQM3MzMzMJmJAmpmZmZkfZUBmZmZmZhhoQDMzMzMzEWtAAAAAAAAKbkBmZmZmZoFwQM3MzMzM/XFAMzMzMzN6c0CamZmZmfZ0QAAAAAAAc3ZAZmZmZmbvd0DNzMzMzGt5QDMzMzMz6HpAmpmZmZlkfEAAAAAAAOF9QGZmZmZmXX9AZmZmZuZsgECamZmZGSuBQM3MzMxM6YFAAAAAAICngkAzMzMzs2WDQGZmZmbmI4RAmpmZmRnihEDNzMzMTKCFQAAAAACAXoZAMzMzM7Mch0BmZmZm5tqHQJqZmZkZmYhAzczMzExXiUAAAAAAgBWKQDMzMzOz04pAZmZmZuaRi0CamZmZGVCMQM3MzMxMDo1AAAAAAIDMjUAzMzMzs4qOQGZmZmbmSI9A\",\"dtype\":\"float64\",\"shape\":[75]}},\"selected\":{\"id\":\"1159f8b8-c94e-4a15-89cc-1396504ba2c3\",\"type\":\"Selection\"},\"selection_policy\":{\"id\":\"76db0b9d-e607-4004-bf01-8d0e27820ff5\",\"type\":\"UnionRenderers\"}},\"id\":\"6ff25664-f87b-4278-81a6-fe8909392730\",\"type\":\"ColumnDataSource\"},{\"attributes\":{\"axis_label\":\"cooling rate [K/day]\",\"formatter\":{\"id\":\"90503e9a-fd01-448f-854a-3c216735bfc3\",\"type\":\"BasicTickFormatter\"},\"plot\":{\"id\":\"78775c5d-ae52-4713-ae88-5511ca61c521\",\"subtype\":\"Figure\",\"type\":\"Plot\"},\"ticker\":{\"id\":\"6c0edaf2-7a43-4ae1-b3cf-1e994246411f\",\"type\":\"BasicTicker\"}},\"id\":\"94f93d9e-75ba-40c3-bf16-b8e862f7df80\",\"type\":\"LinearAxis\"},{\"attributes\":{\"num_minor_ticks\":10},\"id\":\"142acec0-52c4-4cc2-8788-17dd674a801b\",\"type\":\"LogTicker\"},{\"attributes\":{\"plot\":{\"id\":\"78775c5d-ae52-4713-ae88-5511ca61c521\",\"subtype\":\"Figure\",\"type\":\"Plot\"},\"ticker\":{\"id\":\"6c0edaf2-7a43-4ae1-b3cf-1e994246411f\",\"type\":\"BasicTicker\"}},\"id\":\"b4a0213c-72d3-434e-9b00-c2a27eb0f180\",\"type\":\"Grid\"},{\"attributes\":{\"axis_label\":\"pressure [mb]\",\"formatter\":{\"id\":\"40b969b4-a814-4fad-b6cf-ac6773dc2bd0\",\"type\":\"BasicTickFormatter\"},\"plot\":{\"id\":\"78775c5d-ae52-4713-ae88-5511ca61c521\",\"subtype\":\"Figure\",\"type\":\"Plot\"},\"ticker\":{\"id\":\"c99e7c14-62bf-4a55-acfb-f57256737bd0\",\"type\":\"BasicTicker\"}},\"id\":\"561954c9-17e2-4b2a-b0d9-a1c83dc82bf7\",\"type\":\"LinearAxis\"},{\"attributes\":{\"line_alpha\":0.1,\"line_color\":\"#1f77b4\",\"line_width\":1.5,\"x\":{\"field\":\"x\"},\"y\":{\"field\":\"y\"}},\"id\":\"47140309-e5c3-45ea-96f7-b983b5352e08\",\"type\":\"Line\"},{\"attributes\":{\"plot\":{\"id\":\"a56842e3-c333-4de6-8642-ddad19093453\",\"subtype\":\"Figure\",\"type\":\"Plot\"},\"ticker\":{\"id\":\"33d0d840-08ee-4678-94d4-601e372978b9\",\"type\":\"BasicTicker\"}},\"id\":\"f23b0204-39b4-49a0-a2ca-f02121e8a94f\",\"type\":\"Grid\"},{\"attributes\":{},\"id\":\"c99e7c14-62bf-4a55-acfb-f57256737bd0\",\"type\":\"BasicTicker\"},{\"attributes\":{\"active_drag\":\"auto\",\"active_inspect\":\"auto\",\"active_scroll\":\"auto\",\"active_tap\":\"auto\",\"tools\":[{\"id\":\"75d20aaf-e8bf-4d84-8aaf-a29467b12124\",\"type\":\"PanTool\"},{\"id\":\"c2204e88-baeb-4e51-8cb3-8a9a456d0f7a\",\"type\":\"WheelZoomTool\"},{\"id\":\"3c3c59ad-4c35-4e52-bd8f-dda704f00d21\",\"type\":\"BoxZoomTool\"},{\"id\":\"6cad5a38-911f-45cb-b3b5-064133b185c9\",\"type\":\"SaveTool\"},{\"id\":\"126f9b86-cf6e-4ec0-bd75-5957269d321c\",\"type\":\"ResetTool\"},{\"id\":\"9bfa9837-39a1-4b18-bc7a-961084ffc305\",\"type\":\"HelpTool\"}]},\"id\":\"428c509a-3b54-4ccf-bbbf-fbb70c5d53b6\",\"type\":\"Toolbar\"},{\"attributes\":{\"callback\":null,\"end\":0.99178409701469,\"start\":-1.6759718721256893},\"id\":\"60bdd600-1669-4347-a37c-c6a045720bc2\",\"type\":\"Range1d\"},{\"attributes\":{\"source\":{\"id\":\"6ff25664-f87b-4278-81a6-fe8909392730\",\"type\":\"ColumnDataSource\"}},\"id\":\"394c9690-da5f-4a18-8d9c-f9cd19c17c6a\",\"type\":\"CDSView\"},{\"attributes\":{\"axis_label\":\"pressure [mb]\",\"formatter\":{\"id\":\"2744b585-6ee9-4652-b47f-2c03f3e2d997\",\"type\":\"LogTickFormatter\"},\"plot\":{\"id\":\"a56842e3-c333-4de6-8642-ddad19093453\",\"subtype\":\"Figure\",\"type\":\"Plot\"},\"ticker\":{\"id\":\"142acec0-52c4-4cc2-8788-17dd674a801b\",\"type\":\"LogTicker\"}},\"id\":\"c714b6c6-d28c-4632-9400-8dc6ed4f5fd3\",\"type\":\"LogAxis\"},{\"attributes\":{},\"id\":\"40b969b4-a814-4fad-b6cf-ac6773dc2bd0\",\"type\":\"BasicTickFormatter\"},{\"attributes\":{\"plot\":null,\"text\":\"\"},\"id\":\"c974190f-eb7d-4872-87a0-b40ee7b51448\",\"type\":\"Title\"},{\"attributes\":{\"source\":{\"id\":\"afd68cdc-fd10-4201-9261-8cf5740bba05\",\"type\":\"ColumnDataSource\"}},\"id\":\"ee11852d-f276-4f2f-b970-f0999b63b5c8\",\"type\":\"CDSView\"},{\"attributes\":{\"axis_label\":\"cooling rate [K/day]\",\"formatter\":{\"id\":\"e9e0f6a6-4ff5-48c1-bc93-207c1e449e4d\",\"type\":\"BasicTickFormatter\"},\"plot\":{\"id\":\"a56842e3-c333-4de6-8642-ddad19093453\",\"subtype\":\"Figure\",\"type\":\"Plot\"},\"ticker\":{\"id\":\"33d0d840-08ee-4678-94d4-601e372978b9\",\"type\":\"BasicTicker\"}},\"id\":\"9568fe12-c5d8-4d41-be4f-ad9d04449c25\",\"type\":\"LinearAxis\"},{\"attributes\":{\"fill_alpha\":{\"value\":0.7},\"fill_color\":{\"value\":\"#4daf4a\"},\"line_alpha\":{\"value\":0.7},\"line_color\":{\"value\":\"#4daf4a\"},\"x\":{\"field\":\"x\"},\"y\":{\"field\":\"y\"}},\"id\":\"37ae816f-b9f9-476d-a747-4a5131fc194d\",\"type\":\"Circle\"},{\"attributes\":{\"callback\":null,\"end\":1.59254604309421,\"start\":0.25339516226479},\"id\":\"b7fadef6-8487-4874-beb5-25a786dfd597\",\"type\":\"Range1d\"},{\"attributes\":{\"data_source\":{\"id\":\"938a4673-c1cf-4d0f-a52b-8be7f9731268\",\"type\":\"ColumnDataSource\"},\"glyph\":{\"id\":\"408c49c9-7044-4503-94d0-8e2e5e785793\",\"type\":\"Line\"},\"hover_glyph\":null,\"muted_glyph\":null,\"nonselection_glyph\":{\"id\":\"47140309-e5c3-45ea-96f7-b983b5352e08\",\"type\":\"Line\"},\"selection_glyph\":null,\"view\":{\"id\":\"86e78696-1ff2-4946-af97-f86df337defa\",\"type\":\"CDSView\"}},\"id\":\"ba91cd10-c6f8-4569-afd9-a66c8f7caf09\",\"type\":\"GlyphRenderer\"},{\"attributes\":{\"items\":[{\"id\":\"4acd0b8a-7d13-48e0-872b-68f0214f3c93\",\"type\":\"LegendItem\"}],\"label_text_font_size\":{\"value\":\"8pt\"},\"location\":\"top_center\",\"orientation\":\"horizontal\",\"plot\":{\"id\":\"a56842e3-c333-4de6-8642-ddad19093453\",\"subtype\":\"Figure\",\"type\":\"Plot\"}},\"id\":\"7b4274a9-3e87-465a-ba5a-b9050334e97f\",\"type\":\"Legend\"},{\"attributes\":{},\"id\":\"9bfa9837-39a1-4b18-bc7a-961084ffc305\",\"type\":\"HelpTool\"},{\"attributes\":{\"callback\":null,\"data\":{\"x\":{\"__ndarray__\":\"1WgAXcOVQECYD1vDKI48QOJvLwf7Wj5AI1W/kEH1PkBRXzCsPwc+QFgmXUn9iTtAvHcaTk3ZN0BfAKfn4NEzQB++HbR/gDBA9Z9RIgVCLUBC2zIWLlEsQEQklKLa2SxARpIfk1e3LUDCqxVU8zwtQBjuW0KFoSpAgNXaBm5IJ0DNrNld6nUkQKXUzEpH0SJAzJF9cnGjIkDDEz46srojQJXO4fKjKSZAPOI4G9WqJUCW1U64FSchQMPs7LXPYRlA45qyDmRnE0Aee6xjxbQPQAibLEaFvgpAv1X9wmbQBUB6hzUC/iYCQPQKEIsSdf8/IX3M1qkK/T9HU5vX7tj4P8WTR9rRL/Q/d5muamwf8T/B4NMnxsbuP+3rukcsXew/oukQfXp/5z9D1d0tZCvhP8g1OYE51d0/mA42xPgy3T+yZYGUX67eP45zFKBSVt4/qmmiEcbs3D8mOpqV0mnaP/rad6Ez+tI/IAcwEbsO0T84DokU5k/cP6dNGCD9x+M/nZSoGM3C6z+xcItFCTvyP2UXkazWi/U/L1FrnXHC9z+qMvU4Fbf4P/juAGoVz/g/w16D1wa7+D8rzKyxhYn4P8RUaBTaM/g/DhGqar+69z/2qgvzOzD3P5f3q5axqvY/Bc2Zuz4R9j+5uhiRTGn1P6XyzM2rrfQ/ZB68IGny8z8dD61CgEzzP2Mmr6D50PI/maEbVyid8j9z6TfK/MbyPw+GauWGAPM/Ftr1rwWV8j8tGNY5eNHwP8VFeya+Rew/5HRA+OoA5z+PgRiHQ27iP6W7m0rux9g/\",\"dtype\":\"float64\",\"shape\":[75]},\"y\":{\"__ndarray__\":\"GhExyth1ND/Sv8nbtpRIP2vylNV0PVE/aTum7souWD/At0SJ8fVgPw3Iuahxymc/MSNhhJWvcD/bTfBN02d3P2zb5nxnaoA/CD5h5MAGhz8NmeH1TyaQP+zrCsc9p5Y/LbKd76fGnz/bLW5ISEmmPww9YvTcQq8/JV2OstnstT8Er5Y7M8G+P0c+r3jqkcU/5h99k6ZBzj88bCIzFzjVP4enV8oyxN0//yH99nXg5D8qOpLLf0jtP5kqGJXUifQ/c9cS8kHP/D+/DpwzojQEQIEmwoanVwxA4lgXt9HgE0BSSZ2AJuIbQAMJih9jjiNA5q4l5INuK0AwTKYKRj0zQNv5fmq8/DpAaCJseHrtQkB/+zpwzoxKQM3MzMzMeFJAZmZmZmZqWEAAAAAAAFxeQM3MzMzMJmJAmpmZmZkfZUBmZmZmZhhoQDMzMzMzEWtAAAAAAAAKbkBmZmZmZoFwQM3MzMzM/XFAMzMzMzN6c0CamZmZmfZ0QAAAAAAAc3ZAZmZmZmbvd0DNzMzMzGt5QDMzMzMz6HpAmpmZmZlkfEAAAAAAAOF9QGZmZmZmXX9AZmZmZuZsgECamZmZGSuBQM3MzMxM6YFAAAAAAICngkAzMzMzs2WDQGZmZmbmI4RAmpmZmRnihEDNzMzMTKCFQAAAAACAXoZAMzMzM7Mch0BmZmZm5tqHQJqZmZkZmYhAzczMzExXiUAAAAAAgBWKQDMzMzOz04pAZmZmZuaRi0CamZmZGVCMQM3MzMxMDo1AAAAAAIDMjUAzMzMzs4qOQGZmZmbmSI9A\",\"dtype\":\"float64\",\"shape\":[75]}},\"selected\":{\"id\":\"7bc06e3b-b076-4ee6-b870-ee392bc87204\",\"type\":\"Selection\"},\"selection_policy\":{\"id\":\"16ceac5c-211b-4d83-aa06-db3d680d3b6e\",\"type\":\"UnionRenderers\"}},\"id\":\"afd68cdc-fd10-4201-9261-8cf5740bba05\",\"type\":\"ColumnDataSource\"},{\"attributes\":{\"data_source\":{\"id\":\"1e3b3cfe-4412-497a-bc08-619404ff956e\",\"type\":\"ColumnDataSource\"},\"glyph\":{\"id\":\"e946ae2c-2c08-4774-84d4-e3f300ff7aeb\",\"type\":\"Circle\"},\"hover_glyph\":null,\"muted_glyph\":null,\"nonselection_glyph\":{\"id\":\"79a2e5ce-e589-4629-89fe-03d6d9aeb223\",\"type\":\"Circle\"},\"selection_glyph\":null,\"view\":{\"id\":\"a86af894-d091-446b-a61b-d75c79159a21\",\"type\":\"CDSView\"}},\"id\":\"10e77b78-b838-4c9d-96d9-137a49899d39\",\"type\":\"GlyphRenderer\"},{\"attributes\":{\"line_alpha\":0.1,\"line_color\":\"#1f77b4\",\"line_width\":1.5,\"x\":{\"field\":\"x\"},\"y\":{\"field\":\"y\"}},\"id\":\"797da155-ceab-4594-854e-3e8e18138a86\",\"type\":\"Line\"},{\"attributes\":{},\"id\":\"da66a44c-f004-42c3-8586-2e64fac16668\",\"type\":\"UnionRenderers\"},{\"attributes\":{},\"id\":\"126f9b86-cf6e-4ec0-bd75-5957269d321c\",\"type\":\"ResetTool\"},{\"attributes\":{\"data_source\":{\"id\":\"4a981a39-76cf-4009-8af8-69eadb54714d\",\"type\":\"ColumnDataSource\"},\"glyph\":{\"id\":\"18e23a89-e27f-4270-bc78-f0f884ff3373\",\"type\":\"Line\"},\"hover_glyph\":null,\"muted_glyph\":null,\"nonselection_glyph\":{\"id\":\"797da155-ceab-4594-854e-3e8e18138a86\",\"type\":\"Line\"},\"selection_glyph\":null,\"view\":{\"id\":\"2557a6ac-5260-44fe-925d-08a3f52c7dc7\",\"type\":\"CDSView\"}},\"id\":\"f7294207-da59-495f-9246-a18ed69df376\",\"type\":\"GlyphRenderer\"},{\"attributes\":{\"above\":[{\"id\":\"7b4274a9-3e87-465a-ba5a-b9050334e97f\",\"type\":\"Legend\"}],\"below\":[{\"id\":\"9568fe12-c5d8-4d41-be4f-ad9d04449c25\",\"type\":\"LinearAxis\"}],\"left\":[{\"id\":\"c714b6c6-d28c-4632-9400-8dc6ed4f5fd3\",\"type\":\"LogAxis\"}],\"plot_width\":300,\"renderers\":[{\"id\":\"9568fe12-c5d8-4d41-be4f-ad9d04449c25\",\"type\":\"LinearAxis\"},{\"id\":\"f23b0204-39b4-49a0-a2ca-f02121e8a94f\",\"type\":\"Grid\"},{\"id\":\"c714b6c6-d28c-4632-9400-8dc6ed4f5fd3\",\"type\":\"LogAxis\"},{\"id\":\"0cf14abb-cd80-4362-8257-9840dede83c7\",\"type\":\"Grid\"},{\"id\":\"5aceec28-cf6b-43a0-9c4c-cc1b34884c92\",\"type\":\"BoxAnnotation\"},{\"id\":\"10e77b78-b838-4c9d-96d9-137a49899d39\",\"type\":\"GlyphRenderer\"},{\"id\":\"ba91cd10-c6f8-4569-afd9-a66c8f7caf09\",\"type\":\"GlyphRenderer\"},{\"id\":\"7b4274a9-3e87-465a-ba5a-b9050334e97f\",\"type\":\"Legend\"}],\"title\":{\"id\":\"b1c37086-5a4e-447e-a0da-98a19a050949\",\"type\":\"Title\"},\"toolbar\":{\"id\":\"428c509a-3b54-4ccf-bbbf-fbb70c5d53b6\",\"type\":\"Toolbar\"},\"toolbar_location\":null,\"x_range\":{\"id\":\"60bdd600-1669-4347-a37c-c6a045720bc2\",\"type\":\"Range1d\"},\"x_scale\":{\"id\":\"29261a77-90e1-440a-8e1b-aad01a36fc1f\",\"type\":\"LinearScale\"},\"y_range\":{\"id\":\"a79c66f1-d3d8-4770-a1ed-3c29f38503fa\",\"type\":\"Range1d\"},\"y_scale\":{\"id\":\"044254ec-e798-4159-8fe6-8d04595bc152\",\"type\":\"LogScale\"}},\"id\":\"a56842e3-c333-4de6-8642-ddad19093453\",\"subtype\":\"Figure\",\"type\":\"Plot\"},{\"attributes\":{\"fill_alpha\":{\"value\":0.7},\"fill_color\":{\"value\":\"#984ea3\"},\"line_alpha\":{\"value\":0.7},\"line_color\":{\"value\":\"#984ea3\"},\"x\":{\"field\":\"x\"},\"y\":{\"field\":\"y\"}},\"id\":\"e946ae2c-2c08-4774-84d4-e3f300ff7aeb\",\"type\":\"Circle\"},{\"attributes\":{\"callback\":null,\"data\":{\"x\":{\"__ndarray__\":\"zeQBhyfeQ8C1XnjxI/YYwLTWiUDlpAPAFY3ZdcAe8j9qTCS295sLQCegreIf2g9AVrtONzPLBkDlmHApZzrrP6mfmyiEmu2/TWSU7qZl+r+Xtx/7Zxv0v5MuIBEiy9S/YIrrimCq4D8XMVsacObuP1k4bx+5Ae0/7tlD0ccO2T/ORFwmyN3QvzrhdQZCXuW/ZrMspe9x5b/ufu79PHzavyRUoZ4L38G/yk332C4gsj86kBhWVDHBPxXKBP8q/Lm/sJGWLX5vzb8v7E9EfA6hv0e9unnlXNE/5FusS+Dx0T+NN5ZNSTS8PyM51/nRo6A/a+waxWlGxD/T3gvFZhjNP0XgtKh21cA/QdFyIo62dr9QoNtkEapoP6wNdYG9UrM/NF05ktlHqD9yFZC1kJmYv856wXIrnbO/Qw2/6eH6tb8hUXzVvpiyv/Aoa+E9lay/HeKZWlRSpb8yO5M3avGZv0kklDGILpC/M8V17fuzhL/Y6REFuhoyP5EHzwBvn3C/jtfhtAF3mb819zi+Qq2ov/QfG02O7aa/7MXY0Kjcmb8T5Y3M8GyVvxMTMLpdjZ2/osOzTtK1lb9wtscXXI9wv7bPzQtru4s/L5FcO6cSnT9CQBTzhMqlPwKfNE7v1K4/dDajqGwGsz+tSjJLc821P4A9vCTbK7c/cR+fBWLPtz+MXGwFTjC4P6aMqrEMgrg/LyZoWRjeuD/Bxb9VO1+5P8BJmD57+7g/hdr9l1wmuD+7Cv91sHa2P9hA/WLL9rM/5tGtUE1NsT/MTI3DpVKuP40XskF9B6o/\",\"dtype\":\"float64\",\"shape\":[75]},\"y\":{\"__ndarray__\":\"GhExyth1ND/Sv8nbtpRIP2vylNV0PVE/aTum7souWD/At0SJ8fVgPw3Iuahxymc/MSNhhJWvcD/bTfBN02d3P2zb5nxnaoA/CD5h5MAGhz8NmeH1TyaQP+zrCsc9p5Y/LbKd76fGnz/bLW5ISEmmPww9YvTcQq8/JV2OstnstT8Er5Y7M8G+P0c+r3jqkcU/5h99k6ZBzj88bCIzFzjVP4enV8oyxN0//yH99nXg5D8qOpLLf0jtP5kqGJXUifQ/c9cS8kHP/D+/DpwzojQEQIEmwoanVwxA4lgXt9HgE0BSSZ2AJuIbQAMJih9jjiNA5q4l5INuK0AwTKYKRj0zQNv5fmq8/DpAaCJseHrtQkB/+zpwzoxKQM3MzMzMeFJAZmZmZmZqWEAAAAAAAFxeQM3MzMzMJmJAmpmZmZkfZUBmZmZmZhhoQDMzMzMzEWtAAAAAAAAKbkBmZmZmZoFwQM3MzMzM/XFAMzMzMzN6c0CamZmZmfZ0QAAAAAAAc3ZAZmZmZmbvd0DNzMzMzGt5QDMzMzMz6HpAmpmZmZlkfEAAAAAAAOF9QGZmZmZmXX9AZmZmZuZsgECamZmZGSuBQM3MzMxM6YFAAAAAAICngkAzMzMzs2WDQGZmZmbmI4RAmpmZmRnihEDNzMzMTKCFQAAAAACAXoZAMzMzM7Mch0BmZmZm5tqHQJqZmZkZmYhAzczMzExXiUAAAAAAgBWKQDMzMzOz04pAZmZmZuaRi0CamZmZGVCMQM3MzMxMDo1AAAAAAIDMjUAzMzMzs4qOQGZmZmbmSI9A\",\"dtype\":\"float64\",\"shape\":[75]}},\"selected\":{\"id\":\"3d618290-db83-4760-b9d4-a5724eaf37e3\",\"type\":\"Selection\"},\"selection_policy\":{\"id\":\"6fc6ceec-1a6e-401d-9e19-7d4c6abe8ba7\",\"type\":\"UnionRenderers\"}},\"id\":\"1e3b3cfe-4412-497a-bc08-619404ff956e\",\"type\":\"ColumnDataSource\"},{\"attributes\":{\"overlay\":{\"id\":\"5aceec28-cf6b-43a0-9c4c-cc1b34884c92\",\"type\":\"BoxAnnotation\"}},\"id\":\"3c3c59ad-4c35-4e52-bd8f-dda704f00d21\",\"type\":\"BoxZoomTool\"},{\"attributes\":{\"line_color\":\"#4daf4a\",\"line_width\":1.5,\"x\":{\"field\":\"x\"},\"y\":{\"field\":\"y\"}},\"id\":\"18e23a89-e27f-4270-bc78-f0f884ff3373\",\"type\":\"Line\"},{\"attributes\":{\"callback\":null,\"end\":0.01,\"start\":1020},\"id\":\"a79c66f1-d3d8-4770-a1ed-3c29f38503fa\",\"type\":\"Range1d\"},{\"attributes\":{},\"id\":\"6cad5a38-911f-45cb-b3b5-064133b185c9\",\"type\":\"SaveTool\"},{\"attributes\":{\"line_alpha\":0.6,\"line_color\":\"#377eb8\",\"line_dash\":[6],\"line_width\":5,\"x\":{\"field\":\"x\"},\"y\":{\"field\":\"y\"}},\"id\":\"4feb7417-4049-40fd-9bc1-36b6010563d2\",\"type\":\"Line\"},{\"attributes\":{\"bottom_units\":\"screen\",\"fill_alpha\":{\"value\":0.5},\"fill_color\":{\"value\":\"lightgrey\"},\"left_units\":\"screen\",\"level\":\"overlay\",\"line_alpha\":{\"value\":1.0},\"line_color\":{\"value\":\"black\"},\"line_dash\":[4,4],\"line_width\":{\"value\":2},\"plot\":null,\"render_mode\":\"css\",\"right_units\":\"screen\",\"top_units\":\"screen\"},\"id\":\"5aceec28-cf6b-43a0-9c4c-cc1b34884c92\",\"type\":\"BoxAnnotation\"},{\"attributes\":{\"dimension\":1,\"plot\":{\"id\":\"33efff4d-3b19-4626-a34c-d0bce607cf2a\",\"subtype\":\"Figure\",\"type\":\"Plot\"},\"ticker\":{\"id\":\"fc17c379-a94e-4ecd-bb05-82827ded9878\",\"type\":\"LogTicker\"}},\"id\":\"9d0afd30-aaec-4974-8045-1ad736e5f847\",\"type\":\"Grid\"},{\"attributes\":{\"label\":{\"value\":\"CRD\"},\"renderers\":[{\"id\":\"a5d53713-74bd-4a35-944e-10ed6f605857\",\"type\":\"GlyphRenderer\"},{\"id\":\"34f61379-7c00-46d3-ba8d-72a7a74d30db\",\"type\":\"GlyphRenderer\"}]},\"id\":\"00ac8468-860e-4d3d-b50d-faa94dad331a\",\"type\":\"LegendItem\"},{\"attributes\":{},\"id\":\"c2204e88-baeb-4e51-8cb3-8a9a456d0f7a\",\"type\":\"WheelZoomTool\"},{\"attributes\":{\"callback\":null,\"end\":16.436988089126377,\"start\":0.2980108008236201},\"id\":\"9f188554-06e5-4ac4-8c5d-97488967c81d\",\"type\":\"Range1d\"},{\"attributes\":{\"active_drag\":\"auto\",\"active_inspect\":\"auto\",\"active_scroll\":\"auto\",\"active_tap\":\"auto\",\"tools\":[{\"id\":\"7d29ccf0-f2f7-48f8-a1ad-6e0160c92c61\",\"type\":\"PanTool\"},{\"id\":\"963f1ab1-015e-42bc-8f27-85e602f28f96\",\"type\":\"WheelZoomTool\"},{\"id\":\"69992f76-804e-422f-9836-c16bb926b30e\",\"type\":\"BoxZoomTool\"},{\"id\":\"80cde314-818c-4fc8-b0ba-13be079dd7e5\",\"type\":\"SaveTool\"},{\"id\":\"f6b4ab8f-2395-49eb-b503-da284e05adce\",\"type\":\"ResetTool\"},{\"id\":\"8b83d09f-2a77-4d07-adb5-8b1e12324f94\",\"type\":\"HelpTool\"}]},\"id\":\"d645b69d-ce23-4d85-9d14-50303a86e378\",\"type\":\"Toolbar\"},{\"attributes\":{\"source\":{\"id\":\"4b3252af-cf65-491c-b358-e750cf794331\",\"type\":\"ColumnDataSource\"}},\"id\":\"90cda867-96c4-4d89-89b7-a07902cd034a\",\"type\":\"CDSView\"},{\"attributes\":{},\"id\":\"6dc439a7-e8ea-4cc0-82ac-c2c2ce80aed6\",\"type\":\"Selection\"},{\"attributes\":{\"callback\":null,\"data\":{\"x\":{\"__ndarray__\":\"0CYBcvU5UkCik9zf2GVBQF1VoNfLZ0BAVLxhiVXTPUDD1Wu1wJM6QFJyB025jjdAU6Aw5+b/NECYe1uuDfgyQB6bYtVTbTFAPxYSAF1HMEA00pYVm9QuQLolHbMzgC1AntlwirGsLECv+G9SjE4rQJH6ZLBp0ShAsLZQyPd/JkDyjgyf2PwkQLgyNGsrJyRAA13QbJD6I0C8hy0ilI4kQOVTXCEgcSZAovOGvZSGJUBVc/ZmUOIgQOf/6GHAyRlAcE8fAOBSFEDRur1U//gPQGFD9ZbokghAQsqHuSqSA0C91ci3W0UBQCtRQfvz7/4/kh8pntyB+j9t1/n+4TX1P773MAUjFfI/RgzR+CI28T8hBW8WHK7uPzVKjJfU8uk/0FPt4/z65T/wVYqzMPDhPz7K9C5CXuE/8+hSn9hY4T/9PPCkR6rhP1XsIC599OA/66X1nBCX3z/YbRM56QjcPz4dkSQc/dM/S7Wb8Fq00T+/yQdmX0vcP7TrGf476eM/WqNPJoWO7D9qOH1bcwDzP2bw+R5DQ/Y/RLSuQOQp+D8+aif8yAz5P0Wv6eBKRfk/0i2+IN4R+T/ik8QNFZr4PyS5UD5j/Pc/yJ68zXRG9z/2CHPL54H2P59SOhwKtPU/npkP8dfg9D8NlmVcdQz0P80ugRvuOvM/byxiAHN18j9USVZie8nxP5l9lNXYSPE/OB+F0UYP8T8Y7dsUCTHxP3EBgTHPcPE/bfx15p8S8T8FT+xkGtTuP6mdG7rkxuk/pboqTkHX5D/CrN8qGYngP7R4ZaL+htU/\",\"dtype\":\"float64\",\"shape\":[75]},\"y\":{\"__ndarray__\":\"GhExyth1ND/Sv8nbtpRIP2vylNV0PVE/aTum7souWD/At0SJ8fVgPw3Iuahxymc/MSNhhJWvcD/bTfBN02d3P2zb5nxnaoA/CD5h5MAGhz8NmeH1TyaQP+zrCsc9p5Y/LbKd76fGnz/bLW5ISEmmPww9YvTcQq8/JV2OstnstT8Er5Y7M8G+P0c+r3jqkcU/5h99k6ZBzj88bCIzFzjVP4enV8oyxN0//yH99nXg5D8qOpLLf0jtP5kqGJXUifQ/c9cS8kHP/D+/DpwzojQEQIEmwoanVwxA4lgXt9HgE0BSSZ2AJuIbQAMJih9jjiNA5q4l5INuK0AwTKYKRj0zQNv5fmq8/DpAaCJseHrtQkB/+zpwzoxKQM3MzMzMeFJAZmZmZmZqWEAAAAAAAFxeQM3MzMzMJmJAmpmZmZkfZUBmZmZmZhhoQDMzMzMzEWtAAAAAAAAKbkBmZmZmZoFwQM3MzMzM/XFAMzMzMzN6c0CamZmZmfZ0QAAAAAAAc3ZAZmZmZmbvd0DNzMzMzGt5QDMzMzMz6HpAmpmZmZlkfEAAAAAAAOF9QGZmZmZmXX9AZmZmZuZsgECamZmZGSuBQM3MzMxM6YFAAAAAAICngkAzMzMzs2WDQGZmZmbmI4RAmpmZmRnihEDNzMzMTKCFQAAAAACAXoZAMzMzM7Mch0BmZmZm5tqHQJqZmZkZmYhAzczMzExXiUAAAAAAgBWKQDMzMzOz04pAZmZmZuaRi0CamZmZGVCMQM3MzMxMDo1AAAAAAIDMjUAzMzMzs4qOQGZmZmbmSI9A\",\"dtype\":\"float64\",\"shape\":[75]}},\"selected\":{\"id\":\"d3bfc8df-68a1-460c-906a-c5c33edc8154\",\"type\":\"Selection\"},\"selection_policy\":{\"id\":\"24139ee6-8f62-4c74-884b-86514e9b6a2e\",\"type\":\"UnionRenderers\"}},\"id\":\"4b3252af-cf65-491c-b358-e750cf794331\",\"type\":\"ColumnDataSource\"},{\"attributes\":{\"data_source\":{\"id\":\"4b3252af-cf65-491c-b358-e750cf794331\",\"type\":\"ColumnDataSource\"},\"glyph\":{\"id\":\"e23b23c7-3168-4c94-a152-607ac4cd4fec\",\"type\":\"Line\"},\"hover_glyph\":null,\"muted_glyph\":null,\"nonselection_glyph\":{\"id\":\"abec7e4a-40bf-4f93-9917-52c1ce0efdc3\",\"type\":\"Line\"},\"selection_glyph\":null,\"view\":{\"id\":\"90cda867-96c4-4d89-89b7-a07902cd034a\",\"type\":\"CDSView\"}},\"id\":\"34f61379-7c00-46d3-ba8d-72a7a74d30db\",\"type\":\"GlyphRenderer\"},{\"attributes\":{\"above\":[{\"id\":\"ea7ad4dd-e9f3-4478-892a-33b7c5265358\",\"type\":\"Legend\"}],\"below\":[{\"id\":\"42856227-9c16-46e9-bd5d-de9aeac6b783\",\"type\":\"LinearAxis\"}],\"left\":[{\"id\":\"dd715f23-adcb-4026-8d2a-b349ec78de1d\",\"type\":\"LogAxis\"}],\"plot_width\":300,\"renderers\":[{\"id\":\"42856227-9c16-46e9-bd5d-de9aeac6b783\",\"type\":\"LinearAxis\"},{\"id\":\"5921b10e-516d-41ee-a9f2-90ebbdcf97c9\",\"type\":\"Grid\"},{\"id\":\"dd715f23-adcb-4026-8d2a-b349ec78de1d\",\"type\":\"LogAxis\"},{\"id\":\"9d0afd30-aaec-4974-8045-1ad736e5f847\",\"type\":\"Grid\"},{\"id\":\"a93b089b-c7e2-429e-88b2-7bb268cf3efb\",\"type\":\"BoxAnnotation\"},{\"id\":\"f2938eb8-6e0c-4aa1-9b99-8c859e667100\",\"type\":\"GlyphRenderer\"},{\"id\":\"8144d87f-b62a-4af8-a1e3-37328c101e25\",\"type\":\"GlyphRenderer\"},{\"id\":\"f7294207-da59-495f-9246-a18ed69df376\",\"type\":\"GlyphRenderer\"},{\"id\":\"ea7ad4dd-e9f3-4478-892a-33b7c5265358\",\"type\":\"Legend\"}],\"title\":{\"id\":\"9854a517-3726-4770-a49d-55883b5adcbd\",\"type\":\"Title\"},\"toolbar\":{\"id\":\"d645b69d-ce23-4d85-9d14-50303a86e378\",\"type\":\"Toolbar\"},\"toolbar_location\":null,\"x_range\":{\"id\":\"9f188554-06e5-4ac4-8c5d-97488967c81d\",\"type\":\"Range1d\"},\"x_scale\":{\"id\":\"a7ed75d7-34c7-43ea-929a-2e879d6e6f3f\",\"type\":\"LinearScale\"},\"y_range\":{\"id\":\"83dfe8e8-8583-4ca1-9cbc-b117ff1ebfaa\",\"type\":\"Range1d\"},\"y_scale\":{\"id\":\"5e251885-2f0f-4e99-b2ec-0e20659af5fc\",\"type\":\"LogScale\"}},\"id\":\"33efff4d-3b19-4626-a34c-d0bce607cf2a\",\"subtype\":\"Figure\",\"type\":\"Plot\"},{\"attributes\":{},\"id\":\"f6b4ab8f-2395-49eb-b503-da284e05adce\",\"type\":\"ResetTool\"},{\"attributes\":{},\"id\":\"75d20aaf-e8bf-4d84-8aaf-a29467b12124\",\"type\":\"PanTool\"},{\"attributes\":{\"label\":{\"value\":\"CLIRAD (single-run)\"},\"renderers\":[{\"id\":\"f2938eb8-6e0c-4aa1-9b99-8c859e667100\",\"type\":\"GlyphRenderer\"}]},\"id\":\"1cab757b-5fcf-40c9-9339-db708d9bfec9\",\"type\":\"LegendItem\"},{\"attributes\":{\"plot\":{\"id\":\"33efff4d-3b19-4626-a34c-d0bce607cf2a\",\"subtype\":\"Figure\",\"type\":\"Plot\"},\"ticker\":{\"id\":\"4883ecde-a87d-49cf-8eb4-61739b65a6c1\",\"type\":\"BasicTicker\"}},\"id\":\"5921b10e-516d-41ee-a9f2-90ebbdcf97c9\",\"type\":\"Grid\"},{\"attributes\":{\"label\":{\"value\":\"CLIRAD (single-run)\"},\"renderers\":[{\"id\":\"915162de-2f4c-4469-b761-48b3d7cbd187\",\"type\":\"GlyphRenderer\"}]},\"id\":\"104499a0-0b87-4746-bdf8-57bed6cf667c\",\"type\":\"LegendItem\"},{\"attributes\":{},\"id\":\"4883ecde-a87d-49cf-8eb4-61739b65a6c1\",\"type\":\"BasicTicker\"},{\"attributes\":{\"overlay\":{\"id\":\"a93b089b-c7e2-429e-88b2-7bb268cf3efb\",\"type\":\"BoxAnnotation\"}},\"id\":\"69992f76-804e-422f-9836-c16bb926b30e\",\"type\":\"BoxZoomTool\"},{\"attributes\":{},\"id\":\"8b83d09f-2a77-4d07-adb5-8b1e12324f94\",\"type\":\"HelpTool\"},{\"attributes\":{\"source\":{\"id\":\"4a981a39-76cf-4009-8af8-69eadb54714d\",\"type\":\"ColumnDataSource\"}},\"id\":\"2557a6ac-5260-44fe-925d-08a3f52c7dc7\",\"type\":\"CDSView\"},{\"attributes\":{},\"id\":\"5e251885-2f0f-4e99-b2ec-0e20659af5fc\",\"type\":\"LogScale\"},{\"attributes\":{\"items\":[{\"id\":\"1cab757b-5fcf-40c9-9339-db708d9bfec9\",\"type\":\"LegendItem\"},{\"id\":\"6c874e11-9333-4703-9183-d264fb61e5d4\",\"type\":\"LegendItem\"}],\"label_text_font_size\":{\"value\":\"8pt\"},\"location\":\"top_center\",\"orientation\":\"horizontal\",\"plot\":{\"id\":\"33efff4d-3b19-4626-a34c-d0bce607cf2a\",\"subtype\":\"Figure\",\"type\":\"Plot\"}},\"id\":\"ea7ad4dd-e9f3-4478-892a-33b7c5265358\",\"type\":\"Legend\"},{\"attributes\":{\"line_alpha\":0.6,\"line_color\":\"#377eb8\",\"line_dash\":[6],\"line_width\":5,\"x\":{\"field\":\"x\"},\"y\":{\"field\":\"y\"}},\"id\":\"660b6d3d-db05-472a-86b0-d1e8d3bb1d08\",\"type\":\"Line\"},{\"attributes\":{\"callback\":null,\"end\":0.01,\"start\":1020},\"id\":\"83dfe8e8-8583-4ca1-9cbc-b117ff1ebfaa\",\"type\":\"Range1d\"},{\"attributes\":{\"dimension\":1,\"plot\":{\"id\":\"a56842e3-c333-4de6-8642-ddad19093453\",\"subtype\":\"Figure\",\"type\":\"Plot\"},\"ticker\":{\"id\":\"142acec0-52c4-4cc2-8788-17dd674a801b\",\"type\":\"LogTicker\"}},\"id\":\"0cf14abb-cd80-4362-8257-9840dede83c7\",\"type\":\"Grid\"},{\"attributes\":{},\"id\":\"80cde314-818c-4fc8-b0ba-13be079dd7e5\",\"type\":\"SaveTool\"},{\"attributes\":{},\"id\":\"963f1ab1-015e-42bc-8f27-85e602f28f96\",\"type\":\"WheelZoomTool\"},{\"attributes\":{},\"id\":\"7d29ccf0-f2f7-48f8-a1ad-6e0160c92c61\",\"type\":\"PanTool\"},{\"attributes\":{\"axis_label\":\"cooling rate [K/day]\",\"formatter\":{\"id\":\"31ea4c78-4aaf-492a-89b2-769c0229a47e\",\"type\":\"BasicTickFormatter\"},\"plot\":{\"id\":\"33efff4d-3b19-4626-a34c-d0bce607cf2a\",\"subtype\":\"Figure\",\"type\":\"Plot\"},\"ticker\":{\"id\":\"4883ecde-a87d-49cf-8eb4-61739b65a6c1\",\"type\":\"BasicTicker\"}},\"id\":\"42856227-9c16-46e9-bd5d-de9aeac6b783\",\"type\":\"LinearAxis\"},{\"attributes\":{},\"id\":\"a7ed75d7-34c7-43ea-929a-2e879d6e6f3f\",\"type\":\"LinearScale\"},{\"attributes\":{\"num_minor_ticks\":10},\"id\":\"fc17c379-a94e-4ecd-bb05-82827ded9878\",\"type\":\"LogTicker\"},{\"attributes\":{\"line_alpha\":0.1,\"line_color\":\"#1f77b4\",\"line_width\":1.5,\"x\":{\"field\":\"x\"},\"y\":{\"field\":\"y\"}},\"id\":\"abec7e4a-40bf-4f93-9917-52c1ce0efdc3\",\"type\":\"Line\"},{\"attributes\":{\"label\":{\"value\":\"CRD\"},\"renderers\":[{\"id\":\"8144d87f-b62a-4af8-a1e3-37328c101e25\",\"type\":\"GlyphRenderer\"},{\"id\":\"f7294207-da59-495f-9246-a18ed69df376\",\"type\":\"GlyphRenderer\"}]},\"id\":\"6c874e11-9333-4703-9183-d264fb61e5d4\",\"type\":\"LegendItem\"},{\"attributes\":{\"line_color\":\"#4daf4a\",\"line_width\":1.5,\"x\":{\"field\":\"x\"},\"y\":{\"field\":\"y\"}},\"id\":\"e23b23c7-3168-4c94-a152-607ac4cd4fec\",\"type\":\"Line\"},{\"attributes\":{\"axis_label\":\"pressure [mb]\",\"formatter\":{\"id\":\"9527fa14-44f2-4ed8-99da-207ba1aac429\",\"type\":\"LogTickFormatter\"},\"plot\":{\"id\":\"33efff4d-3b19-4626-a34c-d0bce607cf2a\",\"subtype\":\"Figure\",\"type\":\"Plot\"},\"ticker\":{\"id\":\"fc17c379-a94e-4ecd-bb05-82827ded9878\",\"type\":\"LogTicker\"}},\"id\":\"dd715f23-adcb-4026-8d2a-b349ec78de1d\",\"type\":\"LogAxis\"}],\"root_ids\":[\"8a4a3dc7-7e99-417f-8d98-3c0bb7b6f617\"]},\"title\":\"Bokeh Application\",\"version\":\"0.12.16\"}};\n",
       "  var render_items = [{\"docid\":\"c9344701-b697-4184-979e-a5b1970e4e98\",\"elementid\":\"62dc3e0b-2a0c-46f2-9fbd-a69574e01a4d\",\"modelid\":\"8a4a3dc7-7e99-417f-8d98-3c0bb7b6f617\"}];\n",
       "  root.Bokeh.embed.embed_items_notebook(docs_json, render_items);\n",
       "\n",
       "  }\n",
       "  if (root.Bokeh !== undefined) {\n",
       "    embed_document(root);\n",
       "  } else {\n",
       "    var attempts = 0;\n",
       "    var timer = setInterval(function(root) {\n",
       "      if (root.Bokeh !== undefined) {\n",
       "        embed_document(root);\n",
       "        clearInterval(timer);\n",
       "      }\n",
       "      attempts++;\n",
       "      if (attempts > 100) {\n",
       "        console.log(\"Bokeh: ERROR: Unable to run BokehJS code because BokehJS library is missing\")\n",
       "        clearInterval(timer);\n",
       "      }\n",
       "    }, 10, root)\n",
       "  }\n",
       "})(window);"
      ],
      "application/vnd.bokehjs_exec.v0+json": ""
     },
     "metadata": {
      "application/vnd.bokehjs_exec.v0+json": {
       "id": "8a4a3dc7-7e99-417f-8d98-3c0bb7b6f617"
      }
     },
     "output_type": "display_data"
    },
    {
     "data": {
      "text/markdown": [
       "*FIGURE.* Cooling rates & difference."
      ],
      "text/plain": [
       "<IPython.core.display.Markdown object>"
      ]
     },
     "metadata": {},
     "output_type": "display_data"
    },
    {
     "data": {
      "text/html": [
       "<a id=\"Fluxes._saw.\"></a>"
      ],
      "text/plain": [
       "<IPython.core.display.HTML object>"
      ]
     },
     "metadata": {},
     "output_type": "display_data"
    },
    {
     "data": {
      "text/markdown": [
       "# Fluxes. saw."
      ],
      "text/plain": [
       "<IPython.core.display.Markdown object>"
      ]
     },
     "metadata": {},
     "output_type": "display_data"
    },
    {
     "data": {
      "text/html": [
       "\n",
       "<div class=\"bk-root\">\n",
       "    <div class=\"bk-plotdiv\" id=\"e07ee86e-ce5d-4c8b-b558-bc7924742ec2\"></div>\n",
       "</div>"
      ]
     },
     "metadata": {},
     "output_type": "display_data"
    },
    {
     "data": {
      "application/javascript": [
       "(function(root) {\n",
       "  function embed_document(root) {\n",
       "    \n",
       "  var docs_json = {\"337ded17-5dec-4801-8bfe-b69c3efbedcd\":{\"roots\":{\"references\":[{\"attributes\":{\"plot\":null,\"text\":\"Atmosphere heating. CLIRAD (single-run) - CRD.\"},\"id\":\"b16a10bb-1a52-4cb1-a03f-d82db54e7776\",\"type\":\"Title\"},{\"attributes\":{\"bottom_units\":\"screen\",\"fill_alpha\":{\"value\":0.5},\"fill_color\":{\"value\":\"lightgrey\"},\"left_units\":\"screen\",\"level\":\"overlay\",\"line_alpha\":{\"value\":1.0},\"line_color\":{\"value\":\"black\"},\"line_dash\":[4,4],\"line_width\":{\"value\":2},\"plot\":null,\"render_mode\":\"css\",\"right_units\":\"screen\",\"top_units\":\"screen\"},\"id\":\"ff9a8525-2c0d-4f05-9b7a-9f6a6e332bf4\",\"type\":\"BoxAnnotation\"},{\"attributes\":{},\"id\":\"942a9313-df9c-4941-b7c2-8f8c1fe283b2\",\"type\":\"HelpTool\"},{\"attributes\":{\"axis_label\":\"flux (W m-2)\",\"formatter\":{\"id\":\"64f141ee-1f93-4e87-b2ae-4ba2752e1641\",\"type\":\"BasicTickFormatter\"},\"plot\":{\"id\":\"57783b57-c697-48df-81c8-2284db6b6940\",\"subtype\":\"Figure\",\"type\":\"Plot\"},\"ticker\":{\"id\":\"f5b72d26-0be6-4f7b-a3a0-a4a4b4720d4d\",\"type\":\"BasicTicker\"}},\"id\":\"d28b7fb0-f08f-4395-88b7-9428730f152c\",\"type\":\"LinearAxis\"},{\"attributes\":{},\"id\":\"f747dc09-6354-4b48-9559-282390b3ded6\",\"type\":\"PanTool\"},{\"attributes\":{\"axis_label\":\"spectral band\",\"formatter\":{\"id\":\"06fe0eb2-5e45-4163-bf6f-a46b8f905615\",\"type\":\"CategoricalTickFormatter\"},\"plot\":{\"id\":\"57783b57-c697-48df-81c8-2284db6b6940\",\"subtype\":\"Figure\",\"type\":\"Plot\"},\"ticker\":{\"id\":\"8c0c1065-d462-45c7-844b-c8b89879ca2b\",\"type\":\"CategoricalTicker\"}},\"id\":\"56cc5197-8622-426c-b2ae-486a0484b15d\",\"type\":\"CategoricalAxis\"},{\"attributes\":{\"callback\":null,\"factors\":[\"1\",\"2\",\"3\",\"4\",\"5\",\"6\",\"7\",\"8\",\"9\",\"10\",\"11\"]},\"id\":\"b6a4f31d-907f-443b-a22f-cc157e222b95\",\"type\":\"FactorRange\"},{\"attributes\":{\"fill_color\":{\"value\":\"#1f77b4\"},\"line_color\":{\"value\":\"#1f77b4\"},\"top\":{\"field\":\"flux\"},\"width\":{\"value\":0.9},\"x\":{\"field\":\"band\"}},\"id\":\"704ca4d4-1cec-4036-b98e-34154de2d531\",\"type\":\"VBar\"},{\"attributes\":{\"dimension\":1,\"plot\":{\"id\":\"cd02cfa6-1720-49ad-b3c8-5d7fd99a6e12\",\"subtype\":\"Figure\",\"type\":\"Plot\"},\"ticker\":{\"id\":\"30d7a7a9-4ea9-401d-b4b8-7c5245a53b41\",\"type\":\"BasicTicker\"}},\"id\":\"635e111e-36cd-4064-9819-2b78b5f9f267\",\"type\":\"Grid\"},{\"attributes\":{\"below\":[{\"id\":\"d3e99c2c-2b70-4113-925e-e905e2b3c65f\",\"type\":\"CategoricalAxis\"}],\"left\":[{\"id\":\"0402ca77-9efc-46cc-bee1-66a1b5362288\",\"type\":\"LinearAxis\"}],\"plot_height\":300,\"plot_width\":300,\"renderers\":[{\"id\":\"d3e99c2c-2b70-4113-925e-e905e2b3c65f\",\"type\":\"CategoricalAxis\"},{\"id\":\"75126431-2e08-4a51-9db0-89e99b766d82\",\"type\":\"Grid\"},{\"id\":\"0402ca77-9efc-46cc-bee1-66a1b5362288\",\"type\":\"LinearAxis\"},{\"id\":\"635e111e-36cd-4064-9819-2b78b5f9f267\",\"type\":\"Grid\"},{\"id\":\"ff9a8525-2c0d-4f05-9b7a-9f6a6e332bf4\",\"type\":\"BoxAnnotation\"},{\"id\":\"c88678d6-3976-4280-a7d0-b11d09cc668f\",\"type\":\"GlyphRenderer\"}],\"title\":{\"id\":\"0e936cc4-eddd-4d9d-99a5-b2883c2a6a59\",\"type\":\"Title\"},\"toolbar\":{\"id\":\"e0804506-6765-4a8c-8ab9-1cb3060aad64\",\"type\":\"Toolbar\"},\"toolbar_location\":null,\"x_range\":{\"id\":\"82e28fe7-85c1-4f64-8b0f-addb2af7a026\",\"type\":\"FactorRange\"},\"x_scale\":{\"id\":\"bca80e6d-1fe4-43c0-a770-934272c4060e\",\"type\":\"CategoricalScale\"},\"y_range\":{\"id\":\"fbff2860-7d99-4052-99bd-cefd24f7e051\",\"type\":\"DataRange1d\"},\"y_scale\":{\"id\":\"a77004f8-c777-4630-ad95-fc7d9c0ea340\",\"type\":\"LinearScale\"}},\"id\":\"cd02cfa6-1720-49ad-b3c8-5d7fd99a6e12\",\"subtype\":\"Figure\",\"type\":\"Plot\"},{\"attributes\":{\"axis_label\":\"spectral band\",\"formatter\":{\"id\":\"48709e39-9d18-4c69-89ba-a3443540a2d2\",\"type\":\"CategoricalTickFormatter\"},\"plot\":{\"id\":\"577bb089-5714-4cb4-b71d-bb15a0f564a4\",\"subtype\":\"Figure\",\"type\":\"Plot\"},\"ticker\":{\"id\":\"a4395b35-4d03-4c6a-9c54-59837b0b096c\",\"type\":\"CategoricalTicker\"}},\"id\":\"9dd4a9e6-970f-47e1-a611-07e20c3decfb\",\"type\":\"CategoricalAxis\"},{\"attributes\":{\"plot\":{\"id\":\"57783b57-c697-48df-81c8-2284db6b6940\",\"subtype\":\"Figure\",\"type\":\"Plot\"},\"ticker\":{\"id\":\"8c0c1065-d462-45c7-844b-c8b89879ca2b\",\"type\":\"CategoricalTicker\"}},\"id\":\"afd98dcb-dec2-4008-9392-04cc55655bc4\",\"type\":\"Grid\"},{\"attributes\":{},\"id\":\"29b3f4b2-c799-4163-9238-72f4d47fb051\",\"type\":\"SaveTool\"},{\"attributes\":{},\"id\":\"8c0c1065-d462-45c7-844b-c8b89879ca2b\",\"type\":\"CategoricalTicker\"},{\"attributes\":{},\"id\":\"77539473-50a5-479c-bc22-408afa56b2ff\",\"type\":\"LinearScale\"},{\"attributes\":{},\"id\":\"50c3d349-a110-4615-a114-3a5b11a8a9ca\",\"type\":\"CategoricalScale\"},{\"attributes\":{\"callback\":null,\"data\":{\"band\":[\"1\",\"2\",\"3\",\"4\",\"5\",\"6\",\"7\",\"8\",\"9\",\"10\",\"11\"],\"flux\":{\"__ndarray__\":\"gNgDEOtLyT8Qsj3EUKgCwEAvh913DMm/gNWmAAQrxj9gZBOq5RjbvwDbT8b4sOC/gDxIT5FDvD8A+MeMASN5vwDfA88YQZ6/gEM6lz1kpb+AJgqhQRKPPw==\",\"dtype\":\"float64\",\"shape\":[11]}},\"selected\":{\"id\":\"8ae271b5-9f8c-4b3c-903a-4fe44b9a26b4\",\"type\":\"Selection\"},\"selection_policy\":{\"id\":\"a6ea3ad3-3fd1-482f-abf2-289acf488b4d\",\"type\":\"UnionRenderers\"}},\"id\":\"1f2e5c5a-5b4d-48b7-a801-0fbde7960a45\",\"type\":\"ColumnDataSource\"},{\"attributes\":{\"active_drag\":\"auto\",\"active_inspect\":\"auto\",\"active_scroll\":\"auto\",\"active_tap\":\"auto\",\"tools\":[{\"id\":\"5dc0c105-3166-4178-a63d-7a5494c26731\",\"type\":\"PanTool\"},{\"id\":\"dc709179-2655-4cbd-a07a-4c0f8cbdf1fb\",\"type\":\"WheelZoomTool\"},{\"id\":\"83cb7790-12d3-4036-bcb2-072e58086e91\",\"type\":\"BoxZoomTool\"},{\"id\":\"1e1a5855-cd9a-43e8-b5a2-6902b9a996b8\",\"type\":\"SaveTool\"},{\"id\":\"6b11ac18-4208-48fc-bc17-8d224c4a9bd4\",\"type\":\"ResetTool\"},{\"id\":\"538fd05e-3ac8-4a73-bd6f-f4e3ec2c7f0f\",\"type\":\"HelpTool\"}]},\"id\":\"c8c4b383-5c20-469c-a901-1471928a47ef\",\"type\":\"Toolbar\"},{\"attributes\":{\"plot\":{\"id\":\"cd02cfa6-1720-49ad-b3c8-5d7fd99a6e12\",\"subtype\":\"Figure\",\"type\":\"Plot\"},\"ticker\":{\"id\":\"c73e9f46-8c86-4fda-bf9c-5ab5f4502a20\",\"type\":\"CategoricalTicker\"}},\"id\":\"75126431-2e08-4a51-9db0-89e99b766d82\",\"type\":\"Grid\"},{\"attributes\":{},\"id\":\"e84631bf-d343-4390-a448-45549f8e7b94\",\"type\":\"LinearScale\"},{\"attributes\":{\"overlay\":{\"id\":\"ff9a8525-2c0d-4f05-9b7a-9f6a6e332bf4\",\"type\":\"BoxAnnotation\"}},\"id\":\"f88e0ecb-f5f4-45e6-8478-eb04ebbe00ba\",\"type\":\"BoxZoomTool\"},{\"attributes\":{\"fill_alpha\":{\"value\":0.1},\"fill_color\":{\"value\":\"#1f77b4\"},\"line_alpha\":{\"value\":0.1},\"line_color\":{\"value\":\"#1f77b4\"},\"top\":{\"field\":\"flux\"},\"width\":{\"value\":0.9},\"x\":{\"field\":\"band\"}},\"id\":\"ddf32583-d37c-4d19-8465-75239e9092bf\",\"type\":\"VBar\"},{\"attributes\":{\"below\":[{\"id\":\"9dd4a9e6-970f-47e1-a611-07e20c3decfb\",\"type\":\"CategoricalAxis\"}],\"left\":[{\"id\":\"05d4e28e-c99e-4abe-8170-d2030d7ce58f\",\"type\":\"LinearAxis\"}],\"plot_height\":300,\"plot_width\":300,\"renderers\":[{\"id\":\"9dd4a9e6-970f-47e1-a611-07e20c3decfb\",\"type\":\"CategoricalAxis\"},{\"id\":\"edde18d0-8ee3-40ca-a1f2-028cb59cc529\",\"type\":\"Grid\"},{\"id\":\"05d4e28e-c99e-4abe-8170-d2030d7ce58f\",\"type\":\"LinearAxis\"},{\"id\":\"3e1dea0b-19b8-420d-95cb-e1d822334877\",\"type\":\"Grid\"},{\"id\":\"f41125c6-7c7e-4f57-80ed-82dcfb7e400f\",\"type\":\"BoxAnnotation\"},{\"id\":\"b24bfd5c-c533-4e64-ab59-949f49a75e83\",\"type\":\"GlyphRenderer\"}],\"title\":{\"id\":\"b16a10bb-1a52-4cb1-a03f-d82db54e7776\",\"type\":\"Title\"},\"toolbar\":{\"id\":\"484c2d5a-a790-4e21-8802-480f92e4dc02\",\"type\":\"Toolbar\"},\"toolbar_location\":null,\"x_range\":{\"id\":\"b6a4f31d-907f-443b-a22f-cc157e222b95\",\"type\":\"FactorRange\"},\"x_scale\":{\"id\":\"50c3d349-a110-4615-a114-3a5b11a8a9ca\",\"type\":\"CategoricalScale\"},\"y_range\":{\"id\":\"e0cad478-ec35-4fe0-bb7f-052bcb340f8d\",\"type\":\"DataRange1d\"},\"y_scale\":{\"id\":\"77539473-50a5-479c-bc22-408afa56b2ff\",\"type\":\"LinearScale\"}},\"id\":\"577bb089-5714-4cb4-b71d-bb15a0f564a4\",\"subtype\":\"Figure\",\"type\":\"Plot\"},{\"attributes\":{},\"id\":\"f5b72d26-0be6-4f7b-a3a0-a4a4b4720d4d\",\"type\":\"BasicTicker\"},{\"attributes\":{},\"id\":\"323dfc32-4c8a-4588-880b-132b1dcfad19\",\"type\":\"CategoricalScale\"},{\"attributes\":{\"active_drag\":\"auto\",\"active_inspect\":\"auto\",\"active_scroll\":\"auto\",\"active_tap\":\"auto\",\"tools\":[{\"id\":\"89cdbf8e-036c-425c-9f1a-cbb6ba40fe5e\",\"type\":\"PanTool\"},{\"id\":\"295a3996-9928-4441-b2ea-86d3716c2b5c\",\"type\":\"WheelZoomTool\"},{\"id\":\"2db461f9-94c4-46bc-a25c-fc4c11dd6add\",\"type\":\"BoxZoomTool\"},{\"id\":\"a86baeb1-1ecd-4372-baf1-ecaf64331321\",\"type\":\"SaveTool\"},{\"id\":\"9f10c75a-bb53-4bb9-bacb-c878f0a52455\",\"type\":\"ResetTool\"},{\"id\":\"ef4d8a61-4a41-43ab-9f00-78d72a7bca23\",\"type\":\"HelpTool\"}]},\"id\":\"484c2d5a-a790-4e21-8802-480f92e4dc02\",\"type\":\"Toolbar\"},{\"attributes\":{\"fill_color\":{\"value\":\"#1f77b4\"},\"line_color\":{\"value\":\"#1f77b4\"},\"top\":{\"field\":\"flux\"},\"width\":{\"value\":0.9},\"x\":{\"field\":\"band\"}},\"id\":\"318b8152-002f-4001-aa81-4ee66e7ebf5b\",\"type\":\"VBar\"},{\"attributes\":{},\"id\":\"30d7a7a9-4ea9-401d-b4b8-7c5245a53b41\",\"type\":\"BasicTicker\"},{\"attributes\":{\"plot\":null,\"text\":\"SFC flux. CLIRAD (single-run) - CRD.\"},\"id\":\"176efa97-b48d-4a17-b63f-9b29ebdcd3bf\",\"type\":\"Title\"},{\"attributes\":{\"callback\":null},\"id\":\"e5bbad68-12db-40bb-97ac-dad666e158ea\",\"type\":\"DataRange1d\"},{\"attributes\":{\"fill_alpha\":{\"value\":0.1},\"fill_color\":{\"value\":\"#1f77b4\"},\"line_alpha\":{\"value\":0.1},\"line_color\":{\"value\":\"#1f77b4\"},\"top\":{\"field\":\"flux\"},\"width\":{\"value\":0.9},\"x\":{\"field\":\"band\"}},\"id\":\"35ac682b-e2e5-4c5d-afd8-72cb4a1a244c\",\"type\":\"VBar\"},{\"attributes\":{},\"id\":\"16d40219-d0cc-44c2-b48f-8101a49b82ae\",\"type\":\"Selection\"},{\"attributes\":{},\"id\":\"482a7a52-8cbf-4ee3-aac2-758e0902dbb8\",\"type\":\"ResetTool\"},{\"attributes\":{},\"id\":\"ebfab340-5641-4c4d-9a98-b2d6030b2131\",\"type\":\"WheelZoomTool\"},{\"attributes\":{\"source\":{\"id\":\"6288bf29-65af-484d-9d07-f4c9dab5f3e1\",\"type\":\"ColumnDataSource\"}},\"id\":\"f2ee4245-b777-42a6-82c1-f5ce9ee9f1c9\",\"type\":\"CDSView\"},{\"attributes\":{\"callback\":null},\"id\":\"e0cad478-ec35-4fe0-bb7f-052bcb340f8d\",\"type\":\"DataRange1d\"},{\"attributes\":{\"source\":{\"id\":\"1cf478d3-1ed6-498c-9ca7-f4bdb7aa2aa8\",\"type\":\"ColumnDataSource\"}},\"id\":\"90dfd9ee-f1d1-4d09-9766-dbde850a535f\",\"type\":\"CDSView\"},{\"attributes\":{\"axis_label\":\"flux (W m-2)\",\"formatter\":{\"id\":\"b1bce230-b1a8-4a81-9546-b06bcf54f2b4\",\"type\":\"BasicTickFormatter\"},\"plot\":{\"id\":\"cd02cfa6-1720-49ad-b3c8-5d7fd99a6e12\",\"subtype\":\"Figure\",\"type\":\"Plot\"},\"ticker\":{\"id\":\"30d7a7a9-4ea9-401d-b4b8-7c5245a53b41\",\"type\":\"BasicTicker\"}},\"id\":\"0402ca77-9efc-46cc-bee1-66a1b5362288\",\"type\":\"LinearAxis\"},{\"attributes\":{\"callback\":null,\"factors\":[\"1\",\"2\",\"3\",\"4\",\"5\",\"6\",\"7\",\"8\",\"9\",\"10\",\"11\"]},\"id\":\"b728a273-3392-40f5-8d2a-a1c5b93d2597\",\"type\":\"FactorRange\"},{\"attributes\":{\"dimension\":1,\"plot\":{\"id\":\"57783b57-c697-48df-81c8-2284db6b6940\",\"subtype\":\"Figure\",\"type\":\"Plot\"},\"ticker\":{\"id\":\"f5b72d26-0be6-4f7b-a3a0-a4a4b4720d4d\",\"type\":\"BasicTicker\"}},\"id\":\"b01de91a-a4e3-43a1-969f-8f54840d4d92\",\"type\":\"Grid\"},{\"attributes\":{},\"id\":\"c5908181-be21-4e3a-b94d-4ca29e85f3ed\",\"type\":\"BasicTickFormatter\"},{\"attributes\":{\"data_source\":{\"id\":\"1cf478d3-1ed6-498c-9ca7-f4bdb7aa2aa8\",\"type\":\"ColumnDataSource\"},\"glyph\":{\"id\":\"318b8152-002f-4001-aa81-4ee66e7ebf5b\",\"type\":\"VBar\"},\"hover_glyph\":null,\"muted_glyph\":null,\"nonselection_glyph\":{\"id\":\"35ac682b-e2e5-4c5d-afd8-72cb4a1a244c\",\"type\":\"VBar\"},\"selection_glyph\":null,\"view\":{\"id\":\"90dfd9ee-f1d1-4d09-9766-dbde850a535f\",\"type\":\"CDSView\"}},\"id\":\"c88678d6-3976-4280-a7d0-b11d09cc668f\",\"type\":\"GlyphRenderer\"},{\"attributes\":{\"children\":[{\"id\":\"51888273-905d-406b-9138-55fbc12b1c0b\",\"type\":\"ToolbarBox\"},{\"id\":\"03f0d580-72d4-4ac4-aae8-413435388f25\",\"type\":\"Column\"}]},\"id\":\"f61257c8-03a6-409c-80d0-6d006e036064\",\"type\":\"Column\"},{\"attributes\":{},\"id\":\"1e1a5855-cd9a-43e8-b5a2-6902b9a996b8\",\"type\":\"SaveTool\"},{\"attributes\":{\"fill_alpha\":{\"value\":0.1},\"fill_color\":{\"value\":\"#1f77b4\"},\"line_alpha\":{\"value\":0.1},\"line_color\":{\"value\":\"#1f77b4\"},\"top\":{\"field\":\"flux\"},\"width\":{\"value\":0.9},\"x\":{\"field\":\"band\"}},\"id\":\"b5364911-101f-4417-976f-481abe394abe\",\"type\":\"VBar\"},{\"attributes\":{\"plot\":{\"id\":\"577bb089-5714-4cb4-b71d-bb15a0f564a4\",\"subtype\":\"Figure\",\"type\":\"Plot\"},\"ticker\":{\"id\":\"a4395b35-4d03-4c6a-9c54-59837b0b096c\",\"type\":\"CategoricalTicker\"}},\"id\":\"edde18d0-8ee3-40ca-a1f2-028cb59cc529\",\"type\":\"Grid\"},{\"attributes\":{},\"id\":\"12584ced-ba71-45ee-83e4-85d872c582fe\",\"type\":\"UnionRenderers\"},{\"attributes\":{\"children\":[{\"id\":\"42783351-f0ba-4ecf-83cd-3586469a82ec\",\"type\":\"Row\"}]},\"id\":\"03f0d580-72d4-4ac4-aae8-413435388f25\",\"type\":\"Column\"},{\"attributes\":{},\"id\":\"dc709179-2655-4cbd-a07a-4c0f8cbdf1fb\",\"type\":\"WheelZoomTool\"},{\"attributes\":{\"data_source\":{\"id\":\"6288bf29-65af-484d-9d07-f4c9dab5f3e1\",\"type\":\"ColumnDataSource\"},\"glyph\":{\"id\":\"704ca4d4-1cec-4036-b98e-34154de2d531\",\"type\":\"VBar\"},\"hover_glyph\":null,\"muted_glyph\":null,\"nonselection_glyph\":{\"id\":\"ddf32583-d37c-4d19-8465-75239e9092bf\",\"type\":\"VBar\"},\"selection_glyph\":null,\"view\":{\"id\":\"f2ee4245-b777-42a6-82c1-f5ce9ee9f1c9\",\"type\":\"CDSView\"}},\"id\":\"e6baaed5-0a43-484c-96f9-3a4bfbc1be80\",\"type\":\"GlyphRenderer\"},{\"attributes\":{\"active_drag\":\"auto\",\"active_inspect\":\"auto\",\"active_scroll\":\"auto\",\"active_tap\":\"auto\",\"tools\":[{\"id\":\"f747dc09-6354-4b48-9559-282390b3ded6\",\"type\":\"PanTool\"},{\"id\":\"ebfab340-5641-4c4d-9a98-b2d6030b2131\",\"type\":\"WheelZoomTool\"},{\"id\":\"f88e0ecb-f5f4-45e6-8478-eb04ebbe00ba\",\"type\":\"BoxZoomTool\"},{\"id\":\"29b3f4b2-c799-4163-9238-72f4d47fb051\",\"type\":\"SaveTool\"},{\"id\":\"482a7a52-8cbf-4ee3-aac2-758e0902dbb8\",\"type\":\"ResetTool\"},{\"id\":\"942a9313-df9c-4941-b7c2-8f8c1fe283b2\",\"type\":\"HelpTool\"}]},\"id\":\"e0804506-6765-4a8c-8ab9-1cb3060aad64\",\"type\":\"Toolbar\"},{\"attributes\":{\"data_source\":{\"id\":\"1f2e5c5a-5b4d-48b7-a801-0fbde7960a45\",\"type\":\"ColumnDataSource\"},\"glyph\":{\"id\":\"63dc307c-e333-4997-bc9b-34f39973d293\",\"type\":\"VBar\"},\"hover_glyph\":null,\"muted_glyph\":null,\"nonselection_glyph\":{\"id\":\"b5364911-101f-4417-976f-481abe394abe\",\"type\":\"VBar\"},\"selection_glyph\":null,\"view\":{\"id\":\"757ef75b-863d-420e-b7f0-0baa9a52515b\",\"type\":\"CDSView\"}},\"id\":\"b24bfd5c-c533-4e64-ab59-949f49a75e83\",\"type\":\"GlyphRenderer\"},{\"attributes\":{},\"id\":\"c73e9f46-8c86-4fda-bf9c-5ab5f4502a20\",\"type\":\"CategoricalTicker\"},{\"attributes\":{\"source\":{\"id\":\"1f2e5c5a-5b4d-48b7-a801-0fbde7960a45\",\"type\":\"ColumnDataSource\"}},\"id\":\"757ef75b-863d-420e-b7f0-0baa9a52515b\",\"type\":\"CDSView\"},{\"attributes\":{},\"id\":\"48709e39-9d18-4c69-89ba-a3443540a2d2\",\"type\":\"CategoricalTickFormatter\"},{\"attributes\":{},\"id\":\"bca80e6d-1fe4-43c0-a770-934272c4060e\",\"type\":\"CategoricalScale\"},{\"attributes\":{},\"id\":\"a6ea3ad3-3fd1-482f-abf2-289acf488b4d\",\"type\":\"UnionRenderers\"},{\"attributes\":{},\"id\":\"295a3996-9928-4441-b2ea-86d3716c2b5c\",\"type\":\"WheelZoomTool\"},{\"attributes\":{},\"id\":\"a77004f8-c777-4630-ad95-fc7d9c0ea340\",\"type\":\"LinearScale\"},{\"attributes\":{\"toolbar\":{\"id\":\"9cf45278-f7de-4d9d-8eda-a09e69c5d677\",\"type\":\"ProxyToolbar\"},\"toolbar_location\":\"above\"},\"id\":\"51888273-905d-406b-9138-55fbc12b1c0b\",\"type\":\"ToolbarBox\"},{\"attributes\":{\"callback\":null,\"data\":{\"band\":[\"1\",\"2\",\"3\",\"4\",\"5\",\"6\",\"7\",\"8\",\"9\",\"10\",\"11\"],\"flux\":{\"__ndarray__\":\"AICufmySb79AlWHcDWIEQIDAH37+e8I/AKtf6Xx4tj/w+fWeJePgP4T9jSxPluA/cMxGQraHxj8APUY3yhN7v8DyNAXXgbA/AJDEy9O5oj8Ad2DnQ6NtPw==\",\"dtype\":\"float64\",\"shape\":[11]}},\"selected\":{\"id\":\"16d40219-d0cc-44c2-b48f-8101a49b82ae\",\"type\":\"Selection\"},\"selection_policy\":{\"id\":\"8811cccd-4f3c-447f-8577-5d6ffc4b8013\",\"type\":\"UnionRenderers\"}},\"id\":\"6288bf29-65af-484d-9d07-f4c9dab5f3e1\",\"type\":\"ColumnDataSource\"},{\"attributes\":{},\"id\":\"a86baeb1-1ecd-4372-baf1-ecaf64331321\",\"type\":\"SaveTool\"},{\"attributes\":{\"overlay\":{\"id\":\"8a140560-f65b-4a8d-97e7-174ca969c8ef\",\"type\":\"BoxAnnotation\"}},\"id\":\"83cb7790-12d3-4036-bcb2-072e58086e91\",\"type\":\"BoxZoomTool\"},{\"attributes\":{\"callback\":null},\"id\":\"fbff2860-7d99-4052-99bd-cefd24f7e051\",\"type\":\"DataRange1d\"},{\"attributes\":{},\"id\":\"6b11ac18-4208-48fc-bc17-8d224c4a9bd4\",\"type\":\"ResetTool\"},{\"attributes\":{},\"id\":\"8ae271b5-9f8c-4b3c-903a-4fe44b9a26b4\",\"type\":\"Selection\"},{\"attributes\":{},\"id\":\"a4395b35-4d03-4c6a-9c54-59837b0b096c\",\"type\":\"CategoricalTicker\"},{\"attributes\":{\"children\":[{\"id\":\"cd02cfa6-1720-49ad-b3c8-5d7fd99a6e12\",\"subtype\":\"Figure\",\"type\":\"Plot\"},{\"id\":\"57783b57-c697-48df-81c8-2284db6b6940\",\"subtype\":\"Figure\",\"type\":\"Plot\"},{\"id\":\"577bb089-5714-4cb4-b71d-bb15a0f564a4\",\"subtype\":\"Figure\",\"type\":\"Plot\"}]},\"id\":\"42783351-f0ba-4ecf-83cd-3586469a82ec\",\"type\":\"Row\"},{\"attributes\":{\"fill_color\":{\"value\":\"#1f77b4\"},\"line_color\":{\"value\":\"#1f77b4\"},\"top\":{\"field\":\"flux\"},\"width\":{\"value\":0.9},\"x\":{\"field\":\"band\"}},\"id\":\"63dc307c-e333-4997-bc9b-34f39973d293\",\"type\":\"VBar\"},{\"attributes\":{\"bottom_units\":\"screen\",\"fill_alpha\":{\"value\":0.5},\"fill_color\":{\"value\":\"lightgrey\"},\"left_units\":\"screen\",\"level\":\"overlay\",\"line_alpha\":{\"value\":1.0},\"line_color\":{\"value\":\"black\"},\"line_dash\":[4,4],\"line_width\":{\"value\":2},\"plot\":null,\"render_mode\":\"css\",\"right_units\":\"screen\",\"top_units\":\"screen\"},\"id\":\"8a140560-f65b-4a8d-97e7-174ca969c8ef\",\"type\":\"BoxAnnotation\"},{\"attributes\":{\"axis_label\":\"spectral band\",\"formatter\":{\"id\":\"d26e8971-bf4a-456c-80c3-d1d6f53c45e7\",\"type\":\"CategoricalTickFormatter\"},\"plot\":{\"id\":\"cd02cfa6-1720-49ad-b3c8-5d7fd99a6e12\",\"subtype\":\"Figure\",\"type\":\"Plot\"},\"ticker\":{\"id\":\"c73e9f46-8c86-4fda-bf9c-5ab5f4502a20\",\"type\":\"CategoricalTicker\"}},\"id\":\"d3e99c2c-2b70-4113-925e-e905e2b3c65f\",\"type\":\"CategoricalAxis\"},{\"attributes\":{\"bottom_units\":\"screen\",\"fill_alpha\":{\"value\":0.5},\"fill_color\":{\"value\":\"lightgrey\"},\"left_units\":\"screen\",\"level\":\"overlay\",\"line_alpha\":{\"value\":1.0},\"line_color\":{\"value\":\"black\"},\"line_dash\":[4,4],\"line_width\":{\"value\":2},\"plot\":null,\"render_mode\":\"css\",\"right_units\":\"screen\",\"top_units\":\"screen\"},\"id\":\"f41125c6-7c7e-4f57-80ed-82dcfb7e400f\",\"type\":\"BoxAnnotation\"},{\"attributes\":{\"axis_label\":\"flux (W m-2)\",\"formatter\":{\"id\":\"c5908181-be21-4e3a-b94d-4ca29e85f3ed\",\"type\":\"BasicTickFormatter\"},\"plot\":{\"id\":\"577bb089-5714-4cb4-b71d-bb15a0f564a4\",\"subtype\":\"Figure\",\"type\":\"Plot\"},\"ticker\":{\"id\":\"d8cc6ac4-6a64-463e-9515-0214cafc17b1\",\"type\":\"BasicTicker\"}},\"id\":\"05d4e28e-c99e-4abe-8170-d2030d7ce58f\",\"type\":\"LinearAxis\"},{\"attributes\":{\"callback\":null,\"factors\":[\"1\",\"2\",\"3\",\"4\",\"5\",\"6\",\"7\",\"8\",\"9\",\"10\",\"11\"]},\"id\":\"82e28fe7-85c1-4f64-8b0f-addb2af7a026\",\"type\":\"FactorRange\"},{\"attributes\":{},\"id\":\"89cdbf8e-036c-425c-9f1a-cbb6ba40fe5e\",\"type\":\"PanTool\"},{\"attributes\":{},\"id\":\"ef4d8a61-4a41-43ab-9f00-78d72a7bca23\",\"type\":\"HelpTool\"},{\"attributes\":{},\"id\":\"d8cc6ac4-6a64-463e-9515-0214cafc17b1\",\"type\":\"BasicTicker\"},{\"attributes\":{},\"id\":\"538fd05e-3ac8-4a73-bd6f-f4e3ec2c7f0f\",\"type\":\"HelpTool\"},{\"attributes\":{},\"id\":\"9f10c75a-bb53-4bb9-bacb-c878f0a52455\",\"type\":\"ResetTool\"},{\"attributes\":{\"below\":[{\"id\":\"56cc5197-8622-426c-b2ae-486a0484b15d\",\"type\":\"CategoricalAxis\"}],\"left\":[{\"id\":\"d28b7fb0-f08f-4395-88b7-9428730f152c\",\"type\":\"LinearAxis\"}],\"plot_height\":300,\"plot_width\":300,\"renderers\":[{\"id\":\"56cc5197-8622-426c-b2ae-486a0484b15d\",\"type\":\"CategoricalAxis\"},{\"id\":\"afd98dcb-dec2-4008-9392-04cc55655bc4\",\"type\":\"Grid\"},{\"id\":\"d28b7fb0-f08f-4395-88b7-9428730f152c\",\"type\":\"LinearAxis\"},{\"id\":\"b01de91a-a4e3-43a1-969f-8f54840d4d92\",\"type\":\"Grid\"},{\"id\":\"8a140560-f65b-4a8d-97e7-174ca969c8ef\",\"type\":\"BoxAnnotation\"},{\"id\":\"e6baaed5-0a43-484c-96f9-3a4bfbc1be80\",\"type\":\"GlyphRenderer\"}],\"title\":{\"id\":\"176efa97-b48d-4a17-b63f-9b29ebdcd3bf\",\"type\":\"Title\"},\"toolbar\":{\"id\":\"c8c4b383-5c20-469c-a901-1471928a47ef\",\"type\":\"Toolbar\"},\"toolbar_location\":null,\"x_range\":{\"id\":\"b728a273-3392-40f5-8d2a-a1c5b93d2597\",\"type\":\"FactorRange\"},\"x_scale\":{\"id\":\"323dfc32-4c8a-4588-880b-132b1dcfad19\",\"type\":\"CategoricalScale\"},\"y_range\":{\"id\":\"e5bbad68-12db-40bb-97ac-dad666e158ea\",\"type\":\"DataRange1d\"},\"y_scale\":{\"id\":\"e84631bf-d343-4390-a448-45549f8e7b94\",\"type\":\"LinearScale\"}},\"id\":\"57783b57-c697-48df-81c8-2284db6b6940\",\"subtype\":\"Figure\",\"type\":\"Plot\"},{\"attributes\":{\"dimension\":1,\"plot\":{\"id\":\"577bb089-5714-4cb4-b71d-bb15a0f564a4\",\"subtype\":\"Figure\",\"type\":\"Plot\"},\"ticker\":{\"id\":\"d8cc6ac4-6a64-463e-9515-0214cafc17b1\",\"type\":\"BasicTicker\"}},\"id\":\"3e1dea0b-19b8-420d-95cb-e1d822334877\",\"type\":\"Grid\"},{\"attributes\":{\"callback\":null,\"data\":{\"band\":[\"1\",\"2\",\"3\",\"4\",\"5\",\"6\",\"7\",\"8\",\"9\",\"10\",\"11\"],\"flux\":{\"__ndarray__\":\"gFVoIJbNyD8AgAncupvLPwA+fJkoQqq/oOvf9Zmz0D8Ao8ubw7W6PwBAaW6FsGq/YP58W7BU0j8AAAaCABmKvwCe5Fgo46E/AGgLdJJSdb+AbxLeeT2TPw==\",\"dtype\":\"float64\",\"shape\":[11]}},\"selected\":{\"id\":\"7868953a-60ec-4a27-a99a-ec68b4b1c1c1\",\"type\":\"Selection\"},\"selection_policy\":{\"id\":\"12584ced-ba71-45ee-83e4-85d872c582fe\",\"type\":\"UnionRenderers\"}},\"id\":\"1cf478d3-1ed6-498c-9ca7-f4bdb7aa2aa8\",\"type\":\"ColumnDataSource\"},{\"attributes\":{},\"id\":\"7868953a-60ec-4a27-a99a-ec68b4b1c1c1\",\"type\":\"Selection\"},{\"attributes\":{},\"id\":\"64f141ee-1f93-4e87-b2ae-4ba2752e1641\",\"type\":\"BasicTickFormatter\"},{\"attributes\":{},\"id\":\"5dc0c105-3166-4178-a63d-7a5494c26731\",\"type\":\"PanTool\"},{\"attributes\":{},\"id\":\"b1bce230-b1a8-4a81-9546-b06bcf54f2b4\",\"type\":\"BasicTickFormatter\"},{\"attributes\":{},\"id\":\"06fe0eb2-5e45-4163-bf6f-a46b8f905615\",\"type\":\"CategoricalTickFormatter\"},{\"attributes\":{\"plot\":null,\"text\":\"TOA flux. CLIRAD (single-run) - CRD.\"},\"id\":\"0e936cc4-eddd-4d9d-99a5-b2883c2a6a59\",\"type\":\"Title\"},{\"attributes\":{\"overlay\":{\"id\":\"f41125c6-7c7e-4f57-80ed-82dcfb7e400f\",\"type\":\"BoxAnnotation\"}},\"id\":\"2db461f9-94c4-46bc-a25c-fc4c11dd6add\",\"type\":\"BoxZoomTool\"},{\"attributes\":{\"tools\":[{\"id\":\"f747dc09-6354-4b48-9559-282390b3ded6\",\"type\":\"PanTool\"},{\"id\":\"ebfab340-5641-4c4d-9a98-b2d6030b2131\",\"type\":\"WheelZoomTool\"},{\"id\":\"f88e0ecb-f5f4-45e6-8478-eb04ebbe00ba\",\"type\":\"BoxZoomTool\"},{\"id\":\"29b3f4b2-c799-4163-9238-72f4d47fb051\",\"type\":\"SaveTool\"},{\"id\":\"482a7a52-8cbf-4ee3-aac2-758e0902dbb8\",\"type\":\"ResetTool\"},{\"id\":\"942a9313-df9c-4941-b7c2-8f8c1fe283b2\",\"type\":\"HelpTool\"},{\"id\":\"5dc0c105-3166-4178-a63d-7a5494c26731\",\"type\":\"PanTool\"},{\"id\":\"dc709179-2655-4cbd-a07a-4c0f8cbdf1fb\",\"type\":\"WheelZoomTool\"},{\"id\":\"83cb7790-12d3-4036-bcb2-072e58086e91\",\"type\":\"BoxZoomTool\"},{\"id\":\"1e1a5855-cd9a-43e8-b5a2-6902b9a996b8\",\"type\":\"SaveTool\"},{\"id\":\"6b11ac18-4208-48fc-bc17-8d224c4a9bd4\",\"type\":\"ResetTool\"},{\"id\":\"538fd05e-3ac8-4a73-bd6f-f4e3ec2c7f0f\",\"type\":\"HelpTool\"},{\"id\":\"89cdbf8e-036c-425c-9f1a-cbb6ba40fe5e\",\"type\":\"PanTool\"},{\"id\":\"295a3996-9928-4441-b2ea-86d3716c2b5c\",\"type\":\"WheelZoomTool\"},{\"id\":\"2db461f9-94c4-46bc-a25c-fc4c11dd6add\",\"type\":\"BoxZoomTool\"},{\"id\":\"a86baeb1-1ecd-4372-baf1-ecaf64331321\",\"type\":\"SaveTool\"},{\"id\":\"9f10c75a-bb53-4bb9-bacb-c878f0a52455\",\"type\":\"ResetTool\"},{\"id\":\"ef4d8a61-4a41-43ab-9f00-78d72a7bca23\",\"type\":\"HelpTool\"}]},\"id\":\"9cf45278-f7de-4d9d-8eda-a09e69c5d677\",\"type\":\"ProxyToolbar\"},{\"attributes\":{},\"id\":\"8811cccd-4f3c-447f-8577-5d6ffc4b8013\",\"type\":\"UnionRenderers\"},{\"attributes\":{},\"id\":\"d26e8971-bf4a-456c-80c3-d1d6f53c45e7\",\"type\":\"CategoricalTickFormatter\"}],\"root_ids\":[\"f61257c8-03a6-409c-80d0-6d006e036064\"]},\"title\":\"Bokeh Application\",\"version\":\"0.12.16\"}};\n",
       "  var render_items = [{\"docid\":\"337ded17-5dec-4801-8bfe-b69c3efbedcd\",\"elementid\":\"e07ee86e-ce5d-4c8b-b558-bc7924742ec2\",\"modelid\":\"f61257c8-03a6-409c-80d0-6d006e036064\"}];\n",
       "  root.Bokeh.embed.embed_items_notebook(docs_json, render_items);\n",
       "\n",
       "  }\n",
       "  if (root.Bokeh !== undefined) {\n",
       "    embed_document(root);\n",
       "  } else {\n",
       "    var attempts = 0;\n",
       "    var timer = setInterval(function(root) {\n",
       "      if (root.Bokeh !== undefined) {\n",
       "        embed_document(root);\n",
       "        clearInterval(timer);\n",
       "      }\n",
       "      attempts++;\n",
       "      if (attempts > 100) {\n",
       "        console.log(\"Bokeh: ERROR: Unable to run BokehJS code because BokehJS library is missing\")\n",
       "        clearInterval(timer);\n",
       "      }\n",
       "    }, 10, root)\n",
       "  }\n",
       "})(window);"
      ],
      "application/vnd.bokehjs_exec.v0+json": ""
     },
     "metadata": {
      "application/vnd.bokehjs_exec.v0+json": {
       "id": "f61257c8-03a6-409c-80d0-6d006e036064"
      }
     },
     "output_type": "display_data"
    },
    {
     "data": {
      "text/markdown": [
       "*FIGURE.* Difference between CLIRAD and CRD in TOA, SFC and net atmosphere flux, in each spectral band."
      ],
      "text/plain": [
       "<IPython.core.display.Markdown object>"
      ]
     },
     "metadata": {},
     "output_type": "display_data"
    },
    {
     "data": {
      "text/html": [
       "<div>\n",
       "<style scoped>\n",
       "    .dataframe tbody tr th:only-of-type {\n",
       "        vertical-align: middle;\n",
       "    }\n",
       "\n",
       "    .dataframe tbody tr th {\n",
       "        vertical-align: top;\n",
       "    }\n",
       "\n",
       "    .dataframe thead th {\n",
       "        text-align: right;\n",
       "    }\n",
       "</style>\n",
       "<table border=\"1\" class=\"dataframe\">\n",
       "  <thead>\n",
       "    <tr style=\"text-align: right;\">\n",
       "      <th></th>\n",
       "      <th>OLR flux</th>\n",
       "      <th>SFC flux</th>\n",
       "      <th>ATM heating</th>\n",
       "    </tr>\n",
       "    <tr>\n",
       "      <th>Sum over bands</th>\n",
       "      <th></th>\n",
       "      <th></th>\n",
       "      <th></th>\n",
       "    </tr>\n",
       "  </thead>\n",
       "  <tbody>\n",
       "    <tr>\n",
       "      <th>CLIRAD (single-run) - CRD</th>\n",
       "      <td>1.04</td>\n",
       "      <td>4.10</td>\n",
       "      <td>-3.05</td>\n",
       "    </tr>\n",
       "    <tr>\n",
       "      <th>CRD</th>\n",
       "      <td>-201.06</td>\n",
       "      <td>166.03</td>\n",
       "      <td>-119.67</td>\n",
       "    </tr>\n",
       "  </tbody>\n",
       "</table>\n",
       "</div>"
      ],
      "text/plain": [
       "                           OLR flux  SFC flux  ATM heating\n",
       "Sum over bands                                            \n",
       "CLIRAD (single-run) - CRD      1.04      4.10        -3.05\n",
       "CRD                         -201.06    166.03      -119.67"
      ]
     },
     "metadata": {},
     "output_type": "display_data"
    },
    {
     "data": {
      "text/markdown": [
       "*TABLE.* Difference between CLIRAD and CRD in TOA, SFC and net atmosphere flux, over all spectral bands. CRD's TOA, SFC and net atmosphere flux, over all spectral bands."
      ],
      "text/plain": [
       "<IPython.core.display.Markdown object>"
      ]
     },
     "metadata": {},
     "output_type": "display_data"
    },
    {
     "data": {
      "text/html": [
       "<a id=\"Cooling_rates._trp.\"></a>"
      ],
      "text/plain": [
       "<IPython.core.display.HTML object>"
      ]
     },
     "metadata": {},
     "output_type": "display_data"
    },
    {
     "data": {
      "text/markdown": [
       "# Cooling rates. trp."
      ],
      "text/plain": [
       "<IPython.core.display.Markdown object>"
      ]
     },
     "metadata": {},
     "output_type": "display_data"
    },
    {
     "data": {
      "text/html": [
       "\n",
       "<div class=\"bk-root\">\n",
       "    <div class=\"bk-plotdiv\" id=\"f8611641-3ab9-4eeb-81ca-20a73a1df4d1\"></div>\n",
       "</div>"
      ]
     },
     "metadata": {},
     "output_type": "display_data"
    },
    {
     "data": {
      "application/javascript": [
       "(function(root) {\n",
       "  function embed_document(root) {\n",
       "    \n",
       "  var docs_json = {\"3ed23af0-08b0-4a81-b11a-14f318dea46f\":{\"roots\":{\"references\":[{\"attributes\":{\"above\":[{\"id\":\"c91f217c-ee84-40dd-95a2-34cc33f84d47\",\"type\":\"Legend\"}],\"below\":[{\"id\":\"3f21ed58-87d4-49a0-a52c-903b2db43369\",\"type\":\"LinearAxis\"}],\"left\":[{\"id\":\"ca995838-2a4d-46eb-9d49-2f1a6b05de1a\",\"type\":\"LinearAxis\"}],\"plot_width\":300,\"renderers\":[{\"id\":\"3f21ed58-87d4-49a0-a52c-903b2db43369\",\"type\":\"LinearAxis\"},{\"id\":\"56488007-7735-4399-a506-64b76f36e8b3\",\"type\":\"Grid\"},{\"id\":\"ca995838-2a4d-46eb-9d49-2f1a6b05de1a\",\"type\":\"LinearAxis\"},{\"id\":\"b1707ae2-af9e-4568-8f6e-8adf766d438e\",\"type\":\"Grid\"},{\"id\":\"f8592fed-a922-426a-9fcd-39923d917b56\",\"type\":\"BoxAnnotation\"},{\"id\":\"e75b8c69-2a6e-4d32-b584-95e80de7a2b5\",\"type\":\"GlyphRenderer\"},{\"id\":\"9b1e2fba-a6db-47f7-82ea-67dc9eab919c\",\"type\":\"GlyphRenderer\"},{\"id\":\"ca7aa846-30c2-4056-a059-cb6356844807\",\"type\":\"GlyphRenderer\"},{\"id\":\"c91f217c-ee84-40dd-95a2-34cc33f84d47\",\"type\":\"Legend\"}],\"title\":{\"id\":\"6e315a6f-644f-43ef-b9bd-e03bb08037be\",\"type\":\"Title\"},\"toolbar\":{\"id\":\"9283599d-182e-49da-99b1-0ab6e9b37a74\",\"type\":\"Toolbar\"},\"toolbar_location\":null,\"x_range\":{\"id\":\"040c3f1e-1c6a-4dc3-ba3c-5220e14bd0bb\",\"type\":\"Range1d\"},\"x_scale\":{\"id\":\"a084613b-e880-4e76-a624-e18d66c88bc7\",\"type\":\"LinearScale\"},\"y_range\":{\"id\":\"b51bb90a-0404-480e-828f-9ccc677c0903\",\"type\":\"Range1d\"},\"y_scale\":{\"id\":\"33f8cfb0-cf4e-4eba-858c-4c3c3908b537\",\"type\":\"LinearScale\"}},\"id\":\"3b6f0d37-3a98-43e4-bf34-abda8aa0d42d\",\"subtype\":\"Figure\",\"type\":\"Plot\"},{\"attributes\":{\"line_color\":\"#4daf4a\",\"line_width\":1.5,\"x\":{\"field\":\"x\"},\"y\":{\"field\":\"y\"}},\"id\":\"dd663c2c-c555-4939-b7ec-8bd4d72a6165\",\"type\":\"Line\"},{\"attributes\":{\"above\":[{\"id\":\"77ad3b54-1639-4ab8-94d1-8b27eb8830fb\",\"type\":\"Legend\"}],\"below\":[{\"id\":\"347df3d6-2001-454b-b5b8-aaa120e56846\",\"type\":\"LinearAxis\"}],\"left\":[{\"id\":\"7024012b-b925-4cee-8c9b-3323a685633f\",\"type\":\"LogAxis\"}],\"plot_width\":300,\"renderers\":[{\"id\":\"347df3d6-2001-454b-b5b8-aaa120e56846\",\"type\":\"LinearAxis\"},{\"id\":\"2a79d76b-673a-4bc8-a082-056312a722b4\",\"type\":\"Grid\"},{\"id\":\"7024012b-b925-4cee-8c9b-3323a685633f\",\"type\":\"LogAxis\"},{\"id\":\"7177d413-1f44-4a17-a160-68dfdfdd01f3\",\"type\":\"Grid\"},{\"id\":\"b6990a61-2e91-4cf7-be07-84184edb944a\",\"type\":\"BoxAnnotation\"},{\"id\":\"ceff0aa8-3d56-46ed-ab42-66bb382ec0c8\",\"type\":\"GlyphRenderer\"},{\"id\":\"91b403f7-34ef-473e-a78c-bb91a38dede0\",\"type\":\"GlyphRenderer\"},{\"id\":\"77ad3b54-1639-4ab8-94d1-8b27eb8830fb\",\"type\":\"Legend\"}],\"title\":{\"id\":\"fc7ef883-b4ad-4dca-8538-d91219ccbf72\",\"type\":\"Title\"},\"toolbar\":{\"id\":\"7e62aa57-805d-4e64-a2d2-4a56e9f2804b\",\"type\":\"Toolbar\"},\"toolbar_location\":null,\"x_range\":{\"id\":\"f680a921-b4d9-4373-ba4b-0a55d532adcc\",\"type\":\"Range1d\"},\"x_scale\":{\"id\":\"bec6be53-b929-4309-b17c-610e1878ca41\",\"type\":\"LinearScale\"},\"y_range\":{\"id\":\"cca4b996-e05f-46ec-8d8a-b439fdd4bb1c\",\"type\":\"Range1d\"},\"y_scale\":{\"id\":\"89f9758d-542c-4c8a-8826-d8ebb056af8a\",\"type\":\"LogScale\"}},\"id\":\"efd23a26-722f-4f10-bcf8-7bfcdb8b8835\",\"subtype\":\"Figure\",\"type\":\"Plot\"},{\"attributes\":{\"callback\":null,\"data\":{\"x\":{\"__ndarray__\":\"R/KIaN7AVEClCeJMyPNGQOvRhpxr30JAptxzhxx4PkA7SssMElA4QK6Bp3CyUDNAsVXpjES9LkBFhUV0+5coQMHYwqbbySNA6f09nM3nH0CaSd/3eYoZQDmgiAOW8BNAPYqARh3eDEBkm4vCgvr+P9D+5tWhQfY/P8DwKRnSAkBq38kb17ILQDT7IWuSsxFAUr2Rjm0FFkAinq3s9XgbQGCHwtYcqSFAG64kT303J0C7dRDneyooQD9JYrbK8yRA9S3bneHhIUAIymSuUMMcQIkHLe6VEBdAAau3cITREkA6CiNvkQIPQJU39ki7IQlAaAvwok1UA0BXLQiS4+L7P0xzDpJ2hPI/NNuPGMbJ5z91mUVYxqfSPxqwUPSxZca/G11peifD3L8QzNj5t2jTvwzOozTL360/SPJ4VI1VzD9KJ0nXEIncP8yDdlvHt+4/Et49nYLW9z++2teD4Jn+P+568eH/bwFALf5D9lmAAkCiZAicVOkCQPPT4jNKxwJAOjp3wTzBAUBSQsKNGisBQG4OmjqJwQBAJ3sZoHFuAEA5Ar0Sdi0AQGy4rw5+9f8/7W4nSrC3/z8mPr8zj4T/P4UYRHCQS/8/embVKYcF/z+5YXG+LLP+P/qb8BVUgf4/KvafTtyO/j/avAK1Ppv+PwJV9VVm2P0/JFtYlU/n/D9sN+q2fiX6Pw44e41PNPc/Opt+Z/wN9T+x3vcSW1vzP9ofvWQJlvI/8sciQQBW8j80sfkQa17yPzg5qng2r/I/Oh14WJBh8z+VZjnpctj0P6CcrSuCqQBA\",\"dtype\":\"float64\",\"shape\":[75]},\"y\":{\"__ndarray__\":\"GhExyth1ND/Sv8nbtpRIP2vylNV0PVE/aTum7souWD/At0SJ8fVgPw3Iuahxymc/MSNhhJWvcD/bTfBN02d3P2zb5nxnaoA/CD5h5MAGhz8NmeH1TyaQP+zrCsc9p5Y/LbKd76fGnz/bLW5ISEmmPww9YvTcQq8/JV2OstnstT8Er5Y7M8G+P0c+r3jqkcU/5h99k6ZBzj88bCIzFzjVP4enV8oyxN0//yH99nXg5D8qOpLLf0jtP5kqGJXUifQ/c9cS8kHP/D+/DpwzojQEQIEmwoanVwxA4lgXt9HgE0BSSZ2AJuIbQAMJih9jjiNA5q4l5INuK0AwTKYKRj0zQNv5fmq8/DpAaCJseHrtQkB/+zpwzoxKQM3MzMzMeFJAZmZmZmZqWEAAAAAAAFxeQM3MzMzMJmJAmpmZmZkfZUBmZmZmZhhoQDMzMzMzEWtAAAAAAAAKbkBmZmZmZoFwQM3MzMzM/XFAMzMzMzN6c0CamZmZmfZ0QAAAAAAAc3ZAZmZmZmbvd0DNzMzMzGt5QDMzMzMz6HpAmpmZmZlkfEAAAAAAAOF9QGZmZmZmXX9AZmZmZuZsgECamZmZGSuBQM3MzMxM6YFAAAAAAICngkAzMzMzs2WDQGZmZmbmI4RAmpmZmRnihEDNzMzMTKCFQAAAAACAXoZAMzMzM7Mch0BmZmZm5tqHQJqZmZkZmYhAzczMzExXiUAAAAAAgBWKQDMzMzOz04pAZmZmZuaRi0CamZmZGVCMQM3MzMxMDo1AAAAAAIDMjUAzMzMzs4qOQGZmZmbmSI9A\",\"dtype\":\"float64\",\"shape\":[75]}},\"selected\":{\"id\":\"e7a2fd0e-8183-4a6a-9495-edfbbed07143\",\"type\":\"Selection\"},\"selection_policy\":{\"id\":\"34ea29c5-aca7-46e8-ba3b-6891214d6bf3\",\"type\":\"UnionRenderers\"}},\"id\":\"fb04bc91-afd2-48ef-9e40-c1248d483603\",\"type\":\"ColumnDataSource\"},{\"attributes\":{\"data_source\":{\"id\":\"fb04bc91-afd2-48ef-9e40-c1248d483603\",\"type\":\"ColumnDataSource\"},\"glyph\":{\"id\":\"dd663c2c-c555-4939-b7ec-8bd4d72a6165\",\"type\":\"Line\"},\"hover_glyph\":null,\"muted_glyph\":null,\"nonselection_glyph\":{\"id\":\"2e5089b2-1178-4da8-9c0a-5351dfb9c089\",\"type\":\"Line\"},\"selection_glyph\":null,\"view\":{\"id\":\"f016aa0b-2f4c-43bf-8e9f-faa2e8168d5c\",\"type\":\"CDSView\"}},\"id\":\"35e79334-5bbb-43fd-bb41-a395546cbd41\",\"type\":\"GlyphRenderer\"},{\"attributes\":{},\"id\":\"203a6583-aadb-476f-b73d-00debade4b80\",\"type\":\"Selection\"},{\"attributes\":{\"fill_alpha\":{\"value\":0.1},\"fill_color\":{\"value\":\"#1f77b4\"},\"line_alpha\":{\"value\":0.1},\"line_color\":{\"value\":\"#1f77b4\"},\"x\":{\"field\":\"x\"},\"y\":{\"field\":\"y\"}},\"id\":\"6453f928-ed79-4561-8d3d-6f10b56b9db6\",\"type\":\"Circle\"},{\"attributes\":{\"num_minor_ticks\":10},\"id\":\"d0e88b65-716d-423d-9934-e3f4208c680c\",\"type\":\"LogTicker\"},{\"attributes\":{\"line_alpha\":0.1,\"line_color\":\"#1f77b4\",\"line_width\":1.5,\"x\":{\"field\":\"x\"},\"y\":{\"field\":\"y\"}},\"id\":\"2e5089b2-1178-4da8-9c0a-5351dfb9c089\",\"type\":\"Line\"},{\"attributes\":{\"dimension\":1,\"plot\":{\"id\":\"efd23a26-722f-4f10-bcf8-7bfcdb8b8835\",\"subtype\":\"Figure\",\"type\":\"Plot\"},\"ticker\":{\"id\":\"d0e88b65-716d-423d-9934-e3f4208c680c\",\"type\":\"LogTicker\"}},\"id\":\"7177d413-1f44-4a17-a160-68dfdfdd01f3\",\"type\":\"Grid\"},{\"attributes\":{},\"id\":\"e210117e-730c-4ccc-afe3-920562daaea6\",\"type\":\"BasicTickFormatter\"},{\"attributes\":{\"source\":{\"id\":\"963c59eb-baef-484e-897f-2a6b554e2105\",\"type\":\"ColumnDataSource\"}},\"id\":\"c6c66569-b960-4a40-9711-076cc83c1d20\",\"type\":\"CDSView\"},{\"attributes\":{},\"id\":\"43bd5066-e8e3-40da-8489-2f4dda284eca\",\"type\":\"BasicTicker\"},{\"attributes\":{},\"id\":\"13c0179f-eb57-4509-aceb-441cbd051adf\",\"type\":\"SaveTool\"},{\"attributes\":{\"ticker\":null},\"id\":\"2df363ae-0516-47bf-8611-4f49c4337c79\",\"type\":\"LogTickFormatter\"},{\"attributes\":{\"label\":{\"value\":\"CLIRAD (single-run)\"},\"renderers\":[{\"id\":\"8938256c-3275-452f-929e-76f3bea0d4ce\",\"type\":\"GlyphRenderer\"}]},\"id\":\"2fabf366-d7c3-446c-87a5-3e3ae7458b42\",\"type\":\"LegendItem\"},{\"attributes\":{\"plot\":null,\"text\":\"\"},\"id\":\"9a207c86-7bee-43ff-8662-f1ad468c13b9\",\"type\":\"Title\"},{\"attributes\":{\"callback\":null,\"data\":{\"x\":{\"__ndarray__\":\"qzamIBmFRUDDHbvJENNCQBesXoZgtEFAgKu2GzcdQEAODBX1KhY8QPeF/li3KjdAd1HmXkTpMUCfufvRLwUqQD4aOhHQSCJAfMerRBueGkBHcwvu+TsVQAK8Qsf+BhJAIoyKp6SWDUConyhKBDMDQAKux8rw7f4/Hvx5hRevBUCO7S2pwEcMQPM+d7F2nxBA9sZ2MafhE0AQUwCvGlMZQOc+p2nGDiFAXHl1+rQFJ0AL54sLZR0oQLMN33hfiSRA0wYTzkMtIUAtwNkIbWQcQAkG/P3RaBhA8WRmuRM9FEA7SFALSe0PQA6DJ6a9aQlAeE6tGGRwBUBKBmdU2bEAQNueLVPqKPU/B1RFrlH75j+hW9uxao7SP8mR0adCQr+/D7Kx8vAW3r+l54Dtc8jXv5+eL9SA0Ws/WRqrVYMFxj/JdBSaPgjZP9ZbJX5I6+w/Bvj1Oy7W9j8vBOSkAfr9P4Rpp8Q/BAFA8ZivozepAUD/a6ZmAn4CQNmCt5mPmgJAunEcyiF5AUA1h8u58vsAQMOef0W65QBAvMKpMOnsAEBu1MpM4P0AQJYYmt8vFwFAt/NjJYRCAUD2Ooq0y34BQP5e12YUzgFAYXYrWJ4gAkAlf27m21ICQDuQzw1IaAJAkQzCp/x1AkAjAKLajH0CQO/L/BfGQQJAeOwWahXhAkAwgqQZlJsCQAHJw4b9UgJAfn4cbLGYAkBbm9KyGE4CQDrl86oxaQJAm4FlO9PwAkBA1ZizJqkDQAPeNWjwfgRA4erpNGWOBUCcUzoxE+4GQDxQ7hFGKA5A\",\"dtype\":\"float64\",\"shape\":[75]},\"y\":{\"__ndarray__\":\"GhExyth1ND/Sv8nbtpRIP2vylNV0PVE/aTum7souWD/At0SJ8fVgPw3Iuahxymc/MSNhhJWvcD/bTfBN02d3P2zb5nxnaoA/CD5h5MAGhz8NmeH1TyaQP+zrCsc9p5Y/LbKd76fGnz/bLW5ISEmmPww9YvTcQq8/JV2OstnstT8Er5Y7M8G+P0c+r3jqkcU/5h99k6ZBzj88bCIzFzjVP4enV8oyxN0//yH99nXg5D8qOpLLf0jtP5kqGJXUifQ/c9cS8kHP/D+/DpwzojQEQIEmwoanVwxA4lgXt9HgE0BSSZ2AJuIbQAMJih9jjiNA5q4l5INuK0AwTKYKRj0zQNv5fmq8/DpAaCJseHrtQkB/+zpwzoxKQM3MzMzMeFJAZmZmZmZqWEAAAAAAAFxeQM3MzMzMJmJAmpmZmZkfZUBmZmZmZhhoQDMzMzMzEWtAAAAAAAAKbkBmZmZmZoFwQM3MzMzM/XFAMzMzMzN6c0CamZmZmfZ0QAAAAAAAc3ZAZmZmZmbvd0DNzMzMzGt5QDMzMzMz6HpAmpmZmZlkfEAAAAAAAOF9QGZmZmZmXX9AZmZmZuZsgECamZmZGSuBQM3MzMxM6YFAAAAAAICngkAzMzMzs2WDQGZmZmbmI4RAmpmZmRnihEDNzMzMTKCFQAAAAACAXoZAMzMzM7Mch0BmZmZm5tqHQJqZmZkZmYhAzczMzExXiUAAAAAAgBWKQDMzMzOz04pAZmZmZuaRi0CamZmZGVCMQM3MzMxMDo1AAAAAAIDMjUAzMzMzs4qOQGZmZmbmSI9A\",\"dtype\":\"float64\",\"shape\":[75]}},\"selected\":{\"id\":\"79e6c730-808c-409a-8583-ac5f378353c3\",\"type\":\"Selection\"},\"selection_policy\":{\"id\":\"f50716a9-5050-4db6-b633-d4b091df3e36\",\"type\":\"UnionRenderers\"}},\"id\":\"1a6807c4-5dfd-464e-8506-4bcf0501527d\",\"type\":\"ColumnDataSource\"},{\"attributes\":{\"label\":{\"value\":\"CRD\"},\"renderers\":[{\"id\":\"271f6252-b2a5-4521-874b-80d9ff4063c7\",\"type\":\"GlyphRenderer\"},{\"id\":\"35e79334-5bbb-43fd-bb41-a395546cbd41\",\"type\":\"GlyphRenderer\"}]},\"id\":\"4d894bbf-3326-4a17-a801-c1d69f7aadf0\",\"type\":\"LegendItem\"},{\"attributes\":{},\"id\":\"ce983494-2315-44e5-8a60-dc363be6da5f\",\"type\":\"UnionRenderers\"},{\"attributes\":{\"bottom_units\":\"screen\",\"fill_alpha\":{\"value\":0.5},\"fill_color\":{\"value\":\"lightgrey\"},\"left_units\":\"screen\",\"level\":\"overlay\",\"line_alpha\":{\"value\":1.0},\"line_color\":{\"value\":\"black\"},\"line_dash\":[4,4],\"line_width\":{\"value\":2},\"plot\":null,\"render_mode\":\"css\",\"right_units\":\"screen\",\"top_units\":\"screen\"},\"id\":\"f8592fed-a922-426a-9fcd-39923d917b56\",\"type\":\"BoxAnnotation\"},{\"attributes\":{\"bottom_units\":\"screen\",\"fill_alpha\":{\"value\":0.5},\"fill_color\":{\"value\":\"lightgrey\"},\"left_units\":\"screen\",\"level\":\"overlay\",\"line_alpha\":{\"value\":1.0},\"line_color\":{\"value\":\"black\"},\"line_dash\":[4,4],\"line_width\":{\"value\":2},\"plot\":null,\"render_mode\":\"css\",\"right_units\":\"screen\",\"top_units\":\"screen\"},\"id\":\"b6990a61-2e91-4cf7-be07-84184edb944a\",\"type\":\"BoxAnnotation\"},{\"attributes\":{},\"id\":\"9a4fe1d3-fe04-4452-b444-8df39deee946\",\"type\":\"UnionRenderers\"},{\"attributes\":{\"tools\":[{\"id\":\"08658981-945b-48a9-b46a-7fb669ecaf5b\",\"type\":\"PanTool\"},{\"id\":\"cf6dc0df-d397-435d-bca5-d6014397392a\",\"type\":\"WheelZoomTool\"},{\"id\":\"f186c899-0aca-4995-9875-a409718cabe2\",\"type\":\"BoxZoomTool\"},{\"id\":\"13c0179f-eb57-4509-aceb-441cbd051adf\",\"type\":\"SaveTool\"},{\"id\":\"d3b77ef9-187c-4edd-9c87-76d64941f30d\",\"type\":\"ResetTool\"},{\"id\":\"b45ba722-6d44-4e5e-9f91-a5c52c6a1675\",\"type\":\"HelpTool\"},{\"id\":\"67c00251-a0d6-48b4-92f7-88ad56f32f27\",\"type\":\"PanTool\"},{\"id\":\"8d2cb63f-c3f1-4d1d-b56c-a1b89755774a\",\"type\":\"WheelZoomTool\"},{\"id\":\"33db9fce-1d60-4293-8dfb-c56fec16c7e5\",\"type\":\"BoxZoomTool\"},{\"id\":\"d3b85897-ca5c-41d0-96ff-c830c4a87d94\",\"type\":\"SaveTool\"},{\"id\":\"7b5b7b4a-4a86-4383-9f55-ea7ea78d517f\",\"type\":\"ResetTool\"},{\"id\":\"d792f424-8ceb-45bb-9bf9-27c64849cb90\",\"type\":\"HelpTool\"},{\"id\":\"2fba699e-8c55-4a79-9556-f0826879aa49\",\"type\":\"PanTool\"},{\"id\":\"4ded305b-710e-4ace-a3aa-13983762493e\",\"type\":\"WheelZoomTool\"},{\"id\":\"267c98f9-c730-41b8-baba-0c1b48483b87\",\"type\":\"BoxZoomTool\"},{\"id\":\"f514de25-a1a1-4b6a-8914-d237dad7b5ac\",\"type\":\"SaveTool\"},{\"id\":\"e34e0c87-e14b-4550-b666-c00fe84b49ae\",\"type\":\"ResetTool\"},{\"id\":\"2589a4f7-c1b1-4da5-a8d8-f1191ba5cee8\",\"type\":\"HelpTool\"}]},\"id\":\"bba9d3ce-6293-44ee-a57b-605b9859eaa6\",\"type\":\"ProxyToolbar\"},{\"attributes\":{\"axis_label\":\"cooling rate [K/day]\",\"formatter\":{\"id\":\"e210117e-730c-4ccc-afe3-920562daaea6\",\"type\":\"BasicTickFormatter\"},\"plot\":{\"id\":\"3b6f0d37-3a98-43e4-bf34-abda8aa0d42d\",\"subtype\":\"Figure\",\"type\":\"Plot\"},\"ticker\":{\"id\":\"0dd21c75-211d-4d4f-87c9-88296da5e56b\",\"type\":\"BasicTicker\"}},\"id\":\"3f21ed58-87d4-49a0-a52c-903b2db43369\",\"type\":\"LinearAxis\"},{\"attributes\":{\"overlay\":{\"id\":\"f8592fed-a922-426a-9fcd-39923d917b56\",\"type\":\"BoxAnnotation\"}},\"id\":\"f186c899-0aca-4995-9875-a409718cabe2\",\"type\":\"BoxZoomTool\"},{\"attributes\":{\"line_alpha\":0.6,\"line_color\":\"#377eb8\",\"line_dash\":[6],\"line_width\":5,\"x\":{\"field\":\"x\"},\"y\":{\"field\":\"y\"}},\"id\":\"eef6c4ee-568f-4229-ac83-ff010bba6d79\",\"type\":\"Line\"},{\"attributes\":{},\"id\":\"f514de25-a1a1-4b6a-8914-d237dad7b5ac\",\"type\":\"SaveTool\"},{\"attributes\":{},\"id\":\"0d1f5dc3-8374-404f-a200-8f116319dddb\",\"type\":\"UnionRenderers\"},{\"attributes\":{\"ticker\":null},\"id\":\"1a3606d5-b9b6-40ef-8080-ef5371fd4165\",\"type\":\"LogTickFormatter\"},{\"attributes\":{},\"id\":\"7b5b7b4a-4a86-4383-9f55-ea7ea78d517f\",\"type\":\"ResetTool\"},{\"attributes\":{},\"id\":\"f50716a9-5050-4db6-b633-d4b091df3e36\",\"type\":\"UnionRenderers\"},{\"attributes\":{\"callback\":null,\"data\":{\"x\":{\"__ndarray__\":\"R/KIaN7AVEClCeJMyPNGQOvRhpxr30JAptxzhxx4PkA7SssMElA4QK6Bp3CyUDNAsVXpjES9LkBFhUV0+5coQMHYwqbbySNA6f09nM3nH0CaSd/3eYoZQDmgiAOW8BNAPYqARh3eDEBkm4vCgvr+P9D+5tWhQfY/P8DwKRnSAkBq38kb17ILQDT7IWuSsxFAUr2Rjm0FFkAinq3s9XgbQGCHwtYcqSFAG64kT303J0C7dRDneyooQD9JYrbK8yRA9S3bneHhIUAIymSuUMMcQIkHLe6VEBdAAau3cITREkA6CiNvkQIPQJU39ki7IQlAaAvwok1UA0BXLQiS4+L7P0xzDpJ2hPI/NNuPGMbJ5z91mUVYxqfSPxqwUPSxZca/G11peifD3L8QzNj5t2jTvwzOozTL360/SPJ4VI1VzD9KJ0nXEIncP8yDdlvHt+4/Et49nYLW9z++2teD4Jn+P+568eH/bwFALf5D9lmAAkCiZAicVOkCQPPT4jNKxwJAOjp3wTzBAUBSQsKNGisBQG4OmjqJwQBAJ3sZoHFuAEA5Ar0Sdi0AQGy4rw5+9f8/7W4nSrC3/z8mPr8zj4T/P4UYRHCQS/8/embVKYcF/z+5YXG+LLP+P/qb8BVUgf4/KvafTtyO/j/avAK1Ppv+PwJV9VVm2P0/JFtYlU/n/D9sN+q2fiX6Pw44e41PNPc/Opt+Z/wN9T+x3vcSW1vzP9ofvWQJlvI/8sciQQBW8j80sfkQa17yPzg5qng2r/I/Oh14WJBh8z+VZjnpctj0P6CcrSuCqQBA\",\"dtype\":\"float64\",\"shape\":[75]},\"y\":{\"__ndarray__\":\"GhExyth1ND/Sv8nbtpRIP2vylNV0PVE/aTum7souWD/At0SJ8fVgPw3Iuahxymc/MSNhhJWvcD/bTfBN02d3P2zb5nxnaoA/CD5h5MAGhz8NmeH1TyaQP+zrCsc9p5Y/LbKd76fGnz/bLW5ISEmmPww9YvTcQq8/JV2OstnstT8Er5Y7M8G+P0c+r3jqkcU/5h99k6ZBzj88bCIzFzjVP4enV8oyxN0//yH99nXg5D8qOpLLf0jtP5kqGJXUifQ/c9cS8kHP/D+/DpwzojQEQIEmwoanVwxA4lgXt9HgE0BSSZ2AJuIbQAMJih9jjiNA5q4l5INuK0AwTKYKRj0zQNv5fmq8/DpAaCJseHrtQkB/+zpwzoxKQM3MzMzMeFJAZmZmZmZqWEAAAAAAAFxeQM3MzMzMJmJAmpmZmZkfZUBmZmZmZhhoQDMzMzMzEWtAAAAAAAAKbkBmZmZmZoFwQM3MzMzM/XFAMzMzMzN6c0CamZmZmfZ0QAAAAAAAc3ZAZmZmZmbvd0DNzMzMzGt5QDMzMzMz6HpAmpmZmZlkfEAAAAAAAOF9QGZmZmZmXX9AZmZmZuZsgECamZmZGSuBQM3MzMxM6YFAAAAAAICngkAzMzMzs2WDQGZmZmbmI4RAmpmZmRnihEDNzMzMTKCFQAAAAACAXoZAMzMzM7Mch0BmZmZm5tqHQJqZmZkZmYhAzczMzExXiUAAAAAAgBWKQDMzMzOz04pAZmZmZuaRi0CamZmZGVCMQM3MzMxMDo1AAAAAAIDMjUAzMzMzs4qOQGZmZmbmSI9A\",\"dtype\":\"float64\",\"shape\":[75]}},\"selected\":{\"id\":\"0f039778-5ab9-46e3-9a8b-e3d1af3ee339\",\"type\":\"Selection\"},\"selection_policy\":{\"id\":\"be04d1af-05cd-40e7-a31e-650723219d2b\",\"type\":\"UnionRenderers\"}},\"id\":\"92089b41-71e1-4e5d-a255-84ef69375192\",\"type\":\"ColumnDataSource\"},{\"attributes\":{},\"id\":\"d3b85897-ca5c-41d0-96ff-c830c4a87d94\",\"type\":\"SaveTool\"},{\"attributes\":{},\"id\":\"4ded305b-710e-4ace-a3aa-13983762493e\",\"type\":\"WheelZoomTool\"},{\"attributes\":{\"plot\":{\"id\":\"3b6f0d37-3a98-43e4-bf34-abda8aa0d42d\",\"subtype\":\"Figure\",\"type\":\"Plot\"},\"ticker\":{\"id\":\"0dd21c75-211d-4d4f-87c9-88296da5e56b\",\"type\":\"BasicTicker\"}},\"id\":\"56488007-7735-4399-a506-64b76f36e8b3\",\"type\":\"Grid\"},{\"attributes\":{\"data_source\":{\"id\":\"978d7601-f599-4db0-8772-4c0c0b99767f\",\"type\":\"ColumnDataSource\"},\"glyph\":{\"id\":\"d42bc019-a6f9-44ed-a67c-ac2277c5999a\",\"type\":\"Circle\"},\"hover_glyph\":null,\"muted_glyph\":null,\"nonselection_glyph\":{\"id\":\"6453f928-ed79-4561-8d3d-6f10b56b9db6\",\"type\":\"Circle\"},\"selection_glyph\":null,\"view\":{\"id\":\"96dde8f3-38f6-47b5-9a23-876a289f6238\",\"type\":\"CDSView\"}},\"id\":\"ceff0aa8-3d56-46ed-ab42-66bb382ec0c8\",\"type\":\"GlyphRenderer\"},{\"attributes\":{},\"id\":\"3aa304f2-bee5-4a77-8139-0542ed87d288\",\"type\":\"BasicTickFormatter\"},{\"attributes\":{\"line_alpha\":0.1,\"line_color\":\"#1f77b4\",\"line_dash\":[6],\"line_width\":5,\"x\":{\"field\":\"x\"},\"y\":{\"field\":\"y\"}},\"id\":\"797827e4-bf98-48f2-96c8-dc0e3c9c5657\",\"type\":\"Line\"},{\"attributes\":{},\"id\":\"e34e0c87-e14b-4550-b666-c00fe84b49ae\",\"type\":\"ResetTool\"},{\"attributes\":{},\"id\":\"334afeec-926d-4871-a566-42eae31aead1\",\"type\":\"Selection\"},{\"attributes\":{\"overlay\":{\"id\":\"8641409f-8af6-499b-9347-42390f1b6a24\",\"type\":\"BoxAnnotation\"}},\"id\":\"33db9fce-1d60-4293-8dfb-c56fec16c7e5\",\"type\":\"BoxZoomTool\"},{\"attributes\":{\"plot\":null,\"text\":\"\"},\"id\":\"fc7ef883-b4ad-4dca-8538-d91219ccbf72\",\"type\":\"Title\"},{\"attributes\":{\"data_source\":{\"id\":\"963c59eb-baef-484e-897f-2a6b554e2105\",\"type\":\"ColumnDataSource\"},\"glyph\":{\"id\":\"dab809ae-3b80-4db6-8efd-9deb408de50a\",\"type\":\"Line\"},\"hover_glyph\":null,\"muted_glyph\":null,\"nonselection_glyph\":{\"id\":\"797827e4-bf98-48f2-96c8-dc0e3c9c5657\",\"type\":\"Line\"},\"selection_glyph\":null,\"view\":{\"id\":\"c6c66569-b960-4a40-9711-076cc83c1d20\",\"type\":\"CDSView\"}},\"id\":\"8938256c-3275-452f-929e-76f3bea0d4ce\",\"type\":\"GlyphRenderer\"},{\"attributes\":{},\"id\":\"a76bfd30-10e0-4b8a-a3fb-c3995d06167a\",\"type\":\"Selection\"},{\"attributes\":{\"axis_label\":\"pressure [mb]\",\"formatter\":{\"id\":\"e6a8cbb3-7eb8-41ee-89ce-eb99a9fc6f88\",\"type\":\"BasicTickFormatter\"},\"plot\":{\"id\":\"3b6f0d37-3a98-43e4-bf34-abda8aa0d42d\",\"subtype\":\"Figure\",\"type\":\"Plot\"},\"ticker\":{\"id\":\"43bd5066-e8e3-40da-8489-2f4dda284eca\",\"type\":\"BasicTicker\"}},\"id\":\"ca995838-2a4d-46eb-9d49-2f1a6b05de1a\",\"type\":\"LinearAxis\"},{\"attributes\":{},\"id\":\"e7a2fd0e-8183-4a6a-9495-edfbbed07143\",\"type\":\"Selection\"},{\"attributes\":{\"callback\":null,\"data\":{\"x\":{\"__ndarray__\":\"5a1rsKP8Q8CGr5sM3oIgwDVdgmKxsALAgaWX/xol/D+TDk5CxzAOQEMiuEIn0A5A8jSNwxBVBECZRWPbRdPmPzjoi1i5EOi/t9lIXskm9b9NWU8nADrxv3lDXsRzmd6/RjxAIewQtz+yjxZHF67dP2JewemdWOE/9t5J3PLn1j+RxIGsMZ2yPyDEq5q7QdG/47LX6DIe4b+bWGrt2S7hvzwPaaPNStO/4l+aVyrkuL8GYB0Jty2av8DjzmDPmsq/M+QE+bmT1r97dsJi6bi3v/fn7/zAg9U/757rivS41j8swKeF81a9P+PeUkyXAKI/iBjqrbPg0D/5fBdbPAPWP39c+QieI8U/iOVQSY3Omb/90z1qpltZv9Ccn4FCEqs/JE+FhJc8lb9UbqDO736xvx/UYCezIqy/tF83+ydAqb8LlKXpkQasv2p/EtXtx6y/ymB+FEYFsL/Q0Xre2/ujv2pahFIH8Kq/T6eMUkrkur+fKH5YjdSqv/uMqBVNXZa/SCCy1r0Gor8ojl376ZOXv+gqyHKFGJI/IOURJOSdrz+LRrpBRw26P+TFI4QNx8E/DMQDBcBqxj8uvqmqQcjLP9iVqnVhQtE/KBkGGtbu1D9Scq45LMrXP/ERuhbwPNk/24uQA3R02T+zDQUBbH/ZP2sLEWiXrNo/lvuqfba14T/qmb34UiPmP+izGABX4+o/wmG6cGYj8D8GWK1S1kDxP5qqKvFZPPI/RDuoNaaL8z9M+TdW4vP0P82CwVeqTvY/h7hbETq79z+jQDt5swP5PzhngcyH/fo/\",\"dtype\":\"float64\",\"shape\":[75]},\"y\":{\"__ndarray__\":\"GhExyth1ND/Sv8nbtpRIP2vylNV0PVE/aTum7souWD/At0SJ8fVgPw3Iuahxymc/MSNhhJWvcD/bTfBN02d3P2zb5nxnaoA/CD5h5MAGhz8NmeH1TyaQP+zrCsc9p5Y/LbKd76fGnz/bLW5ISEmmPww9YvTcQq8/JV2OstnstT8Er5Y7M8G+P0c+r3jqkcU/5h99k6ZBzj88bCIzFzjVP4enV8oyxN0//yH99nXg5D8qOpLLf0jtP5kqGJXUifQ/c9cS8kHP/D+/DpwzojQEQIEmwoanVwxA4lgXt9HgE0BSSZ2AJuIbQAMJih9jjiNA5q4l5INuK0AwTKYKRj0zQNv5fmq8/DpAaCJseHrtQkB/+zpwzoxKQM3MzMzMeFJAZmZmZmZqWEAAAAAAAFxeQM3MzMzMJmJAmpmZmZkfZUBmZmZmZhhoQDMzMzMzEWtAAAAAAAAKbkBmZmZmZoFwQM3MzMzM/XFAMzMzMzN6c0CamZmZmfZ0QAAAAAAAc3ZAZmZmZmbvd0DNzMzMzGt5QDMzMzMz6HpAmpmZmZlkfEAAAAAAAOF9QGZmZmZmXX9AZmZmZuZsgECamZmZGSuBQM3MzMxM6YFAAAAAAICngkAzMzMzs2WDQGZmZmbmI4RAmpmZmRnihEDNzMzMTKCFQAAAAACAXoZAMzMzM7Mch0BmZmZm5tqHQJqZmZkZmYhAzczMzExXiUAAAAAAgBWKQDMzMzOz04pAZmZmZuaRi0CamZmZGVCMQM3MzMxMDo1AAAAAAIDMjUAzMzMzs4qOQGZmZmbmSI9A\",\"dtype\":\"float64\",\"shape\":[75]}},\"selected\":{\"id\":\"317cee24-b040-465a-bbae-8f8bee51a95e\",\"type\":\"Selection\"},\"selection_policy\":{\"id\":\"9a4fe1d3-fe04-4452-b444-8df39deee946\",\"type\":\"UnionRenderers\"}},\"id\":\"60c44434-88b1-4ebe-ab42-e60dd532bf9b\",\"type\":\"ColumnDataSource\"},{\"attributes\":{},\"id\":\"fe6f5ff1-ce7d-41b3-a28c-f196754d7204\",\"type\":\"UnionRenderers\"},{\"attributes\":{},\"id\":\"a084613b-e880-4e76-a624-e18d66c88bc7\",\"type\":\"LinearScale\"},{\"attributes\":{\"line_alpha\":0.6,\"line_color\":\"#377eb8\",\"line_dash\":[6],\"line_width\":5,\"x\":{\"field\":\"x\"},\"y\":{\"field\":\"y\"}},\"id\":\"dab809ae-3b80-4db6-8efd-9deb408de50a\",\"type\":\"Line\"},{\"attributes\":{},\"id\":\"0f039778-5ab9-46e3-9a8b-e3d1af3ee339\",\"type\":\"Selection\"},{\"attributes\":{},\"id\":\"cf6dc0df-d397-435d-bca5-d6014397392a\",\"type\":\"WheelZoomTool\"},{\"attributes\":{\"callback\":null,\"end\":12.208507819497028,\"start\":-0.59568148764003},\"id\":\"db1aff87-07d4-44e5-9e1c-b14fab24a73f\",\"type\":\"Range1d\"},{\"attributes\":{},\"id\":\"e6a8cbb3-7eb8-41ee-89ce-eb99a9fc6f88\",\"type\":\"BasicTickFormatter\"},{\"attributes\":{},\"id\":\"b45ba722-6d44-4e5e-9f91-a5c52c6a1675\",\"type\":\"HelpTool\"},{\"attributes\":{},\"id\":\"d3b77ef9-187c-4edd-9c87-76d64941f30d\",\"type\":\"ResetTool\"},{\"attributes\":{},\"id\":\"2fba699e-8c55-4a79-9556-f0826879aa49\",\"type\":\"PanTool\"},{\"attributes\":{\"children\":[{\"id\":\"ecb2e8bd-5d2a-4e12-b656-8544db69b535\",\"type\":\"ToolbarBox\"},{\"id\":\"d076e730-4bc9-47be-a7ec-8d3bfbc11375\",\"type\":\"Column\"}]},\"id\":\"33d7d2e0-b6e4-4adb-a522-c377b5cf476c\",\"type\":\"Column\"},{\"attributes\":{},\"id\":\"58e2ef4e-52a4-4698-a295-fe7f173f65d3\",\"type\":\"Selection\"},{\"attributes\":{},\"id\":\"79e6c730-808c-409a-8583-ac5f378353c3\",\"type\":\"Selection\"},{\"attributes\":{},\"id\":\"08658981-945b-48a9-b46a-7fb669ecaf5b\",\"type\":\"PanTool\"},{\"attributes\":{\"fill_alpha\":{\"value\":0.1},\"fill_color\":{\"value\":\"#1f77b4\"},\"line_alpha\":{\"value\":0.1},\"line_color\":{\"value\":\"#1f77b4\"},\"x\":{\"field\":\"x\"},\"y\":{\"field\":\"y\"}},\"id\":\"798f4ca6-8279-4177-8f9c-83adfb50964b\",\"type\":\"Circle\"},{\"attributes\":{},\"id\":\"317cee24-b040-465a-bbae-8f8bee51a95e\",\"type\":\"Selection\"},{\"attributes\":{\"overlay\":{\"id\":\"b6990a61-2e91-4cf7-be07-84184edb944a\",\"type\":\"BoxAnnotation\"}},\"id\":\"267c98f9-c730-41b8-baba-0c1b48483b87\",\"type\":\"BoxZoomTool\"},{\"attributes\":{\"source\":{\"id\":\"978d7601-f599-4db0-8772-4c0c0b99767f\",\"type\":\"ColumnDataSource\"}},\"id\":\"96dde8f3-38f6-47b5-9a23-876a289f6238\",\"type\":\"CDSView\"},{\"attributes\":{},\"id\":\"33f8cfb0-cf4e-4eba-858c-4c3c3908b537\",\"type\":\"LinearScale\"},{\"attributes\":{\"callback\":null,\"data\":{\"x\":{\"__ndarray__\":\"qzamIBmFRUDDHbvJENNCQBesXoZgtEFAgKu2GzcdQEAODBX1KhY8QPeF/li3KjdAd1HmXkTpMUCfufvRLwUqQD4aOhHQSCJAfMerRBueGkBHcwvu+TsVQAK8Qsf+BhJAIoyKp6SWDUConyhKBDMDQAKux8rw7f4/Hvx5hRevBUCO7S2pwEcMQPM+d7F2nxBA9sZ2MafhE0AQUwCvGlMZQOc+p2nGDiFAXHl1+rQFJ0AL54sLZR0oQLMN33hfiSRA0wYTzkMtIUAtwNkIbWQcQAkG/P3RaBhA8WRmuRM9FEA7SFALSe0PQA6DJ6a9aQlAeE6tGGRwBUBKBmdU2bEAQNueLVPqKPU/B1RFrlH75j+hW9uxao7SP8mR0adCQr+/D7Kx8vAW3r+l54Dtc8jXv5+eL9SA0Ws/WRqrVYMFxj/JdBSaPgjZP9ZbJX5I6+w/Bvj1Oy7W9j8vBOSkAfr9P4Rpp8Q/BAFA8ZivozepAUD/a6ZmAn4CQNmCt5mPmgJAunEcyiF5AUA1h8u58vsAQMOef0W65QBAvMKpMOnsAEBu1MpM4P0AQJYYmt8vFwFAt/NjJYRCAUD2Ooq0y34BQP5e12YUzgFAYXYrWJ4gAkAlf27m21ICQDuQzw1IaAJAkQzCp/x1AkAjAKLajH0CQO/L/BfGQQJAeOwWahXhAkAwgqQZlJsCQAHJw4b9UgJAfn4cbLGYAkBbm9KyGE4CQDrl86oxaQJAm4FlO9PwAkBA1ZizJqkDQAPeNWjwfgRA4erpNGWOBUCcUzoxE+4GQDxQ7hFGKA5A\",\"dtype\":\"float64\",\"shape\":[75]},\"y\":{\"__ndarray__\":\"GhExyth1ND/Sv8nbtpRIP2vylNV0PVE/aTum7souWD/At0SJ8fVgPw3Iuahxymc/MSNhhJWvcD/bTfBN02d3P2zb5nxnaoA/CD5h5MAGhz8NmeH1TyaQP+zrCsc9p5Y/LbKd76fGnz/bLW5ISEmmPww9YvTcQq8/JV2OstnstT8Er5Y7M8G+P0c+r3jqkcU/5h99k6ZBzj88bCIzFzjVP4enV8oyxN0//yH99nXg5D8qOpLLf0jtP5kqGJXUifQ/c9cS8kHP/D+/DpwzojQEQIEmwoanVwxA4lgXt9HgE0BSSZ2AJuIbQAMJih9jjiNA5q4l5INuK0AwTKYKRj0zQNv5fmq8/DpAaCJseHrtQkB/+zpwzoxKQM3MzMzMeFJAZmZmZmZqWEAAAAAAAFxeQM3MzMzMJmJAmpmZmZkfZUBmZmZmZhhoQDMzMzMzEWtAAAAAAAAKbkBmZmZmZoFwQM3MzMzM/XFAMzMzMzN6c0CamZmZmfZ0QAAAAAAAc3ZAZmZmZmbvd0DNzMzMzGt5QDMzMzMz6HpAmpmZmZlkfEAAAAAAAOF9QGZmZmZmXX9AZmZmZuZsgECamZmZGSuBQM3MzMxM6YFAAAAAAICngkAzMzMzs2WDQGZmZmbmI4RAmpmZmRnihEDNzMzMTKCFQAAAAACAXoZAMzMzM7Mch0BmZmZm5tqHQJqZmZkZmYhAzczMzExXiUAAAAAAgBWKQDMzMzOz04pAZmZmZuaRi0CamZmZGVCMQM3MzMxMDo1AAAAAAIDMjUAzMzMzs4qOQGZmZmbmSI9A\",\"dtype\":\"float64\",\"shape\":[75]}},\"selected\":{\"id\":\"203a6583-aadb-476f-b73d-00debade4b80\",\"type\":\"Selection\"},\"selection_policy\":{\"id\":\"ce983494-2315-44e5-8a60-dc363be6da5f\",\"type\":\"UnionRenderers\"}},\"id\":\"963c59eb-baef-484e-897f-2a6b554e2105\",\"type\":\"ColumnDataSource\"},{\"attributes\":{},\"id\":\"f43f3884-d1cc-4c0c-952f-1b574d71297b\",\"type\":\"BasicTickFormatter\"},{\"attributes\":{\"source\":{\"id\":\"92089b41-71e1-4e5d-a255-84ef69375192\",\"type\":\"ColumnDataSource\"}},\"id\":\"284692c6-064e-4e8c-8e40-f88d806cc902\",\"type\":\"CDSView\"},{\"attributes\":{\"fill_alpha\":{\"value\":0.7},\"fill_color\":{\"value\":\"#984ea3\"},\"line_alpha\":{\"value\":0.7},\"line_color\":{\"value\":\"#984ea3\"},\"x\":{\"field\":\"x\"},\"y\":{\"field\":\"y\"}},\"id\":\"d42bc019-a6f9-44ed-a67c-ac2277c5999a\",\"type\":\"Circle\"},{\"attributes\":{},\"id\":\"be04d1af-05cd-40e7-a31e-650723219d2b\",\"type\":\"UnionRenderers\"},{\"attributes\":{},\"id\":\"d792f424-8ceb-45bb-9bf9-27c64849cb90\",\"type\":\"HelpTool\"},{\"attributes\":{\"callback\":null,\"data\":{\"x\":{\"__ndarray__\":\"5a1rsKP8Q8CGr5sM3oIgwDVdgmKxsALAgaWX/xol/D+TDk5CxzAOQEMiuEIn0A5A8jSNwxBVBECZRWPbRdPmPzjoi1i5EOi/t9lIXskm9b9NWU8nADrxv3lDXsRzmd6/RjxAIewQtz+yjxZHF67dP2JewemdWOE/9t5J3PLn1j+RxIGsMZ2yPyDEq5q7QdG/47LX6DIe4b+bWGrt2S7hvzwPaaPNStO/4l+aVyrkuL8GYB0Jty2av8DjzmDPmsq/M+QE+bmT1r97dsJi6bi3v/fn7/zAg9U/757rivS41j8swKeF81a9P+PeUkyXAKI/iBjqrbPg0D/5fBdbPAPWP39c+QieI8U/iOVQSY3Omb/90z1qpltZv9Ccn4FCEqs/JE+FhJc8lb9UbqDO736xvx/UYCezIqy/tF83+ydAqb8LlKXpkQasv2p/EtXtx6y/ymB+FEYFsL/Q0Xre2/ujv2pahFIH8Kq/T6eMUkrkur+fKH5YjdSqv/uMqBVNXZa/SCCy1r0Gor8ojl376ZOXv+gqyHKFGJI/IOURJOSdrz+LRrpBRw26P+TFI4QNx8E/DMQDBcBqxj8uvqmqQcjLP9iVqnVhQtE/KBkGGtbu1D9Scq45LMrXP/ERuhbwPNk/24uQA3R02T+zDQUBbH/ZP2sLEWiXrNo/lvuqfba14T/qmb34UiPmP+izGABX4+o/wmG6cGYj8D8GWK1S1kDxP5qqKvFZPPI/RDuoNaaL8z9M+TdW4vP0P82CwVeqTvY/h7hbETq79z+jQDt5swP5PzhngcyH/fo/\",\"dtype\":\"float64\",\"shape\":[75]},\"y\":{\"__ndarray__\":\"GhExyth1ND/Sv8nbtpRIP2vylNV0PVE/aTum7souWD/At0SJ8fVgPw3Iuahxymc/MSNhhJWvcD/bTfBN02d3P2zb5nxnaoA/CD5h5MAGhz8NmeH1TyaQP+zrCsc9p5Y/LbKd76fGnz/bLW5ISEmmPww9YvTcQq8/JV2OstnstT8Er5Y7M8G+P0c+r3jqkcU/5h99k6ZBzj88bCIzFzjVP4enV8oyxN0//yH99nXg5D8qOpLLf0jtP5kqGJXUifQ/c9cS8kHP/D+/DpwzojQEQIEmwoanVwxA4lgXt9HgE0BSSZ2AJuIbQAMJih9jjiNA5q4l5INuK0AwTKYKRj0zQNv5fmq8/DpAaCJseHrtQkB/+zpwzoxKQM3MzMzMeFJAZmZmZmZqWEAAAAAAAFxeQM3MzMzMJmJAmpmZmZkfZUBmZmZmZhhoQDMzMzMzEWtAAAAAAAAKbkBmZmZmZoFwQM3MzMzM/XFAMzMzMzN6c0CamZmZmfZ0QAAAAAAAc3ZAZmZmZmbvd0DNzMzMzGt5QDMzMzMz6HpAmpmZmZlkfEAAAAAAAOF9QGZmZmZmXX9AZmZmZuZsgECamZmZGSuBQM3MzMxM6YFAAAAAAICngkAzMzMzs2WDQGZmZmbmI4RAmpmZmRnihEDNzMzMTKCFQAAAAACAXoZAMzMzM7Mch0BmZmZm5tqHQJqZmZkZmYhAzczMzExXiUAAAAAAgBWKQDMzMzOz04pAZmZmZuaRi0CamZmZGVCMQM3MzMxMDo1AAAAAAIDMjUAzMzMzs4qOQGZmZmbmSI9A\",\"dtype\":\"float64\",\"shape\":[75]}},\"selected\":{\"id\":\"58e2ef4e-52a4-4698-a295-fe7f173f65d3\",\"type\":\"Selection\"},\"selection_policy\":{\"id\":\"0d1f5dc3-8374-404f-a200-8f116319dddb\",\"type\":\"UnionRenderers\"}},\"id\":\"978d7601-f599-4db0-8772-4c0c0b99767f\",\"type\":\"ColumnDataSource\"},{\"attributes\":{},\"id\":\"0dd21c75-211d-4d4f-87c9-88296da5e56b\",\"type\":\"BasicTicker\"},{\"attributes\":{\"dimension\":1,\"plot\":{\"id\":\"3b6f0d37-3a98-43e4-bf34-abda8aa0d42d\",\"subtype\":\"Figure\",\"type\":\"Plot\"},\"ticker\":{\"id\":\"43bd5066-e8e3-40da-8489-2f4dda284eca\",\"type\":\"BasicTicker\"}},\"id\":\"b1707ae2-af9e-4568-8f6e-8adf766d438e\",\"type\":\"Grid\"},{\"attributes\":{},\"id\":\"34ea29c5-aca7-46e8-ba3b-6891214d6bf3\",\"type\":\"UnionRenderers\"},{\"attributes\":{\"plot\":null,\"text\":\"\"},\"id\":\"6e315a6f-644f-43ef-b9bd-e03bb08037be\",\"type\":\"Title\"},{\"attributes\":{\"data_source\":{\"id\":\"92089b41-71e1-4e5d-a255-84ef69375192\",\"type\":\"ColumnDataSource\"},\"glyph\":{\"id\":\"b2e1bd35-b66b-4401-90e7-555971210145\",\"type\":\"Circle\"},\"hover_glyph\":null,\"muted_glyph\":null,\"nonselection_glyph\":{\"id\":\"798f4ca6-8279-4177-8f9c-83adfb50964b\",\"type\":\"Circle\"},\"selection_glyph\":null,\"view\":{\"id\":\"284692c6-064e-4e8c-8e40-f88d806cc902\",\"type\":\"CDSView\"}},\"id\":\"271f6252-b2a5-4521-874b-80d9ff4063c7\",\"type\":\"GlyphRenderer\"},{\"attributes\":{},\"id\":\"2589a4f7-c1b1-4da5-a8d8-f1191ba5cee8\",\"type\":\"HelpTool\"},{\"attributes\":{\"fill_alpha\":{\"value\":0.7},\"fill_color\":{\"value\":\"#4daf4a\"},\"line_alpha\":{\"value\":0.7},\"line_color\":{\"value\":\"#4daf4a\"},\"x\":{\"field\":\"x\"},\"y\":{\"field\":\"y\"}},\"id\":\"b2e1bd35-b66b-4401-90e7-555971210145\",\"type\":\"Circle\"},{\"attributes\":{\"bottom_units\":\"screen\",\"fill_alpha\":{\"value\":0.5},\"fill_color\":{\"value\":\"lightgrey\"},\"left_units\":\"screen\",\"level\":\"overlay\",\"line_alpha\":{\"value\":1.0},\"line_color\":{\"value\":\"black\"},\"line_dash\":[4,4],\"line_width\":{\"value\":2},\"plot\":null,\"render_mode\":\"css\",\"right_units\":\"screen\",\"top_units\":\"screen\"},\"id\":\"8641409f-8af6-499b-9347-42390f1b6a24\",\"type\":\"BoxAnnotation\"},{\"attributes\":{},\"id\":\"1c9fce5d-d4c0-4281-bbdb-322ded4be385\",\"type\":\"UnionRenderers\"},{\"attributes\":{\"toolbar\":{\"id\":\"bba9d3ce-6293-44ee-a57b-605b9859eaa6\",\"type\":\"ProxyToolbar\"},\"toolbar_location\":\"above\"},\"id\":\"ecb2e8bd-5d2a-4e12-b656-8544db69b535\",\"type\":\"ToolbarBox\"},{\"attributes\":{\"source\":{\"id\":\"fb04bc91-afd2-48ef-9e40-c1248d483603\",\"type\":\"ColumnDataSource\"}},\"id\":\"f016aa0b-2f4c-43bf-8e9f-faa2e8168d5c\",\"type\":\"CDSView\"},{\"attributes\":{\"label\":{\"value\":\"CLIRAD (single-run) - CRD\"},\"renderers\":[{\"id\":\"ceff0aa8-3d56-46ed-ab42-66bb382ec0c8\",\"type\":\"GlyphRenderer\"},{\"id\":\"91b403f7-34ef-473e-a78c-bb91a38dede0\",\"type\":\"GlyphRenderer\"}]},\"id\":\"12c44043-8c4a-4518-97fa-f855de93a166\",\"type\":\"LegendItem\"},{\"attributes\":{\"callback\":null,\"end\":0.01,\"start\":1020},\"id\":\"b51bb90a-0404-480e-828f-9ccc677c0903\",\"type\":\"Range1d\"},{\"attributes\":{\"line_alpha\":0.1,\"line_color\":\"#1f77b4\",\"line_dash\":[6],\"line_width\":5,\"x\":{\"field\":\"x\"},\"y\":{\"field\":\"y\"}},\"id\":\"2e464302-ef28-43e6-96fe-f897aef6cf26\",\"type\":\"Line\"},{\"attributes\":{\"data_source\":{\"id\":\"1a6807c4-5dfd-464e-8506-4bcf0501527d\",\"type\":\"ColumnDataSource\"},\"glyph\":{\"id\":\"eef6c4ee-568f-4229-ac83-ff010bba6d79\",\"type\":\"Line\"},\"hover_glyph\":null,\"muted_glyph\":null,\"nonselection_glyph\":{\"id\":\"2e464302-ef28-43e6-96fe-f897aef6cf26\",\"type\":\"Line\"},\"selection_glyph\":null,\"view\":{\"id\":\"89705195-28b7-4215-8f33-1bf1f6f623fb\",\"type\":\"CDSView\"}},\"id\":\"e75b8c69-2a6e-4d32-b584-95e80de7a2b5\",\"type\":\"GlyphRenderer\"},{\"attributes\":{\"items\":[{\"id\":\"c00e0bea-5a48-4498-b3b4-ddd531945be5\",\"type\":\"LegendItem\"},{\"id\":\"f90c34cb-1a2d-4917-a644-78a236157149\",\"type\":\"LegendItem\"}],\"label_text_font_size\":{\"value\":\"8pt\"},\"location\":\"top_center\",\"orientation\":\"horizontal\",\"plot\":{\"id\":\"3b6f0d37-3a98-43e4-bf34-abda8aa0d42d\",\"subtype\":\"Figure\",\"type\":\"Plot\"}},\"id\":\"c91f217c-ee84-40dd-95a2-34cc33f84d47\",\"type\":\"Legend\"},{\"attributes\":{\"callback\":null,\"end\":3.8120630491792302,\"start\":-0.5125483711022301},\"id\":\"040c3f1e-1c6a-4dc3-ba3c-5220e14bd0bb\",\"type\":\"Range1d\"},{\"attributes\":{\"active_drag\":\"auto\",\"active_inspect\":\"auto\",\"active_scroll\":\"auto\",\"active_tap\":\"auto\",\"tools\":[{\"id\":\"08658981-945b-48a9-b46a-7fb669ecaf5b\",\"type\":\"PanTool\"},{\"id\":\"cf6dc0df-d397-435d-bca5-d6014397392a\",\"type\":\"WheelZoomTool\"},{\"id\":\"f186c899-0aca-4995-9875-a409718cabe2\",\"type\":\"BoxZoomTool\"},{\"id\":\"13c0179f-eb57-4509-aceb-441cbd051adf\",\"type\":\"SaveTool\"},{\"id\":\"d3b77ef9-187c-4edd-9c87-76d64941f30d\",\"type\":\"ResetTool\"},{\"id\":\"b45ba722-6d44-4e5e-9f91-a5c52c6a1675\",\"type\":\"HelpTool\"}]},\"id\":\"9283599d-182e-49da-99b1-0ab6e9b37a74\",\"type\":\"Toolbar\"},{\"attributes\":{\"data_source\":{\"id\":\"60c44434-88b1-4ebe-ab42-e60dd532bf9b\",\"type\":\"ColumnDataSource\"},\"glyph\":{\"id\":\"6650c4c1-d3b9-41a1-a5f7-08f481de3f68\",\"type\":\"Line\"},\"hover_glyph\":null,\"muted_glyph\":null,\"nonselection_glyph\":{\"id\":\"4146686f-d6a3-4a06-904c-60d273724404\",\"type\":\"Line\"},\"selection_glyph\":null,\"view\":{\"id\":\"0654841f-17db-4727-897d-e1b23d6b8c01\",\"type\":\"CDSView\"}},\"id\":\"91b403f7-34ef-473e-a78c-bb91a38dede0\",\"type\":\"GlyphRenderer\"},{\"attributes\":{\"num_minor_ticks\":10},\"id\":\"31f6e929-afac-438d-89fd-43e6856526ae\",\"type\":\"LogTicker\"},{\"attributes\":{\"data_source\":{\"id\":\"b57f4c7f-47bb-4069-9d21-f8c888ba7670\",\"type\":\"ColumnDataSource\"},\"glyph\":{\"id\":\"87972736-2315-4d88-a981-3b5951c4e40a\",\"type\":\"Line\"},\"hover_glyph\":null,\"muted_glyph\":null,\"nonselection_glyph\":{\"id\":\"71a43f3b-3107-4754-bb3f-fbc38828e4c7\",\"type\":\"Line\"},\"selection_glyph\":null,\"view\":{\"id\":\"357c0584-d98c-43d7-8a01-8c7754189b34\",\"type\":\"CDSView\"}},\"id\":\"ca7aa846-30c2-4056-a059-cb6356844807\",\"type\":\"GlyphRenderer\"},{\"attributes\":{\"fill_alpha\":{\"value\":0.7},\"fill_color\":{\"value\":\"#4daf4a\"},\"line_alpha\":{\"value\":0.7},\"line_color\":{\"value\":\"#4daf4a\"},\"x\":{\"field\":\"x\"},\"y\":{\"field\":\"y\"}},\"id\":\"33f585ac-5987-4af2-8df5-ce0d94fd5db4\",\"type\":\"Circle\"},{\"attributes\":{\"callback\":null,\"data\":{\"x\":{\"__ndarray__\":\"R/KIaN7AVEClCeJMyPNGQOvRhpxr30JAptxzhxx4PkA7SssMElA4QK6Bp3CyUDNAsVXpjES9LkBFhUV0+5coQMHYwqbbySNA6f09nM3nH0CaSd/3eYoZQDmgiAOW8BNAPYqARh3eDEBkm4vCgvr+P9D+5tWhQfY/P8DwKRnSAkBq38kb17ILQDT7IWuSsxFAUr2Rjm0FFkAinq3s9XgbQGCHwtYcqSFAG64kT303J0C7dRDneyooQD9JYrbK8yRA9S3bneHhIUAIymSuUMMcQIkHLe6VEBdAAau3cITREkA6CiNvkQIPQJU39ki7IQlAaAvwok1UA0BXLQiS4+L7P0xzDpJ2hPI/NNuPGMbJ5z91mUVYxqfSPxqwUPSxZca/G11peifD3L8QzNj5t2jTvwzOozTL360/SPJ4VI1VzD9KJ0nXEIncP8yDdlvHt+4/Et49nYLW9z++2teD4Jn+P+568eH/bwFALf5D9lmAAkCiZAicVOkCQPPT4jNKxwJAOjp3wTzBAUBSQsKNGisBQG4OmjqJwQBAJ3sZoHFuAEA5Ar0Sdi0AQGy4rw5+9f8/7W4nSrC3/z8mPr8zj4T/P4UYRHCQS/8/embVKYcF/z+5YXG+LLP+P/qb8BVUgf4/KvafTtyO/j/avAK1Ppv+PwJV9VVm2P0/JFtYlU/n/D9sN+q2fiX6Pw44e41PNPc/Opt+Z/wN9T+x3vcSW1vzP9ofvWQJlvI/8sciQQBW8j80sfkQa17yPzg5qng2r/I/Oh14WJBh8z+VZjnpctj0P6CcrSuCqQBA\",\"dtype\":\"float64\",\"shape\":[75]},\"y\":{\"__ndarray__\":\"GhExyth1ND/Sv8nbtpRIP2vylNV0PVE/aTum7souWD/At0SJ8fVgPw3Iuahxymc/MSNhhJWvcD/bTfBN02d3P2zb5nxnaoA/CD5h5MAGhz8NmeH1TyaQP+zrCsc9p5Y/LbKd76fGnz/bLW5ISEmmPww9YvTcQq8/JV2OstnstT8Er5Y7M8G+P0c+r3jqkcU/5h99k6ZBzj88bCIzFzjVP4enV8oyxN0//yH99nXg5D8qOpLLf0jtP5kqGJXUifQ/c9cS8kHP/D+/DpwzojQEQIEmwoanVwxA4lgXt9HgE0BSSZ2AJuIbQAMJih9jjiNA5q4l5INuK0AwTKYKRj0zQNv5fmq8/DpAaCJseHrtQkB/+zpwzoxKQM3MzMzMeFJAZmZmZmZqWEAAAAAAAFxeQM3MzMzMJmJAmpmZmZkfZUBmZmZmZhhoQDMzMzMzEWtAAAAAAAAKbkBmZmZmZoFwQM3MzMzM/XFAMzMzMzN6c0CamZmZmfZ0QAAAAAAAc3ZAZmZmZmbvd0DNzMzMzGt5QDMzMzMz6HpAmpmZmZlkfEAAAAAAAOF9QGZmZmZmXX9AZmZmZuZsgECamZmZGSuBQM3MzMxM6YFAAAAAAICngkAzMzMzs2WDQGZmZmbmI4RAmpmZmRnihEDNzMzMTKCFQAAAAACAXoZAMzMzM7Mch0BmZmZm5tqHQJqZmZkZmYhAzczMzExXiUAAAAAAgBWKQDMzMzOz04pAZmZmZuaRi0CamZmZGVCMQM3MzMxMDo1AAAAAAIDMjUAzMzMzs4qOQGZmZmbmSI9A\",\"dtype\":\"float64\",\"shape\":[75]}},\"selected\":{\"id\":\"334afeec-926d-4871-a566-42eae31aead1\",\"type\":\"Selection\"},\"selection_policy\":{\"id\":\"1c9fce5d-d4c0-4281-bbdb-322ded4be385\",\"type\":\"UnionRenderers\"}},\"id\":\"c6986b2c-7649-4791-b810-197896bf419f\",\"type\":\"ColumnDataSource\"},{\"attributes\":{\"line_alpha\":0.8,\"line_color\":\"#984ea3\",\"line_width\":1.5,\"x\":{\"field\":\"x\"},\"y\":{\"field\":\"y\"}},\"id\":\"6650c4c1-d3b9-41a1-a5f7-08f481de3f68\",\"type\":\"Line\"},{\"attributes\":{\"items\":[{\"id\":\"12c44043-8c4a-4518-97fa-f855de93a166\",\"type\":\"LegendItem\"}],\"label_text_font_size\":{\"value\":\"8pt\"},\"location\":\"top_center\",\"orientation\":\"horizontal\",\"plot\":{\"id\":\"efd23a26-722f-4f10-bcf8-7bfcdb8b8835\",\"subtype\":\"Figure\",\"type\":\"Plot\"}},\"id\":\"77ad3b54-1639-4ab8-94d1-8b27eb8830fb\",\"type\":\"Legend\"},{\"attributes\":{\"source\":{\"id\":\"b57f4c7f-47bb-4069-9d21-f8c888ba7670\",\"type\":\"ColumnDataSource\"}},\"id\":\"357c0584-d98c-43d7-8a01-8c7754189b34\",\"type\":\"CDSView\"},{\"attributes\":{\"axis_label\":\"pressure [mb]\",\"formatter\":{\"id\":\"1a3606d5-b9b6-40ef-8080-ef5371fd4165\",\"type\":\"LogTickFormatter\"},\"plot\":{\"id\":\"5ee7b158-9d9f-4743-9d6c-c856d93aa98c\",\"subtype\":\"Figure\",\"type\":\"Plot\"},\"ticker\":{\"id\":\"31f6e929-afac-438d-89fd-43e6856526ae\",\"type\":\"LogTicker\"}},\"id\":\"892b5b49-42ac-4181-a505-93a90222db19\",\"type\":\"LogAxis\"},{\"attributes\":{\"items\":[{\"id\":\"2fabf366-d7c3-446c-87a5-3e3ae7458b42\",\"type\":\"LegendItem\"},{\"id\":\"4d894bbf-3326-4a17-a801-c1d69f7aadf0\",\"type\":\"LegendItem\"}],\"label_text_font_size\":{\"value\":\"8pt\"},\"location\":\"top_center\",\"orientation\":\"horizontal\",\"plot\":{\"id\":\"5ee7b158-9d9f-4743-9d6c-c856d93aa98c\",\"subtype\":\"Figure\",\"type\":\"Plot\"}},\"id\":\"9416ea29-0ba5-4f6d-9419-7c574558eaa0\",\"type\":\"Legend\"},{\"attributes\":{},\"id\":\"bec6be53-b929-4309-b17c-610e1878ca41\",\"type\":\"LinearScale\"},{\"attributes\":{\"callback\":null,\"end\":0.01,\"start\":1020},\"id\":\"5bcc51c9-5d6a-4c7f-9f4f-f92e96e10259\",\"type\":\"Range1d\"},{\"attributes\":{\"callback\":null,\"end\":0.01,\"start\":1020},\"id\":\"cca4b996-e05f-46ec-8d8a-b439fdd4bb1c\",\"type\":\"Range1d\"},{\"attributes\":{\"fill_alpha\":{\"value\":0.1},\"fill_color\":{\"value\":\"#1f77b4\"},\"line_alpha\":{\"value\":0.1},\"line_color\":{\"value\":\"#1f77b4\"},\"x\":{\"field\":\"x\"},\"y\":{\"field\":\"y\"}},\"id\":\"04b99ef9-38dc-41c3-bbd0-0cc0749d8671\",\"type\":\"Circle\"},{\"attributes\":{\"data_source\":{\"id\":\"c6986b2c-7649-4791-b810-197896bf419f\",\"type\":\"ColumnDataSource\"},\"glyph\":{\"id\":\"33f585ac-5987-4af2-8df5-ce0d94fd5db4\",\"type\":\"Circle\"},\"hover_glyph\":null,\"muted_glyph\":null,\"nonselection_glyph\":{\"id\":\"04b99ef9-38dc-41c3-bbd0-0cc0749d8671\",\"type\":\"Circle\"},\"selection_glyph\":null,\"view\":{\"id\":\"3fc7b970-c4c9-473d-9745-cd557b260a61\",\"type\":\"CDSView\"}},\"id\":\"9b1e2fba-a6db-47f7-82ea-67dc9eab919c\",\"type\":\"GlyphRenderer\"},{\"attributes\":{\"axis_label\":\"pressure [mb]\",\"formatter\":{\"id\":\"2df363ae-0516-47bf-8611-4f49c4337c79\",\"type\":\"LogTickFormatter\"},\"plot\":{\"id\":\"efd23a26-722f-4f10-bcf8-7bfcdb8b8835\",\"subtype\":\"Figure\",\"type\":\"Plot\"},\"ticker\":{\"id\":\"d0e88b65-716d-423d-9934-e3f4208c680c\",\"type\":\"LogTicker\"}},\"id\":\"7024012b-b925-4cee-8c9b-3323a685633f\",\"type\":\"LogAxis\"},{\"attributes\":{\"label\":{\"value\":\"CLIRAD (single-run)\"},\"renderers\":[{\"id\":\"e75b8c69-2a6e-4d32-b584-95e80de7a2b5\",\"type\":\"GlyphRenderer\"}]},\"id\":\"c00e0bea-5a48-4498-b3b4-ddd531945be5\",\"type\":\"LegendItem\"},{\"attributes\":{\"plot\":{\"id\":\"5ee7b158-9d9f-4743-9d6c-c856d93aa98c\",\"subtype\":\"Figure\",\"type\":\"Plot\"},\"ticker\":{\"id\":\"2ea2bd87-a28a-4525-9ae1-c0334c8b2d13\",\"type\":\"BasicTicker\"}},\"id\":\"0df6e488-c5b9-41a5-be0c-c52d53605fc7\",\"type\":\"Grid\"},{\"attributes\":{\"axis_label\":\"cooling rate [K/day]\",\"formatter\":{\"id\":\"f43f3884-d1cc-4c0c-952f-1b574d71297b\",\"type\":\"BasicTickFormatter\"},\"plot\":{\"id\":\"efd23a26-722f-4f10-bcf8-7bfcdb8b8835\",\"subtype\":\"Figure\",\"type\":\"Plot\"},\"ticker\":{\"id\":\"a07fc34a-e5d1-4c1d-b7e3-2382e88e401c\",\"type\":\"BasicTicker\"}},\"id\":\"347df3d6-2001-454b-b5b8-aaa120e56846\",\"type\":\"LinearAxis\"},{\"attributes\":{\"label\":{\"value\":\"CRD\"},\"renderers\":[{\"id\":\"9b1e2fba-a6db-47f7-82ea-67dc9eab919c\",\"type\":\"GlyphRenderer\"},{\"id\":\"ca7aa846-30c2-4056-a059-cb6356844807\",\"type\":\"GlyphRenderer\"}]},\"id\":\"f90c34cb-1a2d-4917-a644-78a236157149\",\"type\":\"LegendItem\"},{\"attributes\":{},\"id\":\"67c00251-a0d6-48b4-92f7-88ad56f32f27\",\"type\":\"PanTool\"},{\"attributes\":{\"active_drag\":\"auto\",\"active_inspect\":\"auto\",\"active_scroll\":\"auto\",\"active_tap\":\"auto\",\"tools\":[{\"id\":\"2fba699e-8c55-4a79-9556-f0826879aa49\",\"type\":\"PanTool\"},{\"id\":\"4ded305b-710e-4ace-a3aa-13983762493e\",\"type\":\"WheelZoomTool\"},{\"id\":\"267c98f9-c730-41b8-baba-0c1b48483b87\",\"type\":\"BoxZoomTool\"},{\"id\":\"f514de25-a1a1-4b6a-8914-d237dad7b5ac\",\"type\":\"SaveTool\"},{\"id\":\"e34e0c87-e14b-4550-b666-c00fe84b49ae\",\"type\":\"ResetTool\"},{\"id\":\"2589a4f7-c1b1-4da5-a8d8-f1191ba5cee8\",\"type\":\"HelpTool\"}]},\"id\":\"7e62aa57-805d-4e64-a2d2-4a56e9f2804b\",\"type\":\"Toolbar\"},{\"attributes\":{\"line_color\":\"#4daf4a\",\"line_width\":1.5,\"x\":{\"field\":\"x\"},\"y\":{\"field\":\"y\"}},\"id\":\"87972736-2315-4d88-a981-3b5951c4e40a\",\"type\":\"Line\"},{\"attributes\":{\"active_drag\":\"auto\",\"active_inspect\":\"auto\",\"active_scroll\":\"auto\",\"active_tap\":\"auto\",\"tools\":[{\"id\":\"67c00251-a0d6-48b4-92f7-88ad56f32f27\",\"type\":\"PanTool\"},{\"id\":\"8d2cb63f-c3f1-4d1d-b56c-a1b89755774a\",\"type\":\"WheelZoomTool\"},{\"id\":\"33db9fce-1d60-4293-8dfb-c56fec16c7e5\",\"type\":\"BoxZoomTool\"},{\"id\":\"d3b85897-ca5c-41d0-96ff-c830c4a87d94\",\"type\":\"SaveTool\"},{\"id\":\"7b5b7b4a-4a86-4383-9f55-ea7ea78d517f\",\"type\":\"ResetTool\"},{\"id\":\"d792f424-8ceb-45bb-9bf9-27c64849cb90\",\"type\":\"HelpTool\"}]},\"id\":\"d5264abd-07a3-431b-b1f1-e01774f1f196\",\"type\":\"Toolbar\"},{\"attributes\":{},\"id\":\"013c1ec0-479e-4c8b-ae14-978625b8ae08\",\"type\":\"LogScale\"},{\"attributes\":{\"children\":[{\"id\":\"3b6f0d37-3a98-43e4-bf34-abda8aa0d42d\",\"subtype\":\"Figure\",\"type\":\"Plot\"},{\"id\":\"5ee7b158-9d9f-4743-9d6c-c856d93aa98c\",\"subtype\":\"Figure\",\"type\":\"Plot\"},{\"id\":\"efd23a26-722f-4f10-bcf8-7bfcdb8b8835\",\"subtype\":\"Figure\",\"type\":\"Plot\"}]},\"id\":\"2dcf082a-2928-4e46-8b5a-218a559d314d\",\"type\":\"Row\"},{\"attributes\":{\"line_alpha\":0.1,\"line_color\":\"#1f77b4\",\"line_width\":1.5,\"x\":{\"field\":\"x\"},\"y\":{\"field\":\"y\"}},\"id\":\"71a43f3b-3107-4754-bb3f-fbc38828e4c7\",\"type\":\"Line\"},{\"attributes\":{\"source\":{\"id\":\"60c44434-88b1-4ebe-ab42-e60dd532bf9b\",\"type\":\"ColumnDataSource\"}},\"id\":\"0654841f-17db-4727-897d-e1b23d6b8c01\",\"type\":\"CDSView\"},{\"attributes\":{\"axis_label\":\"cooling rate [K/day]\",\"formatter\":{\"id\":\"3aa304f2-bee5-4a77-8139-0542ed87d288\",\"type\":\"BasicTickFormatter\"},\"plot\":{\"id\":\"5ee7b158-9d9f-4743-9d6c-c856d93aa98c\",\"subtype\":\"Figure\",\"type\":\"Plot\"},\"ticker\":{\"id\":\"2ea2bd87-a28a-4525-9ae1-c0334c8b2d13\",\"type\":\"BasicTicker\"}},\"id\":\"1a4cba8a-f75e-44f3-ae63-8d7337e7fb6a\",\"type\":\"LinearAxis\"},{\"attributes\":{\"above\":[{\"id\":\"9416ea29-0ba5-4f6d-9419-7c574558eaa0\",\"type\":\"Legend\"}],\"below\":[{\"id\":\"1a4cba8a-f75e-44f3-ae63-8d7337e7fb6a\",\"type\":\"LinearAxis\"}],\"left\":[{\"id\":\"892b5b49-42ac-4181-a505-93a90222db19\",\"type\":\"LogAxis\"}],\"plot_width\":300,\"renderers\":[{\"id\":\"1a4cba8a-f75e-44f3-ae63-8d7337e7fb6a\",\"type\":\"LinearAxis\"},{\"id\":\"0df6e488-c5b9-41a5-be0c-c52d53605fc7\",\"type\":\"Grid\"},{\"id\":\"892b5b49-42ac-4181-a505-93a90222db19\",\"type\":\"LogAxis\"},{\"id\":\"b959e66f-4794-4efc-bebd-92c9bdd20673\",\"type\":\"Grid\"},{\"id\":\"8641409f-8af6-499b-9347-42390f1b6a24\",\"type\":\"BoxAnnotation\"},{\"id\":\"8938256c-3275-452f-929e-76f3bea0d4ce\",\"type\":\"GlyphRenderer\"},{\"id\":\"271f6252-b2a5-4521-874b-80d9ff4063c7\",\"type\":\"GlyphRenderer\"},{\"id\":\"35e79334-5bbb-43fd-bb41-a395546cbd41\",\"type\":\"GlyphRenderer\"},{\"id\":\"9416ea29-0ba5-4f6d-9419-7c574558eaa0\",\"type\":\"Legend\"}],\"title\":{\"id\":\"9a207c86-7bee-43ff-8662-f1ad468c13b9\",\"type\":\"Title\"},\"toolbar\":{\"id\":\"d5264abd-07a3-431b-b1f1-e01774f1f196\",\"type\":\"Toolbar\"},\"toolbar_location\":null,\"x_range\":{\"id\":\"db1aff87-07d4-44e5-9e1c-b14fab24a73f\",\"type\":\"Range1d\"},\"x_scale\":{\"id\":\"cd25bfd8-ec6d-4f9f-a1c3-3e67280e6e36\",\"type\":\"LinearScale\"},\"y_range\":{\"id\":\"5bcc51c9-5d6a-4c7f-9f4f-f92e96e10259\",\"type\":\"Range1d\"},\"y_scale\":{\"id\":\"013c1ec0-479e-4c8b-ae14-978625b8ae08\",\"type\":\"LogScale\"}},\"id\":\"5ee7b158-9d9f-4743-9d6c-c856d93aa98c\",\"subtype\":\"Figure\",\"type\":\"Plot\"},{\"attributes\":{\"plot\":{\"id\":\"efd23a26-722f-4f10-bcf8-7bfcdb8b8835\",\"subtype\":\"Figure\",\"type\":\"Plot\"},\"ticker\":{\"id\":\"a07fc34a-e5d1-4c1d-b7e3-2382e88e401c\",\"type\":\"BasicTicker\"}},\"id\":\"2a79d76b-673a-4bc8-a082-056312a722b4\",\"type\":\"Grid\"},{\"attributes\":{\"line_alpha\":0.1,\"line_color\":\"#1f77b4\",\"line_width\":1.5,\"x\":{\"field\":\"x\"},\"y\":{\"field\":\"y\"}},\"id\":\"4146686f-d6a3-4a06-904c-60d273724404\",\"type\":\"Line\"},{\"attributes\":{},\"id\":\"cd25bfd8-ec6d-4f9f-a1c3-3e67280e6e36\",\"type\":\"LinearScale\"},{\"attributes\":{\"dimension\":1,\"plot\":{\"id\":\"5ee7b158-9d9f-4743-9d6c-c856d93aa98c\",\"subtype\":\"Figure\",\"type\":\"Plot\"},\"ticker\":{\"id\":\"31f6e929-afac-438d-89fd-43e6856526ae\",\"type\":\"LogTicker\"}},\"id\":\"b959e66f-4794-4efc-bebd-92c9bdd20673\",\"type\":\"Grid\"},{\"attributes\":{},\"id\":\"89f9758d-542c-4c8a-8826-d8ebb056af8a\",\"type\":\"LogScale\"},{\"attributes\":{},\"id\":\"8d2cb63f-c3f1-4d1d-b56c-a1b89755774a\",\"type\":\"WheelZoomTool\"},{\"attributes\":{\"source\":{\"id\":\"1a6807c4-5dfd-464e-8506-4bcf0501527d\",\"type\":\"ColumnDataSource\"}},\"id\":\"89705195-28b7-4215-8f33-1bf1f6f623fb\",\"type\":\"CDSView\"},{\"attributes\":{\"children\":[{\"id\":\"2dcf082a-2928-4e46-8b5a-218a559d314d\",\"type\":\"Row\"}]},\"id\":\"d076e730-4bc9-47be-a7ec-8d3bfbc11375\",\"type\":\"Column\"},{\"attributes\":{},\"id\":\"a07fc34a-e5d1-4c1d-b7e3-2382e88e401c\",\"type\":\"BasicTicker\"},{\"attributes\":{},\"id\":\"2ea2bd87-a28a-4525-9ae1-c0334c8b2d13\",\"type\":\"BasicTicker\"},{\"attributes\":{\"source\":{\"id\":\"c6986b2c-7649-4791-b810-197896bf419f\",\"type\":\"ColumnDataSource\"}},\"id\":\"3fc7b970-c4c9-473d-9745-cd557b260a61\",\"type\":\"CDSView\"},{\"attributes\":{\"callback\":null,\"data\":{\"x\":{\"__ndarray__\":\"R/KIaN7AVEClCeJMyPNGQOvRhpxr30JAptxzhxx4PkA7SssMElA4QK6Bp3CyUDNAsVXpjES9LkBFhUV0+5coQMHYwqbbySNA6f09nM3nH0CaSd/3eYoZQDmgiAOW8BNAPYqARh3eDEBkm4vCgvr+P9D+5tWhQfY/P8DwKRnSAkBq38kb17ILQDT7IWuSsxFAUr2Rjm0FFkAinq3s9XgbQGCHwtYcqSFAG64kT303J0C7dRDneyooQD9JYrbK8yRA9S3bneHhIUAIymSuUMMcQIkHLe6VEBdAAau3cITREkA6CiNvkQIPQJU39ki7IQlAaAvwok1UA0BXLQiS4+L7P0xzDpJ2hPI/NNuPGMbJ5z91mUVYxqfSPxqwUPSxZca/G11peifD3L8QzNj5t2jTvwzOozTL360/SPJ4VI1VzD9KJ0nXEIncP8yDdlvHt+4/Et49nYLW9z++2teD4Jn+P+568eH/bwFALf5D9lmAAkCiZAicVOkCQPPT4jNKxwJAOjp3wTzBAUBSQsKNGisBQG4OmjqJwQBAJ3sZoHFuAEA5Ar0Sdi0AQGy4rw5+9f8/7W4nSrC3/z8mPr8zj4T/P4UYRHCQS/8/embVKYcF/z+5YXG+LLP+P/qb8BVUgf4/KvafTtyO/j/avAK1Ppv+PwJV9VVm2P0/JFtYlU/n/D9sN+q2fiX6Pw44e41PNPc/Opt+Z/wN9T+x3vcSW1vzP9ofvWQJlvI/8sciQQBW8j80sfkQa17yPzg5qng2r/I/Oh14WJBh8z+VZjnpctj0P6CcrSuCqQBA\",\"dtype\":\"float64\",\"shape\":[75]},\"y\":{\"__ndarray__\":\"GhExyth1ND/Sv8nbtpRIP2vylNV0PVE/aTum7souWD/At0SJ8fVgPw3Iuahxymc/MSNhhJWvcD/bTfBN02d3P2zb5nxnaoA/CD5h5MAGhz8NmeH1TyaQP+zrCsc9p5Y/LbKd76fGnz/bLW5ISEmmPww9YvTcQq8/JV2OstnstT8Er5Y7M8G+P0c+r3jqkcU/5h99k6ZBzj88bCIzFzjVP4enV8oyxN0//yH99nXg5D8qOpLLf0jtP5kqGJXUifQ/c9cS8kHP/D+/DpwzojQEQIEmwoanVwxA4lgXt9HgE0BSSZ2AJuIbQAMJih9jjiNA5q4l5INuK0AwTKYKRj0zQNv5fmq8/DpAaCJseHrtQkB/+zpwzoxKQM3MzMzMeFJAZmZmZmZqWEAAAAAAAFxeQM3MzMzMJmJAmpmZmZkfZUBmZmZmZhhoQDMzMzMzEWtAAAAAAAAKbkBmZmZmZoFwQM3MzMzM/XFAMzMzMzN6c0CamZmZmfZ0QAAAAAAAc3ZAZmZmZmbvd0DNzMzMzGt5QDMzMzMz6HpAmpmZmZlkfEAAAAAAAOF9QGZmZmZmXX9AZmZmZuZsgECamZmZGSuBQM3MzMxM6YFAAAAAAICngkAzMzMzs2WDQGZmZmbmI4RAmpmZmRnihEDNzMzMTKCFQAAAAACAXoZAMzMzM7Mch0BmZmZm5tqHQJqZmZkZmYhAzczMzExXiUAAAAAAgBWKQDMzMzOz04pAZmZmZuaRi0CamZmZGVCMQM3MzMxMDo1AAAAAAIDMjUAzMzMzs4qOQGZmZmbmSI9A\",\"dtype\":\"float64\",\"shape\":[75]}},\"selected\":{\"id\":\"a76bfd30-10e0-4b8a-a3fb-c3995d06167a\",\"type\":\"Selection\"},\"selection_policy\":{\"id\":\"fe6f5ff1-ce7d-41b3-a28c-f196754d7204\",\"type\":\"UnionRenderers\"}},\"id\":\"b57f4c7f-47bb-4069-9d21-f8c888ba7670\",\"type\":\"ColumnDataSource\"},{\"attributes\":{\"callback\":null,\"end\":0.560707855035721,\"start\":-1.3406097522236202},\"id\":\"f680a921-b4d9-4373-ba4b-0a55d532adcc\",\"type\":\"Range1d\"}],\"root_ids\":[\"33d7d2e0-b6e4-4adb-a522-c377b5cf476c\"]},\"title\":\"Bokeh Application\",\"version\":\"0.12.16\"}};\n",
       "  var render_items = [{\"docid\":\"3ed23af0-08b0-4a81-b11a-14f318dea46f\",\"elementid\":\"f8611641-3ab9-4eeb-81ca-20a73a1df4d1\",\"modelid\":\"33d7d2e0-b6e4-4adb-a522-c377b5cf476c\"}];\n",
       "  root.Bokeh.embed.embed_items_notebook(docs_json, render_items);\n",
       "\n",
       "  }\n",
       "  if (root.Bokeh !== undefined) {\n",
       "    embed_document(root);\n",
       "  } else {\n",
       "    var attempts = 0;\n",
       "    var timer = setInterval(function(root) {\n",
       "      if (root.Bokeh !== undefined) {\n",
       "        embed_document(root);\n",
       "        clearInterval(timer);\n",
       "      }\n",
       "      attempts++;\n",
       "      if (attempts > 100) {\n",
       "        console.log(\"Bokeh: ERROR: Unable to run BokehJS code because BokehJS library is missing\")\n",
       "        clearInterval(timer);\n",
       "      }\n",
       "    }, 10, root)\n",
       "  }\n",
       "})(window);"
      ],
      "application/vnd.bokehjs_exec.v0+json": ""
     },
     "metadata": {
      "application/vnd.bokehjs_exec.v0+json": {
       "id": "33d7d2e0-b6e4-4adb-a522-c377b5cf476c"
      }
     },
     "output_type": "display_data"
    },
    {
     "data": {
      "text/markdown": [
       "*FIGURE.* Cooling rates & difference."
      ],
      "text/plain": [
       "<IPython.core.display.Markdown object>"
      ]
     },
     "metadata": {},
     "output_type": "display_data"
    },
    {
     "data": {
      "text/html": [
       "<a id=\"Fluxes._trp.\"></a>"
      ],
      "text/plain": [
       "<IPython.core.display.HTML object>"
      ]
     },
     "metadata": {},
     "output_type": "display_data"
    },
    {
     "data": {
      "text/markdown": [
       "# Fluxes. trp."
      ],
      "text/plain": [
       "<IPython.core.display.Markdown object>"
      ]
     },
     "metadata": {},
     "output_type": "display_data"
    },
    {
     "data": {
      "text/html": [
       "\n",
       "<div class=\"bk-root\">\n",
       "    <div class=\"bk-plotdiv\" id=\"fd7b8832-5814-476c-9a65-d2092b4708e1\"></div>\n",
       "</div>"
      ]
     },
     "metadata": {},
     "output_type": "display_data"
    },
    {
     "data": {
      "application/javascript": [
       "(function(root) {\n",
       "  function embed_document(root) {\n",
       "    \n",
       "  var docs_json = {\"48ae4806-bb10-407a-abfd-f4739d8b5062\":{\"roots\":{\"references\":[{\"attributes\":{\"active_drag\":\"auto\",\"active_inspect\":\"auto\",\"active_scroll\":\"auto\",\"active_tap\":\"auto\",\"tools\":[{\"id\":\"40078401-16e4-4aa3-9665-14a812a44282\",\"type\":\"PanTool\"},{\"id\":\"35db6879-ba1c-4edc-b6fc-4e89ce625a4f\",\"type\":\"WheelZoomTool\"},{\"id\":\"a4469b13-fe92-40d5-9131-6a56cedd960d\",\"type\":\"BoxZoomTool\"},{\"id\":\"36a359ce-044f-42bc-a445-988802f4ce3a\",\"type\":\"SaveTool\"},{\"id\":\"65b777b2-44ce-4bda-a00c-108e53ecd92a\",\"type\":\"ResetTool\"},{\"id\":\"575fc92e-c1da-45a0-87ed-3a0a90307c0c\",\"type\":\"HelpTool\"}]},\"id\":\"3f194971-1b30-469f-8a7d-27469acafe4d\",\"type\":\"Toolbar\"},{\"attributes\":{},\"id\":\"36a359ce-044f-42bc-a445-988802f4ce3a\",\"type\":\"SaveTool\"},{\"attributes\":{\"dimension\":1,\"plot\":{\"id\":\"e290a964-9902-4408-9d64-d76d34bc3034\",\"subtype\":\"Figure\",\"type\":\"Plot\"},\"ticker\":{\"id\":\"9a23196a-cff3-4022-9b43-fbcf82393a84\",\"type\":\"BasicTicker\"}},\"id\":\"022098c4-51b0-41d4-b20c-2b74cca0541c\",\"type\":\"Grid\"},{\"attributes\":{\"callback\":null,\"data\":{\"band\":[\"1\",\"2\",\"3\",\"4\",\"5\",\"6\",\"7\",\"8\",\"9\",\"10\",\"11\"],\"flux\":{\"__ndarray__\":\"ANIJHUsKzT9AOSlpUWHmP8CYh8jALOS/QN3v7eks3j8UfeMQFiodwBzJ5T+kyzvA+GTFcHWQH8Ce4c0avK8QwFAs3+mEBvS/wG+hI6BfwD9Ab6jOWVWpPw==\",\"dtype\":\"float64\",\"shape\":[11]}},\"selected\":{\"id\":\"10b349a4-3a09-49a9-9d32-bdaa46c79554\",\"type\":\"Selection\"},\"selection_policy\":{\"id\":\"c85debe7-8d42-48ca-a284-eeea2abcc469\",\"type\":\"UnionRenderers\"}},\"id\":\"f46b2247-7c20-46c9-9d8f-d594c381a57b\",\"type\":\"ColumnDataSource\"},{\"attributes\":{},\"id\":\"b552137d-1b81-4ee4-8a48-b7451f8948f4\",\"type\":\"LinearScale\"},{\"attributes\":{\"data_source\":{\"id\":\"097e4974-3ed3-4e17-b505-4e4c60c321fe\",\"type\":\"ColumnDataSource\"},\"glyph\":{\"id\":\"e06f5bfe-21be-4ad5-8b9f-486c4654c53d\",\"type\":\"VBar\"},\"hover_glyph\":null,\"muted_glyph\":null,\"nonselection_glyph\":{\"id\":\"a4aeecf7-7964-4ffc-a6f4-31a46b70027b\",\"type\":\"VBar\"},\"selection_glyph\":null,\"view\":{\"id\":\"86d65e22-dd93-47b7-99ae-b71225a6f0a6\",\"type\":\"CDSView\"}},\"id\":\"d80ed2a7-b77f-4ceb-b1cb-71e3ef0d3651\",\"type\":\"GlyphRenderer\"},{\"attributes\":{},\"id\":\"35db6879-ba1c-4edc-b6fc-4e89ce625a4f\",\"type\":\"WheelZoomTool\"},{\"attributes\":{\"below\":[{\"id\":\"718eb823-71ce-4a41-8719-0556f3cd8c68\",\"type\":\"CategoricalAxis\"}],\"left\":[{\"id\":\"715b8e46-bef8-443a-988d-20d07faf9830\",\"type\":\"LinearAxis\"}],\"plot_height\":300,\"plot_width\":300,\"renderers\":[{\"id\":\"718eb823-71ce-4a41-8719-0556f3cd8c68\",\"type\":\"CategoricalAxis\"},{\"id\":\"60173639-513e-4f9c-8944-781c849b39aa\",\"type\":\"Grid\"},{\"id\":\"715b8e46-bef8-443a-988d-20d07faf9830\",\"type\":\"LinearAxis\"},{\"id\":\"022098c4-51b0-41d4-b20c-2b74cca0541c\",\"type\":\"Grid\"},{\"id\":\"70fa558e-72f1-430f-82c9-17bb041d3389\",\"type\":\"BoxAnnotation\"},{\"id\":\"d80ed2a7-b77f-4ceb-b1cb-71e3ef0d3651\",\"type\":\"GlyphRenderer\"}],\"title\":{\"id\":\"ff70a2e0-6a4f-4ac6-adb6-8c5973d017f3\",\"type\":\"Title\"},\"toolbar\":{\"id\":\"3f194971-1b30-469f-8a7d-27469acafe4d\",\"type\":\"Toolbar\"},\"toolbar_location\":null,\"x_range\":{\"id\":\"b202c2bd-4379-4b2c-8f7c-9a5c2420bdfe\",\"type\":\"FactorRange\"},\"x_scale\":{\"id\":\"82f17578-8572-41c5-af07-d9ee06da9f90\",\"type\":\"CategoricalScale\"},\"y_range\":{\"id\":\"7240506b-754b-4084-bf46-766d6047ba57\",\"type\":\"DataRange1d\"},\"y_scale\":{\"id\":\"b552137d-1b81-4ee4-8a48-b7451f8948f4\",\"type\":\"LinearScale\"}},\"id\":\"e290a964-9902-4408-9d64-d76d34bc3034\",\"subtype\":\"Figure\",\"type\":\"Plot\"},{\"attributes\":{\"callback\":null},\"id\":\"7240506b-754b-4084-bf46-766d6047ba57\",\"type\":\"DataRange1d\"},{\"attributes\":{},\"id\":\"40078401-16e4-4aa3-9665-14a812a44282\",\"type\":\"PanTool\"},{\"attributes\":{\"callback\":null,\"factors\":[\"1\",\"2\",\"3\",\"4\",\"5\",\"6\",\"7\",\"8\",\"9\",\"10\",\"11\"]},\"id\":\"b202c2bd-4379-4b2c-8f7c-9a5c2420bdfe\",\"type\":\"FactorRange\"},{\"attributes\":{\"source\":{\"id\":\"097e4974-3ed3-4e17-b505-4e4c60c321fe\",\"type\":\"ColumnDataSource\"}},\"id\":\"86d65e22-dd93-47b7-99ae-b71225a6f0a6\",\"type\":\"CDSView\"},{\"attributes\":{\"overlay\":{\"id\":\"70fa558e-72f1-430f-82c9-17bb041d3389\",\"type\":\"BoxAnnotation\"}},\"id\":\"a4469b13-fe92-40d5-9131-6a56cedd960d\",\"type\":\"BoxZoomTool\"},{\"attributes\":{},\"id\":\"9a23196a-cff3-4022-9b43-fbcf82393a84\",\"type\":\"BasicTicker\"},{\"attributes\":{},\"id\":\"575fc92e-c1da-45a0-87ed-3a0a90307c0c\",\"type\":\"HelpTool\"},{\"attributes\":{\"axis_label\":\"flux (W m-2)\",\"formatter\":{\"id\":\"5d834549-5198-478a-9edd-de4eb37e7541\",\"type\":\"BasicTickFormatter\"},\"plot\":{\"id\":\"e290a964-9902-4408-9d64-d76d34bc3034\",\"subtype\":\"Figure\",\"type\":\"Plot\"},\"ticker\":{\"id\":\"9a23196a-cff3-4022-9b43-fbcf82393a84\",\"type\":\"BasicTicker\"}},\"id\":\"715b8e46-bef8-443a-988d-20d07faf9830\",\"type\":\"LinearAxis\"},{\"attributes\":{\"bottom_units\":\"screen\",\"fill_alpha\":{\"value\":0.5},\"fill_color\":{\"value\":\"lightgrey\"},\"left_units\":\"screen\",\"level\":\"overlay\",\"line_alpha\":{\"value\":1.0},\"line_color\":{\"value\":\"black\"},\"line_dash\":[4,4],\"line_width\":{\"value\":2},\"plot\":null,\"render_mode\":\"css\",\"right_units\":\"screen\",\"top_units\":\"screen\"},\"id\":\"70fa558e-72f1-430f-82c9-17bb041d3389\",\"type\":\"BoxAnnotation\"},{\"attributes\":{\"plot\":null,\"text\":\"TOA flux. CLIRAD (single-run) - CRD.\"},\"id\":\"ff70a2e0-6a4f-4ac6-adb6-8c5973d017f3\",\"type\":\"Title\"},{\"attributes\":{},\"id\":\"82f17578-8572-41c5-af07-d9ee06da9f90\",\"type\":\"CategoricalScale\"},{\"attributes\":{\"plot\":{\"id\":\"e290a964-9902-4408-9d64-d76d34bc3034\",\"subtype\":\"Figure\",\"type\":\"Plot\"},\"ticker\":{\"id\":\"153d6b11-276e-47c2-90f7-60e9ecd6e426\",\"type\":\"CategoricalTicker\"}},\"id\":\"60173639-513e-4f9c-8944-781c849b39aa\",\"type\":\"Grid\"},{\"attributes\":{\"callback\":null,\"data\":{\"band\":[\"1\",\"2\",\"3\",\"4\",\"5\",\"6\",\"7\",\"8\",\"9\",\"10\",\"11\"],\"flux\":{\"__ndarray__\":\"AADADkbs874Aaykg7X/cPwBbCd0l8ek/AHrm5bD7tj8Kp8zNN4IhQCTZI9QMwT9AHIEu0KQbIkC862zIPzsTQLBif9k9ufg/AFDtmpDWiD8AO3arQl6wPw==\",\"dtype\":\"float64\",\"shape\":[11]}},\"selected\":{\"id\":\"9d5e030f-2ec4-4dfb-8b41-e1f915791ab3\",\"type\":\"Selection\"},\"selection_policy\":{\"id\":\"2cd93465-7bba-4cab-862b-82dbd1bf1957\",\"type\":\"UnionRenderers\"}},\"id\":\"bbd4394f-960b-47eb-86d6-85a5e9f3ff32\",\"type\":\"ColumnDataSource\"},{\"attributes\":{},\"id\":\"65b777b2-44ce-4bda-a00c-108e53ecd92a\",\"type\":\"ResetTool\"},{\"attributes\":{\"axis_label\":\"spectral band\",\"formatter\":{\"id\":\"1e7b146a-cead-48c9-b384-24de44eb1b10\",\"type\":\"CategoricalTickFormatter\"},\"plot\":{\"id\":\"e290a964-9902-4408-9d64-d76d34bc3034\",\"subtype\":\"Figure\",\"type\":\"Plot\"},\"ticker\":{\"id\":\"153d6b11-276e-47c2-90f7-60e9ecd6e426\",\"type\":\"CategoricalTicker\"}},\"id\":\"718eb823-71ce-4a41-8719-0556f3cd8c68\",\"type\":\"CategoricalAxis\"},{\"attributes\":{\"data_source\":{\"id\":\"bbd4394f-960b-47eb-86d6-85a5e9f3ff32\",\"type\":\"ColumnDataSource\"},\"glyph\":{\"id\":\"e1653584-f2c4-4174-8d35-5d318e302d28\",\"type\":\"VBar\"},\"hover_glyph\":null,\"muted_glyph\":null,\"nonselection_glyph\":{\"id\":\"5f79399e-56ae-4055-bef9-b29f12a99d3f\",\"type\":\"VBar\"},\"selection_glyph\":null,\"view\":{\"id\":\"bb4415d4-ca46-49a8-8720-54026f0a2777\",\"type\":\"CDSView\"}},\"id\":\"79288393-7837-46c7-9a14-2952bd2b479b\",\"type\":\"GlyphRenderer\"},{\"attributes\":{\"fill_alpha\":{\"value\":0.1},\"fill_color\":{\"value\":\"#1f77b4\"},\"line_alpha\":{\"value\":0.1},\"line_color\":{\"value\":\"#1f77b4\"},\"top\":{\"field\":\"flux\"},\"width\":{\"value\":0.9},\"x\":{\"field\":\"band\"}},\"id\":\"5f79399e-56ae-4055-bef9-b29f12a99d3f\",\"type\":\"VBar\"},{\"attributes\":{},\"id\":\"153d6b11-276e-47c2-90f7-60e9ecd6e426\",\"type\":\"CategoricalTicker\"},{\"attributes\":{\"fill_alpha\":{\"value\":0.1},\"fill_color\":{\"value\":\"#1f77b4\"},\"line_alpha\":{\"value\":0.1},\"line_color\":{\"value\":\"#1f77b4\"},\"top\":{\"field\":\"flux\"},\"width\":{\"value\":0.9},\"x\":{\"field\":\"band\"}},\"id\":\"a4aeecf7-7964-4ffc-a6f4-31a46b70027b\",\"type\":\"VBar\"},{\"attributes\":{},\"id\":\"08c15e3d-40c1-42d4-a9a1-97707b699bb0\",\"type\":\"ResetTool\"},{\"attributes\":{},\"id\":\"00f5092b-e5a6-4009-80fe-d19099c3b423\",\"type\":\"UnionRenderers\"},{\"attributes\":{\"overlay\":{\"id\":\"402ff509-dc73-417f-9a00-af5d4c7d122a\",\"type\":\"BoxAnnotation\"}},\"id\":\"cdcde029-a3a9-4a01-9437-b8cda88263b5\",\"type\":\"BoxZoomTool\"},{\"attributes\":{},\"id\":\"9d5e030f-2ec4-4dfb-8b41-e1f915791ab3\",\"type\":\"Selection\"},{\"attributes\":{},\"id\":\"5d834549-5198-478a-9edd-de4eb37e7541\",\"type\":\"BasicTickFormatter\"},{\"attributes\":{},\"id\":\"5863e8d1-5149-40f2-bf65-8730a41c9f11\",\"type\":\"LinearScale\"},{\"attributes\":{},\"id\":\"da96943b-572c-4295-85b6-24df9b34bd8e\",\"type\":\"WheelZoomTool\"},{\"attributes\":{},\"id\":\"f06918c7-f48c-428a-9f5a-10445752021a\",\"type\":\"CategoricalTicker\"},{\"attributes\":{\"dimension\":1,\"plot\":{\"id\":\"1626036e-1b48-46e6-80b9-77680af50f03\",\"subtype\":\"Figure\",\"type\":\"Plot\"},\"ticker\":{\"id\":\"5b8d3b60-ce80-4971-9ef4-be70f7992f55\",\"type\":\"BasicTicker\"}},\"id\":\"009b8ceb-30c2-4fbc-92b9-22ceb84e2274\",\"type\":\"Grid\"},{\"attributes\":{},\"id\":\"d5e8de8b-cd2b-43ff-a514-d323bd3d1891\",\"type\":\"BasicTicker\"},{\"attributes\":{},\"id\":\"5ffed7cd-758b-4860-93b4-61b5a05825ec\",\"type\":\"SaveTool\"},{\"attributes\":{},\"id\":\"da2645ff-c941-48f9-83dc-77d871dde85e\",\"type\":\"CategoricalScale\"},{\"attributes\":{\"fill_color\":{\"value\":\"#1f77b4\"},\"line_color\":{\"value\":\"#1f77b4\"},\"top\":{\"field\":\"flux\"},\"width\":{\"value\":0.9},\"x\":{\"field\":\"band\"}},\"id\":\"8088d636-6a9c-49cc-b26d-ef1d28c1e1f1\",\"type\":\"VBar\"},{\"attributes\":{\"overlay\":{\"id\":\"548edab1-da73-4d8a-b06f-3da95ed08276\",\"type\":\"BoxAnnotation\"}},\"id\":\"04b03609-0849-4a28-a6d1-69ba99fe32e3\",\"type\":\"BoxZoomTool\"},{\"attributes\":{\"bottom_units\":\"screen\",\"fill_alpha\":{\"value\":0.5},\"fill_color\":{\"value\":\"lightgrey\"},\"left_units\":\"screen\",\"level\":\"overlay\",\"line_alpha\":{\"value\":1.0},\"line_color\":{\"value\":\"black\"},\"line_dash\":[4,4],\"line_width\":{\"value\":2},\"plot\":null,\"render_mode\":\"css\",\"right_units\":\"screen\",\"top_units\":\"screen\"},\"id\":\"548edab1-da73-4d8a-b06f-3da95ed08276\",\"type\":\"BoxAnnotation\"},{\"attributes\":{},\"id\":\"0b6b7555-cf71-4f55-b461-7032993e721c\",\"type\":\"HelpTool\"},{\"attributes\":{},\"id\":\"83219942-4a0c-4cd3-9719-bc048e8e19da\",\"type\":\"SaveTool\"},{\"attributes\":{\"callback\":null,\"data\":{\"band\":[\"1\",\"2\",\"3\",\"4\",\"5\",\"6\",\"7\",\"8\",\"9\",\"10\",\"11\"],\"flux\":{\"__ndarray__\":\"AENaY9AJzT9gBmNEolDyPwBo6Qq2Ecc/kFIJT+j14T/g5LfoZGn3PzDDuBtEqw9AUE7tDFOb8j9gj8L1KFzkP4D3x3vVytI/4PGprSLtwT+A9UyK6gi9Pw==\",\"dtype\":\"float64\",\"shape\":[11]}},\"selected\":{\"id\":\"d83d24a7-9615-4eee-bb62-a9330f46df4b\",\"type\":\"Selection\"},\"selection_policy\":{\"id\":\"00f5092b-e5a6-4009-80fe-d19099c3b423\",\"type\":\"UnionRenderers\"}},\"id\":\"097e4974-3ed3-4e17-b505-4e4c60c321fe\",\"type\":\"ColumnDataSource\"},{\"attributes\":{},\"id\":\"d83d24a7-9615-4eee-bb62-a9330f46df4b\",\"type\":\"Selection\"},{\"attributes\":{},\"id\":\"917ecaf2-8a24-43a9-9076-64da1bbebe10\",\"type\":\"BasicTickFormatter\"},{\"attributes\":{},\"id\":\"ef31da00-3079-4f21-abe9-86d18efaeb62\",\"type\":\"CategoricalTickFormatter\"},{\"attributes\":{\"toolbar\":{\"id\":\"0dc8f972-e6a7-43dd-a1dc-78e9e9e7b260\",\"type\":\"ProxyToolbar\"},\"toolbar_location\":\"above\"},\"id\":\"abef3305-8c1c-43f6-b3ed-f6f7d826f34f\",\"type\":\"ToolbarBox\"},{\"attributes\":{},\"id\":\"8a5e8f75-48ba-479e-bd59-2e960cc9f7ff\",\"type\":\"PanTool\"},{\"attributes\":{\"callback\":null},\"id\":\"aa363bec-1929-44e2-85bd-501c639b2158\",\"type\":\"DataRange1d\"},{\"attributes\":{\"source\":{\"id\":\"f46b2247-7c20-46c9-9d8f-d594c381a57b\",\"type\":\"ColumnDataSource\"}},\"id\":\"728ab677-ab80-40a8-8664-ac173d0a2bb5\",\"type\":\"CDSView\"},{\"attributes\":{\"callback\":null},\"id\":\"3b1e1202-6466-4dbd-bb98-df91a79847d5\",\"type\":\"DataRange1d\"},{\"attributes\":{},\"id\":\"2eee52e0-56dc-43c9-95a5-965eebb1807d\",\"type\":\"CategoricalTickFormatter\"},{\"attributes\":{},\"id\":\"2cd93465-7bba-4cab-862b-82dbd1bf1957\",\"type\":\"UnionRenderers\"},{\"attributes\":{\"below\":[{\"id\":\"9525b8dc-92c8-4f0e-8ff2-a429d24e7e3e\",\"type\":\"CategoricalAxis\"}],\"left\":[{\"id\":\"fe60a74d-7a3c-449d-8553-445df15318ca\",\"type\":\"LinearAxis\"}],\"plot_height\":300,\"plot_width\":300,\"renderers\":[{\"id\":\"9525b8dc-92c8-4f0e-8ff2-a429d24e7e3e\",\"type\":\"CategoricalAxis\"},{\"id\":\"52d6869b-7aff-4b0a-94b1-379f8147726e\",\"type\":\"Grid\"},{\"id\":\"fe60a74d-7a3c-449d-8553-445df15318ca\",\"type\":\"LinearAxis\"},{\"id\":\"7f1a113f-db5f-4cd0-9b5f-dec217e70f4e\",\"type\":\"Grid\"},{\"id\":\"402ff509-dc73-417f-9a00-af5d4c7d122a\",\"type\":\"BoxAnnotation\"},{\"id\":\"79288393-7837-46c7-9a14-2952bd2b479b\",\"type\":\"GlyphRenderer\"}],\"title\":{\"id\":\"7910dbf5-14a0-4dc5-9932-e56798c4164a\",\"type\":\"Title\"},\"toolbar\":{\"id\":\"cee5713d-1dda-4d62-aa2a-8415ac5ff061\",\"type\":\"Toolbar\"},\"toolbar_location\":null,\"x_range\":{\"id\":\"2b4febe2-a815-47b8-8b81-6de37fadf87c\",\"type\":\"FactorRange\"},\"x_scale\":{\"id\":\"c5af9de4-2b88-434d-8288-b36f90023a52\",\"type\":\"CategoricalScale\"},\"y_range\":{\"id\":\"3b1e1202-6466-4dbd-bb98-df91a79847d5\",\"type\":\"DataRange1d\"},\"y_scale\":{\"id\":\"6e910b71-f9f7-4566-bb4f-dcba8e7702f1\",\"type\":\"LinearScale\"}},\"id\":\"c2ec9931-c8c5-4b26-ae8b-023b6df5ed14\",\"subtype\":\"Figure\",\"type\":\"Plot\"},{\"attributes\":{\"active_drag\":\"auto\",\"active_inspect\":\"auto\",\"active_scroll\":\"auto\",\"active_tap\":\"auto\",\"tools\":[{\"id\":\"8a5e8f75-48ba-479e-bd59-2e960cc9f7ff\",\"type\":\"PanTool\"},{\"id\":\"da96943b-572c-4295-85b6-24df9b34bd8e\",\"type\":\"WheelZoomTool\"},{\"id\":\"cdcde029-a3a9-4a01-9437-b8cda88263b5\",\"type\":\"BoxZoomTool\"},{\"id\":\"5ffed7cd-758b-4860-93b4-61b5a05825ec\",\"type\":\"SaveTool\"},{\"id\":\"ba289f13-007b-48b6-bcf2-3b358265adc5\",\"type\":\"ResetTool\"},{\"id\":\"0b6b7555-cf71-4f55-b461-7032993e721c\",\"type\":\"HelpTool\"}]},\"id\":\"cee5713d-1dda-4d62-aa2a-8415ac5ff061\",\"type\":\"Toolbar\"},{\"attributes\":{\"fill_color\":{\"value\":\"#1f77b4\"},\"line_color\":{\"value\":\"#1f77b4\"},\"top\":{\"field\":\"flux\"},\"width\":{\"value\":0.9},\"x\":{\"field\":\"band\"}},\"id\":\"e06f5bfe-21be-4ad5-8b9f-486c4654c53d\",\"type\":\"VBar\"},{\"attributes\":{\"callback\":null,\"factors\":[\"1\",\"2\",\"3\",\"4\",\"5\",\"6\",\"7\",\"8\",\"9\",\"10\",\"11\"]},\"id\":\"a53a94fb-07e4-4006-9abd-d55836986b64\",\"type\":\"FactorRange\"},{\"attributes\":{\"tools\":[{\"id\":\"40078401-16e4-4aa3-9665-14a812a44282\",\"type\":\"PanTool\"},{\"id\":\"35db6879-ba1c-4edc-b6fc-4e89ce625a4f\",\"type\":\"WheelZoomTool\"},{\"id\":\"a4469b13-fe92-40d5-9131-6a56cedd960d\",\"type\":\"BoxZoomTool\"},{\"id\":\"36a359ce-044f-42bc-a445-988802f4ce3a\",\"type\":\"SaveTool\"},{\"id\":\"65b777b2-44ce-4bda-a00c-108e53ecd92a\",\"type\":\"ResetTool\"},{\"id\":\"575fc92e-c1da-45a0-87ed-3a0a90307c0c\",\"type\":\"HelpTool\"},{\"id\":\"8a5e8f75-48ba-479e-bd59-2e960cc9f7ff\",\"type\":\"PanTool\"},{\"id\":\"da96943b-572c-4295-85b6-24df9b34bd8e\",\"type\":\"WheelZoomTool\"},{\"id\":\"cdcde029-a3a9-4a01-9437-b8cda88263b5\",\"type\":\"BoxZoomTool\"},{\"id\":\"5ffed7cd-758b-4860-93b4-61b5a05825ec\",\"type\":\"SaveTool\"},{\"id\":\"ba289f13-007b-48b6-bcf2-3b358265adc5\",\"type\":\"ResetTool\"},{\"id\":\"0b6b7555-cf71-4f55-b461-7032993e721c\",\"type\":\"HelpTool\"},{\"id\":\"7de7fbae-a666-45a7-9ad8-8b6636fbe941\",\"type\":\"PanTool\"},{\"id\":\"411c34ef-ddcb-4c23-bf2d-af0ef70a9db0\",\"type\":\"WheelZoomTool\"},{\"id\":\"04b03609-0849-4a28-a6d1-69ba99fe32e3\",\"type\":\"BoxZoomTool\"},{\"id\":\"83219942-4a0c-4cd3-9719-bc048e8e19da\",\"type\":\"SaveTool\"},{\"id\":\"08c15e3d-40c1-42d4-a9a1-97707b699bb0\",\"type\":\"ResetTool\"},{\"id\":\"d37c96cb-e53b-45f8-a1da-c853ddda0964\",\"type\":\"HelpTool\"}]},\"id\":\"0dc8f972-e6a7-43dd-a1dc-78e9e9e7b260\",\"type\":\"ProxyToolbar\"},{\"attributes\":{\"fill_alpha\":{\"value\":0.1},\"fill_color\":{\"value\":\"#1f77b4\"},\"line_alpha\":{\"value\":0.1},\"line_color\":{\"value\":\"#1f77b4\"},\"top\":{\"field\":\"flux\"},\"width\":{\"value\":0.9},\"x\":{\"field\":\"band\"}},\"id\":\"01d34629-2957-4407-97cb-33360fc35ece\",\"type\":\"VBar\"},{\"attributes\":{\"children\":[{\"id\":\"db6826b1-1182-43a4-b74a-01684078ef77\",\"type\":\"Row\"}]},\"id\":\"8feccd96-636a-4c3d-816c-08aa482ccb1d\",\"type\":\"Column\"},{\"attributes\":{\"axis_label\":\"flux (W m-2)\",\"formatter\":{\"id\":\"917ecaf2-8a24-43a9-9076-64da1bbebe10\",\"type\":\"BasicTickFormatter\"},\"plot\":{\"id\":\"c2ec9931-c8c5-4b26-ae8b-023b6df5ed14\",\"subtype\":\"Figure\",\"type\":\"Plot\"},\"ticker\":{\"id\":\"d5e8de8b-cd2b-43ff-a514-d323bd3d1891\",\"type\":\"BasicTicker\"}},\"id\":\"fe60a74d-7a3c-449d-8553-445df15318ca\",\"type\":\"LinearAxis\"},{\"attributes\":{\"fill_color\":{\"value\":\"#1f77b4\"},\"line_color\":{\"value\":\"#1f77b4\"},\"top\":{\"field\":\"flux\"},\"width\":{\"value\":0.9},\"x\":{\"field\":\"band\"}},\"id\":\"e1653584-f2c4-4174-8d35-5d318e302d28\",\"type\":\"VBar\"},{\"attributes\":{\"axis_label\":\"spectral band\",\"formatter\":{\"id\":\"2eee52e0-56dc-43c9-95a5-965eebb1807d\",\"type\":\"CategoricalTickFormatter\"},\"plot\":{\"id\":\"1626036e-1b48-46e6-80b9-77680af50f03\",\"subtype\":\"Figure\",\"type\":\"Plot\"},\"ticker\":{\"id\":\"f06918c7-f48c-428a-9f5a-10445752021a\",\"type\":\"CategoricalTicker\"}},\"id\":\"6f989dbd-4521-46e6-969c-af297b2ea44c\",\"type\":\"CategoricalAxis\"},{\"attributes\":{\"dimension\":1,\"plot\":{\"id\":\"c2ec9931-c8c5-4b26-ae8b-023b6df5ed14\",\"subtype\":\"Figure\",\"type\":\"Plot\"},\"ticker\":{\"id\":\"d5e8de8b-cd2b-43ff-a514-d323bd3d1891\",\"type\":\"BasicTicker\"}},\"id\":\"7f1a113f-db5f-4cd0-9b5f-dec217e70f4e\",\"type\":\"Grid\"},{\"attributes\":{\"active_drag\":\"auto\",\"active_inspect\":\"auto\",\"active_scroll\":\"auto\",\"active_tap\":\"auto\",\"tools\":[{\"id\":\"7de7fbae-a666-45a7-9ad8-8b6636fbe941\",\"type\":\"PanTool\"},{\"id\":\"411c34ef-ddcb-4c23-bf2d-af0ef70a9db0\",\"type\":\"WheelZoomTool\"},{\"id\":\"04b03609-0849-4a28-a6d1-69ba99fe32e3\",\"type\":\"BoxZoomTool\"},{\"id\":\"83219942-4a0c-4cd3-9719-bc048e8e19da\",\"type\":\"SaveTool\"},{\"id\":\"08c15e3d-40c1-42d4-a9a1-97707b699bb0\",\"type\":\"ResetTool\"},{\"id\":\"d37c96cb-e53b-45f8-a1da-c853ddda0964\",\"type\":\"HelpTool\"}]},\"id\":\"9172e8dc-b82d-4b3a-ad7e-0c90bbd8d4e2\",\"type\":\"Toolbar\"},{\"attributes\":{},\"id\":\"3ebbf8be-716f-4a6b-bd9c-4ad2a4e39dce\",\"type\":\"CategoricalTicker\"},{\"attributes\":{},\"id\":\"c5af9de4-2b88-434d-8288-b36f90023a52\",\"type\":\"CategoricalScale\"},{\"attributes\":{\"source\":{\"id\":\"bbd4394f-960b-47eb-86d6-85a5e9f3ff32\",\"type\":\"ColumnDataSource\"}},\"id\":\"bb4415d4-ca46-49a8-8720-54026f0a2777\",\"type\":\"CDSView\"},{\"attributes\":{},\"id\":\"7de7fbae-a666-45a7-9ad8-8b6636fbe941\",\"type\":\"PanTool\"},{\"attributes\":{\"below\":[{\"id\":\"6f989dbd-4521-46e6-969c-af297b2ea44c\",\"type\":\"CategoricalAxis\"}],\"left\":[{\"id\":\"c10536fa-433f-4613-8324-8be12053dabe\",\"type\":\"LinearAxis\"}],\"plot_height\":300,\"plot_width\":300,\"renderers\":[{\"id\":\"6f989dbd-4521-46e6-969c-af297b2ea44c\",\"type\":\"CategoricalAxis\"},{\"id\":\"0957e2d4-876e-4958-8c9d-9f49bfdf9d91\",\"type\":\"Grid\"},{\"id\":\"c10536fa-433f-4613-8324-8be12053dabe\",\"type\":\"LinearAxis\"},{\"id\":\"009b8ceb-30c2-4fbc-92b9-22ceb84e2274\",\"type\":\"Grid\"},{\"id\":\"548edab1-da73-4d8a-b06f-3da95ed08276\",\"type\":\"BoxAnnotation\"},{\"id\":\"bb6e75fd-6a6c-4226-a497-b4dc3d242e38\",\"type\":\"GlyphRenderer\"}],\"title\":{\"id\":\"3fc77566-3c06-4027-ab76-4d173062b9b0\",\"type\":\"Title\"},\"toolbar\":{\"id\":\"9172e8dc-b82d-4b3a-ad7e-0c90bbd8d4e2\",\"type\":\"Toolbar\"},\"toolbar_location\":null,\"x_range\":{\"id\":\"a53a94fb-07e4-4006-9abd-d55836986b64\",\"type\":\"FactorRange\"},\"x_scale\":{\"id\":\"da2645ff-c941-48f9-83dc-77d871dde85e\",\"type\":\"CategoricalScale\"},\"y_range\":{\"id\":\"aa363bec-1929-44e2-85bd-501c639b2158\",\"type\":\"DataRange1d\"},\"y_scale\":{\"id\":\"5863e8d1-5149-40f2-bf65-8730a41c9f11\",\"type\":\"LinearScale\"}},\"id\":\"1626036e-1b48-46e6-80b9-77680af50f03\",\"subtype\":\"Figure\",\"type\":\"Plot\"},{\"attributes\":{\"plot\":null,\"text\":\"SFC flux. CLIRAD (single-run) - CRD.\"},\"id\":\"7910dbf5-14a0-4dc5-9932-e56798c4164a\",\"type\":\"Title\"},{\"attributes\":{},\"id\":\"411c34ef-ddcb-4c23-bf2d-af0ef70a9db0\",\"type\":\"WheelZoomTool\"},{\"attributes\":{},\"id\":\"10b349a4-3a09-49a9-9d32-bdaa46c79554\",\"type\":\"Selection\"},{\"attributes\":{},\"id\":\"d37c96cb-e53b-45f8-a1da-c853ddda0964\",\"type\":\"HelpTool\"},{\"attributes\":{},\"id\":\"6e910b71-f9f7-4566-bb4f-dcba8e7702f1\",\"type\":\"LinearScale\"},{\"attributes\":{\"plot\":null,\"text\":\"Atmosphere heating. CLIRAD (single-run) - CRD.\"},\"id\":\"3fc77566-3c06-4027-ab76-4d173062b9b0\",\"type\":\"Title\"},{\"attributes\":{\"children\":[{\"id\":\"e290a964-9902-4408-9d64-d76d34bc3034\",\"subtype\":\"Figure\",\"type\":\"Plot\"},{\"id\":\"c2ec9931-c8c5-4b26-ae8b-023b6df5ed14\",\"subtype\":\"Figure\",\"type\":\"Plot\"},{\"id\":\"1626036e-1b48-46e6-80b9-77680af50f03\",\"subtype\":\"Figure\",\"type\":\"Plot\"}]},\"id\":\"db6826b1-1182-43a4-b74a-01684078ef77\",\"type\":\"Row\"},{\"attributes\":{\"bottom_units\":\"screen\",\"fill_alpha\":{\"value\":0.5},\"fill_color\":{\"value\":\"lightgrey\"},\"left_units\":\"screen\",\"level\":\"overlay\",\"line_alpha\":{\"value\":1.0},\"line_color\":{\"value\":\"black\"},\"line_dash\":[4,4],\"line_width\":{\"value\":2},\"plot\":null,\"render_mode\":\"css\",\"right_units\":\"screen\",\"top_units\":\"screen\"},\"id\":\"402ff509-dc73-417f-9a00-af5d4c7d122a\",\"type\":\"BoxAnnotation\"},{\"attributes\":{\"children\":[{\"id\":\"abef3305-8c1c-43f6-b3ed-f6f7d826f34f\",\"type\":\"ToolbarBox\"},{\"id\":\"8feccd96-636a-4c3d-816c-08aa482ccb1d\",\"type\":\"Column\"}]},\"id\":\"d34411ed-3b8c-495c-a1b8-36aa1471bb1f\",\"type\":\"Column\"},{\"attributes\":{},\"id\":\"c85debe7-8d42-48ca-a284-eeea2abcc469\",\"type\":\"UnionRenderers\"},{\"attributes\":{},\"id\":\"fff86723-9ea3-415b-b02d-1718591d46b4\",\"type\":\"BasicTickFormatter\"},{\"attributes\":{},\"id\":\"ba289f13-007b-48b6-bcf2-3b358265adc5\",\"type\":\"ResetTool\"},{\"attributes\":{\"plot\":{\"id\":\"c2ec9931-c8c5-4b26-ae8b-023b6df5ed14\",\"subtype\":\"Figure\",\"type\":\"Plot\"},\"ticker\":{\"id\":\"3ebbf8be-716f-4a6b-bd9c-4ad2a4e39dce\",\"type\":\"CategoricalTicker\"}},\"id\":\"52d6869b-7aff-4b0a-94b1-379f8147726e\",\"type\":\"Grid\"},{\"attributes\":{\"axis_label\":\"spectral band\",\"formatter\":{\"id\":\"ef31da00-3079-4f21-abe9-86d18efaeb62\",\"type\":\"CategoricalTickFormatter\"},\"plot\":{\"id\":\"c2ec9931-c8c5-4b26-ae8b-023b6df5ed14\",\"subtype\":\"Figure\",\"type\":\"Plot\"},\"ticker\":{\"id\":\"3ebbf8be-716f-4a6b-bd9c-4ad2a4e39dce\",\"type\":\"CategoricalTicker\"}},\"id\":\"9525b8dc-92c8-4f0e-8ff2-a429d24e7e3e\",\"type\":\"CategoricalAxis\"},{\"attributes\":{\"plot\":{\"id\":\"1626036e-1b48-46e6-80b9-77680af50f03\",\"subtype\":\"Figure\",\"type\":\"Plot\"},\"ticker\":{\"id\":\"f06918c7-f48c-428a-9f5a-10445752021a\",\"type\":\"CategoricalTicker\"}},\"id\":\"0957e2d4-876e-4958-8c9d-9f49bfdf9d91\",\"type\":\"Grid\"},{\"attributes\":{\"axis_label\":\"flux (W m-2)\",\"formatter\":{\"id\":\"fff86723-9ea3-415b-b02d-1718591d46b4\",\"type\":\"BasicTickFormatter\"},\"plot\":{\"id\":\"1626036e-1b48-46e6-80b9-77680af50f03\",\"subtype\":\"Figure\",\"type\":\"Plot\"},\"ticker\":{\"id\":\"5b8d3b60-ce80-4971-9ef4-be70f7992f55\",\"type\":\"BasicTicker\"}},\"id\":\"c10536fa-433f-4613-8324-8be12053dabe\",\"type\":\"LinearAxis\"},{\"attributes\":{},\"id\":\"1e7b146a-cead-48c9-b384-24de44eb1b10\",\"type\":\"CategoricalTickFormatter\"},{\"attributes\":{\"data_source\":{\"id\":\"f46b2247-7c20-46c9-9d8f-d594c381a57b\",\"type\":\"ColumnDataSource\"},\"glyph\":{\"id\":\"8088d636-6a9c-49cc-b26d-ef1d28c1e1f1\",\"type\":\"VBar\"},\"hover_glyph\":null,\"muted_glyph\":null,\"nonselection_glyph\":{\"id\":\"01d34629-2957-4407-97cb-33360fc35ece\",\"type\":\"VBar\"},\"selection_glyph\":null,\"view\":{\"id\":\"728ab677-ab80-40a8-8664-ac173d0a2bb5\",\"type\":\"CDSView\"}},\"id\":\"bb6e75fd-6a6c-4226-a497-b4dc3d242e38\",\"type\":\"GlyphRenderer\"},{\"attributes\":{},\"id\":\"5b8d3b60-ce80-4971-9ef4-be70f7992f55\",\"type\":\"BasicTicker\"},{\"attributes\":{\"callback\":null,\"factors\":[\"1\",\"2\",\"3\",\"4\",\"5\",\"6\",\"7\",\"8\",\"9\",\"10\",\"11\"]},\"id\":\"2b4febe2-a815-47b8-8b81-6de37fadf87c\",\"type\":\"FactorRange\"}],\"root_ids\":[\"d34411ed-3b8c-495c-a1b8-36aa1471bb1f\"]},\"title\":\"Bokeh Application\",\"version\":\"0.12.16\"}};\n",
       "  var render_items = [{\"docid\":\"48ae4806-bb10-407a-abfd-f4739d8b5062\",\"elementid\":\"fd7b8832-5814-476c-9a65-d2092b4708e1\",\"modelid\":\"d34411ed-3b8c-495c-a1b8-36aa1471bb1f\"}];\n",
       "  root.Bokeh.embed.embed_items_notebook(docs_json, render_items);\n",
       "\n",
       "  }\n",
       "  if (root.Bokeh !== undefined) {\n",
       "    embed_document(root);\n",
       "  } else {\n",
       "    var attempts = 0;\n",
       "    var timer = setInterval(function(root) {\n",
       "      if (root.Bokeh !== undefined) {\n",
       "        embed_document(root);\n",
       "        clearInterval(timer);\n",
       "      }\n",
       "      attempts++;\n",
       "      if (attempts > 100) {\n",
       "        console.log(\"Bokeh: ERROR: Unable to run BokehJS code because BokehJS library is missing\")\n",
       "        clearInterval(timer);\n",
       "      }\n",
       "    }, 10, root)\n",
       "  }\n",
       "})(window);"
      ],
      "application/vnd.bokehjs_exec.v0+json": ""
     },
     "metadata": {
      "application/vnd.bokehjs_exec.v0+json": {
       "id": "d34411ed-3b8c-495c-a1b8-36aa1471bb1f"
      }
     },
     "output_type": "display_data"
    },
    {
     "data": {
      "text/markdown": [
       "*FIGURE.* Difference between CLIRAD and CRD in TOA, SFC and net atmosphere flux, in each spectral band."
      ],
      "text/plain": [
       "<IPython.core.display.Markdown object>"
      ]
     },
     "metadata": {},
     "output_type": "display_data"
    },
    {
     "data": {
      "text/html": [
       "<div>\n",
       "<style scoped>\n",
       "    .dataframe tbody tr th:only-of-type {\n",
       "        vertical-align: middle;\n",
       "    }\n",
       "\n",
       "    .dataframe tbody tr th {\n",
       "        vertical-align: top;\n",
       "    }\n",
       "\n",
       "    .dataframe thead th {\n",
       "        text-align: right;\n",
       "    }\n",
       "</style>\n",
       "<table border=\"1\" class=\"dataframe\">\n",
       "  <thead>\n",
       "    <tr style=\"text-align: right;\">\n",
       "      <th></th>\n",
       "      <th>OLR flux</th>\n",
       "      <th>SFC flux</th>\n",
       "      <th>ATM heating</th>\n",
       "    </tr>\n",
       "    <tr>\n",
       "      <th>Sum over bands</th>\n",
       "      <th></th>\n",
       "      <th></th>\n",
       "      <th></th>\n",
       "    </tr>\n",
       "  </thead>\n",
       "  <tbody>\n",
       "    <tr>\n",
       "      <th>CLIRAD (single-run) - CRD</th>\n",
       "      <td>9.88</td>\n",
       "      <td>57.34</td>\n",
       "      <td>-47.46</td>\n",
       "    </tr>\n",
       "    <tr>\n",
       "      <th>CRD</th>\n",
       "      <td>-303.40</td>\n",
       "      <td>337.24</td>\n",
       "      <td>-181.37</td>\n",
       "    </tr>\n",
       "  </tbody>\n",
       "</table>\n",
       "</div>"
      ],
      "text/plain": [
       "                           OLR flux  SFC flux  ATM heating\n",
       "Sum over bands                                            \n",
       "CLIRAD (single-run) - CRD      9.88     57.34       -47.46\n",
       "CRD                         -303.40    337.24      -181.37"
      ]
     },
     "metadata": {},
     "output_type": "display_data"
    },
    {
     "data": {
      "text/markdown": [
       "*TABLE.* Difference between CLIRAD and CRD in TOA, SFC and net atmosphere flux, over all spectral bands. CRD's TOA, SFC and net atmosphere flux, over all spectral bands."
      ],
      "text/plain": [
       "<IPython.core.display.Markdown object>"
      ]
     },
     "metadata": {},
     "output_type": "display_data"
    }
   ],
   "source": [
    "def show_html(s):\n",
    "    display.display(display.HTML(s))\n",
    "\n",
    "    \n",
    "def show_markdown(s):\n",
    "    display.display(display.Markdown(s))\n",
    "\n",
    "\n",
    "def script():\n",
    "    \n",
    "    d_atm = {'mls': 'mid-latitude summer',\n",
    "             'saw': 'sub-arctic winter',\n",
    "             'trp': 'tropical'}\n",
    "    \n",
    "    title = ('## Results over entire range of molecules'\n",
    "             ' and spectral bands')\n",
    "    \n",
    "    s_makeup = 'Makeup of atmosphere.'\n",
    "    s_atmpro = '# {}'\n",
    "    s_cool = 'Cooling rates. {}.'\n",
    "    s_flux = 'Fluxes. {}.'\n",
    "    \n",
    "    atmpros = ['mls', 'saw', 'trp']\n",
    "    \n",
    "    # TOC\n",
    "    show_markdown(title)\n",
    "    show_markdown('### Table of Contents')\n",
    "    show_html(climahtml.getHTML_hrefanchor(s_makeup))\n",
    "    for atmpro in atmpros:\n",
    "        show_markdown('**' + d_atm[atmpro] + '**')\n",
    "        show_html(climahtml.getHTML_hrefanchor(s_cool.format(atmpro)))\n",
    "        show_html(climahtml.getHTML_hrefanchor(s_flux.format(atmpro)))\n",
    "\n",
    "        \n",
    "    # Atmosphere makeup\n",
    "    show_html(climahtml.getHTML_idanchor(s_makeup))\n",
    "    show_markdown(climahtml.getMarkdown_sectitle(s_makeup))\n",
    "    show_makeup()\n",
    "        \n",
    "    for atmpro in atmpros:\n",
    "        show_html(climahtml.getHTML_idanchor(s_cool.format(atmpro)))\n",
    "        show_markdown(\n",
    "            climahtml.getMarkdown_sectitle(s_cool.format(atmpro)))\n",
    "        show_cool(atmpro=atmpro)\n",
    "        show_html(climahtml.getHTML_idanchor(s_flux.format(atmpro)))\n",
    "        show_markdown(\n",
    "            climahtml.getMarkdown_sectitle(s_flux.format(atmpro)))\n",
    "        show_hist_flux(atmpro=atmpro)\n",
    "        show_tb_flux(atmpro=atmpro)\n",
    "    \n",
    "    \n",
    "script()  "
   ]
  },
  {
   "cell_type": "code",
   "execution_count": null,
   "metadata": {
    "collapsed": true
   },
   "outputs": [],
   "source": []
  },
  {
   "cell_type": "code",
   "execution_count": 14,
   "metadata": {},
   "outputs": [
    {
     "data": {
      "text/html": [
       "<script>\n",
       "code_show=true; \n",
       "function code_toggle() {\n",
       " if (code_show){\n",
       " $('div.input').hide();\n",
       " } else {\n",
       " $('div.input').show();\n",
       " }\n",
       " code_show = !code_show\n",
       "} \n",
       "$( document ).ready(code_toggle);\n",
       "</script>\n",
       "<form action=\"javascript:code_toggle()\"><input type=\"submit\" value=\"Click here to toggle on/off the raw code.\"></form>"
      ],
      "text/plain": [
       "<IPython.core.display.HTML object>"
      ]
     },
     "execution_count": 14,
     "metadata": {},
     "output_type": "execute_result"
    }
   ],
   "source": [
    "display.HTML('''<script>\n",
    "code_show=true; \n",
    "function code_toggle() {\n",
    " if (code_show){\n",
    " $('div.input').hide();\n",
    " } else {\n",
    " $('div.input').show();\n",
    " }\n",
    " code_show = !code_show\n",
    "} \n",
    "$( document ).ready(code_toggle);\n",
    "</script>\n",
    "<form action=\"javascript:code_toggle()\"><input type=\"submit\" value=\"Click here to toggle on/off the raw code.\"></form>''')"
   ]
  },
  {
   "cell_type": "code",
   "execution_count": null,
   "metadata": {
    "collapsed": true
   },
   "outputs": [],
   "source": []
  }
 ],
 "metadata": {
  "kernelspec": {
   "display_name": "Python 3",
   "language": "python",
   "name": "python3"
  },
  "language_info": {
   "codemirror_mode": {
    "name": "ipython",
    "version": 3
   },
   "file_extension": ".py",
   "mimetype": "text/x-python",
   "name": "python",
   "nbconvert_exporter": "python",
   "pygments_lexer": "ipython3",
   "version": "3.6.1"
  }
 },
 "nbformat": 4,
 "nbformat_minor": 2
}
