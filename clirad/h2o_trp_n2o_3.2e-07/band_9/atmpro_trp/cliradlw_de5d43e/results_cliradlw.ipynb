{
 "cells": [
  {
   "cell_type": "code",
   "execution_count": 1,
   "metadata": {
    "collapsed": true
   },
   "outputs": [],
   "source": [
    "%matplotlib inline\n",
    "import os\n",
    "import re\n",
    "import io\n",
    "import itertools\n",
    "import pprint\n",
    "\n",
    "from bokeh.io import output_notebook, show\n",
    "from bokeh.layouts import gridplot\n",
    "from bokeh.plotting import figure\n",
    "from bokeh.models import Range1d, Legend\n",
    "from bokeh.palettes import all_palettes\n",
    "\n",
    "import matplotlib\n",
    "import matplotlib.pyplot as plt\n",
    "import numpy as np\n",
    "import pandas as pd\n",
    "import xarray as xr\n",
    "\n",
    "import climatools.lblnew.bestfit_params as bestfits\n",
    "from climatools.lblnew import setup_bestfit, setup_overlap\n",
    "import climatools.lblnew.pipeline as pipe_lblnew\n",
    "import climatools.cliradlw.setup as setup_cliradlw\n",
    "import climatools.cliradlw.pipeline as pipe_cliradlw\n",
    "\n",
    "import climatools.html.html as climahtml\n",
    "from climatools.lblnew.dataio import *\n",
    "from climatools.plot.plot import *\n",
    "\n",
    "\n",
    "import IPython.display as display"
   ]
  },
  {
   "cell_type": "code",
   "execution_count": 2,
   "metadata": {
    "collapsed": true
   },
   "outputs": [],
   "source": [
    "%run param.py"
   ]
  },
  {
   "cell_type": "code",
   "execution_count": 3,
   "metadata": {
    "collapsed": true
   },
   "outputs": [
    {
     "name": "stdout",
     "output_type": "stream",
     "text": [
      "The history saving thread hit an unexpected error (OperationalError('database is locked',)).History will not be written to the database.\n"
     ]
    }
   ],
   "source": [
    "def load_output_file(path_csv):\n",
    "    '''\n",
    "    Load lblnew output .csv file to xarray.Dataset\n",
    "    \n",
    "    Parameters\n",
    "    ----------\n",
    "    path_csv: str\n",
    "              Path to the .csv file to be loaded.\n",
    "    ds: xarray.Dataset\n",
    "        Data in the input file in the form of an xarray.Dataset.\n",
    "    '''\n",
    "    toindex = ['band', 'pressure', 'igg', 'g']    \n",
    "    df = pd.read_csv(path_csv, sep=r'\\s+')\n",
    "    df = df.set_index([i for i in toindex if i in df.columns])\n",
    "    df = df.rename(columns={'sfu': 'flug',\n",
    "                            'sfd': 'fldg',\n",
    "                            'fnet': 'fnetg',\n",
    "                            'coolr': 'coolrg'})\n",
    "    ds = xr.Dataset.from_dataframe(df)\n",
    "\n",
    "    for l in ('level', 'layer'):\n",
    "        if l in ds.data_vars:\n",
    "            if len(ds[l].dims) > 1:\n",
    "                surface = {d: 0 for d in ds.dims if d != 'pressure'}\n",
    "                coord_level = ds[l][surface]\n",
    "                ds.coords[l] = ('pressure', coord_level)\n",
    "            else:\n",
    "                ds.coords[l] = ('pressure', ds[l])\n",
    "    \n",
    "    return ds"
   ]
  },
  {
   "cell_type": "code",
   "execution_count": 4,
   "metadata": {
    "collapsed": true
   },
   "outputs": [],
   "source": [
    "def lblnew_setup(param=None):\n",
    "    if 'ng_refs' in param:\n",
    "        return {'setup': setup_bestfit,\n",
    "                'fname_flux_crd': 'output_flux.dat',\n",
    "                'fname_cool_crd': 'output_coolr.dat',\n",
    "                'fname_flux_wgt': 'output_wfluxg.dat',\n",
    "                'fname_cool_wgt': 'output_wcoolrg.dat'}\n",
    "    else:\n",
    "        return {'setup': setup_overlap,\n",
    "                'fname_flux_crd': 'output_flux.dat',\n",
    "                'fname_cool_crd': 'output_coolr.dat',\n",
    "                'fname_flux_wgt': 'output_wflux.dat',\n",
    "                'fname_cool_wgt': 'output_wcoolr.dat'}\n",
    "\n",
    "    \n",
    "def load_lblnew_data(param):\n",
    "    \n",
    "    fname_dsname = [('fname_flux_crd', 'ds_flux_crd'),\n",
    "                    ('fname_cool_crd', 'ds_cool_crd'),\n",
    "                    ('fname_flux_wgt', 'ds_flux_wgt'),\n",
    "                    ('fname_cool_wgt', 'ds_cool_wgt')]\n",
    "    \n",
    "    d = lblnew_setup(param)\n",
    "    dir_fortran = pipe_lblnew.get_dir_case(param, setup=d['setup'])\n",
    "    \n",
    "    data_dict = {}\n",
    "    for fname, dsname in fname_dsname:\n",
    "        fpath = os.path.join(dir_fortran, d[fname])\n",
    "        data_dict[dsname] = load_output_file(fpath)\n",
    "    return data_dict\n",
    "    \n",
    "\n",
    "    \n",
    "    "
   ]
  },
  {
   "cell_type": "code",
   "execution_count": 5,
   "metadata": {
    "collapsed": true
   },
   "outputs": [],
   "source": [
    "d = load_lblnew_data(PARAM_LBLNEW)\n",
    "\n",
    "DS_FLUX_CRD = d['ds_flux_crd']\n",
    "DS_COOL_CRD = d['ds_cool_crd']\n",
    "DS_FLUX_WGT = d['ds_flux_wgt']\n",
    "DS_COOL_WGT = d['ds_cool_wgt']"
   ]
  },
  {
   "cell_type": "code",
   "execution_count": 6,
   "metadata": {
    "collapsed": true
   },
   "outputs": [],
   "source": [
    "DIR_FORTRAN = pipe_cliradlw.get_fortran_dir(PARAM, \n",
    "                                            setup=setup_cliradlw)\n",
    "\n",
    "PATH_FLUX = os.path.join(DIR_FORTRAN, 'output_flux.dat')\n",
    "PATH_COOL = os.path.join(DIR_FORTRAN, 'output_coolr.dat')\n",
    "\n",
    "DS_FLUX = load_output_file(PATH_FLUX)\n",
    "DS_COOL = load_output_file(PATH_COOL)"
   ]
  },
  {
   "cell_type": "code",
   "execution_count": 7,
   "metadata": {
    "collapsed": true
   },
   "outputs": [
    {
     "data": {
      "text/html": [
       "\n",
       "    <div class=\"bk-root\">\n",
       "        <a href=\"https://bokeh.pydata.org\" target=\"_blank\" class=\"bk-logo bk-logo-small bk-logo-notebook\"></a>\n",
       "        <span id=\"205f6d66-da3c-4037-b0a3-8c92778b04e4\">Loading BokehJS ...</span>\n",
       "    </div>"
      ]
     },
     "metadata": {},
     "output_type": "display_data"
    },
    {
     "data": {
      "application/javascript": [
       "\n",
       "(function(root) {\n",
       "  function now() {\n",
       "    return new Date();\n",
       "  }\n",
       "\n",
       "  var force = true;\n",
       "\n",
       "  if (typeof (root._bokeh_onload_callbacks) === \"undefined\" || force === true) {\n",
       "    root._bokeh_onload_callbacks = [];\n",
       "    root._bokeh_is_loading = undefined;\n",
       "  }\n",
       "\n",
       "  var JS_MIME_TYPE = 'application/javascript';\n",
       "  var HTML_MIME_TYPE = 'text/html';\n",
       "  var EXEC_MIME_TYPE = 'application/vnd.bokehjs_exec.v0+json';\n",
       "  var CLASS_NAME = 'output_bokeh rendered_html';\n",
       "\n",
       "  /**\n",
       "   * Render data to the DOM node\n",
       "   */\n",
       "  function render(props, node) {\n",
       "    var script = document.createElement(\"script\");\n",
       "    node.appendChild(script);\n",
       "  }\n",
       "\n",
       "  /**\n",
       "   * Handle when an output is cleared or removed\n",
       "   */\n",
       "  function handleClearOutput(event, handle) {\n",
       "    var cell = handle.cell;\n",
       "\n",
       "    var id = cell.output_area._bokeh_element_id;\n",
       "    var server_id = cell.output_area._bokeh_server_id;\n",
       "    // Clean up Bokeh references\n",
       "    if (id !== undefined) {\n",
       "      Bokeh.index[id].model.document.clear();\n",
       "      delete Bokeh.index[id];\n",
       "    }\n",
       "\n",
       "    if (server_id !== undefined) {\n",
       "      // Clean up Bokeh references\n",
       "      var cmd = \"from bokeh.io.state import curstate; print(curstate().uuid_to_server['\" + server_id + \"'].get_sessions()[0].document.roots[0]._id)\";\n",
       "      cell.notebook.kernel.execute(cmd, {\n",
       "        iopub: {\n",
       "          output: function(msg) {\n",
       "            var element_id = msg.content.text.trim();\n",
       "            Bokeh.index[element_id].model.document.clear();\n",
       "            delete Bokeh.index[element_id];\n",
       "          }\n",
       "        }\n",
       "      });\n",
       "      // Destroy server and session\n",
       "      var cmd = \"import bokeh.io.notebook as ion; ion.destroy_server('\" + server_id + \"')\";\n",
       "      cell.notebook.kernel.execute(cmd);\n",
       "    }\n",
       "  }\n",
       "\n",
       "  /**\n",
       "   * Handle when a new output is added\n",
       "   */\n",
       "  function handleAddOutput(event, handle) {\n",
       "    var output_area = handle.output_area;\n",
       "    var output = handle.output;\n",
       "\n",
       "    // limit handleAddOutput to display_data with EXEC_MIME_TYPE content only\n",
       "    if ((output.output_type != \"display_data\") || (!output.data.hasOwnProperty(EXEC_MIME_TYPE))) {\n",
       "      return\n",
       "    }\n",
       "\n",
       "    var toinsert = output_area.element.find(\".\" + CLASS_NAME.split(' ')[0]);\n",
       "\n",
       "    if (output.metadata[EXEC_MIME_TYPE][\"id\"] !== undefined) {\n",
       "      toinsert[toinsert.length - 1].firstChild.textContent = output.data[JS_MIME_TYPE];\n",
       "      // store reference to embed id on output_area\n",
       "      output_area._bokeh_element_id = output.metadata[EXEC_MIME_TYPE][\"id\"];\n",
       "    }\n",
       "    if (output.metadata[EXEC_MIME_TYPE][\"server_id\"] !== undefined) {\n",
       "      var bk_div = document.createElement(\"div\");\n",
       "      bk_div.innerHTML = output.data[HTML_MIME_TYPE];\n",
       "      var script_attrs = bk_div.children[0].attributes;\n",
       "      for (var i = 0; i < script_attrs.length; i++) {\n",
       "        toinsert[toinsert.length - 1].firstChild.setAttribute(script_attrs[i].name, script_attrs[i].value);\n",
       "      }\n",
       "      // store reference to server id on output_area\n",
       "      output_area._bokeh_server_id = output.metadata[EXEC_MIME_TYPE][\"server_id\"];\n",
       "    }\n",
       "  }\n",
       "\n",
       "  function register_renderer(events, OutputArea) {\n",
       "\n",
       "    function append_mime(data, metadata, element) {\n",
       "      // create a DOM node to render to\n",
       "      var toinsert = this.create_output_subarea(\n",
       "        metadata,\n",
       "        CLASS_NAME,\n",
       "        EXEC_MIME_TYPE\n",
       "      );\n",
       "      this.keyboard_manager.register_events(toinsert);\n",
       "      // Render to node\n",
       "      var props = {data: data, metadata: metadata[EXEC_MIME_TYPE]};\n",
       "      render(props, toinsert[toinsert.length - 1]);\n",
       "      element.append(toinsert);\n",
       "      return toinsert\n",
       "    }\n",
       "\n",
       "    /* Handle when an output is cleared or removed */\n",
       "    events.on('clear_output.CodeCell', handleClearOutput);\n",
       "    events.on('delete.Cell', handleClearOutput);\n",
       "\n",
       "    /* Handle when a new output is added */\n",
       "    events.on('output_added.OutputArea', handleAddOutput);\n",
       "\n",
       "    /**\n",
       "     * Register the mime type and append_mime function with output_area\n",
       "     */\n",
       "    OutputArea.prototype.register_mime_type(EXEC_MIME_TYPE, append_mime, {\n",
       "      /* Is output safe? */\n",
       "      safe: true,\n",
       "      /* Index of renderer in `output_area.display_order` */\n",
       "      index: 0\n",
       "    });\n",
       "  }\n",
       "\n",
       "  // register the mime type if in Jupyter Notebook environment and previously unregistered\n",
       "  if (root.Jupyter !== undefined) {\n",
       "    var events = require('base/js/events');\n",
       "    var OutputArea = require('notebook/js/outputarea').OutputArea;\n",
       "\n",
       "    if (OutputArea.prototype.mime_types().indexOf(EXEC_MIME_TYPE) == -1) {\n",
       "      register_renderer(events, OutputArea);\n",
       "    }\n",
       "  }\n",
       "\n",
       "  \n",
       "  if (typeof (root._bokeh_timeout) === \"undefined\" || force === true) {\n",
       "    root._bokeh_timeout = Date.now() + 5000;\n",
       "    root._bokeh_failed_load = false;\n",
       "  }\n",
       "\n",
       "  var NB_LOAD_WARNING = {'data': {'text/html':\n",
       "     \"<div style='background-color: #fdd'>\\n\"+\n",
       "     \"<p>\\n\"+\n",
       "     \"BokehJS does not appear to have successfully loaded. If loading BokehJS from CDN, this \\n\"+\n",
       "     \"may be due to a slow or bad network connection. Possible fixes:\\n\"+\n",
       "     \"</p>\\n\"+\n",
       "     \"<ul>\\n\"+\n",
       "     \"<li>re-rerun `output_notebook()` to attempt to load from CDN again, or</li>\\n\"+\n",
       "     \"<li>use INLINE resources instead, as so:</li>\\n\"+\n",
       "     \"</ul>\\n\"+\n",
       "     \"<code>\\n\"+\n",
       "     \"from bokeh.resources import INLINE\\n\"+\n",
       "     \"output_notebook(resources=INLINE)\\n\"+\n",
       "     \"</code>\\n\"+\n",
       "     \"</div>\"}};\n",
       "\n",
       "  function display_loaded() {\n",
       "    var el = document.getElementById(\"205f6d66-da3c-4037-b0a3-8c92778b04e4\");\n",
       "    if (el != null) {\n",
       "      el.textContent = \"BokehJS is loading...\";\n",
       "    }\n",
       "    if (root.Bokeh !== undefined) {\n",
       "      if (el != null) {\n",
       "        el.textContent = \"BokehJS \" + root.Bokeh.version + \" successfully loaded.\";\n",
       "      }\n",
       "    } else if (Date.now() < root._bokeh_timeout) {\n",
       "      setTimeout(display_loaded, 100)\n",
       "    }\n",
       "  }\n",
       "\n",
       "\n",
       "  function run_callbacks() {\n",
       "    try {\n",
       "      root._bokeh_onload_callbacks.forEach(function(callback) { callback() });\n",
       "    }\n",
       "    finally {\n",
       "      delete root._bokeh_onload_callbacks\n",
       "    }\n",
       "    console.info(\"Bokeh: all callbacks have finished\");\n",
       "  }\n",
       "\n",
       "  function load_libs(js_urls, callback) {\n",
       "    root._bokeh_onload_callbacks.push(callback);\n",
       "    if (root._bokeh_is_loading > 0) {\n",
       "      console.log(\"Bokeh: BokehJS is being loaded, scheduling callback at\", now());\n",
       "      return null;\n",
       "    }\n",
       "    if (js_urls == null || js_urls.length === 0) {\n",
       "      run_callbacks();\n",
       "      return null;\n",
       "    }\n",
       "    console.log(\"Bokeh: BokehJS not loaded, scheduling load and callback at\", now());\n",
       "    root._bokeh_is_loading = js_urls.length;\n",
       "    for (var i = 0; i < js_urls.length; i++) {\n",
       "      var url = js_urls[i];\n",
       "      var s = document.createElement('script');\n",
       "      s.src = url;\n",
       "      s.async = false;\n",
       "      s.onreadystatechange = s.onload = function() {\n",
       "        root._bokeh_is_loading--;\n",
       "        if (root._bokeh_is_loading === 0) {\n",
       "          console.log(\"Bokeh: all BokehJS libraries loaded\");\n",
       "          run_callbacks()\n",
       "        }\n",
       "      };\n",
       "      s.onerror = function() {\n",
       "        console.warn(\"failed to load library \" + url);\n",
       "      };\n",
       "      console.log(\"Bokeh: injecting script tag for BokehJS library: \", url);\n",
       "      document.getElementsByTagName(\"head\")[0].appendChild(s);\n",
       "    }\n",
       "  };var element = document.getElementById(\"205f6d66-da3c-4037-b0a3-8c92778b04e4\");\n",
       "  if (element == null) {\n",
       "    console.log(\"Bokeh: ERROR: autoload.js configured with elementid '205f6d66-da3c-4037-b0a3-8c92778b04e4' but no matching script tag was found. \")\n",
       "    return false;\n",
       "  }\n",
       "\n",
       "  var js_urls = [\"https://cdn.pydata.org/bokeh/release/bokeh-0.12.16.min.js\", \"https://cdn.pydata.org/bokeh/release/bokeh-widgets-0.12.16.min.js\", \"https://cdn.pydata.org/bokeh/release/bokeh-tables-0.12.16.min.js\", \"https://cdn.pydata.org/bokeh/release/bokeh-gl-0.12.16.min.js\"];\n",
       "\n",
       "  var inline_js = [\n",
       "    function(Bokeh) {\n",
       "      Bokeh.set_log_level(\"info\");\n",
       "    },\n",
       "    \n",
       "    function(Bokeh) {\n",
       "      \n",
       "    },\n",
       "    function(Bokeh) {\n",
       "      console.log(\"Bokeh: injecting CSS: https://cdn.pydata.org/bokeh/release/bokeh-0.12.16.min.css\");\n",
       "      Bokeh.embed.inject_css(\"https://cdn.pydata.org/bokeh/release/bokeh-0.12.16.min.css\");\n",
       "      console.log(\"Bokeh: injecting CSS: https://cdn.pydata.org/bokeh/release/bokeh-widgets-0.12.16.min.css\");\n",
       "      Bokeh.embed.inject_css(\"https://cdn.pydata.org/bokeh/release/bokeh-widgets-0.12.16.min.css\");\n",
       "      console.log(\"Bokeh: injecting CSS: https://cdn.pydata.org/bokeh/release/bokeh-tables-0.12.16.min.css\");\n",
       "      Bokeh.embed.inject_css(\"https://cdn.pydata.org/bokeh/release/bokeh-tables-0.12.16.min.css\");\n",
       "    }\n",
       "  ];\n",
       "\n",
       "  function run_inline_js() {\n",
       "    \n",
       "    if ((root.Bokeh !== undefined) || (force === true)) {\n",
       "      for (var i = 0; i < inline_js.length; i++) {\n",
       "        inline_js[i].call(root, root.Bokeh);\n",
       "      }if (force === true) {\n",
       "        display_loaded();\n",
       "      }} else if (Date.now() < root._bokeh_timeout) {\n",
       "      setTimeout(run_inline_js, 100);\n",
       "    } else if (!root._bokeh_failed_load) {\n",
       "      console.log(\"Bokeh: BokehJS failed to load within specified timeout.\");\n",
       "      root._bokeh_failed_load = true;\n",
       "    } else if (force !== true) {\n",
       "      var cell = $(document.getElementById(\"205f6d66-da3c-4037-b0a3-8c92778b04e4\")).parents('.cell').data().cell;\n",
       "      cell.output_area.append_execute_result(NB_LOAD_WARNING)\n",
       "    }\n",
       "\n",
       "  }\n",
       "\n",
       "  if (root._bokeh_is_loading === 0) {\n",
       "    console.log(\"Bokeh: BokehJS loaded, going straight to plotting\");\n",
       "    run_inline_js();\n",
       "  } else {\n",
       "    load_libs(js_urls, function() {\n",
       "      console.log(\"Bokeh: BokehJS plotting callback run at\", now());\n",
       "      run_inline_js();\n",
       "    });\n",
       "  }\n",
       "}(window));"
      ],
      "application/vnd.bokehjs_load.v0+json": "\n(function(root) {\n  function now() {\n    return new Date();\n  }\n\n  var force = true;\n\n  if (typeof (root._bokeh_onload_callbacks) === \"undefined\" || force === true) {\n    root._bokeh_onload_callbacks = [];\n    root._bokeh_is_loading = undefined;\n  }\n\n  \n\n  \n  if (typeof (root._bokeh_timeout) === \"undefined\" || force === true) {\n    root._bokeh_timeout = Date.now() + 5000;\n    root._bokeh_failed_load = false;\n  }\n\n  var NB_LOAD_WARNING = {'data': {'text/html':\n     \"<div style='background-color: #fdd'>\\n\"+\n     \"<p>\\n\"+\n     \"BokehJS does not appear to have successfully loaded. If loading BokehJS from CDN, this \\n\"+\n     \"may be due to a slow or bad network connection. Possible fixes:\\n\"+\n     \"</p>\\n\"+\n     \"<ul>\\n\"+\n     \"<li>re-rerun `output_notebook()` to attempt to load from CDN again, or</li>\\n\"+\n     \"<li>use INLINE resources instead, as so:</li>\\n\"+\n     \"</ul>\\n\"+\n     \"<code>\\n\"+\n     \"from bokeh.resources import INLINE\\n\"+\n     \"output_notebook(resources=INLINE)\\n\"+\n     \"</code>\\n\"+\n     \"</div>\"}};\n\n  function display_loaded() {\n    var el = document.getElementById(\"205f6d66-da3c-4037-b0a3-8c92778b04e4\");\n    if (el != null) {\n      el.textContent = \"BokehJS is loading...\";\n    }\n    if (root.Bokeh !== undefined) {\n      if (el != null) {\n        el.textContent = \"BokehJS \" + root.Bokeh.version + \" successfully loaded.\";\n      }\n    } else if (Date.now() < root._bokeh_timeout) {\n      setTimeout(display_loaded, 100)\n    }\n  }\n\n\n  function run_callbacks() {\n    try {\n      root._bokeh_onload_callbacks.forEach(function(callback) { callback() });\n    }\n    finally {\n      delete root._bokeh_onload_callbacks\n    }\n    console.info(\"Bokeh: all callbacks have finished\");\n  }\n\n  function load_libs(js_urls, callback) {\n    root._bokeh_onload_callbacks.push(callback);\n    if (root._bokeh_is_loading > 0) {\n      console.log(\"Bokeh: BokehJS is being loaded, scheduling callback at\", now());\n      return null;\n    }\n    if (js_urls == null || js_urls.length === 0) {\n      run_callbacks();\n      return null;\n    }\n    console.log(\"Bokeh: BokehJS not loaded, scheduling load and callback at\", now());\n    root._bokeh_is_loading = js_urls.length;\n    for (var i = 0; i < js_urls.length; i++) {\n      var url = js_urls[i];\n      var s = document.createElement('script');\n      s.src = url;\n      s.async = false;\n      s.onreadystatechange = s.onload = function() {\n        root._bokeh_is_loading--;\n        if (root._bokeh_is_loading === 0) {\n          console.log(\"Bokeh: all BokehJS libraries loaded\");\n          run_callbacks()\n        }\n      };\n      s.onerror = function() {\n        console.warn(\"failed to load library \" + url);\n      };\n      console.log(\"Bokeh: injecting script tag for BokehJS library: \", url);\n      document.getElementsByTagName(\"head\")[0].appendChild(s);\n    }\n  };var element = document.getElementById(\"205f6d66-da3c-4037-b0a3-8c92778b04e4\");\n  if (element == null) {\n    console.log(\"Bokeh: ERROR: autoload.js configured with elementid '205f6d66-da3c-4037-b0a3-8c92778b04e4' but no matching script tag was found. \")\n    return false;\n  }\n\n  var js_urls = [\"https://cdn.pydata.org/bokeh/release/bokeh-0.12.16.min.js\", \"https://cdn.pydata.org/bokeh/release/bokeh-widgets-0.12.16.min.js\", \"https://cdn.pydata.org/bokeh/release/bokeh-tables-0.12.16.min.js\", \"https://cdn.pydata.org/bokeh/release/bokeh-gl-0.12.16.min.js\"];\n\n  var inline_js = [\n    function(Bokeh) {\n      Bokeh.set_log_level(\"info\");\n    },\n    \n    function(Bokeh) {\n      \n    },\n    function(Bokeh) {\n      console.log(\"Bokeh: injecting CSS: https://cdn.pydata.org/bokeh/release/bokeh-0.12.16.min.css\");\n      Bokeh.embed.inject_css(\"https://cdn.pydata.org/bokeh/release/bokeh-0.12.16.min.css\");\n      console.log(\"Bokeh: injecting CSS: https://cdn.pydata.org/bokeh/release/bokeh-widgets-0.12.16.min.css\");\n      Bokeh.embed.inject_css(\"https://cdn.pydata.org/bokeh/release/bokeh-widgets-0.12.16.min.css\");\n      console.log(\"Bokeh: injecting CSS: https://cdn.pydata.org/bokeh/release/bokeh-tables-0.12.16.min.css\");\n      Bokeh.embed.inject_css(\"https://cdn.pydata.org/bokeh/release/bokeh-tables-0.12.16.min.css\");\n    }\n  ];\n\n  function run_inline_js() {\n    \n    if ((root.Bokeh !== undefined) || (force === true)) {\n      for (var i = 0; i < inline_js.length; i++) {\n        inline_js[i].call(root, root.Bokeh);\n      }if (force === true) {\n        display_loaded();\n      }} else if (Date.now() < root._bokeh_timeout) {\n      setTimeout(run_inline_js, 100);\n    } else if (!root._bokeh_failed_load) {\n      console.log(\"Bokeh: BokehJS failed to load within specified timeout.\");\n      root._bokeh_failed_load = true;\n    } else if (force !== true) {\n      var cell = $(document.getElementById(\"205f6d66-da3c-4037-b0a3-8c92778b04e4\")).parents('.cell').data().cell;\n      cell.output_area.append_execute_result(NB_LOAD_WARNING)\n    }\n\n  }\n\n  if (root._bokeh_is_loading === 0) {\n    console.log(\"Bokeh: BokehJS loaded, going straight to plotting\");\n    run_inline_js();\n  } else {\n    load_libs(js_urls, function() {\n      console.log(\"Bokeh: BokehJS plotting callback run at\", now());\n      run_inline_js();\n    });\n  }\n}(window));"
     },
     "metadata": {},
     "output_type": "display_data"
    }
   ],
   "source": [
    "output_notebook()"
   ]
  },
  {
   "cell_type": "code",
   "execution_count": 8,
   "metadata": {
    "collapsed": true
   },
   "outputs": [],
   "source": [
    "def fmt_cool(ds_in):\n",
    "    ds = ds_in.copy(deep=True)\n",
    "    if 'igg' in ds.dims:\n",
    "        ds = ds.sel(igg=1)\n",
    "\n",
    "    if 'g' in ds.dims:\n",
    "        ds = ds.sum('g')\n",
    "            \n",
    "    if 'band' in ds.dims:\n",
    "        try:\n",
    "            ds = ds.squeeze('band')\n",
    "        except ValueError:\n",
    "            ds = ds.sum('band')\n",
    "                \n",
    "    return ds['coolrg']\n",
    "\n",
    "\n",
    "def pltdata_cooling_1(ds_cool=None,\n",
    "                      ds_cool_crd=None, ds_cool_wgt=None):\n",
    "    \n",
    "\n",
    "\n",
    "    colors = all_palettes['Set1'][4]\n",
    "    data = [{'label': 'CLIRAD `coolr_bands`',\n",
    "             'srs': fmt_cool(ds_cool),\n",
    "             'line_dash': 'dashed', 'line_width': 5,\n",
    "             'color': colors[0], 'alpha': .6},\n",
    "            {'label': 'CRD',\n",
    "             'srs': fmt_cool(ds_cool_crd),\n",
    "             'line_dash': 'solid', 'line_width': 1.5,\n",
    "             'marker': 'circle', 'marker_size': 5,\n",
    "             'color': colors[2], 'alpha': 1,},\n",
    "            {'label': 'WGT igg=10 wgt_flux=2',\n",
    "             'srs': fmt_cool(ds_cool_wgt),\n",
    "             'line_dash': 'solid', 'line_width': 3,\n",
    "             'marker': 'square', 'marker_size': 5,\n",
    "             'color': colors[3], 'alpha': .6}]\n",
    "    return data\n",
    "\n",
    "\n",
    "def nice_xlims(pltdata=None, prange=None):\n",
    "    \n",
    "    def get_slice(srs):\n",
    "        return srs.sel(pressure=slice(*prange))\n",
    "    \n",
    "    srss = [d['srs'] for d in pltdata]\n",
    "    vmin = min([get_slice(srs).min() for srs in srss])\n",
    "    vmax = max([get_slice(srs).max() for srs in srss])\n",
    "    dv = (vmax - vmin) * .01\n",
    "    return float(vmin - dv), float(vmax + dv)\n",
    "    \n",
    "\n",
    "def plt_cooling_bokeh(pltdata=None):\n",
    "    '''\n",
    "    Plot a list of cooling rate profiles using bokeh.\n",
    "    '''\n",
    "    ymin = 1e-2 \n",
    "    ymax = 1020 \n",
    "        \n",
    "    p1 = figure(title=\"Linear pressure scale\", \n",
    "                plot_width=400)        \n",
    "    xmin, xmax = nice_xlims(pltdata, prange=(50, 1050))\n",
    "    for d in pltdata:\n",
    "        if 'marker' in d:\n",
    "            getattr(p1, d['marker'])(d['srs'].values, \n",
    "                    d['srs'].coords['pressure'].values,\n",
    "                    color=d['color'], alpha=.7)\n",
    "        p1.line(d['srs'].values, \n",
    "                d['srs'].coords['pressure'].values,\n",
    "                color=d['color'], alpha=d['alpha'], \n",
    "                line_width=d['line_width'], line_dash=d['line_dash'])\n",
    "    \n",
    "    p1.y_range = Range1d(ymax, ymin)\n",
    "    p1.yaxis.axis_label = 'pressure [mb]'   \n",
    "    p1.x_range = Range1d(xmin, xmax)\n",
    "    p1.xaxis.axis_label = 'cooling rate [K/day]'\n",
    "            \n",
    "    p2 = figure(title='Log pressure scale', y_axis_type='log',\n",
    "                plot_width=560)\n",
    "    xmin, xmax = nice_xlims(pltdata, prange=(.01, 200))\n",
    "    \n",
    "    rs = []\n",
    "    for d in pltdata:\n",
    "        rd = []\n",
    "        if 'marker' in d:\n",
    "            r_mark = getattr(p2, d['marker'])(d['srs'].values, \n",
    "                        d['srs'].coords['pressure'].values,\n",
    "                        color=d['color'], alpha=.7)\n",
    "            rd.append(r_mark)\n",
    "        r_line = p2.line(d['srs'].values, \n",
    "                    d['srs'].coords['pressure'].values,\n",
    "                    color=d['color'], alpha=d['alpha'], \n",
    "                    line_width=d['line_width'], line_dash=d['line_dash'])\n",
    "        rd.append(r_line)\n",
    "      \n",
    "        rs.append(rd)\n",
    "        \n",
    "    p2.y_range = Range1d(ymax, ymin)  \n",
    "    p2.yaxis.axis_label = 'pressure [mb]'\n",
    "    \n",
    "    p2.x_range = Range1d(xmin, xmax)\n",
    "    p2.xaxis.axis_label = 'cooling rate [K/day]'\n",
    "    \n",
    "    items = [(d['label'], r) for r, d in zip(rs, pltdata)]\n",
    "    legend = Legend(items=items, location=(10, -30))\n",
    "    legend.label_text_font_size = '8pt'\n",
    "    \n",
    "    p2.add_layout(legend, 'right')  \n",
    "    \n",
    "    show(gridplot(p1, p2, ncols=2, plot_height=500))\n",
    "    \n",
    "\n",
    "def script_plt_cooling():\n",
    "    pltdata = pltdata_cooling_1(\n",
    "        ds_cool=DS_COOL,\n",
    "        ds_cool_crd=DS_COOL_CRD,\n",
    "        ds_cool_wgt=DS_COOL_WGT)\n",
    "    plt_cooling_bokeh(pltdata=pltdata)\n",
    "    print('''FIGURE. Cooling rate profiles.''')"
   ]
  },
  {
   "cell_type": "code",
   "execution_count": 9,
   "metadata": {
    "collapsed": true
   },
   "outputs": [],
   "source": [
    "def fmt_flux(ds_in):\n",
    "    ds = ds_in.copy(deep=True)\n",
    "    \n",
    "    for l in ('level', 'layer'):\n",
    "        if l in ds.data_vars:\n",
    "            if len(ds[l].dims) > 1:\n",
    "                surface = {d: 0 for d in ds.dims if d != 'pressure'}\n",
    "                coord_level = ds[l][surface]\n",
    "                ds.coords[l] = ('pressure', coord_level)\n",
    "            else:\n",
    "                ds.coords[l] = ('pressure', ds[l])\n",
    "        \n",
    "    ds = ds.isel(pressure=[0, 23, -1])\n",
    "        \n",
    "    if 'igg' in ds.dims:\n",
    "        ds = ds.sel(igg=[1])\n",
    "        ds = ds.squeeze('igg').drop('igg')\n",
    "    \n",
    "    if 'g' in ds.dims:\n",
    "        ds = ds.sum('g')\n",
    "            \n",
    "    if 'band' in ds.dims:\n",
    "        try:\n",
    "            ds = ds.squeeze('band').drop('band')\n",
    "        except ValueError:\n",
    "            ds = ds.sum('band')\n",
    "                \n",
    "    df = ds.to_dataframe()\n",
    "    df = df.set_index('level', append=True)               \n",
    "    return df\n",
    "\n",
    "\n",
    "def tbdata_flux(ds_flux=None, ds_flux_crd=None, ds_flux_wgt=None):\n",
    "    ilevels = [0, 23, -1]\n",
    "            \n",
    "    benchmark = {'label': 'CRD',\n",
    "                 'df': fmt_flux(ds_flux_crd)}\n",
    "    \n",
    "    tbs = [{'label': 'WGT igg=10 wgt_flux=1',\n",
    "            'df': fmt_flux(ds_flux_wgt)},\n",
    "           {'label': 'CLIRAD',\n",
    "            'df': fmt_flux(ds_flux)}]\n",
    "    \n",
    "    data = {'benchmark': benchmark, 'others': tbs}\n",
    "    return data\n",
    "\n",
    "\n",
    "def tb_flux(tbdata=None):\n",
    "    benchmark = tbdata['benchmark']\n",
    "    others = tbdata['others']\n",
    "    \n",
    "    def show_tb(d=None):\n",
    "        display.display(d['df'])\n",
    "        print('Table.', 'Fluxes.', d['label'])\n",
    "        \n",
    "    def show_tbdiff(d0=None, d=None):\n",
    "        df = d['df']\n",
    "        df.index = d0['df'].index\n",
    "        display.display(df - d0['df'])\n",
    "        print('Table.', 'Fluxes.', \n",
    "              '({}) - ({})'.format(d['label'], d0['label']))\n",
    "        \n",
    "    show_tb(benchmark)\n",
    "    for d in others:\n",
    "        show_tb(d)\n",
    "        \n",
    "    for d in others:\n",
    "        show_tbdiff(d=d, d0=benchmark)\n",
    "        \n",
    "        \n",
    "def script_tb_flux():\n",
    "    data = tbdata_flux(ds_flux=DS_FLUX,\n",
    "                       ds_flux_crd=DS_FLUX_CRD,\n",
    "                       ds_flux_wgt=DS_FLUX_WGT)\n",
    "    tb_flux(tbdata=data)"
   ]
  },
  {
   "cell_type": "code",
   "execution_count": 10,
   "metadata": {
    "collapsed": true
   },
   "outputs": [],
   "source": [
    "def band_map():\n",
    "    '''\n",
    "    Maps spectral bands in lblnew to spectral bands in clirad.\n",
    "    '''\n",
    "    lblnew2clirad = {'1': '1',\n",
    "            '2': '2',\n",
    "            '3a': '3',\n",
    "            '3b': '4',\n",
    "            '3c': '5',\n",
    "            '4': '6', \n",
    "            '5': '7',\n",
    "            '6': '8',\n",
    "            '7': '9', \n",
    "            '8': '10',\n",
    "            '9': '11'}\n",
    "    \n",
    "    clirad2lblnew = {clirad: lblnew \n",
    "                     for lblnew, clirad in lblnew2clirad.items()}\n",
    "    return clirad2lblnew\n",
    "\n",
    "\n",
    "def gasbands():\n",
    "    bmap = band_map()\n",
    "    gases = list(PARAM['molecule'].keys())\n",
    "    \n",
    "    bands = [bmap[str(b)] for b in PARAM['band']]\n",
    "    return list(itertools.product(gases, bands))\n",
    "\n",
    "\n",
    "def print_bestfit_params():\n",
    "    print('Best-fit values for each (gas, band)')\n",
    "    print('------------------------------------')\n",
    "    for gas, band in gasbands():\n",
    "        print('o {} band{}'.format(gas, band))\n",
    "        param = bestfits.kdist_params(molecule=gas, band=band)\n",
    "        for name, value in sorted(param.items()):\n",
    "            print(2 * ' ' + '{} = {}'.format(name, value))\n",
    "\n",
    "        \n",
    "def print_input_param():        \n",
    "    for name, value in PARAM.items():\n",
    "        print('{} = {}'.format(name, value))\n",
    "        \n",
    "        \n",
    "def print_lblnew_param():\n",
    "    for name, value in sorted(PARAM_LBLNEW.items()):\n",
    "        print('{} = {}'.format(name, value))\n"
   ]
  },
  {
   "cell_type": "code",
   "execution_count": 11,
   "metadata": {
    "collapsed": true,
    "scrolled": false
   },
   "outputs": [],
   "source": [
    "def show_html(s):\n",
    "    display.display(display.HTML(s))\n",
    "\n",
    "    \n",
    "def show_markdown(s):\n",
    "    display.display(display.Markdown(s))\n",
    "\n",
    "    \n",
    "def script():\n",
    "    \n",
    "    title = '### CLIRAD-LW'\n",
    "    s_input = 'Input Parameters'\n",
    "    s_lblnew_param = 'LBLNEW case compaired against'\n",
    "    s_bestfits = 'Best-fit Parameters'\n",
    "    s_plt_cooling = 'Cooling Rate Profiles'\n",
    "    s_tb_flux = 'Flux Comparison'\n",
    "    \n",
    "    # title\n",
    "    show_markdown('### CLIRAD-LW')\n",
    "    \n",
    "    # TOC\n",
    "    show_markdown('### Table of Contents')\n",
    "    show_html(climahtml.getHTML_hrefanchor(s_input))\n",
    "    show_html(climahtml.getHTML_hrefanchor(s_lblnew_param))\n",
    "    show_html(climahtml.getHTML_hrefanchor(s_plt_cooling))\n",
    "    show_html(climahtml.getHTML_hrefanchor(s_tb_flux))\n",
    "    show_html(climahtml.getHTML_hrefanchor(s_bestfits))\n",
    "    \n",
    "    # Input parameters\n",
    "    show_html(climahtml.getHTML_idanchor(s_input))\n",
    "    show_markdown(climahtml.getMarkdown_sectitle(s_input))\n",
    "    print_input_param()\n",
    "    \n",
    "    # LBLNEW parameters \n",
    "    show_html(climahtml.getHTML_idanchor(s_lblnew_param))\n",
    "    show_markdown(climahtml.getMarkdown_sectitle(s_lblnew_param))\n",
    "    print_lblnew_param()\n",
    "    \n",
    "    # Cooling rate profiles\n",
    "    show_html(climahtml.getHTML_idanchor(s_plt_cooling))\n",
    "    show_markdown(climahtml.getMarkdown_sectitle(s_plt_cooling))\n",
    "    script_plt_cooling()\n",
    "    \n",
    "    # Flux comparison\n",
    "    show_html(climahtml.getHTML_idanchor(s_tb_flux))\n",
    "    show_markdown(climahtml.getMarkdown_sectitle(s_tb_flux))\n",
    "    script_tb_flux()\n",
    "    \n",
    "    # Best-fit values\n",
    "    show_html(climahtml.getHTML_idanchor(s_bestfits))\n",
    "    show_markdown(climahtml.getMarkdown_sectitle(s_bestfits))\n",
    "    print_bestfit_params()\n",
    "   \n",
    "    "
   ]
  },
  {
   "cell_type": "code",
   "execution_count": 12,
   "metadata": {
    "collapsed": true,
    "scrolled": false
   },
   "outputs": [
    {
     "data": {
      "text/markdown": [
       "### CLIRAD-LW"
      ],
      "text/plain": [
       "<IPython.core.display.Markdown object>"
      ]
     },
     "metadata": {},
     "output_type": "display_data"
    },
    {
     "data": {
      "text/markdown": [
       "### Table of Contents"
      ],
      "text/plain": [
       "<IPython.core.display.Markdown object>"
      ]
     },
     "metadata": {},
     "output_type": "display_data"
    },
    {
     "data": {
      "text/html": [
       "<a href=\"#Input_Parameters\">Input Parameters</a>"
      ],
      "text/plain": [
       "<IPython.core.display.HTML object>"
      ]
     },
     "metadata": {},
     "output_type": "display_data"
    },
    {
     "data": {
      "text/html": [
       "<a href=\"#LBLNEW_case_compaired_against\">LBLNEW case compaired against</a>"
      ],
      "text/plain": [
       "<IPython.core.display.HTML object>"
      ]
     },
     "metadata": {},
     "output_type": "display_data"
    },
    {
     "data": {
      "text/html": [
       "<a href=\"#Cooling_Rate_Profiles\">Cooling Rate Profiles</a>"
      ],
      "text/plain": [
       "<IPython.core.display.HTML object>"
      ]
     },
     "metadata": {},
     "output_type": "display_data"
    },
    {
     "data": {
      "text/html": [
       "<a href=\"#Flux_Comparison\">Flux Comparison</a>"
      ],
      "text/plain": [
       "<IPython.core.display.HTML object>"
      ]
     },
     "metadata": {},
     "output_type": "display_data"
    },
    {
     "data": {
      "text/html": [
       "<a href=\"#Best-fit_Parameters\">Best-fit Parameters</a>"
      ],
      "text/plain": [
       "<IPython.core.display.HTML object>"
      ]
     },
     "metadata": {},
     "output_type": "display_data"
    },
    {
     "data": {
      "text/html": [
       "<a id=\"Input_Parameters\"></a>"
      ],
      "text/plain": [
       "<IPython.core.display.HTML object>"
      ]
     },
     "metadata": {},
     "output_type": "display_data"
    },
    {
     "data": {
      "text/markdown": [
       "# Input Parameters"
      ],
      "text/plain": [
       "<IPython.core.display.Markdown object>"
      ]
     },
     "metadata": {},
     "output_type": "display_data"
    },
    {
     "name": "stdout",
     "output_type": "stream",
     "text": [
      "commitnumber = de5d43e\n",
      "molecule = {'h2o': 'atmpro', 'n2o': 3.2e-07}\n",
      "band = [9]\n",
      "atmpro = trp\n",
      "tsfc = 300\n"
     ]
    },
    {
     "data": {
      "text/html": [
       "<a id=\"LBLNEW_case_compaired_against\"></a>"
      ],
      "text/plain": [
       "<IPython.core.display.HTML object>"
      ]
     },
     "metadata": {},
     "output_type": "display_data"
    },
    {
     "data": {
      "text/markdown": [
       "# LBLNEW case compaired against"
      ],
      "text/plain": [
       "<IPython.core.display.Markdown object>"
      ]
     },
     "metadata": {},
     "output_type": "display_data"
    },
    {
     "name": "stdout",
     "output_type": "stream",
     "text": [
      "atmpro = trp\n",
      "band = 7\n",
      "commitnumber = 5014a19\n",
      "dv = 0.001\n",
      "molecule = {'h2o': 'atmpro', 'n2o': 3.2e-07}\n",
      "nv = 1000\n",
      "tsfc = 300\n"
     ]
    },
    {
     "data": {
      "text/html": [
       "<a id=\"Cooling_Rate_Profiles\"></a>"
      ],
      "text/plain": [
       "<IPython.core.display.HTML object>"
      ]
     },
     "metadata": {},
     "output_type": "display_data"
    },
    {
     "data": {
      "text/markdown": [
       "# Cooling Rate Profiles"
      ],
      "text/plain": [
       "<IPython.core.display.Markdown object>"
      ]
     },
     "metadata": {},
     "output_type": "display_data"
    },
    {
     "data": {
      "text/html": [
       "\n",
       "<div class=\"bk-root\">\n",
       "    <div class=\"bk-plotdiv\" id=\"d62e1866-9bb7-42f5-b03a-0d649bfde6a4\"></div>\n",
       "</div>"
      ]
     },
     "metadata": {},
     "output_type": "display_data"
    },
    {
     "data": {
      "application/javascript": [
       "(function(root) {\n",
       "  function embed_document(root) {\n",
       "    \n",
       "  var docs_json = {\"e35dc33a-f38e-4f65-b655-3a3009b288fa\":{\"roots\":{\"references\":[{\"attributes\":{\"plot\":{\"id\":\"b6c2c9f0-75c7-40dc-83cc-1681b2c21ec3\",\"subtype\":\"Figure\",\"type\":\"Plot\"},\"ticker\":{\"id\":\"489e9e1c-b7ce-40c2-a25c-10e3462bf2ca\",\"type\":\"BasicTicker\"}},\"id\":\"67d90250-7406-45f5-971f-47fd38e18c33\",\"type\":\"Grid\"},{\"attributes\":{\"items\":[{\"id\":\"ae9a2945-f9d0-4e06-b789-a090e9532fde\",\"type\":\"LegendItem\"},{\"id\":\"6c666447-6b0e-42e8-8f2f-9b308e4a8fdd\",\"type\":\"LegendItem\"},{\"id\":\"5a60c509-d4a9-4ee4-b12d-3d5f631c7994\",\"type\":\"LegendItem\"}],\"label_text_font_size\":{\"value\":\"8pt\"},\"location\":[10,-30],\"plot\":{\"id\":\"9f700a6e-73ae-42bb-bdd2-68d2df119fd5\",\"subtype\":\"Figure\",\"type\":\"Plot\"}},\"id\":\"974a96df-4004-4e43-98e9-0aac0585f808\",\"type\":\"Legend\"},{\"attributes\":{\"line_alpha\":0.1,\"line_color\":\"#1f77b4\",\"line_width\":3,\"x\":{\"field\":\"x\"},\"y\":{\"field\":\"y\"}},\"id\":\"236f8e59-e520-4a8e-8db0-f1fd8ca24602\",\"type\":\"Line\"},{\"attributes\":{\"bottom_units\":\"screen\",\"fill_alpha\":{\"value\":0.5},\"fill_color\":{\"value\":\"lightgrey\"},\"left_units\":\"screen\",\"level\":\"overlay\",\"line_alpha\":{\"value\":1.0},\"line_color\":{\"value\":\"black\"},\"line_dash\":[4,4],\"line_width\":{\"value\":2},\"plot\":null,\"render_mode\":\"css\",\"right_units\":\"screen\",\"top_units\":\"screen\"},\"id\":\"67aac175-938d-4e51-b0b3-6416e1c59000\",\"type\":\"BoxAnnotation\"},{\"attributes\":{\"axis_label\":\"pressure [mb]\",\"formatter\":{\"id\":\"cbb09c3a-7900-46c2-a5c5-b6e59475da55\",\"type\":\"LogTickFormatter\"},\"plot\":{\"id\":\"9f700a6e-73ae-42bb-bdd2-68d2df119fd5\",\"subtype\":\"Figure\",\"type\":\"Plot\"},\"ticker\":{\"id\":\"2f3da30f-6e38-47a6-a9ac-c883a7182e20\",\"type\":\"LogTicker\"}},\"id\":\"af385d38-2ed0-4d6e-8566-eec70f1cecfc\",\"type\":\"LogAxis\"},{\"attributes\":{\"num_minor_ticks\":10},\"id\":\"2f3da30f-6e38-47a6-a9ac-c883a7182e20\",\"type\":\"LogTicker\"},{\"attributes\":{\"bottom_units\":\"screen\",\"fill_alpha\":{\"value\":0.5},\"fill_color\":{\"value\":\"lightgrey\"},\"left_units\":\"screen\",\"level\":\"overlay\",\"line_alpha\":{\"value\":1.0},\"line_color\":{\"value\":\"black\"},\"line_dash\":[4,4],\"line_width\":{\"value\":2},\"plot\":null,\"render_mode\":\"css\",\"right_units\":\"screen\",\"top_units\":\"screen\"},\"id\":\"24bd9f65-7d8d-4845-8d65-080d098de177\",\"type\":\"BoxAnnotation\"},{\"attributes\":{\"callback\":null,\"end\":0.01,\"start\":1020},\"id\":\"e4d78202-2efe-4442-a9b7-74ddaac7293e\",\"type\":\"Range1d\"},{\"attributes\":{\"dimension\":1,\"plot\":{\"id\":\"9f700a6e-73ae-42bb-bdd2-68d2df119fd5\",\"subtype\":\"Figure\",\"type\":\"Plot\"},\"ticker\":{\"id\":\"2f3da30f-6e38-47a6-a9ac-c883a7182e20\",\"type\":\"LogTicker\"}},\"id\":\"5c0ab883-a478-45ec-9fd7-7427f4ccac21\",\"type\":\"Grid\"},{\"attributes\":{},\"id\":\"91ac1139-29df-4ec2-b506-0291b27a5a20\",\"type\":\"ResetTool\"},{\"attributes\":{},\"id\":\"5318b7ea-afbc-4d9f-958d-0be5ff83cf53\",\"type\":\"PanTool\"},{\"attributes\":{\"line_alpha\":0.1,\"line_color\":\"#1f77b4\",\"line_dash\":[6],\"line_width\":5,\"x\":{\"field\":\"x\"},\"y\":{\"field\":\"y\"}},\"id\":\"e1a67e9a-971c-4c49-92c3-2d7de9359830\",\"type\":\"Line\"},{\"attributes\":{},\"id\":\"15ae8cec-1460-41b0-bfcd-a22a2472ad77\",\"type\":\"WheelZoomTool\"},{\"attributes\":{},\"id\":\"2526cf02-8215-46ab-b1a7-d9b4a14f963f\",\"type\":\"HelpTool\"},{\"attributes\":{\"overlay\":{\"id\":\"24bd9f65-7d8d-4845-8d65-080d098de177\",\"type\":\"BoxAnnotation\"}},\"id\":\"bc443318-d8f8-4a36-a7bb-c25e8a4057be\",\"type\":\"BoxZoomTool\"},{\"attributes\":{},\"id\":\"7895b4c5-65ed-4c4f-a31d-6985a23b079c\",\"type\":\"WheelZoomTool\"},{\"attributes\":{},\"id\":\"b41b3d71-c262-45e8-bbe1-a75d772fc655\",\"type\":\"SaveTool\"},{\"attributes\":{\"data_source\":{\"id\":\"6c40ef41-c61c-43eb-ba51-5e1e0cb66927\",\"type\":\"ColumnDataSource\"},\"glyph\":{\"id\":\"6a07fa50-85e9-4a7e-9e43-50fd2269cb6a\",\"type\":\"Line\"},\"hover_glyph\":null,\"muted_glyph\":null,\"nonselection_glyph\":{\"id\":\"e1a67e9a-971c-4c49-92c3-2d7de9359830\",\"type\":\"Line\"},\"selection_glyph\":null,\"view\":{\"id\":\"048b2733-a448-4533-8fdf-a04d45291a91\",\"type\":\"CDSView\"}},\"id\":\"976651f6-2781-47c4-9fca-1b66c0f2f68a\",\"type\":\"GlyphRenderer\"},{\"attributes\":{},\"id\":\"2abbd21f-4c9b-40d2-b865-d4dc8ad895b0\",\"type\":\"ResetTool\"},{\"attributes\":{},\"id\":\"902d2336-8b8d-4e06-9bdb-0851ca043280\",\"type\":\"PanTool\"},{\"attributes\":{\"overlay\":{\"id\":\"67aac175-938d-4e51-b0b3-6416e1c59000\",\"type\":\"BoxAnnotation\"}},\"id\":\"0216b95f-f8ba-4f1a-9e6c-76fa719867da\",\"type\":\"BoxZoomTool\"},{\"attributes\":{},\"id\":\"319b0ce1-12b3-40ed-9eb8-104be448ec7d\",\"type\":\"SaveTool\"},{\"attributes\":{},\"id\":\"fd2909d1-5b49-4c52-b67d-835e9be77865\",\"type\":\"HelpTool\"},{\"attributes\":{\"data_source\":{\"id\":\"c885220d-350f-48e4-9fea-e840b0a48848\",\"type\":\"ColumnDataSource\"},\"glyph\":{\"id\":\"dac40433-56ca-4eda-955e-bcbe8615dafd\",\"type\":\"Line\"},\"hover_glyph\":null,\"muted_glyph\":null,\"nonselection_glyph\":{\"id\":\"236f8e59-e520-4a8e-8db0-f1fd8ca24602\",\"type\":\"Line\"},\"selection_glyph\":null,\"view\":{\"id\":\"2d4e7bfa-9838-4fdf-94e5-9cbf51c3ae9e\",\"type\":\"CDSView\"}},\"id\":\"0edb9ee2-543a-4020-826d-0f74cfebf68d\",\"type\":\"GlyphRenderer\"},{\"attributes\":{\"callback\":null,\"data\":{\"x\":{\"__ndarray__\":\"WZTzdJeMgb/1maeCJzeBv1wkm5HbVIC/iWKNkpIAf7+9O7GMZkx9vwQnWGR/jnu/objoT1fKeb95JLuhi/d3vy9kplJCIHa/fq0syTE9dL9r+oIKDVNyvwH9D8fyYnC/aHsxofTPbL8d6cSRC7Znv18Ag3pTIEC/YY+aCd69dD+UHe1IjbqKPwRhs8vTk5c/wtRIq1caoj/xKdr+kNypP99ZyhhwrbE/aXjtsXjatj85908es7+4P9+nVNCHw7Y/s6HfGn9ysz/IuMHUv7muP0CGWSuEHKc/SlWWxR2foD9QaEBa73mWP+hF5sQwvYs/LpO9++UHfT/iZZ4FLkJiP/vo4pvX5Fq/e1cp6vjidb9nQ4eLn3CFv1fUKHAnG5G/els3RUoqlr804TmJeFOYv0F3ufDSOZi/RI7iWdiMl7+xpY4oyUeWv9QLofeE9JO/r2IrR0x5kL8kKBapRJqHv2kAsZ3WCnK/N4HP8qgvcT98nGnC9pOJP2s1mETFUZY/KQbW3ph/oD+H6Qu5A4mmP2sbw7+vYaw/aPz1HO4psT/J/D5E7JG0P2ksVfrtkbg/049+4p3PvD/ECnVgUl/AP5WUYBZ/AMI/IJntjrVUwz8piVcfMIvEP1vYiYFk8MU/0KoiHoGmxz+Yef72bW/JP8QPKWEBp8o/U1Z4PNIFzD/KztNnpDHLPyirMwi9SMk/5XRhvbRVxz8fee/BzkHFP3AmZO/eNMQ/oGlP6kcaxD8sLeHYzITEP+ep7aowS8U/r4n12xGtxj9NEmzYxgrJPysqqMkIf9E/\",\"dtype\":\"float64\",\"shape\":[75]},\"y\":{\"__ndarray__\":\"S/O/Q+51ND/Sv8nbtpRIP2vylNV0PVE/aTum7souWD/At0SJ8fVgPw3Iuahxymc/MSNhhJWvcD/bTfBN02d3P2zb5nxnaoA/CD5h5MAGhz8NmeH1TyaQP+zrCsc9p5Y/LbKd76fGnz/bLW5ISEmmPww9YvTcQq8/JV2OstnstT8Er5Y7M8G+P0c+r3jqkcU/5h99k6ZBzj88bCIzFzjVP4enV8oyxN0//yH99nXg5D8qOpLLf0jtP5kqGJXUifQ/c9cS8kHP/D+/DpwzojQEQIEmwoanVwxA4lgXt9HgE0BSSZ2AJuIbQAMJih9jjiNA5q4l5INuK0AwTKYKRj0zQNv5fmq8/DpAaCJseHrtQkB/+zpwzoxKQM3MzMzMeFJAZmZmZmZqWEAAAAAAAFxeQM3MzMzMJmJAmpmZmZkfZUBmZmZmZhhoQDMzMzMzEWtAAAAAAAAKbkBmZmZmZoFwQM3MzMzM/XFAMzMzMzN6c0CamZmZmfZ0QAAAAAAAc3ZAZmZmZmbvd0DNzMzMzGt5QDMzMzMz6HpAmpmZmZlkfEAAAAAAAOF9QGZmZmZmXX9AZmZmZuZsgECamZmZGSuBQM3MzMxM6YFAAAAAAICngkAzMzMzs2WDQGZmZmbmI4RAmpmZmRnihEDNzMzMTKCFQAAAAACAXoZAMzMzM7Mch0BmZmZm5tqHQJqZmZkZmYhAzczMzExXiUAAAAAAgBWKQDMzMzOz04pAZmZmZuaRi0CamZmZGVCMQM3MzMxMDo1AAAAAAIDMjUAzMzMzs4qOQGZmZmbmSI9A\",\"dtype\":\"float64\",\"shape\":[75]}},\"selected\":{\"id\":\"45ea7d57-a0c2-456f-a98d-66b7a63b8a1a\",\"type\":\"Selection\"},\"selection_policy\":{\"id\":\"f9c1dbaf-6674-477f-8dba-c0acf2df1c98\",\"type\":\"UnionRenderers\"}},\"id\":\"6c40ef41-c61c-43eb-ba51-5e1e0cb66927\",\"type\":\"ColumnDataSource\"},{\"attributes\":{\"data_source\":{\"id\":\"f3f0d7a9-ab01-42fb-94e8-7687ad667453\",\"type\":\"ColumnDataSource\"},\"glyph\":{\"id\":\"86fc94f6-9420-4751-abca-48a004e2bbbe\",\"type\":\"Line\"},\"hover_glyph\":null,\"muted_glyph\":null,\"nonselection_glyph\":{\"id\":\"8052584a-2d39-4142-b95b-541e703bfb3f\",\"type\":\"Line\"},\"selection_glyph\":null,\"view\":{\"id\":\"5c0f9e39-243f-4ff0-850b-91b65c58230a\",\"type\":\"CDSView\"}},\"id\":\"ef655bca-e3ec-414f-bca4-205cef152c22\",\"type\":\"GlyphRenderer\"},{\"attributes\":{\"line_alpha\":0.1,\"line_color\":\"#1f77b4\",\"line_width\":3,\"x\":{\"field\":\"x\"},\"y\":{\"field\":\"y\"}},\"id\":\"8052584a-2d39-4142-b95b-541e703bfb3f\",\"type\":\"Line\"},{\"attributes\":{\"line_alpha\":0.6,\"line_color\":\"#e41a1c\",\"line_dash\":[6],\"line_width\":5,\"x\":{\"field\":\"x\"},\"y\":{\"field\":\"y\"}},\"id\":\"5003688a-279e-42dd-afd4-bcbe64155d6f\",\"type\":\"Line\"},{\"attributes\":{\"fill_alpha\":{\"value\":0.7},\"fill_color\":{\"value\":\"#4daf4a\"},\"line_alpha\":{\"value\":0.7},\"line_color\":{\"value\":\"#4daf4a\"},\"x\":{\"field\":\"x\"},\"y\":{\"field\":\"y\"}},\"id\":\"e528a06b-adf1-4f83-a6d9-bc4690b2893d\",\"type\":\"Circle\"},{\"attributes\":{\"data_source\":{\"id\":\"78626800-9f7f-46fc-b7e4-15d3a9278923\",\"type\":\"ColumnDataSource\"},\"glyph\":{\"id\":\"5003688a-279e-42dd-afd4-bcbe64155d6f\",\"type\":\"Line\"},\"hover_glyph\":null,\"muted_glyph\":null,\"nonselection_glyph\":{\"id\":\"277efa29-072a-43d6-ae5e-7e9f422ac480\",\"type\":\"Line\"},\"selection_glyph\":null,\"view\":{\"id\":\"78c34369-12d5-40ed-818b-87084b38d467\",\"type\":\"CDSView\"}},\"id\":\"b1b20fb3-f55b-4bba-bf82-ce54409b054e\",\"type\":\"GlyphRenderer\"},{\"attributes\":{},\"id\":\"f69aee20-382a-43e6-a587-ea0152cbe9a9\",\"type\":\"BasicTicker\"},{\"attributes\":{\"line_alpha\":0.6,\"line_color\":\"#984ea3\",\"line_width\":3,\"x\":{\"field\":\"x\"},\"y\":{\"field\":\"y\"}},\"id\":\"dac40433-56ca-4eda-955e-bcbe8615dafd\",\"type\":\"Line\"},{\"attributes\":{},\"id\":\"46a74c4e-2adf-457e-a933-72707028649b\",\"type\":\"BasicTicker\"},{\"attributes\":{\"callback\":null,\"end\":0.01,\"start\":1020},\"id\":\"84a2f0a7-ad39-4a16-90af-fd9f4b04d37c\",\"type\":\"Range1d\"},{\"attributes\":{\"plot\":null,\"text\":\"Linear pressure scale\"},\"id\":\"61bc5fc9-18d6-4b43-b4c1-b1b28130e5fb\",\"type\":\"Title\"},{\"attributes\":{\"source\":{\"id\":\"6c40ef41-c61c-43eb-ba51-5e1e0cb66927\",\"type\":\"ColumnDataSource\"}},\"id\":\"048b2733-a448-4533-8fdf-a04d45291a91\",\"type\":\"CDSView\"},{\"attributes\":{\"callback\":null,\"end\":0.11086457528,\"start\":-0.029552223279999998},\"id\":\"fa44fc70-f376-4364-8bd7-04ff0320fedf\",\"type\":\"Range1d\"},{\"attributes\":{\"line_alpha\":0.1,\"line_color\":\"#1f77b4\",\"line_dash\":[6],\"line_width\":5,\"x\":{\"field\":\"x\"},\"y\":{\"field\":\"y\"}},\"id\":\"277efa29-072a-43d6-ae5e-7e9f422ac480\",\"type\":\"Line\"},{\"attributes\":{\"source\":{\"id\":\"d47079ce-ab6d-45ee-9a87-28fedbc92bb8\",\"type\":\"ColumnDataSource\"}},\"id\":\"1719ac39-4bd9-47ff-8e3d-9648a336e22b\",\"type\":\"CDSView\"},{\"attributes\":{\"active_drag\":\"auto\",\"active_inspect\":\"auto\",\"active_scroll\":\"auto\",\"active_tap\":\"auto\",\"tools\":[{\"id\":\"902d2336-8b8d-4e06-9bdb-0851ca043280\",\"type\":\"PanTool\"},{\"id\":\"7895b4c5-65ed-4c4f-a31d-6985a23b079c\",\"type\":\"WheelZoomTool\"},{\"id\":\"0216b95f-f8ba-4f1a-9e6c-76fa719867da\",\"type\":\"BoxZoomTool\"},{\"id\":\"319b0ce1-12b3-40ed-9eb8-104be448ec7d\",\"type\":\"SaveTool\"},{\"id\":\"91ac1139-29df-4ec2-b506-0291b27a5a20\",\"type\":\"ResetTool\"},{\"id\":\"2526cf02-8215-46ab-b1a7-d9b4a14f963f\",\"type\":\"HelpTool\"}]},\"id\":\"c8317e08-9ad0-457c-9770-b4a0de7b1a0f\",\"type\":\"Toolbar\"},{\"attributes\":{\"axis_label\":\"cooling rate [K/day]\",\"formatter\":{\"id\":\"85beeaf0-cafe-4943-bf94-09085759e07b\",\"type\":\"BasicTickFormatter\"},\"plot\":{\"id\":\"9f700a6e-73ae-42bb-bdd2-68d2df119fd5\",\"subtype\":\"Figure\",\"type\":\"Plot\"},\"ticker\":{\"id\":\"f69aee20-382a-43e6-a587-ea0152cbe9a9\",\"type\":\"BasicTicker\"}},\"id\":\"960b8ade-c9ba-4c4b-a385-7e4cf9c75859\",\"type\":\"LinearAxis\"},{\"attributes\":{},\"id\":\"42338a32-ece9-4df0-ae87-0f1b7689ab99\",\"type\":\"LinearScale\"},{\"attributes\":{},\"id\":\"85beeaf0-cafe-4943-bf94-09085759e07b\",\"type\":\"BasicTickFormatter\"},{\"attributes\":{\"callback\":null,\"data\":{\"x\":{\"__ndarray__\":\"FRTtx3lBob9iQMn5bxmhv/4YH9iEw6C/COfmKvxqoL9bbhJ+BxGgv0othyJMbZ+/9HmNqTDAnr8ZB79WBxWev7XXNE+rcZ2/J7QFtA/anL9yXlckClOcv6CifbsL5Zu/XLBZ0Kmbm787IuZfuUibvzXPYkAuJZi/nGBESs/Oj7+DRi7MwpZvv1/w4FwAcIU/8RTciT6RnD/tnGHIvB6pP7tEXbo1KLM/wXmrjTVMuj+0PZvRZge8P52HaZgH1Lc/Ue+nm8tasj9c6syveWSpPy3/a4oR06A/h6GbHpBblj+52u0nIWCOPyzUdB97G4U/ekl+LbjyfD8oP3GVqtpxP7eaC5k4ZF0/5gIM1RHjTL+E+p5hhld1vydk+VAoX4a/HIbO7GwokL97Efa4MlKSv6MAJrAGFpK/517h1j2vkb/2OWySh9SQv6Uz3PIk+I2/fnFTSqJzh790pnwMPtt7vy6L0bHrzkS/C7CewqkJfT8T69N4ibSQP/yDwkxNFZs/OpnojiZgoj82eUYyFhOoP8gSqI7tZq4/c75AX2aXsj//hAak9R62PzHqWnufqrk/edAFWFguvT/GQbbqQkXAP2Bacf392sE/zhhJLyhbwz/LIRQhlsnEP/3ZbgaoPsY/vT1CrILBxz8S25vnoRnJP9PMB8Idwck/fvTZQ/Nnyj8fw1vOQg7JPwVUtEmw/sY/cqUBMFwlxT8lwSND8VfDP9HK3s6Vc8I/1KcsdVYswj/t5jW4pTzCP8Z/iZGIncI/7o9a1VBywz/uw0mz3EbFP9KlJJC3gc8/\",\"dtype\":\"float64\",\"shape\":[75]},\"y\":{\"__ndarray__\":\"GhExyth1ND/Sv8nbtpRIP2vylNV0PVE/aTum7souWD/At0SJ8fVgPw3Iuahxymc/MSNhhJWvcD/bTfBN02d3P2zb5nxnaoA/CD5h5MAGhz8NmeH1TyaQP+zrCsc9p5Y/LbKd76fGnz/bLW5ISEmmPww9YvTcQq8/JV2OstnstT8Er5Y7M8G+P0c+r3jqkcU/5h99k6ZBzj88bCIzFzjVP4enV8oyxN0//yH99nXg5D8qOpLLf0jtP5kqGJXUifQ/c9cS8kHP/D+/DpwzojQEQIEmwoanVwxA4lgXt9HgE0BSSZ2AJuIbQAMJih9jjiNA5q4l5INuK0AwTKYKRj0zQNv5fmq8/DpAaCJseHrtQkB/+zpwzoxKQM3MzMzMeFJAZmZmZmZqWEAAAAAAAFxeQM3MzMzMJmJAmpmZmZkfZUBmZmZmZhhoQDMzMzMzEWtAAAAAAAAKbkBmZmZmZoFwQM3MzMzM/XFAMzMzMzN6c0CamZmZmfZ0QAAAAAAAc3ZAZmZmZmbvd0DNzMzMzGt5QDMzMzMz6HpAmpmZmZlkfEAAAAAAAOF9QGZmZmZmXX9AZmZmZuZsgECamZmZGSuBQM3MzMxM6YFAAAAAAICngkAzMzMzs2WDQGZmZmbmI4RAmpmZmRnihEDNzMzMTKCFQAAAAACAXoZAMzMzM7Mch0BmZmZm5tqHQJqZmZkZmYhAzczMzExXiUAAAAAAgBWKQDMzMzOz04pAZmZmZuaRi0CamZmZGVCMQM3MzMxMDo1AAAAAAIDMjUAzMzMzs4qOQGZmZmbmSI9A\",\"dtype\":\"float64\",\"shape\":[75]}},\"selected\":{\"id\":\"3f8e3aae-3ba5-4219-9161-f45e65f33920\",\"type\":\"Selection\"},\"selection_policy\":{\"id\":\"b07d06bd-cf90-4bee-ae08-26146e20fd25\",\"type\":\"UnionRenderers\"}},\"id\":\"94275798-a2db-4c3e-bc59-8bd3f853d6c5\",\"type\":\"ColumnDataSource\"},{\"attributes\":{\"below\":[{\"id\":\"960b8ade-c9ba-4c4b-a385-7e4cf9c75859\",\"type\":\"LinearAxis\"}],\"left\":[{\"id\":\"af385d38-2ed0-4d6e-8566-eec70f1cecfc\",\"type\":\"LogAxis\"}],\"plot_height\":500,\"plot_width\":560,\"renderers\":[{\"id\":\"960b8ade-c9ba-4c4b-a385-7e4cf9c75859\",\"type\":\"LinearAxis\"},{\"id\":\"7953e8a6-3002-4203-9a52-6f3fa00dfde2\",\"type\":\"Grid\"},{\"id\":\"af385d38-2ed0-4d6e-8566-eec70f1cecfc\",\"type\":\"LogAxis\"},{\"id\":\"5c0ab883-a478-45ec-9fd7-7427f4ccac21\",\"type\":\"Grid\"},{\"id\":\"24bd9f65-7d8d-4845-8d65-080d098de177\",\"type\":\"BoxAnnotation\"},{\"id\":\"b1b20fb3-f55b-4bba-bf82-ce54409b054e\",\"type\":\"GlyphRenderer\"},{\"id\":\"a801f23a-8cbe-46ee-bfbd-913d22c7b945\",\"type\":\"GlyphRenderer\"},{\"id\":\"feb4508b-0018-4884-b3b2-0c6f3e673ece\",\"type\":\"GlyphRenderer\"},{\"id\":\"d5f0b92e-48bb-4281-91b9-915560edf00b\",\"type\":\"GlyphRenderer\"},{\"id\":\"0edb9ee2-543a-4020-826d-0f74cfebf68d\",\"type\":\"GlyphRenderer\"},{\"id\":\"974a96df-4004-4e43-98e9-0aac0585f808\",\"type\":\"Legend\"}],\"right\":[{\"id\":\"974a96df-4004-4e43-98e9-0aac0585f808\",\"type\":\"Legend\"}],\"title\":{\"id\":\"f2371229-99c4-44ff-969f-6faea6e4b970\",\"type\":\"Title\"},\"toolbar\":{\"id\":\"d7a4a1d1-e596-4d8d-bc0e-c70a500c7381\",\"type\":\"Toolbar\"},\"toolbar_location\":null,\"x_range\":{\"id\":\"fa44fc70-f376-4364-8bd7-04ff0320fedf\",\"type\":\"Range1d\"},\"x_scale\":{\"id\":\"0c320e76-6806-4d11-95cf-cc85c5bd49b7\",\"type\":\"LinearScale\"},\"y_range\":{\"id\":\"84a2f0a7-ad39-4a16-90af-fd9f4b04d37c\",\"type\":\"Range1d\"},\"y_scale\":{\"id\":\"5db18a65-5a28-48cd-8e0b-c8c546f7030b\",\"type\":\"LogScale\"}},\"id\":\"9f700a6e-73ae-42bb-bdd2-68d2df119fd5\",\"subtype\":\"Figure\",\"type\":\"Plot\"},{\"attributes\":{},\"id\":\"5db18a65-5a28-48cd-8e0b-c8c546f7030b\",\"type\":\"LogScale\"},{\"attributes\":{\"callback\":null,\"data\":{\"x\":{\"__ndarray__\":\"FRTtx3lBob9iQMn5bxmhv/4YH9iEw6C/COfmKvxqoL9bbhJ+BxGgv0othyJMbZ+/9HmNqTDAnr8ZB79WBxWev7XXNE+rcZ2/J7QFtA/anL9yXlckClOcv6CifbsL5Zu/XLBZ0Kmbm787IuZfuUibvzXPYkAuJZi/nGBESs/Oj7+DRi7MwpZvv1/w4FwAcIU/8RTciT6RnD/tnGHIvB6pP7tEXbo1KLM/wXmrjTVMuj+0PZvRZge8P52HaZgH1Lc/Ue+nm8tasj9c6syveWSpPy3/a4oR06A/h6GbHpBblj+52u0nIWCOPyzUdB97G4U/ekl+LbjyfD8oP3GVqtpxP7eaC5k4ZF0/5gIM1RHjTL+E+p5hhld1vydk+VAoX4a/HIbO7GwokL97Efa4MlKSv6MAJrAGFpK/517h1j2vkb/2OWySh9SQv6Uz3PIk+I2/fnFTSqJzh790pnwMPtt7vy6L0bHrzkS/C7CewqkJfT8T69N4ibSQP/yDwkxNFZs/OpnojiZgoj82eUYyFhOoP8gSqI7tZq4/c75AX2aXsj//hAak9R62PzHqWnufqrk/edAFWFguvT/GQbbqQkXAP2Bacf392sE/zhhJLyhbwz/LIRQhlsnEP/3ZbgaoPsY/vT1CrILBxz8S25vnoRnJP9PMB8Idwck/fvTZQ/Nnyj8fw1vOQg7JPwVUtEmw/sY/cqUBMFwlxT8lwSND8VfDP9HK3s6Vc8I/1KcsdVYswj/t5jW4pTzCP8Z/iZGIncI/7o9a1VBywz/uw0mz3EbFP9KlJJC3gc8/\",\"dtype\":\"float64\",\"shape\":[75]},\"y\":{\"__ndarray__\":\"GhExyth1ND/Sv8nbtpRIP2vylNV0PVE/aTum7souWD/At0SJ8fVgPw3Iuahxymc/MSNhhJWvcD/bTfBN02d3P2zb5nxnaoA/CD5h5MAGhz8NmeH1TyaQP+zrCsc9p5Y/LbKd76fGnz/bLW5ISEmmPww9YvTcQq8/JV2OstnstT8Er5Y7M8G+P0c+r3jqkcU/5h99k6ZBzj88bCIzFzjVP4enV8oyxN0//yH99nXg5D8qOpLLf0jtP5kqGJXUifQ/c9cS8kHP/D+/DpwzojQEQIEmwoanVwxA4lgXt9HgE0BSSZ2AJuIbQAMJih9jjiNA5q4l5INuK0AwTKYKRj0zQNv5fmq8/DpAaCJseHrtQkB/+zpwzoxKQM3MzMzMeFJAZmZmZmZqWEAAAAAAAFxeQM3MzMzMJmJAmpmZmZkfZUBmZmZmZhhoQDMzMzMzEWtAAAAAAAAKbkBmZmZmZoFwQM3MzMzM/XFAMzMzMzN6c0CamZmZmfZ0QAAAAAAAc3ZAZmZmZmbvd0DNzMzMzGt5QDMzMzMz6HpAmpmZmZlkfEAAAAAAAOF9QGZmZmZmXX9AZmZmZuZsgECamZmZGSuBQM3MzMxM6YFAAAAAAICngkAzMzMzs2WDQGZmZmbmI4RAmpmZmRnihEDNzMzMTKCFQAAAAACAXoZAMzMzM7Mch0BmZmZm5tqHQJqZmZkZmYhAzczMzExXiUAAAAAAgBWKQDMzMzOz04pAZmZmZuaRi0CamZmZGVCMQM3MzMxMDo1AAAAAAIDMjUAzMzMzs4qOQGZmZmbmSI9A\",\"dtype\":\"float64\",\"shape\":[75]}},\"selected\":{\"id\":\"9c3beec0-0811-457e-af12-35e144b812ad\",\"type\":\"Selection\"},\"selection_policy\":{\"id\":\"32e03ff3-90cb-4854-a9ba-ef19a6814fbb\",\"type\":\"UnionRenderers\"}},\"id\":\"b63a1278-30b6-4497-ba12-fc6d4aa66bf5\",\"type\":\"ColumnDataSource\"},{\"attributes\":{\"active_drag\":\"auto\",\"active_inspect\":\"auto\",\"active_scroll\":\"auto\",\"active_tap\":\"auto\",\"tools\":[{\"id\":\"5318b7ea-afbc-4d9f-958d-0be5ff83cf53\",\"type\":\"PanTool\"},{\"id\":\"15ae8cec-1460-41b0-bfcd-a22a2472ad77\",\"type\":\"WheelZoomTool\"},{\"id\":\"bc443318-d8f8-4a36-a7bb-c25e8a4057be\",\"type\":\"BoxZoomTool\"},{\"id\":\"b41b3d71-c262-45e8-bbe1-a75d772fc655\",\"type\":\"SaveTool\"},{\"id\":\"2abbd21f-4c9b-40d2-b865-d4dc8ad895b0\",\"type\":\"ResetTool\"},{\"id\":\"fd2909d1-5b49-4c52-b67d-835e9be77865\",\"type\":\"HelpTool\"}]},\"id\":\"d7a4a1d1-e596-4d8d-bc0e-c70a500c7381\",\"type\":\"Toolbar\"},{\"attributes\":{\"callback\":null,\"data\":{\"x\":{\"__ndarray__\":\"SgiGDuJMib+n/rYxut+Iv3ahf6OZ/oe/XSWKVg8Uh7+SoQpPTSGGv0jL3NfcLIW/BBJlz+QyhL9JLfPidDWDv5R8/hEMO4K/+vQRHWZNgb/+PvgUrVGAv0FmtISmdH6/7unrs+p+fL8sOw2oYf55v7iNC/Lvhm+/fU2da0JYYT8BU9Mcw92FP1hRfrBe1ZU/Ptyt4/qioT+XV9R+cOCpP1ccPlEo97E/hd/oiwZutz+iDjoHIEy5P2YtuRW4+LY/ZPDc7Q1Nsz9cdWk4b+CtP/zDQB6UDKY/nEJgRUNPnz8UCfyaEjSVP/txSixo24o/RsNfHCdIfj+7tr+Du0RoP9FaGF0Yskq/g5bSlFQWc789arslE5mEv1hA5bs7ApG/riPFAopRlr/iXPNFo4SYv0o2m+pwRJi/HJuHjV5/l7/J7Sf7mCOWv1fqoOVVqpO/VzHU4gVxj7/YCyHBNt2Ev7IWy6fheGq/ch9pyu+odT/i3clbOXGNP4uRDte2nZg/yglSqvZJoT8MklCQXiinP9rU7aoPPa0/i0ZidfC7sT/tBRj2sQu1P5MiS0mDmbg/M+GX+nlTvD/V2PNvdu+/P7eM5aeCm8E/FML21U0Qwz/AoNhMtmjEP9VxgIkN0MU/vTnYcplgxz/O4RjRj+nIP987pPcR6Mk/+TNZL8gOyz8vae8ADT7KPyB+vF8elcg/YzHB20nlxj/jKmBMRAnFP2MhvjwyEMQ/sM1jIBHLwz/IrwbF4vnDPybUPuPjj8Q/s1O9RtytxT/9DaAABtnHP9FchoOt59A/\",\"dtype\":\"float64\",\"shape\":[75]},\"y\":{\"__ndarray__\":\"GhExyth1ND/Sv8nbtpRIP2vylNV0PVE/aTum7souWD/At0SJ8fVgPw3Iuahxymc/MSNhhJWvcD/bTfBN02d3P2zb5nxnaoA/CD5h5MAGhz8NmeH1TyaQP+zrCsc9p5Y/LbKd76fGnz/bLW5ISEmmPww9YvTcQq8/JV2OstnstT8Er5Y7M8G+P0c+r3jqkcU/5h99k6ZBzj88bCIzFzjVP4enV8oyxN0//yH99nXg5D8qOpLLf0jtP5kqGJXUifQ/c9cS8kHP/D+/DpwzojQEQIEmwoanVwxA4lgXt9HgE0BSSZ2AJuIbQAMJih9jjiNA5q4l5INuK0AwTKYKRj0zQNv5fmq8/DpAaCJseHrtQkB/+zpwzoxKQM3MzMzMeFJAZmZmZmZqWEAAAAAAAFxeQM3MzMzMJmJAmpmZmZkfZUBmZmZmZhhoQDMzMzMzEWtAAAAAAAAKbkBmZmZmZoFwQM3MzMzM/XFAMzMzMzN6c0CamZmZmfZ0QAAAAAAAc3ZAZmZmZmbvd0DNzMzMzGt5QDMzMzMz6HpAmpmZmZlkfEAAAAAAAOF9QGZmZmZmXX9AZmZmZuZsgECamZmZGSuBQM3MzMxM6YFAAAAAAICngkAzMzMzs2WDQGZmZmbmI4RAmpmZmRnihEDNzMzMTKCFQAAAAACAXoZAMzMzM7Mch0BmZmZm5tqHQJqZmZkZmYhAzczMzExXiUAAAAAAgBWKQDMzMzOz04pAZmZmZuaRi0CamZmZGVCMQM3MzMxMDo1AAAAAAIDMjUAzMzMzs4qOQGZmZmbmSI9A\",\"dtype\":\"float64\",\"shape\":[75]}},\"selected\":{\"id\":\"672c7a9c-0ca1-42a2-8a43-0153150c84c8\",\"type\":\"Selection\"},\"selection_policy\":{\"id\":\"937a5224-debd-409e-9aa3-e0436fcb342f\",\"type\":\"UnionRenderers\"}},\"id\":\"c885220d-350f-48e4-9fea-e840b0a48848\",\"type\":\"ColumnDataSource\"},{\"attributes\":{\"below\":[{\"id\":\"b76c6fed-e5a4-444d-ba48-bbdd90e77e3e\",\"type\":\"LinearAxis\"}],\"left\":[{\"id\":\"4f586e1e-405a-4884-867a-ede8c1d4697e\",\"type\":\"LinearAxis\"}],\"plot_height\":500,\"plot_width\":400,\"renderers\":[{\"id\":\"b76c6fed-e5a4-444d-ba48-bbdd90e77e3e\",\"type\":\"LinearAxis\"},{\"id\":\"67d90250-7406-45f5-971f-47fd38e18c33\",\"type\":\"Grid\"},{\"id\":\"4f586e1e-405a-4884-867a-ede8c1d4697e\",\"type\":\"LinearAxis\"},{\"id\":\"418f594f-8a9d-467d-9048-5e92d68a0753\",\"type\":\"Grid\"},{\"id\":\"67aac175-938d-4e51-b0b3-6416e1c59000\",\"type\":\"BoxAnnotation\"},{\"id\":\"976651f6-2781-47c4-9fca-1b66c0f2f68a\",\"type\":\"GlyphRenderer\"},{\"id\":\"4c57c1e8-66b5-458b-a388-557bdc3317b7\",\"type\":\"GlyphRenderer\"},{\"id\":\"ef406f70-52f5-4d77-94d4-d4220405a6ba\",\"type\":\"GlyphRenderer\"},{\"id\":\"16c68f98-5ea7-4134-9ca0-afe3daf6922c\",\"type\":\"GlyphRenderer\"},{\"id\":\"ef655bca-e3ec-414f-bca4-205cef152c22\",\"type\":\"GlyphRenderer\"}],\"title\":{\"id\":\"61bc5fc9-18d6-4b43-b4c1-b1b28130e5fb\",\"type\":\"Title\"},\"toolbar\":{\"id\":\"c8317e08-9ad0-457c-9770-b4a0de7b1a0f\",\"type\":\"Toolbar\"},\"toolbar_location\":null,\"x_range\":{\"id\":\"7df61467-7969-45e4-9f3a-d4ea92190bf7\",\"type\":\"Range1d\"},\"x_scale\":{\"id\":\"42338a32-ece9-4df0-ae87-0f1b7689ab99\",\"type\":\"LinearScale\"},\"y_range\":{\"id\":\"e4d78202-2efe-4442-a9b7-74ddaac7293e\",\"type\":\"Range1d\"},\"y_scale\":{\"id\":\"1c1978b7-be0b-48fe-8712-c0ec9dfa2d1e\",\"type\":\"LinearScale\"}},\"id\":\"b6c2c9f0-75c7-40dc-83cc-1681b2c21ec3\",\"subtype\":\"Figure\",\"type\":\"Plot\"},{\"attributes\":{\"plot\":{\"id\":\"9f700a6e-73ae-42bb-bdd2-68d2df119fd5\",\"subtype\":\"Figure\",\"type\":\"Plot\"},\"ticker\":{\"id\":\"f69aee20-382a-43e6-a587-ea0152cbe9a9\",\"type\":\"BasicTicker\"}},\"id\":\"7953e8a6-3002-4203-9a52-6f3fa00dfde2\",\"type\":\"Grid\"},{\"attributes\":{\"axis_label\":\"cooling rate [K/day]\",\"formatter\":{\"id\":\"966d7f90-38dc-4c70-89cf-ed3e45433798\",\"type\":\"BasicTickFormatter\"},\"plot\":{\"id\":\"b6c2c9f0-75c7-40dc-83cc-1681b2c21ec3\",\"subtype\":\"Figure\",\"type\":\"Plot\"},\"ticker\":{\"id\":\"489e9e1c-b7ce-40c2-a25c-10e3462bf2ca\",\"type\":\"BasicTicker\"}},\"id\":\"b76c6fed-e5a4-444d-ba48-bbdd90e77e3e\",\"type\":\"LinearAxis\"},{\"attributes\":{\"source\":{\"id\":\"78626800-9f7f-46fc-b7e4-15d3a9278923\",\"type\":\"ColumnDataSource\"}},\"id\":\"78c34369-12d5-40ed-818b-87084b38d467\",\"type\":\"CDSView\"},{\"attributes\":{\"dimension\":1,\"plot\":{\"id\":\"b6c2c9f0-75c7-40dc-83cc-1681b2c21ec3\",\"subtype\":\"Figure\",\"type\":\"Plot\"},\"ticker\":{\"id\":\"46a74c4e-2adf-457e-a933-72707028649b\",\"type\":\"BasicTicker\"}},\"id\":\"418f594f-8a9d-467d-9048-5e92d68a0753\",\"type\":\"Grid\"},{\"attributes\":{\"callback\":null,\"end\":0.27635178033,\"start\":-0.026916693329999998},\"id\":\"7df61467-7969-45e4-9f3a-d4ea92190bf7\",\"type\":\"Range1d\"},{\"attributes\":{\"callback\":null,\"data\":{\"x\":{\"__ndarray__\":\"WZTzdJeMgb/1maeCJzeBv1wkm5HbVIC/iWKNkpIAf7+9O7GMZkx9vwQnWGR/jnu/objoT1fKeb95JLuhi/d3vy9kplJCIHa/fq0syTE9dL9r+oIKDVNyvwH9D8fyYnC/aHsxofTPbL8d6cSRC7Znv18Ag3pTIEC/YY+aCd69dD+UHe1IjbqKPwRhs8vTk5c/wtRIq1caoj/xKdr+kNypP99ZyhhwrbE/aXjtsXjatj85908es7+4P9+nVNCHw7Y/s6HfGn9ysz/IuMHUv7muP0CGWSuEHKc/SlWWxR2foD9QaEBa73mWP+hF5sQwvYs/LpO9++UHfT/iZZ4FLkJiP/vo4pvX5Fq/e1cp6vjidb9nQ4eLn3CFv1fUKHAnG5G/els3RUoqlr804TmJeFOYv0F3ufDSOZi/RI7iWdiMl7+xpY4oyUeWv9QLofeE9JO/r2IrR0x5kL8kKBapRJqHv2kAsZ3WCnK/N4HP8qgvcT98nGnC9pOJP2s1mETFUZY/KQbW3ph/oD+H6Qu5A4mmP2sbw7+vYaw/aPz1HO4psT/J/D5E7JG0P2ksVfrtkbg/049+4p3PvD/ECnVgUl/AP5WUYBZ/AMI/IJntjrVUwz8piVcfMIvEP1vYiYFk8MU/0KoiHoGmxz+Yef72bW/JP8QPKWEBp8o/U1Z4PNIFzD/KztNnpDHLPyirMwi9SMk/5XRhvbRVxz8fee/BzkHFP3AmZO/eNMQ/oGlP6kcaxD8sLeHYzITEP+ep7aowS8U/r4n12xGtxj9NEmzYxgrJPysqqMkIf9E/\",\"dtype\":\"float64\",\"shape\":[75]},\"y\":{\"__ndarray__\":\"S/O/Q+51ND/Sv8nbtpRIP2vylNV0PVE/aTum7souWD/At0SJ8fVgPw3Iuahxymc/MSNhhJWvcD/bTfBN02d3P2zb5nxnaoA/CD5h5MAGhz8NmeH1TyaQP+zrCsc9p5Y/LbKd76fGnz/bLW5ISEmmPww9YvTcQq8/JV2OstnstT8Er5Y7M8G+P0c+r3jqkcU/5h99k6ZBzj88bCIzFzjVP4enV8oyxN0//yH99nXg5D8qOpLLf0jtP5kqGJXUifQ/c9cS8kHP/D+/DpwzojQEQIEmwoanVwxA4lgXt9HgE0BSSZ2AJuIbQAMJih9jjiNA5q4l5INuK0AwTKYKRj0zQNv5fmq8/DpAaCJseHrtQkB/+zpwzoxKQM3MzMzMeFJAZmZmZmZqWEAAAAAAAFxeQM3MzMzMJmJAmpmZmZkfZUBmZmZmZhhoQDMzMzMzEWtAAAAAAAAKbkBmZmZmZoFwQM3MzMzM/XFAMzMzMzN6c0CamZmZmfZ0QAAAAAAAc3ZAZmZmZmbvd0DNzMzMzGt5QDMzMzMz6HpAmpmZmZlkfEAAAAAAAOF9QGZmZmZmXX9AZmZmZuZsgECamZmZGSuBQM3MzMxM6YFAAAAAAICngkAzMzMzs2WDQGZmZmbmI4RAmpmZmRnihEDNzMzMTKCFQAAAAACAXoZAMzMzM7Mch0BmZmZm5tqHQJqZmZkZmYhAzczMzExXiUAAAAAAgBWKQDMzMzOz04pAZmZmZuaRi0CamZmZGVCMQM3MzMxMDo1AAAAAAIDMjUAzMzMzs4qOQGZmZmbmSI9A\",\"dtype\":\"float64\",\"shape\":[75]}},\"selected\":{\"id\":\"d34323d2-d595-44ed-9567-5514df071eed\",\"type\":\"Selection\"},\"selection_policy\":{\"id\":\"c4c619d6-a119-4f9c-b969-1fad472fb7df\",\"type\":\"UnionRenderers\"}},\"id\":\"78626800-9f7f-46fc-b7e4-15d3a9278923\",\"type\":\"ColumnDataSource\"},{\"attributes\":{},\"id\":\"0c320e76-6806-4d11-95cf-cc85c5bd49b7\",\"type\":\"LinearScale\"},{\"attributes\":{},\"id\":\"489e9e1c-b7ce-40c2-a25c-10e3462bf2ca\",\"type\":\"BasicTicker\"},{\"attributes\":{\"axis_label\":\"pressure [mb]\",\"formatter\":{\"id\":\"38407ee4-eab0-4f59-a782-a2f765379442\",\"type\":\"BasicTickFormatter\"},\"plot\":{\"id\":\"b6c2c9f0-75c7-40dc-83cc-1681b2c21ec3\",\"subtype\":\"Figure\",\"type\":\"Plot\"},\"ticker\":{\"id\":\"46a74c4e-2adf-457e-a933-72707028649b\",\"type\":\"BasicTicker\"}},\"id\":\"4f586e1e-405a-4884-867a-ede8c1d4697e\",\"type\":\"LinearAxis\"},{\"attributes\":{\"data_source\":{\"id\":\"d47079ce-ab6d-45ee-9a87-28fedbc92bb8\",\"type\":\"ColumnDataSource\"},\"glyph\":{\"id\":\"a2c5c60a-eb4f-4410-a949-bc3a54115239\",\"type\":\"Square\"},\"hover_glyph\":null,\"muted_glyph\":null,\"nonselection_glyph\":{\"id\":\"3b80b723-ae41-4416-8351-eba80b929507\",\"type\":\"Square\"},\"selection_glyph\":null,\"view\":{\"id\":\"1719ac39-4bd9-47ff-8e3d-9648a336e22b\",\"type\":\"CDSView\"}},\"id\":\"d5f0b92e-48bb-4281-91b9-915560edf00b\",\"type\":\"GlyphRenderer\"},{\"attributes\":{\"plot\":null,\"text\":\"Log pressure scale\"},\"id\":\"f2371229-99c4-44ff-969f-6faea6e4b970\",\"type\":\"Title\"},{\"attributes\":{\"source\":{\"id\":\"f3f0d7a9-ab01-42fb-94e8-7687ad667453\",\"type\":\"ColumnDataSource\"}},\"id\":\"5c0f9e39-243f-4ff0-850b-91b65c58230a\",\"type\":\"CDSView\"},{\"attributes\":{\"callback\":null,\"data\":{\"x\":{\"__ndarray__\":\"FRTtx3lBob9iQMn5bxmhv/4YH9iEw6C/COfmKvxqoL9bbhJ+BxGgv0othyJMbZ+/9HmNqTDAnr8ZB79WBxWev7XXNE+rcZ2/J7QFtA/anL9yXlckClOcv6CifbsL5Zu/XLBZ0Kmbm787IuZfuUibvzXPYkAuJZi/nGBESs/Oj7+DRi7MwpZvv1/w4FwAcIU/8RTciT6RnD/tnGHIvB6pP7tEXbo1KLM/wXmrjTVMuj+0PZvRZge8P52HaZgH1Lc/Ue+nm8tasj9c6syveWSpPy3/a4oR06A/h6GbHpBblj+52u0nIWCOPyzUdB97G4U/ekl+LbjyfD8oP3GVqtpxP7eaC5k4ZF0/5gIM1RHjTL+E+p5hhld1vydk+VAoX4a/HIbO7GwokL97Efa4MlKSv6MAJrAGFpK/517h1j2vkb/2OWySh9SQv6Uz3PIk+I2/fnFTSqJzh790pnwMPtt7vy6L0bHrzkS/C7CewqkJfT8T69N4ibSQP/yDwkxNFZs/OpnojiZgoj82eUYyFhOoP8gSqI7tZq4/c75AX2aXsj//hAak9R62PzHqWnufqrk/edAFWFguvT/GQbbqQkXAP2Bacf392sE/zhhJLyhbwz/LIRQhlsnEP/3ZbgaoPsY/vT1CrILBxz8S25vnoRnJP9PMB8Idwck/fvTZQ/Nnyj8fw1vOQg7JPwVUtEmw/sY/cqUBMFwlxT8lwSND8VfDP9HK3s6Vc8I/1KcsdVYswj/t5jW4pTzCP8Z/iZGIncI/7o9a1VBywz/uw0mz3EbFP9KlJJC3gc8/\",\"dtype\":\"float64\",\"shape\":[75]},\"y\":{\"__ndarray__\":\"GhExyth1ND/Sv8nbtpRIP2vylNV0PVE/aTum7souWD/At0SJ8fVgPw3Iuahxymc/MSNhhJWvcD/bTfBN02d3P2zb5nxnaoA/CD5h5MAGhz8NmeH1TyaQP+zrCsc9p5Y/LbKd76fGnz/bLW5ISEmmPww9YvTcQq8/JV2OstnstT8Er5Y7M8G+P0c+r3jqkcU/5h99k6ZBzj88bCIzFzjVP4enV8oyxN0//yH99nXg5D8qOpLLf0jtP5kqGJXUifQ/c9cS8kHP/D+/DpwzojQEQIEmwoanVwxA4lgXt9HgE0BSSZ2AJuIbQAMJih9jjiNA5q4l5INuK0AwTKYKRj0zQNv5fmq8/DpAaCJseHrtQkB/+zpwzoxKQM3MzMzMeFJAZmZmZmZqWEAAAAAAAFxeQM3MzMzMJmJAmpmZmZkfZUBmZmZmZhhoQDMzMzMzEWtAAAAAAAAKbkBmZmZmZoFwQM3MzMzM/XFAMzMzMzN6c0CamZmZmfZ0QAAAAAAAc3ZAZmZmZmbvd0DNzMzMzGt5QDMzMzMz6HpAmpmZmZlkfEAAAAAAAOF9QGZmZmZmXX9AZmZmZuZsgECamZmZGSuBQM3MzMxM6YFAAAAAAICngkAzMzMzs2WDQGZmZmbmI4RAmpmZmRnihEDNzMzMTKCFQAAAAACAXoZAMzMzM7Mch0BmZmZm5tqHQJqZmZkZmYhAzczMzExXiUAAAAAAgBWKQDMzMzOz04pAZmZmZuaRi0CamZmZGVCMQM3MzMxMDo1AAAAAAIDMjUAzMzMzs4qOQGZmZmbmSI9A\",\"dtype\":\"float64\",\"shape\":[75]}},\"selected\":{\"id\":\"583d964d-8be4-4e34-9f1d-bb4a89eaeb0b\",\"type\":\"Selection\"},\"selection_policy\":{\"id\":\"021096e4-1676-432a-86e1-33c16b5af1e3\",\"type\":\"UnionRenderers\"}},\"id\":\"c66713bd-ba61-4c1c-9c9e-cc9abf370c4e\",\"type\":\"ColumnDataSource\"},{\"attributes\":{\"source\":{\"id\":\"b63a1278-30b6-4497-ba12-fc6d4aa66bf5\",\"type\":\"ColumnDataSource\"}},\"id\":\"6311d785-a20e-40f0-8b1e-d93a646eeda8\",\"type\":\"CDSView\"},{\"attributes\":{\"source\":{\"id\":\"c66713bd-ba61-4c1c-9c9e-cc9abf370c4e\",\"type\":\"ColumnDataSource\"}},\"id\":\"d5e586c9-41fc-4df4-bc52-af5543a6d482\",\"type\":\"CDSView\"},{\"attributes\":{\"fill_alpha\":{\"value\":0.7},\"fill_color\":{\"value\":\"#984ea3\"},\"line_alpha\":{\"value\":0.7},\"line_color\":{\"value\":\"#984ea3\"},\"x\":{\"field\":\"x\"},\"y\":{\"field\":\"y\"}},\"id\":\"a2c5c60a-eb4f-4410-a949-bc3a54115239\",\"type\":\"Square\"},{\"attributes\":{\"data_source\":{\"id\":\"c66713bd-ba61-4c1c-9c9e-cc9abf370c4e\",\"type\":\"ColumnDataSource\"},\"glyph\":{\"id\":\"2ad11211-7e9e-4045-bb72-443159f2562d\",\"type\":\"Line\"},\"hover_glyph\":null,\"muted_glyph\":null,\"nonselection_glyph\":{\"id\":\"4e50064c-1b34-4edb-9a03-7e1ff0be00e5\",\"type\":\"Line\"},\"selection_glyph\":null,\"view\":{\"id\":\"d5e586c9-41fc-4df4-bc52-af5543a6d482\",\"type\":\"CDSView\"}},\"id\":\"feb4508b-0018-4884-b3b2-0c6f3e673ece\",\"type\":\"GlyphRenderer\"},{\"attributes\":{\"data_source\":{\"id\":\"b63a1278-30b6-4497-ba12-fc6d4aa66bf5\",\"type\":\"ColumnDataSource\"},\"glyph\":{\"id\":\"e528a06b-adf1-4f83-a6d9-bc4690b2893d\",\"type\":\"Circle\"},\"hover_glyph\":null,\"muted_glyph\":null,\"nonselection_glyph\":{\"id\":\"df8da47d-c3b4-47a1-84e1-2e668bc730f3\",\"type\":\"Circle\"},\"selection_glyph\":null,\"view\":{\"id\":\"6311d785-a20e-40f0-8b1e-d93a646eeda8\",\"type\":\"CDSView\"}},\"id\":\"a801f23a-8cbe-46ee-bfbd-913d22c7b945\",\"type\":\"GlyphRenderer\"},{\"attributes\":{\"data_source\":{\"id\":\"94275798-a2db-4c3e-bc59-8bd3f853d6c5\",\"type\":\"ColumnDataSource\"},\"glyph\":{\"id\":\"5c025627-81f2-448c-9fe7-b6e9ced436bd\",\"type\":\"Circle\"},\"hover_glyph\":null,\"muted_glyph\":null,\"nonselection_glyph\":{\"id\":\"bbee4063-e4a8-4f85-b4c3-72209d26684f\",\"type\":\"Circle\"},\"selection_glyph\":null,\"view\":{\"id\":\"638ea659-1208-4121-925a-fe40aaf5dbaf\",\"type\":\"CDSView\"}},\"id\":\"4c57c1e8-66b5-458b-a388-557bdc3317b7\",\"type\":\"GlyphRenderer\"},{\"attributes\":{\"line_alpha\":0.1,\"line_color\":\"#1f77b4\",\"line_width\":1.5,\"x\":{\"field\":\"x\"},\"y\":{\"field\":\"y\"}},\"id\":\"4e50064c-1b34-4edb-9a03-7e1ff0be00e5\",\"type\":\"Line\"},{\"attributes\":{\"fill_alpha\":{\"value\":0.1},\"fill_color\":{\"value\":\"#1f77b4\"},\"line_alpha\":{\"value\":0.1},\"line_color\":{\"value\":\"#1f77b4\"},\"x\":{\"field\":\"x\"},\"y\":{\"field\":\"y\"}},\"id\":\"df8da47d-c3b4-47a1-84e1-2e668bc730f3\",\"type\":\"Circle\"},{\"attributes\":{\"source\":{\"id\":\"20831f75-4ca6-4866-aab7-b65d7672da51\",\"type\":\"ColumnDataSource\"}},\"id\":\"b255bc49-a7fb-40af-b1db-9f280cf9852b\",\"type\":\"CDSView\"},{\"attributes\":{\"source\":{\"id\":\"c885220d-350f-48e4-9fea-e840b0a48848\",\"type\":\"ColumnDataSource\"}},\"id\":\"2d4e7bfa-9838-4fdf-94e5-9cbf51c3ae9e\",\"type\":\"CDSView\"},{\"attributes\":{\"line_alpha\":0.6,\"line_color\":\"#984ea3\",\"line_width\":3,\"x\":{\"field\":\"x\"},\"y\":{\"field\":\"y\"}},\"id\":\"86fc94f6-9420-4751-abca-48a004e2bbbe\",\"type\":\"Line\"},{\"attributes\":{\"fill_alpha\":{\"value\":0.1},\"fill_color\":{\"value\":\"#1f77b4\"},\"line_alpha\":{\"value\":0.1},\"line_color\":{\"value\":\"#1f77b4\"},\"x\":{\"field\":\"x\"},\"y\":{\"field\":\"y\"}},\"id\":\"3b80b723-ae41-4416-8351-eba80b929507\",\"type\":\"Square\"},{\"attributes\":{\"line_color\":\"#4daf4a\",\"line_width\":1.5,\"x\":{\"field\":\"x\"},\"y\":{\"field\":\"y\"}},\"id\":\"2ad11211-7e9e-4045-bb72-443159f2562d\",\"type\":\"Line\"},{\"attributes\":{\"children\":[{\"id\":\"72cdd8ea-bc83-43ff-aada-76f6250c54c0\",\"type\":\"Row\"}]},\"id\":\"2a808982-4fe3-469c-83bc-04a61cead2b3\",\"type\":\"Column\"},{\"attributes\":{\"callback\":null,\"data\":{\"x\":{\"__ndarray__\":\"SgiGDuJMib+n/rYxut+Iv3ahf6OZ/oe/XSWKVg8Uh7+SoQpPTSGGv0jL3NfcLIW/BBJlz+QyhL9JLfPidDWDv5R8/hEMO4K/+vQRHWZNgb/+PvgUrVGAv0FmtISmdH6/7unrs+p+fL8sOw2oYf55v7iNC/Lvhm+/fU2da0JYYT8BU9Mcw92FP1hRfrBe1ZU/Ptyt4/qioT+XV9R+cOCpP1ccPlEo97E/hd/oiwZutz+iDjoHIEy5P2YtuRW4+LY/ZPDc7Q1Nsz9cdWk4b+CtP/zDQB6UDKY/nEJgRUNPnz8UCfyaEjSVP/txSixo24o/RsNfHCdIfj+7tr+Du0RoP9FaGF0Yskq/g5bSlFQWc789arslE5mEv1hA5bs7ApG/riPFAopRlr/iXPNFo4SYv0o2m+pwRJi/HJuHjV5/l7/J7Sf7mCOWv1fqoOVVqpO/VzHU4gVxj7/YCyHBNt2Ev7IWy6fheGq/ch9pyu+odT/i3clbOXGNP4uRDte2nZg/yglSqvZJoT8MklCQXiinP9rU7aoPPa0/i0ZidfC7sT/tBRj2sQu1P5MiS0mDmbg/M+GX+nlTvD/V2PNvdu+/P7eM5aeCm8E/FML21U0Qwz/AoNhMtmjEP9VxgIkN0MU/vTnYcplgxz/O4RjRj+nIP987pPcR6Mk/+TNZL8gOyz8vae8ADT7KPyB+vF8elcg/YzHB20nlxj/jKmBMRAnFP2MhvjwyEMQ/sM1jIBHLwz/IrwbF4vnDPybUPuPjj8Q/s1O9RtytxT/9DaAABtnHP9FchoOt59A/\",\"dtype\":\"float64\",\"shape\":[75]},\"y\":{\"__ndarray__\":\"GhExyth1ND/Sv8nbtpRIP2vylNV0PVE/aTum7souWD/At0SJ8fVgPw3Iuahxymc/MSNhhJWvcD/bTfBN02d3P2zb5nxnaoA/CD5h5MAGhz8NmeH1TyaQP+zrCsc9p5Y/LbKd76fGnz/bLW5ISEmmPww9YvTcQq8/JV2OstnstT8Er5Y7M8G+P0c+r3jqkcU/5h99k6ZBzj88bCIzFzjVP4enV8oyxN0//yH99nXg5D8qOpLLf0jtP5kqGJXUifQ/c9cS8kHP/D+/DpwzojQEQIEmwoanVwxA4lgXt9HgE0BSSZ2AJuIbQAMJih9jjiNA5q4l5INuK0AwTKYKRj0zQNv5fmq8/DpAaCJseHrtQkB/+zpwzoxKQM3MzMzMeFJAZmZmZmZqWEAAAAAAAFxeQM3MzMzMJmJAmpmZmZkfZUBmZmZmZhhoQDMzMzMzEWtAAAAAAAAKbkBmZmZmZoFwQM3MzMzM/XFAMzMzMzN6c0CamZmZmfZ0QAAAAAAAc3ZAZmZmZmbvd0DNzMzMzGt5QDMzMzMz6HpAmpmZmZlkfEAAAAAAAOF9QGZmZmZmXX9AZmZmZuZsgECamZmZGSuBQM3MzMxM6YFAAAAAAICngkAzMzMzs2WDQGZmZmbmI4RAmpmZmRnihEDNzMzMTKCFQAAAAACAXoZAMzMzM7Mch0BmZmZm5tqHQJqZmZkZmYhAzczMzExXiUAAAAAAgBWKQDMzMzOz04pAZmZmZuaRi0CamZmZGVCMQM3MzMxMDo1AAAAAAIDMjUAzMzMzs4qOQGZmZmbmSI9A\",\"dtype\":\"float64\",\"shape\":[75]}},\"selected\":{\"id\":\"f7a34124-e20d-4037-b7d3-b011ee26f85d\",\"type\":\"Selection\"},\"selection_policy\":{\"id\":\"b585e4ce-0d53-4ee0-ac2f-ec89cc8446e6\",\"type\":\"UnionRenderers\"}},\"id\":\"d47079ce-ab6d-45ee-9a87-28fedbc92bb8\",\"type\":\"ColumnDataSource\"},{\"attributes\":{\"children\":[{\"id\":\"b6c2c9f0-75c7-40dc-83cc-1681b2c21ec3\",\"subtype\":\"Figure\",\"type\":\"Plot\"},{\"id\":\"9f700a6e-73ae-42bb-bdd2-68d2df119fd5\",\"subtype\":\"Figure\",\"type\":\"Plot\"}]},\"id\":\"72cdd8ea-bc83-43ff-aada-76f6250c54c0\",\"type\":\"Row\"},{\"attributes\":{\"source\":{\"id\":\"b8ed0a99-0d29-4511-bcc9-22d85c505959\",\"type\":\"ColumnDataSource\"}},\"id\":\"136bbc64-f2b1-44b3-b0a8-ba4ba5930acb\",\"type\":\"CDSView\"},{\"attributes\":{\"label\":{\"value\":\"CLIRAD `coolr_bands`\"},\"renderers\":[{\"id\":\"b1b20fb3-f55b-4bba-bf82-ce54409b054e\",\"type\":\"GlyphRenderer\"}]},\"id\":\"ae9a2945-f9d0-4e06-b789-a090e9532fde\",\"type\":\"LegendItem\"},{\"attributes\":{},\"id\":\"38407ee4-eab0-4f59-a782-a2f765379442\",\"type\":\"BasicTickFormatter\"},{\"attributes\":{\"callback\":null,\"data\":{\"x\":{\"__ndarray__\":\"SgiGDuJMib+n/rYxut+Iv3ahf6OZ/oe/XSWKVg8Uh7+SoQpPTSGGv0jL3NfcLIW/BBJlz+QyhL9JLfPidDWDv5R8/hEMO4K/+vQRHWZNgb/+PvgUrVGAv0FmtISmdH6/7unrs+p+fL8sOw2oYf55v7iNC/Lvhm+/fU2da0JYYT8BU9Mcw92FP1hRfrBe1ZU/Ptyt4/qioT+XV9R+cOCpP1ccPlEo97E/hd/oiwZutz+iDjoHIEy5P2YtuRW4+LY/ZPDc7Q1Nsz9cdWk4b+CtP/zDQB6UDKY/nEJgRUNPnz8UCfyaEjSVP/txSixo24o/RsNfHCdIfj+7tr+Du0RoP9FaGF0Yskq/g5bSlFQWc789arslE5mEv1hA5bs7ApG/riPFAopRlr/iXPNFo4SYv0o2m+pwRJi/HJuHjV5/l7/J7Sf7mCOWv1fqoOVVqpO/VzHU4gVxj7/YCyHBNt2Ev7IWy6fheGq/ch9pyu+odT/i3clbOXGNP4uRDte2nZg/yglSqvZJoT8MklCQXiinP9rU7aoPPa0/i0ZidfC7sT/tBRj2sQu1P5MiS0mDmbg/M+GX+nlTvD/V2PNvdu+/P7eM5aeCm8E/FML21U0Qwz/AoNhMtmjEP9VxgIkN0MU/vTnYcplgxz/O4RjRj+nIP987pPcR6Mk/+TNZL8gOyz8vae8ADT7KPyB+vF8elcg/YzHB20nlxj/jKmBMRAnFP2MhvjwyEMQ/sM1jIBHLwz/IrwbF4vnDPybUPuPjj8Q/s1O9RtytxT/9DaAABtnHP9FchoOt59A/\",\"dtype\":\"float64\",\"shape\":[75]},\"y\":{\"__ndarray__\":\"GhExyth1ND/Sv8nbtpRIP2vylNV0PVE/aTum7souWD/At0SJ8fVgPw3Iuahxymc/MSNhhJWvcD/bTfBN02d3P2zb5nxnaoA/CD5h5MAGhz8NmeH1TyaQP+zrCsc9p5Y/LbKd76fGnz/bLW5ISEmmPww9YvTcQq8/JV2OstnstT8Er5Y7M8G+P0c+r3jqkcU/5h99k6ZBzj88bCIzFzjVP4enV8oyxN0//yH99nXg5D8qOpLLf0jtP5kqGJXUifQ/c9cS8kHP/D+/DpwzojQEQIEmwoanVwxA4lgXt9HgE0BSSZ2AJuIbQAMJih9jjiNA5q4l5INuK0AwTKYKRj0zQNv5fmq8/DpAaCJseHrtQkB/+zpwzoxKQM3MzMzMeFJAZmZmZmZqWEAAAAAAAFxeQM3MzMzMJmJAmpmZmZkfZUBmZmZmZhhoQDMzMzMzEWtAAAAAAAAKbkBmZmZmZoFwQM3MzMzM/XFAMzMzMzN6c0CamZmZmfZ0QAAAAAAAc3ZAZmZmZmbvd0DNzMzMzGt5QDMzMzMz6HpAmpmZmZlkfEAAAAAAAOF9QGZmZmZmXX9AZmZmZuZsgECamZmZGSuBQM3MzMxM6YFAAAAAAICngkAzMzMzs2WDQGZmZmbmI4RAmpmZmRnihEDNzMzMTKCFQAAAAACAXoZAMzMzM7Mch0BmZmZm5tqHQJqZmZkZmYhAzczMzExXiUAAAAAAgBWKQDMzMzOz04pAZmZmZuaRi0CamZmZGVCMQM3MzMxMDo1AAAAAAIDMjUAzMzMzs4qOQGZmZmbmSI9A\",\"dtype\":\"float64\",\"shape\":[75]}},\"selected\":{\"id\":\"ae937ae7-e53a-457d-b9e1-3c0f2608fcbf\",\"type\":\"Selection\"},\"selection_policy\":{\"id\":\"9016a2f8-52bb-48e9-87d2-8d251f6ad354\",\"type\":\"UnionRenderers\"}},\"id\":\"f3f0d7a9-ab01-42fb-94e8-7687ad667453\",\"type\":\"ColumnDataSource\"},{\"attributes\":{\"label\":{\"value\":\"CRD\"},\"renderers\":[{\"id\":\"a801f23a-8cbe-46ee-bfbd-913d22c7b945\",\"type\":\"GlyphRenderer\"},{\"id\":\"feb4508b-0018-4884-b3b2-0c6f3e673ece\",\"type\":\"GlyphRenderer\"}]},\"id\":\"6c666447-6b0e-42e8-8f2f-9b308e4a8fdd\",\"type\":\"LegendItem\"},{\"attributes\":{},\"id\":\"b07d06bd-cf90-4bee-ae08-26146e20fd25\",\"type\":\"UnionRenderers\"},{\"attributes\":{\"label\":{\"value\":\"WGT igg=10 wgt_flux=2\"},\"renderers\":[{\"id\":\"d5f0b92e-48bb-4281-91b9-915560edf00b\",\"type\":\"GlyphRenderer\"},{\"id\":\"0edb9ee2-543a-4020-826d-0f74cfebf68d\",\"type\":\"GlyphRenderer\"}]},\"id\":\"5a60c509-d4a9-4ee4-b12d-3d5f631c7994\",\"type\":\"LegendItem\"},{\"attributes\":{},\"id\":\"3f8e3aae-3ba5-4219-9161-f45e65f33920\",\"type\":\"Selection\"},{\"attributes\":{},\"id\":\"966d7f90-38dc-4c70-89cf-ed3e45433798\",\"type\":\"BasicTickFormatter\"},{\"attributes\":{},\"id\":\"45ea7d57-a0c2-456f-a98d-66b7a63b8a1a\",\"type\":\"Selection\"},{\"attributes\":{},\"id\":\"71d24ca2-1a75-4e25-9baa-bbac7e5c097b\",\"type\":\"UnionRenderers\"},{\"attributes\":{},\"id\":\"f9c1dbaf-6674-477f-8dba-c0acf2df1c98\",\"type\":\"UnionRenderers\"},{\"attributes\":{\"fill_alpha\":{\"value\":0.1},\"fill_color\":{\"value\":\"#1f77b4\"},\"line_alpha\":{\"value\":0.1},\"line_color\":{\"value\":\"#1f77b4\"},\"x\":{\"field\":\"x\"},\"y\":{\"field\":\"y\"}},\"id\":\"e6cd8aa1-30aa-43bc-8e9f-67111df0ceaa\",\"type\":\"Square\"},{\"attributes\":{\"callback\":null,\"data\":{\"x\":{\"__ndarray__\":\"SgiGDuJMib+n/rYxut+Iv3ahf6OZ/oe/XSWKVg8Uh7+SoQpPTSGGv0jL3NfcLIW/BBJlz+QyhL9JLfPidDWDv5R8/hEMO4K/+vQRHWZNgb/+PvgUrVGAv0FmtISmdH6/7unrs+p+fL8sOw2oYf55v7iNC/Lvhm+/fU2da0JYYT8BU9Mcw92FP1hRfrBe1ZU/Ptyt4/qioT+XV9R+cOCpP1ccPlEo97E/hd/oiwZutz+iDjoHIEy5P2YtuRW4+LY/ZPDc7Q1Nsz9cdWk4b+CtP/zDQB6UDKY/nEJgRUNPnz8UCfyaEjSVP/txSixo24o/RsNfHCdIfj+7tr+Du0RoP9FaGF0Yskq/g5bSlFQWc789arslE5mEv1hA5bs7ApG/riPFAopRlr/iXPNFo4SYv0o2m+pwRJi/HJuHjV5/l7/J7Sf7mCOWv1fqoOVVqpO/VzHU4gVxj7/YCyHBNt2Ev7IWy6fheGq/ch9pyu+odT/i3clbOXGNP4uRDte2nZg/yglSqvZJoT8MklCQXiinP9rU7aoPPa0/i0ZidfC7sT/tBRj2sQu1P5MiS0mDmbg/M+GX+nlTvD/V2PNvdu+/P7eM5aeCm8E/FML21U0Qwz/AoNhMtmjEP9VxgIkN0MU/vTnYcplgxz/O4RjRj+nIP987pPcR6Mk/+TNZL8gOyz8vae8ADT7KPyB+vF8elcg/YzHB20nlxj/jKmBMRAnFP2MhvjwyEMQ/sM1jIBHLwz/IrwbF4vnDPybUPuPjj8Q/s1O9RtytxT/9DaAABtnHP9FchoOt59A/\",\"dtype\":\"float64\",\"shape\":[75]},\"y\":{\"__ndarray__\":\"GhExyth1ND/Sv8nbtpRIP2vylNV0PVE/aTum7souWD/At0SJ8fVgPw3Iuahxymc/MSNhhJWvcD/bTfBN02d3P2zb5nxnaoA/CD5h5MAGhz8NmeH1TyaQP+zrCsc9p5Y/LbKd76fGnz/bLW5ISEmmPww9YvTcQq8/JV2OstnstT8Er5Y7M8G+P0c+r3jqkcU/5h99k6ZBzj88bCIzFzjVP4enV8oyxN0//yH99nXg5D8qOpLLf0jtP5kqGJXUifQ/c9cS8kHP/D+/DpwzojQEQIEmwoanVwxA4lgXt9HgE0BSSZ2AJuIbQAMJih9jjiNA5q4l5INuK0AwTKYKRj0zQNv5fmq8/DpAaCJseHrtQkB/+zpwzoxKQM3MzMzMeFJAZmZmZmZqWEAAAAAAAFxeQM3MzMzMJmJAmpmZmZkfZUBmZmZmZhhoQDMzMzMzEWtAAAAAAAAKbkBmZmZmZoFwQM3MzMzM/XFAMzMzMzN6c0CamZmZmfZ0QAAAAAAAc3ZAZmZmZmbvd0DNzMzMzGt5QDMzMzMz6HpAmpmZmZlkfEAAAAAAAOF9QGZmZmZmXX9AZmZmZuZsgECamZmZGSuBQM3MzMxM6YFAAAAAAICngkAzMzMzs2WDQGZmZmbmI4RAmpmZmRnihEDNzMzMTKCFQAAAAACAXoZAMzMzM7Mch0BmZmZm5tqHQJqZmZkZmYhAzczMzExXiUAAAAAAgBWKQDMzMzOz04pAZmZmZuaRi0CamZmZGVCMQM3MzMxMDo1AAAAAAIDMjUAzMzMzs4qOQGZmZmbmSI9A\",\"dtype\":\"float64\",\"shape\":[75]}},\"selected\":{\"id\":\"31b18a3b-6ede-4d52-928f-453d9ec60d13\",\"type\":\"Selection\"},\"selection_policy\":{\"id\":\"1fb8f057-ada7-4007-9cee-659d8a007d6e\",\"type\":\"UnionRenderers\"}},\"id\":\"20831f75-4ca6-4866-aab7-b65d7672da51\",\"type\":\"ColumnDataSource\"},{\"attributes\":{},\"id\":\"9df60ae9-5630-4749-948b-d6a2941e63c6\",\"type\":\"Selection\"},{\"attributes\":{},\"id\":\"1fb8f057-ada7-4007-9cee-659d8a007d6e\",\"type\":\"UnionRenderers\"},{\"attributes\":{},\"id\":\"31b18a3b-6ede-4d52-928f-453d9ec60d13\",\"type\":\"Selection\"},{\"attributes\":{\"ticker\":null},\"id\":\"cbb09c3a-7900-46c2-a5c5-b6e59475da55\",\"type\":\"LogTickFormatter\"},{\"attributes\":{},\"id\":\"021096e4-1676-432a-86e1-33c16b5af1e3\",\"type\":\"UnionRenderers\"},{\"attributes\":{},\"id\":\"9016a2f8-52bb-48e9-87d2-8d251f6ad354\",\"type\":\"UnionRenderers\"},{\"attributes\":{},\"id\":\"ae937ae7-e53a-457d-b9e1-3c0f2608fcbf\",\"type\":\"Selection\"},{\"attributes\":{\"line_color\":\"#4daf4a\",\"line_width\":1.5,\"x\":{\"field\":\"x\"},\"y\":{\"field\":\"y\"}},\"id\":\"dd22880c-8756-4d5a-8619-2af6f5246431\",\"type\":\"Line\"},{\"attributes\":{},\"id\":\"583d964d-8be4-4e34-9f1d-bb4a89eaeb0b\",\"type\":\"Selection\"},{\"attributes\":{},\"id\":\"32e03ff3-90cb-4854-a9ba-ef19a6814fbb\",\"type\":\"UnionRenderers\"},{\"attributes\":{},\"id\":\"c4c619d6-a119-4f9c-b969-1fad472fb7df\",\"type\":\"UnionRenderers\"},{\"attributes\":{},\"id\":\"d34323d2-d595-44ed-9567-5514df071eed\",\"type\":\"Selection\"},{\"attributes\":{},\"id\":\"9c3beec0-0811-457e-af12-35e144b812ad\",\"type\":\"Selection\"},{\"attributes\":{\"callback\":null,\"data\":{\"x\":{\"__ndarray__\":\"FRTtx3lBob9iQMn5bxmhv/4YH9iEw6C/COfmKvxqoL9bbhJ+BxGgv0othyJMbZ+/9HmNqTDAnr8ZB79WBxWev7XXNE+rcZ2/J7QFtA/anL9yXlckClOcv6CifbsL5Zu/XLBZ0Kmbm787IuZfuUibvzXPYkAuJZi/nGBESs/Oj7+DRi7MwpZvv1/w4FwAcIU/8RTciT6RnD/tnGHIvB6pP7tEXbo1KLM/wXmrjTVMuj+0PZvRZge8P52HaZgH1Lc/Ue+nm8tasj9c6syveWSpPy3/a4oR06A/h6GbHpBblj+52u0nIWCOPyzUdB97G4U/ekl+LbjyfD8oP3GVqtpxP7eaC5k4ZF0/5gIM1RHjTL+E+p5hhld1vydk+VAoX4a/HIbO7GwokL97Efa4MlKSv6MAJrAGFpK/517h1j2vkb/2OWySh9SQv6Uz3PIk+I2/fnFTSqJzh790pnwMPtt7vy6L0bHrzkS/C7CewqkJfT8T69N4ibSQP/yDwkxNFZs/OpnojiZgoj82eUYyFhOoP8gSqI7tZq4/c75AX2aXsj//hAak9R62PzHqWnufqrk/edAFWFguvT/GQbbqQkXAP2Bacf392sE/zhhJLyhbwz/LIRQhlsnEP/3ZbgaoPsY/vT1CrILBxz8S25vnoRnJP9PMB8Idwck/fvTZQ/Nnyj8fw1vOQg7JPwVUtEmw/sY/cqUBMFwlxT8lwSND8VfDP9HK3s6Vc8I/1KcsdVYswj/t5jW4pTzCP8Z/iZGIncI/7o9a1VBywz/uw0mz3EbFP9KlJJC3gc8/\",\"dtype\":\"float64\",\"shape\":[75]},\"y\":{\"__ndarray__\":\"GhExyth1ND/Sv8nbtpRIP2vylNV0PVE/aTum7souWD/At0SJ8fVgPw3Iuahxymc/MSNhhJWvcD/bTfBN02d3P2zb5nxnaoA/CD5h5MAGhz8NmeH1TyaQP+zrCsc9p5Y/LbKd76fGnz/bLW5ISEmmPww9YvTcQq8/JV2OstnstT8Er5Y7M8G+P0c+r3jqkcU/5h99k6ZBzj88bCIzFzjVP4enV8oyxN0//yH99nXg5D8qOpLLf0jtP5kqGJXUifQ/c9cS8kHP/D+/DpwzojQEQIEmwoanVwxA4lgXt9HgE0BSSZ2AJuIbQAMJih9jjiNA5q4l5INuK0AwTKYKRj0zQNv5fmq8/DpAaCJseHrtQkB/+zpwzoxKQM3MzMzMeFJAZmZmZmZqWEAAAAAAAFxeQM3MzMzMJmJAmpmZmZkfZUBmZmZmZhhoQDMzMzMzEWtAAAAAAAAKbkBmZmZmZoFwQM3MzMzM/XFAMzMzMzN6c0CamZmZmfZ0QAAAAAAAc3ZAZmZmZmbvd0DNzMzMzGt5QDMzMzMz6HpAmpmZmZlkfEAAAAAAAOF9QGZmZmZmXX9AZmZmZuZsgECamZmZGSuBQM3MzMxM6YFAAAAAAICngkAzMzMzs2WDQGZmZmbmI4RAmpmZmRnihEDNzMzMTKCFQAAAAACAXoZAMzMzM7Mch0BmZmZm5tqHQJqZmZkZmYhAzczMzExXiUAAAAAAgBWKQDMzMzOz04pAZmZmZuaRi0CamZmZGVCMQM3MzMxMDo1AAAAAAIDMjUAzMzMzs4qOQGZmZmbmSI9A\",\"dtype\":\"float64\",\"shape\":[75]}},\"selected\":{\"id\":\"9df60ae9-5630-4749-948b-d6a2941e63c6\",\"type\":\"Selection\"},\"selection_policy\":{\"id\":\"71d24ca2-1a75-4e25-9baa-bbac7e5c097b\",\"type\":\"UnionRenderers\"}},\"id\":\"b8ed0a99-0d29-4511-bcc9-22d85c505959\",\"type\":\"ColumnDataSource\"},{\"attributes\":{},\"id\":\"b585e4ce-0d53-4ee0-ac2f-ec89cc8446e6\",\"type\":\"UnionRenderers\"},{\"attributes\":{},\"id\":\"f7a34124-e20d-4037-b7d3-b011ee26f85d\",\"type\":\"Selection\"},{\"attributes\":{\"tools\":[{\"id\":\"902d2336-8b8d-4e06-9bdb-0851ca043280\",\"type\":\"PanTool\"},{\"id\":\"7895b4c5-65ed-4c4f-a31d-6985a23b079c\",\"type\":\"WheelZoomTool\"},{\"id\":\"0216b95f-f8ba-4f1a-9e6c-76fa719867da\",\"type\":\"BoxZoomTool\"},{\"id\":\"319b0ce1-12b3-40ed-9eb8-104be448ec7d\",\"type\":\"SaveTool\"},{\"id\":\"91ac1139-29df-4ec2-b506-0291b27a5a20\",\"type\":\"ResetTool\"},{\"id\":\"2526cf02-8215-46ab-b1a7-d9b4a14f963f\",\"type\":\"HelpTool\"},{\"id\":\"5318b7ea-afbc-4d9f-958d-0be5ff83cf53\",\"type\":\"PanTool\"},{\"id\":\"15ae8cec-1460-41b0-bfcd-a22a2472ad77\",\"type\":\"WheelZoomTool\"},{\"id\":\"bc443318-d8f8-4a36-a7bb-c25e8a4057be\",\"type\":\"BoxZoomTool\"},{\"id\":\"b41b3d71-c262-45e8-bbe1-a75d772fc655\",\"type\":\"SaveTool\"},{\"id\":\"2abbd21f-4c9b-40d2-b865-d4dc8ad895b0\",\"type\":\"ResetTool\"},{\"id\":\"fd2909d1-5b49-4c52-b67d-835e9be77865\",\"type\":\"HelpTool\"}]},\"id\":\"8eeff0db-e2d8-4163-8a3b-2e57cc4b7ac4\",\"type\":\"ProxyToolbar\"},{\"attributes\":{\"toolbar\":{\"id\":\"8eeff0db-e2d8-4163-8a3b-2e57cc4b7ac4\",\"type\":\"ProxyToolbar\"},\"toolbar_location\":\"above\"},\"id\":\"175cb6c0-cf0c-4f5d-91bc-9f75fc170d99\",\"type\":\"ToolbarBox\"},{\"attributes\":{},\"id\":\"937a5224-debd-409e-9aa3-e0436fcb342f\",\"type\":\"UnionRenderers\"},{\"attributes\":{\"line_alpha\":0.6,\"line_color\":\"#e41a1c\",\"line_dash\":[6],\"line_width\":5,\"x\":{\"field\":\"x\"},\"y\":{\"field\":\"y\"}},\"id\":\"6a07fa50-85e9-4a7e-9e43-50fd2269cb6a\",\"type\":\"Line\"},{\"attributes\":{},\"id\":\"672c7a9c-0ca1-42a2-8a43-0153150c84c8\",\"type\":\"Selection\"},{\"attributes\":{\"children\":[{\"id\":\"175cb6c0-cf0c-4f5d-91bc-9f75fc170d99\",\"type\":\"ToolbarBox\"},{\"id\":\"2a808982-4fe3-469c-83bc-04a61cead2b3\",\"type\":\"Column\"}]},\"id\":\"3b44e16a-36f5-4166-b942-6fc2835df8de\",\"type\":\"Column\"},{\"attributes\":{},\"id\":\"1c1978b7-be0b-48fe-8712-c0ec9dfa2d1e\",\"type\":\"LinearScale\"},{\"attributes\":{\"data_source\":{\"id\":\"20831f75-4ca6-4866-aab7-b65d7672da51\",\"type\":\"ColumnDataSource\"},\"glyph\":{\"id\":\"337369d0-17c5-4aaf-9192-98080c09b7a9\",\"type\":\"Square\"},\"hover_glyph\":null,\"muted_glyph\":null,\"nonselection_glyph\":{\"id\":\"e6cd8aa1-30aa-43bc-8e9f-67111df0ceaa\",\"type\":\"Square\"},\"selection_glyph\":null,\"view\":{\"id\":\"b255bc49-a7fb-40af-b1db-9f280cf9852b\",\"type\":\"CDSView\"}},\"id\":\"16c68f98-5ea7-4134-9ca0-afe3daf6922c\",\"type\":\"GlyphRenderer\"},{\"attributes\":{\"fill_alpha\":{\"value\":0.1},\"fill_color\":{\"value\":\"#1f77b4\"},\"line_alpha\":{\"value\":0.1},\"line_color\":{\"value\":\"#1f77b4\"},\"x\":{\"field\":\"x\"},\"y\":{\"field\":\"y\"}},\"id\":\"bbee4063-e4a8-4f85-b4c3-72209d26684f\",\"type\":\"Circle\"},{\"attributes\":{\"data_source\":{\"id\":\"b8ed0a99-0d29-4511-bcc9-22d85c505959\",\"type\":\"ColumnDataSource\"},\"glyph\":{\"id\":\"dd22880c-8756-4d5a-8619-2af6f5246431\",\"type\":\"Line\"},\"hover_glyph\":null,\"muted_glyph\":null,\"nonselection_glyph\":{\"id\":\"590798ef-8560-4104-b11f-8e916886cb82\",\"type\":\"Line\"},\"selection_glyph\":null,\"view\":{\"id\":\"136bbc64-f2b1-44b3-b0a8-ba4ba5930acb\",\"type\":\"CDSView\"}},\"id\":\"ef406f70-52f5-4d77-94d4-d4220405a6ba\",\"type\":\"GlyphRenderer\"},{\"attributes\":{\"source\":{\"id\":\"94275798-a2db-4c3e-bc59-8bd3f853d6c5\",\"type\":\"ColumnDataSource\"}},\"id\":\"638ea659-1208-4121-925a-fe40aaf5dbaf\",\"type\":\"CDSView\"},{\"attributes\":{\"fill_alpha\":{\"value\":0.7},\"fill_color\":{\"value\":\"#4daf4a\"},\"line_alpha\":{\"value\":0.7},\"line_color\":{\"value\":\"#4daf4a\"},\"x\":{\"field\":\"x\"},\"y\":{\"field\":\"y\"}},\"id\":\"5c025627-81f2-448c-9fe7-b6e9ced436bd\",\"type\":\"Circle\"},{\"attributes\":{\"fill_alpha\":{\"value\":0.7},\"fill_color\":{\"value\":\"#984ea3\"},\"line_alpha\":{\"value\":0.7},\"line_color\":{\"value\":\"#984ea3\"},\"x\":{\"field\":\"x\"},\"y\":{\"field\":\"y\"}},\"id\":\"337369d0-17c5-4aaf-9192-98080c09b7a9\",\"type\":\"Square\"},{\"attributes\":{\"line_alpha\":0.1,\"line_color\":\"#1f77b4\",\"line_width\":1.5,\"x\":{\"field\":\"x\"},\"y\":{\"field\":\"y\"}},\"id\":\"590798ef-8560-4104-b11f-8e916886cb82\",\"type\":\"Line\"}],\"root_ids\":[\"3b44e16a-36f5-4166-b942-6fc2835df8de\"]},\"title\":\"Bokeh Application\",\"version\":\"0.12.16\"}};\n",
       "  var render_items = [{\"docid\":\"e35dc33a-f38e-4f65-b655-3a3009b288fa\",\"elementid\":\"d62e1866-9bb7-42f5-b03a-0d649bfde6a4\",\"modelid\":\"3b44e16a-36f5-4166-b942-6fc2835df8de\"}];\n",
       "  root.Bokeh.embed.embed_items_notebook(docs_json, render_items);\n",
       "\n",
       "  }\n",
       "  if (root.Bokeh !== undefined) {\n",
       "    embed_document(root);\n",
       "  } else {\n",
       "    var attempts = 0;\n",
       "    var timer = setInterval(function(root) {\n",
       "      if (root.Bokeh !== undefined) {\n",
       "        embed_document(root);\n",
       "        clearInterval(timer);\n",
       "      }\n",
       "      attempts++;\n",
       "      if (attempts > 100) {\n",
       "        console.log(\"Bokeh: ERROR: Unable to run BokehJS code because BokehJS library is missing\")\n",
       "        clearInterval(timer);\n",
       "      }\n",
       "    }, 10, root)\n",
       "  }\n",
       "})(window);"
      ],
      "application/vnd.bokehjs_exec.v0+json": ""
     },
     "metadata": {
      "application/vnd.bokehjs_exec.v0+json": {
       "id": "3b44e16a-36f5-4166-b942-6fc2835df8de"
      }
     },
     "output_type": "display_data"
    },
    {
     "name": "stdout",
     "output_type": "stream",
     "text": [
      "FIGURE. Cooling rate profiles.\n"
     ]
    },
    {
     "data": {
      "text/html": [
       "<a id=\"Flux_Comparison\"></a>"
      ],
      "text/plain": [
       "<IPython.core.display.HTML object>"
      ]
     },
     "metadata": {},
     "output_type": "display_data"
    },
    {
     "data": {
      "text/markdown": [
       "# Flux Comparison"
      ],
      "text/plain": [
       "<IPython.core.display.Markdown object>"
      ]
     },
     "metadata": {},
     "output_type": "display_data"
    },
    {
     "data": {
      "text/html": [
       "<div>\n",
       "<style scoped>\n",
       "    .dataframe tbody tr th:only-of-type {\n",
       "        vertical-align: middle;\n",
       "    }\n",
       "\n",
       "    .dataframe tbody tr th {\n",
       "        vertical-align: top;\n",
       "    }\n",
       "\n",
       "    .dataframe thead th {\n",
       "        text-align: right;\n",
       "    }\n",
       "</style>\n",
       "<table border=\"1\" class=\"dataframe\">\n",
       "  <thead>\n",
       "    <tr style=\"text-align: right;\">\n",
       "      <th></th>\n",
       "      <th></th>\n",
       "      <th>flug</th>\n",
       "      <th>fldg</th>\n",
       "      <th>fnetg</th>\n",
       "    </tr>\n",
       "    <tr>\n",
       "      <th>pressure</th>\n",
       "      <th>level</th>\n",
       "      <th></th>\n",
       "      <th></th>\n",
       "      <th></th>\n",
       "    </tr>\n",
       "  </thead>\n",
       "  <tbody>\n",
       "    <tr>\n",
       "      <th>0.0000</th>\n",
       "      <th>1</th>\n",
       "      <td>-15.217054</td>\n",
       "      <td>0.000000</td>\n",
       "      <td>-15.217054</td>\n",
       "    </tr>\n",
       "    <tr>\n",
       "      <th>1.0685</th>\n",
       "      <th>24</th>\n",
       "      <td>-15.216292</td>\n",
       "      <td>0.007943</td>\n",
       "      <td>-15.208349</td>\n",
       "    </tr>\n",
       "    <tr>\n",
       "      <th>1013.0000</th>\n",
       "      <th>76</th>\n",
       "      <td>-26.962746</td>\n",
       "      <td>22.510996</td>\n",
       "      <td>-4.451750</td>\n",
       "    </tr>\n",
       "  </tbody>\n",
       "</table>\n",
       "</div>"
      ],
      "text/plain": [
       "                      flug       fldg      fnetg\n",
       "pressure  level                                 \n",
       "0.0000    1     -15.217054   0.000000 -15.217054\n",
       "1.0685    24    -15.216292   0.007943 -15.208349\n",
       "1013.0000 76    -26.962746  22.510996  -4.451750"
      ]
     },
     "metadata": {},
     "output_type": "display_data"
    },
    {
     "name": "stdout",
     "output_type": "stream",
     "text": [
      "Table. Fluxes. CRD\n"
     ]
    },
    {
     "data": {
      "text/html": [
       "<div>\n",
       "<style scoped>\n",
       "    .dataframe tbody tr th:only-of-type {\n",
       "        vertical-align: middle;\n",
       "    }\n",
       "\n",
       "    .dataframe tbody tr th {\n",
       "        vertical-align: top;\n",
       "    }\n",
       "\n",
       "    .dataframe thead th {\n",
       "        text-align: right;\n",
       "    }\n",
       "</style>\n",
       "<table border=\"1\" class=\"dataframe\">\n",
       "  <thead>\n",
       "    <tr style=\"text-align: right;\">\n",
       "      <th></th>\n",
       "      <th></th>\n",
       "      <th>flug</th>\n",
       "      <th>fldg</th>\n",
       "      <th>fnetg</th>\n",
       "    </tr>\n",
       "    <tr>\n",
       "      <th>pressure</th>\n",
       "      <th>level</th>\n",
       "      <th></th>\n",
       "      <th></th>\n",
       "      <th></th>\n",
       "    </tr>\n",
       "  </thead>\n",
       "  <tbody>\n",
       "    <tr>\n",
       "      <th>0.0000</th>\n",
       "      <th>1</th>\n",
       "      <td>-15.369098</td>\n",
       "      <td>0.000000</td>\n",
       "      <td>-15.369098</td>\n",
       "    </tr>\n",
       "    <tr>\n",
       "      <th>1.0685</th>\n",
       "      <th>24</th>\n",
       "      <td>-15.366773</td>\n",
       "      <td>0.006068</td>\n",
       "      <td>-15.360706</td>\n",
       "    </tr>\n",
       "    <tr>\n",
       "      <th>1013.0000</th>\n",
       "      <th>76</th>\n",
       "      <td>-26.962746</td>\n",
       "      <td>22.544661</td>\n",
       "      <td>-4.418085</td>\n",
       "    </tr>\n",
       "  </tbody>\n",
       "</table>\n",
       "</div>"
      ],
      "text/plain": [
       "                      flug       fldg      fnetg\n",
       "pressure  level                                 \n",
       "0.0000    1     -15.369098   0.000000 -15.369098\n",
       "1.0685    24    -15.366773   0.006068 -15.360706\n",
       "1013.0000 76    -26.962746  22.544661  -4.418085"
      ]
     },
     "metadata": {},
     "output_type": "display_data"
    },
    {
     "name": "stdout",
     "output_type": "stream",
     "text": [
      "Table. Fluxes. WGT igg=10 wgt_flux=1\n"
     ]
    },
    {
     "data": {
      "text/html": [
       "<div>\n",
       "<style scoped>\n",
       "    .dataframe tbody tr th:only-of-type {\n",
       "        vertical-align: middle;\n",
       "    }\n",
       "\n",
       "    .dataframe tbody tr th {\n",
       "        vertical-align: top;\n",
       "    }\n",
       "\n",
       "    .dataframe thead th {\n",
       "        text-align: right;\n",
       "    }\n",
       "</style>\n",
       "<table border=\"1\" class=\"dataframe\">\n",
       "  <thead>\n",
       "    <tr style=\"text-align: right;\">\n",
       "      <th></th>\n",
       "      <th></th>\n",
       "      <th>flug</th>\n",
       "      <th>fldg</th>\n",
       "      <th>fnetg</th>\n",
       "    </tr>\n",
       "    <tr>\n",
       "      <th>pressure</th>\n",
       "      <th>level</th>\n",
       "      <th></th>\n",
       "      <th></th>\n",
       "      <th></th>\n",
       "    </tr>\n",
       "  </thead>\n",
       "  <tbody>\n",
       "    <tr>\n",
       "      <th>1.000000e-08</th>\n",
       "      <th>1</th>\n",
       "      <td>-15.481725</td>\n",
       "      <td>9.044474e-08</td>\n",
       "      <td>-15.481725</td>\n",
       "    </tr>\n",
       "    <tr>\n",
       "      <th>1.068500e+00</th>\n",
       "      <th>24</th>\n",
       "      <td>-15.479152</td>\n",
       "      <td>5.732987e-03</td>\n",
       "      <td>-15.473419</td>\n",
       "    </tr>\n",
       "    <tr>\n",
       "      <th>1.013000e+03</th>\n",
       "      <th>76</th>\n",
       "      <td>-26.962750</td>\n",
       "      <td>2.263506e+01</td>\n",
       "      <td>-4.327693</td>\n",
       "    </tr>\n",
       "  </tbody>\n",
       "</table>\n",
       "</div>"
      ],
      "text/plain": [
       "                         flug          fldg      fnetg\n",
       "pressure     level                                    \n",
       "1.000000e-08 1     -15.481725  9.044474e-08 -15.481725\n",
       "1.068500e+00 24    -15.479152  5.732987e-03 -15.473419\n",
       "1.013000e+03 76    -26.962750  2.263506e+01  -4.327693"
      ]
     },
     "metadata": {},
     "output_type": "display_data"
    },
    {
     "name": "stdout",
     "output_type": "stream",
     "text": [
      "Table. Fluxes. CLIRAD\n"
     ]
    },
    {
     "data": {
      "text/html": [
       "<div>\n",
       "<style scoped>\n",
       "    .dataframe tbody tr th:only-of-type {\n",
       "        vertical-align: middle;\n",
       "    }\n",
       "\n",
       "    .dataframe tbody tr th {\n",
       "        vertical-align: top;\n",
       "    }\n",
       "\n",
       "    .dataframe thead th {\n",
       "        text-align: right;\n",
       "    }\n",
       "</style>\n",
       "<table border=\"1\" class=\"dataframe\">\n",
       "  <thead>\n",
       "    <tr style=\"text-align: right;\">\n",
       "      <th></th>\n",
       "      <th></th>\n",
       "      <th>flug</th>\n",
       "      <th>fldg</th>\n",
       "      <th>fnetg</th>\n",
       "    </tr>\n",
       "    <tr>\n",
       "      <th>pressure</th>\n",
       "      <th>level</th>\n",
       "      <th></th>\n",
       "      <th></th>\n",
       "      <th></th>\n",
       "    </tr>\n",
       "  </thead>\n",
       "  <tbody>\n",
       "    <tr>\n",
       "      <th>0.0000</th>\n",
       "      <th>1</th>\n",
       "      <td>-0.152044</td>\n",
       "      <td>0.000000</td>\n",
       "      <td>-0.152044</td>\n",
       "    </tr>\n",
       "    <tr>\n",
       "      <th>1.0685</th>\n",
       "      <th>24</th>\n",
       "      <td>-0.150481</td>\n",
       "      <td>-0.001875</td>\n",
       "      <td>-0.152357</td>\n",
       "    </tr>\n",
       "    <tr>\n",
       "      <th>1013.0000</th>\n",
       "      <th>76</th>\n",
       "      <td>0.000000</td>\n",
       "      <td>0.033665</td>\n",
       "      <td>0.033665</td>\n",
       "    </tr>\n",
       "  </tbody>\n",
       "</table>\n",
       "</div>"
      ],
      "text/plain": [
       "                     flug      fldg     fnetg\n",
       "pressure  level                              \n",
       "0.0000    1     -0.152044  0.000000 -0.152044\n",
       "1.0685    24    -0.150481 -0.001875 -0.152357\n",
       "1013.0000 76     0.000000  0.033665  0.033665"
      ]
     },
     "metadata": {},
     "output_type": "display_data"
    },
    {
     "name": "stdout",
     "output_type": "stream",
     "text": [
      "Table. Fluxes. (WGT igg=10 wgt_flux=1) - (CRD)\n"
     ]
    },
    {
     "data": {
      "text/html": [
       "<div>\n",
       "<style scoped>\n",
       "    .dataframe tbody tr th:only-of-type {\n",
       "        vertical-align: middle;\n",
       "    }\n",
       "\n",
       "    .dataframe tbody tr th {\n",
       "        vertical-align: top;\n",
       "    }\n",
       "\n",
       "    .dataframe thead th {\n",
       "        text-align: right;\n",
       "    }\n",
       "</style>\n",
       "<table border=\"1\" class=\"dataframe\">\n",
       "  <thead>\n",
       "    <tr style=\"text-align: right;\">\n",
       "      <th></th>\n",
       "      <th></th>\n",
       "      <th>flug</th>\n",
       "      <th>fldg</th>\n",
       "      <th>fnetg</th>\n",
       "    </tr>\n",
       "    <tr>\n",
       "      <th>pressure</th>\n",
       "      <th>level</th>\n",
       "      <th></th>\n",
       "      <th></th>\n",
       "      <th></th>\n",
       "    </tr>\n",
       "  </thead>\n",
       "  <tbody>\n",
       "    <tr>\n",
       "      <th>0.0000</th>\n",
       "      <th>1</th>\n",
       "      <td>-0.264671</td>\n",
       "      <td>9.044474e-08</td>\n",
       "      <td>-0.264671</td>\n",
       "    </tr>\n",
       "    <tr>\n",
       "      <th>1.0685</th>\n",
       "      <th>24</th>\n",
       "      <td>-0.262860</td>\n",
       "      <td>-2.210054e-03</td>\n",
       "      <td>-0.265070</td>\n",
       "    </tr>\n",
       "    <tr>\n",
       "      <th>1013.0000</th>\n",
       "      <th>76</th>\n",
       "      <td>-0.000004</td>\n",
       "      <td>1.240610e-01</td>\n",
       "      <td>0.124056</td>\n",
       "    </tr>\n",
       "  </tbody>\n",
       "</table>\n",
       "</div>"
      ],
      "text/plain": [
       "                     flug          fldg     fnetg\n",
       "pressure  level                                  \n",
       "0.0000    1     -0.264671  9.044474e-08 -0.264671\n",
       "1.0685    24    -0.262860 -2.210054e-03 -0.265070\n",
       "1013.0000 76    -0.000004  1.240610e-01  0.124056"
      ]
     },
     "metadata": {},
     "output_type": "display_data"
    },
    {
     "name": "stdout",
     "output_type": "stream",
     "text": [
      "Table. Fluxes. (CLIRAD) - (CRD)\n"
     ]
    },
    {
     "data": {
      "text/html": [
       "<a id=\"Best-fit_Parameters\"></a>"
      ],
      "text/plain": [
       "<IPython.core.display.HTML object>"
      ]
     },
     "metadata": {},
     "output_type": "display_data"
    },
    {
     "data": {
      "text/markdown": [
       "# Best-fit Parameters"
      ],
      "text/plain": [
       "<IPython.core.display.Markdown object>"
      ]
     },
     "metadata": {},
     "output_type": "display_data"
    },
    {
     "name": "stdout",
     "output_type": "stream",
     "text": [
      "Best-fit values for each (gas, band)\n",
      "------------------------------------\n",
      "o h2o band7\n",
      "  atmpro = mls\n",
      "  band = 7\n",
      "  commitnumber = a06b618\n",
      "  conc = None\n",
      "  dv = 0.001\n",
      "  klin = 0\n",
      "  molecule = h2o\n",
      "  ng_adju = [0]\n",
      "  ng_refs = [7]\n",
      "  nv = 1000\n",
      "  option_compute_btable = 0\n",
      "  option_compute_ktable = 1\n",
      "  option_wgt_flux = 1\n",
      "  option_wgt_k = 1\n",
      "  ref_pts = [(600, 250)]\n",
      "  tsfc = 294\n",
      "  vmax = 1380\n",
      "  vmin = 1215\n",
      "  w_diffuse = [(2, 1.6, 1.6, 1.6, 1.6, 1.6, 1.8)]\n",
      "  wgt = [(0.5, 0.5, 0.5, 0.5, 0.5, 0.5, 0.9)]\n",
      "o n2o band7\n",
      "  atmpro = mls\n",
      "  band = 7\n",
      "  commitnumber = a06b618\n",
      "  conc = 3.2e-07\n",
      "  dv = 0.001\n",
      "  klin = 2.22e-20\n",
      "  molecule = n2o\n",
      "  ng_adju = [0, 0]\n",
      "  ng_refs = [2, 2]\n",
      "  nv = 1000\n",
      "  option_compute_btable = 0\n",
      "  option_compute_ktable = 1\n",
      "  option_wgt_flux = 1\n",
      "  option_wgt_k = 1\n",
      "  ref_pts = [(1, 250), (500, 250)]\n",
      "  tsfc = 294\n",
      "  vmax = 1380\n",
      "  vmin = 1215\n",
      "  w_diffuse = [(1.8, 1.66), (1.6, 1.8)]\n",
      "  wgt = [(0.6, 0.5), (0.6, 0.9)]\n"
     ]
    }
   ],
   "source": [
    "script()"
   ]
  },
  {
   "cell_type": "code",
   "execution_count": 13,
   "metadata": {
    "collapsed": true
   },
   "outputs": [
    {
     "data": {
      "text/html": [
       "<script>\n",
       "code_show=true; \n",
       "function code_toggle() {\n",
       " if (code_show){\n",
       " $('div.input').hide();\n",
       " } else {\n",
       " $('div.input').show();\n",
       " }\n",
       " code_show = !code_show\n",
       "} \n",
       "$( document ).ready(code_toggle);\n",
       "</script>\n",
       "<form action=\"javascript:code_toggle()\"><input type=\"submit\" value=\"Click here to toggle on/off the raw code.\"></form>"
      ],
      "text/plain": [
       "<IPython.core.display.HTML object>"
      ]
     },
     "execution_count": 13,
     "metadata": {},
     "output_type": "execute_result"
    }
   ],
   "source": [
    "display.HTML('''<script>\n",
    "code_show=true; \n",
    "function code_toggle() {\n",
    " if (code_show){\n",
    " $('div.input').hide();\n",
    " } else {\n",
    " $('div.input').show();\n",
    " }\n",
    " code_show = !code_show\n",
    "} \n",
    "$( document ).ready(code_toggle);\n",
    "</script>\n",
    "<form action=\"javascript:code_toggle()\"><input type=\"submit\" value=\"Click here to toggle on/off the raw code.\"></form>''')"
   ]
  }
 ],
 "metadata": {
  "kernelspec": {
   "display_name": "Python 3",
   "language": "python",
   "name": "python3"
  },
  "language_info": {
   "codemirror_mode": {
    "name": "ipython",
    "version": 3
   },
   "file_extension": ".py",
   "mimetype": "text/x-python",
   "name": "python",
   "nbconvert_exporter": "python",
   "pygments_lexer": "ipython3",
   "version": "3.6.1"
  }
 },
 "nbformat": 4,
 "nbformat_minor": 2
}
