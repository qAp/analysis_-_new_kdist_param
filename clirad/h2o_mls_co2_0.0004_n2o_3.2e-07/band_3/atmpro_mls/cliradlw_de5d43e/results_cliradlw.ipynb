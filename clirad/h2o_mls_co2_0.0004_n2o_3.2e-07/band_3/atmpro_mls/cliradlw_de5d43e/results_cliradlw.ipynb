{
 "cells": [
  {
   "cell_type": "code",
   "execution_count": 1,
   "metadata": {
    "collapsed": true
   },
   "outputs": [],
   "source": [
    "%matplotlib inline\n",
    "import os\n",
    "import re\n",
    "import io\n",
    "import itertools\n",
    "import pprint\n",
    "\n",
    "from bokeh.io import output_notebook, show\n",
    "from bokeh.layouts import gridplot\n",
    "from bokeh.plotting import figure\n",
    "from bokeh.models import Range1d, Legend\n",
    "from bokeh.palettes import all_palettes\n",
    "\n",
    "import matplotlib\n",
    "import matplotlib.pyplot as plt\n",
    "import numpy as np\n",
    "import pandas as pd\n",
    "import xarray as xr\n",
    "\n",
    "import climatools.lblnew.bestfit_params as bestfits\n",
    "from climatools.lblnew import setup_bestfit, setup_overlap\n",
    "import climatools.lblnew.pipeline as pipe_lblnew\n",
    "import climatools.cliradlw.setup as setup_cliradlw\n",
    "import climatools.cliradlw.pipeline as pipe_cliradlw\n",
    "\n",
    "import climatools.html.html as climahtml\n",
    "from climatools.lblnew.dataio import *\n",
    "from climatools.plot.plot import *\n",
    "\n",
    "\n",
    "import IPython.display as display"
   ]
  },
  {
   "cell_type": "code",
   "execution_count": 2,
   "metadata": {
    "collapsed": true
   },
   "outputs": [],
   "source": [
    "%run param.py"
   ]
  },
  {
   "cell_type": "code",
   "execution_count": 3,
   "metadata": {
    "collapsed": true
   },
   "outputs": [
    {
     "name": "stdout",
     "output_type": "stream",
     "text": [
      "The history saving thread hit an unexpected error (OperationalError('database is locked',)).History will not be written to the database.\n"
     ]
    }
   ],
   "source": [
    "def load_output_file(path_csv):\n",
    "    '''\n",
    "    Load lblnew output .csv file to xarray.Dataset\n",
    "    \n",
    "    Parameters\n",
    "    ----------\n",
    "    path_csv: str\n",
    "              Path to the .csv file to be loaded.\n",
    "    ds: xarray.Dataset\n",
    "        Data in the input file in the form of an xarray.Dataset.\n",
    "    '''\n",
    "    toindex = ['band', 'pressure', 'igg', 'g']    \n",
    "    df = pd.read_csv(path_csv, sep=r'\\s+')\n",
    "    df = df.set_index([i for i in toindex if i in df.columns])\n",
    "    df = df.rename(columns={'sfu': 'flug',\n",
    "                            'sfd': 'fldg',\n",
    "                            'fnet': 'fnetg',\n",
    "                            'coolr': 'coolrg'})\n",
    "    ds = xr.Dataset.from_dataframe(df)\n",
    "\n",
    "    for l in ('level', 'layer'):\n",
    "        if l in ds.data_vars:\n",
    "            if len(ds[l].dims) > 1:\n",
    "                surface = {d: 0 for d in ds.dims if d != 'pressure'}\n",
    "                coord_level = ds[l][surface]\n",
    "                ds.coords[l] = ('pressure', coord_level)\n",
    "            else:\n",
    "                ds.coords[l] = ('pressure', ds[l])\n",
    "    \n",
    "    return ds"
   ]
  },
  {
   "cell_type": "code",
   "execution_count": 4,
   "metadata": {
    "collapsed": true
   },
   "outputs": [],
   "source": [
    "def lblnew_setup(param=None):\n",
    "    if 'ng_refs' in param:\n",
    "        return {'setup': setup_bestfit,\n",
    "                'fname_flux_crd': 'output_flux.dat',\n",
    "                'fname_cool_crd': 'output_coolr.dat',\n",
    "                'fname_flux_wgt': 'output_wfluxg.dat',\n",
    "                'fname_cool_wgt': 'output_wcoolrg.dat'}\n",
    "    else:\n",
    "        return {'setup': setup_overlap,\n",
    "                'fname_flux_crd': 'output_flux.dat',\n",
    "                'fname_cool_crd': 'output_coolr.dat',\n",
    "                'fname_flux_wgt': 'output_wflux.dat',\n",
    "                'fname_cool_wgt': 'output_wcoolr.dat'}\n",
    "\n",
    "    \n",
    "def load_lblnew_data(param):\n",
    "    \n",
    "    fname_dsname = [('fname_flux_crd', 'ds_flux_crd'),\n",
    "                    ('fname_cool_crd', 'ds_cool_crd'),\n",
    "                    ('fname_flux_wgt', 'ds_flux_wgt'),\n",
    "                    ('fname_cool_wgt', 'ds_cool_wgt')]\n",
    "    \n",
    "    d = lblnew_setup(param)\n",
    "    dir_fortran = pipe_lblnew.get_dir_case(param, setup=d['setup'])\n",
    "    \n",
    "    data_dict = {}\n",
    "    for fname, dsname in fname_dsname:\n",
    "        fpath = os.path.join(dir_fortran, d[fname])\n",
    "        data_dict[dsname] = load_output_file(fpath)\n",
    "    return data_dict\n",
    "    \n",
    "\n",
    "    \n",
    "    "
   ]
  },
  {
   "cell_type": "code",
   "execution_count": 5,
   "metadata": {
    "collapsed": true
   },
   "outputs": [],
   "source": [
    "d = load_lblnew_data(PARAM_LBLNEW)\n",
    "\n",
    "DS_FLUX_CRD = d['ds_flux_crd']\n",
    "DS_COOL_CRD = d['ds_cool_crd']\n",
    "DS_FLUX_WGT = d['ds_flux_wgt']\n",
    "DS_COOL_WGT = d['ds_cool_wgt']"
   ]
  },
  {
   "cell_type": "code",
   "execution_count": 6,
   "metadata": {
    "collapsed": true
   },
   "outputs": [],
   "source": [
    "DIR_FORTRAN = pipe_cliradlw.get_fortran_dir(PARAM, \n",
    "                                            setup=setup_cliradlw)\n",
    "\n",
    "PATH_FLUX = os.path.join(DIR_FORTRAN, 'output_flux.dat')\n",
    "PATH_COOL = os.path.join(DIR_FORTRAN, 'output_coolr.dat')\n",
    "\n",
    "DS_FLUX = load_output_file(PATH_FLUX)\n",
    "DS_COOL = load_output_file(PATH_COOL)"
   ]
  },
  {
   "cell_type": "code",
   "execution_count": 7,
   "metadata": {
    "collapsed": true
   },
   "outputs": [
    {
     "data": {
      "text/html": [
       "\n",
       "    <div class=\"bk-root\">\n",
       "        <a href=\"https://bokeh.pydata.org\" target=\"_blank\" class=\"bk-logo bk-logo-small bk-logo-notebook\"></a>\n",
       "        <span id=\"f3b52e0f-6cf3-4ca2-9439-0136bed1d0cb\">Loading BokehJS ...</span>\n",
       "    </div>"
      ]
     },
     "metadata": {},
     "output_type": "display_data"
    },
    {
     "data": {
      "application/javascript": [
       "\n",
       "(function(root) {\n",
       "  function now() {\n",
       "    return new Date();\n",
       "  }\n",
       "\n",
       "  var force = true;\n",
       "\n",
       "  if (typeof (root._bokeh_onload_callbacks) === \"undefined\" || force === true) {\n",
       "    root._bokeh_onload_callbacks = [];\n",
       "    root._bokeh_is_loading = undefined;\n",
       "  }\n",
       "\n",
       "  var JS_MIME_TYPE = 'application/javascript';\n",
       "  var HTML_MIME_TYPE = 'text/html';\n",
       "  var EXEC_MIME_TYPE = 'application/vnd.bokehjs_exec.v0+json';\n",
       "  var CLASS_NAME = 'output_bokeh rendered_html';\n",
       "\n",
       "  /**\n",
       "   * Render data to the DOM node\n",
       "   */\n",
       "  function render(props, node) {\n",
       "    var script = document.createElement(\"script\");\n",
       "    node.appendChild(script);\n",
       "  }\n",
       "\n",
       "  /**\n",
       "   * Handle when an output is cleared or removed\n",
       "   */\n",
       "  function handleClearOutput(event, handle) {\n",
       "    var cell = handle.cell;\n",
       "\n",
       "    var id = cell.output_area._bokeh_element_id;\n",
       "    var server_id = cell.output_area._bokeh_server_id;\n",
       "    // Clean up Bokeh references\n",
       "    if (id !== undefined) {\n",
       "      Bokeh.index[id].model.document.clear();\n",
       "      delete Bokeh.index[id];\n",
       "    }\n",
       "\n",
       "    if (server_id !== undefined) {\n",
       "      // Clean up Bokeh references\n",
       "      var cmd = \"from bokeh.io.state import curstate; print(curstate().uuid_to_server['\" + server_id + \"'].get_sessions()[0].document.roots[0]._id)\";\n",
       "      cell.notebook.kernel.execute(cmd, {\n",
       "        iopub: {\n",
       "          output: function(msg) {\n",
       "            var element_id = msg.content.text.trim();\n",
       "            Bokeh.index[element_id].model.document.clear();\n",
       "            delete Bokeh.index[element_id];\n",
       "          }\n",
       "        }\n",
       "      });\n",
       "      // Destroy server and session\n",
       "      var cmd = \"import bokeh.io.notebook as ion; ion.destroy_server('\" + server_id + \"')\";\n",
       "      cell.notebook.kernel.execute(cmd);\n",
       "    }\n",
       "  }\n",
       "\n",
       "  /**\n",
       "   * Handle when a new output is added\n",
       "   */\n",
       "  function handleAddOutput(event, handle) {\n",
       "    var output_area = handle.output_area;\n",
       "    var output = handle.output;\n",
       "\n",
       "    // limit handleAddOutput to display_data with EXEC_MIME_TYPE content only\n",
       "    if ((output.output_type != \"display_data\") || (!output.data.hasOwnProperty(EXEC_MIME_TYPE))) {\n",
       "      return\n",
       "    }\n",
       "\n",
       "    var toinsert = output_area.element.find(\".\" + CLASS_NAME.split(' ')[0]);\n",
       "\n",
       "    if (output.metadata[EXEC_MIME_TYPE][\"id\"] !== undefined) {\n",
       "      toinsert[toinsert.length - 1].firstChild.textContent = output.data[JS_MIME_TYPE];\n",
       "      // store reference to embed id on output_area\n",
       "      output_area._bokeh_element_id = output.metadata[EXEC_MIME_TYPE][\"id\"];\n",
       "    }\n",
       "    if (output.metadata[EXEC_MIME_TYPE][\"server_id\"] !== undefined) {\n",
       "      var bk_div = document.createElement(\"div\");\n",
       "      bk_div.innerHTML = output.data[HTML_MIME_TYPE];\n",
       "      var script_attrs = bk_div.children[0].attributes;\n",
       "      for (var i = 0; i < script_attrs.length; i++) {\n",
       "        toinsert[toinsert.length - 1].firstChild.setAttribute(script_attrs[i].name, script_attrs[i].value);\n",
       "      }\n",
       "      // store reference to server id on output_area\n",
       "      output_area._bokeh_server_id = output.metadata[EXEC_MIME_TYPE][\"server_id\"];\n",
       "    }\n",
       "  }\n",
       "\n",
       "  function register_renderer(events, OutputArea) {\n",
       "\n",
       "    function append_mime(data, metadata, element) {\n",
       "      // create a DOM node to render to\n",
       "      var toinsert = this.create_output_subarea(\n",
       "        metadata,\n",
       "        CLASS_NAME,\n",
       "        EXEC_MIME_TYPE\n",
       "      );\n",
       "      this.keyboard_manager.register_events(toinsert);\n",
       "      // Render to node\n",
       "      var props = {data: data, metadata: metadata[EXEC_MIME_TYPE]};\n",
       "      render(props, toinsert[toinsert.length - 1]);\n",
       "      element.append(toinsert);\n",
       "      return toinsert\n",
       "    }\n",
       "\n",
       "    /* Handle when an output is cleared or removed */\n",
       "    events.on('clear_output.CodeCell', handleClearOutput);\n",
       "    events.on('delete.Cell', handleClearOutput);\n",
       "\n",
       "    /* Handle when a new output is added */\n",
       "    events.on('output_added.OutputArea', handleAddOutput);\n",
       "\n",
       "    /**\n",
       "     * Register the mime type and append_mime function with output_area\n",
       "     */\n",
       "    OutputArea.prototype.register_mime_type(EXEC_MIME_TYPE, append_mime, {\n",
       "      /* Is output safe? */\n",
       "      safe: true,\n",
       "      /* Index of renderer in `output_area.display_order` */\n",
       "      index: 0\n",
       "    });\n",
       "  }\n",
       "\n",
       "  // register the mime type if in Jupyter Notebook environment and previously unregistered\n",
       "  if (root.Jupyter !== undefined) {\n",
       "    var events = require('base/js/events');\n",
       "    var OutputArea = require('notebook/js/outputarea').OutputArea;\n",
       "\n",
       "    if (OutputArea.prototype.mime_types().indexOf(EXEC_MIME_TYPE) == -1) {\n",
       "      register_renderer(events, OutputArea);\n",
       "    }\n",
       "  }\n",
       "\n",
       "  \n",
       "  if (typeof (root._bokeh_timeout) === \"undefined\" || force === true) {\n",
       "    root._bokeh_timeout = Date.now() + 5000;\n",
       "    root._bokeh_failed_load = false;\n",
       "  }\n",
       "\n",
       "  var NB_LOAD_WARNING = {'data': {'text/html':\n",
       "     \"<div style='background-color: #fdd'>\\n\"+\n",
       "     \"<p>\\n\"+\n",
       "     \"BokehJS does not appear to have successfully loaded. If loading BokehJS from CDN, this \\n\"+\n",
       "     \"may be due to a slow or bad network connection. Possible fixes:\\n\"+\n",
       "     \"</p>\\n\"+\n",
       "     \"<ul>\\n\"+\n",
       "     \"<li>re-rerun `output_notebook()` to attempt to load from CDN again, or</li>\\n\"+\n",
       "     \"<li>use INLINE resources instead, as so:</li>\\n\"+\n",
       "     \"</ul>\\n\"+\n",
       "     \"<code>\\n\"+\n",
       "     \"from bokeh.resources import INLINE\\n\"+\n",
       "     \"output_notebook(resources=INLINE)\\n\"+\n",
       "     \"</code>\\n\"+\n",
       "     \"</div>\"}};\n",
       "\n",
       "  function display_loaded() {\n",
       "    var el = document.getElementById(\"f3b52e0f-6cf3-4ca2-9439-0136bed1d0cb\");\n",
       "    if (el != null) {\n",
       "      el.textContent = \"BokehJS is loading...\";\n",
       "    }\n",
       "    if (root.Bokeh !== undefined) {\n",
       "      if (el != null) {\n",
       "        el.textContent = \"BokehJS \" + root.Bokeh.version + \" successfully loaded.\";\n",
       "      }\n",
       "    } else if (Date.now() < root._bokeh_timeout) {\n",
       "      setTimeout(display_loaded, 100)\n",
       "    }\n",
       "  }\n",
       "\n",
       "\n",
       "  function run_callbacks() {\n",
       "    try {\n",
       "      root._bokeh_onload_callbacks.forEach(function(callback) { callback() });\n",
       "    }\n",
       "    finally {\n",
       "      delete root._bokeh_onload_callbacks\n",
       "    }\n",
       "    console.info(\"Bokeh: all callbacks have finished\");\n",
       "  }\n",
       "\n",
       "  function load_libs(js_urls, callback) {\n",
       "    root._bokeh_onload_callbacks.push(callback);\n",
       "    if (root._bokeh_is_loading > 0) {\n",
       "      console.log(\"Bokeh: BokehJS is being loaded, scheduling callback at\", now());\n",
       "      return null;\n",
       "    }\n",
       "    if (js_urls == null || js_urls.length === 0) {\n",
       "      run_callbacks();\n",
       "      return null;\n",
       "    }\n",
       "    console.log(\"Bokeh: BokehJS not loaded, scheduling load and callback at\", now());\n",
       "    root._bokeh_is_loading = js_urls.length;\n",
       "    for (var i = 0; i < js_urls.length; i++) {\n",
       "      var url = js_urls[i];\n",
       "      var s = document.createElement('script');\n",
       "      s.src = url;\n",
       "      s.async = false;\n",
       "      s.onreadystatechange = s.onload = function() {\n",
       "        root._bokeh_is_loading--;\n",
       "        if (root._bokeh_is_loading === 0) {\n",
       "          console.log(\"Bokeh: all BokehJS libraries loaded\");\n",
       "          run_callbacks()\n",
       "        }\n",
       "      };\n",
       "      s.onerror = function() {\n",
       "        console.warn(\"failed to load library \" + url);\n",
       "      };\n",
       "      console.log(\"Bokeh: injecting script tag for BokehJS library: \", url);\n",
       "      document.getElementsByTagName(\"head\")[0].appendChild(s);\n",
       "    }\n",
       "  };var element = document.getElementById(\"f3b52e0f-6cf3-4ca2-9439-0136bed1d0cb\");\n",
       "  if (element == null) {\n",
       "    console.log(\"Bokeh: ERROR: autoload.js configured with elementid 'f3b52e0f-6cf3-4ca2-9439-0136bed1d0cb' but no matching script tag was found. \")\n",
       "    return false;\n",
       "  }\n",
       "\n",
       "  var js_urls = [\"https://cdn.pydata.org/bokeh/release/bokeh-0.12.16.min.js\", \"https://cdn.pydata.org/bokeh/release/bokeh-widgets-0.12.16.min.js\", \"https://cdn.pydata.org/bokeh/release/bokeh-tables-0.12.16.min.js\", \"https://cdn.pydata.org/bokeh/release/bokeh-gl-0.12.16.min.js\"];\n",
       "\n",
       "  var inline_js = [\n",
       "    function(Bokeh) {\n",
       "      Bokeh.set_log_level(\"info\");\n",
       "    },\n",
       "    \n",
       "    function(Bokeh) {\n",
       "      \n",
       "    },\n",
       "    function(Bokeh) {\n",
       "      console.log(\"Bokeh: injecting CSS: https://cdn.pydata.org/bokeh/release/bokeh-0.12.16.min.css\");\n",
       "      Bokeh.embed.inject_css(\"https://cdn.pydata.org/bokeh/release/bokeh-0.12.16.min.css\");\n",
       "      console.log(\"Bokeh: injecting CSS: https://cdn.pydata.org/bokeh/release/bokeh-widgets-0.12.16.min.css\");\n",
       "      Bokeh.embed.inject_css(\"https://cdn.pydata.org/bokeh/release/bokeh-widgets-0.12.16.min.css\");\n",
       "      console.log(\"Bokeh: injecting CSS: https://cdn.pydata.org/bokeh/release/bokeh-tables-0.12.16.min.css\");\n",
       "      Bokeh.embed.inject_css(\"https://cdn.pydata.org/bokeh/release/bokeh-tables-0.12.16.min.css\");\n",
       "    }\n",
       "  ];\n",
       "\n",
       "  function run_inline_js() {\n",
       "    \n",
       "    if ((root.Bokeh !== undefined) || (force === true)) {\n",
       "      for (var i = 0; i < inline_js.length; i++) {\n",
       "        inline_js[i].call(root, root.Bokeh);\n",
       "      }if (force === true) {\n",
       "        display_loaded();\n",
       "      }} else if (Date.now() < root._bokeh_timeout) {\n",
       "      setTimeout(run_inline_js, 100);\n",
       "    } else if (!root._bokeh_failed_load) {\n",
       "      console.log(\"Bokeh: BokehJS failed to load within specified timeout.\");\n",
       "      root._bokeh_failed_load = true;\n",
       "    } else if (force !== true) {\n",
       "      var cell = $(document.getElementById(\"f3b52e0f-6cf3-4ca2-9439-0136bed1d0cb\")).parents('.cell').data().cell;\n",
       "      cell.output_area.append_execute_result(NB_LOAD_WARNING)\n",
       "    }\n",
       "\n",
       "  }\n",
       "\n",
       "  if (root._bokeh_is_loading === 0) {\n",
       "    console.log(\"Bokeh: BokehJS loaded, going straight to plotting\");\n",
       "    run_inline_js();\n",
       "  } else {\n",
       "    load_libs(js_urls, function() {\n",
       "      console.log(\"Bokeh: BokehJS plotting callback run at\", now());\n",
       "      run_inline_js();\n",
       "    });\n",
       "  }\n",
       "}(window));"
      ],
      "application/vnd.bokehjs_load.v0+json": "\n(function(root) {\n  function now() {\n    return new Date();\n  }\n\n  var force = true;\n\n  if (typeof (root._bokeh_onload_callbacks) === \"undefined\" || force === true) {\n    root._bokeh_onload_callbacks = [];\n    root._bokeh_is_loading = undefined;\n  }\n\n  \n\n  \n  if (typeof (root._bokeh_timeout) === \"undefined\" || force === true) {\n    root._bokeh_timeout = Date.now() + 5000;\n    root._bokeh_failed_load = false;\n  }\n\n  var NB_LOAD_WARNING = {'data': {'text/html':\n     \"<div style='background-color: #fdd'>\\n\"+\n     \"<p>\\n\"+\n     \"BokehJS does not appear to have successfully loaded. If loading BokehJS from CDN, this \\n\"+\n     \"may be due to a slow or bad network connection. Possible fixes:\\n\"+\n     \"</p>\\n\"+\n     \"<ul>\\n\"+\n     \"<li>re-rerun `output_notebook()` to attempt to load from CDN again, or</li>\\n\"+\n     \"<li>use INLINE resources instead, as so:</li>\\n\"+\n     \"</ul>\\n\"+\n     \"<code>\\n\"+\n     \"from bokeh.resources import INLINE\\n\"+\n     \"output_notebook(resources=INLINE)\\n\"+\n     \"</code>\\n\"+\n     \"</div>\"}};\n\n  function display_loaded() {\n    var el = document.getElementById(\"f3b52e0f-6cf3-4ca2-9439-0136bed1d0cb\");\n    if (el != null) {\n      el.textContent = \"BokehJS is loading...\";\n    }\n    if (root.Bokeh !== undefined) {\n      if (el != null) {\n        el.textContent = \"BokehJS \" + root.Bokeh.version + \" successfully loaded.\";\n      }\n    } else if (Date.now() < root._bokeh_timeout) {\n      setTimeout(display_loaded, 100)\n    }\n  }\n\n\n  function run_callbacks() {\n    try {\n      root._bokeh_onload_callbacks.forEach(function(callback) { callback() });\n    }\n    finally {\n      delete root._bokeh_onload_callbacks\n    }\n    console.info(\"Bokeh: all callbacks have finished\");\n  }\n\n  function load_libs(js_urls, callback) {\n    root._bokeh_onload_callbacks.push(callback);\n    if (root._bokeh_is_loading > 0) {\n      console.log(\"Bokeh: BokehJS is being loaded, scheduling callback at\", now());\n      return null;\n    }\n    if (js_urls == null || js_urls.length === 0) {\n      run_callbacks();\n      return null;\n    }\n    console.log(\"Bokeh: BokehJS not loaded, scheduling load and callback at\", now());\n    root._bokeh_is_loading = js_urls.length;\n    for (var i = 0; i < js_urls.length; i++) {\n      var url = js_urls[i];\n      var s = document.createElement('script');\n      s.src = url;\n      s.async = false;\n      s.onreadystatechange = s.onload = function() {\n        root._bokeh_is_loading--;\n        if (root._bokeh_is_loading === 0) {\n          console.log(\"Bokeh: all BokehJS libraries loaded\");\n          run_callbacks()\n        }\n      };\n      s.onerror = function() {\n        console.warn(\"failed to load library \" + url);\n      };\n      console.log(\"Bokeh: injecting script tag for BokehJS library: \", url);\n      document.getElementsByTagName(\"head\")[0].appendChild(s);\n    }\n  };var element = document.getElementById(\"f3b52e0f-6cf3-4ca2-9439-0136bed1d0cb\");\n  if (element == null) {\n    console.log(\"Bokeh: ERROR: autoload.js configured with elementid 'f3b52e0f-6cf3-4ca2-9439-0136bed1d0cb' but no matching script tag was found. \")\n    return false;\n  }\n\n  var js_urls = [\"https://cdn.pydata.org/bokeh/release/bokeh-0.12.16.min.js\", \"https://cdn.pydata.org/bokeh/release/bokeh-widgets-0.12.16.min.js\", \"https://cdn.pydata.org/bokeh/release/bokeh-tables-0.12.16.min.js\", \"https://cdn.pydata.org/bokeh/release/bokeh-gl-0.12.16.min.js\"];\n\n  var inline_js = [\n    function(Bokeh) {\n      Bokeh.set_log_level(\"info\");\n    },\n    \n    function(Bokeh) {\n      \n    },\n    function(Bokeh) {\n      console.log(\"Bokeh: injecting CSS: https://cdn.pydata.org/bokeh/release/bokeh-0.12.16.min.css\");\n      Bokeh.embed.inject_css(\"https://cdn.pydata.org/bokeh/release/bokeh-0.12.16.min.css\");\n      console.log(\"Bokeh: injecting CSS: https://cdn.pydata.org/bokeh/release/bokeh-widgets-0.12.16.min.css\");\n      Bokeh.embed.inject_css(\"https://cdn.pydata.org/bokeh/release/bokeh-widgets-0.12.16.min.css\");\n      console.log(\"Bokeh: injecting CSS: https://cdn.pydata.org/bokeh/release/bokeh-tables-0.12.16.min.css\");\n      Bokeh.embed.inject_css(\"https://cdn.pydata.org/bokeh/release/bokeh-tables-0.12.16.min.css\");\n    }\n  ];\n\n  function run_inline_js() {\n    \n    if ((root.Bokeh !== undefined) || (force === true)) {\n      for (var i = 0; i < inline_js.length; i++) {\n        inline_js[i].call(root, root.Bokeh);\n      }if (force === true) {\n        display_loaded();\n      }} else if (Date.now() < root._bokeh_timeout) {\n      setTimeout(run_inline_js, 100);\n    } else if (!root._bokeh_failed_load) {\n      console.log(\"Bokeh: BokehJS failed to load within specified timeout.\");\n      root._bokeh_failed_load = true;\n    } else if (force !== true) {\n      var cell = $(document.getElementById(\"f3b52e0f-6cf3-4ca2-9439-0136bed1d0cb\")).parents('.cell').data().cell;\n      cell.output_area.append_execute_result(NB_LOAD_WARNING)\n    }\n\n  }\n\n  if (root._bokeh_is_loading === 0) {\n    console.log(\"Bokeh: BokehJS loaded, going straight to plotting\");\n    run_inline_js();\n  } else {\n    load_libs(js_urls, function() {\n      console.log(\"Bokeh: BokehJS plotting callback run at\", now());\n      run_inline_js();\n    });\n  }\n}(window));"
     },
     "metadata": {},
     "output_type": "display_data"
    }
   ],
   "source": [
    "output_notebook()"
   ]
  },
  {
   "cell_type": "code",
   "execution_count": 8,
   "metadata": {
    "collapsed": true
   },
   "outputs": [],
   "source": [
    "def fmt_cool(ds_in):\n",
    "    ds = ds_in.copy(deep=True)\n",
    "    if 'igg' in ds.dims:\n",
    "        ds = ds.sel(igg=1)\n",
    "\n",
    "    if 'g' in ds.dims:\n",
    "        ds = ds.sum('g')\n",
    "            \n",
    "    if 'band' in ds.dims:\n",
    "        try:\n",
    "            ds = ds.squeeze('band')\n",
    "        except ValueError:\n",
    "            ds = ds.sum('band')\n",
    "                \n",
    "    return ds['coolrg']\n",
    "\n",
    "\n",
    "def pltdata_cooling_1(ds_cool=None,\n",
    "                      ds_cool_crd=None, ds_cool_wgt=None):\n",
    "    \n",
    "\n",
    "\n",
    "    colors = all_palettes['Set1'][4]\n",
    "    data = [{'label': 'CLIRAD `coolr_bands`',\n",
    "             'srs': fmt_cool(ds_cool),\n",
    "             'line_dash': 'dashed', 'line_width': 5,\n",
    "             'color': colors[0], 'alpha': .6},\n",
    "            {'label': 'CRD',\n",
    "             'srs': fmt_cool(ds_cool_crd),\n",
    "             'line_dash': 'solid', 'line_width': 1.5,\n",
    "             'marker': 'circle', 'marker_size': 5,\n",
    "             'color': colors[2], 'alpha': 1,},\n",
    "            {'label': 'WGT igg=10 wgt_flux=2',\n",
    "             'srs': fmt_cool(ds_cool_wgt),\n",
    "             'line_dash': 'solid', 'line_width': 3,\n",
    "             'marker': 'square', 'marker_size': 5,\n",
    "             'color': colors[3], 'alpha': .6}]\n",
    "    return data\n",
    "\n",
    "\n",
    "def nice_xlims(pltdata=None, prange=None):\n",
    "    \n",
    "    def get_slice(srs):\n",
    "        return srs.sel(pressure=slice(*prange))\n",
    "    \n",
    "    srss = [d['srs'] for d in pltdata]\n",
    "    vmin = min([get_slice(srs).min() for srs in srss])\n",
    "    vmax = max([get_slice(srs).max() for srs in srss])\n",
    "    dv = (vmax - vmin) * .01\n",
    "    return float(vmin - dv), float(vmax + dv)\n",
    "    \n",
    "\n",
    "def plt_cooling_bokeh(pltdata=None):\n",
    "    '''\n",
    "    Plot a list of cooling rate profiles using bokeh.\n",
    "    '''\n",
    "    ymin = 1e-2 \n",
    "    ymax = 1020 \n",
    "        \n",
    "    p1 = figure(title=\"Linear pressure scale\", \n",
    "                plot_width=400)        \n",
    "    xmin, xmax = nice_xlims(pltdata, prange=(50, 1050))\n",
    "    for d in pltdata:\n",
    "        if 'marker' in d:\n",
    "            getattr(p1, d['marker'])(d['srs'].values, \n",
    "                    d['srs'].coords['pressure'].values,\n",
    "                    color=d['color'], alpha=.7)\n",
    "        p1.line(d['srs'].values, \n",
    "                d['srs'].coords['pressure'].values,\n",
    "                color=d['color'], alpha=d['alpha'], \n",
    "                line_width=d['line_width'], line_dash=d['line_dash'])\n",
    "    \n",
    "    p1.y_range = Range1d(ymax, ymin)\n",
    "    p1.yaxis.axis_label = 'pressure [mb]'   \n",
    "    p1.x_range = Range1d(xmin, xmax)\n",
    "    p1.xaxis.axis_label = 'cooling rate [K/day]'\n",
    "            \n",
    "    p2 = figure(title='Log pressure scale', y_axis_type='log',\n",
    "                plot_width=560)\n",
    "    xmin, xmax = nice_xlims(pltdata, prange=(.01, 200))\n",
    "    \n",
    "    rs = []\n",
    "    for d in pltdata:\n",
    "        rd = []\n",
    "        if 'marker' in d:\n",
    "            r_mark = getattr(p2, d['marker'])(d['srs'].values, \n",
    "                        d['srs'].coords['pressure'].values,\n",
    "                        color=d['color'], alpha=.7)\n",
    "            rd.append(r_mark)\n",
    "        r_line = p2.line(d['srs'].values, \n",
    "                    d['srs'].coords['pressure'].values,\n",
    "                    color=d['color'], alpha=d['alpha'], \n",
    "                    line_width=d['line_width'], line_dash=d['line_dash'])\n",
    "        rd.append(r_line)\n",
    "      \n",
    "        rs.append(rd)\n",
    "        \n",
    "    p2.y_range = Range1d(ymax, ymin)  \n",
    "    p2.yaxis.axis_label = 'pressure [mb]'\n",
    "    \n",
    "    p2.x_range = Range1d(xmin, xmax)\n",
    "    p2.xaxis.axis_label = 'cooling rate [K/day]'\n",
    "    \n",
    "    items = [(d['label'], r) for r, d in zip(rs, pltdata)]\n",
    "    legend = Legend(items=items, location=(10, -30))\n",
    "    legend.label_text_font_size = '8pt'\n",
    "    \n",
    "    p2.add_layout(legend, 'right')  \n",
    "    \n",
    "    show(gridplot(p1, p2, ncols=2, plot_height=500))\n",
    "    \n",
    "\n",
    "def script_plt_cooling():\n",
    "    pltdata = pltdata_cooling_1(\n",
    "        ds_cool=DS_COOL,\n",
    "        ds_cool_crd=DS_COOL_CRD,\n",
    "        ds_cool_wgt=DS_COOL_WGT)\n",
    "    plt_cooling_bokeh(pltdata=pltdata)\n",
    "    print('''FIGURE. Cooling rate profiles.''')"
   ]
  },
  {
   "cell_type": "code",
   "execution_count": 9,
   "metadata": {
    "collapsed": true
   },
   "outputs": [],
   "source": [
    "def fmt_flux(ds_in):\n",
    "    ds = ds_in.copy(deep=True)\n",
    "    \n",
    "    for l in ('level', 'layer'):\n",
    "        if l in ds.data_vars:\n",
    "            if len(ds[l].dims) > 1:\n",
    "                surface = {d: 0 for d in ds.dims if d != 'pressure'}\n",
    "                coord_level = ds[l][surface]\n",
    "                ds.coords[l] = ('pressure', coord_level)\n",
    "            else:\n",
    "                ds.coords[l] = ('pressure', ds[l])\n",
    "        \n",
    "    ds = ds.isel(pressure=[0, 23, -1])\n",
    "        \n",
    "    if 'igg' in ds.dims:\n",
    "        ds = ds.sel(igg=[1])\n",
    "        ds = ds.squeeze('igg').drop('igg')\n",
    "    \n",
    "    if 'g' in ds.dims:\n",
    "        ds = ds.sum('g')\n",
    "            \n",
    "    if 'band' in ds.dims:\n",
    "        try:\n",
    "            ds = ds.squeeze('band').drop('band')\n",
    "        except ValueError:\n",
    "            ds = ds.sum('band')\n",
    "                \n",
    "    df = ds.to_dataframe()\n",
    "    df = df.set_index('level', append=True)               \n",
    "    return df\n",
    "\n",
    "\n",
    "def tbdata_flux(ds_flux=None, ds_flux_crd=None, ds_flux_wgt=None):\n",
    "    ilevels = [0, 23, -1]\n",
    "            \n",
    "    benchmark = {'label': 'CRD',\n",
    "                 'df': fmt_flux(ds_flux_crd)}\n",
    "    \n",
    "    tbs = [{'label': 'WGT igg=10 wgt_flux=1',\n",
    "            'df': fmt_flux(ds_flux_wgt)},\n",
    "           {'label': 'CLIRAD',\n",
    "            'df': fmt_flux(ds_flux)}]\n",
    "    \n",
    "    data = {'benchmark': benchmark, 'others': tbs}\n",
    "    return data\n",
    "\n",
    "\n",
    "def tb_flux(tbdata=None):\n",
    "    benchmark = tbdata['benchmark']\n",
    "    others = tbdata['others']\n",
    "    \n",
    "    def show_tb(d=None):\n",
    "        display.display(d['df'])\n",
    "        print('Table.', 'Fluxes.', d['label'])\n",
    "        \n",
    "    def show_tbdiff(d0=None, d=None):\n",
    "        df = d['df']\n",
    "        df.index = d0['df'].index\n",
    "        display.display(df - d0['df'])\n",
    "        print('Table.', 'Fluxes.', \n",
    "              '({}) - ({})'.format(d['label'], d0['label']))\n",
    "        \n",
    "    show_tb(benchmark)\n",
    "    for d in others:\n",
    "        show_tb(d)\n",
    "        \n",
    "    for d in others:\n",
    "        show_tbdiff(d=d, d0=benchmark)\n",
    "        \n",
    "        \n",
    "def script_tb_flux():\n",
    "    data = tbdata_flux(ds_flux=DS_FLUX,\n",
    "                       ds_flux_crd=DS_FLUX_CRD,\n",
    "                       ds_flux_wgt=DS_FLUX_WGT)\n",
    "    tb_flux(tbdata=data)"
   ]
  },
  {
   "cell_type": "code",
   "execution_count": 10,
   "metadata": {
    "collapsed": true
   },
   "outputs": [],
   "source": [
    "def band_map():\n",
    "    '''\n",
    "    Maps spectral bands in lblnew to spectral bands in clirad.\n",
    "    '''\n",
    "    lblnew2clirad = {'1': '1',\n",
    "            '2': '2',\n",
    "            '3a': '3',\n",
    "            '3b': '4',\n",
    "            '3c': '5',\n",
    "            '4': '6', \n",
    "            '5': '7',\n",
    "            '6': '8',\n",
    "            '7': '9', \n",
    "            '8': '10',\n",
    "            '9': '11'}\n",
    "    \n",
    "    clirad2lblnew = {clirad: lblnew \n",
    "                     for lblnew, clirad in lblnew2clirad.items()}\n",
    "    return clirad2lblnew\n",
    "\n",
    "\n",
    "def gasbands():\n",
    "    bmap = band_map()\n",
    "    gases = list(PARAM['molecule'].keys())\n",
    "    \n",
    "    bands = [bmap[str(b)] for b in PARAM['band']]\n",
    "    return list(itertools.product(gases, bands))\n",
    "\n",
    "\n",
    "def print_bestfit_params():\n",
    "    print('Best-fit values for each (gas, band)')\n",
    "    print('------------------------------------')\n",
    "    for gas, band in gasbands():\n",
    "        print('o {} band{}'.format(gas, band))\n",
    "        param = bestfits.kdist_params(molecule=gas, band=band)\n",
    "        for name, value in sorted(param.items()):\n",
    "            print(2 * ' ' + '{} = {}'.format(name, value))\n",
    "\n",
    "        \n",
    "def print_input_param():        \n",
    "    for name, value in PARAM.items():\n",
    "        print('{} = {}'.format(name, value))\n",
    "        \n",
    "        \n",
    "def print_lblnew_param():\n",
    "    for name, value in sorted(PARAM_LBLNEW.items()):\n",
    "        print('{} = {}'.format(name, value))\n"
   ]
  },
  {
   "cell_type": "code",
   "execution_count": 11,
   "metadata": {
    "collapsed": true,
    "scrolled": false
   },
   "outputs": [],
   "source": [
    "def show_html(s):\n",
    "    display.display(display.HTML(s))\n",
    "\n",
    "    \n",
    "def show_markdown(s):\n",
    "    display.display(display.Markdown(s))\n",
    "\n",
    "    \n",
    "def script():\n",
    "    \n",
    "    title = '### CLIRAD-LW'\n",
    "    s_input = 'Input Parameters'\n",
    "    s_lblnew_param = 'LBLNEW case compaired against'\n",
    "    s_bestfits = 'Best-fit Parameters'\n",
    "    s_plt_cooling = 'Cooling Rate Profiles'\n",
    "    s_tb_flux = 'Flux Comparison'\n",
    "    \n",
    "    # title\n",
    "    show_markdown('### CLIRAD-LW')\n",
    "    \n",
    "    # TOC\n",
    "    show_markdown('### Table of Contents')\n",
    "    show_html(climahtml.getHTML_hrefanchor(s_input))\n",
    "    show_html(climahtml.getHTML_hrefanchor(s_lblnew_param))\n",
    "    show_html(climahtml.getHTML_hrefanchor(s_plt_cooling))\n",
    "    show_html(climahtml.getHTML_hrefanchor(s_tb_flux))\n",
    "    show_html(climahtml.getHTML_hrefanchor(s_bestfits))\n",
    "    \n",
    "    # Input parameters\n",
    "    show_html(climahtml.getHTML_idanchor(s_input))\n",
    "    show_markdown(climahtml.getMarkdown_sectitle(s_input))\n",
    "    print_input_param()\n",
    "    \n",
    "    # LBLNEW parameters \n",
    "    show_html(climahtml.getHTML_idanchor(s_lblnew_param))\n",
    "    show_markdown(climahtml.getMarkdown_sectitle(s_lblnew_param))\n",
    "    print_lblnew_param()\n",
    "    \n",
    "    # Cooling rate profiles\n",
    "    show_html(climahtml.getHTML_idanchor(s_plt_cooling))\n",
    "    show_markdown(climahtml.getMarkdown_sectitle(s_plt_cooling))\n",
    "    script_plt_cooling()\n",
    "    \n",
    "    # Flux comparison\n",
    "    show_html(climahtml.getHTML_idanchor(s_tb_flux))\n",
    "    show_markdown(climahtml.getMarkdown_sectitle(s_tb_flux))\n",
    "    script_tb_flux()\n",
    "    \n",
    "    # Best-fit values\n",
    "    show_html(climahtml.getHTML_idanchor(s_bestfits))\n",
    "    show_markdown(climahtml.getMarkdown_sectitle(s_bestfits))\n",
    "    print_bestfit_params()\n",
    "   \n",
    "    "
   ]
  },
  {
   "cell_type": "code",
   "execution_count": 12,
   "metadata": {
    "collapsed": true,
    "scrolled": false
   },
   "outputs": [
    {
     "data": {
      "text/markdown": [
       "### CLIRAD-LW"
      ],
      "text/plain": [
       "<IPython.core.display.Markdown object>"
      ]
     },
     "metadata": {},
     "output_type": "display_data"
    },
    {
     "data": {
      "text/markdown": [
       "### Table of Contents"
      ],
      "text/plain": [
       "<IPython.core.display.Markdown object>"
      ]
     },
     "metadata": {},
     "output_type": "display_data"
    },
    {
     "data": {
      "text/html": [
       "<a href=\"#Input_Parameters\">Input Parameters</a>"
      ],
      "text/plain": [
       "<IPython.core.display.HTML object>"
      ]
     },
     "metadata": {},
     "output_type": "display_data"
    },
    {
     "data": {
      "text/html": [
       "<a href=\"#LBLNEW_case_compaired_against\">LBLNEW case compaired against</a>"
      ],
      "text/plain": [
       "<IPython.core.display.HTML object>"
      ]
     },
     "metadata": {},
     "output_type": "display_data"
    },
    {
     "data": {
      "text/html": [
       "<a href=\"#Cooling_Rate_Profiles\">Cooling Rate Profiles</a>"
      ],
      "text/plain": [
       "<IPython.core.display.HTML object>"
      ]
     },
     "metadata": {},
     "output_type": "display_data"
    },
    {
     "data": {
      "text/html": [
       "<a href=\"#Flux_Comparison\">Flux Comparison</a>"
      ],
      "text/plain": [
       "<IPython.core.display.HTML object>"
      ]
     },
     "metadata": {},
     "output_type": "display_data"
    },
    {
     "data": {
      "text/html": [
       "<a href=\"#Best-fit_Parameters\">Best-fit Parameters</a>"
      ],
      "text/plain": [
       "<IPython.core.display.HTML object>"
      ]
     },
     "metadata": {},
     "output_type": "display_data"
    },
    {
     "data": {
      "text/html": [
       "<a id=\"Input_Parameters\"></a>"
      ],
      "text/plain": [
       "<IPython.core.display.HTML object>"
      ]
     },
     "metadata": {},
     "output_type": "display_data"
    },
    {
     "data": {
      "text/markdown": [
       "# Input Parameters"
      ],
      "text/plain": [
       "<IPython.core.display.Markdown object>"
      ]
     },
     "metadata": {},
     "output_type": "display_data"
    },
    {
     "name": "stdout",
     "output_type": "stream",
     "text": [
      "commitnumber = de5d43e\n",
      "molecule = {'h2o': 'atmpro', 'co2': 0.0004, 'n2o': 3.2e-07}\n",
      "band = [3]\n",
      "atmpro = mls\n",
      "tsfc = 294\n"
     ]
    },
    {
     "data": {
      "text/html": [
       "<a id=\"LBLNEW_case_compaired_against\"></a>"
      ],
      "text/plain": [
       "<IPython.core.display.HTML object>"
      ]
     },
     "metadata": {},
     "output_type": "display_data"
    },
    {
     "data": {
      "text/markdown": [
       "# LBLNEW case compaired against"
      ],
      "text/plain": [
       "<IPython.core.display.Markdown object>"
      ]
     },
     "metadata": {},
     "output_type": "display_data"
    },
    {
     "name": "stdout",
     "output_type": "stream",
     "text": [
      "atmpro = mls\n",
      "band = 3a\n",
      "commitnumber = 5014a19\n",
      "dv = 0.001\n",
      "molecule = {'h2o': 'atmpro', 'co2': 0.0004, 'n2o': 3.2e-07}\n",
      "nv = 1000\n",
      "tsfc = 294\n"
     ]
    },
    {
     "data": {
      "text/html": [
       "<a id=\"Cooling_Rate_Profiles\"></a>"
      ],
      "text/plain": [
       "<IPython.core.display.HTML object>"
      ]
     },
     "metadata": {},
     "output_type": "display_data"
    },
    {
     "data": {
      "text/markdown": [
       "# Cooling Rate Profiles"
      ],
      "text/plain": [
       "<IPython.core.display.Markdown object>"
      ]
     },
     "metadata": {},
     "output_type": "display_data"
    },
    {
     "data": {
      "text/html": [
       "\n",
       "<div class=\"bk-root\">\n",
       "    <div class=\"bk-plotdiv\" id=\"6f38f3de-37b3-43e6-9073-5aeee3eb1604\"></div>\n",
       "</div>"
      ]
     },
     "metadata": {},
     "output_type": "display_data"
    },
    {
     "data": {
      "application/javascript": [
       "(function(root) {\n",
       "  function embed_document(root) {\n",
       "    \n",
       "  var docs_json = {\"c9c21849-b3d1-4e4f-bc96-70789dfe23b1\":{\"roots\":{\"references\":[{\"attributes\":{\"fill_alpha\":{\"value\":0.7},\"fill_color\":{\"value\":\"#4daf4a\"},\"line_alpha\":{\"value\":0.7},\"line_color\":{\"value\":\"#4daf4a\"},\"x\":{\"field\":\"x\"},\"y\":{\"field\":\"y\"}},\"id\":\"274c0ae0-d9e1-4d71-8ba2-c94e7a4ce535\",\"type\":\"Circle\"},{\"attributes\":{\"fill_alpha\":{\"value\":0.7},\"fill_color\":{\"value\":\"#4daf4a\"},\"line_alpha\":{\"value\":0.7},\"line_color\":{\"value\":\"#4daf4a\"},\"x\":{\"field\":\"x\"},\"y\":{\"field\":\"y\"}},\"id\":\"ee47bec0-a29f-4d32-9937-75478c828b6a\",\"type\":\"Circle\"},{\"attributes\":{\"data_source\":{\"id\":\"85d319a8-32e7-4a76-836e-c002dcf8b97e\",\"type\":\"ColumnDataSource\"},\"glyph\":{\"id\":\"ee47bec0-a29f-4d32-9937-75478c828b6a\",\"type\":\"Circle\"},\"hover_glyph\":null,\"muted_glyph\":null,\"nonselection_glyph\":{\"id\":\"5d76098c-d87d-4086-821a-bfb1206eedce\",\"type\":\"Circle\"},\"selection_glyph\":null,\"view\":{\"id\":\"53ca9987-f542-4edc-a2ab-57bafb645313\",\"type\":\"CDSView\"}},\"id\":\"a5924f22-ee5f-410b-baab-f9edb2ca443b\",\"type\":\"GlyphRenderer\"},{\"attributes\":{\"data_source\":{\"id\":\"43d05265-56db-4cf9-acfc-b869dde7eb8d\",\"type\":\"ColumnDataSource\"},\"glyph\":{\"id\":\"274c0ae0-d9e1-4d71-8ba2-c94e7a4ce535\",\"type\":\"Circle\"},\"hover_glyph\":null,\"muted_glyph\":null,\"nonselection_glyph\":{\"id\":\"27e6e105-35f6-440f-92ba-10691d0e1bbe\",\"type\":\"Circle\"},\"selection_glyph\":null,\"view\":{\"id\":\"6e3ee2e4-c199-4492-895f-b534e63036b2\",\"type\":\"CDSView\"}},\"id\":\"c11b62ce-9652-47dc-aebd-ba5a6cd4a1a7\",\"type\":\"GlyphRenderer\"},{\"attributes\":{\"data_source\":{\"id\":\"427e8eb6-8548-43ce-a387-18613147196e\",\"type\":\"ColumnDataSource\"},\"glyph\":{\"id\":\"1332e84b-7f7b-4b4b-a3a5-c8c1a03c7920\",\"type\":\"Line\"},\"hover_glyph\":null,\"muted_glyph\":null,\"nonselection_glyph\":{\"id\":\"a7931cb4-e663-4165-934b-d7bcd5ed7d29\",\"type\":\"Line\"},\"selection_glyph\":null,\"view\":{\"id\":\"41cac9e8-1f63-4c57-8330-05528ca2eb66\",\"type\":\"CDSView\"}},\"id\":\"a03644b4-972e-43b6-9c3e-46f79951a6b2\",\"type\":\"GlyphRenderer\"},{\"attributes\":{\"source\":{\"id\":\"427e8eb6-8548-43ce-a387-18613147196e\",\"type\":\"ColumnDataSource\"}},\"id\":\"41cac9e8-1f63-4c57-8330-05528ca2eb66\",\"type\":\"CDSView\"},{\"attributes\":{\"line_alpha\":0.1,\"line_color\":\"#1f77b4\",\"line_width\":1.5,\"x\":{\"field\":\"x\"},\"y\":{\"field\":\"y\"}},\"id\":\"a7931cb4-e663-4165-934b-d7bcd5ed7d29\",\"type\":\"Line\"},{\"attributes\":{\"fill_alpha\":{\"value\":0.1},\"fill_color\":{\"value\":\"#1f77b4\"},\"line_alpha\":{\"value\":0.1},\"line_color\":{\"value\":\"#1f77b4\"},\"x\":{\"field\":\"x\"},\"y\":{\"field\":\"y\"}},\"id\":\"27e6e105-35f6-440f-92ba-10691d0e1bbe\",\"type\":\"Circle\"},{\"attributes\":{\"callback\":null,\"data\":{\"x\":{\"__ndarray__\":\"HKNt4+wp2T9P5+18/RjZP2oSQFox1tk/r8+c9SmH2j934kk90RbbPy1VUO7KcNs/kVI7iSmN2z9W79Nl71TbPzIngTBks9o/POo7AUWT2T8hIjXtYtrXPxU+185ib9U/0rG99eU10j8snOYVNiDMPxkl4L6r8cU/QFmlsjDdyD9uEkkVQfPQP1mTPBGjq9Q/W9BaVR/d1z9mIc9oioTbP6rotBPKZ+A/IKeeuxPi5D9FtcpE+PTpP400I0kx/Og/o4tVnM2X4z85NWXhyp3eP4p0/YpOOdg/D6YXa2470z9hHWTl2d3OP99Mr0Ed3sg/zWJ7kBJ5wz/pXsw78xe9PxzSH89rQrY/uUipncQUsj8dXvQ7a7yrP7mT46mi06I/hG9f3E29mj9RD3YvnBCVP0GzI4npOIY/ab+R9XjZQT8KdqHMVgRyP+Wx+cdhgZo/V0W9gmKbqj9EepHWBpG0P3UdT3BW6bs/zTiRiSlLwD+EaGtMoVbCP9r5htsEjMQ/VLoFXKHZxj/qtn7ZwTHJP56L0Blihss/TiPz6S11zT+f5HHFgzXPPxRG7V0Hd9A/W5TZIJNM0T/VtGpbvRjSP8FTCrJM3NI/bkdAnsAo1D+Wulyr2kHVPw6S0xGf/9U/LEx8QU1l1j+000mVrHPWP8JVt914NdY/nYqOw+S21T8sfY3JhwXVP2V7wky6MdQ/lvC+CQlB0z+wyI4ReSDSP1TKSheLtNA/F0cGNVMMzj+3oXs5YJXKP/4kJdrhccc/Ni/7M4vpxD/qOdDgQmDDP15BwzCa9MU/\",\"dtype\":\"float64\",\"shape\":[75]},\"y\":{\"__ndarray__\":\"GhExyth1ND/Sv8nbtpRIP2vylNV0PVE/aTum7souWD/At0SJ8fVgPw3Iuahxymc/MSNhhJWvcD/bTfBN02d3P2zb5nxnaoA/CD5h5MAGhz8NmeH1TyaQP+zrCsc9p5Y/LbKd76fGnz/bLW5ISEmmPww9YvTcQq8/JV2OstnstT8Er5Y7M8G+P0c+r3jqkcU/5h99k6ZBzj88bCIzFzjVP4enV8oyxN0//yH99nXg5D8qOpLLf0jtP5kqGJXUifQ/c9cS8kHP/D+/DpwzojQEQIEmwoanVwxA4lgXt9HgE0BSSZ2AJuIbQAMJih9jjiNA5q4l5INuK0AwTKYKRj0zQNv5fmq8/DpAaCJseHrtQkB/+zpwzoxKQM3MzMzMeFJAZmZmZmZqWEAAAAAAAFxeQM3MzMzMJmJAmpmZmZkfZUBmZmZmZhhoQDMzMzMzEWtAAAAAAAAKbkBmZmZmZoFwQM3MzMzM/XFAMzMzMzN6c0CamZmZmfZ0QAAAAAAAc3ZAZmZmZmbvd0DNzMzMzGt5QDMzMzMz6HpAmpmZmZlkfEAAAAAAAOF9QGZmZmZmXX9AZmZmZuZsgECamZmZGSuBQM3MzMxM6YFAAAAAAICngkAzMzMzs2WDQGZmZmbmI4RAmpmZmRnihEDNzMzMTKCFQAAAAACAXoZAMzMzM7Mch0BmZmZm5tqHQJqZmZkZmYhAzczMzExXiUAAAAAAgBWKQDMzMzOz04pAZmZmZuaRi0CamZmZGVCMQM3MzMxMDo1AAAAAAIDMjUAzMzMzs4qOQGZmZmbmSI9A\",\"dtype\":\"float64\",\"shape\":[75]}},\"selected\":{\"id\":\"61bf8087-80bd-4470-b4a2-323fa3f676cb\",\"type\":\"Selection\"},\"selection_policy\":{\"id\":\"02298963-6d46-4180-9451-bc2ecf0a51b0\",\"type\":\"UnionRenderers\"}},\"id\":\"a6efb107-2fdf-4296-a9ab-93e268c2d203\",\"type\":\"ColumnDataSource\"},{\"attributes\":{\"callback\":null,\"data\":{\"x\":{\"__ndarray__\":\"LY2pBUAm1j9cEWcLKTvWP7lIDMh//dY/G57BU4a51z8z9ohFyl7YP2LcDaK14tg/LeE79z882T9ChuFlflzZP4vbDUf8L9k/qL1vGcOe2D+x2RUj4IrXP/5z4rxJ3dU/CGa3XB5n0z8N9Dc+5gXQP/x8KXYTAMs/S4ufawQHzj/af1MOHAbTP8WAurutuNU/5rEDOtVS1z/w8AmfzlHZP+SZwEIgtt0/SLXbcFBJ4z/iUGRS6IHoP3D3KBICKOg/TEDhJoJc4z8C9m5/cLbeP3YI0nsZ+9g/5BJHHois1D9C4y5nWzLRP3NxTP1Z/8s/Kul6BRZ+xT9mOUNQubK+P6H3M60uVrY/QAMDa0kFsj8dMGsJyWetP+SvtH+qeaY/mNAd97+5oT/1EhJSfwmdPwHbDRfDGZE/4yALU8eqcT8RIE05gvt9P1vA2+6rk50/POzeuv0arD+/cjHEuR+1P9P6GeYdCrw/bDM+YcMywD+IgltvggzCP3l0Iywq4sM/02C/zBy3xT/WSs+R6KfHPx/JWZa3vMk/h2qMzuCMyz/kQzeY2SnNP/Aj6WAers4/6jf6NeUM0D9zYL16qr3QP/Y5qfWfcdE/XE0JTp6u0j9mqS8qLczTP6A2JpvdoNQ/RKrmQZMn1T9MO5BQjl3VP+tnmHcoTNU/QD7XrVQG1T+ok+g8lZnUPxydDPG8EtQ/dIhurHpv0z/7s3rilJTSP4LjMm5qYNE/tHrilBSzzz/NSii3zG3MP8pfEEcNXMk/mRKkraXbxj/lERb0YlHFP13c60kFusc/\",\"dtype\":\"float64\",\"shape\":[75]},\"y\":{\"__ndarray__\":\"GhExyth1ND/Sv8nbtpRIP2vylNV0PVE/aTum7souWD/At0SJ8fVgPw3Iuahxymc/MSNhhJWvcD/bTfBN02d3P2zb5nxnaoA/CD5h5MAGhz8NmeH1TyaQP+zrCsc9p5Y/LbKd76fGnz/bLW5ISEmmPww9YvTcQq8/JV2OstnstT8Er5Y7M8G+P0c+r3jqkcU/5h99k6ZBzj88bCIzFzjVP4enV8oyxN0//yH99nXg5D8qOpLLf0jtP5kqGJXUifQ/c9cS8kHP/D+/DpwzojQEQIEmwoanVwxA4lgXt9HgE0BSSZ2AJuIbQAMJih9jjiNA5q4l5INuK0AwTKYKRj0zQNv5fmq8/DpAaCJseHrtQkB/+zpwzoxKQM3MzMzMeFJAZmZmZmZqWEAAAAAAAFxeQM3MzMzMJmJAmpmZmZkfZUBmZmZmZhhoQDMzMzMzEWtAAAAAAAAKbkBmZmZmZoFwQM3MzMzM/XFAMzMzMzN6c0CamZmZmfZ0QAAAAAAAc3ZAZmZmZmbvd0DNzMzMzGt5QDMzMzMz6HpAmpmZmZlkfEAAAAAAAOF9QGZmZmZmXX9AZmZmZuZsgECamZmZGSuBQM3MzMxM6YFAAAAAAICngkAzMzMzs2WDQGZmZmbmI4RAmpmZmRnihEDNzMzMTKCFQAAAAACAXoZAMzMzM7Mch0BmZmZm5tqHQJqZmZkZmYhAzczMzExXiUAAAAAAgBWKQDMzMzOz04pAZmZmZuaRi0CamZmZGVCMQM3MzMxMDo1AAAAAAIDMjUAzMzMzs4qOQGZmZmbmSI9A\",\"dtype\":\"float64\",\"shape\":[75]}},\"selected\":{\"id\":\"72ad2571-7125-4e6b-99c8-eee32a9ba7ae\",\"type\":\"Selection\"},\"selection_policy\":{\"id\":\"a41c0a65-fcc1-4c02-8fac-a2452153ffcf\",\"type\":\"UnionRenderers\"}},\"id\":\"fedf2624-1b61-47f2-9e08-b6f6bb966f62\",\"type\":\"ColumnDataSource\"},{\"attributes\":{\"line_alpha\":0.6,\"line_color\":\"#984ea3\",\"line_width\":3,\"x\":{\"field\":\"x\"},\"y\":{\"field\":\"y\"}},\"id\":\"89011253-a4db-4f4d-a958-12aaa496de53\",\"type\":\"Line\"},{\"attributes\":{\"callback\":null,\"data\":{\"x\":{\"__ndarray__\":\"HKNt4+wp2T9P5+18/RjZP2oSQFox1tk/r8+c9SmH2j934kk90RbbPy1VUO7KcNs/kVI7iSmN2z9W79Nl71TbPzIngTBks9o/POo7AUWT2T8hIjXtYtrXPxU+185ib9U/0rG99eU10j8snOYVNiDMPxkl4L6r8cU/QFmlsjDdyD9uEkkVQfPQP1mTPBGjq9Q/W9BaVR/d1z9mIc9oioTbP6rotBPKZ+A/IKeeuxPi5D9FtcpE+PTpP400I0kx/Og/o4tVnM2X4z85NWXhyp3eP4p0/YpOOdg/D6YXa2470z9hHWTl2d3OP99Mr0Ed3sg/zWJ7kBJ5wz/pXsw78xe9PxzSH89rQrY/uUipncQUsj8dXvQ7a7yrP7mT46mi06I/hG9f3E29mj9RD3YvnBCVP0GzI4npOIY/ab+R9XjZQT8KdqHMVgRyP+Wx+cdhgZo/V0W9gmKbqj9EepHWBpG0P3UdT3BW6bs/zTiRiSlLwD+EaGtMoVbCP9r5htsEjMQ/VLoFXKHZxj/qtn7ZwTHJP56L0Blihss/TiPz6S11zT+f5HHFgzXPPxRG7V0Hd9A/W5TZIJNM0T/VtGpbvRjSP8FTCrJM3NI/bkdAnsAo1D+Wulyr2kHVPw6S0xGf/9U/LEx8QU1l1j+000mVrHPWP8JVt914NdY/nYqOw+S21T8sfY3JhwXVP2V7wky6MdQ/lvC+CQlB0z+wyI4ReSDSP1TKSheLtNA/F0cGNVMMzj+3oXs5YJXKP/4kJdrhccc/Ni/7M4vpxD/qOdDgQmDDP15BwzCa9MU/\",\"dtype\":\"float64\",\"shape\":[75]},\"y\":{\"__ndarray__\":\"GhExyth1ND/Sv8nbtpRIP2vylNV0PVE/aTum7souWD/At0SJ8fVgPw3Iuahxymc/MSNhhJWvcD/bTfBN02d3P2zb5nxnaoA/CD5h5MAGhz8NmeH1TyaQP+zrCsc9p5Y/LbKd76fGnz/bLW5ISEmmPww9YvTcQq8/JV2OstnstT8Er5Y7M8G+P0c+r3jqkcU/5h99k6ZBzj88bCIzFzjVP4enV8oyxN0//yH99nXg5D8qOpLLf0jtP5kqGJXUifQ/c9cS8kHP/D+/DpwzojQEQIEmwoanVwxA4lgXt9HgE0BSSZ2AJuIbQAMJih9jjiNA5q4l5INuK0AwTKYKRj0zQNv5fmq8/DpAaCJseHrtQkB/+zpwzoxKQM3MzMzMeFJAZmZmZmZqWEAAAAAAAFxeQM3MzMzMJmJAmpmZmZkfZUBmZmZmZhhoQDMzMzMzEWtAAAAAAAAKbkBmZmZmZoFwQM3MzMzM/XFAMzMzMzN6c0CamZmZmfZ0QAAAAAAAc3ZAZmZmZmbvd0DNzMzMzGt5QDMzMzMz6HpAmpmZmZlkfEAAAAAAAOF9QGZmZmZmXX9AZmZmZuZsgECamZmZGSuBQM3MzMxM6YFAAAAAAICngkAzMzMzs2WDQGZmZmbmI4RAmpmZmRnihEDNzMzMTKCFQAAAAACAXoZAMzMzM7Mch0BmZmZm5tqHQJqZmZkZmYhAzczMzExXiUAAAAAAgBWKQDMzMzOz04pAZmZmZuaRi0CamZmZGVCMQM3MzMxMDo1AAAAAAIDMjUAzMzMzs4qOQGZmZmbmSI9A\",\"dtype\":\"float64\",\"shape\":[75]}},\"selected\":{\"id\":\"3f877107-53e3-4e84-a587-81daf0f8d95e\",\"type\":\"Selection\"},\"selection_policy\":{\"id\":\"586419ea-4fea-4495-804b-8b469871158e\",\"type\":\"UnionRenderers\"}},\"id\":\"427e8eb6-8548-43ce-a387-18613147196e\",\"type\":\"ColumnDataSource\"},{\"attributes\":{\"line_color\":\"#4daf4a\",\"line_width\":1.5,\"x\":{\"field\":\"x\"},\"y\":{\"field\":\"y\"}},\"id\":\"dc7f9076-8d9a-4b50-b89b-adc87ba8516d\",\"type\":\"Line\"},{\"attributes\":{\"fill_alpha\":{\"value\":0.7},\"fill_color\":{\"value\":\"#984ea3\"},\"line_alpha\":{\"value\":0.7},\"line_color\":{\"value\":\"#984ea3\"},\"x\":{\"field\":\"x\"},\"y\":{\"field\":\"y\"}},\"id\":\"3f13fd7e-1cb4-4b27-b3bd-be31e05a712d\",\"type\":\"Square\"},{\"attributes\":{},\"id\":\"aae1a230-dc63-496e-8c77-1c6fd3be2903\",\"type\":\"BasicTickFormatter\"},{\"attributes\":{\"source\":{\"id\":\"b4ad9093-e493-466b-9bcd-1d5ff23123a4\",\"type\":\"ColumnDataSource\"}},\"id\":\"5984e85f-35db-46ff-84b5-954235c59e5a\",\"type\":\"CDSView\"},{\"attributes\":{\"source\":{\"id\":\"43d05265-56db-4cf9-acfc-b869dde7eb8d\",\"type\":\"ColumnDataSource\"}},\"id\":\"6e3ee2e4-c199-4492-895f-b534e63036b2\",\"type\":\"CDSView\"},{\"attributes\":{\"callback\":null,\"data\":{\"x\":{\"__ndarray__\":\"HKNt4+wp2T9P5+18/RjZP2oSQFox1tk/r8+c9SmH2j934kk90RbbPy1VUO7KcNs/kVI7iSmN2z9W79Nl71TbPzIngTBks9o/POo7AUWT2T8hIjXtYtrXPxU+185ib9U/0rG99eU10j8snOYVNiDMPxkl4L6r8cU/QFmlsjDdyD9uEkkVQfPQP1mTPBGjq9Q/W9BaVR/d1z9mIc9oioTbP6rotBPKZ+A/IKeeuxPi5D9FtcpE+PTpP400I0kx/Og/o4tVnM2X4z85NWXhyp3eP4p0/YpOOdg/D6YXa2470z9hHWTl2d3OP99Mr0Ed3sg/zWJ7kBJ5wz/pXsw78xe9PxzSH89rQrY/uUipncQUsj8dXvQ7a7yrP7mT46mi06I/hG9f3E29mj9RD3YvnBCVP0GzI4npOIY/ab+R9XjZQT8KdqHMVgRyP+Wx+cdhgZo/V0W9gmKbqj9EepHWBpG0P3UdT3BW6bs/zTiRiSlLwD+EaGtMoVbCP9r5htsEjMQ/VLoFXKHZxj/qtn7ZwTHJP56L0Blihss/TiPz6S11zT+f5HHFgzXPPxRG7V0Hd9A/W5TZIJNM0T/VtGpbvRjSP8FTCrJM3NI/bkdAnsAo1D+Wulyr2kHVPw6S0xGf/9U/LEx8QU1l1j+000mVrHPWP8JVt914NdY/nYqOw+S21T8sfY3JhwXVP2V7wky6MdQ/lvC+CQlB0z+wyI4ReSDSP1TKSheLtNA/F0cGNVMMzj+3oXs5YJXKP/4kJdrhccc/Ni/7M4vpxD/qOdDgQmDDP15BwzCa9MU/\",\"dtype\":\"float64\",\"shape\":[75]},\"y\":{\"__ndarray__\":\"GhExyth1ND/Sv8nbtpRIP2vylNV0PVE/aTum7souWD/At0SJ8fVgPw3Iuahxymc/MSNhhJWvcD/bTfBN02d3P2zb5nxnaoA/CD5h5MAGhz8NmeH1TyaQP+zrCsc9p5Y/LbKd76fGnz/bLW5ISEmmPww9YvTcQq8/JV2OstnstT8Er5Y7M8G+P0c+r3jqkcU/5h99k6ZBzj88bCIzFzjVP4enV8oyxN0//yH99nXg5D8qOpLLf0jtP5kqGJXUifQ/c9cS8kHP/D+/DpwzojQEQIEmwoanVwxA4lgXt9HgE0BSSZ2AJuIbQAMJih9jjiNA5q4l5INuK0AwTKYKRj0zQNv5fmq8/DpAaCJseHrtQkB/+zpwzoxKQM3MzMzMeFJAZmZmZmZqWEAAAAAAAFxeQM3MzMzMJmJAmpmZmZkfZUBmZmZmZhhoQDMzMzMzEWtAAAAAAAAKbkBmZmZmZoFwQM3MzMzM/XFAMzMzMzN6c0CamZmZmfZ0QAAAAAAAc3ZAZmZmZmbvd0DNzMzMzGt5QDMzMzMz6HpAmpmZmZlkfEAAAAAAAOF9QGZmZmZmXX9AZmZmZuZsgECamZmZGSuBQM3MzMxM6YFAAAAAAICngkAzMzMzs2WDQGZmZmbmI4RAmpmZmRnihEDNzMzMTKCFQAAAAACAXoZAMzMzM7Mch0BmZmZm5tqHQJqZmZkZmYhAzczMzExXiUAAAAAAgBWKQDMzMzOz04pAZmZmZuaRi0CamZmZGVCMQM3MzMxMDo1AAAAAAIDMjUAzMzMzs4qOQGZmZmbmSI9A\",\"dtype\":\"float64\",\"shape\":[75]}},\"selected\":{\"id\":\"694c78e8-5d7e-4264-a6b9-6a2e8d682c2a\",\"type\":\"Selection\"},\"selection_policy\":{\"id\":\"0ac5fccf-f27a-4a5b-a421-b99c5131cd4d\",\"type\":\"UnionRenderers\"}},\"id\":\"85d319a8-32e7-4a76-836e-c002dcf8b97e\",\"type\":\"ColumnDataSource\"},{\"attributes\":{\"fill_alpha\":{\"value\":0.1},\"fill_color\":{\"value\":\"#1f77b4\"},\"line_alpha\":{\"value\":0.1},\"line_color\":{\"value\":\"#1f77b4\"},\"x\":{\"field\":\"x\"},\"y\":{\"field\":\"y\"}},\"id\":\"ef579ec0-36e4-4d8e-8d49-8c2461f824d7\",\"type\":\"Square\"},{\"attributes\":{\"data_source\":{\"id\":\"b4ad9093-e493-466b-9bcd-1d5ff23123a4\",\"type\":\"ColumnDataSource\"},\"glyph\":{\"id\":\"f168a555-53d7-4049-9bf2-19750de362af\",\"type\":\"Square\"},\"hover_glyph\":null,\"muted_glyph\":null,\"nonselection_glyph\":{\"id\":\"49886c8f-abeb-4290-930f-b8618c49dd52\",\"type\":\"Square\"},\"selection_glyph\":null,\"view\":{\"id\":\"5984e85f-35db-46ff-84b5-954235c59e5a\",\"type\":\"CDSView\"}},\"id\":\"b57e0c4f-1b75-48a7-b531-a951e03537a5\",\"type\":\"GlyphRenderer\"},{\"attributes\":{\"data_source\":{\"id\":\"1cddab78-494b-4a4b-a548-f7892b904fce\",\"type\":\"ColumnDataSource\"},\"glyph\":{\"id\":\"89011253-a4db-4f4d-a958-12aaa496de53\",\"type\":\"Line\"},\"hover_glyph\":null,\"muted_glyph\":null,\"nonselection_glyph\":{\"id\":\"e5625a27-48a1-4f8c-b52a-204d282c605b\",\"type\":\"Line\"},\"selection_glyph\":null,\"view\":{\"id\":\"3dc0eba6-260e-4b14-b3fd-f56c5004cbb0\",\"type\":\"CDSView\"}},\"id\":\"82b62019-1312-4718-8bf8-3fc480a77ad9\",\"type\":\"GlyphRenderer\"},{\"attributes\":{\"line_color\":\"#4daf4a\",\"line_width\":1.5,\"x\":{\"field\":\"x\"},\"y\":{\"field\":\"y\"}},\"id\":\"1332e84b-7f7b-4b4b-a3a5-c8c1a03c7920\",\"type\":\"Line\"},{\"attributes\":{},\"id\":\"fb83a190-6c52-45a8-abc1-27c8f119ce04\",\"type\":\"LogScale\"},{\"attributes\":{\"data_source\":{\"id\":\"fedf2624-1b61-47f2-9e08-b6f6bb966f62\",\"type\":\"ColumnDataSource\"},\"glyph\":{\"id\":\"3f13fd7e-1cb4-4b27-b3bd-be31e05a712d\",\"type\":\"Square\"},\"hover_glyph\":null,\"muted_glyph\":null,\"nonselection_glyph\":{\"id\":\"ef579ec0-36e4-4d8e-8d49-8c2461f824d7\",\"type\":\"Square\"},\"selection_glyph\":null,\"view\":{\"id\":\"283c0278-382d-4775-8759-195688aeab19\",\"type\":\"CDSView\"}},\"id\":\"6b19c5c8-ceb0-4006-ba9a-f72bbba8597e\",\"type\":\"GlyphRenderer\"},{\"attributes\":{\"children\":[{\"id\":\"bb5d46a4-55db-4e2b-93eb-e8c5be28d954\",\"subtype\":\"Figure\",\"type\":\"Plot\"},{\"id\":\"1bff4445-5741-4128-84d5-5189c6747173\",\"subtype\":\"Figure\",\"type\":\"Plot\"}]},\"id\":\"1f111bc7-8bfa-4f05-a100-511a2b1bca34\",\"type\":\"Row\"},{\"attributes\":{\"plot\":null,\"text\":\"Log pressure scale\"},\"id\":\"85593239-c418-477a-99ea-e5802e5e5e3a\",\"type\":\"Title\"},{\"attributes\":{\"label\":{\"value\":\"CLIRAD `coolr_bands`\"},\"renderers\":[{\"id\":\"09c057c7-3d9a-4666-b4a6-851d4fce9ce6\",\"type\":\"GlyphRenderer\"}]},\"id\":\"797577c9-2c0c-40c0-943e-dcbc11107a9a\",\"type\":\"LegendItem\"},{\"attributes\":{},\"id\":\"ffa0bad5-daab-460a-bd4f-6521d0c1c17d\",\"type\":\"Selection\"},{\"attributes\":{\"label\":{\"value\":\"CRD\"},\"renderers\":[{\"id\":\"c11b62ce-9652-47dc-aebd-ba5a6cd4a1a7\",\"type\":\"GlyphRenderer\"},{\"id\":\"a03644b4-972e-43b6-9c3e-46f79951a6b2\",\"type\":\"GlyphRenderer\"}]},\"id\":\"110f319b-4ad9-4151-9f99-ed4cb3da8019\",\"type\":\"LegendItem\"},{\"attributes\":{},\"id\":\"61bf8087-80bd-4470-b4a2-323fa3f676cb\",\"type\":\"Selection\"},{\"attributes\":{\"label\":{\"value\":\"WGT igg=10 wgt_flux=2\"},\"renderers\":[{\"id\":\"6b19c5c8-ceb0-4006-ba9a-f72bbba8597e\",\"type\":\"GlyphRenderer\"},{\"id\":\"536729d7-771a-48a7-9f22-d07898a28091\",\"type\":\"GlyphRenderer\"}]},\"id\":\"604ff0dc-9509-43e4-8e46-7010dbaacd8f\",\"type\":\"LegendItem\"},{\"attributes\":{\"source\":{\"id\":\"1cddab78-494b-4a4b-a548-f7892b904fce\",\"type\":\"ColumnDataSource\"}},\"id\":\"3dc0eba6-260e-4b14-b3fd-f56c5004cbb0\",\"type\":\"CDSView\"},{\"attributes\":{\"ticker\":null},\"id\":\"635affa8-1f6e-4901-9cef-795907cea2c0\",\"type\":\"LogTickFormatter\"},{\"attributes\":{},\"id\":\"c3d0a6db-218f-4cbe-a6b5-e3313b982825\",\"type\":\"BasicTickFormatter\"},{\"attributes\":{\"data_source\":{\"id\":\"781251f6-b899-400a-a669-4084e21d177f\",\"type\":\"ColumnDataSource\"},\"glyph\":{\"id\":\"3758de6d-202f-496f-aa53-20d5fdc359c0\",\"type\":\"Line\"},\"hover_glyph\":null,\"muted_glyph\":null,\"nonselection_glyph\":{\"id\":\"59e1578f-da4d-431c-86ad-ef47b92352b0\",\"type\":\"Line\"},\"selection_glyph\":null,\"view\":{\"id\":\"ed56fbd1-a595-4032-be75-83b563148d77\",\"type\":\"CDSView\"}},\"id\":\"09c057c7-3d9a-4666-b4a6-851d4fce9ce6\",\"type\":\"GlyphRenderer\"},{\"attributes\":{},\"id\":\"2b4e2984-c65f-487e-98cc-3d35f7813622\",\"type\":\"UnionRenderers\"},{\"attributes\":{\"callback\":null,\"end\":0.8192596281643,\"start\":-0.0075613645943},\"id\":\"a3b14c36-d23b-4985-971e-dcd402235368\",\"type\":\"Range1d\"},{\"attributes\":{\"fill_alpha\":{\"value\":0.1},\"fill_color\":{\"value\":\"#1f77b4\"},\"line_alpha\":{\"value\":0.1},\"line_color\":{\"value\":\"#1f77b4\"},\"x\":{\"field\":\"x\"},\"y\":{\"field\":\"y\"}},\"id\":\"49886c8f-abeb-4290-930f-b8618c49dd52\",\"type\":\"Square\"},{\"attributes\":{},\"id\":\"694c78e8-5d7e-4264-a6b9-6a2e8d682c2a\",\"type\":\"Selection\"},{\"attributes\":{\"axis_label\":\"cooling rate [K/day]\",\"formatter\":{\"id\":\"1518079c-60be-4fc1-bede-c9d6d35a7ba6\",\"type\":\"BasicTickFormatter\"},\"plot\":{\"id\":\"1bff4445-5741-4128-84d5-5189c6747173\",\"subtype\":\"Figure\",\"type\":\"Plot\"},\"ticker\":{\"id\":\"b8a7b5e8-56f6-4fae-b5e5-b0b941f884dd\",\"type\":\"BasicTicker\"}},\"id\":\"ea82a3e5-71ee-477e-a6b5-a01933703b63\",\"type\":\"LinearAxis\"},{\"attributes\":{},\"id\":\"02298963-6d46-4180-9451-bc2ecf0a51b0\",\"type\":\"UnionRenderers\"},{\"attributes\":{},\"id\":\"0ac5fccf-f27a-4a5b-a421-b99c5131cd4d\",\"type\":\"UnionRenderers\"},{\"attributes\":{\"fill_alpha\":{\"value\":0.1},\"fill_color\":{\"value\":\"#1f77b4\"},\"line_alpha\":{\"value\":0.1},\"line_color\":{\"value\":\"#1f77b4\"},\"x\":{\"field\":\"x\"},\"y\":{\"field\":\"y\"}},\"id\":\"5d76098c-d87d-4086-821a-bfb1206eedce\",\"type\":\"Circle\"},{\"attributes\":{},\"id\":\"a0c96e7d-89aa-4f1b-9734-f82820ac93c2\",\"type\":\"Selection\"},{\"attributes\":{\"active_drag\":\"auto\",\"active_inspect\":\"auto\",\"active_scroll\":\"auto\",\"active_tap\":\"auto\",\"tools\":[{\"id\":\"5b5a88c8-ec37-466b-9f02-356a0a6dd646\",\"type\":\"PanTool\"},{\"id\":\"597c9d7c-ef3b-47ec-a1df-4d619f2061d2\",\"type\":\"WheelZoomTool\"},{\"id\":\"79b53edf-078f-4f7a-87b2-6840450d9bcc\",\"type\":\"BoxZoomTool\"},{\"id\":\"0b271d7c-7432-479f-8a45-3c909744be5b\",\"type\":\"SaveTool\"},{\"id\":\"958acfd8-3883-4e10-b02a-313401257a17\",\"type\":\"ResetTool\"},{\"id\":\"c3a79346-bfc5-431c-8deb-78dd74f4453c\",\"type\":\"HelpTool\"}]},\"id\":\"f9484afb-a68c-4748-a8ed-86aad78b3bf2\",\"type\":\"Toolbar\"},{\"attributes\":{},\"id\":\"f0119749-3b8a-407a-84fc-ad0defc9d9ba\",\"type\":\"UnionRenderers\"},{\"attributes\":{\"source\":{\"id\":\"a6efb107-2fdf-4296-a9ab-93e268c2d203\",\"type\":\"ColumnDataSource\"}},\"id\":\"58e6e957-fdc7-4128-865f-06a299fed374\",\"type\":\"CDSView\"},{\"attributes\":{},\"id\":\"999615da-c184-48e2-b2da-af879c3f4fd9\",\"type\":\"Selection\"},{\"attributes\":{},\"id\":\"a3f55b77-15f0-4887-9e02-989ced8f5365\",\"type\":\"UnionRenderers\"},{\"attributes\":{\"callback\":null,\"data\":{\"x\":{\"__ndarray__\":\"LY2pBUAm1j9cEWcLKTvWP7lIDMh//dY/G57BU4a51z8z9ohFyl7YP2LcDaK14tg/LeE79z882T9ChuFlflzZP4vbDUf8L9k/qL1vGcOe2D+x2RUj4IrXP/5z4rxJ3dU/CGa3XB5n0z8N9Dc+5gXQP/x8KXYTAMs/S4ufawQHzj/af1MOHAbTP8WAurutuNU/5rEDOtVS1z/w8AmfzlHZP+SZwEIgtt0/SLXbcFBJ4z/iUGRS6IHoP3D3KBICKOg/TEDhJoJc4z8C9m5/cLbeP3YI0nsZ+9g/5BJHHois1D9C4y5nWzLRP3NxTP1Z/8s/Kul6BRZ+xT9mOUNQubK+P6H3M60uVrY/QAMDa0kFsj8dMGsJyWetP+SvtH+qeaY/mNAd97+5oT/1EhJSfwmdPwHbDRfDGZE/4yALU8eqcT8RIE05gvt9P1vA2+6rk50/POzeuv0arD+/cjHEuR+1P9P6GeYdCrw/bDM+YcMywD+IgltvggzCP3l0Iywq4sM/02C/zBy3xT/WSs+R6KfHPx/JWZa3vMk/h2qMzuCMyz/kQzeY2SnNP/Aj6WAers4/6jf6NeUM0D9zYL16qr3QP/Y5qfWfcdE/XE0JTp6u0j9mqS8qLczTP6A2JpvdoNQ/RKrmQZMn1T9MO5BQjl3VP+tnmHcoTNU/QD7XrVQG1T+ok+g8lZnUPxydDPG8EtQ/dIhurHpv0z/7s3rilJTSP4LjMm5qYNE/tHrilBSzzz/NSii3zG3MP8pfEEcNXMk/mRKkraXbxj/lERb0YlHFP13c60kFusc/\",\"dtype\":\"float64\",\"shape\":[75]},\"y\":{\"__ndarray__\":\"GhExyth1ND/Sv8nbtpRIP2vylNV0PVE/aTum7souWD/At0SJ8fVgPw3Iuahxymc/MSNhhJWvcD/bTfBN02d3P2zb5nxnaoA/CD5h5MAGhz8NmeH1TyaQP+zrCsc9p5Y/LbKd76fGnz/bLW5ISEmmPww9YvTcQq8/JV2OstnstT8Er5Y7M8G+P0c+r3jqkcU/5h99k6ZBzj88bCIzFzjVP4enV8oyxN0//yH99nXg5D8qOpLLf0jtP5kqGJXUifQ/c9cS8kHP/D+/DpwzojQEQIEmwoanVwxA4lgXt9HgE0BSSZ2AJuIbQAMJih9jjiNA5q4l5INuK0AwTKYKRj0zQNv5fmq8/DpAaCJseHrtQkB/+zpwzoxKQM3MzMzMeFJAZmZmZmZqWEAAAAAAAFxeQM3MzMzMJmJAmpmZmZkfZUBmZmZmZhhoQDMzMzMzEWtAAAAAAAAKbkBmZmZmZoFwQM3MzMzM/XFAMzMzMzN6c0CamZmZmfZ0QAAAAAAAc3ZAZmZmZmbvd0DNzMzMzGt5QDMzMzMz6HpAmpmZmZlkfEAAAAAAAOF9QGZmZmZmXX9AZmZmZuZsgECamZmZGSuBQM3MzMxM6YFAAAAAAICngkAzMzMzs2WDQGZmZmbmI4RAmpmZmRnihEDNzMzMTKCFQAAAAACAXoZAMzMzM7Mch0BmZmZm5tqHQJqZmZkZmYhAzczMzExXiUAAAAAAgBWKQDMzMzOz04pAZmZmZuaRi0CamZmZGVCMQM3MzMxMDo1AAAAAAIDMjUAzMzMzs4qOQGZmZmbmSI9A\",\"dtype\":\"float64\",\"shape\":[75]}},\"selected\":{\"id\":\"a0c96e7d-89aa-4f1b-9734-f82820ac93c2\",\"type\":\"Selection\"},\"selection_policy\":{\"id\":\"f0119749-3b8a-407a-84fc-ad0defc9d9ba\",\"type\":\"UnionRenderers\"}},\"id\":\"1cddab78-494b-4a4b-a548-f7892b904fce\",\"type\":\"ColumnDataSource\"},{\"attributes\":{},\"id\":\"3f877107-53e3-4e84-a587-81daf0f8d95e\",\"type\":\"Selection\"},{\"attributes\":{},\"id\":\"0b48332e-9d43-4245-9675-a386eecc2f10\",\"type\":\"Selection\"},{\"attributes\":{},\"id\":\"1518079c-60be-4fc1-bede-c9d6d35a7ba6\",\"type\":\"BasicTickFormatter\"},{\"attributes\":{},\"id\":\"4d94966a-3aa4-4cef-b3da-71513d689e7a\",\"type\":\"LinearScale\"},{\"attributes\":{\"source\":{\"id\":\"781251f6-b899-400a-a669-4084e21d177f\",\"type\":\"ColumnDataSource\"}},\"id\":\"ed56fbd1-a595-4032-be75-83b563148d77\",\"type\":\"CDSView\"},{\"attributes\":{},\"id\":\"8cc4c770-f7f3-4d5f-b6b2-8b4c5188c2d7\",\"type\":\"Selection\"},{\"attributes\":{\"data_source\":{\"id\":\"a6efb107-2fdf-4296-a9ab-93e268c2d203\",\"type\":\"ColumnDataSource\"},\"glyph\":{\"id\":\"dc7f9076-8d9a-4b50-b89b-adc87ba8516d\",\"type\":\"Line\"},\"hover_glyph\":null,\"muted_glyph\":null,\"nonselection_glyph\":{\"id\":\"47cd0d36-93ae-413e-9c24-19e2d92d3b2f\",\"type\":\"Line\"},\"selection_glyph\":null,\"view\":{\"id\":\"58e6e957-fdc7-4128-865f-06a299fed374\",\"type\":\"CDSView\"}},\"id\":\"bcf47ba4-fe5e-42e7-9976-aa277cfb8297\",\"type\":\"GlyphRenderer\"},{\"attributes\":{},\"id\":\"586419ea-4fea-4495-804b-8b469871158e\",\"type\":\"UnionRenderers\"},{\"attributes\":{},\"id\":\"0a76264d-3dc8-4060-80e9-33e1923daf24\",\"type\":\"UnionRenderers\"},{\"attributes\":{},\"id\":\"8e272314-aa9b-417d-a0d7-d016eb240f50\",\"type\":\"UnionRenderers\"},{\"attributes\":{},\"id\":\"262c4293-8dd3-4cab-ac45-a00db8d010ac\",\"type\":\"Selection\"},{\"attributes\":{},\"id\":\"5cbbe39b-fe0b-4833-ba45-aa925a8684a0\",\"type\":\"UnionRenderers\"},{\"attributes\":{},\"id\":\"72ad2571-7125-4e6b-99c8-eee32a9ba7ae\",\"type\":\"Selection\"},{\"attributes\":{},\"id\":\"a41c0a65-fcc1-4c02-8fac-a2452153ffcf\",\"type\":\"UnionRenderers\"},{\"attributes\":{\"toolbar\":{\"id\":\"d978f7b1-6753-47c9-aa7f-56cf17316db6\",\"type\":\"ProxyToolbar\"},\"toolbar_location\":\"above\"},\"id\":\"a761b757-468f-4ba9-b076-2393101f5074\",\"type\":\"ToolbarBox\"},{\"attributes\":{\"callback\":null,\"data\":{\"x\":{\"__ndarray__\":\"LY2pBUAm1j9cEWcLKTvWP7lIDMh//dY/G57BU4a51z8z9ohFyl7YP2LcDaK14tg/LeE79z882T9ChuFlflzZP4vbDUf8L9k/qL1vGcOe2D+x2RUj4IrXP/5z4rxJ3dU/CGa3XB5n0z8N9Dc+5gXQP/x8KXYTAMs/S4ufawQHzj/af1MOHAbTP8WAurutuNU/5rEDOtVS1z/w8AmfzlHZP+SZwEIgtt0/SLXbcFBJ4z/iUGRS6IHoP3D3KBICKOg/TEDhJoJc4z8C9m5/cLbeP3YI0nsZ+9g/5BJHHois1D9C4y5nWzLRP3NxTP1Z/8s/Kul6BRZ+xT9mOUNQubK+P6H3M60uVrY/QAMDa0kFsj8dMGsJyWetP+SvtH+qeaY/mNAd97+5oT/1EhJSfwmdPwHbDRfDGZE/4yALU8eqcT8RIE05gvt9P1vA2+6rk50/POzeuv0arD+/cjHEuR+1P9P6GeYdCrw/bDM+YcMywD+IgltvggzCP3l0Iywq4sM/02C/zBy3xT/WSs+R6KfHPx/JWZa3vMk/h2qMzuCMyz/kQzeY2SnNP/Aj6WAers4/6jf6NeUM0D9zYL16qr3QP/Y5qfWfcdE/XE0JTp6u0j9mqS8qLczTP6A2JpvdoNQ/RKrmQZMn1T9MO5BQjl3VP+tnmHcoTNU/QD7XrVQG1T+ok+g8lZnUPxydDPG8EtQ/dIhurHpv0z/7s3rilJTSP4LjMm5qYNE/tHrilBSzzz/NSii3zG3MP8pfEEcNXMk/mRKkraXbxj/lERb0YlHFP13c60kFusc/\",\"dtype\":\"float64\",\"shape\":[75]},\"y\":{\"__ndarray__\":\"GhExyth1ND/Sv8nbtpRIP2vylNV0PVE/aTum7souWD/At0SJ8fVgPw3Iuahxymc/MSNhhJWvcD/bTfBN02d3P2zb5nxnaoA/CD5h5MAGhz8NmeH1TyaQP+zrCsc9p5Y/LbKd76fGnz/bLW5ISEmmPww9YvTcQq8/JV2OstnstT8Er5Y7M8G+P0c+r3jqkcU/5h99k6ZBzj88bCIzFzjVP4enV8oyxN0//yH99nXg5D8qOpLLf0jtP5kqGJXUifQ/c9cS8kHP/D+/DpwzojQEQIEmwoanVwxA4lgXt9HgE0BSSZ2AJuIbQAMJih9jjiNA5q4l5INuK0AwTKYKRj0zQNv5fmq8/DpAaCJseHrtQkB/+zpwzoxKQM3MzMzMeFJAZmZmZmZqWEAAAAAAAFxeQM3MzMzMJmJAmpmZmZkfZUBmZmZmZhhoQDMzMzMzEWtAAAAAAAAKbkBmZmZmZoFwQM3MzMzM/XFAMzMzMzN6c0CamZmZmfZ0QAAAAAAAc3ZAZmZmZmbvd0DNzMzMzGt5QDMzMzMz6HpAmpmZmZlkfEAAAAAAAOF9QGZmZmZmXX9AZmZmZuZsgECamZmZGSuBQM3MzMxM6YFAAAAAAICngkAzMzMzs2WDQGZmZmbmI4RAmpmZmRnihEDNzMzMTKCFQAAAAACAXoZAMzMzM7Mch0BmZmZm5tqHQJqZmZkZmYhAzczMzExXiUAAAAAAgBWKQDMzMzOz04pAZmZmZuaRi0CamZmZGVCMQM3MzMxMDo1AAAAAAIDMjUAzMzMzs4qOQGZmZmbmSI9A\",\"dtype\":\"float64\",\"shape\":[75]}},\"selected\":{\"id\":\"999615da-c184-48e2-b2da-af879c3f4fd9\",\"type\":\"Selection\"},\"selection_policy\":{\"id\":\"a3f55b77-15f0-4887-9e02-989ced8f5365\",\"type\":\"UnionRenderers\"}},\"id\":\"b4ad9093-e493-466b-9bcd-1d5ff23123a4\",\"type\":\"ColumnDataSource\"},{\"attributes\":{\"callback\":null,\"data\":{\"x\":{\"__ndarray__\":\"HKNt4+wp2T9P5+18/RjZP2oSQFox1tk/r8+c9SmH2j934kk90RbbPy1VUO7KcNs/kVI7iSmN2z9W79Nl71TbPzIngTBks9o/POo7AUWT2T8hIjXtYtrXPxU+185ib9U/0rG99eU10j8snOYVNiDMPxkl4L6r8cU/QFmlsjDdyD9uEkkVQfPQP1mTPBGjq9Q/W9BaVR/d1z9mIc9oioTbP6rotBPKZ+A/IKeeuxPi5D9FtcpE+PTpP400I0kx/Og/o4tVnM2X4z85NWXhyp3eP4p0/YpOOdg/D6YXa2470z9hHWTl2d3OP99Mr0Ed3sg/zWJ7kBJ5wz/pXsw78xe9PxzSH89rQrY/uUipncQUsj8dXvQ7a7yrP7mT46mi06I/hG9f3E29mj9RD3YvnBCVP0GzI4npOIY/ab+R9XjZQT8KdqHMVgRyP+Wx+cdhgZo/V0W9gmKbqj9EepHWBpG0P3UdT3BW6bs/zTiRiSlLwD+EaGtMoVbCP9r5htsEjMQ/VLoFXKHZxj/qtn7ZwTHJP56L0Blihss/TiPz6S11zT+f5HHFgzXPPxRG7V0Hd9A/W5TZIJNM0T/VtGpbvRjSP8FTCrJM3NI/bkdAnsAo1D+Wulyr2kHVPw6S0xGf/9U/LEx8QU1l1j+000mVrHPWP8JVt914NdY/nYqOw+S21T8sfY3JhwXVP2V7wky6MdQ/lvC+CQlB0z+wyI4ReSDSP1TKSheLtNA/F0cGNVMMzj+3oXs5YJXKP/4kJdrhccc/Ni/7M4vpxD/qOdDgQmDDP15BwzCa9MU/\",\"dtype\":\"float64\",\"shape\":[75]},\"y\":{\"__ndarray__\":\"GhExyth1ND/Sv8nbtpRIP2vylNV0PVE/aTum7souWD/At0SJ8fVgPw3Iuahxymc/MSNhhJWvcD/bTfBN02d3P2zb5nxnaoA/CD5h5MAGhz8NmeH1TyaQP+zrCsc9p5Y/LbKd76fGnz/bLW5ISEmmPww9YvTcQq8/JV2OstnstT8Er5Y7M8G+P0c+r3jqkcU/5h99k6ZBzj88bCIzFzjVP4enV8oyxN0//yH99nXg5D8qOpLLf0jtP5kqGJXUifQ/c9cS8kHP/D+/DpwzojQEQIEmwoanVwxA4lgXt9HgE0BSSZ2AJuIbQAMJih9jjiNA5q4l5INuK0AwTKYKRj0zQNv5fmq8/DpAaCJseHrtQkB/+zpwzoxKQM3MzMzMeFJAZmZmZmZqWEAAAAAAAFxeQM3MzMzMJmJAmpmZmZkfZUBmZmZmZhhoQDMzMzMzEWtAAAAAAAAKbkBmZmZmZoFwQM3MzMzM/XFAMzMzMzN6c0CamZmZmfZ0QAAAAAAAc3ZAZmZmZmbvd0DNzMzMzGt5QDMzMzMz6HpAmpmZmZlkfEAAAAAAAOF9QGZmZmZmXX9AZmZmZuZsgECamZmZGSuBQM3MzMxM6YFAAAAAAICngkAzMzMzs2WDQGZmZmbmI4RAmpmZmRnihEDNzMzMTKCFQAAAAACAXoZAMzMzM7Mch0BmZmZm5tqHQJqZmZkZmYhAzczMzExXiUAAAAAAgBWKQDMzMzOz04pAZmZmZuaRi0CamZmZGVCMQM3MzMxMDo1AAAAAAIDMjUAzMzMzs4qOQGZmZmbmSI9A\",\"dtype\":\"float64\",\"shape\":[75]}},\"selected\":{\"id\":\"0b48332e-9d43-4245-9675-a386eecc2f10\",\"type\":\"Selection\"},\"selection_policy\":{\"id\":\"0a76264d-3dc8-4060-80e9-33e1923daf24\",\"type\":\"UnionRenderers\"}},\"id\":\"43d05265-56db-4cf9-acfc-b869dde7eb8d\",\"type\":\"ColumnDataSource\"},{\"attributes\":{\"line_alpha\":0.1,\"line_color\":\"#1f77b4\",\"line_width\":3,\"x\":{\"field\":\"x\"},\"y\":{\"field\":\"y\"}},\"id\":\"e5625a27-48a1-4f8c-b52a-204d282c605b\",\"type\":\"Line\"},{\"attributes\":{\"source\":{\"id\":\"85d319a8-32e7-4a76-836e-c002dcf8b97e\",\"type\":\"ColumnDataSource\"}},\"id\":\"53ca9987-f542-4edc-a2ab-57bafb645313\",\"type\":\"CDSView\"},{\"attributes\":{\"line_alpha\":0.1,\"line_color\":\"#1f77b4\",\"line_width\":1.5,\"x\":{\"field\":\"x\"},\"y\":{\"field\":\"y\"}},\"id\":\"47cd0d36-93ae-413e-9c24-19e2d92d3b2f\",\"type\":\"Line\"},{\"attributes\":{\"items\":[{\"id\":\"797577c9-2c0c-40c0-943e-dcbc11107a9a\",\"type\":\"LegendItem\"},{\"id\":\"110f319b-4ad9-4151-9f99-ed4cb3da8019\",\"type\":\"LegendItem\"},{\"id\":\"604ff0dc-9509-43e4-8e46-7010dbaacd8f\",\"type\":\"LegendItem\"}],\"label_text_font_size\":{\"value\":\"8pt\"},\"location\":[10,-30],\"plot\":{\"id\":\"1bff4445-5741-4128-84d5-5189c6747173\",\"subtype\":\"Figure\",\"type\":\"Plot\"}},\"id\":\"12ff49a6-a56b-49a6-a841-d04ad215997a\",\"type\":\"Legend\"},{\"attributes\":{\"fill_alpha\":{\"value\":0.7},\"fill_color\":{\"value\":\"#984ea3\"},\"line_alpha\":{\"value\":0.7},\"line_color\":{\"value\":\"#984ea3\"},\"x\":{\"field\":\"x\"},\"y\":{\"field\":\"y\"}},\"id\":\"f168a555-53d7-4049-9bf2-19750de362af\",\"type\":\"Square\"},{\"attributes\":{\"callback\":null,\"end\":0.01,\"start\":1020},\"id\":\"c7771818-51bf-4057-ac6a-f9bf392a1524\",\"type\":\"Range1d\"},{\"attributes\":{\"plot\":{\"id\":\"1bff4445-5741-4128-84d5-5189c6747173\",\"subtype\":\"Figure\",\"type\":\"Plot\"},\"ticker\":{\"id\":\"b8a7b5e8-56f6-4fae-b5e5-b0b941f884dd\",\"type\":\"BasicTicker\"}},\"id\":\"a2d8790e-5b2a-4c29-b9d5-908114f7f6b7\",\"type\":\"Grid\"},{\"attributes\":{\"data_source\":{\"id\":\"89eb4bb2-0135-4b05-a961-12cb256b6f93\",\"type\":\"ColumnDataSource\"},\"glyph\":{\"id\":\"2e9acf99-4a00-4e82-81c4-088c2e687b4d\",\"type\":\"Line\"},\"hover_glyph\":null,\"muted_glyph\":null,\"nonselection_glyph\":{\"id\":\"11f224d5-f801-4f8f-9e68-159fc57a711e\",\"type\":\"Line\"},\"selection_glyph\":null,\"view\":{\"id\":\"c53486e6-0e0a-4ecb-850a-c80c2915a8ad\",\"type\":\"CDSView\"}},\"id\":\"536729d7-771a-48a7-9f22-d07898a28091\",\"type\":\"GlyphRenderer\"},{\"attributes\":{\"line_alpha\":0.1,\"line_color\":\"#1f77b4\",\"line_dash\":[6],\"line_width\":5,\"x\":{\"field\":\"x\"},\"y\":{\"field\":\"y\"}},\"id\":\"60d0a7d9-1c4d-40f4-b45b-888dabcecc04\",\"type\":\"Line\"},{\"attributes\":{},\"id\":\"b8a7b5e8-56f6-4fae-b5e5-b0b941f884dd\",\"type\":\"BasicTicker\"},{\"attributes\":{\"num_minor_ticks\":10},\"id\":\"baf1243c-9975-4686-b8a6-45cc54a5fc0a\",\"type\":\"LogTicker\"},{\"attributes\":{\"dimension\":1,\"plot\":{\"id\":\"1bff4445-5741-4128-84d5-5189c6747173\",\"subtype\":\"Figure\",\"type\":\"Plot\"},\"ticker\":{\"id\":\"baf1243c-9975-4686-b8a6-45cc54a5fc0a\",\"type\":\"LogTicker\"}},\"id\":\"316217ea-87a7-4721-8bce-ec9997ffab24\",\"type\":\"Grid\"},{\"attributes\":{},\"id\":\"d1183a19-f969-474f-a6da-ae56310316e9\",\"type\":\"HelpTool\"},{\"attributes\":{\"axis_label\":\"pressure [mb]\",\"formatter\":{\"id\":\"635affa8-1f6e-4901-9cef-795907cea2c0\",\"type\":\"LogTickFormatter\"},\"plot\":{\"id\":\"1bff4445-5741-4128-84d5-5189c6747173\",\"subtype\":\"Figure\",\"type\":\"Plot\"},\"ticker\":{\"id\":\"baf1243c-9975-4686-b8a6-45cc54a5fc0a\",\"type\":\"LogTicker\"}},\"id\":\"232f94c9-94e7-4f93-8b8d-4f73d5ffc63f\",\"type\":\"LogAxis\"},{\"attributes\":{\"bottom_units\":\"screen\",\"fill_alpha\":{\"value\":0.5},\"fill_color\":{\"value\":\"lightgrey\"},\"left_units\":\"screen\",\"level\":\"overlay\",\"line_alpha\":{\"value\":1.0},\"line_color\":{\"value\":\"black\"},\"line_dash\":[4,4],\"line_width\":{\"value\":2},\"plot\":null,\"render_mode\":\"css\",\"right_units\":\"screen\",\"top_units\":\"screen\"},\"id\":\"68df21ef-93a0-4213-bcff-f703113330ac\",\"type\":\"BoxAnnotation\"},{\"attributes\":{},\"id\":\"5b5a88c8-ec37-466b-9f02-356a0a6dd646\",\"type\":\"PanTool\"},{\"attributes\":{\"overlay\":{\"id\":\"46acbaa8-a2f7-4f22-b2e5-b00aff48198e\",\"type\":\"BoxAnnotation\"}},\"id\":\"9adf2288-e516-4e4d-826c-b658c4804a4f\",\"type\":\"BoxZoomTool\"},{\"attributes\":{},\"id\":\"c3a79346-bfc5-431c-8deb-78dd74f4453c\",\"type\":\"HelpTool\"},{\"attributes\":{\"callback\":null,\"data\":{\"x\":{\"__ndarray__\":\"bi1ZNu8P0D9l0L8TaVHQP2zWU4qhBdE/dkPo2vbB0T9qcgiHpHfSP74Jz5VSIdM/czyPH2S40z9o3Q4mKDLUP686OPmpgdQ/CCkNb7WS1D/JmonQpUvUP81cO6zLhNM/JkV1hB0Q0j+ItQCGSHrPP5U8hfl+LMw/wU8Dox7kzz8NYF8l/uzTP2ExC2lkQtY/ZVRb4q/m1j/uqBiERcfXPw9TbBZ5o9s/j/MGsZZv4j/mUbfUveXnP2612gV7uuc/XhNO4t4i4z/9MYw/eljePxWBPWhu7Ng/jtdRD7Da1D8yWkdVE4TRPyp9+GSLRcw/WEtL9hlhxT9VxGXsttG9Pxj1ksRn8rQ/r2gDSB6csD8pYo2KaterP0ThKoQSvKU/Du0pWjXfoD+UXKLTI6iaP9HjKiii5Yw/Ahk7Ulb7Xz/KH5FQoRxzP2hGwJpjdpk/FXDrSNdHqT9d7d/3ml6zP8yvrFU37rk/j30cD65nvj+omPf2tjLBPyEzQDduEMM/hHZWJInSxD9pDXO84cLGP+McdXRcDck/Rj7QhtM0yz8igQ4MgybNP7QadSEU484/RL0i8G5C0D+KaKZB8grRPy356Yn42NE/JRmDmJU30z990LNZ9XnUP1YmPm8RddU//hCX8/cY1j/8qa+2e1zWP3Dj3EfqVNY/Y9YHafgc1j8hLDrEBcHVP6kwGTufSdU/uwwg+O+s1D+fnxRzMcLTP9NXZ+f6X9I/e9D95g+X0D+gnoiPmVXNP+bKoNrgxMk/Uaq35afhxj8Uoq57TCDFP+17eaY8X8c/\",\"dtype\":\"float64\",\"shape\":[75]},\"y\":{\"__ndarray__\":\"S/O/Q+51ND/Sv8nbtpRIP2vylNV0PVE/aTum7souWD/At0SJ8fVgPw3Iuahxymc/MSNhhJWvcD/bTfBN02d3P2zb5nxnaoA/CD5h5MAGhz8NmeH1TyaQP+zrCsc9p5Y/LbKd76fGnz/bLW5ISEmmPww9YvTcQq8/JV2OstnstT8Er5Y7M8G+P0c+r3jqkcU/5h99k6ZBzj88bCIzFzjVP4enV8oyxN0//yH99nXg5D8qOpLLf0jtP5kqGJXUifQ/c9cS8kHP/D+/DpwzojQEQIEmwoanVwxA4lgXt9HgE0BSSZ2AJuIbQAMJih9jjiNA5q4l5INuK0AwTKYKRj0zQNv5fmq8/DpAaCJseHrtQkB/+zpwzoxKQM3MzMzMeFJAZmZmZmZqWEAAAAAAAFxeQM3MzMzMJmJAmpmZmZkfZUBmZmZmZhhoQDMzMzMzEWtAAAAAAAAKbkBmZmZmZoFwQM3MzMzM/XFAMzMzMzN6c0CamZmZmfZ0QAAAAAAAc3ZAZmZmZmbvd0DNzMzMzGt5QDMzMzMz6HpAmpmZmZlkfEAAAAAAAOF9QGZmZmZmXX9AZmZmZuZsgECamZmZGSuBQM3MzMxM6YFAAAAAAICngkAzMzMzs2WDQGZmZmbmI4RAmpmZmRnihEDNzMzMTKCFQAAAAACAXoZAMzMzM7Mch0BmZmZm5tqHQJqZmZkZmYhAzczMzExXiUAAAAAAgBWKQDMzMzOz04pAZmZmZuaRi0CamZmZGVCMQM3MzMxMDo1AAAAAAIDMjUAzMzMzs4qOQGZmZmbmSI9A\",\"dtype\":\"float64\",\"shape\":[75]}},\"selected\":{\"id\":\"ffa0bad5-daab-460a-bd4f-6521d0c1c17d\",\"type\":\"Selection\"},\"selection_policy\":{\"id\":\"2b4e2984-c65f-487e-98cc-3d35f7813622\",\"type\":\"UnionRenderers\"}},\"id\":\"346b374e-7879-4b9c-baf2-5bb16c2f38c4\",\"type\":\"ColumnDataSource\"},{\"attributes\":{},\"id\":\"597c9d7c-ef3b-47ec-a1df-4d619f2061d2\",\"type\":\"WheelZoomTool\"},{\"attributes\":{\"source\":{\"id\":\"346b374e-7879-4b9c-baf2-5bb16c2f38c4\",\"type\":\"ColumnDataSource\"}},\"id\":\"e1df2158-0ba6-444e-82cf-4786f0b8779e\",\"type\":\"CDSView\"},{\"attributes\":{},\"id\":\"0b271d7c-7432-479f-8a45-3c909744be5b\",\"type\":\"SaveTool\"},{\"attributes\":{},\"id\":\"958acfd8-3883-4e10-b02a-313401257a17\",\"type\":\"ResetTool\"},{\"attributes\":{},\"id\":\"6dbd74e3-3695-4172-8cc1-8d8367ea8446\",\"type\":\"SaveTool\"},{\"attributes\":{\"overlay\":{\"id\":\"68df21ef-93a0-4213-bcff-f703113330ac\",\"type\":\"BoxAnnotation\"}},\"id\":\"79b53edf-078f-4f7a-87b2-6840450d9bcc\",\"type\":\"BoxZoomTool\"},{\"attributes\":{},\"id\":\"3cf397ba-b610-4b7e-9332-808718e9aed0\",\"type\":\"ResetTool\"},{\"attributes\":{},\"id\":\"b6c192a2-809b-4732-82c5-8c213592cf8c\",\"type\":\"WheelZoomTool\"},{\"attributes\":{},\"id\":\"8bde19e0-1e4b-4455-b0a0-5684ec5bb818\",\"type\":\"PanTool\"},{\"attributes\":{\"line_alpha\":0.1,\"line_color\":\"#1f77b4\",\"line_width\":3,\"x\":{\"field\":\"x\"},\"y\":{\"field\":\"y\"}},\"id\":\"11f224d5-f801-4f8f-9e68-159fc57a711e\",\"type\":\"Line\"},{\"attributes\":{\"children\":[{\"id\":\"a761b757-468f-4ba9-b076-2393101f5074\",\"type\":\"ToolbarBox\"},{\"id\":\"b16175bf-45ec-45a0-83af-7852498b98a9\",\"type\":\"Column\"}]},\"id\":\"fffcc366-4e4f-4090-9bfb-f8eb8be3eebc\",\"type\":\"Column\"},{\"attributes\":{\"callback\":null,\"data\":{\"x\":{\"__ndarray__\":\"bi1ZNu8P0D9l0L8TaVHQP2zWU4qhBdE/dkPo2vbB0T9qcgiHpHfSP74Jz5VSIdM/czyPH2S40z9o3Q4mKDLUP686OPmpgdQ/CCkNb7WS1D/JmonQpUvUP81cO6zLhNM/JkV1hB0Q0j+ItQCGSHrPP5U8hfl+LMw/wU8Dox7kzz8NYF8l/uzTP2ExC2lkQtY/ZVRb4q/m1j/uqBiERcfXPw9TbBZ5o9s/j/MGsZZv4j/mUbfUveXnP2612gV7uuc/XhNO4t4i4z/9MYw/eljePxWBPWhu7Ng/jtdRD7Da1D8yWkdVE4TRPyp9+GSLRcw/WEtL9hlhxT9VxGXsttG9Pxj1ksRn8rQ/r2gDSB6csD8pYo2KaterP0ThKoQSvKU/Du0pWjXfoD+UXKLTI6iaP9HjKiii5Yw/Ahk7Ulb7Xz/KH5FQoRxzP2hGwJpjdpk/FXDrSNdHqT9d7d/3ml6zP8yvrFU37rk/j30cD65nvj+omPf2tjLBPyEzQDduEMM/hHZWJInSxD9pDXO84cLGP+McdXRcDck/Rj7QhtM0yz8igQ4MgybNP7QadSEU484/RL0i8G5C0D+KaKZB8grRPy356Yn42NE/JRmDmJU30z990LNZ9XnUP1YmPm8RddU//hCX8/cY1j/8qa+2e1zWP3Dj3EfqVNY/Y9YHafgc1j8hLDrEBcHVP6kwGTufSdU/uwwg+O+s1D+fnxRzMcLTP9NXZ+f6X9I/e9D95g+X0D+gnoiPmVXNP+bKoNrgxMk/Uaq35afhxj8Uoq57TCDFP+17eaY8X8c/\",\"dtype\":\"float64\",\"shape\":[75]},\"y\":{\"__ndarray__\":\"S/O/Q+51ND/Sv8nbtpRIP2vylNV0PVE/aTum7souWD/At0SJ8fVgPw3Iuahxymc/MSNhhJWvcD/bTfBN02d3P2zb5nxnaoA/CD5h5MAGhz8NmeH1TyaQP+zrCsc9p5Y/LbKd76fGnz/bLW5ISEmmPww9YvTcQq8/JV2OstnstT8Er5Y7M8G+P0c+r3jqkcU/5h99k6ZBzj88bCIzFzjVP4enV8oyxN0//yH99nXg5D8qOpLLf0jtP5kqGJXUifQ/c9cS8kHP/D+/DpwzojQEQIEmwoanVwxA4lgXt9HgE0BSSZ2AJuIbQAMJih9jjiNA5q4l5INuK0AwTKYKRj0zQNv5fmq8/DpAaCJseHrtQkB/+zpwzoxKQM3MzMzMeFJAZmZmZmZqWEAAAAAAAFxeQM3MzMzMJmJAmpmZmZkfZUBmZmZmZhhoQDMzMzMzEWtAAAAAAAAKbkBmZmZmZoFwQM3MzMzM/XFAMzMzMzN6c0CamZmZmfZ0QAAAAAAAc3ZAZmZmZmbvd0DNzMzMzGt5QDMzMzMz6HpAmpmZmZlkfEAAAAAAAOF9QGZmZmZmXX9AZmZmZuZsgECamZmZGSuBQM3MzMxM6YFAAAAAAICngkAzMzMzs2WDQGZmZmbmI4RAmpmZmRnihEDNzMzMTKCFQAAAAACAXoZAMzMzM7Mch0BmZmZm5tqHQJqZmZkZmYhAzczMzExXiUAAAAAAgBWKQDMzMzOz04pAZmZmZuaRi0CamZmZGVCMQM3MzMxMDo1AAAAAAIDMjUAzMzMzs4qOQGZmZmbmSI9A\",\"dtype\":\"float64\",\"shape\":[75]}},\"selected\":{\"id\":\"8cc4c770-f7f3-4d5f-b6b2-8b4c5188c2d7\",\"type\":\"Selection\"},\"selection_policy\":{\"id\":\"8e272314-aa9b-417d-a0d7-d016eb240f50\",\"type\":\"UnionRenderers\"}},\"id\":\"781251f6-b899-400a-a669-4084e21d177f\",\"type\":\"ColumnDataSource\"},{\"attributes\":{\"axis_label\":\"pressure [mb]\",\"formatter\":{\"id\":\"c3d0a6db-218f-4cbe-a6b5-e3313b982825\",\"type\":\"BasicTickFormatter\"},\"plot\":{\"id\":\"bb5d46a4-55db-4e2b-93eb-e8c5be28d954\",\"subtype\":\"Figure\",\"type\":\"Plot\"},\"ticker\":{\"id\":\"adf5a34b-2fb7-4006-b496-31010a6a5ddc\",\"type\":\"BasicTicker\"}},\"id\":\"2e91129d-e395-40f4-b85e-7cf293f43f4a\",\"type\":\"LinearAxis\"},{\"attributes\":{\"source\":{\"id\":\"89eb4bb2-0135-4b05-a961-12cb256b6f93\",\"type\":\"ColumnDataSource\"}},\"id\":\"c53486e6-0e0a-4ecb-850a-c80c2915a8ad\",\"type\":\"CDSView\"},{\"attributes\":{\"data_source\":{\"id\":\"346b374e-7879-4b9c-baf2-5bb16c2f38c4\",\"type\":\"ColumnDataSource\"},\"glyph\":{\"id\":\"159dd070-d4b7-4626-bf55-1ae705e827e3\",\"type\":\"Line\"},\"hover_glyph\":null,\"muted_glyph\":null,\"nonselection_glyph\":{\"id\":\"60d0a7d9-1c4d-40f4-b45b-888dabcecc04\",\"type\":\"Line\"},\"selection_glyph\":null,\"view\":{\"id\":\"e1df2158-0ba6-444e-82cf-4786f0b8779e\",\"type\":\"CDSView\"}},\"id\":\"39c770ea-0b03-4c5d-930a-a0711586b055\",\"type\":\"GlyphRenderer\"},{\"attributes\":{\"line_alpha\":0.6,\"line_color\":\"#e41a1c\",\"line_dash\":[6],\"line_width\":5,\"x\":{\"field\":\"x\"},\"y\":{\"field\":\"y\"}},\"id\":\"3758de6d-202f-496f-aa53-20d5fdc359c0\",\"type\":\"Line\"},{\"attributes\":{\"below\":[{\"id\":\"ea82a3e5-71ee-477e-a6b5-a01933703b63\",\"type\":\"LinearAxis\"}],\"left\":[{\"id\":\"232f94c9-94e7-4f93-8b8d-4f73d5ffc63f\",\"type\":\"LogAxis\"}],\"plot_height\":500,\"plot_width\":560,\"renderers\":[{\"id\":\"ea82a3e5-71ee-477e-a6b5-a01933703b63\",\"type\":\"LinearAxis\"},{\"id\":\"a2d8790e-5b2a-4c29-b9d5-908114f7f6b7\",\"type\":\"Grid\"},{\"id\":\"232f94c9-94e7-4f93-8b8d-4f73d5ffc63f\",\"type\":\"LogAxis\"},{\"id\":\"316217ea-87a7-4721-8bce-ec9997ffab24\",\"type\":\"Grid\"},{\"id\":\"68df21ef-93a0-4213-bcff-f703113330ac\",\"type\":\"BoxAnnotation\"},{\"id\":\"09c057c7-3d9a-4666-b4a6-851d4fce9ce6\",\"type\":\"GlyphRenderer\"},{\"id\":\"c11b62ce-9652-47dc-aebd-ba5a6cd4a1a7\",\"type\":\"GlyphRenderer\"},{\"id\":\"a03644b4-972e-43b6-9c3e-46f79951a6b2\",\"type\":\"GlyphRenderer\"},{\"id\":\"6b19c5c8-ceb0-4006-ba9a-f72bbba8597e\",\"type\":\"GlyphRenderer\"},{\"id\":\"536729d7-771a-48a7-9f22-d07898a28091\",\"type\":\"GlyphRenderer\"},{\"id\":\"12ff49a6-a56b-49a6-a841-d04ad215997a\",\"type\":\"Legend\"}],\"right\":[{\"id\":\"12ff49a6-a56b-49a6-a841-d04ad215997a\",\"type\":\"Legend\"}],\"title\":{\"id\":\"85593239-c418-477a-99ea-e5802e5e5e3a\",\"type\":\"Title\"},\"toolbar\":{\"id\":\"f9484afb-a68c-4748-a8ed-86aad78b3bf2\",\"type\":\"Toolbar\"},\"toolbar_location\":null,\"x_range\":{\"id\":\"a3b14c36-d23b-4985-971e-dcd402235368\",\"type\":\"Range1d\"},\"x_scale\":{\"id\":\"4d94966a-3aa4-4cef-b3da-71513d689e7a\",\"type\":\"LinearScale\"},\"y_range\":{\"id\":\"0cfb33ac-c95b-4594-b199-7371b4723a79\",\"type\":\"Range1d\"},\"y_scale\":{\"id\":\"fb83a190-6c52-45a8-abc1-27c8f119ce04\",\"type\":\"LogScale\"}},\"id\":\"1bff4445-5741-4128-84d5-5189c6747173\",\"subtype\":\"Figure\",\"type\":\"Plot\"},{\"attributes\":{\"line_alpha\":0.6,\"line_color\":\"#984ea3\",\"line_width\":3,\"x\":{\"field\":\"x\"},\"y\":{\"field\":\"y\"}},\"id\":\"2e9acf99-4a00-4e82-81c4-088c2e687b4d\",\"type\":\"Line\"},{\"attributes\":{\"callback\":null,\"end\":0.3543128446643,\"start\":-0.0029579310943},\"id\":\"e8a0a5fe-335c-4507-bd17-4100242de906\",\"type\":\"Range1d\"},{\"attributes\":{\"plot\":null,\"text\":\"Linear pressure scale\"},\"id\":\"a46b2aa4-1443-496c-a211-625f5c49c130\",\"type\":\"Title\"},{\"attributes\":{\"bottom_units\":\"screen\",\"fill_alpha\":{\"value\":0.5},\"fill_color\":{\"value\":\"lightgrey\"},\"left_units\":\"screen\",\"level\":\"overlay\",\"line_alpha\":{\"value\":1.0},\"line_color\":{\"value\":\"black\"},\"line_dash\":[4,4],\"line_width\":{\"value\":2},\"plot\":null,\"render_mode\":\"css\",\"right_units\":\"screen\",\"top_units\":\"screen\"},\"id\":\"46acbaa8-a2f7-4f22-b2e5-b00aff48198e\",\"type\":\"BoxAnnotation\"},{\"attributes\":{\"line_alpha\":0.6,\"line_color\":\"#e41a1c\",\"line_dash\":[6],\"line_width\":5,\"x\":{\"field\":\"x\"},\"y\":{\"field\":\"y\"}},\"id\":\"159dd070-d4b7-4626-bf55-1ae705e827e3\",\"type\":\"Line\"},{\"attributes\":{\"tools\":[{\"id\":\"8bde19e0-1e4b-4455-b0a0-5684ec5bb818\",\"type\":\"PanTool\"},{\"id\":\"b6c192a2-809b-4732-82c5-8c213592cf8c\",\"type\":\"WheelZoomTool\"},{\"id\":\"9adf2288-e516-4e4d-826c-b658c4804a4f\",\"type\":\"BoxZoomTool\"},{\"id\":\"6dbd74e3-3695-4172-8cc1-8d8367ea8446\",\"type\":\"SaveTool\"},{\"id\":\"3cf397ba-b610-4b7e-9332-808718e9aed0\",\"type\":\"ResetTool\"},{\"id\":\"d1183a19-f969-474f-a6da-ae56310316e9\",\"type\":\"HelpTool\"},{\"id\":\"5b5a88c8-ec37-466b-9f02-356a0a6dd646\",\"type\":\"PanTool\"},{\"id\":\"597c9d7c-ef3b-47ec-a1df-4d619f2061d2\",\"type\":\"WheelZoomTool\"},{\"id\":\"79b53edf-078f-4f7a-87b2-6840450d9bcc\",\"type\":\"BoxZoomTool\"},{\"id\":\"0b271d7c-7432-479f-8a45-3c909744be5b\",\"type\":\"SaveTool\"},{\"id\":\"958acfd8-3883-4e10-b02a-313401257a17\",\"type\":\"ResetTool\"},{\"id\":\"c3a79346-bfc5-431c-8deb-78dd74f4453c\",\"type\":\"HelpTool\"}]},\"id\":\"d978f7b1-6753-47c9-aa7f-56cf17316db6\",\"type\":\"ProxyToolbar\"},{\"attributes\":{},\"id\":\"8b133366-e542-49d7-a498-f51a8cdbc6fb\",\"type\":\"LinearScale\"},{\"attributes\":{\"callback\":null,\"data\":{\"x\":{\"__ndarray__\":\"LY2pBUAm1j9cEWcLKTvWP7lIDMh//dY/G57BU4a51z8z9ohFyl7YP2LcDaK14tg/LeE79z882T9ChuFlflzZP4vbDUf8L9k/qL1vGcOe2D+x2RUj4IrXP/5z4rxJ3dU/CGa3XB5n0z8N9Dc+5gXQP/x8KXYTAMs/S4ufawQHzj/af1MOHAbTP8WAurutuNU/5rEDOtVS1z/w8AmfzlHZP+SZwEIgtt0/SLXbcFBJ4z/iUGRS6IHoP3D3KBICKOg/TEDhJoJc4z8C9m5/cLbeP3YI0nsZ+9g/5BJHHois1D9C4y5nWzLRP3NxTP1Z/8s/Kul6BRZ+xT9mOUNQubK+P6H3M60uVrY/QAMDa0kFsj8dMGsJyWetP+SvtH+qeaY/mNAd97+5oT/1EhJSfwmdPwHbDRfDGZE/4yALU8eqcT8RIE05gvt9P1vA2+6rk50/POzeuv0arD+/cjHEuR+1P9P6GeYdCrw/bDM+YcMywD+IgltvggzCP3l0Iywq4sM/02C/zBy3xT/WSs+R6KfHPx/JWZa3vMk/h2qMzuCMyz/kQzeY2SnNP/Aj6WAers4/6jf6NeUM0D9zYL16qr3QP/Y5qfWfcdE/XE0JTp6u0j9mqS8qLczTP6A2JpvdoNQ/RKrmQZMn1T9MO5BQjl3VP+tnmHcoTNU/QD7XrVQG1T+ok+g8lZnUPxydDPG8EtQ/dIhurHpv0z/7s3rilJTSP4LjMm5qYNE/tHrilBSzzz/NSii3zG3MP8pfEEcNXMk/mRKkraXbxj/lERb0YlHFP13c60kFusc/\",\"dtype\":\"float64\",\"shape\":[75]},\"y\":{\"__ndarray__\":\"GhExyth1ND/Sv8nbtpRIP2vylNV0PVE/aTum7souWD/At0SJ8fVgPw3Iuahxymc/MSNhhJWvcD/bTfBN02d3P2zb5nxnaoA/CD5h5MAGhz8NmeH1TyaQP+zrCsc9p5Y/LbKd76fGnz/bLW5ISEmmPww9YvTcQq8/JV2OstnstT8Er5Y7M8G+P0c+r3jqkcU/5h99k6ZBzj88bCIzFzjVP4enV8oyxN0//yH99nXg5D8qOpLLf0jtP5kqGJXUifQ/c9cS8kHP/D+/DpwzojQEQIEmwoanVwxA4lgXt9HgE0BSSZ2AJuIbQAMJih9jjiNA5q4l5INuK0AwTKYKRj0zQNv5fmq8/DpAaCJseHrtQkB/+zpwzoxKQM3MzMzMeFJAZmZmZmZqWEAAAAAAAFxeQM3MzMzMJmJAmpmZmZkfZUBmZmZmZhhoQDMzMzMzEWtAAAAAAAAKbkBmZmZmZoFwQM3MzMzM/XFAMzMzMzN6c0CamZmZmfZ0QAAAAAAAc3ZAZmZmZmbvd0DNzMzMzGt5QDMzMzMz6HpAmpmZmZlkfEAAAAAAAOF9QGZmZmZmXX9AZmZmZuZsgECamZmZGSuBQM3MzMxM6YFAAAAAAICngkAzMzMzs2WDQGZmZmbmI4RAmpmZmRnihEDNzMzMTKCFQAAAAACAXoZAMzMzM7Mch0BmZmZm5tqHQJqZmZkZmYhAzczMzExXiUAAAAAAgBWKQDMzMzOz04pAZmZmZuaRi0CamZmZGVCMQM3MzMxMDo1AAAAAAIDMjUAzMzMzs4qOQGZmZmbmSI9A\",\"dtype\":\"float64\",\"shape\":[75]}},\"selected\":{\"id\":\"262c4293-8dd3-4cab-ac45-a00db8d010ac\",\"type\":\"Selection\"},\"selection_policy\":{\"id\":\"5cbbe39b-fe0b-4833-ba45-aa925a8684a0\",\"type\":\"UnionRenderers\"}},\"id\":\"89eb4bb2-0135-4b05-a961-12cb256b6f93\",\"type\":\"ColumnDataSource\"},{\"attributes\":{\"plot\":{\"id\":\"bb5d46a4-55db-4e2b-93eb-e8c5be28d954\",\"subtype\":\"Figure\",\"type\":\"Plot\"},\"ticker\":{\"id\":\"5727a322-c0cf-4a07-9a64-71ff9eafb309\",\"type\":\"BasicTicker\"}},\"id\":\"fb671779-904e-4751-a9d5-a50ef296a975\",\"type\":\"Grid\"},{\"attributes\":{},\"id\":\"5727a322-c0cf-4a07-9a64-71ff9eafb309\",\"type\":\"BasicTicker\"},{\"attributes\":{},\"id\":\"adf5a34b-2fb7-4006-b496-31010a6a5ddc\",\"type\":\"BasicTicker\"},{\"attributes\":{\"active_drag\":\"auto\",\"active_inspect\":\"auto\",\"active_scroll\":\"auto\",\"active_tap\":\"auto\",\"tools\":[{\"id\":\"8bde19e0-1e4b-4455-b0a0-5684ec5bb818\",\"type\":\"PanTool\"},{\"id\":\"b6c192a2-809b-4732-82c5-8c213592cf8c\",\"type\":\"WheelZoomTool\"},{\"id\":\"9adf2288-e516-4e4d-826c-b658c4804a4f\",\"type\":\"BoxZoomTool\"},{\"id\":\"6dbd74e3-3695-4172-8cc1-8d8367ea8446\",\"type\":\"SaveTool\"},{\"id\":\"3cf397ba-b610-4b7e-9332-808718e9aed0\",\"type\":\"ResetTool\"},{\"id\":\"d1183a19-f969-474f-a6da-ae56310316e9\",\"type\":\"HelpTool\"}]},\"id\":\"c86fab0f-4dce-4694-99d9-692ee80c4675\",\"type\":\"Toolbar\"},{\"attributes\":{\"callback\":null,\"end\":0.01,\"start\":1020},\"id\":\"0cfb33ac-c95b-4594-b199-7371b4723a79\",\"type\":\"Range1d\"},{\"attributes\":{\"dimension\":1,\"plot\":{\"id\":\"bb5d46a4-55db-4e2b-93eb-e8c5be28d954\",\"subtype\":\"Figure\",\"type\":\"Plot\"},\"ticker\":{\"id\":\"adf5a34b-2fb7-4006-b496-31010a6a5ddc\",\"type\":\"BasicTicker\"}},\"id\":\"2a7b658a-d363-4a72-9331-a0eb252947c6\",\"type\":\"Grid\"},{\"attributes\":{\"line_alpha\":0.1,\"line_color\":\"#1f77b4\",\"line_dash\":[6],\"line_width\":5,\"x\":{\"field\":\"x\"},\"y\":{\"field\":\"y\"}},\"id\":\"59e1578f-da4d-431c-86ad-ef47b92352b0\",\"type\":\"Line\"},{\"attributes\":{\"axis_label\":\"cooling rate [K/day]\",\"formatter\":{\"id\":\"aae1a230-dc63-496e-8c77-1c6fd3be2903\",\"type\":\"BasicTickFormatter\"},\"plot\":{\"id\":\"bb5d46a4-55db-4e2b-93eb-e8c5be28d954\",\"subtype\":\"Figure\",\"type\":\"Plot\"},\"ticker\":{\"id\":\"5727a322-c0cf-4a07-9a64-71ff9eafb309\",\"type\":\"BasicTicker\"}},\"id\":\"819456eb-21b3-43ce-8440-69c735c0609e\",\"type\":\"LinearAxis\"},{\"attributes\":{\"source\":{\"id\":\"fedf2624-1b61-47f2-9e08-b6f6bb966f62\",\"type\":\"ColumnDataSource\"}},\"id\":\"283c0278-382d-4775-8759-195688aeab19\",\"type\":\"CDSView\"},{\"attributes\":{},\"id\":\"82e48757-539b-4006-a55d-e12b01307a48\",\"type\":\"LinearScale\"},{\"attributes\":{\"children\":[{\"id\":\"1f111bc7-8bfa-4f05-a100-511a2b1bca34\",\"type\":\"Row\"}]},\"id\":\"b16175bf-45ec-45a0-83af-7852498b98a9\",\"type\":\"Column\"},{\"attributes\":{\"below\":[{\"id\":\"819456eb-21b3-43ce-8440-69c735c0609e\",\"type\":\"LinearAxis\"}],\"left\":[{\"id\":\"2e91129d-e395-40f4-b85e-7cf293f43f4a\",\"type\":\"LinearAxis\"}],\"plot_height\":500,\"plot_width\":400,\"renderers\":[{\"id\":\"819456eb-21b3-43ce-8440-69c735c0609e\",\"type\":\"LinearAxis\"},{\"id\":\"fb671779-904e-4751-a9d5-a50ef296a975\",\"type\":\"Grid\"},{\"id\":\"2e91129d-e395-40f4-b85e-7cf293f43f4a\",\"type\":\"LinearAxis\"},{\"id\":\"2a7b658a-d363-4a72-9331-a0eb252947c6\",\"type\":\"Grid\"},{\"id\":\"46acbaa8-a2f7-4f22-b2e5-b00aff48198e\",\"type\":\"BoxAnnotation\"},{\"id\":\"39c770ea-0b03-4c5d-930a-a0711586b055\",\"type\":\"GlyphRenderer\"},{\"id\":\"a5924f22-ee5f-410b-baab-f9edb2ca443b\",\"type\":\"GlyphRenderer\"},{\"id\":\"bcf47ba4-fe5e-42e7-9976-aa277cfb8297\",\"type\":\"GlyphRenderer\"},{\"id\":\"b57e0c4f-1b75-48a7-b531-a951e03537a5\",\"type\":\"GlyphRenderer\"},{\"id\":\"82b62019-1312-4718-8bf8-3fc480a77ad9\",\"type\":\"GlyphRenderer\"}],\"title\":{\"id\":\"a46b2aa4-1443-496c-a211-625f5c49c130\",\"type\":\"Title\"},\"toolbar\":{\"id\":\"c86fab0f-4dce-4694-99d9-692ee80c4675\",\"type\":\"Toolbar\"},\"toolbar_location\":null,\"x_range\":{\"id\":\"e8a0a5fe-335c-4507-bd17-4100242de906\",\"type\":\"Range1d\"},\"x_scale\":{\"id\":\"8b133366-e542-49d7-a498-f51a8cdbc6fb\",\"type\":\"LinearScale\"},\"y_range\":{\"id\":\"c7771818-51bf-4057-ac6a-f9bf392a1524\",\"type\":\"Range1d\"},\"y_scale\":{\"id\":\"82e48757-539b-4006-a55d-e12b01307a48\",\"type\":\"LinearScale\"}},\"id\":\"bb5d46a4-55db-4e2b-93eb-e8c5be28d954\",\"subtype\":\"Figure\",\"type\":\"Plot\"}],\"root_ids\":[\"fffcc366-4e4f-4090-9bfb-f8eb8be3eebc\"]},\"title\":\"Bokeh Application\",\"version\":\"0.12.16\"}};\n",
       "  var render_items = [{\"docid\":\"c9c21849-b3d1-4e4f-bc96-70789dfe23b1\",\"elementid\":\"6f38f3de-37b3-43e6-9073-5aeee3eb1604\",\"modelid\":\"fffcc366-4e4f-4090-9bfb-f8eb8be3eebc\"}];\n",
       "  root.Bokeh.embed.embed_items_notebook(docs_json, render_items);\n",
       "\n",
       "  }\n",
       "  if (root.Bokeh !== undefined) {\n",
       "    embed_document(root);\n",
       "  } else {\n",
       "    var attempts = 0;\n",
       "    var timer = setInterval(function(root) {\n",
       "      if (root.Bokeh !== undefined) {\n",
       "        embed_document(root);\n",
       "        clearInterval(timer);\n",
       "      }\n",
       "      attempts++;\n",
       "      if (attempts > 100) {\n",
       "        console.log(\"Bokeh: ERROR: Unable to run BokehJS code because BokehJS library is missing\")\n",
       "        clearInterval(timer);\n",
       "      }\n",
       "    }, 10, root)\n",
       "  }\n",
       "})(window);"
      ],
      "application/vnd.bokehjs_exec.v0+json": ""
     },
     "metadata": {
      "application/vnd.bokehjs_exec.v0+json": {
       "id": "fffcc366-4e4f-4090-9bfb-f8eb8be3eebc"
      }
     },
     "output_type": "display_data"
    },
    {
     "name": "stdout",
     "output_type": "stream",
     "text": [
      "FIGURE. Cooling rate profiles.\n"
     ]
    },
    {
     "data": {
      "text/html": [
       "<a id=\"Flux_Comparison\"></a>"
      ],
      "text/plain": [
       "<IPython.core.display.HTML object>"
      ]
     },
     "metadata": {},
     "output_type": "display_data"
    },
    {
     "data": {
      "text/markdown": [
       "# Flux Comparison"
      ],
      "text/plain": [
       "<IPython.core.display.Markdown object>"
      ]
     },
     "metadata": {},
     "output_type": "display_data"
    },
    {
     "data": {
      "text/html": [
       "<div>\n",
       "<style scoped>\n",
       "    .dataframe tbody tr th:only-of-type {\n",
       "        vertical-align: middle;\n",
       "    }\n",
       "\n",
       "    .dataframe tbody tr th {\n",
       "        vertical-align: top;\n",
       "    }\n",
       "\n",
       "    .dataframe thead th {\n",
       "        text-align: right;\n",
       "    }\n",
       "</style>\n",
       "<table border=\"1\" class=\"dataframe\">\n",
       "  <thead>\n",
       "    <tr style=\"text-align: right;\">\n",
       "      <th></th>\n",
       "      <th></th>\n",
       "      <th>flug</th>\n",
       "      <th>fldg</th>\n",
       "      <th>fnetg</th>\n",
       "    </tr>\n",
       "    <tr>\n",
       "      <th>pressure</th>\n",
       "      <th>level</th>\n",
       "      <th></th>\n",
       "      <th></th>\n",
       "      <th></th>\n",
       "    </tr>\n",
       "  </thead>\n",
       "  <tbody>\n",
       "    <tr>\n",
       "      <th>0.0000</th>\n",
       "      <th>1</th>\n",
       "      <td>-24.866066</td>\n",
       "      <td>0.000000</td>\n",
       "      <td>-24.866066</td>\n",
       "    </tr>\n",
       "    <tr>\n",
       "      <th>1.0685</th>\n",
       "      <th>24</th>\n",
       "      <td>-24.873968</td>\n",
       "      <td>0.079315</td>\n",
       "      <td>-24.794653</td>\n",
       "    </tr>\n",
       "    <tr>\n",
       "      <th>1013.0000</th>\n",
       "      <th>76</th>\n",
       "      <td>-36.235408</td>\n",
       "      <td>34.688160</td>\n",
       "      <td>-1.547248</td>\n",
       "    </tr>\n",
       "  </tbody>\n",
       "</table>\n",
       "</div>"
      ],
      "text/plain": [
       "                      flug       fldg      fnetg\n",
       "pressure  level                                 \n",
       "0.0000    1     -24.866066   0.000000 -24.866066\n",
       "1.0685    24    -24.873968   0.079315 -24.794653\n",
       "1013.0000 76    -36.235408  34.688160  -1.547248"
      ]
     },
     "metadata": {},
     "output_type": "display_data"
    },
    {
     "name": "stdout",
     "output_type": "stream",
     "text": [
      "Table. Fluxes. CRD\n"
     ]
    },
    {
     "data": {
      "text/html": [
       "<div>\n",
       "<style scoped>\n",
       "    .dataframe tbody tr th:only-of-type {\n",
       "        vertical-align: middle;\n",
       "    }\n",
       "\n",
       "    .dataframe tbody tr th {\n",
       "        vertical-align: top;\n",
       "    }\n",
       "\n",
       "    .dataframe thead th {\n",
       "        text-align: right;\n",
       "    }\n",
       "</style>\n",
       "<table border=\"1\" class=\"dataframe\">\n",
       "  <thead>\n",
       "    <tr style=\"text-align: right;\">\n",
       "      <th></th>\n",
       "      <th></th>\n",
       "      <th>flug</th>\n",
       "      <th>fldg</th>\n",
       "      <th>fnetg</th>\n",
       "    </tr>\n",
       "    <tr>\n",
       "      <th>pressure</th>\n",
       "      <th>level</th>\n",
       "      <th></th>\n",
       "      <th></th>\n",
       "      <th></th>\n",
       "    </tr>\n",
       "  </thead>\n",
       "  <tbody>\n",
       "    <tr>\n",
       "      <th>0.0000</th>\n",
       "      <th>1</th>\n",
       "      <td>-24.998615</td>\n",
       "      <td>0.000000</td>\n",
       "      <td>-24.998615</td>\n",
       "    </tr>\n",
       "    <tr>\n",
       "      <th>1.0685</th>\n",
       "      <th>24</th>\n",
       "      <td>-25.004653</td>\n",
       "      <td>0.073619</td>\n",
       "      <td>-24.931034</td>\n",
       "    </tr>\n",
       "    <tr>\n",
       "      <th>1013.0000</th>\n",
       "      <th>76</th>\n",
       "      <td>-36.235408</td>\n",
       "      <td>34.199172</td>\n",
       "      <td>-2.036236</td>\n",
       "    </tr>\n",
       "  </tbody>\n",
       "</table>\n",
       "</div>"
      ],
      "text/plain": [
       "                      flug       fldg      fnetg\n",
       "pressure  level                                 \n",
       "0.0000    1     -24.998615   0.000000 -24.998615\n",
       "1.0685    24    -25.004653   0.073619 -24.931034\n",
       "1013.0000 76    -36.235408  34.199172  -2.036236"
      ]
     },
     "metadata": {},
     "output_type": "display_data"
    },
    {
     "name": "stdout",
     "output_type": "stream",
     "text": [
      "Table. Fluxes. WGT igg=10 wgt_flux=1\n"
     ]
    },
    {
     "data": {
      "text/html": [
       "<div>\n",
       "<style scoped>\n",
       "    .dataframe tbody tr th:only-of-type {\n",
       "        vertical-align: middle;\n",
       "    }\n",
       "\n",
       "    .dataframe tbody tr th {\n",
       "        vertical-align: top;\n",
       "    }\n",
       "\n",
       "    .dataframe thead th {\n",
       "        text-align: right;\n",
       "    }\n",
       "</style>\n",
       "<table border=\"1\" class=\"dataframe\">\n",
       "  <thead>\n",
       "    <tr style=\"text-align: right;\">\n",
       "      <th></th>\n",
       "      <th></th>\n",
       "      <th>flug</th>\n",
       "      <th>fldg</th>\n",
       "      <th>fnetg</th>\n",
       "    </tr>\n",
       "    <tr>\n",
       "      <th>pressure</th>\n",
       "      <th>level</th>\n",
       "      <th></th>\n",
       "      <th></th>\n",
       "      <th></th>\n",
       "    </tr>\n",
       "  </thead>\n",
       "  <tbody>\n",
       "    <tr>\n",
       "      <th>1.000000e-08</th>\n",
       "      <th>1</th>\n",
       "      <td>-25.174808</td>\n",
       "      <td>0.000002</td>\n",
       "      <td>-25.174806</td>\n",
       "    </tr>\n",
       "    <tr>\n",
       "      <th>1.068500e+00</th>\n",
       "      <th>24</th>\n",
       "      <td>-25.180184</td>\n",
       "      <td>0.070583</td>\n",
       "      <td>-25.109600</td>\n",
       "    </tr>\n",
       "    <tr>\n",
       "      <th>1.013000e+03</th>\n",
       "      <th>76</th>\n",
       "      <td>-36.235410</td>\n",
       "      <td>34.391240</td>\n",
       "      <td>-1.844170</td>\n",
       "    </tr>\n",
       "  </tbody>\n",
       "</table>\n",
       "</div>"
      ],
      "text/plain": [
       "                         flug       fldg      fnetg\n",
       "pressure     level                                 \n",
       "1.000000e-08 1     -25.174808   0.000002 -25.174806\n",
       "1.068500e+00 24    -25.180184   0.070583 -25.109600\n",
       "1.013000e+03 76    -36.235410  34.391240  -1.844170"
      ]
     },
     "metadata": {},
     "output_type": "display_data"
    },
    {
     "name": "stdout",
     "output_type": "stream",
     "text": [
      "Table. Fluxes. CLIRAD\n"
     ]
    },
    {
     "data": {
      "text/html": [
       "<div>\n",
       "<style scoped>\n",
       "    .dataframe tbody tr th:only-of-type {\n",
       "        vertical-align: middle;\n",
       "    }\n",
       "\n",
       "    .dataframe tbody tr th {\n",
       "        vertical-align: top;\n",
       "    }\n",
       "\n",
       "    .dataframe thead th {\n",
       "        text-align: right;\n",
       "    }\n",
       "</style>\n",
       "<table border=\"1\" class=\"dataframe\">\n",
       "  <thead>\n",
       "    <tr style=\"text-align: right;\">\n",
       "      <th></th>\n",
       "      <th></th>\n",
       "      <th>flug</th>\n",
       "      <th>fldg</th>\n",
       "      <th>fnetg</th>\n",
       "    </tr>\n",
       "    <tr>\n",
       "      <th>pressure</th>\n",
       "      <th>level</th>\n",
       "      <th></th>\n",
       "      <th></th>\n",
       "      <th></th>\n",
       "    </tr>\n",
       "  </thead>\n",
       "  <tbody>\n",
       "    <tr>\n",
       "      <th>0.0000</th>\n",
       "      <th>1</th>\n",
       "      <td>-0.132549</td>\n",
       "      <td>0.000000</td>\n",
       "      <td>-0.132549</td>\n",
       "    </tr>\n",
       "    <tr>\n",
       "      <th>1.0685</th>\n",
       "      <th>24</th>\n",
       "      <td>-0.130685</td>\n",
       "      <td>-0.005695</td>\n",
       "      <td>-0.136381</td>\n",
       "    </tr>\n",
       "    <tr>\n",
       "      <th>1013.0000</th>\n",
       "      <th>76</th>\n",
       "      <td>0.000000</td>\n",
       "      <td>-0.488988</td>\n",
       "      <td>-0.488989</td>\n",
       "    </tr>\n",
       "  </tbody>\n",
       "</table>\n",
       "</div>"
      ],
      "text/plain": [
       "                     flug      fldg     fnetg\n",
       "pressure  level                              \n",
       "0.0000    1     -0.132549  0.000000 -0.132549\n",
       "1.0685    24    -0.130685 -0.005695 -0.136381\n",
       "1013.0000 76     0.000000 -0.488988 -0.488989"
      ]
     },
     "metadata": {},
     "output_type": "display_data"
    },
    {
     "name": "stdout",
     "output_type": "stream",
     "text": [
      "Table. Fluxes. (WGT igg=10 wgt_flux=1) - (CRD)\n"
     ]
    },
    {
     "data": {
      "text/html": [
       "<div>\n",
       "<style scoped>\n",
       "    .dataframe tbody tr th:only-of-type {\n",
       "        vertical-align: middle;\n",
       "    }\n",
       "\n",
       "    .dataframe tbody tr th {\n",
       "        vertical-align: top;\n",
       "    }\n",
       "\n",
       "    .dataframe thead th {\n",
       "        text-align: right;\n",
       "    }\n",
       "</style>\n",
       "<table border=\"1\" class=\"dataframe\">\n",
       "  <thead>\n",
       "    <tr style=\"text-align: right;\">\n",
       "      <th></th>\n",
       "      <th></th>\n",
       "      <th>flug</th>\n",
       "      <th>fldg</th>\n",
       "      <th>fnetg</th>\n",
       "    </tr>\n",
       "    <tr>\n",
       "      <th>pressure</th>\n",
       "      <th>level</th>\n",
       "      <th></th>\n",
       "      <th></th>\n",
       "      <th></th>\n",
       "    </tr>\n",
       "  </thead>\n",
       "  <tbody>\n",
       "    <tr>\n",
       "      <th>0.0000</th>\n",
       "      <th>1</th>\n",
       "      <td>-0.308742</td>\n",
       "      <td>0.000002</td>\n",
       "      <td>-0.308740</td>\n",
       "    </tr>\n",
       "    <tr>\n",
       "      <th>1.0685</th>\n",
       "      <th>24</th>\n",
       "      <td>-0.306216</td>\n",
       "      <td>-0.008731</td>\n",
       "      <td>-0.314947</td>\n",
       "    </tr>\n",
       "    <tr>\n",
       "      <th>1013.0000</th>\n",
       "      <th>76</th>\n",
       "      <td>-0.000002</td>\n",
       "      <td>-0.296920</td>\n",
       "      <td>-0.296923</td>\n",
       "    </tr>\n",
       "  </tbody>\n",
       "</table>\n",
       "</div>"
      ],
      "text/plain": [
       "                     flug      fldg     fnetg\n",
       "pressure  level                              \n",
       "0.0000    1     -0.308742  0.000002 -0.308740\n",
       "1.0685    24    -0.306216 -0.008731 -0.314947\n",
       "1013.0000 76    -0.000002 -0.296920 -0.296923"
      ]
     },
     "metadata": {},
     "output_type": "display_data"
    },
    {
     "name": "stdout",
     "output_type": "stream",
     "text": [
      "Table. Fluxes. (CLIRAD) - (CRD)\n"
     ]
    },
    {
     "data": {
      "text/html": [
       "<a id=\"Best-fit_Parameters\"></a>"
      ],
      "text/plain": [
       "<IPython.core.display.HTML object>"
      ]
     },
     "metadata": {},
     "output_type": "display_data"
    },
    {
     "data": {
      "text/markdown": [
       "# Best-fit Parameters"
      ],
      "text/plain": [
       "<IPython.core.display.Markdown object>"
      ]
     },
     "metadata": {},
     "output_type": "display_data"
    },
    {
     "name": "stdout",
     "output_type": "stream",
     "text": [
      "Best-fit values for each (gas, band)\n",
      "------------------------------------\n",
      "o h2o band3a\n",
      "  atmpro = mls\n",
      "  band = 3a\n",
      "  commitnumber = a06b618\n",
      "  conc = None\n",
      "  dv = 0.001\n",
      "  klin = 0\n",
      "  molecule = h2o\n",
      "  ng_adju = [0, 0]\n",
      "  ng_refs = [2, 6]\n",
      "  nv = 1000\n",
      "  option_compute_btable = 0\n",
      "  option_compute_ktable = 1\n",
      "  option_wgt_flux = 1\n",
      "  option_wgt_k = 1\n",
      "  ref_pts = [(10, 250), (600, 250)]\n",
      "  tsfc = 294\n",
      "  vmax = 620\n",
      "  vmin = 540\n",
      "  w_diffuse = [(1.9, 1.7), (1.4, 1.4, 1.4, 1.55, 1.6, 1.66)]\n",
      "  wgt = [(0.7, 0.7), (0.7, 0.5, 0.5, 0.5, 0.5, 0.5)]\n",
      "o co2 band3a\n",
      "  atmpro = mls\n",
      "  band = 3a\n",
      "  commitnumber = a06b618\n",
      "  conc = 0.0004\n",
      "  dv = 0.001\n",
      "  klin = 6.375563e-24\n",
      "  molecule = co2\n",
      "  ng_adju = [0, 0, 0]\n",
      "  ng_refs = [3, 2, 4]\n",
      "  nv = 1000\n",
      "  option_compute_btable = 0\n",
      "  option_compute_ktable = 1\n",
      "  option_wgt_flux = 1\n",
      "  option_wgt_k = 1\n",
      "  ref_pts = [(1, 250), (10, 250), (500, 250)]\n",
      "  tsfc = 294\n",
      "  vmax = 620\n",
      "  vmin = 540\n",
      "  w_diffuse = [(1.6, 1.6, 1.7), (1.75, 1.75), (1.55, 1.55, 1.6, 1.85)]\n",
      "  wgt = [(0.7, 0.3, 0.7), (0.7, 0.6), (0.4, 0.5, 0.8, 0.95)]\n",
      "o n2o band3a\n",
      "  atmpro = mls\n",
      "  band = 3a\n",
      "  commitnumber = a06b618\n",
      "  conc = 3.2e-07\n",
      "  dv = 0.001\n",
      "  klin = 2.22e-20\n",
      "  molecule = n2o\n",
      "  ng_adju = [0, 0]\n",
      "  ng_refs = [1, 2]\n",
      "  nv = 1000\n",
      "  option_compute_btable = 0\n",
      "  option_compute_ktable = 1\n",
      "  option_wgt_flux = 1\n",
      "  option_wgt_k = 1\n",
      "  ref_pts = [(1, 250), (500, 250)]\n",
      "  tsfc = 294\n",
      "  vmax = 620\n",
      "  vmin = 540\n",
      "  w_diffuse = [(1.8,), (1.66, 1.8)]\n",
      "  wgt = [(0.9,), (0.5, 0.95)]\n"
     ]
    }
   ],
   "source": [
    "script()"
   ]
  },
  {
   "cell_type": "code",
   "execution_count": 13,
   "metadata": {
    "collapsed": true
   },
   "outputs": [
    {
     "data": {
      "text/html": [
       "<script>\n",
       "code_show=true; \n",
       "function code_toggle() {\n",
       " if (code_show){\n",
       " $('div.input').hide();\n",
       " } else {\n",
       " $('div.input').show();\n",
       " }\n",
       " code_show = !code_show\n",
       "} \n",
       "$( document ).ready(code_toggle);\n",
       "</script>\n",
       "<form action=\"javascript:code_toggle()\"><input type=\"submit\" value=\"Click here to toggle on/off the raw code.\"></form>"
      ],
      "text/plain": [
       "<IPython.core.display.HTML object>"
      ]
     },
     "execution_count": 13,
     "metadata": {},
     "output_type": "execute_result"
    }
   ],
   "source": [
    "display.HTML('''<script>\n",
    "code_show=true; \n",
    "function code_toggle() {\n",
    " if (code_show){\n",
    " $('div.input').hide();\n",
    " } else {\n",
    " $('div.input').show();\n",
    " }\n",
    " code_show = !code_show\n",
    "} \n",
    "$( document ).ready(code_toggle);\n",
    "</script>\n",
    "<form action=\"javascript:code_toggle()\"><input type=\"submit\" value=\"Click here to toggle on/off the raw code.\"></form>''')"
   ]
  }
 ],
 "metadata": {
  "kernelspec": {
   "display_name": "Python 3",
   "language": "python",
   "name": "python3"
  },
  "language_info": {
   "codemirror_mode": {
    "name": "ipython",
    "version": 3
   },
   "file_extension": ".py",
   "mimetype": "text/x-python",
   "name": "python",
   "nbconvert_exporter": "python",
   "pygments_lexer": "ipython3",
   "version": "3.6.1"
  }
 },
 "nbformat": 4,
 "nbformat_minor": 2
}
