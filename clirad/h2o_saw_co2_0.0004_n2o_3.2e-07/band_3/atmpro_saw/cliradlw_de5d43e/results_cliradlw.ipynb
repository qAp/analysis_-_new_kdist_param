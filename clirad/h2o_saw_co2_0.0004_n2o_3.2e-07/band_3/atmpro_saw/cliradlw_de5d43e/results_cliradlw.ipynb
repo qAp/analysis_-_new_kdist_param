{
 "cells": [
  {
   "cell_type": "code",
   "execution_count": 1,
   "metadata": {
    "collapsed": true
   },
   "outputs": [],
   "source": [
    "%matplotlib inline\n",
    "import os\n",
    "import re\n",
    "import io\n",
    "import itertools\n",
    "import pprint\n",
    "\n",
    "from bokeh.io import output_notebook, show\n",
    "from bokeh.layouts import gridplot\n",
    "from bokeh.plotting import figure\n",
    "from bokeh.models import Range1d, Legend\n",
    "from bokeh.palettes import all_palettes\n",
    "\n",
    "import matplotlib\n",
    "import matplotlib.pyplot as plt\n",
    "import numpy as np\n",
    "import pandas as pd\n",
    "import xarray as xr\n",
    "\n",
    "import climatools.lblnew.bestfit_params as bestfits\n",
    "from climatools.lblnew import setup_bestfit, setup_overlap\n",
    "import climatools.lblnew.pipeline as pipe_lblnew\n",
    "import climatools.cliradlw.setup as setup_cliradlw\n",
    "import climatools.cliradlw.pipeline as pipe_cliradlw\n",
    "\n",
    "import climatools.html.html as climahtml\n",
    "from climatools.lblnew.dataio import *\n",
    "from climatools.plot.plot import *\n",
    "\n",
    "\n",
    "import IPython.display as display"
   ]
  },
  {
   "cell_type": "code",
   "execution_count": 2,
   "metadata": {
    "collapsed": true
   },
   "outputs": [],
   "source": [
    "%run param.py"
   ]
  },
  {
   "cell_type": "code",
   "execution_count": 3,
   "metadata": {
    "collapsed": true
   },
   "outputs": [],
   "source": [
    "def load_output_file(path_csv):\n",
    "    '''\n",
    "    Load lblnew output .csv file to xarray.Dataset\n",
    "    \n",
    "    Parameters\n",
    "    ----------\n",
    "    path_csv: str\n",
    "              Path to the .csv file to be loaded.\n",
    "    ds: xarray.Dataset\n",
    "        Data in the input file in the form of an xarray.Dataset.\n",
    "    '''\n",
    "    toindex = ['band', 'pressure', 'igg', 'g']    \n",
    "    df = pd.read_csv(path_csv, sep=r'\\s+')\n",
    "    df = df.set_index([i for i in toindex if i in df.columns])\n",
    "    df = df.rename(columns={'sfu': 'flug',\n",
    "                            'sfd': 'fldg',\n",
    "                            'fnet': 'fnetg',\n",
    "                            'coolr': 'coolrg'})\n",
    "    ds = xr.Dataset.from_dataframe(df)\n",
    "\n",
    "    for l in ('level', 'layer'):\n",
    "        if l in ds.data_vars:\n",
    "            if len(ds[l].dims) > 1:\n",
    "                surface = {d: 0 for d in ds.dims if d != 'pressure'}\n",
    "                coord_level = ds[l][surface]\n",
    "                ds.coords[l] = ('pressure', coord_level)\n",
    "            else:\n",
    "                ds.coords[l] = ('pressure', ds[l])\n",
    "    \n",
    "    return ds"
   ]
  },
  {
   "cell_type": "code",
   "execution_count": 4,
   "metadata": {
    "collapsed": true
   },
   "outputs": [],
   "source": [
    "def lblnew_setup(param=None):\n",
    "    if 'ng_refs' in param:\n",
    "        return {'setup': setup_bestfit,\n",
    "                'fname_flux_crd': 'output_flux.dat',\n",
    "                'fname_cool_crd': 'output_coolr.dat',\n",
    "                'fname_flux_wgt': 'output_wfluxg.dat',\n",
    "                'fname_cool_wgt': 'output_wcoolrg.dat'}\n",
    "    else:\n",
    "        return {'setup': setup_overlap,\n",
    "                'fname_flux_crd': 'output_flux.dat',\n",
    "                'fname_cool_crd': 'output_coolr.dat',\n",
    "                'fname_flux_wgt': 'output_wflux.dat',\n",
    "                'fname_cool_wgt': 'output_wcoolr.dat'}\n",
    "\n",
    "    \n",
    "def load_lblnew_data(param):\n",
    "    \n",
    "    fname_dsname = [('fname_flux_crd', 'ds_flux_crd'),\n",
    "                    ('fname_cool_crd', 'ds_cool_crd'),\n",
    "                    ('fname_flux_wgt', 'ds_flux_wgt'),\n",
    "                    ('fname_cool_wgt', 'ds_cool_wgt')]\n",
    "    \n",
    "    d = lblnew_setup(param)\n",
    "    dir_fortran = pipe_lblnew.get_dir_case(param, setup=d['setup'])\n",
    "    \n",
    "    data_dict = {}\n",
    "    for fname, dsname in fname_dsname:\n",
    "        fpath = os.path.join(dir_fortran, d[fname])\n",
    "        data_dict[dsname] = load_output_file(fpath)\n",
    "    return data_dict\n",
    "    \n",
    "\n",
    "    \n",
    "    "
   ]
  },
  {
   "cell_type": "code",
   "execution_count": 5,
   "metadata": {
    "collapsed": true
   },
   "outputs": [],
   "source": [
    "d = load_lblnew_data(PARAM_LBLNEW)\n",
    "\n",
    "DS_FLUX_CRD = d['ds_flux_crd']\n",
    "DS_COOL_CRD = d['ds_cool_crd']\n",
    "DS_FLUX_WGT = d['ds_flux_wgt']\n",
    "DS_COOL_WGT = d['ds_cool_wgt']"
   ]
  },
  {
   "cell_type": "code",
   "execution_count": 6,
   "metadata": {
    "collapsed": true
   },
   "outputs": [],
   "source": [
    "DIR_FORTRAN = pipe_cliradlw.get_fortran_dir(PARAM, \n",
    "                                            setup=setup_cliradlw)\n",
    "\n",
    "PATH_FLUX = os.path.join(DIR_FORTRAN, 'output_flux.dat')\n",
    "PATH_COOL = os.path.join(DIR_FORTRAN, 'output_coolr.dat')\n",
    "\n",
    "DS_FLUX = load_output_file(PATH_FLUX)\n",
    "DS_COOL = load_output_file(PATH_COOL)"
   ]
  },
  {
   "cell_type": "code",
   "execution_count": 7,
   "metadata": {
    "collapsed": true
   },
   "outputs": [
    {
     "name": "stdout",
     "output_type": "stream",
     "text": [
      "The history saving thread hit an unexpected error (OperationalError('database is locked',)).History will not be written to the database.\n"
     ]
    },
    {
     "data": {
      "text/html": [
       "\n",
       "    <div class=\"bk-root\">\n",
       "        <a href=\"https://bokeh.pydata.org\" target=\"_blank\" class=\"bk-logo bk-logo-small bk-logo-notebook\"></a>\n",
       "        <span id=\"c02cecf6-9365-42bf-a190-5997f62c48c7\">Loading BokehJS ...</span>\n",
       "    </div>"
      ]
     },
     "metadata": {},
     "output_type": "display_data"
    },
    {
     "data": {
      "application/javascript": [
       "\n",
       "(function(root) {\n",
       "  function now() {\n",
       "    return new Date();\n",
       "  }\n",
       "\n",
       "  var force = true;\n",
       "\n",
       "  if (typeof (root._bokeh_onload_callbacks) === \"undefined\" || force === true) {\n",
       "    root._bokeh_onload_callbacks = [];\n",
       "    root._bokeh_is_loading = undefined;\n",
       "  }\n",
       "\n",
       "  var JS_MIME_TYPE = 'application/javascript';\n",
       "  var HTML_MIME_TYPE = 'text/html';\n",
       "  var EXEC_MIME_TYPE = 'application/vnd.bokehjs_exec.v0+json';\n",
       "  var CLASS_NAME = 'output_bokeh rendered_html';\n",
       "\n",
       "  /**\n",
       "   * Render data to the DOM node\n",
       "   */\n",
       "  function render(props, node) {\n",
       "    var script = document.createElement(\"script\");\n",
       "    node.appendChild(script);\n",
       "  }\n",
       "\n",
       "  /**\n",
       "   * Handle when an output is cleared or removed\n",
       "   */\n",
       "  function handleClearOutput(event, handle) {\n",
       "    var cell = handle.cell;\n",
       "\n",
       "    var id = cell.output_area._bokeh_element_id;\n",
       "    var server_id = cell.output_area._bokeh_server_id;\n",
       "    // Clean up Bokeh references\n",
       "    if (id !== undefined) {\n",
       "      Bokeh.index[id].model.document.clear();\n",
       "      delete Bokeh.index[id];\n",
       "    }\n",
       "\n",
       "    if (server_id !== undefined) {\n",
       "      // Clean up Bokeh references\n",
       "      var cmd = \"from bokeh.io.state import curstate; print(curstate().uuid_to_server['\" + server_id + \"'].get_sessions()[0].document.roots[0]._id)\";\n",
       "      cell.notebook.kernel.execute(cmd, {\n",
       "        iopub: {\n",
       "          output: function(msg) {\n",
       "            var element_id = msg.content.text.trim();\n",
       "            Bokeh.index[element_id].model.document.clear();\n",
       "            delete Bokeh.index[element_id];\n",
       "          }\n",
       "        }\n",
       "      });\n",
       "      // Destroy server and session\n",
       "      var cmd = \"import bokeh.io.notebook as ion; ion.destroy_server('\" + server_id + \"')\";\n",
       "      cell.notebook.kernel.execute(cmd);\n",
       "    }\n",
       "  }\n",
       "\n",
       "  /**\n",
       "   * Handle when a new output is added\n",
       "   */\n",
       "  function handleAddOutput(event, handle) {\n",
       "    var output_area = handle.output_area;\n",
       "    var output = handle.output;\n",
       "\n",
       "    // limit handleAddOutput to display_data with EXEC_MIME_TYPE content only\n",
       "    if ((output.output_type != \"display_data\") || (!output.data.hasOwnProperty(EXEC_MIME_TYPE))) {\n",
       "      return\n",
       "    }\n",
       "\n",
       "    var toinsert = output_area.element.find(\".\" + CLASS_NAME.split(' ')[0]);\n",
       "\n",
       "    if (output.metadata[EXEC_MIME_TYPE][\"id\"] !== undefined) {\n",
       "      toinsert[toinsert.length - 1].firstChild.textContent = output.data[JS_MIME_TYPE];\n",
       "      // store reference to embed id on output_area\n",
       "      output_area._bokeh_element_id = output.metadata[EXEC_MIME_TYPE][\"id\"];\n",
       "    }\n",
       "    if (output.metadata[EXEC_MIME_TYPE][\"server_id\"] !== undefined) {\n",
       "      var bk_div = document.createElement(\"div\");\n",
       "      bk_div.innerHTML = output.data[HTML_MIME_TYPE];\n",
       "      var script_attrs = bk_div.children[0].attributes;\n",
       "      for (var i = 0; i < script_attrs.length; i++) {\n",
       "        toinsert[toinsert.length - 1].firstChild.setAttribute(script_attrs[i].name, script_attrs[i].value);\n",
       "      }\n",
       "      // store reference to server id on output_area\n",
       "      output_area._bokeh_server_id = output.metadata[EXEC_MIME_TYPE][\"server_id\"];\n",
       "    }\n",
       "  }\n",
       "\n",
       "  function register_renderer(events, OutputArea) {\n",
       "\n",
       "    function append_mime(data, metadata, element) {\n",
       "      // create a DOM node to render to\n",
       "      var toinsert = this.create_output_subarea(\n",
       "        metadata,\n",
       "        CLASS_NAME,\n",
       "        EXEC_MIME_TYPE\n",
       "      );\n",
       "      this.keyboard_manager.register_events(toinsert);\n",
       "      // Render to node\n",
       "      var props = {data: data, metadata: metadata[EXEC_MIME_TYPE]};\n",
       "      render(props, toinsert[toinsert.length - 1]);\n",
       "      element.append(toinsert);\n",
       "      return toinsert\n",
       "    }\n",
       "\n",
       "    /* Handle when an output is cleared or removed */\n",
       "    events.on('clear_output.CodeCell', handleClearOutput);\n",
       "    events.on('delete.Cell', handleClearOutput);\n",
       "\n",
       "    /* Handle when a new output is added */\n",
       "    events.on('output_added.OutputArea', handleAddOutput);\n",
       "\n",
       "    /**\n",
       "     * Register the mime type and append_mime function with output_area\n",
       "     */\n",
       "    OutputArea.prototype.register_mime_type(EXEC_MIME_TYPE, append_mime, {\n",
       "      /* Is output safe? */\n",
       "      safe: true,\n",
       "      /* Index of renderer in `output_area.display_order` */\n",
       "      index: 0\n",
       "    });\n",
       "  }\n",
       "\n",
       "  // register the mime type if in Jupyter Notebook environment and previously unregistered\n",
       "  if (root.Jupyter !== undefined) {\n",
       "    var events = require('base/js/events');\n",
       "    var OutputArea = require('notebook/js/outputarea').OutputArea;\n",
       "\n",
       "    if (OutputArea.prototype.mime_types().indexOf(EXEC_MIME_TYPE) == -1) {\n",
       "      register_renderer(events, OutputArea);\n",
       "    }\n",
       "  }\n",
       "\n",
       "  \n",
       "  if (typeof (root._bokeh_timeout) === \"undefined\" || force === true) {\n",
       "    root._bokeh_timeout = Date.now() + 5000;\n",
       "    root._bokeh_failed_load = false;\n",
       "  }\n",
       "\n",
       "  var NB_LOAD_WARNING = {'data': {'text/html':\n",
       "     \"<div style='background-color: #fdd'>\\n\"+\n",
       "     \"<p>\\n\"+\n",
       "     \"BokehJS does not appear to have successfully loaded. If loading BokehJS from CDN, this \\n\"+\n",
       "     \"may be due to a slow or bad network connection. Possible fixes:\\n\"+\n",
       "     \"</p>\\n\"+\n",
       "     \"<ul>\\n\"+\n",
       "     \"<li>re-rerun `output_notebook()` to attempt to load from CDN again, or</li>\\n\"+\n",
       "     \"<li>use INLINE resources instead, as so:</li>\\n\"+\n",
       "     \"</ul>\\n\"+\n",
       "     \"<code>\\n\"+\n",
       "     \"from bokeh.resources import INLINE\\n\"+\n",
       "     \"output_notebook(resources=INLINE)\\n\"+\n",
       "     \"</code>\\n\"+\n",
       "     \"</div>\"}};\n",
       "\n",
       "  function display_loaded() {\n",
       "    var el = document.getElementById(\"c02cecf6-9365-42bf-a190-5997f62c48c7\");\n",
       "    if (el != null) {\n",
       "      el.textContent = \"BokehJS is loading...\";\n",
       "    }\n",
       "    if (root.Bokeh !== undefined) {\n",
       "      if (el != null) {\n",
       "        el.textContent = \"BokehJS \" + root.Bokeh.version + \" successfully loaded.\";\n",
       "      }\n",
       "    } else if (Date.now() < root._bokeh_timeout) {\n",
       "      setTimeout(display_loaded, 100)\n",
       "    }\n",
       "  }\n",
       "\n",
       "\n",
       "  function run_callbacks() {\n",
       "    try {\n",
       "      root._bokeh_onload_callbacks.forEach(function(callback) { callback() });\n",
       "    }\n",
       "    finally {\n",
       "      delete root._bokeh_onload_callbacks\n",
       "    }\n",
       "    console.info(\"Bokeh: all callbacks have finished\");\n",
       "  }\n",
       "\n",
       "  function load_libs(js_urls, callback) {\n",
       "    root._bokeh_onload_callbacks.push(callback);\n",
       "    if (root._bokeh_is_loading > 0) {\n",
       "      console.log(\"Bokeh: BokehJS is being loaded, scheduling callback at\", now());\n",
       "      return null;\n",
       "    }\n",
       "    if (js_urls == null || js_urls.length === 0) {\n",
       "      run_callbacks();\n",
       "      return null;\n",
       "    }\n",
       "    console.log(\"Bokeh: BokehJS not loaded, scheduling load and callback at\", now());\n",
       "    root._bokeh_is_loading = js_urls.length;\n",
       "    for (var i = 0; i < js_urls.length; i++) {\n",
       "      var url = js_urls[i];\n",
       "      var s = document.createElement('script');\n",
       "      s.src = url;\n",
       "      s.async = false;\n",
       "      s.onreadystatechange = s.onload = function() {\n",
       "        root._bokeh_is_loading--;\n",
       "        if (root._bokeh_is_loading === 0) {\n",
       "          console.log(\"Bokeh: all BokehJS libraries loaded\");\n",
       "          run_callbacks()\n",
       "        }\n",
       "      };\n",
       "      s.onerror = function() {\n",
       "        console.warn(\"failed to load library \" + url);\n",
       "      };\n",
       "      console.log(\"Bokeh: injecting script tag for BokehJS library: \", url);\n",
       "      document.getElementsByTagName(\"head\")[0].appendChild(s);\n",
       "    }\n",
       "  };var element = document.getElementById(\"c02cecf6-9365-42bf-a190-5997f62c48c7\");\n",
       "  if (element == null) {\n",
       "    console.log(\"Bokeh: ERROR: autoload.js configured with elementid 'c02cecf6-9365-42bf-a190-5997f62c48c7' but no matching script tag was found. \")\n",
       "    return false;\n",
       "  }\n",
       "\n",
       "  var js_urls = [\"https://cdn.pydata.org/bokeh/release/bokeh-0.12.16.min.js\", \"https://cdn.pydata.org/bokeh/release/bokeh-widgets-0.12.16.min.js\", \"https://cdn.pydata.org/bokeh/release/bokeh-tables-0.12.16.min.js\", \"https://cdn.pydata.org/bokeh/release/bokeh-gl-0.12.16.min.js\"];\n",
       "\n",
       "  var inline_js = [\n",
       "    function(Bokeh) {\n",
       "      Bokeh.set_log_level(\"info\");\n",
       "    },\n",
       "    \n",
       "    function(Bokeh) {\n",
       "      \n",
       "    },\n",
       "    function(Bokeh) {\n",
       "      console.log(\"Bokeh: injecting CSS: https://cdn.pydata.org/bokeh/release/bokeh-0.12.16.min.css\");\n",
       "      Bokeh.embed.inject_css(\"https://cdn.pydata.org/bokeh/release/bokeh-0.12.16.min.css\");\n",
       "      console.log(\"Bokeh: injecting CSS: https://cdn.pydata.org/bokeh/release/bokeh-widgets-0.12.16.min.css\");\n",
       "      Bokeh.embed.inject_css(\"https://cdn.pydata.org/bokeh/release/bokeh-widgets-0.12.16.min.css\");\n",
       "      console.log(\"Bokeh: injecting CSS: https://cdn.pydata.org/bokeh/release/bokeh-tables-0.12.16.min.css\");\n",
       "      Bokeh.embed.inject_css(\"https://cdn.pydata.org/bokeh/release/bokeh-tables-0.12.16.min.css\");\n",
       "    }\n",
       "  ];\n",
       "\n",
       "  function run_inline_js() {\n",
       "    \n",
       "    if ((root.Bokeh !== undefined) || (force === true)) {\n",
       "      for (var i = 0; i < inline_js.length; i++) {\n",
       "        inline_js[i].call(root, root.Bokeh);\n",
       "      }if (force === true) {\n",
       "        display_loaded();\n",
       "      }} else if (Date.now() < root._bokeh_timeout) {\n",
       "      setTimeout(run_inline_js, 100);\n",
       "    } else if (!root._bokeh_failed_load) {\n",
       "      console.log(\"Bokeh: BokehJS failed to load within specified timeout.\");\n",
       "      root._bokeh_failed_load = true;\n",
       "    } else if (force !== true) {\n",
       "      var cell = $(document.getElementById(\"c02cecf6-9365-42bf-a190-5997f62c48c7\")).parents('.cell').data().cell;\n",
       "      cell.output_area.append_execute_result(NB_LOAD_WARNING)\n",
       "    }\n",
       "\n",
       "  }\n",
       "\n",
       "  if (root._bokeh_is_loading === 0) {\n",
       "    console.log(\"Bokeh: BokehJS loaded, going straight to plotting\");\n",
       "    run_inline_js();\n",
       "  } else {\n",
       "    load_libs(js_urls, function() {\n",
       "      console.log(\"Bokeh: BokehJS plotting callback run at\", now());\n",
       "      run_inline_js();\n",
       "    });\n",
       "  }\n",
       "}(window));"
      ],
      "application/vnd.bokehjs_load.v0+json": "\n(function(root) {\n  function now() {\n    return new Date();\n  }\n\n  var force = true;\n\n  if (typeof (root._bokeh_onload_callbacks) === \"undefined\" || force === true) {\n    root._bokeh_onload_callbacks = [];\n    root._bokeh_is_loading = undefined;\n  }\n\n  \n\n  \n  if (typeof (root._bokeh_timeout) === \"undefined\" || force === true) {\n    root._bokeh_timeout = Date.now() + 5000;\n    root._bokeh_failed_load = false;\n  }\n\n  var NB_LOAD_WARNING = {'data': {'text/html':\n     \"<div style='background-color: #fdd'>\\n\"+\n     \"<p>\\n\"+\n     \"BokehJS does not appear to have successfully loaded. If loading BokehJS from CDN, this \\n\"+\n     \"may be due to a slow or bad network connection. Possible fixes:\\n\"+\n     \"</p>\\n\"+\n     \"<ul>\\n\"+\n     \"<li>re-rerun `output_notebook()` to attempt to load from CDN again, or</li>\\n\"+\n     \"<li>use INLINE resources instead, as so:</li>\\n\"+\n     \"</ul>\\n\"+\n     \"<code>\\n\"+\n     \"from bokeh.resources import INLINE\\n\"+\n     \"output_notebook(resources=INLINE)\\n\"+\n     \"</code>\\n\"+\n     \"</div>\"}};\n\n  function display_loaded() {\n    var el = document.getElementById(\"c02cecf6-9365-42bf-a190-5997f62c48c7\");\n    if (el != null) {\n      el.textContent = \"BokehJS is loading...\";\n    }\n    if (root.Bokeh !== undefined) {\n      if (el != null) {\n        el.textContent = \"BokehJS \" + root.Bokeh.version + \" successfully loaded.\";\n      }\n    } else if (Date.now() < root._bokeh_timeout) {\n      setTimeout(display_loaded, 100)\n    }\n  }\n\n\n  function run_callbacks() {\n    try {\n      root._bokeh_onload_callbacks.forEach(function(callback) { callback() });\n    }\n    finally {\n      delete root._bokeh_onload_callbacks\n    }\n    console.info(\"Bokeh: all callbacks have finished\");\n  }\n\n  function load_libs(js_urls, callback) {\n    root._bokeh_onload_callbacks.push(callback);\n    if (root._bokeh_is_loading > 0) {\n      console.log(\"Bokeh: BokehJS is being loaded, scheduling callback at\", now());\n      return null;\n    }\n    if (js_urls == null || js_urls.length === 0) {\n      run_callbacks();\n      return null;\n    }\n    console.log(\"Bokeh: BokehJS not loaded, scheduling load and callback at\", now());\n    root._bokeh_is_loading = js_urls.length;\n    for (var i = 0; i < js_urls.length; i++) {\n      var url = js_urls[i];\n      var s = document.createElement('script');\n      s.src = url;\n      s.async = false;\n      s.onreadystatechange = s.onload = function() {\n        root._bokeh_is_loading--;\n        if (root._bokeh_is_loading === 0) {\n          console.log(\"Bokeh: all BokehJS libraries loaded\");\n          run_callbacks()\n        }\n      };\n      s.onerror = function() {\n        console.warn(\"failed to load library \" + url);\n      };\n      console.log(\"Bokeh: injecting script tag for BokehJS library: \", url);\n      document.getElementsByTagName(\"head\")[0].appendChild(s);\n    }\n  };var element = document.getElementById(\"c02cecf6-9365-42bf-a190-5997f62c48c7\");\n  if (element == null) {\n    console.log(\"Bokeh: ERROR: autoload.js configured with elementid 'c02cecf6-9365-42bf-a190-5997f62c48c7' but no matching script tag was found. \")\n    return false;\n  }\n\n  var js_urls = [\"https://cdn.pydata.org/bokeh/release/bokeh-0.12.16.min.js\", \"https://cdn.pydata.org/bokeh/release/bokeh-widgets-0.12.16.min.js\", \"https://cdn.pydata.org/bokeh/release/bokeh-tables-0.12.16.min.js\", \"https://cdn.pydata.org/bokeh/release/bokeh-gl-0.12.16.min.js\"];\n\n  var inline_js = [\n    function(Bokeh) {\n      Bokeh.set_log_level(\"info\");\n    },\n    \n    function(Bokeh) {\n      \n    },\n    function(Bokeh) {\n      console.log(\"Bokeh: injecting CSS: https://cdn.pydata.org/bokeh/release/bokeh-0.12.16.min.css\");\n      Bokeh.embed.inject_css(\"https://cdn.pydata.org/bokeh/release/bokeh-0.12.16.min.css\");\n      console.log(\"Bokeh: injecting CSS: https://cdn.pydata.org/bokeh/release/bokeh-widgets-0.12.16.min.css\");\n      Bokeh.embed.inject_css(\"https://cdn.pydata.org/bokeh/release/bokeh-widgets-0.12.16.min.css\");\n      console.log(\"Bokeh: injecting CSS: https://cdn.pydata.org/bokeh/release/bokeh-tables-0.12.16.min.css\");\n      Bokeh.embed.inject_css(\"https://cdn.pydata.org/bokeh/release/bokeh-tables-0.12.16.min.css\");\n    }\n  ];\n\n  function run_inline_js() {\n    \n    if ((root.Bokeh !== undefined) || (force === true)) {\n      for (var i = 0; i < inline_js.length; i++) {\n        inline_js[i].call(root, root.Bokeh);\n      }if (force === true) {\n        display_loaded();\n      }} else if (Date.now() < root._bokeh_timeout) {\n      setTimeout(run_inline_js, 100);\n    } else if (!root._bokeh_failed_load) {\n      console.log(\"Bokeh: BokehJS failed to load within specified timeout.\");\n      root._bokeh_failed_load = true;\n    } else if (force !== true) {\n      var cell = $(document.getElementById(\"c02cecf6-9365-42bf-a190-5997f62c48c7\")).parents('.cell').data().cell;\n      cell.output_area.append_execute_result(NB_LOAD_WARNING)\n    }\n\n  }\n\n  if (root._bokeh_is_loading === 0) {\n    console.log(\"Bokeh: BokehJS loaded, going straight to plotting\");\n    run_inline_js();\n  } else {\n    load_libs(js_urls, function() {\n      console.log(\"Bokeh: BokehJS plotting callback run at\", now());\n      run_inline_js();\n    });\n  }\n}(window));"
     },
     "metadata": {},
     "output_type": "display_data"
    }
   ],
   "source": [
    "output_notebook()"
   ]
  },
  {
   "cell_type": "code",
   "execution_count": 8,
   "metadata": {
    "collapsed": true
   },
   "outputs": [],
   "source": [
    "def fmt_cool(ds_in):\n",
    "    ds = ds_in.copy(deep=True)\n",
    "    if 'igg' in ds.dims:\n",
    "        ds = ds.sel(igg=1)\n",
    "\n",
    "    if 'g' in ds.dims:\n",
    "        ds = ds.sum('g')\n",
    "            \n",
    "    if 'band' in ds.dims:\n",
    "        try:\n",
    "            ds = ds.squeeze('band')\n",
    "        except ValueError:\n",
    "            ds = ds.sum('band')\n",
    "                \n",
    "    return ds['coolrg']\n",
    "\n",
    "\n",
    "def pltdata_cooling_1(ds_cool=None,\n",
    "                      ds_cool_crd=None, ds_cool_wgt=None):\n",
    "    \n",
    "\n",
    "\n",
    "    colors = all_palettes['Set1'][4]\n",
    "    data = [{'label': 'CLIRAD `coolr_bands`',\n",
    "             'srs': fmt_cool(ds_cool),\n",
    "             'line_dash': 'dashed', 'line_width': 5,\n",
    "             'color': colors[0], 'alpha': .6},\n",
    "            {'label': 'CRD',\n",
    "             'srs': fmt_cool(ds_cool_crd),\n",
    "             'line_dash': 'solid', 'line_width': 1.5,\n",
    "             'marker': 'circle', 'marker_size': 5,\n",
    "             'color': colors[2], 'alpha': 1,},\n",
    "            {'label': 'WGT igg=10 wgt_flux=2',\n",
    "             'srs': fmt_cool(ds_cool_wgt),\n",
    "             'line_dash': 'solid', 'line_width': 3,\n",
    "             'marker': 'square', 'marker_size': 5,\n",
    "             'color': colors[3], 'alpha': .6}]\n",
    "    return data\n",
    "\n",
    "\n",
    "def nice_xlims(pltdata=None, prange=None):\n",
    "    \n",
    "    def get_slice(srs):\n",
    "        return srs.sel(pressure=slice(*prange))\n",
    "    \n",
    "    srss = [d['srs'] for d in pltdata]\n",
    "    vmin = min([get_slice(srs).min() for srs in srss])\n",
    "    vmax = max([get_slice(srs).max() for srs in srss])\n",
    "    dv = (vmax - vmin) * .01\n",
    "    return float(vmin - dv), float(vmax + dv)\n",
    "    \n",
    "\n",
    "def plt_cooling_bokeh(pltdata=None):\n",
    "    '''\n",
    "    Plot a list of cooling rate profiles using bokeh.\n",
    "    '''\n",
    "    ymin = 1e-2 \n",
    "    ymax = 1020 \n",
    "        \n",
    "    p1 = figure(title=\"Linear pressure scale\", \n",
    "                plot_width=400)        \n",
    "    xmin, xmax = nice_xlims(pltdata, prange=(50, 1050))\n",
    "    for d in pltdata:\n",
    "        if 'marker' in d:\n",
    "            getattr(p1, d['marker'])(d['srs'].values, \n",
    "                    d['srs'].coords['pressure'].values,\n",
    "                    color=d['color'], alpha=.7)\n",
    "        p1.line(d['srs'].values, \n",
    "                d['srs'].coords['pressure'].values,\n",
    "                color=d['color'], alpha=d['alpha'], \n",
    "                line_width=d['line_width'], line_dash=d['line_dash'])\n",
    "    \n",
    "    p1.y_range = Range1d(ymax, ymin)\n",
    "    p1.yaxis.axis_label = 'pressure [mb]'   \n",
    "    p1.x_range = Range1d(xmin, xmax)\n",
    "    p1.xaxis.axis_label = 'cooling rate [K/day]'\n",
    "            \n",
    "    p2 = figure(title='Log pressure scale', y_axis_type='log',\n",
    "                plot_width=560)\n",
    "    xmin, xmax = nice_xlims(pltdata, prange=(.01, 200))\n",
    "    \n",
    "    rs = []\n",
    "    for d in pltdata:\n",
    "        rd = []\n",
    "        if 'marker' in d:\n",
    "            r_mark = getattr(p2, d['marker'])(d['srs'].values, \n",
    "                        d['srs'].coords['pressure'].values,\n",
    "                        color=d['color'], alpha=.7)\n",
    "            rd.append(r_mark)\n",
    "        r_line = p2.line(d['srs'].values, \n",
    "                    d['srs'].coords['pressure'].values,\n",
    "                    color=d['color'], alpha=d['alpha'], \n",
    "                    line_width=d['line_width'], line_dash=d['line_dash'])\n",
    "        rd.append(r_line)\n",
    "      \n",
    "        rs.append(rd)\n",
    "        \n",
    "    p2.y_range = Range1d(ymax, ymin)  \n",
    "    p2.yaxis.axis_label = 'pressure [mb]'\n",
    "    \n",
    "    p2.x_range = Range1d(xmin, xmax)\n",
    "    p2.xaxis.axis_label = 'cooling rate [K/day]'\n",
    "    \n",
    "    items = [(d['label'], r) for r, d in zip(rs, pltdata)]\n",
    "    legend = Legend(items=items, location=(10, -30))\n",
    "    legend.label_text_font_size = '8pt'\n",
    "    \n",
    "    p2.add_layout(legend, 'right')  \n",
    "    \n",
    "    show(gridplot(p1, p2, ncols=2, plot_height=500))\n",
    "    \n",
    "\n",
    "def script_plt_cooling():\n",
    "    pltdata = pltdata_cooling_1(\n",
    "        ds_cool=DS_COOL,\n",
    "        ds_cool_crd=DS_COOL_CRD,\n",
    "        ds_cool_wgt=DS_COOL_WGT)\n",
    "    plt_cooling_bokeh(pltdata=pltdata)\n",
    "    print('''FIGURE. Cooling rate profiles.''')"
   ]
  },
  {
   "cell_type": "code",
   "execution_count": 9,
   "metadata": {
    "collapsed": true
   },
   "outputs": [],
   "source": [
    "def fmt_flux(ds_in):\n",
    "    ds = ds_in.copy(deep=True)\n",
    "    \n",
    "    for l in ('level', 'layer'):\n",
    "        if l in ds.data_vars:\n",
    "            if len(ds[l].dims) > 1:\n",
    "                surface = {d: 0 for d in ds.dims if d != 'pressure'}\n",
    "                coord_level = ds[l][surface]\n",
    "                ds.coords[l] = ('pressure', coord_level)\n",
    "            else:\n",
    "                ds.coords[l] = ('pressure', ds[l])\n",
    "        \n",
    "    ds = ds.isel(pressure=[0, 23, -1])\n",
    "        \n",
    "    if 'igg' in ds.dims:\n",
    "        ds = ds.sel(igg=[1])\n",
    "        ds = ds.squeeze('igg').drop('igg')\n",
    "    \n",
    "    if 'g' in ds.dims:\n",
    "        ds = ds.sum('g')\n",
    "            \n",
    "    if 'band' in ds.dims:\n",
    "        try:\n",
    "            ds = ds.squeeze('band').drop('band')\n",
    "        except ValueError:\n",
    "            ds = ds.sum('band')\n",
    "                \n",
    "    df = ds.to_dataframe()\n",
    "    df = df.set_index('level', append=True)               \n",
    "    return df\n",
    "\n",
    "\n",
    "def tbdata_flux(ds_flux=None, ds_flux_crd=None, ds_flux_wgt=None):\n",
    "    ilevels = [0, 23, -1]\n",
    "            \n",
    "    benchmark = {'label': 'CRD',\n",
    "                 'df': fmt_flux(ds_flux_crd)}\n",
    "    \n",
    "    tbs = [{'label': 'WGT igg=10 wgt_flux=1',\n",
    "            'df': fmt_flux(ds_flux_wgt)},\n",
    "           {'label': 'CLIRAD',\n",
    "            'df': fmt_flux(ds_flux)}]\n",
    "    \n",
    "    data = {'benchmark': benchmark, 'others': tbs}\n",
    "    return data\n",
    "\n",
    "\n",
    "def tb_flux(tbdata=None):\n",
    "    benchmark = tbdata['benchmark']\n",
    "    others = tbdata['others']\n",
    "    \n",
    "    def show_tb(d=None):\n",
    "        display.display(d['df'])\n",
    "        print('Table.', 'Fluxes.', d['label'])\n",
    "        \n",
    "    def show_tbdiff(d0=None, d=None):\n",
    "        df = d['df']\n",
    "        df.index = d0['df'].index\n",
    "        display.display(df - d0['df'])\n",
    "        print('Table.', 'Fluxes.', \n",
    "              '({}) - ({})'.format(d['label'], d0['label']))\n",
    "        \n",
    "    show_tb(benchmark)\n",
    "    for d in others:\n",
    "        show_tb(d)\n",
    "        \n",
    "    for d in others:\n",
    "        show_tbdiff(d=d, d0=benchmark)\n",
    "        \n",
    "        \n",
    "def script_tb_flux():\n",
    "    data = tbdata_flux(ds_flux=DS_FLUX,\n",
    "                       ds_flux_crd=DS_FLUX_CRD,\n",
    "                       ds_flux_wgt=DS_FLUX_WGT)\n",
    "    tb_flux(tbdata=data)"
   ]
  },
  {
   "cell_type": "code",
   "execution_count": 10,
   "metadata": {
    "collapsed": true
   },
   "outputs": [],
   "source": [
    "def band_map():\n",
    "    '''\n",
    "    Maps spectral bands in lblnew to spectral bands in clirad.\n",
    "    '''\n",
    "    lblnew2clirad = {'1': '1',\n",
    "            '2': '2',\n",
    "            '3a': '3',\n",
    "            '3b': '4',\n",
    "            '3c': '5',\n",
    "            '4': '6', \n",
    "            '5': '7',\n",
    "            '6': '8',\n",
    "            '7': '9', \n",
    "            '8': '10',\n",
    "            '9': '11'}\n",
    "    \n",
    "    clirad2lblnew = {clirad: lblnew \n",
    "                     for lblnew, clirad in lblnew2clirad.items()}\n",
    "    return clirad2lblnew\n",
    "\n",
    "\n",
    "def gasbands():\n",
    "    bmap = band_map()\n",
    "    gases = list(PARAM['molecule'].keys())\n",
    "    \n",
    "    bands = [bmap[str(b)] for b in PARAM['band']]\n",
    "    return list(itertools.product(gases, bands))\n",
    "\n",
    "\n",
    "def print_bestfit_params():\n",
    "    print('Best-fit values for each (gas, band)')\n",
    "    print('------------------------------------')\n",
    "    for gas, band in gasbands():\n",
    "        print('o {} band{}'.format(gas, band))\n",
    "        param = bestfits.kdist_params(molecule=gas, band=band)\n",
    "        for name, value in sorted(param.items()):\n",
    "            print(2 * ' ' + '{} = {}'.format(name, value))\n",
    "\n",
    "        \n",
    "def print_input_param():        \n",
    "    for name, value in PARAM.items():\n",
    "        print('{} = {}'.format(name, value))\n",
    "        \n",
    "        \n",
    "def print_lblnew_param():\n",
    "    for name, value in sorted(PARAM_LBLNEW.items()):\n",
    "        print('{} = {}'.format(name, value))\n"
   ]
  },
  {
   "cell_type": "code",
   "execution_count": 11,
   "metadata": {
    "collapsed": true,
    "scrolled": false
   },
   "outputs": [],
   "source": [
    "def show_html(s):\n",
    "    display.display(display.HTML(s))\n",
    "\n",
    "    \n",
    "def show_markdown(s):\n",
    "    display.display(display.Markdown(s))\n",
    "\n",
    "    \n",
    "def script():\n",
    "    \n",
    "    title = '### CLIRAD-LW'\n",
    "    s_input = 'Input Parameters'\n",
    "    s_lblnew_param = 'LBLNEW case compaired against'\n",
    "    s_bestfits = 'Best-fit Parameters'\n",
    "    s_plt_cooling = 'Cooling Rate Profiles'\n",
    "    s_tb_flux = 'Flux Comparison'\n",
    "    \n",
    "    # title\n",
    "    show_markdown('### CLIRAD-LW')\n",
    "    \n",
    "    # TOC\n",
    "    show_markdown('### Table of Contents')\n",
    "    show_html(climahtml.getHTML_hrefanchor(s_input))\n",
    "    show_html(climahtml.getHTML_hrefanchor(s_lblnew_param))\n",
    "    show_html(climahtml.getHTML_hrefanchor(s_plt_cooling))\n",
    "    show_html(climahtml.getHTML_hrefanchor(s_tb_flux))\n",
    "    show_html(climahtml.getHTML_hrefanchor(s_bestfits))\n",
    "    \n",
    "    # Input parameters\n",
    "    show_html(climahtml.getHTML_idanchor(s_input))\n",
    "    show_markdown(climahtml.getMarkdown_sectitle(s_input))\n",
    "    print_input_param()\n",
    "    \n",
    "    # LBLNEW parameters \n",
    "    show_html(climahtml.getHTML_idanchor(s_lblnew_param))\n",
    "    show_markdown(climahtml.getMarkdown_sectitle(s_lblnew_param))\n",
    "    print_lblnew_param()\n",
    "    \n",
    "    # Cooling rate profiles\n",
    "    show_html(climahtml.getHTML_idanchor(s_plt_cooling))\n",
    "    show_markdown(climahtml.getMarkdown_sectitle(s_plt_cooling))\n",
    "    script_plt_cooling()\n",
    "    \n",
    "    # Flux comparison\n",
    "    show_html(climahtml.getHTML_idanchor(s_tb_flux))\n",
    "    show_markdown(climahtml.getMarkdown_sectitle(s_tb_flux))\n",
    "    script_tb_flux()\n",
    "    \n",
    "    # Best-fit values\n",
    "    show_html(climahtml.getHTML_idanchor(s_bestfits))\n",
    "    show_markdown(climahtml.getMarkdown_sectitle(s_bestfits))\n",
    "    print_bestfit_params()\n",
    "   \n",
    "    "
   ]
  },
  {
   "cell_type": "code",
   "execution_count": 12,
   "metadata": {
    "collapsed": true,
    "scrolled": false
   },
   "outputs": [
    {
     "data": {
      "text/markdown": [
       "### CLIRAD-LW"
      ],
      "text/plain": [
       "<IPython.core.display.Markdown object>"
      ]
     },
     "metadata": {},
     "output_type": "display_data"
    },
    {
     "data": {
      "text/markdown": [
       "### Table of Contents"
      ],
      "text/plain": [
       "<IPython.core.display.Markdown object>"
      ]
     },
     "metadata": {},
     "output_type": "display_data"
    },
    {
     "data": {
      "text/html": [
       "<a href=\"#Input_Parameters\">Input Parameters</a>"
      ],
      "text/plain": [
       "<IPython.core.display.HTML object>"
      ]
     },
     "metadata": {},
     "output_type": "display_data"
    },
    {
     "data": {
      "text/html": [
       "<a href=\"#LBLNEW_case_compaired_against\">LBLNEW case compaired against</a>"
      ],
      "text/plain": [
       "<IPython.core.display.HTML object>"
      ]
     },
     "metadata": {},
     "output_type": "display_data"
    },
    {
     "data": {
      "text/html": [
       "<a href=\"#Cooling_Rate_Profiles\">Cooling Rate Profiles</a>"
      ],
      "text/plain": [
       "<IPython.core.display.HTML object>"
      ]
     },
     "metadata": {},
     "output_type": "display_data"
    },
    {
     "data": {
      "text/html": [
       "<a href=\"#Flux_Comparison\">Flux Comparison</a>"
      ],
      "text/plain": [
       "<IPython.core.display.HTML object>"
      ]
     },
     "metadata": {},
     "output_type": "display_data"
    },
    {
     "data": {
      "text/html": [
       "<a href=\"#Best-fit_Parameters\">Best-fit Parameters</a>"
      ],
      "text/plain": [
       "<IPython.core.display.HTML object>"
      ]
     },
     "metadata": {},
     "output_type": "display_data"
    },
    {
     "data": {
      "text/html": [
       "<a id=\"Input_Parameters\"></a>"
      ],
      "text/plain": [
       "<IPython.core.display.HTML object>"
      ]
     },
     "metadata": {},
     "output_type": "display_data"
    },
    {
     "data": {
      "text/markdown": [
       "# Input Parameters"
      ],
      "text/plain": [
       "<IPython.core.display.Markdown object>"
      ]
     },
     "metadata": {},
     "output_type": "display_data"
    },
    {
     "name": "stdout",
     "output_type": "stream",
     "text": [
      "commitnumber = de5d43e\n",
      "molecule = {'h2o': 'atmpro', 'co2': 0.0004, 'n2o': 3.2e-07}\n",
      "band = [3]\n",
      "atmpro = saw\n",
      "tsfc = 257\n"
     ]
    },
    {
     "data": {
      "text/html": [
       "<a id=\"LBLNEW_case_compaired_against\"></a>"
      ],
      "text/plain": [
       "<IPython.core.display.HTML object>"
      ]
     },
     "metadata": {},
     "output_type": "display_data"
    },
    {
     "data": {
      "text/markdown": [
       "# LBLNEW case compaired against"
      ],
      "text/plain": [
       "<IPython.core.display.Markdown object>"
      ]
     },
     "metadata": {},
     "output_type": "display_data"
    },
    {
     "name": "stdout",
     "output_type": "stream",
     "text": [
      "atmpro = saw\n",
      "band = 3a\n",
      "commitnumber = 5014a19\n",
      "dv = 0.001\n",
      "molecule = {'h2o': 'atmpro', 'co2': 0.0004, 'n2o': 3.2e-07}\n",
      "nv = 1000\n",
      "tsfc = 257\n"
     ]
    },
    {
     "data": {
      "text/html": [
       "<a id=\"Cooling_Rate_Profiles\"></a>"
      ],
      "text/plain": [
       "<IPython.core.display.HTML object>"
      ]
     },
     "metadata": {},
     "output_type": "display_data"
    },
    {
     "data": {
      "text/markdown": [
       "# Cooling Rate Profiles"
      ],
      "text/plain": [
       "<IPython.core.display.Markdown object>"
      ]
     },
     "metadata": {},
     "output_type": "display_data"
    },
    {
     "data": {
      "text/html": [
       "\n",
       "<div class=\"bk-root\">\n",
       "    <div class=\"bk-plotdiv\" id=\"f651d7b2-7c2f-4f63-af33-f24d83c1a91e\"></div>\n",
       "</div>"
      ]
     },
     "metadata": {},
     "output_type": "display_data"
    },
    {
     "data": {
      "application/javascript": [
       "(function(root) {\n",
       "  function embed_document(root) {\n",
       "    \n",
       "  var docs_json = {\"52f20d49-ef44-4ceb-b1c1-8eba9bcde5f3\":{\"roots\":{\"references\":[{\"attributes\":{\"fill_alpha\":{\"value\":0.7},\"fill_color\":{\"value\":\"#4daf4a\"},\"line_alpha\":{\"value\":0.7},\"line_color\":{\"value\":\"#4daf4a\"},\"x\":{\"field\":\"x\"},\"y\":{\"field\":\"y\"}},\"id\":\"ac2d086e-4328-4341-8665-75cfa6da431c\",\"type\":\"Circle\"},{\"attributes\":{\"data_source\":{\"id\":\"4cebf8d1-c5ce-47d4-a376-3235d1c872c1\",\"type\":\"ColumnDataSource\"},\"glyph\":{\"id\":\"ac2d086e-4328-4341-8665-75cfa6da431c\",\"type\":\"Circle\"},\"hover_glyph\":null,\"muted_glyph\":null,\"nonselection_glyph\":{\"id\":\"e219bf10-40a8-4c42-857a-1a05be297eff\",\"type\":\"Circle\"},\"selection_glyph\":null,\"view\":{\"id\":\"b817c78c-f162-4365-b99f-e244597158f2\",\"type\":\"CDSView\"}},\"id\":\"e0fae3d8-c391-48e7-a330-25d710925e32\",\"type\":\"GlyphRenderer\"},{\"attributes\":{\"data_source\":{\"id\":\"32e62978-918a-4bd5-a2b5-bac1d46d8792\",\"type\":\"ColumnDataSource\"},\"glyph\":{\"id\":\"8abba7e1-637d-4aab-97a5-ff4dfc39d406\",\"type\":\"Line\"},\"hover_glyph\":null,\"muted_glyph\":null,\"nonselection_glyph\":{\"id\":\"352873e0-af0c-4b8e-bf28-3259179c7ece\",\"type\":\"Line\"},\"selection_glyph\":null,\"view\":{\"id\":\"297aecab-37cc-46cb-88b7-d60c402ed189\",\"type\":\"CDSView\"}},\"id\":\"5e28a270-991f-481c-b9ad-eaac7999fe78\",\"type\":\"GlyphRenderer\"},{\"attributes\":{\"source\":{\"id\":\"32e62978-918a-4bd5-a2b5-bac1d46d8792\",\"type\":\"ColumnDataSource\"}},\"id\":\"297aecab-37cc-46cb-88b7-d60c402ed189\",\"type\":\"CDSView\"},{\"attributes\":{\"line_alpha\":0.1,\"line_color\":\"#1f77b4\",\"line_width\":1.5,\"x\":{\"field\":\"x\"},\"y\":{\"field\":\"y\"}},\"id\":\"352873e0-af0c-4b8e-bf28-3259179c7ece\",\"type\":\"Line\"},{\"attributes\":{\"fill_alpha\":{\"value\":0.1},\"fill_color\":{\"value\":\"#1f77b4\"},\"line_alpha\":{\"value\":0.1},\"line_color\":{\"value\":\"#1f77b4\"},\"x\":{\"field\":\"x\"},\"y\":{\"field\":\"y\"}},\"id\":\"e219bf10-40a8-4c42-857a-1a05be297eff\",\"type\":\"Circle\"},{\"attributes\":{\"callback\":null,\"data\":{\"x\":{\"__ndarray__\":\"PufRAQc8wD9nqB8O8ZPDP6mvGabXYss/u8RoiPAQ0j8ePOoa89vWPznnbY2EDdw/W3IFqU7m4D9Me9Z3dgDkP+JVnIs7Nec/Ed6ivCRo6j8w9dKYOXLtP4mOLoA6D/A/TTM4pRcQ8T+LVHMUe0PxP5qC60CMRvA/GEdA4Nza7D8NtmSXoG3oPwWKedKZJuQ/rEHzlDAO4T9uZ8KjS8ffP7W35zvw+OA/t5qW1OBo4D/N1rCVhlDaPwFkEVhzn9Q/439dE/No0D9DKAiBCRrKPw7mAtnj7MQ/TLbs1lOnwT/scmPd7E3AP+5f9j6Xob0/d0eReCO6uD9a1lNk2qKyP2OWA17in60/TIWPwNPvqz+/I4jFOBetP77yfq5GDrA/PuP1cjW4sD+2lswoy02vP/ifRmtWx6s/bWALd7d9qD80/+XjpV6lP2FmYGPlN6I/5a8ADvCQnT8pVERBgVuVPyf/I2u+XoY/OK42b3K5gD93w36bOpmSP/DZNX8eM6A/1BFszlSXpz8hoZiCVtyvPw/9+QeoKLQ/ZV93j3NouD9uqig9V4S8P4/9TaQLHMA/F+Yt7KOywT9cKZnWhSPDPwLGK/efiMQ/7CNk3rLcxT/xXhhdnADHP34dtC6g3cc/mkc4DGpoyD+hqMcRxqrIPyNQNy/StMg/IQkUFLOcyD+OpRfOmHbIP+nhNuAUUsg/b2VHsmBFyD/lzUSFqErIP8dr2py1Icg/qbnk0fBaxz+ah59BO47FP/I8+lc9/cI/vdzMjY5QwD+TIHWeJYa7P59FOCt3JrY/\",\"dtype\":\"float64\",\"shape\":[75]},\"y\":{\"__ndarray__\":\"S/O/Q+51ND/Sv8nbtpRIP2vylNV0PVE/aTum7souWD/At0SJ8fVgPw3Iuahxymc/MSNhhJWvcD/bTfBN02d3P2zb5nxnaoA/CD5h5MAGhz8NmeH1TyaQP+zrCsc9p5Y/LbKd76fGnz/bLW5ISEmmPww9YvTcQq8/JV2OstnstT8Er5Y7M8G+P0c+r3jqkcU/5h99k6ZBzj88bCIzFzjVP4enV8oyxN0//yH99nXg5D8qOpLLf0jtP5kqGJXUifQ/c9cS8kHP/D+/DpwzojQEQIEmwoanVwxA4lgXt9HgE0BSSZ2AJuIbQAMJih9jjiNA5q4l5INuK0AwTKYKRj0zQNv5fmq8/DpAaCJseHrtQkB/+zpwzoxKQM3MzMzMeFJAZmZmZmZqWEAAAAAAAFxeQM3MzMzMJmJAmpmZmZkfZUBmZmZmZhhoQDMzMzMzEWtAAAAAAAAKbkBmZmZmZoFwQM3MzMzM/XFAMzMzMzN6c0CamZmZmfZ0QAAAAAAAc3ZAZmZmZmbvd0DNzMzMzGt5QDMzMzMz6HpAmpmZmZlkfEAAAAAAAOF9QGZmZmZmXX9AZmZmZuZsgECamZmZGSuBQM3MzMxM6YFAAAAAAICngkAzMzMzs2WDQGZmZmbmI4RAmpmZmRnihEDNzMzMTKCFQAAAAACAXoZAMzMzM7Mch0BmZmZm5tqHQJqZmZkZmYhAzczMzExXiUAAAAAAgBWKQDMzMzOz04pAZmZmZuaRi0CamZmZGVCMQM3MzMxMDo1AAAAAAIDMjUAzMzMzs4qOQGZmZmbmSI9A\",\"dtype\":\"float64\",\"shape\":[75]}},\"selected\":{\"id\":\"3d23b738-4e91-4c7f-9248-b242c2d661e1\",\"type\":\"Selection\"},\"selection_policy\":{\"id\":\"3dee8054-2f33-4061-9d14-956ff4630fd8\",\"type\":\"UnionRenderers\"}},\"id\":\"7c9fe5d0-7325-4ced-b65d-678b4fee2fcc\",\"type\":\"ColumnDataSource\"},{\"attributes\":{\"callback\":null,\"data\":{\"x\":{\"__ndarray__\":\"Al0kgqsbyD+aKedqr67LP+BuQZ2PftI/5CB0EkKu1z9WYdgGk0fdP6U3FvP3m+E/rIF72Oq25D8kJcFEUdrnP//xmGC87+o/LaFQicrK7T8fevdswiLwP5wHwfQHFPE/vTN/8bGg8T+tk+mGXF/xPxeZgF8jCfA/svNXRCQ17D9wpyFo1DXoP2rcWcNeq+Q/CAlJTVgu4j+yLupqXTDhP/GSBzsoFeI/GXrdhVoR4T/zkAgRmcfaP2h6R5V6udQ/eaxbNbZ00D/qC3ygcFHKP4S8mhPmA8U/itfMjESJwT/0qmtAxtS/Pxadj9+Z2Lw/FZYp+gRPuD/OchOUJs6yPy+RRXlqHq8/7hjxedJ9rj+RV0DR11SvP0qxug0esbA/wOjtLbdEsT+YNZCyblGwP7nxfyv/eK0/ri0g2uVgqj+X4vGHezmnP1fpzSwyz6M/ADy2JlwWoD8SHwC6LWaXPzzInHvQMok/UhezYekVgz8hs6EF4iGUP/lxNkiBOKE/0//u9LX0qD/LV0v/Z9SwP89fXR8aObU/e4WToRt7uT835ztTQ3a9P7jf67XqhMA//bwMc0Aawj+AA2Iry4TDP8T7mnoXzsQ/LvqvGBr0xT8WAUZ+mubGP4mzZIZ0lcc/aJsTYsv+xz9IG0esxSfIP46nik47Icg/opwFLWb8xz+Y0yuGJ8vHPzC033/Qn8c/On13Cj2Lxz9VrTvMTYrHP/T6curzZsc/GqkxANipxj+rj00TMufEP1baf/DjYMI/L9X12TuCvz/71KnZoIK6P7xos91JM7U/\",\"dtype\":\"float64\",\"shape\":[75]},\"y\":{\"__ndarray__\":\"GhExyth1ND/Sv8nbtpRIP2vylNV0PVE/aTum7souWD/At0SJ8fVgPw3Iuahxymc/MSNhhJWvcD/bTfBN02d3P2zb5nxnaoA/CD5h5MAGhz8NmeH1TyaQP+zrCsc9p5Y/LbKd76fGnz/bLW5ISEmmPww9YvTcQq8/JV2OstnstT8Er5Y7M8G+P0c+r3jqkcU/5h99k6ZBzj88bCIzFzjVP4enV8oyxN0//yH99nXg5D8qOpLLf0jtP5kqGJXUifQ/c9cS8kHP/D+/DpwzojQEQIEmwoanVwxA4lgXt9HgE0BSSZ2AJuIbQAMJih9jjiNA5q4l5INuK0AwTKYKRj0zQNv5fmq8/DpAaCJseHrtQkB/+zpwzoxKQM3MzMzMeFJAZmZmZmZqWEAAAAAAAFxeQM3MzMzMJmJAmpmZmZkfZUBmZmZmZhhoQDMzMzMzEWtAAAAAAAAKbkBmZmZmZoFwQM3MzMzM/XFAMzMzMzN6c0CamZmZmfZ0QAAAAAAAc3ZAZmZmZmbvd0DNzMzMzGt5QDMzMzMz6HpAmpmZmZlkfEAAAAAAAOF9QGZmZmZmXX9AZmZmZuZsgECamZmZGSuBQM3MzMxM6YFAAAAAAICngkAzMzMzs2WDQGZmZmbmI4RAmpmZmRnihEDNzMzMTKCFQAAAAACAXoZAMzMzM7Mch0BmZmZm5tqHQJqZmZkZmYhAzczMzExXiUAAAAAAgBWKQDMzMzOz04pAZmZmZuaRi0CamZmZGVCMQM3MzMxMDo1AAAAAAIDMjUAzMzMzs4qOQGZmZmbmSI9A\",\"dtype\":\"float64\",\"shape\":[75]}},\"selected\":{\"id\":\"dcee9b5c-205a-4d70-98dd-3cf387d463e9\",\"type\":\"Selection\"},\"selection_policy\":{\"id\":\"04ef8849-b6ae-4968-a426-e2610ac01a6e\",\"type\":\"UnionRenderers\"}},\"id\":\"5399f4b5-6ba6-4b96-ab8a-1527984260ee\",\"type\":\"ColumnDataSource\"},{\"attributes\":{\"callback\":null,\"data\":{\"x\":{\"__ndarray__\":\"tptDxmG4yT+qalkpykbNP7mmQGZn0dM/txAeTA6I2T/DSRYHAqrfP3B6F+/HDeM/+v72CkVZ5j8wyn28oZrpP17QSnOOruw/2GSuiHFp7z8JpMSu7c3wP35MEBpmjfE/gaWpVD/l8T/rA8k7h3LxP8h7cqDJ9u8//yiHooI77D9K8EQYWMroP33evz/G+OU/X0ufiAsB5D/bmgAFDxrjP59zGhZhsuM/aQBvgQTl4T+UTdrQpL/aP4gAVC/HBNQ/gACl42Jzzz+gFM7q9O7IP7k+B/HcVsM//y9L+RjFvj8Y4j96Fsa6Pw9vm36Qsrc/uKQrV8YmtD+lR+4Rs1ywP8rXOnjzQq0/Q3g/ZE0Jrj8QDsjumkGuP3lVLQo38K0/9XLVxThCrT+oAz36fQSrP5Y7TxagaKg/yGtEgVUtpj+JjDfH8/ijP4oPNc/meKE/n2iJWyY/nT/Eg/aCAC2WP2NTW6gE3Yk/Mlcn4+9JhT+AOcSJ+QOVP7elYTqlaqE/7bVK9w0oqT/jOM9c0BCxP8oselt0qLU/OjnHqWsnuj/0sbPPAGq+P+TgbwcsMcE/t7Wm9Y4Fwz80+iwqPa7EP/f8F6XXKMY/8M3j7nttxz9VuGlczXTIP6ahX75pOMk/JXkqtx+2yT+jofPYnvLJP/1dK+PX9sk/8dVt1DPSyT9nfKF4fJjJP7spBsT7XMk/PjOxjh0zyT8TeqKQCR3JPyHJDwmd38g/IdumNkACyD9dQx0UnBPGP4lnQ92LWMM/LaRw++2EwD8Jr7iT46m7P2+t6j15/rU/\",\"dtype\":\"float64\",\"shape\":[75]},\"y\":{\"__ndarray__\":\"GhExyth1ND/Sv8nbtpRIP2vylNV0PVE/aTum7souWD/At0SJ8fVgPw3Iuahxymc/MSNhhJWvcD/bTfBN02d3P2zb5nxnaoA/CD5h5MAGhz8NmeH1TyaQP+zrCsc9p5Y/LbKd76fGnz/bLW5ISEmmPww9YvTcQq8/JV2OstnstT8Er5Y7M8G+P0c+r3jqkcU/5h99k6ZBzj88bCIzFzjVP4enV8oyxN0//yH99nXg5D8qOpLLf0jtP5kqGJXUifQ/c9cS8kHP/D+/DpwzojQEQIEmwoanVwxA4lgXt9HgE0BSSZ2AJuIbQAMJih9jjiNA5q4l5INuK0AwTKYKRj0zQNv5fmq8/DpAaCJseHrtQkB/+zpwzoxKQM3MzMzMeFJAZmZmZmZqWEAAAAAAAFxeQM3MzMzMJmJAmpmZmZkfZUBmZmZmZhhoQDMzMzMzEWtAAAAAAAAKbkBmZmZmZoFwQM3MzMzM/XFAMzMzMzN6c0CamZmZmfZ0QAAAAAAAc3ZAZmZmZmbvd0DNzMzMzGt5QDMzMzMz6HpAmpmZmZlkfEAAAAAAAOF9QGZmZmZmXX9AZmZmZuZsgECamZmZGSuBQM3MzMxM6YFAAAAAAICngkAzMzMzs2WDQGZmZmbmI4RAmpmZmRnihEDNzMzMTKCFQAAAAACAXoZAMzMzM7Mch0BmZmZm5tqHQJqZmZkZmYhAzczMzExXiUAAAAAAgBWKQDMzMzOz04pAZmZmZuaRi0CamZmZGVCMQM3MzMxMDo1AAAAAAIDMjUAzMzMzs4qOQGZmZmbmSI9A\",\"dtype\":\"float64\",\"shape\":[75]}},\"selected\":{\"id\":\"276a55ae-9f32-4511-9e51-e186759d14d0\",\"type\":\"Selection\"},\"selection_policy\":{\"id\":\"ed40cd64-4dbc-4053-b33e-e7205e03b723\",\"type\":\"UnionRenderers\"}},\"id\":\"32e62978-918a-4bd5-a2b5-bac1d46d8792\",\"type\":\"ColumnDataSource\"},{\"attributes\":{\"fill_alpha\":{\"value\":0.7},\"fill_color\":{\"value\":\"#984ea3\"},\"line_alpha\":{\"value\":0.7},\"line_color\":{\"value\":\"#984ea3\"},\"x\":{\"field\":\"x\"},\"y\":{\"field\":\"y\"}},\"id\":\"8f16cdd2-0c8d-4361-a5b9-f970db9b1e22\",\"type\":\"Square\"},{\"attributes\":{},\"id\":\"8a6c97ed-cae1-4d72-819d-963f0edef2a2\",\"type\":\"BasicTickFormatter\"},{\"attributes\":{\"source\":{\"id\":\"4cebf8d1-c5ce-47d4-a376-3235d1c872c1\",\"type\":\"ColumnDataSource\"}},\"id\":\"b817c78c-f162-4365-b99f-e244597158f2\",\"type\":\"CDSView\"},{\"attributes\":{\"fill_alpha\":{\"value\":0.1},\"fill_color\":{\"value\":\"#1f77b4\"},\"line_alpha\":{\"value\":0.1},\"line_color\":{\"value\":\"#1f77b4\"},\"x\":{\"field\":\"x\"},\"y\":{\"field\":\"y\"}},\"id\":\"e7d058fd-c4de-4f86-9f21-9d14cbe46a60\",\"type\":\"Square\"},{\"attributes\":{\"line_color\":\"#4daf4a\",\"line_width\":1.5,\"x\":{\"field\":\"x\"},\"y\":{\"field\":\"y\"}},\"id\":\"8abba7e1-637d-4aab-97a5-ff4dfc39d406\",\"type\":\"Line\"},{\"attributes\":{\"data_source\":{\"id\":\"5399f4b5-6ba6-4b96-ab8a-1527984260ee\",\"type\":\"ColumnDataSource\"},\"glyph\":{\"id\":\"8f16cdd2-0c8d-4361-a5b9-f970db9b1e22\",\"type\":\"Square\"},\"hover_glyph\":null,\"muted_glyph\":null,\"nonselection_glyph\":{\"id\":\"e7d058fd-c4de-4f86-9f21-9d14cbe46a60\",\"type\":\"Square\"},\"selection_glyph\":null,\"view\":{\"id\":\"9ac8ed65-cbd5-43a0-a162-2fbfa92760df\",\"type\":\"CDSView\"}},\"id\":\"f8cbd6d5-66dd-48a5-979d-a8464cb0b20c\",\"type\":\"GlyphRenderer\"},{\"attributes\":{\"tools\":[{\"id\":\"61d9cbf5-415e-4622-b748-db2c48a9f706\",\"type\":\"PanTool\"},{\"id\":\"12f4a4af-a82e-474c-9ae5-92165f843018\",\"type\":\"WheelZoomTool\"},{\"id\":\"a69edd6d-3bb0-494a-a118-dd2a45d50c18\",\"type\":\"BoxZoomTool\"},{\"id\":\"0b1de419-3217-4815-a5a4-f7345ee647ed\",\"type\":\"SaveTool\"},{\"id\":\"835ddf03-7b6d-412b-b53b-5397184d6cca\",\"type\":\"ResetTool\"},{\"id\":\"7ceacaaa-db0d-4f20-a971-becc32f16b9a\",\"type\":\"HelpTool\"},{\"id\":\"811a9006-b654-4534-b95d-8a9dbc4a6fd8\",\"type\":\"PanTool\"},{\"id\":\"00b3979d-13ae-4f68-9e0e-63d30eb5aa7c\",\"type\":\"WheelZoomTool\"},{\"id\":\"a50f17c9-1554-4d34-8121-13787bf9d882\",\"type\":\"BoxZoomTool\"},{\"id\":\"63a8e686-97f0-445a-a3d8-4933b2cc63cc\",\"type\":\"SaveTool\"},{\"id\":\"c1065564-aba1-4351-9b02-5a83f7735f18\",\"type\":\"ResetTool\"},{\"id\":\"e074a7f9-2681-4517-89c7-98320cec7ae5\",\"type\":\"HelpTool\"}]},\"id\":\"e1308d4c-6567-482b-8dfe-e178a0740bae\",\"type\":\"ProxyToolbar\"},{\"attributes\":{},\"id\":\"c9b32a5f-9601-4ad8-894d-87c9afafb92d\",\"type\":\"BasicTickFormatter\"},{\"attributes\":{\"label\":{\"value\":\"CLIRAD `coolr_bands`\"},\"renderers\":[{\"id\":\"be708388-574c-4a4e-950c-8c72d4683666\",\"type\":\"GlyphRenderer\"}]},\"id\":\"f802b6a8-53bf-4941-aed9-c9965cb9f884\",\"type\":\"LegendItem\"},{\"attributes\":{},\"id\":\"fb8fa253-efcd-478f-acb4-ce569116db04\",\"type\":\"Selection\"},{\"attributes\":{\"line_alpha\":0.1,\"line_color\":\"#1f77b4\",\"line_dash\":[6],\"line_width\":5,\"x\":{\"field\":\"x\"},\"y\":{\"field\":\"y\"}},\"id\":\"98ade7b3-28ee-4b99-97bb-38ce9298d85b\",\"type\":\"Line\"},{\"attributes\":{\"label\":{\"value\":\"CRD\"},\"renderers\":[{\"id\":\"e0fae3d8-c391-48e7-a330-25d710925e32\",\"type\":\"GlyphRenderer\"},{\"id\":\"5e28a270-991f-481c-b9ad-eaac7999fe78\",\"type\":\"GlyphRenderer\"}]},\"id\":\"423f0820-dfd7-46b1-8e30-dec8e62a9dbc\",\"type\":\"LegendItem\"},{\"attributes\":{},\"id\":\"f9e09ae3-1885-4d66-bdd1-bdbfc55ec599\",\"type\":\"Selection\"},{\"attributes\":{\"label\":{\"value\":\"WGT igg=10 wgt_flux=2\"},\"renderers\":[{\"id\":\"f8cbd6d5-66dd-48a5-979d-a8464cb0b20c\",\"type\":\"GlyphRenderer\"},{\"id\":\"d8cab369-3d4b-4ae7-b2f7-0619ee9a90aa\",\"type\":\"GlyphRenderer\"}]},\"id\":\"7c9f720f-a192-45b8-a301-17c041c704d1\",\"type\":\"LegendItem\"},{\"attributes\":{},\"id\":\"3d23b738-4e91-4c7f-9248-b242c2d661e1\",\"type\":\"Selection\"},{\"attributes\":{},\"id\":\"8184f5dd-3816-4abe-a48e-b673fbb5ac6e\",\"type\":\"Selection\"},{\"attributes\":{},\"id\":\"3dee8054-2f33-4061-9d14-956ff4630fd8\",\"type\":\"UnionRenderers\"},{\"attributes\":{},\"id\":\"c8b04ca7-fe2c-4b7f-9be6-7f70c2eb8270\",\"type\":\"Selection\"},{\"attributes\":{},\"id\":\"85236e79-d195-4788-8498-74ec57f21fd1\",\"type\":\"UnionRenderers\"},{\"attributes\":{},\"id\":\"7091c436-9439-4848-a940-c4b9b860d5c1\",\"type\":\"Selection\"},{\"attributes\":{},\"id\":\"ff961511-0c62-4a37-897a-c45644521024\",\"type\":\"UnionRenderers\"},{\"attributes\":{\"ticker\":null},\"id\":\"7fa5d6b3-dc25-475f-9bcf-77340341b1c5\",\"type\":\"LogTickFormatter\"},{\"attributes\":{},\"id\":\"fa4b8dc2-c3dc-429b-860a-d3b066a6fe64\",\"type\":\"UnionRenderers\"},{\"attributes\":{},\"id\":\"3826588d-9ea8-4a93-b8e6-d0798ed852f8\",\"type\":\"UnionRenderers\"},{\"attributes\":{},\"id\":\"5cfda517-541e-4323-bcde-162721afe73b\",\"type\":\"UnionRenderers\"},{\"attributes\":{},\"id\":\"88e74599-74a3-4ec3-b0b2-cd766e0c4821\",\"type\":\"UnionRenderers\"},{\"attributes\":{},\"id\":\"610503eb-5536-444a-af2a-d74c0648472e\",\"type\":\"BasicTickFormatter\"},{\"attributes\":{},\"id\":\"73d4f950-9494-44f4-9a05-640f552e7aeb\",\"type\":\"Selection\"},{\"attributes\":{},\"id\":\"dcee9b5c-205a-4d70-98dd-3cf387d463e9\",\"type\":\"Selection\"},{\"attributes\":{},\"id\":\"0f3c4118-ae6b-492d-8fdd-94f99b600340\",\"type\":\"Selection\"},{\"attributes\":{},\"id\":\"276a55ae-9f32-4511-9e51-e186759d14d0\",\"type\":\"Selection\"},{\"attributes\":{},\"id\":\"ed40cd64-4dbc-4053-b33e-e7205e03b723\",\"type\":\"UnionRenderers\"},{\"attributes\":{\"children\":[{\"id\":\"9ee4c284-8a02-43af-a0e6-eb9fbcb7f3bb\",\"type\":\"ToolbarBox\"},{\"id\":\"706fe37f-6fc0-434f-ba73-3ed9c30cef22\",\"type\":\"Column\"}]},\"id\":\"65575bb4-53a7-450a-ac3a-b2de81d497c3\",\"type\":\"Column\"},{\"attributes\":{},\"id\":\"04ef8849-b6ae-4968-a426-e2610ac01a6e\",\"type\":\"UnionRenderers\"},{\"attributes\":{},\"id\":\"71984819-3a19-4d90-b949-f3d57d26ece1\",\"type\":\"UnionRenderers\"},{\"attributes\":{\"toolbar\":{\"id\":\"e1308d4c-6567-482b-8dfe-e178a0740bae\",\"type\":\"ProxyToolbar\"},\"toolbar_location\":\"above\"},\"id\":\"9ee4c284-8a02-43af-a0e6-eb9fbcb7f3bb\",\"type\":\"ToolbarBox\"},{\"attributes\":{\"data_source\":{\"id\":\"7c9fe5d0-7325-4ced-b65d-678b4fee2fcc\",\"type\":\"ColumnDataSource\"},\"glyph\":{\"id\":\"70c702d1-28fd-486b-bcd9-7e1005c9caed\",\"type\":\"Line\"},\"hover_glyph\":null,\"muted_glyph\":null,\"nonselection_glyph\":{\"id\":\"98ade7b3-28ee-4b99-97bb-38ce9298d85b\",\"type\":\"Line\"},\"selection_glyph\":null,\"view\":{\"id\":\"3efd8a2c-0a02-40cc-b73e-ae6fa3439de5\",\"type\":\"CDSView\"}},\"id\":\"92d9ba53-f7cc-4618-af89-5ea9254ae067\",\"type\":\"GlyphRenderer\"},{\"attributes\":{\"dimension\":1,\"plot\":{\"id\":\"5ab0c0b6-e853-45a6-bdb4-c1842be1f685\",\"subtype\":\"Figure\",\"type\":\"Plot\"},\"ticker\":{\"id\":\"3e41810d-ad99-4c23-9628-f20ea099d963\",\"type\":\"BasicTicker\"}},\"id\":\"e68304bc-6aea-41f8-b518-e5e197e8afe6\",\"type\":\"Grid\"},{\"attributes\":{\"data_source\":{\"id\":\"d101a66c-abdf-43f7-adad-77677a8c6853\",\"type\":\"ColumnDataSource\"},\"glyph\":{\"id\":\"d390e4b3-e350-4116-8a87-90e0ad8f2535\",\"type\":\"Line\"},\"hover_glyph\":null,\"muted_glyph\":null,\"nonselection_glyph\":{\"id\":\"6d323950-d842-49cf-b316-c726128eb3db\",\"type\":\"Line\"},\"selection_glyph\":null,\"view\":{\"id\":\"97ca5695-eaf8-4e81-8d43-35fddb84a245\",\"type\":\"CDSView\"}},\"id\":\"d8cab369-3d4b-4ae7-b2f7-0619ee9a90aa\",\"type\":\"GlyphRenderer\"},{\"attributes\":{\"fill_alpha\":{\"value\":0.7},\"fill_color\":{\"value\":\"#984ea3\"},\"line_alpha\":{\"value\":0.7},\"line_color\":{\"value\":\"#984ea3\"},\"x\":{\"field\":\"x\"},\"y\":{\"field\":\"y\"}},\"id\":\"ee72934d-1d87-43f8-9173-4b031a5a5849\",\"type\":\"Square\"},{\"attributes\":{\"axis_label\":\"cooling rate [K/day]\",\"formatter\":{\"id\":\"610503eb-5536-444a-af2a-d74c0648472e\",\"type\":\"BasicTickFormatter\"},\"plot\":{\"id\":\"752690ec-1f26-4742-9789-7a7ef921d691\",\"subtype\":\"Figure\",\"type\":\"Plot\"},\"ticker\":{\"id\":\"ac2dd7ae-3d8b-4fc8-8fe5-9e0f98b24b19\",\"type\":\"BasicTicker\"}},\"id\":\"62792f35-7d9d-45de-8a82-f44ee2ee482e\",\"type\":\"LinearAxis\"},{\"attributes\":{\"axis_label\":\"pressure [mb]\",\"formatter\":{\"id\":\"8a6c97ed-cae1-4d72-819d-963f0edef2a2\",\"type\":\"BasicTickFormatter\"},\"plot\":{\"id\":\"5ab0c0b6-e853-45a6-bdb4-c1842be1f685\",\"subtype\":\"Figure\",\"type\":\"Plot\"},\"ticker\":{\"id\":\"3e41810d-ad99-4c23-9628-f20ea099d963\",\"type\":\"BasicTicker\"}},\"id\":\"2112bde0-1557-4bee-a0cb-b8a56975ecf4\",\"type\":\"LinearAxis\"},{\"attributes\":{},\"id\":\"ac2dd7ae-3d8b-4fc8-8fe5-9e0f98b24b19\",\"type\":\"BasicTicker\"},{\"attributes\":{\"bottom_units\":\"screen\",\"fill_alpha\":{\"value\":0.5},\"fill_color\":{\"value\":\"lightgrey\"},\"left_units\":\"screen\",\"level\":\"overlay\",\"line_alpha\":{\"value\":1.0},\"line_color\":{\"value\":\"black\"},\"line_dash\":[4,4],\"line_width\":{\"value\":2},\"plot\":null,\"render_mode\":\"css\",\"right_units\":\"screen\",\"top_units\":\"screen\"},\"id\":\"d6fdad0f-6081-4d30-89eb-3a098cdf5f1e\",\"type\":\"BoxAnnotation\"},{\"attributes\":{\"plot\":{\"id\":\"752690ec-1f26-4742-9789-7a7ef921d691\",\"subtype\":\"Figure\",\"type\":\"Plot\"},\"ticker\":{\"id\":\"ac2dd7ae-3d8b-4fc8-8fe5-9e0f98b24b19\",\"type\":\"BasicTicker\"}},\"id\":\"588ab124-9c01-4c09-974f-572f40180f57\",\"type\":\"Grid\"},{\"attributes\":{\"axis_label\":\"pressure [mb]\",\"formatter\":{\"id\":\"7fa5d6b3-dc25-475f-9bcf-77340341b1c5\",\"type\":\"LogTickFormatter\"},\"plot\":{\"id\":\"752690ec-1f26-4742-9789-7a7ef921d691\",\"subtype\":\"Figure\",\"type\":\"Plot\"},\"ticker\":{\"id\":\"74817ac8-662f-4eaa-960b-c4df97290af9\",\"type\":\"LogTicker\"}},\"id\":\"7d4e6bd6-b871-4c73-ad51-e09406216705\",\"type\":\"LogAxis\"},{\"attributes\":{},\"id\":\"3e41810d-ad99-4c23-9628-f20ea099d963\",\"type\":\"BasicTicker\"},{\"attributes\":{\"source\":{\"id\":\"7f97ef27-c6f2-4bd3-9d67-311735b2dd19\",\"type\":\"ColumnDataSource\"}},\"id\":\"d312e8f0-cb1e-4742-a0c4-35e07dffc7d9\",\"type\":\"CDSView\"},{\"attributes\":{\"num_minor_ticks\":10},\"id\":\"74817ac8-662f-4eaa-960b-c4df97290af9\",\"type\":\"LogTicker\"},{\"attributes\":{\"bottom_units\":\"screen\",\"fill_alpha\":{\"value\":0.5},\"fill_color\":{\"value\":\"lightgrey\"},\"left_units\":\"screen\",\"level\":\"overlay\",\"line_alpha\":{\"value\":1.0},\"line_color\":{\"value\":\"black\"},\"line_dash\":[4,4],\"line_width\":{\"value\":2},\"plot\":null,\"render_mode\":\"css\",\"right_units\":\"screen\",\"top_units\":\"screen\"},\"id\":\"d523d25d-c65f-4e5b-b143-ea4d450a0237\",\"type\":\"BoxAnnotation\"},{\"attributes\":{\"dimension\":1,\"plot\":{\"id\":\"752690ec-1f26-4742-9789-7a7ef921d691\",\"subtype\":\"Figure\",\"type\":\"Plot\"},\"ticker\":{\"id\":\"74817ac8-662f-4eaa-960b-c4df97290af9\",\"type\":\"LogTicker\"}},\"id\":\"ac9f6939-4576-4383-b418-b4570dbff827\",\"type\":\"Grid\"},{\"attributes\":{\"plot\":null,\"text\":\"Log pressure scale\"},\"id\":\"6397e19d-252e-4f03-aa46-2eced26393b0\",\"type\":\"Title\"},{\"attributes\":{\"children\":[{\"id\":\"5ab0c0b6-e853-45a6-bdb4-c1842be1f685\",\"subtype\":\"Figure\",\"type\":\"Plot\"},{\"id\":\"752690ec-1f26-4742-9789-7a7ef921d691\",\"subtype\":\"Figure\",\"type\":\"Plot\"}]},\"id\":\"ac660696-48e1-49f1-ab76-711c94b13fbd\",\"type\":\"Row\"},{\"attributes\":{\"source\":{\"id\":\"8f58b69d-7478-4ddf-97ba-1be632168401\",\"type\":\"ColumnDataSource\"}},\"id\":\"050751f6-9b44-458c-87ea-2ef74eeacaf5\",\"type\":\"CDSView\"},{\"attributes\":{},\"id\":\"811a9006-b654-4534-b95d-8a9dbc4a6fd8\",\"type\":\"PanTool\"},{\"attributes\":{\"callback\":null,\"data\":{\"x\":{\"__ndarray__\":\"Al0kgqsbyD+aKedqr67LP+BuQZ2PftI/5CB0EkKu1z9WYdgGk0fdP6U3FvP3m+E/rIF72Oq25D8kJcFEUdrnP//xmGC87+o/LaFQicrK7T8fevdswiLwP5wHwfQHFPE/vTN/8bGg8T+tk+mGXF/xPxeZgF8jCfA/svNXRCQ17D9wpyFo1DXoP2rcWcNeq+Q/CAlJTVgu4j+yLupqXTDhP/GSBzsoFeI/GXrdhVoR4T/zkAgRmcfaP2h6R5V6udQ/eaxbNbZ00D/qC3ygcFHKP4S8mhPmA8U/itfMjESJwT/0qmtAxtS/Pxadj9+Z2Lw/FZYp+gRPuD/OchOUJs6yPy+RRXlqHq8/7hjxedJ9rj+RV0DR11SvP0qxug0esbA/wOjtLbdEsT+YNZCyblGwP7nxfyv/eK0/ri0g2uVgqj+X4vGHezmnP1fpzSwyz6M/ADy2JlwWoD8SHwC6LWaXPzzInHvQMok/UhezYekVgz8hs6EF4iGUP/lxNkiBOKE/0//u9LX0qD/LV0v/Z9SwP89fXR8aObU/e4WToRt7uT835ztTQ3a9P7jf67XqhMA//bwMc0Aawj+AA2Iry4TDP8T7mnoXzsQ/LvqvGBr0xT8WAUZ+mubGP4mzZIZ0lcc/aJsTYsv+xz9IG0esxSfIP46nik47Icg/opwFLWb8xz+Y0yuGJ8vHPzC033/Qn8c/On13Cj2Lxz9VrTvMTYrHP/T6curzZsc/GqkxANipxj+rj00TMufEP1baf/DjYMI/L9X12TuCvz/71KnZoIK6P7xos91JM7U/\",\"dtype\":\"float64\",\"shape\":[75]},\"y\":{\"__ndarray__\":\"GhExyth1ND/Sv8nbtpRIP2vylNV0PVE/aTum7souWD/At0SJ8fVgPw3Iuahxymc/MSNhhJWvcD/bTfBN02d3P2zb5nxnaoA/CD5h5MAGhz8NmeH1TyaQP+zrCsc9p5Y/LbKd76fGnz/bLW5ISEmmPww9YvTcQq8/JV2OstnstT8Er5Y7M8G+P0c+r3jqkcU/5h99k6ZBzj88bCIzFzjVP4enV8oyxN0//yH99nXg5D8qOpLLf0jtP5kqGJXUifQ/c9cS8kHP/D+/DpwzojQEQIEmwoanVwxA4lgXt9HgE0BSSZ2AJuIbQAMJih9jjiNA5q4l5INuK0AwTKYKRj0zQNv5fmq8/DpAaCJseHrtQkB/+zpwzoxKQM3MzMzMeFJAZmZmZmZqWEAAAAAAAFxeQM3MzMzMJmJAmpmZmZkfZUBmZmZmZhhoQDMzMzMzEWtAAAAAAAAKbkBmZmZmZoFwQM3MzMzM/XFAMzMzMzN6c0CamZmZmfZ0QAAAAAAAc3ZAZmZmZmbvd0DNzMzMzGt5QDMzMzMz6HpAmpmZmZlkfEAAAAAAAOF9QGZmZmZmXX9AZmZmZuZsgECamZmZGSuBQM3MzMxM6YFAAAAAAICngkAzMzMzs2WDQGZmZmbmI4RAmpmZmRnihEDNzMzMTKCFQAAAAACAXoZAMzMzM7Mch0BmZmZm5tqHQJqZmZkZmYhAzczMzExXiUAAAAAAgBWKQDMzMzOz04pAZmZmZuaRi0CamZmZGVCMQM3MzMxMDo1AAAAAAIDMjUAzMzMzs4qOQGZmZmbmSI9A\",\"dtype\":\"float64\",\"shape\":[75]}},\"selected\":{\"id\":\"f9e09ae3-1885-4d66-bdd1-bdbfc55ec599\",\"type\":\"Selection\"},\"selection_policy\":{\"id\":\"fa4b8dc2-c3dc-429b-860a-d3b066a6fe64\",\"type\":\"UnionRenderers\"}},\"id\":\"93fc7b3c-4eb5-4a3c-96d6-d168dfb77821\",\"type\":\"ColumnDataSource\"},{\"attributes\":{},\"id\":\"00b3979d-13ae-4f68-9e0e-63d30eb5aa7c\",\"type\":\"WheelZoomTool\"},{\"attributes\":{\"callback\":null,\"data\":{\"x\":{\"__ndarray__\":\"tptDxmG4yT+qalkpykbNP7mmQGZn0dM/txAeTA6I2T/DSRYHAqrfP3B6F+/HDeM/+v72CkVZ5j8wyn28oZrpP17QSnOOruw/2GSuiHFp7z8JpMSu7c3wP35MEBpmjfE/gaWpVD/l8T/rA8k7h3LxP8h7cqDJ9u8//yiHooI77D9K8EQYWMroP33evz/G+OU/X0ufiAsB5D/bmgAFDxrjP59zGhZhsuM/aQBvgQTl4T+UTdrQpL/aP4gAVC/HBNQ/gACl42Jzzz+gFM7q9O7IP7k+B/HcVsM//y9L+RjFvj8Y4j96Fsa6Pw9vm36Qsrc/uKQrV8YmtD+lR+4Rs1ywP8rXOnjzQq0/Q3g/ZE0Jrj8QDsjumkGuP3lVLQo38K0/9XLVxThCrT+oAz36fQSrP5Y7TxagaKg/yGtEgVUtpj+JjDfH8/ijP4oPNc/meKE/n2iJWyY/nT/Eg/aCAC2WP2NTW6gE3Yk/Mlcn4+9JhT+AOcSJ+QOVP7elYTqlaqE/7bVK9w0oqT/jOM9c0BCxP8oselt0qLU/OjnHqWsnuj/0sbPPAGq+P+TgbwcsMcE/t7Wm9Y4Fwz80+iwqPa7EP/f8F6XXKMY/8M3j7nttxz9VuGlczXTIP6ahX75pOMk/JXkqtx+2yT+jofPYnvLJP/1dK+PX9sk/8dVt1DPSyT9nfKF4fJjJP7spBsT7XMk/PjOxjh0zyT8TeqKQCR3JPyHJDwmd38g/IdumNkACyD9dQx0UnBPGP4lnQ92LWMM/LaRw++2EwD8Jr7iT46m7P2+t6j15/rU/\",\"dtype\":\"float64\",\"shape\":[75]},\"y\":{\"__ndarray__\":\"GhExyth1ND/Sv8nbtpRIP2vylNV0PVE/aTum7souWD/At0SJ8fVgPw3Iuahxymc/MSNhhJWvcD/bTfBN02d3P2zb5nxnaoA/CD5h5MAGhz8NmeH1TyaQP+zrCsc9p5Y/LbKd76fGnz/bLW5ISEmmPww9YvTcQq8/JV2OstnstT8Er5Y7M8G+P0c+r3jqkcU/5h99k6ZBzj88bCIzFzjVP4enV8oyxN0//yH99nXg5D8qOpLLf0jtP5kqGJXUifQ/c9cS8kHP/D+/DpwzojQEQIEmwoanVwxA4lgXt9HgE0BSSZ2AJuIbQAMJih9jjiNA5q4l5INuK0AwTKYKRj0zQNv5fmq8/DpAaCJseHrtQkB/+zpwzoxKQM3MzMzMeFJAZmZmZmZqWEAAAAAAAFxeQM3MzMzMJmJAmpmZmZkfZUBmZmZmZhhoQDMzMzMzEWtAAAAAAAAKbkBmZmZmZoFwQM3MzMzM/XFAMzMzMzN6c0CamZmZmfZ0QAAAAAAAc3ZAZmZmZmbvd0DNzMzMzGt5QDMzMzMz6HpAmpmZmZlkfEAAAAAAAOF9QGZmZmZmXX9AZmZmZuZsgECamZmZGSuBQM3MzMxM6YFAAAAAAICngkAzMzMzs2WDQGZmZmbmI4RAmpmZmRnihEDNzMzMTKCFQAAAAACAXoZAMzMzM7Mch0BmZmZm5tqHQJqZmZkZmYhAzczMzExXiUAAAAAAgBWKQDMzMzOz04pAZmZmZuaRi0CamZmZGVCMQM3MzMxMDo1AAAAAAIDMjUAzMzMzs4qOQGZmZmbmSI9A\",\"dtype\":\"float64\",\"shape\":[75]}},\"selected\":{\"id\":\"8184f5dd-3816-4abe-a48e-b673fbb5ac6e\",\"type\":\"Selection\"},\"selection_policy\":{\"id\":\"85236e79-d195-4788-8498-74ec57f21fd1\",\"type\":\"UnionRenderers\"}},\"id\":\"f5aa9788-1bd7-4c4e-905f-3b3eb5e33274\",\"type\":\"ColumnDataSource\"},{\"attributes\":{\"overlay\":{\"id\":\"d523d25d-c65f-4e5b-b143-ea4d450a0237\",\"type\":\"BoxAnnotation\"}},\"id\":\"a50f17c9-1554-4d34-8121-13787bf9d882\",\"type\":\"BoxZoomTool\"},{\"attributes\":{\"active_drag\":\"auto\",\"active_inspect\":\"auto\",\"active_scroll\":\"auto\",\"active_tap\":\"auto\",\"tools\":[{\"id\":\"811a9006-b654-4534-b95d-8a9dbc4a6fd8\",\"type\":\"PanTool\"},{\"id\":\"00b3979d-13ae-4f68-9e0e-63d30eb5aa7c\",\"type\":\"WheelZoomTool\"},{\"id\":\"a50f17c9-1554-4d34-8121-13787bf9d882\",\"type\":\"BoxZoomTool\"},{\"id\":\"63a8e686-97f0-445a-a3d8-4933b2cc63cc\",\"type\":\"SaveTool\"},{\"id\":\"c1065564-aba1-4351-9b02-5a83f7735f18\",\"type\":\"ResetTool\"},{\"id\":\"e074a7f9-2681-4517-89c7-98320cec7ae5\",\"type\":\"HelpTool\"}]},\"id\":\"14dedaaf-6aec-4f50-b9af-4473d91592a6\",\"type\":\"Toolbar\"},{\"attributes\":{\"source\":{\"id\":\"7c9fe5d0-7325-4ced-b65d-678b4fee2fcc\",\"type\":\"ColumnDataSource\"}},\"id\":\"3efd8a2c-0a02-40cc-b73e-ae6fa3439de5\",\"type\":\"CDSView\"},{\"attributes\":{},\"id\":\"63a8e686-97f0-445a-a3d8-4933b2cc63cc\",\"type\":\"SaveTool\"},{\"attributes\":{\"callback\":null,\"end\":0.01,\"start\":1020},\"id\":\"a2368a09-13c3-43ba-84d5-82801a25f232\",\"type\":\"Range1d\"},{\"attributes\":{\"callback\":null,\"data\":{\"x\":{\"__ndarray__\":\"tptDxmG4yT+qalkpykbNP7mmQGZn0dM/txAeTA6I2T/DSRYHAqrfP3B6F+/HDeM/+v72CkVZ5j8wyn28oZrpP17QSnOOruw/2GSuiHFp7z8JpMSu7c3wP35MEBpmjfE/gaWpVD/l8T/rA8k7h3LxP8h7cqDJ9u8//yiHooI77D9K8EQYWMroP33evz/G+OU/X0ufiAsB5D/bmgAFDxrjP59zGhZhsuM/aQBvgQTl4T+UTdrQpL/aP4gAVC/HBNQ/gACl42Jzzz+gFM7q9O7IP7k+B/HcVsM//y9L+RjFvj8Y4j96Fsa6Pw9vm36Qsrc/uKQrV8YmtD+lR+4Rs1ywP8rXOnjzQq0/Q3g/ZE0Jrj8QDsjumkGuP3lVLQo38K0/9XLVxThCrT+oAz36fQSrP5Y7TxagaKg/yGtEgVUtpj+JjDfH8/ijP4oPNc/meKE/n2iJWyY/nT/Eg/aCAC2WP2NTW6gE3Yk/Mlcn4+9JhT+AOcSJ+QOVP7elYTqlaqE/7bVK9w0oqT/jOM9c0BCxP8oselt0qLU/OjnHqWsnuj/0sbPPAGq+P+TgbwcsMcE/t7Wm9Y4Fwz80+iwqPa7EP/f8F6XXKMY/8M3j7nttxz9VuGlczXTIP6ahX75pOMk/JXkqtx+2yT+jofPYnvLJP/1dK+PX9sk/8dVt1DPSyT9nfKF4fJjJP7spBsT7XMk/PjOxjh0zyT8TeqKQCR3JPyHJDwmd38g/IdumNkACyD9dQx0UnBPGP4lnQ92LWMM/LaRw++2EwD8Jr7iT46m7P2+t6j15/rU/\",\"dtype\":\"float64\",\"shape\":[75]},\"y\":{\"__ndarray__\":\"GhExyth1ND/Sv8nbtpRIP2vylNV0PVE/aTum7souWD/At0SJ8fVgPw3Iuahxymc/MSNhhJWvcD/bTfBN02d3P2zb5nxnaoA/CD5h5MAGhz8NmeH1TyaQP+zrCsc9p5Y/LbKd76fGnz/bLW5ISEmmPww9YvTcQq8/JV2OstnstT8Er5Y7M8G+P0c+r3jqkcU/5h99k6ZBzj88bCIzFzjVP4enV8oyxN0//yH99nXg5D8qOpLLf0jtP5kqGJXUifQ/c9cS8kHP/D+/DpwzojQEQIEmwoanVwxA4lgXt9HgE0BSSZ2AJuIbQAMJih9jjiNA5q4l5INuK0AwTKYKRj0zQNv5fmq8/DpAaCJseHrtQkB/+zpwzoxKQM3MzMzMeFJAZmZmZmZqWEAAAAAAAFxeQM3MzMzMJmJAmpmZmZkfZUBmZmZmZhhoQDMzMzMzEWtAAAAAAAAKbkBmZmZmZoFwQM3MzMzM/XFAMzMzMzN6c0CamZmZmfZ0QAAAAAAAc3ZAZmZmZmbvd0DNzMzMzGt5QDMzMzMz6HpAmpmZmZlkfEAAAAAAAOF9QGZmZmZmXX9AZmZmZuZsgECamZmZGSuBQM3MzMxM6YFAAAAAAICngkAzMzMzs2WDQGZmZmbmI4RAmpmZmRnihEDNzMzMTKCFQAAAAACAXoZAMzMzM7Mch0BmZmZm5tqHQJqZmZkZmYhAzczMzExXiUAAAAAAgBWKQDMzMzOz04pAZmZmZuaRi0CamZmZGVCMQM3MzMxMDo1AAAAAAIDMjUAzMzMzs4qOQGZmZmbmSI9A\",\"dtype\":\"float64\",\"shape\":[75]}},\"selected\":{\"id\":\"fb8fa253-efcd-478f-acb4-ce569116db04\",\"type\":\"Selection\"},\"selection_policy\":{\"id\":\"ff961511-0c62-4a37-897a-c45644521024\",\"type\":\"UnionRenderers\"}},\"id\":\"8f58b69d-7478-4ddf-97ba-1be632168401\",\"type\":\"ColumnDataSource\"},{\"attributes\":{},\"id\":\"7ceacaaa-db0d-4f20-a971-becc32f16b9a\",\"type\":\"HelpTool\"},{\"attributes\":{},\"id\":\"835ddf03-7b6d-412b-b53b-5397184d6cca\",\"type\":\"ResetTool\"},{\"attributes\":{},\"id\":\"c1065564-aba1-4351-9b02-5a83f7735f18\",\"type\":\"ResetTool\"},{\"attributes\":{\"data_source\":{\"id\":\"8f58b69d-7478-4ddf-97ba-1be632168401\",\"type\":\"ColumnDataSource\"},\"glyph\":{\"id\":\"17d6de3e-10b6-480e-9522-ee9df6393364\",\"type\":\"Line\"},\"hover_glyph\":null,\"muted_glyph\":null,\"nonselection_glyph\":{\"id\":\"fb8c17de-5513-4c78-888e-bade503a1aa4\",\"type\":\"Line\"},\"selection_glyph\":null,\"view\":{\"id\":\"050751f6-9b44-458c-87ea-2ef74eeacaf5\",\"type\":\"CDSView\"}},\"id\":\"2541037f-36dd-4344-873f-595a2e61740a\",\"type\":\"GlyphRenderer\"},{\"attributes\":{},\"id\":\"0b1de419-3217-4815-a5a4-f7345ee647ed\",\"type\":\"SaveTool\"},{\"attributes\":{\"data_source\":{\"id\":\"7f97ef27-c6f2-4bd3-9d67-311735b2dd19\",\"type\":\"ColumnDataSource\"},\"glyph\":{\"id\":\"f5f90eaa-f96e-45c2-af6c-609321d81a30\",\"type\":\"Line\"},\"hover_glyph\":null,\"muted_glyph\":null,\"nonselection_glyph\":{\"id\":\"f73cbf14-1e71-4409-a7a4-5c2048af2dd1\",\"type\":\"Line\"},\"selection_glyph\":null,\"view\":{\"id\":\"d312e8f0-cb1e-4742-a0c4-35e07dffc7d9\",\"type\":\"CDSView\"}},\"id\":\"5b932341-0e91-46ca-b8cc-86fa786ec6f3\",\"type\":\"GlyphRenderer\"},{\"attributes\":{\"overlay\":{\"id\":\"d6fdad0f-6081-4d30-89eb-3a098cdf5f1e\",\"type\":\"BoxAnnotation\"}},\"id\":\"a69edd6d-3bb0-494a-a118-dd2a45d50c18\",\"type\":\"BoxZoomTool\"},{\"attributes\":{\"callback\":null,\"end\":1.1292631987000001,\"start\":0.028214131299999994},\"id\":\"fc23d980-4739-40db-84e2-96f4844ae424\",\"type\":\"Range1d\"},{\"attributes\":{},\"id\":\"61d9cbf5-415e-4622-b748-db2c48a9f706\",\"type\":\"PanTool\"},{\"attributes\":{},\"id\":\"e074a7f9-2681-4517-89c7-98320cec7ae5\",\"type\":\"HelpTool\"},{\"attributes\":{\"line_alpha\":0.1,\"line_color\":\"#1f77b4\",\"line_width\":3,\"x\":{\"field\":\"x\"},\"y\":{\"field\":\"y\"}},\"id\":\"f73cbf14-1e71-4409-a7a4-5c2048af2dd1\",\"type\":\"Line\"},{\"attributes\":{\"fill_alpha\":{\"value\":0.1},\"fill_color\":{\"value\":\"#1f77b4\"},\"line_alpha\":{\"value\":0.1},\"line_color\":{\"value\":\"#1f77b4\"},\"x\":{\"field\":\"x\"},\"y\":{\"field\":\"y\"}},\"id\":\"72f5f74d-ff9b-4710-887a-6abb20a0ddd8\",\"type\":\"Square\"},{\"attributes\":{\"line_alpha\":0.1,\"line_color\":\"#1f77b4\",\"line_width\":3,\"x\":{\"field\":\"x\"},\"y\":{\"field\":\"y\"}},\"id\":\"6d323950-d842-49cf-b316-c726128eb3db\",\"type\":\"Line\"},{\"attributes\":{\"source\":{\"id\":\"f5aa9788-1bd7-4c4e-905f-3b3eb5e33274\",\"type\":\"ColumnDataSource\"}},\"id\":\"35bca9f2-eb72-45ea-812c-8022c23bd246\",\"type\":\"CDSView\"},{\"attributes\":{\"data_source\":{\"id\":\"93fc7b3c-4eb5-4a3c-96d6-d168dfb77821\",\"type\":\"ColumnDataSource\"},\"glyph\":{\"id\":\"ee72934d-1d87-43f8-9173-4b031a5a5849\",\"type\":\"Square\"},\"hover_glyph\":null,\"muted_glyph\":null,\"nonselection_glyph\":{\"id\":\"72f5f74d-ff9b-4710-887a-6abb20a0ddd8\",\"type\":\"Square\"},\"selection_glyph\":null,\"view\":{\"id\":\"2c617e2c-9ec7-41c7-aa35-2413bdbcfc74\",\"type\":\"CDSView\"}},\"id\":\"7e57a189-8a5b-4286-8be6-635c7cc0058b\",\"type\":\"GlyphRenderer\"},{\"attributes\":{\"fill_alpha\":{\"value\":0.1},\"fill_color\":{\"value\":\"#1f77b4\"},\"line_alpha\":{\"value\":0.1},\"line_color\":{\"value\":\"#1f77b4\"},\"x\":{\"field\":\"x\"},\"y\":{\"field\":\"y\"}},\"id\":\"856dcca6-3799-449f-b8f6-54599cc63fe0\",\"type\":\"Circle\"},{\"attributes\":{\"line_color\":\"#4daf4a\",\"line_width\":1.5,\"x\":{\"field\":\"x\"},\"y\":{\"field\":\"y\"}},\"id\":\"17d6de3e-10b6-480e-9522-ee9df6393364\",\"type\":\"Line\"},{\"attributes\":{\"callback\":null,\"data\":{\"x\":{\"__ndarray__\":\"Al0kgqsbyD+aKedqr67LP+BuQZ2PftI/5CB0EkKu1z9WYdgGk0fdP6U3FvP3m+E/rIF72Oq25D8kJcFEUdrnP//xmGC87+o/LaFQicrK7T8fevdswiLwP5wHwfQHFPE/vTN/8bGg8T+tk+mGXF/xPxeZgF8jCfA/svNXRCQ17D9wpyFo1DXoP2rcWcNeq+Q/CAlJTVgu4j+yLupqXTDhP/GSBzsoFeI/GXrdhVoR4T/zkAgRmcfaP2h6R5V6udQ/eaxbNbZ00D/qC3ygcFHKP4S8mhPmA8U/itfMjESJwT/0qmtAxtS/Pxadj9+Z2Lw/FZYp+gRPuD/OchOUJs6yPy+RRXlqHq8/7hjxedJ9rj+RV0DR11SvP0qxug0esbA/wOjtLbdEsT+YNZCyblGwP7nxfyv/eK0/ri0g2uVgqj+X4vGHezmnP1fpzSwyz6M/ADy2JlwWoD8SHwC6LWaXPzzInHvQMok/UhezYekVgz8hs6EF4iGUP/lxNkiBOKE/0//u9LX0qD/LV0v/Z9SwP89fXR8aObU/e4WToRt7uT835ztTQ3a9P7jf67XqhMA//bwMc0Aawj+AA2Iry4TDP8T7mnoXzsQ/LvqvGBr0xT8WAUZ+mubGP4mzZIZ0lcc/aJsTYsv+xz9IG0esxSfIP46nik47Icg/opwFLWb8xz+Y0yuGJ8vHPzC033/Qn8c/On13Cj2Lxz9VrTvMTYrHP/T6curzZsc/GqkxANipxj+rj00TMufEP1baf/DjYMI/L9X12TuCvz/71KnZoIK6P7xos91JM7U/\",\"dtype\":\"float64\",\"shape\":[75]},\"y\":{\"__ndarray__\":\"GhExyth1ND/Sv8nbtpRIP2vylNV0PVE/aTum7souWD/At0SJ8fVgPw3Iuahxymc/MSNhhJWvcD/bTfBN02d3P2zb5nxnaoA/CD5h5MAGhz8NmeH1TyaQP+zrCsc9p5Y/LbKd76fGnz/bLW5ISEmmPww9YvTcQq8/JV2OstnstT8Er5Y7M8G+P0c+r3jqkcU/5h99k6ZBzj88bCIzFzjVP4enV8oyxN0//yH99nXg5D8qOpLLf0jtP5kqGJXUifQ/c9cS8kHP/D+/DpwzojQEQIEmwoanVwxA4lgXt9HgE0BSSZ2AJuIbQAMJih9jjiNA5q4l5INuK0AwTKYKRj0zQNv5fmq8/DpAaCJseHrtQkB/+zpwzoxKQM3MzMzMeFJAZmZmZmZqWEAAAAAAAFxeQM3MzMzMJmJAmpmZmZkfZUBmZmZmZhhoQDMzMzMzEWtAAAAAAAAKbkBmZmZmZoFwQM3MzMzM/XFAMzMzMzN6c0CamZmZmfZ0QAAAAAAAc3ZAZmZmZmbvd0DNzMzMzGt5QDMzMzMz6HpAmpmZmZlkfEAAAAAAAOF9QGZmZmZmXX9AZmZmZuZsgECamZmZGSuBQM3MzMxM6YFAAAAAAICngkAzMzMzs2WDQGZmZmbmI4RAmpmZmRnihEDNzMzMTKCFQAAAAACAXoZAMzMzM7Mch0BmZmZm5tqHQJqZmZkZmYhAzczMzExXiUAAAAAAgBWKQDMzMzOz04pAZmZmZuaRi0CamZmZGVCMQM3MzMxMDo1AAAAAAIDMjUAzMzMzs4qOQGZmZmbmSI9A\",\"dtype\":\"float64\",\"shape\":[75]}},\"selected\":{\"id\":\"c8b04ca7-fe2c-4b7f-9be6-7f70c2eb8270\",\"type\":\"Selection\"},\"selection_policy\":{\"id\":\"5cfda517-541e-4323-bcde-162721afe73b\",\"type\":\"UnionRenderers\"}},\"id\":\"7f97ef27-c6f2-4bd3-9d67-311735b2dd19\",\"type\":\"ColumnDataSource\"},{\"attributes\":{\"line_alpha\":0.6,\"line_color\":\"#e41a1c\",\"line_dash\":[6],\"line_width\":5,\"x\":{\"field\":\"x\"},\"y\":{\"field\":\"y\"}},\"id\":\"c5179444-f2ab-4519-97ac-cf5d7914d235\",\"type\":\"Line\"},{\"attributes\":{},\"id\":\"ccd1cfa1-a3d2-4768-8cc6-0164e5be396d\",\"type\":\"LinearScale\"},{\"attributes\":{\"source\":{\"id\":\"d101a66c-abdf-43f7-adad-77677a8c6853\",\"type\":\"ColumnDataSource\"}},\"id\":\"97ca5695-eaf8-4e81-8d43-35fddb84a245\",\"type\":\"CDSView\"},{\"attributes\":{},\"id\":\"26482ea6-85c6-49d9-a7aa-c7bf12418108\",\"type\":\"LinearScale\"},{\"attributes\":{\"data_source\":{\"id\":\"f5aa9788-1bd7-4c4e-905f-3b3eb5e33274\",\"type\":\"ColumnDataSource\"},\"glyph\":{\"id\":\"df248d85-830a-4ccc-af58-817a61a338da\",\"type\":\"Circle\"},\"hover_glyph\":null,\"muted_glyph\":null,\"nonselection_glyph\":{\"id\":\"856dcca6-3799-449f-b8f6-54599cc63fe0\",\"type\":\"Circle\"},\"selection_glyph\":null,\"view\":{\"id\":\"35bca9f2-eb72-45ea-812c-8022c23bd246\",\"type\":\"CDSView\"}},\"id\":\"c04c708d-09c1-46c7-ac51-68a462c1bcb6\",\"type\":\"GlyphRenderer\"},{\"attributes\":{\"line_alpha\":0.1,\"line_color\":\"#1f77b4\",\"line_width\":1.5,\"x\":{\"field\":\"x\"},\"y\":{\"field\":\"y\"}},\"id\":\"fb8c17de-5513-4c78-888e-bade503a1aa4\",\"type\":\"Line\"},{\"attributes\":{\"plot\":null,\"text\":\"Linear pressure scale\"},\"id\":\"c892c06c-f3b5-40e2-98e3-95fae3a831d1\",\"type\":\"Title\"},{\"attributes\":{\"fill_alpha\":{\"value\":0.7},\"fill_color\":{\"value\":\"#4daf4a\"},\"line_alpha\":{\"value\":0.7},\"line_color\":{\"value\":\"#4daf4a\"},\"x\":{\"field\":\"x\"},\"y\":{\"field\":\"y\"}},\"id\":\"df248d85-830a-4ccc-af58-817a61a338da\",\"type\":\"Circle\"},{\"attributes\":{\"line_alpha\":0.1,\"line_color\":\"#1f77b4\",\"line_dash\":[6],\"line_width\":5,\"x\":{\"field\":\"x\"},\"y\":{\"field\":\"y\"}},\"id\":\"bcf68c92-2b8c-4072-a6e5-0bc6818c4719\",\"type\":\"Line\"},{\"attributes\":{\"callback\":null,\"data\":{\"x\":{\"__ndarray__\":\"tptDxmG4yT+qalkpykbNP7mmQGZn0dM/txAeTA6I2T/DSRYHAqrfP3B6F+/HDeM/+v72CkVZ5j8wyn28oZrpP17QSnOOruw/2GSuiHFp7z8JpMSu7c3wP35MEBpmjfE/gaWpVD/l8T/rA8k7h3LxP8h7cqDJ9u8//yiHooI77D9K8EQYWMroP33evz/G+OU/X0ufiAsB5D/bmgAFDxrjP59zGhZhsuM/aQBvgQTl4T+UTdrQpL/aP4gAVC/HBNQ/gACl42Jzzz+gFM7q9O7IP7k+B/HcVsM//y9L+RjFvj8Y4j96Fsa6Pw9vm36Qsrc/uKQrV8YmtD+lR+4Rs1ywP8rXOnjzQq0/Q3g/ZE0Jrj8QDsjumkGuP3lVLQo38K0/9XLVxThCrT+oAz36fQSrP5Y7TxagaKg/yGtEgVUtpj+JjDfH8/ijP4oPNc/meKE/n2iJWyY/nT/Eg/aCAC2WP2NTW6gE3Yk/Mlcn4+9JhT+AOcSJ+QOVP7elYTqlaqE/7bVK9w0oqT/jOM9c0BCxP8oselt0qLU/OjnHqWsnuj/0sbPPAGq+P+TgbwcsMcE/t7Wm9Y4Fwz80+iwqPa7EP/f8F6XXKMY/8M3j7nttxz9VuGlczXTIP6ahX75pOMk/JXkqtx+2yT+jofPYnvLJP/1dK+PX9sk/8dVt1DPSyT9nfKF4fJjJP7spBsT7XMk/PjOxjh0zyT8TeqKQCR3JPyHJDwmd38g/IdumNkACyD9dQx0UnBPGP4lnQ92LWMM/LaRw++2EwD8Jr7iT46m7P2+t6j15/rU/\",\"dtype\":\"float64\",\"shape\":[75]},\"y\":{\"__ndarray__\":\"GhExyth1ND/Sv8nbtpRIP2vylNV0PVE/aTum7souWD/At0SJ8fVgPw3Iuahxymc/MSNhhJWvcD/bTfBN02d3P2zb5nxnaoA/CD5h5MAGhz8NmeH1TyaQP+zrCsc9p5Y/LbKd76fGnz/bLW5ISEmmPww9YvTcQq8/JV2OstnstT8Er5Y7M8G+P0c+r3jqkcU/5h99k6ZBzj88bCIzFzjVP4enV8oyxN0//yH99nXg5D8qOpLLf0jtP5kqGJXUifQ/c9cS8kHP/D+/DpwzojQEQIEmwoanVwxA4lgXt9HgE0BSSZ2AJuIbQAMJih9jjiNA5q4l5INuK0AwTKYKRj0zQNv5fmq8/DpAaCJseHrtQkB/+zpwzoxKQM3MzMzMeFJAZmZmZmZqWEAAAAAAAFxeQM3MzMzMJmJAmpmZmZkfZUBmZmZmZhhoQDMzMzMzEWtAAAAAAAAKbkBmZmZmZoFwQM3MzMzM/XFAMzMzMzN6c0CamZmZmfZ0QAAAAAAAc3ZAZmZmZmbvd0DNzMzMzGt5QDMzMzMz6HpAmpmZmZlkfEAAAAAAAOF9QGZmZmZmXX9AZmZmZuZsgECamZmZGSuBQM3MzMxM6YFAAAAAAICngkAzMzMzs2WDQGZmZmbmI4RAmpmZmRnihEDNzMzMTKCFQAAAAACAXoZAMzMzM7Mch0BmZmZm5tqHQJqZmZkZmYhAzczMzExXiUAAAAAAgBWKQDMzMzOz04pAZmZmZuaRi0CamZmZGVCMQM3MzMxMDo1AAAAAAIDMjUAzMzMzs4qOQGZmZmbmSI9A\",\"dtype\":\"float64\",\"shape\":[75]}},\"selected\":{\"id\":\"73d4f950-9494-44f4-9a05-640f552e7aeb\",\"type\":\"Selection\"},\"selection_policy\":{\"id\":\"3826588d-9ea8-4a93-b8e6-d0798ed852f8\",\"type\":\"UnionRenderers\"}},\"id\":\"4cebf8d1-c5ce-47d4-a376-3235d1c872c1\",\"type\":\"ColumnDataSource\"},{\"attributes\":{\"line_alpha\":0.6,\"line_color\":\"#984ea3\",\"line_width\":3,\"x\":{\"field\":\"x\"},\"y\":{\"field\":\"y\"}},\"id\":\"d390e4b3-e350-4116-8a87-90e0ad8f2535\",\"type\":\"Line\"},{\"attributes\":{\"callback\":null,\"end\":0.01,\"start\":1020},\"id\":\"ff84d8b7-fd1e-4eb8-bce9-680b7a9eb8f8\",\"type\":\"Range1d\"},{\"attributes\":{},\"id\":\"12f4a4af-a82e-474c-9ae5-92165f843018\",\"type\":\"WheelZoomTool\"},{\"attributes\":{\"line_alpha\":0.6,\"line_color\":\"#e41a1c\",\"line_dash\":[6],\"line_width\":5,\"x\":{\"field\":\"x\"},\"y\":{\"field\":\"y\"}},\"id\":\"70c702d1-28fd-486b-bcd9-7e1005c9caed\",\"type\":\"Line\"},{\"attributes\":{\"source\":{\"id\":\"93fc7b3c-4eb5-4a3c-96d6-d168dfb77821\",\"type\":\"ColumnDataSource\"}},\"id\":\"2c617e2c-9ec7-41c7-aa35-2413bdbcfc74\",\"type\":\"CDSView\"},{\"attributes\":{\"axis_label\":\"cooling rate [K/day]\",\"formatter\":{\"id\":\"c9b32a5f-9601-4ad8-894d-87c9afafb92d\",\"type\":\"BasicTickFormatter\"},\"plot\":{\"id\":\"5ab0c0b6-e853-45a6-bdb4-c1842be1f685\",\"subtype\":\"Figure\",\"type\":\"Plot\"},\"ticker\":{\"id\":\"a6f05dc0-c4f6-4a62-bf4a-f33bbf9eed1a\",\"type\":\"BasicTicker\"}},\"id\":\"3ef0756c-06a0-467a-8125-e8383ed1bca0\",\"type\":\"LinearAxis\"},{\"attributes\":{\"line_alpha\":0.6,\"line_color\":\"#984ea3\",\"line_width\":3,\"x\":{\"field\":\"x\"},\"y\":{\"field\":\"y\"}},\"id\":\"f5f90eaa-f96e-45c2-af6c-609321d81a30\",\"type\":\"Line\"},{\"attributes\":{},\"id\":\"e26506e3-1a16-4f9e-afe3-ce8ca9586c66\",\"type\":\"LinearScale\"},{\"attributes\":{\"callback\":null,\"data\":{\"x\":{\"__ndarray__\":\"Al0kgqsbyD+aKedqr67LP+BuQZ2PftI/5CB0EkKu1z9WYdgGk0fdP6U3FvP3m+E/rIF72Oq25D8kJcFEUdrnP//xmGC87+o/LaFQicrK7T8fevdswiLwP5wHwfQHFPE/vTN/8bGg8T+tk+mGXF/xPxeZgF8jCfA/svNXRCQ17D9wpyFo1DXoP2rcWcNeq+Q/CAlJTVgu4j+yLupqXTDhP/GSBzsoFeI/GXrdhVoR4T/zkAgRmcfaP2h6R5V6udQ/eaxbNbZ00D/qC3ygcFHKP4S8mhPmA8U/itfMjESJwT/0qmtAxtS/Pxadj9+Z2Lw/FZYp+gRPuD/OchOUJs6yPy+RRXlqHq8/7hjxedJ9rj+RV0DR11SvP0qxug0esbA/wOjtLbdEsT+YNZCyblGwP7nxfyv/eK0/ri0g2uVgqj+X4vGHezmnP1fpzSwyz6M/ADy2JlwWoD8SHwC6LWaXPzzInHvQMok/UhezYekVgz8hs6EF4iGUP/lxNkiBOKE/0//u9LX0qD/LV0v/Z9SwP89fXR8aObU/e4WToRt7uT835ztTQ3a9P7jf67XqhMA//bwMc0Aawj+AA2Iry4TDP8T7mnoXzsQ/LvqvGBr0xT8WAUZ+mubGP4mzZIZ0lcc/aJsTYsv+xz9IG0esxSfIP46nik47Icg/opwFLWb8xz+Y0yuGJ8vHPzC033/Qn8c/On13Cj2Lxz9VrTvMTYrHP/T6curzZsc/GqkxANipxj+rj00TMufEP1baf/DjYMI/L9X12TuCvz/71KnZoIK6P7xos91JM7U/\",\"dtype\":\"float64\",\"shape\":[75]},\"y\":{\"__ndarray__\":\"GhExyth1ND/Sv8nbtpRIP2vylNV0PVE/aTum7souWD/At0SJ8fVgPw3Iuahxymc/MSNhhJWvcD/bTfBN02d3P2zb5nxnaoA/CD5h5MAGhz8NmeH1TyaQP+zrCsc9p5Y/LbKd76fGnz/bLW5ISEmmPww9YvTcQq8/JV2OstnstT8Er5Y7M8G+P0c+r3jqkcU/5h99k6ZBzj88bCIzFzjVP4enV8oyxN0//yH99nXg5D8qOpLLf0jtP5kqGJXUifQ/c9cS8kHP/D+/DpwzojQEQIEmwoanVwxA4lgXt9HgE0BSSZ2AJuIbQAMJih9jjiNA5q4l5INuK0AwTKYKRj0zQNv5fmq8/DpAaCJseHrtQkB/+zpwzoxKQM3MzMzMeFJAZmZmZmZqWEAAAAAAAFxeQM3MzMzMJmJAmpmZmZkfZUBmZmZmZhhoQDMzMzMzEWtAAAAAAAAKbkBmZmZmZoFwQM3MzMzM/XFAMzMzMzN6c0CamZmZmfZ0QAAAAAAAc3ZAZmZmZmbvd0DNzMzMzGt5QDMzMzMz6HpAmpmZmZlkfEAAAAAAAOF9QGZmZmZmXX9AZmZmZuZsgECamZmZGSuBQM3MzMxM6YFAAAAAAICngkAzMzMzs2WDQGZmZmbmI4RAmpmZmRnihEDNzMzMTKCFQAAAAACAXoZAMzMzM7Mch0BmZmZm5tqHQJqZmZkZmYhAzczMzExXiUAAAAAAgBWKQDMzMzOz04pAZmZmZuaRi0CamZmZGVCMQM3MzMxMDo1AAAAAAIDMjUAzMzMzs4qOQGZmZmbmSI9A\",\"dtype\":\"float64\",\"shape\":[75]}},\"selected\":{\"id\":\"0f3c4118-ae6b-492d-8fdd-94f99b600340\",\"type\":\"Selection\"},\"selection_policy\":{\"id\":\"71984819-3a19-4d90-b949-f3d57d26ece1\",\"type\":\"UnionRenderers\"}},\"id\":\"d101a66c-abdf-43f7-adad-77677a8c6853\",\"type\":\"ColumnDataSource\"},{\"attributes\":{\"below\":[{\"id\":\"3ef0756c-06a0-467a-8125-e8383ed1bca0\",\"type\":\"LinearAxis\"}],\"left\":[{\"id\":\"2112bde0-1557-4bee-a0cb-b8a56975ecf4\",\"type\":\"LinearAxis\"}],\"plot_height\":500,\"plot_width\":400,\"renderers\":[{\"id\":\"3ef0756c-06a0-467a-8125-e8383ed1bca0\",\"type\":\"LinearAxis\"},{\"id\":\"c73cd303-022c-4f07-87cf-c020c0ec425e\",\"type\":\"Grid\"},{\"id\":\"2112bde0-1557-4bee-a0cb-b8a56975ecf4\",\"type\":\"LinearAxis\"},{\"id\":\"e68304bc-6aea-41f8-b518-e5e197e8afe6\",\"type\":\"Grid\"},{\"id\":\"d6fdad0f-6081-4d30-89eb-3a098cdf5f1e\",\"type\":\"BoxAnnotation\"},{\"id\":\"92d9ba53-f7cc-4618-af89-5ea9254ae067\",\"type\":\"GlyphRenderer\"},{\"id\":\"c04c708d-09c1-46c7-ac51-68a462c1bcb6\",\"type\":\"GlyphRenderer\"},{\"id\":\"2541037f-36dd-4344-873f-595a2e61740a\",\"type\":\"GlyphRenderer\"},{\"id\":\"7e57a189-8a5b-4286-8be6-635c7cc0058b\",\"type\":\"GlyphRenderer\"},{\"id\":\"5b932341-0e91-46ca-b8cc-86fa786ec6f3\",\"type\":\"GlyphRenderer\"}],\"title\":{\"id\":\"c892c06c-f3b5-40e2-98e3-95fae3a831d1\",\"type\":\"Title\"},\"toolbar\":{\"id\":\"80f94020-07d0-49bd-bb04-056d082dcef1\",\"type\":\"Toolbar\"},\"toolbar_location\":null,\"x_range\":{\"id\":\"33dac877-5c4a-4830-bf91-c4e910a5a021\",\"type\":\"Range1d\"},\"x_scale\":{\"id\":\"e26506e3-1a16-4f9e-afe3-ce8ca9586c66\",\"type\":\"LinearScale\"},\"y_range\":{\"id\":\"a2368a09-13c3-43ba-84d5-82801a25f232\",\"type\":\"Range1d\"},\"y_scale\":{\"id\":\"26482ea6-85c6-49d9-a7aa-c7bf12418108\",\"type\":\"LinearScale\"}},\"id\":\"5ab0c0b6-e853-45a6-bdb4-c1842be1f685\",\"subtype\":\"Figure\",\"type\":\"Plot\"},{\"attributes\":{\"data_source\":{\"id\":\"d1b8c285-b867-4e38-86bd-aba743d7b9d0\",\"type\":\"ColumnDataSource\"},\"glyph\":{\"id\":\"c5179444-f2ab-4519-97ac-cf5d7914d235\",\"type\":\"Line\"},\"hover_glyph\":null,\"muted_glyph\":null,\"nonselection_glyph\":{\"id\":\"bcf68c92-2b8c-4072-a6e5-0bc6818c4719\",\"type\":\"Line\"},\"selection_glyph\":null,\"view\":{\"id\":\"5d8a392a-0157-4ccf-8fb6-31c9f5b0a968\",\"type\":\"CDSView\"}},\"id\":\"be708388-574c-4a4e-950c-8c72d4683666\",\"type\":\"GlyphRenderer\"},{\"attributes\":{\"children\":[{\"id\":\"ac660696-48e1-49f1-ab76-711c94b13fbd\",\"type\":\"Row\"}]},\"id\":\"706fe37f-6fc0-434f-ba73-3ed9c30cef22\",\"type\":\"Column\"},{\"attributes\":{\"plot\":{\"id\":\"5ab0c0b6-e853-45a6-bdb4-c1842be1f685\",\"subtype\":\"Figure\",\"type\":\"Plot\"},\"ticker\":{\"id\":\"a6f05dc0-c4f6-4a62-bf4a-f33bbf9eed1a\",\"type\":\"BasicTicker\"}},\"id\":\"c73cd303-022c-4f07-87cf-c020c0ec425e\",\"type\":\"Grid\"},{\"attributes\":{\"items\":[{\"id\":\"f802b6a8-53bf-4941-aed9-c9965cb9f884\",\"type\":\"LegendItem\"},{\"id\":\"423f0820-dfd7-46b1-8e30-dec8e62a9dbc\",\"type\":\"LegendItem\"},{\"id\":\"7c9f720f-a192-45b8-a301-17c041c704d1\",\"type\":\"LegendItem\"}],\"label_text_font_size\":{\"value\":\"8pt\"},\"location\":[10,-30],\"plot\":{\"id\":\"752690ec-1f26-4742-9789-7a7ef921d691\",\"subtype\":\"Figure\",\"type\":\"Plot\"}},\"id\":\"29860bd1-e95a-43c8-a18d-1fb5e32149d0\",\"type\":\"Legend\"},{\"attributes\":{\"callback\":null,\"data\":{\"x\":{\"__ndarray__\":\"PufRAQc8wD9nqB8O8ZPDP6mvGabXYss/u8RoiPAQ0j8ePOoa89vWPznnbY2EDdw/W3IFqU7m4D9Me9Z3dgDkP+JVnIs7Nec/Ed6ivCRo6j8w9dKYOXLtP4mOLoA6D/A/TTM4pRcQ8T+LVHMUe0PxP5qC60CMRvA/GEdA4Nza7D8NtmSXoG3oPwWKedKZJuQ/rEHzlDAO4T9uZ8KjS8ffP7W35zvw+OA/t5qW1OBo4D/N1rCVhlDaPwFkEVhzn9Q/439dE/No0D9DKAiBCRrKPw7mAtnj7MQ/TLbs1lOnwT/scmPd7E3AP+5f9j6Xob0/d0eReCO6uD9a1lNk2qKyP2OWA17in60/TIWPwNPvqz+/I4jFOBetP77yfq5GDrA/PuP1cjW4sD+2lswoy02vP/ifRmtWx6s/bWALd7d9qD80/+XjpV6lP2FmYGPlN6I/5a8ADvCQnT8pVERBgVuVPyf/I2u+XoY/OK42b3K5gD93w36bOpmSP/DZNX8eM6A/1BFszlSXpz8hoZiCVtyvPw/9+QeoKLQ/ZV93j3NouD9uqig9V4S8P4/9TaQLHMA/F+Yt7KOywT9cKZnWhSPDPwLGK/efiMQ/7CNk3rLcxT/xXhhdnADHP34dtC6g3cc/mkc4DGpoyD+hqMcRxqrIPyNQNy/StMg/IQkUFLOcyD+OpRfOmHbIP+nhNuAUUsg/b2VHsmBFyD/lzUSFqErIP8dr2py1Icg/qbnk0fBaxz+ah59BO47FP/I8+lc9/cI/vdzMjY5QwD+TIHWeJYa7P59FOCt3JrY/\",\"dtype\":\"float64\",\"shape\":[75]},\"y\":{\"__ndarray__\":\"S/O/Q+51ND/Sv8nbtpRIP2vylNV0PVE/aTum7souWD/At0SJ8fVgPw3Iuahxymc/MSNhhJWvcD/bTfBN02d3P2zb5nxnaoA/CD5h5MAGhz8NmeH1TyaQP+zrCsc9p5Y/LbKd76fGnz/bLW5ISEmmPww9YvTcQq8/JV2OstnstT8Er5Y7M8G+P0c+r3jqkcU/5h99k6ZBzj88bCIzFzjVP4enV8oyxN0//yH99nXg5D8qOpLLf0jtP5kqGJXUifQ/c9cS8kHP/D+/DpwzojQEQIEmwoanVwxA4lgXt9HgE0BSSZ2AJuIbQAMJih9jjiNA5q4l5INuK0AwTKYKRj0zQNv5fmq8/DpAaCJseHrtQkB/+zpwzoxKQM3MzMzMeFJAZmZmZmZqWEAAAAAAAFxeQM3MzMzMJmJAmpmZmZkfZUBmZmZmZhhoQDMzMzMzEWtAAAAAAAAKbkBmZmZmZoFwQM3MzMzM/XFAMzMzMzN6c0CamZmZmfZ0QAAAAAAAc3ZAZmZmZmbvd0DNzMzMzGt5QDMzMzMz6HpAmpmZmZlkfEAAAAAAAOF9QGZmZmZmXX9AZmZmZuZsgECamZmZGSuBQM3MzMxM6YFAAAAAAICngkAzMzMzs2WDQGZmZmbmI4RAmpmZmRnihEDNzMzMTKCFQAAAAACAXoZAMzMzM7Mch0BmZmZm5tqHQJqZmZkZmYhAzczMzExXiUAAAAAAgBWKQDMzMzOz04pAZmZmZuaRi0CamZmZGVCMQM3MzMxMDo1AAAAAAIDMjUAzMzMzs4qOQGZmZmbmSI9A\",\"dtype\":\"float64\",\"shape\":[75]}},\"selected\":{\"id\":\"7091c436-9439-4848-a940-c4b9b860d5c1\",\"type\":\"Selection\"},\"selection_policy\":{\"id\":\"88e74599-74a3-4ec3-b0b2-cd766e0c4821\",\"type\":\"UnionRenderers\"}},\"id\":\"d1b8c285-b867-4e38-86bd-aba743d7b9d0\",\"type\":\"ColumnDataSource\"},{\"attributes\":{},\"id\":\"135b2400-97bb-4253-9424-a9b59e404b1c\",\"type\":\"LogScale\"},{\"attributes\":{\"below\":[{\"id\":\"62792f35-7d9d-45de-8a82-f44ee2ee482e\",\"type\":\"LinearAxis\"}],\"left\":[{\"id\":\"7d4e6bd6-b871-4c73-ad51-e09406216705\",\"type\":\"LogAxis\"}],\"plot_height\":500,\"plot_width\":560,\"renderers\":[{\"id\":\"62792f35-7d9d-45de-8a82-f44ee2ee482e\",\"type\":\"LinearAxis\"},{\"id\":\"588ab124-9c01-4c09-974f-572f40180f57\",\"type\":\"Grid\"},{\"id\":\"7d4e6bd6-b871-4c73-ad51-e09406216705\",\"type\":\"LogAxis\"},{\"id\":\"ac9f6939-4576-4383-b418-b4570dbff827\",\"type\":\"Grid\"},{\"id\":\"d523d25d-c65f-4e5b-b143-ea4d450a0237\",\"type\":\"BoxAnnotation\"},{\"id\":\"be708388-574c-4a4e-950c-8c72d4683666\",\"type\":\"GlyphRenderer\"},{\"id\":\"e0fae3d8-c391-48e7-a330-25d710925e32\",\"type\":\"GlyphRenderer\"},{\"id\":\"5e28a270-991f-481c-b9ad-eaac7999fe78\",\"type\":\"GlyphRenderer\"},{\"id\":\"f8cbd6d5-66dd-48a5-979d-a8464cb0b20c\",\"type\":\"GlyphRenderer\"},{\"id\":\"d8cab369-3d4b-4ae7-b2f7-0619ee9a90aa\",\"type\":\"GlyphRenderer\"},{\"id\":\"29860bd1-e95a-43c8-a18d-1fb5e32149d0\",\"type\":\"Legend\"}],\"right\":[{\"id\":\"29860bd1-e95a-43c8-a18d-1fb5e32149d0\",\"type\":\"Legend\"}],\"title\":{\"id\":\"6397e19d-252e-4f03-aa46-2eced26393b0\",\"type\":\"Title\"},\"toolbar\":{\"id\":\"14dedaaf-6aec-4f50-b9af-4473d91592a6\",\"type\":\"Toolbar\"},\"toolbar_location\":null,\"x_range\":{\"id\":\"fc23d980-4739-40db-84e2-96f4844ae424\",\"type\":\"Range1d\"},\"x_scale\":{\"id\":\"ccd1cfa1-a3d2-4768-8cc6-0164e5be396d\",\"type\":\"LinearScale\"},\"y_range\":{\"id\":\"ff84d8b7-fd1e-4eb8-bce9-680b7a9eb8f8\",\"type\":\"Range1d\"},\"y_scale\":{\"id\":\"135b2400-97bb-4253-9424-a9b59e404b1c\",\"type\":\"LogScale\"}},\"id\":\"752690ec-1f26-4742-9789-7a7ef921d691\",\"subtype\":\"Figure\",\"type\":\"Plot\"},{\"attributes\":{\"source\":{\"id\":\"d1b8c285-b867-4e38-86bd-aba743d7b9d0\",\"type\":\"ColumnDataSource\"}},\"id\":\"5d8a392a-0157-4ccf-8fb6-31c9f5b0a968\",\"type\":\"CDSView\"},{\"attributes\":{\"source\":{\"id\":\"5399f4b5-6ba6-4b96-ab8a-1527984260ee\",\"type\":\"ColumnDataSource\"}},\"id\":\"9ac8ed65-cbd5-43a0-a162-2fbfa92760df\",\"type\":\"CDSView\"},{\"attributes\":{\"callback\":null,\"end\":0.20479235347900002,\"start\":0.0062194186210000005},\"id\":\"33dac877-5c4a-4830-bf91-c4e910a5a021\",\"type\":\"Range1d\"},{\"attributes\":{},\"id\":\"a6f05dc0-c4f6-4a62-bf4a-f33bbf9eed1a\",\"type\":\"BasicTicker\"},{\"attributes\":{\"active_drag\":\"auto\",\"active_inspect\":\"auto\",\"active_scroll\":\"auto\",\"active_tap\":\"auto\",\"tools\":[{\"id\":\"61d9cbf5-415e-4622-b748-db2c48a9f706\",\"type\":\"PanTool\"},{\"id\":\"12f4a4af-a82e-474c-9ae5-92165f843018\",\"type\":\"WheelZoomTool\"},{\"id\":\"a69edd6d-3bb0-494a-a118-dd2a45d50c18\",\"type\":\"BoxZoomTool\"},{\"id\":\"0b1de419-3217-4815-a5a4-f7345ee647ed\",\"type\":\"SaveTool\"},{\"id\":\"835ddf03-7b6d-412b-b53b-5397184d6cca\",\"type\":\"ResetTool\"},{\"id\":\"7ceacaaa-db0d-4f20-a971-becc32f16b9a\",\"type\":\"HelpTool\"}]},\"id\":\"80f94020-07d0-49bd-bb04-056d082dcef1\",\"type\":\"Toolbar\"}],\"root_ids\":[\"65575bb4-53a7-450a-ac3a-b2de81d497c3\"]},\"title\":\"Bokeh Application\",\"version\":\"0.12.16\"}};\n",
       "  var render_items = [{\"docid\":\"52f20d49-ef44-4ceb-b1c1-8eba9bcde5f3\",\"elementid\":\"f651d7b2-7c2f-4f63-af33-f24d83c1a91e\",\"modelid\":\"65575bb4-53a7-450a-ac3a-b2de81d497c3\"}];\n",
       "  root.Bokeh.embed.embed_items_notebook(docs_json, render_items);\n",
       "\n",
       "  }\n",
       "  if (root.Bokeh !== undefined) {\n",
       "    embed_document(root);\n",
       "  } else {\n",
       "    var attempts = 0;\n",
       "    var timer = setInterval(function(root) {\n",
       "      if (root.Bokeh !== undefined) {\n",
       "        embed_document(root);\n",
       "        clearInterval(timer);\n",
       "      }\n",
       "      attempts++;\n",
       "      if (attempts > 100) {\n",
       "        console.log(\"Bokeh: ERROR: Unable to run BokehJS code because BokehJS library is missing\")\n",
       "        clearInterval(timer);\n",
       "      }\n",
       "    }, 10, root)\n",
       "  }\n",
       "})(window);"
      ],
      "application/vnd.bokehjs_exec.v0+json": ""
     },
     "metadata": {
      "application/vnd.bokehjs_exec.v0+json": {
       "id": "65575bb4-53a7-450a-ac3a-b2de81d497c3"
      }
     },
     "output_type": "display_data"
    },
    {
     "name": "stdout",
     "output_type": "stream",
     "text": [
      "FIGURE. Cooling rate profiles.\n"
     ]
    },
    {
     "data": {
      "text/html": [
       "<a id=\"Flux_Comparison\"></a>"
      ],
      "text/plain": [
       "<IPython.core.display.HTML object>"
      ]
     },
     "metadata": {},
     "output_type": "display_data"
    },
    {
     "data": {
      "text/markdown": [
       "# Flux Comparison"
      ],
      "text/plain": [
       "<IPython.core.display.Markdown object>"
      ]
     },
     "metadata": {},
     "output_type": "display_data"
    },
    {
     "data": {
      "text/html": [
       "<div>\n",
       "<style scoped>\n",
       "    .dataframe tbody tr th:only-of-type {\n",
       "        vertical-align: middle;\n",
       "    }\n",
       "\n",
       "    .dataframe tbody tr th {\n",
       "        vertical-align: top;\n",
       "    }\n",
       "\n",
       "    .dataframe thead th {\n",
       "        text-align: right;\n",
       "    }\n",
       "</style>\n",
       "<table border=\"1\" class=\"dataframe\">\n",
       "  <thead>\n",
       "    <tr style=\"text-align: right;\">\n",
       "      <th></th>\n",
       "      <th></th>\n",
       "      <th>flug</th>\n",
       "      <th>fldg</th>\n",
       "      <th>fnetg</th>\n",
       "    </tr>\n",
       "    <tr>\n",
       "      <th>pressure</th>\n",
       "      <th>level</th>\n",
       "      <th></th>\n",
       "      <th></th>\n",
       "      <th></th>\n",
       "    </tr>\n",
       "  </thead>\n",
       "  <tbody>\n",
       "    <tr>\n",
       "      <th>0.0000</th>\n",
       "      <th>1</th>\n",
       "      <td>-19.704359</td>\n",
       "      <td>0.000000</td>\n",
       "      <td>-19.704359</td>\n",
       "    </tr>\n",
       "    <tr>\n",
       "      <th>1.0685</th>\n",
       "      <th>24</th>\n",
       "      <td>-19.691158</td>\n",
       "      <td>0.061349</td>\n",
       "      <td>-19.629809</td>\n",
       "    </tr>\n",
       "    <tr>\n",
       "      <th>1013.0000</th>\n",
       "      <th>76</th>\n",
       "      <td>-23.591138</td>\n",
       "      <td>17.721819</td>\n",
       "      <td>-5.869319</td>\n",
       "    </tr>\n",
       "  </tbody>\n",
       "</table>\n",
       "</div>"
      ],
      "text/plain": [
       "                      flug       fldg      fnetg\n",
       "pressure  level                                 \n",
       "0.0000    1     -19.704359   0.000000 -19.704359\n",
       "1.0685    24    -19.691158   0.061349 -19.629809\n",
       "1013.0000 76    -23.591138  17.721819  -5.869319"
      ]
     },
     "metadata": {},
     "output_type": "display_data"
    },
    {
     "name": "stdout",
     "output_type": "stream",
     "text": [
      "Table. Fluxes. CRD\n"
     ]
    },
    {
     "data": {
      "text/html": [
       "<div>\n",
       "<style scoped>\n",
       "    .dataframe tbody tr th:only-of-type {\n",
       "        vertical-align: middle;\n",
       "    }\n",
       "\n",
       "    .dataframe tbody tr th {\n",
       "        vertical-align: top;\n",
       "    }\n",
       "\n",
       "    .dataframe thead th {\n",
       "        text-align: right;\n",
       "    }\n",
       "</style>\n",
       "<table border=\"1\" class=\"dataframe\">\n",
       "  <thead>\n",
       "    <tr style=\"text-align: right;\">\n",
       "      <th></th>\n",
       "      <th></th>\n",
       "      <th>flug</th>\n",
       "      <th>fldg</th>\n",
       "      <th>fnetg</th>\n",
       "    </tr>\n",
       "    <tr>\n",
       "      <th>pressure</th>\n",
       "      <th>level</th>\n",
       "      <th></th>\n",
       "      <th></th>\n",
       "      <th></th>\n",
       "    </tr>\n",
       "  </thead>\n",
       "  <tbody>\n",
       "    <tr>\n",
       "      <th>0.0000</th>\n",
       "      <th>1</th>\n",
       "      <td>-19.656426</td>\n",
       "      <td>0.000000</td>\n",
       "      <td>-19.656426</td>\n",
       "    </tr>\n",
       "    <tr>\n",
       "      <th>1.0685</th>\n",
       "      <th>24</th>\n",
       "      <td>-19.643251</td>\n",
       "      <td>0.057964</td>\n",
       "      <td>-19.585288</td>\n",
       "    </tr>\n",
       "    <tr>\n",
       "      <th>1013.0000</th>\n",
       "      <th>76</th>\n",
       "      <td>-23.591138</td>\n",
       "      <td>17.303946</td>\n",
       "      <td>-6.287192</td>\n",
       "    </tr>\n",
       "  </tbody>\n",
       "</table>\n",
       "</div>"
      ],
      "text/plain": [
       "                      flug       fldg      fnetg\n",
       "pressure  level                                 \n",
       "0.0000    1     -19.656426   0.000000 -19.656426\n",
       "1.0685    24    -19.643251   0.057964 -19.585288\n",
       "1013.0000 76    -23.591138  17.303946  -6.287192"
      ]
     },
     "metadata": {},
     "output_type": "display_data"
    },
    {
     "name": "stdout",
     "output_type": "stream",
     "text": [
      "Table. Fluxes. WGT igg=10 wgt_flux=1\n"
     ]
    },
    {
     "data": {
      "text/html": [
       "<div>\n",
       "<style scoped>\n",
       "    .dataframe tbody tr th:only-of-type {\n",
       "        vertical-align: middle;\n",
       "    }\n",
       "\n",
       "    .dataframe tbody tr th {\n",
       "        vertical-align: top;\n",
       "    }\n",
       "\n",
       "    .dataframe thead th {\n",
       "        text-align: right;\n",
       "    }\n",
       "</style>\n",
       "<table border=\"1\" class=\"dataframe\">\n",
       "  <thead>\n",
       "    <tr style=\"text-align: right;\">\n",
       "      <th></th>\n",
       "      <th></th>\n",
       "      <th>flug</th>\n",
       "      <th>fldg</th>\n",
       "      <th>fnetg</th>\n",
       "    </tr>\n",
       "    <tr>\n",
       "      <th>pressure</th>\n",
       "      <th>level</th>\n",
       "      <th></th>\n",
       "      <th></th>\n",
       "      <th></th>\n",
       "    </tr>\n",
       "  </thead>\n",
       "  <tbody>\n",
       "    <tr>\n",
       "      <th>1.000000e-08</th>\n",
       "      <th>1</th>\n",
       "      <td>-19.778778</td>\n",
       "      <td>0.000002</td>\n",
       "      <td>-19.778776</td>\n",
       "    </tr>\n",
       "    <tr>\n",
       "      <th>1.068500e+00</th>\n",
       "      <th>24</th>\n",
       "      <td>-19.765856</td>\n",
       "      <td>0.055618</td>\n",
       "      <td>-19.710238</td>\n",
       "    </tr>\n",
       "    <tr>\n",
       "      <th>1.013000e+03</th>\n",
       "      <th>76</th>\n",
       "      <td>-23.591140</td>\n",
       "      <td>17.199191</td>\n",
       "      <td>-6.391949</td>\n",
       "    </tr>\n",
       "  </tbody>\n",
       "</table>\n",
       "</div>"
      ],
      "text/plain": [
       "                         flug       fldg      fnetg\n",
       "pressure     level                                 \n",
       "1.000000e-08 1     -19.778778   0.000002 -19.778776\n",
       "1.068500e+00 24    -19.765856   0.055618 -19.710238\n",
       "1.013000e+03 76    -23.591140  17.199191  -6.391949"
      ]
     },
     "metadata": {},
     "output_type": "display_data"
    },
    {
     "name": "stdout",
     "output_type": "stream",
     "text": [
      "Table. Fluxes. CLIRAD\n"
     ]
    },
    {
     "data": {
      "text/html": [
       "<div>\n",
       "<style scoped>\n",
       "    .dataframe tbody tr th:only-of-type {\n",
       "        vertical-align: middle;\n",
       "    }\n",
       "\n",
       "    .dataframe tbody tr th {\n",
       "        vertical-align: top;\n",
       "    }\n",
       "\n",
       "    .dataframe thead th {\n",
       "        text-align: right;\n",
       "    }\n",
       "</style>\n",
       "<table border=\"1\" class=\"dataframe\">\n",
       "  <thead>\n",
       "    <tr style=\"text-align: right;\">\n",
       "      <th></th>\n",
       "      <th></th>\n",
       "      <th>flug</th>\n",
       "      <th>fldg</th>\n",
       "      <th>fnetg</th>\n",
       "    </tr>\n",
       "    <tr>\n",
       "      <th>pressure</th>\n",
       "      <th>level</th>\n",
       "      <th></th>\n",
       "      <th></th>\n",
       "      <th></th>\n",
       "    </tr>\n",
       "  </thead>\n",
       "  <tbody>\n",
       "    <tr>\n",
       "      <th>0.0000</th>\n",
       "      <th>1</th>\n",
       "      <td>0.047933</td>\n",
       "      <td>0.000000</td>\n",
       "      <td>0.047933</td>\n",
       "    </tr>\n",
       "    <tr>\n",
       "      <th>1.0685</th>\n",
       "      <th>24</th>\n",
       "      <td>0.047907</td>\n",
       "      <td>-0.003385</td>\n",
       "      <td>0.044521</td>\n",
       "    </tr>\n",
       "    <tr>\n",
       "      <th>1013.0000</th>\n",
       "      <th>76</th>\n",
       "      <td>0.000000</td>\n",
       "      <td>-0.417873</td>\n",
       "      <td>-0.417873</td>\n",
       "    </tr>\n",
       "  </tbody>\n",
       "</table>\n",
       "</div>"
      ],
      "text/plain": [
       "                     flug      fldg     fnetg\n",
       "pressure  level                              \n",
       "0.0000    1      0.047933  0.000000  0.047933\n",
       "1.0685    24     0.047907 -0.003385  0.044521\n",
       "1013.0000 76     0.000000 -0.417873 -0.417873"
      ]
     },
     "metadata": {},
     "output_type": "display_data"
    },
    {
     "name": "stdout",
     "output_type": "stream",
     "text": [
      "Table. Fluxes. (WGT igg=10 wgt_flux=1) - (CRD)\n"
     ]
    },
    {
     "data": {
      "text/html": [
       "<div>\n",
       "<style scoped>\n",
       "    .dataframe tbody tr th:only-of-type {\n",
       "        vertical-align: middle;\n",
       "    }\n",
       "\n",
       "    .dataframe tbody tr th {\n",
       "        vertical-align: top;\n",
       "    }\n",
       "\n",
       "    .dataframe thead th {\n",
       "        text-align: right;\n",
       "    }\n",
       "</style>\n",
       "<table border=\"1\" class=\"dataframe\">\n",
       "  <thead>\n",
       "    <tr style=\"text-align: right;\">\n",
       "      <th></th>\n",
       "      <th></th>\n",
       "      <th>flug</th>\n",
       "      <th>fldg</th>\n",
       "      <th>fnetg</th>\n",
       "    </tr>\n",
       "    <tr>\n",
       "      <th>pressure</th>\n",
       "      <th>level</th>\n",
       "      <th></th>\n",
       "      <th></th>\n",
       "      <th></th>\n",
       "    </tr>\n",
       "  </thead>\n",
       "  <tbody>\n",
       "    <tr>\n",
       "      <th>0.0000</th>\n",
       "      <th>1</th>\n",
       "      <td>-0.074419</td>\n",
       "      <td>0.000002</td>\n",
       "      <td>-0.074417</td>\n",
       "    </tr>\n",
       "    <tr>\n",
       "      <th>1.0685</th>\n",
       "      <th>24</th>\n",
       "      <td>-0.074698</td>\n",
       "      <td>-0.005730</td>\n",
       "      <td>-0.080429</td>\n",
       "    </tr>\n",
       "    <tr>\n",
       "      <th>1013.0000</th>\n",
       "      <th>76</th>\n",
       "      <td>-0.000002</td>\n",
       "      <td>-0.522628</td>\n",
       "      <td>-0.522630</td>\n",
       "    </tr>\n",
       "  </tbody>\n",
       "</table>\n",
       "</div>"
      ],
      "text/plain": [
       "                     flug      fldg     fnetg\n",
       "pressure  level                              \n",
       "0.0000    1     -0.074419  0.000002 -0.074417\n",
       "1.0685    24    -0.074698 -0.005730 -0.080429\n",
       "1013.0000 76    -0.000002 -0.522628 -0.522630"
      ]
     },
     "metadata": {},
     "output_type": "display_data"
    },
    {
     "name": "stdout",
     "output_type": "stream",
     "text": [
      "Table. Fluxes. (CLIRAD) - (CRD)\n"
     ]
    },
    {
     "data": {
      "text/html": [
       "<a id=\"Best-fit_Parameters\"></a>"
      ],
      "text/plain": [
       "<IPython.core.display.HTML object>"
      ]
     },
     "metadata": {},
     "output_type": "display_data"
    },
    {
     "data": {
      "text/markdown": [
       "# Best-fit Parameters"
      ],
      "text/plain": [
       "<IPython.core.display.Markdown object>"
      ]
     },
     "metadata": {},
     "output_type": "display_data"
    },
    {
     "name": "stdout",
     "output_type": "stream",
     "text": [
      "Best-fit values for each (gas, band)\n",
      "------------------------------------\n",
      "o h2o band3a\n",
      "  atmpro = mls\n",
      "  band = 3a\n",
      "  commitnumber = a06b618\n",
      "  conc = None\n",
      "  dv = 0.001\n",
      "  klin = 0\n",
      "  molecule = h2o\n",
      "  ng_adju = [0, 0]\n",
      "  ng_refs = [2, 6]\n",
      "  nv = 1000\n",
      "  option_compute_btable = 0\n",
      "  option_compute_ktable = 1\n",
      "  option_wgt_flux = 1\n",
      "  option_wgt_k = 1\n",
      "  ref_pts = [(10, 250), (600, 250)]\n",
      "  tsfc = 294\n",
      "  vmax = 620\n",
      "  vmin = 540\n",
      "  w_diffuse = [(1.9, 1.7), (1.4, 1.4, 1.4, 1.55, 1.6, 1.66)]\n",
      "  wgt = [(0.7, 0.7), (0.7, 0.5, 0.5, 0.5, 0.5, 0.5)]\n",
      "o co2 band3a\n",
      "  atmpro = mls\n",
      "  band = 3a\n",
      "  commitnumber = a06b618\n",
      "  conc = 0.0004\n",
      "  dv = 0.001\n",
      "  klin = 6.375563e-24\n",
      "  molecule = co2\n",
      "  ng_adju = [0, 0, 0]\n",
      "  ng_refs = [3, 2, 4]\n",
      "  nv = 1000\n",
      "  option_compute_btable = 0\n",
      "  option_compute_ktable = 1\n",
      "  option_wgt_flux = 1\n",
      "  option_wgt_k = 1\n",
      "  ref_pts = [(1, 250), (10, 250), (500, 250)]\n",
      "  tsfc = 294\n",
      "  vmax = 620\n",
      "  vmin = 540\n",
      "  w_diffuse = [(1.6, 1.6, 1.7), (1.75, 1.75), (1.55, 1.55, 1.6, 1.85)]\n",
      "  wgt = [(0.7, 0.3, 0.7), (0.7, 0.6), (0.4, 0.5, 0.8, 0.95)]\n",
      "o n2o band3a\n",
      "  atmpro = mls\n",
      "  band = 3a\n",
      "  commitnumber = a06b618\n",
      "  conc = 3.2e-07\n",
      "  dv = 0.001\n",
      "  klin = 2.22e-20\n",
      "  molecule = n2o\n",
      "  ng_adju = [0, 0]\n",
      "  ng_refs = [1, 2]\n",
      "  nv = 1000\n",
      "  option_compute_btable = 0\n",
      "  option_compute_ktable = 1\n",
      "  option_wgt_flux = 1\n",
      "  option_wgt_k = 1\n",
      "  ref_pts = [(1, 250), (500, 250)]\n",
      "  tsfc = 294\n",
      "  vmax = 620\n",
      "  vmin = 540\n",
      "  w_diffuse = [(1.8,), (1.66, 1.8)]\n",
      "  wgt = [(0.9,), (0.5, 0.95)]\n"
     ]
    }
   ],
   "source": [
    "script()"
   ]
  },
  {
   "cell_type": "code",
   "execution_count": 13,
   "metadata": {
    "collapsed": true
   },
   "outputs": [
    {
     "data": {
      "text/html": [
       "<script>\n",
       "code_show=true; \n",
       "function code_toggle() {\n",
       " if (code_show){\n",
       " $('div.input').hide();\n",
       " } else {\n",
       " $('div.input').show();\n",
       " }\n",
       " code_show = !code_show\n",
       "} \n",
       "$( document ).ready(code_toggle);\n",
       "</script>\n",
       "<form action=\"javascript:code_toggle()\"><input type=\"submit\" value=\"Click here to toggle on/off the raw code.\"></form>"
      ],
      "text/plain": [
       "<IPython.core.display.HTML object>"
      ]
     },
     "execution_count": 13,
     "metadata": {},
     "output_type": "execute_result"
    }
   ],
   "source": [
    "display.HTML('''<script>\n",
    "code_show=true; \n",
    "function code_toggle() {\n",
    " if (code_show){\n",
    " $('div.input').hide();\n",
    " } else {\n",
    " $('div.input').show();\n",
    " }\n",
    " code_show = !code_show\n",
    "} \n",
    "$( document ).ready(code_toggle);\n",
    "</script>\n",
    "<form action=\"javascript:code_toggle()\"><input type=\"submit\" value=\"Click here to toggle on/off the raw code.\"></form>''')"
   ]
  }
 ],
 "metadata": {
  "kernelspec": {
   "display_name": "Python 3",
   "language": "python",
   "name": "python3"
  },
  "language_info": {
   "codemirror_mode": {
    "name": "ipython",
    "version": 3
   },
   "file_extension": ".py",
   "mimetype": "text/x-python",
   "name": "python",
   "nbconvert_exporter": "python",
   "pygments_lexer": "ipython3",
   "version": "3.6.1"
  }
 },
 "nbformat": 4,
 "nbformat_minor": 2
}
