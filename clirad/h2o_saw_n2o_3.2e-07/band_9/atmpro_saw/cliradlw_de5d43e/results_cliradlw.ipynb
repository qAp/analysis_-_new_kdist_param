{
 "cells": [
  {
   "cell_type": "code",
   "execution_count": 1,
   "metadata": {
    "collapsed": true
   },
   "outputs": [],
   "source": [
    "%matplotlib inline\n",
    "import os\n",
    "import re\n",
    "import io\n",
    "import itertools\n",
    "import pprint\n",
    "\n",
    "from bokeh.io import output_notebook, show\n",
    "from bokeh.layouts import gridplot\n",
    "from bokeh.plotting import figure\n",
    "from bokeh.models import Range1d, Legend\n",
    "from bokeh.palettes import all_palettes\n",
    "\n",
    "import matplotlib\n",
    "import matplotlib.pyplot as plt\n",
    "import numpy as np\n",
    "import pandas as pd\n",
    "import xarray as xr\n",
    "\n",
    "import climatools.lblnew.bestfit_params as bestfits\n",
    "from climatools.lblnew import setup_bestfit, setup_overlap\n",
    "import climatools.lblnew.pipeline as pipe_lblnew\n",
    "import climatools.cliradlw.setup as setup_cliradlw\n",
    "import climatools.cliradlw.pipeline as pipe_cliradlw\n",
    "\n",
    "import climatools.html.html as climahtml\n",
    "from climatools.lblnew.dataio import *\n",
    "from climatools.plot.plot import *\n",
    "\n",
    "\n",
    "import IPython.display as display"
   ]
  },
  {
   "cell_type": "code",
   "execution_count": 2,
   "metadata": {
    "collapsed": true
   },
   "outputs": [],
   "source": [
    "%run param.py"
   ]
  },
  {
   "cell_type": "code",
   "execution_count": 3,
   "metadata": {
    "collapsed": true
   },
   "outputs": [
    {
     "name": "stdout",
     "output_type": "stream",
     "text": [
      "The history saving thread hit an unexpected error (OperationalError('database is locked',)).History will not be written to the database.\n"
     ]
    }
   ],
   "source": [
    "def load_output_file(path_csv):\n",
    "    '''\n",
    "    Load lblnew output .csv file to xarray.Dataset\n",
    "    \n",
    "    Parameters\n",
    "    ----------\n",
    "    path_csv: str\n",
    "              Path to the .csv file to be loaded.\n",
    "    ds: xarray.Dataset\n",
    "        Data in the input file in the form of an xarray.Dataset.\n",
    "    '''\n",
    "    toindex = ['band', 'pressure', 'igg', 'g']    \n",
    "    df = pd.read_csv(path_csv, sep=r'\\s+')\n",
    "    df = df.set_index([i for i in toindex if i in df.columns])\n",
    "    df = df.rename(columns={'sfu': 'flug',\n",
    "                            'sfd': 'fldg',\n",
    "                            'fnet': 'fnetg',\n",
    "                            'coolr': 'coolrg'})\n",
    "    ds = xr.Dataset.from_dataframe(df)\n",
    "\n",
    "    for l in ('level', 'layer'):\n",
    "        if l in ds.data_vars:\n",
    "            if len(ds[l].dims) > 1:\n",
    "                surface = {d: 0 for d in ds.dims if d != 'pressure'}\n",
    "                coord_level = ds[l][surface]\n",
    "                ds.coords[l] = ('pressure', coord_level)\n",
    "            else:\n",
    "                ds.coords[l] = ('pressure', ds[l])\n",
    "    \n",
    "    return ds"
   ]
  },
  {
   "cell_type": "code",
   "execution_count": 4,
   "metadata": {
    "collapsed": true
   },
   "outputs": [],
   "source": [
    "def lblnew_setup(param=None):\n",
    "    if 'ng_refs' in param:\n",
    "        return {'setup': setup_bestfit,\n",
    "                'fname_flux_crd': 'output_flux.dat',\n",
    "                'fname_cool_crd': 'output_coolr.dat',\n",
    "                'fname_flux_wgt': 'output_wfluxg.dat',\n",
    "                'fname_cool_wgt': 'output_wcoolrg.dat'}\n",
    "    else:\n",
    "        return {'setup': setup_overlap,\n",
    "                'fname_flux_crd': 'output_flux.dat',\n",
    "                'fname_cool_crd': 'output_coolr.dat',\n",
    "                'fname_flux_wgt': 'output_wflux.dat',\n",
    "                'fname_cool_wgt': 'output_wcoolr.dat'}\n",
    "\n",
    "    \n",
    "def load_lblnew_data(param):\n",
    "    \n",
    "    fname_dsname = [('fname_flux_crd', 'ds_flux_crd'),\n",
    "                    ('fname_cool_crd', 'ds_cool_crd'),\n",
    "                    ('fname_flux_wgt', 'ds_flux_wgt'),\n",
    "                    ('fname_cool_wgt', 'ds_cool_wgt')]\n",
    "    \n",
    "    d = lblnew_setup(param)\n",
    "    dir_fortran = pipe_lblnew.get_dir_case(param, setup=d['setup'])\n",
    "    \n",
    "    data_dict = {}\n",
    "    for fname, dsname in fname_dsname:\n",
    "        fpath = os.path.join(dir_fortran, d[fname])\n",
    "        data_dict[dsname] = load_output_file(fpath)\n",
    "    return data_dict\n",
    "    \n",
    "\n",
    "    \n",
    "    "
   ]
  },
  {
   "cell_type": "code",
   "execution_count": 5,
   "metadata": {
    "collapsed": true
   },
   "outputs": [],
   "source": [
    "d = load_lblnew_data(PARAM_LBLNEW)\n",
    "\n",
    "DS_FLUX_CRD = d['ds_flux_crd']\n",
    "DS_COOL_CRD = d['ds_cool_crd']\n",
    "DS_FLUX_WGT = d['ds_flux_wgt']\n",
    "DS_COOL_WGT = d['ds_cool_wgt']"
   ]
  },
  {
   "cell_type": "code",
   "execution_count": 6,
   "metadata": {
    "collapsed": true
   },
   "outputs": [],
   "source": [
    "DIR_FORTRAN = pipe_cliradlw.get_fortran_dir(PARAM, \n",
    "                                            setup=setup_cliradlw)\n",
    "\n",
    "PATH_FLUX = os.path.join(DIR_FORTRAN, 'output_flux.dat')\n",
    "PATH_COOL = os.path.join(DIR_FORTRAN, 'output_coolr.dat')\n",
    "\n",
    "DS_FLUX = load_output_file(PATH_FLUX)\n",
    "DS_COOL = load_output_file(PATH_COOL)"
   ]
  },
  {
   "cell_type": "code",
   "execution_count": 7,
   "metadata": {
    "collapsed": true
   },
   "outputs": [
    {
     "data": {
      "text/html": [
       "\n",
       "    <div class=\"bk-root\">\n",
       "        <a href=\"https://bokeh.pydata.org\" target=\"_blank\" class=\"bk-logo bk-logo-small bk-logo-notebook\"></a>\n",
       "        <span id=\"8da3fbcd-d4da-4206-8aeb-fddcb128b6d8\">Loading BokehJS ...</span>\n",
       "    </div>"
      ]
     },
     "metadata": {},
     "output_type": "display_data"
    },
    {
     "data": {
      "application/javascript": [
       "\n",
       "(function(root) {\n",
       "  function now() {\n",
       "    return new Date();\n",
       "  }\n",
       "\n",
       "  var force = true;\n",
       "\n",
       "  if (typeof (root._bokeh_onload_callbacks) === \"undefined\" || force === true) {\n",
       "    root._bokeh_onload_callbacks = [];\n",
       "    root._bokeh_is_loading = undefined;\n",
       "  }\n",
       "\n",
       "  var JS_MIME_TYPE = 'application/javascript';\n",
       "  var HTML_MIME_TYPE = 'text/html';\n",
       "  var EXEC_MIME_TYPE = 'application/vnd.bokehjs_exec.v0+json';\n",
       "  var CLASS_NAME = 'output_bokeh rendered_html';\n",
       "\n",
       "  /**\n",
       "   * Render data to the DOM node\n",
       "   */\n",
       "  function render(props, node) {\n",
       "    var script = document.createElement(\"script\");\n",
       "    node.appendChild(script);\n",
       "  }\n",
       "\n",
       "  /**\n",
       "   * Handle when an output is cleared or removed\n",
       "   */\n",
       "  function handleClearOutput(event, handle) {\n",
       "    var cell = handle.cell;\n",
       "\n",
       "    var id = cell.output_area._bokeh_element_id;\n",
       "    var server_id = cell.output_area._bokeh_server_id;\n",
       "    // Clean up Bokeh references\n",
       "    if (id !== undefined) {\n",
       "      Bokeh.index[id].model.document.clear();\n",
       "      delete Bokeh.index[id];\n",
       "    }\n",
       "\n",
       "    if (server_id !== undefined) {\n",
       "      // Clean up Bokeh references\n",
       "      var cmd = \"from bokeh.io.state import curstate; print(curstate().uuid_to_server['\" + server_id + \"'].get_sessions()[0].document.roots[0]._id)\";\n",
       "      cell.notebook.kernel.execute(cmd, {\n",
       "        iopub: {\n",
       "          output: function(msg) {\n",
       "            var element_id = msg.content.text.trim();\n",
       "            Bokeh.index[element_id].model.document.clear();\n",
       "            delete Bokeh.index[element_id];\n",
       "          }\n",
       "        }\n",
       "      });\n",
       "      // Destroy server and session\n",
       "      var cmd = \"import bokeh.io.notebook as ion; ion.destroy_server('\" + server_id + \"')\";\n",
       "      cell.notebook.kernel.execute(cmd);\n",
       "    }\n",
       "  }\n",
       "\n",
       "  /**\n",
       "   * Handle when a new output is added\n",
       "   */\n",
       "  function handleAddOutput(event, handle) {\n",
       "    var output_area = handle.output_area;\n",
       "    var output = handle.output;\n",
       "\n",
       "    // limit handleAddOutput to display_data with EXEC_MIME_TYPE content only\n",
       "    if ((output.output_type != \"display_data\") || (!output.data.hasOwnProperty(EXEC_MIME_TYPE))) {\n",
       "      return\n",
       "    }\n",
       "\n",
       "    var toinsert = output_area.element.find(\".\" + CLASS_NAME.split(' ')[0]);\n",
       "\n",
       "    if (output.metadata[EXEC_MIME_TYPE][\"id\"] !== undefined) {\n",
       "      toinsert[toinsert.length - 1].firstChild.textContent = output.data[JS_MIME_TYPE];\n",
       "      // store reference to embed id on output_area\n",
       "      output_area._bokeh_element_id = output.metadata[EXEC_MIME_TYPE][\"id\"];\n",
       "    }\n",
       "    if (output.metadata[EXEC_MIME_TYPE][\"server_id\"] !== undefined) {\n",
       "      var bk_div = document.createElement(\"div\");\n",
       "      bk_div.innerHTML = output.data[HTML_MIME_TYPE];\n",
       "      var script_attrs = bk_div.children[0].attributes;\n",
       "      for (var i = 0; i < script_attrs.length; i++) {\n",
       "        toinsert[toinsert.length - 1].firstChild.setAttribute(script_attrs[i].name, script_attrs[i].value);\n",
       "      }\n",
       "      // store reference to server id on output_area\n",
       "      output_area._bokeh_server_id = output.metadata[EXEC_MIME_TYPE][\"server_id\"];\n",
       "    }\n",
       "  }\n",
       "\n",
       "  function register_renderer(events, OutputArea) {\n",
       "\n",
       "    function append_mime(data, metadata, element) {\n",
       "      // create a DOM node to render to\n",
       "      var toinsert = this.create_output_subarea(\n",
       "        metadata,\n",
       "        CLASS_NAME,\n",
       "        EXEC_MIME_TYPE\n",
       "      );\n",
       "      this.keyboard_manager.register_events(toinsert);\n",
       "      // Render to node\n",
       "      var props = {data: data, metadata: metadata[EXEC_MIME_TYPE]};\n",
       "      render(props, toinsert[toinsert.length - 1]);\n",
       "      element.append(toinsert);\n",
       "      return toinsert\n",
       "    }\n",
       "\n",
       "    /* Handle when an output is cleared or removed */\n",
       "    events.on('clear_output.CodeCell', handleClearOutput);\n",
       "    events.on('delete.Cell', handleClearOutput);\n",
       "\n",
       "    /* Handle when a new output is added */\n",
       "    events.on('output_added.OutputArea', handleAddOutput);\n",
       "\n",
       "    /**\n",
       "     * Register the mime type and append_mime function with output_area\n",
       "     */\n",
       "    OutputArea.prototype.register_mime_type(EXEC_MIME_TYPE, append_mime, {\n",
       "      /* Is output safe? */\n",
       "      safe: true,\n",
       "      /* Index of renderer in `output_area.display_order` */\n",
       "      index: 0\n",
       "    });\n",
       "  }\n",
       "\n",
       "  // register the mime type if in Jupyter Notebook environment and previously unregistered\n",
       "  if (root.Jupyter !== undefined) {\n",
       "    var events = require('base/js/events');\n",
       "    var OutputArea = require('notebook/js/outputarea').OutputArea;\n",
       "\n",
       "    if (OutputArea.prototype.mime_types().indexOf(EXEC_MIME_TYPE) == -1) {\n",
       "      register_renderer(events, OutputArea);\n",
       "    }\n",
       "  }\n",
       "\n",
       "  \n",
       "  if (typeof (root._bokeh_timeout) === \"undefined\" || force === true) {\n",
       "    root._bokeh_timeout = Date.now() + 5000;\n",
       "    root._bokeh_failed_load = false;\n",
       "  }\n",
       "\n",
       "  var NB_LOAD_WARNING = {'data': {'text/html':\n",
       "     \"<div style='background-color: #fdd'>\\n\"+\n",
       "     \"<p>\\n\"+\n",
       "     \"BokehJS does not appear to have successfully loaded. If loading BokehJS from CDN, this \\n\"+\n",
       "     \"may be due to a slow or bad network connection. Possible fixes:\\n\"+\n",
       "     \"</p>\\n\"+\n",
       "     \"<ul>\\n\"+\n",
       "     \"<li>re-rerun `output_notebook()` to attempt to load from CDN again, or</li>\\n\"+\n",
       "     \"<li>use INLINE resources instead, as so:</li>\\n\"+\n",
       "     \"</ul>\\n\"+\n",
       "     \"<code>\\n\"+\n",
       "     \"from bokeh.resources import INLINE\\n\"+\n",
       "     \"output_notebook(resources=INLINE)\\n\"+\n",
       "     \"</code>\\n\"+\n",
       "     \"</div>\"}};\n",
       "\n",
       "  function display_loaded() {\n",
       "    var el = document.getElementById(\"8da3fbcd-d4da-4206-8aeb-fddcb128b6d8\");\n",
       "    if (el != null) {\n",
       "      el.textContent = \"BokehJS is loading...\";\n",
       "    }\n",
       "    if (root.Bokeh !== undefined) {\n",
       "      if (el != null) {\n",
       "        el.textContent = \"BokehJS \" + root.Bokeh.version + \" successfully loaded.\";\n",
       "      }\n",
       "    } else if (Date.now() < root._bokeh_timeout) {\n",
       "      setTimeout(display_loaded, 100)\n",
       "    }\n",
       "  }\n",
       "\n",
       "\n",
       "  function run_callbacks() {\n",
       "    try {\n",
       "      root._bokeh_onload_callbacks.forEach(function(callback) { callback() });\n",
       "    }\n",
       "    finally {\n",
       "      delete root._bokeh_onload_callbacks\n",
       "    }\n",
       "    console.info(\"Bokeh: all callbacks have finished\");\n",
       "  }\n",
       "\n",
       "  function load_libs(js_urls, callback) {\n",
       "    root._bokeh_onload_callbacks.push(callback);\n",
       "    if (root._bokeh_is_loading > 0) {\n",
       "      console.log(\"Bokeh: BokehJS is being loaded, scheduling callback at\", now());\n",
       "      return null;\n",
       "    }\n",
       "    if (js_urls == null || js_urls.length === 0) {\n",
       "      run_callbacks();\n",
       "      return null;\n",
       "    }\n",
       "    console.log(\"Bokeh: BokehJS not loaded, scheduling load and callback at\", now());\n",
       "    root._bokeh_is_loading = js_urls.length;\n",
       "    for (var i = 0; i < js_urls.length; i++) {\n",
       "      var url = js_urls[i];\n",
       "      var s = document.createElement('script');\n",
       "      s.src = url;\n",
       "      s.async = false;\n",
       "      s.onreadystatechange = s.onload = function() {\n",
       "        root._bokeh_is_loading--;\n",
       "        if (root._bokeh_is_loading === 0) {\n",
       "          console.log(\"Bokeh: all BokehJS libraries loaded\");\n",
       "          run_callbacks()\n",
       "        }\n",
       "      };\n",
       "      s.onerror = function() {\n",
       "        console.warn(\"failed to load library \" + url);\n",
       "      };\n",
       "      console.log(\"Bokeh: injecting script tag for BokehJS library: \", url);\n",
       "      document.getElementsByTagName(\"head\")[0].appendChild(s);\n",
       "    }\n",
       "  };var element = document.getElementById(\"8da3fbcd-d4da-4206-8aeb-fddcb128b6d8\");\n",
       "  if (element == null) {\n",
       "    console.log(\"Bokeh: ERROR: autoload.js configured with elementid '8da3fbcd-d4da-4206-8aeb-fddcb128b6d8' but no matching script tag was found. \")\n",
       "    return false;\n",
       "  }\n",
       "\n",
       "  var js_urls = [\"https://cdn.pydata.org/bokeh/release/bokeh-0.12.16.min.js\", \"https://cdn.pydata.org/bokeh/release/bokeh-widgets-0.12.16.min.js\", \"https://cdn.pydata.org/bokeh/release/bokeh-tables-0.12.16.min.js\", \"https://cdn.pydata.org/bokeh/release/bokeh-gl-0.12.16.min.js\"];\n",
       "\n",
       "  var inline_js = [\n",
       "    function(Bokeh) {\n",
       "      Bokeh.set_log_level(\"info\");\n",
       "    },\n",
       "    \n",
       "    function(Bokeh) {\n",
       "      \n",
       "    },\n",
       "    function(Bokeh) {\n",
       "      console.log(\"Bokeh: injecting CSS: https://cdn.pydata.org/bokeh/release/bokeh-0.12.16.min.css\");\n",
       "      Bokeh.embed.inject_css(\"https://cdn.pydata.org/bokeh/release/bokeh-0.12.16.min.css\");\n",
       "      console.log(\"Bokeh: injecting CSS: https://cdn.pydata.org/bokeh/release/bokeh-widgets-0.12.16.min.css\");\n",
       "      Bokeh.embed.inject_css(\"https://cdn.pydata.org/bokeh/release/bokeh-widgets-0.12.16.min.css\");\n",
       "      console.log(\"Bokeh: injecting CSS: https://cdn.pydata.org/bokeh/release/bokeh-tables-0.12.16.min.css\");\n",
       "      Bokeh.embed.inject_css(\"https://cdn.pydata.org/bokeh/release/bokeh-tables-0.12.16.min.css\");\n",
       "    }\n",
       "  ];\n",
       "\n",
       "  function run_inline_js() {\n",
       "    \n",
       "    if ((root.Bokeh !== undefined) || (force === true)) {\n",
       "      for (var i = 0; i < inline_js.length; i++) {\n",
       "        inline_js[i].call(root, root.Bokeh);\n",
       "      }if (force === true) {\n",
       "        display_loaded();\n",
       "      }} else if (Date.now() < root._bokeh_timeout) {\n",
       "      setTimeout(run_inline_js, 100);\n",
       "    } else if (!root._bokeh_failed_load) {\n",
       "      console.log(\"Bokeh: BokehJS failed to load within specified timeout.\");\n",
       "      root._bokeh_failed_load = true;\n",
       "    } else if (force !== true) {\n",
       "      var cell = $(document.getElementById(\"8da3fbcd-d4da-4206-8aeb-fddcb128b6d8\")).parents('.cell').data().cell;\n",
       "      cell.output_area.append_execute_result(NB_LOAD_WARNING)\n",
       "    }\n",
       "\n",
       "  }\n",
       "\n",
       "  if (root._bokeh_is_loading === 0) {\n",
       "    console.log(\"Bokeh: BokehJS loaded, going straight to plotting\");\n",
       "    run_inline_js();\n",
       "  } else {\n",
       "    load_libs(js_urls, function() {\n",
       "      console.log(\"Bokeh: BokehJS plotting callback run at\", now());\n",
       "      run_inline_js();\n",
       "    });\n",
       "  }\n",
       "}(window));"
      ],
      "application/vnd.bokehjs_load.v0+json": "\n(function(root) {\n  function now() {\n    return new Date();\n  }\n\n  var force = true;\n\n  if (typeof (root._bokeh_onload_callbacks) === \"undefined\" || force === true) {\n    root._bokeh_onload_callbacks = [];\n    root._bokeh_is_loading = undefined;\n  }\n\n  \n\n  \n  if (typeof (root._bokeh_timeout) === \"undefined\" || force === true) {\n    root._bokeh_timeout = Date.now() + 5000;\n    root._bokeh_failed_load = false;\n  }\n\n  var NB_LOAD_WARNING = {'data': {'text/html':\n     \"<div style='background-color: #fdd'>\\n\"+\n     \"<p>\\n\"+\n     \"BokehJS does not appear to have successfully loaded. If loading BokehJS from CDN, this \\n\"+\n     \"may be due to a slow or bad network connection. Possible fixes:\\n\"+\n     \"</p>\\n\"+\n     \"<ul>\\n\"+\n     \"<li>re-rerun `output_notebook()` to attempt to load from CDN again, or</li>\\n\"+\n     \"<li>use INLINE resources instead, as so:</li>\\n\"+\n     \"</ul>\\n\"+\n     \"<code>\\n\"+\n     \"from bokeh.resources import INLINE\\n\"+\n     \"output_notebook(resources=INLINE)\\n\"+\n     \"</code>\\n\"+\n     \"</div>\"}};\n\n  function display_loaded() {\n    var el = document.getElementById(\"8da3fbcd-d4da-4206-8aeb-fddcb128b6d8\");\n    if (el != null) {\n      el.textContent = \"BokehJS is loading...\";\n    }\n    if (root.Bokeh !== undefined) {\n      if (el != null) {\n        el.textContent = \"BokehJS \" + root.Bokeh.version + \" successfully loaded.\";\n      }\n    } else if (Date.now() < root._bokeh_timeout) {\n      setTimeout(display_loaded, 100)\n    }\n  }\n\n\n  function run_callbacks() {\n    try {\n      root._bokeh_onload_callbacks.forEach(function(callback) { callback() });\n    }\n    finally {\n      delete root._bokeh_onload_callbacks\n    }\n    console.info(\"Bokeh: all callbacks have finished\");\n  }\n\n  function load_libs(js_urls, callback) {\n    root._bokeh_onload_callbacks.push(callback);\n    if (root._bokeh_is_loading > 0) {\n      console.log(\"Bokeh: BokehJS is being loaded, scheduling callback at\", now());\n      return null;\n    }\n    if (js_urls == null || js_urls.length === 0) {\n      run_callbacks();\n      return null;\n    }\n    console.log(\"Bokeh: BokehJS not loaded, scheduling load and callback at\", now());\n    root._bokeh_is_loading = js_urls.length;\n    for (var i = 0; i < js_urls.length; i++) {\n      var url = js_urls[i];\n      var s = document.createElement('script');\n      s.src = url;\n      s.async = false;\n      s.onreadystatechange = s.onload = function() {\n        root._bokeh_is_loading--;\n        if (root._bokeh_is_loading === 0) {\n          console.log(\"Bokeh: all BokehJS libraries loaded\");\n          run_callbacks()\n        }\n      };\n      s.onerror = function() {\n        console.warn(\"failed to load library \" + url);\n      };\n      console.log(\"Bokeh: injecting script tag for BokehJS library: \", url);\n      document.getElementsByTagName(\"head\")[0].appendChild(s);\n    }\n  };var element = document.getElementById(\"8da3fbcd-d4da-4206-8aeb-fddcb128b6d8\");\n  if (element == null) {\n    console.log(\"Bokeh: ERROR: autoload.js configured with elementid '8da3fbcd-d4da-4206-8aeb-fddcb128b6d8' but no matching script tag was found. \")\n    return false;\n  }\n\n  var js_urls = [\"https://cdn.pydata.org/bokeh/release/bokeh-0.12.16.min.js\", \"https://cdn.pydata.org/bokeh/release/bokeh-widgets-0.12.16.min.js\", \"https://cdn.pydata.org/bokeh/release/bokeh-tables-0.12.16.min.js\", \"https://cdn.pydata.org/bokeh/release/bokeh-gl-0.12.16.min.js\"];\n\n  var inline_js = [\n    function(Bokeh) {\n      Bokeh.set_log_level(\"info\");\n    },\n    \n    function(Bokeh) {\n      \n    },\n    function(Bokeh) {\n      console.log(\"Bokeh: injecting CSS: https://cdn.pydata.org/bokeh/release/bokeh-0.12.16.min.css\");\n      Bokeh.embed.inject_css(\"https://cdn.pydata.org/bokeh/release/bokeh-0.12.16.min.css\");\n      console.log(\"Bokeh: injecting CSS: https://cdn.pydata.org/bokeh/release/bokeh-widgets-0.12.16.min.css\");\n      Bokeh.embed.inject_css(\"https://cdn.pydata.org/bokeh/release/bokeh-widgets-0.12.16.min.css\");\n      console.log(\"Bokeh: injecting CSS: https://cdn.pydata.org/bokeh/release/bokeh-tables-0.12.16.min.css\");\n      Bokeh.embed.inject_css(\"https://cdn.pydata.org/bokeh/release/bokeh-tables-0.12.16.min.css\");\n    }\n  ];\n\n  function run_inline_js() {\n    \n    if ((root.Bokeh !== undefined) || (force === true)) {\n      for (var i = 0; i < inline_js.length; i++) {\n        inline_js[i].call(root, root.Bokeh);\n      }if (force === true) {\n        display_loaded();\n      }} else if (Date.now() < root._bokeh_timeout) {\n      setTimeout(run_inline_js, 100);\n    } else if (!root._bokeh_failed_load) {\n      console.log(\"Bokeh: BokehJS failed to load within specified timeout.\");\n      root._bokeh_failed_load = true;\n    } else if (force !== true) {\n      var cell = $(document.getElementById(\"8da3fbcd-d4da-4206-8aeb-fddcb128b6d8\")).parents('.cell').data().cell;\n      cell.output_area.append_execute_result(NB_LOAD_WARNING)\n    }\n\n  }\n\n  if (root._bokeh_is_loading === 0) {\n    console.log(\"Bokeh: BokehJS loaded, going straight to plotting\");\n    run_inline_js();\n  } else {\n    load_libs(js_urls, function() {\n      console.log(\"Bokeh: BokehJS plotting callback run at\", now());\n      run_inline_js();\n    });\n  }\n}(window));"
     },
     "metadata": {},
     "output_type": "display_data"
    }
   ],
   "source": [
    "output_notebook()"
   ]
  },
  {
   "cell_type": "code",
   "execution_count": 8,
   "metadata": {
    "collapsed": true
   },
   "outputs": [],
   "source": [
    "def fmt_cool(ds_in):\n",
    "    ds = ds_in.copy(deep=True)\n",
    "    if 'igg' in ds.dims:\n",
    "        ds = ds.sel(igg=1)\n",
    "\n",
    "    if 'g' in ds.dims:\n",
    "        ds = ds.sum('g')\n",
    "            \n",
    "    if 'band' in ds.dims:\n",
    "        try:\n",
    "            ds = ds.squeeze('band')\n",
    "        except ValueError:\n",
    "            ds = ds.sum('band')\n",
    "                \n",
    "    return ds['coolrg']\n",
    "\n",
    "\n",
    "def pltdata_cooling_1(ds_cool=None,\n",
    "                      ds_cool_crd=None, ds_cool_wgt=None):\n",
    "    \n",
    "\n",
    "\n",
    "    colors = all_palettes['Set1'][4]\n",
    "    data = [{'label': 'CLIRAD `coolr_bands`',\n",
    "             'srs': fmt_cool(ds_cool),\n",
    "             'line_dash': 'dashed', 'line_width': 5,\n",
    "             'color': colors[0], 'alpha': .6},\n",
    "            {'label': 'CRD',\n",
    "             'srs': fmt_cool(ds_cool_crd),\n",
    "             'line_dash': 'solid', 'line_width': 1.5,\n",
    "             'marker': 'circle', 'marker_size': 5,\n",
    "             'color': colors[2], 'alpha': 1,},\n",
    "            {'label': 'WGT igg=10 wgt_flux=2',\n",
    "             'srs': fmt_cool(ds_cool_wgt),\n",
    "             'line_dash': 'solid', 'line_width': 3,\n",
    "             'marker': 'square', 'marker_size': 5,\n",
    "             'color': colors[3], 'alpha': .6}]\n",
    "    return data\n",
    "\n",
    "\n",
    "def nice_xlims(pltdata=None, prange=None):\n",
    "    \n",
    "    def get_slice(srs):\n",
    "        return srs.sel(pressure=slice(*prange))\n",
    "    \n",
    "    srss = [d['srs'] for d in pltdata]\n",
    "    vmin = min([get_slice(srs).min() for srs in srss])\n",
    "    vmax = max([get_slice(srs).max() for srs in srss])\n",
    "    dv = (vmax - vmin) * .01\n",
    "    return float(vmin - dv), float(vmax + dv)\n",
    "    \n",
    "\n",
    "def plt_cooling_bokeh(pltdata=None):\n",
    "    '''\n",
    "    Plot a list of cooling rate profiles using bokeh.\n",
    "    '''\n",
    "    ymin = 1e-2 \n",
    "    ymax = 1020 \n",
    "        \n",
    "    p1 = figure(title=\"Linear pressure scale\", \n",
    "                plot_width=400)        \n",
    "    xmin, xmax = nice_xlims(pltdata, prange=(50, 1050))\n",
    "    for d in pltdata:\n",
    "        if 'marker' in d:\n",
    "            getattr(p1, d['marker'])(d['srs'].values, \n",
    "                    d['srs'].coords['pressure'].values,\n",
    "                    color=d['color'], alpha=.7)\n",
    "        p1.line(d['srs'].values, \n",
    "                d['srs'].coords['pressure'].values,\n",
    "                color=d['color'], alpha=d['alpha'], \n",
    "                line_width=d['line_width'], line_dash=d['line_dash'])\n",
    "    \n",
    "    p1.y_range = Range1d(ymax, ymin)\n",
    "    p1.yaxis.axis_label = 'pressure [mb]'   \n",
    "    p1.x_range = Range1d(xmin, xmax)\n",
    "    p1.xaxis.axis_label = 'cooling rate [K/day]'\n",
    "            \n",
    "    p2 = figure(title='Log pressure scale', y_axis_type='log',\n",
    "                plot_width=560)\n",
    "    xmin, xmax = nice_xlims(pltdata, prange=(.01, 200))\n",
    "    \n",
    "    rs = []\n",
    "    for d in pltdata:\n",
    "        rd = []\n",
    "        if 'marker' in d:\n",
    "            r_mark = getattr(p2, d['marker'])(d['srs'].values, \n",
    "                        d['srs'].coords['pressure'].values,\n",
    "                        color=d['color'], alpha=.7)\n",
    "            rd.append(r_mark)\n",
    "        r_line = p2.line(d['srs'].values, \n",
    "                    d['srs'].coords['pressure'].values,\n",
    "                    color=d['color'], alpha=d['alpha'], \n",
    "                    line_width=d['line_width'], line_dash=d['line_dash'])\n",
    "        rd.append(r_line)\n",
    "      \n",
    "        rs.append(rd)\n",
    "        \n",
    "    p2.y_range = Range1d(ymax, ymin)  \n",
    "    p2.yaxis.axis_label = 'pressure [mb]'\n",
    "    \n",
    "    p2.x_range = Range1d(xmin, xmax)\n",
    "    p2.xaxis.axis_label = 'cooling rate [K/day]'\n",
    "    \n",
    "    items = [(d['label'], r) for r, d in zip(rs, pltdata)]\n",
    "    legend = Legend(items=items, location=(10, -30))\n",
    "    legend.label_text_font_size = '8pt'\n",
    "    \n",
    "    p2.add_layout(legend, 'right')  \n",
    "    \n",
    "    show(gridplot(p1, p2, ncols=2, plot_height=500))\n",
    "    \n",
    "\n",
    "def script_plt_cooling():\n",
    "    pltdata = pltdata_cooling_1(\n",
    "        ds_cool=DS_COOL,\n",
    "        ds_cool_crd=DS_COOL_CRD,\n",
    "        ds_cool_wgt=DS_COOL_WGT)\n",
    "    plt_cooling_bokeh(pltdata=pltdata)\n",
    "    print('''FIGURE. Cooling rate profiles.''')"
   ]
  },
  {
   "cell_type": "code",
   "execution_count": 9,
   "metadata": {
    "collapsed": true
   },
   "outputs": [],
   "source": [
    "def fmt_flux(ds_in):\n",
    "    ds = ds_in.copy(deep=True)\n",
    "    \n",
    "    for l in ('level', 'layer'):\n",
    "        if l in ds.data_vars:\n",
    "            if len(ds[l].dims) > 1:\n",
    "                surface = {d: 0 for d in ds.dims if d != 'pressure'}\n",
    "                coord_level = ds[l][surface]\n",
    "                ds.coords[l] = ('pressure', coord_level)\n",
    "            else:\n",
    "                ds.coords[l] = ('pressure', ds[l])\n",
    "        \n",
    "    ds = ds.isel(pressure=[0, 23, -1])\n",
    "        \n",
    "    if 'igg' in ds.dims:\n",
    "        ds = ds.sel(igg=[1])\n",
    "        ds = ds.squeeze('igg').drop('igg')\n",
    "    \n",
    "    if 'g' in ds.dims:\n",
    "        ds = ds.sum('g')\n",
    "            \n",
    "    if 'band' in ds.dims:\n",
    "        try:\n",
    "            ds = ds.squeeze('band').drop('band')\n",
    "        except ValueError:\n",
    "            ds = ds.sum('band')\n",
    "                \n",
    "    df = ds.to_dataframe()\n",
    "    df = df.set_index('level', append=True)               \n",
    "    return df\n",
    "\n",
    "\n",
    "def tbdata_flux(ds_flux=None, ds_flux_crd=None, ds_flux_wgt=None):\n",
    "    ilevels = [0, 23, -1]\n",
    "            \n",
    "    benchmark = {'label': 'CRD',\n",
    "                 'df': fmt_flux(ds_flux_crd)}\n",
    "    \n",
    "    tbs = [{'label': 'WGT igg=10 wgt_flux=1',\n",
    "            'df': fmt_flux(ds_flux_wgt)},\n",
    "           {'label': 'CLIRAD',\n",
    "            'df': fmt_flux(ds_flux)}]\n",
    "    \n",
    "    data = {'benchmark': benchmark, 'others': tbs}\n",
    "    return data\n",
    "\n",
    "\n",
    "def tb_flux(tbdata=None):\n",
    "    benchmark = tbdata['benchmark']\n",
    "    others = tbdata['others']\n",
    "    \n",
    "    def show_tb(d=None):\n",
    "        display.display(d['df'])\n",
    "        print('Table.', 'Fluxes.', d['label'])\n",
    "        \n",
    "    def show_tbdiff(d0=None, d=None):\n",
    "        df = d['df']\n",
    "        df.index = d0['df'].index\n",
    "        display.display(df - d0['df'])\n",
    "        print('Table.', 'Fluxes.', \n",
    "              '({}) - ({})'.format(d['label'], d0['label']))\n",
    "        \n",
    "    show_tb(benchmark)\n",
    "    for d in others:\n",
    "        show_tb(d)\n",
    "        \n",
    "    for d in others:\n",
    "        show_tbdiff(d=d, d0=benchmark)\n",
    "        \n",
    "        \n",
    "def script_tb_flux():\n",
    "    data = tbdata_flux(ds_flux=DS_FLUX,\n",
    "                       ds_flux_crd=DS_FLUX_CRD,\n",
    "                       ds_flux_wgt=DS_FLUX_WGT)\n",
    "    tb_flux(tbdata=data)"
   ]
  },
  {
   "cell_type": "code",
   "execution_count": 10,
   "metadata": {
    "collapsed": true
   },
   "outputs": [],
   "source": [
    "def band_map():\n",
    "    '''\n",
    "    Maps spectral bands in lblnew to spectral bands in clirad.\n",
    "    '''\n",
    "    lblnew2clirad = {'1': '1',\n",
    "            '2': '2',\n",
    "            '3a': '3',\n",
    "            '3b': '4',\n",
    "            '3c': '5',\n",
    "            '4': '6', \n",
    "            '5': '7',\n",
    "            '6': '8',\n",
    "            '7': '9', \n",
    "            '8': '10',\n",
    "            '9': '11'}\n",
    "    \n",
    "    clirad2lblnew = {clirad: lblnew \n",
    "                     for lblnew, clirad in lblnew2clirad.items()}\n",
    "    return clirad2lblnew\n",
    "\n",
    "\n",
    "def gasbands():\n",
    "    bmap = band_map()\n",
    "    gases = list(PARAM['molecule'].keys())\n",
    "    \n",
    "    bands = [bmap[str(b)] for b in PARAM['band']]\n",
    "    return list(itertools.product(gases, bands))\n",
    "\n",
    "\n",
    "def print_bestfit_params():\n",
    "    print('Best-fit values for each (gas, band)')\n",
    "    print('------------------------------------')\n",
    "    for gas, band in gasbands():\n",
    "        print('o {} band{}'.format(gas, band))\n",
    "        param = bestfits.kdist_params(molecule=gas, band=band)\n",
    "        for name, value in sorted(param.items()):\n",
    "            print(2 * ' ' + '{} = {}'.format(name, value))\n",
    "\n",
    "        \n",
    "def print_input_param():        \n",
    "    for name, value in PARAM.items():\n",
    "        print('{} = {}'.format(name, value))\n",
    "        \n",
    "        \n",
    "def print_lblnew_param():\n",
    "    for name, value in sorted(PARAM_LBLNEW.items()):\n",
    "        print('{} = {}'.format(name, value))\n"
   ]
  },
  {
   "cell_type": "code",
   "execution_count": 11,
   "metadata": {
    "collapsed": true,
    "scrolled": false
   },
   "outputs": [],
   "source": [
    "def show_html(s):\n",
    "    display.display(display.HTML(s))\n",
    "\n",
    "    \n",
    "def show_markdown(s):\n",
    "    display.display(display.Markdown(s))\n",
    "\n",
    "    \n",
    "def script():\n",
    "    \n",
    "    title = '### CLIRAD-LW'\n",
    "    s_input = 'Input Parameters'\n",
    "    s_lblnew_param = 'LBLNEW case compaired against'\n",
    "    s_bestfits = 'Best-fit Parameters'\n",
    "    s_plt_cooling = 'Cooling Rate Profiles'\n",
    "    s_tb_flux = 'Flux Comparison'\n",
    "    \n",
    "    # title\n",
    "    show_markdown('### CLIRAD-LW')\n",
    "    \n",
    "    # TOC\n",
    "    show_markdown('### Table of Contents')\n",
    "    show_html(climahtml.getHTML_hrefanchor(s_input))\n",
    "    show_html(climahtml.getHTML_hrefanchor(s_lblnew_param))\n",
    "    show_html(climahtml.getHTML_hrefanchor(s_plt_cooling))\n",
    "    show_html(climahtml.getHTML_hrefanchor(s_tb_flux))\n",
    "    show_html(climahtml.getHTML_hrefanchor(s_bestfits))\n",
    "    \n",
    "    # Input parameters\n",
    "    show_html(climahtml.getHTML_idanchor(s_input))\n",
    "    show_markdown(climahtml.getMarkdown_sectitle(s_input))\n",
    "    print_input_param()\n",
    "    \n",
    "    # LBLNEW parameters \n",
    "    show_html(climahtml.getHTML_idanchor(s_lblnew_param))\n",
    "    show_markdown(climahtml.getMarkdown_sectitle(s_lblnew_param))\n",
    "    print_lblnew_param()\n",
    "    \n",
    "    # Cooling rate profiles\n",
    "    show_html(climahtml.getHTML_idanchor(s_plt_cooling))\n",
    "    show_markdown(climahtml.getMarkdown_sectitle(s_plt_cooling))\n",
    "    script_plt_cooling()\n",
    "    \n",
    "    # Flux comparison\n",
    "    show_html(climahtml.getHTML_idanchor(s_tb_flux))\n",
    "    show_markdown(climahtml.getMarkdown_sectitle(s_tb_flux))\n",
    "    script_tb_flux()\n",
    "    \n",
    "    # Best-fit values\n",
    "    show_html(climahtml.getHTML_idanchor(s_bestfits))\n",
    "    show_markdown(climahtml.getMarkdown_sectitle(s_bestfits))\n",
    "    print_bestfit_params()\n",
    "   \n",
    "    "
   ]
  },
  {
   "cell_type": "code",
   "execution_count": 12,
   "metadata": {
    "collapsed": true,
    "scrolled": false
   },
   "outputs": [
    {
     "data": {
      "text/markdown": [
       "### CLIRAD-LW"
      ],
      "text/plain": [
       "<IPython.core.display.Markdown object>"
      ]
     },
     "metadata": {},
     "output_type": "display_data"
    },
    {
     "data": {
      "text/markdown": [
       "### Table of Contents"
      ],
      "text/plain": [
       "<IPython.core.display.Markdown object>"
      ]
     },
     "metadata": {},
     "output_type": "display_data"
    },
    {
     "data": {
      "text/html": [
       "<a href=\"#Input_Parameters\">Input Parameters</a>"
      ],
      "text/plain": [
       "<IPython.core.display.HTML object>"
      ]
     },
     "metadata": {},
     "output_type": "display_data"
    },
    {
     "data": {
      "text/html": [
       "<a href=\"#LBLNEW_case_compaired_against\">LBLNEW case compaired against</a>"
      ],
      "text/plain": [
       "<IPython.core.display.HTML object>"
      ]
     },
     "metadata": {},
     "output_type": "display_data"
    },
    {
     "data": {
      "text/html": [
       "<a href=\"#Cooling_Rate_Profiles\">Cooling Rate Profiles</a>"
      ],
      "text/plain": [
       "<IPython.core.display.HTML object>"
      ]
     },
     "metadata": {},
     "output_type": "display_data"
    },
    {
     "data": {
      "text/html": [
       "<a href=\"#Flux_Comparison\">Flux Comparison</a>"
      ],
      "text/plain": [
       "<IPython.core.display.HTML object>"
      ]
     },
     "metadata": {},
     "output_type": "display_data"
    },
    {
     "data": {
      "text/html": [
       "<a href=\"#Best-fit_Parameters\">Best-fit Parameters</a>"
      ],
      "text/plain": [
       "<IPython.core.display.HTML object>"
      ]
     },
     "metadata": {},
     "output_type": "display_data"
    },
    {
     "data": {
      "text/html": [
       "<a id=\"Input_Parameters\"></a>"
      ],
      "text/plain": [
       "<IPython.core.display.HTML object>"
      ]
     },
     "metadata": {},
     "output_type": "display_data"
    },
    {
     "data": {
      "text/markdown": [
       "# Input Parameters"
      ],
      "text/plain": [
       "<IPython.core.display.Markdown object>"
      ]
     },
     "metadata": {},
     "output_type": "display_data"
    },
    {
     "name": "stdout",
     "output_type": "stream",
     "text": [
      "commitnumber = de5d43e\n",
      "molecule = {'h2o': 'atmpro', 'n2o': 3.2e-07}\n",
      "band = [9]\n",
      "atmpro = saw\n",
      "tsfc = 257\n"
     ]
    },
    {
     "data": {
      "text/html": [
       "<a id=\"LBLNEW_case_compaired_against\"></a>"
      ],
      "text/plain": [
       "<IPython.core.display.HTML object>"
      ]
     },
     "metadata": {},
     "output_type": "display_data"
    },
    {
     "data": {
      "text/markdown": [
       "# LBLNEW case compaired against"
      ],
      "text/plain": [
       "<IPython.core.display.Markdown object>"
      ]
     },
     "metadata": {},
     "output_type": "display_data"
    },
    {
     "name": "stdout",
     "output_type": "stream",
     "text": [
      "atmpro = saw\n",
      "band = 7\n",
      "commitnumber = 5014a19\n",
      "dv = 0.001\n",
      "molecule = {'h2o': 'atmpro', 'n2o': 3.2e-07}\n",
      "nv = 1000\n",
      "tsfc = 257\n"
     ]
    },
    {
     "data": {
      "text/html": [
       "<a id=\"Cooling_Rate_Profiles\"></a>"
      ],
      "text/plain": [
       "<IPython.core.display.HTML object>"
      ]
     },
     "metadata": {},
     "output_type": "display_data"
    },
    {
     "data": {
      "text/markdown": [
       "# Cooling Rate Profiles"
      ],
      "text/plain": [
       "<IPython.core.display.Markdown object>"
      ]
     },
     "metadata": {},
     "output_type": "display_data"
    },
    {
     "data": {
      "text/html": [
       "\n",
       "<div class=\"bk-root\">\n",
       "    <div class=\"bk-plotdiv\" id=\"5c2b089d-6059-41fd-a39e-40bffaea63c4\"></div>\n",
       "</div>"
      ]
     },
     "metadata": {},
     "output_type": "display_data"
    },
    {
     "data": {
      "application/javascript": [
       "(function(root) {\n",
       "  function embed_document(root) {\n",
       "    \n",
       "  var docs_json = {\"08802231-9a14-42f4-8d22-5f66e2572c2e\":{\"roots\":{\"references\":[{\"attributes\":{\"callback\":null,\"data\":{\"x\":{\"__ndarray__\":\"aNPUXLUFkr8/KBOq4F+Qv2OMdZXhhIm/0/M2y+htgb/L6TquMP9wvwCU4nTOjEU/45SJdxFBeD83u0avLO+HPx4EgthQbJI/dJkyIfp2mT8sUaKX5I+gP/mPGk0NuKQ/C40EcyQyqT/uePvCF2WtP3H9avdzVrA/p11WpVC9sT9J7lAXoCKzP+bGZNnihrQ/z2k3dmDrtT+WzbSu5Va3P4wtl5z5prg/lfOS7eajtj/6LwPaxdCwPyrtW02haqY/hbDlWIhVnD8oKNiOyMiQP3pVizIZGoI/1Sjwggvocz/QhdDCF4ZtP8ktuGZ8LWk/RLEwGxhNYz824CtuZ1VXPxJ/VEdu1FE/xb48G/TQVz90dtnIIZ1bP3r9mHmj9Fs/I2jK2p91WD/NdBk286VJP0eNqdT3dxu/jChh9g86Ub9bYGd4p0phv6znsv2VoWu/SMyVhRvec7+VkmzMpyJ7vyRUR4tOtoG/D4tvLTVwg7+xyUGYuYqAv2GM98xaVna/gPqnQBONYL8nxw/fisdjP6aNJyFYnn4/mWzeZmG3ij9xeUnvXXuTP3Z9YHOA85k/4/eFQ65VoD8gBH8gwr2jP+GvnpqYHKc/XgSiNI9Uqj/RpC7If0mtP/YOZvzD4q8/0Vrogq4IsT9l7VlRL+qxP64DO4y2m7I/336d9O4qsz8azDaiQauzP26xGszYMLQ/Q0g0htvPtD8YkazsUIe1P1AGhi3vCrY/dwqRigG9tT9FHAk5kQ60P1pFA6GKVbE/B+o+R37ZrD932gvmXkmnP5v4uY1FVKE/\",\"dtype\":\"float64\",\"shape\":[75]},\"y\":{\"__ndarray__\":\"GhExyth1ND/Sv8nbtpRIP2vylNV0PVE/aTum7souWD/At0SJ8fVgPw3Iuahxymc/MSNhhJWvcD/bTfBN02d3P2zb5nxnaoA/CD5h5MAGhz8NmeH1TyaQP+zrCsc9p5Y/LbKd76fGnz/bLW5ISEmmPww9YvTcQq8/JV2OstnstT8Er5Y7M8G+P0c+r3jqkcU/5h99k6ZBzj88bCIzFzjVP4enV8oyxN0//yH99nXg5D8qOpLLf0jtP5kqGJXUifQ/c9cS8kHP/D+/DpwzojQEQIEmwoanVwxA4lgXt9HgE0BSSZ2AJuIbQAMJih9jjiNA5q4l5INuK0AwTKYKRj0zQNv5fmq8/DpAaCJseHrtQkB/+zpwzoxKQM3MzMzMeFJAZmZmZmZqWEAAAAAAAFxeQM3MzMzMJmJAmpmZmZkfZUBmZmZmZhhoQDMzMzMzEWtAAAAAAAAKbkBmZmZmZoFwQM3MzMzM/XFAMzMzMzN6c0CamZmZmfZ0QAAAAAAAc3ZAZmZmZmbvd0DNzMzMzGt5QDMzMzMz6HpAmpmZmZlkfEAAAAAAAOF9QGZmZmZmXX9AZmZmZuZsgECamZmZGSuBQM3MzMxM6YFAAAAAAICngkAzMzMzs2WDQGZmZmbmI4RAmpmZmRnihEDNzMzMTKCFQAAAAACAXoZAMzMzM7Mch0BmZmZm5tqHQJqZmZkZmYhAzczMzExXiUAAAAAAgBWKQDMzMzOz04pAZmZmZuaRi0CamZmZGVCMQM3MzMxMDo1AAAAAAIDMjUAzMzMzs4qOQGZmZmbmSI9A\",\"dtype\":\"float64\",\"shape\":[75]}},\"selected\":{\"id\":\"6267f3a2-4d53-4dbe-a719-0afd92c9068a\",\"type\":\"Selection\"},\"selection_policy\":{\"id\":\"d1b7187a-a03f-4b78-b786-77c1adc42124\",\"type\":\"UnionRenderers\"}},\"id\":\"4920d845-370f-4992-89c5-f8b419948135\",\"type\":\"ColumnDataSource\"},{\"attributes\":{\"data_source\":{\"id\":\"4920d845-370f-4992-89c5-f8b419948135\",\"type\":\"ColumnDataSource\"},\"glyph\":{\"id\":\"7d523e8f-34e9-4368-b078-4151d57466bc\",\"type\":\"Line\"},\"hover_glyph\":null,\"muted_glyph\":null,\"nonselection_glyph\":{\"id\":\"836057bf-054b-4077-bca4-dd578e85a4d3\",\"type\":\"Line\"},\"selection_glyph\":null,\"view\":{\"id\":\"43715309-9eae-40fa-ba74-f5b4bd448778\",\"type\":\"CDSView\"}},\"id\":\"34152c63-19db-4e93-a47c-82cb0960bb27\",\"type\":\"GlyphRenderer\"},{\"attributes\":{\"source\":{\"id\":\"4920d845-370f-4992-89c5-f8b419948135\",\"type\":\"ColumnDataSource\"}},\"id\":\"43715309-9eae-40fa-ba74-f5b4bd448778\",\"type\":\"CDSView\"},{\"attributes\":{\"line_alpha\":0.1,\"line_color\":\"#1f77b4\",\"line_width\":1.5,\"x\":{\"field\":\"x\"},\"y\":{\"field\":\"y\"}},\"id\":\"836057bf-054b-4077-bca4-dd578e85a4d3\",\"type\":\"Line\"},{\"attributes\":{\"axis_label\":\"pressure [mb]\",\"formatter\":{\"id\":\"16e0fc2d-1e40-4e60-bd52-6f3bc5472419\",\"type\":\"BasicTickFormatter\"},\"plot\":{\"id\":\"23ecf829-5c1d-49a2-b304-389e0fd17d19\",\"subtype\":\"Figure\",\"type\":\"Plot\"},\"ticker\":{\"id\":\"6c9729af-632e-4ae1-b393-d904495c9fec\",\"type\":\"BasicTicker\"}},\"id\":\"d3be079d-411b-4b59-9901-0e2a9e047bf6\",\"type\":\"LinearAxis\"},{\"attributes\":{\"fill_alpha\":{\"value\":0.1},\"fill_color\":{\"value\":\"#1f77b4\"},\"line_alpha\":{\"value\":0.1},\"line_color\":{\"value\":\"#1f77b4\"},\"x\":{\"field\":\"x\"},\"y\":{\"field\":\"y\"}},\"id\":\"ba9f1eef-bfd8-4eab-90d6-38c2ac958cd6\",\"type\":\"Circle\"},{\"attributes\":{\"callback\":null,\"data\":{\"x\":{\"__ndarray__\":\"gitZrlVpQr8fzoNqVuo9PySt/q3A7mU/5TjAn2QqdT9AyGHQwzmAP01ki0kkdoY/HoxhGd5WjT/zqy/OvHWSP3RiI9FKqJY/V/Y0kso1mz9lM035jBugP2SlWwyk36I/Oy0XqMfhpT/ZkxEuHLyoPxBpZQy9D6s/myI8sbkwrT/pcw7OQmOvP9mX9S0217A/tPo0OFsKsj+BzeN3bUuzPwy95NA5d7Q/lwBuqZJnsz8VrlYMqE6vPzZpUr4reKc/AuhnUlkAoT8rS/2Ht3iXP20MwFpDFo4/kPw2hctqgj8zrANTlnB3P26ecTivRW0/IHKyySxGXj9AC3xQwzA+P5a48juB4RS/rzfPfT2mHj/BvjzDv1osP2cl//9c/eo+Mv9w3aZKQL9F0oRrgihXv7CtT9zZrmO/CowmbIcTbL99kqEFTXRyv6F7S0PRX3e/92bmzRK5fL+IXEutIFKBv3UHTgnKZYS/RwbkC405hb9i7CCRH/qBvwJOV31TtHi/JnDH8UXvY7/IaEPT0MVhP9B4fGVgUH4/vN/YG8unij8Pl16THE2TP/FDF2cbnpk/3sq8nKwtoD9DhKiQZaCjP+yrLIPK9aY/HMOtzKUCqj+FGiWyhsCsP55HRoAzLq8/wZ5qhc2msD/qCQ7Zh4+xP2Yvc2vmUbI/cWva3tHzsj+CcFGiL4GzP/jQa9d3CrQ/sspA9l6itD8BPPDR5US1PzVAzNIMsbU/oeW9jXRWtT+rwiJjDrKzP9+DFJKFFbE/C2LQpHWdrD+Ey4MkTk+nP8SDpTsBraE/\",\"dtype\":\"float64\",\"shape\":[75]},\"y\":{\"__ndarray__\":\"GhExyth1ND/Sv8nbtpRIP2vylNV0PVE/aTum7souWD/At0SJ8fVgPw3Iuahxymc/MSNhhJWvcD/bTfBN02d3P2zb5nxnaoA/CD5h5MAGhz8NmeH1TyaQP+zrCsc9p5Y/LbKd76fGnz/bLW5ISEmmPww9YvTcQq8/JV2OstnstT8Er5Y7M8G+P0c+r3jqkcU/5h99k6ZBzj88bCIzFzjVP4enV8oyxN0//yH99nXg5D8qOpLLf0jtP5kqGJXUifQ/c9cS8kHP/D+/DpwzojQEQIEmwoanVwxA4lgXt9HgE0BSSZ2AJuIbQAMJih9jjiNA5q4l5INuK0AwTKYKRj0zQNv5fmq8/DpAaCJseHrtQkB/+zpwzoxKQM3MzMzMeFJAZmZmZmZqWEAAAAAAAFxeQM3MzMzMJmJAmpmZmZkfZUBmZmZmZhhoQDMzMzMzEWtAAAAAAAAKbkBmZmZmZoFwQM3MzMzM/XFAMzMzMzN6c0CamZmZmfZ0QAAAAAAAc3ZAZmZmZmbvd0DNzMzMzGt5QDMzMzMz6HpAmpmZmZlkfEAAAAAAAOF9QGZmZmZmXX9AZmZmZuZsgECamZmZGSuBQM3MzMxM6YFAAAAAAICngkAzMzMzs2WDQGZmZmbmI4RAmpmZmRnihEDNzMzMTKCFQAAAAACAXoZAMzMzM7Mch0BmZmZm5tqHQJqZmZkZmYhAzczMzExXiUAAAAAAgBWKQDMzMzOz04pAZmZmZuaRi0CamZmZGVCMQM3MzMxMDo1AAAAAAIDMjUAzMzMzs4qOQGZmZmbmSI9A\",\"dtype\":\"float64\",\"shape\":[75]}},\"selected\":{\"id\":\"fcd059cc-d52e-410d-9a51-ad6450b0573e\",\"type\":\"Selection\"},\"selection_policy\":{\"id\":\"d24931ce-96b2-4824-a36a-c0d98172df28\",\"type\":\"UnionRenderers\"}},\"id\":\"d981943d-82d4-45cb-af52-0cf3e2d28dcf\",\"type\":\"ColumnDataSource\"},{\"attributes\":{\"data_source\":{\"id\":\"35d2d861-aeb6-4c61-bf0f-16ec523437e3\",\"type\":\"ColumnDataSource\"},\"glyph\":{\"id\":\"9c68143d-ae82-4955-9bf4-0db12e80c24f\",\"type\":\"Circle\"},\"hover_glyph\":null,\"muted_glyph\":null,\"nonselection_glyph\":{\"id\":\"ba9f1eef-bfd8-4eab-90d6-38c2ac958cd6\",\"type\":\"Circle\"},\"selection_glyph\":null,\"view\":{\"id\":\"051a2738-ba8a-45d1-b330-a9fbb61e0192\",\"type\":\"CDSView\"}},\"id\":\"b8c1b00e-ee94-4e9f-bd75-95a2b1724292\",\"type\":\"GlyphRenderer\"},{\"attributes\":{\"fill_alpha\":{\"value\":0.7},\"fill_color\":{\"value\":\"#984ea3\"},\"line_alpha\":{\"value\":0.7},\"line_color\":{\"value\":\"#984ea3\"},\"x\":{\"field\":\"x\"},\"y\":{\"field\":\"y\"}},\"id\":\"72d22e20-f303-47b0-8f2b-d5ee1cbcf244\",\"type\":\"Square\"},{\"attributes\":{\"source\":{\"id\":\"8ae02f80-fa23-4b67-bf85-748eae9da829\",\"type\":\"ColumnDataSource\"}},\"id\":\"09d8592a-4186-4663-8d6a-14f6088580ab\",\"type\":\"CDSView\"},{\"attributes\":{\"source\":{\"id\":\"35d2d861-aeb6-4c61-bf0f-16ec523437e3\",\"type\":\"ColumnDataSource\"}},\"id\":\"051a2738-ba8a-45d1-b330-a9fbb61e0192\",\"type\":\"CDSView\"},{\"attributes\":{\"fill_alpha\":{\"value\":0.1},\"fill_color\":{\"value\":\"#1f77b4\"},\"line_alpha\":{\"value\":0.1},\"line_color\":{\"value\":\"#1f77b4\"},\"x\":{\"field\":\"x\"},\"y\":{\"field\":\"y\"}},\"id\":\"d0e042bf-811b-4470-b456-69281af4dc1d\",\"type\":\"Square\"},{\"attributes\":{\"line_color\":\"#4daf4a\",\"line_width\":1.5,\"x\":{\"field\":\"x\"},\"y\":{\"field\":\"y\"}},\"id\":\"7d523e8f-34e9-4368-b078-4151d57466bc\",\"type\":\"Line\"},{\"attributes\":{\"children\":[{\"id\":\"9fb3d97f-1104-44bd-be6c-86345e4726bb\",\"type\":\"Row\"}]},\"id\":\"830ac72d-8c12-4a4d-abc0-072915616ae2\",\"type\":\"Column\"},{\"attributes\":{\"children\":[{\"id\":\"23ecf829-5c1d-49a2-b304-389e0fd17d19\",\"subtype\":\"Figure\",\"type\":\"Plot\"},{\"id\":\"1d926ccc-0270-47d2-a5c2-490d4f862b13\",\"subtype\":\"Figure\",\"type\":\"Plot\"}]},\"id\":\"9fb3d97f-1104-44bd-be6c-86345e4726bb\",\"type\":\"Row\"},{\"attributes\":{\"label\":{\"value\":\"CLIRAD `coolr_bands`\"},\"renderers\":[{\"id\":\"5a7faa17-0138-46e8-8777-1c1e71d80b9d\",\"type\":\"GlyphRenderer\"}]},\"id\":\"884e9814-a672-44f5-94fc-894c3b1734e0\",\"type\":\"LegendItem\"},{\"attributes\":{},\"id\":\"16e0fc2d-1e40-4e60-bd52-6f3bc5472419\",\"type\":\"BasicTickFormatter\"},{\"attributes\":{\"label\":{\"value\":\"CRD\"},\"renderers\":[{\"id\":\"b8c1b00e-ee94-4e9f-bd75-95a2b1724292\",\"type\":\"GlyphRenderer\"},{\"id\":\"34152c63-19db-4e93-a47c-82cb0960bb27\",\"type\":\"GlyphRenderer\"}]},\"id\":\"b5af5cd3-7a33-4440-acbf-ae4d89e92c35\",\"type\":\"LegendItem\"},{\"attributes\":{},\"id\":\"2e2cdf26-ccde-4b87-abe7-c7c08ef9d875\",\"type\":\"Selection\"},{\"attributes\":{\"label\":{\"value\":\"WGT igg=10 wgt_flux=2\"},\"renderers\":[{\"id\":\"e7c02063-80d2-4324-b195-889c1e3d5f3a\",\"type\":\"GlyphRenderer\"},{\"id\":\"e1b0561f-e638-42da-b434-6d3ed24b83bf\",\"type\":\"GlyphRenderer\"}]},\"id\":\"04a65d77-c200-4597-b258-3df917e8cd6c\",\"type\":\"LegendItem\"},{\"attributes\":{},\"id\":\"40a2c194-d3a6-483b-baf5-2f730ff3eca8\",\"type\":\"UnionRenderers\"},{\"attributes\":{},\"id\":\"1a6fcd03-62cd-450b-960a-6f7dcb9dcc49\",\"type\":\"BasicTickFormatter\"},{\"attributes\":{},\"id\":\"60e546e7-2f0b-4126-8c9b-6b849bbba4c7\",\"type\":\"UnionRenderers\"},{\"attributes\":{},\"id\":\"4303d524-e906-4054-8cf5-7ce268635711\",\"type\":\"UnionRenderers\"},{\"attributes\":{},\"id\":\"ddb7aa61-7487-4626-85cb-6ae1f40baf6b\",\"type\":\"UnionRenderers\"},{\"attributes\":{},\"id\":\"645a5c31-8bd5-4f98-9882-4395213291a9\",\"type\":\"Selection\"},{\"attributes\":{},\"id\":\"d8e30abf-45ea-4537-b3c1-9a152ec0b4f7\",\"type\":\"UnionRenderers\"},{\"attributes\":{\"ticker\":null},\"id\":\"c0b50fa6-30a4-4ebd-b7d6-4fb52b2d2511\",\"type\":\"LogTickFormatter\"},{\"attributes\":{},\"id\":\"2be11567-9272-472b-8228-8f0a8a0a8b5d\",\"type\":\"Selection\"},{\"attributes\":{},\"id\":\"258def4a-c765-42b5-9709-0741fdc4a91b\",\"type\":\"UnionRenderers\"},{\"attributes\":{},\"id\":\"dae2ca49-361f-4b8c-9a21-771fd660e34c\",\"type\":\"Selection\"},{\"attributes\":{},\"id\":\"d1b7187a-a03f-4b78-b786-77c1adc42124\",\"type\":\"UnionRenderers\"},{\"attributes\":{},\"id\":\"85b77421-821e-433a-87fb-04d47b929802\",\"type\":\"Selection\"},{\"attributes\":{},\"id\":\"47815e41-c6da-43ee-a555-3eabd6550965\",\"type\":\"UnionRenderers\"},{\"attributes\":{},\"id\":\"d4317589-7134-4f99-9a45-4fec119c9735\",\"type\":\"BasicTickFormatter\"},{\"attributes\":{},\"id\":\"82691e8e-4cc0-4c5e-8b15-4a51ee6b7f5c\",\"type\":\"Selection\"},{\"attributes\":{},\"id\":\"d24931ce-96b2-4824-a36a-c0d98172df28\",\"type\":\"UnionRenderers\"},{\"attributes\":{},\"id\":\"079578c9-fe2c-47ec-9ae7-429594facf20\",\"type\":\"UnionRenderers\"},{\"attributes\":{},\"id\":\"348f3d0f-9fbf-4dcf-b77a-6fa61b4b56ef\",\"type\":\"Selection\"},{\"attributes\":{\"toolbar\":{\"id\":\"bb65859a-81a5-4275-8f6c-4fc8d2fd3646\",\"type\":\"ProxyToolbar\"},\"toolbar_location\":\"above\"},\"id\":\"a8d2be4a-c2e3-48a9-863a-c2649c1ec1f2\",\"type\":\"ToolbarBox\"},{\"attributes\":{},\"id\":\"6267f3a2-4d53-4dbe-a719-0afd92c9068a\",\"type\":\"Selection\"},{\"attributes\":{},\"id\":\"fcd059cc-d52e-410d-9a51-ad6450b0573e\",\"type\":\"Selection\"},{\"attributes\":{\"children\":[{\"id\":\"a8d2be4a-c2e3-48a9-863a-c2649c1ec1f2\",\"type\":\"ToolbarBox\"},{\"id\":\"830ac72d-8c12-4a4d-abc0-072915616ae2\",\"type\":\"Column\"}]},\"id\":\"80e2f2db-3923-41e9-a271-0d11ca49837d\",\"type\":\"Column\"},{\"attributes\":{},\"id\":\"b8e9d3c8-3ae4-42cc-8468-642afb604262\",\"type\":\"Selection\"},{\"attributes\":{\"tools\":[{\"id\":\"bfc1e21d-f89f-4d2d-9122-3fb4e89d1472\",\"type\":\"PanTool\"},{\"id\":\"5e998ae4-cea0-49cd-b1df-21b48dd2d98d\",\"type\":\"WheelZoomTool\"},{\"id\":\"393450d1-8dc4-42ed-89e8-78735aa671d1\",\"type\":\"BoxZoomTool\"},{\"id\":\"2423fe66-fed4-4c6a-9981-5535a1b23e6d\",\"type\":\"SaveTool\"},{\"id\":\"e17f295b-4726-4625-be6f-8a5f4c841979\",\"type\":\"ResetTool\"},{\"id\":\"7f1f824c-78e5-4ca1-84f9-10e2d7645513\",\"type\":\"HelpTool\"},{\"id\":\"b9e5dc24-9d5d-4418-994c-78d472f04be0\",\"type\":\"PanTool\"},{\"id\":\"4876db0b-17d4-419e-9ad4-9b55ebf1828c\",\"type\":\"WheelZoomTool\"},{\"id\":\"633d28db-b271-4487-87a1-cf02fcf5f1b0\",\"type\":\"BoxZoomTool\"},{\"id\":\"eb3cc8c2-99f5-46d5-ac85-fcce51630ba5\",\"type\":\"SaveTool\"},{\"id\":\"5f20cb53-fd43-43ca-a7dd-fe84c08870f7\",\"type\":\"ResetTool\"},{\"id\":\"8c55dd44-20cb-47a7-8d46-43bc7059655b\",\"type\":\"HelpTool\"}]},\"id\":\"bb65859a-81a5-4275-8f6c-4fc8d2fd3646\",\"type\":\"ProxyToolbar\"},{\"attributes\":{},\"id\":\"5e998ae4-cea0-49cd-b1df-21b48dd2d98d\",\"type\":\"WheelZoomTool\"},{\"attributes\":{\"line_alpha\":0.6,\"line_color\":\"#e41a1c\",\"line_dash\":[6],\"line_width\":5,\"x\":{\"field\":\"x\"},\"y\":{\"field\":\"y\"}},\"id\":\"03487cbf-c010-44e2-853e-825a0275b3e9\",\"type\":\"Line\"},{\"attributes\":{\"data_source\":{\"id\":\"ca303662-3b25-4dff-9ae6-b07749f5ca07\",\"type\":\"ColumnDataSource\"},\"glyph\":{\"id\":\"bc746cba-1e80-49af-9479-6d6100175fd8\",\"type\":\"Line\"},\"hover_glyph\":null,\"muted_glyph\":null,\"nonselection_glyph\":{\"id\":\"4a27e840-e627-4cbe-b7a2-4c5144c7d97b\",\"type\":\"Line\"},\"selection_glyph\":null,\"view\":{\"id\":\"05145bf2-0aef-4abe-b8f0-45d27a5c6cc6\",\"type\":\"CDSView\"}},\"id\":\"ae1ca4f4-b751-4380-996b-6630473c959a\",\"type\":\"GlyphRenderer\"},{\"attributes\":{\"dimension\":1,\"plot\":{\"id\":\"1d926ccc-0270-47d2-a5c2-490d4f862b13\",\"subtype\":\"Figure\",\"type\":\"Plot\"},\"ticker\":{\"id\":\"05799549-2788-47e1-b53c-6ec45d219916\",\"type\":\"LogTicker\"}},\"id\":\"1ed95a79-d6d1-42f3-a59f-bb86a7feaa5b\",\"type\":\"Grid\"},{\"attributes\":{\"num_minor_ticks\":10},\"id\":\"05799549-2788-47e1-b53c-6ec45d219916\",\"type\":\"LogTicker\"},{\"attributes\":{\"source\":{\"id\":\"7ae95c3a-7530-46c5-bc10-4d46184d47cf\",\"type\":\"ColumnDataSource\"}},\"id\":\"2e88ba50-95bc-486f-8b3a-cc4db9b5d4f0\",\"type\":\"CDSView\"},{\"attributes\":{\"line_alpha\":0.1,\"line_color\":\"#1f77b4\",\"line_width\":3,\"x\":{\"field\":\"x\"},\"y\":{\"field\":\"y\"}},\"id\":\"a884b8aa-e956-4726-974c-7b4abff86d35\",\"type\":\"Line\"},{\"attributes\":{\"items\":[{\"id\":\"884e9814-a672-44f5-94fc-894c3b1734e0\",\"type\":\"LegendItem\"},{\"id\":\"b5af5cd3-7a33-4440-acbf-ae4d89e92c35\",\"type\":\"LegendItem\"},{\"id\":\"04a65d77-c200-4597-b258-3df917e8cd6c\",\"type\":\"LegendItem\"}],\"label_text_font_size\":{\"value\":\"8pt\"},\"location\":[10,-30],\"plot\":{\"id\":\"1d926ccc-0270-47d2-a5c2-490d4f862b13\",\"subtype\":\"Figure\",\"type\":\"Plot\"}},\"id\":\"2a35af82-2006-432b-aee5-b70595a7b39d\",\"type\":\"Legend\"},{\"attributes\":{\"active_drag\":\"auto\",\"active_inspect\":\"auto\",\"active_scroll\":\"auto\",\"active_tap\":\"auto\",\"tools\":[{\"id\":\"bfc1e21d-f89f-4d2d-9122-3fb4e89d1472\",\"type\":\"PanTool\"},{\"id\":\"5e998ae4-cea0-49cd-b1df-21b48dd2d98d\",\"type\":\"WheelZoomTool\"},{\"id\":\"393450d1-8dc4-42ed-89e8-78735aa671d1\",\"type\":\"BoxZoomTool\"},{\"id\":\"2423fe66-fed4-4c6a-9981-5535a1b23e6d\",\"type\":\"SaveTool\"},{\"id\":\"e17f295b-4726-4625-be6f-8a5f4c841979\",\"type\":\"ResetTool\"},{\"id\":\"7f1f824c-78e5-4ca1-84f9-10e2d7645513\",\"type\":\"HelpTool\"}]},\"id\":\"032df5f5-b57c-4a06-ac78-4dd63de7b3ff\",\"type\":\"Toolbar\"},{\"attributes\":{\"axis_label\":\"pressure [mb]\",\"formatter\":{\"id\":\"c0b50fa6-30a4-4ebd-b7d6-4fb52b2d2511\",\"type\":\"LogTickFormatter\"},\"plot\":{\"id\":\"1d926ccc-0270-47d2-a5c2-490d4f862b13\",\"subtype\":\"Figure\",\"type\":\"Plot\"},\"ticker\":{\"id\":\"05799549-2788-47e1-b53c-6ec45d219916\",\"type\":\"LogTicker\"}},\"id\":\"9be8ef65-c2f5-4982-8d93-8806a7c8eb3d\",\"type\":\"LogAxis\"},{\"attributes\":{},\"id\":\"eb3cc8c2-99f5-46d5-ac85-fcce51630ba5\",\"type\":\"SaveTool\"},{\"attributes\":{\"bottom_units\":\"screen\",\"fill_alpha\":{\"value\":0.5},\"fill_color\":{\"value\":\"lightgrey\"},\"left_units\":\"screen\",\"level\":\"overlay\",\"line_alpha\":{\"value\":1.0},\"line_color\":{\"value\":\"black\"},\"line_dash\":[4,4],\"line_width\":{\"value\":2},\"plot\":null,\"render_mode\":\"css\",\"right_units\":\"screen\",\"top_units\":\"screen\"},\"id\":\"4283c8e0-437b-4df2-895d-9b69a8260ba1\",\"type\":\"BoxAnnotation\"},{\"attributes\":{\"axis_label\":\"cooling rate [K/day]\",\"formatter\":{\"id\":\"d4317589-7134-4f99-9a45-4fec119c9735\",\"type\":\"BasicTickFormatter\"},\"plot\":{\"id\":\"1d926ccc-0270-47d2-a5c2-490d4f862b13\",\"subtype\":\"Figure\",\"type\":\"Plot\"},\"ticker\":{\"id\":\"c681874f-4cf1-4f87-87ed-6e83deedeba6\",\"type\":\"BasicTicker\"}},\"id\":\"d8d64563-56d5-4606-87e0-c5b31cd9e0d7\",\"type\":\"LinearAxis\"},{\"attributes\":{},\"id\":\"6c9729af-632e-4ae1-b393-d904495c9fec\",\"type\":\"BasicTicker\"},{\"attributes\":{\"overlay\":{\"id\":\"4283c8e0-437b-4df2-895d-9b69a8260ba1\",\"type\":\"BoxAnnotation\"}},\"id\":\"633d28db-b271-4487-87a1-cf02fcf5f1b0\",\"type\":\"BoxZoomTool\"},{\"attributes\":{\"callback\":null,\"end\":0.097311092569,\"start\":-0.006040975469},\"id\":\"e588e066-596a-47c9-b729-8e3a1b0324d8\",\"type\":\"Range1d\"},{\"attributes\":{},\"id\":\"5f87cada-c249-4eb1-b9ee-ecf75fc80884\",\"type\":\"LogScale\"},{\"attributes\":{},\"id\":\"b9e5dc24-9d5d-4418-994c-78d472f04be0\",\"type\":\"PanTool\"},{\"attributes\":{\"active_drag\":\"auto\",\"active_inspect\":\"auto\",\"active_scroll\":\"auto\",\"active_tap\":\"auto\",\"tools\":[{\"id\":\"b9e5dc24-9d5d-4418-994c-78d472f04be0\",\"type\":\"PanTool\"},{\"id\":\"4876db0b-17d4-419e-9ad4-9b55ebf1828c\",\"type\":\"WheelZoomTool\"},{\"id\":\"633d28db-b271-4487-87a1-cf02fcf5f1b0\",\"type\":\"BoxZoomTool\"},{\"id\":\"eb3cc8c2-99f5-46d5-ac85-fcce51630ba5\",\"type\":\"SaveTool\"},{\"id\":\"5f20cb53-fd43-43ca-a7dd-fe84c08870f7\",\"type\":\"ResetTool\"},{\"id\":\"8c55dd44-20cb-47a7-8d46-43bc7059655b\",\"type\":\"HelpTool\"}]},\"id\":\"9764062a-a82b-4dd5-957c-9fafa7009a19\",\"type\":\"Toolbar\"},{\"attributes\":{},\"id\":\"5f20cb53-fd43-43ca-a7dd-fe84c08870f7\",\"type\":\"ResetTool\"},{\"attributes\":{},\"id\":\"3b37b43f-860f-4a4a-ac99-3508c7e46971\",\"type\":\"LinearScale\"},{\"attributes\":{},\"id\":\"2423fe66-fed4-4c6a-9981-5535a1b23e6d\",\"type\":\"SaveTool\"},{\"attributes\":{},\"id\":\"8c55dd44-20cb-47a7-8d46-43bc7059655b\",\"type\":\"HelpTool\"},{\"attributes\":{\"line_alpha\":0.1,\"line_color\":\"#1f77b4\",\"line_width\":3,\"x\":{\"field\":\"x\"},\"y\":{\"field\":\"y\"}},\"id\":\"4a27e840-e627-4cbe-b7a2-4c5144c7d97b\",\"type\":\"Line\"},{\"attributes\":{\"data_source\":{\"id\":\"24038cb7-d9a9-41b3-83ad-b56dba3a2270\",\"type\":\"ColumnDataSource\"},\"glyph\":{\"id\":\"5ca7bed1-d35e-4e27-b213-c9970ff48ac5\",\"type\":\"Line\"},\"hover_glyph\":null,\"muted_glyph\":null,\"nonselection_glyph\":{\"id\":\"a2e9b2c2-3e18-47bf-9931-d07ce949e7cc\",\"type\":\"Line\"},\"selection_glyph\":null,\"view\":{\"id\":\"fe25d4f4-e4f7-49b2-ab29-f6323c42c970\",\"type\":\"CDSView\"}},\"id\":\"1af36978-112c-4bc7-aafa-3a897cd2373b\",\"type\":\"GlyphRenderer\"},{\"attributes\":{\"plot\":null,\"text\":\"Log pressure scale\"},\"id\":\"8aa94357-39ff-4a36-a704-5f704dbbcf5c\",\"type\":\"Title\"},{\"attributes\":{\"callback\":null,\"end\":0.01,\"start\":1020},\"id\":\"d34cbd36-ec67-47de-9351-eec358542e37\",\"type\":\"Range1d\"},{\"attributes\":{\"data_source\":{\"id\":\"8ae02f80-fa23-4b67-bf85-748eae9da829\",\"type\":\"ColumnDataSource\"},\"glyph\":{\"id\":\"b9354680-71a1-4aaf-9116-7f35f42b76f5\",\"type\":\"Line\"},\"hover_glyph\":null,\"muted_glyph\":null,\"nonselection_glyph\":{\"id\":\"a884b8aa-e956-4726-974c-7b4abff86d35\",\"type\":\"Line\"},\"selection_glyph\":null,\"view\":{\"id\":\"09d8592a-4186-4663-8d6a-14f6088580ab\",\"type\":\"CDSView\"}},\"id\":\"e1b0561f-e638-42da-b434-6d3ed24b83bf\",\"type\":\"GlyphRenderer\"},{\"attributes\":{\"data_source\":{\"id\":\"912f466e-a320-4e4d-9729-2b3ef8eb08d5\",\"type\":\"ColumnDataSource\"},\"glyph\":{\"id\":\"b2df4817-97fa-4533-bb1f-07dea05fc7f5\",\"type\":\"Circle\"},\"hover_glyph\":null,\"muted_glyph\":null,\"nonselection_glyph\":{\"id\":\"e30e77a3-d443-48e9-83d7-725054754074\",\"type\":\"Circle\"},\"selection_glyph\":null,\"view\":{\"id\":\"80ed3dfb-f26a-429b-8bb0-3adee76163a4\",\"type\":\"CDSView\"}},\"id\":\"2bc29405-7fe0-4577-99db-56ca6ef0c8d1\",\"type\":\"GlyphRenderer\"},{\"attributes\":{},\"id\":\"4e05ae9c-c802-4032-827b-fc9cc052d857\",\"type\":\"LinearScale\"},{\"attributes\":{\"fill_alpha\":{\"value\":0.1},\"fill_color\":{\"value\":\"#1f77b4\"},\"line_alpha\":{\"value\":0.1},\"line_color\":{\"value\":\"#1f77b4\"},\"x\":{\"field\":\"x\"},\"y\":{\"field\":\"y\"}},\"id\":\"b3c8afed-2125-4e16-b27b-d8d3c112daea\",\"type\":\"Square\"},{\"attributes\":{\"source\":{\"id\":\"ca303662-3b25-4dff-9ae6-b07749f5ca07\",\"type\":\"ColumnDataSource\"}},\"id\":\"05145bf2-0aef-4abe-b8f0-45d27a5c6cc6\",\"type\":\"CDSView\"},{\"attributes\":{\"data_source\":{\"id\":\"dc818b9b-f3b3-42e3-8f28-779901599256\",\"type\":\"ColumnDataSource\"},\"glyph\":{\"id\":\"03487cbf-c010-44e2-853e-825a0275b3e9\",\"type\":\"Line\"},\"hover_glyph\":null,\"muted_glyph\":null,\"nonselection_glyph\":{\"id\":\"f46284a5-e040-49db-b987-d52667e58c8d\",\"type\":\"Line\"},\"selection_glyph\":null,\"view\":{\"id\":\"590be608-8146-4f69-a1dd-f06603135c99\",\"type\":\"CDSView\"}},\"id\":\"32eee1bc-3371-4f97-922a-006bcd2c4a2e\",\"type\":\"GlyphRenderer\"},{\"attributes\":{\"fill_alpha\":{\"value\":0.1},\"fill_color\":{\"value\":\"#1f77b4\"},\"line_alpha\":{\"value\":0.1},\"line_color\":{\"value\":\"#1f77b4\"},\"x\":{\"field\":\"x\"},\"y\":{\"field\":\"y\"}},\"id\":\"e30e77a3-d443-48e9-83d7-725054754074\",\"type\":\"Circle\"},{\"attributes\":{},\"id\":\"7f1f824c-78e5-4ca1-84f9-10e2d7645513\",\"type\":\"HelpTool\"},{\"attributes\":{\"line_alpha\":0.1,\"line_color\":\"#1f77b4\",\"line_dash\":[6],\"line_width\":5,\"x\":{\"field\":\"x\"},\"y\":{\"field\":\"y\"}},\"id\":\"44788242-c171-466e-a4dc-ed62fd7c3cb9\",\"type\":\"Line\"},{\"attributes\":{\"fill_alpha\":{\"value\":0.7},\"fill_color\":{\"value\":\"#4daf4a\"},\"line_alpha\":{\"value\":0.7},\"line_color\":{\"value\":\"#4daf4a\"},\"x\":{\"field\":\"x\"},\"y\":{\"field\":\"y\"}},\"id\":\"b2df4817-97fa-4533-bb1f-07dea05fc7f5\",\"type\":\"Circle\"},{\"attributes\":{\"callback\":null,\"data\":{\"x\":{\"__ndarray__\":\"aNPUXLUFkr8/KBOq4F+Qv2OMdZXhhIm/0/M2y+htgb/L6TquMP9wvwCU4nTOjEU/45SJdxFBeD83u0avLO+HPx4EgthQbJI/dJkyIfp2mT8sUaKX5I+gP/mPGk0NuKQ/C40EcyQyqT/uePvCF2WtP3H9avdzVrA/p11WpVC9sT9J7lAXoCKzP+bGZNnihrQ/z2k3dmDrtT+WzbSu5Va3P4wtl5z5prg/lfOS7eajtj/6LwPaxdCwPyrtW02haqY/hbDlWIhVnD8oKNiOyMiQP3pVizIZGoI/1Sjwggvocz/QhdDCF4ZtP8ktuGZ8LWk/RLEwGxhNYz824CtuZ1VXPxJ/VEdu1FE/xb48G/TQVz90dtnIIZ1bP3r9mHmj9Fs/I2jK2p91WD/NdBk286VJP0eNqdT3dxu/jChh9g86Ub9bYGd4p0phv6znsv2VoWu/SMyVhRvec7+VkmzMpyJ7vyRUR4tOtoG/D4tvLTVwg7+xyUGYuYqAv2GM98xaVna/gPqnQBONYL8nxw/fisdjP6aNJyFYnn4/mWzeZmG3ij9xeUnvXXuTP3Z9YHOA85k/4/eFQ65VoD8gBH8gwr2jP+GvnpqYHKc/XgSiNI9Uqj/RpC7If0mtP/YOZvzD4q8/0Vrogq4IsT9l7VlRL+qxP64DO4y2m7I/336d9O4qsz8azDaiQauzP26xGszYMLQ/Q0g0htvPtD8YkazsUIe1P1AGhi3vCrY/dwqRigG9tT9FHAk5kQ60P1pFA6GKVbE/B+o+R37ZrD932gvmXkmnP5v4uY1FVKE/\",\"dtype\":\"float64\",\"shape\":[75]},\"y\":{\"__ndarray__\":\"GhExyth1ND/Sv8nbtpRIP2vylNV0PVE/aTum7souWD/At0SJ8fVgPw3Iuahxymc/MSNhhJWvcD/bTfBN02d3P2zb5nxnaoA/CD5h5MAGhz8NmeH1TyaQP+zrCsc9p5Y/LbKd76fGnz/bLW5ISEmmPww9YvTcQq8/JV2OstnstT8Er5Y7M8G+P0c+r3jqkcU/5h99k6ZBzj88bCIzFzjVP4enV8oyxN0//yH99nXg5D8qOpLLf0jtP5kqGJXUifQ/c9cS8kHP/D+/DpwzojQEQIEmwoanVwxA4lgXt9HgE0BSSZ2AJuIbQAMJih9jjiNA5q4l5INuK0AwTKYKRj0zQNv5fmq8/DpAaCJseHrtQkB/+zpwzoxKQM3MzMzMeFJAZmZmZmZqWEAAAAAAAFxeQM3MzMzMJmJAmpmZmZkfZUBmZmZmZhhoQDMzMzMzEWtAAAAAAAAKbkBmZmZmZoFwQM3MzMzM/XFAMzMzMzN6c0CamZmZmfZ0QAAAAAAAc3ZAZmZmZmbvd0DNzMzMzGt5QDMzMzMz6HpAmpmZmZlkfEAAAAAAAOF9QGZmZmZmXX9AZmZmZuZsgECamZmZGSuBQM3MzMxM6YFAAAAAAICngkAzMzMzs2WDQGZmZmbmI4RAmpmZmRnihEDNzMzMTKCFQAAAAACAXoZAMzMzM7Mch0BmZmZm5tqHQJqZmZkZmYhAzczMzExXiUAAAAAAgBWKQDMzMzOz04pAZmZmZuaRi0CamZmZGVCMQM3MzMxMDo1AAAAAAIDMjUAzMzMzs4qOQGZmZmbmSI9A\",\"dtype\":\"float64\",\"shape\":[75]}},\"selected\":{\"id\":\"82691e8e-4cc0-4c5e-8b15-4a51ee6b7f5c\",\"type\":\"Selection\"},\"selection_policy\":{\"id\":\"258def4a-c765-42b5-9709-0741fdc4a91b\",\"type\":\"UnionRenderers\"}},\"id\":\"35d2d861-aeb6-4c61-bf0f-16ec523437e3\",\"type\":\"ColumnDataSource\"},{\"attributes\":{\"line_alpha\":0.6,\"line_color\":\"#e41a1c\",\"line_dash\":[6],\"line_width\":5,\"x\":{\"field\":\"x\"},\"y\":{\"field\":\"y\"}},\"id\":\"f7010006-467e-44ac-9f46-b29fcec87b3f\",\"type\":\"Line\"},{\"attributes\":{\"plot\":{\"id\":\"1d926ccc-0270-47d2-a5c2-490d4f862b13\",\"subtype\":\"Figure\",\"type\":\"Plot\"},\"ticker\":{\"id\":\"c681874f-4cf1-4f87-87ed-6e83deedeba6\",\"type\":\"BasicTicker\"}},\"id\":\"0950b0d8-2310-49ad-8f66-3ad01811c4ae\",\"type\":\"Grid\"},{\"attributes\":{\"callback\":null,\"end\":0.0870690242,\"start\":-0.0113283562},\"id\":\"76715b83-44ad-4461-a8f5-c3a521d04ac3\",\"type\":\"Range1d\"},{\"attributes\":{\"line_alpha\":0.6,\"line_color\":\"#984ea3\",\"line_width\":3,\"x\":{\"field\":\"x\"},\"y\":{\"field\":\"y\"}},\"id\":\"b9354680-71a1-4aaf-9116-7f35f42b76f5\",\"type\":\"Line\"},{\"attributes\":{\"line_alpha\":0.1,\"line_color\":\"#1f77b4\",\"line_width\":1.5,\"x\":{\"field\":\"x\"},\"y\":{\"field\":\"y\"}},\"id\":\"a2e9b2c2-3e18-47bf-9931-d07ce949e7cc\",\"type\":\"Line\"},{\"attributes\":{\"axis_label\":\"cooling rate [K/day]\",\"formatter\":{\"id\":\"1a6fcd03-62cd-450b-960a-6f7dcb9dcc49\",\"type\":\"BasicTickFormatter\"},\"plot\":{\"id\":\"23ecf829-5c1d-49a2-b304-389e0fd17d19\",\"subtype\":\"Figure\",\"type\":\"Plot\"},\"ticker\":{\"id\":\"105f419d-46f2-4639-b50a-98670245ee31\",\"type\":\"BasicTicker\"}},\"id\":\"b732c29d-ef27-48dd-9bfa-0fc6cccd0462\",\"type\":\"LinearAxis\"},{\"attributes\":{\"callback\":null,\"data\":{\"x\":{\"__ndarray__\":\"gitZrlVpQr8fzoNqVuo9PySt/q3A7mU/5TjAn2QqdT9AyGHQwzmAP01ki0kkdoY/HoxhGd5WjT/zqy/OvHWSP3RiI9FKqJY/V/Y0kso1mz9lM035jBugP2SlWwyk36I/Oy0XqMfhpT/ZkxEuHLyoPxBpZQy9D6s/myI8sbkwrT/pcw7OQmOvP9mX9S0217A/tPo0OFsKsj+BzeN3bUuzPwy95NA5d7Q/lwBuqZJnsz8VrlYMqE6vPzZpUr4reKc/AuhnUlkAoT8rS/2Ht3iXP20MwFpDFo4/kPw2hctqgj8zrANTlnB3P26ecTivRW0/IHKyySxGXj9AC3xQwzA+P5a48juB4RS/rzfPfT2mHj/BvjzDv1osP2cl//9c/eo+Mv9w3aZKQL9F0oRrgihXv7CtT9zZrmO/CowmbIcTbL99kqEFTXRyv6F7S0PRX3e/92bmzRK5fL+IXEutIFKBv3UHTgnKZYS/RwbkC405hb9i7CCRH/qBvwJOV31TtHi/JnDH8UXvY7/IaEPT0MVhP9B4fGVgUH4/vN/YG8unij8Pl16THE2TP/FDF2cbnpk/3sq8nKwtoD9DhKiQZaCjP+yrLIPK9aY/HMOtzKUCqj+FGiWyhsCsP55HRoAzLq8/wZ5qhc2msD/qCQ7Zh4+xP2Yvc2vmUbI/cWva3tHzsj+CcFGiL4GzP/jQa9d3CrQ/sspA9l6itD8BPPDR5US1PzVAzNIMsbU/oeW9jXRWtT+rwiJjDrKzP9+DFJKFFbE/C2LQpHWdrD+Ey4MkTk+nP8SDpTsBraE/\",\"dtype\":\"float64\",\"shape\":[75]},\"y\":{\"__ndarray__\":\"GhExyth1ND/Sv8nbtpRIP2vylNV0PVE/aTum7souWD/At0SJ8fVgPw3Iuahxymc/MSNhhJWvcD/bTfBN02d3P2zb5nxnaoA/CD5h5MAGhz8NmeH1TyaQP+zrCsc9p5Y/LbKd76fGnz/bLW5ISEmmPww9YvTcQq8/JV2OstnstT8Er5Y7M8G+P0c+r3jqkcU/5h99k6ZBzj88bCIzFzjVP4enV8oyxN0//yH99nXg5D8qOpLLf0jtP5kqGJXUifQ/c9cS8kHP/D+/DpwzojQEQIEmwoanVwxA4lgXt9HgE0BSSZ2AJuIbQAMJih9jjiNA5q4l5INuK0AwTKYKRj0zQNv5fmq8/DpAaCJseHrtQkB/+zpwzoxKQM3MzMzMeFJAZmZmZmZqWEAAAAAAAFxeQM3MzMzMJmJAmpmZmZkfZUBmZmZmZhhoQDMzMzMzEWtAAAAAAAAKbkBmZmZmZoFwQM3MzMzM/XFAMzMzMzN6c0CamZmZmfZ0QAAAAAAAc3ZAZmZmZmbvd0DNzMzMzGt5QDMzMzMz6HpAmpmZmZlkfEAAAAAAAOF9QGZmZmZmXX9AZmZmZuZsgECamZmZGSuBQM3MzMxM6YFAAAAAAICngkAzMzMzs2WDQGZmZmbmI4RAmpmZmRnihEDNzMzMTKCFQAAAAACAXoZAMzMzM7Mch0BmZmZm5tqHQJqZmZkZmYhAzczMzExXiUAAAAAAgBWKQDMzMzOz04pAZmZmZuaRi0CamZmZGVCMQM3MzMxMDo1AAAAAAIDMjUAzMzMzs4qOQGZmZmbmSI9A\",\"dtype\":\"float64\",\"shape\":[75]}},\"selected\":{\"id\":\"85b77421-821e-433a-87fb-04d47b929802\",\"type\":\"Selection\"},\"selection_policy\":{\"id\":\"40a2c194-d3a6-483b-baf5-2f730ff3eca8\",\"type\":\"UnionRenderers\"}},\"id\":\"ca303662-3b25-4dff-9ae6-b07749f5ca07\",\"type\":\"ColumnDataSource\"},{\"attributes\":{\"callback\":null,\"data\":{\"x\":{\"__ndarray__\":\"aNPUXLUFkr8/KBOq4F+Qv2OMdZXhhIm/0/M2y+htgb/L6TquMP9wvwCU4nTOjEU/45SJdxFBeD83u0avLO+HPx4EgthQbJI/dJkyIfp2mT8sUaKX5I+gP/mPGk0NuKQ/C40EcyQyqT/uePvCF2WtP3H9avdzVrA/p11WpVC9sT9J7lAXoCKzP+bGZNnihrQ/z2k3dmDrtT+WzbSu5Va3P4wtl5z5prg/lfOS7eajtj/6LwPaxdCwPyrtW02haqY/hbDlWIhVnD8oKNiOyMiQP3pVizIZGoI/1Sjwggvocz/QhdDCF4ZtP8ktuGZ8LWk/RLEwGxhNYz824CtuZ1VXPxJ/VEdu1FE/xb48G/TQVz90dtnIIZ1bP3r9mHmj9Fs/I2jK2p91WD/NdBk286VJP0eNqdT3dxu/jChh9g86Ub9bYGd4p0phv6znsv2VoWu/SMyVhRvec7+VkmzMpyJ7vyRUR4tOtoG/D4tvLTVwg7+xyUGYuYqAv2GM98xaVna/gPqnQBONYL8nxw/fisdjP6aNJyFYnn4/mWzeZmG3ij9xeUnvXXuTP3Z9YHOA85k/4/eFQ65VoD8gBH8gwr2jP+GvnpqYHKc/XgSiNI9Uqj/RpC7If0mtP/YOZvzD4q8/0Vrogq4IsT9l7VlRL+qxP64DO4y2m7I/336d9O4qsz8azDaiQauzP26xGszYMLQ/Q0g0htvPtD8YkazsUIe1P1AGhi3vCrY/dwqRigG9tT9FHAk5kQ60P1pFA6GKVbE/B+o+R37ZrD932gvmXkmnP5v4uY1FVKE/\",\"dtype\":\"float64\",\"shape\":[75]},\"y\":{\"__ndarray__\":\"GhExyth1ND/Sv8nbtpRIP2vylNV0PVE/aTum7souWD/At0SJ8fVgPw3Iuahxymc/MSNhhJWvcD/bTfBN02d3P2zb5nxnaoA/CD5h5MAGhz8NmeH1TyaQP+zrCsc9p5Y/LbKd76fGnz/bLW5ISEmmPww9YvTcQq8/JV2OstnstT8Er5Y7M8G+P0c+r3jqkcU/5h99k6ZBzj88bCIzFzjVP4enV8oyxN0//yH99nXg5D8qOpLLf0jtP5kqGJXUifQ/c9cS8kHP/D+/DpwzojQEQIEmwoanVwxA4lgXt9HgE0BSSZ2AJuIbQAMJih9jjiNA5q4l5INuK0AwTKYKRj0zQNv5fmq8/DpAaCJseHrtQkB/+zpwzoxKQM3MzMzMeFJAZmZmZmZqWEAAAAAAAFxeQM3MzMzMJmJAmpmZmZkfZUBmZmZmZhhoQDMzMzMzEWtAAAAAAAAKbkBmZmZmZoFwQM3MzMzM/XFAMzMzMzN6c0CamZmZmfZ0QAAAAAAAc3ZAZmZmZmbvd0DNzMzMzGt5QDMzMzMz6HpAmpmZmZlkfEAAAAAAAOF9QGZmZmZmXX9AZmZmZuZsgECamZmZGSuBQM3MzMxM6YFAAAAAAICngkAzMzMzs2WDQGZmZmbmI4RAmpmZmRnihEDNzMzMTKCFQAAAAACAXoZAMzMzM7Mch0BmZmZm5tqHQJqZmZkZmYhAzczMzExXiUAAAAAAgBWKQDMzMzOz04pAZmZmZuaRi0CamZmZGVCMQM3MzMxMDo1AAAAAAIDMjUAzMzMzs4qOQGZmZmbmSI9A\",\"dtype\":\"float64\",\"shape\":[75]}},\"selected\":{\"id\":\"645a5c31-8bd5-4f98-9882-4395213291a9\",\"type\":\"Selection\"},\"selection_policy\":{\"id\":\"60e546e7-2f0b-4126-8c9b-6b849bbba4c7\",\"type\":\"UnionRenderers\"}},\"id\":\"912f466e-a320-4e4d-9729-2b3ef8eb08d5\",\"type\":\"ColumnDataSource\"},{\"attributes\":{\"source\":{\"id\":\"24038cb7-d9a9-41b3-83ad-b56dba3a2270\",\"type\":\"ColumnDataSource\"}},\"id\":\"fe25d4f4-e4f7-49b2-ab29-f6323c42c970\",\"type\":\"CDSView\"},{\"attributes\":{},\"id\":\"c681874f-4cf1-4f87-87ed-6e83deedeba6\",\"type\":\"BasicTicker\"},{\"attributes\":{\"data_source\":{\"id\":\"778aa6d8-d056-4dac-8bc2-eef4dde0dee1\",\"type\":\"ColumnDataSource\"},\"glyph\":{\"id\":\"f7010006-467e-44ac-9f46-b29fcec87b3f\",\"type\":\"Line\"},\"hover_glyph\":null,\"muted_glyph\":null,\"nonselection_glyph\":{\"id\":\"44788242-c171-466e-a4dc-ed62fd7c3cb9\",\"type\":\"Line\"},\"selection_glyph\":null,\"view\":{\"id\":\"d539f574-76bf-4e37-a35e-487bbee349ae\",\"type\":\"CDSView\"}},\"id\":\"5a7faa17-0138-46e8-8777-1c1e71d80b9d\",\"type\":\"GlyphRenderer\"},{\"attributes\":{\"source\":{\"id\":\"d981943d-82d4-45cb-af52-0cf3e2d28dcf\",\"type\":\"ColumnDataSource\"}},\"id\":\"59643fb2-ba2a-4587-b748-dfd77122a70e\",\"type\":\"CDSView\"},{\"attributes\":{},\"id\":\"bfc1e21d-f89f-4d2d-9122-3fb4e89d1472\",\"type\":\"PanTool\"},{\"attributes\":{\"fill_alpha\":{\"value\":0.7},\"fill_color\":{\"value\":\"#984ea3\"},\"line_alpha\":{\"value\":0.7},\"line_color\":{\"value\":\"#984ea3\"},\"x\":{\"field\":\"x\"},\"y\":{\"field\":\"y\"}},\"id\":\"13064cbf-dbdc-45bb-aa6b-ef84223eec7a\",\"type\":\"Square\"},{\"attributes\":{},\"id\":\"e17f295b-4726-4625-be6f-8a5f4c841979\",\"type\":\"ResetTool\"},{\"attributes\":{},\"id\":\"4876db0b-17d4-419e-9ad4-9b55ebf1828c\",\"type\":\"WheelZoomTool\"},{\"attributes\":{\"below\":[{\"id\":\"d8d64563-56d5-4606-87e0-c5b31cd9e0d7\",\"type\":\"LinearAxis\"}],\"left\":[{\"id\":\"9be8ef65-c2f5-4982-8d93-8806a7c8eb3d\",\"type\":\"LogAxis\"}],\"plot_height\":500,\"plot_width\":560,\"renderers\":[{\"id\":\"d8d64563-56d5-4606-87e0-c5b31cd9e0d7\",\"type\":\"LinearAxis\"},{\"id\":\"0950b0d8-2310-49ad-8f66-3ad01811c4ae\",\"type\":\"Grid\"},{\"id\":\"9be8ef65-c2f5-4982-8d93-8806a7c8eb3d\",\"type\":\"LogAxis\"},{\"id\":\"1ed95a79-d6d1-42f3-a59f-bb86a7feaa5b\",\"type\":\"Grid\"},{\"id\":\"4283c8e0-437b-4df2-895d-9b69a8260ba1\",\"type\":\"BoxAnnotation\"},{\"id\":\"5a7faa17-0138-46e8-8777-1c1e71d80b9d\",\"type\":\"GlyphRenderer\"},{\"id\":\"b8c1b00e-ee94-4e9f-bd75-95a2b1724292\",\"type\":\"GlyphRenderer\"},{\"id\":\"34152c63-19db-4e93-a47c-82cb0960bb27\",\"type\":\"GlyphRenderer\"},{\"id\":\"e7c02063-80d2-4324-b195-889c1e3d5f3a\",\"type\":\"GlyphRenderer\"},{\"id\":\"e1b0561f-e638-42da-b434-6d3ed24b83bf\",\"type\":\"GlyphRenderer\"},{\"id\":\"2a35af82-2006-432b-aee5-b70595a7b39d\",\"type\":\"Legend\"}],\"right\":[{\"id\":\"2a35af82-2006-432b-aee5-b70595a7b39d\",\"type\":\"Legend\"}],\"title\":{\"id\":\"8aa94357-39ff-4a36-a704-5f704dbbcf5c\",\"type\":\"Title\"},\"toolbar\":{\"id\":\"9764062a-a82b-4dd5-957c-9fafa7009a19\",\"type\":\"Toolbar\"},\"toolbar_location\":null,\"x_range\":{\"id\":\"e588e066-596a-47c9-b729-8e3a1b0324d8\",\"type\":\"Range1d\"},\"x_scale\":{\"id\":\"3b37b43f-860f-4a4a-ac99-3508c7e46971\",\"type\":\"LinearScale\"},\"y_range\":{\"id\":\"d34cbd36-ec67-47de-9351-eec358542e37\",\"type\":\"Range1d\"},\"y_scale\":{\"id\":\"5f87cada-c249-4eb1-b9ee-ecf75fc80884\",\"type\":\"LogScale\"}},\"id\":\"1d926ccc-0270-47d2-a5c2-490d4f862b13\",\"subtype\":\"Figure\",\"type\":\"Plot\"},{\"attributes\":{\"bottom_units\":\"screen\",\"fill_alpha\":{\"value\":0.5},\"fill_color\":{\"value\":\"lightgrey\"},\"left_units\":\"screen\",\"level\":\"overlay\",\"line_alpha\":{\"value\":1.0},\"line_color\":{\"value\":\"black\"},\"line_dash\":[4,4],\"line_width\":{\"value\":2},\"plot\":null,\"render_mode\":\"css\",\"right_units\":\"screen\",\"top_units\":\"screen\"},\"id\":\"09e57679-c0f9-4b5a-88b8-c247aa629a9e\",\"type\":\"BoxAnnotation\"},{\"attributes\":{\"plot\":null,\"text\":\"Linear pressure scale\"},\"id\":\"835ec8b7-75e0-4931-a058-48de77ae0a90\",\"type\":\"Title\"},{\"attributes\":{\"callback\":null,\"end\":0.01,\"start\":1020},\"id\":\"6b7b17b3-53e9-4d43-bd0d-5eb6e78d3391\",\"type\":\"Range1d\"},{\"attributes\":{\"source\":{\"id\":\"dc818b9b-f3b3-42e3-8f28-779901599256\",\"type\":\"ColumnDataSource\"}},\"id\":\"590be608-8146-4f69-a1dd-f06603135c99\",\"type\":\"CDSView\"},{\"attributes\":{\"overlay\":{\"id\":\"09e57679-c0f9-4b5a-88b8-c247aa629a9e\",\"type\":\"BoxAnnotation\"}},\"id\":\"393450d1-8dc4-42ed-89e8-78735aa671d1\",\"type\":\"BoxZoomTool\"},{\"attributes\":{\"dimension\":1,\"plot\":{\"id\":\"23ecf829-5c1d-49a2-b304-389e0fd17d19\",\"subtype\":\"Figure\",\"type\":\"Plot\"},\"ticker\":{\"id\":\"6c9729af-632e-4ae1-b393-d904495c9fec\",\"type\":\"BasicTicker\"}},\"id\":\"d1b74e36-754a-40e3-9bd6-727f4ebc2786\",\"type\":\"Grid\"},{\"attributes\":{\"line_alpha\":0.1,\"line_color\":\"#1f77b4\",\"line_dash\":[6],\"line_width\":5,\"x\":{\"field\":\"x\"},\"y\":{\"field\":\"y\"}},\"id\":\"f46284a5-e040-49db-b987-d52667e58c8d\",\"type\":\"Line\"},{\"attributes\":{\"callback\":null,\"data\":{\"x\":{\"__ndarray__\":\"gitZrlVpQr8fzoNqVuo9PySt/q3A7mU/5TjAn2QqdT9AyGHQwzmAP01ki0kkdoY/HoxhGd5WjT/zqy/OvHWSP3RiI9FKqJY/V/Y0kso1mz9lM035jBugP2SlWwyk36I/Oy0XqMfhpT/ZkxEuHLyoPxBpZQy9D6s/myI8sbkwrT/pcw7OQmOvP9mX9S0217A/tPo0OFsKsj+BzeN3bUuzPwy95NA5d7Q/lwBuqZJnsz8VrlYMqE6vPzZpUr4reKc/AuhnUlkAoT8rS/2Ht3iXP20MwFpDFo4/kPw2hctqgj8zrANTlnB3P26ecTivRW0/IHKyySxGXj9AC3xQwzA+P5a48juB4RS/rzfPfT2mHj/BvjzDv1osP2cl//9c/eo+Mv9w3aZKQL9F0oRrgihXv7CtT9zZrmO/CowmbIcTbL99kqEFTXRyv6F7S0PRX3e/92bmzRK5fL+IXEutIFKBv3UHTgnKZYS/RwbkC405hb9i7CCRH/qBvwJOV31TtHi/JnDH8UXvY7/IaEPT0MVhP9B4fGVgUH4/vN/YG8unij8Pl16THE2TP/FDF2cbnpk/3sq8nKwtoD9DhKiQZaCjP+yrLIPK9aY/HMOtzKUCqj+FGiWyhsCsP55HRoAzLq8/wZ5qhc2msD/qCQ7Zh4+xP2Yvc2vmUbI/cWva3tHzsj+CcFGiL4GzP/jQa9d3CrQ/sspA9l6itD8BPPDR5US1PzVAzNIMsbU/oeW9jXRWtT+rwiJjDrKzP9+DFJKFFbE/C2LQpHWdrD+Ey4MkTk+nP8SDpTsBraE/\",\"dtype\":\"float64\",\"shape\":[75]},\"y\":{\"__ndarray__\":\"GhExyth1ND/Sv8nbtpRIP2vylNV0PVE/aTum7souWD/At0SJ8fVgPw3Iuahxymc/MSNhhJWvcD/bTfBN02d3P2zb5nxnaoA/CD5h5MAGhz8NmeH1TyaQP+zrCsc9p5Y/LbKd76fGnz/bLW5ISEmmPww9YvTcQq8/JV2OstnstT8Er5Y7M8G+P0c+r3jqkcU/5h99k6ZBzj88bCIzFzjVP4enV8oyxN0//yH99nXg5D8qOpLLf0jtP5kqGJXUifQ/c9cS8kHP/D+/DpwzojQEQIEmwoanVwxA4lgXt9HgE0BSSZ2AJuIbQAMJih9jjiNA5q4l5INuK0AwTKYKRj0zQNv5fmq8/DpAaCJseHrtQkB/+zpwzoxKQM3MzMzMeFJAZmZmZmZqWEAAAAAAAFxeQM3MzMzMJmJAmpmZmZkfZUBmZmZmZhhoQDMzMzMzEWtAAAAAAAAKbkBmZmZmZoFwQM3MzMzM/XFAMzMzMzN6c0CamZmZmfZ0QAAAAAAAc3ZAZmZmZmbvd0DNzMzMzGt5QDMzMzMz6HpAmpmZmZlkfEAAAAAAAOF9QGZmZmZmXX9AZmZmZuZsgECamZmZGSuBQM3MzMxM6YFAAAAAAICngkAzMzMzs2WDQGZmZmbmI4RAmpmZmRnihEDNzMzMTKCFQAAAAACAXoZAMzMzM7Mch0BmZmZm5tqHQJqZmZkZmYhAzczMzExXiUAAAAAAgBWKQDMzMzOz04pAZmZmZuaRi0CamZmZGVCMQM3MzMxMDo1AAAAAAIDMjUAzMzMzs4qOQGZmZmbmSI9A\",\"dtype\":\"float64\",\"shape\":[75]}},\"selected\":{\"id\":\"b8e9d3c8-3ae4-42cc-8468-642afb604262\",\"type\":\"Selection\"},\"selection_policy\":{\"id\":\"47815e41-c6da-43ee-a555-3eabd6550965\",\"type\":\"UnionRenderers\"}},\"id\":\"8ae02f80-fa23-4b67-bf85-748eae9da829\",\"type\":\"ColumnDataSource\"},{\"attributes\":{\"callback\":null,\"data\":{\"x\":{\"__ndarray__\":\"gitZrlVpQr8fzoNqVuo9PySt/q3A7mU/5TjAn2QqdT9AyGHQwzmAP01ki0kkdoY/HoxhGd5WjT/zqy/OvHWSP3RiI9FKqJY/V/Y0kso1mz9lM035jBugP2SlWwyk36I/Oy0XqMfhpT/ZkxEuHLyoPxBpZQy9D6s/myI8sbkwrT/pcw7OQmOvP9mX9S0217A/tPo0OFsKsj+BzeN3bUuzPwy95NA5d7Q/lwBuqZJnsz8VrlYMqE6vPzZpUr4reKc/AuhnUlkAoT8rS/2Ht3iXP20MwFpDFo4/kPw2hctqgj8zrANTlnB3P26ecTivRW0/IHKyySxGXj9AC3xQwzA+P5a48juB4RS/rzfPfT2mHj/BvjzDv1osP2cl//9c/eo+Mv9w3aZKQL9F0oRrgihXv7CtT9zZrmO/CowmbIcTbL99kqEFTXRyv6F7S0PRX3e/92bmzRK5fL+IXEutIFKBv3UHTgnKZYS/RwbkC405hb9i7CCRH/qBvwJOV31TtHi/JnDH8UXvY7/IaEPT0MVhP9B4fGVgUH4/vN/YG8unij8Pl16THE2TP/FDF2cbnpk/3sq8nKwtoD9DhKiQZaCjP+yrLIPK9aY/HMOtzKUCqj+FGiWyhsCsP55HRoAzLq8/wZ5qhc2msD/qCQ7Zh4+xP2Yvc2vmUbI/cWva3tHzsj+CcFGiL4GzP/jQa9d3CrQ/sspA9l6itD8BPPDR5US1PzVAzNIMsbU/oeW9jXRWtT+rwiJjDrKzP9+DFJKFFbE/C2LQpHWdrD+Ey4MkTk+nP8SDpTsBraE/\",\"dtype\":\"float64\",\"shape\":[75]},\"y\":{\"__ndarray__\":\"GhExyth1ND/Sv8nbtpRIP2vylNV0PVE/aTum7souWD/At0SJ8fVgPw3Iuahxymc/MSNhhJWvcD/bTfBN02d3P2zb5nxnaoA/CD5h5MAGhz8NmeH1TyaQP+zrCsc9p5Y/LbKd76fGnz/bLW5ISEmmPww9YvTcQq8/JV2OstnstT8Er5Y7M8G+P0c+r3jqkcU/5h99k6ZBzj88bCIzFzjVP4enV8oyxN0//yH99nXg5D8qOpLLf0jtP5kqGJXUifQ/c9cS8kHP/D+/DpwzojQEQIEmwoanVwxA4lgXt9HgE0BSSZ2AJuIbQAMJih9jjiNA5q4l5INuK0AwTKYKRj0zQNv5fmq8/DpAaCJseHrtQkB/+zpwzoxKQM3MzMzMeFJAZmZmZmZqWEAAAAAAAFxeQM3MzMzMJmJAmpmZmZkfZUBmZmZmZhhoQDMzMzMzEWtAAAAAAAAKbkBmZmZmZoFwQM3MzMzM/XFAMzMzMzN6c0CamZmZmfZ0QAAAAAAAc3ZAZmZmZmbvd0DNzMzMzGt5QDMzMzMz6HpAmpmZmZlkfEAAAAAAAOF9QGZmZmZmXX9AZmZmZuZsgECamZmZGSuBQM3MzMxM6YFAAAAAAICngkAzMzMzs2WDQGZmZmbmI4RAmpmZmRnihEDNzMzMTKCFQAAAAACAXoZAMzMzM7Mch0BmZmZm5tqHQJqZmZkZmYhAzczMzExXiUAAAAAAgBWKQDMzMzOz04pAZmZmZuaRi0CamZmZGVCMQM3MzMxMDo1AAAAAAIDMjUAzMzMzs4qOQGZmZmbmSI9A\",\"dtype\":\"float64\",\"shape\":[75]}},\"selected\":{\"id\":\"dae2ca49-361f-4b8c-9a21-771fd660e34c\",\"type\":\"Selection\"},\"selection_policy\":{\"id\":\"d8e30abf-45ea-4537-b3c1-9a152ec0b4f7\",\"type\":\"UnionRenderers\"}},\"id\":\"7ae95c3a-7530-46c5-bc10-4d46184d47cf\",\"type\":\"ColumnDataSource\"},{\"attributes\":{\"line_color\":\"#4daf4a\",\"line_width\":1.5,\"x\":{\"field\":\"x\"},\"y\":{\"field\":\"y\"}},\"id\":\"5ca7bed1-d35e-4e27-b213-c9970ff48ac5\",\"type\":\"Line\"},{\"attributes\":{\"source\":{\"id\":\"778aa6d8-d056-4dac-8bc2-eef4dde0dee1\",\"type\":\"ColumnDataSource\"}},\"id\":\"d539f574-76bf-4e37-a35e-487bbee349ae\",\"type\":\"CDSView\"},{\"attributes\":{\"data_source\":{\"id\":\"7ae95c3a-7530-46c5-bc10-4d46184d47cf\",\"type\":\"ColumnDataSource\"},\"glyph\":{\"id\":\"13064cbf-dbdc-45bb-aa6b-ef84223eec7a\",\"type\":\"Square\"},\"hover_glyph\":null,\"muted_glyph\":null,\"nonselection_glyph\":{\"id\":\"b3c8afed-2125-4e16-b27b-d8d3c112daea\",\"type\":\"Square\"},\"selection_glyph\":null,\"view\":{\"id\":\"2e88ba50-95bc-486f-8b3a-cc4db9b5d4f0\",\"type\":\"CDSView\"}},\"id\":\"ee78fc3c-8669-437d-9d56-217e8cdf65d2\",\"type\":\"GlyphRenderer\"},{\"attributes\":{},\"id\":\"3067095b-65ba-42ec-9705-6f7c6ab3353e\",\"type\":\"LinearScale\"},{\"attributes\":{\"callback\":null,\"data\":{\"x\":{\"__ndarray__\":\"aNPUXLUFkr8/KBOq4F+Qv2OMdZXhhIm/0/M2y+htgb/L6TquMP9wvwCU4nTOjEU/45SJdxFBeD83u0avLO+HPx4EgthQbJI/dJkyIfp2mT8sUaKX5I+gP/mPGk0NuKQ/C40EcyQyqT/uePvCF2WtP3H9avdzVrA/p11WpVC9sT9J7lAXoCKzP+bGZNnihrQ/z2k3dmDrtT+WzbSu5Va3P4wtl5z5prg/lfOS7eajtj/6LwPaxdCwPyrtW02haqY/hbDlWIhVnD8oKNiOyMiQP3pVizIZGoI/1Sjwggvocz/QhdDCF4ZtP8ktuGZ8LWk/RLEwGxhNYz824CtuZ1VXPxJ/VEdu1FE/xb48G/TQVz90dtnIIZ1bP3r9mHmj9Fs/I2jK2p91WD/NdBk286VJP0eNqdT3dxu/jChh9g86Ub9bYGd4p0phv6znsv2VoWu/SMyVhRvec7+VkmzMpyJ7vyRUR4tOtoG/D4tvLTVwg7+xyUGYuYqAv2GM98xaVna/gPqnQBONYL8nxw/fisdjP6aNJyFYnn4/mWzeZmG3ij9xeUnvXXuTP3Z9YHOA85k/4/eFQ65VoD8gBH8gwr2jP+GvnpqYHKc/XgSiNI9Uqj/RpC7If0mtP/YOZvzD4q8/0Vrogq4IsT9l7VlRL+qxP64DO4y2m7I/336d9O4qsz8azDaiQauzP26xGszYMLQ/Q0g0htvPtD8YkazsUIe1P1AGhi3vCrY/dwqRigG9tT9FHAk5kQ60P1pFA6GKVbE/B+o+R37ZrD932gvmXkmnP5v4uY1FVKE/\",\"dtype\":\"float64\",\"shape\":[75]},\"y\":{\"__ndarray__\":\"GhExyth1ND/Sv8nbtpRIP2vylNV0PVE/aTum7souWD/At0SJ8fVgPw3Iuahxymc/MSNhhJWvcD/bTfBN02d3P2zb5nxnaoA/CD5h5MAGhz8NmeH1TyaQP+zrCsc9p5Y/LbKd76fGnz/bLW5ISEmmPww9YvTcQq8/JV2OstnstT8Er5Y7M8G+P0c+r3jqkcU/5h99k6ZBzj88bCIzFzjVP4enV8oyxN0//yH99nXg5D8qOpLLf0jtP5kqGJXUifQ/c9cS8kHP/D+/DpwzojQEQIEmwoanVwxA4lgXt9HgE0BSSZ2AJuIbQAMJih9jjiNA5q4l5INuK0AwTKYKRj0zQNv5fmq8/DpAaCJseHrtQkB/+zpwzoxKQM3MzMzMeFJAZmZmZmZqWEAAAAAAAFxeQM3MzMzMJmJAmpmZmZkfZUBmZmZmZhhoQDMzMzMzEWtAAAAAAAAKbkBmZmZmZoFwQM3MzMzM/XFAMzMzMzN6c0CamZmZmfZ0QAAAAAAAc3ZAZmZmZmbvd0DNzMzMzGt5QDMzMzMz6HpAmpmZmZlkfEAAAAAAAOF9QGZmZmZmXX9AZmZmZuZsgECamZmZGSuBQM3MzMxM6YFAAAAAAICngkAzMzMzs2WDQGZmZmbmI4RAmpmZmRnihEDNzMzMTKCFQAAAAACAXoZAMzMzM7Mch0BmZmZm5tqHQJqZmZkZmYhAzczMzExXiUAAAAAAgBWKQDMzMzOz04pAZmZmZuaRi0CamZmZGVCMQM3MzMxMDo1AAAAAAIDMjUAzMzMzs4qOQGZmZmbmSI9A\",\"dtype\":\"float64\",\"shape\":[75]}},\"selected\":{\"id\":\"2be11567-9272-472b-8228-8f0a8a0a8b5d\",\"type\":\"Selection\"},\"selection_policy\":{\"id\":\"4303d524-e906-4054-8cf5-7ce268635711\",\"type\":\"UnionRenderers\"}},\"id\":\"24038cb7-d9a9-41b3-83ad-b56dba3a2270\",\"type\":\"ColumnDataSource\"},{\"attributes\":{\"callback\":null,\"data\":{\"x\":{\"__ndarray__\":\"OlHJO7KyYD9fGUCldjlnPyex+pMXoXQ/BtNa13v4fT/CHYz+7iKEPzdMQXLD04k/pjS+1nUNkD+j1Ln9TYOTP5myJw94UZc/hHad+RSBmz9qpvdkMAygP6SAjDc0kKI/A7ryA55OpT9fhMtYpPGnPypVD4lcH6o/+1YZ/dAbrD/eqp/CBzKuP25j3KIGMrA/yR/KHyVZsT82WHplxY2yP1kEZIevsbM/AuDG0CvKsj8L4ttyMMauP0OfcdyHjqc/eM3j5Al6oT+m72U93cKYP1arRBMHVJA/SFFMvhdvhD+2dB9UL6V5P1gW8B26Om4/xGEGtozMWj/29eJ/++QTPxY5DDI+1kC/fw4yk2hFNL8w/cJ2yEsov94IH571GTm/5JebsJpQTr/VpY4rOLdevy1FxF1Vp2e/tOTd0BUecL86A7RI8pd0v+Rt2+5bcXm/tU0a77p6fr8PMLa64+eBv4OS2YsukIS/FDwqozYWhb8VFVrnctuBv3jAqm494Hi/Rl+Yv4+ZZb+f3Tc8UZJdP/TrfkLzgXw/06oX9algiT/mxAr24GeSP5Zb8ikUqpg/F88fIWqlnz8IbL+WBmejPw+4jYoou6Y/oY6/mwuvqT9PRr0pqlOsP7E58DIP1a4/vjZQHQGVsD8qCI18OKqxP39gKfPYlLI/NFgnHZtTsz/qzD0kfO+zPzpvQKQPeLQ/fChpr1ICtT8vKYjLO5i1P2Tr3F4Z7rU/rLHumdGBtT+mJ/y3atWzP52D8DPxOLE/n3CzzrHprD9QfFzr8K+nP71gd4cCIKI/\",\"dtype\":\"float64\",\"shape\":[75]},\"y\":{\"__ndarray__\":\"S/O/Q+51ND/Sv8nbtpRIP2vylNV0PVE/aTum7souWD/At0SJ8fVgPw3Iuahxymc/MSNhhJWvcD/bTfBN02d3P2zb5nxnaoA/CD5h5MAGhz8NmeH1TyaQP+zrCsc9p5Y/LbKd76fGnz/bLW5ISEmmPww9YvTcQq8/JV2OstnstT8Er5Y7M8G+P0c+r3jqkcU/5h99k6ZBzj88bCIzFzjVP4enV8oyxN0//yH99nXg5D8qOpLLf0jtP5kqGJXUifQ/c9cS8kHP/D+/DpwzojQEQIEmwoanVwxA4lgXt9HgE0BSSZ2AJuIbQAMJih9jjiNA5q4l5INuK0AwTKYKRj0zQNv5fmq8/DpAaCJseHrtQkB/+zpwzoxKQM3MzMzMeFJAZmZmZmZqWEAAAAAAAFxeQM3MzMzMJmJAmpmZmZkfZUBmZmZmZhhoQDMzMzMzEWtAAAAAAAAKbkBmZmZmZoFwQM3MzMzM/XFAMzMzMzN6c0CamZmZmfZ0QAAAAAAAc3ZAZmZmZmbvd0DNzMzMzGt5QDMzMzMz6HpAmpmZmZlkfEAAAAAAAOF9QGZmZmZmXX9AZmZmZuZsgECamZmZGSuBQM3MzMxM6YFAAAAAAICngkAzMzMzs2WDQGZmZmbmI4RAmpmZmRnihEDNzMzMTKCFQAAAAACAXoZAMzMzM7Mch0BmZmZm5tqHQJqZmZkZmYhAzczMzExXiUAAAAAAgBWKQDMzMzOz04pAZmZmZuaRi0CamZmZGVCMQM3MzMxMDo1AAAAAAIDMjUAzMzMzs4qOQGZmZmbmSI9A\",\"dtype\":\"float64\",\"shape\":[75]}},\"selected\":{\"id\":\"348f3d0f-9fbf-4dcf-b77a-6fa61b4b56ef\",\"type\":\"Selection\"},\"selection_policy\":{\"id\":\"079578c9-fe2c-47ec-9ae7-429594facf20\",\"type\":\"UnionRenderers\"}},\"id\":\"778aa6d8-d056-4dac-8bc2-eef4dde0dee1\",\"type\":\"ColumnDataSource\"},{\"attributes\":{\"fill_alpha\":{\"value\":0.7},\"fill_color\":{\"value\":\"#4daf4a\"},\"line_alpha\":{\"value\":0.7},\"line_color\":{\"value\":\"#4daf4a\"},\"x\":{\"field\":\"x\"},\"y\":{\"field\":\"y\"}},\"id\":\"9c68143d-ae82-4955-9bf4-0db12e80c24f\",\"type\":\"Circle\"},{\"attributes\":{\"data_source\":{\"id\":\"d981943d-82d4-45cb-af52-0cf3e2d28dcf\",\"type\":\"ColumnDataSource\"},\"glyph\":{\"id\":\"72d22e20-f303-47b0-8f2b-d5ee1cbcf244\",\"type\":\"Square\"},\"hover_glyph\":null,\"muted_glyph\":null,\"nonselection_glyph\":{\"id\":\"d0e042bf-811b-4470-b456-69281af4dc1d\",\"type\":\"Square\"},\"selection_glyph\":null,\"view\":{\"id\":\"59643fb2-ba2a-4587-b748-dfd77122a70e\",\"type\":\"CDSView\"}},\"id\":\"e7c02063-80d2-4324-b195-889c1e3d5f3a\",\"type\":\"GlyphRenderer\"},{\"attributes\":{\"line_alpha\":0.6,\"line_color\":\"#984ea3\",\"line_width\":3,\"x\":{\"field\":\"x\"},\"y\":{\"field\":\"y\"}},\"id\":\"bc746cba-1e80-49af-9479-6d6100175fd8\",\"type\":\"Line\"},{\"attributes\":{\"plot\":{\"id\":\"23ecf829-5c1d-49a2-b304-389e0fd17d19\",\"subtype\":\"Figure\",\"type\":\"Plot\"},\"ticker\":{\"id\":\"105f419d-46f2-4639-b50a-98670245ee31\",\"type\":\"BasicTicker\"}},\"id\":\"2a9825e3-fdb4-4ff4-bb36-3b6d2b905c08\",\"type\":\"Grid\"},{\"attributes\":{\"below\":[{\"id\":\"b732c29d-ef27-48dd-9bfa-0fc6cccd0462\",\"type\":\"LinearAxis\"}],\"left\":[{\"id\":\"d3be079d-411b-4b59-9901-0e2a9e047bf6\",\"type\":\"LinearAxis\"}],\"plot_height\":500,\"plot_width\":400,\"renderers\":[{\"id\":\"b732c29d-ef27-48dd-9bfa-0fc6cccd0462\",\"type\":\"LinearAxis\"},{\"id\":\"2a9825e3-fdb4-4ff4-bb36-3b6d2b905c08\",\"type\":\"Grid\"},{\"id\":\"d3be079d-411b-4b59-9901-0e2a9e047bf6\",\"type\":\"LinearAxis\"},{\"id\":\"d1b74e36-754a-40e3-9bd6-727f4ebc2786\",\"type\":\"Grid\"},{\"id\":\"09e57679-c0f9-4b5a-88b8-c247aa629a9e\",\"type\":\"BoxAnnotation\"},{\"id\":\"32eee1bc-3371-4f97-922a-006bcd2c4a2e\",\"type\":\"GlyphRenderer\"},{\"id\":\"2bc29405-7fe0-4577-99db-56ca6ef0c8d1\",\"type\":\"GlyphRenderer\"},{\"id\":\"1af36978-112c-4bc7-aafa-3a897cd2373b\",\"type\":\"GlyphRenderer\"},{\"id\":\"ee78fc3c-8669-437d-9d56-217e8cdf65d2\",\"type\":\"GlyphRenderer\"},{\"id\":\"ae1ca4f4-b751-4380-996b-6630473c959a\",\"type\":\"GlyphRenderer\"}],\"title\":{\"id\":\"835ec8b7-75e0-4931-a058-48de77ae0a90\",\"type\":\"Title\"},\"toolbar\":{\"id\":\"032df5f5-b57c-4a06-ac78-4dd63de7b3ff\",\"type\":\"Toolbar\"},\"toolbar_location\":null,\"x_range\":{\"id\":\"76715b83-44ad-4461-a8f5-c3a521d04ac3\",\"type\":\"Range1d\"},\"x_scale\":{\"id\":\"3067095b-65ba-42ec-9705-6f7c6ab3353e\",\"type\":\"LinearScale\"},\"y_range\":{\"id\":\"6b7b17b3-53e9-4d43-bd0d-5eb6e78d3391\",\"type\":\"Range1d\"},\"y_scale\":{\"id\":\"4e05ae9c-c802-4032-827b-fc9cc052d857\",\"type\":\"LinearScale\"}},\"id\":\"23ecf829-5c1d-49a2-b304-389e0fd17d19\",\"subtype\":\"Figure\",\"type\":\"Plot\"},{\"attributes\":{\"source\":{\"id\":\"912f466e-a320-4e4d-9729-2b3ef8eb08d5\",\"type\":\"ColumnDataSource\"}},\"id\":\"80ed3dfb-f26a-429b-8bb0-3adee76163a4\",\"type\":\"CDSView\"},{\"attributes\":{},\"id\":\"105f419d-46f2-4639-b50a-98670245ee31\",\"type\":\"BasicTicker\"},{\"attributes\":{\"callback\":null,\"data\":{\"x\":{\"__ndarray__\":\"OlHJO7KyYD9fGUCldjlnPyex+pMXoXQ/BtNa13v4fT/CHYz+7iKEPzdMQXLD04k/pjS+1nUNkD+j1Ln9TYOTP5myJw94UZc/hHad+RSBmz9qpvdkMAygP6SAjDc0kKI/A7ryA55OpT9fhMtYpPGnPypVD4lcH6o/+1YZ/dAbrD/eqp/CBzKuP25j3KIGMrA/yR/KHyVZsT82WHplxY2yP1kEZIevsbM/AuDG0CvKsj8L4ttyMMauP0OfcdyHjqc/eM3j5Al6oT+m72U93cKYP1arRBMHVJA/SFFMvhdvhD+2dB9UL6V5P1gW8B26Om4/xGEGtozMWj/29eJ/++QTPxY5DDI+1kC/fw4yk2hFNL8w/cJ2yEsov94IH571GTm/5JebsJpQTr/VpY4rOLdevy1FxF1Vp2e/tOTd0BUecL86A7RI8pd0v+Rt2+5bcXm/tU0a77p6fr8PMLa64+eBv4OS2YsukIS/FDwqozYWhb8VFVrnctuBv3jAqm494Hi/Rl+Yv4+ZZb+f3Tc8UZJdP/TrfkLzgXw/06oX9algiT/mxAr24GeSP5Zb8ikUqpg/F88fIWqlnz8IbL+WBmejPw+4jYoou6Y/oY6/mwuvqT9PRr0pqlOsP7E58DIP1a4/vjZQHQGVsD8qCI18OKqxP39gKfPYlLI/NFgnHZtTsz/qzD0kfO+zPzpvQKQPeLQ/fChpr1ICtT8vKYjLO5i1P2Tr3F4Z7rU/rLHumdGBtT+mJ/y3atWzP52D8DPxOLE/n3CzzrHprD9QfFzr8K+nP71gd4cCIKI/\",\"dtype\":\"float64\",\"shape\":[75]},\"y\":{\"__ndarray__\":\"S/O/Q+51ND/Sv8nbtpRIP2vylNV0PVE/aTum7souWD/At0SJ8fVgPw3Iuahxymc/MSNhhJWvcD/bTfBN02d3P2zb5nxnaoA/CD5h5MAGhz8NmeH1TyaQP+zrCsc9p5Y/LbKd76fGnz/bLW5ISEmmPww9YvTcQq8/JV2OstnstT8Er5Y7M8G+P0c+r3jqkcU/5h99k6ZBzj88bCIzFzjVP4enV8oyxN0//yH99nXg5D8qOpLLf0jtP5kqGJXUifQ/c9cS8kHP/D+/DpwzojQEQIEmwoanVwxA4lgXt9HgE0BSSZ2AJuIbQAMJih9jjiNA5q4l5INuK0AwTKYKRj0zQNv5fmq8/DpAaCJseHrtQkB/+zpwzoxKQM3MzMzMeFJAZmZmZmZqWEAAAAAAAFxeQM3MzMzMJmJAmpmZmZkfZUBmZmZmZhhoQDMzMzMzEWtAAAAAAAAKbkBmZmZmZoFwQM3MzMzM/XFAMzMzMzN6c0CamZmZmfZ0QAAAAAAAc3ZAZmZmZmbvd0DNzMzMzGt5QDMzMzMz6HpAmpmZmZlkfEAAAAAAAOF9QGZmZmZmXX9AZmZmZuZsgECamZmZGSuBQM3MzMxM6YFAAAAAAICngkAzMzMzs2WDQGZmZmbmI4RAmpmZmRnihEDNzMzMTKCFQAAAAACAXoZAMzMzM7Mch0BmZmZm5tqHQJqZmZkZmYhAzczMzExXiUAAAAAAgBWKQDMzMzOz04pAZmZmZuaRi0CamZmZGVCMQM3MzMxMDo1AAAAAAIDMjUAzMzMzs4qOQGZmZmbmSI9A\",\"dtype\":\"float64\",\"shape\":[75]}},\"selected\":{\"id\":\"2e2cdf26-ccde-4b87-abe7-c7c08ef9d875\",\"type\":\"Selection\"},\"selection_policy\":{\"id\":\"ddb7aa61-7487-4626-85cb-6ae1f40baf6b\",\"type\":\"UnionRenderers\"}},\"id\":\"dc818b9b-f3b3-42e3-8f28-779901599256\",\"type\":\"ColumnDataSource\"}],\"root_ids\":[\"80e2f2db-3923-41e9-a271-0d11ca49837d\"]},\"title\":\"Bokeh Application\",\"version\":\"0.12.16\"}};\n",
       "  var render_items = [{\"docid\":\"08802231-9a14-42f4-8d22-5f66e2572c2e\",\"elementid\":\"5c2b089d-6059-41fd-a39e-40bffaea63c4\",\"modelid\":\"80e2f2db-3923-41e9-a271-0d11ca49837d\"}];\n",
       "  root.Bokeh.embed.embed_items_notebook(docs_json, render_items);\n",
       "\n",
       "  }\n",
       "  if (root.Bokeh !== undefined) {\n",
       "    embed_document(root);\n",
       "  } else {\n",
       "    var attempts = 0;\n",
       "    var timer = setInterval(function(root) {\n",
       "      if (root.Bokeh !== undefined) {\n",
       "        embed_document(root);\n",
       "        clearInterval(timer);\n",
       "      }\n",
       "      attempts++;\n",
       "      if (attempts > 100) {\n",
       "        console.log(\"Bokeh: ERROR: Unable to run BokehJS code because BokehJS library is missing\")\n",
       "        clearInterval(timer);\n",
       "      }\n",
       "    }, 10, root)\n",
       "  }\n",
       "})(window);"
      ],
      "application/vnd.bokehjs_exec.v0+json": ""
     },
     "metadata": {
      "application/vnd.bokehjs_exec.v0+json": {
       "id": "80e2f2db-3923-41e9-a271-0d11ca49837d"
      }
     },
     "output_type": "display_data"
    },
    {
     "name": "stdout",
     "output_type": "stream",
     "text": [
      "FIGURE. Cooling rate profiles.\n"
     ]
    },
    {
     "data": {
      "text/html": [
       "<a id=\"Flux_Comparison\"></a>"
      ],
      "text/plain": [
       "<IPython.core.display.HTML object>"
      ]
     },
     "metadata": {},
     "output_type": "display_data"
    },
    {
     "data": {
      "text/markdown": [
       "# Flux Comparison"
      ],
      "text/plain": [
       "<IPython.core.display.Markdown object>"
      ]
     },
     "metadata": {},
     "output_type": "display_data"
    },
    {
     "data": {
      "text/html": [
       "<div>\n",
       "<style scoped>\n",
       "    .dataframe tbody tr th:only-of-type {\n",
       "        vertical-align: middle;\n",
       "    }\n",
       "\n",
       "    .dataframe tbody tr th {\n",
       "        vertical-align: top;\n",
       "    }\n",
       "\n",
       "    .dataframe thead th {\n",
       "        text-align: right;\n",
       "    }\n",
       "</style>\n",
       "<table border=\"1\" class=\"dataframe\">\n",
       "  <thead>\n",
       "    <tr style=\"text-align: right;\">\n",
       "      <th></th>\n",
       "      <th></th>\n",
       "      <th>flug</th>\n",
       "      <th>fldg</th>\n",
       "      <th>fnetg</th>\n",
       "    </tr>\n",
       "    <tr>\n",
       "      <th>pressure</th>\n",
       "      <th>level</th>\n",
       "      <th></th>\n",
       "      <th></th>\n",
       "      <th></th>\n",
       "    </tr>\n",
       "  </thead>\n",
       "  <tbody>\n",
       "    <tr>\n",
       "      <th>0.0000</th>\n",
       "      <th>1</th>\n",
       "      <td>-7.841210</td>\n",
       "      <td>0.000000</td>\n",
       "      <td>-7.841210</td>\n",
       "    </tr>\n",
       "    <tr>\n",
       "      <th>1.0685</th>\n",
       "      <th>24</th>\n",
       "      <td>-7.837932</td>\n",
       "      <td>0.006699</td>\n",
       "      <td>-7.831233</td>\n",
       "    </tr>\n",
       "    <tr>\n",
       "      <th>1013.0000</th>\n",
       "      <th>76</th>\n",
       "      <td>-9.558030</td>\n",
       "      <td>5.587533</td>\n",
       "      <td>-3.970497</td>\n",
       "    </tr>\n",
       "  </tbody>\n",
       "</table>\n",
       "</div>"
      ],
      "text/plain": [
       "                     flug      fldg     fnetg\n",
       "pressure  level                              \n",
       "0.0000    1     -7.841210  0.000000 -7.841210\n",
       "1.0685    24    -7.837932  0.006699 -7.831233\n",
       "1013.0000 76    -9.558030  5.587533 -3.970497"
      ]
     },
     "metadata": {},
     "output_type": "display_data"
    },
    {
     "name": "stdout",
     "output_type": "stream",
     "text": [
      "Table. Fluxes. CRD\n"
     ]
    },
    {
     "data": {
      "text/html": [
       "<div>\n",
       "<style scoped>\n",
       "    .dataframe tbody tr th:only-of-type {\n",
       "        vertical-align: middle;\n",
       "    }\n",
       "\n",
       "    .dataframe tbody tr th {\n",
       "        vertical-align: top;\n",
       "    }\n",
       "\n",
       "    .dataframe thead th {\n",
       "        text-align: right;\n",
       "    }\n",
       "</style>\n",
       "<table border=\"1\" class=\"dataframe\">\n",
       "  <thead>\n",
       "    <tr style=\"text-align: right;\">\n",
       "      <th></th>\n",
       "      <th></th>\n",
       "      <th>flug</th>\n",
       "      <th>fldg</th>\n",
       "      <th>fnetg</th>\n",
       "    </tr>\n",
       "    <tr>\n",
       "      <th>pressure</th>\n",
       "      <th>level</th>\n",
       "      <th></th>\n",
       "      <th></th>\n",
       "      <th></th>\n",
       "    </tr>\n",
       "  </thead>\n",
       "  <tbody>\n",
       "    <tr>\n",
       "      <th>0.0000</th>\n",
       "      <th>1</th>\n",
       "      <td>-7.830224</td>\n",
       "      <td>0.000000</td>\n",
       "      <td>-7.830224</td>\n",
       "    </tr>\n",
       "    <tr>\n",
       "      <th>1.0685</th>\n",
       "      <th>24</th>\n",
       "      <td>-7.826936</td>\n",
       "      <td>0.005298</td>\n",
       "      <td>-7.821638</td>\n",
       "    </tr>\n",
       "    <tr>\n",
       "      <th>1013.0000</th>\n",
       "      <th>76</th>\n",
       "      <td>-9.558030</td>\n",
       "      <td>5.478665</td>\n",
       "      <td>-4.079366</td>\n",
       "    </tr>\n",
       "  </tbody>\n",
       "</table>\n",
       "</div>"
      ],
      "text/plain": [
       "                     flug      fldg     fnetg\n",
       "pressure  level                              \n",
       "0.0000    1     -7.830224  0.000000 -7.830224\n",
       "1.0685    24    -7.826936  0.005298 -7.821638\n",
       "1013.0000 76    -9.558030  5.478665 -4.079366"
      ]
     },
     "metadata": {},
     "output_type": "display_data"
    },
    {
     "name": "stdout",
     "output_type": "stream",
     "text": [
      "Table. Fluxes. WGT igg=10 wgt_flux=1\n"
     ]
    },
    {
     "data": {
      "text/html": [
       "<div>\n",
       "<style scoped>\n",
       "    .dataframe tbody tr th:only-of-type {\n",
       "        vertical-align: middle;\n",
       "    }\n",
       "\n",
       "    .dataframe tbody tr th {\n",
       "        vertical-align: top;\n",
       "    }\n",
       "\n",
       "    .dataframe thead th {\n",
       "        text-align: right;\n",
       "    }\n",
       "</style>\n",
       "<table border=\"1\" class=\"dataframe\">\n",
       "  <thead>\n",
       "    <tr style=\"text-align: right;\">\n",
       "      <th></th>\n",
       "      <th></th>\n",
       "      <th>flug</th>\n",
       "      <th>fldg</th>\n",
       "      <th>fnetg</th>\n",
       "    </tr>\n",
       "    <tr>\n",
       "      <th>pressure</th>\n",
       "      <th>level</th>\n",
       "      <th></th>\n",
       "      <th></th>\n",
       "      <th></th>\n",
       "    </tr>\n",
       "  </thead>\n",
       "  <tbody>\n",
       "    <tr>\n",
       "      <th>1.000000e-08</th>\n",
       "      <th>1</th>\n",
       "      <td>-7.887977</td>\n",
       "      <td>9.417991e-08</td>\n",
       "      <td>-7.887977</td>\n",
       "    </tr>\n",
       "    <tr>\n",
       "      <th>1.068500e+00</th>\n",
       "      <th>24</th>\n",
       "      <td>-7.884696</td>\n",
       "      <td>5.044785e-03</td>\n",
       "      <td>-7.879651</td>\n",
       "    </tr>\n",
       "    <tr>\n",
       "      <th>1.013000e+03</th>\n",
       "      <th>76</th>\n",
       "      <td>-9.558030</td>\n",
       "      <td>5.426195e+00</td>\n",
       "      <td>-4.131835</td>\n",
       "    </tr>\n",
       "  </tbody>\n",
       "</table>\n",
       "</div>"
      ],
      "text/plain": [
       "                        flug          fldg     fnetg\n",
       "pressure     level                                  \n",
       "1.000000e-08 1     -7.887977  9.417991e-08 -7.887977\n",
       "1.068500e+00 24    -7.884696  5.044785e-03 -7.879651\n",
       "1.013000e+03 76    -9.558030  5.426195e+00 -4.131835"
      ]
     },
     "metadata": {},
     "output_type": "display_data"
    },
    {
     "name": "stdout",
     "output_type": "stream",
     "text": [
      "Table. Fluxes. CLIRAD\n"
     ]
    },
    {
     "data": {
      "text/html": [
       "<div>\n",
       "<style scoped>\n",
       "    .dataframe tbody tr th:only-of-type {\n",
       "        vertical-align: middle;\n",
       "    }\n",
       "\n",
       "    .dataframe tbody tr th {\n",
       "        vertical-align: top;\n",
       "    }\n",
       "\n",
       "    .dataframe thead th {\n",
       "        text-align: right;\n",
       "    }\n",
       "</style>\n",
       "<table border=\"1\" class=\"dataframe\">\n",
       "  <thead>\n",
       "    <tr style=\"text-align: right;\">\n",
       "      <th></th>\n",
       "      <th></th>\n",
       "      <th>flug</th>\n",
       "      <th>fldg</th>\n",
       "      <th>fnetg</th>\n",
       "    </tr>\n",
       "    <tr>\n",
       "      <th>pressure</th>\n",
       "      <th>level</th>\n",
       "      <th></th>\n",
       "      <th></th>\n",
       "      <th></th>\n",
       "    </tr>\n",
       "  </thead>\n",
       "  <tbody>\n",
       "    <tr>\n",
       "      <th>0.0000</th>\n",
       "      <th>1</th>\n",
       "      <td>0.010986</td>\n",
       "      <td>0.000000</td>\n",
       "      <td>0.010986</td>\n",
       "    </tr>\n",
       "    <tr>\n",
       "      <th>1.0685</th>\n",
       "      <th>24</th>\n",
       "      <td>0.010997</td>\n",
       "      <td>-0.001401</td>\n",
       "      <td>0.009595</td>\n",
       "    </tr>\n",
       "    <tr>\n",
       "      <th>1013.0000</th>\n",
       "      <th>76</th>\n",
       "      <td>0.000000</td>\n",
       "      <td>-0.108869</td>\n",
       "      <td>-0.108869</td>\n",
       "    </tr>\n",
       "  </tbody>\n",
       "</table>\n",
       "</div>"
      ],
      "text/plain": [
       "                     flug      fldg     fnetg\n",
       "pressure  level                              \n",
       "0.0000    1      0.010986  0.000000  0.010986\n",
       "1.0685    24     0.010997 -0.001401  0.009595\n",
       "1013.0000 76     0.000000 -0.108869 -0.108869"
      ]
     },
     "metadata": {},
     "output_type": "display_data"
    },
    {
     "name": "stdout",
     "output_type": "stream",
     "text": [
      "Table. Fluxes. (WGT igg=10 wgt_flux=1) - (CRD)\n"
     ]
    },
    {
     "data": {
      "text/html": [
       "<div>\n",
       "<style scoped>\n",
       "    .dataframe tbody tr th:only-of-type {\n",
       "        vertical-align: middle;\n",
       "    }\n",
       "\n",
       "    .dataframe tbody tr th {\n",
       "        vertical-align: top;\n",
       "    }\n",
       "\n",
       "    .dataframe thead th {\n",
       "        text-align: right;\n",
       "    }\n",
       "</style>\n",
       "<table border=\"1\" class=\"dataframe\">\n",
       "  <thead>\n",
       "    <tr style=\"text-align: right;\">\n",
       "      <th></th>\n",
       "      <th></th>\n",
       "      <th>flug</th>\n",
       "      <th>fldg</th>\n",
       "      <th>fnetg</th>\n",
       "    </tr>\n",
       "    <tr>\n",
       "      <th>pressure</th>\n",
       "      <th>level</th>\n",
       "      <th></th>\n",
       "      <th></th>\n",
       "      <th></th>\n",
       "    </tr>\n",
       "  </thead>\n",
       "  <tbody>\n",
       "    <tr>\n",
       "      <th>0.0000</th>\n",
       "      <th>1</th>\n",
       "      <td>-4.676660e-02</td>\n",
       "      <td>9.417991e-08</td>\n",
       "      <td>-0.046767</td>\n",
       "    </tr>\n",
       "    <tr>\n",
       "      <th>1.0685</th>\n",
       "      <th>24</th>\n",
       "      <td>-4.676390e-02</td>\n",
       "      <td>-1.654220e-03</td>\n",
       "      <td>-0.048418</td>\n",
       "    </tr>\n",
       "    <tr>\n",
       "      <th>1013.0000</th>\n",
       "      <th>76</th>\n",
       "      <td>3.000000e-07</td>\n",
       "      <td>-1.613380e-01</td>\n",
       "      <td>-0.161338</td>\n",
       "    </tr>\n",
       "  </tbody>\n",
       "</table>\n",
       "</div>"
      ],
      "text/plain": [
       "                         flug          fldg     fnetg\n",
       "pressure  level                                      \n",
       "0.0000    1     -4.676660e-02  9.417991e-08 -0.046767\n",
       "1.0685    24    -4.676390e-02 -1.654220e-03 -0.048418\n",
       "1013.0000 76     3.000000e-07 -1.613380e-01 -0.161338"
      ]
     },
     "metadata": {},
     "output_type": "display_data"
    },
    {
     "name": "stdout",
     "output_type": "stream",
     "text": [
      "Table. Fluxes. (CLIRAD) - (CRD)\n"
     ]
    },
    {
     "data": {
      "text/html": [
       "<a id=\"Best-fit_Parameters\"></a>"
      ],
      "text/plain": [
       "<IPython.core.display.HTML object>"
      ]
     },
     "metadata": {},
     "output_type": "display_data"
    },
    {
     "data": {
      "text/markdown": [
       "# Best-fit Parameters"
      ],
      "text/plain": [
       "<IPython.core.display.Markdown object>"
      ]
     },
     "metadata": {},
     "output_type": "display_data"
    },
    {
     "name": "stdout",
     "output_type": "stream",
     "text": [
      "Best-fit values for each (gas, band)\n",
      "------------------------------------\n",
      "o h2o band7\n",
      "  atmpro = mls\n",
      "  band = 7\n",
      "  commitnumber = a06b618\n",
      "  conc = None\n",
      "  dv = 0.001\n",
      "  klin = 0\n",
      "  molecule = h2o\n",
      "  ng_adju = [0]\n",
      "  ng_refs = [7]\n",
      "  nv = 1000\n",
      "  option_compute_btable = 0\n",
      "  option_compute_ktable = 1\n",
      "  option_wgt_flux = 1\n",
      "  option_wgt_k = 1\n",
      "  ref_pts = [(600, 250)]\n",
      "  tsfc = 294\n",
      "  vmax = 1380\n",
      "  vmin = 1215\n",
      "  w_diffuse = [(2, 1.6, 1.6, 1.6, 1.6, 1.6, 1.8)]\n",
      "  wgt = [(0.5, 0.5, 0.5, 0.5, 0.5, 0.5, 0.9)]\n",
      "o n2o band7\n",
      "  atmpro = mls\n",
      "  band = 7\n",
      "  commitnumber = a06b618\n",
      "  conc = 3.2e-07\n",
      "  dv = 0.001\n",
      "  klin = 2.22e-20\n",
      "  molecule = n2o\n",
      "  ng_adju = [0, 0]\n",
      "  ng_refs = [2, 2]\n",
      "  nv = 1000\n",
      "  option_compute_btable = 0\n",
      "  option_compute_ktable = 1\n",
      "  option_wgt_flux = 1\n",
      "  option_wgt_k = 1\n",
      "  ref_pts = [(1, 250), (500, 250)]\n",
      "  tsfc = 294\n",
      "  vmax = 1380\n",
      "  vmin = 1215\n",
      "  w_diffuse = [(1.8, 1.66), (1.6, 1.8)]\n",
      "  wgt = [(0.6, 0.5), (0.6, 0.9)]\n"
     ]
    }
   ],
   "source": [
    "script()"
   ]
  },
  {
   "cell_type": "code",
   "execution_count": 13,
   "metadata": {
    "collapsed": true
   },
   "outputs": [
    {
     "data": {
      "text/html": [
       "<script>\n",
       "code_show=true; \n",
       "function code_toggle() {\n",
       " if (code_show){\n",
       " $('div.input').hide();\n",
       " } else {\n",
       " $('div.input').show();\n",
       " }\n",
       " code_show = !code_show\n",
       "} \n",
       "$( document ).ready(code_toggle);\n",
       "</script>\n",
       "<form action=\"javascript:code_toggle()\"><input type=\"submit\" value=\"Click here to toggle on/off the raw code.\"></form>"
      ],
      "text/plain": [
       "<IPython.core.display.HTML object>"
      ]
     },
     "execution_count": 13,
     "metadata": {},
     "output_type": "execute_result"
    }
   ],
   "source": [
    "display.HTML('''<script>\n",
    "code_show=true; \n",
    "function code_toggle() {\n",
    " if (code_show){\n",
    " $('div.input').hide();\n",
    " } else {\n",
    " $('div.input').show();\n",
    " }\n",
    " code_show = !code_show\n",
    "} \n",
    "$( document ).ready(code_toggle);\n",
    "</script>\n",
    "<form action=\"javascript:code_toggle()\"><input type=\"submit\" value=\"Click here to toggle on/off the raw code.\"></form>''')"
   ]
  }
 ],
 "metadata": {
  "kernelspec": {
   "display_name": "Python 3",
   "language": "python",
   "name": "python3"
  },
  "language_info": {
   "codemirror_mode": {
    "name": "ipython",
    "version": 3
   },
   "file_extension": ".py",
   "mimetype": "text/x-python",
   "name": "python",
   "nbconvert_exporter": "python",
   "pygments_lexer": "ipython3",
   "version": "3.6.1"
  }
 },
 "nbformat": 4,
 "nbformat_minor": 2
}
