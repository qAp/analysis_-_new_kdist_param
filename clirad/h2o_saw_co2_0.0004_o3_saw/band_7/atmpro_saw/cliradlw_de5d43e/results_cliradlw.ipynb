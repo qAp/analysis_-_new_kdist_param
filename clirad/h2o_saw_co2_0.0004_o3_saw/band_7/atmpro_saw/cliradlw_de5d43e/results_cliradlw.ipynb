{
 "cells": [
  {
   "cell_type": "code",
   "execution_count": 1,
   "metadata": {
    "collapsed": true
   },
   "outputs": [],
   "source": [
    "%matplotlib inline\n",
    "import os\n",
    "import re\n",
    "import io\n",
    "import itertools\n",
    "import pprint\n",
    "\n",
    "from bokeh.io import output_notebook, show\n",
    "from bokeh.layouts import gridplot\n",
    "from bokeh.plotting import figure\n",
    "from bokeh.models import Range1d, Legend\n",
    "from bokeh.palettes import all_palettes\n",
    "\n",
    "import matplotlib\n",
    "import matplotlib.pyplot as plt\n",
    "import numpy as np\n",
    "import pandas as pd\n",
    "import xarray as xr\n",
    "\n",
    "import climatools.lblnew.bestfit_params as bestfits\n",
    "from climatools.lblnew import setup_bestfit, setup_overlap\n",
    "import climatools.lblnew.pipeline as pipe_lblnew\n",
    "import climatools.cliradlw.setup as setup_cliradlw\n",
    "import climatools.cliradlw.pipeline as pipe_cliradlw\n",
    "\n",
    "import climatools.html.html as climahtml\n",
    "from climatools.lblnew.dataio import *\n",
    "from climatools.plot.plot import *\n",
    "\n",
    "\n",
    "import IPython.display as display"
   ]
  },
  {
   "cell_type": "code",
   "execution_count": 2,
   "metadata": {
    "collapsed": true
   },
   "outputs": [],
   "source": [
    "%run param.py"
   ]
  },
  {
   "cell_type": "code",
   "execution_count": 3,
   "metadata": {
    "collapsed": true
   },
   "outputs": [
    {
     "name": "stdout",
     "output_type": "stream",
     "text": [
      "The history saving thread hit an unexpected error (OperationalError('database is locked',)).History will not be written to the database.\n"
     ]
    }
   ],
   "source": [
    "def load_output_file(path_csv):\n",
    "    '''\n",
    "    Load lblnew output .csv file to xarray.Dataset\n",
    "    \n",
    "    Parameters\n",
    "    ----------\n",
    "    path_csv: str\n",
    "              Path to the .csv file to be loaded.\n",
    "    ds: xarray.Dataset\n",
    "        Data in the input file in the form of an xarray.Dataset.\n",
    "    '''\n",
    "    toindex = ['band', 'pressure', 'igg', 'g']    \n",
    "    df = pd.read_csv(path_csv, sep=r'\\s+')\n",
    "    df = df.set_index([i for i in toindex if i in df.columns])\n",
    "    df = df.rename(columns={'sfu': 'flug',\n",
    "                            'sfd': 'fldg',\n",
    "                            'fnet': 'fnetg',\n",
    "                            'coolr': 'coolrg'})\n",
    "    ds = xr.Dataset.from_dataframe(df)\n",
    "\n",
    "    for l in ('level', 'layer'):\n",
    "        if l in ds.data_vars:\n",
    "            if len(ds[l].dims) > 1:\n",
    "                surface = {d: 0 for d in ds.dims if d != 'pressure'}\n",
    "                coord_level = ds[l][surface]\n",
    "                ds.coords[l] = ('pressure', coord_level)\n",
    "            else:\n",
    "                ds.coords[l] = ('pressure', ds[l])\n",
    "    \n",
    "    return ds"
   ]
  },
  {
   "cell_type": "code",
   "execution_count": 4,
   "metadata": {
    "collapsed": true
   },
   "outputs": [],
   "source": [
    "def lblnew_setup(param=None):\n",
    "    if 'ng_refs' in param:\n",
    "        return {'setup': setup_bestfit,\n",
    "                'fname_flux_crd': 'output_flux.dat',\n",
    "                'fname_cool_crd': 'output_coolr.dat',\n",
    "                'fname_flux_wgt': 'output_wfluxg.dat',\n",
    "                'fname_cool_wgt': 'output_wcoolrg.dat'}\n",
    "    else:\n",
    "        return {'setup': setup_overlap,\n",
    "                'fname_flux_crd': 'output_flux.dat',\n",
    "                'fname_cool_crd': 'output_coolr.dat',\n",
    "                'fname_flux_wgt': 'output_wflux.dat',\n",
    "                'fname_cool_wgt': 'output_wcoolr.dat'}\n",
    "\n",
    "    \n",
    "def load_lblnew_data(param):\n",
    "    \n",
    "    fname_dsname = [('fname_flux_crd', 'ds_flux_crd'),\n",
    "                    ('fname_cool_crd', 'ds_cool_crd'),\n",
    "                    ('fname_flux_wgt', 'ds_flux_wgt'),\n",
    "                    ('fname_cool_wgt', 'ds_cool_wgt')]\n",
    "    \n",
    "    d = lblnew_setup(param)\n",
    "    dir_fortran = pipe_lblnew.get_dir_case(param, setup=d['setup'])\n",
    "    \n",
    "    data_dict = {}\n",
    "    for fname, dsname in fname_dsname:\n",
    "        fpath = os.path.join(dir_fortran, d[fname])\n",
    "        data_dict[dsname] = load_output_file(fpath)\n",
    "    return data_dict\n",
    "    \n",
    "\n",
    "    \n",
    "    "
   ]
  },
  {
   "cell_type": "code",
   "execution_count": 5,
   "metadata": {
    "collapsed": true
   },
   "outputs": [],
   "source": [
    "d = load_lblnew_data(PARAM_LBLNEW)\n",
    "\n",
    "DS_FLUX_CRD = d['ds_flux_crd']\n",
    "DS_COOL_CRD = d['ds_cool_crd']\n",
    "DS_FLUX_WGT = d['ds_flux_wgt']\n",
    "DS_COOL_WGT = d['ds_cool_wgt']"
   ]
  },
  {
   "cell_type": "code",
   "execution_count": 6,
   "metadata": {
    "collapsed": true
   },
   "outputs": [],
   "source": [
    "DIR_FORTRAN = pipe_cliradlw.get_fortran_dir(PARAM, \n",
    "                                            setup=setup_cliradlw)\n",
    "\n",
    "PATH_FLUX = os.path.join(DIR_FORTRAN, 'output_flux.dat')\n",
    "PATH_COOL = os.path.join(DIR_FORTRAN, 'output_coolr.dat')\n",
    "\n",
    "DS_FLUX = load_output_file(PATH_FLUX)\n",
    "DS_COOL = load_output_file(PATH_COOL)"
   ]
  },
  {
   "cell_type": "code",
   "execution_count": 7,
   "metadata": {
    "collapsed": true
   },
   "outputs": [
    {
     "data": {
      "text/html": [
       "\n",
       "    <div class=\"bk-root\">\n",
       "        <a href=\"https://bokeh.pydata.org\" target=\"_blank\" class=\"bk-logo bk-logo-small bk-logo-notebook\"></a>\n",
       "        <span id=\"d31a69de-94fe-4053-ba87-097a20c9e5e3\">Loading BokehJS ...</span>\n",
       "    </div>"
      ]
     },
     "metadata": {},
     "output_type": "display_data"
    },
    {
     "data": {
      "application/javascript": [
       "\n",
       "(function(root) {\n",
       "  function now() {\n",
       "    return new Date();\n",
       "  }\n",
       "\n",
       "  var force = true;\n",
       "\n",
       "  if (typeof (root._bokeh_onload_callbacks) === \"undefined\" || force === true) {\n",
       "    root._bokeh_onload_callbacks = [];\n",
       "    root._bokeh_is_loading = undefined;\n",
       "  }\n",
       "\n",
       "  var JS_MIME_TYPE = 'application/javascript';\n",
       "  var HTML_MIME_TYPE = 'text/html';\n",
       "  var EXEC_MIME_TYPE = 'application/vnd.bokehjs_exec.v0+json';\n",
       "  var CLASS_NAME = 'output_bokeh rendered_html';\n",
       "\n",
       "  /**\n",
       "   * Render data to the DOM node\n",
       "   */\n",
       "  function render(props, node) {\n",
       "    var script = document.createElement(\"script\");\n",
       "    node.appendChild(script);\n",
       "  }\n",
       "\n",
       "  /**\n",
       "   * Handle when an output is cleared or removed\n",
       "   */\n",
       "  function handleClearOutput(event, handle) {\n",
       "    var cell = handle.cell;\n",
       "\n",
       "    var id = cell.output_area._bokeh_element_id;\n",
       "    var server_id = cell.output_area._bokeh_server_id;\n",
       "    // Clean up Bokeh references\n",
       "    if (id !== undefined) {\n",
       "      Bokeh.index[id].model.document.clear();\n",
       "      delete Bokeh.index[id];\n",
       "    }\n",
       "\n",
       "    if (server_id !== undefined) {\n",
       "      // Clean up Bokeh references\n",
       "      var cmd = \"from bokeh.io.state import curstate; print(curstate().uuid_to_server['\" + server_id + \"'].get_sessions()[0].document.roots[0]._id)\";\n",
       "      cell.notebook.kernel.execute(cmd, {\n",
       "        iopub: {\n",
       "          output: function(msg) {\n",
       "            var element_id = msg.content.text.trim();\n",
       "            Bokeh.index[element_id].model.document.clear();\n",
       "            delete Bokeh.index[element_id];\n",
       "          }\n",
       "        }\n",
       "      });\n",
       "      // Destroy server and session\n",
       "      var cmd = \"import bokeh.io.notebook as ion; ion.destroy_server('\" + server_id + \"')\";\n",
       "      cell.notebook.kernel.execute(cmd);\n",
       "    }\n",
       "  }\n",
       "\n",
       "  /**\n",
       "   * Handle when a new output is added\n",
       "   */\n",
       "  function handleAddOutput(event, handle) {\n",
       "    var output_area = handle.output_area;\n",
       "    var output = handle.output;\n",
       "\n",
       "    // limit handleAddOutput to display_data with EXEC_MIME_TYPE content only\n",
       "    if ((output.output_type != \"display_data\") || (!output.data.hasOwnProperty(EXEC_MIME_TYPE))) {\n",
       "      return\n",
       "    }\n",
       "\n",
       "    var toinsert = output_area.element.find(\".\" + CLASS_NAME.split(' ')[0]);\n",
       "\n",
       "    if (output.metadata[EXEC_MIME_TYPE][\"id\"] !== undefined) {\n",
       "      toinsert[toinsert.length - 1].firstChild.textContent = output.data[JS_MIME_TYPE];\n",
       "      // store reference to embed id on output_area\n",
       "      output_area._bokeh_element_id = output.metadata[EXEC_MIME_TYPE][\"id\"];\n",
       "    }\n",
       "    if (output.metadata[EXEC_MIME_TYPE][\"server_id\"] !== undefined) {\n",
       "      var bk_div = document.createElement(\"div\");\n",
       "      bk_div.innerHTML = output.data[HTML_MIME_TYPE];\n",
       "      var script_attrs = bk_div.children[0].attributes;\n",
       "      for (var i = 0; i < script_attrs.length; i++) {\n",
       "        toinsert[toinsert.length - 1].firstChild.setAttribute(script_attrs[i].name, script_attrs[i].value);\n",
       "      }\n",
       "      // store reference to server id on output_area\n",
       "      output_area._bokeh_server_id = output.metadata[EXEC_MIME_TYPE][\"server_id\"];\n",
       "    }\n",
       "  }\n",
       "\n",
       "  function register_renderer(events, OutputArea) {\n",
       "\n",
       "    function append_mime(data, metadata, element) {\n",
       "      // create a DOM node to render to\n",
       "      var toinsert = this.create_output_subarea(\n",
       "        metadata,\n",
       "        CLASS_NAME,\n",
       "        EXEC_MIME_TYPE\n",
       "      );\n",
       "      this.keyboard_manager.register_events(toinsert);\n",
       "      // Render to node\n",
       "      var props = {data: data, metadata: metadata[EXEC_MIME_TYPE]};\n",
       "      render(props, toinsert[toinsert.length - 1]);\n",
       "      element.append(toinsert);\n",
       "      return toinsert\n",
       "    }\n",
       "\n",
       "    /* Handle when an output is cleared or removed */\n",
       "    events.on('clear_output.CodeCell', handleClearOutput);\n",
       "    events.on('delete.Cell', handleClearOutput);\n",
       "\n",
       "    /* Handle when a new output is added */\n",
       "    events.on('output_added.OutputArea', handleAddOutput);\n",
       "\n",
       "    /**\n",
       "     * Register the mime type and append_mime function with output_area\n",
       "     */\n",
       "    OutputArea.prototype.register_mime_type(EXEC_MIME_TYPE, append_mime, {\n",
       "      /* Is output safe? */\n",
       "      safe: true,\n",
       "      /* Index of renderer in `output_area.display_order` */\n",
       "      index: 0\n",
       "    });\n",
       "  }\n",
       "\n",
       "  // register the mime type if in Jupyter Notebook environment and previously unregistered\n",
       "  if (root.Jupyter !== undefined) {\n",
       "    var events = require('base/js/events');\n",
       "    var OutputArea = require('notebook/js/outputarea').OutputArea;\n",
       "\n",
       "    if (OutputArea.prototype.mime_types().indexOf(EXEC_MIME_TYPE) == -1) {\n",
       "      register_renderer(events, OutputArea);\n",
       "    }\n",
       "  }\n",
       "\n",
       "  \n",
       "  if (typeof (root._bokeh_timeout) === \"undefined\" || force === true) {\n",
       "    root._bokeh_timeout = Date.now() + 5000;\n",
       "    root._bokeh_failed_load = false;\n",
       "  }\n",
       "\n",
       "  var NB_LOAD_WARNING = {'data': {'text/html':\n",
       "     \"<div style='background-color: #fdd'>\\n\"+\n",
       "     \"<p>\\n\"+\n",
       "     \"BokehJS does not appear to have successfully loaded. If loading BokehJS from CDN, this \\n\"+\n",
       "     \"may be due to a slow or bad network connection. Possible fixes:\\n\"+\n",
       "     \"</p>\\n\"+\n",
       "     \"<ul>\\n\"+\n",
       "     \"<li>re-rerun `output_notebook()` to attempt to load from CDN again, or</li>\\n\"+\n",
       "     \"<li>use INLINE resources instead, as so:</li>\\n\"+\n",
       "     \"</ul>\\n\"+\n",
       "     \"<code>\\n\"+\n",
       "     \"from bokeh.resources import INLINE\\n\"+\n",
       "     \"output_notebook(resources=INLINE)\\n\"+\n",
       "     \"</code>\\n\"+\n",
       "     \"</div>\"}};\n",
       "\n",
       "  function display_loaded() {\n",
       "    var el = document.getElementById(\"d31a69de-94fe-4053-ba87-097a20c9e5e3\");\n",
       "    if (el != null) {\n",
       "      el.textContent = \"BokehJS is loading...\";\n",
       "    }\n",
       "    if (root.Bokeh !== undefined) {\n",
       "      if (el != null) {\n",
       "        el.textContent = \"BokehJS \" + root.Bokeh.version + \" successfully loaded.\";\n",
       "      }\n",
       "    } else if (Date.now() < root._bokeh_timeout) {\n",
       "      setTimeout(display_loaded, 100)\n",
       "    }\n",
       "  }\n",
       "\n",
       "\n",
       "  function run_callbacks() {\n",
       "    try {\n",
       "      root._bokeh_onload_callbacks.forEach(function(callback) { callback() });\n",
       "    }\n",
       "    finally {\n",
       "      delete root._bokeh_onload_callbacks\n",
       "    }\n",
       "    console.info(\"Bokeh: all callbacks have finished\");\n",
       "  }\n",
       "\n",
       "  function load_libs(js_urls, callback) {\n",
       "    root._bokeh_onload_callbacks.push(callback);\n",
       "    if (root._bokeh_is_loading > 0) {\n",
       "      console.log(\"Bokeh: BokehJS is being loaded, scheduling callback at\", now());\n",
       "      return null;\n",
       "    }\n",
       "    if (js_urls == null || js_urls.length === 0) {\n",
       "      run_callbacks();\n",
       "      return null;\n",
       "    }\n",
       "    console.log(\"Bokeh: BokehJS not loaded, scheduling load and callback at\", now());\n",
       "    root._bokeh_is_loading = js_urls.length;\n",
       "    for (var i = 0; i < js_urls.length; i++) {\n",
       "      var url = js_urls[i];\n",
       "      var s = document.createElement('script');\n",
       "      s.src = url;\n",
       "      s.async = false;\n",
       "      s.onreadystatechange = s.onload = function() {\n",
       "        root._bokeh_is_loading--;\n",
       "        if (root._bokeh_is_loading === 0) {\n",
       "          console.log(\"Bokeh: all BokehJS libraries loaded\");\n",
       "          run_callbacks()\n",
       "        }\n",
       "      };\n",
       "      s.onerror = function() {\n",
       "        console.warn(\"failed to load library \" + url);\n",
       "      };\n",
       "      console.log(\"Bokeh: injecting script tag for BokehJS library: \", url);\n",
       "      document.getElementsByTagName(\"head\")[0].appendChild(s);\n",
       "    }\n",
       "  };var element = document.getElementById(\"d31a69de-94fe-4053-ba87-097a20c9e5e3\");\n",
       "  if (element == null) {\n",
       "    console.log(\"Bokeh: ERROR: autoload.js configured with elementid 'd31a69de-94fe-4053-ba87-097a20c9e5e3' but no matching script tag was found. \")\n",
       "    return false;\n",
       "  }\n",
       "\n",
       "  var js_urls = [\"https://cdn.pydata.org/bokeh/release/bokeh-0.12.16.min.js\", \"https://cdn.pydata.org/bokeh/release/bokeh-widgets-0.12.16.min.js\", \"https://cdn.pydata.org/bokeh/release/bokeh-tables-0.12.16.min.js\", \"https://cdn.pydata.org/bokeh/release/bokeh-gl-0.12.16.min.js\"];\n",
       "\n",
       "  var inline_js = [\n",
       "    function(Bokeh) {\n",
       "      Bokeh.set_log_level(\"info\");\n",
       "    },\n",
       "    \n",
       "    function(Bokeh) {\n",
       "      \n",
       "    },\n",
       "    function(Bokeh) {\n",
       "      console.log(\"Bokeh: injecting CSS: https://cdn.pydata.org/bokeh/release/bokeh-0.12.16.min.css\");\n",
       "      Bokeh.embed.inject_css(\"https://cdn.pydata.org/bokeh/release/bokeh-0.12.16.min.css\");\n",
       "      console.log(\"Bokeh: injecting CSS: https://cdn.pydata.org/bokeh/release/bokeh-widgets-0.12.16.min.css\");\n",
       "      Bokeh.embed.inject_css(\"https://cdn.pydata.org/bokeh/release/bokeh-widgets-0.12.16.min.css\");\n",
       "      console.log(\"Bokeh: injecting CSS: https://cdn.pydata.org/bokeh/release/bokeh-tables-0.12.16.min.css\");\n",
       "      Bokeh.embed.inject_css(\"https://cdn.pydata.org/bokeh/release/bokeh-tables-0.12.16.min.css\");\n",
       "    }\n",
       "  ];\n",
       "\n",
       "  function run_inline_js() {\n",
       "    \n",
       "    if ((root.Bokeh !== undefined) || (force === true)) {\n",
       "      for (var i = 0; i < inline_js.length; i++) {\n",
       "        inline_js[i].call(root, root.Bokeh);\n",
       "      }if (force === true) {\n",
       "        display_loaded();\n",
       "      }} else if (Date.now() < root._bokeh_timeout) {\n",
       "      setTimeout(run_inline_js, 100);\n",
       "    } else if (!root._bokeh_failed_load) {\n",
       "      console.log(\"Bokeh: BokehJS failed to load within specified timeout.\");\n",
       "      root._bokeh_failed_load = true;\n",
       "    } else if (force !== true) {\n",
       "      var cell = $(document.getElementById(\"d31a69de-94fe-4053-ba87-097a20c9e5e3\")).parents('.cell').data().cell;\n",
       "      cell.output_area.append_execute_result(NB_LOAD_WARNING)\n",
       "    }\n",
       "\n",
       "  }\n",
       "\n",
       "  if (root._bokeh_is_loading === 0) {\n",
       "    console.log(\"Bokeh: BokehJS loaded, going straight to plotting\");\n",
       "    run_inline_js();\n",
       "  } else {\n",
       "    load_libs(js_urls, function() {\n",
       "      console.log(\"Bokeh: BokehJS plotting callback run at\", now());\n",
       "      run_inline_js();\n",
       "    });\n",
       "  }\n",
       "}(window));"
      ],
      "application/vnd.bokehjs_load.v0+json": "\n(function(root) {\n  function now() {\n    return new Date();\n  }\n\n  var force = true;\n\n  if (typeof (root._bokeh_onload_callbacks) === \"undefined\" || force === true) {\n    root._bokeh_onload_callbacks = [];\n    root._bokeh_is_loading = undefined;\n  }\n\n  \n\n  \n  if (typeof (root._bokeh_timeout) === \"undefined\" || force === true) {\n    root._bokeh_timeout = Date.now() + 5000;\n    root._bokeh_failed_load = false;\n  }\n\n  var NB_LOAD_WARNING = {'data': {'text/html':\n     \"<div style='background-color: #fdd'>\\n\"+\n     \"<p>\\n\"+\n     \"BokehJS does not appear to have successfully loaded. If loading BokehJS from CDN, this \\n\"+\n     \"may be due to a slow or bad network connection. Possible fixes:\\n\"+\n     \"</p>\\n\"+\n     \"<ul>\\n\"+\n     \"<li>re-rerun `output_notebook()` to attempt to load from CDN again, or</li>\\n\"+\n     \"<li>use INLINE resources instead, as so:</li>\\n\"+\n     \"</ul>\\n\"+\n     \"<code>\\n\"+\n     \"from bokeh.resources import INLINE\\n\"+\n     \"output_notebook(resources=INLINE)\\n\"+\n     \"</code>\\n\"+\n     \"</div>\"}};\n\n  function display_loaded() {\n    var el = document.getElementById(\"d31a69de-94fe-4053-ba87-097a20c9e5e3\");\n    if (el != null) {\n      el.textContent = \"BokehJS is loading...\";\n    }\n    if (root.Bokeh !== undefined) {\n      if (el != null) {\n        el.textContent = \"BokehJS \" + root.Bokeh.version + \" successfully loaded.\";\n      }\n    } else if (Date.now() < root._bokeh_timeout) {\n      setTimeout(display_loaded, 100)\n    }\n  }\n\n\n  function run_callbacks() {\n    try {\n      root._bokeh_onload_callbacks.forEach(function(callback) { callback() });\n    }\n    finally {\n      delete root._bokeh_onload_callbacks\n    }\n    console.info(\"Bokeh: all callbacks have finished\");\n  }\n\n  function load_libs(js_urls, callback) {\n    root._bokeh_onload_callbacks.push(callback);\n    if (root._bokeh_is_loading > 0) {\n      console.log(\"Bokeh: BokehJS is being loaded, scheduling callback at\", now());\n      return null;\n    }\n    if (js_urls == null || js_urls.length === 0) {\n      run_callbacks();\n      return null;\n    }\n    console.log(\"Bokeh: BokehJS not loaded, scheduling load and callback at\", now());\n    root._bokeh_is_loading = js_urls.length;\n    for (var i = 0; i < js_urls.length; i++) {\n      var url = js_urls[i];\n      var s = document.createElement('script');\n      s.src = url;\n      s.async = false;\n      s.onreadystatechange = s.onload = function() {\n        root._bokeh_is_loading--;\n        if (root._bokeh_is_loading === 0) {\n          console.log(\"Bokeh: all BokehJS libraries loaded\");\n          run_callbacks()\n        }\n      };\n      s.onerror = function() {\n        console.warn(\"failed to load library \" + url);\n      };\n      console.log(\"Bokeh: injecting script tag for BokehJS library: \", url);\n      document.getElementsByTagName(\"head\")[0].appendChild(s);\n    }\n  };var element = document.getElementById(\"d31a69de-94fe-4053-ba87-097a20c9e5e3\");\n  if (element == null) {\n    console.log(\"Bokeh: ERROR: autoload.js configured with elementid 'd31a69de-94fe-4053-ba87-097a20c9e5e3' but no matching script tag was found. \")\n    return false;\n  }\n\n  var js_urls = [\"https://cdn.pydata.org/bokeh/release/bokeh-0.12.16.min.js\", \"https://cdn.pydata.org/bokeh/release/bokeh-widgets-0.12.16.min.js\", \"https://cdn.pydata.org/bokeh/release/bokeh-tables-0.12.16.min.js\", \"https://cdn.pydata.org/bokeh/release/bokeh-gl-0.12.16.min.js\"];\n\n  var inline_js = [\n    function(Bokeh) {\n      Bokeh.set_log_level(\"info\");\n    },\n    \n    function(Bokeh) {\n      \n    },\n    function(Bokeh) {\n      console.log(\"Bokeh: injecting CSS: https://cdn.pydata.org/bokeh/release/bokeh-0.12.16.min.css\");\n      Bokeh.embed.inject_css(\"https://cdn.pydata.org/bokeh/release/bokeh-0.12.16.min.css\");\n      console.log(\"Bokeh: injecting CSS: https://cdn.pydata.org/bokeh/release/bokeh-widgets-0.12.16.min.css\");\n      Bokeh.embed.inject_css(\"https://cdn.pydata.org/bokeh/release/bokeh-widgets-0.12.16.min.css\");\n      console.log(\"Bokeh: injecting CSS: https://cdn.pydata.org/bokeh/release/bokeh-tables-0.12.16.min.css\");\n      Bokeh.embed.inject_css(\"https://cdn.pydata.org/bokeh/release/bokeh-tables-0.12.16.min.css\");\n    }\n  ];\n\n  function run_inline_js() {\n    \n    if ((root.Bokeh !== undefined) || (force === true)) {\n      for (var i = 0; i < inline_js.length; i++) {\n        inline_js[i].call(root, root.Bokeh);\n      }if (force === true) {\n        display_loaded();\n      }} else if (Date.now() < root._bokeh_timeout) {\n      setTimeout(run_inline_js, 100);\n    } else if (!root._bokeh_failed_load) {\n      console.log(\"Bokeh: BokehJS failed to load within specified timeout.\");\n      root._bokeh_failed_load = true;\n    } else if (force !== true) {\n      var cell = $(document.getElementById(\"d31a69de-94fe-4053-ba87-097a20c9e5e3\")).parents('.cell').data().cell;\n      cell.output_area.append_execute_result(NB_LOAD_WARNING)\n    }\n\n  }\n\n  if (root._bokeh_is_loading === 0) {\n    console.log(\"Bokeh: BokehJS loaded, going straight to plotting\");\n    run_inline_js();\n  } else {\n    load_libs(js_urls, function() {\n      console.log(\"Bokeh: BokehJS plotting callback run at\", now());\n      run_inline_js();\n    });\n  }\n}(window));"
     },
     "metadata": {},
     "output_type": "display_data"
    }
   ],
   "source": [
    "output_notebook()"
   ]
  },
  {
   "cell_type": "code",
   "execution_count": 8,
   "metadata": {
    "collapsed": true
   },
   "outputs": [],
   "source": [
    "def fmt_cool(ds_in):\n",
    "    ds = ds_in.copy(deep=True)\n",
    "    if 'igg' in ds.dims:\n",
    "        ds = ds.sel(igg=1)\n",
    "\n",
    "    if 'g' in ds.dims:\n",
    "        ds = ds.sum('g')\n",
    "            \n",
    "    if 'band' in ds.dims:\n",
    "        try:\n",
    "            ds = ds.squeeze('band')\n",
    "        except ValueError:\n",
    "            ds = ds.sum('band')\n",
    "                \n",
    "    return ds['coolrg']\n",
    "\n",
    "\n",
    "def pltdata_cooling_1(ds_cool=None,\n",
    "                      ds_cool_crd=None, ds_cool_wgt=None):\n",
    "    \n",
    "\n",
    "\n",
    "    colors = all_palettes['Set1'][4]\n",
    "    data = [{'label': 'CLIRAD `coolr_bands`',\n",
    "             'srs': fmt_cool(ds_cool),\n",
    "             'line_dash': 'dashed', 'line_width': 5,\n",
    "             'color': colors[0], 'alpha': .6},\n",
    "            {'label': 'CRD',\n",
    "             'srs': fmt_cool(ds_cool_crd),\n",
    "             'line_dash': 'solid', 'line_width': 1.5,\n",
    "             'marker': 'circle', 'marker_size': 5,\n",
    "             'color': colors[2], 'alpha': 1,},\n",
    "            {'label': 'WGT igg=10 wgt_flux=2',\n",
    "             'srs': fmt_cool(ds_cool_wgt),\n",
    "             'line_dash': 'solid', 'line_width': 3,\n",
    "             'marker': 'square', 'marker_size': 5,\n",
    "             'color': colors[3], 'alpha': .6}]\n",
    "    return data\n",
    "\n",
    "\n",
    "def nice_xlims(pltdata=None, prange=None):\n",
    "    \n",
    "    def get_slice(srs):\n",
    "        return srs.sel(pressure=slice(*prange))\n",
    "    \n",
    "    srss = [d['srs'] for d in pltdata]\n",
    "    vmin = min([get_slice(srs).min() for srs in srss])\n",
    "    vmax = max([get_slice(srs).max() for srs in srss])\n",
    "    dv = (vmax - vmin) * .01\n",
    "    return float(vmin - dv), float(vmax + dv)\n",
    "    \n",
    "\n",
    "def plt_cooling_bokeh(pltdata=None):\n",
    "    '''\n",
    "    Plot a list of cooling rate profiles using bokeh.\n",
    "    '''\n",
    "    ymin = 1e-2 \n",
    "    ymax = 1020 \n",
    "        \n",
    "    p1 = figure(title=\"Linear pressure scale\", \n",
    "                plot_width=400)        \n",
    "    xmin, xmax = nice_xlims(pltdata, prange=(50, 1050))\n",
    "    for d in pltdata:\n",
    "        if 'marker' in d:\n",
    "            getattr(p1, d['marker'])(d['srs'].values, \n",
    "                    d['srs'].coords['pressure'].values,\n",
    "                    color=d['color'], alpha=.7)\n",
    "        p1.line(d['srs'].values, \n",
    "                d['srs'].coords['pressure'].values,\n",
    "                color=d['color'], alpha=d['alpha'], \n",
    "                line_width=d['line_width'], line_dash=d['line_dash'])\n",
    "    \n",
    "    p1.y_range = Range1d(ymax, ymin)\n",
    "    p1.yaxis.axis_label = 'pressure [mb]'   \n",
    "    p1.x_range = Range1d(xmin, xmax)\n",
    "    p1.xaxis.axis_label = 'cooling rate [K/day]'\n",
    "            \n",
    "    p2 = figure(title='Log pressure scale', y_axis_type='log',\n",
    "                plot_width=560)\n",
    "    xmin, xmax = nice_xlims(pltdata, prange=(.01, 200))\n",
    "    \n",
    "    rs = []\n",
    "    for d in pltdata:\n",
    "        rd = []\n",
    "        if 'marker' in d:\n",
    "            r_mark = getattr(p2, d['marker'])(d['srs'].values, \n",
    "                        d['srs'].coords['pressure'].values,\n",
    "                        color=d['color'], alpha=.7)\n",
    "            rd.append(r_mark)\n",
    "        r_line = p2.line(d['srs'].values, \n",
    "                    d['srs'].coords['pressure'].values,\n",
    "                    color=d['color'], alpha=d['alpha'], \n",
    "                    line_width=d['line_width'], line_dash=d['line_dash'])\n",
    "        rd.append(r_line)\n",
    "      \n",
    "        rs.append(rd)\n",
    "        \n",
    "    p2.y_range = Range1d(ymax, ymin)  \n",
    "    p2.yaxis.axis_label = 'pressure [mb]'\n",
    "    \n",
    "    p2.x_range = Range1d(xmin, xmax)\n",
    "    p2.xaxis.axis_label = 'cooling rate [K/day]'\n",
    "    \n",
    "    items = [(d['label'], r) for r, d in zip(rs, pltdata)]\n",
    "    legend = Legend(items=items, location=(10, -30))\n",
    "    legend.label_text_font_size = '8pt'\n",
    "    \n",
    "    p2.add_layout(legend, 'right')  \n",
    "    \n",
    "    show(gridplot(p1, p2, ncols=2, plot_height=500))\n",
    "    \n",
    "\n",
    "def script_plt_cooling():\n",
    "    pltdata = pltdata_cooling_1(\n",
    "        ds_cool=DS_COOL,\n",
    "        ds_cool_crd=DS_COOL_CRD,\n",
    "        ds_cool_wgt=DS_COOL_WGT)\n",
    "    plt_cooling_bokeh(pltdata=pltdata)\n",
    "    print('''FIGURE. Cooling rate profiles.''')"
   ]
  },
  {
   "cell_type": "code",
   "execution_count": 9,
   "metadata": {
    "collapsed": true
   },
   "outputs": [],
   "source": [
    "def fmt_flux(ds_in):\n",
    "    ds = ds_in.copy(deep=True)\n",
    "    \n",
    "    for l in ('level', 'layer'):\n",
    "        if l in ds.data_vars:\n",
    "            if len(ds[l].dims) > 1:\n",
    "                surface = {d: 0 for d in ds.dims if d != 'pressure'}\n",
    "                coord_level = ds[l][surface]\n",
    "                ds.coords[l] = ('pressure', coord_level)\n",
    "            else:\n",
    "                ds.coords[l] = ('pressure', ds[l])\n",
    "        \n",
    "    ds = ds.isel(pressure=[0, 23, -1])\n",
    "        \n",
    "    if 'igg' in ds.dims:\n",
    "        ds = ds.sel(igg=[1])\n",
    "        ds = ds.squeeze('igg').drop('igg')\n",
    "    \n",
    "    if 'g' in ds.dims:\n",
    "        ds = ds.sum('g')\n",
    "            \n",
    "    if 'band' in ds.dims:\n",
    "        try:\n",
    "            ds = ds.squeeze('band').drop('band')\n",
    "        except ValueError:\n",
    "            ds = ds.sum('band')\n",
    "                \n",
    "    df = ds.to_dataframe()\n",
    "    df = df.set_index('level', append=True)               \n",
    "    return df\n",
    "\n",
    "\n",
    "def tbdata_flux(ds_flux=None, ds_flux_crd=None, ds_flux_wgt=None):\n",
    "    ilevels = [0, 23, -1]\n",
    "            \n",
    "    benchmark = {'label': 'CRD',\n",
    "                 'df': fmt_flux(ds_flux_crd)}\n",
    "    \n",
    "    tbs = [{'label': 'WGT igg=10 wgt_flux=1',\n",
    "            'df': fmt_flux(ds_flux_wgt)},\n",
    "           {'label': 'CLIRAD',\n",
    "            'df': fmt_flux(ds_flux)}]\n",
    "    \n",
    "    data = {'benchmark': benchmark, 'others': tbs}\n",
    "    return data\n",
    "\n",
    "\n",
    "def tb_flux(tbdata=None):\n",
    "    benchmark = tbdata['benchmark']\n",
    "    others = tbdata['others']\n",
    "    \n",
    "    def show_tb(d=None):\n",
    "        display.display(d['df'])\n",
    "        print('Table.', 'Fluxes.', d['label'])\n",
    "        \n",
    "    def show_tbdiff(d0=None, d=None):\n",
    "        df = d['df']\n",
    "        df.index = d0['df'].index\n",
    "        display.display(df - d0['df'])\n",
    "        print('Table.', 'Fluxes.', \n",
    "              '({}) - ({})'.format(d['label'], d0['label']))\n",
    "        \n",
    "    show_tb(benchmark)\n",
    "    for d in others:\n",
    "        show_tb(d)\n",
    "        \n",
    "    for d in others:\n",
    "        show_tbdiff(d=d, d0=benchmark)\n",
    "        \n",
    "        \n",
    "def script_tb_flux():\n",
    "    data = tbdata_flux(ds_flux=DS_FLUX,\n",
    "                       ds_flux_crd=DS_FLUX_CRD,\n",
    "                       ds_flux_wgt=DS_FLUX_WGT)\n",
    "    tb_flux(tbdata=data)"
   ]
  },
  {
   "cell_type": "code",
   "execution_count": 10,
   "metadata": {
    "collapsed": true
   },
   "outputs": [],
   "source": [
    "def band_map():\n",
    "    '''\n",
    "    Maps spectral bands in lblnew to spectral bands in clirad.\n",
    "    '''\n",
    "    lblnew2clirad = {'1': '1',\n",
    "            '2': '2',\n",
    "            '3a': '3',\n",
    "            '3b': '4',\n",
    "            '3c': '5',\n",
    "            '4': '6', \n",
    "            '5': '7',\n",
    "            '6': '8',\n",
    "            '7': '9', \n",
    "            '8': '10',\n",
    "            '9': '11'}\n",
    "    \n",
    "    clirad2lblnew = {clirad: lblnew \n",
    "                     for lblnew, clirad in lblnew2clirad.items()}\n",
    "    return clirad2lblnew\n",
    "\n",
    "\n",
    "def gasbands():\n",
    "    bmap = band_map()\n",
    "    gases = list(PARAM['molecule'].keys())\n",
    "    \n",
    "    bands = [bmap[str(b)] for b in PARAM['band']]\n",
    "    return list(itertools.product(gases, bands))\n",
    "\n",
    "\n",
    "def print_bestfit_params():\n",
    "    print('Best-fit values for each (gas, band)')\n",
    "    print('------------------------------------')\n",
    "    for gas, band in gasbands():\n",
    "        print('o {} band{}'.format(gas, band))\n",
    "        param = bestfits.kdist_params(molecule=gas, band=band)\n",
    "        for name, value in sorted(param.items()):\n",
    "            print(2 * ' ' + '{} = {}'.format(name, value))\n",
    "\n",
    "        \n",
    "def print_input_param():        \n",
    "    for name, value in PARAM.items():\n",
    "        print('{} = {}'.format(name, value))\n",
    "        \n",
    "        \n",
    "def print_lblnew_param():\n",
    "    for name, value in sorted(PARAM_LBLNEW.items()):\n",
    "        print('{} = {}'.format(name, value))\n"
   ]
  },
  {
   "cell_type": "code",
   "execution_count": 11,
   "metadata": {
    "collapsed": true,
    "scrolled": false
   },
   "outputs": [],
   "source": [
    "def show_html(s):\n",
    "    display.display(display.HTML(s))\n",
    "\n",
    "    \n",
    "def show_markdown(s):\n",
    "    display.display(display.Markdown(s))\n",
    "\n",
    "    \n",
    "def script():\n",
    "    \n",
    "    title = '### CLIRAD-LW'\n",
    "    s_input = 'Input Parameters'\n",
    "    s_lblnew_param = 'LBLNEW case compaired against'\n",
    "    s_bestfits = 'Best-fit Parameters'\n",
    "    s_plt_cooling = 'Cooling Rate Profiles'\n",
    "    s_tb_flux = 'Flux Comparison'\n",
    "    \n",
    "    # title\n",
    "    show_markdown('### CLIRAD-LW')\n",
    "    \n",
    "    # TOC\n",
    "    show_markdown('### Table of Contents')\n",
    "    show_html(climahtml.getHTML_hrefanchor(s_input))\n",
    "    show_html(climahtml.getHTML_hrefanchor(s_lblnew_param))\n",
    "    show_html(climahtml.getHTML_hrefanchor(s_plt_cooling))\n",
    "    show_html(climahtml.getHTML_hrefanchor(s_tb_flux))\n",
    "    show_html(climahtml.getHTML_hrefanchor(s_bestfits))\n",
    "    \n",
    "    # Input parameters\n",
    "    show_html(climahtml.getHTML_idanchor(s_input))\n",
    "    show_markdown(climahtml.getMarkdown_sectitle(s_input))\n",
    "    print_input_param()\n",
    "    \n",
    "    # LBLNEW parameters \n",
    "    show_html(climahtml.getHTML_idanchor(s_lblnew_param))\n",
    "    show_markdown(climahtml.getMarkdown_sectitle(s_lblnew_param))\n",
    "    print_lblnew_param()\n",
    "    \n",
    "    # Cooling rate profiles\n",
    "    show_html(climahtml.getHTML_idanchor(s_plt_cooling))\n",
    "    show_markdown(climahtml.getMarkdown_sectitle(s_plt_cooling))\n",
    "    script_plt_cooling()\n",
    "    \n",
    "    # Flux comparison\n",
    "    show_html(climahtml.getHTML_idanchor(s_tb_flux))\n",
    "    show_markdown(climahtml.getMarkdown_sectitle(s_tb_flux))\n",
    "    script_tb_flux()\n",
    "    \n",
    "    # Best-fit values\n",
    "    show_html(climahtml.getHTML_idanchor(s_bestfits))\n",
    "    show_markdown(climahtml.getMarkdown_sectitle(s_bestfits))\n",
    "    print_bestfit_params()\n",
    "   \n",
    "    "
   ]
  },
  {
   "cell_type": "code",
   "execution_count": 12,
   "metadata": {
    "collapsed": true,
    "scrolled": false
   },
   "outputs": [
    {
     "data": {
      "text/markdown": [
       "### CLIRAD-LW"
      ],
      "text/plain": [
       "<IPython.core.display.Markdown object>"
      ]
     },
     "metadata": {},
     "output_type": "display_data"
    },
    {
     "data": {
      "text/markdown": [
       "### Table of Contents"
      ],
      "text/plain": [
       "<IPython.core.display.Markdown object>"
      ]
     },
     "metadata": {},
     "output_type": "display_data"
    },
    {
     "data": {
      "text/html": [
       "<a href=\"#Input_Parameters\">Input Parameters</a>"
      ],
      "text/plain": [
       "<IPython.core.display.HTML object>"
      ]
     },
     "metadata": {},
     "output_type": "display_data"
    },
    {
     "data": {
      "text/html": [
       "<a href=\"#LBLNEW_case_compaired_against\">LBLNEW case compaired against</a>"
      ],
      "text/plain": [
       "<IPython.core.display.HTML object>"
      ]
     },
     "metadata": {},
     "output_type": "display_data"
    },
    {
     "data": {
      "text/html": [
       "<a href=\"#Cooling_Rate_Profiles\">Cooling Rate Profiles</a>"
      ],
      "text/plain": [
       "<IPython.core.display.HTML object>"
      ]
     },
     "metadata": {},
     "output_type": "display_data"
    },
    {
     "data": {
      "text/html": [
       "<a href=\"#Flux_Comparison\">Flux Comparison</a>"
      ],
      "text/plain": [
       "<IPython.core.display.HTML object>"
      ]
     },
     "metadata": {},
     "output_type": "display_data"
    },
    {
     "data": {
      "text/html": [
       "<a href=\"#Best-fit_Parameters\">Best-fit Parameters</a>"
      ],
      "text/plain": [
       "<IPython.core.display.HTML object>"
      ]
     },
     "metadata": {},
     "output_type": "display_data"
    },
    {
     "data": {
      "text/html": [
       "<a id=\"Input_Parameters\"></a>"
      ],
      "text/plain": [
       "<IPython.core.display.HTML object>"
      ]
     },
     "metadata": {},
     "output_type": "display_data"
    },
    {
     "data": {
      "text/markdown": [
       "# Input Parameters"
      ],
      "text/plain": [
       "<IPython.core.display.Markdown object>"
      ]
     },
     "metadata": {},
     "output_type": "display_data"
    },
    {
     "name": "stdout",
     "output_type": "stream",
     "text": [
      "commitnumber = de5d43e\n",
      "molecule = {'h2o': 'atmpro', 'co2': 0.0004, 'o3': 'atmpro'}\n",
      "band = [7]\n",
      "atmpro = saw\n",
      "tsfc = 257\n"
     ]
    },
    {
     "data": {
      "text/html": [
       "<a id=\"LBLNEW_case_compaired_against\"></a>"
      ],
      "text/plain": [
       "<IPython.core.display.HTML object>"
      ]
     },
     "metadata": {},
     "output_type": "display_data"
    },
    {
     "data": {
      "text/markdown": [
       "# LBLNEW case compaired against"
      ],
      "text/plain": [
       "<IPython.core.display.Markdown object>"
      ]
     },
     "metadata": {},
     "output_type": "display_data"
    },
    {
     "name": "stdout",
     "output_type": "stream",
     "text": [
      "atmpro = saw\n",
      "band = 5\n",
      "commitnumber = 5014a19\n",
      "dv = 0.001\n",
      "molecule = {'h2o': 'atmpro', 'co2': 0.0004, 'o3': 'atmpro'}\n",
      "nv = 1000\n",
      "tsfc = 257\n"
     ]
    },
    {
     "data": {
      "text/html": [
       "<a id=\"Cooling_Rate_Profiles\"></a>"
      ],
      "text/plain": [
       "<IPython.core.display.HTML object>"
      ]
     },
     "metadata": {},
     "output_type": "display_data"
    },
    {
     "data": {
      "text/markdown": [
       "# Cooling Rate Profiles"
      ],
      "text/plain": [
       "<IPython.core.display.Markdown object>"
      ]
     },
     "metadata": {},
     "output_type": "display_data"
    },
    {
     "data": {
      "text/html": [
       "\n",
       "<div class=\"bk-root\">\n",
       "    <div class=\"bk-plotdiv\" id=\"385ebede-8d4e-4771-ba05-a86f34196a76\"></div>\n",
       "</div>"
      ]
     },
     "metadata": {},
     "output_type": "display_data"
    },
    {
     "data": {
      "application/javascript": [
       "(function(root) {\n",
       "  function embed_document(root) {\n",
       "    \n",
       "  var docs_json = {\"a71e8601-3645-4f2d-922a-cdb0c08d93ad\":{\"roots\":{\"references\":[{\"attributes\":{\"callback\":null,\"end\":0.01,\"start\":1020},\"id\":\"d7cab585-d9a0-46c9-aec0-5829165f81af\",\"type\":\"Range1d\"},{\"attributes\":{\"data_source\":{\"id\":\"662350c7-5cf8-4ddc-a0fa-93b11ae9a63c\",\"type\":\"ColumnDataSource\"},\"glyph\":{\"id\":\"bd220bc4-a08f-4c40-af1c-c66ac8b541d2\",\"type\":\"Line\"},\"hover_glyph\":null,\"muted_glyph\":null,\"nonselection_glyph\":{\"id\":\"f0b4415f-a4b3-4253-974c-98dac8bd8f47\",\"type\":\"Line\"},\"selection_glyph\":null,\"view\":{\"id\":\"c48eff49-6604-4315-9fb9-6fc2f72fda09\",\"type\":\"CDSView\"}},\"id\":\"68227bc5-812c-458a-b8e3-1f2be207e22c\",\"type\":\"GlyphRenderer\"},{\"attributes\":{},\"id\":\"06651939-65fc-4e81-adb7-a31629691c2f\",\"type\":\"BasicTicker\"},{\"attributes\":{\"axis_label\":\"pressure [mb]\",\"formatter\":{\"id\":\"279ed7f9-f26d-47f9-917d-a44f0cad04d8\",\"type\":\"LogTickFormatter\"},\"plot\":{\"id\":\"5af8ff9a-f493-4836-8c4f-a8056e6ca566\",\"subtype\":\"Figure\",\"type\":\"Plot\"},\"ticker\":{\"id\":\"1bfd8024-9d79-4798-bdfe-5defdb56bb38\",\"type\":\"LogTicker\"}},\"id\":\"ee0b26fa-6bc6-4816-9a16-4915d524159c\",\"type\":\"LogAxis\"},{\"attributes\":{\"line_alpha\":0.1,\"line_color\":\"#1f77b4\",\"line_dash\":[6],\"line_width\":5,\"x\":{\"field\":\"x\"},\"y\":{\"field\":\"y\"}},\"id\":\"753677dc-3e3b-4813-afc5-7096ab49cf86\",\"type\":\"Line\"},{\"attributes\":{\"source\":{\"id\":\"d0b1067c-0a3f-44f8-85ef-bb618bba8e87\",\"type\":\"ColumnDataSource\"}},\"id\":\"a0437f97-f327-4a8a-8126-6489142efb39\",\"type\":\"CDSView\"},{\"attributes\":{\"num_minor_ticks\":10},\"id\":\"1bfd8024-9d79-4798-bdfe-5defdb56bb38\",\"type\":\"LogTicker\"},{\"attributes\":{\"line_alpha\":0.1,\"line_color\":\"#1f77b4\",\"line_width\":3,\"x\":{\"field\":\"x\"},\"y\":{\"field\":\"y\"}},\"id\":\"14018b6f-b687-451f-a86b-461c01b854b0\",\"type\":\"Line\"},{\"attributes\":{},\"id\":\"81eed8ae-4be7-47e5-8951-829a596244f9\",\"type\":\"HelpTool\"},{\"attributes\":{\"dimension\":1,\"plot\":{\"id\":\"5af8ff9a-f493-4836-8c4f-a8056e6ca566\",\"subtype\":\"Figure\",\"type\":\"Plot\"},\"ticker\":{\"id\":\"1bfd8024-9d79-4798-bdfe-5defdb56bb38\",\"type\":\"LogTicker\"}},\"id\":\"c02ac7cb-4f43-4938-bb96-3b555410a46a\",\"type\":\"Grid\"},{\"attributes\":{\"bottom_units\":\"screen\",\"fill_alpha\":{\"value\":0.5},\"fill_color\":{\"value\":\"lightgrey\"},\"left_units\":\"screen\",\"level\":\"overlay\",\"line_alpha\":{\"value\":1.0},\"line_color\":{\"value\":\"black\"},\"line_dash\":[4,4],\"line_width\":{\"value\":2},\"plot\":null,\"render_mode\":\"css\",\"right_units\":\"screen\",\"top_units\":\"screen\"},\"id\":\"91c9a75c-16d6-49cb-a127-ca8201ecbff5\",\"type\":\"BoxAnnotation\"},{\"attributes\":{},\"id\":\"49c9a279-ead1-4bfe-b2ec-5d7b1f04e41c\",\"type\":\"PanTool\"},{\"attributes\":{},\"id\":\"62864fdd-d216-4b5a-a853-71e623dba096\",\"type\":\"WheelZoomTool\"},{\"attributes\":{\"overlay\":{\"id\":\"899875d8-d5f2-4097-874a-1f9366ac2144\",\"type\":\"BoxAnnotation\"}},\"id\":\"6b886aa4-b64a-45d3-ba75-b0d7d175128b\",\"type\":\"BoxZoomTool\"},{\"attributes\":{\"overlay\":{\"id\":\"91c9a75c-16d6-49cb-a127-ca8201ecbff5\",\"type\":\"BoxAnnotation\"}},\"id\":\"c19268b0-21b8-489b-88b5-d2559cf7bfaf\",\"type\":\"BoxZoomTool\"},{\"attributes\":{\"callback\":null,\"data\":{\"x\":{\"__ndarray__\":\"/PcO7ja+lr+yn/WLOryXv5hbZoAnB5e/n+xUY4Mxkr+PmYokKGSBv61heS5QbXg/WLRzeffwmj+GW3g9HE2rPx0010PdgrY/TojSQQvHwD+VY9PG6GvHP47W5jkBUc8/Gu3hYKlN1D/kaRqQlF/bPwD6ZGJG+uI//cys55wm6T9p2ouJSc/vPyw7Ds2GZvM/4FxoUxr29j+CixU1mIb6P0nuVdBZ6/0/jMunfSkS/z+oM5zXfcz6PzRBecSNoPQ/Wux6kgkS7z8xjtt5LEfmP1bNe7UGY94/Pz3wEEoI1T+2Bdce7lHPP8Os5Qj4Occ/0FaxOmozwD96bC6rbn2yP9oaU6hVkaM/RIaX2GO/lj8gUA1m2bRuv3mdmOvwtKK/icbiUCK2sL8T26CgWwK2v/639UfW6bm/SjlGTx3tvL+FIkD65DC8v+WVLYoF27i/S09OcI6Ttb92QhrbjM+xv8oM85wvIay/Jr+/7XtnpL8GmCwAI+6bv9Gr/JCJJJS/7t25DAwUjb8c85NRuc6Dv/aOSpWXYXi/J+gTVjpBar/0Ui35CphRv8LOTydjQ00/yc0Tt2GHZj8wfBPuTX9yP971ElVKV3k/UzgunhvFfz/BAoGW+u6CP3DBY4kYwIU/bEMy1a1NiD8H8x8e/qSKP49uHGLQyow/c/JkL8Kxjj9xw2ltjDCQP1vo+byq/5A/myPNTQvGkT9OEahK0GmSP6d/67hRzJI/39JVrZHMkj+e/44QNFKSP61MUV7GdZE/LmEC8ZlwkD8xj3HPN8WOPyfvuOgxuIw/\",\"dtype\":\"float64\",\"shape\":[75]},\"y\":{\"__ndarray__\":\"GhExyth1ND/Sv8nbtpRIP2vylNV0PVE/aTum7souWD/At0SJ8fVgPw3Iuahxymc/MSNhhJWvcD/bTfBN02d3P2zb5nxnaoA/CD5h5MAGhz8NmeH1TyaQP+zrCsc9p5Y/LbKd76fGnz/bLW5ISEmmPww9YvTcQq8/JV2OstnstT8Er5Y7M8G+P0c+r3jqkcU/5h99k6ZBzj88bCIzFzjVP4enV8oyxN0//yH99nXg5D8qOpLLf0jtP5kqGJXUifQ/c9cS8kHP/D+/DpwzojQEQIEmwoanVwxA4lgXt9HgE0BSSZ2AJuIbQAMJih9jjiNA5q4l5INuK0AwTKYKRj0zQNv5fmq8/DpAaCJseHrtQkB/+zpwzoxKQM3MzMzMeFJAZmZmZmZqWEAAAAAAAFxeQM3MzMzMJmJAmpmZmZkfZUBmZmZmZhhoQDMzMzMzEWtAAAAAAAAKbkBmZmZmZoFwQM3MzMzM/XFAMzMzMzN6c0CamZmZmfZ0QAAAAAAAc3ZAZmZmZmbvd0DNzMzMzGt5QDMzMzMz6HpAmpmZmZlkfEAAAAAAAOF9QGZmZmZmXX9AZmZmZuZsgECamZmZGSuBQM3MzMxM6YFAAAAAAICngkAzMzMzs2WDQGZmZmbmI4RAmpmZmRnihEDNzMzMTKCFQAAAAACAXoZAMzMzM7Mch0BmZmZm5tqHQJqZmZkZmYhAzczMzExXiUAAAAAAgBWKQDMzMzOz04pAZmZmZuaRi0CamZmZGVCMQM3MzMxMDo1AAAAAAIDMjUAzMzMzs4qOQGZmZmbmSI9A\",\"dtype\":\"float64\",\"shape\":[75]}},\"selected\":{\"id\":\"697118df-86d0-47b1-809b-703d796c1e5f\",\"type\":\"Selection\"},\"selection_policy\":{\"id\":\"cd22f824-2a58-4587-a284-de1983f6fca9\",\"type\":\"UnionRenderers\"}},\"id\":\"8de6c6e8-5d99-4b78-abef-6b9c3e1e52b1\",\"type\":\"ColumnDataSource\"},{\"attributes\":{\"callback\":null,\"data\":{\"x\":{\"__ndarray__\":\"8BoIip7ikL8DBG47P1WRvwwawHwuKpC/zpI/mfgDh78NEi7dDthnv3hXS69F+oM/9m5/cDYEnD/Kh3qjUd+pPwjy11djeLQ/5yuzzhnNvT+PcaS3aJbEP/d5KcgRY8s/0uOUDEKx0T9T2/qnI9nXP0BdD+wZnuA/GKtyRjk95j91ugOnBIXsP1WUXA9wsvE/DMeYYN1d9T8X6lUJuy35P749vnPe1fw/jxpuG6F6/j/8XenGBdH6P6gRn+AHjPQ/P+Eu8wT/7T/mpWrUpt7kP6BXdqDS8ds/cpZIWAo30z+V7BollrHNP0dMeULp6sY/nt/FNR2FwD++u6zBr5yzP3l7euaRsaU/fuBaiDZJmT+iqI0dHaZgvz3fRxxPV6K/K4fh5v4xsb9ruWNMIkS3v5zx6Aytyru/yRaTSOwkv79kR/ztXxe+v82JJBfvCbq/5XVkr+4Ntr/UcoYz1raxv4v9ROn7Pqu/V0HFnmFdo7+o9WUGfSuav8StSG1erJK/WXTeCzuoir9JU6w22eiBv6X7bvfIn3W/HMdhSopqZr/IJ8hiaNhIv835VFd/eVE/MwKjdC3GZj/n2kwL+xJyP28bpY73ang/4AntgFpxfj/26o/rgBaCPwYXFM66u4Q/LSB6czQehz8hBL6EBVWJP5+7Wne+Yos/r0YTe6o7jT8GAyh2z+KOPw8u5cg/PZA/UVuNZhH8kD+a7d/8U5iRP+cPQkow+JE/LOkPahL+kT88VRkhl5ORP+B4+uXszZA/wN/wAQi/jz9lSJREls+NPyvzY4eJ6os/\",\"dtype\":\"float64\",\"shape\":[75]},\"y\":{\"__ndarray__\":\"S/O/Q+51ND/Sv8nbtpRIP2vylNV0PVE/aTum7souWD/At0SJ8fVgPw3Iuahxymc/MSNhhJWvcD/bTfBN02d3P2zb5nxnaoA/CD5h5MAGhz8NmeH1TyaQP+zrCsc9p5Y/LbKd76fGnz/bLW5ISEmmPww9YvTcQq8/JV2OstnstT8Er5Y7M8G+P0c+r3jqkcU/5h99k6ZBzj88bCIzFzjVP4enV8oyxN0//yH99nXg5D8qOpLLf0jtP5kqGJXUifQ/c9cS8kHP/D+/DpwzojQEQIEmwoanVwxA4lgXt9HgE0BSSZ2AJuIbQAMJih9jjiNA5q4l5INuK0AwTKYKRj0zQNv5fmq8/DpAaCJseHrtQkB/+zpwzoxKQM3MzMzMeFJAZmZmZmZqWEAAAAAAAFxeQM3MzMzMJmJAmpmZmZkfZUBmZmZmZhhoQDMzMzMzEWtAAAAAAAAKbkBmZmZmZoFwQM3MzMzM/XFAMzMzMzN6c0CamZmZmfZ0QAAAAAAAc3ZAZmZmZmbvd0DNzMzMzGt5QDMzMzMz6HpAmpmZmZlkfEAAAAAAAOF9QGZmZmZmXX9AZmZmZuZsgECamZmZGSuBQM3MzMxM6YFAAAAAAICngkAzMzMzs2WDQGZmZmbmI4RAmpmZmRnihEDNzMzMTKCFQAAAAACAXoZAMzMzM7Mch0BmZmZm5tqHQJqZmZkZmYhAzczMzExXiUAAAAAAgBWKQDMzMzOz04pAZmZmZuaRi0CamZmZGVCMQM3MzMxMDo1AAAAAAIDMjUAzMzMzs4qOQGZmZmbmSI9A\",\"dtype\":\"float64\",\"shape\":[75]}},\"selected\":{\"id\":\"64f86784-8abd-4852-9797-8376a022ea73\",\"type\":\"Selection\"},\"selection_policy\":{\"id\":\"62446c1b-37d6-4beb-8ab4-a7f28fbb805a\",\"type\":\"UnionRenderers\"}},\"id\":\"10e94e07-3c3f-44e3-8770-16a5c154f0fa\",\"type\":\"ColumnDataSource\"},{\"attributes\":{},\"id\":\"a7961fc5-c969-4936-a791-287fb51b3b7c\",\"type\":\"SaveTool\"},{\"attributes\":{\"callback\":null,\"data\":{\"x\":{\"__ndarray__\":\"GnWEPh4bnb/Kl48lJZ2ev+6fsXP2dZ6/WjqYrfKNmb+DxZ+w3aCOv6DF5+cHPU8/WUVS514bmD/kseAqwXWrPxPIrcg2kLc/VxOXJTLawT/9Nt0VbjfJP9feZY7++tA/ZtuKeS0T1j+MEctencDdP2riFW8BlOQ/weVOPKkn6z+GRsGdVRDxPzTcgM8Po/Q/P/0MFB0u+D/WkX5W9KL7P1ECrJ9I4f4/hH07iQif/z+os+56xKP6P+7gFuJHC/Q/RNa/kHq07T++uYXPUsnkP2Q8rU/3Sds/gt243pk90j8MjvWBogHLP6TynwMFPcQ/Daft2yDFvD9Pvid2N8awP6n+L0GHpaI/j1qgXqLalz9EDvkzZWA/v57GfpXKe5+/14pKq6DwrL/qnVhHWEuzv7TKUSK3Fre/ScYgZuVNur+OBYVBmUa6v9W/mOs8w7e/D/tJJO0gtb91zxUAPtOxv6YROLT2rqy/eHgCc4oUpb/97AgmhRmdv0euxtK6H5W/nA6zg4nAjr/P/zHI6y6FvyQRfaJiiHq/VowDiPOSbb+fFCxc9u5WvyPJh34LzEQ/E0aMxrX0ZD9KOyP9fvlxP4xFJ9lXD3k/6aiZKNi8fz9qsq1EswKDPx9N44FC6YU/82AMXlSIiD+mUKZpAe6KP3MTlCbOH40/CLXSsIcSjz+SB55SkGWQP21ga+njN5E/yrE+45cBkj8+P/msTKeSPxyuJGXKCJM/eb2yDQcCkz9QkuOLTHmSP4z154TLiJE/kF1dpgpskD9CFmyarI6OP/Vzt6mJV4w/\",\"dtype\":\"float64\",\"shape\":[75]},\"y\":{\"__ndarray__\":\"GhExyth1ND/Sv8nbtpRIP2vylNV0PVE/aTum7souWD/At0SJ8fVgPw3Iuahxymc/MSNhhJWvcD/bTfBN02d3P2zb5nxnaoA/CD5h5MAGhz8NmeH1TyaQP+zrCsc9p5Y/LbKd76fGnz/bLW5ISEmmPww9YvTcQq8/JV2OstnstT8Er5Y7M8G+P0c+r3jqkcU/5h99k6ZBzj88bCIzFzjVP4enV8oyxN0//yH99nXg5D8qOpLLf0jtP5kqGJXUifQ/c9cS8kHP/D+/DpwzojQEQIEmwoanVwxA4lgXt9HgE0BSSZ2AJuIbQAMJih9jjiNA5q4l5INuK0AwTKYKRj0zQNv5fmq8/DpAaCJseHrtQkB/+zpwzoxKQM3MzMzMeFJAZmZmZmZqWEAAAAAAAFxeQM3MzMzMJmJAmpmZmZkfZUBmZmZmZhhoQDMzMzMzEWtAAAAAAAAKbkBmZmZmZoFwQM3MzMzM/XFAMzMzMzN6c0CamZmZmfZ0QAAAAAAAc3ZAZmZmZmbvd0DNzMzMzGt5QDMzMzMz6HpAmpmZmZlkfEAAAAAAAOF9QGZmZmZmXX9AZmZmZuZsgECamZmZGSuBQM3MzMxM6YFAAAAAAICngkAzMzMzs2WDQGZmZmbmI4RAmpmZmRnihEDNzMzMTKCFQAAAAACAXoZAMzMzM7Mch0BmZmZm5tqHQJqZmZkZmYhAzczMzExXiUAAAAAAgBWKQDMzMzOz04pAZmZmZuaRi0CamZmZGVCMQM3MzMxMDo1AAAAAAIDMjUAzMzMzs4qOQGZmZmbmSI9A\",\"dtype\":\"float64\",\"shape\":[75]}},\"selected\":{\"id\":\"501063b9-353c-41e1-b3f5-9d2f492c4c42\",\"type\":\"Selection\"},\"selection_policy\":{\"id\":\"10bc9c67-de07-44bd-8799-f8a59477d902\",\"type\":\"UnionRenderers\"}},\"id\":\"d0b1067c-0a3f-44f8-85ef-bb618bba8e87\",\"type\":\"ColumnDataSource\"},{\"attributes\":{\"callback\":null,\"data\":{\"x\":{\"__ndarray__\":\"GnWEPh4bnb/Kl48lJZ2ev+6fsXP2dZ6/WjqYrfKNmb+DxZ+w3aCOv6DF5+cHPU8/WUVS514bmD/kseAqwXWrPxPIrcg2kLc/VxOXJTLawT/9Nt0VbjfJP9feZY7++tA/ZtuKeS0T1j+MEctencDdP2riFW8BlOQ/weVOPKkn6z+GRsGdVRDxPzTcgM8Po/Q/P/0MFB0u+D/WkX5W9KL7P1ECrJ9I4f4/hH07iQif/z+os+56xKP6P+7gFuJHC/Q/RNa/kHq07T++uYXPUsnkP2Q8rU/3Sds/gt243pk90j8MjvWBogHLP6TynwMFPcQ/Daft2yDFvD9Pvid2N8awP6n+L0GHpaI/j1qgXqLalz9EDvkzZWA/v57GfpXKe5+/14pKq6DwrL/qnVhHWEuzv7TKUSK3Fre/ScYgZuVNur+OBYVBmUa6v9W/mOs8w7e/D/tJJO0gtb91zxUAPtOxv6YROLT2rqy/eHgCc4oUpb/97AgmhRmdv0euxtK6H5W/nA6zg4nAjr/P/zHI6y6FvyQRfaJiiHq/VowDiPOSbb+fFCxc9u5WvyPJh34LzEQ/E0aMxrX0ZD9KOyP9fvlxP4xFJ9lXD3k/6aiZKNi8fz9qsq1EswKDPx9N44FC6YU/82AMXlSIiD+mUKZpAe6KP3MTlCbOH40/CLXSsIcSjz+SB55SkGWQP21ga+njN5E/yrE+45cBkj8+P/msTKeSPxyuJGXKCJM/eb2yDQcCkz9QkuOLTHmSP4z154TLiJE/kF1dpgpskD9CFmyarI6OP/Vzt6mJV4w/\",\"dtype\":\"float64\",\"shape\":[75]},\"y\":{\"__ndarray__\":\"GhExyth1ND/Sv8nbtpRIP2vylNV0PVE/aTum7souWD/At0SJ8fVgPw3Iuahxymc/MSNhhJWvcD/bTfBN02d3P2zb5nxnaoA/CD5h5MAGhz8NmeH1TyaQP+zrCsc9p5Y/LbKd76fGnz/bLW5ISEmmPww9YvTcQq8/JV2OstnstT8Er5Y7M8G+P0c+r3jqkcU/5h99k6ZBzj88bCIzFzjVP4enV8oyxN0//yH99nXg5D8qOpLLf0jtP5kqGJXUifQ/c9cS8kHP/D+/DpwzojQEQIEmwoanVwxA4lgXt9HgE0BSSZ2AJuIbQAMJih9jjiNA5q4l5INuK0AwTKYKRj0zQNv5fmq8/DpAaCJseHrtQkB/+zpwzoxKQM3MzMzMeFJAZmZmZmZqWEAAAAAAAFxeQM3MzMzMJmJAmpmZmZkfZUBmZmZmZhhoQDMzMzMzEWtAAAAAAAAKbkBmZmZmZoFwQM3MzMzM/XFAMzMzMzN6c0CamZmZmfZ0QAAAAAAAc3ZAZmZmZmbvd0DNzMzMzGt5QDMzMzMz6HpAmpmZmZlkfEAAAAAAAOF9QGZmZmZmXX9AZmZmZuZsgECamZmZGSuBQM3MzMxM6YFAAAAAAICngkAzMzMzs2WDQGZmZmbmI4RAmpmZmRnihEDNzMzMTKCFQAAAAACAXoZAMzMzM7Mch0BmZmZm5tqHQJqZmZkZmYhAzczMzExXiUAAAAAAgBWKQDMzMzOz04pAZmZmZuaRi0CamZmZGVCMQM3MzMxMDo1AAAAAAIDMjUAzMzMzs4qOQGZmZmbmSI9A\",\"dtype\":\"float64\",\"shape\":[75]}},\"selected\":{\"id\":\"c42d4e06-4b47-4fc1-9e23-1b8320bc8f86\",\"type\":\"Selection\"},\"selection_policy\":{\"id\":\"b114d86e-5781-4d09-a997-7ebbeb9f87a6\",\"type\":\"UnionRenderers\"}},\"id\":\"e4a82752-9b85-4694-aa67-77ce6eaa0d38\",\"type\":\"ColumnDataSource\"},{\"attributes\":{},\"id\":\"58769f63-4d29-4077-8f81-60a294fcbaf7\",\"type\":\"HelpTool\"},{\"attributes\":{},\"id\":\"bef91698-7def-4a27-83ca-2671bdcb4500\",\"type\":\"SaveTool\"},{\"attributes\":{\"callback\":null,\"data\":{\"x\":{\"__ndarray__\":\"GnWEPh4bnb/Kl48lJZ2ev+6fsXP2dZ6/WjqYrfKNmb+DxZ+w3aCOv6DF5+cHPU8/WUVS514bmD/kseAqwXWrPxPIrcg2kLc/VxOXJTLawT/9Nt0VbjfJP9feZY7++tA/ZtuKeS0T1j+MEctencDdP2riFW8BlOQ/weVOPKkn6z+GRsGdVRDxPzTcgM8Po/Q/P/0MFB0u+D/WkX5W9KL7P1ECrJ9I4f4/hH07iQif/z+os+56xKP6P+7gFuJHC/Q/RNa/kHq07T++uYXPUsnkP2Q8rU/3Sds/gt243pk90j8MjvWBogHLP6TynwMFPcQ/Daft2yDFvD9Pvid2N8awP6n+L0GHpaI/j1qgXqLalz9EDvkzZWA/v57GfpXKe5+/14pKq6DwrL/qnVhHWEuzv7TKUSK3Fre/ScYgZuVNur+OBYVBmUa6v9W/mOs8w7e/D/tJJO0gtb91zxUAPtOxv6YROLT2rqy/eHgCc4oUpb/97AgmhRmdv0euxtK6H5W/nA6zg4nAjr/P/zHI6y6FvyQRfaJiiHq/VowDiPOSbb+fFCxc9u5WvyPJh34LzEQ/E0aMxrX0ZD9KOyP9fvlxP4xFJ9lXD3k/6aiZKNi8fz9qsq1EswKDPx9N44FC6YU/82AMXlSIiD+mUKZpAe6KP3MTlCbOH40/CLXSsIcSjz+SB55SkGWQP21ga+njN5E/yrE+45cBkj8+P/msTKeSPxyuJGXKCJM/eb2yDQcCkz9QkuOLTHmSP4z154TLiJE/kF1dpgpskD9CFmyarI6OP/Vzt6mJV4w/\",\"dtype\":\"float64\",\"shape\":[75]},\"y\":{\"__ndarray__\":\"GhExyth1ND/Sv8nbtpRIP2vylNV0PVE/aTum7souWD/At0SJ8fVgPw3Iuahxymc/MSNhhJWvcD/bTfBN02d3P2zb5nxnaoA/CD5h5MAGhz8NmeH1TyaQP+zrCsc9p5Y/LbKd76fGnz/bLW5ISEmmPww9YvTcQq8/JV2OstnstT8Er5Y7M8G+P0c+r3jqkcU/5h99k6ZBzj88bCIzFzjVP4enV8oyxN0//yH99nXg5D8qOpLLf0jtP5kqGJXUifQ/c9cS8kHP/D+/DpwzojQEQIEmwoanVwxA4lgXt9HgE0BSSZ2AJuIbQAMJih9jjiNA5q4l5INuK0AwTKYKRj0zQNv5fmq8/DpAaCJseHrtQkB/+zpwzoxKQM3MzMzMeFJAZmZmZmZqWEAAAAAAAFxeQM3MzMzMJmJAmpmZmZkfZUBmZmZmZhhoQDMzMzMzEWtAAAAAAAAKbkBmZmZmZoFwQM3MzMzM/XFAMzMzMzN6c0CamZmZmfZ0QAAAAAAAc3ZAZmZmZmbvd0DNzMzMzGt5QDMzMzMz6HpAmpmZmZlkfEAAAAAAAOF9QGZmZmZmXX9AZmZmZuZsgECamZmZGSuBQM3MzMxM6YFAAAAAAICngkAzMzMzs2WDQGZmZmbmI4RAmpmZmRnihEDNzMzMTKCFQAAAAACAXoZAMzMzM7Mch0BmZmZm5tqHQJqZmZkZmYhAzczMzExXiUAAAAAAgBWKQDMzMzOz04pAZmZmZuaRi0CamZmZGVCMQM3MzMxMDo1AAAAAAIDMjUAzMzMzs4qOQGZmZmbmSI9A\",\"dtype\":\"float64\",\"shape\":[75]}},\"selected\":{\"id\":\"6ae7869d-4b0f-4d0d-9c28-f1d6d8656f35\",\"type\":\"Selection\"},\"selection_policy\":{\"id\":\"fd278136-785a-4674-97cd-19e5bd54c215\",\"type\":\"UnionRenderers\"}},\"id\":\"61380d11-5777-4748-9ffb-5ed3fe025dfc\",\"type\":\"ColumnDataSource\"},{\"attributes\":{},\"id\":\"c14d8c0c-8367-4f34-9dc2-c4a158d4991b\",\"type\":\"ResetTool\"},{\"attributes\":{},\"id\":\"169a4972-d70c-46c2-9fc7-a59c93a6d6ac\",\"type\":\"ResetTool\"},{\"attributes\":{},\"id\":\"fd91fc0e-602a-45f6-8426-3dc0f19f0778\",\"type\":\"WheelZoomTool\"},{\"attributes\":{},\"id\":\"6b3e232a-8b87-4495-bbcf-dcc705ea3b79\",\"type\":\"PanTool\"},{\"attributes\":{\"fill_alpha\":{\"value\":0.1},\"fill_color\":{\"value\":\"#1f77b4\"},\"line_alpha\":{\"value\":0.1},\"line_color\":{\"value\":\"#1f77b4\"},\"x\":{\"field\":\"x\"},\"y\":{\"field\":\"y\"}},\"id\":\"fbe06e8f-6750-411c-9503-1c515d520160\",\"type\":\"Square\"},{\"attributes\":{\"line_alpha\":0.1,\"line_color\":\"#1f77b4\",\"line_width\":3,\"x\":{\"field\":\"x\"},\"y\":{\"field\":\"y\"}},\"id\":\"f0b4415f-a4b3-4253-974c-98dac8bd8f47\",\"type\":\"Line\"},{\"attributes\":{\"fill_alpha\":{\"value\":0.7},\"fill_color\":{\"value\":\"#4daf4a\"},\"line_alpha\":{\"value\":0.7},\"line_color\":{\"value\":\"#4daf4a\"},\"x\":{\"field\":\"x\"},\"y\":{\"field\":\"y\"}},\"id\":\"c724ee82-2d35-446b-a33d-a9390ebcc65c\",\"type\":\"Circle\"},{\"attributes\":{\"source\":{\"id\":\"8de6c6e8-5d99-4b78-abef-6b9c3e1e52b1\",\"type\":\"ColumnDataSource\"}},\"id\":\"33169210-1b52-4a89-8c89-9f76c8c9e114\",\"type\":\"CDSView\"},{\"attributes\":{\"line_alpha\":0.1,\"line_color\":\"#1f77b4\",\"line_dash\":[6],\"line_width\":5,\"x\":{\"field\":\"x\"},\"y\":{\"field\":\"y\"}},\"id\":\"8064ce53-5284-4fbc-86b7-a197769e1324\",\"type\":\"Line\"},{\"attributes\":{\"axis_label\":\"cooling rate [K/day]\",\"formatter\":{\"id\":\"bab8d155-66f4-4b69-bc08-2ffde8872a24\",\"type\":\"BasicTickFormatter\"},\"plot\":{\"id\":\"5af8ff9a-f493-4836-8c4f-a8056e6ca566\",\"subtype\":\"Figure\",\"type\":\"Plot\"},\"ticker\":{\"id\":\"06651939-65fc-4e81-adb7-a31629691c2f\",\"type\":\"BasicTicker\"}},\"id\":\"10ed74b9-2be6-4b74-8f6b-5d430d2963dc\",\"type\":\"LinearAxis\"},{\"attributes\":{\"plot\":null,\"text\":\"Linear pressure scale\"},\"id\":\"c6a3cb89-5fa2-46e9-8118-005eb4dfaf8d\",\"type\":\"Title\"},{\"attributes\":{\"callback\":null,\"data\":{\"x\":{\"__ndarray__\":\"8BoIip7ikL8DBG47P1WRvwwawHwuKpC/zpI/mfgDh78NEi7dDthnv3hXS69F+oM/9m5/cDYEnD/Kh3qjUd+pPwjy11djeLQ/5yuzzhnNvT+PcaS3aJbEP/d5KcgRY8s/0uOUDEKx0T9T2/qnI9nXP0BdD+wZnuA/GKtyRjk95j91ugOnBIXsP1WUXA9wsvE/DMeYYN1d9T8X6lUJuy35P749vnPe1fw/jxpuG6F6/j/8XenGBdH6P6gRn+AHjPQ/P+Eu8wT/7T/mpWrUpt7kP6BXdqDS8ds/cpZIWAo30z+V7BollrHNP0dMeULp6sY/nt/FNR2FwD++u6zBr5yzP3l7euaRsaU/fuBaiDZJmT+iqI0dHaZgvz3fRxxPV6K/K4fh5v4xsb9ruWNMIkS3v5zx6Aytyru/yRaTSOwkv79kR/ztXxe+v82JJBfvCbq/5XVkr+4Ntr/UcoYz1raxv4v9ROn7Pqu/V0HFnmFdo7+o9WUGfSuav8StSG1erJK/WXTeCzuoir9JU6w22eiBv6X7bvfIn3W/HMdhSopqZr/IJ8hiaNhIv835VFd/eVE/MwKjdC3GZj/n2kwL+xJyP28bpY73ang/4AntgFpxfj/26o/rgBaCPwYXFM66u4Q/LSB6czQehz8hBL6EBVWJP5+7Wne+Yos/r0YTe6o7jT8GAyh2z+KOPw8u5cg/PZA/UVuNZhH8kD+a7d/8U5iRP+cPQkow+JE/LOkPahL+kT88VRkhl5ORP+B4+uXszZA/wN/wAQi/jz9lSJREls+NPyvzY4eJ6os/\",\"dtype\":\"float64\",\"shape\":[75]},\"y\":{\"__ndarray__\":\"S/O/Q+51ND/Sv8nbtpRIP2vylNV0PVE/aTum7souWD/At0SJ8fVgPw3Iuahxymc/MSNhhJWvcD/bTfBN02d3P2zb5nxnaoA/CD5h5MAGhz8NmeH1TyaQP+zrCsc9p5Y/LbKd76fGnz/bLW5ISEmmPww9YvTcQq8/JV2OstnstT8Er5Y7M8G+P0c+r3jqkcU/5h99k6ZBzj88bCIzFzjVP4enV8oyxN0//yH99nXg5D8qOpLLf0jtP5kqGJXUifQ/c9cS8kHP/D+/DpwzojQEQIEmwoanVwxA4lgXt9HgE0BSSZ2AJuIbQAMJih9jjiNA5q4l5INuK0AwTKYKRj0zQNv5fmq8/DpAaCJseHrtQkB/+zpwzoxKQM3MzMzMeFJAZmZmZmZqWEAAAAAAAFxeQM3MzMzMJmJAmpmZmZkfZUBmZmZmZhhoQDMzMzMzEWtAAAAAAAAKbkBmZmZmZoFwQM3MzMzM/XFAMzMzMzN6c0CamZmZmfZ0QAAAAAAAc3ZAZmZmZmbvd0DNzMzMzGt5QDMzMzMz6HpAmpmZmZlkfEAAAAAAAOF9QGZmZmZmXX9AZmZmZuZsgECamZmZGSuBQM3MzMxM6YFAAAAAAICngkAzMzMzs2WDQGZmZmbmI4RAmpmZmRnihEDNzMzMTKCFQAAAAACAXoZAMzMzM7Mch0BmZmZm5tqHQJqZmZkZmYhAzczMzExXiUAAAAAAgBWKQDMzMzOz04pAZmZmZuaRi0CamZmZGVCMQM3MzMxMDo1AAAAAAIDMjUAzMzMzs4qOQGZmZmbmSI9A\",\"dtype\":\"float64\",\"shape\":[75]}},\"selected\":{\"id\":\"7f1f213d-11f5-4aaf-a0be-e9028b745784\",\"type\":\"Selection\"},\"selection_policy\":{\"id\":\"303485ba-7921-4067-bb3c-c762f9f4ea62\",\"type\":\"UnionRenderers\"}},\"id\":\"7fbc888f-ac33-4419-88e2-40afb17fde19\",\"type\":\"ColumnDataSource\"},{\"attributes\":{\"callback\":null,\"end\":0.01,\"start\":1020},\"id\":\"8c3ac269-b424-4af5-8890-574207922af0\",\"type\":\"Range1d\"},{\"attributes\":{\"data_source\":{\"id\":\"8de6c6e8-5d99-4b78-abef-6b9c3e1e52b1\",\"type\":\"ColumnDataSource\"},\"glyph\":{\"id\":\"b0287a17-19ee-4a7a-aa8a-c33e459bcac1\",\"type\":\"Square\"},\"hover_glyph\":null,\"muted_glyph\":null,\"nonselection_glyph\":{\"id\":\"fbe06e8f-6750-411c-9503-1c515d520160\",\"type\":\"Square\"},\"selection_glyph\":null,\"view\":{\"id\":\"33169210-1b52-4a89-8c89-9f76c8c9e114\",\"type\":\"CDSView\"}},\"id\":\"461212df-5406-44ed-9547-feff554c3950\",\"type\":\"GlyphRenderer\"},{\"attributes\":{},\"id\":\"4044fefb-65e2-4703-9cfc-1f12e3d59fbd\",\"type\":\"LinearScale\"},{\"attributes\":{\"source\":{\"id\":\"662350c7-5cf8-4ddc-a0fa-93b11ae9a63c\",\"type\":\"ColumnDataSource\"}},\"id\":\"c48eff49-6604-4315-9fb9-6fc2f72fda09\",\"type\":\"CDSView\"},{\"attributes\":{\"source\":{\"id\":\"66016a49-1d08-4124-90b1-3b060eacabbf\",\"type\":\"ColumnDataSource\"}},\"id\":\"98dbd144-6ea7-4f11-88de-4e1cbeb84e04\",\"type\":\"CDSView\"},{\"attributes\":{\"axis_label\":\"pressure [mb]\",\"formatter\":{\"id\":\"1fa0cc79-53da-4d21-9c63-c2fdd137b9f9\",\"type\":\"BasicTickFormatter\"},\"plot\":{\"id\":\"ddf7d535-25b5-4524-a75a-f2c00e86c703\",\"subtype\":\"Figure\",\"type\":\"Plot\"},\"ticker\":{\"id\":\"a1d809d1-a2cd-40f5-893b-1f67eb98c660\",\"type\":\"BasicTicker\"}},\"id\":\"cdb63cab-7480-4293-b750-abe4f23dcd22\",\"type\":\"LinearAxis\"},{\"attributes\":{\"fill_alpha\":{\"value\":0.7},\"fill_color\":{\"value\":\"#4daf4a\"},\"line_alpha\":{\"value\":0.7},\"line_color\":{\"value\":\"#4daf4a\"},\"x\":{\"field\":\"x\"},\"y\":{\"field\":\"y\"}},\"id\":\"8a8bcfc6-e441-421a-b427-ee31071de6f4\",\"type\":\"Circle\"},{\"attributes\":{\"data_source\":{\"id\":\"d0b1067c-0a3f-44f8-85ef-bb618bba8e87\",\"type\":\"ColumnDataSource\"},\"glyph\":{\"id\":\"c724ee82-2d35-446b-a33d-a9390ebcc65c\",\"type\":\"Circle\"},\"hover_glyph\":null,\"muted_glyph\":null,\"nonselection_glyph\":{\"id\":\"82605a17-9aa0-4642-8db0-5ebb17d9f756\",\"type\":\"Circle\"},\"selection_glyph\":null,\"view\":{\"id\":\"a0437f97-f327-4a8a-8126-6489142efb39\",\"type\":\"CDSView\"}},\"id\":\"5996bd98-8b4d-400c-a2e8-7c965d3a274e\",\"type\":\"GlyphRenderer\"},{\"attributes\":{\"fill_alpha\":{\"value\":0.7},\"fill_color\":{\"value\":\"#984ea3\"},\"line_alpha\":{\"value\":0.7},\"line_color\":{\"value\":\"#984ea3\"},\"x\":{\"field\":\"x\"},\"y\":{\"field\":\"y\"}},\"id\":\"b0287a17-19ee-4a7a-aa8a-c33e459bcac1\",\"type\":\"Square\"},{\"attributes\":{\"data_source\":{\"id\":\"10e94e07-3c3f-44e3-8770-16a5c154f0fa\",\"type\":\"ColumnDataSource\"},\"glyph\":{\"id\":\"332c7a49-27ca-401c-a87c-1b39ae8df30a\",\"type\":\"Line\"},\"hover_glyph\":null,\"muted_glyph\":null,\"nonselection_glyph\":{\"id\":\"753677dc-3e3b-4813-afc5-7096ab49cf86\",\"type\":\"Line\"},\"selection_glyph\":null,\"view\":{\"id\":\"111ccc62-845a-43d0-8d1d-105044ab29e9\",\"type\":\"CDSView\"}},\"id\":\"c62c6f7d-9520-461d-aff4-eff4ad9293bb\",\"type\":\"GlyphRenderer\"},{\"attributes\":{},\"id\":\"9f9fafc3-c3d6-4d95-ad59-e61d9541e3a0\",\"type\":\"LogScale\"},{\"attributes\":{\"line_alpha\":0.6,\"line_color\":\"#984ea3\",\"line_width\":3,\"x\":{\"field\":\"x\"},\"y\":{\"field\":\"y\"}},\"id\":\"bd220bc4-a08f-4c40-af1c-c66ac8b541d2\",\"type\":\"Line\"},{\"attributes\":{\"plot\":{\"id\":\"5af8ff9a-f493-4836-8c4f-a8056e6ca566\",\"subtype\":\"Figure\",\"type\":\"Plot\"},\"ticker\":{\"id\":\"06651939-65fc-4e81-adb7-a31629691c2f\",\"type\":\"BasicTicker\"}},\"id\":\"97801ddd-b56e-4204-b9b7-468dc731330f\",\"type\":\"Grid\"},{\"attributes\":{\"fill_alpha\":{\"value\":0.1},\"fill_color\":{\"value\":\"#1f77b4\"},\"line_alpha\":{\"value\":0.1},\"line_color\":{\"value\":\"#1f77b4\"},\"x\":{\"field\":\"x\"},\"y\":{\"field\":\"y\"}},\"id\":\"82605a17-9aa0-4642-8db0-5ebb17d9f756\",\"type\":\"Circle\"},{\"attributes\":{\"line_color\":\"#4daf4a\",\"line_width\":1.5,\"x\":{\"field\":\"x\"},\"y\":{\"field\":\"y\"}},\"id\":\"37a24122-186a-4aec-9b35-4a5a578269ac\",\"type\":\"Line\"},{\"attributes\":{\"callback\":null,\"end\":0.019990674710000003,\"start\":-0.12305960371},\"id\":\"9a067514-1d0f-40e3-9ca9-1dbb0c35cb99\",\"type\":\"Range1d\"},{\"attributes\":{\"below\":[{\"id\":\"10ed74b9-2be6-4b74-8f6b-5d430d2963dc\",\"type\":\"LinearAxis\"}],\"left\":[{\"id\":\"ee0b26fa-6bc6-4816-9a16-4915d524159c\",\"type\":\"LogAxis\"}],\"plot_height\":500,\"plot_width\":560,\"renderers\":[{\"id\":\"10ed74b9-2be6-4b74-8f6b-5d430d2963dc\",\"type\":\"LinearAxis\"},{\"id\":\"97801ddd-b56e-4204-b9b7-468dc731330f\",\"type\":\"Grid\"},{\"id\":\"ee0b26fa-6bc6-4816-9a16-4915d524159c\",\"type\":\"LogAxis\"},{\"id\":\"c02ac7cb-4f43-4938-bb96-3b555410a46a\",\"type\":\"Grid\"},{\"id\":\"91c9a75c-16d6-49cb-a127-ca8201ecbff5\",\"type\":\"BoxAnnotation\"},{\"id\":\"f3d507a7-750f-4518-a6ad-f7a9b0dc11d2\",\"type\":\"GlyphRenderer\"},{\"id\":\"34181b41-ca16-436f-b685-5d77526c9018\",\"type\":\"GlyphRenderer\"},{\"id\":\"a0c71fde-04f0-4ede-ae95-b74f30fc9561\",\"type\":\"GlyphRenderer\"},{\"id\":\"a0064d13-9ed1-4ba8-9acf-fe4100380660\",\"type\":\"GlyphRenderer\"},{\"id\":\"68227bc5-812c-458a-b8e3-1f2be207e22c\",\"type\":\"GlyphRenderer\"},{\"id\":\"18a62724-206a-45ad-a05b-9ebdcfecbb41\",\"type\":\"Legend\"}],\"right\":[{\"id\":\"18a62724-206a-45ad-a05b-9ebdcfecbb41\",\"type\":\"Legend\"}],\"title\":{\"id\":\"4fdd68d6-4d6e-4735-8738-7e63e09ecc58\",\"type\":\"Title\"},\"toolbar\":{\"id\":\"2de95d4f-5647-47dc-9556-915e253815e2\",\"type\":\"Toolbar\"},\"toolbar_location\":null,\"x_range\":{\"id\":\"4f8c1062-c7f2-4266-9eb9-9e7e5581f95e\",\"type\":\"Range1d\"},\"x_scale\":{\"id\":\"4044fefb-65e2-4703-9cfc-1f12e3d59fbd\",\"type\":\"LinearScale\"},\"y_range\":{\"id\":\"8c3ac269-b424-4af5-8890-574207922af0\",\"type\":\"Range1d\"},\"y_scale\":{\"id\":\"9f9fafc3-c3d6-4d95-ad59-e61d9541e3a0\",\"type\":\"LogScale\"}},\"id\":\"5af8ff9a-f493-4836-8c4f-a8056e6ca566\",\"subtype\":\"Figure\",\"type\":\"Plot\"},{\"attributes\":{\"bottom_units\":\"screen\",\"fill_alpha\":{\"value\":0.5},\"fill_color\":{\"value\":\"lightgrey\"},\"left_units\":\"screen\",\"level\":\"overlay\",\"line_alpha\":{\"value\":1.0},\"line_color\":{\"value\":\"black\"},\"line_dash\":[4,4],\"line_width\":{\"value\":2},\"plot\":null,\"render_mode\":\"css\",\"right_units\":\"screen\",\"top_units\":\"screen\"},\"id\":\"899875d8-d5f2-4097-874a-1f9366ac2144\",\"type\":\"BoxAnnotation\"},{\"attributes\":{\"line_alpha\":0.1,\"line_color\":\"#1f77b4\",\"line_width\":1.5,\"x\":{\"field\":\"x\"},\"y\":{\"field\":\"y\"}},\"id\":\"3993be08-9e54-42cf-807c-542bf2992447\",\"type\":\"Line\"},{\"attributes\":{\"line_alpha\":0.6,\"line_color\":\"#e41a1c\",\"line_dash\":[6],\"line_width\":5,\"x\":{\"field\":\"x\"},\"y\":{\"field\":\"y\"}},\"id\":\"332c7a49-27ca-401c-a87c-1b39ae8df30a\",\"type\":\"Line\"},{\"attributes\":{},\"id\":\"8d5ecb15-3137-48a4-b771-8afa3a8c827f\",\"type\":\"LinearScale\"},{\"attributes\":{\"items\":[{\"id\":\"8116be4b-d54b-456f-995f-0a6c49117de3\",\"type\":\"LegendItem\"},{\"id\":\"c6d60597-5f8a-40a2-accb-b1761f505082\",\"type\":\"LegendItem\"},{\"id\":\"677edd55-c6df-49b2-87ea-cfabecb7d49f\",\"type\":\"LegendItem\"}],\"label_text_font_size\":{\"value\":\"8pt\"},\"location\":[10,-30],\"plot\":{\"id\":\"5af8ff9a-f493-4836-8c4f-a8056e6ca566\",\"subtype\":\"Figure\",\"type\":\"Plot\"}},\"id\":\"18a62724-206a-45ad-a05b-9ebdcfecbb41\",\"type\":\"Legend\"},{\"attributes\":{\"callback\":null,\"data\":{\"x\":{\"__ndarray__\":\"/PcO7ja+lr+yn/WLOryXv5hbZoAnB5e/n+xUY4Mxkr+PmYokKGSBv61heS5QbXg/WLRzeffwmj+GW3g9HE2rPx0010PdgrY/TojSQQvHwD+VY9PG6GvHP47W5jkBUc8/Gu3hYKlN1D/kaRqQlF/bPwD6ZGJG+uI//cys55wm6T9p2ouJSc/vPyw7Ds2GZvM/4FxoUxr29j+CixU1mIb6P0nuVdBZ6/0/jMunfSkS/z+oM5zXfcz6PzRBecSNoPQ/Wux6kgkS7z8xjtt5LEfmP1bNe7UGY94/Pz3wEEoI1T+2Bdce7lHPP8Os5Qj4Occ/0FaxOmozwD96bC6rbn2yP9oaU6hVkaM/RIaX2GO/lj8gUA1m2bRuv3mdmOvwtKK/icbiUCK2sL8T26CgWwK2v/639UfW6bm/SjlGTx3tvL+FIkD65DC8v+WVLYoF27i/S09OcI6Ttb92QhrbjM+xv8oM85wvIay/Jr+/7XtnpL8GmCwAI+6bv9Gr/JCJJJS/7t25DAwUjb8c85NRuc6Dv/aOSpWXYXi/J+gTVjpBar/0Ui35CphRv8LOTydjQ00/yc0Tt2GHZj8wfBPuTX9yP971ElVKV3k/UzgunhvFfz/BAoGW+u6CP3DBY4kYwIU/bEMy1a1NiD8H8x8e/qSKP49uHGLQyow/c/JkL8Kxjj9xw2ltjDCQP1vo+byq/5A/myPNTQvGkT9OEahK0GmSP6d/67hRzJI/39JVrZHMkj+e/44QNFKSP61MUV7GdZE/LmEC8ZlwkD8xj3HPN8WOPyfvuOgxuIw/\",\"dtype\":\"float64\",\"shape\":[75]},\"y\":{\"__ndarray__\":\"GhExyth1ND/Sv8nbtpRIP2vylNV0PVE/aTum7souWD/At0SJ8fVgPw3Iuahxymc/MSNhhJWvcD/bTfBN02d3P2zb5nxnaoA/CD5h5MAGhz8NmeH1TyaQP+zrCsc9p5Y/LbKd76fGnz/bLW5ISEmmPww9YvTcQq8/JV2OstnstT8Er5Y7M8G+P0c+r3jqkcU/5h99k6ZBzj88bCIzFzjVP4enV8oyxN0//yH99nXg5D8qOpLLf0jtP5kqGJXUifQ/c9cS8kHP/D+/DpwzojQEQIEmwoanVwxA4lgXt9HgE0BSSZ2AJuIbQAMJih9jjiNA5q4l5INuK0AwTKYKRj0zQNv5fmq8/DpAaCJseHrtQkB/+zpwzoxKQM3MzMzMeFJAZmZmZmZqWEAAAAAAAFxeQM3MzMzMJmJAmpmZmZkfZUBmZmZmZhhoQDMzMzMzEWtAAAAAAAAKbkBmZmZmZoFwQM3MzMzM/XFAMzMzMzN6c0CamZmZmfZ0QAAAAAAAc3ZAZmZmZmbvd0DNzMzMzGt5QDMzMzMz6HpAmpmZmZlkfEAAAAAAAOF9QGZmZmZmXX9AZmZmZuZsgECamZmZGSuBQM3MzMxM6YFAAAAAAICngkAzMzMzs2WDQGZmZmbmI4RAmpmZmRnihEDNzMzMTKCFQAAAAACAXoZAMzMzM7Mch0BmZmZm5tqHQJqZmZkZmYhAzczMzExXiUAAAAAAgBWKQDMzMzOz04pAZmZmZuaRi0CamZmZGVCMQM3MzMxMDo1AAAAAAIDMjUAzMzMzs4qOQGZmZmbmSI9A\",\"dtype\":\"float64\",\"shape\":[75]}},\"selected\":{\"id\":\"f5c79cc3-fbb1-4b2d-9c26-404acd10a577\",\"type\":\"Selection\"},\"selection_policy\":{\"id\":\"9decc4cb-9749-4c1e-a1f3-4a3d1824033d\",\"type\":\"UnionRenderers\"}},\"id\":\"662350c7-5cf8-4ddc-a0fa-93b11ae9a63c\",\"type\":\"ColumnDataSource\"},{\"attributes\":{\"active_drag\":\"auto\",\"active_inspect\":\"auto\",\"active_scroll\":\"auto\",\"active_tap\":\"auto\",\"tools\":[{\"id\":\"49c9a279-ead1-4bfe-b2ec-5d7b1f04e41c\",\"type\":\"PanTool\"},{\"id\":\"62864fdd-d216-4b5a-a853-71e623dba096\",\"type\":\"WheelZoomTool\"},{\"id\":\"c19268b0-21b8-489b-88b5-d2559cf7bfaf\",\"type\":\"BoxZoomTool\"},{\"id\":\"a7961fc5-c969-4936-a791-287fb51b3b7c\",\"type\":\"SaveTool\"},{\"id\":\"c14d8c0c-8367-4f34-9dc2-c4a158d4991b\",\"type\":\"ResetTool\"},{\"id\":\"58769f63-4d29-4077-8f81-60a294fcbaf7\",\"type\":\"HelpTool\"}]},\"id\":\"2de95d4f-5647-47dc-9556-915e253815e2\",\"type\":\"Toolbar\"},{\"attributes\":{\"plot\":{\"id\":\"ddf7d535-25b5-4524-a75a-f2c00e86c703\",\"subtype\":\"Figure\",\"type\":\"Plot\"},\"ticker\":{\"id\":\"4cb27681-0f1c-4459-b3e4-bb33aae0f036\",\"type\":\"BasicTicker\"}},\"id\":\"617b911c-f04c-4481-9d98-de159f19f079\",\"type\":\"Grid\"},{\"attributes\":{\"line_alpha\":0.6,\"line_color\":\"#984ea3\",\"line_width\":3,\"x\":{\"field\":\"x\"},\"y\":{\"field\":\"y\"}},\"id\":\"ee6f57d4-24e0-4509-848e-52729d858ce6\",\"type\":\"Line\"},{\"attributes\":{\"data_source\":{\"id\":\"7fbc888f-ac33-4419-88e2-40afb17fde19\",\"type\":\"ColumnDataSource\"},\"glyph\":{\"id\":\"bdd163eb-b84d-40ab-80bb-117302daf5a6\",\"type\":\"Line\"},\"hover_glyph\":null,\"muted_glyph\":null,\"nonselection_glyph\":{\"id\":\"8064ce53-5284-4fbc-86b7-a197769e1324\",\"type\":\"Line\"},\"selection_glyph\":null,\"view\":{\"id\":\"62069356-fd33-4e26-ac80-fd05fccfc535\",\"type\":\"CDSView\"}},\"id\":\"f3d507a7-750f-4518-a6ad-f7a9b0dc11d2\",\"type\":\"GlyphRenderer\"},{\"attributes\":{},\"id\":\"4cb27681-0f1c-4459-b3e4-bb33aae0f036\",\"type\":\"BasicTicker\"},{\"attributes\":{\"callback\":null,\"end\":1.9973063365,\"start\":-0.1426369865},\"id\":\"4f8c1062-c7f2-4266-9eb9-9e7e5581f95e\",\"type\":\"Range1d\"},{\"attributes\":{},\"id\":\"a1d809d1-a2cd-40f5-893b-1f67eb98c660\",\"type\":\"BasicTicker\"},{\"attributes\":{\"line_alpha\":0.6,\"line_color\":\"#e41a1c\",\"line_dash\":[6],\"line_width\":5,\"x\":{\"field\":\"x\"},\"y\":{\"field\":\"y\"}},\"id\":\"bdd163eb-b84d-40ab-80bb-117302daf5a6\",\"type\":\"Line\"},{\"attributes\":{\"dimension\":1,\"plot\":{\"id\":\"ddf7d535-25b5-4524-a75a-f2c00e86c703\",\"subtype\":\"Figure\",\"type\":\"Plot\"},\"ticker\":{\"id\":\"a1d809d1-a2cd-40f5-893b-1f67eb98c660\",\"type\":\"BasicTicker\"}},\"id\":\"e38fc73b-cb4d-44bd-87bd-c80075a2d8fd\",\"type\":\"Grid\"},{\"attributes\":{\"active_drag\":\"auto\",\"active_inspect\":\"auto\",\"active_scroll\":\"auto\",\"active_tap\":\"auto\",\"tools\":[{\"id\":\"6b3e232a-8b87-4495-bbcf-dcc705ea3b79\",\"type\":\"PanTool\"},{\"id\":\"fd91fc0e-602a-45f6-8426-3dc0f19f0778\",\"type\":\"WheelZoomTool\"},{\"id\":\"6b886aa4-b64a-45d3-ba75-b0d7d175128b\",\"type\":\"BoxZoomTool\"},{\"id\":\"bef91698-7def-4a27-83ca-2671bdcb4500\",\"type\":\"SaveTool\"},{\"id\":\"169a4972-d70c-46c2-9fc7-a59c93a6d6ac\",\"type\":\"ResetTool\"},{\"id\":\"81eed8ae-4be7-47e5-8951-829a596244f9\",\"type\":\"HelpTool\"}]},\"id\":\"4fdf344f-6b17-47b7-954b-0a1f885b999f\",\"type\":\"Toolbar\"},{\"attributes\":{\"source\":{\"id\":\"6c0b11f0-c796-4f0a-b717-2e0b9ad3df6d\",\"type\":\"ColumnDataSource\"}},\"id\":\"ea70e776-bd6a-4777-9315-456173fb587a\",\"type\":\"CDSView\"},{\"attributes\":{\"axis_label\":\"cooling rate [K/day]\",\"formatter\":{\"id\":\"3cb9f6e4-2cad-4c82-b1c4-1073199481d8\",\"type\":\"BasicTickFormatter\"},\"plot\":{\"id\":\"ddf7d535-25b5-4524-a75a-f2c00e86c703\",\"subtype\":\"Figure\",\"type\":\"Plot\"},\"ticker\":{\"id\":\"4cb27681-0f1c-4459-b3e4-bb33aae0f036\",\"type\":\"BasicTicker\"}},\"id\":\"ca9b9c94-77b7-45e7-90d3-1f27fbeeb5ae\",\"type\":\"LinearAxis\"},{\"attributes\":{},\"id\":\"2f48a245-cfad-49be-9cd7-47e86915e7bf\",\"type\":\"LinearScale\"},{\"attributes\":{\"plot\":null,\"text\":\"Log pressure scale\"},\"id\":\"4fdd68d6-4d6e-4735-8738-7e63e09ecc58\",\"type\":\"Title\"},{\"attributes\":{\"data_source\":{\"id\":\"61380d11-5777-4748-9ffb-5ed3fe025dfc\",\"type\":\"ColumnDataSource\"},\"glyph\":{\"id\":\"37a24122-186a-4aec-9b35-4a5a578269ac\",\"type\":\"Line\"},\"hover_glyph\":null,\"muted_glyph\":null,\"nonselection_glyph\":{\"id\":\"3993be08-9e54-42cf-807c-542bf2992447\",\"type\":\"Line\"},\"selection_glyph\":null,\"view\":{\"id\":\"2ba5fd3e-2bb5-454f-9172-2d05928f09c7\",\"type\":\"CDSView\"}},\"id\":\"2e8332c1-2b13-4883-9c4b-f47200211fa4\",\"type\":\"GlyphRenderer\"},{\"attributes\":{\"data_source\":{\"id\":\"66016a49-1d08-4124-90b1-3b060eacabbf\",\"type\":\"ColumnDataSource\"},\"glyph\":{\"id\":\"ee6f57d4-24e0-4509-848e-52729d858ce6\",\"type\":\"Line\"},\"hover_glyph\":null,\"muted_glyph\":null,\"nonselection_glyph\":{\"id\":\"14018b6f-b687-451f-a86b-461c01b854b0\",\"type\":\"Line\"},\"selection_glyph\":null,\"view\":{\"id\":\"98dbd144-6ea7-4f11-88de-4e1cbeb84e04\",\"type\":\"CDSView\"}},\"id\":\"89696301-35ed-40af-840d-a92d3bf04593\",\"type\":\"GlyphRenderer\"},{\"attributes\":{\"source\":{\"id\":\"10e94e07-3c3f-44e3-8770-16a5c154f0fa\",\"type\":\"ColumnDataSource\"}},\"id\":\"111ccc62-845a-43d0-8d1d-105044ab29e9\",\"type\":\"CDSView\"},{\"attributes\":{\"below\":[{\"id\":\"ca9b9c94-77b7-45e7-90d3-1f27fbeeb5ae\",\"type\":\"LinearAxis\"}],\"left\":[{\"id\":\"cdb63cab-7480-4293-b750-abe4f23dcd22\",\"type\":\"LinearAxis\"}],\"plot_height\":500,\"plot_width\":400,\"renderers\":[{\"id\":\"ca9b9c94-77b7-45e7-90d3-1f27fbeeb5ae\",\"type\":\"LinearAxis\"},{\"id\":\"617b911c-f04c-4481-9d98-de159f19f079\",\"type\":\"Grid\"},{\"id\":\"cdb63cab-7480-4293-b750-abe4f23dcd22\",\"type\":\"LinearAxis\"},{\"id\":\"e38fc73b-cb4d-44bd-87bd-c80075a2d8fd\",\"type\":\"Grid\"},{\"id\":\"899875d8-d5f2-4097-874a-1f9366ac2144\",\"type\":\"BoxAnnotation\"},{\"id\":\"c62c6f7d-9520-461d-aff4-eff4ad9293bb\",\"type\":\"GlyphRenderer\"},{\"id\":\"5996bd98-8b4d-400c-a2e8-7c965d3a274e\",\"type\":\"GlyphRenderer\"},{\"id\":\"2e8332c1-2b13-4883-9c4b-f47200211fa4\",\"type\":\"GlyphRenderer\"},{\"id\":\"461212df-5406-44ed-9547-feff554c3950\",\"type\":\"GlyphRenderer\"},{\"id\":\"89696301-35ed-40af-840d-a92d3bf04593\",\"type\":\"GlyphRenderer\"}],\"title\":{\"id\":\"c6a3cb89-5fa2-46e9-8118-005eb4dfaf8d\",\"type\":\"Title\"},\"toolbar\":{\"id\":\"4fdf344f-6b17-47b7-954b-0a1f885b999f\",\"type\":\"Toolbar\"},\"toolbar_location\":null,\"x_range\":{\"id\":\"9a067514-1d0f-40e3-9ca9-1dbb0c35cb99\",\"type\":\"Range1d\"},\"x_scale\":{\"id\":\"8d5ecb15-3137-48a4-b771-8afa3a8c827f\",\"type\":\"LinearScale\"},\"y_range\":{\"id\":\"d7cab585-d9a0-46c9-aec0-5829165f81af\",\"type\":\"Range1d\"},\"y_scale\":{\"id\":\"2f48a245-cfad-49be-9cd7-47e86915e7bf\",\"type\":\"LinearScale\"}},\"id\":\"ddf7d535-25b5-4524-a75a-f2c00e86c703\",\"subtype\":\"Figure\",\"type\":\"Plot\"},{\"attributes\":{\"source\":{\"id\":\"61380d11-5777-4748-9ffb-5ed3fe025dfc\",\"type\":\"ColumnDataSource\"}},\"id\":\"2ba5fd3e-2bb5-454f-9172-2d05928f09c7\",\"type\":\"CDSView\"},{\"attributes\":{\"callback\":null,\"data\":{\"x\":{\"__ndarray__\":\"/PcO7ja+lr+yn/WLOryXv5hbZoAnB5e/n+xUY4Mxkr+PmYokKGSBv61heS5QbXg/WLRzeffwmj+GW3g9HE2rPx0010PdgrY/TojSQQvHwD+VY9PG6GvHP47W5jkBUc8/Gu3hYKlN1D/kaRqQlF/bPwD6ZGJG+uI//cys55wm6T9p2ouJSc/vPyw7Ds2GZvM/4FxoUxr29j+CixU1mIb6P0nuVdBZ6/0/jMunfSkS/z+oM5zXfcz6PzRBecSNoPQ/Wux6kgkS7z8xjtt5LEfmP1bNe7UGY94/Pz3wEEoI1T+2Bdce7lHPP8Os5Qj4Occ/0FaxOmozwD96bC6rbn2yP9oaU6hVkaM/RIaX2GO/lj8gUA1m2bRuv3mdmOvwtKK/icbiUCK2sL8T26CgWwK2v/639UfW6bm/SjlGTx3tvL+FIkD65DC8v+WVLYoF27i/S09OcI6Ttb92QhrbjM+xv8oM85wvIay/Jr+/7XtnpL8GmCwAI+6bv9Gr/JCJJJS/7t25DAwUjb8c85NRuc6Dv/aOSpWXYXi/J+gTVjpBar/0Ui35CphRv8LOTydjQ00/yc0Tt2GHZj8wfBPuTX9yP971ElVKV3k/UzgunhvFfz/BAoGW+u6CP3DBY4kYwIU/bEMy1a1NiD8H8x8e/qSKP49uHGLQyow/c/JkL8Kxjj9xw2ltjDCQP1vo+byq/5A/myPNTQvGkT9OEahK0GmSP6d/67hRzJI/39JVrZHMkj+e/44QNFKSP61MUV7GdZE/LmEC8ZlwkD8xj3HPN8WOPyfvuOgxuIw/\",\"dtype\":\"float64\",\"shape\":[75]},\"y\":{\"__ndarray__\":\"GhExyth1ND/Sv8nbtpRIP2vylNV0PVE/aTum7souWD/At0SJ8fVgPw3Iuahxymc/MSNhhJWvcD/bTfBN02d3P2zb5nxnaoA/CD5h5MAGhz8NmeH1TyaQP+zrCsc9p5Y/LbKd76fGnz/bLW5ISEmmPww9YvTcQq8/JV2OstnstT8Er5Y7M8G+P0c+r3jqkcU/5h99k6ZBzj88bCIzFzjVP4enV8oyxN0//yH99nXg5D8qOpLLf0jtP5kqGJXUifQ/c9cS8kHP/D+/DpwzojQEQIEmwoanVwxA4lgXt9HgE0BSSZ2AJuIbQAMJih9jjiNA5q4l5INuK0AwTKYKRj0zQNv5fmq8/DpAaCJseHrtQkB/+zpwzoxKQM3MzMzMeFJAZmZmZmZqWEAAAAAAAFxeQM3MzMzMJmJAmpmZmZkfZUBmZmZmZhhoQDMzMzMzEWtAAAAAAAAKbkBmZmZmZoFwQM3MzMzM/XFAMzMzMzN6c0CamZmZmfZ0QAAAAAAAc3ZAZmZmZmbvd0DNzMzMzGt5QDMzMzMz6HpAmpmZmZlkfEAAAAAAAOF9QGZmZmZmXX9AZmZmZuZsgECamZmZGSuBQM3MzMxM6YFAAAAAAICngkAzMzMzs2WDQGZmZmbmI4RAmpmZmRnihEDNzMzMTKCFQAAAAACAXoZAMzMzM7Mch0BmZmZm5tqHQJqZmZkZmYhAzczMzExXiUAAAAAAgBWKQDMzMzOz04pAZmZmZuaRi0CamZmZGVCMQM3MzMxMDo1AAAAAAIDMjUAzMzMzs4qOQGZmZmbmSI9A\",\"dtype\":\"float64\",\"shape\":[75]}},\"selected\":{\"id\":\"94cccdd5-99db-4b60-af29-e9477f81af5c\",\"type\":\"Selection\"},\"selection_policy\":{\"id\":\"771eb756-e87c-468d-af2c-91248dc04516\",\"type\":\"UnionRenderers\"}},\"id\":\"66016a49-1d08-4124-90b1-3b060eacabbf\",\"type\":\"ColumnDataSource\"},{\"attributes\":{\"source\":{\"id\":\"7fbc888f-ac33-4419-88e2-40afb17fde19\",\"type\":\"ColumnDataSource\"}},\"id\":\"62069356-fd33-4e26-ac80-fd05fccfc535\",\"type\":\"CDSView\"},{\"attributes\":{\"callback\":null,\"data\":{\"x\":{\"__ndarray__\":\"GnWEPh4bnb/Kl48lJZ2ev+6fsXP2dZ6/WjqYrfKNmb+DxZ+w3aCOv6DF5+cHPU8/WUVS514bmD/kseAqwXWrPxPIrcg2kLc/VxOXJTLawT/9Nt0VbjfJP9feZY7++tA/ZtuKeS0T1j+MEctencDdP2riFW8BlOQ/weVOPKkn6z+GRsGdVRDxPzTcgM8Po/Q/P/0MFB0u+D/WkX5W9KL7P1ECrJ9I4f4/hH07iQif/z+os+56xKP6P+7gFuJHC/Q/RNa/kHq07T++uYXPUsnkP2Q8rU/3Sds/gt243pk90j8MjvWBogHLP6TynwMFPcQ/Daft2yDFvD9Pvid2N8awP6n+L0GHpaI/j1qgXqLalz9EDvkzZWA/v57GfpXKe5+/14pKq6DwrL/qnVhHWEuzv7TKUSK3Fre/ScYgZuVNur+OBYVBmUa6v9W/mOs8w7e/D/tJJO0gtb91zxUAPtOxv6YROLT2rqy/eHgCc4oUpb/97AgmhRmdv0euxtK6H5W/nA6zg4nAjr/P/zHI6y6FvyQRfaJiiHq/VowDiPOSbb+fFCxc9u5WvyPJh34LzEQ/E0aMxrX0ZD9KOyP9fvlxP4xFJ9lXD3k/6aiZKNi8fz9qsq1EswKDPx9N44FC6YU/82AMXlSIiD+mUKZpAe6KP3MTlCbOH40/CLXSsIcSjz+SB55SkGWQP21ga+njN5E/yrE+45cBkj8+P/msTKeSPxyuJGXKCJM/eb2yDQcCkz9QkuOLTHmSP4z154TLiJE/kF1dpgpskD9CFmyarI6OP/Vzt6mJV4w/\",\"dtype\":\"float64\",\"shape\":[75]},\"y\":{\"__ndarray__\":\"GhExyth1ND/Sv8nbtpRIP2vylNV0PVE/aTum7souWD/At0SJ8fVgPw3Iuahxymc/MSNhhJWvcD/bTfBN02d3P2zb5nxnaoA/CD5h5MAGhz8NmeH1TyaQP+zrCsc9p5Y/LbKd76fGnz/bLW5ISEmmPww9YvTcQq8/JV2OstnstT8Er5Y7M8G+P0c+r3jqkcU/5h99k6ZBzj88bCIzFzjVP4enV8oyxN0//yH99nXg5D8qOpLLf0jtP5kqGJXUifQ/c9cS8kHP/D+/DpwzojQEQIEmwoanVwxA4lgXt9HgE0BSSZ2AJuIbQAMJih9jjiNA5q4l5INuK0AwTKYKRj0zQNv5fmq8/DpAaCJseHrtQkB/+zpwzoxKQM3MzMzMeFJAZmZmZmZqWEAAAAAAAFxeQM3MzMzMJmJAmpmZmZkfZUBmZmZmZhhoQDMzMzMzEWtAAAAAAAAKbkBmZmZmZoFwQM3MzMzM/XFAMzMzMzN6c0CamZmZmfZ0QAAAAAAAc3ZAZmZmZmbvd0DNzMzMzGt5QDMzMzMz6HpAmpmZmZlkfEAAAAAAAOF9QGZmZmZmXX9AZmZmZuZsgECamZmZGSuBQM3MzMxM6YFAAAAAAICngkAzMzMzs2WDQGZmZmbmI4RAmpmZmRnihEDNzMzMTKCFQAAAAACAXoZAMzMzM7Mch0BmZmZm5tqHQJqZmZkZmYhAzczMzExXiUAAAAAAgBWKQDMzMzOz04pAZmZmZuaRi0CamZmZGVCMQM3MzMxMDo1AAAAAAIDMjUAzMzMzs4qOQGZmZmbmSI9A\",\"dtype\":\"float64\",\"shape\":[75]}},\"selected\":{\"id\":\"5dd30042-89af-4260-ac3e-020b4bba9ca1\",\"type\":\"Selection\"},\"selection_policy\":{\"id\":\"695dfe0a-d558-4631-8dc5-ea8b03231cd3\",\"type\":\"UnionRenderers\"}},\"id\":\"10468e23-3532-4a6b-b98a-41b50f73b900\",\"type\":\"ColumnDataSource\"},{\"attributes\":{\"data_source\":{\"id\":\"10468e23-3532-4a6b-b98a-41b50f73b900\",\"type\":\"ColumnDataSource\"},\"glyph\":{\"id\":\"186374b4-237f-4815-9dd1-a1db638b53ec\",\"type\":\"Line\"},\"hover_glyph\":null,\"muted_glyph\":null,\"nonselection_glyph\":{\"id\":\"5303bb26-8b5a-4f9d-a99f-ac337ea3fa5b\",\"type\":\"Line\"},\"selection_glyph\":null,\"view\":{\"id\":\"20f86f77-cbd2-4c90-9b66-3f6ff5f2e12d\",\"type\":\"CDSView\"}},\"id\":\"a0c71fde-04f0-4ede-ae95-b74f30fc9561\",\"type\":\"GlyphRenderer\"},{\"attributes\":{\"source\":{\"id\":\"10468e23-3532-4a6b-b98a-41b50f73b900\",\"type\":\"ColumnDataSource\"}},\"id\":\"20f86f77-cbd2-4c90-9b66-3f6ff5f2e12d\",\"type\":\"CDSView\"},{\"attributes\":{\"line_alpha\":0.1,\"line_color\":\"#1f77b4\",\"line_width\":1.5,\"x\":{\"field\":\"x\"},\"y\":{\"field\":\"y\"}},\"id\":\"5303bb26-8b5a-4f9d-a99f-ac337ea3fa5b\",\"type\":\"Line\"},{\"attributes\":{\"fill_alpha\":{\"value\":0.1},\"fill_color\":{\"value\":\"#1f77b4\"},\"line_alpha\":{\"value\":0.1},\"line_color\":{\"value\":\"#1f77b4\"},\"x\":{\"field\":\"x\"},\"y\":{\"field\":\"y\"}},\"id\":\"26b428f8-c835-4257-b4d4-97cd1ca4f38f\",\"type\":\"Circle\"},{\"attributes\":{\"callback\":null,\"data\":{\"x\":{\"__ndarray__\":\"/PcO7ja+lr+yn/WLOryXv5hbZoAnB5e/n+xUY4Mxkr+PmYokKGSBv61heS5QbXg/WLRzeffwmj+GW3g9HE2rPx0010PdgrY/TojSQQvHwD+VY9PG6GvHP47W5jkBUc8/Gu3hYKlN1D/kaRqQlF/bPwD6ZGJG+uI//cys55wm6T9p2ouJSc/vPyw7Ds2GZvM/4FxoUxr29j+CixU1mIb6P0nuVdBZ6/0/jMunfSkS/z+oM5zXfcz6PzRBecSNoPQ/Wux6kgkS7z8xjtt5LEfmP1bNe7UGY94/Pz3wEEoI1T+2Bdce7lHPP8Os5Qj4Occ/0FaxOmozwD96bC6rbn2yP9oaU6hVkaM/RIaX2GO/lj8gUA1m2bRuv3mdmOvwtKK/icbiUCK2sL8T26CgWwK2v/639UfW6bm/SjlGTx3tvL+FIkD65DC8v+WVLYoF27i/S09OcI6Ttb92QhrbjM+xv8oM85wvIay/Jr+/7XtnpL8GmCwAI+6bv9Gr/JCJJJS/7t25DAwUjb8c85NRuc6Dv/aOSpWXYXi/J+gTVjpBar/0Ui35CphRv8LOTydjQ00/yc0Tt2GHZj8wfBPuTX9yP971ElVKV3k/UzgunhvFfz/BAoGW+u6CP3DBY4kYwIU/bEMy1a1NiD8H8x8e/qSKP49uHGLQyow/c/JkL8Kxjj9xw2ltjDCQP1vo+byq/5A/myPNTQvGkT9OEahK0GmSP6d/67hRzJI/39JVrZHMkj+e/44QNFKSP61MUV7GdZE/LmEC8ZlwkD8xj3HPN8WOPyfvuOgxuIw/\",\"dtype\":\"float64\",\"shape\":[75]},\"y\":{\"__ndarray__\":\"GhExyth1ND/Sv8nbtpRIP2vylNV0PVE/aTum7souWD/At0SJ8fVgPw3Iuahxymc/MSNhhJWvcD/bTfBN02d3P2zb5nxnaoA/CD5h5MAGhz8NmeH1TyaQP+zrCsc9p5Y/LbKd76fGnz/bLW5ISEmmPww9YvTcQq8/JV2OstnstT8Er5Y7M8G+P0c+r3jqkcU/5h99k6ZBzj88bCIzFzjVP4enV8oyxN0//yH99nXg5D8qOpLLf0jtP5kqGJXUifQ/c9cS8kHP/D+/DpwzojQEQIEmwoanVwxA4lgXt9HgE0BSSZ2AJuIbQAMJih9jjiNA5q4l5INuK0AwTKYKRj0zQNv5fmq8/DpAaCJseHrtQkB/+zpwzoxKQM3MzMzMeFJAZmZmZmZqWEAAAAAAAFxeQM3MzMzMJmJAmpmZmZkfZUBmZmZmZhhoQDMzMzMzEWtAAAAAAAAKbkBmZmZmZoFwQM3MzMzM/XFAMzMzMzN6c0CamZmZmfZ0QAAAAAAAc3ZAZmZmZmbvd0DNzMzMzGt5QDMzMzMz6HpAmpmZmZlkfEAAAAAAAOF9QGZmZmZmXX9AZmZmZuZsgECamZmZGSuBQM3MzMxM6YFAAAAAAICngkAzMzMzs2WDQGZmZmbmI4RAmpmZmRnihEDNzMzMTKCFQAAAAACAXoZAMzMzM7Mch0BmZmZm5tqHQJqZmZkZmYhAzczMzExXiUAAAAAAgBWKQDMzMzOz04pAZmZmZuaRi0CamZmZGVCMQM3MzMxMDo1AAAAAAIDMjUAzMzMzs4qOQGZmZmbmSI9A\",\"dtype\":\"float64\",\"shape\":[75]}},\"selected\":{\"id\":\"dd99d991-78a3-4647-bf62-1a32080887b5\",\"type\":\"Selection\"},\"selection_policy\":{\"id\":\"f6864291-d4d8-4f40-aadf-941e54f2aa04\",\"type\":\"UnionRenderers\"}},\"id\":\"6c0b11f0-c796-4f0a-b717-2e0b9ad3df6d\",\"type\":\"ColumnDataSource\"},{\"attributes\":{\"data_source\":{\"id\":\"e4a82752-9b85-4694-aa67-77ce6eaa0d38\",\"type\":\"ColumnDataSource\"},\"glyph\":{\"id\":\"8a8bcfc6-e441-421a-b427-ee31071de6f4\",\"type\":\"Circle\"},\"hover_glyph\":null,\"muted_glyph\":null,\"nonselection_glyph\":{\"id\":\"26b428f8-c835-4257-b4d4-97cd1ca4f38f\",\"type\":\"Circle\"},\"selection_glyph\":null,\"view\":{\"id\":\"aa0ea9d7-ec2f-4e1f-a70e-bb67a3ff95f5\",\"type\":\"CDSView\"}},\"id\":\"34181b41-ca16-436f-b685-5d77526c9018\",\"type\":\"GlyphRenderer\"},{\"attributes\":{\"fill_alpha\":{\"value\":0.7},\"fill_color\":{\"value\":\"#984ea3\"},\"line_alpha\":{\"value\":0.7},\"line_color\":{\"value\":\"#984ea3\"},\"x\":{\"field\":\"x\"},\"y\":{\"field\":\"y\"}},\"id\":\"14068fcb-b57a-44f4-a997-c2cccc7e1711\",\"type\":\"Square\"},{\"attributes\":{\"children\":[{\"id\":\"ddf7d535-25b5-4524-a75a-f2c00e86c703\",\"subtype\":\"Figure\",\"type\":\"Plot\"},{\"id\":\"5af8ff9a-f493-4836-8c4f-a8056e6ca566\",\"subtype\":\"Figure\",\"type\":\"Plot\"}]},\"id\":\"8fd473b1-075a-4fc2-a9c2-d882b5931959\",\"type\":\"Row\"},{\"attributes\":{\"source\":{\"id\":\"e4a82752-9b85-4694-aa67-77ce6eaa0d38\",\"type\":\"ColumnDataSource\"}},\"id\":\"aa0ea9d7-ec2f-4e1f-a70e-bb67a3ff95f5\",\"type\":\"CDSView\"},{\"attributes\":{\"fill_alpha\":{\"value\":0.1},\"fill_color\":{\"value\":\"#1f77b4\"},\"line_alpha\":{\"value\":0.1},\"line_color\":{\"value\":\"#1f77b4\"},\"x\":{\"field\":\"x\"},\"y\":{\"field\":\"y\"}},\"id\":\"7c5d6ab7-6283-4e1c-8593-9feaff1037b0\",\"type\":\"Square\"},{\"attributes\":{\"line_color\":\"#4daf4a\",\"line_width\":1.5,\"x\":{\"field\":\"x\"},\"y\":{\"field\":\"y\"}},\"id\":\"186374b4-237f-4815-9dd1-a1db638b53ec\",\"type\":\"Line\"},{\"attributes\":{\"data_source\":{\"id\":\"6c0b11f0-c796-4f0a-b717-2e0b9ad3df6d\",\"type\":\"ColumnDataSource\"},\"glyph\":{\"id\":\"14068fcb-b57a-44f4-a997-c2cccc7e1711\",\"type\":\"Square\"},\"hover_glyph\":null,\"muted_glyph\":null,\"nonselection_glyph\":{\"id\":\"7c5d6ab7-6283-4e1c-8593-9feaff1037b0\",\"type\":\"Square\"},\"selection_glyph\":null,\"view\":{\"id\":\"ea70e776-bd6a-4777-9315-456173fb587a\",\"type\":\"CDSView\"}},\"id\":\"a0064d13-9ed1-4ba8-9acf-fe4100380660\",\"type\":\"GlyphRenderer\"},{\"attributes\":{\"children\":[{\"id\":\"8fd473b1-075a-4fc2-a9c2-d882b5931959\",\"type\":\"Row\"}]},\"id\":\"d7ec0853-1e47-4788-b691-ebee442675ea\",\"type\":\"Column\"},{\"attributes\":{\"ticker\":null},\"id\":\"279ed7f9-f26d-47f9-917d-a44f0cad04d8\",\"type\":\"LogTickFormatter\"},{\"attributes\":{\"label\":{\"value\":\"CLIRAD `coolr_bands`\"},\"renderers\":[{\"id\":\"f3d507a7-750f-4518-a6ad-f7a9b0dc11d2\",\"type\":\"GlyphRenderer\"}]},\"id\":\"8116be4b-d54b-456f-995f-0a6c49117de3\",\"type\":\"LegendItem\"},{\"attributes\":{},\"id\":\"10bc9c67-de07-44bd-8799-f8a59477d902\",\"type\":\"UnionRenderers\"},{\"attributes\":{\"label\":{\"value\":\"CRD\"},\"renderers\":[{\"id\":\"34181b41-ca16-436f-b685-5d77526c9018\",\"type\":\"GlyphRenderer\"},{\"id\":\"a0c71fde-04f0-4ede-ae95-b74f30fc9561\",\"type\":\"GlyphRenderer\"}]},\"id\":\"c6d60597-5f8a-40a2-accb-b1761f505082\",\"type\":\"LegendItem\"},{\"attributes\":{},\"id\":\"fd278136-785a-4674-97cd-19e5bd54c215\",\"type\":\"UnionRenderers\"},{\"attributes\":{\"label\":{\"value\":\"WGT igg=10 wgt_flux=2\"},\"renderers\":[{\"id\":\"a0064d13-9ed1-4ba8-9acf-fe4100380660\",\"type\":\"GlyphRenderer\"},{\"id\":\"68227bc5-812c-458a-b8e3-1f2be207e22c\",\"type\":\"GlyphRenderer\"}]},\"id\":\"677edd55-c6df-49b2-87ea-cfabecb7d49f\",\"type\":\"LegendItem\"},{\"attributes\":{},\"id\":\"62446c1b-37d6-4beb-8ab4-a7f28fbb805a\",\"type\":\"UnionRenderers\"},{\"attributes\":{},\"id\":\"3cb9f6e4-2cad-4c82-b1c4-1073199481d8\",\"type\":\"BasicTickFormatter\"},{\"attributes\":{},\"id\":\"1fa0cc79-53da-4d21-9c63-c2fdd137b9f9\",\"type\":\"BasicTickFormatter\"},{\"attributes\":{},\"id\":\"501063b9-353c-41e1-b3f5-9d2f492c4c42\",\"type\":\"Selection\"},{\"attributes\":{},\"id\":\"771eb756-e87c-468d-af2c-91248dc04516\",\"type\":\"UnionRenderers\"},{\"attributes\":{},\"id\":\"64f86784-8abd-4852-9797-8376a022ea73\",\"type\":\"Selection\"},{\"attributes\":{},\"id\":\"6ae7869d-4b0f-4d0d-9c28-f1d6d8656f35\",\"type\":\"Selection\"},{\"attributes\":{},\"id\":\"94cccdd5-99db-4b60-af29-e9477f81af5c\",\"type\":\"Selection\"},{\"attributes\":{},\"id\":\"cd22f824-2a58-4587-a284-de1983f6fca9\",\"type\":\"UnionRenderers\"},{\"attributes\":{},\"id\":\"697118df-86d0-47b1-809b-703d796c1e5f\",\"type\":\"Selection\"},{\"attributes\":{},\"id\":\"b114d86e-5781-4d09-a997-7ebbeb9f87a6\",\"type\":\"UnionRenderers\"},{\"attributes\":{},\"id\":\"695dfe0a-d558-4631-8dc5-ea8b03231cd3\",\"type\":\"UnionRenderers\"},{\"attributes\":{},\"id\":\"bab8d155-66f4-4b69-bc08-2ffde8872a24\",\"type\":\"BasicTickFormatter\"},{\"attributes\":{\"toolbar\":{\"id\":\"62727d7e-109e-4e2f-8e95-671bac760e58\",\"type\":\"ProxyToolbar\"},\"toolbar_location\":\"above\"},\"id\":\"8d97c43d-dd70-4801-8d75-08eb7ecc800a\",\"type\":\"ToolbarBox\"},{\"attributes\":{},\"id\":\"7f1f213d-11f5-4aaf-a0be-e9028b745784\",\"type\":\"Selection\"},{\"attributes\":{},\"id\":\"5dd30042-89af-4260-ac3e-020b4bba9ca1\",\"type\":\"Selection\"},{\"attributes\":{},\"id\":\"303485ba-7921-4067-bb3c-c762f9f4ea62\",\"type\":\"UnionRenderers\"},{\"attributes\":{},\"id\":\"c42d4e06-4b47-4fc1-9e23-1b8320bc8f86\",\"type\":\"Selection\"},{\"attributes\":{},\"id\":\"9decc4cb-9749-4c1e-a1f3-4a3d1824033d\",\"type\":\"UnionRenderers\"},{\"attributes\":{},\"id\":\"f5c79cc3-fbb1-4b2d-9c26-404acd10a577\",\"type\":\"Selection\"},{\"attributes\":{},\"id\":\"f6864291-d4d8-4f40-aadf-941e54f2aa04\",\"type\":\"UnionRenderers\"},{\"attributes\":{},\"id\":\"dd99d991-78a3-4647-bf62-1a32080887b5\",\"type\":\"Selection\"},{\"attributes\":{\"children\":[{\"id\":\"8d97c43d-dd70-4801-8d75-08eb7ecc800a\",\"type\":\"ToolbarBox\"},{\"id\":\"d7ec0853-1e47-4788-b691-ebee442675ea\",\"type\":\"Column\"}]},\"id\":\"8cd9bd18-60d1-4c9f-b1fb-7c00f346f315\",\"type\":\"Column\"},{\"attributes\":{\"tools\":[{\"id\":\"6b3e232a-8b87-4495-bbcf-dcc705ea3b79\",\"type\":\"PanTool\"},{\"id\":\"fd91fc0e-602a-45f6-8426-3dc0f19f0778\",\"type\":\"WheelZoomTool\"},{\"id\":\"6b886aa4-b64a-45d3-ba75-b0d7d175128b\",\"type\":\"BoxZoomTool\"},{\"id\":\"bef91698-7def-4a27-83ca-2671bdcb4500\",\"type\":\"SaveTool\"},{\"id\":\"169a4972-d70c-46c2-9fc7-a59c93a6d6ac\",\"type\":\"ResetTool\"},{\"id\":\"81eed8ae-4be7-47e5-8951-829a596244f9\",\"type\":\"HelpTool\"},{\"id\":\"49c9a279-ead1-4bfe-b2ec-5d7b1f04e41c\",\"type\":\"PanTool\"},{\"id\":\"62864fdd-d216-4b5a-a853-71e623dba096\",\"type\":\"WheelZoomTool\"},{\"id\":\"c19268b0-21b8-489b-88b5-d2559cf7bfaf\",\"type\":\"BoxZoomTool\"},{\"id\":\"a7961fc5-c969-4936-a791-287fb51b3b7c\",\"type\":\"SaveTool\"},{\"id\":\"c14d8c0c-8367-4f34-9dc2-c4a158d4991b\",\"type\":\"ResetTool\"},{\"id\":\"58769f63-4d29-4077-8f81-60a294fcbaf7\",\"type\":\"HelpTool\"}]},\"id\":\"62727d7e-109e-4e2f-8e95-671bac760e58\",\"type\":\"ProxyToolbar\"}],\"root_ids\":[\"8cd9bd18-60d1-4c9f-b1fb-7c00f346f315\"]},\"title\":\"Bokeh Application\",\"version\":\"0.12.16\"}};\n",
       "  var render_items = [{\"docid\":\"a71e8601-3645-4f2d-922a-cdb0c08d93ad\",\"elementid\":\"385ebede-8d4e-4771-ba05-a86f34196a76\",\"modelid\":\"8cd9bd18-60d1-4c9f-b1fb-7c00f346f315\"}];\n",
       "  root.Bokeh.embed.embed_items_notebook(docs_json, render_items);\n",
       "\n",
       "  }\n",
       "  if (root.Bokeh !== undefined) {\n",
       "    embed_document(root);\n",
       "  } else {\n",
       "    var attempts = 0;\n",
       "    var timer = setInterval(function(root) {\n",
       "      if (root.Bokeh !== undefined) {\n",
       "        embed_document(root);\n",
       "        clearInterval(timer);\n",
       "      }\n",
       "      attempts++;\n",
       "      if (attempts > 100) {\n",
       "        console.log(\"Bokeh: ERROR: Unable to run BokehJS code because BokehJS library is missing\")\n",
       "        clearInterval(timer);\n",
       "      }\n",
       "    }, 10, root)\n",
       "  }\n",
       "})(window);"
      ],
      "application/vnd.bokehjs_exec.v0+json": ""
     },
     "metadata": {
      "application/vnd.bokehjs_exec.v0+json": {
       "id": "8cd9bd18-60d1-4c9f-b1fb-7c00f346f315"
      }
     },
     "output_type": "display_data"
    },
    {
     "name": "stdout",
     "output_type": "stream",
     "text": [
      "FIGURE. Cooling rate profiles.\n"
     ]
    },
    {
     "data": {
      "text/html": [
       "<a id=\"Flux_Comparison\"></a>"
      ],
      "text/plain": [
       "<IPython.core.display.HTML object>"
      ]
     },
     "metadata": {},
     "output_type": "display_data"
    },
    {
     "data": {
      "text/markdown": [
       "# Flux Comparison"
      ],
      "text/plain": [
       "<IPython.core.display.Markdown object>"
      ]
     },
     "metadata": {},
     "output_type": "display_data"
    },
    {
     "data": {
      "text/html": [
       "<div>\n",
       "<style scoped>\n",
       "    .dataframe tbody tr th:only-of-type {\n",
       "        vertical-align: middle;\n",
       "    }\n",
       "\n",
       "    .dataframe tbody tr th {\n",
       "        vertical-align: top;\n",
       "    }\n",
       "\n",
       "    .dataframe thead th {\n",
       "        text-align: right;\n",
       "    }\n",
       "</style>\n",
       "<table border=\"1\" class=\"dataframe\">\n",
       "  <thead>\n",
       "    <tr style=\"text-align: right;\">\n",
       "      <th></th>\n",
       "      <th></th>\n",
       "      <th>flug</th>\n",
       "      <th>fldg</th>\n",
       "      <th>fnetg</th>\n",
       "    </tr>\n",
       "    <tr>\n",
       "      <th>pressure</th>\n",
       "      <th>level</th>\n",
       "      <th></th>\n",
       "      <th></th>\n",
       "      <th></th>\n",
       "    </tr>\n",
       "  </thead>\n",
       "  <tbody>\n",
       "    <tr>\n",
       "      <th>0.0000</th>\n",
       "      <th>1</th>\n",
       "      <td>-10.944362</td>\n",
       "      <td>0.000000</td>\n",
       "      <td>-10.944362</td>\n",
       "    </tr>\n",
       "    <tr>\n",
       "      <th>1.0685</th>\n",
       "      <th>24</th>\n",
       "      <td>-10.891922</td>\n",
       "      <td>0.151678</td>\n",
       "      <td>-10.740244</td>\n",
       "    </tr>\n",
       "    <tr>\n",
       "      <th>1013.0000</th>\n",
       "      <th>76</th>\n",
       "      <td>-15.051406</td>\n",
       "      <td>3.224098</td>\n",
       "      <td>-11.827308</td>\n",
       "    </tr>\n",
       "  </tbody>\n",
       "</table>\n",
       "</div>"
      ],
      "text/plain": [
       "                      flug      fldg      fnetg\n",
       "pressure  level                                \n",
       "0.0000    1     -10.944362  0.000000 -10.944362\n",
       "1.0685    24    -10.891922  0.151678 -10.740244\n",
       "1013.0000 76    -15.051406  3.224098 -11.827308"
      ]
     },
     "metadata": {},
     "output_type": "display_data"
    },
    {
     "name": "stdout",
     "output_type": "stream",
     "text": [
      "Table. Fluxes. CRD\n"
     ]
    },
    {
     "data": {
      "text/html": [
       "<div>\n",
       "<style scoped>\n",
       "    .dataframe tbody tr th:only-of-type {\n",
       "        vertical-align: middle;\n",
       "    }\n",
       "\n",
       "    .dataframe tbody tr th {\n",
       "        vertical-align: top;\n",
       "    }\n",
       "\n",
       "    .dataframe thead th {\n",
       "        text-align: right;\n",
       "    }\n",
       "</style>\n",
       "<table border=\"1\" class=\"dataframe\">\n",
       "  <thead>\n",
       "    <tr style=\"text-align: right;\">\n",
       "      <th></th>\n",
       "      <th></th>\n",
       "      <th>flug</th>\n",
       "      <th>fldg</th>\n",
       "      <th>fnetg</th>\n",
       "    </tr>\n",
       "    <tr>\n",
       "      <th>pressure</th>\n",
       "      <th>level</th>\n",
       "      <th></th>\n",
       "      <th></th>\n",
       "      <th></th>\n",
       "    </tr>\n",
       "  </thead>\n",
       "  <tbody>\n",
       "    <tr>\n",
       "      <th>0.0000</th>\n",
       "      <th>1</th>\n",
       "      <td>-10.768519</td>\n",
       "      <td>0.000000</td>\n",
       "      <td>-10.768519</td>\n",
       "    </tr>\n",
       "    <tr>\n",
       "      <th>1.0685</th>\n",
       "      <th>24</th>\n",
       "      <td>-10.715635</td>\n",
       "      <td>0.146642</td>\n",
       "      <td>-10.568993</td>\n",
       "    </tr>\n",
       "    <tr>\n",
       "      <th>1013.0000</th>\n",
       "      <th>76</th>\n",
       "      <td>-15.051406</td>\n",
       "      <td>3.293166</td>\n",
       "      <td>-11.758240</td>\n",
       "    </tr>\n",
       "  </tbody>\n",
       "</table>\n",
       "</div>"
      ],
      "text/plain": [
       "                      flug      fldg      fnetg\n",
       "pressure  level                                \n",
       "0.0000    1     -10.768519  0.000000 -10.768519\n",
       "1.0685    24    -10.715635  0.146642 -10.568993\n",
       "1013.0000 76    -15.051406  3.293166 -11.758240"
      ]
     },
     "metadata": {},
     "output_type": "display_data"
    },
    {
     "name": "stdout",
     "output_type": "stream",
     "text": [
      "Table. Fluxes. WGT igg=10 wgt_flux=1\n"
     ]
    },
    {
     "data": {
      "text/html": [
       "<div>\n",
       "<style scoped>\n",
       "    .dataframe tbody tr th:only-of-type {\n",
       "        vertical-align: middle;\n",
       "    }\n",
       "\n",
       "    .dataframe tbody tr th {\n",
       "        vertical-align: top;\n",
       "    }\n",
       "\n",
       "    .dataframe thead th {\n",
       "        text-align: right;\n",
       "    }\n",
       "</style>\n",
       "<table border=\"1\" class=\"dataframe\">\n",
       "  <thead>\n",
       "    <tr style=\"text-align: right;\">\n",
       "      <th></th>\n",
       "      <th></th>\n",
       "      <th>flug</th>\n",
       "      <th>fldg</th>\n",
       "      <th>fnetg</th>\n",
       "    </tr>\n",
       "    <tr>\n",
       "      <th>pressure</th>\n",
       "      <th>level</th>\n",
       "      <th></th>\n",
       "      <th></th>\n",
       "      <th></th>\n",
       "    </tr>\n",
       "  </thead>\n",
       "  <tbody>\n",
       "    <tr>\n",
       "      <th>1.000000e-08</th>\n",
       "      <th>1</th>\n",
       "      <td>-10.659582</td>\n",
       "      <td>0.000002</td>\n",
       "      <td>-10.659580</td>\n",
       "    </tr>\n",
       "    <tr>\n",
       "      <th>1.068500e+00</th>\n",
       "      <th>24</th>\n",
       "      <td>-10.608166</td>\n",
       "      <td>0.142034</td>\n",
       "      <td>-10.466132</td>\n",
       "    </tr>\n",
       "    <tr>\n",
       "      <th>1.013000e+03</th>\n",
       "      <th>76</th>\n",
       "      <td>-15.051410</td>\n",
       "      <td>3.286984</td>\n",
       "      <td>-11.764426</td>\n",
       "    </tr>\n",
       "  </tbody>\n",
       "</table>\n",
       "</div>"
      ],
      "text/plain": [
       "                         flug      fldg      fnetg\n",
       "pressure     level                                \n",
       "1.000000e-08 1     -10.659582  0.000002 -10.659580\n",
       "1.068500e+00 24    -10.608166  0.142034 -10.466132\n",
       "1.013000e+03 76    -15.051410  3.286984 -11.764426"
      ]
     },
     "metadata": {},
     "output_type": "display_data"
    },
    {
     "name": "stdout",
     "output_type": "stream",
     "text": [
      "Table. Fluxes. CLIRAD\n"
     ]
    },
    {
     "data": {
      "text/html": [
       "<div>\n",
       "<style scoped>\n",
       "    .dataframe tbody tr th:only-of-type {\n",
       "        vertical-align: middle;\n",
       "    }\n",
       "\n",
       "    .dataframe tbody tr th {\n",
       "        vertical-align: top;\n",
       "    }\n",
       "\n",
       "    .dataframe thead th {\n",
       "        text-align: right;\n",
       "    }\n",
       "</style>\n",
       "<table border=\"1\" class=\"dataframe\">\n",
       "  <thead>\n",
       "    <tr style=\"text-align: right;\">\n",
       "      <th></th>\n",
       "      <th></th>\n",
       "      <th>flug</th>\n",
       "      <th>fldg</th>\n",
       "      <th>fnetg</th>\n",
       "    </tr>\n",
       "    <tr>\n",
       "      <th>pressure</th>\n",
       "      <th>level</th>\n",
       "      <th></th>\n",
       "      <th></th>\n",
       "      <th></th>\n",
       "    </tr>\n",
       "  </thead>\n",
       "  <tbody>\n",
       "    <tr>\n",
       "      <th>0.0000</th>\n",
       "      <th>1</th>\n",
       "      <td>0.175843</td>\n",
       "      <td>0.000000</td>\n",
       "      <td>0.175843</td>\n",
       "    </tr>\n",
       "    <tr>\n",
       "      <th>1.0685</th>\n",
       "      <th>24</th>\n",
       "      <td>0.176287</td>\n",
       "      <td>-0.005036</td>\n",
       "      <td>0.171251</td>\n",
       "    </tr>\n",
       "    <tr>\n",
       "      <th>1013.0000</th>\n",
       "      <th>76</th>\n",
       "      <td>0.000000</td>\n",
       "      <td>0.069068</td>\n",
       "      <td>0.069068</td>\n",
       "    </tr>\n",
       "  </tbody>\n",
       "</table>\n",
       "</div>"
      ],
      "text/plain": [
       "                     flug      fldg     fnetg\n",
       "pressure  level                              \n",
       "0.0000    1      0.175843  0.000000  0.175843\n",
       "1.0685    24     0.176287 -0.005036  0.171251\n",
       "1013.0000 76     0.000000  0.069068  0.069068"
      ]
     },
     "metadata": {},
     "output_type": "display_data"
    },
    {
     "name": "stdout",
     "output_type": "stream",
     "text": [
      "Table. Fluxes. (WGT igg=10 wgt_flux=1) - (CRD)\n"
     ]
    },
    {
     "data": {
      "text/html": [
       "<div>\n",
       "<style scoped>\n",
       "    .dataframe tbody tr th:only-of-type {\n",
       "        vertical-align: middle;\n",
       "    }\n",
       "\n",
       "    .dataframe tbody tr th {\n",
       "        vertical-align: top;\n",
       "    }\n",
       "\n",
       "    .dataframe thead th {\n",
       "        text-align: right;\n",
       "    }\n",
       "</style>\n",
       "<table border=\"1\" class=\"dataframe\">\n",
       "  <thead>\n",
       "    <tr style=\"text-align: right;\">\n",
       "      <th></th>\n",
       "      <th></th>\n",
       "      <th>flug</th>\n",
       "      <th>fldg</th>\n",
       "      <th>fnetg</th>\n",
       "    </tr>\n",
       "    <tr>\n",
       "      <th>pressure</th>\n",
       "      <th>level</th>\n",
       "      <th></th>\n",
       "      <th></th>\n",
       "      <th></th>\n",
       "    </tr>\n",
       "  </thead>\n",
       "  <tbody>\n",
       "    <tr>\n",
       "      <th>0.0000</th>\n",
       "      <th>1</th>\n",
       "      <td>0.284780</td>\n",
       "      <td>0.000002</td>\n",
       "      <td>0.284782</td>\n",
       "    </tr>\n",
       "    <tr>\n",
       "      <th>1.0685</th>\n",
       "      <th>24</th>\n",
       "      <td>0.283756</td>\n",
       "      <td>-0.009644</td>\n",
       "      <td>0.274112</td>\n",
       "    </tr>\n",
       "    <tr>\n",
       "      <th>1013.0000</th>\n",
       "      <th>76</th>\n",
       "      <td>-0.000004</td>\n",
       "      <td>0.062886</td>\n",
       "      <td>0.062882</td>\n",
       "    </tr>\n",
       "  </tbody>\n",
       "</table>\n",
       "</div>"
      ],
      "text/plain": [
       "                     flug      fldg     fnetg\n",
       "pressure  level                              \n",
       "0.0000    1      0.284780  0.000002  0.284782\n",
       "1.0685    24     0.283756 -0.009644  0.274112\n",
       "1013.0000 76    -0.000004  0.062886  0.062882"
      ]
     },
     "metadata": {},
     "output_type": "display_data"
    },
    {
     "name": "stdout",
     "output_type": "stream",
     "text": [
      "Table. Fluxes. (CLIRAD) - (CRD)\n"
     ]
    },
    {
     "data": {
      "text/html": [
       "<a id=\"Best-fit_Parameters\"></a>"
      ],
      "text/plain": [
       "<IPython.core.display.HTML object>"
      ]
     },
     "metadata": {},
     "output_type": "display_data"
    },
    {
     "data": {
      "text/markdown": [
       "# Best-fit Parameters"
      ],
      "text/plain": [
       "<IPython.core.display.Markdown object>"
      ]
     },
     "metadata": {},
     "output_type": "display_data"
    },
    {
     "name": "stdout",
     "output_type": "stream",
     "text": [
      "Best-fit values for each (gas, band)\n",
      "------------------------------------\n",
      "o h2o band5\n",
      "  atmpro = mls\n",
      "  band = 5\n",
      "  commitnumber = a06b618\n",
      "  conc = None\n",
      "  dv = 0.001\n",
      "  klin = 1e-24\n",
      "  molecule = h2o\n",
      "  ng_adju = [0]\n",
      "  ng_refs = [3]\n",
      "  nv = 1000\n",
      "  option_compute_btable = 0\n",
      "  option_compute_ktable = 1\n",
      "  option_wgt_flux = 1\n",
      "  option_wgt_k = 1\n",
      "  ref_pts = [(600, 250)]\n",
      "  tsfc = 294\n",
      "  vmax = 1100\n",
      "  vmin = 980\n",
      "  w_diffuse = [(1.66, 1.66, 1.8)]\n",
      "  wgt = [(0.5, 0.55, 0.9)]\n",
      "o co2 band5\n",
      "  atmpro = mls\n",
      "  band = 5\n",
      "  commitnumber = a06b618\n",
      "  conc = 0.0004\n",
      "  dv = 0.001\n",
      "  klin = 6.5e-24\n",
      "  molecule = co2\n",
      "  ng_adju = [0, 0]\n",
      "  ng_refs = [1, 2]\n",
      "  nv = 1000\n",
      "  option_compute_btable = 0\n",
      "  option_compute_ktable = 1\n",
      "  option_wgt_flux = 1\n",
      "  option_wgt_k = 1\n",
      "  ref_pts = [(1, 250), (500, 250)]\n",
      "  tsfc = 294\n",
      "  vmax = 1100\n",
      "  vmin = 980\n",
      "  w_diffuse = [(1.75,), (1.66, 1.9)]\n",
      "  wgt = [(0.75,), (0.75, 0.95)]\n",
      "o o3 band5\n",
      "  atmpro = mls\n",
      "  band = 5\n",
      "  commitnumber = a06b618\n",
      "  conc = None\n",
      "  dv = 0.001\n",
      "  klin = 2e-20\n",
      "  molecule = o3\n",
      "  ng_adju = [0, 0]\n",
      "  ng_refs = [2, 5]\n",
      "  nv = 1000\n",
      "  option_compute_btable = 0\n",
      "  option_compute_ktable = 1\n",
      "  option_wgt_flux = 1\n",
      "  option_wgt_k = 1\n",
      "  ref_pts = [(1, 250), (50, 250)]\n",
      "  tsfc = 294\n",
      "  vmax = 1100\n",
      "  vmin = 980\n",
      "  w_diffuse = [(1.6, 1.75), (1.55, 1.66, 1.7, 1.75, 1.8)]\n",
      "  wgt = [(0.35, 0.6), (0.5, 0.55, 0.7, 0.9, 1.0)]\n"
     ]
    }
   ],
   "source": [
    "script()"
   ]
  },
  {
   "cell_type": "code",
   "execution_count": 13,
   "metadata": {
    "collapsed": true
   },
   "outputs": [
    {
     "data": {
      "text/html": [
       "<script>\n",
       "code_show=true; \n",
       "function code_toggle() {\n",
       " if (code_show){\n",
       " $('div.input').hide();\n",
       " } else {\n",
       " $('div.input').show();\n",
       " }\n",
       " code_show = !code_show\n",
       "} \n",
       "$( document ).ready(code_toggle);\n",
       "</script>\n",
       "<form action=\"javascript:code_toggle()\"><input type=\"submit\" value=\"Click here to toggle on/off the raw code.\"></form>"
      ],
      "text/plain": [
       "<IPython.core.display.HTML object>"
      ]
     },
     "execution_count": 13,
     "metadata": {},
     "output_type": "execute_result"
    }
   ],
   "source": [
    "display.HTML('''<script>\n",
    "code_show=true; \n",
    "function code_toggle() {\n",
    " if (code_show){\n",
    " $('div.input').hide();\n",
    " } else {\n",
    " $('div.input').show();\n",
    " }\n",
    " code_show = !code_show\n",
    "} \n",
    "$( document ).ready(code_toggle);\n",
    "</script>\n",
    "<form action=\"javascript:code_toggle()\"><input type=\"submit\" value=\"Click here to toggle on/off the raw code.\"></form>''')"
   ]
  }
 ],
 "metadata": {
  "kernelspec": {
   "display_name": "Python 3",
   "language": "python",
   "name": "python3"
  },
  "language_info": {
   "codemirror_mode": {
    "name": "ipython",
    "version": 3
   },
   "file_extension": ".py",
   "mimetype": "text/x-python",
   "name": "python",
   "nbconvert_exporter": "python",
   "pygments_lexer": "ipython3",
   "version": "3.6.1"
  }
 },
 "nbformat": 4,
 "nbformat_minor": 2
}
