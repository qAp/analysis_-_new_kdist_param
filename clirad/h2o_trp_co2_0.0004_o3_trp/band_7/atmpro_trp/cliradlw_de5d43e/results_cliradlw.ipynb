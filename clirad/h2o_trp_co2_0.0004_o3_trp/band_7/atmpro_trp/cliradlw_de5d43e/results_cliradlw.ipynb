{
 "cells": [
  {
   "cell_type": "code",
   "execution_count": 1,
   "metadata": {
    "collapsed": true
   },
   "outputs": [],
   "source": [
    "%matplotlib inline\n",
    "import os\n",
    "import re\n",
    "import io\n",
    "import itertools\n",
    "import pprint\n",
    "\n",
    "from bokeh.io import output_notebook, show\n",
    "from bokeh.layouts import gridplot\n",
    "from bokeh.plotting import figure\n",
    "from bokeh.models import Range1d, Legend\n",
    "from bokeh.palettes import all_palettes\n",
    "\n",
    "import matplotlib\n",
    "import matplotlib.pyplot as plt\n",
    "import numpy as np\n",
    "import pandas as pd\n",
    "import xarray as xr\n",
    "\n",
    "import climatools.lblnew.bestfit_params as bestfits\n",
    "from climatools.lblnew import setup_bestfit, setup_overlap\n",
    "import climatools.lblnew.pipeline as pipe_lblnew\n",
    "import climatools.cliradlw.setup as setup_cliradlw\n",
    "import climatools.cliradlw.pipeline as pipe_cliradlw\n",
    "\n",
    "import climatools.html.html as climahtml\n",
    "from climatools.lblnew.dataio import *\n",
    "from climatools.plot.plot import *\n",
    "\n",
    "\n",
    "import IPython.display as display"
   ]
  },
  {
   "cell_type": "code",
   "execution_count": 2,
   "metadata": {
    "collapsed": true
   },
   "outputs": [],
   "source": [
    "%run param.py"
   ]
  },
  {
   "cell_type": "code",
   "execution_count": 3,
   "metadata": {
    "collapsed": true
   },
   "outputs": [
    {
     "name": "stdout",
     "output_type": "stream",
     "text": [
      "The history saving thread hit an unexpected error (OperationalError('database is locked',)).History will not be written to the database.\n"
     ]
    }
   ],
   "source": [
    "def load_output_file(path_csv):\n",
    "    '''\n",
    "    Load lblnew output .csv file to xarray.Dataset\n",
    "    \n",
    "    Parameters\n",
    "    ----------\n",
    "    path_csv: str\n",
    "              Path to the .csv file to be loaded.\n",
    "    ds: xarray.Dataset\n",
    "        Data in the input file in the form of an xarray.Dataset.\n",
    "    '''\n",
    "    toindex = ['band', 'pressure', 'igg', 'g']    \n",
    "    df = pd.read_csv(path_csv, sep=r'\\s+')\n",
    "    df = df.set_index([i for i in toindex if i in df.columns])\n",
    "    df = df.rename(columns={'sfu': 'flug',\n",
    "                            'sfd': 'fldg',\n",
    "                            'fnet': 'fnetg',\n",
    "                            'coolr': 'coolrg'})\n",
    "    ds = xr.Dataset.from_dataframe(df)\n",
    "\n",
    "    for l in ('level', 'layer'):\n",
    "        if l in ds.data_vars:\n",
    "            if len(ds[l].dims) > 1:\n",
    "                surface = {d: 0 for d in ds.dims if d != 'pressure'}\n",
    "                coord_level = ds[l][surface]\n",
    "                ds.coords[l] = ('pressure', coord_level)\n",
    "            else:\n",
    "                ds.coords[l] = ('pressure', ds[l])\n",
    "    \n",
    "    return ds"
   ]
  },
  {
   "cell_type": "code",
   "execution_count": 4,
   "metadata": {
    "collapsed": true
   },
   "outputs": [],
   "source": [
    "def lblnew_setup(param=None):\n",
    "    if 'ng_refs' in param:\n",
    "        return {'setup': setup_bestfit,\n",
    "                'fname_flux_crd': 'output_flux.dat',\n",
    "                'fname_cool_crd': 'output_coolr.dat',\n",
    "                'fname_flux_wgt': 'output_wfluxg.dat',\n",
    "                'fname_cool_wgt': 'output_wcoolrg.dat'}\n",
    "    else:\n",
    "        return {'setup': setup_overlap,\n",
    "                'fname_flux_crd': 'output_flux.dat',\n",
    "                'fname_cool_crd': 'output_coolr.dat',\n",
    "                'fname_flux_wgt': 'output_wflux.dat',\n",
    "                'fname_cool_wgt': 'output_wcoolr.dat'}\n",
    "\n",
    "    \n",
    "def load_lblnew_data(param):\n",
    "    \n",
    "    fname_dsname = [('fname_flux_crd', 'ds_flux_crd'),\n",
    "                    ('fname_cool_crd', 'ds_cool_crd'),\n",
    "                    ('fname_flux_wgt', 'ds_flux_wgt'),\n",
    "                    ('fname_cool_wgt', 'ds_cool_wgt')]\n",
    "    \n",
    "    d = lblnew_setup(param)\n",
    "    dir_fortran = pipe_lblnew.get_dir_case(param, setup=d['setup'])\n",
    "    \n",
    "    data_dict = {}\n",
    "    for fname, dsname in fname_dsname:\n",
    "        fpath = os.path.join(dir_fortran, d[fname])\n",
    "        data_dict[dsname] = load_output_file(fpath)\n",
    "    return data_dict\n",
    "    \n",
    "\n",
    "    \n",
    "    "
   ]
  },
  {
   "cell_type": "code",
   "execution_count": 5,
   "metadata": {
    "collapsed": true
   },
   "outputs": [],
   "source": [
    "d = load_lblnew_data(PARAM_LBLNEW)\n",
    "\n",
    "DS_FLUX_CRD = d['ds_flux_crd']\n",
    "DS_COOL_CRD = d['ds_cool_crd']\n",
    "DS_FLUX_WGT = d['ds_flux_wgt']\n",
    "DS_COOL_WGT = d['ds_cool_wgt']"
   ]
  },
  {
   "cell_type": "code",
   "execution_count": 6,
   "metadata": {
    "collapsed": true
   },
   "outputs": [],
   "source": [
    "DIR_FORTRAN = pipe_cliradlw.get_fortran_dir(PARAM, \n",
    "                                            setup=setup_cliradlw)\n",
    "\n",
    "PATH_FLUX = os.path.join(DIR_FORTRAN, 'output_flux.dat')\n",
    "PATH_COOL = os.path.join(DIR_FORTRAN, 'output_coolr.dat')\n",
    "\n",
    "DS_FLUX = load_output_file(PATH_FLUX)\n",
    "DS_COOL = load_output_file(PATH_COOL)"
   ]
  },
  {
   "cell_type": "code",
   "execution_count": 7,
   "metadata": {
    "collapsed": true
   },
   "outputs": [
    {
     "data": {
      "text/html": [
       "\n",
       "    <div class=\"bk-root\">\n",
       "        <a href=\"https://bokeh.pydata.org\" target=\"_blank\" class=\"bk-logo bk-logo-small bk-logo-notebook\"></a>\n",
       "        <span id=\"3a2b7813-fcd2-4ace-8262-c402a8340fa5\">Loading BokehJS ...</span>\n",
       "    </div>"
      ]
     },
     "metadata": {},
     "output_type": "display_data"
    },
    {
     "data": {
      "application/javascript": [
       "\n",
       "(function(root) {\n",
       "  function now() {\n",
       "    return new Date();\n",
       "  }\n",
       "\n",
       "  var force = true;\n",
       "\n",
       "  if (typeof (root._bokeh_onload_callbacks) === \"undefined\" || force === true) {\n",
       "    root._bokeh_onload_callbacks = [];\n",
       "    root._bokeh_is_loading = undefined;\n",
       "  }\n",
       "\n",
       "  var JS_MIME_TYPE = 'application/javascript';\n",
       "  var HTML_MIME_TYPE = 'text/html';\n",
       "  var EXEC_MIME_TYPE = 'application/vnd.bokehjs_exec.v0+json';\n",
       "  var CLASS_NAME = 'output_bokeh rendered_html';\n",
       "\n",
       "  /**\n",
       "   * Render data to the DOM node\n",
       "   */\n",
       "  function render(props, node) {\n",
       "    var script = document.createElement(\"script\");\n",
       "    node.appendChild(script);\n",
       "  }\n",
       "\n",
       "  /**\n",
       "   * Handle when an output is cleared or removed\n",
       "   */\n",
       "  function handleClearOutput(event, handle) {\n",
       "    var cell = handle.cell;\n",
       "\n",
       "    var id = cell.output_area._bokeh_element_id;\n",
       "    var server_id = cell.output_area._bokeh_server_id;\n",
       "    // Clean up Bokeh references\n",
       "    if (id !== undefined) {\n",
       "      Bokeh.index[id].model.document.clear();\n",
       "      delete Bokeh.index[id];\n",
       "    }\n",
       "\n",
       "    if (server_id !== undefined) {\n",
       "      // Clean up Bokeh references\n",
       "      var cmd = \"from bokeh.io.state import curstate; print(curstate().uuid_to_server['\" + server_id + \"'].get_sessions()[0].document.roots[0]._id)\";\n",
       "      cell.notebook.kernel.execute(cmd, {\n",
       "        iopub: {\n",
       "          output: function(msg) {\n",
       "            var element_id = msg.content.text.trim();\n",
       "            Bokeh.index[element_id].model.document.clear();\n",
       "            delete Bokeh.index[element_id];\n",
       "          }\n",
       "        }\n",
       "      });\n",
       "      // Destroy server and session\n",
       "      var cmd = \"import bokeh.io.notebook as ion; ion.destroy_server('\" + server_id + \"')\";\n",
       "      cell.notebook.kernel.execute(cmd);\n",
       "    }\n",
       "  }\n",
       "\n",
       "  /**\n",
       "   * Handle when a new output is added\n",
       "   */\n",
       "  function handleAddOutput(event, handle) {\n",
       "    var output_area = handle.output_area;\n",
       "    var output = handle.output;\n",
       "\n",
       "    // limit handleAddOutput to display_data with EXEC_MIME_TYPE content only\n",
       "    if ((output.output_type != \"display_data\") || (!output.data.hasOwnProperty(EXEC_MIME_TYPE))) {\n",
       "      return\n",
       "    }\n",
       "\n",
       "    var toinsert = output_area.element.find(\".\" + CLASS_NAME.split(' ')[0]);\n",
       "\n",
       "    if (output.metadata[EXEC_MIME_TYPE][\"id\"] !== undefined) {\n",
       "      toinsert[toinsert.length - 1].firstChild.textContent = output.data[JS_MIME_TYPE];\n",
       "      // store reference to embed id on output_area\n",
       "      output_area._bokeh_element_id = output.metadata[EXEC_MIME_TYPE][\"id\"];\n",
       "    }\n",
       "    if (output.metadata[EXEC_MIME_TYPE][\"server_id\"] !== undefined) {\n",
       "      var bk_div = document.createElement(\"div\");\n",
       "      bk_div.innerHTML = output.data[HTML_MIME_TYPE];\n",
       "      var script_attrs = bk_div.children[0].attributes;\n",
       "      for (var i = 0; i < script_attrs.length; i++) {\n",
       "        toinsert[toinsert.length - 1].firstChild.setAttribute(script_attrs[i].name, script_attrs[i].value);\n",
       "      }\n",
       "      // store reference to server id on output_area\n",
       "      output_area._bokeh_server_id = output.metadata[EXEC_MIME_TYPE][\"server_id\"];\n",
       "    }\n",
       "  }\n",
       "\n",
       "  function register_renderer(events, OutputArea) {\n",
       "\n",
       "    function append_mime(data, metadata, element) {\n",
       "      // create a DOM node to render to\n",
       "      var toinsert = this.create_output_subarea(\n",
       "        metadata,\n",
       "        CLASS_NAME,\n",
       "        EXEC_MIME_TYPE\n",
       "      );\n",
       "      this.keyboard_manager.register_events(toinsert);\n",
       "      // Render to node\n",
       "      var props = {data: data, metadata: metadata[EXEC_MIME_TYPE]};\n",
       "      render(props, toinsert[toinsert.length - 1]);\n",
       "      element.append(toinsert);\n",
       "      return toinsert\n",
       "    }\n",
       "\n",
       "    /* Handle when an output is cleared or removed */\n",
       "    events.on('clear_output.CodeCell', handleClearOutput);\n",
       "    events.on('delete.Cell', handleClearOutput);\n",
       "\n",
       "    /* Handle when a new output is added */\n",
       "    events.on('output_added.OutputArea', handleAddOutput);\n",
       "\n",
       "    /**\n",
       "     * Register the mime type and append_mime function with output_area\n",
       "     */\n",
       "    OutputArea.prototype.register_mime_type(EXEC_MIME_TYPE, append_mime, {\n",
       "      /* Is output safe? */\n",
       "      safe: true,\n",
       "      /* Index of renderer in `output_area.display_order` */\n",
       "      index: 0\n",
       "    });\n",
       "  }\n",
       "\n",
       "  // register the mime type if in Jupyter Notebook environment and previously unregistered\n",
       "  if (root.Jupyter !== undefined) {\n",
       "    var events = require('base/js/events');\n",
       "    var OutputArea = require('notebook/js/outputarea').OutputArea;\n",
       "\n",
       "    if (OutputArea.prototype.mime_types().indexOf(EXEC_MIME_TYPE) == -1) {\n",
       "      register_renderer(events, OutputArea);\n",
       "    }\n",
       "  }\n",
       "\n",
       "  \n",
       "  if (typeof (root._bokeh_timeout) === \"undefined\" || force === true) {\n",
       "    root._bokeh_timeout = Date.now() + 5000;\n",
       "    root._bokeh_failed_load = false;\n",
       "  }\n",
       "\n",
       "  var NB_LOAD_WARNING = {'data': {'text/html':\n",
       "     \"<div style='background-color: #fdd'>\\n\"+\n",
       "     \"<p>\\n\"+\n",
       "     \"BokehJS does not appear to have successfully loaded. If loading BokehJS from CDN, this \\n\"+\n",
       "     \"may be due to a slow or bad network connection. Possible fixes:\\n\"+\n",
       "     \"</p>\\n\"+\n",
       "     \"<ul>\\n\"+\n",
       "     \"<li>re-rerun `output_notebook()` to attempt to load from CDN again, or</li>\\n\"+\n",
       "     \"<li>use INLINE resources instead, as so:</li>\\n\"+\n",
       "     \"</ul>\\n\"+\n",
       "     \"<code>\\n\"+\n",
       "     \"from bokeh.resources import INLINE\\n\"+\n",
       "     \"output_notebook(resources=INLINE)\\n\"+\n",
       "     \"</code>\\n\"+\n",
       "     \"</div>\"}};\n",
       "\n",
       "  function display_loaded() {\n",
       "    var el = document.getElementById(\"3a2b7813-fcd2-4ace-8262-c402a8340fa5\");\n",
       "    if (el != null) {\n",
       "      el.textContent = \"BokehJS is loading...\";\n",
       "    }\n",
       "    if (root.Bokeh !== undefined) {\n",
       "      if (el != null) {\n",
       "        el.textContent = \"BokehJS \" + root.Bokeh.version + \" successfully loaded.\";\n",
       "      }\n",
       "    } else if (Date.now() < root._bokeh_timeout) {\n",
       "      setTimeout(display_loaded, 100)\n",
       "    }\n",
       "  }\n",
       "\n",
       "\n",
       "  function run_callbacks() {\n",
       "    try {\n",
       "      root._bokeh_onload_callbacks.forEach(function(callback) { callback() });\n",
       "    }\n",
       "    finally {\n",
       "      delete root._bokeh_onload_callbacks\n",
       "    }\n",
       "    console.info(\"Bokeh: all callbacks have finished\");\n",
       "  }\n",
       "\n",
       "  function load_libs(js_urls, callback) {\n",
       "    root._bokeh_onload_callbacks.push(callback);\n",
       "    if (root._bokeh_is_loading > 0) {\n",
       "      console.log(\"Bokeh: BokehJS is being loaded, scheduling callback at\", now());\n",
       "      return null;\n",
       "    }\n",
       "    if (js_urls == null || js_urls.length === 0) {\n",
       "      run_callbacks();\n",
       "      return null;\n",
       "    }\n",
       "    console.log(\"Bokeh: BokehJS not loaded, scheduling load and callback at\", now());\n",
       "    root._bokeh_is_loading = js_urls.length;\n",
       "    for (var i = 0; i < js_urls.length; i++) {\n",
       "      var url = js_urls[i];\n",
       "      var s = document.createElement('script');\n",
       "      s.src = url;\n",
       "      s.async = false;\n",
       "      s.onreadystatechange = s.onload = function() {\n",
       "        root._bokeh_is_loading--;\n",
       "        if (root._bokeh_is_loading === 0) {\n",
       "          console.log(\"Bokeh: all BokehJS libraries loaded\");\n",
       "          run_callbacks()\n",
       "        }\n",
       "      };\n",
       "      s.onerror = function() {\n",
       "        console.warn(\"failed to load library \" + url);\n",
       "      };\n",
       "      console.log(\"Bokeh: injecting script tag for BokehJS library: \", url);\n",
       "      document.getElementsByTagName(\"head\")[0].appendChild(s);\n",
       "    }\n",
       "  };var element = document.getElementById(\"3a2b7813-fcd2-4ace-8262-c402a8340fa5\");\n",
       "  if (element == null) {\n",
       "    console.log(\"Bokeh: ERROR: autoload.js configured with elementid '3a2b7813-fcd2-4ace-8262-c402a8340fa5' but no matching script tag was found. \")\n",
       "    return false;\n",
       "  }\n",
       "\n",
       "  var js_urls = [\"https://cdn.pydata.org/bokeh/release/bokeh-0.12.16.min.js\", \"https://cdn.pydata.org/bokeh/release/bokeh-widgets-0.12.16.min.js\", \"https://cdn.pydata.org/bokeh/release/bokeh-tables-0.12.16.min.js\", \"https://cdn.pydata.org/bokeh/release/bokeh-gl-0.12.16.min.js\"];\n",
       "\n",
       "  var inline_js = [\n",
       "    function(Bokeh) {\n",
       "      Bokeh.set_log_level(\"info\");\n",
       "    },\n",
       "    \n",
       "    function(Bokeh) {\n",
       "      \n",
       "    },\n",
       "    function(Bokeh) {\n",
       "      console.log(\"Bokeh: injecting CSS: https://cdn.pydata.org/bokeh/release/bokeh-0.12.16.min.css\");\n",
       "      Bokeh.embed.inject_css(\"https://cdn.pydata.org/bokeh/release/bokeh-0.12.16.min.css\");\n",
       "      console.log(\"Bokeh: injecting CSS: https://cdn.pydata.org/bokeh/release/bokeh-widgets-0.12.16.min.css\");\n",
       "      Bokeh.embed.inject_css(\"https://cdn.pydata.org/bokeh/release/bokeh-widgets-0.12.16.min.css\");\n",
       "      console.log(\"Bokeh: injecting CSS: https://cdn.pydata.org/bokeh/release/bokeh-tables-0.12.16.min.css\");\n",
       "      Bokeh.embed.inject_css(\"https://cdn.pydata.org/bokeh/release/bokeh-tables-0.12.16.min.css\");\n",
       "    }\n",
       "  ];\n",
       "\n",
       "  function run_inline_js() {\n",
       "    \n",
       "    if ((root.Bokeh !== undefined) || (force === true)) {\n",
       "      for (var i = 0; i < inline_js.length; i++) {\n",
       "        inline_js[i].call(root, root.Bokeh);\n",
       "      }if (force === true) {\n",
       "        display_loaded();\n",
       "      }} else if (Date.now() < root._bokeh_timeout) {\n",
       "      setTimeout(run_inline_js, 100);\n",
       "    } else if (!root._bokeh_failed_load) {\n",
       "      console.log(\"Bokeh: BokehJS failed to load within specified timeout.\");\n",
       "      root._bokeh_failed_load = true;\n",
       "    } else if (force !== true) {\n",
       "      var cell = $(document.getElementById(\"3a2b7813-fcd2-4ace-8262-c402a8340fa5\")).parents('.cell').data().cell;\n",
       "      cell.output_area.append_execute_result(NB_LOAD_WARNING)\n",
       "    }\n",
       "\n",
       "  }\n",
       "\n",
       "  if (root._bokeh_is_loading === 0) {\n",
       "    console.log(\"Bokeh: BokehJS loaded, going straight to plotting\");\n",
       "    run_inline_js();\n",
       "  } else {\n",
       "    load_libs(js_urls, function() {\n",
       "      console.log(\"Bokeh: BokehJS plotting callback run at\", now());\n",
       "      run_inline_js();\n",
       "    });\n",
       "  }\n",
       "}(window));"
      ],
      "application/vnd.bokehjs_load.v0+json": "\n(function(root) {\n  function now() {\n    return new Date();\n  }\n\n  var force = true;\n\n  if (typeof (root._bokeh_onload_callbacks) === \"undefined\" || force === true) {\n    root._bokeh_onload_callbacks = [];\n    root._bokeh_is_loading = undefined;\n  }\n\n  \n\n  \n  if (typeof (root._bokeh_timeout) === \"undefined\" || force === true) {\n    root._bokeh_timeout = Date.now() + 5000;\n    root._bokeh_failed_load = false;\n  }\n\n  var NB_LOAD_WARNING = {'data': {'text/html':\n     \"<div style='background-color: #fdd'>\\n\"+\n     \"<p>\\n\"+\n     \"BokehJS does not appear to have successfully loaded. If loading BokehJS from CDN, this \\n\"+\n     \"may be due to a slow or bad network connection. Possible fixes:\\n\"+\n     \"</p>\\n\"+\n     \"<ul>\\n\"+\n     \"<li>re-rerun `output_notebook()` to attempt to load from CDN again, or</li>\\n\"+\n     \"<li>use INLINE resources instead, as so:</li>\\n\"+\n     \"</ul>\\n\"+\n     \"<code>\\n\"+\n     \"from bokeh.resources import INLINE\\n\"+\n     \"output_notebook(resources=INLINE)\\n\"+\n     \"</code>\\n\"+\n     \"</div>\"}};\n\n  function display_loaded() {\n    var el = document.getElementById(\"3a2b7813-fcd2-4ace-8262-c402a8340fa5\");\n    if (el != null) {\n      el.textContent = \"BokehJS is loading...\";\n    }\n    if (root.Bokeh !== undefined) {\n      if (el != null) {\n        el.textContent = \"BokehJS \" + root.Bokeh.version + \" successfully loaded.\";\n      }\n    } else if (Date.now() < root._bokeh_timeout) {\n      setTimeout(display_loaded, 100)\n    }\n  }\n\n\n  function run_callbacks() {\n    try {\n      root._bokeh_onload_callbacks.forEach(function(callback) { callback() });\n    }\n    finally {\n      delete root._bokeh_onload_callbacks\n    }\n    console.info(\"Bokeh: all callbacks have finished\");\n  }\n\n  function load_libs(js_urls, callback) {\n    root._bokeh_onload_callbacks.push(callback);\n    if (root._bokeh_is_loading > 0) {\n      console.log(\"Bokeh: BokehJS is being loaded, scheduling callback at\", now());\n      return null;\n    }\n    if (js_urls == null || js_urls.length === 0) {\n      run_callbacks();\n      return null;\n    }\n    console.log(\"Bokeh: BokehJS not loaded, scheduling load and callback at\", now());\n    root._bokeh_is_loading = js_urls.length;\n    for (var i = 0; i < js_urls.length; i++) {\n      var url = js_urls[i];\n      var s = document.createElement('script');\n      s.src = url;\n      s.async = false;\n      s.onreadystatechange = s.onload = function() {\n        root._bokeh_is_loading--;\n        if (root._bokeh_is_loading === 0) {\n          console.log(\"Bokeh: all BokehJS libraries loaded\");\n          run_callbacks()\n        }\n      };\n      s.onerror = function() {\n        console.warn(\"failed to load library \" + url);\n      };\n      console.log(\"Bokeh: injecting script tag for BokehJS library: \", url);\n      document.getElementsByTagName(\"head\")[0].appendChild(s);\n    }\n  };var element = document.getElementById(\"3a2b7813-fcd2-4ace-8262-c402a8340fa5\");\n  if (element == null) {\n    console.log(\"Bokeh: ERROR: autoload.js configured with elementid '3a2b7813-fcd2-4ace-8262-c402a8340fa5' but no matching script tag was found. \")\n    return false;\n  }\n\n  var js_urls = [\"https://cdn.pydata.org/bokeh/release/bokeh-0.12.16.min.js\", \"https://cdn.pydata.org/bokeh/release/bokeh-widgets-0.12.16.min.js\", \"https://cdn.pydata.org/bokeh/release/bokeh-tables-0.12.16.min.js\", \"https://cdn.pydata.org/bokeh/release/bokeh-gl-0.12.16.min.js\"];\n\n  var inline_js = [\n    function(Bokeh) {\n      Bokeh.set_log_level(\"info\");\n    },\n    \n    function(Bokeh) {\n      \n    },\n    function(Bokeh) {\n      console.log(\"Bokeh: injecting CSS: https://cdn.pydata.org/bokeh/release/bokeh-0.12.16.min.css\");\n      Bokeh.embed.inject_css(\"https://cdn.pydata.org/bokeh/release/bokeh-0.12.16.min.css\");\n      console.log(\"Bokeh: injecting CSS: https://cdn.pydata.org/bokeh/release/bokeh-widgets-0.12.16.min.css\");\n      Bokeh.embed.inject_css(\"https://cdn.pydata.org/bokeh/release/bokeh-widgets-0.12.16.min.css\");\n      console.log(\"Bokeh: injecting CSS: https://cdn.pydata.org/bokeh/release/bokeh-tables-0.12.16.min.css\");\n      Bokeh.embed.inject_css(\"https://cdn.pydata.org/bokeh/release/bokeh-tables-0.12.16.min.css\");\n    }\n  ];\n\n  function run_inline_js() {\n    \n    if ((root.Bokeh !== undefined) || (force === true)) {\n      for (var i = 0; i < inline_js.length; i++) {\n        inline_js[i].call(root, root.Bokeh);\n      }if (force === true) {\n        display_loaded();\n      }} else if (Date.now() < root._bokeh_timeout) {\n      setTimeout(run_inline_js, 100);\n    } else if (!root._bokeh_failed_load) {\n      console.log(\"Bokeh: BokehJS failed to load within specified timeout.\");\n      root._bokeh_failed_load = true;\n    } else if (force !== true) {\n      var cell = $(document.getElementById(\"3a2b7813-fcd2-4ace-8262-c402a8340fa5\")).parents('.cell').data().cell;\n      cell.output_area.append_execute_result(NB_LOAD_WARNING)\n    }\n\n  }\n\n  if (root._bokeh_is_loading === 0) {\n    console.log(\"Bokeh: BokehJS loaded, going straight to plotting\");\n    run_inline_js();\n  } else {\n    load_libs(js_urls, function() {\n      console.log(\"Bokeh: BokehJS plotting callback run at\", now());\n      run_inline_js();\n    });\n  }\n}(window));"
     },
     "metadata": {},
     "output_type": "display_data"
    }
   ],
   "source": [
    "output_notebook()"
   ]
  },
  {
   "cell_type": "code",
   "execution_count": 8,
   "metadata": {
    "collapsed": true
   },
   "outputs": [],
   "source": [
    "def fmt_cool(ds_in):\n",
    "    ds = ds_in.copy(deep=True)\n",
    "    if 'igg' in ds.dims:\n",
    "        ds = ds.sel(igg=1)\n",
    "\n",
    "    if 'g' in ds.dims:\n",
    "        ds = ds.sum('g')\n",
    "            \n",
    "    if 'band' in ds.dims:\n",
    "        try:\n",
    "            ds = ds.squeeze('band')\n",
    "        except ValueError:\n",
    "            ds = ds.sum('band')\n",
    "                \n",
    "    return ds['coolrg']\n",
    "\n",
    "\n",
    "def pltdata_cooling_1(ds_cool=None,\n",
    "                      ds_cool_crd=None, ds_cool_wgt=None):\n",
    "    \n",
    "\n",
    "\n",
    "    colors = all_palettes['Set1'][4]\n",
    "    data = [{'label': 'CLIRAD `coolr_bands`',\n",
    "             'srs': fmt_cool(ds_cool),\n",
    "             'line_dash': 'dashed', 'line_width': 5,\n",
    "             'color': colors[0], 'alpha': .6},\n",
    "            {'label': 'CRD',\n",
    "             'srs': fmt_cool(ds_cool_crd),\n",
    "             'line_dash': 'solid', 'line_width': 1.5,\n",
    "             'marker': 'circle', 'marker_size': 5,\n",
    "             'color': colors[2], 'alpha': 1,},\n",
    "            {'label': 'WGT igg=10 wgt_flux=2',\n",
    "             'srs': fmt_cool(ds_cool_wgt),\n",
    "             'line_dash': 'solid', 'line_width': 3,\n",
    "             'marker': 'square', 'marker_size': 5,\n",
    "             'color': colors[3], 'alpha': .6}]\n",
    "    return data\n",
    "\n",
    "\n",
    "def nice_xlims(pltdata=None, prange=None):\n",
    "    \n",
    "    def get_slice(srs):\n",
    "        return srs.sel(pressure=slice(*prange))\n",
    "    \n",
    "    srss = [d['srs'] for d in pltdata]\n",
    "    vmin = min([get_slice(srs).min() for srs in srss])\n",
    "    vmax = max([get_slice(srs).max() for srs in srss])\n",
    "    dv = (vmax - vmin) * .01\n",
    "    return float(vmin - dv), float(vmax + dv)\n",
    "    \n",
    "\n",
    "def plt_cooling_bokeh(pltdata=None):\n",
    "    '''\n",
    "    Plot a list of cooling rate profiles using bokeh.\n",
    "    '''\n",
    "    ymin = 1e-2 \n",
    "    ymax = 1020 \n",
    "        \n",
    "    p1 = figure(title=\"Linear pressure scale\", \n",
    "                plot_width=400)        \n",
    "    xmin, xmax = nice_xlims(pltdata, prange=(50, 1050))\n",
    "    for d in pltdata:\n",
    "        if 'marker' in d:\n",
    "            getattr(p1, d['marker'])(d['srs'].values, \n",
    "                    d['srs'].coords['pressure'].values,\n",
    "                    color=d['color'], alpha=.7)\n",
    "        p1.line(d['srs'].values, \n",
    "                d['srs'].coords['pressure'].values,\n",
    "                color=d['color'], alpha=d['alpha'], \n",
    "                line_width=d['line_width'], line_dash=d['line_dash'])\n",
    "    \n",
    "    p1.y_range = Range1d(ymax, ymin)\n",
    "    p1.yaxis.axis_label = 'pressure [mb]'   \n",
    "    p1.x_range = Range1d(xmin, xmax)\n",
    "    p1.xaxis.axis_label = 'cooling rate [K/day]'\n",
    "            \n",
    "    p2 = figure(title='Log pressure scale', y_axis_type='log',\n",
    "                plot_width=560)\n",
    "    xmin, xmax = nice_xlims(pltdata, prange=(.01, 200))\n",
    "    \n",
    "    rs = []\n",
    "    for d in pltdata:\n",
    "        rd = []\n",
    "        if 'marker' in d:\n",
    "            r_mark = getattr(p2, d['marker'])(d['srs'].values, \n",
    "                        d['srs'].coords['pressure'].values,\n",
    "                        color=d['color'], alpha=.7)\n",
    "            rd.append(r_mark)\n",
    "        r_line = p2.line(d['srs'].values, \n",
    "                    d['srs'].coords['pressure'].values,\n",
    "                    color=d['color'], alpha=d['alpha'], \n",
    "                    line_width=d['line_width'], line_dash=d['line_dash'])\n",
    "        rd.append(r_line)\n",
    "      \n",
    "        rs.append(rd)\n",
    "        \n",
    "    p2.y_range = Range1d(ymax, ymin)  \n",
    "    p2.yaxis.axis_label = 'pressure [mb]'\n",
    "    \n",
    "    p2.x_range = Range1d(xmin, xmax)\n",
    "    p2.xaxis.axis_label = 'cooling rate [K/day]'\n",
    "    \n",
    "    items = [(d['label'], r) for r, d in zip(rs, pltdata)]\n",
    "    legend = Legend(items=items, location=(10, -30))\n",
    "    legend.label_text_font_size = '8pt'\n",
    "    \n",
    "    p2.add_layout(legend, 'right')  \n",
    "    \n",
    "    show(gridplot(p1, p2, ncols=2, plot_height=500))\n",
    "    \n",
    "\n",
    "def script_plt_cooling():\n",
    "    pltdata = pltdata_cooling_1(\n",
    "        ds_cool=DS_COOL,\n",
    "        ds_cool_crd=DS_COOL_CRD,\n",
    "        ds_cool_wgt=DS_COOL_WGT)\n",
    "    plt_cooling_bokeh(pltdata=pltdata)\n",
    "    print('''FIGURE. Cooling rate profiles.''')"
   ]
  },
  {
   "cell_type": "code",
   "execution_count": 9,
   "metadata": {
    "collapsed": true
   },
   "outputs": [],
   "source": [
    "def fmt_flux(ds_in):\n",
    "    ds = ds_in.copy(deep=True)\n",
    "    \n",
    "    for l in ('level', 'layer'):\n",
    "        if l in ds.data_vars:\n",
    "            if len(ds[l].dims) > 1:\n",
    "                surface = {d: 0 for d in ds.dims if d != 'pressure'}\n",
    "                coord_level = ds[l][surface]\n",
    "                ds.coords[l] = ('pressure', coord_level)\n",
    "            else:\n",
    "                ds.coords[l] = ('pressure', ds[l])\n",
    "        \n",
    "    ds = ds.isel(pressure=[0, 23, -1])\n",
    "        \n",
    "    if 'igg' in ds.dims:\n",
    "        ds = ds.sel(igg=[1])\n",
    "        ds = ds.squeeze('igg').drop('igg')\n",
    "    \n",
    "    if 'g' in ds.dims:\n",
    "        ds = ds.sum('g')\n",
    "            \n",
    "    if 'band' in ds.dims:\n",
    "        try:\n",
    "            ds = ds.squeeze('band').drop('band')\n",
    "        except ValueError:\n",
    "            ds = ds.sum('band')\n",
    "                \n",
    "    df = ds.to_dataframe()\n",
    "    df = df.set_index('level', append=True)               \n",
    "    return df\n",
    "\n",
    "\n",
    "def tbdata_flux(ds_flux=None, ds_flux_crd=None, ds_flux_wgt=None):\n",
    "    ilevels = [0, 23, -1]\n",
    "            \n",
    "    benchmark = {'label': 'CRD',\n",
    "                 'df': fmt_flux(ds_flux_crd)}\n",
    "    \n",
    "    tbs = [{'label': 'WGT igg=10 wgt_flux=1',\n",
    "            'df': fmt_flux(ds_flux_wgt)},\n",
    "           {'label': 'CLIRAD',\n",
    "            'df': fmt_flux(ds_flux)}]\n",
    "    \n",
    "    data = {'benchmark': benchmark, 'others': tbs}\n",
    "    return data\n",
    "\n",
    "\n",
    "def tb_flux(tbdata=None):\n",
    "    benchmark = tbdata['benchmark']\n",
    "    others = tbdata['others']\n",
    "    \n",
    "    def show_tb(d=None):\n",
    "        display.display(d['df'])\n",
    "        print('Table.', 'Fluxes.', d['label'])\n",
    "        \n",
    "    def show_tbdiff(d0=None, d=None):\n",
    "        df = d['df']\n",
    "        df.index = d0['df'].index\n",
    "        display.display(df - d0['df'])\n",
    "        print('Table.', 'Fluxes.', \n",
    "              '({}) - ({})'.format(d['label'], d0['label']))\n",
    "        \n",
    "    show_tb(benchmark)\n",
    "    for d in others:\n",
    "        show_tb(d)\n",
    "        \n",
    "    for d in others:\n",
    "        show_tbdiff(d=d, d0=benchmark)\n",
    "        \n",
    "        \n",
    "def script_tb_flux():\n",
    "    data = tbdata_flux(ds_flux=DS_FLUX,\n",
    "                       ds_flux_crd=DS_FLUX_CRD,\n",
    "                       ds_flux_wgt=DS_FLUX_WGT)\n",
    "    tb_flux(tbdata=data)"
   ]
  },
  {
   "cell_type": "code",
   "execution_count": 10,
   "metadata": {
    "collapsed": true
   },
   "outputs": [],
   "source": [
    "def band_map():\n",
    "    '''\n",
    "    Maps spectral bands in lblnew to spectral bands in clirad.\n",
    "    '''\n",
    "    lblnew2clirad = {'1': '1',\n",
    "            '2': '2',\n",
    "            '3a': '3',\n",
    "            '3b': '4',\n",
    "            '3c': '5',\n",
    "            '4': '6', \n",
    "            '5': '7',\n",
    "            '6': '8',\n",
    "            '7': '9', \n",
    "            '8': '10',\n",
    "            '9': '11'}\n",
    "    \n",
    "    clirad2lblnew = {clirad: lblnew \n",
    "                     for lblnew, clirad in lblnew2clirad.items()}\n",
    "    return clirad2lblnew\n",
    "\n",
    "\n",
    "def gasbands():\n",
    "    bmap = band_map()\n",
    "    gases = list(PARAM['molecule'].keys())\n",
    "    \n",
    "    bands = [bmap[str(b)] for b in PARAM['band']]\n",
    "    return list(itertools.product(gases, bands))\n",
    "\n",
    "\n",
    "def print_bestfit_params():\n",
    "    print('Best-fit values for each (gas, band)')\n",
    "    print('------------------------------------')\n",
    "    for gas, band in gasbands():\n",
    "        print('o {} band{}'.format(gas, band))\n",
    "        param = bestfits.kdist_params(molecule=gas, band=band)\n",
    "        for name, value in sorted(param.items()):\n",
    "            print(2 * ' ' + '{} = {}'.format(name, value))\n",
    "\n",
    "        \n",
    "def print_input_param():        \n",
    "    for name, value in PARAM.items():\n",
    "        print('{} = {}'.format(name, value))\n",
    "        \n",
    "        \n",
    "def print_lblnew_param():\n",
    "    for name, value in sorted(PARAM_LBLNEW.items()):\n",
    "        print('{} = {}'.format(name, value))\n"
   ]
  },
  {
   "cell_type": "code",
   "execution_count": 11,
   "metadata": {
    "collapsed": true,
    "scrolled": false
   },
   "outputs": [],
   "source": [
    "def show_html(s):\n",
    "    display.display(display.HTML(s))\n",
    "\n",
    "    \n",
    "def show_markdown(s):\n",
    "    display.display(display.Markdown(s))\n",
    "\n",
    "    \n",
    "def script():\n",
    "    \n",
    "    title = '### CLIRAD-LW'\n",
    "    s_input = 'Input Parameters'\n",
    "    s_lblnew_param = 'LBLNEW case compaired against'\n",
    "    s_bestfits = 'Best-fit Parameters'\n",
    "    s_plt_cooling = 'Cooling Rate Profiles'\n",
    "    s_tb_flux = 'Flux Comparison'\n",
    "    \n",
    "    # title\n",
    "    show_markdown('### CLIRAD-LW')\n",
    "    \n",
    "    # TOC\n",
    "    show_markdown('### Table of Contents')\n",
    "    show_html(climahtml.getHTML_hrefanchor(s_input))\n",
    "    show_html(climahtml.getHTML_hrefanchor(s_lblnew_param))\n",
    "    show_html(climahtml.getHTML_hrefanchor(s_plt_cooling))\n",
    "    show_html(climahtml.getHTML_hrefanchor(s_tb_flux))\n",
    "    show_html(climahtml.getHTML_hrefanchor(s_bestfits))\n",
    "    \n",
    "    # Input parameters\n",
    "    show_html(climahtml.getHTML_idanchor(s_input))\n",
    "    show_markdown(climahtml.getMarkdown_sectitle(s_input))\n",
    "    print_input_param()\n",
    "    \n",
    "    # LBLNEW parameters \n",
    "    show_html(climahtml.getHTML_idanchor(s_lblnew_param))\n",
    "    show_markdown(climahtml.getMarkdown_sectitle(s_lblnew_param))\n",
    "    print_lblnew_param()\n",
    "    \n",
    "    # Cooling rate profiles\n",
    "    show_html(climahtml.getHTML_idanchor(s_plt_cooling))\n",
    "    show_markdown(climahtml.getMarkdown_sectitle(s_plt_cooling))\n",
    "    script_plt_cooling()\n",
    "    \n",
    "    # Flux comparison\n",
    "    show_html(climahtml.getHTML_idanchor(s_tb_flux))\n",
    "    show_markdown(climahtml.getMarkdown_sectitle(s_tb_flux))\n",
    "    script_tb_flux()\n",
    "    \n",
    "    # Best-fit values\n",
    "    show_html(climahtml.getHTML_idanchor(s_bestfits))\n",
    "    show_markdown(climahtml.getMarkdown_sectitle(s_bestfits))\n",
    "    print_bestfit_params()\n",
    "   \n",
    "    "
   ]
  },
  {
   "cell_type": "code",
   "execution_count": 12,
   "metadata": {
    "collapsed": true,
    "scrolled": false
   },
   "outputs": [
    {
     "data": {
      "text/markdown": [
       "### CLIRAD-LW"
      ],
      "text/plain": [
       "<IPython.core.display.Markdown object>"
      ]
     },
     "metadata": {},
     "output_type": "display_data"
    },
    {
     "data": {
      "text/markdown": [
       "### Table of Contents"
      ],
      "text/plain": [
       "<IPython.core.display.Markdown object>"
      ]
     },
     "metadata": {},
     "output_type": "display_data"
    },
    {
     "data": {
      "text/html": [
       "<a href=\"#Input_Parameters\">Input Parameters</a>"
      ],
      "text/plain": [
       "<IPython.core.display.HTML object>"
      ]
     },
     "metadata": {},
     "output_type": "display_data"
    },
    {
     "data": {
      "text/html": [
       "<a href=\"#LBLNEW_case_compaired_against\">LBLNEW case compaired against</a>"
      ],
      "text/plain": [
       "<IPython.core.display.HTML object>"
      ]
     },
     "metadata": {},
     "output_type": "display_data"
    },
    {
     "data": {
      "text/html": [
       "<a href=\"#Cooling_Rate_Profiles\">Cooling Rate Profiles</a>"
      ],
      "text/plain": [
       "<IPython.core.display.HTML object>"
      ]
     },
     "metadata": {},
     "output_type": "display_data"
    },
    {
     "data": {
      "text/html": [
       "<a href=\"#Flux_Comparison\">Flux Comparison</a>"
      ],
      "text/plain": [
       "<IPython.core.display.HTML object>"
      ]
     },
     "metadata": {},
     "output_type": "display_data"
    },
    {
     "data": {
      "text/html": [
       "<a href=\"#Best-fit_Parameters\">Best-fit Parameters</a>"
      ],
      "text/plain": [
       "<IPython.core.display.HTML object>"
      ]
     },
     "metadata": {},
     "output_type": "display_data"
    },
    {
     "data": {
      "text/html": [
       "<a id=\"Input_Parameters\"></a>"
      ],
      "text/plain": [
       "<IPython.core.display.HTML object>"
      ]
     },
     "metadata": {},
     "output_type": "display_data"
    },
    {
     "data": {
      "text/markdown": [
       "# Input Parameters"
      ],
      "text/plain": [
       "<IPython.core.display.Markdown object>"
      ]
     },
     "metadata": {},
     "output_type": "display_data"
    },
    {
     "name": "stdout",
     "output_type": "stream",
     "text": [
      "commitnumber = de5d43e\n",
      "molecule = {'h2o': 'atmpro', 'co2': 0.0004, 'o3': 'atmpro'}\n",
      "band = [7]\n",
      "atmpro = trp\n",
      "tsfc = 300\n"
     ]
    },
    {
     "data": {
      "text/html": [
       "<a id=\"LBLNEW_case_compaired_against\"></a>"
      ],
      "text/plain": [
       "<IPython.core.display.HTML object>"
      ]
     },
     "metadata": {},
     "output_type": "display_data"
    },
    {
     "data": {
      "text/markdown": [
       "# LBLNEW case compaired against"
      ],
      "text/plain": [
       "<IPython.core.display.Markdown object>"
      ]
     },
     "metadata": {},
     "output_type": "display_data"
    },
    {
     "name": "stdout",
     "output_type": "stream",
     "text": [
      "atmpro = trp\n",
      "band = 5\n",
      "commitnumber = 5014a19\n",
      "dv = 0.001\n",
      "molecule = {'h2o': 'atmpro', 'co2': 0.0004, 'o3': 'atmpro'}\n",
      "nv = 1000\n",
      "tsfc = 300\n"
     ]
    },
    {
     "data": {
      "text/html": [
       "<a id=\"Cooling_Rate_Profiles\"></a>"
      ],
      "text/plain": [
       "<IPython.core.display.HTML object>"
      ]
     },
     "metadata": {},
     "output_type": "display_data"
    },
    {
     "data": {
      "text/markdown": [
       "# Cooling Rate Profiles"
      ],
      "text/plain": [
       "<IPython.core.display.Markdown object>"
      ]
     },
     "metadata": {},
     "output_type": "display_data"
    },
    {
     "data": {
      "text/html": [
       "\n",
       "<div class=\"bk-root\">\n",
       "    <div class=\"bk-plotdiv\" id=\"82682a32-9166-412a-ad52-cd653215f1f8\"></div>\n",
       "</div>"
      ]
     },
     "metadata": {},
     "output_type": "display_data"
    },
    {
     "data": {
      "application/javascript": [
       "(function(root) {\n",
       "  function embed_document(root) {\n",
       "    \n",
       "  var docs_json = {\"0e46af49-e30a-4d24-be17-64e84d781929\":{\"roots\":{\"references\":[{\"attributes\":{\"callback\":null,\"end\":0.01,\"start\":1020},\"id\":\"71385f5f-baa7-4735-853f-173c134454bb\",\"type\":\"Range1d\"},{\"attributes\":{\"data_source\":{\"id\":\"7c48dd0a-52b9-4f28-a4be-f632105a8223\",\"type\":\"ColumnDataSource\"},\"glyph\":{\"id\":\"59c4459e-090b-4c54-99e8-4c5f1214da83\",\"type\":\"Line\"},\"hover_glyph\":null,\"muted_glyph\":null,\"nonselection_glyph\":{\"id\":\"1ccfb58d-2c05-4464-9feb-d3b05cf55c3e\",\"type\":\"Line\"},\"selection_glyph\":null,\"view\":{\"id\":\"c6251aba-2758-4d0c-9159-ce50ac9e47a1\",\"type\":\"CDSView\"}},\"id\":\"23152555-1277-4c4f-b605-3769bc35d301\",\"type\":\"GlyphRenderer\"},{\"attributes\":{\"dimension\":1,\"plot\":{\"id\":\"7c23b3a4-2a28-442a-8e40-38373e418446\",\"subtype\":\"Figure\",\"type\":\"Plot\"},\"ticker\":{\"id\":\"26ff4dc6-0918-4812-8394-25494b2f876c\",\"type\":\"LogTicker\"}},\"id\":\"5e9dc59d-5857-4411-9c3c-7dffd502f77c\",\"type\":\"Grid\"},{\"attributes\":{\"num_minor_ticks\":10},\"id\":\"26ff4dc6-0918-4812-8394-25494b2f876c\",\"type\":\"LogTicker\"},{\"attributes\":{\"bottom_units\":\"screen\",\"fill_alpha\":{\"value\":0.5},\"fill_color\":{\"value\":\"lightgrey\"},\"left_units\":\"screen\",\"level\":\"overlay\",\"line_alpha\":{\"value\":1.0},\"line_color\":{\"value\":\"black\"},\"line_dash\":[4,4],\"line_width\":{\"value\":2},\"plot\":null,\"render_mode\":\"css\",\"right_units\":\"screen\",\"top_units\":\"screen\"},\"id\":\"51e8ea88-d0ea-4732-a72c-91ac7f55e276\",\"type\":\"BoxAnnotation\"},{\"attributes\":{},\"id\":\"f5b88de2-3d5b-487f-af05-9d924ca2b14c\",\"type\":\"ResetTool\"},{\"attributes\":{},\"id\":\"0d0e19ba-59e4-4ab2-af58-b4d3476071d1\",\"type\":\"PanTool\"},{\"attributes\":{\"source\":{\"id\":\"4347f58c-c203-4c5e-b7f4-4cba50cb92f6\",\"type\":\"ColumnDataSource\"}},\"id\":\"579a8a42-6b44-4405-8bf3-fdec13c10dd6\",\"type\":\"CDSView\"},{\"attributes\":{},\"id\":\"100c1b51-6d3b-41d9-8ee4-9c240f818e83\",\"type\":\"WheelZoomTool\"},{\"attributes\":{\"callback\":null,\"data\":{\"x\":{\"__ndarray__\":\"atQE0Hbsnr826y5+ikuhv8fi44UH3KS/WU5j9/RDqL9pLcWIVoSrv8JiHkMRnK6/TXHqPXTFsL+YP9xenSayv7pCcyvxcbO/A0vH/5GntL/RNN/DUMe1v80RNJGS0ba/mi5UltLHt7/RbrXN23i4v0C7VW29+re/RKyJ+0svsr888LWQFTaAvxYldNngK7s/OcNgQCcr0j+dIUUyHkThP8jaGYWoa+w/wxeBDHjU9D+i6CbWTpn5P4TRrGwfcvo/7rJfd7oz+D+wgFNp1fjyPzBZ5PCsseo/rVqIxPMo4j/d2EcCaK/YP5xTJLrClso/aj8It2v4nr+7C9YwKgbRv/6a7m3h1t2/9iHS47X64r+3sNHm9nriv+Mk5rxzJti/H4N40RX0xr+J9R0u/0K8v1bA5BZYH7e/Lmvz41V0s7+k25bxhJiwvypBJun/9Ku/n1xdkiaFp7+/U6DNrNCjv8FwrmGGxqC/aj/YfVWbnL/rarjpS0aYv00CPrlSQZS/JafAE8SKkL97RKVBbBGKvwee/I+s+YK/bB9xFpZCd7/AjVN/BE9fvyqi6ynOHWE/s2DbjJ7VeT8z1idOKCOGP+/tTFdmAJA/4iC+n1xLlT+hFnGkrfaaPymACayBhaA/Kq30F9DEoz+70ODfNSKnP4vdUI6Ifao/wGBxF+XCrj+wYh4dSnmxP5Eum9j6pLM/N27Eogj6tT/w1caMe+m3P7LX/Vuw8bk/2fkrIpI6vD9y024Nz7++P/t/iwQJwMA/rfqeiZdEwj9ypVzpzvbDPwKtbUir88U/\",\"dtype\":\"float64\",\"shape\":[75]},\"y\":{\"__ndarray__\":\"S/O/Q+51ND/Sv8nbtpRIP2vylNV0PVE/aTum7souWD/At0SJ8fVgPw3Iuahxymc/MSNhhJWvcD/bTfBN02d3P2zb5nxnaoA/CD5h5MAGhz8NmeH1TyaQP+zrCsc9p5Y/LbKd76fGnz/bLW5ISEmmPww9YvTcQq8/JV2OstnstT8Er5Y7M8G+P0c+r3jqkcU/5h99k6ZBzj88bCIzFzjVP4enV8oyxN0//yH99nXg5D8qOpLLf0jtP5kqGJXUifQ/c9cS8kHP/D+/DpwzojQEQIEmwoanVwxA4lgXt9HgE0BSSZ2AJuIbQAMJih9jjiNA5q4l5INuK0AwTKYKRj0zQNv5fmq8/DpAaCJseHrtQkB/+zpwzoxKQM3MzMzMeFJAZmZmZmZqWEAAAAAAAFxeQM3MzMzMJmJAmpmZmZkfZUBmZmZmZhhoQDMzMzMzEWtAAAAAAAAKbkBmZmZmZoFwQM3MzMzM/XFAMzMzMzN6c0CamZmZmfZ0QAAAAAAAc3ZAZmZmZmbvd0DNzMzMzGt5QDMzMzMz6HpAmpmZmZlkfEAAAAAAAOF9QGZmZmZmXX9AZmZmZuZsgECamZmZGSuBQM3MzMxM6YFAAAAAAICngkAzMzMzs2WDQGZmZmbmI4RAmpmZmRnihEDNzMzMTKCFQAAAAACAXoZAMzMzM7Mch0BmZmZm5tqHQJqZmZkZmYhAzczMzExXiUAAAAAAgBWKQDMzMzOz04pAZmZmZuaRi0CamZmZGVCMQM3MzMxMDo1AAAAAAIDMjUAzMzMzs4qOQGZmZmbmSI9A\",\"dtype\":\"float64\",\"shape\":[75]}},\"selected\":{\"id\":\"dc772195-a06a-4976-aa63-905ac258939b\",\"type\":\"Selection\"},\"selection_policy\":{\"id\":\"08a4541f-3833-4278-b172-c7805f91f90b\",\"type\":\"UnionRenderers\"}},\"id\":\"4347f58c-c203-4c5e-b7f4-4cba50cb92f6\",\"type\":\"ColumnDataSource\"},{\"attributes\":{},\"id\":\"794d52bb-7671-4d26-ad56-97731aae207d\",\"type\":\"PanTool\"},{\"attributes\":{},\"id\":\"38f45fc2-f399-4bfa-9774-ff2bf86ae528\",\"type\":\"HelpTool\"},{\"attributes\":{\"overlay\":{\"id\":\"51e8ea88-d0ea-4732-a72c-91ac7f55e276\",\"type\":\"BoxAnnotation\"}},\"id\":\"26d342a3-c732-4c78-9419-8ad9719f724a\",\"type\":\"BoxZoomTool\"},{\"attributes\":{},\"id\":\"fe017e6c-e01a-4f40-8ac4-482d4898f06b\",\"type\":\"ResetTool\"},{\"attributes\":{\"line_alpha\":0.1,\"line_color\":\"#1f77b4\",\"line_dash\":[6],\"line_width\":5,\"x\":{\"field\":\"x\"},\"y\":{\"field\":\"y\"}},\"id\":\"2e6afaed-9fc6-4972-847e-9d5695782e22\",\"type\":\"Line\"},{\"attributes\":{},\"id\":\"771da55e-f447-40a2-8730-95f61e3102ff\",\"type\":\"HelpTool\"},{\"attributes\":{\"callback\":null,\"data\":{\"x\":{\"__ndarray__\":\"xLVy4OlWo790wWxEKJ2lv937cmt0/Km/g3126/Uhrr+Vc2nJ0Qaxv/j4SkEz37K/AHDs2XOZtL/icyIfxjS2v0DDRzbqsLe/pde6YrMUub/B9bQFfGW6vzPfJHrXqLu/fhEbyXHpvL9xNA2r9Oq9v5vRyTHdFL2/imkyJYr3tL8qZR5Za+cyv+vHJvkRv8E/fSvIhbkT1j9JigJcFCbkP7/QyIxcHPA/6ZBAKJQq9z9g8YqW8pD7P99rCI7LWPs/KChFK/ei+D9bG3RTFJnzPwDf8Rbd9Os/7ATJdTLc4j/diaO8oI/YPw4YfzbNFsg/Z6KYVB7xp78VdqytMxnRv+MJlH/zg9y/N3IXQHxJ4b+xCgadMUjgv8D8X79x49W/x2FRjW7vxb8UEM0bq727v+OIx9vQ6La/y32E99tys7+aSDZF6rewv0unO3BKUKy/TUM7RC/lp7+PZ13E8ymkv/9Pw4wwEqG/qWkF8JAOnb8XQ1BtJJSYvySagi1dXpS/+NG1nj1xkL9z72ASznGJv7rlqofd74G/M63IBbJZdL91uKPlI5VQv00Ccob9vmk/ZXC8zSfjfj+9XTYH9gKJP4Hrc31rnJE/alSyLDAVlz8ox67+Ge+cP9j0yyBxoaE/pZNlu1QCpT+rxwHkGW6oP+ZQR0ZVs6s/S68jxwO1rz8CpdF/N6axPwfhFptyX7M/L/xIYF8qtT/OIOqwVZG2Py7+W27VGrg/vY44ZAPpuT84pqPzTPW7P2oQKJMBPb4/nvv+D6hlwD9A0YYNYNvBP9iBMSrCsMM/\",\"dtype\":\"float64\",\"shape\":[75]},\"y\":{\"__ndarray__\":\"GhExyth1ND/Sv8nbtpRIP2vylNV0PVE/aTum7souWD/At0SJ8fVgPw3Iuahxymc/MSNhhJWvcD/bTfBN02d3P2zb5nxnaoA/CD5h5MAGhz8NmeH1TyaQP+zrCsc9p5Y/LbKd76fGnz/bLW5ISEmmPww9YvTcQq8/JV2OstnstT8Er5Y7M8G+P0c+r3jqkcU/5h99k6ZBzj88bCIzFzjVP4enV8oyxN0//yH99nXg5D8qOpLLf0jtP5kqGJXUifQ/c9cS8kHP/D+/DpwzojQEQIEmwoanVwxA4lgXt9HgE0BSSZ2AJuIbQAMJih9jjiNA5q4l5INuK0AwTKYKRj0zQNv5fmq8/DpAaCJseHrtQkB/+zpwzoxKQM3MzMzMeFJAZmZmZmZqWEAAAAAAAFxeQM3MzMzMJmJAmpmZmZkfZUBmZmZmZhhoQDMzMzMzEWtAAAAAAAAKbkBmZmZmZoFwQM3MzMzM/XFAMzMzMzN6c0CamZmZmfZ0QAAAAAAAc3ZAZmZmZmbvd0DNzMzMzGt5QDMzMzMz6HpAmpmZmZlkfEAAAAAAAOF9QGZmZmZmXX9AZmZmZuZsgECamZmZGSuBQM3MzMxM6YFAAAAAAICngkAzMzMzs2WDQGZmZmbmI4RAmpmZmRnihEDNzMzMTKCFQAAAAACAXoZAMzMzM7Mch0BmZmZm5tqHQJqZmZkZmYhAzczMzExXiUAAAAAAgBWKQDMzMzOz04pAZmZmZuaRi0CamZmZGVCMQM3MzMxMDo1AAAAAAIDMjUAzMzMzs4qOQGZmZmbmSI9A\",\"dtype\":\"float64\",\"shape\":[75]}},\"selected\":{\"id\":\"13a76f77-d5d7-4a8f-a04d-8dfd796e3c46\",\"type\":\"Selection\"},\"selection_policy\":{\"id\":\"fb89f395-50ac-4ce7-b95b-4975be5862fb\",\"type\":\"UnionRenderers\"}},\"id\":\"b1eb2d05-cd67-4627-a092-890baf0ef8a7\",\"type\":\"ColumnDataSource\"},{\"attributes\":{},\"id\":\"dece1c61-1a32-4a60-bbd0-529e7be6c5e8\",\"type\":\"SaveTool\"},{\"attributes\":{},\"id\":\"f290c4e4-52e1-4801-92ca-b19a7ef27b0b\",\"type\":\"SaveTool\"},{\"attributes\":{},\"id\":\"3ad2877b-dd96-435c-a499-f25f65263f84\",\"type\":\"WheelZoomTool\"},{\"attributes\":{\"overlay\":{\"id\":\"3f035424-14fe-4ce8-84d7-1a11a7caf56c\",\"type\":\"BoxAnnotation\"}},\"id\":\"f4eedfa2-3f9c-4dd3-90a2-8818c59b39b7\",\"type\":\"BoxZoomTool\"},{\"attributes\":{\"fill_alpha\":{\"value\":0.1},\"fill_color\":{\"value\":\"#1f77b4\"},\"line_alpha\":{\"value\":0.1},\"line_color\":{\"value\":\"#1f77b4\"},\"x\":{\"field\":\"x\"},\"y\":{\"field\":\"y\"}},\"id\":\"4d446352-83e4-4ecb-9484-2be0a32bbc6a\",\"type\":\"Circle\"},{\"attributes\":{\"source\":{\"id\":\"1c0bb9ec-93b3-4081-b5b8-a9602d249c8e\",\"type\":\"ColumnDataSource\"}},\"id\":\"9c04798b-3579-46b1-ac3d-1a8aed34aa46\",\"type\":\"CDSView\"},{\"attributes\":{\"line_alpha\":0.1,\"line_color\":\"#1f77b4\",\"line_width\":3,\"x\":{\"field\":\"x\"},\"y\":{\"field\":\"y\"}},\"id\":\"1ccfb58d-2c05-4464-9feb-d3b05cf55c3e\",\"type\":\"Line\"},{\"attributes\":{\"data_source\":{\"id\":\"b1eb2d05-cd67-4627-a092-890baf0ef8a7\",\"type\":\"ColumnDataSource\"},\"glyph\":{\"id\":\"3feb635f-bed9-42ba-a78d-ff5569f46e50\",\"type\":\"Line\"},\"hover_glyph\":null,\"muted_glyph\":null,\"nonselection_glyph\":{\"id\":\"801637d0-5804-40f2-a5cf-4915786b380f\",\"type\":\"Line\"},\"selection_glyph\":null,\"view\":{\"id\":\"959a4f65-95a8-48a4-a52b-60cf4a99827f\",\"type\":\"CDSView\"}},\"id\":\"cdb7ffbc-24f4-4884-b683-72e82ebbd898\",\"type\":\"GlyphRenderer\"},{\"attributes\":{\"line_alpha\":0.1,\"line_color\":\"#1f77b4\",\"line_dash\":[6],\"line_width\":5,\"x\":{\"field\":\"x\"},\"y\":{\"field\":\"y\"}},\"id\":\"74a9fa2d-1a5f-4de6-9a2c-6fdd1bc568dc\",\"type\":\"Line\"},{\"attributes\":{},\"id\":\"1fd53e49-6fc5-49e2-b7a1-ad2fe844122e\",\"type\":\"LogScale\"},{\"attributes\":{\"source\":{\"id\":\"68555546-1ede-4f5a-a6c1-0327e77cd11a\",\"type\":\"ColumnDataSource\"}},\"id\":\"d6bee80d-fe49-4f72-a5c0-9b3a141e0b52\",\"type\":\"CDSView\"},{\"attributes\":{\"active_drag\":\"auto\",\"active_inspect\":\"auto\",\"active_scroll\":\"auto\",\"active_tap\":\"auto\",\"tools\":[{\"id\":\"0d0e19ba-59e4-4ab2-af58-b4d3476071d1\",\"type\":\"PanTool\"},{\"id\":\"100c1b51-6d3b-41d9-8ee4-9c240f818e83\",\"type\":\"WheelZoomTool\"},{\"id\":\"26d342a3-c732-4c78-9419-8ad9719f724a\",\"type\":\"BoxZoomTool\"},{\"id\":\"f290c4e4-52e1-4801-92ca-b19a7ef27b0b\",\"type\":\"SaveTool\"},{\"id\":\"fe017e6c-e01a-4f40-8ac4-482d4898f06b\",\"type\":\"ResetTool\"},{\"id\":\"771da55e-f447-40a2-8730-95f61e3102ff\",\"type\":\"HelpTool\"}]},\"id\":\"5d5939a1-f066-43d9-a04c-2b00e7a55fc0\",\"type\":\"Toolbar\"},{\"attributes\":{\"plot\":null,\"text\":\"Log pressure scale\"},\"id\":\"5ceed3f6-eea3-4d4d-8bc6-3c238eabfad5\",\"type\":\"Title\"},{\"attributes\":{\"line_alpha\":0.6,\"line_color\":\"#e41a1c\",\"line_dash\":[6],\"line_width\":5,\"x\":{\"field\":\"x\"},\"y\":{\"field\":\"y\"}},\"id\":\"a1310d1c-8947-4e9d-86c9-0957ca21c26e\",\"type\":\"Line\"},{\"attributes\":{\"fill_alpha\":{\"value\":0.1},\"fill_color\":{\"value\":\"#1f77b4\"},\"line_alpha\":{\"value\":0.1},\"line_color\":{\"value\":\"#1f77b4\"},\"x\":{\"field\":\"x\"},\"y\":{\"field\":\"y\"}},\"id\":\"a1da00bb-ce9d-4d05-91cb-d5a47cfdd74c\",\"type\":\"Square\"},{\"attributes\":{\"fill_alpha\":{\"value\":0.7},\"fill_color\":{\"value\":\"#4daf4a\"},\"line_alpha\":{\"value\":0.7},\"line_color\":{\"value\":\"#4daf4a\"},\"x\":{\"field\":\"x\"},\"y\":{\"field\":\"y\"}},\"id\":\"267ab713-3917-4d7c-9895-7f06510ec08f\",\"type\":\"Circle\"},{\"attributes\":{\"axis_label\":\"cooling rate [K/day]\",\"formatter\":{\"id\":\"0a794b13-074a-422d-9113-cfe0bd2db198\",\"type\":\"BasicTickFormatter\"},\"plot\":{\"id\":\"7c23b3a4-2a28-442a-8e40-38373e418446\",\"subtype\":\"Figure\",\"type\":\"Plot\"},\"ticker\":{\"id\":\"14781016-ace9-40cb-aeb8-47d0a42d8335\",\"type\":\"BasicTicker\"}},\"id\":\"695aee47-481e-4020-b748-be08379a2a66\",\"type\":\"LinearAxis\"},{\"attributes\":{\"plot\":null,\"text\":\"Linear pressure scale\"},\"id\":\"e900f6b4-382c-46a9-9caa-b254a684c5d7\",\"type\":\"Title\"},{\"attributes\":{\"line_alpha\":0.6,\"line_color\":\"#984ea3\",\"line_width\":3,\"x\":{\"field\":\"x\"},\"y\":{\"field\":\"y\"}},\"id\":\"fb001bcb-3279-46f4-9629-b9c210697854\",\"type\":\"Line\"},{\"attributes\":{\"source\":{\"id\":\"7c48dd0a-52b9-4f28-a4be-f632105a8223\",\"type\":\"ColumnDataSource\"}},\"id\":\"c6251aba-2758-4d0c-9159-ce50ac9e47a1\",\"type\":\"CDSView\"},{\"attributes\":{\"data_source\":{\"id\":\"4347f58c-c203-4c5e-b7f4-4cba50cb92f6\",\"type\":\"ColumnDataSource\"},\"glyph\":{\"id\":\"6ac9a73e-685e-4eeb-a08c-6ca7baeb6b70\",\"type\":\"Line\"},\"hover_glyph\":null,\"muted_glyph\":null,\"nonselection_glyph\":{\"id\":\"2e6afaed-9fc6-4972-847e-9d5695782e22\",\"type\":\"Line\"},\"selection_glyph\":null,\"view\":{\"id\":\"579a8a42-6b44-4405-8bf3-fdec13c10dd6\",\"type\":\"CDSView\"}},\"id\":\"97768e31-6e32-4e13-a984-75cd8d04e756\",\"type\":\"GlyphRenderer\"},{\"attributes\":{\"line_alpha\":0.1,\"line_color\":\"#1f77b4\",\"line_width\":3,\"x\":{\"field\":\"x\"},\"y\":{\"field\":\"y\"}},\"id\":\"41e530d0-cecb-496f-b964-72241f937d2b\",\"type\":\"Line\"},{\"attributes\":{\"callback\":null,\"end\":1.7460475191,\"start\":-0.6162642291},\"id\":\"4a9e4cd7-6fbd-48c4-9137-b9f34be6abf3\",\"type\":\"Range1d\"},{\"attributes\":{\"fill_alpha\":{\"value\":0.7},\"fill_color\":{\"value\":\"#984ea3\"},\"line_alpha\":{\"value\":0.7},\"line_color\":{\"value\":\"#984ea3\"},\"x\":{\"field\":\"x\"},\"y\":{\"field\":\"y\"}},\"id\":\"bd38ca5e-6eed-49b5-92e5-4e4e9a859966\",\"type\":\"Square\"},{\"attributes\":{\"callback\":null,\"data\":{\"x\":{\"__ndarray__\":\"xLVy4OlWo790wWxEKJ2lv937cmt0/Km/g3126/Uhrr+Vc2nJ0Qaxv/j4SkEz37K/AHDs2XOZtL/icyIfxjS2v0DDRzbqsLe/pde6YrMUub/B9bQFfGW6vzPfJHrXqLu/fhEbyXHpvL9xNA2r9Oq9v5vRyTHdFL2/imkyJYr3tL8qZR5Za+cyv+vHJvkRv8E/fSvIhbkT1j9JigJcFCbkP7/QyIxcHPA/6ZBAKJQq9z9g8YqW8pD7P99rCI7LWPs/KChFK/ei+D9bG3RTFJnzPwDf8Rbd9Os/7ATJdTLc4j/diaO8oI/YPw4YfzbNFsg/Z6KYVB7xp78VdqytMxnRv+MJlH/zg9y/N3IXQHxJ4b+xCgadMUjgv8D8X79x49W/x2FRjW7vxb8UEM0bq727v+OIx9vQ6La/y32E99tys7+aSDZF6rewv0unO3BKUKy/TUM7RC/lp7+PZ13E8ymkv/9Pw4wwEqG/qWkF8JAOnb8XQ1BtJJSYvySagi1dXpS/+NG1nj1xkL9z72ASznGJv7rlqofd74G/M63IBbJZdL91uKPlI5VQv00Ccob9vmk/ZXC8zSfjfj+9XTYH9gKJP4Hrc31rnJE/alSyLDAVlz8ox67+Ge+cP9j0yyBxoaE/pZNlu1QCpT+rxwHkGW6oP+ZQR0ZVs6s/S68jxwO1rz8CpdF/N6axPwfhFptyX7M/L/xIYF8qtT/OIOqwVZG2Py7+W27VGrg/vY44ZAPpuT84pqPzTPW7P2oQKJMBPb4/nvv+D6hlwD9A0YYNYNvBP9iBMSrCsMM/\",\"dtype\":\"float64\",\"shape\":[75]},\"y\":{\"__ndarray__\":\"GhExyth1ND/Sv8nbtpRIP2vylNV0PVE/aTum7souWD/At0SJ8fVgPw3Iuahxymc/MSNhhJWvcD/bTfBN02d3P2zb5nxnaoA/CD5h5MAGhz8NmeH1TyaQP+zrCsc9p5Y/LbKd76fGnz/bLW5ISEmmPww9YvTcQq8/JV2OstnstT8Er5Y7M8G+P0c+r3jqkcU/5h99k6ZBzj88bCIzFzjVP4enV8oyxN0//yH99nXg5D8qOpLLf0jtP5kqGJXUifQ/c9cS8kHP/D+/DpwzojQEQIEmwoanVwxA4lgXt9HgE0BSSZ2AJuIbQAMJih9jjiNA5q4l5INuK0AwTKYKRj0zQNv5fmq8/DpAaCJseHrtQkB/+zpwzoxKQM3MzMzMeFJAZmZmZmZqWEAAAAAAAFxeQM3MzMzMJmJAmpmZmZkfZUBmZmZmZhhoQDMzMzMzEWtAAAAAAAAKbkBmZmZmZoFwQM3MzMzM/XFAMzMzMzN6c0CamZmZmfZ0QAAAAAAAc3ZAZmZmZmbvd0DNzMzMzGt5QDMzMzMz6HpAmpmZmZlkfEAAAAAAAOF9QGZmZmZmXX9AZmZmZuZsgECamZmZGSuBQM3MzMxM6YFAAAAAAICngkAzMzMzs2WDQGZmZmbmI4RAmpmZmRnihEDNzMzMTKCFQAAAAACAXoZAMzMzM7Mch0BmZmZm5tqHQJqZmZkZmYhAzczMzExXiUAAAAAAgBWKQDMzMzOz04pAZmZmZuaRi0CamZmZGVCMQM3MzMxMDo1AAAAAAIDMjUAzMzMzs4qOQGZmZmbmSI9A\",\"dtype\":\"float64\",\"shape\":[75]}},\"selected\":{\"id\":\"d7e66a1e-7f99-4341-aec4-a745520f8a9b\",\"type\":\"Selection\"},\"selection_policy\":{\"id\":\"e7f81266-1815-44b6-bc18-312db1bda1e6\",\"type\":\"UnionRenderers\"}},\"id\":\"2a936871-4d77-4590-bdf7-bda26ce40177\",\"type\":\"ColumnDataSource\"},{\"attributes\":{\"below\":[{\"id\":\"695aee47-481e-4020-b748-be08379a2a66\",\"type\":\"LinearAxis\"}],\"left\":[{\"id\":\"be503393-93e4-43d7-968b-ab1604553d5a\",\"type\":\"LogAxis\"}],\"plot_height\":500,\"plot_width\":560,\"renderers\":[{\"id\":\"695aee47-481e-4020-b748-be08379a2a66\",\"type\":\"LinearAxis\"},{\"id\":\"5b1f5940-8f83-4a76-923a-89281eddc1c1\",\"type\":\"Grid\"},{\"id\":\"be503393-93e4-43d7-968b-ab1604553d5a\",\"type\":\"LogAxis\"},{\"id\":\"5e9dc59d-5857-4411-9c3c-7dffd502f77c\",\"type\":\"Grid\"},{\"id\":\"51e8ea88-d0ea-4732-a72c-91ac7f55e276\",\"type\":\"BoxAnnotation\"},{\"id\":\"9923ddb8-c604-4bd3-a1c5-792f458cd3f3\",\"type\":\"GlyphRenderer\"},{\"id\":\"c9515c64-967b-469f-b8dc-aeaff40064e4\",\"type\":\"GlyphRenderer\"},{\"id\":\"27b6562e-08cc-4a31-bcb8-3b3056801db2\",\"type\":\"GlyphRenderer\"},{\"id\":\"5f28ce75-7a53-4bd6-9ec8-59cc45510490\",\"type\":\"GlyphRenderer\"},{\"id\":\"23152555-1277-4c4f-b605-3769bc35d301\",\"type\":\"GlyphRenderer\"},{\"id\":\"52db6501-75e4-4770-8cd1-2e64cb1a286f\",\"type\":\"Legend\"}],\"right\":[{\"id\":\"52db6501-75e4-4770-8cd1-2e64cb1a286f\",\"type\":\"Legend\"}],\"title\":{\"id\":\"5ceed3f6-eea3-4d4d-8bc6-3c238eabfad5\",\"type\":\"Title\"},\"toolbar\":{\"id\":\"5d5939a1-f066-43d9-a04c-2b00e7a55fc0\",\"type\":\"Toolbar\"},\"toolbar_location\":null,\"x_range\":{\"id\":\"4a9e4cd7-6fbd-48c4-9137-b9f34be6abf3\",\"type\":\"Range1d\"},\"x_scale\":{\"id\":\"2f4eddb1-c84d-4313-96f5-8e72d0e51064\",\"type\":\"LinearScale\"},\"y_range\":{\"id\":\"2a8b9a68-7c15-42e1-a03b-ff015116ff77\",\"type\":\"Range1d\"},\"y_scale\":{\"id\":\"1fd53e49-6fc5-49e2-b7a1-ad2fe844122e\",\"type\":\"LogScale\"}},\"id\":\"7c23b3a4-2a28-442a-8e40-38373e418446\",\"subtype\":\"Figure\",\"type\":\"Plot\"},{\"attributes\":{\"source\":{\"id\":\"a06fd824-dda1-439f-b485-fa415a88081a\",\"type\":\"ColumnDataSource\"}},\"id\":\"3bb31d14-ba13-44f3-8059-6be4d74e405b\",\"type\":\"CDSView\"},{\"attributes\":{\"line_alpha\":0.6,\"line_color\":\"#984ea3\",\"line_width\":3,\"x\":{\"field\":\"x\"},\"y\":{\"field\":\"y\"}},\"id\":\"59c4459e-090b-4c54-99e8-4c5f1214da83\",\"type\":\"Line\"},{\"attributes\":{\"plot\":{\"id\":\"401d6ed0-5646-4734-98ac-d1f48abf2c42\",\"subtype\":\"Figure\",\"type\":\"Plot\"},\"ticker\":{\"id\":\"de2ae9e5-e30b-4a39-bfa6-ac8198a91c0a\",\"type\":\"BasicTicker\"}},\"id\":\"983b7f25-d970-43a4-9e0a-73c58b3771fd\",\"type\":\"Grid\"},{\"attributes\":{},\"id\":\"2f4eddb1-c84d-4313-96f5-8e72d0e51064\",\"type\":\"LinearScale\"},{\"attributes\":{},\"id\":\"4d97e960-b9a7-42c6-8f31-e50c8589de00\",\"type\":\"LinearScale\"},{\"attributes\":{\"data_source\":{\"id\":\"10055c60-8369-4d49-a38d-68d74aeab52e\",\"type\":\"ColumnDataSource\"},\"glyph\":{\"id\":\"b10942a8-c9a1-45a6-9e16-6796a06c8d65\",\"type\":\"Circle\"},\"hover_glyph\":null,\"muted_glyph\":null,\"nonselection_glyph\":{\"id\":\"4d446352-83e4-4ecb-9484-2be0a32bbc6a\",\"type\":\"Circle\"},\"selection_glyph\":null,\"view\":{\"id\":\"79717b3c-5a57-47a7-8e1c-6a8abb5904cd\",\"type\":\"CDSView\"}},\"id\":\"a104205e-3e29-4148-a4f3-83ee7e4244ae\",\"type\":\"GlyphRenderer\"},{\"attributes\":{\"callback\":null,\"data\":{\"x\":{\"__ndarray__\":\"xLVy4OlWo790wWxEKJ2lv937cmt0/Km/g3126/Uhrr+Vc2nJ0Qaxv/j4SkEz37K/AHDs2XOZtL/icyIfxjS2v0DDRzbqsLe/pde6YrMUub/B9bQFfGW6vzPfJHrXqLu/fhEbyXHpvL9xNA2r9Oq9v5vRyTHdFL2/imkyJYr3tL8qZR5Za+cyv+vHJvkRv8E/fSvIhbkT1j9JigJcFCbkP7/QyIxcHPA/6ZBAKJQq9z9g8YqW8pD7P99rCI7LWPs/KChFK/ei+D9bG3RTFJnzPwDf8Rbd9Os/7ATJdTLc4j/diaO8oI/YPw4YfzbNFsg/Z6KYVB7xp78VdqytMxnRv+MJlH/zg9y/N3IXQHxJ4b+xCgadMUjgv8D8X79x49W/x2FRjW7vxb8UEM0bq727v+OIx9vQ6La/y32E99tys7+aSDZF6rewv0unO3BKUKy/TUM7RC/lp7+PZ13E8ymkv/9Pw4wwEqG/qWkF8JAOnb8XQ1BtJJSYvySagi1dXpS/+NG1nj1xkL9z72ASznGJv7rlqofd74G/M63IBbJZdL91uKPlI5VQv00Ccob9vmk/ZXC8zSfjfj+9XTYH9gKJP4Hrc31rnJE/alSyLDAVlz8ox67+Ge+cP9j0yyBxoaE/pZNlu1QCpT+rxwHkGW6oP+ZQR0ZVs6s/S68jxwO1rz8CpdF/N6axPwfhFptyX7M/L/xIYF8qtT/OIOqwVZG2Py7+W27VGrg/vY44ZAPpuT84pqPzTPW7P2oQKJMBPb4/nvv+D6hlwD9A0YYNYNvBP9iBMSrCsMM/\",\"dtype\":\"float64\",\"shape\":[75]},\"y\":{\"__ndarray__\":\"GhExyth1ND/Sv8nbtpRIP2vylNV0PVE/aTum7souWD/At0SJ8fVgPw3Iuahxymc/MSNhhJWvcD/bTfBN02d3P2zb5nxnaoA/CD5h5MAGhz8NmeH1TyaQP+zrCsc9p5Y/LbKd76fGnz/bLW5ISEmmPww9YvTcQq8/JV2OstnstT8Er5Y7M8G+P0c+r3jqkcU/5h99k6ZBzj88bCIzFzjVP4enV8oyxN0//yH99nXg5D8qOpLLf0jtP5kqGJXUifQ/c9cS8kHP/D+/DpwzojQEQIEmwoanVwxA4lgXt9HgE0BSSZ2AJuIbQAMJih9jjiNA5q4l5INuK0AwTKYKRj0zQNv5fmq8/DpAaCJseHrtQkB/+zpwzoxKQM3MzMzMeFJAZmZmZmZqWEAAAAAAAFxeQM3MzMzMJmJAmpmZmZkfZUBmZmZmZhhoQDMzMzMzEWtAAAAAAAAKbkBmZmZmZoFwQM3MzMzM/XFAMzMzMzN6c0CamZmZmfZ0QAAAAAAAc3ZAZmZmZmbvd0DNzMzMzGt5QDMzMzMz6HpAmpmZmZlkfEAAAAAAAOF9QGZmZmZmXX9AZmZmZuZsgECamZmZGSuBQM3MzMxM6YFAAAAAAICngkAzMzMzs2WDQGZmZmbmI4RAmpmZmRnihEDNzMzMTKCFQAAAAACAXoZAMzMzM7Mch0BmZmZm5tqHQJqZmZkZmYhAzczMzExXiUAAAAAAgBWKQDMzMzOz04pAZmZmZuaRi0CamZmZGVCMQM3MzMxMDo1AAAAAAIDMjUAzMzMzs4qOQGZmZmbmSI9A\",\"dtype\":\"float64\",\"shape\":[75]}},\"selected\":{\"id\":\"5d9e8bda-9791-495d-8dc9-924bcf601255\",\"type\":\"Selection\"},\"selection_policy\":{\"id\":\"829e243f-ada3-4869-b8dc-2b3816618f26\",\"type\":\"UnionRenderers\"}},\"id\":\"10055c60-8369-4d49-a38d-68d74aeab52e\",\"type\":\"ColumnDataSource\"},{\"attributes\":{\"line_alpha\":0.6,\"line_color\":\"#e41a1c\",\"line_dash\":[6],\"line_width\":5,\"x\":{\"field\":\"x\"},\"y\":{\"field\":\"y\"}},\"id\":\"6ac9a73e-685e-4eeb-a08c-6ca7baeb6b70\",\"type\":\"Line\"},{\"attributes\":{\"data_source\":{\"id\":\"a06fd824-dda1-439f-b485-fa415a88081a\",\"type\":\"ColumnDataSource\"},\"glyph\":{\"id\":\"fb001bcb-3279-46f4-9629-b9c210697854\",\"type\":\"Line\"},\"hover_glyph\":null,\"muted_glyph\":null,\"nonselection_glyph\":{\"id\":\"41e530d0-cecb-496f-b964-72241f937d2b\",\"type\":\"Line\"},\"selection_glyph\":null,\"view\":{\"id\":\"3bb31d14-ba13-44f3-8059-6be4d74e405b\",\"type\":\"CDSView\"}},\"id\":\"89ca7d4c-bf3c-49a5-833b-a85804de086a\",\"type\":\"GlyphRenderer\"},{\"attributes\":{\"callback\":null,\"end\":0.17898878000000001,\"start\":-0.5850004},\"id\":\"5b0d19eb-415a-4843-bbda-97457024779c\",\"type\":\"Range1d\"},{\"attributes\":{\"items\":[{\"id\":\"69558d7c-ae6e-4faf-9f58-5f7ad4ddb904\",\"type\":\"LegendItem\"},{\"id\":\"93bd7ada-f7f5-4a68-8f02-a457ed28282b\",\"type\":\"LegendItem\"},{\"id\":\"ba5a078c-d01a-4230-8601-f195764f8e88\",\"type\":\"LegendItem\"}],\"label_text_font_size\":{\"value\":\"8pt\"},\"location\":[10,-30],\"plot\":{\"id\":\"7c23b3a4-2a28-442a-8e40-38373e418446\",\"subtype\":\"Figure\",\"type\":\"Plot\"}},\"id\":\"52db6501-75e4-4770-8cd1-2e64cb1a286f\",\"type\":\"Legend\"},{\"attributes\":{},\"id\":\"de2ae9e5-e30b-4a39-bfa6-ac8198a91c0a\",\"type\":\"BasicTicker\"},{\"attributes\":{},\"id\":\"14781016-ace9-40cb-aeb8-47d0a42d8335\",\"type\":\"BasicTicker\"},{\"attributes\":{\"tools\":[{\"id\":\"794d52bb-7671-4d26-ad56-97731aae207d\",\"type\":\"PanTool\"},{\"id\":\"3ad2877b-dd96-435c-a499-f25f65263f84\",\"type\":\"WheelZoomTool\"},{\"id\":\"f4eedfa2-3f9c-4dd3-90a2-8818c59b39b7\",\"type\":\"BoxZoomTool\"},{\"id\":\"dece1c61-1a32-4a60-bbd0-529e7be6c5e8\",\"type\":\"SaveTool\"},{\"id\":\"f5b88de2-3d5b-487f-af05-9d924ca2b14c\",\"type\":\"ResetTool\"},{\"id\":\"38f45fc2-f399-4bfa-9774-ff2bf86ae528\",\"type\":\"HelpTool\"},{\"id\":\"0d0e19ba-59e4-4ab2-af58-b4d3476071d1\",\"type\":\"PanTool\"},{\"id\":\"100c1b51-6d3b-41d9-8ee4-9c240f818e83\",\"type\":\"WheelZoomTool\"},{\"id\":\"26d342a3-c732-4c78-9419-8ad9719f724a\",\"type\":\"BoxZoomTool\"},{\"id\":\"f290c4e4-52e1-4801-92ca-b19a7ef27b0b\",\"type\":\"SaveTool\"},{\"id\":\"fe017e6c-e01a-4f40-8ac4-482d4898f06b\",\"type\":\"ResetTool\"},{\"id\":\"771da55e-f447-40a2-8730-95f61e3102ff\",\"type\":\"HelpTool\"}]},\"id\":\"000cab66-8463-4617-9da5-2734a91bd9ef\",\"type\":\"ProxyToolbar\"},{\"attributes\":{},\"id\":\"34eea12c-401a-4dd0-9cfd-b069ca50425d\",\"type\":\"BasicTicker\"},{\"attributes\":{\"callback\":null,\"data\":{\"x\":{\"__ndarray__\":\"uIhNNq4Xob/O/IGqhR2jv3i8NgwABKe/WUeSdly6qr+8GqilHECuv/edyXhAy7C/mH3fPvlbsr8cTW0qBNKzvw2KsQ9cLLW/0+TM8Etvtr8wPAtPo6G3vz2zzj+UxLi/ZufAtKDeub/13nO78rS6v7Sxbawf9rm/TMaooN/Nsr/DEn10tWMuv6k0/zvkXsA/cB/BpjGO1D/cdFe43fLiP8ZhvChyj+4/EtZrH5cd9j/gibTo+KP6P1QLgEzG7Po/9WlwthSr+D9Lzok9tO/zP7DNIQQ/Je0/KmQZqK1t5D+gNYEapejbP1mN44+7680/5s5y9z73k7/wb200wpPQv6AdifrRLt2/+lB5pl1N4r/LM0gkfoPhv+MD2NNQG9e/iO4fLN+Kxr+1YFbmtSu8v3Qngn/kMre/ZA82Oryns7+vsB3i2OCwv5XfAgbSkKy/l9P+BKAcqL/Q4TYn6l2kv9dGtp/+RqG/fjUCTyyAnb90b4o24w6Zv7srB++15JS/VeveOX0Fkb9eNTn2mLqKv7OJMq3rXYO/G4B2kKpwd79OC3j/+s1dvxGnqy0Q02I/EGjFRD5Aez9NW68rXhOHPyk15jsZmJA/fxzhdXwClj97Qjd6g8+bP42VhIM+CqE/yWFv48hjpD8Uo2Amh9inP+BkrhvVOqs/AgZ310F0rz8s56GiKbyxP+Xc0tydxLM/1pquc0j0tT/1X2vfccS3P149egWatrk/BTJ9p7Dvuz/IkAgyp3C+P80Ew7mGmcA/i6zSaR8jwj8c4gYZVN3DP+6X7CtR7sU/\",\"dtype\":\"float64\",\"shape\":[75]},\"y\":{\"__ndarray__\":\"GhExyth1ND/Sv8nbtpRIP2vylNV0PVE/aTum7souWD/At0SJ8fVgPw3Iuahxymc/MSNhhJWvcD/bTfBN02d3P2zb5nxnaoA/CD5h5MAGhz8NmeH1TyaQP+zrCsc9p5Y/LbKd76fGnz/bLW5ISEmmPww9YvTcQq8/JV2OstnstT8Er5Y7M8G+P0c+r3jqkcU/5h99k6ZBzj88bCIzFzjVP4enV8oyxN0//yH99nXg5D8qOpLLf0jtP5kqGJXUifQ/c9cS8kHP/D+/DpwzojQEQIEmwoanVwxA4lgXt9HgE0BSSZ2AJuIbQAMJih9jjiNA5q4l5INuK0AwTKYKRj0zQNv5fmq8/DpAaCJseHrtQkB/+zpwzoxKQM3MzMzMeFJAZmZmZmZqWEAAAAAAAFxeQM3MzMzMJmJAmpmZmZkfZUBmZmZmZhhoQDMzMzMzEWtAAAAAAAAKbkBmZmZmZoFwQM3MzMzM/XFAMzMzMzN6c0CamZmZmfZ0QAAAAAAAc3ZAZmZmZmbvd0DNzMzMzGt5QDMzMzMz6HpAmpmZmZlkfEAAAAAAAOF9QGZmZmZmXX9AZmZmZuZsgECamZmZGSuBQM3MzMxM6YFAAAAAAICngkAzMzMzs2WDQGZmZmbmI4RAmpmZmRnihEDNzMzMTKCFQAAAAACAXoZAMzMzM7Mch0BmZmZm5tqHQJqZmZkZmYhAzczMzExXiUAAAAAAgBWKQDMzMzOz04pAZmZmZuaRi0CamZmZGVCMQM3MzMxMDo1AAAAAAIDMjUAzMzMzs4qOQGZmZmbmSI9A\",\"dtype\":\"float64\",\"shape\":[75]}},\"selected\":{\"id\":\"6fe3a8c1-a083-43e3-af6e-3369ef0df006\",\"type\":\"Selection\"},\"selection_policy\":{\"id\":\"6d9bce48-d454-48f7-826e-23c516fe0c6f\",\"type\":\"UnionRenderers\"}},\"id\":\"7c48dd0a-52b9-4f28-a4be-f632105a8223\",\"type\":\"ColumnDataSource\"},{\"attributes\":{\"callback\":null,\"data\":{\"x\":{\"__ndarray__\":\"uIhNNq4Xob/O/IGqhR2jv3i8NgwABKe/WUeSdly6qr+8GqilHECuv/edyXhAy7C/mH3fPvlbsr8cTW0qBNKzvw2KsQ9cLLW/0+TM8Etvtr8wPAtPo6G3vz2zzj+UxLi/ZufAtKDeub/13nO78rS6v7Sxbawf9rm/TMaooN/Nsr/DEn10tWMuv6k0/zvkXsA/cB/BpjGO1D/cdFe43fLiP8ZhvChyj+4/EtZrH5cd9j/gibTo+KP6P1QLgEzG7Po/9WlwthSr+D9Lzok9tO/zP7DNIQQ/Je0/KmQZqK1t5D+gNYEapejbP1mN44+7680/5s5y9z73k7/wb200wpPQv6AdifrRLt2/+lB5pl1N4r/LM0gkfoPhv+MD2NNQG9e/iO4fLN+Kxr+1YFbmtSu8v3Qngn/kMre/ZA82Oryns7+vsB3i2OCwv5XfAgbSkKy/l9P+BKAcqL/Q4TYn6l2kv9dGtp/+RqG/fjUCTyyAnb90b4o24w6Zv7srB++15JS/VeveOX0Fkb9eNTn2mLqKv7OJMq3rXYO/G4B2kKpwd79OC3j/+s1dvxGnqy0Q02I/EGjFRD5Aez9NW68rXhOHPyk15jsZmJA/fxzhdXwClj97Qjd6g8+bP42VhIM+CqE/yWFv48hjpD8Uo2Amh9inP+BkrhvVOqs/AgZ310F0rz8s56GiKbyxP+Xc0tydxLM/1pquc0j0tT/1X2vfccS3P149egWatrk/BTJ9p7Dvuz/IkAgyp3C+P80Ew7mGmcA/i6zSaR8jwj8c4gYZVN3DP+6X7CtR7sU/\",\"dtype\":\"float64\",\"shape\":[75]},\"y\":{\"__ndarray__\":\"GhExyth1ND/Sv8nbtpRIP2vylNV0PVE/aTum7souWD/At0SJ8fVgPw3Iuahxymc/MSNhhJWvcD/bTfBN02d3P2zb5nxnaoA/CD5h5MAGhz8NmeH1TyaQP+zrCsc9p5Y/LbKd76fGnz/bLW5ISEmmPww9YvTcQq8/JV2OstnstT8Er5Y7M8G+P0c+r3jqkcU/5h99k6ZBzj88bCIzFzjVP4enV8oyxN0//yH99nXg5D8qOpLLf0jtP5kqGJXUifQ/c9cS8kHP/D+/DpwzojQEQIEmwoanVwxA4lgXt9HgE0BSSZ2AJuIbQAMJih9jjiNA5q4l5INuK0AwTKYKRj0zQNv5fmq8/DpAaCJseHrtQkB/+zpwzoxKQM3MzMzMeFJAZmZmZmZqWEAAAAAAAFxeQM3MzMzMJmJAmpmZmZkfZUBmZmZmZhhoQDMzMzMzEWtAAAAAAAAKbkBmZmZmZoFwQM3MzMzM/XFAMzMzMzN6c0CamZmZmfZ0QAAAAAAAc3ZAZmZmZmbvd0DNzMzMzGt5QDMzMzMz6HpAmpmZmZlkfEAAAAAAAOF9QGZmZmZmXX9AZmZmZuZsgECamZmZGSuBQM3MzMxM6YFAAAAAAICngkAzMzMzs2WDQGZmZmbmI4RAmpmZmRnihEDNzMzMTKCFQAAAAACAXoZAMzMzM7Mch0BmZmZm5tqHQJqZmZkZmYhAzczMzExXiUAAAAAAgBWKQDMzMzOz04pAZmZmZuaRi0CamZmZGVCMQM3MzMxMDo1AAAAAAIDMjUAzMzMzs4qOQGZmZmbmSI9A\",\"dtype\":\"float64\",\"shape\":[75]}},\"selected\":{\"id\":\"83f85b70-abac-498d-b8a6-4e4740410e8f\",\"type\":\"Selection\"},\"selection_policy\":{\"id\":\"4ec10b79-5707-42af-947d-7f9710660207\",\"type\":\"UnionRenderers\"}},\"id\":\"a06fd824-dda1-439f-b485-fa415a88081a\",\"type\":\"ColumnDataSource\"},{\"attributes\":{\"bottom_units\":\"screen\",\"fill_alpha\":{\"value\":0.5},\"fill_color\":{\"value\":\"lightgrey\"},\"left_units\":\"screen\",\"level\":\"overlay\",\"line_alpha\":{\"value\":1.0},\"line_color\":{\"value\":\"black\"},\"line_dash\":[4,4],\"line_width\":{\"value\":2},\"plot\":null,\"render_mode\":\"css\",\"right_units\":\"screen\",\"top_units\":\"screen\"},\"id\":\"3f035424-14fe-4ce8-84d7-1a11a7caf56c\",\"type\":\"BoxAnnotation\"},{\"attributes\":{\"line_color\":\"#4daf4a\",\"line_width\":1.5,\"x\":{\"field\":\"x\"},\"y\":{\"field\":\"y\"}},\"id\":\"3feb635f-bed9-42ba-a78d-ff5569f46e50\",\"type\":\"Line\"},{\"attributes\":{\"data_source\":{\"id\":\"68555546-1ede-4f5a-a6c1-0327e77cd11a\",\"type\":\"ColumnDataSource\"},\"glyph\":{\"id\":\"a1310d1c-8947-4e9d-86c9-0957ca21c26e\",\"type\":\"Line\"},\"hover_glyph\":null,\"muted_glyph\":null,\"nonselection_glyph\":{\"id\":\"74a9fa2d-1a5f-4de6-9a2c-6fdd1bc568dc\",\"type\":\"Line\"},\"selection_glyph\":null,\"view\":{\"id\":\"d6bee80d-fe49-4f72-a5c0-9b3a141e0b52\",\"type\":\"CDSView\"}},\"id\":\"9923ddb8-c604-4bd3-a1c5-792f458cd3f3\",\"type\":\"GlyphRenderer\"},{\"attributes\":{\"callback\":null,\"data\":{\"x\":{\"__ndarray__\":\"uIhNNq4Xob/O/IGqhR2jv3i8NgwABKe/WUeSdly6qr+8GqilHECuv/edyXhAy7C/mH3fPvlbsr8cTW0qBNKzvw2KsQ9cLLW/0+TM8Etvtr8wPAtPo6G3vz2zzj+UxLi/ZufAtKDeub/13nO78rS6v7Sxbawf9rm/TMaooN/Nsr/DEn10tWMuv6k0/zvkXsA/cB/BpjGO1D/cdFe43fLiP8ZhvChyj+4/EtZrH5cd9j/gibTo+KP6P1QLgEzG7Po/9WlwthSr+D9Lzok9tO/zP7DNIQQ/Je0/KmQZqK1t5D+gNYEapejbP1mN44+7680/5s5y9z73k7/wb200wpPQv6AdifrRLt2/+lB5pl1N4r/LM0gkfoPhv+MD2NNQG9e/iO4fLN+Kxr+1YFbmtSu8v3Qngn/kMre/ZA82Oryns7+vsB3i2OCwv5XfAgbSkKy/l9P+BKAcqL/Q4TYn6l2kv9dGtp/+RqG/fjUCTyyAnb90b4o24w6Zv7srB++15JS/VeveOX0Fkb9eNTn2mLqKv7OJMq3rXYO/G4B2kKpwd79OC3j/+s1dvxGnqy0Q02I/EGjFRD5Aez9NW68rXhOHPyk15jsZmJA/fxzhdXwClj97Qjd6g8+bP42VhIM+CqE/yWFv48hjpD8Uo2Amh9inP+BkrhvVOqs/AgZ310F0rz8s56GiKbyxP+Xc0tydxLM/1pquc0j0tT/1X2vfccS3P149egWatrk/BTJ9p7Dvuz/IkAgyp3C+P80Ew7mGmcA/i6zSaR8jwj8c4gYZVN3DP+6X7CtR7sU/\",\"dtype\":\"float64\",\"shape\":[75]},\"y\":{\"__ndarray__\":\"GhExyth1ND/Sv8nbtpRIP2vylNV0PVE/aTum7souWD/At0SJ8fVgPw3Iuahxymc/MSNhhJWvcD/bTfBN02d3P2zb5nxnaoA/CD5h5MAGhz8NmeH1TyaQP+zrCsc9p5Y/LbKd76fGnz/bLW5ISEmmPww9YvTcQq8/JV2OstnstT8Er5Y7M8G+P0c+r3jqkcU/5h99k6ZBzj88bCIzFzjVP4enV8oyxN0//yH99nXg5D8qOpLLf0jtP5kqGJXUifQ/c9cS8kHP/D+/DpwzojQEQIEmwoanVwxA4lgXt9HgE0BSSZ2AJuIbQAMJih9jjiNA5q4l5INuK0AwTKYKRj0zQNv5fmq8/DpAaCJseHrtQkB/+zpwzoxKQM3MzMzMeFJAZmZmZmZqWEAAAAAAAFxeQM3MzMzMJmJAmpmZmZkfZUBmZmZmZhhoQDMzMzMzEWtAAAAAAAAKbkBmZmZmZoFwQM3MzMzM/XFAMzMzMzN6c0CamZmZmfZ0QAAAAAAAc3ZAZmZmZmbvd0DNzMzMzGt5QDMzMzMz6HpAmpmZmZlkfEAAAAAAAOF9QGZmZmZmXX9AZmZmZuZsgECamZmZGSuBQM3MzMxM6YFAAAAAAICngkAzMzMzs2WDQGZmZmbmI4RAmpmZmRnihEDNzMzMTKCFQAAAAACAXoZAMzMzM7Mch0BmZmZm5tqHQJqZmZkZmYhAzczMzExXiUAAAAAAgBWKQDMzMzOz04pAZmZmZuaRi0CamZmZGVCMQM3MzMxMDo1AAAAAAIDMjUAzMzMzs4qOQGZmZmbmSI9A\",\"dtype\":\"float64\",\"shape\":[75]}},\"selected\":{\"id\":\"6d09afc9-6953-4e8f-b7a8-083fed031ed4\",\"type\":\"Selection\"},\"selection_policy\":{\"id\":\"4aa26024-89ad-4766-9d45-a69efacbe311\",\"type\":\"UnionRenderers\"}},\"id\":\"1c0bb9ec-93b3-4081-b5b8-a9602d249c8e\",\"type\":\"ColumnDataSource\"},{\"attributes\":{\"axis_label\":\"cooling rate [K/day]\",\"formatter\":{\"id\":\"ada4bd5a-ac1a-46d4-88f4-2b424c13496d\",\"type\":\"BasicTickFormatter\"},\"plot\":{\"id\":\"401d6ed0-5646-4734-98ac-d1f48abf2c42\",\"subtype\":\"Figure\",\"type\":\"Plot\"},\"ticker\":{\"id\":\"de2ae9e5-e30b-4a39-bfa6-ac8198a91c0a\",\"type\":\"BasicTicker\"}},\"id\":\"f794d71c-d15d-4ee1-9e3a-41d4d2a1f020\",\"type\":\"LinearAxis\"},{\"attributes\":{\"line_alpha\":0.1,\"line_color\":\"#1f77b4\",\"line_width\":1.5,\"x\":{\"field\":\"x\"},\"y\":{\"field\":\"y\"}},\"id\":\"801637d0-5804-40f2-a5cf-4915786b380f\",\"type\":\"Line\"},{\"attributes\":{\"callback\":null,\"data\":{\"x\":{\"__ndarray__\":\"atQE0Hbsnr826y5+ikuhv8fi44UH3KS/WU5j9/RDqL9pLcWIVoSrv8JiHkMRnK6/TXHqPXTFsL+YP9xenSayv7pCcyvxcbO/A0vH/5GntL/RNN/DUMe1v80RNJGS0ba/mi5UltLHt7/RbrXN23i4v0C7VW29+re/RKyJ+0svsr888LWQFTaAvxYldNngK7s/OcNgQCcr0j+dIUUyHkThP8jaGYWoa+w/wxeBDHjU9D+i6CbWTpn5P4TRrGwfcvo/7rJfd7oz+D+wgFNp1fjyPzBZ5PCsseo/rVqIxPMo4j/d2EcCaK/YP5xTJLrClso/aj8It2v4nr+7C9YwKgbRv/6a7m3h1t2/9iHS47X64r+3sNHm9nriv+Mk5rxzJti/H4N40RX0xr+J9R0u/0K8v1bA5BZYH7e/Lmvz41V0s7+k25bxhJiwvypBJun/9Ku/n1xdkiaFp7+/U6DNrNCjv8FwrmGGxqC/aj/YfVWbnL/rarjpS0aYv00CPrlSQZS/JafAE8SKkL97RKVBbBGKvwee/I+s+YK/bB9xFpZCd7/AjVN/BE9fvyqi6ynOHWE/s2DbjJ7VeT8z1idOKCOGP+/tTFdmAJA/4iC+n1xLlT+hFnGkrfaaPymACayBhaA/Kq30F9DEoz+70ODfNSKnP4vdUI6Ifao/wGBxF+XCrj+wYh4dSnmxP5Eum9j6pLM/N27Eogj6tT/w1caMe+m3P7LX/Vuw8bk/2fkrIpI6vD9y024Nz7++P/t/iwQJwMA/rfqeiZdEwj9ypVzpzvbDPwKtbUir88U/\",\"dtype\":\"float64\",\"shape\":[75]},\"y\":{\"__ndarray__\":\"S/O/Q+51ND/Sv8nbtpRIP2vylNV0PVE/aTum7souWD/At0SJ8fVgPw3Iuahxymc/MSNhhJWvcD/bTfBN02d3P2zb5nxnaoA/CD5h5MAGhz8NmeH1TyaQP+zrCsc9p5Y/LbKd76fGnz/bLW5ISEmmPww9YvTcQq8/JV2OstnstT8Er5Y7M8G+P0c+r3jqkcU/5h99k6ZBzj88bCIzFzjVP4enV8oyxN0//yH99nXg5D8qOpLLf0jtP5kqGJXUifQ/c9cS8kHP/D+/DpwzojQEQIEmwoanVwxA4lgXt9HgE0BSSZ2AJuIbQAMJih9jjiNA5q4l5INuK0AwTKYKRj0zQNv5fmq8/DpAaCJseHrtQkB/+zpwzoxKQM3MzMzMeFJAZmZmZmZqWEAAAAAAAFxeQM3MzMzMJmJAmpmZmZkfZUBmZmZmZhhoQDMzMzMzEWtAAAAAAAAKbkBmZmZmZoFwQM3MzMzM/XFAMzMzMzN6c0CamZmZmfZ0QAAAAAAAc3ZAZmZmZmbvd0DNzMzMzGt5QDMzMzMz6HpAmpmZmZlkfEAAAAAAAOF9QGZmZmZmXX9AZmZmZuZsgECamZmZGSuBQM3MzMxM6YFAAAAAAICngkAzMzMzs2WDQGZmZmbmI4RAmpmZmRnihEDNzMzMTKCFQAAAAACAXoZAMzMzM7Mch0BmZmZm5tqHQJqZmZkZmYhAzczMzExXiUAAAAAAgBWKQDMzMzOz04pAZmZmZuaRi0CamZmZGVCMQM3MzMxMDo1AAAAAAIDMjUAzMzMzs4qOQGZmZmbmSI9A\",\"dtype\":\"float64\",\"shape\":[75]}},\"selected\":{\"id\":\"d8e6c3e2-94e2-419f-ac0e-aec1c0cef9eb\",\"type\":\"Selection\"},\"selection_policy\":{\"id\":\"7d2952e3-5c39-4eef-bdfc-e9844097ef94\",\"type\":\"UnionRenderers\"}},\"id\":\"68555546-1ede-4f5a-a6c1-0327e77cd11a\",\"type\":\"ColumnDataSource\"},{\"attributes\":{\"active_drag\":\"auto\",\"active_inspect\":\"auto\",\"active_scroll\":\"auto\",\"active_tap\":\"auto\",\"tools\":[{\"id\":\"794d52bb-7671-4d26-ad56-97731aae207d\",\"type\":\"PanTool\"},{\"id\":\"3ad2877b-dd96-435c-a499-f25f65263f84\",\"type\":\"WheelZoomTool\"},{\"id\":\"f4eedfa2-3f9c-4dd3-90a2-8818c59b39b7\",\"type\":\"BoxZoomTool\"},{\"id\":\"dece1c61-1a32-4a60-bbd0-529e7be6c5e8\",\"type\":\"SaveTool\"},{\"id\":\"f5b88de2-3d5b-487f-af05-9d924ca2b14c\",\"type\":\"ResetTool\"},{\"id\":\"38f45fc2-f399-4bfa-9774-ff2bf86ae528\",\"type\":\"HelpTool\"}]},\"id\":\"b5a80b3e-2836-4539-877a-9ca1a45cfa3f\",\"type\":\"Toolbar\"},{\"attributes\":{\"source\":{\"id\":\"10055c60-8369-4d49-a38d-68d74aeab52e\",\"type\":\"ColumnDataSource\"}},\"id\":\"79717b3c-5a57-47a7-8e1c-6a8abb5904cd\",\"type\":\"CDSView\"},{\"attributes\":{\"dimension\":1,\"plot\":{\"id\":\"401d6ed0-5646-4734-98ac-d1f48abf2c42\",\"subtype\":\"Figure\",\"type\":\"Plot\"},\"ticker\":{\"id\":\"34eea12c-401a-4dd0-9cfd-b069ca50425d\",\"type\":\"BasicTicker\"}},\"id\":\"e3648257-d52a-4d7b-b93e-ff18c78d2113\",\"type\":\"Grid\"},{\"attributes\":{\"source\":{\"id\":\"669d5dc1-7787-4586-85d6-01ab4ef1a129\",\"type\":\"ColumnDataSource\"}},\"id\":\"2c85ba64-c73a-4621-b1e4-7793f5196546\",\"type\":\"CDSView\"},{\"attributes\":{},\"id\":\"0cede4fb-4b76-4e35-be3f-5ba9e505fb91\",\"type\":\"LinearScale\"},{\"attributes\":{\"source\":{\"id\":\"b1eb2d05-cd67-4627-a092-890baf0ef8a7\",\"type\":\"ColumnDataSource\"}},\"id\":\"959a4f65-95a8-48a4-a52b-60cf4a99827f\",\"type\":\"CDSView\"},{\"attributes\":{\"axis_label\":\"pressure [mb]\",\"formatter\":{\"id\":\"621bfc02-31d1-4d7c-bf86-d77e7c76c796\",\"type\":\"BasicTickFormatter\"},\"plot\":{\"id\":\"401d6ed0-5646-4734-98ac-d1f48abf2c42\",\"subtype\":\"Figure\",\"type\":\"Plot\"},\"ticker\":{\"id\":\"34eea12c-401a-4dd0-9cfd-b069ca50425d\",\"type\":\"BasicTicker\"}},\"id\":\"7c4afd4f-571a-4499-abb1-95b4048fbd1e\",\"type\":\"LinearAxis\"},{\"attributes\":{\"fill_alpha\":{\"value\":0.7},\"fill_color\":{\"value\":\"#4daf4a\"},\"line_alpha\":{\"value\":0.7},\"line_color\":{\"value\":\"#4daf4a\"},\"x\":{\"field\":\"x\"},\"y\":{\"field\":\"y\"}},\"id\":\"b10942a8-c9a1-45a6-9e16-6796a06c8d65\",\"type\":\"Circle\"},{\"attributes\":{\"data_source\":{\"id\":\"1c0bb9ec-93b3-4081-b5b8-a9602d249c8e\",\"type\":\"ColumnDataSource\"},\"glyph\":{\"id\":\"bd38ca5e-6eed-49b5-92e5-4e4e9a859966\",\"type\":\"Square\"},\"hover_glyph\":null,\"muted_glyph\":null,\"nonselection_glyph\":{\"id\":\"a1da00bb-ce9d-4d05-91cb-d5a47cfdd74c\",\"type\":\"Square\"},\"selection_glyph\":null,\"view\":{\"id\":\"9c04798b-3579-46b1-ac3d-1a8aed34aa46\",\"type\":\"CDSView\"}},\"id\":\"3f2b5bd2-014f-41a7-9ed8-2cc3a07ddc0f\",\"type\":\"GlyphRenderer\"},{\"attributes\":{\"children\":[{\"id\":\"6c80a265-3683-457b-b476-807852f86efe\",\"type\":\"Row\"}]},\"id\":\"a96a4b6d-16d7-4966-aa16-2e991e9a1347\",\"type\":\"Column\"},{\"attributes\":{\"callback\":null,\"end\":0.01,\"start\":1020},\"id\":\"2a8b9a68-7c15-42e1-a03b-ff015116ff77\",\"type\":\"Range1d\"},{\"attributes\":{\"below\":[{\"id\":\"f794d71c-d15d-4ee1-9e3a-41d4d2a1f020\",\"type\":\"LinearAxis\"}],\"left\":[{\"id\":\"7c4afd4f-571a-4499-abb1-95b4048fbd1e\",\"type\":\"LinearAxis\"}],\"plot_height\":500,\"plot_width\":400,\"renderers\":[{\"id\":\"f794d71c-d15d-4ee1-9e3a-41d4d2a1f020\",\"type\":\"LinearAxis\"},{\"id\":\"983b7f25-d970-43a4-9e0a-73c58b3771fd\",\"type\":\"Grid\"},{\"id\":\"7c4afd4f-571a-4499-abb1-95b4048fbd1e\",\"type\":\"LinearAxis\"},{\"id\":\"e3648257-d52a-4d7b-b93e-ff18c78d2113\",\"type\":\"Grid\"},{\"id\":\"3f035424-14fe-4ce8-84d7-1a11a7caf56c\",\"type\":\"BoxAnnotation\"},{\"id\":\"97768e31-6e32-4e13-a984-75cd8d04e756\",\"type\":\"GlyphRenderer\"},{\"id\":\"a104205e-3e29-4148-a4f3-83ee7e4244ae\",\"type\":\"GlyphRenderer\"},{\"id\":\"cdb7ffbc-24f4-4884-b683-72e82ebbd898\",\"type\":\"GlyphRenderer\"},{\"id\":\"3f2b5bd2-014f-41a7-9ed8-2cc3a07ddc0f\",\"type\":\"GlyphRenderer\"},{\"id\":\"89ca7d4c-bf3c-49a5-833b-a85804de086a\",\"type\":\"GlyphRenderer\"}],\"title\":{\"id\":\"e900f6b4-382c-46a9-9caa-b254a684c5d7\",\"type\":\"Title\"},\"toolbar\":{\"id\":\"b5a80b3e-2836-4539-877a-9ca1a45cfa3f\",\"type\":\"Toolbar\"},\"toolbar_location\":null,\"x_range\":{\"id\":\"5b0d19eb-415a-4843-bbda-97457024779c\",\"type\":\"Range1d\"},\"x_scale\":{\"id\":\"0cede4fb-4b76-4e35-be3f-5ba9e505fb91\",\"type\":\"LinearScale\"},\"y_range\":{\"id\":\"71385f5f-baa7-4735-853f-173c134454bb\",\"type\":\"Range1d\"},\"y_scale\":{\"id\":\"4d97e960-b9a7-42c6-8f31-e50c8589de00\",\"type\":\"LinearScale\"}},\"id\":\"401d6ed0-5646-4734-98ac-d1f48abf2c42\",\"subtype\":\"Figure\",\"type\":\"Plot\"},{\"attributes\":{\"callback\":null,\"data\":{\"x\":{\"__ndarray__\":\"xLVy4OlWo790wWxEKJ2lv937cmt0/Km/g3126/Uhrr+Vc2nJ0Qaxv/j4SkEz37K/AHDs2XOZtL/icyIfxjS2v0DDRzbqsLe/pde6YrMUub/B9bQFfGW6vzPfJHrXqLu/fhEbyXHpvL9xNA2r9Oq9v5vRyTHdFL2/imkyJYr3tL8qZR5Za+cyv+vHJvkRv8E/fSvIhbkT1j9JigJcFCbkP7/QyIxcHPA/6ZBAKJQq9z9g8YqW8pD7P99rCI7LWPs/KChFK/ei+D9bG3RTFJnzPwDf8Rbd9Os/7ATJdTLc4j/diaO8oI/YPw4YfzbNFsg/Z6KYVB7xp78VdqytMxnRv+MJlH/zg9y/N3IXQHxJ4b+xCgadMUjgv8D8X79x49W/x2FRjW7vxb8UEM0bq727v+OIx9vQ6La/y32E99tys7+aSDZF6rewv0unO3BKUKy/TUM7RC/lp7+PZ13E8ymkv/9Pw4wwEqG/qWkF8JAOnb8XQ1BtJJSYvySagi1dXpS/+NG1nj1xkL9z72ASznGJv7rlqofd74G/M63IBbJZdL91uKPlI5VQv00Ccob9vmk/ZXC8zSfjfj+9XTYH9gKJP4Hrc31rnJE/alSyLDAVlz8ox67+Ge+cP9j0yyBxoaE/pZNlu1QCpT+rxwHkGW6oP+ZQR0ZVs6s/S68jxwO1rz8CpdF/N6axPwfhFptyX7M/L/xIYF8qtT/OIOqwVZG2Py7+W27VGrg/vY44ZAPpuT84pqPzTPW7P2oQKJMBPb4/nvv+D6hlwD9A0YYNYNvBP9iBMSrCsMM/\",\"dtype\":\"float64\",\"shape\":[75]},\"y\":{\"__ndarray__\":\"GhExyth1ND/Sv8nbtpRIP2vylNV0PVE/aTum7souWD/At0SJ8fVgPw3Iuahxymc/MSNhhJWvcD/bTfBN02d3P2zb5nxnaoA/CD5h5MAGhz8NmeH1TyaQP+zrCsc9p5Y/LbKd76fGnz/bLW5ISEmmPww9YvTcQq8/JV2OstnstT8Er5Y7M8G+P0c+r3jqkcU/5h99k6ZBzj88bCIzFzjVP4enV8oyxN0//yH99nXg5D8qOpLLf0jtP5kqGJXUifQ/c9cS8kHP/D+/DpwzojQEQIEmwoanVwxA4lgXt9HgE0BSSZ2AJuIbQAMJih9jjiNA5q4l5INuK0AwTKYKRj0zQNv5fmq8/DpAaCJseHrtQkB/+zpwzoxKQM3MzMzMeFJAZmZmZmZqWEAAAAAAAFxeQM3MzMzMJmJAmpmZmZkfZUBmZmZmZhhoQDMzMzMzEWtAAAAAAAAKbkBmZmZmZoFwQM3MzMzM/XFAMzMzMzN6c0CamZmZmfZ0QAAAAAAAc3ZAZmZmZmbvd0DNzMzMzGt5QDMzMzMz6HpAmpmZmZlkfEAAAAAAAOF9QGZmZmZmXX9AZmZmZuZsgECamZmZGSuBQM3MzMxM6YFAAAAAAICngkAzMzMzs2WDQGZmZmbmI4RAmpmZmRnihEDNzMzMTKCFQAAAAACAXoZAMzMzM7Mch0BmZmZm5tqHQJqZmZkZmYhAzczMzExXiUAAAAAAgBWKQDMzMzOz04pAZmZmZuaRi0CamZmZGVCMQM3MzMxMDo1AAAAAAIDMjUAzMzMzs4qOQGZmZmbmSI9A\",\"dtype\":\"float64\",\"shape\":[75]}},\"selected\":{\"id\":\"b9170675-394e-4eaa-9f93-865a9efd02f9\",\"type\":\"Selection\"},\"selection_policy\":{\"id\":\"6b4da2f1-477a-4551-8d5e-a50cdeb8c40a\",\"type\":\"UnionRenderers\"}},\"id\":\"53f312eb-5190-4a91-b441-a04e0c1bd3a7\",\"type\":\"ColumnDataSource\"},{\"attributes\":{\"data_source\":{\"id\":\"53f312eb-5190-4a91-b441-a04e0c1bd3a7\",\"type\":\"ColumnDataSource\"},\"glyph\":{\"id\":\"4b4f70fa-0925-4bc6-8901-86d2af47fd49\",\"type\":\"Line\"},\"hover_glyph\":null,\"muted_glyph\":null,\"nonselection_glyph\":{\"id\":\"28a20d7c-322b-4148-be4b-fd1aed303e9d\",\"type\":\"Line\"},\"selection_glyph\":null,\"view\":{\"id\":\"7bbf5a16-8289-4979-8c49-e05d7689708c\",\"type\":\"CDSView\"}},\"id\":\"27b6562e-08cc-4a31-bcb8-3b3056801db2\",\"type\":\"GlyphRenderer\"},{\"attributes\":{\"source\":{\"id\":\"53f312eb-5190-4a91-b441-a04e0c1bd3a7\",\"type\":\"ColumnDataSource\"}},\"id\":\"7bbf5a16-8289-4979-8c49-e05d7689708c\",\"type\":\"CDSView\"},{\"attributes\":{\"line_alpha\":0.1,\"line_color\":\"#1f77b4\",\"line_width\":1.5,\"x\":{\"field\":\"x\"},\"y\":{\"field\":\"y\"}},\"id\":\"28a20d7c-322b-4148-be4b-fd1aed303e9d\",\"type\":\"Line\"},{\"attributes\":{\"fill_alpha\":{\"value\":0.1},\"fill_color\":{\"value\":\"#1f77b4\"},\"line_alpha\":{\"value\":0.1},\"line_color\":{\"value\":\"#1f77b4\"},\"x\":{\"field\":\"x\"},\"y\":{\"field\":\"y\"}},\"id\":\"203f04fe-2171-4feb-afab-4e5ed1cdb3f4\",\"type\":\"Circle\"},{\"attributes\":{\"callback\":null,\"data\":{\"x\":{\"__ndarray__\":\"uIhNNq4Xob/O/IGqhR2jv3i8NgwABKe/WUeSdly6qr+8GqilHECuv/edyXhAy7C/mH3fPvlbsr8cTW0qBNKzvw2KsQ9cLLW/0+TM8Etvtr8wPAtPo6G3vz2zzj+UxLi/ZufAtKDeub/13nO78rS6v7Sxbawf9rm/TMaooN/Nsr/DEn10tWMuv6k0/zvkXsA/cB/BpjGO1D/cdFe43fLiP8ZhvChyj+4/EtZrH5cd9j/gibTo+KP6P1QLgEzG7Po/9WlwthSr+D9Lzok9tO/zP7DNIQQ/Je0/KmQZqK1t5D+gNYEapejbP1mN44+7680/5s5y9z73k7/wb200wpPQv6AdifrRLt2/+lB5pl1N4r/LM0gkfoPhv+MD2NNQG9e/iO4fLN+Kxr+1YFbmtSu8v3Qngn/kMre/ZA82Oryns7+vsB3i2OCwv5XfAgbSkKy/l9P+BKAcqL/Q4TYn6l2kv9dGtp/+RqG/fjUCTyyAnb90b4o24w6Zv7srB++15JS/VeveOX0Fkb9eNTn2mLqKv7OJMq3rXYO/G4B2kKpwd79OC3j/+s1dvxGnqy0Q02I/EGjFRD5Aez9NW68rXhOHPyk15jsZmJA/fxzhdXwClj97Qjd6g8+bP42VhIM+CqE/yWFv48hjpD8Uo2Amh9inP+BkrhvVOqs/AgZ310F0rz8s56GiKbyxP+Xc0tydxLM/1pquc0j0tT/1X2vfccS3P149egWatrk/BTJ9p7Dvuz/IkAgyp3C+P80Ew7mGmcA/i6zSaR8jwj8c4gYZVN3DP+6X7CtR7sU/\",\"dtype\":\"float64\",\"shape\":[75]},\"y\":{\"__ndarray__\":\"GhExyth1ND/Sv8nbtpRIP2vylNV0PVE/aTum7souWD/At0SJ8fVgPw3Iuahxymc/MSNhhJWvcD/bTfBN02d3P2zb5nxnaoA/CD5h5MAGhz8NmeH1TyaQP+zrCsc9p5Y/LbKd76fGnz/bLW5ISEmmPww9YvTcQq8/JV2OstnstT8Er5Y7M8G+P0c+r3jqkcU/5h99k6ZBzj88bCIzFzjVP4enV8oyxN0//yH99nXg5D8qOpLLf0jtP5kqGJXUifQ/c9cS8kHP/D+/DpwzojQEQIEmwoanVwxA4lgXt9HgE0BSSZ2AJuIbQAMJih9jjiNA5q4l5INuK0AwTKYKRj0zQNv5fmq8/DpAaCJseHrtQkB/+zpwzoxKQM3MzMzMeFJAZmZmZmZqWEAAAAAAAFxeQM3MzMzMJmJAmpmZmZkfZUBmZmZmZhhoQDMzMzMzEWtAAAAAAAAKbkBmZmZmZoFwQM3MzMzM/XFAMzMzMzN6c0CamZmZmfZ0QAAAAAAAc3ZAZmZmZmbvd0DNzMzMzGt5QDMzMzMz6HpAmpmZmZlkfEAAAAAAAOF9QGZmZmZmXX9AZmZmZuZsgECamZmZGSuBQM3MzMxM6YFAAAAAAICngkAzMzMzs2WDQGZmZmbmI4RAmpmZmRnihEDNzMzMTKCFQAAAAACAXoZAMzMzM7Mch0BmZmZm5tqHQJqZmZkZmYhAzczMzExXiUAAAAAAgBWKQDMzMzOz04pAZmZmZuaRi0CamZmZGVCMQM3MzMxMDo1AAAAAAIDMjUAzMzMzs4qOQGZmZmbmSI9A\",\"dtype\":\"float64\",\"shape\":[75]}},\"selected\":{\"id\":\"245b0cd1-a7c4-463e-9e4e-293eb56430cd\",\"type\":\"Selection\"},\"selection_policy\":{\"id\":\"176b884e-e86a-4c43-b520-6420f58c0a5e\",\"type\":\"UnionRenderers\"}},\"id\":\"669d5dc1-7787-4586-85d6-01ab4ef1a129\",\"type\":\"ColumnDataSource\"},{\"attributes\":{\"label\":{\"value\":\"CRD\"},\"renderers\":[{\"id\":\"c9515c64-967b-469f-b8dc-aeaff40064e4\",\"type\":\"GlyphRenderer\"},{\"id\":\"27b6562e-08cc-4a31-bcb8-3b3056801db2\",\"type\":\"GlyphRenderer\"}]},\"id\":\"93bd7ada-f7f5-4a68-8f02-a457ed28282b\",\"type\":\"LegendItem\"},{\"attributes\":{\"data_source\":{\"id\":\"2a936871-4d77-4590-bdf7-bda26ce40177\",\"type\":\"ColumnDataSource\"},\"glyph\":{\"id\":\"267ab713-3917-4d7c-9895-7f06510ec08f\",\"type\":\"Circle\"},\"hover_glyph\":null,\"muted_glyph\":null,\"nonselection_glyph\":{\"id\":\"203f04fe-2171-4feb-afab-4e5ed1cdb3f4\",\"type\":\"Circle\"},\"selection_glyph\":null,\"view\":{\"id\":\"a8ed5a83-8ce4-4c4a-b1b8-a0f4a449886c\",\"type\":\"CDSView\"}},\"id\":\"c9515c64-967b-469f-b8dc-aeaff40064e4\",\"type\":\"GlyphRenderer\"},{\"attributes\":{\"fill_alpha\":{\"value\":0.7},\"fill_color\":{\"value\":\"#984ea3\"},\"line_alpha\":{\"value\":0.7},\"line_color\":{\"value\":\"#984ea3\"},\"x\":{\"field\":\"x\"},\"y\":{\"field\":\"y\"}},\"id\":\"76fd8c9a-ccc1-4c87-ad4b-908d873fbd67\",\"type\":\"Square\"},{\"attributes\":{},\"id\":\"621bfc02-31d1-4d7c-bf86-d77e7c76c796\",\"type\":\"BasicTickFormatter\"},{\"attributes\":{\"source\":{\"id\":\"2a936871-4d77-4590-bdf7-bda26ce40177\",\"type\":\"ColumnDataSource\"}},\"id\":\"a8ed5a83-8ce4-4c4a-b1b8-a0f4a449886c\",\"type\":\"CDSView\"},{\"attributes\":{\"fill_alpha\":{\"value\":0.1},\"fill_color\":{\"value\":\"#1f77b4\"},\"line_alpha\":{\"value\":0.1},\"line_color\":{\"value\":\"#1f77b4\"},\"x\":{\"field\":\"x\"},\"y\":{\"field\":\"y\"}},\"id\":\"4272ff6a-1dca-4105-a43a-f43bcefc56bd\",\"type\":\"Square\"},{\"attributes\":{\"line_color\":\"#4daf4a\",\"line_width\":1.5,\"x\":{\"field\":\"x\"},\"y\":{\"field\":\"y\"}},\"id\":\"4b4f70fa-0925-4bc6-8901-86d2af47fd49\",\"type\":\"Line\"},{\"attributes\":{\"data_source\":{\"id\":\"669d5dc1-7787-4586-85d6-01ab4ef1a129\",\"type\":\"ColumnDataSource\"},\"glyph\":{\"id\":\"76fd8c9a-ccc1-4c87-ad4b-908d873fbd67\",\"type\":\"Square\"},\"hover_glyph\":null,\"muted_glyph\":null,\"nonselection_glyph\":{\"id\":\"4272ff6a-1dca-4105-a43a-f43bcefc56bd\",\"type\":\"Square\"},\"selection_glyph\":null,\"view\":{\"id\":\"2c85ba64-c73a-4621-b1e4-7793f5196546\",\"type\":\"CDSView\"}},\"id\":\"5f28ce75-7a53-4bd6-9ec8-59cc45510490\",\"type\":\"GlyphRenderer\"},{\"attributes\":{\"children\":[{\"id\":\"401d6ed0-5646-4734-98ac-d1f48abf2c42\",\"subtype\":\"Figure\",\"type\":\"Plot\"},{\"id\":\"7c23b3a4-2a28-442a-8e40-38373e418446\",\"subtype\":\"Figure\",\"type\":\"Plot\"}]},\"id\":\"6c80a265-3683-457b-b476-807852f86efe\",\"type\":\"Row\"},{\"attributes\":{\"label\":{\"value\":\"CLIRAD `coolr_bands`\"},\"renderers\":[{\"id\":\"9923ddb8-c604-4bd3-a1c5-792f458cd3f3\",\"type\":\"GlyphRenderer\"}]},\"id\":\"69558d7c-ae6e-4faf-9f58-5f7ad4ddb904\",\"type\":\"LegendItem\"},{\"attributes\":{},\"id\":\"4aa26024-89ad-4766-9d45-a69efacbe311\",\"type\":\"UnionRenderers\"},{\"attributes\":{},\"id\":\"ada4bd5a-ac1a-46d4-88f4-2b424c13496d\",\"type\":\"BasicTickFormatter\"},{\"attributes\":{\"label\":{\"value\":\"WGT igg=10 wgt_flux=2\"},\"renderers\":[{\"id\":\"5f28ce75-7a53-4bd6-9ec8-59cc45510490\",\"type\":\"GlyphRenderer\"},{\"id\":\"23152555-1277-4c4f-b605-3769bc35d301\",\"type\":\"GlyphRenderer\"}]},\"id\":\"ba5a078c-d01a-4230-8601-f195764f8e88\",\"type\":\"LegendItem\"},{\"attributes\":{},\"id\":\"5d9e8bda-9791-495d-8dc9-924bcf601255\",\"type\":\"Selection\"},{\"attributes\":{},\"id\":\"08a4541f-3833-4278-b172-c7805f91f90b\",\"type\":\"UnionRenderers\"},{\"attributes\":{},\"id\":\"dc772195-a06a-4976-aa63-905ac258939b\",\"type\":\"Selection\"},{\"attributes\":{},\"id\":\"0a794b13-074a-422d-9113-cfe0bd2db198\",\"type\":\"BasicTickFormatter\"},{\"attributes\":{},\"id\":\"829e243f-ada3-4869-b8dc-2b3816618f26\",\"type\":\"UnionRenderers\"},{\"attributes\":{},\"id\":\"6d09afc9-6953-4e8f-b7a8-083fed031ed4\",\"type\":\"Selection\"},{\"attributes\":{},\"id\":\"fb89f395-50ac-4ce7-b95b-4975be5862fb\",\"type\":\"UnionRenderers\"},{\"attributes\":{},\"id\":\"13a76f77-d5d7-4a8f-a04d-8dfd796e3c46\",\"type\":\"Selection\"},{\"attributes\":{\"ticker\":null},\"id\":\"c87cea58-6c5f-45b2-9843-c568414b6847\",\"type\":\"LogTickFormatter\"},{\"attributes\":{\"children\":[{\"id\":\"3bb702d9-7744-409f-b9c3-96a4b427d3f7\",\"type\":\"ToolbarBox\"},{\"id\":\"a96a4b6d-16d7-4966-aa16-2e991e9a1347\",\"type\":\"Column\"}]},\"id\":\"b42f7ac5-ee8c-49d6-a9fc-495656367dd2\",\"type\":\"Column\"},{\"attributes\":{},\"id\":\"4ec10b79-5707-42af-947d-7f9710660207\",\"type\":\"UnionRenderers\"},{\"attributes\":{},\"id\":\"83f85b70-abac-498d-b8a6-4e4740410e8f\",\"type\":\"Selection\"},{\"attributes\":{},\"id\":\"176b884e-e86a-4c43-b520-6420f58c0a5e\",\"type\":\"UnionRenderers\"},{\"attributes\":{},\"id\":\"d7e66a1e-7f99-4341-aec4-a745520f8a9b\",\"type\":\"Selection\"},{\"attributes\":{},\"id\":\"d8e6c3e2-94e2-419f-ac0e-aec1c0cef9eb\",\"type\":\"Selection\"},{\"attributes\":{},\"id\":\"245b0cd1-a7c4-463e-9e4e-293eb56430cd\",\"type\":\"Selection\"},{\"attributes\":{},\"id\":\"7d2952e3-5c39-4eef-bdfc-e9844097ef94\",\"type\":\"UnionRenderers\"},{\"attributes\":{},\"id\":\"e7f81266-1815-44b6-bc18-312db1bda1e6\",\"type\":\"UnionRenderers\"},{\"attributes\":{},\"id\":\"6b4da2f1-477a-4551-8d5e-a50cdeb8c40a\",\"type\":\"UnionRenderers\"},{\"attributes\":{\"axis_label\":\"pressure [mb]\",\"formatter\":{\"id\":\"c87cea58-6c5f-45b2-9843-c568414b6847\",\"type\":\"LogTickFormatter\"},\"plot\":{\"id\":\"7c23b3a4-2a28-442a-8e40-38373e418446\",\"subtype\":\"Figure\",\"type\":\"Plot\"},\"ticker\":{\"id\":\"26ff4dc6-0918-4812-8394-25494b2f876c\",\"type\":\"LogTicker\"}},\"id\":\"be503393-93e4-43d7-968b-ab1604553d5a\",\"type\":\"LogAxis\"},{\"attributes\":{},\"id\":\"b9170675-394e-4eaa-9f93-865a9efd02f9\",\"type\":\"Selection\"},{\"attributes\":{\"toolbar\":{\"id\":\"000cab66-8463-4617-9da5-2734a91bd9ef\",\"type\":\"ProxyToolbar\"},\"toolbar_location\":\"above\"},\"id\":\"3bb702d9-7744-409f-b9c3-96a4b427d3f7\",\"type\":\"ToolbarBox\"},{\"attributes\":{},\"id\":\"6d9bce48-d454-48f7-826e-23c516fe0c6f\",\"type\":\"UnionRenderers\"},{\"attributes\":{\"plot\":{\"id\":\"7c23b3a4-2a28-442a-8e40-38373e418446\",\"subtype\":\"Figure\",\"type\":\"Plot\"},\"ticker\":{\"id\":\"14781016-ace9-40cb-aeb8-47d0a42d8335\",\"type\":\"BasicTicker\"}},\"id\":\"5b1f5940-8f83-4a76-923a-89281eddc1c1\",\"type\":\"Grid\"},{\"attributes\":{},\"id\":\"6fe3a8c1-a083-43e3-af6e-3369ef0df006\",\"type\":\"Selection\"}],\"root_ids\":[\"b42f7ac5-ee8c-49d6-a9fc-495656367dd2\"]},\"title\":\"Bokeh Application\",\"version\":\"0.12.16\"}};\n",
       "  var render_items = [{\"docid\":\"0e46af49-e30a-4d24-be17-64e84d781929\",\"elementid\":\"82682a32-9166-412a-ad52-cd653215f1f8\",\"modelid\":\"b42f7ac5-ee8c-49d6-a9fc-495656367dd2\"}];\n",
       "  root.Bokeh.embed.embed_items_notebook(docs_json, render_items);\n",
       "\n",
       "  }\n",
       "  if (root.Bokeh !== undefined) {\n",
       "    embed_document(root);\n",
       "  } else {\n",
       "    var attempts = 0;\n",
       "    var timer = setInterval(function(root) {\n",
       "      if (root.Bokeh !== undefined) {\n",
       "        embed_document(root);\n",
       "        clearInterval(timer);\n",
       "      }\n",
       "      attempts++;\n",
       "      if (attempts > 100) {\n",
       "        console.log(\"Bokeh: ERROR: Unable to run BokehJS code because BokehJS library is missing\")\n",
       "        clearInterval(timer);\n",
       "      }\n",
       "    }, 10, root)\n",
       "  }\n",
       "})(window);"
      ],
      "application/vnd.bokehjs_exec.v0+json": ""
     },
     "metadata": {
      "application/vnd.bokehjs_exec.v0+json": {
       "id": "b42f7ac5-ee8c-49d6-a9fc-495656367dd2"
      }
     },
     "output_type": "display_data"
    },
    {
     "name": "stdout",
     "output_type": "stream",
     "text": [
      "FIGURE. Cooling rate profiles.\n"
     ]
    },
    {
     "data": {
      "text/html": [
       "<a id=\"Flux_Comparison\"></a>"
      ],
      "text/plain": [
       "<IPython.core.display.HTML object>"
      ]
     },
     "metadata": {},
     "output_type": "display_data"
    },
    {
     "data": {
      "text/markdown": [
       "# Flux Comparison"
      ],
      "text/plain": [
       "<IPython.core.display.Markdown object>"
      ]
     },
     "metadata": {},
     "output_type": "display_data"
    },
    {
     "data": {
      "text/html": [
       "<div>\n",
       "<style scoped>\n",
       "    .dataframe tbody tr th:only-of-type {\n",
       "        vertical-align: middle;\n",
       "    }\n",
       "\n",
       "    .dataframe tbody tr th {\n",
       "        vertical-align: top;\n",
       "    }\n",
       "\n",
       "    .dataframe thead th {\n",
       "        text-align: right;\n",
       "    }\n",
       "</style>\n",
       "<table border=\"1\" class=\"dataframe\">\n",
       "  <thead>\n",
       "    <tr style=\"text-align: right;\">\n",
       "      <th></th>\n",
       "      <th></th>\n",
       "      <th>flug</th>\n",
       "      <th>fldg</th>\n",
       "      <th>fnetg</th>\n",
       "    </tr>\n",
       "    <tr>\n",
       "      <th>pressure</th>\n",
       "      <th>level</th>\n",
       "      <th></th>\n",
       "      <th></th>\n",
       "      <th></th>\n",
       "    </tr>\n",
       "  </thead>\n",
       "  <tbody>\n",
       "    <tr>\n",
       "      <th>0.0000</th>\n",
       "      <th>1</th>\n",
       "      <td>-26.145960</td>\n",
       "      <td>0.000000</td>\n",
       "      <td>-26.145960</td>\n",
       "    </tr>\n",
       "    <tr>\n",
       "      <th>1.0685</th>\n",
       "      <th>24</th>\n",
       "      <td>-26.144644</td>\n",
       "      <td>0.128665</td>\n",
       "      <td>-26.015979</td>\n",
       "    </tr>\n",
       "    <tr>\n",
       "      <th>1013.0000</th>\n",
       "      <th>76</th>\n",
       "      <td>-34.728642</td>\n",
       "      <td>7.836584</td>\n",
       "      <td>-26.892058</td>\n",
       "    </tr>\n",
       "  </tbody>\n",
       "</table>\n",
       "</div>"
      ],
      "text/plain": [
       "                      flug      fldg      fnetg\n",
       "pressure  level                                \n",
       "0.0000    1     -26.145960  0.000000 -26.145960\n",
       "1.0685    24    -26.144644  0.128665 -26.015979\n",
       "1013.0000 76    -34.728642  7.836584 -26.892058"
      ]
     },
     "metadata": {},
     "output_type": "display_data"
    },
    {
     "name": "stdout",
     "output_type": "stream",
     "text": [
      "Table. Fluxes. CRD\n"
     ]
    },
    {
     "data": {
      "text/html": [
       "<div>\n",
       "<style scoped>\n",
       "    .dataframe tbody tr th:only-of-type {\n",
       "        vertical-align: middle;\n",
       "    }\n",
       "\n",
       "    .dataframe tbody tr th {\n",
       "        vertical-align: top;\n",
       "    }\n",
       "\n",
       "    .dataframe thead th {\n",
       "        text-align: right;\n",
       "    }\n",
       "</style>\n",
       "<table border=\"1\" class=\"dataframe\">\n",
       "  <thead>\n",
       "    <tr style=\"text-align: right;\">\n",
       "      <th></th>\n",
       "      <th></th>\n",
       "      <th>flug</th>\n",
       "      <th>fldg</th>\n",
       "      <th>fnetg</th>\n",
       "    </tr>\n",
       "    <tr>\n",
       "      <th>pressure</th>\n",
       "      <th>level</th>\n",
       "      <th></th>\n",
       "      <th></th>\n",
       "      <th></th>\n",
       "    </tr>\n",
       "  </thead>\n",
       "  <tbody>\n",
       "    <tr>\n",
       "      <th>0.0000</th>\n",
       "      <th>1</th>\n",
       "      <td>-26.010954</td>\n",
       "      <td>0.000000</td>\n",
       "      <td>-26.010954</td>\n",
       "    </tr>\n",
       "    <tr>\n",
       "      <th>1.0685</th>\n",
       "      <th>24</th>\n",
       "      <td>-26.008232</td>\n",
       "      <td>0.121834</td>\n",
       "      <td>-25.886398</td>\n",
       "    </tr>\n",
       "    <tr>\n",
       "      <th>1013.0000</th>\n",
       "      <th>76</th>\n",
       "      <td>-34.728642</td>\n",
       "      <td>8.026314</td>\n",
       "      <td>-26.702328</td>\n",
       "    </tr>\n",
       "  </tbody>\n",
       "</table>\n",
       "</div>"
      ],
      "text/plain": [
       "                      flug      fldg      fnetg\n",
       "pressure  level                                \n",
       "0.0000    1     -26.010954  0.000000 -26.010954\n",
       "1.0685    24    -26.008232  0.121834 -25.886398\n",
       "1013.0000 76    -34.728642  8.026314 -26.702328"
      ]
     },
     "metadata": {},
     "output_type": "display_data"
    },
    {
     "name": "stdout",
     "output_type": "stream",
     "text": [
      "Table. Fluxes. WGT igg=10 wgt_flux=1\n"
     ]
    },
    {
     "data": {
      "text/html": [
       "<div>\n",
       "<style scoped>\n",
       "    .dataframe tbody tr th:only-of-type {\n",
       "        vertical-align: middle;\n",
       "    }\n",
       "\n",
       "    .dataframe tbody tr th {\n",
       "        vertical-align: top;\n",
       "    }\n",
       "\n",
       "    .dataframe thead th {\n",
       "        text-align: right;\n",
       "    }\n",
       "</style>\n",
       "<table border=\"1\" class=\"dataframe\">\n",
       "  <thead>\n",
       "    <tr style=\"text-align: right;\">\n",
       "      <th></th>\n",
       "      <th></th>\n",
       "      <th>flug</th>\n",
       "      <th>fldg</th>\n",
       "      <th>fnetg</th>\n",
       "    </tr>\n",
       "    <tr>\n",
       "      <th>pressure</th>\n",
       "      <th>level</th>\n",
       "      <th></th>\n",
       "      <th></th>\n",
       "      <th></th>\n",
       "    </tr>\n",
       "  </thead>\n",
       "  <tbody>\n",
       "    <tr>\n",
       "      <th>1.000000e-08</th>\n",
       "      <th>1</th>\n",
       "      <td>-25.906921</td>\n",
       "      <td>0.000002</td>\n",
       "      <td>-25.906919</td>\n",
       "    </tr>\n",
       "    <tr>\n",
       "      <th>1.068500e+00</th>\n",
       "      <th>24</th>\n",
       "      <td>-25.903288</td>\n",
       "      <td>0.114103</td>\n",
       "      <td>-25.789185</td>\n",
       "    </tr>\n",
       "    <tr>\n",
       "      <th>1.013000e+03</th>\n",
       "      <th>76</th>\n",
       "      <td>-34.728640</td>\n",
       "      <td>7.907615</td>\n",
       "      <td>-26.821025</td>\n",
       "    </tr>\n",
       "  </tbody>\n",
       "</table>\n",
       "</div>"
      ],
      "text/plain": [
       "                         flug      fldg      fnetg\n",
       "pressure     level                                \n",
       "1.000000e-08 1     -25.906921  0.000002 -25.906919\n",
       "1.068500e+00 24    -25.903288  0.114103 -25.789185\n",
       "1.013000e+03 76    -34.728640  7.907615 -26.821025"
      ]
     },
     "metadata": {},
     "output_type": "display_data"
    },
    {
     "name": "stdout",
     "output_type": "stream",
     "text": [
      "Table. Fluxes. CLIRAD\n"
     ]
    },
    {
     "data": {
      "text/html": [
       "<div>\n",
       "<style scoped>\n",
       "    .dataframe tbody tr th:only-of-type {\n",
       "        vertical-align: middle;\n",
       "    }\n",
       "\n",
       "    .dataframe tbody tr th {\n",
       "        vertical-align: top;\n",
       "    }\n",
       "\n",
       "    .dataframe thead th {\n",
       "        text-align: right;\n",
       "    }\n",
       "</style>\n",
       "<table border=\"1\" class=\"dataframe\">\n",
       "  <thead>\n",
       "    <tr style=\"text-align: right;\">\n",
       "      <th></th>\n",
       "      <th></th>\n",
       "      <th>flug</th>\n",
       "      <th>fldg</th>\n",
       "      <th>fnetg</th>\n",
       "    </tr>\n",
       "    <tr>\n",
       "      <th>pressure</th>\n",
       "      <th>level</th>\n",
       "      <th></th>\n",
       "      <th></th>\n",
       "      <th></th>\n",
       "    </tr>\n",
       "  </thead>\n",
       "  <tbody>\n",
       "    <tr>\n",
       "      <th>0.0000</th>\n",
       "      <th>1</th>\n",
       "      <td>0.135006</td>\n",
       "      <td>0.000000</td>\n",
       "      <td>0.135006</td>\n",
       "    </tr>\n",
       "    <tr>\n",
       "      <th>1.0685</th>\n",
       "      <th>24</th>\n",
       "      <td>0.136412</td>\n",
       "      <td>-0.006831</td>\n",
       "      <td>0.129581</td>\n",
       "    </tr>\n",
       "    <tr>\n",
       "      <th>1013.0000</th>\n",
       "      <th>76</th>\n",
       "      <td>0.000000</td>\n",
       "      <td>0.189730</td>\n",
       "      <td>0.189730</td>\n",
       "    </tr>\n",
       "  </tbody>\n",
       "</table>\n",
       "</div>"
      ],
      "text/plain": [
       "                     flug      fldg     fnetg\n",
       "pressure  level                              \n",
       "0.0000    1      0.135006  0.000000  0.135006\n",
       "1.0685    24     0.136412 -0.006831  0.129581\n",
       "1013.0000 76     0.000000  0.189730  0.189730"
      ]
     },
     "metadata": {},
     "output_type": "display_data"
    },
    {
     "name": "stdout",
     "output_type": "stream",
     "text": [
      "Table. Fluxes. (WGT igg=10 wgt_flux=1) - (CRD)\n"
     ]
    },
    {
     "data": {
      "text/html": [
       "<div>\n",
       "<style scoped>\n",
       "    .dataframe tbody tr th:only-of-type {\n",
       "        vertical-align: middle;\n",
       "    }\n",
       "\n",
       "    .dataframe tbody tr th {\n",
       "        vertical-align: top;\n",
       "    }\n",
       "\n",
       "    .dataframe thead th {\n",
       "        text-align: right;\n",
       "    }\n",
       "</style>\n",
       "<table border=\"1\" class=\"dataframe\">\n",
       "  <thead>\n",
       "    <tr style=\"text-align: right;\">\n",
       "      <th></th>\n",
       "      <th></th>\n",
       "      <th>flug</th>\n",
       "      <th>fldg</th>\n",
       "      <th>fnetg</th>\n",
       "    </tr>\n",
       "    <tr>\n",
       "      <th>pressure</th>\n",
       "      <th>level</th>\n",
       "      <th></th>\n",
       "      <th></th>\n",
       "      <th></th>\n",
       "    </tr>\n",
       "  </thead>\n",
       "  <tbody>\n",
       "    <tr>\n",
       "      <th>0.0000</th>\n",
       "      <th>1</th>\n",
       "      <td>0.239039</td>\n",
       "      <td>0.000002</td>\n",
       "      <td>0.239041</td>\n",
       "    </tr>\n",
       "    <tr>\n",
       "      <th>1.0685</th>\n",
       "      <th>24</th>\n",
       "      <td>0.241356</td>\n",
       "      <td>-0.014562</td>\n",
       "      <td>0.226794</td>\n",
       "    </tr>\n",
       "    <tr>\n",
       "      <th>1013.0000</th>\n",
       "      <th>76</th>\n",
       "      <td>0.000002</td>\n",
       "      <td>0.071031</td>\n",
       "      <td>0.071033</td>\n",
       "    </tr>\n",
       "  </tbody>\n",
       "</table>\n",
       "</div>"
      ],
      "text/plain": [
       "                     flug      fldg     fnetg\n",
       "pressure  level                              \n",
       "0.0000    1      0.239039  0.000002  0.239041\n",
       "1.0685    24     0.241356 -0.014562  0.226794\n",
       "1013.0000 76     0.000002  0.071031  0.071033"
      ]
     },
     "metadata": {},
     "output_type": "display_data"
    },
    {
     "name": "stdout",
     "output_type": "stream",
     "text": [
      "Table. Fluxes. (CLIRAD) - (CRD)\n"
     ]
    },
    {
     "data": {
      "text/html": [
       "<a id=\"Best-fit_Parameters\"></a>"
      ],
      "text/plain": [
       "<IPython.core.display.HTML object>"
      ]
     },
     "metadata": {},
     "output_type": "display_data"
    },
    {
     "data": {
      "text/markdown": [
       "# Best-fit Parameters"
      ],
      "text/plain": [
       "<IPython.core.display.Markdown object>"
      ]
     },
     "metadata": {},
     "output_type": "display_data"
    },
    {
     "name": "stdout",
     "output_type": "stream",
     "text": [
      "Best-fit values for each (gas, band)\n",
      "------------------------------------\n",
      "o h2o band5\n",
      "  atmpro = mls\n",
      "  band = 5\n",
      "  commitnumber = a06b618\n",
      "  conc = None\n",
      "  dv = 0.001\n",
      "  klin = 1e-24\n",
      "  molecule = h2o\n",
      "  ng_adju = [0]\n",
      "  ng_refs = [3]\n",
      "  nv = 1000\n",
      "  option_compute_btable = 0\n",
      "  option_compute_ktable = 1\n",
      "  option_wgt_flux = 1\n",
      "  option_wgt_k = 1\n",
      "  ref_pts = [(600, 250)]\n",
      "  tsfc = 294\n",
      "  vmax = 1100\n",
      "  vmin = 980\n",
      "  w_diffuse = [(1.66, 1.66, 1.8)]\n",
      "  wgt = [(0.5, 0.55, 0.9)]\n",
      "o co2 band5\n",
      "  atmpro = mls\n",
      "  band = 5\n",
      "  commitnumber = a06b618\n",
      "  conc = 0.0004\n",
      "  dv = 0.001\n",
      "  klin = 6.5e-24\n",
      "  molecule = co2\n",
      "  ng_adju = [0, 0]\n",
      "  ng_refs = [1, 2]\n",
      "  nv = 1000\n",
      "  option_compute_btable = 0\n",
      "  option_compute_ktable = 1\n",
      "  option_wgt_flux = 1\n",
      "  option_wgt_k = 1\n",
      "  ref_pts = [(1, 250), (500, 250)]\n",
      "  tsfc = 294\n",
      "  vmax = 1100\n",
      "  vmin = 980\n",
      "  w_diffuse = [(1.75,), (1.66, 1.9)]\n",
      "  wgt = [(0.75,), (0.75, 0.95)]\n",
      "o o3 band5\n",
      "  atmpro = mls\n",
      "  band = 5\n",
      "  commitnumber = a06b618\n",
      "  conc = None\n",
      "  dv = 0.001\n",
      "  klin = 2e-20\n",
      "  molecule = o3\n",
      "  ng_adju = [0, 0]\n",
      "  ng_refs = [2, 5]\n",
      "  nv = 1000\n",
      "  option_compute_btable = 0\n",
      "  option_compute_ktable = 1\n",
      "  option_wgt_flux = 1\n",
      "  option_wgt_k = 1\n",
      "  ref_pts = [(1, 250), (50, 250)]\n",
      "  tsfc = 294\n",
      "  vmax = 1100\n",
      "  vmin = 980\n",
      "  w_diffuse = [(1.6, 1.75), (1.55, 1.66, 1.7, 1.75, 1.8)]\n",
      "  wgt = [(0.35, 0.6), (0.5, 0.55, 0.7, 0.9, 1.0)]\n"
     ]
    }
   ],
   "source": [
    "script()"
   ]
  },
  {
   "cell_type": "code",
   "execution_count": 13,
   "metadata": {
    "collapsed": true
   },
   "outputs": [
    {
     "data": {
      "text/html": [
       "<script>\n",
       "code_show=true; \n",
       "function code_toggle() {\n",
       " if (code_show){\n",
       " $('div.input').hide();\n",
       " } else {\n",
       " $('div.input').show();\n",
       " }\n",
       " code_show = !code_show\n",
       "} \n",
       "$( document ).ready(code_toggle);\n",
       "</script>\n",
       "<form action=\"javascript:code_toggle()\"><input type=\"submit\" value=\"Click here to toggle on/off the raw code.\"></form>"
      ],
      "text/plain": [
       "<IPython.core.display.HTML object>"
      ]
     },
     "execution_count": 13,
     "metadata": {},
     "output_type": "execute_result"
    }
   ],
   "source": [
    "display.HTML('''<script>\n",
    "code_show=true; \n",
    "function code_toggle() {\n",
    " if (code_show){\n",
    " $('div.input').hide();\n",
    " } else {\n",
    " $('div.input').show();\n",
    " }\n",
    " code_show = !code_show\n",
    "} \n",
    "$( document ).ready(code_toggle);\n",
    "</script>\n",
    "<form action=\"javascript:code_toggle()\"><input type=\"submit\" value=\"Click here to toggle on/off the raw code.\"></form>''')"
   ]
  }
 ],
 "metadata": {
  "kernelspec": {
   "display_name": "Python 3",
   "language": "python",
   "name": "python3"
  },
  "language_info": {
   "codemirror_mode": {
    "name": "ipython",
    "version": 3
   },
   "file_extension": ".py",
   "mimetype": "text/x-python",
   "name": "python",
   "nbconvert_exporter": "python",
   "pygments_lexer": "ipython3",
   "version": "3.6.1"
  }
 },
 "nbformat": 4,
 "nbformat_minor": 2
}
