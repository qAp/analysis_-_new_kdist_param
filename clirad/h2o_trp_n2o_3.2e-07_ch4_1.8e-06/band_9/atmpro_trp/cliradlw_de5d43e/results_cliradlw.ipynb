{
 "cells": [
  {
   "cell_type": "code",
   "execution_count": 1,
   "metadata": {
    "collapsed": true
   },
   "outputs": [],
   "source": [
    "%matplotlib inline\n",
    "import os\n",
    "import re\n",
    "import io\n",
    "import itertools\n",
    "import pprint\n",
    "\n",
    "from bokeh.io import output_notebook, show\n",
    "from bokeh.layouts import gridplot\n",
    "from bokeh.plotting import figure\n",
    "from bokeh.models import Range1d, Legend\n",
    "from bokeh.palettes import all_palettes\n",
    "\n",
    "import matplotlib\n",
    "import matplotlib.pyplot as plt\n",
    "import numpy as np\n",
    "import pandas as pd\n",
    "import xarray as xr\n",
    "\n",
    "import climatools.lblnew.bestfit_params as bestfits\n",
    "from climatools.lblnew import setup_bestfit, setup_overlap\n",
    "import climatools.lblnew.pipeline as pipe_lblnew\n",
    "import climatools.cliradlw.setup as setup_cliradlw\n",
    "import climatools.cliradlw.pipeline as pipe_cliradlw\n",
    "\n",
    "import climatools.html.html as climahtml\n",
    "from climatools.lblnew.dataio import *\n",
    "from climatools.plot.plot import *\n",
    "\n",
    "\n",
    "import IPython.display as display"
   ]
  },
  {
   "cell_type": "code",
   "execution_count": 2,
   "metadata": {
    "collapsed": true
   },
   "outputs": [],
   "source": [
    "%run param.py"
   ]
  },
  {
   "cell_type": "code",
   "execution_count": 3,
   "metadata": {
    "collapsed": true
   },
   "outputs": [],
   "source": [
    "def load_output_file(path_csv):\n",
    "    '''\n",
    "    Load lblnew output .csv file to xarray.Dataset\n",
    "    \n",
    "    Parameters\n",
    "    ----------\n",
    "    path_csv: str\n",
    "              Path to the .csv file to be loaded.\n",
    "    ds: xarray.Dataset\n",
    "        Data in the input file in the form of an xarray.Dataset.\n",
    "    '''\n",
    "    toindex = ['band', 'pressure', 'igg', 'g']    \n",
    "    df = pd.read_csv(path_csv, sep=r'\\s+')\n",
    "    df = df.set_index([i for i in toindex if i in df.columns])\n",
    "    df = df.rename(columns={'sfu': 'flug',\n",
    "                            'sfd': 'fldg',\n",
    "                            'fnet': 'fnetg',\n",
    "                            'coolr': 'coolrg'})\n",
    "    ds = xr.Dataset.from_dataframe(df)\n",
    "\n",
    "    for l in ('level', 'layer'):\n",
    "        if l in ds.data_vars:\n",
    "            if len(ds[l].dims) > 1:\n",
    "                surface = {d: 0 for d in ds.dims if d != 'pressure'}\n",
    "                coord_level = ds[l][surface]\n",
    "                ds.coords[l] = ('pressure', coord_level)\n",
    "            else:\n",
    "                ds.coords[l] = ('pressure', ds[l])\n",
    "    \n",
    "    return ds"
   ]
  },
  {
   "cell_type": "code",
   "execution_count": 4,
   "metadata": {
    "collapsed": true
   },
   "outputs": [],
   "source": [
    "def lblnew_setup(param=None):\n",
    "    if 'ng_refs' in param:\n",
    "        return {'setup': setup_bestfit,\n",
    "                'fname_flux_crd': 'output_flux.dat',\n",
    "                'fname_cool_crd': 'output_coolr.dat',\n",
    "                'fname_flux_wgt': 'output_wfluxg.dat',\n",
    "                'fname_cool_wgt': 'output_wcoolrg.dat'}\n",
    "    else:\n",
    "        return {'setup': setup_overlap,\n",
    "                'fname_flux_crd': 'output_flux.dat',\n",
    "                'fname_cool_crd': 'output_coolr.dat',\n",
    "                'fname_flux_wgt': 'output_wflux.dat',\n",
    "                'fname_cool_wgt': 'output_wcoolr.dat'}\n",
    "\n",
    "    \n",
    "def load_lblnew_data(param):\n",
    "    \n",
    "    fname_dsname = [('fname_flux_crd', 'ds_flux_crd'),\n",
    "                    ('fname_cool_crd', 'ds_cool_crd'),\n",
    "                    ('fname_flux_wgt', 'ds_flux_wgt'),\n",
    "                    ('fname_cool_wgt', 'ds_cool_wgt')]\n",
    "    \n",
    "    d = lblnew_setup(param)\n",
    "    dir_fortran = pipe_lblnew.get_dir_case(param, setup=d['setup'])\n",
    "    \n",
    "    data_dict = {}\n",
    "    for fname, dsname in fname_dsname:\n",
    "        fpath = os.path.join(dir_fortran, d[fname])\n",
    "        data_dict[dsname] = load_output_file(fpath)\n",
    "    return data_dict\n",
    "    \n",
    "\n",
    "    \n",
    "    "
   ]
  },
  {
   "cell_type": "code",
   "execution_count": 5,
   "metadata": {
    "collapsed": true
   },
   "outputs": [],
   "source": [
    "d = load_lblnew_data(PARAM_LBLNEW)\n",
    "\n",
    "DS_FLUX_CRD = d['ds_flux_crd']\n",
    "DS_COOL_CRD = d['ds_cool_crd']\n",
    "DS_FLUX_WGT = d['ds_flux_wgt']\n",
    "DS_COOL_WGT = d['ds_cool_wgt']"
   ]
  },
  {
   "cell_type": "code",
   "execution_count": 6,
   "metadata": {
    "collapsed": true
   },
   "outputs": [],
   "source": [
    "DIR_FORTRAN = pipe_cliradlw.get_fortran_dir(PARAM, \n",
    "                                            setup=setup_cliradlw)\n",
    "\n",
    "PATH_FLUX = os.path.join(DIR_FORTRAN, 'output_flux.dat')\n",
    "PATH_COOL = os.path.join(DIR_FORTRAN, 'output_coolr.dat')\n",
    "\n",
    "DS_FLUX = load_output_file(PATH_FLUX)\n",
    "DS_COOL = load_output_file(PATH_COOL)"
   ]
  },
  {
   "cell_type": "code",
   "execution_count": 7,
   "metadata": {
    "collapsed": true
   },
   "outputs": [
    {
     "data": {
      "text/html": [
       "\n",
       "    <div class=\"bk-root\">\n",
       "        <a href=\"https://bokeh.pydata.org\" target=\"_blank\" class=\"bk-logo bk-logo-small bk-logo-notebook\"></a>\n",
       "        <span id=\"cf1da26b-072c-4c40-ac4f-c43fa6b6d604\">Loading BokehJS ...</span>\n",
       "    </div>"
      ]
     },
     "metadata": {},
     "output_type": "display_data"
    },
    {
     "data": {
      "application/javascript": [
       "\n",
       "(function(root) {\n",
       "  function now() {\n",
       "    return new Date();\n",
       "  }\n",
       "\n",
       "  var force = true;\n",
       "\n",
       "  if (typeof (root._bokeh_onload_callbacks) === \"undefined\" || force === true) {\n",
       "    root._bokeh_onload_callbacks = [];\n",
       "    root._bokeh_is_loading = undefined;\n",
       "  }\n",
       "\n",
       "  var JS_MIME_TYPE = 'application/javascript';\n",
       "  var HTML_MIME_TYPE = 'text/html';\n",
       "  var EXEC_MIME_TYPE = 'application/vnd.bokehjs_exec.v0+json';\n",
       "  var CLASS_NAME = 'output_bokeh rendered_html';\n",
       "\n",
       "  /**\n",
       "   * Render data to the DOM node\n",
       "   */\n",
       "  function render(props, node) {\n",
       "    var script = document.createElement(\"script\");\n",
       "    node.appendChild(script);\n",
       "  }\n",
       "\n",
       "  /**\n",
       "   * Handle when an output is cleared or removed\n",
       "   */\n",
       "  function handleClearOutput(event, handle) {\n",
       "    var cell = handle.cell;\n",
       "\n",
       "    var id = cell.output_area._bokeh_element_id;\n",
       "    var server_id = cell.output_area._bokeh_server_id;\n",
       "    // Clean up Bokeh references\n",
       "    if (id !== undefined) {\n",
       "      Bokeh.index[id].model.document.clear();\n",
       "      delete Bokeh.index[id];\n",
       "    }\n",
       "\n",
       "    if (server_id !== undefined) {\n",
       "      // Clean up Bokeh references\n",
       "      var cmd = \"from bokeh.io.state import curstate; print(curstate().uuid_to_server['\" + server_id + \"'].get_sessions()[0].document.roots[0]._id)\";\n",
       "      cell.notebook.kernel.execute(cmd, {\n",
       "        iopub: {\n",
       "          output: function(msg) {\n",
       "            var element_id = msg.content.text.trim();\n",
       "            Bokeh.index[element_id].model.document.clear();\n",
       "            delete Bokeh.index[element_id];\n",
       "          }\n",
       "        }\n",
       "      });\n",
       "      // Destroy server and session\n",
       "      var cmd = \"import bokeh.io.notebook as ion; ion.destroy_server('\" + server_id + \"')\";\n",
       "      cell.notebook.kernel.execute(cmd);\n",
       "    }\n",
       "  }\n",
       "\n",
       "  /**\n",
       "   * Handle when a new output is added\n",
       "   */\n",
       "  function handleAddOutput(event, handle) {\n",
       "    var output_area = handle.output_area;\n",
       "    var output = handle.output;\n",
       "\n",
       "    // limit handleAddOutput to display_data with EXEC_MIME_TYPE content only\n",
       "    if ((output.output_type != \"display_data\") || (!output.data.hasOwnProperty(EXEC_MIME_TYPE))) {\n",
       "      return\n",
       "    }\n",
       "\n",
       "    var toinsert = output_area.element.find(\".\" + CLASS_NAME.split(' ')[0]);\n",
       "\n",
       "    if (output.metadata[EXEC_MIME_TYPE][\"id\"] !== undefined) {\n",
       "      toinsert[toinsert.length - 1].firstChild.textContent = output.data[JS_MIME_TYPE];\n",
       "      // store reference to embed id on output_area\n",
       "      output_area._bokeh_element_id = output.metadata[EXEC_MIME_TYPE][\"id\"];\n",
       "    }\n",
       "    if (output.metadata[EXEC_MIME_TYPE][\"server_id\"] !== undefined) {\n",
       "      var bk_div = document.createElement(\"div\");\n",
       "      bk_div.innerHTML = output.data[HTML_MIME_TYPE];\n",
       "      var script_attrs = bk_div.children[0].attributes;\n",
       "      for (var i = 0; i < script_attrs.length; i++) {\n",
       "        toinsert[toinsert.length - 1].firstChild.setAttribute(script_attrs[i].name, script_attrs[i].value);\n",
       "      }\n",
       "      // store reference to server id on output_area\n",
       "      output_area._bokeh_server_id = output.metadata[EXEC_MIME_TYPE][\"server_id\"];\n",
       "    }\n",
       "  }\n",
       "\n",
       "  function register_renderer(events, OutputArea) {\n",
       "\n",
       "    function append_mime(data, metadata, element) {\n",
       "      // create a DOM node to render to\n",
       "      var toinsert = this.create_output_subarea(\n",
       "        metadata,\n",
       "        CLASS_NAME,\n",
       "        EXEC_MIME_TYPE\n",
       "      );\n",
       "      this.keyboard_manager.register_events(toinsert);\n",
       "      // Render to node\n",
       "      var props = {data: data, metadata: metadata[EXEC_MIME_TYPE]};\n",
       "      render(props, toinsert[toinsert.length - 1]);\n",
       "      element.append(toinsert);\n",
       "      return toinsert\n",
       "    }\n",
       "\n",
       "    /* Handle when an output is cleared or removed */\n",
       "    events.on('clear_output.CodeCell', handleClearOutput);\n",
       "    events.on('delete.Cell', handleClearOutput);\n",
       "\n",
       "    /* Handle when a new output is added */\n",
       "    events.on('output_added.OutputArea', handleAddOutput);\n",
       "\n",
       "    /**\n",
       "     * Register the mime type and append_mime function with output_area\n",
       "     */\n",
       "    OutputArea.prototype.register_mime_type(EXEC_MIME_TYPE, append_mime, {\n",
       "      /* Is output safe? */\n",
       "      safe: true,\n",
       "      /* Index of renderer in `output_area.display_order` */\n",
       "      index: 0\n",
       "    });\n",
       "  }\n",
       "\n",
       "  // register the mime type if in Jupyter Notebook environment and previously unregistered\n",
       "  if (root.Jupyter !== undefined) {\n",
       "    var events = require('base/js/events');\n",
       "    var OutputArea = require('notebook/js/outputarea').OutputArea;\n",
       "\n",
       "    if (OutputArea.prototype.mime_types().indexOf(EXEC_MIME_TYPE) == -1) {\n",
       "      register_renderer(events, OutputArea);\n",
       "    }\n",
       "  }\n",
       "\n",
       "  \n",
       "  if (typeof (root._bokeh_timeout) === \"undefined\" || force === true) {\n",
       "    root._bokeh_timeout = Date.now() + 5000;\n",
       "    root._bokeh_failed_load = false;\n",
       "  }\n",
       "\n",
       "  var NB_LOAD_WARNING = {'data': {'text/html':\n",
       "     \"<div style='background-color: #fdd'>\\n\"+\n",
       "     \"<p>\\n\"+\n",
       "     \"BokehJS does not appear to have successfully loaded. If loading BokehJS from CDN, this \\n\"+\n",
       "     \"may be due to a slow or bad network connection. Possible fixes:\\n\"+\n",
       "     \"</p>\\n\"+\n",
       "     \"<ul>\\n\"+\n",
       "     \"<li>re-rerun `output_notebook()` to attempt to load from CDN again, or</li>\\n\"+\n",
       "     \"<li>use INLINE resources instead, as so:</li>\\n\"+\n",
       "     \"</ul>\\n\"+\n",
       "     \"<code>\\n\"+\n",
       "     \"from bokeh.resources import INLINE\\n\"+\n",
       "     \"output_notebook(resources=INLINE)\\n\"+\n",
       "     \"</code>\\n\"+\n",
       "     \"</div>\"}};\n",
       "\n",
       "  function display_loaded() {\n",
       "    var el = document.getElementById(\"cf1da26b-072c-4c40-ac4f-c43fa6b6d604\");\n",
       "    if (el != null) {\n",
       "      el.textContent = \"BokehJS is loading...\";\n",
       "    }\n",
       "    if (root.Bokeh !== undefined) {\n",
       "      if (el != null) {\n",
       "        el.textContent = \"BokehJS \" + root.Bokeh.version + \" successfully loaded.\";\n",
       "      }\n",
       "    } else if (Date.now() < root._bokeh_timeout) {\n",
       "      setTimeout(display_loaded, 100)\n",
       "    }\n",
       "  }\n",
       "\n",
       "\n",
       "  function run_callbacks() {\n",
       "    try {\n",
       "      root._bokeh_onload_callbacks.forEach(function(callback) { callback() });\n",
       "    }\n",
       "    finally {\n",
       "      delete root._bokeh_onload_callbacks\n",
       "    }\n",
       "    console.info(\"Bokeh: all callbacks have finished\");\n",
       "  }\n",
       "\n",
       "  function load_libs(js_urls, callback) {\n",
       "    root._bokeh_onload_callbacks.push(callback);\n",
       "    if (root._bokeh_is_loading > 0) {\n",
       "      console.log(\"Bokeh: BokehJS is being loaded, scheduling callback at\", now());\n",
       "      return null;\n",
       "    }\n",
       "    if (js_urls == null || js_urls.length === 0) {\n",
       "      run_callbacks();\n",
       "      return null;\n",
       "    }\n",
       "    console.log(\"Bokeh: BokehJS not loaded, scheduling load and callback at\", now());\n",
       "    root._bokeh_is_loading = js_urls.length;\n",
       "    for (var i = 0; i < js_urls.length; i++) {\n",
       "      var url = js_urls[i];\n",
       "      var s = document.createElement('script');\n",
       "      s.src = url;\n",
       "      s.async = false;\n",
       "      s.onreadystatechange = s.onload = function() {\n",
       "        root._bokeh_is_loading--;\n",
       "        if (root._bokeh_is_loading === 0) {\n",
       "          console.log(\"Bokeh: all BokehJS libraries loaded\");\n",
       "          run_callbacks()\n",
       "        }\n",
       "      };\n",
       "      s.onerror = function() {\n",
       "        console.warn(\"failed to load library \" + url);\n",
       "      };\n",
       "      console.log(\"Bokeh: injecting script tag for BokehJS library: \", url);\n",
       "      document.getElementsByTagName(\"head\")[0].appendChild(s);\n",
       "    }\n",
       "  };var element = document.getElementById(\"cf1da26b-072c-4c40-ac4f-c43fa6b6d604\");\n",
       "  if (element == null) {\n",
       "    console.log(\"Bokeh: ERROR: autoload.js configured with elementid 'cf1da26b-072c-4c40-ac4f-c43fa6b6d604' but no matching script tag was found. \")\n",
       "    return false;\n",
       "  }\n",
       "\n",
       "  var js_urls = [\"https://cdn.pydata.org/bokeh/release/bokeh-0.12.16.min.js\", \"https://cdn.pydata.org/bokeh/release/bokeh-widgets-0.12.16.min.js\", \"https://cdn.pydata.org/bokeh/release/bokeh-tables-0.12.16.min.js\", \"https://cdn.pydata.org/bokeh/release/bokeh-gl-0.12.16.min.js\"];\n",
       "\n",
       "  var inline_js = [\n",
       "    function(Bokeh) {\n",
       "      Bokeh.set_log_level(\"info\");\n",
       "    },\n",
       "    \n",
       "    function(Bokeh) {\n",
       "      \n",
       "    },\n",
       "    function(Bokeh) {\n",
       "      console.log(\"Bokeh: injecting CSS: https://cdn.pydata.org/bokeh/release/bokeh-0.12.16.min.css\");\n",
       "      Bokeh.embed.inject_css(\"https://cdn.pydata.org/bokeh/release/bokeh-0.12.16.min.css\");\n",
       "      console.log(\"Bokeh: injecting CSS: https://cdn.pydata.org/bokeh/release/bokeh-widgets-0.12.16.min.css\");\n",
       "      Bokeh.embed.inject_css(\"https://cdn.pydata.org/bokeh/release/bokeh-widgets-0.12.16.min.css\");\n",
       "      console.log(\"Bokeh: injecting CSS: https://cdn.pydata.org/bokeh/release/bokeh-tables-0.12.16.min.css\");\n",
       "      Bokeh.embed.inject_css(\"https://cdn.pydata.org/bokeh/release/bokeh-tables-0.12.16.min.css\");\n",
       "    }\n",
       "  ];\n",
       "\n",
       "  function run_inline_js() {\n",
       "    \n",
       "    if ((root.Bokeh !== undefined) || (force === true)) {\n",
       "      for (var i = 0; i < inline_js.length; i++) {\n",
       "        inline_js[i].call(root, root.Bokeh);\n",
       "      }if (force === true) {\n",
       "        display_loaded();\n",
       "      }} else if (Date.now() < root._bokeh_timeout) {\n",
       "      setTimeout(run_inline_js, 100);\n",
       "    } else if (!root._bokeh_failed_load) {\n",
       "      console.log(\"Bokeh: BokehJS failed to load within specified timeout.\");\n",
       "      root._bokeh_failed_load = true;\n",
       "    } else if (force !== true) {\n",
       "      var cell = $(document.getElementById(\"cf1da26b-072c-4c40-ac4f-c43fa6b6d604\")).parents('.cell').data().cell;\n",
       "      cell.output_area.append_execute_result(NB_LOAD_WARNING)\n",
       "    }\n",
       "\n",
       "  }\n",
       "\n",
       "  if (root._bokeh_is_loading === 0) {\n",
       "    console.log(\"Bokeh: BokehJS loaded, going straight to plotting\");\n",
       "    run_inline_js();\n",
       "  } else {\n",
       "    load_libs(js_urls, function() {\n",
       "      console.log(\"Bokeh: BokehJS plotting callback run at\", now());\n",
       "      run_inline_js();\n",
       "    });\n",
       "  }\n",
       "}(window));"
      ],
      "application/vnd.bokehjs_load.v0+json": "\n(function(root) {\n  function now() {\n    return new Date();\n  }\n\n  var force = true;\n\n  if (typeof (root._bokeh_onload_callbacks) === \"undefined\" || force === true) {\n    root._bokeh_onload_callbacks = [];\n    root._bokeh_is_loading = undefined;\n  }\n\n  \n\n  \n  if (typeof (root._bokeh_timeout) === \"undefined\" || force === true) {\n    root._bokeh_timeout = Date.now() + 5000;\n    root._bokeh_failed_load = false;\n  }\n\n  var NB_LOAD_WARNING = {'data': {'text/html':\n     \"<div style='background-color: #fdd'>\\n\"+\n     \"<p>\\n\"+\n     \"BokehJS does not appear to have successfully loaded. If loading BokehJS from CDN, this \\n\"+\n     \"may be due to a slow or bad network connection. Possible fixes:\\n\"+\n     \"</p>\\n\"+\n     \"<ul>\\n\"+\n     \"<li>re-rerun `output_notebook()` to attempt to load from CDN again, or</li>\\n\"+\n     \"<li>use INLINE resources instead, as so:</li>\\n\"+\n     \"</ul>\\n\"+\n     \"<code>\\n\"+\n     \"from bokeh.resources import INLINE\\n\"+\n     \"output_notebook(resources=INLINE)\\n\"+\n     \"</code>\\n\"+\n     \"</div>\"}};\n\n  function display_loaded() {\n    var el = document.getElementById(\"cf1da26b-072c-4c40-ac4f-c43fa6b6d604\");\n    if (el != null) {\n      el.textContent = \"BokehJS is loading...\";\n    }\n    if (root.Bokeh !== undefined) {\n      if (el != null) {\n        el.textContent = \"BokehJS \" + root.Bokeh.version + \" successfully loaded.\";\n      }\n    } else if (Date.now() < root._bokeh_timeout) {\n      setTimeout(display_loaded, 100)\n    }\n  }\n\n\n  function run_callbacks() {\n    try {\n      root._bokeh_onload_callbacks.forEach(function(callback) { callback() });\n    }\n    finally {\n      delete root._bokeh_onload_callbacks\n    }\n    console.info(\"Bokeh: all callbacks have finished\");\n  }\n\n  function load_libs(js_urls, callback) {\n    root._bokeh_onload_callbacks.push(callback);\n    if (root._bokeh_is_loading > 0) {\n      console.log(\"Bokeh: BokehJS is being loaded, scheduling callback at\", now());\n      return null;\n    }\n    if (js_urls == null || js_urls.length === 0) {\n      run_callbacks();\n      return null;\n    }\n    console.log(\"Bokeh: BokehJS not loaded, scheduling load and callback at\", now());\n    root._bokeh_is_loading = js_urls.length;\n    for (var i = 0; i < js_urls.length; i++) {\n      var url = js_urls[i];\n      var s = document.createElement('script');\n      s.src = url;\n      s.async = false;\n      s.onreadystatechange = s.onload = function() {\n        root._bokeh_is_loading--;\n        if (root._bokeh_is_loading === 0) {\n          console.log(\"Bokeh: all BokehJS libraries loaded\");\n          run_callbacks()\n        }\n      };\n      s.onerror = function() {\n        console.warn(\"failed to load library \" + url);\n      };\n      console.log(\"Bokeh: injecting script tag for BokehJS library: \", url);\n      document.getElementsByTagName(\"head\")[0].appendChild(s);\n    }\n  };var element = document.getElementById(\"cf1da26b-072c-4c40-ac4f-c43fa6b6d604\");\n  if (element == null) {\n    console.log(\"Bokeh: ERROR: autoload.js configured with elementid 'cf1da26b-072c-4c40-ac4f-c43fa6b6d604' but no matching script tag was found. \")\n    return false;\n  }\n\n  var js_urls = [\"https://cdn.pydata.org/bokeh/release/bokeh-0.12.16.min.js\", \"https://cdn.pydata.org/bokeh/release/bokeh-widgets-0.12.16.min.js\", \"https://cdn.pydata.org/bokeh/release/bokeh-tables-0.12.16.min.js\", \"https://cdn.pydata.org/bokeh/release/bokeh-gl-0.12.16.min.js\"];\n\n  var inline_js = [\n    function(Bokeh) {\n      Bokeh.set_log_level(\"info\");\n    },\n    \n    function(Bokeh) {\n      \n    },\n    function(Bokeh) {\n      console.log(\"Bokeh: injecting CSS: https://cdn.pydata.org/bokeh/release/bokeh-0.12.16.min.css\");\n      Bokeh.embed.inject_css(\"https://cdn.pydata.org/bokeh/release/bokeh-0.12.16.min.css\");\n      console.log(\"Bokeh: injecting CSS: https://cdn.pydata.org/bokeh/release/bokeh-widgets-0.12.16.min.css\");\n      Bokeh.embed.inject_css(\"https://cdn.pydata.org/bokeh/release/bokeh-widgets-0.12.16.min.css\");\n      console.log(\"Bokeh: injecting CSS: https://cdn.pydata.org/bokeh/release/bokeh-tables-0.12.16.min.css\");\n      Bokeh.embed.inject_css(\"https://cdn.pydata.org/bokeh/release/bokeh-tables-0.12.16.min.css\");\n    }\n  ];\n\n  function run_inline_js() {\n    \n    if ((root.Bokeh !== undefined) || (force === true)) {\n      for (var i = 0; i < inline_js.length; i++) {\n        inline_js[i].call(root, root.Bokeh);\n      }if (force === true) {\n        display_loaded();\n      }} else if (Date.now() < root._bokeh_timeout) {\n      setTimeout(run_inline_js, 100);\n    } else if (!root._bokeh_failed_load) {\n      console.log(\"Bokeh: BokehJS failed to load within specified timeout.\");\n      root._bokeh_failed_load = true;\n    } else if (force !== true) {\n      var cell = $(document.getElementById(\"cf1da26b-072c-4c40-ac4f-c43fa6b6d604\")).parents('.cell').data().cell;\n      cell.output_area.append_execute_result(NB_LOAD_WARNING)\n    }\n\n  }\n\n  if (root._bokeh_is_loading === 0) {\n    console.log(\"Bokeh: BokehJS loaded, going straight to plotting\");\n    run_inline_js();\n  } else {\n    load_libs(js_urls, function() {\n      console.log(\"Bokeh: BokehJS plotting callback run at\", now());\n      run_inline_js();\n    });\n  }\n}(window));"
     },
     "metadata": {},
     "output_type": "display_data"
    }
   ],
   "source": [
    "output_notebook()"
   ]
  },
  {
   "cell_type": "code",
   "execution_count": 8,
   "metadata": {
    "collapsed": true
   },
   "outputs": [],
   "source": [
    "def fmt_cool(ds_in):\n",
    "    ds = ds_in.copy(deep=True)\n",
    "    if 'igg' in ds.dims:\n",
    "        ds = ds.sel(igg=1)\n",
    "\n",
    "    if 'g' in ds.dims:\n",
    "        ds = ds.sum('g')\n",
    "            \n",
    "    if 'band' in ds.dims:\n",
    "        try:\n",
    "            ds = ds.squeeze('band')\n",
    "        except ValueError:\n",
    "            ds = ds.sum('band')\n",
    "                \n",
    "    return ds['coolrg']\n",
    "\n",
    "\n",
    "def pltdata_cooling_1(ds_cool=None,\n",
    "                      ds_cool_crd=None, ds_cool_wgt=None):\n",
    "    \n",
    "\n",
    "\n",
    "    colors = all_palettes['Set1'][4]\n",
    "    data = [{'label': 'CLIRAD `coolr_bands`',\n",
    "             'srs': fmt_cool(ds_cool),\n",
    "             'line_dash': 'dashed', 'line_width': 5,\n",
    "             'color': colors[0], 'alpha': .6},\n",
    "            {'label': 'CRD',\n",
    "             'srs': fmt_cool(ds_cool_crd),\n",
    "             'line_dash': 'solid', 'line_width': 1.5,\n",
    "             'marker': 'circle', 'marker_size': 5,\n",
    "             'color': colors[2], 'alpha': 1,},\n",
    "            {'label': 'WGT igg=10 wgt_flux=2',\n",
    "             'srs': fmt_cool(ds_cool_wgt),\n",
    "             'line_dash': 'solid', 'line_width': 3,\n",
    "             'marker': 'square', 'marker_size': 5,\n",
    "             'color': colors[3], 'alpha': .6}]\n",
    "    return data\n",
    "\n",
    "\n",
    "def nice_xlims(pltdata=None, prange=None):\n",
    "    \n",
    "    def get_slice(srs):\n",
    "        return srs.sel(pressure=slice(*prange))\n",
    "    \n",
    "    srss = [d['srs'] for d in pltdata]\n",
    "    vmin = min([get_slice(srs).min() for srs in srss])\n",
    "    vmax = max([get_slice(srs).max() for srs in srss])\n",
    "    dv = (vmax - vmin) * .01\n",
    "    return float(vmin - dv), float(vmax + dv)\n",
    "    \n",
    "\n",
    "def plt_cooling_bokeh(pltdata=None):\n",
    "    '''\n",
    "    Plot a list of cooling rate profiles using bokeh.\n",
    "    '''\n",
    "    ymin = 1e-2 \n",
    "    ymax = 1020 \n",
    "        \n",
    "    p1 = figure(title=\"Linear pressure scale\", \n",
    "                plot_width=400)        \n",
    "    xmin, xmax = nice_xlims(pltdata, prange=(50, 1050))\n",
    "    for d in pltdata:\n",
    "        if 'marker' in d:\n",
    "            getattr(p1, d['marker'])(d['srs'].values, \n",
    "                    d['srs'].coords['pressure'].values,\n",
    "                    color=d['color'], alpha=.7)\n",
    "        p1.line(d['srs'].values, \n",
    "                d['srs'].coords['pressure'].values,\n",
    "                color=d['color'], alpha=d['alpha'], \n",
    "                line_width=d['line_width'], line_dash=d['line_dash'])\n",
    "    \n",
    "    p1.y_range = Range1d(ymax, ymin)\n",
    "    p1.yaxis.axis_label = 'pressure [mb]'   \n",
    "    p1.x_range = Range1d(xmin, xmax)\n",
    "    p1.xaxis.axis_label = 'cooling rate [K/day]'\n",
    "            \n",
    "    p2 = figure(title='Log pressure scale', y_axis_type='log',\n",
    "                plot_width=560)\n",
    "    xmin, xmax = nice_xlims(pltdata, prange=(.01, 200))\n",
    "    \n",
    "    rs = []\n",
    "    for d in pltdata:\n",
    "        rd = []\n",
    "        if 'marker' in d:\n",
    "            r_mark = getattr(p2, d['marker'])(d['srs'].values, \n",
    "                        d['srs'].coords['pressure'].values,\n",
    "                        color=d['color'], alpha=.7)\n",
    "            rd.append(r_mark)\n",
    "        r_line = p2.line(d['srs'].values, \n",
    "                    d['srs'].coords['pressure'].values,\n",
    "                    color=d['color'], alpha=d['alpha'], \n",
    "                    line_width=d['line_width'], line_dash=d['line_dash'])\n",
    "        rd.append(r_line)\n",
    "      \n",
    "        rs.append(rd)\n",
    "        \n",
    "    p2.y_range = Range1d(ymax, ymin)  \n",
    "    p2.yaxis.axis_label = 'pressure [mb]'\n",
    "    \n",
    "    p2.x_range = Range1d(xmin, xmax)\n",
    "    p2.xaxis.axis_label = 'cooling rate [K/day]'\n",
    "    \n",
    "    items = [(d['label'], r) for r, d in zip(rs, pltdata)]\n",
    "    legend = Legend(items=items, location=(10, -30))\n",
    "    legend.label_text_font_size = '8pt'\n",
    "    \n",
    "    p2.add_layout(legend, 'right')  \n",
    "    \n",
    "    show(gridplot(p1, p2, ncols=2, plot_height=500))\n",
    "    \n",
    "\n",
    "def script_plt_cooling():\n",
    "    pltdata = pltdata_cooling_1(\n",
    "        ds_cool=DS_COOL,\n",
    "        ds_cool_crd=DS_COOL_CRD,\n",
    "        ds_cool_wgt=DS_COOL_WGT)\n",
    "    plt_cooling_bokeh(pltdata=pltdata)\n",
    "    print('''FIGURE. Cooling rate profiles.''')"
   ]
  },
  {
   "cell_type": "code",
   "execution_count": 9,
   "metadata": {
    "collapsed": true
   },
   "outputs": [],
   "source": [
    "def fmt_flux(ds_in):\n",
    "    ds = ds_in.copy(deep=True)\n",
    "    \n",
    "    for l in ('level', 'layer'):\n",
    "        if l in ds.data_vars:\n",
    "            if len(ds[l].dims) > 1:\n",
    "                surface = {d: 0 for d in ds.dims if d != 'pressure'}\n",
    "                coord_level = ds[l][surface]\n",
    "                ds.coords[l] = ('pressure', coord_level)\n",
    "            else:\n",
    "                ds.coords[l] = ('pressure', ds[l])\n",
    "        \n",
    "    ds = ds.isel(pressure=[0, 23, -1])\n",
    "        \n",
    "    if 'igg' in ds.dims:\n",
    "        ds = ds.sel(igg=[1])\n",
    "        ds = ds.squeeze('igg').drop('igg')\n",
    "    \n",
    "    if 'g' in ds.dims:\n",
    "        ds = ds.sum('g')\n",
    "            \n",
    "    if 'band' in ds.dims:\n",
    "        try:\n",
    "            ds = ds.squeeze('band').drop('band')\n",
    "        except ValueError:\n",
    "            ds = ds.sum('band')\n",
    "                \n",
    "    df = ds.to_dataframe()\n",
    "    df = df.set_index('level', append=True)               \n",
    "    return df\n",
    "\n",
    "\n",
    "def tbdata_flux(ds_flux=None, ds_flux_crd=None, ds_flux_wgt=None):\n",
    "    ilevels = [0, 23, -1]\n",
    "            \n",
    "    benchmark = {'label': 'CRD',\n",
    "                 'df': fmt_flux(ds_flux_crd)}\n",
    "    \n",
    "    tbs = [{'label': 'WGT igg=10 wgt_flux=1',\n",
    "            'df': fmt_flux(ds_flux_wgt)},\n",
    "           {'label': 'CLIRAD',\n",
    "            'df': fmt_flux(ds_flux)}]\n",
    "    \n",
    "    data = {'benchmark': benchmark, 'others': tbs}\n",
    "    return data\n",
    "\n",
    "\n",
    "def tb_flux(tbdata=None):\n",
    "    benchmark = tbdata['benchmark']\n",
    "    others = tbdata['others']\n",
    "    \n",
    "    def show_tb(d=None):\n",
    "        display.display(d['df'])\n",
    "        print('Table.', 'Fluxes.', d['label'])\n",
    "        \n",
    "    def show_tbdiff(d0=None, d=None):\n",
    "        df = d['df']\n",
    "        df.index = d0['df'].index\n",
    "        display.display(df - d0['df'])\n",
    "        print('Table.', 'Fluxes.', \n",
    "              '({}) - ({})'.format(d['label'], d0['label']))\n",
    "        \n",
    "    show_tb(benchmark)\n",
    "    for d in others:\n",
    "        show_tb(d)\n",
    "        \n",
    "    for d in others:\n",
    "        show_tbdiff(d=d, d0=benchmark)\n",
    "        \n",
    "        \n",
    "def script_tb_flux():\n",
    "    data = tbdata_flux(ds_flux=DS_FLUX,\n",
    "                       ds_flux_crd=DS_FLUX_CRD,\n",
    "                       ds_flux_wgt=DS_FLUX_WGT)\n",
    "    tb_flux(tbdata=data)"
   ]
  },
  {
   "cell_type": "code",
   "execution_count": 10,
   "metadata": {
    "collapsed": true
   },
   "outputs": [],
   "source": [
    "def band_map():\n",
    "    '''\n",
    "    Maps spectral bands in lblnew to spectral bands in clirad.\n",
    "    '''\n",
    "    lblnew2clirad = {'1': '1',\n",
    "            '2': '2',\n",
    "            '3a': '3',\n",
    "            '3b': '4',\n",
    "            '3c': '5',\n",
    "            '4': '6', \n",
    "            '5': '7',\n",
    "            '6': '8',\n",
    "            '7': '9', \n",
    "            '8': '10',\n",
    "            '9': '11'}\n",
    "    \n",
    "    clirad2lblnew = {clirad: lblnew \n",
    "                     for lblnew, clirad in lblnew2clirad.items()}\n",
    "    return clirad2lblnew\n",
    "\n",
    "\n",
    "def gasbands():\n",
    "    bmap = band_map()\n",
    "    gases = list(PARAM['molecule'].keys())\n",
    "    \n",
    "    bands = [bmap[str(b)] for b in PARAM['band']]\n",
    "    return list(itertools.product(gases, bands))\n",
    "\n",
    "\n",
    "def print_bestfit_params():\n",
    "    print('Best-fit values for each (gas, band)')\n",
    "    print('------------------------------------')\n",
    "    for gas, band in gasbands():\n",
    "        print('o {} band{}'.format(gas, band))\n",
    "        param = bestfits.kdist_params(molecule=gas, band=band)\n",
    "        for name, value in sorted(param.items()):\n",
    "            print(2 * ' ' + '{} = {}'.format(name, value))\n",
    "\n",
    "        \n",
    "def print_input_param():        \n",
    "    for name, value in PARAM.items():\n",
    "        print('{} = {}'.format(name, value))\n",
    "        \n",
    "        \n",
    "def print_lblnew_param():\n",
    "    for name, value in sorted(PARAM_LBLNEW.items()):\n",
    "        print('{} = {}'.format(name, value))\n"
   ]
  },
  {
   "cell_type": "code",
   "execution_count": 11,
   "metadata": {
    "collapsed": true,
    "scrolled": false
   },
   "outputs": [],
   "source": [
    "def show_html(s):\n",
    "    display.display(display.HTML(s))\n",
    "\n",
    "    \n",
    "def show_markdown(s):\n",
    "    display.display(display.Markdown(s))\n",
    "\n",
    "    \n",
    "def script():\n",
    "    \n",
    "    title = '### CLIRAD-LW'\n",
    "    s_input = 'Input Parameters'\n",
    "    s_lblnew_param = 'LBLNEW case compaired against'\n",
    "    s_bestfits = 'Best-fit Parameters'\n",
    "    s_plt_cooling = 'Cooling Rate Profiles'\n",
    "    s_tb_flux = 'Flux Comparison'\n",
    "    \n",
    "    # title\n",
    "    show_markdown('### CLIRAD-LW')\n",
    "    \n",
    "    # TOC\n",
    "    show_markdown('### Table of Contents')\n",
    "    show_html(climahtml.getHTML_hrefanchor(s_input))\n",
    "    show_html(climahtml.getHTML_hrefanchor(s_lblnew_param))\n",
    "    show_html(climahtml.getHTML_hrefanchor(s_plt_cooling))\n",
    "    show_html(climahtml.getHTML_hrefanchor(s_tb_flux))\n",
    "    show_html(climahtml.getHTML_hrefanchor(s_bestfits))\n",
    "    \n",
    "    # Input parameters\n",
    "    show_html(climahtml.getHTML_idanchor(s_input))\n",
    "    show_markdown(climahtml.getMarkdown_sectitle(s_input))\n",
    "    print_input_param()\n",
    "    \n",
    "    # LBLNEW parameters \n",
    "    show_html(climahtml.getHTML_idanchor(s_lblnew_param))\n",
    "    show_markdown(climahtml.getMarkdown_sectitle(s_lblnew_param))\n",
    "    print_lblnew_param()\n",
    "    \n",
    "    # Cooling rate profiles\n",
    "    show_html(climahtml.getHTML_idanchor(s_plt_cooling))\n",
    "    show_markdown(climahtml.getMarkdown_sectitle(s_plt_cooling))\n",
    "    script_plt_cooling()\n",
    "    \n",
    "    # Flux comparison\n",
    "    show_html(climahtml.getHTML_idanchor(s_tb_flux))\n",
    "    show_markdown(climahtml.getMarkdown_sectitle(s_tb_flux))\n",
    "    script_tb_flux()\n",
    "    \n",
    "    # Best-fit values\n",
    "    show_html(climahtml.getHTML_idanchor(s_bestfits))\n",
    "    show_markdown(climahtml.getMarkdown_sectitle(s_bestfits))\n",
    "    print_bestfit_params()\n",
    "   \n",
    "    "
   ]
  },
  {
   "cell_type": "code",
   "execution_count": 12,
   "metadata": {
    "collapsed": true,
    "scrolled": false
   },
   "outputs": [
    {
     "data": {
      "text/markdown": [
       "### CLIRAD-LW"
      ],
      "text/plain": [
       "<IPython.core.display.Markdown object>"
      ]
     },
     "metadata": {},
     "output_type": "display_data"
    },
    {
     "data": {
      "text/markdown": [
       "### Table of Contents"
      ],
      "text/plain": [
       "<IPython.core.display.Markdown object>"
      ]
     },
     "metadata": {},
     "output_type": "display_data"
    },
    {
     "data": {
      "text/html": [
       "<a href=\"#Input_Parameters\">Input Parameters</a>"
      ],
      "text/plain": [
       "<IPython.core.display.HTML object>"
      ]
     },
     "metadata": {},
     "output_type": "display_data"
    },
    {
     "data": {
      "text/html": [
       "<a href=\"#LBLNEW_case_compaired_against\">LBLNEW case compaired against</a>"
      ],
      "text/plain": [
       "<IPython.core.display.HTML object>"
      ]
     },
     "metadata": {},
     "output_type": "display_data"
    },
    {
     "data": {
      "text/html": [
       "<a href=\"#Cooling_Rate_Profiles\">Cooling Rate Profiles</a>"
      ],
      "text/plain": [
       "<IPython.core.display.HTML object>"
      ]
     },
     "metadata": {},
     "output_type": "display_data"
    },
    {
     "data": {
      "text/html": [
       "<a href=\"#Flux_Comparison\">Flux Comparison</a>"
      ],
      "text/plain": [
       "<IPython.core.display.HTML object>"
      ]
     },
     "metadata": {},
     "output_type": "display_data"
    },
    {
     "data": {
      "text/html": [
       "<a href=\"#Best-fit_Parameters\">Best-fit Parameters</a>"
      ],
      "text/plain": [
       "<IPython.core.display.HTML object>"
      ]
     },
     "metadata": {},
     "output_type": "display_data"
    },
    {
     "data": {
      "text/html": [
       "<a id=\"Input_Parameters\"></a>"
      ],
      "text/plain": [
       "<IPython.core.display.HTML object>"
      ]
     },
     "metadata": {},
     "output_type": "display_data"
    },
    {
     "data": {
      "text/markdown": [
       "# Input Parameters"
      ],
      "text/plain": [
       "<IPython.core.display.Markdown object>"
      ]
     },
     "metadata": {},
     "output_type": "display_data"
    },
    {
     "name": "stdout",
     "output_type": "stream",
     "text": [
      "commitnumber = de5d43e\n",
      "molecule = {'h2o': 'atmpro', 'n2o': 3.2e-07, 'ch4': 1.8e-06}\n",
      "band = [9]\n",
      "atmpro = trp\n",
      "tsfc = 300\n"
     ]
    },
    {
     "data": {
      "text/html": [
       "<a id=\"LBLNEW_case_compaired_against\"></a>"
      ],
      "text/plain": [
       "<IPython.core.display.HTML object>"
      ]
     },
     "metadata": {},
     "output_type": "display_data"
    },
    {
     "data": {
      "text/markdown": [
       "# LBLNEW case compaired against"
      ],
      "text/plain": [
       "<IPython.core.display.Markdown object>"
      ]
     },
     "metadata": {},
     "output_type": "display_data"
    },
    {
     "name": "stdout",
     "output_type": "stream",
     "text": [
      "atmpro = trp\n",
      "band = 7\n",
      "commitnumber = 5014a19\n",
      "dv = 0.001\n",
      "molecule = {'h2o': 'atmpro', 'n2o': 3.2e-07, 'ch4': 1.8e-06}\n",
      "nv = 1000\n",
      "tsfc = 300\n"
     ]
    },
    {
     "data": {
      "text/html": [
       "<a id=\"Cooling_Rate_Profiles\"></a>"
      ],
      "text/plain": [
       "<IPython.core.display.HTML object>"
      ]
     },
     "metadata": {},
     "output_type": "display_data"
    },
    {
     "data": {
      "text/markdown": [
       "# Cooling Rate Profiles"
      ],
      "text/plain": [
       "<IPython.core.display.Markdown object>"
      ]
     },
     "metadata": {},
     "output_type": "display_data"
    },
    {
     "data": {
      "text/html": [
       "\n",
       "<div class=\"bk-root\">\n",
       "    <div class=\"bk-plotdiv\" id=\"8e2f552d-87ef-41f5-b192-50ca41aa794d\"></div>\n",
       "</div>"
      ]
     },
     "metadata": {},
     "output_type": "display_data"
    },
    {
     "data": {
      "application/javascript": [
       "(function(root) {\n",
       "  function embed_document(root) {\n",
       "    \n",
       "  var docs_json = {\"23e57149-1937-4ade-a0d9-77bc4fadc9be\":{\"roots\":{\"references\":[{\"attributes\":{\"callback\":null,\"data\":{\"x\":{\"__ndarray__\":\"lp50GE9hs79i9UcYBiyzvyPfAI6YtLK/1Kejg/g3sr8CtPyscbexv1L8zuW8NbG/2NqYKlqxsL+kleVl+Sywv0f4DBiMYK+/P2bDQRJbrr+poaXckXKtv4WvRZEJhqy/xOSRaJepq7+qfIhz+Jeqv5UtX4X+g6W/GnxfMSp2kr82hY5QRYeQP7+IWPLorq0/TkMz0+bNuz9ael1UxbPFPyNkxRW8Dc8/piwiDgKA1D9ubX5P7u/VP12SPSG/Z9M/qvGxP3ltzz+GdqlsswzHPzYr0xZ0zr8/gPN1KCkBtT+AWAnywLuqPywTcX+dt6A/NA3oVwMslT9bT1FO5OSKP0OSifbZSn0/7LGP615YPz/PT0PkjBKIvz1JJwMhCJ2/BuzDqtxspb+eo4vWHOOnvzavYbu446a/zMDn2FjBpb/eDlZhCECkvytXOzRzG6K/LhP8cSZmnr8KdCO1G0CXvzNOQ1Thz4y/aI8r/+eacL8dMjSKJPt5P03E4SCvdJE/NfI3qYFJnD/UWYshyUSkP85m7IPgfKo/B1M02bZdsD+qpfPAS5mzP4XBN3gf+rY/LYrLr+5xuj+tEm4qOcS9P3AIdnjfY8A/DCLvqHO9wT9m4YhBogHDP2rqCvC8WMQ/GVYzY7jXxT+RmyMjTkTHP9yOPiCvC8g/uFdq5l6ayD/Q+HQrOkjHPx2ZP40YScU/Fi+avmx1wz+rb8sNp8jBP4eX8QBgBsE/v0fc5yHowD8dBk4ROy7BP5yUev3m0cE/H3mtpfz7wj/2MoJ0Tj/FP936fqRnfs8/\",\"dtype\":\"float64\",\"shape\":[75]},\"y\":{\"__ndarray__\":\"GhExyth1ND/Sv8nbtpRIP2vylNV0PVE/aTum7souWD/At0SJ8fVgPw3Iuahxymc/MSNhhJWvcD/bTfBN02d3P2zb5nxnaoA/CD5h5MAGhz8NmeH1TyaQP+zrCsc9p5Y/LbKd76fGnz/bLW5ISEmmPww9YvTcQq8/JV2OstnstT8Er5Y7M8G+P0c+r3jqkcU/5h99k6ZBzj88bCIzFzjVP4enV8oyxN0//yH99nXg5D8qOpLLf0jtP5kqGJXUifQ/c9cS8kHP/D+/DpwzojQEQIEmwoanVwxA4lgXt9HgE0BSSZ2AJuIbQAMJih9jjiNA5q4l5INuK0AwTKYKRj0zQNv5fmq8/DpAaCJseHrtQkB/+zpwzoxKQM3MzMzMeFJAZmZmZmZqWEAAAAAAAFxeQM3MzMzMJmJAmpmZmZkfZUBmZmZmZhhoQDMzMzMzEWtAAAAAAAAKbkBmZmZmZoFwQM3MzMzM/XFAMzMzMzN6c0CamZmZmfZ0QAAAAAAAc3ZAZmZmZmbvd0DNzMzMzGt5QDMzMzMz6HpAmpmZmZlkfEAAAAAAAOF9QGZmZmZmXX9AZmZmZuZsgECamZmZGSuBQM3MzMxM6YFAAAAAAICngkAzMzMzs2WDQGZmZmbmI4RAmpmZmRnihEDNzMzMTKCFQAAAAACAXoZAMzMzM7Mch0BmZmZm5tqHQJqZmZkZmYhAzczMzExXiUAAAAAAgBWKQDMzMzOz04pAZmZmZuaRi0CamZmZGVCMQM3MzMxMDo1AAAAAAIDMjUAzMzMzs4qOQGZmZmbmSI9A\",\"dtype\":\"float64\",\"shape\":[75]}},\"selected\":{\"id\":\"258a686b-b6d9-4e8f-9279-836a3ec8ee56\",\"type\":\"Selection\"},\"selection_policy\":{\"id\":\"61babc15-8b60-4896-b3c4-3e6222fc26f7\",\"type\":\"UnionRenderers\"}},\"id\":\"9520af77-399c-4917-bb87-e1429efe293e\",\"type\":\"ColumnDataSource\"},{\"attributes\":{\"fill_alpha\":{\"value\":0.7},\"fill_color\":{\"value\":\"#4daf4a\"},\"line_alpha\":{\"value\":0.7},\"line_color\":{\"value\":\"#4daf4a\"},\"x\":{\"field\":\"x\"},\"y\":{\"field\":\"y\"}},\"id\":\"97879c3d-eb8f-49d1-8476-c6509322db6c\",\"type\":\"Circle\"},{\"attributes\":{\"data_source\":{\"id\":\"74ffcaa4-b492-4a66-9a1b-6c1ad61d0135\",\"type\":\"ColumnDataSource\"},\"glyph\":{\"id\":\"97879c3d-eb8f-49d1-8476-c6509322db6c\",\"type\":\"Circle\"},\"hover_glyph\":null,\"muted_glyph\":null,\"nonselection_glyph\":{\"id\":\"9c2f007c-c072-44d3-88f2-48cfb29b0b51\",\"type\":\"Circle\"},\"selection_glyph\":null,\"view\":{\"id\":\"656d2f6a-799c-4086-a61c-b6413c1db7ea\",\"type\":\"CDSView\"}},\"id\":\"adf52c38-2d12-4118-a5f1-838bed5f1d9e\",\"type\":\"GlyphRenderer\"},{\"attributes\":{\"source\":{\"id\":\"d994f704-53aa-4832-9c4b-0ab4d5d327bf\",\"type\":\"ColumnDataSource\"}},\"id\":\"154ccafc-da23-4162-ba36-1ea55bc561cc\",\"type\":\"CDSView\"},{\"attributes\":{\"data_source\":{\"id\":\"d517cb18-d213-4a93-837f-9dfdb3cd965f\",\"type\":\"ColumnDataSource\"},\"glyph\":{\"id\":\"ca364332-0087-4b0e-ba02-aab820993392\",\"type\":\"Line\"},\"hover_glyph\":null,\"muted_glyph\":null,\"nonselection_glyph\":{\"id\":\"72ec1428-192e-4909-835c-3dbadedf29f5\",\"type\":\"Line\"},\"selection_glyph\":null,\"view\":{\"id\":\"efa3bb30-df45-4163-b217-2e7eed42070a\",\"type\":\"CDSView\"}},\"id\":\"a22a7142-beb5-47f7-81e7-d8f31a530d32\",\"type\":\"GlyphRenderer\"},{\"attributes\":{\"fill_alpha\":{\"value\":0.7},\"fill_color\":{\"value\":\"#4daf4a\"},\"line_alpha\":{\"value\":0.7},\"line_color\":{\"value\":\"#4daf4a\"},\"x\":{\"field\":\"x\"},\"y\":{\"field\":\"y\"}},\"id\":\"08282b7a-a657-436f-ae0e-1d24723c02b2\",\"type\":\"Circle\"},{\"attributes\":{\"fill_alpha\":{\"value\":0.7},\"fill_color\":{\"value\":\"#984ea3\"},\"line_alpha\":{\"value\":0.7},\"line_color\":{\"value\":\"#984ea3\"},\"x\":{\"field\":\"x\"},\"y\":{\"field\":\"y\"}},\"id\":\"c5fe5869-18bb-462c-a8d2-76a5d1343996\",\"type\":\"Square\"},{\"attributes\":{\"source\":{\"id\":\"d517cb18-d213-4a93-837f-9dfdb3cd965f\",\"type\":\"ColumnDataSource\"}},\"id\":\"efa3bb30-df45-4163-b217-2e7eed42070a\",\"type\":\"CDSView\"},{\"attributes\":{\"line_alpha\":0.1,\"line_color\":\"#1f77b4\",\"line_width\":1.5,\"x\":{\"field\":\"x\"},\"y\":{\"field\":\"y\"}},\"id\":\"72ec1428-192e-4909-835c-3dbadedf29f5\",\"type\":\"Line\"},{\"attributes\":{\"line_alpha\":0.6,\"line_color\":\"#984ea3\",\"line_width\":3,\"x\":{\"field\":\"x\"},\"y\":{\"field\":\"y\"}},\"id\":\"9115a016-93df-4cd6-833c-94d81ccc039a\",\"type\":\"Line\"},{\"attributes\":{\"fill_alpha\":{\"value\":0.1},\"fill_color\":{\"value\":\"#1f77b4\"},\"line_alpha\":{\"value\":0.1},\"line_color\":{\"value\":\"#1f77b4\"},\"x\":{\"field\":\"x\"},\"y\":{\"field\":\"y\"}},\"id\":\"9c2f007c-c072-44d3-88f2-48cfb29b0b51\",\"type\":\"Circle\"},{\"attributes\":{\"data_source\":{\"id\":\"9520af77-399c-4917-bb87-e1429efe293e\",\"type\":\"ColumnDataSource\"},\"glyph\":{\"id\":\"9115a016-93df-4cd6-833c-94d81ccc039a\",\"type\":\"Line\"},\"hover_glyph\":null,\"muted_glyph\":null,\"nonselection_glyph\":{\"id\":\"676d9b55-b325-4011-a9e9-0e15dd4a597c\",\"type\":\"Line\"},\"selection_glyph\":null,\"view\":{\"id\":\"20083d40-77f1-47b2-a6fa-eb8178e24bf5\",\"type\":\"CDSView\"}},\"id\":\"7956c7fc-e265-48fe-a2a3-d183ad74b2fb\",\"type\":\"GlyphRenderer\"},{\"attributes\":{\"callback\":null,\"data\":{\"x\":{\"__ndarray__\":\"lp50GE9hs79i9UcYBiyzvyPfAI6YtLK/1Kejg/g3sr8CtPyscbexv1L8zuW8NbG/2NqYKlqxsL+kleVl+Sywv0f4DBiMYK+/P2bDQRJbrr+poaXckXKtv4WvRZEJhqy/xOSRaJepq7+qfIhz+Jeqv5UtX4X+g6W/GnxfMSp2kr82hY5QRYeQP7+IWPLorq0/TkMz0+bNuz9ael1UxbPFPyNkxRW8Dc8/piwiDgKA1D9ubX5P7u/VP12SPSG/Z9M/qvGxP3ltzz+GdqlsswzHPzYr0xZ0zr8/gPN1KCkBtT+AWAnywLuqPywTcX+dt6A/NA3oVwMslT9bT1FO5OSKP0OSifbZSn0/7LGP615YPz/PT0PkjBKIvz1JJwMhCJ2/BuzDqtxspb+eo4vWHOOnvzavYbu446a/zMDn2FjBpb/eDlZhCECkvytXOzRzG6K/LhP8cSZmnr8KdCO1G0CXvzNOQ1Thz4y/aI8r/+eacL8dMjSKJPt5P03E4SCvdJE/NfI3qYFJnD/UWYshyUSkP85m7IPgfKo/B1M02bZdsD+qpfPAS5mzP4XBN3gf+rY/LYrLr+5xuj+tEm4qOcS9P3AIdnjfY8A/DCLvqHO9wT9m4YhBogHDP2rqCvC8WMQ/GVYzY7jXxT+RmyMjTkTHP9yOPiCvC8g/uFdq5l6ayD/Q+HQrOkjHPx2ZP40YScU/Fi+avmx1wz+rb8sNp8jBP4eX8QBgBsE/v0fc5yHowD8dBk4ROy7BP5yUev3m0cE/H3mtpfz7wj/2MoJ0Tj/FP936fqRnfs8/\",\"dtype\":\"float64\",\"shape\":[75]},\"y\":{\"__ndarray__\":\"GhExyth1ND/Sv8nbtpRIP2vylNV0PVE/aTum7souWD/At0SJ8fVgPw3Iuahxymc/MSNhhJWvcD/bTfBN02d3P2zb5nxnaoA/CD5h5MAGhz8NmeH1TyaQP+zrCsc9p5Y/LbKd76fGnz/bLW5ISEmmPww9YvTcQq8/JV2OstnstT8Er5Y7M8G+P0c+r3jqkcU/5h99k6ZBzj88bCIzFzjVP4enV8oyxN0//yH99nXg5D8qOpLLf0jtP5kqGJXUifQ/c9cS8kHP/D+/DpwzojQEQIEmwoanVwxA4lgXt9HgE0BSSZ2AJuIbQAMJih9jjiNA5q4l5INuK0AwTKYKRj0zQNv5fmq8/DpAaCJseHrtQkB/+zpwzoxKQM3MzMzMeFJAZmZmZmZqWEAAAAAAAFxeQM3MzMzMJmJAmpmZmZkfZUBmZmZmZhhoQDMzMzMzEWtAAAAAAAAKbkBmZmZmZoFwQM3MzMzM/XFAMzMzMzN6c0CamZmZmfZ0QAAAAAAAc3ZAZmZmZmbvd0DNzMzMzGt5QDMzMzMz6HpAmpmZmZlkfEAAAAAAAOF9QGZmZmZmXX9AZmZmZuZsgECamZmZGSuBQM3MzMxM6YFAAAAAAICngkAzMzMzs2WDQGZmZmbmI4RAmpmZmRnihEDNzMzMTKCFQAAAAACAXoZAMzMzM7Mch0BmZmZm5tqHQJqZmZkZmYhAzczMzExXiUAAAAAAgBWKQDMzMzOz04pAZmZmZuaRi0CamZmZGVCMQM3MzMxMDo1AAAAAAIDMjUAzMzMzs4qOQGZmZmbmSI9A\",\"dtype\":\"float64\",\"shape\":[75]}},\"selected\":{\"id\":\"ae51b1ec-9f18-4321-8bc7-4e30cbdf4999\",\"type\":\"Selection\"},\"selection_policy\":{\"id\":\"cc024682-4660-4770-b272-287642414a4f\",\"type\":\"UnionRenderers\"}},\"id\":\"d755573b-284c-4aec-bae8-54c388f19f82\",\"type\":\"ColumnDataSource\"},{\"attributes\":{\"items\":[{\"id\":\"9db29dc7-1eb5-43ed-8407-0e788deeff41\",\"type\":\"LegendItem\"},{\"id\":\"4b196ef2-eefa-4207-8e7f-00cd8d57dea6\",\"type\":\"LegendItem\"},{\"id\":\"96dd2d9c-7b96-4044-ab7b-7ba0fda56531\",\"type\":\"LegendItem\"}],\"label_text_font_size\":{\"value\":\"8pt\"},\"location\":[10,-30],\"plot\":{\"id\":\"50db1766-7a8f-4a72-8349-477840bbe1cd\",\"subtype\":\"Figure\",\"type\":\"Plot\"}},\"id\":\"2a2ec52e-4032-4826-8e6a-d9773836cf23\",\"type\":\"Legend\"},{\"attributes\":{\"callback\":null,\"data\":{\"x\":{\"__ndarray__\":\"/X7WoT/Zvr8nyQjiG46+v4PCwVqM7L2/Ex1VjyxHvb8SGRTVdKC8v/lhjGGx+ru/D0PtrwVau7/+ORYlMr26v0rftZWoKLq/DTEkSCGgub/ItAOcSCq5v8v15tIgzri/Edyc2LCXuL/iyTl0JF64vz5ynsMSlbW/mG4mZ6dtrL8q4M4gZniNv7+Dkg5+/qE/EfveiOkguD90Jm2q7hHFP6ewUkFF1c8/Z7wpvDah1T8iPzRWD9bWP4ghxUKlONM/yp5OwwE+zT8jmDC7o9bDP8W7rwyinLk/cJmyV0iOsD+nPa7YIhOmP+/mmuOL354/9QmoiaFJlj+Jilxj3HyPP698UVyAv4M/gZuOBkz1bz9x1m8Ec/15vyf/Ogc0sJS/P0UahNUyoL+BPV78+EGiv+Ml18vxNaG/pMrNw0tooL8vAf9hOayev8vVWlsiXpu/hjGgGe+Hlr95Z4yNex6Qv4ocJgLjRYC//uTJYM6tVT/kc91KZUCIP7nR60K4cZc/ENLPq2zloD+w4Y7cP7umPxBbf+2O/Kw/DtT0nJ6+sT/NJP7phQm1PzHpHd7bQ7g/QtjfyPJkuz9y+ElallS+PyRPq0s6iMA/689VJVfSwT8TLdT1nxDDP3YjJLmZXcQ/zW2IEqnAxT+mLODxL/rGPzdOjivDcsc/Uiy3tBqSxz8Qp5vdvdDFPypWqpchhsM/bZEP1e+dwT/nxB7axwrAP8b/Nu5Bxr4/yBqBunmRvj8rriKKZvG+P8NnZ6i8478/i2S4z2TewD+HFfIx7dXCP7GN02sOa80/\",\"dtype\":\"float64\",\"shape\":[75]},\"y\":{\"__ndarray__\":\"GhExyth1ND/Sv8nbtpRIP2vylNV0PVE/aTum7souWD/At0SJ8fVgPw3Iuahxymc/MSNhhJWvcD/bTfBN02d3P2zb5nxnaoA/CD5h5MAGhz8NmeH1TyaQP+zrCsc9p5Y/LbKd76fGnz/bLW5ISEmmPww9YvTcQq8/JV2OstnstT8Er5Y7M8G+P0c+r3jqkcU/5h99k6ZBzj88bCIzFzjVP4enV8oyxN0//yH99nXg5D8qOpLLf0jtP5kqGJXUifQ/c9cS8kHP/D+/DpwzojQEQIEmwoanVwxA4lgXt9HgE0BSSZ2AJuIbQAMJih9jjiNA5q4l5INuK0AwTKYKRj0zQNv5fmq8/DpAaCJseHrtQkB/+zpwzoxKQM3MzMzMeFJAZmZmZmZqWEAAAAAAAFxeQM3MzMzMJmJAmpmZmZkfZUBmZmZmZhhoQDMzMzMzEWtAAAAAAAAKbkBmZmZmZoFwQM3MzMzM/XFAMzMzMzN6c0CamZmZmfZ0QAAAAAAAc3ZAZmZmZmbvd0DNzMzMzGt5QDMzMzMz6HpAmpmZmZlkfEAAAAAAAOF9QGZmZmZmXX9AZmZmZuZsgECamZmZGSuBQM3MzMxM6YFAAAAAAICngkAzMzMzs2WDQGZmZmbmI4RAmpmZmRnihEDNzMzMTKCFQAAAAACAXoZAMzMzM7Mch0BmZmZm5tqHQJqZmZkZmYhAzczMzExXiUAAAAAAgBWKQDMzMzOz04pAZmZmZuaRi0CamZmZGVCMQM3MzMxMDo1AAAAAAIDMjUAzMzMzs4qOQGZmZmbmSI9A\",\"dtype\":\"float64\",\"shape\":[75]}},\"selected\":{\"id\":\"7795b70c-032f-43fc-9ffb-a97eb9e7c76f\",\"type\":\"Selection\"},\"selection_policy\":{\"id\":\"28c5ad92-898a-49ee-a280-f8f3942cf70a\",\"type\":\"UnionRenderers\"}},\"id\":\"d517cb18-d213-4a93-837f-9dfdb3cd965f\",\"type\":\"ColumnDataSource\"},{\"attributes\":{\"line_alpha\":0.1,\"line_color\":\"#1f77b4\",\"line_width\":3,\"x\":{\"field\":\"x\"},\"y\":{\"field\":\"y\"}},\"id\":\"97f1dc88-e7cd-4166-8877-d8c3790015cc\",\"type\":\"Line\"},{\"attributes\":{\"data_source\":{\"id\":\"961c2260-d861-474b-b1a7-6cf93cb81bfc\",\"type\":\"ColumnDataSource\"},\"glyph\":{\"id\":\"21770607-43f9-490a-b76d-5173734e60d3\",\"type\":\"Line\"},\"hover_glyph\":null,\"muted_glyph\":null,\"nonselection_glyph\":{\"id\":\"97f1dc88-e7cd-4166-8877-d8c3790015cc\",\"type\":\"Line\"},\"selection_glyph\":null,\"view\":{\"id\":\"840096b7-1ee4-47c7-af16-c1e4619cd2f0\",\"type\":\"CDSView\"}},\"id\":\"25e37f61-9943-494a-8057-e64cd1d3dd15\",\"type\":\"GlyphRenderer\"},{\"attributes\":{\"source\":{\"id\":\"9520af77-399c-4917-bb87-e1429efe293e\",\"type\":\"ColumnDataSource\"}},\"id\":\"20083d40-77f1-47b2-a6fa-eb8178e24bf5\",\"type\":\"CDSView\"},{\"attributes\":{\"data_source\":{\"id\":\"b8fc1af0-1a3d-4568-81b7-799d7c918063\",\"type\":\"ColumnDataSource\"},\"glyph\":{\"id\":\"c5fe5869-18bb-462c-a8d2-76a5d1343996\",\"type\":\"Square\"},\"hover_glyph\":null,\"muted_glyph\":null,\"nonselection_glyph\":{\"id\":\"d841c49f-0d9b-4e28-b07b-b3fb7f9cef63\",\"type\":\"Square\"},\"selection_glyph\":null,\"view\":{\"id\":\"a2b794e8-881a-4b70-8e80-9cb726f86ef9\",\"type\":\"CDSView\"}},\"id\":\"58a2610d-7ecc-4972-8f53-a1efd31b59d5\",\"type\":\"GlyphRenderer\"},{\"attributes\":{\"source\":{\"id\":\"74ffcaa4-b492-4a66-9a1b-6c1ad61d0135\",\"type\":\"ColumnDataSource\"}},\"id\":\"656d2f6a-799c-4086-a61c-b6413c1db7ea\",\"type\":\"CDSView\"},{\"attributes\":{\"children\":[{\"id\":\"df69a523-99db-4af9-8011-8dc14bba2fba\",\"type\":\"Row\"}]},\"id\":\"c8070e97-0b8d-461b-b271-6389f3bac046\",\"type\":\"Column\"},{\"attributes\":{\"line_color\":\"#4daf4a\",\"line_width\":1.5,\"x\":{\"field\":\"x\"},\"y\":{\"field\":\"y\"}},\"id\":\"ca364332-0087-4b0e-ba02-aab820993392\",\"type\":\"Line\"},{\"attributes\":{\"source\":{\"id\":\"961c2260-d861-474b-b1a7-6cf93cb81bfc\",\"type\":\"ColumnDataSource\"}},\"id\":\"840096b7-1ee4-47c7-af16-c1e4619cd2f0\",\"type\":\"CDSView\"},{\"attributes\":{\"children\":[{\"id\":\"8747fb99-c709-4f4b-90f5-28760f832afc\",\"subtype\":\"Figure\",\"type\":\"Plot\"},{\"id\":\"50db1766-7a8f-4a72-8349-477840bbe1cd\",\"subtype\":\"Figure\",\"type\":\"Plot\"}]},\"id\":\"df69a523-99db-4af9-8011-8dc14bba2fba\",\"type\":\"Row\"},{\"attributes\":{\"callback\":null,\"data\":{\"x\":{\"__ndarray__\":\"lp50GE9hs79i9UcYBiyzvyPfAI6YtLK/1Kejg/g3sr8CtPyscbexv1L8zuW8NbG/2NqYKlqxsL+kleVl+Sywv0f4DBiMYK+/P2bDQRJbrr+poaXckXKtv4WvRZEJhqy/xOSRaJepq7+qfIhz+Jeqv5UtX4X+g6W/GnxfMSp2kr82hY5QRYeQP7+IWPLorq0/TkMz0+bNuz9ael1UxbPFPyNkxRW8Dc8/piwiDgKA1D9ubX5P7u/VP12SPSG/Z9M/qvGxP3ltzz+GdqlsswzHPzYr0xZ0zr8/gPN1KCkBtT+AWAnywLuqPywTcX+dt6A/NA3oVwMslT9bT1FO5OSKP0OSifbZSn0/7LGP615YPz/PT0PkjBKIvz1JJwMhCJ2/BuzDqtxspb+eo4vWHOOnvzavYbu446a/zMDn2FjBpb/eDlZhCECkvytXOzRzG6K/LhP8cSZmnr8KdCO1G0CXvzNOQ1Thz4y/aI8r/+eacL8dMjSKJPt5P03E4SCvdJE/NfI3qYFJnD/UWYshyUSkP85m7IPgfKo/B1M02bZdsD+qpfPAS5mzP4XBN3gf+rY/LYrLr+5xuj+tEm4qOcS9P3AIdnjfY8A/DCLvqHO9wT9m4YhBogHDP2rqCvC8WMQ/GVYzY7jXxT+RmyMjTkTHP9yOPiCvC8g/uFdq5l6ayD/Q+HQrOkjHPx2ZP40YScU/Fi+avmx1wz+rb8sNp8jBP4eX8QBgBsE/v0fc5yHowD8dBk4ROy7BP5yUev3m0cE/H3mtpfz7wj/2MoJ0Tj/FP936fqRnfs8/\",\"dtype\":\"float64\",\"shape\":[75]},\"y\":{\"__ndarray__\":\"GhExyth1ND/Sv8nbtpRIP2vylNV0PVE/aTum7souWD/At0SJ8fVgPw3Iuahxymc/MSNhhJWvcD/bTfBN02d3P2zb5nxnaoA/CD5h5MAGhz8NmeH1TyaQP+zrCsc9p5Y/LbKd76fGnz/bLW5ISEmmPww9YvTcQq8/JV2OstnstT8Er5Y7M8G+P0c+r3jqkcU/5h99k6ZBzj88bCIzFzjVP4enV8oyxN0//yH99nXg5D8qOpLLf0jtP5kqGJXUifQ/c9cS8kHP/D+/DpwzojQEQIEmwoanVwxA4lgXt9HgE0BSSZ2AJuIbQAMJih9jjiNA5q4l5INuK0AwTKYKRj0zQNv5fmq8/DpAaCJseHrtQkB/+zpwzoxKQM3MzMzMeFJAZmZmZmZqWEAAAAAAAFxeQM3MzMzMJmJAmpmZmZkfZUBmZmZmZhhoQDMzMzMzEWtAAAAAAAAKbkBmZmZmZoFwQM3MzMzM/XFAMzMzMzN6c0CamZmZmfZ0QAAAAAAAc3ZAZmZmZmbvd0DNzMzMzGt5QDMzMzMz6HpAmpmZmZlkfEAAAAAAAOF9QGZmZmZmXX9AZmZmZuZsgECamZmZGSuBQM3MzMxM6YFAAAAAAICngkAzMzMzs2WDQGZmZmbmI4RAmpmZmRnihEDNzMzMTKCFQAAAAACAXoZAMzMzM7Mch0BmZmZm5tqHQJqZmZkZmYhAzczMzExXiUAAAAAAgBWKQDMzMzOz04pAZmZmZuaRi0CamZmZGVCMQM3MzMxMDo1AAAAAAIDMjUAzMzMzs4qOQGZmZmbmSI9A\",\"dtype\":\"float64\",\"shape\":[75]}},\"selected\":{\"id\":\"2804c4b4-2d0f-417e-86ab-ce59ac512d0c\",\"type\":\"Selection\"},\"selection_policy\":{\"id\":\"39403ebb-26e7-4bf6-b3ee-1a223bde78a6\",\"type\":\"UnionRenderers\"}},\"id\":\"b8fc1af0-1a3d-4568-81b7-799d7c918063\",\"type\":\"ColumnDataSource\"},{\"attributes\":{\"active_drag\":\"auto\",\"active_inspect\":\"auto\",\"active_scroll\":\"auto\",\"active_tap\":\"auto\",\"tools\":[{\"id\":\"6833f4c2-0953-436b-94cf-ed0c407fbf9f\",\"type\":\"PanTool\"},{\"id\":\"3fc5527f-0064-4543-8cca-7961a4407b59\",\"type\":\"WheelZoomTool\"},{\"id\":\"d3d92f9d-8e56-4707-a397-3385c3aba558\",\"type\":\"BoxZoomTool\"},{\"id\":\"15b971e1-feff-45d6-a245-a9a26cff9ff2\",\"type\":\"SaveTool\"},{\"id\":\"f57f1281-3029-4e87-8c52-9223a5482a9f\",\"type\":\"ResetTool\"},{\"id\":\"a5b9ff6b-7373-4035-97b2-a01803dd1fcb\",\"type\":\"HelpTool\"}]},\"id\":\"9b824694-857b-498b-bd1e-7124eadeb657\",\"type\":\"Toolbar\"},{\"attributes\":{\"label\":{\"value\":\"CLIRAD `coolr_bands`\"},\"renderers\":[{\"id\":\"1977e6b3-87c7-46df-8cd8-c31b42f20d4a\",\"type\":\"GlyphRenderer\"}]},\"id\":\"9db29dc7-1eb5-43ed-8407-0e788deeff41\",\"type\":\"LegendItem\"},{\"attributes\":{},\"id\":\"a0f4f41a-c0b6-404d-8778-68c6128c5ddf\",\"type\":\"BasicTickFormatter\"},{\"attributes\":{\"label\":{\"value\":\"CRD\"},\"renderers\":[{\"id\":\"adf52c38-2d12-4118-a5f1-838bed5f1d9e\",\"type\":\"GlyphRenderer\"},{\"id\":\"a22a7142-beb5-47f7-81e7-d8f31a530d32\",\"type\":\"GlyphRenderer\"}]},\"id\":\"4b196ef2-eefa-4207-8e7f-00cd8d57dea6\",\"type\":\"LegendItem\"},{\"attributes\":{\"line_color\":\"#4daf4a\",\"line_width\":1.5,\"x\":{\"field\":\"x\"},\"y\":{\"field\":\"y\"}},\"id\":\"e467bc51-0415-4a1d-8d00-0be6c9ffe6dd\",\"type\":\"Line\"},{\"attributes\":{},\"id\":\"8243a991-571e-44a9-aafb-df979e75b858\",\"type\":\"UnionRenderers\"},{\"attributes\":{\"label\":{\"value\":\"WGT igg=10 wgt_flux=2\"},\"renderers\":[{\"id\":\"ee1ea40c-a3cb-478b-a053-fdfcad18343c\",\"type\":\"GlyphRenderer\"},{\"id\":\"25e37f61-9943-494a-8057-e64cd1d3dd15\",\"type\":\"GlyphRenderer\"}]},\"id\":\"96dd2d9c-7b96-4044-ab7b-7ba0fda56531\",\"type\":\"LegendItem\"},{\"attributes\":{},\"id\":\"1a1ee81e-84a9-4618-81e3-e8041ba5e931\",\"type\":\"Selection\"},{\"attributes\":{\"plot\":null,\"text\":\"Log pressure scale\"},\"id\":\"beef4824-5c6e-44f1-98d9-2ecb51dc1316\",\"type\":\"Title\"},{\"attributes\":{},\"id\":\"4e360157-7223-4ffe-95cf-dccb0b8cebf3\",\"type\":\"BasicTickFormatter\"},{\"attributes\":{\"line_alpha\":0.1,\"line_color\":\"#1f77b4\",\"line_width\":1.5,\"x\":{\"field\":\"x\"},\"y\":{\"field\":\"y\"}},\"id\":\"546c16c0-96ae-4bec-a548-39294f4701a4\",\"type\":\"Line\"},{\"attributes\":{},\"id\":\"b470bb59-6bf8-4516-81d2-a184896f21df\",\"type\":\"Selection\"},{\"attributes\":{\"callback\":null,\"data\":{\"x\":{\"__ndarray__\":\"/X7WoT/Zvr8nyQjiG46+v4PCwVqM7L2/Ex1VjyxHvb8SGRTVdKC8v/lhjGGx+ru/D0PtrwVau7/+ORYlMr26v0rftZWoKLq/DTEkSCGgub/ItAOcSCq5v8v15tIgzri/Edyc2LCXuL/iyTl0JF64vz5ynsMSlbW/mG4mZ6dtrL8q4M4gZniNv7+Dkg5+/qE/EfveiOkguD90Jm2q7hHFP6ewUkFF1c8/Z7wpvDah1T8iPzRWD9bWP4ghxUKlONM/yp5OwwE+zT8jmDC7o9bDP8W7rwyinLk/cJmyV0iOsD+nPa7YIhOmP+/mmuOL354/9QmoiaFJlj+Jilxj3HyPP698UVyAv4M/gZuOBkz1bz9x1m8Ec/15vyf/Ogc0sJS/P0UahNUyoL+BPV78+EGiv+Ml18vxNaG/pMrNw0tooL8vAf9hOayev8vVWlsiXpu/hjGgGe+Hlr95Z4yNex6Qv4ocJgLjRYC//uTJYM6tVT/kc91KZUCIP7nR60K4cZc/ENLPq2zloD+w4Y7cP7umPxBbf+2O/Kw/DtT0nJ6+sT/NJP7phQm1PzHpHd7bQ7g/QtjfyPJkuz9y+ElallS+PyRPq0s6iMA/689VJVfSwT8TLdT1nxDDP3YjJLmZXcQ/zW2IEqnAxT+mLODxL/rGPzdOjivDcsc/Uiy3tBqSxz8Qp5vdvdDFPypWqpchhsM/bZEP1e+dwT/nxB7axwrAP8b/Nu5Bxr4/yBqBunmRvj8rriKKZvG+P8NnZ6i8478/i2S4z2TewD+HFfIx7dXCP7GN02sOa80/\",\"dtype\":\"float64\",\"shape\":[75]},\"y\":{\"__ndarray__\":\"GhExyth1ND/Sv8nbtpRIP2vylNV0PVE/aTum7souWD/At0SJ8fVgPw3Iuahxymc/MSNhhJWvcD/bTfBN02d3P2zb5nxnaoA/CD5h5MAGhz8NmeH1TyaQP+zrCsc9p5Y/LbKd76fGnz/bLW5ISEmmPww9YvTcQq8/JV2OstnstT8Er5Y7M8G+P0c+r3jqkcU/5h99k6ZBzj88bCIzFzjVP4enV8oyxN0//yH99nXg5D8qOpLLf0jtP5kqGJXUifQ/c9cS8kHP/D+/DpwzojQEQIEmwoanVwxA4lgXt9HgE0BSSZ2AJuIbQAMJih9jjiNA5q4l5INuK0AwTKYKRj0zQNv5fmq8/DpAaCJseHrtQkB/+zpwzoxKQM3MzMzMeFJAZmZmZmZqWEAAAAAAAFxeQM3MzMzMJmJAmpmZmZkfZUBmZmZmZhhoQDMzMzMzEWtAAAAAAAAKbkBmZmZmZoFwQM3MzMzM/XFAMzMzMzN6c0CamZmZmfZ0QAAAAAAAc3ZAZmZmZmbvd0DNzMzMzGt5QDMzMzMz6HpAmpmZmZlkfEAAAAAAAOF9QGZmZmZmXX9AZmZmZuZsgECamZmZGSuBQM3MzMxM6YFAAAAAAICngkAzMzMzs2WDQGZmZmbmI4RAmpmZmRnihEDNzMzMTKCFQAAAAACAXoZAMzMzM7Mch0BmZmZm5tqHQJqZmZkZmYhAzczMzExXiUAAAAAAgBWKQDMzMzOz04pAZmZmZuaRi0CamZmZGVCMQM3MzMxMDo1AAAAAAIDMjUAzMzMzs4qOQGZmZmbmSI9A\",\"dtype\":\"float64\",\"shape\":[75]}},\"selected\":{\"id\":\"3397c63d-7259-4d55-8c18-5acd0539a1f5\",\"type\":\"Selection\"},\"selection_policy\":{\"id\":\"9c49c844-4205-4b90-bbdc-12e982b66de5\",\"type\":\"UnionRenderers\"}},\"id\":\"74ffcaa4-b492-4a66-9a1b-6c1ad61d0135\",\"type\":\"ColumnDataSource\"},{\"attributes\":{},\"id\":\"9fe65a10-64ee-4c60-a0fb-ae1325371d77\",\"type\":\"UnionRenderers\"},{\"attributes\":{},\"id\":\"258a686b-b6d9-4e8f-9279-836a3ec8ee56\",\"type\":\"Selection\"},{\"attributes\":{},\"id\":\"2804c4b4-2d0f-417e-86ab-ce59ac512d0c\",\"type\":\"Selection\"},{\"attributes\":{},\"id\":\"d3b2dec1-bbdc-405b-810d-0c69efd2a19b\",\"type\":\"Selection\"},{\"attributes\":{},\"id\":\"ae51b1ec-9f18-4321-8bc7-4e30cbdf4999\",\"type\":\"Selection\"},{\"attributes\":{\"source\":{\"id\":\"b8fc1af0-1a3d-4568-81b7-799d7c918063\",\"type\":\"ColumnDataSource\"}},\"id\":\"a2b794e8-881a-4b70-8e80-9cb726f86ef9\",\"type\":\"CDSView\"},{\"attributes\":{},\"id\":\"ce067b76-0c0e-42e1-a781-37a5aa6e5461\",\"type\":\"UnionRenderers\"},{\"attributes\":{},\"id\":\"e5704de7-397d-43ee-af76-7473345c8bbe\",\"type\":\"Selection\"},{\"attributes\":{},\"id\":\"39403ebb-26e7-4bf6-b3ee-1a223bde78a6\",\"type\":\"UnionRenderers\"},{\"attributes\":{},\"id\":\"49874643-31c3-407e-ac60-0664e7b35b2f\",\"type\":\"UnionRenderers\"},{\"attributes\":{\"data_source\":{\"id\":\"19e3a160-997b-4acf-b917-5a9f2b34599d\",\"type\":\"ColumnDataSource\"},\"glyph\":{\"id\":\"4c7e790d-7fde-4cd5-9d75-3d52f83feec2\",\"type\":\"Line\"},\"hover_glyph\":null,\"muted_glyph\":null,\"nonselection_glyph\":{\"id\":\"b8516afb-f1d5-4ffe-b554-4119627d5f95\",\"type\":\"Line\"},\"selection_glyph\":null,\"view\":{\"id\":\"9c602465-0494-4bbf-adbd-5a88cedcbb34\",\"type\":\"CDSView\"}},\"id\":\"1977e6b3-87c7-46df-8cd8-c31b42f20d4a\",\"type\":\"GlyphRenderer\"},{\"attributes\":{},\"id\":\"61babc15-8b60-4896-b3c4-3e6222fc26f7\",\"type\":\"UnionRenderers\"},{\"attributes\":{},\"id\":\"3397c63d-7259-4d55-8c18-5acd0539a1f5\",\"type\":\"Selection\"},{\"attributes\":{\"ticker\":null},\"id\":\"2d0d1495-5073-4f51-b178-9f980dc84e06\",\"type\":\"LogTickFormatter\"},{\"attributes\":{},\"id\":\"9c49c844-4205-4b90-bbdc-12e982b66de5\",\"type\":\"UnionRenderers\"},{\"attributes\":{\"toolbar\":{\"id\":\"1efd271b-efc8-4fba-bfd0-b593bdc67ff2\",\"type\":\"ProxyToolbar\"},\"toolbar_location\":\"above\"},\"id\":\"4e0e091b-9547-4cbd-b714-ea30ab45bb73\",\"type\":\"ToolbarBox\"},{\"attributes\":{},\"id\":\"db2177ff-3166-41cf-82fe-a42c15515b29\",\"type\":\"LogScale\"},{\"attributes\":{},\"id\":\"7795b70c-032f-43fc-9ffb-a97eb9e7c76f\",\"type\":\"Selection\"},{\"attributes\":{},\"id\":\"de4016fb-d33f-4187-8c7f-64f659ab06ef\",\"type\":\"Selection\"},{\"attributes\":{},\"id\":\"28c5ad92-898a-49ee-a280-f8f3942cf70a\",\"type\":\"UnionRenderers\"},{\"attributes\":{\"data_source\":{\"id\":\"d994f704-53aa-4832-9c4b-0ab4d5d327bf\",\"type\":\"ColumnDataSource\"},\"glyph\":{\"id\":\"08282b7a-a657-436f-ae0e-1d24723c02b2\",\"type\":\"Circle\"},\"hover_glyph\":null,\"muted_glyph\":null,\"nonselection_glyph\":{\"id\":\"978c4aa5-82a9-4c2f-9291-0c587e508ad1\",\"type\":\"Circle\"},\"selection_glyph\":null,\"view\":{\"id\":\"154ccafc-da23-4162-ba36-1ea55bc561cc\",\"type\":\"CDSView\"}},\"id\":\"baef33d3-c91c-4fc0-b4c8-8c2b281e9919\",\"type\":\"GlyphRenderer\"},{\"attributes\":{\"line_alpha\":0.6,\"line_color\":\"#e41a1c\",\"line_dash\":[6],\"line_width\":5,\"x\":{\"field\":\"x\"},\"y\":{\"field\":\"y\"}},\"id\":\"39e3ee4d-4e77-484d-94c9-31916c7f528c\",\"type\":\"Line\"},{\"attributes\":{},\"id\":\"cc024682-4660-4770-b272-287642414a4f\",\"type\":\"UnionRenderers\"},{\"attributes\":{\"children\":[{\"id\":\"4e0e091b-9547-4cbd-b714-ea30ab45bb73\",\"type\":\"ToolbarBox\"},{\"id\":\"c8070e97-0b8d-461b-b271-6389f3bac046\",\"type\":\"Column\"}]},\"id\":\"ed712b75-412d-48cc-964a-b7718ee8992f\",\"type\":\"Column\"},{\"attributes\":{},\"id\":\"bafc8b10-6c81-48d2-bc3e-0bc1f0aa0601\",\"type\":\"UnionRenderers\"},{\"attributes\":{\"tools\":[{\"id\":\"446bbf39-70b8-4f69-bf33-77d08529998a\",\"type\":\"PanTool\"},{\"id\":\"3d851b90-ba4e-4e91-bfe8-4fedabf1480d\",\"type\":\"WheelZoomTool\"},{\"id\":\"11d345db-d1a3-4ad6-ac9a-435627eeeb36\",\"type\":\"BoxZoomTool\"},{\"id\":\"f29cc7ba-c5d0-42f7-a2e7-9d3802f2e779\",\"type\":\"SaveTool\"},{\"id\":\"dae52cbf-7d5e-48ef-a272-2996ab2c4e90\",\"type\":\"ResetTool\"},{\"id\":\"2a058aa7-85e8-4226-97ae-bca932013636\",\"type\":\"HelpTool\"},{\"id\":\"6833f4c2-0953-436b-94cf-ed0c407fbf9f\",\"type\":\"PanTool\"},{\"id\":\"3fc5527f-0064-4543-8cca-7961a4407b59\",\"type\":\"WheelZoomTool\"},{\"id\":\"d3d92f9d-8e56-4707-a397-3385c3aba558\",\"type\":\"BoxZoomTool\"},{\"id\":\"15b971e1-feff-45d6-a245-a9a26cff9ff2\",\"type\":\"SaveTool\"},{\"id\":\"f57f1281-3029-4e87-8c52-9223a5482a9f\",\"type\":\"ResetTool\"},{\"id\":\"a5b9ff6b-7373-4035-97b2-a01803dd1fcb\",\"type\":\"HelpTool\"}]},\"id\":\"1efd271b-efc8-4fba-bfd0-b593bdc67ff2\",\"type\":\"ProxyToolbar\"},{\"attributes\":{\"callback\":null,\"data\":{\"x\":{\"__ndarray__\":\"/X7WoT/Zvr8nyQjiG46+v4PCwVqM7L2/Ex1VjyxHvb8SGRTVdKC8v/lhjGGx+ru/D0PtrwVau7/+ORYlMr26v0rftZWoKLq/DTEkSCGgub/ItAOcSCq5v8v15tIgzri/Edyc2LCXuL/iyTl0JF64vz5ynsMSlbW/mG4mZ6dtrL8q4M4gZniNv7+Dkg5+/qE/EfveiOkguD90Jm2q7hHFP6ewUkFF1c8/Z7wpvDah1T8iPzRWD9bWP4ghxUKlONM/yp5OwwE+zT8jmDC7o9bDP8W7rwyinLk/cJmyV0iOsD+nPa7YIhOmP+/mmuOL354/9QmoiaFJlj+Jilxj3HyPP698UVyAv4M/gZuOBkz1bz9x1m8Ec/15vyf/Ogc0sJS/P0UahNUyoL+BPV78+EGiv+Ml18vxNaG/pMrNw0tooL8vAf9hOayev8vVWlsiXpu/hjGgGe+Hlr95Z4yNex6Qv4ocJgLjRYC//uTJYM6tVT/kc91KZUCIP7nR60K4cZc/ENLPq2zloD+w4Y7cP7umPxBbf+2O/Kw/DtT0nJ6+sT/NJP7phQm1PzHpHd7bQ7g/QtjfyPJkuz9y+ElallS+PyRPq0s6iMA/689VJVfSwT8TLdT1nxDDP3YjJLmZXcQ/zW2IEqnAxT+mLODxL/rGPzdOjivDcsc/Uiy3tBqSxz8Qp5vdvdDFPypWqpchhsM/bZEP1e+dwT/nxB7axwrAP8b/Nu5Bxr4/yBqBunmRvj8rriKKZvG+P8NnZ6i8478/i2S4z2TewD+HFfIx7dXCP7GN02sOa80/\",\"dtype\":\"float64\",\"shape\":[75]},\"y\":{\"__ndarray__\":\"GhExyth1ND/Sv8nbtpRIP2vylNV0PVE/aTum7souWD/At0SJ8fVgPw3Iuahxymc/MSNhhJWvcD/bTfBN02d3P2zb5nxnaoA/CD5h5MAGhz8NmeH1TyaQP+zrCsc9p5Y/LbKd76fGnz/bLW5ISEmmPww9YvTcQq8/JV2OstnstT8Er5Y7M8G+P0c+r3jqkcU/5h99k6ZBzj88bCIzFzjVP4enV8oyxN0//yH99nXg5D8qOpLLf0jtP5kqGJXUifQ/c9cS8kHP/D+/DpwzojQEQIEmwoanVwxA4lgXt9HgE0BSSZ2AJuIbQAMJih9jjiNA5q4l5INuK0AwTKYKRj0zQNv5fmq8/DpAaCJseHrtQkB/+zpwzoxKQM3MzMzMeFJAZmZmZmZqWEAAAAAAAFxeQM3MzMzMJmJAmpmZmZkfZUBmZmZmZhhoQDMzMzMzEWtAAAAAAAAKbkBmZmZmZoFwQM3MzMzM/XFAMzMzMzN6c0CamZmZmfZ0QAAAAAAAc3ZAZmZmZmbvd0DNzMzMzGt5QDMzMzMz6HpAmpmZmZlkfEAAAAAAAOF9QGZmZmZmXX9AZmZmZuZsgECamZmZGSuBQM3MzMxM6YFAAAAAAICngkAzMzMzs2WDQGZmZmbmI4RAmpmZmRnihEDNzMzMTKCFQAAAAACAXoZAMzMzM7Mch0BmZmZm5tqHQJqZmZkZmYhAzczMzExXiUAAAAAAgBWKQDMzMzOz04pAZmZmZuaRi0CamZmZGVCMQM3MzMxMDo1AAAAAAIDMjUAzMzMzs4qOQGZmZmbmSI9A\",\"dtype\":\"float64\",\"shape\":[75]}},\"selected\":{\"id\":\"d3b2dec1-bbdc-405b-810d-0c69efd2a19b\",\"type\":\"Selection\"},\"selection_policy\":{\"id\":\"ce067b76-0c0e-42e1-a781-37a5aa6e5461\",\"type\":\"UnionRenderers\"}},\"id\":\"85689013-6fe6-4b06-9d4f-2af937bc1739\",\"type\":\"ColumnDataSource\"},{\"attributes\":{\"data_source\":{\"id\":\"85689013-6fe6-4b06-9d4f-2af937bc1739\",\"type\":\"ColumnDataSource\"},\"glyph\":{\"id\":\"e467bc51-0415-4a1d-8d00-0be6c9ffe6dd\",\"type\":\"Line\"},\"hover_glyph\":null,\"muted_glyph\":null,\"nonselection_glyph\":{\"id\":\"546c16c0-96ae-4bec-a548-39294f4701a4\",\"type\":\"Line\"},\"selection_glyph\":null,\"view\":{\"id\":\"215347b7-65da-4d21-a4dc-b0145c328456\",\"type\":\"CDSView\"}},\"id\":\"20b3d3a5-bec5-48b7-841d-be0e93edf554\",\"type\":\"GlyphRenderer\"},{\"attributes\":{\"fill_alpha\":{\"value\":0.1},\"fill_color\":{\"value\":\"#1f77b4\"},\"line_alpha\":{\"value\":0.1},\"line_color\":{\"value\":\"#1f77b4\"},\"x\":{\"field\":\"x\"},\"y\":{\"field\":\"y\"}},\"id\":\"978c4aa5-82a9-4c2f-9291-0c587e508ad1\",\"type\":\"Circle\"},{\"attributes\":{\"line_alpha\":0.1,\"line_color\":\"#1f77b4\",\"line_width\":3,\"x\":{\"field\":\"x\"},\"y\":{\"field\":\"y\"}},\"id\":\"676d9b55-b325-4011-a9e9-0e15dd4a597c\",\"type\":\"Line\"},{\"attributes\":{\"source\":{\"id\":\"85689013-6fe6-4b06-9d4f-2af937bc1739\",\"type\":\"ColumnDataSource\"}},\"id\":\"215347b7-65da-4d21-a4dc-b0145c328456\",\"type\":\"CDSView\"},{\"attributes\":{},\"id\":\"e170c9ea-6f52-4e56-ae88-5b59c524fa91\",\"type\":\"LinearScale\"},{\"attributes\":{\"source\":{\"id\":\"19e3a160-997b-4acf-b917-5a9f2b34599d\",\"type\":\"ColumnDataSource\"}},\"id\":\"9c602465-0494-4bbf-adbd-5a88cedcbb34\",\"type\":\"CDSView\"},{\"attributes\":{\"fill_alpha\":{\"value\":0.1},\"fill_color\":{\"value\":\"#1f77b4\"},\"line_alpha\":{\"value\":0.1},\"line_color\":{\"value\":\"#1f77b4\"},\"x\":{\"field\":\"x\"},\"y\":{\"field\":\"y\"}},\"id\":\"d841c49f-0d9b-4e28-b07b-b3fb7f9cef63\",\"type\":\"Square\"},{\"attributes\":{\"callback\":null,\"end\":0.3613843282,\"start\":-0.1046687882},\"id\":\"3be17c42-abf1-469e-ba55-9ebd2a8b44ca\",\"type\":\"Range1d\"},{\"attributes\":{\"axis_label\":\"pressure [mb]\",\"formatter\":{\"id\":\"2d0d1495-5073-4f51-b178-9f980dc84e06\",\"type\":\"LogTickFormatter\"},\"plot\":{\"id\":\"50db1766-7a8f-4a72-8349-477840bbe1cd\",\"subtype\":\"Figure\",\"type\":\"Plot\"},\"ticker\":{\"id\":\"636995eb-71d3-4520-ba97-58ce2df004ca\",\"type\":\"LogTicker\"}},\"id\":\"629f0ea1-4d58-42b4-ba74-8481700a5b96\",\"type\":\"LogAxis\"},{\"attributes\":{\"callback\":null,\"data\":{\"x\":{\"__ndarray__\":\"U/jRSAIPrr8O53zZv7Ctv1KOQ6kv3qy/Jo81kB8LrL+ygAQjATOrv5FiGGGeVqq/K43AobV3qb+x0qyFvJKov2xCKiq6rKe/TzfwbXHCpr9KA0cbqtalv/5XQf9J66S/9FOE6tL+o7+B+2I4nM6ivzXBrxKlHZy/P8kcEWxReL+KVcCTz1iZPwfq1mMJCLA/NAAr8rHcuz/i7O/PuRnFP3zzuPteu80/9L4SxFB50z/Yp/MTlAPVP+b/2X8yANM/lYfgE0aOzz/xk9U6ksfHP5qiM5uNtsA/Ti5CiJYCtj/hcbzIJQqrP6RxZsOzZ58/M6Drtpwvkj/supFbjrWFP+/AqHeEmXY/5DBWuf19O78b0iz5bcKIvyFkmJQ035y/sfaTC3cppb8KoPdKSaSnv3hdIovy1Ka/JgxHs1nFpb+NxcJSVU+kv6Cf0lZfPKK/c+gOESALn792pnp51HSYv8d9QZFC546/wJzzcJZbdL+gkdNRcUdzP3hpZfBn4I4/M0zsKG7fmj+YXEOrvrOjP8Gz7jPvt6k/5ABIDXC4rz8iVT8vDyuzP36dxLUU77Y/AMgqIS/Wuj8hZmEVkHK+P+MozL24u8A/bopDDRH9wT8dnpBjDCjDP0Zr+w3Jf8Q//RM7nr8exj84/RM7nr/HP4fN+KUbtMg/OQykk75zyT8NE5GKlCDIPzaA0N0i7sU/bdGXGKrmwz8K6DLz7AvCP/VJUdtENcE/cAxceSQ5wT8mxQlENq3BPxUfXXTLccI/+6VN7trSwz9eS+kVJj7GP5n+/CkbN9A/\",\"dtype\":\"float64\",\"shape\":[75]},\"y\":{\"__ndarray__\":\"S/O/Q+51ND/Sv8nbtpRIP2vylNV0PVE/aTum7souWD/At0SJ8fVgPw3Iuahxymc/MSNhhJWvcD/bTfBN02d3P2zb5nxnaoA/CD5h5MAGhz8NmeH1TyaQP+zrCsc9p5Y/LbKd76fGnz/bLW5ISEmmPww9YvTcQq8/JV2OstnstT8Er5Y7M8G+P0c+r3jqkcU/5h99k6ZBzj88bCIzFzjVP4enV8oyxN0//yH99nXg5D8qOpLLf0jtP5kqGJXUifQ/c9cS8kHP/D+/DpwzojQEQIEmwoanVwxA4lgXt9HgE0BSSZ2AJuIbQAMJih9jjiNA5q4l5INuK0AwTKYKRj0zQNv5fmq8/DpAaCJseHrtQkB/+zpwzoxKQM3MzMzMeFJAZmZmZmZqWEAAAAAAAFxeQM3MzMzMJmJAmpmZmZkfZUBmZmZmZhhoQDMzMzMzEWtAAAAAAAAKbkBmZmZmZoFwQM3MzMzM/XFAMzMzMzN6c0CamZmZmfZ0QAAAAAAAc3ZAZmZmZmbvd0DNzMzMzGt5QDMzMzMz6HpAmpmZmZlkfEAAAAAAAOF9QGZmZmZmXX9AZmZmZuZsgECamZmZGSuBQM3MzMxM6YFAAAAAAICngkAzMzMzs2WDQGZmZmbmI4RAmpmZmRnihEDNzMzMTKCFQAAAAACAXoZAMzMzM7Mch0BmZmZm5tqHQJqZmZkZmYhAzczMzExXiUAAAAAAgBWKQDMzMzOz04pAZmZmZuaRi0CamZmZGVCMQM3MzMxMDo1AAAAAAIDMjUAzMzMzs4qOQGZmZmbmSI9A\",\"dtype\":\"float64\",\"shape\":[75]}},\"selected\":{\"id\":\"1a1ee81e-84a9-4618-81e3-e8041ba5e931\",\"type\":\"Selection\"},\"selection_policy\":{\"id\":\"9fe65a10-64ee-4c60-a0fb-ae1325371d77\",\"type\":\"UnionRenderers\"}},\"id\":\"e81aa72b-03f1-4dfd-a2db-0f08da888b5a\",\"type\":\"ColumnDataSource\"},{\"attributes\":{\"line_alpha\":0.6,\"line_color\":\"#984ea3\",\"line_width\":3,\"x\":{\"field\":\"x\"},\"y\":{\"field\":\"y\"}},\"id\":\"21770607-43f9-490a-b76d-5173734e60d3\",\"type\":\"Line\"},{\"attributes\":{\"callback\":null,\"end\":0.01,\"start\":1020},\"id\":\"e9f2faa7-ea08-4990-8116-f611d5eae6b3\",\"type\":\"Range1d\"},{\"attributes\":{\"axis_label\":\"cooling rate [K/day]\",\"formatter\":{\"id\":\"a5caf00f-7b6d-4513-8903-3cd62e3d7f4b\",\"type\":\"BasicTickFormatter\"},\"plot\":{\"id\":\"50db1766-7a8f-4a72-8349-477840bbe1cd\",\"subtype\":\"Figure\",\"type\":\"Plot\"},\"ticker\":{\"id\":\"78e856f6-27ff-463a-8ece-9a7222933657\",\"type\":\"BasicTicker\"}},\"id\":\"9a1626c2-19d9-4bf4-93af-73cfeec9a6a6\",\"type\":\"LinearAxis\"},{\"attributes\":{},\"id\":\"78e856f6-27ff-463a-8ece-9a7222933657\",\"type\":\"BasicTicker\"},{\"attributes\":{\"plot\":{\"id\":\"50db1766-7a8f-4a72-8349-477840bbe1cd\",\"subtype\":\"Figure\",\"type\":\"Plot\"},\"ticker\":{\"id\":\"78e856f6-27ff-463a-8ece-9a7222933657\",\"type\":\"BasicTicker\"}},\"id\":\"91c81cf1-030e-4481-a040-1cc7de3386f1\",\"type\":\"Grid\"},{\"attributes\":{\"num_minor_ticks\":10},\"id\":\"636995eb-71d3-4520-ba97-58ce2df004ca\",\"type\":\"LogTicker\"},{\"attributes\":{},\"id\":\"dae52cbf-7d5e-48ef-a272-2996ab2c4e90\",\"type\":\"ResetTool\"},{\"attributes\":{\"dimension\":1,\"plot\":{\"id\":\"50db1766-7a8f-4a72-8349-477840bbe1cd\",\"subtype\":\"Figure\",\"type\":\"Plot\"},\"ticker\":{\"id\":\"636995eb-71d3-4520-ba97-58ce2df004ca\",\"type\":\"LogTicker\"}},\"id\":\"66625ec3-c39f-4384-a67c-10e870e67396\",\"type\":\"Grid\"},{\"attributes\":{},\"id\":\"6833f4c2-0953-436b-94cf-ed0c407fbf9f\",\"type\":\"PanTool\"},{\"attributes\":{\"bottom_units\":\"screen\",\"fill_alpha\":{\"value\":0.5},\"fill_color\":{\"value\":\"lightgrey\"},\"left_units\":\"screen\",\"level\":\"overlay\",\"line_alpha\":{\"value\":1.0},\"line_color\":{\"value\":\"black\"},\"line_dash\":[4,4],\"line_width\":{\"value\":2},\"plot\":null,\"render_mode\":\"css\",\"right_units\":\"screen\",\"top_units\":\"screen\"},\"id\":\"544319e4-9c79-4d5b-b723-2d95b1552915\",\"type\":\"BoxAnnotation\"},{\"attributes\":{},\"id\":\"446bbf39-70b8-4f69-bf33-77d08529998a\",\"type\":\"PanTool\"},{\"attributes\":{\"data_source\":{\"id\":\"e81aa72b-03f1-4dfd-a2db-0f08da888b5a\",\"type\":\"ColumnDataSource\"},\"glyph\":{\"id\":\"39e3ee4d-4e77-484d-94c9-31916c7f528c\",\"type\":\"Line\"},\"hover_glyph\":null,\"muted_glyph\":null,\"nonselection_glyph\":{\"id\":\"b782a23c-4ee7-4c6f-934e-cbc1a9ad6981\",\"type\":\"Line\"},\"selection_glyph\":null,\"view\":{\"id\":\"950ff22c-a9ce-43df-a000-16bccea556ba\",\"type\":\"CDSView\"}},\"id\":\"a979f216-3b21-4e72-afe3-9ecf0b07ae26\",\"type\":\"GlyphRenderer\"},{\"attributes\":{\"line_alpha\":0.1,\"line_color\":\"#1f77b4\",\"line_dash\":[6],\"line_width\":5,\"x\":{\"field\":\"x\"},\"y\":{\"field\":\"y\"}},\"id\":\"b782a23c-4ee7-4c6f-934e-cbc1a9ad6981\",\"type\":\"Line\"},{\"attributes\":{},\"id\":\"3fc5527f-0064-4543-8cca-7961a4407b59\",\"type\":\"WheelZoomTool\"},{\"attributes\":{},\"id\":\"3d851b90-ba4e-4e91-bfe8-4fedabf1480d\",\"type\":\"WheelZoomTool\"},{\"attributes\":{\"overlay\":{\"id\":\"544319e4-9c79-4d5b-b723-2d95b1552915\",\"type\":\"BoxAnnotation\"}},\"id\":\"d3d92f9d-8e56-4707-a397-3385c3aba558\",\"type\":\"BoxZoomTool\"},{\"attributes\":{},\"id\":\"15b971e1-feff-45d6-a245-a9a26cff9ff2\",\"type\":\"SaveTool\"},{\"attributes\":{},\"id\":\"f29cc7ba-c5d0-42f7-a2e7-9d3802f2e779\",\"type\":\"SaveTool\"},{\"attributes\":{},\"id\":\"f57f1281-3029-4e87-8c52-9223a5482a9f\",\"type\":\"ResetTool\"},{\"attributes\":{},\"id\":\"2a058aa7-85e8-4226-97ae-bca932013636\",\"type\":\"HelpTool\"},{\"attributes\":{\"overlay\":{\"id\":\"15f34be5-8148-4aba-a2f1-15df75dd067f\",\"type\":\"BoxAnnotation\"}},\"id\":\"11d345db-d1a3-4ad6-ac9a-435627eeeb36\",\"type\":\"BoxZoomTool\"},{\"attributes\":{\"source\":{\"id\":\"d755573b-284c-4aec-bae8-54c388f19f82\",\"type\":\"ColumnDataSource\"}},\"id\":\"75f93737-1467-4cfa-af60-eb1bbce2044c\",\"type\":\"CDSView\"},{\"attributes\":{},\"id\":\"a5b9ff6b-7373-4035-97b2-a01803dd1fcb\",\"type\":\"HelpTool\"},{\"attributes\":{\"callback\":null,\"data\":{\"x\":{\"__ndarray__\":\"/X7WoT/Zvr8nyQjiG46+v4PCwVqM7L2/Ex1VjyxHvb8SGRTVdKC8v/lhjGGx+ru/D0PtrwVau7/+ORYlMr26v0rftZWoKLq/DTEkSCGgub/ItAOcSCq5v8v15tIgzri/Edyc2LCXuL/iyTl0JF64vz5ynsMSlbW/mG4mZ6dtrL8q4M4gZniNv7+Dkg5+/qE/EfveiOkguD90Jm2q7hHFP6ewUkFF1c8/Z7wpvDah1T8iPzRWD9bWP4ghxUKlONM/yp5OwwE+zT8jmDC7o9bDP8W7rwyinLk/cJmyV0iOsD+nPa7YIhOmP+/mmuOL354/9QmoiaFJlj+Jilxj3HyPP698UVyAv4M/gZuOBkz1bz9x1m8Ec/15vyf/Ogc0sJS/P0UahNUyoL+BPV78+EGiv+Ml18vxNaG/pMrNw0tooL8vAf9hOayev8vVWlsiXpu/hjGgGe+Hlr95Z4yNex6Qv4ocJgLjRYC//uTJYM6tVT/kc91KZUCIP7nR60K4cZc/ENLPq2zloD+w4Y7cP7umPxBbf+2O/Kw/DtT0nJ6+sT/NJP7phQm1PzHpHd7bQ7g/QtjfyPJkuz9y+ElallS+PyRPq0s6iMA/689VJVfSwT8TLdT1nxDDP3YjJLmZXcQ/zW2IEqnAxT+mLODxL/rGPzdOjivDcsc/Uiy3tBqSxz8Qp5vdvdDFPypWqpchhsM/bZEP1e+dwT/nxB7axwrAP8b/Nu5Bxr4/yBqBunmRvj8rriKKZvG+P8NnZ6i8478/i2S4z2TewD+HFfIx7dXCP7GN02sOa80/\",\"dtype\":\"float64\",\"shape\":[75]},\"y\":{\"__ndarray__\":\"GhExyth1ND/Sv8nbtpRIP2vylNV0PVE/aTum7souWD/At0SJ8fVgPw3Iuahxymc/MSNhhJWvcD/bTfBN02d3P2zb5nxnaoA/CD5h5MAGhz8NmeH1TyaQP+zrCsc9p5Y/LbKd76fGnz/bLW5ISEmmPww9YvTcQq8/JV2OstnstT8Er5Y7M8G+P0c+r3jqkcU/5h99k6ZBzj88bCIzFzjVP4enV8oyxN0//yH99nXg5D8qOpLLf0jtP5kqGJXUifQ/c9cS8kHP/D+/DpwzojQEQIEmwoanVwxA4lgXt9HgE0BSSZ2AJuIbQAMJih9jjiNA5q4l5INuK0AwTKYKRj0zQNv5fmq8/DpAaCJseHrtQkB/+zpwzoxKQM3MzMzMeFJAZmZmZmZqWEAAAAAAAFxeQM3MzMzMJmJAmpmZmZkfZUBmZmZmZhhoQDMzMzMzEWtAAAAAAAAKbkBmZmZmZoFwQM3MzMzM/XFAMzMzMzN6c0CamZmZmfZ0QAAAAAAAc3ZAZmZmZmbvd0DNzMzMzGt5QDMzMzMz6HpAmpmZmZlkfEAAAAAAAOF9QGZmZmZmXX9AZmZmZuZsgECamZmZGSuBQM3MzMxM6YFAAAAAAICngkAzMzMzs2WDQGZmZmbmI4RAmpmZmRnihEDNzMzMTKCFQAAAAACAXoZAMzMzM7Mch0BmZmZm5tqHQJqZmZkZmYhAzczMzExXiUAAAAAAgBWKQDMzMzOz04pAZmZmZuaRi0CamZmZGVCMQM3MzMxMDo1AAAAAAIDMjUAzMzMzs4qOQGZmZmbmSI9A\",\"dtype\":\"float64\",\"shape\":[75]}},\"selected\":{\"id\":\"b470bb59-6bf8-4516-81d2-a184896f21df\",\"type\":\"Selection\"},\"selection_policy\":{\"id\":\"8243a991-571e-44a9-aafb-df979e75b858\",\"type\":\"UnionRenderers\"}},\"id\":\"d994f704-53aa-4832-9c4b-0ab4d5d327bf\",\"type\":\"ColumnDataSource\"},{\"attributes\":{\"active_drag\":\"auto\",\"active_inspect\":\"auto\",\"active_scroll\":\"auto\",\"active_tap\":\"auto\",\"tools\":[{\"id\":\"446bbf39-70b8-4f69-bf33-77d08529998a\",\"type\":\"PanTool\"},{\"id\":\"3d851b90-ba4e-4e91-bfe8-4fedabf1480d\",\"type\":\"WheelZoomTool\"},{\"id\":\"11d345db-d1a3-4ad6-ac9a-435627eeeb36\",\"type\":\"BoxZoomTool\"},{\"id\":\"f29cc7ba-c5d0-42f7-a2e7-9d3802f2e779\",\"type\":\"SaveTool\"},{\"id\":\"dae52cbf-7d5e-48ef-a272-2996ab2c4e90\",\"type\":\"ResetTool\"},{\"id\":\"2a058aa7-85e8-4226-97ae-bca932013636\",\"type\":\"HelpTool\"}]},\"id\":\"cedaead2-9e32-4ab1-8c77-91007ceb7fcb\",\"type\":\"Toolbar\"},{\"attributes\":{\"callback\":null,\"data\":{\"x\":{\"__ndarray__\":\"U/jRSAIPrr8O53zZv7Ctv1KOQ6kv3qy/Jo81kB8LrL+ygAQjATOrv5FiGGGeVqq/K43AobV3qb+x0qyFvJKov2xCKiq6rKe/TzfwbXHCpr9KA0cbqtalv/5XQf9J66S/9FOE6tL+o7+B+2I4nM6ivzXBrxKlHZy/P8kcEWxReL+KVcCTz1iZPwfq1mMJCLA/NAAr8rHcuz/i7O/PuRnFP3zzuPteu80/9L4SxFB50z/Yp/MTlAPVP+b/2X8yANM/lYfgE0aOzz/xk9U6ksfHP5qiM5uNtsA/Ti5CiJYCtj/hcbzIJQqrP6RxZsOzZ58/M6Drtpwvkj/supFbjrWFP+/AqHeEmXY/5DBWuf19O78b0iz5bcKIvyFkmJQ035y/sfaTC3cppb8KoPdKSaSnv3hdIovy1Ka/JgxHs1nFpb+NxcJSVU+kv6Cf0lZfPKK/c+gOESALn792pnp51HSYv8d9QZFC546/wJzzcJZbdL+gkdNRcUdzP3hpZfBn4I4/M0zsKG7fmj+YXEOrvrOjP8Gz7jPvt6k/5ABIDXC4rz8iVT8vDyuzP36dxLUU77Y/AMgqIS/Wuj8hZmEVkHK+P+MozL24u8A/bopDDRH9wT8dnpBjDCjDP0Zr+w3Jf8Q//RM7nr8exj84/RM7nr/HP4fN+KUbtMg/OQykk75zyT8NE5GKlCDIPzaA0N0i7sU/bdGXGKrmwz8K6DLz7AvCP/VJUdtENcE/cAxceSQ5wT8mxQlENq3BPxUfXXTLccI/+6VN7trSwz9eS+kVJj7GP5n+/CkbN9A/\",\"dtype\":\"float64\",\"shape\":[75]},\"y\":{\"__ndarray__\":\"S/O/Q+51ND/Sv8nbtpRIP2vylNV0PVE/aTum7souWD/At0SJ8fVgPw3Iuahxymc/MSNhhJWvcD/bTfBN02d3P2zb5nxnaoA/CD5h5MAGhz8NmeH1TyaQP+zrCsc9p5Y/LbKd76fGnz/bLW5ISEmmPww9YvTcQq8/JV2OstnstT8Er5Y7M8G+P0c+r3jqkcU/5h99k6ZBzj88bCIzFzjVP4enV8oyxN0//yH99nXg5D8qOpLLf0jtP5kqGJXUifQ/c9cS8kHP/D+/DpwzojQEQIEmwoanVwxA4lgXt9HgE0BSSZ2AJuIbQAMJih9jjiNA5q4l5INuK0AwTKYKRj0zQNv5fmq8/DpAaCJseHrtQkB/+zpwzoxKQM3MzMzMeFJAZmZmZmZqWEAAAAAAAFxeQM3MzMzMJmJAmpmZmZkfZUBmZmZmZhhoQDMzMzMzEWtAAAAAAAAKbkBmZmZmZoFwQM3MzMzM/XFAMzMzMzN6c0CamZmZmfZ0QAAAAAAAc3ZAZmZmZmbvd0DNzMzMzGt5QDMzMzMz6HpAmpmZmZlkfEAAAAAAAOF9QGZmZmZmXX9AZmZmZuZsgECamZmZGSuBQM3MzMxM6YFAAAAAAICngkAzMzMzs2WDQGZmZmbmI4RAmpmZmRnihEDNzMzMTKCFQAAAAACAXoZAMzMzM7Mch0BmZmZm5tqHQJqZmZkZmYhAzczMzExXiUAAAAAAgBWKQDMzMzOz04pAZmZmZuaRi0CamZmZGVCMQM3MzMxMDo1AAAAAAIDMjUAzMzMzs4qOQGZmZmbmSI9A\",\"dtype\":\"float64\",\"shape\":[75]}},\"selected\":{\"id\":\"e5704de7-397d-43ee-af76-7473345c8bbe\",\"type\":\"Selection\"},\"selection_policy\":{\"id\":\"49874643-31c3-407e-ac60-0664e7b35b2f\",\"type\":\"UnionRenderers\"}},\"id\":\"19e3a160-997b-4acf-b917-5a9f2b34599d\",\"type\":\"ColumnDataSource\"},{\"attributes\":{\"data_source\":{\"id\":\"d755573b-284c-4aec-bae8-54c388f19f82\",\"type\":\"ColumnDataSource\"},\"glyph\":{\"id\":\"f25af5ee-fb48-4c3f-b29f-c93801f29f20\",\"type\":\"Square\"},\"hover_glyph\":null,\"muted_glyph\":null,\"nonselection_glyph\":{\"id\":\"e9836681-5201-4687-a481-a25eeced25dd\",\"type\":\"Square\"},\"selection_glyph\":null,\"view\":{\"id\":\"75f93737-1467-4cfa-af60-eb1bbce2044c\",\"type\":\"CDSView\"}},\"id\":\"ee1ea40c-a3cb-478b-a053-fdfcad18343c\",\"type\":\"GlyphRenderer\"},{\"attributes\":{},\"id\":\"a0c09c46-4a66-4d6f-a197-e12a2a92bc27\",\"type\":\"BasicTicker\"},{\"attributes\":{\"below\":[{\"id\":\"d47e876a-2c3e-4ef2-b7a8-c84cd38a39bd\",\"type\":\"LinearAxis\"}],\"left\":[{\"id\":\"12de86e9-4804-4c4e-8ecb-0d7a8134e93b\",\"type\":\"LinearAxis\"}],\"plot_height\":500,\"plot_width\":400,\"renderers\":[{\"id\":\"d47e876a-2c3e-4ef2-b7a8-c84cd38a39bd\",\"type\":\"LinearAxis\"},{\"id\":\"1c14eff9-9630-4f44-abcd-6348ae1b2432\",\"type\":\"Grid\"},{\"id\":\"12de86e9-4804-4c4e-8ecb-0d7a8134e93b\",\"type\":\"LinearAxis\"},{\"id\":\"21372a41-cafb-456f-90cf-aef13db24107\",\"type\":\"Grid\"},{\"id\":\"15f34be5-8148-4aba-a2f1-15df75dd067f\",\"type\":\"BoxAnnotation\"},{\"id\":\"a979f216-3b21-4e72-afe3-9ecf0b07ae26\",\"type\":\"GlyphRenderer\"},{\"id\":\"baef33d3-c91c-4fc0-b4c8-8c2b281e9919\",\"type\":\"GlyphRenderer\"},{\"id\":\"20b3d3a5-bec5-48b7-841d-be0e93edf554\",\"type\":\"GlyphRenderer\"},{\"id\":\"58a2610d-7ecc-4972-8f53-a1efd31b59d5\",\"type\":\"GlyphRenderer\"},{\"id\":\"7956c7fc-e265-48fe-a2a3-d183ad74b2fb\",\"type\":\"GlyphRenderer\"}],\"title\":{\"id\":\"92981941-39d6-466d-8d70-1ccc441ee65c\",\"type\":\"Title\"},\"toolbar\":{\"id\":\"cedaead2-9e32-4ab1-8c77-91007ceb7fcb\",\"type\":\"Toolbar\"},\"toolbar_location\":null,\"x_range\":{\"id\":\"ee807890-ca38-44c0-8559-2c43af7ab5fb\",\"type\":\"Range1d\"},\"x_scale\":{\"id\":\"be7509d0-a08c-4fcf-ab39-6b737d6f96bd\",\"type\":\"LinearScale\"},\"y_range\":{\"id\":\"e9f2faa7-ea08-4990-8116-f611d5eae6b3\",\"type\":\"Range1d\"},\"y_scale\":{\"id\":\"b52c924a-d880-43ff-b428-2cecd2c9ec7e\",\"type\":\"LinearScale\"}},\"id\":\"8747fb99-c709-4f4b-90f5-28760f832afc\",\"subtype\":\"Figure\",\"type\":\"Plot\"},{\"attributes\":{\"line_alpha\":0.6,\"line_color\":\"#e41a1c\",\"line_dash\":[6],\"line_width\":5,\"x\":{\"field\":\"x\"},\"y\":{\"field\":\"y\"}},\"id\":\"4c7e790d-7fde-4cd5-9d75-3d52f83feec2\",\"type\":\"Line\"},{\"attributes\":{\"fill_alpha\":{\"value\":0.1},\"fill_color\":{\"value\":\"#1f77b4\"},\"line_alpha\":{\"value\":0.1},\"line_color\":{\"value\":\"#1f77b4\"},\"x\":{\"field\":\"x\"},\"y\":{\"field\":\"y\"}},\"id\":\"e9836681-5201-4687-a481-a25eeced25dd\",\"type\":\"Square\"},{\"attributes\":{\"source\":{\"id\":\"e81aa72b-03f1-4dfd-a2db-0f08da888b5a\",\"type\":\"ColumnDataSource\"}},\"id\":\"950ff22c-a9ce-43df-a000-16bccea556ba\",\"type\":\"CDSView\"},{\"attributes\":{\"below\":[{\"id\":\"9a1626c2-19d9-4bf4-93af-73cfeec9a6a6\",\"type\":\"LinearAxis\"}],\"left\":[{\"id\":\"629f0ea1-4d58-42b4-ba74-8481700a5b96\",\"type\":\"LogAxis\"}],\"plot_height\":500,\"plot_width\":560,\"renderers\":[{\"id\":\"9a1626c2-19d9-4bf4-93af-73cfeec9a6a6\",\"type\":\"LinearAxis\"},{\"id\":\"91c81cf1-030e-4481-a040-1cc7de3386f1\",\"type\":\"Grid\"},{\"id\":\"629f0ea1-4d58-42b4-ba74-8481700a5b96\",\"type\":\"LogAxis\"},{\"id\":\"66625ec3-c39f-4384-a67c-10e870e67396\",\"type\":\"Grid\"},{\"id\":\"544319e4-9c79-4d5b-b723-2d95b1552915\",\"type\":\"BoxAnnotation\"},{\"id\":\"1977e6b3-87c7-46df-8cd8-c31b42f20d4a\",\"type\":\"GlyphRenderer\"},{\"id\":\"adf52c38-2d12-4118-a5f1-838bed5f1d9e\",\"type\":\"GlyphRenderer\"},{\"id\":\"a22a7142-beb5-47f7-81e7-d8f31a530d32\",\"type\":\"GlyphRenderer\"},{\"id\":\"ee1ea40c-a3cb-478b-a053-fdfcad18343c\",\"type\":\"GlyphRenderer\"},{\"id\":\"25e37f61-9943-494a-8057-e64cd1d3dd15\",\"type\":\"GlyphRenderer\"},{\"id\":\"2a2ec52e-4032-4826-8e6a-d9773836cf23\",\"type\":\"Legend\"}],\"right\":[{\"id\":\"2a2ec52e-4032-4826-8e6a-d9773836cf23\",\"type\":\"Legend\"}],\"title\":{\"id\":\"beef4824-5c6e-44f1-98d9-2ecb51dc1316\",\"type\":\"Title\"},\"toolbar\":{\"id\":\"9b824694-857b-498b-bd1e-7124eadeb657\",\"type\":\"Toolbar\"},\"toolbar_location\":null,\"x_range\":{\"id\":\"3be17c42-abf1-469e-ba55-9ebd2a8b44ca\",\"type\":\"Range1d\"},\"x_scale\":{\"id\":\"e170c9ea-6f52-4e56-ae88-5b59c524fa91\",\"type\":\"LinearScale\"},\"y_range\":{\"id\":\"0e2dfb7d-f987-4b32-a466-5596e54f0516\",\"type\":\"Range1d\"},\"y_scale\":{\"id\":\"db2177ff-3166-41cf-82fe-a42c15515b29\",\"type\":\"LogScale\"}},\"id\":\"50db1766-7a8f-4a72-8349-477840bbe1cd\",\"subtype\":\"Figure\",\"type\":\"Plot\"},{\"attributes\":{\"plot\":null,\"text\":\"Linear pressure scale\"},\"id\":\"92981941-39d6-466d-8d70-1ccc441ee65c\",\"type\":\"Title\"},{\"attributes\":{\"dimension\":1,\"plot\":{\"id\":\"8747fb99-c709-4f4b-90f5-28760f832afc\",\"subtype\":\"Figure\",\"type\":\"Plot\"},\"ticker\":{\"id\":\"af52739b-36a2-42a8-bb4a-caa0df0de087\",\"type\":\"BasicTicker\"}},\"id\":\"21372a41-cafb-456f-90cf-aef13db24107\",\"type\":\"Grid\"},{\"attributes\":{\"callback\":null,\"end\":0.25636359017,\"start\":-0.04965478717},\"id\":\"ee807890-ca38-44c0-8559-2c43af7ab5fb\",\"type\":\"Range1d\"},{\"attributes\":{},\"id\":\"a5caf00f-7b6d-4513-8903-3cd62e3d7f4b\",\"type\":\"BasicTickFormatter\"},{\"attributes\":{\"callback\":null,\"data\":{\"x\":{\"__ndarray__\":\"lp50GE9hs79i9UcYBiyzvyPfAI6YtLK/1Kejg/g3sr8CtPyscbexv1L8zuW8NbG/2NqYKlqxsL+kleVl+Sywv0f4DBiMYK+/P2bDQRJbrr+poaXckXKtv4WvRZEJhqy/xOSRaJepq7+qfIhz+Jeqv5UtX4X+g6W/GnxfMSp2kr82hY5QRYeQP7+IWPLorq0/TkMz0+bNuz9ael1UxbPFPyNkxRW8Dc8/piwiDgKA1D9ubX5P7u/VP12SPSG/Z9M/qvGxP3ltzz+GdqlsswzHPzYr0xZ0zr8/gPN1KCkBtT+AWAnywLuqPywTcX+dt6A/NA3oVwMslT9bT1FO5OSKP0OSifbZSn0/7LGP615YPz/PT0PkjBKIvz1JJwMhCJ2/BuzDqtxspb+eo4vWHOOnvzavYbu446a/zMDn2FjBpb/eDlZhCECkvytXOzRzG6K/LhP8cSZmnr8KdCO1G0CXvzNOQ1Thz4y/aI8r/+eacL8dMjSKJPt5P03E4SCvdJE/NfI3qYFJnD/UWYshyUSkP85m7IPgfKo/B1M02bZdsD+qpfPAS5mzP4XBN3gf+rY/LYrLr+5xuj+tEm4qOcS9P3AIdnjfY8A/DCLvqHO9wT9m4YhBogHDP2rqCvC8WMQ/GVYzY7jXxT+RmyMjTkTHP9yOPiCvC8g/uFdq5l6ayD/Q+HQrOkjHPx2ZP40YScU/Fi+avmx1wz+rb8sNp8jBP4eX8QBgBsE/v0fc5yHowD8dBk4ROy7BP5yUev3m0cE/H3mtpfz7wj/2MoJ0Tj/FP936fqRnfs8/\",\"dtype\":\"float64\",\"shape\":[75]},\"y\":{\"__ndarray__\":\"GhExyth1ND/Sv8nbtpRIP2vylNV0PVE/aTum7souWD/At0SJ8fVgPw3Iuahxymc/MSNhhJWvcD/bTfBN02d3P2zb5nxnaoA/CD5h5MAGhz8NmeH1TyaQP+zrCsc9p5Y/LbKd76fGnz/bLW5ISEmmPww9YvTcQq8/JV2OstnstT8Er5Y7M8G+P0c+r3jqkcU/5h99k6ZBzj88bCIzFzjVP4enV8oyxN0//yH99nXg5D8qOpLLf0jtP5kqGJXUifQ/c9cS8kHP/D+/DpwzojQEQIEmwoanVwxA4lgXt9HgE0BSSZ2AJuIbQAMJih9jjiNA5q4l5INuK0AwTKYKRj0zQNv5fmq8/DpAaCJseHrtQkB/+zpwzoxKQM3MzMzMeFJAZmZmZmZqWEAAAAAAAFxeQM3MzMzMJmJAmpmZmZkfZUBmZmZmZhhoQDMzMzMzEWtAAAAAAAAKbkBmZmZmZoFwQM3MzMzM/XFAMzMzMzN6c0CamZmZmfZ0QAAAAAAAc3ZAZmZmZmbvd0DNzMzMzGt5QDMzMzMz6HpAmpmZmZlkfEAAAAAAAOF9QGZmZmZmXX9AZmZmZuZsgECamZmZGSuBQM3MzMxM6YFAAAAAAICngkAzMzMzs2WDQGZmZmbmI4RAmpmZmRnihEDNzMzMTKCFQAAAAACAXoZAMzMzM7Mch0BmZmZm5tqHQJqZmZkZmYhAzczMzExXiUAAAAAAgBWKQDMzMzOz04pAZmZmZuaRi0CamZmZGVCMQM3MzMxMDo1AAAAAAIDMjUAzMzMzs4qOQGZmZmbmSI9A\",\"dtype\":\"float64\",\"shape\":[75]}},\"selected\":{\"id\":\"de4016fb-d33f-4187-8c7f-64f659ab06ef\",\"type\":\"Selection\"},\"selection_policy\":{\"id\":\"bafc8b10-6c81-48d2-bc3e-0bc1f0aa0601\",\"type\":\"UnionRenderers\"}},\"id\":\"961c2260-d861-474b-b1a7-6cf93cb81bfc\",\"type\":\"ColumnDataSource\"},{\"attributes\":{},\"id\":\"be7509d0-a08c-4fcf-ab39-6b737d6f96bd\",\"type\":\"LinearScale\"},{\"attributes\":{\"plot\":{\"id\":\"8747fb99-c709-4f4b-90f5-28760f832afc\",\"subtype\":\"Figure\",\"type\":\"Plot\"},\"ticker\":{\"id\":\"a0c09c46-4a66-4d6f-a197-e12a2a92bc27\",\"type\":\"BasicTicker\"}},\"id\":\"1c14eff9-9630-4f44-abcd-6348ae1b2432\",\"type\":\"Grid\"},{\"attributes\":{\"callback\":null,\"end\":0.01,\"start\":1020},\"id\":\"0e2dfb7d-f987-4b32-a466-5596e54f0516\",\"type\":\"Range1d\"},{\"attributes\":{\"line_alpha\":0.1,\"line_color\":\"#1f77b4\",\"line_dash\":[6],\"line_width\":5,\"x\":{\"field\":\"x\"},\"y\":{\"field\":\"y\"}},\"id\":\"b8516afb-f1d5-4ffe-b554-4119627d5f95\",\"type\":\"Line\"},{\"attributes\":{\"axis_label\":\"pressure [mb]\",\"formatter\":{\"id\":\"a0f4f41a-c0b6-404d-8778-68c6128c5ddf\",\"type\":\"BasicTickFormatter\"},\"plot\":{\"id\":\"8747fb99-c709-4f4b-90f5-28760f832afc\",\"subtype\":\"Figure\",\"type\":\"Plot\"},\"ticker\":{\"id\":\"af52739b-36a2-42a8-bb4a-caa0df0de087\",\"type\":\"BasicTicker\"}},\"id\":\"12de86e9-4804-4c4e-8ecb-0d7a8134e93b\",\"type\":\"LinearAxis\"},{\"attributes\":{},\"id\":\"b52c924a-d880-43ff-b428-2cecd2c9ec7e\",\"type\":\"LinearScale\"},{\"attributes\":{\"fill_alpha\":{\"value\":0.7},\"fill_color\":{\"value\":\"#984ea3\"},\"line_alpha\":{\"value\":0.7},\"line_color\":{\"value\":\"#984ea3\"},\"x\":{\"field\":\"x\"},\"y\":{\"field\":\"y\"}},\"id\":\"f25af5ee-fb48-4c3f-b29f-c93801f29f20\",\"type\":\"Square\"},{\"attributes\":{},\"id\":\"af52739b-36a2-42a8-bb4a-caa0df0de087\",\"type\":\"BasicTicker\"},{\"attributes\":{\"axis_label\":\"cooling rate [K/day]\",\"formatter\":{\"id\":\"4e360157-7223-4ffe-95cf-dccb0b8cebf3\",\"type\":\"BasicTickFormatter\"},\"plot\":{\"id\":\"8747fb99-c709-4f4b-90f5-28760f832afc\",\"subtype\":\"Figure\",\"type\":\"Plot\"},\"ticker\":{\"id\":\"a0c09c46-4a66-4d6f-a197-e12a2a92bc27\",\"type\":\"BasicTicker\"}},\"id\":\"d47e876a-2c3e-4ef2-b7a8-c84cd38a39bd\",\"type\":\"LinearAxis\"},{\"attributes\":{\"bottom_units\":\"screen\",\"fill_alpha\":{\"value\":0.5},\"fill_color\":{\"value\":\"lightgrey\"},\"left_units\":\"screen\",\"level\":\"overlay\",\"line_alpha\":{\"value\":1.0},\"line_color\":{\"value\":\"black\"},\"line_dash\":[4,4],\"line_width\":{\"value\":2},\"plot\":null,\"render_mode\":\"css\",\"right_units\":\"screen\",\"top_units\":\"screen\"},\"id\":\"15f34be5-8148-4aba-a2f1-15df75dd067f\",\"type\":\"BoxAnnotation\"}],\"root_ids\":[\"ed712b75-412d-48cc-964a-b7718ee8992f\"]},\"title\":\"Bokeh Application\",\"version\":\"0.12.16\"}};\n",
       "  var render_items = [{\"docid\":\"23e57149-1937-4ade-a0d9-77bc4fadc9be\",\"elementid\":\"8e2f552d-87ef-41f5-b192-50ca41aa794d\",\"modelid\":\"ed712b75-412d-48cc-964a-b7718ee8992f\"}];\n",
       "  root.Bokeh.embed.embed_items_notebook(docs_json, render_items);\n",
       "\n",
       "  }\n",
       "  if (root.Bokeh !== undefined) {\n",
       "    embed_document(root);\n",
       "  } else {\n",
       "    var attempts = 0;\n",
       "    var timer = setInterval(function(root) {\n",
       "      if (root.Bokeh !== undefined) {\n",
       "        embed_document(root);\n",
       "        clearInterval(timer);\n",
       "      }\n",
       "      attempts++;\n",
       "      if (attempts > 100) {\n",
       "        console.log(\"Bokeh: ERROR: Unable to run BokehJS code because BokehJS library is missing\")\n",
       "        clearInterval(timer);\n",
       "      }\n",
       "    }, 10, root)\n",
       "  }\n",
       "})(window);"
      ],
      "application/vnd.bokehjs_exec.v0+json": ""
     },
     "metadata": {
      "application/vnd.bokehjs_exec.v0+json": {
       "id": "ed712b75-412d-48cc-964a-b7718ee8992f"
      }
     },
     "output_type": "display_data"
    },
    {
     "name": "stdout",
     "output_type": "stream",
     "text": [
      "FIGURE. Cooling rate profiles.\n"
     ]
    },
    {
     "data": {
      "text/html": [
       "<a id=\"Flux_Comparison\"></a>"
      ],
      "text/plain": [
       "<IPython.core.display.HTML object>"
      ]
     },
     "metadata": {},
     "output_type": "display_data"
    },
    {
     "data": {
      "text/markdown": [
       "# Flux Comparison"
      ],
      "text/plain": [
       "<IPython.core.display.Markdown object>"
      ]
     },
     "metadata": {},
     "output_type": "display_data"
    },
    {
     "data": {
      "text/html": [
       "<div>\n",
       "<style scoped>\n",
       "    .dataframe tbody tr th:only-of-type {\n",
       "        vertical-align: middle;\n",
       "    }\n",
       "\n",
       "    .dataframe tbody tr th {\n",
       "        vertical-align: top;\n",
       "    }\n",
       "\n",
       "    .dataframe thead th {\n",
       "        text-align: right;\n",
       "    }\n",
       "</style>\n",
       "<table border=\"1\" class=\"dataframe\">\n",
       "  <thead>\n",
       "    <tr style=\"text-align: right;\">\n",
       "      <th></th>\n",
       "      <th></th>\n",
       "      <th>flug</th>\n",
       "      <th>fldg</th>\n",
       "      <th>fnetg</th>\n",
       "    </tr>\n",
       "    <tr>\n",
       "      <th>pressure</th>\n",
       "      <th>level</th>\n",
       "      <th></th>\n",
       "      <th></th>\n",
       "      <th></th>\n",
       "    </tr>\n",
       "  </thead>\n",
       "  <tbody>\n",
       "    <tr>\n",
       "      <th>0.0000</th>\n",
       "      <th>1</th>\n",
       "      <td>-13.104923</td>\n",
       "      <td>0.000000</td>\n",
       "      <td>-13.104923</td>\n",
       "    </tr>\n",
       "    <tr>\n",
       "      <th>1.0685</th>\n",
       "      <th>24</th>\n",
       "      <td>-13.102652</td>\n",
       "      <td>0.026274</td>\n",
       "      <td>-13.076378</td>\n",
       "    </tr>\n",
       "    <tr>\n",
       "      <th>1013.0000</th>\n",
       "      <th>76</th>\n",
       "      <td>-26.962746</td>\n",
       "      <td>23.189640</td>\n",
       "      <td>-3.773106</td>\n",
       "    </tr>\n",
       "  </tbody>\n",
       "</table>\n",
       "</div>"
      ],
      "text/plain": [
       "                      flug       fldg      fnetg\n",
       "pressure  level                                 \n",
       "0.0000    1     -13.104923   0.000000 -13.104923\n",
       "1.0685    24    -13.102652   0.026274 -13.076378\n",
       "1013.0000 76    -26.962746  23.189640  -3.773106"
      ]
     },
     "metadata": {},
     "output_type": "display_data"
    },
    {
     "name": "stdout",
     "output_type": "stream",
     "text": [
      "Table. Fluxes. CRD\n"
     ]
    },
    {
     "data": {
      "text/html": [
       "<div>\n",
       "<style scoped>\n",
       "    .dataframe tbody tr th:only-of-type {\n",
       "        vertical-align: middle;\n",
       "    }\n",
       "\n",
       "    .dataframe tbody tr th {\n",
       "        vertical-align: top;\n",
       "    }\n",
       "\n",
       "    .dataframe thead th {\n",
       "        text-align: right;\n",
       "    }\n",
       "</style>\n",
       "<table border=\"1\" class=\"dataframe\">\n",
       "  <thead>\n",
       "    <tr style=\"text-align: right;\">\n",
       "      <th></th>\n",
       "      <th></th>\n",
       "      <th>flug</th>\n",
       "      <th>fldg</th>\n",
       "      <th>fnetg</th>\n",
       "    </tr>\n",
       "    <tr>\n",
       "      <th>pressure</th>\n",
       "      <th>level</th>\n",
       "      <th></th>\n",
       "      <th></th>\n",
       "      <th></th>\n",
       "    </tr>\n",
       "  </thead>\n",
       "  <tbody>\n",
       "    <tr>\n",
       "      <th>0.0000</th>\n",
       "      <th>1</th>\n",
       "      <td>-12.940510</td>\n",
       "      <td>0.000000</td>\n",
       "      <td>-12.940510</td>\n",
       "    </tr>\n",
       "    <tr>\n",
       "      <th>1.0685</th>\n",
       "      <th>24</th>\n",
       "      <td>-12.934970</td>\n",
       "      <td>0.022907</td>\n",
       "      <td>-12.912063</td>\n",
       "    </tr>\n",
       "    <tr>\n",
       "      <th>1013.0000</th>\n",
       "      <th>76</th>\n",
       "      <td>-26.962746</td>\n",
       "      <td>23.425457</td>\n",
       "      <td>-3.537289</td>\n",
       "    </tr>\n",
       "  </tbody>\n",
       "</table>\n",
       "</div>"
      ],
      "text/plain": [
       "                      flug       fldg      fnetg\n",
       "pressure  level                                 \n",
       "0.0000    1     -12.940510   0.000000 -12.940510\n",
       "1.0685    24    -12.934970   0.022907 -12.912063\n",
       "1013.0000 76    -26.962746  23.425457  -3.537289"
      ]
     },
     "metadata": {},
     "output_type": "display_data"
    },
    {
     "name": "stdout",
     "output_type": "stream",
     "text": [
      "Table. Fluxes. WGT igg=10 wgt_flux=1\n"
     ]
    },
    {
     "data": {
      "text/html": [
       "<div>\n",
       "<style scoped>\n",
       "    .dataframe tbody tr th:only-of-type {\n",
       "        vertical-align: middle;\n",
       "    }\n",
       "\n",
       "    .dataframe tbody tr th {\n",
       "        vertical-align: top;\n",
       "    }\n",
       "\n",
       "    .dataframe thead th {\n",
       "        text-align: right;\n",
       "    }\n",
       "</style>\n",
       "<table border=\"1\" class=\"dataframe\">\n",
       "  <thead>\n",
       "    <tr style=\"text-align: right;\">\n",
       "      <th></th>\n",
       "      <th></th>\n",
       "      <th>flug</th>\n",
       "      <th>fldg</th>\n",
       "      <th>fnetg</th>\n",
       "    </tr>\n",
       "    <tr>\n",
       "      <th>pressure</th>\n",
       "      <th>level</th>\n",
       "      <th></th>\n",
       "      <th></th>\n",
       "      <th></th>\n",
       "    </tr>\n",
       "  </thead>\n",
       "  <tbody>\n",
       "    <tr>\n",
       "      <th>1.000000e-08</th>\n",
       "      <th>1</th>\n",
       "      <td>-13.077350</td>\n",
       "      <td>9.047325e-08</td>\n",
       "      <td>-13.077350</td>\n",
       "    </tr>\n",
       "    <tr>\n",
       "      <th>1.068500e+00</th>\n",
       "      <th>24</th>\n",
       "      <td>-13.070868</td>\n",
       "      <td>2.101725e-02</td>\n",
       "      <td>-13.049850</td>\n",
       "    </tr>\n",
       "    <tr>\n",
       "      <th>1.013000e+03</th>\n",
       "      <th>76</th>\n",
       "      <td>-26.962750</td>\n",
       "      <td>2.346869e+01</td>\n",
       "      <td>-3.494058</td>\n",
       "    </tr>\n",
       "  </tbody>\n",
       "</table>\n",
       "</div>"
      ],
      "text/plain": [
       "                         flug          fldg      fnetg\n",
       "pressure     level                                    \n",
       "1.000000e-08 1     -13.077350  9.047325e-08 -13.077350\n",
       "1.068500e+00 24    -13.070868  2.101725e-02 -13.049850\n",
       "1.013000e+03 76    -26.962750  2.346869e+01  -3.494058"
      ]
     },
     "metadata": {},
     "output_type": "display_data"
    },
    {
     "name": "stdout",
     "output_type": "stream",
     "text": [
      "Table. Fluxes. CLIRAD\n"
     ]
    },
    {
     "data": {
      "text/html": [
       "<div>\n",
       "<style scoped>\n",
       "    .dataframe tbody tr th:only-of-type {\n",
       "        vertical-align: middle;\n",
       "    }\n",
       "\n",
       "    .dataframe tbody tr th {\n",
       "        vertical-align: top;\n",
       "    }\n",
       "\n",
       "    .dataframe thead th {\n",
       "        text-align: right;\n",
       "    }\n",
       "</style>\n",
       "<table border=\"1\" class=\"dataframe\">\n",
       "  <thead>\n",
       "    <tr style=\"text-align: right;\">\n",
       "      <th></th>\n",
       "      <th></th>\n",
       "      <th>flug</th>\n",
       "      <th>fldg</th>\n",
       "      <th>fnetg</th>\n",
       "    </tr>\n",
       "    <tr>\n",
       "      <th>pressure</th>\n",
       "      <th>level</th>\n",
       "      <th></th>\n",
       "      <th></th>\n",
       "      <th></th>\n",
       "    </tr>\n",
       "  </thead>\n",
       "  <tbody>\n",
       "    <tr>\n",
       "      <th>0.0000</th>\n",
       "      <th>1</th>\n",
       "      <td>0.164413</td>\n",
       "      <td>0.000000</td>\n",
       "      <td>0.164413</td>\n",
       "    </tr>\n",
       "    <tr>\n",
       "      <th>1.0685</th>\n",
       "      <th>24</th>\n",
       "      <td>0.167682</td>\n",
       "      <td>-0.003367</td>\n",
       "      <td>0.164315</td>\n",
       "    </tr>\n",
       "    <tr>\n",
       "      <th>1013.0000</th>\n",
       "      <th>76</th>\n",
       "      <td>0.000000</td>\n",
       "      <td>0.235817</td>\n",
       "      <td>0.235817</td>\n",
       "    </tr>\n",
       "  </tbody>\n",
       "</table>\n",
       "</div>"
      ],
      "text/plain": [
       "                     flug      fldg     fnetg\n",
       "pressure  level                              \n",
       "0.0000    1      0.164413  0.000000  0.164413\n",
       "1.0685    24     0.167682 -0.003367  0.164315\n",
       "1013.0000 76     0.000000  0.235817  0.235817"
      ]
     },
     "metadata": {},
     "output_type": "display_data"
    },
    {
     "name": "stdout",
     "output_type": "stream",
     "text": [
      "Table. Fluxes. (WGT igg=10 wgt_flux=1) - (CRD)\n"
     ]
    },
    {
     "data": {
      "text/html": [
       "<div>\n",
       "<style scoped>\n",
       "    .dataframe tbody tr th:only-of-type {\n",
       "        vertical-align: middle;\n",
       "    }\n",
       "\n",
       "    .dataframe tbody tr th {\n",
       "        vertical-align: top;\n",
       "    }\n",
       "\n",
       "    .dataframe thead th {\n",
       "        text-align: right;\n",
       "    }\n",
       "</style>\n",
       "<table border=\"1\" class=\"dataframe\">\n",
       "  <thead>\n",
       "    <tr style=\"text-align: right;\">\n",
       "      <th></th>\n",
       "      <th></th>\n",
       "      <th>flug</th>\n",
       "      <th>fldg</th>\n",
       "      <th>fnetg</th>\n",
       "    </tr>\n",
       "    <tr>\n",
       "      <th>pressure</th>\n",
       "      <th>level</th>\n",
       "      <th></th>\n",
       "      <th></th>\n",
       "      <th></th>\n",
       "    </tr>\n",
       "  </thead>\n",
       "  <tbody>\n",
       "    <tr>\n",
       "      <th>0.0000</th>\n",
       "      <th>1</th>\n",
       "      <td>0.027573</td>\n",
       "      <td>9.047325e-08</td>\n",
       "      <td>0.027573</td>\n",
       "    </tr>\n",
       "    <tr>\n",
       "      <th>1.0685</th>\n",
       "      <th>24</th>\n",
       "      <td>0.031784</td>\n",
       "      <td>-5.256683e-03</td>\n",
       "      <td>0.026528</td>\n",
       "    </tr>\n",
       "    <tr>\n",
       "      <th>1013.0000</th>\n",
       "      <th>76</th>\n",
       "      <td>-0.000004</td>\n",
       "      <td>2.790520e-01</td>\n",
       "      <td>0.279048</td>\n",
       "    </tr>\n",
       "  </tbody>\n",
       "</table>\n",
       "</div>"
      ],
      "text/plain": [
       "                     flug          fldg     fnetg\n",
       "pressure  level                                  \n",
       "0.0000    1      0.027573  9.047325e-08  0.027573\n",
       "1.0685    24     0.031784 -5.256683e-03  0.026528\n",
       "1013.0000 76    -0.000004  2.790520e-01  0.279048"
      ]
     },
     "metadata": {},
     "output_type": "display_data"
    },
    {
     "name": "stdout",
     "output_type": "stream",
     "text": [
      "Table. Fluxes. (CLIRAD) - (CRD)\n"
     ]
    },
    {
     "data": {
      "text/html": [
       "<a id=\"Best-fit_Parameters\"></a>"
      ],
      "text/plain": [
       "<IPython.core.display.HTML object>"
      ]
     },
     "metadata": {},
     "output_type": "display_data"
    },
    {
     "data": {
      "text/markdown": [
       "# Best-fit Parameters"
      ],
      "text/plain": [
       "<IPython.core.display.Markdown object>"
      ]
     },
     "metadata": {},
     "output_type": "display_data"
    },
    {
     "name": "stdout",
     "output_type": "stream",
     "text": [
      "Best-fit values for each (gas, band)\n",
      "------------------------------------\n",
      "o h2o band7\n",
      "  atmpro = mls\n",
      "  band = 7\n",
      "  commitnumber = a06b618\n",
      "  conc = None\n",
      "  dv = 0.001\n",
      "  klin = 0\n",
      "  molecule = h2o\n",
      "  ng_adju = [0]\n",
      "  ng_refs = [7]\n",
      "  nv = 1000\n",
      "  option_compute_btable = 0\n",
      "  option_compute_ktable = 1\n",
      "  option_wgt_flux = 1\n",
      "  option_wgt_k = 1\n",
      "  ref_pts = [(600, 250)]\n",
      "  tsfc = 294\n",
      "  vmax = 1380\n",
      "  vmin = 1215\n",
      "  w_diffuse = [(2, 1.6, 1.6, 1.6, 1.6, 1.6, 1.8)]\n",
      "  wgt = [(0.5, 0.5, 0.5, 0.5, 0.5, 0.5, 0.9)]\n",
      "o n2o band7\n",
      "  atmpro = mls\n",
      "  band = 7\n",
      "  commitnumber = a06b618\n",
      "  conc = 3.2e-07\n",
      "  dv = 0.001\n",
      "  klin = 2.22e-20\n",
      "  molecule = n2o\n",
      "  ng_adju = [0, 0]\n",
      "  ng_refs = [2, 2]\n",
      "  nv = 1000\n",
      "  option_compute_btable = 0\n",
      "  option_compute_ktable = 1\n",
      "  option_wgt_flux = 1\n",
      "  option_wgt_k = 1\n",
      "  ref_pts = [(1, 250), (500, 250)]\n",
      "  tsfc = 294\n",
      "  vmax = 1380\n",
      "  vmin = 1215\n",
      "  w_diffuse = [(1.8, 1.66), (1.6, 1.8)]\n",
      "  wgt = [(0.6, 0.5), (0.6, 0.9)]\n",
      "o ch4 band7\n",
      "  atmpro = mls\n",
      "  band = 7\n",
      "  commitnumber = a06b618\n",
      "  conc = 1.8e-06\n",
      "  dv = 0.001\n",
      "  klin = 2e-21\n",
      "  molecule = ch4\n",
      "  ng_adju = [0, 0]\n",
      "  ng_refs = [2, 3]\n",
      "  nv = 1000\n",
      "  option_compute_btable = 0\n",
      "  option_compute_ktable = 1\n",
      "  option_wgt_flux = 1\n",
      "  option_wgt_k = 1\n",
      "  ref_pts = [(1, 250), (500, 250)]\n",
      "  tsfc = 294\n",
      "  vmax = 1380\n",
      "  vmin = 1215\n",
      "  w_diffuse = [(1.66, 1.66), (1.66, 1.66, 1.66)]\n",
      "  wgt = [(0.7, 0.7), (0.4, 0.6, 0.75)]\n"
     ]
    }
   ],
   "source": [
    "script()"
   ]
  },
  {
   "cell_type": "code",
   "execution_count": 13,
   "metadata": {
    "collapsed": true
   },
   "outputs": [
    {
     "data": {
      "text/html": [
       "<script>\n",
       "code_show=true; \n",
       "function code_toggle() {\n",
       " if (code_show){\n",
       " $('div.input').hide();\n",
       " } else {\n",
       " $('div.input').show();\n",
       " }\n",
       " code_show = !code_show\n",
       "} \n",
       "$( document ).ready(code_toggle);\n",
       "</script>\n",
       "<form action=\"javascript:code_toggle()\"><input type=\"submit\" value=\"Click here to toggle on/off the raw code.\"></form>"
      ],
      "text/plain": [
       "<IPython.core.display.HTML object>"
      ]
     },
     "execution_count": 13,
     "metadata": {},
     "output_type": "execute_result"
    }
   ],
   "source": [
    "display.HTML('''<script>\n",
    "code_show=true; \n",
    "function code_toggle() {\n",
    " if (code_show){\n",
    " $('div.input').hide();\n",
    " } else {\n",
    " $('div.input').show();\n",
    " }\n",
    " code_show = !code_show\n",
    "} \n",
    "$( document ).ready(code_toggle);\n",
    "</script>\n",
    "<form action=\"javascript:code_toggle()\"><input type=\"submit\" value=\"Click here to toggle on/off the raw code.\"></form>''')"
   ]
  }
 ],
 "metadata": {
  "kernelspec": {
   "display_name": "Python 3",
   "language": "python",
   "name": "python3"
  },
  "language_info": {
   "codemirror_mode": {
    "name": "ipython",
    "version": 3
   },
   "file_extension": ".py",
   "mimetype": "text/x-python",
   "name": "python",
   "nbconvert_exporter": "python",
   "pygments_lexer": "ipython3",
   "version": "3.6.1"
  }
 },
 "nbformat": 4,
 "nbformat_minor": 2
}
