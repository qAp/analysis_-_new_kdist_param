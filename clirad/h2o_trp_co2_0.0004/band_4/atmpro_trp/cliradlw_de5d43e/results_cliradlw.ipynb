{
 "cells": [
  {
   "cell_type": "code",
   "execution_count": 1,
   "metadata": {
    "collapsed": true
   },
   "outputs": [],
   "source": [
    "%matplotlib inline\n",
    "import os\n",
    "import re\n",
    "import io\n",
    "import itertools\n",
    "import pprint\n",
    "\n",
    "from bokeh.io import output_notebook, show\n",
    "from bokeh.layouts import gridplot\n",
    "from bokeh.plotting import figure\n",
    "from bokeh.models import Range1d, Legend\n",
    "from bokeh.palettes import all_palettes\n",
    "\n",
    "import matplotlib\n",
    "import matplotlib.pyplot as plt\n",
    "import numpy as np\n",
    "import pandas as pd\n",
    "import xarray as xr\n",
    "\n",
    "import climatools.lblnew.bestfit_params as bestfits\n",
    "from climatools.lblnew import setup_bestfit, setup_overlap\n",
    "import climatools.lblnew.pipeline as pipe_lblnew\n",
    "import climatools.cliradlw.setup as setup_cliradlw\n",
    "import climatools.cliradlw.pipeline as pipe_cliradlw\n",
    "\n",
    "import climatools.html.html as climahtml\n",
    "from climatools.lblnew.dataio import *\n",
    "from climatools.plot.plot import *\n",
    "\n",
    "\n",
    "import IPython.display as display"
   ]
  },
  {
   "cell_type": "code",
   "execution_count": 2,
   "metadata": {
    "collapsed": true
   },
   "outputs": [],
   "source": [
    "%run param.py"
   ]
  },
  {
   "cell_type": "code",
   "execution_count": 3,
   "metadata": {
    "collapsed": true
   },
   "outputs": [],
   "source": [
    "def load_output_file(path_csv):\n",
    "    '''\n",
    "    Load lblnew output .csv file to xarray.Dataset\n",
    "    \n",
    "    Parameters\n",
    "    ----------\n",
    "    path_csv: str\n",
    "              Path to the .csv file to be loaded.\n",
    "    ds: xarray.Dataset\n",
    "        Data in the input file in the form of an xarray.Dataset.\n",
    "    '''\n",
    "    toindex = ['band', 'pressure', 'igg', 'g']    \n",
    "    df = pd.read_csv(path_csv, sep=r'\\s+')\n",
    "    df = df.set_index([i for i in toindex if i in df.columns])\n",
    "    df = df.rename(columns={'sfu': 'flug',\n",
    "                            'sfd': 'fldg',\n",
    "                            'fnet': 'fnetg',\n",
    "                            'coolr': 'coolrg'})\n",
    "    ds = xr.Dataset.from_dataframe(df)\n",
    "\n",
    "    for l in ('level', 'layer'):\n",
    "        if l in ds.data_vars:\n",
    "            if len(ds[l].dims) > 1:\n",
    "                surface = {d: 0 for d in ds.dims if d != 'pressure'}\n",
    "                coord_level = ds[l][surface]\n",
    "                ds.coords[l] = ('pressure', coord_level)\n",
    "            else:\n",
    "                ds.coords[l] = ('pressure', ds[l])\n",
    "    \n",
    "    return ds"
   ]
  },
  {
   "cell_type": "code",
   "execution_count": 4,
   "metadata": {
    "collapsed": true
   },
   "outputs": [],
   "source": [
    "def lblnew_setup(param=None):\n",
    "    if 'ng_refs' in param:\n",
    "        return {'setup': setup_bestfit,\n",
    "                'fname_flux_crd': 'output_flux.dat',\n",
    "                'fname_cool_crd': 'output_coolr.dat',\n",
    "                'fname_flux_wgt': 'output_wfluxg.dat',\n",
    "                'fname_cool_wgt': 'output_wcoolrg.dat'}\n",
    "    else:\n",
    "        return {'setup': setup_overlap,\n",
    "                'fname_flux_crd': 'output_flux.dat',\n",
    "                'fname_cool_crd': 'output_coolr.dat',\n",
    "                'fname_flux_wgt': 'output_wflux.dat',\n",
    "                'fname_cool_wgt': 'output_wcoolr.dat'}\n",
    "\n",
    "    \n",
    "def load_lblnew_data(param):\n",
    "    \n",
    "    fname_dsname = [('fname_flux_crd', 'ds_flux_crd'),\n",
    "                    ('fname_cool_crd', 'ds_cool_crd'),\n",
    "                    ('fname_flux_wgt', 'ds_flux_wgt'),\n",
    "                    ('fname_cool_wgt', 'ds_cool_wgt')]\n",
    "    \n",
    "    d = lblnew_setup(param)\n",
    "    dir_fortran = pipe_lblnew.get_dir_case(param, setup=d['setup'])\n",
    "    \n",
    "    data_dict = {}\n",
    "    for fname, dsname in fname_dsname:\n",
    "        fpath = os.path.join(dir_fortran, d[fname])\n",
    "        data_dict[dsname] = load_output_file(fpath)\n",
    "    return data_dict\n",
    "    \n",
    "\n",
    "    \n",
    "    "
   ]
  },
  {
   "cell_type": "code",
   "execution_count": 5,
   "metadata": {
    "collapsed": true
   },
   "outputs": [],
   "source": [
    "d = load_lblnew_data(PARAM_LBLNEW)\n",
    "\n",
    "DS_FLUX_CRD = d['ds_flux_crd']\n",
    "DS_COOL_CRD = d['ds_cool_crd']\n",
    "DS_FLUX_WGT = d['ds_flux_wgt']\n",
    "DS_COOL_WGT = d['ds_cool_wgt']"
   ]
  },
  {
   "cell_type": "code",
   "execution_count": 6,
   "metadata": {
    "collapsed": true
   },
   "outputs": [],
   "source": [
    "DIR_FORTRAN = pipe_cliradlw.get_fortran_dir(PARAM, \n",
    "                                            setup=setup_cliradlw)\n",
    "\n",
    "PATH_FLUX = os.path.join(DIR_FORTRAN, 'output_flux.dat')\n",
    "PATH_COOL = os.path.join(DIR_FORTRAN, 'output_coolr.dat')\n",
    "\n",
    "DS_FLUX = load_output_file(PATH_FLUX)\n",
    "DS_COOL = load_output_file(PATH_COOL)"
   ]
  },
  {
   "cell_type": "code",
   "execution_count": 7,
   "metadata": {
    "collapsed": true
   },
   "outputs": [
    {
     "data": {
      "text/html": [
       "\n",
       "    <div class=\"bk-root\">\n",
       "        <a href=\"https://bokeh.pydata.org\" target=\"_blank\" class=\"bk-logo bk-logo-small bk-logo-notebook\"></a>\n",
       "        <span id=\"323d2fe7-507b-42f0-a89d-5c626fe6bfde\">Loading BokehJS ...</span>\n",
       "    </div>"
      ]
     },
     "metadata": {},
     "output_type": "display_data"
    },
    {
     "data": {
      "application/javascript": [
       "\n",
       "(function(root) {\n",
       "  function now() {\n",
       "    return new Date();\n",
       "  }\n",
       "\n",
       "  var force = true;\n",
       "\n",
       "  if (typeof (root._bokeh_onload_callbacks) === \"undefined\" || force === true) {\n",
       "    root._bokeh_onload_callbacks = [];\n",
       "    root._bokeh_is_loading = undefined;\n",
       "  }\n",
       "\n",
       "  var JS_MIME_TYPE = 'application/javascript';\n",
       "  var HTML_MIME_TYPE = 'text/html';\n",
       "  var EXEC_MIME_TYPE = 'application/vnd.bokehjs_exec.v0+json';\n",
       "  var CLASS_NAME = 'output_bokeh rendered_html';\n",
       "\n",
       "  /**\n",
       "   * Render data to the DOM node\n",
       "   */\n",
       "  function render(props, node) {\n",
       "    var script = document.createElement(\"script\");\n",
       "    node.appendChild(script);\n",
       "  }\n",
       "\n",
       "  /**\n",
       "   * Handle when an output is cleared or removed\n",
       "   */\n",
       "  function handleClearOutput(event, handle) {\n",
       "    var cell = handle.cell;\n",
       "\n",
       "    var id = cell.output_area._bokeh_element_id;\n",
       "    var server_id = cell.output_area._bokeh_server_id;\n",
       "    // Clean up Bokeh references\n",
       "    if (id !== undefined) {\n",
       "      Bokeh.index[id].model.document.clear();\n",
       "      delete Bokeh.index[id];\n",
       "    }\n",
       "\n",
       "    if (server_id !== undefined) {\n",
       "      // Clean up Bokeh references\n",
       "      var cmd = \"from bokeh.io.state import curstate; print(curstate().uuid_to_server['\" + server_id + \"'].get_sessions()[0].document.roots[0]._id)\";\n",
       "      cell.notebook.kernel.execute(cmd, {\n",
       "        iopub: {\n",
       "          output: function(msg) {\n",
       "            var element_id = msg.content.text.trim();\n",
       "            Bokeh.index[element_id].model.document.clear();\n",
       "            delete Bokeh.index[element_id];\n",
       "          }\n",
       "        }\n",
       "      });\n",
       "      // Destroy server and session\n",
       "      var cmd = \"import bokeh.io.notebook as ion; ion.destroy_server('\" + server_id + \"')\";\n",
       "      cell.notebook.kernel.execute(cmd);\n",
       "    }\n",
       "  }\n",
       "\n",
       "  /**\n",
       "   * Handle when a new output is added\n",
       "   */\n",
       "  function handleAddOutput(event, handle) {\n",
       "    var output_area = handle.output_area;\n",
       "    var output = handle.output;\n",
       "\n",
       "    // limit handleAddOutput to display_data with EXEC_MIME_TYPE content only\n",
       "    if ((output.output_type != \"display_data\") || (!output.data.hasOwnProperty(EXEC_MIME_TYPE))) {\n",
       "      return\n",
       "    }\n",
       "\n",
       "    var toinsert = output_area.element.find(\".\" + CLASS_NAME.split(' ')[0]);\n",
       "\n",
       "    if (output.metadata[EXEC_MIME_TYPE][\"id\"] !== undefined) {\n",
       "      toinsert[toinsert.length - 1].firstChild.textContent = output.data[JS_MIME_TYPE];\n",
       "      // store reference to embed id on output_area\n",
       "      output_area._bokeh_element_id = output.metadata[EXEC_MIME_TYPE][\"id\"];\n",
       "    }\n",
       "    if (output.metadata[EXEC_MIME_TYPE][\"server_id\"] !== undefined) {\n",
       "      var bk_div = document.createElement(\"div\");\n",
       "      bk_div.innerHTML = output.data[HTML_MIME_TYPE];\n",
       "      var script_attrs = bk_div.children[0].attributes;\n",
       "      for (var i = 0; i < script_attrs.length; i++) {\n",
       "        toinsert[toinsert.length - 1].firstChild.setAttribute(script_attrs[i].name, script_attrs[i].value);\n",
       "      }\n",
       "      // store reference to server id on output_area\n",
       "      output_area._bokeh_server_id = output.metadata[EXEC_MIME_TYPE][\"server_id\"];\n",
       "    }\n",
       "  }\n",
       "\n",
       "  function register_renderer(events, OutputArea) {\n",
       "\n",
       "    function append_mime(data, metadata, element) {\n",
       "      // create a DOM node to render to\n",
       "      var toinsert = this.create_output_subarea(\n",
       "        metadata,\n",
       "        CLASS_NAME,\n",
       "        EXEC_MIME_TYPE\n",
       "      );\n",
       "      this.keyboard_manager.register_events(toinsert);\n",
       "      // Render to node\n",
       "      var props = {data: data, metadata: metadata[EXEC_MIME_TYPE]};\n",
       "      render(props, toinsert[toinsert.length - 1]);\n",
       "      element.append(toinsert);\n",
       "      return toinsert\n",
       "    }\n",
       "\n",
       "    /* Handle when an output is cleared or removed */\n",
       "    events.on('clear_output.CodeCell', handleClearOutput);\n",
       "    events.on('delete.Cell', handleClearOutput);\n",
       "\n",
       "    /* Handle when a new output is added */\n",
       "    events.on('output_added.OutputArea', handleAddOutput);\n",
       "\n",
       "    /**\n",
       "     * Register the mime type and append_mime function with output_area\n",
       "     */\n",
       "    OutputArea.prototype.register_mime_type(EXEC_MIME_TYPE, append_mime, {\n",
       "      /* Is output safe? */\n",
       "      safe: true,\n",
       "      /* Index of renderer in `output_area.display_order` */\n",
       "      index: 0\n",
       "    });\n",
       "  }\n",
       "\n",
       "  // register the mime type if in Jupyter Notebook environment and previously unregistered\n",
       "  if (root.Jupyter !== undefined) {\n",
       "    var events = require('base/js/events');\n",
       "    var OutputArea = require('notebook/js/outputarea').OutputArea;\n",
       "\n",
       "    if (OutputArea.prototype.mime_types().indexOf(EXEC_MIME_TYPE) == -1) {\n",
       "      register_renderer(events, OutputArea);\n",
       "    }\n",
       "  }\n",
       "\n",
       "  \n",
       "  if (typeof (root._bokeh_timeout) === \"undefined\" || force === true) {\n",
       "    root._bokeh_timeout = Date.now() + 5000;\n",
       "    root._bokeh_failed_load = false;\n",
       "  }\n",
       "\n",
       "  var NB_LOAD_WARNING = {'data': {'text/html':\n",
       "     \"<div style='background-color: #fdd'>\\n\"+\n",
       "     \"<p>\\n\"+\n",
       "     \"BokehJS does not appear to have successfully loaded. If loading BokehJS from CDN, this \\n\"+\n",
       "     \"may be due to a slow or bad network connection. Possible fixes:\\n\"+\n",
       "     \"</p>\\n\"+\n",
       "     \"<ul>\\n\"+\n",
       "     \"<li>re-rerun `output_notebook()` to attempt to load from CDN again, or</li>\\n\"+\n",
       "     \"<li>use INLINE resources instead, as so:</li>\\n\"+\n",
       "     \"</ul>\\n\"+\n",
       "     \"<code>\\n\"+\n",
       "     \"from bokeh.resources import INLINE\\n\"+\n",
       "     \"output_notebook(resources=INLINE)\\n\"+\n",
       "     \"</code>\\n\"+\n",
       "     \"</div>\"}};\n",
       "\n",
       "  function display_loaded() {\n",
       "    var el = document.getElementById(\"323d2fe7-507b-42f0-a89d-5c626fe6bfde\");\n",
       "    if (el != null) {\n",
       "      el.textContent = \"BokehJS is loading...\";\n",
       "    }\n",
       "    if (root.Bokeh !== undefined) {\n",
       "      if (el != null) {\n",
       "        el.textContent = \"BokehJS \" + root.Bokeh.version + \" successfully loaded.\";\n",
       "      }\n",
       "    } else if (Date.now() < root._bokeh_timeout) {\n",
       "      setTimeout(display_loaded, 100)\n",
       "    }\n",
       "  }\n",
       "\n",
       "\n",
       "  function run_callbacks() {\n",
       "    try {\n",
       "      root._bokeh_onload_callbacks.forEach(function(callback) { callback() });\n",
       "    }\n",
       "    finally {\n",
       "      delete root._bokeh_onload_callbacks\n",
       "    }\n",
       "    console.info(\"Bokeh: all callbacks have finished\");\n",
       "  }\n",
       "\n",
       "  function load_libs(js_urls, callback) {\n",
       "    root._bokeh_onload_callbacks.push(callback);\n",
       "    if (root._bokeh_is_loading > 0) {\n",
       "      console.log(\"Bokeh: BokehJS is being loaded, scheduling callback at\", now());\n",
       "      return null;\n",
       "    }\n",
       "    if (js_urls == null || js_urls.length === 0) {\n",
       "      run_callbacks();\n",
       "      return null;\n",
       "    }\n",
       "    console.log(\"Bokeh: BokehJS not loaded, scheduling load and callback at\", now());\n",
       "    root._bokeh_is_loading = js_urls.length;\n",
       "    for (var i = 0; i < js_urls.length; i++) {\n",
       "      var url = js_urls[i];\n",
       "      var s = document.createElement('script');\n",
       "      s.src = url;\n",
       "      s.async = false;\n",
       "      s.onreadystatechange = s.onload = function() {\n",
       "        root._bokeh_is_loading--;\n",
       "        if (root._bokeh_is_loading === 0) {\n",
       "          console.log(\"Bokeh: all BokehJS libraries loaded\");\n",
       "          run_callbacks()\n",
       "        }\n",
       "      };\n",
       "      s.onerror = function() {\n",
       "        console.warn(\"failed to load library \" + url);\n",
       "      };\n",
       "      console.log(\"Bokeh: injecting script tag for BokehJS library: \", url);\n",
       "      document.getElementsByTagName(\"head\")[0].appendChild(s);\n",
       "    }\n",
       "  };var element = document.getElementById(\"323d2fe7-507b-42f0-a89d-5c626fe6bfde\");\n",
       "  if (element == null) {\n",
       "    console.log(\"Bokeh: ERROR: autoload.js configured with elementid '323d2fe7-507b-42f0-a89d-5c626fe6bfde' but no matching script tag was found. \")\n",
       "    return false;\n",
       "  }\n",
       "\n",
       "  var js_urls = [\"https://cdn.pydata.org/bokeh/release/bokeh-0.12.16.min.js\", \"https://cdn.pydata.org/bokeh/release/bokeh-widgets-0.12.16.min.js\", \"https://cdn.pydata.org/bokeh/release/bokeh-tables-0.12.16.min.js\", \"https://cdn.pydata.org/bokeh/release/bokeh-gl-0.12.16.min.js\"];\n",
       "\n",
       "  var inline_js = [\n",
       "    function(Bokeh) {\n",
       "      Bokeh.set_log_level(\"info\");\n",
       "    },\n",
       "    \n",
       "    function(Bokeh) {\n",
       "      \n",
       "    },\n",
       "    function(Bokeh) {\n",
       "      console.log(\"Bokeh: injecting CSS: https://cdn.pydata.org/bokeh/release/bokeh-0.12.16.min.css\");\n",
       "      Bokeh.embed.inject_css(\"https://cdn.pydata.org/bokeh/release/bokeh-0.12.16.min.css\");\n",
       "      console.log(\"Bokeh: injecting CSS: https://cdn.pydata.org/bokeh/release/bokeh-widgets-0.12.16.min.css\");\n",
       "      Bokeh.embed.inject_css(\"https://cdn.pydata.org/bokeh/release/bokeh-widgets-0.12.16.min.css\");\n",
       "      console.log(\"Bokeh: injecting CSS: https://cdn.pydata.org/bokeh/release/bokeh-tables-0.12.16.min.css\");\n",
       "      Bokeh.embed.inject_css(\"https://cdn.pydata.org/bokeh/release/bokeh-tables-0.12.16.min.css\");\n",
       "    }\n",
       "  ];\n",
       "\n",
       "  function run_inline_js() {\n",
       "    \n",
       "    if ((root.Bokeh !== undefined) || (force === true)) {\n",
       "      for (var i = 0; i < inline_js.length; i++) {\n",
       "        inline_js[i].call(root, root.Bokeh);\n",
       "      }if (force === true) {\n",
       "        display_loaded();\n",
       "      }} else if (Date.now() < root._bokeh_timeout) {\n",
       "      setTimeout(run_inline_js, 100);\n",
       "    } else if (!root._bokeh_failed_load) {\n",
       "      console.log(\"Bokeh: BokehJS failed to load within specified timeout.\");\n",
       "      root._bokeh_failed_load = true;\n",
       "    } else if (force !== true) {\n",
       "      var cell = $(document.getElementById(\"323d2fe7-507b-42f0-a89d-5c626fe6bfde\")).parents('.cell').data().cell;\n",
       "      cell.output_area.append_execute_result(NB_LOAD_WARNING)\n",
       "    }\n",
       "\n",
       "  }\n",
       "\n",
       "  if (root._bokeh_is_loading === 0) {\n",
       "    console.log(\"Bokeh: BokehJS loaded, going straight to plotting\");\n",
       "    run_inline_js();\n",
       "  } else {\n",
       "    load_libs(js_urls, function() {\n",
       "      console.log(\"Bokeh: BokehJS plotting callback run at\", now());\n",
       "      run_inline_js();\n",
       "    });\n",
       "  }\n",
       "}(window));"
      ],
      "application/vnd.bokehjs_load.v0+json": "\n(function(root) {\n  function now() {\n    return new Date();\n  }\n\n  var force = true;\n\n  if (typeof (root._bokeh_onload_callbacks) === \"undefined\" || force === true) {\n    root._bokeh_onload_callbacks = [];\n    root._bokeh_is_loading = undefined;\n  }\n\n  \n\n  \n  if (typeof (root._bokeh_timeout) === \"undefined\" || force === true) {\n    root._bokeh_timeout = Date.now() + 5000;\n    root._bokeh_failed_load = false;\n  }\n\n  var NB_LOAD_WARNING = {'data': {'text/html':\n     \"<div style='background-color: #fdd'>\\n\"+\n     \"<p>\\n\"+\n     \"BokehJS does not appear to have successfully loaded. If loading BokehJS from CDN, this \\n\"+\n     \"may be due to a slow or bad network connection. Possible fixes:\\n\"+\n     \"</p>\\n\"+\n     \"<ul>\\n\"+\n     \"<li>re-rerun `output_notebook()` to attempt to load from CDN again, or</li>\\n\"+\n     \"<li>use INLINE resources instead, as so:</li>\\n\"+\n     \"</ul>\\n\"+\n     \"<code>\\n\"+\n     \"from bokeh.resources import INLINE\\n\"+\n     \"output_notebook(resources=INLINE)\\n\"+\n     \"</code>\\n\"+\n     \"</div>\"}};\n\n  function display_loaded() {\n    var el = document.getElementById(\"323d2fe7-507b-42f0-a89d-5c626fe6bfde\");\n    if (el != null) {\n      el.textContent = \"BokehJS is loading...\";\n    }\n    if (root.Bokeh !== undefined) {\n      if (el != null) {\n        el.textContent = \"BokehJS \" + root.Bokeh.version + \" successfully loaded.\";\n      }\n    } else if (Date.now() < root._bokeh_timeout) {\n      setTimeout(display_loaded, 100)\n    }\n  }\n\n\n  function run_callbacks() {\n    try {\n      root._bokeh_onload_callbacks.forEach(function(callback) { callback() });\n    }\n    finally {\n      delete root._bokeh_onload_callbacks\n    }\n    console.info(\"Bokeh: all callbacks have finished\");\n  }\n\n  function load_libs(js_urls, callback) {\n    root._bokeh_onload_callbacks.push(callback);\n    if (root._bokeh_is_loading > 0) {\n      console.log(\"Bokeh: BokehJS is being loaded, scheduling callback at\", now());\n      return null;\n    }\n    if (js_urls == null || js_urls.length === 0) {\n      run_callbacks();\n      return null;\n    }\n    console.log(\"Bokeh: BokehJS not loaded, scheduling load and callback at\", now());\n    root._bokeh_is_loading = js_urls.length;\n    for (var i = 0; i < js_urls.length; i++) {\n      var url = js_urls[i];\n      var s = document.createElement('script');\n      s.src = url;\n      s.async = false;\n      s.onreadystatechange = s.onload = function() {\n        root._bokeh_is_loading--;\n        if (root._bokeh_is_loading === 0) {\n          console.log(\"Bokeh: all BokehJS libraries loaded\");\n          run_callbacks()\n        }\n      };\n      s.onerror = function() {\n        console.warn(\"failed to load library \" + url);\n      };\n      console.log(\"Bokeh: injecting script tag for BokehJS library: \", url);\n      document.getElementsByTagName(\"head\")[0].appendChild(s);\n    }\n  };var element = document.getElementById(\"323d2fe7-507b-42f0-a89d-5c626fe6bfde\");\n  if (element == null) {\n    console.log(\"Bokeh: ERROR: autoload.js configured with elementid '323d2fe7-507b-42f0-a89d-5c626fe6bfde' but no matching script tag was found. \")\n    return false;\n  }\n\n  var js_urls = [\"https://cdn.pydata.org/bokeh/release/bokeh-0.12.16.min.js\", \"https://cdn.pydata.org/bokeh/release/bokeh-widgets-0.12.16.min.js\", \"https://cdn.pydata.org/bokeh/release/bokeh-tables-0.12.16.min.js\", \"https://cdn.pydata.org/bokeh/release/bokeh-gl-0.12.16.min.js\"];\n\n  var inline_js = [\n    function(Bokeh) {\n      Bokeh.set_log_level(\"info\");\n    },\n    \n    function(Bokeh) {\n      \n    },\n    function(Bokeh) {\n      console.log(\"Bokeh: injecting CSS: https://cdn.pydata.org/bokeh/release/bokeh-0.12.16.min.css\");\n      Bokeh.embed.inject_css(\"https://cdn.pydata.org/bokeh/release/bokeh-0.12.16.min.css\");\n      console.log(\"Bokeh: injecting CSS: https://cdn.pydata.org/bokeh/release/bokeh-widgets-0.12.16.min.css\");\n      Bokeh.embed.inject_css(\"https://cdn.pydata.org/bokeh/release/bokeh-widgets-0.12.16.min.css\");\n      console.log(\"Bokeh: injecting CSS: https://cdn.pydata.org/bokeh/release/bokeh-tables-0.12.16.min.css\");\n      Bokeh.embed.inject_css(\"https://cdn.pydata.org/bokeh/release/bokeh-tables-0.12.16.min.css\");\n    }\n  ];\n\n  function run_inline_js() {\n    \n    if ((root.Bokeh !== undefined) || (force === true)) {\n      for (var i = 0; i < inline_js.length; i++) {\n        inline_js[i].call(root, root.Bokeh);\n      }if (force === true) {\n        display_loaded();\n      }} else if (Date.now() < root._bokeh_timeout) {\n      setTimeout(run_inline_js, 100);\n    } else if (!root._bokeh_failed_load) {\n      console.log(\"Bokeh: BokehJS failed to load within specified timeout.\");\n      root._bokeh_failed_load = true;\n    } else if (force !== true) {\n      var cell = $(document.getElementById(\"323d2fe7-507b-42f0-a89d-5c626fe6bfde\")).parents('.cell').data().cell;\n      cell.output_area.append_execute_result(NB_LOAD_WARNING)\n    }\n\n  }\n\n  if (root._bokeh_is_loading === 0) {\n    console.log(\"Bokeh: BokehJS loaded, going straight to plotting\");\n    run_inline_js();\n  } else {\n    load_libs(js_urls, function() {\n      console.log(\"Bokeh: BokehJS plotting callback run at\", now());\n      run_inline_js();\n    });\n  }\n}(window));"
     },
     "metadata": {},
     "output_type": "display_data"
    }
   ],
   "source": [
    "output_notebook()"
   ]
  },
  {
   "cell_type": "code",
   "execution_count": 8,
   "metadata": {
    "collapsed": true
   },
   "outputs": [],
   "source": [
    "def fmt_cool(ds_in):\n",
    "    ds = ds_in.copy(deep=True)\n",
    "    if 'igg' in ds.dims:\n",
    "        ds = ds.sel(igg=1)\n",
    "\n",
    "    if 'g' in ds.dims:\n",
    "        ds = ds.sum('g')\n",
    "            \n",
    "    if 'band' in ds.dims:\n",
    "        try:\n",
    "            ds = ds.squeeze('band')\n",
    "        except ValueError:\n",
    "            ds = ds.sum('band')\n",
    "                \n",
    "    return ds['coolrg']\n",
    "\n",
    "\n",
    "def pltdata_cooling_1(ds_cool=None,\n",
    "                      ds_cool_crd=None, ds_cool_wgt=None):\n",
    "    \n",
    "\n",
    "\n",
    "    colors = all_palettes['Set1'][4]\n",
    "    data = [{'label': 'CLIRAD `coolr_bands`',\n",
    "             'srs': fmt_cool(ds_cool),\n",
    "             'line_dash': 'dashed', 'line_width': 5,\n",
    "             'color': colors[0], 'alpha': .6},\n",
    "            {'label': 'CRD',\n",
    "             'srs': fmt_cool(ds_cool_crd),\n",
    "             'line_dash': 'solid', 'line_width': 1.5,\n",
    "             'marker': 'circle', 'marker_size': 5,\n",
    "             'color': colors[2], 'alpha': 1,},\n",
    "            {'label': 'WGT igg=10 wgt_flux=2',\n",
    "             'srs': fmt_cool(ds_cool_wgt),\n",
    "             'line_dash': 'solid', 'line_width': 3,\n",
    "             'marker': 'square', 'marker_size': 5,\n",
    "             'color': colors[3], 'alpha': .6}]\n",
    "    return data\n",
    "\n",
    "\n",
    "def nice_xlims(pltdata=None, prange=None):\n",
    "    \n",
    "    def get_slice(srs):\n",
    "        return srs.sel(pressure=slice(*prange))\n",
    "    \n",
    "    srss = [d['srs'] for d in pltdata]\n",
    "    vmin = min([get_slice(srs).min() for srs in srss])\n",
    "    vmax = max([get_slice(srs).max() for srs in srss])\n",
    "    dv = (vmax - vmin) * .01\n",
    "    return float(vmin - dv), float(vmax + dv)\n",
    "    \n",
    "\n",
    "def plt_cooling_bokeh(pltdata=None):\n",
    "    '''\n",
    "    Plot a list of cooling rate profiles using bokeh.\n",
    "    '''\n",
    "    ymin = 1e-2 \n",
    "    ymax = 1020 \n",
    "        \n",
    "    p1 = figure(title=\"Linear pressure scale\", \n",
    "                plot_width=400)        \n",
    "    xmin, xmax = nice_xlims(pltdata, prange=(50, 1050))\n",
    "    for d in pltdata:\n",
    "        if 'marker' in d:\n",
    "            getattr(p1, d['marker'])(d['srs'].values, \n",
    "                    d['srs'].coords['pressure'].values,\n",
    "                    color=d['color'], alpha=.7)\n",
    "        p1.line(d['srs'].values, \n",
    "                d['srs'].coords['pressure'].values,\n",
    "                color=d['color'], alpha=d['alpha'], \n",
    "                line_width=d['line_width'], line_dash=d['line_dash'])\n",
    "    \n",
    "    p1.y_range = Range1d(ymax, ymin)\n",
    "    p1.yaxis.axis_label = 'pressure [mb]'   \n",
    "    p1.x_range = Range1d(xmin, xmax)\n",
    "    p1.xaxis.axis_label = 'cooling rate [K/day]'\n",
    "            \n",
    "    p2 = figure(title='Log pressure scale', y_axis_type='log',\n",
    "                plot_width=560)\n",
    "    xmin, xmax = nice_xlims(pltdata, prange=(.01, 200))\n",
    "    \n",
    "    rs = []\n",
    "    for d in pltdata:\n",
    "        rd = []\n",
    "        if 'marker' in d:\n",
    "            r_mark = getattr(p2, d['marker'])(d['srs'].values, \n",
    "                        d['srs'].coords['pressure'].values,\n",
    "                        color=d['color'], alpha=.7)\n",
    "            rd.append(r_mark)\n",
    "        r_line = p2.line(d['srs'].values, \n",
    "                    d['srs'].coords['pressure'].values,\n",
    "                    color=d['color'], alpha=d['alpha'], \n",
    "                    line_width=d['line_width'], line_dash=d['line_dash'])\n",
    "        rd.append(r_line)\n",
    "      \n",
    "        rs.append(rd)\n",
    "        \n",
    "    p2.y_range = Range1d(ymax, ymin)  \n",
    "    p2.yaxis.axis_label = 'pressure [mb]'\n",
    "    \n",
    "    p2.x_range = Range1d(xmin, xmax)\n",
    "    p2.xaxis.axis_label = 'cooling rate [K/day]'\n",
    "    \n",
    "    items = [(d['label'], r) for r, d in zip(rs, pltdata)]\n",
    "    legend = Legend(items=items, location=(10, -30))\n",
    "    legend.label_text_font_size = '8pt'\n",
    "    \n",
    "    p2.add_layout(legend, 'right')  \n",
    "    \n",
    "    show(gridplot(p1, p2, ncols=2, plot_height=500))\n",
    "    \n",
    "\n",
    "def script_plt_cooling():\n",
    "    pltdata = pltdata_cooling_1(\n",
    "        ds_cool=DS_COOL,\n",
    "        ds_cool_crd=DS_COOL_CRD,\n",
    "        ds_cool_wgt=DS_COOL_WGT)\n",
    "    plt_cooling_bokeh(pltdata=pltdata)\n",
    "    print('''FIGURE. Cooling rate profiles.''')"
   ]
  },
  {
   "cell_type": "code",
   "execution_count": 9,
   "metadata": {
    "collapsed": true
   },
   "outputs": [
    {
     "name": "stdout",
     "output_type": "stream",
     "text": [
      "The history saving thread hit an unexpected error (OperationalError('database is locked',)).History will not be written to the database.\n"
     ]
    }
   ],
   "source": [
    "def fmt_flux(ds_in):\n",
    "    ds = ds_in.copy(deep=True)\n",
    "    \n",
    "    for l in ('level', 'layer'):\n",
    "        if l in ds.data_vars:\n",
    "            if len(ds[l].dims) > 1:\n",
    "                surface = {d: 0 for d in ds.dims if d != 'pressure'}\n",
    "                coord_level = ds[l][surface]\n",
    "                ds.coords[l] = ('pressure', coord_level)\n",
    "            else:\n",
    "                ds.coords[l] = ('pressure', ds[l])\n",
    "        \n",
    "    ds = ds.isel(pressure=[0, 23, -1])\n",
    "        \n",
    "    if 'igg' in ds.dims:\n",
    "        ds = ds.sel(igg=[1])\n",
    "        ds = ds.squeeze('igg').drop('igg')\n",
    "    \n",
    "    if 'g' in ds.dims:\n",
    "        ds = ds.sum('g')\n",
    "            \n",
    "    if 'band' in ds.dims:\n",
    "        try:\n",
    "            ds = ds.squeeze('band').drop('band')\n",
    "        except ValueError:\n",
    "            ds = ds.sum('band')\n",
    "                \n",
    "    df = ds.to_dataframe()\n",
    "    df = df.set_index('level', append=True)               \n",
    "    return df\n",
    "\n",
    "\n",
    "def tbdata_flux(ds_flux=None, ds_flux_crd=None, ds_flux_wgt=None):\n",
    "    ilevels = [0, 23, -1]\n",
    "            \n",
    "    benchmark = {'label': 'CRD',\n",
    "                 'df': fmt_flux(ds_flux_crd)}\n",
    "    \n",
    "    tbs = [{'label': 'WGT igg=10 wgt_flux=1',\n",
    "            'df': fmt_flux(ds_flux_wgt)},\n",
    "           {'label': 'CLIRAD',\n",
    "            'df': fmt_flux(ds_flux)}]\n",
    "    \n",
    "    data = {'benchmark': benchmark, 'others': tbs}\n",
    "    return data\n",
    "\n",
    "\n",
    "def tb_flux(tbdata=None):\n",
    "    benchmark = tbdata['benchmark']\n",
    "    others = tbdata['others']\n",
    "    \n",
    "    def show_tb(d=None):\n",
    "        display.display(d['df'])\n",
    "        print('Table.', 'Fluxes.', d['label'])\n",
    "        \n",
    "    def show_tbdiff(d0=None, d=None):\n",
    "        df = d['df']\n",
    "        df.index = d0['df'].index\n",
    "        display.display(df - d0['df'])\n",
    "        print('Table.', 'Fluxes.', \n",
    "              '({}) - ({})'.format(d['label'], d0['label']))\n",
    "        \n",
    "    show_tb(benchmark)\n",
    "    for d in others:\n",
    "        show_tb(d)\n",
    "        \n",
    "    for d in others:\n",
    "        show_tbdiff(d=d, d0=benchmark)\n",
    "        \n",
    "        \n",
    "def script_tb_flux():\n",
    "    data = tbdata_flux(ds_flux=DS_FLUX,\n",
    "                       ds_flux_crd=DS_FLUX_CRD,\n",
    "                       ds_flux_wgt=DS_FLUX_WGT)\n",
    "    tb_flux(tbdata=data)"
   ]
  },
  {
   "cell_type": "code",
   "execution_count": 10,
   "metadata": {
    "collapsed": true
   },
   "outputs": [],
   "source": [
    "def band_map():\n",
    "    '''\n",
    "    Maps spectral bands in lblnew to spectral bands in clirad.\n",
    "    '''\n",
    "    lblnew2clirad = {'1': '1',\n",
    "            '2': '2',\n",
    "            '3a': '3',\n",
    "            '3b': '4',\n",
    "            '3c': '5',\n",
    "            '4': '6', \n",
    "            '5': '7',\n",
    "            '6': '8',\n",
    "            '7': '9', \n",
    "            '8': '10',\n",
    "            '9': '11'}\n",
    "    \n",
    "    clirad2lblnew = {clirad: lblnew \n",
    "                     for lblnew, clirad in lblnew2clirad.items()}\n",
    "    return clirad2lblnew\n",
    "\n",
    "\n",
    "def gasbands():\n",
    "    bmap = band_map()\n",
    "    gases = list(PARAM['molecule'].keys())\n",
    "    \n",
    "    bands = [bmap[str(b)] for b in PARAM['band']]\n",
    "    return list(itertools.product(gases, bands))\n",
    "\n",
    "\n",
    "def print_bestfit_params():\n",
    "    print('Best-fit values for each (gas, band)')\n",
    "    print('------------------------------------')\n",
    "    for gas, band in gasbands():\n",
    "        print('o {} band{}'.format(gas, band))\n",
    "        param = bestfits.kdist_params(molecule=gas, band=band)\n",
    "        for name, value in sorted(param.items()):\n",
    "            print(2 * ' ' + '{} = {}'.format(name, value))\n",
    "\n",
    "        \n",
    "def print_input_param():        \n",
    "    for name, value in PARAM.items():\n",
    "        print('{} = {}'.format(name, value))\n",
    "        \n",
    "        \n",
    "def print_lblnew_param():\n",
    "    for name, value in sorted(PARAM_LBLNEW.items()):\n",
    "        print('{} = {}'.format(name, value))\n"
   ]
  },
  {
   "cell_type": "code",
   "execution_count": 11,
   "metadata": {
    "collapsed": true,
    "scrolled": false
   },
   "outputs": [],
   "source": [
    "def show_html(s):\n",
    "    display.display(display.HTML(s))\n",
    "\n",
    "    \n",
    "def show_markdown(s):\n",
    "    display.display(display.Markdown(s))\n",
    "\n",
    "    \n",
    "def script():\n",
    "    \n",
    "    title = '### CLIRAD-LW'\n",
    "    s_input = 'Input Parameters'\n",
    "    s_lblnew_param = 'LBLNEW case compaired against'\n",
    "    s_bestfits = 'Best-fit Parameters'\n",
    "    s_plt_cooling = 'Cooling Rate Profiles'\n",
    "    s_tb_flux = 'Flux Comparison'\n",
    "    \n",
    "    # title\n",
    "    show_markdown('### CLIRAD-LW')\n",
    "    \n",
    "    # TOC\n",
    "    show_markdown('### Table of Contents')\n",
    "    show_html(climahtml.getHTML_hrefanchor(s_input))\n",
    "    show_html(climahtml.getHTML_hrefanchor(s_lblnew_param))\n",
    "    show_html(climahtml.getHTML_hrefanchor(s_plt_cooling))\n",
    "    show_html(climahtml.getHTML_hrefanchor(s_tb_flux))\n",
    "    show_html(climahtml.getHTML_hrefanchor(s_bestfits))\n",
    "    \n",
    "    # Input parameters\n",
    "    show_html(climahtml.getHTML_idanchor(s_input))\n",
    "    show_markdown(climahtml.getMarkdown_sectitle(s_input))\n",
    "    print_input_param()\n",
    "    \n",
    "    # LBLNEW parameters \n",
    "    show_html(climahtml.getHTML_idanchor(s_lblnew_param))\n",
    "    show_markdown(climahtml.getMarkdown_sectitle(s_lblnew_param))\n",
    "    print_lblnew_param()\n",
    "    \n",
    "    # Cooling rate profiles\n",
    "    show_html(climahtml.getHTML_idanchor(s_plt_cooling))\n",
    "    show_markdown(climahtml.getMarkdown_sectitle(s_plt_cooling))\n",
    "    script_plt_cooling()\n",
    "    \n",
    "    # Flux comparison\n",
    "    show_html(climahtml.getHTML_idanchor(s_tb_flux))\n",
    "    show_markdown(climahtml.getMarkdown_sectitle(s_tb_flux))\n",
    "    script_tb_flux()\n",
    "    \n",
    "    # Best-fit values\n",
    "    show_html(climahtml.getHTML_idanchor(s_bestfits))\n",
    "    show_markdown(climahtml.getMarkdown_sectitle(s_bestfits))\n",
    "    print_bestfit_params()\n",
    "   \n",
    "    "
   ]
  },
  {
   "cell_type": "code",
   "execution_count": 12,
   "metadata": {
    "collapsed": true,
    "scrolled": false
   },
   "outputs": [
    {
     "data": {
      "text/markdown": [
       "### CLIRAD-LW"
      ],
      "text/plain": [
       "<IPython.core.display.Markdown object>"
      ]
     },
     "metadata": {},
     "output_type": "display_data"
    },
    {
     "data": {
      "text/markdown": [
       "### Table of Contents"
      ],
      "text/plain": [
       "<IPython.core.display.Markdown object>"
      ]
     },
     "metadata": {},
     "output_type": "display_data"
    },
    {
     "data": {
      "text/html": [
       "<a href=\"#Input_Parameters\">Input Parameters</a>"
      ],
      "text/plain": [
       "<IPython.core.display.HTML object>"
      ]
     },
     "metadata": {},
     "output_type": "display_data"
    },
    {
     "data": {
      "text/html": [
       "<a href=\"#LBLNEW_case_compaired_against\">LBLNEW case compaired against</a>"
      ],
      "text/plain": [
       "<IPython.core.display.HTML object>"
      ]
     },
     "metadata": {},
     "output_type": "display_data"
    },
    {
     "data": {
      "text/html": [
       "<a href=\"#Cooling_Rate_Profiles\">Cooling Rate Profiles</a>"
      ],
      "text/plain": [
       "<IPython.core.display.HTML object>"
      ]
     },
     "metadata": {},
     "output_type": "display_data"
    },
    {
     "data": {
      "text/html": [
       "<a href=\"#Flux_Comparison\">Flux Comparison</a>"
      ],
      "text/plain": [
       "<IPython.core.display.HTML object>"
      ]
     },
     "metadata": {},
     "output_type": "display_data"
    },
    {
     "data": {
      "text/html": [
       "<a href=\"#Best-fit_Parameters\">Best-fit Parameters</a>"
      ],
      "text/plain": [
       "<IPython.core.display.HTML object>"
      ]
     },
     "metadata": {},
     "output_type": "display_data"
    },
    {
     "data": {
      "text/html": [
       "<a id=\"Input_Parameters\"></a>"
      ],
      "text/plain": [
       "<IPython.core.display.HTML object>"
      ]
     },
     "metadata": {},
     "output_type": "display_data"
    },
    {
     "data": {
      "text/markdown": [
       "# Input Parameters"
      ],
      "text/plain": [
       "<IPython.core.display.Markdown object>"
      ]
     },
     "metadata": {},
     "output_type": "display_data"
    },
    {
     "name": "stdout",
     "output_type": "stream",
     "text": [
      "commitnumber = de5d43e\n",
      "molecule = {'h2o': 'atmpro', 'co2': 0.0004}\n",
      "band = [4]\n",
      "atmpro = trp\n",
      "tsfc = 300\n"
     ]
    },
    {
     "data": {
      "text/html": [
       "<a id=\"LBLNEW_case_compaired_against\"></a>"
      ],
      "text/plain": [
       "<IPython.core.display.HTML object>"
      ]
     },
     "metadata": {},
     "output_type": "display_data"
    },
    {
     "data": {
      "text/markdown": [
       "# LBLNEW case compaired against"
      ],
      "text/plain": [
       "<IPython.core.display.Markdown object>"
      ]
     },
     "metadata": {},
     "output_type": "display_data"
    },
    {
     "name": "stdout",
     "output_type": "stream",
     "text": [
      "atmpro = trp\n",
      "band = 3b\n",
      "commitnumber = 5014a19\n",
      "dv = 0.001\n",
      "molecule = {'h2o': 'atmpro', 'co2': 0.0004}\n",
      "nv = 1000\n",
      "tsfc = 300\n"
     ]
    },
    {
     "data": {
      "text/html": [
       "<a id=\"Cooling_Rate_Profiles\"></a>"
      ],
      "text/plain": [
       "<IPython.core.display.HTML object>"
      ]
     },
     "metadata": {},
     "output_type": "display_data"
    },
    {
     "data": {
      "text/markdown": [
       "# Cooling Rate Profiles"
      ],
      "text/plain": [
       "<IPython.core.display.Markdown object>"
      ]
     },
     "metadata": {},
     "output_type": "display_data"
    },
    {
     "data": {
      "text/html": [
       "\n",
       "<div class=\"bk-root\">\n",
       "    <div class=\"bk-plotdiv\" id=\"416898d9-e4b3-4903-9929-763d8cd3c9f8\"></div>\n",
       "</div>"
      ]
     },
     "metadata": {},
     "output_type": "display_data"
    },
    {
     "data": {
      "application/javascript": [
       "(function(root) {\n",
       "  function embed_document(root) {\n",
       "    \n",
       "  var docs_json = {\"17c986f8-d156-4252-b547-9cd5e0639c45\":{\"roots\":{\"references\":[{\"attributes\":{},\"id\":\"240dd12a-b1e6-4a7c-99e3-196b1a24f0b9\",\"type\":\"ResetTool\"},{\"attributes\":{\"data_source\":{\"id\":\"ccc73824-502c-4f89-8bff-0e87085eed3b\",\"type\":\"ColumnDataSource\"},\"glyph\":{\"id\":\"0a1ec808-0c1c-4f7f-b353-b77b029f0785\",\"type\":\"Line\"},\"hover_glyph\":null,\"muted_glyph\":null,\"nonselection_glyph\":{\"id\":\"9ab72125-6ec5-4829-bb92-b46648e6317e\",\"type\":\"Line\"},\"selection_glyph\":null,\"view\":{\"id\":\"2a682570-81d4-4d36-afe0-c081c40d2039\",\"type\":\"CDSView\"}},\"id\":\"733eb2f3-2822-40a0-aa6e-000740bed901\",\"type\":\"GlyphRenderer\"},{\"attributes\":{\"data_source\":{\"id\":\"ee93029f-a894-497b-824a-857fcdcfbec4\",\"type\":\"ColumnDataSource\"},\"glyph\":{\"id\":\"675d684f-8034-44b0-946a-afac02947956\",\"type\":\"Line\"},\"hover_glyph\":null,\"muted_glyph\":null,\"nonselection_glyph\":{\"id\":\"89e11177-0463-4731-9981-787d7e6f14c9\",\"type\":\"Line\"},\"selection_glyph\":null,\"view\":{\"id\":\"0f7560b6-6e69-4d3d-a991-9722be3dcd57\",\"type\":\"CDSView\"}},\"id\":\"40cba48d-ec26-4fa7-81a2-34b0268edc87\",\"type\":\"GlyphRenderer\"},{\"attributes\":{},\"id\":\"76e245bb-36ba-4fec-815d-0002b6a2de69\",\"type\":\"HelpTool\"},{\"attributes\":{\"bottom_units\":\"screen\",\"fill_alpha\":{\"value\":0.5},\"fill_color\":{\"value\":\"lightgrey\"},\"left_units\":\"screen\",\"level\":\"overlay\",\"line_alpha\":{\"value\":1.0},\"line_color\":{\"value\":\"black\"},\"line_dash\":[4,4],\"line_width\":{\"value\":2},\"plot\":null,\"render_mode\":\"css\",\"right_units\":\"screen\",\"top_units\":\"screen\"},\"id\":\"ece22592-4bba-4886-ba5e-65430b24928b\",\"type\":\"BoxAnnotation\"},{\"attributes\":{\"source\":{\"id\":\"ccc73824-502c-4f89-8bff-0e87085eed3b\",\"type\":\"ColumnDataSource\"}},\"id\":\"2a682570-81d4-4d36-afe0-c081c40d2039\",\"type\":\"CDSView\"},{\"attributes\":{\"dimension\":1,\"plot\":{\"id\":\"1105970e-ed42-46a2-8912-055abd3c60e2\",\"subtype\":\"Figure\",\"type\":\"Plot\"},\"ticker\":{\"id\":\"cf863834-93bb-4c55-a7f9-4674595ba7e9\",\"type\":\"LogTicker\"}},\"id\":\"b3641b1e-973f-4286-b66a-a457015db134\",\"type\":\"Grid\"},{\"attributes\":{\"line_alpha\":0.1,\"line_color\":\"#1f77b4\",\"line_width\":1.5,\"x\":{\"field\":\"x\"},\"y\":{\"field\":\"y\"}},\"id\":\"9ab72125-6ec5-4829-bb92-b46648e6317e\",\"type\":\"Line\"},{\"attributes\":{\"callback\":null,\"data\":{\"x\":{\"__ndarray__\":\"sFsExvo5U0DQ0aqWdIREQAQ6kzZVoUBAwTi4dMxlOkC28ScqG6o0QDM0ngjiFDBAtpvgm6YPKUBxgoDGlqcjQJQLOsa6FR9AlTIEW4C5GEAqYbcZuJ0TQHTVPEfkew5AJdqf1RP3BUDlcs0uKWj2P9OsIpLXWe8/YTYBhuUP/D8nCMMlbHQEQG/BrRYzbQlAYmngRzWsDkDgF/JjJ4cSQIaoZ+ZuJBdAOtZ74BnrHUBnnOFhNXEeQDcM1YM41RlAZsRgWcTrFUBQmEHG7bkRQPnbniCxHQ1AAjM6e8J9CEASVymYjL4EQPk0guikcgFAFD62wHnM/D+Pw2D+Chn3PzfqfNNP8/E/6RxuTdv76z++dXJExjzgP+oRVKFC9KE/STxuMol+0r9gICmeigbMvwe24szDypU/4avU7oKBsz8N+hT4cdG5P1DwXv+/+7w/b3qbJ2x5vj/DdkGO9/S+PzYdZAboxr4/3L/Lb0Ugvj8X+XELyCS9P2g8tgoH57s/RuzRI19suj8kK57+3OW4PyLpEo89W7c/gZ2i8MfXtT+3k8VTSF+0P5854eEa+LI/FJdaJCqqsT/3uP9gkXOwPwtexNyNvK4/KRXOGi4FrT9PmPM2fRCsP8+CBFCCuqw/xz7seNizrz8zYQM7YbaxP+QTXPN9TbE/Q4T+kB6Jqj/uLOlEXOKdP1NlUiINl4Y/oTCIjrQCaT/R+p6MBrRxP7szvwxZ7IE/SB+fAvOfiD+C+WjHxumLPwdF8wAW+Y0/CdvdcBCOkD+STFGlmwGWP4yuwbEdwsA/\",\"dtype\":\"float64\",\"shape\":[75]},\"y\":{\"__ndarray__\":\"GhExyth1ND/Sv8nbtpRIP2vylNV0PVE/aTum7souWD/At0SJ8fVgPw3Iuahxymc/MSNhhJWvcD/bTfBN02d3P2zb5nxnaoA/CD5h5MAGhz8NmeH1TyaQP+zrCsc9p5Y/LbKd76fGnz/bLW5ISEmmPww9YvTcQq8/JV2OstnstT8Er5Y7M8G+P0c+r3jqkcU/5h99k6ZBzj88bCIzFzjVP4enV8oyxN0//yH99nXg5D8qOpLLf0jtP5kqGJXUifQ/c9cS8kHP/D+/DpwzojQEQIEmwoanVwxA4lgXt9HgE0BSSZ2AJuIbQAMJih9jjiNA5q4l5INuK0AwTKYKRj0zQNv5fmq8/DpAaCJseHrtQkB/+zpwzoxKQM3MzMzMeFJAZmZmZmZqWEAAAAAAAFxeQM3MzMzMJmJAmpmZmZkfZUBmZmZmZhhoQDMzMzMzEWtAAAAAAAAKbkBmZmZmZoFwQM3MzMzM/XFAMzMzMzN6c0CamZmZmfZ0QAAAAAAAc3ZAZmZmZmbvd0DNzMzMzGt5QDMzMzMz6HpAmpmZmZlkfEAAAAAAAOF9QGZmZmZmXX9AZmZmZuZsgECamZmZGSuBQM3MzMxM6YFAAAAAAICngkAzMzMzs2WDQGZmZmbmI4RAmpmZmRnihEDNzMzMTKCFQAAAAACAXoZAMzMzM7Mch0BmZmZm5tqHQJqZmZkZmYhAzczMzExXiUAAAAAAgBWKQDMzMzOz04pAZmZmZuaRi0CamZmZGVCMQM3MzMxMDo1AAAAAAIDMjUAzMzMzs4qOQGZmZmbmSI9A\",\"dtype\":\"float64\",\"shape\":[75]}},\"selected\":{\"id\":\"20d651e7-35ec-4646-8c4e-3ad1f30a803b\",\"type\":\"Selection\"},\"selection_policy\":{\"id\":\"572f2216-ae0e-4707-9b64-a835706d36ba\",\"type\":\"UnionRenderers\"}},\"id\":\"ccc73824-502c-4f89-8bff-0e87085eed3b\",\"type\":\"ColumnDataSource\"},{\"attributes\":{\"source\":{\"id\":\"f57bc9a0-9906-4073-ad5b-947da8a95ae3\",\"type\":\"ColumnDataSource\"}},\"id\":\"274377e5-ac91-4e82-8ea8-712f34be48bb\",\"type\":\"CDSView\"},{\"attributes\":{},\"id\":\"f89496d5-cb9f-495c-b871-03094d4ffc38\",\"type\":\"BasicTicker\"},{\"attributes\":{},\"id\":\"dc8f04ba-f8fd-4b04-9b05-0f0792838d1d\",\"type\":\"PanTool\"},{\"attributes\":{\"line_color\":\"#4daf4a\",\"line_width\":1.5,\"x\":{\"field\":\"x\"},\"y\":{\"field\":\"y\"}},\"id\":\"bcefc32b-c45f-4013-b2b0-60d51891d831\",\"type\":\"Line\"},{\"attributes\":{\"callback\":null,\"data\":{\"x\":{\"__ndarray__\":\"LLmKxW+4RUDP2m0XmnlBQC5XPzbJ8z9ASU4mbhVQPEDLoNrgRCQ4QOcVTz3SrDNAiqazk8GJLkDXpUboZ6ImQJ3oXzcRTiBA9c/CVOnFF0BXTSGhdzQSQD1brE0IMg1Aj/dP3JadBkDknxnEBxb6P6pUPyWdl/M/BJ/VuO2x/j9i9rLttNUEQF78yAgDmghAuNMxQtMNDUAJ0RBEzPsRQHCJbZxecxdAUEBuGjblHkC3oigr4VQfQCmJNhFH2BlAtSkN63w+FUB1w1uMJowRQBUNYxxttg5AivrJvWWTCkDEl4kipM4FQGl0B7Ez9QFAbnQpCeRt/z9xR0lZ0OX6PxZHim33V/Q/D+Ch5rNV7T9sd3L6OILhP1UU8c6Ib7c/ktAzSW4F0r90Rcb2nGzOv8RMmDWcboQ/484GEnSxrj/qUUTIcY6zP68N4vFXwrQ/WmAdNKxDtT/r2MlfqOO1P7LWdjHSrbY/L5ZwiLtxtz8/Ld5GBfm3P5dJb+BXKrg/JNQRYlzhtz93KU8Cljq3Pwboxg0iRrY/xjhy6QcRtT9/iYJdcK2zP4M9p9KvKrI/KwVHQ3KksD8jI/jD9UauP0+ovis2cas/DzxeSz8WqT8cpKqAsJCnPzgRZb5vu6c/8K/mTE9iqj8w5w2I9AGuP2sHUS71Qq0/NNjrFcpNpT9fLdyRaASUPzo9vmhHHWE/GO6HmEU6db9m+uPF261pvxgcuYDkFWA/sjDf2VnWdz+j3MqKGUyAP80OoaRhbIM/VuwEO8sahz81+x05u32QP4F6rzEaP8A/\",\"dtype\":\"float64\",\"shape\":[75]},\"y\":{\"__ndarray__\":\"GhExyth1ND/Sv8nbtpRIP2vylNV0PVE/aTum7souWD/At0SJ8fVgPw3Iuahxymc/MSNhhJWvcD/bTfBN02d3P2zb5nxnaoA/CD5h5MAGhz8NmeH1TyaQP+zrCsc9p5Y/LbKd76fGnz/bLW5ISEmmPww9YvTcQq8/JV2OstnstT8Er5Y7M8G+P0c+r3jqkcU/5h99k6ZBzj88bCIzFzjVP4enV8oyxN0//yH99nXg5D8qOpLLf0jtP5kqGJXUifQ/c9cS8kHP/D+/DpwzojQEQIEmwoanVwxA4lgXt9HgE0BSSZ2AJuIbQAMJih9jjiNA5q4l5INuK0AwTKYKRj0zQNv5fmq8/DpAaCJseHrtQkB/+zpwzoxKQM3MzMzMeFJAZmZmZmZqWEAAAAAAAFxeQM3MzMzMJmJAmpmZmZkfZUBmZmZmZhhoQDMzMzMzEWtAAAAAAAAKbkBmZmZmZoFwQM3MzMzM/XFAMzMzMzN6c0CamZmZmfZ0QAAAAAAAc3ZAZmZmZmbvd0DNzMzMzGt5QDMzMzMz6HpAmpmZmZlkfEAAAAAAAOF9QGZmZmZmXX9AZmZmZuZsgECamZmZGSuBQM3MzMxM6YFAAAAAAICngkAzMzMzs2WDQGZmZmbmI4RAmpmZmRnihEDNzMzMTKCFQAAAAACAXoZAMzMzM7Mch0BmZmZm5tqHQJqZmZkZmYhAzczMzExXiUAAAAAAgBWKQDMzMzOz04pAZmZmZuaRi0CamZmZGVCMQM3MzMxMDo1AAAAAAIDMjUAzMzMzs4qOQGZmZmbmSI9A\",\"dtype\":\"float64\",\"shape\":[75]}},\"selected\":{\"id\":\"99ddd4a6-7d3c-4acc-be2f-4afda8e0d27d\",\"type\":\"Selection\"},\"selection_policy\":{\"id\":\"59c740d8-6163-44a6-957f-ffec53a1a864\",\"type\":\"UnionRenderers\"}},\"id\":\"8199e36b-d8ff-41db-845f-0a7f1bc5f150\",\"type\":\"ColumnDataSource\"},{\"attributes\":{},\"id\":\"342e1822-0e6e-489c-a3a8-ea29c5d3ee51\",\"type\":\"WheelZoomTool\"},{\"attributes\":{\"callback\":null,\"data\":{\"x\":{\"__ndarray__\":\"sFsExvo5U0DQ0aqWdIREQAQ6kzZVoUBAwTi4dMxlOkC28ScqG6o0QDM0ngjiFDBAtpvgm6YPKUBxgoDGlqcjQJQLOsa6FR9AlTIEW4C5GEAqYbcZuJ0TQHTVPEfkew5AJdqf1RP3BUDlcs0uKWj2P9OsIpLXWe8/YTYBhuUP/D8nCMMlbHQEQG/BrRYzbQlAYmngRzWsDkDgF/JjJ4cSQIaoZ+ZuJBdAOtZ74BnrHUBnnOFhNXEeQDcM1YM41RlAZsRgWcTrFUBQmEHG7bkRQPnbniCxHQ1AAjM6e8J9CEASVymYjL4EQPk0guikcgFAFD62wHnM/D+Pw2D+Chn3PzfqfNNP8/E/6RxuTdv76z++dXJExjzgP+oRVKFC9KE/STxuMol+0r9gICmeigbMvwe24szDypU/4avU7oKBsz8N+hT4cdG5P1DwXv+/+7w/b3qbJ2x5vj/DdkGO9/S+PzYdZAboxr4/3L/Lb0Ugvj8X+XELyCS9P2g8tgoH57s/RuzRI19suj8kK57+3OW4PyLpEo89W7c/gZ2i8MfXtT+3k8VTSF+0P5854eEa+LI/FJdaJCqqsT/3uP9gkXOwPwtexNyNvK4/KRXOGi4FrT9PmPM2fRCsP8+CBFCCuqw/xz7seNizrz8zYQM7YbaxP+QTXPN9TbE/Q4T+kB6Jqj/uLOlEXOKdP1NlUiINl4Y/oTCIjrQCaT/R+p6MBrRxP7szvwxZ7IE/SB+fAvOfiD+C+WjHxumLPwdF8wAW+Y0/CdvdcBCOkD+STFGlmwGWP4yuwbEdwsA/\",\"dtype\":\"float64\",\"shape\":[75]},\"y\":{\"__ndarray__\":\"GhExyth1ND/Sv8nbtpRIP2vylNV0PVE/aTum7souWD/At0SJ8fVgPw3Iuahxymc/MSNhhJWvcD/bTfBN02d3P2zb5nxnaoA/CD5h5MAGhz8NmeH1TyaQP+zrCsc9p5Y/LbKd76fGnz/bLW5ISEmmPww9YvTcQq8/JV2OstnstT8Er5Y7M8G+P0c+r3jqkcU/5h99k6ZBzj88bCIzFzjVP4enV8oyxN0//yH99nXg5D8qOpLLf0jtP5kqGJXUifQ/c9cS8kHP/D+/DpwzojQEQIEmwoanVwxA4lgXt9HgE0BSSZ2AJuIbQAMJih9jjiNA5q4l5INuK0AwTKYKRj0zQNv5fmq8/DpAaCJseHrtQkB/+zpwzoxKQM3MzMzMeFJAZmZmZmZqWEAAAAAAAFxeQM3MzMzMJmJAmpmZmZkfZUBmZmZmZhhoQDMzMzMzEWtAAAAAAAAKbkBmZmZmZoFwQM3MzMzM/XFAMzMzMzN6c0CamZmZmfZ0QAAAAAAAc3ZAZmZmZmbvd0DNzMzMzGt5QDMzMzMz6HpAmpmZmZlkfEAAAAAAAOF9QGZmZmZmXX9AZmZmZuZsgECamZmZGSuBQM3MzMxM6YFAAAAAAICngkAzMzMzs2WDQGZmZmbmI4RAmpmZmRnihEDNzMzMTKCFQAAAAACAXoZAMzMzM7Mch0BmZmZm5tqHQJqZmZkZmYhAzczMzExXiUAAAAAAgBWKQDMzMzOz04pAZmZmZuaRi0CamZmZGVCMQM3MzMxMDo1AAAAAAIDMjUAzMzMzs4qOQGZmZmbmSI9A\",\"dtype\":\"float64\",\"shape\":[75]}},\"selected\":{\"id\":\"f5deb436-cb3d-4f0f-aa85-6e4f8526181f\",\"type\":\"Selection\"},\"selection_policy\":{\"id\":\"cde688cd-f45c-4bae-9ae6-bb4b0e45ba64\",\"type\":\"UnionRenderers\"}},\"id\":\"fe493adb-2179-487b-988b-65a3f2c7dd86\",\"type\":\"ColumnDataSource\"},{\"attributes\":{\"overlay\":{\"id\":\"ece22592-4bba-4886-ba5e-65430b24928b\",\"type\":\"BoxAnnotation\"}},\"id\":\"d3ec8c62-9654-475c-a960-afe6a3c92bcd\",\"type\":\"BoxZoomTool\"},{\"attributes\":{\"callback\":null,\"end\":0.01,\"start\":1020},\"id\":\"b6c28aa3-5a61-4235-a917-548ef24f7c34\",\"type\":\"Range1d\"},{\"attributes\":{\"source\":{\"id\":\"c2c9cb64-0649-40c2-9c9c-ab4e37113a0c\",\"type\":\"ColumnDataSource\"}},\"id\":\"dc582c99-ebc2-486d-a292-7977a283e204\",\"type\":\"CDSView\"},{\"attributes\":{},\"id\":\"124414e2-e5c4-4ee8-ad10-208b5406e099\",\"type\":\"SaveTool\"},{\"attributes\":{\"data_source\":{\"id\":\"e888d1cf-8cf1-4d1c-8e24-713966bd5198\",\"type\":\"ColumnDataSource\"},\"glyph\":{\"id\":\"de1fe9a9-9af5-4902-981f-5b5fab17cc6d\",\"type\":\"Circle\"},\"hover_glyph\":null,\"muted_glyph\":null,\"nonselection_glyph\":{\"id\":\"39cea8b9-8864-4d74-835c-586cf0608694\",\"type\":\"Circle\"},\"selection_glyph\":null,\"view\":{\"id\":\"122cbd53-48bc-4ee9-9a34-5f2864360b3e\",\"type\":\"CDSView\"}},\"id\":\"cdcde7d8-c482-4075-8b92-beee1106f6cd\",\"type\":\"GlyphRenderer\"},{\"attributes\":{\"callback\":null,\"data\":{\"x\":{\"__ndarray__\":\"HCjwTj57Q0Bf61Ij9P1AQDJ1V3bB4D9A0LTEymjgPECoGyjwTvY4QJyGqMKfUTRAA5Xx7zPGLkCnJVZGI68lQHSxDuydVh1AFUCMa9evFEBMLJVcalkQQJK0G33M5wtAbRT+sbXjBkBpWyj0VU38Pz7hkR3A5/U/AF8bO/KR/z8ZNsr6zUQEQAmj/h/MAgdAVxcBXxvrCkALijCPRh8RQAwuZwC5HhdA+UGnMWvzHkBS1zW1x14fQJkC4ypgNBlAKwKtCh44FECZ74Vum/4QQMwiuaHOEQ9AgxPRr62vCkApR1xb0xcFQC+ahMHrKQFArGetDboJAEC5uUJpuT38P9oAbECEuPQ/lfDGelF47D/K7Sy0UiziP9jVJkZ9r8A/eImgIGfQ0b9gKFjKz1nQv6GclWrnP2m/UvgYHo69qz9EPgvpwFeyP+7cTjddirM/snKLoAFatD/5bKgOdXy1P8cpJq7k3LY/k5jITj0nuD+HsK+vVBu5PzAoxD1Fd7k/RJBakzQguT8JBCA/MlW4P/J24kSEF7c/74Kn4XJ0tT8CK0X6BomzPxxhw2aPtrE/CSo2KJKWrz+G1NOYJw+sP4yNkroR1Kg/nb4Vvvs5pj9QYYsuhqqkPwgfHzSI/aQ/+v1EYArhpz/hApZ908urPzydwWVpNas/qDAmZaGJoz+z0T74ftqQP/mgcF/lsEi/eUXQjbI7fr82S4efX9pzv/kSecA3fzY/iIkFuzPscj8zY1D0YFV8Px2OgOMRqYA/uRAJscMwhT8YuuRI/3yPP8kTc9bIKsA/\",\"dtype\":\"float64\",\"shape\":[75]},\"y\":{\"__ndarray__\":\"S/O/Q+51ND/Sv8nbtpRIP2vylNV0PVE/aTum7souWD/At0SJ8fVgPw3Iuahxymc/MSNhhJWvcD/bTfBN02d3P2zb5nxnaoA/CD5h5MAGhz8NmeH1TyaQP+zrCsc9p5Y/LbKd76fGnz/bLW5ISEmmPww9YvTcQq8/JV2OstnstT8Er5Y7M8G+P0c+r3jqkcU/5h99k6ZBzj88bCIzFzjVP4enV8oyxN0//yH99nXg5D8qOpLLf0jtP5kqGJXUifQ/c9cS8kHP/D+/DpwzojQEQIEmwoanVwxA4lgXt9HgE0BSSZ2AJuIbQAMJih9jjiNA5q4l5INuK0AwTKYKRj0zQNv5fmq8/DpAaCJseHrtQkB/+zpwzoxKQM3MzMzMeFJAZmZmZmZqWEAAAAAAAFxeQM3MzMzMJmJAmpmZmZkfZUBmZmZmZhhoQDMzMzMzEWtAAAAAAAAKbkBmZmZmZoFwQM3MzMzM/XFAMzMzMzN6c0CamZmZmfZ0QAAAAAAAc3ZAZmZmZmbvd0DNzMzMzGt5QDMzMzMz6HpAmpmZmZlkfEAAAAAAAOF9QGZmZmZmXX9AZmZmZuZsgECamZmZGSuBQM3MzMxM6YFAAAAAAICngkAzMzMzs2WDQGZmZmbmI4RAmpmZmRnihEDNzMzMTKCFQAAAAACAXoZAMzMzM7Mch0BmZmZm5tqHQJqZmZkZmYhAzczMzExXiUAAAAAAgBWKQDMzMzOz04pAZmZmZuaRi0CamZmZGVCMQM3MzMxMDo1AAAAAAIDMjUAzMzMzs4qOQGZmZmbmSI9A\",\"dtype\":\"float64\",\"shape\":[75]}},\"selected\":{\"id\":\"18d36ef1-8023-45d9-8864-a568acf9c1ea\",\"type\":\"Selection\"},\"selection_policy\":{\"id\":\"5916880d-25b1-42e7-a0d2-46e62656e5b7\",\"type\":\"UnionRenderers\"}},\"id\":\"f57bc9a0-9906-4073-ad5b-947da8a95ae3\",\"type\":\"ColumnDataSource\"},{\"attributes\":{\"fill_alpha\":{\"value\":0.7},\"fill_color\":{\"value\":\"#984ea3\"},\"line_alpha\":{\"value\":0.7},\"line_color\":{\"value\":\"#984ea3\"},\"x\":{\"field\":\"x\"},\"y\":{\"field\":\"y\"}},\"id\":\"c97eedbe-56e1-4ce3-ba0b-e502aa09810d\",\"type\":\"Square\"},{\"attributes\":{},\"id\":\"badaf60e-86b2-464f-829a-856390eba4d8\",\"type\":\"ResetTool\"},{\"attributes\":{\"line_alpha\":0.1,\"line_color\":\"#1f77b4\",\"line_width\":1.5,\"x\":{\"field\":\"x\"},\"y\":{\"field\":\"y\"}},\"id\":\"441cca37-725f-46d1-b155-738f996e5e83\",\"type\":\"Line\"},{\"attributes\":{\"children\":[{\"id\":\"30b2f849-ad1a-49da-bc95-b1127fe3f1f5\",\"subtype\":\"Figure\",\"type\":\"Plot\"},{\"id\":\"1105970e-ed42-46a2-8912-055abd3c60e2\",\"subtype\":\"Figure\",\"type\":\"Plot\"}]},\"id\":\"7e77e7ea-dd11-452b-81d8-77ec89b62f8c\",\"type\":\"Row\"},{\"attributes\":{\"line_alpha\":0.1,\"line_color\":\"#1f77b4\",\"line_width\":3,\"x\":{\"field\":\"x\"},\"y\":{\"field\":\"y\"}},\"id\":\"df7106a0-0afb-4808-8b89-fff2ecf5a97a\",\"type\":\"Line\"},{\"attributes\":{\"data_source\":{\"id\":\"11f123cf-e8f8-4ac0-9151-f7abd9562fae\",\"type\":\"ColumnDataSource\"},\"glyph\":{\"id\":\"bcefc32b-c45f-4013-b2b0-60d51891d831\",\"type\":\"Line\"},\"hover_glyph\":null,\"muted_glyph\":null,\"nonselection_glyph\":{\"id\":\"441cca37-725f-46d1-b155-738f996e5e83\",\"type\":\"Line\"},\"selection_glyph\":null,\"view\":{\"id\":\"f9a7af92-b346-4680-b0f7-ac34179226f6\",\"type\":\"CDSView\"}},\"id\":\"e67e14b0-b2fb-48ab-aa2a-fb075252c848\",\"type\":\"GlyphRenderer\"},{\"attributes\":{\"source\":{\"id\":\"e888d1cf-8cf1-4d1c-8e24-713966bd5198\",\"type\":\"ColumnDataSource\"}},\"id\":\"122cbd53-48bc-4ee9-9a34-5f2864360b3e\",\"type\":\"CDSView\"},{\"attributes\":{},\"id\":\"e9637d85-275e-446a-af15-94bdf1f9fab5\",\"type\":\"HelpTool\"},{\"attributes\":{\"axis_label\":\"pressure [mb]\",\"formatter\":{\"id\":\"b35967ec-e339-4118-b055-0e3d509c8fba\",\"type\":\"LogTickFormatter\"},\"plot\":{\"id\":\"1105970e-ed42-46a2-8912-055abd3c60e2\",\"subtype\":\"Figure\",\"type\":\"Plot\"},\"ticker\":{\"id\":\"cf863834-93bb-4c55-a7f9-4674595ba7e9\",\"type\":\"LogTicker\"}},\"id\":\"73bf5453-3b7a-4230-824f-286a3b793ab7\",\"type\":\"LogAxis\"},{\"attributes\":{\"fill_alpha\":{\"value\":0.7},\"fill_color\":{\"value\":\"#4daf4a\"},\"line_alpha\":{\"value\":0.7},\"line_color\":{\"value\":\"#4daf4a\"},\"x\":{\"field\":\"x\"},\"y\":{\"field\":\"y\"}},\"id\":\"d9c45662-d9d6-4139-8cfd-b44841e1749f\",\"type\":\"Circle\"},{\"attributes\":{\"line_color\":\"#4daf4a\",\"line_width\":1.5,\"x\":{\"field\":\"x\"},\"y\":{\"field\":\"y\"}},\"id\":\"0a1ec808-0c1c-4f7f-b353-b77b029f0785\",\"type\":\"Line\"},{\"attributes\":{\"fill_alpha\":{\"value\":0.1},\"fill_color\":{\"value\":\"#1f77b4\"},\"line_alpha\":{\"value\":0.1},\"line_color\":{\"value\":\"#1f77b4\"},\"x\":{\"field\":\"x\"},\"y\":{\"field\":\"y\"}},\"id\":\"39298d6e-2d94-46d8-adf2-257c59fa53b6\",\"type\":\"Square\"},{\"attributes\":{\"line_alpha\":0.1,\"line_color\":\"#1f77b4\",\"line_width\":3,\"x\":{\"field\":\"x\"},\"y\":{\"field\":\"y\"}},\"id\":\"89e11177-0463-4731-9981-787d7e6f14c9\",\"type\":\"Line\"},{\"attributes\":{\"axis_label\":\"cooling rate [K/day]\",\"formatter\":{\"id\":\"8136c862-9f90-423f-be92-0bf70c2aab87\",\"type\":\"BasicTickFormatter\"},\"plot\":{\"id\":\"1105970e-ed42-46a2-8912-055abd3c60e2\",\"subtype\":\"Figure\",\"type\":\"Plot\"},\"ticker\":{\"id\":\"f89496d5-cb9f-495c-b871-03094d4ffc38\",\"type\":\"BasicTicker\"}},\"id\":\"e2436043-f6c4-4697-bad1-3a0f3c66d45d\",\"type\":\"LinearAxis\"},{\"attributes\":{\"data_source\":{\"id\":\"8199e36b-d8ff-41db-845f-0a7f1bc5f150\",\"type\":\"ColumnDataSource\"},\"glyph\":{\"id\":\"c97eedbe-56e1-4ce3-ba0b-e502aa09810d\",\"type\":\"Square\"},\"hover_glyph\":null,\"muted_glyph\":null,\"nonselection_glyph\":{\"id\":\"39298d6e-2d94-46d8-adf2-257c59fa53b6\",\"type\":\"Square\"},\"selection_glyph\":null,\"view\":{\"id\":\"b79f7af6-d963-4ccb-8ab1-1e8b1c54f83e\",\"type\":\"CDSView\"}},\"id\":\"b637f2b2-86b9-4b9c-8c69-206acf26cc01\",\"type\":\"GlyphRenderer\"},{\"attributes\":{\"children\":[{\"id\":\"7e77e7ea-dd11-452b-81d8-77ec89b62f8c\",\"type\":\"Row\"}]},\"id\":\"725da04b-f11f-4fd3-a502-d16d60fa954c\",\"type\":\"Column\"},{\"attributes\":{\"below\":[{\"id\":\"e2436043-f6c4-4697-bad1-3a0f3c66d45d\",\"type\":\"LinearAxis\"}],\"left\":[{\"id\":\"73bf5453-3b7a-4230-824f-286a3b793ab7\",\"type\":\"LogAxis\"}],\"plot_height\":500,\"plot_width\":560,\"renderers\":[{\"id\":\"e2436043-f6c4-4697-bad1-3a0f3c66d45d\",\"type\":\"LinearAxis\"},{\"id\":\"e5bbde95-b425-48b2-b18f-a03a4f2fc6c0\",\"type\":\"Grid\"},{\"id\":\"73bf5453-3b7a-4230-824f-286a3b793ab7\",\"type\":\"LogAxis\"},{\"id\":\"b3641b1e-973f-4286-b66a-a457015db134\",\"type\":\"Grid\"},{\"id\":\"ece22592-4bba-4886-ba5e-65430b24928b\",\"type\":\"BoxAnnotation\"},{\"id\":\"6d40f0ee-3758-4ee4-8aa5-08495946350d\",\"type\":\"GlyphRenderer\"},{\"id\":\"cdcde7d8-c482-4075-8b92-beee1106f6cd\",\"type\":\"GlyphRenderer\"},{\"id\":\"733eb2f3-2822-40a0-aa6e-000740bed901\",\"type\":\"GlyphRenderer\"},{\"id\":\"b637f2b2-86b9-4b9c-8c69-206acf26cc01\",\"type\":\"GlyphRenderer\"},{\"id\":\"40cba48d-ec26-4fa7-81a2-34b0268edc87\",\"type\":\"GlyphRenderer\"},{\"id\":\"f55ac385-1646-4e59-9784-114897c3bf62\",\"type\":\"Legend\"}],\"right\":[{\"id\":\"f55ac385-1646-4e59-9784-114897c3bf62\",\"type\":\"Legend\"}],\"title\":{\"id\":\"0747dc28-16c0-45e0-972b-8290b7fcca6e\",\"type\":\"Title\"},\"toolbar\":{\"id\":\"685f79f1-112a-441d-9de3-e91212b77715\",\"type\":\"Toolbar\"},\"toolbar_location\":null,\"x_range\":{\"id\":\"2e02dfe2-a718-4232-9514-8037f42fadac\",\"type\":\"Range1d\"},\"x_scale\":{\"id\":\"16d41f9a-7657-489e-bdbd-a9335a581d8c\",\"type\":\"LinearScale\"},\"y_range\":{\"id\":\"c2cff126-1d95-4ae0-b10a-7789329e3551\",\"type\":\"Range1d\"},\"y_scale\":{\"id\":\"622d8d54-f6cf-4d5c-aa64-dd07f725db1d\",\"type\":\"LogScale\"}},\"id\":\"1105970e-ed42-46a2-8912-055abd3c60e2\",\"subtype\":\"Figure\",\"type\":\"Plot\"},{\"attributes\":{\"plot\":{\"id\":\"1105970e-ed42-46a2-8912-055abd3c60e2\",\"subtype\":\"Figure\",\"type\":\"Plot\"},\"ticker\":{\"id\":\"f89496d5-cb9f-495c-b871-03094d4ffc38\",\"type\":\"BasicTicker\"}},\"id\":\"e5bbde95-b425-48b2-b18f-a03a4f2fc6c0\",\"type\":\"Grid\"},{\"attributes\":{\"label\":{\"value\":\"CLIRAD `coolr_bands`\"},\"renderers\":[{\"id\":\"6d40f0ee-3758-4ee4-8aa5-08495946350d\",\"type\":\"GlyphRenderer\"}]},\"id\":\"dddc6d91-76ac-4b23-be9f-77e15fdd76ee\",\"type\":\"LegendItem\"},{\"attributes\":{},\"id\":\"04513f85-41f1-41bc-8ed6-c2c3c30c5ea3\",\"type\":\"BasicTickFormatter\"},{\"attributes\":{\"label\":{\"value\":\"CRD\"},\"renderers\":[{\"id\":\"cdcde7d8-c482-4075-8b92-beee1106f6cd\",\"type\":\"GlyphRenderer\"},{\"id\":\"733eb2f3-2822-40a0-aa6e-000740bed901\",\"type\":\"GlyphRenderer\"}]},\"id\":\"8d88970b-dfe2-4d35-85ac-66dbc83b7037\",\"type\":\"LegendItem\"},{\"attributes\":{},\"id\":\"212e9174-5174-4450-937c-f1e18c400196\",\"type\":\"Selection\"},{\"attributes\":{\"line_alpha\":0.1,\"line_color\":\"#1f77b4\",\"line_dash\":[6],\"line_width\":5,\"x\":{\"field\":\"x\"},\"y\":{\"field\":\"y\"}},\"id\":\"0b2c3189-9b6c-42cf-b68a-ff099cf40bd2\",\"type\":\"Line\"},{\"attributes\":{\"source\":{\"id\":\"dc74c958-17cf-4a13-beba-fcaf11644351\",\"type\":\"ColumnDataSource\"}},\"id\":\"8fd71325-fa21-4e83-a279-c01d05245c9a\",\"type\":\"CDSView\"},{\"attributes\":{\"label\":{\"value\":\"WGT igg=10 wgt_flux=2\"},\"renderers\":[{\"id\":\"b637f2b2-86b9-4b9c-8c69-206acf26cc01\",\"type\":\"GlyphRenderer\"},{\"id\":\"40cba48d-ec26-4fa7-81a2-34b0268edc87\",\"type\":\"GlyphRenderer\"}]},\"id\":\"e1abae2c-ee31-4027-9ae0-25287d6f504a\",\"type\":\"LegendItem\"},{\"attributes\":{\"line_alpha\":0.1,\"line_color\":\"#1f77b4\",\"line_dash\":[6],\"line_width\":5,\"x\":{\"field\":\"x\"},\"y\":{\"field\":\"y\"}},\"id\":\"0dd6f9a1-3d8c-4b40-836c-70b7c65bcb27\",\"type\":\"Line\"},{\"attributes\":{},\"id\":\"18d36ef1-8023-45d9-8864-a568acf9c1ea\",\"type\":\"Selection\"},{\"attributes\":{},\"id\":\"af54c2ce-f9e0-451c-b3c4-49035bd39f80\",\"type\":\"BasicTickFormatter\"},{\"attributes\":{},\"id\":\"f5deb436-cb3d-4f0f-aa85-6e4f8526181f\",\"type\":\"Selection\"},{\"attributes\":{\"line_alpha\":0.6,\"line_color\":\"#984ea3\",\"line_width\":3,\"x\":{\"field\":\"x\"},\"y\":{\"field\":\"y\"}},\"id\":\"346abcbf-7fb1-4302-85b4-a4613f542562\",\"type\":\"Line\"},{\"attributes\":{\"source\":{\"id\":\"ee93029f-a894-497b-824a-857fcdcfbec4\",\"type\":\"ColumnDataSource\"}},\"id\":\"0f7560b6-6e69-4d3d-a991-9722be3dcd57\",\"type\":\"CDSView\"},{\"attributes\":{},\"id\":\"d459c7d4-40ef-43b4-9271-d71195d59867\",\"type\":\"Selection\"},{\"attributes\":{},\"id\":\"622d8d54-f6cf-4d5c-aa64-dd07f725db1d\",\"type\":\"LogScale\"},{\"attributes\":{},\"id\":\"5916880d-25b1-42e7-a0d2-46e62656e5b7\",\"type\":\"UnionRenderers\"},{\"attributes\":{\"active_drag\":\"auto\",\"active_inspect\":\"auto\",\"active_scroll\":\"auto\",\"active_tap\":\"auto\",\"tools\":[{\"id\":\"8cb6e2cd-13d3-4517-9cb6-1470eaf42252\",\"type\":\"PanTool\"},{\"id\":\"a3867579-a885-4938-b7da-db9dcf13bb56\",\"type\":\"WheelZoomTool\"},{\"id\":\"a44cccf7-5274-4684-9e04-b96e754411a9\",\"type\":\"BoxZoomTool\"},{\"id\":\"68905a4b-bd29-4fd3-88b0-56ac573cb184\",\"type\":\"SaveTool\"},{\"id\":\"240dd12a-b1e6-4a7c-99e3-196b1a24f0b9\",\"type\":\"ResetTool\"},{\"id\":\"76e245bb-36ba-4fec-815d-0002b6a2de69\",\"type\":\"HelpTool\"}]},\"id\":\"e4378501-f874-4c07-a4f8-ac5d500849a6\",\"type\":\"Toolbar\"},{\"attributes\":{},\"id\":\"d0e1b0da-ea18-46bd-8e84-0f391a6a6ac6\",\"type\":\"Selection\"},{\"attributes\":{},\"id\":\"cde688cd-f45c-4bae-9ae6-bb4b0e45ba64\",\"type\":\"UnionRenderers\"},{\"attributes\":{\"source\":{\"id\":\"fe493adb-2179-487b-988b-65a3f2c7dd86\",\"type\":\"ColumnDataSource\"}},\"id\":\"4ca9ab91-45a4-4966-b78c-e6bb8a2b2ac8\",\"type\":\"CDSView\"},{\"attributes\":{},\"id\":\"2466ec5a-9c0e-4348-bc05-0eaf026abc7d\",\"type\":\"Selection\"},{\"attributes\":{\"callback\":null,\"end\":7.923874018399999,\"start\":-0.3702884584},\"id\":\"2e02dfe2-a718-4232-9514-8037f42fadac\",\"type\":\"Range1d\"},{\"attributes\":{\"axis_label\":\"pressure [mb]\",\"formatter\":{\"id\":\"04513f85-41f1-41bc-8ed6-c2c3c30c5ea3\",\"type\":\"BasicTickFormatter\"},\"plot\":{\"id\":\"30b2f849-ad1a-49da-bc95-b1127fe3f1f5\",\"subtype\":\"Figure\",\"type\":\"Plot\"},\"ticker\":{\"id\":\"e8093293-26b1-4807-8db0-0f8c7e285087\",\"type\":\"BasicTicker\"}},\"id\":\"963d4705-7e7e-4b63-b655-b86680ec4e9b\",\"type\":\"LinearAxis\"},{\"attributes\":{},\"id\":\"6cb55f15-ac19-45fd-8fb3-6f6a6c15f493\",\"type\":\"UnionRenderers\"},{\"attributes\":{\"ticker\":null},\"id\":\"b35967ec-e339-4118-b055-0e3d509c8fba\",\"type\":\"LogTickFormatter\"},{\"attributes\":{\"source\":{\"id\":\"11f123cf-e8f8-4ac0-9151-f7abd9562fae\",\"type\":\"ColumnDataSource\"}},\"id\":\"f9a7af92-b346-4680-b0f7-ac34179226f6\",\"type\":\"CDSView\"},{\"attributes\":{},\"id\":\"ded41c41-d232-4399-b76f-a3532caf7147\",\"type\":\"UnionRenderers\"},{\"attributes\":{\"data_source\":{\"id\":\"dc74c958-17cf-4a13-beba-fcaf11644351\",\"type\":\"ColumnDataSource\"},\"glyph\":{\"id\":\"346abcbf-7fb1-4302-85b4-a4613f542562\",\"type\":\"Line\"},\"hover_glyph\":null,\"muted_glyph\":null,\"nonselection_glyph\":{\"id\":\"df7106a0-0afb-4808-8b89-fff2ecf5a97a\",\"type\":\"Line\"},\"selection_glyph\":null,\"view\":{\"id\":\"8fd71325-fa21-4e83-a279-c01d05245c9a\",\"type\":\"CDSView\"}},\"id\":\"e079f819-22e4-4f5e-94f1-3516b97dd16b\",\"type\":\"GlyphRenderer\"},{\"attributes\":{},\"id\":\"24e23cfe-40a1-48df-aa9b-1b5a073a2148\",\"type\":\"UnionRenderers\"},{\"attributes\":{\"data_source\":{\"id\":\"eadba11f-4944-4809-93e1-b9c82e0ab27b\",\"type\":\"ColumnDataSource\"},\"glyph\":{\"id\":\"80f17e78-b2c2-41e0-8923-ff04d7944cf6\",\"type\":\"Line\"},\"hover_glyph\":null,\"muted_glyph\":null,\"nonselection_glyph\":{\"id\":\"0dd6f9a1-3d8c-4b40-836c-70b7c65bcb27\",\"type\":\"Line\"},\"selection_glyph\":null,\"view\":{\"id\":\"8fd9b9be-e210-422d-a51d-a95c6e2db83a\",\"type\":\"CDSView\"}},\"id\":\"6d40f0ee-3758-4ee4-8aa5-08495946350d\",\"type\":\"GlyphRenderer\"},{\"attributes\":{\"fill_alpha\":{\"value\":0.1},\"fill_color\":{\"value\":\"#1f77b4\"},\"line_alpha\":{\"value\":0.1},\"line_color\":{\"value\":\"#1f77b4\"},\"x\":{\"field\":\"x\"},\"y\":{\"field\":\"y\"}},\"id\":\"d6206d20-98ca-4415-b913-6187df1cb6cf\",\"type\":\"Square\"},{\"attributes\":{},\"id\":\"12dc2b70-f996-4efe-92ee-3fa1e5efab52\",\"type\":\"UnionRenderers\"},{\"attributes\":{},\"id\":\"20d651e7-35ec-4646-8c4e-3ad1f30a803b\",\"type\":\"Selection\"},{\"attributes\":{},\"id\":\"8136c862-9f90-423f-be92-0bf70c2aab87\",\"type\":\"BasicTickFormatter\"},{\"attributes\":{\"line_alpha\":0.6,\"line_color\":\"#984ea3\",\"line_width\":3,\"x\":{\"field\":\"x\"},\"y\":{\"field\":\"y\"}},\"id\":\"675d684f-8034-44b0-946a-afac02947956\",\"type\":\"Line\"},{\"attributes\":{\"data_source\":{\"id\":\"c2c9cb64-0649-40c2-9c9c-ab4e37113a0c\",\"type\":\"ColumnDataSource\"},\"glyph\":{\"id\":\"ee59cea5-1fb7-48e7-ba45-3ecda74966aa\",\"type\":\"Square\"},\"hover_glyph\":null,\"muted_glyph\":null,\"nonselection_glyph\":{\"id\":\"d6206d20-98ca-4415-b913-6187df1cb6cf\",\"type\":\"Square\"},\"selection_glyph\":null,\"view\":{\"id\":\"dc582c99-ebc2-486d-a292-7977a283e204\",\"type\":\"CDSView\"}},\"id\":\"e1ba0ff6-c7c9-4d7c-aacc-66bfec25c4ef\",\"type\":\"GlyphRenderer\"},{\"attributes\":{},\"id\":\"754f62d1-191c-4a6e-9ddd-f10cc4b186ed\",\"type\":\"Selection\"},{\"attributes\":{\"items\":[{\"id\":\"dddc6d91-76ac-4b23-be9f-77e15fdd76ee\",\"type\":\"LegendItem\"},{\"id\":\"8d88970b-dfe2-4d35-85ac-66dbc83b7037\",\"type\":\"LegendItem\"},{\"id\":\"e1abae2c-ee31-4027-9ae0-25287d6f504a\",\"type\":\"LegendItem\"}],\"label_text_font_size\":{\"value\":\"8pt\"},\"location\":[10,-30],\"plot\":{\"id\":\"1105970e-ed42-46a2-8912-055abd3c60e2\",\"subtype\":\"Figure\",\"type\":\"Plot\"}},\"id\":\"f55ac385-1646-4e59-9784-114897c3bf62\",\"type\":\"Legend\"},{\"attributes\":{},\"id\":\"99ddd4a6-7d3c-4acc-be2f-4afda8e0d27d\",\"type\":\"Selection\"},{\"attributes\":{\"active_drag\":\"auto\",\"active_inspect\":\"auto\",\"active_scroll\":\"auto\",\"active_tap\":\"auto\",\"tools\":[{\"id\":\"dc8f04ba-f8fd-4b04-9b05-0f0792838d1d\",\"type\":\"PanTool\"},{\"id\":\"342e1822-0e6e-489c-a3a8-ea29c5d3ee51\",\"type\":\"WheelZoomTool\"},{\"id\":\"d3ec8c62-9654-475c-a960-afe6a3c92bcd\",\"type\":\"BoxZoomTool\"},{\"id\":\"124414e2-e5c4-4ee8-ad10-208b5406e099\",\"type\":\"SaveTool\"},{\"id\":\"badaf60e-86b2-464f-829a-856390eba4d8\",\"type\":\"ResetTool\"},{\"id\":\"e9637d85-275e-446a-af15-94bdf1f9fab5\",\"type\":\"HelpTool\"}]},\"id\":\"685f79f1-112a-441d-9de3-e91212b77715\",\"type\":\"Toolbar\"},{\"attributes\":{},\"id\":\"3b786bc7-ba33-4831-8339-55c44ed7e276\",\"type\":\"Selection\"},{\"attributes\":{},\"id\":\"0c708934-ea33-49b0-af31-ee82dcc3ed36\",\"type\":\"UnionRenderers\"},{\"attributes\":{\"toolbar\":{\"id\":\"920c4570-1ad0-4f97-b0b8-9173478f1cb4\",\"type\":\"ProxyToolbar\"},\"toolbar_location\":\"above\"},\"id\":\"689b0ca1-fa73-46ad-880e-adf8424870fd\",\"type\":\"ToolbarBox\"},{\"attributes\":{\"line_alpha\":0.6,\"line_color\":\"#e41a1c\",\"line_dash\":[6],\"line_width\":5,\"x\":{\"field\":\"x\"},\"y\":{\"field\":\"y\"}},\"id\":\"80f17e78-b2c2-41e0-8923-ff04d7944cf6\",\"type\":\"Line\"},{\"attributes\":{\"bottom_units\":\"screen\",\"fill_alpha\":{\"value\":0.5},\"fill_color\":{\"value\":\"lightgrey\"},\"left_units\":\"screen\",\"level\":\"overlay\",\"line_alpha\":{\"value\":1.0},\"line_color\":{\"value\":\"black\"},\"line_dash\":[4,4],\"line_width\":{\"value\":2},\"plot\":null,\"render_mode\":\"css\",\"right_units\":\"screen\",\"top_units\":\"screen\"},\"id\":\"1f8f1379-56b6-43d5-be48-10e187e52b72\",\"type\":\"BoxAnnotation\"},{\"attributes\":{},\"id\":\"572f2216-ae0e-4707-9b64-a835706d36ba\",\"type\":\"UnionRenderers\"},{\"attributes\":{\"callback\":null,\"end\":0.5764793667,\"start\":-0.29754197670000004},\"id\":\"8eea738f-8b26-4ecb-85b5-174b78ef5a15\",\"type\":\"Range1d\"},{\"attributes\":{\"callback\":null,\"end\":0.01,\"start\":1020},\"id\":\"c2cff126-1d95-4ae0-b10a-7789329e3551\",\"type\":\"Range1d\"},{\"attributes\":{\"axis_label\":\"cooling rate [K/day]\",\"formatter\":{\"id\":\"af54c2ce-f9e0-451c-b3c4-49035bd39f80\",\"type\":\"BasicTickFormatter\"},\"plot\":{\"id\":\"30b2f849-ad1a-49da-bc95-b1127fe3f1f5\",\"subtype\":\"Figure\",\"type\":\"Plot\"},\"ticker\":{\"id\":\"86b7d4a5-234a-4dac-8de3-5067563bf0f2\",\"type\":\"BasicTicker\"}},\"id\":\"99635977-f631-4f14-8c45-c6123cb605c6\",\"type\":\"LinearAxis\"},{\"attributes\":{},\"id\":\"59c740d8-6163-44a6-957f-ffec53a1a864\",\"type\":\"UnionRenderers\"},{\"attributes\":{\"children\":[{\"id\":\"689b0ca1-fa73-46ad-880e-adf8424870fd\",\"type\":\"ToolbarBox\"},{\"id\":\"725da04b-f11f-4fd3-a502-d16d60fa954c\",\"type\":\"Column\"}]},\"id\":\"eb3e0d12-2974-4b3b-94c9-ad5863a19632\",\"type\":\"Column\"},{\"attributes\":{\"callback\":null,\"data\":{\"x\":{\"__ndarray__\":\"HCjwTj57Q0Bf61Ij9P1AQDJ1V3bB4D9A0LTEymjgPECoGyjwTvY4QJyGqMKfUTRAA5Xx7zPGLkCnJVZGI68lQHSxDuydVh1AFUCMa9evFEBMLJVcalkQQJK0G33M5wtAbRT+sbXjBkBpWyj0VU38Pz7hkR3A5/U/AF8bO/KR/z8ZNsr6zUQEQAmj/h/MAgdAVxcBXxvrCkALijCPRh8RQAwuZwC5HhdA+UGnMWvzHkBS1zW1x14fQJkC4ypgNBlAKwKtCh44FECZ74Vum/4QQMwiuaHOEQ9AgxPRr62vCkApR1xb0xcFQC+ahMHrKQFArGetDboJAEC5uUJpuT38P9oAbECEuPQ/lfDGelF47D/K7Sy0UiziP9jVJkZ9r8A/eImgIGfQ0b9gKFjKz1nQv6GclWrnP2m/UvgYHo69qz9EPgvpwFeyP+7cTjddirM/snKLoAFatD/5bKgOdXy1P8cpJq7k3LY/k5jITj0nuD+HsK+vVBu5PzAoxD1Fd7k/RJBakzQguT8JBCA/MlW4P/J24kSEF7c/74Kn4XJ0tT8CK0X6BomzPxxhw2aPtrE/CSo2KJKWrz+G1NOYJw+sP4yNkroR1Kg/nb4Vvvs5pj9QYYsuhqqkPwgfHzSI/aQ/+v1EYArhpz/hApZ908urPzydwWVpNas/qDAmZaGJoz+z0T74ftqQP/mgcF/lsEi/eUXQjbI7fr82S4efX9pzv/kSecA3fzY/iIkFuzPscj8zY1D0YFV8Px2OgOMRqYA/uRAJscMwhT8YuuRI/3yPP8kTc9bIKsA/\",\"dtype\":\"float64\",\"shape\":[75]},\"y\":{\"__ndarray__\":\"S/O/Q+51ND/Sv8nbtpRIP2vylNV0PVE/aTum7souWD/At0SJ8fVgPw3Iuahxymc/MSNhhJWvcD/bTfBN02d3P2zb5nxnaoA/CD5h5MAGhz8NmeH1TyaQP+zrCsc9p5Y/LbKd76fGnz/bLW5ISEmmPww9YvTcQq8/JV2OstnstT8Er5Y7M8G+P0c+r3jqkcU/5h99k6ZBzj88bCIzFzjVP4enV8oyxN0//yH99nXg5D8qOpLLf0jtP5kqGJXUifQ/c9cS8kHP/D+/DpwzojQEQIEmwoanVwxA4lgXt9HgE0BSSZ2AJuIbQAMJih9jjiNA5q4l5INuK0AwTKYKRj0zQNv5fmq8/DpAaCJseHrtQkB/+zpwzoxKQM3MzMzMeFJAZmZmZmZqWEAAAAAAAFxeQM3MzMzMJmJAmpmZmZkfZUBmZmZmZhhoQDMzMzMzEWtAAAAAAAAKbkBmZmZmZoFwQM3MzMzM/XFAMzMzMzN6c0CamZmZmfZ0QAAAAAAAc3ZAZmZmZmbvd0DNzMzMzGt5QDMzMzMz6HpAmpmZmZlkfEAAAAAAAOF9QGZmZmZmXX9AZmZmZuZsgECamZmZGSuBQM3MzMxM6YFAAAAAAICngkAzMzMzs2WDQGZmZmbmI4RAmpmZmRnihEDNzMzMTKCFQAAAAACAXoZAMzMzM7Mch0BmZmZm5tqHQJqZmZkZmYhAzczMzExXiUAAAAAAgBWKQDMzMzOz04pAZmZmZuaRi0CamZmZGVCMQM3MzMxMDo1AAAAAAIDMjUAzMzMzs4qOQGZmZmbmSI9A\",\"dtype\":\"float64\",\"shape\":[75]}},\"selected\":{\"id\":\"2466ec5a-9c0e-4348-bc05-0eaf026abc7d\",\"type\":\"Selection\"},\"selection_policy\":{\"id\":\"0c708934-ea33-49b0-af31-ee82dcc3ed36\",\"type\":\"UnionRenderers\"}},\"id\":\"eadba11f-4944-4809-93e1-b9c82e0ab27b\",\"type\":\"ColumnDataSource\"},{\"attributes\":{\"overlay\":{\"id\":\"1f8f1379-56b6-43d5-be48-10e187e52b72\",\"type\":\"BoxAnnotation\"}},\"id\":\"a44cccf7-5274-4684-9e04-b96e754411a9\",\"type\":\"BoxZoomTool\"},{\"attributes\":{},\"id\":\"88683626-d4d8-4276-a0a0-730c2f146cf6\",\"type\":\"UnionRenderers\"},{\"attributes\":{\"plot\":null,\"text\":\"Linear pressure scale\"},\"id\":\"e823c337-170e-462f-868c-c3252339b5e5\",\"type\":\"Title\"},{\"attributes\":{\"tools\":[{\"id\":\"8cb6e2cd-13d3-4517-9cb6-1470eaf42252\",\"type\":\"PanTool\"},{\"id\":\"a3867579-a885-4938-b7da-db9dcf13bb56\",\"type\":\"WheelZoomTool\"},{\"id\":\"a44cccf7-5274-4684-9e04-b96e754411a9\",\"type\":\"BoxZoomTool\"},{\"id\":\"68905a4b-bd29-4fd3-88b0-56ac573cb184\",\"type\":\"SaveTool\"},{\"id\":\"240dd12a-b1e6-4a7c-99e3-196b1a24f0b9\",\"type\":\"ResetTool\"},{\"id\":\"76e245bb-36ba-4fec-815d-0002b6a2de69\",\"type\":\"HelpTool\"},{\"id\":\"dc8f04ba-f8fd-4b04-9b05-0f0792838d1d\",\"type\":\"PanTool\"},{\"id\":\"342e1822-0e6e-489c-a3a8-ea29c5d3ee51\",\"type\":\"WheelZoomTool\"},{\"id\":\"d3ec8c62-9654-475c-a960-afe6a3c92bcd\",\"type\":\"BoxZoomTool\"},{\"id\":\"124414e2-e5c4-4ee8-ad10-208b5406e099\",\"type\":\"SaveTool\"},{\"id\":\"badaf60e-86b2-464f-829a-856390eba4d8\",\"type\":\"ResetTool\"},{\"id\":\"e9637d85-275e-446a-af15-94bdf1f9fab5\",\"type\":\"HelpTool\"}]},\"id\":\"920c4570-1ad0-4f97-b0b8-9173478f1cb4\",\"type\":\"ProxyToolbar\"},{\"attributes\":{\"line_alpha\":0.6,\"line_color\":\"#e41a1c\",\"line_dash\":[6],\"line_width\":5,\"x\":{\"field\":\"x\"},\"y\":{\"field\":\"y\"}},\"id\":\"22620180-15cf-439b-921e-605c59b5faa3\",\"type\":\"Line\"},{\"attributes\":{\"below\":[{\"id\":\"99635977-f631-4f14-8c45-c6123cb605c6\",\"type\":\"LinearAxis\"}],\"left\":[{\"id\":\"963d4705-7e7e-4b63-b655-b86680ec4e9b\",\"type\":\"LinearAxis\"}],\"plot_height\":500,\"plot_width\":400,\"renderers\":[{\"id\":\"99635977-f631-4f14-8c45-c6123cb605c6\",\"type\":\"LinearAxis\"},{\"id\":\"7e640356-c84a-48be-ad5d-b8d20e623a25\",\"type\":\"Grid\"},{\"id\":\"963d4705-7e7e-4b63-b655-b86680ec4e9b\",\"type\":\"LinearAxis\"},{\"id\":\"e9a3b0b7-a3ad-4059-8c82-8802988c3535\",\"type\":\"Grid\"},{\"id\":\"1f8f1379-56b6-43d5-be48-10e187e52b72\",\"type\":\"BoxAnnotation\"},{\"id\":\"6bd61eb2-07bb-4963-9574-59a3de664e46\",\"type\":\"GlyphRenderer\"},{\"id\":\"d26fe940-9483-44c7-b224-5ac62bc2dcca\",\"type\":\"GlyphRenderer\"},{\"id\":\"e67e14b0-b2fb-48ab-aa2a-fb075252c848\",\"type\":\"GlyphRenderer\"},{\"id\":\"e1ba0ff6-c7c9-4d7c-aacc-66bfec25c4ef\",\"type\":\"GlyphRenderer\"},{\"id\":\"e079f819-22e4-4f5e-94f1-3516b97dd16b\",\"type\":\"GlyphRenderer\"}],\"title\":{\"id\":\"e823c337-170e-462f-868c-c3252339b5e5\",\"type\":\"Title\"},\"toolbar\":{\"id\":\"e4378501-f874-4c07-a4f8-ac5d500849a6\",\"type\":\"Toolbar\"},\"toolbar_location\":null,\"x_range\":{\"id\":\"8eea738f-8b26-4ecb-85b5-174b78ef5a15\",\"type\":\"Range1d\"},\"x_scale\":{\"id\":\"f7ae8ded-7726-40c0-83fb-629e398ec602\",\"type\":\"LinearScale\"},\"y_range\":{\"id\":\"b6c28aa3-5a61-4235-a917-548ef24f7c34\",\"type\":\"Range1d\"},\"y_scale\":{\"id\":\"abc5aea2-c1d7-4f1e-a6ec-78e5e06dff3b\",\"type\":\"LinearScale\"}},\"id\":\"30b2f849-ad1a-49da-bc95-b1127fe3f1f5\",\"subtype\":\"Figure\",\"type\":\"Plot\"},{\"attributes\":{\"callback\":null,\"data\":{\"x\":{\"__ndarray__\":\"LLmKxW+4RUDP2m0XmnlBQC5XPzbJ8z9ASU4mbhVQPEDLoNrgRCQ4QOcVTz3SrDNAiqazk8GJLkDXpUboZ6ImQJ3oXzcRTiBA9c/CVOnFF0BXTSGhdzQSQD1brE0IMg1Aj/dP3JadBkDknxnEBxb6P6pUPyWdl/M/BJ/VuO2x/j9i9rLttNUEQF78yAgDmghAuNMxQtMNDUAJ0RBEzPsRQHCJbZxecxdAUEBuGjblHkC3oigr4VQfQCmJNhFH2BlAtSkN63w+FUB1w1uMJowRQBUNYxxttg5AivrJvWWTCkDEl4kipM4FQGl0B7Ez9QFAbnQpCeRt/z9xR0lZ0OX6PxZHim33V/Q/D+Ch5rNV7T9sd3L6OILhP1UU8c6Ib7c/ktAzSW4F0r90Rcb2nGzOv8RMmDWcboQ/484GEnSxrj/qUUTIcY6zP68N4vFXwrQ/WmAdNKxDtT/r2MlfqOO1P7LWdjHSrbY/L5ZwiLtxtz8/Ld5GBfm3P5dJb+BXKrg/JNQRYlzhtz93KU8Cljq3Pwboxg0iRrY/xjhy6QcRtT9/iYJdcK2zP4M9p9KvKrI/KwVHQ3KksD8jI/jD9UauP0+ovis2cas/DzxeSz8WqT8cpKqAsJCnPzgRZb5vu6c/8K/mTE9iqj8w5w2I9AGuP2sHUS71Qq0/NNjrFcpNpT9fLdyRaASUPzo9vmhHHWE/GO6HmEU6db9m+uPF261pvxgcuYDkFWA/sjDf2VnWdz+j3MqKGUyAP80OoaRhbIM/VuwEO8sahz81+x05u32QP4F6rzEaP8A/\",\"dtype\":\"float64\",\"shape\":[75]},\"y\":{\"__ndarray__\":\"GhExyth1ND/Sv8nbtpRIP2vylNV0PVE/aTum7souWD/At0SJ8fVgPw3Iuahxymc/MSNhhJWvcD/bTfBN02d3P2zb5nxnaoA/CD5h5MAGhz8NmeH1TyaQP+zrCsc9p5Y/LbKd76fGnz/bLW5ISEmmPww9YvTcQq8/JV2OstnstT8Er5Y7M8G+P0c+r3jqkcU/5h99k6ZBzj88bCIzFzjVP4enV8oyxN0//yH99nXg5D8qOpLLf0jtP5kqGJXUifQ/c9cS8kHP/D+/DpwzojQEQIEmwoanVwxA4lgXt9HgE0BSSZ2AJuIbQAMJih9jjiNA5q4l5INuK0AwTKYKRj0zQNv5fmq8/DpAaCJseHrtQkB/+zpwzoxKQM3MzMzMeFJAZmZmZmZqWEAAAAAAAFxeQM3MzMzMJmJAmpmZmZkfZUBmZmZmZhhoQDMzMzMzEWtAAAAAAAAKbkBmZmZmZoFwQM3MzMzM/XFAMzMzMzN6c0CamZmZmfZ0QAAAAAAAc3ZAZmZmZmbvd0DNzMzMzGt5QDMzMzMz6HpAmpmZmZlkfEAAAAAAAOF9QGZmZmZmXX9AZmZmZuZsgECamZmZGSuBQM3MzMxM6YFAAAAAAICngkAzMzMzs2WDQGZmZmbmI4RAmpmZmRnihEDNzMzMTKCFQAAAAACAXoZAMzMzM7Mch0BmZmZm5tqHQJqZmZkZmYhAzczMzExXiUAAAAAAgBWKQDMzMzOz04pAZmZmZuaRi0CamZmZGVCMQM3MzMxMDo1AAAAAAIDMjUAzMzMzs4qOQGZmZmbmSI9A\",\"dtype\":\"float64\",\"shape\":[75]}},\"selected\":{\"id\":\"d459c7d4-40ef-43b4-9271-d71195d59867\",\"type\":\"Selection\"},\"selection_policy\":{\"id\":\"12dc2b70-f996-4efe-92ee-3fa1e5efab52\",\"type\":\"UnionRenderers\"}},\"id\":\"dc74c958-17cf-4a13-beba-fcaf11644351\",\"type\":\"ColumnDataSource\"},{\"attributes\":{\"callback\":null,\"data\":{\"x\":{\"__ndarray__\":\"LLmKxW+4RUDP2m0XmnlBQC5XPzbJ8z9ASU4mbhVQPEDLoNrgRCQ4QOcVTz3SrDNAiqazk8GJLkDXpUboZ6ImQJ3oXzcRTiBA9c/CVOnFF0BXTSGhdzQSQD1brE0IMg1Aj/dP3JadBkDknxnEBxb6P6pUPyWdl/M/BJ/VuO2x/j9i9rLttNUEQF78yAgDmghAuNMxQtMNDUAJ0RBEzPsRQHCJbZxecxdAUEBuGjblHkC3oigr4VQfQCmJNhFH2BlAtSkN63w+FUB1w1uMJowRQBUNYxxttg5AivrJvWWTCkDEl4kipM4FQGl0B7Ez9QFAbnQpCeRt/z9xR0lZ0OX6PxZHim33V/Q/D+Ch5rNV7T9sd3L6OILhP1UU8c6Ib7c/ktAzSW4F0r90Rcb2nGzOv8RMmDWcboQ/484GEnSxrj/qUUTIcY6zP68N4vFXwrQ/WmAdNKxDtT/r2MlfqOO1P7LWdjHSrbY/L5ZwiLtxtz8/Ld5GBfm3P5dJb+BXKrg/JNQRYlzhtz93KU8Cljq3Pwboxg0iRrY/xjhy6QcRtT9/iYJdcK2zP4M9p9KvKrI/KwVHQ3KksD8jI/jD9UauP0+ovis2cas/DzxeSz8WqT8cpKqAsJCnPzgRZb5vu6c/8K/mTE9iqj8w5w2I9AGuP2sHUS71Qq0/NNjrFcpNpT9fLdyRaASUPzo9vmhHHWE/GO6HmEU6db9m+uPF261pvxgcuYDkFWA/sjDf2VnWdz+j3MqKGUyAP80OoaRhbIM/VuwEO8sahz81+x05u32QP4F6rzEaP8A/\",\"dtype\":\"float64\",\"shape\":[75]},\"y\":{\"__ndarray__\":\"GhExyth1ND/Sv8nbtpRIP2vylNV0PVE/aTum7souWD/At0SJ8fVgPw3Iuahxymc/MSNhhJWvcD/bTfBN02d3P2zb5nxnaoA/CD5h5MAGhz8NmeH1TyaQP+zrCsc9p5Y/LbKd76fGnz/bLW5ISEmmPww9YvTcQq8/JV2OstnstT8Er5Y7M8G+P0c+r3jqkcU/5h99k6ZBzj88bCIzFzjVP4enV8oyxN0//yH99nXg5D8qOpLLf0jtP5kqGJXUifQ/c9cS8kHP/D+/DpwzojQEQIEmwoanVwxA4lgXt9HgE0BSSZ2AJuIbQAMJih9jjiNA5q4l5INuK0AwTKYKRj0zQNv5fmq8/DpAaCJseHrtQkB/+zpwzoxKQM3MzMzMeFJAZmZmZmZqWEAAAAAAAFxeQM3MzMzMJmJAmpmZmZkfZUBmZmZmZhhoQDMzMzMzEWtAAAAAAAAKbkBmZmZmZoFwQM3MzMzM/XFAMzMzMzN6c0CamZmZmfZ0QAAAAAAAc3ZAZmZmZmbvd0DNzMzMzGt5QDMzMzMz6HpAmpmZmZlkfEAAAAAAAOF9QGZmZmZmXX9AZmZmZuZsgECamZmZGSuBQM3MzMxM6YFAAAAAAICngkAzMzMzs2WDQGZmZmbmI4RAmpmZmRnihEDNzMzMTKCFQAAAAACAXoZAMzMzM7Mch0BmZmZm5tqHQJqZmZkZmYhAzczMzExXiUAAAAAAgBWKQDMzMzOz04pAZmZmZuaRi0CamZmZGVCMQM3MzMxMDo1AAAAAAIDMjUAzMzMzs4qOQGZmZmbmSI9A\",\"dtype\":\"float64\",\"shape\":[75]}},\"selected\":{\"id\":\"754f62d1-191c-4a6e-9ddd-f10cc4b186ed\",\"type\":\"Selection\"},\"selection_policy\":{\"id\":\"88683626-d4d8-4276-a0a0-730c2f146cf6\",\"type\":\"UnionRenderers\"}},\"id\":\"ee93029f-a894-497b-824a-857fcdcfbec4\",\"type\":\"ColumnDataSource\"},{\"attributes\":{\"fill_alpha\":{\"value\":0.1},\"fill_color\":{\"value\":\"#1f77b4\"},\"line_alpha\":{\"value\":0.1},\"line_color\":{\"value\":\"#1f77b4\"},\"x\":{\"field\":\"x\"},\"y\":{\"field\":\"y\"}},\"id\":\"b7ccfcbe-2aa5-4389-ac1e-9ada3ef4b5bb\",\"type\":\"Circle\"},{\"attributes\":{\"fill_alpha\":{\"value\":0.7},\"fill_color\":{\"value\":\"#984ea3\"},\"line_alpha\":{\"value\":0.7},\"line_color\":{\"value\":\"#984ea3\"},\"x\":{\"field\":\"x\"},\"y\":{\"field\":\"y\"}},\"id\":\"ee59cea5-1fb7-48e7-ba45-3ecda74966aa\",\"type\":\"Square\"},{\"attributes\":{},\"id\":\"a3867579-a885-4938-b7da-db9dcf13bb56\",\"type\":\"WheelZoomTool\"},{\"attributes\":{},\"id\":\"e8093293-26b1-4807-8db0-0f8c7e285087\",\"type\":\"BasicTicker\"},{\"attributes\":{\"callback\":null,\"data\":{\"x\":{\"__ndarray__\":\"sFsExvo5U0DQ0aqWdIREQAQ6kzZVoUBAwTi4dMxlOkC28ScqG6o0QDM0ngjiFDBAtpvgm6YPKUBxgoDGlqcjQJQLOsa6FR9AlTIEW4C5GEAqYbcZuJ0TQHTVPEfkew5AJdqf1RP3BUDlcs0uKWj2P9OsIpLXWe8/YTYBhuUP/D8nCMMlbHQEQG/BrRYzbQlAYmngRzWsDkDgF/JjJ4cSQIaoZ+ZuJBdAOtZ74BnrHUBnnOFhNXEeQDcM1YM41RlAZsRgWcTrFUBQmEHG7bkRQPnbniCxHQ1AAjM6e8J9CEASVymYjL4EQPk0guikcgFAFD62wHnM/D+Pw2D+Chn3PzfqfNNP8/E/6RxuTdv76z++dXJExjzgP+oRVKFC9KE/STxuMol+0r9gICmeigbMvwe24szDypU/4avU7oKBsz8N+hT4cdG5P1DwXv+/+7w/b3qbJ2x5vj/DdkGO9/S+PzYdZAboxr4/3L/Lb0Ugvj8X+XELyCS9P2g8tgoH57s/RuzRI19suj8kK57+3OW4PyLpEo89W7c/gZ2i8MfXtT+3k8VTSF+0P5854eEa+LI/FJdaJCqqsT/3uP9gkXOwPwtexNyNvK4/KRXOGi4FrT9PmPM2fRCsP8+CBFCCuqw/xz7seNizrz8zYQM7YbaxP+QTXPN9TbE/Q4T+kB6Jqj/uLOlEXOKdP1NlUiINl4Y/oTCIjrQCaT/R+p6MBrRxP7szvwxZ7IE/SB+fAvOfiD+C+WjHxumLPwdF8wAW+Y0/CdvdcBCOkD+STFGlmwGWP4yuwbEdwsA/\",\"dtype\":\"float64\",\"shape\":[75]},\"y\":{\"__ndarray__\":\"GhExyth1ND/Sv8nbtpRIP2vylNV0PVE/aTum7souWD/At0SJ8fVgPw3Iuahxymc/MSNhhJWvcD/bTfBN02d3P2zb5nxnaoA/CD5h5MAGhz8NmeH1TyaQP+zrCsc9p5Y/LbKd76fGnz/bLW5ISEmmPww9YvTcQq8/JV2OstnstT8Er5Y7M8G+P0c+r3jqkcU/5h99k6ZBzj88bCIzFzjVP4enV8oyxN0//yH99nXg5D8qOpLLf0jtP5kqGJXUifQ/c9cS8kHP/D+/DpwzojQEQIEmwoanVwxA4lgXt9HgE0BSSZ2AJuIbQAMJih9jjiNA5q4l5INuK0AwTKYKRj0zQNv5fmq8/DpAaCJseHrtQkB/+zpwzoxKQM3MzMzMeFJAZmZmZmZqWEAAAAAAAFxeQM3MzMzMJmJAmpmZmZkfZUBmZmZmZhhoQDMzMzMzEWtAAAAAAAAKbkBmZmZmZoFwQM3MzMzM/XFAMzMzMzN6c0CamZmZmfZ0QAAAAAAAc3ZAZmZmZmbvd0DNzMzMzGt5QDMzMzMz6HpAmpmZmZlkfEAAAAAAAOF9QGZmZmZmXX9AZmZmZuZsgECamZmZGSuBQM3MzMxM6YFAAAAAAICngkAzMzMzs2WDQGZmZmbmI4RAmpmZmRnihEDNzMzMTKCFQAAAAACAXoZAMzMzM7Mch0BmZmZm5tqHQJqZmZkZmYhAzczMzExXiUAAAAAAgBWKQDMzMzOz04pAZmZmZuaRi0CamZmZGVCMQM3MzMxMDo1AAAAAAIDMjUAzMzMzs4qOQGZmZmbmSI9A\",\"dtype\":\"float64\",\"shape\":[75]}},\"selected\":{\"id\":\"3b786bc7-ba33-4831-8339-55c44ed7e276\",\"type\":\"Selection\"},\"selection_policy\":{\"id\":\"24e23cfe-40a1-48df-aa9b-1b5a073a2148\",\"type\":\"UnionRenderers\"}},\"id\":\"e888d1cf-8cf1-4d1c-8e24-713966bd5198\",\"type\":\"ColumnDataSource\"},{\"attributes\":{\"plot\":{\"id\":\"30b2f849-ad1a-49da-bc95-b1127fe3f1f5\",\"subtype\":\"Figure\",\"type\":\"Plot\"},\"ticker\":{\"id\":\"86b7d4a5-234a-4dac-8de3-5067563bf0f2\",\"type\":\"BasicTicker\"}},\"id\":\"7e640356-c84a-48be-ad5d-b8d20e623a25\",\"type\":\"Grid\"},{\"attributes\":{\"callback\":null,\"data\":{\"x\":{\"__ndarray__\":\"sFsExvo5U0DQ0aqWdIREQAQ6kzZVoUBAwTi4dMxlOkC28ScqG6o0QDM0ngjiFDBAtpvgm6YPKUBxgoDGlqcjQJQLOsa6FR9AlTIEW4C5GEAqYbcZuJ0TQHTVPEfkew5AJdqf1RP3BUDlcs0uKWj2P9OsIpLXWe8/YTYBhuUP/D8nCMMlbHQEQG/BrRYzbQlAYmngRzWsDkDgF/JjJ4cSQIaoZ+ZuJBdAOtZ74BnrHUBnnOFhNXEeQDcM1YM41RlAZsRgWcTrFUBQmEHG7bkRQPnbniCxHQ1AAjM6e8J9CEASVymYjL4EQPk0guikcgFAFD62wHnM/D+Pw2D+Chn3PzfqfNNP8/E/6RxuTdv76z++dXJExjzgP+oRVKFC9KE/STxuMol+0r9gICmeigbMvwe24szDypU/4avU7oKBsz8N+hT4cdG5P1DwXv+/+7w/b3qbJ2x5vj/DdkGO9/S+PzYdZAboxr4/3L/Lb0Ugvj8X+XELyCS9P2g8tgoH57s/RuzRI19suj8kK57+3OW4PyLpEo89W7c/gZ2i8MfXtT+3k8VTSF+0P5854eEa+LI/FJdaJCqqsT/3uP9gkXOwPwtexNyNvK4/KRXOGi4FrT9PmPM2fRCsP8+CBFCCuqw/xz7seNizrz8zYQM7YbaxP+QTXPN9TbE/Q4T+kB6Jqj/uLOlEXOKdP1NlUiINl4Y/oTCIjrQCaT/R+p6MBrRxP7szvwxZ7IE/SB+fAvOfiD+C+WjHxumLPwdF8wAW+Y0/CdvdcBCOkD+STFGlmwGWP4yuwbEdwsA/\",\"dtype\":\"float64\",\"shape\":[75]},\"y\":{\"__ndarray__\":\"GhExyth1ND/Sv8nbtpRIP2vylNV0PVE/aTum7souWD/At0SJ8fVgPw3Iuahxymc/MSNhhJWvcD/bTfBN02d3P2zb5nxnaoA/CD5h5MAGhz8NmeH1TyaQP+zrCsc9p5Y/LbKd76fGnz/bLW5ISEmmPww9YvTcQq8/JV2OstnstT8Er5Y7M8G+P0c+r3jqkcU/5h99k6ZBzj88bCIzFzjVP4enV8oyxN0//yH99nXg5D8qOpLLf0jtP5kqGJXUifQ/c9cS8kHP/D+/DpwzojQEQIEmwoanVwxA4lgXt9HgE0BSSZ2AJuIbQAMJih9jjiNA5q4l5INuK0AwTKYKRj0zQNv5fmq8/DpAaCJseHrtQkB/+zpwzoxKQM3MzMzMeFJAZmZmZmZqWEAAAAAAAFxeQM3MzMzMJmJAmpmZmZkfZUBmZmZmZhhoQDMzMzMzEWtAAAAAAAAKbkBmZmZmZoFwQM3MzMzM/XFAMzMzMzN6c0CamZmZmfZ0QAAAAAAAc3ZAZmZmZmbvd0DNzMzMzGt5QDMzMzMz6HpAmpmZmZlkfEAAAAAAAOF9QGZmZmZmXX9AZmZmZuZsgECamZmZGSuBQM3MzMxM6YFAAAAAAICngkAzMzMzs2WDQGZmZmbmI4RAmpmZmRnihEDNzMzMTKCFQAAAAACAXoZAMzMzM7Mch0BmZmZm5tqHQJqZmZkZmYhAzczMzExXiUAAAAAAgBWKQDMzMzOz04pAZmZmZuaRi0CamZmZGVCMQM3MzMxMDo1AAAAAAIDMjUAzMzMzs4qOQGZmZmbmSI9A\",\"dtype\":\"float64\",\"shape\":[75]}},\"selected\":{\"id\":\"212e9174-5174-4450-937c-f1e18c400196\",\"type\":\"Selection\"},\"selection_policy\":{\"id\":\"6cb55f15-ac19-45fd-8fb3-6f6a6c15f493\",\"type\":\"UnionRenderers\"}},\"id\":\"11f123cf-e8f8-4ac0-9151-f7abd9562fae\",\"type\":\"ColumnDataSource\"},{\"attributes\":{\"source\":{\"id\":\"eadba11f-4944-4809-93e1-b9c82e0ab27b\",\"type\":\"ColumnDataSource\"}},\"id\":\"8fd9b9be-e210-422d-a51d-a95c6e2db83a\",\"type\":\"CDSView\"},{\"attributes\":{},\"id\":\"8cb6e2cd-13d3-4517-9cb6-1470eaf42252\",\"type\":\"PanTool\"},{\"attributes\":{\"plot\":null,\"text\":\"Log pressure scale\"},\"id\":\"0747dc28-16c0-45e0-972b-8290b7fcca6e\",\"type\":\"Title\"},{\"attributes\":{\"source\":{\"id\":\"8199e36b-d8ff-41db-845f-0a7f1bc5f150\",\"type\":\"ColumnDataSource\"}},\"id\":\"b79f7af6-d963-4ccb-8ab1-1e8b1c54f83e\",\"type\":\"CDSView\"},{\"attributes\":{\"data_source\":{\"id\":\"f57bc9a0-9906-4073-ad5b-947da8a95ae3\",\"type\":\"ColumnDataSource\"},\"glyph\":{\"id\":\"22620180-15cf-439b-921e-605c59b5faa3\",\"type\":\"Line\"},\"hover_glyph\":null,\"muted_glyph\":null,\"nonselection_glyph\":{\"id\":\"0b2c3189-9b6c-42cf-b68a-ff099cf40bd2\",\"type\":\"Line\"},\"selection_glyph\":null,\"view\":{\"id\":\"274377e5-ac91-4e82-8ea8-712f34be48bb\",\"type\":\"CDSView\"}},\"id\":\"6bd61eb2-07bb-4963-9574-59a3de664e46\",\"type\":\"GlyphRenderer\"},{\"attributes\":{},\"id\":\"16d41f9a-7657-489e-bdbd-a9335a581d8c\",\"type\":\"LinearScale\"},{\"attributes\":{},\"id\":\"f7ae8ded-7726-40c0-83fb-629e398ec602\",\"type\":\"LinearScale\"},{\"attributes\":{\"callback\":null,\"data\":{\"x\":{\"__ndarray__\":\"LLmKxW+4RUDP2m0XmnlBQC5XPzbJ8z9ASU4mbhVQPEDLoNrgRCQ4QOcVTz3SrDNAiqazk8GJLkDXpUboZ6ImQJ3oXzcRTiBA9c/CVOnFF0BXTSGhdzQSQD1brE0IMg1Aj/dP3JadBkDknxnEBxb6P6pUPyWdl/M/BJ/VuO2x/j9i9rLttNUEQF78yAgDmghAuNMxQtMNDUAJ0RBEzPsRQHCJbZxecxdAUEBuGjblHkC3oigr4VQfQCmJNhFH2BlAtSkN63w+FUB1w1uMJowRQBUNYxxttg5AivrJvWWTCkDEl4kipM4FQGl0B7Ez9QFAbnQpCeRt/z9xR0lZ0OX6PxZHim33V/Q/D+Ch5rNV7T9sd3L6OILhP1UU8c6Ib7c/ktAzSW4F0r90Rcb2nGzOv8RMmDWcboQ/484GEnSxrj/qUUTIcY6zP68N4vFXwrQ/WmAdNKxDtT/r2MlfqOO1P7LWdjHSrbY/L5ZwiLtxtz8/Ld5GBfm3P5dJb+BXKrg/JNQRYlzhtz93KU8Cljq3Pwboxg0iRrY/xjhy6QcRtT9/iYJdcK2zP4M9p9KvKrI/KwVHQ3KksD8jI/jD9UauP0+ovis2cas/DzxeSz8WqT8cpKqAsJCnPzgRZb5vu6c/8K/mTE9iqj8w5w2I9AGuP2sHUS71Qq0/NNjrFcpNpT9fLdyRaASUPzo9vmhHHWE/GO6HmEU6db9m+uPF261pvxgcuYDkFWA/sjDf2VnWdz+j3MqKGUyAP80OoaRhbIM/VuwEO8sahz81+x05u32QP4F6rzEaP8A/\",\"dtype\":\"float64\",\"shape\":[75]},\"y\":{\"__ndarray__\":\"GhExyth1ND/Sv8nbtpRIP2vylNV0PVE/aTum7souWD/At0SJ8fVgPw3Iuahxymc/MSNhhJWvcD/bTfBN02d3P2zb5nxnaoA/CD5h5MAGhz8NmeH1TyaQP+zrCsc9p5Y/LbKd76fGnz/bLW5ISEmmPww9YvTcQq8/JV2OstnstT8Er5Y7M8G+P0c+r3jqkcU/5h99k6ZBzj88bCIzFzjVP4enV8oyxN0//yH99nXg5D8qOpLLf0jtP5kqGJXUifQ/c9cS8kHP/D+/DpwzojQEQIEmwoanVwxA4lgXt9HgE0BSSZ2AJuIbQAMJih9jjiNA5q4l5INuK0AwTKYKRj0zQNv5fmq8/DpAaCJseHrtQkB/+zpwzoxKQM3MzMzMeFJAZmZmZmZqWEAAAAAAAFxeQM3MzMzMJmJAmpmZmZkfZUBmZmZmZhhoQDMzMzMzEWtAAAAAAAAKbkBmZmZmZoFwQM3MzMzM/XFAMzMzMzN6c0CamZmZmfZ0QAAAAAAAc3ZAZmZmZmbvd0DNzMzMzGt5QDMzMzMz6HpAmpmZmZlkfEAAAAAAAOF9QGZmZmZmXX9AZmZmZuZsgECamZmZGSuBQM3MzMxM6YFAAAAAAICngkAzMzMzs2WDQGZmZmbmI4RAmpmZmRnihEDNzMzMTKCFQAAAAACAXoZAMzMzM7Mch0BmZmZm5tqHQJqZmZkZmYhAzczMzExXiUAAAAAAgBWKQDMzMzOz04pAZmZmZuaRi0CamZmZGVCMQM3MzMxMDo1AAAAAAIDMjUAzMzMzs4qOQGZmZmbmSI9A\",\"dtype\":\"float64\",\"shape\":[75]}},\"selected\":{\"id\":\"d0e1b0da-ea18-46bd-8e84-0f391a6a6ac6\",\"type\":\"Selection\"},\"selection_policy\":{\"id\":\"ded41c41-d232-4399-b76f-a3532caf7147\",\"type\":\"UnionRenderers\"}},\"id\":\"c2c9cb64-0649-40c2-9c9c-ab4e37113a0c\",\"type\":\"ColumnDataSource\"},{\"attributes\":{\"dimension\":1,\"plot\":{\"id\":\"30b2f849-ad1a-49da-bc95-b1127fe3f1f5\",\"subtype\":\"Figure\",\"type\":\"Plot\"},\"ticker\":{\"id\":\"e8093293-26b1-4807-8db0-0f8c7e285087\",\"type\":\"BasicTicker\"}},\"id\":\"e9a3b0b7-a3ad-4059-8c82-8802988c3535\",\"type\":\"Grid\"},{\"attributes\":{},\"id\":\"68905a4b-bd29-4fd3-88b0-56ac573cb184\",\"type\":\"SaveTool\"},{\"attributes\":{\"num_minor_ticks\":10},\"id\":\"cf863834-93bb-4c55-a7f9-4674595ba7e9\",\"type\":\"LogTicker\"},{\"attributes\":{\"data_source\":{\"id\":\"fe493adb-2179-487b-988b-65a3f2c7dd86\",\"type\":\"ColumnDataSource\"},\"glyph\":{\"id\":\"d9c45662-d9d6-4139-8cfd-b44841e1749f\",\"type\":\"Circle\"},\"hover_glyph\":null,\"muted_glyph\":null,\"nonselection_glyph\":{\"id\":\"b7ccfcbe-2aa5-4389-ac1e-9ada3ef4b5bb\",\"type\":\"Circle\"},\"selection_glyph\":null,\"view\":{\"id\":\"4ca9ab91-45a4-4966-b78c-e6bb8a2b2ac8\",\"type\":\"CDSView\"}},\"id\":\"d26fe940-9483-44c7-b224-5ac62bc2dcca\",\"type\":\"GlyphRenderer\"},{\"attributes\":{},\"id\":\"86b7d4a5-234a-4dac-8de3-5067563bf0f2\",\"type\":\"BasicTicker\"},{\"attributes\":{\"fill_alpha\":{\"value\":0.1},\"fill_color\":{\"value\":\"#1f77b4\"},\"line_alpha\":{\"value\":0.1},\"line_color\":{\"value\":\"#1f77b4\"},\"x\":{\"field\":\"x\"},\"y\":{\"field\":\"y\"}},\"id\":\"39cea8b9-8864-4d74-835c-586cf0608694\",\"type\":\"Circle\"},{\"attributes\":{},\"id\":\"abc5aea2-c1d7-4f1e-a6ec-78e5e06dff3b\",\"type\":\"LinearScale\"},{\"attributes\":{\"fill_alpha\":{\"value\":0.7},\"fill_color\":{\"value\":\"#4daf4a\"},\"line_alpha\":{\"value\":0.7},\"line_color\":{\"value\":\"#4daf4a\"},\"x\":{\"field\":\"x\"},\"y\":{\"field\":\"y\"}},\"id\":\"de1fe9a9-9af5-4902-981f-5b5fab17cc6d\",\"type\":\"Circle\"}],\"root_ids\":[\"eb3e0d12-2974-4b3b-94c9-ad5863a19632\"]},\"title\":\"Bokeh Application\",\"version\":\"0.12.16\"}};\n",
       "  var render_items = [{\"docid\":\"17c986f8-d156-4252-b547-9cd5e0639c45\",\"elementid\":\"416898d9-e4b3-4903-9929-763d8cd3c9f8\",\"modelid\":\"eb3e0d12-2974-4b3b-94c9-ad5863a19632\"}];\n",
       "  root.Bokeh.embed.embed_items_notebook(docs_json, render_items);\n",
       "\n",
       "  }\n",
       "  if (root.Bokeh !== undefined) {\n",
       "    embed_document(root);\n",
       "  } else {\n",
       "    var attempts = 0;\n",
       "    var timer = setInterval(function(root) {\n",
       "      if (root.Bokeh !== undefined) {\n",
       "        embed_document(root);\n",
       "        clearInterval(timer);\n",
       "      }\n",
       "      attempts++;\n",
       "      if (attempts > 100) {\n",
       "        console.log(\"Bokeh: ERROR: Unable to run BokehJS code because BokehJS library is missing\")\n",
       "        clearInterval(timer);\n",
       "      }\n",
       "    }, 10, root)\n",
       "  }\n",
       "})(window);"
      ],
      "application/vnd.bokehjs_exec.v0+json": ""
     },
     "metadata": {
      "application/vnd.bokehjs_exec.v0+json": {
       "id": "eb3e0d12-2974-4b3b-94c9-ad5863a19632"
      }
     },
     "output_type": "display_data"
    },
    {
     "name": "stdout",
     "output_type": "stream",
     "text": [
      "FIGURE. Cooling rate profiles.\n"
     ]
    },
    {
     "data": {
      "text/html": [
       "<a id=\"Flux_Comparison\"></a>"
      ],
      "text/plain": [
       "<IPython.core.display.HTML object>"
      ]
     },
     "metadata": {},
     "output_type": "display_data"
    },
    {
     "data": {
      "text/markdown": [
       "# Flux Comparison"
      ],
      "text/plain": [
       "<IPython.core.display.Markdown object>"
      ]
     },
     "metadata": {},
     "output_type": "display_data"
    },
    {
     "data": {
      "text/html": [
       "<div>\n",
       "<style scoped>\n",
       "    .dataframe tbody tr th:only-of-type {\n",
       "        vertical-align: middle;\n",
       "    }\n",
       "\n",
       "    .dataframe tbody tr th {\n",
       "        vertical-align: top;\n",
       "    }\n",
       "\n",
       "    .dataframe thead th {\n",
       "        text-align: right;\n",
       "    }\n",
       "</style>\n",
       "<table border=\"1\" class=\"dataframe\">\n",
       "  <thead>\n",
       "    <tr style=\"text-align: right;\">\n",
       "      <th></th>\n",
       "      <th></th>\n",
       "      <th>flug</th>\n",
       "      <th>fldg</th>\n",
       "      <th>fnetg</th>\n",
       "    </tr>\n",
       "    <tr>\n",
       "      <th>pressure</th>\n",
       "      <th>level</th>\n",
       "      <th></th>\n",
       "      <th></th>\n",
       "      <th></th>\n",
       "    </tr>\n",
       "  </thead>\n",
       "  <tbody>\n",
       "    <tr>\n",
       "      <th>0.0000</th>\n",
       "      <th>1</th>\n",
       "      <td>-16.203643</td>\n",
       "      <td>0.000000</td>\n",
       "      <td>-16.203643</td>\n",
       "    </tr>\n",
       "    <tr>\n",
       "      <th>1.0685</th>\n",
       "      <th>24</th>\n",
       "      <td>-16.297891</td>\n",
       "      <td>0.845297</td>\n",
       "      <td>-15.452594</td>\n",
       "    </tr>\n",
       "    <tr>\n",
       "      <th>1013.0000</th>\n",
       "      <th>76</th>\n",
       "      <td>-47.067549</td>\n",
       "      <td>46.613604</td>\n",
       "      <td>-0.453945</td>\n",
       "    </tr>\n",
       "  </tbody>\n",
       "</table>\n",
       "</div>"
      ],
      "text/plain": [
       "                      flug       fldg      fnetg\n",
       "pressure  level                                 \n",
       "0.0000    1     -16.203643   0.000000 -16.203643\n",
       "1.0685    24    -16.297891   0.845297 -15.452594\n",
       "1013.0000 76    -47.067549  46.613604  -0.453945"
      ]
     },
     "metadata": {},
     "output_type": "display_data"
    },
    {
     "name": "stdout",
     "output_type": "stream",
     "text": [
      "Table. Fluxes. CRD\n"
     ]
    },
    {
     "data": {
      "text/html": [
       "<div>\n",
       "<style scoped>\n",
       "    .dataframe tbody tr th:only-of-type {\n",
       "        vertical-align: middle;\n",
       "    }\n",
       "\n",
       "    .dataframe tbody tr th {\n",
       "        vertical-align: top;\n",
       "    }\n",
       "\n",
       "    .dataframe thead th {\n",
       "        text-align: right;\n",
       "    }\n",
       "</style>\n",
       "<table border=\"1\" class=\"dataframe\">\n",
       "  <thead>\n",
       "    <tr style=\"text-align: right;\">\n",
       "      <th></th>\n",
       "      <th></th>\n",
       "      <th>flug</th>\n",
       "      <th>fldg</th>\n",
       "      <th>fnetg</th>\n",
       "    </tr>\n",
       "    <tr>\n",
       "      <th>pressure</th>\n",
       "      <th>level</th>\n",
       "      <th></th>\n",
       "      <th></th>\n",
       "      <th></th>\n",
       "    </tr>\n",
       "  </thead>\n",
       "  <tbody>\n",
       "    <tr>\n",
       "      <th>0.0000</th>\n",
       "      <th>1</th>\n",
       "      <td>-15.774182</td>\n",
       "      <td>0.000000</td>\n",
       "      <td>-15.774182</td>\n",
       "    </tr>\n",
       "    <tr>\n",
       "      <th>1.0685</th>\n",
       "      <th>24</th>\n",
       "      <td>-15.874005</td>\n",
       "      <td>0.862734</td>\n",
       "      <td>-15.011271</td>\n",
       "    </tr>\n",
       "    <tr>\n",
       "      <th>1013.0000</th>\n",
       "      <th>76</th>\n",
       "      <td>-47.067549</td>\n",
       "      <td>46.664551</td>\n",
       "      <td>-0.402998</td>\n",
       "    </tr>\n",
       "  </tbody>\n",
       "</table>\n",
       "</div>"
      ],
      "text/plain": [
       "                      flug       fldg      fnetg\n",
       "pressure  level                                 \n",
       "0.0000    1     -15.774182   0.000000 -15.774182\n",
       "1.0685    24    -15.874005   0.862734 -15.011271\n",
       "1013.0000 76    -47.067549  46.664551  -0.402998"
      ]
     },
     "metadata": {},
     "output_type": "display_data"
    },
    {
     "name": "stdout",
     "output_type": "stream",
     "text": [
      "Table. Fluxes. WGT igg=10 wgt_flux=1\n"
     ]
    },
    {
     "data": {
      "text/html": [
       "<div>\n",
       "<style scoped>\n",
       "    .dataframe tbody tr th:only-of-type {\n",
       "        vertical-align: middle;\n",
       "    }\n",
       "\n",
       "    .dataframe tbody tr th {\n",
       "        vertical-align: top;\n",
       "    }\n",
       "\n",
       "    .dataframe thead th {\n",
       "        text-align: right;\n",
       "    }\n",
       "</style>\n",
       "<table border=\"1\" class=\"dataframe\">\n",
       "  <thead>\n",
       "    <tr style=\"text-align: right;\">\n",
       "      <th></th>\n",
       "      <th></th>\n",
       "      <th>flug</th>\n",
       "      <th>fldg</th>\n",
       "      <th>fnetg</th>\n",
       "    </tr>\n",
       "    <tr>\n",
       "      <th>pressure</th>\n",
       "      <th>level</th>\n",
       "      <th></th>\n",
       "      <th></th>\n",
       "      <th></th>\n",
       "    </tr>\n",
       "  </thead>\n",
       "  <tbody>\n",
       "    <tr>\n",
       "      <th>1.000000e-08</th>\n",
       "      <th>1</th>\n",
       "      <td>-15.643521</td>\n",
       "      <td>0.000183</td>\n",
       "      <td>-15.643338</td>\n",
       "    </tr>\n",
       "    <tr>\n",
       "      <th>1.068500e+00</th>\n",
       "      <th>24</th>\n",
       "      <td>-15.739703</td>\n",
       "      <td>0.851034</td>\n",
       "      <td>-14.888669</td>\n",
       "    </tr>\n",
       "    <tr>\n",
       "      <th>1.013000e+03</th>\n",
       "      <th>76</th>\n",
       "      <td>-47.067550</td>\n",
       "      <td>46.673416</td>\n",
       "      <td>-0.394134</td>\n",
       "    </tr>\n",
       "  </tbody>\n",
       "</table>\n",
       "</div>"
      ],
      "text/plain": [
       "                         flug       fldg      fnetg\n",
       "pressure     level                                 \n",
       "1.000000e-08 1     -15.643521   0.000183 -15.643338\n",
       "1.068500e+00 24    -15.739703   0.851034 -14.888669\n",
       "1.013000e+03 76    -47.067550  46.673416  -0.394134"
      ]
     },
     "metadata": {},
     "output_type": "display_data"
    },
    {
     "name": "stdout",
     "output_type": "stream",
     "text": [
      "Table. Fluxes. CLIRAD\n"
     ]
    },
    {
     "data": {
      "text/html": [
       "<div>\n",
       "<style scoped>\n",
       "    .dataframe tbody tr th:only-of-type {\n",
       "        vertical-align: middle;\n",
       "    }\n",
       "\n",
       "    .dataframe tbody tr th {\n",
       "        vertical-align: top;\n",
       "    }\n",
       "\n",
       "    .dataframe thead th {\n",
       "        text-align: right;\n",
       "    }\n",
       "</style>\n",
       "<table border=\"1\" class=\"dataframe\">\n",
       "  <thead>\n",
       "    <tr style=\"text-align: right;\">\n",
       "      <th></th>\n",
       "      <th></th>\n",
       "      <th>flug</th>\n",
       "      <th>fldg</th>\n",
       "      <th>fnetg</th>\n",
       "    </tr>\n",
       "    <tr>\n",
       "      <th>pressure</th>\n",
       "      <th>level</th>\n",
       "      <th></th>\n",
       "      <th></th>\n",
       "      <th></th>\n",
       "    </tr>\n",
       "  </thead>\n",
       "  <tbody>\n",
       "    <tr>\n",
       "      <th>0.0000</th>\n",
       "      <th>1</th>\n",
       "      <td>0.429461</td>\n",
       "      <td>0.000000</td>\n",
       "      <td>0.429461</td>\n",
       "    </tr>\n",
       "    <tr>\n",
       "      <th>1.0685</th>\n",
       "      <th>24</th>\n",
       "      <td>0.423886</td>\n",
       "      <td>0.017437</td>\n",
       "      <td>0.441323</td>\n",
       "    </tr>\n",
       "    <tr>\n",
       "      <th>1013.0000</th>\n",
       "      <th>76</th>\n",
       "      <td>0.000000</td>\n",
       "      <td>0.050947</td>\n",
       "      <td>0.050947</td>\n",
       "    </tr>\n",
       "  </tbody>\n",
       "</table>\n",
       "</div>"
      ],
      "text/plain": [
       "                     flug      fldg     fnetg\n",
       "pressure  level                              \n",
       "0.0000    1      0.429461  0.000000  0.429461\n",
       "1.0685    24     0.423886  0.017437  0.441323\n",
       "1013.0000 76     0.000000  0.050947  0.050947"
      ]
     },
     "metadata": {},
     "output_type": "display_data"
    },
    {
     "name": "stdout",
     "output_type": "stream",
     "text": [
      "Table. Fluxes. (WGT igg=10 wgt_flux=1) - (CRD)\n"
     ]
    },
    {
     "data": {
      "text/html": [
       "<div>\n",
       "<style scoped>\n",
       "    .dataframe tbody tr th:only-of-type {\n",
       "        vertical-align: middle;\n",
       "    }\n",
       "\n",
       "    .dataframe tbody tr th {\n",
       "        vertical-align: top;\n",
       "    }\n",
       "\n",
       "    .dataframe thead th {\n",
       "        text-align: right;\n",
       "    }\n",
       "</style>\n",
       "<table border=\"1\" class=\"dataframe\">\n",
       "  <thead>\n",
       "    <tr style=\"text-align: right;\">\n",
       "      <th></th>\n",
       "      <th></th>\n",
       "      <th>flug</th>\n",
       "      <th>fldg</th>\n",
       "      <th>fnetg</th>\n",
       "    </tr>\n",
       "    <tr>\n",
       "      <th>pressure</th>\n",
       "      <th>level</th>\n",
       "      <th></th>\n",
       "      <th></th>\n",
       "      <th></th>\n",
       "    </tr>\n",
       "  </thead>\n",
       "  <tbody>\n",
       "    <tr>\n",
       "      <th>0.0000</th>\n",
       "      <th>1</th>\n",
       "      <td>5.601220e-01</td>\n",
       "      <td>0.000183</td>\n",
       "      <td>0.560305</td>\n",
       "    </tr>\n",
       "    <tr>\n",
       "      <th>1.0685</th>\n",
       "      <th>24</th>\n",
       "      <td>5.581880e-01</td>\n",
       "      <td>0.005737</td>\n",
       "      <td>0.563925</td>\n",
       "    </tr>\n",
       "    <tr>\n",
       "      <th>1013.0000</th>\n",
       "      <th>76</th>\n",
       "      <td>-1.000000e-06</td>\n",
       "      <td>0.059812</td>\n",
       "      <td>0.059811</td>\n",
       "    </tr>\n",
       "  </tbody>\n",
       "</table>\n",
       "</div>"
      ],
      "text/plain": [
       "                         flug      fldg     fnetg\n",
       "pressure  level                                  \n",
       "0.0000    1      5.601220e-01  0.000183  0.560305\n",
       "1.0685    24     5.581880e-01  0.005737  0.563925\n",
       "1013.0000 76    -1.000000e-06  0.059812  0.059811"
      ]
     },
     "metadata": {},
     "output_type": "display_data"
    },
    {
     "name": "stdout",
     "output_type": "stream",
     "text": [
      "Table. Fluxes. (CLIRAD) - (CRD)\n"
     ]
    },
    {
     "data": {
      "text/html": [
       "<a id=\"Best-fit_Parameters\"></a>"
      ],
      "text/plain": [
       "<IPython.core.display.HTML object>"
      ]
     },
     "metadata": {},
     "output_type": "display_data"
    },
    {
     "data": {
      "text/markdown": [
       "# Best-fit Parameters"
      ],
      "text/plain": [
       "<IPython.core.display.Markdown object>"
      ]
     },
     "metadata": {},
     "output_type": "display_data"
    },
    {
     "name": "stdout",
     "output_type": "stream",
     "text": [
      "Best-fit values for each (gas, band)\n",
      "------------------------------------\n",
      "o h2o band3b\n",
      "  atmpro = trp\n",
      "  band = 3b\n",
      "  commitnumber = a06b618\n",
      "  conc = None\n",
      "  dv = 0.001\n",
      "  klin = 1e-24\n",
      "  molecule = h2o\n",
      "  ng_adju = [0]\n",
      "  ng_refs = [6]\n",
      "  nv = 1000\n",
      "  option_compute_btable = 0\n",
      "  option_compute_ktable = 1\n",
      "  option_wgt_flux = 1\n",
      "  option_wgt_k = 1\n",
      "  ref_pts = [(600, 250)]\n",
      "  tsfc = 294\n",
      "  vmax = 720\n",
      "  vmin = 620\n",
      "  w_diffuse = [(1.66, 1.66, 1.66, 1.55, 1.5, 1.66)]\n",
      "  wgt = [(0.8, 0.8, 0.8, 0.6, 0.6, 0.9)]\n",
      "o co2 band3b\n",
      "  atmpro = mls\n",
      "  band = 3b\n",
      "  commitnumber = a06b618\n",
      "  conc = 0.0004\n",
      "  dv = 0.001\n",
      "  klin = 0\n",
      "  molecule = co2\n",
      "  ng_adju = [0, 0]\n",
      "  ng_refs = [5, 2]\n",
      "  nv = 1000\n",
      "  option_compute_btable = 0\n",
      "  option_compute_ktable = 1\n",
      "  option_wgt_flux = 1\n",
      "  option_wgt_k = 1\n",
      "  ref_pts = [(1, 250), (10, 250)]\n",
      "  tsfc = 294\n",
      "  vmax = 720\n",
      "  vmin = 620\n",
      "  w_diffuse = [(1.66, 1.66, 1.66, 1.66, 1.66), (1.66, 1.66)]\n",
      "  wgt = [(0, 0.6, 0.5, 0.7, 0.8), (0.8, 0.7)]\n"
     ]
    }
   ],
   "source": [
    "script()"
   ]
  },
  {
   "cell_type": "code",
   "execution_count": 13,
   "metadata": {
    "collapsed": true
   },
   "outputs": [
    {
     "data": {
      "text/html": [
       "<script>\n",
       "code_show=true; \n",
       "function code_toggle() {\n",
       " if (code_show){\n",
       " $('div.input').hide();\n",
       " } else {\n",
       " $('div.input').show();\n",
       " }\n",
       " code_show = !code_show\n",
       "} \n",
       "$( document ).ready(code_toggle);\n",
       "</script>\n",
       "<form action=\"javascript:code_toggle()\"><input type=\"submit\" value=\"Click here to toggle on/off the raw code.\"></form>"
      ],
      "text/plain": [
       "<IPython.core.display.HTML object>"
      ]
     },
     "execution_count": 13,
     "metadata": {},
     "output_type": "execute_result"
    }
   ],
   "source": [
    "display.HTML('''<script>\n",
    "code_show=true; \n",
    "function code_toggle() {\n",
    " if (code_show){\n",
    " $('div.input').hide();\n",
    " } else {\n",
    " $('div.input').show();\n",
    " }\n",
    " code_show = !code_show\n",
    "} \n",
    "$( document ).ready(code_toggle);\n",
    "</script>\n",
    "<form action=\"javascript:code_toggle()\"><input type=\"submit\" value=\"Click here to toggle on/off the raw code.\"></form>''')"
   ]
  }
 ],
 "metadata": {
  "kernelspec": {
   "display_name": "Python 3",
   "language": "python",
   "name": "python3"
  },
  "language_info": {
   "codemirror_mode": {
    "name": "ipython",
    "version": 3
   },
   "file_extension": ".py",
   "mimetype": "text/x-python",
   "name": "python",
   "nbconvert_exporter": "python",
   "pygments_lexer": "ipython3",
   "version": "3.6.1"
  }
 },
 "nbformat": 4,
 "nbformat_minor": 2
}
