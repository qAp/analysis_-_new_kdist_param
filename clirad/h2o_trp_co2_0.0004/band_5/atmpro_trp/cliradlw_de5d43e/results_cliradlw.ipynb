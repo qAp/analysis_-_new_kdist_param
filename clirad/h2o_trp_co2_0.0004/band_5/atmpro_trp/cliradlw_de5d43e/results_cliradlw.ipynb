{
 "cells": [
  {
   "cell_type": "code",
   "execution_count": 1,
   "metadata": {
    "collapsed": true
   },
   "outputs": [],
   "source": [
    "%matplotlib inline\n",
    "import os\n",
    "import re\n",
    "import io\n",
    "import itertools\n",
    "import pprint\n",
    "\n",
    "from bokeh.io import output_notebook, show\n",
    "from bokeh.layouts import gridplot\n",
    "from bokeh.plotting import figure\n",
    "from bokeh.models import Range1d, Legend\n",
    "from bokeh.palettes import all_palettes\n",
    "\n",
    "import matplotlib\n",
    "import matplotlib.pyplot as plt\n",
    "import numpy as np\n",
    "import pandas as pd\n",
    "import xarray as xr\n",
    "\n",
    "import climatools.lblnew.bestfit_params as bestfits\n",
    "from climatools.lblnew import setup_bestfit, setup_overlap\n",
    "import climatools.lblnew.pipeline as pipe_lblnew\n",
    "import climatools.cliradlw.setup as setup_cliradlw\n",
    "import climatools.cliradlw.pipeline as pipe_cliradlw\n",
    "\n",
    "import climatools.html.html as climahtml\n",
    "from climatools.lblnew.dataio import *\n",
    "from climatools.plot.plot import *\n",
    "\n",
    "\n",
    "import IPython.display as display"
   ]
  },
  {
   "cell_type": "code",
   "execution_count": 2,
   "metadata": {
    "collapsed": true
   },
   "outputs": [],
   "source": [
    "%run param.py"
   ]
  },
  {
   "cell_type": "code",
   "execution_count": 3,
   "metadata": {
    "collapsed": true
   },
   "outputs": [],
   "source": [
    "def load_output_file(path_csv):\n",
    "    '''\n",
    "    Load lblnew output .csv file to xarray.Dataset\n",
    "    \n",
    "    Parameters\n",
    "    ----------\n",
    "    path_csv: str\n",
    "              Path to the .csv file to be loaded.\n",
    "    ds: xarray.Dataset\n",
    "        Data in the input file in the form of an xarray.Dataset.\n",
    "    '''\n",
    "    toindex = ['band', 'pressure', 'igg', 'g']    \n",
    "    df = pd.read_csv(path_csv, sep=r'\\s+')\n",
    "    df = df.set_index([i for i in toindex if i in df.columns])\n",
    "    df = df.rename(columns={'sfu': 'flug',\n",
    "                            'sfd': 'fldg',\n",
    "                            'fnet': 'fnetg',\n",
    "                            'coolr': 'coolrg'})\n",
    "    ds = xr.Dataset.from_dataframe(df)\n",
    "\n",
    "    for l in ('level', 'layer'):\n",
    "        if l in ds.data_vars:\n",
    "            if len(ds[l].dims) > 1:\n",
    "                surface = {d: 0 for d in ds.dims if d != 'pressure'}\n",
    "                coord_level = ds[l][surface]\n",
    "                ds.coords[l] = ('pressure', coord_level)\n",
    "            else:\n",
    "                ds.coords[l] = ('pressure', ds[l])\n",
    "    \n",
    "    return ds"
   ]
  },
  {
   "cell_type": "code",
   "execution_count": 4,
   "metadata": {
    "collapsed": true
   },
   "outputs": [],
   "source": [
    "def lblnew_setup(param=None):\n",
    "    if 'ng_refs' in param:\n",
    "        return {'setup': setup_bestfit,\n",
    "                'fname_flux_crd': 'output_flux.dat',\n",
    "                'fname_cool_crd': 'output_coolr.dat',\n",
    "                'fname_flux_wgt': 'output_wfluxg.dat',\n",
    "                'fname_cool_wgt': 'output_wcoolrg.dat'}\n",
    "    else:\n",
    "        return {'setup': setup_overlap,\n",
    "                'fname_flux_crd': 'output_flux.dat',\n",
    "                'fname_cool_crd': 'output_coolr.dat',\n",
    "                'fname_flux_wgt': 'output_wflux.dat',\n",
    "                'fname_cool_wgt': 'output_wcoolr.dat'}\n",
    "\n",
    "    \n",
    "def load_lblnew_data(param):\n",
    "    \n",
    "    fname_dsname = [('fname_flux_crd', 'ds_flux_crd'),\n",
    "                    ('fname_cool_crd', 'ds_cool_crd'),\n",
    "                    ('fname_flux_wgt', 'ds_flux_wgt'),\n",
    "                    ('fname_cool_wgt', 'ds_cool_wgt')]\n",
    "    \n",
    "    d = lblnew_setup(param)\n",
    "    dir_fortran = pipe_lblnew.get_dir_case(param, setup=d['setup'])\n",
    "    \n",
    "    data_dict = {}\n",
    "    for fname, dsname in fname_dsname:\n",
    "        fpath = os.path.join(dir_fortran, d[fname])\n",
    "        data_dict[dsname] = load_output_file(fpath)\n",
    "    return data_dict\n",
    "    \n",
    "\n",
    "    \n",
    "    "
   ]
  },
  {
   "cell_type": "code",
   "execution_count": 5,
   "metadata": {
    "collapsed": true
   },
   "outputs": [],
   "source": [
    "d = load_lblnew_data(PARAM_LBLNEW)\n",
    "\n",
    "DS_FLUX_CRD = d['ds_flux_crd']\n",
    "DS_COOL_CRD = d['ds_cool_crd']\n",
    "DS_FLUX_WGT = d['ds_flux_wgt']\n",
    "DS_COOL_WGT = d['ds_cool_wgt']"
   ]
  },
  {
   "cell_type": "code",
   "execution_count": 6,
   "metadata": {
    "collapsed": true
   },
   "outputs": [
    {
     "name": "stdout",
     "output_type": "stream",
     "text": [
      "The history saving thread hit an unexpected error (OperationalError('database is locked',)).History will not be written to the database.\n"
     ]
    }
   ],
   "source": [
    "DIR_FORTRAN = pipe_cliradlw.get_fortran_dir(PARAM, \n",
    "                                            setup=setup_cliradlw)\n",
    "\n",
    "PATH_FLUX = os.path.join(DIR_FORTRAN, 'output_flux.dat')\n",
    "PATH_COOL = os.path.join(DIR_FORTRAN, 'output_coolr.dat')\n",
    "\n",
    "DS_FLUX = load_output_file(PATH_FLUX)\n",
    "DS_COOL = load_output_file(PATH_COOL)"
   ]
  },
  {
   "cell_type": "code",
   "execution_count": 7,
   "metadata": {
    "collapsed": true
   },
   "outputs": [
    {
     "data": {
      "text/html": [
       "\n",
       "    <div class=\"bk-root\">\n",
       "        <a href=\"https://bokeh.pydata.org\" target=\"_blank\" class=\"bk-logo bk-logo-small bk-logo-notebook\"></a>\n",
       "        <span id=\"f9f0c3e7-ef08-40b1-ad62-0aa3f266adec\">Loading BokehJS ...</span>\n",
       "    </div>"
      ]
     },
     "metadata": {},
     "output_type": "display_data"
    },
    {
     "data": {
      "application/javascript": [
       "\n",
       "(function(root) {\n",
       "  function now() {\n",
       "    return new Date();\n",
       "  }\n",
       "\n",
       "  var force = true;\n",
       "\n",
       "  if (typeof (root._bokeh_onload_callbacks) === \"undefined\" || force === true) {\n",
       "    root._bokeh_onload_callbacks = [];\n",
       "    root._bokeh_is_loading = undefined;\n",
       "  }\n",
       "\n",
       "  var JS_MIME_TYPE = 'application/javascript';\n",
       "  var HTML_MIME_TYPE = 'text/html';\n",
       "  var EXEC_MIME_TYPE = 'application/vnd.bokehjs_exec.v0+json';\n",
       "  var CLASS_NAME = 'output_bokeh rendered_html';\n",
       "\n",
       "  /**\n",
       "   * Render data to the DOM node\n",
       "   */\n",
       "  function render(props, node) {\n",
       "    var script = document.createElement(\"script\");\n",
       "    node.appendChild(script);\n",
       "  }\n",
       "\n",
       "  /**\n",
       "   * Handle when an output is cleared or removed\n",
       "   */\n",
       "  function handleClearOutput(event, handle) {\n",
       "    var cell = handle.cell;\n",
       "\n",
       "    var id = cell.output_area._bokeh_element_id;\n",
       "    var server_id = cell.output_area._bokeh_server_id;\n",
       "    // Clean up Bokeh references\n",
       "    if (id !== undefined) {\n",
       "      Bokeh.index[id].model.document.clear();\n",
       "      delete Bokeh.index[id];\n",
       "    }\n",
       "\n",
       "    if (server_id !== undefined) {\n",
       "      // Clean up Bokeh references\n",
       "      var cmd = \"from bokeh.io.state import curstate; print(curstate().uuid_to_server['\" + server_id + \"'].get_sessions()[0].document.roots[0]._id)\";\n",
       "      cell.notebook.kernel.execute(cmd, {\n",
       "        iopub: {\n",
       "          output: function(msg) {\n",
       "            var element_id = msg.content.text.trim();\n",
       "            Bokeh.index[element_id].model.document.clear();\n",
       "            delete Bokeh.index[element_id];\n",
       "          }\n",
       "        }\n",
       "      });\n",
       "      // Destroy server and session\n",
       "      var cmd = \"import bokeh.io.notebook as ion; ion.destroy_server('\" + server_id + \"')\";\n",
       "      cell.notebook.kernel.execute(cmd);\n",
       "    }\n",
       "  }\n",
       "\n",
       "  /**\n",
       "   * Handle when a new output is added\n",
       "   */\n",
       "  function handleAddOutput(event, handle) {\n",
       "    var output_area = handle.output_area;\n",
       "    var output = handle.output;\n",
       "\n",
       "    // limit handleAddOutput to display_data with EXEC_MIME_TYPE content only\n",
       "    if ((output.output_type != \"display_data\") || (!output.data.hasOwnProperty(EXEC_MIME_TYPE))) {\n",
       "      return\n",
       "    }\n",
       "\n",
       "    var toinsert = output_area.element.find(\".\" + CLASS_NAME.split(' ')[0]);\n",
       "\n",
       "    if (output.metadata[EXEC_MIME_TYPE][\"id\"] !== undefined) {\n",
       "      toinsert[toinsert.length - 1].firstChild.textContent = output.data[JS_MIME_TYPE];\n",
       "      // store reference to embed id on output_area\n",
       "      output_area._bokeh_element_id = output.metadata[EXEC_MIME_TYPE][\"id\"];\n",
       "    }\n",
       "    if (output.metadata[EXEC_MIME_TYPE][\"server_id\"] !== undefined) {\n",
       "      var bk_div = document.createElement(\"div\");\n",
       "      bk_div.innerHTML = output.data[HTML_MIME_TYPE];\n",
       "      var script_attrs = bk_div.children[0].attributes;\n",
       "      for (var i = 0; i < script_attrs.length; i++) {\n",
       "        toinsert[toinsert.length - 1].firstChild.setAttribute(script_attrs[i].name, script_attrs[i].value);\n",
       "      }\n",
       "      // store reference to server id on output_area\n",
       "      output_area._bokeh_server_id = output.metadata[EXEC_MIME_TYPE][\"server_id\"];\n",
       "    }\n",
       "  }\n",
       "\n",
       "  function register_renderer(events, OutputArea) {\n",
       "\n",
       "    function append_mime(data, metadata, element) {\n",
       "      // create a DOM node to render to\n",
       "      var toinsert = this.create_output_subarea(\n",
       "        metadata,\n",
       "        CLASS_NAME,\n",
       "        EXEC_MIME_TYPE\n",
       "      );\n",
       "      this.keyboard_manager.register_events(toinsert);\n",
       "      // Render to node\n",
       "      var props = {data: data, metadata: metadata[EXEC_MIME_TYPE]};\n",
       "      render(props, toinsert[toinsert.length - 1]);\n",
       "      element.append(toinsert);\n",
       "      return toinsert\n",
       "    }\n",
       "\n",
       "    /* Handle when an output is cleared or removed */\n",
       "    events.on('clear_output.CodeCell', handleClearOutput);\n",
       "    events.on('delete.Cell', handleClearOutput);\n",
       "\n",
       "    /* Handle when a new output is added */\n",
       "    events.on('output_added.OutputArea', handleAddOutput);\n",
       "\n",
       "    /**\n",
       "     * Register the mime type and append_mime function with output_area\n",
       "     */\n",
       "    OutputArea.prototype.register_mime_type(EXEC_MIME_TYPE, append_mime, {\n",
       "      /* Is output safe? */\n",
       "      safe: true,\n",
       "      /* Index of renderer in `output_area.display_order` */\n",
       "      index: 0\n",
       "    });\n",
       "  }\n",
       "\n",
       "  // register the mime type if in Jupyter Notebook environment and previously unregistered\n",
       "  if (root.Jupyter !== undefined) {\n",
       "    var events = require('base/js/events');\n",
       "    var OutputArea = require('notebook/js/outputarea').OutputArea;\n",
       "\n",
       "    if (OutputArea.prototype.mime_types().indexOf(EXEC_MIME_TYPE) == -1) {\n",
       "      register_renderer(events, OutputArea);\n",
       "    }\n",
       "  }\n",
       "\n",
       "  \n",
       "  if (typeof (root._bokeh_timeout) === \"undefined\" || force === true) {\n",
       "    root._bokeh_timeout = Date.now() + 5000;\n",
       "    root._bokeh_failed_load = false;\n",
       "  }\n",
       "\n",
       "  var NB_LOAD_WARNING = {'data': {'text/html':\n",
       "     \"<div style='background-color: #fdd'>\\n\"+\n",
       "     \"<p>\\n\"+\n",
       "     \"BokehJS does not appear to have successfully loaded. If loading BokehJS from CDN, this \\n\"+\n",
       "     \"may be due to a slow or bad network connection. Possible fixes:\\n\"+\n",
       "     \"</p>\\n\"+\n",
       "     \"<ul>\\n\"+\n",
       "     \"<li>re-rerun `output_notebook()` to attempt to load from CDN again, or</li>\\n\"+\n",
       "     \"<li>use INLINE resources instead, as so:</li>\\n\"+\n",
       "     \"</ul>\\n\"+\n",
       "     \"<code>\\n\"+\n",
       "     \"from bokeh.resources import INLINE\\n\"+\n",
       "     \"output_notebook(resources=INLINE)\\n\"+\n",
       "     \"</code>\\n\"+\n",
       "     \"</div>\"}};\n",
       "\n",
       "  function display_loaded() {\n",
       "    var el = document.getElementById(\"f9f0c3e7-ef08-40b1-ad62-0aa3f266adec\");\n",
       "    if (el != null) {\n",
       "      el.textContent = \"BokehJS is loading...\";\n",
       "    }\n",
       "    if (root.Bokeh !== undefined) {\n",
       "      if (el != null) {\n",
       "        el.textContent = \"BokehJS \" + root.Bokeh.version + \" successfully loaded.\";\n",
       "      }\n",
       "    } else if (Date.now() < root._bokeh_timeout) {\n",
       "      setTimeout(display_loaded, 100)\n",
       "    }\n",
       "  }\n",
       "\n",
       "\n",
       "  function run_callbacks() {\n",
       "    try {\n",
       "      root._bokeh_onload_callbacks.forEach(function(callback) { callback() });\n",
       "    }\n",
       "    finally {\n",
       "      delete root._bokeh_onload_callbacks\n",
       "    }\n",
       "    console.info(\"Bokeh: all callbacks have finished\");\n",
       "  }\n",
       "\n",
       "  function load_libs(js_urls, callback) {\n",
       "    root._bokeh_onload_callbacks.push(callback);\n",
       "    if (root._bokeh_is_loading > 0) {\n",
       "      console.log(\"Bokeh: BokehJS is being loaded, scheduling callback at\", now());\n",
       "      return null;\n",
       "    }\n",
       "    if (js_urls == null || js_urls.length === 0) {\n",
       "      run_callbacks();\n",
       "      return null;\n",
       "    }\n",
       "    console.log(\"Bokeh: BokehJS not loaded, scheduling load and callback at\", now());\n",
       "    root._bokeh_is_loading = js_urls.length;\n",
       "    for (var i = 0; i < js_urls.length; i++) {\n",
       "      var url = js_urls[i];\n",
       "      var s = document.createElement('script');\n",
       "      s.src = url;\n",
       "      s.async = false;\n",
       "      s.onreadystatechange = s.onload = function() {\n",
       "        root._bokeh_is_loading--;\n",
       "        if (root._bokeh_is_loading === 0) {\n",
       "          console.log(\"Bokeh: all BokehJS libraries loaded\");\n",
       "          run_callbacks()\n",
       "        }\n",
       "      };\n",
       "      s.onerror = function() {\n",
       "        console.warn(\"failed to load library \" + url);\n",
       "      };\n",
       "      console.log(\"Bokeh: injecting script tag for BokehJS library: \", url);\n",
       "      document.getElementsByTagName(\"head\")[0].appendChild(s);\n",
       "    }\n",
       "  };var element = document.getElementById(\"f9f0c3e7-ef08-40b1-ad62-0aa3f266adec\");\n",
       "  if (element == null) {\n",
       "    console.log(\"Bokeh: ERROR: autoload.js configured with elementid 'f9f0c3e7-ef08-40b1-ad62-0aa3f266adec' but no matching script tag was found. \")\n",
       "    return false;\n",
       "  }\n",
       "\n",
       "  var js_urls = [\"https://cdn.pydata.org/bokeh/release/bokeh-0.12.16.min.js\", \"https://cdn.pydata.org/bokeh/release/bokeh-widgets-0.12.16.min.js\", \"https://cdn.pydata.org/bokeh/release/bokeh-tables-0.12.16.min.js\", \"https://cdn.pydata.org/bokeh/release/bokeh-gl-0.12.16.min.js\"];\n",
       "\n",
       "  var inline_js = [\n",
       "    function(Bokeh) {\n",
       "      Bokeh.set_log_level(\"info\");\n",
       "    },\n",
       "    \n",
       "    function(Bokeh) {\n",
       "      \n",
       "    },\n",
       "    function(Bokeh) {\n",
       "      console.log(\"Bokeh: injecting CSS: https://cdn.pydata.org/bokeh/release/bokeh-0.12.16.min.css\");\n",
       "      Bokeh.embed.inject_css(\"https://cdn.pydata.org/bokeh/release/bokeh-0.12.16.min.css\");\n",
       "      console.log(\"Bokeh: injecting CSS: https://cdn.pydata.org/bokeh/release/bokeh-widgets-0.12.16.min.css\");\n",
       "      Bokeh.embed.inject_css(\"https://cdn.pydata.org/bokeh/release/bokeh-widgets-0.12.16.min.css\");\n",
       "      console.log(\"Bokeh: injecting CSS: https://cdn.pydata.org/bokeh/release/bokeh-tables-0.12.16.min.css\");\n",
       "      Bokeh.embed.inject_css(\"https://cdn.pydata.org/bokeh/release/bokeh-tables-0.12.16.min.css\");\n",
       "    }\n",
       "  ];\n",
       "\n",
       "  function run_inline_js() {\n",
       "    \n",
       "    if ((root.Bokeh !== undefined) || (force === true)) {\n",
       "      for (var i = 0; i < inline_js.length; i++) {\n",
       "        inline_js[i].call(root, root.Bokeh);\n",
       "      }if (force === true) {\n",
       "        display_loaded();\n",
       "      }} else if (Date.now() < root._bokeh_timeout) {\n",
       "      setTimeout(run_inline_js, 100);\n",
       "    } else if (!root._bokeh_failed_load) {\n",
       "      console.log(\"Bokeh: BokehJS failed to load within specified timeout.\");\n",
       "      root._bokeh_failed_load = true;\n",
       "    } else if (force !== true) {\n",
       "      var cell = $(document.getElementById(\"f9f0c3e7-ef08-40b1-ad62-0aa3f266adec\")).parents('.cell').data().cell;\n",
       "      cell.output_area.append_execute_result(NB_LOAD_WARNING)\n",
       "    }\n",
       "\n",
       "  }\n",
       "\n",
       "  if (root._bokeh_is_loading === 0) {\n",
       "    console.log(\"Bokeh: BokehJS loaded, going straight to plotting\");\n",
       "    run_inline_js();\n",
       "  } else {\n",
       "    load_libs(js_urls, function() {\n",
       "      console.log(\"Bokeh: BokehJS plotting callback run at\", now());\n",
       "      run_inline_js();\n",
       "    });\n",
       "  }\n",
       "}(window));"
      ],
      "application/vnd.bokehjs_load.v0+json": "\n(function(root) {\n  function now() {\n    return new Date();\n  }\n\n  var force = true;\n\n  if (typeof (root._bokeh_onload_callbacks) === \"undefined\" || force === true) {\n    root._bokeh_onload_callbacks = [];\n    root._bokeh_is_loading = undefined;\n  }\n\n  \n\n  \n  if (typeof (root._bokeh_timeout) === \"undefined\" || force === true) {\n    root._bokeh_timeout = Date.now() + 5000;\n    root._bokeh_failed_load = false;\n  }\n\n  var NB_LOAD_WARNING = {'data': {'text/html':\n     \"<div style='background-color: #fdd'>\\n\"+\n     \"<p>\\n\"+\n     \"BokehJS does not appear to have successfully loaded. If loading BokehJS from CDN, this \\n\"+\n     \"may be due to a slow or bad network connection. Possible fixes:\\n\"+\n     \"</p>\\n\"+\n     \"<ul>\\n\"+\n     \"<li>re-rerun `output_notebook()` to attempt to load from CDN again, or</li>\\n\"+\n     \"<li>use INLINE resources instead, as so:</li>\\n\"+\n     \"</ul>\\n\"+\n     \"<code>\\n\"+\n     \"from bokeh.resources import INLINE\\n\"+\n     \"output_notebook(resources=INLINE)\\n\"+\n     \"</code>\\n\"+\n     \"</div>\"}};\n\n  function display_loaded() {\n    var el = document.getElementById(\"f9f0c3e7-ef08-40b1-ad62-0aa3f266adec\");\n    if (el != null) {\n      el.textContent = \"BokehJS is loading...\";\n    }\n    if (root.Bokeh !== undefined) {\n      if (el != null) {\n        el.textContent = \"BokehJS \" + root.Bokeh.version + \" successfully loaded.\";\n      }\n    } else if (Date.now() < root._bokeh_timeout) {\n      setTimeout(display_loaded, 100)\n    }\n  }\n\n\n  function run_callbacks() {\n    try {\n      root._bokeh_onload_callbacks.forEach(function(callback) { callback() });\n    }\n    finally {\n      delete root._bokeh_onload_callbacks\n    }\n    console.info(\"Bokeh: all callbacks have finished\");\n  }\n\n  function load_libs(js_urls, callback) {\n    root._bokeh_onload_callbacks.push(callback);\n    if (root._bokeh_is_loading > 0) {\n      console.log(\"Bokeh: BokehJS is being loaded, scheduling callback at\", now());\n      return null;\n    }\n    if (js_urls == null || js_urls.length === 0) {\n      run_callbacks();\n      return null;\n    }\n    console.log(\"Bokeh: BokehJS not loaded, scheduling load and callback at\", now());\n    root._bokeh_is_loading = js_urls.length;\n    for (var i = 0; i < js_urls.length; i++) {\n      var url = js_urls[i];\n      var s = document.createElement('script');\n      s.src = url;\n      s.async = false;\n      s.onreadystatechange = s.onload = function() {\n        root._bokeh_is_loading--;\n        if (root._bokeh_is_loading === 0) {\n          console.log(\"Bokeh: all BokehJS libraries loaded\");\n          run_callbacks()\n        }\n      };\n      s.onerror = function() {\n        console.warn(\"failed to load library \" + url);\n      };\n      console.log(\"Bokeh: injecting script tag for BokehJS library: \", url);\n      document.getElementsByTagName(\"head\")[0].appendChild(s);\n    }\n  };var element = document.getElementById(\"f9f0c3e7-ef08-40b1-ad62-0aa3f266adec\");\n  if (element == null) {\n    console.log(\"Bokeh: ERROR: autoload.js configured with elementid 'f9f0c3e7-ef08-40b1-ad62-0aa3f266adec' but no matching script tag was found. \")\n    return false;\n  }\n\n  var js_urls = [\"https://cdn.pydata.org/bokeh/release/bokeh-0.12.16.min.js\", \"https://cdn.pydata.org/bokeh/release/bokeh-widgets-0.12.16.min.js\", \"https://cdn.pydata.org/bokeh/release/bokeh-tables-0.12.16.min.js\", \"https://cdn.pydata.org/bokeh/release/bokeh-gl-0.12.16.min.js\"];\n\n  var inline_js = [\n    function(Bokeh) {\n      Bokeh.set_log_level(\"info\");\n    },\n    \n    function(Bokeh) {\n      \n    },\n    function(Bokeh) {\n      console.log(\"Bokeh: injecting CSS: https://cdn.pydata.org/bokeh/release/bokeh-0.12.16.min.css\");\n      Bokeh.embed.inject_css(\"https://cdn.pydata.org/bokeh/release/bokeh-0.12.16.min.css\");\n      console.log(\"Bokeh: injecting CSS: https://cdn.pydata.org/bokeh/release/bokeh-widgets-0.12.16.min.css\");\n      Bokeh.embed.inject_css(\"https://cdn.pydata.org/bokeh/release/bokeh-widgets-0.12.16.min.css\");\n      console.log(\"Bokeh: injecting CSS: https://cdn.pydata.org/bokeh/release/bokeh-tables-0.12.16.min.css\");\n      Bokeh.embed.inject_css(\"https://cdn.pydata.org/bokeh/release/bokeh-tables-0.12.16.min.css\");\n    }\n  ];\n\n  function run_inline_js() {\n    \n    if ((root.Bokeh !== undefined) || (force === true)) {\n      for (var i = 0; i < inline_js.length; i++) {\n        inline_js[i].call(root, root.Bokeh);\n      }if (force === true) {\n        display_loaded();\n      }} else if (Date.now() < root._bokeh_timeout) {\n      setTimeout(run_inline_js, 100);\n    } else if (!root._bokeh_failed_load) {\n      console.log(\"Bokeh: BokehJS failed to load within specified timeout.\");\n      root._bokeh_failed_load = true;\n    } else if (force !== true) {\n      var cell = $(document.getElementById(\"f9f0c3e7-ef08-40b1-ad62-0aa3f266adec\")).parents('.cell').data().cell;\n      cell.output_area.append_execute_result(NB_LOAD_WARNING)\n    }\n\n  }\n\n  if (root._bokeh_is_loading === 0) {\n    console.log(\"Bokeh: BokehJS loaded, going straight to plotting\");\n    run_inline_js();\n  } else {\n    load_libs(js_urls, function() {\n      console.log(\"Bokeh: BokehJS plotting callback run at\", now());\n      run_inline_js();\n    });\n  }\n}(window));"
     },
     "metadata": {},
     "output_type": "display_data"
    }
   ],
   "source": [
    "output_notebook()"
   ]
  },
  {
   "cell_type": "code",
   "execution_count": 8,
   "metadata": {
    "collapsed": true
   },
   "outputs": [],
   "source": [
    "def fmt_cool(ds_in):\n",
    "    ds = ds_in.copy(deep=True)\n",
    "    if 'igg' in ds.dims:\n",
    "        ds = ds.sel(igg=1)\n",
    "\n",
    "    if 'g' in ds.dims:\n",
    "        ds = ds.sum('g')\n",
    "            \n",
    "    if 'band' in ds.dims:\n",
    "        try:\n",
    "            ds = ds.squeeze('band')\n",
    "        except ValueError:\n",
    "            ds = ds.sum('band')\n",
    "                \n",
    "    return ds['coolrg']\n",
    "\n",
    "\n",
    "def pltdata_cooling_1(ds_cool=None,\n",
    "                      ds_cool_crd=None, ds_cool_wgt=None):\n",
    "    \n",
    "\n",
    "\n",
    "    colors = all_palettes['Set1'][4]\n",
    "    data = [{'label': 'CLIRAD `coolr_bands`',\n",
    "             'srs': fmt_cool(ds_cool),\n",
    "             'line_dash': 'dashed', 'line_width': 5,\n",
    "             'color': colors[0], 'alpha': .6},\n",
    "            {'label': 'CRD',\n",
    "             'srs': fmt_cool(ds_cool_crd),\n",
    "             'line_dash': 'solid', 'line_width': 1.5,\n",
    "             'marker': 'circle', 'marker_size': 5,\n",
    "             'color': colors[2], 'alpha': 1,},\n",
    "            {'label': 'WGT igg=10 wgt_flux=2',\n",
    "             'srs': fmt_cool(ds_cool_wgt),\n",
    "             'line_dash': 'solid', 'line_width': 3,\n",
    "             'marker': 'square', 'marker_size': 5,\n",
    "             'color': colors[3], 'alpha': .6}]\n",
    "    return data\n",
    "\n",
    "\n",
    "def nice_xlims(pltdata=None, prange=None):\n",
    "    \n",
    "    def get_slice(srs):\n",
    "        return srs.sel(pressure=slice(*prange))\n",
    "    \n",
    "    srss = [d['srs'] for d in pltdata]\n",
    "    vmin = min([get_slice(srs).min() for srs in srss])\n",
    "    vmax = max([get_slice(srs).max() for srs in srss])\n",
    "    dv = (vmax - vmin) * .01\n",
    "    return float(vmin - dv), float(vmax + dv)\n",
    "    \n",
    "\n",
    "def plt_cooling_bokeh(pltdata=None):\n",
    "    '''\n",
    "    Plot a list of cooling rate profiles using bokeh.\n",
    "    '''\n",
    "    ymin = 1e-2 \n",
    "    ymax = 1020 \n",
    "        \n",
    "    p1 = figure(title=\"Linear pressure scale\", \n",
    "                plot_width=400)        \n",
    "    xmin, xmax = nice_xlims(pltdata, prange=(50, 1050))\n",
    "    for d in pltdata:\n",
    "        if 'marker' in d:\n",
    "            getattr(p1, d['marker'])(d['srs'].values, \n",
    "                    d['srs'].coords['pressure'].values,\n",
    "                    color=d['color'], alpha=.7)\n",
    "        p1.line(d['srs'].values, \n",
    "                d['srs'].coords['pressure'].values,\n",
    "                color=d['color'], alpha=d['alpha'], \n",
    "                line_width=d['line_width'], line_dash=d['line_dash'])\n",
    "    \n",
    "    p1.y_range = Range1d(ymax, ymin)\n",
    "    p1.yaxis.axis_label = 'pressure [mb]'   \n",
    "    p1.x_range = Range1d(xmin, xmax)\n",
    "    p1.xaxis.axis_label = 'cooling rate [K/day]'\n",
    "            \n",
    "    p2 = figure(title='Log pressure scale', y_axis_type='log',\n",
    "                plot_width=560)\n",
    "    xmin, xmax = nice_xlims(pltdata, prange=(.01, 200))\n",
    "    \n",
    "    rs = []\n",
    "    for d in pltdata:\n",
    "        rd = []\n",
    "        if 'marker' in d:\n",
    "            r_mark = getattr(p2, d['marker'])(d['srs'].values, \n",
    "                        d['srs'].coords['pressure'].values,\n",
    "                        color=d['color'], alpha=.7)\n",
    "            rd.append(r_mark)\n",
    "        r_line = p2.line(d['srs'].values, \n",
    "                    d['srs'].coords['pressure'].values,\n",
    "                    color=d['color'], alpha=d['alpha'], \n",
    "                    line_width=d['line_width'], line_dash=d['line_dash'])\n",
    "        rd.append(r_line)\n",
    "      \n",
    "        rs.append(rd)\n",
    "        \n",
    "    p2.y_range = Range1d(ymax, ymin)  \n",
    "    p2.yaxis.axis_label = 'pressure [mb]'\n",
    "    \n",
    "    p2.x_range = Range1d(xmin, xmax)\n",
    "    p2.xaxis.axis_label = 'cooling rate [K/day]'\n",
    "    \n",
    "    items = [(d['label'], r) for r, d in zip(rs, pltdata)]\n",
    "    legend = Legend(items=items, location=(10, -30))\n",
    "    legend.label_text_font_size = '8pt'\n",
    "    \n",
    "    p2.add_layout(legend, 'right')  \n",
    "    \n",
    "    show(gridplot(p1, p2, ncols=2, plot_height=500))\n",
    "    \n",
    "\n",
    "def script_plt_cooling():\n",
    "    pltdata = pltdata_cooling_1(\n",
    "        ds_cool=DS_COOL,\n",
    "        ds_cool_crd=DS_COOL_CRD,\n",
    "        ds_cool_wgt=DS_COOL_WGT)\n",
    "    plt_cooling_bokeh(pltdata=pltdata)\n",
    "    print('''FIGURE. Cooling rate profiles.''')"
   ]
  },
  {
   "cell_type": "code",
   "execution_count": 9,
   "metadata": {
    "collapsed": true
   },
   "outputs": [],
   "source": [
    "def fmt_flux(ds_in):\n",
    "    ds = ds_in.copy(deep=True)\n",
    "    \n",
    "    for l in ('level', 'layer'):\n",
    "        if l in ds.data_vars:\n",
    "            if len(ds[l].dims) > 1:\n",
    "                surface = {d: 0 for d in ds.dims if d != 'pressure'}\n",
    "                coord_level = ds[l][surface]\n",
    "                ds.coords[l] = ('pressure', coord_level)\n",
    "            else:\n",
    "                ds.coords[l] = ('pressure', ds[l])\n",
    "        \n",
    "    ds = ds.isel(pressure=[0, 23, -1])\n",
    "        \n",
    "    if 'igg' in ds.dims:\n",
    "        ds = ds.sel(igg=[1])\n",
    "        ds = ds.squeeze('igg').drop('igg')\n",
    "    \n",
    "    if 'g' in ds.dims:\n",
    "        ds = ds.sum('g')\n",
    "            \n",
    "    if 'band' in ds.dims:\n",
    "        try:\n",
    "            ds = ds.squeeze('band').drop('band')\n",
    "        except ValueError:\n",
    "            ds = ds.sum('band')\n",
    "                \n",
    "    df = ds.to_dataframe()\n",
    "    df = df.set_index('level', append=True)               \n",
    "    return df\n",
    "\n",
    "\n",
    "def tbdata_flux(ds_flux=None, ds_flux_crd=None, ds_flux_wgt=None):\n",
    "    ilevels = [0, 23, -1]\n",
    "            \n",
    "    benchmark = {'label': 'CRD',\n",
    "                 'df': fmt_flux(ds_flux_crd)}\n",
    "    \n",
    "    tbs = [{'label': 'WGT igg=10 wgt_flux=1',\n",
    "            'df': fmt_flux(ds_flux_wgt)},\n",
    "           {'label': 'CLIRAD',\n",
    "            'df': fmt_flux(ds_flux)}]\n",
    "    \n",
    "    data = {'benchmark': benchmark, 'others': tbs}\n",
    "    return data\n",
    "\n",
    "\n",
    "def tb_flux(tbdata=None):\n",
    "    benchmark = tbdata['benchmark']\n",
    "    others = tbdata['others']\n",
    "    \n",
    "    def show_tb(d=None):\n",
    "        display.display(d['df'])\n",
    "        print('Table.', 'Fluxes.', d['label'])\n",
    "        \n",
    "    def show_tbdiff(d0=None, d=None):\n",
    "        df = d['df']\n",
    "        df.index = d0['df'].index\n",
    "        display.display(df - d0['df'])\n",
    "        print('Table.', 'Fluxes.', \n",
    "              '({}) - ({})'.format(d['label'], d0['label']))\n",
    "        \n",
    "    show_tb(benchmark)\n",
    "    for d in others:\n",
    "        show_tb(d)\n",
    "        \n",
    "    for d in others:\n",
    "        show_tbdiff(d=d, d0=benchmark)\n",
    "        \n",
    "        \n",
    "def script_tb_flux():\n",
    "    data = tbdata_flux(ds_flux=DS_FLUX,\n",
    "                       ds_flux_crd=DS_FLUX_CRD,\n",
    "                       ds_flux_wgt=DS_FLUX_WGT)\n",
    "    tb_flux(tbdata=data)"
   ]
  },
  {
   "cell_type": "code",
   "execution_count": 10,
   "metadata": {
    "collapsed": true
   },
   "outputs": [],
   "source": [
    "def band_map():\n",
    "    '''\n",
    "    Maps spectral bands in lblnew to spectral bands in clirad.\n",
    "    '''\n",
    "    lblnew2clirad = {'1': '1',\n",
    "            '2': '2',\n",
    "            '3a': '3',\n",
    "            '3b': '4',\n",
    "            '3c': '5',\n",
    "            '4': '6', \n",
    "            '5': '7',\n",
    "            '6': '8',\n",
    "            '7': '9', \n",
    "            '8': '10',\n",
    "            '9': '11'}\n",
    "    \n",
    "    clirad2lblnew = {clirad: lblnew \n",
    "                     for lblnew, clirad in lblnew2clirad.items()}\n",
    "    return clirad2lblnew\n",
    "\n",
    "\n",
    "def gasbands():\n",
    "    bmap = band_map()\n",
    "    gases = list(PARAM['molecule'].keys())\n",
    "    \n",
    "    bands = [bmap[str(b)] for b in PARAM['band']]\n",
    "    return list(itertools.product(gases, bands))\n",
    "\n",
    "\n",
    "def print_bestfit_params():\n",
    "    print('Best-fit values for each (gas, band)')\n",
    "    print('------------------------------------')\n",
    "    for gas, band in gasbands():\n",
    "        print('o {} band{}'.format(gas, band))\n",
    "        param = bestfits.kdist_params(molecule=gas, band=band)\n",
    "        for name, value in sorted(param.items()):\n",
    "            print(2 * ' ' + '{} = {}'.format(name, value))\n",
    "\n",
    "        \n",
    "def print_input_param():        \n",
    "    for name, value in PARAM.items():\n",
    "        print('{} = {}'.format(name, value))\n",
    "        \n",
    "        \n",
    "def print_lblnew_param():\n",
    "    for name, value in sorted(PARAM_LBLNEW.items()):\n",
    "        print('{} = {}'.format(name, value))\n"
   ]
  },
  {
   "cell_type": "code",
   "execution_count": 11,
   "metadata": {
    "collapsed": true,
    "scrolled": false
   },
   "outputs": [],
   "source": [
    "def show_html(s):\n",
    "    display.display(display.HTML(s))\n",
    "\n",
    "    \n",
    "def show_markdown(s):\n",
    "    display.display(display.Markdown(s))\n",
    "\n",
    "    \n",
    "def script():\n",
    "    \n",
    "    title = '### CLIRAD-LW'\n",
    "    s_input = 'Input Parameters'\n",
    "    s_lblnew_param = 'LBLNEW case compaired against'\n",
    "    s_bestfits = 'Best-fit Parameters'\n",
    "    s_plt_cooling = 'Cooling Rate Profiles'\n",
    "    s_tb_flux = 'Flux Comparison'\n",
    "    \n",
    "    # title\n",
    "    show_markdown('### CLIRAD-LW')\n",
    "    \n",
    "    # TOC\n",
    "    show_markdown('### Table of Contents')\n",
    "    show_html(climahtml.getHTML_hrefanchor(s_input))\n",
    "    show_html(climahtml.getHTML_hrefanchor(s_lblnew_param))\n",
    "    show_html(climahtml.getHTML_hrefanchor(s_plt_cooling))\n",
    "    show_html(climahtml.getHTML_hrefanchor(s_tb_flux))\n",
    "    show_html(climahtml.getHTML_hrefanchor(s_bestfits))\n",
    "    \n",
    "    # Input parameters\n",
    "    show_html(climahtml.getHTML_idanchor(s_input))\n",
    "    show_markdown(climahtml.getMarkdown_sectitle(s_input))\n",
    "    print_input_param()\n",
    "    \n",
    "    # LBLNEW parameters \n",
    "    show_html(climahtml.getHTML_idanchor(s_lblnew_param))\n",
    "    show_markdown(climahtml.getMarkdown_sectitle(s_lblnew_param))\n",
    "    print_lblnew_param()\n",
    "    \n",
    "    # Cooling rate profiles\n",
    "    show_html(climahtml.getHTML_idanchor(s_plt_cooling))\n",
    "    show_markdown(climahtml.getMarkdown_sectitle(s_plt_cooling))\n",
    "    script_plt_cooling()\n",
    "    \n",
    "    # Flux comparison\n",
    "    show_html(climahtml.getHTML_idanchor(s_tb_flux))\n",
    "    show_markdown(climahtml.getMarkdown_sectitle(s_tb_flux))\n",
    "    script_tb_flux()\n",
    "    \n",
    "    # Best-fit values\n",
    "    show_html(climahtml.getHTML_idanchor(s_bestfits))\n",
    "    show_markdown(climahtml.getMarkdown_sectitle(s_bestfits))\n",
    "    print_bestfit_params()\n",
    "   \n",
    "    "
   ]
  },
  {
   "cell_type": "code",
   "execution_count": 12,
   "metadata": {
    "collapsed": true,
    "scrolled": false
   },
   "outputs": [
    {
     "data": {
      "text/markdown": [
       "### CLIRAD-LW"
      ],
      "text/plain": [
       "<IPython.core.display.Markdown object>"
      ]
     },
     "metadata": {},
     "output_type": "display_data"
    },
    {
     "data": {
      "text/markdown": [
       "### Table of Contents"
      ],
      "text/plain": [
       "<IPython.core.display.Markdown object>"
      ]
     },
     "metadata": {},
     "output_type": "display_data"
    },
    {
     "data": {
      "text/html": [
       "<a href=\"#Input_Parameters\">Input Parameters</a>"
      ],
      "text/plain": [
       "<IPython.core.display.HTML object>"
      ]
     },
     "metadata": {},
     "output_type": "display_data"
    },
    {
     "data": {
      "text/html": [
       "<a href=\"#LBLNEW_case_compaired_against\">LBLNEW case compaired against</a>"
      ],
      "text/plain": [
       "<IPython.core.display.HTML object>"
      ]
     },
     "metadata": {},
     "output_type": "display_data"
    },
    {
     "data": {
      "text/html": [
       "<a href=\"#Cooling_Rate_Profiles\">Cooling Rate Profiles</a>"
      ],
      "text/plain": [
       "<IPython.core.display.HTML object>"
      ]
     },
     "metadata": {},
     "output_type": "display_data"
    },
    {
     "data": {
      "text/html": [
       "<a href=\"#Flux_Comparison\">Flux Comparison</a>"
      ],
      "text/plain": [
       "<IPython.core.display.HTML object>"
      ]
     },
     "metadata": {},
     "output_type": "display_data"
    },
    {
     "data": {
      "text/html": [
       "<a href=\"#Best-fit_Parameters\">Best-fit Parameters</a>"
      ],
      "text/plain": [
       "<IPython.core.display.HTML object>"
      ]
     },
     "metadata": {},
     "output_type": "display_data"
    },
    {
     "data": {
      "text/html": [
       "<a id=\"Input_Parameters\"></a>"
      ],
      "text/plain": [
       "<IPython.core.display.HTML object>"
      ]
     },
     "metadata": {},
     "output_type": "display_data"
    },
    {
     "data": {
      "text/markdown": [
       "# Input Parameters"
      ],
      "text/plain": [
       "<IPython.core.display.Markdown object>"
      ]
     },
     "metadata": {},
     "output_type": "display_data"
    },
    {
     "name": "stdout",
     "output_type": "stream",
     "text": [
      "commitnumber = de5d43e\n",
      "molecule = {'h2o': 'atmpro', 'co2': 0.0004}\n",
      "band = [5]\n",
      "atmpro = trp\n",
      "tsfc = 300\n"
     ]
    },
    {
     "data": {
      "text/html": [
       "<a id=\"LBLNEW_case_compaired_against\"></a>"
      ],
      "text/plain": [
       "<IPython.core.display.HTML object>"
      ]
     },
     "metadata": {},
     "output_type": "display_data"
    },
    {
     "data": {
      "text/markdown": [
       "# LBLNEW case compaired against"
      ],
      "text/plain": [
       "<IPython.core.display.Markdown object>"
      ]
     },
     "metadata": {},
     "output_type": "display_data"
    },
    {
     "name": "stdout",
     "output_type": "stream",
     "text": [
      "atmpro = trp\n",
      "band = 3c\n",
      "commitnumber = 5014a19\n",
      "dv = 0.001\n",
      "molecule = {'h2o': 'atmpro', 'co2': 0.0004}\n",
      "nv = 1000\n",
      "tsfc = 300\n"
     ]
    },
    {
     "data": {
      "text/html": [
       "<a id=\"Cooling_Rate_Profiles\"></a>"
      ],
      "text/plain": [
       "<IPython.core.display.HTML object>"
      ]
     },
     "metadata": {},
     "output_type": "display_data"
    },
    {
     "data": {
      "text/markdown": [
       "# Cooling Rate Profiles"
      ],
      "text/plain": [
       "<IPython.core.display.Markdown object>"
      ]
     },
     "metadata": {},
     "output_type": "display_data"
    },
    {
     "data": {
      "text/html": [
       "\n",
       "<div class=\"bk-root\">\n",
       "    <div class=\"bk-plotdiv\" id=\"7a0b4560-4d4f-4366-bedb-92ecf6b1557f\"></div>\n",
       "</div>"
      ]
     },
     "metadata": {},
     "output_type": "display_data"
    },
    {
     "data": {
      "application/javascript": [
       "(function(root) {\n",
       "  function embed_document(root) {\n",
       "    \n",
       "  var docs_json = {\"d3f5932d-bdfa-4b6b-b968-bc0c778c49c3\":{\"roots\":{\"references\":[{\"attributes\":{\"items\":[{\"id\":\"c7859860-fec4-4b19-8a54-edf6a51035b8\",\"type\":\"LegendItem\"},{\"id\":\"086eb310-d1e4-44f3-8bc4-7f2153d01e33\",\"type\":\"LegendItem\"},{\"id\":\"b1b6a0f4-ad20-4ff6-a5f0-511f8009f1ac\",\"type\":\"LegendItem\"}],\"label_text_font_size\":{\"value\":\"8pt\"},\"location\":[10,-30],\"plot\":{\"id\":\"47c34fc9-961a-479d-a5ef-3bddcceb4d93\",\"subtype\":\"Figure\",\"type\":\"Plot\"}},\"id\":\"c3b12457-9f46-4d1a-b880-b9e65e9ff438\",\"type\":\"Legend\"},{\"attributes\":{\"line_alpha\":0.1,\"line_color\":\"#1f77b4\",\"line_width\":3,\"x\":{\"field\":\"x\"},\"y\":{\"field\":\"y\"}},\"id\":\"9016585a-c4ce-43b7-b6e7-451294bb64c9\",\"type\":\"Line\"},{\"attributes\":{\"data_source\":{\"id\":\"c9dc849a-1d03-44b4-be93-bc10384cfd33\",\"type\":\"ColumnDataSource\"},\"glyph\":{\"id\":\"886da411-2b99-4a8b-a850-f522c111c911\",\"type\":\"Square\"},\"hover_glyph\":null,\"muted_glyph\":null,\"nonselection_glyph\":{\"id\":\"8961c1b1-f751-47f5-9757-530fdf40f620\",\"type\":\"Square\"},\"selection_glyph\":null,\"view\":{\"id\":\"5f887e96-8613-4273-b369-69ea96cbce0a\",\"type\":\"CDSView\"}},\"id\":\"da7f31e6-0b42-4754-9355-e4d6eda2ba9d\",\"type\":\"GlyphRenderer\"},{\"attributes\":{\"plot\":{\"id\":\"47c34fc9-961a-479d-a5ef-3bddcceb4d93\",\"subtype\":\"Figure\",\"type\":\"Plot\"},\"ticker\":{\"id\":\"c5b3d756-2b26-4988-bc94-f05e8df561ba\",\"type\":\"BasicTicker\"}},\"id\":\"1667d4a8-a468-484a-848b-d56b4f87da8c\",\"type\":\"Grid\"},{\"attributes\":{\"source\":{\"id\":\"c9dc849a-1d03-44b4-be93-bc10384cfd33\",\"type\":\"ColumnDataSource\"}},\"id\":\"5f887e96-8613-4273-b369-69ea96cbce0a\",\"type\":\"CDSView\"},{\"attributes\":{},\"id\":\"c5b3d756-2b26-4988-bc94-f05e8df561ba\",\"type\":\"BasicTicker\"},{\"attributes\":{\"axis_label\":\"pressure [mb]\",\"formatter\":{\"id\":\"bde0e4a8-c18b-41c2-ab3c-27b9f189a77a\",\"type\":\"LogTickFormatter\"},\"plot\":{\"id\":\"47c34fc9-961a-479d-a5ef-3bddcceb4d93\",\"subtype\":\"Figure\",\"type\":\"Plot\"},\"ticker\":{\"id\":\"8dab86f6-59f8-408a-b71d-1e720dd6c6b2\",\"type\":\"LogTicker\"}},\"id\":\"21eb1bfd-b217-47cf-bb59-793ace2c5177\",\"type\":\"LogAxis\"},{\"attributes\":{\"line_alpha\":0.6,\"line_color\":\"#984ea3\",\"line_width\":3,\"x\":{\"field\":\"x\"},\"y\":{\"field\":\"y\"}},\"id\":\"d7dd46cf-05fb-4c98-8769-23793cfe1e72\",\"type\":\"Line\"},{\"attributes\":{\"callback\":null,\"data\":{\"x\":{\"__ndarray__\":\"I99Cqmo60D+S6RIGTD3QPzuMrKnq7dA/OiibUXeO0T9a1Irjfg/SP2tYOrxzatI/ikXju1qP0j8eZx7poXDSP7lSrnRn+9E/LWB+fkob0T9HBQyar3XPP4kcbPtogss/o7pOXdgexj8UL+RLh9K+P7VLAnGq97k/kH9Nc37MwT9bbllTkz/IP2EMeqm3Cs0/oxpZph2G0D+pXsg05OnSP0A/31hIJ9c/O9uKmjt83j9u/XBnkfPeP85br8gz2Nk/+Xw5WKSu1T9sfjZRzyvRP+m7+C7nSss/hMJWv4jsxT9DLItXk4bBP+yNlAyEjbs/nGsAhWYWtT/k7LclWyWvP4KuCPRFH6Y/WY5BO2j1nj8DhaLC1kGJP27Po87SiIG/qyT0K4Rylr9Mu6WQvFeVv4ePS8Z4Z4W/1V6ynIX3cL9lBGyw/RdhP4UepWLAqoE/FyGndTzijz8d889GjY2XP/c4Ab3Yyp8/QeWf5tJipD9t+8j0HkOpPx3WD0Ikaa4/esP08niwsT9Srj916za0P81OX/8Qw7Y/iNDOiiRRuT++vWvQl967P8iPnVz4Zr4/20s7sV53wD+Za+qfVLnBP65Vkqdy+8I/T8AC2k5CxD/uSsPXdJDFP5ws3l2h7sY/ujPR7xRVyD+PbRlwlpLJP8625ALhVMo/CfBpkHo2yz9eEmdF1ETLPyT4lb1bD8s/5oYRiPgDyz9x7V3m6K/KP1WdOC02tco/VfAlnv0Syz8cssOQg6/LPzZTCIHoi8w/TenLmKPDzT9M9jL+O6rPP6hwwoxCNdI/\",\"dtype\":\"float64\",\"shape\":[75]},\"y\":{\"__ndarray__\":\"GhExyth1ND/Sv8nbtpRIP2vylNV0PVE/aTum7souWD/At0SJ8fVgPw3Iuahxymc/MSNhhJWvcD/bTfBN02d3P2zb5nxnaoA/CD5h5MAGhz8NmeH1TyaQP+zrCsc9p5Y/LbKd76fGnz/bLW5ISEmmPww9YvTcQq8/JV2OstnstT8Er5Y7M8G+P0c+r3jqkcU/5h99k6ZBzj88bCIzFzjVP4enV8oyxN0//yH99nXg5D8qOpLLf0jtP5kqGJXUifQ/c9cS8kHP/D+/DpwzojQEQIEmwoanVwxA4lgXt9HgE0BSSZ2AJuIbQAMJih9jjiNA5q4l5INuK0AwTKYKRj0zQNv5fmq8/DpAaCJseHrtQkB/+zpwzoxKQM3MzMzMeFJAZmZmZmZqWEAAAAAAAFxeQM3MzMzMJmJAmpmZmZkfZUBmZmZmZhhoQDMzMzMzEWtAAAAAAAAKbkBmZmZmZoFwQM3MzMzM/XFAMzMzMzN6c0CamZmZmfZ0QAAAAAAAc3ZAZmZmZmbvd0DNzMzMzGt5QDMzMzMz6HpAmpmZmZlkfEAAAAAAAOF9QGZmZmZmXX9AZmZmZuZsgECamZmZGSuBQM3MzMxM6YFAAAAAAICngkAzMzMzs2WDQGZmZmbmI4RAmpmZmRnihEDNzMzMTKCFQAAAAACAXoZAMzMzM7Mch0BmZmZm5tqHQJqZmZkZmYhAzczMzExXiUAAAAAAgBWKQDMzMzOz04pAZmZmZuaRi0CamZmZGVCMQM3MzMxMDo1AAAAAAIDMjUAzMzMzs4qOQGZmZmbmSI9A\",\"dtype\":\"float64\",\"shape\":[75]}},\"selected\":{\"id\":\"4c767367-cfe7-4585-8c62-213c1ad4cde5\",\"type\":\"Selection\"},\"selection_policy\":{\"id\":\"79e87b90-718f-4fc4-b0b7-7b036712c100\",\"type\":\"UnionRenderers\"}},\"id\":\"5acdfbc0-bc3a-43d4-a359-19152df9da1d\",\"type\":\"ColumnDataSource\"},{\"attributes\":{\"fill_alpha\":{\"value\":0.1},\"fill_color\":{\"value\":\"#1f77b4\"},\"line_alpha\":{\"value\":0.1},\"line_color\":{\"value\":\"#1f77b4\"},\"x\":{\"field\":\"x\"},\"y\":{\"field\":\"y\"}},\"id\":\"8961c1b1-f751-47f5-9757-530fdf40f620\",\"type\":\"Square\"},{\"attributes\":{\"num_minor_ticks\":10},\"id\":\"8dab86f6-59f8-408a-b71d-1e720dd6c6b2\",\"type\":\"LogTicker\"},{\"attributes\":{\"callback\":null,\"data\":{\"x\":{\"__ndarray__\":\"FeNfeOMswz/a948ivlXDP0YqxtiN58Q/Tt7Xs60Hxj9p4tvDd0XHP0tdjUcEPsg/Ya3SxNgVyT+EdEbOoZDJP2sZHU5oq8k/PSxxcCs1yT/vgvNvuAvIP5NCcpWb5sU/ECStAPiKwj+MvqNCTPS7P8SY9PdSeLo/GnzMzVgwwz//P06YMJrKP5mi+e8DiM8//9ZnMSUQ0T98+OjDaTfSPxLkdwVofNU/cwT8XGXU3D8guKkFHxjeP5Zvptegztk/Qxp4YpTv1T/vnSSfT4vRP9or4ioFk8w/PN7kt+jkxz+H9D4CPdzDPyQowKiLsb8/D2GK3wWrtz8GFrgjOWywP1TsrDnnd6U/OJEucFienD9Fr4DuPe+FP2kpP/o96YS/zEsXxR8Dmb9Ui9xhgDWYv/DBm9BMeYq/qS6SjfbleL9rwKtQlmpLP/zDvQoVyX8/Vp/RdHvrjT/7FxBzrP+VPzFPorbxTZ0/Pl/jlUyXoj9ddSRkDuymP7Nak4AuoKs/9yIwj2IksD8upX1fm46yP+rR+5aeCLU/vMoupgaLtz8XL1AxUhi6P2wpWpgJr7w/s50IRWdXvz82GDQ+3QrBPy8NDdXeccI/oCcSChnhwz9cqcpr41fFP+VfyyvX28Y/FDKhk+9jyD8GzGwlrsLJPwXOCCWCp8o/PUvrysKyyz8rQl7NCfPLP2S7MfPT7ss/nhsFTtcPzD/4ZIvF69HLP6gKunuI38s/OY6r03k7zD/XkfodUNfMP7cS0+iCuM0/hGVs6Gb/zj+6fkWnfILQP/+goqg76NI/\",\"dtype\":\"float64\",\"shape\":[75]},\"y\":{\"__ndarray__\":\"GhExyth1ND/Sv8nbtpRIP2vylNV0PVE/aTum7souWD/At0SJ8fVgPw3Iuahxymc/MSNhhJWvcD/bTfBN02d3P2zb5nxnaoA/CD5h5MAGhz8NmeH1TyaQP+zrCsc9p5Y/LbKd76fGnz/bLW5ISEmmPww9YvTcQq8/JV2OstnstT8Er5Y7M8G+P0c+r3jqkcU/5h99k6ZBzj88bCIzFzjVP4enV8oyxN0//yH99nXg5D8qOpLLf0jtP5kqGJXUifQ/c9cS8kHP/D+/DpwzojQEQIEmwoanVwxA4lgXt9HgE0BSSZ2AJuIbQAMJih9jjiNA5q4l5INuK0AwTKYKRj0zQNv5fmq8/DpAaCJseHrtQkB/+zpwzoxKQM3MzMzMeFJAZmZmZmZqWEAAAAAAAFxeQM3MzMzMJmJAmpmZmZkfZUBmZmZmZhhoQDMzMzMzEWtAAAAAAAAKbkBmZmZmZoFwQM3MzMzM/XFAMzMzMzN6c0CamZmZmfZ0QAAAAAAAc3ZAZmZmZmbvd0DNzMzMzGt5QDMzMzMz6HpAmpmZmZlkfEAAAAAAAOF9QGZmZmZmXX9AZmZmZuZsgECamZmZGSuBQM3MzMxM6YFAAAAAAICngkAzMzMzs2WDQGZmZmbmI4RAmpmZmRnihEDNzMzMTKCFQAAAAACAXoZAMzMzM7Mch0BmZmZm5tqHQJqZmZkZmYhAzczMzExXiUAAAAAAgBWKQDMzMzOz04pAZmZmZuaRi0CamZmZGVCMQM3MzMxMDo1AAAAAAIDMjUAzMzMzs4qOQGZmZmbmSI9A\",\"dtype\":\"float64\",\"shape\":[75]}},\"selected\":{\"id\":\"d30a1fc9-970e-4f09-946e-7b7aebc600b5\",\"type\":\"Selection\"},\"selection_policy\":{\"id\":\"b3b73075-12ab-4f51-93c0-aaab352d8ba4\",\"type\":\"UnionRenderers\"}},\"id\":\"9edefb2b-59e9-4699-b612-baa189735ad9\",\"type\":\"ColumnDataSource\"},{\"attributes\":{\"fill_alpha\":{\"value\":0.7},\"fill_color\":{\"value\":\"#984ea3\"},\"line_alpha\":{\"value\":0.7},\"line_color\":{\"value\":\"#984ea3\"},\"x\":{\"field\":\"x\"},\"y\":{\"field\":\"y\"}},\"id\":\"9e720a1e-ee6b-4611-9170-2ad491ce0057\",\"type\":\"Square\"},{\"attributes\":{},\"id\":\"719686c1-eaa4-4b77-a2b2-8b5e16104868\",\"type\":\"BasicTickFormatter\"},{\"attributes\":{\"dimension\":1,\"plot\":{\"id\":\"47c34fc9-961a-479d-a5ef-3bddcceb4d93\",\"subtype\":\"Figure\",\"type\":\"Plot\"},\"ticker\":{\"id\":\"8dab86f6-59f8-408a-b71d-1e720dd6c6b2\",\"type\":\"LogTicker\"}},\"id\":\"2bc7bd3d-323d-4eec-bd3d-882702e82605\",\"type\":\"Grid\"},{\"attributes\":{\"source\":{\"id\":\"5acdfbc0-bc3a-43d4-a359-19152df9da1d\",\"type\":\"ColumnDataSource\"}},\"id\":\"904f344c-b7cd-4db6-9900-66e16f181b08\",\"type\":\"CDSView\"},{\"attributes\":{\"bottom_units\":\"screen\",\"fill_alpha\":{\"value\":0.5},\"fill_color\":{\"value\":\"lightgrey\"},\"left_units\":\"screen\",\"level\":\"overlay\",\"line_alpha\":{\"value\":1.0},\"line_color\":{\"value\":\"black\"},\"line_dash\":[4,4],\"line_width\":{\"value\":2},\"plot\":null,\"render_mode\":\"css\",\"right_units\":\"screen\",\"top_units\":\"screen\"},\"id\":\"44714c95-230e-4075-ac26-ea1078f4e89b\",\"type\":\"BoxAnnotation\"},{\"attributes\":{\"data_source\":{\"id\":\"5acdfbc0-bc3a-43d4-a359-19152df9da1d\",\"type\":\"ColumnDataSource\"},\"glyph\":{\"id\":\"21c82f84-ce52-420b-93ba-3ce217234d61\",\"type\":\"Line\"},\"hover_glyph\":null,\"muted_glyph\":null,\"nonselection_glyph\":{\"id\":\"4aa2faab-2c82-47cf-8063-5d608f339ea7\",\"type\":\"Line\"},\"selection_glyph\":null,\"view\":{\"id\":\"904f344c-b7cd-4db6-9900-66e16f181b08\",\"type\":\"CDSView\"}},\"id\":\"c7d9bb2b-341c-4152-9916-6115183a0d3e\",\"type\":\"GlyphRenderer\"},{\"attributes\":{},\"id\":\"60b128b5-8ce2-45e8-846c-eeb0a733af22\",\"type\":\"PanTool\"},{\"attributes\":{\"line_alpha\":0.1,\"line_color\":\"#1f77b4\",\"line_dash\":[6],\"line_width\":5,\"x\":{\"field\":\"x\"},\"y\":{\"field\":\"y\"}},\"id\":\"13e440cd-b16d-49b1-a71c-a8b98d5abcdd\",\"type\":\"Line\"},{\"attributes\":{\"line_alpha\":0.1,\"line_color\":\"#1f77b4\",\"line_width\":3,\"x\":{\"field\":\"x\"},\"y\":{\"field\":\"y\"}},\"id\":\"5b802e1d-7294-43c4-8361-6cffe8fe56bf\",\"type\":\"Line\"},{\"attributes\":{},\"id\":\"87c2d0d2-9665-4ca7-9316-aa64c9f02105\",\"type\":\"WheelZoomTool\"},{\"attributes\":{\"overlay\":{\"id\":\"44714c95-230e-4075-ac26-ea1078f4e89b\",\"type\":\"BoxAnnotation\"}},\"id\":\"912421bc-5a28-4396-bae4-598f5d2fc0c0\",\"type\":\"BoxZoomTool\"},{\"attributes\":{\"source\":{\"id\":\"6511c5f3-7ad1-4bdd-b7a5-0adbfcf6b6df\",\"type\":\"ColumnDataSource\"}},\"id\":\"0a27daea-f5b1-4ed0-8402-662dc9f19b7b\",\"type\":\"CDSView\"},{\"attributes\":{},\"id\":\"629d2166-8d67-4909-9c4a-965a8bdc7e45\",\"type\":\"Selection\"},{\"attributes\":{},\"id\":\"45aa247f-c343-4d61-b219-a863f725e06d\",\"type\":\"SaveTool\"},{\"attributes\":{},\"id\":\"c52fde39-ec30-45c8-b3bf-4b547198c950\",\"type\":\"HelpTool\"},{\"attributes\":{\"source\":{\"id\":\"70bc6d50-5f90-40ff-8efe-2bf250dadac2\",\"type\":\"ColumnDataSource\"}},\"id\":\"65b1809c-2209-4a07-a0a3-d3b2d3e75a09\",\"type\":\"CDSView\"},{\"attributes\":{\"active_drag\":\"auto\",\"active_inspect\":\"auto\",\"active_scroll\":\"auto\",\"active_tap\":\"auto\",\"tools\":[{\"id\":\"60b128b5-8ce2-45e8-846c-eeb0a733af22\",\"type\":\"PanTool\"},{\"id\":\"87c2d0d2-9665-4ca7-9316-aa64c9f02105\",\"type\":\"WheelZoomTool\"},{\"id\":\"912421bc-5a28-4396-bae4-598f5d2fc0c0\",\"type\":\"BoxZoomTool\"},{\"id\":\"45aa247f-c343-4d61-b219-a863f725e06d\",\"type\":\"SaveTool\"},{\"id\":\"cc2639de-aa75-4737-8a4d-2cde44db7b8f\",\"type\":\"ResetTool\"},{\"id\":\"c52fde39-ec30-45c8-b3bf-4b547198c950\",\"type\":\"HelpTool\"}]},\"id\":\"964a654a-09df-4d15-a98b-8a8b99d48853\",\"type\":\"Toolbar\"},{\"attributes\":{\"fill_alpha\":{\"value\":0.1},\"fill_color\":{\"value\":\"#1f77b4\"},\"line_alpha\":{\"value\":0.1},\"line_color\":{\"value\":\"#1f77b4\"},\"x\":{\"field\":\"x\"},\"y\":{\"field\":\"y\"}},\"id\":\"719b9241-ad4c-417f-87de-ca9b23243767\",\"type\":\"Square\"},{\"attributes\":{},\"id\":\"cc2639de-aa75-4737-8a4d-2cde44db7b8f\",\"type\":\"ResetTool\"},{\"attributes\":{\"children\":[{\"id\":\"ca6b8e16-fbff-4134-975c-e89b7f6a391a\",\"subtype\":\"Figure\",\"type\":\"Plot\"},{\"id\":\"47c34fc9-961a-479d-a5ef-3bddcceb4d93\",\"subtype\":\"Figure\",\"type\":\"Plot\"}]},\"id\":\"eff7eac3-6cd9-403e-97e9-886cf44ce334\",\"type\":\"Row\"},{\"attributes\":{\"data_source\":{\"id\":\"e56e2fee-dbc0-4aa4-9f37-343740d4402b\",\"type\":\"ColumnDataSource\"},\"glyph\":{\"id\":\"74db27c4-6ca5-4e14-8c29-be7ef4d5e1f0\",\"type\":\"Line\"},\"hover_glyph\":null,\"muted_glyph\":null,\"nonselection_glyph\":{\"id\":\"4761fa6e-26a3-49cb-9d65-9037d904060f\",\"type\":\"Line\"},\"selection_glyph\":null,\"view\":{\"id\":\"08f8acb3-d75b-480c-8284-161ec115b84d\",\"type\":\"CDSView\"}},\"id\":\"6fc8ccaa-7e30-4683-ba51-57fc306a5a53\",\"type\":\"GlyphRenderer\"},{\"attributes\":{\"data_source\":{\"id\":\"6511c5f3-7ad1-4bdd-b7a5-0adbfcf6b6df\",\"type\":\"ColumnDataSource\"},\"glyph\":{\"id\":\"47ed30ed-a6e1-470b-91d8-c1fd87a8ca8f\",\"type\":\"Circle\"},\"hover_glyph\":null,\"muted_glyph\":null,\"nonselection_glyph\":{\"id\":\"b413eeb7-c517-4ede-a565-f4061c92bfb6\",\"type\":\"Circle\"},\"selection_glyph\":null,\"view\":{\"id\":\"0a27daea-f5b1-4ed0-8402-662dc9f19b7b\",\"type\":\"CDSView\"}},\"id\":\"f1c3419a-da28-42aa-b186-2ceb65bba5e8\",\"type\":\"GlyphRenderer\"},{\"attributes\":{\"data_source\":{\"id\":\"70bc6d50-5f90-40ff-8efe-2bf250dadac2\",\"type\":\"ColumnDataSource\"},\"glyph\":{\"id\":\"dad601be-7f75-4c37-8b69-dcc1e4b54cb9\",\"type\":\"Line\"},\"hover_glyph\":null,\"muted_glyph\":null,\"nonselection_glyph\":{\"id\":\"9016585a-c4ce-43b7-b6e7-451294bb64c9\",\"type\":\"Line\"},\"selection_glyph\":null,\"view\":{\"id\":\"65b1809c-2209-4a07-a0a3-d3b2d3e75a09\",\"type\":\"CDSView\"}},\"id\":\"736d925a-e2aa-4a1a-9bbd-688cecb50962\",\"type\":\"GlyphRenderer\"},{\"attributes\":{\"line_color\":\"#4daf4a\",\"line_width\":1.5,\"x\":{\"field\":\"x\"},\"y\":{\"field\":\"y\"}},\"id\":\"21c82f84-ce52-420b-93ba-3ce217234d61\",\"type\":\"Line\"},{\"attributes\":{\"line_alpha\":0.1,\"line_color\":\"#1f77b4\",\"line_width\":1.5,\"x\":{\"field\":\"x\"},\"y\":{\"field\":\"y\"}},\"id\":\"4aa2faab-2c82-47cf-8063-5d608f339ea7\",\"type\":\"Line\"},{\"attributes\":{\"callback\":null,\"data\":{\"x\":{\"__ndarray__\":\"FeNfeOMswz/a948ivlXDP0YqxtiN58Q/Tt7Xs60Hxj9p4tvDd0XHP0tdjUcEPsg/Ya3SxNgVyT+EdEbOoZDJP2sZHU5oq8k/PSxxcCs1yT/vgvNvuAvIP5NCcpWb5sU/ECStAPiKwj+MvqNCTPS7P8SY9PdSeLo/GnzMzVgwwz//P06YMJrKP5mi+e8DiM8//9ZnMSUQ0T98+OjDaTfSPxLkdwVofNU/cwT8XGXU3D8guKkFHxjeP5Zvptegztk/Qxp4YpTv1T/vnSSfT4vRP9or4ioFk8w/PN7kt+jkxz+H9D4CPdzDPyQowKiLsb8/D2GK3wWrtz8GFrgjOWywP1TsrDnnd6U/OJEucFienD9Fr4DuPe+FP2kpP/o96YS/zEsXxR8Dmb9Ui9xhgDWYv/DBm9BMeYq/qS6SjfbleL9rwKtQlmpLP/zDvQoVyX8/Vp/RdHvrjT/7FxBzrP+VPzFPorbxTZ0/Pl/jlUyXoj9ddSRkDuymP7Nak4AuoKs/9yIwj2IksD8upX1fm46yP+rR+5aeCLU/vMoupgaLtz8XL1AxUhi6P2wpWpgJr7w/s50IRWdXvz82GDQ+3QrBPy8NDdXeccI/oCcSChnhwz9cqcpr41fFP+VfyyvX28Y/FDKhk+9jyD8GzGwlrsLJPwXOCCWCp8o/PUvrysKyyz8rQl7NCfPLP2S7MfPT7ss/nhsFTtcPzD/4ZIvF69HLP6gKunuI38s/OY6r03k7zD/XkfodUNfMP7cS0+iCuM0/hGVs6Gb/zj+6fkWnfILQP/+goqg76NI/\",\"dtype\":\"float64\",\"shape\":[75]},\"y\":{\"__ndarray__\":\"GhExyth1ND/Sv8nbtpRIP2vylNV0PVE/aTum7souWD/At0SJ8fVgPw3Iuahxymc/MSNhhJWvcD/bTfBN02d3P2zb5nxnaoA/CD5h5MAGhz8NmeH1TyaQP+zrCsc9p5Y/LbKd76fGnz/bLW5ISEmmPww9YvTcQq8/JV2OstnstT8Er5Y7M8G+P0c+r3jqkcU/5h99k6ZBzj88bCIzFzjVP4enV8oyxN0//yH99nXg5D8qOpLLf0jtP5kqGJXUifQ/c9cS8kHP/D+/DpwzojQEQIEmwoanVwxA4lgXt9HgE0BSSZ2AJuIbQAMJih9jjiNA5q4l5INuK0AwTKYKRj0zQNv5fmq8/DpAaCJseHrtQkB/+zpwzoxKQM3MzMzMeFJAZmZmZmZqWEAAAAAAAFxeQM3MzMzMJmJAmpmZmZkfZUBmZmZmZhhoQDMzMzMzEWtAAAAAAAAKbkBmZmZmZoFwQM3MzMzM/XFAMzMzMzN6c0CamZmZmfZ0QAAAAAAAc3ZAZmZmZmbvd0DNzMzMzGt5QDMzMzMz6HpAmpmZmZlkfEAAAAAAAOF9QGZmZmZmXX9AZmZmZuZsgECamZmZGSuBQM3MzMxM6YFAAAAAAICngkAzMzMzs2WDQGZmZmbmI4RAmpmZmRnihEDNzMzMTKCFQAAAAACAXoZAMzMzM7Mch0BmZmZm5tqHQJqZmZkZmYhAzczMzExXiUAAAAAAgBWKQDMzMzOz04pAZmZmZuaRi0CamZmZGVCMQM3MzMxMDo1AAAAAAIDMjUAzMzMzs4qOQGZmZmbmSI9A\",\"dtype\":\"float64\",\"shape\":[75]}},\"selected\":{\"id\":\"66b96f2f-6e7c-4f62-ba39-c19920901339\",\"type\":\"Selection\"},\"selection_policy\":{\"id\":\"3aff7fa0-016f-44b5-8b40-55f8822b13cd\",\"type\":\"UnionRenderers\"}},\"id\":\"42bdebfd-a637-43a5-98fd-57684cf08055\",\"type\":\"ColumnDataSource\"},{\"attributes\":{\"source\":{\"id\":\"cf54f237-da4d-439e-adac-1752187a8662\",\"type\":\"ColumnDataSource\"}},\"id\":\"07cdc739-ade5-4bf4-a74f-60e9012d95cd\",\"type\":\"CDSView\"},{\"attributes\":{\"label\":{\"value\":\"CLIRAD `coolr_bands`\"},\"renderers\":[{\"id\":\"c37d05cf-2d44-4cd4-81d0-029ea2fd8bcf\",\"type\":\"GlyphRenderer\"}]},\"id\":\"c7859860-fec4-4b19-8a54-edf6a51035b8\",\"type\":\"LegendItem\"},{\"attributes\":{\"source\":{\"id\":\"e56e2fee-dbc0-4aa4-9f37-343740d4402b\",\"type\":\"ColumnDataSource\"}},\"id\":\"08f8acb3-d75b-480c-8284-161ec115b84d\",\"type\":\"CDSView\"},{\"attributes\":{},\"id\":\"6edc6359-1371-4984-8de2-209e4d961bfa\",\"type\":\"UnionRenderers\"},{\"attributes\":{\"callback\":null,\"data\":{\"x\":{\"__ndarray__\":\"I99Cqmo60D+S6RIGTD3QPzuMrKnq7dA/OiibUXeO0T9a1Irjfg/SP2tYOrxzatI/ikXju1qP0j8eZx7poXDSP7lSrnRn+9E/LWB+fkob0T9HBQyar3XPP4kcbPtogss/o7pOXdgexj8UL+RLh9K+P7VLAnGq97k/kH9Nc37MwT9bbllTkz/IP2EMeqm3Cs0/oxpZph2G0D+pXsg05OnSP0A/31hIJ9c/O9uKmjt83j9u/XBnkfPeP85br8gz2Nk/+Xw5WKSu1T9sfjZRzyvRP+m7+C7nSss/hMJWv4jsxT9DLItXk4bBP+yNlAyEjbs/nGsAhWYWtT/k7LclWyWvP4KuCPRFH6Y/WY5BO2j1nj8DhaLC1kGJP27Po87SiIG/qyT0K4Rylr9Mu6WQvFeVv4ePS8Z4Z4W/1V6ynIX3cL9lBGyw/RdhP4UepWLAqoE/FyGndTzijz8d889GjY2XP/c4Ab3Yyp8/QeWf5tJipD9t+8j0HkOpPx3WD0Ikaa4/esP08niwsT9Srj916za0P81OX/8Qw7Y/iNDOiiRRuT++vWvQl967P8iPnVz4Zr4/20s7sV53wD+Za+qfVLnBP65Vkqdy+8I/T8AC2k5CxD/uSsPXdJDFP5ws3l2h7sY/ujPR7xRVyD+PbRlwlpLJP8625ALhVMo/CfBpkHo2yz9eEmdF1ETLPyT4lb1bD8s/5oYRiPgDyz9x7V3m6K/KP1WdOC02tco/VfAlnv0Syz8cssOQg6/LPzZTCIHoi8w/TenLmKPDzT9M9jL+O6rPP6hwwoxCNdI/\",\"dtype\":\"float64\",\"shape\":[75]},\"y\":{\"__ndarray__\":\"GhExyth1ND/Sv8nbtpRIP2vylNV0PVE/aTum7souWD/At0SJ8fVgPw3Iuahxymc/MSNhhJWvcD/bTfBN02d3P2zb5nxnaoA/CD5h5MAGhz8NmeH1TyaQP+zrCsc9p5Y/LbKd76fGnz/bLW5ISEmmPww9YvTcQq8/JV2OstnstT8Er5Y7M8G+P0c+r3jqkcU/5h99k6ZBzj88bCIzFzjVP4enV8oyxN0//yH99nXg5D8qOpLLf0jtP5kqGJXUifQ/c9cS8kHP/D+/DpwzojQEQIEmwoanVwxA4lgXt9HgE0BSSZ2AJuIbQAMJih9jjiNA5q4l5INuK0AwTKYKRj0zQNv5fmq8/DpAaCJseHrtQkB/+zpwzoxKQM3MzMzMeFJAZmZmZmZqWEAAAAAAAFxeQM3MzMzMJmJAmpmZmZkfZUBmZmZmZhhoQDMzMzMzEWtAAAAAAAAKbkBmZmZmZoFwQM3MzMzM/XFAMzMzMzN6c0CamZmZmfZ0QAAAAAAAc3ZAZmZmZmbvd0DNzMzMzGt5QDMzMzMz6HpAmpmZmZlkfEAAAAAAAOF9QGZmZmZmXX9AZmZmZuZsgECamZmZGSuBQM3MzMxM6YFAAAAAAICngkAzMzMzs2WDQGZmZmbmI4RAmpmZmRnihEDNzMzMTKCFQAAAAACAXoZAMzMzM7Mch0BmZmZm5tqHQJqZmZkZmYhAzczMzExXiUAAAAAAgBWKQDMzMzOz04pAZmZmZuaRi0CamZmZGVCMQM3MzMxMDo1AAAAAAIDMjUAzMzMzs4qOQGZmZmbmSI9A\",\"dtype\":\"float64\",\"shape\":[75]}},\"selected\":{\"id\":\"64c50953-e495-41a1-844b-1d33f00c4bc9\",\"type\":\"Selection\"},\"selection_policy\":{\"id\":\"fdf4c1df-fdd8-4ee7-9774-d88102553f66\",\"type\":\"UnionRenderers\"}},\"id\":\"e56e2fee-dbc0-4aa4-9f37-343740d4402b\",\"type\":\"ColumnDataSource\"},{\"attributes\":{\"label\":{\"value\":\"CRD\"},\"renderers\":[{\"id\":\"f1c3419a-da28-42aa-b186-2ceb65bba5e8\",\"type\":\"GlyphRenderer\"},{\"id\":\"c7d9bb2b-341c-4152-9916-6115183a0d3e\",\"type\":\"GlyphRenderer\"}]},\"id\":\"086eb310-d1e4-44f3-8bc4-7f2153d01e33\",\"type\":\"LegendItem\"},{\"attributes\":{\"callback\":null,\"end\":0.4886966319,\"start\":-0.0295064019},\"id\":\"c7653f8f-9932-45e9-ae04-4509b42e2ae3\",\"type\":\"Range1d\"},{\"attributes\":{},\"id\":\"fdf4c1df-fdd8-4ee7-9774-d88102553f66\",\"type\":\"UnionRenderers\"},{\"attributes\":{\"callback\":null,\"data\":{\"x\":{\"__ndarray__\":\"I99Cqmo60D+S6RIGTD3QPzuMrKnq7dA/OiibUXeO0T9a1Irjfg/SP2tYOrxzatI/ikXju1qP0j8eZx7poXDSP7lSrnRn+9E/LWB+fkob0T9HBQyar3XPP4kcbPtogss/o7pOXdgexj8UL+RLh9K+P7VLAnGq97k/kH9Nc37MwT9bbllTkz/IP2EMeqm3Cs0/oxpZph2G0D+pXsg05OnSP0A/31hIJ9c/O9uKmjt83j9u/XBnkfPeP85br8gz2Nk/+Xw5WKSu1T9sfjZRzyvRP+m7+C7nSss/hMJWv4jsxT9DLItXk4bBP+yNlAyEjbs/nGsAhWYWtT/k7LclWyWvP4KuCPRFH6Y/WY5BO2j1nj8DhaLC1kGJP27Po87SiIG/qyT0K4Rylr9Mu6WQvFeVv4ePS8Z4Z4W/1V6ynIX3cL9lBGyw/RdhP4UepWLAqoE/FyGndTzijz8d889GjY2XP/c4Ab3Yyp8/QeWf5tJipD9t+8j0HkOpPx3WD0Ikaa4/esP08niwsT9Srj916za0P81OX/8Qw7Y/iNDOiiRRuT++vWvQl967P8iPnVz4Zr4/20s7sV53wD+Za+qfVLnBP65Vkqdy+8I/T8AC2k5CxD/uSsPXdJDFP5ws3l2h7sY/ujPR7xRVyD+PbRlwlpLJP8625ALhVMo/CfBpkHo2yz9eEmdF1ETLPyT4lb1bD8s/5oYRiPgDyz9x7V3m6K/KP1WdOC02tco/VfAlnv0Syz8cssOQg6/LPzZTCIHoi8w/TenLmKPDzT9M9jL+O6rPP6hwwoxCNdI/\",\"dtype\":\"float64\",\"shape\":[75]},\"y\":{\"__ndarray__\":\"GhExyth1ND/Sv8nbtpRIP2vylNV0PVE/aTum7souWD/At0SJ8fVgPw3Iuahxymc/MSNhhJWvcD/bTfBN02d3P2zb5nxnaoA/CD5h5MAGhz8NmeH1TyaQP+zrCsc9p5Y/LbKd76fGnz/bLW5ISEmmPww9YvTcQq8/JV2OstnstT8Er5Y7M8G+P0c+r3jqkcU/5h99k6ZBzj88bCIzFzjVP4enV8oyxN0//yH99nXg5D8qOpLLf0jtP5kqGJXUifQ/c9cS8kHP/D+/DpwzojQEQIEmwoanVwxA4lgXt9HgE0BSSZ2AJuIbQAMJih9jjiNA5q4l5INuK0AwTKYKRj0zQNv5fmq8/DpAaCJseHrtQkB/+zpwzoxKQM3MzMzMeFJAZmZmZmZqWEAAAAAAAFxeQM3MzMzMJmJAmpmZmZkfZUBmZmZmZhhoQDMzMzMzEWtAAAAAAAAKbkBmZmZmZoFwQM3MzMzM/XFAMzMzMzN6c0CamZmZmfZ0QAAAAAAAc3ZAZmZmZmbvd0DNzMzMzGt5QDMzMzMz6HpAmpmZmZlkfEAAAAAAAOF9QGZmZmZmXX9AZmZmZuZsgECamZmZGSuBQM3MzMxM6YFAAAAAAICngkAzMzMzs2WDQGZmZmbmI4RAmpmZmRnihEDNzMzMTKCFQAAAAACAXoZAMzMzM7Mch0BmZmZm5tqHQJqZmZkZmYhAzczMzExXiUAAAAAAgBWKQDMzMzOz04pAZmZmZuaRi0CamZmZGVCMQM3MzMxMDo1AAAAAAIDMjUAzMzMzs4qOQGZmZmbmSI9A\",\"dtype\":\"float64\",\"shape\":[75]}},\"selected\":{\"id\":\"baa8beb7-227e-4022-8779-f8827ee912c6\",\"type\":\"Selection\"},\"selection_policy\":{\"id\":\"386a26b6-9589-488d-8fc4-264f819f25b5\",\"type\":\"UnionRenderers\"}},\"id\":\"6511c5f3-7ad1-4bdd-b7a5-0adbfcf6b6df\",\"type\":\"ColumnDataSource\"},{\"attributes\":{\"label\":{\"value\":\"WGT igg=10 wgt_flux=2\"},\"renderers\":[{\"id\":\"68684d41-cb35-4de8-998a-3a71dd6da84e\",\"type\":\"GlyphRenderer\"},{\"id\":\"736d925a-e2aa-4a1a-9bbd-688cecb50962\",\"type\":\"GlyphRenderer\"}]},\"id\":\"b1b6a0f4-ad20-4ff6-a5f0-511f8009f1ac\",\"type\":\"LegendItem\"},{\"attributes\":{},\"id\":\"8e43252e-698a-43bd-89a4-cdb1d6f4ad1f\",\"type\":\"LinearScale\"},{\"attributes\":{\"source\":{\"id\":\"e3dc46dd-45f7-4480-9d7b-0a1724bdaef0\",\"type\":\"ColumnDataSource\"}},\"id\":\"e95585af-8fd5-4a07-825b-e4f71fbf6d38\",\"type\":\"CDSView\"},{\"attributes\":{},\"id\":\"6f2c5c0f-bd83-4a82-b1d3-6f95fcaf5b2f\",\"type\":\"Selection\"},{\"attributes\":{},\"id\":\"b39de8fc-0049-4392-a3e3-87849e195910\",\"type\":\"BasicTickFormatter\"},{\"attributes\":{\"callback\":null,\"data\":{\"x\":{\"__ndarray__\":\"FeNfeOMswz/a948ivlXDP0YqxtiN58Q/Tt7Xs60Hxj9p4tvDd0XHP0tdjUcEPsg/Ya3SxNgVyT+EdEbOoZDJP2sZHU5oq8k/PSxxcCs1yT/vgvNvuAvIP5NCcpWb5sU/ECStAPiKwj+MvqNCTPS7P8SY9PdSeLo/GnzMzVgwwz//P06YMJrKP5mi+e8DiM8//9ZnMSUQ0T98+OjDaTfSPxLkdwVofNU/cwT8XGXU3D8guKkFHxjeP5Zvptegztk/Qxp4YpTv1T/vnSSfT4vRP9or4ioFk8w/PN7kt+jkxz+H9D4CPdzDPyQowKiLsb8/D2GK3wWrtz8GFrgjOWywP1TsrDnnd6U/OJEucFienD9Fr4DuPe+FP2kpP/o96YS/zEsXxR8Dmb9Ui9xhgDWYv/DBm9BMeYq/qS6SjfbleL9rwKtQlmpLP/zDvQoVyX8/Vp/RdHvrjT/7FxBzrP+VPzFPorbxTZ0/Pl/jlUyXoj9ddSRkDuymP7Nak4AuoKs/9yIwj2IksD8upX1fm46yP+rR+5aeCLU/vMoupgaLtz8XL1AxUhi6P2wpWpgJr7w/s50IRWdXvz82GDQ+3QrBPy8NDdXeccI/oCcSChnhwz9cqcpr41fFP+VfyyvX28Y/FDKhk+9jyD8GzGwlrsLJPwXOCCWCp8o/PUvrysKyyz8rQl7NCfPLP2S7MfPT7ss/nhsFTtcPzD/4ZIvF69HLP6gKunuI38s/OY6r03k7zD/XkfodUNfMP7cS0+iCuM0/hGVs6Gb/zj+6fkWnfILQP/+goqg76NI/\",\"dtype\":\"float64\",\"shape\":[75]},\"y\":{\"__ndarray__\":\"GhExyth1ND/Sv8nbtpRIP2vylNV0PVE/aTum7souWD/At0SJ8fVgPw3Iuahxymc/MSNhhJWvcD/bTfBN02d3P2zb5nxnaoA/CD5h5MAGhz8NmeH1TyaQP+zrCsc9p5Y/LbKd76fGnz/bLW5ISEmmPww9YvTcQq8/JV2OstnstT8Er5Y7M8G+P0c+r3jqkcU/5h99k6ZBzj88bCIzFzjVP4enV8oyxN0//yH99nXg5D8qOpLLf0jtP5kqGJXUifQ/c9cS8kHP/D+/DpwzojQEQIEmwoanVwxA4lgXt9HgE0BSSZ2AJuIbQAMJih9jjiNA5q4l5INuK0AwTKYKRj0zQNv5fmq8/DpAaCJseHrtQkB/+zpwzoxKQM3MzMzMeFJAZmZmZmZqWEAAAAAAAFxeQM3MzMzMJmJAmpmZmZkfZUBmZmZmZhhoQDMzMzMzEWtAAAAAAAAKbkBmZmZmZoFwQM3MzMzM/XFAMzMzMzN6c0CamZmZmfZ0QAAAAAAAc3ZAZmZmZmbvd0DNzMzMzGt5QDMzMzMz6HpAmpmZmZlkfEAAAAAAAOF9QGZmZmZmXX9AZmZmZuZsgECamZmZGSuBQM3MzMxM6YFAAAAAAICngkAzMzMzs2WDQGZmZmbmI4RAmpmZmRnihEDNzMzMTKCFQAAAAACAXoZAMzMzM7Mch0BmZmZm5tqHQJqZmZkZmYhAzczMzExXiUAAAAAAgBWKQDMzMzOz04pAZmZmZuaRi0CamZmZGVCMQM3MzMxMDo1AAAAAAIDMjUAzMzMzs4qOQGZmZmbmSI9A\",\"dtype\":\"float64\",\"shape\":[75]}},\"selected\":{\"id\":\"13b1b550-9c64-4ef5-908b-6eae2def2c6f\",\"type\":\"Selection\"},\"selection_policy\":{\"id\":\"8e6cc013-3668-4fe4-9a37-6f6cfeb2a37b\",\"type\":\"UnionRenderers\"}},\"id\":\"c9dc849a-1d03-44b4-be93-bc10384cfd33\",\"type\":\"ColumnDataSource\"},{\"attributes\":{\"source\":{\"id\":\"9edefb2b-59e9-4699-b612-baa189735ad9\",\"type\":\"ColumnDataSource\"}},\"id\":\"87a18add-5dad-4842-8134-c5abec75778e\",\"type\":\"CDSView\"},{\"attributes\":{},\"id\":\"d4517410-db08-493b-b197-c96db27b3df0\",\"type\":\"Selection\"},{\"attributes\":{},\"id\":\"64c50953-e495-41a1-844b-1d33f00c4bc9\",\"type\":\"Selection\"},{\"attributes\":{\"axis_label\":\"cooling rate [K/day]\",\"formatter\":{\"id\":\"7bd334e2-1c92-4cab-9431-a2defb8645fe\",\"type\":\"BasicTickFormatter\"},\"plot\":{\"id\":\"47c34fc9-961a-479d-a5ef-3bddcceb4d93\",\"subtype\":\"Figure\",\"type\":\"Plot\"},\"ticker\":{\"id\":\"c5b3d756-2b26-4988-bc94-f05e8df561ba\",\"type\":\"BasicTicker\"}},\"id\":\"746d3579-ccb3-49e1-ad48-7ac70a1c664c\",\"type\":\"LinearAxis\"},{\"attributes\":{},\"id\":\"69a1efc6-d85f-4f26-b252-11fbc6ce71cf\",\"type\":\"UnionRenderers\"},{\"attributes\":{},\"id\":\"66b96f2f-6e7c-4f62-ba39-c19920901339\",\"type\":\"Selection\"},{\"attributes\":{},\"id\":\"7a87e1d4-3149-4436-988e-41abb09f6b84\",\"type\":\"LogScale\"},{\"attributes\":{\"line_alpha\":0.6,\"line_color\":\"#984ea3\",\"line_width\":3,\"x\":{\"field\":\"x\"},\"y\":{\"field\":\"y\"}},\"id\":\"dad601be-7f75-4c37-8b69-dcc1e4b54cb9\",\"type\":\"Line\"},{\"attributes\":{},\"id\":\"3aff7fa0-016f-44b5-8b40-55f8822b13cd\",\"type\":\"UnionRenderers\"},{\"attributes\":{},\"id\":\"13b1b550-9c64-4ef5-908b-6eae2def2c6f\",\"type\":\"Selection\"},{\"attributes\":{},\"id\":\"8e6cc013-3668-4fe4-9a37-6f6cfeb2a37b\",\"type\":\"UnionRenderers\"},{\"attributes\":{\"fill_alpha\":{\"value\":0.7},\"fill_color\":{\"value\":\"#984ea3\"},\"line_alpha\":{\"value\":0.7},\"line_color\":{\"value\":\"#984ea3\"},\"x\":{\"field\":\"x\"},\"y\":{\"field\":\"y\"}},\"id\":\"886da411-2b99-4a8b-a850-f522c111c911\",\"type\":\"Square\"},{\"attributes\":{},\"id\":\"79e87b90-718f-4fc4-b0b7-7b036712c100\",\"type\":\"UnionRenderers\"},{\"attributes\":{\"toolbar\":{\"id\":\"21ff0f99-a741-4bf1-95aa-dbd99bb966f3\",\"type\":\"ProxyToolbar\"},\"toolbar_location\":\"above\"},\"id\":\"9c1b440a-dcb5-4718-8d1e-d8f1736cc68c\",\"type\":\"ToolbarBox\"},{\"attributes\":{\"data_source\":{\"id\":\"ed3cb443-3e1e-4bf0-84f1-a134f07feb66\",\"type\":\"ColumnDataSource\"},\"glyph\":{\"id\":\"f6077d18-523e-4462-911f-ef9de2cba1cd\",\"type\":\"Line\"},\"hover_glyph\":null,\"muted_glyph\":null,\"nonselection_glyph\":{\"id\":\"13e440cd-b16d-49b1-a71c-a8b98d5abcdd\",\"type\":\"Line\"},\"selection_glyph\":null,\"view\":{\"id\":\"edc3a1ac-a8f5-4c60-a671-a9c6776f2785\",\"type\":\"CDSView\"}},\"id\":\"13baccd3-311c-488a-8e15-65dd305056bc\",\"type\":\"GlyphRenderer\"},{\"attributes\":{\"ticker\":null},\"id\":\"bde0e4a8-c18b-41c2-ab3c-27b9f189a77a\",\"type\":\"LogTickFormatter\"},{\"attributes\":{},\"id\":\"656ad2d3-d03d-4af6-8cfe-c6ce05e1bbcd\",\"type\":\"UnionRenderers\"},{\"attributes\":{},\"id\":\"4c767367-cfe7-4585-8c62-213c1ad4cde5\",\"type\":\"Selection\"},{\"attributes\":{},\"id\":\"098cf28d-db52-4b17-b57d-19ee1f0f9833\",\"type\":\"Selection\"},{\"attributes\":{\"data_source\":{\"id\":\"42bdebfd-a637-43a5-98fd-57684cf08055\",\"type\":\"ColumnDataSource\"},\"glyph\":{\"id\":\"d7dd46cf-05fb-4c98-8769-23793cfe1e72\",\"type\":\"Line\"},\"hover_glyph\":null,\"muted_glyph\":null,\"nonselection_glyph\":{\"id\":\"5b802e1d-7294-43c4-8361-6cffe8fe56bf\",\"type\":\"Line\"},\"selection_glyph\":null,\"view\":{\"id\":\"64c0bbb4-a6b1-4495-8eea-f9c220f929df\",\"type\":\"CDSView\"}},\"id\":\"6abb0837-e503-479f-9928-9b9ed3b2dee5\",\"type\":\"GlyphRenderer\"},{\"attributes\":{\"line_alpha\":0.6,\"line_color\":\"#e41a1c\",\"line_dash\":[6],\"line_width\":5,\"x\":{\"field\":\"x\"},\"y\":{\"field\":\"y\"}},\"id\":\"9d70ff56-3871-4c37-9d93-0c8e5ca1c225\",\"type\":\"Line\"},{\"attributes\":{},\"id\":\"baa8beb7-227e-4022-8779-f8827ee912c6\",\"type\":\"Selection\"},{\"attributes\":{},\"id\":\"386a26b6-9589-488d-8fc4-264f819f25b5\",\"type\":\"UnionRenderers\"},{\"attributes\":{},\"id\":\"eac8a01d-0519-4d13-99c1-e05db9242d22\",\"type\":\"UnionRenderers\"},{\"attributes\":{\"callback\":null,\"data\":{\"x\":{\"__ndarray__\":\"FeNfeOMswz/a948ivlXDP0YqxtiN58Q/Tt7Xs60Hxj9p4tvDd0XHP0tdjUcEPsg/Ya3SxNgVyT+EdEbOoZDJP2sZHU5oq8k/PSxxcCs1yT/vgvNvuAvIP5NCcpWb5sU/ECStAPiKwj+MvqNCTPS7P8SY9PdSeLo/GnzMzVgwwz//P06YMJrKP5mi+e8DiM8//9ZnMSUQ0T98+OjDaTfSPxLkdwVofNU/cwT8XGXU3D8guKkFHxjeP5Zvptegztk/Qxp4YpTv1T/vnSSfT4vRP9or4ioFk8w/PN7kt+jkxz+H9D4CPdzDPyQowKiLsb8/D2GK3wWrtz8GFrgjOWywP1TsrDnnd6U/OJEucFienD9Fr4DuPe+FP2kpP/o96YS/zEsXxR8Dmb9Ui9xhgDWYv/DBm9BMeYq/qS6SjfbleL9rwKtQlmpLP/zDvQoVyX8/Vp/RdHvrjT/7FxBzrP+VPzFPorbxTZ0/Pl/jlUyXoj9ddSRkDuymP7Nak4AuoKs/9yIwj2IksD8upX1fm46yP+rR+5aeCLU/vMoupgaLtz8XL1AxUhi6P2wpWpgJr7w/s50IRWdXvz82GDQ+3QrBPy8NDdXeccI/oCcSChnhwz9cqcpr41fFP+VfyyvX28Y/FDKhk+9jyD8GzGwlrsLJPwXOCCWCp8o/PUvrysKyyz8rQl7NCfPLP2S7MfPT7ss/nhsFTtcPzD/4ZIvF69HLP6gKunuI38s/OY6r03k7zD/XkfodUNfMP7cS0+iCuM0/hGVs6Gb/zj+6fkWnfILQP/+goqg76NI/\",\"dtype\":\"float64\",\"shape\":[75]},\"y\":{\"__ndarray__\":\"GhExyth1ND/Sv8nbtpRIP2vylNV0PVE/aTum7souWD/At0SJ8fVgPw3Iuahxymc/MSNhhJWvcD/bTfBN02d3P2zb5nxnaoA/CD5h5MAGhz8NmeH1TyaQP+zrCsc9p5Y/LbKd76fGnz/bLW5ISEmmPww9YvTcQq8/JV2OstnstT8Er5Y7M8G+P0c+r3jqkcU/5h99k6ZBzj88bCIzFzjVP4enV8oyxN0//yH99nXg5D8qOpLLf0jtP5kqGJXUifQ/c9cS8kHP/D+/DpwzojQEQIEmwoanVwxA4lgXt9HgE0BSSZ2AJuIbQAMJih9jjiNA5q4l5INuK0AwTKYKRj0zQNv5fmq8/DpAaCJseHrtQkB/+zpwzoxKQM3MzMzMeFJAZmZmZmZqWEAAAAAAAFxeQM3MzMzMJmJAmpmZmZkfZUBmZmZmZhhoQDMzMzMzEWtAAAAAAAAKbkBmZmZmZoFwQM3MzMzM/XFAMzMzMzN6c0CamZmZmfZ0QAAAAAAAc3ZAZmZmZmbvd0DNzMzMzGt5QDMzMzMz6HpAmpmZmZlkfEAAAAAAAOF9QGZmZmZmXX9AZmZmZuZsgECamZmZGSuBQM3MzMxM6YFAAAAAAICngkAzMzMzs2WDQGZmZmbmI4RAmpmZmRnihEDNzMzMTKCFQAAAAACAXoZAMzMzM7Mch0BmZmZm5tqHQJqZmZkZmYhAzczMzExXiUAAAAAAgBWKQDMzMzOz04pAZmZmZuaRi0CamZmZGVCMQM3MzMxMDo1AAAAAAIDMjUAzMzMzs4qOQGZmZmbmSI9A\",\"dtype\":\"float64\",\"shape\":[75]}},\"selected\":{\"id\":\"098cf28d-db52-4b17-b57d-19ee1f0f9833\",\"type\":\"Selection\"},\"selection_policy\":{\"id\":\"eac8a01d-0519-4d13-99c1-e05db9242d22\",\"type\":\"UnionRenderers\"}},\"id\":\"70bc6d50-5f90-40ff-8efe-2bf250dadac2\",\"type\":\"ColumnDataSource\"},{\"attributes\":{},\"id\":\"d30a1fc9-970e-4f09-946e-7b7aebc600b5\",\"type\":\"Selection\"},{\"attributes\":{\"line_alpha\":0.1,\"line_color\":\"#1f77b4\",\"line_dash\":[6],\"line_width\":5,\"x\":{\"field\":\"x\"},\"y\":{\"field\":\"y\"}},\"id\":\"f90e1314-dac2-409e-95cd-c7008adee04b\",\"type\":\"Line\"},{\"attributes\":{},\"id\":\"b3b73075-12ab-4f51-93c0-aaab352d8ba4\",\"type\":\"UnionRenderers\"},{\"attributes\":{\"children\":[{\"id\":\"9c1b440a-dcb5-4718-8d1e-d8f1736cc68c\",\"type\":\"ToolbarBox\"},{\"id\":\"0c0d294d-56e4-43eb-959b-02dc9a722cca\",\"type\":\"Column\"}]},\"id\":\"de4c2ca2-75e8-4382-8a76-ff66c3420bd2\",\"type\":\"Column\"},{\"attributes\":{\"source\":{\"id\":\"ed3cb443-3e1e-4bf0-84f1-a134f07feb66\",\"type\":\"ColumnDataSource\"}},\"id\":\"edc3a1ac-a8f5-4c60-a671-a9c6776f2785\",\"type\":\"CDSView\"},{\"attributes\":{\"tools\":[{\"id\":\"18b823f3-d213-4d6c-bd20-d24e44cda73d\",\"type\":\"PanTool\"},{\"id\":\"70838b43-96de-46c1-a5b7-97d2e03c1dbe\",\"type\":\"WheelZoomTool\"},{\"id\":\"5047100c-b89c-4ad5-84d3-f7540e949f4d\",\"type\":\"BoxZoomTool\"},{\"id\":\"f3f42650-8c04-470e-8686-4b1ca7a788c5\",\"type\":\"SaveTool\"},{\"id\":\"add88492-9e7b-4797-96f2-730b3ff9282d\",\"type\":\"ResetTool\"},{\"id\":\"3906b2d7-c395-4d9c-8e6c-a0b106e26d84\",\"type\":\"HelpTool\"},{\"id\":\"60b128b5-8ce2-45e8-846c-eeb0a733af22\",\"type\":\"PanTool\"},{\"id\":\"87c2d0d2-9665-4ca7-9316-aa64c9f02105\",\"type\":\"WheelZoomTool\"},{\"id\":\"912421bc-5a28-4396-bae4-598f5d2fc0c0\",\"type\":\"BoxZoomTool\"},{\"id\":\"45aa247f-c343-4d61-b219-a863f725e06d\",\"type\":\"SaveTool\"},{\"id\":\"cc2639de-aa75-4737-8a4d-2cde44db7b8f\",\"type\":\"ResetTool\"},{\"id\":\"c52fde39-ec30-45c8-b3bf-4b547198c950\",\"type\":\"HelpTool\"}]},\"id\":\"21ff0f99-a741-4bf1-95aa-dbd99bb966f3\",\"type\":\"ProxyToolbar\"},{\"attributes\":{\"data_source\":{\"id\":\"e3dc46dd-45f7-4480-9d7b-0a1724bdaef0\",\"type\":\"ColumnDataSource\"},\"glyph\":{\"id\":\"9d70ff56-3871-4c37-9d93-0c8e5ca1c225\",\"type\":\"Line\"},\"hover_glyph\":null,\"muted_glyph\":null,\"nonselection_glyph\":{\"id\":\"f90e1314-dac2-409e-95cd-c7008adee04b\",\"type\":\"Line\"},\"selection_glyph\":null,\"view\":{\"id\":\"e95585af-8fd5-4a07-825b-e4f71fbf6d38\",\"type\":\"CDSView\"}},\"id\":\"c37d05cf-2d44-4cd4-81d0-029ea2fd8bcf\",\"type\":\"GlyphRenderer\"},{\"attributes\":{\"line_color\":\"#4daf4a\",\"line_width\":1.5,\"x\":{\"field\":\"x\"},\"y\":{\"field\":\"y\"}},\"id\":\"74db27c4-6ca5-4e14-8c29-be7ef4d5e1f0\",\"type\":\"Line\"},{\"attributes\":{\"callback\":null,\"data\":{\"x\":{\"__ndarray__\":\"Q0ZHPwhruT++BciGJGm6P9QKNiLW6rw/MJGgMt1vvz+X0Je98PPAP/PufstSIcI/jM230xA0wz+RGT3xex/EP7z9f70+ysQ/wjqnvMoYxT/Uz92mJt7EP7KtsCoM28M/Ef3a+um/wT8azus+thu9P1tMIrGTsL0/wCBM/uVixT+SVCrRJyzNP/XuEzBP4dA/DPiI2i5b0T9R/mrlkFrRP655PMoU9dM/q5QBFOGu2z+j+KU8wsLdP+Nhb5zzF9o/yxzDSqJq1j++dv4nXunRP6VUmZRIQ80/I6ngSzx7yD980g0991jEPwf4A1jDyb8/mgqdSS4Otz9hrIj9Eq+uP0STmxNBvaI/doMIOzy5lz9BeeNRn6WBPw2W9nX88YS/E0T5XE9vmL8bk5h8wPeXvwTA94X3H4y/8uEsAQXSfr/Pvw4PxDxNv9iMh8sut3c/Avw8Ds+HiT+8lsBIkJOTPwbNZaV0qZo/PlxHXM0ooT8ffFYJfmqlP7rWysPDLao/dhweRjEOrz9OoU7ULRayP14OtjZftbQ/Lf1lpp1itz8C8y3/Yxm6Py0hoywR4rw/Yy9OW6e6vz9eXmfg017BP5bI7MlP7MI/9/UyQFh8xD/XTyBo3AbGP+eSR8Nrj8c/9SMLuc4WyT9pk/3SJnfKP0Nh5QrOZMs/KVxutAyGzD/WG9bQ3eDMPzQfQiKO8cw/aZMe4Q8azT+9VZWFyMzMP9gW2EIUvMw/nXDIafwAzT9t4kepQovNP3qj2tBiY84/MfjJiyuyzz9iW3E3qeTQPy1bb8QoQtM/\",\"dtype\":\"float64\",\"shape\":[75]},\"y\":{\"__ndarray__\":\"S/O/Q+51ND/Sv8nbtpRIP2vylNV0PVE/aTum7souWD/At0SJ8fVgPw3Iuahxymc/MSNhhJWvcD/bTfBN02d3P2zb5nxnaoA/CD5h5MAGhz8NmeH1TyaQP+zrCsc9p5Y/LbKd76fGnz/bLW5ISEmmPww9YvTcQq8/JV2OstnstT8Er5Y7M8G+P0c+r3jqkcU/5h99k6ZBzj88bCIzFzjVP4enV8oyxN0//yH99nXg5D8qOpLLf0jtP5kqGJXUifQ/c9cS8kHP/D+/DpwzojQEQIEmwoanVwxA4lgXt9HgE0BSSZ2AJuIbQAMJih9jjiNA5q4l5INuK0AwTKYKRj0zQNv5fmq8/DpAaCJseHrtQkB/+zpwzoxKQM3MzMzMeFJAZmZmZmZqWEAAAAAAAFxeQM3MzMzMJmJAmpmZmZkfZUBmZmZmZhhoQDMzMzMzEWtAAAAAAAAKbkBmZmZmZoFwQM3MzMzM/XFAMzMzMzN6c0CamZmZmfZ0QAAAAAAAc3ZAZmZmZmbvd0DNzMzMzGt5QDMzMzMz6HpAmpmZmZlkfEAAAAAAAOF9QGZmZmZmXX9AZmZmZuZsgECamZmZGSuBQM3MzMxM6YFAAAAAAICngkAzMzMzs2WDQGZmZmbmI4RAmpmZmRnihEDNzMzMTKCFQAAAAACAXoZAMzMzM7Mch0BmZmZm5tqHQJqZmZkZmYhAzczMzExXiUAAAAAAgBWKQDMzMzOz04pAZmZmZuaRi0CamZmZGVCMQM3MzMxMDo1AAAAAAIDMjUAzMzMzs4qOQGZmZmbmSI9A\",\"dtype\":\"float64\",\"shape\":[75]}},\"selected\":{\"id\":\"629d2166-8d67-4909-9c4a-965a8bdc7e45\",\"type\":\"Selection\"},\"selection_policy\":{\"id\":\"6edc6359-1371-4984-8de2-209e4d961bfa\",\"type\":\"UnionRenderers\"}},\"id\":\"ed3cb443-3e1e-4bf0-84f1-a134f07feb66\",\"type\":\"ColumnDataSource\"},{\"attributes\":{\"fill_alpha\":{\"value\":0.1},\"fill_color\":{\"value\":\"#1f77b4\"},\"line_alpha\":{\"value\":0.1},\"line_color\":{\"value\":\"#1f77b4\"},\"x\":{\"field\":\"x\"},\"y\":{\"field\":\"y\"}},\"id\":\"b413eeb7-c517-4ede-a565-f4061c92bfb6\",\"type\":\"Circle\"},{\"attributes\":{\"line_alpha\":0.1,\"line_color\":\"#1f77b4\",\"line_width\":1.5,\"x\":{\"field\":\"x\"},\"y\":{\"field\":\"y\"}},\"id\":\"4761fa6e-26a3-49cb-9d65-9037d904060f\",\"type\":\"Line\"},{\"attributes\":{\"plot\":null,\"text\":\"Log pressure scale\"},\"id\":\"aa8c6910-f35b-4655-88eb-5c854ed716f4\",\"type\":\"Title\"},{\"attributes\":{\"callback\":null,\"end\":0.01,\"start\":1020},\"id\":\"7a6cd820-d61d-4b17-add7-cceb18977087\",\"type\":\"Range1d\"},{\"attributes\":{\"callback\":null,\"data\":{\"x\":{\"__ndarray__\":\"Q0ZHPwhruT++BciGJGm6P9QKNiLW6rw/MJGgMt1vvz+X0Je98PPAP/PufstSIcI/jM230xA0wz+RGT3xex/EP7z9f70+ysQ/wjqnvMoYxT/Uz92mJt7EP7KtsCoM28M/Ef3a+um/wT8azus+thu9P1tMIrGTsL0/wCBM/uVixT+SVCrRJyzNP/XuEzBP4dA/DPiI2i5b0T9R/mrlkFrRP655PMoU9dM/q5QBFOGu2z+j+KU8wsLdP+Nhb5zzF9o/yxzDSqJq1j++dv4nXunRP6VUmZRIQ80/I6ngSzx7yD980g0991jEPwf4A1jDyb8/mgqdSS4Otz9hrIj9Eq+uP0STmxNBvaI/doMIOzy5lz9BeeNRn6WBPw2W9nX88YS/E0T5XE9vmL8bk5h8wPeXvwTA94X3H4y/8uEsAQXSfr/Pvw4PxDxNv9iMh8sut3c/Avw8Ds+HiT+8lsBIkJOTPwbNZaV0qZo/PlxHXM0ooT8ffFYJfmqlP7rWysPDLao/dhweRjEOrz9OoU7ULRayP14OtjZftbQ/Lf1lpp1itz8C8y3/Yxm6Py0hoywR4rw/Yy9OW6e6vz9eXmfg017BP5bI7MlP7MI/9/UyQFh8xD/XTyBo3AbGP+eSR8Nrj8c/9SMLuc4WyT9pk/3SJnfKP0Nh5QrOZMs/KVxutAyGzD/WG9bQ3eDMPzQfQiKO8cw/aZMe4Q8azT+9VZWFyMzMP9gW2EIUvMw/nXDIafwAzT9t4kepQovNP3qj2tBiY84/MfjJiyuyzz9iW3E3qeTQPy1bb8QoQtM/\",\"dtype\":\"float64\",\"shape\":[75]},\"y\":{\"__ndarray__\":\"S/O/Q+51ND/Sv8nbtpRIP2vylNV0PVE/aTum7souWD/At0SJ8fVgPw3Iuahxymc/MSNhhJWvcD/bTfBN02d3P2zb5nxnaoA/CD5h5MAGhz8NmeH1TyaQP+zrCsc9p5Y/LbKd76fGnz/bLW5ISEmmPww9YvTcQq8/JV2OstnstT8Er5Y7M8G+P0c+r3jqkcU/5h99k6ZBzj88bCIzFzjVP4enV8oyxN0//yH99nXg5D8qOpLLf0jtP5kqGJXUifQ/c9cS8kHP/D+/DpwzojQEQIEmwoanVwxA4lgXt9HgE0BSSZ2AJuIbQAMJih9jjiNA5q4l5INuK0AwTKYKRj0zQNv5fmq8/DpAaCJseHrtQkB/+zpwzoxKQM3MzMzMeFJAZmZmZmZqWEAAAAAAAFxeQM3MzMzMJmJAmpmZmZkfZUBmZmZmZhhoQDMzMzMzEWtAAAAAAAAKbkBmZmZmZoFwQM3MzMzM/XFAMzMzMzN6c0CamZmZmfZ0QAAAAAAAc3ZAZmZmZmbvd0DNzMzMzGt5QDMzMzMz6HpAmpmZmZlkfEAAAAAAAOF9QGZmZmZmXX9AZmZmZuZsgECamZmZGSuBQM3MzMxM6YFAAAAAAICngkAzMzMzs2WDQGZmZmbmI4RAmpmZmRnihEDNzMzMTKCFQAAAAACAXoZAMzMzM7Mch0BmZmZm5tqHQJqZmZkZmYhAzczMzExXiUAAAAAAgBWKQDMzMzOz04pAZmZmZuaRi0CamZmZGVCMQM3MzMxMDo1AAAAAAIDMjUAzMzMzs4qOQGZmZmbmSI9A\",\"dtype\":\"float64\",\"shape\":[75]}},\"selected\":{\"id\":\"d4517410-db08-493b-b197-c96db27b3df0\",\"type\":\"Selection\"},\"selection_policy\":{\"id\":\"656ad2d3-d03d-4af6-8cfe-c6ce05e1bbcd\",\"type\":\"UnionRenderers\"}},\"id\":\"e3dc46dd-45f7-4480-9d7b-0a1724bdaef0\",\"type\":\"ColumnDataSource\"},{\"attributes\":{\"data_source\":{\"id\":\"9edefb2b-59e9-4699-b612-baa189735ad9\",\"type\":\"ColumnDataSource\"},\"glyph\":{\"id\":\"9e720a1e-ee6b-4611-9170-2ad491ce0057\",\"type\":\"Square\"},\"hover_glyph\":null,\"muted_glyph\":null,\"nonselection_glyph\":{\"id\":\"719b9241-ad4c-417f-87de-ca9b23243767\",\"type\":\"Square\"},\"selection_glyph\":null,\"view\":{\"id\":\"87a18add-5dad-4842-8134-c5abec75778e\",\"type\":\"CDSView\"}},\"id\":\"68684d41-cb35-4de8-998a-3a71dd6da84e\",\"type\":\"GlyphRenderer\"},{\"attributes\":{\"callback\":null,\"end\":0.01,\"start\":1020},\"id\":\"6f0284c2-7c32-44b5-b57e-9950283e7c67\",\"type\":\"Range1d\"},{\"attributes\":{\"fill_alpha\":{\"value\":0.7},\"fill_color\":{\"value\":\"#4daf4a\"},\"line_alpha\":{\"value\":0.7},\"line_color\":{\"value\":\"#4daf4a\"},\"x\":{\"field\":\"x\"},\"y\":{\"field\":\"y\"}},\"id\":\"47ed30ed-a6e1-470b-91d8-c1fd87a8ca8f\",\"type\":\"Circle\"},{\"attributes\":{\"source\":{\"id\":\"42bdebfd-a637-43a5-98fd-57684cf08055\",\"type\":\"ColumnDataSource\"}},\"id\":\"64c0bbb4-a6b1-4495-8eea-f9c220f929df\",\"type\":\"CDSView\"},{\"attributes\":{},\"id\":\"aa36f134-954d-42a8-9177-fab87f1cf523\",\"type\":\"BasicTicker\"},{\"attributes\":{\"plot\":{\"id\":\"ca6b8e16-fbff-4134-975c-e89b7f6a391a\",\"subtype\":\"Figure\",\"type\":\"Plot\"},\"ticker\":{\"id\":\"5abaa957-f569-43d3-bd08-5f9f7f39d853\",\"type\":\"BasicTicker\"}},\"id\":\"c33a590c-3046-4b8e-bf0a-a5f0f2516050\",\"type\":\"Grid\"},{\"attributes\":{},\"id\":\"3906b2d7-c395-4d9c-8e6c-a0b106e26d84\",\"type\":\"HelpTool\"},{\"attributes\":{},\"id\":\"f3f42650-8c04-470e-8686-4b1ca7a788c5\",\"type\":\"SaveTool\"},{\"attributes\":{\"fill_alpha\":{\"value\":0.7},\"fill_color\":{\"value\":\"#4daf4a\"},\"line_alpha\":{\"value\":0.7},\"line_color\":{\"value\":\"#4daf4a\"},\"x\":{\"field\":\"x\"},\"y\":{\"field\":\"y\"}},\"id\":\"e6b9efb8-4ffa-42d8-976c-c686f8c799ac\",\"type\":\"Circle\"},{\"attributes\":{},\"id\":\"add88492-9e7b-4797-96f2-730b3ff9282d\",\"type\":\"ResetTool\"},{\"attributes\":{\"bottom_units\":\"screen\",\"fill_alpha\":{\"value\":0.5},\"fill_color\":{\"value\":\"lightgrey\"},\"left_units\":\"screen\",\"level\":\"overlay\",\"line_alpha\":{\"value\":1.0},\"line_color\":{\"value\":\"black\"},\"line_dash\":[4,4],\"line_width\":{\"value\":2},\"plot\":null,\"render_mode\":\"css\",\"right_units\":\"screen\",\"top_units\":\"screen\"},\"id\":\"f0a4b68b-ab0e-46ee-9a8c-b607102f73af\",\"type\":\"BoxAnnotation\"},{\"attributes\":{\"overlay\":{\"id\":\"f0a4b68b-ab0e-46ee-9a8c-b607102f73af\",\"type\":\"BoxAnnotation\"}},\"id\":\"5047100c-b89c-4ad5-84d3-f7540e949f4d\",\"type\":\"BoxZoomTool\"},{\"attributes\":{},\"id\":\"70838b43-96de-46c1-a5b7-97d2e03c1dbe\",\"type\":\"WheelZoomTool\"},{\"attributes\":{\"callback\":null,\"data\":{\"x\":{\"__ndarray__\":\"I99Cqmo60D+S6RIGTD3QPzuMrKnq7dA/OiibUXeO0T9a1Irjfg/SP2tYOrxzatI/ikXju1qP0j8eZx7poXDSP7lSrnRn+9E/LWB+fkob0T9HBQyar3XPP4kcbPtogss/o7pOXdgexj8UL+RLh9K+P7VLAnGq97k/kH9Nc37MwT9bbllTkz/IP2EMeqm3Cs0/oxpZph2G0D+pXsg05OnSP0A/31hIJ9c/O9uKmjt83j9u/XBnkfPeP85br8gz2Nk/+Xw5WKSu1T9sfjZRzyvRP+m7+C7nSss/hMJWv4jsxT9DLItXk4bBP+yNlAyEjbs/nGsAhWYWtT/k7LclWyWvP4KuCPRFH6Y/WY5BO2j1nj8DhaLC1kGJP27Po87SiIG/qyT0K4Rylr9Mu6WQvFeVv4ePS8Z4Z4W/1V6ynIX3cL9lBGyw/RdhP4UepWLAqoE/FyGndTzijz8d889GjY2XP/c4Ab3Yyp8/QeWf5tJipD9t+8j0HkOpPx3WD0Ikaa4/esP08niwsT9Srj916za0P81OX/8Qw7Y/iNDOiiRRuT++vWvQl967P8iPnVz4Zr4/20s7sV53wD+Za+qfVLnBP65Vkqdy+8I/T8AC2k5CxD/uSsPXdJDFP5ws3l2h7sY/ujPR7xRVyD+PbRlwlpLJP8625ALhVMo/CfBpkHo2yz9eEmdF1ETLPyT4lb1bD8s/5oYRiPgDyz9x7V3m6K/KP1WdOC02tco/VfAlnv0Syz8cssOQg6/LPzZTCIHoi8w/TenLmKPDzT9M9jL+O6rPP6hwwoxCNdI/\",\"dtype\":\"float64\",\"shape\":[75]},\"y\":{\"__ndarray__\":\"GhExyth1ND/Sv8nbtpRIP2vylNV0PVE/aTum7souWD/At0SJ8fVgPw3Iuahxymc/MSNhhJWvcD/bTfBN02d3P2zb5nxnaoA/CD5h5MAGhz8NmeH1TyaQP+zrCsc9p5Y/LbKd76fGnz/bLW5ISEmmPww9YvTcQq8/JV2OstnstT8Er5Y7M8G+P0c+r3jqkcU/5h99k6ZBzj88bCIzFzjVP4enV8oyxN0//yH99nXg5D8qOpLLf0jtP5kqGJXUifQ/c9cS8kHP/D+/DpwzojQEQIEmwoanVwxA4lgXt9HgE0BSSZ2AJuIbQAMJih9jjiNA5q4l5INuK0AwTKYKRj0zQNv5fmq8/DpAaCJseHrtQkB/+zpwzoxKQM3MzMzMeFJAZmZmZmZqWEAAAAAAAFxeQM3MzMzMJmJAmpmZmZkfZUBmZmZmZhhoQDMzMzMzEWtAAAAAAAAKbkBmZmZmZoFwQM3MzMzM/XFAMzMzMzN6c0CamZmZmfZ0QAAAAAAAc3ZAZmZmZmbvd0DNzMzMzGt5QDMzMzMz6HpAmpmZmZlkfEAAAAAAAOF9QGZmZmZmXX9AZmZmZuZsgECamZmZGSuBQM3MzMxM6YFAAAAAAICngkAzMzMzs2WDQGZmZmbmI4RAmpmZmRnihEDNzMzMTKCFQAAAAACAXoZAMzMzM7Mch0BmZmZm5tqHQJqZmZkZmYhAzczMzExXiUAAAAAAgBWKQDMzMzOz04pAZmZmZuaRi0CamZmZGVCMQM3MzMxMDo1AAAAAAIDMjUAzMzMzs4qOQGZmZmbmSI9A\",\"dtype\":\"float64\",\"shape\":[75]}},\"selected\":{\"id\":\"6f2c5c0f-bd83-4a82-b1d3-6f95fcaf5b2f\",\"type\":\"Selection\"},\"selection_policy\":{\"id\":\"69a1efc6-d85f-4f26-b252-11fbc6ce71cf\",\"type\":\"UnionRenderers\"}},\"id\":\"cf54f237-da4d-439e-adac-1752187a8662\",\"type\":\"ColumnDataSource\"},{\"attributes\":{\"data_source\":{\"id\":\"cf54f237-da4d-439e-adac-1752187a8662\",\"type\":\"ColumnDataSource\"},\"glyph\":{\"id\":\"e6b9efb8-4ffa-42d8-976c-c686f8c799ac\",\"type\":\"Circle\"},\"hover_glyph\":null,\"muted_glyph\":null,\"nonselection_glyph\":{\"id\":\"fe22a08d-181a-4ae7-a9a5-0e3d1231607f\",\"type\":\"Circle\"},\"selection_glyph\":null,\"view\":{\"id\":\"07cdc739-ade5-4bf4-a74f-60e9012d95cd\",\"type\":\"CDSView\"}},\"id\":\"efd498a5-9b62-4f24-b792-88dc13f2d109\",\"type\":\"GlyphRenderer\"},{\"attributes\":{},\"id\":\"18b823f3-d213-4d6c-bd20-d24e44cda73d\",\"type\":\"PanTool\"},{\"attributes\":{},\"id\":\"5abaa957-f569-43d3-bd08-5f9f7f39d853\",\"type\":\"BasicTicker\"},{\"attributes\":{\"dimension\":1,\"plot\":{\"id\":\"ca6b8e16-fbff-4134-975c-e89b7f6a391a\",\"subtype\":\"Figure\",\"type\":\"Plot\"},\"ticker\":{\"id\":\"aa36f134-954d-42a8-9177-fab87f1cf523\",\"type\":\"BasicTicker\"}},\"id\":\"ff7ee45b-eb6a-435e-b219-0df2473cfd6b\",\"type\":\"Grid\"},{\"attributes\":{\"plot\":null,\"text\":\"Linear pressure scale\"},\"id\":\"55279499-1b60-4300-8bf9-7377405eb809\",\"type\":\"Title\"},{\"attributes\":{\"axis_label\":\"pressure [mb]\",\"formatter\":{\"id\":\"719686c1-eaa4-4b77-a2b2-8b5e16104868\",\"type\":\"BasicTickFormatter\"},\"plot\":{\"id\":\"ca6b8e16-fbff-4134-975c-e89b7f6a391a\",\"subtype\":\"Figure\",\"type\":\"Plot\"},\"ticker\":{\"id\":\"aa36f134-954d-42a8-9177-fab87f1cf523\",\"type\":\"BasicTicker\"}},\"id\":\"4dd472bd-6e8d-451e-a547-58476a62ba20\",\"type\":\"LinearAxis\"},{\"attributes\":{\"fill_alpha\":{\"value\":0.1},\"fill_color\":{\"value\":\"#1f77b4\"},\"line_alpha\":{\"value\":0.1},\"line_color\":{\"value\":\"#1f77b4\"},\"x\":{\"field\":\"x\"},\"y\":{\"field\":\"y\"}},\"id\":\"fe22a08d-181a-4ae7-a9a5-0e3d1231607f\",\"type\":\"Circle\"},{\"attributes\":{\"active_drag\":\"auto\",\"active_inspect\":\"auto\",\"active_scroll\":\"auto\",\"active_tap\":\"auto\",\"tools\":[{\"id\":\"18b823f3-d213-4d6c-bd20-d24e44cda73d\",\"type\":\"PanTool\"},{\"id\":\"70838b43-96de-46c1-a5b7-97d2e03c1dbe\",\"type\":\"WheelZoomTool\"},{\"id\":\"5047100c-b89c-4ad5-84d3-f7540e949f4d\",\"type\":\"BoxZoomTool\"},{\"id\":\"f3f42650-8c04-470e-8686-4b1ca7a788c5\",\"type\":\"SaveTool\"},{\"id\":\"add88492-9e7b-4797-96f2-730b3ff9282d\",\"type\":\"ResetTool\"},{\"id\":\"3906b2d7-c395-4d9c-8e6c-a0b106e26d84\",\"type\":\"HelpTool\"}]},\"id\":\"3a0c729e-6029-46cb-9ac7-d2424826e02d\",\"type\":\"Toolbar\"},{\"attributes\":{\"callback\":null,\"end\":0.3041664302,\"start\":-0.0276793702},\"id\":\"7c930e34-d252-4bd1-baf6-24ed60aabed7\",\"type\":\"Range1d\"},{\"attributes\":{},\"id\":\"6bf73325-1abc-4c05-a45c-468b22ee3297\",\"type\":\"LinearScale\"},{\"attributes\":{},\"id\":\"7bd334e2-1c92-4cab-9431-a2defb8645fe\",\"type\":\"BasicTickFormatter\"},{\"attributes\":{\"below\":[{\"id\":\"746d3579-ccb3-49e1-ad48-7ac70a1c664c\",\"type\":\"LinearAxis\"}],\"left\":[{\"id\":\"21eb1bfd-b217-47cf-bb59-793ace2c5177\",\"type\":\"LogAxis\"}],\"plot_height\":500,\"plot_width\":560,\"renderers\":[{\"id\":\"746d3579-ccb3-49e1-ad48-7ac70a1c664c\",\"type\":\"LinearAxis\"},{\"id\":\"1667d4a8-a468-484a-848b-d56b4f87da8c\",\"type\":\"Grid\"},{\"id\":\"21eb1bfd-b217-47cf-bb59-793ace2c5177\",\"type\":\"LogAxis\"},{\"id\":\"2bc7bd3d-323d-4eec-bd3d-882702e82605\",\"type\":\"Grid\"},{\"id\":\"44714c95-230e-4075-ac26-ea1078f4e89b\",\"type\":\"BoxAnnotation\"},{\"id\":\"c37d05cf-2d44-4cd4-81d0-029ea2fd8bcf\",\"type\":\"GlyphRenderer\"},{\"id\":\"f1c3419a-da28-42aa-b186-2ceb65bba5e8\",\"type\":\"GlyphRenderer\"},{\"id\":\"c7d9bb2b-341c-4152-9916-6115183a0d3e\",\"type\":\"GlyphRenderer\"},{\"id\":\"68684d41-cb35-4de8-998a-3a71dd6da84e\",\"type\":\"GlyphRenderer\"},{\"id\":\"736d925a-e2aa-4a1a-9bbd-688cecb50962\",\"type\":\"GlyphRenderer\"},{\"id\":\"c3b12457-9f46-4d1a-b880-b9e65e9ff438\",\"type\":\"Legend\"}],\"right\":[{\"id\":\"c3b12457-9f46-4d1a-b880-b9e65e9ff438\",\"type\":\"Legend\"}],\"title\":{\"id\":\"aa8c6910-f35b-4655-88eb-5c854ed716f4\",\"type\":\"Title\"},\"toolbar\":{\"id\":\"964a654a-09df-4d15-a98b-8a8b99d48853\",\"type\":\"Toolbar\"},\"toolbar_location\":null,\"x_range\":{\"id\":\"c7653f8f-9932-45e9-ae04-4509b42e2ae3\",\"type\":\"Range1d\"},\"x_scale\":{\"id\":\"8e43252e-698a-43bd-89a4-cdb1d6f4ad1f\",\"type\":\"LinearScale\"},\"y_range\":{\"id\":\"7a6cd820-d61d-4b17-add7-cceb18977087\",\"type\":\"Range1d\"},\"y_scale\":{\"id\":\"7a87e1d4-3149-4436-988e-41abb09f6b84\",\"type\":\"LogScale\"}},\"id\":\"47c34fc9-961a-479d-a5ef-3bddcceb4d93\",\"subtype\":\"Figure\",\"type\":\"Plot\"},{\"attributes\":{\"line_alpha\":0.6,\"line_color\":\"#e41a1c\",\"line_dash\":[6],\"line_width\":5,\"x\":{\"field\":\"x\"},\"y\":{\"field\":\"y\"}},\"id\":\"f6077d18-523e-4462-911f-ef9de2cba1cd\",\"type\":\"Line\"},{\"attributes\":{\"children\":[{\"id\":\"eff7eac3-6cd9-403e-97e9-886cf44ce334\",\"type\":\"Row\"}]},\"id\":\"0c0d294d-56e4-43eb-959b-02dc9a722cca\",\"type\":\"Column\"},{\"attributes\":{},\"id\":\"0a70de1b-abe1-47e5-955e-8a50a926bd1d\",\"type\":\"LinearScale\"},{\"attributes\":{\"below\":[{\"id\":\"0fe0c035-3245-4a9f-936a-bdb15d8a1a58\",\"type\":\"LinearAxis\"}],\"left\":[{\"id\":\"4dd472bd-6e8d-451e-a547-58476a62ba20\",\"type\":\"LinearAxis\"}],\"plot_height\":500,\"plot_width\":400,\"renderers\":[{\"id\":\"0fe0c035-3245-4a9f-936a-bdb15d8a1a58\",\"type\":\"LinearAxis\"},{\"id\":\"c33a590c-3046-4b8e-bf0a-a5f0f2516050\",\"type\":\"Grid\"},{\"id\":\"4dd472bd-6e8d-451e-a547-58476a62ba20\",\"type\":\"LinearAxis\"},{\"id\":\"ff7ee45b-eb6a-435e-b219-0df2473cfd6b\",\"type\":\"Grid\"},{\"id\":\"f0a4b68b-ab0e-46ee-9a8c-b607102f73af\",\"type\":\"BoxAnnotation\"},{\"id\":\"13baccd3-311c-488a-8e15-65dd305056bc\",\"type\":\"GlyphRenderer\"},{\"id\":\"efd498a5-9b62-4f24-b792-88dc13f2d109\",\"type\":\"GlyphRenderer\"},{\"id\":\"6fc8ccaa-7e30-4683-ba51-57fc306a5a53\",\"type\":\"GlyphRenderer\"},{\"id\":\"da7f31e6-0b42-4754-9355-e4d6eda2ba9d\",\"type\":\"GlyphRenderer\"},{\"id\":\"6abb0837-e503-479f-9928-9b9ed3b2dee5\",\"type\":\"GlyphRenderer\"}],\"title\":{\"id\":\"55279499-1b60-4300-8bf9-7377405eb809\",\"type\":\"Title\"},\"toolbar\":{\"id\":\"3a0c729e-6029-46cb-9ac7-d2424826e02d\",\"type\":\"Toolbar\"},\"toolbar_location\":null,\"x_range\":{\"id\":\"7c930e34-d252-4bd1-baf6-24ed60aabed7\",\"type\":\"Range1d\"},\"x_scale\":{\"id\":\"6bf73325-1abc-4c05-a45c-468b22ee3297\",\"type\":\"LinearScale\"},\"y_range\":{\"id\":\"6f0284c2-7c32-44b5-b57e-9950283e7c67\",\"type\":\"Range1d\"},\"y_scale\":{\"id\":\"0a70de1b-abe1-47e5-955e-8a50a926bd1d\",\"type\":\"LinearScale\"}},\"id\":\"ca6b8e16-fbff-4134-975c-e89b7f6a391a\",\"subtype\":\"Figure\",\"type\":\"Plot\"},{\"attributes\":{\"axis_label\":\"cooling rate [K/day]\",\"formatter\":{\"id\":\"b39de8fc-0049-4392-a3e3-87849e195910\",\"type\":\"BasicTickFormatter\"},\"plot\":{\"id\":\"ca6b8e16-fbff-4134-975c-e89b7f6a391a\",\"subtype\":\"Figure\",\"type\":\"Plot\"},\"ticker\":{\"id\":\"5abaa957-f569-43d3-bd08-5f9f7f39d853\",\"type\":\"BasicTicker\"}},\"id\":\"0fe0c035-3245-4a9f-936a-bdb15d8a1a58\",\"type\":\"LinearAxis\"}],\"root_ids\":[\"de4c2ca2-75e8-4382-8a76-ff66c3420bd2\"]},\"title\":\"Bokeh Application\",\"version\":\"0.12.16\"}};\n",
       "  var render_items = [{\"docid\":\"d3f5932d-bdfa-4b6b-b968-bc0c778c49c3\",\"elementid\":\"7a0b4560-4d4f-4366-bedb-92ecf6b1557f\",\"modelid\":\"de4c2ca2-75e8-4382-8a76-ff66c3420bd2\"}];\n",
       "  root.Bokeh.embed.embed_items_notebook(docs_json, render_items);\n",
       "\n",
       "  }\n",
       "  if (root.Bokeh !== undefined) {\n",
       "    embed_document(root);\n",
       "  } else {\n",
       "    var attempts = 0;\n",
       "    var timer = setInterval(function(root) {\n",
       "      if (root.Bokeh !== undefined) {\n",
       "        embed_document(root);\n",
       "        clearInterval(timer);\n",
       "      }\n",
       "      attempts++;\n",
       "      if (attempts > 100) {\n",
       "        console.log(\"Bokeh: ERROR: Unable to run BokehJS code because BokehJS library is missing\")\n",
       "        clearInterval(timer);\n",
       "      }\n",
       "    }, 10, root)\n",
       "  }\n",
       "})(window);"
      ],
      "application/vnd.bokehjs_exec.v0+json": ""
     },
     "metadata": {
      "application/vnd.bokehjs_exec.v0+json": {
       "id": "de4c2ca2-75e8-4382-8a76-ff66c3420bd2"
      }
     },
     "output_type": "display_data"
    },
    {
     "name": "stdout",
     "output_type": "stream",
     "text": [
      "FIGURE. Cooling rate profiles.\n"
     ]
    },
    {
     "data": {
      "text/html": [
       "<a id=\"Flux_Comparison\"></a>"
      ],
      "text/plain": [
       "<IPython.core.display.HTML object>"
      ]
     },
     "metadata": {},
     "output_type": "display_data"
    },
    {
     "data": {
      "text/markdown": [
       "# Flux Comparison"
      ],
      "text/plain": [
       "<IPython.core.display.Markdown object>"
      ]
     },
     "metadata": {},
     "output_type": "display_data"
    },
    {
     "data": {
      "text/html": [
       "<div>\n",
       "<style scoped>\n",
       "    .dataframe tbody tr th:only-of-type {\n",
       "        vertical-align: middle;\n",
       "    }\n",
       "\n",
       "    .dataframe tbody tr th {\n",
       "        vertical-align: top;\n",
       "    }\n",
       "\n",
       "    .dataframe thead th {\n",
       "        text-align: right;\n",
       "    }\n",
       "</style>\n",
       "<table border=\"1\" class=\"dataframe\">\n",
       "  <thead>\n",
       "    <tr style=\"text-align: right;\">\n",
       "      <th></th>\n",
       "      <th></th>\n",
       "      <th>flug</th>\n",
       "      <th>fldg</th>\n",
       "      <th>fnetg</th>\n",
       "    </tr>\n",
       "    <tr>\n",
       "      <th>pressure</th>\n",
       "      <th>level</th>\n",
       "      <th></th>\n",
       "      <th></th>\n",
       "      <th></th>\n",
       "    </tr>\n",
       "  </thead>\n",
       "  <tbody>\n",
       "    <tr>\n",
       "      <th>0.0000</th>\n",
       "      <th>1</th>\n",
       "      <td>-26.007355</td>\n",
       "      <td>0.000000</td>\n",
       "      <td>-26.007355</td>\n",
       "    </tr>\n",
       "    <tr>\n",
       "      <th>1.0685</th>\n",
       "      <th>24</th>\n",
       "      <td>-26.012293</td>\n",
       "      <td>0.052182</td>\n",
       "      <td>-25.960111</td>\n",
       "    </tr>\n",
       "    <tr>\n",
       "      <th>1013.0000</th>\n",
       "      <th>76</th>\n",
       "      <td>-35.223509</td>\n",
       "      <td>23.554854</td>\n",
       "      <td>-11.668655</td>\n",
       "    </tr>\n",
       "  </tbody>\n",
       "</table>\n",
       "</div>"
      ],
      "text/plain": [
       "                      flug       fldg      fnetg\n",
       "pressure  level                                 \n",
       "0.0000    1     -26.007355   0.000000 -26.007355\n",
       "1.0685    24    -26.012293   0.052182 -25.960111\n",
       "1013.0000 76    -35.223509  23.554854 -11.668655"
      ]
     },
     "metadata": {},
     "output_type": "display_data"
    },
    {
     "name": "stdout",
     "output_type": "stream",
     "text": [
      "Table. Fluxes. CRD\n"
     ]
    },
    {
     "data": {
      "text/html": [
       "<div>\n",
       "<style scoped>\n",
       "    .dataframe tbody tr th:only-of-type {\n",
       "        vertical-align: middle;\n",
       "    }\n",
       "\n",
       "    .dataframe tbody tr th {\n",
       "        vertical-align: top;\n",
       "    }\n",
       "\n",
       "    .dataframe thead th {\n",
       "        text-align: right;\n",
       "    }\n",
       "</style>\n",
       "<table border=\"1\" class=\"dataframe\">\n",
       "  <thead>\n",
       "    <tr style=\"text-align: right;\">\n",
       "      <th></th>\n",
       "      <th></th>\n",
       "      <th>flug</th>\n",
       "      <th>fldg</th>\n",
       "      <th>fnetg</th>\n",
       "    </tr>\n",
       "    <tr>\n",
       "      <th>pressure</th>\n",
       "      <th>level</th>\n",
       "      <th></th>\n",
       "      <th></th>\n",
       "      <th></th>\n",
       "    </tr>\n",
       "  </thead>\n",
       "  <tbody>\n",
       "    <tr>\n",
       "      <th>0.0000</th>\n",
       "      <th>1</th>\n",
       "      <td>-25.641957</td>\n",
       "      <td>0.000000</td>\n",
       "      <td>-25.641957</td>\n",
       "    </tr>\n",
       "    <tr>\n",
       "      <th>1.0685</th>\n",
       "      <th>24</th>\n",
       "      <td>-25.646633</td>\n",
       "      <td>0.050216</td>\n",
       "      <td>-25.596417</td>\n",
       "    </tr>\n",
       "    <tr>\n",
       "      <th>1013.0000</th>\n",
       "      <th>76</th>\n",
       "      <td>-35.223509</td>\n",
       "      <td>23.969154</td>\n",
       "      <td>-11.254355</td>\n",
       "    </tr>\n",
       "  </tbody>\n",
       "</table>\n",
       "</div>"
      ],
      "text/plain": [
       "                      flug       fldg      fnetg\n",
       "pressure  level                                 \n",
       "0.0000    1     -25.641957   0.000000 -25.641957\n",
       "1.0685    24    -25.646633   0.050216 -25.596417\n",
       "1013.0000 76    -35.223509  23.969154 -11.254355"
      ]
     },
     "metadata": {},
     "output_type": "display_data"
    },
    {
     "name": "stdout",
     "output_type": "stream",
     "text": [
      "Table. Fluxes. WGT igg=10 wgt_flux=1\n"
     ]
    },
    {
     "data": {
      "text/html": [
       "<div>\n",
       "<style scoped>\n",
       "    .dataframe tbody tr th:only-of-type {\n",
       "        vertical-align: middle;\n",
       "    }\n",
       "\n",
       "    .dataframe tbody tr th {\n",
       "        vertical-align: top;\n",
       "    }\n",
       "\n",
       "    .dataframe thead th {\n",
       "        text-align: right;\n",
       "    }\n",
       "</style>\n",
       "<table border=\"1\" class=\"dataframe\">\n",
       "  <thead>\n",
       "    <tr style=\"text-align: right;\">\n",
       "      <th></th>\n",
       "      <th></th>\n",
       "      <th>flug</th>\n",
       "      <th>fldg</th>\n",
       "      <th>fnetg</th>\n",
       "    </tr>\n",
       "    <tr>\n",
       "      <th>pressure</th>\n",
       "      <th>level</th>\n",
       "      <th></th>\n",
       "      <th></th>\n",
       "      <th></th>\n",
       "    </tr>\n",
       "  </thead>\n",
       "  <tbody>\n",
       "    <tr>\n",
       "      <th>1.000000e-08</th>\n",
       "      <th>1</th>\n",
       "      <td>-25.691664</td>\n",
       "      <td>0.000001</td>\n",
       "      <td>-25.691663</td>\n",
       "    </tr>\n",
       "    <tr>\n",
       "      <th>1.068500e+00</th>\n",
       "      <th>24</th>\n",
       "      <td>-25.696187</td>\n",
       "      <td>0.049047</td>\n",
       "      <td>-25.647140</td>\n",
       "    </tr>\n",
       "    <tr>\n",
       "      <th>1.013000e+03</th>\n",
       "      <th>76</th>\n",
       "      <td>-35.223510</td>\n",
       "      <td>24.160686</td>\n",
       "      <td>-11.062824</td>\n",
       "    </tr>\n",
       "  </tbody>\n",
       "</table>\n",
       "</div>"
      ],
      "text/plain": [
       "                         flug       fldg      fnetg\n",
       "pressure     level                                 \n",
       "1.000000e-08 1     -25.691664   0.000001 -25.691663\n",
       "1.068500e+00 24    -25.696187   0.049047 -25.647140\n",
       "1.013000e+03 76    -35.223510  24.160686 -11.062824"
      ]
     },
     "metadata": {},
     "output_type": "display_data"
    },
    {
     "name": "stdout",
     "output_type": "stream",
     "text": [
      "Table. Fluxes. CLIRAD\n"
     ]
    },
    {
     "data": {
      "text/html": [
       "<div>\n",
       "<style scoped>\n",
       "    .dataframe tbody tr th:only-of-type {\n",
       "        vertical-align: middle;\n",
       "    }\n",
       "\n",
       "    .dataframe tbody tr th {\n",
       "        vertical-align: top;\n",
       "    }\n",
       "\n",
       "    .dataframe thead th {\n",
       "        text-align: right;\n",
       "    }\n",
       "</style>\n",
       "<table border=\"1\" class=\"dataframe\">\n",
       "  <thead>\n",
       "    <tr style=\"text-align: right;\">\n",
       "      <th></th>\n",
       "      <th></th>\n",
       "      <th>flug</th>\n",
       "      <th>fldg</th>\n",
       "      <th>fnetg</th>\n",
       "    </tr>\n",
       "    <tr>\n",
       "      <th>pressure</th>\n",
       "      <th>level</th>\n",
       "      <th></th>\n",
       "      <th></th>\n",
       "      <th></th>\n",
       "    </tr>\n",
       "  </thead>\n",
       "  <tbody>\n",
       "    <tr>\n",
       "      <th>0.0000</th>\n",
       "      <th>1</th>\n",
       "      <td>0.365398</td>\n",
       "      <td>0.000000</td>\n",
       "      <td>0.365398</td>\n",
       "    </tr>\n",
       "    <tr>\n",
       "      <th>1.0685</th>\n",
       "      <th>24</th>\n",
       "      <td>0.365660</td>\n",
       "      <td>-0.001966</td>\n",
       "      <td>0.363694</td>\n",
       "    </tr>\n",
       "    <tr>\n",
       "      <th>1013.0000</th>\n",
       "      <th>76</th>\n",
       "      <td>0.000000</td>\n",
       "      <td>0.414300</td>\n",
       "      <td>0.414300</td>\n",
       "    </tr>\n",
       "  </tbody>\n",
       "</table>\n",
       "</div>"
      ],
      "text/plain": [
       "                     flug      fldg     fnetg\n",
       "pressure  level                              \n",
       "0.0000    1      0.365398  0.000000  0.365398\n",
       "1.0685    24     0.365660 -0.001966  0.363694\n",
       "1013.0000 76     0.000000  0.414300  0.414300"
      ]
     },
     "metadata": {},
     "output_type": "display_data"
    },
    {
     "name": "stdout",
     "output_type": "stream",
     "text": [
      "Table. Fluxes. (WGT igg=10 wgt_flux=1) - (CRD)\n"
     ]
    },
    {
     "data": {
      "text/html": [
       "<div>\n",
       "<style scoped>\n",
       "    .dataframe tbody tr th:only-of-type {\n",
       "        vertical-align: middle;\n",
       "    }\n",
       "\n",
       "    .dataframe tbody tr th {\n",
       "        vertical-align: top;\n",
       "    }\n",
       "\n",
       "    .dataframe thead th {\n",
       "        text-align: right;\n",
       "    }\n",
       "</style>\n",
       "<table border=\"1\" class=\"dataframe\">\n",
       "  <thead>\n",
       "    <tr style=\"text-align: right;\">\n",
       "      <th></th>\n",
       "      <th></th>\n",
       "      <th>flug</th>\n",
       "      <th>fldg</th>\n",
       "      <th>fnetg</th>\n",
       "    </tr>\n",
       "    <tr>\n",
       "      <th>pressure</th>\n",
       "      <th>level</th>\n",
       "      <th></th>\n",
       "      <th></th>\n",
       "      <th></th>\n",
       "    </tr>\n",
       "  </thead>\n",
       "  <tbody>\n",
       "    <tr>\n",
       "      <th>0.0000</th>\n",
       "      <th>1</th>\n",
       "      <td>3.156910e-01</td>\n",
       "      <td>0.000001</td>\n",
       "      <td>0.315692</td>\n",
       "    </tr>\n",
       "    <tr>\n",
       "      <th>1.0685</th>\n",
       "      <th>24</th>\n",
       "      <td>3.161060e-01</td>\n",
       "      <td>-0.003135</td>\n",
       "      <td>0.312971</td>\n",
       "    </tr>\n",
       "    <tr>\n",
       "      <th>1013.0000</th>\n",
       "      <th>76</th>\n",
       "      <td>-1.000000e-06</td>\n",
       "      <td>0.605832</td>\n",
       "      <td>0.605831</td>\n",
       "    </tr>\n",
       "  </tbody>\n",
       "</table>\n",
       "</div>"
      ],
      "text/plain": [
       "                         flug      fldg     fnetg\n",
       "pressure  level                                  \n",
       "0.0000    1      3.156910e-01  0.000001  0.315692\n",
       "1.0685    24     3.161060e-01 -0.003135  0.312971\n",
       "1013.0000 76    -1.000000e-06  0.605832  0.605831"
      ]
     },
     "metadata": {},
     "output_type": "display_data"
    },
    {
     "name": "stdout",
     "output_type": "stream",
     "text": [
      "Table. Fluxes. (CLIRAD) - (CRD)\n"
     ]
    },
    {
     "data": {
      "text/html": [
       "<a id=\"Best-fit_Parameters\"></a>"
      ],
      "text/plain": [
       "<IPython.core.display.HTML object>"
      ]
     },
     "metadata": {},
     "output_type": "display_data"
    },
    {
     "data": {
      "text/markdown": [
       "# Best-fit Parameters"
      ],
      "text/plain": [
       "<IPython.core.display.Markdown object>"
      ]
     },
     "metadata": {},
     "output_type": "display_data"
    },
    {
     "name": "stdout",
     "output_type": "stream",
     "text": [
      "Best-fit values for each (gas, band)\n",
      "------------------------------------\n",
      "o h2o band3c\n",
      "  atmpro = mls\n",
      "  band = 3c\n",
      "  commitnumber = a06b618\n",
      "  conc = None\n",
      "  dv = 0.001\n",
      "  klin = 5e-25\n",
      "  molecule = h2o\n",
      "  ng_adju = [0]\n",
      "  ng_refs = [5]\n",
      "  nv = 1000\n",
      "  option_compute_btable = 0\n",
      "  option_compute_ktable = 1\n",
      "  option_wgt_flux = 1\n",
      "  option_wgt_k = 1\n",
      "  ref_pts = [(600, 250)]\n",
      "  tsfc = 294\n",
      "  vmax = 800\n",
      "  vmin = 720\n",
      "  w_diffuse = [(1.55, 1.6, 1.66, 1.66, 1.8)]\n",
      "  wgt = [(0.5, 0.5, 0.6, 0.7, 0.9)]\n",
      "o co2 band3c\n",
      "  atmpro = mls\n",
      "  band = 3c\n",
      "  commitnumber = a06b618\n",
      "  conc = 0.0004\n",
      "  dv = 0.001\n",
      "  klin = 6.375563e-24\n",
      "  molecule = co2\n",
      "  ng_adju = [0, 0, 0]\n",
      "  ng_refs = [3, 2, 4]\n",
      "  nv = 1000\n",
      "  option_compute_btable = 0\n",
      "  option_compute_ktable = 1\n",
      "  option_wgt_flux = 1\n",
      "  option_wgt_k = 1\n",
      "  ref_pts = [(1, 250), (10, 250), (500, 250)]\n",
      "  tsfc = 294\n",
      "  vmax = 800\n",
      "  vmin = 720\n",
      "  w_diffuse = [(1.7, 1.6, 1.8), (1.8, 1.7), (1.5, 1.6, 1.7, 1.8)]\n",
      "  wgt = [(0.6, 0.4, 0.7), (0.7, 0.4), (0.3, 0.4, 0.85, 0.9)]\n"
     ]
    }
   ],
   "source": [
    "script()"
   ]
  },
  {
   "cell_type": "code",
   "execution_count": 13,
   "metadata": {
    "collapsed": true
   },
   "outputs": [
    {
     "data": {
      "text/html": [
       "<script>\n",
       "code_show=true; \n",
       "function code_toggle() {\n",
       " if (code_show){\n",
       " $('div.input').hide();\n",
       " } else {\n",
       " $('div.input').show();\n",
       " }\n",
       " code_show = !code_show\n",
       "} \n",
       "$( document ).ready(code_toggle);\n",
       "</script>\n",
       "<form action=\"javascript:code_toggle()\"><input type=\"submit\" value=\"Click here to toggle on/off the raw code.\"></form>"
      ],
      "text/plain": [
       "<IPython.core.display.HTML object>"
      ]
     },
     "execution_count": 13,
     "metadata": {},
     "output_type": "execute_result"
    }
   ],
   "source": [
    "display.HTML('''<script>\n",
    "code_show=true; \n",
    "function code_toggle() {\n",
    " if (code_show){\n",
    " $('div.input').hide();\n",
    " } else {\n",
    " $('div.input').show();\n",
    " }\n",
    " code_show = !code_show\n",
    "} \n",
    "$( document ).ready(code_toggle);\n",
    "</script>\n",
    "<form action=\"javascript:code_toggle()\"><input type=\"submit\" value=\"Click here to toggle on/off the raw code.\"></form>''')"
   ]
  }
 ],
 "metadata": {
  "kernelspec": {
   "display_name": "Python 3",
   "language": "python",
   "name": "python3"
  },
  "language_info": {
   "codemirror_mode": {
    "name": "ipython",
    "version": 3
   },
   "file_extension": ".py",
   "mimetype": "text/x-python",
   "name": "python",
   "nbconvert_exporter": "python",
   "pygments_lexer": "ipython3",
   "version": "3.6.1"
  }
 },
 "nbformat": 4,
 "nbformat_minor": 2
}
