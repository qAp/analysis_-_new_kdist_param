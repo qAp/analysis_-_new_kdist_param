{
 "cells": [
  {
   "cell_type": "code",
   "execution_count": 1,
   "metadata": {
    "collapsed": true
   },
   "outputs": [],
   "source": [
    "%matplotlib inline\n",
    "import os\n",
    "import re\n",
    "import io\n",
    "import itertools\n",
    "import pprint\n",
    "\n",
    "from bokeh.io import output_notebook, show\n",
    "from bokeh.layouts import gridplot\n",
    "from bokeh.plotting import figure\n",
    "from bokeh.models import Range1d, Legend\n",
    "from bokeh.palettes import all_palettes\n",
    "\n",
    "import matplotlib\n",
    "import matplotlib.pyplot as plt\n",
    "import numpy as np\n",
    "import pandas as pd\n",
    "import xarray as xr\n",
    "\n",
    "import climatools.lblnew.bestfit_params as bestfits\n",
    "from climatools.lblnew import setup_bestfit, setup_overlap\n",
    "import climatools.lblnew.pipeline as pipe_lblnew\n",
    "import climatools.cliradlw.setup as setup_cliradlw\n",
    "import climatools.cliradlw.pipeline as pipe_cliradlw\n",
    "\n",
    "import climatools.html.html as climahtml\n",
    "from climatools.lblnew.dataio import *\n",
    "from climatools.plot.plot import *\n",
    "\n",
    "\n",
    "import IPython.display as display"
   ]
  },
  {
   "cell_type": "code",
   "execution_count": 2,
   "metadata": {
    "collapsed": true
   },
   "outputs": [],
   "source": [
    "%run param.py"
   ]
  },
  {
   "cell_type": "code",
   "execution_count": 3,
   "metadata": {
    "collapsed": true
   },
   "outputs": [
    {
     "name": "stdout",
     "output_type": "stream",
     "text": [
      "The history saving thread hit an unexpected error (OperationalError('database is locked',)).History will not be written to the database.\n"
     ]
    }
   ],
   "source": [
    "def load_output_file(path_csv):\n",
    "    '''\n",
    "    Load lblnew output .csv file to xarray.Dataset\n",
    "    \n",
    "    Parameters\n",
    "    ----------\n",
    "    path_csv: str\n",
    "              Path to the .csv file to be loaded.\n",
    "    ds: xarray.Dataset\n",
    "        Data in the input file in the form of an xarray.Dataset.\n",
    "    '''\n",
    "    toindex = ['band', 'pressure', 'igg', 'g']    \n",
    "    df = pd.read_csv(path_csv, sep=r'\\s+')\n",
    "    df = df.set_index([i for i in toindex if i in df.columns])\n",
    "    df = df.rename(columns={'sfu': 'flug',\n",
    "                            'sfd': 'fldg',\n",
    "                            'fnet': 'fnetg',\n",
    "                            'coolr': 'coolrg'})\n",
    "    ds = xr.Dataset.from_dataframe(df)\n",
    "\n",
    "    for l in ('level', 'layer'):\n",
    "        if l in ds.data_vars:\n",
    "            if len(ds[l].dims) > 1:\n",
    "                surface = {d: 0 for d in ds.dims if d != 'pressure'}\n",
    "                coord_level = ds[l][surface]\n",
    "                ds.coords[l] = ('pressure', coord_level)\n",
    "            else:\n",
    "                ds.coords[l] = ('pressure', ds[l])\n",
    "    \n",
    "    return ds"
   ]
  },
  {
   "cell_type": "code",
   "execution_count": 4,
   "metadata": {
    "collapsed": true
   },
   "outputs": [],
   "source": [
    "def lblnew_setup(param=None):\n",
    "    if 'ng_refs' in param:\n",
    "        return {'setup': setup_bestfit,\n",
    "                'fname_flux_crd': 'output_flux.dat',\n",
    "                'fname_cool_crd': 'output_coolr.dat',\n",
    "                'fname_flux_wgt': 'output_wfluxg.dat',\n",
    "                'fname_cool_wgt': 'output_wcoolrg.dat'}\n",
    "    else:\n",
    "        return {'setup': setup_overlap,\n",
    "                'fname_flux_crd': 'output_flux.dat',\n",
    "                'fname_cool_crd': 'output_coolr.dat',\n",
    "                'fname_flux_wgt': 'output_wflux.dat',\n",
    "                'fname_cool_wgt': 'output_wcoolr.dat'}\n",
    "\n",
    "    \n",
    "def load_lblnew_data(param):\n",
    "    \n",
    "    fname_dsname = [('fname_flux_crd', 'ds_flux_crd'),\n",
    "                    ('fname_cool_crd', 'ds_cool_crd'),\n",
    "                    ('fname_flux_wgt', 'ds_flux_wgt'),\n",
    "                    ('fname_cool_wgt', 'ds_cool_wgt')]\n",
    "    \n",
    "    d = lblnew_setup(param)\n",
    "    dir_fortran = pipe_lblnew.get_dir_case(param, setup=d['setup'])\n",
    "    \n",
    "    data_dict = {}\n",
    "    for fname, dsname in fname_dsname:\n",
    "        fpath = os.path.join(dir_fortran, d[fname])\n",
    "        data_dict[dsname] = load_output_file(fpath)\n",
    "    return data_dict\n",
    "    \n",
    "\n",
    "    \n",
    "    "
   ]
  },
  {
   "cell_type": "code",
   "execution_count": 5,
   "metadata": {
    "collapsed": true
   },
   "outputs": [],
   "source": [
    "d = load_lblnew_data(PARAM_LBLNEW)\n",
    "\n",
    "DS_FLUX_CRD = d['ds_flux_crd']\n",
    "DS_COOL_CRD = d['ds_cool_crd']\n",
    "DS_FLUX_WGT = d['ds_flux_wgt']\n",
    "DS_COOL_WGT = d['ds_cool_wgt']"
   ]
  },
  {
   "cell_type": "code",
   "execution_count": 6,
   "metadata": {
    "collapsed": true
   },
   "outputs": [],
   "source": [
    "DIR_FORTRAN = pipe_cliradlw.get_fortran_dir(PARAM, \n",
    "                                            setup=setup_cliradlw)\n",
    "\n",
    "PATH_FLUX = os.path.join(DIR_FORTRAN, 'output_flux.dat')\n",
    "PATH_COOL = os.path.join(DIR_FORTRAN, 'output_coolr.dat')\n",
    "\n",
    "DS_FLUX = load_output_file(PATH_FLUX)\n",
    "DS_COOL = load_output_file(PATH_COOL)"
   ]
  },
  {
   "cell_type": "code",
   "execution_count": 7,
   "metadata": {
    "collapsed": true
   },
   "outputs": [
    {
     "data": {
      "text/html": [
       "\n",
       "    <div class=\"bk-root\">\n",
       "        <a href=\"https://bokeh.pydata.org\" target=\"_blank\" class=\"bk-logo bk-logo-small bk-logo-notebook\"></a>\n",
       "        <span id=\"6d9ea409-5491-4885-9931-c83b0b64cef2\">Loading BokehJS ...</span>\n",
       "    </div>"
      ]
     },
     "metadata": {},
     "output_type": "display_data"
    },
    {
     "data": {
      "application/javascript": [
       "\n",
       "(function(root) {\n",
       "  function now() {\n",
       "    return new Date();\n",
       "  }\n",
       "\n",
       "  var force = true;\n",
       "\n",
       "  if (typeof (root._bokeh_onload_callbacks) === \"undefined\" || force === true) {\n",
       "    root._bokeh_onload_callbacks = [];\n",
       "    root._bokeh_is_loading = undefined;\n",
       "  }\n",
       "\n",
       "  var JS_MIME_TYPE = 'application/javascript';\n",
       "  var HTML_MIME_TYPE = 'text/html';\n",
       "  var EXEC_MIME_TYPE = 'application/vnd.bokehjs_exec.v0+json';\n",
       "  var CLASS_NAME = 'output_bokeh rendered_html';\n",
       "\n",
       "  /**\n",
       "   * Render data to the DOM node\n",
       "   */\n",
       "  function render(props, node) {\n",
       "    var script = document.createElement(\"script\");\n",
       "    node.appendChild(script);\n",
       "  }\n",
       "\n",
       "  /**\n",
       "   * Handle when an output is cleared or removed\n",
       "   */\n",
       "  function handleClearOutput(event, handle) {\n",
       "    var cell = handle.cell;\n",
       "\n",
       "    var id = cell.output_area._bokeh_element_id;\n",
       "    var server_id = cell.output_area._bokeh_server_id;\n",
       "    // Clean up Bokeh references\n",
       "    if (id !== undefined) {\n",
       "      Bokeh.index[id].model.document.clear();\n",
       "      delete Bokeh.index[id];\n",
       "    }\n",
       "\n",
       "    if (server_id !== undefined) {\n",
       "      // Clean up Bokeh references\n",
       "      var cmd = \"from bokeh.io.state import curstate; print(curstate().uuid_to_server['\" + server_id + \"'].get_sessions()[0].document.roots[0]._id)\";\n",
       "      cell.notebook.kernel.execute(cmd, {\n",
       "        iopub: {\n",
       "          output: function(msg) {\n",
       "            var element_id = msg.content.text.trim();\n",
       "            Bokeh.index[element_id].model.document.clear();\n",
       "            delete Bokeh.index[element_id];\n",
       "          }\n",
       "        }\n",
       "      });\n",
       "      // Destroy server and session\n",
       "      var cmd = \"import bokeh.io.notebook as ion; ion.destroy_server('\" + server_id + \"')\";\n",
       "      cell.notebook.kernel.execute(cmd);\n",
       "    }\n",
       "  }\n",
       "\n",
       "  /**\n",
       "   * Handle when a new output is added\n",
       "   */\n",
       "  function handleAddOutput(event, handle) {\n",
       "    var output_area = handle.output_area;\n",
       "    var output = handle.output;\n",
       "\n",
       "    // limit handleAddOutput to display_data with EXEC_MIME_TYPE content only\n",
       "    if ((output.output_type != \"display_data\") || (!output.data.hasOwnProperty(EXEC_MIME_TYPE))) {\n",
       "      return\n",
       "    }\n",
       "\n",
       "    var toinsert = output_area.element.find(\".\" + CLASS_NAME.split(' ')[0]);\n",
       "\n",
       "    if (output.metadata[EXEC_MIME_TYPE][\"id\"] !== undefined) {\n",
       "      toinsert[toinsert.length - 1].firstChild.textContent = output.data[JS_MIME_TYPE];\n",
       "      // store reference to embed id on output_area\n",
       "      output_area._bokeh_element_id = output.metadata[EXEC_MIME_TYPE][\"id\"];\n",
       "    }\n",
       "    if (output.metadata[EXEC_MIME_TYPE][\"server_id\"] !== undefined) {\n",
       "      var bk_div = document.createElement(\"div\");\n",
       "      bk_div.innerHTML = output.data[HTML_MIME_TYPE];\n",
       "      var script_attrs = bk_div.children[0].attributes;\n",
       "      for (var i = 0; i < script_attrs.length; i++) {\n",
       "        toinsert[toinsert.length - 1].firstChild.setAttribute(script_attrs[i].name, script_attrs[i].value);\n",
       "      }\n",
       "      // store reference to server id on output_area\n",
       "      output_area._bokeh_server_id = output.metadata[EXEC_MIME_TYPE][\"server_id\"];\n",
       "    }\n",
       "  }\n",
       "\n",
       "  function register_renderer(events, OutputArea) {\n",
       "\n",
       "    function append_mime(data, metadata, element) {\n",
       "      // create a DOM node to render to\n",
       "      var toinsert = this.create_output_subarea(\n",
       "        metadata,\n",
       "        CLASS_NAME,\n",
       "        EXEC_MIME_TYPE\n",
       "      );\n",
       "      this.keyboard_manager.register_events(toinsert);\n",
       "      // Render to node\n",
       "      var props = {data: data, metadata: metadata[EXEC_MIME_TYPE]};\n",
       "      render(props, toinsert[toinsert.length - 1]);\n",
       "      element.append(toinsert);\n",
       "      return toinsert\n",
       "    }\n",
       "\n",
       "    /* Handle when an output is cleared or removed */\n",
       "    events.on('clear_output.CodeCell', handleClearOutput);\n",
       "    events.on('delete.Cell', handleClearOutput);\n",
       "\n",
       "    /* Handle when a new output is added */\n",
       "    events.on('output_added.OutputArea', handleAddOutput);\n",
       "\n",
       "    /**\n",
       "     * Register the mime type and append_mime function with output_area\n",
       "     */\n",
       "    OutputArea.prototype.register_mime_type(EXEC_MIME_TYPE, append_mime, {\n",
       "      /* Is output safe? */\n",
       "      safe: true,\n",
       "      /* Index of renderer in `output_area.display_order` */\n",
       "      index: 0\n",
       "    });\n",
       "  }\n",
       "\n",
       "  // register the mime type if in Jupyter Notebook environment and previously unregistered\n",
       "  if (root.Jupyter !== undefined) {\n",
       "    var events = require('base/js/events');\n",
       "    var OutputArea = require('notebook/js/outputarea').OutputArea;\n",
       "\n",
       "    if (OutputArea.prototype.mime_types().indexOf(EXEC_MIME_TYPE) == -1) {\n",
       "      register_renderer(events, OutputArea);\n",
       "    }\n",
       "  }\n",
       "\n",
       "  \n",
       "  if (typeof (root._bokeh_timeout) === \"undefined\" || force === true) {\n",
       "    root._bokeh_timeout = Date.now() + 5000;\n",
       "    root._bokeh_failed_load = false;\n",
       "  }\n",
       "\n",
       "  var NB_LOAD_WARNING = {'data': {'text/html':\n",
       "     \"<div style='background-color: #fdd'>\\n\"+\n",
       "     \"<p>\\n\"+\n",
       "     \"BokehJS does not appear to have successfully loaded. If loading BokehJS from CDN, this \\n\"+\n",
       "     \"may be due to a slow or bad network connection. Possible fixes:\\n\"+\n",
       "     \"</p>\\n\"+\n",
       "     \"<ul>\\n\"+\n",
       "     \"<li>re-rerun `output_notebook()` to attempt to load from CDN again, or</li>\\n\"+\n",
       "     \"<li>use INLINE resources instead, as so:</li>\\n\"+\n",
       "     \"</ul>\\n\"+\n",
       "     \"<code>\\n\"+\n",
       "     \"from bokeh.resources import INLINE\\n\"+\n",
       "     \"output_notebook(resources=INLINE)\\n\"+\n",
       "     \"</code>\\n\"+\n",
       "     \"</div>\"}};\n",
       "\n",
       "  function display_loaded() {\n",
       "    var el = document.getElementById(\"6d9ea409-5491-4885-9931-c83b0b64cef2\");\n",
       "    if (el != null) {\n",
       "      el.textContent = \"BokehJS is loading...\";\n",
       "    }\n",
       "    if (root.Bokeh !== undefined) {\n",
       "      if (el != null) {\n",
       "        el.textContent = \"BokehJS \" + root.Bokeh.version + \" successfully loaded.\";\n",
       "      }\n",
       "    } else if (Date.now() < root._bokeh_timeout) {\n",
       "      setTimeout(display_loaded, 100)\n",
       "    }\n",
       "  }\n",
       "\n",
       "\n",
       "  function run_callbacks() {\n",
       "    try {\n",
       "      root._bokeh_onload_callbacks.forEach(function(callback) { callback() });\n",
       "    }\n",
       "    finally {\n",
       "      delete root._bokeh_onload_callbacks\n",
       "    }\n",
       "    console.info(\"Bokeh: all callbacks have finished\");\n",
       "  }\n",
       "\n",
       "  function load_libs(js_urls, callback) {\n",
       "    root._bokeh_onload_callbacks.push(callback);\n",
       "    if (root._bokeh_is_loading > 0) {\n",
       "      console.log(\"Bokeh: BokehJS is being loaded, scheduling callback at\", now());\n",
       "      return null;\n",
       "    }\n",
       "    if (js_urls == null || js_urls.length === 0) {\n",
       "      run_callbacks();\n",
       "      return null;\n",
       "    }\n",
       "    console.log(\"Bokeh: BokehJS not loaded, scheduling load and callback at\", now());\n",
       "    root._bokeh_is_loading = js_urls.length;\n",
       "    for (var i = 0; i < js_urls.length; i++) {\n",
       "      var url = js_urls[i];\n",
       "      var s = document.createElement('script');\n",
       "      s.src = url;\n",
       "      s.async = false;\n",
       "      s.onreadystatechange = s.onload = function() {\n",
       "        root._bokeh_is_loading--;\n",
       "        if (root._bokeh_is_loading === 0) {\n",
       "          console.log(\"Bokeh: all BokehJS libraries loaded\");\n",
       "          run_callbacks()\n",
       "        }\n",
       "      };\n",
       "      s.onerror = function() {\n",
       "        console.warn(\"failed to load library \" + url);\n",
       "      };\n",
       "      console.log(\"Bokeh: injecting script tag for BokehJS library: \", url);\n",
       "      document.getElementsByTagName(\"head\")[0].appendChild(s);\n",
       "    }\n",
       "  };var element = document.getElementById(\"6d9ea409-5491-4885-9931-c83b0b64cef2\");\n",
       "  if (element == null) {\n",
       "    console.log(\"Bokeh: ERROR: autoload.js configured with elementid '6d9ea409-5491-4885-9931-c83b0b64cef2' but no matching script tag was found. \")\n",
       "    return false;\n",
       "  }\n",
       "\n",
       "  var js_urls = [\"https://cdn.pydata.org/bokeh/release/bokeh-0.12.16.min.js\", \"https://cdn.pydata.org/bokeh/release/bokeh-widgets-0.12.16.min.js\", \"https://cdn.pydata.org/bokeh/release/bokeh-tables-0.12.16.min.js\", \"https://cdn.pydata.org/bokeh/release/bokeh-gl-0.12.16.min.js\"];\n",
       "\n",
       "  var inline_js = [\n",
       "    function(Bokeh) {\n",
       "      Bokeh.set_log_level(\"info\");\n",
       "    },\n",
       "    \n",
       "    function(Bokeh) {\n",
       "      \n",
       "    },\n",
       "    function(Bokeh) {\n",
       "      console.log(\"Bokeh: injecting CSS: https://cdn.pydata.org/bokeh/release/bokeh-0.12.16.min.css\");\n",
       "      Bokeh.embed.inject_css(\"https://cdn.pydata.org/bokeh/release/bokeh-0.12.16.min.css\");\n",
       "      console.log(\"Bokeh: injecting CSS: https://cdn.pydata.org/bokeh/release/bokeh-widgets-0.12.16.min.css\");\n",
       "      Bokeh.embed.inject_css(\"https://cdn.pydata.org/bokeh/release/bokeh-widgets-0.12.16.min.css\");\n",
       "      console.log(\"Bokeh: injecting CSS: https://cdn.pydata.org/bokeh/release/bokeh-tables-0.12.16.min.css\");\n",
       "      Bokeh.embed.inject_css(\"https://cdn.pydata.org/bokeh/release/bokeh-tables-0.12.16.min.css\");\n",
       "    }\n",
       "  ];\n",
       "\n",
       "  function run_inline_js() {\n",
       "    \n",
       "    if ((root.Bokeh !== undefined) || (force === true)) {\n",
       "      for (var i = 0; i < inline_js.length; i++) {\n",
       "        inline_js[i].call(root, root.Bokeh);\n",
       "      }if (force === true) {\n",
       "        display_loaded();\n",
       "      }} else if (Date.now() < root._bokeh_timeout) {\n",
       "      setTimeout(run_inline_js, 100);\n",
       "    } else if (!root._bokeh_failed_load) {\n",
       "      console.log(\"Bokeh: BokehJS failed to load within specified timeout.\");\n",
       "      root._bokeh_failed_load = true;\n",
       "    } else if (force !== true) {\n",
       "      var cell = $(document.getElementById(\"6d9ea409-5491-4885-9931-c83b0b64cef2\")).parents('.cell').data().cell;\n",
       "      cell.output_area.append_execute_result(NB_LOAD_WARNING)\n",
       "    }\n",
       "\n",
       "  }\n",
       "\n",
       "  if (root._bokeh_is_loading === 0) {\n",
       "    console.log(\"Bokeh: BokehJS loaded, going straight to plotting\");\n",
       "    run_inline_js();\n",
       "  } else {\n",
       "    load_libs(js_urls, function() {\n",
       "      console.log(\"Bokeh: BokehJS plotting callback run at\", now());\n",
       "      run_inline_js();\n",
       "    });\n",
       "  }\n",
       "}(window));"
      ],
      "application/vnd.bokehjs_load.v0+json": "\n(function(root) {\n  function now() {\n    return new Date();\n  }\n\n  var force = true;\n\n  if (typeof (root._bokeh_onload_callbacks) === \"undefined\" || force === true) {\n    root._bokeh_onload_callbacks = [];\n    root._bokeh_is_loading = undefined;\n  }\n\n  \n\n  \n  if (typeof (root._bokeh_timeout) === \"undefined\" || force === true) {\n    root._bokeh_timeout = Date.now() + 5000;\n    root._bokeh_failed_load = false;\n  }\n\n  var NB_LOAD_WARNING = {'data': {'text/html':\n     \"<div style='background-color: #fdd'>\\n\"+\n     \"<p>\\n\"+\n     \"BokehJS does not appear to have successfully loaded. If loading BokehJS from CDN, this \\n\"+\n     \"may be due to a slow or bad network connection. Possible fixes:\\n\"+\n     \"</p>\\n\"+\n     \"<ul>\\n\"+\n     \"<li>re-rerun `output_notebook()` to attempt to load from CDN again, or</li>\\n\"+\n     \"<li>use INLINE resources instead, as so:</li>\\n\"+\n     \"</ul>\\n\"+\n     \"<code>\\n\"+\n     \"from bokeh.resources import INLINE\\n\"+\n     \"output_notebook(resources=INLINE)\\n\"+\n     \"</code>\\n\"+\n     \"</div>\"}};\n\n  function display_loaded() {\n    var el = document.getElementById(\"6d9ea409-5491-4885-9931-c83b0b64cef2\");\n    if (el != null) {\n      el.textContent = \"BokehJS is loading...\";\n    }\n    if (root.Bokeh !== undefined) {\n      if (el != null) {\n        el.textContent = \"BokehJS \" + root.Bokeh.version + \" successfully loaded.\";\n      }\n    } else if (Date.now() < root._bokeh_timeout) {\n      setTimeout(display_loaded, 100)\n    }\n  }\n\n\n  function run_callbacks() {\n    try {\n      root._bokeh_onload_callbacks.forEach(function(callback) { callback() });\n    }\n    finally {\n      delete root._bokeh_onload_callbacks\n    }\n    console.info(\"Bokeh: all callbacks have finished\");\n  }\n\n  function load_libs(js_urls, callback) {\n    root._bokeh_onload_callbacks.push(callback);\n    if (root._bokeh_is_loading > 0) {\n      console.log(\"Bokeh: BokehJS is being loaded, scheduling callback at\", now());\n      return null;\n    }\n    if (js_urls == null || js_urls.length === 0) {\n      run_callbacks();\n      return null;\n    }\n    console.log(\"Bokeh: BokehJS not loaded, scheduling load and callback at\", now());\n    root._bokeh_is_loading = js_urls.length;\n    for (var i = 0; i < js_urls.length; i++) {\n      var url = js_urls[i];\n      var s = document.createElement('script');\n      s.src = url;\n      s.async = false;\n      s.onreadystatechange = s.onload = function() {\n        root._bokeh_is_loading--;\n        if (root._bokeh_is_loading === 0) {\n          console.log(\"Bokeh: all BokehJS libraries loaded\");\n          run_callbacks()\n        }\n      };\n      s.onerror = function() {\n        console.warn(\"failed to load library \" + url);\n      };\n      console.log(\"Bokeh: injecting script tag for BokehJS library: \", url);\n      document.getElementsByTagName(\"head\")[0].appendChild(s);\n    }\n  };var element = document.getElementById(\"6d9ea409-5491-4885-9931-c83b0b64cef2\");\n  if (element == null) {\n    console.log(\"Bokeh: ERROR: autoload.js configured with elementid '6d9ea409-5491-4885-9931-c83b0b64cef2' but no matching script tag was found. \")\n    return false;\n  }\n\n  var js_urls = [\"https://cdn.pydata.org/bokeh/release/bokeh-0.12.16.min.js\", \"https://cdn.pydata.org/bokeh/release/bokeh-widgets-0.12.16.min.js\", \"https://cdn.pydata.org/bokeh/release/bokeh-tables-0.12.16.min.js\", \"https://cdn.pydata.org/bokeh/release/bokeh-gl-0.12.16.min.js\"];\n\n  var inline_js = [\n    function(Bokeh) {\n      Bokeh.set_log_level(\"info\");\n    },\n    \n    function(Bokeh) {\n      \n    },\n    function(Bokeh) {\n      console.log(\"Bokeh: injecting CSS: https://cdn.pydata.org/bokeh/release/bokeh-0.12.16.min.css\");\n      Bokeh.embed.inject_css(\"https://cdn.pydata.org/bokeh/release/bokeh-0.12.16.min.css\");\n      console.log(\"Bokeh: injecting CSS: https://cdn.pydata.org/bokeh/release/bokeh-widgets-0.12.16.min.css\");\n      Bokeh.embed.inject_css(\"https://cdn.pydata.org/bokeh/release/bokeh-widgets-0.12.16.min.css\");\n      console.log(\"Bokeh: injecting CSS: https://cdn.pydata.org/bokeh/release/bokeh-tables-0.12.16.min.css\");\n      Bokeh.embed.inject_css(\"https://cdn.pydata.org/bokeh/release/bokeh-tables-0.12.16.min.css\");\n    }\n  ];\n\n  function run_inline_js() {\n    \n    if ((root.Bokeh !== undefined) || (force === true)) {\n      for (var i = 0; i < inline_js.length; i++) {\n        inline_js[i].call(root, root.Bokeh);\n      }if (force === true) {\n        display_loaded();\n      }} else if (Date.now() < root._bokeh_timeout) {\n      setTimeout(run_inline_js, 100);\n    } else if (!root._bokeh_failed_load) {\n      console.log(\"Bokeh: BokehJS failed to load within specified timeout.\");\n      root._bokeh_failed_load = true;\n    } else if (force !== true) {\n      var cell = $(document.getElementById(\"6d9ea409-5491-4885-9931-c83b0b64cef2\")).parents('.cell').data().cell;\n      cell.output_area.append_execute_result(NB_LOAD_WARNING)\n    }\n\n  }\n\n  if (root._bokeh_is_loading === 0) {\n    console.log(\"Bokeh: BokehJS loaded, going straight to plotting\");\n    run_inline_js();\n  } else {\n    load_libs(js_urls, function() {\n      console.log(\"Bokeh: BokehJS plotting callback run at\", now());\n      run_inline_js();\n    });\n  }\n}(window));"
     },
     "metadata": {},
     "output_type": "display_data"
    }
   ],
   "source": [
    "output_notebook()"
   ]
  },
  {
   "cell_type": "code",
   "execution_count": 8,
   "metadata": {
    "collapsed": true
   },
   "outputs": [],
   "source": [
    "def fmt_cool(ds_in):\n",
    "    ds = ds_in.copy(deep=True)\n",
    "    if 'igg' in ds.dims:\n",
    "        ds = ds.sel(igg=1)\n",
    "\n",
    "    if 'g' in ds.dims:\n",
    "        ds = ds.sum('g')\n",
    "            \n",
    "    if 'band' in ds.dims:\n",
    "        try:\n",
    "            ds = ds.squeeze('band')\n",
    "        except ValueError:\n",
    "            ds = ds.sum('band')\n",
    "                \n",
    "    return ds['coolrg']\n",
    "\n",
    "\n",
    "def pltdata_cooling_1(ds_cool=None,\n",
    "                      ds_cool_crd=None, ds_cool_wgt=None):\n",
    "    \n",
    "\n",
    "\n",
    "    colors = all_palettes['Set1'][4]\n",
    "    data = [{'label': 'CLIRAD `coolr_bands`',\n",
    "             'srs': fmt_cool(ds_cool),\n",
    "             'line_dash': 'dashed', 'line_width': 5,\n",
    "             'color': colors[0], 'alpha': .6},\n",
    "            {'label': 'CRD',\n",
    "             'srs': fmt_cool(ds_cool_crd),\n",
    "             'line_dash': 'solid', 'line_width': 1.5,\n",
    "             'marker': 'circle', 'marker_size': 5,\n",
    "             'color': colors[2], 'alpha': 1,},\n",
    "            {'label': 'WGT igg=10 wgt_flux=2',\n",
    "             'srs': fmt_cool(ds_cool_wgt),\n",
    "             'line_dash': 'solid', 'line_width': 3,\n",
    "             'marker': 'square', 'marker_size': 5,\n",
    "             'color': colors[3], 'alpha': .6}]\n",
    "    return data\n",
    "\n",
    "\n",
    "def nice_xlims(pltdata=None, prange=None):\n",
    "    \n",
    "    def get_slice(srs):\n",
    "        return srs.sel(pressure=slice(*prange))\n",
    "    \n",
    "    srss = [d['srs'] for d in pltdata]\n",
    "    vmin = min([get_slice(srs).min() for srs in srss])\n",
    "    vmax = max([get_slice(srs).max() for srs in srss])\n",
    "    dv = (vmax - vmin) * .01\n",
    "    return float(vmin - dv), float(vmax + dv)\n",
    "    \n",
    "\n",
    "def plt_cooling_bokeh(pltdata=None):\n",
    "    '''\n",
    "    Plot a list of cooling rate profiles using bokeh.\n",
    "    '''\n",
    "    ymin = 1e-2 \n",
    "    ymax = 1020 \n",
    "        \n",
    "    p1 = figure(title=\"Linear pressure scale\", \n",
    "                plot_width=400)        \n",
    "    xmin, xmax = nice_xlims(pltdata, prange=(50, 1050))\n",
    "    for d in pltdata:\n",
    "        if 'marker' in d:\n",
    "            getattr(p1, d['marker'])(d['srs'].values, \n",
    "                    d['srs'].coords['pressure'].values,\n",
    "                    color=d['color'], alpha=.7)\n",
    "        p1.line(d['srs'].values, \n",
    "                d['srs'].coords['pressure'].values,\n",
    "                color=d['color'], alpha=d['alpha'], \n",
    "                line_width=d['line_width'], line_dash=d['line_dash'])\n",
    "    \n",
    "    p1.y_range = Range1d(ymax, ymin)\n",
    "    p1.yaxis.axis_label = 'pressure [mb]'   \n",
    "    p1.x_range = Range1d(xmin, xmax)\n",
    "    p1.xaxis.axis_label = 'cooling rate [K/day]'\n",
    "            \n",
    "    p2 = figure(title='Log pressure scale', y_axis_type='log',\n",
    "                plot_width=560)\n",
    "    xmin, xmax = nice_xlims(pltdata, prange=(.01, 200))\n",
    "    \n",
    "    rs = []\n",
    "    for d in pltdata:\n",
    "        rd = []\n",
    "        if 'marker' in d:\n",
    "            r_mark = getattr(p2, d['marker'])(d['srs'].values, \n",
    "                        d['srs'].coords['pressure'].values,\n",
    "                        color=d['color'], alpha=.7)\n",
    "            rd.append(r_mark)\n",
    "        r_line = p2.line(d['srs'].values, \n",
    "                    d['srs'].coords['pressure'].values,\n",
    "                    color=d['color'], alpha=d['alpha'], \n",
    "                    line_width=d['line_width'], line_dash=d['line_dash'])\n",
    "        rd.append(r_line)\n",
    "      \n",
    "        rs.append(rd)\n",
    "        \n",
    "    p2.y_range = Range1d(ymax, ymin)  \n",
    "    p2.yaxis.axis_label = 'pressure [mb]'\n",
    "    \n",
    "    p2.x_range = Range1d(xmin, xmax)\n",
    "    p2.xaxis.axis_label = 'cooling rate [K/day]'\n",
    "    \n",
    "    items = [(d['label'], r) for r, d in zip(rs, pltdata)]\n",
    "    legend = Legend(items=items, location=(10, -30))\n",
    "    legend.label_text_font_size = '8pt'\n",
    "    \n",
    "    p2.add_layout(legend, 'right')  \n",
    "    \n",
    "    show(gridplot(p1, p2, ncols=2, plot_height=500))\n",
    "    \n",
    "\n",
    "def script_plt_cooling():\n",
    "    pltdata = pltdata_cooling_1(\n",
    "        ds_cool=DS_COOL,\n",
    "        ds_cool_crd=DS_COOL_CRD,\n",
    "        ds_cool_wgt=DS_COOL_WGT)\n",
    "    plt_cooling_bokeh(pltdata=pltdata)\n",
    "    print('''FIGURE. Cooling rate profiles.''')"
   ]
  },
  {
   "cell_type": "code",
   "execution_count": 9,
   "metadata": {
    "collapsed": true
   },
   "outputs": [],
   "source": [
    "def fmt_flux(ds_in):\n",
    "    ds = ds_in.copy(deep=True)\n",
    "    \n",
    "    for l in ('level', 'layer'):\n",
    "        if l in ds.data_vars:\n",
    "            if len(ds[l].dims) > 1:\n",
    "                surface = {d: 0 for d in ds.dims if d != 'pressure'}\n",
    "                coord_level = ds[l][surface]\n",
    "                ds.coords[l] = ('pressure', coord_level)\n",
    "            else:\n",
    "                ds.coords[l] = ('pressure', ds[l])\n",
    "        \n",
    "    ds = ds.isel(pressure=[0, 23, -1])\n",
    "        \n",
    "    if 'igg' in ds.dims:\n",
    "        ds = ds.sel(igg=[1])\n",
    "        ds = ds.squeeze('igg').drop('igg')\n",
    "    \n",
    "    if 'g' in ds.dims:\n",
    "        ds = ds.sum('g')\n",
    "            \n",
    "    if 'band' in ds.dims:\n",
    "        try:\n",
    "            ds = ds.squeeze('band').drop('band')\n",
    "        except ValueError:\n",
    "            ds = ds.sum('band')\n",
    "                \n",
    "    df = ds.to_dataframe()\n",
    "    df = df.set_index('level', append=True)               \n",
    "    return df\n",
    "\n",
    "\n",
    "def tbdata_flux(ds_flux=None, ds_flux_crd=None, ds_flux_wgt=None):\n",
    "    ilevels = [0, 23, -1]\n",
    "            \n",
    "    benchmark = {'label': 'CRD',\n",
    "                 'df': fmt_flux(ds_flux_crd)}\n",
    "    \n",
    "    tbs = [{'label': 'WGT igg=10 wgt_flux=1',\n",
    "            'df': fmt_flux(ds_flux_wgt)},\n",
    "           {'label': 'CLIRAD',\n",
    "            'df': fmt_flux(ds_flux)}]\n",
    "    \n",
    "    data = {'benchmark': benchmark, 'others': tbs}\n",
    "    return data\n",
    "\n",
    "\n",
    "def tb_flux(tbdata=None):\n",
    "    benchmark = tbdata['benchmark']\n",
    "    others = tbdata['others']\n",
    "    \n",
    "    def show_tb(d=None):\n",
    "        display.display(d['df'])\n",
    "        print('Table.', 'Fluxes.', d['label'])\n",
    "        \n",
    "    def show_tbdiff(d0=None, d=None):\n",
    "        df = d['df']\n",
    "        df.index = d0['df'].index\n",
    "        display.display(df - d0['df'])\n",
    "        print('Table.', 'Fluxes.', \n",
    "              '({}) - ({})'.format(d['label'], d0['label']))\n",
    "        \n",
    "    show_tb(benchmark)\n",
    "    for d in others:\n",
    "        show_tb(d)\n",
    "        \n",
    "    for d in others:\n",
    "        show_tbdiff(d=d, d0=benchmark)\n",
    "        \n",
    "        \n",
    "def script_tb_flux():\n",
    "    data = tbdata_flux(ds_flux=DS_FLUX,\n",
    "                       ds_flux_crd=DS_FLUX_CRD,\n",
    "                       ds_flux_wgt=DS_FLUX_WGT)\n",
    "    tb_flux(tbdata=data)"
   ]
  },
  {
   "cell_type": "code",
   "execution_count": 10,
   "metadata": {
    "collapsed": true
   },
   "outputs": [],
   "source": [
    "def band_map():\n",
    "    '''\n",
    "    Maps spectral bands in lblnew to spectral bands in clirad.\n",
    "    '''\n",
    "    lblnew2clirad = {'1': '1',\n",
    "            '2': '2',\n",
    "            '3a': '3',\n",
    "            '3b': '4',\n",
    "            '3c': '5',\n",
    "            '4': '6', \n",
    "            '5': '7',\n",
    "            '6': '8',\n",
    "            '7': '9', \n",
    "            '8': '10',\n",
    "            '9': '11'}\n",
    "    \n",
    "    clirad2lblnew = {clirad: lblnew \n",
    "                     for lblnew, clirad in lblnew2clirad.items()}\n",
    "    return clirad2lblnew\n",
    "\n",
    "\n",
    "def gasbands():\n",
    "    bmap = band_map()\n",
    "    gases = list(PARAM['molecule'].keys())\n",
    "    \n",
    "    bands = [bmap[str(b)] for b in PARAM['band']]\n",
    "    return list(itertools.product(gases, bands))\n",
    "\n",
    "\n",
    "def print_bestfit_params():\n",
    "    print('Best-fit values for each (gas, band)')\n",
    "    print('------------------------------------')\n",
    "    for gas, band in gasbands():\n",
    "        print('o {} band{}'.format(gas, band))\n",
    "        param = bestfits.kdist_params(molecule=gas, band=band)\n",
    "        for name, value in sorted(param.items()):\n",
    "            print(2 * ' ' + '{} = {}'.format(name, value))\n",
    "\n",
    "        \n",
    "def print_input_param():        \n",
    "    for name, value in PARAM.items():\n",
    "        print('{} = {}'.format(name, value))\n",
    "        \n",
    "        \n",
    "def print_lblnew_param():\n",
    "    for name, value in sorted(PARAM_LBLNEW.items()):\n",
    "        print('{} = {}'.format(name, value))\n"
   ]
  },
  {
   "cell_type": "code",
   "execution_count": 11,
   "metadata": {
    "collapsed": true,
    "scrolled": false
   },
   "outputs": [],
   "source": [
    "def show_html(s):\n",
    "    display.display(display.HTML(s))\n",
    "\n",
    "    \n",
    "def show_markdown(s):\n",
    "    display.display(display.Markdown(s))\n",
    "\n",
    "    \n",
    "def script():\n",
    "    \n",
    "    title = '### CLIRAD-LW'\n",
    "    s_input = 'Input Parameters'\n",
    "    s_lblnew_param = 'LBLNEW case compaired against'\n",
    "    s_bestfits = 'Best-fit Parameters'\n",
    "    s_plt_cooling = 'Cooling Rate Profiles'\n",
    "    s_tb_flux = 'Flux Comparison'\n",
    "    \n",
    "    # title\n",
    "    show_markdown('### CLIRAD-LW')\n",
    "    \n",
    "    # TOC\n",
    "    show_markdown('### Table of Contents')\n",
    "    show_html(climahtml.getHTML_hrefanchor(s_input))\n",
    "    show_html(climahtml.getHTML_hrefanchor(s_lblnew_param))\n",
    "    show_html(climahtml.getHTML_hrefanchor(s_plt_cooling))\n",
    "    show_html(climahtml.getHTML_hrefanchor(s_tb_flux))\n",
    "    show_html(climahtml.getHTML_hrefanchor(s_bestfits))\n",
    "    \n",
    "    # Input parameters\n",
    "    show_html(climahtml.getHTML_idanchor(s_input))\n",
    "    show_markdown(climahtml.getMarkdown_sectitle(s_input))\n",
    "    print_input_param()\n",
    "    \n",
    "    # LBLNEW parameters \n",
    "    show_html(climahtml.getHTML_idanchor(s_lblnew_param))\n",
    "    show_markdown(climahtml.getMarkdown_sectitle(s_lblnew_param))\n",
    "    print_lblnew_param()\n",
    "    \n",
    "    # Cooling rate profiles\n",
    "    show_html(climahtml.getHTML_idanchor(s_plt_cooling))\n",
    "    show_markdown(climahtml.getMarkdown_sectitle(s_plt_cooling))\n",
    "    script_plt_cooling()\n",
    "    \n",
    "    # Flux comparison\n",
    "    show_html(climahtml.getHTML_idanchor(s_tb_flux))\n",
    "    show_markdown(climahtml.getMarkdown_sectitle(s_tb_flux))\n",
    "    script_tb_flux()\n",
    "    \n",
    "    # Best-fit values\n",
    "    show_html(climahtml.getHTML_idanchor(s_bestfits))\n",
    "    show_markdown(climahtml.getMarkdown_sectitle(s_bestfits))\n",
    "    print_bestfit_params()\n",
    "   \n",
    "    "
   ]
  },
  {
   "cell_type": "code",
   "execution_count": 12,
   "metadata": {
    "collapsed": true,
    "scrolled": false
   },
   "outputs": [
    {
     "data": {
      "text/markdown": [
       "### CLIRAD-LW"
      ],
      "text/plain": [
       "<IPython.core.display.Markdown object>"
      ]
     },
     "metadata": {},
     "output_type": "display_data"
    },
    {
     "data": {
      "text/markdown": [
       "### Table of Contents"
      ],
      "text/plain": [
       "<IPython.core.display.Markdown object>"
      ]
     },
     "metadata": {},
     "output_type": "display_data"
    },
    {
     "data": {
      "text/html": [
       "<a href=\"#Input_Parameters\">Input Parameters</a>"
      ],
      "text/plain": [
       "<IPython.core.display.HTML object>"
      ]
     },
     "metadata": {},
     "output_type": "display_data"
    },
    {
     "data": {
      "text/html": [
       "<a href=\"#LBLNEW_case_compaired_against\">LBLNEW case compaired against</a>"
      ],
      "text/plain": [
       "<IPython.core.display.HTML object>"
      ]
     },
     "metadata": {},
     "output_type": "display_data"
    },
    {
     "data": {
      "text/html": [
       "<a href=\"#Cooling_Rate_Profiles\">Cooling Rate Profiles</a>"
      ],
      "text/plain": [
       "<IPython.core.display.HTML object>"
      ]
     },
     "metadata": {},
     "output_type": "display_data"
    },
    {
     "data": {
      "text/html": [
       "<a href=\"#Flux_Comparison\">Flux Comparison</a>"
      ],
      "text/plain": [
       "<IPython.core.display.HTML object>"
      ]
     },
     "metadata": {},
     "output_type": "display_data"
    },
    {
     "data": {
      "text/html": [
       "<a href=\"#Best-fit_Parameters\">Best-fit Parameters</a>"
      ],
      "text/plain": [
       "<IPython.core.display.HTML object>"
      ]
     },
     "metadata": {},
     "output_type": "display_data"
    },
    {
     "data": {
      "text/html": [
       "<a id=\"Input_Parameters\"></a>"
      ],
      "text/plain": [
       "<IPython.core.display.HTML object>"
      ]
     },
     "metadata": {},
     "output_type": "display_data"
    },
    {
     "data": {
      "text/markdown": [
       "# Input Parameters"
      ],
      "text/plain": [
       "<IPython.core.display.Markdown object>"
      ]
     },
     "metadata": {},
     "output_type": "display_data"
    },
    {
     "name": "stdout",
     "output_type": "stream",
     "text": [
      "commitnumber = de5d43e\n",
      "molecule = {'h2o': 'atmpro', 'co2': 0.0004}\n",
      "band = [6]\n",
      "atmpro = trp\n",
      "tsfc = 300\n"
     ]
    },
    {
     "data": {
      "text/html": [
       "<a id=\"LBLNEW_case_compaired_against\"></a>"
      ],
      "text/plain": [
       "<IPython.core.display.HTML object>"
      ]
     },
     "metadata": {},
     "output_type": "display_data"
    },
    {
     "data": {
      "text/markdown": [
       "# LBLNEW case compaired against"
      ],
      "text/plain": [
       "<IPython.core.display.Markdown object>"
      ]
     },
     "metadata": {},
     "output_type": "display_data"
    },
    {
     "name": "stdout",
     "output_type": "stream",
     "text": [
      "atmpro = trp\n",
      "band = 4\n",
      "commitnumber = 5014a19\n",
      "dv = 0.001\n",
      "molecule = {'h2o': 'atmpro', 'co2': 0.0004}\n",
      "nv = 1000\n",
      "tsfc = 300\n"
     ]
    },
    {
     "data": {
      "text/html": [
       "<a id=\"Cooling_Rate_Profiles\"></a>"
      ],
      "text/plain": [
       "<IPython.core.display.HTML object>"
      ]
     },
     "metadata": {},
     "output_type": "display_data"
    },
    {
     "data": {
      "text/markdown": [
       "# Cooling Rate Profiles"
      ],
      "text/plain": [
       "<IPython.core.display.Markdown object>"
      ]
     },
     "metadata": {},
     "output_type": "display_data"
    },
    {
     "data": {
      "text/html": [
       "\n",
       "<div class=\"bk-root\">\n",
       "    <div class=\"bk-plotdiv\" id=\"937e15f3-d59d-41d4-a904-717546a31749\"></div>\n",
       "</div>"
      ]
     },
     "metadata": {},
     "output_type": "display_data"
    },
    {
     "data": {
      "application/javascript": [
       "(function(root) {\n",
       "  function embed_document(root) {\n",
       "    \n",
       "  var docs_json = {\"475c4826-5026-4390-8d84-97747936690b\":{\"roots\":{\"references\":[{\"attributes\":{\"callback\":null,\"data\":{\"x\":{\"__ndarray__\":\"By8r9NOgSL8jQ8gAvcBIv/QzK0d0/0i/4eZF8UU8Sb+zz4wpJnZJv9To583TrEm/2OJw0hTgSb8IRyhutA9Kvx4O07JyO0q/MYSs0hhjSr+Xdx9eboZKv8Zt3EtBpUq/10wCKna/Sr/Dos20OtFKv/VneJYB1Eq/mg9YN1TxSL8UCuXgE/ZBv62YSnGdgRa/Z7NPR2fCSD/8CULM+a9hP618CtAT53E/FbBLe6T0fT8orADjAXOBP/Uawdm0sX0/3ugpSnfLdT+a+mzgb7RqP0zfU0fzMVs/ZjKxfIOWQT9j6Uac0G0tv+MC8hJMj0e/NloRY8CzUL8xq5k0S1tTv1q9ZFeqaFS/lHsZv0tNVL+Zd+h5iKZSvyuSNcnnFk+/T0dqMbiAS78cieLkeVlPvyYq1pMyzlO/i7VtkDiIV7+nUROJ+odav5aHVrSj+1y/L6uTn4uAXr8ANx1Wt8Bev0zwuri1F12/6AIFQM89WL/uFBFB3/tMv/q++pyRLiI/QnJb8NxaWj8/zaYzGQ1uP/zeK53EZXo/TrKqZTiMhD+NNCNJMbyNP3yCa76vaZQ/Hkzejt32mj+VzI6tl0GhP0G8sxhqhKU/HcTJW4BGqj8qWcoJRYCvP2MFihthmLI/vJ+4u4WwtT+5RjYdIuq4P18zK6HcMrw/Caa7ZzSkwD8S6AJNOgDDP5W0h2KXTcU/xZzSh0+2xz+KslRqOF3JP1QJ5EzyJ8s/3jWuoOVQzT+/Y5n6UNTPPykjcBxfWNE/xx4tEDX40j+c2TIJrNbUP2rr0H7eM9c/\",\"dtype\":\"float64\",\"shape\":[75]},\"y\":{\"__ndarray__\":\"GhExyth1ND/Sv8nbtpRIP2vylNV0PVE/aTum7souWD/At0SJ8fVgPw3Iuahxymc/MSNhhJWvcD/bTfBN02d3P2zb5nxnaoA/CD5h5MAGhz8NmeH1TyaQP+zrCsc9p5Y/LbKd76fGnz/bLW5ISEmmPww9YvTcQq8/JV2OstnstT8Er5Y7M8G+P0c+r3jqkcU/5h99k6ZBzj88bCIzFzjVP4enV8oyxN0//yH99nXg5D8qOpLLf0jtP5kqGJXUifQ/c9cS8kHP/D+/DpwzojQEQIEmwoanVwxA4lgXt9HgE0BSSZ2AJuIbQAMJih9jjiNA5q4l5INuK0AwTKYKRj0zQNv5fmq8/DpAaCJseHrtQkB/+zpwzoxKQM3MzMzMeFJAZmZmZmZqWEAAAAAAAFxeQM3MzMzMJmJAmpmZmZkfZUBmZmZmZhhoQDMzMzMzEWtAAAAAAAAKbkBmZmZmZoFwQM3MzMzM/XFAMzMzMzN6c0CamZmZmfZ0QAAAAAAAc3ZAZmZmZmbvd0DNzMzMzGt5QDMzMzMz6HpAmpmZmZlkfEAAAAAAAOF9QGZmZmZmXX9AZmZmZuZsgECamZmZGSuBQM3MzMxM6YFAAAAAAICngkAzMzMzs2WDQGZmZmbmI4RAmpmZmRnihEDNzMzMTKCFQAAAAACAXoZAMzMzM7Mch0BmZmZm5tqHQJqZmZkZmYhAzczMzExXiUAAAAAAgBWKQDMzMzOz04pAZmZmZuaRi0CamZmZGVCMQM3MzMxMDo1AAAAAAIDMjUAzMzMzs4qOQGZmZmbmSI9A\",\"dtype\":\"float64\",\"shape\":[75]}},\"selected\":{\"id\":\"b4cf986f-34e6-4837-999e-b3776fc62bab\",\"type\":\"Selection\"},\"selection_policy\":{\"id\":\"38e11a88-5d70-4420-bb31-131072b93ed4\",\"type\":\"UnionRenderers\"}},\"id\":\"0ed6f3dd-7b5a-4210-a3dd-813e1fbd3ef7\",\"type\":\"ColumnDataSource\"},{\"attributes\":{\"callback\":null,\"data\":{\"x\":{\"__ndarray__\":\"h+I0cBksTb+k0zRJ1ApOv0G9JqEIPk2/lHbH2b+DTb+K6GhlEMZNv8lgUBGZAk6/wTzf94Q7Tr9nlpo4Q2tOv38LrYAll06/xyN6aCHUTr8VNtjbMzlPv5nBv2Oni0+/wwbsICPTT7/4eHtSvxdQv/XS0G4XXlC/uS6tFlrzT7+oLwoYbt5Kvx15viHsgz2/IePUJ9NvLz+/IwWyudNWP6tbnyxTkGo/oGBSvpgUeD9RYcFFe7h8PzKrD9WoSHg/qee9Jm1ncT+6ywA6BR5kP3mAXURRZFE/d4D5sskaGD/IlcDG6lhCvy6t2nqs7k+/DE2ahcTdU7/ggmMMcKVVv42R1JnuwlW/1ICGXelzVL/tVQDcQItSv+73F23yGlC/kzyOwn4ETb+kuz2t0kxQvzfxkEzA1FO/OTG71VnHVr+BciYoaMxZv95djQqhJV2/t6dq1qeJX7+jMr+HREJgv25h7RHpvF+/Xwt0kS1QXL/mCMSjAFVUv6rq+9hd+Di/APohIU8sTj+MChKfnxBnP1n2Rb4iKnY/9YOdzkwqgj9SDu8EvkyLP906zz3DUpM/1bNx2/bxmT9xA9GiXdagP9Dm2ETdPKU/OW82Mpwmqj+bAyo6l4SvP+wa+hXVnLI/FDcvzfuftT9Z1tLjxMW4P2shjpZ/BLw/GaM7qauSwD8nJnfx4QbDP+AsBL1ghcU/uuHzmokvyD9iIFvYyx3KP6n+3vmHJcw/LuESeA6Czj/uAxQTaZXQP5v41eJ0DtI/gf1CVW2z0z/+uWjIeJTVP8xCfcMr5tc/\",\"dtype\":\"float64\",\"shape\":[75]},\"y\":{\"__ndarray__\":\"S/O/Q+51ND/Sv8nbtpRIP2vylNV0PVE/aTum7souWD/At0SJ8fVgPw3Iuahxymc/MSNhhJWvcD/bTfBN02d3P2zb5nxnaoA/CD5h5MAGhz8NmeH1TyaQP+zrCsc9p5Y/LbKd76fGnz/bLW5ISEmmPww9YvTcQq8/JV2OstnstT8Er5Y7M8G+P0c+r3jqkcU/5h99k6ZBzj88bCIzFzjVP4enV8oyxN0//yH99nXg5D8qOpLLf0jtP5kqGJXUifQ/c9cS8kHP/D+/DpwzojQEQIEmwoanVwxA4lgXt9HgE0BSSZ2AJuIbQAMJih9jjiNA5q4l5INuK0AwTKYKRj0zQNv5fmq8/DpAaCJseHrtQkB/+zpwzoxKQM3MzMzMeFJAZmZmZmZqWEAAAAAAAFxeQM3MzMzMJmJAmpmZmZkfZUBmZmZmZhhoQDMzMzMzEWtAAAAAAAAKbkBmZmZmZoFwQM3MzMzM/XFAMzMzMzN6c0CamZmZmfZ0QAAAAAAAc3ZAZmZmZmbvd0DNzMzMzGt5QDMzMzMz6HpAmpmZmZlkfEAAAAAAAOF9QGZmZmZmXX9AZmZmZuZsgECamZmZGSuBQM3MzMxM6YFAAAAAAICngkAzMzMzs2WDQGZmZmbmI4RAmpmZmRnihEDNzMzMTKCFQAAAAACAXoZAMzMzM7Mch0BmZmZm5tqHQJqZmZkZmYhAzczMzExXiUAAAAAAgBWKQDMzMzOz04pAZmZmZuaRi0CamZmZGVCMQM3MzMxMDo1AAAAAAIDMjUAzMzMzs4qOQGZmZmbmSI9A\",\"dtype\":\"float64\",\"shape\":[75]}},\"selected\":{\"id\":\"b7c5001e-f9d9-4250-b06d-67d2c84dc71c\",\"type\":\"Selection\"},\"selection_policy\":{\"id\":\"9af32224-53cc-471c-858d-d2380ae91c86\",\"type\":\"UnionRenderers\"}},\"id\":\"0a842c4b-2c4b-4155-8f66-306e8b9f47fe\",\"type\":\"ColumnDataSource\"},{\"attributes\":{\"source\":{\"id\":\"2aadce3d-ed41-4bed-aa09-7153e06f9de3\",\"type\":\"ColumnDataSource\"}},\"id\":\"aa4a5082-c6f4-4234-80f6-3b5d7c59581e\",\"type\":\"CDSView\"},{\"attributes\":{\"line_color\":\"#4daf4a\",\"line_width\":1.5,\"x\":{\"field\":\"x\"},\"y\":{\"field\":\"y\"}},\"id\":\"823c9db5-ac8a-495b-901a-8562a6774c0f\",\"type\":\"Line\"},{\"attributes\":{\"callback\":null,\"data\":{\"x\":{\"__ndarray__\":\"dc8oHqzhSr/5akJvtftKvysewNteLEu/EWknD0ZZS78EyIAacIFLv+4ocPbSpEu/EZjPcsTCS7+UXn7nJttLv+gL3ynY7Uu/jfJOhyn6S7+XGr1/nwBMv7A4U8RyAEy/LGFmiZn3S79zugQr1uBLv9MrPM1CF0u/n96hd6HCRr/SdFIqGeA1v+FRQCxACzg/uQxrqi/SWT8ubmlWMtdsP8lDScJqnno/nKATYxVGhT+zTsJwoTeIP2BIzhOdVoQ/wUx5AzyIfT+kp/c10/txP4l5A0FBX2I/S/wlLxg/ST8fnDBZDAIqv4VnirmPREq/DcTNyU3EUr9lI//wVHdVv4ntae0PMla/0aK7R92eVb9ztwbWM3RTv30D9tDGrU+/xXCR4LmGS7+IuYPRC3hPv8VL8kYfGFS/WJ50XLX9V7+5OfIPvTZbvx2xalVxuF2/M+sypF0YX78V7WtSisxev8WLngcy3Fu/uGgWmkPIVL/OEbDjtDQ+v/K+sV+Rr0s/vWRS8a5bZT+BDuNMlH90P7aWflA7poA/4q+Z4d6ziD9OgwLsLEWRP7wof5kdGZc/pFoteB3mnT8rFhBxq9SiP0pcgONWNKc/WEz9oFQZrD/H5MOi2MCwP2HtRiSsu7M/iKxUoZj0tj9rMl81AUy6P+1qLEBfo70/AaDMN4lewT903/8BtZzDP0SLbOf7qcU/k4/+EzOtxz+K0rVh2tjIP0ZdrQsmG8o/bnrEpp2zyz/6tTfwUZzNP/FkNzP60c8/UcQaFdUu0T+ZGMODA63SP+CXRAdurtQ/\",\"dtype\":\"float64\",\"shape\":[75]},\"y\":{\"__ndarray__\":\"GhExyth1ND/Sv8nbtpRIP2vylNV0PVE/aTum7souWD/At0SJ8fVgPw3Iuahxymc/MSNhhJWvcD/bTfBN02d3P2zb5nxnaoA/CD5h5MAGhz8NmeH1TyaQP+zrCsc9p5Y/LbKd76fGnz/bLW5ISEmmPww9YvTcQq8/JV2OstnstT8Er5Y7M8G+P0c+r3jqkcU/5h99k6ZBzj88bCIzFzjVP4enV8oyxN0//yH99nXg5D8qOpLLf0jtP5kqGJXUifQ/c9cS8kHP/D+/DpwzojQEQIEmwoanVwxA4lgXt9HgE0BSSZ2AJuIbQAMJih9jjiNA5q4l5INuK0AwTKYKRj0zQNv5fmq8/DpAaCJseHrtQkB/+zpwzoxKQM3MzMzMeFJAZmZmZmZqWEAAAAAAAFxeQM3MzMzMJmJAmpmZmZkfZUBmZmZmZhhoQDMzMzMzEWtAAAAAAAAKbkBmZmZmZoFwQM3MzMzM/XFAMzMzMzN6c0CamZmZmfZ0QAAAAAAAc3ZAZmZmZmbvd0DNzMzMzGt5QDMzMzMz6HpAmpmZmZlkfEAAAAAAAOF9QGZmZmZmXX9AZmZmZuZsgECamZmZGSuBQM3MzMxM6YFAAAAAAICngkAzMzMzs2WDQGZmZmbmI4RAmpmZmRnihEDNzMzMTKCFQAAAAACAXoZAMzMzM7Mch0BmZmZm5tqHQJqZmZkZmYhAzczMzExXiUAAAAAAgBWKQDMzMzOz04pAZmZmZuaRi0CamZmZGVCMQM3MzMxMDo1AAAAAAIDMjUAzMzMzs4qOQGZmZmbmSI9A\",\"dtype\":\"float64\",\"shape\":[75]}},\"selected\":{\"id\":\"9e5fe789-b1ff-47d3-a566-d0aff8c3411a\",\"type\":\"Selection\"},\"selection_policy\":{\"id\":\"0455a0d6-693b-4395-b7c6-01de8ccee834\",\"type\":\"UnionRenderers\"}},\"id\":\"23c2a626-beb0-4c16-8106-c21dcabb5ef1\",\"type\":\"ColumnDataSource\"},{\"attributes\":{\"fill_alpha\":{\"value\":0.7},\"fill_color\":{\"value\":\"#984ea3\"},\"line_alpha\":{\"value\":0.7},\"line_color\":{\"value\":\"#984ea3\"},\"x\":{\"field\":\"x\"},\"y\":{\"field\":\"y\"}},\"id\":\"72fdc471-6187-4b3c-8dde-68b65aac8334\",\"type\":\"Square\"},{\"attributes\":{},\"id\":\"96a7baab-7c87-42c3-a300-f9a870dc7957\",\"type\":\"Selection\"},{\"attributes\":{\"children\":[{\"id\":\"cd274b10-0f9a-4401-9b1f-6329e121e788\",\"subtype\":\"Figure\",\"type\":\"Plot\"},{\"id\":\"3d4e3f2d-548a-43f1-94f0-8c472861d38a\",\"subtype\":\"Figure\",\"type\":\"Plot\"}]},\"id\":\"419d5f84-86db-4bc8-97ac-2dcb3b5d65e7\",\"type\":\"Row\"},{\"attributes\":{\"overlay\":{\"id\":\"222cdaf1-4a91-4861-a4ee-c4e74a815153\",\"type\":\"BoxAnnotation\"}},\"id\":\"0a0f119e-0dc3-438b-941f-9981f63af957\",\"type\":\"BoxZoomTool\"},{\"attributes\":{},\"id\":\"534d03ca-f71c-4493-8434-68c2e0de7380\",\"type\":\"SaveTool\"},{\"attributes\":{\"line_alpha\":0.1,\"line_color\":\"#1f77b4\",\"line_width\":1.5,\"x\":{\"field\":\"x\"},\"y\":{\"field\":\"y\"}},\"id\":\"a7073d87-a288-40b2-b482-7c6bec83e5f0\",\"type\":\"Line\"},{\"attributes\":{\"fill_alpha\":{\"value\":0.1},\"fill_color\":{\"value\":\"#1f77b4\"},\"line_alpha\":{\"value\":0.1},\"line_color\":{\"value\":\"#1f77b4\"},\"x\":{\"field\":\"x\"},\"y\":{\"field\":\"y\"}},\"id\":\"1e62a785-ef8a-4aee-b868-7da51a2ddf44\",\"type\":\"Square\"},{\"attributes\":{},\"id\":\"7aae004e-b4fe-46c2-a939-a6e90b1ae88f\",\"type\":\"WheelZoomTool\"},{\"attributes\":{\"data_source\":{\"id\":\"2aadce3d-ed41-4bed-aa09-7153e06f9de3\",\"type\":\"ColumnDataSource\"},\"glyph\":{\"id\":\"823c9db5-ac8a-495b-901a-8562a6774c0f\",\"type\":\"Line\"},\"hover_glyph\":null,\"muted_glyph\":null,\"nonselection_glyph\":{\"id\":\"a7073d87-a288-40b2-b482-7c6bec83e5f0\",\"type\":\"Line\"},\"selection_glyph\":null,\"view\":{\"id\":\"aa4a5082-c6f4-4234-80f6-3b5d7c59581e\",\"type\":\"CDSView\"}},\"id\":\"52a0acb4-294b-47d5-bf5d-19310c7388ee\",\"type\":\"GlyphRenderer\"},{\"attributes\":{\"data_source\":{\"id\":\"0ed6f3dd-7b5a-4210-a3dd-813e1fbd3ef7\",\"type\":\"ColumnDataSource\"},\"glyph\":{\"id\":\"72fdc471-6187-4b3c-8dde-68b65aac8334\",\"type\":\"Square\"},\"hover_glyph\":null,\"muted_glyph\":null,\"nonselection_glyph\":{\"id\":\"1e62a785-ef8a-4aee-b868-7da51a2ddf44\",\"type\":\"Square\"},\"selection_glyph\":null,\"view\":{\"id\":\"3faf5c51-78ec-48e0-9bed-9f0132ac70ea\",\"type\":\"CDSView\"}},\"id\":\"f1fac019-d04b-4fe8-aa37-6b359844660e\",\"type\":\"GlyphRenderer\"},{\"attributes\":{\"children\":[{\"id\":\"419d5f84-86db-4bc8-97ac-2dcb3b5d65e7\",\"type\":\"Row\"}]},\"id\":\"2b0359fb-f1f3-4fe4-bf4f-55d8238a4d43\",\"type\":\"Column\"},{\"attributes\":{},\"id\":\"0c633a75-98ea-43fc-86bc-88f81c753f9a\",\"type\":\"HelpTool\"},{\"attributes\":{\"toolbar\":{\"id\":\"d637a2d9-0f5c-40bc-b61b-98619cf8259c\",\"type\":\"ProxyToolbar\"},\"toolbar_location\":\"above\"},\"id\":\"a8d731bd-5b93-4cd2-8c29-06daac7c401e\",\"type\":\"ToolbarBox\"},{\"attributes\":{\"fill_alpha\":{\"value\":0.1},\"fill_color\":{\"value\":\"#1f77b4\"},\"line_alpha\":{\"value\":0.1},\"line_color\":{\"value\":\"#1f77b4\"},\"x\":{\"field\":\"x\"},\"y\":{\"field\":\"y\"}},\"id\":\"f944f146-e7e4-4e6a-add7-f8060f90aed8\",\"type\":\"Circle\"},{\"attributes\":{\"label\":{\"value\":\"CLIRAD `coolr_bands`\"},\"renderers\":[{\"id\":\"3fb85e41-48a4-4a21-8526-eaf7574550f9\",\"type\":\"GlyphRenderer\"}]},\"id\":\"e5725125-ce43-4713-9848-7268b6adc7ff\",\"type\":\"LegendItem\"},{\"attributes\":{},\"id\":\"9af32224-53cc-471c-858d-d2380ae91c86\",\"type\":\"UnionRenderers\"},{\"attributes\":{\"label\":{\"value\":\"CRD\"},\"renderers\":[{\"id\":\"92044a4c-6173-4f88-abdc-16393f45e946\",\"type\":\"GlyphRenderer\"},{\"id\":\"52a0acb4-294b-47d5-bf5d-19310c7388ee\",\"type\":\"GlyphRenderer\"}]},\"id\":\"6806ef15-8cd0-4a5b-8aa8-097282e81dca\",\"type\":\"LegendItem\"},{\"attributes\":{},\"id\":\"9e5fe789-b1ff-47d3-a566-d0aff8c3411a\",\"type\":\"Selection\"},{\"attributes\":{\"label\":{\"value\":\"WGT igg=10 wgt_flux=2\"},\"renderers\":[{\"id\":\"f1fac019-d04b-4fe8-aa37-6b359844660e\",\"type\":\"GlyphRenderer\"},{\"id\":\"1d4c2519-f779-41d2-b6a8-4f2215b6e196\",\"type\":\"GlyphRenderer\"}]},\"id\":\"6ed932e1-71d8-42aa-961d-48d44a3e4274\",\"type\":\"LegendItem\"},{\"attributes\":{},\"id\":\"5ea6a49b-5eb5-49bf-a486-9aaf79d30fa6\",\"type\":\"UnionRenderers\"},{\"attributes\":{},\"id\":\"f33d0281-3402-45d0-8a80-2eec3a5149f4\",\"type\":\"BasicTickFormatter\"},{\"attributes\":{},\"id\":\"9f94be4d-1852-40f4-9e60-5320cdb06479\",\"type\":\"BasicTickFormatter\"},{\"attributes\":{},\"id\":\"9dc6753d-e100-41b9-9d6c-a789308c60b8\",\"type\":\"Selection\"},{\"attributes\":{},\"id\":\"b7c5001e-f9d9-4250-b06d-67d2c84dc71c\",\"type\":\"Selection\"},{\"attributes\":{},\"id\":\"dfc47ed3-83cc-4dc6-8790-03ef7a7f87ea\",\"type\":\"UnionRenderers\"},{\"attributes\":{},\"id\":\"0455a0d6-693b-4395-b7c6-01de8ccee834\",\"type\":\"UnionRenderers\"},{\"attributes\":{},\"id\":\"ba5e5c37-0800-4865-a508-a06d95a47071\",\"type\":\"Selection\"},{\"attributes\":{},\"id\":\"b6508e9c-680b-49c1-b7b3-bbb9fd174c2e\",\"type\":\"UnionRenderers\"},{\"attributes\":{},\"id\":\"0c65b47c-7a0f-4662-a2e8-74d8525b32f3\",\"type\":\"Selection\"},{\"attributes\":{},\"id\":\"bc97d99d-63ae-4afb-aa0a-3436a7bd3bef\",\"type\":\"ResetTool\"},{\"attributes\":{},\"id\":\"227be046-42a0-4c48-ba93-d2e56359792b\",\"type\":\"UnionRenderers\"},{\"attributes\":{\"data_source\":{\"id\":\"23c2a626-beb0-4c16-8106-c21dcabb5ef1\",\"type\":\"ColumnDataSource\"},\"glyph\":{\"id\":\"0c5bb7c2-5401-46b3-ad32-8bc1a76fac3e\",\"type\":\"Circle\"},\"hover_glyph\":null,\"muted_glyph\":null,\"nonselection_glyph\":{\"id\":\"f944f146-e7e4-4e6a-add7-f8060f90aed8\",\"type\":\"Circle\"},\"selection_glyph\":null,\"view\":{\"id\":\"4c2d9f8a-ab54-42e5-a177-61dd4eee7360\",\"type\":\"CDSView\"}},\"id\":\"e5fdef09-d7fa-4a88-805e-34d11261e3c5\",\"type\":\"GlyphRenderer\"},{\"attributes\":{},\"id\":\"8fa38953-aaea-4c94-84e0-5e9cca9147e3\",\"type\":\"Selection\"},{\"attributes\":{},\"id\":\"22d2a1c3-632a-4170-a194-3dadfa4c8421\",\"type\":\"UnionRenderers\"},{\"attributes\":{},\"id\":\"1004f040-c441-4b1e-8c67-e2148a1e12dc\",\"type\":\"Selection\"},{\"attributes\":{\"ticker\":null},\"id\":\"592f52ef-3734-4c31-b320-183df9d5d7d9\",\"type\":\"LogTickFormatter\"},{\"attributes\":{},\"id\":\"3b941670-eff7-4b77-aa03-9e9fcaa4e746\",\"type\":\"UnionRenderers\"},{\"attributes\":{\"source\":{\"id\":\"0a842c4b-2c4b-4155-8f66-306e8b9f47fe\",\"type\":\"ColumnDataSource\"}},\"id\":\"1d93ebe7-593c-4a70-94db-93855fb762c1\",\"type\":\"CDSView\"},{\"attributes\":{},\"id\":\"b4cf986f-34e6-4837-999e-b3776fc62bab\",\"type\":\"Selection\"},{\"attributes\":{},\"id\":\"bd11bd27-3481-4ddb-86f2-3ff0dd254fec\",\"type\":\"Selection\"},{\"attributes\":{},\"id\":\"5db09442-5faf-477e-91b0-9fc3f91116c2\",\"type\":\"UnionRenderers\"},{\"attributes\":{},\"id\":\"38e11a88-5d70-4420-bb31-131072b93ed4\",\"type\":\"UnionRenderers\"},{\"attributes\":{\"children\":[{\"id\":\"a8d731bd-5b93-4cd2-8c29-06daac7c401e\",\"type\":\"ToolbarBox\"},{\"id\":\"2b0359fb-f1f3-4fe4-bf4f-55d8238a4d43\",\"type\":\"Column\"}]},\"id\":\"30e97178-d0d4-4f96-9a6b-030bc5950935\",\"type\":\"Column\"},{\"attributes\":{\"source\":{\"id\":\"23c2a626-beb0-4c16-8106-c21dcabb5ef1\",\"type\":\"ColumnDataSource\"}},\"id\":\"4c2d9f8a-ab54-42e5-a177-61dd4eee7360\",\"type\":\"CDSView\"},{\"attributes\":{\"tools\":[{\"id\":\"94afbe5c-5b0c-402b-994d-e063eaeb535c\",\"type\":\"PanTool\"},{\"id\":\"7aae004e-b4fe-46c2-a939-a6e90b1ae88f\",\"type\":\"WheelZoomTool\"},{\"id\":\"0a0f119e-0dc3-438b-941f-9981f63af957\",\"type\":\"BoxZoomTool\"},{\"id\":\"534d03ca-f71c-4493-8434-68c2e0de7380\",\"type\":\"SaveTool\"},{\"id\":\"bc97d99d-63ae-4afb-aa0a-3436a7bd3bef\",\"type\":\"ResetTool\"},{\"id\":\"0c633a75-98ea-43fc-86bc-88f81c753f9a\",\"type\":\"HelpTool\"},{\"id\":\"6ebbe613-4b5b-45f5-9ac0-2460d4800524\",\"type\":\"PanTool\"},{\"id\":\"0984b5cd-385e-442f-9c4d-a3e4e302b4cf\",\"type\":\"WheelZoomTool\"},{\"id\":\"1d04f093-c5e0-45ef-aae9-14671c74d4da\",\"type\":\"BoxZoomTool\"},{\"id\":\"bbfa78c4-c10d-4e90-9a76-7c9da156998c\",\"type\":\"SaveTool\"},{\"id\":\"9c230611-36ab-4a50-a02d-f4b88f9d7142\",\"type\":\"ResetTool\"},{\"id\":\"ab3a3730-39b3-4745-899d-9a5c2124d27d\",\"type\":\"HelpTool\"}]},\"id\":\"d637a2d9-0f5c-40bc-b61b-98619cf8259c\",\"type\":\"ProxyToolbar\"},{\"attributes\":{\"callback\":null,\"end\":0.01,\"start\":1020},\"id\":\"346874c3-e00a-435d-be3f-891c47116574\",\"type\":\"Range1d\"},{\"attributes\":{\"line_alpha\":0.6,\"line_color\":\"#e41a1c\",\"line_dash\":[6],\"line_width\":5,\"x\":{\"field\":\"x\"},\"y\":{\"field\":\"y\"}},\"id\":\"e8d73623-b8a3-45fa-a914-3ea6e5fd4c88\",\"type\":\"Line\"},{\"attributes\":{\"bottom_units\":\"screen\",\"fill_alpha\":{\"value\":0.5},\"fill_color\":{\"value\":\"lightgrey\"},\"left_units\":\"screen\",\"level\":\"overlay\",\"line_alpha\":{\"value\":1.0},\"line_color\":{\"value\":\"black\"},\"line_dash\":[4,4],\"line_width\":{\"value\":2},\"plot\":null,\"render_mode\":\"css\",\"right_units\":\"screen\",\"top_units\":\"screen\"},\"id\":\"222cdaf1-4a91-4861-a4ee-c4e74a815153\",\"type\":\"BoxAnnotation\"},{\"attributes\":{},\"id\":\"cbb07826-4710-454d-ac6a-5bafebb59640\",\"type\":\"LinearScale\"},{\"attributes\":{},\"id\":\"94afbe5c-5b0c-402b-994d-e063eaeb535c\",\"type\":\"PanTool\"},{\"attributes\":{\"dimension\":1,\"plot\":{\"id\":\"cd274b10-0f9a-4401-9b1f-6329e121e788\",\"subtype\":\"Figure\",\"type\":\"Plot\"},\"ticker\":{\"id\":\"1189b458-2c55-44d3-be3a-4a530500914a\",\"type\":\"BasicTicker\"}},\"id\":\"c10f33cc-1cbd-4364-95fc-133a674ebbc9\",\"type\":\"Grid\"},{\"attributes\":{\"line_alpha\":0.1,\"line_color\":\"#1f77b4\",\"line_dash\":[6],\"line_width\":5,\"x\":{\"field\":\"x\"},\"y\":{\"field\":\"y\"}},\"id\":\"1de204de-d4a8-4119-b6f6-9d9a49166345\",\"type\":\"Line\"},{\"attributes\":{\"active_drag\":\"auto\",\"active_inspect\":\"auto\",\"active_scroll\":\"auto\",\"active_tap\":\"auto\",\"tools\":[{\"id\":\"94afbe5c-5b0c-402b-994d-e063eaeb535c\",\"type\":\"PanTool\"},{\"id\":\"7aae004e-b4fe-46c2-a939-a6e90b1ae88f\",\"type\":\"WheelZoomTool\"},{\"id\":\"0a0f119e-0dc3-438b-941f-9981f63af957\",\"type\":\"BoxZoomTool\"},{\"id\":\"534d03ca-f71c-4493-8434-68c2e0de7380\",\"type\":\"SaveTool\"},{\"id\":\"bc97d99d-63ae-4afb-aa0a-3436a7bd3bef\",\"type\":\"ResetTool\"},{\"id\":\"0c633a75-98ea-43fc-86bc-88f81c753f9a\",\"type\":\"HelpTool\"}]},\"id\":\"c68391af-247c-4714-942d-280163dfb631\",\"type\":\"Toolbar\"},{\"attributes\":{\"axis_label\":\"cooling rate [K/day]\",\"formatter\":{\"id\":\"f33d0281-3402-45d0-8a80-2eec3a5149f4\",\"type\":\"BasicTickFormatter\"},\"plot\":{\"id\":\"cd274b10-0f9a-4401-9b1f-6329e121e788\",\"subtype\":\"Figure\",\"type\":\"Plot\"},\"ticker\":{\"id\":\"1aeb4300-9515-4af7-967a-6a30da850f09\",\"type\":\"BasicTicker\"}},\"id\":\"6296caee-f514-4c95-9356-992c87ffa755\",\"type\":\"LinearAxis\"},{\"attributes\":{\"axis_label\":\"pressure [mb]\",\"formatter\":{\"id\":\"9f94be4d-1852-40f4-9e60-5320cdb06479\",\"type\":\"BasicTickFormatter\"},\"plot\":{\"id\":\"cd274b10-0f9a-4401-9b1f-6329e121e788\",\"subtype\":\"Figure\",\"type\":\"Plot\"},\"ticker\":{\"id\":\"1189b458-2c55-44d3-be3a-4a530500914a\",\"type\":\"BasicTicker\"}},\"id\":\"31736095-51dd-4450-8203-6c2cdd52b114\",\"type\":\"LinearAxis\"},{\"attributes\":{},\"id\":\"1aeb4300-9515-4af7-967a-6a30da850f09\",\"type\":\"BasicTicker\"},{\"attributes\":{\"fill_alpha\":{\"value\":0.7},\"fill_color\":{\"value\":\"#4daf4a\"},\"line_alpha\":{\"value\":0.7},\"line_color\":{\"value\":\"#4daf4a\"},\"x\":{\"field\":\"x\"},\"y\":{\"field\":\"y\"}},\"id\":\"0c5bb7c2-5401-46b3-ad32-8bc1a76fac3e\",\"type\":\"Circle\"},{\"attributes\":{\"below\":[{\"id\":\"6296caee-f514-4c95-9356-992c87ffa755\",\"type\":\"LinearAxis\"}],\"left\":[{\"id\":\"31736095-51dd-4450-8203-6c2cdd52b114\",\"type\":\"LinearAxis\"}],\"plot_height\":500,\"plot_width\":400,\"renderers\":[{\"id\":\"6296caee-f514-4c95-9356-992c87ffa755\",\"type\":\"LinearAxis\"},{\"id\":\"43d22767-af1e-4b74-9362-6d1c644ad47c\",\"type\":\"Grid\"},{\"id\":\"31736095-51dd-4450-8203-6c2cdd52b114\",\"type\":\"LinearAxis\"},{\"id\":\"c10f33cc-1cbd-4364-95fc-133a674ebbc9\",\"type\":\"Grid\"},{\"id\":\"222cdaf1-4a91-4861-a4ee-c4e74a815153\",\"type\":\"BoxAnnotation\"},{\"id\":\"e21b890b-b9a1-4808-9388-2bd86f7d2d79\",\"type\":\"GlyphRenderer\"},{\"id\":\"e5fdef09-d7fa-4a88-805e-34d11261e3c5\",\"type\":\"GlyphRenderer\"},{\"id\":\"db7df5e2-7bbe-4e22-bcf7-2663223e34ef\",\"type\":\"GlyphRenderer\"},{\"id\":\"8378e0bc-0eb4-47a5-9169-f24be1aecfdc\",\"type\":\"GlyphRenderer\"},{\"id\":\"d09e8fd3-169b-431a-9cd8-b6981e081569\",\"type\":\"GlyphRenderer\"}],\"title\":{\"id\":\"da02275f-036d-4b9c-b2ae-a9d12bed846c\",\"type\":\"Title\"},\"toolbar\":{\"id\":\"c68391af-247c-4714-942d-280163dfb631\",\"type\":\"Toolbar\"},\"toolbar_location\":null,\"x_range\":{\"id\":\"fbc076e7-ae20-46d0-ab56-88f32ed37ce6\",\"type\":\"Range1d\"},\"x_scale\":{\"id\":\"b4c43db8-0469-48cc-8e21-a29d7e6d6cd3\",\"type\":\"LinearScale\"},\"y_range\":{\"id\":\"346874c3-e00a-435d-be3f-891c47116574\",\"type\":\"Range1d\"},\"y_scale\":{\"id\":\"cbb07826-4710-454d-ac6a-5bafebb59640\",\"type\":\"LinearScale\"}},\"id\":\"cd274b10-0f9a-4401-9b1f-6329e121e788\",\"subtype\":\"Figure\",\"type\":\"Plot\"},{\"attributes\":{\"plot\":{\"id\":\"cd274b10-0f9a-4401-9b1f-6329e121e788\",\"subtype\":\"Figure\",\"type\":\"Plot\"},\"ticker\":{\"id\":\"1aeb4300-9515-4af7-967a-6a30da850f09\",\"type\":\"BasicTicker\"}},\"id\":\"43d22767-af1e-4b74-9362-6d1c644ad47c\",\"type\":\"Grid\"},{\"attributes\":{},\"id\":\"1189b458-2c55-44d3-be3a-4a530500914a\",\"type\":\"BasicTicker\"},{\"attributes\":{},\"id\":\"b4c43db8-0469-48cc-8e21-a29d7e6d6cd3\",\"type\":\"LinearScale\"},{\"attributes\":{\"plot\":null,\"text\":\"Linear pressure scale\"},\"id\":\"da02275f-036d-4b9c-b2ae-a9d12bed846c\",\"type\":\"Title\"},{\"attributes\":{\"bottom_units\":\"screen\",\"fill_alpha\":{\"value\":0.5},\"fill_color\":{\"value\":\"lightgrey\"},\"left_units\":\"screen\",\"level\":\"overlay\",\"line_alpha\":{\"value\":1.0},\"line_color\":{\"value\":\"black\"},\"line_dash\":[4,4],\"line_width\":{\"value\":2},\"plot\":null,\"render_mode\":\"css\",\"right_units\":\"screen\",\"top_units\":\"screen\"},\"id\":\"14d22f16-332d-4788-9a69-82d01ec210ec\",\"type\":\"BoxAnnotation\"},{\"attributes\":{\"line_color\":\"#4daf4a\",\"line_width\":1.5,\"x\":{\"field\":\"x\"},\"y\":{\"field\":\"y\"}},\"id\":\"09597dd3-8105-42b4-bcfa-06ef777da9bc\",\"type\":\"Line\"},{\"attributes\":{},\"id\":\"bbfa78c4-c10d-4e90-9a76-7c9da156998c\",\"type\":\"SaveTool\"},{\"attributes\":{\"plot\":{\"id\":\"3d4e3f2d-548a-43f1-94f0-8c472861d38a\",\"subtype\":\"Figure\",\"type\":\"Plot\"},\"ticker\":{\"id\":\"11217acb-83e7-46db-b94b-57525b6f6431\",\"type\":\"BasicTicker\"}},\"id\":\"c4707e2f-999a-44dc-9da1-b9f6f8b6b908\",\"type\":\"Grid\"},{\"attributes\":{},\"id\":\"6ebbe613-4b5b-45f5-9ac0-2460d4800524\",\"type\":\"PanTool\"},{\"attributes\":{},\"id\":\"0984b5cd-385e-442f-9c4d-a3e4e302b4cf\",\"type\":\"WheelZoomTool\"},{\"attributes\":{\"fill_alpha\":{\"value\":0.7},\"fill_color\":{\"value\":\"#984ea3\"},\"line_alpha\":{\"value\":0.7},\"line_color\":{\"value\":\"#984ea3\"},\"x\":{\"field\":\"x\"},\"y\":{\"field\":\"y\"}},\"id\":\"596760e8-05cd-43c7-a666-f7b7274f327a\",\"type\":\"Square\"},{\"attributes\":{\"overlay\":{\"id\":\"14d22f16-332d-4788-9a69-82d01ec210ec\",\"type\":\"BoxAnnotation\"}},\"id\":\"1d04f093-c5e0-45ef-aae9-14671c74d4da\",\"type\":\"BoxZoomTool\"},{\"attributes\":{\"source\":{\"id\":\"aaac7f05-db66-4bdf-bdd7-8fd46c2ed5ca\",\"type\":\"ColumnDataSource\"}},\"id\":\"80aab482-6683-4c9d-8a64-3821e1cf5625\",\"type\":\"CDSView\"},{\"attributes\":{},\"id\":\"9c230611-36ab-4a50-a02d-f4b88f9d7142\",\"type\":\"ResetTool\"},{\"attributes\":{},\"id\":\"ab3a3730-39b3-4745-899d-9a5c2124d27d\",\"type\":\"HelpTool\"},{\"attributes\":{\"items\":[{\"id\":\"e5725125-ce43-4713-9848-7268b6adc7ff\",\"type\":\"LegendItem\"},{\"id\":\"6806ef15-8cd0-4a5b-8aa8-097282e81dca\",\"type\":\"LegendItem\"},{\"id\":\"6ed932e1-71d8-42aa-961d-48d44a3e4274\",\"type\":\"LegendItem\"}],\"label_text_font_size\":{\"value\":\"8pt\"},\"location\":[10,-30],\"plot\":{\"id\":\"3d4e3f2d-548a-43f1-94f0-8c472861d38a\",\"subtype\":\"Figure\",\"type\":\"Plot\"}},\"id\":\"8e3add17-5149-44d4-9384-07a9551ce8c8\",\"type\":\"Legend\"},{\"attributes\":{},\"id\":\"66569b45-7e03-4b59-8938-75d03337cabf\",\"type\":\"BasicTickFormatter\"},{\"attributes\":{\"data_source\":{\"id\":\"73c502c4-6b02-4aa4-9ae9-4066508030e4\",\"type\":\"ColumnDataSource\"},\"glyph\":{\"id\":\"09597dd3-8105-42b4-bcfa-06ef777da9bc\",\"type\":\"Line\"},\"hover_glyph\":null,\"muted_glyph\":null,\"nonselection_glyph\":{\"id\":\"2001ff6c-4327-4be8-9064-111f937467a8\",\"type\":\"Line\"},\"selection_glyph\":null,\"view\":{\"id\":\"292d33b2-1851-45e6-99ad-1ffbaa642f33\",\"type\":\"CDSView\"}},\"id\":\"db7df5e2-7bbe-4e22-bcf7-2663223e34ef\",\"type\":\"GlyphRenderer\"},{\"attributes\":{\"line_alpha\":0.1,\"line_color\":\"#1f77b4\",\"line_width\":3,\"x\":{\"field\":\"x\"},\"y\":{\"field\":\"y\"}},\"id\":\"286639f3-0810-402a-be88-c6758ce32a17\",\"type\":\"Line\"},{\"attributes\":{\"axis_label\":\"pressure [mb]\",\"formatter\":{\"id\":\"592f52ef-3734-4c31-b320-183df9d5d7d9\",\"type\":\"LogTickFormatter\"},\"plot\":{\"id\":\"3d4e3f2d-548a-43f1-94f0-8c472861d38a\",\"subtype\":\"Figure\",\"type\":\"Plot\"},\"ticker\":{\"id\":\"4e38bb3e-7c59-4f46-ae62-39a85b32e93b\",\"type\":\"LogTicker\"}},\"id\":\"49a201b8-769a-4e80-893b-9e9b7627c559\",\"type\":\"LogAxis\"},{\"attributes\":{},\"id\":\"210adcb2-75c9-4f41-90e6-36be1a86ee43\",\"type\":\"LogScale\"},{\"attributes\":{\"callback\":null,\"data\":{\"x\":{\"__ndarray__\":\"h+I0cBksTb+k0zRJ1ApOv0G9JqEIPk2/lHbH2b+DTb+K6GhlEMZNv8lgUBGZAk6/wTzf94Q7Tr9nlpo4Q2tOv38LrYAll06/xyN6aCHUTr8VNtjbMzlPv5nBv2Oni0+/wwbsICPTT7/4eHtSvxdQv/XS0G4XXlC/uS6tFlrzT7+oLwoYbt5Kvx15viHsgz2/IePUJ9NvLz+/IwWyudNWP6tbnyxTkGo/oGBSvpgUeD9RYcFFe7h8PzKrD9WoSHg/qee9Jm1ncT+6ywA6BR5kP3mAXURRZFE/d4D5sskaGD/IlcDG6lhCvy6t2nqs7k+/DE2ahcTdU7/ggmMMcKVVv42R1JnuwlW/1ICGXelzVL/tVQDcQItSv+73F23yGlC/kzyOwn4ETb+kuz2t0kxQvzfxkEzA1FO/OTG71VnHVr+BciYoaMxZv95djQqhJV2/t6dq1qeJX7+jMr+HREJgv25h7RHpvF+/Xwt0kS1QXL/mCMSjAFVUv6rq+9hd+Di/APohIU8sTj+MChKfnxBnP1n2Rb4iKnY/9YOdzkwqgj9SDu8EvkyLP906zz3DUpM/1bNx2/bxmT9xA9GiXdagP9Dm2ETdPKU/OW82Mpwmqj+bAyo6l4SvP+wa+hXVnLI/FDcvzfuftT9Z1tLjxMW4P2shjpZ/BLw/GaM7qauSwD8nJnfx4QbDP+AsBL1ghcU/uuHzmokvyD9iIFvYyx3KP6n+3vmHJcw/LuESeA6Czj/uAxQTaZXQP5v41eJ0DtI/gf1CVW2z0z/+uWjIeJTVP8xCfcMr5tc/\",\"dtype\":\"float64\",\"shape\":[75]},\"y\":{\"__ndarray__\":\"S/O/Q+51ND/Sv8nbtpRIP2vylNV0PVE/aTum7souWD/At0SJ8fVgPw3Iuahxymc/MSNhhJWvcD/bTfBN02d3P2zb5nxnaoA/CD5h5MAGhz8NmeH1TyaQP+zrCsc9p5Y/LbKd76fGnz/bLW5ISEmmPww9YvTcQq8/JV2OstnstT8Er5Y7M8G+P0c+r3jqkcU/5h99k6ZBzj88bCIzFzjVP4enV8oyxN0//yH99nXg5D8qOpLLf0jtP5kqGJXUifQ/c9cS8kHP/D+/DpwzojQEQIEmwoanVwxA4lgXt9HgE0BSSZ2AJuIbQAMJih9jjiNA5q4l5INuK0AwTKYKRj0zQNv5fmq8/DpAaCJseHrtQkB/+zpwzoxKQM3MzMzMeFJAZmZmZmZqWEAAAAAAAFxeQM3MzMzMJmJAmpmZmZkfZUBmZmZmZhhoQDMzMzMzEWtAAAAAAAAKbkBmZmZmZoFwQM3MzMzM/XFAMzMzMzN6c0CamZmZmfZ0QAAAAAAAc3ZAZmZmZmbvd0DNzMzMzGt5QDMzMzMz6HpAmpmZmZlkfEAAAAAAAOF9QGZmZmZmXX9AZmZmZuZsgECamZmZGSuBQM3MzMxM6YFAAAAAAICngkAzMzMzs2WDQGZmZmbmI4RAmpmZmRnihEDNzMzMTKCFQAAAAACAXoZAMzMzM7Mch0BmZmZm5tqHQJqZmZkZmYhAzczMzExXiUAAAAAAgBWKQDMzMzOz04pAZmZmZuaRi0CamZmZGVCMQM3MzMxMDo1AAAAAAIDMjUAzMzMzs4qOQGZmZmbmSI9A\",\"dtype\":\"float64\",\"shape\":[75]}},\"selected\":{\"id\":\"96a7baab-7c87-42c3-a300-f9a870dc7957\",\"type\":\"Selection\"},\"selection_policy\":{\"id\":\"22d2a1c3-632a-4170-a194-3dadfa4c8421\",\"type\":\"UnionRenderers\"}},\"id\":\"e76220f8-98a3-47a8-b277-c232e70c7cdb\",\"type\":\"ColumnDataSource\"},{\"attributes\":{\"line_alpha\":0.6,\"line_color\":\"#984ea3\",\"line_width\":3,\"x\":{\"field\":\"x\"},\"y\":{\"field\":\"y\"}},\"id\":\"3697ae8b-95e2-4191-83d4-44b2d82eb6ea\",\"type\":\"Line\"},{\"attributes\":{\"axis_label\":\"cooling rate [K/day]\",\"formatter\":{\"id\":\"66569b45-7e03-4b59-8938-75d03337cabf\",\"type\":\"BasicTickFormatter\"},\"plot\":{\"id\":\"3d4e3f2d-548a-43f1-94f0-8c472861d38a\",\"subtype\":\"Figure\",\"type\":\"Plot\"},\"ticker\":{\"id\":\"11217acb-83e7-46db-b94b-57525b6f6431\",\"type\":\"BasicTicker\"}},\"id\":\"8facfdec-0fc1-4557-9bf0-50202c6832c9\",\"type\":\"LinearAxis\"},{\"attributes\":{\"line_alpha\":0.1,\"line_color\":\"#1f77b4\",\"line_dash\":[6],\"line_width\":5,\"x\":{\"field\":\"x\"},\"y\":{\"field\":\"y\"}},\"id\":\"ded3a6fe-5810-4ef9-a65e-1d808f17bb0b\",\"type\":\"Line\"},{\"attributes\":{\"data_source\":{\"id\":\"0a842c4b-2c4b-4155-8f66-306e8b9f47fe\",\"type\":\"ColumnDataSource\"},\"glyph\":{\"id\":\"e8d73623-b8a3-45fa-a914-3ea6e5fd4c88\",\"type\":\"Line\"},\"hover_glyph\":null,\"muted_glyph\":null,\"nonselection_glyph\":{\"id\":\"1de204de-d4a8-4119-b6f6-9d9a49166345\",\"type\":\"Line\"},\"selection_glyph\":null,\"view\":{\"id\":\"1d93ebe7-593c-4a70-94db-93855fb762c1\",\"type\":\"CDSView\"}},\"id\":\"e21b890b-b9a1-4808-9388-2bd86f7d2d79\",\"type\":\"GlyphRenderer\"},{\"attributes\":{\"source\":{\"id\":\"3594b79e-4d33-411d-9f59-669ddec50c09\",\"type\":\"ColumnDataSource\"}},\"id\":\"49552cf1-322c-4ebd-9227-06d139be711e\",\"type\":\"CDSView\"},{\"attributes\":{\"fill_alpha\":{\"value\":0.1},\"fill_color\":{\"value\":\"#1f77b4\"},\"line_alpha\":{\"value\":0.1},\"line_color\":{\"value\":\"#1f77b4\"},\"x\":{\"field\":\"x\"},\"y\":{\"field\":\"y\"}},\"id\":\"2f504941-830c-46cb-a15c-4f984b836f37\",\"type\":\"Square\"},{\"attributes\":{\"below\":[{\"id\":\"8facfdec-0fc1-4557-9bf0-50202c6832c9\",\"type\":\"LinearAxis\"}],\"left\":[{\"id\":\"49a201b8-769a-4e80-893b-9e9b7627c559\",\"type\":\"LogAxis\"}],\"plot_height\":500,\"plot_width\":560,\"renderers\":[{\"id\":\"8facfdec-0fc1-4557-9bf0-50202c6832c9\",\"type\":\"LinearAxis\"},{\"id\":\"c4707e2f-999a-44dc-9da1-b9f6f8b6b908\",\"type\":\"Grid\"},{\"id\":\"49a201b8-769a-4e80-893b-9e9b7627c559\",\"type\":\"LogAxis\"},{\"id\":\"517b1eb6-e36a-4f72-aae0-7944fbcd25eb\",\"type\":\"Grid\"},{\"id\":\"14d22f16-332d-4788-9a69-82d01ec210ec\",\"type\":\"BoxAnnotation\"},{\"id\":\"3fb85e41-48a4-4a21-8526-eaf7574550f9\",\"type\":\"GlyphRenderer\"},{\"id\":\"92044a4c-6173-4f88-abdc-16393f45e946\",\"type\":\"GlyphRenderer\"},{\"id\":\"52a0acb4-294b-47d5-bf5d-19310c7388ee\",\"type\":\"GlyphRenderer\"},{\"id\":\"f1fac019-d04b-4fe8-aa37-6b359844660e\",\"type\":\"GlyphRenderer\"},{\"id\":\"1d4c2519-f779-41d2-b6a8-4f2215b6e196\",\"type\":\"GlyphRenderer\"},{\"id\":\"8e3add17-5149-44d4-9384-07a9551ce8c8\",\"type\":\"Legend\"}],\"right\":[{\"id\":\"8e3add17-5149-44d4-9384-07a9551ce8c8\",\"type\":\"Legend\"}],\"title\":{\"id\":\"98ff0243-aaa0-4245-b644-071156945226\",\"type\":\"Title\"},\"toolbar\":{\"id\":\"0fc8dc0e-99ec-41de-b43b-e3d2826f684c\",\"type\":\"Toolbar\"},\"toolbar_location\":null,\"x_range\":{\"id\":\"c95fc7ab-c38d-4a4a-823d-344069026298\",\"type\":\"Range1d\"},\"x_scale\":{\"id\":\"9814aff9-d656-4516-bde0-6b24dc1d4d6b\",\"type\":\"LinearScale\"},\"y_range\":{\"id\":\"f20a93a2-810c-4b03-9b95-5b974a774480\",\"type\":\"Range1d\"},\"y_scale\":{\"id\":\"210adcb2-75c9-4f41-90e6-36be1a86ee43\",\"type\":\"LogScale\"}},\"id\":\"3d4e3f2d-548a-43f1-94f0-8c472861d38a\",\"subtype\":\"Figure\",\"type\":\"Plot\"},{\"attributes\":{},\"id\":\"11217acb-83e7-46db-b94b-57525b6f6431\",\"type\":\"BasicTicker\"},{\"attributes\":{\"dimension\":1,\"plot\":{\"id\":\"3d4e3f2d-548a-43f1-94f0-8c472861d38a\",\"subtype\":\"Figure\",\"type\":\"Plot\"},\"ticker\":{\"id\":\"4e38bb3e-7c59-4f46-ae62-39a85b32e93b\",\"type\":\"LogTicker\"}},\"id\":\"517b1eb6-e36a-4f72-aae0-7944fbcd25eb\",\"type\":\"Grid\"},{\"attributes\":{\"data_source\":{\"id\":\"3594b79e-4d33-411d-9f59-669ddec50c09\",\"type\":\"ColumnDataSource\"},\"glyph\":{\"id\":\"3697ae8b-95e2-4191-83d4-44b2d82eb6ea\",\"type\":\"Line\"},\"hover_glyph\":null,\"muted_glyph\":null,\"nonselection_glyph\":{\"id\":\"286639f3-0810-402a-be88-c6758ce32a17\",\"type\":\"Line\"},\"selection_glyph\":null,\"view\":{\"id\":\"49552cf1-322c-4ebd-9227-06d139be711e\",\"type\":\"CDSView\"}},\"id\":\"1d4c2519-f779-41d2-b6a8-4f2215b6e196\",\"type\":\"GlyphRenderer\"},{\"attributes\":{\"data_source\":{\"id\":\"e76220f8-98a3-47a8-b277-c232e70c7cdb\",\"type\":\"ColumnDataSource\"},\"glyph\":{\"id\":\"8a217550-7467-4d41-bd0d-1c972f58577a\",\"type\":\"Line\"},\"hover_glyph\":null,\"muted_glyph\":null,\"nonselection_glyph\":{\"id\":\"ded3a6fe-5810-4ef9-a65e-1d808f17bb0b\",\"type\":\"Line\"},\"selection_glyph\":null,\"view\":{\"id\":\"409edd37-bb10-43ea-b1ba-c1ff174b78fe\",\"type\":\"CDSView\"}},\"id\":\"3fb85e41-48a4-4a21-8526-eaf7574550f9\",\"type\":\"GlyphRenderer\"},{\"attributes\":{\"callback\":null,\"end\":0.01,\"start\":1020},\"id\":\"f20a93a2-810c-4b03-9b95-5b974a774480\",\"type\":\"Range1d\"},{\"attributes\":{\"line_alpha\":0.6,\"line_color\":\"#984ea3\",\"line_width\":3,\"x\":{\"field\":\"x\"},\"y\":{\"field\":\"y\"}},\"id\":\"1f268bff-3e04-41ff-a558-c33332f611ad\",\"type\":\"Line\"},{\"attributes\":{\"callback\":null,\"data\":{\"x\":{\"__ndarray__\":\"By8r9NOgSL8jQ8gAvcBIv/QzK0d0/0i/4eZF8UU8Sb+zz4wpJnZJv9To583TrEm/2OJw0hTgSb8IRyhutA9Kvx4O07JyO0q/MYSs0hhjSr+Xdx9eboZKv8Zt3EtBpUq/10wCKna/Sr/Dos20OtFKv/VneJYB1Eq/mg9YN1TxSL8UCuXgE/ZBv62YSnGdgRa/Z7NPR2fCSD/8CULM+a9hP618CtAT53E/FbBLe6T0fT8orADjAXOBP/Uawdm0sX0/3ugpSnfLdT+a+mzgb7RqP0zfU0fzMVs/ZjKxfIOWQT9j6Uac0G0tv+MC8hJMj0e/NloRY8CzUL8xq5k0S1tTv1q9ZFeqaFS/lHsZv0tNVL+Zd+h5iKZSvyuSNcnnFk+/T0dqMbiAS78cieLkeVlPvyYq1pMyzlO/i7VtkDiIV7+nUROJ+odav5aHVrSj+1y/L6uTn4uAXr8ANx1Wt8Bev0zwuri1F12/6AIFQM89WL/uFBFB3/tMv/q++pyRLiI/QnJb8NxaWj8/zaYzGQ1uP/zeK53EZXo/TrKqZTiMhD+NNCNJMbyNP3yCa76vaZQ/Hkzejt32mj+VzI6tl0GhP0G8sxhqhKU/HcTJW4BGqj8qWcoJRYCvP2MFihthmLI/vJ+4u4WwtT+5RjYdIuq4P18zK6HcMrw/Caa7ZzSkwD8S6AJNOgDDP5W0h2KXTcU/xZzSh0+2xz+KslRqOF3JP1QJ5EzyJ8s/3jWuoOVQzT+/Y5n6UNTPPykjcBxfWNE/xx4tEDX40j+c2TIJrNbUP2rr0H7eM9c/\",\"dtype\":\"float64\",\"shape\":[75]},\"y\":{\"__ndarray__\":\"GhExyth1ND/Sv8nbtpRIP2vylNV0PVE/aTum7souWD/At0SJ8fVgPw3Iuahxymc/MSNhhJWvcD/bTfBN02d3P2zb5nxnaoA/CD5h5MAGhz8NmeH1TyaQP+zrCsc9p5Y/LbKd76fGnz/bLW5ISEmmPww9YvTcQq8/JV2OstnstT8Er5Y7M8G+P0c+r3jqkcU/5h99k6ZBzj88bCIzFzjVP4enV8oyxN0//yH99nXg5D8qOpLLf0jtP5kqGJXUifQ/c9cS8kHP/D+/DpwzojQEQIEmwoanVwxA4lgXt9HgE0BSSZ2AJuIbQAMJih9jjiNA5q4l5INuK0AwTKYKRj0zQNv5fmq8/DpAaCJseHrtQkB/+zpwzoxKQM3MzMzMeFJAZmZmZmZqWEAAAAAAAFxeQM3MzMzMJmJAmpmZmZkfZUBmZmZmZhhoQDMzMzMzEWtAAAAAAAAKbkBmZmZmZoFwQM3MzMzM/XFAMzMzMzN6c0CamZmZmfZ0QAAAAAAAc3ZAZmZmZmbvd0DNzMzMzGt5QDMzMzMz6HpAmpmZmZlkfEAAAAAAAOF9QGZmZmZmXX9AZmZmZuZsgECamZmZGSuBQM3MzMxM6YFAAAAAAICngkAzMzMzs2WDQGZmZmbmI4RAmpmZmRnihEDNzMzMTKCFQAAAAACAXoZAMzMzM7Mch0BmZmZm5tqHQJqZmZkZmYhAzczMzExXiUAAAAAAgBWKQDMzMzOz04pAZmZmZuaRi0CamZmZGVCMQM3MzMxMDo1AAAAAAIDMjUAzMzMzs4qOQGZmZmbmSI9A\",\"dtype\":\"float64\",\"shape\":[75]}},\"selected\":{\"id\":\"0c65b47c-7a0f-4662-a2e8-74d8525b32f3\",\"type\":\"Selection\"},\"selection_policy\":{\"id\":\"227be046-42a0-4c48-ba93-d2e56359792b\",\"type\":\"UnionRenderers\"}},\"id\":\"98c45321-04c0-467c-aad8-6fe7f8305259\",\"type\":\"ColumnDataSource\"},{\"attributes\":{\"plot\":null,\"text\":\"Log pressure scale\"},\"id\":\"98ff0243-aaa0-4245-b644-071156945226\",\"type\":\"Title\"},{\"attributes\":{\"line_alpha\":0.1,\"line_color\":\"#1f77b4\",\"line_width\":1.5,\"x\":{\"field\":\"x\"},\"y\":{\"field\":\"y\"}},\"id\":\"2001ff6c-4327-4be8-9064-111f937467a8\",\"type\":\"Line\"},{\"attributes\":{\"callback\":null,\"data\":{\"x\":{\"__ndarray__\":\"By8r9NOgSL8jQ8gAvcBIv/QzK0d0/0i/4eZF8UU8Sb+zz4wpJnZJv9To583TrEm/2OJw0hTgSb8IRyhutA9Kvx4O07JyO0q/MYSs0hhjSr+Xdx9eboZKv8Zt3EtBpUq/10wCKna/Sr/Dos20OtFKv/VneJYB1Eq/mg9YN1TxSL8UCuXgE/ZBv62YSnGdgRa/Z7NPR2fCSD/8CULM+a9hP618CtAT53E/FbBLe6T0fT8orADjAXOBP/Uawdm0sX0/3ugpSnfLdT+a+mzgb7RqP0zfU0fzMVs/ZjKxfIOWQT9j6Uac0G0tv+MC8hJMj0e/NloRY8CzUL8xq5k0S1tTv1q9ZFeqaFS/lHsZv0tNVL+Zd+h5iKZSvyuSNcnnFk+/T0dqMbiAS78cieLkeVlPvyYq1pMyzlO/i7VtkDiIV7+nUROJ+odav5aHVrSj+1y/L6uTn4uAXr8ANx1Wt8Bev0zwuri1F12/6AIFQM89WL/uFBFB3/tMv/q++pyRLiI/QnJb8NxaWj8/zaYzGQ1uP/zeK53EZXo/TrKqZTiMhD+NNCNJMbyNP3yCa76vaZQ/Hkzejt32mj+VzI6tl0GhP0G8sxhqhKU/HcTJW4BGqj8qWcoJRYCvP2MFihthmLI/vJ+4u4WwtT+5RjYdIuq4P18zK6HcMrw/Caa7ZzSkwD8S6AJNOgDDP5W0h2KXTcU/xZzSh0+2xz+KslRqOF3JP1QJ5EzyJ8s/3jWuoOVQzT+/Y5n6UNTPPykjcBxfWNE/xx4tEDX40j+c2TIJrNbUP2rr0H7eM9c/\",\"dtype\":\"float64\",\"shape\":[75]},\"y\":{\"__ndarray__\":\"GhExyth1ND/Sv8nbtpRIP2vylNV0PVE/aTum7souWD/At0SJ8fVgPw3Iuahxymc/MSNhhJWvcD/bTfBN02d3P2zb5nxnaoA/CD5h5MAGhz8NmeH1TyaQP+zrCsc9p5Y/LbKd76fGnz/bLW5ISEmmPww9YvTcQq8/JV2OstnstT8Er5Y7M8G+P0c+r3jqkcU/5h99k6ZBzj88bCIzFzjVP4enV8oyxN0//yH99nXg5D8qOpLLf0jtP5kqGJXUifQ/c9cS8kHP/D+/DpwzojQEQIEmwoanVwxA4lgXt9HgE0BSSZ2AJuIbQAMJih9jjiNA5q4l5INuK0AwTKYKRj0zQNv5fmq8/DpAaCJseHrtQkB/+zpwzoxKQM3MzMzMeFJAZmZmZmZqWEAAAAAAAFxeQM3MzMzMJmJAmpmZmZkfZUBmZmZmZhhoQDMzMzMzEWtAAAAAAAAKbkBmZmZmZoFwQM3MzMzM/XFAMzMzMzN6c0CamZmZmfZ0QAAAAAAAc3ZAZmZmZmbvd0DNzMzMzGt5QDMzMzMz6HpAmpmZmZlkfEAAAAAAAOF9QGZmZmZmXX9AZmZmZuZsgECamZmZGSuBQM3MzMxM6YFAAAAAAICngkAzMzMzs2WDQGZmZmbmI4RAmpmZmRnihEDNzMzMTKCFQAAAAACAXoZAMzMzM7Mch0BmZmZm5tqHQJqZmZkZmYhAzczMzExXiUAAAAAAgBWKQDMzMzOz04pAZmZmZuaRi0CamZmZGVCMQM3MzMxMDo1AAAAAAIDMjUAzMzMzs4qOQGZmZmbmSI9A\",\"dtype\":\"float64\",\"shape\":[75]}},\"selected\":{\"id\":\"8fa38953-aaea-4c94-84e0-5e9cca9147e3\",\"type\":\"Selection\"},\"selection_policy\":{\"id\":\"5ea6a49b-5eb5-49bf-a486-9aaf79d30fa6\",\"type\":\"UnionRenderers\"}},\"id\":\"3594b79e-4d33-411d-9f59-669ddec50c09\",\"type\":\"ColumnDataSource\"},{\"attributes\":{\"source\":{\"id\":\"73c502c4-6b02-4aa4-9ae9-4066508030e4\",\"type\":\"ColumnDataSource\"}},\"id\":\"292d33b2-1851-45e6-99ad-1ffbaa642f33\",\"type\":\"CDSView\"},{\"attributes\":{\"callback\":null,\"end\":0.011959715568999999,\"start\":-0.0017958584689999999},\"id\":\"c95fc7ab-c38d-4a4a-823d-344069026298\",\"type\":\"Range1d\"},{\"attributes\":{\"line_alpha\":0.1,\"line_color\":\"#1f77b4\",\"line_width\":3,\"x\":{\"field\":\"x\"},\"y\":{\"field\":\"y\"}},\"id\":\"95020ab2-9f71-4d3e-9496-510af8b4f9f9\",\"type\":\"Line\"},{\"attributes\":{\"fill_alpha\":{\"value\":0.1},\"fill_color\":{\"value\":\"#1f77b4\"},\"line_alpha\":{\"value\":0.1},\"line_color\":{\"value\":\"#1f77b4\"},\"x\":{\"field\":\"x\"},\"y\":{\"field\":\"y\"}},\"id\":\"9f7e45e8-c136-43b1-8df3-77e68cf90a82\",\"type\":\"Circle\"},{\"attributes\":{\"callback\":null,\"data\":{\"x\":{\"__ndarray__\":\"By8r9NOgSL8jQ8gAvcBIv/QzK0d0/0i/4eZF8UU8Sb+zz4wpJnZJv9To583TrEm/2OJw0hTgSb8IRyhutA9Kvx4O07JyO0q/MYSs0hhjSr+Xdx9eboZKv8Zt3EtBpUq/10wCKna/Sr/Dos20OtFKv/VneJYB1Eq/mg9YN1TxSL8UCuXgE/ZBv62YSnGdgRa/Z7NPR2fCSD/8CULM+a9hP618CtAT53E/FbBLe6T0fT8orADjAXOBP/Uawdm0sX0/3ugpSnfLdT+a+mzgb7RqP0zfU0fzMVs/ZjKxfIOWQT9j6Uac0G0tv+MC8hJMj0e/NloRY8CzUL8xq5k0S1tTv1q9ZFeqaFS/lHsZv0tNVL+Zd+h5iKZSvyuSNcnnFk+/T0dqMbiAS78cieLkeVlPvyYq1pMyzlO/i7VtkDiIV7+nUROJ+odav5aHVrSj+1y/L6uTn4uAXr8ANx1Wt8Bev0zwuri1F12/6AIFQM89WL/uFBFB3/tMv/q++pyRLiI/QnJb8NxaWj8/zaYzGQ1uP/zeK53EZXo/TrKqZTiMhD+NNCNJMbyNP3yCa76vaZQ/Hkzejt32mj+VzI6tl0GhP0G8sxhqhKU/HcTJW4BGqj8qWcoJRYCvP2MFihthmLI/vJ+4u4WwtT+5RjYdIuq4P18zK6HcMrw/Caa7ZzSkwD8S6AJNOgDDP5W0h2KXTcU/xZzSh0+2xz+KslRqOF3JP1QJ5EzyJ8s/3jWuoOVQzT+/Y5n6UNTPPykjcBxfWNE/xx4tEDX40j+c2TIJrNbUP2rr0H7eM9c/\",\"dtype\":\"float64\",\"shape\":[75]},\"y\":{\"__ndarray__\":\"GhExyth1ND/Sv8nbtpRIP2vylNV0PVE/aTum7souWD/At0SJ8fVgPw3Iuahxymc/MSNhhJWvcD/bTfBN02d3P2zb5nxnaoA/CD5h5MAGhz8NmeH1TyaQP+zrCsc9p5Y/LbKd76fGnz/bLW5ISEmmPww9YvTcQq8/JV2OstnstT8Er5Y7M8G+P0c+r3jqkcU/5h99k6ZBzj88bCIzFzjVP4enV8oyxN0//yH99nXg5D8qOpLLf0jtP5kqGJXUifQ/c9cS8kHP/D+/DpwzojQEQIEmwoanVwxA4lgXt9HgE0BSSZ2AJuIbQAMJih9jjiNA5q4l5INuK0AwTKYKRj0zQNv5fmq8/DpAaCJseHrtQkB/+zpwzoxKQM3MzMzMeFJAZmZmZmZqWEAAAAAAAFxeQM3MzMzMJmJAmpmZmZkfZUBmZmZmZhhoQDMzMzMzEWtAAAAAAAAKbkBmZmZmZoFwQM3MzMzM/XFAMzMzMzN6c0CamZmZmfZ0QAAAAAAAc3ZAZmZmZmbvd0DNzMzMzGt5QDMzMzMz6HpAmpmZmZlkfEAAAAAAAOF9QGZmZmZmXX9AZmZmZuZsgECamZmZGSuBQM3MzMxM6YFAAAAAAICngkAzMzMzs2WDQGZmZmbmI4RAmpmZmRnihEDNzMzMTKCFQAAAAACAXoZAMzMzM7Mch0BmZmZm5tqHQJqZmZkZmYhAzczMzExXiUAAAAAAgBWKQDMzMzOz04pAZmZmZuaRi0CamZmZGVCMQM3MzMxMDo1AAAAAAIDMjUAzMzMzs4qOQGZmZmbmSI9A\",\"dtype\":\"float64\",\"shape\":[75]}},\"selected\":{\"id\":\"ba5e5c37-0800-4865-a508-a06d95a47071\",\"type\":\"Selection\"},\"selection_policy\":{\"id\":\"b6508e9c-680b-49c1-b7b3-bbb9fd174c2e\",\"type\":\"UnionRenderers\"}},\"id\":\"aaac7f05-db66-4bdf-bdd7-8fd46c2ed5ca\",\"type\":\"ColumnDataSource\"},{\"attributes\":{\"source\":{\"id\":\"98c45321-04c0-467c-aad8-6fe7f8305259\",\"type\":\"ColumnDataSource\"}},\"id\":\"e8a96a59-0d0b-4856-abb7-8a45a89726b8\",\"type\":\"CDSView\"},{\"attributes\":{\"callback\":null,\"data\":{\"x\":{\"__ndarray__\":\"dc8oHqzhSr/5akJvtftKvysewNteLEu/EWknD0ZZS78EyIAacIFLv+4ocPbSpEu/EZjPcsTCS7+UXn7nJttLv+gL3ynY7Uu/jfJOhyn6S7+XGr1/nwBMv7A4U8RyAEy/LGFmiZn3S79zugQr1uBLv9MrPM1CF0u/n96hd6HCRr/SdFIqGeA1v+FRQCxACzg/uQxrqi/SWT8ubmlWMtdsP8lDScJqnno/nKATYxVGhT+zTsJwoTeIP2BIzhOdVoQ/wUx5AzyIfT+kp/c10/txP4l5A0FBX2I/S/wlLxg/ST8fnDBZDAIqv4VnirmPREq/DcTNyU3EUr9lI//wVHdVv4ntae0PMla/0aK7R92eVb9ztwbWM3RTv30D9tDGrU+/xXCR4LmGS7+IuYPRC3hPv8VL8kYfGFS/WJ50XLX9V7+5OfIPvTZbvx2xalVxuF2/M+sypF0YX78V7WtSisxev8WLngcy3Fu/uGgWmkPIVL/OEbDjtDQ+v/K+sV+Rr0s/vWRS8a5bZT+BDuNMlH90P7aWflA7poA/4q+Z4d6ziD9OgwLsLEWRP7wof5kdGZc/pFoteB3mnT8rFhBxq9SiP0pcgONWNKc/WEz9oFQZrD/H5MOi2MCwP2HtRiSsu7M/iKxUoZj0tj9rMl81AUy6P+1qLEBfo70/AaDMN4lewT903/8BtZzDP0SLbOf7qcU/k4/+EzOtxz+K0rVh2tjIP0ZdrQsmG8o/bnrEpp2zyz/6tTfwUZzNP/FkNzP60c8/UcQaFdUu0T+ZGMODA63SP+CXRAdurtQ/\",\"dtype\":\"float64\",\"shape\":[75]},\"y\":{\"__ndarray__\":\"GhExyth1ND/Sv8nbtpRIP2vylNV0PVE/aTum7souWD/At0SJ8fVgPw3Iuahxymc/MSNhhJWvcD/bTfBN02d3P2zb5nxnaoA/CD5h5MAGhz8NmeH1TyaQP+zrCsc9p5Y/LbKd76fGnz/bLW5ISEmmPww9YvTcQq8/JV2OstnstT8Er5Y7M8G+P0c+r3jqkcU/5h99k6ZBzj88bCIzFzjVP4enV8oyxN0//yH99nXg5D8qOpLLf0jtP5kqGJXUifQ/c9cS8kHP/D+/DpwzojQEQIEmwoanVwxA4lgXt9HgE0BSSZ2AJuIbQAMJih9jjiNA5q4l5INuK0AwTKYKRj0zQNv5fmq8/DpAaCJseHrtQkB/+zpwzoxKQM3MzMzMeFJAZmZmZmZqWEAAAAAAAFxeQM3MzMzMJmJAmpmZmZkfZUBmZmZmZhhoQDMzMzMzEWtAAAAAAAAKbkBmZmZmZoFwQM3MzMzM/XFAMzMzMzN6c0CamZmZmfZ0QAAAAAAAc3ZAZmZmZmbvd0DNzMzMzGt5QDMzMzMz6HpAmpmZmZlkfEAAAAAAAOF9QGZmZmZmXX9AZmZmZuZsgECamZmZGSuBQM3MzMxM6YFAAAAAAICngkAzMzMzs2WDQGZmZmbmI4RAmpmZmRnihEDNzMzMTKCFQAAAAACAXoZAMzMzM7Mch0BmZmZm5tqHQJqZmZkZmYhAzczMzExXiUAAAAAAgBWKQDMzMzOz04pAZmZmZuaRi0CamZmZGVCMQM3MzMxMDo1AAAAAAIDMjUAzMzMzs4qOQGZmZmbmSI9A\",\"dtype\":\"float64\",\"shape\":[75]}},\"selected\":{\"id\":\"bd11bd27-3481-4ddb-86f2-3ff0dd254fec\",\"type\":\"Selection\"},\"selection_policy\":{\"id\":\"3b941670-eff7-4b77-aa03-9e9fcaa4e746\",\"type\":\"UnionRenderers\"}},\"id\":\"d162f32a-40f7-4e6a-badd-88ef82e3da1b\",\"type\":\"ColumnDataSource\"},{\"attributes\":{\"data_source\":{\"id\":\"d162f32a-40f7-4e6a-badd-88ef82e3da1b\",\"type\":\"ColumnDataSource\"},\"glyph\":{\"id\":\"75c1624c-8f1d-47ad-80cd-bdd2dc831fe1\",\"type\":\"Circle\"},\"hover_glyph\":null,\"muted_glyph\":null,\"nonselection_glyph\":{\"id\":\"9f7e45e8-c136-43b1-8df3-77e68cf90a82\",\"type\":\"Circle\"},\"selection_glyph\":null,\"view\":{\"id\":\"9347db49-1aea-4cf4-8252-b3612609fc5c\",\"type\":\"CDSView\"}},\"id\":\"92044a4c-6173-4f88-abdc-16393f45e946\",\"type\":\"GlyphRenderer\"},{\"attributes\":{},\"id\":\"9814aff9-d656-4516-bde0-6b24dc1d4d6b\",\"type\":\"LinearScale\"},{\"attributes\":{\"active_drag\":\"auto\",\"active_inspect\":\"auto\",\"active_scroll\":\"auto\",\"active_tap\":\"auto\",\"tools\":[{\"id\":\"6ebbe613-4b5b-45f5-9ac0-2460d4800524\",\"type\":\"PanTool\"},{\"id\":\"0984b5cd-385e-442f-9c4d-a3e4e302b4cf\",\"type\":\"WheelZoomTool\"},{\"id\":\"1d04f093-c5e0-45ef-aae9-14671c74d4da\",\"type\":\"BoxZoomTool\"},{\"id\":\"bbfa78c4-c10d-4e90-9a76-7c9da156998c\",\"type\":\"SaveTool\"},{\"id\":\"9c230611-36ab-4a50-a02d-f4b88f9d7142\",\"type\":\"ResetTool\"},{\"id\":\"ab3a3730-39b3-4745-899d-9a5c2124d27d\",\"type\":\"HelpTool\"}]},\"id\":\"0fc8dc0e-99ec-41de-b43b-e3d2826f684c\",\"type\":\"Toolbar\"},{\"attributes\":{\"source\":{\"id\":\"0ed6f3dd-7b5a-4210-a3dd-813e1fbd3ef7\",\"type\":\"ColumnDataSource\"}},\"id\":\"3faf5c51-78ec-48e0-9bed-9f0132ac70ea\",\"type\":\"CDSView\"},{\"attributes\":{\"callback\":null,\"data\":{\"x\":{\"__ndarray__\":\"dc8oHqzhSr/5akJvtftKvysewNteLEu/EWknD0ZZS78EyIAacIFLv+4ocPbSpEu/EZjPcsTCS7+UXn7nJttLv+gL3ynY7Uu/jfJOhyn6S7+XGr1/nwBMv7A4U8RyAEy/LGFmiZn3S79zugQr1uBLv9MrPM1CF0u/n96hd6HCRr/SdFIqGeA1v+FRQCxACzg/uQxrqi/SWT8ubmlWMtdsP8lDScJqnno/nKATYxVGhT+zTsJwoTeIP2BIzhOdVoQ/wUx5AzyIfT+kp/c10/txP4l5A0FBX2I/S/wlLxg/ST8fnDBZDAIqv4VnirmPREq/DcTNyU3EUr9lI//wVHdVv4ntae0PMla/0aK7R92eVb9ztwbWM3RTv30D9tDGrU+/xXCR4LmGS7+IuYPRC3hPv8VL8kYfGFS/WJ50XLX9V7+5OfIPvTZbvx2xalVxuF2/M+sypF0YX78V7WtSisxev8WLngcy3Fu/uGgWmkPIVL/OEbDjtDQ+v/K+sV+Rr0s/vWRS8a5bZT+BDuNMlH90P7aWflA7poA/4q+Z4d6ziD9OgwLsLEWRP7wof5kdGZc/pFoteB3mnT8rFhBxq9SiP0pcgONWNKc/WEz9oFQZrD/H5MOi2MCwP2HtRiSsu7M/iKxUoZj0tj9rMl81AUy6P+1qLEBfo70/AaDMN4lewT903/8BtZzDP0SLbOf7qcU/k4/+EzOtxz+K0rVh2tjIP0ZdrQsmG8o/bnrEpp2zyz/6tTfwUZzNP/FkNzP60c8/UcQaFdUu0T+ZGMODA63SP+CXRAdurtQ/\",\"dtype\":\"float64\",\"shape\":[75]},\"y\":{\"__ndarray__\":\"GhExyth1ND/Sv8nbtpRIP2vylNV0PVE/aTum7souWD/At0SJ8fVgPw3Iuahxymc/MSNhhJWvcD/bTfBN02d3P2zb5nxnaoA/CD5h5MAGhz8NmeH1TyaQP+zrCsc9p5Y/LbKd76fGnz/bLW5ISEmmPww9YvTcQq8/JV2OstnstT8Er5Y7M8G+P0c+r3jqkcU/5h99k6ZBzj88bCIzFzjVP4enV8oyxN0//yH99nXg5D8qOpLLf0jtP5kqGJXUifQ/c9cS8kHP/D+/DpwzojQEQIEmwoanVwxA4lgXt9HgE0BSSZ2AJuIbQAMJih9jjiNA5q4l5INuK0AwTKYKRj0zQNv5fmq8/DpAaCJseHrtQkB/+zpwzoxKQM3MzMzMeFJAZmZmZmZqWEAAAAAAAFxeQM3MzMzMJmJAmpmZmZkfZUBmZmZmZhhoQDMzMzMzEWtAAAAAAAAKbkBmZmZmZoFwQM3MzMzM/XFAMzMzMzN6c0CamZmZmfZ0QAAAAAAAc3ZAZmZmZmbvd0DNzMzMzGt5QDMzMzMz6HpAmpmZmZlkfEAAAAAAAOF9QGZmZmZmXX9AZmZmZuZsgECamZmZGSuBQM3MzMxM6YFAAAAAAICngkAzMzMzs2WDQGZmZmbmI4RAmpmZmRnihEDNzMzMTKCFQAAAAACAXoZAMzMzM7Mch0BmZmZm5tqHQJqZmZkZmYhAzczMzExXiUAAAAAAgBWKQDMzMzOz04pAZmZmZuaRi0CamZmZGVCMQM3MzMxMDo1AAAAAAIDMjUAzMzMzs4qOQGZmZmbmSI9A\",\"dtype\":\"float64\",\"shape\":[75]}},\"selected\":{\"id\":\"9dc6753d-e100-41b9-9d6c-a789308c60b8\",\"type\":\"Selection\"},\"selection_policy\":{\"id\":\"dfc47ed3-83cc-4dc6-8790-03ef7a7f87ea\",\"type\":\"UnionRenderers\"}},\"id\":\"73c502c4-6b02-4aa4-9ae9-4066508030e4\",\"type\":\"ColumnDataSource\"},{\"attributes\":{\"num_minor_ticks\":10},\"id\":\"4e38bb3e-7c59-4f46-ae62-39a85b32e93b\",\"type\":\"LogTicker\"},{\"attributes\":{\"data_source\":{\"id\":\"aaac7f05-db66-4bdf-bdd7-8fd46c2ed5ca\",\"type\":\"ColumnDataSource\"},\"glyph\":{\"id\":\"1f268bff-3e04-41ff-a558-c33332f611ad\",\"type\":\"Line\"},\"hover_glyph\":null,\"muted_glyph\":null,\"nonselection_glyph\":{\"id\":\"95020ab2-9f71-4d3e-9496-510af8b4f9f9\",\"type\":\"Line\"},\"selection_glyph\":null,\"view\":{\"id\":\"80aab482-6683-4c9d-8a64-3821e1cf5625\",\"type\":\"CDSView\"}},\"id\":\"d09e8fd3-169b-431a-9cd8-b6981e081569\",\"type\":\"GlyphRenderer\"},{\"attributes\":{\"data_source\":{\"id\":\"98c45321-04c0-467c-aad8-6fe7f8305259\",\"type\":\"ColumnDataSource\"},\"glyph\":{\"id\":\"596760e8-05cd-43c7-a666-f7b7274f327a\",\"type\":\"Square\"},\"hover_glyph\":null,\"muted_glyph\":null,\"nonselection_glyph\":{\"id\":\"2f504941-830c-46cb-a15c-4f984b836f37\",\"type\":\"Square\"},\"selection_glyph\":null,\"view\":{\"id\":\"e8a96a59-0d0b-4856-abb7-8a45a89726b8\",\"type\":\"CDSView\"}},\"id\":\"8378e0bc-0eb4-47a5-9169-f24be1aecfdc\",\"type\":\"GlyphRenderer\"},{\"attributes\":{\"callback\":null,\"end\":0.377177602439,\"start\":-0.005738806339000001},\"id\":\"fbc076e7-ae20-46d0-ab56-88f32ed37ce6\",\"type\":\"Range1d\"},{\"attributes\":{\"line_alpha\":0.6,\"line_color\":\"#e41a1c\",\"line_dash\":[6],\"line_width\":5,\"x\":{\"field\":\"x\"},\"y\":{\"field\":\"y\"}},\"id\":\"8a217550-7467-4d41-bd0d-1c972f58577a\",\"type\":\"Line\"},{\"attributes\":{\"callback\":null,\"data\":{\"x\":{\"__ndarray__\":\"dc8oHqzhSr/5akJvtftKvysewNteLEu/EWknD0ZZS78EyIAacIFLv+4ocPbSpEu/EZjPcsTCS7+UXn7nJttLv+gL3ynY7Uu/jfJOhyn6S7+XGr1/nwBMv7A4U8RyAEy/LGFmiZn3S79zugQr1uBLv9MrPM1CF0u/n96hd6HCRr/SdFIqGeA1v+FRQCxACzg/uQxrqi/SWT8ubmlWMtdsP8lDScJqnno/nKATYxVGhT+zTsJwoTeIP2BIzhOdVoQ/wUx5AzyIfT+kp/c10/txP4l5A0FBX2I/S/wlLxg/ST8fnDBZDAIqv4VnirmPREq/DcTNyU3EUr9lI//wVHdVv4ntae0PMla/0aK7R92eVb9ztwbWM3RTv30D9tDGrU+/xXCR4LmGS7+IuYPRC3hPv8VL8kYfGFS/WJ50XLX9V7+5OfIPvTZbvx2xalVxuF2/M+sypF0YX78V7WtSisxev8WLngcy3Fu/uGgWmkPIVL/OEbDjtDQ+v/K+sV+Rr0s/vWRS8a5bZT+BDuNMlH90P7aWflA7poA/4q+Z4d6ziD9OgwLsLEWRP7wof5kdGZc/pFoteB3mnT8rFhBxq9SiP0pcgONWNKc/WEz9oFQZrD/H5MOi2MCwP2HtRiSsu7M/iKxUoZj0tj9rMl81AUy6P+1qLEBfo70/AaDMN4lewT903/8BtZzDP0SLbOf7qcU/k4/+EzOtxz+K0rVh2tjIP0ZdrQsmG8o/bnrEpp2zyz/6tTfwUZzNP/FkNzP60c8/UcQaFdUu0T+ZGMODA63SP+CXRAdurtQ/\",\"dtype\":\"float64\",\"shape\":[75]},\"y\":{\"__ndarray__\":\"GhExyth1ND/Sv8nbtpRIP2vylNV0PVE/aTum7souWD/At0SJ8fVgPw3Iuahxymc/MSNhhJWvcD/bTfBN02d3P2zb5nxnaoA/CD5h5MAGhz8NmeH1TyaQP+zrCsc9p5Y/LbKd76fGnz/bLW5ISEmmPww9YvTcQq8/JV2OstnstT8Er5Y7M8G+P0c+r3jqkcU/5h99k6ZBzj88bCIzFzjVP4enV8oyxN0//yH99nXg5D8qOpLLf0jtP5kqGJXUifQ/c9cS8kHP/D+/DpwzojQEQIEmwoanVwxA4lgXt9HgE0BSSZ2AJuIbQAMJih9jjiNA5q4l5INuK0AwTKYKRj0zQNv5fmq8/DpAaCJseHrtQkB/+zpwzoxKQM3MzMzMeFJAZmZmZmZqWEAAAAAAAFxeQM3MzMzMJmJAmpmZmZkfZUBmZmZmZhhoQDMzMzMzEWtAAAAAAAAKbkBmZmZmZoFwQM3MzMzM/XFAMzMzMzN6c0CamZmZmfZ0QAAAAAAAc3ZAZmZmZmbvd0DNzMzMzGt5QDMzMzMz6HpAmpmZmZlkfEAAAAAAAOF9QGZmZmZmXX9AZmZmZuZsgECamZmZGSuBQM3MzMxM6YFAAAAAAICngkAzMzMzs2WDQGZmZmbmI4RAmpmZmRnihEDNzMzMTKCFQAAAAACAXoZAMzMzM7Mch0BmZmZm5tqHQJqZmZkZmYhAzczMzExXiUAAAAAAgBWKQDMzMzOz04pAZmZmZuaRi0CamZmZGVCMQM3MzMxMDo1AAAAAAIDMjUAzMzMzs4qOQGZmZmbmSI9A\",\"dtype\":\"float64\",\"shape\":[75]}},\"selected\":{\"id\":\"1004f040-c441-4b1e-8c67-e2148a1e12dc\",\"type\":\"Selection\"},\"selection_policy\":{\"id\":\"5db09442-5faf-477e-91b0-9fc3f91116c2\",\"type\":\"UnionRenderers\"}},\"id\":\"2aadce3d-ed41-4bed-aa09-7153e06f9de3\",\"type\":\"ColumnDataSource\"},{\"attributes\":{\"source\":{\"id\":\"d162f32a-40f7-4e6a-badd-88ef82e3da1b\",\"type\":\"ColumnDataSource\"}},\"id\":\"9347db49-1aea-4cf4-8252-b3612609fc5c\",\"type\":\"CDSView\"},{\"attributes\":{\"fill_alpha\":{\"value\":0.7},\"fill_color\":{\"value\":\"#4daf4a\"},\"line_alpha\":{\"value\":0.7},\"line_color\":{\"value\":\"#4daf4a\"},\"x\":{\"field\":\"x\"},\"y\":{\"field\":\"y\"}},\"id\":\"75c1624c-8f1d-47ad-80cd-bdd2dc831fe1\",\"type\":\"Circle\"},{\"attributes\":{\"source\":{\"id\":\"e76220f8-98a3-47a8-b277-c232e70c7cdb\",\"type\":\"ColumnDataSource\"}},\"id\":\"409edd37-bb10-43ea-b1ba-c1ff174b78fe\",\"type\":\"CDSView\"}],\"root_ids\":[\"30e97178-d0d4-4f96-9a6b-030bc5950935\"]},\"title\":\"Bokeh Application\",\"version\":\"0.12.16\"}};\n",
       "  var render_items = [{\"docid\":\"475c4826-5026-4390-8d84-97747936690b\",\"elementid\":\"937e15f3-d59d-41d4-a904-717546a31749\",\"modelid\":\"30e97178-d0d4-4f96-9a6b-030bc5950935\"}];\n",
       "  root.Bokeh.embed.embed_items_notebook(docs_json, render_items);\n",
       "\n",
       "  }\n",
       "  if (root.Bokeh !== undefined) {\n",
       "    embed_document(root);\n",
       "  } else {\n",
       "    var attempts = 0;\n",
       "    var timer = setInterval(function(root) {\n",
       "      if (root.Bokeh !== undefined) {\n",
       "        embed_document(root);\n",
       "        clearInterval(timer);\n",
       "      }\n",
       "      attempts++;\n",
       "      if (attempts > 100) {\n",
       "        console.log(\"Bokeh: ERROR: Unable to run BokehJS code because BokehJS library is missing\")\n",
       "        clearInterval(timer);\n",
       "      }\n",
       "    }, 10, root)\n",
       "  }\n",
       "})(window);"
      ],
      "application/vnd.bokehjs_exec.v0+json": ""
     },
     "metadata": {
      "application/vnd.bokehjs_exec.v0+json": {
       "id": "30e97178-d0d4-4f96-9a6b-030bc5950935"
      }
     },
     "output_type": "display_data"
    },
    {
     "name": "stdout",
     "output_type": "stream",
     "text": [
      "FIGURE. Cooling rate profiles.\n"
     ]
    },
    {
     "data": {
      "text/html": [
       "<a id=\"Flux_Comparison\"></a>"
      ],
      "text/plain": [
       "<IPython.core.display.HTML object>"
      ]
     },
     "metadata": {},
     "output_type": "display_data"
    },
    {
     "data": {
      "text/markdown": [
       "# Flux Comparison"
      ],
      "text/plain": [
       "<IPython.core.display.Markdown object>"
      ]
     },
     "metadata": {},
     "output_type": "display_data"
    },
    {
     "data": {
      "text/html": [
       "<div>\n",
       "<style scoped>\n",
       "    .dataframe tbody tr th:only-of-type {\n",
       "        vertical-align: middle;\n",
       "    }\n",
       "\n",
       "    .dataframe tbody tr th {\n",
       "        vertical-align: top;\n",
       "    }\n",
       "\n",
       "    .dataframe thead th {\n",
       "        text-align: right;\n",
       "    }\n",
       "</style>\n",
       "<table border=\"1\" class=\"dataframe\">\n",
       "  <thead>\n",
       "    <tr style=\"text-align: right;\">\n",
       "      <th></th>\n",
       "      <th></th>\n",
       "      <th>flug</th>\n",
       "      <th>fldg</th>\n",
       "      <th>fnetg</th>\n",
       "    </tr>\n",
       "    <tr>\n",
       "      <th>pressure</th>\n",
       "      <th>level</th>\n",
       "      <th></th>\n",
       "      <th></th>\n",
       "      <th></th>\n",
       "    </tr>\n",
       "  </thead>\n",
       "  <tbody>\n",
       "    <tr>\n",
       "      <th>0.0000</th>\n",
       "      <th>1</th>\n",
       "      <td>-64.984003</td>\n",
       "      <td>0.000000</td>\n",
       "      <td>-64.984003</td>\n",
       "    </tr>\n",
       "    <tr>\n",
       "      <th>1.0685</th>\n",
       "      <th>24</th>\n",
       "      <td>-64.984179</td>\n",
       "      <td>0.001047</td>\n",
       "      <td>-64.983132</td>\n",
       "    </tr>\n",
       "    <tr>\n",
       "      <th>1013.0000</th>\n",
       "      <th>76</th>\n",
       "      <td>-67.349450</td>\n",
       "      <td>11.625437</td>\n",
       "      <td>-55.724013</td>\n",
       "    </tr>\n",
       "  </tbody>\n",
       "</table>\n",
       "</div>"
      ],
      "text/plain": [
       "                      flug       fldg      fnetg\n",
       "pressure  level                                 \n",
       "0.0000    1     -64.984003   0.000000 -64.984003\n",
       "1.0685    24    -64.984179   0.001047 -64.983132\n",
       "1013.0000 76    -67.349450  11.625437 -55.724013"
      ]
     },
     "metadata": {},
     "output_type": "display_data"
    },
    {
     "name": "stdout",
     "output_type": "stream",
     "text": [
      "Table. Fluxes. CRD\n"
     ]
    },
    {
     "data": {
      "text/html": [
       "<div>\n",
       "<style scoped>\n",
       "    .dataframe tbody tr th:only-of-type {\n",
       "        vertical-align: middle;\n",
       "    }\n",
       "\n",
       "    .dataframe tbody tr th {\n",
       "        vertical-align: top;\n",
       "    }\n",
       "\n",
       "    .dataframe thead th {\n",
       "        text-align: right;\n",
       "    }\n",
       "</style>\n",
       "<table border=\"1\" class=\"dataframe\">\n",
       "  <thead>\n",
       "    <tr style=\"text-align: right;\">\n",
       "      <th></th>\n",
       "      <th></th>\n",
       "      <th>flug</th>\n",
       "      <th>fldg</th>\n",
       "      <th>fnetg</th>\n",
       "    </tr>\n",
       "    <tr>\n",
       "      <th>pressure</th>\n",
       "      <th>level</th>\n",
       "      <th></th>\n",
       "      <th></th>\n",
       "      <th></th>\n",
       "    </tr>\n",
       "  </thead>\n",
       "  <tbody>\n",
       "    <tr>\n",
       "      <th>0.0000</th>\n",
       "      <th>1</th>\n",
       "      <td>-65.019705</td>\n",
       "      <td>0.000000</td>\n",
       "      <td>-65.019705</td>\n",
       "    </tr>\n",
       "    <tr>\n",
       "      <th>1.0685</th>\n",
       "      <th>24</th>\n",
       "      <td>-65.019936</td>\n",
       "      <td>0.000834</td>\n",
       "      <td>-65.019103</td>\n",
       "    </tr>\n",
       "    <tr>\n",
       "      <th>1013.0000</th>\n",
       "      <th>76</th>\n",
       "      <td>-67.349450</td>\n",
       "      <td>11.880538</td>\n",
       "      <td>-55.468912</td>\n",
       "    </tr>\n",
       "  </tbody>\n",
       "</table>\n",
       "</div>"
      ],
      "text/plain": [
       "                      flug       fldg      fnetg\n",
       "pressure  level                                 \n",
       "0.0000    1     -65.019705   0.000000 -65.019705\n",
       "1.0685    24    -65.019936   0.000834 -65.019103\n",
       "1013.0000 76    -67.349450  11.880538 -55.468912"
      ]
     },
     "metadata": {},
     "output_type": "display_data"
    },
    {
     "name": "stdout",
     "output_type": "stream",
     "text": [
      "Table. Fluxes. WGT igg=10 wgt_flux=1\n"
     ]
    },
    {
     "data": {
      "text/html": [
       "<div>\n",
       "<style scoped>\n",
       "    .dataframe tbody tr th:only-of-type {\n",
       "        vertical-align: middle;\n",
       "    }\n",
       "\n",
       "    .dataframe tbody tr th {\n",
       "        vertical-align: top;\n",
       "    }\n",
       "\n",
       "    .dataframe thead th {\n",
       "        text-align: right;\n",
       "    }\n",
       "</style>\n",
       "<table border=\"1\" class=\"dataframe\">\n",
       "  <thead>\n",
       "    <tr style=\"text-align: right;\">\n",
       "      <th></th>\n",
       "      <th></th>\n",
       "      <th>flug</th>\n",
       "      <th>fldg</th>\n",
       "      <th>fnetg</th>\n",
       "    </tr>\n",
       "    <tr>\n",
       "      <th>pressure</th>\n",
       "      <th>level</th>\n",
       "      <th></th>\n",
       "      <th></th>\n",
       "      <th></th>\n",
       "    </tr>\n",
       "  </thead>\n",
       "  <tbody>\n",
       "    <tr>\n",
       "      <th>1.000000e-08</th>\n",
       "      <th>1</th>\n",
       "      <td>-65.022532</td>\n",
       "      <td>1.212097e-07</td>\n",
       "      <td>-65.022532</td>\n",
       "    </tr>\n",
       "    <tr>\n",
       "      <th>1.068500e+00</th>\n",
       "      <th>24</th>\n",
       "      <td>-65.022831</td>\n",
       "      <td>7.683776e-04</td>\n",
       "      <td>-65.022063</td>\n",
       "    </tr>\n",
       "    <tr>\n",
       "      <th>1.013000e+03</th>\n",
       "      <th>76</th>\n",
       "      <td>-67.349450</td>\n",
       "      <td>1.208035e+01</td>\n",
       "      <td>-55.269104</td>\n",
       "    </tr>\n",
       "  </tbody>\n",
       "</table>\n",
       "</div>"
      ],
      "text/plain": [
       "                         flug          fldg      fnetg\n",
       "pressure     level                                    \n",
       "1.000000e-08 1     -65.022532  1.212097e-07 -65.022532\n",
       "1.068500e+00 24    -65.022831  7.683776e-04 -65.022063\n",
       "1.013000e+03 76    -67.349450  1.208035e+01 -55.269104"
      ]
     },
     "metadata": {},
     "output_type": "display_data"
    },
    {
     "name": "stdout",
     "output_type": "stream",
     "text": [
      "Table. Fluxes. CLIRAD\n"
     ]
    },
    {
     "data": {
      "text/html": [
       "<div>\n",
       "<style scoped>\n",
       "    .dataframe tbody tr th:only-of-type {\n",
       "        vertical-align: middle;\n",
       "    }\n",
       "\n",
       "    .dataframe tbody tr th {\n",
       "        vertical-align: top;\n",
       "    }\n",
       "\n",
       "    .dataframe thead th {\n",
       "        text-align: right;\n",
       "    }\n",
       "</style>\n",
       "<table border=\"1\" class=\"dataframe\">\n",
       "  <thead>\n",
       "    <tr style=\"text-align: right;\">\n",
       "      <th></th>\n",
       "      <th></th>\n",
       "      <th>flug</th>\n",
       "      <th>fldg</th>\n",
       "      <th>fnetg</th>\n",
       "    </tr>\n",
       "    <tr>\n",
       "      <th>pressure</th>\n",
       "      <th>level</th>\n",
       "      <th></th>\n",
       "      <th></th>\n",
       "      <th></th>\n",
       "    </tr>\n",
       "  </thead>\n",
       "  <tbody>\n",
       "    <tr>\n",
       "      <th>0.0000</th>\n",
       "      <th>1</th>\n",
       "      <td>-0.035702</td>\n",
       "      <td>0.000000</td>\n",
       "      <td>-0.035702</td>\n",
       "    </tr>\n",
       "    <tr>\n",
       "      <th>1.0685</th>\n",
       "      <th>24</th>\n",
       "      <td>-0.035757</td>\n",
       "      <td>-0.000213</td>\n",
       "      <td>-0.035971</td>\n",
       "    </tr>\n",
       "    <tr>\n",
       "      <th>1013.0000</th>\n",
       "      <th>76</th>\n",
       "      <td>0.000000</td>\n",
       "      <td>0.255101</td>\n",
       "      <td>0.255101</td>\n",
       "    </tr>\n",
       "  </tbody>\n",
       "</table>\n",
       "</div>"
      ],
      "text/plain": [
       "                     flug      fldg     fnetg\n",
       "pressure  level                              \n",
       "0.0000    1     -0.035702  0.000000 -0.035702\n",
       "1.0685    24    -0.035757 -0.000213 -0.035971\n",
       "1013.0000 76     0.000000  0.255101  0.255101"
      ]
     },
     "metadata": {},
     "output_type": "display_data"
    },
    {
     "name": "stdout",
     "output_type": "stream",
     "text": [
      "Table. Fluxes. (WGT igg=10 wgt_flux=1) - (CRD)\n"
     ]
    },
    {
     "data": {
      "text/html": [
       "<div>\n",
       "<style scoped>\n",
       "    .dataframe tbody tr th:only-of-type {\n",
       "        vertical-align: middle;\n",
       "    }\n",
       "\n",
       "    .dataframe tbody tr th {\n",
       "        vertical-align: top;\n",
       "    }\n",
       "\n",
       "    .dataframe thead th {\n",
       "        text-align: right;\n",
       "    }\n",
       "</style>\n",
       "<table border=\"1\" class=\"dataframe\">\n",
       "  <thead>\n",
       "    <tr style=\"text-align: right;\">\n",
       "      <th></th>\n",
       "      <th></th>\n",
       "      <th>flug</th>\n",
       "      <th>fldg</th>\n",
       "      <th>fnetg</th>\n",
       "    </tr>\n",
       "    <tr>\n",
       "      <th>pressure</th>\n",
       "      <th>level</th>\n",
       "      <th></th>\n",
       "      <th></th>\n",
       "      <th></th>\n",
       "    </tr>\n",
       "  </thead>\n",
       "  <tbody>\n",
       "    <tr>\n",
       "      <th>0.0000</th>\n",
       "      <th>1</th>\n",
       "      <td>-0.038529</td>\n",
       "      <td>1.212097e-07</td>\n",
       "      <td>-0.038529</td>\n",
       "    </tr>\n",
       "    <tr>\n",
       "      <th>1.0685</th>\n",
       "      <th>24</th>\n",
       "      <td>-0.038652</td>\n",
       "      <td>-2.786378e-04</td>\n",
       "      <td>-0.038931</td>\n",
       "    </tr>\n",
       "    <tr>\n",
       "      <th>1013.0000</th>\n",
       "      <th>76</th>\n",
       "      <td>0.000000</td>\n",
       "      <td>4.549090e-01</td>\n",
       "      <td>0.454909</td>\n",
       "    </tr>\n",
       "  </tbody>\n",
       "</table>\n",
       "</div>"
      ],
      "text/plain": [
       "                     flug          fldg     fnetg\n",
       "pressure  level                                  \n",
       "0.0000    1     -0.038529  1.212097e-07 -0.038529\n",
       "1.0685    24    -0.038652 -2.786378e-04 -0.038931\n",
       "1013.0000 76     0.000000  4.549090e-01  0.454909"
      ]
     },
     "metadata": {},
     "output_type": "display_data"
    },
    {
     "name": "stdout",
     "output_type": "stream",
     "text": [
      "Table. Fluxes. (CLIRAD) - (CRD)\n"
     ]
    },
    {
     "data": {
      "text/html": [
       "<a id=\"Best-fit_Parameters\"></a>"
      ],
      "text/plain": [
       "<IPython.core.display.HTML object>"
      ]
     },
     "metadata": {},
     "output_type": "display_data"
    },
    {
     "data": {
      "text/markdown": [
       "# Best-fit Parameters"
      ],
      "text/plain": [
       "<IPython.core.display.Markdown object>"
      ]
     },
     "metadata": {},
     "output_type": "display_data"
    },
    {
     "name": "stdout",
     "output_type": "stream",
     "text": [
      "Best-fit values for each (gas, band)\n",
      "------------------------------------\n",
      "o h2o band4\n",
      "  atmpro = mls\n",
      "  band = 4\n",
      "  commitnumber = a06b618\n",
      "  conc = None\n",
      "  dv = 0.001\n",
      "  klin = 1e-24\n",
      "  molecule = h2o\n",
      "  ng_adju = [0]\n",
      "  ng_refs = [3]\n",
      "  nv = 1000\n",
      "  option_compute_btable = 0\n",
      "  option_compute_ktable = 1\n",
      "  option_wgt_flux = 1\n",
      "  option_wgt_k = 1\n",
      "  ref_pts = [(600, 250)]\n",
      "  tsfc = 294\n",
      "  vmax = 980\n",
      "  vmin = 800\n",
      "  w_diffuse = [(1.66, 1.66, 1.85)]\n",
      "  wgt = [(0.5, 0.55, 0.85)]\n",
      "o co2 band4\n",
      "  atmpro = mls\n",
      "  band = 4\n",
      "  commitnumber = a06b618\n",
      "  conc = 0.0004\n",
      "  dv = 0.001\n",
      "  klin = 6.5e-24\n",
      "  molecule = co2\n",
      "  ng_adju = [0, 0]\n",
      "  ng_refs = [1, 2]\n",
      "  nv = 1000\n",
      "  option_compute_btable = 0\n",
      "  option_compute_ktable = 1\n",
      "  option_wgt_flux = 1\n",
      "  option_wgt_k = 1\n",
      "  ref_pts = [(1, 250), (500, 250)]\n",
      "  tsfc = 294\n",
      "  vmax = 980\n",
      "  vmin = 800\n",
      "  w_diffuse = [(1.75,), (1.66, 1.9)]\n",
      "  wgt = [(0.75,), (0.75, 0.95)]\n"
     ]
    }
   ],
   "source": [
    "script()"
   ]
  },
  {
   "cell_type": "code",
   "execution_count": 13,
   "metadata": {
    "collapsed": true
   },
   "outputs": [
    {
     "data": {
      "text/html": [
       "<script>\n",
       "code_show=true; \n",
       "function code_toggle() {\n",
       " if (code_show){\n",
       " $('div.input').hide();\n",
       " } else {\n",
       " $('div.input').show();\n",
       " }\n",
       " code_show = !code_show\n",
       "} \n",
       "$( document ).ready(code_toggle);\n",
       "</script>\n",
       "<form action=\"javascript:code_toggle()\"><input type=\"submit\" value=\"Click here to toggle on/off the raw code.\"></form>"
      ],
      "text/plain": [
       "<IPython.core.display.HTML object>"
      ]
     },
     "execution_count": 13,
     "metadata": {},
     "output_type": "execute_result"
    }
   ],
   "source": [
    "display.HTML('''<script>\n",
    "code_show=true; \n",
    "function code_toggle() {\n",
    " if (code_show){\n",
    " $('div.input').hide();\n",
    " } else {\n",
    " $('div.input').show();\n",
    " }\n",
    " code_show = !code_show\n",
    "} \n",
    "$( document ).ready(code_toggle);\n",
    "</script>\n",
    "<form action=\"javascript:code_toggle()\"><input type=\"submit\" value=\"Click here to toggle on/off the raw code.\"></form>''')"
   ]
  }
 ],
 "metadata": {
  "kernelspec": {
   "display_name": "Python 3",
   "language": "python",
   "name": "python3"
  },
  "language_info": {
   "codemirror_mode": {
    "name": "ipython",
    "version": 3
   },
   "file_extension": ".py",
   "mimetype": "text/x-python",
   "name": "python",
   "nbconvert_exporter": "python",
   "pygments_lexer": "ipython3",
   "version": "3.6.1"
  }
 },
 "nbformat": 4,
 "nbformat_minor": 2
}
