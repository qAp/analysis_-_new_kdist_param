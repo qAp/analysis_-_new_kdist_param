{
 "cells": [
  {
   "cell_type": "code",
   "execution_count": 1,
   "metadata": {
    "collapsed": true
   },
   "outputs": [],
   "source": [
    "%matplotlib inline\n",
    "import os\n",
    "import re\n",
    "import io\n",
    "import itertools\n",
    "import pprint\n",
    "\n",
    "from bokeh.io import output_notebook, show\n",
    "from bokeh.layouts import gridplot\n",
    "from bokeh.plotting import figure\n",
    "from bokeh.models import Range1d, Legend\n",
    "from bokeh.palettes import all_palettes\n",
    "\n",
    "import matplotlib\n",
    "import matplotlib.pyplot as plt\n",
    "import numpy as np\n",
    "import pandas as pd\n",
    "import xarray as xr\n",
    "\n",
    "import climatools.lblnew.bestfit_params as bestfits\n",
    "from climatools.lblnew import setup_bestfit, setup_overlap\n",
    "import climatools.lblnew.pipeline as pipe_lblnew\n",
    "import climatools.cliradlw.setup as setup_cliradlw\n",
    "import climatools.cliradlw.pipeline as pipe_cliradlw\n",
    "\n",
    "import climatools.html.html as climahtml\n",
    "from climatools.lblnew.dataio import *\n",
    "from climatools.plot.plot import *\n",
    "\n",
    "\n",
    "import IPython.display as display"
   ]
  },
  {
   "cell_type": "code",
   "execution_count": 2,
   "metadata": {
    "collapsed": true
   },
   "outputs": [],
   "source": [
    "%run param.py"
   ]
  },
  {
   "cell_type": "code",
   "execution_count": 3,
   "metadata": {
    "collapsed": true
   },
   "outputs": [
    {
     "name": "stdout",
     "output_type": "stream",
     "text": [
      "The history saving thread hit an unexpected error (OperationalError('database is locked',)).History will not be written to the database.\n"
     ]
    }
   ],
   "source": [
    "def load_output_file(path_csv):\n",
    "    '''\n",
    "    Load lblnew output .csv file to xarray.Dataset\n",
    "    \n",
    "    Parameters\n",
    "    ----------\n",
    "    path_csv: str\n",
    "              Path to the .csv file to be loaded.\n",
    "    ds: xarray.Dataset\n",
    "        Data in the input file in the form of an xarray.Dataset.\n",
    "    '''\n",
    "    toindex = ['band', 'pressure', 'igg', 'g']    \n",
    "    df = pd.read_csv(path_csv, sep=r'\\s+')\n",
    "    df = df.set_index([i for i in toindex if i in df.columns])\n",
    "    df = df.rename(columns={'sfu': 'flug',\n",
    "                            'sfd': 'fldg',\n",
    "                            'fnet': 'fnetg',\n",
    "                            'coolr': 'coolrg'})\n",
    "    ds = xr.Dataset.from_dataframe(df)\n",
    "\n",
    "    for l in ('level', 'layer'):\n",
    "        if l in ds.data_vars:\n",
    "            if len(ds[l].dims) > 1:\n",
    "                surface = {d: 0 for d in ds.dims if d != 'pressure'}\n",
    "                coord_level = ds[l][surface]\n",
    "                ds.coords[l] = ('pressure', coord_level)\n",
    "            else:\n",
    "                ds.coords[l] = ('pressure', ds[l])\n",
    "    \n",
    "    return ds"
   ]
  },
  {
   "cell_type": "code",
   "execution_count": 4,
   "metadata": {
    "collapsed": true
   },
   "outputs": [],
   "source": [
    "def lblnew_setup(param=None):\n",
    "    if 'ng_refs' in param:\n",
    "        return {'setup': setup_bestfit,\n",
    "                'fname_flux_crd': 'output_flux.dat',\n",
    "                'fname_cool_crd': 'output_coolr.dat',\n",
    "                'fname_flux_wgt': 'output_wfluxg.dat',\n",
    "                'fname_cool_wgt': 'output_wcoolrg.dat'}\n",
    "    else:\n",
    "        return {'setup': setup_overlap,\n",
    "                'fname_flux_crd': 'output_flux.dat',\n",
    "                'fname_cool_crd': 'output_coolr.dat',\n",
    "                'fname_flux_wgt': 'output_wflux.dat',\n",
    "                'fname_cool_wgt': 'output_wcoolr.dat'}\n",
    "\n",
    "    \n",
    "def load_lblnew_data(param):\n",
    "    \n",
    "    fname_dsname = [('fname_flux_crd', 'ds_flux_crd'),\n",
    "                    ('fname_cool_crd', 'ds_cool_crd'),\n",
    "                    ('fname_flux_wgt', 'ds_flux_wgt'),\n",
    "                    ('fname_cool_wgt', 'ds_cool_wgt')]\n",
    "    \n",
    "    d = lblnew_setup(param)\n",
    "    dir_fortran = pipe_lblnew.get_dir_case(param, setup=d['setup'])\n",
    "    \n",
    "    data_dict = {}\n",
    "    for fname, dsname in fname_dsname:\n",
    "        fpath = os.path.join(dir_fortran, d[fname])\n",
    "        data_dict[dsname] = load_output_file(fpath)\n",
    "    return data_dict\n",
    "    \n",
    "\n",
    "    \n",
    "    "
   ]
  },
  {
   "cell_type": "code",
   "execution_count": 5,
   "metadata": {
    "collapsed": true
   },
   "outputs": [],
   "source": [
    "d = load_lblnew_data(PARAM_LBLNEW)\n",
    "\n",
    "DS_FLUX_CRD = d['ds_flux_crd']\n",
    "DS_COOL_CRD = d['ds_cool_crd']\n",
    "DS_FLUX_WGT = d['ds_flux_wgt']\n",
    "DS_COOL_WGT = d['ds_cool_wgt']"
   ]
  },
  {
   "cell_type": "code",
   "execution_count": 6,
   "metadata": {
    "collapsed": true
   },
   "outputs": [],
   "source": [
    "DIR_FORTRAN = pipe_cliradlw.get_fortran_dir(PARAM, \n",
    "                                            setup=setup_cliradlw)\n",
    "\n",
    "PATH_FLUX = os.path.join(DIR_FORTRAN, 'output_flux.dat')\n",
    "PATH_COOL = os.path.join(DIR_FORTRAN, 'output_coolr.dat')\n",
    "\n",
    "DS_FLUX = load_output_file(PATH_FLUX)\n",
    "DS_COOL = load_output_file(PATH_COOL)"
   ]
  },
  {
   "cell_type": "code",
   "execution_count": 7,
   "metadata": {
    "collapsed": true
   },
   "outputs": [
    {
     "data": {
      "text/html": [
       "\n",
       "    <div class=\"bk-root\">\n",
       "        <a href=\"https://bokeh.pydata.org\" target=\"_blank\" class=\"bk-logo bk-logo-small bk-logo-notebook\"></a>\n",
       "        <span id=\"a2325e85-8748-40b8-a212-6a960dcd7220\">Loading BokehJS ...</span>\n",
       "    </div>"
      ]
     },
     "metadata": {},
     "output_type": "display_data"
    },
    {
     "data": {
      "application/javascript": [
       "\n",
       "(function(root) {\n",
       "  function now() {\n",
       "    return new Date();\n",
       "  }\n",
       "\n",
       "  var force = true;\n",
       "\n",
       "  if (typeof (root._bokeh_onload_callbacks) === \"undefined\" || force === true) {\n",
       "    root._bokeh_onload_callbacks = [];\n",
       "    root._bokeh_is_loading = undefined;\n",
       "  }\n",
       "\n",
       "  var JS_MIME_TYPE = 'application/javascript';\n",
       "  var HTML_MIME_TYPE = 'text/html';\n",
       "  var EXEC_MIME_TYPE = 'application/vnd.bokehjs_exec.v0+json';\n",
       "  var CLASS_NAME = 'output_bokeh rendered_html';\n",
       "\n",
       "  /**\n",
       "   * Render data to the DOM node\n",
       "   */\n",
       "  function render(props, node) {\n",
       "    var script = document.createElement(\"script\");\n",
       "    node.appendChild(script);\n",
       "  }\n",
       "\n",
       "  /**\n",
       "   * Handle when an output is cleared or removed\n",
       "   */\n",
       "  function handleClearOutput(event, handle) {\n",
       "    var cell = handle.cell;\n",
       "\n",
       "    var id = cell.output_area._bokeh_element_id;\n",
       "    var server_id = cell.output_area._bokeh_server_id;\n",
       "    // Clean up Bokeh references\n",
       "    if (id !== undefined) {\n",
       "      Bokeh.index[id].model.document.clear();\n",
       "      delete Bokeh.index[id];\n",
       "    }\n",
       "\n",
       "    if (server_id !== undefined) {\n",
       "      // Clean up Bokeh references\n",
       "      var cmd = \"from bokeh.io.state import curstate; print(curstate().uuid_to_server['\" + server_id + \"'].get_sessions()[0].document.roots[0]._id)\";\n",
       "      cell.notebook.kernel.execute(cmd, {\n",
       "        iopub: {\n",
       "          output: function(msg) {\n",
       "            var element_id = msg.content.text.trim();\n",
       "            Bokeh.index[element_id].model.document.clear();\n",
       "            delete Bokeh.index[element_id];\n",
       "          }\n",
       "        }\n",
       "      });\n",
       "      // Destroy server and session\n",
       "      var cmd = \"import bokeh.io.notebook as ion; ion.destroy_server('\" + server_id + \"')\";\n",
       "      cell.notebook.kernel.execute(cmd);\n",
       "    }\n",
       "  }\n",
       "\n",
       "  /**\n",
       "   * Handle when a new output is added\n",
       "   */\n",
       "  function handleAddOutput(event, handle) {\n",
       "    var output_area = handle.output_area;\n",
       "    var output = handle.output;\n",
       "\n",
       "    // limit handleAddOutput to display_data with EXEC_MIME_TYPE content only\n",
       "    if ((output.output_type != \"display_data\") || (!output.data.hasOwnProperty(EXEC_MIME_TYPE))) {\n",
       "      return\n",
       "    }\n",
       "\n",
       "    var toinsert = output_area.element.find(\".\" + CLASS_NAME.split(' ')[0]);\n",
       "\n",
       "    if (output.metadata[EXEC_MIME_TYPE][\"id\"] !== undefined) {\n",
       "      toinsert[toinsert.length - 1].firstChild.textContent = output.data[JS_MIME_TYPE];\n",
       "      // store reference to embed id on output_area\n",
       "      output_area._bokeh_element_id = output.metadata[EXEC_MIME_TYPE][\"id\"];\n",
       "    }\n",
       "    if (output.metadata[EXEC_MIME_TYPE][\"server_id\"] !== undefined) {\n",
       "      var bk_div = document.createElement(\"div\");\n",
       "      bk_div.innerHTML = output.data[HTML_MIME_TYPE];\n",
       "      var script_attrs = bk_div.children[0].attributes;\n",
       "      for (var i = 0; i < script_attrs.length; i++) {\n",
       "        toinsert[toinsert.length - 1].firstChild.setAttribute(script_attrs[i].name, script_attrs[i].value);\n",
       "      }\n",
       "      // store reference to server id on output_area\n",
       "      output_area._bokeh_server_id = output.metadata[EXEC_MIME_TYPE][\"server_id\"];\n",
       "    }\n",
       "  }\n",
       "\n",
       "  function register_renderer(events, OutputArea) {\n",
       "\n",
       "    function append_mime(data, metadata, element) {\n",
       "      // create a DOM node to render to\n",
       "      var toinsert = this.create_output_subarea(\n",
       "        metadata,\n",
       "        CLASS_NAME,\n",
       "        EXEC_MIME_TYPE\n",
       "      );\n",
       "      this.keyboard_manager.register_events(toinsert);\n",
       "      // Render to node\n",
       "      var props = {data: data, metadata: metadata[EXEC_MIME_TYPE]};\n",
       "      render(props, toinsert[toinsert.length - 1]);\n",
       "      element.append(toinsert);\n",
       "      return toinsert\n",
       "    }\n",
       "\n",
       "    /* Handle when an output is cleared or removed */\n",
       "    events.on('clear_output.CodeCell', handleClearOutput);\n",
       "    events.on('delete.Cell', handleClearOutput);\n",
       "\n",
       "    /* Handle when a new output is added */\n",
       "    events.on('output_added.OutputArea', handleAddOutput);\n",
       "\n",
       "    /**\n",
       "     * Register the mime type and append_mime function with output_area\n",
       "     */\n",
       "    OutputArea.prototype.register_mime_type(EXEC_MIME_TYPE, append_mime, {\n",
       "      /* Is output safe? */\n",
       "      safe: true,\n",
       "      /* Index of renderer in `output_area.display_order` */\n",
       "      index: 0\n",
       "    });\n",
       "  }\n",
       "\n",
       "  // register the mime type if in Jupyter Notebook environment and previously unregistered\n",
       "  if (root.Jupyter !== undefined) {\n",
       "    var events = require('base/js/events');\n",
       "    var OutputArea = require('notebook/js/outputarea').OutputArea;\n",
       "\n",
       "    if (OutputArea.prototype.mime_types().indexOf(EXEC_MIME_TYPE) == -1) {\n",
       "      register_renderer(events, OutputArea);\n",
       "    }\n",
       "  }\n",
       "\n",
       "  \n",
       "  if (typeof (root._bokeh_timeout) === \"undefined\" || force === true) {\n",
       "    root._bokeh_timeout = Date.now() + 5000;\n",
       "    root._bokeh_failed_load = false;\n",
       "  }\n",
       "\n",
       "  var NB_LOAD_WARNING = {'data': {'text/html':\n",
       "     \"<div style='background-color: #fdd'>\\n\"+\n",
       "     \"<p>\\n\"+\n",
       "     \"BokehJS does not appear to have successfully loaded. If loading BokehJS from CDN, this \\n\"+\n",
       "     \"may be due to a slow or bad network connection. Possible fixes:\\n\"+\n",
       "     \"</p>\\n\"+\n",
       "     \"<ul>\\n\"+\n",
       "     \"<li>re-rerun `output_notebook()` to attempt to load from CDN again, or</li>\\n\"+\n",
       "     \"<li>use INLINE resources instead, as so:</li>\\n\"+\n",
       "     \"</ul>\\n\"+\n",
       "     \"<code>\\n\"+\n",
       "     \"from bokeh.resources import INLINE\\n\"+\n",
       "     \"output_notebook(resources=INLINE)\\n\"+\n",
       "     \"</code>\\n\"+\n",
       "     \"</div>\"}};\n",
       "\n",
       "  function display_loaded() {\n",
       "    var el = document.getElementById(\"a2325e85-8748-40b8-a212-6a960dcd7220\");\n",
       "    if (el != null) {\n",
       "      el.textContent = \"BokehJS is loading...\";\n",
       "    }\n",
       "    if (root.Bokeh !== undefined) {\n",
       "      if (el != null) {\n",
       "        el.textContent = \"BokehJS \" + root.Bokeh.version + \" successfully loaded.\";\n",
       "      }\n",
       "    } else if (Date.now() < root._bokeh_timeout) {\n",
       "      setTimeout(display_loaded, 100)\n",
       "    }\n",
       "  }\n",
       "\n",
       "\n",
       "  function run_callbacks() {\n",
       "    try {\n",
       "      root._bokeh_onload_callbacks.forEach(function(callback) { callback() });\n",
       "    }\n",
       "    finally {\n",
       "      delete root._bokeh_onload_callbacks\n",
       "    }\n",
       "    console.info(\"Bokeh: all callbacks have finished\");\n",
       "  }\n",
       "\n",
       "  function load_libs(js_urls, callback) {\n",
       "    root._bokeh_onload_callbacks.push(callback);\n",
       "    if (root._bokeh_is_loading > 0) {\n",
       "      console.log(\"Bokeh: BokehJS is being loaded, scheduling callback at\", now());\n",
       "      return null;\n",
       "    }\n",
       "    if (js_urls == null || js_urls.length === 0) {\n",
       "      run_callbacks();\n",
       "      return null;\n",
       "    }\n",
       "    console.log(\"Bokeh: BokehJS not loaded, scheduling load and callback at\", now());\n",
       "    root._bokeh_is_loading = js_urls.length;\n",
       "    for (var i = 0; i < js_urls.length; i++) {\n",
       "      var url = js_urls[i];\n",
       "      var s = document.createElement('script');\n",
       "      s.src = url;\n",
       "      s.async = false;\n",
       "      s.onreadystatechange = s.onload = function() {\n",
       "        root._bokeh_is_loading--;\n",
       "        if (root._bokeh_is_loading === 0) {\n",
       "          console.log(\"Bokeh: all BokehJS libraries loaded\");\n",
       "          run_callbacks()\n",
       "        }\n",
       "      };\n",
       "      s.onerror = function() {\n",
       "        console.warn(\"failed to load library \" + url);\n",
       "      };\n",
       "      console.log(\"Bokeh: injecting script tag for BokehJS library: \", url);\n",
       "      document.getElementsByTagName(\"head\")[0].appendChild(s);\n",
       "    }\n",
       "  };var element = document.getElementById(\"a2325e85-8748-40b8-a212-6a960dcd7220\");\n",
       "  if (element == null) {\n",
       "    console.log(\"Bokeh: ERROR: autoload.js configured with elementid 'a2325e85-8748-40b8-a212-6a960dcd7220' but no matching script tag was found. \")\n",
       "    return false;\n",
       "  }\n",
       "\n",
       "  var js_urls = [\"https://cdn.pydata.org/bokeh/release/bokeh-0.12.16.min.js\", \"https://cdn.pydata.org/bokeh/release/bokeh-widgets-0.12.16.min.js\", \"https://cdn.pydata.org/bokeh/release/bokeh-tables-0.12.16.min.js\", \"https://cdn.pydata.org/bokeh/release/bokeh-gl-0.12.16.min.js\"];\n",
       "\n",
       "  var inline_js = [\n",
       "    function(Bokeh) {\n",
       "      Bokeh.set_log_level(\"info\");\n",
       "    },\n",
       "    \n",
       "    function(Bokeh) {\n",
       "      \n",
       "    },\n",
       "    function(Bokeh) {\n",
       "      console.log(\"Bokeh: injecting CSS: https://cdn.pydata.org/bokeh/release/bokeh-0.12.16.min.css\");\n",
       "      Bokeh.embed.inject_css(\"https://cdn.pydata.org/bokeh/release/bokeh-0.12.16.min.css\");\n",
       "      console.log(\"Bokeh: injecting CSS: https://cdn.pydata.org/bokeh/release/bokeh-widgets-0.12.16.min.css\");\n",
       "      Bokeh.embed.inject_css(\"https://cdn.pydata.org/bokeh/release/bokeh-widgets-0.12.16.min.css\");\n",
       "      console.log(\"Bokeh: injecting CSS: https://cdn.pydata.org/bokeh/release/bokeh-tables-0.12.16.min.css\");\n",
       "      Bokeh.embed.inject_css(\"https://cdn.pydata.org/bokeh/release/bokeh-tables-0.12.16.min.css\");\n",
       "    }\n",
       "  ];\n",
       "\n",
       "  function run_inline_js() {\n",
       "    \n",
       "    if ((root.Bokeh !== undefined) || (force === true)) {\n",
       "      for (var i = 0; i < inline_js.length; i++) {\n",
       "        inline_js[i].call(root, root.Bokeh);\n",
       "      }if (force === true) {\n",
       "        display_loaded();\n",
       "      }} else if (Date.now() < root._bokeh_timeout) {\n",
       "      setTimeout(run_inline_js, 100);\n",
       "    } else if (!root._bokeh_failed_load) {\n",
       "      console.log(\"Bokeh: BokehJS failed to load within specified timeout.\");\n",
       "      root._bokeh_failed_load = true;\n",
       "    } else if (force !== true) {\n",
       "      var cell = $(document.getElementById(\"a2325e85-8748-40b8-a212-6a960dcd7220\")).parents('.cell').data().cell;\n",
       "      cell.output_area.append_execute_result(NB_LOAD_WARNING)\n",
       "    }\n",
       "\n",
       "  }\n",
       "\n",
       "  if (root._bokeh_is_loading === 0) {\n",
       "    console.log(\"Bokeh: BokehJS loaded, going straight to plotting\");\n",
       "    run_inline_js();\n",
       "  } else {\n",
       "    load_libs(js_urls, function() {\n",
       "      console.log(\"Bokeh: BokehJS plotting callback run at\", now());\n",
       "      run_inline_js();\n",
       "    });\n",
       "  }\n",
       "}(window));"
      ],
      "application/vnd.bokehjs_load.v0+json": "\n(function(root) {\n  function now() {\n    return new Date();\n  }\n\n  var force = true;\n\n  if (typeof (root._bokeh_onload_callbacks) === \"undefined\" || force === true) {\n    root._bokeh_onload_callbacks = [];\n    root._bokeh_is_loading = undefined;\n  }\n\n  \n\n  \n  if (typeof (root._bokeh_timeout) === \"undefined\" || force === true) {\n    root._bokeh_timeout = Date.now() + 5000;\n    root._bokeh_failed_load = false;\n  }\n\n  var NB_LOAD_WARNING = {'data': {'text/html':\n     \"<div style='background-color: #fdd'>\\n\"+\n     \"<p>\\n\"+\n     \"BokehJS does not appear to have successfully loaded. If loading BokehJS from CDN, this \\n\"+\n     \"may be due to a slow or bad network connection. Possible fixes:\\n\"+\n     \"</p>\\n\"+\n     \"<ul>\\n\"+\n     \"<li>re-rerun `output_notebook()` to attempt to load from CDN again, or</li>\\n\"+\n     \"<li>use INLINE resources instead, as so:</li>\\n\"+\n     \"</ul>\\n\"+\n     \"<code>\\n\"+\n     \"from bokeh.resources import INLINE\\n\"+\n     \"output_notebook(resources=INLINE)\\n\"+\n     \"</code>\\n\"+\n     \"</div>\"}};\n\n  function display_loaded() {\n    var el = document.getElementById(\"a2325e85-8748-40b8-a212-6a960dcd7220\");\n    if (el != null) {\n      el.textContent = \"BokehJS is loading...\";\n    }\n    if (root.Bokeh !== undefined) {\n      if (el != null) {\n        el.textContent = \"BokehJS \" + root.Bokeh.version + \" successfully loaded.\";\n      }\n    } else if (Date.now() < root._bokeh_timeout) {\n      setTimeout(display_loaded, 100)\n    }\n  }\n\n\n  function run_callbacks() {\n    try {\n      root._bokeh_onload_callbacks.forEach(function(callback) { callback() });\n    }\n    finally {\n      delete root._bokeh_onload_callbacks\n    }\n    console.info(\"Bokeh: all callbacks have finished\");\n  }\n\n  function load_libs(js_urls, callback) {\n    root._bokeh_onload_callbacks.push(callback);\n    if (root._bokeh_is_loading > 0) {\n      console.log(\"Bokeh: BokehJS is being loaded, scheduling callback at\", now());\n      return null;\n    }\n    if (js_urls == null || js_urls.length === 0) {\n      run_callbacks();\n      return null;\n    }\n    console.log(\"Bokeh: BokehJS not loaded, scheduling load and callback at\", now());\n    root._bokeh_is_loading = js_urls.length;\n    for (var i = 0; i < js_urls.length; i++) {\n      var url = js_urls[i];\n      var s = document.createElement('script');\n      s.src = url;\n      s.async = false;\n      s.onreadystatechange = s.onload = function() {\n        root._bokeh_is_loading--;\n        if (root._bokeh_is_loading === 0) {\n          console.log(\"Bokeh: all BokehJS libraries loaded\");\n          run_callbacks()\n        }\n      };\n      s.onerror = function() {\n        console.warn(\"failed to load library \" + url);\n      };\n      console.log(\"Bokeh: injecting script tag for BokehJS library: \", url);\n      document.getElementsByTagName(\"head\")[0].appendChild(s);\n    }\n  };var element = document.getElementById(\"a2325e85-8748-40b8-a212-6a960dcd7220\");\n  if (element == null) {\n    console.log(\"Bokeh: ERROR: autoload.js configured with elementid 'a2325e85-8748-40b8-a212-6a960dcd7220' but no matching script tag was found. \")\n    return false;\n  }\n\n  var js_urls = [\"https://cdn.pydata.org/bokeh/release/bokeh-0.12.16.min.js\", \"https://cdn.pydata.org/bokeh/release/bokeh-widgets-0.12.16.min.js\", \"https://cdn.pydata.org/bokeh/release/bokeh-tables-0.12.16.min.js\", \"https://cdn.pydata.org/bokeh/release/bokeh-gl-0.12.16.min.js\"];\n\n  var inline_js = [\n    function(Bokeh) {\n      Bokeh.set_log_level(\"info\");\n    },\n    \n    function(Bokeh) {\n      \n    },\n    function(Bokeh) {\n      console.log(\"Bokeh: injecting CSS: https://cdn.pydata.org/bokeh/release/bokeh-0.12.16.min.css\");\n      Bokeh.embed.inject_css(\"https://cdn.pydata.org/bokeh/release/bokeh-0.12.16.min.css\");\n      console.log(\"Bokeh: injecting CSS: https://cdn.pydata.org/bokeh/release/bokeh-widgets-0.12.16.min.css\");\n      Bokeh.embed.inject_css(\"https://cdn.pydata.org/bokeh/release/bokeh-widgets-0.12.16.min.css\");\n      console.log(\"Bokeh: injecting CSS: https://cdn.pydata.org/bokeh/release/bokeh-tables-0.12.16.min.css\");\n      Bokeh.embed.inject_css(\"https://cdn.pydata.org/bokeh/release/bokeh-tables-0.12.16.min.css\");\n    }\n  ];\n\n  function run_inline_js() {\n    \n    if ((root.Bokeh !== undefined) || (force === true)) {\n      for (var i = 0; i < inline_js.length; i++) {\n        inline_js[i].call(root, root.Bokeh);\n      }if (force === true) {\n        display_loaded();\n      }} else if (Date.now() < root._bokeh_timeout) {\n      setTimeout(run_inline_js, 100);\n    } else if (!root._bokeh_failed_load) {\n      console.log(\"Bokeh: BokehJS failed to load within specified timeout.\");\n      root._bokeh_failed_load = true;\n    } else if (force !== true) {\n      var cell = $(document.getElementById(\"a2325e85-8748-40b8-a212-6a960dcd7220\")).parents('.cell').data().cell;\n      cell.output_area.append_execute_result(NB_LOAD_WARNING)\n    }\n\n  }\n\n  if (root._bokeh_is_loading === 0) {\n    console.log(\"Bokeh: BokehJS loaded, going straight to plotting\");\n    run_inline_js();\n  } else {\n    load_libs(js_urls, function() {\n      console.log(\"Bokeh: BokehJS plotting callback run at\", now());\n      run_inline_js();\n    });\n  }\n}(window));"
     },
     "metadata": {},
     "output_type": "display_data"
    }
   ],
   "source": [
    "output_notebook()"
   ]
  },
  {
   "cell_type": "code",
   "execution_count": 8,
   "metadata": {
    "collapsed": true
   },
   "outputs": [],
   "source": [
    "def fmt_cool(ds_in):\n",
    "    ds = ds_in.copy(deep=True)\n",
    "    if 'igg' in ds.dims:\n",
    "        ds = ds.sel(igg=1)\n",
    "\n",
    "    if 'g' in ds.dims:\n",
    "        ds = ds.sum('g')\n",
    "            \n",
    "    if 'band' in ds.dims:\n",
    "        try:\n",
    "            ds = ds.squeeze('band')\n",
    "        except ValueError:\n",
    "            ds = ds.sum('band')\n",
    "                \n",
    "    return ds['coolrg']\n",
    "\n",
    "\n",
    "def pltdata_cooling_1(ds_cool=None,\n",
    "                      ds_cool_crd=None, ds_cool_wgt=None):\n",
    "    \n",
    "\n",
    "\n",
    "    colors = all_palettes['Set1'][4]\n",
    "    data = [{'label': 'CLIRAD `coolr_bands`',\n",
    "             'srs': fmt_cool(ds_cool),\n",
    "             'line_dash': 'dashed', 'line_width': 5,\n",
    "             'color': colors[0], 'alpha': .6},\n",
    "            {'label': 'CRD',\n",
    "             'srs': fmt_cool(ds_cool_crd),\n",
    "             'line_dash': 'solid', 'line_width': 1.5,\n",
    "             'marker': 'circle', 'marker_size': 5,\n",
    "             'color': colors[2], 'alpha': 1,},\n",
    "            {'label': 'WGT igg=10 wgt_flux=2',\n",
    "             'srs': fmt_cool(ds_cool_wgt),\n",
    "             'line_dash': 'solid', 'line_width': 3,\n",
    "             'marker': 'square', 'marker_size': 5,\n",
    "             'color': colors[3], 'alpha': .6}]\n",
    "    return data\n",
    "\n",
    "\n",
    "def nice_xlims(pltdata=None, prange=None):\n",
    "    \n",
    "    def get_slice(srs):\n",
    "        return srs.sel(pressure=slice(*prange))\n",
    "    \n",
    "    srss = [d['srs'] for d in pltdata]\n",
    "    vmin = min([get_slice(srs).min() for srs in srss])\n",
    "    vmax = max([get_slice(srs).max() for srs in srss])\n",
    "    dv = (vmax - vmin) * .01\n",
    "    return float(vmin - dv), float(vmax + dv)\n",
    "    \n",
    "\n",
    "def plt_cooling_bokeh(pltdata=None):\n",
    "    '''\n",
    "    Plot a list of cooling rate profiles using bokeh.\n",
    "    '''\n",
    "    ymin = 1e-2 \n",
    "    ymax = 1020 \n",
    "        \n",
    "    p1 = figure(title=\"Linear pressure scale\", \n",
    "                plot_width=400)        \n",
    "    xmin, xmax = nice_xlims(pltdata, prange=(50, 1050))\n",
    "    for d in pltdata:\n",
    "        if 'marker' in d:\n",
    "            getattr(p1, d['marker'])(d['srs'].values, \n",
    "                    d['srs'].coords['pressure'].values,\n",
    "                    color=d['color'], alpha=.7)\n",
    "        p1.line(d['srs'].values, \n",
    "                d['srs'].coords['pressure'].values,\n",
    "                color=d['color'], alpha=d['alpha'], \n",
    "                line_width=d['line_width'], line_dash=d['line_dash'])\n",
    "    \n",
    "    p1.y_range = Range1d(ymax, ymin)\n",
    "    p1.yaxis.axis_label = 'pressure [mb]'   \n",
    "    p1.x_range = Range1d(xmin, xmax)\n",
    "    p1.xaxis.axis_label = 'cooling rate [K/day]'\n",
    "            \n",
    "    p2 = figure(title='Log pressure scale', y_axis_type='log',\n",
    "                plot_width=560)\n",
    "    xmin, xmax = nice_xlims(pltdata, prange=(.01, 200))\n",
    "    \n",
    "    rs = []\n",
    "    for d in pltdata:\n",
    "        rd = []\n",
    "        if 'marker' in d:\n",
    "            r_mark = getattr(p2, d['marker'])(d['srs'].values, \n",
    "                        d['srs'].coords['pressure'].values,\n",
    "                        color=d['color'], alpha=.7)\n",
    "            rd.append(r_mark)\n",
    "        r_line = p2.line(d['srs'].values, \n",
    "                    d['srs'].coords['pressure'].values,\n",
    "                    color=d['color'], alpha=d['alpha'], \n",
    "                    line_width=d['line_width'], line_dash=d['line_dash'])\n",
    "        rd.append(r_line)\n",
    "      \n",
    "        rs.append(rd)\n",
    "        \n",
    "    p2.y_range = Range1d(ymax, ymin)  \n",
    "    p2.yaxis.axis_label = 'pressure [mb]'\n",
    "    \n",
    "    p2.x_range = Range1d(xmin, xmax)\n",
    "    p2.xaxis.axis_label = 'cooling rate [K/day]'\n",
    "    \n",
    "    items = [(d['label'], r) for r, d in zip(rs, pltdata)]\n",
    "    legend = Legend(items=items, location=(10, -30))\n",
    "    legend.label_text_font_size = '8pt'\n",
    "    \n",
    "    p2.add_layout(legend, 'right')  \n",
    "    \n",
    "    show(gridplot(p1, p2, ncols=2, plot_height=500))\n",
    "    \n",
    "\n",
    "def script_plt_cooling():\n",
    "    pltdata = pltdata_cooling_1(\n",
    "        ds_cool=DS_COOL,\n",
    "        ds_cool_crd=DS_COOL_CRD,\n",
    "        ds_cool_wgt=DS_COOL_WGT)\n",
    "    plt_cooling_bokeh(pltdata=pltdata)\n",
    "    print('''FIGURE. Cooling rate profiles.''')"
   ]
  },
  {
   "cell_type": "code",
   "execution_count": 9,
   "metadata": {
    "collapsed": true
   },
   "outputs": [],
   "source": [
    "def fmt_flux(ds_in):\n",
    "    ds = ds_in.copy(deep=True)\n",
    "    \n",
    "    for l in ('level', 'layer'):\n",
    "        if l in ds.data_vars:\n",
    "            if len(ds[l].dims) > 1:\n",
    "                surface = {d: 0 for d in ds.dims if d != 'pressure'}\n",
    "                coord_level = ds[l][surface]\n",
    "                ds.coords[l] = ('pressure', coord_level)\n",
    "            else:\n",
    "                ds.coords[l] = ('pressure', ds[l])\n",
    "        \n",
    "    ds = ds.isel(pressure=[0, 23, -1])\n",
    "        \n",
    "    if 'igg' in ds.dims:\n",
    "        ds = ds.sel(igg=[1])\n",
    "        ds = ds.squeeze('igg').drop('igg')\n",
    "    \n",
    "    if 'g' in ds.dims:\n",
    "        ds = ds.sum('g')\n",
    "            \n",
    "    if 'band' in ds.dims:\n",
    "        try:\n",
    "            ds = ds.squeeze('band').drop('band')\n",
    "        except ValueError:\n",
    "            ds = ds.sum('band')\n",
    "                \n",
    "    df = ds.to_dataframe()\n",
    "    df = df.set_index('level', append=True)               \n",
    "    return df\n",
    "\n",
    "\n",
    "def tbdata_flux(ds_flux=None, ds_flux_crd=None, ds_flux_wgt=None):\n",
    "    ilevels = [0, 23, -1]\n",
    "            \n",
    "    benchmark = {'label': 'CRD',\n",
    "                 'df': fmt_flux(ds_flux_crd)}\n",
    "    \n",
    "    tbs = [{'label': 'WGT igg=10 wgt_flux=1',\n",
    "            'df': fmt_flux(ds_flux_wgt)},\n",
    "           {'label': 'CLIRAD',\n",
    "            'df': fmt_flux(ds_flux)}]\n",
    "    \n",
    "    data = {'benchmark': benchmark, 'others': tbs}\n",
    "    return data\n",
    "\n",
    "\n",
    "def tb_flux(tbdata=None):\n",
    "    benchmark = tbdata['benchmark']\n",
    "    others = tbdata['others']\n",
    "    \n",
    "    def show_tb(d=None):\n",
    "        display.display(d['df'])\n",
    "        print('Table.', 'Fluxes.', d['label'])\n",
    "        \n",
    "    def show_tbdiff(d0=None, d=None):\n",
    "        df = d['df']\n",
    "        df.index = d0['df'].index\n",
    "        display.display(df - d0['df'])\n",
    "        print('Table.', 'Fluxes.', \n",
    "              '({}) - ({})'.format(d['label'], d0['label']))\n",
    "        \n",
    "    show_tb(benchmark)\n",
    "    for d in others:\n",
    "        show_tb(d)\n",
    "        \n",
    "    for d in others:\n",
    "        show_tbdiff(d=d, d0=benchmark)\n",
    "        \n",
    "        \n",
    "def script_tb_flux():\n",
    "    data = tbdata_flux(ds_flux=DS_FLUX,\n",
    "                       ds_flux_crd=DS_FLUX_CRD,\n",
    "                       ds_flux_wgt=DS_FLUX_WGT)\n",
    "    tb_flux(tbdata=data)"
   ]
  },
  {
   "cell_type": "code",
   "execution_count": 10,
   "metadata": {
    "collapsed": true
   },
   "outputs": [],
   "source": [
    "def band_map():\n",
    "    '''\n",
    "    Maps spectral bands in lblnew to spectral bands in clirad.\n",
    "    '''\n",
    "    lblnew2clirad = {'1': '1',\n",
    "            '2': '2',\n",
    "            '3a': '3',\n",
    "            '3b': '4',\n",
    "            '3c': '5',\n",
    "            '4': '6', \n",
    "            '5': '7',\n",
    "            '6': '8',\n",
    "            '7': '9', \n",
    "            '8': '10',\n",
    "            '9': '11'}\n",
    "    \n",
    "    clirad2lblnew = {clirad: lblnew \n",
    "                     for lblnew, clirad in lblnew2clirad.items()}\n",
    "    return clirad2lblnew\n",
    "\n",
    "\n",
    "def gasbands():\n",
    "    bmap = band_map()\n",
    "    gases = list(PARAM['molecule'].keys())\n",
    "    \n",
    "    bands = [bmap[str(b)] for b in PARAM['band']]\n",
    "    return list(itertools.product(gases, bands))\n",
    "\n",
    "\n",
    "def print_bestfit_params():\n",
    "    print('Best-fit values for each (gas, band)')\n",
    "    print('------------------------------------')\n",
    "    for gas, band in gasbands():\n",
    "        print('o {} band{}'.format(gas, band))\n",
    "        param = bestfits.kdist_params(molecule=gas, band=band)\n",
    "        for name, value in sorted(param.items()):\n",
    "            print(2 * ' ' + '{} = {}'.format(name, value))\n",
    "\n",
    "        \n",
    "def print_input_param():        \n",
    "    for name, value in PARAM.items():\n",
    "        print('{} = {}'.format(name, value))\n",
    "        \n",
    "        \n",
    "def print_lblnew_param():\n",
    "    for name, value in sorted(PARAM_LBLNEW.items()):\n",
    "        print('{} = {}'.format(name, value))\n"
   ]
  },
  {
   "cell_type": "code",
   "execution_count": 11,
   "metadata": {
    "collapsed": true,
    "scrolled": false
   },
   "outputs": [],
   "source": [
    "def show_html(s):\n",
    "    display.display(display.HTML(s))\n",
    "\n",
    "    \n",
    "def show_markdown(s):\n",
    "    display.display(display.Markdown(s))\n",
    "\n",
    "    \n",
    "def script():\n",
    "    \n",
    "    title = '### CLIRAD-LW'\n",
    "    s_input = 'Input Parameters'\n",
    "    s_lblnew_param = 'LBLNEW case compaired against'\n",
    "    s_bestfits = 'Best-fit Parameters'\n",
    "    s_plt_cooling = 'Cooling Rate Profiles'\n",
    "    s_tb_flux = 'Flux Comparison'\n",
    "    \n",
    "    # title\n",
    "    show_markdown('### CLIRAD-LW')\n",
    "    \n",
    "    # TOC\n",
    "    show_markdown('### Table of Contents')\n",
    "    show_html(climahtml.getHTML_hrefanchor(s_input))\n",
    "    show_html(climahtml.getHTML_hrefanchor(s_lblnew_param))\n",
    "    show_html(climahtml.getHTML_hrefanchor(s_plt_cooling))\n",
    "    show_html(climahtml.getHTML_hrefanchor(s_tb_flux))\n",
    "    show_html(climahtml.getHTML_hrefanchor(s_bestfits))\n",
    "    \n",
    "    # Input parameters\n",
    "    show_html(climahtml.getHTML_idanchor(s_input))\n",
    "    show_markdown(climahtml.getMarkdown_sectitle(s_input))\n",
    "    print_input_param()\n",
    "    \n",
    "    # LBLNEW parameters \n",
    "    show_html(climahtml.getHTML_idanchor(s_lblnew_param))\n",
    "    show_markdown(climahtml.getMarkdown_sectitle(s_lblnew_param))\n",
    "    print_lblnew_param()\n",
    "    \n",
    "    # Cooling rate profiles\n",
    "    show_html(climahtml.getHTML_idanchor(s_plt_cooling))\n",
    "    show_markdown(climahtml.getMarkdown_sectitle(s_plt_cooling))\n",
    "    script_plt_cooling()\n",
    "    \n",
    "    # Flux comparison\n",
    "    show_html(climahtml.getHTML_idanchor(s_tb_flux))\n",
    "    show_markdown(climahtml.getMarkdown_sectitle(s_tb_flux))\n",
    "    script_tb_flux()\n",
    "    \n",
    "    # Best-fit values\n",
    "    show_html(climahtml.getHTML_idanchor(s_bestfits))\n",
    "    show_markdown(climahtml.getMarkdown_sectitle(s_bestfits))\n",
    "    print_bestfit_params()\n",
    "   \n",
    "    "
   ]
  },
  {
   "cell_type": "code",
   "execution_count": 12,
   "metadata": {
    "collapsed": true,
    "scrolled": false
   },
   "outputs": [
    {
     "data": {
      "text/markdown": [
       "### CLIRAD-LW"
      ],
      "text/plain": [
       "<IPython.core.display.Markdown object>"
      ]
     },
     "metadata": {},
     "output_type": "display_data"
    },
    {
     "data": {
      "text/markdown": [
       "### Table of Contents"
      ],
      "text/plain": [
       "<IPython.core.display.Markdown object>"
      ]
     },
     "metadata": {},
     "output_type": "display_data"
    },
    {
     "data": {
      "text/html": [
       "<a href=\"#Input_Parameters\">Input Parameters</a>"
      ],
      "text/plain": [
       "<IPython.core.display.HTML object>"
      ]
     },
     "metadata": {},
     "output_type": "display_data"
    },
    {
     "data": {
      "text/html": [
       "<a href=\"#LBLNEW_case_compaired_against\">LBLNEW case compaired against</a>"
      ],
      "text/plain": [
       "<IPython.core.display.HTML object>"
      ]
     },
     "metadata": {},
     "output_type": "display_data"
    },
    {
     "data": {
      "text/html": [
       "<a href=\"#Cooling_Rate_Profiles\">Cooling Rate Profiles</a>"
      ],
      "text/plain": [
       "<IPython.core.display.HTML object>"
      ]
     },
     "metadata": {},
     "output_type": "display_data"
    },
    {
     "data": {
      "text/html": [
       "<a href=\"#Flux_Comparison\">Flux Comparison</a>"
      ],
      "text/plain": [
       "<IPython.core.display.HTML object>"
      ]
     },
     "metadata": {},
     "output_type": "display_data"
    },
    {
     "data": {
      "text/html": [
       "<a href=\"#Best-fit_Parameters\">Best-fit Parameters</a>"
      ],
      "text/plain": [
       "<IPython.core.display.HTML object>"
      ]
     },
     "metadata": {},
     "output_type": "display_data"
    },
    {
     "data": {
      "text/html": [
       "<a id=\"Input_Parameters\"></a>"
      ],
      "text/plain": [
       "<IPython.core.display.HTML object>"
      ]
     },
     "metadata": {},
     "output_type": "display_data"
    },
    {
     "data": {
      "text/markdown": [
       "# Input Parameters"
      ],
      "text/plain": [
       "<IPython.core.display.Markdown object>"
      ]
     },
     "metadata": {},
     "output_type": "display_data"
    },
    {
     "name": "stdout",
     "output_type": "stream",
     "text": [
      "commitnumber = de5d43e\n",
      "molecule = {'h2o': 'atmpro', 'co2': 0.0004}\n",
      "band = [11]\n",
      "atmpro = trp\n",
      "tsfc = 300\n"
     ]
    },
    {
     "data": {
      "text/html": [
       "<a id=\"LBLNEW_case_compaired_against\"></a>"
      ],
      "text/plain": [
       "<IPython.core.display.HTML object>"
      ]
     },
     "metadata": {},
     "output_type": "display_data"
    },
    {
     "data": {
      "text/markdown": [
       "# LBLNEW case compaired against"
      ],
      "text/plain": [
       "<IPython.core.display.Markdown object>"
      ]
     },
     "metadata": {},
     "output_type": "display_data"
    },
    {
     "name": "stdout",
     "output_type": "stream",
     "text": [
      "atmpro = trp\n",
      "band = 9\n",
      "commitnumber = 5014a19\n",
      "dv = 0.001\n",
      "molecule = {'h2o': 'atmpro', 'co2': 0.0004}\n",
      "nv = 1000\n",
      "tsfc = 300\n"
     ]
    },
    {
     "data": {
      "text/html": [
       "<a id=\"Cooling_Rate_Profiles\"></a>"
      ],
      "text/plain": [
       "<IPython.core.display.HTML object>"
      ]
     },
     "metadata": {},
     "output_type": "display_data"
    },
    {
     "data": {
      "text/markdown": [
       "# Cooling Rate Profiles"
      ],
      "text/plain": [
       "<IPython.core.display.Markdown object>"
      ]
     },
     "metadata": {},
     "output_type": "display_data"
    },
    {
     "data": {
      "text/html": [
       "\n",
       "<div class=\"bk-root\">\n",
       "    <div class=\"bk-plotdiv\" id=\"f03ee8f6-af6a-4bbf-b078-5f992408b727\"></div>\n",
       "</div>"
      ]
     },
     "metadata": {},
     "output_type": "display_data"
    },
    {
     "data": {
      "application/javascript": [
       "(function(root) {\n",
       "  function embed_document(root) {\n",
       "    \n",
       "  var docs_json = {\"03f7368b-7b6f-40a2-b9a7-a3f4c6eddfa9\":{\"roots\":{\"references\":[{\"attributes\":{},\"id\":\"ccdb655f-3cbb-4517-8132-e8de329961ea\",\"type\":\"PanTool\"},{\"attributes\":{\"data_source\":{\"id\":\"cf424590-6144-4998-bec7-4ec3c6e1a7fb\",\"type\":\"ColumnDataSource\"},\"glyph\":{\"id\":\"507a128a-1688-47c4-adc9-10b3bbaee49c\",\"type\":\"Line\"},\"hover_glyph\":null,\"muted_glyph\":null,\"nonselection_glyph\":{\"id\":\"cf335ff2-d05a-44e9-9e48-565d5dc1e033\",\"type\":\"Line\"},\"selection_glyph\":null,\"view\":{\"id\":\"71781a95-8221-42e5-8f49-f26de97341c9\",\"type\":\"CDSView\"}},\"id\":\"19e2476f-3449-48df-8705-183be8f078a8\",\"type\":\"GlyphRenderer\"},{\"attributes\":{\"fill_alpha\":{\"value\":0.7},\"fill_color\":{\"value\":\"#984ea3\"},\"line_alpha\":{\"value\":0.7},\"line_color\":{\"value\":\"#984ea3\"},\"x\":{\"field\":\"x\"},\"y\":{\"field\":\"y\"}},\"id\":\"70e0fd0f-e6a4-4b65-94f3-ff1ac2b32a79\",\"type\":\"Square\"},{\"attributes\":{\"children\":[{\"id\":\"6d372f55-65b5-4921-ae23-b267e012e568\",\"subtype\":\"Figure\",\"type\":\"Plot\"},{\"id\":\"a7190391-7db2-4662-b6f5-7f95993fcfea\",\"subtype\":\"Figure\",\"type\":\"Plot\"}]},\"id\":\"8a5b5775-c7a8-4e01-b50c-61f8612bcee0\",\"type\":\"Row\"},{\"attributes\":{\"data_source\":{\"id\":\"63e96a98-4ccc-43a5-a7b5-e1279aac1195\",\"type\":\"ColumnDataSource\"},\"glyph\":{\"id\":\"51827be4-bfb9-4355-b69c-a4a134a8bfea\",\"type\":\"Line\"},\"hover_glyph\":null,\"muted_glyph\":null,\"nonselection_glyph\":{\"id\":\"6ed1c27f-60ac-47a6-a3cc-20d86a3c7f6c\",\"type\":\"Line\"},\"selection_glyph\":null,\"view\":{\"id\":\"2c72b21f-491f-4e2d-b4e1-e887b09816c1\",\"type\":\"CDSView\"}},\"id\":\"a216b525-83ee-4890-a212-0ee8eda3ca98\",\"type\":\"GlyphRenderer\"},{\"attributes\":{\"bottom_units\":\"screen\",\"fill_alpha\":{\"value\":0.5},\"fill_color\":{\"value\":\"lightgrey\"},\"left_units\":\"screen\",\"level\":\"overlay\",\"line_alpha\":{\"value\":1.0},\"line_color\":{\"value\":\"black\"},\"line_dash\":[4,4],\"line_width\":{\"value\":2},\"plot\":null,\"render_mode\":\"css\",\"right_units\":\"screen\",\"top_units\":\"screen\"},\"id\":\"036ab687-5e65-4591-a465-fb33483ae38e\",\"type\":\"BoxAnnotation\"},{\"attributes\":{},\"id\":\"901fbffa-d776-4fe9-b66a-c1dad1ceec44\",\"type\":\"BasicTickFormatter\"},{\"attributes\":{\"fill_alpha\":{\"value\":0.7},\"fill_color\":{\"value\":\"#984ea3\"},\"line_alpha\":{\"value\":0.7},\"line_color\":{\"value\":\"#984ea3\"},\"x\":{\"field\":\"x\"},\"y\":{\"field\":\"y\"}},\"id\":\"abbf6974-2df2-4c0e-9bb0-8f6a15c38aea\",\"type\":\"Square\"},{\"attributes\":{\"data_source\":{\"id\":\"e1ac3e4b-ba97-461d-9412-0947691e6824\",\"type\":\"ColumnDataSource\"},\"glyph\":{\"id\":\"cc8fd293-51f6-4f3b-9942-af334cae1f5c\",\"type\":\"Line\"},\"hover_glyph\":null,\"muted_glyph\":null,\"nonselection_glyph\":{\"id\":\"21e7a3f1-2d0e-40bf-8622-3180a4c8bf5a\",\"type\":\"Line\"},\"selection_glyph\":null,\"view\":{\"id\":\"56f8afc3-b2a7-4438-b968-506ef7e1827d\",\"type\":\"CDSView\"}},\"id\":\"9ed8f1c4-5282-4c6e-a16b-22f92f0eece7\",\"type\":\"GlyphRenderer\"},{\"attributes\":{\"line_alpha\":0.1,\"line_color\":\"#1f77b4\",\"line_width\":3,\"x\":{\"field\":\"x\"},\"y\":{\"field\":\"y\"}},\"id\":\"cf335ff2-d05a-44e9-9e48-565d5dc1e033\",\"type\":\"Line\"},{\"attributes\":{},\"id\":\"c0aea811-de7d-42a9-9651-4f9674009346\",\"type\":\"WheelZoomTool\"},{\"attributes\":{\"overlay\":{\"id\":\"036ab687-5e65-4591-a465-fb33483ae38e\",\"type\":\"BoxAnnotation\"}},\"id\":\"7d430292-871d-4227-8b82-0a42f5626350\",\"type\":\"BoxZoomTool\"},{\"attributes\":{\"source\":{\"id\":\"fffbb8d4-4ffe-461b-ad7a-528b5309add0\",\"type\":\"ColumnDataSource\"}},\"id\":\"9928d74c-4799-44b5-9829-1d03376b1023\",\"type\":\"CDSView\"},{\"attributes\":{},\"id\":\"395c4d94-df98-4072-b4eb-90a6ceb48d56\",\"type\":\"SaveTool\"},{\"attributes\":{\"callback\":null,\"data\":{\"x\":{\"__ndarray__\":\"LbcP1IQI0T9uOvpGEaW1P4X9tfQcHKc/FFdnjos3gT/uVFZZLxSTv4BP+uJVTaG/iUbSya2kpL+9dcv8DVSlvwwv3/9pmKW/9B+70+m1pb91bqWaA0umv0NfUXxCl6e/IhX5Bycoqr+/YaJBCh6wv1R9FJmslrG/U6q55tIbrr8BZg3Kc/6kv+AD1tIl4ZW/c1WYN3kcXr+P6iXaFuSRP+8vhX7bUKs/sv+Nf5eAwz86Q4pkPIjGP+cECkg9vME/Uw3zzGg3vj/NKRrOqSK2PwPFl6K/RK0/gb+7PG3ynT9Cl6S12JuDP6Yym3itmm0/5TH1Rconcz9qyjrJgjxtP+pkd7TFTk8/vXnQwfE7SL97e6ZC9Bdevzmr3AimumK/iUJ/LDoVZb9zFRbSnQRnv9R4700vj2a/8DVU6T8Uab8z9ZmAll9rv92wRmWer22/tIHCQNp2b79+tBlW2qpwv/fnHw5kDnG//DEOLtRTcL9gE6JPLkVuv9RejfoHtGy/2hmyu7F5bL8+gBYh7SVrv7IEykx/dGa/E9yrur77Wb90UAYe6PwYP5uQXJtiXmM/naLq6XjLcz9ZBWZUxKF+PwNFf/MhcoQ/L0FXbN0XiT+K8pXYZneNP0FxLX5GLpE/NWsAobtFlD9ghu+SctaXP1ghydKlhJo/DEOxA1FxnD+bWbPk3dCbP6bCOLW8PZs/vv7GzHWCnD/pRce3clSeP4PVGV6XgaA/IBKLBpNcoj8pXZK0L2GkP/CNNeQemaY/tIRwXRXOqT8Sl06xix6uP2CbHUHb/rY/\",\"dtype\":\"float64\",\"shape\":[75]},\"y\":{\"__ndarray__\":\"S/O/Q+51ND/Sv8nbtpRIP2vylNV0PVE/aTum7souWD/At0SJ8fVgPw3Iuahxymc/MSNhhJWvcD/bTfBN02d3P2zb5nxnaoA/CD5h5MAGhz8NmeH1TyaQP+zrCsc9p5Y/LbKd76fGnz/bLW5ISEmmPww9YvTcQq8/JV2OstnstT8Er5Y7M8G+P0c+r3jqkcU/5h99k6ZBzj88bCIzFzjVP4enV8oyxN0//yH99nXg5D8qOpLLf0jtP5kqGJXUifQ/c9cS8kHP/D+/DpwzojQEQIEmwoanVwxA4lgXt9HgE0BSSZ2AJuIbQAMJih9jjiNA5q4l5INuK0AwTKYKRj0zQNv5fmq8/DpAaCJseHrtQkB/+zpwzoxKQM3MzMzMeFJAZmZmZmZqWEAAAAAAAFxeQM3MzMzMJmJAmpmZmZkfZUBmZmZmZhhoQDMzMzMzEWtAAAAAAAAKbkBmZmZmZoFwQM3MzMzM/XFAMzMzMzN6c0CamZmZmfZ0QAAAAAAAc3ZAZmZmZmbvd0DNzMzMzGt5QDMzMzMz6HpAmpmZmZlkfEAAAAAAAOF9QGZmZmZmXX9AZmZmZuZsgECamZmZGSuBQM3MzMxM6YFAAAAAAICngkAzMzMzs2WDQGZmZmbmI4RAmpmZmRnihEDNzMzMTKCFQAAAAACAXoZAMzMzM7Mch0BmZmZm5tqHQJqZmZkZmYhAzczMzExXiUAAAAAAgBWKQDMzMzOz04pAZmZmZuaRi0CamZmZGVCMQM3MzMxMDo1AAAAAAIDMjUAzMzMzs4qOQGZmZmbmSI9A\",\"dtype\":\"float64\",\"shape\":[75]}},\"selected\":{\"id\":\"0b2e2c45-7731-4938-a854-dfe7c68c9093\",\"type\":\"Selection\"},\"selection_policy\":{\"id\":\"96898069-a744-4bf2-9300-3686956577af\",\"type\":\"UnionRenderers\"}},\"id\":\"5b891e15-2c3d-405d-b086-a346718d533f\",\"type\":\"ColumnDataSource\"},{\"attributes\":{\"callback\":null,\"data\":{\"x\":{\"__ndarray__\":\"MQ6J1uXv0T8WWilGjtu0P+cOhi2Cbqg/IH5rGB8VkD9M445s6/2Dv6vwE3kl2Jq//u7RpuCsob/d0Yhki06jv7ajy6ru4qO/wm+14b9fpL8KauF6YDylvzaGO0LG1qa/u8hdtGLgqb8TML9180Swvw6gK4a19bG/3kGv6YgWr78WVbKo93CmvzUqdWvHRJq/uSzH6Bdleb8UcHQ6NTyQP3im84ihOq0/TuuZ0rg/xD/8KFVoQSTHP3ls9P/kzsE/sqF675hPvT/9zBmEy8C0PwvksR2O2ao/AdDDMRR1nT9A8byEpeKIP1e2+iagFHQ/+ytpHqc8bz/w2P6/OX1nPxDHVj2Tmk0/7o2x3gwGOr9GV/FfgzJbv5CiVF8y3mK/TuNjo28zZb8hwOKj1/xmv9xOaSmKY2a/5tGncm7caL+OJWuWBBZrvyYOW53VJ22/5CTXSCfWbr8+ulsR8SFwv+q664Eaa3C/o+N3jlnab7/i7Onx2uhtv2VOddvVUWy/7lnN9sX+ar+Bj1HI1HBov35uidg3YmO/3dnRm7WLVb/I2cO4Bc0qPzLjJasmcGE/KZsCMbrQcT/hYLiBHo17P7hN5EWHwII/h0ejgabFhz9cwq7heviMP8eJd8y1cpE/L9MadiQGlT9zN7VXEuWYP289IXMZwps/N7ykWtl4nT+xxqaDX2ScP2m3MOcmJZs/uLsJ6elWmz8ue7Rmm4OcP74LtGvdLp8/ya39KOBaoT+3RzcOMWijP9Sabw8F3aU/Wsoi4iAAqT8GAfcR/32tP2wCGfWh77Y/\",\"dtype\":\"float64\",\"shape\":[75]},\"y\":{\"__ndarray__\":\"GhExyth1ND/Sv8nbtpRIP2vylNV0PVE/aTum7souWD/At0SJ8fVgPw3Iuahxymc/MSNhhJWvcD/bTfBN02d3P2zb5nxnaoA/CD5h5MAGhz8NmeH1TyaQP+zrCsc9p5Y/LbKd76fGnz/bLW5ISEmmPww9YvTcQq8/JV2OstnstT8Er5Y7M8G+P0c+r3jqkcU/5h99k6ZBzj88bCIzFzjVP4enV8oyxN0//yH99nXg5D8qOpLLf0jtP5kqGJXUifQ/c9cS8kHP/D+/DpwzojQEQIEmwoanVwxA4lgXt9HgE0BSSZ2AJuIbQAMJih9jjiNA5q4l5INuK0AwTKYKRj0zQNv5fmq8/DpAaCJseHrtQkB/+zpwzoxKQM3MzMzMeFJAZmZmZmZqWEAAAAAAAFxeQM3MzMzMJmJAmpmZmZkfZUBmZmZmZhhoQDMzMzMzEWtAAAAAAAAKbkBmZmZmZoFwQM3MzMzM/XFAMzMzMzN6c0CamZmZmfZ0QAAAAAAAc3ZAZmZmZmbvd0DNzMzMzGt5QDMzMzMz6HpAmpmZmZlkfEAAAAAAAOF9QGZmZmZmXX9AZmZmZuZsgECamZmZGSuBQM3MzMxM6YFAAAAAAICngkAzMzMzs2WDQGZmZmbmI4RAmpmZmRnihEDNzMzMTKCFQAAAAACAXoZAMzMzM7Mch0BmZmZm5tqHQJqZmZkZmYhAzczMzExXiUAAAAAAgBWKQDMzMzOz04pAZmZmZuaRi0CamZmZGVCMQM3MzMxMDo1AAAAAAIDMjUAzMzMzs4qOQGZmZmbmSI9A\",\"dtype\":\"float64\",\"shape\":[75]}},\"selected\":{\"id\":\"f9ffad85-5a98-44ba-80d2-37bd242f2da7\",\"type\":\"Selection\"},\"selection_policy\":{\"id\":\"9a5a6d75-f911-469e-90cf-e458fd273782\",\"type\":\"UnionRenderers\"}},\"id\":\"cf424590-6144-4998-bec7-4ec3c6e1a7fb\",\"type\":\"ColumnDataSource\"},{\"attributes\":{},\"id\":\"8bed479f-1f98-4938-b1bd-1b94ad23b883\",\"type\":\"WheelZoomTool\"},{\"attributes\":{},\"id\":\"9ec3e980-6370-48b9-808e-e401ef87b8f8\",\"type\":\"ResetTool\"},{\"attributes\":{\"callback\":null,\"data\":{\"x\":{\"__ndarray__\":\"lmF54+ZMwT8GFK2GCxOGP+xigCeZ04E/AvYMetoVbj+kU/U4NdNSv6k4SGfkHHa/Cx7QIcoBg792NXnKarqKv+nRwesUWpG/aL7oyh6jlb+rQUeUvlyav74LUUEixp+/XQsQi2x1o78NM72PZtapv2KWEIjkH66/zb/Ike/OrL9K0Hs9QV2pv5kty2rJyaS/X4sGvtwGmb+mKlWw8jVzPz9qcZj4O7A/a2kLW/Uxxz9RFVPpJxzLPw9lA0QcRsM//3nYE3a0uj9Uvd74OKWvP+S1JJ0Hy6I/EGOIUjGElj82qbfy0WOJP9wrhZUJBXk/it7PkD0AYj8+aavN0SERP5wg+QqBL0m/QVg5WbBXSb/h+Li3HcFWvy4fja8rGWC/ljTfdXi3Yr/CShf4EKhkv7lrAvacbmS/QbpAmMfZZb9YhsgTRzFnvy6XMIIdcmi/tsL5dkBJab+6cwo2Gq5pv59fsxs/jWm/vDJwQ7rGaL9/tLYrH0Jnv/cFPL1OAmW/T+gSokW8Yb+Xk3LkMV1Zv1GA6m6gk0e/d8hrrRS2NT8TyRLABmlaP0mti+0CnWk/Nin3jTcKdD+QdKmwYkh8P5UHZTrt0oI/CSinUsAxiD8GbjiHxm6OP+jvguGM/JI/trPYu3mJlz/GaNZ/wWGcP73BdZdUBaA/+uQK6rlXoT956wsHk/mgP7vFvMEpCaA/fH9QBUbYnj8SRnROOjGePwZVA8ovTp8/Fp0Y0ffMoD82CTlKuVaiPwmxKxSGVKQ/unHUz3AKpz+j5weP5UarPx1h4bzpqrU/\",\"dtype\":\"float64\",\"shape\":[75]},\"y\":{\"__ndarray__\":\"GhExyth1ND/Sv8nbtpRIP2vylNV0PVE/aTum7souWD/At0SJ8fVgPw3Iuahxymc/MSNhhJWvcD/bTfBN02d3P2zb5nxnaoA/CD5h5MAGhz8NmeH1TyaQP+zrCsc9p5Y/LbKd76fGnz/bLW5ISEmmPww9YvTcQq8/JV2OstnstT8Er5Y7M8G+P0c+r3jqkcU/5h99k6ZBzj88bCIzFzjVP4enV8oyxN0//yH99nXg5D8qOpLLf0jtP5kqGJXUifQ/c9cS8kHP/D+/DpwzojQEQIEmwoanVwxA4lgXt9HgE0BSSZ2AJuIbQAMJih9jjiNA5q4l5INuK0AwTKYKRj0zQNv5fmq8/DpAaCJseHrtQkB/+zpwzoxKQM3MzMzMeFJAZmZmZmZqWEAAAAAAAFxeQM3MzMzMJmJAmpmZmZkfZUBmZmZmZhhoQDMzMzMzEWtAAAAAAAAKbkBmZmZmZoFwQM3MzMzM/XFAMzMzMzN6c0CamZmZmfZ0QAAAAAAAc3ZAZmZmZmbvd0DNzMzMzGt5QDMzMzMz6HpAmpmZmZlkfEAAAAAAAOF9QGZmZmZmXX9AZmZmZuZsgECamZmZGSuBQM3MzMxM6YFAAAAAAICngkAzMzMzs2WDQGZmZmbmI4RAmpmZmRnihEDNzMzMTKCFQAAAAACAXoZAMzMzM7Mch0BmZmZm5tqHQJqZmZkZmYhAzczMzExXiUAAAAAAgBWKQDMzMzOz04pAZmZmZuaRi0CamZmZGVCMQM3MzMxMDo1AAAAAAIDMjUAzMzMzs4qOQGZmZmbmSI9A\",\"dtype\":\"float64\",\"shape\":[75]}},\"selected\":{\"id\":\"75d7bcd7-fed0-43b3-bf42-2ea9fcde621e\",\"type\":\"Selection\"},\"selection_policy\":{\"id\":\"37c97e90-779f-4083-bb11-3909cfaac8ad\",\"type\":\"UnionRenderers\"}},\"id\":\"f38990f6-eaa8-46c7-b6e4-3e604bd77b3e\",\"type\":\"ColumnDataSource\"},{\"attributes\":{},\"id\":\"bf814312-05f5-4eac-8edc-7e6684b42342\",\"type\":\"PanTool\"},{\"attributes\":{\"line_color\":\"#4daf4a\",\"line_width\":1.5,\"x\":{\"field\":\"x\"},\"y\":{\"field\":\"y\"}},\"id\":\"51827be4-bfb9-4355-b69c-a4a134a8bfea\",\"type\":\"Line\"},{\"attributes\":{\"line_alpha\":0.1,\"line_color\":\"#1f77b4\",\"line_width\":3,\"x\":{\"field\":\"x\"},\"y\":{\"field\":\"y\"}},\"id\":\"21e7a3f1-2d0e-40bf-8622-3180a4c8bf5a\",\"type\":\"Line\"},{\"attributes\":{},\"id\":\"1021e6ef-3ceb-4835-8837-c12719270e4e\",\"type\":\"HelpTool\"},{\"attributes\":{\"fill_alpha\":{\"value\":0.1},\"fill_color\":{\"value\":\"#1f77b4\"},\"line_alpha\":{\"value\":0.1},\"line_color\":{\"value\":\"#1f77b4\"},\"x\":{\"field\":\"x\"},\"y\":{\"field\":\"y\"}},\"id\":\"9e15a964-db5f-4d28-aaff-d62f5a709da5\",\"type\":\"Square\"},{\"attributes\":{},\"id\":\"5c98d2f5-7621-48f1-a998-7a9b77631d48\",\"type\":\"SaveTool\"},{\"attributes\":{\"source\":{\"id\":\"f38990f6-eaa8-46c7-b6e4-3e604bd77b3e\",\"type\":\"ColumnDataSource\"}},\"id\":\"bf3917f7-5e92-4677-9216-490ea073ad2f\",\"type\":\"CDSView\"},{\"attributes\":{\"callback\":null,\"data\":{\"x\":{\"__ndarray__\":\"lmF54+ZMwT8GFK2GCxOGP+xigCeZ04E/AvYMetoVbj+kU/U4NdNSv6k4SGfkHHa/Cx7QIcoBg792NXnKarqKv+nRwesUWpG/aL7oyh6jlb+rQUeUvlyav74LUUEixp+/XQsQi2x1o78NM72PZtapv2KWEIjkH66/zb/Ike/OrL9K0Hs9QV2pv5kty2rJyaS/X4sGvtwGmb+mKlWw8jVzPz9qcZj4O7A/a2kLW/Uxxz9RFVPpJxzLPw9lA0QcRsM//3nYE3a0uj9Uvd74OKWvP+S1JJ0Hy6I/EGOIUjGElj82qbfy0WOJP9wrhZUJBXk/it7PkD0AYj8+aavN0SERP5wg+QqBL0m/QVg5WbBXSb/h+Li3HcFWvy4fja8rGWC/ljTfdXi3Yr/CShf4EKhkv7lrAvacbmS/QbpAmMfZZb9YhsgTRzFnvy6XMIIdcmi/tsL5dkBJab+6cwo2Gq5pv59fsxs/jWm/vDJwQ7rGaL9/tLYrH0Jnv/cFPL1OAmW/T+gSokW8Yb+Xk3LkMV1Zv1GA6m6gk0e/d8hrrRS2NT8TyRLABmlaP0mti+0CnWk/Nin3jTcKdD+QdKmwYkh8P5UHZTrt0oI/CSinUsAxiD8GbjiHxm6OP+jvguGM/JI/trPYu3mJlz/GaNZ/wWGcP73BdZdUBaA/+uQK6rlXoT956wsHk/mgP7vFvMEpCaA/fH9QBUbYnj8SRnROOjGePwZVA8ovTp8/Fp0Y0ffMoD82CTlKuVaiPwmxKxSGVKQ/unHUz3AKpz+j5weP5UarPx1h4bzpqrU/\",\"dtype\":\"float64\",\"shape\":[75]},\"y\":{\"__ndarray__\":\"GhExyth1ND/Sv8nbtpRIP2vylNV0PVE/aTum7souWD/At0SJ8fVgPw3Iuahxymc/MSNhhJWvcD/bTfBN02d3P2zb5nxnaoA/CD5h5MAGhz8NmeH1TyaQP+zrCsc9p5Y/LbKd76fGnz/bLW5ISEmmPww9YvTcQq8/JV2OstnstT8Er5Y7M8G+P0c+r3jqkcU/5h99k6ZBzj88bCIzFzjVP4enV8oyxN0//yH99nXg5D8qOpLLf0jtP5kqGJXUifQ/c9cS8kHP/D+/DpwzojQEQIEmwoanVwxA4lgXt9HgE0BSSZ2AJuIbQAMJih9jjiNA5q4l5INuK0AwTKYKRj0zQNv5fmq8/DpAaCJseHrtQkB/+zpwzoxKQM3MzMzMeFJAZmZmZmZqWEAAAAAAAFxeQM3MzMzMJmJAmpmZmZkfZUBmZmZmZhhoQDMzMzMzEWtAAAAAAAAKbkBmZmZmZoFwQM3MzMzM/XFAMzMzMzN6c0CamZmZmfZ0QAAAAAAAc3ZAZmZmZmbvd0DNzMzMzGt5QDMzMzMz6HpAmpmZmZlkfEAAAAAAAOF9QGZmZmZmXX9AZmZmZuZsgECamZmZGSuBQM3MzMxM6YFAAAAAAICngkAzMzMzs2WDQGZmZmbmI4RAmpmZmRnihEDNzMzMTKCFQAAAAACAXoZAMzMzM7Mch0BmZmZm5tqHQJqZmZkZmYhAzczMzExXiUAAAAAAgBWKQDMzMzOz04pAZmZmZuaRi0CamZmZGVCMQM3MzMxMDo1AAAAAAIDMjUAzMzMzs4qOQGZmZmbmSI9A\",\"dtype\":\"float64\",\"shape\":[75]}},\"selected\":{\"id\":\"a48401ba-197c-4265-901e-87bafc3fea25\",\"type\":\"Selection\"},\"selection_policy\":{\"id\":\"56cc073d-13ab-4e23-b98f-2022ff59d0f9\",\"type\":\"UnionRenderers\"}},\"id\":\"63e96a98-4ccc-43a5-a7b5-e1279aac1195\",\"type\":\"ColumnDataSource\"},{\"attributes\":{},\"id\":\"53e83c7d-9b17-46e5-81a1-3beb239f8331\",\"type\":\"HelpTool\"},{\"attributes\":{\"data_source\":{\"id\":\"c2d98454-e514-4a60-8314-49396096bd93\",\"type\":\"ColumnDataSource\"},\"glyph\":{\"id\":\"70e0fd0f-e6a4-4b65-94f3-ff1ac2b32a79\",\"type\":\"Square\"},\"hover_glyph\":null,\"muted_glyph\":null,\"nonselection_glyph\":{\"id\":\"9e15a964-db5f-4d28-aaff-d62f5a709da5\",\"type\":\"Square\"},\"selection_glyph\":null,\"view\":{\"id\":\"2ad7f116-fcad-4d4e-b7df-4c50cfb7f598\",\"type\":\"CDSView\"}},\"id\":\"d2a4cf13-fdff-47d1-98f9-3bb4d80016cb\",\"type\":\"GlyphRenderer\"},{\"attributes\":{\"fill_alpha\":{\"value\":0.7},\"fill_color\":{\"value\":\"#4daf4a\"},\"line_alpha\":{\"value\":0.7},\"line_color\":{\"value\":\"#4daf4a\"},\"x\":{\"field\":\"x\"},\"y\":{\"field\":\"y\"}},\"id\":\"070b2e04-8dc4-44fe-ae8a-64767136e87b\",\"type\":\"Circle\"},{\"attributes\":{\"callback\":null,\"data\":{\"x\":{\"__ndarray__\":\"MQ6J1uXv0T8WWilGjtu0P+cOhi2Cbqg/IH5rGB8VkD9M445s6/2Dv6vwE3kl2Jq//u7RpuCsob/d0Yhki06jv7ajy6ru4qO/wm+14b9fpL8KauF6YDylvzaGO0LG1qa/u8hdtGLgqb8TML9180Swvw6gK4a19bG/3kGv6YgWr78WVbKo93CmvzUqdWvHRJq/uSzH6Bdleb8UcHQ6NTyQP3im84ihOq0/TuuZ0rg/xD/8KFVoQSTHP3ls9P/kzsE/sqF675hPvT/9zBmEy8C0PwvksR2O2ao/AdDDMRR1nT9A8byEpeKIP1e2+iagFHQ/+ytpHqc8bz/w2P6/OX1nPxDHVj2Tmk0/7o2x3gwGOr9GV/FfgzJbv5CiVF8y3mK/TuNjo28zZb8hwOKj1/xmv9xOaSmKY2a/5tGncm7caL+OJWuWBBZrvyYOW53VJ22/5CTXSCfWbr8+ulsR8SFwv+q664Eaa3C/o+N3jlnab7/i7Onx2uhtv2VOddvVUWy/7lnN9sX+ar+Bj1HI1HBov35uidg3YmO/3dnRm7WLVb/I2cO4Bc0qPzLjJasmcGE/KZsCMbrQcT/hYLiBHo17P7hN5EWHwII/h0ejgabFhz9cwq7heviMP8eJd8y1cpE/L9MadiQGlT9zN7VXEuWYP289IXMZwps/N7ykWtl4nT+xxqaDX2ScP2m3MOcmJZs/uLsJ6elWmz8ue7Rmm4OcP74LtGvdLp8/ya39KOBaoT+3RzcOMWijP9Sabw8F3aU/Wsoi4iAAqT8GAfcR/32tP2wCGfWh77Y/\",\"dtype\":\"float64\",\"shape\":[75]},\"y\":{\"__ndarray__\":\"GhExyth1ND/Sv8nbtpRIP2vylNV0PVE/aTum7souWD/At0SJ8fVgPw3Iuahxymc/MSNhhJWvcD/bTfBN02d3P2zb5nxnaoA/CD5h5MAGhz8NmeH1TyaQP+zrCsc9p5Y/LbKd76fGnz/bLW5ISEmmPww9YvTcQq8/JV2OstnstT8Er5Y7M8G+P0c+r3jqkcU/5h99k6ZBzj88bCIzFzjVP4enV8oyxN0//yH99nXg5D8qOpLLf0jtP5kqGJXUifQ/c9cS8kHP/D+/DpwzojQEQIEmwoanVwxA4lgXt9HgE0BSSZ2AJuIbQAMJih9jjiNA5q4l5INuK0AwTKYKRj0zQNv5fmq8/DpAaCJseHrtQkB/+zpwzoxKQM3MzMzMeFJAZmZmZmZqWEAAAAAAAFxeQM3MzMzMJmJAmpmZmZkfZUBmZmZmZhhoQDMzMzMzEWtAAAAAAAAKbkBmZmZmZoFwQM3MzMzM/XFAMzMzMzN6c0CamZmZmfZ0QAAAAAAAc3ZAZmZmZmbvd0DNzMzMzGt5QDMzMzMz6HpAmpmZmZlkfEAAAAAAAOF9QGZmZmZmXX9AZmZmZuZsgECamZmZGSuBQM3MzMxM6YFAAAAAAICngkAzMzMzs2WDQGZmZmbmI4RAmpmZmRnihEDNzMzMTKCFQAAAAACAXoZAMzMzM7Mch0BmZmZm5tqHQJqZmZkZmYhAzczMzExXiUAAAAAAgBWKQDMzMzOz04pAZmZmZuaRi0CamZmZGVCMQM3MzMxMDo1AAAAAAIDMjUAzMzMzs4qOQGZmZmbmSI9A\",\"dtype\":\"float64\",\"shape\":[75]}},\"selected\":{\"id\":\"fd37ec3c-5688-4e70-a659-613a9f298c87\",\"type\":\"Selection\"},\"selection_policy\":{\"id\":\"e005baca-9a63-48b3-a5eb-ca30dc807c12\",\"type\":\"UnionRenderers\"}},\"id\":\"c2d98454-e514-4a60-8314-49396096bd93\",\"type\":\"ColumnDataSource\"},{\"attributes\":{},\"id\":\"43992682-9eba-4715-8f41-49c028abb6de\",\"type\":\"ResetTool\"},{\"attributes\":{\"source\":{\"id\":\"63e96a98-4ccc-43a5-a7b5-e1279aac1195\",\"type\":\"ColumnDataSource\"}},\"id\":\"2c72b21f-491f-4e2d-b4e1-e887b09816c1\",\"type\":\"CDSView\"},{\"attributes\":{\"callback\":null,\"data\":{\"x\":{\"__ndarray__\":\"lmF54+ZMwT8GFK2GCxOGP+xigCeZ04E/AvYMetoVbj+kU/U4NdNSv6k4SGfkHHa/Cx7QIcoBg792NXnKarqKv+nRwesUWpG/aL7oyh6jlb+rQUeUvlyav74LUUEixp+/XQsQi2x1o78NM72PZtapv2KWEIjkH66/zb/Ike/OrL9K0Hs9QV2pv5kty2rJyaS/X4sGvtwGmb+mKlWw8jVzPz9qcZj4O7A/a2kLW/Uxxz9RFVPpJxzLPw9lA0QcRsM//3nYE3a0uj9Uvd74OKWvP+S1JJ0Hy6I/EGOIUjGElj82qbfy0WOJP9wrhZUJBXk/it7PkD0AYj8+aavN0SERP5wg+QqBL0m/QVg5WbBXSb/h+Li3HcFWvy4fja8rGWC/ljTfdXi3Yr/CShf4EKhkv7lrAvacbmS/QbpAmMfZZb9YhsgTRzFnvy6XMIIdcmi/tsL5dkBJab+6cwo2Gq5pv59fsxs/jWm/vDJwQ7rGaL9/tLYrH0Jnv/cFPL1OAmW/T+gSokW8Yb+Xk3LkMV1Zv1GA6m6gk0e/d8hrrRS2NT8TyRLABmlaP0mti+0CnWk/Nin3jTcKdD+QdKmwYkh8P5UHZTrt0oI/CSinUsAxiD8GbjiHxm6OP+jvguGM/JI/trPYu3mJlz/GaNZ/wWGcP73BdZdUBaA/+uQK6rlXoT956wsHk/mgP7vFvMEpCaA/fH9QBUbYnj8SRnROOjGePwZVA8ovTp8/Fp0Y0ffMoD82CTlKuVaiPwmxKxSGVKQ/unHUz3AKpz+j5weP5UarPx1h4bzpqrU/\",\"dtype\":\"float64\",\"shape\":[75]},\"y\":{\"__ndarray__\":\"GhExyth1ND/Sv8nbtpRIP2vylNV0PVE/aTum7souWD/At0SJ8fVgPw3Iuahxymc/MSNhhJWvcD/bTfBN02d3P2zb5nxnaoA/CD5h5MAGhz8NmeH1TyaQP+zrCsc9p5Y/LbKd76fGnz/bLW5ISEmmPww9YvTcQq8/JV2OstnstT8Er5Y7M8G+P0c+r3jqkcU/5h99k6ZBzj88bCIzFzjVP4enV8oyxN0//yH99nXg5D8qOpLLf0jtP5kqGJXUifQ/c9cS8kHP/D+/DpwzojQEQIEmwoanVwxA4lgXt9HgE0BSSZ2AJuIbQAMJih9jjiNA5q4l5INuK0AwTKYKRj0zQNv5fmq8/DpAaCJseHrtQkB/+zpwzoxKQM3MzMzMeFJAZmZmZmZqWEAAAAAAAFxeQM3MzMzMJmJAmpmZmZkfZUBmZmZmZhhoQDMzMzMzEWtAAAAAAAAKbkBmZmZmZoFwQM3MzMzM/XFAMzMzMzN6c0CamZmZmfZ0QAAAAAAAc3ZAZmZmZmbvd0DNzMzMzGt5QDMzMzMz6HpAmpmZmZlkfEAAAAAAAOF9QGZmZmZmXX9AZmZmZuZsgECamZmZGSuBQM3MzMxM6YFAAAAAAICngkAzMzMzs2WDQGZmZmbmI4RAmpmZmRnihEDNzMzMTKCFQAAAAACAXoZAMzMzM7Mch0BmZmZm5tqHQJqZmZkZmYhAzczMzExXiUAAAAAAgBWKQDMzMzOz04pAZmZmZuaRi0CamZmZGVCMQM3MzMxMDo1AAAAAAIDMjUAzMzMzs4qOQGZmZmbmSI9A\",\"dtype\":\"float64\",\"shape\":[75]}},\"selected\":{\"id\":\"2114f63f-4d34-4305-8712-0de87a2eb6c6\",\"type\":\"Selection\"},\"selection_policy\":{\"id\":\"37395259-88ca-417d-8cdb-f88624375a04\",\"type\":\"UnionRenderers\"}},\"id\":\"fae698c6-7695-48e2-8d2c-b778dfdb4c8a\",\"type\":\"ColumnDataSource\"},{\"attributes\":{\"line_alpha\":0.1,\"line_color\":\"#1f77b4\",\"line_width\":1.5,\"x\":{\"field\":\"x\"},\"y\":{\"field\":\"y\"}},\"id\":\"6ed1c27f-60ac-47a6-a3cc-20d86a3c7f6c\",\"type\":\"Line\"},{\"attributes\":{\"children\":[{\"id\":\"8a5b5775-c7a8-4e01-b50c-61f8612bcee0\",\"type\":\"Row\"}]},\"id\":\"36f8b69d-7ea9-4686-8e31-7cc9b0ca7edf\",\"type\":\"Column\"},{\"attributes\":{\"line_alpha\":0.1,\"line_color\":\"#1f77b4\",\"line_width\":1.5,\"x\":{\"field\":\"x\"},\"y\":{\"field\":\"y\"}},\"id\":\"a66d18dd-3126-48e4-a42b-285ab5e65be2\",\"type\":\"Line\"},{\"attributes\":{\"line_alpha\":0.6,\"line_color\":\"#984ea3\",\"line_width\":3,\"x\":{\"field\":\"x\"},\"y\":{\"field\":\"y\"}},\"id\":\"cc8fd293-51f6-4f3b-9942-af334cae1f5c\",\"type\":\"Line\"},{\"attributes\":{\"label\":{\"value\":\"CLIRAD `coolr_bands`\"},\"renderers\":[{\"id\":\"8c0fa29a-78dd-42fc-99eb-614d71dfdf2e\",\"type\":\"GlyphRenderer\"}]},\"id\":\"1af02f3a-0cf9-4c6e-8d3f-f078dbaf9b34\",\"type\":\"LegendItem\"},{\"attributes\":{},\"id\":\"aa372ac8-0d28-4123-927c-eb97e6e7016d\",\"type\":\"BasicTickFormatter\"},{\"attributes\":{\"label\":{\"value\":\"CRD\"},\"renderers\":[{\"id\":\"8b3a4a38-5da3-4913-bef4-1ec1ffae5bd6\",\"type\":\"GlyphRenderer\"},{\"id\":\"a216b525-83ee-4890-a212-0ee8eda3ca98\",\"type\":\"GlyphRenderer\"}]},\"id\":\"aa346858-1c0b-449d-99fa-b54258bc467b\",\"type\":\"LegendItem\"},{\"attributes\":{},\"id\":\"6c156001-b9a1-4192-bcfc-7cf262d9c769\",\"type\":\"UnionRenderers\"},{\"attributes\":{\"label\":{\"value\":\"WGT igg=10 wgt_flux=2\"},\"renderers\":[{\"id\":\"d2a4cf13-fdff-47d1-98f9-3bb4d80016cb\",\"type\":\"GlyphRenderer\"},{\"id\":\"9ed8f1c4-5282-4c6e-a16b-22f92f0eece7\",\"type\":\"GlyphRenderer\"}]},\"id\":\"4d93f137-1f98-4900-9041-69f275fd470e\",\"type\":\"LegendItem\"},{\"attributes\":{\"data_source\":{\"id\":\"fae698c6-7695-48e2-8d2c-b778dfdb4c8a\",\"type\":\"ColumnDataSource\"},\"glyph\":{\"id\":\"070b2e04-8dc4-44fe-ae8a-64767136e87b\",\"type\":\"Circle\"},\"hover_glyph\":null,\"muted_glyph\":null,\"nonselection_glyph\":{\"id\":\"effd8885-2616-4cec-8dc3-0bfe93965dc5\",\"type\":\"Circle\"},\"selection_glyph\":null,\"view\":{\"id\":\"91f27c85-f854-4c44-ad41-accf94dbb930\",\"type\":\"CDSView\"}},\"id\":\"df0a02a3-94a7-4641-a99a-550d8c318766\",\"type\":\"GlyphRenderer\"},{\"attributes\":{},\"id\":\"f9ffad85-5a98-44ba-80d2-37bd242f2da7\",\"type\":\"Selection\"},{\"attributes\":{},\"id\":\"0b2e2c45-7731-4938-a854-dfe7c68c9093\",\"type\":\"Selection\"},{\"attributes\":{\"items\":[{\"id\":\"1af02f3a-0cf9-4c6e-8d3f-f078dbaf9b34\",\"type\":\"LegendItem\"},{\"id\":\"aa346858-1c0b-449d-99fa-b54258bc467b\",\"type\":\"LegendItem\"},{\"id\":\"4d93f137-1f98-4900-9041-69f275fd470e\",\"type\":\"LegendItem\"}],\"label_text_font_size\":{\"value\":\"8pt\"},\"location\":[10,-30],\"plot\":{\"id\":\"a7190391-7db2-4662-b6f5-7f95993fcfea\",\"subtype\":\"Figure\",\"type\":\"Plot\"}},\"id\":\"08a5fc6a-e5e3-486e-a146-daae3db33aaf\",\"type\":\"Legend\"},{\"attributes\":{\"source\":{\"id\":\"e1ac3e4b-ba97-461d-9412-0947691e6824\",\"type\":\"ColumnDataSource\"}},\"id\":\"56f8afc3-b2a7-4438-b968-506ef7e1827d\",\"type\":\"CDSView\"},{\"attributes\":{},\"id\":\"96898069-a744-4bf2-9300-3686956577af\",\"type\":\"UnionRenderers\"},{\"attributes\":{},\"id\":\"9a5a6d75-f911-469e-90cf-e458fd273782\",\"type\":\"UnionRenderers\"},{\"attributes\":{\"plot\":null,\"text\":\"Log pressure scale\"},\"id\":\"dc986b9e-b509-4fcb-a2b3-316066a41e7d\",\"type\":\"Title\"},{\"attributes\":{\"fill_alpha\":{\"value\":0.1},\"fill_color\":{\"value\":\"#1f77b4\"},\"line_alpha\":{\"value\":0.1},\"line_color\":{\"value\":\"#1f77b4\"},\"x\":{\"field\":\"x\"},\"y\":{\"field\":\"y\"}},\"id\":\"af16d2c5-dc94-4c40-a915-0b00d9001123\",\"type\":\"Square\"},{\"attributes\":{},\"id\":\"2114f63f-4d34-4305-8712-0de87a2eb6c6\",\"type\":\"Selection\"},{\"attributes\":{\"axis_label\":\"cooling rate [K/day]\",\"formatter\":{\"id\":\"8baa4104-2d68-470d-b613-47dbccb4905b\",\"type\":\"BasicTickFormatter\"},\"plot\":{\"id\":\"a7190391-7db2-4662-b6f5-7f95993fcfea\",\"subtype\":\"Figure\",\"type\":\"Plot\"},\"ticker\":{\"id\":\"0c55adc7-539f-4a45-93c9-ccf6655588c2\",\"type\":\"BasicTicker\"}},\"id\":\"f1657024-ee40-4549-92bb-609e0a4f80e8\",\"type\":\"LinearAxis\"},{\"attributes\":{},\"id\":\"37395259-88ca-417d-8cdb-f88624375a04\",\"type\":\"UnionRenderers\"},{\"attributes\":{},\"id\":\"75d7bcd7-fed0-43b3-bf42-2ea9fcde621e\",\"type\":\"Selection\"},{\"attributes\":{},\"id\":\"37c97e90-779f-4083-bb11-3909cfaac8ad\",\"type\":\"UnionRenderers\"},{\"attributes\":{\"callback\":null,\"end\":0.01,\"start\":1020},\"id\":\"0f79c1d9-2a70-4aab-9453-02911c1836ab\",\"type\":\"Range1d\"},{\"attributes\":{\"num_minor_ticks\":10},\"id\":\"e786d711-d631-4ecb-a11a-3d40239f97d9\",\"type\":\"LogTicker\"},{\"attributes\":{},\"id\":\"3b01016b-11b1-48d5-9b1d-5f770190c50f\",\"type\":\"Selection\"},{\"attributes\":{},\"id\":\"cc55d694-2ba6-4b15-a9d3-2efed15ead4f\",\"type\":\"UnionRenderers\"},{\"attributes\":{\"line_color\":\"#4daf4a\",\"line_width\":1.5,\"x\":{\"field\":\"x\"},\"y\":{\"field\":\"y\"}},\"id\":\"9cc4afd6-8b73-4302-a2d9-6893eab62034\",\"type\":\"Line\"},{\"attributes\":{},\"id\":\"5c805e3d-fb23-46de-b4d7-fb10cbb53139\",\"type\":\"Selection\"},{\"attributes\":{\"source\":{\"id\":\"5b891e15-2c3d-405d-b086-a346718d533f\",\"type\":\"ColumnDataSource\"}},\"id\":\"c696587e-790d-4c36-a883-b0f0af47d03a\",\"type\":\"CDSView\"},{\"attributes\":{},\"id\":\"f2b66f05-d25e-42bc-9237-3bf60af93b2d\",\"type\":\"UnionRenderers\"},{\"attributes\":{\"ticker\":null},\"id\":\"ecf6742e-b558-40ca-9b1a-00b7675eef00\",\"type\":\"LogTickFormatter\"},{\"attributes\":{\"active_drag\":\"auto\",\"active_inspect\":\"auto\",\"active_scroll\":\"auto\",\"active_tap\":\"auto\",\"tools\":[{\"id\":\"ccdb655f-3cbb-4517-8132-e8de329961ea\",\"type\":\"PanTool\"},{\"id\":\"c0aea811-de7d-42a9-9651-4f9674009346\",\"type\":\"WheelZoomTool\"},{\"id\":\"7d430292-871d-4227-8b82-0a42f5626350\",\"type\":\"BoxZoomTool\"},{\"id\":\"395c4d94-df98-4072-b4eb-90a6ceb48d56\",\"type\":\"SaveTool\"},{\"id\":\"9ec3e980-6370-48b9-808e-e401ef87b8f8\",\"type\":\"ResetTool\"},{\"id\":\"1021e6ef-3ceb-4835-8837-c12719270e4e\",\"type\":\"HelpTool\"}]},\"id\":\"4b2986e8-9ae1-40b2-a9c6-e196f65c338d\",\"type\":\"Toolbar\"},{\"attributes\":{\"source\":{\"id\":\"cf424590-6144-4998-bec7-4ec3c6e1a7fb\",\"type\":\"ColumnDataSource\"}},\"id\":\"71781a95-8221-42e5-8f49-f26de97341c9\",\"type\":\"CDSView\"},{\"attributes\":{},\"id\":\"8baa4104-2d68-470d-b613-47dbccb4905b\",\"type\":\"BasicTickFormatter\"},{\"attributes\":{},\"id\":\"0c55adc7-539f-4a45-93c9-ccf6655588c2\",\"type\":\"BasicTicker\"},{\"attributes\":{\"axis_label\":\"pressure [mb]\",\"formatter\":{\"id\":\"ecf6742e-b558-40ca-9b1a-00b7675eef00\",\"type\":\"LogTickFormatter\"},\"plot\":{\"id\":\"a7190391-7db2-4662-b6f5-7f95993fcfea\",\"subtype\":\"Figure\",\"type\":\"Plot\"},\"ticker\":{\"id\":\"e786d711-d631-4ecb-a11a-3d40239f97d9\",\"type\":\"LogTicker\"}},\"id\":\"c0a24490-5981-470f-815c-d7476b7b1ac5\",\"type\":\"LogAxis\"},{\"attributes\":{\"line_alpha\":0.1,\"line_color\":\"#1f77b4\",\"line_dash\":[6],\"line_width\":5,\"x\":{\"field\":\"x\"},\"y\":{\"field\":\"y\"}},\"id\":\"8acb2212-5911-4038-be13-2a424203cda6\",\"type\":\"Line\"},{\"attributes\":{},\"id\":\"5d487b2b-cc6f-4419-837c-073ce4858d90\",\"type\":\"Selection\"},{\"attributes\":{},\"id\":\"81292afb-6ce5-4b75-94cf-8b81cc4407f6\",\"type\":\"Selection\"},{\"attributes\":{\"callback\":null,\"end\":0.01,\"start\":1020},\"id\":\"aaccc1b1-11ed-444d-b9c4-f5187ff6042c\",\"type\":\"Range1d\"},{\"attributes\":{},\"id\":\"585c8c9c-c8e5-490c-9ce2-91309dbc1674\",\"type\":\"LinearScale\"},{\"attributes\":{\"plot\":{\"id\":\"a7190391-7db2-4662-b6f5-7f95993fcfea\",\"subtype\":\"Figure\",\"type\":\"Plot\"},\"ticker\":{\"id\":\"0c55adc7-539f-4a45-93c9-ccf6655588c2\",\"type\":\"BasicTicker\"}},\"id\":\"2091f686-898c-445c-940d-8b2946744d0d\",\"type\":\"Grid\"},{\"attributes\":{\"callback\":null,\"data\":{\"x\":{\"__ndarray__\":\"MQ6J1uXv0T8WWilGjtu0P+cOhi2Cbqg/IH5rGB8VkD9M445s6/2Dv6vwE3kl2Jq//u7RpuCsob/d0Yhki06jv7ajy6ru4qO/wm+14b9fpL8KauF6YDylvzaGO0LG1qa/u8hdtGLgqb8TML9180Swvw6gK4a19bG/3kGv6YgWr78WVbKo93CmvzUqdWvHRJq/uSzH6Bdleb8UcHQ6NTyQP3im84ihOq0/TuuZ0rg/xD/8KFVoQSTHP3ls9P/kzsE/sqF675hPvT/9zBmEy8C0PwvksR2O2ao/AdDDMRR1nT9A8byEpeKIP1e2+iagFHQ/+ytpHqc8bz/w2P6/OX1nPxDHVj2Tmk0/7o2x3gwGOr9GV/FfgzJbv5CiVF8y3mK/TuNjo28zZb8hwOKj1/xmv9xOaSmKY2a/5tGncm7caL+OJWuWBBZrvyYOW53VJ22/5CTXSCfWbr8+ulsR8SFwv+q664Eaa3C/o+N3jlnab7/i7Onx2uhtv2VOddvVUWy/7lnN9sX+ar+Bj1HI1HBov35uidg3YmO/3dnRm7WLVb/I2cO4Bc0qPzLjJasmcGE/KZsCMbrQcT/hYLiBHo17P7hN5EWHwII/h0ejgabFhz9cwq7heviMP8eJd8y1cpE/L9MadiQGlT9zN7VXEuWYP289IXMZwps/N7ykWtl4nT+xxqaDX2ScP2m3MOcmJZs/uLsJ6elWmz8ue7Rmm4OcP74LtGvdLp8/ya39KOBaoT+3RzcOMWijP9Sabw8F3aU/Wsoi4iAAqT8GAfcR/32tP2wCGfWh77Y/\",\"dtype\":\"float64\",\"shape\":[75]},\"y\":{\"__ndarray__\":\"GhExyth1ND/Sv8nbtpRIP2vylNV0PVE/aTum7souWD/At0SJ8fVgPw3Iuahxymc/MSNhhJWvcD/bTfBN02d3P2zb5nxnaoA/CD5h5MAGhz8NmeH1TyaQP+zrCsc9p5Y/LbKd76fGnz/bLW5ISEmmPww9YvTcQq8/JV2OstnstT8Er5Y7M8G+P0c+r3jqkcU/5h99k6ZBzj88bCIzFzjVP4enV8oyxN0//yH99nXg5D8qOpLLf0jtP5kqGJXUifQ/c9cS8kHP/D+/DpwzojQEQIEmwoanVwxA4lgXt9HgE0BSSZ2AJuIbQAMJih9jjiNA5q4l5INuK0AwTKYKRj0zQNv5fmq8/DpAaCJseHrtQkB/+zpwzoxKQM3MzMzMeFJAZmZmZmZqWEAAAAAAAFxeQM3MzMzMJmJAmpmZmZkfZUBmZmZmZhhoQDMzMzMzEWtAAAAAAAAKbkBmZmZmZoFwQM3MzMzM/XFAMzMzMzN6c0CamZmZmfZ0QAAAAAAAc3ZAZmZmZmbvd0DNzMzMzGt5QDMzMzMz6HpAmpmZmZlkfEAAAAAAAOF9QGZmZmZmXX9AZmZmZuZsgECamZmZGSuBQM3MzMxM6YFAAAAAAICngkAzMzMzs2WDQGZmZmbmI4RAmpmZmRnihEDNzMzMTKCFQAAAAACAXoZAMzMzM7Mch0BmZmZm5tqHQJqZmZkZmYhAzczMzExXiUAAAAAAgBWKQDMzMzOz04pAZmZmZuaRi0CamZmZGVCMQM3MzMxMDo1AAAAAAIDMjUAzMzMzs4qOQGZmZmbmSI9A\",\"dtype\":\"float64\",\"shape\":[75]}},\"selected\":{\"id\":\"5d487b2b-cc6f-4419-837c-073ce4858d90\",\"type\":\"Selection\"},\"selection_policy\":{\"id\":\"f2b66f05-d25e-42bc-9237-3bf60af93b2d\",\"type\":\"UnionRenderers\"}},\"id\":\"e1ac3e4b-ba97-461d-9412-0947691e6824\",\"type\":\"ColumnDataSource\"},{\"attributes\":{},\"id\":\"841d1be3-6227-4227-8477-ac8a0d4119b0\",\"type\":\"UnionRenderers\"},{\"attributes\":{\"data_source\":{\"id\":\"7008431f-ba80-4073-bcce-b517596606aa\",\"type\":\"ColumnDataSource\"},\"glyph\":{\"id\":\"5af73087-82d4-4f2a-b75a-2d505299cc40\",\"type\":\"Line\"},\"hover_glyph\":null,\"muted_glyph\":null,\"nonselection_glyph\":{\"id\":\"8acb2212-5911-4038-be13-2a424203cda6\",\"type\":\"Line\"},\"selection_glyph\":null,\"view\":{\"id\":\"f82a94cf-c61e-4ad2-a835-b85565c11394\",\"type\":\"CDSView\"}},\"id\":\"8c0fa29a-78dd-42fc-99eb-614d71dfdf2e\",\"type\":\"GlyphRenderer\"},{\"attributes\":{},\"id\":\"a48401ba-197c-4265-901e-87bafc3fea25\",\"type\":\"Selection\"},{\"attributes\":{\"dimension\":1,\"plot\":{\"id\":\"6d372f55-65b5-4921-ae23-b267e012e568\",\"subtype\":\"Figure\",\"type\":\"Plot\"},\"ticker\":{\"id\":\"719674ab-16c3-4d3e-a066-c58146a51939\",\"type\":\"BasicTicker\"}},\"id\":\"d0061501-99cc-4c4c-930e-9b8be77a40ce\",\"type\":\"Grid\"},{\"attributes\":{},\"id\":\"2c51ebe8-4a34-4969-9e82-f35f10eadf3b\",\"type\":\"LogScale\"},{\"attributes\":{},\"id\":\"56cc073d-13ab-4e23-b98f-2022ff59d0f9\",\"type\":\"UnionRenderers\"},{\"attributes\":{\"axis_label\":\"cooling rate [K/day]\",\"formatter\":{\"id\":\"aa372ac8-0d28-4123-927c-eb97e6e7016d\",\"type\":\"BasicTickFormatter\"},\"plot\":{\"id\":\"6d372f55-65b5-4921-ae23-b267e012e568\",\"subtype\":\"Figure\",\"type\":\"Plot\"},\"ticker\":{\"id\":\"5d0c0d1b-024d-47bc-bf19-afca85b8ebff\",\"type\":\"BasicTicker\"}},\"id\":\"2d826224-e06d-4296-b3f9-1f75dcfca4e9\",\"type\":\"LinearAxis\"},{\"attributes\":{\"data_source\":{\"id\":\"566b315e-23b8-4c5b-8acc-ac0aa0e9fb59\",\"type\":\"ColumnDataSource\"},\"glyph\":{\"id\":\"abbf6974-2df2-4c0e-9bb0-8f6a15c38aea\",\"type\":\"Square\"},\"hover_glyph\":null,\"muted_glyph\":null,\"nonselection_glyph\":{\"id\":\"af16d2c5-dc94-4c40-a915-0b00d9001123\",\"type\":\"Square\"},\"selection_glyph\":null,\"view\":{\"id\":\"c5789f4f-002f-4009-9fbe-15d74fdf5cd3\",\"type\":\"CDSView\"}},\"id\":\"10872eb5-edce-43b2-9820-22ffc2e639d3\",\"type\":\"GlyphRenderer\"},{\"attributes\":{},\"id\":\"fd37ec3c-5688-4e70-a659-613a9f298c87\",\"type\":\"Selection\"},{\"attributes\":{\"callback\":null,\"data\":{\"x\":{\"__ndarray__\":\"MQ6J1uXv0T8WWilGjtu0P+cOhi2Cbqg/IH5rGB8VkD9M445s6/2Dv6vwE3kl2Jq//u7RpuCsob/d0Yhki06jv7ajy6ru4qO/wm+14b9fpL8KauF6YDylvzaGO0LG1qa/u8hdtGLgqb8TML9180Swvw6gK4a19bG/3kGv6YgWr78WVbKo93CmvzUqdWvHRJq/uSzH6Bdleb8UcHQ6NTyQP3im84ihOq0/TuuZ0rg/xD/8KFVoQSTHP3ls9P/kzsE/sqF675hPvT/9zBmEy8C0PwvksR2O2ao/AdDDMRR1nT9A8byEpeKIP1e2+iagFHQ/+ytpHqc8bz/w2P6/OX1nPxDHVj2Tmk0/7o2x3gwGOr9GV/FfgzJbv5CiVF8y3mK/TuNjo28zZb8hwOKj1/xmv9xOaSmKY2a/5tGncm7caL+OJWuWBBZrvyYOW53VJ22/5CTXSCfWbr8+ulsR8SFwv+q664Eaa3C/o+N3jlnab7/i7Onx2uhtv2VOddvVUWy/7lnN9sX+ar+Bj1HI1HBov35uidg3YmO/3dnRm7WLVb/I2cO4Bc0qPzLjJasmcGE/KZsCMbrQcT/hYLiBHo17P7hN5EWHwII/h0ejgabFhz9cwq7heviMP8eJd8y1cpE/L9MadiQGlT9zN7VXEuWYP289IXMZwps/N7ykWtl4nT+xxqaDX2ScP2m3MOcmJZs/uLsJ6elWmz8ue7Rmm4OcP74LtGvdLp8/ya39KOBaoT+3RzcOMWijP9Sabw8F3aU/Wsoi4iAAqT8GAfcR/32tP2wCGfWh77Y/\",\"dtype\":\"float64\",\"shape\":[75]},\"y\":{\"__ndarray__\":\"GhExyth1ND/Sv8nbtpRIP2vylNV0PVE/aTum7souWD/At0SJ8fVgPw3Iuahxymc/MSNhhJWvcD/bTfBN02d3P2zb5nxnaoA/CD5h5MAGhz8NmeH1TyaQP+zrCsc9p5Y/LbKd76fGnz/bLW5ISEmmPww9YvTcQq8/JV2OstnstT8Er5Y7M8G+P0c+r3jqkcU/5h99k6ZBzj88bCIzFzjVP4enV8oyxN0//yH99nXg5D8qOpLLf0jtP5kqGJXUifQ/c9cS8kHP/D+/DpwzojQEQIEmwoanVwxA4lgXt9HgE0BSSZ2AJuIbQAMJih9jjiNA5q4l5INuK0AwTKYKRj0zQNv5fmq8/DpAaCJseHrtQkB/+zpwzoxKQM3MzMzMeFJAZmZmZmZqWEAAAAAAAFxeQM3MzMzMJmJAmpmZmZkfZUBmZmZmZhhoQDMzMzMzEWtAAAAAAAAKbkBmZmZmZoFwQM3MzMzM/XFAMzMzMzN6c0CamZmZmfZ0QAAAAAAAc3ZAZmZmZmbvd0DNzMzMzGt5QDMzMzMz6HpAmpmZmZlkfEAAAAAAAOF9QGZmZmZmXX9AZmZmZuZsgECamZmZGSuBQM3MzMxM6YFAAAAAAICngkAzMzMzs2WDQGZmZmbmI4RAmpmZmRnihEDNzMzMTKCFQAAAAACAXoZAMzMzM7Mch0BmZmZm5tqHQJqZmZkZmYhAzczMzExXiUAAAAAAgBWKQDMzMzOz04pAZmZmZuaRi0CamZmZGVCMQM3MzMxMDo1AAAAAAIDMjUAzMzMzs4qOQGZmZmbmSI9A\",\"dtype\":\"float64\",\"shape\":[75]}},\"selected\":{\"id\":\"3b01016b-11b1-48d5-9b1d-5f770190c50f\",\"type\":\"Selection\"},\"selection_policy\":{\"id\":\"cc55d694-2ba6-4b15-a9d3-2efed15ead4f\",\"type\":\"UnionRenderers\"}},\"id\":\"566b315e-23b8-4c5b-8acc-ac0aa0e9fb59\",\"type\":\"ColumnDataSource\"},{\"attributes\":{},\"id\":\"e005baca-9a63-48b3-a5eb-ca30dc807c12\",\"type\":\"UnionRenderers\"},{\"attributes\":{\"children\":[{\"id\":\"b6a85d5e-0de9-4531-a62c-26ccd4598d4a\",\"type\":\"ToolbarBox\"},{\"id\":\"36f8b69d-7ea9-4686-8e31-7cc9b0ca7edf\",\"type\":\"Column\"}]},\"id\":\"f8a1a7d9-177c-44f7-9db1-3ca0b8ef6c90\",\"type\":\"Column\"},{\"attributes\":{\"source\":{\"id\":\"fae698c6-7695-48e2-8d2c-b778dfdb4c8a\",\"type\":\"ColumnDataSource\"}},\"id\":\"91f27c85-f854-4c44-ad41-accf94dbb930\",\"type\":\"CDSView\"},{\"attributes\":{\"tools\":[{\"id\":\"bf814312-05f5-4eac-8edc-7e6684b42342\",\"type\":\"PanTool\"},{\"id\":\"8bed479f-1f98-4938-b1bd-1b94ad23b883\",\"type\":\"WheelZoomTool\"},{\"id\":\"c6e186e1-5dca-41de-80f9-4ddb5e0ba9ad\",\"type\":\"BoxZoomTool\"},{\"id\":\"5c98d2f5-7621-48f1-a998-7a9b77631d48\",\"type\":\"SaveTool\"},{\"id\":\"43992682-9eba-4715-8f41-49c028abb6de\",\"type\":\"ResetTool\"},{\"id\":\"53e83c7d-9b17-46e5-81a1-3beb239f8331\",\"type\":\"HelpTool\"},{\"id\":\"ccdb655f-3cbb-4517-8132-e8de329961ea\",\"type\":\"PanTool\"},{\"id\":\"c0aea811-de7d-42a9-9651-4f9674009346\",\"type\":\"WheelZoomTool\"},{\"id\":\"7d430292-871d-4227-8b82-0a42f5626350\",\"type\":\"BoxZoomTool\"},{\"id\":\"395c4d94-df98-4072-b4eb-90a6ceb48d56\",\"type\":\"SaveTool\"},{\"id\":\"9ec3e980-6370-48b9-808e-e401ef87b8f8\",\"type\":\"ResetTool\"},{\"id\":\"1021e6ef-3ceb-4835-8837-c12719270e4e\",\"type\":\"HelpTool\"}]},\"id\":\"b46ccab7-f328-4feb-975c-343bd3226b30\",\"type\":\"ProxyToolbar\"},{\"attributes\":{\"toolbar\":{\"id\":\"b46ccab7-f328-4feb-975c-343bd3226b30\",\"type\":\"ProxyToolbar\"},\"toolbar_location\":\"above\"},\"id\":\"b6a85d5e-0de9-4531-a62c-26ccd4598d4a\",\"type\":\"ToolbarBox\"},{\"attributes\":{\"source\":{\"id\":\"7008431f-ba80-4073-bcce-b517596606aa\",\"type\":\"ColumnDataSource\"}},\"id\":\"f82a94cf-c61e-4ad2-a835-b85565c11394\",\"type\":\"CDSView\"},{\"attributes\":{\"line_alpha\":0.1,\"line_color\":\"#1f77b4\",\"line_dash\":[6],\"line_width\":5,\"x\":{\"field\":\"x\"},\"y\":{\"field\":\"y\"}},\"id\":\"59ba0945-a00b-495f-ab1d-910db6a0fe1b\",\"type\":\"Line\"},{\"attributes\":{\"fill_alpha\":{\"value\":0.1},\"fill_color\":{\"value\":\"#1f77b4\"},\"line_alpha\":{\"value\":0.1},\"line_color\":{\"value\":\"#1f77b4\"},\"x\":{\"field\":\"x\"},\"y\":{\"field\":\"y\"}},\"id\":\"bfa761d1-f8c5-4143-a378-e9ebba1b9123\",\"type\":\"Circle\"},{\"attributes\":{\"overlay\":{\"id\":\"b82b99c0-796d-474a-8495-9e128e07f106\",\"type\":\"BoxAnnotation\"}},\"id\":\"c6e186e1-5dca-41de-80f9-4ddb5e0ba9ad\",\"type\":\"BoxZoomTool\"},{\"attributes\":{\"callback\":null,\"end\":0.21461627223000002,\"start\":-0.07297499522999999},\"id\":\"7e594580-c21d-4a86-86c2-3c6d04abf09a\",\"type\":\"Range1d\"},{\"attributes\":{},\"id\":\"5d0c0d1b-024d-47bc-bf19-afca85b8ebff\",\"type\":\"BasicTicker\"},{\"attributes\":{\"fill_alpha\":{\"value\":0.1},\"fill_color\":{\"value\":\"#1f77b4\"},\"line_alpha\":{\"value\":0.1},\"line_color\":{\"value\":\"#1f77b4\"},\"x\":{\"field\":\"x\"},\"y\":{\"field\":\"y\"}},\"id\":\"effd8885-2616-4cec-8dc3-0bfe93965dc5\",\"type\":\"Circle\"},{\"attributes\":{\"callback\":null,\"data\":{\"x\":{\"__ndarray__\":\"lmF54+ZMwT8GFK2GCxOGP+xigCeZ04E/AvYMetoVbj+kU/U4NdNSv6k4SGfkHHa/Cx7QIcoBg792NXnKarqKv+nRwesUWpG/aL7oyh6jlb+rQUeUvlyav74LUUEixp+/XQsQi2x1o78NM72PZtapv2KWEIjkH66/zb/Ike/OrL9K0Hs9QV2pv5kty2rJyaS/X4sGvtwGmb+mKlWw8jVzPz9qcZj4O7A/a2kLW/Uxxz9RFVPpJxzLPw9lA0QcRsM//3nYE3a0uj9Uvd74OKWvP+S1JJ0Hy6I/EGOIUjGElj82qbfy0WOJP9wrhZUJBXk/it7PkD0AYj8+aavN0SERP5wg+QqBL0m/QVg5WbBXSb/h+Li3HcFWvy4fja8rGWC/ljTfdXi3Yr/CShf4EKhkv7lrAvacbmS/QbpAmMfZZb9YhsgTRzFnvy6XMIIdcmi/tsL5dkBJab+6cwo2Gq5pv59fsxs/jWm/vDJwQ7rGaL9/tLYrH0Jnv/cFPL1OAmW/T+gSokW8Yb+Xk3LkMV1Zv1GA6m6gk0e/d8hrrRS2NT8TyRLABmlaP0mti+0CnWk/Nin3jTcKdD+QdKmwYkh8P5UHZTrt0oI/CSinUsAxiD8GbjiHxm6OP+jvguGM/JI/trPYu3mJlz/GaNZ/wWGcP73BdZdUBaA/+uQK6rlXoT956wsHk/mgP7vFvMEpCaA/fH9QBUbYnj8SRnROOjGePwZVA8ovTp8/Fp0Y0ffMoD82CTlKuVaiPwmxKxSGVKQ/unHUz3AKpz+j5weP5UarPx1h4bzpqrU/\",\"dtype\":\"float64\",\"shape\":[75]},\"y\":{\"__ndarray__\":\"GhExyth1ND/Sv8nbtpRIP2vylNV0PVE/aTum7souWD/At0SJ8fVgPw3Iuahxymc/MSNhhJWvcD/bTfBN02d3P2zb5nxnaoA/CD5h5MAGhz8NmeH1TyaQP+zrCsc9p5Y/LbKd76fGnz/bLW5ISEmmPww9YvTcQq8/JV2OstnstT8Er5Y7M8G+P0c+r3jqkcU/5h99k6ZBzj88bCIzFzjVP4enV8oyxN0//yH99nXg5D8qOpLLf0jtP5kqGJXUifQ/c9cS8kHP/D+/DpwzojQEQIEmwoanVwxA4lgXt9HgE0BSSZ2AJuIbQAMJih9jjiNA5q4l5INuK0AwTKYKRj0zQNv5fmq8/DpAaCJseHrtQkB/+zpwzoxKQM3MzMzMeFJAZmZmZmZqWEAAAAAAAFxeQM3MzMzMJmJAmpmZmZkfZUBmZmZmZhhoQDMzMzMzEWtAAAAAAAAKbkBmZmZmZoFwQM3MzMzM/XFAMzMzMzN6c0CamZmZmfZ0QAAAAAAAc3ZAZmZmZmbvd0DNzMzMzGt5QDMzMzMz6HpAmpmZmZlkfEAAAAAAAOF9QGZmZmZmXX9AZmZmZuZsgECamZmZGSuBQM3MzMxM6YFAAAAAAICngkAzMzMzs2WDQGZmZmbmI4RAmpmZmRnihEDNzMzMTKCFQAAAAACAXoZAMzMzM7Mch0BmZmZm5tqHQJqZmZkZmYhAzczMzExXiUAAAAAAgBWKQDMzMzOz04pAZmZmZuaRi0CamZmZGVCMQM3MzMxMDo1AAAAAAIDMjUAzMzMzs4qOQGZmZmbmSI9A\",\"dtype\":\"float64\",\"shape\":[75]}},\"selected\":{\"id\":\"81292afb-6ce5-4b75-94cf-8b81cc4407f6\",\"type\":\"Selection\"},\"selection_policy\":{\"id\":\"841d1be3-6227-4227-8477-ac8a0d4119b0\",\"type\":\"UnionRenderers\"}},\"id\":\"fffbb8d4-4ffe-461b-ad7a-528b5309add0\",\"type\":\"ColumnDataSource\"},{\"attributes\":{\"active_drag\":\"auto\",\"active_inspect\":\"auto\",\"active_scroll\":\"auto\",\"active_tap\":\"auto\",\"tools\":[{\"id\":\"bf814312-05f5-4eac-8edc-7e6684b42342\",\"type\":\"PanTool\"},{\"id\":\"8bed479f-1f98-4938-b1bd-1b94ad23b883\",\"type\":\"WheelZoomTool\"},{\"id\":\"c6e186e1-5dca-41de-80f9-4ddb5e0ba9ad\",\"type\":\"BoxZoomTool\"},{\"id\":\"5c98d2f5-7621-48f1-a998-7a9b77631d48\",\"type\":\"SaveTool\"},{\"id\":\"43992682-9eba-4715-8f41-49c028abb6de\",\"type\":\"ResetTool\"},{\"id\":\"53e83c7d-9b17-46e5-81a1-3beb239f8331\",\"type\":\"HelpTool\"}]},\"id\":\"d5313aaa-7659-49b3-b5cf-4901cff3573a\",\"type\":\"Toolbar\"},{\"attributes\":{\"fill_alpha\":{\"value\":0.7},\"fill_color\":{\"value\":\"#4daf4a\"},\"line_alpha\":{\"value\":0.7},\"line_color\":{\"value\":\"#4daf4a\"},\"x\":{\"field\":\"x\"},\"y\":{\"field\":\"y\"}},\"id\":\"26e91aaf-b9fd-4238-9bda-0a54f23a1d70\",\"type\":\"Circle\"},{\"attributes\":{},\"id\":\"719674ab-16c3-4d3e-a066-c58146a51939\",\"type\":\"BasicTicker\"},{\"attributes\":{\"plot\":null,\"text\":\"Linear pressure scale\"},\"id\":\"c99cbb13-632a-4a7d-b972-3e140168e8bb\",\"type\":\"Title\"},{\"attributes\":{\"data_source\":{\"id\":\"f38990f6-eaa8-46c7-b6e4-3e604bd77b3e\",\"type\":\"ColumnDataSource\"},\"glyph\":{\"id\":\"9cc4afd6-8b73-4302-a2d9-6893eab62034\",\"type\":\"Line\"},\"hover_glyph\":null,\"muted_glyph\":null,\"nonselection_glyph\":{\"id\":\"a66d18dd-3126-48e4-a42b-285ab5e65be2\",\"type\":\"Line\"},\"selection_glyph\":null,\"view\":{\"id\":\"bf3917f7-5e92-4677-9216-490ea073ad2f\",\"type\":\"CDSView\"}},\"id\":\"b9d282a6-a840-4f46-8ba7-4ab67171e682\",\"type\":\"GlyphRenderer\"},{\"attributes\":{\"source\":{\"id\":\"c2d98454-e514-4a60-8314-49396096bd93\",\"type\":\"ColumnDataSource\"}},\"id\":\"2ad7f116-fcad-4d4e-b7df-4c50cfb7f598\",\"type\":\"CDSView\"},{\"attributes\":{\"below\":[{\"id\":\"f1657024-ee40-4549-92bb-609e0a4f80e8\",\"type\":\"LinearAxis\"}],\"left\":[{\"id\":\"c0a24490-5981-470f-815c-d7476b7b1ac5\",\"type\":\"LogAxis\"}],\"plot_height\":500,\"plot_width\":560,\"renderers\":[{\"id\":\"f1657024-ee40-4549-92bb-609e0a4f80e8\",\"type\":\"LinearAxis\"},{\"id\":\"2091f686-898c-445c-940d-8b2946744d0d\",\"type\":\"Grid\"},{\"id\":\"c0a24490-5981-470f-815c-d7476b7b1ac5\",\"type\":\"LogAxis\"},{\"id\":\"0cf85afb-1c78-46a9-871d-2cf2c2b21983\",\"type\":\"Grid\"},{\"id\":\"036ab687-5e65-4591-a465-fb33483ae38e\",\"type\":\"BoxAnnotation\"},{\"id\":\"8c0fa29a-78dd-42fc-99eb-614d71dfdf2e\",\"type\":\"GlyphRenderer\"},{\"id\":\"8b3a4a38-5da3-4913-bef4-1ec1ffae5bd6\",\"type\":\"GlyphRenderer\"},{\"id\":\"a216b525-83ee-4890-a212-0ee8eda3ca98\",\"type\":\"GlyphRenderer\"},{\"id\":\"d2a4cf13-fdff-47d1-98f9-3bb4d80016cb\",\"type\":\"GlyphRenderer\"},{\"id\":\"9ed8f1c4-5282-4c6e-a16b-22f92f0eece7\",\"type\":\"GlyphRenderer\"},{\"id\":\"08a5fc6a-e5e3-486e-a146-daae3db33aaf\",\"type\":\"Legend\"}],\"right\":[{\"id\":\"08a5fc6a-e5e3-486e-a146-daae3db33aaf\",\"type\":\"Legend\"}],\"title\":{\"id\":\"dc986b9e-b509-4fcb-a2b3-316066a41e7d\",\"type\":\"Title\"},\"toolbar\":{\"id\":\"4b2986e8-9ae1-40b2-a9c6-e196f65c338d\",\"type\":\"Toolbar\"},\"toolbar_location\":null,\"x_range\":{\"id\":\"7e594580-c21d-4a86-86c2-3c6d04abf09a\",\"type\":\"Range1d\"},\"x_scale\":{\"id\":\"585c8c9c-c8e5-490c-9ce2-91309dbc1674\",\"type\":\"LinearScale\"},\"y_range\":{\"id\":\"aaccc1b1-11ed-444d-b9c4-f5187ff6042c\",\"type\":\"Range1d\"},\"y_scale\":{\"id\":\"2c51ebe8-4a34-4969-9e82-f35f10eadf3b\",\"type\":\"LogScale\"}},\"id\":\"a7190391-7db2-4662-b6f5-7f95993fcfea\",\"subtype\":\"Figure\",\"type\":\"Plot\"},{\"attributes\":{\"data_source\":{\"id\":\"5b891e15-2c3d-405d-b086-a346718d533f\",\"type\":\"ColumnDataSource\"},\"glyph\":{\"id\":\"56b4f946-79e0-43f7-9379-0b8ab18546d2\",\"type\":\"Line\"},\"hover_glyph\":null,\"muted_glyph\":null,\"nonselection_glyph\":{\"id\":\"59ba0945-a00b-495f-ab1d-910db6a0fe1b\",\"type\":\"Line\"},\"selection_glyph\":null,\"view\":{\"id\":\"c696587e-790d-4c36-a883-b0f0af47d03a\",\"type\":\"CDSView\"}},\"id\":\"b76318ff-4312-4640-b3cb-d2456a5ca39e\",\"type\":\"GlyphRenderer\"},{\"attributes\":{\"line_alpha\":0.6,\"line_color\":\"#984ea3\",\"line_width\":3,\"x\":{\"field\":\"x\"},\"y\":{\"field\":\"y\"}},\"id\":\"507a128a-1688-47c4-adc9-10b3bbaee49c\",\"type\":\"Line\"},{\"attributes\":{},\"id\":\"321b622b-b634-46ec-b618-bec86c6306c7\",\"type\":\"LinearScale\"},{\"attributes\":{\"below\":[{\"id\":\"2d826224-e06d-4296-b3f9-1f75dcfca4e9\",\"type\":\"LinearAxis\"}],\"left\":[{\"id\":\"29c30c16-90f0-4848-a03b-96295fbbde0f\",\"type\":\"LinearAxis\"}],\"plot_height\":500,\"plot_width\":400,\"renderers\":[{\"id\":\"2d826224-e06d-4296-b3f9-1f75dcfca4e9\",\"type\":\"LinearAxis\"},{\"id\":\"c6d0f57e-d41e-44d2-87f1-01eb44d2782f\",\"type\":\"Grid\"},{\"id\":\"29c30c16-90f0-4848-a03b-96295fbbde0f\",\"type\":\"LinearAxis\"},{\"id\":\"d0061501-99cc-4c4c-930e-9b8be77a40ce\",\"type\":\"Grid\"},{\"id\":\"b82b99c0-796d-474a-8495-9e128e07f106\",\"type\":\"BoxAnnotation\"},{\"id\":\"b76318ff-4312-4640-b3cb-d2456a5ca39e\",\"type\":\"GlyphRenderer\"},{\"id\":\"df0a02a3-94a7-4641-a99a-550d8c318766\",\"type\":\"GlyphRenderer\"},{\"id\":\"b9d282a6-a840-4f46-8ba7-4ab67171e682\",\"type\":\"GlyphRenderer\"},{\"id\":\"10872eb5-edce-43b2-9820-22ffc2e639d3\",\"type\":\"GlyphRenderer\"},{\"id\":\"19e2476f-3449-48df-8705-183be8f078a8\",\"type\":\"GlyphRenderer\"}],\"title\":{\"id\":\"c99cbb13-632a-4a7d-b972-3e140168e8bb\",\"type\":\"Title\"},\"toolbar\":{\"id\":\"d5313aaa-7659-49b3-b5cf-4901cff3573a\",\"type\":\"Toolbar\"},\"toolbar_location\":null,\"x_range\":{\"id\":\"7d80a039-076b-4994-850b-63ed11189827\",\"type\":\"Range1d\"},\"x_scale\":{\"id\":\"4dc42022-aeeb-4894-b8b4-83359336a9d4\",\"type\":\"LinearScale\"},\"y_range\":{\"id\":\"0f79c1d9-2a70-4aab-9453-02911c1836ab\",\"type\":\"Range1d\"},\"y_scale\":{\"id\":\"321b622b-b634-46ec-b618-bec86c6306c7\",\"type\":\"LinearScale\"}},\"id\":\"6d372f55-65b5-4921-ae23-b267e012e568\",\"subtype\":\"Figure\",\"type\":\"Plot\"},{\"attributes\":{\"axis_label\":\"pressure [mb]\",\"formatter\":{\"id\":\"901fbffa-d776-4fe9-b66a-c1dad1ceec44\",\"type\":\"BasicTickFormatter\"},\"plot\":{\"id\":\"6d372f55-65b5-4921-ae23-b267e012e568\",\"subtype\":\"Figure\",\"type\":\"Plot\"},\"ticker\":{\"id\":\"719674ab-16c3-4d3e-a066-c58146a51939\",\"type\":\"BasicTicker\"}},\"id\":\"29c30c16-90f0-4848-a03b-96295fbbde0f\",\"type\":\"LinearAxis\"},{\"attributes\":{\"bottom_units\":\"screen\",\"fill_alpha\":{\"value\":0.5},\"fill_color\":{\"value\":\"lightgrey\"},\"left_units\":\"screen\",\"level\":\"overlay\",\"line_alpha\":{\"value\":1.0},\"line_color\":{\"value\":\"black\"},\"line_dash\":[4,4],\"line_width\":{\"value\":2},\"plot\":null,\"render_mode\":\"css\",\"right_units\":\"screen\",\"top_units\":\"screen\"},\"id\":\"b82b99c0-796d-474a-8495-9e128e07f106\",\"type\":\"BoxAnnotation\"},{\"attributes\":{\"plot\":{\"id\":\"6d372f55-65b5-4921-ae23-b267e012e568\",\"subtype\":\"Figure\",\"type\":\"Plot\"},\"ticker\":{\"id\":\"5d0c0d1b-024d-47bc-bf19-afca85b8ebff\",\"type\":\"BasicTicker\"}},\"id\":\"c6d0f57e-d41e-44d2-87f1-01eb44d2782f\",\"type\":\"Grid\"},{\"attributes\":{\"source\":{\"id\":\"566b315e-23b8-4c5b-8acc-ac0aa0e9fb59\",\"type\":\"ColumnDataSource\"}},\"id\":\"c5789f4f-002f-4009-9fbe-15d74fdf5cd3\",\"type\":\"CDSView\"},{\"attributes\":{\"line_alpha\":0.6,\"line_color\":\"#e41a1c\",\"line_dash\":[6],\"line_width\":5,\"x\":{\"field\":\"x\"},\"y\":{\"field\":\"y\"}},\"id\":\"5af73087-82d4-4f2a-b75a-2d505299cc40\",\"type\":\"Line\"},{\"attributes\":{},\"id\":\"4dc42022-aeeb-4894-b8b4-83359336a9d4\",\"type\":\"LinearScale\"},{\"attributes\":{\"data_source\":{\"id\":\"fffbb8d4-4ffe-461b-ad7a-528b5309add0\",\"type\":\"ColumnDataSource\"},\"glyph\":{\"id\":\"26e91aaf-b9fd-4238-9bda-0a54f23a1d70\",\"type\":\"Circle\"},\"hover_glyph\":null,\"muted_glyph\":null,\"nonselection_glyph\":{\"id\":\"bfa761d1-f8c5-4143-a378-e9ebba1b9123\",\"type\":\"Circle\"},\"selection_glyph\":null,\"view\":{\"id\":\"9928d74c-4799-44b5-9829-1d03376b1023\",\"type\":\"CDSView\"}},\"id\":\"8b3a4a38-5da3-4913-bef4-1ec1ffae5bd6\",\"type\":\"GlyphRenderer\"},{\"attributes\":{\"callback\":null,\"end\":0.09076620515799999,\"start\":-0.005104018957999999},\"id\":\"7d80a039-076b-4994-850b-63ed11189827\",\"type\":\"Range1d\"},{\"attributes\":{\"line_alpha\":0.6,\"line_color\":\"#e41a1c\",\"line_dash\":[6],\"line_width\":5,\"x\":{\"field\":\"x\"},\"y\":{\"field\":\"y\"}},\"id\":\"56b4f946-79e0-43f7-9379-0b8ab18546d2\",\"type\":\"Line\"},{\"attributes\":{\"callback\":null,\"data\":{\"x\":{\"__ndarray__\":\"LbcP1IQI0T9uOvpGEaW1P4X9tfQcHKc/FFdnjos3gT/uVFZZLxSTv4BP+uJVTaG/iUbSya2kpL+9dcv8DVSlvwwv3/9pmKW/9B+70+m1pb91bqWaA0umv0NfUXxCl6e/IhX5Bycoqr+/YaJBCh6wv1R9FJmslrG/U6q55tIbrr8BZg3Kc/6kv+AD1tIl4ZW/c1WYN3kcXr+P6iXaFuSRP+8vhX7bUKs/sv+Nf5eAwz86Q4pkPIjGP+cECkg9vME/Uw3zzGg3vj/NKRrOqSK2PwPFl6K/RK0/gb+7PG3ynT9Cl6S12JuDP6Yym3itmm0/5TH1Rconcz9qyjrJgjxtP+pkd7TFTk8/vXnQwfE7SL97e6ZC9Bdevzmr3AimumK/iUJ/LDoVZb9zFRbSnQRnv9R4700vj2a/8DVU6T8Uab8z9ZmAll9rv92wRmWer22/tIHCQNp2b79+tBlW2qpwv/fnHw5kDnG//DEOLtRTcL9gE6JPLkVuv9RejfoHtGy/2hmyu7F5bL8+gBYh7SVrv7IEykx/dGa/E9yrur77Wb90UAYe6PwYP5uQXJtiXmM/naLq6XjLcz9ZBWZUxKF+PwNFf/MhcoQ/L0FXbN0XiT+K8pXYZneNP0FxLX5GLpE/NWsAobtFlD9ghu+SctaXP1ghydKlhJo/DEOxA1FxnD+bWbPk3dCbP6bCOLW8PZs/vv7GzHWCnD/pRce3clSeP4PVGV6XgaA/IBKLBpNcoj8pXZK0L2GkP/CNNeQemaY/tIRwXRXOqT8Sl06xix6uP2CbHUHb/rY/\",\"dtype\":\"float64\",\"shape\":[75]},\"y\":{\"__ndarray__\":\"S/O/Q+51ND/Sv8nbtpRIP2vylNV0PVE/aTum7souWD/At0SJ8fVgPw3Iuahxymc/MSNhhJWvcD/bTfBN02d3P2zb5nxnaoA/CD5h5MAGhz8NmeH1TyaQP+zrCsc9p5Y/LbKd76fGnz/bLW5ISEmmPww9YvTcQq8/JV2OstnstT8Er5Y7M8G+P0c+r3jqkcU/5h99k6ZBzj88bCIzFzjVP4enV8oyxN0//yH99nXg5D8qOpLLf0jtP5kqGJXUifQ/c9cS8kHP/D+/DpwzojQEQIEmwoanVwxA4lgXt9HgE0BSSZ2AJuIbQAMJih9jjiNA5q4l5INuK0AwTKYKRj0zQNv5fmq8/DpAaCJseHrtQkB/+zpwzoxKQM3MzMzMeFJAZmZmZmZqWEAAAAAAAFxeQM3MzMzMJmJAmpmZmZkfZUBmZmZmZhhoQDMzMzMzEWtAAAAAAAAKbkBmZmZmZoFwQM3MzMzM/XFAMzMzMzN6c0CamZmZmfZ0QAAAAAAAc3ZAZmZmZmbvd0DNzMzMzGt5QDMzMzMz6HpAmpmZmZlkfEAAAAAAAOF9QGZmZmZmXX9AZmZmZuZsgECamZmZGSuBQM3MzMxM6YFAAAAAAICngkAzMzMzs2WDQGZmZmbmI4RAmpmZmRnihEDNzMzMTKCFQAAAAACAXoZAMzMzM7Mch0BmZmZm5tqHQJqZmZkZmYhAzczMzExXiUAAAAAAgBWKQDMzMzOz04pAZmZmZuaRi0CamZmZGVCMQM3MzMxMDo1AAAAAAIDMjUAzMzMzs4qOQGZmZmbmSI9A\",\"dtype\":\"float64\",\"shape\":[75]}},\"selected\":{\"id\":\"5c805e3d-fb23-46de-b4d7-fb10cbb53139\",\"type\":\"Selection\"},\"selection_policy\":{\"id\":\"6c156001-b9a1-4192-bcfc-7cf262d9c769\",\"type\":\"UnionRenderers\"}},\"id\":\"7008431f-ba80-4073-bcce-b517596606aa\",\"type\":\"ColumnDataSource\"},{\"attributes\":{\"dimension\":1,\"plot\":{\"id\":\"a7190391-7db2-4662-b6f5-7f95993fcfea\",\"subtype\":\"Figure\",\"type\":\"Plot\"},\"ticker\":{\"id\":\"e786d711-d631-4ecb-a11a-3d40239f97d9\",\"type\":\"LogTicker\"}},\"id\":\"0cf85afb-1c78-46a9-871d-2cf2c2b21983\",\"type\":\"Grid\"}],\"root_ids\":[\"f8a1a7d9-177c-44f7-9db1-3ca0b8ef6c90\"]},\"title\":\"Bokeh Application\",\"version\":\"0.12.16\"}};\n",
       "  var render_items = [{\"docid\":\"03f7368b-7b6f-40a2-b9a7-a3f4c6eddfa9\",\"elementid\":\"f03ee8f6-af6a-4bbf-b078-5f992408b727\",\"modelid\":\"f8a1a7d9-177c-44f7-9db1-3ca0b8ef6c90\"}];\n",
       "  root.Bokeh.embed.embed_items_notebook(docs_json, render_items);\n",
       "\n",
       "  }\n",
       "  if (root.Bokeh !== undefined) {\n",
       "    embed_document(root);\n",
       "  } else {\n",
       "    var attempts = 0;\n",
       "    var timer = setInterval(function(root) {\n",
       "      if (root.Bokeh !== undefined) {\n",
       "        embed_document(root);\n",
       "        clearInterval(timer);\n",
       "      }\n",
       "      attempts++;\n",
       "      if (attempts > 100) {\n",
       "        console.log(\"Bokeh: ERROR: Unable to run BokehJS code because BokehJS library is missing\")\n",
       "        clearInterval(timer);\n",
       "      }\n",
       "    }, 10, root)\n",
       "  }\n",
       "})(window);"
      ],
      "application/vnd.bokehjs_exec.v0+json": ""
     },
     "metadata": {
      "application/vnd.bokehjs_exec.v0+json": {
       "id": "f8a1a7d9-177c-44f7-9db1-3ca0b8ef6c90"
      }
     },
     "output_type": "display_data"
    },
    {
     "name": "stdout",
     "output_type": "stream",
     "text": [
      "FIGURE. Cooling rate profiles.\n"
     ]
    },
    {
     "data": {
      "text/html": [
       "<a id=\"Flux_Comparison\"></a>"
      ],
      "text/plain": [
       "<IPython.core.display.HTML object>"
      ]
     },
     "metadata": {},
     "output_type": "display_data"
    },
    {
     "data": {
      "text/markdown": [
       "# Flux Comparison"
      ],
      "text/plain": [
       "<IPython.core.display.Markdown object>"
      ]
     },
     "metadata": {},
     "output_type": "display_data"
    },
    {
     "data": {
      "text/html": [
       "<div>\n",
       "<style scoped>\n",
       "    .dataframe tbody tr th:only-of-type {\n",
       "        vertical-align: middle;\n",
       "    }\n",
       "\n",
       "    .dataframe tbody tr th {\n",
       "        vertical-align: top;\n",
       "    }\n",
       "\n",
       "    .dataframe thead th {\n",
       "        text-align: right;\n",
       "    }\n",
       "</style>\n",
       "<table border=\"1\" class=\"dataframe\">\n",
       "  <thead>\n",
       "    <tr style=\"text-align: right;\">\n",
       "      <th></th>\n",
       "      <th></th>\n",
       "      <th>flug</th>\n",
       "      <th>fldg</th>\n",
       "      <th>fnetg</th>\n",
       "    </tr>\n",
       "    <tr>\n",
       "      <th>pressure</th>\n",
       "      <th>level</th>\n",
       "      <th></th>\n",
       "      <th></th>\n",
       "      <th></th>\n",
       "    </tr>\n",
       "  </thead>\n",
       "  <tbody>\n",
       "    <tr>\n",
       "      <th>0.0000</th>\n",
       "      <th>1</th>\n",
       "      <td>-4.705975</td>\n",
       "      <td>0.000000</td>\n",
       "      <td>-4.705975</td>\n",
       "    </tr>\n",
       "    <tr>\n",
       "      <th>1.0685</th>\n",
       "      <th>24</th>\n",
       "      <td>-4.709403</td>\n",
       "      <td>0.015793</td>\n",
       "      <td>-4.693610</td>\n",
       "    </tr>\n",
       "    <tr>\n",
       "      <th>1013.0000</th>\n",
       "      <th>76</th>\n",
       "      <td>-8.185140</td>\n",
       "      <td>5.194849</td>\n",
       "      <td>-2.990290</td>\n",
       "    </tr>\n",
       "  </tbody>\n",
       "</table>\n",
       "</div>"
      ],
      "text/plain": [
       "                     flug      fldg     fnetg\n",
       "pressure  level                              \n",
       "0.0000    1     -4.705975  0.000000 -4.705975\n",
       "1.0685    24    -4.709403  0.015793 -4.693610\n",
       "1013.0000 76    -8.185140  5.194849 -2.990290"
      ]
     },
     "metadata": {},
     "output_type": "display_data"
    },
    {
     "name": "stdout",
     "output_type": "stream",
     "text": [
      "Table. Fluxes. CRD\n"
     ]
    },
    {
     "data": {
      "text/html": [
       "<div>\n",
       "<style scoped>\n",
       "    .dataframe tbody tr th:only-of-type {\n",
       "        vertical-align: middle;\n",
       "    }\n",
       "\n",
       "    .dataframe tbody tr th {\n",
       "        vertical-align: top;\n",
       "    }\n",
       "\n",
       "    .dataframe thead th {\n",
       "        text-align: right;\n",
       "    }\n",
       "</style>\n",
       "<table border=\"1\" class=\"dataframe\">\n",
       "  <thead>\n",
       "    <tr style=\"text-align: right;\">\n",
       "      <th></th>\n",
       "      <th></th>\n",
       "      <th>flug</th>\n",
       "      <th>fldg</th>\n",
       "      <th>fnetg</th>\n",
       "    </tr>\n",
       "    <tr>\n",
       "      <th>pressure</th>\n",
       "      <th>level</th>\n",
       "      <th></th>\n",
       "      <th></th>\n",
       "      <th></th>\n",
       "    </tr>\n",
       "  </thead>\n",
       "  <tbody>\n",
       "    <tr>\n",
       "      <th>0.0000</th>\n",
       "      <th>1</th>\n",
       "      <td>-4.601203</td>\n",
       "      <td>0.000000</td>\n",
       "      <td>-4.601203</td>\n",
       "    </tr>\n",
       "    <tr>\n",
       "      <th>1.0685</th>\n",
       "      <th>24</th>\n",
       "      <td>-4.605596</td>\n",
       "      <td>0.015249</td>\n",
       "      <td>-4.590347</td>\n",
       "    </tr>\n",
       "    <tr>\n",
       "      <th>1013.0000</th>\n",
       "      <th>76</th>\n",
       "      <td>-8.185140</td>\n",
       "      <td>5.222827</td>\n",
       "      <td>-2.962312</td>\n",
       "    </tr>\n",
       "  </tbody>\n",
       "</table>\n",
       "</div>"
      ],
      "text/plain": [
       "                     flug      fldg     fnetg\n",
       "pressure  level                              \n",
       "0.0000    1     -4.601203  0.000000 -4.601203\n",
       "1.0685    24    -4.605596  0.015249 -4.590347\n",
       "1013.0000 76    -8.185140  5.222827 -2.962312"
      ]
     },
     "metadata": {},
     "output_type": "display_data"
    },
    {
     "name": "stdout",
     "output_type": "stream",
     "text": [
      "Table. Fluxes. WGT igg=10 wgt_flux=1\n"
     ]
    },
    {
     "data": {
      "text/html": [
       "<div>\n",
       "<style scoped>\n",
       "    .dataframe tbody tr th:only-of-type {\n",
       "        vertical-align: middle;\n",
       "    }\n",
       "\n",
       "    .dataframe tbody tr th {\n",
       "        vertical-align: top;\n",
       "    }\n",
       "\n",
       "    .dataframe thead th {\n",
       "        text-align: right;\n",
       "    }\n",
       "</style>\n",
       "<table border=\"1\" class=\"dataframe\">\n",
       "  <thead>\n",
       "    <tr style=\"text-align: right;\">\n",
       "      <th></th>\n",
       "      <th></th>\n",
       "      <th>flug</th>\n",
       "      <th>fldg</th>\n",
       "      <th>fnetg</th>\n",
       "    </tr>\n",
       "    <tr>\n",
       "      <th>pressure</th>\n",
       "      <th>level</th>\n",
       "      <th></th>\n",
       "      <th></th>\n",
       "      <th></th>\n",
       "    </tr>\n",
       "  </thead>\n",
       "  <tbody>\n",
       "    <tr>\n",
       "      <th>1.000000e-08</th>\n",
       "      <th>1</th>\n",
       "      <td>-4.592558</td>\n",
       "      <td>0.000002</td>\n",
       "      <td>-4.592556</td>\n",
       "    </tr>\n",
       "    <tr>\n",
       "      <th>1.068500e+00</th>\n",
       "      <th>24</th>\n",
       "      <td>-4.596869</td>\n",
       "      <td>0.014882</td>\n",
       "      <td>-4.581987</td>\n",
       "    </tr>\n",
       "    <tr>\n",
       "      <th>1.013000e+03</th>\n",
       "      <th>76</th>\n",
       "      <td>-8.185140</td>\n",
       "      <td>5.258788</td>\n",
       "      <td>-2.926352</td>\n",
       "    </tr>\n",
       "  </tbody>\n",
       "</table>\n",
       "</div>"
      ],
      "text/plain": [
       "                        flug      fldg     fnetg\n",
       "pressure     level                              \n",
       "1.000000e-08 1     -4.592558  0.000002 -4.592556\n",
       "1.068500e+00 24    -4.596869  0.014882 -4.581987\n",
       "1.013000e+03 76    -8.185140  5.258788 -2.926352"
      ]
     },
     "metadata": {},
     "output_type": "display_data"
    },
    {
     "name": "stdout",
     "output_type": "stream",
     "text": [
      "Table. Fluxes. CLIRAD\n"
     ]
    },
    {
     "data": {
      "text/html": [
       "<div>\n",
       "<style scoped>\n",
       "    .dataframe tbody tr th:only-of-type {\n",
       "        vertical-align: middle;\n",
       "    }\n",
       "\n",
       "    .dataframe tbody tr th {\n",
       "        vertical-align: top;\n",
       "    }\n",
       "\n",
       "    .dataframe thead th {\n",
       "        text-align: right;\n",
       "    }\n",
       "</style>\n",
       "<table border=\"1\" class=\"dataframe\">\n",
       "  <thead>\n",
       "    <tr style=\"text-align: right;\">\n",
       "      <th></th>\n",
       "      <th></th>\n",
       "      <th>flug</th>\n",
       "      <th>fldg</th>\n",
       "      <th>fnetg</th>\n",
       "    </tr>\n",
       "    <tr>\n",
       "      <th>pressure</th>\n",
       "      <th>level</th>\n",
       "      <th></th>\n",
       "      <th></th>\n",
       "      <th></th>\n",
       "    </tr>\n",
       "  </thead>\n",
       "  <tbody>\n",
       "    <tr>\n",
       "      <th>0.0000</th>\n",
       "      <th>1</th>\n",
       "      <td>0.104773</td>\n",
       "      <td>0.000000</td>\n",
       "      <td>0.104773</td>\n",
       "    </tr>\n",
       "    <tr>\n",
       "      <th>1.0685</th>\n",
       "      <th>24</th>\n",
       "      <td>0.103807</td>\n",
       "      <td>-0.000544</td>\n",
       "      <td>0.103263</td>\n",
       "    </tr>\n",
       "    <tr>\n",
       "      <th>1013.0000</th>\n",
       "      <th>76</th>\n",
       "      <td>0.000000</td>\n",
       "      <td>0.027978</td>\n",
       "      <td>0.027978</td>\n",
       "    </tr>\n",
       "  </tbody>\n",
       "</table>\n",
       "</div>"
      ],
      "text/plain": [
       "                     flug      fldg     fnetg\n",
       "pressure  level                              \n",
       "0.0000    1      0.104773  0.000000  0.104773\n",
       "1.0685    24     0.103807 -0.000544  0.103263\n",
       "1013.0000 76     0.000000  0.027978  0.027978"
      ]
     },
     "metadata": {},
     "output_type": "display_data"
    },
    {
     "name": "stdout",
     "output_type": "stream",
     "text": [
      "Table. Fluxes. (WGT igg=10 wgt_flux=1) - (CRD)\n"
     ]
    },
    {
     "data": {
      "text/html": [
       "<div>\n",
       "<style scoped>\n",
       "    .dataframe tbody tr th:only-of-type {\n",
       "        vertical-align: middle;\n",
       "    }\n",
       "\n",
       "    .dataframe tbody tr th {\n",
       "        vertical-align: top;\n",
       "    }\n",
       "\n",
       "    .dataframe thead th {\n",
       "        text-align: right;\n",
       "    }\n",
       "</style>\n",
       "<table border=\"1\" class=\"dataframe\">\n",
       "  <thead>\n",
       "    <tr style=\"text-align: right;\">\n",
       "      <th></th>\n",
       "      <th></th>\n",
       "      <th>flug</th>\n",
       "      <th>fldg</th>\n",
       "      <th>fnetg</th>\n",
       "    </tr>\n",
       "    <tr>\n",
       "      <th>pressure</th>\n",
       "      <th>level</th>\n",
       "      <th></th>\n",
       "      <th></th>\n",
       "      <th></th>\n",
       "    </tr>\n",
       "  </thead>\n",
       "  <tbody>\n",
       "    <tr>\n",
       "      <th>0.0000</th>\n",
       "      <th>1</th>\n",
       "      <td>1.134174e-01</td>\n",
       "      <td>0.000002</td>\n",
       "      <td>0.113420</td>\n",
       "    </tr>\n",
       "    <tr>\n",
       "      <th>1.0685</th>\n",
       "      <th>24</th>\n",
       "      <td>1.125342e-01</td>\n",
       "      <td>-0.000911</td>\n",
       "      <td>0.111623</td>\n",
       "    </tr>\n",
       "    <tr>\n",
       "      <th>1013.0000</th>\n",
       "      <th>76</th>\n",
       "      <td>-3.000000e-07</td>\n",
       "      <td>0.063939</td>\n",
       "      <td>0.063939</td>\n",
       "    </tr>\n",
       "  </tbody>\n",
       "</table>\n",
       "</div>"
      ],
      "text/plain": [
       "                         flug      fldg     fnetg\n",
       "pressure  level                                  \n",
       "0.0000    1      1.134174e-01  0.000002  0.113420\n",
       "1.0685    24     1.125342e-01 -0.000911  0.111623\n",
       "1013.0000 76    -3.000000e-07  0.063939  0.063939"
      ]
     },
     "metadata": {},
     "output_type": "display_data"
    },
    {
     "name": "stdout",
     "output_type": "stream",
     "text": [
      "Table. Fluxes. (CLIRAD) - (CRD)\n"
     ]
    },
    {
     "data": {
      "text/html": [
       "<a id=\"Best-fit_Parameters\"></a>"
      ],
      "text/plain": [
       "<IPython.core.display.HTML object>"
      ]
     },
     "metadata": {},
     "output_type": "display_data"
    },
    {
     "data": {
      "text/markdown": [
       "# Best-fit Parameters"
      ],
      "text/plain": [
       "<IPython.core.display.Markdown object>"
      ]
     },
     "metadata": {},
     "output_type": "display_data"
    },
    {
     "name": "stdout",
     "output_type": "stream",
     "text": [
      "Best-fit values for each (gas, band)\n",
      "------------------------------------\n",
      "o h2o band9\n",
      "  atmpro = mls\n",
      "  band = 9\n",
      "  commitnumber = a06b618\n",
      "  conc = None\n",
      "  dv = 0.001\n",
      "  klin = 1e-24\n",
      "  molecule = h2o\n",
      "  ng_adju = [0]\n",
      "  ng_refs = [5]\n",
      "  nv = 1000\n",
      "  option_compute_btable = 0\n",
      "  option_compute_ktable = 1\n",
      "  option_wgt_flux = 1\n",
      "  option_wgt_k = 1\n",
      "  ref_pts = [(500, 250)]\n",
      "  tsfc = 294\n",
      "  vmax = 3000\n",
      "  vmin = 1900\n",
      "  w_diffuse = [(1.66, 1.66, 1.66, 1.66, 1.66)]\n",
      "  wgt = [(0.4, 0.4, 0.5, 0.55, 0.85)]\n",
      "o co2 band9\n",
      "  atmpro = mls\n",
      "  band = 9\n",
      "  commitnumber = a06b618\n",
      "  conc = 0.0004\n",
      "  dv = 0.001\n",
      "  klin = 6.5e-24\n",
      "  molecule = co2\n",
      "  ng_adju = [0, 0]\n",
      "  ng_refs = [3, 3]\n",
      "  nv = 1000\n",
      "  option_compute_btable = 0\n",
      "  option_compute_ktable = 1\n",
      "  option_wgt_flux = 1\n",
      "  option_wgt_k = 1\n",
      "  ref_pts = [(1, 250), (50, 250)]\n",
      "  tsfc = 294\n",
      "  vmax = 3000\n",
      "  vmin = 1900\n",
      "  w_diffuse = [(1.66, 1.66, 1.75), (1.75, 1.6, 1.85)]\n",
      "  wgt = [(0.7, 0.8, 0.7), (0.8, 0.7, 0.8)]\n"
     ]
    }
   ],
   "source": [
    "script()"
   ]
  },
  {
   "cell_type": "code",
   "execution_count": 13,
   "metadata": {
    "collapsed": true
   },
   "outputs": [
    {
     "data": {
      "text/html": [
       "<script>\n",
       "code_show=true; \n",
       "function code_toggle() {\n",
       " if (code_show){\n",
       " $('div.input').hide();\n",
       " } else {\n",
       " $('div.input').show();\n",
       " }\n",
       " code_show = !code_show\n",
       "} \n",
       "$( document ).ready(code_toggle);\n",
       "</script>\n",
       "<form action=\"javascript:code_toggle()\"><input type=\"submit\" value=\"Click here to toggle on/off the raw code.\"></form>"
      ],
      "text/plain": [
       "<IPython.core.display.HTML object>"
      ]
     },
     "execution_count": 13,
     "metadata": {},
     "output_type": "execute_result"
    }
   ],
   "source": [
    "display.HTML('''<script>\n",
    "code_show=true; \n",
    "function code_toggle() {\n",
    " if (code_show){\n",
    " $('div.input').hide();\n",
    " } else {\n",
    " $('div.input').show();\n",
    " }\n",
    " code_show = !code_show\n",
    "} \n",
    "$( document ).ready(code_toggle);\n",
    "</script>\n",
    "<form action=\"javascript:code_toggle()\"><input type=\"submit\" value=\"Click here to toggle on/off the raw code.\"></form>''')"
   ]
  }
 ],
 "metadata": {
  "kernelspec": {
   "display_name": "Python 3",
   "language": "python",
   "name": "python3"
  },
  "language_info": {
   "codemirror_mode": {
    "name": "ipython",
    "version": 3
   },
   "file_extension": ".py",
   "mimetype": "text/x-python",
   "name": "python",
   "nbconvert_exporter": "python",
   "pygments_lexer": "ipython3",
   "version": "3.6.1"
  }
 },
 "nbformat": 4,
 "nbformat_minor": 2
}
