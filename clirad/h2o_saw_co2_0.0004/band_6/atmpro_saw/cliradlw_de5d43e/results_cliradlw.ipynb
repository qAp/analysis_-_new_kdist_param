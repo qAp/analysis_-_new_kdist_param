{
 "cells": [
  {
   "cell_type": "code",
   "execution_count": 1,
   "metadata": {
    "collapsed": true
   },
   "outputs": [],
   "source": [
    "%matplotlib inline\n",
    "import os\n",
    "import re\n",
    "import io\n",
    "import itertools\n",
    "import pprint\n",
    "\n",
    "from bokeh.io import output_notebook, show\n",
    "from bokeh.layouts import gridplot\n",
    "from bokeh.plotting import figure\n",
    "from bokeh.models import Range1d, Legend\n",
    "from bokeh.palettes import all_palettes\n",
    "\n",
    "import matplotlib\n",
    "import matplotlib.pyplot as plt\n",
    "import numpy as np\n",
    "import pandas as pd\n",
    "import xarray as xr\n",
    "\n",
    "import climatools.lblnew.bestfit_params as bestfits\n",
    "from climatools.lblnew import setup_bestfit, setup_overlap\n",
    "import climatools.lblnew.pipeline as pipe_lblnew\n",
    "import climatools.cliradlw.setup as setup_cliradlw\n",
    "import climatools.cliradlw.pipeline as pipe_cliradlw\n",
    "\n",
    "import climatools.html.html as climahtml\n",
    "from climatools.lblnew.dataio import *\n",
    "from climatools.plot.plot import *\n",
    "\n",
    "\n",
    "import IPython.display as display"
   ]
  },
  {
   "cell_type": "code",
   "execution_count": 2,
   "metadata": {
    "collapsed": true
   },
   "outputs": [],
   "source": [
    "%run param.py"
   ]
  },
  {
   "cell_type": "code",
   "execution_count": 3,
   "metadata": {
    "collapsed": true
   },
   "outputs": [
    {
     "name": "stdout",
     "output_type": "stream",
     "text": [
      "The history saving thread hit an unexpected error (OperationalError('database is locked',)).History will not be written to the database.\n"
     ]
    }
   ],
   "source": [
    "def load_output_file(path_csv):\n",
    "    '''\n",
    "    Load lblnew output .csv file to xarray.Dataset\n",
    "    \n",
    "    Parameters\n",
    "    ----------\n",
    "    path_csv: str\n",
    "              Path to the .csv file to be loaded.\n",
    "    ds: xarray.Dataset\n",
    "        Data in the input file in the form of an xarray.Dataset.\n",
    "    '''\n",
    "    toindex = ['band', 'pressure', 'igg', 'g']    \n",
    "    df = pd.read_csv(path_csv, sep=r'\\s+')\n",
    "    df = df.set_index([i for i in toindex if i in df.columns])\n",
    "    df = df.rename(columns={'sfu': 'flug',\n",
    "                            'sfd': 'fldg',\n",
    "                            'fnet': 'fnetg',\n",
    "                            'coolr': 'coolrg'})\n",
    "    ds = xr.Dataset.from_dataframe(df)\n",
    "\n",
    "    for l in ('level', 'layer'):\n",
    "        if l in ds.data_vars:\n",
    "            if len(ds[l].dims) > 1:\n",
    "                surface = {d: 0 for d in ds.dims if d != 'pressure'}\n",
    "                coord_level = ds[l][surface]\n",
    "                ds.coords[l] = ('pressure', coord_level)\n",
    "            else:\n",
    "                ds.coords[l] = ('pressure', ds[l])\n",
    "    \n",
    "    return ds"
   ]
  },
  {
   "cell_type": "code",
   "execution_count": 4,
   "metadata": {
    "collapsed": true
   },
   "outputs": [],
   "source": [
    "def lblnew_setup(param=None):\n",
    "    if 'ng_refs' in param:\n",
    "        return {'setup': setup_bestfit,\n",
    "                'fname_flux_crd': 'output_flux.dat',\n",
    "                'fname_cool_crd': 'output_coolr.dat',\n",
    "                'fname_flux_wgt': 'output_wfluxg.dat',\n",
    "                'fname_cool_wgt': 'output_wcoolrg.dat'}\n",
    "    else:\n",
    "        return {'setup': setup_overlap,\n",
    "                'fname_flux_crd': 'output_flux.dat',\n",
    "                'fname_cool_crd': 'output_coolr.dat',\n",
    "                'fname_flux_wgt': 'output_wflux.dat',\n",
    "                'fname_cool_wgt': 'output_wcoolr.dat'}\n",
    "\n",
    "    \n",
    "def load_lblnew_data(param):\n",
    "    \n",
    "    fname_dsname = [('fname_flux_crd', 'ds_flux_crd'),\n",
    "                    ('fname_cool_crd', 'ds_cool_crd'),\n",
    "                    ('fname_flux_wgt', 'ds_flux_wgt'),\n",
    "                    ('fname_cool_wgt', 'ds_cool_wgt')]\n",
    "    \n",
    "    d = lblnew_setup(param)\n",
    "    dir_fortran = pipe_lblnew.get_dir_case(param, setup=d['setup'])\n",
    "    \n",
    "    data_dict = {}\n",
    "    for fname, dsname in fname_dsname:\n",
    "        fpath = os.path.join(dir_fortran, d[fname])\n",
    "        data_dict[dsname] = load_output_file(fpath)\n",
    "    return data_dict\n",
    "    \n",
    "\n",
    "    \n",
    "    "
   ]
  },
  {
   "cell_type": "code",
   "execution_count": 5,
   "metadata": {
    "collapsed": true
   },
   "outputs": [],
   "source": [
    "d = load_lblnew_data(PARAM_LBLNEW)\n",
    "\n",
    "DS_FLUX_CRD = d['ds_flux_crd']\n",
    "DS_COOL_CRD = d['ds_cool_crd']\n",
    "DS_FLUX_WGT = d['ds_flux_wgt']\n",
    "DS_COOL_WGT = d['ds_cool_wgt']"
   ]
  },
  {
   "cell_type": "code",
   "execution_count": 6,
   "metadata": {
    "collapsed": true
   },
   "outputs": [],
   "source": [
    "DIR_FORTRAN = pipe_cliradlw.get_fortran_dir(PARAM, \n",
    "                                            setup=setup_cliradlw)\n",
    "\n",
    "PATH_FLUX = os.path.join(DIR_FORTRAN, 'output_flux.dat')\n",
    "PATH_COOL = os.path.join(DIR_FORTRAN, 'output_coolr.dat')\n",
    "\n",
    "DS_FLUX = load_output_file(PATH_FLUX)\n",
    "DS_COOL = load_output_file(PATH_COOL)"
   ]
  },
  {
   "cell_type": "code",
   "execution_count": 7,
   "metadata": {
    "collapsed": true
   },
   "outputs": [
    {
     "data": {
      "text/html": [
       "\n",
       "    <div class=\"bk-root\">\n",
       "        <a href=\"https://bokeh.pydata.org\" target=\"_blank\" class=\"bk-logo bk-logo-small bk-logo-notebook\"></a>\n",
       "        <span id=\"857f7266-632d-43fc-b55b-8a5c531f0475\">Loading BokehJS ...</span>\n",
       "    </div>"
      ]
     },
     "metadata": {},
     "output_type": "display_data"
    },
    {
     "data": {
      "application/javascript": [
       "\n",
       "(function(root) {\n",
       "  function now() {\n",
       "    return new Date();\n",
       "  }\n",
       "\n",
       "  var force = true;\n",
       "\n",
       "  if (typeof (root._bokeh_onload_callbacks) === \"undefined\" || force === true) {\n",
       "    root._bokeh_onload_callbacks = [];\n",
       "    root._bokeh_is_loading = undefined;\n",
       "  }\n",
       "\n",
       "  var JS_MIME_TYPE = 'application/javascript';\n",
       "  var HTML_MIME_TYPE = 'text/html';\n",
       "  var EXEC_MIME_TYPE = 'application/vnd.bokehjs_exec.v0+json';\n",
       "  var CLASS_NAME = 'output_bokeh rendered_html';\n",
       "\n",
       "  /**\n",
       "   * Render data to the DOM node\n",
       "   */\n",
       "  function render(props, node) {\n",
       "    var script = document.createElement(\"script\");\n",
       "    node.appendChild(script);\n",
       "  }\n",
       "\n",
       "  /**\n",
       "   * Handle when an output is cleared or removed\n",
       "   */\n",
       "  function handleClearOutput(event, handle) {\n",
       "    var cell = handle.cell;\n",
       "\n",
       "    var id = cell.output_area._bokeh_element_id;\n",
       "    var server_id = cell.output_area._bokeh_server_id;\n",
       "    // Clean up Bokeh references\n",
       "    if (id !== undefined) {\n",
       "      Bokeh.index[id].model.document.clear();\n",
       "      delete Bokeh.index[id];\n",
       "    }\n",
       "\n",
       "    if (server_id !== undefined) {\n",
       "      // Clean up Bokeh references\n",
       "      var cmd = \"from bokeh.io.state import curstate; print(curstate().uuid_to_server['\" + server_id + \"'].get_sessions()[0].document.roots[0]._id)\";\n",
       "      cell.notebook.kernel.execute(cmd, {\n",
       "        iopub: {\n",
       "          output: function(msg) {\n",
       "            var element_id = msg.content.text.trim();\n",
       "            Bokeh.index[element_id].model.document.clear();\n",
       "            delete Bokeh.index[element_id];\n",
       "          }\n",
       "        }\n",
       "      });\n",
       "      // Destroy server and session\n",
       "      var cmd = \"import bokeh.io.notebook as ion; ion.destroy_server('\" + server_id + \"')\";\n",
       "      cell.notebook.kernel.execute(cmd);\n",
       "    }\n",
       "  }\n",
       "\n",
       "  /**\n",
       "   * Handle when a new output is added\n",
       "   */\n",
       "  function handleAddOutput(event, handle) {\n",
       "    var output_area = handle.output_area;\n",
       "    var output = handle.output;\n",
       "\n",
       "    // limit handleAddOutput to display_data with EXEC_MIME_TYPE content only\n",
       "    if ((output.output_type != \"display_data\") || (!output.data.hasOwnProperty(EXEC_MIME_TYPE))) {\n",
       "      return\n",
       "    }\n",
       "\n",
       "    var toinsert = output_area.element.find(\".\" + CLASS_NAME.split(' ')[0]);\n",
       "\n",
       "    if (output.metadata[EXEC_MIME_TYPE][\"id\"] !== undefined) {\n",
       "      toinsert[toinsert.length - 1].firstChild.textContent = output.data[JS_MIME_TYPE];\n",
       "      // store reference to embed id on output_area\n",
       "      output_area._bokeh_element_id = output.metadata[EXEC_MIME_TYPE][\"id\"];\n",
       "    }\n",
       "    if (output.metadata[EXEC_MIME_TYPE][\"server_id\"] !== undefined) {\n",
       "      var bk_div = document.createElement(\"div\");\n",
       "      bk_div.innerHTML = output.data[HTML_MIME_TYPE];\n",
       "      var script_attrs = bk_div.children[0].attributes;\n",
       "      for (var i = 0; i < script_attrs.length; i++) {\n",
       "        toinsert[toinsert.length - 1].firstChild.setAttribute(script_attrs[i].name, script_attrs[i].value);\n",
       "      }\n",
       "      // store reference to server id on output_area\n",
       "      output_area._bokeh_server_id = output.metadata[EXEC_MIME_TYPE][\"server_id\"];\n",
       "    }\n",
       "  }\n",
       "\n",
       "  function register_renderer(events, OutputArea) {\n",
       "\n",
       "    function append_mime(data, metadata, element) {\n",
       "      // create a DOM node to render to\n",
       "      var toinsert = this.create_output_subarea(\n",
       "        metadata,\n",
       "        CLASS_NAME,\n",
       "        EXEC_MIME_TYPE\n",
       "      );\n",
       "      this.keyboard_manager.register_events(toinsert);\n",
       "      // Render to node\n",
       "      var props = {data: data, metadata: metadata[EXEC_MIME_TYPE]};\n",
       "      render(props, toinsert[toinsert.length - 1]);\n",
       "      element.append(toinsert);\n",
       "      return toinsert\n",
       "    }\n",
       "\n",
       "    /* Handle when an output is cleared or removed */\n",
       "    events.on('clear_output.CodeCell', handleClearOutput);\n",
       "    events.on('delete.Cell', handleClearOutput);\n",
       "\n",
       "    /* Handle when a new output is added */\n",
       "    events.on('output_added.OutputArea', handleAddOutput);\n",
       "\n",
       "    /**\n",
       "     * Register the mime type and append_mime function with output_area\n",
       "     */\n",
       "    OutputArea.prototype.register_mime_type(EXEC_MIME_TYPE, append_mime, {\n",
       "      /* Is output safe? */\n",
       "      safe: true,\n",
       "      /* Index of renderer in `output_area.display_order` */\n",
       "      index: 0\n",
       "    });\n",
       "  }\n",
       "\n",
       "  // register the mime type if in Jupyter Notebook environment and previously unregistered\n",
       "  if (root.Jupyter !== undefined) {\n",
       "    var events = require('base/js/events');\n",
       "    var OutputArea = require('notebook/js/outputarea').OutputArea;\n",
       "\n",
       "    if (OutputArea.prototype.mime_types().indexOf(EXEC_MIME_TYPE) == -1) {\n",
       "      register_renderer(events, OutputArea);\n",
       "    }\n",
       "  }\n",
       "\n",
       "  \n",
       "  if (typeof (root._bokeh_timeout) === \"undefined\" || force === true) {\n",
       "    root._bokeh_timeout = Date.now() + 5000;\n",
       "    root._bokeh_failed_load = false;\n",
       "  }\n",
       "\n",
       "  var NB_LOAD_WARNING = {'data': {'text/html':\n",
       "     \"<div style='background-color: #fdd'>\\n\"+\n",
       "     \"<p>\\n\"+\n",
       "     \"BokehJS does not appear to have successfully loaded. If loading BokehJS from CDN, this \\n\"+\n",
       "     \"may be due to a slow or bad network connection. Possible fixes:\\n\"+\n",
       "     \"</p>\\n\"+\n",
       "     \"<ul>\\n\"+\n",
       "     \"<li>re-rerun `output_notebook()` to attempt to load from CDN again, or</li>\\n\"+\n",
       "     \"<li>use INLINE resources instead, as so:</li>\\n\"+\n",
       "     \"</ul>\\n\"+\n",
       "     \"<code>\\n\"+\n",
       "     \"from bokeh.resources import INLINE\\n\"+\n",
       "     \"output_notebook(resources=INLINE)\\n\"+\n",
       "     \"</code>\\n\"+\n",
       "     \"</div>\"}};\n",
       "\n",
       "  function display_loaded() {\n",
       "    var el = document.getElementById(\"857f7266-632d-43fc-b55b-8a5c531f0475\");\n",
       "    if (el != null) {\n",
       "      el.textContent = \"BokehJS is loading...\";\n",
       "    }\n",
       "    if (root.Bokeh !== undefined) {\n",
       "      if (el != null) {\n",
       "        el.textContent = \"BokehJS \" + root.Bokeh.version + \" successfully loaded.\";\n",
       "      }\n",
       "    } else if (Date.now() < root._bokeh_timeout) {\n",
       "      setTimeout(display_loaded, 100)\n",
       "    }\n",
       "  }\n",
       "\n",
       "\n",
       "  function run_callbacks() {\n",
       "    try {\n",
       "      root._bokeh_onload_callbacks.forEach(function(callback) { callback() });\n",
       "    }\n",
       "    finally {\n",
       "      delete root._bokeh_onload_callbacks\n",
       "    }\n",
       "    console.info(\"Bokeh: all callbacks have finished\");\n",
       "  }\n",
       "\n",
       "  function load_libs(js_urls, callback) {\n",
       "    root._bokeh_onload_callbacks.push(callback);\n",
       "    if (root._bokeh_is_loading > 0) {\n",
       "      console.log(\"Bokeh: BokehJS is being loaded, scheduling callback at\", now());\n",
       "      return null;\n",
       "    }\n",
       "    if (js_urls == null || js_urls.length === 0) {\n",
       "      run_callbacks();\n",
       "      return null;\n",
       "    }\n",
       "    console.log(\"Bokeh: BokehJS not loaded, scheduling load and callback at\", now());\n",
       "    root._bokeh_is_loading = js_urls.length;\n",
       "    for (var i = 0; i < js_urls.length; i++) {\n",
       "      var url = js_urls[i];\n",
       "      var s = document.createElement('script');\n",
       "      s.src = url;\n",
       "      s.async = false;\n",
       "      s.onreadystatechange = s.onload = function() {\n",
       "        root._bokeh_is_loading--;\n",
       "        if (root._bokeh_is_loading === 0) {\n",
       "          console.log(\"Bokeh: all BokehJS libraries loaded\");\n",
       "          run_callbacks()\n",
       "        }\n",
       "      };\n",
       "      s.onerror = function() {\n",
       "        console.warn(\"failed to load library \" + url);\n",
       "      };\n",
       "      console.log(\"Bokeh: injecting script tag for BokehJS library: \", url);\n",
       "      document.getElementsByTagName(\"head\")[0].appendChild(s);\n",
       "    }\n",
       "  };var element = document.getElementById(\"857f7266-632d-43fc-b55b-8a5c531f0475\");\n",
       "  if (element == null) {\n",
       "    console.log(\"Bokeh: ERROR: autoload.js configured with elementid '857f7266-632d-43fc-b55b-8a5c531f0475' but no matching script tag was found. \")\n",
       "    return false;\n",
       "  }\n",
       "\n",
       "  var js_urls = [\"https://cdn.pydata.org/bokeh/release/bokeh-0.12.16.min.js\", \"https://cdn.pydata.org/bokeh/release/bokeh-widgets-0.12.16.min.js\", \"https://cdn.pydata.org/bokeh/release/bokeh-tables-0.12.16.min.js\", \"https://cdn.pydata.org/bokeh/release/bokeh-gl-0.12.16.min.js\"];\n",
       "\n",
       "  var inline_js = [\n",
       "    function(Bokeh) {\n",
       "      Bokeh.set_log_level(\"info\");\n",
       "    },\n",
       "    \n",
       "    function(Bokeh) {\n",
       "      \n",
       "    },\n",
       "    function(Bokeh) {\n",
       "      console.log(\"Bokeh: injecting CSS: https://cdn.pydata.org/bokeh/release/bokeh-0.12.16.min.css\");\n",
       "      Bokeh.embed.inject_css(\"https://cdn.pydata.org/bokeh/release/bokeh-0.12.16.min.css\");\n",
       "      console.log(\"Bokeh: injecting CSS: https://cdn.pydata.org/bokeh/release/bokeh-widgets-0.12.16.min.css\");\n",
       "      Bokeh.embed.inject_css(\"https://cdn.pydata.org/bokeh/release/bokeh-widgets-0.12.16.min.css\");\n",
       "      console.log(\"Bokeh: injecting CSS: https://cdn.pydata.org/bokeh/release/bokeh-tables-0.12.16.min.css\");\n",
       "      Bokeh.embed.inject_css(\"https://cdn.pydata.org/bokeh/release/bokeh-tables-0.12.16.min.css\");\n",
       "    }\n",
       "  ];\n",
       "\n",
       "  function run_inline_js() {\n",
       "    \n",
       "    if ((root.Bokeh !== undefined) || (force === true)) {\n",
       "      for (var i = 0; i < inline_js.length; i++) {\n",
       "        inline_js[i].call(root, root.Bokeh);\n",
       "      }if (force === true) {\n",
       "        display_loaded();\n",
       "      }} else if (Date.now() < root._bokeh_timeout) {\n",
       "      setTimeout(run_inline_js, 100);\n",
       "    } else if (!root._bokeh_failed_load) {\n",
       "      console.log(\"Bokeh: BokehJS failed to load within specified timeout.\");\n",
       "      root._bokeh_failed_load = true;\n",
       "    } else if (force !== true) {\n",
       "      var cell = $(document.getElementById(\"857f7266-632d-43fc-b55b-8a5c531f0475\")).parents('.cell').data().cell;\n",
       "      cell.output_area.append_execute_result(NB_LOAD_WARNING)\n",
       "    }\n",
       "\n",
       "  }\n",
       "\n",
       "  if (root._bokeh_is_loading === 0) {\n",
       "    console.log(\"Bokeh: BokehJS loaded, going straight to plotting\");\n",
       "    run_inline_js();\n",
       "  } else {\n",
       "    load_libs(js_urls, function() {\n",
       "      console.log(\"Bokeh: BokehJS plotting callback run at\", now());\n",
       "      run_inline_js();\n",
       "    });\n",
       "  }\n",
       "}(window));"
      ],
      "application/vnd.bokehjs_load.v0+json": "\n(function(root) {\n  function now() {\n    return new Date();\n  }\n\n  var force = true;\n\n  if (typeof (root._bokeh_onload_callbacks) === \"undefined\" || force === true) {\n    root._bokeh_onload_callbacks = [];\n    root._bokeh_is_loading = undefined;\n  }\n\n  \n\n  \n  if (typeof (root._bokeh_timeout) === \"undefined\" || force === true) {\n    root._bokeh_timeout = Date.now() + 5000;\n    root._bokeh_failed_load = false;\n  }\n\n  var NB_LOAD_WARNING = {'data': {'text/html':\n     \"<div style='background-color: #fdd'>\\n\"+\n     \"<p>\\n\"+\n     \"BokehJS does not appear to have successfully loaded. If loading BokehJS from CDN, this \\n\"+\n     \"may be due to a slow or bad network connection. Possible fixes:\\n\"+\n     \"</p>\\n\"+\n     \"<ul>\\n\"+\n     \"<li>re-rerun `output_notebook()` to attempt to load from CDN again, or</li>\\n\"+\n     \"<li>use INLINE resources instead, as so:</li>\\n\"+\n     \"</ul>\\n\"+\n     \"<code>\\n\"+\n     \"from bokeh.resources import INLINE\\n\"+\n     \"output_notebook(resources=INLINE)\\n\"+\n     \"</code>\\n\"+\n     \"</div>\"}};\n\n  function display_loaded() {\n    var el = document.getElementById(\"857f7266-632d-43fc-b55b-8a5c531f0475\");\n    if (el != null) {\n      el.textContent = \"BokehJS is loading...\";\n    }\n    if (root.Bokeh !== undefined) {\n      if (el != null) {\n        el.textContent = \"BokehJS \" + root.Bokeh.version + \" successfully loaded.\";\n      }\n    } else if (Date.now() < root._bokeh_timeout) {\n      setTimeout(display_loaded, 100)\n    }\n  }\n\n\n  function run_callbacks() {\n    try {\n      root._bokeh_onload_callbacks.forEach(function(callback) { callback() });\n    }\n    finally {\n      delete root._bokeh_onload_callbacks\n    }\n    console.info(\"Bokeh: all callbacks have finished\");\n  }\n\n  function load_libs(js_urls, callback) {\n    root._bokeh_onload_callbacks.push(callback);\n    if (root._bokeh_is_loading > 0) {\n      console.log(\"Bokeh: BokehJS is being loaded, scheduling callback at\", now());\n      return null;\n    }\n    if (js_urls == null || js_urls.length === 0) {\n      run_callbacks();\n      return null;\n    }\n    console.log(\"Bokeh: BokehJS not loaded, scheduling load and callback at\", now());\n    root._bokeh_is_loading = js_urls.length;\n    for (var i = 0; i < js_urls.length; i++) {\n      var url = js_urls[i];\n      var s = document.createElement('script');\n      s.src = url;\n      s.async = false;\n      s.onreadystatechange = s.onload = function() {\n        root._bokeh_is_loading--;\n        if (root._bokeh_is_loading === 0) {\n          console.log(\"Bokeh: all BokehJS libraries loaded\");\n          run_callbacks()\n        }\n      };\n      s.onerror = function() {\n        console.warn(\"failed to load library \" + url);\n      };\n      console.log(\"Bokeh: injecting script tag for BokehJS library: \", url);\n      document.getElementsByTagName(\"head\")[0].appendChild(s);\n    }\n  };var element = document.getElementById(\"857f7266-632d-43fc-b55b-8a5c531f0475\");\n  if (element == null) {\n    console.log(\"Bokeh: ERROR: autoload.js configured with elementid '857f7266-632d-43fc-b55b-8a5c531f0475' but no matching script tag was found. \")\n    return false;\n  }\n\n  var js_urls = [\"https://cdn.pydata.org/bokeh/release/bokeh-0.12.16.min.js\", \"https://cdn.pydata.org/bokeh/release/bokeh-widgets-0.12.16.min.js\", \"https://cdn.pydata.org/bokeh/release/bokeh-tables-0.12.16.min.js\", \"https://cdn.pydata.org/bokeh/release/bokeh-gl-0.12.16.min.js\"];\n\n  var inline_js = [\n    function(Bokeh) {\n      Bokeh.set_log_level(\"info\");\n    },\n    \n    function(Bokeh) {\n      \n    },\n    function(Bokeh) {\n      console.log(\"Bokeh: injecting CSS: https://cdn.pydata.org/bokeh/release/bokeh-0.12.16.min.css\");\n      Bokeh.embed.inject_css(\"https://cdn.pydata.org/bokeh/release/bokeh-0.12.16.min.css\");\n      console.log(\"Bokeh: injecting CSS: https://cdn.pydata.org/bokeh/release/bokeh-widgets-0.12.16.min.css\");\n      Bokeh.embed.inject_css(\"https://cdn.pydata.org/bokeh/release/bokeh-widgets-0.12.16.min.css\");\n      console.log(\"Bokeh: injecting CSS: https://cdn.pydata.org/bokeh/release/bokeh-tables-0.12.16.min.css\");\n      Bokeh.embed.inject_css(\"https://cdn.pydata.org/bokeh/release/bokeh-tables-0.12.16.min.css\");\n    }\n  ];\n\n  function run_inline_js() {\n    \n    if ((root.Bokeh !== undefined) || (force === true)) {\n      for (var i = 0; i < inline_js.length; i++) {\n        inline_js[i].call(root, root.Bokeh);\n      }if (force === true) {\n        display_loaded();\n      }} else if (Date.now() < root._bokeh_timeout) {\n      setTimeout(run_inline_js, 100);\n    } else if (!root._bokeh_failed_load) {\n      console.log(\"Bokeh: BokehJS failed to load within specified timeout.\");\n      root._bokeh_failed_load = true;\n    } else if (force !== true) {\n      var cell = $(document.getElementById(\"857f7266-632d-43fc-b55b-8a5c531f0475\")).parents('.cell').data().cell;\n      cell.output_area.append_execute_result(NB_LOAD_WARNING)\n    }\n\n  }\n\n  if (root._bokeh_is_loading === 0) {\n    console.log(\"Bokeh: BokehJS loaded, going straight to plotting\");\n    run_inline_js();\n  } else {\n    load_libs(js_urls, function() {\n      console.log(\"Bokeh: BokehJS plotting callback run at\", now());\n      run_inline_js();\n    });\n  }\n}(window));"
     },
     "metadata": {},
     "output_type": "display_data"
    }
   ],
   "source": [
    "output_notebook()"
   ]
  },
  {
   "cell_type": "code",
   "execution_count": 8,
   "metadata": {
    "collapsed": true
   },
   "outputs": [],
   "source": [
    "def fmt_cool(ds_in):\n",
    "    ds = ds_in.copy(deep=True)\n",
    "    if 'igg' in ds.dims:\n",
    "        ds = ds.sel(igg=1)\n",
    "\n",
    "    if 'g' in ds.dims:\n",
    "        ds = ds.sum('g')\n",
    "            \n",
    "    if 'band' in ds.dims:\n",
    "        try:\n",
    "            ds = ds.squeeze('band')\n",
    "        except ValueError:\n",
    "            ds = ds.sum('band')\n",
    "                \n",
    "    return ds['coolrg']\n",
    "\n",
    "\n",
    "def pltdata_cooling_1(ds_cool=None,\n",
    "                      ds_cool_crd=None, ds_cool_wgt=None):\n",
    "    \n",
    "\n",
    "\n",
    "    colors = all_palettes['Set1'][4]\n",
    "    data = [{'label': 'CLIRAD `coolr_bands`',\n",
    "             'srs': fmt_cool(ds_cool),\n",
    "             'line_dash': 'dashed', 'line_width': 5,\n",
    "             'color': colors[0], 'alpha': .6},\n",
    "            {'label': 'CRD',\n",
    "             'srs': fmt_cool(ds_cool_crd),\n",
    "             'line_dash': 'solid', 'line_width': 1.5,\n",
    "             'marker': 'circle', 'marker_size': 5,\n",
    "             'color': colors[2], 'alpha': 1,},\n",
    "            {'label': 'WGT igg=10 wgt_flux=2',\n",
    "             'srs': fmt_cool(ds_cool_wgt),\n",
    "             'line_dash': 'solid', 'line_width': 3,\n",
    "             'marker': 'square', 'marker_size': 5,\n",
    "             'color': colors[3], 'alpha': .6}]\n",
    "    return data\n",
    "\n",
    "\n",
    "def nice_xlims(pltdata=None, prange=None):\n",
    "    \n",
    "    def get_slice(srs):\n",
    "        return srs.sel(pressure=slice(*prange))\n",
    "    \n",
    "    srss = [d['srs'] for d in pltdata]\n",
    "    vmin = min([get_slice(srs).min() for srs in srss])\n",
    "    vmax = max([get_slice(srs).max() for srs in srss])\n",
    "    dv = (vmax - vmin) * .01\n",
    "    return float(vmin - dv), float(vmax + dv)\n",
    "    \n",
    "\n",
    "def plt_cooling_bokeh(pltdata=None):\n",
    "    '''\n",
    "    Plot a list of cooling rate profiles using bokeh.\n",
    "    '''\n",
    "    ymin = 1e-2 \n",
    "    ymax = 1020 \n",
    "        \n",
    "    p1 = figure(title=\"Linear pressure scale\", \n",
    "                plot_width=400)        \n",
    "    xmin, xmax = nice_xlims(pltdata, prange=(50, 1050))\n",
    "    for d in pltdata:\n",
    "        if 'marker' in d:\n",
    "            getattr(p1, d['marker'])(d['srs'].values, \n",
    "                    d['srs'].coords['pressure'].values,\n",
    "                    color=d['color'], alpha=.7)\n",
    "        p1.line(d['srs'].values, \n",
    "                d['srs'].coords['pressure'].values,\n",
    "                color=d['color'], alpha=d['alpha'], \n",
    "                line_width=d['line_width'], line_dash=d['line_dash'])\n",
    "    \n",
    "    p1.y_range = Range1d(ymax, ymin)\n",
    "    p1.yaxis.axis_label = 'pressure [mb]'   \n",
    "    p1.x_range = Range1d(xmin, xmax)\n",
    "    p1.xaxis.axis_label = 'cooling rate [K/day]'\n",
    "            \n",
    "    p2 = figure(title='Log pressure scale', y_axis_type='log',\n",
    "                plot_width=560)\n",
    "    xmin, xmax = nice_xlims(pltdata, prange=(.01, 200))\n",
    "    \n",
    "    rs = []\n",
    "    for d in pltdata:\n",
    "        rd = []\n",
    "        if 'marker' in d:\n",
    "            r_mark = getattr(p2, d['marker'])(d['srs'].values, \n",
    "                        d['srs'].coords['pressure'].values,\n",
    "                        color=d['color'], alpha=.7)\n",
    "            rd.append(r_mark)\n",
    "        r_line = p2.line(d['srs'].values, \n",
    "                    d['srs'].coords['pressure'].values,\n",
    "                    color=d['color'], alpha=d['alpha'], \n",
    "                    line_width=d['line_width'], line_dash=d['line_dash'])\n",
    "        rd.append(r_line)\n",
    "      \n",
    "        rs.append(rd)\n",
    "        \n",
    "    p2.y_range = Range1d(ymax, ymin)  \n",
    "    p2.yaxis.axis_label = 'pressure [mb]'\n",
    "    \n",
    "    p2.x_range = Range1d(xmin, xmax)\n",
    "    p2.xaxis.axis_label = 'cooling rate [K/day]'\n",
    "    \n",
    "    items = [(d['label'], r) for r, d in zip(rs, pltdata)]\n",
    "    legend = Legend(items=items, location=(10, -30))\n",
    "    legend.label_text_font_size = '8pt'\n",
    "    \n",
    "    p2.add_layout(legend, 'right')  \n",
    "    \n",
    "    show(gridplot(p1, p2, ncols=2, plot_height=500))\n",
    "    \n",
    "\n",
    "def script_plt_cooling():\n",
    "    pltdata = pltdata_cooling_1(\n",
    "        ds_cool=DS_COOL,\n",
    "        ds_cool_crd=DS_COOL_CRD,\n",
    "        ds_cool_wgt=DS_COOL_WGT)\n",
    "    plt_cooling_bokeh(pltdata=pltdata)\n",
    "    print('''FIGURE. Cooling rate profiles.''')"
   ]
  },
  {
   "cell_type": "code",
   "execution_count": 9,
   "metadata": {
    "collapsed": true
   },
   "outputs": [],
   "source": [
    "def fmt_flux(ds_in):\n",
    "    ds = ds_in.copy(deep=True)\n",
    "    \n",
    "    for l in ('level', 'layer'):\n",
    "        if l in ds.data_vars:\n",
    "            if len(ds[l].dims) > 1:\n",
    "                surface = {d: 0 for d in ds.dims if d != 'pressure'}\n",
    "                coord_level = ds[l][surface]\n",
    "                ds.coords[l] = ('pressure', coord_level)\n",
    "            else:\n",
    "                ds.coords[l] = ('pressure', ds[l])\n",
    "        \n",
    "    ds = ds.isel(pressure=[0, 23, -1])\n",
    "        \n",
    "    if 'igg' in ds.dims:\n",
    "        ds = ds.sel(igg=[1])\n",
    "        ds = ds.squeeze('igg').drop('igg')\n",
    "    \n",
    "    if 'g' in ds.dims:\n",
    "        ds = ds.sum('g')\n",
    "            \n",
    "    if 'band' in ds.dims:\n",
    "        try:\n",
    "            ds = ds.squeeze('band').drop('band')\n",
    "        except ValueError:\n",
    "            ds = ds.sum('band')\n",
    "                \n",
    "    df = ds.to_dataframe()\n",
    "    df = df.set_index('level', append=True)               \n",
    "    return df\n",
    "\n",
    "\n",
    "def tbdata_flux(ds_flux=None, ds_flux_crd=None, ds_flux_wgt=None):\n",
    "    ilevels = [0, 23, -1]\n",
    "            \n",
    "    benchmark = {'label': 'CRD',\n",
    "                 'df': fmt_flux(ds_flux_crd)}\n",
    "    \n",
    "    tbs = [{'label': 'WGT igg=10 wgt_flux=1',\n",
    "            'df': fmt_flux(ds_flux_wgt)},\n",
    "           {'label': 'CLIRAD',\n",
    "            'df': fmt_flux(ds_flux)}]\n",
    "    \n",
    "    data = {'benchmark': benchmark, 'others': tbs}\n",
    "    return data\n",
    "\n",
    "\n",
    "def tb_flux(tbdata=None):\n",
    "    benchmark = tbdata['benchmark']\n",
    "    others = tbdata['others']\n",
    "    \n",
    "    def show_tb(d=None):\n",
    "        display.display(d['df'])\n",
    "        print('Table.', 'Fluxes.', d['label'])\n",
    "        \n",
    "    def show_tbdiff(d0=None, d=None):\n",
    "        df = d['df']\n",
    "        df.index = d0['df'].index\n",
    "        display.display(df - d0['df'])\n",
    "        print('Table.', 'Fluxes.', \n",
    "              '({}) - ({})'.format(d['label'], d0['label']))\n",
    "        \n",
    "    show_tb(benchmark)\n",
    "    for d in others:\n",
    "        show_tb(d)\n",
    "        \n",
    "    for d in others:\n",
    "        show_tbdiff(d=d, d0=benchmark)\n",
    "        \n",
    "        \n",
    "def script_tb_flux():\n",
    "    data = tbdata_flux(ds_flux=DS_FLUX,\n",
    "                       ds_flux_crd=DS_FLUX_CRD,\n",
    "                       ds_flux_wgt=DS_FLUX_WGT)\n",
    "    tb_flux(tbdata=data)"
   ]
  },
  {
   "cell_type": "code",
   "execution_count": 10,
   "metadata": {
    "collapsed": true
   },
   "outputs": [],
   "source": [
    "def band_map():\n",
    "    '''\n",
    "    Maps spectral bands in lblnew to spectral bands in clirad.\n",
    "    '''\n",
    "    lblnew2clirad = {'1': '1',\n",
    "            '2': '2',\n",
    "            '3a': '3',\n",
    "            '3b': '4',\n",
    "            '3c': '5',\n",
    "            '4': '6', \n",
    "            '5': '7',\n",
    "            '6': '8',\n",
    "            '7': '9', \n",
    "            '8': '10',\n",
    "            '9': '11'}\n",
    "    \n",
    "    clirad2lblnew = {clirad: lblnew \n",
    "                     for lblnew, clirad in lblnew2clirad.items()}\n",
    "    return clirad2lblnew\n",
    "\n",
    "\n",
    "def gasbands():\n",
    "    bmap = band_map()\n",
    "    gases = list(PARAM['molecule'].keys())\n",
    "    \n",
    "    bands = [bmap[str(b)] for b in PARAM['band']]\n",
    "    return list(itertools.product(gases, bands))\n",
    "\n",
    "\n",
    "def print_bestfit_params():\n",
    "    print('Best-fit values for each (gas, band)')\n",
    "    print('------------------------------------')\n",
    "    for gas, band in gasbands():\n",
    "        print('o {} band{}'.format(gas, band))\n",
    "        param = bestfits.kdist_params(molecule=gas, band=band)\n",
    "        for name, value in sorted(param.items()):\n",
    "            print(2 * ' ' + '{} = {}'.format(name, value))\n",
    "\n",
    "        \n",
    "def print_input_param():        \n",
    "    for name, value in PARAM.items():\n",
    "        print('{} = {}'.format(name, value))\n",
    "        \n",
    "        \n",
    "def print_lblnew_param():\n",
    "    for name, value in sorted(PARAM_LBLNEW.items()):\n",
    "        print('{} = {}'.format(name, value))\n"
   ]
  },
  {
   "cell_type": "code",
   "execution_count": 11,
   "metadata": {
    "collapsed": true,
    "scrolled": false
   },
   "outputs": [],
   "source": [
    "def show_html(s):\n",
    "    display.display(display.HTML(s))\n",
    "\n",
    "    \n",
    "def show_markdown(s):\n",
    "    display.display(display.Markdown(s))\n",
    "\n",
    "    \n",
    "def script():\n",
    "    \n",
    "    title = '### CLIRAD-LW'\n",
    "    s_input = 'Input Parameters'\n",
    "    s_lblnew_param = 'LBLNEW case compaired against'\n",
    "    s_bestfits = 'Best-fit Parameters'\n",
    "    s_plt_cooling = 'Cooling Rate Profiles'\n",
    "    s_tb_flux = 'Flux Comparison'\n",
    "    \n",
    "    # title\n",
    "    show_markdown('### CLIRAD-LW')\n",
    "    \n",
    "    # TOC\n",
    "    show_markdown('### Table of Contents')\n",
    "    show_html(climahtml.getHTML_hrefanchor(s_input))\n",
    "    show_html(climahtml.getHTML_hrefanchor(s_lblnew_param))\n",
    "    show_html(climahtml.getHTML_hrefanchor(s_plt_cooling))\n",
    "    show_html(climahtml.getHTML_hrefanchor(s_tb_flux))\n",
    "    show_html(climahtml.getHTML_hrefanchor(s_bestfits))\n",
    "    \n",
    "    # Input parameters\n",
    "    show_html(climahtml.getHTML_idanchor(s_input))\n",
    "    show_markdown(climahtml.getMarkdown_sectitle(s_input))\n",
    "    print_input_param()\n",
    "    \n",
    "    # LBLNEW parameters \n",
    "    show_html(climahtml.getHTML_idanchor(s_lblnew_param))\n",
    "    show_markdown(climahtml.getMarkdown_sectitle(s_lblnew_param))\n",
    "    print_lblnew_param()\n",
    "    \n",
    "    # Cooling rate profiles\n",
    "    show_html(climahtml.getHTML_idanchor(s_plt_cooling))\n",
    "    show_markdown(climahtml.getMarkdown_sectitle(s_plt_cooling))\n",
    "    script_plt_cooling()\n",
    "    \n",
    "    # Flux comparison\n",
    "    show_html(climahtml.getHTML_idanchor(s_tb_flux))\n",
    "    show_markdown(climahtml.getMarkdown_sectitle(s_tb_flux))\n",
    "    script_tb_flux()\n",
    "    \n",
    "    # Best-fit values\n",
    "    show_html(climahtml.getHTML_idanchor(s_bestfits))\n",
    "    show_markdown(climahtml.getMarkdown_sectitle(s_bestfits))\n",
    "    print_bestfit_params()\n",
    "   \n",
    "    "
   ]
  },
  {
   "cell_type": "code",
   "execution_count": 12,
   "metadata": {
    "collapsed": true,
    "scrolled": false
   },
   "outputs": [
    {
     "data": {
      "text/markdown": [
       "### CLIRAD-LW"
      ],
      "text/plain": [
       "<IPython.core.display.Markdown object>"
      ]
     },
     "metadata": {},
     "output_type": "display_data"
    },
    {
     "data": {
      "text/markdown": [
       "### Table of Contents"
      ],
      "text/plain": [
       "<IPython.core.display.Markdown object>"
      ]
     },
     "metadata": {},
     "output_type": "display_data"
    },
    {
     "data": {
      "text/html": [
       "<a href=\"#Input_Parameters\">Input Parameters</a>"
      ],
      "text/plain": [
       "<IPython.core.display.HTML object>"
      ]
     },
     "metadata": {},
     "output_type": "display_data"
    },
    {
     "data": {
      "text/html": [
       "<a href=\"#LBLNEW_case_compaired_against\">LBLNEW case compaired against</a>"
      ],
      "text/plain": [
       "<IPython.core.display.HTML object>"
      ]
     },
     "metadata": {},
     "output_type": "display_data"
    },
    {
     "data": {
      "text/html": [
       "<a href=\"#Cooling_Rate_Profiles\">Cooling Rate Profiles</a>"
      ],
      "text/plain": [
       "<IPython.core.display.HTML object>"
      ]
     },
     "metadata": {},
     "output_type": "display_data"
    },
    {
     "data": {
      "text/html": [
       "<a href=\"#Flux_Comparison\">Flux Comparison</a>"
      ],
      "text/plain": [
       "<IPython.core.display.HTML object>"
      ]
     },
     "metadata": {},
     "output_type": "display_data"
    },
    {
     "data": {
      "text/html": [
       "<a href=\"#Best-fit_Parameters\">Best-fit Parameters</a>"
      ],
      "text/plain": [
       "<IPython.core.display.HTML object>"
      ]
     },
     "metadata": {},
     "output_type": "display_data"
    },
    {
     "data": {
      "text/html": [
       "<a id=\"Input_Parameters\"></a>"
      ],
      "text/plain": [
       "<IPython.core.display.HTML object>"
      ]
     },
     "metadata": {},
     "output_type": "display_data"
    },
    {
     "data": {
      "text/markdown": [
       "# Input Parameters"
      ],
      "text/plain": [
       "<IPython.core.display.Markdown object>"
      ]
     },
     "metadata": {},
     "output_type": "display_data"
    },
    {
     "name": "stdout",
     "output_type": "stream",
     "text": [
      "commitnumber = de5d43e\n",
      "molecule = {'h2o': 'atmpro', 'co2': 0.0004}\n",
      "band = [6]\n",
      "atmpro = saw\n",
      "tsfc = 257\n"
     ]
    },
    {
     "data": {
      "text/html": [
       "<a id=\"LBLNEW_case_compaired_against\"></a>"
      ],
      "text/plain": [
       "<IPython.core.display.HTML object>"
      ]
     },
     "metadata": {},
     "output_type": "display_data"
    },
    {
     "data": {
      "text/markdown": [
       "# LBLNEW case compaired against"
      ],
      "text/plain": [
       "<IPython.core.display.Markdown object>"
      ]
     },
     "metadata": {},
     "output_type": "display_data"
    },
    {
     "name": "stdout",
     "output_type": "stream",
     "text": [
      "atmpro = saw\n",
      "band = 4\n",
      "commitnumber = 5014a19\n",
      "dv = 0.001\n",
      "molecule = {'h2o': 'atmpro', 'co2': 0.0004}\n",
      "nv = 1000\n",
      "tsfc = 257\n"
     ]
    },
    {
     "data": {
      "text/html": [
       "<a id=\"Cooling_Rate_Profiles\"></a>"
      ],
      "text/plain": [
       "<IPython.core.display.HTML object>"
      ]
     },
     "metadata": {},
     "output_type": "display_data"
    },
    {
     "data": {
      "text/markdown": [
       "# Cooling Rate Profiles"
      ],
      "text/plain": [
       "<IPython.core.display.Markdown object>"
      ]
     },
     "metadata": {},
     "output_type": "display_data"
    },
    {
     "data": {
      "text/html": [
       "\n",
       "<div class=\"bk-root\">\n",
       "    <div class=\"bk-plotdiv\" id=\"0a7a598b-731a-464c-a3d6-b6086aee5597\"></div>\n",
       "</div>"
      ]
     },
     "metadata": {},
     "output_type": "display_data"
    },
    {
     "data": {
      "application/javascript": [
       "(function(root) {\n",
       "  function embed_document(root) {\n",
       "    \n",
       "  var docs_json = {\"67f34dde-a226-4b47-b7b8-ec4636966ccd\":{\"roots\":{\"references\":[{\"attributes\":{\"fill_alpha\":{\"value\":0.7},\"fill_color\":{\"value\":\"#984ea3\"},\"line_alpha\":{\"value\":0.7},\"line_color\":{\"value\":\"#984ea3\"},\"x\":{\"field\":\"x\"},\"y\":{\"field\":\"y\"}},\"id\":\"6aeb8d81-49bf-46af-88e2-dd642357a6b5\",\"type\":\"Square\"},{\"attributes\":{},\"id\":\"46e004e7-7316-407e-a375-6057438007ac\",\"type\":\"SaveTool\"},{\"attributes\":{\"line_alpha\":0.1,\"line_color\":\"#1f77b4\",\"line_width\":1.5,\"x\":{\"field\":\"x\"},\"y\":{\"field\":\"y\"}},\"id\":\"2d6448ca-2c30-45a0-a5cd-404734f63319\",\"type\":\"Line\"},{\"attributes\":{\"children\":[{\"id\":\"0066200d-3172-4fa0-8bfb-983b81a590b1\",\"subtype\":\"Figure\",\"type\":\"Plot\"},{\"id\":\"e4ed681f-bf25-4b38-be98-e31b8e8aae13\",\"subtype\":\"Figure\",\"type\":\"Plot\"}]},\"id\":\"27b3b8f3-ec37-42ef-8bec-3d838d956012\",\"type\":\"Row\"},{\"attributes\":{\"fill_alpha\":{\"value\":0.7},\"fill_color\":{\"value\":\"#4daf4a\"},\"line_alpha\":{\"value\":0.7},\"line_color\":{\"value\":\"#4daf4a\"},\"x\":{\"field\":\"x\"},\"y\":{\"field\":\"y\"}},\"id\":\"acddb195-cc8d-4c73-908a-a7e8bc85b8fc\",\"type\":\"Circle\"},{\"attributes\":{\"line_color\":\"#4daf4a\",\"line_width\":1.5,\"x\":{\"field\":\"x\"},\"y\":{\"field\":\"y\"}},\"id\":\"f953f62c-2f0a-41bf-ab72-f573a76fce00\",\"type\":\"Line\"},{\"attributes\":{\"callback\":null,\"data\":{\"x\":{\"__ndarray__\":\"ylB+W4NBMb/m+AMwUzA3vx9xdc28KyS/kEffpI/IFb+9jafmbjfDPqfM/MDMIRw//t4VaBv1Lz9keeb2D+Y7P3o/DqWEbkU/UhxMHAGOTj+W6bsFEMpUP5hJwUx8cls/SOYefOu2YT+ofZezLt5lP4wSY/7yjmk/nNuMo44fbT+tTZ+5IH1wP1BBLaZTh3I/NwmxfYCqdD/496C+Ieh2P6e1VBqERHk/GsuFHCy7dz9qOqq2dRlxP7PI7PA7tGU/lq4SQ2G9WT8g3ZggQHJLPzNb+joAIjc/u2eseiJPFD84Pvt0ojsQv/uBSv1jJCO/K4ccQnQXK79s5Q6sPUQwv5ct0hWZTDG/J7Hhl8rhML/DSP1xXS0xv/FR6rD6eDG/BtX9ZBpFMb9RJHSk7lsxv4MfDqx9izG/Tu5K/7a7Mb+RFjg6KQYyv5v0zw75uzK/4sezYNqTM79tI7ri6Uw0v/57ABVrsjS/n/07pW89M7+Pc9h0G/YrvxzdaMv6XRa/br/tV1+kFj9HojfJch81PyRgWagV+kQ/JnxmNVOUUT/4A+G0JxtbP+rx/BsUymM/sluqn25Raz+nUU9+zkZyP3TjTeZuw3c/TUKif7QOfj/Cc+ZLJYSCP1LiKZq9IoY/r+HBzeTGiT9rgLFCum2NP77EiN91f5A/LPcWlyk0kj/yp5CiA8+TP9G8rCEiSZU/rjX5BXKLlj9paQShEI+XP83SiHhvNZg/0m3+aedXmD9S4zFFscOXPzcZhb+HlJY/x1P5GFg5lT94JE9zoduTP6WCWnFJjJI/\",\"dtype\":\"float64\",\"shape\":[75]},\"y\":{\"__ndarray__\":\"S/O/Q+51ND/Sv8nbtpRIP2vylNV0PVE/aTum7souWD/At0SJ8fVgPw3Iuahxymc/MSNhhJWvcD/bTfBN02d3P2zb5nxnaoA/CD5h5MAGhz8NmeH1TyaQP+zrCsc9p5Y/LbKd76fGnz/bLW5ISEmmPww9YvTcQq8/JV2OstnstT8Er5Y7M8G+P0c+r3jqkcU/5h99k6ZBzj88bCIzFzjVP4enV8oyxN0//yH99nXg5D8qOpLLf0jtP5kqGJXUifQ/c9cS8kHP/D+/DpwzojQEQIEmwoanVwxA4lgXt9HgE0BSSZ2AJuIbQAMJih9jjiNA5q4l5INuK0AwTKYKRj0zQNv5fmq8/DpAaCJseHrtQkB/+zpwzoxKQM3MzMzMeFJAZmZmZmZqWEAAAAAAAFxeQM3MzMzMJmJAmpmZmZkfZUBmZmZmZhhoQDMzMzMzEWtAAAAAAAAKbkBmZmZmZoFwQM3MzMzM/XFAMzMzMzN6c0CamZmZmfZ0QAAAAAAAc3ZAZmZmZmbvd0DNzMzMzGt5QDMzMzMz6HpAmpmZmZlkfEAAAAAAAOF9QGZmZmZmXX9AZmZmZuZsgECamZmZGSuBQM3MzMxM6YFAAAAAAICngkAzMzMzs2WDQGZmZmbmI4RAmpmZmRnihEDNzMzMTKCFQAAAAACAXoZAMzMzM7Mch0BmZmZm5tqHQJqZmZkZmYhAzczMzExXiUAAAAAAgBWKQDMzMzOz04pAZmZmZuaRi0CamZmZGVCMQM3MzMxMDo1AAAAAAIDMjUAzMzMzs4qOQGZmZmbmSI9A\",\"dtype\":\"float64\",\"shape\":[75]}},\"selected\":{\"id\":\"5887401f-74cb-4a11-a410-398b29c8a027\",\"type\":\"Selection\"},\"selection_policy\":{\"id\":\"da895399-3deb-46a9-bdb9-49595ea4c333\",\"type\":\"UnionRenderers\"}},\"id\":\"37e35e26-f6cc-4108-98a8-0b4bae048ce3\",\"type\":\"ColumnDataSource\"},{\"attributes\":{\"callback\":null,\"data\":{\"x\":{\"__ndarray__\":\"qyC3vEEWI7+Sr8PP7mogv1Yzp88y/BK/AAAAAAAAAABJWqVQVBAZP8geynBAviw/gbE/1sSvOD9Iqh3sbtFCP2AN5qOL3Eo/U+/Xi8JhUj++BaQJzG1YP0gavO1Sw18/xShR9JVHZD+YL5oSI+RoP/445mhRAG0/q/XK6EN4cD8gvmlFVqFyPzFVWIS1BXU/gyDH5IKrdz/dDRGcG5h6P6X4OFd0cn0/KySrJrkYez+StnBe9WdzP0DyCbvaoWg/ZMha0C6wXT+DkPoeSWJQPxc+jVfVbz4/R63yUx6wJD/ne1vTTrfDPnWRCTjioRi/owSnECy3Jb/7g+7FtJYsvznPbdBOATC/fCKqCXpSML9tpWxzKy8wv7ED+tawti+/9Esero1QL7+hMI+RuPsvvwImdGl24TC/H85Sl+GzMb9m8vj/snAyvxUbIsQMNzO/GcEbpWngM7/f4IKhS440vwyXFiuqAjW/UrDdX114M7+z/G2YOnUsv4ZwN3pFvBW/7EUZB5IBGj/wE7BLZRc3P/Y7VVtT9kY/6v+x3AY4Uz/YjStwYX1dP7GaYJhJXWU/5Wjt+QOlbT/tEYHZqsxzP41GCpmulnk/oLy8tv8MgD9LXA6ObpGDP26YfSvNPoc/nWKqoG/5ij91n4EwbqWOP+tNgdZAFpE/t3SIXMm+kj+oIuxG5UeUP9TEeiTXrZU/QgYBGCDolj9usdivBuuXP8iTSbKzjZg/crw6e/KmmD8BMv3d/gaYP+EyThMby5Y/M2GbV+xklT+p0I9yb/+TP5JR5JdhppI/\",\"dtype\":\"float64\",\"shape\":[75]},\"y\":{\"__ndarray__\":\"GhExyth1ND/Sv8nbtpRIP2vylNV0PVE/aTum7souWD/At0SJ8fVgPw3Iuahxymc/MSNhhJWvcD/bTfBN02d3P2zb5nxnaoA/CD5h5MAGhz8NmeH1TyaQP+zrCsc9p5Y/LbKd76fGnz/bLW5ISEmmPww9YvTcQq8/JV2OstnstT8Er5Y7M8G+P0c+r3jqkcU/5h99k6ZBzj88bCIzFzjVP4enV8oyxN0//yH99nXg5D8qOpLLf0jtP5kqGJXUifQ/c9cS8kHP/D+/DpwzojQEQIEmwoanVwxA4lgXt9HgE0BSSZ2AJuIbQAMJih9jjiNA5q4l5INuK0AwTKYKRj0zQNv5fmq8/DpAaCJseHrtQkB/+zpwzoxKQM3MzMzMeFJAZmZmZmZqWEAAAAAAAFxeQM3MzMzMJmJAmpmZmZkfZUBmZmZmZhhoQDMzMzMzEWtAAAAAAAAKbkBmZmZmZoFwQM3MzMzM/XFAMzMzMzN6c0CamZmZmfZ0QAAAAAAAc3ZAZmZmZmbvd0DNzMzMzGt5QDMzMzMz6HpAmpmZmZlkfEAAAAAAAOF9QGZmZmZmXX9AZmZmZuZsgECamZmZGSuBQM3MzMxM6YFAAAAAAICngkAzMzMzs2WDQGZmZmbmI4RAmpmZmRnihEDNzMzMTKCFQAAAAACAXoZAMzMzM7Mch0BmZmZm5tqHQJqZmZkZmYhAzczMzExXiUAAAAAAgBWKQDMzMzOz04pAZmZmZuaRi0CamZmZGVCMQM3MzMxMDo1AAAAAAIDMjUAzMzMzs4qOQGZmZmbmSI9A\",\"dtype\":\"float64\",\"shape\":[75]}},\"selected\":{\"id\":\"56b99f39-c5c8-40ce-8115-078630fe1228\",\"type\":\"Selection\"},\"selection_policy\":{\"id\":\"f895d9cf-e5f5-4f0d-81e6-56c1f1214a7f\",\"type\":\"UnionRenderers\"}},\"id\":\"617c070e-fcf4-45a0-a670-24a877ff6be5\",\"type\":\"ColumnDataSource\"},{\"attributes\":{\"callback\":null,\"end\":0.01,\"start\":1020},\"id\":\"5a5f7529-28b2-4613-85c0-6ddb333ab460\",\"type\":\"Range1d\"},{\"attributes\":{\"fill_alpha\":{\"value\":0.1},\"fill_color\":{\"value\":\"#1f77b4\"},\"line_alpha\":{\"value\":0.1},\"line_color\":{\"value\":\"#1f77b4\"},\"x\":{\"field\":\"x\"},\"y\":{\"field\":\"y\"}},\"id\":\"21cf5935-fced-483c-ba5e-1d8d7e5cdeea\",\"type\":\"Square\"},{\"attributes\":{\"data_source\":{\"id\":\"e4079127-7d65-4042-9bfc-f03c9195f40d\",\"type\":\"ColumnDataSource\"},\"glyph\":{\"id\":\"f953f62c-2f0a-41bf-ab72-f573a76fce00\",\"type\":\"Line\"},\"hover_glyph\":null,\"muted_glyph\":null,\"nonselection_glyph\":{\"id\":\"2d6448ca-2c30-45a0-a5cd-404734f63319\",\"type\":\"Line\"},\"selection_glyph\":null,\"view\":{\"id\":\"70d57b51-a4af-4ea2-8c5f-8cc4e203d1a5\",\"type\":\"CDSView\"}},\"id\":\"c53303a6-d606-40ba-a794-56f33ca6113a\",\"type\":\"GlyphRenderer\"},{\"attributes\":{},\"id\":\"773b6977-6a89-451e-8b85-e6d52a88db64\",\"type\":\"HelpTool\"},{\"attributes\":{\"data_source\":{\"id\":\"617c070e-fcf4-45a0-a670-24a877ff6be5\",\"type\":\"ColumnDataSource\"},\"glyph\":{\"id\":\"6aeb8d81-49bf-46af-88e2-dd642357a6b5\",\"type\":\"Square\"},\"hover_glyph\":null,\"muted_glyph\":null,\"nonselection_glyph\":{\"id\":\"21cf5935-fced-483c-ba5e-1d8d7e5cdeea\",\"type\":\"Square\"},\"selection_glyph\":null,\"view\":{\"id\":\"997e8422-e66d-4172-b61f-8d3e578542ac\",\"type\":\"CDSView\"}},\"id\":\"791ebf50-4265-4e89-a7dd-615af9c942e7\",\"type\":\"GlyphRenderer\"},{\"attributes\":{\"overlay\":{\"id\":\"38a3d4a3-4c6c-451d-afda-4df3e5d2ab3d\",\"type\":\"BoxAnnotation\"}},\"id\":\"924bc347-41c2-42c1-921f-feb8190f9e57\",\"type\":\"BoxZoomTool\"},{\"attributes\":{\"source\":{\"id\":\"e4079127-7d65-4042-9bfc-f03c9195f40d\",\"type\":\"ColumnDataSource\"}},\"id\":\"70d57b51-a4af-4ea2-8c5f-8cc4e203d1a5\",\"type\":\"CDSView\"},{\"attributes\":{\"children\":[{\"id\":\"27b3b8f3-ec37-42ef-8bec-3d838d956012\",\"type\":\"Row\"}]},\"id\":\"e03f86f2-8594-4883-a043-1a701fc37d1a\",\"type\":\"Column\"},{\"attributes\":{},\"id\":\"fbd74465-8d4d-46d4-916b-35a8832ff6d9\",\"type\":\"WheelZoomTool\"},{\"attributes\":{\"label\":{\"value\":\"CLIRAD `coolr_bands`\"},\"renderers\":[{\"id\":\"59ee9fc9-f803-49cb-bc72-4eae1befbf77\",\"type\":\"GlyphRenderer\"}]},\"id\":\"9af70e86-9847-442a-9f8c-0530ae8e4d68\",\"type\":\"LegendItem\"},{\"attributes\":{},\"id\":\"bb9f01e5-33d7-463e-8c69-949ae1353439\",\"type\":\"BasicTickFormatter\"},{\"attributes\":{\"label\":{\"value\":\"CRD\"},\"renderers\":[{\"id\":\"901fe4f7-dd67-4490-b3c8-77de7a3254ff\",\"type\":\"GlyphRenderer\"},{\"id\":\"c53303a6-d606-40ba-a794-56f33ca6113a\",\"type\":\"GlyphRenderer\"}]},\"id\":\"67c4d9cf-f8d5-4129-aa17-d2649ad2088a\",\"type\":\"LegendItem\"},{\"attributes\":{},\"id\":\"075923ed-f489-4672-a983-2b44e070011c\",\"type\":\"UnionRenderers\"},{\"attributes\":{\"label\":{\"value\":\"WGT igg=10 wgt_flux=2\"},\"renderers\":[{\"id\":\"791ebf50-4265-4e89-a7dd-615af9c942e7\",\"type\":\"GlyphRenderer\"},{\"id\":\"7516b32d-4cf2-4703-b116-759c768467d5\",\"type\":\"GlyphRenderer\"}]},\"id\":\"7207ea74-d71a-4bfb-b9ed-7195730ec00d\",\"type\":\"LegendItem\"},{\"attributes\":{},\"id\":\"f122fa37-d6bb-4488-afcd-c407e8f6ae76\",\"type\":\"Selection\"},{\"attributes\":{},\"id\":\"078c3968-a9b9-4144-a632-4a51f3c7b41b\",\"type\":\"BasicTickFormatter\"},{\"attributes\":{},\"id\":\"da895399-3deb-46a9-bdb9-49595ea4c333\",\"type\":\"UnionRenderers\"},{\"attributes\":{},\"id\":\"b6a372fe-8759-4935-a95f-adf61c6e8a8f\",\"type\":\"BasicTickFormatter\"},{\"attributes\":{\"below\":[{\"id\":\"eb929c8b-f09d-44a1-a2f8-860e064f26ed\",\"type\":\"LinearAxis\"}],\"left\":[{\"id\":\"55a031ab-47bd-4fe2-9a47-eeb94e1d4335\",\"type\":\"LogAxis\"}],\"plot_height\":500,\"plot_width\":560,\"renderers\":[{\"id\":\"eb929c8b-f09d-44a1-a2f8-860e064f26ed\",\"type\":\"LinearAxis\"},{\"id\":\"0270dec5-bc93-461b-99f0-68d434d07854\",\"type\":\"Grid\"},{\"id\":\"55a031ab-47bd-4fe2-9a47-eeb94e1d4335\",\"type\":\"LogAxis\"},{\"id\":\"27fc1db6-5b7c-42a5-a421-7df91be7d13b\",\"type\":\"Grid\"},{\"id\":\"8dfcde03-681e-4ce1-a1e9-c55a9e6c4423\",\"type\":\"BoxAnnotation\"},{\"id\":\"59ee9fc9-f803-49cb-bc72-4eae1befbf77\",\"type\":\"GlyphRenderer\"},{\"id\":\"901fe4f7-dd67-4490-b3c8-77de7a3254ff\",\"type\":\"GlyphRenderer\"},{\"id\":\"c53303a6-d606-40ba-a794-56f33ca6113a\",\"type\":\"GlyphRenderer\"},{\"id\":\"791ebf50-4265-4e89-a7dd-615af9c942e7\",\"type\":\"GlyphRenderer\"},{\"id\":\"7516b32d-4cf2-4703-b116-759c768467d5\",\"type\":\"GlyphRenderer\"},{\"id\":\"ccb11f2a-3e36-45b9-a0bd-2159e6cc0776\",\"type\":\"Legend\"}],\"right\":[{\"id\":\"ccb11f2a-3e36-45b9-a0bd-2159e6cc0776\",\"type\":\"Legend\"}],\"title\":{\"id\":\"ace43bad-964b-4fcf-99af-965281a0f0ff\",\"type\":\"Title\"},\"toolbar\":{\"id\":\"69e5bbb7-d370-4263-90ca-b9e5ab17377f\",\"type\":\"Toolbar\"},\"toolbar_location\":null,\"x_range\":{\"id\":\"b9ec6abe-128a-4c17-a8b6-64be9e6e3a70\",\"type\":\"Range1d\"},\"x_scale\":{\"id\":\"4567e8df-10c6-4295-be37-b638b8b7a8e0\",\"type\":\"LinearScale\"},\"y_range\":{\"id\":\"82ca436e-b9c3-43b7-9831-021d2fd8a0e4\",\"type\":\"Range1d\"},\"y_scale\":{\"id\":\"358ca595-733e-4ca3-a5e1-57f1ed36ca15\",\"type\":\"LogScale\"}},\"id\":\"e4ed681f-bf25-4b38-be98-e31b8e8aae13\",\"subtype\":\"Figure\",\"type\":\"Plot\"},{\"attributes\":{},\"id\":\"5887401f-74cb-4a11-a410-398b29c8a027\",\"type\":\"Selection\"},{\"attributes\":{},\"id\":\"d97b1a79-6636-4b11-b0bb-657b18fd725b\",\"type\":\"Selection\"},{\"attributes\":{},\"id\":\"358ca595-733e-4ca3-a5e1-57f1ed36ca15\",\"type\":\"LogScale\"},{\"attributes\":{},\"id\":\"92571d32-9b56-49b2-acaf-138fa13d4027\",\"type\":\"UnionRenderers\"},{\"attributes\":{},\"id\":\"eee29c1a-fb74-4bf4-b060-30d21d60e1d0\",\"type\":\"Selection\"},{\"attributes\":{},\"id\":\"2f302832-083d-4926-b15f-2a2f158e4411\",\"type\":\"Selection\"},{\"attributes\":{},\"id\":\"da1e8413-e440-44c9-8a3f-30acd9083b78\",\"type\":\"UnionRenderers\"},{\"attributes\":{\"line_alpha\":0.1,\"line_color\":\"#1f77b4\",\"line_dash\":[6],\"line_width\":5,\"x\":{\"field\":\"x\"},\"y\":{\"field\":\"y\"}},\"id\":\"328c96f8-b3a4-4888-bdec-a43844af5c15\",\"type\":\"Line\"},{\"attributes\":{},\"id\":\"270f8b79-a657-4dac-b04e-b01280cb68c4\",\"type\":\"UnionRenderers\"},{\"attributes\":{},\"id\":\"ca20d85f-8f13-425e-942c-8a51ee5bfb84\",\"type\":\"UnionRenderers\"},{\"attributes\":{},\"id\":\"46dce714-31d1-4698-94c8-9c4aad5b0771\",\"type\":\"Selection\"},{\"attributes\":{\"ticker\":null},\"id\":\"f66ca88d-38dc-42d0-be21-bfa6dc45ccab\",\"type\":\"LogTickFormatter\"},{\"attributes\":{\"data_source\":{\"id\":\"37e35e26-f6cc-4108-98a8-0b4bae048ce3\",\"type\":\"ColumnDataSource\"},\"glyph\":{\"id\":\"9cf5a19f-04d7-4a14-8352-80048cf878e6\",\"type\":\"Line\"},\"hover_glyph\":null,\"muted_glyph\":null,\"nonselection_glyph\":{\"id\":\"328c96f8-b3a4-4888-bdec-a43844af5c15\",\"type\":\"Line\"},\"selection_glyph\":null,\"view\":{\"id\":\"4b875c38-a5b8-4756-b497-97d52bfeb741\",\"type\":\"CDSView\"}},\"id\":\"98193c6e-65b4-4078-b463-d7ca58c09b0a\",\"type\":\"GlyphRenderer\"},{\"attributes\":{},\"id\":\"020f5e95-9c3b-46f1-a7f5-6465511734bf\",\"type\":\"Selection\"},{\"attributes\":{},\"id\":\"a06d5e99-0571-4ec6-8001-c1988ca8bbd8\",\"type\":\"Selection\"},{\"attributes\":{},\"id\":\"7276e1aa-5f48-472e-a6d7-5d70c189e1ac\",\"type\":\"UnionRenderers\"},{\"attributes\":{},\"id\":\"76c96489-9a5e-4655-bf47-8707ec3a4a6c\",\"type\":\"UnionRenderers\"},{\"attributes\":{\"plot\":null,\"text\":\"Linear pressure scale\"},\"id\":\"cc601c61-52c9-474b-bb71-c98656536412\",\"type\":\"Title\"},{\"attributes\":{},\"id\":\"56b99f39-c5c8-40ce-8115-078630fe1228\",\"type\":\"Selection\"},{\"attributes\":{},\"id\":\"5feca4bd-a813-49e3-8c09-d56c78c2bce3\",\"type\":\"Selection\"},{\"attributes\":{\"toolbar\":{\"id\":\"cf2db0de-e12b-46fb-b285-d349a092f9f2\",\"type\":\"ProxyToolbar\"},\"toolbar_location\":\"above\"},\"id\":\"f7a80ba9-e415-4587-834d-9bf1da7830f4\",\"type\":\"ToolbarBox\"},{\"attributes\":{},\"id\":\"de86d8fc-90ab-4f72-8199-8d24dec7d044\",\"type\":\"PanTool\"},{\"attributes\":{\"plot\":{\"id\":\"0066200d-3172-4fa0-8bfb-983b81a590b1\",\"subtype\":\"Figure\",\"type\":\"Plot\"},\"ticker\":{\"id\":\"f1a484a9-0c9a-482f-a087-39c284215467\",\"type\":\"BasicTicker\"}},\"id\":\"d572dbbe-5612-47d9-9410-51ab9f299d4f\",\"type\":\"Grid\"},{\"attributes\":{},\"id\":\"f895d9cf-e5f5-4f0d-81e6-56c1f1214a7f\",\"type\":\"UnionRenderers\"},{\"attributes\":{\"children\":[{\"id\":\"f7a80ba9-e415-4587-834d-9bf1da7830f4\",\"type\":\"ToolbarBox\"},{\"id\":\"e03f86f2-8594-4883-a043-1a701fc37d1a\",\"type\":\"Column\"}]},\"id\":\"06d834e2-3cde-4d03-9dbd-0f7a733d6765\",\"type\":\"Column\"},{\"attributes\":{},\"id\":\"812901e8-e529-44d6-934d-f1a9a4115b1e\",\"type\":\"UnionRenderers\"},{\"attributes\":{\"tools\":[{\"id\":\"de86d8fc-90ab-4f72-8199-8d24dec7d044\",\"type\":\"PanTool\"},{\"id\":\"fbd74465-8d4d-46d4-916b-35a8832ff6d9\",\"type\":\"WheelZoomTool\"},{\"id\":\"924bc347-41c2-42c1-921f-feb8190f9e57\",\"type\":\"BoxZoomTool\"},{\"id\":\"46e004e7-7316-407e-a375-6057438007ac\",\"type\":\"SaveTool\"},{\"id\":\"8fcff553-e903-4170-a7a9-31031ac51832\",\"type\":\"ResetTool\"},{\"id\":\"773b6977-6a89-451e-8b85-e6d52a88db64\",\"type\":\"HelpTool\"},{\"id\":\"02b2b4f6-a440-4739-bb4a-de6a5206fbd4\",\"type\":\"PanTool\"},{\"id\":\"b12df457-9caa-4b04-bcb9-604923283ad0\",\"type\":\"WheelZoomTool\"},{\"id\":\"1df3e827-95b0-4c03-b658-90b03e9a8806\",\"type\":\"BoxZoomTool\"},{\"id\":\"058d85bd-080a-45e4-865c-e7a2b9c4e869\",\"type\":\"SaveTool\"},{\"id\":\"306d2bf4-448d-4ce3-866f-8152990da57b\",\"type\":\"ResetTool\"},{\"id\":\"adacdd53-94e5-4843-9af9-969af6971b93\",\"type\":\"HelpTool\"}]},\"id\":\"cf2db0de-e12b-46fb-b285-d349a092f9f2\",\"type\":\"ProxyToolbar\"},{\"attributes\":{\"callback\":null,\"end\":0.0256588419187,\"start\":-0.0006222657886999999},\"id\":\"3658bbc7-00a9-48fb-aa6f-639ad6b786c3\",\"type\":\"Range1d\"},{\"attributes\":{\"callback\":null,\"data\":{\"x\":{\"__ndarray__\":\"awO+X01KJL+TnYfmhIggv3EsZccWiAu/2NuyB8vqCD/uc7F67m0nP+pJkv3myDY/JcgO5ftoQj9svvdjDTFLP3OxiyE+CVM/IdB8OlW4WT/ls54UhO9gP6Tvp6LO3mU/yWdPDMTHaz+kF4gxr/twP5pQ9WWRuHM/dmkfiSBQdj/zk5rYpCR5PwUiHQXcOHw/j43R1TWVfz8B1yqF7ZyBP27z03NjXoM/JBe+q87EgT/ZNy7dyCd5P1DH2e+mpm8/XSCMEWXFYj/wLzUT4kJUPx1R8+Q2KEI/ythlZY25Jj9lxnH0pp3pvibrbaZ5Yh+/j7MuYY+MKb/J4verlRcwvynPsHZFWzG/qVQ9ZhkWMb/uLwiSWpQwvwNs3+XuMjC/d7qpgHgvML/mu9Hq6gAxv2z0DA/RUDK/23x/QMuAM79lM2RM45Y0vwe3qWp9kDW/lh0K7/t3Nr8EDBDikVM3v5vFpOAa5Te/+H0t85ZxNr8AlBDDRg0xv13ycBVQhB+/PYpgC8fsEz/0yMDqTkA3P1/3xJxaVEg/vbqXNdnRVD9byfG3+yRgP8651oU4gmc/nD+BysxScD+LsHGV2Ml1P+x/5k6VGHw/Z9Y3ENCNgT8Lpy33x1CFP4GKgpcbN4k/zdZpwPohjT8eJrl6UHuQP/0YoxApT5I/tFwIAvwElD9mUq3/H5mVP+q6wksIB5c/rM4tHiVJmD9woShZGVCZP8ObZbF18pk/Whw9msQCmj+b1PjOLUmZP7fWXt7455c/7dxl09Jblj+M7UYDntKUP9A6QLaAXpM/\",\"dtype\":\"float64\",\"shape\":[75]},\"y\":{\"__ndarray__\":\"GhExyth1ND/Sv8nbtpRIP2vylNV0PVE/aTum7souWD/At0SJ8fVgPw3Iuahxymc/MSNhhJWvcD/bTfBN02d3P2zb5nxnaoA/CD5h5MAGhz8NmeH1TyaQP+zrCsc9p5Y/LbKd76fGnz/bLW5ISEmmPww9YvTcQq8/JV2OstnstT8Er5Y7M8G+P0c+r3jqkcU/5h99k6ZBzj88bCIzFzjVP4enV8oyxN0//yH99nXg5D8qOpLLf0jtP5kqGJXUifQ/c9cS8kHP/D+/DpwzojQEQIEmwoanVwxA4lgXt9HgE0BSSZ2AJuIbQAMJih9jjiNA5q4l5INuK0AwTKYKRj0zQNv5fmq8/DpAaCJseHrtQkB/+zpwzoxKQM3MzMzMeFJAZmZmZmZqWEAAAAAAAFxeQM3MzMzMJmJAmpmZmZkfZUBmZmZmZhhoQDMzMzMzEWtAAAAAAAAKbkBmZmZmZoFwQM3MzMzM/XFAMzMzMzN6c0CamZmZmfZ0QAAAAAAAc3ZAZmZmZmbvd0DNzMzMzGt5QDMzMzMz6HpAmpmZmZlkfEAAAAAAAOF9QGZmZmZmXX9AZmZmZuZsgECamZmZGSuBQM3MzMxM6YFAAAAAAICngkAzMzMzs2WDQGZmZmbmI4RAmpmZmRnihEDNzMzMTKCFQAAAAACAXoZAMzMzM7Mch0BmZmZm5tqHQJqZmZkZmYhAzczMzExXiUAAAAAAgBWKQDMzMzOz04pAZmZmZuaRi0CamZmZGVCMQM3MzMxMDo1AAAAAAIDMjUAzMzMzs4qOQGZmZmbmSI9A\",\"dtype\":\"float64\",\"shape\":[75]}},\"selected\":{\"id\":\"f122fa37-d6bb-4488-afcd-c407e8f6ae76\",\"type\":\"Selection\"},\"selection_policy\":{\"id\":\"075923ed-f489-4672-a983-2b44e070011c\",\"type\":\"UnionRenderers\"}},\"id\":\"bbdd40a9-a785-4f55-b444-2874fd0318b0\",\"type\":\"ColumnDataSource\"},{\"attributes\":{\"active_drag\":\"auto\",\"active_inspect\":\"auto\",\"active_scroll\":\"auto\",\"active_tap\":\"auto\",\"tools\":[{\"id\":\"02b2b4f6-a440-4739-bb4a-de6a5206fbd4\",\"type\":\"PanTool\"},{\"id\":\"b12df457-9caa-4b04-bcb9-604923283ad0\",\"type\":\"WheelZoomTool\"},{\"id\":\"1df3e827-95b0-4c03-b658-90b03e9a8806\",\"type\":\"BoxZoomTool\"},{\"id\":\"058d85bd-080a-45e4-865c-e7a2b9c4e869\",\"type\":\"SaveTool\"},{\"id\":\"306d2bf4-448d-4ce3-866f-8152990da57b\",\"type\":\"ResetTool\"},{\"id\":\"adacdd53-94e5-4843-9af9-969af6971b93\",\"type\":\"HelpTool\"}]},\"id\":\"69e5bbb7-d370-4263-90ca-b9e5ab17377f\",\"type\":\"Toolbar\"},{\"attributes\":{},\"id\":\"f1a484a9-0c9a-482f-a087-39c284215467\",\"type\":\"BasicTicker\"},{\"attributes\":{},\"id\":\"f2d2256d-2b4e-44a5-abc9-dae3e84a0ee5\",\"type\":\"BasicTicker\"},{\"attributes\":{\"axis_label\":\"pressure [mb]\",\"formatter\":{\"id\":\"078c3968-a9b9-4144-a632-4a51f3c7b41b\",\"type\":\"BasicTickFormatter\"},\"plot\":{\"id\":\"0066200d-3172-4fa0-8bfb-983b81a590b1\",\"subtype\":\"Figure\",\"type\":\"Plot\"},\"ticker\":{\"id\":\"f2d2256d-2b4e-44a5-abc9-dae3e84a0ee5\",\"type\":\"BasicTicker\"}},\"id\":\"7a6f1b21-09e4-4301-8dd6-e1700710bcae\",\"type\":\"LinearAxis\"},{\"attributes\":{},\"id\":\"01d928e6-eb91-43df-9ce3-be88452fcde4\",\"type\":\"LinearScale\"},{\"attributes\":{\"dimension\":1,\"plot\":{\"id\":\"0066200d-3172-4fa0-8bfb-983b81a590b1\",\"subtype\":\"Figure\",\"type\":\"Plot\"},\"ticker\":{\"id\":\"f2d2256d-2b4e-44a5-abc9-dae3e84a0ee5\",\"type\":\"BasicTicker\"}},\"id\":\"0cfd3f01-ce87-491a-a817-6417796509a8\",\"type\":\"Grid\"},{\"attributes\":{},\"id\":\"c8ada146-ff0b-4bce-9e89-838fc48406ce\",\"type\":\"LinearScale\"},{\"attributes\":{\"active_drag\":\"auto\",\"active_inspect\":\"auto\",\"active_scroll\":\"auto\",\"active_tap\":\"auto\",\"tools\":[{\"id\":\"de86d8fc-90ab-4f72-8199-8d24dec7d044\",\"type\":\"PanTool\"},{\"id\":\"fbd74465-8d4d-46d4-916b-35a8832ff6d9\",\"type\":\"WheelZoomTool\"},{\"id\":\"924bc347-41c2-42c1-921f-feb8190f9e57\",\"type\":\"BoxZoomTool\"},{\"id\":\"46e004e7-7316-407e-a375-6057438007ac\",\"type\":\"SaveTool\"},{\"id\":\"8fcff553-e903-4170-a7a9-31031ac51832\",\"type\":\"ResetTool\"},{\"id\":\"773b6977-6a89-451e-8b85-e6d52a88db64\",\"type\":\"HelpTool\"}]},\"id\":\"7b470f67-56b8-4d1b-8d9a-4cd8f71f386b\",\"type\":\"Toolbar\"},{\"attributes\":{\"bottom_units\":\"screen\",\"fill_alpha\":{\"value\":0.5},\"fill_color\":{\"value\":\"lightgrey\"},\"left_units\":\"screen\",\"level\":\"overlay\",\"line_alpha\":{\"value\":1.0},\"line_color\":{\"value\":\"black\"},\"line_dash\":[4,4],\"line_width\":{\"value\":2},\"plot\":null,\"render_mode\":\"css\",\"right_units\":\"screen\",\"top_units\":\"screen\"},\"id\":\"38a3d4a3-4c6c-451d-afda-4df3e5d2ab3d\",\"type\":\"BoxAnnotation\"},{\"attributes\":{\"axis_label\":\"cooling rate [K/day]\",\"formatter\":{\"id\":\"bb9f01e5-33d7-463e-8c69-949ae1353439\",\"type\":\"BasicTickFormatter\"},\"plot\":{\"id\":\"0066200d-3172-4fa0-8bfb-983b81a590b1\",\"subtype\":\"Figure\",\"type\":\"Plot\"},\"ticker\":{\"id\":\"f1a484a9-0c9a-482f-a087-39c284215467\",\"type\":\"BasicTicker\"}},\"id\":\"7fa0d282-25ca-4395-99fb-d08bfcb81cb5\",\"type\":\"LinearAxis\"},{\"attributes\":{\"below\":[{\"id\":\"7fa0d282-25ca-4395-99fb-d08bfcb81cb5\",\"type\":\"LinearAxis\"}],\"left\":[{\"id\":\"7a6f1b21-09e4-4301-8dd6-e1700710bcae\",\"type\":\"LinearAxis\"}],\"plot_height\":500,\"plot_width\":400,\"renderers\":[{\"id\":\"7fa0d282-25ca-4395-99fb-d08bfcb81cb5\",\"type\":\"LinearAxis\"},{\"id\":\"d572dbbe-5612-47d9-9410-51ab9f299d4f\",\"type\":\"Grid\"},{\"id\":\"7a6f1b21-09e4-4301-8dd6-e1700710bcae\",\"type\":\"LinearAxis\"},{\"id\":\"0cfd3f01-ce87-491a-a817-6417796509a8\",\"type\":\"Grid\"},{\"id\":\"38a3d4a3-4c6c-451d-afda-4df3e5d2ab3d\",\"type\":\"BoxAnnotation\"},{\"id\":\"98193c6e-65b4-4078-b463-d7ca58c09b0a\",\"type\":\"GlyphRenderer\"},{\"id\":\"af206479-b461-4018-9a0a-1e8761215a37\",\"type\":\"GlyphRenderer\"},{\"id\":\"e31e6418-d336-44ee-b0ff-d286af3076af\",\"type\":\"GlyphRenderer\"},{\"id\":\"8eb1573b-05e0-43af-ba0b-6527bfba9045\",\"type\":\"GlyphRenderer\"},{\"id\":\"980434db-1ec9-4f7b-9aa6-1c26e50f7494\",\"type\":\"GlyphRenderer\"}],\"title\":{\"id\":\"cc601c61-52c9-474b-bb71-c98656536412\",\"type\":\"Title\"},\"toolbar\":{\"id\":\"7b470f67-56b8-4d1b-8d9a-4cd8f71f386b\",\"type\":\"Toolbar\"},\"toolbar_location\":null,\"x_range\":{\"id\":\"3658bbc7-00a9-48fb-aa6f-639ad6b786c3\",\"type\":\"Range1d\"},\"x_scale\":{\"id\":\"01d928e6-eb91-43df-9ce3-be88452fcde4\",\"type\":\"LinearScale\"},\"y_range\":{\"id\":\"5a5f7529-28b2-4613-85c0-6ddb333ab460\",\"type\":\"Range1d\"},\"y_scale\":{\"id\":\"c8ada146-ff0b-4bce-9e89-838fc48406ce\",\"type\":\"LinearScale\"}},\"id\":\"0066200d-3172-4fa0-8bfb-983b81a590b1\",\"subtype\":\"Figure\",\"type\":\"Plot\"},{\"attributes\":{},\"id\":\"02b2b4f6-a440-4739-bb4a-de6a5206fbd4\",\"type\":\"PanTool\"},{\"attributes\":{\"line_alpha\":0.6,\"line_color\":\"#e41a1c\",\"line_dash\":[6],\"line_width\":5,\"x\":{\"field\":\"x\"},\"y\":{\"field\":\"y\"}},\"id\":\"9cf5a19f-04d7-4a14-8352-80048cf878e6\",\"type\":\"Line\"},{\"attributes\":{\"source\":{\"id\":\"ee257de0-8f8a-4b3f-9858-d1c9b96af5f3\",\"type\":\"ColumnDataSource\"}},\"id\":\"5282b7ba-3191-4b68-b0cc-4a710988ae6e\",\"type\":\"CDSView\"},{\"attributes\":{},\"id\":\"b12df457-9caa-4b04-bcb9-604923283ad0\",\"type\":\"WheelZoomTool\"},{\"attributes\":{\"overlay\":{\"id\":\"8dfcde03-681e-4ce1-a1e9-c55a9e6c4423\",\"type\":\"BoxAnnotation\"}},\"id\":\"1df3e827-95b0-4c03-b658-90b03e9a8806\",\"type\":\"BoxZoomTool\"},{\"attributes\":{\"line_color\":\"#4daf4a\",\"line_width\":1.5,\"x\":{\"field\":\"x\"},\"y\":{\"field\":\"y\"}},\"id\":\"c88dc28a-1eff-478f-8c1b-9cb5b8e2f55c\",\"type\":\"Line\"},{\"attributes\":{\"bottom_units\":\"screen\",\"fill_alpha\":{\"value\":0.5},\"fill_color\":{\"value\":\"lightgrey\"},\"left_units\":\"screen\",\"level\":\"overlay\",\"line_alpha\":{\"value\":1.0},\"line_color\":{\"value\":\"black\"},\"line_dash\":[4,4],\"line_width\":{\"value\":2},\"plot\":null,\"render_mode\":\"css\",\"right_units\":\"screen\",\"top_units\":\"screen\"},\"id\":\"8dfcde03-681e-4ce1-a1e9-c55a9e6c4423\",\"type\":\"BoxAnnotation\"},{\"attributes\":{\"callback\":null,\"data\":{\"x\":{\"__ndarray__\":\"awO+X01KJL+TnYfmhIggv3EsZccWiAu/2NuyB8vqCD/uc7F67m0nP+pJkv3myDY/JcgO5ftoQj9svvdjDTFLP3OxiyE+CVM/IdB8OlW4WT/ls54UhO9gP6Tvp6LO3mU/yWdPDMTHaz+kF4gxr/twP5pQ9WWRuHM/dmkfiSBQdj/zk5rYpCR5PwUiHQXcOHw/j43R1TWVfz8B1yqF7ZyBP27z03NjXoM/JBe+q87EgT/ZNy7dyCd5P1DH2e+mpm8/XSCMEWXFYj/wLzUT4kJUPx1R8+Q2KEI/ythlZY25Jj9lxnH0pp3pvibrbaZ5Yh+/j7MuYY+MKb/J4verlRcwvynPsHZFWzG/qVQ9ZhkWMb/uLwiSWpQwvwNs3+XuMjC/d7qpgHgvML/mu9Hq6gAxv2z0DA/RUDK/23x/QMuAM79lM2RM45Y0vwe3qWp9kDW/lh0K7/t3Nr8EDBDikVM3v5vFpOAa5Te/+H0t85ZxNr8AlBDDRg0xv13ycBVQhB+/PYpgC8fsEz/0yMDqTkA3P1/3xJxaVEg/vbqXNdnRVD9byfG3+yRgP8651oU4gmc/nD+BysxScD+LsHGV2Ml1P+x/5k6VGHw/Z9Y3ENCNgT8Lpy33x1CFP4GKgpcbN4k/zdZpwPohjT8eJrl6UHuQP/0YoxApT5I/tFwIAvwElD9mUq3/H5mVP+q6wksIB5c/rM4tHiVJmD9woShZGVCZP8ObZbF18pk/Whw9msQCmj+b1PjOLUmZP7fWXt7455c/7dxl09Jblj+M7UYDntKUP9A6QLaAXpM/\",\"dtype\":\"float64\",\"shape\":[75]},\"y\":{\"__ndarray__\":\"GhExyth1ND/Sv8nbtpRIP2vylNV0PVE/aTum7souWD/At0SJ8fVgPw3Iuahxymc/MSNhhJWvcD/bTfBN02d3P2zb5nxnaoA/CD5h5MAGhz8NmeH1TyaQP+zrCsc9p5Y/LbKd76fGnz/bLW5ISEmmPww9YvTcQq8/JV2OstnstT8Er5Y7M8G+P0c+r3jqkcU/5h99k6ZBzj88bCIzFzjVP4enV8oyxN0//yH99nXg5D8qOpLLf0jtP5kqGJXUifQ/c9cS8kHP/D+/DpwzojQEQIEmwoanVwxA4lgXt9HgE0BSSZ2AJuIbQAMJih9jjiNA5q4l5INuK0AwTKYKRj0zQNv5fmq8/DpAaCJseHrtQkB/+zpwzoxKQM3MzMzMeFJAZmZmZmZqWEAAAAAAAFxeQM3MzMzMJmJAmpmZmZkfZUBmZmZmZhhoQDMzMzMzEWtAAAAAAAAKbkBmZmZmZoFwQM3MzMzM/XFAMzMzMzN6c0CamZmZmfZ0QAAAAAAAc3ZAZmZmZmbvd0DNzMzMzGt5QDMzMzMz6HpAmpmZmZlkfEAAAAAAAOF9QGZmZmZmXX9AZmZmZuZsgECamZmZGSuBQM3MzMxM6YFAAAAAAICngkAzMzMzs2WDQGZmZmbmI4RAmpmZmRnihEDNzMzMTKCFQAAAAACAXoZAMzMzM7Mch0BmZmZm5tqHQJqZmZkZmYhAzczMzExXiUAAAAAAgBWKQDMzMzOz04pAZmZmZuaRi0CamZmZGVCMQM3MzMxMDo1AAAAAAIDMjUAzMzMzs4qOQGZmZmbmSI9A\",\"dtype\":\"float64\",\"shape\":[75]}},\"selected\":{\"id\":\"d97b1a79-6636-4b11-b0bb-657b18fd725b\",\"type\":\"Selection\"},\"selection_policy\":{\"id\":\"92571d32-9b56-49b2-acaf-138fa13d4027\",\"type\":\"UnionRenderers\"}},\"id\":\"ee257de0-8f8a-4b3f-9858-d1c9b96af5f3\",\"type\":\"ColumnDataSource\"},{\"attributes\":{},\"id\":\"058d85bd-080a-45e4-865c-e7a2b9c4e869\",\"type\":\"SaveTool\"},{\"attributes\":{\"callback\":null,\"data\":{\"x\":{\"__ndarray__\":\"ylB+W4NBMb/m+AMwUzA3vx9xdc28KyS/kEffpI/IFb+9jafmbjfDPqfM/MDMIRw//t4VaBv1Lz9keeb2D+Y7P3o/DqWEbkU/UhxMHAGOTj+W6bsFEMpUP5hJwUx8cls/SOYefOu2YT+ofZezLt5lP4wSY/7yjmk/nNuMo44fbT+tTZ+5IH1wP1BBLaZTh3I/NwmxfYCqdD/496C+Ieh2P6e1VBqERHk/GsuFHCy7dz9qOqq2dRlxP7PI7PA7tGU/lq4SQ2G9WT8g3ZggQHJLPzNb+joAIjc/u2eseiJPFD84Pvt0ojsQv/uBSv1jJCO/K4ccQnQXK79s5Q6sPUQwv5ct0hWZTDG/J7Hhl8rhML/DSP1xXS0xv/FR6rD6eDG/BtX9ZBpFMb9RJHSk7lsxv4MfDqx9izG/Tu5K/7a7Mb+RFjg6KQYyv5v0zw75uzK/4sezYNqTM79tI7ri6Uw0v/57ABVrsjS/n/07pW89M7+Pc9h0G/YrvxzdaMv6XRa/br/tV1+kFj9HojfJch81PyRgWagV+kQ/JnxmNVOUUT/4A+G0JxtbP+rx/BsUymM/sluqn25Raz+nUU9+zkZyP3TjTeZuw3c/TUKif7QOfj/Cc+ZLJYSCP1LiKZq9IoY/r+HBzeTGiT9rgLFCum2NP77EiN91f5A/LPcWlyk0kj/yp5CiA8+TP9G8rCEiSZU/rjX5BXKLlj9paQShEI+XP83SiHhvNZg/0m3+aedXmD9S4zFFscOXPzcZhb+HlJY/x1P5GFg5lT94JE9zoduTP6WCWnFJjJI/\",\"dtype\":\"float64\",\"shape\":[75]},\"y\":{\"__ndarray__\":\"S/O/Q+51ND/Sv8nbtpRIP2vylNV0PVE/aTum7souWD/At0SJ8fVgPw3Iuahxymc/MSNhhJWvcD/bTfBN02d3P2zb5nxnaoA/CD5h5MAGhz8NmeH1TyaQP+zrCsc9p5Y/LbKd76fGnz/bLW5ISEmmPww9YvTcQq8/JV2OstnstT8Er5Y7M8G+P0c+r3jqkcU/5h99k6ZBzj88bCIzFzjVP4enV8oyxN0//yH99nXg5D8qOpLLf0jtP5kqGJXUifQ/c9cS8kHP/D+/DpwzojQEQIEmwoanVwxA4lgXt9HgE0BSSZ2AJuIbQAMJih9jjiNA5q4l5INuK0AwTKYKRj0zQNv5fmq8/DpAaCJseHrtQkB/+zpwzoxKQM3MzMzMeFJAZmZmZmZqWEAAAAAAAFxeQM3MzMzMJmJAmpmZmZkfZUBmZmZmZhhoQDMzMzMzEWtAAAAAAAAKbkBmZmZmZoFwQM3MzMzM/XFAMzMzMzN6c0CamZmZmfZ0QAAAAAAAc3ZAZmZmZmbvd0DNzMzMzGt5QDMzMzMz6HpAmpmZmZlkfEAAAAAAAOF9QGZmZmZmXX9AZmZmZuZsgECamZmZGSuBQM3MzMxM6YFAAAAAAICngkAzMzMzs2WDQGZmZmbmI4RAmpmZmRnihEDNzMzMTKCFQAAAAACAXoZAMzMzM7Mch0BmZmZm5tqHQJqZmZkZmYhAzczMzExXiUAAAAAAgBWKQDMzMzOz04pAZmZmZuaRi0CamZmZGVCMQM3MzMxMDo1AAAAAAIDMjUAzMzMzs4qOQGZmZmbmSI9A\",\"dtype\":\"float64\",\"shape\":[75]}},\"selected\":{\"id\":\"020f5e95-9c3b-46f1-a7f5-6465511734bf\",\"type\":\"Selection\"},\"selection_policy\":{\"id\":\"da1e8413-e440-44c9-8a3f-30acd9083b78\",\"type\":\"UnionRenderers\"}},\"id\":\"1f4f30a9-1082-4b80-a8ed-3b34511c69e9\",\"type\":\"ColumnDataSource\"},{\"attributes\":{},\"id\":\"306d2bf4-448d-4ce3-866f-8152990da57b\",\"type\":\"ResetTool\"},{\"attributes\":{},\"id\":\"adacdd53-94e5-4843-9af9-969af6971b93\",\"type\":\"HelpTool\"},{\"attributes\":{\"data_source\":{\"id\":\"1fae60b7-e5a7-4025-ae83-544014babc15\",\"type\":\"ColumnDataSource\"},\"glyph\":{\"id\":\"74fdf7a3-0ba8-48da-8ba8-cd401a83ae6c\",\"type\":\"Line\"},\"hover_glyph\":null,\"muted_glyph\":null,\"nonselection_glyph\":{\"id\":\"e054e8db-e524-4a29-a7e3-5422d780e682\",\"type\":\"Line\"},\"selection_glyph\":null,\"view\":{\"id\":\"ad8a6bb8-5c9c-4957-93f7-453b401f7feb\",\"type\":\"CDSView\"}},\"id\":\"980434db-1ec9-4f7b-9aa6-1c26e50f7494\",\"type\":\"GlyphRenderer\"},{\"attributes\":{\"callback\":null,\"end\":0.009555090949,\"start\":-0.00041188484899999997},\"id\":\"b9ec6abe-128a-4c17-a8b6-64be9e6e3a70\",\"type\":\"Range1d\"},{\"attributes\":{\"line_alpha\":0.1,\"line_color\":\"#1f77b4\",\"line_width\":3,\"x\":{\"field\":\"x\"},\"y\":{\"field\":\"y\"}},\"id\":\"490a1843-41da-4980-bc24-996a8db992dd\",\"type\":\"Line\"},{\"attributes\":{},\"id\":\"8fcff553-e903-4170-a7a9-31031ac51832\",\"type\":\"ResetTool\"},{\"attributes\":{\"line_alpha\":0.1,\"line_color\":\"#1f77b4\",\"line_width\":1.5,\"x\":{\"field\":\"x\"},\"y\":{\"field\":\"y\"}},\"id\":\"ff76fdb9-23b9-41e8-9dd7-14e7c17ab5cf\",\"type\":\"Line\"},{\"attributes\":{\"line_alpha\":0.1,\"line_color\":\"#1f77b4\",\"line_dash\":[6],\"line_width\":5,\"x\":{\"field\":\"x\"},\"y\":{\"field\":\"y\"}},\"id\":\"a3dbab7b-8c5f-4ffc-96d8-3d86cd09ae42\",\"type\":\"Line\"},{\"attributes\":{\"line_alpha\":0.6,\"line_color\":\"#984ea3\",\"line_width\":3,\"x\":{\"field\":\"x\"},\"y\":{\"field\":\"y\"}},\"id\":\"758f0b3f-7cb7-47c4-9f03-c6ec32464cc3\",\"type\":\"Line\"},{\"attributes\":{\"fill_alpha\":{\"value\":0.7},\"fill_color\":{\"value\":\"#984ea3\"},\"line_alpha\":{\"value\":0.7},\"line_color\":{\"value\":\"#984ea3\"},\"x\":{\"field\":\"x\"},\"y\":{\"field\":\"y\"}},\"id\":\"5cdbce55-501a-44ea-9509-47b8612f8353\",\"type\":\"Square\"},{\"attributes\":{\"source\":{\"id\":\"a4341491-e5ca-4beb-b230-8d6e22613fa4\",\"type\":\"ColumnDataSource\"}},\"id\":\"73323f5f-cd11-42d7-846d-03b0899e70d4\",\"type\":\"CDSView\"},{\"attributes\":{\"fill_alpha\":{\"value\":0.1},\"fill_color\":{\"value\":\"#1f77b4\"},\"line_alpha\":{\"value\":0.1},\"line_color\":{\"value\":\"#1f77b4\"},\"x\":{\"field\":\"x\"},\"y\":{\"field\":\"y\"}},\"id\":\"453bee44-f5f3-49fa-9338-0d681def06e7\",\"type\":\"Square\"},{\"attributes\":{\"axis_label\":\"pressure [mb]\",\"formatter\":{\"id\":\"f66ca88d-38dc-42d0-be21-bfa6dc45ccab\",\"type\":\"LogTickFormatter\"},\"plot\":{\"id\":\"e4ed681f-bf25-4b38-be98-e31b8e8aae13\",\"subtype\":\"Figure\",\"type\":\"Plot\"},\"ticker\":{\"id\":\"5f81ab98-1a0d-4637-b61e-66c00cf88e65\",\"type\":\"LogTicker\"}},\"id\":\"55a031ab-47bd-4fe2-9a47-eeb94e1d4335\",\"type\":\"LogAxis\"},{\"attributes\":{},\"id\":\"4567e8df-10c6-4295-be37-b638b8b7a8e0\",\"type\":\"LinearScale\"},{\"attributes\":{\"num_minor_ticks\":10},\"id\":\"5f81ab98-1a0d-4637-b61e-66c00cf88e65\",\"type\":\"LogTicker\"},{\"attributes\":{\"plot\":null,\"text\":\"Log pressure scale\"},\"id\":\"ace43bad-964b-4fcf-99af-965281a0f0ff\",\"type\":\"Title\"},{\"attributes\":{\"source\":{\"id\":\"c9624677-1f3e-41b4-b3d2-4ec49b93f6bb\",\"type\":\"ColumnDataSource\"}},\"id\":\"7079ce7d-d966-4a23-8401-b52a7c8bc2e0\",\"type\":\"CDSView\"},{\"attributes\":{\"data_source\":{\"id\":\"1f4f30a9-1082-4b80-a8ed-3b34511c69e9\",\"type\":\"ColumnDataSource\"},\"glyph\":{\"id\":\"9d97da30-2d25-4585-9289-d163c5f90468\",\"type\":\"Line\"},\"hover_glyph\":null,\"muted_glyph\":null,\"nonselection_glyph\":{\"id\":\"a3dbab7b-8c5f-4ffc-96d8-3d86cd09ae42\",\"type\":\"Line\"},\"selection_glyph\":null,\"view\":{\"id\":\"a1c07646-8cca-429f-9f25-a0c7bb9b6eb8\",\"type\":\"CDSView\"}},\"id\":\"59ee9fc9-f803-49cb-bc72-4eae1befbf77\",\"type\":\"GlyphRenderer\"},{\"attributes\":{},\"id\":\"08bcd99b-7532-4351-8623-6169569ae7a1\",\"type\":\"BasicTicker\"},{\"attributes\":{\"data_source\":{\"id\":\"bbdd40a9-a785-4f55-b444-2874fd0318b0\",\"type\":\"ColumnDataSource\"},\"glyph\":{\"id\":\"acddb195-cc8d-4c73-908a-a7e8bc85b8fc\",\"type\":\"Circle\"},\"hover_glyph\":null,\"muted_glyph\":null,\"nonselection_glyph\":{\"id\":\"4b85aab2-8b71-45b9-a6fe-e93be472553b\",\"type\":\"Circle\"},\"selection_glyph\":null,\"view\":{\"id\":\"68264785-57ca-40e0-824a-3b6edb9c9997\",\"type\":\"CDSView\"}},\"id\":\"af206479-b461-4018-9a0a-1e8761215a37\",\"type\":\"GlyphRenderer\"},{\"attributes\":{\"axis_label\":\"cooling rate [K/day]\",\"formatter\":{\"id\":\"b6a372fe-8759-4935-a95f-adf61c6e8a8f\",\"type\":\"BasicTickFormatter\"},\"plot\":{\"id\":\"e4ed681f-bf25-4b38-be98-e31b8e8aae13\",\"subtype\":\"Figure\",\"type\":\"Plot\"},\"ticker\":{\"id\":\"08bcd99b-7532-4351-8623-6169569ae7a1\",\"type\":\"BasicTicker\"}},\"id\":\"eb929c8b-f09d-44a1-a2f8-860e064f26ed\",\"type\":\"LinearAxis\"},{\"attributes\":{\"fill_alpha\":{\"value\":0.1},\"fill_color\":{\"value\":\"#1f77b4\"},\"line_alpha\":{\"value\":0.1},\"line_color\":{\"value\":\"#1f77b4\"},\"x\":{\"field\":\"x\"},\"y\":{\"field\":\"y\"}},\"id\":\"4b85aab2-8b71-45b9-a6fe-e93be472553b\",\"type\":\"Circle\"},{\"attributes\":{\"data_source\":{\"id\":\"a4341491-e5ca-4beb-b230-8d6e22613fa4\",\"type\":\"ColumnDataSource\"},\"glyph\":{\"id\":\"758f0b3f-7cb7-47c4-9f03-c6ec32464cc3\",\"type\":\"Line\"},\"hover_glyph\":null,\"muted_glyph\":null,\"nonselection_glyph\":{\"id\":\"490a1843-41da-4980-bc24-996a8db992dd\",\"type\":\"Line\"},\"selection_glyph\":null,\"view\":{\"id\":\"73323f5f-cd11-42d7-846d-03b0899e70d4\",\"type\":\"CDSView\"}},\"id\":\"7516b32d-4cf2-4703-b116-759c768467d5\",\"type\":\"GlyphRenderer\"},{\"attributes\":{\"line_alpha\":0.6,\"line_color\":\"#984ea3\",\"line_width\":3,\"x\":{\"field\":\"x\"},\"y\":{\"field\":\"y\"}},\"id\":\"74fdf7a3-0ba8-48da-8ba8-cd401a83ae6c\",\"type\":\"Line\"},{\"attributes\":{\"callback\":null,\"data\":{\"x\":{\"__ndarray__\":\"awO+X01KJL+TnYfmhIggv3EsZccWiAu/2NuyB8vqCD/uc7F67m0nP+pJkv3myDY/JcgO5ftoQj9svvdjDTFLP3OxiyE+CVM/IdB8OlW4WT/ls54UhO9gP6Tvp6LO3mU/yWdPDMTHaz+kF4gxr/twP5pQ9WWRuHM/dmkfiSBQdj/zk5rYpCR5PwUiHQXcOHw/j43R1TWVfz8B1yqF7ZyBP27z03NjXoM/JBe+q87EgT/ZNy7dyCd5P1DH2e+mpm8/XSCMEWXFYj/wLzUT4kJUPx1R8+Q2KEI/ythlZY25Jj9lxnH0pp3pvibrbaZ5Yh+/j7MuYY+MKb/J4verlRcwvynPsHZFWzG/qVQ9ZhkWMb/uLwiSWpQwvwNs3+XuMjC/d7qpgHgvML/mu9Hq6gAxv2z0DA/RUDK/23x/QMuAM79lM2RM45Y0vwe3qWp9kDW/lh0K7/t3Nr8EDBDikVM3v5vFpOAa5Te/+H0t85ZxNr8AlBDDRg0xv13ycBVQhB+/PYpgC8fsEz/0yMDqTkA3P1/3xJxaVEg/vbqXNdnRVD9byfG3+yRgP8651oU4gmc/nD+BysxScD+LsHGV2Ml1P+x/5k6VGHw/Z9Y3ENCNgT8Lpy33x1CFP4GKgpcbN4k/zdZpwPohjT8eJrl6UHuQP/0YoxApT5I/tFwIAvwElD9mUq3/H5mVP+q6wksIB5c/rM4tHiVJmD9woShZGVCZP8ObZbF18pk/Whw9msQCmj+b1PjOLUmZP7fWXt7455c/7dxl09Jblj+M7UYDntKUP9A6QLaAXpM/\",\"dtype\":\"float64\",\"shape\":[75]},\"y\":{\"__ndarray__\":\"GhExyth1ND/Sv8nbtpRIP2vylNV0PVE/aTum7souWD/At0SJ8fVgPw3Iuahxymc/MSNhhJWvcD/bTfBN02d3P2zb5nxnaoA/CD5h5MAGhz8NmeH1TyaQP+zrCsc9p5Y/LbKd76fGnz/bLW5ISEmmPww9YvTcQq8/JV2OstnstT8Er5Y7M8G+P0c+r3jqkcU/5h99k6ZBzj88bCIzFzjVP4enV8oyxN0//yH99nXg5D8qOpLLf0jtP5kqGJXUifQ/c9cS8kHP/D+/DpwzojQEQIEmwoanVwxA4lgXt9HgE0BSSZ2AJuIbQAMJih9jjiNA5q4l5INuK0AwTKYKRj0zQNv5fmq8/DpAaCJseHrtQkB/+zpwzoxKQM3MzMzMeFJAZmZmZmZqWEAAAAAAAFxeQM3MzMzMJmJAmpmZmZkfZUBmZmZmZhhoQDMzMzMzEWtAAAAAAAAKbkBmZmZmZoFwQM3MzMzM/XFAMzMzMzN6c0CamZmZmfZ0QAAAAAAAc3ZAZmZmZmbvd0DNzMzMzGt5QDMzMzMz6HpAmpmZmZlkfEAAAAAAAOF9QGZmZmZmXX9AZmZmZuZsgECamZmZGSuBQM3MzMxM6YFAAAAAAICngkAzMzMzs2WDQGZmZmbmI4RAmpmZmRnihEDNzMzMTKCFQAAAAACAXoZAMzMzM7Mch0BmZmZm5tqHQJqZmZkZmYhAzczMzExXiUAAAAAAgBWKQDMzMzOz04pAZmZmZuaRi0CamZmZGVCMQM3MzMxMDo1AAAAAAIDMjUAzMzMzs4qOQGZmZmbmSI9A\",\"dtype\":\"float64\",\"shape\":[75]}},\"selected\":{\"id\":\"46dce714-31d1-4698-94c8-9c4aad5b0771\",\"type\":\"Selection\"},\"selection_policy\":{\"id\":\"7276e1aa-5f48-472e-a6d7-5d70c189e1ac\",\"type\":\"UnionRenderers\"}},\"id\":\"e4079127-7d65-4042-9bfc-f03c9195f40d\",\"type\":\"ColumnDataSource\"},{\"attributes\":{\"data_source\":{\"id\":\"ee257de0-8f8a-4b3f-9858-d1c9b96af5f3\",\"type\":\"ColumnDataSource\"},\"glyph\":{\"id\":\"c88dc28a-1eff-478f-8c1b-9cb5b8e2f55c\",\"type\":\"Line\"},\"hover_glyph\":null,\"muted_glyph\":null,\"nonselection_glyph\":{\"id\":\"ff76fdb9-23b9-41e8-9dd7-14e7c17ab5cf\",\"type\":\"Line\"},\"selection_glyph\":null,\"view\":{\"id\":\"5282b7ba-3191-4b68-b0cc-4a710988ae6e\",\"type\":\"CDSView\"}},\"id\":\"e31e6418-d336-44ee-b0ff-d286af3076af\",\"type\":\"GlyphRenderer\"},{\"attributes\":{\"fill_alpha\":{\"value\":0.1},\"fill_color\":{\"value\":\"#1f77b4\"},\"line_alpha\":{\"value\":0.1},\"line_color\":{\"value\":\"#1f77b4\"},\"x\":{\"field\":\"x\"},\"y\":{\"field\":\"y\"}},\"id\":\"881ebc8d-9016-4e82-badb-8c8196323c8b\",\"type\":\"Circle\"},{\"attributes\":{\"source\":{\"id\":\"1fae60b7-e5a7-4025-ae83-544014babc15\",\"type\":\"ColumnDataSource\"}},\"id\":\"ad8a6bb8-5c9c-4957-93f7-453b401f7feb\",\"type\":\"CDSView\"},{\"attributes\":{\"callback\":null,\"data\":{\"x\":{\"__ndarray__\":\"qyC3vEEWI7+Sr8PP7mogv1Yzp88y/BK/AAAAAAAAAABJWqVQVBAZP8geynBAviw/gbE/1sSvOD9Iqh3sbtFCP2AN5qOL3Eo/U+/Xi8JhUj++BaQJzG1YP0gavO1Sw18/xShR9JVHZD+YL5oSI+RoP/445mhRAG0/q/XK6EN4cD8gvmlFVqFyPzFVWIS1BXU/gyDH5IKrdz/dDRGcG5h6P6X4OFd0cn0/KySrJrkYez+StnBe9WdzP0DyCbvaoWg/ZMha0C6wXT+DkPoeSWJQPxc+jVfVbz4/R63yUx6wJD/ne1vTTrfDPnWRCTjioRi/owSnECy3Jb/7g+7FtJYsvznPbdBOATC/fCKqCXpSML9tpWxzKy8wv7ED+tawti+/9Esero1QL7+hMI+RuPsvvwImdGl24TC/H85Sl+GzMb9m8vj/snAyvxUbIsQMNzO/GcEbpWngM7/f4IKhS440vwyXFiuqAjW/UrDdX114M7+z/G2YOnUsv4ZwN3pFvBW/7EUZB5IBGj/wE7BLZRc3P/Y7VVtT9kY/6v+x3AY4Uz/YjStwYX1dP7GaYJhJXWU/5Wjt+QOlbT/tEYHZqsxzP41GCpmulnk/oLy8tv8MgD9LXA6ObpGDP26YfSvNPoc/nWKqoG/5ij91n4EwbqWOP+tNgdZAFpE/t3SIXMm+kj+oIuxG5UeUP9TEeiTXrZU/QgYBGCDolj9usdivBuuXP8iTSbKzjZg/crw6e/KmmD8BMv3d/gaYP+EyThMby5Y/M2GbV+xklT+p0I9yb/+TP5JR5JdhppI/\",\"dtype\":\"float64\",\"shape\":[75]},\"y\":{\"__ndarray__\":\"GhExyth1ND/Sv8nbtpRIP2vylNV0PVE/aTum7souWD/At0SJ8fVgPw3Iuahxymc/MSNhhJWvcD/bTfBN02d3P2zb5nxnaoA/CD5h5MAGhz8NmeH1TyaQP+zrCsc9p5Y/LbKd76fGnz/bLW5ISEmmPww9YvTcQq8/JV2OstnstT8Er5Y7M8G+P0c+r3jqkcU/5h99k6ZBzj88bCIzFzjVP4enV8oyxN0//yH99nXg5D8qOpLLf0jtP5kqGJXUifQ/c9cS8kHP/D+/DpwzojQEQIEmwoanVwxA4lgXt9HgE0BSSZ2AJuIbQAMJih9jjiNA5q4l5INuK0AwTKYKRj0zQNv5fmq8/DpAaCJseHrtQkB/+zpwzoxKQM3MzMzMeFJAZmZmZmZqWEAAAAAAAFxeQM3MzMzMJmJAmpmZmZkfZUBmZmZmZhhoQDMzMzMzEWtAAAAAAAAKbkBmZmZmZoFwQM3MzMzM/XFAMzMzMzN6c0CamZmZmfZ0QAAAAAAAc3ZAZmZmZmbvd0DNzMzMzGt5QDMzMzMz6HpAmpmZmZlkfEAAAAAAAOF9QGZmZmZmXX9AZmZmZuZsgECamZmZGSuBQM3MzMxM6YFAAAAAAICngkAzMzMzs2WDQGZmZmbmI4RAmpmZmRnihEDNzMzMTKCFQAAAAACAXoZAMzMzM7Mch0BmZmZm5tqHQJqZmZkZmYhAzczMzExXiUAAAAAAgBWKQDMzMzOz04pAZmZmZuaRi0CamZmZGVCMQM3MzMxMDo1AAAAAAIDMjUAzMzMzs4qOQGZmZmbmSI9A\",\"dtype\":\"float64\",\"shape\":[75]}},\"selected\":{\"id\":\"5feca4bd-a813-49e3-8c09-d56c78c2bce3\",\"type\":\"Selection\"},\"selection_policy\":{\"id\":\"812901e8-e529-44d6-934d-f1a9a4115b1e\",\"type\":\"UnionRenderers\"}},\"id\":\"a4341491-e5ca-4beb-b230-8d6e22613fa4\",\"type\":\"ColumnDataSource\"},{\"attributes\":{\"dimension\":1,\"plot\":{\"id\":\"e4ed681f-bf25-4b38-be98-e31b8e8aae13\",\"subtype\":\"Figure\",\"type\":\"Plot\"},\"ticker\":{\"id\":\"5f81ab98-1a0d-4637-b61e-66c00cf88e65\",\"type\":\"LogTicker\"}},\"id\":\"27fc1db6-5b7c-42a5-a421-7df91be7d13b\",\"type\":\"Grid\"},{\"attributes\":{\"data_source\":{\"id\":\"6cb30b49-053c-44a6-b9c8-1f2288f9eec4\",\"type\":\"ColumnDataSource\"},\"glyph\":{\"id\":\"47906cba-78d9-402b-b2a5-4bd884d62a1d\",\"type\":\"Circle\"},\"hover_glyph\":null,\"muted_glyph\":null,\"nonselection_glyph\":{\"id\":\"881ebc8d-9016-4e82-badb-8c8196323c8b\",\"type\":\"Circle\"},\"selection_glyph\":null,\"view\":{\"id\":\"d53701ee-52ae-4b11-9317-1d2d0f31fec7\",\"type\":\"CDSView\"}},\"id\":\"901fe4f7-dd67-4490-b3c8-77de7a3254ff\",\"type\":\"GlyphRenderer\"},{\"attributes\":{\"line_alpha\":0.1,\"line_color\":\"#1f77b4\",\"line_width\":3,\"x\":{\"field\":\"x\"},\"y\":{\"field\":\"y\"}},\"id\":\"e054e8db-e524-4a29-a7e3-5422d780e682\",\"type\":\"Line\"},{\"attributes\":{\"callback\":null,\"end\":0.01,\"start\":1020},\"id\":\"82ca436e-b9c3-43b7-9831-021d2fd8a0e4\",\"type\":\"Range1d\"},{\"attributes\":{\"callback\":null,\"data\":{\"x\":{\"__ndarray__\":\"qyC3vEEWI7+Sr8PP7mogv1Yzp88y/BK/AAAAAAAAAABJWqVQVBAZP8geynBAviw/gbE/1sSvOD9Iqh3sbtFCP2AN5qOL3Eo/U+/Xi8JhUj++BaQJzG1YP0gavO1Sw18/xShR9JVHZD+YL5oSI+RoP/445mhRAG0/q/XK6EN4cD8gvmlFVqFyPzFVWIS1BXU/gyDH5IKrdz/dDRGcG5h6P6X4OFd0cn0/KySrJrkYez+StnBe9WdzP0DyCbvaoWg/ZMha0C6wXT+DkPoeSWJQPxc+jVfVbz4/R63yUx6wJD/ne1vTTrfDPnWRCTjioRi/owSnECy3Jb/7g+7FtJYsvznPbdBOATC/fCKqCXpSML9tpWxzKy8wv7ED+tawti+/9Esero1QL7+hMI+RuPsvvwImdGl24TC/H85Sl+GzMb9m8vj/snAyvxUbIsQMNzO/GcEbpWngM7/f4IKhS440vwyXFiuqAjW/UrDdX114M7+z/G2YOnUsv4ZwN3pFvBW/7EUZB5IBGj/wE7BLZRc3P/Y7VVtT9kY/6v+x3AY4Uz/YjStwYX1dP7GaYJhJXWU/5Wjt+QOlbT/tEYHZqsxzP41GCpmulnk/oLy8tv8MgD9LXA6ObpGDP26YfSvNPoc/nWKqoG/5ij91n4EwbqWOP+tNgdZAFpE/t3SIXMm+kj+oIuxG5UeUP9TEeiTXrZU/QgYBGCDolj9usdivBuuXP8iTSbKzjZg/crw6e/KmmD8BMv3d/gaYP+EyThMby5Y/M2GbV+xklT+p0I9yb/+TP5JR5JdhppI/\",\"dtype\":\"float64\",\"shape\":[75]},\"y\":{\"__ndarray__\":\"GhExyth1ND/Sv8nbtpRIP2vylNV0PVE/aTum7souWD/At0SJ8fVgPw3Iuahxymc/MSNhhJWvcD/bTfBN02d3P2zb5nxnaoA/CD5h5MAGhz8NmeH1TyaQP+zrCsc9p5Y/LbKd76fGnz/bLW5ISEmmPww9YvTcQq8/JV2OstnstT8Er5Y7M8G+P0c+r3jqkcU/5h99k6ZBzj88bCIzFzjVP4enV8oyxN0//yH99nXg5D8qOpLLf0jtP5kqGJXUifQ/c9cS8kHP/D+/DpwzojQEQIEmwoanVwxA4lgXt9HgE0BSSZ2AJuIbQAMJih9jjiNA5q4l5INuK0AwTKYKRj0zQNv5fmq8/DpAaCJseHrtQkB/+zpwzoxKQM3MzMzMeFJAZmZmZmZqWEAAAAAAAFxeQM3MzMzMJmJAmpmZmZkfZUBmZmZmZhhoQDMzMzMzEWtAAAAAAAAKbkBmZmZmZoFwQM3MzMzM/XFAMzMzMzN6c0CamZmZmfZ0QAAAAAAAc3ZAZmZmZmbvd0DNzMzMzGt5QDMzMzMz6HpAmpmZmZlkfEAAAAAAAOF9QGZmZmZmXX9AZmZmZuZsgECamZmZGSuBQM3MzMxM6YFAAAAAAICngkAzMzMzs2WDQGZmZmbmI4RAmpmZmRnihEDNzMzMTKCFQAAAAACAXoZAMzMzM7Mch0BmZmZm5tqHQJqZmZkZmYhAzczMzExXiUAAAAAAgBWKQDMzMzOz04pAZmZmZuaRi0CamZmZGVCMQM3MzMxMDo1AAAAAAIDMjUAzMzMzs4qOQGZmZmbmSI9A\",\"dtype\":\"float64\",\"shape\":[75]}},\"selected\":{\"id\":\"eee29c1a-fb74-4bf4-b060-30d21d60e1d0\",\"type\":\"Selection\"},\"selection_policy\":{\"id\":\"270f8b79-a657-4dac-b04e-b01280cb68c4\",\"type\":\"UnionRenderers\"}},\"id\":\"c9624677-1f3e-41b4-b3d2-4ec49b93f6bb\",\"type\":\"ColumnDataSource\"},{\"attributes\":{\"source\":{\"id\":\"37e35e26-f6cc-4108-98a8-0b4bae048ce3\",\"type\":\"ColumnDataSource\"}},\"id\":\"4b875c38-a5b8-4756-b497-97d52bfeb741\",\"type\":\"CDSView\"},{\"attributes\":{\"items\":[{\"id\":\"9af70e86-9847-442a-9f8c-0530ae8e4d68\",\"type\":\"LegendItem\"},{\"id\":\"67c4d9cf-f8d5-4129-aa17-d2649ad2088a\",\"type\":\"LegendItem\"},{\"id\":\"7207ea74-d71a-4bfb-b9ed-7195730ec00d\",\"type\":\"LegendItem\"}],\"label_text_font_size\":{\"value\":\"8pt\"},\"location\":[10,-30],\"plot\":{\"id\":\"e4ed681f-bf25-4b38-be98-e31b8e8aae13\",\"subtype\":\"Figure\",\"type\":\"Plot\"}},\"id\":\"ccb11f2a-3e36-45b9-a0bd-2159e6cc0776\",\"type\":\"Legend\"},{\"attributes\":{\"callback\":null,\"data\":{\"x\":{\"__ndarray__\":\"qyC3vEEWI7+Sr8PP7mogv1Yzp88y/BK/AAAAAAAAAABJWqVQVBAZP8geynBAviw/gbE/1sSvOD9Iqh3sbtFCP2AN5qOL3Eo/U+/Xi8JhUj++BaQJzG1YP0gavO1Sw18/xShR9JVHZD+YL5oSI+RoP/445mhRAG0/q/XK6EN4cD8gvmlFVqFyPzFVWIS1BXU/gyDH5IKrdz/dDRGcG5h6P6X4OFd0cn0/KySrJrkYez+StnBe9WdzP0DyCbvaoWg/ZMha0C6wXT+DkPoeSWJQPxc+jVfVbz4/R63yUx6wJD/ne1vTTrfDPnWRCTjioRi/owSnECy3Jb/7g+7FtJYsvznPbdBOATC/fCKqCXpSML9tpWxzKy8wv7ED+tawti+/9Esero1QL7+hMI+RuPsvvwImdGl24TC/H85Sl+GzMb9m8vj/snAyvxUbIsQMNzO/GcEbpWngM7/f4IKhS440vwyXFiuqAjW/UrDdX114M7+z/G2YOnUsv4ZwN3pFvBW/7EUZB5IBGj/wE7BLZRc3P/Y7VVtT9kY/6v+x3AY4Uz/YjStwYX1dP7GaYJhJXWU/5Wjt+QOlbT/tEYHZqsxzP41GCpmulnk/oLy8tv8MgD9LXA6ObpGDP26YfSvNPoc/nWKqoG/5ij91n4EwbqWOP+tNgdZAFpE/t3SIXMm+kj+oIuxG5UeUP9TEeiTXrZU/QgYBGCDolj9usdivBuuXP8iTSbKzjZg/crw6e/KmmD8BMv3d/gaYP+EyThMby5Y/M2GbV+xklT+p0I9yb/+TP5JR5JdhppI/\",\"dtype\":\"float64\",\"shape\":[75]},\"y\":{\"__ndarray__\":\"GhExyth1ND/Sv8nbtpRIP2vylNV0PVE/aTum7souWD/At0SJ8fVgPw3Iuahxymc/MSNhhJWvcD/bTfBN02d3P2zb5nxnaoA/CD5h5MAGhz8NmeH1TyaQP+zrCsc9p5Y/LbKd76fGnz/bLW5ISEmmPww9YvTcQq8/JV2OstnstT8Er5Y7M8G+P0c+r3jqkcU/5h99k6ZBzj88bCIzFzjVP4enV8oyxN0//yH99nXg5D8qOpLLf0jtP5kqGJXUifQ/c9cS8kHP/D+/DpwzojQEQIEmwoanVwxA4lgXt9HgE0BSSZ2AJuIbQAMJih9jjiNA5q4l5INuK0AwTKYKRj0zQNv5fmq8/DpAaCJseHrtQkB/+zpwzoxKQM3MzMzMeFJAZmZmZmZqWEAAAAAAAFxeQM3MzMzMJmJAmpmZmZkfZUBmZmZmZhhoQDMzMzMzEWtAAAAAAAAKbkBmZmZmZoFwQM3MzMzM/XFAMzMzMzN6c0CamZmZmfZ0QAAAAAAAc3ZAZmZmZmbvd0DNzMzMzGt5QDMzMzMz6HpAmpmZmZlkfEAAAAAAAOF9QGZmZmZmXX9AZmZmZuZsgECamZmZGSuBQM3MzMxM6YFAAAAAAICngkAzMzMzs2WDQGZmZmbmI4RAmpmZmRnihEDNzMzMTKCFQAAAAACAXoZAMzMzM7Mch0BmZmZm5tqHQJqZmZkZmYhAzczMzExXiUAAAAAAgBWKQDMzMzOz04pAZmZmZuaRi0CamZmZGVCMQM3MzMxMDo1AAAAAAIDMjUAzMzMzs4qOQGZmZmbmSI9A\",\"dtype\":\"float64\",\"shape\":[75]}},\"selected\":{\"id\":\"2f302832-083d-4926-b15f-2a2f158e4411\",\"type\":\"Selection\"},\"selection_policy\":{\"id\":\"ca20d85f-8f13-425e-942c-8a51ee5bfb84\",\"type\":\"UnionRenderers\"}},\"id\":\"1fae60b7-e5a7-4025-ae83-544014babc15\",\"type\":\"ColumnDataSource\"},{\"attributes\":{\"data_source\":{\"id\":\"c9624677-1f3e-41b4-b3d2-4ec49b93f6bb\",\"type\":\"ColumnDataSource\"},\"glyph\":{\"id\":\"5cdbce55-501a-44ea-9509-47b8612f8353\",\"type\":\"Square\"},\"hover_glyph\":null,\"muted_glyph\":null,\"nonselection_glyph\":{\"id\":\"453bee44-f5f3-49fa-9338-0d681def06e7\",\"type\":\"Square\"},\"selection_glyph\":null,\"view\":{\"id\":\"7079ce7d-d966-4a23-8401-b52a7c8bc2e0\",\"type\":\"CDSView\"}},\"id\":\"8eb1573b-05e0-43af-ba0b-6527bfba9045\",\"type\":\"GlyphRenderer\"},{\"attributes\":{\"line_alpha\":0.6,\"line_color\":\"#e41a1c\",\"line_dash\":[6],\"line_width\":5,\"x\":{\"field\":\"x\"},\"y\":{\"field\":\"y\"}},\"id\":\"9d97da30-2d25-4585-9289-d163c5f90468\",\"type\":\"Line\"},{\"attributes\":{\"plot\":{\"id\":\"e4ed681f-bf25-4b38-be98-e31b8e8aae13\",\"subtype\":\"Figure\",\"type\":\"Plot\"},\"ticker\":{\"id\":\"08bcd99b-7532-4351-8623-6169569ae7a1\",\"type\":\"BasicTicker\"}},\"id\":\"0270dec5-bc93-461b-99f0-68d434d07854\",\"type\":\"Grid\"},{\"attributes\":{\"source\":{\"id\":\"6cb30b49-053c-44a6-b9c8-1f2288f9eec4\",\"type\":\"ColumnDataSource\"}},\"id\":\"d53701ee-52ae-4b11-9317-1d2d0f31fec7\",\"type\":\"CDSView\"},{\"attributes\":{\"source\":{\"id\":\"617c070e-fcf4-45a0-a670-24a877ff6be5\",\"type\":\"ColumnDataSource\"}},\"id\":\"997e8422-e66d-4172-b61f-8d3e578542ac\",\"type\":\"CDSView\"},{\"attributes\":{\"callback\":null,\"data\":{\"x\":{\"__ndarray__\":\"awO+X01KJL+TnYfmhIggv3EsZccWiAu/2NuyB8vqCD/uc7F67m0nP+pJkv3myDY/JcgO5ftoQj9svvdjDTFLP3OxiyE+CVM/IdB8OlW4WT/ls54UhO9gP6Tvp6LO3mU/yWdPDMTHaz+kF4gxr/twP5pQ9WWRuHM/dmkfiSBQdj/zk5rYpCR5PwUiHQXcOHw/j43R1TWVfz8B1yqF7ZyBP27z03NjXoM/JBe+q87EgT/ZNy7dyCd5P1DH2e+mpm8/XSCMEWXFYj/wLzUT4kJUPx1R8+Q2KEI/ythlZY25Jj9lxnH0pp3pvibrbaZ5Yh+/j7MuYY+MKb/J4verlRcwvynPsHZFWzG/qVQ9ZhkWMb/uLwiSWpQwvwNs3+XuMjC/d7qpgHgvML/mu9Hq6gAxv2z0DA/RUDK/23x/QMuAM79lM2RM45Y0vwe3qWp9kDW/lh0K7/t3Nr8EDBDikVM3v5vFpOAa5Te/+H0t85ZxNr8AlBDDRg0xv13ycBVQhB+/PYpgC8fsEz/0yMDqTkA3P1/3xJxaVEg/vbqXNdnRVD9byfG3+yRgP8651oU4gmc/nD+BysxScD+LsHGV2Ml1P+x/5k6VGHw/Z9Y3ENCNgT8Lpy33x1CFP4GKgpcbN4k/zdZpwPohjT8eJrl6UHuQP/0YoxApT5I/tFwIAvwElD9mUq3/H5mVP+q6wksIB5c/rM4tHiVJmD9woShZGVCZP8ObZbF18pk/Whw9msQCmj+b1PjOLUmZP7fWXt7455c/7dxl09Jblj+M7UYDntKUP9A6QLaAXpM/\",\"dtype\":\"float64\",\"shape\":[75]},\"y\":{\"__ndarray__\":\"GhExyth1ND/Sv8nbtpRIP2vylNV0PVE/aTum7souWD/At0SJ8fVgPw3Iuahxymc/MSNhhJWvcD/bTfBN02d3P2zb5nxnaoA/CD5h5MAGhz8NmeH1TyaQP+zrCsc9p5Y/LbKd76fGnz/bLW5ISEmmPww9YvTcQq8/JV2OstnstT8Er5Y7M8G+P0c+r3jqkcU/5h99k6ZBzj88bCIzFzjVP4enV8oyxN0//yH99nXg5D8qOpLLf0jtP5kqGJXUifQ/c9cS8kHP/D+/DpwzojQEQIEmwoanVwxA4lgXt9HgE0BSSZ2AJuIbQAMJih9jjiNA5q4l5INuK0AwTKYKRj0zQNv5fmq8/DpAaCJseHrtQkB/+zpwzoxKQM3MzMzMeFJAZmZmZmZqWEAAAAAAAFxeQM3MzMzMJmJAmpmZmZkfZUBmZmZmZhhoQDMzMzMzEWtAAAAAAAAKbkBmZmZmZoFwQM3MzMzM/XFAMzMzMzN6c0CamZmZmfZ0QAAAAAAAc3ZAZmZmZmbvd0DNzMzMzGt5QDMzMzMz6HpAmpmZmZlkfEAAAAAAAOF9QGZmZmZmXX9AZmZmZuZsgECamZmZGSuBQM3MzMxM6YFAAAAAAICngkAzMzMzs2WDQGZmZmbmI4RAmpmZmRnihEDNzMzMTKCFQAAAAACAXoZAMzMzM7Mch0BmZmZm5tqHQJqZmZkZmYhAzczMzExXiUAAAAAAgBWKQDMzMzOz04pAZmZmZuaRi0CamZmZGVCMQM3MzMxMDo1AAAAAAIDMjUAzMzMzs4qOQGZmZmbmSI9A\",\"dtype\":\"float64\",\"shape\":[75]}},\"selected\":{\"id\":\"a06d5e99-0571-4ec6-8001-c1988ca8bbd8\",\"type\":\"Selection\"},\"selection_policy\":{\"id\":\"76c96489-9a5e-4655-bf47-8707ec3a4a6c\",\"type\":\"UnionRenderers\"}},\"id\":\"6cb30b49-053c-44a6-b9c8-1f2288f9eec4\",\"type\":\"ColumnDataSource\"},{\"attributes\":{\"fill_alpha\":{\"value\":0.7},\"fill_color\":{\"value\":\"#4daf4a\"},\"line_alpha\":{\"value\":0.7},\"line_color\":{\"value\":\"#4daf4a\"},\"x\":{\"field\":\"x\"},\"y\":{\"field\":\"y\"}},\"id\":\"47906cba-78d9-402b-b2a5-4bd884d62a1d\",\"type\":\"Circle\"},{\"attributes\":{\"source\":{\"id\":\"1f4f30a9-1082-4b80-a8ed-3b34511c69e9\",\"type\":\"ColumnDataSource\"}},\"id\":\"a1c07646-8cca-429f-9f25-a0c7bb9b6eb8\",\"type\":\"CDSView\"},{\"attributes\":{\"source\":{\"id\":\"bbdd40a9-a785-4f55-b444-2874fd0318b0\",\"type\":\"ColumnDataSource\"}},\"id\":\"68264785-57ca-40e0-824a-3b6edb9c9997\",\"type\":\"CDSView\"}],\"root_ids\":[\"06d834e2-3cde-4d03-9dbd-0f7a733d6765\"]},\"title\":\"Bokeh Application\",\"version\":\"0.12.16\"}};\n",
       "  var render_items = [{\"docid\":\"67f34dde-a226-4b47-b7b8-ec4636966ccd\",\"elementid\":\"0a7a598b-731a-464c-a3d6-b6086aee5597\",\"modelid\":\"06d834e2-3cde-4d03-9dbd-0f7a733d6765\"}];\n",
       "  root.Bokeh.embed.embed_items_notebook(docs_json, render_items);\n",
       "\n",
       "  }\n",
       "  if (root.Bokeh !== undefined) {\n",
       "    embed_document(root);\n",
       "  } else {\n",
       "    var attempts = 0;\n",
       "    var timer = setInterval(function(root) {\n",
       "      if (root.Bokeh !== undefined) {\n",
       "        embed_document(root);\n",
       "        clearInterval(timer);\n",
       "      }\n",
       "      attempts++;\n",
       "      if (attempts > 100) {\n",
       "        console.log(\"Bokeh: ERROR: Unable to run BokehJS code because BokehJS library is missing\")\n",
       "        clearInterval(timer);\n",
       "      }\n",
       "    }, 10, root)\n",
       "  }\n",
       "})(window);"
      ],
      "application/vnd.bokehjs_exec.v0+json": ""
     },
     "metadata": {
      "application/vnd.bokehjs_exec.v0+json": {
       "id": "06d834e2-3cde-4d03-9dbd-0f7a733d6765"
      }
     },
     "output_type": "display_data"
    },
    {
     "name": "stdout",
     "output_type": "stream",
     "text": [
      "FIGURE. Cooling rate profiles.\n"
     ]
    },
    {
     "data": {
      "text/html": [
       "<a id=\"Flux_Comparison\"></a>"
      ],
      "text/plain": [
       "<IPython.core.display.HTML object>"
      ]
     },
     "metadata": {},
     "output_type": "display_data"
    },
    {
     "data": {
      "text/markdown": [
       "# Flux Comparison"
      ],
      "text/plain": [
       "<IPython.core.display.Markdown object>"
      ]
     },
     "metadata": {},
     "output_type": "display_data"
    },
    {
     "data": {
      "text/html": [
       "<div>\n",
       "<style scoped>\n",
       "    .dataframe tbody tr th:only-of-type {\n",
       "        vertical-align: middle;\n",
       "    }\n",
       "\n",
       "    .dataframe tbody tr th {\n",
       "        vertical-align: top;\n",
       "    }\n",
       "\n",
       "    .dataframe thead th {\n",
       "        text-align: right;\n",
       "    }\n",
       "</style>\n",
       "<table border=\"1\" class=\"dataframe\">\n",
       "  <thead>\n",
       "    <tr style=\"text-align: right;\">\n",
       "      <th></th>\n",
       "      <th></th>\n",
       "      <th>flug</th>\n",
       "      <th>fldg</th>\n",
       "      <th>fnetg</th>\n",
       "    </tr>\n",
       "    <tr>\n",
       "      <th>pressure</th>\n",
       "      <th>level</th>\n",
       "      <th></th>\n",
       "      <th></th>\n",
       "      <th></th>\n",
       "    </tr>\n",
       "  </thead>\n",
       "  <tbody>\n",
       "    <tr>\n",
       "      <th>0.0000</th>\n",
       "      <th>1</th>\n",
       "      <td>-32.747664</td>\n",
       "      <td>0.000000</td>\n",
       "      <td>-32.747664</td>\n",
       "    </tr>\n",
       "    <tr>\n",
       "      <th>1.0685</th>\n",
       "      <th>24</th>\n",
       "      <td>-32.747512</td>\n",
       "      <td>0.000778</td>\n",
       "      <td>-32.746734</td>\n",
       "    </tr>\n",
       "    <tr>\n",
       "      <th>1013.0000</th>\n",
       "      <th>76</th>\n",
       "      <td>-32.863767</td>\n",
       "      <td>1.159833</td>\n",
       "      <td>-31.703934</td>\n",
       "    </tr>\n",
       "  </tbody>\n",
       "</table>\n",
       "</div>"
      ],
      "text/plain": [
       "                      flug      fldg      fnetg\n",
       "pressure  level                                \n",
       "0.0000    1     -32.747664  0.000000 -32.747664\n",
       "1.0685    24    -32.747512  0.000778 -32.746734\n",
       "1013.0000 76    -32.863767  1.159833 -31.703934"
      ]
     },
     "metadata": {},
     "output_type": "display_data"
    },
    {
     "name": "stdout",
     "output_type": "stream",
     "text": [
      "Table. Fluxes. CRD\n"
     ]
    },
    {
     "data": {
      "text/html": [
       "<div>\n",
       "<style scoped>\n",
       "    .dataframe tbody tr th:only-of-type {\n",
       "        vertical-align: middle;\n",
       "    }\n",
       "\n",
       "    .dataframe tbody tr th {\n",
       "        vertical-align: top;\n",
       "    }\n",
       "\n",
       "    .dataframe thead th {\n",
       "        text-align: right;\n",
       "    }\n",
       "</style>\n",
       "<table border=\"1\" class=\"dataframe\">\n",
       "  <thead>\n",
       "    <tr style=\"text-align: right;\">\n",
       "      <th></th>\n",
       "      <th></th>\n",
       "      <th>flug</th>\n",
       "      <th>fldg</th>\n",
       "      <th>fnetg</th>\n",
       "    </tr>\n",
       "    <tr>\n",
       "      <th>pressure</th>\n",
       "      <th>level</th>\n",
       "      <th></th>\n",
       "      <th></th>\n",
       "      <th></th>\n",
       "    </tr>\n",
       "  </thead>\n",
       "  <tbody>\n",
       "    <tr>\n",
       "      <th>0.0000</th>\n",
       "      <th>1</th>\n",
       "      <td>-32.756519</td>\n",
       "      <td>0.000000</td>\n",
       "      <td>-32.756519</td>\n",
       "    </tr>\n",
       "    <tr>\n",
       "      <th>1.0685</th>\n",
       "      <th>24</th>\n",
       "      <td>-32.756433</td>\n",
       "      <td>0.000620</td>\n",
       "      <td>-32.755813</td>\n",
       "    </tr>\n",
       "    <tr>\n",
       "      <th>1013.0000</th>\n",
       "      <th>76</th>\n",
       "      <td>-32.863767</td>\n",
       "      <td>1.090034</td>\n",
       "      <td>-31.773733</td>\n",
       "    </tr>\n",
       "  </tbody>\n",
       "</table>\n",
       "</div>"
      ],
      "text/plain": [
       "                      flug      fldg      fnetg\n",
       "pressure  level                                \n",
       "0.0000    1     -32.756519  0.000000 -32.756519\n",
       "1.0685    24    -32.756433  0.000620 -32.755813\n",
       "1013.0000 76    -32.863767  1.090034 -31.773733"
      ]
     },
     "metadata": {},
     "output_type": "display_data"
    },
    {
     "name": "stdout",
     "output_type": "stream",
     "text": [
      "Table. Fluxes. WGT igg=10 wgt_flux=1\n"
     ]
    },
    {
     "data": {
      "text/html": [
       "<div>\n",
       "<style scoped>\n",
       "    .dataframe tbody tr th:only-of-type {\n",
       "        vertical-align: middle;\n",
       "    }\n",
       "\n",
       "    .dataframe tbody tr th {\n",
       "        vertical-align: top;\n",
       "    }\n",
       "\n",
       "    .dataframe thead th {\n",
       "        text-align: right;\n",
       "    }\n",
       "</style>\n",
       "<table border=\"1\" class=\"dataframe\">\n",
       "  <thead>\n",
       "    <tr style=\"text-align: right;\">\n",
       "      <th></th>\n",
       "      <th></th>\n",
       "      <th>flug</th>\n",
       "      <th>fldg</th>\n",
       "      <th>fnetg</th>\n",
       "    </tr>\n",
       "    <tr>\n",
       "      <th>pressure</th>\n",
       "      <th>level</th>\n",
       "      <th></th>\n",
       "      <th></th>\n",
       "      <th></th>\n",
       "    </tr>\n",
       "  </thead>\n",
       "  <tbody>\n",
       "    <tr>\n",
       "      <th>1.000000e-08</th>\n",
       "      <th>1</th>\n",
       "      <td>-32.762517</td>\n",
       "      <td>1.246706e-07</td>\n",
       "      <td>-32.762517</td>\n",
       "    </tr>\n",
       "    <tr>\n",
       "      <th>1.068500e+00</th>\n",
       "      <th>24</th>\n",
       "      <td>-32.762472</td>\n",
       "      <td>5.710766e-04</td>\n",
       "      <td>-32.761901</td>\n",
       "    </tr>\n",
       "    <tr>\n",
       "      <th>1.013000e+03</th>\n",
       "      <th>76</th>\n",
       "      <td>-32.863770</td>\n",
       "      <td>1.059639e+00</td>\n",
       "      <td>-31.804131</td>\n",
       "    </tr>\n",
       "  </tbody>\n",
       "</table>\n",
       "</div>"
      ],
      "text/plain": [
       "                         flug          fldg      fnetg\n",
       "pressure     level                                    \n",
       "1.000000e-08 1     -32.762517  1.246706e-07 -32.762517\n",
       "1.068500e+00 24    -32.762472  5.710766e-04 -32.761901\n",
       "1.013000e+03 76    -32.863770  1.059639e+00 -31.804131"
      ]
     },
     "metadata": {},
     "output_type": "display_data"
    },
    {
     "name": "stdout",
     "output_type": "stream",
     "text": [
      "Table. Fluxes. CLIRAD\n"
     ]
    },
    {
     "data": {
      "text/html": [
       "<div>\n",
       "<style scoped>\n",
       "    .dataframe tbody tr th:only-of-type {\n",
       "        vertical-align: middle;\n",
       "    }\n",
       "\n",
       "    .dataframe tbody tr th {\n",
       "        vertical-align: top;\n",
       "    }\n",
       "\n",
       "    .dataframe thead th {\n",
       "        text-align: right;\n",
       "    }\n",
       "</style>\n",
       "<table border=\"1\" class=\"dataframe\">\n",
       "  <thead>\n",
       "    <tr style=\"text-align: right;\">\n",
       "      <th></th>\n",
       "      <th></th>\n",
       "      <th>flug</th>\n",
       "      <th>fldg</th>\n",
       "      <th>fnetg</th>\n",
       "    </tr>\n",
       "    <tr>\n",
       "      <th>pressure</th>\n",
       "      <th>level</th>\n",
       "      <th></th>\n",
       "      <th></th>\n",
       "      <th></th>\n",
       "    </tr>\n",
       "  </thead>\n",
       "  <tbody>\n",
       "    <tr>\n",
       "      <th>0.0000</th>\n",
       "      <th>1</th>\n",
       "      <td>-0.008855</td>\n",
       "      <td>0.000000</td>\n",
       "      <td>-0.008855</td>\n",
       "    </tr>\n",
       "    <tr>\n",
       "      <th>1.0685</th>\n",
       "      <th>24</th>\n",
       "      <td>-0.008921</td>\n",
       "      <td>-0.000158</td>\n",
       "      <td>-0.009079</td>\n",
       "    </tr>\n",
       "    <tr>\n",
       "      <th>1013.0000</th>\n",
       "      <th>76</th>\n",
       "      <td>0.000000</td>\n",
       "      <td>-0.069799</td>\n",
       "      <td>-0.069799</td>\n",
       "    </tr>\n",
       "  </tbody>\n",
       "</table>\n",
       "</div>"
      ],
      "text/plain": [
       "                     flug      fldg     fnetg\n",
       "pressure  level                              \n",
       "0.0000    1     -0.008855  0.000000 -0.008855\n",
       "1.0685    24    -0.008921 -0.000158 -0.009079\n",
       "1013.0000 76     0.000000 -0.069799 -0.069799"
      ]
     },
     "metadata": {},
     "output_type": "display_data"
    },
    {
     "name": "stdout",
     "output_type": "stream",
     "text": [
      "Table. Fluxes. (WGT igg=10 wgt_flux=1) - (CRD)\n"
     ]
    },
    {
     "data": {
      "text/html": [
       "<div>\n",
       "<style scoped>\n",
       "    .dataframe tbody tr th:only-of-type {\n",
       "        vertical-align: middle;\n",
       "    }\n",
       "\n",
       "    .dataframe tbody tr th {\n",
       "        vertical-align: top;\n",
       "    }\n",
       "\n",
       "    .dataframe thead th {\n",
       "        text-align: right;\n",
       "    }\n",
       "</style>\n",
       "<table border=\"1\" class=\"dataframe\">\n",
       "  <thead>\n",
       "    <tr style=\"text-align: right;\">\n",
       "      <th></th>\n",
       "      <th></th>\n",
       "      <th>flug</th>\n",
       "      <th>fldg</th>\n",
       "      <th>fnetg</th>\n",
       "    </tr>\n",
       "    <tr>\n",
       "      <th>pressure</th>\n",
       "      <th>level</th>\n",
       "      <th></th>\n",
       "      <th></th>\n",
       "      <th></th>\n",
       "    </tr>\n",
       "  </thead>\n",
       "  <tbody>\n",
       "    <tr>\n",
       "      <th>0.0000</th>\n",
       "      <th>1</th>\n",
       "      <td>-0.014853</td>\n",
       "      <td>1.246706e-07</td>\n",
       "      <td>-0.014853</td>\n",
       "    </tr>\n",
       "    <tr>\n",
       "      <th>1.0685</th>\n",
       "      <th>24</th>\n",
       "      <td>-0.014960</td>\n",
       "      <td>-2.072054e-04</td>\n",
       "      <td>-0.015167</td>\n",
       "    </tr>\n",
       "    <tr>\n",
       "      <th>1013.0000</th>\n",
       "      <th>76</th>\n",
       "      <td>-0.000003</td>\n",
       "      <td>-1.001934e-01</td>\n",
       "      <td>-0.100197</td>\n",
       "    </tr>\n",
       "  </tbody>\n",
       "</table>\n",
       "</div>"
      ],
      "text/plain": [
       "                     flug          fldg     fnetg\n",
       "pressure  level                                  \n",
       "0.0000    1     -0.014853  1.246706e-07 -0.014853\n",
       "1.0685    24    -0.014960 -2.072054e-04 -0.015167\n",
       "1013.0000 76    -0.000003 -1.001934e-01 -0.100197"
      ]
     },
     "metadata": {},
     "output_type": "display_data"
    },
    {
     "name": "stdout",
     "output_type": "stream",
     "text": [
      "Table. Fluxes. (CLIRAD) - (CRD)\n"
     ]
    },
    {
     "data": {
      "text/html": [
       "<a id=\"Best-fit_Parameters\"></a>"
      ],
      "text/plain": [
       "<IPython.core.display.HTML object>"
      ]
     },
     "metadata": {},
     "output_type": "display_data"
    },
    {
     "data": {
      "text/markdown": [
       "# Best-fit Parameters"
      ],
      "text/plain": [
       "<IPython.core.display.Markdown object>"
      ]
     },
     "metadata": {},
     "output_type": "display_data"
    },
    {
     "name": "stdout",
     "output_type": "stream",
     "text": [
      "Best-fit values for each (gas, band)\n",
      "------------------------------------\n",
      "o h2o band4\n",
      "  atmpro = mls\n",
      "  band = 4\n",
      "  commitnumber = a06b618\n",
      "  conc = None\n",
      "  dv = 0.001\n",
      "  klin = 1e-24\n",
      "  molecule = h2o\n",
      "  ng_adju = [0]\n",
      "  ng_refs = [3]\n",
      "  nv = 1000\n",
      "  option_compute_btable = 0\n",
      "  option_compute_ktable = 1\n",
      "  option_wgt_flux = 1\n",
      "  option_wgt_k = 1\n",
      "  ref_pts = [(600, 250)]\n",
      "  tsfc = 294\n",
      "  vmax = 980\n",
      "  vmin = 800\n",
      "  w_diffuse = [(1.66, 1.66, 1.85)]\n",
      "  wgt = [(0.5, 0.55, 0.85)]\n",
      "o co2 band4\n",
      "  atmpro = mls\n",
      "  band = 4\n",
      "  commitnumber = a06b618\n",
      "  conc = 0.0004\n",
      "  dv = 0.001\n",
      "  klin = 6.5e-24\n",
      "  molecule = co2\n",
      "  ng_adju = [0, 0]\n",
      "  ng_refs = [1, 2]\n",
      "  nv = 1000\n",
      "  option_compute_btable = 0\n",
      "  option_compute_ktable = 1\n",
      "  option_wgt_flux = 1\n",
      "  option_wgt_k = 1\n",
      "  ref_pts = [(1, 250), (500, 250)]\n",
      "  tsfc = 294\n",
      "  vmax = 980\n",
      "  vmin = 800\n",
      "  w_diffuse = [(1.75,), (1.66, 1.9)]\n",
      "  wgt = [(0.75,), (0.75, 0.95)]\n"
     ]
    }
   ],
   "source": [
    "script()"
   ]
  },
  {
   "cell_type": "code",
   "execution_count": 13,
   "metadata": {
    "collapsed": true
   },
   "outputs": [
    {
     "data": {
      "text/html": [
       "<script>\n",
       "code_show=true; \n",
       "function code_toggle() {\n",
       " if (code_show){\n",
       " $('div.input').hide();\n",
       " } else {\n",
       " $('div.input').show();\n",
       " }\n",
       " code_show = !code_show\n",
       "} \n",
       "$( document ).ready(code_toggle);\n",
       "</script>\n",
       "<form action=\"javascript:code_toggle()\"><input type=\"submit\" value=\"Click here to toggle on/off the raw code.\"></form>"
      ],
      "text/plain": [
       "<IPython.core.display.HTML object>"
      ]
     },
     "execution_count": 13,
     "metadata": {},
     "output_type": "execute_result"
    }
   ],
   "source": [
    "display.HTML('''<script>\n",
    "code_show=true; \n",
    "function code_toggle() {\n",
    " if (code_show){\n",
    " $('div.input').hide();\n",
    " } else {\n",
    " $('div.input').show();\n",
    " }\n",
    " code_show = !code_show\n",
    "} \n",
    "$( document ).ready(code_toggle);\n",
    "</script>\n",
    "<form action=\"javascript:code_toggle()\"><input type=\"submit\" value=\"Click here to toggle on/off the raw code.\"></form>''')"
   ]
  }
 ],
 "metadata": {
  "kernelspec": {
   "display_name": "Python 3",
   "language": "python",
   "name": "python3"
  },
  "language_info": {
   "codemirror_mode": {
    "name": "ipython",
    "version": 3
   },
   "file_extension": ".py",
   "mimetype": "text/x-python",
   "name": "python",
   "nbconvert_exporter": "python",
   "pygments_lexer": "ipython3",
   "version": "3.6.1"
  }
 },
 "nbformat": 4,
 "nbformat_minor": 2
}
