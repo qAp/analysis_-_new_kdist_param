{
 "cells": [
  {
   "cell_type": "code",
   "execution_count": 1,
   "metadata": {
    "collapsed": true
   },
   "outputs": [],
   "source": [
    "%matplotlib inline\n",
    "import os\n",
    "import re\n",
    "import io\n",
    "import itertools\n",
    "import pprint\n",
    "\n",
    "from bokeh.io import output_notebook, show\n",
    "from bokeh.layouts import gridplot\n",
    "from bokeh.plotting import figure\n",
    "from bokeh.models import Range1d, Legend\n",
    "from bokeh.palettes import all_palettes\n",
    "\n",
    "import matplotlib\n",
    "import matplotlib.pyplot as plt\n",
    "import numpy as np\n",
    "import pandas as pd\n",
    "import xarray as xr\n",
    "\n",
    "import climatools.lblnew.bestfit_params as bestfits\n",
    "from climatools.lblnew import setup_bestfit, setup_overlap\n",
    "import climatools.lblnew.pipeline as pipe_lblnew\n",
    "import climatools.cliradlw.setup as setup_cliradlw\n",
    "import climatools.cliradlw.pipeline as pipe_cliradlw\n",
    "\n",
    "import climatools.html.html as climahtml\n",
    "from climatools.lblnew.dataio import *\n",
    "from climatools.plot.plot import *\n",
    "\n",
    "\n",
    "import IPython.display as display"
   ]
  },
  {
   "cell_type": "code",
   "execution_count": 2,
   "metadata": {
    "collapsed": true
   },
   "outputs": [],
   "source": [
    "%run param.py"
   ]
  },
  {
   "cell_type": "code",
   "execution_count": 3,
   "metadata": {
    "collapsed": true
   },
   "outputs": [
    {
     "name": "stdout",
     "output_type": "stream",
     "text": [
      "The history saving thread hit an unexpected error (OperationalError('database is locked',)).History will not be written to the database.\n"
     ]
    }
   ],
   "source": [
    "def load_output_file(path_csv):\n",
    "    '''\n",
    "    Load lblnew output .csv file to xarray.Dataset\n",
    "    \n",
    "    Parameters\n",
    "    ----------\n",
    "    path_csv: str\n",
    "              Path to the .csv file to be loaded.\n",
    "    ds: xarray.Dataset\n",
    "        Data in the input file in the form of an xarray.Dataset.\n",
    "    '''\n",
    "    toindex = ['band', 'pressure', 'igg', 'g']    \n",
    "    df = pd.read_csv(path_csv, sep=r'\\s+')\n",
    "    df = df.set_index([i for i in toindex if i in df.columns])\n",
    "    df = df.rename(columns={'sfu': 'flug',\n",
    "                            'sfd': 'fldg',\n",
    "                            'fnet': 'fnetg',\n",
    "                            'coolr': 'coolrg'})\n",
    "    ds = xr.Dataset.from_dataframe(df)\n",
    "\n",
    "    for l in ('level', 'layer'):\n",
    "        if l in ds.data_vars:\n",
    "            if len(ds[l].dims) > 1:\n",
    "                surface = {d: 0 for d in ds.dims if d != 'pressure'}\n",
    "                coord_level = ds[l][surface]\n",
    "                ds.coords[l] = ('pressure', coord_level)\n",
    "            else:\n",
    "                ds.coords[l] = ('pressure', ds[l])\n",
    "    \n",
    "    return ds"
   ]
  },
  {
   "cell_type": "code",
   "execution_count": 4,
   "metadata": {
    "collapsed": true
   },
   "outputs": [],
   "source": [
    "def lblnew_setup(param=None):\n",
    "    if 'ng_refs' in param:\n",
    "        return {'setup': setup_bestfit,\n",
    "                'fname_flux_crd': 'output_flux.dat',\n",
    "                'fname_cool_crd': 'output_coolr.dat',\n",
    "                'fname_flux_wgt': 'output_wfluxg.dat',\n",
    "                'fname_cool_wgt': 'output_wcoolrg.dat'}\n",
    "    else:\n",
    "        return {'setup': setup_overlap,\n",
    "                'fname_flux_crd': 'output_flux.dat',\n",
    "                'fname_cool_crd': 'output_coolr.dat',\n",
    "                'fname_flux_wgt': 'output_wflux.dat',\n",
    "                'fname_cool_wgt': 'output_wcoolr.dat'}\n",
    "\n",
    "    \n",
    "def load_lblnew_data(param):\n",
    "    \n",
    "    fname_dsname = [('fname_flux_crd', 'ds_flux_crd'),\n",
    "                    ('fname_cool_crd', 'ds_cool_crd'),\n",
    "                    ('fname_flux_wgt', 'ds_flux_wgt'),\n",
    "                    ('fname_cool_wgt', 'ds_cool_wgt')]\n",
    "    \n",
    "    d = lblnew_setup(param)\n",
    "    dir_fortran = pipe_lblnew.get_dir_case(param, setup=d['setup'])\n",
    "    \n",
    "    data_dict = {}\n",
    "    for fname, dsname in fname_dsname:\n",
    "        fpath = os.path.join(dir_fortran, d[fname])\n",
    "        data_dict[dsname] = load_output_file(fpath)\n",
    "    return data_dict\n",
    "    \n",
    "\n",
    "    \n",
    "    "
   ]
  },
  {
   "cell_type": "code",
   "execution_count": 5,
   "metadata": {
    "collapsed": true
   },
   "outputs": [],
   "source": [
    "d = load_lblnew_data(PARAM_LBLNEW)\n",
    "\n",
    "DS_FLUX_CRD = d['ds_flux_crd']\n",
    "DS_COOL_CRD = d['ds_cool_crd']\n",
    "DS_FLUX_WGT = d['ds_flux_wgt']\n",
    "DS_COOL_WGT = d['ds_cool_wgt']"
   ]
  },
  {
   "cell_type": "code",
   "execution_count": 6,
   "metadata": {
    "collapsed": true
   },
   "outputs": [],
   "source": [
    "DIR_FORTRAN = pipe_cliradlw.get_fortran_dir(PARAM, \n",
    "                                            setup=setup_cliradlw)\n",
    "\n",
    "PATH_FLUX = os.path.join(DIR_FORTRAN, 'output_flux.dat')\n",
    "PATH_COOL = os.path.join(DIR_FORTRAN, 'output_coolr.dat')\n",
    "\n",
    "DS_FLUX = load_output_file(PATH_FLUX)\n",
    "DS_COOL = load_output_file(PATH_COOL)"
   ]
  },
  {
   "cell_type": "code",
   "execution_count": 7,
   "metadata": {
    "collapsed": true
   },
   "outputs": [
    {
     "data": {
      "text/html": [
       "\n",
       "    <div class=\"bk-root\">\n",
       "        <a href=\"https://bokeh.pydata.org\" target=\"_blank\" class=\"bk-logo bk-logo-small bk-logo-notebook\"></a>\n",
       "        <span id=\"18883e66-a48c-4880-a8a9-4631741a5c25\">Loading BokehJS ...</span>\n",
       "    </div>"
      ]
     },
     "metadata": {},
     "output_type": "display_data"
    },
    {
     "data": {
      "application/javascript": [
       "\n",
       "(function(root) {\n",
       "  function now() {\n",
       "    return new Date();\n",
       "  }\n",
       "\n",
       "  var force = true;\n",
       "\n",
       "  if (typeof (root._bokeh_onload_callbacks) === \"undefined\" || force === true) {\n",
       "    root._bokeh_onload_callbacks = [];\n",
       "    root._bokeh_is_loading = undefined;\n",
       "  }\n",
       "\n",
       "  var JS_MIME_TYPE = 'application/javascript';\n",
       "  var HTML_MIME_TYPE = 'text/html';\n",
       "  var EXEC_MIME_TYPE = 'application/vnd.bokehjs_exec.v0+json';\n",
       "  var CLASS_NAME = 'output_bokeh rendered_html';\n",
       "\n",
       "  /**\n",
       "   * Render data to the DOM node\n",
       "   */\n",
       "  function render(props, node) {\n",
       "    var script = document.createElement(\"script\");\n",
       "    node.appendChild(script);\n",
       "  }\n",
       "\n",
       "  /**\n",
       "   * Handle when an output is cleared or removed\n",
       "   */\n",
       "  function handleClearOutput(event, handle) {\n",
       "    var cell = handle.cell;\n",
       "\n",
       "    var id = cell.output_area._bokeh_element_id;\n",
       "    var server_id = cell.output_area._bokeh_server_id;\n",
       "    // Clean up Bokeh references\n",
       "    if (id !== undefined) {\n",
       "      Bokeh.index[id].model.document.clear();\n",
       "      delete Bokeh.index[id];\n",
       "    }\n",
       "\n",
       "    if (server_id !== undefined) {\n",
       "      // Clean up Bokeh references\n",
       "      var cmd = \"from bokeh.io.state import curstate; print(curstate().uuid_to_server['\" + server_id + \"'].get_sessions()[0].document.roots[0]._id)\";\n",
       "      cell.notebook.kernel.execute(cmd, {\n",
       "        iopub: {\n",
       "          output: function(msg) {\n",
       "            var element_id = msg.content.text.trim();\n",
       "            Bokeh.index[element_id].model.document.clear();\n",
       "            delete Bokeh.index[element_id];\n",
       "          }\n",
       "        }\n",
       "      });\n",
       "      // Destroy server and session\n",
       "      var cmd = \"import bokeh.io.notebook as ion; ion.destroy_server('\" + server_id + \"')\";\n",
       "      cell.notebook.kernel.execute(cmd);\n",
       "    }\n",
       "  }\n",
       "\n",
       "  /**\n",
       "   * Handle when a new output is added\n",
       "   */\n",
       "  function handleAddOutput(event, handle) {\n",
       "    var output_area = handle.output_area;\n",
       "    var output = handle.output;\n",
       "\n",
       "    // limit handleAddOutput to display_data with EXEC_MIME_TYPE content only\n",
       "    if ((output.output_type != \"display_data\") || (!output.data.hasOwnProperty(EXEC_MIME_TYPE))) {\n",
       "      return\n",
       "    }\n",
       "\n",
       "    var toinsert = output_area.element.find(\".\" + CLASS_NAME.split(' ')[0]);\n",
       "\n",
       "    if (output.metadata[EXEC_MIME_TYPE][\"id\"] !== undefined) {\n",
       "      toinsert[toinsert.length - 1].firstChild.textContent = output.data[JS_MIME_TYPE];\n",
       "      // store reference to embed id on output_area\n",
       "      output_area._bokeh_element_id = output.metadata[EXEC_MIME_TYPE][\"id\"];\n",
       "    }\n",
       "    if (output.metadata[EXEC_MIME_TYPE][\"server_id\"] !== undefined) {\n",
       "      var bk_div = document.createElement(\"div\");\n",
       "      bk_div.innerHTML = output.data[HTML_MIME_TYPE];\n",
       "      var script_attrs = bk_div.children[0].attributes;\n",
       "      for (var i = 0; i < script_attrs.length; i++) {\n",
       "        toinsert[toinsert.length - 1].firstChild.setAttribute(script_attrs[i].name, script_attrs[i].value);\n",
       "      }\n",
       "      // store reference to server id on output_area\n",
       "      output_area._bokeh_server_id = output.metadata[EXEC_MIME_TYPE][\"server_id\"];\n",
       "    }\n",
       "  }\n",
       "\n",
       "  function register_renderer(events, OutputArea) {\n",
       "\n",
       "    function append_mime(data, metadata, element) {\n",
       "      // create a DOM node to render to\n",
       "      var toinsert = this.create_output_subarea(\n",
       "        metadata,\n",
       "        CLASS_NAME,\n",
       "        EXEC_MIME_TYPE\n",
       "      );\n",
       "      this.keyboard_manager.register_events(toinsert);\n",
       "      // Render to node\n",
       "      var props = {data: data, metadata: metadata[EXEC_MIME_TYPE]};\n",
       "      render(props, toinsert[toinsert.length - 1]);\n",
       "      element.append(toinsert);\n",
       "      return toinsert\n",
       "    }\n",
       "\n",
       "    /* Handle when an output is cleared or removed */\n",
       "    events.on('clear_output.CodeCell', handleClearOutput);\n",
       "    events.on('delete.Cell', handleClearOutput);\n",
       "\n",
       "    /* Handle when a new output is added */\n",
       "    events.on('output_added.OutputArea', handleAddOutput);\n",
       "\n",
       "    /**\n",
       "     * Register the mime type and append_mime function with output_area\n",
       "     */\n",
       "    OutputArea.prototype.register_mime_type(EXEC_MIME_TYPE, append_mime, {\n",
       "      /* Is output safe? */\n",
       "      safe: true,\n",
       "      /* Index of renderer in `output_area.display_order` */\n",
       "      index: 0\n",
       "    });\n",
       "  }\n",
       "\n",
       "  // register the mime type if in Jupyter Notebook environment and previously unregistered\n",
       "  if (root.Jupyter !== undefined) {\n",
       "    var events = require('base/js/events');\n",
       "    var OutputArea = require('notebook/js/outputarea').OutputArea;\n",
       "\n",
       "    if (OutputArea.prototype.mime_types().indexOf(EXEC_MIME_TYPE) == -1) {\n",
       "      register_renderer(events, OutputArea);\n",
       "    }\n",
       "  }\n",
       "\n",
       "  \n",
       "  if (typeof (root._bokeh_timeout) === \"undefined\" || force === true) {\n",
       "    root._bokeh_timeout = Date.now() + 5000;\n",
       "    root._bokeh_failed_load = false;\n",
       "  }\n",
       "\n",
       "  var NB_LOAD_WARNING = {'data': {'text/html':\n",
       "     \"<div style='background-color: #fdd'>\\n\"+\n",
       "     \"<p>\\n\"+\n",
       "     \"BokehJS does not appear to have successfully loaded. If loading BokehJS from CDN, this \\n\"+\n",
       "     \"may be due to a slow or bad network connection. Possible fixes:\\n\"+\n",
       "     \"</p>\\n\"+\n",
       "     \"<ul>\\n\"+\n",
       "     \"<li>re-rerun `output_notebook()` to attempt to load from CDN again, or</li>\\n\"+\n",
       "     \"<li>use INLINE resources instead, as so:</li>\\n\"+\n",
       "     \"</ul>\\n\"+\n",
       "     \"<code>\\n\"+\n",
       "     \"from bokeh.resources import INLINE\\n\"+\n",
       "     \"output_notebook(resources=INLINE)\\n\"+\n",
       "     \"</code>\\n\"+\n",
       "     \"</div>\"}};\n",
       "\n",
       "  function display_loaded() {\n",
       "    var el = document.getElementById(\"18883e66-a48c-4880-a8a9-4631741a5c25\");\n",
       "    if (el != null) {\n",
       "      el.textContent = \"BokehJS is loading...\";\n",
       "    }\n",
       "    if (root.Bokeh !== undefined) {\n",
       "      if (el != null) {\n",
       "        el.textContent = \"BokehJS \" + root.Bokeh.version + \" successfully loaded.\";\n",
       "      }\n",
       "    } else if (Date.now() < root._bokeh_timeout) {\n",
       "      setTimeout(display_loaded, 100)\n",
       "    }\n",
       "  }\n",
       "\n",
       "\n",
       "  function run_callbacks() {\n",
       "    try {\n",
       "      root._bokeh_onload_callbacks.forEach(function(callback) { callback() });\n",
       "    }\n",
       "    finally {\n",
       "      delete root._bokeh_onload_callbacks\n",
       "    }\n",
       "    console.info(\"Bokeh: all callbacks have finished\");\n",
       "  }\n",
       "\n",
       "  function load_libs(js_urls, callback) {\n",
       "    root._bokeh_onload_callbacks.push(callback);\n",
       "    if (root._bokeh_is_loading > 0) {\n",
       "      console.log(\"Bokeh: BokehJS is being loaded, scheduling callback at\", now());\n",
       "      return null;\n",
       "    }\n",
       "    if (js_urls == null || js_urls.length === 0) {\n",
       "      run_callbacks();\n",
       "      return null;\n",
       "    }\n",
       "    console.log(\"Bokeh: BokehJS not loaded, scheduling load and callback at\", now());\n",
       "    root._bokeh_is_loading = js_urls.length;\n",
       "    for (var i = 0; i < js_urls.length; i++) {\n",
       "      var url = js_urls[i];\n",
       "      var s = document.createElement('script');\n",
       "      s.src = url;\n",
       "      s.async = false;\n",
       "      s.onreadystatechange = s.onload = function() {\n",
       "        root._bokeh_is_loading--;\n",
       "        if (root._bokeh_is_loading === 0) {\n",
       "          console.log(\"Bokeh: all BokehJS libraries loaded\");\n",
       "          run_callbacks()\n",
       "        }\n",
       "      };\n",
       "      s.onerror = function() {\n",
       "        console.warn(\"failed to load library \" + url);\n",
       "      };\n",
       "      console.log(\"Bokeh: injecting script tag for BokehJS library: \", url);\n",
       "      document.getElementsByTagName(\"head\")[0].appendChild(s);\n",
       "    }\n",
       "  };var element = document.getElementById(\"18883e66-a48c-4880-a8a9-4631741a5c25\");\n",
       "  if (element == null) {\n",
       "    console.log(\"Bokeh: ERROR: autoload.js configured with elementid '18883e66-a48c-4880-a8a9-4631741a5c25' but no matching script tag was found. \")\n",
       "    return false;\n",
       "  }\n",
       "\n",
       "  var js_urls = [\"https://cdn.pydata.org/bokeh/release/bokeh-0.12.16.min.js\", \"https://cdn.pydata.org/bokeh/release/bokeh-widgets-0.12.16.min.js\", \"https://cdn.pydata.org/bokeh/release/bokeh-tables-0.12.16.min.js\", \"https://cdn.pydata.org/bokeh/release/bokeh-gl-0.12.16.min.js\"];\n",
       "\n",
       "  var inline_js = [\n",
       "    function(Bokeh) {\n",
       "      Bokeh.set_log_level(\"info\");\n",
       "    },\n",
       "    \n",
       "    function(Bokeh) {\n",
       "      \n",
       "    },\n",
       "    function(Bokeh) {\n",
       "      console.log(\"Bokeh: injecting CSS: https://cdn.pydata.org/bokeh/release/bokeh-0.12.16.min.css\");\n",
       "      Bokeh.embed.inject_css(\"https://cdn.pydata.org/bokeh/release/bokeh-0.12.16.min.css\");\n",
       "      console.log(\"Bokeh: injecting CSS: https://cdn.pydata.org/bokeh/release/bokeh-widgets-0.12.16.min.css\");\n",
       "      Bokeh.embed.inject_css(\"https://cdn.pydata.org/bokeh/release/bokeh-widgets-0.12.16.min.css\");\n",
       "      console.log(\"Bokeh: injecting CSS: https://cdn.pydata.org/bokeh/release/bokeh-tables-0.12.16.min.css\");\n",
       "      Bokeh.embed.inject_css(\"https://cdn.pydata.org/bokeh/release/bokeh-tables-0.12.16.min.css\");\n",
       "    }\n",
       "  ];\n",
       "\n",
       "  function run_inline_js() {\n",
       "    \n",
       "    if ((root.Bokeh !== undefined) || (force === true)) {\n",
       "      for (var i = 0; i < inline_js.length; i++) {\n",
       "        inline_js[i].call(root, root.Bokeh);\n",
       "      }if (force === true) {\n",
       "        display_loaded();\n",
       "      }} else if (Date.now() < root._bokeh_timeout) {\n",
       "      setTimeout(run_inline_js, 100);\n",
       "    } else if (!root._bokeh_failed_load) {\n",
       "      console.log(\"Bokeh: BokehJS failed to load within specified timeout.\");\n",
       "      root._bokeh_failed_load = true;\n",
       "    } else if (force !== true) {\n",
       "      var cell = $(document.getElementById(\"18883e66-a48c-4880-a8a9-4631741a5c25\")).parents('.cell').data().cell;\n",
       "      cell.output_area.append_execute_result(NB_LOAD_WARNING)\n",
       "    }\n",
       "\n",
       "  }\n",
       "\n",
       "  if (root._bokeh_is_loading === 0) {\n",
       "    console.log(\"Bokeh: BokehJS loaded, going straight to plotting\");\n",
       "    run_inline_js();\n",
       "  } else {\n",
       "    load_libs(js_urls, function() {\n",
       "      console.log(\"Bokeh: BokehJS plotting callback run at\", now());\n",
       "      run_inline_js();\n",
       "    });\n",
       "  }\n",
       "}(window));"
      ],
      "application/vnd.bokehjs_load.v0+json": "\n(function(root) {\n  function now() {\n    return new Date();\n  }\n\n  var force = true;\n\n  if (typeof (root._bokeh_onload_callbacks) === \"undefined\" || force === true) {\n    root._bokeh_onload_callbacks = [];\n    root._bokeh_is_loading = undefined;\n  }\n\n  \n\n  \n  if (typeof (root._bokeh_timeout) === \"undefined\" || force === true) {\n    root._bokeh_timeout = Date.now() + 5000;\n    root._bokeh_failed_load = false;\n  }\n\n  var NB_LOAD_WARNING = {'data': {'text/html':\n     \"<div style='background-color: #fdd'>\\n\"+\n     \"<p>\\n\"+\n     \"BokehJS does not appear to have successfully loaded. If loading BokehJS from CDN, this \\n\"+\n     \"may be due to a slow or bad network connection. Possible fixes:\\n\"+\n     \"</p>\\n\"+\n     \"<ul>\\n\"+\n     \"<li>re-rerun `output_notebook()` to attempt to load from CDN again, or</li>\\n\"+\n     \"<li>use INLINE resources instead, as so:</li>\\n\"+\n     \"</ul>\\n\"+\n     \"<code>\\n\"+\n     \"from bokeh.resources import INLINE\\n\"+\n     \"output_notebook(resources=INLINE)\\n\"+\n     \"</code>\\n\"+\n     \"</div>\"}};\n\n  function display_loaded() {\n    var el = document.getElementById(\"18883e66-a48c-4880-a8a9-4631741a5c25\");\n    if (el != null) {\n      el.textContent = \"BokehJS is loading...\";\n    }\n    if (root.Bokeh !== undefined) {\n      if (el != null) {\n        el.textContent = \"BokehJS \" + root.Bokeh.version + \" successfully loaded.\";\n      }\n    } else if (Date.now() < root._bokeh_timeout) {\n      setTimeout(display_loaded, 100)\n    }\n  }\n\n\n  function run_callbacks() {\n    try {\n      root._bokeh_onload_callbacks.forEach(function(callback) { callback() });\n    }\n    finally {\n      delete root._bokeh_onload_callbacks\n    }\n    console.info(\"Bokeh: all callbacks have finished\");\n  }\n\n  function load_libs(js_urls, callback) {\n    root._bokeh_onload_callbacks.push(callback);\n    if (root._bokeh_is_loading > 0) {\n      console.log(\"Bokeh: BokehJS is being loaded, scheduling callback at\", now());\n      return null;\n    }\n    if (js_urls == null || js_urls.length === 0) {\n      run_callbacks();\n      return null;\n    }\n    console.log(\"Bokeh: BokehJS not loaded, scheduling load and callback at\", now());\n    root._bokeh_is_loading = js_urls.length;\n    for (var i = 0; i < js_urls.length; i++) {\n      var url = js_urls[i];\n      var s = document.createElement('script');\n      s.src = url;\n      s.async = false;\n      s.onreadystatechange = s.onload = function() {\n        root._bokeh_is_loading--;\n        if (root._bokeh_is_loading === 0) {\n          console.log(\"Bokeh: all BokehJS libraries loaded\");\n          run_callbacks()\n        }\n      };\n      s.onerror = function() {\n        console.warn(\"failed to load library \" + url);\n      };\n      console.log(\"Bokeh: injecting script tag for BokehJS library: \", url);\n      document.getElementsByTagName(\"head\")[0].appendChild(s);\n    }\n  };var element = document.getElementById(\"18883e66-a48c-4880-a8a9-4631741a5c25\");\n  if (element == null) {\n    console.log(\"Bokeh: ERROR: autoload.js configured with elementid '18883e66-a48c-4880-a8a9-4631741a5c25' but no matching script tag was found. \")\n    return false;\n  }\n\n  var js_urls = [\"https://cdn.pydata.org/bokeh/release/bokeh-0.12.16.min.js\", \"https://cdn.pydata.org/bokeh/release/bokeh-widgets-0.12.16.min.js\", \"https://cdn.pydata.org/bokeh/release/bokeh-tables-0.12.16.min.js\", \"https://cdn.pydata.org/bokeh/release/bokeh-gl-0.12.16.min.js\"];\n\n  var inline_js = [\n    function(Bokeh) {\n      Bokeh.set_log_level(\"info\");\n    },\n    \n    function(Bokeh) {\n      \n    },\n    function(Bokeh) {\n      console.log(\"Bokeh: injecting CSS: https://cdn.pydata.org/bokeh/release/bokeh-0.12.16.min.css\");\n      Bokeh.embed.inject_css(\"https://cdn.pydata.org/bokeh/release/bokeh-0.12.16.min.css\");\n      console.log(\"Bokeh: injecting CSS: https://cdn.pydata.org/bokeh/release/bokeh-widgets-0.12.16.min.css\");\n      Bokeh.embed.inject_css(\"https://cdn.pydata.org/bokeh/release/bokeh-widgets-0.12.16.min.css\");\n      console.log(\"Bokeh: injecting CSS: https://cdn.pydata.org/bokeh/release/bokeh-tables-0.12.16.min.css\");\n      Bokeh.embed.inject_css(\"https://cdn.pydata.org/bokeh/release/bokeh-tables-0.12.16.min.css\");\n    }\n  ];\n\n  function run_inline_js() {\n    \n    if ((root.Bokeh !== undefined) || (force === true)) {\n      for (var i = 0; i < inline_js.length; i++) {\n        inline_js[i].call(root, root.Bokeh);\n      }if (force === true) {\n        display_loaded();\n      }} else if (Date.now() < root._bokeh_timeout) {\n      setTimeout(run_inline_js, 100);\n    } else if (!root._bokeh_failed_load) {\n      console.log(\"Bokeh: BokehJS failed to load within specified timeout.\");\n      root._bokeh_failed_load = true;\n    } else if (force !== true) {\n      var cell = $(document.getElementById(\"18883e66-a48c-4880-a8a9-4631741a5c25\")).parents('.cell').data().cell;\n      cell.output_area.append_execute_result(NB_LOAD_WARNING)\n    }\n\n  }\n\n  if (root._bokeh_is_loading === 0) {\n    console.log(\"Bokeh: BokehJS loaded, going straight to plotting\");\n    run_inline_js();\n  } else {\n    load_libs(js_urls, function() {\n      console.log(\"Bokeh: BokehJS plotting callback run at\", now());\n      run_inline_js();\n    });\n  }\n}(window));"
     },
     "metadata": {},
     "output_type": "display_data"
    }
   ],
   "source": [
    "output_notebook()"
   ]
  },
  {
   "cell_type": "code",
   "execution_count": 8,
   "metadata": {
    "collapsed": true
   },
   "outputs": [],
   "source": [
    "def fmt_cool(ds_in):\n",
    "    ds = ds_in.copy(deep=True)\n",
    "    if 'igg' in ds.dims:\n",
    "        ds = ds.sel(igg=1)\n",
    "\n",
    "    if 'g' in ds.dims:\n",
    "        ds = ds.sum('g')\n",
    "            \n",
    "    if 'band' in ds.dims:\n",
    "        try:\n",
    "            ds = ds.squeeze('band')\n",
    "        except ValueError:\n",
    "            ds = ds.sum('band')\n",
    "                \n",
    "    return ds['coolrg']\n",
    "\n",
    "\n",
    "def pltdata_cooling_1(ds_cool=None,\n",
    "                      ds_cool_crd=None, ds_cool_wgt=None):\n",
    "    \n",
    "\n",
    "\n",
    "    colors = all_palettes['Set1'][4]\n",
    "    data = [{'label': 'CLIRAD `coolr_bands`',\n",
    "             'srs': fmt_cool(ds_cool),\n",
    "             'line_dash': 'dashed', 'line_width': 5,\n",
    "             'color': colors[0], 'alpha': .6},\n",
    "            {'label': 'CRD',\n",
    "             'srs': fmt_cool(ds_cool_crd),\n",
    "             'line_dash': 'solid', 'line_width': 1.5,\n",
    "             'marker': 'circle', 'marker_size': 5,\n",
    "             'color': colors[2], 'alpha': 1,},\n",
    "            {'label': 'WGT igg=10 wgt_flux=2',\n",
    "             'srs': fmt_cool(ds_cool_wgt),\n",
    "             'line_dash': 'solid', 'line_width': 3,\n",
    "             'marker': 'square', 'marker_size': 5,\n",
    "             'color': colors[3], 'alpha': .6}]\n",
    "    return data\n",
    "\n",
    "\n",
    "def nice_xlims(pltdata=None, prange=None):\n",
    "    \n",
    "    def get_slice(srs):\n",
    "        return srs.sel(pressure=slice(*prange))\n",
    "    \n",
    "    srss = [d['srs'] for d in pltdata]\n",
    "    vmin = min([get_slice(srs).min() for srs in srss])\n",
    "    vmax = max([get_slice(srs).max() for srs in srss])\n",
    "    dv = (vmax - vmin) * .01\n",
    "    return float(vmin - dv), float(vmax + dv)\n",
    "    \n",
    "\n",
    "def plt_cooling_bokeh(pltdata=None):\n",
    "    '''\n",
    "    Plot a list of cooling rate profiles using bokeh.\n",
    "    '''\n",
    "    ymin = 1e-2 \n",
    "    ymax = 1020 \n",
    "        \n",
    "    p1 = figure(title=\"Linear pressure scale\", \n",
    "                plot_width=400)        \n",
    "    xmin, xmax = nice_xlims(pltdata, prange=(50, 1050))\n",
    "    for d in pltdata:\n",
    "        if 'marker' in d:\n",
    "            getattr(p1, d['marker'])(d['srs'].values, \n",
    "                    d['srs'].coords['pressure'].values,\n",
    "                    color=d['color'], alpha=.7)\n",
    "        p1.line(d['srs'].values, \n",
    "                d['srs'].coords['pressure'].values,\n",
    "                color=d['color'], alpha=d['alpha'], \n",
    "                line_width=d['line_width'], line_dash=d['line_dash'])\n",
    "    \n",
    "    p1.y_range = Range1d(ymax, ymin)\n",
    "    p1.yaxis.axis_label = 'pressure [mb]'   \n",
    "    p1.x_range = Range1d(xmin, xmax)\n",
    "    p1.xaxis.axis_label = 'cooling rate [K/day]'\n",
    "            \n",
    "    p2 = figure(title='Log pressure scale', y_axis_type='log',\n",
    "                plot_width=560)\n",
    "    xmin, xmax = nice_xlims(pltdata, prange=(.01, 200))\n",
    "    \n",
    "    rs = []\n",
    "    for d in pltdata:\n",
    "        rd = []\n",
    "        if 'marker' in d:\n",
    "            r_mark = getattr(p2, d['marker'])(d['srs'].values, \n",
    "                        d['srs'].coords['pressure'].values,\n",
    "                        color=d['color'], alpha=.7)\n",
    "            rd.append(r_mark)\n",
    "        r_line = p2.line(d['srs'].values, \n",
    "                    d['srs'].coords['pressure'].values,\n",
    "                    color=d['color'], alpha=d['alpha'], \n",
    "                    line_width=d['line_width'], line_dash=d['line_dash'])\n",
    "        rd.append(r_line)\n",
    "      \n",
    "        rs.append(rd)\n",
    "        \n",
    "    p2.y_range = Range1d(ymax, ymin)  \n",
    "    p2.yaxis.axis_label = 'pressure [mb]'\n",
    "    \n",
    "    p2.x_range = Range1d(xmin, xmax)\n",
    "    p2.xaxis.axis_label = 'cooling rate [K/day]'\n",
    "    \n",
    "    items = [(d['label'], r) for r, d in zip(rs, pltdata)]\n",
    "    legend = Legend(items=items, location=(10, -30))\n",
    "    legend.label_text_font_size = '8pt'\n",
    "    \n",
    "    p2.add_layout(legend, 'right')  \n",
    "    \n",
    "    show(gridplot(p1, p2, ncols=2, plot_height=500))\n",
    "    \n",
    "\n",
    "def script_plt_cooling():\n",
    "    pltdata = pltdata_cooling_1(\n",
    "        ds_cool=DS_COOL,\n",
    "        ds_cool_crd=DS_COOL_CRD,\n",
    "        ds_cool_wgt=DS_COOL_WGT)\n",
    "    plt_cooling_bokeh(pltdata=pltdata)\n",
    "    print('''FIGURE. Cooling rate profiles.''')"
   ]
  },
  {
   "cell_type": "code",
   "execution_count": 9,
   "metadata": {
    "collapsed": true
   },
   "outputs": [],
   "source": [
    "def fmt_flux(ds_in):\n",
    "    ds = ds_in.copy(deep=True)\n",
    "    \n",
    "    for l in ('level', 'layer'):\n",
    "        if l in ds.data_vars:\n",
    "            if len(ds[l].dims) > 1:\n",
    "                surface = {d: 0 for d in ds.dims if d != 'pressure'}\n",
    "                coord_level = ds[l][surface]\n",
    "                ds.coords[l] = ('pressure', coord_level)\n",
    "            else:\n",
    "                ds.coords[l] = ('pressure', ds[l])\n",
    "        \n",
    "    ds = ds.isel(pressure=[0, 23, -1])\n",
    "        \n",
    "    if 'igg' in ds.dims:\n",
    "        ds = ds.sel(igg=[1])\n",
    "        ds = ds.squeeze('igg').drop('igg')\n",
    "    \n",
    "    if 'g' in ds.dims:\n",
    "        ds = ds.sum('g')\n",
    "            \n",
    "    if 'band' in ds.dims:\n",
    "        try:\n",
    "            ds = ds.squeeze('band').drop('band')\n",
    "        except ValueError:\n",
    "            ds = ds.sum('band')\n",
    "                \n",
    "    df = ds.to_dataframe()\n",
    "    df = df.set_index('level', append=True)               \n",
    "    return df\n",
    "\n",
    "\n",
    "def tbdata_flux(ds_flux=None, ds_flux_crd=None, ds_flux_wgt=None):\n",
    "    ilevels = [0, 23, -1]\n",
    "            \n",
    "    benchmark = {'label': 'CRD',\n",
    "                 'df': fmt_flux(ds_flux_crd)}\n",
    "    \n",
    "    tbs = [{'label': 'WGT igg=10 wgt_flux=1',\n",
    "            'df': fmt_flux(ds_flux_wgt)},\n",
    "           {'label': 'CLIRAD',\n",
    "            'df': fmt_flux(ds_flux)}]\n",
    "    \n",
    "    data = {'benchmark': benchmark, 'others': tbs}\n",
    "    return data\n",
    "\n",
    "\n",
    "def tb_flux(tbdata=None):\n",
    "    benchmark = tbdata['benchmark']\n",
    "    others = tbdata['others']\n",
    "    \n",
    "    def show_tb(d=None):\n",
    "        display.display(d['df'])\n",
    "        print('Table.', 'Fluxes.', d['label'])\n",
    "        \n",
    "    def show_tbdiff(d0=None, d=None):\n",
    "        df = d['df']\n",
    "        df.index = d0['df'].index\n",
    "        display.display(df - d0['df'])\n",
    "        print('Table.', 'Fluxes.', \n",
    "              '({}) - ({})'.format(d['label'], d0['label']))\n",
    "        \n",
    "    show_tb(benchmark)\n",
    "    for d in others:\n",
    "        show_tb(d)\n",
    "        \n",
    "    for d in others:\n",
    "        show_tbdiff(d=d, d0=benchmark)\n",
    "        \n",
    "        \n",
    "def script_tb_flux():\n",
    "    data = tbdata_flux(ds_flux=DS_FLUX,\n",
    "                       ds_flux_crd=DS_FLUX_CRD,\n",
    "                       ds_flux_wgt=DS_FLUX_WGT)\n",
    "    tb_flux(tbdata=data)"
   ]
  },
  {
   "cell_type": "code",
   "execution_count": 10,
   "metadata": {
    "collapsed": true
   },
   "outputs": [],
   "source": [
    "def band_map():\n",
    "    '''\n",
    "    Maps spectral bands in lblnew to spectral bands in clirad.\n",
    "    '''\n",
    "    lblnew2clirad = {'1': '1',\n",
    "            '2': '2',\n",
    "            '3a': '3',\n",
    "            '3b': '4',\n",
    "            '3c': '5',\n",
    "            '4': '6', \n",
    "            '5': '7',\n",
    "            '6': '8',\n",
    "            '7': '9', \n",
    "            '8': '10',\n",
    "            '9': '11'}\n",
    "    \n",
    "    clirad2lblnew = {clirad: lblnew \n",
    "                     for lblnew, clirad in lblnew2clirad.items()}\n",
    "    return clirad2lblnew\n",
    "\n",
    "\n",
    "def gasbands():\n",
    "    bmap = band_map()\n",
    "    gases = list(PARAM['molecule'].keys())\n",
    "    \n",
    "    bands = [bmap[str(b)] for b in PARAM['band']]\n",
    "    return list(itertools.product(gases, bands))\n",
    "\n",
    "\n",
    "def print_bestfit_params():\n",
    "    print('Best-fit values for each (gas, band)')\n",
    "    print('------------------------------------')\n",
    "    for gas, band in gasbands():\n",
    "        print('o {} band{}'.format(gas, band))\n",
    "        param = bestfits.kdist_params(molecule=gas, band=band)\n",
    "        for name, value in sorted(param.items()):\n",
    "            print(2 * ' ' + '{} = {}'.format(name, value))\n",
    "\n",
    "        \n",
    "def print_input_param():        \n",
    "    for name, value in PARAM.items():\n",
    "        print('{} = {}'.format(name, value))\n",
    "        \n",
    "        \n",
    "def print_lblnew_param():\n",
    "    for name, value in sorted(PARAM_LBLNEW.items()):\n",
    "        print('{} = {}'.format(name, value))\n"
   ]
  },
  {
   "cell_type": "code",
   "execution_count": 11,
   "metadata": {
    "collapsed": true,
    "scrolled": false
   },
   "outputs": [],
   "source": [
    "def show_html(s):\n",
    "    display.display(display.HTML(s))\n",
    "\n",
    "    \n",
    "def show_markdown(s):\n",
    "    display.display(display.Markdown(s))\n",
    "\n",
    "    \n",
    "def script():\n",
    "    \n",
    "    title = '### CLIRAD-LW'\n",
    "    s_input = 'Input Parameters'\n",
    "    s_lblnew_param = 'LBLNEW case compaired against'\n",
    "    s_bestfits = 'Best-fit Parameters'\n",
    "    s_plt_cooling = 'Cooling Rate Profiles'\n",
    "    s_tb_flux = 'Flux Comparison'\n",
    "    \n",
    "    # title\n",
    "    show_markdown('### CLIRAD-LW')\n",
    "    \n",
    "    # TOC\n",
    "    show_markdown('### Table of Contents')\n",
    "    show_html(climahtml.getHTML_hrefanchor(s_input))\n",
    "    show_html(climahtml.getHTML_hrefanchor(s_lblnew_param))\n",
    "    show_html(climahtml.getHTML_hrefanchor(s_plt_cooling))\n",
    "    show_html(climahtml.getHTML_hrefanchor(s_tb_flux))\n",
    "    show_html(climahtml.getHTML_hrefanchor(s_bestfits))\n",
    "    \n",
    "    # Input parameters\n",
    "    show_html(climahtml.getHTML_idanchor(s_input))\n",
    "    show_markdown(climahtml.getMarkdown_sectitle(s_input))\n",
    "    print_input_param()\n",
    "    \n",
    "    # LBLNEW parameters \n",
    "    show_html(climahtml.getHTML_idanchor(s_lblnew_param))\n",
    "    show_markdown(climahtml.getMarkdown_sectitle(s_lblnew_param))\n",
    "    print_lblnew_param()\n",
    "    \n",
    "    # Cooling rate profiles\n",
    "    show_html(climahtml.getHTML_idanchor(s_plt_cooling))\n",
    "    show_markdown(climahtml.getMarkdown_sectitle(s_plt_cooling))\n",
    "    script_plt_cooling()\n",
    "    \n",
    "    # Flux comparison\n",
    "    show_html(climahtml.getHTML_idanchor(s_tb_flux))\n",
    "    show_markdown(climahtml.getMarkdown_sectitle(s_tb_flux))\n",
    "    script_tb_flux()\n",
    "    \n",
    "    # Best-fit values\n",
    "    show_html(climahtml.getHTML_idanchor(s_bestfits))\n",
    "    show_markdown(climahtml.getMarkdown_sectitle(s_bestfits))\n",
    "    print_bestfit_params()\n",
    "   \n",
    "    "
   ]
  },
  {
   "cell_type": "code",
   "execution_count": 12,
   "metadata": {
    "collapsed": true,
    "scrolled": false
   },
   "outputs": [
    {
     "data": {
      "text/markdown": [
       "### CLIRAD-LW"
      ],
      "text/plain": [
       "<IPython.core.display.Markdown object>"
      ]
     },
     "metadata": {},
     "output_type": "display_data"
    },
    {
     "data": {
      "text/markdown": [
       "### Table of Contents"
      ],
      "text/plain": [
       "<IPython.core.display.Markdown object>"
      ]
     },
     "metadata": {},
     "output_type": "display_data"
    },
    {
     "data": {
      "text/html": [
       "<a href=\"#Input_Parameters\">Input Parameters</a>"
      ],
      "text/plain": [
       "<IPython.core.display.HTML object>"
      ]
     },
     "metadata": {},
     "output_type": "display_data"
    },
    {
     "data": {
      "text/html": [
       "<a href=\"#LBLNEW_case_compaired_against\">LBLNEW case compaired against</a>"
      ],
      "text/plain": [
       "<IPython.core.display.HTML object>"
      ]
     },
     "metadata": {},
     "output_type": "display_data"
    },
    {
     "data": {
      "text/html": [
       "<a href=\"#Cooling_Rate_Profiles\">Cooling Rate Profiles</a>"
      ],
      "text/plain": [
       "<IPython.core.display.HTML object>"
      ]
     },
     "metadata": {},
     "output_type": "display_data"
    },
    {
     "data": {
      "text/html": [
       "<a href=\"#Flux_Comparison\">Flux Comparison</a>"
      ],
      "text/plain": [
       "<IPython.core.display.HTML object>"
      ]
     },
     "metadata": {},
     "output_type": "display_data"
    },
    {
     "data": {
      "text/html": [
       "<a href=\"#Best-fit_Parameters\">Best-fit Parameters</a>"
      ],
      "text/plain": [
       "<IPython.core.display.HTML object>"
      ]
     },
     "metadata": {},
     "output_type": "display_data"
    },
    {
     "data": {
      "text/html": [
       "<a id=\"Input_Parameters\"></a>"
      ],
      "text/plain": [
       "<IPython.core.display.HTML object>"
      ]
     },
     "metadata": {},
     "output_type": "display_data"
    },
    {
     "data": {
      "text/markdown": [
       "# Input Parameters"
      ],
      "text/plain": [
       "<IPython.core.display.Markdown object>"
      ]
     },
     "metadata": {},
     "output_type": "display_data"
    },
    {
     "name": "stdout",
     "output_type": "stream",
     "text": [
      "commitnumber = de5d43e\n",
      "molecule = {'h2o': 'atmpro', 'co2': 0.0004}\n",
      "band = [5]\n",
      "atmpro = saw\n",
      "tsfc = 257\n"
     ]
    },
    {
     "data": {
      "text/html": [
       "<a id=\"LBLNEW_case_compaired_against\"></a>"
      ],
      "text/plain": [
       "<IPython.core.display.HTML object>"
      ]
     },
     "metadata": {},
     "output_type": "display_data"
    },
    {
     "data": {
      "text/markdown": [
       "# LBLNEW case compaired against"
      ],
      "text/plain": [
       "<IPython.core.display.Markdown object>"
      ]
     },
     "metadata": {},
     "output_type": "display_data"
    },
    {
     "name": "stdout",
     "output_type": "stream",
     "text": [
      "atmpro = saw\n",
      "band = 3c\n",
      "commitnumber = 5014a19\n",
      "dv = 0.001\n",
      "molecule = {'h2o': 'atmpro', 'co2': 0.0004}\n",
      "nv = 1000\n",
      "tsfc = 257\n"
     ]
    },
    {
     "data": {
      "text/html": [
       "<a id=\"Cooling_Rate_Profiles\"></a>"
      ],
      "text/plain": [
       "<IPython.core.display.HTML object>"
      ]
     },
     "metadata": {},
     "output_type": "display_data"
    },
    {
     "data": {
      "text/markdown": [
       "# Cooling Rate Profiles"
      ],
      "text/plain": [
       "<IPython.core.display.Markdown object>"
      ]
     },
     "metadata": {},
     "output_type": "display_data"
    },
    {
     "data": {
      "text/html": [
       "\n",
       "<div class=\"bk-root\">\n",
       "    <div class=\"bk-plotdiv\" id=\"5fbe2293-b09e-405b-afc0-ec3d1fb9fbe8\"></div>\n",
       "</div>"
      ]
     },
     "metadata": {},
     "output_type": "display_data"
    },
    {
     "data": {
      "application/javascript": [
       "(function(root) {\n",
       "  function embed_document(root) {\n",
       "    \n",
       "  var docs_json = {\"4820aecb-65ef-4ad8-a05f-53d0f840ab24\":{\"roots\":{\"references\":[{\"attributes\":{\"callback\":null,\"end\":0.8381442113500001,\"start\":0.00908399365},\"id\":\"6b8cd6c0-de58-4b97-a3be-b80bf175085e\",\"type\":\"Range1d\"},{\"attributes\":{},\"id\":\"8704b500-dff9-4dd2-97b6-88aae62c5f16\",\"type\":\"HelpTool\"},{\"attributes\":{\"source\":{\"id\":\"59e7b0db-9ccf-4cc5-affc-5343996a17b9\",\"type\":\"ColumnDataSource\"}},\"id\":\"68d707fc-944a-414d-aac8-f4484768542f\",\"type\":\"CDSView\"},{\"attributes\":{\"callback\":null,\"end\":0.01,\"start\":1020},\"id\":\"6efc6c1b-8dc2-46c1-b641-23b18453cdef\",\"type\":\"Range1d\"},{\"attributes\":{\"callback\":null,\"data\":{\"x\":{\"__ndarray__\":\"2t2/VmLOpL8ukcmxDqqVv5N49QGzCJo/DvLYoSo+tD8WuyKdJtjBP5on1xTIbMo/b20bJTMH0j98UEgZDlfXP0HHmtNdAN0/3sVenLZu4T+6WAf2TlvkP6BhvZNHHuc/waOVlB566T89oykSfo/qPxt0+FqGjuk//UpK7m7t5j/gEOzwvmfjPwMzEfyQM98/5d8+3QbW2D9cRn+ikZPVPytoWmJl9NY/Wl6gQZbH1T+2bVKwSlLQP2vhiYtpx8g/ykPwCSOHwz9yO03J5mi+P/M5Y9d3d7c/F/LTe9Qmsz+W6pXBN56xPwkP0gdWy68/HB3Hd3i7qT83ietfLOihP7F1UFmyApo/cVevIqMDmD9+05shuj+ZP+21awX3Sp0/SwH3qRsJoD+tsWDvuaSePx6BOEIY1Zo/L+DSIrzslj+hBj7Mf8SSP7a3JqAzsIw/B1gAmwC/gj+5k4nMNfRqP3MrPNuny3C/lJDKgDM5fL8cshTYgi9Tv4sJuays73s/TuGCGFowjD/Nx6sv78qUP5IQSjdAa5s/w/NXausXoT/XTifoFaCkPwKGyXqIS6g/j0C59tABrD8wu9EOUsyvPz2I5v8qx7E/M7uOOxySsz8g0wpuzDS1P+uQXn7unrY/dcdd4prLtz/5VwNSasi4P8LPeFV5mLk/JWmKQsNJuj97wm3Imuy6PxOGO/Y3kbs/RgOAfGw/vD/elXbNWPK8P5DX5nOsWr0/8c+xKJHpvD8XTJknGTG7P+shM3rid7g/9ZQHr35otT8u9fGl91qyP5pGfO+7Xq4/\",\"dtype\":\"float64\",\"shape\":[75]},\"y\":{\"__ndarray__\":\"S/O/Q+51ND/Sv8nbtpRIP2vylNV0PVE/aTum7souWD/At0SJ8fVgPw3Iuahxymc/MSNhhJWvcD/bTfBN02d3P2zb5nxnaoA/CD5h5MAGhz8NmeH1TyaQP+zrCsc9p5Y/LbKd76fGnz/bLW5ISEmmPww9YvTcQq8/JV2OstnstT8Er5Y7M8G+P0c+r3jqkcU/5h99k6ZBzj88bCIzFzjVP4enV8oyxN0//yH99nXg5D8qOpLLf0jtP5kqGJXUifQ/c9cS8kHP/D+/DpwzojQEQIEmwoanVwxA4lgXt9HgE0BSSZ2AJuIbQAMJih9jjiNA5q4l5INuK0AwTKYKRj0zQNv5fmq8/DpAaCJseHrtQkB/+zpwzoxKQM3MzMzMeFJAZmZmZmZqWEAAAAAAAFxeQM3MzMzMJmJAmpmZmZkfZUBmZmZmZhhoQDMzMzMzEWtAAAAAAAAKbkBmZmZmZoFwQM3MzMzM/XFAMzMzMzN6c0CamZmZmfZ0QAAAAAAAc3ZAZmZmZmbvd0DNzMzMzGt5QDMzMzMz6HpAmpmZmZlkfEAAAAAAAOF9QGZmZmZmXX9AZmZmZuZsgECamZmZGSuBQM3MzMxM6YFAAAAAAICngkAzMzMzs2WDQGZmZmbmI4RAmpmZmRnihEDNzMzMTKCFQAAAAACAXoZAMzMzM7Mch0BmZmZm5tqHQJqZmZkZmYhAzczMzExXiUAAAAAAgBWKQDMzMzOz04pAZmZmZuaRi0CamZmZGVCMQM3MzMxMDo1AAAAAAIDMjUAzMzMzs4qOQGZmZmbmSI9A\",\"dtype\":\"float64\",\"shape\":[75]}},\"selected\":{\"id\":\"055f6ab9-46dd-479d-8f59-43fd910bd4b0\",\"type\":\"Selection\"},\"selection_policy\":{\"id\":\"ac05ebfa-2c06-4def-b794-7b97a09c4c28\",\"type\":\"UnionRenderers\"}},\"id\":\"59e7b0db-9ccf-4cc5-affc-5343996a17b9\",\"type\":\"ColumnDataSource\"},{\"attributes\":{},\"id\":\"b5219dc1-407f-4852-ab6d-db8f254c6320\",\"type\":\"ResetTool\"},{\"attributes\":{},\"id\":\"c07f9319-f4f0-4c53-8a74-39710b4a4461\",\"type\":\"PanTool\"},{\"attributes\":{},\"id\":\"2afe773b-66f7-4f6c-b44e-dc9991ac0c5b\",\"type\":\"SaveTool\"},{\"attributes\":{\"source\":{\"id\":\"45be235e-e729-4f9e-813c-e6dc4e3ed036\",\"type\":\"ColumnDataSource\"}},\"id\":\"87ca1c00-2024-4c39-b81d-edde683ea564\",\"type\":\"CDSView\"},{\"attributes\":{\"line_alpha\":0.1,\"line_color\":\"#1f77b4\",\"line_dash\":[6],\"line_width\":5,\"x\":{\"field\":\"x\"},\"y\":{\"field\":\"y\"}},\"id\":\"8d2ea6be-e5e6-449c-8b9d-492a06bf2097\",\"type\":\"Line\"},{\"attributes\":{},\"id\":\"43067d83-d85a-4c35-9357-45dc6b6d1d62\",\"type\":\"WheelZoomTool\"},{\"attributes\":{\"data_source\":{\"id\":\"45be235e-e729-4f9e-813c-e6dc4e3ed036\",\"type\":\"ColumnDataSource\"},\"glyph\":{\"id\":\"31faa8c9-a898-4bb2-9f49-9c02b1bae0fb\",\"type\":\"Line\"},\"hover_glyph\":null,\"muted_glyph\":null,\"nonselection_glyph\":{\"id\":\"42f11f2b-85fc-4fc9-9db9-42618d4f62a0\",\"type\":\"Line\"},\"selection_glyph\":null,\"view\":{\"id\":\"87ca1c00-2024-4c39-b81d-edde683ea564\",\"type\":\"CDSView\"}},\"id\":\"8ce4fd06-28f6-41b6-956c-e2b82426b15c\",\"type\":\"GlyphRenderer\"},{\"attributes\":{\"plot\":null,\"text\":\"Linear pressure scale\"},\"id\":\"fcd5d857-18e1-459e-9a47-702d587cf51c\",\"type\":\"Title\"},{\"attributes\":{\"bottom_units\":\"screen\",\"fill_alpha\":{\"value\":0.5},\"fill_color\":{\"value\":\"lightgrey\"},\"left_units\":\"screen\",\"level\":\"overlay\",\"line_alpha\":{\"value\":1.0},\"line_color\":{\"value\":\"black\"},\"line_dash\":[4,4],\"line_width\":{\"value\":2},\"plot\":null,\"render_mode\":\"css\",\"right_units\":\"screen\",\"top_units\":\"screen\"},\"id\":\"bd39804a-2473-43d0-811a-dfb1cc96b8a1\",\"type\":\"BoxAnnotation\"},{\"attributes\":{\"active_drag\":\"auto\",\"active_inspect\":\"auto\",\"active_scroll\":\"auto\",\"active_tap\":\"auto\",\"tools\":[{\"id\":\"c19fc9cc-76ee-41dc-86a1-6b447f2b14c4\",\"type\":\"PanTool\"},{\"id\":\"5a7609cc-d290-4faa-8a25-72656b33a7f8\",\"type\":\"WheelZoomTool\"},{\"id\":\"70507782-a88c-4268-b6c6-9ae520019793\",\"type\":\"BoxZoomTool\"},{\"id\":\"68463694-9e90-449e-91ef-7e39033ab3e5\",\"type\":\"SaveTool\"},{\"id\":\"d9a0802d-6487-41ab-845b-86e68d8f8cbe\",\"type\":\"ResetTool\"},{\"id\":\"b96c5e5b-459a-474a-bd4e-25478bb3e572\",\"type\":\"HelpTool\"}]},\"id\":\"7bdd2a12-b4ee-4182-8c05-82001c8f88be\",\"type\":\"Toolbar\"},{\"attributes\":{\"data_source\":{\"id\":\"59e7b0db-9ccf-4cc5-affc-5343996a17b9\",\"type\":\"ColumnDataSource\"},\"glyph\":{\"id\":\"22174b46-f930-4882-be64-d9ad9103b445\",\"type\":\"Line\"},\"hover_glyph\":null,\"muted_glyph\":null,\"nonselection_glyph\":{\"id\":\"8d2ea6be-e5e6-449c-8b9d-492a06bf2097\",\"type\":\"Line\"},\"selection_glyph\":null,\"view\":{\"id\":\"68d707fc-944a-414d-aac8-f4484768542f\",\"type\":\"CDSView\"}},\"id\":\"b6744041-49a4-4597-87d8-1c2b7c822410\",\"type\":\"GlyphRenderer\"},{\"attributes\":{},\"id\":\"7980479d-410c-4ee7-9c55-77ee70a7766f\",\"type\":\"BasicTicker\"},{\"attributes\":{},\"id\":\"fa2b067a-ec96-49be-ace1-6656432e14cf\",\"type\":\"LinearScale\"},{\"attributes\":{\"items\":[{\"id\":\"3330e798-7f02-4ef7-bed1-c4e80acafa63\",\"type\":\"LegendItem\"},{\"id\":\"a5818f4b-0dbb-4e4c-9972-c47abcafdd19\",\"type\":\"LegendItem\"},{\"id\":\"bcfdfb70-fb6e-40b5-818d-0fb734adccfa\",\"type\":\"LegendItem\"}],\"label_text_font_size\":{\"value\":\"8pt\"},\"location\":[10,-30],\"plot\":{\"id\":\"1bbb0ad7-dde0-4388-82ba-2ff90edd39fe\",\"subtype\":\"Figure\",\"type\":\"Plot\"}},\"id\":\"1759304b-cb5c-44cb-a4a8-d536624fd46a\",\"type\":\"Legend\"},{\"attributes\":{\"axis_label\":\"cooling rate [K/day]\",\"formatter\":{\"id\":\"4314012f-8496-4cde-a6f9-0c207172f6ff\",\"type\":\"BasicTickFormatter\"},\"plot\":{\"id\":\"1bbb0ad7-dde0-4388-82ba-2ff90edd39fe\",\"subtype\":\"Figure\",\"type\":\"Plot\"},\"ticker\":{\"id\":\"7980479d-410c-4ee7-9c55-77ee70a7766f\",\"type\":\"BasicTicker\"}},\"id\":\"f6e8f58d-34b7-4b2d-a418-d5203ed64492\",\"type\":\"LinearAxis\"},{\"attributes\":{\"plot\":null,\"text\":\"Log pressure scale\"},\"id\":\"2e5b6e40-4c6f-4224-b0ba-0ade40fd6da2\",\"type\":\"Title\"},{\"attributes\":{\"callback\":null,\"end\":0.01,\"start\":1020},\"id\":\"940e77e1-b8c1-4da6-a879-5edc007981c4\",\"type\":\"Range1d\"},{\"attributes\":{\"below\":[{\"id\":\"f6e8f58d-34b7-4b2d-a418-d5203ed64492\",\"type\":\"LinearAxis\"}],\"left\":[{\"id\":\"d4c66c5e-3eb0-45bc-b2b4-990119ee25d0\",\"type\":\"LogAxis\"}],\"plot_height\":500,\"plot_width\":560,\"renderers\":[{\"id\":\"f6e8f58d-34b7-4b2d-a418-d5203ed64492\",\"type\":\"LinearAxis\"},{\"id\":\"38845e8f-fe21-42cf-b243-fcbccf306f8d\",\"type\":\"Grid\"},{\"id\":\"d4c66c5e-3eb0-45bc-b2b4-990119ee25d0\",\"type\":\"LogAxis\"},{\"id\":\"5f497cbc-c186-44a5-a0ff-4b1e8c4af261\",\"type\":\"Grid\"},{\"id\":\"4f383321-c1ed-467d-a359-c69ec03ed49c\",\"type\":\"BoxAnnotation\"},{\"id\":\"8ce38e9a-d38f-4af3-badd-aa84a7d2b778\",\"type\":\"GlyphRenderer\"},{\"id\":\"7ffca891-6319-47d2-95aa-bf4e891dc410\",\"type\":\"GlyphRenderer\"},{\"id\":\"5b6f1d47-4b1c-44c6-b4bd-525aac9dcbff\",\"type\":\"GlyphRenderer\"},{\"id\":\"eea33952-3dbf-489b-95bf-0879c791a533\",\"type\":\"GlyphRenderer\"},{\"id\":\"3c97fca7-61de-42cf-9aa0-c915d9f176b1\",\"type\":\"GlyphRenderer\"},{\"id\":\"1759304b-cb5c-44cb-a4a8-d536624fd46a\",\"type\":\"Legend\"}],\"right\":[{\"id\":\"1759304b-cb5c-44cb-a4a8-d536624fd46a\",\"type\":\"Legend\"}],\"title\":{\"id\":\"2e5b6e40-4c6f-4224-b0ba-0ade40fd6da2\",\"type\":\"Title\"},\"toolbar\":{\"id\":\"7bdd2a12-b4ee-4182-8c05-82001c8f88be\",\"type\":\"Toolbar\"},\"toolbar_location\":null,\"x_range\":{\"id\":\"6b8cd6c0-de58-4b97-a3be-b80bf175085e\",\"type\":\"Range1d\"},\"x_scale\":{\"id\":\"fa2b067a-ec96-49be-ace1-6656432e14cf\",\"type\":\"LinearScale\"},\"y_range\":{\"id\":\"940e77e1-b8c1-4da6-a879-5edc007981c4\",\"type\":\"Range1d\"},\"y_scale\":{\"id\":\"05a73bf0-a5a6-45eb-9d72-5509ca8ede29\",\"type\":\"LogScale\"}},\"id\":\"1bbb0ad7-dde0-4388-82ba-2ff90edd39fe\",\"subtype\":\"Figure\",\"type\":\"Plot\"},{\"attributes\":{\"plot\":{\"id\":\"64c7c35c-75f7-4a05-8295-201f340cc527\",\"subtype\":\"Figure\",\"type\":\"Plot\"},\"ticker\":{\"id\":\"256c8707-e4c1-486d-9a63-4620083d8c17\",\"type\":\"BasicTicker\"}},\"id\":\"b5873bcf-e440-4147-a69c-a246883649bc\",\"type\":\"Grid\"},{\"attributes\":{\"line_alpha\":0.6,\"line_color\":\"#e41a1c\",\"line_dash\":[6],\"line_width\":5,\"x\":{\"field\":\"x\"},\"y\":{\"field\":\"y\"}},\"id\":\"22174b46-f930-4882-be64-d9ad9103b445\",\"type\":\"Line\"},{\"attributes\":{\"line_alpha\":0.1,\"line_color\":\"#1f77b4\",\"line_width\":3,\"x\":{\"field\":\"x\"},\"y\":{\"field\":\"y\"}},\"id\":\"42f11f2b-85fc-4fc9-9db9-42618d4f62a0\",\"type\":\"Line\"},{\"attributes\":{\"overlay\":{\"id\":\"bd39804a-2473-43d0-811a-dfb1cc96b8a1\",\"type\":\"BoxAnnotation\"}},\"id\":\"6d5ea61c-5820-4b67-8aa0-d5b23f4c44e1\",\"type\":\"BoxZoomTool\"},{\"attributes\":{\"below\":[{\"id\":\"509b56ca-9059-42a9-ba05-375c212be08c\",\"type\":\"LinearAxis\"}],\"left\":[{\"id\":\"d4c402bf-52bd-44bf-bead-e0117fde90e0\",\"type\":\"LinearAxis\"}],\"plot_height\":500,\"plot_width\":400,\"renderers\":[{\"id\":\"509b56ca-9059-42a9-ba05-375c212be08c\",\"type\":\"LinearAxis\"},{\"id\":\"b5873bcf-e440-4147-a69c-a246883649bc\",\"type\":\"Grid\"},{\"id\":\"d4c402bf-52bd-44bf-bead-e0117fde90e0\",\"type\":\"LinearAxis\"},{\"id\":\"f621f3c7-d299-4015-a1a8-08b790e33545\",\"type\":\"Grid\"},{\"id\":\"bd39804a-2473-43d0-811a-dfb1cc96b8a1\",\"type\":\"BoxAnnotation\"},{\"id\":\"b6744041-49a4-4597-87d8-1c2b7c822410\",\"type\":\"GlyphRenderer\"},{\"id\":\"6c796e00-afd3-4b6b-a642-8d8e2788962f\",\"type\":\"GlyphRenderer\"},{\"id\":\"737e091a-08de-4a7e-9876-0703d0525abb\",\"type\":\"GlyphRenderer\"},{\"id\":\"38177a5c-c0b0-484b-bf43-bd2dd03f7168\",\"type\":\"GlyphRenderer\"},{\"id\":\"8ce4fd06-28f6-41b6-956c-e2b82426b15c\",\"type\":\"GlyphRenderer\"}],\"title\":{\"id\":\"fcd5d857-18e1-459e-9a47-702d587cf51c\",\"type\":\"Title\"},\"toolbar\":{\"id\":\"e6d499ea-f141-4b04-9754-5414aa5fe543\",\"type\":\"Toolbar\"},\"toolbar_location\":null,\"x_range\":{\"id\":\"21c08869-27a5-4baa-995e-c8acc4c21ec4\",\"type\":\"Range1d\"},\"x_scale\":{\"id\":\"3fc8f6cc-8fea-4252-9fef-8f550ec2b032\",\"type\":\"LinearScale\"},\"y_range\":{\"id\":\"6efc6c1b-8dc2-46c1-b641-23b18453cdef\",\"type\":\"Range1d\"},\"y_scale\":{\"id\":\"d02cec4d-0ceb-41a5-9301-a7716d630f29\",\"type\":\"LinearScale\"}},\"id\":\"64c7c35c-75f7-4a05-8295-201f340cc527\",\"subtype\":\"Figure\",\"type\":\"Plot\"},{\"attributes\":{\"axis_label\":\"pressure [mb]\",\"formatter\":{\"id\":\"68bb53b3-4fab-4d6e-9c95-8144512eb3f9\",\"type\":\"BasicTickFormatter\"},\"plot\":{\"id\":\"64c7c35c-75f7-4a05-8295-201f340cc527\",\"subtype\":\"Figure\",\"type\":\"Plot\"},\"ticker\":{\"id\":\"592a51f2-a4de-4799-bd68-d819b5d3842a\",\"type\":\"BasicTicker\"}},\"id\":\"d4c402bf-52bd-44bf-bead-e0117fde90e0\",\"type\":\"LinearAxis\"},{\"attributes\":{\"axis_label\":\"cooling rate [K/day]\",\"formatter\":{\"id\":\"d6421518-5dc5-4252-b788-0b45c27030c5\",\"type\":\"BasicTickFormatter\"},\"plot\":{\"id\":\"64c7c35c-75f7-4a05-8295-201f340cc527\",\"subtype\":\"Figure\",\"type\":\"Plot\"},\"ticker\":{\"id\":\"256c8707-e4c1-486d-9a63-4620083d8c17\",\"type\":\"BasicTicker\"}},\"id\":\"509b56ca-9059-42a9-ba05-375c212be08c\",\"type\":\"LinearAxis\"},{\"attributes\":{},\"id\":\"256c8707-e4c1-486d-9a63-4620083d8c17\",\"type\":\"BasicTicker\"},{\"attributes\":{\"dimension\":1,\"plot\":{\"id\":\"64c7c35c-75f7-4a05-8295-201f340cc527\",\"subtype\":\"Figure\",\"type\":\"Plot\"},\"ticker\":{\"id\":\"592a51f2-a4de-4799-bd68-d819b5d3842a\",\"type\":\"BasicTicker\"}},\"id\":\"f621f3c7-d299-4015-a1a8-08b790e33545\",\"type\":\"Grid\"},{\"attributes\":{\"plot\":{\"id\":\"1bbb0ad7-dde0-4388-82ba-2ff90edd39fe\",\"subtype\":\"Figure\",\"type\":\"Plot\"},\"ticker\":{\"id\":\"7980479d-410c-4ee7-9c55-77ee70a7766f\",\"type\":\"BasicTicker\"}},\"id\":\"38845e8f-fe21-42cf-b243-fcbccf306f8d\",\"type\":\"Grid\"},{\"attributes\":{\"active_drag\":\"auto\",\"active_inspect\":\"auto\",\"active_scroll\":\"auto\",\"active_tap\":\"auto\",\"tools\":[{\"id\":\"c07f9319-f4f0-4c53-8a74-39710b4a4461\",\"type\":\"PanTool\"},{\"id\":\"43067d83-d85a-4c35-9357-45dc6b6d1d62\",\"type\":\"WheelZoomTool\"},{\"id\":\"6d5ea61c-5820-4b67-8aa0-d5b23f4c44e1\",\"type\":\"BoxZoomTool\"},{\"id\":\"2afe773b-66f7-4f6c-b44e-dc9991ac0c5b\",\"type\":\"SaveTool\"},{\"id\":\"b5219dc1-407f-4852-ab6d-db8f254c6320\",\"type\":\"ResetTool\"},{\"id\":\"8704b500-dff9-4dd2-97b6-88aae62c5f16\",\"type\":\"HelpTool\"}]},\"id\":\"e6d499ea-f141-4b04-9754-5414aa5fe543\",\"type\":\"Toolbar\"},{\"attributes\":{},\"id\":\"592a51f2-a4de-4799-bd68-d819b5d3842a\",\"type\":\"BasicTicker\"},{\"attributes\":{},\"id\":\"d02cec4d-0ceb-41a5-9301-a7716d630f29\",\"type\":\"LinearScale\"},{\"attributes\":{\"callback\":null,\"end\":0.115880373088,\"start\":-0.008106041888000001},\"id\":\"21c08869-27a5-4baa-995e-c8acc4c21ec4\",\"type\":\"Range1d\"},{\"attributes\":{\"line_alpha\":0.6,\"line_color\":\"#984ea3\",\"line_width\":3,\"x\":{\"field\":\"x\"},\"y\":{\"field\":\"y\"}},\"id\":\"31faa8c9-a898-4bb2-9f49-9c02b1bae0fb\",\"type\":\"Line\"},{\"attributes\":{},\"id\":\"3fc8f6cc-8fea-4252-9fef-8f550ec2b032\",\"type\":\"LinearScale\"},{\"attributes\":{\"callback\":null,\"data\":{\"x\":{\"__ndarray__\":\"tVU3gWN7i78/kxCz9rp2P5kkngUE564/vBnapbLNvj8uc/xI+PvHP5nEUaDsudA/nwKiWFXM1T+BfhlrAyDbP6BDrg5fSuA/qNImuYn74j/+L3R4Sn/lPxeqcgyOs+c/ChoKCkln6T95cH9Ht9LpP3+agzUIUug/B470N9ub5T+6Jf+0zYTiPyR28adb8N4/Y08zi+0B2j85seogbWvXP4BiIq1Khdg/SaUSfcKC1j8xf+CFCFPQP7ZMI7k+JMg/I8g5mOrVwj8lNZtkN3W9P24gx1D6tLY/YRxrZRN3sj9jDQAdMtqwP81HSmF7ua4/XWtmYvdzqT+DZJJ1XoGiPwWiio8NrJw/UmUdMD3Rmz+nFYiZ24+cPy+NhT/IVJ8/Jesk5k/XoD+3kYIMvBGgP5iNA+z5U5w/iuO78itmmD9keVc9YB6UP/hz3LnI7o4/y0YDUkSBhD9/P9jIvrtvP2AWjxnMCXC/uMBfeJcefL+7VSJU2jdPv0TtvOY8t30/udvrYKEvjT/SezqJzlOVP1dvMnzU95s/KVvv+nZZoT/zfY//pM+kP5iIt86/Xag/1H3xJm7+qz9ObjKvxZyvPxE5rXZ1kLE/0wZ+WXw4sz/+Vfn+A7W0P2uI7ZgBAbY/BQC6dDsXtz8IDzMx5vm3Pxyw6Cxss7g/45UhF2dPuT+6CaXMWeG5P0fZjQQ7ero/Bl1n6EQnuz9h+XemZd67PyApnoqGUrw/p1oswbnxuz/PBsueJUS6P1aHjcZimrc/43jqA1yftD+X34WHEqixP4J6gfkuHK0/\",\"dtype\":\"float64\",\"shape\":[75]},\"y\":{\"__ndarray__\":\"GhExyth1ND/Sv8nbtpRIP2vylNV0PVE/aTum7souWD/At0SJ8fVgPw3Iuahxymc/MSNhhJWvcD/bTfBN02d3P2zb5nxnaoA/CD5h5MAGhz8NmeH1TyaQP+zrCsc9p5Y/LbKd76fGnz/bLW5ISEmmPww9YvTcQq8/JV2OstnstT8Er5Y7M8G+P0c+r3jqkcU/5h99k6ZBzj88bCIzFzjVP4enV8oyxN0//yH99nXg5D8qOpLLf0jtP5kqGJXUifQ/c9cS8kHP/D+/DpwzojQEQIEmwoanVwxA4lgXt9HgE0BSSZ2AJuIbQAMJih9jjiNA5q4l5INuK0AwTKYKRj0zQNv5fmq8/DpAaCJseHrtQkB/+zpwzoxKQM3MzMzMeFJAZmZmZmZqWEAAAAAAAFxeQM3MzMzMJmJAmpmZmZkfZUBmZmZmZhhoQDMzMzMzEWtAAAAAAAAKbkBmZmZmZoFwQM3MzMzM/XFAMzMzMzN6c0CamZmZmfZ0QAAAAAAAc3ZAZmZmZmbvd0DNzMzMzGt5QDMzMzMz6HpAmpmZmZlkfEAAAAAAAOF9QGZmZmZmXX9AZmZmZuZsgECamZmZGSuBQM3MzMxM6YFAAAAAAICngkAzMzMzs2WDQGZmZmbmI4RAmpmZmRnihEDNzMzMTKCFQAAAAACAXoZAMzMzM7Mch0BmZmZm5tqHQJqZmZkZmYhAzczMzExXiUAAAAAAgBWKQDMzMzOz04pAZmZmZuaRi0CamZmZGVCMQM3MzMxMDo1AAAAAAIDMjUAzMzMzs4qOQGZmZmbmSI9A\",\"dtype\":\"float64\",\"shape\":[75]}},\"selected\":{\"id\":\"80634cb4-57ab-4863-91f4-c18e0256bc05\",\"type\":\"Selection\"},\"selection_policy\":{\"id\":\"8737a675-f516-4850-8dd0-e77a6ed29312\",\"type\":\"UnionRenderers\"}},\"id\":\"45be235e-e729-4f9e-813c-e6dc4e3ed036\",\"type\":\"ColumnDataSource\"},{\"attributes\":{\"data_source\":{\"id\":\"1ba62d96-8aa8-45f4-94e9-e69fdc60bab5\",\"type\":\"ColumnDataSource\"},\"glyph\":{\"id\":\"dd55e900-9bac-4cef-8392-d2ab7ef03654\",\"type\":\"Circle\"},\"hover_glyph\":null,\"muted_glyph\":null,\"nonselection_glyph\":{\"id\":\"412e26f6-4842-432a-84f4-950e33823c58\",\"type\":\"Circle\"},\"selection_glyph\":null,\"view\":{\"id\":\"58c40fec-3603-4b80-b82c-9477b7954a78\",\"type\":\"CDSView\"}},\"id\":\"7ffca891-6319-47d2-95aa-bf4e891dc410\",\"type\":\"GlyphRenderer\"},{\"attributes\":{\"axis_label\":\"pressure [mb]\",\"formatter\":{\"id\":\"409f6559-1861-4c54-a506-fc524011aa91\",\"type\":\"LogTickFormatter\"},\"plot\":{\"id\":\"1bbb0ad7-dde0-4388-82ba-2ff90edd39fe\",\"subtype\":\"Figure\",\"type\":\"Plot\"},\"ticker\":{\"id\":\"881c5038-4366-40f3-8885-580c503e64a1\",\"type\":\"LogTicker\"}},\"id\":\"d4c66c5e-3eb0-45bc-b2b4-990119ee25d0\",\"type\":\"LogAxis\"},{\"attributes\":{\"fill_alpha\":{\"value\":0.7},\"fill_color\":{\"value\":\"#4daf4a\"},\"line_alpha\":{\"value\":0.7},\"line_color\":{\"value\":\"#4daf4a\"},\"x\":{\"field\":\"x\"},\"y\":{\"field\":\"y\"}},\"id\":\"a6e24385-5297-4419-a3f2-b2e0c8ed2bfb\",\"type\":\"Circle\"},{\"attributes\":{\"fill_alpha\":{\"value\":0.1},\"fill_color\":{\"value\":\"#1f77b4\"},\"line_alpha\":{\"value\":0.1},\"line_color\":{\"value\":\"#1f77b4\"},\"x\":{\"field\":\"x\"},\"y\":{\"field\":\"y\"}},\"id\":\"412e26f6-4842-432a-84f4-950e33823c58\",\"type\":\"Circle\"},{\"attributes\":{\"dimension\":1,\"plot\":{\"id\":\"1bbb0ad7-dde0-4388-82ba-2ff90edd39fe\",\"subtype\":\"Figure\",\"type\":\"Plot\"},\"ticker\":{\"id\":\"881c5038-4366-40f3-8885-580c503e64a1\",\"type\":\"LogTicker\"}},\"id\":\"5f497cbc-c186-44a5-a0ff-4b1e8c4af261\",\"type\":\"Grid\"},{\"attributes\":{\"data_source\":{\"id\":\"974b20df-04f6-4858-96e7-4f3af01b5831\",\"type\":\"ColumnDataSource\"},\"glyph\":{\"id\":\"d40898e5-9114-47bb-a3c5-94d41731af06\",\"type\":\"Line\"},\"hover_glyph\":null,\"muted_glyph\":null,\"nonselection_glyph\":{\"id\":\"bc3fa8d1-2981-4d54-aac0-c29613185b25\",\"type\":\"Line\"},\"selection_glyph\":null,\"view\":{\"id\":\"a0ce9653-a280-47fb-b333-7732ec112e54\",\"type\":\"CDSView\"}},\"id\":\"5b6f1d47-4b1c-44c6-b4bd-525aac9dcbff\",\"type\":\"GlyphRenderer\"},{\"attributes\":{\"source\":{\"id\":\"974b20df-04f6-4858-96e7-4f3af01b5831\",\"type\":\"ColumnDataSource\"}},\"id\":\"a0ce9653-a280-47fb-b333-7732ec112e54\",\"type\":\"CDSView\"},{\"attributes\":{\"num_minor_ticks\":10},\"id\":\"881c5038-4366-40f3-8885-580c503e64a1\",\"type\":\"LogTicker\"},{\"attributes\":{\"line_alpha\":0.1,\"line_color\":\"#1f77b4\",\"line_width\":1.5,\"x\":{\"field\":\"x\"},\"y\":{\"field\":\"y\"}},\"id\":\"bc3fa8d1-2981-4d54-aac0-c29613185b25\",\"type\":\"Line\"},{\"attributes\":{\"callback\":null,\"data\":{\"x\":{\"__ndarray__\":\"fRNAuqPCrT8VLYpohTO0P5ae4bR9G8I/0XGY3OYVyz/vULkuoWfSP3W4Lfymkdc/4JSgXKbo3D9RTN4AMx/hP1BR1B20rOM/uGV2zC/55T/BCzI0ZN3nP0ylI6kaN+k/DVfFIwrw6T8iRteevFzpP01KIKmuEec/6jCypqoX5D8M/LD3RVbhPz5slokqFd4/A0Kpxfm+2j/vPZYdZhjZP/WV7kuJJto/YfZXNEJk1z91CgtRMnfQP8mVOPqxrMc/B3K7XVBbwj/2RPiTCL+8P9W1BWqCv7U/RObjPXvssD9Rk73+VHetPzUn6Fx1EKo/GtV/XDbIpT9tTGE7nuqgP04cAVusSJ0/Ant63B8+nj9NhP4jglqeP+gyhlDdEJ4/wdC4qsutnT/5vyMqVDebP7PmBMNysZc/OPTwR0yulD/8v7AdCKCRP3+3Ocj9pIw/6FEmchcahT96NzXYpPd2P1ZmijIxUEy/aWN6eM4Tab9ek9acGqhnPys9AM0TFIY/Zi9usizpkT+z21D5I4GYP8BaSM8TIJ8/D0L0Lz/zoj/7cxOtw26mP9CbWhsC/qk/yq0MVA2VrT80XQaepo+wP3KWv2asQrI/Ki0Fn0TWsz/8empnKz61P/G5hUGocbY/Tj/Ww/9stz8v6z0WVDS4P7DoyUF40Lg/YDwW6s9PuT/jANlvFsS5P/fB4DcRP7o/ptEFcfXOuj+Fscc82Wq7PzMFAAFKx7s/XZSwoWFSuz8De0ykNJu5P/nJTsiZ6bY/aasEHifrsz/nKUrA6vOwPzKkgyhxs6s/\",\"dtype\":\"float64\",\"shape\":[75]},\"y\":{\"__ndarray__\":\"GhExyth1ND/Sv8nbtpRIP2vylNV0PVE/aTum7souWD/At0SJ8fVgPw3Iuahxymc/MSNhhJWvcD/bTfBN02d3P2zb5nxnaoA/CD5h5MAGhz8NmeH1TyaQP+zrCsc9p5Y/LbKd76fGnz/bLW5ISEmmPww9YvTcQq8/JV2OstnstT8Er5Y7M8G+P0c+r3jqkcU/5h99k6ZBzj88bCIzFzjVP4enV8oyxN0//yH99nXg5D8qOpLLf0jtP5kqGJXUifQ/c9cS8kHP/D+/DpwzojQEQIEmwoanVwxA4lgXt9HgE0BSSZ2AJuIbQAMJih9jjiNA5q4l5INuK0AwTKYKRj0zQNv5fmq8/DpAaCJseHrtQkB/+zpwzoxKQM3MzMzMeFJAZmZmZmZqWEAAAAAAAFxeQM3MzMzMJmJAmpmZmZkfZUBmZmZmZhhoQDMzMzMzEWtAAAAAAAAKbkBmZmZmZoFwQM3MzMzM/XFAMzMzMzN6c0CamZmZmfZ0QAAAAAAAc3ZAZmZmZmbvd0DNzMzMzGt5QDMzMzMz6HpAmpmZmZlkfEAAAAAAAOF9QGZmZmZmXX9AZmZmZuZsgECamZmZGSuBQM3MzMxM6YFAAAAAAICngkAzMzMzs2WDQGZmZmbmI4RAmpmZmRnihEDNzMzMTKCFQAAAAACAXoZAMzMzM7Mch0BmZmZm5tqHQJqZmZkZmYhAzczMzExXiUAAAAAAgBWKQDMzMzOz04pAZmZmZuaRi0CamZmZGVCMQM3MzMxMDo1AAAAAAIDMjUAzMzMzs4qOQGZmZmbmSI9A\",\"dtype\":\"float64\",\"shape\":[75]}},\"selected\":{\"id\":\"ab8419a8-d34c-4b76-8b5c-9b9ecb02fdd7\",\"type\":\"Selection\"},\"selection_policy\":{\"id\":\"cff5267b-f3bc-49a3-9300-acad17c30669\",\"type\":\"UnionRenderers\"}},\"id\":\"974b20df-04f6-4858-96e7-4f3af01b5831\",\"type\":\"ColumnDataSource\"},{\"attributes\":{\"bottom_units\":\"screen\",\"fill_alpha\":{\"value\":0.5},\"fill_color\":{\"value\":\"lightgrey\"},\"left_units\":\"screen\",\"level\":\"overlay\",\"line_alpha\":{\"value\":1.0},\"line_color\":{\"value\":\"black\"},\"line_dash\":[4,4],\"line_width\":{\"value\":2},\"plot\":null,\"render_mode\":\"css\",\"right_units\":\"screen\",\"top_units\":\"screen\"},\"id\":\"4f383321-c1ed-467d-a359-c69ec03ed49c\",\"type\":\"BoxAnnotation\"},{\"attributes\":{},\"id\":\"c19fc9cc-76ee-41dc-86a1-6b447f2b14c4\",\"type\":\"PanTool\"},{\"attributes\":{},\"id\":\"5a7609cc-d290-4faa-8a25-72656b33a7f8\",\"type\":\"WheelZoomTool\"},{\"attributes\":{\"callback\":null,\"data\":{\"x\":{\"__ndarray__\":\"tVU3gWN7i78/kxCz9rp2P5kkngUE564/vBnapbLNvj8uc/xI+PvHP5nEUaDsudA/nwKiWFXM1T+BfhlrAyDbP6BDrg5fSuA/qNImuYn74j/+L3R4Sn/lPxeqcgyOs+c/ChoKCkln6T95cH9Ht9LpP3+agzUIUug/B470N9ub5T+6Jf+0zYTiPyR28adb8N4/Y08zi+0B2j85seogbWvXP4BiIq1Khdg/SaUSfcKC1j8xf+CFCFPQP7ZMI7k+JMg/I8g5mOrVwj8lNZtkN3W9P24gx1D6tLY/YRxrZRN3sj9jDQAdMtqwP81HSmF7ua4/XWtmYvdzqT+DZJJ1XoGiPwWiio8NrJw/UmUdMD3Rmz+nFYiZ24+cPy+NhT/IVJ8/Jesk5k/XoD+3kYIMvBGgP5iNA+z5U5w/iuO78itmmD9keVc9YB6UP/hz3LnI7o4/y0YDUkSBhD9/P9jIvrtvP2AWjxnMCXC/uMBfeJcefL+7VSJU2jdPv0TtvOY8t30/udvrYKEvjT/SezqJzlOVP1dvMnzU95s/KVvv+nZZoT/zfY//pM+kP5iIt86/Xag/1H3xJm7+qz9ObjKvxZyvPxE5rXZ1kLE/0wZ+WXw4sz/+Vfn+A7W0P2uI7ZgBAbY/BQC6dDsXtz8IDzMx5vm3Pxyw6Cxss7g/45UhF2dPuT+6CaXMWeG5P0fZjQQ7ero/Bl1n6EQnuz9h+XemZd67PyApnoqGUrw/p1oswbnxuz/PBsueJUS6P1aHjcZimrc/43jqA1yftD+X34WHEqixP4J6gfkuHK0/\",\"dtype\":\"float64\",\"shape\":[75]},\"y\":{\"__ndarray__\":\"GhExyth1ND/Sv8nbtpRIP2vylNV0PVE/aTum7souWD/At0SJ8fVgPw3Iuahxymc/MSNhhJWvcD/bTfBN02d3P2zb5nxnaoA/CD5h5MAGhz8NmeH1TyaQP+zrCsc9p5Y/LbKd76fGnz/bLW5ISEmmPww9YvTcQq8/JV2OstnstT8Er5Y7M8G+P0c+r3jqkcU/5h99k6ZBzj88bCIzFzjVP4enV8oyxN0//yH99nXg5D8qOpLLf0jtP5kqGJXUifQ/c9cS8kHP/D+/DpwzojQEQIEmwoanVwxA4lgXt9HgE0BSSZ2AJuIbQAMJih9jjiNA5q4l5INuK0AwTKYKRj0zQNv5fmq8/DpAaCJseHrtQkB/+zpwzoxKQM3MzMzMeFJAZmZmZmZqWEAAAAAAAFxeQM3MzMzMJmJAmpmZmZkfZUBmZmZmZhhoQDMzMzMzEWtAAAAAAAAKbkBmZmZmZoFwQM3MzMzM/XFAMzMzMzN6c0CamZmZmfZ0QAAAAAAAc3ZAZmZmZmbvd0DNzMzMzGt5QDMzMzMz6HpAmpmZmZlkfEAAAAAAAOF9QGZmZmZmXX9AZmZmZuZsgECamZmZGSuBQM3MzMxM6YFAAAAAAICngkAzMzMzs2WDQGZmZmbmI4RAmpmZmRnihEDNzMzMTKCFQAAAAACAXoZAMzMzM7Mch0BmZmZm5tqHQJqZmZkZmYhAzczMzExXiUAAAAAAgBWKQDMzMzOz04pAZmZmZuaRi0CamZmZGVCMQM3MzMxMDo1AAAAAAIDMjUAzMzMzs4qOQGZmZmbmSI9A\",\"dtype\":\"float64\",\"shape\":[75]}},\"selected\":{\"id\":\"f61dd254-89f6-4849-849f-33c13e80ca2c\",\"type\":\"Selection\"},\"selection_policy\":{\"id\":\"99e07337-a4ef-4a04-b778-ddab54256653\",\"type\":\"UnionRenderers\"}},\"id\":\"b534c1bc-b83d-43cd-8106-300585ff23f0\",\"type\":\"ColumnDataSource\"},{\"attributes\":{\"overlay\":{\"id\":\"4f383321-c1ed-467d-a359-c69ec03ed49c\",\"type\":\"BoxAnnotation\"}},\"id\":\"70507782-a88c-4268-b6c6-9ae520019793\",\"type\":\"BoxZoomTool\"},{\"attributes\":{},\"id\":\"d9a0802d-6487-41ab-845b-86e68d8f8cbe\",\"type\":\"ResetTool\"},{\"attributes\":{\"fill_alpha\":{\"value\":0.7},\"fill_color\":{\"value\":\"#4daf4a\"},\"line_alpha\":{\"value\":0.7},\"line_color\":{\"value\":\"#4daf4a\"},\"x\":{\"field\":\"x\"},\"y\":{\"field\":\"y\"}},\"id\":\"dd55e900-9bac-4cef-8392-d2ab7ef03654\",\"type\":\"Circle\"},{\"attributes\":{},\"id\":\"b96c5e5b-459a-474a-bd4e-25478bb3e572\",\"type\":\"HelpTool\"},{\"attributes\":{\"line_color\":\"#4daf4a\",\"line_width\":1.5,\"x\":{\"field\":\"x\"},\"y\":{\"field\":\"y\"}},\"id\":\"e01be967-459b-44e3-b43f-edbfa8f04731\",\"type\":\"Line\"},{\"attributes\":{\"fill_alpha\":{\"value\":0.7},\"fill_color\":{\"value\":\"#984ea3\"},\"line_alpha\":{\"value\":0.7},\"line_color\":{\"value\":\"#984ea3\"},\"x\":{\"field\":\"x\"},\"y\":{\"field\":\"y\"}},\"id\":\"15782dcb-0038-429f-8768-d1c62fe74032\",\"type\":\"Square\"},{\"attributes\":{},\"id\":\"68463694-9e90-449e-91ef-7e39033ab3e5\",\"type\":\"SaveTool\"},{\"attributes\":{\"callback\":null,\"data\":{\"x\":{\"__ndarray__\":\"tVU3gWN7i78/kxCz9rp2P5kkngUE564/vBnapbLNvj8uc/xI+PvHP5nEUaDsudA/nwKiWFXM1T+BfhlrAyDbP6BDrg5fSuA/qNImuYn74j/+L3R4Sn/lPxeqcgyOs+c/ChoKCkln6T95cH9Ht9LpP3+agzUIUug/B470N9ub5T+6Jf+0zYTiPyR28adb8N4/Y08zi+0B2j85seogbWvXP4BiIq1Khdg/SaUSfcKC1j8xf+CFCFPQP7ZMI7k+JMg/I8g5mOrVwj8lNZtkN3W9P24gx1D6tLY/YRxrZRN3sj9jDQAdMtqwP81HSmF7ua4/XWtmYvdzqT+DZJJ1XoGiPwWiio8NrJw/UmUdMD3Rmz+nFYiZ24+cPy+NhT/IVJ8/Jesk5k/XoD+3kYIMvBGgP5iNA+z5U5w/iuO78itmmD9keVc9YB6UP/hz3LnI7o4/y0YDUkSBhD9/P9jIvrtvP2AWjxnMCXC/uMBfeJcefL+7VSJU2jdPv0TtvOY8t30/udvrYKEvjT/SezqJzlOVP1dvMnzU95s/KVvv+nZZoT/zfY//pM+kP5iIt86/Xag/1H3xJm7+qz9ObjKvxZyvPxE5rXZ1kLE/0wZ+WXw4sz/+Vfn+A7W0P2uI7ZgBAbY/BQC6dDsXtz8IDzMx5vm3Pxyw6Cxss7g/45UhF2dPuT+6CaXMWeG5P0fZjQQ7ero/Bl1n6EQnuz9h+XemZd67PyApnoqGUrw/p1oswbnxuz/PBsueJUS6P1aHjcZimrc/43jqA1yftD+X34WHEqixP4J6gfkuHK0/\",\"dtype\":\"float64\",\"shape\":[75]},\"y\":{\"__ndarray__\":\"GhExyth1ND/Sv8nbtpRIP2vylNV0PVE/aTum7souWD/At0SJ8fVgPw3Iuahxymc/MSNhhJWvcD/bTfBN02d3P2zb5nxnaoA/CD5h5MAGhz8NmeH1TyaQP+zrCsc9p5Y/LbKd76fGnz/bLW5ISEmmPww9YvTcQq8/JV2OstnstT8Er5Y7M8G+P0c+r3jqkcU/5h99k6ZBzj88bCIzFzjVP4enV8oyxN0//yH99nXg5D8qOpLLf0jtP5kqGJXUifQ/c9cS8kHP/D+/DpwzojQEQIEmwoanVwxA4lgXt9HgE0BSSZ2AJuIbQAMJih9jjiNA5q4l5INuK0AwTKYKRj0zQNv5fmq8/DpAaCJseHrtQkB/+zpwzoxKQM3MzMzMeFJAZmZmZmZqWEAAAAAAAFxeQM3MzMzMJmJAmpmZmZkfZUBmZmZmZhhoQDMzMzMzEWtAAAAAAAAKbkBmZmZmZoFwQM3MzMzM/XFAMzMzMzN6c0CamZmZmfZ0QAAAAAAAc3ZAZmZmZmbvd0DNzMzMzGt5QDMzMzMz6HpAmpmZmZlkfEAAAAAAAOF9QGZmZmZmXX9AZmZmZuZsgECamZmZGSuBQM3MzMxM6YFAAAAAAICngkAzMzMzs2WDQGZmZmbmI4RAmpmZmRnihEDNzMzMTKCFQAAAAACAXoZAMzMzM7Mch0BmZmZm5tqHQJqZmZkZmYhAzczMzExXiUAAAAAAgBWKQDMzMzOz04pAZmZmZuaRi0CamZmZGVCMQM3MzMxMDo1AAAAAAIDMjUAzMzMzs4qOQGZmZmbmSI9A\",\"dtype\":\"float64\",\"shape\":[75]}},\"selected\":{\"id\":\"eb9edb2c-01c2-4307-89cb-dc03ba11c3af\",\"type\":\"Selection\"},\"selection_policy\":{\"id\":\"a7de1760-53b2-481e-93e2-cc57ad86795e\",\"type\":\"UnionRenderers\"}},\"id\":\"ceb332cf-ac0a-4ca8-b980-702d81fbf095\",\"type\":\"ColumnDataSource\"},{\"attributes\":{\"callback\":null,\"data\":{\"x\":{\"__ndarray__\":\"tVU3gWN7i78/kxCz9rp2P5kkngUE564/vBnapbLNvj8uc/xI+PvHP5nEUaDsudA/nwKiWFXM1T+BfhlrAyDbP6BDrg5fSuA/qNImuYn74j/+L3R4Sn/lPxeqcgyOs+c/ChoKCkln6T95cH9Ht9LpP3+agzUIUug/B470N9ub5T+6Jf+0zYTiPyR28adb8N4/Y08zi+0B2j85seogbWvXP4BiIq1Khdg/SaUSfcKC1j8xf+CFCFPQP7ZMI7k+JMg/I8g5mOrVwj8lNZtkN3W9P24gx1D6tLY/YRxrZRN3sj9jDQAdMtqwP81HSmF7ua4/XWtmYvdzqT+DZJJ1XoGiPwWiio8NrJw/UmUdMD3Rmz+nFYiZ24+cPy+NhT/IVJ8/Jesk5k/XoD+3kYIMvBGgP5iNA+z5U5w/iuO78itmmD9keVc9YB6UP/hz3LnI7o4/y0YDUkSBhD9/P9jIvrtvP2AWjxnMCXC/uMBfeJcefL+7VSJU2jdPv0TtvOY8t30/udvrYKEvjT/SezqJzlOVP1dvMnzU95s/KVvv+nZZoT/zfY//pM+kP5iIt86/Xag/1H3xJm7+qz9ObjKvxZyvPxE5rXZ1kLE/0wZ+WXw4sz/+Vfn+A7W0P2uI7ZgBAbY/BQC6dDsXtz8IDzMx5vm3Pxyw6Cxss7g/45UhF2dPuT+6CaXMWeG5P0fZjQQ7ero/Bl1n6EQnuz9h+XemZd67PyApnoqGUrw/p1oswbnxuz/PBsueJUS6P1aHjcZimrc/43jqA1yftD+X34WHEqixP4J6gfkuHK0/\",\"dtype\":\"float64\",\"shape\":[75]},\"y\":{\"__ndarray__\":\"GhExyth1ND/Sv8nbtpRIP2vylNV0PVE/aTum7souWD/At0SJ8fVgPw3Iuahxymc/MSNhhJWvcD/bTfBN02d3P2zb5nxnaoA/CD5h5MAGhz8NmeH1TyaQP+zrCsc9p5Y/LbKd76fGnz/bLW5ISEmmPww9YvTcQq8/JV2OstnstT8Er5Y7M8G+P0c+r3jqkcU/5h99k6ZBzj88bCIzFzjVP4enV8oyxN0//yH99nXg5D8qOpLLf0jtP5kqGJXUifQ/c9cS8kHP/D+/DpwzojQEQIEmwoanVwxA4lgXt9HgE0BSSZ2AJuIbQAMJih9jjiNA5q4l5INuK0AwTKYKRj0zQNv5fmq8/DpAaCJseHrtQkB/+zpwzoxKQM3MzMzMeFJAZmZmZmZqWEAAAAAAAFxeQM3MzMzMJmJAmpmZmZkfZUBmZmZmZhhoQDMzMzMzEWtAAAAAAAAKbkBmZmZmZoFwQM3MzMzM/XFAMzMzMzN6c0CamZmZmfZ0QAAAAAAAc3ZAZmZmZmbvd0DNzMzMzGt5QDMzMzMz6HpAmpmZmZlkfEAAAAAAAOF9QGZmZmZmXX9AZmZmZuZsgECamZmZGSuBQM3MzMxM6YFAAAAAAICngkAzMzMzs2WDQGZmZmbmI4RAmpmZmRnihEDNzMzMTKCFQAAAAACAXoZAMzMzM7Mch0BmZmZm5tqHQJqZmZkZmYhAzczMzExXiUAAAAAAgBWKQDMzMzOz04pAZmZmZuaRi0CamZmZGVCMQM3MzMxMDo1AAAAAAIDMjUAzMzMzs4qOQGZmZmbmSI9A\",\"dtype\":\"float64\",\"shape\":[75]}},\"selected\":{\"id\":\"fe074337-8ca7-4262-8399-cfb3c1bba5bc\",\"type\":\"Selection\"},\"selection_policy\":{\"id\":\"7b9c3fda-8bf9-4da7-8375-eb6c68f245a0\",\"type\":\"UnionRenderers\"}},\"id\":\"3d729e73-b522-47cc-839c-38bd2f89e7f3\",\"type\":\"ColumnDataSource\"},{\"attributes\":{\"source\":{\"id\":\"1ba62d96-8aa8-45f4-94e9-e69fdc60bab5\",\"type\":\"ColumnDataSource\"}},\"id\":\"58c40fec-3603-4b80-b82c-9477b7954a78\",\"type\":\"CDSView\"},{\"attributes\":{\"data_source\":{\"id\":\"d6538c3f-cec6-4a5e-bdf1-3f9b49c4d196\",\"type\":\"ColumnDataSource\"},\"glyph\":{\"id\":\"a6e24385-5297-4419-a3f2-b2e0c8ed2bfb\",\"type\":\"Circle\"},\"hover_glyph\":null,\"muted_glyph\":null,\"nonselection_glyph\":{\"id\":\"9ca26478-06ba-4a5f-a74f-8ca4388ca1ee\",\"type\":\"Circle\"},\"selection_glyph\":null,\"view\":{\"id\":\"18fd9aed-b06c-4e24-9400-585cab188c7e\",\"type\":\"CDSView\"}},\"id\":\"6c796e00-afd3-4b6b-a642-8d8e2788962f\",\"type\":\"GlyphRenderer\"},{\"attributes\":{\"fill_alpha\":{\"value\":0.1},\"fill_color\":{\"value\":\"#1f77b4\"},\"line_alpha\":{\"value\":0.1},\"line_color\":{\"value\":\"#1f77b4\"},\"x\":{\"field\":\"x\"},\"y\":{\"field\":\"y\"}},\"id\":\"4c479433-e242-4b99-bf66-ddf08803a684\",\"type\":\"Square\"},{\"attributes\":{\"line_color\":\"#4daf4a\",\"line_width\":1.5,\"x\":{\"field\":\"x\"},\"y\":{\"field\":\"y\"}},\"id\":\"d40898e5-9114-47bb-a3c5-94d41731af06\",\"type\":\"Line\"},{\"attributes\":{\"source\":{\"id\":\"3d729e73-b522-47cc-839c-38bd2f89e7f3\",\"type\":\"ColumnDataSource\"}},\"id\":\"b3500632-37bc-4f69-b1fa-76b9c0ff0ae6\",\"type\":\"CDSView\"},{\"attributes\":{\"data_source\":{\"id\":\"b534c1bc-b83d-43cd-8106-300585ff23f0\",\"type\":\"ColumnDataSource\"},\"glyph\":{\"id\":\"15782dcb-0038-429f-8768-d1c62fe74032\",\"type\":\"Square\"},\"hover_glyph\":null,\"muted_glyph\":null,\"nonselection_glyph\":{\"id\":\"4c479433-e242-4b99-bf66-ddf08803a684\",\"type\":\"Square\"},\"selection_glyph\":null,\"view\":{\"id\":\"7c5219c4-e5a6-4c94-9adf-67d2e3eb8588\",\"type\":\"CDSView\"}},\"id\":\"eea33952-3dbf-489b-95bf-0879c791a533\",\"type\":\"GlyphRenderer\"},{\"attributes\":{\"line_alpha\":0.1,\"line_color\":\"#1f77b4\",\"line_width\":1.5,\"x\":{\"field\":\"x\"},\"y\":{\"field\":\"y\"}},\"id\":\"4f83f141-1284-4a11-9f8f-d8d2189c8c36\",\"type\":\"Line\"},{\"attributes\":{\"fill_alpha\":{\"value\":0.1},\"fill_color\":{\"value\":\"#1f77b4\"},\"line_alpha\":{\"value\":0.1},\"line_color\":{\"value\":\"#1f77b4\"},\"x\":{\"field\":\"x\"},\"y\":{\"field\":\"y\"}},\"id\":\"62d1d7b3-5bc9-4bb7-af68-21677f1350d1\",\"type\":\"Square\"},{\"attributes\":{\"source\":{\"id\":\"b534c1bc-b83d-43cd-8106-300585ff23f0\",\"type\":\"ColumnDataSource\"}},\"id\":\"7c5219c4-e5a6-4c94-9adf-67d2e3eb8588\",\"type\":\"CDSView\"},{\"attributes\":{\"children\":[{\"id\":\"64c7c35c-75f7-4a05-8295-201f340cc527\",\"subtype\":\"Figure\",\"type\":\"Plot\"},{\"id\":\"1bbb0ad7-dde0-4388-82ba-2ff90edd39fe\",\"subtype\":\"Figure\",\"type\":\"Plot\"}]},\"id\":\"6698a221-d34e-4948-b292-e0d099dd10eb\",\"type\":\"Row\"},{\"attributes\":{\"label\":{\"value\":\"CLIRAD `coolr_bands`\"},\"renderers\":[{\"id\":\"8ce38e9a-d38f-4af3-badd-aa84a7d2b778\",\"type\":\"GlyphRenderer\"}]},\"id\":\"3330e798-7f02-4ef7-bed1-c4e80acafa63\",\"type\":\"LegendItem\"},{\"attributes\":{\"source\":{\"id\":\"c7b628ee-2471-4e36-a447-27968f7ac030\",\"type\":\"ColumnDataSource\"}},\"id\":\"96c6d681-1a6d-4532-9c23-2510ef0ddb23\",\"type\":\"CDSView\"},{\"attributes\":{},\"id\":\"99a1bc26-b3e3-4903-ba30-1f50dab51ef0\",\"type\":\"UnionRenderers\"},{\"attributes\":{\"label\":{\"value\":\"CRD\"},\"renderers\":[{\"id\":\"7ffca891-6319-47d2-95aa-bf4e891dc410\",\"type\":\"GlyphRenderer\"},{\"id\":\"5b6f1d47-4b1c-44c6-b4bd-525aac9dcbff\",\"type\":\"GlyphRenderer\"}]},\"id\":\"a5818f4b-0dbb-4e4c-9972-c47abcafdd19\",\"type\":\"LegendItem\"},{\"attributes\":{\"line_alpha\":0.1,\"line_color\":\"#1f77b4\",\"line_dash\":[6],\"line_width\":5,\"x\":{\"field\":\"x\"},\"y\":{\"field\":\"y\"}},\"id\":\"ec3c1019-dc24-4804-a12f-6b4eabd0311a\",\"type\":\"Line\"},{\"attributes\":{},\"id\":\"055f6ab9-46dd-479d-8f59-43fd910bd4b0\",\"type\":\"Selection\"},{\"attributes\":{\"source\":{\"id\":\"d6538c3f-cec6-4a5e-bdf1-3f9b49c4d196\",\"type\":\"ColumnDataSource\"}},\"id\":\"18fd9aed-b06c-4e24-9400-585cab188c7e\",\"type\":\"CDSView\"},{\"attributes\":{\"label\":{\"value\":\"WGT igg=10 wgt_flux=2\"},\"renderers\":[{\"id\":\"eea33952-3dbf-489b-95bf-0879c791a533\",\"type\":\"GlyphRenderer\"},{\"id\":\"3c97fca7-61de-42cf-9aa0-c915d9f176b1\",\"type\":\"GlyphRenderer\"}]},\"id\":\"bcfdfb70-fb6e-40b5-818d-0fb734adccfa\",\"type\":\"LegendItem\"},{\"attributes\":{\"ticker\":null},\"id\":\"409f6559-1861-4c54-a506-fc524011aa91\",\"type\":\"LogTickFormatter\"},{\"attributes\":{},\"id\":\"d6421518-5dc5-4252-b788-0b45c27030c5\",\"type\":\"BasicTickFormatter\"},{\"attributes\":{},\"id\":\"68bb53b3-4fab-4d6e-9c95-8144512eb3f9\",\"type\":\"BasicTickFormatter\"},{\"attributes\":{},\"id\":\"ac05ebfa-2c06-4def-b794-7b97a09c4c28\",\"type\":\"UnionRenderers\"},{\"attributes\":{\"data_source\":{\"id\":\"3d729e73-b522-47cc-839c-38bd2f89e7f3\",\"type\":\"ColumnDataSource\"},\"glyph\":{\"id\":\"c5488755-ae49-4d11-8598-d86b16f08a86\",\"type\":\"Line\"},\"hover_glyph\":null,\"muted_glyph\":null,\"nonselection_glyph\":{\"id\":\"1523d3ed-d297-4ee1-9550-2057b3b12a7e\",\"type\":\"Line\"},\"selection_glyph\":null,\"view\":{\"id\":\"b3500632-37bc-4f69-b1fa-76b9c0ff0ae6\",\"type\":\"CDSView\"}},\"id\":\"3c97fca7-61de-42cf-9aa0-c915d9f176b1\",\"type\":\"GlyphRenderer\"},{\"attributes\":{\"source\":{\"id\":\"ceb332cf-ac0a-4ca8-b980-702d81fbf095\",\"type\":\"ColumnDataSource\"}},\"id\":\"33a58f29-5a95-4886-bbf1-2e38071d004e\",\"type\":\"CDSView\"},{\"attributes\":{},\"id\":\"7e3cdeb8-c81c-412e-b15e-426c7c20a3e5\",\"type\":\"UnionRenderers\"},{\"attributes\":{},\"id\":\"1765a1fa-e524-4da4-adba-0e88c3f7cbf3\",\"type\":\"Selection\"},{\"attributes\":{},\"id\":\"985708bf-1fd7-4838-94dc-2a937ae442c7\",\"type\":\"Selection\"},{\"attributes\":{},\"id\":\"a7de1760-53b2-481e-93e2-cc57ad86795e\",\"type\":\"UnionRenderers\"},{\"attributes\":{},\"id\":\"8737a675-f516-4850-8dd0-e77a6ed29312\",\"type\":\"UnionRenderers\"},{\"attributes\":{},\"id\":\"5ab23593-41ab-41fe-a5cd-2927d3d16567\",\"type\":\"UnionRenderers\"},{\"attributes\":{},\"id\":\"eb9edb2c-01c2-4307-89cb-dc03ba11c3af\",\"type\":\"Selection\"},{\"attributes\":{\"data_source\":{\"id\":\"c7b628ee-2471-4e36-a447-27968f7ac030\",\"type\":\"ColumnDataSource\"},\"glyph\":{\"id\":\"131d0f37-118f-4bb2-946e-a43b488b11f9\",\"type\":\"Line\"},\"hover_glyph\":null,\"muted_glyph\":null,\"nonselection_glyph\":{\"id\":\"ec3c1019-dc24-4804-a12f-6b4eabd0311a\",\"type\":\"Line\"},\"selection_glyph\":null,\"view\":{\"id\":\"96c6d681-1a6d-4532-9c23-2510ef0ddb23\",\"type\":\"CDSView\"}},\"id\":\"8ce38e9a-d38f-4af3-badd-aa84a7d2b778\",\"type\":\"GlyphRenderer\"},{\"attributes\":{},\"id\":\"27748e8a-04e2-41b8-b005-2bfc5396e08c\",\"type\":\"UnionRenderers\"},{\"attributes\":{\"source\":{\"id\":\"ee900fa0-d74f-4eac-942a-55172a64536a\",\"type\":\"ColumnDataSource\"}},\"id\":\"8c0e8506-80d6-437d-ad65-65eae8d1cb5f\",\"type\":\"CDSView\"},{\"attributes\":{},\"id\":\"80634cb4-57ab-4863-91f4-c18e0256bc05\",\"type\":\"Selection\"},{\"attributes\":{\"children\":[{\"id\":\"4bc70edd-7153-4263-b21a-ff3172e4c863\",\"type\":\"ToolbarBox\"},{\"id\":\"fdd5f9df-a32e-4a7d-b237-8d46ce99c804\",\"type\":\"Column\"}]},\"id\":\"7a6cd16c-e2d3-48b8-be7c-165bd2f16e11\",\"type\":\"Column\"},{\"attributes\":{\"line_alpha\":0.1,\"line_color\":\"#1f77b4\",\"line_width\":3,\"x\":{\"field\":\"x\"},\"y\":{\"field\":\"y\"}},\"id\":\"1523d3ed-d297-4ee1-9550-2057b3b12a7e\",\"type\":\"Line\"},{\"attributes\":{},\"id\":\"4314012f-8496-4cde-a6f9-0c207172f6ff\",\"type\":\"BasicTickFormatter\"},{\"attributes\":{},\"id\":\"cff5267b-f3bc-49a3-9300-acad17c30669\",\"type\":\"UnionRenderers\"},{\"attributes\":{\"fill_alpha\":{\"value\":0.1},\"fill_color\":{\"value\":\"#1f77b4\"},\"line_alpha\":{\"value\":0.1},\"line_color\":{\"value\":\"#1f77b4\"},\"x\":{\"field\":\"x\"},\"y\":{\"field\":\"y\"}},\"id\":\"9ca26478-06ba-4a5f-a74f-8ca4388ca1ee\",\"type\":\"Circle\"},{\"attributes\":{},\"id\":\"57755a08-d758-437b-afb7-f09f138a1ae1\",\"type\":\"Selection\"},{\"attributes\":{},\"id\":\"23163d17-dd5a-4866-aee2-7e312a062f63\",\"type\":\"Selection\"},{\"attributes\":{\"data_source\":{\"id\":\"ee900fa0-d74f-4eac-942a-55172a64536a\",\"type\":\"ColumnDataSource\"},\"glyph\":{\"id\":\"e01be967-459b-44e3-b43f-edbfa8f04731\",\"type\":\"Line\"},\"hover_glyph\":null,\"muted_glyph\":null,\"nonselection_glyph\":{\"id\":\"4f83f141-1284-4a11-9f8f-d8d2189c8c36\",\"type\":\"Line\"},\"selection_glyph\":null,\"view\":{\"id\":\"8c0e8506-80d6-437d-ad65-65eae8d1cb5f\",\"type\":\"CDSView\"}},\"id\":\"737e091a-08de-4a7e-9876-0703d0525abb\",\"type\":\"GlyphRenderer\"},{\"attributes\":{},\"id\":\"ab8419a8-d34c-4b76-8b5c-9b9ecb02fdd7\",\"type\":\"Selection\"},{\"attributes\":{},\"id\":\"99e07337-a4ef-4a04-b778-ddab54256653\",\"type\":\"UnionRenderers\"},{\"attributes\":{},\"id\":\"7b9c3fda-8bf9-4da7-8375-eb6c68f245a0\",\"type\":\"UnionRenderers\"},{\"attributes\":{},\"id\":\"05a73bf0-a5a6-45eb-9d72-5509ca8ede29\",\"type\":\"LogScale\"},{\"attributes\":{},\"id\":\"f61dd254-89f6-4849-849f-33c13e80ca2c\",\"type\":\"Selection\"},{\"attributes\":{},\"id\":\"fe074337-8ca7-4262-8399-cfb3c1bba5bc\",\"type\":\"Selection\"},{\"attributes\":{\"toolbar\":{\"id\":\"e5db39d2-4c01-49ee-aea1-1f124782b180\",\"type\":\"ProxyToolbar\"},\"toolbar_location\":\"above\"},\"id\":\"4bc70edd-7153-4263-b21a-ff3172e4c863\",\"type\":\"ToolbarBox\"},{\"attributes\":{\"tools\":[{\"id\":\"c07f9319-f4f0-4c53-8a74-39710b4a4461\",\"type\":\"PanTool\"},{\"id\":\"43067d83-d85a-4c35-9357-45dc6b6d1d62\",\"type\":\"WheelZoomTool\"},{\"id\":\"6d5ea61c-5820-4b67-8aa0-d5b23f4c44e1\",\"type\":\"BoxZoomTool\"},{\"id\":\"2afe773b-66f7-4f6c-b44e-dc9991ac0c5b\",\"type\":\"SaveTool\"},{\"id\":\"b5219dc1-407f-4852-ab6d-db8f254c6320\",\"type\":\"ResetTool\"},{\"id\":\"8704b500-dff9-4dd2-97b6-88aae62c5f16\",\"type\":\"HelpTool\"},{\"id\":\"c19fc9cc-76ee-41dc-86a1-6b447f2b14c4\",\"type\":\"PanTool\"},{\"id\":\"5a7609cc-d290-4faa-8a25-72656b33a7f8\",\"type\":\"WheelZoomTool\"},{\"id\":\"70507782-a88c-4268-b6c6-9ae520019793\",\"type\":\"BoxZoomTool\"},{\"id\":\"68463694-9e90-449e-91ef-7e39033ab3e5\",\"type\":\"SaveTool\"},{\"id\":\"d9a0802d-6487-41ab-845b-86e68d8f8cbe\",\"type\":\"ResetTool\"},{\"id\":\"b96c5e5b-459a-474a-bd4e-25478bb3e572\",\"type\":\"HelpTool\"}]},\"id\":\"e5db39d2-4c01-49ee-aea1-1f124782b180\",\"type\":\"ProxyToolbar\"},{\"attributes\":{\"callback\":null,\"data\":{\"x\":{\"__ndarray__\":\"fRNAuqPCrT8VLYpohTO0P5ae4bR9G8I/0XGY3OYVyz/vULkuoWfSP3W4Lfymkdc/4JSgXKbo3D9RTN4AMx/hP1BR1B20rOM/uGV2zC/55T/BCzI0ZN3nP0ylI6kaN+k/DVfFIwrw6T8iRteevFzpP01KIKmuEec/6jCypqoX5D8M/LD3RVbhPz5slokqFd4/A0Kpxfm+2j/vPZYdZhjZP/WV7kuJJto/YfZXNEJk1z91CgtRMnfQP8mVOPqxrMc/B3K7XVBbwj/2RPiTCL+8P9W1BWqCv7U/RObjPXvssD9Rk73+VHetPzUn6Fx1EKo/GtV/XDbIpT9tTGE7nuqgP04cAVusSJ0/Ant63B8+nj9NhP4jglqeP+gyhlDdEJ4/wdC4qsutnT/5vyMqVDebP7PmBMNysZc/OPTwR0yulD/8v7AdCKCRP3+3Ocj9pIw/6FEmchcahT96NzXYpPd2P1ZmijIxUEy/aWN6eM4Tab9ek9acGqhnPys9AM0TFIY/Zi9usizpkT+z21D5I4GYP8BaSM8TIJ8/D0L0Lz/zoj/7cxOtw26mP9CbWhsC/qk/yq0MVA2VrT80XQaepo+wP3KWv2asQrI/Ki0Fn0TWsz/8empnKz61P/G5hUGocbY/Tj/Ww/9stz8v6z0WVDS4P7DoyUF40Lg/YDwW6s9PuT/jANlvFsS5P/fB4DcRP7o/ptEFcfXOuj+Fscc82Wq7PzMFAAFKx7s/XZSwoWFSuz8De0ykNJu5P/nJTsiZ6bY/aasEHifrsz/nKUrA6vOwPzKkgyhxs6s/\",\"dtype\":\"float64\",\"shape\":[75]},\"y\":{\"__ndarray__\":\"GhExyth1ND/Sv8nbtpRIP2vylNV0PVE/aTum7souWD/At0SJ8fVgPw3Iuahxymc/MSNhhJWvcD/bTfBN02d3P2zb5nxnaoA/CD5h5MAGhz8NmeH1TyaQP+zrCsc9p5Y/LbKd76fGnz/bLW5ISEmmPww9YvTcQq8/JV2OstnstT8Er5Y7M8G+P0c+r3jqkcU/5h99k6ZBzj88bCIzFzjVP4enV8oyxN0//yH99nXg5D8qOpLLf0jtP5kqGJXUifQ/c9cS8kHP/D+/DpwzojQEQIEmwoanVwxA4lgXt9HgE0BSSZ2AJuIbQAMJih9jjiNA5q4l5INuK0AwTKYKRj0zQNv5fmq8/DpAaCJseHrtQkB/+zpwzoxKQM3MzMzMeFJAZmZmZmZqWEAAAAAAAFxeQM3MzMzMJmJAmpmZmZkfZUBmZmZmZhhoQDMzMzMzEWtAAAAAAAAKbkBmZmZmZoFwQM3MzMzM/XFAMzMzMzN6c0CamZmZmfZ0QAAAAAAAc3ZAZmZmZmbvd0DNzMzMzGt5QDMzMzMz6HpAmpmZmZlkfEAAAAAAAOF9QGZmZmZmXX9AZmZmZuZsgECamZmZGSuBQM3MzMxM6YFAAAAAAICngkAzMzMzs2WDQGZmZmbmI4RAmpmZmRnihEDNzMzMTKCFQAAAAACAXoZAMzMzM7Mch0BmZmZm5tqHQJqZmZkZmYhAzczMzExXiUAAAAAAgBWKQDMzMzOz04pAZmZmZuaRi0CamZmZGVCMQM3MzMxMDo1AAAAAAIDMjUAzMzMzs4qOQGZmZmbmSI9A\",\"dtype\":\"float64\",\"shape\":[75]}},\"selected\":{\"id\":\"985708bf-1fd7-4838-94dc-2a937ae442c7\",\"type\":\"Selection\"},\"selection_policy\":{\"id\":\"7e3cdeb8-c81c-412e-b15e-426c7c20a3e5\",\"type\":\"UnionRenderers\"}},\"id\":\"ee900fa0-d74f-4eac-942a-55172a64536a\",\"type\":\"ColumnDataSource\"},{\"attributes\":{\"children\":[{\"id\":\"6698a221-d34e-4948-b292-e0d099dd10eb\",\"type\":\"Row\"}]},\"id\":\"fdd5f9df-a32e-4a7d-b237-8d46ce99c804\",\"type\":\"Column\"},{\"attributes\":{\"callback\":null,\"data\":{\"x\":{\"__ndarray__\":\"fRNAuqPCrT8VLYpohTO0P5ae4bR9G8I/0XGY3OYVyz/vULkuoWfSP3W4Lfymkdc/4JSgXKbo3D9RTN4AMx/hP1BR1B20rOM/uGV2zC/55T/BCzI0ZN3nP0ylI6kaN+k/DVfFIwrw6T8iRteevFzpP01KIKmuEec/6jCypqoX5D8M/LD3RVbhPz5slokqFd4/A0Kpxfm+2j/vPZYdZhjZP/WV7kuJJto/YfZXNEJk1z91CgtRMnfQP8mVOPqxrMc/B3K7XVBbwj/2RPiTCL+8P9W1BWqCv7U/RObjPXvssD9Rk73+VHetPzUn6Fx1EKo/GtV/XDbIpT9tTGE7nuqgP04cAVusSJ0/Ant63B8+nj9NhP4jglqeP+gyhlDdEJ4/wdC4qsutnT/5vyMqVDebP7PmBMNysZc/OPTwR0yulD/8v7AdCKCRP3+3Ocj9pIw/6FEmchcahT96NzXYpPd2P1ZmijIxUEy/aWN6eM4Tab9ek9acGqhnPys9AM0TFIY/Zi9usizpkT+z21D5I4GYP8BaSM8TIJ8/D0L0Lz/zoj/7cxOtw26mP9CbWhsC/qk/yq0MVA2VrT80XQaepo+wP3KWv2asQrI/Ki0Fn0TWsz/8empnKz61P/G5hUGocbY/Tj/Ww/9stz8v6z0WVDS4P7DoyUF40Lg/YDwW6s9PuT/jANlvFsS5P/fB4DcRP7o/ptEFcfXOuj+Fscc82Wq7PzMFAAFKx7s/XZSwoWFSuz8De0ykNJu5P/nJTsiZ6bY/aasEHifrsz/nKUrA6vOwPzKkgyhxs6s/\",\"dtype\":\"float64\",\"shape\":[75]},\"y\":{\"__ndarray__\":\"GhExyth1ND/Sv8nbtpRIP2vylNV0PVE/aTum7souWD/At0SJ8fVgPw3Iuahxymc/MSNhhJWvcD/bTfBN02d3P2zb5nxnaoA/CD5h5MAGhz8NmeH1TyaQP+zrCsc9p5Y/LbKd76fGnz/bLW5ISEmmPww9YvTcQq8/JV2OstnstT8Er5Y7M8G+P0c+r3jqkcU/5h99k6ZBzj88bCIzFzjVP4enV8oyxN0//yH99nXg5D8qOpLLf0jtP5kqGJXUifQ/c9cS8kHP/D+/DpwzojQEQIEmwoanVwxA4lgXt9HgE0BSSZ2AJuIbQAMJih9jjiNA5q4l5INuK0AwTKYKRj0zQNv5fmq8/DpAaCJseHrtQkB/+zpwzoxKQM3MzMzMeFJAZmZmZmZqWEAAAAAAAFxeQM3MzMzMJmJAmpmZmZkfZUBmZmZmZhhoQDMzMzMzEWtAAAAAAAAKbkBmZmZmZoFwQM3MzMzM/XFAMzMzMzN6c0CamZmZmfZ0QAAAAAAAc3ZAZmZmZmbvd0DNzMzMzGt5QDMzMzMz6HpAmpmZmZlkfEAAAAAAAOF9QGZmZmZmXX9AZmZmZuZsgECamZmZGSuBQM3MzMxM6YFAAAAAAICngkAzMzMzs2WDQGZmZmbmI4RAmpmZmRnihEDNzMzMTKCFQAAAAACAXoZAMzMzM7Mch0BmZmZm5tqHQJqZmZkZmYhAzczMzExXiUAAAAAAgBWKQDMzMzOz04pAZmZmZuaRi0CamZmZGVCMQM3MzMxMDo1AAAAAAIDMjUAzMzMzs4qOQGZmZmbmSI9A\",\"dtype\":\"float64\",\"shape\":[75]}},\"selected\":{\"id\":\"1765a1fa-e524-4da4-adba-0e88c3f7cbf3\",\"type\":\"Selection\"},\"selection_policy\":{\"id\":\"99a1bc26-b3e3-4903-ba30-1f50dab51ef0\",\"type\":\"UnionRenderers\"}},\"id\":\"d6538c3f-cec6-4a5e-bdf1-3f9b49c4d196\",\"type\":\"ColumnDataSource\"},{\"attributes\":{\"line_alpha\":0.6,\"line_color\":\"#e41a1c\",\"line_dash\":[6],\"line_width\":5,\"x\":{\"field\":\"x\"},\"y\":{\"field\":\"y\"}},\"id\":\"131d0f37-118f-4bb2-946e-a43b488b11f9\",\"type\":\"Line\"},{\"attributes\":{\"callback\":null,\"data\":{\"x\":{\"__ndarray__\":\"fRNAuqPCrT8VLYpohTO0P5ae4bR9G8I/0XGY3OYVyz/vULkuoWfSP3W4Lfymkdc/4JSgXKbo3D9RTN4AMx/hP1BR1B20rOM/uGV2zC/55T/BCzI0ZN3nP0ylI6kaN+k/DVfFIwrw6T8iRteevFzpP01KIKmuEec/6jCypqoX5D8M/LD3RVbhPz5slokqFd4/A0Kpxfm+2j/vPZYdZhjZP/WV7kuJJto/YfZXNEJk1z91CgtRMnfQP8mVOPqxrMc/B3K7XVBbwj/2RPiTCL+8P9W1BWqCv7U/RObjPXvssD9Rk73+VHetPzUn6Fx1EKo/GtV/XDbIpT9tTGE7nuqgP04cAVusSJ0/Ant63B8+nj9NhP4jglqeP+gyhlDdEJ4/wdC4qsutnT/5vyMqVDebP7PmBMNysZc/OPTwR0yulD/8v7AdCKCRP3+3Ocj9pIw/6FEmchcahT96NzXYpPd2P1ZmijIxUEy/aWN6eM4Tab9ek9acGqhnPys9AM0TFIY/Zi9usizpkT+z21D5I4GYP8BaSM8TIJ8/D0L0Lz/zoj/7cxOtw26mP9CbWhsC/qk/yq0MVA2VrT80XQaepo+wP3KWv2asQrI/Ki0Fn0TWsz/8empnKz61P/G5hUGocbY/Tj/Ww/9stz8v6z0WVDS4P7DoyUF40Lg/YDwW6s9PuT/jANlvFsS5P/fB4DcRP7o/ptEFcfXOuj+Fscc82Wq7PzMFAAFKx7s/XZSwoWFSuz8De0ykNJu5P/nJTsiZ6bY/aasEHifrsz/nKUrA6vOwPzKkgyhxs6s/\",\"dtype\":\"float64\",\"shape\":[75]},\"y\":{\"__ndarray__\":\"GhExyth1ND/Sv8nbtpRIP2vylNV0PVE/aTum7souWD/At0SJ8fVgPw3Iuahxymc/MSNhhJWvcD/bTfBN02d3P2zb5nxnaoA/CD5h5MAGhz8NmeH1TyaQP+zrCsc9p5Y/LbKd76fGnz/bLW5ISEmmPww9YvTcQq8/JV2OstnstT8Er5Y7M8G+P0c+r3jqkcU/5h99k6ZBzj88bCIzFzjVP4enV8oyxN0//yH99nXg5D8qOpLLf0jtP5kqGJXUifQ/c9cS8kHP/D+/DpwzojQEQIEmwoanVwxA4lgXt9HgE0BSSZ2AJuIbQAMJih9jjiNA5q4l5INuK0AwTKYKRj0zQNv5fmq8/DpAaCJseHrtQkB/+zpwzoxKQM3MzMzMeFJAZmZmZmZqWEAAAAAAAFxeQM3MzMzMJmJAmpmZmZkfZUBmZmZmZhhoQDMzMzMzEWtAAAAAAAAKbkBmZmZmZoFwQM3MzMzM/XFAMzMzMzN6c0CamZmZmfZ0QAAAAAAAc3ZAZmZmZmbvd0DNzMzMzGt5QDMzMzMz6HpAmpmZmZlkfEAAAAAAAOF9QGZmZmZmXX9AZmZmZuZsgECamZmZGSuBQM3MzMxM6YFAAAAAAICngkAzMzMzs2WDQGZmZmbmI4RAmpmZmRnihEDNzMzMTKCFQAAAAACAXoZAMzMzM7Mch0BmZmZm5tqHQJqZmZkZmYhAzczMzExXiUAAAAAAgBWKQDMzMzOz04pAZmZmZuaRi0CamZmZGVCMQM3MzMxMDo1AAAAAAIDMjUAzMzMzs4qOQGZmZmbmSI9A\",\"dtype\":\"float64\",\"shape\":[75]}},\"selected\":{\"id\":\"23163d17-dd5a-4866-aee2-7e312a062f63\",\"type\":\"Selection\"},\"selection_policy\":{\"id\":\"5ab23593-41ab-41fe-a5cd-2927d3d16567\",\"type\":\"UnionRenderers\"}},\"id\":\"1ba62d96-8aa8-45f4-94e9-e69fdc60bab5\",\"type\":\"ColumnDataSource\"},{\"attributes\":{\"callback\":null,\"data\":{\"x\":{\"__ndarray__\":\"2t2/VmLOpL8ukcmxDqqVv5N49QGzCJo/DvLYoSo+tD8WuyKdJtjBP5on1xTIbMo/b20bJTMH0j98UEgZDlfXP0HHmtNdAN0/3sVenLZu4T+6WAf2TlvkP6BhvZNHHuc/waOVlB566T89oykSfo/qPxt0+FqGjuk//UpK7m7t5j/gEOzwvmfjPwMzEfyQM98/5d8+3QbW2D9cRn+ikZPVPytoWmJl9NY/Wl6gQZbH1T+2bVKwSlLQP2vhiYtpx8g/ykPwCSOHwz9yO03J5mi+P/M5Y9d3d7c/F/LTe9Qmsz+W6pXBN56xPwkP0gdWy68/HB3Hd3i7qT83ietfLOihP7F1UFmyApo/cVevIqMDmD9+05shuj+ZP+21awX3Sp0/SwH3qRsJoD+tsWDvuaSePx6BOEIY1Zo/L+DSIrzslj+hBj7Mf8SSP7a3JqAzsIw/B1gAmwC/gj+5k4nMNfRqP3MrPNuny3C/lJDKgDM5fL8cshTYgi9Tv4sJuays73s/TuGCGFowjD/Nx6sv78qUP5IQSjdAa5s/w/NXausXoT/XTifoFaCkPwKGyXqIS6g/j0C59tABrD8wu9EOUsyvPz2I5v8qx7E/M7uOOxySsz8g0wpuzDS1P+uQXn7unrY/dcdd4prLtz/5VwNSasi4P8LPeFV5mLk/JWmKQsNJuj97wm3Imuy6PxOGO/Y3kbs/RgOAfGw/vD/elXbNWPK8P5DX5nOsWr0/8c+xKJHpvD8XTJknGTG7P+shM3rid7g/9ZQHr35otT8u9fGl91qyP5pGfO+7Xq4/\",\"dtype\":\"float64\",\"shape\":[75]},\"y\":{\"__ndarray__\":\"S/O/Q+51ND/Sv8nbtpRIP2vylNV0PVE/aTum7souWD/At0SJ8fVgPw3Iuahxymc/MSNhhJWvcD/bTfBN02d3P2zb5nxnaoA/CD5h5MAGhz8NmeH1TyaQP+zrCsc9p5Y/LbKd76fGnz/bLW5ISEmmPww9YvTcQq8/JV2OstnstT8Er5Y7M8G+P0c+r3jqkcU/5h99k6ZBzj88bCIzFzjVP4enV8oyxN0//yH99nXg5D8qOpLLf0jtP5kqGJXUifQ/c9cS8kHP/D+/DpwzojQEQIEmwoanVwxA4lgXt9HgE0BSSZ2AJuIbQAMJih9jjiNA5q4l5INuK0AwTKYKRj0zQNv5fmq8/DpAaCJseHrtQkB/+zpwzoxKQM3MzMzMeFJAZmZmZmZqWEAAAAAAAFxeQM3MzMzMJmJAmpmZmZkfZUBmZmZmZhhoQDMzMzMzEWtAAAAAAAAKbkBmZmZmZoFwQM3MzMzM/XFAMzMzMzN6c0CamZmZmfZ0QAAAAAAAc3ZAZmZmZmbvd0DNzMzMzGt5QDMzMzMz6HpAmpmZmZlkfEAAAAAAAOF9QGZmZmZmXX9AZmZmZuZsgECamZmZGSuBQM3MzMxM6YFAAAAAAICngkAzMzMzs2WDQGZmZmbmI4RAmpmZmRnihEDNzMzMTKCFQAAAAACAXoZAMzMzM7Mch0BmZmZm5tqHQJqZmZkZmYhAzczMzExXiUAAAAAAgBWKQDMzMzOz04pAZmZmZuaRi0CamZmZGVCMQM3MzMxMDo1AAAAAAIDMjUAzMzMzs4qOQGZmZmbmSI9A\",\"dtype\":\"float64\",\"shape\":[75]}},\"selected\":{\"id\":\"57755a08-d758-437b-afb7-f09f138a1ae1\",\"type\":\"Selection\"},\"selection_policy\":{\"id\":\"27748e8a-04e2-41b8-b005-2bfc5396e08c\",\"type\":\"UnionRenderers\"}},\"id\":\"c7b628ee-2471-4e36-a447-27968f7ac030\",\"type\":\"ColumnDataSource\"},{\"attributes\":{\"fill_alpha\":{\"value\":0.7},\"fill_color\":{\"value\":\"#984ea3\"},\"line_alpha\":{\"value\":0.7},\"line_color\":{\"value\":\"#984ea3\"},\"x\":{\"field\":\"x\"},\"y\":{\"field\":\"y\"}},\"id\":\"730bfb7e-0650-42a7-9994-294fc4a854fe\",\"type\":\"Square\"},{\"attributes\":{\"line_alpha\":0.6,\"line_color\":\"#984ea3\",\"line_width\":3,\"x\":{\"field\":\"x\"},\"y\":{\"field\":\"y\"}},\"id\":\"c5488755-ae49-4d11-8598-d86b16f08a86\",\"type\":\"Line\"},{\"attributes\":{\"data_source\":{\"id\":\"ceb332cf-ac0a-4ca8-b980-702d81fbf095\",\"type\":\"ColumnDataSource\"},\"glyph\":{\"id\":\"730bfb7e-0650-42a7-9994-294fc4a854fe\",\"type\":\"Square\"},\"hover_glyph\":null,\"muted_glyph\":null,\"nonselection_glyph\":{\"id\":\"62d1d7b3-5bc9-4bb7-af68-21677f1350d1\",\"type\":\"Square\"},\"selection_glyph\":null,\"view\":{\"id\":\"33a58f29-5a95-4886-bbf1-2e38071d004e\",\"type\":\"CDSView\"}},\"id\":\"38177a5c-c0b0-484b-bf43-bd2dd03f7168\",\"type\":\"GlyphRenderer\"}],\"root_ids\":[\"7a6cd16c-e2d3-48b8-be7c-165bd2f16e11\"]},\"title\":\"Bokeh Application\",\"version\":\"0.12.16\"}};\n",
       "  var render_items = [{\"docid\":\"4820aecb-65ef-4ad8-a05f-53d0f840ab24\",\"elementid\":\"5fbe2293-b09e-405b-afc0-ec3d1fb9fbe8\",\"modelid\":\"7a6cd16c-e2d3-48b8-be7c-165bd2f16e11\"}];\n",
       "  root.Bokeh.embed.embed_items_notebook(docs_json, render_items);\n",
       "\n",
       "  }\n",
       "  if (root.Bokeh !== undefined) {\n",
       "    embed_document(root);\n",
       "  } else {\n",
       "    var attempts = 0;\n",
       "    var timer = setInterval(function(root) {\n",
       "      if (root.Bokeh !== undefined) {\n",
       "        embed_document(root);\n",
       "        clearInterval(timer);\n",
       "      }\n",
       "      attempts++;\n",
       "      if (attempts > 100) {\n",
       "        console.log(\"Bokeh: ERROR: Unable to run BokehJS code because BokehJS library is missing\")\n",
       "        clearInterval(timer);\n",
       "      }\n",
       "    }, 10, root)\n",
       "  }\n",
       "})(window);"
      ],
      "application/vnd.bokehjs_exec.v0+json": ""
     },
     "metadata": {
      "application/vnd.bokehjs_exec.v0+json": {
       "id": "7a6cd16c-e2d3-48b8-be7c-165bd2f16e11"
      }
     },
     "output_type": "display_data"
    },
    {
     "name": "stdout",
     "output_type": "stream",
     "text": [
      "FIGURE. Cooling rate profiles.\n"
     ]
    },
    {
     "data": {
      "text/html": [
       "<a id=\"Flux_Comparison\"></a>"
      ],
      "text/plain": [
       "<IPython.core.display.HTML object>"
      ]
     },
     "metadata": {},
     "output_type": "display_data"
    },
    {
     "data": {
      "text/markdown": [
       "# Flux Comparison"
      ],
      "text/plain": [
       "<IPython.core.display.Markdown object>"
      ]
     },
     "metadata": {},
     "output_type": "display_data"
    },
    {
     "data": {
      "text/html": [
       "<div>\n",
       "<style scoped>\n",
       "    .dataframe tbody tr th:only-of-type {\n",
       "        vertical-align: middle;\n",
       "    }\n",
       "\n",
       "    .dataframe tbody tr th {\n",
       "        vertical-align: top;\n",
       "    }\n",
       "\n",
       "    .dataframe thead th {\n",
       "        text-align: right;\n",
       "    }\n",
       "</style>\n",
       "<table border=\"1\" class=\"dataframe\">\n",
       "  <thead>\n",
       "    <tr style=\"text-align: right;\">\n",
       "      <th></th>\n",
       "      <th></th>\n",
       "      <th>flug</th>\n",
       "      <th>fldg</th>\n",
       "      <th>fnetg</th>\n",
       "    </tr>\n",
       "    <tr>\n",
       "      <th>pressure</th>\n",
       "      <th>level</th>\n",
       "      <th></th>\n",
       "      <th></th>\n",
       "      <th></th>\n",
       "    </tr>\n",
       "  </thead>\n",
       "  <tbody>\n",
       "    <tr>\n",
       "      <th>0.0000</th>\n",
       "      <th>1</th>\n",
       "      <td>-16.337494</td>\n",
       "      <td>0.000000</td>\n",
       "      <td>-16.337494</td>\n",
       "    </tr>\n",
       "    <tr>\n",
       "      <th>1.0685</th>\n",
       "      <th>24</th>\n",
       "      <td>-16.328615</td>\n",
       "      <td>0.040497</td>\n",
       "      <td>-16.288117</td>\n",
       "    </tr>\n",
       "    <tr>\n",
       "      <th>1013.0000</th>\n",
       "      <th>76</th>\n",
       "      <td>-18.921523</td>\n",
       "      <td>9.191961</td>\n",
       "      <td>-9.729562</td>\n",
       "    </tr>\n",
       "  </tbody>\n",
       "</table>\n",
       "</div>"
      ],
      "text/plain": [
       "                      flug      fldg      fnetg\n",
       "pressure  level                                \n",
       "0.0000    1     -16.337494  0.000000 -16.337494\n",
       "1.0685    24    -16.328615  0.040497 -16.288117\n",
       "1013.0000 76    -18.921523  9.191961  -9.729562"
      ]
     },
     "metadata": {},
     "output_type": "display_data"
    },
    {
     "name": "stdout",
     "output_type": "stream",
     "text": [
      "Table. Fluxes. CRD\n"
     ]
    },
    {
     "data": {
      "text/html": [
       "<div>\n",
       "<style scoped>\n",
       "    .dataframe tbody tr th:only-of-type {\n",
       "        vertical-align: middle;\n",
       "    }\n",
       "\n",
       "    .dataframe tbody tr th {\n",
       "        vertical-align: top;\n",
       "    }\n",
       "\n",
       "    .dataframe thead th {\n",
       "        text-align: right;\n",
       "    }\n",
       "</style>\n",
       "<table border=\"1\" class=\"dataframe\">\n",
       "  <thead>\n",
       "    <tr style=\"text-align: right;\">\n",
       "      <th></th>\n",
       "      <th></th>\n",
       "      <th>flug</th>\n",
       "      <th>fldg</th>\n",
       "      <th>fnetg</th>\n",
       "    </tr>\n",
       "    <tr>\n",
       "      <th>pressure</th>\n",
       "      <th>level</th>\n",
       "      <th></th>\n",
       "      <th></th>\n",
       "      <th></th>\n",
       "    </tr>\n",
       "  </thead>\n",
       "  <tbody>\n",
       "    <tr>\n",
       "      <th>0.0000</th>\n",
       "      <th>1</th>\n",
       "      <td>-16.198890</td>\n",
       "      <td>0.000000</td>\n",
       "      <td>-16.198890</td>\n",
       "    </tr>\n",
       "    <tr>\n",
       "      <th>1.0685</th>\n",
       "      <th>24</th>\n",
       "      <td>-16.189508</td>\n",
       "      <td>0.038917</td>\n",
       "      <td>-16.150591</td>\n",
       "    </tr>\n",
       "    <tr>\n",
       "      <th>1013.0000</th>\n",
       "      <th>76</th>\n",
       "      <td>-18.921523</td>\n",
       "      <td>9.311989</td>\n",
       "      <td>-9.609533</td>\n",
       "    </tr>\n",
       "  </tbody>\n",
       "</table>\n",
       "</div>"
      ],
      "text/plain": [
       "                      flug      fldg      fnetg\n",
       "pressure  level                                \n",
       "0.0000    1     -16.198890  0.000000 -16.198890\n",
       "1.0685    24    -16.189508  0.038917 -16.150591\n",
       "1013.0000 76    -18.921523  9.311989  -9.609533"
      ]
     },
     "metadata": {},
     "output_type": "display_data"
    },
    {
     "name": "stdout",
     "output_type": "stream",
     "text": [
      "Table. Fluxes. WGT igg=10 wgt_flux=1\n"
     ]
    },
    {
     "data": {
      "text/html": [
       "<div>\n",
       "<style scoped>\n",
       "    .dataframe tbody tr th:only-of-type {\n",
       "        vertical-align: middle;\n",
       "    }\n",
       "\n",
       "    .dataframe tbody tr th {\n",
       "        vertical-align: top;\n",
       "    }\n",
       "\n",
       "    .dataframe thead th {\n",
       "        text-align: right;\n",
       "    }\n",
       "</style>\n",
       "<table border=\"1\" class=\"dataframe\">\n",
       "  <thead>\n",
       "    <tr style=\"text-align: right;\">\n",
       "      <th></th>\n",
       "      <th></th>\n",
       "      <th>flug</th>\n",
       "      <th>fldg</th>\n",
       "      <th>fnetg</th>\n",
       "    </tr>\n",
       "    <tr>\n",
       "      <th>pressure</th>\n",
       "      <th>level</th>\n",
       "      <th></th>\n",
       "      <th></th>\n",
       "      <th></th>\n",
       "    </tr>\n",
       "  </thead>\n",
       "  <tbody>\n",
       "    <tr>\n",
       "      <th>1.000000e-08</th>\n",
       "      <th>1</th>\n",
       "      <td>-16.241721</td>\n",
       "      <td>0.000001</td>\n",
       "      <td>-16.241720</td>\n",
       "    </tr>\n",
       "    <tr>\n",
       "      <th>1.068500e+00</th>\n",
       "      <th>24</th>\n",
       "      <td>-16.232390</td>\n",
       "      <td>0.037993</td>\n",
       "      <td>-16.194397</td>\n",
       "    </tr>\n",
       "    <tr>\n",
       "      <th>1.013000e+03</th>\n",
       "      <th>76</th>\n",
       "      <td>-18.921520</td>\n",
       "      <td>9.383037</td>\n",
       "      <td>-9.538483</td>\n",
       "    </tr>\n",
       "  </tbody>\n",
       "</table>\n",
       "</div>"
      ],
      "text/plain": [
       "                         flug      fldg      fnetg\n",
       "pressure     level                                \n",
       "1.000000e-08 1     -16.241721  0.000001 -16.241720\n",
       "1.068500e+00 24    -16.232390  0.037993 -16.194397\n",
       "1.013000e+03 76    -18.921520  9.383037  -9.538483"
      ]
     },
     "metadata": {},
     "output_type": "display_data"
    },
    {
     "name": "stdout",
     "output_type": "stream",
     "text": [
      "Table. Fluxes. CLIRAD\n"
     ]
    },
    {
     "data": {
      "text/html": [
       "<div>\n",
       "<style scoped>\n",
       "    .dataframe tbody tr th:only-of-type {\n",
       "        vertical-align: middle;\n",
       "    }\n",
       "\n",
       "    .dataframe tbody tr th {\n",
       "        vertical-align: top;\n",
       "    }\n",
       "\n",
       "    .dataframe thead th {\n",
       "        text-align: right;\n",
       "    }\n",
       "</style>\n",
       "<table border=\"1\" class=\"dataframe\">\n",
       "  <thead>\n",
       "    <tr style=\"text-align: right;\">\n",
       "      <th></th>\n",
       "      <th></th>\n",
       "      <th>flug</th>\n",
       "      <th>fldg</th>\n",
       "      <th>fnetg</th>\n",
       "    </tr>\n",
       "    <tr>\n",
       "      <th>pressure</th>\n",
       "      <th>level</th>\n",
       "      <th></th>\n",
       "      <th></th>\n",
       "      <th></th>\n",
       "    </tr>\n",
       "  </thead>\n",
       "  <tbody>\n",
       "    <tr>\n",
       "      <th>0.0000</th>\n",
       "      <th>1</th>\n",
       "      <td>0.138604</td>\n",
       "      <td>0.000000</td>\n",
       "      <td>0.138604</td>\n",
       "    </tr>\n",
       "    <tr>\n",
       "      <th>1.0685</th>\n",
       "      <th>24</th>\n",
       "      <td>0.139107</td>\n",
       "      <td>-0.001580</td>\n",
       "      <td>0.137526</td>\n",
       "    </tr>\n",
       "    <tr>\n",
       "      <th>1013.0000</th>\n",
       "      <th>76</th>\n",
       "      <td>0.000000</td>\n",
       "      <td>0.120029</td>\n",
       "      <td>0.120029</td>\n",
       "    </tr>\n",
       "  </tbody>\n",
       "</table>\n",
       "</div>"
      ],
      "text/plain": [
       "                     flug      fldg     fnetg\n",
       "pressure  level                              \n",
       "0.0000    1      0.138604  0.000000  0.138604\n",
       "1.0685    24     0.139107 -0.001580  0.137526\n",
       "1013.0000 76     0.000000  0.120029  0.120029"
      ]
     },
     "metadata": {},
     "output_type": "display_data"
    },
    {
     "name": "stdout",
     "output_type": "stream",
     "text": [
      "Table. Fluxes. (WGT igg=10 wgt_flux=1) - (CRD)\n"
     ]
    },
    {
     "data": {
      "text/html": [
       "<div>\n",
       "<style scoped>\n",
       "    .dataframe tbody tr th:only-of-type {\n",
       "        vertical-align: middle;\n",
       "    }\n",
       "\n",
       "    .dataframe tbody tr th {\n",
       "        vertical-align: top;\n",
       "    }\n",
       "\n",
       "    .dataframe thead th {\n",
       "        text-align: right;\n",
       "    }\n",
       "</style>\n",
       "<table border=\"1\" class=\"dataframe\">\n",
       "  <thead>\n",
       "    <tr style=\"text-align: right;\">\n",
       "      <th></th>\n",
       "      <th></th>\n",
       "      <th>flug</th>\n",
       "      <th>fldg</th>\n",
       "      <th>fnetg</th>\n",
       "    </tr>\n",
       "    <tr>\n",
       "      <th>pressure</th>\n",
       "      <th>level</th>\n",
       "      <th></th>\n",
       "      <th></th>\n",
       "      <th></th>\n",
       "    </tr>\n",
       "  </thead>\n",
       "  <tbody>\n",
       "    <tr>\n",
       "      <th>0.0000</th>\n",
       "      <th>1</th>\n",
       "      <td>0.095773</td>\n",
       "      <td>0.000001</td>\n",
       "      <td>0.095774</td>\n",
       "    </tr>\n",
       "    <tr>\n",
       "      <th>1.0685</th>\n",
       "      <th>24</th>\n",
       "      <td>0.096225</td>\n",
       "      <td>-0.002504</td>\n",
       "      <td>0.093720</td>\n",
       "    </tr>\n",
       "    <tr>\n",
       "      <th>1013.0000</th>\n",
       "      <th>76</th>\n",
       "      <td>0.000003</td>\n",
       "      <td>0.191076</td>\n",
       "      <td>0.191079</td>\n",
       "    </tr>\n",
       "  </tbody>\n",
       "</table>\n",
       "</div>"
      ],
      "text/plain": [
       "                     flug      fldg     fnetg\n",
       "pressure  level                              \n",
       "0.0000    1      0.095773  0.000001  0.095774\n",
       "1.0685    24     0.096225 -0.002504  0.093720\n",
       "1013.0000 76     0.000003  0.191076  0.191079"
      ]
     },
     "metadata": {},
     "output_type": "display_data"
    },
    {
     "name": "stdout",
     "output_type": "stream",
     "text": [
      "Table. Fluxes. (CLIRAD) - (CRD)\n"
     ]
    },
    {
     "data": {
      "text/html": [
       "<a id=\"Best-fit_Parameters\"></a>"
      ],
      "text/plain": [
       "<IPython.core.display.HTML object>"
      ]
     },
     "metadata": {},
     "output_type": "display_data"
    },
    {
     "data": {
      "text/markdown": [
       "# Best-fit Parameters"
      ],
      "text/plain": [
       "<IPython.core.display.Markdown object>"
      ]
     },
     "metadata": {},
     "output_type": "display_data"
    },
    {
     "name": "stdout",
     "output_type": "stream",
     "text": [
      "Best-fit values for each (gas, band)\n",
      "------------------------------------\n",
      "o h2o band3c\n",
      "  atmpro = mls\n",
      "  band = 3c\n",
      "  commitnumber = a06b618\n",
      "  conc = None\n",
      "  dv = 0.001\n",
      "  klin = 5e-25\n",
      "  molecule = h2o\n",
      "  ng_adju = [0]\n",
      "  ng_refs = [5]\n",
      "  nv = 1000\n",
      "  option_compute_btable = 0\n",
      "  option_compute_ktable = 1\n",
      "  option_wgt_flux = 1\n",
      "  option_wgt_k = 1\n",
      "  ref_pts = [(600, 250)]\n",
      "  tsfc = 294\n",
      "  vmax = 800\n",
      "  vmin = 720\n",
      "  w_diffuse = [(1.55, 1.6, 1.66, 1.66, 1.8)]\n",
      "  wgt = [(0.5, 0.5, 0.6, 0.7, 0.9)]\n",
      "o co2 band3c\n",
      "  atmpro = mls\n",
      "  band = 3c\n",
      "  commitnumber = a06b618\n",
      "  conc = 0.0004\n",
      "  dv = 0.001\n",
      "  klin = 6.375563e-24\n",
      "  molecule = co2\n",
      "  ng_adju = [0, 0, 0]\n",
      "  ng_refs = [3, 2, 4]\n",
      "  nv = 1000\n",
      "  option_compute_btable = 0\n",
      "  option_compute_ktable = 1\n",
      "  option_wgt_flux = 1\n",
      "  option_wgt_k = 1\n",
      "  ref_pts = [(1, 250), (10, 250), (500, 250)]\n",
      "  tsfc = 294\n",
      "  vmax = 800\n",
      "  vmin = 720\n",
      "  w_diffuse = [(1.7, 1.6, 1.8), (1.8, 1.7), (1.5, 1.6, 1.7, 1.8)]\n",
      "  wgt = [(0.6, 0.4, 0.7), (0.7, 0.4), (0.3, 0.4, 0.85, 0.9)]\n"
     ]
    }
   ],
   "source": [
    "script()"
   ]
  },
  {
   "cell_type": "code",
   "execution_count": 13,
   "metadata": {
    "collapsed": true
   },
   "outputs": [
    {
     "data": {
      "text/html": [
       "<script>\n",
       "code_show=true; \n",
       "function code_toggle() {\n",
       " if (code_show){\n",
       " $('div.input').hide();\n",
       " } else {\n",
       " $('div.input').show();\n",
       " }\n",
       " code_show = !code_show\n",
       "} \n",
       "$( document ).ready(code_toggle);\n",
       "</script>\n",
       "<form action=\"javascript:code_toggle()\"><input type=\"submit\" value=\"Click here to toggle on/off the raw code.\"></form>"
      ],
      "text/plain": [
       "<IPython.core.display.HTML object>"
      ]
     },
     "execution_count": 13,
     "metadata": {},
     "output_type": "execute_result"
    }
   ],
   "source": [
    "display.HTML('''<script>\n",
    "code_show=true; \n",
    "function code_toggle() {\n",
    " if (code_show){\n",
    " $('div.input').hide();\n",
    " } else {\n",
    " $('div.input').show();\n",
    " }\n",
    " code_show = !code_show\n",
    "} \n",
    "$( document ).ready(code_toggle);\n",
    "</script>\n",
    "<form action=\"javascript:code_toggle()\"><input type=\"submit\" value=\"Click here to toggle on/off the raw code.\"></form>''')"
   ]
  }
 ],
 "metadata": {
  "kernelspec": {
   "display_name": "Python 3",
   "language": "python",
   "name": "python3"
  },
  "language_info": {
   "codemirror_mode": {
    "name": "ipython",
    "version": 3
   },
   "file_extension": ".py",
   "mimetype": "text/x-python",
   "name": "python",
   "nbconvert_exporter": "python",
   "pygments_lexer": "ipython3",
   "version": "3.6.1"
  }
 },
 "nbformat": 4,
 "nbformat_minor": 2
}
