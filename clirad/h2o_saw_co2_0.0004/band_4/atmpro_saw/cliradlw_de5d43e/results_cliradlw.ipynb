{
 "cells": [
  {
   "cell_type": "code",
   "execution_count": 1,
   "metadata": {
    "collapsed": true
   },
   "outputs": [],
   "source": [
    "%matplotlib inline\n",
    "import os\n",
    "import re\n",
    "import io\n",
    "import itertools\n",
    "import pprint\n",
    "\n",
    "from bokeh.io import output_notebook, show\n",
    "from bokeh.layouts import gridplot\n",
    "from bokeh.plotting import figure\n",
    "from bokeh.models import Range1d, Legend\n",
    "from bokeh.palettes import all_palettes\n",
    "\n",
    "import matplotlib\n",
    "import matplotlib.pyplot as plt\n",
    "import numpy as np\n",
    "import pandas as pd\n",
    "import xarray as xr\n",
    "\n",
    "import climatools.lblnew.bestfit_params as bestfits\n",
    "from climatools.lblnew import setup_bestfit, setup_overlap\n",
    "import climatools.lblnew.pipeline as pipe_lblnew\n",
    "import climatools.cliradlw.setup as setup_cliradlw\n",
    "import climatools.cliradlw.pipeline as pipe_cliradlw\n",
    "\n",
    "import climatools.html.html as climahtml\n",
    "from climatools.lblnew.dataio import *\n",
    "from climatools.plot.plot import *\n",
    "\n",
    "\n",
    "import IPython.display as display"
   ]
  },
  {
   "cell_type": "code",
   "execution_count": 2,
   "metadata": {
    "collapsed": true
   },
   "outputs": [],
   "source": [
    "%run param.py"
   ]
  },
  {
   "cell_type": "code",
   "execution_count": 3,
   "metadata": {
    "collapsed": true
   },
   "outputs": [
    {
     "name": "stdout",
     "output_type": "stream",
     "text": [
      "The history saving thread hit an unexpected error (OperationalError('database is locked',)).History will not be written to the database.\n"
     ]
    }
   ],
   "source": [
    "def load_output_file(path_csv):\n",
    "    '''\n",
    "    Load lblnew output .csv file to xarray.Dataset\n",
    "    \n",
    "    Parameters\n",
    "    ----------\n",
    "    path_csv: str\n",
    "              Path to the .csv file to be loaded.\n",
    "    ds: xarray.Dataset\n",
    "        Data in the input file in the form of an xarray.Dataset.\n",
    "    '''\n",
    "    toindex = ['band', 'pressure', 'igg', 'g']    \n",
    "    df = pd.read_csv(path_csv, sep=r'\\s+')\n",
    "    df = df.set_index([i for i in toindex if i in df.columns])\n",
    "    df = df.rename(columns={'sfu': 'flug',\n",
    "                            'sfd': 'fldg',\n",
    "                            'fnet': 'fnetg',\n",
    "                            'coolr': 'coolrg'})\n",
    "    ds = xr.Dataset.from_dataframe(df)\n",
    "\n",
    "    for l in ('level', 'layer'):\n",
    "        if l in ds.data_vars:\n",
    "            if len(ds[l].dims) > 1:\n",
    "                surface = {d: 0 for d in ds.dims if d != 'pressure'}\n",
    "                coord_level = ds[l][surface]\n",
    "                ds.coords[l] = ('pressure', coord_level)\n",
    "            else:\n",
    "                ds.coords[l] = ('pressure', ds[l])\n",
    "    \n",
    "    return ds"
   ]
  },
  {
   "cell_type": "code",
   "execution_count": 4,
   "metadata": {
    "collapsed": true
   },
   "outputs": [],
   "source": [
    "def lblnew_setup(param=None):\n",
    "    if 'ng_refs' in param:\n",
    "        return {'setup': setup_bestfit,\n",
    "                'fname_flux_crd': 'output_flux.dat',\n",
    "                'fname_cool_crd': 'output_coolr.dat',\n",
    "                'fname_flux_wgt': 'output_wfluxg.dat',\n",
    "                'fname_cool_wgt': 'output_wcoolrg.dat'}\n",
    "    else:\n",
    "        return {'setup': setup_overlap,\n",
    "                'fname_flux_crd': 'output_flux.dat',\n",
    "                'fname_cool_crd': 'output_coolr.dat',\n",
    "                'fname_flux_wgt': 'output_wflux.dat',\n",
    "                'fname_cool_wgt': 'output_wcoolr.dat'}\n",
    "\n",
    "    \n",
    "def load_lblnew_data(param):\n",
    "    \n",
    "    fname_dsname = [('fname_flux_crd', 'ds_flux_crd'),\n",
    "                    ('fname_cool_crd', 'ds_cool_crd'),\n",
    "                    ('fname_flux_wgt', 'ds_flux_wgt'),\n",
    "                    ('fname_cool_wgt', 'ds_cool_wgt')]\n",
    "    \n",
    "    d = lblnew_setup(param)\n",
    "    dir_fortran = pipe_lblnew.get_dir_case(param, setup=d['setup'])\n",
    "    \n",
    "    data_dict = {}\n",
    "    for fname, dsname in fname_dsname:\n",
    "        fpath = os.path.join(dir_fortran, d[fname])\n",
    "        data_dict[dsname] = load_output_file(fpath)\n",
    "    return data_dict\n",
    "    \n",
    "\n",
    "    \n",
    "    "
   ]
  },
  {
   "cell_type": "code",
   "execution_count": 5,
   "metadata": {
    "collapsed": true
   },
   "outputs": [],
   "source": [
    "d = load_lblnew_data(PARAM_LBLNEW)\n",
    "\n",
    "DS_FLUX_CRD = d['ds_flux_crd']\n",
    "DS_COOL_CRD = d['ds_cool_crd']\n",
    "DS_FLUX_WGT = d['ds_flux_wgt']\n",
    "DS_COOL_WGT = d['ds_cool_wgt']"
   ]
  },
  {
   "cell_type": "code",
   "execution_count": 6,
   "metadata": {
    "collapsed": true
   },
   "outputs": [],
   "source": [
    "DIR_FORTRAN = pipe_cliradlw.get_fortran_dir(PARAM, \n",
    "                                            setup=setup_cliradlw)\n",
    "\n",
    "PATH_FLUX = os.path.join(DIR_FORTRAN, 'output_flux.dat')\n",
    "PATH_COOL = os.path.join(DIR_FORTRAN, 'output_coolr.dat')\n",
    "\n",
    "DS_FLUX = load_output_file(PATH_FLUX)\n",
    "DS_COOL = load_output_file(PATH_COOL)"
   ]
  },
  {
   "cell_type": "code",
   "execution_count": 7,
   "metadata": {
    "collapsed": true
   },
   "outputs": [
    {
     "data": {
      "text/html": [
       "\n",
       "    <div class=\"bk-root\">\n",
       "        <a href=\"https://bokeh.pydata.org\" target=\"_blank\" class=\"bk-logo bk-logo-small bk-logo-notebook\"></a>\n",
       "        <span id=\"d16620f4-c889-41cc-aa44-2b59982e6060\">Loading BokehJS ...</span>\n",
       "    </div>"
      ]
     },
     "metadata": {},
     "output_type": "display_data"
    },
    {
     "data": {
      "application/javascript": [
       "\n",
       "(function(root) {\n",
       "  function now() {\n",
       "    return new Date();\n",
       "  }\n",
       "\n",
       "  var force = true;\n",
       "\n",
       "  if (typeof (root._bokeh_onload_callbacks) === \"undefined\" || force === true) {\n",
       "    root._bokeh_onload_callbacks = [];\n",
       "    root._bokeh_is_loading = undefined;\n",
       "  }\n",
       "\n",
       "  var JS_MIME_TYPE = 'application/javascript';\n",
       "  var HTML_MIME_TYPE = 'text/html';\n",
       "  var EXEC_MIME_TYPE = 'application/vnd.bokehjs_exec.v0+json';\n",
       "  var CLASS_NAME = 'output_bokeh rendered_html';\n",
       "\n",
       "  /**\n",
       "   * Render data to the DOM node\n",
       "   */\n",
       "  function render(props, node) {\n",
       "    var script = document.createElement(\"script\");\n",
       "    node.appendChild(script);\n",
       "  }\n",
       "\n",
       "  /**\n",
       "   * Handle when an output is cleared or removed\n",
       "   */\n",
       "  function handleClearOutput(event, handle) {\n",
       "    var cell = handle.cell;\n",
       "\n",
       "    var id = cell.output_area._bokeh_element_id;\n",
       "    var server_id = cell.output_area._bokeh_server_id;\n",
       "    // Clean up Bokeh references\n",
       "    if (id !== undefined) {\n",
       "      Bokeh.index[id].model.document.clear();\n",
       "      delete Bokeh.index[id];\n",
       "    }\n",
       "\n",
       "    if (server_id !== undefined) {\n",
       "      // Clean up Bokeh references\n",
       "      var cmd = \"from bokeh.io.state import curstate; print(curstate().uuid_to_server['\" + server_id + \"'].get_sessions()[0].document.roots[0]._id)\";\n",
       "      cell.notebook.kernel.execute(cmd, {\n",
       "        iopub: {\n",
       "          output: function(msg) {\n",
       "            var element_id = msg.content.text.trim();\n",
       "            Bokeh.index[element_id].model.document.clear();\n",
       "            delete Bokeh.index[element_id];\n",
       "          }\n",
       "        }\n",
       "      });\n",
       "      // Destroy server and session\n",
       "      var cmd = \"import bokeh.io.notebook as ion; ion.destroy_server('\" + server_id + \"')\";\n",
       "      cell.notebook.kernel.execute(cmd);\n",
       "    }\n",
       "  }\n",
       "\n",
       "  /**\n",
       "   * Handle when a new output is added\n",
       "   */\n",
       "  function handleAddOutput(event, handle) {\n",
       "    var output_area = handle.output_area;\n",
       "    var output = handle.output;\n",
       "\n",
       "    // limit handleAddOutput to display_data with EXEC_MIME_TYPE content only\n",
       "    if ((output.output_type != \"display_data\") || (!output.data.hasOwnProperty(EXEC_MIME_TYPE))) {\n",
       "      return\n",
       "    }\n",
       "\n",
       "    var toinsert = output_area.element.find(\".\" + CLASS_NAME.split(' ')[0]);\n",
       "\n",
       "    if (output.metadata[EXEC_MIME_TYPE][\"id\"] !== undefined) {\n",
       "      toinsert[toinsert.length - 1].firstChild.textContent = output.data[JS_MIME_TYPE];\n",
       "      // store reference to embed id on output_area\n",
       "      output_area._bokeh_element_id = output.metadata[EXEC_MIME_TYPE][\"id\"];\n",
       "    }\n",
       "    if (output.metadata[EXEC_MIME_TYPE][\"server_id\"] !== undefined) {\n",
       "      var bk_div = document.createElement(\"div\");\n",
       "      bk_div.innerHTML = output.data[HTML_MIME_TYPE];\n",
       "      var script_attrs = bk_div.children[0].attributes;\n",
       "      for (var i = 0; i < script_attrs.length; i++) {\n",
       "        toinsert[toinsert.length - 1].firstChild.setAttribute(script_attrs[i].name, script_attrs[i].value);\n",
       "      }\n",
       "      // store reference to server id on output_area\n",
       "      output_area._bokeh_server_id = output.metadata[EXEC_MIME_TYPE][\"server_id\"];\n",
       "    }\n",
       "  }\n",
       "\n",
       "  function register_renderer(events, OutputArea) {\n",
       "\n",
       "    function append_mime(data, metadata, element) {\n",
       "      // create a DOM node to render to\n",
       "      var toinsert = this.create_output_subarea(\n",
       "        metadata,\n",
       "        CLASS_NAME,\n",
       "        EXEC_MIME_TYPE\n",
       "      );\n",
       "      this.keyboard_manager.register_events(toinsert);\n",
       "      // Render to node\n",
       "      var props = {data: data, metadata: metadata[EXEC_MIME_TYPE]};\n",
       "      render(props, toinsert[toinsert.length - 1]);\n",
       "      element.append(toinsert);\n",
       "      return toinsert\n",
       "    }\n",
       "\n",
       "    /* Handle when an output is cleared or removed */\n",
       "    events.on('clear_output.CodeCell', handleClearOutput);\n",
       "    events.on('delete.Cell', handleClearOutput);\n",
       "\n",
       "    /* Handle when a new output is added */\n",
       "    events.on('output_added.OutputArea', handleAddOutput);\n",
       "\n",
       "    /**\n",
       "     * Register the mime type and append_mime function with output_area\n",
       "     */\n",
       "    OutputArea.prototype.register_mime_type(EXEC_MIME_TYPE, append_mime, {\n",
       "      /* Is output safe? */\n",
       "      safe: true,\n",
       "      /* Index of renderer in `output_area.display_order` */\n",
       "      index: 0\n",
       "    });\n",
       "  }\n",
       "\n",
       "  // register the mime type if in Jupyter Notebook environment and previously unregistered\n",
       "  if (root.Jupyter !== undefined) {\n",
       "    var events = require('base/js/events');\n",
       "    var OutputArea = require('notebook/js/outputarea').OutputArea;\n",
       "\n",
       "    if (OutputArea.prototype.mime_types().indexOf(EXEC_MIME_TYPE) == -1) {\n",
       "      register_renderer(events, OutputArea);\n",
       "    }\n",
       "  }\n",
       "\n",
       "  \n",
       "  if (typeof (root._bokeh_timeout) === \"undefined\" || force === true) {\n",
       "    root._bokeh_timeout = Date.now() + 5000;\n",
       "    root._bokeh_failed_load = false;\n",
       "  }\n",
       "\n",
       "  var NB_LOAD_WARNING = {'data': {'text/html':\n",
       "     \"<div style='background-color: #fdd'>\\n\"+\n",
       "     \"<p>\\n\"+\n",
       "     \"BokehJS does not appear to have successfully loaded. If loading BokehJS from CDN, this \\n\"+\n",
       "     \"may be due to a slow or bad network connection. Possible fixes:\\n\"+\n",
       "     \"</p>\\n\"+\n",
       "     \"<ul>\\n\"+\n",
       "     \"<li>re-rerun `output_notebook()` to attempt to load from CDN again, or</li>\\n\"+\n",
       "     \"<li>use INLINE resources instead, as so:</li>\\n\"+\n",
       "     \"</ul>\\n\"+\n",
       "     \"<code>\\n\"+\n",
       "     \"from bokeh.resources import INLINE\\n\"+\n",
       "     \"output_notebook(resources=INLINE)\\n\"+\n",
       "     \"</code>\\n\"+\n",
       "     \"</div>\"}};\n",
       "\n",
       "  function display_loaded() {\n",
       "    var el = document.getElementById(\"d16620f4-c889-41cc-aa44-2b59982e6060\");\n",
       "    if (el != null) {\n",
       "      el.textContent = \"BokehJS is loading...\";\n",
       "    }\n",
       "    if (root.Bokeh !== undefined) {\n",
       "      if (el != null) {\n",
       "        el.textContent = \"BokehJS \" + root.Bokeh.version + \" successfully loaded.\";\n",
       "      }\n",
       "    } else if (Date.now() < root._bokeh_timeout) {\n",
       "      setTimeout(display_loaded, 100)\n",
       "    }\n",
       "  }\n",
       "\n",
       "\n",
       "  function run_callbacks() {\n",
       "    try {\n",
       "      root._bokeh_onload_callbacks.forEach(function(callback) { callback() });\n",
       "    }\n",
       "    finally {\n",
       "      delete root._bokeh_onload_callbacks\n",
       "    }\n",
       "    console.info(\"Bokeh: all callbacks have finished\");\n",
       "  }\n",
       "\n",
       "  function load_libs(js_urls, callback) {\n",
       "    root._bokeh_onload_callbacks.push(callback);\n",
       "    if (root._bokeh_is_loading > 0) {\n",
       "      console.log(\"Bokeh: BokehJS is being loaded, scheduling callback at\", now());\n",
       "      return null;\n",
       "    }\n",
       "    if (js_urls == null || js_urls.length === 0) {\n",
       "      run_callbacks();\n",
       "      return null;\n",
       "    }\n",
       "    console.log(\"Bokeh: BokehJS not loaded, scheduling load and callback at\", now());\n",
       "    root._bokeh_is_loading = js_urls.length;\n",
       "    for (var i = 0; i < js_urls.length; i++) {\n",
       "      var url = js_urls[i];\n",
       "      var s = document.createElement('script');\n",
       "      s.src = url;\n",
       "      s.async = false;\n",
       "      s.onreadystatechange = s.onload = function() {\n",
       "        root._bokeh_is_loading--;\n",
       "        if (root._bokeh_is_loading === 0) {\n",
       "          console.log(\"Bokeh: all BokehJS libraries loaded\");\n",
       "          run_callbacks()\n",
       "        }\n",
       "      };\n",
       "      s.onerror = function() {\n",
       "        console.warn(\"failed to load library \" + url);\n",
       "      };\n",
       "      console.log(\"Bokeh: injecting script tag for BokehJS library: \", url);\n",
       "      document.getElementsByTagName(\"head\")[0].appendChild(s);\n",
       "    }\n",
       "  };var element = document.getElementById(\"d16620f4-c889-41cc-aa44-2b59982e6060\");\n",
       "  if (element == null) {\n",
       "    console.log(\"Bokeh: ERROR: autoload.js configured with elementid 'd16620f4-c889-41cc-aa44-2b59982e6060' but no matching script tag was found. \")\n",
       "    return false;\n",
       "  }\n",
       "\n",
       "  var js_urls = [\"https://cdn.pydata.org/bokeh/release/bokeh-0.12.16.min.js\", \"https://cdn.pydata.org/bokeh/release/bokeh-widgets-0.12.16.min.js\", \"https://cdn.pydata.org/bokeh/release/bokeh-tables-0.12.16.min.js\", \"https://cdn.pydata.org/bokeh/release/bokeh-gl-0.12.16.min.js\"];\n",
       "\n",
       "  var inline_js = [\n",
       "    function(Bokeh) {\n",
       "      Bokeh.set_log_level(\"info\");\n",
       "    },\n",
       "    \n",
       "    function(Bokeh) {\n",
       "      \n",
       "    },\n",
       "    function(Bokeh) {\n",
       "      console.log(\"Bokeh: injecting CSS: https://cdn.pydata.org/bokeh/release/bokeh-0.12.16.min.css\");\n",
       "      Bokeh.embed.inject_css(\"https://cdn.pydata.org/bokeh/release/bokeh-0.12.16.min.css\");\n",
       "      console.log(\"Bokeh: injecting CSS: https://cdn.pydata.org/bokeh/release/bokeh-widgets-0.12.16.min.css\");\n",
       "      Bokeh.embed.inject_css(\"https://cdn.pydata.org/bokeh/release/bokeh-widgets-0.12.16.min.css\");\n",
       "      console.log(\"Bokeh: injecting CSS: https://cdn.pydata.org/bokeh/release/bokeh-tables-0.12.16.min.css\");\n",
       "      Bokeh.embed.inject_css(\"https://cdn.pydata.org/bokeh/release/bokeh-tables-0.12.16.min.css\");\n",
       "    }\n",
       "  ];\n",
       "\n",
       "  function run_inline_js() {\n",
       "    \n",
       "    if ((root.Bokeh !== undefined) || (force === true)) {\n",
       "      for (var i = 0; i < inline_js.length; i++) {\n",
       "        inline_js[i].call(root, root.Bokeh);\n",
       "      }if (force === true) {\n",
       "        display_loaded();\n",
       "      }} else if (Date.now() < root._bokeh_timeout) {\n",
       "      setTimeout(run_inline_js, 100);\n",
       "    } else if (!root._bokeh_failed_load) {\n",
       "      console.log(\"Bokeh: BokehJS failed to load within specified timeout.\");\n",
       "      root._bokeh_failed_load = true;\n",
       "    } else if (force !== true) {\n",
       "      var cell = $(document.getElementById(\"d16620f4-c889-41cc-aa44-2b59982e6060\")).parents('.cell').data().cell;\n",
       "      cell.output_area.append_execute_result(NB_LOAD_WARNING)\n",
       "    }\n",
       "\n",
       "  }\n",
       "\n",
       "  if (root._bokeh_is_loading === 0) {\n",
       "    console.log(\"Bokeh: BokehJS loaded, going straight to plotting\");\n",
       "    run_inline_js();\n",
       "  } else {\n",
       "    load_libs(js_urls, function() {\n",
       "      console.log(\"Bokeh: BokehJS plotting callback run at\", now());\n",
       "      run_inline_js();\n",
       "    });\n",
       "  }\n",
       "}(window));"
      ],
      "application/vnd.bokehjs_load.v0+json": "\n(function(root) {\n  function now() {\n    return new Date();\n  }\n\n  var force = true;\n\n  if (typeof (root._bokeh_onload_callbacks) === \"undefined\" || force === true) {\n    root._bokeh_onload_callbacks = [];\n    root._bokeh_is_loading = undefined;\n  }\n\n  \n\n  \n  if (typeof (root._bokeh_timeout) === \"undefined\" || force === true) {\n    root._bokeh_timeout = Date.now() + 5000;\n    root._bokeh_failed_load = false;\n  }\n\n  var NB_LOAD_WARNING = {'data': {'text/html':\n     \"<div style='background-color: #fdd'>\\n\"+\n     \"<p>\\n\"+\n     \"BokehJS does not appear to have successfully loaded. If loading BokehJS from CDN, this \\n\"+\n     \"may be due to a slow or bad network connection. Possible fixes:\\n\"+\n     \"</p>\\n\"+\n     \"<ul>\\n\"+\n     \"<li>re-rerun `output_notebook()` to attempt to load from CDN again, or</li>\\n\"+\n     \"<li>use INLINE resources instead, as so:</li>\\n\"+\n     \"</ul>\\n\"+\n     \"<code>\\n\"+\n     \"from bokeh.resources import INLINE\\n\"+\n     \"output_notebook(resources=INLINE)\\n\"+\n     \"</code>\\n\"+\n     \"</div>\"}};\n\n  function display_loaded() {\n    var el = document.getElementById(\"d16620f4-c889-41cc-aa44-2b59982e6060\");\n    if (el != null) {\n      el.textContent = \"BokehJS is loading...\";\n    }\n    if (root.Bokeh !== undefined) {\n      if (el != null) {\n        el.textContent = \"BokehJS \" + root.Bokeh.version + \" successfully loaded.\";\n      }\n    } else if (Date.now() < root._bokeh_timeout) {\n      setTimeout(display_loaded, 100)\n    }\n  }\n\n\n  function run_callbacks() {\n    try {\n      root._bokeh_onload_callbacks.forEach(function(callback) { callback() });\n    }\n    finally {\n      delete root._bokeh_onload_callbacks\n    }\n    console.info(\"Bokeh: all callbacks have finished\");\n  }\n\n  function load_libs(js_urls, callback) {\n    root._bokeh_onload_callbacks.push(callback);\n    if (root._bokeh_is_loading > 0) {\n      console.log(\"Bokeh: BokehJS is being loaded, scheduling callback at\", now());\n      return null;\n    }\n    if (js_urls == null || js_urls.length === 0) {\n      run_callbacks();\n      return null;\n    }\n    console.log(\"Bokeh: BokehJS not loaded, scheduling load and callback at\", now());\n    root._bokeh_is_loading = js_urls.length;\n    for (var i = 0; i < js_urls.length; i++) {\n      var url = js_urls[i];\n      var s = document.createElement('script');\n      s.src = url;\n      s.async = false;\n      s.onreadystatechange = s.onload = function() {\n        root._bokeh_is_loading--;\n        if (root._bokeh_is_loading === 0) {\n          console.log(\"Bokeh: all BokehJS libraries loaded\");\n          run_callbacks()\n        }\n      };\n      s.onerror = function() {\n        console.warn(\"failed to load library \" + url);\n      };\n      console.log(\"Bokeh: injecting script tag for BokehJS library: \", url);\n      document.getElementsByTagName(\"head\")[0].appendChild(s);\n    }\n  };var element = document.getElementById(\"d16620f4-c889-41cc-aa44-2b59982e6060\");\n  if (element == null) {\n    console.log(\"Bokeh: ERROR: autoload.js configured with elementid 'd16620f4-c889-41cc-aa44-2b59982e6060' but no matching script tag was found. \")\n    return false;\n  }\n\n  var js_urls = [\"https://cdn.pydata.org/bokeh/release/bokeh-0.12.16.min.js\", \"https://cdn.pydata.org/bokeh/release/bokeh-widgets-0.12.16.min.js\", \"https://cdn.pydata.org/bokeh/release/bokeh-tables-0.12.16.min.js\", \"https://cdn.pydata.org/bokeh/release/bokeh-gl-0.12.16.min.js\"];\n\n  var inline_js = [\n    function(Bokeh) {\n      Bokeh.set_log_level(\"info\");\n    },\n    \n    function(Bokeh) {\n      \n    },\n    function(Bokeh) {\n      console.log(\"Bokeh: injecting CSS: https://cdn.pydata.org/bokeh/release/bokeh-0.12.16.min.css\");\n      Bokeh.embed.inject_css(\"https://cdn.pydata.org/bokeh/release/bokeh-0.12.16.min.css\");\n      console.log(\"Bokeh: injecting CSS: https://cdn.pydata.org/bokeh/release/bokeh-widgets-0.12.16.min.css\");\n      Bokeh.embed.inject_css(\"https://cdn.pydata.org/bokeh/release/bokeh-widgets-0.12.16.min.css\");\n      console.log(\"Bokeh: injecting CSS: https://cdn.pydata.org/bokeh/release/bokeh-tables-0.12.16.min.css\");\n      Bokeh.embed.inject_css(\"https://cdn.pydata.org/bokeh/release/bokeh-tables-0.12.16.min.css\");\n    }\n  ];\n\n  function run_inline_js() {\n    \n    if ((root.Bokeh !== undefined) || (force === true)) {\n      for (var i = 0; i < inline_js.length; i++) {\n        inline_js[i].call(root, root.Bokeh);\n      }if (force === true) {\n        display_loaded();\n      }} else if (Date.now() < root._bokeh_timeout) {\n      setTimeout(run_inline_js, 100);\n    } else if (!root._bokeh_failed_load) {\n      console.log(\"Bokeh: BokehJS failed to load within specified timeout.\");\n      root._bokeh_failed_load = true;\n    } else if (force !== true) {\n      var cell = $(document.getElementById(\"d16620f4-c889-41cc-aa44-2b59982e6060\")).parents('.cell').data().cell;\n      cell.output_area.append_execute_result(NB_LOAD_WARNING)\n    }\n\n  }\n\n  if (root._bokeh_is_loading === 0) {\n    console.log(\"Bokeh: BokehJS loaded, going straight to plotting\");\n    run_inline_js();\n  } else {\n    load_libs(js_urls, function() {\n      console.log(\"Bokeh: BokehJS plotting callback run at\", now());\n      run_inline_js();\n    });\n  }\n}(window));"
     },
     "metadata": {},
     "output_type": "display_data"
    }
   ],
   "source": [
    "output_notebook()"
   ]
  },
  {
   "cell_type": "code",
   "execution_count": 8,
   "metadata": {
    "collapsed": true
   },
   "outputs": [],
   "source": [
    "def fmt_cool(ds_in):\n",
    "    ds = ds_in.copy(deep=True)\n",
    "    if 'igg' in ds.dims:\n",
    "        ds = ds.sel(igg=1)\n",
    "\n",
    "    if 'g' in ds.dims:\n",
    "        ds = ds.sum('g')\n",
    "            \n",
    "    if 'band' in ds.dims:\n",
    "        try:\n",
    "            ds = ds.squeeze('band')\n",
    "        except ValueError:\n",
    "            ds = ds.sum('band')\n",
    "                \n",
    "    return ds['coolrg']\n",
    "\n",
    "\n",
    "def pltdata_cooling_1(ds_cool=None,\n",
    "                      ds_cool_crd=None, ds_cool_wgt=None):\n",
    "    \n",
    "\n",
    "\n",
    "    colors = all_palettes['Set1'][4]\n",
    "    data = [{'label': 'CLIRAD `coolr_bands`',\n",
    "             'srs': fmt_cool(ds_cool),\n",
    "             'line_dash': 'dashed', 'line_width': 5,\n",
    "             'color': colors[0], 'alpha': .6},\n",
    "            {'label': 'CRD',\n",
    "             'srs': fmt_cool(ds_cool_crd),\n",
    "             'line_dash': 'solid', 'line_width': 1.5,\n",
    "             'marker': 'circle', 'marker_size': 5,\n",
    "             'color': colors[2], 'alpha': 1,},\n",
    "            {'label': 'WGT igg=10 wgt_flux=2',\n",
    "             'srs': fmt_cool(ds_cool_wgt),\n",
    "             'line_dash': 'solid', 'line_width': 3,\n",
    "             'marker': 'square', 'marker_size': 5,\n",
    "             'color': colors[3], 'alpha': .6}]\n",
    "    return data\n",
    "\n",
    "\n",
    "def nice_xlims(pltdata=None, prange=None):\n",
    "    \n",
    "    def get_slice(srs):\n",
    "        return srs.sel(pressure=slice(*prange))\n",
    "    \n",
    "    srss = [d['srs'] for d in pltdata]\n",
    "    vmin = min([get_slice(srs).min() for srs in srss])\n",
    "    vmax = max([get_slice(srs).max() for srs in srss])\n",
    "    dv = (vmax - vmin) * .01\n",
    "    return float(vmin - dv), float(vmax + dv)\n",
    "    \n",
    "\n",
    "def plt_cooling_bokeh(pltdata=None):\n",
    "    '''\n",
    "    Plot a list of cooling rate profiles using bokeh.\n",
    "    '''\n",
    "    ymin = 1e-2 \n",
    "    ymax = 1020 \n",
    "        \n",
    "    p1 = figure(title=\"Linear pressure scale\", \n",
    "                plot_width=400)        \n",
    "    xmin, xmax = nice_xlims(pltdata, prange=(50, 1050))\n",
    "    for d in pltdata:\n",
    "        if 'marker' in d:\n",
    "            getattr(p1, d['marker'])(d['srs'].values, \n",
    "                    d['srs'].coords['pressure'].values,\n",
    "                    color=d['color'], alpha=.7)\n",
    "        p1.line(d['srs'].values, \n",
    "                d['srs'].coords['pressure'].values,\n",
    "                color=d['color'], alpha=d['alpha'], \n",
    "                line_width=d['line_width'], line_dash=d['line_dash'])\n",
    "    \n",
    "    p1.y_range = Range1d(ymax, ymin)\n",
    "    p1.yaxis.axis_label = 'pressure [mb]'   \n",
    "    p1.x_range = Range1d(xmin, xmax)\n",
    "    p1.xaxis.axis_label = 'cooling rate [K/day]'\n",
    "            \n",
    "    p2 = figure(title='Log pressure scale', y_axis_type='log',\n",
    "                plot_width=560)\n",
    "    xmin, xmax = nice_xlims(pltdata, prange=(.01, 200))\n",
    "    \n",
    "    rs = []\n",
    "    for d in pltdata:\n",
    "        rd = []\n",
    "        if 'marker' in d:\n",
    "            r_mark = getattr(p2, d['marker'])(d['srs'].values, \n",
    "                        d['srs'].coords['pressure'].values,\n",
    "                        color=d['color'], alpha=.7)\n",
    "            rd.append(r_mark)\n",
    "        r_line = p2.line(d['srs'].values, \n",
    "                    d['srs'].coords['pressure'].values,\n",
    "                    color=d['color'], alpha=d['alpha'], \n",
    "                    line_width=d['line_width'], line_dash=d['line_dash'])\n",
    "        rd.append(r_line)\n",
    "      \n",
    "        rs.append(rd)\n",
    "        \n",
    "    p2.y_range = Range1d(ymax, ymin)  \n",
    "    p2.yaxis.axis_label = 'pressure [mb]'\n",
    "    \n",
    "    p2.x_range = Range1d(xmin, xmax)\n",
    "    p2.xaxis.axis_label = 'cooling rate [K/day]'\n",
    "    \n",
    "    items = [(d['label'], r) for r, d in zip(rs, pltdata)]\n",
    "    legend = Legend(items=items, location=(10, -30))\n",
    "    legend.label_text_font_size = '8pt'\n",
    "    \n",
    "    p2.add_layout(legend, 'right')  \n",
    "    \n",
    "    show(gridplot(p1, p2, ncols=2, plot_height=500))\n",
    "    \n",
    "\n",
    "def script_plt_cooling():\n",
    "    pltdata = pltdata_cooling_1(\n",
    "        ds_cool=DS_COOL,\n",
    "        ds_cool_crd=DS_COOL_CRD,\n",
    "        ds_cool_wgt=DS_COOL_WGT)\n",
    "    plt_cooling_bokeh(pltdata=pltdata)\n",
    "    print('''FIGURE. Cooling rate profiles.''')"
   ]
  },
  {
   "cell_type": "code",
   "execution_count": 9,
   "metadata": {
    "collapsed": true
   },
   "outputs": [],
   "source": [
    "def fmt_flux(ds_in):\n",
    "    ds = ds_in.copy(deep=True)\n",
    "    \n",
    "    for l in ('level', 'layer'):\n",
    "        if l in ds.data_vars:\n",
    "            if len(ds[l].dims) > 1:\n",
    "                surface = {d: 0 for d in ds.dims if d != 'pressure'}\n",
    "                coord_level = ds[l][surface]\n",
    "                ds.coords[l] = ('pressure', coord_level)\n",
    "            else:\n",
    "                ds.coords[l] = ('pressure', ds[l])\n",
    "        \n",
    "    ds = ds.isel(pressure=[0, 23, -1])\n",
    "        \n",
    "    if 'igg' in ds.dims:\n",
    "        ds = ds.sel(igg=[1])\n",
    "        ds = ds.squeeze('igg').drop('igg')\n",
    "    \n",
    "    if 'g' in ds.dims:\n",
    "        ds = ds.sum('g')\n",
    "            \n",
    "    if 'band' in ds.dims:\n",
    "        try:\n",
    "            ds = ds.squeeze('band').drop('band')\n",
    "        except ValueError:\n",
    "            ds = ds.sum('band')\n",
    "                \n",
    "    df = ds.to_dataframe()\n",
    "    df = df.set_index('level', append=True)               \n",
    "    return df\n",
    "\n",
    "\n",
    "def tbdata_flux(ds_flux=None, ds_flux_crd=None, ds_flux_wgt=None):\n",
    "    ilevels = [0, 23, -1]\n",
    "            \n",
    "    benchmark = {'label': 'CRD',\n",
    "                 'df': fmt_flux(ds_flux_crd)}\n",
    "    \n",
    "    tbs = [{'label': 'WGT igg=10 wgt_flux=1',\n",
    "            'df': fmt_flux(ds_flux_wgt)},\n",
    "           {'label': 'CLIRAD',\n",
    "            'df': fmt_flux(ds_flux)}]\n",
    "    \n",
    "    data = {'benchmark': benchmark, 'others': tbs}\n",
    "    return data\n",
    "\n",
    "\n",
    "def tb_flux(tbdata=None):\n",
    "    benchmark = tbdata['benchmark']\n",
    "    others = tbdata['others']\n",
    "    \n",
    "    def show_tb(d=None):\n",
    "        display.display(d['df'])\n",
    "        print('Table.', 'Fluxes.', d['label'])\n",
    "        \n",
    "    def show_tbdiff(d0=None, d=None):\n",
    "        df = d['df']\n",
    "        df.index = d0['df'].index\n",
    "        display.display(df - d0['df'])\n",
    "        print('Table.', 'Fluxes.', \n",
    "              '({}) - ({})'.format(d['label'], d0['label']))\n",
    "        \n",
    "    show_tb(benchmark)\n",
    "    for d in others:\n",
    "        show_tb(d)\n",
    "        \n",
    "    for d in others:\n",
    "        show_tbdiff(d=d, d0=benchmark)\n",
    "        \n",
    "        \n",
    "def script_tb_flux():\n",
    "    data = tbdata_flux(ds_flux=DS_FLUX,\n",
    "                       ds_flux_crd=DS_FLUX_CRD,\n",
    "                       ds_flux_wgt=DS_FLUX_WGT)\n",
    "    tb_flux(tbdata=data)"
   ]
  },
  {
   "cell_type": "code",
   "execution_count": 10,
   "metadata": {
    "collapsed": true
   },
   "outputs": [],
   "source": [
    "def band_map():\n",
    "    '''\n",
    "    Maps spectral bands in lblnew to spectral bands in clirad.\n",
    "    '''\n",
    "    lblnew2clirad = {'1': '1',\n",
    "            '2': '2',\n",
    "            '3a': '3',\n",
    "            '3b': '4',\n",
    "            '3c': '5',\n",
    "            '4': '6', \n",
    "            '5': '7',\n",
    "            '6': '8',\n",
    "            '7': '9', \n",
    "            '8': '10',\n",
    "            '9': '11'}\n",
    "    \n",
    "    clirad2lblnew = {clirad: lblnew \n",
    "                     for lblnew, clirad in lblnew2clirad.items()}\n",
    "    return clirad2lblnew\n",
    "\n",
    "\n",
    "def gasbands():\n",
    "    bmap = band_map()\n",
    "    gases = list(PARAM['molecule'].keys())\n",
    "    \n",
    "    bands = [bmap[str(b)] for b in PARAM['band']]\n",
    "    return list(itertools.product(gases, bands))\n",
    "\n",
    "\n",
    "def print_bestfit_params():\n",
    "    print('Best-fit values for each (gas, band)')\n",
    "    print('------------------------------------')\n",
    "    for gas, band in gasbands():\n",
    "        print('o {} band{}'.format(gas, band))\n",
    "        param = bestfits.kdist_params(molecule=gas, band=band)\n",
    "        for name, value in sorted(param.items()):\n",
    "            print(2 * ' ' + '{} = {}'.format(name, value))\n",
    "\n",
    "        \n",
    "def print_input_param():        \n",
    "    for name, value in PARAM.items():\n",
    "        print('{} = {}'.format(name, value))\n",
    "        \n",
    "        \n",
    "def print_lblnew_param():\n",
    "    for name, value in sorted(PARAM_LBLNEW.items()):\n",
    "        print('{} = {}'.format(name, value))\n"
   ]
  },
  {
   "cell_type": "code",
   "execution_count": 11,
   "metadata": {
    "collapsed": true,
    "scrolled": false
   },
   "outputs": [],
   "source": [
    "def show_html(s):\n",
    "    display.display(display.HTML(s))\n",
    "\n",
    "    \n",
    "def show_markdown(s):\n",
    "    display.display(display.Markdown(s))\n",
    "\n",
    "    \n",
    "def script():\n",
    "    \n",
    "    title = '### CLIRAD-LW'\n",
    "    s_input = 'Input Parameters'\n",
    "    s_lblnew_param = 'LBLNEW case compaired against'\n",
    "    s_bestfits = 'Best-fit Parameters'\n",
    "    s_plt_cooling = 'Cooling Rate Profiles'\n",
    "    s_tb_flux = 'Flux Comparison'\n",
    "    \n",
    "    # title\n",
    "    show_markdown('### CLIRAD-LW')\n",
    "    \n",
    "    # TOC\n",
    "    show_markdown('### Table of Contents')\n",
    "    show_html(climahtml.getHTML_hrefanchor(s_input))\n",
    "    show_html(climahtml.getHTML_hrefanchor(s_lblnew_param))\n",
    "    show_html(climahtml.getHTML_hrefanchor(s_plt_cooling))\n",
    "    show_html(climahtml.getHTML_hrefanchor(s_tb_flux))\n",
    "    show_html(climahtml.getHTML_hrefanchor(s_bestfits))\n",
    "    \n",
    "    # Input parameters\n",
    "    show_html(climahtml.getHTML_idanchor(s_input))\n",
    "    show_markdown(climahtml.getMarkdown_sectitle(s_input))\n",
    "    print_input_param()\n",
    "    \n",
    "    # LBLNEW parameters \n",
    "    show_html(climahtml.getHTML_idanchor(s_lblnew_param))\n",
    "    show_markdown(climahtml.getMarkdown_sectitle(s_lblnew_param))\n",
    "    print_lblnew_param()\n",
    "    \n",
    "    # Cooling rate profiles\n",
    "    show_html(climahtml.getHTML_idanchor(s_plt_cooling))\n",
    "    show_markdown(climahtml.getMarkdown_sectitle(s_plt_cooling))\n",
    "    script_plt_cooling()\n",
    "    \n",
    "    # Flux comparison\n",
    "    show_html(climahtml.getHTML_idanchor(s_tb_flux))\n",
    "    show_markdown(climahtml.getMarkdown_sectitle(s_tb_flux))\n",
    "    script_tb_flux()\n",
    "    \n",
    "    # Best-fit values\n",
    "    show_html(climahtml.getHTML_idanchor(s_bestfits))\n",
    "    show_markdown(climahtml.getMarkdown_sectitle(s_bestfits))\n",
    "    print_bestfit_params()\n",
    "   \n",
    "    "
   ]
  },
  {
   "cell_type": "code",
   "execution_count": 12,
   "metadata": {
    "collapsed": true,
    "scrolled": false
   },
   "outputs": [
    {
     "data": {
      "text/markdown": [
       "### CLIRAD-LW"
      ],
      "text/plain": [
       "<IPython.core.display.Markdown object>"
      ]
     },
     "metadata": {},
     "output_type": "display_data"
    },
    {
     "data": {
      "text/markdown": [
       "### Table of Contents"
      ],
      "text/plain": [
       "<IPython.core.display.Markdown object>"
      ]
     },
     "metadata": {},
     "output_type": "display_data"
    },
    {
     "data": {
      "text/html": [
       "<a href=\"#Input_Parameters\">Input Parameters</a>"
      ],
      "text/plain": [
       "<IPython.core.display.HTML object>"
      ]
     },
     "metadata": {},
     "output_type": "display_data"
    },
    {
     "data": {
      "text/html": [
       "<a href=\"#LBLNEW_case_compaired_against\">LBLNEW case compaired against</a>"
      ],
      "text/plain": [
       "<IPython.core.display.HTML object>"
      ]
     },
     "metadata": {},
     "output_type": "display_data"
    },
    {
     "data": {
      "text/html": [
       "<a href=\"#Cooling_Rate_Profiles\">Cooling Rate Profiles</a>"
      ],
      "text/plain": [
       "<IPython.core.display.HTML object>"
      ]
     },
     "metadata": {},
     "output_type": "display_data"
    },
    {
     "data": {
      "text/html": [
       "<a href=\"#Flux_Comparison\">Flux Comparison</a>"
      ],
      "text/plain": [
       "<IPython.core.display.HTML object>"
      ]
     },
     "metadata": {},
     "output_type": "display_data"
    },
    {
     "data": {
      "text/html": [
       "<a href=\"#Best-fit_Parameters\">Best-fit Parameters</a>"
      ],
      "text/plain": [
       "<IPython.core.display.HTML object>"
      ]
     },
     "metadata": {},
     "output_type": "display_data"
    },
    {
     "data": {
      "text/html": [
       "<a id=\"Input_Parameters\"></a>"
      ],
      "text/plain": [
       "<IPython.core.display.HTML object>"
      ]
     },
     "metadata": {},
     "output_type": "display_data"
    },
    {
     "data": {
      "text/markdown": [
       "# Input Parameters"
      ],
      "text/plain": [
       "<IPython.core.display.Markdown object>"
      ]
     },
     "metadata": {},
     "output_type": "display_data"
    },
    {
     "name": "stdout",
     "output_type": "stream",
     "text": [
      "commitnumber = de5d43e\n",
      "molecule = {'h2o': 'atmpro', 'co2': 0.0004}\n",
      "band = [4]\n",
      "atmpro = saw\n",
      "tsfc = 257\n"
     ]
    },
    {
     "data": {
      "text/html": [
       "<a id=\"LBLNEW_case_compaired_against\"></a>"
      ],
      "text/plain": [
       "<IPython.core.display.HTML object>"
      ]
     },
     "metadata": {},
     "output_type": "display_data"
    },
    {
     "data": {
      "text/markdown": [
       "# LBLNEW case compaired against"
      ],
      "text/plain": [
       "<IPython.core.display.Markdown object>"
      ]
     },
     "metadata": {},
     "output_type": "display_data"
    },
    {
     "name": "stdout",
     "output_type": "stream",
     "text": [
      "atmpro = saw\n",
      "band = 3b\n",
      "commitnumber = 5014a19\n",
      "dv = 0.001\n",
      "molecule = {'h2o': 'atmpro', 'co2': 0.0004}\n",
      "nv = 1000\n",
      "tsfc = 257\n"
     ]
    },
    {
     "data": {
      "text/html": [
       "<a id=\"Cooling_Rate_Profiles\"></a>"
      ],
      "text/plain": [
       "<IPython.core.display.HTML object>"
      ]
     },
     "metadata": {},
     "output_type": "display_data"
    },
    {
     "data": {
      "text/markdown": [
       "# Cooling Rate Profiles"
      ],
      "text/plain": [
       "<IPython.core.display.Markdown object>"
      ]
     },
     "metadata": {},
     "output_type": "display_data"
    },
    {
     "data": {
      "text/html": [
       "\n",
       "<div class=\"bk-root\">\n",
       "    <div class=\"bk-plotdiv\" id=\"e5a6fcf0-7719-484a-918a-f19e91d4281f\"></div>\n",
       "</div>"
      ]
     },
     "metadata": {},
     "output_type": "display_data"
    },
    {
     "data": {
      "application/javascript": [
       "(function(root) {\n",
       "  function embed_document(root) {\n",
       "    \n",
       "  var docs_json = {\"7c8e85d8-2043-4f19-97c0-b100f11547a8\":{\"roots\":{\"references\":[{\"attributes\":{\"callback\":null,\"end\":0.01,\"start\":1020},\"id\":\"9c0be7f2-ee06-47da-9d68-cdf58d60a45d\",\"type\":\"Range1d\"},{\"attributes\":{\"line_alpha\":0.1,\"line_color\":\"#1f77b4\",\"line_width\":3,\"x\":{\"field\":\"x\"},\"y\":{\"field\":\"y\"}},\"id\":\"6ca816cb-48b7-40c0-bbee-6ae3ca2f148c\",\"type\":\"Line\"},{\"attributes\":{\"bottom_units\":\"screen\",\"fill_alpha\":{\"value\":0.5},\"fill_color\":{\"value\":\"lightgrey\"},\"left_units\":\"screen\",\"level\":\"overlay\",\"line_alpha\":{\"value\":1.0},\"line_color\":{\"value\":\"black\"},\"line_dash\":[4,4],\"line_width\":{\"value\":2},\"plot\":null,\"render_mode\":\"css\",\"right_units\":\"screen\",\"top_units\":\"screen\"},\"id\":\"bf6597cc-9c1a-442a-97de-74fcf055555b\",\"type\":\"BoxAnnotation\"},{\"attributes\":{},\"id\":\"253a1ab1-7c52-4f34-8bce-ee7579597814\",\"type\":\"PanTool\"},{\"attributes\":{},\"id\":\"bed15758-90d7-4875-b876-c571f1ddef12\",\"type\":\"WheelZoomTool\"},{\"attributes\":{\"overlay\":{\"id\":\"bf6597cc-9c1a-442a-97de-74fcf055555b\",\"type\":\"BoxAnnotation\"}},\"id\":\"ce59169c-6298-4db4-a465-b0630bb1ff9c\",\"type\":\"BoxZoomTool\"},{\"attributes\":{},\"id\":\"ae07ea61-ec3b-47d0-a7cf-e593e3240eeb\",\"type\":\"WheelZoomTool\"},{\"attributes\":{},\"id\":\"618a1b8c-95c5-46bb-b61e-40d34f54bfea\",\"type\":\"SaveTool\"},{\"attributes\":{},\"id\":\"e324edda-e05e-47a2-8b91-f7ac804ede62\",\"type\":\"SaveTool\"},{\"attributes\":{\"source\":{\"id\":\"ae3be4c3-b13a-4d22-81e6-7a75ff2bff34\",\"type\":\"ColumnDataSource\"}},\"id\":\"e634536d-3ecc-433b-aeb3-60fa5418e837\",\"type\":\"CDSView\"},{\"attributes\":{},\"id\":\"dfd19138-59da-41a5-b2ee-28661d2bec83\",\"type\":\"ResetTool\"},{\"attributes\":{},\"id\":\"f5e4f38b-7f7d-41b9-9125-6facf1dc5f0d\",\"type\":\"HelpTool\"},{\"attributes\":{},\"id\":\"c9bd04d7-a1a8-49dc-ba42-c9e38470ce8c\",\"type\":\"ResetTool\"},{\"attributes\":{\"overlay\":{\"id\":\"707077f3-2d76-43cd-ae7d-ebec175bed08\",\"type\":\"BoxAnnotation\"}},\"id\":\"535eb3aa-0506-4e8b-8c84-f36108371e5a\",\"type\":\"BoxZoomTool\"},{\"attributes\":{\"data_source\":{\"id\":\"fb1f6543-129c-474f-a9c0-e08064d43dcb\",\"type\":\"ColumnDataSource\"},\"glyph\":{\"id\":\"e74fa132-da92-46e7-8f56-c305d84f8cdf\",\"type\":\"Line\"},\"hover_glyph\":null,\"muted_glyph\":null,\"nonselection_glyph\":{\"id\":\"6ca816cb-48b7-40c0-bbee-6ae3ca2f148c\",\"type\":\"Line\"},\"selection_glyph\":null,\"view\":{\"id\":\"7a6ebe5d-411d-4ddb-b098-73d998222648\",\"type\":\"CDSView\"}},\"id\":\"817aa4c6-0488-4cdf-b141-e611ad3964fa\",\"type\":\"GlyphRenderer\"},{\"attributes\":{\"dimension\":1,\"plot\":{\"id\":\"c1d3db61-b2e5-46c3-a5f9-833f104e31d2\",\"subtype\":\"Figure\",\"type\":\"Plot\"},\"ticker\":{\"id\":\"abe4aac2-3c5d-44d2-bab2-24eb5bf24dda\",\"type\":\"LogTicker\"}},\"id\":\"cde26e30-1b85-4237-a3b5-54cebc663520\",\"type\":\"Grid\"},{\"attributes\":{\"line_alpha\":0.1,\"line_color\":\"#1f77b4\",\"line_dash\":[6],\"line_width\":5,\"x\":{\"field\":\"x\"},\"y\":{\"field\":\"y\"}},\"id\":\"0a55c564-c111-484a-8070-ec1d2bb21e45\",\"type\":\"Line\"},{\"attributes\":{\"plot\":null,\"text\":\"Linear pressure scale\"},\"id\":\"6343cc0e-98ab-444c-a87b-faaf39f53fe9\",\"type\":\"Title\"},{\"attributes\":{\"line_alpha\":0.6,\"line_color\":\"#984ea3\",\"line_width\":3,\"x\":{\"field\":\"x\"},\"y\":{\"field\":\"y\"}},\"id\":\"e74fa132-da92-46e7-8f56-c305d84f8cdf\",\"type\":\"Line\"},{\"attributes\":{},\"id\":\"f60e0adb-3b34-407c-b706-d37dfe0418ca\",\"type\":\"HelpTool\"},{\"attributes\":{\"data_source\":{\"id\":\"ae3be4c3-b13a-4d22-81e6-7a75ff2bff34\",\"type\":\"ColumnDataSource\"},\"glyph\":{\"id\":\"f9d9188e-623b-4ad9-b578-dcda7b1ebb5e\",\"type\":\"Line\"},\"hover_glyph\":null,\"muted_glyph\":null,\"nonselection_glyph\":{\"id\":\"df5228e1-56b2-4bff-8a22-120008f3c83f\",\"type\":\"Line\"},\"selection_glyph\":null,\"view\":{\"id\":\"e634536d-3ecc-433b-aeb3-60fa5418e837\",\"type\":\"CDSView\"}},\"id\":\"be083419-ff6a-478d-8ff8-7f8ff0368841\",\"type\":\"GlyphRenderer\"},{\"attributes\":{\"source\":{\"id\":\"0130b25e-84e7-4b93-ac48-7fd6e7b1034e\",\"type\":\"ColumnDataSource\"}},\"id\":\"8784f62b-3e7a-4768-8a37-4e2854b8e081\",\"type\":\"CDSView\"},{\"attributes\":{\"plot\":null,\"text\":\"Log pressure scale\"},\"id\":\"53005777-dc0e-4569-a1ad-1cccd86751cd\",\"type\":\"Title\"},{\"attributes\":{\"plot\":{\"id\":\"fcdcb3db-4b2e-444c-9c3f-bfbcbae03bd1\",\"subtype\":\"Figure\",\"type\":\"Plot\"},\"ticker\":{\"id\":\"79137756-b5af-428a-ac07-9caed749e35e\",\"type\":\"BasicTicker\"}},\"id\":\"b4887cb3-9e82-444b-8792-60554d6b09e5\",\"type\":\"Grid\"},{\"attributes\":{},\"id\":\"b0e867bc-ef32-4219-a2b0-bdeb3258e88c\",\"type\":\"LinearScale\"},{\"attributes\":{\"callback\":null,\"data\":{\"x\":{\"__ndarray__\":\"9aEL6lvUQEBCI9i4/sU5QKryPSMRtjpA1xLyQc+SOkAjvajdr0I5QD1DOGbZ6zZAqFX0h2bmM0AJMZdUbbswQHOAYI4e/ytAiBIteTxFKEDpLomzIlomQIoe+BisqCVAW1t4XiqOJUBYGCKnr6ckQHIJdrKKWSJAphal3xmYH0AnlCr2PIwbQJwMfWb/ChlAJdwax/5QGEDElbN3RkMZQKcYjLbPNxxANhFHaBUPG0AEvBY+bNMUQDw5nio6vQ5A8xO9QtXOB0AJ7CBletgDQNXLlHsm8ABABhWweEWL/D9QrK6e7nf4P9bC0foASfU/nT3hNmQN8z+4HoXrURjwP2MFx3559ek/xVsAfc+m5T/2XMc0qv7hP0WO36FJ3t4/wn4VAcq22D9RuS6hJ4rQP5VPqAq6+8I/6qXWuXGktj8UnZCW/cysP+aRapjU4qM/E2zdf8Ssmj+gnHkVuIVOPxL7gBfooLO/M0D1UT7ru78V5UkHKGOhv1lBwubSrpg/hefixXs7oz+LqNqFHuWlP33cGc5+oqc/7LR69nj7qD9wxsZCyAeqP4Hv9FLKzqo/67uzWoZWqz++Q8tmgJ6rP61sqOP0n6s/24AeVvdJqz9r2Fdt6nuqP3bHBCpTNKk/IH3ae81/pz/4qH1Cj3ulP1f4VsttYKM/3ao/UNt3oT/8gZahNhmgP9nZrtXAhJ8/qZSAk8tRoT8xiRhOUMWlP3XkE3WQHqw//OUhwNoyrz/Y9UBok3yqP8OgW872/6A/9J79WvTUkD/uxYqwHgRzP2FanH1aT5e/\",\"dtype\":\"float64\",\"shape\":[75]},\"y\":{\"__ndarray__\":\"GhExyth1ND/Sv8nbtpRIP2vylNV0PVE/aTum7souWD/At0SJ8fVgPw3Iuahxymc/MSNhhJWvcD/bTfBN02d3P2zb5nxnaoA/CD5h5MAGhz8NmeH1TyaQP+zrCsc9p5Y/LbKd76fGnz/bLW5ISEmmPww9YvTcQq8/JV2OstnstT8Er5Y7M8G+P0c+r3jqkcU/5h99k6ZBzj88bCIzFzjVP4enV8oyxN0//yH99nXg5D8qOpLLf0jtP5kqGJXUifQ/c9cS8kHP/D+/DpwzojQEQIEmwoanVwxA4lgXt9HgE0BSSZ2AJuIbQAMJih9jjiNA5q4l5INuK0AwTKYKRj0zQNv5fmq8/DpAaCJseHrtQkB/+zpwzoxKQM3MzMzMeFJAZmZmZmZqWEAAAAAAAFxeQM3MzMzMJmJAmpmZmZkfZUBmZmZmZhhoQDMzMzMzEWtAAAAAAAAKbkBmZmZmZoFwQM3MzMzM/XFAMzMzMzN6c0CamZmZmfZ0QAAAAAAAc3ZAZmZmZmbvd0DNzMzMzGt5QDMzMzMz6HpAmpmZmZlkfEAAAAAAAOF9QGZmZmZmXX9AZmZmZuZsgECamZmZGSuBQM3MzMxM6YFAAAAAAICngkAzMzMzs2WDQGZmZmbmI4RAmpmZmRnihEDNzMzMTKCFQAAAAACAXoZAMzMzM7Mch0BmZmZm5tqHQJqZmZkZmYhAzczMzExXiUAAAAAAgBWKQDMzMzOz04pAZmZmZuaRi0CamZmZGVCMQM3MzMxMDo1AAAAAAIDMjUAzMzMzs4qOQGZmZmbmSI9A\",\"dtype\":\"float64\",\"shape\":[75]}},\"selected\":{\"id\":\"4fd73c3a-a696-4829-8a57-a245a943fd97\",\"type\":\"Selection\"},\"selection_policy\":{\"id\":\"fac858ac-d915-49db-8b65-e142221ea814\",\"type\":\"UnionRenderers\"}},\"id\":\"fb1f6543-129c-474f-a9c0-e08064d43dcb\",\"type\":\"ColumnDataSource\"},{\"attributes\":{\"axis_label\":\"pressure [mb]\",\"formatter\":{\"id\":\"edf28316-6590-4d30-973e-64b7a2ec61b3\",\"type\":\"BasicTickFormatter\"},\"plot\":{\"id\":\"fcdcb3db-4b2e-444c-9c3f-bfbcbae03bd1\",\"subtype\":\"Figure\",\"type\":\"Plot\"},\"ticker\":{\"id\":\"70b8b1ef-030c-4301-a717-f95d5d2869d5\",\"type\":\"BasicTicker\"}},\"id\":\"f9d0d2ae-b325-48c8-9107-d5889cd2a071\",\"type\":\"LinearAxis\"},{\"attributes\":{},\"id\":\"acfaddd5-955d-41a9-8790-7f32d5c02ce2\",\"type\":\"LinearScale\"},{\"attributes\":{\"below\":[{\"id\":\"343276be-d922-4d62-8b3c-793b1bd68e5e\",\"type\":\"LinearAxis\"}],\"left\":[{\"id\":\"c0b77b4d-01e7-40c6-bad3-57eb2b75c828\",\"type\":\"LogAxis\"}],\"plot_height\":500,\"plot_width\":560,\"renderers\":[{\"id\":\"343276be-d922-4d62-8b3c-793b1bd68e5e\",\"type\":\"LinearAxis\"},{\"id\":\"985e7446-12d6-4734-875c-37b1bef5dd98\",\"type\":\"Grid\"},{\"id\":\"c0b77b4d-01e7-40c6-bad3-57eb2b75c828\",\"type\":\"LogAxis\"},{\"id\":\"cde26e30-1b85-4237-a3b5-54cebc663520\",\"type\":\"Grid\"},{\"id\":\"bf6597cc-9c1a-442a-97de-74fcf055555b\",\"type\":\"BoxAnnotation\"},{\"id\":\"2bf4a496-0161-4259-8777-ffd86dbee2b3\",\"type\":\"GlyphRenderer\"},{\"id\":\"e5a2a445-d2f2-4818-95a3-9dacb42f51e8\",\"type\":\"GlyphRenderer\"},{\"id\":\"61644b9d-e56b-49af-b0d0-312fabc1c14e\",\"type\":\"GlyphRenderer\"},{\"id\":\"8ad629c4-4728-4487-a476-b9fbc4cc2676\",\"type\":\"GlyphRenderer\"},{\"id\":\"817aa4c6-0488-4cdf-b141-e611ad3964fa\",\"type\":\"GlyphRenderer\"},{\"id\":\"b22ec308-5c07-42a1-96cb-ad4ab50974dc\",\"type\":\"Legend\"}],\"right\":[{\"id\":\"b22ec308-5c07-42a1-96cb-ad4ab50974dc\",\"type\":\"Legend\"}],\"title\":{\"id\":\"53005777-dc0e-4569-a1ad-1cccd86751cd\",\"type\":\"Title\"},\"toolbar\":{\"id\":\"96c01b0c-f081-427c-9030-ee754cbb1dc9\",\"type\":\"Toolbar\"},\"toolbar_location\":null,\"x_range\":{\"id\":\"e7c61953-503b-4d38-af90-795c95992167\",\"type\":\"Range1d\"},\"x_scale\":{\"id\":\"0719322a-6b02-40ba-8a2b-674aab1f37a3\",\"type\":\"LinearScale\"},\"y_range\":{\"id\":\"37be3e78-e605-4bb5-b924-26689ac32303\",\"type\":\"Range1d\"},\"y_scale\":{\"id\":\"5b069518-1824-4247-bd50-a34f501f9481\",\"type\":\"LogScale\"}},\"id\":\"c1d3db61-b2e5-46c3-a5f9-833f104e31d2\",\"subtype\":\"Figure\",\"type\":\"Plot\"},{\"attributes\":{},\"id\":\"e900a625-4ead-4d0b-b235-582e147d3348\",\"type\":\"PanTool\"},{\"attributes\":{\"bottom_units\":\"screen\",\"fill_alpha\":{\"value\":0.5},\"fill_color\":{\"value\":\"lightgrey\"},\"left_units\":\"screen\",\"level\":\"overlay\",\"line_alpha\":{\"value\":1.0},\"line_color\":{\"value\":\"black\"},\"line_dash\":[4,4],\"line_width\":{\"value\":2},\"plot\":null,\"render_mode\":\"css\",\"right_units\":\"screen\",\"top_units\":\"screen\"},\"id\":\"707077f3-2d76-43cd-ae7d-ebec175bed08\",\"type\":\"BoxAnnotation\"},{\"attributes\":{\"axis_label\":\"cooling rate [K/day]\",\"formatter\":{\"id\":\"847fa55b-3c97-47ef-95e3-94aaada0f641\",\"type\":\"BasicTickFormatter\"},\"plot\":{\"id\":\"fcdcb3db-4b2e-444c-9c3f-bfbcbae03bd1\",\"subtype\":\"Figure\",\"type\":\"Plot\"},\"ticker\":{\"id\":\"79137756-b5af-428a-ac07-9caed749e35e\",\"type\":\"BasicTicker\"}},\"id\":\"c306a739-e095-4025-b95c-a100ac9aa3ce\",\"type\":\"LinearAxis\"},{\"attributes\":{\"source\":{\"id\":\"69bf8247-7ba0-4105-aab7-de25e5fedabd\",\"type\":\"ColumnDataSource\"}},\"id\":\"77f63d01-6ae4-441b-bf77-7adc76215850\",\"type\":\"CDSView\"},{\"attributes\":{\"dimension\":1,\"plot\":{\"id\":\"fcdcb3db-4b2e-444c-9c3f-bfbcbae03bd1\",\"subtype\":\"Figure\",\"type\":\"Plot\"},\"ticker\":{\"id\":\"70b8b1ef-030c-4301-a717-f95d5d2869d5\",\"type\":\"BasicTicker\"}},\"id\":\"753305f3-b1c7-42a3-8674-bb7a73b0567d\",\"type\":\"Grid\"},{\"attributes\":{\"callback\":null,\"data\":{\"x\":{\"__ndarray__\":\"nu488ZyzUEDBHahTHjU+QMzz4O6sQTxA1jkGZK9XOUC6SnfX2Sw2QIDwoURLOjNAjc9k/zy5MECBdocUA3QtQI1EaAQbZypAYp8AipEdKECKPEm6ZmImQJpDUgslCyVAufyH9NsvJEC76Ttkb+YiQBehM8QMtCBAk/AppQxhHUAiHXl7a6saQJMcsKvJAxlAIpov5TJcGED43An2X88YQGd4swbvQxtAprc/Fw0RGkDKBi1/GU8UQFb5VATuTw9Ad5JjoYwHCUBV8essHw4EQDNMEvAQS/8/OmEdIskn+T823aEXpG/2P3Ai+rX1M/Q/kEsceSAy8T/KnsqKXfLqP/EYebTMXeY/ABtSPYDC5D9Zd+IoL6jhP/aPjVlZz9s/2zF1V3bB1T8TE+2NzrfPP9tgNG332cU/NHBZ6Pc7wD9f+8zQrZS4P5e3Z7kTPLI/dpOePSVUqD9U5n44XGyJP2VKHmGuS7G/MlTmYuMsur+nz/cbOUeiv0A84PQN0JQ/TXuHMaIaoz/KceEfOi2nP2haMiwelak/XMPDtnAZqz/A0xDHTRysP6E2bXBpz6w/v7UE+vNWrT9DFyP+oK+tP0xdKh1J1a0/audSYQ6wrT+jOJZj8RytP1oWuZiADqw/kh1vgAaMqj97okHDyLaoPx50igf0v6Y/LXGq1j70pD88jg1H0a+jP+5Wh73/eKM/BrajaIAzpT8q4kRZl9GpPxxjUjxhG7A/G5s+t6eWsT9IQfxrlTquP8KUN3Y/XaQ/4AAPGUp+lj8unX+RkaCBP9dxzhh+IZS/\",\"dtype\":\"float64\",\"shape\":[75]},\"y\":{\"__ndarray__\":\"GhExyth1ND/Sv8nbtpRIP2vylNV0PVE/aTum7souWD/At0SJ8fVgPw3Iuahxymc/MSNhhJWvcD/bTfBN02d3P2zb5nxnaoA/CD5h5MAGhz8NmeH1TyaQP+zrCsc9p5Y/LbKd76fGnz/bLW5ISEmmPww9YvTcQq8/JV2OstnstT8Er5Y7M8G+P0c+r3jqkcU/5h99k6ZBzj88bCIzFzjVP4enV8oyxN0//yH99nXg5D8qOpLLf0jtP5kqGJXUifQ/c9cS8kHP/D+/DpwzojQEQIEmwoanVwxA4lgXt9HgE0BSSZ2AJuIbQAMJih9jjiNA5q4l5INuK0AwTKYKRj0zQNv5fmq8/DpAaCJseHrtQkB/+zpwzoxKQM3MzMzMeFJAZmZmZmZqWEAAAAAAAFxeQM3MzMzMJmJAmpmZmZkfZUBmZmZmZhhoQDMzMzMzEWtAAAAAAAAKbkBmZmZmZoFwQM3MzMzM/XFAMzMzMzN6c0CamZmZmfZ0QAAAAAAAc3ZAZmZmZmbvd0DNzMzMzGt5QDMzMzMz6HpAmpmZmZlkfEAAAAAAAOF9QGZmZmZmXX9AZmZmZuZsgECamZmZGSuBQM3MzMxM6YFAAAAAAICngkAzMzMzs2WDQGZmZmbmI4RAmpmZmRnihEDNzMzMTKCFQAAAAACAXoZAMzMzM7Mch0BmZmZm5tqHQJqZmZkZmYhAzczMzExXiUAAAAAAgBWKQDMzMzOz04pAZmZmZuaRi0CamZmZGVCMQM3MzMxMDo1AAAAAAIDMjUAzMzMzs4qOQGZmZmbmSI9A\",\"dtype\":\"float64\",\"shape\":[75]}},\"selected\":{\"id\":\"90df1d5d-c940-4a30-b4fa-52af377710a9\",\"type\":\"Selection\"},\"selection_policy\":{\"id\":\"548aa29e-f11e-4ec2-9e41-8c4b22f2dc91\",\"type\":\"UnionRenderers\"}},\"id\":\"2c67ad7d-acfc-4850-bae2-7af5d058b8bd\",\"type\":\"ColumnDataSource\"},{\"attributes\":{},\"id\":\"70b8b1ef-030c-4301-a717-f95d5d2869d5\",\"type\":\"BasicTicker\"},{\"attributes\":{\"fill_alpha\":{\"value\":0.7},\"fill_color\":{\"value\":\"#4daf4a\"},\"line_alpha\":{\"value\":0.7},\"line_color\":{\"value\":\"#4daf4a\"},\"x\":{\"field\":\"x\"},\"y\":{\"field\":\"y\"}},\"id\":\"5473f34d-17bd-4e16-b98e-2bf7d07c2966\",\"type\":\"Circle\"},{\"attributes\":{\"below\":[{\"id\":\"c306a739-e095-4025-b95c-a100ac9aa3ce\",\"type\":\"LinearAxis\"}],\"left\":[{\"id\":\"f9d0d2ae-b325-48c8-9107-d5889cd2a071\",\"type\":\"LinearAxis\"}],\"plot_height\":500,\"plot_width\":400,\"renderers\":[{\"id\":\"c306a739-e095-4025-b95c-a100ac9aa3ce\",\"type\":\"LinearAxis\"},{\"id\":\"b4887cb3-9e82-444b-8792-60554d6b09e5\",\"type\":\"Grid\"},{\"id\":\"f9d0d2ae-b325-48c8-9107-d5889cd2a071\",\"type\":\"LinearAxis\"},{\"id\":\"753305f3-b1c7-42a3-8674-bb7a73b0567d\",\"type\":\"Grid\"},{\"id\":\"707077f3-2d76-43cd-ae7d-ebec175bed08\",\"type\":\"BoxAnnotation\"},{\"id\":\"be083419-ff6a-478d-8ff8-7f8ff0368841\",\"type\":\"GlyphRenderer\"},{\"id\":\"9bdffb66-834d-455d-a778-4104a3b44c6e\",\"type\":\"GlyphRenderer\"},{\"id\":\"e000b327-2182-4c6e-8c34-c7c56c746278\",\"type\":\"GlyphRenderer\"},{\"id\":\"5bb8778a-0f59-4d64-b880-82c493f4ebbd\",\"type\":\"GlyphRenderer\"},{\"id\":\"7909d1c6-ab77-493e-b7f8-58361de07fbb\",\"type\":\"GlyphRenderer\"}],\"title\":{\"id\":\"6343cc0e-98ab-444c-a87b-faaf39f53fe9\",\"type\":\"Title\"},\"toolbar\":{\"id\":\"816202de-064e-40a9-a8f7-5c11153807df\",\"type\":\"Toolbar\"},\"toolbar_location\":null,\"x_range\":{\"id\":\"62ae5cf6-09b4-4fd4-bef7-f32c610be099\",\"type\":\"Range1d\"},\"x_scale\":{\"id\":\"acfaddd5-955d-41a9-8790-7f32d5c02ce2\",\"type\":\"LinearScale\"},\"y_range\":{\"id\":\"9c0be7f2-ee06-47da-9d68-cdf58d60a45d\",\"type\":\"Range1d\"},\"y_scale\":{\"id\":\"b0e867bc-ef32-4219-a2b0-bdeb3258e88c\",\"type\":\"LinearScale\"}},\"id\":\"fcdcb3db-4b2e-444c-9c3f-bfbcbae03bd1\",\"subtype\":\"Figure\",\"type\":\"Plot\"},{\"attributes\":{\"data_source\":{\"id\":\"0130b25e-84e7-4b93-ac48-7fd6e7b1034e\",\"type\":\"ColumnDataSource\"},\"glyph\":{\"id\":\"01c23af8-1ee1-47cc-a793-af427d07e715\",\"type\":\"Square\"},\"hover_glyph\":null,\"muted_glyph\":null,\"nonselection_glyph\":{\"id\":\"4906c3b6-f501-4e9d-b647-ceb6c2b453f2\",\"type\":\"Square\"},\"selection_glyph\":null,\"view\":{\"id\":\"8784f62b-3e7a-4768-8a37-4e2854b8e081\",\"type\":\"CDSView\"}},\"id\":\"8ad629c4-4728-4487-a476-b9fbc4cc2676\",\"type\":\"GlyphRenderer\"},{\"attributes\":{\"children\":[{\"id\":\"3bca3f75-94ac-4167-8b88-5b48236b55d2\",\"type\":\"Row\"}]},\"id\":\"d0b22752-239b-4b69-b230-478e1689666c\",\"type\":\"Column\"},{\"attributes\":{\"callback\":null,\"end\":0.5774340841000001,\"start\":-0.1158552341},\"id\":\"62ae5cf6-09b4-4fd4-bef7-f32c610be099\",\"type\":\"Range1d\"},{\"attributes\":{\"callback\":null,\"data\":{\"x\":{\"__ndarray__\":\"t9YXCW05PUBgcTjzqwk5QJAUkWEVozpAG70aoDQcO0BksU0qGiM6QFJF8SprrzdASiU8odcXNECF7LyNzS4wQEFjJlEv6ClAT8x6MZQrJkBLXp1jQAYlQFTgZBu4MyVAl1MCYhKuJUAaGeQuwgQlQGe+3lirlSJAQjIuZpUzH0BvAVdo1kAaQGgd+pOdaxdAxUNz+P8UF0B45R8i2qsYQCOGHcakHxxA5KPFGcM8G0CuefqtQucUQKdkSjX9sw1AkJVO2gpQBkCFAlvKnhkDQJvznakhOwFA/cukPKnl/D+fEEsUa6L3PzWbx2EwH/Q/OL72zJJA8z9m2ZPA5vzwP6BNs+UBseo/mkSc0ur55D8zd2fMqELiP6t6GqwPtuA/cFQ09wz42T9MNGnPPOvPPz1mPQhDFcA/PFbLy9FLsT8z5C57P1mmP7LosqUCf6E/q2wYOLKImz+tMlynzdR1P7IJwY4lSrK/dQJ5+jF7ur85DDywSaKcv2ZRm+K4Jp0/9bF2bOiMpD/uA+5LxsmmPyqqxXp/kKg/8MwLfZ6pqT/Jbgs7MZCqP9lOcL7MCKs/MpL7JftKqz9eNiCTozirPyCk6+Ue4qo/+4tXW9w/qj9pj6DDPxapP8r9igzdsqc/Tf32VNKzpT9SXRmEVLKjPx5v/M3ng6E/WNhDYzw2nz+ZKLQ/X5mcPwql4D3IMZw/gTqrJgSCnz9ragmUdYGkP2cSkliUCqs/RS/5WCdSrj+Swd2b17+pP0ng/VtDVaA/6kgFgPDCjj89sPgRbNFrP5LHNh2/v5i/\",\"dtype\":\"float64\",\"shape\":[75]},\"y\":{\"__ndarray__\":\"S/O/Q+51ND/Sv8nbtpRIP2vylNV0PVE/aTum7souWD/At0SJ8fVgPw3Iuahxymc/MSNhhJWvcD/bTfBN02d3P2zb5nxnaoA/CD5h5MAGhz8NmeH1TyaQP+zrCsc9p5Y/LbKd76fGnz/bLW5ISEmmPww9YvTcQq8/JV2OstnstT8Er5Y7M8G+P0c+r3jqkcU/5h99k6ZBzj88bCIzFzjVP4enV8oyxN0//yH99nXg5D8qOpLLf0jtP5kqGJXUifQ/c9cS8kHP/D+/DpwzojQEQIEmwoanVwxA4lgXt9HgE0BSSZ2AJuIbQAMJih9jjiNA5q4l5INuK0AwTKYKRj0zQNv5fmq8/DpAaCJseHrtQkB/+zpwzoxKQM3MzMzMeFJAZmZmZmZqWEAAAAAAAFxeQM3MzMzMJmJAmpmZmZkfZUBmZmZmZhhoQDMzMzMzEWtAAAAAAAAKbkBmZmZmZoFwQM3MzMzM/XFAMzMzMzN6c0CamZmZmfZ0QAAAAAAAc3ZAZmZmZmbvd0DNzMzMzGt5QDMzMzMz6HpAmpmZmZlkfEAAAAAAAOF9QGZmZmZmXX9AZmZmZuZsgECamZmZGSuBQM3MzMxM6YFAAAAAAICngkAzMzMzs2WDQGZmZmbmI4RAmpmZmRnihEDNzMzMTKCFQAAAAACAXoZAMzMzM7Mch0BmZmZm5tqHQJqZmZkZmYhAzczMzExXiUAAAAAAgBWKQDMzMzOz04pAZmZmZuaRi0CamZmZGVCMQM3MzMxMDo1AAAAAAIDMjUAzMzMzs4qOQGZmZmbmSI9A\",\"dtype\":\"float64\",\"shape\":[75]}},\"selected\":{\"id\":\"d91d878e-798e-4a1a-a546-4cf03216ab2c\",\"type\":\"Selection\"},\"selection_policy\":{\"id\":\"54f4f49d-04a0-4bab-afbf-5772de9318cf\",\"type\":\"UnionRenderers\"}},\"id\":\"69bf8247-7ba0-4105-aab7-de25e5fedabd\",\"type\":\"ColumnDataSource\"},{\"attributes\":{\"active_drag\":\"auto\",\"active_inspect\":\"auto\",\"active_scroll\":\"auto\",\"active_tap\":\"auto\",\"tools\":[{\"id\":\"e900a625-4ead-4d0b-b235-582e147d3348\",\"type\":\"PanTool\"},{\"id\":\"ae07ea61-ec3b-47d0-a7cf-e593e3240eeb\",\"type\":\"WheelZoomTool\"},{\"id\":\"535eb3aa-0506-4e8b-8c84-f36108371e5a\",\"type\":\"BoxZoomTool\"},{\"id\":\"618a1b8c-95c5-46bb-b61e-40d34f54bfea\",\"type\":\"SaveTool\"},{\"id\":\"dfd19138-59da-41a5-b2ee-28661d2bec83\",\"type\":\"ResetTool\"},{\"id\":\"f60e0adb-3b34-407c-b706-d37dfe0418ca\",\"type\":\"HelpTool\"}]},\"id\":\"816202de-064e-40a9-a8f7-5c11153807df\",\"type\":\"Toolbar\"},{\"attributes\":{\"line_alpha\":0.6,\"line_color\":\"#e41a1c\",\"line_dash\":[6],\"line_width\":5,\"x\":{\"field\":\"x\"},\"y\":{\"field\":\"y\"}},\"id\":\"e452f5ac-8d23-40d8-bb12-c7c80d278be8\",\"type\":\"Line\"},{\"attributes\":{\"line_alpha\":0.1,\"line_color\":\"#1f77b4\",\"line_dash\":[6],\"line_width\":5,\"x\":{\"field\":\"x\"},\"y\":{\"field\":\"y\"}},\"id\":\"df5228e1-56b2-4bff-8a22-120008f3c83f\",\"type\":\"Line\"},{\"attributes\":{\"data_source\":{\"id\":\"69bf8247-7ba0-4105-aab7-de25e5fedabd\",\"type\":\"ColumnDataSource\"},\"glyph\":{\"id\":\"e452f5ac-8d23-40d8-bb12-c7c80d278be8\",\"type\":\"Line\"},\"hover_glyph\":null,\"muted_glyph\":null,\"nonselection_glyph\":{\"id\":\"0a55c564-c111-484a-8070-ec1d2bb21e45\",\"type\":\"Line\"},\"selection_glyph\":null,\"view\":{\"id\":\"77f63d01-6ae4-441b-bf77-7adc76215850\",\"type\":\"CDSView\"}},\"id\":\"2bf4a496-0161-4259-8777-ffd86dbee2b3\",\"type\":\"GlyphRenderer\"},{\"attributes\":{},\"id\":\"79137756-b5af-428a-ac07-9caed749e35e\",\"type\":\"BasicTicker\"},{\"attributes\":{\"fill_alpha\":{\"value\":0.1},\"fill_color\":{\"value\":\"#1f77b4\"},\"line_alpha\":{\"value\":0.1},\"line_color\":{\"value\":\"#1f77b4\"},\"x\":{\"field\":\"x\"},\"y\":{\"field\":\"y\"}},\"id\":\"ae691d9a-d582-4e97-abfd-668381bd856b\",\"type\":\"Circle\"},{\"attributes\":{},\"id\":\"edf28316-6590-4d30-973e-64b7a2ec61b3\",\"type\":\"BasicTickFormatter\"},{\"attributes\":{\"line_color\":\"#4daf4a\",\"line_width\":1.5,\"x\":{\"field\":\"x\"},\"y\":{\"field\":\"y\"}},\"id\":\"3c58b9c2-5c04-482d-867b-5e7a858e42a6\",\"type\":\"Line\"},{\"attributes\":{\"line_alpha\":0.1,\"line_color\":\"#1f77b4\",\"line_width\":1.5,\"x\":{\"field\":\"x\"},\"y\":{\"field\":\"y\"}},\"id\":\"9c76ca9d-2d4c-4e0d-87b8-3f33c305fb68\",\"type\":\"Line\"},{\"attributes\":{\"line_alpha\":0.1,\"line_color\":\"#1f77b4\",\"line_width\":1.5,\"x\":{\"field\":\"x\"},\"y\":{\"field\":\"y\"}},\"id\":\"703d93a5-6c1b-4163-86b5-615b4712ca6d\",\"type\":\"Line\"},{\"attributes\":{\"fill_alpha\":{\"value\":0.7},\"fill_color\":{\"value\":\"#984ea3\"},\"line_alpha\":{\"value\":0.7},\"line_color\":{\"value\":\"#984ea3\"},\"x\":{\"field\":\"x\"},\"y\":{\"field\":\"y\"}},\"id\":\"a2c46e95-2684-41e1-a80f-7bae79f48a32\",\"type\":\"Square\"},{\"attributes\":{\"source\":{\"id\":\"fb1f6543-129c-474f-a9c0-e08064d43dcb\",\"type\":\"ColumnDataSource\"}},\"id\":\"7a6ebe5d-411d-4ddb-b098-73d998222648\",\"type\":\"CDSView\"},{\"attributes\":{\"callback\":null,\"data\":{\"x\":{\"__ndarray__\":\"9aEL6lvUQEBCI9i4/sU5QKryPSMRtjpA1xLyQc+SOkAjvajdr0I5QD1DOGbZ6zZAqFX0h2bmM0AJMZdUbbswQHOAYI4e/ytAiBIteTxFKEDpLomzIlomQIoe+BisqCVAW1t4XiqOJUBYGCKnr6ckQHIJdrKKWSJAphal3xmYH0AnlCr2PIwbQJwMfWb/ChlAJdwax/5QGEDElbN3RkMZQKcYjLbPNxxANhFHaBUPG0AEvBY+bNMUQDw5nio6vQ5A8xO9QtXOB0AJ7CBletgDQNXLlHsm8ABABhWweEWL/D9QrK6e7nf4P9bC0foASfU/nT3hNmQN8z+4HoXrURjwP2MFx3559ek/xVsAfc+m5T/2XMc0qv7hP0WO36FJ3t4/wn4VAcq22D9RuS6hJ4rQP5VPqAq6+8I/6qXWuXGktj8UnZCW/cysP+aRapjU4qM/E2zdf8Ssmj+gnHkVuIVOPxL7gBfooLO/M0D1UT7ru78V5UkHKGOhv1lBwubSrpg/hefixXs7oz+LqNqFHuWlP33cGc5+oqc/7LR69nj7qD9wxsZCyAeqP4Hv9FLKzqo/67uzWoZWqz++Q8tmgJ6rP61sqOP0n6s/24AeVvdJqz9r2Fdt6nuqP3bHBCpTNKk/IH3ae81/pz/4qH1Cj3ulP1f4VsttYKM/3ao/UNt3oT/8gZahNhmgP9nZrtXAhJ8/qZSAk8tRoT8xiRhOUMWlP3XkE3WQHqw//OUhwNoyrz/Y9UBok3yqP8OgW872/6A/9J79WvTUkD/uxYqwHgRzP2FanH1aT5e/\",\"dtype\":\"float64\",\"shape\":[75]},\"y\":{\"__ndarray__\":\"GhExyth1ND/Sv8nbtpRIP2vylNV0PVE/aTum7souWD/At0SJ8fVgPw3Iuahxymc/MSNhhJWvcD/bTfBN02d3P2zb5nxnaoA/CD5h5MAGhz8NmeH1TyaQP+zrCsc9p5Y/LbKd76fGnz/bLW5ISEmmPww9YvTcQq8/JV2OstnstT8Er5Y7M8G+P0c+r3jqkcU/5h99k6ZBzj88bCIzFzjVP4enV8oyxN0//yH99nXg5D8qOpLLf0jtP5kqGJXUifQ/c9cS8kHP/D+/DpwzojQEQIEmwoanVwxA4lgXt9HgE0BSSZ2AJuIbQAMJih9jjiNA5q4l5INuK0AwTKYKRj0zQNv5fmq8/DpAaCJseHrtQkB/+zpwzoxKQM3MzMzMeFJAZmZmZmZqWEAAAAAAAFxeQM3MzMzMJmJAmpmZmZkfZUBmZmZmZhhoQDMzMzMzEWtAAAAAAAAKbkBmZmZmZoFwQM3MzMzM/XFAMzMzMzN6c0CamZmZmfZ0QAAAAAAAc3ZAZmZmZmbvd0DNzMzMzGt5QDMzMzMz6HpAmpmZmZlkfEAAAAAAAOF9QGZmZmZmXX9AZmZmZuZsgECamZmZGSuBQM3MzMxM6YFAAAAAAICngkAzMzMzs2WDQGZmZmbmI4RAmpmZmRnihEDNzMzMTKCFQAAAAACAXoZAMzMzM7Mch0BmZmZm5tqHQJqZmZkZmYhAzczMzExXiUAAAAAAgBWKQDMzMzOz04pAZmZmZuaRi0CamZmZGVCMQM3MzMxMDo1AAAAAAIDMjUAzMzMzs4qOQGZmZmbmSI9A\",\"dtype\":\"float64\",\"shape\":[75]}},\"selected\":{\"id\":\"0c4785e2-bffc-4ec4-8529-db53e40ced40\",\"type\":\"Selection\"},\"selection_policy\":{\"id\":\"3fb714da-7f79-49d7-846c-f8df21aac56f\",\"type\":\"UnionRenderers\"}},\"id\":\"0130b25e-84e7-4b93-ac48-7fd6e7b1034e\",\"type\":\"ColumnDataSource\"},{\"attributes\":{\"fill_alpha\":{\"value\":0.7},\"fill_color\":{\"value\":\"#984ea3\"},\"line_alpha\":{\"value\":0.7},\"line_color\":{\"value\":\"#984ea3\"},\"x\":{\"field\":\"x\"},\"y\":{\"field\":\"y\"}},\"id\":\"01c23af8-1ee1-47cc-a793-af427d07e715\",\"type\":\"Square\"},{\"attributes\":{\"source\":{\"id\":\"3a046f17-5f65-4c4d-b4bb-1fe976cc7b96\",\"type\":\"ColumnDataSource\"}},\"id\":\"0bbe4e7f-af47-49d5-b6fe-a58c2e8550bc\",\"type\":\"CDSView\"},{\"attributes\":{\"callback\":null,\"data\":{\"x\":{\"__ndarray__\":\"nu488ZyzUEDBHahTHjU+QMzz4O6sQTxA1jkGZK9XOUC6SnfX2Sw2QIDwoURLOjNAjc9k/zy5MECBdocUA3QtQI1EaAQbZypAYp8AipEdKECKPEm6ZmImQJpDUgslCyVAufyH9NsvJEC76Ttkb+YiQBehM8QMtCBAk/AppQxhHUAiHXl7a6saQJMcsKvJAxlAIpov5TJcGED43An2X88YQGd4swbvQxtAprc/Fw0RGkDKBi1/GU8UQFb5VATuTw9Ad5JjoYwHCUBV8essHw4EQDNMEvAQS/8/OmEdIskn+T823aEXpG/2P3Ai+rX1M/Q/kEsceSAy8T/KnsqKXfLqP/EYebTMXeY/ABtSPYDC5D9Zd+IoL6jhP/aPjVlZz9s/2zF1V3bB1T8TE+2NzrfPP9tgNG332cU/NHBZ6Pc7wD9f+8zQrZS4P5e3Z7kTPLI/dpOePSVUqD9U5n44XGyJP2VKHmGuS7G/MlTmYuMsur+nz/cbOUeiv0A84PQN0JQ/TXuHMaIaoz/KceEfOi2nP2haMiwelak/XMPDtnAZqz/A0xDHTRysP6E2bXBpz6w/v7UE+vNWrT9DFyP+oK+tP0xdKh1J1a0/audSYQ6wrT+jOJZj8RytP1oWuZiADqw/kh1vgAaMqj97okHDyLaoPx50igf0v6Y/LXGq1j70pD88jg1H0a+jP+5Wh73/eKM/BrajaIAzpT8q4kRZl9GpPxxjUjxhG7A/G5s+t6eWsT9IQfxrlTquP8KUN3Y/XaQ/4AAPGUp+lj8unX+RkaCBP9dxzhh+IZS/\",\"dtype\":\"float64\",\"shape\":[75]},\"y\":{\"__ndarray__\":\"GhExyth1ND/Sv8nbtpRIP2vylNV0PVE/aTum7souWD/At0SJ8fVgPw3Iuahxymc/MSNhhJWvcD/bTfBN02d3P2zb5nxnaoA/CD5h5MAGhz8NmeH1TyaQP+zrCsc9p5Y/LbKd76fGnz/bLW5ISEmmPww9YvTcQq8/JV2OstnstT8Er5Y7M8G+P0c+r3jqkcU/5h99k6ZBzj88bCIzFzjVP4enV8oyxN0//yH99nXg5D8qOpLLf0jtP5kqGJXUifQ/c9cS8kHP/D+/DpwzojQEQIEmwoanVwxA4lgXt9HgE0BSSZ2AJuIbQAMJih9jjiNA5q4l5INuK0AwTKYKRj0zQNv5fmq8/DpAaCJseHrtQkB/+zpwzoxKQM3MzMzMeFJAZmZmZmZqWEAAAAAAAFxeQM3MzMzMJmJAmpmZmZkfZUBmZmZmZhhoQDMzMzMzEWtAAAAAAAAKbkBmZmZmZoFwQM3MzMzM/XFAMzMzMzN6c0CamZmZmfZ0QAAAAAAAc3ZAZmZmZmbvd0DNzMzMzGt5QDMzMzMz6HpAmpmZmZlkfEAAAAAAAOF9QGZmZmZmXX9AZmZmZuZsgECamZmZGSuBQM3MzMxM6YFAAAAAAICngkAzMzMzs2WDQGZmZmbmI4RAmpmZmRnihEDNzMzMTKCFQAAAAACAXoZAMzMzM7Mch0BmZmZm5tqHQJqZmZkZmYhAzczMzExXiUAAAAAAgBWKQDMzMzOz04pAZmZmZuaRi0CamZmZGVCMQM3MzMxMDo1AAAAAAIDMjUAzMzMzs4qOQGZmZmbmSI9A\",\"dtype\":\"float64\",\"shape\":[75]}},\"selected\":{\"id\":\"59bfae74-cb46-4a43-a47e-d570ad6fb1d1\",\"type\":\"Selection\"},\"selection_policy\":{\"id\":\"6afe8265-d72d-4e41-ab54-1a6f8bc2b024\",\"type\":\"UnionRenderers\"}},\"id\":\"9b2a296a-186e-4168-89bb-6d2786de5ed6\",\"type\":\"ColumnDataSource\"},{\"attributes\":{\"fill_alpha\":{\"value\":0.1},\"fill_color\":{\"value\":\"#1f77b4\"},\"line_alpha\":{\"value\":0.1},\"line_color\":{\"value\":\"#1f77b4\"},\"x\":{\"field\":\"x\"},\"y\":{\"field\":\"y\"}},\"id\":\"4906c3b6-f501-4e9d-b647-ceb6c2b453f2\",\"type\":\"Square\"},{\"attributes\":{\"data_source\":{\"id\":\"9b2a296a-186e-4168-89bb-6d2786de5ed6\",\"type\":\"ColumnDataSource\"},\"glyph\":{\"id\":\"cf0585a3-4513-4886-a066-3353af3f0871\",\"type\":\"Line\"},\"hover_glyph\":null,\"muted_glyph\":null,\"nonselection_glyph\":{\"id\":\"9c76ca9d-2d4c-4e0d-87b8-3f33c305fb68\",\"type\":\"Line\"},\"selection_glyph\":null,\"view\":{\"id\":\"00e84abe-0b9d-4a44-906d-7595b3019f92\",\"type\":\"CDSView\"}},\"id\":\"61644b9d-e56b-49af-b0d0-312fabc1c14e\",\"type\":\"GlyphRenderer\"},{\"attributes\":{\"children\":[{\"id\":\"fcdcb3db-4b2e-444c-9c3f-bfbcbae03bd1\",\"subtype\":\"Figure\",\"type\":\"Plot\"},{\"id\":\"c1d3db61-b2e5-46c3-a5f9-833f104e31d2\",\"subtype\":\"Figure\",\"type\":\"Plot\"}]},\"id\":\"3bca3f75-94ac-4167-8b88-5b48236b55d2\",\"type\":\"Row\"},{\"attributes\":{\"line_color\":\"#4daf4a\",\"line_width\":1.5,\"x\":{\"field\":\"x\"},\"y\":{\"field\":\"y\"}},\"id\":\"cf0585a3-4513-4886-a066-3353af3f0871\",\"type\":\"Line\"},{\"attributes\":{\"source\":{\"id\":\"9b2a296a-186e-4168-89bb-6d2786de5ed6\",\"type\":\"ColumnDataSource\"}},\"id\":\"00e84abe-0b9d-4a44-906d-7595b3019f92\",\"type\":\"CDSView\"},{\"attributes\":{\"source\":{\"id\":\"e8c1dbc3-bdb4-4396-8218-561d8484d935\",\"type\":\"ColumnDataSource\"}},\"id\":\"4772060d-35cb-4784-b571-a343dbfc6cef\",\"type\":\"CDSView\"},{\"attributes\":{\"label\":{\"value\":\"CLIRAD `coolr_bands`\"},\"renderers\":[{\"id\":\"2bf4a496-0161-4259-8777-ffd86dbee2b3\",\"type\":\"GlyphRenderer\"}]},\"id\":\"08c33d1e-74f8-470c-9b8c-f38c2b1665d6\",\"type\":\"LegendItem\"},{\"attributes\":{\"callback\":null,\"end\":12.25614277342,\"start\":-0.07726611542},\"id\":\"e7c61953-503b-4d38-af90-795c95992167\",\"type\":\"Range1d\"},{\"attributes\":{},\"id\":\"847fa55b-3c97-47ef-95e3-94aaada0f641\",\"type\":\"BasicTickFormatter\"},{\"attributes\":{\"label\":{\"value\":\"CRD\"},\"renderers\":[{\"id\":\"e5a2a445-d2f2-4818-95a3-9dacb42f51e8\",\"type\":\"GlyphRenderer\"},{\"id\":\"61644b9d-e56b-49af-b0d0-312fabc1c14e\",\"type\":\"GlyphRenderer\"}]},\"id\":\"a6103cd4-09fd-47b7-be5e-36f20302802a\",\"type\":\"LegendItem\"},{\"attributes\":{},\"id\":\"ae0da0c6-4acd-4ae5-b7a7-ca87537555d7\",\"type\":\"UnionRenderers\"},{\"attributes\":{\"source\":{\"id\":\"81955f1b-c23f-48f6-bb48-00ca1a4e2e7a\",\"type\":\"ColumnDataSource\"}},\"id\":\"c12c21e4-bb1d-4902-baf2-01ce7c7e6961\",\"type\":\"CDSView\"},{\"attributes\":{\"label\":{\"value\":\"WGT igg=10 wgt_flux=2\"},\"renderers\":[{\"id\":\"8ad629c4-4728-4487-a476-b9fbc4cc2676\",\"type\":\"GlyphRenderer\"},{\"id\":\"817aa4c6-0488-4cdf-b141-e611ad3964fa\",\"type\":\"GlyphRenderer\"}]},\"id\":\"e7e0bd9b-d58e-4285-b004-865fd5d57e7c\",\"type\":\"LegendItem\"},{\"attributes\":{},\"id\":\"b409abd0-5225-41b7-aba2-4cf8e1524064\",\"type\":\"UnionRenderers\"},{\"attributes\":{\"axis_label\":\"cooling rate [K/day]\",\"formatter\":{\"id\":\"612e79ed-79f3-45a7-9d63-ae8952b522b2\",\"type\":\"BasicTickFormatter\"},\"plot\":{\"id\":\"c1d3db61-b2e5-46c3-a5f9-833f104e31d2\",\"subtype\":\"Figure\",\"type\":\"Plot\"},\"ticker\":{\"id\":\"2dc9c101-abd9-477e-a23c-5cc4bf8cd5e9\",\"type\":\"BasicTicker\"}},\"id\":\"343276be-d922-4d62-8b3c-793b1bd68e5e\",\"type\":\"LinearAxis\"},{\"attributes\":{},\"id\":\"6af7f6ca-0af3-498e-8f4e-a53a1e251bca\",\"type\":\"Selection\"},{\"attributes\":{},\"id\":\"5b069518-1824-4247-bd50-a34f501f9481\",\"type\":\"LogScale\"},{\"attributes\":{},\"id\":\"558b9f3b-fa68-4f90-9a19-d7c151dbd125\",\"type\":\"Selection\"},{\"attributes\":{\"data_source\":{\"id\":\"8f12fd57-076b-413a-b01a-46860e57d4f9\",\"type\":\"ColumnDataSource\"},\"glyph\":{\"id\":\"3c58b9c2-5c04-482d-867b-5e7a858e42a6\",\"type\":\"Line\"},\"hover_glyph\":null,\"muted_glyph\":null,\"nonselection_glyph\":{\"id\":\"703d93a5-6c1b-4163-86b5-615b4712ca6d\",\"type\":\"Line\"},\"selection_glyph\":null,\"view\":{\"id\":\"1ca200fe-a7f1-4ff8-9ccd-2e568bf8fa14\",\"type\":\"CDSView\"}},\"id\":\"e000b327-2182-4c6e-8c34-c7c56c746278\",\"type\":\"GlyphRenderer\"},{\"attributes\":{},\"id\":\"612e79ed-79f3-45a7-9d63-ae8952b522b2\",\"type\":\"BasicTickFormatter\"},{\"attributes\":{\"data_source\":{\"id\":\"3a046f17-5f65-4c4d-b4bb-1fe976cc7b96\",\"type\":\"ColumnDataSource\"},\"glyph\":{\"id\":\"a2c46e95-2684-41e1-a80f-7bae79f48a32\",\"type\":\"Square\"},\"hover_glyph\":null,\"muted_glyph\":null,\"nonselection_glyph\":{\"id\":\"c211c57f-94f9-4aa7-b3ad-3a97487f34d1\",\"type\":\"Square\"},\"selection_glyph\":null,\"view\":{\"id\":\"0bbe4e7f-af47-49d5-b6fe-a58c2e8550bc\",\"type\":\"CDSView\"}},\"id\":\"5bb8778a-0f59-4d64-b880-82c493f4ebbd\",\"type\":\"GlyphRenderer\"},{\"attributes\":{},\"id\":\"caad9f3e-fc23-4be7-8421-6a846a66976a\",\"type\":\"UnionRenderers\"},{\"attributes\":{},\"id\":\"e0368f66-3e79-4751-b461-2870aadd2432\",\"type\":\"Selection\"},{\"attributes\":{\"plot\":{\"id\":\"c1d3db61-b2e5-46c3-a5f9-833f104e31d2\",\"subtype\":\"Figure\",\"type\":\"Plot\"},\"ticker\":{\"id\":\"2dc9c101-abd9-477e-a23c-5cc4bf8cd5e9\",\"type\":\"BasicTicker\"}},\"id\":\"985e7446-12d6-4734-875c-37b1bef5dd98\",\"type\":\"Grid\"},{\"attributes\":{},\"id\":\"ae991ba1-c9f9-4120-bf58-f41b456336f1\",\"type\":\"Selection\"},{\"attributes\":{\"fill_alpha\":{\"value\":0.7},\"fill_color\":{\"value\":\"#4daf4a\"},\"line_alpha\":{\"value\":0.7},\"line_color\":{\"value\":\"#4daf4a\"},\"x\":{\"field\":\"x\"},\"y\":{\"field\":\"y\"}},\"id\":\"b8dfec2f-1de2-4b21-9ffa-8e0a1aa9872a\",\"type\":\"Circle\"},{\"attributes\":{},\"id\":\"562e0a4b-995c-4b63-a895-53d09e406f5c\",\"type\":\"UnionRenderers\"},{\"attributes\":{},\"id\":\"0719322a-6b02-40ba-8a2b-674aab1f37a3\",\"type\":\"LinearScale\"},{\"attributes\":{},\"id\":\"ae0c5a3d-f9f1-416b-9dd7-e1140c2a264f\",\"type\":\"Selection\"},{\"attributes\":{},\"id\":\"2dc9c101-abd9-477e-a23c-5cc4bf8cd5e9\",\"type\":\"BasicTicker\"},{\"attributes\":{},\"id\":\"7c5ba8c4-a00f-4243-9af2-2bef6be6eba4\",\"type\":\"UnionRenderers\"},{\"attributes\":{\"axis_label\":\"pressure [mb]\",\"formatter\":{\"id\":\"47a531fe-e786-44b8-8c25-c643f28ba4a1\",\"type\":\"LogTickFormatter\"},\"plot\":{\"id\":\"c1d3db61-b2e5-46c3-a5f9-833f104e31d2\",\"subtype\":\"Figure\",\"type\":\"Plot\"},\"ticker\":{\"id\":\"abe4aac2-3c5d-44d2-bab2-24eb5bf24dda\",\"type\":\"LogTicker\"}},\"id\":\"c0b77b4d-01e7-40c6-bad3-57eb2b75c828\",\"type\":\"LogAxis\"},{\"attributes\":{},\"id\":\"6afe8265-d72d-4e41-ab54-1a6f8bc2b024\",\"type\":\"UnionRenderers\"},{\"attributes\":{},\"id\":\"548aa29e-f11e-4ec2-9e41-8c4b22f2dc91\",\"type\":\"UnionRenderers\"},{\"attributes\":{\"ticker\":null},\"id\":\"47a531fe-e786-44b8-8c25-c643f28ba4a1\",\"type\":\"LogTickFormatter\"},{\"attributes\":{\"line_alpha\":0.1,\"line_color\":\"#1f77b4\",\"line_width\":3,\"x\":{\"field\":\"x\"},\"y\":{\"field\":\"y\"}},\"id\":\"9d507702-0a76-4549-970a-e4a7e8e08d1e\",\"type\":\"Line\"},{\"attributes\":{\"toolbar\":{\"id\":\"cc6892d6-895c-4f06-a9b6-c46156f12968\",\"type\":\"ProxyToolbar\"},\"toolbar_location\":\"above\"},\"id\":\"c3d40d9c-12c3-4283-a9e8-e34d018feb9b\",\"type\":\"ToolbarBox\"},{\"attributes\":{},\"id\":\"54f4f49d-04a0-4bab-afbf-5772de9318cf\",\"type\":\"UnionRenderers\"},{\"attributes\":{\"active_drag\":\"auto\",\"active_inspect\":\"auto\",\"active_scroll\":\"auto\",\"active_tap\":\"auto\",\"tools\":[{\"id\":\"253a1ab1-7c52-4f34-8bce-ee7579597814\",\"type\":\"PanTool\"},{\"id\":\"bed15758-90d7-4875-b876-c571f1ddef12\",\"type\":\"WheelZoomTool\"},{\"id\":\"ce59169c-6298-4db4-a465-b0630bb1ff9c\",\"type\":\"BoxZoomTool\"},{\"id\":\"e324edda-e05e-47a2-8b91-f7ac804ede62\",\"type\":\"SaveTool\"},{\"id\":\"c9bd04d7-a1a8-49dc-ba42-c9e38470ce8c\",\"type\":\"ResetTool\"},{\"id\":\"f5e4f38b-7f7d-41b9-9125-6facf1dc5f0d\",\"type\":\"HelpTool\"}]},\"id\":\"96c01b0c-f081-427c-9030-ee754cbb1dc9\",\"type\":\"Toolbar\"},{\"attributes\":{\"line_alpha\":0.6,\"line_color\":\"#984ea3\",\"line_width\":3,\"x\":{\"field\":\"x\"},\"y\":{\"field\":\"y\"}},\"id\":\"ebc2b5b4-23f1-4f87-b591-48be87868ecb\",\"type\":\"Line\"},{\"attributes\":{},\"id\":\"90df1d5d-c940-4a30-b4fa-52af377710a9\",\"type\":\"Selection\"},{\"attributes\":{},\"id\":\"d91d878e-798e-4a1a-a546-4cf03216ab2c\",\"type\":\"Selection\"},{\"attributes\":{\"data_source\":{\"id\":\"2c67ad7d-acfc-4850-bae2-7af5d058b8bd\",\"type\":\"ColumnDataSource\"},\"glyph\":{\"id\":\"5473f34d-17bd-4e16-b98e-2bf7d07c2966\",\"type\":\"Circle\"},\"hover_glyph\":null,\"muted_glyph\":null,\"nonselection_glyph\":{\"id\":\"ae691d9a-d582-4e97-abfd-668381bd856b\",\"type\":\"Circle\"},\"selection_glyph\":null,\"view\":{\"id\":\"2932e8cb-80e5-410e-85ee-df86a2a11728\",\"type\":\"CDSView\"}},\"id\":\"e5a2a445-d2f2-4818-95a3-9dacb42f51e8\",\"type\":\"GlyphRenderer\"},{\"attributes\":{},\"id\":\"59bfae74-cb46-4a43-a47e-d570ad6fb1d1\",\"type\":\"Selection\"},{\"attributes\":{\"num_minor_ticks\":10},\"id\":\"abe4aac2-3c5d-44d2-bab2-24eb5bf24dda\",\"type\":\"LogTicker\"},{\"attributes\":{},\"id\":\"4fd73c3a-a696-4829-8a57-a245a943fd97\",\"type\":\"Selection\"},{\"attributes\":{\"callback\":null,\"end\":0.01,\"start\":1020},\"id\":\"37be3e78-e605-4bb5-b924-26689ac32303\",\"type\":\"Range1d\"},{\"attributes\":{},\"id\":\"fac858ac-d915-49db-8b65-e142221ea814\",\"type\":\"UnionRenderers\"},{\"attributes\":{},\"id\":\"0c4785e2-bffc-4ec4-8529-db53e40ced40\",\"type\":\"Selection\"},{\"attributes\":{\"items\":[{\"id\":\"08c33d1e-74f8-470c-9b8c-f38c2b1665d6\",\"type\":\"LegendItem\"},{\"id\":\"a6103cd4-09fd-47b7-be5e-36f20302802a\",\"type\":\"LegendItem\"},{\"id\":\"e7e0bd9b-d58e-4285-b004-865fd5d57e7c\",\"type\":\"LegendItem\"}],\"label_text_font_size\":{\"value\":\"8pt\"},\"location\":[10,-30],\"plot\":{\"id\":\"c1d3db61-b2e5-46c3-a5f9-833f104e31d2\",\"subtype\":\"Figure\",\"type\":\"Plot\"}},\"id\":\"b22ec308-5c07-42a1-96cb-ad4ab50974dc\",\"type\":\"Legend\"},{\"attributes\":{},\"id\":\"3fb714da-7f79-49d7-846c-f8df21aac56f\",\"type\":\"UnionRenderers\"},{\"attributes\":{\"children\":[{\"id\":\"c3d40d9c-12c3-4283-a9e8-e34d018feb9b\",\"type\":\"ToolbarBox\"},{\"id\":\"d0b22752-239b-4b69-b230-478e1689666c\",\"type\":\"Column\"}]},\"id\":\"138bef81-5266-45c9-8a26-fdc7d8161043\",\"type\":\"Column\"},{\"attributes\":{\"source\":{\"id\":\"2c67ad7d-acfc-4850-bae2-7af5d058b8bd\",\"type\":\"ColumnDataSource\"}},\"id\":\"2932e8cb-80e5-410e-85ee-df86a2a11728\",\"type\":\"CDSView\"},{\"attributes\":{\"tools\":[{\"id\":\"e900a625-4ead-4d0b-b235-582e147d3348\",\"type\":\"PanTool\"},{\"id\":\"ae07ea61-ec3b-47d0-a7cf-e593e3240eeb\",\"type\":\"WheelZoomTool\"},{\"id\":\"535eb3aa-0506-4e8b-8c84-f36108371e5a\",\"type\":\"BoxZoomTool\"},{\"id\":\"618a1b8c-95c5-46bb-b61e-40d34f54bfea\",\"type\":\"SaveTool\"},{\"id\":\"dfd19138-59da-41a5-b2ee-28661d2bec83\",\"type\":\"ResetTool\"},{\"id\":\"f60e0adb-3b34-407c-b706-d37dfe0418ca\",\"type\":\"HelpTool\"},{\"id\":\"253a1ab1-7c52-4f34-8bce-ee7579597814\",\"type\":\"PanTool\"},{\"id\":\"bed15758-90d7-4875-b876-c571f1ddef12\",\"type\":\"WheelZoomTool\"},{\"id\":\"ce59169c-6298-4db4-a465-b0630bb1ff9c\",\"type\":\"BoxZoomTool\"},{\"id\":\"e324edda-e05e-47a2-8b91-f7ac804ede62\",\"type\":\"SaveTool\"},{\"id\":\"c9bd04d7-a1a8-49dc-ba42-c9e38470ce8c\",\"type\":\"ResetTool\"},{\"id\":\"f5e4f38b-7f7d-41b9-9125-6facf1dc5f0d\",\"type\":\"HelpTool\"}]},\"id\":\"cc6892d6-895c-4f06-a9b6-c46156f12968\",\"type\":\"ProxyToolbar\"},{\"attributes\":{\"callback\":null,\"data\":{\"x\":{\"__ndarray__\":\"nu488ZyzUEDBHahTHjU+QMzz4O6sQTxA1jkGZK9XOUC6SnfX2Sw2QIDwoURLOjNAjc9k/zy5MECBdocUA3QtQI1EaAQbZypAYp8AipEdKECKPEm6ZmImQJpDUgslCyVAufyH9NsvJEC76Ttkb+YiQBehM8QMtCBAk/AppQxhHUAiHXl7a6saQJMcsKvJAxlAIpov5TJcGED43An2X88YQGd4swbvQxtAprc/Fw0RGkDKBi1/GU8UQFb5VATuTw9Ad5JjoYwHCUBV8essHw4EQDNMEvAQS/8/OmEdIskn+T823aEXpG/2P3Ai+rX1M/Q/kEsceSAy8T/KnsqKXfLqP/EYebTMXeY/ABtSPYDC5D9Zd+IoL6jhP/aPjVlZz9s/2zF1V3bB1T8TE+2NzrfPP9tgNG332cU/NHBZ6Pc7wD9f+8zQrZS4P5e3Z7kTPLI/dpOePSVUqD9U5n44XGyJP2VKHmGuS7G/MlTmYuMsur+nz/cbOUeiv0A84PQN0JQ/TXuHMaIaoz/KceEfOi2nP2haMiwelak/XMPDtnAZqz/A0xDHTRysP6E2bXBpz6w/v7UE+vNWrT9DFyP+oK+tP0xdKh1J1a0/audSYQ6wrT+jOJZj8RytP1oWuZiADqw/kh1vgAaMqj97okHDyLaoPx50igf0v6Y/LXGq1j70pD88jg1H0a+jP+5Wh73/eKM/BrajaIAzpT8q4kRZl9GpPxxjUjxhG7A/G5s+t6eWsT9IQfxrlTquP8KUN3Y/XaQ/4AAPGUp+lj8unX+RkaCBP9dxzhh+IZS/\",\"dtype\":\"float64\",\"shape\":[75]},\"y\":{\"__ndarray__\":\"GhExyth1ND/Sv8nbtpRIP2vylNV0PVE/aTum7souWD/At0SJ8fVgPw3Iuahxymc/MSNhhJWvcD/bTfBN02d3P2zb5nxnaoA/CD5h5MAGhz8NmeH1TyaQP+zrCsc9p5Y/LbKd76fGnz/bLW5ISEmmPww9YvTcQq8/JV2OstnstT8Er5Y7M8G+P0c+r3jqkcU/5h99k6ZBzj88bCIzFzjVP4enV8oyxN0//yH99nXg5D8qOpLLf0jtP5kqGJXUifQ/c9cS8kHP/D+/DpwzojQEQIEmwoanVwxA4lgXt9HgE0BSSZ2AJuIbQAMJih9jjiNA5q4l5INuK0AwTKYKRj0zQNv5fmq8/DpAaCJseHrtQkB/+zpwzoxKQM3MzMzMeFJAZmZmZmZqWEAAAAAAAFxeQM3MzMzMJmJAmpmZmZkfZUBmZmZmZhhoQDMzMzMzEWtAAAAAAAAKbkBmZmZmZoFwQM3MzMzM/XFAMzMzMzN6c0CamZmZmfZ0QAAAAAAAc3ZAZmZmZmbvd0DNzMzMzGt5QDMzMzMz6HpAmpmZmZlkfEAAAAAAAOF9QGZmZmZmXX9AZmZmZuZsgECamZmZGSuBQM3MzMxM6YFAAAAAAICngkAzMzMzs2WDQGZmZmbmI4RAmpmZmRnihEDNzMzMTKCFQAAAAACAXoZAMzMzM7Mch0BmZmZm5tqHQJqZmZkZmYhAzczMzExXiUAAAAAAgBWKQDMzMzOz04pAZmZmZuaRi0CamZmZGVCMQM3MzMxMDo1AAAAAAIDMjUAzMzMzs4qOQGZmZmbmSI9A\",\"dtype\":\"float64\",\"shape\":[75]}},\"selected\":{\"id\":\"558b9f3b-fa68-4f90-9a19-d7c151dbd125\",\"type\":\"Selection\"},\"selection_policy\":{\"id\":\"ae0da0c6-4acd-4ae5-b7a7-ca87537555d7\",\"type\":\"UnionRenderers\"}},\"id\":\"8f12fd57-076b-413a-b01a-46860e57d4f9\",\"type\":\"ColumnDataSource\"},{\"attributes\":{\"callback\":null,\"data\":{\"x\":{\"__ndarray__\":\"t9YXCW05PUBgcTjzqwk5QJAUkWEVozpAG70aoDQcO0BksU0qGiM6QFJF8SprrzdASiU8odcXNECF7LyNzS4wQEFjJlEv6ClAT8x6MZQrJkBLXp1jQAYlQFTgZBu4MyVAl1MCYhKuJUAaGeQuwgQlQGe+3lirlSJAQjIuZpUzH0BvAVdo1kAaQGgd+pOdaxdAxUNz+P8UF0B45R8i2qsYQCOGHcakHxxA5KPFGcM8G0CuefqtQucUQKdkSjX9sw1AkJVO2gpQBkCFAlvKnhkDQJvznakhOwFA/cukPKnl/D+fEEsUa6L3PzWbx2EwH/Q/OL72zJJA8z9m2ZPA5vzwP6BNs+UBseo/mkSc0ur55D8zd2fMqELiP6t6GqwPtuA/cFQ09wz42T9MNGnPPOvPPz1mPQhDFcA/PFbLy9FLsT8z5C57P1mmP7LosqUCf6E/q2wYOLKImz+tMlynzdR1P7IJwY4lSrK/dQJ5+jF7ur85DDywSaKcv2ZRm+K4Jp0/9bF2bOiMpD/uA+5LxsmmPyqqxXp/kKg/8MwLfZ6pqT/Jbgs7MZCqP9lOcL7MCKs/MpL7JftKqz9eNiCTozirPyCk6+Ue4qo/+4tXW9w/qj9pj6DDPxapP8r9igzdsqc/Tf32VNKzpT9SXRmEVLKjPx5v/M3ng6E/WNhDYzw2nz+ZKLQ/X5mcPwql4D3IMZw/gTqrJgSCnz9ragmUdYGkP2cSkliUCqs/RS/5WCdSrj+Swd2b17+pP0ng/VtDVaA/6kgFgPDCjj89sPgRbNFrP5LHNh2/v5i/\",\"dtype\":\"float64\",\"shape\":[75]},\"y\":{\"__ndarray__\":\"S/O/Q+51ND/Sv8nbtpRIP2vylNV0PVE/aTum7souWD/At0SJ8fVgPw3Iuahxymc/MSNhhJWvcD/bTfBN02d3P2zb5nxnaoA/CD5h5MAGhz8NmeH1TyaQP+zrCsc9p5Y/LbKd76fGnz/bLW5ISEmmPww9YvTcQq8/JV2OstnstT8Er5Y7M8G+P0c+r3jqkcU/5h99k6ZBzj88bCIzFzjVP4enV8oyxN0//yH99nXg5D8qOpLLf0jtP5kqGJXUifQ/c9cS8kHP/D+/DpwzojQEQIEmwoanVwxA4lgXt9HgE0BSSZ2AJuIbQAMJih9jjiNA5q4l5INuK0AwTKYKRj0zQNv5fmq8/DpAaCJseHrtQkB/+zpwzoxKQM3MzMzMeFJAZmZmZmZqWEAAAAAAAFxeQM3MzMzMJmJAmpmZmZkfZUBmZmZmZhhoQDMzMzMzEWtAAAAAAAAKbkBmZmZmZoFwQM3MzMzM/XFAMzMzMzN6c0CamZmZmfZ0QAAAAAAAc3ZAZmZmZmbvd0DNzMzMzGt5QDMzMzMz6HpAmpmZmZlkfEAAAAAAAOF9QGZmZmZmXX9AZmZmZuZsgECamZmZGSuBQM3MzMxM6YFAAAAAAICngkAzMzMzs2WDQGZmZmbmI4RAmpmZmRnihEDNzMzMTKCFQAAAAACAXoZAMzMzM7Mch0BmZmZm5tqHQJqZmZkZmYhAzczMzExXiUAAAAAAgBWKQDMzMzOz04pAZmZmZuaRi0CamZmZGVCMQM3MzMxMDo1AAAAAAIDMjUAzMzMzs4qOQGZmZmbmSI9A\",\"dtype\":\"float64\",\"shape\":[75]}},\"selected\":{\"id\":\"6af7f6ca-0af3-498e-8f4e-a53a1e251bca\",\"type\":\"Selection\"},\"selection_policy\":{\"id\":\"b409abd0-5225-41b7-aba2-4cf8e1524064\",\"type\":\"UnionRenderers\"}},\"id\":\"ae3be4c3-b13a-4d22-81e6-7a75ff2bff34\",\"type\":\"ColumnDataSource\"},{\"attributes\":{\"line_alpha\":0.6,\"line_color\":\"#e41a1c\",\"line_dash\":[6],\"line_width\":5,\"x\":{\"field\":\"x\"},\"y\":{\"field\":\"y\"}},\"id\":\"f9d9188e-623b-4ad9-b578-dcda7b1ebb5e\",\"type\":\"Line\"},{\"attributes\":{\"callback\":null,\"data\":{\"x\":{\"__ndarray__\":\"9aEL6lvUQEBCI9i4/sU5QKryPSMRtjpA1xLyQc+SOkAjvajdr0I5QD1DOGbZ6zZAqFX0h2bmM0AJMZdUbbswQHOAYI4e/ytAiBIteTxFKEDpLomzIlomQIoe+BisqCVAW1t4XiqOJUBYGCKnr6ckQHIJdrKKWSJAphal3xmYH0AnlCr2PIwbQJwMfWb/ChlAJdwax/5QGEDElbN3RkMZQKcYjLbPNxxANhFHaBUPG0AEvBY+bNMUQDw5nio6vQ5A8xO9QtXOB0AJ7CBletgDQNXLlHsm8ABABhWweEWL/D9QrK6e7nf4P9bC0foASfU/nT3hNmQN8z+4HoXrURjwP2MFx3559ek/xVsAfc+m5T/2XMc0qv7hP0WO36FJ3t4/wn4VAcq22D9RuS6hJ4rQP5VPqAq6+8I/6qXWuXGktj8UnZCW/cysP+aRapjU4qM/E2zdf8Ssmj+gnHkVuIVOPxL7gBfooLO/M0D1UT7ru78V5UkHKGOhv1lBwubSrpg/hefixXs7oz+LqNqFHuWlP33cGc5+oqc/7LR69nj7qD9wxsZCyAeqP4Hv9FLKzqo/67uzWoZWqz++Q8tmgJ6rP61sqOP0n6s/24AeVvdJqz9r2Fdt6nuqP3bHBCpTNKk/IH3ae81/pz/4qH1Cj3ulP1f4VsttYKM/3ao/UNt3oT/8gZahNhmgP9nZrtXAhJ8/qZSAk8tRoT8xiRhOUMWlP3XkE3WQHqw//OUhwNoyrz/Y9UBok3yqP8OgW872/6A/9J79WvTUkD/uxYqwHgRzP2FanH1aT5e/\",\"dtype\":\"float64\",\"shape\":[75]},\"y\":{\"__ndarray__\":\"GhExyth1ND/Sv8nbtpRIP2vylNV0PVE/aTum7souWD/At0SJ8fVgPw3Iuahxymc/MSNhhJWvcD/bTfBN02d3P2zb5nxnaoA/CD5h5MAGhz8NmeH1TyaQP+zrCsc9p5Y/LbKd76fGnz/bLW5ISEmmPww9YvTcQq8/JV2OstnstT8Er5Y7M8G+P0c+r3jqkcU/5h99k6ZBzj88bCIzFzjVP4enV8oyxN0//yH99nXg5D8qOpLLf0jtP5kqGJXUifQ/c9cS8kHP/D+/DpwzojQEQIEmwoanVwxA4lgXt9HgE0BSSZ2AJuIbQAMJih9jjiNA5q4l5INuK0AwTKYKRj0zQNv5fmq8/DpAaCJseHrtQkB/+zpwzoxKQM3MzMzMeFJAZmZmZmZqWEAAAAAAAFxeQM3MzMzMJmJAmpmZmZkfZUBmZmZmZhhoQDMzMzMzEWtAAAAAAAAKbkBmZmZmZoFwQM3MzMzM/XFAMzMzMzN6c0CamZmZmfZ0QAAAAAAAc3ZAZmZmZmbvd0DNzMzMzGt5QDMzMzMz6HpAmpmZmZlkfEAAAAAAAOF9QGZmZmZmXX9AZmZmZuZsgECamZmZGSuBQM3MzMxM6YFAAAAAAICngkAzMzMzs2WDQGZmZmbmI4RAmpmZmRnihEDNzMzMTKCFQAAAAACAXoZAMzMzM7Mch0BmZmZm5tqHQJqZmZkZmYhAzczMzExXiUAAAAAAgBWKQDMzMzOz04pAZmZmZuaRi0CamZmZGVCMQM3MzMxMDo1AAAAAAIDMjUAzMzMzs4qOQGZmZmbmSI9A\",\"dtype\":\"float64\",\"shape\":[75]}},\"selected\":{\"id\":\"ae991ba1-c9f9-4120-bf58-f41b456336f1\",\"type\":\"Selection\"},\"selection_policy\":{\"id\":\"562e0a4b-995c-4b63-a895-53d09e406f5c\",\"type\":\"UnionRenderers\"}},\"id\":\"81955f1b-c23f-48f6-bb48-00ca1a4e2e7a\",\"type\":\"ColumnDataSource\"},{\"attributes\":{\"data_source\":{\"id\":\"81955f1b-c23f-48f6-bb48-00ca1a4e2e7a\",\"type\":\"ColumnDataSource\"},\"glyph\":{\"id\":\"ebc2b5b4-23f1-4f87-b591-48be87868ecb\",\"type\":\"Line\"},\"hover_glyph\":null,\"muted_glyph\":null,\"nonselection_glyph\":{\"id\":\"9d507702-0a76-4549-970a-e4a7e8e08d1e\",\"type\":\"Line\"},\"selection_glyph\":null,\"view\":{\"id\":\"c12c21e4-bb1d-4902-baf2-01ce7c7e6961\",\"type\":\"CDSView\"}},\"id\":\"7909d1c6-ab77-493e-b7f8-58361de07fbb\",\"type\":\"GlyphRenderer\"},{\"attributes\":{\"data_source\":{\"id\":\"e8c1dbc3-bdb4-4396-8218-561d8484d935\",\"type\":\"ColumnDataSource\"},\"glyph\":{\"id\":\"b8dfec2f-1de2-4b21-9ffa-8e0a1aa9872a\",\"type\":\"Circle\"},\"hover_glyph\":null,\"muted_glyph\":null,\"nonselection_glyph\":{\"id\":\"3d16fbaa-9b8f-4897-b273-14feee210d99\",\"type\":\"Circle\"},\"selection_glyph\":null,\"view\":{\"id\":\"4772060d-35cb-4784-b571-a343dbfc6cef\",\"type\":\"CDSView\"}},\"id\":\"9bdffb66-834d-455d-a778-4104a3b44c6e\",\"type\":\"GlyphRenderer\"},{\"attributes\":{\"fill_alpha\":{\"value\":0.1},\"fill_color\":{\"value\":\"#1f77b4\"},\"line_alpha\":{\"value\":0.1},\"line_color\":{\"value\":\"#1f77b4\"},\"x\":{\"field\":\"x\"},\"y\":{\"field\":\"y\"}},\"id\":\"3d16fbaa-9b8f-4897-b273-14feee210d99\",\"type\":\"Circle\"},{\"attributes\":{\"callback\":null,\"data\":{\"x\":{\"__ndarray__\":\"9aEL6lvUQEBCI9i4/sU5QKryPSMRtjpA1xLyQc+SOkAjvajdr0I5QD1DOGbZ6zZAqFX0h2bmM0AJMZdUbbswQHOAYI4e/ytAiBIteTxFKEDpLomzIlomQIoe+BisqCVAW1t4XiqOJUBYGCKnr6ckQHIJdrKKWSJAphal3xmYH0AnlCr2PIwbQJwMfWb/ChlAJdwax/5QGEDElbN3RkMZQKcYjLbPNxxANhFHaBUPG0AEvBY+bNMUQDw5nio6vQ5A8xO9QtXOB0AJ7CBletgDQNXLlHsm8ABABhWweEWL/D9QrK6e7nf4P9bC0foASfU/nT3hNmQN8z+4HoXrURjwP2MFx3559ek/xVsAfc+m5T/2XMc0qv7hP0WO36FJ3t4/wn4VAcq22D9RuS6hJ4rQP5VPqAq6+8I/6qXWuXGktj8UnZCW/cysP+aRapjU4qM/E2zdf8Ssmj+gnHkVuIVOPxL7gBfooLO/M0D1UT7ru78V5UkHKGOhv1lBwubSrpg/hefixXs7oz+LqNqFHuWlP33cGc5+oqc/7LR69nj7qD9wxsZCyAeqP4Hv9FLKzqo/67uzWoZWqz++Q8tmgJ6rP61sqOP0n6s/24AeVvdJqz9r2Fdt6nuqP3bHBCpTNKk/IH3ae81/pz/4qH1Cj3ulP1f4VsttYKM/3ao/UNt3oT/8gZahNhmgP9nZrtXAhJ8/qZSAk8tRoT8xiRhOUMWlP3XkE3WQHqw//OUhwNoyrz/Y9UBok3yqP8OgW872/6A/9J79WvTUkD/uxYqwHgRzP2FanH1aT5e/\",\"dtype\":\"float64\",\"shape\":[75]},\"y\":{\"__ndarray__\":\"GhExyth1ND/Sv8nbtpRIP2vylNV0PVE/aTum7souWD/At0SJ8fVgPw3Iuahxymc/MSNhhJWvcD/bTfBN02d3P2zb5nxnaoA/CD5h5MAGhz8NmeH1TyaQP+zrCsc9p5Y/LbKd76fGnz/bLW5ISEmmPww9YvTcQq8/JV2OstnstT8Er5Y7M8G+P0c+r3jqkcU/5h99k6ZBzj88bCIzFzjVP4enV8oyxN0//yH99nXg5D8qOpLLf0jtP5kqGJXUifQ/c9cS8kHP/D+/DpwzojQEQIEmwoanVwxA4lgXt9HgE0BSSZ2AJuIbQAMJih9jjiNA5q4l5INuK0AwTKYKRj0zQNv5fmq8/DpAaCJseHrtQkB/+zpwzoxKQM3MzMzMeFJAZmZmZmZqWEAAAAAAAFxeQM3MzMzMJmJAmpmZmZkfZUBmZmZmZhhoQDMzMzMzEWtAAAAAAAAKbkBmZmZmZoFwQM3MzMzM/XFAMzMzMzN6c0CamZmZmfZ0QAAAAAAAc3ZAZmZmZmbvd0DNzMzMzGt5QDMzMzMz6HpAmpmZmZlkfEAAAAAAAOF9QGZmZmZmXX9AZmZmZuZsgECamZmZGSuBQM3MzMxM6YFAAAAAAICngkAzMzMzs2WDQGZmZmbmI4RAmpmZmRnihEDNzMzMTKCFQAAAAACAXoZAMzMzM7Mch0BmZmZm5tqHQJqZmZkZmYhAzczMzExXiUAAAAAAgBWKQDMzMzOz04pAZmZmZuaRi0CamZmZGVCMQM3MzMxMDo1AAAAAAIDMjUAzMzMzs4qOQGZmZmbmSI9A\",\"dtype\":\"float64\",\"shape\":[75]}},\"selected\":{\"id\":\"ae0c5a3d-f9f1-416b-9dd7-e1140c2a264f\",\"type\":\"Selection\"},\"selection_policy\":{\"id\":\"7c5ba8c4-a00f-4243-9af2-2bef6be6eba4\",\"type\":\"UnionRenderers\"}},\"id\":\"3a046f17-5f65-4c4d-b4bb-1fe976cc7b96\",\"type\":\"ColumnDataSource\"},{\"attributes\":{\"fill_alpha\":{\"value\":0.1},\"fill_color\":{\"value\":\"#1f77b4\"},\"line_alpha\":{\"value\":0.1},\"line_color\":{\"value\":\"#1f77b4\"},\"x\":{\"field\":\"x\"},\"y\":{\"field\":\"y\"}},\"id\":\"c211c57f-94f9-4aa7-b3ad-3a97487f34d1\",\"type\":\"Square\"},{\"attributes\":{\"callback\":null,\"data\":{\"x\":{\"__ndarray__\":\"nu488ZyzUEDBHahTHjU+QMzz4O6sQTxA1jkGZK9XOUC6SnfX2Sw2QIDwoURLOjNAjc9k/zy5MECBdocUA3QtQI1EaAQbZypAYp8AipEdKECKPEm6ZmImQJpDUgslCyVAufyH9NsvJEC76Ttkb+YiQBehM8QMtCBAk/AppQxhHUAiHXl7a6saQJMcsKvJAxlAIpov5TJcGED43An2X88YQGd4swbvQxtAprc/Fw0RGkDKBi1/GU8UQFb5VATuTw9Ad5JjoYwHCUBV8essHw4EQDNMEvAQS/8/OmEdIskn+T823aEXpG/2P3Ai+rX1M/Q/kEsceSAy8T/KnsqKXfLqP/EYebTMXeY/ABtSPYDC5D9Zd+IoL6jhP/aPjVlZz9s/2zF1V3bB1T8TE+2NzrfPP9tgNG332cU/NHBZ6Pc7wD9f+8zQrZS4P5e3Z7kTPLI/dpOePSVUqD9U5n44XGyJP2VKHmGuS7G/MlTmYuMsur+nz/cbOUeiv0A84PQN0JQ/TXuHMaIaoz/KceEfOi2nP2haMiwelak/XMPDtnAZqz/A0xDHTRysP6E2bXBpz6w/v7UE+vNWrT9DFyP+oK+tP0xdKh1J1a0/audSYQ6wrT+jOJZj8RytP1oWuZiADqw/kh1vgAaMqj97okHDyLaoPx50igf0v6Y/LXGq1j70pD88jg1H0a+jP+5Wh73/eKM/BrajaIAzpT8q4kRZl9GpPxxjUjxhG7A/G5s+t6eWsT9IQfxrlTquP8KUN3Y/XaQ/4AAPGUp+lj8unX+RkaCBP9dxzhh+IZS/\",\"dtype\":\"float64\",\"shape\":[75]},\"y\":{\"__ndarray__\":\"GhExyth1ND/Sv8nbtpRIP2vylNV0PVE/aTum7souWD/At0SJ8fVgPw3Iuahxymc/MSNhhJWvcD/bTfBN02d3P2zb5nxnaoA/CD5h5MAGhz8NmeH1TyaQP+zrCsc9p5Y/LbKd76fGnz/bLW5ISEmmPww9YvTcQq8/JV2OstnstT8Er5Y7M8G+P0c+r3jqkcU/5h99k6ZBzj88bCIzFzjVP4enV8oyxN0//yH99nXg5D8qOpLLf0jtP5kqGJXUifQ/c9cS8kHP/D+/DpwzojQEQIEmwoanVwxA4lgXt9HgE0BSSZ2AJuIbQAMJih9jjiNA5q4l5INuK0AwTKYKRj0zQNv5fmq8/DpAaCJseHrtQkB/+zpwzoxKQM3MzMzMeFJAZmZmZmZqWEAAAAAAAFxeQM3MzMzMJmJAmpmZmZkfZUBmZmZmZhhoQDMzMzMzEWtAAAAAAAAKbkBmZmZmZoFwQM3MzMzM/XFAMzMzMzN6c0CamZmZmfZ0QAAAAAAAc3ZAZmZmZmbvd0DNzMzMzGt5QDMzMzMz6HpAmpmZmZlkfEAAAAAAAOF9QGZmZmZmXX9AZmZmZuZsgECamZmZGSuBQM3MzMxM6YFAAAAAAICngkAzMzMzs2WDQGZmZmbmI4RAmpmZmRnihEDNzMzMTKCFQAAAAACAXoZAMzMzM7Mch0BmZmZm5tqHQJqZmZkZmYhAzczMzExXiUAAAAAAgBWKQDMzMzOz04pAZmZmZuaRi0CamZmZGVCMQM3MzMxMDo1AAAAAAIDMjUAzMzMzs4qOQGZmZmbmSI9A\",\"dtype\":\"float64\",\"shape\":[75]}},\"selected\":{\"id\":\"e0368f66-3e79-4751-b461-2870aadd2432\",\"type\":\"Selection\"},\"selection_policy\":{\"id\":\"caad9f3e-fc23-4be7-8421-6a846a66976a\",\"type\":\"UnionRenderers\"}},\"id\":\"e8c1dbc3-bdb4-4396-8218-561d8484d935\",\"type\":\"ColumnDataSource\"},{\"attributes\":{\"source\":{\"id\":\"8f12fd57-076b-413a-b01a-46860e57d4f9\",\"type\":\"ColumnDataSource\"}},\"id\":\"1ca200fe-a7f1-4ff8-9ccd-2e568bf8fa14\",\"type\":\"CDSView\"}],\"root_ids\":[\"138bef81-5266-45c9-8a26-fdc7d8161043\"]},\"title\":\"Bokeh Application\",\"version\":\"0.12.16\"}};\n",
       "  var render_items = [{\"docid\":\"7c8e85d8-2043-4f19-97c0-b100f11547a8\",\"elementid\":\"e5a6fcf0-7719-484a-918a-f19e91d4281f\",\"modelid\":\"138bef81-5266-45c9-8a26-fdc7d8161043\"}];\n",
       "  root.Bokeh.embed.embed_items_notebook(docs_json, render_items);\n",
       "\n",
       "  }\n",
       "  if (root.Bokeh !== undefined) {\n",
       "    embed_document(root);\n",
       "  } else {\n",
       "    var attempts = 0;\n",
       "    var timer = setInterval(function(root) {\n",
       "      if (root.Bokeh !== undefined) {\n",
       "        embed_document(root);\n",
       "        clearInterval(timer);\n",
       "      }\n",
       "      attempts++;\n",
       "      if (attempts > 100) {\n",
       "        console.log(\"Bokeh: ERROR: Unable to run BokehJS code because BokehJS library is missing\")\n",
       "        clearInterval(timer);\n",
       "      }\n",
       "    }, 10, root)\n",
       "  }\n",
       "})(window);"
      ],
      "application/vnd.bokehjs_exec.v0+json": ""
     },
     "metadata": {
      "application/vnd.bokehjs_exec.v0+json": {
       "id": "138bef81-5266-45c9-8a26-fdc7d8161043"
      }
     },
     "output_type": "display_data"
    },
    {
     "name": "stdout",
     "output_type": "stream",
     "text": [
      "FIGURE. Cooling rate profiles.\n"
     ]
    },
    {
     "data": {
      "text/html": [
       "<a id=\"Flux_Comparison\"></a>"
      ],
      "text/plain": [
       "<IPython.core.display.HTML object>"
      ]
     },
     "metadata": {},
     "output_type": "display_data"
    },
    {
     "data": {
      "text/markdown": [
       "# Flux Comparison"
      ],
      "text/plain": [
       "<IPython.core.display.Markdown object>"
      ]
     },
     "metadata": {},
     "output_type": "display_data"
    },
    {
     "data": {
      "text/html": [
       "<div>\n",
       "<style scoped>\n",
       "    .dataframe tbody tr th:only-of-type {\n",
       "        vertical-align: middle;\n",
       "    }\n",
       "\n",
       "    .dataframe tbody tr th {\n",
       "        vertical-align: top;\n",
       "    }\n",
       "\n",
       "    .dataframe thead th {\n",
       "        text-align: right;\n",
       "    }\n",
       "</style>\n",
       "<table border=\"1\" class=\"dataframe\">\n",
       "  <thead>\n",
       "    <tr style=\"text-align: right;\">\n",
       "      <th></th>\n",
       "      <th></th>\n",
       "      <th>flug</th>\n",
       "      <th>fldg</th>\n",
       "      <th>fnetg</th>\n",
       "    </tr>\n",
       "    <tr>\n",
       "      <th>pressure</th>\n",
       "      <th>level</th>\n",
       "      <th></th>\n",
       "      <th></th>\n",
       "      <th></th>\n",
       "    </tr>\n",
       "  </thead>\n",
       "  <tbody>\n",
       "    <tr>\n",
       "      <th>0.0000</th>\n",
       "      <th>1</th>\n",
       "      <td>-14.281746</td>\n",
       "      <td>0.000000</td>\n",
       "      <td>-14.281746</td>\n",
       "    </tr>\n",
       "    <tr>\n",
       "      <th>1.0685</th>\n",
       "      <th>24</th>\n",
       "      <td>-14.161227</td>\n",
       "      <td>0.689585</td>\n",
       "      <td>-13.471642</td>\n",
       "    </tr>\n",
       "    <tr>\n",
       "      <th>1013.0000</th>\n",
       "      <th>76</th>\n",
       "      <td>-27.037219</td>\n",
       "      <td>27.133689</td>\n",
       "      <td>0.096469</td>\n",
       "    </tr>\n",
       "  </tbody>\n",
       "</table>\n",
       "</div>"
      ],
      "text/plain": [
       "                      flug       fldg      fnetg\n",
       "pressure  level                                 \n",
       "0.0000    1     -14.281746   0.000000 -14.281746\n",
       "1.0685    24    -14.161227   0.689585 -13.471642\n",
       "1013.0000 76    -27.037219  27.133689   0.096469"
      ]
     },
     "metadata": {},
     "output_type": "display_data"
    },
    {
     "name": "stdout",
     "output_type": "stream",
     "text": [
      "Table. Fluxes. CRD\n"
     ]
    },
    {
     "data": {
      "text/html": [
       "<div>\n",
       "<style scoped>\n",
       "    .dataframe tbody tr th:only-of-type {\n",
       "        vertical-align: middle;\n",
       "    }\n",
       "\n",
       "    .dataframe tbody tr th {\n",
       "        vertical-align: top;\n",
       "    }\n",
       "\n",
       "    .dataframe thead th {\n",
       "        text-align: right;\n",
       "    }\n",
       "</style>\n",
       "<table border=\"1\" class=\"dataframe\">\n",
       "  <thead>\n",
       "    <tr style=\"text-align: right;\">\n",
       "      <th></th>\n",
       "      <th></th>\n",
       "      <th>flug</th>\n",
       "      <th>fldg</th>\n",
       "      <th>fnetg</th>\n",
       "    </tr>\n",
       "    <tr>\n",
       "      <th>pressure</th>\n",
       "      <th>level</th>\n",
       "      <th></th>\n",
       "      <th></th>\n",
       "      <th></th>\n",
       "    </tr>\n",
       "  </thead>\n",
       "  <tbody>\n",
       "    <tr>\n",
       "      <th>0.0000</th>\n",
       "      <th>1</th>\n",
       "      <td>-14.100929</td>\n",
       "      <td>0.000000</td>\n",
       "      <td>-14.100929</td>\n",
       "    </tr>\n",
       "    <tr>\n",
       "      <th>1.0685</th>\n",
       "      <th>24</th>\n",
       "      <td>-13.976918</td>\n",
       "      <td>0.709955</td>\n",
       "      <td>-13.266964</td>\n",
       "    </tr>\n",
       "    <tr>\n",
       "      <th>1013.0000</th>\n",
       "      <th>76</th>\n",
       "      <td>-27.037219</td>\n",
       "      <td>27.214067</td>\n",
       "      <td>0.176847</td>\n",
       "    </tr>\n",
       "  </tbody>\n",
       "</table>\n",
       "</div>"
      ],
      "text/plain": [
       "                      flug       fldg      fnetg\n",
       "pressure  level                                 \n",
       "0.0000    1     -14.100929   0.000000 -14.100929\n",
       "1.0685    24    -13.976918   0.709955 -13.266964\n",
       "1013.0000 76    -27.037219  27.214067   0.176847"
      ]
     },
     "metadata": {},
     "output_type": "display_data"
    },
    {
     "name": "stdout",
     "output_type": "stream",
     "text": [
      "Table. Fluxes. WGT igg=10 wgt_flux=1\n"
     ]
    },
    {
     "data": {
      "text/html": [
       "<div>\n",
       "<style scoped>\n",
       "    .dataframe tbody tr th:only-of-type {\n",
       "        vertical-align: middle;\n",
       "    }\n",
       "\n",
       "    .dataframe tbody tr th {\n",
       "        vertical-align: top;\n",
       "    }\n",
       "\n",
       "    .dataframe thead th {\n",
       "        text-align: right;\n",
       "    }\n",
       "</style>\n",
       "<table border=\"1\" class=\"dataframe\">\n",
       "  <thead>\n",
       "    <tr style=\"text-align: right;\">\n",
       "      <th></th>\n",
       "      <th></th>\n",
       "      <th>flug</th>\n",
       "      <th>fldg</th>\n",
       "      <th>fnetg</th>\n",
       "    </tr>\n",
       "    <tr>\n",
       "      <th>pressure</th>\n",
       "      <th>level</th>\n",
       "      <th></th>\n",
       "      <th></th>\n",
       "      <th></th>\n",
       "    </tr>\n",
       "  </thead>\n",
       "  <tbody>\n",
       "    <tr>\n",
       "      <th>1.000000e-08</th>\n",
       "      <th>1</th>\n",
       "      <td>-14.020925</td>\n",
       "      <td>0.000188</td>\n",
       "      <td>-14.020737</td>\n",
       "    </tr>\n",
       "    <tr>\n",
       "      <th>1.068500e+00</th>\n",
       "      <th>24</th>\n",
       "      <td>-13.898061</td>\n",
       "      <td>0.702366</td>\n",
       "      <td>-13.195694</td>\n",
       "    </tr>\n",
       "    <tr>\n",
       "      <th>1.013000e+03</th>\n",
       "      <th>76</th>\n",
       "      <td>-27.037220</td>\n",
       "      <td>27.221550</td>\n",
       "      <td>0.184330</td>\n",
       "    </tr>\n",
       "  </tbody>\n",
       "</table>\n",
       "</div>"
      ],
      "text/plain": [
       "                         flug       fldg      fnetg\n",
       "pressure     level                                 \n",
       "1.000000e-08 1     -14.020925   0.000188 -14.020737\n",
       "1.068500e+00 24    -13.898061   0.702366 -13.195694\n",
       "1.013000e+03 76    -27.037220  27.221550   0.184330"
      ]
     },
     "metadata": {},
     "output_type": "display_data"
    },
    {
     "name": "stdout",
     "output_type": "stream",
     "text": [
      "Table. Fluxes. CLIRAD\n"
     ]
    },
    {
     "data": {
      "text/html": [
       "<div>\n",
       "<style scoped>\n",
       "    .dataframe tbody tr th:only-of-type {\n",
       "        vertical-align: middle;\n",
       "    }\n",
       "\n",
       "    .dataframe tbody tr th {\n",
       "        vertical-align: top;\n",
       "    }\n",
       "\n",
       "    .dataframe thead th {\n",
       "        text-align: right;\n",
       "    }\n",
       "</style>\n",
       "<table border=\"1\" class=\"dataframe\">\n",
       "  <thead>\n",
       "    <tr style=\"text-align: right;\">\n",
       "      <th></th>\n",
       "      <th></th>\n",
       "      <th>flug</th>\n",
       "      <th>fldg</th>\n",
       "      <th>fnetg</th>\n",
       "    </tr>\n",
       "    <tr>\n",
       "      <th>pressure</th>\n",
       "      <th>level</th>\n",
       "      <th></th>\n",
       "      <th></th>\n",
       "      <th></th>\n",
       "    </tr>\n",
       "  </thead>\n",
       "  <tbody>\n",
       "    <tr>\n",
       "      <th>0.0000</th>\n",
       "      <th>1</th>\n",
       "      <td>0.180817</td>\n",
       "      <td>0.000000</td>\n",
       "      <td>0.180817</td>\n",
       "    </tr>\n",
       "    <tr>\n",
       "      <th>1.0685</th>\n",
       "      <th>24</th>\n",
       "      <td>0.184309</td>\n",
       "      <td>0.020370</td>\n",
       "      <td>0.204678</td>\n",
       "    </tr>\n",
       "    <tr>\n",
       "      <th>1013.0000</th>\n",
       "      <th>76</th>\n",
       "      <td>0.000000</td>\n",
       "      <td>0.080378</td>\n",
       "      <td>0.080378</td>\n",
       "    </tr>\n",
       "  </tbody>\n",
       "</table>\n",
       "</div>"
      ],
      "text/plain": [
       "                     flug      fldg     fnetg\n",
       "pressure  level                              \n",
       "0.0000    1      0.180817  0.000000  0.180817\n",
       "1.0685    24     0.184309  0.020370  0.204678\n",
       "1013.0000 76     0.000000  0.080378  0.080378"
      ]
     },
     "metadata": {},
     "output_type": "display_data"
    },
    {
     "name": "stdout",
     "output_type": "stream",
     "text": [
      "Table. Fluxes. (WGT igg=10 wgt_flux=1) - (CRD)\n"
     ]
    },
    {
     "data": {
      "text/html": [
       "<div>\n",
       "<style scoped>\n",
       "    .dataframe tbody tr th:only-of-type {\n",
       "        vertical-align: middle;\n",
       "    }\n",
       "\n",
       "    .dataframe tbody tr th {\n",
       "        vertical-align: top;\n",
       "    }\n",
       "\n",
       "    .dataframe thead th {\n",
       "        text-align: right;\n",
       "    }\n",
       "</style>\n",
       "<table border=\"1\" class=\"dataframe\">\n",
       "  <thead>\n",
       "    <tr style=\"text-align: right;\">\n",
       "      <th></th>\n",
       "      <th></th>\n",
       "      <th>flug</th>\n",
       "      <th>fldg</th>\n",
       "      <th>fnetg</th>\n",
       "    </tr>\n",
       "    <tr>\n",
       "      <th>pressure</th>\n",
       "      <th>level</th>\n",
       "      <th></th>\n",
       "      <th></th>\n",
       "      <th></th>\n",
       "    </tr>\n",
       "  </thead>\n",
       "  <tbody>\n",
       "    <tr>\n",
       "      <th>0.0000</th>\n",
       "      <th>1</th>\n",
       "      <td>0.260821</td>\n",
       "      <td>0.000188</td>\n",
       "      <td>0.261009</td>\n",
       "    </tr>\n",
       "    <tr>\n",
       "      <th>1.0685</th>\n",
       "      <th>24</th>\n",
       "      <td>0.263166</td>\n",
       "      <td>0.012781</td>\n",
       "      <td>0.275948</td>\n",
       "    </tr>\n",
       "    <tr>\n",
       "      <th>1013.0000</th>\n",
       "      <th>76</th>\n",
       "      <td>-0.000001</td>\n",
       "      <td>0.087861</td>\n",
       "      <td>0.087860</td>\n",
       "    </tr>\n",
       "  </tbody>\n",
       "</table>\n",
       "</div>"
      ],
      "text/plain": [
       "                     flug      fldg     fnetg\n",
       "pressure  level                              \n",
       "0.0000    1      0.260821  0.000188  0.261009\n",
       "1.0685    24     0.263166  0.012781  0.275948\n",
       "1013.0000 76    -0.000001  0.087861  0.087860"
      ]
     },
     "metadata": {},
     "output_type": "display_data"
    },
    {
     "name": "stdout",
     "output_type": "stream",
     "text": [
      "Table. Fluxes. (CLIRAD) - (CRD)\n"
     ]
    },
    {
     "data": {
      "text/html": [
       "<a id=\"Best-fit_Parameters\"></a>"
      ],
      "text/plain": [
       "<IPython.core.display.HTML object>"
      ]
     },
     "metadata": {},
     "output_type": "display_data"
    },
    {
     "data": {
      "text/markdown": [
       "# Best-fit Parameters"
      ],
      "text/plain": [
       "<IPython.core.display.Markdown object>"
      ]
     },
     "metadata": {},
     "output_type": "display_data"
    },
    {
     "name": "stdout",
     "output_type": "stream",
     "text": [
      "Best-fit values for each (gas, band)\n",
      "------------------------------------\n",
      "o h2o band3b\n",
      "  atmpro = trp\n",
      "  band = 3b\n",
      "  commitnumber = a06b618\n",
      "  conc = None\n",
      "  dv = 0.001\n",
      "  klin = 1e-24\n",
      "  molecule = h2o\n",
      "  ng_adju = [0]\n",
      "  ng_refs = [6]\n",
      "  nv = 1000\n",
      "  option_compute_btable = 0\n",
      "  option_compute_ktable = 1\n",
      "  option_wgt_flux = 1\n",
      "  option_wgt_k = 1\n",
      "  ref_pts = [(600, 250)]\n",
      "  tsfc = 294\n",
      "  vmax = 720\n",
      "  vmin = 620\n",
      "  w_diffuse = [(1.66, 1.66, 1.66, 1.55, 1.5, 1.66)]\n",
      "  wgt = [(0.8, 0.8, 0.8, 0.6, 0.6, 0.9)]\n",
      "o co2 band3b\n",
      "  atmpro = mls\n",
      "  band = 3b\n",
      "  commitnumber = a06b618\n",
      "  conc = 0.0004\n",
      "  dv = 0.001\n",
      "  klin = 0\n",
      "  molecule = co2\n",
      "  ng_adju = [0, 0]\n",
      "  ng_refs = [5, 2]\n",
      "  nv = 1000\n",
      "  option_compute_btable = 0\n",
      "  option_compute_ktable = 1\n",
      "  option_wgt_flux = 1\n",
      "  option_wgt_k = 1\n",
      "  ref_pts = [(1, 250), (10, 250)]\n",
      "  tsfc = 294\n",
      "  vmax = 720\n",
      "  vmin = 620\n",
      "  w_diffuse = [(1.66, 1.66, 1.66, 1.66, 1.66), (1.66, 1.66)]\n",
      "  wgt = [(0, 0.6, 0.5, 0.7, 0.8), (0.8, 0.7)]\n"
     ]
    }
   ],
   "source": [
    "script()"
   ]
  },
  {
   "cell_type": "code",
   "execution_count": 13,
   "metadata": {
    "collapsed": true
   },
   "outputs": [
    {
     "data": {
      "text/html": [
       "<script>\n",
       "code_show=true; \n",
       "function code_toggle() {\n",
       " if (code_show){\n",
       " $('div.input').hide();\n",
       " } else {\n",
       " $('div.input').show();\n",
       " }\n",
       " code_show = !code_show\n",
       "} \n",
       "$( document ).ready(code_toggle);\n",
       "</script>\n",
       "<form action=\"javascript:code_toggle()\"><input type=\"submit\" value=\"Click here to toggle on/off the raw code.\"></form>"
      ],
      "text/plain": [
       "<IPython.core.display.HTML object>"
      ]
     },
     "execution_count": 13,
     "metadata": {},
     "output_type": "execute_result"
    }
   ],
   "source": [
    "display.HTML('''<script>\n",
    "code_show=true; \n",
    "function code_toggle() {\n",
    " if (code_show){\n",
    " $('div.input').hide();\n",
    " } else {\n",
    " $('div.input').show();\n",
    " }\n",
    " code_show = !code_show\n",
    "} \n",
    "$( document ).ready(code_toggle);\n",
    "</script>\n",
    "<form action=\"javascript:code_toggle()\"><input type=\"submit\" value=\"Click here to toggle on/off the raw code.\"></form>''')"
   ]
  }
 ],
 "metadata": {
  "kernelspec": {
   "display_name": "Python 3",
   "language": "python",
   "name": "python3"
  },
  "language_info": {
   "codemirror_mode": {
    "name": "ipython",
    "version": 3
   },
   "file_extension": ".py",
   "mimetype": "text/x-python",
   "name": "python",
   "nbconvert_exporter": "python",
   "pygments_lexer": "ipython3",
   "version": "3.6.1"
  }
 },
 "nbformat": 4,
 "nbformat_minor": 2
}
