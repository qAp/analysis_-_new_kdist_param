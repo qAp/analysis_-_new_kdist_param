{
 "cells": [
  {
   "cell_type": "code",
   "execution_count": 1,
   "metadata": {
    "collapsed": true
   },
   "outputs": [],
   "source": [
    "%matplotlib inline\n",
    "import os\n",
    "import re\n",
    "import io\n",
    "import itertools\n",
    "import pprint\n",
    "\n",
    "from bokeh.io import output_notebook, show\n",
    "from bokeh.layouts import gridplot\n",
    "from bokeh.plotting import figure\n",
    "from bokeh.models import Range1d, Legend\n",
    "from bokeh.palettes import all_palettes\n",
    "\n",
    "import matplotlib\n",
    "import matplotlib.pyplot as plt\n",
    "import numpy as np\n",
    "import pandas as pd\n",
    "import xarray as xr\n",
    "\n",
    "import climatools.lblnew.bestfit_params as bestfits\n",
    "from climatools.lblnew import setup_bestfit, setup_overlap\n",
    "import climatools.lblnew.pipeline as pipe_lblnew\n",
    "import climatools.cliradlw.setup as setup_cliradlw\n",
    "import climatools.cliradlw.pipeline as pipe_cliradlw\n",
    "\n",
    "import climatools.html.html as climahtml\n",
    "from climatools.lblnew.dataio import *\n",
    "from climatools.plot.plot import *\n",
    "\n",
    "\n",
    "import IPython.display as display"
   ]
  },
  {
   "cell_type": "code",
   "execution_count": 2,
   "metadata": {
    "collapsed": true
   },
   "outputs": [],
   "source": [
    "%run param.py"
   ]
  },
  {
   "cell_type": "code",
   "execution_count": 3,
   "metadata": {
    "collapsed": true
   },
   "outputs": [],
   "source": [
    "def load_output_file(path_csv):\n",
    "    '''\n",
    "    Load lblnew output .csv file to xarray.Dataset\n",
    "    \n",
    "    Parameters\n",
    "    ----------\n",
    "    path_csv: str\n",
    "              Path to the .csv file to be loaded.\n",
    "    ds: xarray.Dataset\n",
    "        Data in the input file in the form of an xarray.Dataset.\n",
    "    '''\n",
    "    toindex = ['band', 'pressure', 'igg', 'g']    \n",
    "    df = pd.read_csv(path_csv, sep=r'\\s+')\n",
    "    df = df.set_index([i for i in toindex if i in df.columns])\n",
    "    df = df.rename(columns={'sfu': 'flug',\n",
    "                            'sfd': 'fldg',\n",
    "                            'fnet': 'fnetg',\n",
    "                            'coolr': 'coolrg'})\n",
    "    ds = xr.Dataset.from_dataframe(df)\n",
    "\n",
    "    for l in ('level', 'layer'):\n",
    "        if l in ds.data_vars:\n",
    "            if len(ds[l].dims) > 1:\n",
    "                surface = {d: 0 for d in ds.dims if d != 'pressure'}\n",
    "                coord_level = ds[l][surface]\n",
    "                ds.coords[l] = ('pressure', coord_level)\n",
    "            else:\n",
    "                ds.coords[l] = ('pressure', ds[l])\n",
    "    \n",
    "    return ds"
   ]
  },
  {
   "cell_type": "code",
   "execution_count": 4,
   "metadata": {
    "collapsed": true
   },
   "outputs": [],
   "source": [
    "def lblnew_setup(param=None):\n",
    "    if 'ng_refs' in param:\n",
    "        return {'setup': setup_bestfit,\n",
    "                'fname_flux_crd': 'output_flux.dat',\n",
    "                'fname_cool_crd': 'output_coolr.dat',\n",
    "                'fname_flux_wgt': 'output_wfluxg.dat',\n",
    "                'fname_cool_wgt': 'output_wcoolrg.dat'}\n",
    "    else:\n",
    "        return {'setup': setup_overlap,\n",
    "                'fname_flux_crd': 'output_flux.dat',\n",
    "                'fname_cool_crd': 'output_coolr.dat',\n",
    "                'fname_flux_wgt': 'output_wflux.dat',\n",
    "                'fname_cool_wgt': 'output_wcoolr.dat'}\n",
    "\n",
    "    \n",
    "def load_lblnew_data(param):\n",
    "    \n",
    "    fname_dsname = [('fname_flux_crd', 'ds_flux_crd'),\n",
    "                    ('fname_cool_crd', 'ds_cool_crd'),\n",
    "                    ('fname_flux_wgt', 'ds_flux_wgt'),\n",
    "                    ('fname_cool_wgt', 'ds_cool_wgt')]\n",
    "    \n",
    "    d = lblnew_setup(param)\n",
    "    dir_fortran = pipe_lblnew.get_dir_case(param, setup=d['setup'])\n",
    "    \n",
    "    data_dict = {}\n",
    "    for fname, dsname in fname_dsname:\n",
    "        fpath = os.path.join(dir_fortran, d[fname])\n",
    "        data_dict[dsname] = load_output_file(fpath)\n",
    "    return data_dict\n",
    "    \n",
    "\n",
    "    \n",
    "    "
   ]
  },
  {
   "cell_type": "code",
   "execution_count": 5,
   "metadata": {
    "collapsed": true
   },
   "outputs": [],
   "source": [
    "d = load_lblnew_data(PARAM_LBLNEW)\n",
    "\n",
    "DS_FLUX_CRD = d['ds_flux_crd']\n",
    "DS_COOL_CRD = d['ds_cool_crd']\n",
    "DS_FLUX_WGT = d['ds_flux_wgt']\n",
    "DS_COOL_WGT = d['ds_cool_wgt']"
   ]
  },
  {
   "cell_type": "code",
   "execution_count": 6,
   "metadata": {
    "collapsed": true
   },
   "outputs": [],
   "source": [
    "DIR_FORTRAN = pipe_cliradlw.get_fortran_dir(PARAM, \n",
    "                                            setup=setup_cliradlw)\n",
    "\n",
    "PATH_FLUX = os.path.join(DIR_FORTRAN, 'output_flux.dat')\n",
    "PATH_COOL = os.path.join(DIR_FORTRAN, 'output_coolr.dat')\n",
    "\n",
    "DS_FLUX = load_output_file(PATH_FLUX)\n",
    "DS_COOL = load_output_file(PATH_COOL)"
   ]
  },
  {
   "cell_type": "code",
   "execution_count": 7,
   "metadata": {
    "collapsed": true
   },
   "outputs": [
    {
     "data": {
      "text/html": [
       "\n",
       "    <div class=\"bk-root\">\n",
       "        <a href=\"https://bokeh.pydata.org\" target=\"_blank\" class=\"bk-logo bk-logo-small bk-logo-notebook\"></a>\n",
       "        <span id=\"f64e5fdd-23f6-4506-8f53-ff2751966b32\">Loading BokehJS ...</span>\n",
       "    </div>"
      ]
     },
     "metadata": {},
     "output_type": "display_data"
    },
    {
     "data": {
      "application/javascript": [
       "\n",
       "(function(root) {\n",
       "  function now() {\n",
       "    return new Date();\n",
       "  }\n",
       "\n",
       "  var force = true;\n",
       "\n",
       "  if (typeof (root._bokeh_onload_callbacks) === \"undefined\" || force === true) {\n",
       "    root._bokeh_onload_callbacks = [];\n",
       "    root._bokeh_is_loading = undefined;\n",
       "  }\n",
       "\n",
       "  var JS_MIME_TYPE = 'application/javascript';\n",
       "  var HTML_MIME_TYPE = 'text/html';\n",
       "  var EXEC_MIME_TYPE = 'application/vnd.bokehjs_exec.v0+json';\n",
       "  var CLASS_NAME = 'output_bokeh rendered_html';\n",
       "\n",
       "  /**\n",
       "   * Render data to the DOM node\n",
       "   */\n",
       "  function render(props, node) {\n",
       "    var script = document.createElement(\"script\");\n",
       "    node.appendChild(script);\n",
       "  }\n",
       "\n",
       "  /**\n",
       "   * Handle when an output is cleared or removed\n",
       "   */\n",
       "  function handleClearOutput(event, handle) {\n",
       "    var cell = handle.cell;\n",
       "\n",
       "    var id = cell.output_area._bokeh_element_id;\n",
       "    var server_id = cell.output_area._bokeh_server_id;\n",
       "    // Clean up Bokeh references\n",
       "    if (id !== undefined) {\n",
       "      Bokeh.index[id].model.document.clear();\n",
       "      delete Bokeh.index[id];\n",
       "    }\n",
       "\n",
       "    if (server_id !== undefined) {\n",
       "      // Clean up Bokeh references\n",
       "      var cmd = \"from bokeh.io.state import curstate; print(curstate().uuid_to_server['\" + server_id + \"'].get_sessions()[0].document.roots[0]._id)\";\n",
       "      cell.notebook.kernel.execute(cmd, {\n",
       "        iopub: {\n",
       "          output: function(msg) {\n",
       "            var element_id = msg.content.text.trim();\n",
       "            Bokeh.index[element_id].model.document.clear();\n",
       "            delete Bokeh.index[element_id];\n",
       "          }\n",
       "        }\n",
       "      });\n",
       "      // Destroy server and session\n",
       "      var cmd = \"import bokeh.io.notebook as ion; ion.destroy_server('\" + server_id + \"')\";\n",
       "      cell.notebook.kernel.execute(cmd);\n",
       "    }\n",
       "  }\n",
       "\n",
       "  /**\n",
       "   * Handle when a new output is added\n",
       "   */\n",
       "  function handleAddOutput(event, handle) {\n",
       "    var output_area = handle.output_area;\n",
       "    var output = handle.output;\n",
       "\n",
       "    // limit handleAddOutput to display_data with EXEC_MIME_TYPE content only\n",
       "    if ((output.output_type != \"display_data\") || (!output.data.hasOwnProperty(EXEC_MIME_TYPE))) {\n",
       "      return\n",
       "    }\n",
       "\n",
       "    var toinsert = output_area.element.find(\".\" + CLASS_NAME.split(' ')[0]);\n",
       "\n",
       "    if (output.metadata[EXEC_MIME_TYPE][\"id\"] !== undefined) {\n",
       "      toinsert[toinsert.length - 1].firstChild.textContent = output.data[JS_MIME_TYPE];\n",
       "      // store reference to embed id on output_area\n",
       "      output_area._bokeh_element_id = output.metadata[EXEC_MIME_TYPE][\"id\"];\n",
       "    }\n",
       "    if (output.metadata[EXEC_MIME_TYPE][\"server_id\"] !== undefined) {\n",
       "      var bk_div = document.createElement(\"div\");\n",
       "      bk_div.innerHTML = output.data[HTML_MIME_TYPE];\n",
       "      var script_attrs = bk_div.children[0].attributes;\n",
       "      for (var i = 0; i < script_attrs.length; i++) {\n",
       "        toinsert[toinsert.length - 1].firstChild.setAttribute(script_attrs[i].name, script_attrs[i].value);\n",
       "      }\n",
       "      // store reference to server id on output_area\n",
       "      output_area._bokeh_server_id = output.metadata[EXEC_MIME_TYPE][\"server_id\"];\n",
       "    }\n",
       "  }\n",
       "\n",
       "  function register_renderer(events, OutputArea) {\n",
       "\n",
       "    function append_mime(data, metadata, element) {\n",
       "      // create a DOM node to render to\n",
       "      var toinsert = this.create_output_subarea(\n",
       "        metadata,\n",
       "        CLASS_NAME,\n",
       "        EXEC_MIME_TYPE\n",
       "      );\n",
       "      this.keyboard_manager.register_events(toinsert);\n",
       "      // Render to node\n",
       "      var props = {data: data, metadata: metadata[EXEC_MIME_TYPE]};\n",
       "      render(props, toinsert[toinsert.length - 1]);\n",
       "      element.append(toinsert);\n",
       "      return toinsert\n",
       "    }\n",
       "\n",
       "    /* Handle when an output is cleared or removed */\n",
       "    events.on('clear_output.CodeCell', handleClearOutput);\n",
       "    events.on('delete.Cell', handleClearOutput);\n",
       "\n",
       "    /* Handle when a new output is added */\n",
       "    events.on('output_added.OutputArea', handleAddOutput);\n",
       "\n",
       "    /**\n",
       "     * Register the mime type and append_mime function with output_area\n",
       "     */\n",
       "    OutputArea.prototype.register_mime_type(EXEC_MIME_TYPE, append_mime, {\n",
       "      /* Is output safe? */\n",
       "      safe: true,\n",
       "      /* Index of renderer in `output_area.display_order` */\n",
       "      index: 0\n",
       "    });\n",
       "  }\n",
       "\n",
       "  // register the mime type if in Jupyter Notebook environment and previously unregistered\n",
       "  if (root.Jupyter !== undefined) {\n",
       "    var events = require('base/js/events');\n",
       "    var OutputArea = require('notebook/js/outputarea').OutputArea;\n",
       "\n",
       "    if (OutputArea.prototype.mime_types().indexOf(EXEC_MIME_TYPE) == -1) {\n",
       "      register_renderer(events, OutputArea);\n",
       "    }\n",
       "  }\n",
       "\n",
       "  \n",
       "  if (typeof (root._bokeh_timeout) === \"undefined\" || force === true) {\n",
       "    root._bokeh_timeout = Date.now() + 5000;\n",
       "    root._bokeh_failed_load = false;\n",
       "  }\n",
       "\n",
       "  var NB_LOAD_WARNING = {'data': {'text/html':\n",
       "     \"<div style='background-color: #fdd'>\\n\"+\n",
       "     \"<p>\\n\"+\n",
       "     \"BokehJS does not appear to have successfully loaded. If loading BokehJS from CDN, this \\n\"+\n",
       "     \"may be due to a slow or bad network connection. Possible fixes:\\n\"+\n",
       "     \"</p>\\n\"+\n",
       "     \"<ul>\\n\"+\n",
       "     \"<li>re-rerun `output_notebook()` to attempt to load from CDN again, or</li>\\n\"+\n",
       "     \"<li>use INLINE resources instead, as so:</li>\\n\"+\n",
       "     \"</ul>\\n\"+\n",
       "     \"<code>\\n\"+\n",
       "     \"from bokeh.resources import INLINE\\n\"+\n",
       "     \"output_notebook(resources=INLINE)\\n\"+\n",
       "     \"</code>\\n\"+\n",
       "     \"</div>\"}};\n",
       "\n",
       "  function display_loaded() {\n",
       "    var el = document.getElementById(\"f64e5fdd-23f6-4506-8f53-ff2751966b32\");\n",
       "    if (el != null) {\n",
       "      el.textContent = \"BokehJS is loading...\";\n",
       "    }\n",
       "    if (root.Bokeh !== undefined) {\n",
       "      if (el != null) {\n",
       "        el.textContent = \"BokehJS \" + root.Bokeh.version + \" successfully loaded.\";\n",
       "      }\n",
       "    } else if (Date.now() < root._bokeh_timeout) {\n",
       "      setTimeout(display_loaded, 100)\n",
       "    }\n",
       "  }\n",
       "\n",
       "\n",
       "  function run_callbacks() {\n",
       "    try {\n",
       "      root._bokeh_onload_callbacks.forEach(function(callback) { callback() });\n",
       "    }\n",
       "    finally {\n",
       "      delete root._bokeh_onload_callbacks\n",
       "    }\n",
       "    console.info(\"Bokeh: all callbacks have finished\");\n",
       "  }\n",
       "\n",
       "  function load_libs(js_urls, callback) {\n",
       "    root._bokeh_onload_callbacks.push(callback);\n",
       "    if (root._bokeh_is_loading > 0) {\n",
       "      console.log(\"Bokeh: BokehJS is being loaded, scheduling callback at\", now());\n",
       "      return null;\n",
       "    }\n",
       "    if (js_urls == null || js_urls.length === 0) {\n",
       "      run_callbacks();\n",
       "      return null;\n",
       "    }\n",
       "    console.log(\"Bokeh: BokehJS not loaded, scheduling load and callback at\", now());\n",
       "    root._bokeh_is_loading = js_urls.length;\n",
       "    for (var i = 0; i < js_urls.length; i++) {\n",
       "      var url = js_urls[i];\n",
       "      var s = document.createElement('script');\n",
       "      s.src = url;\n",
       "      s.async = false;\n",
       "      s.onreadystatechange = s.onload = function() {\n",
       "        root._bokeh_is_loading--;\n",
       "        if (root._bokeh_is_loading === 0) {\n",
       "          console.log(\"Bokeh: all BokehJS libraries loaded\");\n",
       "          run_callbacks()\n",
       "        }\n",
       "      };\n",
       "      s.onerror = function() {\n",
       "        console.warn(\"failed to load library \" + url);\n",
       "      };\n",
       "      console.log(\"Bokeh: injecting script tag for BokehJS library: \", url);\n",
       "      document.getElementsByTagName(\"head\")[0].appendChild(s);\n",
       "    }\n",
       "  };var element = document.getElementById(\"f64e5fdd-23f6-4506-8f53-ff2751966b32\");\n",
       "  if (element == null) {\n",
       "    console.log(\"Bokeh: ERROR: autoload.js configured with elementid 'f64e5fdd-23f6-4506-8f53-ff2751966b32' but no matching script tag was found. \")\n",
       "    return false;\n",
       "  }\n",
       "\n",
       "  var js_urls = [\"https://cdn.pydata.org/bokeh/release/bokeh-0.12.16.min.js\", \"https://cdn.pydata.org/bokeh/release/bokeh-widgets-0.12.16.min.js\", \"https://cdn.pydata.org/bokeh/release/bokeh-tables-0.12.16.min.js\", \"https://cdn.pydata.org/bokeh/release/bokeh-gl-0.12.16.min.js\"];\n",
       "\n",
       "  var inline_js = [\n",
       "    function(Bokeh) {\n",
       "      Bokeh.set_log_level(\"info\");\n",
       "    },\n",
       "    \n",
       "    function(Bokeh) {\n",
       "      \n",
       "    },\n",
       "    function(Bokeh) {\n",
       "      console.log(\"Bokeh: injecting CSS: https://cdn.pydata.org/bokeh/release/bokeh-0.12.16.min.css\");\n",
       "      Bokeh.embed.inject_css(\"https://cdn.pydata.org/bokeh/release/bokeh-0.12.16.min.css\");\n",
       "      console.log(\"Bokeh: injecting CSS: https://cdn.pydata.org/bokeh/release/bokeh-widgets-0.12.16.min.css\");\n",
       "      Bokeh.embed.inject_css(\"https://cdn.pydata.org/bokeh/release/bokeh-widgets-0.12.16.min.css\");\n",
       "      console.log(\"Bokeh: injecting CSS: https://cdn.pydata.org/bokeh/release/bokeh-tables-0.12.16.min.css\");\n",
       "      Bokeh.embed.inject_css(\"https://cdn.pydata.org/bokeh/release/bokeh-tables-0.12.16.min.css\");\n",
       "    }\n",
       "  ];\n",
       "\n",
       "  function run_inline_js() {\n",
       "    \n",
       "    if ((root.Bokeh !== undefined) || (force === true)) {\n",
       "      for (var i = 0; i < inline_js.length; i++) {\n",
       "        inline_js[i].call(root, root.Bokeh);\n",
       "      }if (force === true) {\n",
       "        display_loaded();\n",
       "      }} else if (Date.now() < root._bokeh_timeout) {\n",
       "      setTimeout(run_inline_js, 100);\n",
       "    } else if (!root._bokeh_failed_load) {\n",
       "      console.log(\"Bokeh: BokehJS failed to load within specified timeout.\");\n",
       "      root._bokeh_failed_load = true;\n",
       "    } else if (force !== true) {\n",
       "      var cell = $(document.getElementById(\"f64e5fdd-23f6-4506-8f53-ff2751966b32\")).parents('.cell').data().cell;\n",
       "      cell.output_area.append_execute_result(NB_LOAD_WARNING)\n",
       "    }\n",
       "\n",
       "  }\n",
       "\n",
       "  if (root._bokeh_is_loading === 0) {\n",
       "    console.log(\"Bokeh: BokehJS loaded, going straight to plotting\");\n",
       "    run_inline_js();\n",
       "  } else {\n",
       "    load_libs(js_urls, function() {\n",
       "      console.log(\"Bokeh: BokehJS plotting callback run at\", now());\n",
       "      run_inline_js();\n",
       "    });\n",
       "  }\n",
       "}(window));"
      ],
      "application/vnd.bokehjs_load.v0+json": "\n(function(root) {\n  function now() {\n    return new Date();\n  }\n\n  var force = true;\n\n  if (typeof (root._bokeh_onload_callbacks) === \"undefined\" || force === true) {\n    root._bokeh_onload_callbacks = [];\n    root._bokeh_is_loading = undefined;\n  }\n\n  \n\n  \n  if (typeof (root._bokeh_timeout) === \"undefined\" || force === true) {\n    root._bokeh_timeout = Date.now() + 5000;\n    root._bokeh_failed_load = false;\n  }\n\n  var NB_LOAD_WARNING = {'data': {'text/html':\n     \"<div style='background-color: #fdd'>\\n\"+\n     \"<p>\\n\"+\n     \"BokehJS does not appear to have successfully loaded. If loading BokehJS from CDN, this \\n\"+\n     \"may be due to a slow or bad network connection. Possible fixes:\\n\"+\n     \"</p>\\n\"+\n     \"<ul>\\n\"+\n     \"<li>re-rerun `output_notebook()` to attempt to load from CDN again, or</li>\\n\"+\n     \"<li>use INLINE resources instead, as so:</li>\\n\"+\n     \"</ul>\\n\"+\n     \"<code>\\n\"+\n     \"from bokeh.resources import INLINE\\n\"+\n     \"output_notebook(resources=INLINE)\\n\"+\n     \"</code>\\n\"+\n     \"</div>\"}};\n\n  function display_loaded() {\n    var el = document.getElementById(\"f64e5fdd-23f6-4506-8f53-ff2751966b32\");\n    if (el != null) {\n      el.textContent = \"BokehJS is loading...\";\n    }\n    if (root.Bokeh !== undefined) {\n      if (el != null) {\n        el.textContent = \"BokehJS \" + root.Bokeh.version + \" successfully loaded.\";\n      }\n    } else if (Date.now() < root._bokeh_timeout) {\n      setTimeout(display_loaded, 100)\n    }\n  }\n\n\n  function run_callbacks() {\n    try {\n      root._bokeh_onload_callbacks.forEach(function(callback) { callback() });\n    }\n    finally {\n      delete root._bokeh_onload_callbacks\n    }\n    console.info(\"Bokeh: all callbacks have finished\");\n  }\n\n  function load_libs(js_urls, callback) {\n    root._bokeh_onload_callbacks.push(callback);\n    if (root._bokeh_is_loading > 0) {\n      console.log(\"Bokeh: BokehJS is being loaded, scheduling callback at\", now());\n      return null;\n    }\n    if (js_urls == null || js_urls.length === 0) {\n      run_callbacks();\n      return null;\n    }\n    console.log(\"Bokeh: BokehJS not loaded, scheduling load and callback at\", now());\n    root._bokeh_is_loading = js_urls.length;\n    for (var i = 0; i < js_urls.length; i++) {\n      var url = js_urls[i];\n      var s = document.createElement('script');\n      s.src = url;\n      s.async = false;\n      s.onreadystatechange = s.onload = function() {\n        root._bokeh_is_loading--;\n        if (root._bokeh_is_loading === 0) {\n          console.log(\"Bokeh: all BokehJS libraries loaded\");\n          run_callbacks()\n        }\n      };\n      s.onerror = function() {\n        console.warn(\"failed to load library \" + url);\n      };\n      console.log(\"Bokeh: injecting script tag for BokehJS library: \", url);\n      document.getElementsByTagName(\"head\")[0].appendChild(s);\n    }\n  };var element = document.getElementById(\"f64e5fdd-23f6-4506-8f53-ff2751966b32\");\n  if (element == null) {\n    console.log(\"Bokeh: ERROR: autoload.js configured with elementid 'f64e5fdd-23f6-4506-8f53-ff2751966b32' but no matching script tag was found. \")\n    return false;\n  }\n\n  var js_urls = [\"https://cdn.pydata.org/bokeh/release/bokeh-0.12.16.min.js\", \"https://cdn.pydata.org/bokeh/release/bokeh-widgets-0.12.16.min.js\", \"https://cdn.pydata.org/bokeh/release/bokeh-tables-0.12.16.min.js\", \"https://cdn.pydata.org/bokeh/release/bokeh-gl-0.12.16.min.js\"];\n\n  var inline_js = [\n    function(Bokeh) {\n      Bokeh.set_log_level(\"info\");\n    },\n    \n    function(Bokeh) {\n      \n    },\n    function(Bokeh) {\n      console.log(\"Bokeh: injecting CSS: https://cdn.pydata.org/bokeh/release/bokeh-0.12.16.min.css\");\n      Bokeh.embed.inject_css(\"https://cdn.pydata.org/bokeh/release/bokeh-0.12.16.min.css\");\n      console.log(\"Bokeh: injecting CSS: https://cdn.pydata.org/bokeh/release/bokeh-widgets-0.12.16.min.css\");\n      Bokeh.embed.inject_css(\"https://cdn.pydata.org/bokeh/release/bokeh-widgets-0.12.16.min.css\");\n      console.log(\"Bokeh: injecting CSS: https://cdn.pydata.org/bokeh/release/bokeh-tables-0.12.16.min.css\");\n      Bokeh.embed.inject_css(\"https://cdn.pydata.org/bokeh/release/bokeh-tables-0.12.16.min.css\");\n    }\n  ];\n\n  function run_inline_js() {\n    \n    if ((root.Bokeh !== undefined) || (force === true)) {\n      for (var i = 0; i < inline_js.length; i++) {\n        inline_js[i].call(root, root.Bokeh);\n      }if (force === true) {\n        display_loaded();\n      }} else if (Date.now() < root._bokeh_timeout) {\n      setTimeout(run_inline_js, 100);\n    } else if (!root._bokeh_failed_load) {\n      console.log(\"Bokeh: BokehJS failed to load within specified timeout.\");\n      root._bokeh_failed_load = true;\n    } else if (force !== true) {\n      var cell = $(document.getElementById(\"f64e5fdd-23f6-4506-8f53-ff2751966b32\")).parents('.cell').data().cell;\n      cell.output_area.append_execute_result(NB_LOAD_WARNING)\n    }\n\n  }\n\n  if (root._bokeh_is_loading === 0) {\n    console.log(\"Bokeh: BokehJS loaded, going straight to plotting\");\n    run_inline_js();\n  } else {\n    load_libs(js_urls, function() {\n      console.log(\"Bokeh: BokehJS plotting callback run at\", now());\n      run_inline_js();\n    });\n  }\n}(window));"
     },
     "metadata": {},
     "output_type": "display_data"
    }
   ],
   "source": [
    "output_notebook()"
   ]
  },
  {
   "cell_type": "code",
   "execution_count": 8,
   "metadata": {
    "collapsed": true
   },
   "outputs": [],
   "source": [
    "def fmt_cool(ds_in):\n",
    "    ds = ds_in.copy(deep=True)\n",
    "    if 'igg' in ds.dims:\n",
    "        ds = ds.sel(igg=1)\n",
    "\n",
    "    if 'g' in ds.dims:\n",
    "        ds = ds.sum('g')\n",
    "            \n",
    "    if 'band' in ds.dims:\n",
    "        try:\n",
    "            ds = ds.squeeze('band')\n",
    "        except ValueError:\n",
    "            ds = ds.sum('band')\n",
    "                \n",
    "    return ds['coolrg']\n",
    "\n",
    "\n",
    "def pltdata_cooling_1(ds_cool=None,\n",
    "                      ds_cool_crd=None, ds_cool_wgt=None):\n",
    "    \n",
    "\n",
    "\n",
    "    colors = all_palettes['Set1'][4]\n",
    "    data = [{'label': 'CLIRAD `coolr_bands`',\n",
    "             'srs': fmt_cool(ds_cool),\n",
    "             'line_dash': 'dashed', 'line_width': 5,\n",
    "             'color': colors[0], 'alpha': .6},\n",
    "            {'label': 'CRD',\n",
    "             'srs': fmt_cool(ds_cool_crd),\n",
    "             'line_dash': 'solid', 'line_width': 1.5,\n",
    "             'marker': 'circle', 'marker_size': 5,\n",
    "             'color': colors[2], 'alpha': 1,},\n",
    "            {'label': 'WGT igg=10 wgt_flux=2',\n",
    "             'srs': fmt_cool(ds_cool_wgt),\n",
    "             'line_dash': 'solid', 'line_width': 3,\n",
    "             'marker': 'square', 'marker_size': 5,\n",
    "             'color': colors[3], 'alpha': .6}]\n",
    "    return data\n",
    "\n",
    "\n",
    "def nice_xlims(pltdata=None, prange=None):\n",
    "    \n",
    "    def get_slice(srs):\n",
    "        return srs.sel(pressure=slice(*prange))\n",
    "    \n",
    "    srss = [d['srs'] for d in pltdata]\n",
    "    vmin = min([get_slice(srs).min() for srs in srss])\n",
    "    vmax = max([get_slice(srs).max() for srs in srss])\n",
    "    dv = (vmax - vmin) * .01\n",
    "    return float(vmin - dv), float(vmax + dv)\n",
    "    \n",
    "\n",
    "def plt_cooling_bokeh(pltdata=None):\n",
    "    '''\n",
    "    Plot a list of cooling rate profiles using bokeh.\n",
    "    '''\n",
    "    ymin = 1e-2 \n",
    "    ymax = 1020 \n",
    "        \n",
    "    p1 = figure(title=\"Linear pressure scale\", \n",
    "                plot_width=400)        \n",
    "    xmin, xmax = nice_xlims(pltdata, prange=(50, 1050))\n",
    "    for d in pltdata:\n",
    "        if 'marker' in d:\n",
    "            getattr(p1, d['marker'])(d['srs'].values, \n",
    "                    d['srs'].coords['pressure'].values,\n",
    "                    color=d['color'], alpha=.7)\n",
    "        p1.line(d['srs'].values, \n",
    "                d['srs'].coords['pressure'].values,\n",
    "                color=d['color'], alpha=d['alpha'], \n",
    "                line_width=d['line_width'], line_dash=d['line_dash'])\n",
    "    \n",
    "    p1.y_range = Range1d(ymax, ymin)\n",
    "    p1.yaxis.axis_label = 'pressure [mb]'   \n",
    "    p1.x_range = Range1d(xmin, xmax)\n",
    "    p1.xaxis.axis_label = 'cooling rate [K/day]'\n",
    "            \n",
    "    p2 = figure(title='Log pressure scale', y_axis_type='log',\n",
    "                plot_width=560)\n",
    "    xmin, xmax = nice_xlims(pltdata, prange=(.01, 200))\n",
    "    \n",
    "    rs = []\n",
    "    for d in pltdata:\n",
    "        rd = []\n",
    "        if 'marker' in d:\n",
    "            r_mark = getattr(p2, d['marker'])(d['srs'].values, \n",
    "                        d['srs'].coords['pressure'].values,\n",
    "                        color=d['color'], alpha=.7)\n",
    "            rd.append(r_mark)\n",
    "        r_line = p2.line(d['srs'].values, \n",
    "                    d['srs'].coords['pressure'].values,\n",
    "                    color=d['color'], alpha=d['alpha'], \n",
    "                    line_width=d['line_width'], line_dash=d['line_dash'])\n",
    "        rd.append(r_line)\n",
    "      \n",
    "        rs.append(rd)\n",
    "        \n",
    "    p2.y_range = Range1d(ymax, ymin)  \n",
    "    p2.yaxis.axis_label = 'pressure [mb]'\n",
    "    \n",
    "    p2.x_range = Range1d(xmin, xmax)\n",
    "    p2.xaxis.axis_label = 'cooling rate [K/day]'\n",
    "    \n",
    "    items = [(d['label'], r) for r, d in zip(rs, pltdata)]\n",
    "    legend = Legend(items=items, location=(10, -30))\n",
    "    legend.label_text_font_size = '8pt'\n",
    "    \n",
    "    p2.add_layout(legend, 'right')  \n",
    "    \n",
    "    show(gridplot(p1, p2, ncols=2, plot_height=500))\n",
    "    \n",
    "\n",
    "def script_plt_cooling():\n",
    "    pltdata = pltdata_cooling_1(\n",
    "        ds_cool=DS_COOL,\n",
    "        ds_cool_crd=DS_COOL_CRD,\n",
    "        ds_cool_wgt=DS_COOL_WGT)\n",
    "    plt_cooling_bokeh(pltdata=pltdata)\n",
    "    print('''FIGURE. Cooling rate profiles.''')"
   ]
  },
  {
   "cell_type": "code",
   "execution_count": 9,
   "metadata": {
    "collapsed": true
   },
   "outputs": [],
   "source": [
    "def fmt_flux(ds_in):\n",
    "    ds = ds_in.copy(deep=True)\n",
    "    \n",
    "    for l in ('level', 'layer'):\n",
    "        if l in ds.data_vars:\n",
    "            if len(ds[l].dims) > 1:\n",
    "                surface = {d: 0 for d in ds.dims if d != 'pressure'}\n",
    "                coord_level = ds[l][surface]\n",
    "                ds.coords[l] = ('pressure', coord_level)\n",
    "            else:\n",
    "                ds.coords[l] = ('pressure', ds[l])\n",
    "        \n",
    "    ds = ds.isel(pressure=[0, 23, -1])\n",
    "        \n",
    "    if 'igg' in ds.dims:\n",
    "        ds = ds.sel(igg=[1])\n",
    "        ds = ds.squeeze('igg').drop('igg')\n",
    "    \n",
    "    if 'g' in ds.dims:\n",
    "        ds = ds.sum('g')\n",
    "            \n",
    "    if 'band' in ds.dims:\n",
    "        try:\n",
    "            ds = ds.squeeze('band').drop('band')\n",
    "        except ValueError:\n",
    "            ds = ds.sum('band')\n",
    "                \n",
    "    df = ds.to_dataframe()\n",
    "    df = df.set_index('level', append=True)               \n",
    "    return df\n",
    "\n",
    "\n",
    "def tbdata_flux(ds_flux=None, ds_flux_crd=None, ds_flux_wgt=None):\n",
    "    ilevels = [0, 23, -1]\n",
    "            \n",
    "    benchmark = {'label': 'CRD',\n",
    "                 'df': fmt_flux(ds_flux_crd)}\n",
    "    \n",
    "    tbs = [{'label': 'WGT igg=10 wgt_flux=1',\n",
    "            'df': fmt_flux(ds_flux_wgt)},\n",
    "           {'label': 'CLIRAD',\n",
    "            'df': fmt_flux(ds_flux)}]\n",
    "    \n",
    "    data = {'benchmark': benchmark, 'others': tbs}\n",
    "    return data\n",
    "\n",
    "\n",
    "def tb_flux(tbdata=None):\n",
    "    benchmark = tbdata['benchmark']\n",
    "    others = tbdata['others']\n",
    "    \n",
    "    def show_tb(d=None):\n",
    "        display.display(d['df'])\n",
    "        print('Table.', 'Fluxes.', d['label'])\n",
    "        \n",
    "    def show_tbdiff(d0=None, d=None):\n",
    "        df = d['df']\n",
    "        df.index = d0['df'].index\n",
    "        display.display(df - d0['df'])\n",
    "        print('Table.', 'Fluxes.', \n",
    "              '({}) - ({})'.format(d['label'], d0['label']))\n",
    "        \n",
    "    show_tb(benchmark)\n",
    "    for d in others:\n",
    "        show_tb(d)\n",
    "        \n",
    "    for d in others:\n",
    "        show_tbdiff(d=d, d0=benchmark)\n",
    "        \n",
    "        \n",
    "def script_tb_flux():\n",
    "    data = tbdata_flux(ds_flux=DS_FLUX,\n",
    "                       ds_flux_crd=DS_FLUX_CRD,\n",
    "                       ds_flux_wgt=DS_FLUX_WGT)\n",
    "    tb_flux(tbdata=data)"
   ]
  },
  {
   "cell_type": "code",
   "execution_count": 10,
   "metadata": {
    "collapsed": true
   },
   "outputs": [],
   "source": [
    "def band_map():\n",
    "    '''\n",
    "    Maps spectral bands in lblnew to spectral bands in clirad.\n",
    "    '''\n",
    "    lblnew2clirad = {'1': '1',\n",
    "            '2': '2',\n",
    "            '3a': '3',\n",
    "            '3b': '4',\n",
    "            '3c': '5',\n",
    "            '4': '6', \n",
    "            '5': '7',\n",
    "            '6': '8',\n",
    "            '7': '9', \n",
    "            '8': '10',\n",
    "            '9': '11'}\n",
    "    \n",
    "    clirad2lblnew = {clirad: lblnew \n",
    "                     for lblnew, clirad in lblnew2clirad.items()}\n",
    "    return clirad2lblnew\n",
    "\n",
    "\n",
    "def gasbands():\n",
    "    bmap = band_map()\n",
    "    gases = list(PARAM['molecule'].keys())\n",
    "    \n",
    "    bands = [bmap[str(b)] for b in PARAM['band']]\n",
    "    return list(itertools.product(gases, bands))\n",
    "\n",
    "\n",
    "def print_bestfit_params():\n",
    "    print('Best-fit values for each (gas, band)')\n",
    "    print('------------------------------------')\n",
    "    for gas, band in gasbands():\n",
    "        print('o {} band{}'.format(gas, band))\n",
    "        param = bestfits.kdist_params(molecule=gas, band=band)\n",
    "        for name, value in sorted(param.items()):\n",
    "            print(2 * ' ' + '{} = {}'.format(name, value))\n",
    "\n",
    "        \n",
    "def print_input_param():        \n",
    "    for name, value in PARAM.items():\n",
    "        print('{} = {}'.format(name, value))\n",
    "        \n",
    "        \n",
    "def print_lblnew_param():\n",
    "    for name, value in sorted(PARAM_LBLNEW.items()):\n",
    "        print('{} = {}'.format(name, value))\n"
   ]
  },
  {
   "cell_type": "code",
   "execution_count": 11,
   "metadata": {
    "collapsed": true,
    "scrolled": false
   },
   "outputs": [],
   "source": [
    "def show_html(s):\n",
    "    display.display(display.HTML(s))\n",
    "\n",
    "    \n",
    "def show_markdown(s):\n",
    "    display.display(display.Markdown(s))\n",
    "\n",
    "    \n",
    "def script():\n",
    "    \n",
    "    title = '### CLIRAD-LW'\n",
    "    s_input = 'Input Parameters'\n",
    "    s_lblnew_param = 'LBLNEW case compaired against'\n",
    "    s_bestfits = 'Best-fit Parameters'\n",
    "    s_plt_cooling = 'Cooling Rate Profiles'\n",
    "    s_tb_flux = 'Flux Comparison'\n",
    "    \n",
    "    # title\n",
    "    show_markdown('### CLIRAD-LW')\n",
    "    \n",
    "    # TOC\n",
    "    show_markdown('### Table of Contents')\n",
    "    show_html(climahtml.getHTML_hrefanchor(s_input))\n",
    "    show_html(climahtml.getHTML_hrefanchor(s_lblnew_param))\n",
    "    show_html(climahtml.getHTML_hrefanchor(s_plt_cooling))\n",
    "    show_html(climahtml.getHTML_hrefanchor(s_tb_flux))\n",
    "    show_html(climahtml.getHTML_hrefanchor(s_bestfits))\n",
    "    \n",
    "    # Input parameters\n",
    "    show_html(climahtml.getHTML_idanchor(s_input))\n",
    "    show_markdown(climahtml.getMarkdown_sectitle(s_input))\n",
    "    print_input_param()\n",
    "    \n",
    "    # LBLNEW parameters \n",
    "    show_html(climahtml.getHTML_idanchor(s_lblnew_param))\n",
    "    show_markdown(climahtml.getMarkdown_sectitle(s_lblnew_param))\n",
    "    print_lblnew_param()\n",
    "    \n",
    "    # Cooling rate profiles\n",
    "    show_html(climahtml.getHTML_idanchor(s_plt_cooling))\n",
    "    show_markdown(climahtml.getMarkdown_sectitle(s_plt_cooling))\n",
    "    script_plt_cooling()\n",
    "    \n",
    "    # Flux comparison\n",
    "    show_html(climahtml.getHTML_idanchor(s_tb_flux))\n",
    "    show_markdown(climahtml.getMarkdown_sectitle(s_tb_flux))\n",
    "    script_tb_flux()\n",
    "    \n",
    "    # Best-fit values\n",
    "    show_html(climahtml.getHTML_idanchor(s_bestfits))\n",
    "    show_markdown(climahtml.getMarkdown_sectitle(s_bestfits))\n",
    "    print_bestfit_params()\n",
    "   \n",
    "    "
   ]
  },
  {
   "cell_type": "code",
   "execution_count": 12,
   "metadata": {
    "collapsed": true,
    "scrolled": false
   },
   "outputs": [
    {
     "data": {
      "text/markdown": [
       "### CLIRAD-LW"
      ],
      "text/plain": [
       "<IPython.core.display.Markdown object>"
      ]
     },
     "metadata": {},
     "output_type": "display_data"
    },
    {
     "data": {
      "text/markdown": [
       "### Table of Contents"
      ],
      "text/plain": [
       "<IPython.core.display.Markdown object>"
      ]
     },
     "metadata": {},
     "output_type": "display_data"
    },
    {
     "data": {
      "text/html": [
       "<a href=\"#Input_Parameters\">Input Parameters</a>"
      ],
      "text/plain": [
       "<IPython.core.display.HTML object>"
      ]
     },
     "metadata": {},
     "output_type": "display_data"
    },
    {
     "data": {
      "text/html": [
       "<a href=\"#LBLNEW_case_compaired_against\">LBLNEW case compaired against</a>"
      ],
      "text/plain": [
       "<IPython.core.display.HTML object>"
      ]
     },
     "metadata": {},
     "output_type": "display_data"
    },
    {
     "data": {
      "text/html": [
       "<a href=\"#Cooling_Rate_Profiles\">Cooling Rate Profiles</a>"
      ],
      "text/plain": [
       "<IPython.core.display.HTML object>"
      ]
     },
     "metadata": {},
     "output_type": "display_data"
    },
    {
     "data": {
      "text/html": [
       "<a href=\"#Flux_Comparison\">Flux Comparison</a>"
      ],
      "text/plain": [
       "<IPython.core.display.HTML object>"
      ]
     },
     "metadata": {},
     "output_type": "display_data"
    },
    {
     "data": {
      "text/html": [
       "<a href=\"#Best-fit_Parameters\">Best-fit Parameters</a>"
      ],
      "text/plain": [
       "<IPython.core.display.HTML object>"
      ]
     },
     "metadata": {},
     "output_type": "display_data"
    },
    {
     "data": {
      "text/html": [
       "<a id=\"Input_Parameters\"></a>"
      ],
      "text/plain": [
       "<IPython.core.display.HTML object>"
      ]
     },
     "metadata": {},
     "output_type": "display_data"
    },
    {
     "data": {
      "text/markdown": [
       "# Input Parameters"
      ],
      "text/plain": [
       "<IPython.core.display.Markdown object>"
      ]
     },
     "metadata": {},
     "output_type": "display_data"
    },
    {
     "name": "stdout",
     "output_type": "stream",
     "text": [
      "commitnumber = de5d43e\n",
      "molecule = {'h2o': 'atmpro', 'co2': 0.0004}\n",
      "band = [11]\n",
      "atmpro = saw\n",
      "tsfc = 257\n"
     ]
    },
    {
     "data": {
      "text/html": [
       "<a id=\"LBLNEW_case_compaired_against\"></a>"
      ],
      "text/plain": [
       "<IPython.core.display.HTML object>"
      ]
     },
     "metadata": {},
     "output_type": "display_data"
    },
    {
     "data": {
      "text/markdown": [
       "# LBLNEW case compaired against"
      ],
      "text/plain": [
       "<IPython.core.display.Markdown object>"
      ]
     },
     "metadata": {},
     "output_type": "display_data"
    },
    {
     "name": "stdout",
     "output_type": "stream",
     "text": [
      "atmpro = saw\n",
      "band = 9\n",
      "commitnumber = 5014a19\n",
      "dv = 0.001\n",
      "molecule = {'h2o': 'atmpro', 'co2': 0.0004}\n",
      "nv = 1000\n",
      "tsfc = 257\n"
     ]
    },
    {
     "data": {
      "text/html": [
       "<a id=\"Cooling_Rate_Profiles\"></a>"
      ],
      "text/plain": [
       "<IPython.core.display.HTML object>"
      ]
     },
     "metadata": {},
     "output_type": "display_data"
    },
    {
     "data": {
      "text/markdown": [
       "# Cooling Rate Profiles"
      ],
      "text/plain": [
       "<IPython.core.display.Markdown object>"
      ]
     },
     "metadata": {},
     "output_type": "display_data"
    },
    {
     "data": {
      "text/html": [
       "\n",
       "<div class=\"bk-root\">\n",
       "    <div class=\"bk-plotdiv\" id=\"cc0892d5-e37c-4005-a122-5f92badb225c\"></div>\n",
       "</div>"
      ]
     },
     "metadata": {},
     "output_type": "display_data"
    },
    {
     "data": {
      "application/javascript": [
       "(function(root) {\n",
       "  function embed_document(root) {\n",
       "    \n",
       "  var docs_json = {\"70b1f572-a5f3-402c-83f4-3a7e1f6d0023\":{\"roots\":{\"references\":[{\"attributes\":{\"plot\":{\"id\":\"404684a7-c671-413d-be81-30e690ff4be4\",\"subtype\":\"Figure\",\"type\":\"Plot\"},\"ticker\":{\"id\":\"f62847a8-fadb-4389-be88-7db1da273aa3\",\"type\":\"BasicTicker\"}},\"id\":\"597b682b-62e1-408b-8cfa-0193970cc48c\",\"type\":\"Grid\"},{\"attributes\":{\"axis_label\":\"cooling rate [K/day]\",\"formatter\":{\"id\":\"0a940bf7-83cc-4104-9da6-8b846b462b2c\",\"type\":\"BasicTickFormatter\"},\"plot\":{\"id\":\"404684a7-c671-413d-be81-30e690ff4be4\",\"subtype\":\"Figure\",\"type\":\"Plot\"},\"ticker\":{\"id\":\"f62847a8-fadb-4389-be88-7db1da273aa3\",\"type\":\"BasicTicker\"}},\"id\":\"353e10de-5299-490c-b463-7c600bdbc90d\",\"type\":\"LinearAxis\"},{\"attributes\":{\"line_alpha\":0.1,\"line_color\":\"#1f77b4\",\"line_width\":3,\"x\":{\"field\":\"x\"},\"y\":{\"field\":\"y\"}},\"id\":\"c10e5e35-a687-45ef-a2c3-2969100476f9\",\"type\":\"Line\"},{\"attributes\":{},\"id\":\"f62847a8-fadb-4389-be88-7db1da273aa3\",\"type\":\"BasicTicker\"},{\"attributes\":{\"data_source\":{\"id\":\"6b6ab0fc-f762-4181-9fb2-2f6460aee35f\",\"type\":\"ColumnDataSource\"},\"glyph\":{\"id\":\"11e292c5-bcf4-4363-91d6-c21313abadcf\",\"type\":\"Circle\"},\"hover_glyph\":null,\"muted_glyph\":null,\"nonselection_glyph\":{\"id\":\"84824079-1aea-42af-8583-0aac81a0c6a4\",\"type\":\"Circle\"},\"selection_glyph\":null,\"view\":{\"id\":\"197f14aa-9e24-43bb-b554-1ca14e037f70\",\"type\":\"CDSView\"}},\"id\":\"138a1295-7395-4aba-b1e9-5ee3d4b59625\",\"type\":\"GlyphRenderer\"},{\"attributes\":{\"axis_label\":\"pressure [mb]\",\"formatter\":{\"id\":\"9a56abf1-f8dc-4408-acac-fe3a30417546\",\"type\":\"LogTickFormatter\"},\"plot\":{\"id\":\"404684a7-c671-413d-be81-30e690ff4be4\",\"subtype\":\"Figure\",\"type\":\"Plot\"},\"ticker\":{\"id\":\"e04909cc-899e-48c8-a33a-e19830db0db1\",\"type\":\"LogTicker\"}},\"id\":\"e820c17c-2c41-4c25-98bc-c313be8a44b4\",\"type\":\"LogAxis\"},{\"attributes\":{\"fill_alpha\":{\"value\":0.7},\"fill_color\":{\"value\":\"#4daf4a\"},\"line_alpha\":{\"value\":0.7},\"line_color\":{\"value\":\"#4daf4a\"},\"x\":{\"field\":\"x\"},\"y\":{\"field\":\"y\"}},\"id\":\"1050a149-ba54-446a-ad16-85e943a5a5a2\",\"type\":\"Circle\"},{\"attributes\":{\"data_source\":{\"id\":\"92b06699-b35c-4b26-81ae-bad325e1d7ea\",\"type\":\"ColumnDataSource\"},\"glyph\":{\"id\":\"1050a149-ba54-446a-ad16-85e943a5a5a2\",\"type\":\"Circle\"},\"hover_glyph\":null,\"muted_glyph\":null,\"nonselection_glyph\":{\"id\":\"1df7fac3-e043-40ab-bfbe-c95e52b1a339\",\"type\":\"Circle\"},\"selection_glyph\":null,\"view\":{\"id\":\"c104762c-4c06-427c-aee9-5801dabb28a7\",\"type\":\"CDSView\"}},\"id\":\"0f7db20d-40cd-4d0c-8b6e-4fbf0918d969\",\"type\":\"GlyphRenderer\"},{\"attributes\":{\"num_minor_ticks\":10},\"id\":\"e04909cc-899e-48c8-a33a-e19830db0db1\",\"type\":\"LogTicker\"},{\"attributes\":{\"data_source\":{\"id\":\"0398a501-68f9-4416-8e4f-e48bf8235fec\",\"type\":\"ColumnDataSource\"},\"glyph\":{\"id\":\"97c6f2e5-290a-4058-82d6-a01ede0e1d33\",\"type\":\"Line\"},\"hover_glyph\":null,\"muted_glyph\":null,\"nonselection_glyph\":{\"id\":\"a991930d-3b26-4bac-9366-26ca8297e014\",\"type\":\"Line\"},\"selection_glyph\":null,\"view\":{\"id\":\"cfebe6ea-0be4-4754-86d5-fa1d25abb9bb\",\"type\":\"CDSView\"}},\"id\":\"d521f74e-08e7-4d27-9ae5-ca209715e084\",\"type\":\"GlyphRenderer\"},{\"attributes\":{\"callback\":null,\"end\":0.13605723665,\"start\":-0.02835316165},\"id\":\"d0832f46-1d35-4680-95d8-043b75b181ae\",\"type\":\"Range1d\"},{\"attributes\":{\"source\":{\"id\":\"0398a501-68f9-4416-8e4f-e48bf8235fec\",\"type\":\"ColumnDataSource\"}},\"id\":\"cfebe6ea-0be4-4754-86d5-fa1d25abb9bb\",\"type\":\"CDSView\"},{\"attributes\":{\"dimension\":1,\"plot\":{\"id\":\"404684a7-c671-413d-be81-30e690ff4be4\",\"subtype\":\"Figure\",\"type\":\"Plot\"},\"ticker\":{\"id\":\"e04909cc-899e-48c8-a33a-e19830db0db1\",\"type\":\"LogTicker\"}},\"id\":\"7afa37c2-68b1-4951-bfa1-dbeef4a06928\",\"type\":\"Grid\"},{\"attributes\":{\"source\":{\"id\":\"cb1a699e-f377-4167-8f1c-73215074742f\",\"type\":\"ColumnDataSource\"}},\"id\":\"87487485-6f9b-4375-8f1d-68fb22f28a21\",\"type\":\"CDSView\"},{\"attributes\":{\"line_alpha\":0.1,\"line_color\":\"#1f77b4\",\"line_width\":1.5,\"x\":{\"field\":\"x\"},\"y\":{\"field\":\"y\"}},\"id\":\"a991930d-3b26-4bac-9366-26ca8297e014\",\"type\":\"Line\"},{\"attributes\":{\"bottom_units\":\"screen\",\"fill_alpha\":{\"value\":0.5},\"fill_color\":{\"value\":\"lightgrey\"},\"left_units\":\"screen\",\"level\":\"overlay\",\"line_alpha\":{\"value\":1.0},\"line_color\":{\"value\":\"black\"},\"line_dash\":[4,4],\"line_width\":{\"value\":2},\"plot\":null,\"render_mode\":\"css\",\"right_units\":\"screen\",\"top_units\":\"screen\"},\"id\":\"e4602314-270b-40ac-bfff-ad4023f57474\",\"type\":\"BoxAnnotation\"},{\"attributes\":{},\"id\":\"712a157f-fd95-4ad0-a66d-e7e01ae06002\",\"type\":\"LogScale\"},{\"attributes\":{\"fill_alpha\":{\"value\":0.1},\"fill_color\":{\"value\":\"#1f77b4\"},\"line_alpha\":{\"value\":0.1},\"line_color\":{\"value\":\"#1f77b4\"},\"x\":{\"field\":\"x\"},\"y\":{\"field\":\"y\"}},\"id\":\"1df7fac3-e043-40ab-bfbe-c95e52b1a339\",\"type\":\"Circle\"},{\"attributes\":{},\"id\":\"99126f5b-8ac7-43e1-8dcd-3ffd778a623d\",\"type\":\"PanTool\"},{\"attributes\":{\"data_source\":{\"id\":\"cc6a19fe-fdcc-4036-a902-934ee080fc97\",\"type\":\"ColumnDataSource\"},\"glyph\":{\"id\":\"b94c2d9f-c4e1-4c26-b225-323317bef012\",\"type\":\"Line\"},\"hover_glyph\":null,\"muted_glyph\":null,\"nonselection_glyph\":{\"id\":\"f8196eae-34eb-4096-8a82-42a925a9d445\",\"type\":\"Line\"},\"selection_glyph\":null,\"view\":{\"id\":\"0324999c-5222-45b9-9c38-b6ce8192c328\",\"type\":\"CDSView\"}},\"id\":\"724fdcff-06e7-4e82-a547-19d0c2369434\",\"type\":\"GlyphRenderer\"},{\"attributes\":{},\"id\":\"4b99cade-73b7-4cfc-bf31-40b1ae4eb719\",\"type\":\"WheelZoomTool\"},{\"attributes\":{\"callback\":null,\"end\":0.01,\"start\":1020},\"id\":\"08d95341-c664-491f-aa7d-fcee1eefbaf1\",\"type\":\"Range1d\"},{\"attributes\":{\"overlay\":{\"id\":\"e4602314-270b-40ac-bfff-ad4023f57474\",\"type\":\"BoxAnnotation\"}},\"id\":\"0ebabf55-2fee-4f44-bcdc-9551db51341e\",\"type\":\"BoxZoomTool\"},{\"attributes\":{\"plot\":null,\"text\":\"Log pressure scale\"},\"id\":\"bc87e9d1-7781-40e9-b2c1-46c6238c6289\",\"type\":\"Title\"},{\"attributes\":{\"callback\":null,\"data\":{\"x\":{\"__ndarray__\":\"7hVka4BJtz8RylbyDPXCv/KbHQR4Zrq/8qqA2xDstL8CBbFIIJmzv3X7cofJq7O/A1b6SMv6sr+ivH3AfUmwv0Ed0H4W3qa/YHfv5ZQ5k7+wuP3HSS6JPzOq+v+yJ6g/xF8wCy+5tj8PGNrvP+i+P1nxVxLqM8A/h1OkykmLvj8/ruwG+tm7P+bn/bSOgLg/D2M/fHqbtT9qX0igJFG1PyYBSVzwN70/T2kvaEIPuj/9tBfyhDWrP7y9QwjKmKE/k/R6QVWWmj9yXzRPof+RP+vG+aug2oI/IwxhB17Faz+sy/ztaq5VP3d1hiLPgFI/hbrA1PPPUz8jUt22pkhGP+BT23soOTY/+kx326/MOD99EGXTweYiP5jdWAw6beW+RT8MiIB54j65OWx3QT0hvyIOdZmlsTS/Hb2tRa0yO7/1jeVxrU1Bv6mjxUAknkW/uO8jvAuxSr9LL7mrQRpRvzfo40Lrhlm/rB9mqVhgX7/bDNtKewBcv63KrW3rXle/1O6LF4gvVb8b2daNPnhSv1/LMf7Z7Uy/VIj9/JYWQr/ziynvOX8kv0feenXBSjI/cEVO4NqzSD/copHtyhdVP/EJ/NFOTl8/4fjfo+WUZT9fwOOElihsP+HkXwwjhHE/aN4tbZHkdD/7tK+gThB4P+6S4QXE9Xo/voDhy/KkfT9U5Qs7hCGAP5sgCijEg4E/Jf7gODsdgz/TlmNHHfyEPzm3kugosYY/U2dxoyEThz+CCfoQ9huFP9H+7roKa4E/RJICT8bmej/TJ8JZlJFzP7GDRsgymGU/\",\"dtype\":\"float64\",\"shape\":[75]},\"y\":{\"__ndarray__\":\"GhExyth1ND/Sv8nbtpRIP2vylNV0PVE/aTum7souWD/At0SJ8fVgPw3Iuahxymc/MSNhhJWvcD/bTfBN02d3P2zb5nxnaoA/CD5h5MAGhz8NmeH1TyaQP+zrCsc9p5Y/LbKd76fGnz/bLW5ISEmmPww9YvTcQq8/JV2OstnstT8Er5Y7M8G+P0c+r3jqkcU/5h99k6ZBzj88bCIzFzjVP4enV8oyxN0//yH99nXg5D8qOpLLf0jtP5kqGJXUifQ/c9cS8kHP/D+/DpwzojQEQIEmwoanVwxA4lgXt9HgE0BSSZ2AJuIbQAMJih9jjiNA5q4l5INuK0AwTKYKRj0zQNv5fmq8/DpAaCJseHrtQkB/+zpwzoxKQM3MzMzMeFJAZmZmZmZqWEAAAAAAAFxeQM3MzMzMJmJAmpmZmZkfZUBmZmZmZhhoQDMzMzMzEWtAAAAAAAAKbkBmZmZmZoFwQM3MzMzM/XFAMzMzMzN6c0CamZmZmfZ0QAAAAAAAc3ZAZmZmZmbvd0DNzMzMzGt5QDMzMzMz6HpAmpmZmZlkfEAAAAAAAOF9QGZmZmZmXX9AZmZmZuZsgECamZmZGSuBQM3MzMxM6YFAAAAAAICngkAzMzMzs2WDQGZmZmbmI4RAmpmZmRnihEDNzMzMTKCFQAAAAACAXoZAMzMzM7Mch0BmZmZm5tqHQJqZmZkZmYhAzczMzExXiUAAAAAAgBWKQDMzMzOz04pAZmZmZuaRi0CamZmZGVCMQM3MzMxMDo1AAAAAAIDMjUAzMzMzs4qOQGZmZmbmSI9A\",\"dtype\":\"float64\",\"shape\":[75]}},\"selected\":{\"id\":\"80aed8af-931a-4653-901d-33412fde8dc2\",\"type\":\"Selection\"},\"selection_policy\":{\"id\":\"c7fb6df6-98ec-4705-a8aa-c28431d8a0de\",\"type\":\"UnionRenderers\"}},\"id\":\"416c4db1-3ac8-4a89-8045-372611b32955\",\"type\":\"ColumnDataSource\"},{\"attributes\":{\"data_source\":{\"id\":\"cb1a699e-f377-4167-8f1c-73215074742f\",\"type\":\"ColumnDataSource\"},\"glyph\":{\"id\":\"b7d8a713-4b2c-486d-9146-ef9c78ca7d60\",\"type\":\"Line\"},\"hover_glyph\":null,\"muted_glyph\":null,\"nonselection_glyph\":{\"id\":\"ce94cb82-6d26-4ad7-aa4e-4dd2f906d4ae\",\"type\":\"Line\"},\"selection_glyph\":null,\"view\":{\"id\":\"87487485-6f9b-4375-8f1d-68fb22f28a21\",\"type\":\"CDSView\"}},\"id\":\"ecfd0f1c-faa6-4d43-8904-4e0315f00e4d\",\"type\":\"GlyphRenderer\"},{\"attributes\":{},\"id\":\"f0a9e62c-3667-4044-8288-8764fcaa1074\",\"type\":\"SaveTool\"},{\"attributes\":{},\"id\":\"62dc29cc-e0b4-4b00-bc79-79a7b7680b28\",\"type\":\"HelpTool\"},{\"attributes\":{\"callback\":null,\"data\":{\"x\":{\"__ndarray__\":\"8ZC0o0kFVL/ofMIjOwDEv8tlBp4587y/SOXzeMRit7+qwA1UbQezvxNV9Xstq62/8s4q/rIlpb8DQXHh7wCZv81DqhCdyn+/QZebsanogD9K48nO2CCYP/COpXKHC6Q/eJ+wsiAOrz/7dt0eLoCzP7bBVvcyy7I/j2kSYWiasT++xx9gOwWyP0Uv05GERrM/mfJofaZrtT+egBTfyj65P8TSn4GBNcE/RqATpTEYvz8oGTZT7CuwPzS8xh8mkJ8/+4hiaRU6kT9hTRPls32CP1sZNsVBFHA/gxD/XjkjWz8gV6TyyDlXP7REYXJHoVM/81HArfdCRD8NYRqSwH8cv3YbC0ZM7DC/H/9jOHqeCD/T5uVnZ38hP01ftPBB+yQ/a22wZI0JKD+Qg3XyEggGP8Zd/+gF7SK/GOc1l5fTML/PQeiLzfI3v35sn0nzqz+/B/X7pjppRL+hzSxCfoNLv0u800tyWlW/qc8f5AaNWr82crWDBT9XvyH/QlPaSVK/3fOMih/jTr/2UxOdColIv3QN0Anjn0C/g1sG76vnKr8j9ShWJh0mP/bi7eWBZEQ/5ErIRur9Uj8DYpdCjg9dP3ewMS/IHWQ/SCYk9UUSaj8hpEIL/RJwPzQGHJAkC3M/lOX7FI3WdT9dx/TXtmd4P7pgAAufwHo/DHFquCj5fD/Wo1VWHzt/P3L8wHRi34A/h78GghBpgj/Tdp4Am0+EP5oVH9k7J4Y/cbusli/Ahj99WmaNUQmFP7QgUbZ6poE/DRG2Jn0kfD8Rlxrk4KB1P+75qxELxmo/\",\"dtype\":\"float64\",\"shape\":[75]},\"y\":{\"__ndarray__\":\"GhExyth1ND/Sv8nbtpRIP2vylNV0PVE/aTum7souWD/At0SJ8fVgPw3Iuahxymc/MSNhhJWvcD/bTfBN02d3P2zb5nxnaoA/CD5h5MAGhz8NmeH1TyaQP+zrCsc9p5Y/LbKd76fGnz/bLW5ISEmmPww9YvTcQq8/JV2OstnstT8Er5Y7M8G+P0c+r3jqkcU/5h99k6ZBzj88bCIzFzjVP4enV8oyxN0//yH99nXg5D8qOpLLf0jtP5kqGJXUifQ/c9cS8kHP/D+/DpwzojQEQIEmwoanVwxA4lgXt9HgE0BSSZ2AJuIbQAMJih9jjiNA5q4l5INuK0AwTKYKRj0zQNv5fmq8/DpAaCJseHrtQkB/+zpwzoxKQM3MzMzMeFJAZmZmZmZqWEAAAAAAAFxeQM3MzMzMJmJAmpmZmZkfZUBmZmZmZhhoQDMzMzMzEWtAAAAAAAAKbkBmZmZmZoFwQM3MzMzM/XFAMzMzMzN6c0CamZmZmfZ0QAAAAAAAc3ZAZmZmZmbvd0DNzMzMzGt5QDMzMzMz6HpAmpmZmZlkfEAAAAAAAOF9QGZmZmZmXX9AZmZmZuZsgECamZmZGSuBQM3MzMxM6YFAAAAAAICngkAzMzMzs2WDQGZmZmbmI4RAmpmZmRnihEDNzMzMTKCFQAAAAACAXoZAMzMzM7Mch0BmZmZm5tqHQJqZmZkZmYhAzczMzExXiUAAAAAAgBWKQDMzMzOz04pAZmZmZuaRi0CamZmZGVCMQM3MzMxMDo1AAAAAAIDMjUAzMzMzs4qOQGZmZmbmSI9A\",\"dtype\":\"float64\",\"shape\":[75]}},\"selected\":{\"id\":\"158f1356-de57-49b9-99b3-9520b94fe9e2\",\"type\":\"Selection\"},\"selection_policy\":{\"id\":\"aa0d97c2-c2c4-4e9a-96f0-e3b8a3ab8742\",\"type\":\"UnionRenderers\"}},\"id\":\"0398a501-68f9-4416-8e4f-e48bf8235fec\",\"type\":\"ColumnDataSource\"},{\"attributes\":{\"fill_alpha\":{\"value\":0.7},\"fill_color\":{\"value\":\"#984ea3\"},\"line_alpha\":{\"value\":0.7},\"line_color\":{\"value\":\"#984ea3\"},\"x\":{\"field\":\"x\"},\"y\":{\"field\":\"y\"}},\"id\":\"1576ebb7-eb4e-4ade-a30c-932b53e70d27\",\"type\":\"Square\"},{\"attributes\":{},\"id\":\"1805c913-9db0-4901-81f2-8d9f3df2210c\",\"type\":\"ResetTool\"},{\"attributes\":{\"line_color\":\"#4daf4a\",\"line_width\":1.5,\"x\":{\"field\":\"x\"},\"y\":{\"field\":\"y\"}},\"id\":\"b94c2d9f-c4e1-4c26-b225-323317bef012\",\"type\":\"Line\"},{\"attributes\":{\"source\":{\"id\":\"95550e7d-3b8b-4420-b902-a1579ecb72e8\",\"type\":\"ColumnDataSource\"}},\"id\":\"2b07886c-e1b1-48a8-a3ac-39654de8000a\",\"type\":\"CDSView\"},{\"attributes\":{\"data_source\":{\"id\":\"95550e7d-3b8b-4420-b902-a1579ecb72e8\",\"type\":\"ColumnDataSource\"},\"glyph\":{\"id\":\"ed819205-a0b8-4f41-96f8-2f02bff327cc\",\"type\":\"Line\"},\"hover_glyph\":null,\"muted_glyph\":null,\"nonselection_glyph\":{\"id\":\"c10e5e35-a687-45ef-a2c3-2969100476f9\",\"type\":\"Line\"},\"selection_glyph\":null,\"view\":{\"id\":\"2b07886c-e1b1-48a8-a3ac-39654de8000a\",\"type\":\"CDSView\"}},\"id\":\"7bf2e2cd-a03a-41e5-8435-e4ab31d471e4\",\"type\":\"GlyphRenderer\"},{\"attributes\":{\"source\":{\"id\":\"92b06699-b35c-4b26-81ae-bad325e1d7ea\",\"type\":\"ColumnDataSource\"}},\"id\":\"c104762c-4c06-427c-aee9-5801dabb28a7\",\"type\":\"CDSView\"},{\"attributes\":{\"fill_alpha\":{\"value\":0.1},\"fill_color\":{\"value\":\"#1f77b4\"},\"line_alpha\":{\"value\":0.1},\"line_color\":{\"value\":\"#1f77b4\"},\"x\":{\"field\":\"x\"},\"y\":{\"field\":\"y\"}},\"id\":\"7a02dbed-1a68-4070-8869-eeeb2aadbcf3\",\"type\":\"Square\"},{\"attributes\":{\"line_color\":\"#4daf4a\",\"line_width\":1.5,\"x\":{\"field\":\"x\"},\"y\":{\"field\":\"y\"}},\"id\":\"97c6f2e5-290a-4058-82d6-a01ede0e1d33\",\"type\":\"Line\"},{\"attributes\":{\"children\":[{\"id\":\"93a34ed9-fccb-425d-bddb-20157fa9764e\",\"type\":\"Row\"}]},\"id\":\"b9a98f8c-94d3-43ea-a552-7ab73a5493e5\",\"type\":\"Column\"},{\"attributes\":{\"callback\":null,\"data\":{\"x\":{\"__ndarray__\":\"8ZC0o0kFVL/ofMIjOwDEv8tlBp4587y/SOXzeMRit7+qwA1UbQezvxNV9Xstq62/8s4q/rIlpb8DQXHh7wCZv81DqhCdyn+/QZebsanogD9K48nO2CCYP/COpXKHC6Q/eJ+wsiAOrz/7dt0eLoCzP7bBVvcyy7I/j2kSYWiasT++xx9gOwWyP0Uv05GERrM/mfJofaZrtT+egBTfyj65P8TSn4GBNcE/RqATpTEYvz8oGTZT7CuwPzS8xh8mkJ8/+4hiaRU6kT9hTRPls32CP1sZNsVBFHA/gxD/XjkjWz8gV6TyyDlXP7REYXJHoVM/81HArfdCRD8NYRqSwH8cv3YbC0ZM7DC/H/9jOHqeCD/T5uVnZ38hP01ftPBB+yQ/a22wZI0JKD+Qg3XyEggGP8Zd/+gF7SK/GOc1l5fTML/PQeiLzfI3v35sn0nzqz+/B/X7pjppRL+hzSxCfoNLv0u800tyWlW/qc8f5AaNWr82crWDBT9XvyH/QlPaSVK/3fOMih/jTr/2UxOdColIv3QN0Anjn0C/g1sG76vnKr8j9ShWJh0mP/bi7eWBZEQ/5ErIRur9Uj8DYpdCjg9dP3ewMS/IHWQ/SCYk9UUSaj8hpEIL/RJwPzQGHJAkC3M/lOX7FI3WdT9dx/TXtmd4P7pgAAufwHo/DHFquCj5fD/Wo1VWHzt/P3L8wHRi34A/h78GghBpgj/Tdp4Am0+EP5oVH9k7J4Y/cbusli/Ahj99WmaNUQmFP7QgUbZ6poE/DRG2Jn0kfD8Rlxrk4KB1P+75qxELxmo/\",\"dtype\":\"float64\",\"shape\":[75]},\"y\":{\"__ndarray__\":\"GhExyth1ND/Sv8nbtpRIP2vylNV0PVE/aTum7souWD/At0SJ8fVgPw3Iuahxymc/MSNhhJWvcD/bTfBN02d3P2zb5nxnaoA/CD5h5MAGhz8NmeH1TyaQP+zrCsc9p5Y/LbKd76fGnz/bLW5ISEmmPww9YvTcQq8/JV2OstnstT8Er5Y7M8G+P0c+r3jqkcU/5h99k6ZBzj88bCIzFzjVP4enV8oyxN0//yH99nXg5D8qOpLLf0jtP5kqGJXUifQ/c9cS8kHP/D+/DpwzojQEQIEmwoanVwxA4lgXt9HgE0BSSZ2AJuIbQAMJih9jjiNA5q4l5INuK0AwTKYKRj0zQNv5fmq8/DpAaCJseHrtQkB/+zpwzoxKQM3MzMzMeFJAZmZmZmZqWEAAAAAAAFxeQM3MzMzMJmJAmpmZmZkfZUBmZmZmZhhoQDMzMzMzEWtAAAAAAAAKbkBmZmZmZoFwQM3MzMzM/XFAMzMzMzN6c0CamZmZmfZ0QAAAAAAAc3ZAZmZmZmbvd0DNzMzMzGt5QDMzMzMz6HpAmpmZmZlkfEAAAAAAAOF9QGZmZmZmXX9AZmZmZuZsgECamZmZGSuBQM3MzMxM6YFAAAAAAICngkAzMzMzs2WDQGZmZmbmI4RAmpmZmRnihEDNzMzMTKCFQAAAAACAXoZAMzMzM7Mch0BmZmZm5tqHQJqZmZkZmYhAzczMzExXiUAAAAAAgBWKQDMzMzOz04pAZmZmZuaRi0CamZmZGVCMQM3MzMxMDo1AAAAAAIDMjUAzMzMzs4qOQGZmZmbmSI9A\",\"dtype\":\"float64\",\"shape\":[75]}},\"selected\":{\"id\":\"8d997459-9e28-421c-a564-7dc65ac71d6f\",\"type\":\"Selection\"},\"selection_policy\":{\"id\":\"aab751f3-86e8-4763-8cb3-110aea117d59\",\"type\":\"UnionRenderers\"}},\"id\":\"cc6a19fe-fdcc-4036-a902-934ee080fc97\",\"type\":\"ColumnDataSource\"},{\"attributes\":{\"children\":[{\"id\":\"64b068ca-a215-4ca0-adda-219daa0d9ec7\",\"subtype\":\"Figure\",\"type\":\"Plot\"},{\"id\":\"404684a7-c671-413d-be81-30e690ff4be4\",\"subtype\":\"Figure\",\"type\":\"Plot\"}]},\"id\":\"93a34ed9-fccb-425d-bddb-20157fa9764e\",\"type\":\"Row\"},{\"attributes\":{},\"id\":\"2f8ed290-2803-430a-ad2f-1ad6502690f5\",\"type\":\"LinearScale\"},{\"attributes\":{\"line_alpha\":0.1,\"line_color\":\"#1f77b4\",\"line_width\":1.5,\"x\":{\"field\":\"x\"},\"y\":{\"field\":\"y\"}},\"id\":\"f8196eae-34eb-4096-8a82-42a925a9d445\",\"type\":\"Line\"},{\"attributes\":{},\"id\":\"0a940bf7-83cc-4104-9da6-8b846b462b2c\",\"type\":\"BasicTickFormatter\"},{\"attributes\":{\"label\":{\"value\":\"CLIRAD `coolr_bands`\"},\"renderers\":[{\"id\":\"b19d716f-095b-4734-9c76-c8ff75b39220\",\"type\":\"GlyphRenderer\"}]},\"id\":\"a77e8522-dcd8-492a-8782-47fa82ae7737\",\"type\":\"LegendItem\"},{\"attributes\":{\"fill_alpha\":{\"value\":0.1},\"fill_color\":{\"value\":\"#1f77b4\"},\"line_alpha\":{\"value\":0.1},\"line_color\":{\"value\":\"#1f77b4\"},\"x\":{\"field\":\"x\"},\"y\":{\"field\":\"y\"}},\"id\":\"84824079-1aea-42af-8583-0aac81a0c6a4\",\"type\":\"Circle\"},{\"attributes\":{\"line_alpha\":0.1,\"line_color\":\"#1f77b4\",\"line_dash\":[6],\"line_width\":5,\"x\":{\"field\":\"x\"},\"y\":{\"field\":\"y\"}},\"id\":\"ac3450a3-de29-4c45-a4d2-e049df120fd1\",\"type\":\"Line\"},{\"attributes\":{},\"id\":\"610c6ce5-0283-4457-b996-938be33caf01\",\"type\":\"UnionRenderers\"},{\"attributes\":{\"label\":{\"value\":\"CRD\"},\"renderers\":[{\"id\":\"0f7db20d-40cd-4d0c-8b6e-4fbf0918d969\",\"type\":\"GlyphRenderer\"},{\"id\":\"d521f74e-08e7-4d27-9ae5-ca209715e084\",\"type\":\"GlyphRenderer\"}]},\"id\":\"f556f2d6-580f-4944-b36b-7147c2c643c3\",\"type\":\"LegendItem\"},{\"attributes\":{\"callback\":null,\"data\":{\"x\":{\"__ndarray__\":\"7hVka4BJtz8RylbyDPXCv/KbHQR4Zrq/8qqA2xDstL8CBbFIIJmzv3X7cofJq7O/A1b6SMv6sr+ivH3AfUmwv0Ed0H4W3qa/YHfv5ZQ5k7+wuP3HSS6JPzOq+v+yJ6g/xF8wCy+5tj8PGNrvP+i+P1nxVxLqM8A/h1OkykmLvj8/ruwG+tm7P+bn/bSOgLg/D2M/fHqbtT9qX0igJFG1PyYBSVzwN70/T2kvaEIPuj/9tBfyhDWrP7y9QwjKmKE/k/R6QVWWmj9yXzRPof+RP+vG+aug2oI/IwxhB17Faz+sy/ztaq5VP3d1hiLPgFI/hbrA1PPPUz8jUt22pkhGP+BT23soOTY/+kx326/MOD99EGXTweYiP5jdWAw6beW+RT8MiIB54j65OWx3QT0hvyIOdZmlsTS/Hb2tRa0yO7/1jeVxrU1Bv6mjxUAknkW/uO8jvAuxSr9LL7mrQRpRvzfo40Lrhlm/rB9mqVhgX7/bDNtKewBcv63KrW3rXle/1O6LF4gvVb8b2daNPnhSv1/LMf7Z7Uy/VIj9/JYWQr/ziynvOX8kv0feenXBSjI/cEVO4NqzSD/copHtyhdVP/EJ/NFOTl8/4fjfo+WUZT9fwOOElihsP+HkXwwjhHE/aN4tbZHkdD/7tK+gThB4P+6S4QXE9Xo/voDhy/KkfT9U5Qs7hCGAP5sgCijEg4E/Jf7gODsdgz/TlmNHHfyEPzm3kugosYY/U2dxoyEThz+CCfoQ9huFP9H+7roKa4E/RJICT8bmej/TJ8JZlJFzP7GDRsgymGU/\",\"dtype\":\"float64\",\"shape\":[75]},\"y\":{\"__ndarray__\":\"GhExyth1ND/Sv8nbtpRIP2vylNV0PVE/aTum7souWD/At0SJ8fVgPw3Iuahxymc/MSNhhJWvcD/bTfBN02d3P2zb5nxnaoA/CD5h5MAGhz8NmeH1TyaQP+zrCsc9p5Y/LbKd76fGnz/bLW5ISEmmPww9YvTcQq8/JV2OstnstT8Er5Y7M8G+P0c+r3jqkcU/5h99k6ZBzj88bCIzFzjVP4enV8oyxN0//yH99nXg5D8qOpLLf0jtP5kqGJXUifQ/c9cS8kHP/D+/DpwzojQEQIEmwoanVwxA4lgXt9HgE0BSSZ2AJuIbQAMJih9jjiNA5q4l5INuK0AwTKYKRj0zQNv5fmq8/DpAaCJseHrtQkB/+zpwzoxKQM3MzMzMeFJAZmZmZmZqWEAAAAAAAFxeQM3MzMzMJmJAmpmZmZkfZUBmZmZmZhhoQDMzMzMzEWtAAAAAAAAKbkBmZmZmZoFwQM3MzMzM/XFAMzMzMzN6c0CamZmZmfZ0QAAAAAAAc3ZAZmZmZmbvd0DNzMzMzGt5QDMzMzMz6HpAmpmZmZlkfEAAAAAAAOF9QGZmZmZmXX9AZmZmZuZsgECamZmZGSuBQM3MzMxM6YFAAAAAAICngkAzMzMzs2WDQGZmZmbmI4RAmpmZmRnihEDNzMzMTKCFQAAAAACAXoZAMzMzM7Mch0BmZmZm5tqHQJqZmZkZmYhAzczMzExXiUAAAAAAgBWKQDMzMzOz04pAZmZmZuaRi0CamZmZGVCMQM3MzMxMDo1AAAAAAIDMjUAzMzMzs4qOQGZmZmbmSI9A\",\"dtype\":\"float64\",\"shape\":[75]}},\"selected\":{\"id\":\"2a49bbed-a245-4056-a553-06b8284c0bf0\",\"type\":\"Selection\"},\"selection_policy\":{\"id\":\"fd43be02-6066-4902-89bb-13fce20cfbb3\",\"type\":\"UnionRenderers\"}},\"id\":\"f91b4cab-a219-417d-8838-c8f13328b4d2\",\"type\":\"ColumnDataSource\"},{\"attributes\":{\"line_alpha\":0.6,\"line_color\":\"#e41a1c\",\"line_dash\":[6],\"line_width\":5,\"x\":{\"field\":\"x\"},\"y\":{\"field\":\"y\"}},\"id\":\"380559d7-0219-4ba4-833d-db71cd2600e6\",\"type\":\"Line\"},{\"attributes\":{},\"id\":\"b67813a1-13b1-4e88-b990-5b595327f884\",\"type\":\"Selection\"},{\"attributes\":{\"callback\":null,\"data\":{\"x\":{\"__ndarray__\":\"8ZC0o0kFVL/ofMIjOwDEv8tlBp4587y/SOXzeMRit7+qwA1UbQezvxNV9Xstq62/8s4q/rIlpb8DQXHh7wCZv81DqhCdyn+/QZebsanogD9K48nO2CCYP/COpXKHC6Q/eJ+wsiAOrz/7dt0eLoCzP7bBVvcyy7I/j2kSYWiasT++xx9gOwWyP0Uv05GERrM/mfJofaZrtT+egBTfyj65P8TSn4GBNcE/RqATpTEYvz8oGTZT7CuwPzS8xh8mkJ8/+4hiaRU6kT9hTRPls32CP1sZNsVBFHA/gxD/XjkjWz8gV6TyyDlXP7REYXJHoVM/81HArfdCRD8NYRqSwH8cv3YbC0ZM7DC/H/9jOHqeCD/T5uVnZ38hP01ftPBB+yQ/a22wZI0JKD+Qg3XyEggGP8Zd/+gF7SK/GOc1l5fTML/PQeiLzfI3v35sn0nzqz+/B/X7pjppRL+hzSxCfoNLv0u800tyWlW/qc8f5AaNWr82crWDBT9XvyH/QlPaSVK/3fOMih/jTr/2UxOdColIv3QN0Anjn0C/g1sG76vnKr8j9ShWJh0mP/bi7eWBZEQ/5ErIRur9Uj8DYpdCjg9dP3ewMS/IHWQ/SCYk9UUSaj8hpEIL/RJwPzQGHJAkC3M/lOX7FI3WdT9dx/TXtmd4P7pgAAufwHo/DHFquCj5fD/Wo1VWHzt/P3L8wHRi34A/h78GghBpgj/Tdp4Am0+EP5oVH9k7J4Y/cbusli/Ahj99WmaNUQmFP7QgUbZ6poE/DRG2Jn0kfD8Rlxrk4KB1P+75qxELxmo/\",\"dtype\":\"float64\",\"shape\":[75]},\"y\":{\"__ndarray__\":\"GhExyth1ND/Sv8nbtpRIP2vylNV0PVE/aTum7souWD/At0SJ8fVgPw3Iuahxymc/MSNhhJWvcD/bTfBN02d3P2zb5nxnaoA/CD5h5MAGhz8NmeH1TyaQP+zrCsc9p5Y/LbKd76fGnz/bLW5ISEmmPww9YvTcQq8/JV2OstnstT8Er5Y7M8G+P0c+r3jqkcU/5h99k6ZBzj88bCIzFzjVP4enV8oyxN0//yH99nXg5D8qOpLLf0jtP5kqGJXUifQ/c9cS8kHP/D+/DpwzojQEQIEmwoanVwxA4lgXt9HgE0BSSZ2AJuIbQAMJih9jjiNA5q4l5INuK0AwTKYKRj0zQNv5fmq8/DpAaCJseHrtQkB/+zpwzoxKQM3MzMzMeFJAZmZmZmZqWEAAAAAAAFxeQM3MzMzMJmJAmpmZmZkfZUBmZmZmZhhoQDMzMzMzEWtAAAAAAAAKbkBmZmZmZoFwQM3MzMzM/XFAMzMzMzN6c0CamZmZmfZ0QAAAAAAAc3ZAZmZmZmbvd0DNzMzMzGt5QDMzMzMz6HpAmpmZmZlkfEAAAAAAAOF9QGZmZmZmXX9AZmZmZuZsgECamZmZGSuBQM3MzMxM6YFAAAAAAICngkAzMzMzs2WDQGZmZmbmI4RAmpmZmRnihEDNzMzMTKCFQAAAAACAXoZAMzMzM7Mch0BmZmZm5tqHQJqZmZkZmYhAzczMzExXiUAAAAAAgBWKQDMzMzOz04pAZmZmZuaRi0CamZmZGVCMQM3MzMxMDo1AAAAAAIDMjUAzMzMzs4qOQGZmZmbmSI9A\",\"dtype\":\"float64\",\"shape\":[75]}},\"selected\":{\"id\":\"c7987ef5-118d-4464-9848-a367de2d5b49\",\"type\":\"Selection\"},\"selection_policy\":{\"id\":\"0d614c85-411f-4541-9675-0d150fb1fa6e\",\"type\":\"UnionRenderers\"}},\"id\":\"92b06699-b35c-4b26-81ae-bad325e1d7ea\",\"type\":\"ColumnDataSource\"},{\"attributes\":{\"label\":{\"value\":\"WGT igg=10 wgt_flux=2\"},\"renderers\":[{\"id\":\"a1a3813c-4c4e-4a4c-bf6a-9645b4152bff\",\"type\":\"GlyphRenderer\"},{\"id\":\"7bf2e2cd-a03a-41e5-8435-e4ab31d471e4\",\"type\":\"GlyphRenderer\"}]},\"id\":\"d5dd22fb-2933-4bb8-aac3-2333c01a676b\",\"type\":\"LegendItem\"},{\"attributes\":{},\"id\":\"4813cf79-924e-4864-a2f0-b431acf890a3\",\"type\":\"Selection\"},{\"attributes\":{},\"id\":\"9a4f7d3e-c70c-479d-8a07-54076c3eeed6\",\"type\":\"BasicTickFormatter\"},{\"attributes\":{},\"id\":\"7f3e2483-559c-4259-b6b4-cf1a62b32776\",\"type\":\"BasicTickFormatter\"},{\"attributes\":{},\"id\":\"aab751f3-86e8-4763-8cb3-110aea117d59\",\"type\":\"UnionRenderers\"},{\"attributes\":{\"fill_alpha\":{\"value\":0.7},\"fill_color\":{\"value\":\"#984ea3\"},\"line_alpha\":{\"value\":0.7},\"line_color\":{\"value\":\"#984ea3\"},\"x\":{\"field\":\"x\"},\"y\":{\"field\":\"y\"}},\"id\":\"8124a06b-1bf0-46bc-a0a4-f5a74a639d39\",\"type\":\"Square\"},{\"attributes\":{\"line_alpha\":0.6,\"line_color\":\"#984ea3\",\"line_width\":3,\"x\":{\"field\":\"x\"},\"y\":{\"field\":\"y\"}},\"id\":\"ed819205-a0b8-4f41-96f8-2f02bff327cc\",\"type\":\"Line\"},{\"attributes\":{},\"id\":\"33a92abe-df1f-4cc9-88ee-9e12e3d8a135\",\"type\":\"UnionRenderers\"},{\"attributes\":{},\"id\":\"ff6a9cfb-daa9-4097-a770-0d8facc39faa\",\"type\":\"UnionRenderers\"},{\"attributes\":{\"items\":[{\"id\":\"a77e8522-dcd8-492a-8782-47fa82ae7737\",\"type\":\"LegendItem\"},{\"id\":\"f556f2d6-580f-4944-b36b-7147c2c643c3\",\"type\":\"LegendItem\"},{\"id\":\"d5dd22fb-2933-4bb8-aac3-2333c01a676b\",\"type\":\"LegendItem\"}],\"label_text_font_size\":{\"value\":\"8pt\"},\"location\":[10,-30],\"plot\":{\"id\":\"404684a7-c671-413d-be81-30e690ff4be4\",\"subtype\":\"Figure\",\"type\":\"Plot\"}},\"id\":\"b7485768-99e3-4a94-898e-c0c9f391ceaf\",\"type\":\"Legend\"},{\"attributes\":{},\"id\":\"e8a9113c-f2ed-434c-8741-c52d87d9e522\",\"type\":\"Selection\"},{\"attributes\":{\"ticker\":null},\"id\":\"9a56abf1-f8dc-4408-acac-fe3a30417546\",\"type\":\"LogTickFormatter\"},{\"attributes\":{\"source\":{\"id\":\"6b6ab0fc-f762-4181-9fb2-2f6460aee35f\",\"type\":\"ColumnDataSource\"}},\"id\":\"197f14aa-9e24-43bb-b554-1ca14e037f70\",\"type\":\"CDSView\"},{\"attributes\":{},\"id\":\"8d997459-9e28-421c-a564-7dc65ac71d6f\",\"type\":\"Selection\"},{\"attributes\":{\"data_source\":{\"id\":\"f91b4cab-a219-417d-8838-c8f13328b4d2\",\"type\":\"ColumnDataSource\"},\"glyph\":{\"id\":\"8124a06b-1bf0-46bc-a0a4-f5a74a639d39\",\"type\":\"Square\"},\"hover_glyph\":null,\"muted_glyph\":null,\"nonselection_glyph\":{\"id\":\"045a9a2c-79e5-4a73-b1b3-c6ee86af57a7\",\"type\":\"Square\"},\"selection_glyph\":null,\"view\":{\"id\":\"b481781b-7718-4054-b74e-492be02bba05\",\"type\":\"CDSView\"}},\"id\":\"f9749af3-65d3-4ac7-8f86-1e606ba9f416\",\"type\":\"GlyphRenderer\"},{\"attributes\":{},\"id\":\"c7fb6df6-98ec-4705-a8aa-c28431d8a0de\",\"type\":\"UnionRenderers\"},{\"attributes\":{},\"id\":\"fd43be02-6066-4902-89bb-13fce20cfbb3\",\"type\":\"UnionRenderers\"},{\"attributes\":{\"source\":{\"id\":\"cc6a19fe-fdcc-4036-a902-934ee080fc97\",\"type\":\"ColumnDataSource\"}},\"id\":\"0324999c-5222-45b9-9c38-b6ce8192c328\",\"type\":\"CDSView\"},{\"attributes\":{},\"id\":\"5c240db7-bc04-45c8-bd5c-c46ede824820\",\"type\":\"Selection\"},{\"attributes\":{},\"id\":\"c7987ef5-118d-4464-9848-a367de2d5b49\",\"type\":\"Selection\"},{\"attributes\":{\"source\":{\"id\":\"416c4db1-3ac8-4a89-8045-372611b32955\",\"type\":\"ColumnDataSource\"}},\"id\":\"589c0390-9ef8-45df-a7b8-b5c63b05ca47\",\"type\":\"CDSView\"},{\"attributes\":{},\"id\":\"0d614c85-411f-4541-9675-0d150fb1fa6e\",\"type\":\"UnionRenderers\"},{\"attributes\":{},\"id\":\"aa0d97c2-c2c4-4e9a-96f0-e3b8a3ab8742\",\"type\":\"UnionRenderers\"},{\"attributes\":{\"children\":[{\"id\":\"aee9f424-c4a4-4127-ab88-895df8a9656c\",\"type\":\"ToolbarBox\"},{\"id\":\"b9a98f8c-94d3-43ea-a552-7ab73a5493e5\",\"type\":\"Column\"}]},\"id\":\"43bd4072-87f1-4962-8a3d-729a10619c71\",\"type\":\"Column\"},{\"attributes\":{},\"id\":\"701f5391-86e3-4561-8222-6c106f7e064a\",\"type\":\"UnionRenderers\"},{\"attributes\":{},\"id\":\"fc4fb547-6134-4b94-ac3a-051a7bfb05b4\",\"type\":\"UnionRenderers\"},{\"attributes\":{},\"id\":\"158f1356-de57-49b9-99b3-9520b94fe9e2\",\"type\":\"Selection\"},{\"attributes\":{\"toolbar\":{\"id\":\"c506c3ff-1ec9-4159-94d6-fe89ddf6b621\",\"type\":\"ProxyToolbar\"},\"toolbar_location\":\"above\"},\"id\":\"aee9f424-c4a4-4127-ab88-895df8a9656c\",\"type\":\"ToolbarBox\"},{\"attributes\":{},\"id\":\"80aed8af-931a-4653-901d-33412fde8dc2\",\"type\":\"Selection\"},{\"attributes\":{\"fill_alpha\":{\"value\":0.1},\"fill_color\":{\"value\":\"#1f77b4\"},\"line_alpha\":{\"value\":0.1},\"line_color\":{\"value\":\"#1f77b4\"},\"x\":{\"field\":\"x\"},\"y\":{\"field\":\"y\"}},\"id\":\"045a9a2c-79e5-4a73-b1b3-c6ee86af57a7\",\"type\":\"Square\"},{\"attributes\":{},\"id\":\"4442937c-d443-4fe9-b7ef-7bb1fae555c5\",\"type\":\"Selection\"},{\"attributes\":{\"line_alpha\":0.1,\"line_color\":\"#1f77b4\",\"line_width\":3,\"x\":{\"field\":\"x\"},\"y\":{\"field\":\"y\"}},\"id\":\"ce94cb82-6d26-4ad7-aa4e-4dd2f906d4ae\",\"type\":\"Line\"},{\"attributes\":{\"tools\":[{\"id\":\"9971d1c8-2d5f-49cb-b5e0-2d548f8523da\",\"type\":\"PanTool\"},{\"id\":\"d5c4d617-0767-4d58-831b-9b0a7f283bfe\",\"type\":\"WheelZoomTool\"},{\"id\":\"801252ea-e56a-430f-a142-2e3edc22c3d8\",\"type\":\"BoxZoomTool\"},{\"id\":\"9f855d23-26d5-4a22-893e-2ca2b11b1e21\",\"type\":\"SaveTool\"},{\"id\":\"296d6cc1-90ce-4de3-8142-6320609d2a05\",\"type\":\"ResetTool\"},{\"id\":\"5cf39aef-744d-433c-ba85-4ec89553bc89\",\"type\":\"HelpTool\"},{\"id\":\"99126f5b-8ac7-43e1-8dcd-3ffd778a623d\",\"type\":\"PanTool\"},{\"id\":\"4b99cade-73b7-4cfc-bf31-40b1ae4eb719\",\"type\":\"WheelZoomTool\"},{\"id\":\"0ebabf55-2fee-4f44-bcdc-9551db51341e\",\"type\":\"BoxZoomTool\"},{\"id\":\"f0a9e62c-3667-4044-8288-8764fcaa1074\",\"type\":\"SaveTool\"},{\"id\":\"1805c913-9db0-4901-81f2-8d9f3df2210c\",\"type\":\"ResetTool\"},{\"id\":\"62dc29cc-e0b4-4b00-bc79-79a7b7680b28\",\"type\":\"HelpTool\"}]},\"id\":\"c506c3ff-1ec9-4159-94d6-fe89ddf6b621\",\"type\":\"ProxyToolbar\"},{\"attributes\":{},\"id\":\"2a49bbed-a245-4056-a553-06b8284c0bf0\",\"type\":\"Selection\"},{\"attributes\":{\"callback\":null,\"data\":{\"x\":{\"__ndarray__\":\"7hVka4BJtz8RylbyDPXCv/KbHQR4Zrq/8qqA2xDstL8CBbFIIJmzv3X7cofJq7O/A1b6SMv6sr+ivH3AfUmwv0Ed0H4W3qa/YHfv5ZQ5k7+wuP3HSS6JPzOq+v+yJ6g/xF8wCy+5tj8PGNrvP+i+P1nxVxLqM8A/h1OkykmLvj8/ruwG+tm7P+bn/bSOgLg/D2M/fHqbtT9qX0igJFG1PyYBSVzwN70/T2kvaEIPuj/9tBfyhDWrP7y9QwjKmKE/k/R6QVWWmj9yXzRPof+RP+vG+aug2oI/IwxhB17Faz+sy/ztaq5VP3d1hiLPgFI/hbrA1PPPUz8jUt22pkhGP+BT23soOTY/+kx326/MOD99EGXTweYiP5jdWAw6beW+RT8MiIB54j65OWx3QT0hvyIOdZmlsTS/Hb2tRa0yO7/1jeVxrU1Bv6mjxUAknkW/uO8jvAuxSr9LL7mrQRpRvzfo40Lrhlm/rB9mqVhgX7/bDNtKewBcv63KrW3rXle/1O6LF4gvVb8b2daNPnhSv1/LMf7Z7Uy/VIj9/JYWQr/ziynvOX8kv0feenXBSjI/cEVO4NqzSD/copHtyhdVP/EJ/NFOTl8/4fjfo+WUZT9fwOOElihsP+HkXwwjhHE/aN4tbZHkdD/7tK+gThB4P+6S4QXE9Xo/voDhy/KkfT9U5Qs7hCGAP5sgCijEg4E/Jf7gODsdgz/TlmNHHfyEPzm3kugosYY/U2dxoyEThz+CCfoQ9huFP9H+7roKa4E/RJICT8bmej/TJ8JZlJFzP7GDRsgymGU/\",\"dtype\":\"float64\",\"shape\":[75]},\"y\":{\"__ndarray__\":\"GhExyth1ND/Sv8nbtpRIP2vylNV0PVE/aTum7souWD/At0SJ8fVgPw3Iuahxymc/MSNhhJWvcD/bTfBN02d3P2zb5nxnaoA/CD5h5MAGhz8NmeH1TyaQP+zrCsc9p5Y/LbKd76fGnz/bLW5ISEmmPww9YvTcQq8/JV2OstnstT8Er5Y7M8G+P0c+r3jqkcU/5h99k6ZBzj88bCIzFzjVP4enV8oyxN0//yH99nXg5D8qOpLLf0jtP5kqGJXUifQ/c9cS8kHP/D+/DpwzojQEQIEmwoanVwxA4lgXt9HgE0BSSZ2AJuIbQAMJih9jjiNA5q4l5INuK0AwTKYKRj0zQNv5fmq8/DpAaCJseHrtQkB/+zpwzoxKQM3MzMzMeFJAZmZmZmZqWEAAAAAAAFxeQM3MzMzMJmJAmpmZmZkfZUBmZmZmZhhoQDMzMzMzEWtAAAAAAAAKbkBmZmZmZoFwQM3MzMzM/XFAMzMzMzN6c0CamZmZmfZ0QAAAAAAAc3ZAZmZmZmbvd0DNzMzMzGt5QDMzMzMz6HpAmpmZmZlkfEAAAAAAAOF9QGZmZmZmXX9AZmZmZuZsgECamZmZGSuBQM3MzMxM6YFAAAAAAICngkAzMzMzs2WDQGZmZmbmI4RAmpmZmRnihEDNzMzMTKCFQAAAAACAXoZAMzMzM7Mch0BmZmZm5tqHQJqZmZkZmYhAzczMzExXiUAAAAAAgBWKQDMzMzOz04pAZmZmZuaRi0CamZmZGVCMQM3MzMxMDo1AAAAAAIDMjUAzMzMzs4qOQGZmZmbmSI9A\",\"dtype\":\"float64\",\"shape\":[75]}},\"selected\":{\"id\":\"4442937c-d443-4fe9-b7ef-7bb1fae555c5\",\"type\":\"Selection\"},\"selection_policy\":{\"id\":\"701f5391-86e3-4561-8222-6c106f7e064a\",\"type\":\"UnionRenderers\"}},\"id\":\"95550e7d-3b8b-4420-b902-a1579ecb72e8\",\"type\":\"ColumnDataSource\"},{\"attributes\":{\"fill_alpha\":{\"value\":0.7},\"fill_color\":{\"value\":\"#4daf4a\"},\"line_alpha\":{\"value\":0.7},\"line_color\":{\"value\":\"#4daf4a\"},\"x\":{\"field\":\"x\"},\"y\":{\"field\":\"y\"}},\"id\":\"11e292c5-bcf4-4363-91d6-c21313abadcf\",\"type\":\"Circle\"},{\"attributes\":{\"line_alpha\":0.6,\"line_color\":\"#984ea3\",\"line_width\":3,\"x\":{\"field\":\"x\"},\"y\":{\"field\":\"y\"}},\"id\":\"b7d8a713-4b2c-486d-9146-ef9c78ca7d60\",\"type\":\"Line\"},{\"attributes\":{\"data_source\":{\"id\":\"16b3c006-a3ba-4a4f-bd1f-7a36647bdee0\",\"type\":\"ColumnDataSource\"},\"glyph\":{\"id\":\"380559d7-0219-4ba4-833d-db71cd2600e6\",\"type\":\"Line\"},\"hover_glyph\":null,\"muted_glyph\":null,\"nonselection_glyph\":{\"id\":\"ac3450a3-de29-4c45-a4d2-e049df120fd1\",\"type\":\"Line\"},\"selection_glyph\":null,\"view\":{\"id\":\"0da817c5-435e-4585-b9ac-1d25cb6d08db\",\"type\":\"CDSView\"}},\"id\":\"b19d716f-095b-4734-9c76-c8ff75b39220\",\"type\":\"GlyphRenderer\"},{\"attributes\":{\"callback\":null,\"data\":{\"x\":{\"__ndarray__\":\"3RWw0/49tD97IGi7+BHCv2+0RrGatrm/2C1O8cKatL/IB/EMEAi0v6sBRYrT2bS/7rRqFOjMtL/f5YIwQG2yv5IOFhvhV6u/ISfp7RFim78QMq0qC0h2P6S5TWzJoKU/EjzhzH8ttj+Sy1461lq/P7wfXKbLB8E/4v8S4fRowD/hur3/6sy9PxTTvwOHQLk/iA3Kv4zltD+LvOnsHZuzPyJFruXfeLs/amWpklTouD+9rpSi63uqP7djO/brAqI/EAPm7GBunD9VbX6Ww/uTPxyzt1eQrYU/iRTc7rKWaz8XKFMhxS88P2yAjuqGukc/w3j6vgAGVz+83A1ZIZNNPybVGyQIGjw/BThA4R3AND8mMKIq2Sv0PrYA265Ugha/oyT+Nq4tB78VpSrMB7Qnv/Hd+Ccw1Te/PKzS/PctPr9IHJSDTrNCvwu8lBUIAke/8LNzq9n9S78FTB+EQKpRv4urTYmL71m/dBRp4By1X78/o7UpLGZcvzdTJtdCAFi/qPGDmcz2Vb8PNN7X+oJTv4q6zU+yiE6/N1Bs/klHQ7/W4+4OUc4lv/GPOR+cxTA/8xSE4I5kRj+/NfWXpA1TP4cVqjc831w/bgx5PJiRZD8SY/7yjnFrP7H3jIs9kHE/JG4FvQ0rdT+3so6rlMx4PzTMSRou+ns/0saSNCbdfj8lyh4lVs2AP/3scS4fM4I/pNlRYK66gz8+MxS52JuFPyCynBJ9L4c/mM3m6CZuhz/jdz0S20+FP5+gM7qadIE/nTPEniaNej8KKaGujApzP2W4RU5b8mM/\",\"dtype\":\"float64\",\"shape\":[75]},\"y\":{\"__ndarray__\":\"S/O/Q+51ND/Sv8nbtpRIP2vylNV0PVE/aTum7souWD/At0SJ8fVgPw3Iuahxymc/MSNhhJWvcD/bTfBN02d3P2zb5nxnaoA/CD5h5MAGhz8NmeH1TyaQP+zrCsc9p5Y/LbKd76fGnz/bLW5ISEmmPww9YvTcQq8/JV2OstnstT8Er5Y7M8G+P0c+r3jqkcU/5h99k6ZBzj88bCIzFzjVP4enV8oyxN0//yH99nXg5D8qOpLLf0jtP5kqGJXUifQ/c9cS8kHP/D+/DpwzojQEQIEmwoanVwxA4lgXt9HgE0BSSZ2AJuIbQAMJih9jjiNA5q4l5INuK0AwTKYKRj0zQNv5fmq8/DpAaCJseHrtQkB/+zpwzoxKQM3MzMzMeFJAZmZmZmZqWEAAAAAAAFxeQM3MzMzMJmJAmpmZmZkfZUBmZmZmZhhoQDMzMzMzEWtAAAAAAAAKbkBmZmZmZoFwQM3MzMzM/XFAMzMzMzN6c0CamZmZmfZ0QAAAAAAAc3ZAZmZmZmbvd0DNzMzMzGt5QDMzMzMz6HpAmpmZmZlkfEAAAAAAAOF9QGZmZmZmXX9AZmZmZuZsgECamZmZGSuBQM3MzMxM6YFAAAAAAICngkAzMzMzs2WDQGZmZmbmI4RAmpmZmRnihEDNzMzMTKCFQAAAAACAXoZAMzMzM7Mch0BmZmZm5tqHQJqZmZkZmYhAzczMzExXiUAAAAAAgBWKQDMzMzOz04pAZmZmZuaRi0CamZmZGVCMQM3MzMxMDo1AAAAAAIDMjUAzMzMzs4qOQGZmZmbmSI9A\",\"dtype\":\"float64\",\"shape\":[75]}},\"selected\":{\"id\":\"4813cf79-924e-4864-a2f0-b431acf890a3\",\"type\":\"Selection\"},\"selection_policy\":{\"id\":\"fc4fb547-6134-4b94-ac3a-051a7bfb05b4\",\"type\":\"UnionRenderers\"}},\"id\":\"16b3c006-a3ba-4a4f-bd1f-7a36647bdee0\",\"type\":\"ColumnDataSource\"},{\"attributes\":{\"source\":{\"id\":\"16b3c006-a3ba-4a4f-bd1f-7a36647bdee0\",\"type\":\"ColumnDataSource\"}},\"id\":\"0da817c5-435e-4585-b9ac-1d25cb6d08db\",\"type\":\"CDSView\"},{\"attributes\":{\"data_source\":{\"id\":\"416c4db1-3ac8-4a89-8045-372611b32955\",\"type\":\"ColumnDataSource\"},\"glyph\":{\"id\":\"1576ebb7-eb4e-4ade-a30c-932b53e70d27\",\"type\":\"Square\"},\"hover_glyph\":null,\"muted_glyph\":null,\"nonselection_glyph\":{\"id\":\"7a02dbed-1a68-4070-8869-eeeb2aadbcf3\",\"type\":\"Square\"},\"selection_glyph\":null,\"view\":{\"id\":\"589c0390-9ef8-45df-a7b8-b5c63b05ca47\",\"type\":\"CDSView\"}},\"id\":\"a1a3813c-4c4e-4a4c-bf6a-9645b4152bff\",\"type\":\"GlyphRenderer\"},{\"attributes\":{\"active_drag\":\"auto\",\"active_inspect\":\"auto\",\"active_scroll\":\"auto\",\"active_tap\":\"auto\",\"tools\":[{\"id\":\"99126f5b-8ac7-43e1-8dcd-3ffd778a623d\",\"type\":\"PanTool\"},{\"id\":\"4b99cade-73b7-4cfc-bf31-40b1ae4eb719\",\"type\":\"WheelZoomTool\"},{\"id\":\"0ebabf55-2fee-4f44-bcdc-9551db51341e\",\"type\":\"BoxZoomTool\"},{\"id\":\"f0a9e62c-3667-4044-8288-8764fcaa1074\",\"type\":\"SaveTool\"},{\"id\":\"1805c913-9db0-4901-81f2-8d9f3df2210c\",\"type\":\"ResetTool\"},{\"id\":\"62dc29cc-e0b4-4b00-bc79-79a7b7680b28\",\"type\":\"HelpTool\"}]},\"id\":\"7f5ac641-8156-449f-a3aa-03fff7939b7e\",\"type\":\"Toolbar\"},{\"attributes\":{\"callback\":null,\"data\":{\"x\":{\"__ndarray__\":\"7hVka4BJtz8RylbyDPXCv/KbHQR4Zrq/8qqA2xDstL8CBbFIIJmzv3X7cofJq7O/A1b6SMv6sr+ivH3AfUmwv0Ed0H4W3qa/YHfv5ZQ5k7+wuP3HSS6JPzOq+v+yJ6g/xF8wCy+5tj8PGNrvP+i+P1nxVxLqM8A/h1OkykmLvj8/ruwG+tm7P+bn/bSOgLg/D2M/fHqbtT9qX0igJFG1PyYBSVzwN70/T2kvaEIPuj/9tBfyhDWrP7y9QwjKmKE/k/R6QVWWmj9yXzRPof+RP+vG+aug2oI/IwxhB17Faz+sy/ztaq5VP3d1hiLPgFI/hbrA1PPPUz8jUt22pkhGP+BT23soOTY/+kx326/MOD99EGXTweYiP5jdWAw6beW+RT8MiIB54j65OWx3QT0hvyIOdZmlsTS/Hb2tRa0yO7/1jeVxrU1Bv6mjxUAknkW/uO8jvAuxSr9LL7mrQRpRvzfo40Lrhlm/rB9mqVhgX7/bDNtKewBcv63KrW3rXle/1O6LF4gvVb8b2daNPnhSv1/LMf7Z7Uy/VIj9/JYWQr/ziynvOX8kv0feenXBSjI/cEVO4NqzSD/copHtyhdVP/EJ/NFOTl8/4fjfo+WUZT9fwOOElihsP+HkXwwjhHE/aN4tbZHkdD/7tK+gThB4P+6S4QXE9Xo/voDhy/KkfT9U5Qs7hCGAP5sgCijEg4E/Jf7gODsdgz/TlmNHHfyEPzm3kugosYY/U2dxoyEThz+CCfoQ9huFP9H+7roKa4E/RJICT8bmej/TJ8JZlJFzP7GDRsgymGU/\",\"dtype\":\"float64\",\"shape\":[75]},\"y\":{\"__ndarray__\":\"GhExyth1ND/Sv8nbtpRIP2vylNV0PVE/aTum7souWD/At0SJ8fVgPw3Iuahxymc/MSNhhJWvcD/bTfBN02d3P2zb5nxnaoA/CD5h5MAGhz8NmeH1TyaQP+zrCsc9p5Y/LbKd76fGnz/bLW5ISEmmPww9YvTcQq8/JV2OstnstT8Er5Y7M8G+P0c+r3jqkcU/5h99k6ZBzj88bCIzFzjVP4enV8oyxN0//yH99nXg5D8qOpLLf0jtP5kqGJXUifQ/c9cS8kHP/D+/DpwzojQEQIEmwoanVwxA4lgXt9HgE0BSSZ2AJuIbQAMJih9jjiNA5q4l5INuK0AwTKYKRj0zQNv5fmq8/DpAaCJseHrtQkB/+zpwzoxKQM3MzMzMeFJAZmZmZmZqWEAAAAAAAFxeQM3MzMzMJmJAmpmZmZkfZUBmZmZmZhhoQDMzMzMzEWtAAAAAAAAKbkBmZmZmZoFwQM3MzMzM/XFAMzMzMzN6c0CamZmZmfZ0QAAAAAAAc3ZAZmZmZmbvd0DNzMzMzGt5QDMzMzMz6HpAmpmZmZlkfEAAAAAAAOF9QGZmZmZmXX9AZmZmZuZsgECamZmZGSuBQM3MzMxM6YFAAAAAAICngkAzMzMzs2WDQGZmZmbmI4RAmpmZmRnihEDNzMzMTKCFQAAAAACAXoZAMzMzM7Mch0BmZmZm5tqHQJqZmZkZmYhAzczMzExXiUAAAAAAgBWKQDMzMzOz04pAZmZmZuaRi0CamZmZGVCMQM3MzMxMDo1AAAAAAIDMjUAzMzMzs4qOQGZmZmbmSI9A\",\"dtype\":\"float64\",\"shape\":[75]}},\"selected\":{\"id\":\"5c240db7-bc04-45c8-bd5c-c46ede824820\",\"type\":\"Selection\"},\"selection_policy\":{\"id\":\"33a92abe-df1f-4cc9-88ee-9e12e3d8a135\",\"type\":\"UnionRenderers\"}},\"id\":\"cb1a699e-f377-4167-8f1c-73215074742f\",\"type\":\"ColumnDataSource\"},{\"attributes\":{\"source\":{\"id\":\"f91b4cab-a219-417d-8838-c8f13328b4d2\",\"type\":\"ColumnDataSource\"}},\"id\":\"b481781b-7718-4054-b74e-492be02bba05\",\"type\":\"CDSView\"},{\"attributes\":{\"line_alpha\":0.1,\"line_color\":\"#1f77b4\",\"line_dash\":[6],\"line_width\":5,\"x\":{\"field\":\"x\"},\"y\":{\"field\":\"y\"}},\"id\":\"57574bae-94a0-4b96-ab81-d51ade4d8e0e\",\"type\":\"Line\"},{\"attributes\":{},\"id\":\"d5c4d617-0767-4d58-831b-9b0a7f283bfe\",\"type\":\"WheelZoomTool\"},{\"attributes\":{},\"id\":\"5cf39aef-744d-433c-ba85-4ec89553bc89\",\"type\":\"HelpTool\"},{\"attributes\":{},\"id\":\"9f855d23-26d5-4a22-893e-2ca2b11b1e21\",\"type\":\"SaveTool\"},{\"attributes\":{\"overlay\":{\"id\":\"5845ddf0-2e15-4dd7-827b-f25e29694c78\",\"type\":\"BoxAnnotation\"}},\"id\":\"801252ea-e56a-430f-a142-2e3edc22c3d8\",\"type\":\"BoxZoomTool\"},{\"attributes\":{},\"id\":\"296d6cc1-90ce-4de3-8142-6320609d2a05\",\"type\":\"ResetTool\"},{\"attributes\":{\"plot\":null,\"text\":\"Linear pressure scale\"},\"id\":\"aa526851-a4d9-4ce3-ab7f-7c4dc9fb7420\",\"type\":\"Title\"},{\"attributes\":{},\"id\":\"20944b1d-eedf-4d26-a4af-a64dcb320545\",\"type\":\"LinearScale\"},{\"attributes\":{\"active_drag\":\"auto\",\"active_inspect\":\"auto\",\"active_scroll\":\"auto\",\"active_tap\":\"auto\",\"tools\":[{\"id\":\"9971d1c8-2d5f-49cb-b5e0-2d548f8523da\",\"type\":\"PanTool\"},{\"id\":\"d5c4d617-0767-4d58-831b-9b0a7f283bfe\",\"type\":\"WheelZoomTool\"},{\"id\":\"801252ea-e56a-430f-a142-2e3edc22c3d8\",\"type\":\"BoxZoomTool\"},{\"id\":\"9f855d23-26d5-4a22-893e-2ca2b11b1e21\",\"type\":\"SaveTool\"},{\"id\":\"296d6cc1-90ce-4de3-8142-6320609d2a05\",\"type\":\"ResetTool\"},{\"id\":\"5cf39aef-744d-433c-ba85-4ec89553bc89\",\"type\":\"HelpTool\"}]},\"id\":\"9edf5356-1e68-40e6-870b-eb38909a1024\",\"type\":\"Toolbar\"},{\"attributes\":{\"callback\":null,\"end\":0.011574325374999998,\"start\":-0.002069028875},\"id\":\"e571993f-adab-4bb0-bb60-a5e735b19d6e\",\"type\":\"Range1d\"},{\"attributes\":{\"below\":[{\"id\":\"43f15702-2f87-4885-96e8-e3c430ade7b5\",\"type\":\"LinearAxis\"}],\"left\":[{\"id\":\"06d709a3-029f-48c8-9e6e-b6036852585a\",\"type\":\"LinearAxis\"}],\"plot_height\":500,\"plot_width\":400,\"renderers\":[{\"id\":\"43f15702-2f87-4885-96e8-e3c430ade7b5\",\"type\":\"LinearAxis\"},{\"id\":\"57c36dc2-9bd2-476a-8f3d-8f9b061e6f6f\",\"type\":\"Grid\"},{\"id\":\"06d709a3-029f-48c8-9e6e-b6036852585a\",\"type\":\"LinearAxis\"},{\"id\":\"b89a3279-3fd7-482c-9d42-a035fa26c311\",\"type\":\"Grid\"},{\"id\":\"5845ddf0-2e15-4dd7-827b-f25e29694c78\",\"type\":\"BoxAnnotation\"},{\"id\":\"3429be72-85df-4bc6-a01a-3ae54210c916\",\"type\":\"GlyphRenderer\"},{\"id\":\"138a1295-7395-4aba-b1e9-5ee3d4b59625\",\"type\":\"GlyphRenderer\"},{\"id\":\"724fdcff-06e7-4e82-a547-19d0c2369434\",\"type\":\"GlyphRenderer\"},{\"id\":\"f9749af3-65d3-4ac7-8f86-1e606ba9f416\",\"type\":\"GlyphRenderer\"},{\"id\":\"ecfd0f1c-faa6-4d43-8904-4e0315f00e4d\",\"type\":\"GlyphRenderer\"}],\"title\":{\"id\":\"aa526851-a4d9-4ce3-ab7f-7c4dc9fb7420\",\"type\":\"Title\"},\"toolbar\":{\"id\":\"9edf5356-1e68-40e6-870b-eb38909a1024\",\"type\":\"Toolbar\"},\"toolbar_location\":null,\"x_range\":{\"id\":\"e571993f-adab-4bb0-bb60-a5e735b19d6e\",\"type\":\"Range1d\"},\"x_scale\":{\"id\":\"20944b1d-eedf-4d26-a4af-a64dcb320545\",\"type\":\"LinearScale\"},\"y_range\":{\"id\":\"a92ed004-92d4-4c20-ab67-46d7350f9357\",\"type\":\"Range1d\"},\"y_scale\":{\"id\":\"e4c94612-d559-4e1d-a826-819f7733feb8\",\"type\":\"LinearScale\"}},\"id\":\"64b068ca-a215-4ca0-adda-219daa0d9ec7\",\"subtype\":\"Figure\",\"type\":\"Plot\"},{\"attributes\":{\"callback\":null,\"data\":{\"x\":{\"__ndarray__\":\"8ZC0o0kFVL/ofMIjOwDEv8tlBp4587y/SOXzeMRit7+qwA1UbQezvxNV9Xstq62/8s4q/rIlpb8DQXHh7wCZv81DqhCdyn+/QZebsanogD9K48nO2CCYP/COpXKHC6Q/eJ+wsiAOrz/7dt0eLoCzP7bBVvcyy7I/j2kSYWiasT++xx9gOwWyP0Uv05GERrM/mfJofaZrtT+egBTfyj65P8TSn4GBNcE/RqATpTEYvz8oGTZT7CuwPzS8xh8mkJ8/+4hiaRU6kT9hTRPls32CP1sZNsVBFHA/gxD/XjkjWz8gV6TyyDlXP7REYXJHoVM/81HArfdCRD8NYRqSwH8cv3YbC0ZM7DC/H/9jOHqeCD/T5uVnZ38hP01ftPBB+yQ/a22wZI0JKD+Qg3XyEggGP8Zd/+gF7SK/GOc1l5fTML/PQeiLzfI3v35sn0nzqz+/B/X7pjppRL+hzSxCfoNLv0u800tyWlW/qc8f5AaNWr82crWDBT9XvyH/QlPaSVK/3fOMih/jTr/2UxOdColIv3QN0Anjn0C/g1sG76vnKr8j9ShWJh0mP/bi7eWBZEQ/5ErIRur9Uj8DYpdCjg9dP3ewMS/IHWQ/SCYk9UUSaj8hpEIL/RJwPzQGHJAkC3M/lOX7FI3WdT9dx/TXtmd4P7pgAAufwHo/DHFquCj5fD/Wo1VWHzt/P3L8wHRi34A/h78GghBpgj/Tdp4Am0+EP5oVH9k7J4Y/cbusli/Ahj99WmaNUQmFP7QgUbZ6poE/DRG2Jn0kfD8Rlxrk4KB1P+75qxELxmo/\",\"dtype\":\"float64\",\"shape\":[75]},\"y\":{\"__ndarray__\":\"GhExyth1ND/Sv8nbtpRIP2vylNV0PVE/aTum7souWD/At0SJ8fVgPw3Iuahxymc/MSNhhJWvcD/bTfBN02d3P2zb5nxnaoA/CD5h5MAGhz8NmeH1TyaQP+zrCsc9p5Y/LbKd76fGnz/bLW5ISEmmPww9YvTcQq8/JV2OstnstT8Er5Y7M8G+P0c+r3jqkcU/5h99k6ZBzj88bCIzFzjVP4enV8oyxN0//yH99nXg5D8qOpLLf0jtP5kqGJXUifQ/c9cS8kHP/D+/DpwzojQEQIEmwoanVwxA4lgXt9HgE0BSSZ2AJuIbQAMJih9jjiNA5q4l5INuK0AwTKYKRj0zQNv5fmq8/DpAaCJseHrtQkB/+zpwzoxKQM3MzMzMeFJAZmZmZmZqWEAAAAAAAFxeQM3MzMzMJmJAmpmZmZkfZUBmZmZmZhhoQDMzMzMzEWtAAAAAAAAKbkBmZmZmZoFwQM3MzMzM/XFAMzMzMzN6c0CamZmZmfZ0QAAAAAAAc3ZAZmZmZmbvd0DNzMzMzGt5QDMzMzMz6HpAmpmZmZlkfEAAAAAAAOF9QGZmZmZmXX9AZmZmZuZsgECamZmZGSuBQM3MzMxM6YFAAAAAAICngkAzMzMzs2WDQGZmZmbmI4RAmpmZmRnihEDNzMzMTKCFQAAAAACAXoZAMzMzM7Mch0BmZmZm5tqHQJqZmZkZmYhAzczMzExXiUAAAAAAgBWKQDMzMzOz04pAZmZmZuaRi0CamZmZGVCMQM3MzMxMDo1AAAAAAIDMjUAzMzMzs4qOQGZmZmbmSI9A\",\"dtype\":\"float64\",\"shape\":[75]}},\"selected\":{\"id\":\"e8a9113c-f2ed-434c-8741-c52d87d9e522\",\"type\":\"Selection\"},\"selection_policy\":{\"id\":\"ff6a9cfb-daa9-4097-a770-0d8facc39faa\",\"type\":\"UnionRenderers\"}},\"id\":\"6b6ab0fc-f762-4181-9fb2-2f6460aee35f\",\"type\":\"ColumnDataSource\"},{\"attributes\":{\"source\":{\"id\":\"5807872a-70dc-454b-ab9c-7c524f4bab13\",\"type\":\"ColumnDataSource\"}},\"id\":\"25eab95c-7c25-42f8-8417-cb87a39a5491\",\"type\":\"CDSView\"},{\"attributes\":{\"data_source\":{\"id\":\"5807872a-70dc-454b-ab9c-7c524f4bab13\",\"type\":\"ColumnDataSource\"},\"glyph\":{\"id\":\"8ca25847-6919-4f64-8276-b08242991b99\",\"type\":\"Line\"},\"hover_glyph\":null,\"muted_glyph\":null,\"nonselection_glyph\":{\"id\":\"57574bae-94a0-4b96-ab81-d51ade4d8e0e\",\"type\":\"Line\"},\"selection_glyph\":null,\"view\":{\"id\":\"25eab95c-7c25-42f8-8417-cb87a39a5491\",\"type\":\"CDSView\"}},\"id\":\"3429be72-85df-4bc6-a01a-3ae54210c916\",\"type\":\"GlyphRenderer\"},{\"attributes\":{\"axis_label\":\"pressure [mb]\",\"formatter\":{\"id\":\"7f3e2483-559c-4259-b6b4-cf1a62b32776\",\"type\":\"BasicTickFormatter\"},\"plot\":{\"id\":\"64b068ca-a215-4ca0-adda-219daa0d9ec7\",\"subtype\":\"Figure\",\"type\":\"Plot\"},\"ticker\":{\"id\":\"1311d2e9-d521-4d87-9940-9bede0f1bd5d\",\"type\":\"BasicTicker\"}},\"id\":\"06d709a3-029f-48c8-9e6e-b6036852585a\",\"type\":\"LinearAxis\"},{\"attributes\":{\"below\":[{\"id\":\"353e10de-5299-490c-b463-7c600bdbc90d\",\"type\":\"LinearAxis\"}],\"left\":[{\"id\":\"e820c17c-2c41-4c25-98bc-c313be8a44b4\",\"type\":\"LogAxis\"}],\"plot_height\":500,\"plot_width\":560,\"renderers\":[{\"id\":\"353e10de-5299-490c-b463-7c600bdbc90d\",\"type\":\"LinearAxis\"},{\"id\":\"597b682b-62e1-408b-8cfa-0193970cc48c\",\"type\":\"Grid\"},{\"id\":\"e820c17c-2c41-4c25-98bc-c313be8a44b4\",\"type\":\"LogAxis\"},{\"id\":\"7afa37c2-68b1-4951-bfa1-dbeef4a06928\",\"type\":\"Grid\"},{\"id\":\"e4602314-270b-40ac-bfff-ad4023f57474\",\"type\":\"BoxAnnotation\"},{\"id\":\"b19d716f-095b-4734-9c76-c8ff75b39220\",\"type\":\"GlyphRenderer\"},{\"id\":\"0f7db20d-40cd-4d0c-8b6e-4fbf0918d969\",\"type\":\"GlyphRenderer\"},{\"id\":\"d521f74e-08e7-4d27-9ae5-ca209715e084\",\"type\":\"GlyphRenderer\"},{\"id\":\"a1a3813c-4c4e-4a4c-bf6a-9645b4152bff\",\"type\":\"GlyphRenderer\"},{\"id\":\"7bf2e2cd-a03a-41e5-8435-e4ab31d471e4\",\"type\":\"GlyphRenderer\"},{\"id\":\"b7485768-99e3-4a94-898e-c0c9f391ceaf\",\"type\":\"Legend\"}],\"right\":[{\"id\":\"b7485768-99e3-4a94-898e-c0c9f391ceaf\",\"type\":\"Legend\"}],\"title\":{\"id\":\"bc87e9d1-7781-40e9-b2c1-46c6238c6289\",\"type\":\"Title\"},\"toolbar\":{\"id\":\"7f5ac641-8156-449f-a3aa-03fff7939b7e\",\"type\":\"Toolbar\"},\"toolbar_location\":null,\"x_range\":{\"id\":\"d0832f46-1d35-4680-95d8-043b75b181ae\",\"type\":\"Range1d\"},\"x_scale\":{\"id\":\"2f8ed290-2803-430a-ad2f-1ad6502690f5\",\"type\":\"LinearScale\"},\"y_range\":{\"id\":\"08d95341-c664-491f-aa7d-fcee1eefbaf1\",\"type\":\"Range1d\"},\"y_scale\":{\"id\":\"712a157f-fd95-4ad0-a66d-e7e01ae06002\",\"type\":\"LogScale\"}},\"id\":\"404684a7-c671-413d-be81-30e690ff4be4\",\"subtype\":\"Figure\",\"type\":\"Plot\"},{\"attributes\":{\"line_alpha\":0.6,\"line_color\":\"#e41a1c\",\"line_dash\":[6],\"line_width\":5,\"x\":{\"field\":\"x\"},\"y\":{\"field\":\"y\"}},\"id\":\"8ca25847-6919-4f64-8276-b08242991b99\",\"type\":\"Line\"},{\"attributes\":{},\"id\":\"e4c94612-d559-4e1d-a826-819f7733feb8\",\"type\":\"LinearScale\"},{\"attributes\":{\"plot\":{\"id\":\"64b068ca-a215-4ca0-adda-219daa0d9ec7\",\"subtype\":\"Figure\",\"type\":\"Plot\"},\"ticker\":{\"id\":\"bfcaeb1a-a5b3-40be-bce9-078ccdd91189\",\"type\":\"BasicTicker\"}},\"id\":\"57c36dc2-9bd2-476a-8f3d-8f9b061e6f6f\",\"type\":\"Grid\"},{\"attributes\":{\"callback\":null,\"end\":0.01,\"start\":1020},\"id\":\"a92ed004-92d4-4c20-ab67-46d7350f9357\",\"type\":\"Range1d\"},{\"attributes\":{\"dimension\":1,\"plot\":{\"id\":\"64b068ca-a215-4ca0-adda-219daa0d9ec7\",\"subtype\":\"Figure\",\"type\":\"Plot\"},\"ticker\":{\"id\":\"1311d2e9-d521-4d87-9940-9bede0f1bd5d\",\"type\":\"BasicTicker\"}},\"id\":\"b89a3279-3fd7-482c-9d42-a035fa26c311\",\"type\":\"Grid\"},{\"attributes\":{},\"id\":\"1311d2e9-d521-4d87-9940-9bede0f1bd5d\",\"type\":\"BasicTicker\"},{\"attributes\":{},\"id\":\"bfcaeb1a-a5b3-40be-bce9-078ccdd91189\",\"type\":\"BasicTicker\"},{\"attributes\":{\"callback\":null,\"data\":{\"x\":{\"__ndarray__\":\"3RWw0/49tD97IGi7+BHCv2+0RrGatrm/2C1O8cKatL/IB/EMEAi0v6sBRYrT2bS/7rRqFOjMtL/f5YIwQG2yv5IOFhvhV6u/ISfp7RFim78QMq0qC0h2P6S5TWzJoKU/EjzhzH8ttj+Sy1461lq/P7wfXKbLB8E/4v8S4fRowD/hur3/6sy9PxTTvwOHQLk/iA3Kv4zltD+LvOnsHZuzPyJFruXfeLs/amWpklTouD+9rpSi63uqP7djO/brAqI/EAPm7GBunD9VbX6Ww/uTPxyzt1eQrYU/iRTc7rKWaz8XKFMhxS88P2yAjuqGukc/w3j6vgAGVz+83A1ZIZNNPybVGyQIGjw/BThA4R3AND8mMKIq2Sv0PrYA265Ugha/oyT+Nq4tB78VpSrMB7Qnv/Hd+Ccw1Te/PKzS/PctPr9IHJSDTrNCvwu8lBUIAke/8LNzq9n9S78FTB+EQKpRv4urTYmL71m/dBRp4By1X78/o7UpLGZcvzdTJtdCAFi/qPGDmcz2Vb8PNN7X+oJTv4q6zU+yiE6/N1Bs/klHQ7/W4+4OUc4lv/GPOR+cxTA/8xSE4I5kRj+/NfWXpA1TP4cVqjc831w/bgx5PJiRZD8SY/7yjnFrP7H3jIs9kHE/JG4FvQ0rdT+3so6rlMx4PzTMSRou+ns/0saSNCbdfj8lyh4lVs2AP/3scS4fM4I/pNlRYK66gz8+MxS52JuFPyCynBJ9L4c/mM3m6CZuhz/jdz0S20+FP5+gM7qadIE/nTPEniaNej8KKaGujApzP2W4RU5b8mM/\",\"dtype\":\"float64\",\"shape\":[75]},\"y\":{\"__ndarray__\":\"S/O/Q+51ND/Sv8nbtpRIP2vylNV0PVE/aTum7souWD/At0SJ8fVgPw3Iuahxymc/MSNhhJWvcD/bTfBN02d3P2zb5nxnaoA/CD5h5MAGhz8NmeH1TyaQP+zrCsc9p5Y/LbKd76fGnz/bLW5ISEmmPww9YvTcQq8/JV2OstnstT8Er5Y7M8G+P0c+r3jqkcU/5h99k6ZBzj88bCIzFzjVP4enV8oyxN0//yH99nXg5D8qOpLLf0jtP5kqGJXUifQ/c9cS8kHP/D+/DpwzojQEQIEmwoanVwxA4lgXt9HgE0BSSZ2AJuIbQAMJih9jjiNA5q4l5INuK0AwTKYKRj0zQNv5fmq8/DpAaCJseHrtQkB/+zpwzoxKQM3MzMzMeFJAZmZmZmZqWEAAAAAAAFxeQM3MzMzMJmJAmpmZmZkfZUBmZmZmZhhoQDMzMzMzEWtAAAAAAAAKbkBmZmZmZoFwQM3MzMzM/XFAMzMzMzN6c0CamZmZmfZ0QAAAAAAAc3ZAZmZmZmbvd0DNzMzMzGt5QDMzMzMz6HpAmpmZmZlkfEAAAAAAAOF9QGZmZmZmXX9AZmZmZuZsgECamZmZGSuBQM3MzMxM6YFAAAAAAICngkAzMzMzs2WDQGZmZmbmI4RAmpmZmRnihEDNzMzMTKCFQAAAAACAXoZAMzMzM7Mch0BmZmZm5tqHQJqZmZkZmYhAzczMzExXiUAAAAAAgBWKQDMzMzOz04pAZmZmZuaRi0CamZmZGVCMQM3MzMxMDo1AAAAAAIDMjUAzMzMzs4qOQGZmZmbmSI9A\",\"dtype\":\"float64\",\"shape\":[75]}},\"selected\":{\"id\":\"b67813a1-13b1-4e88-b990-5b595327f884\",\"type\":\"Selection\"},\"selection_policy\":{\"id\":\"610c6ce5-0283-4457-b996-938be33caf01\",\"type\":\"UnionRenderers\"}},\"id\":\"5807872a-70dc-454b-ab9c-7c524f4bab13\",\"type\":\"ColumnDataSource\"},{\"attributes\":{\"axis_label\":\"cooling rate [K/day]\",\"formatter\":{\"id\":\"9a4f7d3e-c70c-479d-8a07-54076c3eeed6\",\"type\":\"BasicTickFormatter\"},\"plot\":{\"id\":\"64b068ca-a215-4ca0-adda-219daa0d9ec7\",\"subtype\":\"Figure\",\"type\":\"Plot\"},\"ticker\":{\"id\":\"bfcaeb1a-a5b3-40be-bce9-078ccdd91189\",\"type\":\"BasicTicker\"}},\"id\":\"43f15702-2f87-4885-96e8-e3c430ade7b5\",\"type\":\"LinearAxis\"},{\"attributes\":{\"bottom_units\":\"screen\",\"fill_alpha\":{\"value\":0.5},\"fill_color\":{\"value\":\"lightgrey\"},\"left_units\":\"screen\",\"level\":\"overlay\",\"line_alpha\":{\"value\":1.0},\"line_color\":{\"value\":\"black\"},\"line_dash\":[4,4],\"line_width\":{\"value\":2},\"plot\":null,\"render_mode\":\"css\",\"right_units\":\"screen\",\"top_units\":\"screen\"},\"id\":\"5845ddf0-2e15-4dd7-827b-f25e29694c78\",\"type\":\"BoxAnnotation\"},{\"attributes\":{},\"id\":\"9971d1c8-2d5f-49cb-b5e0-2d548f8523da\",\"type\":\"PanTool\"}],\"root_ids\":[\"43bd4072-87f1-4962-8a3d-729a10619c71\"]},\"title\":\"Bokeh Application\",\"version\":\"0.12.16\"}};\n",
       "  var render_items = [{\"docid\":\"70b1f572-a5f3-402c-83f4-3a7e1f6d0023\",\"elementid\":\"cc0892d5-e37c-4005-a122-5f92badb225c\",\"modelid\":\"43bd4072-87f1-4962-8a3d-729a10619c71\"}];\n",
       "  root.Bokeh.embed.embed_items_notebook(docs_json, render_items);\n",
       "\n",
       "  }\n",
       "  if (root.Bokeh !== undefined) {\n",
       "    embed_document(root);\n",
       "  } else {\n",
       "    var attempts = 0;\n",
       "    var timer = setInterval(function(root) {\n",
       "      if (root.Bokeh !== undefined) {\n",
       "        embed_document(root);\n",
       "        clearInterval(timer);\n",
       "      }\n",
       "      attempts++;\n",
       "      if (attempts > 100) {\n",
       "        console.log(\"Bokeh: ERROR: Unable to run BokehJS code because BokehJS library is missing\")\n",
       "        clearInterval(timer);\n",
       "      }\n",
       "    }, 10, root)\n",
       "  }\n",
       "})(window);"
      ],
      "application/vnd.bokehjs_exec.v0+json": ""
     },
     "metadata": {
      "application/vnd.bokehjs_exec.v0+json": {
       "id": "43bd4072-87f1-4962-8a3d-729a10619c71"
      }
     },
     "output_type": "display_data"
    },
    {
     "name": "stdout",
     "output_type": "stream",
     "text": [
      "FIGURE. Cooling rate profiles.\n"
     ]
    },
    {
     "data": {
      "text/html": [
       "<a id=\"Flux_Comparison\"></a>"
      ],
      "text/plain": [
       "<IPython.core.display.HTML object>"
      ]
     },
     "metadata": {},
     "output_type": "display_data"
    },
    {
     "data": {
      "text/markdown": [
       "# Flux Comparison"
      ],
      "text/plain": [
       "<IPython.core.display.Markdown object>"
      ]
     },
     "metadata": {},
     "output_type": "display_data"
    },
    {
     "data": {
      "text/html": [
       "<div>\n",
       "<style scoped>\n",
       "    .dataframe tbody tr th:only-of-type {\n",
       "        vertical-align: middle;\n",
       "    }\n",
       "\n",
       "    .dataframe tbody tr th {\n",
       "        vertical-align: top;\n",
       "    }\n",
       "\n",
       "    .dataframe thead th {\n",
       "        text-align: right;\n",
       "    }\n",
       "</style>\n",
       "<table border=\"1\" class=\"dataframe\">\n",
       "  <thead>\n",
       "    <tr style=\"text-align: right;\">\n",
       "      <th></th>\n",
       "      <th></th>\n",
       "      <th>flug</th>\n",
       "      <th>fldg</th>\n",
       "      <th>fnetg</th>\n",
       "    </tr>\n",
       "    <tr>\n",
       "      <th>pressure</th>\n",
       "      <th>level</th>\n",
       "      <th></th>\n",
       "      <th></th>\n",
       "      <th></th>\n",
       "    </tr>\n",
       "  </thead>\n",
       "  <tbody>\n",
       "    <tr>\n",
       "      <th>0.0000</th>\n",
       "      <th>1</th>\n",
       "      <td>-1.164942</td>\n",
       "      <td>0.000000</td>\n",
       "      <td>-1.164942</td>\n",
       "    </tr>\n",
       "    <tr>\n",
       "      <th>1.0685</th>\n",
       "      <th>24</th>\n",
       "      <td>-1.161537</td>\n",
       "      <td>0.008072</td>\n",
       "      <td>-1.153465</td>\n",
       "    </tr>\n",
       "    <tr>\n",
       "      <th>1013.0000</th>\n",
       "      <th>76</th>\n",
       "      <td>-1.466909</td>\n",
       "      <td>0.667416</td>\n",
       "      <td>-0.799493</td>\n",
       "    </tr>\n",
       "  </tbody>\n",
       "</table>\n",
       "</div>"
      ],
      "text/plain": [
       "                     flug      fldg     fnetg\n",
       "pressure  level                              \n",
       "0.0000    1     -1.164942  0.000000 -1.164942\n",
       "1.0685    24    -1.161537  0.008072 -1.153465\n",
       "1013.0000 76    -1.466909  0.667416 -0.799493"
      ]
     },
     "metadata": {},
     "output_type": "display_data"
    },
    {
     "name": "stdout",
     "output_type": "stream",
     "text": [
      "Table. Fluxes. CRD\n"
     ]
    },
    {
     "data": {
      "text/html": [
       "<div>\n",
       "<style scoped>\n",
       "    .dataframe tbody tr th:only-of-type {\n",
       "        vertical-align: middle;\n",
       "    }\n",
       "\n",
       "    .dataframe tbody tr th {\n",
       "        vertical-align: top;\n",
       "    }\n",
       "\n",
       "    .dataframe thead th {\n",
       "        text-align: right;\n",
       "    }\n",
       "</style>\n",
       "<table border=\"1\" class=\"dataframe\">\n",
       "  <thead>\n",
       "    <tr style=\"text-align: right;\">\n",
       "      <th></th>\n",
       "      <th></th>\n",
       "      <th>flug</th>\n",
       "      <th>fldg</th>\n",
       "      <th>fnetg</th>\n",
       "    </tr>\n",
       "    <tr>\n",
       "      <th>pressure</th>\n",
       "      <th>level</th>\n",
       "      <th></th>\n",
       "      <th></th>\n",
       "      <th></th>\n",
       "    </tr>\n",
       "  </thead>\n",
       "  <tbody>\n",
       "    <tr>\n",
       "      <th>0.0000</th>\n",
       "      <th>1</th>\n",
       "      <td>-1.146076</td>\n",
       "      <td>0.000000</td>\n",
       "      <td>-1.146076</td>\n",
       "    </tr>\n",
       "    <tr>\n",
       "      <th>1.0685</th>\n",
       "      <th>24</th>\n",
       "      <td>-1.143301</td>\n",
       "      <td>0.007958</td>\n",
       "      <td>-1.135343</td>\n",
       "    </tr>\n",
       "    <tr>\n",
       "      <th>1013.0000</th>\n",
       "      <th>76</th>\n",
       "      <td>-1.466909</td>\n",
       "      <td>0.668794</td>\n",
       "      <td>-0.798115</td>\n",
       "    </tr>\n",
       "  </tbody>\n",
       "</table>\n",
       "</div>"
      ],
      "text/plain": [
       "                     flug      fldg     fnetg\n",
       "pressure  level                              \n",
       "0.0000    1     -1.146076  0.000000 -1.146076\n",
       "1.0685    24    -1.143301  0.007958 -1.135343\n",
       "1013.0000 76    -1.466909  0.668794 -0.798115"
      ]
     },
     "metadata": {},
     "output_type": "display_data"
    },
    {
     "name": "stdout",
     "output_type": "stream",
     "text": [
      "Table. Fluxes. WGT igg=10 wgt_flux=1\n"
     ]
    },
    {
     "data": {
      "text/html": [
       "<div>\n",
       "<style scoped>\n",
       "    .dataframe tbody tr th:only-of-type {\n",
       "        vertical-align: middle;\n",
       "    }\n",
       "\n",
       "    .dataframe tbody tr th {\n",
       "        vertical-align: top;\n",
       "    }\n",
       "\n",
       "    .dataframe thead th {\n",
       "        text-align: right;\n",
       "    }\n",
       "</style>\n",
       "<table border=\"1\" class=\"dataframe\">\n",
       "  <thead>\n",
       "    <tr style=\"text-align: right;\">\n",
       "      <th></th>\n",
       "      <th></th>\n",
       "      <th>flug</th>\n",
       "      <th>fldg</th>\n",
       "      <th>fnetg</th>\n",
       "    </tr>\n",
       "    <tr>\n",
       "      <th>pressure</th>\n",
       "      <th>level</th>\n",
       "      <th></th>\n",
       "      <th></th>\n",
       "      <th></th>\n",
       "    </tr>\n",
       "  </thead>\n",
       "  <tbody>\n",
       "    <tr>\n",
       "      <th>1.000000e-08</th>\n",
       "      <th>1</th>\n",
       "      <td>-1.146152</td>\n",
       "      <td>0.000002</td>\n",
       "      <td>-1.146150</td>\n",
       "    </tr>\n",
       "    <tr>\n",
       "      <th>1.068500e+00</th>\n",
       "      <th>24</th>\n",
       "      <td>-1.143462</td>\n",
       "      <td>0.007721</td>\n",
       "      <td>-1.135741</td>\n",
       "    </tr>\n",
       "    <tr>\n",
       "      <th>1.013000e+03</th>\n",
       "      <th>76</th>\n",
       "      <td>-1.466909</td>\n",
       "      <td>0.671034</td>\n",
       "      <td>-0.795875</td>\n",
       "    </tr>\n",
       "  </tbody>\n",
       "</table>\n",
       "</div>"
      ],
      "text/plain": [
       "                        flug      fldg     fnetg\n",
       "pressure     level                              \n",
       "1.000000e-08 1     -1.146152  0.000002 -1.146150\n",
       "1.068500e+00 24    -1.143462  0.007721 -1.135741\n",
       "1.013000e+03 76    -1.466909  0.671034 -0.795875"
      ]
     },
     "metadata": {},
     "output_type": "display_data"
    },
    {
     "name": "stdout",
     "output_type": "stream",
     "text": [
      "Table. Fluxes. CLIRAD\n"
     ]
    },
    {
     "data": {
      "text/html": [
       "<div>\n",
       "<style scoped>\n",
       "    .dataframe tbody tr th:only-of-type {\n",
       "        vertical-align: middle;\n",
       "    }\n",
       "\n",
       "    .dataframe tbody tr th {\n",
       "        vertical-align: top;\n",
       "    }\n",
       "\n",
       "    .dataframe thead th {\n",
       "        text-align: right;\n",
       "    }\n",
       "</style>\n",
       "<table border=\"1\" class=\"dataframe\">\n",
       "  <thead>\n",
       "    <tr style=\"text-align: right;\">\n",
       "      <th></th>\n",
       "      <th></th>\n",
       "      <th>flug</th>\n",
       "      <th>fldg</th>\n",
       "      <th>fnetg</th>\n",
       "    </tr>\n",
       "    <tr>\n",
       "      <th>pressure</th>\n",
       "      <th>level</th>\n",
       "      <th></th>\n",
       "      <th></th>\n",
       "      <th></th>\n",
       "    </tr>\n",
       "  </thead>\n",
       "  <tbody>\n",
       "    <tr>\n",
       "      <th>0.0000</th>\n",
       "      <th>1</th>\n",
       "      <td>0.018866</td>\n",
       "      <td>0.000000</td>\n",
       "      <td>0.018866</td>\n",
       "    </tr>\n",
       "    <tr>\n",
       "      <th>1.0685</th>\n",
       "      <th>24</th>\n",
       "      <td>0.018236</td>\n",
       "      <td>-0.000114</td>\n",
       "      <td>0.018122</td>\n",
       "    </tr>\n",
       "    <tr>\n",
       "      <th>1013.0000</th>\n",
       "      <th>76</th>\n",
       "      <td>0.000000</td>\n",
       "      <td>0.001377</td>\n",
       "      <td>0.001377</td>\n",
       "    </tr>\n",
       "  </tbody>\n",
       "</table>\n",
       "</div>"
      ],
      "text/plain": [
       "                     flug      fldg     fnetg\n",
       "pressure  level                              \n",
       "0.0000    1      0.018866  0.000000  0.018866\n",
       "1.0685    24     0.018236 -0.000114  0.018122\n",
       "1013.0000 76     0.000000  0.001377  0.001377"
      ]
     },
     "metadata": {},
     "output_type": "display_data"
    },
    {
     "name": "stdout",
     "output_type": "stream",
     "text": [
      "Table. Fluxes. (WGT igg=10 wgt_flux=1) - (CRD)\n"
     ]
    },
    {
     "data": {
      "text/html": [
       "<div>\n",
       "<style scoped>\n",
       "    .dataframe tbody tr th:only-of-type {\n",
       "        vertical-align: middle;\n",
       "    }\n",
       "\n",
       "    .dataframe tbody tr th {\n",
       "        vertical-align: top;\n",
       "    }\n",
       "\n",
       "    .dataframe thead th {\n",
       "        text-align: right;\n",
       "    }\n",
       "</style>\n",
       "<table border=\"1\" class=\"dataframe\">\n",
       "  <thead>\n",
       "    <tr style=\"text-align: right;\">\n",
       "      <th></th>\n",
       "      <th></th>\n",
       "      <th>flug</th>\n",
       "      <th>fldg</th>\n",
       "      <th>fnetg</th>\n",
       "    </tr>\n",
       "    <tr>\n",
       "      <th>pressure</th>\n",
       "      <th>level</th>\n",
       "      <th></th>\n",
       "      <th></th>\n",
       "      <th></th>\n",
       "    </tr>\n",
       "  </thead>\n",
       "  <tbody>\n",
       "    <tr>\n",
       "      <th>0.0000</th>\n",
       "      <th>1</th>\n",
       "      <td>1.878920e-02</td>\n",
       "      <td>0.000002</td>\n",
       "      <td>0.018791</td>\n",
       "    </tr>\n",
       "    <tr>\n",
       "      <th>1.0685</th>\n",
       "      <th>24</th>\n",
       "      <td>1.807490e-02</td>\n",
       "      <td>-0.000352</td>\n",
       "      <td>0.017723</td>\n",
       "    </tr>\n",
       "    <tr>\n",
       "      <th>1013.0000</th>\n",
       "      <th>76</th>\n",
       "      <td>-2.000000e-07</td>\n",
       "      <td>0.003618</td>\n",
       "      <td>0.003618</td>\n",
       "    </tr>\n",
       "  </tbody>\n",
       "</table>\n",
       "</div>"
      ],
      "text/plain": [
       "                         flug      fldg     fnetg\n",
       "pressure  level                                  \n",
       "0.0000    1      1.878920e-02  0.000002  0.018791\n",
       "1.0685    24     1.807490e-02 -0.000352  0.017723\n",
       "1013.0000 76    -2.000000e-07  0.003618  0.003618"
      ]
     },
     "metadata": {},
     "output_type": "display_data"
    },
    {
     "name": "stdout",
     "output_type": "stream",
     "text": [
      "Table. Fluxes. (CLIRAD) - (CRD)\n"
     ]
    },
    {
     "data": {
      "text/html": [
       "<a id=\"Best-fit_Parameters\"></a>"
      ],
      "text/plain": [
       "<IPython.core.display.HTML object>"
      ]
     },
     "metadata": {},
     "output_type": "display_data"
    },
    {
     "data": {
      "text/markdown": [
       "# Best-fit Parameters"
      ],
      "text/plain": [
       "<IPython.core.display.Markdown object>"
      ]
     },
     "metadata": {},
     "output_type": "display_data"
    },
    {
     "name": "stdout",
     "output_type": "stream",
     "text": [
      "Best-fit values for each (gas, band)\n",
      "------------------------------------\n",
      "o h2o band9\n",
      "  atmpro = mls\n",
      "  band = 9\n",
      "  commitnumber = a06b618\n",
      "  conc = None\n",
      "  dv = 0.001\n",
      "  klin = 1e-24\n",
      "  molecule = h2o\n",
      "  ng_adju = [0]\n",
      "  ng_refs = [5]\n",
      "  nv = 1000\n",
      "  option_compute_btable = 0\n",
      "  option_compute_ktable = 1\n",
      "  option_wgt_flux = 1\n",
      "  option_wgt_k = 1\n",
      "  ref_pts = [(500, 250)]\n",
      "  tsfc = 294\n",
      "  vmax = 3000\n",
      "  vmin = 1900\n",
      "  w_diffuse = [(1.66, 1.66, 1.66, 1.66, 1.66)]\n",
      "  wgt = [(0.4, 0.4, 0.5, 0.55, 0.85)]\n",
      "o co2 band9\n",
      "  atmpro = mls\n",
      "  band = 9\n",
      "  commitnumber = a06b618\n",
      "  conc = 0.0004\n",
      "  dv = 0.001\n",
      "  klin = 6.5e-24\n",
      "  molecule = co2\n",
      "  ng_adju = [0, 0]\n",
      "  ng_refs = [3, 3]\n",
      "  nv = 1000\n",
      "  option_compute_btable = 0\n",
      "  option_compute_ktable = 1\n",
      "  option_wgt_flux = 1\n",
      "  option_wgt_k = 1\n",
      "  ref_pts = [(1, 250), (50, 250)]\n",
      "  tsfc = 294\n",
      "  vmax = 3000\n",
      "  vmin = 1900\n",
      "  w_diffuse = [(1.66, 1.66, 1.75), (1.75, 1.6, 1.85)]\n",
      "  wgt = [(0.7, 0.8, 0.7), (0.8, 0.7, 0.8)]\n"
     ]
    }
   ],
   "source": [
    "script()"
   ]
  },
  {
   "cell_type": "code",
   "execution_count": 13,
   "metadata": {
    "collapsed": true
   },
   "outputs": [
    {
     "data": {
      "text/html": [
       "<script>\n",
       "code_show=true; \n",
       "function code_toggle() {\n",
       " if (code_show){\n",
       " $('div.input').hide();\n",
       " } else {\n",
       " $('div.input').show();\n",
       " }\n",
       " code_show = !code_show\n",
       "} \n",
       "$( document ).ready(code_toggle);\n",
       "</script>\n",
       "<form action=\"javascript:code_toggle()\"><input type=\"submit\" value=\"Click here to toggle on/off the raw code.\"></form>"
      ],
      "text/plain": [
       "<IPython.core.display.HTML object>"
      ]
     },
     "execution_count": 13,
     "metadata": {},
     "output_type": "execute_result"
    }
   ],
   "source": [
    "display.HTML('''<script>\n",
    "code_show=true; \n",
    "function code_toggle() {\n",
    " if (code_show){\n",
    " $('div.input').hide();\n",
    " } else {\n",
    " $('div.input').show();\n",
    " }\n",
    " code_show = !code_show\n",
    "} \n",
    "$( document ).ready(code_toggle);\n",
    "</script>\n",
    "<form action=\"javascript:code_toggle()\"><input type=\"submit\" value=\"Click here to toggle on/off the raw code.\"></form>''')"
   ]
  }
 ],
 "metadata": {
  "kernelspec": {
   "display_name": "Python 3",
   "language": "python",
   "name": "python3"
  },
  "language_info": {
   "codemirror_mode": {
    "name": "ipython",
    "version": 3
   },
   "file_extension": ".py",
   "mimetype": "text/x-python",
   "name": "python",
   "nbconvert_exporter": "python",
   "pygments_lexer": "ipython3",
   "version": "3.6.1"
  }
 },
 "nbformat": 4,
 "nbformat_minor": 2
}
