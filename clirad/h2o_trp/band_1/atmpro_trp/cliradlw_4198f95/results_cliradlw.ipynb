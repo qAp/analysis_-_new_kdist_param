{
 "cells": [
  {
   "cell_type": "code",
   "execution_count": 1,
   "metadata": {
    "collapsed": true
   },
   "outputs": [],
   "source": [
    "%matplotlib inline\n",
    "import os\n",
    "import re\n",
    "import io\n",
    "import itertools\n",
    "import pprint\n",
    "\n",
    "from bokeh.io import output_notebook, show\n",
    "from bokeh.layouts import gridplot\n",
    "from bokeh.plotting import figure\n",
    "from bokeh.models import Range1d, Legend\n",
    "from bokeh.palettes import all_palettes\n",
    "\n",
    "import matplotlib\n",
    "import matplotlib.pyplot as plt\n",
    "import numpy as np\n",
    "import pandas as pd\n",
    "import xarray as xr\n",
    "\n",
    "import climatools.lblnew.bestfit_params as bestfits\n",
    "from climatools.lblnew import setup_bestfit, setup_overlap\n",
    "import climatools.lblnew.pipeline as pipe_lblnew\n",
    "import climatools.cliradlw.setup as setup_cliradlw\n",
    "import climatools.cliradlw.pipeline as pipe_cliradlw\n",
    "\n",
    "import climatools.html.html as climahtml\n",
    "from climatools.lblnew.dataio import *\n",
    "from climatools.plot.plot import *\n",
    "\n",
    "\n",
    "import IPython.display as display"
   ]
  },
  {
   "cell_type": "code",
   "execution_count": 2,
   "metadata": {
    "collapsed": true
   },
   "outputs": [],
   "source": [
    "%run param.py"
   ]
  },
  {
   "cell_type": "code",
   "execution_count": 3,
   "metadata": {
    "collapsed": true
   },
   "outputs": [],
   "source": [
    "def load_output_file(path_csv):\n",
    "    '''\n",
    "    Load lblnew output .csv file to xarray.Dataset\n",
    "    \n",
    "    Parameters\n",
    "    ----------\n",
    "    path_csv: str\n",
    "              Path to the .csv file to be loaded.\n",
    "    ds: xarray.Dataset\n",
    "        Data in the input file in the form of an xarray.Dataset.\n",
    "    '''\n",
    "    toindex = ['band', 'pressure', 'igg', 'g']    \n",
    "    df = pd.read_csv(path_csv, sep=r'\\s+')\n",
    "    df = df.set_index([i for i in toindex if i in df.columns])\n",
    "    df = df.rename(columns={'sfu': 'flug',\n",
    "                            'sfd': 'fldg',\n",
    "                            'fnet': 'fnetg',\n",
    "                            'coolr': 'coolrg'})\n",
    "    ds = xr.Dataset.from_dataframe(df)\n",
    "\n",
    "    for l in ('level', 'layer'):\n",
    "        if l in ds.data_vars:\n",
    "            if len(ds[l].dims) > 1:\n",
    "                surface = {d: 0 for d in ds.dims if d != 'pressure'}\n",
    "                coord_level = ds[l][surface]\n",
    "                ds.coords[l] = ('pressure', coord_level)\n",
    "            else:\n",
    "                ds.coords[l] = ('pressure', ds[l])\n",
    "    \n",
    "    return ds"
   ]
  },
  {
   "cell_type": "code",
   "execution_count": 4,
   "metadata": {
    "collapsed": true
   },
   "outputs": [],
   "source": [
    "def lblnew_setup(param=None):\n",
    "    if 'ng_refs' in param:\n",
    "        return {'setup': setup_bestfit,\n",
    "                'fname_flux_crd': 'output_flux.dat',\n",
    "                'fname_cool_crd': 'output_coolr.dat',\n",
    "                'fname_flux_wgt': 'output_wfluxg.dat',\n",
    "                'fname_cool_wgt': 'output_wcoolrg.dat'}\n",
    "    else:\n",
    "        return {'setup': setup_overlap,\n",
    "                'fname_flux_crd': 'output_flux.dat',\n",
    "                'fname_cool_crd': 'output_coolr.dat',\n",
    "                'fname_flux_wgt': 'output_wflux.dat',\n",
    "                'fname_cool_wgt': 'output_wcoolr.dat'}\n",
    "\n",
    "    \n",
    "def load_lblnew_data(param):\n",
    "    \n",
    "    fname_dsname = [('fname_flux_crd', 'ds_flux_crd'),\n",
    "                    ('fname_cool_crd', 'ds_cool_crd'),\n",
    "                    ('fname_flux_wgt', 'ds_flux_wgt'),\n",
    "                    ('fname_cool_wgt', 'ds_cool_wgt')]\n",
    "    \n",
    "    d = lblnew_setup(param)\n",
    "    dir_fortran = pipe_lblnew.get_dir_case(param, setup=d['setup'])\n",
    "    \n",
    "    data_dict = {}\n",
    "    for fname, dsname in fname_dsname:\n",
    "        fpath = os.path.join(dir_fortran, d[fname])\n",
    "        data_dict[dsname] = load_output_file(fpath)\n",
    "    return data_dict\n",
    "    \n",
    "\n",
    "    \n",
    "    "
   ]
  },
  {
   "cell_type": "code",
   "execution_count": 5,
   "metadata": {
    "collapsed": true
   },
   "outputs": [],
   "source": [
    "d = load_lblnew_data(PARAM_LBLNEW)\n",
    "\n",
    "DS_FLUX_CRD = d['ds_flux_crd']\n",
    "DS_COOL_CRD = d['ds_cool_crd']\n",
    "DS_FLUX_WGT = d['ds_flux_wgt']\n",
    "DS_COOL_WGT = d['ds_cool_wgt']"
   ]
  },
  {
   "cell_type": "code",
   "execution_count": 6,
   "metadata": {
    "collapsed": true
   },
   "outputs": [],
   "source": [
    "DIR_FORTRAN = pipe_cliradlw.get_fortran_dir(PARAM, \n",
    "                                            setup=setup_cliradlw)\n",
    "\n",
    "PATH_FLUX = os.path.join(DIR_FORTRAN, 'output_flux.dat')\n",
    "PATH_COOL = os.path.join(DIR_FORTRAN, 'output_coolr.dat')\n",
    "\n",
    "DS_FLUX = load_output_file(PATH_FLUX)\n",
    "DS_COOL = load_output_file(PATH_COOL)"
   ]
  },
  {
   "cell_type": "code",
   "execution_count": 7,
   "metadata": {
    "collapsed": true
   },
   "outputs": [
    {
     "data": {
      "text/html": [
       "\n",
       "    <div class=\"bk-root\">\n",
       "        <a href=\"https://bokeh.pydata.org\" target=\"_blank\" class=\"bk-logo bk-logo-small bk-logo-notebook\"></a>\n",
       "        <span id=\"5d7cc9c7-26e7-4909-bc22-30e48c5debfd\">Loading BokehJS ...</span>\n",
       "    </div>"
      ]
     },
     "metadata": {},
     "output_type": "display_data"
    },
    {
     "data": {
      "application/javascript": [
       "\n",
       "(function(root) {\n",
       "  function now() {\n",
       "    return new Date();\n",
       "  }\n",
       "\n",
       "  var force = true;\n",
       "\n",
       "  if (typeof (root._bokeh_onload_callbacks) === \"undefined\" || force === true) {\n",
       "    root._bokeh_onload_callbacks = [];\n",
       "    root._bokeh_is_loading = undefined;\n",
       "  }\n",
       "\n",
       "  var JS_MIME_TYPE = 'application/javascript';\n",
       "  var HTML_MIME_TYPE = 'text/html';\n",
       "  var EXEC_MIME_TYPE = 'application/vnd.bokehjs_exec.v0+json';\n",
       "  var CLASS_NAME = 'output_bokeh rendered_html';\n",
       "\n",
       "  /**\n",
       "   * Render data to the DOM node\n",
       "   */\n",
       "  function render(props, node) {\n",
       "    var script = document.createElement(\"script\");\n",
       "    node.appendChild(script);\n",
       "  }\n",
       "\n",
       "  /**\n",
       "   * Handle when an output is cleared or removed\n",
       "   */\n",
       "  function handleClearOutput(event, handle) {\n",
       "    var cell = handle.cell;\n",
       "\n",
       "    var id = cell.output_area._bokeh_element_id;\n",
       "    var server_id = cell.output_area._bokeh_server_id;\n",
       "    // Clean up Bokeh references\n",
       "    if (id !== undefined) {\n",
       "      Bokeh.index[id].model.document.clear();\n",
       "      delete Bokeh.index[id];\n",
       "    }\n",
       "\n",
       "    if (server_id !== undefined) {\n",
       "      // Clean up Bokeh references\n",
       "      var cmd = \"from bokeh.io.state import curstate; print(curstate().uuid_to_server['\" + server_id + \"'].get_sessions()[0].document.roots[0]._id)\";\n",
       "      cell.notebook.kernel.execute(cmd, {\n",
       "        iopub: {\n",
       "          output: function(msg) {\n",
       "            var element_id = msg.content.text.trim();\n",
       "            Bokeh.index[element_id].model.document.clear();\n",
       "            delete Bokeh.index[element_id];\n",
       "          }\n",
       "        }\n",
       "      });\n",
       "      // Destroy server and session\n",
       "      var cmd = \"import bokeh.io.notebook as ion; ion.destroy_server('\" + server_id + \"')\";\n",
       "      cell.notebook.kernel.execute(cmd);\n",
       "    }\n",
       "  }\n",
       "\n",
       "  /**\n",
       "   * Handle when a new output is added\n",
       "   */\n",
       "  function handleAddOutput(event, handle) {\n",
       "    var output_area = handle.output_area;\n",
       "    var output = handle.output;\n",
       "\n",
       "    // limit handleAddOutput to display_data with EXEC_MIME_TYPE content only\n",
       "    if ((output.output_type != \"display_data\") || (!output.data.hasOwnProperty(EXEC_MIME_TYPE))) {\n",
       "      return\n",
       "    }\n",
       "\n",
       "    var toinsert = output_area.element.find(\".\" + CLASS_NAME.split(' ')[0]);\n",
       "\n",
       "    if (output.metadata[EXEC_MIME_TYPE][\"id\"] !== undefined) {\n",
       "      toinsert[toinsert.length - 1].firstChild.textContent = output.data[JS_MIME_TYPE];\n",
       "      // store reference to embed id on output_area\n",
       "      output_area._bokeh_element_id = output.metadata[EXEC_MIME_TYPE][\"id\"];\n",
       "    }\n",
       "    if (output.metadata[EXEC_MIME_TYPE][\"server_id\"] !== undefined) {\n",
       "      var bk_div = document.createElement(\"div\");\n",
       "      bk_div.innerHTML = output.data[HTML_MIME_TYPE];\n",
       "      var script_attrs = bk_div.children[0].attributes;\n",
       "      for (var i = 0; i < script_attrs.length; i++) {\n",
       "        toinsert[toinsert.length - 1].firstChild.setAttribute(script_attrs[i].name, script_attrs[i].value);\n",
       "      }\n",
       "      // store reference to server id on output_area\n",
       "      output_area._bokeh_server_id = output.metadata[EXEC_MIME_TYPE][\"server_id\"];\n",
       "    }\n",
       "  }\n",
       "\n",
       "  function register_renderer(events, OutputArea) {\n",
       "\n",
       "    function append_mime(data, metadata, element) {\n",
       "      // create a DOM node to render to\n",
       "      var toinsert = this.create_output_subarea(\n",
       "        metadata,\n",
       "        CLASS_NAME,\n",
       "        EXEC_MIME_TYPE\n",
       "      );\n",
       "      this.keyboard_manager.register_events(toinsert);\n",
       "      // Render to node\n",
       "      var props = {data: data, metadata: metadata[EXEC_MIME_TYPE]};\n",
       "      render(props, toinsert[toinsert.length - 1]);\n",
       "      element.append(toinsert);\n",
       "      return toinsert\n",
       "    }\n",
       "\n",
       "    /* Handle when an output is cleared or removed */\n",
       "    events.on('clear_output.CodeCell', handleClearOutput);\n",
       "    events.on('delete.Cell', handleClearOutput);\n",
       "\n",
       "    /* Handle when a new output is added */\n",
       "    events.on('output_added.OutputArea', handleAddOutput);\n",
       "\n",
       "    /**\n",
       "     * Register the mime type and append_mime function with output_area\n",
       "     */\n",
       "    OutputArea.prototype.register_mime_type(EXEC_MIME_TYPE, append_mime, {\n",
       "      /* Is output safe? */\n",
       "      safe: true,\n",
       "      /* Index of renderer in `output_area.display_order` */\n",
       "      index: 0\n",
       "    });\n",
       "  }\n",
       "\n",
       "  // register the mime type if in Jupyter Notebook environment and previously unregistered\n",
       "  if (root.Jupyter !== undefined) {\n",
       "    var events = require('base/js/events');\n",
       "    var OutputArea = require('notebook/js/outputarea').OutputArea;\n",
       "\n",
       "    if (OutputArea.prototype.mime_types().indexOf(EXEC_MIME_TYPE) == -1) {\n",
       "      register_renderer(events, OutputArea);\n",
       "    }\n",
       "  }\n",
       "\n",
       "  \n",
       "  if (typeof (root._bokeh_timeout) === \"undefined\" || force === true) {\n",
       "    root._bokeh_timeout = Date.now() + 5000;\n",
       "    root._bokeh_failed_load = false;\n",
       "  }\n",
       "\n",
       "  var NB_LOAD_WARNING = {'data': {'text/html':\n",
       "     \"<div style='background-color: #fdd'>\\n\"+\n",
       "     \"<p>\\n\"+\n",
       "     \"BokehJS does not appear to have successfully loaded. If loading BokehJS from CDN, this \\n\"+\n",
       "     \"may be due to a slow or bad network connection. Possible fixes:\\n\"+\n",
       "     \"</p>\\n\"+\n",
       "     \"<ul>\\n\"+\n",
       "     \"<li>re-rerun `output_notebook()` to attempt to load from CDN again, or</li>\\n\"+\n",
       "     \"<li>use INLINE resources instead, as so:</li>\\n\"+\n",
       "     \"</ul>\\n\"+\n",
       "     \"<code>\\n\"+\n",
       "     \"from bokeh.resources import INLINE\\n\"+\n",
       "     \"output_notebook(resources=INLINE)\\n\"+\n",
       "     \"</code>\\n\"+\n",
       "     \"</div>\"}};\n",
       "\n",
       "  function display_loaded() {\n",
       "    var el = document.getElementById(\"5d7cc9c7-26e7-4909-bc22-30e48c5debfd\");\n",
       "    if (el != null) {\n",
       "      el.textContent = \"BokehJS is loading...\";\n",
       "    }\n",
       "    if (root.Bokeh !== undefined) {\n",
       "      if (el != null) {\n",
       "        el.textContent = \"BokehJS \" + root.Bokeh.version + \" successfully loaded.\";\n",
       "      }\n",
       "    } else if (Date.now() < root._bokeh_timeout) {\n",
       "      setTimeout(display_loaded, 100)\n",
       "    }\n",
       "  }\n",
       "\n",
       "\n",
       "  function run_callbacks() {\n",
       "    try {\n",
       "      root._bokeh_onload_callbacks.forEach(function(callback) { callback() });\n",
       "    }\n",
       "    finally {\n",
       "      delete root._bokeh_onload_callbacks\n",
       "    }\n",
       "    console.info(\"Bokeh: all callbacks have finished\");\n",
       "  }\n",
       "\n",
       "  function load_libs(js_urls, callback) {\n",
       "    root._bokeh_onload_callbacks.push(callback);\n",
       "    if (root._bokeh_is_loading > 0) {\n",
       "      console.log(\"Bokeh: BokehJS is being loaded, scheduling callback at\", now());\n",
       "      return null;\n",
       "    }\n",
       "    if (js_urls == null || js_urls.length === 0) {\n",
       "      run_callbacks();\n",
       "      return null;\n",
       "    }\n",
       "    console.log(\"Bokeh: BokehJS not loaded, scheduling load and callback at\", now());\n",
       "    root._bokeh_is_loading = js_urls.length;\n",
       "    for (var i = 0; i < js_urls.length; i++) {\n",
       "      var url = js_urls[i];\n",
       "      var s = document.createElement('script');\n",
       "      s.src = url;\n",
       "      s.async = false;\n",
       "      s.onreadystatechange = s.onload = function() {\n",
       "        root._bokeh_is_loading--;\n",
       "        if (root._bokeh_is_loading === 0) {\n",
       "          console.log(\"Bokeh: all BokehJS libraries loaded\");\n",
       "          run_callbacks()\n",
       "        }\n",
       "      };\n",
       "      s.onerror = function() {\n",
       "        console.warn(\"failed to load library \" + url);\n",
       "      };\n",
       "      console.log(\"Bokeh: injecting script tag for BokehJS library: \", url);\n",
       "      document.getElementsByTagName(\"head\")[0].appendChild(s);\n",
       "    }\n",
       "  };var element = document.getElementById(\"5d7cc9c7-26e7-4909-bc22-30e48c5debfd\");\n",
       "  if (element == null) {\n",
       "    console.log(\"Bokeh: ERROR: autoload.js configured with elementid '5d7cc9c7-26e7-4909-bc22-30e48c5debfd' but no matching script tag was found. \")\n",
       "    return false;\n",
       "  }\n",
       "\n",
       "  var js_urls = [\"https://cdn.pydata.org/bokeh/release/bokeh-0.12.16.min.js\", \"https://cdn.pydata.org/bokeh/release/bokeh-widgets-0.12.16.min.js\", \"https://cdn.pydata.org/bokeh/release/bokeh-tables-0.12.16.min.js\", \"https://cdn.pydata.org/bokeh/release/bokeh-gl-0.12.16.min.js\"];\n",
       "\n",
       "  var inline_js = [\n",
       "    function(Bokeh) {\n",
       "      Bokeh.set_log_level(\"info\");\n",
       "    },\n",
       "    \n",
       "    function(Bokeh) {\n",
       "      \n",
       "    },\n",
       "    function(Bokeh) {\n",
       "      console.log(\"Bokeh: injecting CSS: https://cdn.pydata.org/bokeh/release/bokeh-0.12.16.min.css\");\n",
       "      Bokeh.embed.inject_css(\"https://cdn.pydata.org/bokeh/release/bokeh-0.12.16.min.css\");\n",
       "      console.log(\"Bokeh: injecting CSS: https://cdn.pydata.org/bokeh/release/bokeh-widgets-0.12.16.min.css\");\n",
       "      Bokeh.embed.inject_css(\"https://cdn.pydata.org/bokeh/release/bokeh-widgets-0.12.16.min.css\");\n",
       "      console.log(\"Bokeh: injecting CSS: https://cdn.pydata.org/bokeh/release/bokeh-tables-0.12.16.min.css\");\n",
       "      Bokeh.embed.inject_css(\"https://cdn.pydata.org/bokeh/release/bokeh-tables-0.12.16.min.css\");\n",
       "    }\n",
       "  ];\n",
       "\n",
       "  function run_inline_js() {\n",
       "    \n",
       "    if ((root.Bokeh !== undefined) || (force === true)) {\n",
       "      for (var i = 0; i < inline_js.length; i++) {\n",
       "        inline_js[i].call(root, root.Bokeh);\n",
       "      }if (force === true) {\n",
       "        display_loaded();\n",
       "      }} else if (Date.now() < root._bokeh_timeout) {\n",
       "      setTimeout(run_inline_js, 100);\n",
       "    } else if (!root._bokeh_failed_load) {\n",
       "      console.log(\"Bokeh: BokehJS failed to load within specified timeout.\");\n",
       "      root._bokeh_failed_load = true;\n",
       "    } else if (force !== true) {\n",
       "      var cell = $(document.getElementById(\"5d7cc9c7-26e7-4909-bc22-30e48c5debfd\")).parents('.cell').data().cell;\n",
       "      cell.output_area.append_execute_result(NB_LOAD_WARNING)\n",
       "    }\n",
       "\n",
       "  }\n",
       "\n",
       "  if (root._bokeh_is_loading === 0) {\n",
       "    console.log(\"Bokeh: BokehJS loaded, going straight to plotting\");\n",
       "    run_inline_js();\n",
       "  } else {\n",
       "    load_libs(js_urls, function() {\n",
       "      console.log(\"Bokeh: BokehJS plotting callback run at\", now());\n",
       "      run_inline_js();\n",
       "    });\n",
       "  }\n",
       "}(window));"
      ],
      "application/vnd.bokehjs_load.v0+json": "\n(function(root) {\n  function now() {\n    return new Date();\n  }\n\n  var force = true;\n\n  if (typeof (root._bokeh_onload_callbacks) === \"undefined\" || force === true) {\n    root._bokeh_onload_callbacks = [];\n    root._bokeh_is_loading = undefined;\n  }\n\n  \n\n  \n  if (typeof (root._bokeh_timeout) === \"undefined\" || force === true) {\n    root._bokeh_timeout = Date.now() + 5000;\n    root._bokeh_failed_load = false;\n  }\n\n  var NB_LOAD_WARNING = {'data': {'text/html':\n     \"<div style='background-color: #fdd'>\\n\"+\n     \"<p>\\n\"+\n     \"BokehJS does not appear to have successfully loaded. If loading BokehJS from CDN, this \\n\"+\n     \"may be due to a slow or bad network connection. Possible fixes:\\n\"+\n     \"</p>\\n\"+\n     \"<ul>\\n\"+\n     \"<li>re-rerun `output_notebook()` to attempt to load from CDN again, or</li>\\n\"+\n     \"<li>use INLINE resources instead, as so:</li>\\n\"+\n     \"</ul>\\n\"+\n     \"<code>\\n\"+\n     \"from bokeh.resources import INLINE\\n\"+\n     \"output_notebook(resources=INLINE)\\n\"+\n     \"</code>\\n\"+\n     \"</div>\"}};\n\n  function display_loaded() {\n    var el = document.getElementById(\"5d7cc9c7-26e7-4909-bc22-30e48c5debfd\");\n    if (el != null) {\n      el.textContent = \"BokehJS is loading...\";\n    }\n    if (root.Bokeh !== undefined) {\n      if (el != null) {\n        el.textContent = \"BokehJS \" + root.Bokeh.version + \" successfully loaded.\";\n      }\n    } else if (Date.now() < root._bokeh_timeout) {\n      setTimeout(display_loaded, 100)\n    }\n  }\n\n\n  function run_callbacks() {\n    try {\n      root._bokeh_onload_callbacks.forEach(function(callback) { callback() });\n    }\n    finally {\n      delete root._bokeh_onload_callbacks\n    }\n    console.info(\"Bokeh: all callbacks have finished\");\n  }\n\n  function load_libs(js_urls, callback) {\n    root._bokeh_onload_callbacks.push(callback);\n    if (root._bokeh_is_loading > 0) {\n      console.log(\"Bokeh: BokehJS is being loaded, scheduling callback at\", now());\n      return null;\n    }\n    if (js_urls == null || js_urls.length === 0) {\n      run_callbacks();\n      return null;\n    }\n    console.log(\"Bokeh: BokehJS not loaded, scheduling load and callback at\", now());\n    root._bokeh_is_loading = js_urls.length;\n    for (var i = 0; i < js_urls.length; i++) {\n      var url = js_urls[i];\n      var s = document.createElement('script');\n      s.src = url;\n      s.async = false;\n      s.onreadystatechange = s.onload = function() {\n        root._bokeh_is_loading--;\n        if (root._bokeh_is_loading === 0) {\n          console.log(\"Bokeh: all BokehJS libraries loaded\");\n          run_callbacks()\n        }\n      };\n      s.onerror = function() {\n        console.warn(\"failed to load library \" + url);\n      };\n      console.log(\"Bokeh: injecting script tag for BokehJS library: \", url);\n      document.getElementsByTagName(\"head\")[0].appendChild(s);\n    }\n  };var element = document.getElementById(\"5d7cc9c7-26e7-4909-bc22-30e48c5debfd\");\n  if (element == null) {\n    console.log(\"Bokeh: ERROR: autoload.js configured with elementid '5d7cc9c7-26e7-4909-bc22-30e48c5debfd' but no matching script tag was found. \")\n    return false;\n  }\n\n  var js_urls = [\"https://cdn.pydata.org/bokeh/release/bokeh-0.12.16.min.js\", \"https://cdn.pydata.org/bokeh/release/bokeh-widgets-0.12.16.min.js\", \"https://cdn.pydata.org/bokeh/release/bokeh-tables-0.12.16.min.js\", \"https://cdn.pydata.org/bokeh/release/bokeh-gl-0.12.16.min.js\"];\n\n  var inline_js = [\n    function(Bokeh) {\n      Bokeh.set_log_level(\"info\");\n    },\n    \n    function(Bokeh) {\n      \n    },\n    function(Bokeh) {\n      console.log(\"Bokeh: injecting CSS: https://cdn.pydata.org/bokeh/release/bokeh-0.12.16.min.css\");\n      Bokeh.embed.inject_css(\"https://cdn.pydata.org/bokeh/release/bokeh-0.12.16.min.css\");\n      console.log(\"Bokeh: injecting CSS: https://cdn.pydata.org/bokeh/release/bokeh-widgets-0.12.16.min.css\");\n      Bokeh.embed.inject_css(\"https://cdn.pydata.org/bokeh/release/bokeh-widgets-0.12.16.min.css\");\n      console.log(\"Bokeh: injecting CSS: https://cdn.pydata.org/bokeh/release/bokeh-tables-0.12.16.min.css\");\n      Bokeh.embed.inject_css(\"https://cdn.pydata.org/bokeh/release/bokeh-tables-0.12.16.min.css\");\n    }\n  ];\n\n  function run_inline_js() {\n    \n    if ((root.Bokeh !== undefined) || (force === true)) {\n      for (var i = 0; i < inline_js.length; i++) {\n        inline_js[i].call(root, root.Bokeh);\n      }if (force === true) {\n        display_loaded();\n      }} else if (Date.now() < root._bokeh_timeout) {\n      setTimeout(run_inline_js, 100);\n    } else if (!root._bokeh_failed_load) {\n      console.log(\"Bokeh: BokehJS failed to load within specified timeout.\");\n      root._bokeh_failed_load = true;\n    } else if (force !== true) {\n      var cell = $(document.getElementById(\"5d7cc9c7-26e7-4909-bc22-30e48c5debfd\")).parents('.cell').data().cell;\n      cell.output_area.append_execute_result(NB_LOAD_WARNING)\n    }\n\n  }\n\n  if (root._bokeh_is_loading === 0) {\n    console.log(\"Bokeh: BokehJS loaded, going straight to plotting\");\n    run_inline_js();\n  } else {\n    load_libs(js_urls, function() {\n      console.log(\"Bokeh: BokehJS plotting callback run at\", now());\n      run_inline_js();\n    });\n  }\n}(window));"
     },
     "metadata": {},
     "output_type": "display_data"
    }
   ],
   "source": [
    "output_notebook()"
   ]
  },
  {
   "cell_type": "code",
   "execution_count": 8,
   "metadata": {
    "collapsed": true
   },
   "outputs": [],
   "source": [
    "def fmt_cool(ds_in):\n",
    "    ds = ds_in.copy(deep=True)\n",
    "    if 'igg' in ds.dims:\n",
    "        ds = ds.sel(igg=1)\n",
    "\n",
    "    if 'g' in ds.dims:\n",
    "        ds = ds.sum('g')\n",
    "            \n",
    "    if 'band' in ds.dims:\n",
    "        try:\n",
    "            ds = ds.squeeze('band')\n",
    "        except ValueError:\n",
    "            ds = ds.sum('band')\n",
    "                \n",
    "    return ds['coolrg']\n",
    "\n",
    "\n",
    "def pltdata_cooling_1(ds_cool=None,\n",
    "                      ds_cool_crd=None, ds_cool_wgt=None):\n",
    "    \n",
    "\n",
    "\n",
    "    colors = all_palettes['Set1'][4]\n",
    "    data = [{'label': 'CLIRAD `coolr_bands`',\n",
    "             'srs': fmt_cool(ds_cool),\n",
    "             'line_dash': 'dashed', 'line_width': 5,\n",
    "             'color': colors[0], 'alpha': .6},\n",
    "            {'label': 'CRD',\n",
    "             'srs': fmt_cool(ds_cool_crd),\n",
    "             'line_dash': 'solid', 'line_width': 1.5,\n",
    "             'marker': 'circle', 'marker_size': 5,\n",
    "             'color': colors[2], 'alpha': 1,},\n",
    "            {'label': 'WGT igg=10 wgt_flux=2',\n",
    "             'srs': fmt_cool(ds_cool_wgt),\n",
    "             'line_dash': 'solid', 'line_width': 3,\n",
    "             'marker': 'square', 'marker_size': 5,\n",
    "             'color': colors[3], 'alpha': .6}]\n",
    "    return data\n",
    "\n",
    "\n",
    "def nice_xlims(pltdata=None, prange=None):\n",
    "    \n",
    "    def get_slice(srs):\n",
    "        return srs.sel(pressure=slice(*prange))\n",
    "    \n",
    "    srss = [d['srs'] for d in pltdata]\n",
    "    vmin = min([get_slice(srs).min() for srs in srss])\n",
    "    vmax = max([get_slice(srs).max() for srs in srss])\n",
    "    dv = (vmax - vmin) * .01\n",
    "    return float(vmin - dv), float(vmax + dv)\n",
    "    \n",
    "\n",
    "def plt_cooling_bokeh(pltdata=None):\n",
    "    '''\n",
    "    Plot a list of cooling rate profiles using bokeh.\n",
    "    '''\n",
    "    ymin = 1e-2 \n",
    "    ymax = 1020 \n",
    "        \n",
    "    p1 = figure(title=\"Linear pressure scale\", \n",
    "                plot_width=400)        \n",
    "    xmin, xmax = nice_xlims(pltdata, prange=(50, 1050))\n",
    "    for d in pltdata:\n",
    "        if 'marker' in d:\n",
    "            getattr(p1, d['marker'])(d['srs'].values, \n",
    "                    d['srs'].coords['pressure'].values,\n",
    "                    color=d['color'], alpha=.7)\n",
    "        p1.line(d['srs'].values, \n",
    "                d['srs'].coords['pressure'].values,\n",
    "                color=d['color'], alpha=d['alpha'], \n",
    "                line_width=d['line_width'], line_dash=d['line_dash'])\n",
    "    \n",
    "    p1.y_range = Range1d(ymax, ymin)\n",
    "    p1.yaxis.axis_label = 'pressure [mb]'   \n",
    "    p1.x_range = Range1d(xmin, xmax)\n",
    "    p1.xaxis.axis_label = 'cooling rate [K/day]'\n",
    "            \n",
    "    p2 = figure(title='Log pressure scale', y_axis_type='log',\n",
    "                plot_width=560)\n",
    "    xmin, xmax = nice_xlims(pltdata, prange=(.01, 200))\n",
    "    \n",
    "    rs = []\n",
    "    for d in pltdata:\n",
    "        rd = []\n",
    "        if 'marker' in d:\n",
    "            r_mark = getattr(p2, d['marker'])(d['srs'].values, \n",
    "                        d['srs'].coords['pressure'].values,\n",
    "                        color=d['color'], alpha=.7)\n",
    "            rd.append(r_mark)\n",
    "        r_line = p2.line(d['srs'].values, \n",
    "                    d['srs'].coords['pressure'].values,\n",
    "                    color=d['color'], alpha=d['alpha'], \n",
    "                    line_width=d['line_width'], line_dash=d['line_dash'])\n",
    "        rd.append(r_line)\n",
    "      \n",
    "        rs.append(rd)\n",
    "        \n",
    "    p2.y_range = Range1d(ymax, ymin)  \n",
    "    p2.yaxis.axis_label = 'pressure [mb]'\n",
    "    \n",
    "    p2.x_range = Range1d(xmin, xmax)\n",
    "    p2.xaxis.axis_label = 'cooling rate [K/day]'\n",
    "    \n",
    "    items = [(d['label'], r) for r, d in zip(rs, pltdata)]\n",
    "    legend = Legend(items=items, location=(10, -30))\n",
    "    legend.label_text_font_size = '8pt'\n",
    "    \n",
    "    p2.add_layout(legend, 'right')  \n",
    "    \n",
    "    show(gridplot(p1, p2, ncols=2, plot_height=500))\n",
    "    \n",
    "\n",
    "def script_plt_cooling():\n",
    "    pltdata = pltdata_cooling_1(\n",
    "        ds_cool=DS_COOL,\n",
    "        ds_cool_crd=DS_COOL_CRD,\n",
    "        ds_cool_wgt=DS_COOL_WGT)\n",
    "    plt_cooling_bokeh(pltdata=pltdata)\n",
    "    print('''FIGURE. Cooling rate profiles.''')"
   ]
  },
  {
   "cell_type": "code",
   "execution_count": 9,
   "metadata": {
    "collapsed": true
   },
   "outputs": [],
   "source": [
    "def fmt_flux(ds_in):\n",
    "    ds = ds_in.copy(deep=True)\n",
    "    \n",
    "    for l in ('level', 'layer'):\n",
    "        if l in ds.data_vars:\n",
    "            if len(ds[l].dims) > 1:\n",
    "                surface = {d: 0 for d in ds.dims if d != 'pressure'}\n",
    "                coord_level = ds[l][surface]\n",
    "                ds.coords[l] = ('pressure', coord_level)\n",
    "            else:\n",
    "                ds.coords[l] = ('pressure', ds[l])\n",
    "        \n",
    "    ds = ds.isel(pressure=[0, 23, -1])\n",
    "        \n",
    "    if 'igg' in ds.dims:\n",
    "        ds = ds.sel(igg=[1])\n",
    "        ds = ds.squeeze('igg').drop('igg')\n",
    "    \n",
    "    if 'g' in ds.dims:\n",
    "        ds = ds.sum('g')\n",
    "            \n",
    "    if 'band' in ds.dims:\n",
    "        try:\n",
    "            ds = ds.squeeze('band').drop('band')\n",
    "        except ValueError:\n",
    "            ds = ds.sum('band')\n",
    "                \n",
    "    df = ds.to_dataframe()\n",
    "    df = df.set_index('level', append=True)               \n",
    "    return df\n",
    "\n",
    "\n",
    "def tbdata_flux(ds_flux=None, ds_flux_crd=None, ds_flux_wgt=None):\n",
    "    ilevels = [0, 23, -1]\n",
    "            \n",
    "    benchmark = {'label': 'CRD',\n",
    "                 'df': fmt_flux(ds_flux_crd)}\n",
    "    \n",
    "    tbs = [{'label': 'WGT igg=10 wgt_flux=1',\n",
    "            'df': fmt_flux(ds_flux_wgt)},\n",
    "           {'label': 'CLIRAD',\n",
    "            'df': fmt_flux(ds_flux)}]\n",
    "    \n",
    "    data = {'benchmark': benchmark, 'others': tbs}\n",
    "    return data\n",
    "\n",
    "\n",
    "def tb_flux(tbdata=None):\n",
    "    benchmark = tbdata['benchmark']\n",
    "    others = tbdata['others']\n",
    "    \n",
    "    def show_tb(d=None):\n",
    "        display.display(d['df'])\n",
    "        print('Table.', 'Fluxes.', d['label'])\n",
    "        \n",
    "    def show_tbdiff(d0=None, d=None):\n",
    "        df = d['df']\n",
    "        df.index = d0['df'].index\n",
    "        display.display(df - d0['df'])\n",
    "        print('Table.', 'Fluxes.', \n",
    "              '({}) - ({})'.format(d['label'], d0['label']))\n",
    "        \n",
    "    show_tb(benchmark)\n",
    "    for d in others:\n",
    "        show_tb(d)\n",
    "        \n",
    "    for d in others:\n",
    "        show_tbdiff(d=d, d0=benchmark)\n",
    "        \n",
    "        \n",
    "def script_tb_flux():\n",
    "    data = tbdata_flux(ds_flux=DS_FLUX,\n",
    "                       ds_flux_crd=DS_FLUX_CRD,\n",
    "                       ds_flux_wgt=DS_FLUX_WGT)\n",
    "    tb_flux(tbdata=data)"
   ]
  },
  {
   "cell_type": "code",
   "execution_count": 10,
   "metadata": {
    "collapsed": true
   },
   "outputs": [],
   "source": [
    "def band_map():\n",
    "    '''\n",
    "    Maps spectral bands in lblnew to spectral bands in clirad.\n",
    "    '''\n",
    "    lblnew2clirad = {'1': '1',\n",
    "            '2': '2',\n",
    "            '3a': '3',\n",
    "            '3b': '4',\n",
    "            '3c': '5',\n",
    "            '4': '6', \n",
    "            '5': '7',\n",
    "            '6': '8',\n",
    "            '7': '9', \n",
    "            '8': '10',\n",
    "            '9': '11'}\n",
    "    \n",
    "    clirad2lblnew = {clirad: lblnew \n",
    "                     for lblnew, clirad in lblnew2clirad.items()}\n",
    "    return clirad2lblnew\n",
    "\n",
    "\n",
    "def gasbands():\n",
    "    bmap = band_map()\n",
    "    gases = list(PARAM['molecule'].keys())\n",
    "    \n",
    "    bands = [bmap[str(b)] for b in PARAM['band']]\n",
    "    return list(itertools.product(gases, bands))\n",
    "\n",
    "\n",
    "def print_bestfit_params():\n",
    "    print('Best-fit values for each (gas, band)')\n",
    "    print('------------------------------------')\n",
    "    for gas, band in gasbands():\n",
    "        print('o {} band{}'.format(gas, band))\n",
    "        param = bestfits.kdist_params(molecule=gas, band=band)\n",
    "        for name, value in sorted(param.items()):\n",
    "            print(2 * ' ' + '{} = {}'.format(name, value))\n",
    "\n",
    "        \n",
    "def print_input_param():        \n",
    "    for name, value in PARAM.items():\n",
    "        print('{} = {}'.format(name, value))\n",
    "        \n",
    "        \n",
    "def print_lblnew_param():\n",
    "    for name, value in sorted(PARAM_LBLNEW.items()):\n",
    "        print('{} = {}'.format(name, value))\n"
   ]
  },
  {
   "cell_type": "code",
   "execution_count": 11,
   "metadata": {
    "collapsed": true,
    "scrolled": false
   },
   "outputs": [],
   "source": [
    "def show_html(s):\n",
    "    display.display(display.HTML(s))\n",
    "\n",
    "    \n",
    "def show_markdown(s):\n",
    "    display.display(display.Markdown(s))\n",
    "\n",
    "    \n",
    "def script():\n",
    "    \n",
    "    title = '### CLIRAD-LW'\n",
    "    s_input = 'Input Parameters'\n",
    "    s_lblnew_param = 'LBLNEW case compaired against'\n",
    "    s_bestfits = 'Best-fit Parameters'\n",
    "    s_plt_cooling = 'Cooling Rate Profiles'\n",
    "    s_tb_flux = 'Flux Comparison'\n",
    "    \n",
    "    # title\n",
    "    show_markdown('### CLIRAD-LW')\n",
    "    \n",
    "    # TOC\n",
    "    show_markdown('### Table of Contents')\n",
    "    show_html(climahtml.getHTML_hrefanchor(s_input))\n",
    "    show_html(climahtml.getHTML_hrefanchor(s_lblnew_param))\n",
    "    show_html(climahtml.getHTML_hrefanchor(s_plt_cooling))\n",
    "    show_html(climahtml.getHTML_hrefanchor(s_tb_flux))\n",
    "    show_html(climahtml.getHTML_hrefanchor(s_bestfits))\n",
    "    \n",
    "    # Input parameters\n",
    "    show_html(climahtml.getHTML_idanchor(s_input))\n",
    "    show_markdown(climahtml.getMarkdown_sectitle(s_input))\n",
    "    print_input_param()\n",
    "    \n",
    "    # LBLNEW parameters \n",
    "    show_html(climahtml.getHTML_idanchor(s_lblnew_param))\n",
    "    show_markdown(climahtml.getMarkdown_sectitle(s_lblnew_param))\n",
    "    print_lblnew_param()\n",
    "    \n",
    "    # Cooling rate profiles\n",
    "    show_html(climahtml.getHTML_idanchor(s_plt_cooling))\n",
    "    show_markdown(climahtml.getMarkdown_sectitle(s_plt_cooling))\n",
    "    script_plt_cooling()\n",
    "    \n",
    "    # Flux comparison\n",
    "    show_html(climahtml.getHTML_idanchor(s_tb_flux))\n",
    "    show_markdown(climahtml.getMarkdown_sectitle(s_tb_flux))\n",
    "    script_tb_flux()\n",
    "    \n",
    "    # Best-fit values\n",
    "    show_html(climahtml.getHTML_idanchor(s_bestfits))\n",
    "    show_markdown(climahtml.getMarkdown_sectitle(s_bestfits))\n",
    "    print_bestfit_params()\n",
    "   \n",
    "    "
   ]
  },
  {
   "cell_type": "code",
   "execution_count": 12,
   "metadata": {
    "collapsed": true,
    "scrolled": false
   },
   "outputs": [
    {
     "data": {
      "text/markdown": [
       "### CLIRAD-LW"
      ],
      "text/plain": [
       "<IPython.core.display.Markdown object>"
      ]
     },
     "metadata": {},
     "output_type": "display_data"
    },
    {
     "data": {
      "text/markdown": [
       "### Table of Contents"
      ],
      "text/plain": [
       "<IPython.core.display.Markdown object>"
      ]
     },
     "metadata": {},
     "output_type": "display_data"
    },
    {
     "data": {
      "text/html": [
       "<a href=\"#Input_Parameters\">Input Parameters</a>"
      ],
      "text/plain": [
       "<IPython.core.display.HTML object>"
      ]
     },
     "metadata": {},
     "output_type": "display_data"
    },
    {
     "data": {
      "text/html": [
       "<a href=\"#LBLNEW_case_compaired_against\">LBLNEW case compaired against</a>"
      ],
      "text/plain": [
       "<IPython.core.display.HTML object>"
      ]
     },
     "metadata": {},
     "output_type": "display_data"
    },
    {
     "data": {
      "text/html": [
       "<a href=\"#Cooling_Rate_Profiles\">Cooling Rate Profiles</a>"
      ],
      "text/plain": [
       "<IPython.core.display.HTML object>"
      ]
     },
     "metadata": {},
     "output_type": "display_data"
    },
    {
     "data": {
      "text/html": [
       "<a href=\"#Flux_Comparison\">Flux Comparison</a>"
      ],
      "text/plain": [
       "<IPython.core.display.HTML object>"
      ]
     },
     "metadata": {},
     "output_type": "display_data"
    },
    {
     "data": {
      "text/html": [
       "<a href=\"#Best-fit_Parameters\">Best-fit Parameters</a>"
      ],
      "text/plain": [
       "<IPython.core.display.HTML object>"
      ]
     },
     "metadata": {},
     "output_type": "display_data"
    },
    {
     "data": {
      "text/html": [
       "<a id=\"Input_Parameters\"></a>"
      ],
      "text/plain": [
       "<IPython.core.display.HTML object>"
      ]
     },
     "metadata": {},
     "output_type": "display_data"
    },
    {
     "data": {
      "text/markdown": [
       "# Input Parameters"
      ],
      "text/plain": [
       "<IPython.core.display.Markdown object>"
      ]
     },
     "metadata": {},
     "output_type": "display_data"
    },
    {
     "name": "stdout",
     "output_type": "stream",
     "text": [
      "atmpro = trp\n",
      "band = [1]\n",
      "commitnumber = 4198f95\n",
      "molecule = {'h2o': 'atmpro'}\n",
      "tsfc = 300\n"
     ]
    },
    {
     "data": {
      "text/html": [
       "<a id=\"LBLNEW_case_compaired_against\"></a>"
      ],
      "text/plain": [
       "<IPython.core.display.HTML object>"
      ]
     },
     "metadata": {},
     "output_type": "display_data"
    },
    {
     "data": {
      "text/markdown": [
       "# LBLNEW case compaired against"
      ],
      "text/plain": [
       "<IPython.core.display.Markdown object>"
      ]
     },
     "metadata": {},
     "output_type": "display_data"
    },
    {
     "name": "stdout",
     "output_type": "stream",
     "text": [
      "atmpro = trp\n",
      "band = 1\n",
      "commitnumber = 5014a19\n",
      "conc = None\n",
      "dv = 0.001\n",
      "klin = 0\n",
      "molecule = h2o\n",
      "ng_adju = [0, 0, 0]\n",
      "ng_refs = [3, 3, 6]\n",
      "nv = 1000\n",
      "option_compute_btable = 0\n",
      "option_compute_ktable = 0\n",
      "option_wgt_flux = 1\n",
      "option_wgt_k = 1\n",
      "ref_pts = [(1, 250), (30, 250), (300, 250)]\n",
      "tsfc = 300\n",
      "vmax = 340\n",
      "vmin = 20\n",
      "w_diffuse = [(1.66, 1.66, 1.66), (1.66, 1.66, 1.66), (1.66, 1.66, 1.5, 1.5, 1.5, 1.5)]\n",
      "wgt = [(0.2, 0.2, 0.2), (0.2, 0.2, 0.2), (0.2, 0.2, 0.65, 0.65, 0.65, 0.65)]\n"
     ]
    },
    {
     "data": {
      "text/html": [
       "<a id=\"Cooling_Rate_Profiles\"></a>"
      ],
      "text/plain": [
       "<IPython.core.display.HTML object>"
      ]
     },
     "metadata": {},
     "output_type": "display_data"
    },
    {
     "data": {
      "text/markdown": [
       "# Cooling Rate Profiles"
      ],
      "text/plain": [
       "<IPython.core.display.Markdown object>"
      ]
     },
     "metadata": {},
     "output_type": "display_data"
    },
    {
     "data": {
      "text/html": [
       "\n",
       "<div class=\"bk-root\">\n",
       "    <div class=\"bk-plotdiv\" id=\"db02b375-1e08-4451-bb44-7943cc168812\"></div>\n",
       "</div>"
      ]
     },
     "metadata": {},
     "output_type": "display_data"
    },
    {
     "data": {
      "application/javascript": [
       "(function(root) {\n",
       "  function embed_document(root) {\n",
       "    \n",
       "  var docs_json = {\"37d59378-500e-4dcc-923e-a48f650307b1\":{\"roots\":{\"references\":[{\"attributes\":{\"axis_label\":\"pressure [mb]\",\"formatter\":{\"id\":\"01702115-ca35-48a8-b106-dc499d9df835\",\"type\":\"LogTickFormatter\"},\"plot\":{\"id\":\"28e44d3f-dbae-4ec3-9c5b-522f9a9ab2ad\",\"subtype\":\"Figure\",\"type\":\"Plot\"},\"ticker\":{\"id\":\"f404624c-87de-43e1-9341-b0fa70d690db\",\"type\":\"LogTicker\"}},\"id\":\"692e8a13-1daf-4760-a576-a8251747e374\",\"type\":\"LogAxis\"},{\"attributes\":{\"callback\":null,\"data\":{\"x\":{\"__ndarray__\":\"WzRjhjxIDUBnuR4XmlQKQNyNq6t7HglAAOP+6ouTB0B0G1Db1rQFQE552tU0hANAucWXtLsYAUBImjjvoRr9PzbYIA48Gfg/QxZPEG2H8z8t5TygmVXvP3D10qZlMOk/6AlxJuo45D8O8i5m3jPfP18YgL7Q7dk/aaVC+fMG2T+z6rP81lHYP1c/SoFchNc/1aYrJZvS1z93TDxCEY7ZPzxZ7iGev9w/Sfr0E2fI4D/SG2ZB8dThPwivFpCr0OE/Gn5++1244T+Q5jlgQa/gP/yCjppap94/I2se3mj22z9DivYYN3LZPxCj8PgXv9c///xXAqyZ1j+43SzwZCnVP/mIwpLqptM/x0S8Lto80j/650FW5lrOP91uOd5bS8Q/cE5Rm6eKtz8/rx1HrKK5P3QiVQUX68M/wsUdI1v6yj+iU884G8XVP1q4prIOWeY/LqE4OX+Z8D+K1guKKUr0P/3oM0PfKvU/nQNvekSB8z/S86U5157xPy/hWw16Fu4/E+Z0ZgPh5j8svpb6FIzhPzZmTwCfz9o/UIDfhGdA0z9+MiY0oa/IP3Q3maFz77s/gryWWC/KrD8F3dpU8YidP6ZHTlrWmpE/oVQbh5fChz+x4pdIZtuEP/5HX8jPCoc/lKdR6Nncjz+Cv5uU9OuVP8RoCk+ep5Y/x8moEFhfjT/oNd7PkSpqPwF/BH6SdXS/+DmUAa8Zfr+e92GEtXxzv1C1DfrPXlO/WHWczacxUj9TJOEKCGRhP0wlHb4ig2Q/Dh5kngLdZD+xOG8988ZkPxiFaoUsVrE/\",\"dtype\":\"float64\",\"shape\":[75]},\"y\":{\"__ndarray__\":\"GhExyth1ND/Sv8nbtpRIP2vylNV0PVE/aTum7souWD/At0SJ8fVgPw3Iuahxymc/MSNhhJWvcD/bTfBN02d3P2zb5nxnaoA/CD5h5MAGhz8NmeH1TyaQP+zrCsc9p5Y/LbKd76fGnz/bLW5ISEmmPww9YvTcQq8/JV2OstnstT8Er5Y7M8G+P0c+r3jqkcU/5h99k6ZBzj88bCIzFzjVP4enV8oyxN0//yH99nXg5D8qOpLLf0jtP5kqGJXUifQ/c9cS8kHP/D+/DpwzojQEQIEmwoanVwxA4lgXt9HgE0BSSZ2AJuIbQAMJih9jjiNA5q4l5INuK0AwTKYKRj0zQNv5fmq8/DpAaCJseHrtQkB/+zpwzoxKQM3MzMzMeFJAZmZmZmZqWEAAAAAAAFxeQM3MzMzMJmJAmpmZmZkfZUBmZmZmZhhoQDMzMzMzEWtAAAAAAAAKbkBmZmZmZoFwQM3MzMzM/XFAMzMzMzN6c0CamZmZmfZ0QAAAAAAAc3ZAZmZmZmbvd0DNzMzMzGt5QDMzMzMz6HpAmpmZmZlkfEAAAAAAAOF9QGZmZmZmXX9AZmZmZuZsgECamZmZGSuBQM3MzMxM6YFAAAAAAICngkAzMzMzs2WDQGZmZmbmI4RAmpmZmRnihEDNzMzMTKCFQAAAAACAXoZAMzMzM7Mch0BmZmZm5tqHQJqZmZkZmYhAzczMzExXiUAAAAAAgBWKQDMzMzOz04pAZmZmZuaRi0CamZmZGVCMQM3MzMxMDo1AAAAAAIDMjUAzMzMzs4qOQGZmZmbmSI9A\",\"dtype\":\"float64\",\"shape\":[75]}},\"selected\":{\"id\":\"7b2d122a-f9a6-45e2-a4c2-6d1c4f898b74\",\"type\":\"Selection\"},\"selection_policy\":{\"id\":\"1493bf0b-d593-4e52-82e7-0d7cf8822606\",\"type\":\"UnionRenderers\"}},\"id\":\"1a508638-6e10-4519-8e1f-7ae5f00a96fb\",\"type\":\"ColumnDataSource\"},{\"attributes\":{\"dimension\":1,\"plot\":{\"id\":\"28e44d3f-dbae-4ec3-9c5b-522f9a9ab2ad\",\"subtype\":\"Figure\",\"type\":\"Plot\"},\"ticker\":{\"id\":\"f404624c-87de-43e1-9341-b0fa70d690db\",\"type\":\"LogTicker\"}},\"id\":\"89542c31-b1c3-4e6d-a2bf-b3331f93b20c\",\"type\":\"Grid\"},{\"attributes\":{},\"id\":\"2f2c3d08-f1e4-47fe-a95d-cbbffcffc66e\",\"type\":\"LinearScale\"},{\"attributes\":{\"data_source\":{\"id\":\"bddde535-3c43-4743-b236-793501de38bc\",\"type\":\"ColumnDataSource\"},\"glyph\":{\"id\":\"b1c12c7b-52fb-4fdb-9744-178fb3058227\",\"type\":\"Circle\"},\"hover_glyph\":null,\"muted_glyph\":null,\"nonselection_glyph\":{\"id\":\"caf6f087-09d0-477f-b09d-d914fd8a6174\",\"type\":\"Circle\"},\"selection_glyph\":null,\"view\":{\"id\":\"b745f672-bb61-4c0a-b7c2-d3eaed864774\",\"type\":\"CDSView\"}},\"id\":\"df63384a-e165-42cd-ae5d-d7bb36c05af4\",\"type\":\"GlyphRenderer\"},{\"attributes\":{},\"id\":\"6fd33efb-228f-4d62-84d3-4f348dea3972\",\"type\":\"BasicTicker\"},{\"attributes\":{\"num_minor_ticks\":10},\"id\":\"f404624c-87de-43e1-9341-b0fa70d690db\",\"type\":\"LogTicker\"},{\"attributes\":{},\"id\":\"2e393bce-0b6d-457a-95dc-157962811421\",\"type\":\"PanTool\"},{\"attributes\":{\"plot\":{\"id\":\"28e44d3f-dbae-4ec3-9c5b-522f9a9ab2ad\",\"subtype\":\"Figure\",\"type\":\"Plot\"},\"ticker\":{\"id\":\"3e5ad023-5538-4c23-89bb-4713c68f0046\",\"type\":\"BasicTicker\"}},\"id\":\"0ab8effa-7988-420d-a367-aca51ee21a3a\",\"type\":\"Grid\"},{\"attributes\":{\"below\":[{\"id\":\"9a4482b9-c0e1-4ff3-b787-a0f969e39791\",\"type\":\"LinearAxis\"}],\"left\":[{\"id\":\"692e8a13-1daf-4760-a576-a8251747e374\",\"type\":\"LogAxis\"}],\"plot_height\":500,\"plot_width\":560,\"renderers\":[{\"id\":\"9a4482b9-c0e1-4ff3-b787-a0f969e39791\",\"type\":\"LinearAxis\"},{\"id\":\"0ab8effa-7988-420d-a367-aca51ee21a3a\",\"type\":\"Grid\"},{\"id\":\"692e8a13-1daf-4760-a576-a8251747e374\",\"type\":\"LogAxis\"},{\"id\":\"89542c31-b1c3-4e6d-a2bf-b3331f93b20c\",\"type\":\"Grid\"},{\"id\":\"0f064719-9265-4677-a4b9-4197c3f74e06\",\"type\":\"BoxAnnotation\"},{\"id\":\"4df3fcdb-b604-4847-9665-775afbba5787\",\"type\":\"GlyphRenderer\"},{\"id\":\"acbc829e-a3e9-45d3-a5b2-581ae0a63969\",\"type\":\"GlyphRenderer\"},{\"id\":\"8bd635d1-0c34-437c-8864-4925d81a925a\",\"type\":\"GlyphRenderer\"},{\"id\":\"cd56ebcb-6e38-4ee0-acca-46c7115a7c18\",\"type\":\"GlyphRenderer\"},{\"id\":\"a7f1fe32-cd96-4b9a-956d-272ceb650ce5\",\"type\":\"GlyphRenderer\"},{\"id\":\"5d694f16-7c30-4465-9511-b9b3d1e0228f\",\"type\":\"Legend\"}],\"right\":[{\"id\":\"5d694f16-7c30-4465-9511-b9b3d1e0228f\",\"type\":\"Legend\"}],\"title\":{\"id\":\"8f07531b-5b20-448a-b6cc-a6377c1f1164\",\"type\":\"Title\"},\"toolbar\":{\"id\":\"d64ffcc9-370e-4625-95e0-1213cd5d72c6\",\"type\":\"Toolbar\"},\"toolbar_location\":null,\"x_range\":{\"id\":\"1e2eb787-cf54-4e53-811c-4756649582b5\",\"type\":\"Range1d\"},\"x_scale\":{\"id\":\"ef150229-8b00-44a1-8e2f-01a2419a3aaf\",\"type\":\"LinearScale\"},\"y_range\":{\"id\":\"2c10e6fd-7ad3-4c54-95a5-29aa8ac26c8c\",\"type\":\"Range1d\"},\"y_scale\":{\"id\":\"e6c86f9c-0dc2-4948-89a5-5548bbe1cf2f\",\"type\":\"LogScale\"}},\"id\":\"28e44d3f-dbae-4ec3-9c5b-522f9a9ab2ad\",\"subtype\":\"Figure\",\"type\":\"Plot\"},{\"attributes\":{\"callback\":null,\"data\":{\"x\":{\"__ndarray__\":\"WzRjhjxIDUBnuR4XmlQKQNyNq6t7HglAAOP+6ouTB0B0G1Db1rQFQE552tU0hANAucWXtLsYAUBImjjvoRr9PzbYIA48Gfg/QxZPEG2H8z8t5TygmVXvP3D10qZlMOk/6AlxJuo45D8O8i5m3jPfP18YgL7Q7dk/aaVC+fMG2T+z6rP81lHYP1c/SoFchNc/1aYrJZvS1z93TDxCEY7ZPzxZ7iGev9w/Sfr0E2fI4D/SG2ZB8dThPwivFpCr0OE/Gn5++1244T+Q5jlgQa/gP/yCjppap94/I2se3mj22z9DivYYN3LZPxCj8PgXv9c///xXAqyZ1j+43SzwZCnVP/mIwpLqptM/x0S8Lto80j/650FW5lrOP91uOd5bS8Q/cE5Rm6eKtz8/rx1HrKK5P3QiVQUX68M/wsUdI1v6yj+iU884G8XVP1q4prIOWeY/LqE4OX+Z8D+K1guKKUr0P/3oM0PfKvU/nQNvekSB8z/S86U5157xPy/hWw16Fu4/E+Z0ZgPh5j8svpb6FIzhPzZmTwCfz9o/UIDfhGdA0z9+MiY0oa/IP3Q3maFz77s/gryWWC/KrD8F3dpU8YidP6ZHTlrWmpE/oVQbh5fChz+x4pdIZtuEP/5HX8jPCoc/lKdR6Nncjz+Cv5uU9OuVP8RoCk+ep5Y/x8moEFhfjT/oNd7PkSpqPwF/BH6SdXS/+DmUAa8Zfr+e92GEtXxzv1C1DfrPXlO/WHWczacxUj9TJOEKCGRhP0wlHb4ig2Q/Dh5kngLdZD+xOG8988ZkPxiFaoUsVrE/\",\"dtype\":\"float64\",\"shape\":[75]},\"y\":{\"__ndarray__\":\"GhExyth1ND/Sv8nbtpRIP2vylNV0PVE/aTum7souWD/At0SJ8fVgPw3Iuahxymc/MSNhhJWvcD/bTfBN02d3P2zb5nxnaoA/CD5h5MAGhz8NmeH1TyaQP+zrCsc9p5Y/LbKd76fGnz/bLW5ISEmmPww9YvTcQq8/JV2OstnstT8Er5Y7M8G+P0c+r3jqkcU/5h99k6ZBzj88bCIzFzjVP4enV8oyxN0//yH99nXg5D8qOpLLf0jtP5kqGJXUifQ/c9cS8kHP/D+/DpwzojQEQIEmwoanVwxA4lgXt9HgE0BSSZ2AJuIbQAMJih9jjiNA5q4l5INuK0AwTKYKRj0zQNv5fmq8/DpAaCJseHrtQkB/+zpwzoxKQM3MzMzMeFJAZmZmZmZqWEAAAAAAAFxeQM3MzMzMJmJAmpmZmZkfZUBmZmZmZhhoQDMzMzMzEWtAAAAAAAAKbkBmZmZmZoFwQM3MzMzM/XFAMzMzMzN6c0CamZmZmfZ0QAAAAAAAc3ZAZmZmZmbvd0DNzMzMzGt5QDMzMzMz6HpAmpmZmZlkfEAAAAAAAOF9QGZmZmZmXX9AZmZmZuZsgECamZmZGSuBQM3MzMxM6YFAAAAAAICngkAzMzMzs2WDQGZmZmbmI4RAmpmZmRnihEDNzMzMTKCFQAAAAACAXoZAMzMzM7Mch0BmZmZm5tqHQJqZmZkZmYhAzczMzExXiUAAAAAAgBWKQDMzMzOz04pAZmZmZuaRi0CamZmZGVCMQM3MzMxMDo1AAAAAAIDMjUAzMzMzs4qOQGZmZmbmSI9A\",\"dtype\":\"float64\",\"shape\":[75]}},\"selected\":{\"id\":\"8eada94a-3772-4eda-a339-fbf85eae5f3b\",\"type\":\"Selection\"},\"selection_policy\":{\"id\":\"cda86305-2bac-4497-92c7-eeec5ccfd525\",\"type\":\"UnionRenderers\"}},\"id\":\"433d6056-0973-4e3e-8605-21af20ce61c0\",\"type\":\"ColumnDataSource\"},{\"attributes\":{\"source\":{\"id\":\"bddde535-3c43-4743-b236-793501de38bc\",\"type\":\"ColumnDataSource\"}},\"id\":\"b745f672-bb61-4c0a-b7c2-d3eaed864774\",\"type\":\"CDSView\"},{\"attributes\":{\"dimension\":1,\"plot\":{\"id\":\"9026aa9d-f5c6-4702-ac52-ff5c6f39a12e\",\"subtype\":\"Figure\",\"type\":\"Plot\"},\"ticker\":{\"id\":\"6fd33efb-228f-4d62-84d3-4f348dea3972\",\"type\":\"BasicTicker\"}},\"id\":\"ec2485d4-d445-4a04-80b1-ae01851be687\",\"type\":\"Grid\"},{\"attributes\":{\"data_source\":{\"id\":\"433d6056-0973-4e3e-8605-21af20ce61c0\",\"type\":\"ColumnDataSource\"},\"glyph\":{\"id\":\"1444302b-bb70-4699-8d84-393d33245541\",\"type\":\"Square\"},\"hover_glyph\":null,\"muted_glyph\":null,\"nonselection_glyph\":{\"id\":\"87b45cbd-6d5b-422d-b79b-9eb7173c70da\",\"type\":\"Square\"},\"selection_glyph\":null,\"view\":{\"id\":\"e590e479-4c69-4e97-8062-33b570a2a820\",\"type\":\"CDSView\"}},\"id\":\"92dfb76b-88b0-4ca9-8d53-2155facf9de8\",\"type\":\"GlyphRenderer\"},{\"attributes\":{\"data_source\":{\"id\":\"f3f154ed-f724-453c-afae-9018ce001a1c\",\"type\":\"ColumnDataSource\"},\"glyph\":{\"id\":\"7600dfa1-c075-4c88-af16-29d84f972790\",\"type\":\"Line\"},\"hover_glyph\":null,\"muted_glyph\":null,\"nonselection_glyph\":{\"id\":\"4b06e12d-6e5c-4d69-b0dd-62b564cb1557\",\"type\":\"Line\"},\"selection_glyph\":null,\"view\":{\"id\":\"e7f661f0-b390-472a-b82e-b6daec1cd5c1\",\"type\":\"CDSView\"}},\"id\":\"a178c45a-492e-4f87-860b-5b3bbe5c65c9\",\"type\":\"GlyphRenderer\"},{\"attributes\":{},\"id\":\"3e5ad023-5538-4c23-89bb-4713c68f0046\",\"type\":\"BasicTicker\"},{\"attributes\":{\"axis_label\":\"cooling rate [K/day]\",\"formatter\":{\"id\":\"7ca86e5f-a87a-4895-8f54-e75d12c6c4e9\",\"type\":\"BasicTickFormatter\"},\"plot\":{\"id\":\"9026aa9d-f5c6-4702-ac52-ff5c6f39a12e\",\"subtype\":\"Figure\",\"type\":\"Plot\"},\"ticker\":{\"id\":\"66be09a4-b6f3-4d8b-89c8-7a52ffb8439a\",\"type\":\"BasicTicker\"}},\"id\":\"3d344e7f-235c-4b3b-967a-14f1ec93ee06\",\"type\":\"LinearAxis\"},{\"attributes\":{\"callback\":null,\"end\":1.3186655344,\"start\":0.0732318256},\"id\":\"1e2eb787-cf54-4e53-811c-4756649582b5\",\"type\":\"Range1d\"},{\"attributes\":{},\"id\":\"ef150229-8b00-44a1-8e2f-01a2419a3aaf\",\"type\":\"LinearScale\"},{\"attributes\":{\"callback\":null,\"end\":0.01,\"start\":1020},\"id\":\"5c034f24-975e-46c7-82a2-5381e97687eb\",\"type\":\"Range1d\"},{\"attributes\":{\"fill_alpha\":{\"value\":0.1},\"fill_color\":{\"value\":\"#1f77b4\"},\"line_alpha\":{\"value\":0.1},\"line_color\":{\"value\":\"#1f77b4\"},\"x\":{\"field\":\"x\"},\"y\":{\"field\":\"y\"}},\"id\":\"caf6f087-09d0-477f-b09d-d914fd8a6174\",\"type\":\"Circle\"},{\"attributes\":{\"plot\":null,\"text\":\"Log pressure scale\"},\"id\":\"8f07531b-5b20-448a-b6cc-a6377c1f1164\",\"type\":\"Title\"},{\"attributes\":{\"overlay\":{\"id\":\"0f064719-9265-4677-a4b9-4197c3f74e06\",\"type\":\"BoxAnnotation\"}},\"id\":\"38947191-b198-42ac-8ae8-baff0e378a48\",\"type\":\"BoxZoomTool\"},{\"attributes\":{\"fill_alpha\":{\"value\":0.7},\"fill_color\":{\"value\":\"#984ea3\"},\"line_alpha\":{\"value\":0.7},\"line_color\":{\"value\":\"#984ea3\"},\"x\":{\"field\":\"x\"},\"y\":{\"field\":\"y\"}},\"id\":\"1444302b-bb70-4699-8d84-393d33245541\",\"type\":\"Square\"},{\"attributes\":{},\"id\":\"e6c86f9c-0dc2-4948-89a5-5548bbe1cf2f\",\"type\":\"LogScale\"},{\"attributes\":{\"line_alpha\":0.1,\"line_color\":\"#1f77b4\",\"line_dash\":[6],\"line_width\":5,\"x\":{\"field\":\"x\"},\"y\":{\"field\":\"y\"}},\"id\":\"2676a013-08a2-454e-9f44-706e04415e9a\",\"type\":\"Line\"},{\"attributes\":{\"line_alpha\":0.1,\"line_color\":\"#1f77b4\",\"line_width\":1.5,\"x\":{\"field\":\"x\"},\"y\":{\"field\":\"y\"}},\"id\":\"4b06e12d-6e5c-4d69-b0dd-62b564cb1557\",\"type\":\"Line\"},{\"attributes\":{\"source\":{\"id\":\"433d6056-0973-4e3e-8605-21af20ce61c0\",\"type\":\"ColumnDataSource\"}},\"id\":\"e590e479-4c69-4e97-8062-33b570a2a820\",\"type\":\"CDSView\"},{\"attributes\":{\"callback\":null,\"end\":0.01,\"start\":1020},\"id\":\"2c10e6fd-7ad3-4c54-95a5-29aa8ac26c8c\",\"type\":\"Range1d\"},{\"attributes\":{\"line_alpha\":0.1,\"line_color\":\"#1f77b4\",\"line_dash\":[6],\"line_width\":5,\"x\":{\"field\":\"x\"},\"y\":{\"field\":\"y\"}},\"id\":\"4259634d-5328-4285-b68d-f544d45ae559\",\"type\":\"Line\"},{\"attributes\":{},\"id\":\"0c284c36-c177-45c2-8d28-a0a07dbc1925\",\"type\":\"WheelZoomTool\"},{\"attributes\":{},\"id\":\"a9941f5b-204c-40b8-929f-cfc5f65a3085\",\"type\":\"Selection\"},{\"attributes\":{\"line_color\":\"#4daf4a\",\"line_width\":1.5,\"x\":{\"field\":\"x\"},\"y\":{\"field\":\"y\"}},\"id\":\"7600dfa1-c075-4c88-af16-29d84f972790\",\"type\":\"Line\"},{\"attributes\":{\"active_drag\":\"auto\",\"active_inspect\":\"auto\",\"active_scroll\":\"auto\",\"active_tap\":\"auto\",\"tools\":[{\"id\":\"2e393bce-0b6d-457a-95dc-157962811421\",\"type\":\"PanTool\"},{\"id\":\"0c284c36-c177-45c2-8d28-a0a07dbc1925\",\"type\":\"WheelZoomTool\"},{\"id\":\"38947191-b198-42ac-8ae8-baff0e378a48\",\"type\":\"BoxZoomTool\"},{\"id\":\"be5ef793-fb0b-43c3-868d-3a321a1ca9d0\",\"type\":\"SaveTool\"},{\"id\":\"acc50c2e-03e1-4707-9f9b-6899b34c002c\",\"type\":\"ResetTool\"},{\"id\":\"eb6306ef-ae2d-4433-8938-c5f14df95154\",\"type\":\"HelpTool\"}]},\"id\":\"d64ffcc9-370e-4625-95e0-1213cd5d72c6\",\"type\":\"Toolbar\"},{\"attributes\":{\"items\":[{\"id\":\"66e28b22-816c-474e-b6c1-c8820531826d\",\"type\":\"LegendItem\"},{\"id\":\"0e80f3b9-6104-4c87-b1e8-2f3bdee66afd\",\"type\":\"LegendItem\"},{\"id\":\"35fdf458-a817-450e-81cd-f2e320f3397e\",\"type\":\"LegendItem\"}],\"label_text_font_size\":{\"value\":\"8pt\"},\"location\":[10,-30],\"plot\":{\"id\":\"28e44d3f-dbae-4ec3-9c5b-522f9a9ab2ad\",\"subtype\":\"Figure\",\"type\":\"Plot\"}},\"id\":\"5d694f16-7c30-4465-9511-b9b3d1e0228f\",\"type\":\"Legend\"},{\"attributes\":{\"source\":{\"id\":\"f3f154ed-f724-453c-afae-9018ce001a1c\",\"type\":\"ColumnDataSource\"}},\"id\":\"e7f661f0-b390-472a-b82e-b6daec1cd5c1\",\"type\":\"CDSView\"},{\"attributes\":{\"axis_label\":\"cooling rate [K/day]\",\"formatter\":{\"id\":\"702e174a-45a2-4dc0-9222-659efafea368\",\"type\":\"BasicTickFormatter\"},\"plot\":{\"id\":\"28e44d3f-dbae-4ec3-9c5b-522f9a9ab2ad\",\"subtype\":\"Figure\",\"type\":\"Plot\"},\"ticker\":{\"id\":\"3e5ad023-5538-4c23-89bb-4713c68f0046\",\"type\":\"BasicTicker\"}},\"id\":\"9a4482b9-c0e1-4ff3-b787-a0f969e39791\",\"type\":\"LinearAxis\"},{\"attributes\":{\"fill_alpha\":{\"value\":0.1},\"fill_color\":{\"value\":\"#1f77b4\"},\"line_alpha\":{\"value\":0.1},\"line_color\":{\"value\":\"#1f77b4\"},\"x\":{\"field\":\"x\"},\"y\":{\"field\":\"y\"}},\"id\":\"87b45cbd-6d5b-422d-b79b-9eb7173c70da\",\"type\":\"Square\"},{\"attributes\":{\"callback\":null,\"data\":{\"x\":{\"__ndarray__\":\"3st9chTwFUAR4zWv6nwRQHjPJiyWtw9AG1merL1EDEBLsDic+cUIQLIIap1dYwVAMi/RapI5AkAcbEX2nK/+P5grKLEQgvk/7OsKxz3n9D8MKZpiadvwP0j0Ovstruo/G3Wd276G5D+cLHsz5sXdPxJezOA55dc/LEgSCGTE1z/CsJFesyDYP/ifBE+EAdg/BJWOxXhF2D8xCTgA8lDZP4K5ioNTuNs/yMX/uibm3z8z1A+H+IngPyOIbzhex98/KNGSx9Oy3j9qykbOX/TcP0Eg4cUMXts/8KXwoNn12T/nT+EpYJLYP169q5r3Ktc/jboxmBq81T8dkns2gj/UP1Ao+jIHt9I/UhnWv7FI0T9ktp4ADkrNP43yaaGmjsQ/hx6tQcoVuj+WFVg6/o+8P3LN9H3+HMU/Q5SrL331yz8wA75wIS7WP6T7OQX5eeY/alUBra+k8D9cXhSYqQT0P6FAjpw70PQ/MeR9wROf8z+4nnzVJX7xP+waiMDs2e0/CFLvyqqf5z/0F5vS0XziPzhwIIc109s/7pfLHWjL0z/yNC5Ws1LKPxyxecm9SMA/C4M3RuD/sj+S/dqXv4SlP5cNNYFXCJk/Ie8dgbQJkD8AeC3pdJWIP1aNgRxk94g/BBdjFI+BkD8qnhV520qWP2TQx4Sx6JY/yRkdn6+qjT9i6B0WhqJqPxucM6PZXHS/unjZHbQRfr+1OPb75Hlzv/Y5mVwuWVO//zoExUA0Uj+IzO1CmWRhP6b0frKRg2Q/kFu0xVPdZD+gnZJ+QsdkP5t60PgtVrE/\",\"dtype\":\"float64\",\"shape\":[75]},\"y\":{\"__ndarray__\":\"GhExyth1ND/Sv8nbtpRIP2vylNV0PVE/aTum7souWD/At0SJ8fVgPw3Iuahxymc/MSNhhJWvcD/bTfBN02d3P2zb5nxnaoA/CD5h5MAGhz8NmeH1TyaQP+zrCsc9p5Y/LbKd76fGnz/bLW5ISEmmPww9YvTcQq8/JV2OstnstT8Er5Y7M8G+P0c+r3jqkcU/5h99k6ZBzj88bCIzFzjVP4enV8oyxN0//yH99nXg5D8qOpLLf0jtP5kqGJXUifQ/c9cS8kHP/D+/DpwzojQEQIEmwoanVwxA4lgXt9HgE0BSSZ2AJuIbQAMJih9jjiNA5q4l5INuK0AwTKYKRj0zQNv5fmq8/DpAaCJseHrtQkB/+zpwzoxKQM3MzMzMeFJAZmZmZmZqWEAAAAAAAFxeQM3MzMzMJmJAmpmZmZkfZUBmZmZmZhhoQDMzMzMzEWtAAAAAAAAKbkBmZmZmZoFwQM3MzMzM/XFAMzMzMzN6c0CamZmZmfZ0QAAAAAAAc3ZAZmZmZmbvd0DNzMzMzGt5QDMzMzMz6HpAmpmZmZlkfEAAAAAAAOF9QGZmZmZmXX9AZmZmZuZsgECamZmZGSuBQM3MzMxM6YFAAAAAAICngkAzMzMzs2WDQGZmZmbmI4RAmpmZmRnihEDNzMzMTKCFQAAAAACAXoZAMzMzM7Mch0BmZmZm5tqHQJqZmZkZmYhAzczMzExXiUAAAAAAgBWKQDMzMzOz04pAZmZmZuaRi0CamZmZGVCMQM3MzMxMDo1AAAAAAIDMjUAzMzMzs4qOQGZmZmbmSI9A\",\"dtype\":\"float64\",\"shape\":[75]}},\"selected\":{\"id\":\"a9941f5b-204c-40b8-929f-cfc5f65a3085\",\"type\":\"Selection\"},\"selection_policy\":{\"id\":\"16bab806-a850-4824-8cc2-733f9e3d75fa\",\"type\":\"UnionRenderers\"}},\"id\":\"f3f154ed-f724-453c-afae-9018ce001a1c\",\"type\":\"ColumnDataSource\"},{\"attributes\":{\"source\":{\"id\":\"ea8c9fb4-1fb0-4d52-be30-7a6594c517d6\",\"type\":\"ColumnDataSource\"}},\"id\":\"0b83f6c2-0695-40d5-b218-c0c35fbddc27\",\"type\":\"CDSView\"},{\"attributes\":{\"line_alpha\":0.1,\"line_color\":\"#1f77b4\",\"line_width\":3,\"x\":{\"field\":\"x\"},\"y\":{\"field\":\"y\"}},\"id\":\"abe821e5-20a8-4191-a5b3-a5ffa9dafb8c\",\"type\":\"Line\"},{\"attributes\":{\"fill_alpha\":{\"value\":0.1},\"fill_color\":{\"value\":\"#1f77b4\"},\"line_alpha\":{\"value\":0.1},\"line_color\":{\"value\":\"#1f77b4\"},\"x\":{\"field\":\"x\"},\"y\":{\"field\":\"y\"}},\"id\":\"1156da02-2553-4c7a-b1a6-121f862ab85c\",\"type\":\"Circle\"},{\"attributes\":{\"source\":{\"id\":\"7e74b107-14dc-4c4a-abf1-0a657e6ba2c3\",\"type\":\"ColumnDataSource\"}},\"id\":\"d189d6f0-0d4b-47c0-9145-c3bc97cd3859\",\"type\":\"CDSView\"},{\"attributes\":{},\"id\":\"4474a527-5c4e-4dc7-b446-7f9f989011ff\",\"type\":\"LinearScale\"},{\"attributes\":{\"below\":[{\"id\":\"3d344e7f-235c-4b3b-967a-14f1ec93ee06\",\"type\":\"LinearAxis\"}],\"left\":[{\"id\":\"6b1411ca-b719-44dc-aa8c-c54033c27f5b\",\"type\":\"LinearAxis\"}],\"plot_height\":500,\"plot_width\":400,\"renderers\":[{\"id\":\"3d344e7f-235c-4b3b-967a-14f1ec93ee06\",\"type\":\"LinearAxis\"},{\"id\":\"cf568af1-0318-4875-a437-762583c8320f\",\"type\":\"Grid\"},{\"id\":\"6b1411ca-b719-44dc-aa8c-c54033c27f5b\",\"type\":\"LinearAxis\"},{\"id\":\"ec2485d4-d445-4a04-80b1-ae01851be687\",\"type\":\"Grid\"},{\"id\":\"ecec0c32-2fac-4a43-a710-7e6109689554\",\"type\":\"BoxAnnotation\"},{\"id\":\"2ec5e9de-505b-499b-bd74-10baf03ab9cb\",\"type\":\"GlyphRenderer\"},{\"id\":\"df63384a-e165-42cd-ae5d-d7bb36c05af4\",\"type\":\"GlyphRenderer\"},{\"id\":\"a178c45a-492e-4f87-860b-5b3bbe5c65c9\",\"type\":\"GlyphRenderer\"},{\"id\":\"92dfb76b-88b0-4ca9-8d53-2155facf9de8\",\"type\":\"GlyphRenderer\"},{\"id\":\"55730e06-134b-4127-8a35-c4d46ade7008\",\"type\":\"GlyphRenderer\"}],\"title\":{\"id\":\"2a4ba272-2350-49a2-bd1a-0f5fc71307e3\",\"type\":\"Title\"},\"toolbar\":{\"id\":\"aa60d8b1-a106-453f-a336-559ae0f697ef\",\"type\":\"Toolbar\"},\"toolbar_location\":null,\"x_range\":{\"id\":\"704868d1-f44d-4f6a-be27-be0027fbd4c0\",\"type\":\"Range1d\"},\"x_scale\":{\"id\":\"4474a527-5c4e-4dc7-b446-7f9f989011ff\",\"type\":\"LinearScale\"},\"y_range\":{\"id\":\"5c034f24-975e-46c7-82a2-5381e97687eb\",\"type\":\"Range1d\"},\"y_scale\":{\"id\":\"2f2c3d08-f1e4-47fe-a95d-cbbffcffc66e\",\"type\":\"LinearScale\"}},\"id\":\"9026aa9d-f5c6-4702-ac52-ff5c6f39a12e\",\"subtype\":\"Figure\",\"type\":\"Plot\"},{\"attributes\":{\"source\":{\"id\":\"832896ae-4913-4242-a33d-a7bef24f6602\",\"type\":\"ColumnDataSource\"}},\"id\":\"9c55b9ff-d47b-4a6d-a6d2-ba05decea697\",\"type\":\"CDSView\"},{\"attributes\":{\"children\":[{\"id\":\"59ee7541-1f2d-4dd3-a5d4-380425e339de\",\"type\":\"Row\"}]},\"id\":\"f386ec53-1354-4a96-83b4-0137f6ac3563\",\"type\":\"Column\"},{\"attributes\":{\"data_source\":{\"id\":\"7e74b107-14dc-4c4a-abf1-0a657e6ba2c3\",\"type\":\"ColumnDataSource\"},\"glyph\":{\"id\":\"79f1ef4c-088f-4d2c-b8bc-df225936936d\",\"type\":\"Square\"},\"hover_glyph\":null,\"muted_glyph\":null,\"nonselection_glyph\":{\"id\":\"3b4591a9-5205-4635-bb08-dbfa5c8f1f30\",\"type\":\"Square\"},\"selection_glyph\":null,\"view\":{\"id\":\"d189d6f0-0d4b-47c0-9145-c3bc97cd3859\",\"type\":\"CDSView\"}},\"id\":\"cd56ebcb-6e38-4ee0-acca-46c7115a7c18\",\"type\":\"GlyphRenderer\"},{\"attributes\":{},\"id\":\"0395b808-a846-430c-b15f-b561538b9da3\",\"type\":\"PanTool\"},{\"attributes\":{},\"id\":\"1a2f8fb8-f268-4319-8b8f-ff0b1dfec717\",\"type\":\"SaveTool\"},{\"attributes\":{\"axis_label\":\"pressure [mb]\",\"formatter\":{\"id\":\"10addbf9-76db-4be9-ab21-84189e253848\",\"type\":\"BasicTickFormatter\"},\"plot\":{\"id\":\"9026aa9d-f5c6-4702-ac52-ff5c6f39a12e\",\"subtype\":\"Figure\",\"type\":\"Plot\"},\"ticker\":{\"id\":\"6fd33efb-228f-4d62-84d3-4f348dea3972\",\"type\":\"BasicTicker\"}},\"id\":\"6b1411ca-b719-44dc-aa8c-c54033c27f5b\",\"type\":\"LinearAxis\"},{\"attributes\":{\"plot\":{\"id\":\"9026aa9d-f5c6-4702-ac52-ff5c6f39a12e\",\"subtype\":\"Figure\",\"type\":\"Plot\"},\"ticker\":{\"id\":\"66be09a4-b6f3-4d8b-89c8-7a52ffb8439a\",\"type\":\"BasicTicker\"}},\"id\":\"cf568af1-0318-4875-a437-762583c8320f\",\"type\":\"Grid\"},{\"attributes\":{\"callback\":null,\"data\":{\"x\":{\"__ndarray__\":\"3st9chTwFUAR4zWv6nwRQHjPJiyWtw9AG1merL1EDEBLsDic+cUIQLIIap1dYwVAMi/RapI5AkAcbEX2nK/+P5grKLEQgvk/7OsKxz3n9D8MKZpiadvwP0j0Ovstruo/G3Wd276G5D+cLHsz5sXdPxJezOA55dc/LEgSCGTE1z/CsJFesyDYP/ifBE+EAdg/BJWOxXhF2D8xCTgA8lDZP4K5ioNTuNs/yMX/uibm3z8z1A+H+IngPyOIbzhex98/KNGSx9Oy3j9qykbOX/TcP0Eg4cUMXts/8KXwoNn12T/nT+EpYJLYP169q5r3Ktc/jboxmBq81T8dkns2gj/UP1Ao+jIHt9I/UhnWv7FI0T9ktp4ADkrNP43yaaGmjsQ/hx6tQcoVuj+WFVg6/o+8P3LN9H3+HMU/Q5SrL331yz8wA75wIS7WP6T7OQX5eeY/alUBra+k8D9cXhSYqQT0P6FAjpw70PQ/MeR9wROf8z+4nnzVJX7xP+waiMDs2e0/CFLvyqqf5z/0F5vS0XziPzhwIIc109s/7pfLHWjL0z/yNC5Ws1LKPxyxecm9SMA/C4M3RuD/sj+S/dqXv4SlP5cNNYFXCJk/Ie8dgbQJkD8AeC3pdJWIP1aNgRxk94g/BBdjFI+BkD8qnhV520qWP2TQx4Sx6JY/yRkdn6+qjT9i6B0WhqJqPxucM6PZXHS/unjZHbQRfr+1OPb75Hlzv/Y5mVwuWVO//zoExUA0Uj+IzO1CmWRhP6b0frKRg2Q/kFu0xVPdZD+gnZJ+QsdkP5t60PgtVrE/\",\"dtype\":\"float64\",\"shape\":[75]},\"y\":{\"__ndarray__\":\"GhExyth1ND/Sv8nbtpRIP2vylNV0PVE/aTum7souWD/At0SJ8fVgPw3Iuahxymc/MSNhhJWvcD/bTfBN02d3P2zb5nxnaoA/CD5h5MAGhz8NmeH1TyaQP+zrCsc9p5Y/LbKd76fGnz/bLW5ISEmmPww9YvTcQq8/JV2OstnstT8Er5Y7M8G+P0c+r3jqkcU/5h99k6ZBzj88bCIzFzjVP4enV8oyxN0//yH99nXg5D8qOpLLf0jtP5kqGJXUifQ/c9cS8kHP/D+/DpwzojQEQIEmwoanVwxA4lgXt9HgE0BSSZ2AJuIbQAMJih9jjiNA5q4l5INuK0AwTKYKRj0zQNv5fmq8/DpAaCJseHrtQkB/+zpwzoxKQM3MzMzMeFJAZmZmZmZqWEAAAAAAAFxeQM3MzMzMJmJAmpmZmZkfZUBmZmZmZhhoQDMzMzMzEWtAAAAAAAAKbkBmZmZmZoFwQM3MzMzM/XFAMzMzMzN6c0CamZmZmfZ0QAAAAAAAc3ZAZmZmZmbvd0DNzMzMzGt5QDMzMzMz6HpAmpmZmZlkfEAAAAAAAOF9QGZmZmZmXX9AZmZmZuZsgECamZmZGSuBQM3MzMxM6YFAAAAAAICngkAzMzMzs2WDQGZmZmbmI4RAmpmZmRnihEDNzMzMTKCFQAAAAACAXoZAMzMzM7Mch0BmZmZm5tqHQJqZmZkZmYhAzczMzExXiUAAAAAAgBWKQDMzMzOz04pAZmZmZuaRi0CamZmZGVCMQM3MzMxMDo1AAAAAAIDMjUAzMzMzs4qOQGZmZmbmSI9A\",\"dtype\":\"float64\",\"shape\":[75]}},\"selected\":{\"id\":\"75374413-e170-4cb1-a770-afb2885184ca\",\"type\":\"Selection\"},\"selection_policy\":{\"id\":\"e7e6def1-91e9-4885-a560-2061cd05164c\",\"type\":\"UnionRenderers\"}},\"id\":\"35ac90a0-1139-442b-a9f3-4f834d0aedeb\",\"type\":\"ColumnDataSource\"},{\"attributes\":{\"bottom_units\":\"screen\",\"fill_alpha\":{\"value\":0.5},\"fill_color\":{\"value\":\"lightgrey\"},\"left_units\":\"screen\",\"level\":\"overlay\",\"line_alpha\":{\"value\":1.0},\"line_color\":{\"value\":\"black\"},\"line_dash\":[4,4],\"line_width\":{\"value\":2},\"plot\":null,\"render_mode\":\"css\",\"right_units\":\"screen\",\"top_units\":\"screen\"},\"id\":\"ecec0c32-2fac-4a43-a710-7e6109689554\",\"type\":\"BoxAnnotation\"},{\"attributes\":{\"data_source\":{\"id\":\"ea8c9fb4-1fb0-4d52-be30-7a6594c517d6\",\"type\":\"ColumnDataSource\"},\"glyph\":{\"id\":\"fdf36656-2a51-41ff-8df1-0a3db804ce2c\",\"type\":\"Line\"},\"hover_glyph\":null,\"muted_glyph\":null,\"nonselection_glyph\":{\"id\":\"abe821e5-20a8-4191-a5b3-a5ffa9dafb8c\",\"type\":\"Line\"},\"selection_glyph\":null,\"view\":{\"id\":\"0b83f6c2-0695-40d5-b218-c0c35fbddc27\",\"type\":\"CDSView\"}},\"id\":\"a7f1fe32-cd96-4b9a-956d-272ceb650ce5\",\"type\":\"GlyphRenderer\"},{\"attributes\":{\"fill_alpha\":{\"value\":0.7},\"fill_color\":{\"value\":\"#4daf4a\"},\"line_alpha\":{\"value\":0.7},\"line_color\":{\"value\":\"#4daf4a\"},\"x\":{\"field\":\"x\"},\"y\":{\"field\":\"y\"}},\"id\":\"b1c12c7b-52fb-4fdb-9744-178fb3058227\",\"type\":\"Circle\"},{\"attributes\":{\"callback\":null,\"data\":{\"x\":{\"__ndarray__\":\"WzRjhjxIDUBnuR4XmlQKQNyNq6t7HglAAOP+6ouTB0B0G1Db1rQFQE552tU0hANAucWXtLsYAUBImjjvoRr9PzbYIA48Gfg/QxZPEG2H8z8t5TygmVXvP3D10qZlMOk/6AlxJuo45D8O8i5m3jPfP18YgL7Q7dk/aaVC+fMG2T+z6rP81lHYP1c/SoFchNc/1aYrJZvS1z93TDxCEY7ZPzxZ7iGev9w/Sfr0E2fI4D/SG2ZB8dThPwivFpCr0OE/Gn5++1244T+Q5jlgQa/gP/yCjppap94/I2se3mj22z9DivYYN3LZPxCj8PgXv9c///xXAqyZ1j+43SzwZCnVP/mIwpLqptM/x0S8Lto80j/650FW5lrOP91uOd5bS8Q/cE5Rm6eKtz8/rx1HrKK5P3QiVQUX68M/wsUdI1v6yj+iU884G8XVP1q4prIOWeY/LqE4OX+Z8D+K1guKKUr0P/3oM0PfKvU/nQNvekSB8z/S86U5157xPy/hWw16Fu4/E+Z0ZgPh5j8svpb6FIzhPzZmTwCfz9o/UIDfhGdA0z9+MiY0oa/IP3Q3maFz77s/gryWWC/KrD8F3dpU8YidP6ZHTlrWmpE/oVQbh5fChz+x4pdIZtuEP/5HX8jPCoc/lKdR6Nncjz+Cv5uU9OuVP8RoCk+ep5Y/x8moEFhfjT/oNd7PkSpqPwF/BH6SdXS/+DmUAa8Zfr+e92GEtXxzv1C1DfrPXlO/WHWczacxUj9TJOEKCGRhP0wlHb4ig2Q/Dh5kngLdZD+xOG8988ZkPxiFaoUsVrE/\",\"dtype\":\"float64\",\"shape\":[75]},\"y\":{\"__ndarray__\":\"GhExyth1ND/Sv8nbtpRIP2vylNV0PVE/aTum7souWD/At0SJ8fVgPw3Iuahxymc/MSNhhJWvcD/bTfBN02d3P2zb5nxnaoA/CD5h5MAGhz8NmeH1TyaQP+zrCsc9p5Y/LbKd76fGnz/bLW5ISEmmPww9YvTcQq8/JV2OstnstT8Er5Y7M8G+P0c+r3jqkcU/5h99k6ZBzj88bCIzFzjVP4enV8oyxN0//yH99nXg5D8qOpLLf0jtP5kqGJXUifQ/c9cS8kHP/D+/DpwzojQEQIEmwoanVwxA4lgXt9HgE0BSSZ2AJuIbQAMJih9jjiNA5q4l5INuK0AwTKYKRj0zQNv5fmq8/DpAaCJseHrtQkB/+zpwzoxKQM3MzMzMeFJAZmZmZmZqWEAAAAAAAFxeQM3MzMzMJmJAmpmZmZkfZUBmZmZmZhhoQDMzMzMzEWtAAAAAAAAKbkBmZmZmZoFwQM3MzMzM/XFAMzMzMzN6c0CamZmZmfZ0QAAAAAAAc3ZAZmZmZmbvd0DNzMzMzGt5QDMzMzMz6HpAmpmZmZlkfEAAAAAAAOF9QGZmZmZmXX9AZmZmZuZsgECamZmZGSuBQM3MzMxM6YFAAAAAAICngkAzMzMzs2WDQGZmZmbmI4RAmpmZmRnihEDNzMzMTKCFQAAAAACAXoZAMzMzM7Mch0BmZmZm5tqHQJqZmZkZmYhAzczMzExXiUAAAAAAgBWKQDMzMzOz04pAZmZmZuaRi0CamZmZGVCMQM3MzMxMDo1AAAAAAIDMjUAzMzMzs4qOQGZmZmbmSI9A\",\"dtype\":\"float64\",\"shape\":[75]}},\"selected\":{\"id\":\"b0827c01-ed5c-40f9-b33c-2b372b0c5748\",\"type\":\"Selection\"},\"selection_policy\":{\"id\":\"6ba8faae-b290-45bb-b5c6-ae057d116153\",\"type\":\"UnionRenderers\"}},\"id\":\"7e74b107-14dc-4c4a-abf1-0a657e6ba2c3\",\"type\":\"ColumnDataSource\"},{\"attributes\":{\"source\":{\"id\":\"53e0a13f-85e0-494d-bcc1-360f62015a59\",\"type\":\"ColumnDataSource\"}},\"id\":\"fd620903-916f-4718-a1ee-34b191296cfc\",\"type\":\"CDSView\"},{\"attributes\":{\"line_alpha\":0.1,\"line_color\":\"#1f77b4\",\"line_width\":1.5,\"x\":{\"field\":\"x\"},\"y\":{\"field\":\"y\"}},\"id\":\"7c24ebd0-f464-4a83-882c-01b79d4e53d3\",\"type\":\"Line\"},{\"attributes\":{\"callback\":null,\"data\":{\"x\":{\"__ndarray__\":\"nN7F+3GbCUAgVJitqzgIQISpdwKrlAdA6Ugu/yGdBkCZVlQOdz8FQNXLlHsmcANASdAEL58xAUBdxNIbST39P55vVSMF4Pc/NK0D1mDw8j+edOgVywTuPz6TPxAHZug/RPzkpAcw5D/LkSEJ8wXgPwWwGq6Clto/uq+5WXLL2D9f4AOFiybXP7k0fuGV5NU/dm6YcAFL1j9cpxXPbifYP7IMNwEC7do/ayGOln/E3j9yPisfOD3gP9kMquw/e+A/iApZBmrL4D+VLS9M6KbfP1N0ZrPRVt0/xxsNnhF+2j/84lKVtrjXP+GskAsxS9Y/HURCxmlp1T/lhjoHKr7TP79/kLgJb9I/1ENVyGw70T8hwoVdkITMP77LHP31K8M/zfjnN4bftT8/etwahWK3P4qy8T99dMI/XCP+OMxdyT+bQ0qa3LvUP5joJELAreU//uhAe5o48D+1nzE474T0P+O4Qg4Ai/U/6vtfZLiQ8z8sxxrk5FTyP80w3iRAbO8/fTsuT4yR5z+alOWY6pHiP+czRSUaSd0/nJjDKOeP1D/fxXc5V1rIP3ZXe3qag7g/25oPMDz0pj8Z0i+x/HCXP7vvpsgSt40/AYLewImNhj/9KzwL4eGDP11dvabhPYY/U5y3cnVOjz9t51GqqruVP7n1gYFziJY/BAvmA5BHjT+kEAlmWhBqP2bR2Vj5hHS/fi7UytYUfr+kid0ZUm5zv4BTeElFp1O/g51LgspQUj+NtyVT/XphP7whQXxWVWQ/5LuXKdT0ZD+k0Ilv7tBkPyQERr//VLE/\",\"dtype\":\"float64\",\"shape\":[75]},\"y\":{\"__ndarray__\":\"S/O/Q+51ND/Sv8nbtpRIP2vylNV0PVE/aTum7souWD/At0SJ8fVgPw3Iuahxymc/MSNhhJWvcD/bTfBN02d3P2zb5nxnaoA/CD5h5MAGhz8NmeH1TyaQP+zrCsc9p5Y/LbKd76fGnz/bLW5ISEmmPww9YvTcQq8/JV2OstnstT8Er5Y7M8G+P0c+r3jqkcU/5h99k6ZBzj88bCIzFzjVP4enV8oyxN0//yH99nXg5D8qOpLLf0jtP5kqGJXUifQ/c9cS8kHP/D+/DpwzojQEQIEmwoanVwxA4lgXt9HgE0BSSZ2AJuIbQAMJih9jjiNA5q4l5INuK0AwTKYKRj0zQNv5fmq8/DpAaCJseHrtQkB/+zpwzoxKQM3MzMzMeFJAZmZmZmZqWEAAAAAAAFxeQM3MzMzMJmJAmpmZmZkfZUBmZmZmZhhoQDMzMzMzEWtAAAAAAAAKbkBmZmZmZoFwQM3MzMzM/XFAMzMzMzN6c0CamZmZmfZ0QAAAAAAAc3ZAZmZmZmbvd0DNzMzMzGt5QDMzMzMz6HpAmpmZmZlkfEAAAAAAAOF9QGZmZmZmXX9AZmZmZuZsgECamZmZGSuBQM3MzMxM6YFAAAAAAICngkAzMzMzs2WDQGZmZmbmI4RAmpmZmRnihEDNzMzMTKCFQAAAAACAXoZAMzMzM7Mch0BmZmZm5tqHQJqZmZkZmYhAzczMzExXiUAAAAAAgBWKQDMzMzOz04pAZmZmZuaRi0CamZmZGVCMQM3MzMxMDo1AAAAAAIDMjUAzMzMzs4qOQGZmZmbmSI9A\",\"dtype\":\"float64\",\"shape\":[75]}},\"selected\":{\"id\":\"c1d92889-35f9-408a-a803-eaa5f5d44ef5\",\"type\":\"Selection\"},\"selection_policy\":{\"id\":\"2ba99ded-2c85-422c-b6e4-1309c31281a6\",\"type\":\"UnionRenderers\"}},\"id\":\"53e0a13f-85e0-494d-bcc1-360f62015a59\",\"type\":\"ColumnDataSource\"},{\"attributes\":{\"callback\":null,\"data\":{\"x\":{\"__ndarray__\":\"WzRjhjxIDUBnuR4XmlQKQNyNq6t7HglAAOP+6ouTB0B0G1Db1rQFQE552tU0hANAucWXtLsYAUBImjjvoRr9PzbYIA48Gfg/QxZPEG2H8z8t5TygmVXvP3D10qZlMOk/6AlxJuo45D8O8i5m3jPfP18YgL7Q7dk/aaVC+fMG2T+z6rP81lHYP1c/SoFchNc/1aYrJZvS1z93TDxCEY7ZPzxZ7iGev9w/Sfr0E2fI4D/SG2ZB8dThPwivFpCr0OE/Gn5++1244T+Q5jlgQa/gP/yCjppap94/I2se3mj22z9DivYYN3LZPxCj8PgXv9c///xXAqyZ1j+43SzwZCnVP/mIwpLqptM/x0S8Lto80j/650FW5lrOP91uOd5bS8Q/cE5Rm6eKtz8/rx1HrKK5P3QiVQUX68M/wsUdI1v6yj+iU884G8XVP1q4prIOWeY/LqE4OX+Z8D+K1guKKUr0P/3oM0PfKvU/nQNvekSB8z/S86U5157xPy/hWw16Fu4/E+Z0ZgPh5j8svpb6FIzhPzZmTwCfz9o/UIDfhGdA0z9+MiY0oa/IP3Q3maFz77s/gryWWC/KrD8F3dpU8YidP6ZHTlrWmpE/oVQbh5fChz+x4pdIZtuEP/5HX8jPCoc/lKdR6Nncjz+Cv5uU9OuVP8RoCk+ep5Y/x8moEFhfjT/oNd7PkSpqPwF/BH6SdXS/+DmUAa8Zfr+e92GEtXxzv1C1DfrPXlO/WHWczacxUj9TJOEKCGRhP0wlHb4ig2Q/Dh5kngLdZD+xOG8988ZkPxiFaoUsVrE/\",\"dtype\":\"float64\",\"shape\":[75]},\"y\":{\"__ndarray__\":\"GhExyth1ND/Sv8nbtpRIP2vylNV0PVE/aTum7souWD/At0SJ8fVgPw3Iuahxymc/MSNhhJWvcD/bTfBN02d3P2zb5nxnaoA/CD5h5MAGhz8NmeH1TyaQP+zrCsc9p5Y/LbKd76fGnz/bLW5ISEmmPww9YvTcQq8/JV2OstnstT8Er5Y7M8G+P0c+r3jqkcU/5h99k6ZBzj88bCIzFzjVP4enV8oyxN0//yH99nXg5D8qOpLLf0jtP5kqGJXUifQ/c9cS8kHP/D+/DpwzojQEQIEmwoanVwxA4lgXt9HgE0BSSZ2AJuIbQAMJih9jjiNA5q4l5INuK0AwTKYKRj0zQNv5fmq8/DpAaCJseHrtQkB/+zpwzoxKQM3MzMzMeFJAZmZmZmZqWEAAAAAAAFxeQM3MzMzMJmJAmpmZmZkfZUBmZmZmZhhoQDMzMzMzEWtAAAAAAAAKbkBmZmZmZoFwQM3MzMzM/XFAMzMzMzN6c0CamZmZmfZ0QAAAAAAAc3ZAZmZmZmbvd0DNzMzMzGt5QDMzMzMz6HpAmpmZmZlkfEAAAAAAAOF9QGZmZmZmXX9AZmZmZuZsgECamZmZGSuBQM3MzMxM6YFAAAAAAICngkAzMzMzs2WDQGZmZmbmI4RAmpmZmRnihEDNzMzMTKCFQAAAAACAXoZAMzMzM7Mch0BmZmZm5tqHQJqZmZkZmYhAzczMzExXiUAAAAAAgBWKQDMzMzOz04pAZmZmZuaRi0CamZmZGVCMQM3MzMxMDo1AAAAAAIDMjUAzMzMzs4qOQGZmZmbmSI9A\",\"dtype\":\"float64\",\"shape\":[75]}},\"selected\":{\"id\":\"a1a1372c-c8bf-41ab-b077-e14bae39fb41\",\"type\":\"Selection\"},\"selection_policy\":{\"id\":\"494a972e-88aa-42c7-9165-ffe32fa31129\",\"type\":\"UnionRenderers\"}},\"id\":\"ea8c9fb4-1fb0-4d52-be30-7a6594c517d6\",\"type\":\"ColumnDataSource\"},{\"attributes\":{\"active_drag\":\"auto\",\"active_inspect\":\"auto\",\"active_scroll\":\"auto\",\"active_tap\":\"auto\",\"tools\":[{\"id\":\"0395b808-a846-430c-b15f-b561538b9da3\",\"type\":\"PanTool\"},{\"id\":\"2f664d79-97ee-4d44-a977-f6e000afb33d\",\"type\":\"WheelZoomTool\"},{\"id\":\"67a25580-0990-41c0-8b42-08dfa507aff6\",\"type\":\"BoxZoomTool\"},{\"id\":\"1a2f8fb8-f268-4319-8b8f-ff0b1dfec717\",\"type\":\"SaveTool\"},{\"id\":\"23a4194e-0c77-4f11-a188-521991262007\",\"type\":\"ResetTool\"},{\"id\":\"23d179bf-dcda-4047-8713-f394602dbfc2\",\"type\":\"HelpTool\"}]},\"id\":\"aa60d8b1-a106-453f-a336-559ae0f697ef\",\"type\":\"Toolbar\"},{\"attributes\":{\"plot\":null,\"text\":\"Linear pressure scale\"},\"id\":\"2a4ba272-2350-49a2-bd1a-0f5fc71307e3\",\"type\":\"Title\"},{\"attributes\":{\"source\":{\"id\":\"1a508638-6e10-4519-8e1f-7ae5f00a96fb\",\"type\":\"ColumnDataSource\"}},\"id\":\"7fe1d3d0-f0e9-4cad-ba56-f99f0fad3cc1\",\"type\":\"CDSView\"},{\"attributes\":{\"overlay\":{\"id\":\"ecec0c32-2fac-4a43-a710-7e6109689554\",\"type\":\"BoxAnnotation\"}},\"id\":\"67a25580-0990-41c0-8b42-08dfa507aff6\",\"type\":\"BoxZoomTool\"},{\"attributes\":{\"data_source\":{\"id\":\"53e0a13f-85e0-494d-bcc1-360f62015a59\",\"type\":\"ColumnDataSource\"},\"glyph\":{\"id\":\"440eb587-0914-4606-b037-82b35a78de3d\",\"type\":\"Line\"},\"hover_glyph\":null,\"muted_glyph\":null,\"nonselection_glyph\":{\"id\":\"2676a013-08a2-454e-9f44-706e04415e9a\",\"type\":\"Line\"},\"selection_glyph\":null,\"view\":{\"id\":\"fd620903-916f-4718-a1ee-34b191296cfc\",\"type\":\"CDSView\"}},\"id\":\"4df3fcdb-b604-4847-9665-775afbba5787\",\"type\":\"GlyphRenderer\"},{\"attributes\":{\"children\":[{\"id\":\"9026aa9d-f5c6-4702-ac52-ff5c6f39a12e\",\"subtype\":\"Figure\",\"type\":\"Plot\"},{\"id\":\"28e44d3f-dbae-4ec3-9c5b-522f9a9ab2ad\",\"subtype\":\"Figure\",\"type\":\"Plot\"}]},\"id\":\"59ee7541-1f2d-4dd3-a5d4-380425e339de\",\"type\":\"Row\"},{\"attributes\":{\"line_alpha\":0.6,\"line_color\":\"#e41a1c\",\"line_dash\":[6],\"line_width\":5,\"x\":{\"field\":\"x\"},\"y\":{\"field\":\"y\"}},\"id\":\"13534faa-9ef1-4a2c-84ac-1025d3a2392d\",\"type\":\"Line\"},{\"attributes\":{\"line_alpha\":0.1,\"line_color\":\"#1f77b4\",\"line_width\":3,\"x\":{\"field\":\"x\"},\"y\":{\"field\":\"y\"}},\"id\":\"70fa93f6-8790-4499-925e-2f1219cf2bb2\",\"type\":\"Line\"},{\"attributes\":{\"line_alpha\":0.6,\"line_color\":\"#984ea3\",\"line_width\":3,\"x\":{\"field\":\"x\"},\"y\":{\"field\":\"y\"}},\"id\":\"fdf36656-2a51-41ff-8df1-0a3db804ce2c\",\"type\":\"Line\"},{\"attributes\":{},\"id\":\"23a4194e-0c77-4f11-a188-521991262007\",\"type\":\"ResetTool\"},{\"attributes\":{\"data_source\":{\"id\":\"ee36e52c-3180-40bf-9d26-6fa156f8d6e3\",\"type\":\"ColumnDataSource\"},\"glyph\":{\"id\":\"0ad375e5-f4a6-4766-8f74-7bef9488b602\",\"type\":\"Circle\"},\"hover_glyph\":null,\"muted_glyph\":null,\"nonselection_glyph\":{\"id\":\"1156da02-2553-4c7a-b1a6-121f862ab85c\",\"type\":\"Circle\"},\"selection_glyph\":null,\"view\":{\"id\":\"e952a391-e43e-4b28-bc6a-72ae6f61caeb\",\"type\":\"CDSView\"}},\"id\":\"acbc829e-a3e9-45d3-a5b2-581ae0a63969\",\"type\":\"GlyphRenderer\"},{\"attributes\":{},\"id\":\"7ca86e5f-a87a-4895-8f54-e75d12c6c4e9\",\"type\":\"BasicTickFormatter\"},{\"attributes\":{\"label\":{\"value\":\"CLIRAD `coolr_bands`\"},\"renderers\":[{\"id\":\"4df3fcdb-b604-4847-9665-775afbba5787\",\"type\":\"GlyphRenderer\"}]},\"id\":\"66e28b22-816c-474e-b6c1-c8820531826d\",\"type\":\"LegendItem\"},{\"attributes\":{\"source\":{\"id\":\"ee36e52c-3180-40bf-9d26-6fa156f8d6e3\",\"type\":\"ColumnDataSource\"}},\"id\":\"e952a391-e43e-4b28-bc6a-72ae6f61caeb\",\"type\":\"CDSView\"},{\"attributes\":{},\"id\":\"cda86305-2bac-4497-92c7-eeec5ccfd525\",\"type\":\"UnionRenderers\"},{\"attributes\":{\"callback\":null,\"data\":{\"x\":{\"__ndarray__\":\"nN7F+3GbCUAgVJitqzgIQISpdwKrlAdA6Ugu/yGdBkCZVlQOdz8FQNXLlHsmcANASdAEL58xAUBdxNIbST39P55vVSMF4Pc/NK0D1mDw8j+edOgVywTuPz6TPxAHZug/RPzkpAcw5D/LkSEJ8wXgPwWwGq6Clto/uq+5WXLL2D9f4AOFiybXP7k0fuGV5NU/dm6YcAFL1j9cpxXPbifYP7IMNwEC7do/ayGOln/E3j9yPisfOD3gP9kMquw/e+A/iApZBmrL4D+VLS9M6KbfP1N0ZrPRVt0/xxsNnhF+2j/84lKVtrjXP+GskAsxS9Y/HURCxmlp1T/lhjoHKr7TP79/kLgJb9I/1ENVyGw70T8hwoVdkITMP77LHP31K8M/zfjnN4bftT8/etwahWK3P4qy8T99dMI/XCP+OMxdyT+bQ0qa3LvUP5joJELAreU//uhAe5o48D+1nzE474T0P+O4Qg4Ai/U/6vtfZLiQ8z8sxxrk5FTyP80w3iRAbO8/fTsuT4yR5z+alOWY6pHiP+czRSUaSd0/nJjDKOeP1D/fxXc5V1rIP3ZXe3qag7g/25oPMDz0pj8Z0i+x/HCXP7vvpsgSt40/AYLewImNhj/9KzwL4eGDP11dvabhPYY/U5y3cnVOjz9t51GqqruVP7n1gYFziJY/BAvmA5BHjT+kEAlmWhBqP2bR2Vj5hHS/fi7UytYUfr+kid0ZUm5zv4BTeElFp1O/g51LgspQUj+NtyVT/XphP7whQXxWVWQ/5LuXKdT0ZD+k0Ilv7tBkPyQERr//VLE/\",\"dtype\":\"float64\",\"shape\":[75]},\"y\":{\"__ndarray__\":\"S/O/Q+51ND/Sv8nbtpRIP2vylNV0PVE/aTum7souWD/At0SJ8fVgPw3Iuahxymc/MSNhhJWvcD/bTfBN02d3P2zb5nxnaoA/CD5h5MAGhz8NmeH1TyaQP+zrCsc9p5Y/LbKd76fGnz/bLW5ISEmmPww9YvTcQq8/JV2OstnstT8Er5Y7M8G+P0c+r3jqkcU/5h99k6ZBzj88bCIzFzjVP4enV8oyxN0//yH99nXg5D8qOpLLf0jtP5kqGJXUifQ/c9cS8kHP/D+/DpwzojQEQIEmwoanVwxA4lgXt9HgE0BSSZ2AJuIbQAMJih9jjiNA5q4l5INuK0AwTKYKRj0zQNv5fmq8/DpAaCJseHrtQkB/+zpwzoxKQM3MzMzMeFJAZmZmZmZqWEAAAAAAAFxeQM3MzMzMJmJAmpmZmZkfZUBmZmZmZhhoQDMzMzMzEWtAAAAAAAAKbkBmZmZmZoFwQM3MzMzM/XFAMzMzMzN6c0CamZmZmfZ0QAAAAAAAc3ZAZmZmZmbvd0DNzMzMzGt5QDMzMzMz6HpAmpmZmZlkfEAAAAAAAOF9QGZmZmZmXX9AZmZmZuZsgECamZmZGSuBQM3MzMxM6YFAAAAAAICngkAzMzMzs2WDQGZmZmbmI4RAmpmZmRnihEDNzMzMTKCFQAAAAACAXoZAMzMzM7Mch0BmZmZm5tqHQJqZmZkZmYhAzczMzExXiUAAAAAAgBWKQDMzMzOz04pAZmZmZuaRi0CamZmZGVCMQM3MzMxMDo1AAAAAAIDMjUAzMzMzs4qOQGZmZmbmSI9A\",\"dtype\":\"float64\",\"shape\":[75]}},\"selected\":{\"id\":\"1dd63374-1bbe-4443-8c09-45f11a5a7842\",\"type\":\"Selection\"},\"selection_policy\":{\"id\":\"62c1ee85-d637-4ea7-b930-42de9526e905\",\"type\":\"UnionRenderers\"}},\"id\":\"832896ae-4913-4242-a33d-a7bef24f6602\",\"type\":\"ColumnDataSource\"},{\"attributes\":{\"label\":{\"value\":\"CRD\"},\"renderers\":[{\"id\":\"acbc829e-a3e9-45d3-a5b2-581ae0a63969\",\"type\":\"GlyphRenderer\"},{\"id\":\"8bd635d1-0c34-437c-8864-4925d81a925a\",\"type\":\"GlyphRenderer\"}]},\"id\":\"0e80f3b9-6104-4c87-b1e8-2f3bdee66afd\",\"type\":\"LegendItem\"},{\"attributes\":{},\"id\":\"c1d92889-35f9-408a-a803-eaa5f5d44ef5\",\"type\":\"Selection\"},{\"attributes\":{\"label\":{\"value\":\"WGT igg=10 wgt_flux=2\"},\"renderers\":[{\"id\":\"cd56ebcb-6e38-4ee0-acca-46c7115a7c18\",\"type\":\"GlyphRenderer\"},{\"id\":\"a7f1fe32-cd96-4b9a-956d-272ceb650ce5\",\"type\":\"GlyphRenderer\"}]},\"id\":\"35fdf458-a817-450e-81cd-f2e320f3397e\",\"type\":\"LegendItem\"},{\"attributes\":{},\"id\":\"cae55cd4-2b4b-484a-96c2-5d0f3099d6cb\",\"type\":\"Selection\"},{\"attributes\":{\"ticker\":null},\"id\":\"01702115-ca35-48a8-b106-dc499d9df835\",\"type\":\"LogTickFormatter\"},{\"attributes\":{\"line_color\":\"#4daf4a\",\"line_width\":1.5,\"x\":{\"field\":\"x\"},\"y\":{\"field\":\"y\"}},\"id\":\"08dd3764-67de-4350-8cd9-0139753a8194\",\"type\":\"Line\"},{\"attributes\":{},\"id\":\"10addbf9-76db-4be9-ab21-84189e253848\",\"type\":\"BasicTickFormatter\"},{\"attributes\":{},\"id\":\"702e174a-45a2-4dc0-9222-659efafea368\",\"type\":\"BasicTickFormatter\"},{\"attributes\":{},\"id\":\"62c1ee85-d637-4ea7-b930-42de9526e905\",\"type\":\"UnionRenderers\"},{\"attributes\":{\"fill_alpha\":{\"value\":0.7},\"fill_color\":{\"value\":\"#4daf4a\"},\"line_alpha\":{\"value\":0.7},\"line_color\":{\"value\":\"#4daf4a\"},\"x\":{\"field\":\"x\"},\"y\":{\"field\":\"y\"}},\"id\":\"0ad375e5-f4a6-4766-8f74-7bef9488b602\",\"type\":\"Circle\"},{\"attributes\":{},\"id\":\"8eada94a-3772-4eda-a339-fbf85eae5f3b\",\"type\":\"Selection\"},{\"attributes\":{},\"id\":\"acc50c2e-03e1-4707-9f9b-6899b34c002c\",\"type\":\"ResetTool\"},{\"attributes\":{\"data_source\":{\"id\":\"35ac90a0-1139-442b-a9f3-4f834d0aedeb\",\"type\":\"ColumnDataSource\"},\"glyph\":{\"id\":\"08dd3764-67de-4350-8cd9-0139753a8194\",\"type\":\"Line\"},\"hover_glyph\":null,\"muted_glyph\":null,\"nonselection_glyph\":{\"id\":\"7c24ebd0-f464-4a83-882c-01b79d4e53d3\",\"type\":\"Line\"},\"selection_glyph\":null,\"view\":{\"id\":\"9048c590-ae23-41fa-8318-8ad18928cb29\",\"type\":\"CDSView\"}},\"id\":\"8bd635d1-0c34-437c-8864-4925d81a925a\",\"type\":\"GlyphRenderer\"},{\"attributes\":{},\"id\":\"7b2d122a-f9a6-45e2-a4c2-6d1c4f898b74\",\"type\":\"Selection\"},{\"attributes\":{\"callback\":null,\"data\":{\"x\":{\"__ndarray__\":\"3st9chTwFUAR4zWv6nwRQHjPJiyWtw9AG1merL1EDEBLsDic+cUIQLIIap1dYwVAMi/RapI5AkAcbEX2nK/+P5grKLEQgvk/7OsKxz3n9D8MKZpiadvwP0j0Ovstruo/G3Wd276G5D+cLHsz5sXdPxJezOA55dc/LEgSCGTE1z/CsJFesyDYP/ifBE+EAdg/BJWOxXhF2D8xCTgA8lDZP4K5ioNTuNs/yMX/uibm3z8z1A+H+IngPyOIbzhex98/KNGSx9Oy3j9qykbOX/TcP0Eg4cUMXts/8KXwoNn12T/nT+EpYJLYP169q5r3Ktc/jboxmBq81T8dkns2gj/UP1Ao+jIHt9I/UhnWv7FI0T9ktp4ADkrNP43yaaGmjsQ/hx6tQcoVuj+WFVg6/o+8P3LN9H3+HMU/Q5SrL331yz8wA75wIS7WP6T7OQX5eeY/alUBra+k8D9cXhSYqQT0P6FAjpw70PQ/MeR9wROf8z+4nnzVJX7xP+waiMDs2e0/CFLvyqqf5z/0F5vS0XziPzhwIIc109s/7pfLHWjL0z/yNC5Ws1LKPxyxecm9SMA/C4M3RuD/sj+S/dqXv4SlP5cNNYFXCJk/Ie8dgbQJkD8AeC3pdJWIP1aNgRxk94g/BBdjFI+BkD8qnhV520qWP2TQx4Sx6JY/yRkdn6+qjT9i6B0WhqJqPxucM6PZXHS/unjZHbQRfr+1OPb75Hlzv/Y5mVwuWVO//zoExUA0Uj+IzO1CmWRhP6b0frKRg2Q/kFu0xVPdZD+gnZJ+QsdkP5t60PgtVrE/\",\"dtype\":\"float64\",\"shape\":[75]},\"y\":{\"__ndarray__\":\"GhExyth1ND/Sv8nbtpRIP2vylNV0PVE/aTum7souWD/At0SJ8fVgPw3Iuahxymc/MSNhhJWvcD/bTfBN02d3P2zb5nxnaoA/CD5h5MAGhz8NmeH1TyaQP+zrCsc9p5Y/LbKd76fGnz/bLW5ISEmmPww9YvTcQq8/JV2OstnstT8Er5Y7M8G+P0c+r3jqkcU/5h99k6ZBzj88bCIzFzjVP4enV8oyxN0//yH99nXg5D8qOpLLf0jtP5kqGJXUifQ/c9cS8kHP/D+/DpwzojQEQIEmwoanVwxA4lgXt9HgE0BSSZ2AJuIbQAMJih9jjiNA5q4l5INuK0AwTKYKRj0zQNv5fmq8/DpAaCJseHrtQkB/+zpwzoxKQM3MzMzMeFJAZmZmZmZqWEAAAAAAAFxeQM3MzMzMJmJAmpmZmZkfZUBmZmZmZhhoQDMzMzMzEWtAAAAAAAAKbkBmZmZmZoFwQM3MzMzM/XFAMzMzMzN6c0CamZmZmfZ0QAAAAAAAc3ZAZmZmZmbvd0DNzMzMzGt5QDMzMzMz6HpAmpmZmZlkfEAAAAAAAOF9QGZmZmZmXX9AZmZmZuZsgECamZmZGSuBQM3MzMxM6YFAAAAAAICngkAzMzMzs2WDQGZmZmbmI4RAmpmZmRnihEDNzMzMTKCFQAAAAACAXoZAMzMzM7Mch0BmZmZm5tqHQJqZmZkZmYhAzczMzExXiUAAAAAAgBWKQDMzMzOz04pAZmZmZuaRi0CamZmZGVCMQM3MzMxMDo1AAAAAAIDMjUAzMzMzs4qOQGZmZmbmSI9A\",\"dtype\":\"float64\",\"shape\":[75]}},\"selected\":{\"id\":\"f0cc0287-3d35-481e-ad92-093850ed42d8\",\"type\":\"Selection\"},\"selection_policy\":{\"id\":\"578a3739-50a2-4a0c-a376-55a45d0a4d11\",\"type\":\"UnionRenderers\"}},\"id\":\"ee36e52c-3180-40bf-9d26-6fa156f8d6e3\",\"type\":\"ColumnDataSource\"},{\"attributes\":{},\"id\":\"16bab806-a850-4824-8cc2-733f9e3d75fa\",\"type\":\"UnionRenderers\"},{\"attributes\":{},\"id\":\"1493bf0b-d593-4e52-82e7-0d7cf8822606\",\"type\":\"UnionRenderers\"},{\"attributes\":{},\"id\":\"2f664d79-97ee-4d44-a977-f6e000afb33d\",\"type\":\"WheelZoomTool\"},{\"attributes\":{\"line_alpha\":0.6,\"line_color\":\"#e41a1c\",\"line_dash\":[6],\"line_width\":5,\"x\":{\"field\":\"x\"},\"y\":{\"field\":\"y\"}},\"id\":\"440eb587-0914-4606-b037-82b35a78de3d\",\"type\":\"Line\"},{\"attributes\":{\"source\":{\"id\":\"35ac90a0-1139-442b-a9f3-4f834d0aedeb\",\"type\":\"ColumnDataSource\"}},\"id\":\"9048c590-ae23-41fa-8318-8ad18928cb29\",\"type\":\"CDSView\"},{\"attributes\":{\"fill_alpha\":{\"value\":0.1},\"fill_color\":{\"value\":\"#1f77b4\"},\"line_alpha\":{\"value\":0.1},\"line_color\":{\"value\":\"#1f77b4\"},\"x\":{\"field\":\"x\"},\"y\":{\"field\":\"y\"}},\"id\":\"3b4591a9-5205-4635-bb08-dbfa5c8f1f30\",\"type\":\"Square\"},{\"attributes\":{\"fill_alpha\":{\"value\":0.7},\"fill_color\":{\"value\":\"#984ea3\"},\"line_alpha\":{\"value\":0.7},\"line_color\":{\"value\":\"#984ea3\"},\"x\":{\"field\":\"x\"},\"y\":{\"field\":\"y\"}},\"id\":\"79f1ef4c-088f-4d2c-b8bc-df225936936d\",\"type\":\"Square\"},{\"attributes\":{},\"id\":\"75374413-e170-4cb1-a770-afb2885184ca\",\"type\":\"Selection\"},{\"attributes\":{\"data_source\":{\"id\":\"1a508638-6e10-4519-8e1f-7ae5f00a96fb\",\"type\":\"ColumnDataSource\"},\"glyph\":{\"id\":\"934c5073-8193-46b0-9aa0-31315b6a0358\",\"type\":\"Line\"},\"hover_glyph\":null,\"muted_glyph\":null,\"nonselection_glyph\":{\"id\":\"70fa93f6-8790-4499-925e-2f1219cf2bb2\",\"type\":\"Line\"},\"selection_glyph\":null,\"view\":{\"id\":\"7fe1d3d0-f0e9-4cad-ba56-f99f0fad3cc1\",\"type\":\"CDSView\"}},\"id\":\"55730e06-134b-4127-8a35-c4d46ade7008\",\"type\":\"GlyphRenderer\"},{\"attributes\":{},\"id\":\"2ba99ded-2c85-422c-b6e4-1309c31281a6\",\"type\":\"UnionRenderers\"},{\"attributes\":{},\"id\":\"23d179bf-dcda-4047-8713-f394602dbfc2\",\"type\":\"HelpTool\"},{\"attributes\":{},\"id\":\"f0cc0287-3d35-481e-ad92-093850ed42d8\",\"type\":\"Selection\"},{\"attributes\":{},\"id\":\"578a3739-50a2-4a0c-a376-55a45d0a4d11\",\"type\":\"UnionRenderers\"},{\"attributes\":{},\"id\":\"e7e6def1-91e9-4885-a560-2061cd05164c\",\"type\":\"UnionRenderers\"},{\"attributes\":{\"callback\":null,\"data\":{\"x\":{\"__ndarray__\":\"3st9chTwFUAR4zWv6nwRQHjPJiyWtw9AG1merL1EDEBLsDic+cUIQLIIap1dYwVAMi/RapI5AkAcbEX2nK/+P5grKLEQgvk/7OsKxz3n9D8MKZpiadvwP0j0Ovstruo/G3Wd276G5D+cLHsz5sXdPxJezOA55dc/LEgSCGTE1z/CsJFesyDYP/ifBE+EAdg/BJWOxXhF2D8xCTgA8lDZP4K5ioNTuNs/yMX/uibm3z8z1A+H+IngPyOIbzhex98/KNGSx9Oy3j9qykbOX/TcP0Eg4cUMXts/8KXwoNn12T/nT+EpYJLYP169q5r3Ktc/jboxmBq81T8dkns2gj/UP1Ao+jIHt9I/UhnWv7FI0T9ktp4ADkrNP43yaaGmjsQ/hx6tQcoVuj+WFVg6/o+8P3LN9H3+HMU/Q5SrL331yz8wA75wIS7WP6T7OQX5eeY/alUBra+k8D9cXhSYqQT0P6FAjpw70PQ/MeR9wROf8z+4nnzVJX7xP+waiMDs2e0/CFLvyqqf5z/0F5vS0XziPzhwIIc109s/7pfLHWjL0z/yNC5Ws1LKPxyxecm9SMA/C4M3RuD/sj+S/dqXv4SlP5cNNYFXCJk/Ie8dgbQJkD8AeC3pdJWIP1aNgRxk94g/BBdjFI+BkD8qnhV520qWP2TQx4Sx6JY/yRkdn6+qjT9i6B0WhqJqPxucM6PZXHS/unjZHbQRfr+1OPb75Hlzv/Y5mVwuWVO//zoExUA0Uj+IzO1CmWRhP6b0frKRg2Q/kFu0xVPdZD+gnZJ+QsdkP5t60PgtVrE/\",\"dtype\":\"float64\",\"shape\":[75]},\"y\":{\"__ndarray__\":\"GhExyth1ND/Sv8nbtpRIP2vylNV0PVE/aTum7souWD/At0SJ8fVgPw3Iuahxymc/MSNhhJWvcD/bTfBN02d3P2zb5nxnaoA/CD5h5MAGhz8NmeH1TyaQP+zrCsc9p5Y/LbKd76fGnz/bLW5ISEmmPww9YvTcQq8/JV2OstnstT8Er5Y7M8G+P0c+r3jqkcU/5h99k6ZBzj88bCIzFzjVP4enV8oyxN0//yH99nXg5D8qOpLLf0jtP5kqGJXUifQ/c9cS8kHP/D+/DpwzojQEQIEmwoanVwxA4lgXt9HgE0BSSZ2AJuIbQAMJih9jjiNA5q4l5INuK0AwTKYKRj0zQNv5fmq8/DpAaCJseHrtQkB/+zpwzoxKQM3MzMzMeFJAZmZmZmZqWEAAAAAAAFxeQM3MzMzMJmJAmpmZmZkfZUBmZmZmZhhoQDMzMzMzEWtAAAAAAAAKbkBmZmZmZoFwQM3MzMzM/XFAMzMzMzN6c0CamZmZmfZ0QAAAAAAAc3ZAZmZmZmbvd0DNzMzMzGt5QDMzMzMz6HpAmpmZmZlkfEAAAAAAAOF9QGZmZmZmXX9AZmZmZuZsgECamZmZGSuBQM3MzMxM6YFAAAAAAICngkAzMzMzs2WDQGZmZmbmI4RAmpmZmRnihEDNzMzMTKCFQAAAAACAXoZAMzMzM7Mch0BmZmZm5tqHQJqZmZkZmYhAzczMzExXiUAAAAAAgBWKQDMzMzOz04pAZmZmZuaRi0CamZmZGVCMQM3MzMxMDo1AAAAAAIDMjUAzMzMzs4qOQGZmZmbmSI9A\",\"dtype\":\"float64\",\"shape\":[75]}},\"selected\":{\"id\":\"cae55cd4-2b4b-484a-96c2-5d0f3099d6cb\",\"type\":\"Selection\"},\"selection_policy\":{\"id\":\"8a5b8f37-c91c-4ae8-9a79-28bee03c57d4\",\"type\":\"UnionRenderers\"}},\"id\":\"bddde535-3c43-4743-b236-793501de38bc\",\"type\":\"ColumnDataSource\"},{\"attributes\":{},\"id\":\"b0827c01-ed5c-40f9-b33c-2b372b0c5748\",\"type\":\"Selection\"},{\"attributes\":{},\"id\":\"eb6306ef-ae2d-4433-8938-c5f14df95154\",\"type\":\"HelpTool\"},{\"attributes\":{},\"id\":\"6ba8faae-b290-45bb-b5c6-ae057d116153\",\"type\":\"UnionRenderers\"},{\"attributes\":{\"tools\":[{\"id\":\"0395b808-a846-430c-b15f-b561538b9da3\",\"type\":\"PanTool\"},{\"id\":\"2f664d79-97ee-4d44-a977-f6e000afb33d\",\"type\":\"WheelZoomTool\"},{\"id\":\"67a25580-0990-41c0-8b42-08dfa507aff6\",\"type\":\"BoxZoomTool\"},{\"id\":\"1a2f8fb8-f268-4319-8b8f-ff0b1dfec717\",\"type\":\"SaveTool\"},{\"id\":\"23a4194e-0c77-4f11-a188-521991262007\",\"type\":\"ResetTool\"},{\"id\":\"23d179bf-dcda-4047-8713-f394602dbfc2\",\"type\":\"HelpTool\"},{\"id\":\"2e393bce-0b6d-457a-95dc-157962811421\",\"type\":\"PanTool\"},{\"id\":\"0c284c36-c177-45c2-8d28-a0a07dbc1925\",\"type\":\"WheelZoomTool\"},{\"id\":\"38947191-b198-42ac-8ae8-baff0e378a48\",\"type\":\"BoxZoomTool\"},{\"id\":\"be5ef793-fb0b-43c3-868d-3a321a1ca9d0\",\"type\":\"SaveTool\"},{\"id\":\"acc50c2e-03e1-4707-9f9b-6899b34c002c\",\"type\":\"ResetTool\"},{\"id\":\"eb6306ef-ae2d-4433-8938-c5f14df95154\",\"type\":\"HelpTool\"}]},\"id\":\"dcfad480-4dee-4494-a160-d675d2cfceed\",\"type\":\"ProxyToolbar\"},{\"attributes\":{\"toolbar\":{\"id\":\"dcfad480-4dee-4494-a160-d675d2cfceed\",\"type\":\"ProxyToolbar\"},\"toolbar_location\":\"above\"},\"id\":\"fb4d6737-ab6a-41af-91db-0acf1189b036\",\"type\":\"ToolbarBox\"},{\"attributes\":{},\"id\":\"1dd63374-1bbe-4443-8c09-45f11a5a7842\",\"type\":\"Selection\"},{\"attributes\":{},\"id\":\"a1a1372c-c8bf-41ab-b077-e14bae39fb41\",\"type\":\"Selection\"},{\"attributes\":{},\"id\":\"be5ef793-fb0b-43c3-868d-3a321a1ca9d0\",\"type\":\"SaveTool\"},{\"attributes\":{},\"id\":\"494a972e-88aa-42c7-9165-ffe32fa31129\",\"type\":\"UnionRenderers\"},{\"attributes\":{\"children\":[{\"id\":\"fb4d6737-ab6a-41af-91db-0acf1189b036\",\"type\":\"ToolbarBox\"},{\"id\":\"f386ec53-1354-4a96-83b4-0137f6ac3563\",\"type\":\"Column\"}]},\"id\":\"aa14dd4c-c3d6-4fd8-8fbc-66119b8e626c\",\"type\":\"Column\"},{\"attributes\":{},\"id\":\"8a5b8f37-c91c-4ae8-9a79-28bee03c57d4\",\"type\":\"UnionRenderers\"},{\"attributes\":{\"bottom_units\":\"screen\",\"fill_alpha\":{\"value\":0.5},\"fill_color\":{\"value\":\"lightgrey\"},\"left_units\":\"screen\",\"level\":\"overlay\",\"line_alpha\":{\"value\":1.0},\"line_color\":{\"value\":\"black\"},\"line_dash\":[4,4],\"line_width\":{\"value\":2},\"plot\":null,\"render_mode\":\"css\",\"right_units\":\"screen\",\"top_units\":\"screen\"},\"id\":\"0f064719-9265-4677-a4b9-4197c3f74e06\",\"type\":\"BoxAnnotation\"},{\"attributes\":{\"callback\":null,\"end\":1.359973443125567,\"start\":-0.0208865556822569},\"id\":\"704868d1-f44d-4f6a-be27-be0027fbd4c0\",\"type\":\"Range1d\"},{\"attributes\":{},\"id\":\"66be09a4-b6f3-4d8b-89c8-7a52ffb8439a\",\"type\":\"BasicTicker\"},{\"attributes\":{\"data_source\":{\"id\":\"832896ae-4913-4242-a33d-a7bef24f6602\",\"type\":\"ColumnDataSource\"},\"glyph\":{\"id\":\"13534faa-9ef1-4a2c-84ac-1025d3a2392d\",\"type\":\"Line\"},\"hover_glyph\":null,\"muted_glyph\":null,\"nonselection_glyph\":{\"id\":\"4259634d-5328-4285-b68d-f544d45ae559\",\"type\":\"Line\"},\"selection_glyph\":null,\"view\":{\"id\":\"9c55b9ff-d47b-4a6d-a6d2-ba05decea697\",\"type\":\"CDSView\"}},\"id\":\"2ec5e9de-505b-499b-bd74-10baf03ab9cb\",\"type\":\"GlyphRenderer\"},{\"attributes\":{\"line_alpha\":0.6,\"line_color\":\"#984ea3\",\"line_width\":3,\"x\":{\"field\":\"x\"},\"y\":{\"field\":\"y\"}},\"id\":\"934c5073-8193-46b0-9aa0-31315b6a0358\",\"type\":\"Line\"}],\"root_ids\":[\"aa14dd4c-c3d6-4fd8-8fbc-66119b8e626c\"]},\"title\":\"Bokeh Application\",\"version\":\"0.12.16\"}};\n",
       "  var render_items = [{\"docid\":\"37d59378-500e-4dcc-923e-a48f650307b1\",\"elementid\":\"db02b375-1e08-4451-bb44-7943cc168812\",\"modelid\":\"aa14dd4c-c3d6-4fd8-8fbc-66119b8e626c\"}];\n",
       "  root.Bokeh.embed.embed_items_notebook(docs_json, render_items);\n",
       "\n",
       "  }\n",
       "  if (root.Bokeh !== undefined) {\n",
       "    embed_document(root);\n",
       "  } else {\n",
       "    var attempts = 0;\n",
       "    var timer = setInterval(function(root) {\n",
       "      if (root.Bokeh !== undefined) {\n",
       "        embed_document(root);\n",
       "        clearInterval(timer);\n",
       "      }\n",
       "      attempts++;\n",
       "      if (attempts > 100) {\n",
       "        console.log(\"Bokeh: ERROR: Unable to run BokehJS code because BokehJS library is missing\")\n",
       "        clearInterval(timer);\n",
       "      }\n",
       "    }, 10, root)\n",
       "  }\n",
       "})(window);"
      ],
      "application/vnd.bokehjs_exec.v0+json": ""
     },
     "metadata": {
      "application/vnd.bokehjs_exec.v0+json": {
       "id": "aa14dd4c-c3d6-4fd8-8fbc-66119b8e626c"
      }
     },
     "output_type": "display_data"
    },
    {
     "name": "stdout",
     "output_type": "stream",
     "text": [
      "FIGURE. Cooling rate profiles.\n"
     ]
    },
    {
     "data": {
      "text/html": [
       "<a id=\"Flux_Comparison\"></a>"
      ],
      "text/plain": [
       "<IPython.core.display.HTML object>"
      ]
     },
     "metadata": {},
     "output_type": "display_data"
    },
    {
     "data": {
      "text/markdown": [
       "# Flux Comparison"
      ],
      "text/plain": [
       "<IPython.core.display.Markdown object>"
      ]
     },
     "metadata": {},
     "output_type": "display_data"
    },
    {
     "data": {
      "text/html": [
       "<div>\n",
       "<style scoped>\n",
       "    .dataframe tbody tr th:only-of-type {\n",
       "        vertical-align: middle;\n",
       "    }\n",
       "\n",
       "    .dataframe tbody tr th {\n",
       "        vertical-align: top;\n",
       "    }\n",
       "\n",
       "    .dataframe thead th {\n",
       "        text-align: right;\n",
       "    }\n",
       "</style>\n",
       "<table border=\"1\" class=\"dataframe\">\n",
       "  <thead>\n",
       "    <tr style=\"text-align: right;\">\n",
       "      <th></th>\n",
       "      <th></th>\n",
       "      <th>flug</th>\n",
       "      <th>fldg</th>\n",
       "      <th>fnetg</th>\n",
       "    </tr>\n",
       "    <tr>\n",
       "      <th>pressure</th>\n",
       "      <th>level</th>\n",
       "      <th></th>\n",
       "      <th></th>\n",
       "      <th></th>\n",
       "    </tr>\n",
       "  </thead>\n",
       "  <tbody>\n",
       "    <tr>\n",
       "      <th>0.0000</th>\n",
       "      <th>1</th>\n",
       "      <td>-34.370336</td>\n",
       "      <td>0.000000</td>\n",
       "      <td>-34.370336</td>\n",
       "    </tr>\n",
       "    <tr>\n",
       "      <th>1.0685</th>\n",
       "      <th>24</th>\n",
       "      <td>-34.374250</td>\n",
       "      <td>0.065202</td>\n",
       "      <td>-34.309048</td>\n",
       "    </tr>\n",
       "    <tr>\n",
       "      <th>1013.0000</th>\n",
       "      <th>76</th>\n",
       "      <td>-52.864384</td>\n",
       "      <td>52.677097</td>\n",
       "      <td>-0.187287</td>\n",
       "    </tr>\n",
       "  </tbody>\n",
       "</table>\n",
       "</div>"
      ],
      "text/plain": [
       "                      flug       fldg      fnetg\n",
       "pressure  level                                 \n",
       "0.0000    1     -34.370336   0.000000 -34.370336\n",
       "1.0685    24    -34.374250   0.065202 -34.309048\n",
       "1013.0000 76    -52.864384  52.677097  -0.187287"
      ]
     },
     "metadata": {},
     "output_type": "display_data"
    },
    {
     "name": "stdout",
     "output_type": "stream",
     "text": [
      "Table. Fluxes. CRD\n"
     ]
    },
    {
     "data": {
      "text/html": [
       "<div>\n",
       "<style scoped>\n",
       "    .dataframe tbody tr th:only-of-type {\n",
       "        vertical-align: middle;\n",
       "    }\n",
       "\n",
       "    .dataframe tbody tr th {\n",
       "        vertical-align: top;\n",
       "    }\n",
       "\n",
       "    .dataframe thead th {\n",
       "        text-align: right;\n",
       "    }\n",
       "</style>\n",
       "<table border=\"1\" class=\"dataframe\">\n",
       "  <thead>\n",
       "    <tr style=\"text-align: right;\">\n",
       "      <th></th>\n",
       "      <th></th>\n",
       "      <th>flug</th>\n",
       "      <th>fldg</th>\n",
       "      <th>fnetg</th>\n",
       "    </tr>\n",
       "    <tr>\n",
       "      <th>pressure</th>\n",
       "      <th>level</th>\n",
       "      <th></th>\n",
       "      <th></th>\n",
       "      <th></th>\n",
       "    </tr>\n",
       "  </thead>\n",
       "  <tbody>\n",
       "    <tr>\n",
       "      <th>0.0000</th>\n",
       "      <th>1</th>\n",
       "      <td>-34.029089</td>\n",
       "      <td>0.000000</td>\n",
       "      <td>-34.029089</td>\n",
       "    </tr>\n",
       "    <tr>\n",
       "      <th>1.0685</th>\n",
       "      <th>24</th>\n",
       "      <td>-34.031067</td>\n",
       "      <td>0.065329</td>\n",
       "      <td>-33.965736</td>\n",
       "    </tr>\n",
       "    <tr>\n",
       "      <th>1013.0000</th>\n",
       "      <th>76</th>\n",
       "      <td>-52.864384</td>\n",
       "      <td>52.677097</td>\n",
       "      <td>-0.187287</td>\n",
       "    </tr>\n",
       "  </tbody>\n",
       "</table>\n",
       "</div>"
      ],
      "text/plain": [
       "                      flug       fldg      fnetg\n",
       "pressure  level                                 \n",
       "0.0000    1     -34.029089   0.000000 -34.029089\n",
       "1.0685    24    -34.031067   0.065329 -33.965736\n",
       "1013.0000 76    -52.864384  52.677097  -0.187287"
      ]
     },
     "metadata": {},
     "output_type": "display_data"
    },
    {
     "name": "stdout",
     "output_type": "stream",
     "text": [
      "Table. Fluxes. WGT igg=10 wgt_flux=1\n"
     ]
    },
    {
     "data": {
      "text/html": [
       "<div>\n",
       "<style scoped>\n",
       "    .dataframe tbody tr th:only-of-type {\n",
       "        vertical-align: middle;\n",
       "    }\n",
       "\n",
       "    .dataframe tbody tr th {\n",
       "        vertical-align: top;\n",
       "    }\n",
       "\n",
       "    .dataframe thead th {\n",
       "        text-align: right;\n",
       "    }\n",
       "</style>\n",
       "<table border=\"1\" class=\"dataframe\">\n",
       "  <thead>\n",
       "    <tr style=\"text-align: right;\">\n",
       "      <th></th>\n",
       "      <th></th>\n",
       "      <th>flug</th>\n",
       "      <th>fldg</th>\n",
       "      <th>fnetg</th>\n",
       "    </tr>\n",
       "    <tr>\n",
       "      <th>pressure</th>\n",
       "      <th>level</th>\n",
       "      <th></th>\n",
       "      <th></th>\n",
       "      <th></th>\n",
       "    </tr>\n",
       "  </thead>\n",
       "  <tbody>\n",
       "    <tr>\n",
       "      <th>1.000000e-08</th>\n",
       "      <th>1</th>\n",
       "      <td>-34.159553</td>\n",
       "      <td>5.700803e-07</td>\n",
       "      <td>-34.159553</td>\n",
       "    </tr>\n",
       "    <tr>\n",
       "      <th>1.068500e+00</th>\n",
       "      <th>24</th>\n",
       "      <td>-34.161984</td>\n",
       "      <td>6.145939e-02</td>\n",
       "      <td>-34.100524</td>\n",
       "    </tr>\n",
       "    <tr>\n",
       "      <th>1.013000e+03</th>\n",
       "      <th>76</th>\n",
       "      <td>-52.864380</td>\n",
       "      <td>5.267708e+01</td>\n",
       "      <td>-0.187302</td>\n",
       "    </tr>\n",
       "  </tbody>\n",
       "</table>\n",
       "</div>"
      ],
      "text/plain": [
       "                         flug          fldg      fnetg\n",
       "pressure     level                                    \n",
       "1.000000e-08 1     -34.159553  5.700803e-07 -34.159553\n",
       "1.068500e+00 24    -34.161984  6.145939e-02 -34.100524\n",
       "1.013000e+03 76    -52.864380  5.267708e+01  -0.187302"
      ]
     },
     "metadata": {},
     "output_type": "display_data"
    },
    {
     "name": "stdout",
     "output_type": "stream",
     "text": [
      "Table. Fluxes. CLIRAD\n"
     ]
    },
    {
     "data": {
      "text/html": [
       "<div>\n",
       "<style scoped>\n",
       "    .dataframe tbody tr th:only-of-type {\n",
       "        vertical-align: middle;\n",
       "    }\n",
       "\n",
       "    .dataframe tbody tr th {\n",
       "        vertical-align: top;\n",
       "    }\n",
       "\n",
       "    .dataframe thead th {\n",
       "        text-align: right;\n",
       "    }\n",
       "</style>\n",
       "<table border=\"1\" class=\"dataframe\">\n",
       "  <thead>\n",
       "    <tr style=\"text-align: right;\">\n",
       "      <th></th>\n",
       "      <th></th>\n",
       "      <th>flug</th>\n",
       "      <th>fldg</th>\n",
       "      <th>fnetg</th>\n",
       "    </tr>\n",
       "    <tr>\n",
       "      <th>pressure</th>\n",
       "      <th>level</th>\n",
       "      <th></th>\n",
       "      <th></th>\n",
       "      <th></th>\n",
       "    </tr>\n",
       "  </thead>\n",
       "  <tbody>\n",
       "    <tr>\n",
       "      <th>0.0000</th>\n",
       "      <th>1</th>\n",
       "      <td>3.412469e-01</td>\n",
       "      <td>0.000000e+00</td>\n",
       "      <td>3.412469e-01</td>\n",
       "    </tr>\n",
       "    <tr>\n",
       "      <th>1.0685</th>\n",
       "      <th>24</th>\n",
       "      <td>3.431834e-01</td>\n",
       "      <td>1.266991e-04</td>\n",
       "      <td>3.433115e-01</td>\n",
       "    </tr>\n",
       "    <tr>\n",
       "      <th>1013.0000</th>\n",
       "      <th>76</th>\n",
       "      <td>-3.004000e-07</td>\n",
       "      <td>2.350000e-08</td>\n",
       "      <td>2.342950e-07</td>\n",
       "    </tr>\n",
       "  </tbody>\n",
       "</table>\n",
       "</div>"
      ],
      "text/plain": [
       "                         flug          fldg         fnetg\n",
       "pressure  level                                          \n",
       "0.0000    1      3.412469e-01  0.000000e+00  3.412469e-01\n",
       "1.0685    24     3.431834e-01  1.266991e-04  3.433115e-01\n",
       "1013.0000 76    -3.004000e-07  2.350000e-08  2.342950e-07"
      ]
     },
     "metadata": {},
     "output_type": "display_data"
    },
    {
     "name": "stdout",
     "output_type": "stream",
     "text": [
      "Table. Fluxes. (WGT igg=10 wgt_flux=1) - (CRD)\n"
     ]
    },
    {
     "data": {
      "text/html": [
       "<div>\n",
       "<style scoped>\n",
       "    .dataframe tbody tr th:only-of-type {\n",
       "        vertical-align: middle;\n",
       "    }\n",
       "\n",
       "    .dataframe tbody tr th {\n",
       "        vertical-align: top;\n",
       "    }\n",
       "\n",
       "    .dataframe thead th {\n",
       "        text-align: right;\n",
       "    }\n",
       "</style>\n",
       "<table border=\"1\" class=\"dataframe\">\n",
       "  <thead>\n",
       "    <tr style=\"text-align: right;\">\n",
       "      <th></th>\n",
       "      <th></th>\n",
       "      <th>flug</th>\n",
       "      <th>fldg</th>\n",
       "      <th>fnetg</th>\n",
       "    </tr>\n",
       "    <tr>\n",
       "      <th>pressure</th>\n",
       "      <th>level</th>\n",
       "      <th></th>\n",
       "      <th></th>\n",
       "      <th></th>\n",
       "    </tr>\n",
       "  </thead>\n",
       "  <tbody>\n",
       "    <tr>\n",
       "      <th>0.0000</th>\n",
       "      <th>1</th>\n",
       "      <td>0.210783</td>\n",
       "      <td>5.700803e-07</td>\n",
       "      <td>0.210783</td>\n",
       "    </tr>\n",
       "    <tr>\n",
       "      <th>1.0685</th>\n",
       "      <th>24</th>\n",
       "      <td>0.212266</td>\n",
       "      <td>-3.743069e-03</td>\n",
       "      <td>0.208524</td>\n",
       "    </tr>\n",
       "    <tr>\n",
       "      <th>1013.0000</th>\n",
       "      <th>76</th>\n",
       "      <td>0.000004</td>\n",
       "      <td>-1.900000e-05</td>\n",
       "      <td>-0.000015</td>\n",
       "    </tr>\n",
       "  </tbody>\n",
       "</table>\n",
       "</div>"
      ],
      "text/plain": [
       "                     flug          fldg     fnetg\n",
       "pressure  level                                  \n",
       "0.0000    1      0.210783  5.700803e-07  0.210783\n",
       "1.0685    24     0.212266 -3.743069e-03  0.208524\n",
       "1013.0000 76     0.000004 -1.900000e-05 -0.000015"
      ]
     },
     "metadata": {},
     "output_type": "display_data"
    },
    {
     "name": "stdout",
     "output_type": "stream",
     "text": [
      "Table. Fluxes. (CLIRAD) - (CRD)\n"
     ]
    },
    {
     "data": {
      "text/html": [
       "<a id=\"Best-fit_Parameters\"></a>"
      ],
      "text/plain": [
       "<IPython.core.display.HTML object>"
      ]
     },
     "metadata": {},
     "output_type": "display_data"
    },
    {
     "data": {
      "text/markdown": [
       "# Best-fit Parameters"
      ],
      "text/plain": [
       "<IPython.core.display.Markdown object>"
      ]
     },
     "metadata": {},
     "output_type": "display_data"
    },
    {
     "name": "stdout",
     "output_type": "stream",
     "text": [
      "Best-fit values for each (gas, band)\n",
      "------------------------------------\n",
      "o h2o band1\n",
      "  atmpro = mls\n",
      "  band = 1\n",
      "  commitnumber = a06b618\n",
      "  conc = None\n",
      "  dv = 0.001\n",
      "  klin = 0\n",
      "  molecule = h2o\n",
      "  ng_adju = [0, 0, 0]\n",
      "  ng_refs = [3, 3, 6]\n",
      "  nv = 1000\n",
      "  option_compute_btable = 0\n",
      "  option_compute_ktable = 1\n",
      "  option_wgt_flux = 1\n",
      "  option_wgt_k = 1\n",
      "  ref_pts = [(1, 250), (30, 250), (300, 250)]\n",
      "  tsfc = 294\n",
      "  vmax = 340\n",
      "  vmin = 20\n",
      "  w_diffuse = [(1.66, 1.66, 1.66), (1.66, 1.66, 1.66), (1.66, 1.66, 1.5, 1.5, 1.5, 1.5)]\n",
      "  wgt = [(0.2, 0.2, 0.2), (0.2, 0.2, 0.2), (0.2, 0.2, 0.65, 0.65, 0.65, 0.65)]\n"
     ]
    }
   ],
   "source": [
    "script()"
   ]
  },
  {
   "cell_type": "code",
   "execution_count": 13,
   "metadata": {
    "collapsed": true
   },
   "outputs": [
    {
     "data": {
      "text/html": [
       "<script>\n",
       "code_show=true; \n",
       "function code_toggle() {\n",
       " if (code_show){\n",
       " $('div.input').hide();\n",
       " } else {\n",
       " $('div.input').show();\n",
       " }\n",
       " code_show = !code_show\n",
       "} \n",
       "$( document ).ready(code_toggle);\n",
       "</script>\n",
       "<form action=\"javascript:code_toggle()\"><input type=\"submit\" value=\"Click here to toggle on/off the raw code.\"></form>"
      ],
      "text/plain": [
       "<IPython.core.display.HTML object>"
      ]
     },
     "execution_count": 13,
     "metadata": {},
     "output_type": "execute_result"
    }
   ],
   "source": [
    "display.HTML('''<script>\n",
    "code_show=true; \n",
    "function code_toggle() {\n",
    " if (code_show){\n",
    " $('div.input').hide();\n",
    " } else {\n",
    " $('div.input').show();\n",
    " }\n",
    " code_show = !code_show\n",
    "} \n",
    "$( document ).ready(code_toggle);\n",
    "</script>\n",
    "<form action=\"javascript:code_toggle()\"><input type=\"submit\" value=\"Click here to toggle on/off the raw code.\"></form>''')"
   ]
  }
 ],
 "metadata": {
  "kernelspec": {
   "display_name": "Python 3",
   "language": "python",
   "name": "python3"
  },
  "language_info": {
   "codemirror_mode": {
    "name": "ipython",
    "version": 3
   },
   "file_extension": ".py",
   "mimetype": "text/x-python",
   "name": "python",
   "nbconvert_exporter": "python",
   "pygments_lexer": "ipython3",
   "version": "3.6.1"
  }
 },
 "nbformat": 4,
 "nbformat_minor": 2
}
