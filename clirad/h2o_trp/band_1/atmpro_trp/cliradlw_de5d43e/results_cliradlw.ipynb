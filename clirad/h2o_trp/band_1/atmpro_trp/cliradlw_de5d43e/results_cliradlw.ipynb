{
 "cells": [
  {
   "cell_type": "code",
   "execution_count": 1,
   "metadata": {
    "collapsed": true
   },
   "outputs": [],
   "source": [
    "%matplotlib inline\n",
    "import os\n",
    "import re\n",
    "import io\n",
    "import itertools\n",
    "import pprint\n",
    "\n",
    "from bokeh.io import output_notebook, show\n",
    "from bokeh.layouts import gridplot\n",
    "from bokeh.plotting import figure\n",
    "from bokeh.models import Range1d, Legend\n",
    "from bokeh.palettes import all_palettes\n",
    "\n",
    "import matplotlib\n",
    "import matplotlib.pyplot as plt\n",
    "import numpy as np\n",
    "import pandas as pd\n",
    "import xarray as xr\n",
    "\n",
    "import climatools.lblnew.bestfit_params as bestfits\n",
    "from climatools.lblnew import setup_bestfit, setup_overlap\n",
    "import climatools.lblnew.pipeline as pipe_lblnew\n",
    "import climatools.cliradlw.setup as setup_cliradlw\n",
    "import climatools.cliradlw.pipeline as pipe_cliradlw\n",
    "\n",
    "import climatools.html.html as climahtml\n",
    "from climatools.lblnew.dataio import *\n",
    "from climatools.plot.plot import *\n",
    "\n",
    "\n",
    "import IPython.display as display"
   ]
  },
  {
   "cell_type": "code",
   "execution_count": 2,
   "metadata": {
    "collapsed": true
   },
   "outputs": [],
   "source": [
    "%run param.py"
   ]
  },
  {
   "cell_type": "code",
   "execution_count": 3,
   "metadata": {
    "collapsed": true
   },
   "outputs": [],
   "source": [
    "def load_output_file(path_csv):\n",
    "    '''\n",
    "    Load lblnew output .csv file to xarray.Dataset\n",
    "    \n",
    "    Parameters\n",
    "    ----------\n",
    "    path_csv: str\n",
    "              Path to the .csv file to be loaded.\n",
    "    ds: xarray.Dataset\n",
    "        Data in the input file in the form of an xarray.Dataset.\n",
    "    '''\n",
    "    toindex = ['band', 'pressure', 'igg', 'g']    \n",
    "    df = pd.read_csv(path_csv, sep=r'\\s+')\n",
    "    df = df.set_index([i for i in toindex if i in df.columns])\n",
    "    df = df.rename(columns={'sfu': 'flug',\n",
    "                            'sfd': 'fldg',\n",
    "                            'fnet': 'fnetg',\n",
    "                            'coolr': 'coolrg'})\n",
    "    ds = xr.Dataset.from_dataframe(df)\n",
    "\n",
    "    for l in ('level', 'layer'):\n",
    "        if l in ds.data_vars:\n",
    "            if len(ds[l].dims) > 1:\n",
    "                surface = {d: 0 for d in ds.dims if d != 'pressure'}\n",
    "                coord_level = ds[l][surface]\n",
    "                ds.coords[l] = ('pressure', coord_level)\n",
    "            else:\n",
    "                ds.coords[l] = ('pressure', ds[l])\n",
    "    \n",
    "    return ds"
   ]
  },
  {
   "cell_type": "code",
   "execution_count": 4,
   "metadata": {
    "collapsed": true
   },
   "outputs": [],
   "source": [
    "def lblnew_setup(param=None):\n",
    "    if 'ng_refs' in param:\n",
    "        return {'setup': setup_bestfit,\n",
    "                'fname_flux_crd': 'output_flux.dat',\n",
    "                'fname_cool_crd': 'output_coolr.dat',\n",
    "                'fname_flux_wgt': 'output_wfluxg.dat',\n",
    "                'fname_cool_wgt': 'output_wcoolrg.dat'}\n",
    "    else:\n",
    "        return {'setup': setup_overlap,\n",
    "                'fname_flux_crd': 'output_flux.dat',\n",
    "                'fname_cool_crd': 'output_coolr.dat',\n",
    "                'fname_flux_wgt': 'output_wflux.dat',\n",
    "                'fname_cool_wgt': 'output_wcoolr.dat'}\n",
    "\n",
    "    \n",
    "def load_lblnew_data(param):\n",
    "    \n",
    "    fname_dsname = [('fname_flux_crd', 'ds_flux_crd'),\n",
    "                    ('fname_cool_crd', 'ds_cool_crd'),\n",
    "                    ('fname_flux_wgt', 'ds_flux_wgt'),\n",
    "                    ('fname_cool_wgt', 'ds_cool_wgt')]\n",
    "    \n",
    "    d = lblnew_setup(param)\n",
    "    dir_fortran = pipe_lblnew.get_dir_case(param, setup=d['setup'])\n",
    "    \n",
    "    data_dict = {}\n",
    "    for fname, dsname in fname_dsname:\n",
    "        fpath = os.path.join(dir_fortran, d[fname])\n",
    "        data_dict[dsname] = load_output_file(fpath)\n",
    "    return data_dict\n",
    "    \n",
    "\n",
    "    \n",
    "    "
   ]
  },
  {
   "cell_type": "code",
   "execution_count": 5,
   "metadata": {
    "collapsed": true
   },
   "outputs": [],
   "source": [
    "d = load_lblnew_data(PARAM_LBLNEW)\n",
    "\n",
    "DS_FLUX_CRD = d['ds_flux_crd']\n",
    "DS_COOL_CRD = d['ds_cool_crd']\n",
    "DS_FLUX_WGT = d['ds_flux_wgt']\n",
    "DS_COOL_WGT = d['ds_cool_wgt']"
   ]
  },
  {
   "cell_type": "code",
   "execution_count": 6,
   "metadata": {
    "collapsed": true
   },
   "outputs": [],
   "source": [
    "DIR_FORTRAN = pipe_cliradlw.get_fortran_dir(PARAM, \n",
    "                                            setup=setup_cliradlw)\n",
    "\n",
    "PATH_FLUX = os.path.join(DIR_FORTRAN, 'output_flux.dat')\n",
    "PATH_COOL = os.path.join(DIR_FORTRAN, 'output_coolr.dat')\n",
    "\n",
    "DS_FLUX = load_output_file(PATH_FLUX)\n",
    "DS_COOL = load_output_file(PATH_COOL)"
   ]
  },
  {
   "cell_type": "code",
   "execution_count": 7,
   "metadata": {
    "collapsed": true
   },
   "outputs": [
    {
     "data": {
      "text/html": [
       "\n",
       "    <div class=\"bk-root\">\n",
       "        <a href=\"https://bokeh.pydata.org\" target=\"_blank\" class=\"bk-logo bk-logo-small bk-logo-notebook\"></a>\n",
       "        <span id=\"44d2e3df-a91e-463a-a738-6f2e30d45b32\">Loading BokehJS ...</span>\n",
       "    </div>"
      ]
     },
     "metadata": {},
     "output_type": "display_data"
    },
    {
     "data": {
      "application/javascript": [
       "\n",
       "(function(root) {\n",
       "  function now() {\n",
       "    return new Date();\n",
       "  }\n",
       "\n",
       "  var force = true;\n",
       "\n",
       "  if (typeof (root._bokeh_onload_callbacks) === \"undefined\" || force === true) {\n",
       "    root._bokeh_onload_callbacks = [];\n",
       "    root._bokeh_is_loading = undefined;\n",
       "  }\n",
       "\n",
       "  var JS_MIME_TYPE = 'application/javascript';\n",
       "  var HTML_MIME_TYPE = 'text/html';\n",
       "  var EXEC_MIME_TYPE = 'application/vnd.bokehjs_exec.v0+json';\n",
       "  var CLASS_NAME = 'output_bokeh rendered_html';\n",
       "\n",
       "  /**\n",
       "   * Render data to the DOM node\n",
       "   */\n",
       "  function render(props, node) {\n",
       "    var script = document.createElement(\"script\");\n",
       "    node.appendChild(script);\n",
       "  }\n",
       "\n",
       "  /**\n",
       "   * Handle when an output is cleared or removed\n",
       "   */\n",
       "  function handleClearOutput(event, handle) {\n",
       "    var cell = handle.cell;\n",
       "\n",
       "    var id = cell.output_area._bokeh_element_id;\n",
       "    var server_id = cell.output_area._bokeh_server_id;\n",
       "    // Clean up Bokeh references\n",
       "    if (id !== undefined) {\n",
       "      Bokeh.index[id].model.document.clear();\n",
       "      delete Bokeh.index[id];\n",
       "    }\n",
       "\n",
       "    if (server_id !== undefined) {\n",
       "      // Clean up Bokeh references\n",
       "      var cmd = \"from bokeh.io.state import curstate; print(curstate().uuid_to_server['\" + server_id + \"'].get_sessions()[0].document.roots[0]._id)\";\n",
       "      cell.notebook.kernel.execute(cmd, {\n",
       "        iopub: {\n",
       "          output: function(msg) {\n",
       "            var element_id = msg.content.text.trim();\n",
       "            Bokeh.index[element_id].model.document.clear();\n",
       "            delete Bokeh.index[element_id];\n",
       "          }\n",
       "        }\n",
       "      });\n",
       "      // Destroy server and session\n",
       "      var cmd = \"import bokeh.io.notebook as ion; ion.destroy_server('\" + server_id + \"')\";\n",
       "      cell.notebook.kernel.execute(cmd);\n",
       "    }\n",
       "  }\n",
       "\n",
       "  /**\n",
       "   * Handle when a new output is added\n",
       "   */\n",
       "  function handleAddOutput(event, handle) {\n",
       "    var output_area = handle.output_area;\n",
       "    var output = handle.output;\n",
       "\n",
       "    // limit handleAddOutput to display_data with EXEC_MIME_TYPE content only\n",
       "    if ((output.output_type != \"display_data\") || (!output.data.hasOwnProperty(EXEC_MIME_TYPE))) {\n",
       "      return\n",
       "    }\n",
       "\n",
       "    var toinsert = output_area.element.find(\".\" + CLASS_NAME.split(' ')[0]);\n",
       "\n",
       "    if (output.metadata[EXEC_MIME_TYPE][\"id\"] !== undefined) {\n",
       "      toinsert[toinsert.length - 1].firstChild.textContent = output.data[JS_MIME_TYPE];\n",
       "      // store reference to embed id on output_area\n",
       "      output_area._bokeh_element_id = output.metadata[EXEC_MIME_TYPE][\"id\"];\n",
       "    }\n",
       "    if (output.metadata[EXEC_MIME_TYPE][\"server_id\"] !== undefined) {\n",
       "      var bk_div = document.createElement(\"div\");\n",
       "      bk_div.innerHTML = output.data[HTML_MIME_TYPE];\n",
       "      var script_attrs = bk_div.children[0].attributes;\n",
       "      for (var i = 0; i < script_attrs.length; i++) {\n",
       "        toinsert[toinsert.length - 1].firstChild.setAttribute(script_attrs[i].name, script_attrs[i].value);\n",
       "      }\n",
       "      // store reference to server id on output_area\n",
       "      output_area._bokeh_server_id = output.metadata[EXEC_MIME_TYPE][\"server_id\"];\n",
       "    }\n",
       "  }\n",
       "\n",
       "  function register_renderer(events, OutputArea) {\n",
       "\n",
       "    function append_mime(data, metadata, element) {\n",
       "      // create a DOM node to render to\n",
       "      var toinsert = this.create_output_subarea(\n",
       "        metadata,\n",
       "        CLASS_NAME,\n",
       "        EXEC_MIME_TYPE\n",
       "      );\n",
       "      this.keyboard_manager.register_events(toinsert);\n",
       "      // Render to node\n",
       "      var props = {data: data, metadata: metadata[EXEC_MIME_TYPE]};\n",
       "      render(props, toinsert[toinsert.length - 1]);\n",
       "      element.append(toinsert);\n",
       "      return toinsert\n",
       "    }\n",
       "\n",
       "    /* Handle when an output is cleared or removed */\n",
       "    events.on('clear_output.CodeCell', handleClearOutput);\n",
       "    events.on('delete.Cell', handleClearOutput);\n",
       "\n",
       "    /* Handle when a new output is added */\n",
       "    events.on('output_added.OutputArea', handleAddOutput);\n",
       "\n",
       "    /**\n",
       "     * Register the mime type and append_mime function with output_area\n",
       "     */\n",
       "    OutputArea.prototype.register_mime_type(EXEC_MIME_TYPE, append_mime, {\n",
       "      /* Is output safe? */\n",
       "      safe: true,\n",
       "      /* Index of renderer in `output_area.display_order` */\n",
       "      index: 0\n",
       "    });\n",
       "  }\n",
       "\n",
       "  // register the mime type if in Jupyter Notebook environment and previously unregistered\n",
       "  if (root.Jupyter !== undefined) {\n",
       "    var events = require('base/js/events');\n",
       "    var OutputArea = require('notebook/js/outputarea').OutputArea;\n",
       "\n",
       "    if (OutputArea.prototype.mime_types().indexOf(EXEC_MIME_TYPE) == -1) {\n",
       "      register_renderer(events, OutputArea);\n",
       "    }\n",
       "  }\n",
       "\n",
       "  \n",
       "  if (typeof (root._bokeh_timeout) === \"undefined\" || force === true) {\n",
       "    root._bokeh_timeout = Date.now() + 5000;\n",
       "    root._bokeh_failed_load = false;\n",
       "  }\n",
       "\n",
       "  var NB_LOAD_WARNING = {'data': {'text/html':\n",
       "     \"<div style='background-color: #fdd'>\\n\"+\n",
       "     \"<p>\\n\"+\n",
       "     \"BokehJS does not appear to have successfully loaded. If loading BokehJS from CDN, this \\n\"+\n",
       "     \"may be due to a slow or bad network connection. Possible fixes:\\n\"+\n",
       "     \"</p>\\n\"+\n",
       "     \"<ul>\\n\"+\n",
       "     \"<li>re-rerun `output_notebook()` to attempt to load from CDN again, or</li>\\n\"+\n",
       "     \"<li>use INLINE resources instead, as so:</li>\\n\"+\n",
       "     \"</ul>\\n\"+\n",
       "     \"<code>\\n\"+\n",
       "     \"from bokeh.resources import INLINE\\n\"+\n",
       "     \"output_notebook(resources=INLINE)\\n\"+\n",
       "     \"</code>\\n\"+\n",
       "     \"</div>\"}};\n",
       "\n",
       "  function display_loaded() {\n",
       "    var el = document.getElementById(\"44d2e3df-a91e-463a-a738-6f2e30d45b32\");\n",
       "    if (el != null) {\n",
       "      el.textContent = \"BokehJS is loading...\";\n",
       "    }\n",
       "    if (root.Bokeh !== undefined) {\n",
       "      if (el != null) {\n",
       "        el.textContent = \"BokehJS \" + root.Bokeh.version + \" successfully loaded.\";\n",
       "      }\n",
       "    } else if (Date.now() < root._bokeh_timeout) {\n",
       "      setTimeout(display_loaded, 100)\n",
       "    }\n",
       "  }\n",
       "\n",
       "\n",
       "  function run_callbacks() {\n",
       "    try {\n",
       "      root._bokeh_onload_callbacks.forEach(function(callback) { callback() });\n",
       "    }\n",
       "    finally {\n",
       "      delete root._bokeh_onload_callbacks\n",
       "    }\n",
       "    console.info(\"Bokeh: all callbacks have finished\");\n",
       "  }\n",
       "\n",
       "  function load_libs(js_urls, callback) {\n",
       "    root._bokeh_onload_callbacks.push(callback);\n",
       "    if (root._bokeh_is_loading > 0) {\n",
       "      console.log(\"Bokeh: BokehJS is being loaded, scheduling callback at\", now());\n",
       "      return null;\n",
       "    }\n",
       "    if (js_urls == null || js_urls.length === 0) {\n",
       "      run_callbacks();\n",
       "      return null;\n",
       "    }\n",
       "    console.log(\"Bokeh: BokehJS not loaded, scheduling load and callback at\", now());\n",
       "    root._bokeh_is_loading = js_urls.length;\n",
       "    for (var i = 0; i < js_urls.length; i++) {\n",
       "      var url = js_urls[i];\n",
       "      var s = document.createElement('script');\n",
       "      s.src = url;\n",
       "      s.async = false;\n",
       "      s.onreadystatechange = s.onload = function() {\n",
       "        root._bokeh_is_loading--;\n",
       "        if (root._bokeh_is_loading === 0) {\n",
       "          console.log(\"Bokeh: all BokehJS libraries loaded\");\n",
       "          run_callbacks()\n",
       "        }\n",
       "      };\n",
       "      s.onerror = function() {\n",
       "        console.warn(\"failed to load library \" + url);\n",
       "      };\n",
       "      console.log(\"Bokeh: injecting script tag for BokehJS library: \", url);\n",
       "      document.getElementsByTagName(\"head\")[0].appendChild(s);\n",
       "    }\n",
       "  };var element = document.getElementById(\"44d2e3df-a91e-463a-a738-6f2e30d45b32\");\n",
       "  if (element == null) {\n",
       "    console.log(\"Bokeh: ERROR: autoload.js configured with elementid '44d2e3df-a91e-463a-a738-6f2e30d45b32' but no matching script tag was found. \")\n",
       "    return false;\n",
       "  }\n",
       "\n",
       "  var js_urls = [\"https://cdn.pydata.org/bokeh/release/bokeh-0.12.16.min.js\", \"https://cdn.pydata.org/bokeh/release/bokeh-widgets-0.12.16.min.js\", \"https://cdn.pydata.org/bokeh/release/bokeh-tables-0.12.16.min.js\", \"https://cdn.pydata.org/bokeh/release/bokeh-gl-0.12.16.min.js\"];\n",
       "\n",
       "  var inline_js = [\n",
       "    function(Bokeh) {\n",
       "      Bokeh.set_log_level(\"info\");\n",
       "    },\n",
       "    \n",
       "    function(Bokeh) {\n",
       "      \n",
       "    },\n",
       "    function(Bokeh) {\n",
       "      console.log(\"Bokeh: injecting CSS: https://cdn.pydata.org/bokeh/release/bokeh-0.12.16.min.css\");\n",
       "      Bokeh.embed.inject_css(\"https://cdn.pydata.org/bokeh/release/bokeh-0.12.16.min.css\");\n",
       "      console.log(\"Bokeh: injecting CSS: https://cdn.pydata.org/bokeh/release/bokeh-widgets-0.12.16.min.css\");\n",
       "      Bokeh.embed.inject_css(\"https://cdn.pydata.org/bokeh/release/bokeh-widgets-0.12.16.min.css\");\n",
       "      console.log(\"Bokeh: injecting CSS: https://cdn.pydata.org/bokeh/release/bokeh-tables-0.12.16.min.css\");\n",
       "      Bokeh.embed.inject_css(\"https://cdn.pydata.org/bokeh/release/bokeh-tables-0.12.16.min.css\");\n",
       "    }\n",
       "  ];\n",
       "\n",
       "  function run_inline_js() {\n",
       "    \n",
       "    if ((root.Bokeh !== undefined) || (force === true)) {\n",
       "      for (var i = 0; i < inline_js.length; i++) {\n",
       "        inline_js[i].call(root, root.Bokeh);\n",
       "      }if (force === true) {\n",
       "        display_loaded();\n",
       "      }} else if (Date.now() < root._bokeh_timeout) {\n",
       "      setTimeout(run_inline_js, 100);\n",
       "    } else if (!root._bokeh_failed_load) {\n",
       "      console.log(\"Bokeh: BokehJS failed to load within specified timeout.\");\n",
       "      root._bokeh_failed_load = true;\n",
       "    } else if (force !== true) {\n",
       "      var cell = $(document.getElementById(\"44d2e3df-a91e-463a-a738-6f2e30d45b32\")).parents('.cell').data().cell;\n",
       "      cell.output_area.append_execute_result(NB_LOAD_WARNING)\n",
       "    }\n",
       "\n",
       "  }\n",
       "\n",
       "  if (root._bokeh_is_loading === 0) {\n",
       "    console.log(\"Bokeh: BokehJS loaded, going straight to plotting\");\n",
       "    run_inline_js();\n",
       "  } else {\n",
       "    load_libs(js_urls, function() {\n",
       "      console.log(\"Bokeh: BokehJS plotting callback run at\", now());\n",
       "      run_inline_js();\n",
       "    });\n",
       "  }\n",
       "}(window));"
      ],
      "application/vnd.bokehjs_load.v0+json": "\n(function(root) {\n  function now() {\n    return new Date();\n  }\n\n  var force = true;\n\n  if (typeof (root._bokeh_onload_callbacks) === \"undefined\" || force === true) {\n    root._bokeh_onload_callbacks = [];\n    root._bokeh_is_loading = undefined;\n  }\n\n  \n\n  \n  if (typeof (root._bokeh_timeout) === \"undefined\" || force === true) {\n    root._bokeh_timeout = Date.now() + 5000;\n    root._bokeh_failed_load = false;\n  }\n\n  var NB_LOAD_WARNING = {'data': {'text/html':\n     \"<div style='background-color: #fdd'>\\n\"+\n     \"<p>\\n\"+\n     \"BokehJS does not appear to have successfully loaded. If loading BokehJS from CDN, this \\n\"+\n     \"may be due to a slow or bad network connection. Possible fixes:\\n\"+\n     \"</p>\\n\"+\n     \"<ul>\\n\"+\n     \"<li>re-rerun `output_notebook()` to attempt to load from CDN again, or</li>\\n\"+\n     \"<li>use INLINE resources instead, as so:</li>\\n\"+\n     \"</ul>\\n\"+\n     \"<code>\\n\"+\n     \"from bokeh.resources import INLINE\\n\"+\n     \"output_notebook(resources=INLINE)\\n\"+\n     \"</code>\\n\"+\n     \"</div>\"}};\n\n  function display_loaded() {\n    var el = document.getElementById(\"44d2e3df-a91e-463a-a738-6f2e30d45b32\");\n    if (el != null) {\n      el.textContent = \"BokehJS is loading...\";\n    }\n    if (root.Bokeh !== undefined) {\n      if (el != null) {\n        el.textContent = \"BokehJS \" + root.Bokeh.version + \" successfully loaded.\";\n      }\n    } else if (Date.now() < root._bokeh_timeout) {\n      setTimeout(display_loaded, 100)\n    }\n  }\n\n\n  function run_callbacks() {\n    try {\n      root._bokeh_onload_callbacks.forEach(function(callback) { callback() });\n    }\n    finally {\n      delete root._bokeh_onload_callbacks\n    }\n    console.info(\"Bokeh: all callbacks have finished\");\n  }\n\n  function load_libs(js_urls, callback) {\n    root._bokeh_onload_callbacks.push(callback);\n    if (root._bokeh_is_loading > 0) {\n      console.log(\"Bokeh: BokehJS is being loaded, scheduling callback at\", now());\n      return null;\n    }\n    if (js_urls == null || js_urls.length === 0) {\n      run_callbacks();\n      return null;\n    }\n    console.log(\"Bokeh: BokehJS not loaded, scheduling load and callback at\", now());\n    root._bokeh_is_loading = js_urls.length;\n    for (var i = 0; i < js_urls.length; i++) {\n      var url = js_urls[i];\n      var s = document.createElement('script');\n      s.src = url;\n      s.async = false;\n      s.onreadystatechange = s.onload = function() {\n        root._bokeh_is_loading--;\n        if (root._bokeh_is_loading === 0) {\n          console.log(\"Bokeh: all BokehJS libraries loaded\");\n          run_callbacks()\n        }\n      };\n      s.onerror = function() {\n        console.warn(\"failed to load library \" + url);\n      };\n      console.log(\"Bokeh: injecting script tag for BokehJS library: \", url);\n      document.getElementsByTagName(\"head\")[0].appendChild(s);\n    }\n  };var element = document.getElementById(\"44d2e3df-a91e-463a-a738-6f2e30d45b32\");\n  if (element == null) {\n    console.log(\"Bokeh: ERROR: autoload.js configured with elementid '44d2e3df-a91e-463a-a738-6f2e30d45b32' but no matching script tag was found. \")\n    return false;\n  }\n\n  var js_urls = [\"https://cdn.pydata.org/bokeh/release/bokeh-0.12.16.min.js\", \"https://cdn.pydata.org/bokeh/release/bokeh-widgets-0.12.16.min.js\", \"https://cdn.pydata.org/bokeh/release/bokeh-tables-0.12.16.min.js\", \"https://cdn.pydata.org/bokeh/release/bokeh-gl-0.12.16.min.js\"];\n\n  var inline_js = [\n    function(Bokeh) {\n      Bokeh.set_log_level(\"info\");\n    },\n    \n    function(Bokeh) {\n      \n    },\n    function(Bokeh) {\n      console.log(\"Bokeh: injecting CSS: https://cdn.pydata.org/bokeh/release/bokeh-0.12.16.min.css\");\n      Bokeh.embed.inject_css(\"https://cdn.pydata.org/bokeh/release/bokeh-0.12.16.min.css\");\n      console.log(\"Bokeh: injecting CSS: https://cdn.pydata.org/bokeh/release/bokeh-widgets-0.12.16.min.css\");\n      Bokeh.embed.inject_css(\"https://cdn.pydata.org/bokeh/release/bokeh-widgets-0.12.16.min.css\");\n      console.log(\"Bokeh: injecting CSS: https://cdn.pydata.org/bokeh/release/bokeh-tables-0.12.16.min.css\");\n      Bokeh.embed.inject_css(\"https://cdn.pydata.org/bokeh/release/bokeh-tables-0.12.16.min.css\");\n    }\n  ];\n\n  function run_inline_js() {\n    \n    if ((root.Bokeh !== undefined) || (force === true)) {\n      for (var i = 0; i < inline_js.length; i++) {\n        inline_js[i].call(root, root.Bokeh);\n      }if (force === true) {\n        display_loaded();\n      }} else if (Date.now() < root._bokeh_timeout) {\n      setTimeout(run_inline_js, 100);\n    } else if (!root._bokeh_failed_load) {\n      console.log(\"Bokeh: BokehJS failed to load within specified timeout.\");\n      root._bokeh_failed_load = true;\n    } else if (force !== true) {\n      var cell = $(document.getElementById(\"44d2e3df-a91e-463a-a738-6f2e30d45b32\")).parents('.cell').data().cell;\n      cell.output_area.append_execute_result(NB_LOAD_WARNING)\n    }\n\n  }\n\n  if (root._bokeh_is_loading === 0) {\n    console.log(\"Bokeh: BokehJS loaded, going straight to plotting\");\n    run_inline_js();\n  } else {\n    load_libs(js_urls, function() {\n      console.log(\"Bokeh: BokehJS plotting callback run at\", now());\n      run_inline_js();\n    });\n  }\n}(window));"
     },
     "metadata": {},
     "output_type": "display_data"
    }
   ],
   "source": [
    "output_notebook()"
   ]
  },
  {
   "cell_type": "code",
   "execution_count": 8,
   "metadata": {
    "collapsed": true
   },
   "outputs": [],
   "source": [
    "def fmt_cool(ds_in):\n",
    "    ds = ds_in.copy(deep=True)\n",
    "    if 'igg' in ds.dims:\n",
    "        ds = ds.sel(igg=1)\n",
    "\n",
    "    if 'g' in ds.dims:\n",
    "        ds = ds.sum('g')\n",
    "            \n",
    "    if 'band' in ds.dims:\n",
    "        try:\n",
    "            ds = ds.squeeze('band')\n",
    "        except ValueError:\n",
    "            ds = ds.sum('band')\n",
    "                \n",
    "    return ds['coolrg']\n",
    "\n",
    "\n",
    "def pltdata_cooling_1(ds_cool=None,\n",
    "                      ds_cool_crd=None, ds_cool_wgt=None):\n",
    "    \n",
    "\n",
    "\n",
    "    colors = all_palettes['Set1'][4]\n",
    "    data = [{'label': 'CLIRAD `coolr_bands`',\n",
    "             'srs': fmt_cool(ds_cool),\n",
    "             'line_dash': 'dashed', 'line_width': 5,\n",
    "             'color': colors[0], 'alpha': .6},\n",
    "            {'label': 'CRD',\n",
    "             'srs': fmt_cool(ds_cool_crd),\n",
    "             'line_dash': 'solid', 'line_width': 1.5,\n",
    "             'marker': 'circle', 'marker_size': 5,\n",
    "             'color': colors[2], 'alpha': 1,},\n",
    "            {'label': 'WGT igg=10 wgt_flux=2',\n",
    "             'srs': fmt_cool(ds_cool_wgt),\n",
    "             'line_dash': 'solid', 'line_width': 3,\n",
    "             'marker': 'square', 'marker_size': 5,\n",
    "             'color': colors[3], 'alpha': .6}]\n",
    "    return data\n",
    "\n",
    "\n",
    "def nice_xlims(pltdata=None, prange=None):\n",
    "    \n",
    "    def get_slice(srs):\n",
    "        return srs.sel(pressure=slice(*prange))\n",
    "    \n",
    "    srss = [d['srs'] for d in pltdata]\n",
    "    vmin = min([get_slice(srs).min() for srs in srss])\n",
    "    vmax = max([get_slice(srs).max() for srs in srss])\n",
    "    dv = (vmax - vmin) * .01\n",
    "    return float(vmin - dv), float(vmax + dv)\n",
    "    \n",
    "\n",
    "def plt_cooling_bokeh(pltdata=None):\n",
    "    '''\n",
    "    Plot a list of cooling rate profiles using bokeh.\n",
    "    '''\n",
    "    ymin = 1e-2 \n",
    "    ymax = 1020 \n",
    "        \n",
    "    p1 = figure(title=\"Linear pressure scale\", \n",
    "                plot_width=400)        \n",
    "    xmin, xmax = nice_xlims(pltdata, prange=(50, 1050))\n",
    "    for d in pltdata:\n",
    "        if 'marker' in d:\n",
    "            getattr(p1, d['marker'])(d['srs'].values, \n",
    "                    d['srs'].coords['pressure'].values,\n",
    "                    color=d['color'], alpha=.7)\n",
    "        p1.line(d['srs'].values, \n",
    "                d['srs'].coords['pressure'].values,\n",
    "                color=d['color'], alpha=d['alpha'], \n",
    "                line_width=d['line_width'], line_dash=d['line_dash'])\n",
    "    \n",
    "    p1.y_range = Range1d(ymax, ymin)\n",
    "    p1.yaxis.axis_label = 'pressure [mb]'   \n",
    "    p1.x_range = Range1d(xmin, xmax)\n",
    "    p1.xaxis.axis_label = 'cooling rate [K/day]'\n",
    "            \n",
    "    p2 = figure(title='Log pressure scale', y_axis_type='log',\n",
    "                plot_width=560)\n",
    "    xmin, xmax = nice_xlims(pltdata, prange=(.01, 200))\n",
    "    \n",
    "    rs = []\n",
    "    for d in pltdata:\n",
    "        rd = []\n",
    "        if 'marker' in d:\n",
    "            r_mark = getattr(p2, d['marker'])(d['srs'].values, \n",
    "                        d['srs'].coords['pressure'].values,\n",
    "                        color=d['color'], alpha=.7)\n",
    "            rd.append(r_mark)\n",
    "        r_line = p2.line(d['srs'].values, \n",
    "                    d['srs'].coords['pressure'].values,\n",
    "                    color=d['color'], alpha=d['alpha'], \n",
    "                    line_width=d['line_width'], line_dash=d['line_dash'])\n",
    "        rd.append(r_line)\n",
    "      \n",
    "        rs.append(rd)\n",
    "        \n",
    "    p2.y_range = Range1d(ymax, ymin)  \n",
    "    p2.yaxis.axis_label = 'pressure [mb]'\n",
    "    \n",
    "    p2.x_range = Range1d(xmin, xmax)\n",
    "    p2.xaxis.axis_label = 'cooling rate [K/day]'\n",
    "    \n",
    "    items = [(d['label'], r) for r, d in zip(rs, pltdata)]\n",
    "    legend = Legend(items=items, location=(10, -30))\n",
    "    legend.label_text_font_size = '8pt'\n",
    "    \n",
    "    p2.add_layout(legend, 'right')  \n",
    "    \n",
    "    show(gridplot(p1, p2, ncols=2, plot_height=500))\n",
    "    \n",
    "\n",
    "def script_plt_cooling():\n",
    "    pltdata = pltdata_cooling_1(\n",
    "        ds_cool=DS_COOL,\n",
    "        ds_cool_crd=DS_COOL_CRD,\n",
    "        ds_cool_wgt=DS_COOL_WGT)\n",
    "    plt_cooling_bokeh(pltdata=pltdata)\n",
    "    print('''FIGURE. Cooling rate profiles.''')"
   ]
  },
  {
   "cell_type": "code",
   "execution_count": 9,
   "metadata": {
    "collapsed": true
   },
   "outputs": [],
   "source": [
    "def fmt_flux(ds_in):\n",
    "    ds = ds_in.copy(deep=True)\n",
    "    \n",
    "    for l in ('level', 'layer'):\n",
    "        if l in ds.data_vars:\n",
    "            if len(ds[l].dims) > 1:\n",
    "                surface = {d: 0 for d in ds.dims if d != 'pressure'}\n",
    "                coord_level = ds[l][surface]\n",
    "                ds.coords[l] = ('pressure', coord_level)\n",
    "            else:\n",
    "                ds.coords[l] = ('pressure', ds[l])\n",
    "        \n",
    "    ds = ds.isel(pressure=[0, 23, -1])\n",
    "        \n",
    "    if 'igg' in ds.dims:\n",
    "        ds = ds.sel(igg=[1])\n",
    "        ds = ds.squeeze('igg').drop('igg')\n",
    "    \n",
    "    if 'g' in ds.dims:\n",
    "        ds = ds.sum('g')\n",
    "            \n",
    "    if 'band' in ds.dims:\n",
    "        try:\n",
    "            ds = ds.squeeze('band').drop('band')\n",
    "        except ValueError:\n",
    "            ds = ds.sum('band')\n",
    "                \n",
    "    df = ds.to_dataframe()\n",
    "    df = df.set_index('level', append=True)               \n",
    "    return df\n",
    "\n",
    "\n",
    "def tbdata_flux(ds_flux=None, ds_flux_crd=None, ds_flux_wgt=None):\n",
    "    ilevels = [0, 23, -1]\n",
    "            \n",
    "    benchmark = {'label': 'CRD',\n",
    "                 'df': fmt_flux(ds_flux_crd)}\n",
    "    \n",
    "    tbs = [{'label': 'WGT igg=10 wgt_flux=1',\n",
    "            'df': fmt_flux(ds_flux_wgt)},\n",
    "           {'label': 'CLIRAD',\n",
    "            'df': fmt_flux(ds_flux)}]\n",
    "    \n",
    "    data = {'benchmark': benchmark, 'others': tbs}\n",
    "    return data\n",
    "\n",
    "\n",
    "def tb_flux(tbdata=None):\n",
    "    benchmark = tbdata['benchmark']\n",
    "    others = tbdata['others']\n",
    "    \n",
    "    def show_tb(d=None):\n",
    "        display.display(d['df'])\n",
    "        print('Table.', 'Fluxes.', d['label'])\n",
    "        \n",
    "    def show_tbdiff(d0=None, d=None):\n",
    "        df = d['df']\n",
    "        df.index = d0['df'].index\n",
    "        display.display(df - d0['df'])\n",
    "        print('Table.', 'Fluxes.', \n",
    "              '({}) - ({})'.format(d['label'], d0['label']))\n",
    "        \n",
    "    show_tb(benchmark)\n",
    "    for d in others:\n",
    "        show_tb(d)\n",
    "        \n",
    "    for d in others:\n",
    "        show_tbdiff(d=d, d0=benchmark)\n",
    "        \n",
    "        \n",
    "def script_tb_flux():\n",
    "    data = tbdata_flux(ds_flux=DS_FLUX,\n",
    "                       ds_flux_crd=DS_FLUX_CRD,\n",
    "                       ds_flux_wgt=DS_FLUX_WGT)\n",
    "    tb_flux(tbdata=data)"
   ]
  },
  {
   "cell_type": "code",
   "execution_count": 10,
   "metadata": {
    "collapsed": true
   },
   "outputs": [],
   "source": [
    "def band_map():\n",
    "    '''\n",
    "    Maps spectral bands in lblnew to spectral bands in clirad.\n",
    "    '''\n",
    "    lblnew2clirad = {'1': '1',\n",
    "            '2': '2',\n",
    "            '3a': '3',\n",
    "            '3b': '4',\n",
    "            '3c': '5',\n",
    "            '4': '6', \n",
    "            '5': '7',\n",
    "            '6': '8',\n",
    "            '7': '9', \n",
    "            '8': '10',\n",
    "            '9': '11'}\n",
    "    \n",
    "    clirad2lblnew = {clirad: lblnew \n",
    "                     for lblnew, clirad in lblnew2clirad.items()}\n",
    "    return clirad2lblnew\n",
    "\n",
    "\n",
    "def gasbands():\n",
    "    bmap = band_map()\n",
    "    gases = list(PARAM['molecule'].keys())\n",
    "    \n",
    "    bands = [bmap[str(b)] for b in PARAM['band']]\n",
    "    return list(itertools.product(gases, bands))\n",
    "\n",
    "\n",
    "def print_bestfit_params():\n",
    "    print('Best-fit values for each (gas, band)')\n",
    "    print('------------------------------------')\n",
    "    for gas, band in gasbands():\n",
    "        print('o {} band{}'.format(gas, band))\n",
    "        param = bestfits.kdist_params(molecule=gas, band=band)\n",
    "        for name, value in sorted(param.items()):\n",
    "            print(2 * ' ' + '{} = {}'.format(name, value))\n",
    "\n",
    "        \n",
    "def print_input_param():        \n",
    "    for name, value in PARAM.items():\n",
    "        print('{} = {}'.format(name, value))\n",
    "        \n",
    "        \n",
    "def print_lblnew_param():\n",
    "    for name, value in sorted(PARAM_LBLNEW.items()):\n",
    "        print('{} = {}'.format(name, value))\n"
   ]
  },
  {
   "cell_type": "code",
   "execution_count": 11,
   "metadata": {
    "collapsed": true,
    "scrolled": false
   },
   "outputs": [],
   "source": [
    "def show_html(s):\n",
    "    display.display(display.HTML(s))\n",
    "\n",
    "    \n",
    "def show_markdown(s):\n",
    "    display.display(display.Markdown(s))\n",
    "\n",
    "    \n",
    "def script():\n",
    "    \n",
    "    title = '### CLIRAD-LW'\n",
    "    s_input = 'Input Parameters'\n",
    "    s_lblnew_param = 'LBLNEW case compaired against'\n",
    "    s_bestfits = 'Best-fit Parameters'\n",
    "    s_plt_cooling = 'Cooling Rate Profiles'\n",
    "    s_tb_flux = 'Flux Comparison'\n",
    "    \n",
    "    # title\n",
    "    show_markdown('### CLIRAD-LW')\n",
    "    \n",
    "    # TOC\n",
    "    show_markdown('### Table of Contents')\n",
    "    show_html(climahtml.getHTML_hrefanchor(s_input))\n",
    "    show_html(climahtml.getHTML_hrefanchor(s_lblnew_param))\n",
    "    show_html(climahtml.getHTML_hrefanchor(s_plt_cooling))\n",
    "    show_html(climahtml.getHTML_hrefanchor(s_tb_flux))\n",
    "    show_html(climahtml.getHTML_hrefanchor(s_bestfits))\n",
    "    \n",
    "    # Input parameters\n",
    "    show_html(climahtml.getHTML_idanchor(s_input))\n",
    "    show_markdown(climahtml.getMarkdown_sectitle(s_input))\n",
    "    print_input_param()\n",
    "    \n",
    "    # LBLNEW parameters \n",
    "    show_html(climahtml.getHTML_idanchor(s_lblnew_param))\n",
    "    show_markdown(climahtml.getMarkdown_sectitle(s_lblnew_param))\n",
    "    print_lblnew_param()\n",
    "    \n",
    "    # Cooling rate profiles\n",
    "    show_html(climahtml.getHTML_idanchor(s_plt_cooling))\n",
    "    show_markdown(climahtml.getMarkdown_sectitle(s_plt_cooling))\n",
    "    script_plt_cooling()\n",
    "    \n",
    "    # Flux comparison\n",
    "    show_html(climahtml.getHTML_idanchor(s_tb_flux))\n",
    "    show_markdown(climahtml.getMarkdown_sectitle(s_tb_flux))\n",
    "    script_tb_flux()\n",
    "    \n",
    "    # Best-fit values\n",
    "    show_html(climahtml.getHTML_idanchor(s_bestfits))\n",
    "    show_markdown(climahtml.getMarkdown_sectitle(s_bestfits))\n",
    "    print_bestfit_params()\n",
    "   \n",
    "    "
   ]
  },
  {
   "cell_type": "code",
   "execution_count": 12,
   "metadata": {
    "collapsed": true,
    "scrolled": false
   },
   "outputs": [
    {
     "data": {
      "text/markdown": [
       "### CLIRAD-LW"
      ],
      "text/plain": [
       "<IPython.core.display.Markdown object>"
      ]
     },
     "metadata": {},
     "output_type": "display_data"
    },
    {
     "data": {
      "text/markdown": [
       "### Table of Contents"
      ],
      "text/plain": [
       "<IPython.core.display.Markdown object>"
      ]
     },
     "metadata": {},
     "output_type": "display_data"
    },
    {
     "data": {
      "text/html": [
       "<a href=\"#Input_Parameters\">Input Parameters</a>"
      ],
      "text/plain": [
       "<IPython.core.display.HTML object>"
      ]
     },
     "metadata": {},
     "output_type": "display_data"
    },
    {
     "data": {
      "text/html": [
       "<a href=\"#LBLNEW_case_compaired_against\">LBLNEW case compaired against</a>"
      ],
      "text/plain": [
       "<IPython.core.display.HTML object>"
      ]
     },
     "metadata": {},
     "output_type": "display_data"
    },
    {
     "data": {
      "text/html": [
       "<a href=\"#Cooling_Rate_Profiles\">Cooling Rate Profiles</a>"
      ],
      "text/plain": [
       "<IPython.core.display.HTML object>"
      ]
     },
     "metadata": {},
     "output_type": "display_data"
    },
    {
     "data": {
      "text/html": [
       "<a href=\"#Flux_Comparison\">Flux Comparison</a>"
      ],
      "text/plain": [
       "<IPython.core.display.HTML object>"
      ]
     },
     "metadata": {},
     "output_type": "display_data"
    },
    {
     "data": {
      "text/html": [
       "<a href=\"#Best-fit_Parameters\">Best-fit Parameters</a>"
      ],
      "text/plain": [
       "<IPython.core.display.HTML object>"
      ]
     },
     "metadata": {},
     "output_type": "display_data"
    },
    {
     "data": {
      "text/html": [
       "<a id=\"Input_Parameters\"></a>"
      ],
      "text/plain": [
       "<IPython.core.display.HTML object>"
      ]
     },
     "metadata": {},
     "output_type": "display_data"
    },
    {
     "data": {
      "text/markdown": [
       "# Input Parameters"
      ],
      "text/plain": [
       "<IPython.core.display.Markdown object>"
      ]
     },
     "metadata": {},
     "output_type": "display_data"
    },
    {
     "name": "stdout",
     "output_type": "stream",
     "text": [
      "atmpro = trp\n",
      "band = [1]\n",
      "commitnumber = de5d43e\n",
      "molecule = {'h2o': 'atmpro'}\n",
      "tsfc = 300\n"
     ]
    },
    {
     "data": {
      "text/html": [
       "<a id=\"LBLNEW_case_compaired_against\"></a>"
      ],
      "text/plain": [
       "<IPython.core.display.HTML object>"
      ]
     },
     "metadata": {},
     "output_type": "display_data"
    },
    {
     "data": {
      "text/markdown": [
       "# LBLNEW case compaired against"
      ],
      "text/plain": [
       "<IPython.core.display.Markdown object>"
      ]
     },
     "metadata": {},
     "output_type": "display_data"
    },
    {
     "name": "stdout",
     "output_type": "stream",
     "text": [
      "atmpro = trp\n",
      "band = 1\n",
      "commitnumber = 5014a19\n",
      "conc = None\n",
      "dv = 0.001\n",
      "klin = 0\n",
      "molecule = h2o\n",
      "ng_adju = [0, 0, 0]\n",
      "ng_refs = [3, 3, 6]\n",
      "nv = 1000\n",
      "option_compute_btable = 0\n",
      "option_compute_ktable = 0\n",
      "option_wgt_flux = 1\n",
      "option_wgt_k = 1\n",
      "ref_pts = [(1, 250), (30, 250), (300, 250)]\n",
      "tsfc = 300\n",
      "vmax = 340\n",
      "vmin = 20\n",
      "w_diffuse = [(1.66, 1.66, 1.66), (1.66, 1.66, 1.66), (1.66, 1.66, 1.5, 1.5, 1.5, 1.5)]\n",
      "wgt = [(0.2, 0.2, 0.2), (0.2, 0.2, 0.2), (0.2, 0.2, 0.65, 0.65, 0.65, 0.65)]\n"
     ]
    },
    {
     "data": {
      "text/html": [
       "<a id=\"Cooling_Rate_Profiles\"></a>"
      ],
      "text/plain": [
       "<IPython.core.display.HTML object>"
      ]
     },
     "metadata": {},
     "output_type": "display_data"
    },
    {
     "data": {
      "text/markdown": [
       "# Cooling Rate Profiles"
      ],
      "text/plain": [
       "<IPython.core.display.Markdown object>"
      ]
     },
     "metadata": {},
     "output_type": "display_data"
    },
    {
     "data": {
      "text/html": [
       "\n",
       "<div class=\"bk-root\">\n",
       "    <div class=\"bk-plotdiv\" id=\"8c195e95-473e-4b65-9208-6bfcfdbd72ee\"></div>\n",
       "</div>"
      ]
     },
     "metadata": {},
     "output_type": "display_data"
    },
    {
     "data": {
      "application/javascript": [
       "(function(root) {\n",
       "  function embed_document(root) {\n",
       "    \n",
       "  var docs_json = {\"128fc4bc-e84d-4eec-985e-50252baa04bc\":{\"roots\":{\"references\":[{\"attributes\":{\"children\":[{\"id\":\"bd3112b0-ea8b-4609-8a89-c519fc2a410e\",\"subtype\":\"Figure\",\"type\":\"Plot\"},{\"id\":\"3e54b5b1-f2e0-45b8-b934-8ce511ff65d4\",\"subtype\":\"Figure\",\"type\":\"Plot\"}]},\"id\":\"4e2ad6a7-6d5f-49fa-a97c-e40db058514d\",\"type\":\"Row\"},{\"attributes\":{\"source\":{\"id\":\"cca739e6-0fc0-4cf0-9ff6-54946536277e\",\"type\":\"ColumnDataSource\"}},\"id\":\"11370ca7-a928-4ee8-9694-e468acf5e5db\",\"type\":\"CDSView\"},{\"attributes\":{\"data_source\":{\"id\":\"cca739e6-0fc0-4cf0-9ff6-54946536277e\",\"type\":\"ColumnDataSource\"},\"glyph\":{\"id\":\"34368a90-bb47-420b-b631-191697b6d1da\",\"type\":\"Line\"},\"hover_glyph\":null,\"muted_glyph\":null,\"nonselection_glyph\":{\"id\":\"99ed9fb5-6fd3-4258-9107-699950f662a1\",\"type\":\"Line\"},\"selection_glyph\":null,\"view\":{\"id\":\"11370ca7-a928-4ee8-9694-e468acf5e5db\",\"type\":\"CDSView\"}},\"id\":\"59432820-7dc1-4f6b-954e-9d83797d93fa\",\"type\":\"GlyphRenderer\"},{\"attributes\":{},\"id\":\"03652fb4-ebe0-49d3-85e5-d1481eef7823\",\"type\":\"BasicTicker\"},{\"attributes\":{\"plot\":{\"id\":\"3e54b5b1-f2e0-45b8-b934-8ce511ff65d4\",\"subtype\":\"Figure\",\"type\":\"Plot\"},\"ticker\":{\"id\":\"1dad4388-44d1-406d-b392-935d85cf9cd1\",\"type\":\"BasicTicker\"}},\"id\":\"8cd5b9a2-bcd8-402c-9d32-70a2c726e77e\",\"type\":\"Grid\"},{\"attributes\":{\"line_alpha\":0.1,\"line_color\":\"#1f77b4\",\"line_width\":3,\"x\":{\"field\":\"x\"},\"y\":{\"field\":\"y\"}},\"id\":\"99ed9fb5-6fd3-4258-9107-699950f662a1\",\"type\":\"Line\"},{\"attributes\":{\"below\":[{\"id\":\"dd74a326-b335-4f32-b6be-d5d8ed5b14b1\",\"type\":\"LinearAxis\"}],\"left\":[{\"id\":\"11b92238-fb1e-4223-becd-c6ae62933259\",\"type\":\"LinearAxis\"}],\"plot_height\":500,\"plot_width\":400,\"renderers\":[{\"id\":\"dd74a326-b335-4f32-b6be-d5d8ed5b14b1\",\"type\":\"LinearAxis\"},{\"id\":\"6e6edf3e-c63a-4447-981d-25ed30584286\",\"type\":\"Grid\"},{\"id\":\"11b92238-fb1e-4223-becd-c6ae62933259\",\"type\":\"LinearAxis\"},{\"id\":\"9359e352-842f-4499-9c07-5425a2d389a7\",\"type\":\"Grid\"},{\"id\":\"37bcea46-a875-4b01-8820-0f9a14bde851\",\"type\":\"BoxAnnotation\"},{\"id\":\"cb40327f-54fc-47b2-b859-bfaf7f5c1346\",\"type\":\"GlyphRenderer\"},{\"id\":\"fbac6a67-0390-4758-b0f5-ca322f2798d0\",\"type\":\"GlyphRenderer\"},{\"id\":\"91f978de-d941-4c09-ba01-de53c1164bfd\",\"type\":\"GlyphRenderer\"},{\"id\":\"eef43117-1d63-4bb5-afe4-a7ae10623655\",\"type\":\"GlyphRenderer\"},{\"id\":\"d7727023-1204-4b35-a1de-9348cbec0939\",\"type\":\"GlyphRenderer\"}],\"title\":{\"id\":\"87c4d847-e17b-44cf-8f57-e3437e44199e\",\"type\":\"Title\"},\"toolbar\":{\"id\":\"e224653e-b1cd-4c28-aed6-7f450672e358\",\"type\":\"Toolbar\"},\"toolbar_location\":null,\"x_range\":{\"id\":\"d9bb7ee9-992b-45e7-8c05-24cc33d5a67a\",\"type\":\"Range1d\"},\"x_scale\":{\"id\":\"38aeb7c8-5a01-4930-8f89-617ce6bbc343\",\"type\":\"LinearScale\"},\"y_range\":{\"id\":\"d4555865-4db1-42b7-8b06-d9c403d18c4d\",\"type\":\"Range1d\"},\"y_scale\":{\"id\":\"357044e3-12b6-41b6-bf21-6e2448bf840a\",\"type\":\"LinearScale\"}},\"id\":\"bd3112b0-ea8b-4609-8a89-c519fc2a410e\",\"subtype\":\"Figure\",\"type\":\"Plot\"},{\"attributes\":{},\"id\":\"1dad4388-44d1-406d-b392-935d85cf9cd1\",\"type\":\"BasicTicker\"},{\"attributes\":{\"source\":{\"id\":\"d8233601-a00b-4a4c-8fe2-4194c0976bef\",\"type\":\"ColumnDataSource\"}},\"id\":\"ecfdbcca-7f29-4a3d-8fa6-5cb82c34c6a0\",\"type\":\"CDSView\"},{\"attributes\":{\"fill_alpha\":{\"value\":0.7},\"fill_color\":{\"value\":\"#4daf4a\"},\"line_alpha\":{\"value\":0.7},\"line_color\":{\"value\":\"#4daf4a\"},\"x\":{\"field\":\"x\"},\"y\":{\"field\":\"y\"}},\"id\":\"29499aa6-c4aa-4c73-8ae0-9cb3eb6a9587\",\"type\":\"Circle\"},{\"attributes\":{},\"id\":\"d905026e-b63c-4b9c-b579-ac078c7f29ad\",\"type\":\"UnionRenderers\"},{\"attributes\":{\"line_alpha\":0.1,\"line_color\":\"#1f77b4\",\"line_width\":1.5,\"x\":{\"field\":\"x\"},\"y\":{\"field\":\"y\"}},\"id\":\"68098740-be79-4eaf-9298-ba342b3e9cf4\",\"type\":\"Line\"},{\"attributes\":{\"fill_alpha\":{\"value\":0.7},\"fill_color\":{\"value\":\"#4daf4a\"},\"line_alpha\":{\"value\":0.7},\"line_color\":{\"value\":\"#4daf4a\"},\"x\":{\"field\":\"x\"},\"y\":{\"field\":\"y\"}},\"id\":\"379fdb00-eb88-4847-ae1e-02c5de48379d\",\"type\":\"Circle\"},{\"attributes\":{\"active_drag\":\"auto\",\"active_inspect\":\"auto\",\"active_scroll\":\"auto\",\"active_tap\":\"auto\",\"tools\":[{\"id\":\"b6d19acf-cdf7-4bef-831a-bf4afdd54cbf\",\"type\":\"PanTool\"},{\"id\":\"a273680b-dabb-40e5-9893-86b1e7255f08\",\"type\":\"WheelZoomTool\"},{\"id\":\"d416e8e2-3e54-4d08-b160-96d991fe358c\",\"type\":\"BoxZoomTool\"},{\"id\":\"a1a59fd6-0fc2-40a9-b80e-771a4f56e0a4\",\"type\":\"SaveTool\"},{\"id\":\"22d2ad34-8eed-4730-8429-022d47f344c1\",\"type\":\"ResetTool\"},{\"id\":\"42171114-f7dd-4b5a-83a2-9fe63ce0416b\",\"type\":\"HelpTool\"}]},\"id\":\"9d039b46-5a6b-491b-83c5-ffd7be145e6f\",\"type\":\"Toolbar\"},{\"attributes\":{\"children\":[{\"id\":\"4e2ad6a7-6d5f-49fa-a97c-e40db058514d\",\"type\":\"Row\"}]},\"id\":\"d03e3d1d-c03c-426d-8749-07c9ea4a2244\",\"type\":\"Column\"},{\"attributes\":{\"data_source\":{\"id\":\"4c69f69a-303e-4748-ab9d-ba56371e50f5\",\"type\":\"ColumnDataSource\"},\"glyph\":{\"id\":\"379fdb00-eb88-4847-ae1e-02c5de48379d\",\"type\":\"Circle\"},\"hover_glyph\":null,\"muted_glyph\":null,\"nonselection_glyph\":{\"id\":\"4482e6fd-a54e-439d-b310-2498ab3a5901\",\"type\":\"Circle\"},\"selection_glyph\":null,\"view\":{\"id\":\"ee4e4575-b975-48ed-8906-2cf17bb3aafa\",\"type\":\"CDSView\"}},\"id\":\"d8ac1859-968f-4682-ac68-dcf9eb1024df\",\"type\":\"GlyphRenderer\"},{\"attributes\":{\"callback\":null,\"data\":{\"x\":{\"__ndarray__\":\"nN7F+3GbCUAgVJitqzgIQISpdwKrlAdA6Ugu/yGdBkCZVlQOdz8FQNXLlHsmcANASdAEL58xAUBdxNIbST39P55vVSMF4Pc/NK0D1mDw8j+edOgVywTuPz6TPxAHZug/RPzkpAcw5D/LkSEJ8wXgPwWwGq6Clto/uq+5WXLL2D9f4AOFiybXP7k0fuGV5NU/dm6YcAFL1j9cpxXPbifYP7IMNwEC7do/ayGOln/E3j9yPisfOD3gP9kMquw/e+A/iApZBmrL4D+VLS9M6KbfP1N0ZrPRVt0/xxsNnhF+2j/84lKVtrjXP+GskAsxS9Y/HURCxmlp1T/lhjoHKr7TP79/kLgJb9I/1ENVyGw70T8hwoVdkITMP77LHP31K8M/zfjnN4bftT8/etwahWK3P4qy8T99dMI/XCP+OMxdyT+bQ0qa3LvUP5joJELAreU//uhAe5o48D+1nzE474T0P+O4Qg4Ai/U/6vtfZLiQ8z8sxxrk5FTyP80w3iRAbO8/fTsuT4yR5z+alOWY6pHiP+czRSUaSd0/nJjDKOeP1D/fxXc5V1rIP3ZXe3qag7g/25oPMDz0pj8Z0i+x/HCXP7vvpsgSt40/AYLewImNhj/9KzwL4eGDP11dvabhPYY/U5y3cnVOjz9t51GqqruVP7n1gYFziJY/BAvmA5BHjT+kEAlmWhBqP2bR2Vj5hHS/fi7UytYUfr+kid0ZUm5zv4BTeElFp1O/g51LgspQUj+NtyVT/XphP7whQXxWVWQ/5LuXKdT0ZD+k0Ilv7tBkPyQERr//VLE/\",\"dtype\":\"float64\",\"shape\":[75]},\"y\":{\"__ndarray__\":\"S/O/Q+51ND/Sv8nbtpRIP2vylNV0PVE/aTum7souWD/At0SJ8fVgPw3Iuahxymc/MSNhhJWvcD/bTfBN02d3P2zb5nxnaoA/CD5h5MAGhz8NmeH1TyaQP+zrCsc9p5Y/LbKd76fGnz/bLW5ISEmmPww9YvTcQq8/JV2OstnstT8Er5Y7M8G+P0c+r3jqkcU/5h99k6ZBzj88bCIzFzjVP4enV8oyxN0//yH99nXg5D8qOpLLf0jtP5kqGJXUifQ/c9cS8kHP/D+/DpwzojQEQIEmwoanVwxA4lgXt9HgE0BSSZ2AJuIbQAMJih9jjiNA5q4l5INuK0AwTKYKRj0zQNv5fmq8/DpAaCJseHrtQkB/+zpwzoxKQM3MzMzMeFJAZmZmZmZqWEAAAAAAAFxeQM3MzMzMJmJAmpmZmZkfZUBmZmZmZhhoQDMzMzMzEWtAAAAAAAAKbkBmZmZmZoFwQM3MzMzM/XFAMzMzMzN6c0CamZmZmfZ0QAAAAAAAc3ZAZmZmZmbvd0DNzMzMzGt5QDMzMzMz6HpAmpmZmZlkfEAAAAAAAOF9QGZmZmZmXX9AZmZmZuZsgECamZmZGSuBQM3MzMxM6YFAAAAAAICngkAzMzMzs2WDQGZmZmbmI4RAmpmZmRnihEDNzMzMTKCFQAAAAACAXoZAMzMzM7Mch0BmZmZm5tqHQJqZmZkZmYhAzczMzExXiUAAAAAAgBWKQDMzMzOz04pAZmZmZuaRi0CamZmZGVCMQM3MzMxMDo1AAAAAAIDMjUAzMzMzs4qOQGZmZmbmSI9A\",\"dtype\":\"float64\",\"shape\":[75]}},\"selected\":{\"id\":\"ac9577b1-a1c2-4672-947e-b5d6cf23afbc\",\"type\":\"Selection\"},\"selection_policy\":{\"id\":\"b0a2b808-a5fd-4b18-a470-c0123e854af2\",\"type\":\"UnionRenderers\"}},\"id\":\"549174b4-433a-4781-b447-3a216f341181\",\"type\":\"ColumnDataSource\"},{\"attributes\":{\"line_color\":\"#4daf4a\",\"line_width\":1.5,\"x\":{\"field\":\"x\"},\"y\":{\"field\":\"y\"}},\"id\":\"a3092530-d844-4e9a-ae8d-9e8edcf048a8\",\"type\":\"Line\"},{\"attributes\":{},\"id\":\"21bd7994-c731-4492-a9ed-6afd0bc5a59c\",\"type\":\"SaveTool\"},{\"attributes\":{},\"id\":\"7fcb471a-eaf1-467c-9c3b-26c2d357b263\",\"type\":\"LogScale\"},{\"attributes\":{\"axis_label\":\"cooling rate [K/day]\",\"formatter\":{\"id\":\"220b9ffc-cd5c-4bc5-867a-057595e8b51e\",\"type\":\"BasicTickFormatter\"},\"plot\":{\"id\":\"3e54b5b1-f2e0-45b8-b934-8ce511ff65d4\",\"subtype\":\"Figure\",\"type\":\"Plot\"},\"ticker\":{\"id\":\"1dad4388-44d1-406d-b392-935d85cf9cd1\",\"type\":\"BasicTicker\"}},\"id\":\"6d723488-a258-4581-966c-aa3607690fe8\",\"type\":\"LinearAxis\"},{\"attributes\":{\"fill_alpha\":{\"value\":0.1},\"fill_color\":{\"value\":\"#1f77b4\"},\"line_alpha\":{\"value\":0.1},\"line_color\":{\"value\":\"#1f77b4\"},\"x\":{\"field\":\"x\"},\"y\":{\"field\":\"y\"}},\"id\":\"6d881204-a646-476d-9001-31dfc3c4e39b\",\"type\":\"Circle\"},{\"attributes\":{\"callback\":null,\"data\":{\"x\":{\"__ndarray__\":\"WzRjhjxIDUBnuR4XmlQKQNyNq6t7HglAAOP+6ouTB0B0G1Db1rQFQE552tU0hANAucWXtLsYAUBImjjvoRr9PzbYIA48Gfg/QxZPEG2H8z8t5TygmVXvP3D10qZlMOk/6AlxJuo45D8O8i5m3jPfP18YgL7Q7dk/aaVC+fMG2T+z6rP81lHYP1c/SoFchNc/1aYrJZvS1z93TDxCEY7ZPzxZ7iGev9w/Sfr0E2fI4D/SG2ZB8dThPwivFpCr0OE/Gn5++1244T+Q5jlgQa/gP/yCjppap94/I2se3mj22z9DivYYN3LZPxCj8PgXv9c///xXAqyZ1j+43SzwZCnVP/mIwpLqptM/x0S8Lto80j/650FW5lrOP91uOd5bS8Q/cE5Rm6eKtz8/rx1HrKK5P3QiVQUX68M/wsUdI1v6yj+iU884G8XVP1q4prIOWeY/LqE4OX+Z8D+K1guKKUr0P/3oM0PfKvU/nQNvekSB8z/S86U5157xPy/hWw16Fu4/E+Z0ZgPh5j8svpb6FIzhPzZmTwCfz9o/UIDfhGdA0z9+MiY0oa/IP3Q3maFz77s/gryWWC/KrD8F3dpU8YidP6ZHTlrWmpE/oVQbh5fChz+x4pdIZtuEP/5HX8jPCoc/lKdR6Nncjz+Cv5uU9OuVP8RoCk+ep5Y/x8moEFhfjT/oNd7PkSpqPwF/BH6SdXS/+DmUAa8Zfr+e92GEtXxzv1C1DfrPXlO/WHWczacxUj9TJOEKCGRhP0wlHb4ig2Q/Dh5kngLdZD+xOG8988ZkPxiFaoUsVrE/\",\"dtype\":\"float64\",\"shape\":[75]},\"y\":{\"__ndarray__\":\"GhExyth1ND/Sv8nbtpRIP2vylNV0PVE/aTum7souWD/At0SJ8fVgPw3Iuahxymc/MSNhhJWvcD/bTfBN02d3P2zb5nxnaoA/CD5h5MAGhz8NmeH1TyaQP+zrCsc9p5Y/LbKd76fGnz/bLW5ISEmmPww9YvTcQq8/JV2OstnstT8Er5Y7M8G+P0c+r3jqkcU/5h99k6ZBzj88bCIzFzjVP4enV8oyxN0//yH99nXg5D8qOpLLf0jtP5kqGJXUifQ/c9cS8kHP/D+/DpwzojQEQIEmwoanVwxA4lgXt9HgE0BSSZ2AJuIbQAMJih9jjiNA5q4l5INuK0AwTKYKRj0zQNv5fmq8/DpAaCJseHrtQkB/+zpwzoxKQM3MzMzMeFJAZmZmZmZqWEAAAAAAAFxeQM3MzMzMJmJAmpmZmZkfZUBmZmZmZhhoQDMzMzMzEWtAAAAAAAAKbkBmZmZmZoFwQM3MzMzM/XFAMzMzMzN6c0CamZmZmfZ0QAAAAAAAc3ZAZmZmZmbvd0DNzMzMzGt5QDMzMzMz6HpAmpmZmZlkfEAAAAAAAOF9QGZmZmZmXX9AZmZmZuZsgECamZmZGSuBQM3MzMxM6YFAAAAAAICngkAzMzMzs2WDQGZmZmbmI4RAmpmZmRnihEDNzMzMTKCFQAAAAACAXoZAMzMzM7Mch0BmZmZm5tqHQJqZmZkZmYhAzczMzExXiUAAAAAAgBWKQDMzMzOz04pAZmZmZuaRi0CamZmZGVCMQM3MzMxMDo1AAAAAAIDMjUAzMzMzs4qOQGZmZmbmSI9A\",\"dtype\":\"float64\",\"shape\":[75]}},\"selected\":{\"id\":\"f2490a71-7c60-4a92-bb86-e9530dcb9387\",\"type\":\"Selection\"},\"selection_policy\":{\"id\":\"7609b286-7c7f-4326-9fde-965bfeade11c\",\"type\":\"UnionRenderers\"}},\"id\":\"d8233601-a00b-4a4c-8fe2-4194c0976bef\",\"type\":\"ColumnDataSource\"},{\"attributes\":{\"data_source\":{\"id\":\"549174b4-433a-4781-b447-3a216f341181\",\"type\":\"ColumnDataSource\"},\"glyph\":{\"id\":\"99ec524f-8d78-43e1-80fa-439476bbd40c\",\"type\":\"Line\"},\"hover_glyph\":null,\"muted_glyph\":null,\"nonselection_glyph\":{\"id\":\"cf44d956-b778-4252-99ad-10ab9c343ddc\",\"type\":\"Line\"},\"selection_glyph\":null,\"view\":{\"id\":\"c624deb8-43d4-451a-9469-d3756e1afdf7\",\"type\":\"CDSView\"}},\"id\":\"cb40327f-54fc-47b2-b859-bfaf7f5c1346\",\"type\":\"GlyphRenderer\"},{\"attributes\":{\"line_alpha\":0.1,\"line_color\":\"#1f77b4\",\"line_width\":3,\"x\":{\"field\":\"x\"},\"y\":{\"field\":\"y\"}},\"id\":\"263bc051-779f-4b0c-b40e-5b30bb7cb3a8\",\"type\":\"Line\"},{\"attributes\":{\"line_alpha\":0.6,\"line_color\":\"#984ea3\",\"line_width\":3,\"x\":{\"field\":\"x\"},\"y\":{\"field\":\"y\"}},\"id\":\"34368a90-bb47-420b-b631-191697b6d1da\",\"type\":\"Line\"},{\"attributes\":{\"active_drag\":\"auto\",\"active_inspect\":\"auto\",\"active_scroll\":\"auto\",\"active_tap\":\"auto\",\"tools\":[{\"id\":\"b133242f-666c-4491-a202-583698be8f1b\",\"type\":\"PanTool\"},{\"id\":\"e8129a29-9c86-4808-9efd-08e11dbd2add\",\"type\":\"WheelZoomTool\"},{\"id\":\"3bee0742-fd2d-4ee3-9846-404d478b6d3c\",\"type\":\"BoxZoomTool\"},{\"id\":\"21bd7994-c731-4492-a9ed-6afd0bc5a59c\",\"type\":\"SaveTool\"},{\"id\":\"9e7945a1-207c-4294-b408-596bdb5df793\",\"type\":\"ResetTool\"},{\"id\":\"cb2c4987-9cd2-49ba-8d5e-e3dbac7691d4\",\"type\":\"HelpTool\"}]},\"id\":\"e224653e-b1cd-4c28-aed6-7f450672e358\",\"type\":\"Toolbar\"},{\"attributes\":{\"plot\":null,\"text\":\"Linear pressure scale\"},\"id\":\"87c4d847-e17b-44cf-8f57-e3437e44199e\",\"type\":\"Title\"},{\"attributes\":{\"line_alpha\":0.1,\"line_color\":\"#1f77b4\",\"line_dash\":[6],\"line_width\":5,\"x\":{\"field\":\"x\"},\"y\":{\"field\":\"y\"}},\"id\":\"e3376de9-fc6c-43ae-87eb-ccaa42d14adb\",\"type\":\"Line\"},{\"attributes\":{},\"id\":\"9e7945a1-207c-4294-b408-596bdb5df793\",\"type\":\"ResetTool\"},{\"attributes\":{\"axis_label\":\"cooling rate [K/day]\",\"formatter\":{\"id\":\"ea92d7d2-4073-4203-a053-1032f1b2eac4\",\"type\":\"BasicTickFormatter\"},\"plot\":{\"id\":\"bd3112b0-ea8b-4609-8a89-c519fc2a410e\",\"subtype\":\"Figure\",\"type\":\"Plot\"},\"ticker\":{\"id\":\"015d10bb-7d6a-40aa-a8e6-ebf955b7b4ab\",\"type\":\"BasicTicker\"}},\"id\":\"dd74a326-b335-4f32-b6be-d5d8ed5b14b1\",\"type\":\"LinearAxis\"},{\"attributes\":{\"callback\":null,\"end\":0.01,\"start\":1020},\"id\":\"d4555865-4db1-42b7-8b06-d9c403d18c4d\",\"type\":\"Range1d\"},{\"attributes\":{},\"id\":\"38aeb7c8-5a01-4930-8f89-617ce6bbc343\",\"type\":\"LinearScale\"},{\"attributes\":{\"data_source\":{\"id\":\"33b035e6-6e57-4b24-b936-a49702c23226\",\"type\":\"ColumnDataSource\"},\"glyph\":{\"id\":\"ffbfcc6e-cada-4627-bc30-bda9679dfaca\",\"type\":\"Line\"},\"hover_glyph\":null,\"muted_glyph\":null,\"nonselection_glyph\":{\"id\":\"5470af06-dd41-4a71-af0e-2fb088b1a363\",\"type\":\"Line\"},\"selection_glyph\":null,\"view\":{\"id\":\"b3ae8dcb-c091-4e9b-af16-d12eb01f1b65\",\"type\":\"CDSView\"}},\"id\":\"91f978de-d941-4c09-ba01-de53c1164bfd\",\"type\":\"GlyphRenderer\"},{\"attributes\":{\"callback\":null,\"data\":{\"x\":{\"__ndarray__\":\"3st9chTwFUAR4zWv6nwRQHjPJiyWtw9AG1merL1EDEBLsDic+cUIQLIIap1dYwVAMi/RapI5AkAcbEX2nK/+P5grKLEQgvk/7OsKxz3n9D8MKZpiadvwP0j0Ovstruo/G3Wd276G5D+cLHsz5sXdPxJezOA55dc/LEgSCGTE1z/CsJFesyDYP/ifBE+EAdg/BJWOxXhF2D8xCTgA8lDZP4K5ioNTuNs/yMX/uibm3z8z1A+H+IngPyOIbzhex98/KNGSx9Oy3j9qykbOX/TcP0Eg4cUMXts/8KXwoNn12T/nT+EpYJLYP169q5r3Ktc/jboxmBq81T8dkns2gj/UP1Ao+jIHt9I/UhnWv7FI0T9ktp4ADkrNP43yaaGmjsQ/hx6tQcoVuj+WFVg6/o+8P3LN9H3+HMU/Q5SrL331yz8wA75wIS7WP6T7OQX5eeY/alUBra+k8D9cXhSYqQT0P6FAjpw70PQ/MeR9wROf8z+4nnzVJX7xP+waiMDs2e0/CFLvyqqf5z/0F5vS0XziPzhwIIc109s/7pfLHWjL0z/yNC5Ws1LKPxyxecm9SMA/C4M3RuD/sj+S/dqXv4SlP5cNNYFXCJk/Ie8dgbQJkD8AeC3pdJWIP1aNgRxk94g/BBdjFI+BkD8qnhV520qWP2TQx4Sx6JY/yRkdn6+qjT9i6B0WhqJqPxucM6PZXHS/unjZHbQRfr+1OPb75Hlzv/Y5mVwuWVO//zoExUA0Uj+IzO1CmWRhP6b0frKRg2Q/kFu0xVPdZD+gnZJ+QsdkP5t60PgtVrE/\",\"dtype\":\"float64\",\"shape\":[75]},\"y\":{\"__ndarray__\":\"GhExyth1ND/Sv8nbtpRIP2vylNV0PVE/aTum7souWD/At0SJ8fVgPw3Iuahxymc/MSNhhJWvcD/bTfBN02d3P2zb5nxnaoA/CD5h5MAGhz8NmeH1TyaQP+zrCsc9p5Y/LbKd76fGnz/bLW5ISEmmPww9YvTcQq8/JV2OstnstT8Er5Y7M8G+P0c+r3jqkcU/5h99k6ZBzj88bCIzFzjVP4enV8oyxN0//yH99nXg5D8qOpLLf0jtP5kqGJXUifQ/c9cS8kHP/D+/DpwzojQEQIEmwoanVwxA4lgXt9HgE0BSSZ2AJuIbQAMJih9jjiNA5q4l5INuK0AwTKYKRj0zQNv5fmq8/DpAaCJseHrtQkB/+zpwzoxKQM3MzMzMeFJAZmZmZmZqWEAAAAAAAFxeQM3MzMzMJmJAmpmZmZkfZUBmZmZmZhhoQDMzMzMzEWtAAAAAAAAKbkBmZmZmZoFwQM3MzMzM/XFAMzMzMzN6c0CamZmZmfZ0QAAAAAAAc3ZAZmZmZmbvd0DNzMzMzGt5QDMzMzMz6HpAmpmZmZlkfEAAAAAAAOF9QGZmZmZmXX9AZmZmZuZsgECamZmZGSuBQM3MzMxM6YFAAAAAAICngkAzMzMzs2WDQGZmZmbmI4RAmpmZmRnihEDNzMzMTKCFQAAAAACAXoZAMzMzM7Mch0BmZmZm5tqHQJqZmZkZmYhAzczMzExXiUAAAAAAgBWKQDMzMzOz04pAZmZmZuaRi0CamZmZGVCMQM3MzMxMDo1AAAAAAIDMjUAzMzMzs4qOQGZmZmbmSI9A\",\"dtype\":\"float64\",\"shape\":[75]}},\"selected\":{\"id\":\"7dbdd9be-6815-449f-8f0b-e74a418fa0dd\",\"type\":\"Selection\"},\"selection_policy\":{\"id\":\"10f1d514-a5c3-4d54-b96b-36720e45d368\",\"type\":\"UnionRenderers\"}},\"id\":\"1283ce22-aa54-4883-b8f2-b041d3991a6d\",\"type\":\"ColumnDataSource\"},{\"attributes\":{\"fill_alpha\":{\"value\":0.1},\"fill_color\":{\"value\":\"#1f77b4\"},\"line_alpha\":{\"value\":0.1},\"line_color\":{\"value\":\"#1f77b4\"},\"x\":{\"field\":\"x\"},\"y\":{\"field\":\"y\"}},\"id\":\"2f85e0a9-7e64-4a66-863d-8e80123ec409\",\"type\":\"Square\"},{\"attributes\":{\"callback\":null,\"data\":{\"x\":{\"__ndarray__\":\"WzRjhjxIDUBnuR4XmlQKQNyNq6t7HglAAOP+6ouTB0B0G1Db1rQFQE552tU0hANAucWXtLsYAUBImjjvoRr9PzbYIA48Gfg/QxZPEG2H8z8t5TygmVXvP3D10qZlMOk/6AlxJuo45D8O8i5m3jPfP18YgL7Q7dk/aaVC+fMG2T+z6rP81lHYP1c/SoFchNc/1aYrJZvS1z93TDxCEY7ZPzxZ7iGev9w/Sfr0E2fI4D/SG2ZB8dThPwivFpCr0OE/Gn5++1244T+Q5jlgQa/gP/yCjppap94/I2se3mj22z9DivYYN3LZPxCj8PgXv9c///xXAqyZ1j+43SzwZCnVP/mIwpLqptM/x0S8Lto80j/650FW5lrOP91uOd5bS8Q/cE5Rm6eKtz8/rx1HrKK5P3QiVQUX68M/wsUdI1v6yj+iU884G8XVP1q4prIOWeY/LqE4OX+Z8D+K1guKKUr0P/3oM0PfKvU/nQNvekSB8z/S86U5157xPy/hWw16Fu4/E+Z0ZgPh5j8svpb6FIzhPzZmTwCfz9o/UIDfhGdA0z9+MiY0oa/IP3Q3maFz77s/gryWWC/KrD8F3dpU8YidP6ZHTlrWmpE/oVQbh5fChz+x4pdIZtuEP/5HX8jPCoc/lKdR6Nncjz+Cv5uU9OuVP8RoCk+ep5Y/x8moEFhfjT/oNd7PkSpqPwF/BH6SdXS/+DmUAa8Zfr+e92GEtXxzv1C1DfrPXlO/WHWczacxUj9TJOEKCGRhP0wlHb4ig2Q/Dh5kngLdZD+xOG8988ZkPxiFaoUsVrE/\",\"dtype\":\"float64\",\"shape\":[75]},\"y\":{\"__ndarray__\":\"GhExyth1ND/Sv8nbtpRIP2vylNV0PVE/aTum7souWD/At0SJ8fVgPw3Iuahxymc/MSNhhJWvcD/bTfBN02d3P2zb5nxnaoA/CD5h5MAGhz8NmeH1TyaQP+zrCsc9p5Y/LbKd76fGnz/bLW5ISEmmPww9YvTcQq8/JV2OstnstT8Er5Y7M8G+P0c+r3jqkcU/5h99k6ZBzj88bCIzFzjVP4enV8oyxN0//yH99nXg5D8qOpLLf0jtP5kqGJXUifQ/c9cS8kHP/D+/DpwzojQEQIEmwoanVwxA4lgXt9HgE0BSSZ2AJuIbQAMJih9jjiNA5q4l5INuK0AwTKYKRj0zQNv5fmq8/DpAaCJseHrtQkB/+zpwzoxKQM3MzMzMeFJAZmZmZmZqWEAAAAAAAFxeQM3MzMzMJmJAmpmZmZkfZUBmZmZmZhhoQDMzMzMzEWtAAAAAAAAKbkBmZmZmZoFwQM3MzMzM/XFAMzMzMzN6c0CamZmZmfZ0QAAAAAAAc3ZAZmZmZmbvd0DNzMzMzGt5QDMzMzMz6HpAmpmZmZlkfEAAAAAAAOF9QGZmZmZmXX9AZmZmZuZsgECamZmZGSuBQM3MzMxM6YFAAAAAAICngkAzMzMzs2WDQGZmZmbmI4RAmpmZmRnihEDNzMzMTKCFQAAAAACAXoZAMzMzM7Mch0BmZmZm5tqHQJqZmZkZmYhAzczMzExXiUAAAAAAgBWKQDMzMzOz04pAZmZmZuaRi0CamZmZGVCMQM3MzMxMDo1AAAAAAIDMjUAzMzMzs4qOQGZmZmbmSI9A\",\"dtype\":\"float64\",\"shape\":[75]}},\"selected\":{\"id\":\"fbeca1e0-138f-47f4-acbd-4902f7b1ba0e\",\"type\":\"Selection\"},\"selection_policy\":{\"id\":\"62c89a6d-bca0-4e5b-8b22-f3cca9a81aea\",\"type\":\"UnionRenderers\"}},\"id\":\"cca739e6-0fc0-4cf0-9ff6-54946536277e\",\"type\":\"ColumnDataSource\"},{\"attributes\":{},\"id\":\"015d10bb-7d6a-40aa-a8e6-ebf955b7b4ab\",\"type\":\"BasicTicker\"},{\"attributes\":{\"dimension\":1,\"plot\":{\"id\":\"bd3112b0-ea8b-4609-8a89-c519fc2a410e\",\"subtype\":\"Figure\",\"type\":\"Plot\"},\"ticker\":{\"id\":\"03652fb4-ebe0-49d3-85e5-d1481eef7823\",\"type\":\"BasicTicker\"}},\"id\":\"9359e352-842f-4499-9c07-5425a2d389a7\",\"type\":\"Grid\"},{\"attributes\":{\"fill_alpha\":{\"value\":0.7},\"fill_color\":{\"value\":\"#984ea3\"},\"line_alpha\":{\"value\":0.7},\"line_color\":{\"value\":\"#984ea3\"},\"x\":{\"field\":\"x\"},\"y\":{\"field\":\"y\"}},\"id\":\"b204b5a0-a6ac-4ea2-a25e-459af80eefa8\",\"type\":\"Square\"},{\"attributes\":{\"source\":{\"id\":\"7d3e8da1-2ae4-4f6d-88b0-769f99d8392a\",\"type\":\"ColumnDataSource\"}},\"id\":\"29d88d5e-85a9-455e-b9e8-e594cd2a46ed\",\"type\":\"CDSView\"},{\"attributes\":{\"callback\":null,\"data\":{\"x\":{\"__ndarray__\":\"WzRjhjxIDUBnuR4XmlQKQNyNq6t7HglAAOP+6ouTB0B0G1Db1rQFQE552tU0hANAucWXtLsYAUBImjjvoRr9PzbYIA48Gfg/QxZPEG2H8z8t5TygmVXvP3D10qZlMOk/6AlxJuo45D8O8i5m3jPfP18YgL7Q7dk/aaVC+fMG2T+z6rP81lHYP1c/SoFchNc/1aYrJZvS1z93TDxCEY7ZPzxZ7iGev9w/Sfr0E2fI4D/SG2ZB8dThPwivFpCr0OE/Gn5++1244T+Q5jlgQa/gP/yCjppap94/I2se3mj22z9DivYYN3LZPxCj8PgXv9c///xXAqyZ1j+43SzwZCnVP/mIwpLqptM/x0S8Lto80j/650FW5lrOP91uOd5bS8Q/cE5Rm6eKtz8/rx1HrKK5P3QiVQUX68M/wsUdI1v6yj+iU884G8XVP1q4prIOWeY/LqE4OX+Z8D+K1guKKUr0P/3oM0PfKvU/nQNvekSB8z/S86U5157xPy/hWw16Fu4/E+Z0ZgPh5j8svpb6FIzhPzZmTwCfz9o/UIDfhGdA0z9+MiY0oa/IP3Q3maFz77s/gryWWC/KrD8F3dpU8YidP6ZHTlrWmpE/oVQbh5fChz+x4pdIZtuEP/5HX8jPCoc/lKdR6Nncjz+Cv5uU9OuVP8RoCk+ep5Y/x8moEFhfjT/oNd7PkSpqPwF/BH6SdXS/+DmUAa8Zfr+e92GEtXxzv1C1DfrPXlO/WHWczacxUj9TJOEKCGRhP0wlHb4ig2Q/Dh5kngLdZD+xOG8988ZkPxiFaoUsVrE/\",\"dtype\":\"float64\",\"shape\":[75]},\"y\":{\"__ndarray__\":\"GhExyth1ND/Sv8nbtpRIP2vylNV0PVE/aTum7souWD/At0SJ8fVgPw3Iuahxymc/MSNhhJWvcD/bTfBN02d3P2zb5nxnaoA/CD5h5MAGhz8NmeH1TyaQP+zrCsc9p5Y/LbKd76fGnz/bLW5ISEmmPww9YvTcQq8/JV2OstnstT8Er5Y7M8G+P0c+r3jqkcU/5h99k6ZBzj88bCIzFzjVP4enV8oyxN0//yH99nXg5D8qOpLLf0jtP5kqGJXUifQ/c9cS8kHP/D+/DpwzojQEQIEmwoanVwxA4lgXt9HgE0BSSZ2AJuIbQAMJih9jjiNA5q4l5INuK0AwTKYKRj0zQNv5fmq8/DpAaCJseHrtQkB/+zpwzoxKQM3MzMzMeFJAZmZmZmZqWEAAAAAAAFxeQM3MzMzMJmJAmpmZmZkfZUBmZmZmZhhoQDMzMzMzEWtAAAAAAAAKbkBmZmZmZoFwQM3MzMzM/XFAMzMzMzN6c0CamZmZmfZ0QAAAAAAAc3ZAZmZmZmbvd0DNzMzMzGt5QDMzMzMz6HpAmpmZmZlkfEAAAAAAAOF9QGZmZmZmXX9AZmZmZuZsgECamZmZGSuBQM3MzMxM6YFAAAAAAICngkAzMzMzs2WDQGZmZmbmI4RAmpmZmRnihEDNzMzMTKCFQAAAAACAXoZAMzMzM7Mch0BmZmZm5tqHQJqZmZkZmYhAzczMzExXiUAAAAAAgBWKQDMzMzOz04pAZmZmZuaRi0CamZmZGVCMQM3MzMxMDo1AAAAAAIDMjUAzMzMzs4qOQGZmZmbmSI9A\",\"dtype\":\"float64\",\"shape\":[75]}},\"selected\":{\"id\":\"6484b1e6-2392-49f9-80c8-99c20db9f85c\",\"type\":\"Selection\"},\"selection_policy\":{\"id\":\"2392fd4f-681a-41bb-b36b-02e34d342fdc\",\"type\":\"UnionRenderers\"}},\"id\":\"7d3e8da1-2ae4-4f6d-88b0-769f99d8392a\",\"type\":\"ColumnDataSource\"},{\"attributes\":{\"plot\":null,\"text\":\"Log pressure scale\"},\"id\":\"ed7aa89b-477e-44fa-bfb9-7c6b4c1bb2b8\",\"type\":\"Title\"},{\"attributes\":{\"line_alpha\":0.6,\"line_color\":\"#984ea3\",\"line_width\":3,\"x\":{\"field\":\"x\"},\"y\":{\"field\":\"y\"}},\"id\":\"b4abee26-f9a2-4803-87ce-8149418f39ee\",\"type\":\"Line\"},{\"attributes\":{\"label\":{\"value\":\"CLIRAD `coolr_bands`\"},\"renderers\":[{\"id\":\"5b53f4b7-ad2c-4345-b853-3539f401f110\",\"type\":\"GlyphRenderer\"}]},\"id\":\"8e83438a-fd41-45e3-9f6a-4326a49faa50\",\"type\":\"LegendItem\"},{\"attributes\":{\"callback\":null,\"data\":{\"x\":{\"__ndarray__\":\"3st9chTwFUAR4zWv6nwRQHjPJiyWtw9AG1merL1EDEBLsDic+cUIQLIIap1dYwVAMi/RapI5AkAcbEX2nK/+P5grKLEQgvk/7OsKxz3n9D8MKZpiadvwP0j0Ovstruo/G3Wd276G5D+cLHsz5sXdPxJezOA55dc/LEgSCGTE1z/CsJFesyDYP/ifBE+EAdg/BJWOxXhF2D8xCTgA8lDZP4K5ioNTuNs/yMX/uibm3z8z1A+H+IngPyOIbzhex98/KNGSx9Oy3j9qykbOX/TcP0Eg4cUMXts/8KXwoNn12T/nT+EpYJLYP169q5r3Ktc/jboxmBq81T8dkns2gj/UP1Ao+jIHt9I/UhnWv7FI0T9ktp4ADkrNP43yaaGmjsQ/hx6tQcoVuj+WFVg6/o+8P3LN9H3+HMU/Q5SrL331yz8wA75wIS7WP6T7OQX5eeY/alUBra+k8D9cXhSYqQT0P6FAjpw70PQ/MeR9wROf8z+4nnzVJX7xP+waiMDs2e0/CFLvyqqf5z/0F5vS0XziPzhwIIc109s/7pfLHWjL0z/yNC5Ws1LKPxyxecm9SMA/C4M3RuD/sj+S/dqXv4SlP5cNNYFXCJk/Ie8dgbQJkD8AeC3pdJWIP1aNgRxk94g/BBdjFI+BkD8qnhV520qWP2TQx4Sx6JY/yRkdn6+qjT9i6B0WhqJqPxucM6PZXHS/unjZHbQRfr+1OPb75Hlzv/Y5mVwuWVO//zoExUA0Uj+IzO1CmWRhP6b0frKRg2Q/kFu0xVPdZD+gnZJ+QsdkP5t60PgtVrE/\",\"dtype\":\"float64\",\"shape\":[75]},\"y\":{\"__ndarray__\":\"GhExyth1ND/Sv8nbtpRIP2vylNV0PVE/aTum7souWD/At0SJ8fVgPw3Iuahxymc/MSNhhJWvcD/bTfBN02d3P2zb5nxnaoA/CD5h5MAGhz8NmeH1TyaQP+zrCsc9p5Y/LbKd76fGnz/bLW5ISEmmPww9YvTcQq8/JV2OstnstT8Er5Y7M8G+P0c+r3jqkcU/5h99k6ZBzj88bCIzFzjVP4enV8oyxN0//yH99nXg5D8qOpLLf0jtP5kqGJXUifQ/c9cS8kHP/D+/DpwzojQEQIEmwoanVwxA4lgXt9HgE0BSSZ2AJuIbQAMJih9jjiNA5q4l5INuK0AwTKYKRj0zQNv5fmq8/DpAaCJseHrtQkB/+zpwzoxKQM3MzMzMeFJAZmZmZmZqWEAAAAAAAFxeQM3MzMzMJmJAmpmZmZkfZUBmZmZmZhhoQDMzMzMzEWtAAAAAAAAKbkBmZmZmZoFwQM3MzMzM/XFAMzMzMzN6c0CamZmZmfZ0QAAAAAAAc3ZAZmZmZmbvd0DNzMzMzGt5QDMzMzMz6HpAmpmZmZlkfEAAAAAAAOF9QGZmZmZmXX9AZmZmZuZsgECamZmZGSuBQM3MzMxM6YFAAAAAAICngkAzMzMzs2WDQGZmZmbmI4RAmpmZmRnihEDNzMzMTKCFQAAAAACAXoZAMzMzM7Mch0BmZmZm5tqHQJqZmZkZmYhAzczMzExXiUAAAAAAgBWKQDMzMzOz04pAZmZmZuaRi0CamZmZGVCMQM3MzMxMDo1AAAAAAIDMjUAzMzMzs4qOQGZmZmbmSI9A\",\"dtype\":\"float64\",\"shape\":[75]}},\"selected\":{\"id\":\"a406c4f5-c8ba-4638-9629-49195ac194d0\",\"type\":\"Selection\"},\"selection_policy\":{\"id\":\"d905026e-b63c-4b9c-b579-ac078c7f29ad\",\"type\":\"UnionRenderers\"}},\"id\":\"33b035e6-6e57-4b24-b936-a49702c23226\",\"type\":\"ColumnDataSource\"},{\"attributes\":{\"label\":{\"value\":\"CRD\"},\"renderers\":[{\"id\":\"d8ac1859-968f-4682-ac68-dcf9eb1024df\",\"type\":\"GlyphRenderer\"},{\"id\":\"b15b59ed-790e-4556-8176-0167f8805c9e\",\"type\":\"GlyphRenderer\"}]},\"id\":\"7542402c-b302-41db-8ecd-a9b3985e8d67\",\"type\":\"LegendItem\"},{\"attributes\":{\"callback\":null,\"data\":{\"x\":{\"__ndarray__\":\"3st9chTwFUAR4zWv6nwRQHjPJiyWtw9AG1merL1EDEBLsDic+cUIQLIIap1dYwVAMi/RapI5AkAcbEX2nK/+P5grKLEQgvk/7OsKxz3n9D8MKZpiadvwP0j0Ovstruo/G3Wd276G5D+cLHsz5sXdPxJezOA55dc/LEgSCGTE1z/CsJFesyDYP/ifBE+EAdg/BJWOxXhF2D8xCTgA8lDZP4K5ioNTuNs/yMX/uibm3z8z1A+H+IngPyOIbzhex98/KNGSx9Oy3j9qykbOX/TcP0Eg4cUMXts/8KXwoNn12T/nT+EpYJLYP169q5r3Ktc/jboxmBq81T8dkns2gj/UP1Ao+jIHt9I/UhnWv7FI0T9ktp4ADkrNP43yaaGmjsQ/hx6tQcoVuj+WFVg6/o+8P3LN9H3+HMU/Q5SrL331yz8wA75wIS7WP6T7OQX5eeY/alUBra+k8D9cXhSYqQT0P6FAjpw70PQ/MeR9wROf8z+4nnzVJX7xP+waiMDs2e0/CFLvyqqf5z/0F5vS0XziPzhwIIc109s/7pfLHWjL0z/yNC5Ws1LKPxyxecm9SMA/C4M3RuD/sj+S/dqXv4SlP5cNNYFXCJk/Ie8dgbQJkD8AeC3pdJWIP1aNgRxk94g/BBdjFI+BkD8qnhV520qWP2TQx4Sx6JY/yRkdn6+qjT9i6B0WhqJqPxucM6PZXHS/unjZHbQRfr+1OPb75Hlzv/Y5mVwuWVO//zoExUA0Uj+IzO1CmWRhP6b0frKRg2Q/kFu0xVPdZD+gnZJ+QsdkP5t60PgtVrE/\",\"dtype\":\"float64\",\"shape\":[75]},\"y\":{\"__ndarray__\":\"GhExyth1ND/Sv8nbtpRIP2vylNV0PVE/aTum7souWD/At0SJ8fVgPw3Iuahxymc/MSNhhJWvcD/bTfBN02d3P2zb5nxnaoA/CD5h5MAGhz8NmeH1TyaQP+zrCsc9p5Y/LbKd76fGnz/bLW5ISEmmPww9YvTcQq8/JV2OstnstT8Er5Y7M8G+P0c+r3jqkcU/5h99k6ZBzj88bCIzFzjVP4enV8oyxN0//yH99nXg5D8qOpLLf0jtP5kqGJXUifQ/c9cS8kHP/D+/DpwzojQEQIEmwoanVwxA4lgXt9HgE0BSSZ2AJuIbQAMJih9jjiNA5q4l5INuK0AwTKYKRj0zQNv5fmq8/DpAaCJseHrtQkB/+zpwzoxKQM3MzMzMeFJAZmZmZmZqWEAAAAAAAFxeQM3MzMzMJmJAmpmZmZkfZUBmZmZmZhhoQDMzMzMzEWtAAAAAAAAKbkBmZmZmZoFwQM3MzMzM/XFAMzMzMzN6c0CamZmZmfZ0QAAAAAAAc3ZAZmZmZmbvd0DNzMzMzGt5QDMzMzMz6HpAmpmZmZlkfEAAAAAAAOF9QGZmZmZmXX9AZmZmZuZsgECamZmZGSuBQM3MzMxM6YFAAAAAAICngkAzMzMzs2WDQGZmZmbmI4RAmpmZmRnihEDNzMzMTKCFQAAAAACAXoZAMzMzM7Mch0BmZmZm5tqHQJqZmZkZmYhAzczMzExXiUAAAAAAgBWKQDMzMzOz04pAZmZmZuaRi0CamZmZGVCMQM3MzMxMDo1AAAAAAIDMjUAzMzMzs4qOQGZmZmbmSI9A\",\"dtype\":\"float64\",\"shape\":[75]}},\"selected\":{\"id\":\"059d088f-3323-4279-9c0f-ab3b27193baa\",\"type\":\"Selection\"},\"selection_policy\":{\"id\":\"0000fc07-3657-4f9b-9533-12b4dbee05e0\",\"type\":\"UnionRenderers\"}},\"id\":\"4c69f69a-303e-4748-ab9d-ba56371e50f5\",\"type\":\"ColumnDataSource\"},{\"attributes\":{},\"id\":\"aa7825a5-6393-41fc-850a-937cac33abf0\",\"type\":\"UnionRenderers\"},{\"attributes\":{\"data_source\":{\"id\":\"7d3e8da1-2ae4-4f6d-88b0-769f99d8392a\",\"type\":\"ColumnDataSource\"},\"glyph\":{\"id\":\"b4abee26-f9a2-4803-87ce-8149418f39ee\",\"type\":\"Line\"},\"hover_glyph\":null,\"muted_glyph\":null,\"nonselection_glyph\":{\"id\":\"263bc051-779f-4b0c-b40e-5b30bb7cb3a8\",\"type\":\"Line\"},\"selection_glyph\":null,\"view\":{\"id\":\"29d88d5e-85a9-455e-b9e8-e594cd2a46ed\",\"type\":\"CDSView\"}},\"id\":\"d7727023-1204-4b35-a1de-9348cbec0939\",\"type\":\"GlyphRenderer\"},{\"attributes\":{\"source\":{\"id\":\"33b035e6-6e57-4b24-b936-a49702c23226\",\"type\":\"ColumnDataSource\"}},\"id\":\"b3ae8dcb-c091-4e9b-af16-d12eb01f1b65\",\"type\":\"CDSView\"},{\"attributes\":{\"callback\":null,\"data\":{\"x\":{\"__ndarray__\":\"3st9chTwFUAR4zWv6nwRQHjPJiyWtw9AG1merL1EDEBLsDic+cUIQLIIap1dYwVAMi/RapI5AkAcbEX2nK/+P5grKLEQgvk/7OsKxz3n9D8MKZpiadvwP0j0Ovstruo/G3Wd276G5D+cLHsz5sXdPxJezOA55dc/LEgSCGTE1z/CsJFesyDYP/ifBE+EAdg/BJWOxXhF2D8xCTgA8lDZP4K5ioNTuNs/yMX/uibm3z8z1A+H+IngPyOIbzhex98/KNGSx9Oy3j9qykbOX/TcP0Eg4cUMXts/8KXwoNn12T/nT+EpYJLYP169q5r3Ktc/jboxmBq81T8dkns2gj/UP1Ao+jIHt9I/UhnWv7FI0T9ktp4ADkrNP43yaaGmjsQ/hx6tQcoVuj+WFVg6/o+8P3LN9H3+HMU/Q5SrL331yz8wA75wIS7WP6T7OQX5eeY/alUBra+k8D9cXhSYqQT0P6FAjpw70PQ/MeR9wROf8z+4nnzVJX7xP+waiMDs2e0/CFLvyqqf5z/0F5vS0XziPzhwIIc109s/7pfLHWjL0z/yNC5Ws1LKPxyxecm9SMA/C4M3RuD/sj+S/dqXv4SlP5cNNYFXCJk/Ie8dgbQJkD8AeC3pdJWIP1aNgRxk94g/BBdjFI+BkD8qnhV520qWP2TQx4Sx6JY/yRkdn6+qjT9i6B0WhqJqPxucM6PZXHS/unjZHbQRfr+1OPb75Hlzv/Y5mVwuWVO//zoExUA0Uj+IzO1CmWRhP6b0frKRg2Q/kFu0xVPdZD+gnZJ+QsdkP5t60PgtVrE/\",\"dtype\":\"float64\",\"shape\":[75]},\"y\":{\"__ndarray__\":\"GhExyth1ND/Sv8nbtpRIP2vylNV0PVE/aTum7souWD/At0SJ8fVgPw3Iuahxymc/MSNhhJWvcD/bTfBN02d3P2zb5nxnaoA/CD5h5MAGhz8NmeH1TyaQP+zrCsc9p5Y/LbKd76fGnz/bLW5ISEmmPww9YvTcQq8/JV2OstnstT8Er5Y7M8G+P0c+r3jqkcU/5h99k6ZBzj88bCIzFzjVP4enV8oyxN0//yH99nXg5D8qOpLLf0jtP5kqGJXUifQ/c9cS8kHP/D+/DpwzojQEQIEmwoanVwxA4lgXt9HgE0BSSZ2AJuIbQAMJih9jjiNA5q4l5INuK0AwTKYKRj0zQNv5fmq8/DpAaCJseHrtQkB/+zpwzoxKQM3MzMzMeFJAZmZmZmZqWEAAAAAAAFxeQM3MzMzMJmJAmpmZmZkfZUBmZmZmZhhoQDMzMzMzEWtAAAAAAAAKbkBmZmZmZoFwQM3MzMzM/XFAMzMzMzN6c0CamZmZmfZ0QAAAAAAAc3ZAZmZmZmbvd0DNzMzMzGt5QDMzMzMz6HpAmpmZmZlkfEAAAAAAAOF9QGZmZmZmXX9AZmZmZuZsgECamZmZGSuBQM3MzMxM6YFAAAAAAICngkAzMzMzs2WDQGZmZmbmI4RAmpmZmRnihEDNzMzMTKCFQAAAAACAXoZAMzMzM7Mch0BmZmZm5tqHQJqZmZkZmYhAzczMzExXiUAAAAAAgBWKQDMzMzOz04pAZmZmZuaRi0CamZmZGVCMQM3MzMxMDo1AAAAAAIDMjUAzMzMzs4qOQGZmZmbmSI9A\",\"dtype\":\"float64\",\"shape\":[75]}},\"selected\":{\"id\":\"b06fea2c-650b-42c8-9732-ea5036849639\",\"type\":\"Selection\"},\"selection_policy\":{\"id\":\"3499602d-9a7c-4db8-83ef-18f1d87bab16\",\"type\":\"UnionRenderers\"}},\"id\":\"2d932581-1a1a-492c-b3d7-77adf309dbf5\",\"type\":\"ColumnDataSource\"},{\"attributes\":{},\"id\":\"357044e3-12b6-41b6-bf21-6e2448bf840a\",\"type\":\"LinearScale\"},{\"attributes\":{\"label\":{\"value\":\"WGT igg=10 wgt_flux=2\"},\"renderers\":[{\"id\":\"0925ad78-3be7-46b0-8b79-3c98eec71536\",\"type\":\"GlyphRenderer\"},{\"id\":\"59432820-7dc1-4f6b-954e-9d83797d93fa\",\"type\":\"GlyphRenderer\"}]},\"id\":\"eec18ada-285d-4859-9fd8-1ef76e7b1187\",\"type\":\"LegendItem\"},{\"attributes\":{},\"id\":\"072bf2db-9d0e-42a3-8f50-9f425c104470\",\"type\":\"Selection\"},{\"attributes\":{},\"id\":\"220b9ffc-cd5c-4bc5-867a-057595e8b51e\",\"type\":\"BasicTickFormatter\"},{\"attributes\":{},\"id\":\"a406c4f5-c8ba-4638-9629-49195ac194d0\",\"type\":\"Selection\"},{\"attributes\":{},\"id\":\"ea92d7d2-4073-4203-a053-1032f1b2eac4\",\"type\":\"BasicTickFormatter\"},{\"attributes\":{\"source\":{\"id\":\"8d4c513f-4e80-4655-9015-ba71b3b65211\",\"type\":\"ColumnDataSource\"}},\"id\":\"ced4d97c-b808-4acd-9ff7-a6a9d60a219e\",\"type\":\"CDSView\"},{\"attributes\":{\"overlay\":{\"id\":\"76d4aa74-1204-4927-9951-c639cf523909\",\"type\":\"BoxAnnotation\"}},\"id\":\"d416e8e2-3e54-4d08-b160-96d991fe358c\",\"type\":\"BoxZoomTool\"},{\"attributes\":{},\"id\":\"e68d5bb0-ba7f-4844-8d30-3d3fadf5ee3f\",\"type\":\"BasicTickFormatter\"},{\"attributes\":{\"bottom_units\":\"screen\",\"fill_alpha\":{\"value\":0.5},\"fill_color\":{\"value\":\"lightgrey\"},\"left_units\":\"screen\",\"level\":\"overlay\",\"line_alpha\":{\"value\":1.0},\"line_color\":{\"value\":\"black\"},\"line_dash\":[4,4],\"line_width\":{\"value\":2},\"plot\":null,\"render_mode\":\"css\",\"right_units\":\"screen\",\"top_units\":\"screen\"},\"id\":\"76d4aa74-1204-4927-9951-c639cf523909\",\"type\":\"BoxAnnotation\"},{\"attributes\":{},\"id\":\"6484b1e6-2392-49f9-80c8-99c20db9f85c\",\"type\":\"Selection\"},{\"attributes\":{},\"id\":\"e8129a29-9c86-4808-9efd-08e11dbd2add\",\"type\":\"WheelZoomTool\"},{\"attributes\":{\"line_color\":\"#4daf4a\",\"line_width\":1.5,\"x\":{\"field\":\"x\"},\"y\":{\"field\":\"y\"}},\"id\":\"ffbfcc6e-cada-4627-bc30-bda9679dfaca\",\"type\":\"Line\"},{\"attributes\":{\"fill_alpha\":{\"value\":0.1},\"fill_color\":{\"value\":\"#1f77b4\"},\"line_alpha\":{\"value\":0.1},\"line_color\":{\"value\":\"#1f77b4\"},\"x\":{\"field\":\"x\"},\"y\":{\"field\":\"y\"}},\"id\":\"4482e6fd-a54e-439d-b310-2498ab3a5901\",\"type\":\"Circle\"},{\"attributes\":{\"callback\":null,\"end\":1.359973443125567,\"start\":-0.0208865556822569},\"id\":\"d9bb7ee9-992b-45e7-8c05-24cc33d5a67a\",\"type\":\"Range1d\"},{\"attributes\":{\"data_source\":{\"id\":\"8d4c513f-4e80-4655-9015-ba71b3b65211\",\"type\":\"ColumnDataSource\"},\"glyph\":{\"id\":\"4a06ab90-6b3f-4e0e-acc3-c6b3d3b7cc10\",\"type\":\"Line\"},\"hover_glyph\":null,\"muted_glyph\":null,\"nonselection_glyph\":{\"id\":\"e3376de9-fc6c-43ae-87eb-ccaa42d14adb\",\"type\":\"Line\"},\"selection_glyph\":null,\"view\":{\"id\":\"ced4d97c-b808-4acd-9ff7-a6a9d60a219e\",\"type\":\"CDSView\"}},\"id\":\"5b53f4b7-ad2c-4345-b853-3539f401f110\",\"type\":\"GlyphRenderer\"},{\"attributes\":{\"data_source\":{\"id\":\"2d932581-1a1a-492c-b3d7-77adf309dbf5\",\"type\":\"ColumnDataSource\"},\"glyph\":{\"id\":\"a3092530-d844-4e9a-ae8d-9e8edcf048a8\",\"type\":\"Line\"},\"hover_glyph\":null,\"muted_glyph\":null,\"nonselection_glyph\":{\"id\":\"68098740-be79-4eaf-9298-ba342b3e9cf4\",\"type\":\"Line\"},\"selection_glyph\":null,\"view\":{\"id\":\"23fc2485-923e-4abb-a370-cb647dd332e8\",\"type\":\"CDSView\"}},\"id\":\"b15b59ed-790e-4556-8176-0167f8805c9e\",\"type\":\"GlyphRenderer\"},{\"attributes\":{\"ticker\":null},\"id\":\"06fcff85-4990-4f83-90db-57850e681d36\",\"type\":\"LogTickFormatter\"},{\"attributes\":{},\"id\":\"2392fd4f-681a-41bb-b36b-02e34d342fdc\",\"type\":\"UnionRenderers\"},{\"attributes\":{},\"id\":\"a6048382-c7d7-4cbd-a929-220c438e9d0c\",\"type\":\"UnionRenderers\"},{\"attributes\":{\"tools\":[{\"id\":\"b133242f-666c-4491-a202-583698be8f1b\",\"type\":\"PanTool\"},{\"id\":\"e8129a29-9c86-4808-9efd-08e11dbd2add\",\"type\":\"WheelZoomTool\"},{\"id\":\"3bee0742-fd2d-4ee3-9846-404d478b6d3c\",\"type\":\"BoxZoomTool\"},{\"id\":\"21bd7994-c731-4492-a9ed-6afd0bc5a59c\",\"type\":\"SaveTool\"},{\"id\":\"9e7945a1-207c-4294-b408-596bdb5df793\",\"type\":\"ResetTool\"},{\"id\":\"cb2c4987-9cd2-49ba-8d5e-e3dbac7691d4\",\"type\":\"HelpTool\"},{\"id\":\"b6d19acf-cdf7-4bef-831a-bf4afdd54cbf\",\"type\":\"PanTool\"},{\"id\":\"a273680b-dabb-40e5-9893-86b1e7255f08\",\"type\":\"WheelZoomTool\"},{\"id\":\"d416e8e2-3e54-4d08-b160-96d991fe358c\",\"type\":\"BoxZoomTool\"},{\"id\":\"a1a59fd6-0fc2-40a9-b80e-771a4f56e0a4\",\"type\":\"SaveTool\"},{\"id\":\"22d2ad34-8eed-4730-8429-022d47f344c1\",\"type\":\"ResetTool\"},{\"id\":\"42171114-f7dd-4b5a-83a2-9fe63ce0416b\",\"type\":\"HelpTool\"}]},\"id\":\"56ec4e2c-c50f-469c-94ec-dcba9c3d71e2\",\"type\":\"ProxyToolbar\"},{\"attributes\":{\"source\":{\"id\":\"2d932581-1a1a-492c-b3d7-77adf309dbf5\",\"type\":\"ColumnDataSource\"}},\"id\":\"23fc2485-923e-4abb-a370-cb647dd332e8\",\"type\":\"CDSView\"},{\"attributes\":{\"overlay\":{\"id\":\"37bcea46-a875-4b01-8820-0f9a14bde851\",\"type\":\"BoxAnnotation\"}},\"id\":\"3bee0742-fd2d-4ee3-9846-404d478b6d3c\",\"type\":\"BoxZoomTool\"},{\"attributes\":{\"fill_alpha\":{\"value\":0.7},\"fill_color\":{\"value\":\"#984ea3\"},\"line_alpha\":{\"value\":0.7},\"line_color\":{\"value\":\"#984ea3\"},\"x\":{\"field\":\"x\"},\"y\":{\"field\":\"y\"}},\"id\":\"8b87f13a-9eac-4a19-b9b0-9ad2dddf5231\",\"type\":\"Square\"},{\"attributes\":{},\"id\":\"059d088f-3323-4279-9c0f-ab3b27193baa\",\"type\":\"Selection\"},{\"attributes\":{\"data_source\":{\"id\":\"d8233601-a00b-4a4c-8fe2-4194c0976bef\",\"type\":\"ColumnDataSource\"},\"glyph\":{\"id\":\"8b87f13a-9eac-4a19-b9b0-9ad2dddf5231\",\"type\":\"Square\"},\"hover_glyph\":null,\"muted_glyph\":null,\"nonselection_glyph\":{\"id\":\"4fd4c9b5-f54c-4df7-9852-99c860ada6d8\",\"type\":\"Square\"},\"selection_glyph\":null,\"view\":{\"id\":\"ecfdbcca-7f29-4a3d-8fa6-5cb82c34c6a0\",\"type\":\"CDSView\"}},\"id\":\"0925ad78-3be7-46b0-8b79-3c98eec71536\",\"type\":\"GlyphRenderer\"},{\"attributes\":{\"source\":{\"id\":\"1283ce22-aa54-4883-b8f2-b041d3991a6d\",\"type\":\"ColumnDataSource\"}},\"id\":\"83fd3f8b-4ba1-45d9-8aff-dd70621b14c5\",\"type\":\"CDSView\"},{\"attributes\":{},\"id\":\"b06fea2c-650b-42c8-9732-ea5036849639\",\"type\":\"Selection\"},{\"attributes\":{\"axis_label\":\"pressure [mb]\",\"formatter\":{\"id\":\"e68d5bb0-ba7f-4844-8d30-3d3fadf5ee3f\",\"type\":\"BasicTickFormatter\"},\"plot\":{\"id\":\"bd3112b0-ea8b-4609-8a89-c519fc2a410e\",\"subtype\":\"Figure\",\"type\":\"Plot\"},\"ticker\":{\"id\":\"03652fb4-ebe0-49d3-85e5-d1481eef7823\",\"type\":\"BasicTicker\"}},\"id\":\"11b92238-fb1e-4223-becd-c6ae62933259\",\"type\":\"LinearAxis\"},{\"attributes\":{\"line_alpha\":0.1,\"line_color\":\"#1f77b4\",\"line_width\":1.5,\"x\":{\"field\":\"x\"},\"y\":{\"field\":\"y\"}},\"id\":\"5470af06-dd41-4a71-af0e-2fb088b1a363\",\"type\":\"Line\"},{\"attributes\":{},\"id\":\"0000fc07-3657-4f9b-9533-12b4dbee05e0\",\"type\":\"UnionRenderers\"},{\"attributes\":{},\"id\":\"b133242f-666c-4491-a202-583698be8f1b\",\"type\":\"PanTool\"},{\"attributes\":{\"callback\":null,\"data\":{\"x\":{\"__ndarray__\":\"WzRjhjxIDUBnuR4XmlQKQNyNq6t7HglAAOP+6ouTB0B0G1Db1rQFQE552tU0hANAucWXtLsYAUBImjjvoRr9PzbYIA48Gfg/QxZPEG2H8z8t5TygmVXvP3D10qZlMOk/6AlxJuo45D8O8i5m3jPfP18YgL7Q7dk/aaVC+fMG2T+z6rP81lHYP1c/SoFchNc/1aYrJZvS1z93TDxCEY7ZPzxZ7iGev9w/Sfr0E2fI4D/SG2ZB8dThPwivFpCr0OE/Gn5++1244T+Q5jlgQa/gP/yCjppap94/I2se3mj22z9DivYYN3LZPxCj8PgXv9c///xXAqyZ1j+43SzwZCnVP/mIwpLqptM/x0S8Lto80j/650FW5lrOP91uOd5bS8Q/cE5Rm6eKtz8/rx1HrKK5P3QiVQUX68M/wsUdI1v6yj+iU884G8XVP1q4prIOWeY/LqE4OX+Z8D+K1guKKUr0P/3oM0PfKvU/nQNvekSB8z/S86U5157xPy/hWw16Fu4/E+Z0ZgPh5j8svpb6FIzhPzZmTwCfz9o/UIDfhGdA0z9+MiY0oa/IP3Q3maFz77s/gryWWC/KrD8F3dpU8YidP6ZHTlrWmpE/oVQbh5fChz+x4pdIZtuEP/5HX8jPCoc/lKdR6Nncjz+Cv5uU9OuVP8RoCk+ep5Y/x8moEFhfjT/oNd7PkSpqPwF/BH6SdXS/+DmUAa8Zfr+e92GEtXxzv1C1DfrPXlO/WHWczacxUj9TJOEKCGRhP0wlHb4ig2Q/Dh5kngLdZD+xOG8988ZkPxiFaoUsVrE/\",\"dtype\":\"float64\",\"shape\":[75]},\"y\":{\"__ndarray__\":\"GhExyth1ND/Sv8nbtpRIP2vylNV0PVE/aTum7souWD/At0SJ8fVgPw3Iuahxymc/MSNhhJWvcD/bTfBN02d3P2zb5nxnaoA/CD5h5MAGhz8NmeH1TyaQP+zrCsc9p5Y/LbKd76fGnz/bLW5ISEmmPww9YvTcQq8/JV2OstnstT8Er5Y7M8G+P0c+r3jqkcU/5h99k6ZBzj88bCIzFzjVP4enV8oyxN0//yH99nXg5D8qOpLLf0jtP5kqGJXUifQ/c9cS8kHP/D+/DpwzojQEQIEmwoanVwxA4lgXt9HgE0BSSZ2AJuIbQAMJih9jjiNA5q4l5INuK0AwTKYKRj0zQNv5fmq8/DpAaCJseHrtQkB/+zpwzoxKQM3MzMzMeFJAZmZmZmZqWEAAAAAAAFxeQM3MzMzMJmJAmpmZmZkfZUBmZmZmZhhoQDMzMzMzEWtAAAAAAAAKbkBmZmZmZoFwQM3MzMzM/XFAMzMzMzN6c0CamZmZmfZ0QAAAAAAAc3ZAZmZmZmbvd0DNzMzMzGt5QDMzMzMz6HpAmpmZmZlkfEAAAAAAAOF9QGZmZmZmXX9AZmZmZuZsgECamZmZGSuBQM3MzMxM6YFAAAAAAICngkAzMzMzs2WDQGZmZmbmI4RAmpmZmRnihEDNzMzMTKCFQAAAAACAXoZAMzMzM7Mch0BmZmZm5tqHQJqZmZkZmYhAzczMzExXiUAAAAAAgBWKQDMzMzOz04pAZmZmZuaRi0CamZmZGVCMQM3MzMxMDo1AAAAAAIDMjUAzMzMzs4qOQGZmZmbmSI9A\",\"dtype\":\"float64\",\"shape\":[75]}},\"selected\":{\"id\":\"072bf2db-9d0e-42a3-8f50-9f425c104470\",\"type\":\"Selection\"},\"selection_policy\":{\"id\":\"aa7825a5-6393-41fc-850a-937cac33abf0\",\"type\":\"UnionRenderers\"}},\"id\":\"0d55f6de-7ba0-4ca1-8381-cbeac5186957\",\"type\":\"ColumnDataSource\"},{\"attributes\":{},\"id\":\"57c95fd6-73d0-4859-ad2b-2c49386a548e\",\"type\":\"Selection\"},{\"attributes\":{\"bottom_units\":\"screen\",\"fill_alpha\":{\"value\":0.5},\"fill_color\":{\"value\":\"lightgrey\"},\"left_units\":\"screen\",\"level\":\"overlay\",\"line_alpha\":{\"value\":1.0},\"line_color\":{\"value\":\"black\"},\"line_dash\":[4,4],\"line_width\":{\"value\":2},\"plot\":null,\"render_mode\":\"css\",\"right_units\":\"screen\",\"top_units\":\"screen\"},\"id\":\"37bcea46-a875-4b01-8820-0f9a14bde851\",\"type\":\"BoxAnnotation\"},{\"attributes\":{},\"id\":\"b0a2b808-a5fd-4b18-a470-c0123e854af2\",\"type\":\"UnionRenderers\"},{\"attributes\":{},\"id\":\"3499602d-9a7c-4db8-83ef-18f1d87bab16\",\"type\":\"UnionRenderers\"},{\"attributes\":{},\"id\":\"b6d19acf-cdf7-4bef-831a-bf4afdd54cbf\",\"type\":\"PanTool\"},{\"attributes\":{},\"id\":\"7609b286-7c7f-4326-9fde-965bfeade11c\",\"type\":\"UnionRenderers\"},{\"attributes\":{},\"id\":\"42171114-f7dd-4b5a-83a2-9fe63ce0416b\",\"type\":\"HelpTool\"},{\"attributes\":{},\"id\":\"f2490a71-7c60-4a92-bb86-e9530dcb9387\",\"type\":\"Selection\"},{\"attributes\":{\"toolbar\":{\"id\":\"56ec4e2c-c50f-469c-94ec-dcba9c3d71e2\",\"type\":\"ProxyToolbar\"},\"toolbar_location\":\"above\"},\"id\":\"3e3961e0-72c0-4c11-81c3-02c10a3e6d7a\",\"type\":\"ToolbarBox\"},{\"attributes\":{},\"id\":\"22d2ad34-8eed-4730-8429-022d47f344c1\",\"type\":\"ResetTool\"},{\"attributes\":{\"children\":[{\"id\":\"3e3961e0-72c0-4c11-81c3-02c10a3e6d7a\",\"type\":\"ToolbarBox\"},{\"id\":\"d03e3d1d-c03c-426d-8749-07c9ea4a2244\",\"type\":\"Column\"}]},\"id\":\"54e7f367-c646-4a10-b983-5ed9f9397a1c\",\"type\":\"Column\"},{\"attributes\":{},\"id\":\"62c89a6d-bca0-4e5b-8b22-f3cca9a81aea\",\"type\":\"UnionRenderers\"},{\"attributes\":{},\"id\":\"cb2c4987-9cd2-49ba-8d5e-e3dbac7691d4\",\"type\":\"HelpTool\"},{\"attributes\":{\"source\":{\"id\":\"4c69f69a-303e-4748-ab9d-ba56371e50f5\",\"type\":\"ColumnDataSource\"}},\"id\":\"ee4e4575-b975-48ed-8906-2cf17bb3aafa\",\"type\":\"CDSView\"},{\"attributes\":{},\"id\":\"fbeca1e0-138f-47f4-acbd-4902f7b1ba0e\",\"type\":\"Selection\"},{\"attributes\":{\"source\":{\"id\":\"0d55f6de-7ba0-4ca1-8381-cbeac5186957\",\"type\":\"ColumnDataSource\"}},\"id\":\"8fee85d7-9417-4384-a276-79b2b1c32db8\",\"type\":\"CDSView\"},{\"attributes\":{},\"id\":\"a1a59fd6-0fc2-40a9-b80e-771a4f56e0a4\",\"type\":\"SaveTool\"},{\"attributes\":{\"below\":[{\"id\":\"6d723488-a258-4581-966c-aa3607690fe8\",\"type\":\"LinearAxis\"}],\"left\":[{\"id\":\"b068f212-61dd-4e35-9a9d-4b79f1916367\",\"type\":\"LogAxis\"}],\"plot_height\":500,\"plot_width\":560,\"renderers\":[{\"id\":\"6d723488-a258-4581-966c-aa3607690fe8\",\"type\":\"LinearAxis\"},{\"id\":\"8cd5b9a2-bcd8-402c-9d32-70a2c726e77e\",\"type\":\"Grid\"},{\"id\":\"b068f212-61dd-4e35-9a9d-4b79f1916367\",\"type\":\"LogAxis\"},{\"id\":\"77fcc4a9-4531-446a-baef-e7a02ebc26a9\",\"type\":\"Grid\"},{\"id\":\"76d4aa74-1204-4927-9951-c639cf523909\",\"type\":\"BoxAnnotation\"},{\"id\":\"5b53f4b7-ad2c-4345-b853-3539f401f110\",\"type\":\"GlyphRenderer\"},{\"id\":\"d8ac1859-968f-4682-ac68-dcf9eb1024df\",\"type\":\"GlyphRenderer\"},{\"id\":\"b15b59ed-790e-4556-8176-0167f8805c9e\",\"type\":\"GlyphRenderer\"},{\"id\":\"0925ad78-3be7-46b0-8b79-3c98eec71536\",\"type\":\"GlyphRenderer\"},{\"id\":\"59432820-7dc1-4f6b-954e-9d83797d93fa\",\"type\":\"GlyphRenderer\"},{\"id\":\"7b190214-75be-4ebf-bf37-69d7e1d4927c\",\"type\":\"Legend\"}],\"right\":[{\"id\":\"7b190214-75be-4ebf-bf37-69d7e1d4927c\",\"type\":\"Legend\"}],\"title\":{\"id\":\"ed7aa89b-477e-44fa-bfb9-7c6b4c1bb2b8\",\"type\":\"Title\"},\"toolbar\":{\"id\":\"9d039b46-5a6b-491b-83c5-ffd7be145e6f\",\"type\":\"Toolbar\"},\"toolbar_location\":null,\"x_range\":{\"id\":\"b0c6a930-1beb-49be-92ca-fbb2a80584f2\",\"type\":\"Range1d\"},\"x_scale\":{\"id\":\"6f24089b-0cca-47c6-a3d6-e3bdf7f6b4b7\",\"type\":\"LinearScale\"},\"y_range\":{\"id\":\"45a41bdc-c9e1-4600-91b7-a2d895cb5ae3\",\"type\":\"Range1d\"},\"y_scale\":{\"id\":\"7fcb471a-eaf1-467c-9c3b-26c2d357b263\",\"type\":\"LogScale\"}},\"id\":\"3e54b5b1-f2e0-45b8-b934-8ce511ff65d4\",\"subtype\":\"Figure\",\"type\":\"Plot\"},{\"attributes\":{},\"id\":\"6f24089b-0cca-47c6-a3d6-e3bdf7f6b4b7\",\"type\":\"LinearScale\"},{\"attributes\":{\"axis_label\":\"pressure [mb]\",\"formatter\":{\"id\":\"06fcff85-4990-4f83-90db-57850e681d36\",\"type\":\"LogTickFormatter\"},\"plot\":{\"id\":\"3e54b5b1-f2e0-45b8-b934-8ce511ff65d4\",\"subtype\":\"Figure\",\"type\":\"Plot\"},\"ticker\":{\"id\":\"9a6513c2-2d74-4e27-ad03-8ae8f14dd9e8\",\"type\":\"LogTicker\"}},\"id\":\"b068f212-61dd-4e35-9a9d-4b79f1916367\",\"type\":\"LogAxis\"},{\"attributes\":{\"source\":{\"id\":\"549174b4-433a-4781-b447-3a216f341181\",\"type\":\"ColumnDataSource\"}},\"id\":\"c624deb8-43d4-451a-9469-d3756e1afdf7\",\"type\":\"CDSView\"},{\"attributes\":{\"plot\":{\"id\":\"bd3112b0-ea8b-4609-8a89-c519fc2a410e\",\"subtype\":\"Figure\",\"type\":\"Plot\"},\"ticker\":{\"id\":\"015d10bb-7d6a-40aa-a8e6-ebf955b7b4ab\",\"type\":\"BasicTicker\"}},\"id\":\"6e6edf3e-c63a-4447-981d-25ed30584286\",\"type\":\"Grid\"},{\"attributes\":{\"callback\":null,\"end\":1.3186655344,\"start\":0.0732318256},\"id\":\"b0c6a930-1beb-49be-92ca-fbb2a80584f2\",\"type\":\"Range1d\"},{\"attributes\":{\"dimension\":1,\"plot\":{\"id\":\"3e54b5b1-f2e0-45b8-b934-8ce511ff65d4\",\"subtype\":\"Figure\",\"type\":\"Plot\"},\"ticker\":{\"id\":\"9a6513c2-2d74-4e27-ad03-8ae8f14dd9e8\",\"type\":\"LogTicker\"}},\"id\":\"77fcc4a9-4531-446a-baef-e7a02ebc26a9\",\"type\":\"Grid\"},{\"attributes\":{\"data_source\":{\"id\":\"0d55f6de-7ba0-4ca1-8381-cbeac5186957\",\"type\":\"ColumnDataSource\"},\"glyph\":{\"id\":\"b204b5a0-a6ac-4ea2-a25e-459af80eefa8\",\"type\":\"Square\"},\"hover_glyph\":null,\"muted_glyph\":null,\"nonselection_glyph\":{\"id\":\"2f85e0a9-7e64-4a66-863d-8e80123ec409\",\"type\":\"Square\"},\"selection_glyph\":null,\"view\":{\"id\":\"8fee85d7-9417-4384-a276-79b2b1c32db8\",\"type\":\"CDSView\"}},\"id\":\"eef43117-1d63-4bb5-afe4-a7ae10623655\",\"type\":\"GlyphRenderer\"},{\"attributes\":{},\"id\":\"a273680b-dabb-40e5-9893-86b1e7255f08\",\"type\":\"WheelZoomTool\"},{\"attributes\":{\"data_source\":{\"id\":\"1283ce22-aa54-4883-b8f2-b041d3991a6d\",\"type\":\"ColumnDataSource\"},\"glyph\":{\"id\":\"29499aa6-c4aa-4c73-8ae0-9cb3eb6a9587\",\"type\":\"Circle\"},\"hover_glyph\":null,\"muted_glyph\":null,\"nonselection_glyph\":{\"id\":\"6d881204-a646-476d-9001-31dfc3c4e39b\",\"type\":\"Circle\"},\"selection_glyph\":null,\"view\":{\"id\":\"83fd3f8b-4ba1-45d9-8aff-dd70621b14c5\",\"type\":\"CDSView\"}},\"id\":\"fbac6a67-0390-4758-b0f5-ca322f2798d0\",\"type\":\"GlyphRenderer\"},{\"attributes\":{\"num_minor_ticks\":10},\"id\":\"9a6513c2-2d74-4e27-ad03-8ae8f14dd9e8\",\"type\":\"LogTicker\"},{\"attributes\":{\"fill_alpha\":{\"value\":0.1},\"fill_color\":{\"value\":\"#1f77b4\"},\"line_alpha\":{\"value\":0.1},\"line_color\":{\"value\":\"#1f77b4\"},\"x\":{\"field\":\"x\"},\"y\":{\"field\":\"y\"}},\"id\":\"4fd4c9b5-f54c-4df7-9852-99c860ada6d8\",\"type\":\"Square\"},{\"attributes\":{\"items\":[{\"id\":\"8e83438a-fd41-45e3-9f6a-4326a49faa50\",\"type\":\"LegendItem\"},{\"id\":\"7542402c-b302-41db-8ecd-a9b3985e8d67\",\"type\":\"LegendItem\"},{\"id\":\"eec18ada-285d-4859-9fd8-1ef76e7b1187\",\"type\":\"LegendItem\"}],\"label_text_font_size\":{\"value\":\"8pt\"},\"location\":[10,-30],\"plot\":{\"id\":\"3e54b5b1-f2e0-45b8-b934-8ce511ff65d4\",\"subtype\":\"Figure\",\"type\":\"Plot\"}},\"id\":\"7b190214-75be-4ebf-bf37-69d7e1d4927c\",\"type\":\"Legend\"},{\"attributes\":{\"callback\":null,\"end\":0.01,\"start\":1020},\"id\":\"45a41bdc-c9e1-4600-91b7-a2d895cb5ae3\",\"type\":\"Range1d\"},{\"attributes\":{\"line_alpha\":0.6,\"line_color\":\"#e41a1c\",\"line_dash\":[6],\"line_width\":5,\"x\":{\"field\":\"x\"},\"y\":{\"field\":\"y\"}},\"id\":\"99ec524f-8d78-43e1-80fa-439476bbd40c\",\"type\":\"Line\"},{\"attributes\":{},\"id\":\"ac9577b1-a1c2-4672-947e-b5d6cf23afbc\",\"type\":\"Selection\"},{\"attributes\":{\"callback\":null,\"data\":{\"x\":{\"__ndarray__\":\"nN7F+3GbCUAgVJitqzgIQISpdwKrlAdA6Ugu/yGdBkCZVlQOdz8FQNXLlHsmcANASdAEL58xAUBdxNIbST39P55vVSMF4Pc/NK0D1mDw8j+edOgVywTuPz6TPxAHZug/RPzkpAcw5D/LkSEJ8wXgPwWwGq6Clto/uq+5WXLL2D9f4AOFiybXP7k0fuGV5NU/dm6YcAFL1j9cpxXPbifYP7IMNwEC7do/ayGOln/E3j9yPisfOD3gP9kMquw/e+A/iApZBmrL4D+VLS9M6KbfP1N0ZrPRVt0/xxsNnhF+2j/84lKVtrjXP+GskAsxS9Y/HURCxmlp1T/lhjoHKr7TP79/kLgJb9I/1ENVyGw70T8hwoVdkITMP77LHP31K8M/zfjnN4bftT8/etwahWK3P4qy8T99dMI/XCP+OMxdyT+bQ0qa3LvUP5joJELAreU//uhAe5o48D+1nzE474T0P+O4Qg4Ai/U/6vtfZLiQ8z8sxxrk5FTyP80w3iRAbO8/fTsuT4yR5z+alOWY6pHiP+czRSUaSd0/nJjDKOeP1D/fxXc5V1rIP3ZXe3qag7g/25oPMDz0pj8Z0i+x/HCXP7vvpsgSt40/AYLewImNhj/9KzwL4eGDP11dvabhPYY/U5y3cnVOjz9t51GqqruVP7n1gYFziJY/BAvmA5BHjT+kEAlmWhBqP2bR2Vj5hHS/fi7UytYUfr+kid0ZUm5zv4BTeElFp1O/g51LgspQUj+NtyVT/XphP7whQXxWVWQ/5LuXKdT0ZD+k0Ilv7tBkPyQERr//VLE/\",\"dtype\":\"float64\",\"shape\":[75]},\"y\":{\"__ndarray__\":\"S/O/Q+51ND/Sv8nbtpRIP2vylNV0PVE/aTum7souWD/At0SJ8fVgPw3Iuahxymc/MSNhhJWvcD/bTfBN02d3P2zb5nxnaoA/CD5h5MAGhz8NmeH1TyaQP+zrCsc9p5Y/LbKd76fGnz/bLW5ISEmmPww9YvTcQq8/JV2OstnstT8Er5Y7M8G+P0c+r3jqkcU/5h99k6ZBzj88bCIzFzjVP4enV8oyxN0//yH99nXg5D8qOpLLf0jtP5kqGJXUifQ/c9cS8kHP/D+/DpwzojQEQIEmwoanVwxA4lgXt9HgE0BSSZ2AJuIbQAMJih9jjiNA5q4l5INuK0AwTKYKRj0zQNv5fmq8/DpAaCJseHrtQkB/+zpwzoxKQM3MzMzMeFJAZmZmZmZqWEAAAAAAAFxeQM3MzMzMJmJAmpmZmZkfZUBmZmZmZhhoQDMzMzMzEWtAAAAAAAAKbkBmZmZmZoFwQM3MzMzM/XFAMzMzMzN6c0CamZmZmfZ0QAAAAAAAc3ZAZmZmZmbvd0DNzMzMzGt5QDMzMzMz6HpAmpmZmZlkfEAAAAAAAOF9QGZmZmZmXX9AZmZmZuZsgECamZmZGSuBQM3MzMxM6YFAAAAAAICngkAzMzMzs2WDQGZmZmbmI4RAmpmZmRnihEDNzMzMTKCFQAAAAACAXoZAMzMzM7Mch0BmZmZm5tqHQJqZmZkZmYhAzczMzExXiUAAAAAAgBWKQDMzMzOz04pAZmZmZuaRi0CamZmZGVCMQM3MzMxMDo1AAAAAAIDMjUAzMzMzs4qOQGZmZmbmSI9A\",\"dtype\":\"float64\",\"shape\":[75]}},\"selected\":{\"id\":\"57c95fd6-73d0-4859-ad2b-2c49386a548e\",\"type\":\"Selection\"},\"selection_policy\":{\"id\":\"a6048382-c7d7-4cbd-a929-220c438e9d0c\",\"type\":\"UnionRenderers\"}},\"id\":\"8d4c513f-4e80-4655-9015-ba71b3b65211\",\"type\":\"ColumnDataSource\"},{\"attributes\":{\"line_alpha\":0.6,\"line_color\":\"#e41a1c\",\"line_dash\":[6],\"line_width\":5,\"x\":{\"field\":\"x\"},\"y\":{\"field\":\"y\"}},\"id\":\"4a06ab90-6b3f-4e0e-acc3-c6b3d3b7cc10\",\"type\":\"Line\"},{\"attributes\":{},\"id\":\"7dbdd9be-6815-449f-8f0b-e74a418fa0dd\",\"type\":\"Selection\"},{\"attributes\":{},\"id\":\"10f1d514-a5c3-4d54-b96b-36720e45d368\",\"type\":\"UnionRenderers\"},{\"attributes\":{\"line_alpha\":0.1,\"line_color\":\"#1f77b4\",\"line_dash\":[6],\"line_width\":5,\"x\":{\"field\":\"x\"},\"y\":{\"field\":\"y\"}},\"id\":\"cf44d956-b778-4252-99ad-10ab9c343ddc\",\"type\":\"Line\"}],\"root_ids\":[\"54e7f367-c646-4a10-b983-5ed9f9397a1c\"]},\"title\":\"Bokeh Application\",\"version\":\"0.12.16\"}};\n",
       "  var render_items = [{\"docid\":\"128fc4bc-e84d-4eec-985e-50252baa04bc\",\"elementid\":\"8c195e95-473e-4b65-9208-6bfcfdbd72ee\",\"modelid\":\"54e7f367-c646-4a10-b983-5ed9f9397a1c\"}];\n",
       "  root.Bokeh.embed.embed_items_notebook(docs_json, render_items);\n",
       "\n",
       "  }\n",
       "  if (root.Bokeh !== undefined) {\n",
       "    embed_document(root);\n",
       "  } else {\n",
       "    var attempts = 0;\n",
       "    var timer = setInterval(function(root) {\n",
       "      if (root.Bokeh !== undefined) {\n",
       "        embed_document(root);\n",
       "        clearInterval(timer);\n",
       "      }\n",
       "      attempts++;\n",
       "      if (attempts > 100) {\n",
       "        console.log(\"Bokeh: ERROR: Unable to run BokehJS code because BokehJS library is missing\")\n",
       "        clearInterval(timer);\n",
       "      }\n",
       "    }, 10, root)\n",
       "  }\n",
       "})(window);"
      ],
      "application/vnd.bokehjs_exec.v0+json": ""
     },
     "metadata": {
      "application/vnd.bokehjs_exec.v0+json": {
       "id": "54e7f367-c646-4a10-b983-5ed9f9397a1c"
      }
     },
     "output_type": "display_data"
    },
    {
     "name": "stdout",
     "output_type": "stream",
     "text": [
      "FIGURE. Cooling rate profiles.\n"
     ]
    },
    {
     "data": {
      "text/html": [
       "<a id=\"Flux_Comparison\"></a>"
      ],
      "text/plain": [
       "<IPython.core.display.HTML object>"
      ]
     },
     "metadata": {},
     "output_type": "display_data"
    },
    {
     "data": {
      "text/markdown": [
       "# Flux Comparison"
      ],
      "text/plain": [
       "<IPython.core.display.Markdown object>"
      ]
     },
     "metadata": {},
     "output_type": "display_data"
    },
    {
     "data": {
      "text/html": [
       "<div>\n",
       "<style scoped>\n",
       "    .dataframe tbody tr th:only-of-type {\n",
       "        vertical-align: middle;\n",
       "    }\n",
       "\n",
       "    .dataframe tbody tr th {\n",
       "        vertical-align: top;\n",
       "    }\n",
       "\n",
       "    .dataframe thead th {\n",
       "        text-align: right;\n",
       "    }\n",
       "</style>\n",
       "<table border=\"1\" class=\"dataframe\">\n",
       "  <thead>\n",
       "    <tr style=\"text-align: right;\">\n",
       "      <th></th>\n",
       "      <th></th>\n",
       "      <th>flug</th>\n",
       "      <th>fldg</th>\n",
       "      <th>fnetg</th>\n",
       "    </tr>\n",
       "    <tr>\n",
       "      <th>pressure</th>\n",
       "      <th>level</th>\n",
       "      <th></th>\n",
       "      <th></th>\n",
       "      <th></th>\n",
       "    </tr>\n",
       "  </thead>\n",
       "  <tbody>\n",
       "    <tr>\n",
       "      <th>0.0000</th>\n",
       "      <th>1</th>\n",
       "      <td>-34.370336</td>\n",
       "      <td>0.000000</td>\n",
       "      <td>-34.370336</td>\n",
       "    </tr>\n",
       "    <tr>\n",
       "      <th>1.0685</th>\n",
       "      <th>24</th>\n",
       "      <td>-34.374250</td>\n",
       "      <td>0.065202</td>\n",
       "      <td>-34.309048</td>\n",
       "    </tr>\n",
       "    <tr>\n",
       "      <th>1013.0000</th>\n",
       "      <th>76</th>\n",
       "      <td>-52.864384</td>\n",
       "      <td>52.677097</td>\n",
       "      <td>-0.187287</td>\n",
       "    </tr>\n",
       "  </tbody>\n",
       "</table>\n",
       "</div>"
      ],
      "text/plain": [
       "                      flug       fldg      fnetg\n",
       "pressure  level                                 \n",
       "0.0000    1     -34.370336   0.000000 -34.370336\n",
       "1.0685    24    -34.374250   0.065202 -34.309048\n",
       "1013.0000 76    -52.864384  52.677097  -0.187287"
      ]
     },
     "metadata": {},
     "output_type": "display_data"
    },
    {
     "name": "stdout",
     "output_type": "stream",
     "text": [
      "Table. Fluxes. CRD\n"
     ]
    },
    {
     "data": {
      "text/html": [
       "<div>\n",
       "<style scoped>\n",
       "    .dataframe tbody tr th:only-of-type {\n",
       "        vertical-align: middle;\n",
       "    }\n",
       "\n",
       "    .dataframe tbody tr th {\n",
       "        vertical-align: top;\n",
       "    }\n",
       "\n",
       "    .dataframe thead th {\n",
       "        text-align: right;\n",
       "    }\n",
       "</style>\n",
       "<table border=\"1\" class=\"dataframe\">\n",
       "  <thead>\n",
       "    <tr style=\"text-align: right;\">\n",
       "      <th></th>\n",
       "      <th></th>\n",
       "      <th>flug</th>\n",
       "      <th>fldg</th>\n",
       "      <th>fnetg</th>\n",
       "    </tr>\n",
       "    <tr>\n",
       "      <th>pressure</th>\n",
       "      <th>level</th>\n",
       "      <th></th>\n",
       "      <th></th>\n",
       "      <th></th>\n",
       "    </tr>\n",
       "  </thead>\n",
       "  <tbody>\n",
       "    <tr>\n",
       "      <th>0.0000</th>\n",
       "      <th>1</th>\n",
       "      <td>-34.029089</td>\n",
       "      <td>0.000000</td>\n",
       "      <td>-34.029089</td>\n",
       "    </tr>\n",
       "    <tr>\n",
       "      <th>1.0685</th>\n",
       "      <th>24</th>\n",
       "      <td>-34.031067</td>\n",
       "      <td>0.065329</td>\n",
       "      <td>-33.965736</td>\n",
       "    </tr>\n",
       "    <tr>\n",
       "      <th>1013.0000</th>\n",
       "      <th>76</th>\n",
       "      <td>-52.864384</td>\n",
       "      <td>52.677097</td>\n",
       "      <td>-0.187287</td>\n",
       "    </tr>\n",
       "  </tbody>\n",
       "</table>\n",
       "</div>"
      ],
      "text/plain": [
       "                      flug       fldg      fnetg\n",
       "pressure  level                                 \n",
       "0.0000    1     -34.029089   0.000000 -34.029089\n",
       "1.0685    24    -34.031067   0.065329 -33.965736\n",
       "1013.0000 76    -52.864384  52.677097  -0.187287"
      ]
     },
     "metadata": {},
     "output_type": "display_data"
    },
    {
     "name": "stdout",
     "output_type": "stream",
     "text": [
      "Table. Fluxes. WGT igg=10 wgt_flux=1\n"
     ]
    },
    {
     "data": {
      "text/html": [
       "<div>\n",
       "<style scoped>\n",
       "    .dataframe tbody tr th:only-of-type {\n",
       "        vertical-align: middle;\n",
       "    }\n",
       "\n",
       "    .dataframe tbody tr th {\n",
       "        vertical-align: top;\n",
       "    }\n",
       "\n",
       "    .dataframe thead th {\n",
       "        text-align: right;\n",
       "    }\n",
       "</style>\n",
       "<table border=\"1\" class=\"dataframe\">\n",
       "  <thead>\n",
       "    <tr style=\"text-align: right;\">\n",
       "      <th></th>\n",
       "      <th></th>\n",
       "      <th>flug</th>\n",
       "      <th>fldg</th>\n",
       "      <th>fnetg</th>\n",
       "    </tr>\n",
       "    <tr>\n",
       "      <th>pressure</th>\n",
       "      <th>level</th>\n",
       "      <th></th>\n",
       "      <th></th>\n",
       "      <th></th>\n",
       "    </tr>\n",
       "  </thead>\n",
       "  <tbody>\n",
       "    <tr>\n",
       "      <th>1.000000e-08</th>\n",
       "      <th>1</th>\n",
       "      <td>-34.159553</td>\n",
       "      <td>5.700803e-07</td>\n",
       "      <td>-34.159553</td>\n",
       "    </tr>\n",
       "    <tr>\n",
       "      <th>1.068500e+00</th>\n",
       "      <th>24</th>\n",
       "      <td>-34.161984</td>\n",
       "      <td>6.145939e-02</td>\n",
       "      <td>-34.100524</td>\n",
       "    </tr>\n",
       "    <tr>\n",
       "      <th>1.013000e+03</th>\n",
       "      <th>76</th>\n",
       "      <td>-52.864380</td>\n",
       "      <td>5.267708e+01</td>\n",
       "      <td>-0.187302</td>\n",
       "    </tr>\n",
       "  </tbody>\n",
       "</table>\n",
       "</div>"
      ],
      "text/plain": [
       "                         flug          fldg      fnetg\n",
       "pressure     level                                    \n",
       "1.000000e-08 1     -34.159553  5.700803e-07 -34.159553\n",
       "1.068500e+00 24    -34.161984  6.145939e-02 -34.100524\n",
       "1.013000e+03 76    -52.864380  5.267708e+01  -0.187302"
      ]
     },
     "metadata": {},
     "output_type": "display_data"
    },
    {
     "name": "stdout",
     "output_type": "stream",
     "text": [
      "Table. Fluxes. CLIRAD\n"
     ]
    },
    {
     "data": {
      "text/html": [
       "<div>\n",
       "<style scoped>\n",
       "    .dataframe tbody tr th:only-of-type {\n",
       "        vertical-align: middle;\n",
       "    }\n",
       "\n",
       "    .dataframe tbody tr th {\n",
       "        vertical-align: top;\n",
       "    }\n",
       "\n",
       "    .dataframe thead th {\n",
       "        text-align: right;\n",
       "    }\n",
       "</style>\n",
       "<table border=\"1\" class=\"dataframe\">\n",
       "  <thead>\n",
       "    <tr style=\"text-align: right;\">\n",
       "      <th></th>\n",
       "      <th></th>\n",
       "      <th>flug</th>\n",
       "      <th>fldg</th>\n",
       "      <th>fnetg</th>\n",
       "    </tr>\n",
       "    <tr>\n",
       "      <th>pressure</th>\n",
       "      <th>level</th>\n",
       "      <th></th>\n",
       "      <th></th>\n",
       "      <th></th>\n",
       "    </tr>\n",
       "  </thead>\n",
       "  <tbody>\n",
       "    <tr>\n",
       "      <th>0.0000</th>\n",
       "      <th>1</th>\n",
       "      <td>3.412469e-01</td>\n",
       "      <td>0.000000e+00</td>\n",
       "      <td>3.412469e-01</td>\n",
       "    </tr>\n",
       "    <tr>\n",
       "      <th>1.0685</th>\n",
       "      <th>24</th>\n",
       "      <td>3.431834e-01</td>\n",
       "      <td>1.266991e-04</td>\n",
       "      <td>3.433115e-01</td>\n",
       "    </tr>\n",
       "    <tr>\n",
       "      <th>1013.0000</th>\n",
       "      <th>76</th>\n",
       "      <td>-3.004000e-07</td>\n",
       "      <td>2.350000e-08</td>\n",
       "      <td>2.342950e-07</td>\n",
       "    </tr>\n",
       "  </tbody>\n",
       "</table>\n",
       "</div>"
      ],
      "text/plain": [
       "                         flug          fldg         fnetg\n",
       "pressure  level                                          \n",
       "0.0000    1      3.412469e-01  0.000000e+00  3.412469e-01\n",
       "1.0685    24     3.431834e-01  1.266991e-04  3.433115e-01\n",
       "1013.0000 76    -3.004000e-07  2.350000e-08  2.342950e-07"
      ]
     },
     "metadata": {},
     "output_type": "display_data"
    },
    {
     "name": "stdout",
     "output_type": "stream",
     "text": [
      "Table. Fluxes. (WGT igg=10 wgt_flux=1) - (CRD)\n"
     ]
    },
    {
     "data": {
      "text/html": [
       "<div>\n",
       "<style scoped>\n",
       "    .dataframe tbody tr th:only-of-type {\n",
       "        vertical-align: middle;\n",
       "    }\n",
       "\n",
       "    .dataframe tbody tr th {\n",
       "        vertical-align: top;\n",
       "    }\n",
       "\n",
       "    .dataframe thead th {\n",
       "        text-align: right;\n",
       "    }\n",
       "</style>\n",
       "<table border=\"1\" class=\"dataframe\">\n",
       "  <thead>\n",
       "    <tr style=\"text-align: right;\">\n",
       "      <th></th>\n",
       "      <th></th>\n",
       "      <th>flug</th>\n",
       "      <th>fldg</th>\n",
       "      <th>fnetg</th>\n",
       "    </tr>\n",
       "    <tr>\n",
       "      <th>pressure</th>\n",
       "      <th>level</th>\n",
       "      <th></th>\n",
       "      <th></th>\n",
       "      <th></th>\n",
       "    </tr>\n",
       "  </thead>\n",
       "  <tbody>\n",
       "    <tr>\n",
       "      <th>0.0000</th>\n",
       "      <th>1</th>\n",
       "      <td>0.210783</td>\n",
       "      <td>5.700803e-07</td>\n",
       "      <td>0.210783</td>\n",
       "    </tr>\n",
       "    <tr>\n",
       "      <th>1.0685</th>\n",
       "      <th>24</th>\n",
       "      <td>0.212266</td>\n",
       "      <td>-3.743069e-03</td>\n",
       "      <td>0.208524</td>\n",
       "    </tr>\n",
       "    <tr>\n",
       "      <th>1013.0000</th>\n",
       "      <th>76</th>\n",
       "      <td>0.000004</td>\n",
       "      <td>-1.900000e-05</td>\n",
       "      <td>-0.000015</td>\n",
       "    </tr>\n",
       "  </tbody>\n",
       "</table>\n",
       "</div>"
      ],
      "text/plain": [
       "                     flug          fldg     fnetg\n",
       "pressure  level                                  \n",
       "0.0000    1      0.210783  5.700803e-07  0.210783\n",
       "1.0685    24     0.212266 -3.743069e-03  0.208524\n",
       "1013.0000 76     0.000004 -1.900000e-05 -0.000015"
      ]
     },
     "metadata": {},
     "output_type": "display_data"
    },
    {
     "name": "stdout",
     "output_type": "stream",
     "text": [
      "Table. Fluxes. (CLIRAD) - (CRD)\n"
     ]
    },
    {
     "data": {
      "text/html": [
       "<a id=\"Best-fit_Parameters\"></a>"
      ],
      "text/plain": [
       "<IPython.core.display.HTML object>"
      ]
     },
     "metadata": {},
     "output_type": "display_data"
    },
    {
     "data": {
      "text/markdown": [
       "# Best-fit Parameters"
      ],
      "text/plain": [
       "<IPython.core.display.Markdown object>"
      ]
     },
     "metadata": {},
     "output_type": "display_data"
    },
    {
     "name": "stdout",
     "output_type": "stream",
     "text": [
      "Best-fit values for each (gas, band)\n",
      "------------------------------------\n",
      "o h2o band1\n",
      "  atmpro = mls\n",
      "  band = 1\n",
      "  commitnumber = a06b618\n",
      "  conc = None\n",
      "  dv = 0.001\n",
      "  klin = 0\n",
      "  molecule = h2o\n",
      "  ng_adju = [0, 0, 0]\n",
      "  ng_refs = [3, 3, 6]\n",
      "  nv = 1000\n",
      "  option_compute_btable = 0\n",
      "  option_compute_ktable = 1\n",
      "  option_wgt_flux = 1\n",
      "  option_wgt_k = 1\n",
      "  ref_pts = [(1, 250), (30, 250), (300, 250)]\n",
      "  tsfc = 294\n",
      "  vmax = 340\n",
      "  vmin = 20\n",
      "  w_diffuse = [(1.66, 1.66, 1.66), (1.66, 1.66, 1.66), (1.66, 1.66, 1.5, 1.5, 1.5, 1.5)]\n",
      "  wgt = [(0.2, 0.2, 0.2), (0.2, 0.2, 0.2), (0.2, 0.2, 0.65, 0.65, 0.65, 0.65)]\n"
     ]
    }
   ],
   "source": [
    "script()"
   ]
  },
  {
   "cell_type": "code",
   "execution_count": 13,
   "metadata": {
    "collapsed": true
   },
   "outputs": [
    {
     "data": {
      "text/html": [
       "<script>\n",
       "code_show=true; \n",
       "function code_toggle() {\n",
       " if (code_show){\n",
       " $('div.input').hide();\n",
       " } else {\n",
       " $('div.input').show();\n",
       " }\n",
       " code_show = !code_show\n",
       "} \n",
       "$( document ).ready(code_toggle);\n",
       "</script>\n",
       "<form action=\"javascript:code_toggle()\"><input type=\"submit\" value=\"Click here to toggle on/off the raw code.\"></form>"
      ],
      "text/plain": [
       "<IPython.core.display.HTML object>"
      ]
     },
     "execution_count": 13,
     "metadata": {},
     "output_type": "execute_result"
    }
   ],
   "source": [
    "display.HTML('''<script>\n",
    "code_show=true; \n",
    "function code_toggle() {\n",
    " if (code_show){\n",
    " $('div.input').hide();\n",
    " } else {\n",
    " $('div.input').show();\n",
    " }\n",
    " code_show = !code_show\n",
    "} \n",
    "$( document ).ready(code_toggle);\n",
    "</script>\n",
    "<form action=\"javascript:code_toggle()\"><input type=\"submit\" value=\"Click here to toggle on/off the raw code.\"></form>''')"
   ]
  }
 ],
 "metadata": {
  "kernelspec": {
   "display_name": "Python 3",
   "language": "python",
   "name": "python3"
  },
  "language_info": {
   "codemirror_mode": {
    "name": "ipython",
    "version": 3
   },
   "file_extension": ".py",
   "mimetype": "text/x-python",
   "name": "python",
   "nbconvert_exporter": "python",
   "pygments_lexer": "ipython3",
   "version": "3.6.1"
  }
 },
 "nbformat": 4,
 "nbformat_minor": 2
}
