{
 "cells": [
  {
   "cell_type": "code",
   "execution_count": 1,
   "metadata": {
    "collapsed": true
   },
   "outputs": [],
   "source": [
    "%matplotlib inline\n",
    "import os\n",
    "import re\n",
    "import io\n",
    "import itertools\n",
    "import pprint\n",
    "\n",
    "from bokeh.io import output_notebook, show\n",
    "from bokeh.layouts import gridplot\n",
    "from bokeh.plotting import figure\n",
    "from bokeh.models import Range1d, Legend\n",
    "from bokeh.palettes import all_palettes\n",
    "\n",
    "import matplotlib\n",
    "import matplotlib.pyplot as plt\n",
    "import numpy as np\n",
    "import pandas as pd\n",
    "import xarray as xr\n",
    "\n",
    "import climatools.lblnew.bestfit_params as bestfits\n",
    "from climatools.lblnew import setup_bestfit, setup_overlap\n",
    "import climatools.lblnew.pipeline as pipe_lblnew\n",
    "import climatools.cliradlw.setup as setup_cliradlw\n",
    "import climatools.cliradlw.pipeline as pipe_cliradlw\n",
    "\n",
    "import climatools.html.html as climahtml\n",
    "from climatools.lblnew.dataio import *\n",
    "from climatools.plot.plot import *\n",
    "\n",
    "\n",
    "import IPython.display as display"
   ]
  },
  {
   "cell_type": "code",
   "execution_count": 2,
   "metadata": {
    "collapsed": true
   },
   "outputs": [],
   "source": [
    "%run param.py"
   ]
  },
  {
   "cell_type": "code",
   "execution_count": 3,
   "metadata": {
    "collapsed": true
   },
   "outputs": [],
   "source": [
    "def load_output_file(path_csv):\n",
    "    '''\n",
    "    Load lblnew output .csv file to xarray.Dataset\n",
    "    \n",
    "    Parameters\n",
    "    ----------\n",
    "    path_csv: str\n",
    "              Path to the .csv file to be loaded.\n",
    "    ds: xarray.Dataset\n",
    "        Data in the input file in the form of an xarray.Dataset.\n",
    "    '''\n",
    "    toindex = ['band', 'pressure', 'igg', 'g']    \n",
    "    df = pd.read_csv(path_csv, sep=r'\\s+')\n",
    "    df = df.set_index([i for i in toindex if i in df.columns])\n",
    "    df = df.rename(columns={'sfu': 'flug',\n",
    "                            'sfd': 'fldg',\n",
    "                            'fnet': 'fnetg',\n",
    "                            'coolr': 'coolrg'})\n",
    "    ds = xr.Dataset.from_dataframe(df)\n",
    "\n",
    "    for l in ('level', 'layer'):\n",
    "        if l in ds.data_vars:\n",
    "            if len(ds[l].dims) > 1:\n",
    "                surface = {d: 0 for d in ds.dims if d != 'pressure'}\n",
    "                coord_level = ds[l][surface]\n",
    "                ds.coords[l] = ('pressure', coord_level)\n",
    "            else:\n",
    "                ds.coords[l] = ('pressure', ds[l])\n",
    "    \n",
    "    return ds"
   ]
  },
  {
   "cell_type": "code",
   "execution_count": 4,
   "metadata": {
    "collapsed": true
   },
   "outputs": [],
   "source": [
    "def lblnew_setup(param=None):\n",
    "    if 'ng_refs' in param:\n",
    "        return {'setup': setup_bestfit,\n",
    "                'fname_flux_crd': 'output_flux.dat',\n",
    "                'fname_cool_crd': 'output_coolr.dat',\n",
    "                'fname_flux_wgt': 'output_wfluxg.dat',\n",
    "                'fname_cool_wgt': 'output_wcoolrg.dat'}\n",
    "    else:\n",
    "        return {'setup': setup_overlap,\n",
    "                'fname_flux_crd': 'output_flux.dat',\n",
    "                'fname_cool_crd': 'output_coolr.dat',\n",
    "                'fname_flux_wgt': 'output_wflux.dat',\n",
    "                'fname_cool_wgt': 'output_wcoolr.dat'}\n",
    "\n",
    "    \n",
    "def load_lblnew_data(param):\n",
    "    \n",
    "    fname_dsname = [('fname_flux_crd', 'ds_flux_crd'),\n",
    "                    ('fname_cool_crd', 'ds_cool_crd'),\n",
    "                    ('fname_flux_wgt', 'ds_flux_wgt'),\n",
    "                    ('fname_cool_wgt', 'ds_cool_wgt')]\n",
    "    \n",
    "    d = lblnew_setup(param)\n",
    "    dir_fortran = pipe_lblnew.get_dir_case(param, setup=d['setup'])\n",
    "    \n",
    "    data_dict = {}\n",
    "    for fname, dsname in fname_dsname:\n",
    "        fpath = os.path.join(dir_fortran, d[fname])\n",
    "        data_dict[dsname] = load_output_file(fpath)\n",
    "    return data_dict\n",
    "    \n",
    "\n",
    "    \n",
    "    "
   ]
  },
  {
   "cell_type": "code",
   "execution_count": 5,
   "metadata": {
    "collapsed": true
   },
   "outputs": [],
   "source": [
    "d = load_lblnew_data(PARAM_LBLNEW)\n",
    "\n",
    "DS_FLUX_CRD = d['ds_flux_crd']\n",
    "DS_COOL_CRD = d['ds_cool_crd']\n",
    "DS_FLUX_WGT = d['ds_flux_wgt']\n",
    "DS_COOL_WGT = d['ds_cool_wgt']"
   ]
  },
  {
   "cell_type": "code",
   "execution_count": 6,
   "metadata": {
    "collapsed": true
   },
   "outputs": [],
   "source": [
    "DIR_FORTRAN = pipe_cliradlw.get_fortran_dir(PARAM, \n",
    "                                            setup=setup_cliradlw)\n",
    "\n",
    "PATH_FLUX = os.path.join(DIR_FORTRAN, 'output_flux.dat')\n",
    "PATH_COOL = os.path.join(DIR_FORTRAN, 'output_coolr.dat')\n",
    "\n",
    "DS_FLUX = load_output_file(PATH_FLUX)\n",
    "DS_COOL = load_output_file(PATH_COOL)"
   ]
  },
  {
   "cell_type": "code",
   "execution_count": 7,
   "metadata": {
    "collapsed": true
   },
   "outputs": [
    {
     "data": {
      "text/html": [
       "\n",
       "    <div class=\"bk-root\">\n",
       "        <a href=\"https://bokeh.pydata.org\" target=\"_blank\" class=\"bk-logo bk-logo-small bk-logo-notebook\"></a>\n",
       "        <span id=\"40676195-1d06-427a-819d-827c47bde64a\">Loading BokehJS ...</span>\n",
       "    </div>"
      ]
     },
     "metadata": {},
     "output_type": "display_data"
    },
    {
     "data": {
      "application/javascript": [
       "\n",
       "(function(root) {\n",
       "  function now() {\n",
       "    return new Date();\n",
       "  }\n",
       "\n",
       "  var force = true;\n",
       "\n",
       "  if (typeof (root._bokeh_onload_callbacks) === \"undefined\" || force === true) {\n",
       "    root._bokeh_onload_callbacks = [];\n",
       "    root._bokeh_is_loading = undefined;\n",
       "  }\n",
       "\n",
       "  var JS_MIME_TYPE = 'application/javascript';\n",
       "  var HTML_MIME_TYPE = 'text/html';\n",
       "  var EXEC_MIME_TYPE = 'application/vnd.bokehjs_exec.v0+json';\n",
       "  var CLASS_NAME = 'output_bokeh rendered_html';\n",
       "\n",
       "  /**\n",
       "   * Render data to the DOM node\n",
       "   */\n",
       "  function render(props, node) {\n",
       "    var script = document.createElement(\"script\");\n",
       "    node.appendChild(script);\n",
       "  }\n",
       "\n",
       "  /**\n",
       "   * Handle when an output is cleared or removed\n",
       "   */\n",
       "  function handleClearOutput(event, handle) {\n",
       "    var cell = handle.cell;\n",
       "\n",
       "    var id = cell.output_area._bokeh_element_id;\n",
       "    var server_id = cell.output_area._bokeh_server_id;\n",
       "    // Clean up Bokeh references\n",
       "    if (id !== undefined) {\n",
       "      Bokeh.index[id].model.document.clear();\n",
       "      delete Bokeh.index[id];\n",
       "    }\n",
       "\n",
       "    if (server_id !== undefined) {\n",
       "      // Clean up Bokeh references\n",
       "      var cmd = \"from bokeh.io.state import curstate; print(curstate().uuid_to_server['\" + server_id + \"'].get_sessions()[0].document.roots[0]._id)\";\n",
       "      cell.notebook.kernel.execute(cmd, {\n",
       "        iopub: {\n",
       "          output: function(msg) {\n",
       "            var element_id = msg.content.text.trim();\n",
       "            Bokeh.index[element_id].model.document.clear();\n",
       "            delete Bokeh.index[element_id];\n",
       "          }\n",
       "        }\n",
       "      });\n",
       "      // Destroy server and session\n",
       "      var cmd = \"import bokeh.io.notebook as ion; ion.destroy_server('\" + server_id + \"')\";\n",
       "      cell.notebook.kernel.execute(cmd);\n",
       "    }\n",
       "  }\n",
       "\n",
       "  /**\n",
       "   * Handle when a new output is added\n",
       "   */\n",
       "  function handleAddOutput(event, handle) {\n",
       "    var output_area = handle.output_area;\n",
       "    var output = handle.output;\n",
       "\n",
       "    // limit handleAddOutput to display_data with EXEC_MIME_TYPE content only\n",
       "    if ((output.output_type != \"display_data\") || (!output.data.hasOwnProperty(EXEC_MIME_TYPE))) {\n",
       "      return\n",
       "    }\n",
       "\n",
       "    var toinsert = output_area.element.find(\".\" + CLASS_NAME.split(' ')[0]);\n",
       "\n",
       "    if (output.metadata[EXEC_MIME_TYPE][\"id\"] !== undefined) {\n",
       "      toinsert[toinsert.length - 1].firstChild.textContent = output.data[JS_MIME_TYPE];\n",
       "      // store reference to embed id on output_area\n",
       "      output_area._bokeh_element_id = output.metadata[EXEC_MIME_TYPE][\"id\"];\n",
       "    }\n",
       "    if (output.metadata[EXEC_MIME_TYPE][\"server_id\"] !== undefined) {\n",
       "      var bk_div = document.createElement(\"div\");\n",
       "      bk_div.innerHTML = output.data[HTML_MIME_TYPE];\n",
       "      var script_attrs = bk_div.children[0].attributes;\n",
       "      for (var i = 0; i < script_attrs.length; i++) {\n",
       "        toinsert[toinsert.length - 1].firstChild.setAttribute(script_attrs[i].name, script_attrs[i].value);\n",
       "      }\n",
       "      // store reference to server id on output_area\n",
       "      output_area._bokeh_server_id = output.metadata[EXEC_MIME_TYPE][\"server_id\"];\n",
       "    }\n",
       "  }\n",
       "\n",
       "  function register_renderer(events, OutputArea) {\n",
       "\n",
       "    function append_mime(data, metadata, element) {\n",
       "      // create a DOM node to render to\n",
       "      var toinsert = this.create_output_subarea(\n",
       "        metadata,\n",
       "        CLASS_NAME,\n",
       "        EXEC_MIME_TYPE\n",
       "      );\n",
       "      this.keyboard_manager.register_events(toinsert);\n",
       "      // Render to node\n",
       "      var props = {data: data, metadata: metadata[EXEC_MIME_TYPE]};\n",
       "      render(props, toinsert[toinsert.length - 1]);\n",
       "      element.append(toinsert);\n",
       "      return toinsert\n",
       "    }\n",
       "\n",
       "    /* Handle when an output is cleared or removed */\n",
       "    events.on('clear_output.CodeCell', handleClearOutput);\n",
       "    events.on('delete.Cell', handleClearOutput);\n",
       "\n",
       "    /* Handle when a new output is added */\n",
       "    events.on('output_added.OutputArea', handleAddOutput);\n",
       "\n",
       "    /**\n",
       "     * Register the mime type and append_mime function with output_area\n",
       "     */\n",
       "    OutputArea.prototype.register_mime_type(EXEC_MIME_TYPE, append_mime, {\n",
       "      /* Is output safe? */\n",
       "      safe: true,\n",
       "      /* Index of renderer in `output_area.display_order` */\n",
       "      index: 0\n",
       "    });\n",
       "  }\n",
       "\n",
       "  // register the mime type if in Jupyter Notebook environment and previously unregistered\n",
       "  if (root.Jupyter !== undefined) {\n",
       "    var events = require('base/js/events');\n",
       "    var OutputArea = require('notebook/js/outputarea').OutputArea;\n",
       "\n",
       "    if (OutputArea.prototype.mime_types().indexOf(EXEC_MIME_TYPE) == -1) {\n",
       "      register_renderer(events, OutputArea);\n",
       "    }\n",
       "  }\n",
       "\n",
       "  \n",
       "  if (typeof (root._bokeh_timeout) === \"undefined\" || force === true) {\n",
       "    root._bokeh_timeout = Date.now() + 5000;\n",
       "    root._bokeh_failed_load = false;\n",
       "  }\n",
       "\n",
       "  var NB_LOAD_WARNING = {'data': {'text/html':\n",
       "     \"<div style='background-color: #fdd'>\\n\"+\n",
       "     \"<p>\\n\"+\n",
       "     \"BokehJS does not appear to have successfully loaded. If loading BokehJS from CDN, this \\n\"+\n",
       "     \"may be due to a slow or bad network connection. Possible fixes:\\n\"+\n",
       "     \"</p>\\n\"+\n",
       "     \"<ul>\\n\"+\n",
       "     \"<li>re-rerun `output_notebook()` to attempt to load from CDN again, or</li>\\n\"+\n",
       "     \"<li>use INLINE resources instead, as so:</li>\\n\"+\n",
       "     \"</ul>\\n\"+\n",
       "     \"<code>\\n\"+\n",
       "     \"from bokeh.resources import INLINE\\n\"+\n",
       "     \"output_notebook(resources=INLINE)\\n\"+\n",
       "     \"</code>\\n\"+\n",
       "     \"</div>\"}};\n",
       "\n",
       "  function display_loaded() {\n",
       "    var el = document.getElementById(\"40676195-1d06-427a-819d-827c47bde64a\");\n",
       "    if (el != null) {\n",
       "      el.textContent = \"BokehJS is loading...\";\n",
       "    }\n",
       "    if (root.Bokeh !== undefined) {\n",
       "      if (el != null) {\n",
       "        el.textContent = \"BokehJS \" + root.Bokeh.version + \" successfully loaded.\";\n",
       "      }\n",
       "    } else if (Date.now() < root._bokeh_timeout) {\n",
       "      setTimeout(display_loaded, 100)\n",
       "    }\n",
       "  }\n",
       "\n",
       "\n",
       "  function run_callbacks() {\n",
       "    try {\n",
       "      root._bokeh_onload_callbacks.forEach(function(callback) { callback() });\n",
       "    }\n",
       "    finally {\n",
       "      delete root._bokeh_onload_callbacks\n",
       "    }\n",
       "    console.info(\"Bokeh: all callbacks have finished\");\n",
       "  }\n",
       "\n",
       "  function load_libs(js_urls, callback) {\n",
       "    root._bokeh_onload_callbacks.push(callback);\n",
       "    if (root._bokeh_is_loading > 0) {\n",
       "      console.log(\"Bokeh: BokehJS is being loaded, scheduling callback at\", now());\n",
       "      return null;\n",
       "    }\n",
       "    if (js_urls == null || js_urls.length === 0) {\n",
       "      run_callbacks();\n",
       "      return null;\n",
       "    }\n",
       "    console.log(\"Bokeh: BokehJS not loaded, scheduling load and callback at\", now());\n",
       "    root._bokeh_is_loading = js_urls.length;\n",
       "    for (var i = 0; i < js_urls.length; i++) {\n",
       "      var url = js_urls[i];\n",
       "      var s = document.createElement('script');\n",
       "      s.src = url;\n",
       "      s.async = false;\n",
       "      s.onreadystatechange = s.onload = function() {\n",
       "        root._bokeh_is_loading--;\n",
       "        if (root._bokeh_is_loading === 0) {\n",
       "          console.log(\"Bokeh: all BokehJS libraries loaded\");\n",
       "          run_callbacks()\n",
       "        }\n",
       "      };\n",
       "      s.onerror = function() {\n",
       "        console.warn(\"failed to load library \" + url);\n",
       "      };\n",
       "      console.log(\"Bokeh: injecting script tag for BokehJS library: \", url);\n",
       "      document.getElementsByTagName(\"head\")[0].appendChild(s);\n",
       "    }\n",
       "  };var element = document.getElementById(\"40676195-1d06-427a-819d-827c47bde64a\");\n",
       "  if (element == null) {\n",
       "    console.log(\"Bokeh: ERROR: autoload.js configured with elementid '40676195-1d06-427a-819d-827c47bde64a' but no matching script tag was found. \")\n",
       "    return false;\n",
       "  }\n",
       "\n",
       "  var js_urls = [\"https://cdn.pydata.org/bokeh/release/bokeh-0.12.16.min.js\", \"https://cdn.pydata.org/bokeh/release/bokeh-widgets-0.12.16.min.js\", \"https://cdn.pydata.org/bokeh/release/bokeh-tables-0.12.16.min.js\", \"https://cdn.pydata.org/bokeh/release/bokeh-gl-0.12.16.min.js\"];\n",
       "\n",
       "  var inline_js = [\n",
       "    function(Bokeh) {\n",
       "      Bokeh.set_log_level(\"info\");\n",
       "    },\n",
       "    \n",
       "    function(Bokeh) {\n",
       "      \n",
       "    },\n",
       "    function(Bokeh) {\n",
       "      console.log(\"Bokeh: injecting CSS: https://cdn.pydata.org/bokeh/release/bokeh-0.12.16.min.css\");\n",
       "      Bokeh.embed.inject_css(\"https://cdn.pydata.org/bokeh/release/bokeh-0.12.16.min.css\");\n",
       "      console.log(\"Bokeh: injecting CSS: https://cdn.pydata.org/bokeh/release/bokeh-widgets-0.12.16.min.css\");\n",
       "      Bokeh.embed.inject_css(\"https://cdn.pydata.org/bokeh/release/bokeh-widgets-0.12.16.min.css\");\n",
       "      console.log(\"Bokeh: injecting CSS: https://cdn.pydata.org/bokeh/release/bokeh-tables-0.12.16.min.css\");\n",
       "      Bokeh.embed.inject_css(\"https://cdn.pydata.org/bokeh/release/bokeh-tables-0.12.16.min.css\");\n",
       "    }\n",
       "  ];\n",
       "\n",
       "  function run_inline_js() {\n",
       "    \n",
       "    if ((root.Bokeh !== undefined) || (force === true)) {\n",
       "      for (var i = 0; i < inline_js.length; i++) {\n",
       "        inline_js[i].call(root, root.Bokeh);\n",
       "      }if (force === true) {\n",
       "        display_loaded();\n",
       "      }} else if (Date.now() < root._bokeh_timeout) {\n",
       "      setTimeout(run_inline_js, 100);\n",
       "    } else if (!root._bokeh_failed_load) {\n",
       "      console.log(\"Bokeh: BokehJS failed to load within specified timeout.\");\n",
       "      root._bokeh_failed_load = true;\n",
       "    } else if (force !== true) {\n",
       "      var cell = $(document.getElementById(\"40676195-1d06-427a-819d-827c47bde64a\")).parents('.cell').data().cell;\n",
       "      cell.output_area.append_execute_result(NB_LOAD_WARNING)\n",
       "    }\n",
       "\n",
       "  }\n",
       "\n",
       "  if (root._bokeh_is_loading === 0) {\n",
       "    console.log(\"Bokeh: BokehJS loaded, going straight to plotting\");\n",
       "    run_inline_js();\n",
       "  } else {\n",
       "    load_libs(js_urls, function() {\n",
       "      console.log(\"Bokeh: BokehJS plotting callback run at\", now());\n",
       "      run_inline_js();\n",
       "    });\n",
       "  }\n",
       "}(window));"
      ],
      "application/vnd.bokehjs_load.v0+json": "\n(function(root) {\n  function now() {\n    return new Date();\n  }\n\n  var force = true;\n\n  if (typeof (root._bokeh_onload_callbacks) === \"undefined\" || force === true) {\n    root._bokeh_onload_callbacks = [];\n    root._bokeh_is_loading = undefined;\n  }\n\n  \n\n  \n  if (typeof (root._bokeh_timeout) === \"undefined\" || force === true) {\n    root._bokeh_timeout = Date.now() + 5000;\n    root._bokeh_failed_load = false;\n  }\n\n  var NB_LOAD_WARNING = {'data': {'text/html':\n     \"<div style='background-color: #fdd'>\\n\"+\n     \"<p>\\n\"+\n     \"BokehJS does not appear to have successfully loaded. If loading BokehJS from CDN, this \\n\"+\n     \"may be due to a slow or bad network connection. Possible fixes:\\n\"+\n     \"</p>\\n\"+\n     \"<ul>\\n\"+\n     \"<li>re-rerun `output_notebook()` to attempt to load from CDN again, or</li>\\n\"+\n     \"<li>use INLINE resources instead, as so:</li>\\n\"+\n     \"</ul>\\n\"+\n     \"<code>\\n\"+\n     \"from bokeh.resources import INLINE\\n\"+\n     \"output_notebook(resources=INLINE)\\n\"+\n     \"</code>\\n\"+\n     \"</div>\"}};\n\n  function display_loaded() {\n    var el = document.getElementById(\"40676195-1d06-427a-819d-827c47bde64a\");\n    if (el != null) {\n      el.textContent = \"BokehJS is loading...\";\n    }\n    if (root.Bokeh !== undefined) {\n      if (el != null) {\n        el.textContent = \"BokehJS \" + root.Bokeh.version + \" successfully loaded.\";\n      }\n    } else if (Date.now() < root._bokeh_timeout) {\n      setTimeout(display_loaded, 100)\n    }\n  }\n\n\n  function run_callbacks() {\n    try {\n      root._bokeh_onload_callbacks.forEach(function(callback) { callback() });\n    }\n    finally {\n      delete root._bokeh_onload_callbacks\n    }\n    console.info(\"Bokeh: all callbacks have finished\");\n  }\n\n  function load_libs(js_urls, callback) {\n    root._bokeh_onload_callbacks.push(callback);\n    if (root._bokeh_is_loading > 0) {\n      console.log(\"Bokeh: BokehJS is being loaded, scheduling callback at\", now());\n      return null;\n    }\n    if (js_urls == null || js_urls.length === 0) {\n      run_callbacks();\n      return null;\n    }\n    console.log(\"Bokeh: BokehJS not loaded, scheduling load and callback at\", now());\n    root._bokeh_is_loading = js_urls.length;\n    for (var i = 0; i < js_urls.length; i++) {\n      var url = js_urls[i];\n      var s = document.createElement('script');\n      s.src = url;\n      s.async = false;\n      s.onreadystatechange = s.onload = function() {\n        root._bokeh_is_loading--;\n        if (root._bokeh_is_loading === 0) {\n          console.log(\"Bokeh: all BokehJS libraries loaded\");\n          run_callbacks()\n        }\n      };\n      s.onerror = function() {\n        console.warn(\"failed to load library \" + url);\n      };\n      console.log(\"Bokeh: injecting script tag for BokehJS library: \", url);\n      document.getElementsByTagName(\"head\")[0].appendChild(s);\n    }\n  };var element = document.getElementById(\"40676195-1d06-427a-819d-827c47bde64a\");\n  if (element == null) {\n    console.log(\"Bokeh: ERROR: autoload.js configured with elementid '40676195-1d06-427a-819d-827c47bde64a' but no matching script tag was found. \")\n    return false;\n  }\n\n  var js_urls = [\"https://cdn.pydata.org/bokeh/release/bokeh-0.12.16.min.js\", \"https://cdn.pydata.org/bokeh/release/bokeh-widgets-0.12.16.min.js\", \"https://cdn.pydata.org/bokeh/release/bokeh-tables-0.12.16.min.js\", \"https://cdn.pydata.org/bokeh/release/bokeh-gl-0.12.16.min.js\"];\n\n  var inline_js = [\n    function(Bokeh) {\n      Bokeh.set_log_level(\"info\");\n    },\n    \n    function(Bokeh) {\n      \n    },\n    function(Bokeh) {\n      console.log(\"Bokeh: injecting CSS: https://cdn.pydata.org/bokeh/release/bokeh-0.12.16.min.css\");\n      Bokeh.embed.inject_css(\"https://cdn.pydata.org/bokeh/release/bokeh-0.12.16.min.css\");\n      console.log(\"Bokeh: injecting CSS: https://cdn.pydata.org/bokeh/release/bokeh-widgets-0.12.16.min.css\");\n      Bokeh.embed.inject_css(\"https://cdn.pydata.org/bokeh/release/bokeh-widgets-0.12.16.min.css\");\n      console.log(\"Bokeh: injecting CSS: https://cdn.pydata.org/bokeh/release/bokeh-tables-0.12.16.min.css\");\n      Bokeh.embed.inject_css(\"https://cdn.pydata.org/bokeh/release/bokeh-tables-0.12.16.min.css\");\n    }\n  ];\n\n  function run_inline_js() {\n    \n    if ((root.Bokeh !== undefined) || (force === true)) {\n      for (var i = 0; i < inline_js.length; i++) {\n        inline_js[i].call(root, root.Bokeh);\n      }if (force === true) {\n        display_loaded();\n      }} else if (Date.now() < root._bokeh_timeout) {\n      setTimeout(run_inline_js, 100);\n    } else if (!root._bokeh_failed_load) {\n      console.log(\"Bokeh: BokehJS failed to load within specified timeout.\");\n      root._bokeh_failed_load = true;\n    } else if (force !== true) {\n      var cell = $(document.getElementById(\"40676195-1d06-427a-819d-827c47bde64a\")).parents('.cell').data().cell;\n      cell.output_area.append_execute_result(NB_LOAD_WARNING)\n    }\n\n  }\n\n  if (root._bokeh_is_loading === 0) {\n    console.log(\"Bokeh: BokehJS loaded, going straight to plotting\");\n    run_inline_js();\n  } else {\n    load_libs(js_urls, function() {\n      console.log(\"Bokeh: BokehJS plotting callback run at\", now());\n      run_inline_js();\n    });\n  }\n}(window));"
     },
     "metadata": {},
     "output_type": "display_data"
    }
   ],
   "source": [
    "output_notebook()"
   ]
  },
  {
   "cell_type": "code",
   "execution_count": 8,
   "metadata": {
    "collapsed": true
   },
   "outputs": [],
   "source": [
    "def fmt_cool(ds_in):\n",
    "    ds = ds_in.copy(deep=True)\n",
    "    if 'igg' in ds.dims:\n",
    "        ds = ds.sel(igg=1)\n",
    "\n",
    "    if 'g' in ds.dims:\n",
    "        ds = ds.sum('g')\n",
    "            \n",
    "    if 'band' in ds.dims:\n",
    "        try:\n",
    "            ds = ds.squeeze('band')\n",
    "        except ValueError:\n",
    "            ds = ds.sum('band')\n",
    "                \n",
    "    return ds['coolrg']\n",
    "\n",
    "\n",
    "def pltdata_cooling_1(ds_cool=None,\n",
    "                      ds_cool_crd=None, ds_cool_wgt=None):\n",
    "    \n",
    "\n",
    "\n",
    "    colors = all_palettes['Set1'][4]\n",
    "    data = [{'label': 'CLIRAD `coolr_bands`',\n",
    "             'srs': fmt_cool(ds_cool),\n",
    "             'line_dash': 'dashed', 'line_width': 5,\n",
    "             'color': colors[0], 'alpha': .6},\n",
    "            {'label': 'CRD',\n",
    "             'srs': fmt_cool(ds_cool_crd),\n",
    "             'line_dash': 'solid', 'line_width': 1.5,\n",
    "             'marker': 'circle', 'marker_size': 5,\n",
    "             'color': colors[2], 'alpha': 1,},\n",
    "            {'label': 'WGT igg=10 wgt_flux=2',\n",
    "             'srs': fmt_cool(ds_cool_wgt),\n",
    "             'line_dash': 'solid', 'line_width': 3,\n",
    "             'marker': 'square', 'marker_size': 5,\n",
    "             'color': colors[3], 'alpha': .6}]\n",
    "    return data\n",
    "\n",
    "\n",
    "def nice_xlims(pltdata=None, prange=None):\n",
    "    \n",
    "    def get_slice(srs):\n",
    "        return srs.sel(pressure=slice(*prange))\n",
    "    \n",
    "    srss = [d['srs'] for d in pltdata]\n",
    "    vmin = min([get_slice(srs).min() for srs in srss])\n",
    "    vmax = max([get_slice(srs).max() for srs in srss])\n",
    "    dv = (vmax - vmin) * .01\n",
    "    return float(vmin - dv), float(vmax + dv)\n",
    "    \n",
    "\n",
    "def plt_cooling_bokeh(pltdata=None):\n",
    "    '''\n",
    "    Plot a list of cooling rate profiles using bokeh.\n",
    "    '''\n",
    "    ymin = 1e-2 \n",
    "    ymax = 1020 \n",
    "        \n",
    "    p1 = figure(title=\"Linear pressure scale\", \n",
    "                plot_width=400)        \n",
    "    xmin, xmax = nice_xlims(pltdata, prange=(50, 1050))\n",
    "    for d in pltdata:\n",
    "        if 'marker' in d:\n",
    "            getattr(p1, d['marker'])(d['srs'].values, \n",
    "                    d['srs'].coords['pressure'].values,\n",
    "                    color=d['color'], alpha=.7)\n",
    "        p1.line(d['srs'].values, \n",
    "                d['srs'].coords['pressure'].values,\n",
    "                color=d['color'], alpha=d['alpha'], \n",
    "                line_width=d['line_width'], line_dash=d['line_dash'])\n",
    "    \n",
    "    p1.y_range = Range1d(ymax, ymin)\n",
    "    p1.yaxis.axis_label = 'pressure [mb]'   \n",
    "    p1.x_range = Range1d(xmin, xmax)\n",
    "    p1.xaxis.axis_label = 'cooling rate [K/day]'\n",
    "            \n",
    "    p2 = figure(title='Log pressure scale', y_axis_type='log',\n",
    "                plot_width=560)\n",
    "    xmin, xmax = nice_xlims(pltdata, prange=(.01, 200))\n",
    "    \n",
    "    rs = []\n",
    "    for d in pltdata:\n",
    "        rd = []\n",
    "        if 'marker' in d:\n",
    "            r_mark = getattr(p2, d['marker'])(d['srs'].values, \n",
    "                        d['srs'].coords['pressure'].values,\n",
    "                        color=d['color'], alpha=.7)\n",
    "            rd.append(r_mark)\n",
    "        r_line = p2.line(d['srs'].values, \n",
    "                    d['srs'].coords['pressure'].values,\n",
    "                    color=d['color'], alpha=d['alpha'], \n",
    "                    line_width=d['line_width'], line_dash=d['line_dash'])\n",
    "        rd.append(r_line)\n",
    "      \n",
    "        rs.append(rd)\n",
    "        \n",
    "    p2.y_range = Range1d(ymax, ymin)  \n",
    "    p2.yaxis.axis_label = 'pressure [mb]'\n",
    "    \n",
    "    p2.x_range = Range1d(xmin, xmax)\n",
    "    p2.xaxis.axis_label = 'cooling rate [K/day]'\n",
    "    \n",
    "    items = [(d['label'], r) for r, d in zip(rs, pltdata)]\n",
    "    legend = Legend(items=items, location=(10, -30))\n",
    "    legend.label_text_font_size = '8pt'\n",
    "    \n",
    "    p2.add_layout(legend, 'right')  \n",
    "    \n",
    "    show(gridplot(p1, p2, ncols=2, plot_height=500))\n",
    "    \n",
    "\n",
    "def script_plt_cooling():\n",
    "    pltdata = pltdata_cooling_1(\n",
    "        ds_cool=DS_COOL,\n",
    "        ds_cool_crd=DS_COOL_CRD,\n",
    "        ds_cool_wgt=DS_COOL_WGT)\n",
    "    plt_cooling_bokeh(pltdata=pltdata)\n",
    "    print('''FIGURE. Cooling rate profiles.''')"
   ]
  },
  {
   "cell_type": "code",
   "execution_count": 9,
   "metadata": {
    "collapsed": true
   },
   "outputs": [],
   "source": [
    "def fmt_flux(ds_in):\n",
    "    ds = ds_in.copy(deep=True)\n",
    "    \n",
    "    for l in ('level', 'layer'):\n",
    "        if l in ds.data_vars:\n",
    "            if len(ds[l].dims) > 1:\n",
    "                surface = {d: 0 for d in ds.dims if d != 'pressure'}\n",
    "                coord_level = ds[l][surface]\n",
    "                ds.coords[l] = ('pressure', coord_level)\n",
    "            else:\n",
    "                ds.coords[l] = ('pressure', ds[l])\n",
    "        \n",
    "    ds = ds.isel(pressure=[0, 23, -1])\n",
    "        \n",
    "    if 'igg' in ds.dims:\n",
    "        ds = ds.sel(igg=[1])\n",
    "        ds = ds.squeeze('igg').drop('igg')\n",
    "    \n",
    "    if 'g' in ds.dims:\n",
    "        ds = ds.sum('g')\n",
    "            \n",
    "    if 'band' in ds.dims:\n",
    "        try:\n",
    "            ds = ds.squeeze('band').drop('band')\n",
    "        except ValueError:\n",
    "            ds = ds.sum('band')\n",
    "                \n",
    "    df = ds.to_dataframe()\n",
    "    df = df.set_index('level', append=True)               \n",
    "    return df\n",
    "\n",
    "\n",
    "def tbdata_flux(ds_flux=None, ds_flux_crd=None, ds_flux_wgt=None):\n",
    "    ilevels = [0, 23, -1]\n",
    "            \n",
    "    benchmark = {'label': 'CRD',\n",
    "                 'df': fmt_flux(ds_flux_crd)}\n",
    "    \n",
    "    tbs = [{'label': 'WGT igg=10 wgt_flux=1',\n",
    "            'df': fmt_flux(ds_flux_wgt)},\n",
    "           {'label': 'CLIRAD',\n",
    "            'df': fmt_flux(ds_flux)}]\n",
    "    \n",
    "    data = {'benchmark': benchmark, 'others': tbs}\n",
    "    return data\n",
    "\n",
    "\n",
    "def tb_flux(tbdata=None):\n",
    "    benchmark = tbdata['benchmark']\n",
    "    others = tbdata['others']\n",
    "    \n",
    "    def show_tb(d=None):\n",
    "        display.display(d['df'])\n",
    "        print('Table.', 'Fluxes.', d['label'])\n",
    "        \n",
    "    def show_tbdiff(d0=None, d=None):\n",
    "        df = d['df']\n",
    "        df.index = d0['df'].index\n",
    "        display.display(df - d0['df'])\n",
    "        print('Table.', 'Fluxes.', \n",
    "              '({}) - ({})'.format(d['label'], d0['label']))\n",
    "        \n",
    "    show_tb(benchmark)\n",
    "    for d in others:\n",
    "        show_tb(d)\n",
    "        \n",
    "    for d in others:\n",
    "        show_tbdiff(d=d, d0=benchmark)\n",
    "        \n",
    "        \n",
    "def script_tb_flux():\n",
    "    data = tbdata_flux(ds_flux=DS_FLUX,\n",
    "                       ds_flux_crd=DS_FLUX_CRD,\n",
    "                       ds_flux_wgt=DS_FLUX_WGT)\n",
    "    tb_flux(tbdata=data)"
   ]
  },
  {
   "cell_type": "code",
   "execution_count": 10,
   "metadata": {
    "collapsed": true
   },
   "outputs": [],
   "source": [
    "def band_map():\n",
    "    '''\n",
    "    Maps spectral bands in lblnew to spectral bands in clirad.\n",
    "    '''\n",
    "    lblnew2clirad = {'1': '1',\n",
    "            '2': '2',\n",
    "            '3a': '3',\n",
    "            '3b': '4',\n",
    "            '3c': '5',\n",
    "            '4': '6', \n",
    "            '5': '7',\n",
    "            '6': '8',\n",
    "            '7': '9', \n",
    "            '8': '10',\n",
    "            '9': '11'}\n",
    "    \n",
    "    clirad2lblnew = {clirad: lblnew \n",
    "                     for lblnew, clirad in lblnew2clirad.items()}\n",
    "    return clirad2lblnew\n",
    "\n",
    "\n",
    "def gasbands():\n",
    "    bmap = band_map()\n",
    "    gases = list(PARAM['molecule'].keys())\n",
    "    \n",
    "    bands = [bmap[str(b)] for b in PARAM['band']]\n",
    "    return list(itertools.product(gases, bands))\n",
    "\n",
    "\n",
    "def print_bestfit_params():\n",
    "    print('Best-fit values for each (gas, band)')\n",
    "    print('------------------------------------')\n",
    "    for gas, band in gasbands():\n",
    "        print('o {} band{}'.format(gas, band))\n",
    "        param = bestfits.kdist_params(molecule=gas, band=band)\n",
    "        for name, value in sorted(param.items()):\n",
    "            print(2 * ' ' + '{} = {}'.format(name, value))\n",
    "\n",
    "        \n",
    "def print_input_param():        \n",
    "    for name, value in PARAM.items():\n",
    "        print('{} = {}'.format(name, value))\n",
    "        \n",
    "        \n",
    "def print_lblnew_param():\n",
    "    for name, value in sorted(PARAM_LBLNEW.items()):\n",
    "        print('{} = {}'.format(name, value))\n"
   ]
  },
  {
   "cell_type": "code",
   "execution_count": 11,
   "metadata": {
    "collapsed": true,
    "scrolled": false
   },
   "outputs": [],
   "source": [
    "def show_html(s):\n",
    "    display.display(display.HTML(s))\n",
    "\n",
    "    \n",
    "def show_markdown(s):\n",
    "    display.display(display.Markdown(s))\n",
    "\n",
    "    \n",
    "def script():\n",
    "    \n",
    "    title = '### CLIRAD-LW'\n",
    "    s_input = 'Input Parameters'\n",
    "    s_lblnew_param = 'LBLNEW case compaired against'\n",
    "    s_bestfits = 'Best-fit Parameters'\n",
    "    s_plt_cooling = 'Cooling Rate Profiles'\n",
    "    s_tb_flux = 'Flux Comparison'\n",
    "    \n",
    "    # title\n",
    "    show_markdown('### CLIRAD-LW')\n",
    "    \n",
    "    # TOC\n",
    "    show_markdown('### Table of Contents')\n",
    "    show_html(climahtml.getHTML_hrefanchor(s_input))\n",
    "    show_html(climahtml.getHTML_hrefanchor(s_lblnew_param))\n",
    "    show_html(climahtml.getHTML_hrefanchor(s_plt_cooling))\n",
    "    show_html(climahtml.getHTML_hrefanchor(s_tb_flux))\n",
    "    show_html(climahtml.getHTML_hrefanchor(s_bestfits))\n",
    "    \n",
    "    # Input parameters\n",
    "    show_html(climahtml.getHTML_idanchor(s_input))\n",
    "    show_markdown(climahtml.getMarkdown_sectitle(s_input))\n",
    "    print_input_param()\n",
    "    \n",
    "    # LBLNEW parameters \n",
    "    show_html(climahtml.getHTML_idanchor(s_lblnew_param))\n",
    "    show_markdown(climahtml.getMarkdown_sectitle(s_lblnew_param))\n",
    "    print_lblnew_param()\n",
    "    \n",
    "    # Cooling rate profiles\n",
    "    show_html(climahtml.getHTML_idanchor(s_plt_cooling))\n",
    "    show_markdown(climahtml.getMarkdown_sectitle(s_plt_cooling))\n",
    "    script_plt_cooling()\n",
    "    \n",
    "    # Flux comparison\n",
    "    show_html(climahtml.getHTML_idanchor(s_tb_flux))\n",
    "    show_markdown(climahtml.getMarkdown_sectitle(s_tb_flux))\n",
    "    script_tb_flux()\n",
    "    \n",
    "    # Best-fit values\n",
    "    show_html(climahtml.getHTML_idanchor(s_bestfits))\n",
    "    show_markdown(climahtml.getMarkdown_sectitle(s_bestfits))\n",
    "    print_bestfit_params()\n",
    "   \n",
    "    "
   ]
  },
  {
   "cell_type": "code",
   "execution_count": 12,
   "metadata": {
    "collapsed": true,
    "scrolled": false
   },
   "outputs": [
    {
     "data": {
      "text/markdown": [
       "### CLIRAD-LW"
      ],
      "text/plain": [
       "<IPython.core.display.Markdown object>"
      ]
     },
     "metadata": {},
     "output_type": "display_data"
    },
    {
     "data": {
      "text/markdown": [
       "### Table of Contents"
      ],
      "text/plain": [
       "<IPython.core.display.Markdown object>"
      ]
     },
     "metadata": {},
     "output_type": "display_data"
    },
    {
     "data": {
      "text/html": [
       "<a href=\"#Input_Parameters\">Input Parameters</a>"
      ],
      "text/plain": [
       "<IPython.core.display.HTML object>"
      ]
     },
     "metadata": {},
     "output_type": "display_data"
    },
    {
     "data": {
      "text/html": [
       "<a href=\"#LBLNEW_case_compaired_against\">LBLNEW case compaired against</a>"
      ],
      "text/plain": [
       "<IPython.core.display.HTML object>"
      ]
     },
     "metadata": {},
     "output_type": "display_data"
    },
    {
     "data": {
      "text/html": [
       "<a href=\"#Cooling_Rate_Profiles\">Cooling Rate Profiles</a>"
      ],
      "text/plain": [
       "<IPython.core.display.HTML object>"
      ]
     },
     "metadata": {},
     "output_type": "display_data"
    },
    {
     "data": {
      "text/html": [
       "<a href=\"#Flux_Comparison\">Flux Comparison</a>"
      ],
      "text/plain": [
       "<IPython.core.display.HTML object>"
      ]
     },
     "metadata": {},
     "output_type": "display_data"
    },
    {
     "data": {
      "text/html": [
       "<a href=\"#Best-fit_Parameters\">Best-fit Parameters</a>"
      ],
      "text/plain": [
       "<IPython.core.display.HTML object>"
      ]
     },
     "metadata": {},
     "output_type": "display_data"
    },
    {
     "data": {
      "text/html": [
       "<a id=\"Input_Parameters\"></a>"
      ],
      "text/plain": [
       "<IPython.core.display.HTML object>"
      ]
     },
     "metadata": {},
     "output_type": "display_data"
    },
    {
     "data": {
      "text/markdown": [
       "# Input Parameters"
      ],
      "text/plain": [
       "<IPython.core.display.Markdown object>"
      ]
     },
     "metadata": {},
     "output_type": "display_data"
    },
    {
     "name": "stdout",
     "output_type": "stream",
     "text": [
      "atmpro = trp\n",
      "band = [5]\n",
      "commitnumber = de5d43e\n",
      "molecule = {'h2o': 'atmpro'}\n",
      "tsfc = 300\n"
     ]
    },
    {
     "data": {
      "text/html": [
       "<a id=\"LBLNEW_case_compaired_against\"></a>"
      ],
      "text/plain": [
       "<IPython.core.display.HTML object>"
      ]
     },
     "metadata": {},
     "output_type": "display_data"
    },
    {
     "data": {
      "text/markdown": [
       "# LBLNEW case compaired against"
      ],
      "text/plain": [
       "<IPython.core.display.Markdown object>"
      ]
     },
     "metadata": {},
     "output_type": "display_data"
    },
    {
     "name": "stdout",
     "output_type": "stream",
     "text": [
      "atmpro = trp\n",
      "band = 3c\n",
      "commitnumber = 5014a19\n",
      "conc = None\n",
      "dv = 0.001\n",
      "klin = 5e-25\n",
      "molecule = h2o\n",
      "ng_adju = [0]\n",
      "ng_refs = [5]\n",
      "nv = 1000\n",
      "option_compute_btable = 0\n",
      "option_compute_ktable = 0\n",
      "option_wgt_flux = 1\n",
      "option_wgt_k = 1\n",
      "ref_pts = [(600, 250)]\n",
      "tsfc = 300\n",
      "vmax = 800\n",
      "vmin = 720\n",
      "w_diffuse = [(1.55, 1.6, 1.66, 1.66, 1.8)]\n",
      "wgt = [(0.5, 0.5, 0.6, 0.7, 0.9)]\n"
     ]
    },
    {
     "data": {
      "text/html": [
       "<a id=\"Cooling_Rate_Profiles\"></a>"
      ],
      "text/plain": [
       "<IPython.core.display.HTML object>"
      ]
     },
     "metadata": {},
     "output_type": "display_data"
    },
    {
     "data": {
      "text/markdown": [
       "# Cooling Rate Profiles"
      ],
      "text/plain": [
       "<IPython.core.display.Markdown object>"
      ]
     },
     "metadata": {},
     "output_type": "display_data"
    },
    {
     "data": {
      "text/html": [
       "\n",
       "<div class=\"bk-root\">\n",
       "    <div class=\"bk-plotdiv\" id=\"f95c5374-f871-4d9b-ae3d-e4ad9d73a03b\"></div>\n",
       "</div>"
      ]
     },
     "metadata": {},
     "output_type": "display_data"
    },
    {
     "data": {
      "application/javascript": [
       "(function(root) {\n",
       "  function embed_document(root) {\n",
       "    \n",
       "  var docs_json = {\"3d920271-d03e-4ad3-9b7f-2b9a7d1b590a\":{\"roots\":{\"references\":[{\"attributes\":{\"data_source\":{\"id\":\"a8c251cf-4259-4f35-9251-d9551aa4935c\",\"type\":\"ColumnDataSource\"},\"glyph\":{\"id\":\"5098a805-cbaa-4860-94ec-822d950403b1\",\"type\":\"Line\"},\"hover_glyph\":null,\"muted_glyph\":null,\"nonselection_glyph\":{\"id\":\"5729b424-27c9-4676-8009-bad2b497969f\",\"type\":\"Line\"},\"selection_glyph\":null,\"view\":{\"id\":\"5bb27a42-2f97-4bef-8167-b668b36d011b\",\"type\":\"CDSView\"}},\"id\":\"5cd1505e-e062-429d-a9d2-dcca8a6360be\",\"type\":\"GlyphRenderer\"},{\"attributes\":{\"data_source\":{\"id\":\"f5879fa4-6600-465b-accf-6e1541980acd\",\"type\":\"ColumnDataSource\"},\"glyph\":{\"id\":\"5c7875cb-f120-442b-8220-611dc78044a3\",\"type\":\"Circle\"},\"hover_glyph\":null,\"muted_glyph\":null,\"nonselection_glyph\":{\"id\":\"ef593439-f99d-445d-9c0d-eef08e2eed39\",\"type\":\"Circle\"},\"selection_glyph\":null,\"view\":{\"id\":\"b1d32386-46fe-45a3-88c8-6049ef7be2f6\",\"type\":\"CDSView\"}},\"id\":\"e4ed20de-2acc-49ab-905e-4cc2d964df71\",\"type\":\"GlyphRenderer\"},{\"attributes\":{\"source\":{\"id\":\"f5879fa4-6600-465b-accf-6e1541980acd\",\"type\":\"ColumnDataSource\"}},\"id\":\"b1d32386-46fe-45a3-88c8-6049ef7be2f6\",\"type\":\"CDSView\"},{\"attributes\":{\"callback\":null,\"end\":0.01,\"start\":1020},\"id\":\"b604e26d-38d4-4fd0-939e-c2d6fd11b19e\",\"type\":\"Range1d\"},{\"attributes\":{\"source\":{\"id\":\"a8c251cf-4259-4f35-9251-d9551aa4935c\",\"type\":\"ColumnDataSource\"}},\"id\":\"5bb27a42-2f97-4bef-8167-b668b36d011b\",\"type\":\"CDSView\"},{\"attributes\":{\"callback\":null,\"data\":{\"x\":{\"__ndarray__\":\"5Q+ILUZu5r6oMKwBhuPlvoOYZSGcvuS+Vw8ulH+G477Gt5VG0j3ivqe/9Z6S5OC+ffXLPXP03r6Ojm8eA/zbvucRuFIE39i+1eXS9Fuc1b6o4TU9oTLSvmCUPu0jQc2+dr430KjCxb4gJGlvHmy3vvkd89buMMw+VpGWoPWJ8D5c3ekRmEEDP8X42BjgmhE/rr2i3jXoHD/I0RC7G1MmPwCoQqhTkDA/nbU1gMwWNz9ssicqi7o5P476RzYSTjc/9C67gjxbMz//XKPL75gtP0NAGztc0CU/gys8ZGdrHz87gguCw+QVPzq0Wt98+ww/R5MZZk+NAT+SevBs5GvxPkP9dgAij80+fRBwcbxX3b79Si2TMPXxvkWQqW305/m+E2C05lIs/b7S84wuhs79viB1L03cw/u+jx/vED+79r6zpJAk4ezpvm3/T6RyFQI/pLtErQVZLj9VNp59rDZJPx2gDB5Ba18/s1lys3VecD8+jyw1MMh9P9sJvcAk9oc/nQPXbqe3kD+qpkp53y2WP7FKmey9O5w/URG8cF5loT97B/tTA/2kP+NqR8d45qg/HjaPT8FLrT9BfVz/1BaxPxSwb0EcxrM/pmjLU3ustj/12vfnbMG5P67LRTlbCL0/1N8kls07wD8fc4RHnvvBPy0XkjoEtsM/DOzJDAqvxj9M6D8UuBrJPz4IoucQJ8s/IUPU2X/9zD9YJYRTjoXNP/5O0X4FDM4/S/8aye3azj8CTlVGxfTPP5k5o2qeqtA/R3TiFLqE0T8HDTzXS5vSP23x/1tvgdQ/\",\"dtype\":\"float64\",\"shape\":[75]},\"y\":{\"__ndarray__\":\"GhExyth1ND/Sv8nbtpRIP2vylNV0PVE/aTum7souWD/At0SJ8fVgPw3Iuahxymc/MSNhhJWvcD/bTfBN02d3P2zb5nxnaoA/CD5h5MAGhz8NmeH1TyaQP+zrCsc9p5Y/LbKd76fGnz/bLW5ISEmmPww9YvTcQq8/JV2OstnstT8Er5Y7M8G+P0c+r3jqkcU/5h99k6ZBzj88bCIzFzjVP4enV8oyxN0//yH99nXg5D8qOpLLf0jtP5kqGJXUifQ/c9cS8kHP/D+/DpwzojQEQIEmwoanVwxA4lgXt9HgE0BSSZ2AJuIbQAMJih9jjiNA5q4l5INuK0AwTKYKRj0zQNv5fmq8/DpAaCJseHrtQkB/+zpwzoxKQM3MzMzMeFJAZmZmZmZqWEAAAAAAAFxeQM3MzMzMJmJAmpmZmZkfZUBmZmZmZhhoQDMzMzMzEWtAAAAAAAAKbkBmZmZmZoFwQM3MzMzM/XFAMzMzMzN6c0CamZmZmfZ0QAAAAAAAc3ZAZmZmZmbvd0DNzMzMzGt5QDMzMzMz6HpAmpmZmZlkfEAAAAAAAOF9QGZmZmZmXX9AZmZmZuZsgECamZmZGSuBQM3MzMxM6YFAAAAAAICngkAzMzMzs2WDQGZmZmbmI4RAmpmZmRnihEDNzMzMTKCFQAAAAACAXoZAMzMzM7Mch0BmZmZm5tqHQJqZmZkZmYhAzczMzExXiUAAAAAAgBWKQDMzMzOz04pAZmZmZuaRi0CamZmZGVCMQM3MzMxMDo1AAAAAAIDMjUAzMzMzs4qOQGZmZmbmSI9A\",\"dtype\":\"float64\",\"shape\":[75]}},\"selected\":{\"id\":\"6cc45b3a-ff83-4fc1-8ad0-8d3b839c164c\",\"type\":\"Selection\"},\"selection_policy\":{\"id\":\"c2264fcc-d6cf-4328-b76d-0c55f1894d03\",\"type\":\"UnionRenderers\"}},\"id\":\"8ebd8e1f-07dd-4aac-bec9-0d93b7be08a7\",\"type\":\"ColumnDataSource\"},{\"attributes\":{\"callback\":null,\"data\":{\"x\":{\"__ndarray__\":\"L/bDkM5/375u5c3SNAbdvq6Fv6Tayte+IzMqeXM50r43w7BnBNjIvp14l5mqT7m+aULaivwsTD7hY+umAu+6PiS0GRiSXMs++PcblUbx1D7P/uoWSIbcPiT5iycAOOI+JDFUkJte5j7GFaBhjOnrPlsCOIOO2/g+8QRGMvJsCj/ZKC9l+9YYP82SFHhIwyQ/iU05qE07MD90iXZXblA4P3oIE/cUqkE/u+OdzH9BSD9Pg6bEddVKP+ifkyQUP0g/UtT6/AwdRD+2tW6q3MQ+PxHHAY4ZtTY/Xh72OI9nMD9LBhZy6AsnP8ncOjp6Gh8/8sPXB7u2Ez8RAzztGVcGP47RGNzaQvM+aCFt7giGgz7zfY/s6N7wvn3lH+ItJPy+BTQ7Up29/74X3Pl4GnX/vtnQ5Na7yfq+134YKjpn8r7vYaXC3Kyrvs6HmYnBAhQ/8ywdllWRNj94PPAkd45QPxJpXsCZQGM/Na02fuYFcz+NzNbLxZCAPxz+nWTgvYk/Maqi/s6EkT9Ezgdz1+yWP+0iWXswDZ0/xYp4vcTwoT/MeJhMzralPzi4SUwd0qk/pWRaF45Srj8f+ZKsFJmxP3BStwT3O7Q/RR3FVT8Ytz+CZmNnAiy6Px0jVesvgb0/0OpHN4CGwD9zR2L2cFHCP/BBWxDCCsQ/eNfyLSDyxj80L6jrYC/JP6ICcWjb+so/QsoV//OLzD8f90qszuLMP4a8cZS0Sc0/kOM9vQgJzj+C5ecK3xDPP7PIPBMWLNA/gnTSd47z0D+HMenvpfDRP0SzgEOHxNM/\",\"dtype\":\"float64\",\"shape\":[75]},\"y\":{\"__ndarray__\":\"GhExyth1ND/Sv8nbtpRIP2vylNV0PVE/aTum7souWD/At0SJ8fVgPw3Iuahxymc/MSNhhJWvcD/bTfBN02d3P2zb5nxnaoA/CD5h5MAGhz8NmeH1TyaQP+zrCsc9p5Y/LbKd76fGnz/bLW5ISEmmPww9YvTcQq8/JV2OstnstT8Er5Y7M8G+P0c+r3jqkcU/5h99k6ZBzj88bCIzFzjVP4enV8oyxN0//yH99nXg5D8qOpLLf0jtP5kqGJXUifQ/c9cS8kHP/D+/DpwzojQEQIEmwoanVwxA4lgXt9HgE0BSSZ2AJuIbQAMJih9jjiNA5q4l5INuK0AwTKYKRj0zQNv5fmq8/DpAaCJseHrtQkB/+zpwzoxKQM3MzMzMeFJAZmZmZmZqWEAAAAAAAFxeQM3MzMzMJmJAmpmZmZkfZUBmZmZmZhhoQDMzMzMzEWtAAAAAAAAKbkBmZmZmZoFwQM3MzMzM/XFAMzMzMzN6c0CamZmZmfZ0QAAAAAAAc3ZAZmZmZmbvd0DNzMzMzGt5QDMzMzMz6HpAmpmZmZlkfEAAAAAAAOF9QGZmZmZmXX9AZmZmZuZsgECamZmZGSuBQM3MzMxM6YFAAAAAAICngkAzMzMzs2WDQGZmZmbmI4RAmpmZmRnihEDNzMzMTKCFQAAAAACAXoZAMzMzM7Mch0BmZmZm5tqHQJqZmZkZmYhAzczMzExXiUAAAAAAgBWKQDMzMzOz04pAZmZmZuaRi0CamZmZGVCMQM3MzMxMDo1AAAAAAIDMjUAzMzMzs4qOQGZmZmbmSI9A\",\"dtype\":\"float64\",\"shape\":[75]}},\"selected\":{\"id\":\"b29a3bde-a6e8-4e9a-96bd-d5e0bc97bbbe\",\"type\":\"Selection\"},\"selection_policy\":{\"id\":\"4d710fd1-9e6e-41a7-baed-b8456ee1c67f\",\"type\":\"UnionRenderers\"}},\"id\":\"a8c251cf-4259-4f35-9251-d9551aa4935c\",\"type\":\"ColumnDataSource\"},{\"attributes\":{\"data_source\":{\"id\":\"8ebd8e1f-07dd-4aac-bec9-0d93b7be08a7\",\"type\":\"ColumnDataSource\"},\"glyph\":{\"id\":\"e41ca733-c3cf-40ac-85ca-8a572825f42e\",\"type\":\"Square\"},\"hover_glyph\":null,\"muted_glyph\":null,\"nonselection_glyph\":{\"id\":\"b61dfc33-52d0-4b3d-851f-26798153f248\",\"type\":\"Square\"},\"selection_glyph\":null,\"view\":{\"id\":\"3c7b7bac-8a12-4a7f-9e90-7ec3e8b4d215\",\"type\":\"CDSView\"}},\"id\":\"40e4608f-44d1-449d-9cec-8cfcd8936969\",\"type\":\"GlyphRenderer\"},{\"attributes\":{\"callback\":null,\"data\":{\"x\":{\"__ndarray__\":\"5Q+ILUZu5r6oMKwBhuPlvoOYZSGcvuS+Vw8ulH+G477Gt5VG0j3ivqe/9Z6S5OC+ffXLPXP03r6Ojm8eA/zbvucRuFIE39i+1eXS9Fuc1b6o4TU9oTLSvmCUPu0jQc2+dr430KjCxb4gJGlvHmy3vvkd89buMMw+VpGWoPWJ8D5c3ekRmEEDP8X42BjgmhE/rr2i3jXoHD/I0RC7G1MmPwCoQqhTkDA/nbU1gMwWNz9ssicqi7o5P476RzYSTjc/9C67gjxbMz//XKPL75gtP0NAGztc0CU/gys8ZGdrHz87gguCw+QVPzq0Wt98+ww/R5MZZk+NAT+SevBs5GvxPkP9dgAij80+fRBwcbxX3b79Si2TMPXxvkWQqW305/m+E2C05lIs/b7S84wuhs79viB1L03cw/u+jx/vED+79r6zpJAk4ezpvm3/T6RyFQI/pLtErQVZLj9VNp59rDZJPx2gDB5Ba18/s1lys3VecD8+jyw1MMh9P9sJvcAk9oc/nQPXbqe3kD+qpkp53y2WP7FKmey9O5w/URG8cF5loT97B/tTA/2kP+NqR8d45qg/HjaPT8FLrT9BfVz/1BaxPxSwb0EcxrM/pmjLU3ustj/12vfnbMG5P67LRTlbCL0/1N8kls07wD8fc4RHnvvBPy0XkjoEtsM/DOzJDAqvxj9M6D8UuBrJPz4IoucQJ8s/IUPU2X/9zD9YJYRTjoXNP/5O0X4FDM4/S/8aye3azj8CTlVGxfTPP5k5o2qeqtA/R3TiFLqE0T8HDTzXS5vSP23x/1tvgdQ/\",\"dtype\":\"float64\",\"shape\":[75]},\"y\":{\"__ndarray__\":\"GhExyth1ND/Sv8nbtpRIP2vylNV0PVE/aTum7souWD/At0SJ8fVgPw3Iuahxymc/MSNhhJWvcD/bTfBN02d3P2zb5nxnaoA/CD5h5MAGhz8NmeH1TyaQP+zrCsc9p5Y/LbKd76fGnz/bLW5ISEmmPww9YvTcQq8/JV2OstnstT8Er5Y7M8G+P0c+r3jqkcU/5h99k6ZBzj88bCIzFzjVP4enV8oyxN0//yH99nXg5D8qOpLLf0jtP5kqGJXUifQ/c9cS8kHP/D+/DpwzojQEQIEmwoanVwxA4lgXt9HgE0BSSZ2AJuIbQAMJih9jjiNA5q4l5INuK0AwTKYKRj0zQNv5fmq8/DpAaCJseHrtQkB/+zpwzoxKQM3MzMzMeFJAZmZmZmZqWEAAAAAAAFxeQM3MzMzMJmJAmpmZmZkfZUBmZmZmZhhoQDMzMzMzEWtAAAAAAAAKbkBmZmZmZoFwQM3MzMzM/XFAMzMzMzN6c0CamZmZmfZ0QAAAAAAAc3ZAZmZmZmbvd0DNzMzMzGt5QDMzMzMz6HpAmpmZmZlkfEAAAAAAAOF9QGZmZmZmXX9AZmZmZuZsgECamZmZGSuBQM3MzMxM6YFAAAAAAICngkAzMzMzs2WDQGZmZmbmI4RAmpmZmRnihEDNzMzMTKCFQAAAAACAXoZAMzMzM7Mch0BmZmZm5tqHQJqZmZkZmYhAzczMzExXiUAAAAAAgBWKQDMzMzOz04pAZmZmZuaRi0CamZmZGVCMQM3MzMxMDo1AAAAAAIDMjUAzMzMzs4qOQGZmZmbmSI9A\",\"dtype\":\"float64\",\"shape\":[75]}},\"selected\":{\"id\":\"4bde033b-7901-4df1-be6d-44708937b0fc\",\"type\":\"Selection\"},\"selection_policy\":{\"id\":\"a257feff-13d7-4a84-9242-591a674679df\",\"type\":\"UnionRenderers\"}},\"id\":\"a28c20d8-b4d5-4778-bb02-aa3bd70cea0d\",\"type\":\"ColumnDataSource\"},{\"attributes\":{\"source\":{\"id\":\"8ebd8e1f-07dd-4aac-bec9-0d93b7be08a7\",\"type\":\"ColumnDataSource\"}},\"id\":\"3c7b7bac-8a12-4a7f-9e90-7ec3e8b4d215\",\"type\":\"CDSView\"},{\"attributes\":{\"line_color\":\"#4daf4a\",\"line_width\":1.5,\"x\":{\"field\":\"x\"},\"y\":{\"field\":\"y\"}},\"id\":\"5098a805-cbaa-4860-94ec-822d950403b1\",\"type\":\"Line\"},{\"attributes\":{\"fill_alpha\":{\"value\":0.1},\"fill_color\":{\"value\":\"#1f77b4\"},\"line_alpha\":{\"value\":0.1},\"line_color\":{\"value\":\"#1f77b4\"},\"x\":{\"field\":\"x\"},\"y\":{\"field\":\"y\"}},\"id\":\"b61dfc33-52d0-4b3d-851f-26798153f248\",\"type\":\"Square\"},{\"attributes\":{\"fill_alpha\":{\"value\":0.1},\"fill_color\":{\"value\":\"#1f77b4\"},\"line_alpha\":{\"value\":0.1},\"line_color\":{\"value\":\"#1f77b4\"},\"x\":{\"field\":\"x\"},\"y\":{\"field\":\"y\"}},\"id\":\"ef593439-f99d-445d-9c0d-eef08e2eed39\",\"type\":\"Circle\"},{\"attributes\":{\"line_alpha\":0.1,\"line_color\":\"#1f77b4\",\"line_width\":1.5,\"x\":{\"field\":\"x\"},\"y\":{\"field\":\"y\"}},\"id\":\"5729b424-27c9-4676-8009-bad2b497969f\",\"type\":\"Line\"},{\"attributes\":{\"fill_alpha\":{\"value\":0.7},\"fill_color\":{\"value\":\"#984ea3\"},\"line_alpha\":{\"value\":0.7},\"line_color\":{\"value\":\"#984ea3\"},\"x\":{\"field\":\"x\"},\"y\":{\"field\":\"y\"}},\"id\":\"e41ca733-c3cf-40ac-85ca-8a572825f42e\",\"type\":\"Square\"},{\"attributes\":{},\"id\":\"7b93f696-aaca-4324-b95b-42e2f8c38ff4\",\"type\":\"Selection\"},{\"attributes\":{\"active_drag\":\"auto\",\"active_inspect\":\"auto\",\"active_scroll\":\"auto\",\"active_tap\":\"auto\",\"tools\":[{\"id\":\"f4321eb9-3521-47ce-befe-ab7f7db9c01f\",\"type\":\"PanTool\"},{\"id\":\"f35c380f-d2a2-4924-82c4-75980a78cdbb\",\"type\":\"WheelZoomTool\"},{\"id\":\"a399c8ea-bdeb-48b2-b427-6a5a7654b3b4\",\"type\":\"BoxZoomTool\"},{\"id\":\"330a4e50-c025-4e2f-b55c-7669b96cc8d2\",\"type\":\"SaveTool\"},{\"id\":\"66c839fb-ef85-4c89-995f-7b3a54a26e82\",\"type\":\"ResetTool\"},{\"id\":\"a215323e-8aa9-4a68-80d8-e508d345058c\",\"type\":\"HelpTool\"}]},\"id\":\"95c02bca-9700-4292-ae39-38a22f98a50d\",\"type\":\"Toolbar\"},{\"attributes\":{\"source\":{\"id\":\"a28c20d8-b4d5-4778-bb02-aa3bd70cea0d\",\"type\":\"ColumnDataSource\"}},\"id\":\"fdbcb24b-1abb-4bcf-a8d6-8a788e09fe56\",\"type\":\"CDSView\"},{\"attributes\":{\"plot\":null,\"text\":\"Linear pressure scale\"},\"id\":\"4f744f42-b7a5-40bb-9836-160d5d54efae\",\"type\":\"Title\"},{\"attributes\":{\"line_alpha\":0.6,\"line_color\":\"#984ea3\",\"line_width\":3,\"x\":{\"field\":\"x\"},\"y\":{\"field\":\"y\"}},\"id\":\"15f2b96e-8d8b-4d58-96a8-30a58d71d6ae\",\"type\":\"Line\"},{\"attributes\":{},\"id\":\"08869e90-91db-402a-ad86-32a7fbcc54b3\",\"type\":\"UnionRenderers\"},{\"attributes\":{},\"id\":\"fad1ad24-1119-4d32-8c53-e83e0f631b96\",\"type\":\"Selection\"},{\"attributes\":{\"active_drag\":\"auto\",\"active_inspect\":\"auto\",\"active_scroll\":\"auto\",\"active_tap\":\"auto\",\"tools\":[{\"id\":\"14d3887c-7c44-47b7-86f9-7ea53804f123\",\"type\":\"PanTool\"},{\"id\":\"04c93900-726f-4a28-9701-921797fc96b2\",\"type\":\"WheelZoomTool\"},{\"id\":\"7bcadf20-fa57-4f7c-a782-cb604e785e8e\",\"type\":\"BoxZoomTool\"},{\"id\":\"4e98a258-dc10-41b9-86ac-23ed46a47d7c\",\"type\":\"SaveTool\"},{\"id\":\"46aec137-746a-4e0a-aa83-690d7f8e67fc\",\"type\":\"ResetTool\"},{\"id\":\"9ed442cb-1ae8-4142-8fa7-85bd403042d2\",\"type\":\"HelpTool\"}]},\"id\":\"2cc13952-871a-42a4-bc49-e45960718b94\",\"type\":\"Toolbar\"},{\"attributes\":{},\"id\":\"30b73d24-473a-4b66-8e96-ec48dc1cfd6f\",\"type\":\"UnionRenderers\"},{\"attributes\":{\"below\":[{\"id\":\"f4dd2485-3f7a-4278-872a-15d5a02c6640\",\"type\":\"LinearAxis\"}],\"left\":[{\"id\":\"a443cb94-a75a-43c9-9015-15b35c9aca18\",\"type\":\"LogAxis\"}],\"plot_height\":500,\"plot_width\":560,\"renderers\":[{\"id\":\"f4dd2485-3f7a-4278-872a-15d5a02c6640\",\"type\":\"LinearAxis\"},{\"id\":\"16ca699e-313d-45f9-8d44-c184dd439e16\",\"type\":\"Grid\"},{\"id\":\"a443cb94-a75a-43c9-9015-15b35c9aca18\",\"type\":\"LogAxis\"},{\"id\":\"d7fb32bb-598e-415f-8c41-43859f1b7ffe\",\"type\":\"Grid\"},{\"id\":\"4575cd5d-6ab2-4a85-b4ec-686fb80bf897\",\"type\":\"BoxAnnotation\"},{\"id\":\"fb4fc001-7f76-4ba9-a064-6785c631ec97\",\"type\":\"GlyphRenderer\"},{\"id\":\"215285e9-c6df-472c-96d9-def90e36d229\",\"type\":\"GlyphRenderer\"},{\"id\":\"8746d18b-9cb7-4e96-87ff-07fa7d9af6b4\",\"type\":\"GlyphRenderer\"},{\"id\":\"a534ed14-334a-45d8-9ba2-ea0e20e31243\",\"type\":\"GlyphRenderer\"},{\"id\":\"df8464b1-68d6-4725-b6c2-860d394584c2\",\"type\":\"GlyphRenderer\"},{\"id\":\"f2df0cd2-d9ba-461d-b337-e9e46c0bba69\",\"type\":\"Legend\"}],\"right\":[{\"id\":\"f2df0cd2-d9ba-461d-b337-e9e46c0bba69\",\"type\":\"Legend\"}],\"title\":{\"id\":\"e801c685-28c1-433d-b941-8269bca373ef\",\"type\":\"Title\"},\"toolbar\":{\"id\":\"2cc13952-871a-42a4-bc49-e45960718b94\",\"type\":\"Toolbar\"},\"toolbar_location\":null,\"x_range\":{\"id\":\"f5d9c3d2-1f71-47e7-9249-761e9fb4f4b6\",\"type\":\"Range1d\"},\"x_scale\":{\"id\":\"edf81398-794d-430d-869d-d553a375dc70\",\"type\":\"LinearScale\"},\"y_range\":{\"id\":\"93ae4b58-bb0c-4a17-815c-6508124d1a14\",\"type\":\"Range1d\"},\"y_scale\":{\"id\":\"e638a366-23f1-4ed1-b2bc-68bd77f26fe7\",\"type\":\"LogScale\"}},\"id\":\"27abccba-857e-49c0-80e2-6ed90ada7bcc\",\"subtype\":\"Figure\",\"type\":\"Plot\"},{\"attributes\":{\"plot\":null,\"text\":\"Log pressure scale\"},\"id\":\"e801c685-28c1-433d-b941-8269bca373ef\",\"type\":\"Title\"},{\"attributes\":{},\"id\":\"5739c6e1-c7c4-4bf0-a024-a9143dc1b0e0\",\"type\":\"Selection\"},{\"attributes\":{\"plot\":{\"id\":\"27abccba-857e-49c0-80e2-6ed90ada7bcc\",\"subtype\":\"Figure\",\"type\":\"Plot\"},\"ticker\":{\"id\":\"04fa84e7-ca12-4acf-a053-eeea24ef2807\",\"type\":\"BasicTicker\"}},\"id\":\"16ca699e-313d-45f9-8d44-c184dd439e16\",\"type\":\"Grid\"},{\"attributes\":{\"callback\":null,\"data\":{\"x\":{\"__ndarray__\":\"OoO/7WPy6L6CoQ4oCwbpvu09xPACbue+JdHth76B5r73c9nlConlvo76deM2guS+pCOCxJpv474GoKW8U0vivjSEmb0dG+G+avZPQNDA375K1/fSWkLdvliVHWOEnNq+Pj/8zPrP1753hdBybyvUvjRXHF9W4bO+pJVOCqGd4T7zBZxvJ8z5Po7F0kAqMQk/GUvZkgU+FT8RXtfA8ZQgP7kzH4b94yg/B8SGuZK6MT/TXwxcaeozP2i0a9ZBBjI/F/Ra9urRLT/bp5JfPaYmP4Z9Lds0gyA/zpLHoTZvFz+nV8g0auQPP4PrKHxqRwQ/RU0Qe3KY9j7kSE6KD4jhPvtFkDwU1L2+BBfviY1H5L5wPoEpOjDyvq4ILY2thvi+BE68Rrw2+77v/oEPZRP8vqwLdpG+q/q+54vVFP8M+L4j/BDbU3L1viTEQPKdVKi+61EuUSGFID8fYYEXK/hAP4oSeb5iblc/F2HFizdJaj/sU3J0s0R5P3Jk45aWXoU/1SDt+0cRjz8waeePxCaVP9SOj9RKOps/a2o5zYveoD86wy1Pgl+kP7o0bP7ZO6g/+76juVqWrD8ha2GkhNGwP12IWVgFpLM/iZ1eZi6ptj+BWk46eMO5P5mymWRg9Lw/8ffmkgUnwD8Rcr3x3ubBP7U+vBn7s8M/BOoHVIPZxj/Ro1ZWooXJP40p9bix0cs/uhnJeVrZzT9dCQ9gsm3OP3vXA1p45s4/FoQ0W2Cszz/A5Xe72mHQP+KoYH3RGNE/qG4N8M0E0j+Kt2MkWjbTP0GcqCGBMdU/\",\"dtype\":\"float64\",\"shape\":[75]},\"y\":{\"__ndarray__\":\"S/O/Q+51ND/Sv8nbtpRIP2vylNV0PVE/aTum7souWD/At0SJ8fVgPw3Iuahxymc/MSNhhJWvcD/bTfBN02d3P2zb5nxnaoA/CD5h5MAGhz8NmeH1TyaQP+zrCsc9p5Y/LbKd76fGnz/bLW5ISEmmPww9YvTcQq8/JV2OstnstT8Er5Y7M8G+P0c+r3jqkcU/5h99k6ZBzj88bCIzFzjVP4enV8oyxN0//yH99nXg5D8qOpLLf0jtP5kqGJXUifQ/c9cS8kHP/D+/DpwzojQEQIEmwoanVwxA4lgXt9HgE0BSSZ2AJuIbQAMJih9jjiNA5q4l5INuK0AwTKYKRj0zQNv5fmq8/DpAaCJseHrtQkB/+zpwzoxKQM3MzMzMeFJAZmZmZmZqWEAAAAAAAFxeQM3MzMzMJmJAmpmZmZkfZUBmZmZmZhhoQDMzMzMzEWtAAAAAAAAKbkBmZmZmZoFwQM3MzMzM/XFAMzMzMzN6c0CamZmZmfZ0QAAAAAAAc3ZAZmZmZmbvd0DNzMzMzGt5QDMzMzMz6HpAmpmZmZlkfEAAAAAAAOF9QGZmZmZmXX9AZmZmZuZsgECamZmZGSuBQM3MzMxM6YFAAAAAAICngkAzMzMzs2WDQGZmZmbmI4RAmpmZmRnihEDNzMzMTKCFQAAAAACAXoZAMzMzM7Mch0BmZmZm5tqHQJqZmZkZmYhAzczMzExXiUAAAAAAgBWKQDMzMzOz04pAZmZmZuaRi0CamZmZGVCMQM3MzMxMDo1AAAAAAIDMjUAzMzMzs4qOQGZmZmbmSI9A\",\"dtype\":\"float64\",\"shape\":[75]}},\"selected\":{\"id\":\"d4e5ae48-f9c0-4a27-9446-f87ac58d6684\",\"type\":\"Selection\"},\"selection_policy\":{\"id\":\"a726e533-ad0a-4a96-844a-c2ff983dba90\",\"type\":\"UnionRenderers\"}},\"id\":\"6003153d-370e-471e-9f80-bb5af982204b\",\"type\":\"ColumnDataSource\"},{\"attributes\":{\"callback\":null,\"data\":{\"x\":{\"__ndarray__\":\"L/bDkM5/375u5c3SNAbdvq6Fv6Tayte+IzMqeXM50r43w7BnBNjIvp14l5mqT7m+aULaivwsTD7hY+umAu+6PiS0GRiSXMs++PcblUbx1D7P/uoWSIbcPiT5iycAOOI+JDFUkJte5j7GFaBhjOnrPlsCOIOO2/g+8QRGMvJsCj/ZKC9l+9YYP82SFHhIwyQ/iU05qE07MD90iXZXblA4P3oIE/cUqkE/u+OdzH9BSD9Pg6bEddVKP+ifkyQUP0g/UtT6/AwdRD+2tW6q3MQ+PxHHAY4ZtTY/Xh72OI9nMD9LBhZy6AsnP8ncOjp6Gh8/8sPXB7u2Ez8RAzztGVcGP47RGNzaQvM+aCFt7giGgz7zfY/s6N7wvn3lH+ItJPy+BTQ7Up29/74X3Pl4GnX/vtnQ5Na7yfq+134YKjpn8r7vYaXC3Kyrvs6HmYnBAhQ/8ywdllWRNj94PPAkd45QPxJpXsCZQGM/Na02fuYFcz+NzNbLxZCAPxz+nWTgvYk/Maqi/s6EkT9Ezgdz1+yWP+0iWXswDZ0/xYp4vcTwoT/MeJhMzralPzi4SUwd0qk/pWRaF45Srj8f+ZKsFJmxP3BStwT3O7Q/RR3FVT8Ytz+CZmNnAiy6Px0jVesvgb0/0OpHN4CGwD9zR2L2cFHCP/BBWxDCCsQ/eNfyLSDyxj80L6jrYC/JP6ICcWjb+so/QsoV//OLzD8f90qszuLMP4a8cZS0Sc0/kOM9vQgJzj+C5ecK3xDPP7PIPBMWLNA/gnTSd47z0D+HMenvpfDRP0SzgEOHxNM/\",\"dtype\":\"float64\",\"shape\":[75]},\"y\":{\"__ndarray__\":\"GhExyth1ND/Sv8nbtpRIP2vylNV0PVE/aTum7souWD/At0SJ8fVgPw3Iuahxymc/MSNhhJWvcD/bTfBN02d3P2zb5nxnaoA/CD5h5MAGhz8NmeH1TyaQP+zrCsc9p5Y/LbKd76fGnz/bLW5ISEmmPww9YvTcQq8/JV2OstnstT8Er5Y7M8G+P0c+r3jqkcU/5h99k6ZBzj88bCIzFzjVP4enV8oyxN0//yH99nXg5D8qOpLLf0jtP5kqGJXUifQ/c9cS8kHP/D+/DpwzojQEQIEmwoanVwxA4lgXt9HgE0BSSZ2AJuIbQAMJih9jjiNA5q4l5INuK0AwTKYKRj0zQNv5fmq8/DpAaCJseHrtQkB/+zpwzoxKQM3MzMzMeFJAZmZmZmZqWEAAAAAAAFxeQM3MzMzMJmJAmpmZmZkfZUBmZmZmZhhoQDMzMzMzEWtAAAAAAAAKbkBmZmZmZoFwQM3MzMzM/XFAMzMzMzN6c0CamZmZmfZ0QAAAAAAAc3ZAZmZmZmbvd0DNzMzMzGt5QDMzMzMz6HpAmpmZmZlkfEAAAAAAAOF9QGZmZmZmXX9AZmZmZuZsgECamZmZGSuBQM3MzMxM6YFAAAAAAICngkAzMzMzs2WDQGZmZmbmI4RAmpmZmRnihEDNzMzMTKCFQAAAAACAXoZAMzMzM7Mch0BmZmZm5tqHQJqZmZkZmYhAzczMzExXiUAAAAAAgBWKQDMzMzOz04pAZmZmZuaRi0CamZmZGVCMQM3MzMxMDo1AAAAAAIDMjUAzMzMzs4qOQGZmZmbmSI9A\",\"dtype\":\"float64\",\"shape\":[75]}},\"selected\":{\"id\":\"f3d058bd-1e37-4803-937d-03f6550a152b\",\"type\":\"Selection\"},\"selection_policy\":{\"id\":\"5effdc62-f623-4895-a7da-79460bb3707c\",\"type\":\"UnionRenderers\"}},\"id\":\"f5879fa4-6600-465b-accf-6e1541980acd\",\"type\":\"ColumnDataSource\"},{\"attributes\":{},\"id\":\"800123df-2c0a-4c63-b347-bd82ffa688ce\",\"type\":\"UnionRenderers\"},{\"attributes\":{},\"id\":\"741b5176-0d14-4132-a8a3-9171c6df1ae8\",\"type\":\"Selection\"},{\"attributes\":{\"callback\":null,\"end\":0.33445827780273,\"start\":-0.0033420380757300003},\"id\":\"a9d31594-f979-40c7-aff2-1092e4105497\",\"type\":\"Range1d\"},{\"attributes\":{},\"id\":\"accb36e8-c379-42f3-9192-9d3f7f0592f9\",\"type\":\"UnionRenderers\"},{\"attributes\":{\"tools\":[{\"id\":\"f4321eb9-3521-47ce-befe-ab7f7db9c01f\",\"type\":\"PanTool\"},{\"id\":\"f35c380f-d2a2-4924-82c4-75980a78cdbb\",\"type\":\"WheelZoomTool\"},{\"id\":\"a399c8ea-bdeb-48b2-b427-6a5a7654b3b4\",\"type\":\"BoxZoomTool\"},{\"id\":\"330a4e50-c025-4e2f-b55c-7669b96cc8d2\",\"type\":\"SaveTool\"},{\"id\":\"66c839fb-ef85-4c89-995f-7b3a54a26e82\",\"type\":\"ResetTool\"},{\"id\":\"a215323e-8aa9-4a68-80d8-e508d345058c\",\"type\":\"HelpTool\"},{\"id\":\"14d3887c-7c44-47b7-86f9-7ea53804f123\",\"type\":\"PanTool\"},{\"id\":\"04c93900-726f-4a28-9701-921797fc96b2\",\"type\":\"WheelZoomTool\"},{\"id\":\"7bcadf20-fa57-4f7c-a782-cb604e785e8e\",\"type\":\"BoxZoomTool\"},{\"id\":\"4e98a258-dc10-41b9-86ac-23ed46a47d7c\",\"type\":\"SaveTool\"},{\"id\":\"46aec137-746a-4e0a-aa83-690d7f8e67fc\",\"type\":\"ResetTool\"},{\"id\":\"9ed442cb-1ae8-4142-8fa7-85bd403042d2\",\"type\":\"HelpTool\"}]},\"id\":\"22ca7977-b532-4d21-8551-dc4dba2bc800\",\"type\":\"ProxyToolbar\"},{\"attributes\":{\"toolbar\":{\"id\":\"22ca7977-b532-4d21-8551-dc4dba2bc800\",\"type\":\"ProxyToolbar\"},\"toolbar_location\":\"above\"},\"id\":\"c84c9deb-319d-4b62-88ee-39ffba643951\",\"type\":\"ToolbarBox\"},{\"attributes\":{},\"id\":\"9b3bfd43-2d33-45dc-9396-5a4978c2924b\",\"type\":\"Selection\"},{\"attributes\":{},\"id\":\"3ac503a1-1668-4cea-ab86-f3c70c7c4557\",\"type\":\"UnionRenderers\"},{\"attributes\":{\"children\":[{\"id\":\"c84c9deb-319d-4b62-88ee-39ffba643951\",\"type\":\"ToolbarBox\"},{\"id\":\"72d6e6c5-12b5-4254-9c14-28e447cca9a2\",\"type\":\"Column\"}]},\"id\":\"015e0599-be01-4ada-857d-b1427c3393c3\",\"type\":\"Column\"},{\"attributes\":{},\"id\":\"14d3887c-7c44-47b7-86f9-7ea53804f123\",\"type\":\"PanTool\"},{\"attributes\":{\"line_color\":\"#4daf4a\",\"line_width\":1.5,\"x\":{\"field\":\"x\"},\"y\":{\"field\":\"y\"}},\"id\":\"80f31ff7-e651-4c42-83f9-5d986ed4bf55\",\"type\":\"Line\"},{\"attributes\":{},\"id\":\"eae3cff5-b840-4e94-9c86-18c780db85f0\",\"type\":\"LinearScale\"},{\"attributes\":{\"num_minor_ticks\":10},\"id\":\"0fa4a6bd-da04-42cf-a6ab-d1b0acace9e2\",\"type\":\"LogTicker\"},{\"attributes\":{\"bottom_units\":\"screen\",\"fill_alpha\":{\"value\":0.5},\"fill_color\":{\"value\":\"lightgrey\"},\"left_units\":\"screen\",\"level\":\"overlay\",\"line_alpha\":{\"value\":1.0},\"line_color\":{\"value\":\"black\"},\"line_dash\":[4,4],\"line_width\":{\"value\":2},\"plot\":null,\"render_mode\":\"css\",\"right_units\":\"screen\",\"top_units\":\"screen\"},\"id\":\"4575cd5d-6ab2-4a85-b4ec-686fb80bf897\",\"type\":\"BoxAnnotation\"},{\"attributes\":{\"data_source\":{\"id\":\"70a8963f-dad3-42c1-bda2-ffc25093f2cd\",\"type\":\"ColumnDataSource\"},\"glyph\":{\"id\":\"218357d4-c7c8-4cb9-ae59-30e6bf315f33\",\"type\":\"Line\"},\"hover_glyph\":null,\"muted_glyph\":null,\"nonselection_glyph\":{\"id\":\"2cc76fc5-0f3e-4e8a-8d8b-e360cab42f9c\",\"type\":\"Line\"},\"selection_glyph\":null,\"view\":{\"id\":\"39028e81-f253-418d-85a5-972a594c74ec\",\"type\":\"CDSView\"}},\"id\":\"fb4fc001-7f76-4ba9-a064-6785c631ec97\",\"type\":\"GlyphRenderer\"},{\"attributes\":{\"fill_alpha\":{\"value\":0.7},\"fill_color\":{\"value\":\"#4daf4a\"},\"line_alpha\":{\"value\":0.7},\"line_color\":{\"value\":\"#4daf4a\"},\"x\":{\"field\":\"x\"},\"y\":{\"field\":\"y\"}},\"id\":\"5c7875cb-f120-442b-8220-611dc78044a3\",\"type\":\"Circle\"},{\"attributes\":{\"data_source\":{\"id\":\"a28c20d8-b4d5-4778-bb02-aa3bd70cea0d\",\"type\":\"ColumnDataSource\"},\"glyph\":{\"id\":\"15f2b96e-8d8b-4d58-96a8-30a58d71d6ae\",\"type\":\"Line\"},\"hover_glyph\":null,\"muted_glyph\":null,\"nonselection_glyph\":{\"id\":\"42537d49-ab3d-4c4a-9a8b-1bb2523b2fac\",\"type\":\"Line\"},\"selection_glyph\":null,\"view\":{\"id\":\"fdbcb24b-1abb-4bcf-a8d6-8a788e09fe56\",\"type\":\"CDSView\"}},\"id\":\"b4b632bb-3f81-44e5-b301-7fca5043803b\",\"type\":\"GlyphRenderer\"},{\"attributes\":{\"axis_label\":\"cooling rate [K/day]\",\"formatter\":{\"id\":\"fb87ea45-8529-4b56-8f2e-aa4f7c712a40\",\"type\":\"BasicTickFormatter\"},\"plot\":{\"id\":\"27abccba-857e-49c0-80e2-6ed90ada7bcc\",\"subtype\":\"Figure\",\"type\":\"Plot\"},\"ticker\":{\"id\":\"04fa84e7-ca12-4acf-a053-eeea24ef2807\",\"type\":\"BasicTicker\"}},\"id\":\"f4dd2485-3f7a-4278-872a-15d5a02c6640\",\"type\":\"LinearAxis\"},{\"attributes\":{\"fill_alpha\":{\"value\":0.1},\"fill_color\":{\"value\":\"#1f77b4\"},\"line_alpha\":{\"value\":0.1},\"line_color\":{\"value\":\"#1f77b4\"},\"x\":{\"field\":\"x\"},\"y\":{\"field\":\"y\"}},\"id\":\"fc3939ae-00bc-473b-8997-5629516a0e60\",\"type\":\"Circle\"},{\"attributes\":{\"callback\":null,\"data\":{\"x\":{\"__ndarray__\":\"5Q+ILUZu5r6oMKwBhuPlvoOYZSGcvuS+Vw8ulH+G477Gt5VG0j3ivqe/9Z6S5OC+ffXLPXP03r6Ojm8eA/zbvucRuFIE39i+1eXS9Fuc1b6o4TU9oTLSvmCUPu0jQc2+dr430KjCxb4gJGlvHmy3vvkd89buMMw+VpGWoPWJ8D5c3ekRmEEDP8X42BjgmhE/rr2i3jXoHD/I0RC7G1MmPwCoQqhTkDA/nbU1gMwWNz9ssicqi7o5P476RzYSTjc/9C67gjxbMz//XKPL75gtP0NAGztc0CU/gys8ZGdrHz87gguCw+QVPzq0Wt98+ww/R5MZZk+NAT+SevBs5GvxPkP9dgAij80+fRBwcbxX3b79Si2TMPXxvkWQqW305/m+E2C05lIs/b7S84wuhs79viB1L03cw/u+jx/vED+79r6zpJAk4ezpvm3/T6RyFQI/pLtErQVZLj9VNp59rDZJPx2gDB5Ba18/s1lys3VecD8+jyw1MMh9P9sJvcAk9oc/nQPXbqe3kD+qpkp53y2WP7FKmey9O5w/URG8cF5loT97B/tTA/2kP+NqR8d45qg/HjaPT8FLrT9BfVz/1BaxPxSwb0EcxrM/pmjLU3ustj/12vfnbMG5P67LRTlbCL0/1N8kls07wD8fc4RHnvvBPy0XkjoEtsM/DOzJDAqvxj9M6D8UuBrJPz4IoucQJ8s/IUPU2X/9zD9YJYRTjoXNP/5O0X4FDM4/S/8aye3azj8CTlVGxfTPP5k5o2qeqtA/R3TiFLqE0T8HDTzXS5vSP23x/1tvgdQ/\",\"dtype\":\"float64\",\"shape\":[75]},\"y\":{\"__ndarray__\":\"GhExyth1ND/Sv8nbtpRIP2vylNV0PVE/aTum7souWD/At0SJ8fVgPw3Iuahxymc/MSNhhJWvcD/bTfBN02d3P2zb5nxnaoA/CD5h5MAGhz8NmeH1TyaQP+zrCsc9p5Y/LbKd76fGnz/bLW5ISEmmPww9YvTcQq8/JV2OstnstT8Er5Y7M8G+P0c+r3jqkcU/5h99k6ZBzj88bCIzFzjVP4enV8oyxN0//yH99nXg5D8qOpLLf0jtP5kqGJXUifQ/c9cS8kHP/D+/DpwzojQEQIEmwoanVwxA4lgXt9HgE0BSSZ2AJuIbQAMJih9jjiNA5q4l5INuK0AwTKYKRj0zQNv5fmq8/DpAaCJseHrtQkB/+zpwzoxKQM3MzMzMeFJAZmZmZmZqWEAAAAAAAFxeQM3MzMzMJmJAmpmZmZkfZUBmZmZmZhhoQDMzMzMzEWtAAAAAAAAKbkBmZmZmZoFwQM3MzMzM/XFAMzMzMzN6c0CamZmZmfZ0QAAAAAAAc3ZAZmZmZmbvd0DNzMzMzGt5QDMzMzMz6HpAmpmZmZlkfEAAAAAAAOF9QGZmZmZmXX9AZmZmZuZsgECamZmZGSuBQM3MzMxM6YFAAAAAAICngkAzMzMzs2WDQGZmZmbmI4RAmpmZmRnihEDNzMzMTKCFQAAAAACAXoZAMzMzM7Mch0BmZmZm5tqHQJqZmZkZmYhAzczMzExXiUAAAAAAgBWKQDMzMzOz04pAZmZmZuaRi0CamZmZGVCMQM3MzMxMDo1AAAAAAIDMjUAzMzMzs4qOQGZmZmbmSI9A\",\"dtype\":\"float64\",\"shape\":[75]}},\"selected\":{\"id\":\"5739c6e1-c7c4-4bf0-a024-a9143dc1b0e0\",\"type\":\"Selection\"},\"selection_policy\":{\"id\":\"800123df-2c0a-4c63-b347-bd82ffa688ce\",\"type\":\"UnionRenderers\"}},\"id\":\"79e2385e-775d-4e99-80a0-6370cddc858b\",\"type\":\"ColumnDataSource\"},{\"attributes\":{},\"id\":\"46aec137-746a-4e0a-aa83-690d7f8e67fc\",\"type\":\"ResetTool\"},{\"attributes\":{},\"id\":\"f4321eb9-3521-47ce-befe-ab7f7db9c01f\",\"type\":\"PanTool\"},{\"attributes\":{\"source\":{\"id\":\"ed6af7c3-4c60-4487-91e3-541a0b3f585e\",\"type\":\"ColumnDataSource\"}},\"id\":\"37cd9bdf-a3d7-4b5f-a092-5504de71136f\",\"type\":\"CDSView\"},{\"attributes\":{\"dimension\":1,\"plot\":{\"id\":\"da60f077-1956-46da-9480-5c93c745ea02\",\"subtype\":\"Figure\",\"type\":\"Plot\"},\"ticker\":{\"id\":\"8bac4976-6ced-4685-896f-2614e48bd4eb\",\"type\":\"BasicTicker\"}},\"id\":\"c1250980-b7c8-410b-969c-aecda133a00f\",\"type\":\"Grid\"},{\"attributes\":{\"axis_label\":\"pressure [mb]\",\"formatter\":{\"id\":\"92b05aed-7434-497c-8dc2-711761bcfb0f\",\"type\":\"LogTickFormatter\"},\"plot\":{\"id\":\"27abccba-857e-49c0-80e2-6ed90ada7bcc\",\"subtype\":\"Figure\",\"type\":\"Plot\"},\"ticker\":{\"id\":\"0fa4a6bd-da04-42cf-a6ab-d1b0acace9e2\",\"type\":\"LogTicker\"}},\"id\":\"a443cb94-a75a-43c9-9015-15b35c9aca18\",\"type\":\"LogAxis\"},{\"attributes\":{\"callback\":null,\"data\":{\"x\":{\"__ndarray__\":\"L/bDkM5/375u5c3SNAbdvq6Fv6Tayte+IzMqeXM50r43w7BnBNjIvp14l5mqT7m+aULaivwsTD7hY+umAu+6PiS0GRiSXMs++PcblUbx1D7P/uoWSIbcPiT5iycAOOI+JDFUkJte5j7GFaBhjOnrPlsCOIOO2/g+8QRGMvJsCj/ZKC9l+9YYP82SFHhIwyQ/iU05qE07MD90iXZXblA4P3oIE/cUqkE/u+OdzH9BSD9Pg6bEddVKP+ifkyQUP0g/UtT6/AwdRD+2tW6q3MQ+PxHHAY4ZtTY/Xh72OI9nMD9LBhZy6AsnP8ncOjp6Gh8/8sPXB7u2Ez8RAzztGVcGP47RGNzaQvM+aCFt7giGgz7zfY/s6N7wvn3lH+ItJPy+BTQ7Up29/74X3Pl4GnX/vtnQ5Na7yfq+134YKjpn8r7vYaXC3Kyrvs6HmYnBAhQ/8ywdllWRNj94PPAkd45QPxJpXsCZQGM/Na02fuYFcz+NzNbLxZCAPxz+nWTgvYk/Maqi/s6EkT9Ezgdz1+yWP+0iWXswDZ0/xYp4vcTwoT/MeJhMzralPzi4SUwd0qk/pWRaF45Srj8f+ZKsFJmxP3BStwT3O7Q/RR3FVT8Ytz+CZmNnAiy6Px0jVesvgb0/0OpHN4CGwD9zR2L2cFHCP/BBWxDCCsQ/eNfyLSDyxj80L6jrYC/JP6ICcWjb+so/QsoV//OLzD8f90qszuLMP4a8cZS0Sc0/kOM9vQgJzj+C5ecK3xDPP7PIPBMWLNA/gnTSd47z0D+HMenvpfDRP0SzgEOHxNM/\",\"dtype\":\"float64\",\"shape\":[75]},\"y\":{\"__ndarray__\":\"GhExyth1ND/Sv8nbtpRIP2vylNV0PVE/aTum7souWD/At0SJ8fVgPw3Iuahxymc/MSNhhJWvcD/bTfBN02d3P2zb5nxnaoA/CD5h5MAGhz8NmeH1TyaQP+zrCsc9p5Y/LbKd76fGnz/bLW5ISEmmPww9YvTcQq8/JV2OstnstT8Er5Y7M8G+P0c+r3jqkcU/5h99k6ZBzj88bCIzFzjVP4enV8oyxN0//yH99nXg5D8qOpLLf0jtP5kqGJXUifQ/c9cS8kHP/D+/DpwzojQEQIEmwoanVwxA4lgXt9HgE0BSSZ2AJuIbQAMJih9jjiNA5q4l5INuK0AwTKYKRj0zQNv5fmq8/DpAaCJseHrtQkB/+zpwzoxKQM3MzMzMeFJAZmZmZmZqWEAAAAAAAFxeQM3MzMzMJmJAmpmZmZkfZUBmZmZmZhhoQDMzMzMzEWtAAAAAAAAKbkBmZmZmZoFwQM3MzMzM/XFAMzMzMzN6c0CamZmZmfZ0QAAAAAAAc3ZAZmZmZmbvd0DNzMzMzGt5QDMzMzMz6HpAmpmZmZlkfEAAAAAAAOF9QGZmZmZmXX9AZmZmZuZsgECamZmZGSuBQM3MzMxM6YFAAAAAAICngkAzMzMzs2WDQGZmZmbmI4RAmpmZmRnihEDNzMzMTKCFQAAAAACAXoZAMzMzM7Mch0BmZmZm5tqHQJqZmZkZmYhAzczMzExXiUAAAAAAgBWKQDMzMzOz04pAZmZmZuaRi0CamZmZGVCMQM3MzMxMDo1AAAAAAIDMjUAzMzMzs4qOQGZmZmbmSI9A\",\"dtype\":\"float64\",\"shape\":[75]}},\"selected\":{\"id\":\"741b5176-0d14-4132-a8a3-9171c6df1ae8\",\"type\":\"Selection\"},\"selection_policy\":{\"id\":\"accb36e8-c379-42f3-9192-9d3f7f0592f9\",\"type\":\"UnionRenderers\"}},\"id\":\"94bfdcc1-845e-463b-a3c8-bac591747a16\",\"type\":\"ColumnDataSource\"},{\"attributes\":{\"axis_label\":\"pressure [mb]\",\"formatter\":{\"id\":\"e22732b6-3e65-4a2b-b1ad-e452a4537def\",\"type\":\"BasicTickFormatter\"},\"plot\":{\"id\":\"da60f077-1956-46da-9480-5c93c745ea02\",\"subtype\":\"Figure\",\"type\":\"Plot\"},\"ticker\":{\"id\":\"8bac4976-6ced-4685-896f-2614e48bd4eb\",\"type\":\"BasicTicker\"}},\"id\":\"a4885fd2-ea8e-4b5a-8cbb-1c32020e2532\",\"type\":\"LinearAxis\"},{\"attributes\":{},\"id\":\"e638a366-23f1-4ed1-b2bc-68bd77f26fe7\",\"type\":\"LogScale\"},{\"attributes\":{\"overlay\":{\"id\":\"4575cd5d-6ab2-4a85-b4ec-686fb80bf897\",\"type\":\"BoxAnnotation\"}},\"id\":\"7bcadf20-fa57-4f7c-a782-cb604e785e8e\",\"type\":\"BoxZoomTool\"},{\"attributes\":{\"axis_label\":\"cooling rate [K/day]\",\"formatter\":{\"id\":\"c99cbd3c-0fd2-426a-a5ec-d384af576349\",\"type\":\"BasicTickFormatter\"},\"plot\":{\"id\":\"da60f077-1956-46da-9480-5c93c745ea02\",\"subtype\":\"Figure\",\"type\":\"Plot\"},\"ticker\":{\"id\":\"1fdc3502-d64d-4b98-b849-760fd61645f2\",\"type\":\"BasicTicker\"}},\"id\":\"81510efc-3f6a-4076-bf34-4f947a23c549\",\"type\":\"LinearAxis\"},{\"attributes\":{\"items\":[{\"id\":\"34757114-9fd0-4de9-82d5-567fea498492\",\"type\":\"LegendItem\"},{\"id\":\"2f73c451-14f2-4d14-ab4b-86a4657f7fca\",\"type\":\"LegendItem\"},{\"id\":\"616d10a0-7fdc-48f8-83e3-167e58d6685b\",\"type\":\"LegendItem\"}],\"label_text_font_size\":{\"value\":\"8pt\"},\"location\":[10,-30],\"plot\":{\"id\":\"27abccba-857e-49c0-80e2-6ed90ada7bcc\",\"subtype\":\"Figure\",\"type\":\"Plot\"}},\"id\":\"f2df0cd2-d9ba-461d-b337-e9e46c0bba69\",\"type\":\"Legend\"},{\"attributes\":{\"data_source\":{\"id\":\"ed6af7c3-4c60-4487-91e3-541a0b3f585e\",\"type\":\"ColumnDataSource\"},\"glyph\":{\"id\":\"2eae9669-9f37-4f62-9be4-cb495ac352cd\",\"type\":\"Line\"},\"hover_glyph\":null,\"muted_glyph\":null,\"nonselection_glyph\":{\"id\":\"320e30da-e12e-43da-a542-85ee2616cdd9\",\"type\":\"Line\"},\"selection_glyph\":null,\"view\":{\"id\":\"37cd9bdf-a3d7-4b5f-a092-5504de71136f\",\"type\":\"CDSView\"}},\"id\":\"df8464b1-68d6-4725-b6c2-860d394584c2\",\"type\":\"GlyphRenderer\"},{\"attributes\":{\"line_alpha\":0.1,\"line_color\":\"#1f77b4\",\"line_width\":3,\"x\":{\"field\":\"x\"},\"y\":{\"field\":\"y\"}},\"id\":\"320e30da-e12e-43da-a542-85ee2616cdd9\",\"type\":\"Line\"},{\"attributes\":{},\"id\":\"04c93900-726f-4a28-9701-921797fc96b2\",\"type\":\"WheelZoomTool\"},{\"attributes\":{},\"id\":\"8bac4976-6ced-4685-896f-2614e48bd4eb\",\"type\":\"BasicTicker\"},{\"attributes\":{\"line_alpha\":0.1,\"line_color\":\"#1f77b4\",\"line_width\":1.5,\"x\":{\"field\":\"x\"},\"y\":{\"field\":\"y\"}},\"id\":\"39e236d0-768b-4744-87c6-1cc9f3f49288\",\"type\":\"Line\"},{\"attributes\":{\"bottom_units\":\"screen\",\"fill_alpha\":{\"value\":0.5},\"fill_color\":{\"value\":\"lightgrey\"},\"left_units\":\"screen\",\"level\":\"overlay\",\"line_alpha\":{\"value\":1.0},\"line_color\":{\"value\":\"black\"},\"line_dash\":[4,4],\"line_width\":{\"value\":2},\"plot\":null,\"render_mode\":\"css\",\"right_units\":\"screen\",\"top_units\":\"screen\"},\"id\":\"62b39556-e41c-48dc-8a33-f3ad84a43548\",\"type\":\"BoxAnnotation\"},{\"attributes\":{\"line_alpha\":0.1,\"line_color\":\"#1f77b4\",\"line_dash\":[6],\"line_width\":5,\"x\":{\"field\":\"x\"},\"y\":{\"field\":\"y\"}},\"id\":\"2cc76fc5-0f3e-4e8a-8d8b-e360cab42f9c\",\"type\":\"Line\"},{\"attributes\":{},\"id\":\"9ed442cb-1ae8-4142-8fa7-85bd403042d2\",\"type\":\"HelpTool\"},{\"attributes\":{\"plot\":{\"id\":\"da60f077-1956-46da-9480-5c93c745ea02\",\"subtype\":\"Figure\",\"type\":\"Plot\"},\"ticker\":{\"id\":\"1fdc3502-d64d-4b98-b849-760fd61645f2\",\"type\":\"BasicTicker\"}},\"id\":\"a4dfb8a4-b395-4bcf-9aa2-10307d9caef4\",\"type\":\"Grid\"},{\"attributes\":{\"line_alpha\":0.6,\"line_color\":\"#e41a1c\",\"line_dash\":[6],\"line_width\":5,\"x\":{\"field\":\"x\"},\"y\":{\"field\":\"y\"}},\"id\":\"218357d4-c7c8-4cb9-ae59-30e6bf315f33\",\"type\":\"Line\"},{\"attributes\":{},\"id\":\"1fdc3502-d64d-4b98-b849-760fd61645f2\",\"type\":\"BasicTicker\"},{\"attributes\":{\"source\":{\"id\":\"d94e7e6d-70fe-494b-8095-4474151503d6\",\"type\":\"ColumnDataSource\"}},\"id\":\"9b09f8a0-3a85-40c6-9017-66ee20fdca2a\",\"type\":\"CDSView\"},{\"attributes\":{\"callback\":null,\"data\":{\"x\":{\"__ndarray__\":\"5Q+ILUZu5r6oMKwBhuPlvoOYZSGcvuS+Vw8ulH+G477Gt5VG0j3ivqe/9Z6S5OC+ffXLPXP03r6Ojm8eA/zbvucRuFIE39i+1eXS9Fuc1b6o4TU9oTLSvmCUPu0jQc2+dr430KjCxb4gJGlvHmy3vvkd89buMMw+VpGWoPWJ8D5c3ekRmEEDP8X42BjgmhE/rr2i3jXoHD/I0RC7G1MmPwCoQqhTkDA/nbU1gMwWNz9ssicqi7o5P476RzYSTjc/9C67gjxbMz//XKPL75gtP0NAGztc0CU/gys8ZGdrHz87gguCw+QVPzq0Wt98+ww/R5MZZk+NAT+SevBs5GvxPkP9dgAij80+fRBwcbxX3b79Si2TMPXxvkWQqW305/m+E2C05lIs/b7S84wuhs79viB1L03cw/u+jx/vED+79r6zpJAk4ezpvm3/T6RyFQI/pLtErQVZLj9VNp59rDZJPx2gDB5Ba18/s1lys3VecD8+jyw1MMh9P9sJvcAk9oc/nQPXbqe3kD+qpkp53y2WP7FKmey9O5w/URG8cF5loT97B/tTA/2kP+NqR8d45qg/HjaPT8FLrT9BfVz/1BaxPxSwb0EcxrM/pmjLU3ustj/12vfnbMG5P67LRTlbCL0/1N8kls07wD8fc4RHnvvBPy0XkjoEtsM/DOzJDAqvxj9M6D8UuBrJPz4IoucQJ8s/IUPU2X/9zD9YJYRTjoXNP/5O0X4FDM4/S/8aye3azj8CTlVGxfTPP5k5o2qeqtA/R3TiFLqE0T8HDTzXS5vSP23x/1tvgdQ/\",\"dtype\":\"float64\",\"shape\":[75]},\"y\":{\"__ndarray__\":\"GhExyth1ND/Sv8nbtpRIP2vylNV0PVE/aTum7souWD/At0SJ8fVgPw3Iuahxymc/MSNhhJWvcD/bTfBN02d3P2zb5nxnaoA/CD5h5MAGhz8NmeH1TyaQP+zrCsc9p5Y/LbKd76fGnz/bLW5ISEmmPww9YvTcQq8/JV2OstnstT8Er5Y7M8G+P0c+r3jqkcU/5h99k6ZBzj88bCIzFzjVP4enV8oyxN0//yH99nXg5D8qOpLLf0jtP5kqGJXUifQ/c9cS8kHP/D+/DpwzojQEQIEmwoanVwxA4lgXt9HgE0BSSZ2AJuIbQAMJih9jjiNA5q4l5INuK0AwTKYKRj0zQNv5fmq8/DpAaCJseHrtQkB/+zpwzoxKQM3MzMzMeFJAZmZmZmZqWEAAAAAAAFxeQM3MzMzMJmJAmpmZmZkfZUBmZmZmZhhoQDMzMzMzEWtAAAAAAAAKbkBmZmZmZoFwQM3MzMzM/XFAMzMzMzN6c0CamZmZmfZ0QAAAAAAAc3ZAZmZmZmbvd0DNzMzMzGt5QDMzMzMz6HpAmpmZmZlkfEAAAAAAAOF9QGZmZmZmXX9AZmZmZuZsgECamZmZGSuBQM3MzMxM6YFAAAAAAICngkAzMzMzs2WDQGZmZmbmI4RAmpmZmRnihEDNzMzMTKCFQAAAAACAXoZAMzMzM7Mch0BmZmZm5tqHQJqZmZkZmYhAzczMzExXiUAAAAAAgBWKQDMzMzOz04pAZmZmZuaRi0CamZmZGVCMQM3MzMxMDo1AAAAAAIDMjUAzMzMzs4qOQGZmZmbmSI9A\",\"dtype\":\"float64\",\"shape\":[75]}},\"selected\":{\"id\":\"9b3bfd43-2d33-45dc-9396-5a4978c2924b\",\"type\":\"Selection\"},\"selection_policy\":{\"id\":\"3ac503a1-1668-4cea-ab86-f3c70c7c4557\",\"type\":\"UnionRenderers\"}},\"id\":\"ed6af7c3-4c60-4487-91e3-541a0b3f585e\",\"type\":\"ColumnDataSource\"},{\"attributes\":{},\"id\":\"a215323e-8aa9-4a68-80d8-e508d345058c\",\"type\":\"HelpTool\"},{\"attributes\":{},\"id\":\"f35c380f-d2a2-4924-82c4-75980a78cdbb\",\"type\":\"WheelZoomTool\"},{\"attributes\":{\"source\":{\"id\":\"70a8963f-dad3-42c1-bda2-ffc25093f2cd\",\"type\":\"ColumnDataSource\"}},\"id\":\"39028e81-f253-418d-85a5-972a594c74ec\",\"type\":\"CDSView\"},{\"attributes\":{\"callback\":null,\"data\":{\"x\":{\"__ndarray__\":\"OoO/7WPy6L6CoQ4oCwbpvu09xPACbue+JdHth76B5r73c9nlConlvo76deM2guS+pCOCxJpv474GoKW8U0vivjSEmb0dG+G+avZPQNDA375K1/fSWkLdvliVHWOEnNq+Pj/8zPrP1753hdBybyvUvjRXHF9W4bO+pJVOCqGd4T7zBZxvJ8z5Po7F0kAqMQk/GUvZkgU+FT8RXtfA8ZQgP7kzH4b94yg/B8SGuZK6MT/TXwxcaeozP2i0a9ZBBjI/F/Ra9urRLT/bp5JfPaYmP4Z9Lds0gyA/zpLHoTZvFz+nV8g0auQPP4PrKHxqRwQ/RU0Qe3KY9j7kSE6KD4jhPvtFkDwU1L2+BBfviY1H5L5wPoEpOjDyvq4ILY2thvi+BE68Rrw2+77v/oEPZRP8vqwLdpG+q/q+54vVFP8M+L4j/BDbU3L1viTEQPKdVKi+61EuUSGFID8fYYEXK/hAP4oSeb5iblc/F2HFizdJaj/sU3J0s0R5P3Jk45aWXoU/1SDt+0cRjz8waeePxCaVP9SOj9RKOps/a2o5zYveoD86wy1Pgl+kP7o0bP7ZO6g/+76juVqWrD8ha2GkhNGwP12IWVgFpLM/iZ1eZi6ptj+BWk46eMO5P5mymWRg9Lw/8ffmkgUnwD8Rcr3x3ubBP7U+vBn7s8M/BOoHVIPZxj/Ro1ZWooXJP40p9bix0cs/uhnJeVrZzT9dCQ9gsm3OP3vXA1p45s4/FoQ0W2Cszz/A5Xe72mHQP+KoYH3RGNE/qG4N8M0E0j+Kt2MkWjbTP0GcqCGBMdU/\",\"dtype\":\"float64\",\"shape\":[75]},\"y\":{\"__ndarray__\":\"S/O/Q+51ND/Sv8nbtpRIP2vylNV0PVE/aTum7souWD/At0SJ8fVgPw3Iuahxymc/MSNhhJWvcD/bTfBN02d3P2zb5nxnaoA/CD5h5MAGhz8NmeH1TyaQP+zrCsc9p5Y/LbKd76fGnz/bLW5ISEmmPww9YvTcQq8/JV2OstnstT8Er5Y7M8G+P0c+r3jqkcU/5h99k6ZBzj88bCIzFzjVP4enV8oyxN0//yH99nXg5D8qOpLLf0jtP5kqGJXUifQ/c9cS8kHP/D+/DpwzojQEQIEmwoanVwxA4lgXt9HgE0BSSZ2AJuIbQAMJih9jjiNA5q4l5INuK0AwTKYKRj0zQNv5fmq8/DpAaCJseHrtQkB/+zpwzoxKQM3MzMzMeFJAZmZmZmZqWEAAAAAAAFxeQM3MzMzMJmJAmpmZmZkfZUBmZmZmZhhoQDMzMzMzEWtAAAAAAAAKbkBmZmZmZoFwQM3MzMzM/XFAMzMzMzN6c0CamZmZmfZ0QAAAAAAAc3ZAZmZmZmbvd0DNzMzMzGt5QDMzMzMz6HpAmpmZmZlkfEAAAAAAAOF9QGZmZmZmXX9AZmZmZuZsgECamZmZGSuBQM3MzMxM6YFAAAAAAICngkAzMzMzs2WDQGZmZmbmI4RAmpmZmRnihEDNzMzMTKCFQAAAAACAXoZAMzMzM7Mch0BmZmZm5tqHQJqZmZkZmYhAzczMzExXiUAAAAAAgBWKQDMzMzOz04pAZmZmZuaRi0CamZmZGVCMQM3MzMxMDo1AAAAAAIDMjUAzMzMzs4qOQGZmZmbmSI9A\",\"dtype\":\"float64\",\"shape\":[75]}},\"selected\":{\"id\":\"7b93f696-aaca-4324-b95b-42e2f8c38ff4\",\"type\":\"Selection\"},\"selection_policy\":{\"id\":\"08869e90-91db-402a-ad86-32a7fbcc54b3\",\"type\":\"UnionRenderers\"}},\"id\":\"70a8963f-dad3-42c1-bda2-ffc25093f2cd\",\"type\":\"ColumnDataSource\"},{\"attributes\":{\"data_source\":{\"id\":\"d94e7e6d-70fe-494b-8095-4474151503d6\",\"type\":\"ColumnDataSource\"},\"glyph\":{\"id\":\"32c19940-36be-4b0e-835c-2d2063ef62bc\",\"type\":\"Circle\"},\"hover_glyph\":null,\"muted_glyph\":null,\"nonselection_glyph\":{\"id\":\"fc3939ae-00bc-473b-8997-5629516a0e60\",\"type\":\"Circle\"},\"selection_glyph\":null,\"view\":{\"id\":\"9b09f8a0-3a85-40c6-9017-66ee20fdca2a\",\"type\":\"CDSView\"}},\"id\":\"215285e9-c6df-472c-96d9-def90e36d229\",\"type\":\"GlyphRenderer\"},{\"attributes\":{\"line_alpha\":0.1,\"line_color\":\"#1f77b4\",\"line_dash\":[6],\"line_width\":5,\"x\":{\"field\":\"x\"},\"y\":{\"field\":\"y\"}},\"id\":\"e9594134-801b-4b32-a8cc-646b3c2f2971\",\"type\":\"Line\"},{\"attributes\":{\"callback\":null,\"end\":0.01,\"start\":1020},\"id\":\"93ae4b58-bb0c-4a17-815c-6508124d1a14\",\"type\":\"Range1d\"},{\"attributes\":{\"fill_alpha\":{\"value\":0.7},\"fill_color\":{\"value\":\"#4daf4a\"},\"line_alpha\":{\"value\":0.7},\"line_color\":{\"value\":\"#4daf4a\"},\"x\":{\"field\":\"x\"},\"y\":{\"field\":\"y\"}},\"id\":\"32c19940-36be-4b0e-835c-2d2063ef62bc\",\"type\":\"Circle\"},{\"attributes\":{},\"id\":\"330a4e50-c025-4e2f-b55c-7669b96cc8d2\",\"type\":\"SaveTool\"},{\"attributes\":{\"data_source\":{\"id\":\"94bfdcc1-845e-463b-a3c8-bac591747a16\",\"type\":\"ColumnDataSource\"},\"glyph\":{\"id\":\"80f31ff7-e651-4c42-83f9-5d986ed4bf55\",\"type\":\"Line\"},\"hover_glyph\":null,\"muted_glyph\":null,\"nonselection_glyph\":{\"id\":\"39e236d0-768b-4744-87c6-1cc9f3f49288\",\"type\":\"Line\"},\"selection_glyph\":null,\"view\":{\"id\":\"e86484f9-7413-4864-8b8f-6d1fce969b82\",\"type\":\"CDSView\"}},\"id\":\"8746d18b-9cb7-4e96-87ff-07fa7d9af6b4\",\"type\":\"GlyphRenderer\"},{\"attributes\":{},\"id\":\"66c839fb-ef85-4c89-995f-7b3a54a26e82\",\"type\":\"ResetTool\"},{\"attributes\":{\"dimension\":1,\"plot\":{\"id\":\"27abccba-857e-49c0-80e2-6ed90ada7bcc\",\"subtype\":\"Figure\",\"type\":\"Plot\"},\"ticker\":{\"id\":\"0fa4a6bd-da04-42cf-a6ab-d1b0acace9e2\",\"type\":\"LogTicker\"}},\"id\":\"d7fb32bb-598e-415f-8c41-43859f1b7ffe\",\"type\":\"Grid\"},{\"attributes\":{\"callback\":null,\"data\":{\"x\":{\"__ndarray__\":\"L/bDkM5/375u5c3SNAbdvq6Fv6Tayte+IzMqeXM50r43w7BnBNjIvp14l5mqT7m+aULaivwsTD7hY+umAu+6PiS0GRiSXMs++PcblUbx1D7P/uoWSIbcPiT5iycAOOI+JDFUkJte5j7GFaBhjOnrPlsCOIOO2/g+8QRGMvJsCj/ZKC9l+9YYP82SFHhIwyQ/iU05qE07MD90iXZXblA4P3oIE/cUqkE/u+OdzH9BSD9Pg6bEddVKP+ifkyQUP0g/UtT6/AwdRD+2tW6q3MQ+PxHHAY4ZtTY/Xh72OI9nMD9LBhZy6AsnP8ncOjp6Gh8/8sPXB7u2Ez8RAzztGVcGP47RGNzaQvM+aCFt7giGgz7zfY/s6N7wvn3lH+ItJPy+BTQ7Up29/74X3Pl4GnX/vtnQ5Na7yfq+134YKjpn8r7vYaXC3Kyrvs6HmYnBAhQ/8ywdllWRNj94PPAkd45QPxJpXsCZQGM/Na02fuYFcz+NzNbLxZCAPxz+nWTgvYk/Maqi/s6EkT9Ezgdz1+yWP+0iWXswDZ0/xYp4vcTwoT/MeJhMzralPzi4SUwd0qk/pWRaF45Srj8f+ZKsFJmxP3BStwT3O7Q/RR3FVT8Ytz+CZmNnAiy6Px0jVesvgb0/0OpHN4CGwD9zR2L2cFHCP/BBWxDCCsQ/eNfyLSDyxj80L6jrYC/JP6ICcWjb+so/QsoV//OLzD8f90qszuLMP4a8cZS0Sc0/kOM9vQgJzj+C5ecK3xDPP7PIPBMWLNA/gnTSd47z0D+HMenvpfDRP0SzgEOHxNM/\",\"dtype\":\"float64\",\"shape\":[75]},\"y\":{\"__ndarray__\":\"GhExyth1ND/Sv8nbtpRIP2vylNV0PVE/aTum7souWD/At0SJ8fVgPw3Iuahxymc/MSNhhJWvcD/bTfBN02d3P2zb5nxnaoA/CD5h5MAGhz8NmeH1TyaQP+zrCsc9p5Y/LbKd76fGnz/bLW5ISEmmPww9YvTcQq8/JV2OstnstT8Er5Y7M8G+P0c+r3jqkcU/5h99k6ZBzj88bCIzFzjVP4enV8oyxN0//yH99nXg5D8qOpLLf0jtP5kqGJXUifQ/c9cS8kHP/D+/DpwzojQEQIEmwoanVwxA4lgXt9HgE0BSSZ2AJuIbQAMJih9jjiNA5q4l5INuK0AwTKYKRj0zQNv5fmq8/DpAaCJseHrtQkB/+zpwzoxKQM3MzMzMeFJAZmZmZmZqWEAAAAAAAFxeQM3MzMzMJmJAmpmZmZkfZUBmZmZmZhhoQDMzMzMzEWtAAAAAAAAKbkBmZmZmZoFwQM3MzMzM/XFAMzMzMzN6c0CamZmZmfZ0QAAAAAAAc3ZAZmZmZmbvd0DNzMzMzGt5QDMzMzMz6HpAmpmZmZlkfEAAAAAAAOF9QGZmZmZmXX9AZmZmZuZsgECamZmZGSuBQM3MzMxM6YFAAAAAAICngkAzMzMzs2WDQGZmZmbmI4RAmpmZmRnihEDNzMzMTKCFQAAAAACAXoZAMzMzM7Mch0BmZmZm5tqHQJqZmZkZmYhAzczMzExXiUAAAAAAgBWKQDMzMzOz04pAZmZmZuaRi0CamZmZGVCMQM3MzMxMDo1AAAAAAIDMjUAzMzMzs4qOQGZmZmbmSI9A\",\"dtype\":\"float64\",\"shape\":[75]}},\"selected\":{\"id\":\"fad1ad24-1119-4d32-8c53-e83e0f631b96\",\"type\":\"Selection\"},\"selection_policy\":{\"id\":\"30b73d24-473a-4b66-8e96-ec48dc1cfd6f\",\"type\":\"UnionRenderers\"}},\"id\":\"d94e7e6d-70fe-494b-8095-4474151503d6\",\"type\":\"ColumnDataSource\"},{\"attributes\":{\"source\":{\"id\":\"94bfdcc1-845e-463b-a3c8-bac591747a16\",\"type\":\"ColumnDataSource\"}},\"id\":\"e86484f9-7413-4864-8b8f-6d1fce969b82\",\"type\":\"CDSView\"},{\"attributes\":{\"line_alpha\":0.6,\"line_color\":\"#984ea3\",\"line_width\":3,\"x\":{\"field\":\"x\"},\"y\":{\"field\":\"y\"}},\"id\":\"2eae9669-9f37-4f62-9be4-cb495ac352cd\",\"type\":\"Line\"},{\"attributes\":{\"overlay\":{\"id\":\"62b39556-e41c-48dc-8a33-f3ad84a43548\",\"type\":\"BoxAnnotation\"}},\"id\":\"a399c8ea-bdeb-48b2-b427-6a5a7654b3b4\",\"type\":\"BoxZoomTool\"},{\"attributes\":{\"line_alpha\":0.6,\"line_color\":\"#e41a1c\",\"line_dash\":[6],\"line_width\":5,\"x\":{\"field\":\"x\"},\"y\":{\"field\":\"y\"}},\"id\":\"6dd44842-9c18-43eb-acef-71a5299fb5f6\",\"type\":\"Line\"},{\"attributes\":{\"fill_alpha\":{\"value\":0.7},\"fill_color\":{\"value\":\"#984ea3\"},\"line_alpha\":{\"value\":0.7},\"line_color\":{\"value\":\"#984ea3\"},\"x\":{\"field\":\"x\"},\"y\":{\"field\":\"y\"}},\"id\":\"556d880f-834e-494d-b9c9-fd40aeb9794b\",\"type\":\"Square\"},{\"attributes\":{\"label\":{\"value\":\"CLIRAD `coolr_bands`\"},\"renderers\":[{\"id\":\"fb4fc001-7f76-4ba9-a064-6785c631ec97\",\"type\":\"GlyphRenderer\"}]},\"id\":\"34757114-9fd0-4de9-82d5-567fea498492\",\"type\":\"LegendItem\"},{\"attributes\":{\"line_alpha\":0.1,\"line_color\":\"#1f77b4\",\"line_width\":3,\"x\":{\"field\":\"x\"},\"y\":{\"field\":\"y\"}},\"id\":\"42537d49-ab3d-4c4a-9a8b-1bb2523b2fac\",\"type\":\"Line\"},{\"attributes\":{\"fill_alpha\":{\"value\":0.1},\"fill_color\":{\"value\":\"#1f77b4\"},\"line_alpha\":{\"value\":0.1},\"line_color\":{\"value\":\"#1f77b4\"},\"x\":{\"field\":\"x\"},\"y\":{\"field\":\"y\"}},\"id\":\"80a2dd36-d84a-457b-b091-2774e4a90898\",\"type\":\"Square\"},{\"attributes\":{\"data_source\":{\"id\":\"6003153d-370e-471e-9f80-bb5af982204b\",\"type\":\"ColumnDataSource\"},\"glyph\":{\"id\":\"6dd44842-9c18-43eb-acef-71a5299fb5f6\",\"type\":\"Line\"},\"hover_glyph\":null,\"muted_glyph\":null,\"nonselection_glyph\":{\"id\":\"e9594134-801b-4b32-a8cc-646b3c2f2971\",\"type\":\"Line\"},\"selection_glyph\":null,\"view\":{\"id\":\"05955273-556a-4e8e-9ff1-fd25ab5201b4\",\"type\":\"CDSView\"}},\"id\":\"97bb4d06-ed06-43bd-a148-9798bc1d3310\",\"type\":\"GlyphRenderer\"},{\"attributes\":{\"data_source\":{\"id\":\"79e2385e-775d-4e99-80a0-6370cddc858b\",\"type\":\"ColumnDataSource\"},\"glyph\":{\"id\":\"556d880f-834e-494d-b9c9-fd40aeb9794b\",\"type\":\"Square\"},\"hover_glyph\":null,\"muted_glyph\":null,\"nonselection_glyph\":{\"id\":\"80a2dd36-d84a-457b-b091-2774e4a90898\",\"type\":\"Square\"},\"selection_glyph\":null,\"view\":{\"id\":\"6cb4d979-008d-4b09-b33a-d9c906ee45fc\",\"type\":\"CDSView\"}},\"id\":\"a534ed14-334a-45d8-9ba2-ea0e20e31243\",\"type\":\"GlyphRenderer\"},{\"attributes\":{},\"id\":\"f3d058bd-1e37-4803-937d-03f6550a152b\",\"type\":\"Selection\"},{\"attributes\":{\"children\":[{\"id\":\"da60f077-1956-46da-9480-5c93c745ea02\",\"subtype\":\"Figure\",\"type\":\"Plot\"},{\"id\":\"27abccba-857e-49c0-80e2-6ed90ada7bcc\",\"subtype\":\"Figure\",\"type\":\"Plot\"}]},\"id\":\"15a9e0b9-c2cf-4d43-8cfa-2f76459e8bf8\",\"type\":\"Row\"},{\"attributes\":{\"below\":[{\"id\":\"81510efc-3f6a-4076-bf34-4f947a23c549\",\"type\":\"LinearAxis\"}],\"left\":[{\"id\":\"a4885fd2-ea8e-4b5a-8cbb-1c32020e2532\",\"type\":\"LinearAxis\"}],\"plot_height\":500,\"plot_width\":400,\"renderers\":[{\"id\":\"81510efc-3f6a-4076-bf34-4f947a23c549\",\"type\":\"LinearAxis\"},{\"id\":\"a4dfb8a4-b395-4bcf-9aa2-10307d9caef4\",\"type\":\"Grid\"},{\"id\":\"a4885fd2-ea8e-4b5a-8cbb-1c32020e2532\",\"type\":\"LinearAxis\"},{\"id\":\"c1250980-b7c8-410b-969c-aecda133a00f\",\"type\":\"Grid\"},{\"id\":\"62b39556-e41c-48dc-8a33-f3ad84a43548\",\"type\":\"BoxAnnotation\"},{\"id\":\"97bb4d06-ed06-43bd-a148-9798bc1d3310\",\"type\":\"GlyphRenderer\"},{\"id\":\"e4ed20de-2acc-49ab-905e-4cc2d964df71\",\"type\":\"GlyphRenderer\"},{\"id\":\"5cd1505e-e062-429d-a9d2-dcca8a6360be\",\"type\":\"GlyphRenderer\"},{\"id\":\"40e4608f-44d1-449d-9cec-8cfcd8936969\",\"type\":\"GlyphRenderer\"},{\"id\":\"b4b632bb-3f81-44e5-b301-7fca5043803b\",\"type\":\"GlyphRenderer\"}],\"title\":{\"id\":\"4f744f42-b7a5-40bb-9836-160d5d54efae\",\"type\":\"Title\"},\"toolbar\":{\"id\":\"95c02bca-9700-4292-ae39-38a22f98a50d\",\"type\":\"Toolbar\"},\"toolbar_location\":null,\"x_range\":{\"id\":\"a9d31594-f979-40c7-aff2-1092e4105497\",\"type\":\"Range1d\"},\"x_scale\":{\"id\":\"eae3cff5-b840-4e94-9c86-18c780db85f0\",\"type\":\"LinearScale\"},\"y_range\":{\"id\":\"b604e26d-38d4-4fd0-939e-c2d6fd11b19e\",\"type\":\"Range1d\"},\"y_scale\":{\"id\":\"45bf3255-11ce-46c8-90fe-b3f329345a99\",\"type\":\"LinearScale\"}},\"id\":\"da60f077-1956-46da-9480-5c93c745ea02\",\"subtype\":\"Figure\",\"type\":\"Plot\"},{\"attributes\":{},\"id\":\"edf81398-794d-430d-869d-d553a375dc70\",\"type\":\"LinearScale\"},{\"attributes\":{},\"id\":\"04fa84e7-ca12-4acf-a053-eeea24ef2807\",\"type\":\"BasicTicker\"},{\"attributes\":{},\"id\":\"d4e5ae48-f9c0-4a27-9446-f87ac58d6684\",\"type\":\"Selection\"},{\"attributes\":{\"label\":{\"value\":\"CRD\"},\"renderers\":[{\"id\":\"215285e9-c6df-472c-96d9-def90e36d229\",\"type\":\"GlyphRenderer\"},{\"id\":\"8746d18b-9cb7-4e96-87ff-07fa7d9af6b4\",\"type\":\"GlyphRenderer\"}]},\"id\":\"2f73c451-14f2-4d14-ab4b-86a4657f7fca\",\"type\":\"LegendItem\"},{\"attributes\":{},\"id\":\"4e98a258-dc10-41b9-86ac-23ed46a47d7c\",\"type\":\"SaveTool\"},{\"attributes\":{},\"id\":\"4d710fd1-9e6e-41a7-baed-b8456ee1c67f\",\"type\":\"UnionRenderers\"},{\"attributes\":{\"label\":{\"value\":\"WGT igg=10 wgt_flux=2\"},\"renderers\":[{\"id\":\"a534ed14-334a-45d8-9ba2-ea0e20e31243\",\"type\":\"GlyphRenderer\"},{\"id\":\"df8464b1-68d6-4725-b6c2-860d394584c2\",\"type\":\"GlyphRenderer\"}]},\"id\":\"616d10a0-7fdc-48f8-83e3-167e58d6685b\",\"type\":\"LegendItem\"},{\"attributes\":{},\"id\":\"a726e533-ad0a-4a96-844a-c2ff983dba90\",\"type\":\"UnionRenderers\"},{\"attributes\":{},\"id\":\"e22732b6-3e65-4a2b-b1ad-e452a4537def\",\"type\":\"BasicTickFormatter\"},{\"attributes\":{\"source\":{\"id\":\"79e2385e-775d-4e99-80a0-6370cddc858b\",\"type\":\"ColumnDataSource\"}},\"id\":\"6cb4d979-008d-4b09-b33a-d9c906ee45fc\",\"type\":\"CDSView\"},{\"attributes\":{},\"id\":\"c99cbd3c-0fd2-426a-a5ec-d384af576349\",\"type\":\"BasicTickFormatter\"},{\"attributes\":{},\"id\":\"45bf3255-11ce-46c8-90fe-b3f329345a99\",\"type\":\"LinearScale\"},{\"attributes\":{},\"id\":\"4bde033b-7901-4df1-be6d-44708937b0fc\",\"type\":\"Selection\"},{\"attributes\":{},\"id\":\"fb87ea45-8529-4b56-8f2e-aa4f7c712a40\",\"type\":\"BasicTickFormatter\"},{\"attributes\":{},\"id\":\"5effdc62-f623-4895-a7da-79460bb3707c\",\"type\":\"UnionRenderers\"},{\"attributes\":{\"children\":[{\"id\":\"15a9e0b9-c2cf-4d43-8cfa-2f76459e8bf8\",\"type\":\"Row\"}]},\"id\":\"72d6e6c5-12b5-4254-9c14-28e447cca9a2\",\"type\":\"Column\"},{\"attributes\":{},\"id\":\"6cc45b3a-ff83-4fc1-8ad0-8d3b839c164c\",\"type\":\"Selection\"},{\"attributes\":{\"callback\":null,\"end\":0.00082739518723,\"start\":-3.876201023e-05},\"id\":\"f5d9c3d2-1f71-47e7-9249-761e9fb4f4b6\",\"type\":\"Range1d\"},{\"attributes\":{},\"id\":\"c2264fcc-d6cf-4328-b76d-0c55f1894d03\",\"type\":\"UnionRenderers\"},{\"attributes\":{\"source\":{\"id\":\"6003153d-370e-471e-9f80-bb5af982204b\",\"type\":\"ColumnDataSource\"}},\"id\":\"05955273-556a-4e8e-9ff1-fd25ab5201b4\",\"type\":\"CDSView\"},{\"attributes\":{},\"id\":\"b29a3bde-a6e8-4e9a-96bd-d5e0bc97bbbe\",\"type\":\"Selection\"},{\"attributes\":{},\"id\":\"a257feff-13d7-4a84-9242-591a674679df\",\"type\":\"UnionRenderers\"},{\"attributes\":{\"ticker\":null},\"id\":\"92b05aed-7434-497c-8dc2-711761bcfb0f\",\"type\":\"LogTickFormatter\"}],\"root_ids\":[\"015e0599-be01-4ada-857d-b1427c3393c3\"]},\"title\":\"Bokeh Application\",\"version\":\"0.12.16\"}};\n",
       "  var render_items = [{\"docid\":\"3d920271-d03e-4ad3-9b7f-2b9a7d1b590a\",\"elementid\":\"f95c5374-f871-4d9b-ae3d-e4ad9d73a03b\",\"modelid\":\"015e0599-be01-4ada-857d-b1427c3393c3\"}];\n",
       "  root.Bokeh.embed.embed_items_notebook(docs_json, render_items);\n",
       "\n",
       "  }\n",
       "  if (root.Bokeh !== undefined) {\n",
       "    embed_document(root);\n",
       "  } else {\n",
       "    var attempts = 0;\n",
       "    var timer = setInterval(function(root) {\n",
       "      if (root.Bokeh !== undefined) {\n",
       "        embed_document(root);\n",
       "        clearInterval(timer);\n",
       "      }\n",
       "      attempts++;\n",
       "      if (attempts > 100) {\n",
       "        console.log(\"Bokeh: ERROR: Unable to run BokehJS code because BokehJS library is missing\")\n",
       "        clearInterval(timer);\n",
       "      }\n",
       "    }, 10, root)\n",
       "  }\n",
       "})(window);"
      ],
      "application/vnd.bokehjs_exec.v0+json": ""
     },
     "metadata": {
      "application/vnd.bokehjs_exec.v0+json": {
       "id": "015e0599-be01-4ada-857d-b1427c3393c3"
      }
     },
     "output_type": "display_data"
    },
    {
     "name": "stdout",
     "output_type": "stream",
     "text": [
      "FIGURE. Cooling rate profiles.\n"
     ]
    },
    {
     "data": {
      "text/html": [
       "<a id=\"Flux_Comparison\"></a>"
      ],
      "text/plain": [
       "<IPython.core.display.HTML object>"
      ]
     },
     "metadata": {},
     "output_type": "display_data"
    },
    {
     "data": {
      "text/markdown": [
       "# Flux Comparison"
      ],
      "text/plain": [
       "<IPython.core.display.Markdown object>"
      ]
     },
     "metadata": {},
     "output_type": "display_data"
    },
    {
     "data": {
      "text/html": [
       "<div>\n",
       "<style scoped>\n",
       "    .dataframe tbody tr th:only-of-type {\n",
       "        vertical-align: middle;\n",
       "    }\n",
       "\n",
       "    .dataframe tbody tr th {\n",
       "        vertical-align: top;\n",
       "    }\n",
       "\n",
       "    .dataframe thead th {\n",
       "        text-align: right;\n",
       "    }\n",
       "</style>\n",
       "<table border=\"1\" class=\"dataframe\">\n",
       "  <thead>\n",
       "    <tr style=\"text-align: right;\">\n",
       "      <th></th>\n",
       "      <th></th>\n",
       "      <th>flug</th>\n",
       "      <th>fldg</th>\n",
       "      <th>fnetg</th>\n",
       "    </tr>\n",
       "    <tr>\n",
       "      <th>pressure</th>\n",
       "      <th>level</th>\n",
       "      <th></th>\n",
       "      <th></th>\n",
       "      <th></th>\n",
       "    </tr>\n",
       "  </thead>\n",
       "  <tbody>\n",
       "    <tr>\n",
       "      <th>0.0000</th>\n",
       "      <th>1</th>\n",
       "      <td>-32.497554</td>\n",
       "      <td>0.000000</td>\n",
       "      <td>-32.497554</td>\n",
       "    </tr>\n",
       "    <tr>\n",
       "      <th>1.0685</th>\n",
       "      <th>24</th>\n",
       "      <td>-32.497542</td>\n",
       "      <td>0.000056</td>\n",
       "      <td>-32.497486</td>\n",
       "    </tr>\n",
       "    <tr>\n",
       "      <th>1013.0000</th>\n",
       "      <th>76</th>\n",
       "      <td>-35.223509</td>\n",
       "      <td>14.038427</td>\n",
       "      <td>-21.185083</td>\n",
       "    </tr>\n",
       "  </tbody>\n",
       "</table>\n",
       "</div>"
      ],
      "text/plain": [
       "                      flug       fldg      fnetg\n",
       "pressure  level                                 \n",
       "0.0000    1     -32.497554   0.000000 -32.497554\n",
       "1.0685    24    -32.497542   0.000056 -32.497486\n",
       "1013.0000 76    -35.223509  14.038427 -21.185083"
      ]
     },
     "metadata": {},
     "output_type": "display_data"
    },
    {
     "name": "stdout",
     "output_type": "stream",
     "text": [
      "Table. Fluxes. CRD\n"
     ]
    },
    {
     "data": {
      "text/html": [
       "<div>\n",
       "<style scoped>\n",
       "    .dataframe tbody tr th:only-of-type {\n",
       "        vertical-align: middle;\n",
       "    }\n",
       "\n",
       "    .dataframe tbody tr th {\n",
       "        vertical-align: top;\n",
       "    }\n",
       "\n",
       "    .dataframe thead th {\n",
       "        text-align: right;\n",
       "    }\n",
       "</style>\n",
       "<table border=\"1\" class=\"dataframe\">\n",
       "  <thead>\n",
       "    <tr style=\"text-align: right;\">\n",
       "      <th></th>\n",
       "      <th></th>\n",
       "      <th>flug</th>\n",
       "      <th>fldg</th>\n",
       "      <th>fnetg</th>\n",
       "    </tr>\n",
       "    <tr>\n",
       "      <th>pressure</th>\n",
       "      <th>level</th>\n",
       "      <th></th>\n",
       "      <th></th>\n",
       "      <th></th>\n",
       "    </tr>\n",
       "  </thead>\n",
       "  <tbody>\n",
       "    <tr>\n",
       "      <th>0.0000</th>\n",
       "      <th>1</th>\n",
       "      <td>-32.533093</td>\n",
       "      <td>0.000000</td>\n",
       "      <td>-32.533093</td>\n",
       "    </tr>\n",
       "    <tr>\n",
       "      <th>1.0685</th>\n",
       "      <th>24</th>\n",
       "      <td>-32.533089</td>\n",
       "      <td>0.000029</td>\n",
       "      <td>-32.533061</td>\n",
       "    </tr>\n",
       "    <tr>\n",
       "      <th>1013.0000</th>\n",
       "      <th>76</th>\n",
       "      <td>-35.223510</td>\n",
       "      <td>14.106169</td>\n",
       "      <td>-21.117340</td>\n",
       "    </tr>\n",
       "  </tbody>\n",
       "</table>\n",
       "</div>"
      ],
      "text/plain": [
       "                      flug       fldg      fnetg\n",
       "pressure  level                                 \n",
       "0.0000    1     -32.533093   0.000000 -32.533093\n",
       "1.0685    24    -32.533089   0.000029 -32.533061\n",
       "1013.0000 76    -35.223510  14.106169 -21.117340"
      ]
     },
     "metadata": {},
     "output_type": "display_data"
    },
    {
     "name": "stdout",
     "output_type": "stream",
     "text": [
      "Table. Fluxes. WGT igg=10 wgt_flux=1\n"
     ]
    },
    {
     "data": {
      "text/html": [
       "<div>\n",
       "<style scoped>\n",
       "    .dataframe tbody tr th:only-of-type {\n",
       "        vertical-align: middle;\n",
       "    }\n",
       "\n",
       "    .dataframe tbody tr th {\n",
       "        vertical-align: top;\n",
       "    }\n",
       "\n",
       "    .dataframe thead th {\n",
       "        text-align: right;\n",
       "    }\n",
       "</style>\n",
       "<table border=\"1\" class=\"dataframe\">\n",
       "  <thead>\n",
       "    <tr style=\"text-align: right;\">\n",
       "      <th></th>\n",
       "      <th></th>\n",
       "      <th>flug</th>\n",
       "      <th>fldg</th>\n",
       "      <th>fnetg</th>\n",
       "    </tr>\n",
       "    <tr>\n",
       "      <th>pressure</th>\n",
       "      <th>level</th>\n",
       "      <th></th>\n",
       "      <th></th>\n",
       "      <th></th>\n",
       "    </tr>\n",
       "  </thead>\n",
       "  <tbody>\n",
       "    <tr>\n",
       "      <th>1.000000e-08</th>\n",
       "      <th>1</th>\n",
       "      <td>-32.547198</td>\n",
       "      <td>0.000001</td>\n",
       "      <td>-32.547196</td>\n",
       "    </tr>\n",
       "    <tr>\n",
       "      <th>1.068500e+00</th>\n",
       "      <th>24</th>\n",
       "      <td>-32.547196</td>\n",
       "      <td>0.000024</td>\n",
       "      <td>-32.547172</td>\n",
       "    </tr>\n",
       "    <tr>\n",
       "      <th>1.013000e+03</th>\n",
       "      <th>76</th>\n",
       "      <td>-35.223510</td>\n",
       "      <td>14.268821</td>\n",
       "      <td>-20.954689</td>\n",
       "    </tr>\n",
       "  </tbody>\n",
       "</table>\n",
       "</div>"
      ],
      "text/plain": [
       "                         flug       fldg      fnetg\n",
       "pressure     level                                 \n",
       "1.000000e-08 1     -32.547198   0.000001 -32.547196\n",
       "1.068500e+00 24    -32.547196   0.000024 -32.547172\n",
       "1.013000e+03 76    -35.223510  14.268821 -20.954689"
      ]
     },
     "metadata": {},
     "output_type": "display_data"
    },
    {
     "name": "stdout",
     "output_type": "stream",
     "text": [
      "Table. Fluxes. CLIRAD\n"
     ]
    },
    {
     "data": {
      "text/html": [
       "<div>\n",
       "<style scoped>\n",
       "    .dataframe tbody tr th:only-of-type {\n",
       "        vertical-align: middle;\n",
       "    }\n",
       "\n",
       "    .dataframe tbody tr th {\n",
       "        vertical-align: top;\n",
       "    }\n",
       "\n",
       "    .dataframe thead th {\n",
       "        text-align: right;\n",
       "    }\n",
       "</style>\n",
       "<table border=\"1\" class=\"dataframe\">\n",
       "  <thead>\n",
       "    <tr style=\"text-align: right;\">\n",
       "      <th></th>\n",
       "      <th></th>\n",
       "      <th>flug</th>\n",
       "      <th>fldg</th>\n",
       "      <th>fnetg</th>\n",
       "    </tr>\n",
       "    <tr>\n",
       "      <th>pressure</th>\n",
       "      <th>level</th>\n",
       "      <th></th>\n",
       "      <th></th>\n",
       "      <th></th>\n",
       "    </tr>\n",
       "  </thead>\n",
       "  <tbody>\n",
       "    <tr>\n",
       "      <th>0.0000</th>\n",
       "      <th>1</th>\n",
       "      <td>-3.553876e-02</td>\n",
       "      <td>0.000000</td>\n",
       "      <td>-0.035539</td>\n",
       "    </tr>\n",
       "    <tr>\n",
       "      <th>1.0685</th>\n",
       "      <th>24</th>\n",
       "      <td>-3.554727e-02</td>\n",
       "      <td>-0.000027</td>\n",
       "      <td>-0.035575</td>\n",
       "    </tr>\n",
       "    <tr>\n",
       "      <th>1013.0000</th>\n",
       "      <th>76</th>\n",
       "      <td>-8.100000e-07</td>\n",
       "      <td>0.067742</td>\n",
       "      <td>0.067743</td>\n",
       "    </tr>\n",
       "  </tbody>\n",
       "</table>\n",
       "</div>"
      ],
      "text/plain": [
       "                         flug      fldg     fnetg\n",
       "pressure  level                                  \n",
       "0.0000    1     -3.553876e-02  0.000000 -0.035539\n",
       "1.0685    24    -3.554727e-02 -0.000027 -0.035575\n",
       "1013.0000 76    -8.100000e-07  0.067742  0.067743"
      ]
     },
     "metadata": {},
     "output_type": "display_data"
    },
    {
     "name": "stdout",
     "output_type": "stream",
     "text": [
      "Table. Fluxes. (WGT igg=10 wgt_flux=1) - (CRD)\n"
     ]
    },
    {
     "data": {
      "text/html": [
       "<div>\n",
       "<style scoped>\n",
       "    .dataframe tbody tr th:only-of-type {\n",
       "        vertical-align: middle;\n",
       "    }\n",
       "\n",
       "    .dataframe tbody tr th {\n",
       "        vertical-align: top;\n",
       "    }\n",
       "\n",
       "    .dataframe thead th {\n",
       "        text-align: right;\n",
       "    }\n",
       "</style>\n",
       "<table border=\"1\" class=\"dataframe\">\n",
       "  <thead>\n",
       "    <tr style=\"text-align: right;\">\n",
       "      <th></th>\n",
       "      <th></th>\n",
       "      <th>flug</th>\n",
       "      <th>fldg</th>\n",
       "      <th>fnetg</th>\n",
       "    </tr>\n",
       "    <tr>\n",
       "      <th>pressure</th>\n",
       "      <th>level</th>\n",
       "      <th></th>\n",
       "      <th></th>\n",
       "      <th></th>\n",
       "    </tr>\n",
       "  </thead>\n",
       "  <tbody>\n",
       "    <tr>\n",
       "      <th>0.0000</th>\n",
       "      <th>1</th>\n",
       "      <td>-4.964400e-02</td>\n",
       "      <td>0.000001</td>\n",
       "      <td>-0.049642</td>\n",
       "    </tr>\n",
       "    <tr>\n",
       "      <th>1.0685</th>\n",
       "      <th>24</th>\n",
       "      <td>-4.965400e-02</td>\n",
       "      <td>-0.000031</td>\n",
       "      <td>-0.049686</td>\n",
       "    </tr>\n",
       "    <tr>\n",
       "      <th>1013.0000</th>\n",
       "      <th>76</th>\n",
       "      <td>-1.000000e-06</td>\n",
       "      <td>0.230394</td>\n",
       "      <td>0.230394</td>\n",
       "    </tr>\n",
       "  </tbody>\n",
       "</table>\n",
       "</div>"
      ],
      "text/plain": [
       "                         flug      fldg     fnetg\n",
       "pressure  level                                  \n",
       "0.0000    1     -4.964400e-02  0.000001 -0.049642\n",
       "1.0685    24    -4.965400e-02 -0.000031 -0.049686\n",
       "1013.0000 76    -1.000000e-06  0.230394  0.230394"
      ]
     },
     "metadata": {},
     "output_type": "display_data"
    },
    {
     "name": "stdout",
     "output_type": "stream",
     "text": [
      "Table. Fluxes. (CLIRAD) - (CRD)\n"
     ]
    },
    {
     "data": {
      "text/html": [
       "<a id=\"Best-fit_Parameters\"></a>"
      ],
      "text/plain": [
       "<IPython.core.display.HTML object>"
      ]
     },
     "metadata": {},
     "output_type": "display_data"
    },
    {
     "data": {
      "text/markdown": [
       "# Best-fit Parameters"
      ],
      "text/plain": [
       "<IPython.core.display.Markdown object>"
      ]
     },
     "metadata": {},
     "output_type": "display_data"
    },
    {
     "name": "stdout",
     "output_type": "stream",
     "text": [
      "Best-fit values for each (gas, band)\n",
      "------------------------------------\n",
      "o h2o band3c\n",
      "  atmpro = mls\n",
      "  band = 3c\n",
      "  commitnumber = a06b618\n",
      "  conc = None\n",
      "  dv = 0.001\n",
      "  klin = 5e-25\n",
      "  molecule = h2o\n",
      "  ng_adju = [0]\n",
      "  ng_refs = [5]\n",
      "  nv = 1000\n",
      "  option_compute_btable = 0\n",
      "  option_compute_ktable = 1\n",
      "  option_wgt_flux = 1\n",
      "  option_wgt_k = 1\n",
      "  ref_pts = [(600, 250)]\n",
      "  tsfc = 294\n",
      "  vmax = 800\n",
      "  vmin = 720\n",
      "  w_diffuse = [(1.55, 1.6, 1.66, 1.66, 1.8)]\n",
      "  wgt = [(0.5, 0.5, 0.6, 0.7, 0.9)]\n"
     ]
    }
   ],
   "source": [
    "script()"
   ]
  },
  {
   "cell_type": "code",
   "execution_count": 13,
   "metadata": {
    "collapsed": true
   },
   "outputs": [
    {
     "data": {
      "text/html": [
       "<script>\n",
       "code_show=true; \n",
       "function code_toggle() {\n",
       " if (code_show){\n",
       " $('div.input').hide();\n",
       " } else {\n",
       " $('div.input').show();\n",
       " }\n",
       " code_show = !code_show\n",
       "} \n",
       "$( document ).ready(code_toggle);\n",
       "</script>\n",
       "<form action=\"javascript:code_toggle()\"><input type=\"submit\" value=\"Click here to toggle on/off the raw code.\"></form>"
      ],
      "text/plain": [
       "<IPython.core.display.HTML object>"
      ]
     },
     "execution_count": 13,
     "metadata": {},
     "output_type": "execute_result"
    }
   ],
   "source": [
    "display.HTML('''<script>\n",
    "code_show=true; \n",
    "function code_toggle() {\n",
    " if (code_show){\n",
    " $('div.input').hide();\n",
    " } else {\n",
    " $('div.input').show();\n",
    " }\n",
    " code_show = !code_show\n",
    "} \n",
    "$( document ).ready(code_toggle);\n",
    "</script>\n",
    "<form action=\"javascript:code_toggle()\"><input type=\"submit\" value=\"Click here to toggle on/off the raw code.\"></form>''')"
   ]
  }
 ],
 "metadata": {
  "kernelspec": {
   "display_name": "Python 3",
   "language": "python",
   "name": "python3"
  },
  "language_info": {
   "codemirror_mode": {
    "name": "ipython",
    "version": 3
   },
   "file_extension": ".py",
   "mimetype": "text/x-python",
   "name": "python",
   "nbconvert_exporter": "python",
   "pygments_lexer": "ipython3",
   "version": "3.6.1"
  }
 },
 "nbformat": 4,
 "nbformat_minor": 2
}
