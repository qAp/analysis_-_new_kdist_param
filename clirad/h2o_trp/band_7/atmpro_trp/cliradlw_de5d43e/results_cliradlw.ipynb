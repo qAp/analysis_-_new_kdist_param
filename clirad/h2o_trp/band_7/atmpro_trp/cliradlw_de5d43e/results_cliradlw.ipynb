{
 "cells": [
  {
   "cell_type": "code",
   "execution_count": 1,
   "metadata": {
    "collapsed": true
   },
   "outputs": [
    {
     "name": "stdout",
     "output_type": "stream",
     "text": [
      "The history saving thread hit an unexpected error (OperationalError('database is locked',)).History will not be written to the database.\n"
     ]
    }
   ],
   "source": [
    "%matplotlib inline\n",
    "import os\n",
    "import re\n",
    "import io\n",
    "import itertools\n",
    "import pprint\n",
    "\n",
    "from bokeh.io import output_notebook, show\n",
    "from bokeh.layouts import gridplot\n",
    "from bokeh.plotting import figure\n",
    "from bokeh.models import Range1d, Legend\n",
    "from bokeh.palettes import all_palettes\n",
    "\n",
    "import matplotlib\n",
    "import matplotlib.pyplot as plt\n",
    "import numpy as np\n",
    "import pandas as pd\n",
    "import xarray as xr\n",
    "\n",
    "import climatools.lblnew.bestfit_params as bestfits\n",
    "from climatools.lblnew import setup_bestfit, setup_overlap\n",
    "import climatools.lblnew.pipeline as pipe_lblnew\n",
    "import climatools.cliradlw.setup as setup_cliradlw\n",
    "import climatools.cliradlw.pipeline as pipe_cliradlw\n",
    "\n",
    "import climatools.html.html as climahtml\n",
    "from climatools.lblnew.dataio import *\n",
    "from climatools.plot.plot import *\n",
    "\n",
    "\n",
    "import IPython.display as display"
   ]
  },
  {
   "cell_type": "code",
   "execution_count": 2,
   "metadata": {
    "collapsed": true
   },
   "outputs": [],
   "source": [
    "%run param.py"
   ]
  },
  {
   "cell_type": "code",
   "execution_count": 3,
   "metadata": {
    "collapsed": true
   },
   "outputs": [],
   "source": [
    "def load_output_file(path_csv):\n",
    "    '''\n",
    "    Load lblnew output .csv file to xarray.Dataset\n",
    "    \n",
    "    Parameters\n",
    "    ----------\n",
    "    path_csv: str\n",
    "              Path to the .csv file to be loaded.\n",
    "    ds: xarray.Dataset\n",
    "        Data in the input file in the form of an xarray.Dataset.\n",
    "    '''\n",
    "    toindex = ['band', 'pressure', 'igg', 'g']    \n",
    "    df = pd.read_csv(path_csv, sep=r'\\s+')\n",
    "    df = df.set_index([i for i in toindex if i in df.columns])\n",
    "    df = df.rename(columns={'sfu': 'flug',\n",
    "                            'sfd': 'fldg',\n",
    "                            'fnet': 'fnetg',\n",
    "                            'coolr': 'coolrg'})\n",
    "    ds = xr.Dataset.from_dataframe(df)\n",
    "\n",
    "    for l in ('level', 'layer'):\n",
    "        if l in ds.data_vars:\n",
    "            if len(ds[l].dims) > 1:\n",
    "                surface = {d: 0 for d in ds.dims if d != 'pressure'}\n",
    "                coord_level = ds[l][surface]\n",
    "                ds.coords[l] = ('pressure', coord_level)\n",
    "            else:\n",
    "                ds.coords[l] = ('pressure', ds[l])\n",
    "    \n",
    "    return ds"
   ]
  },
  {
   "cell_type": "code",
   "execution_count": 4,
   "metadata": {
    "collapsed": true
   },
   "outputs": [],
   "source": [
    "def lblnew_setup(param=None):\n",
    "    if 'ng_refs' in param:\n",
    "        return {'setup': setup_bestfit,\n",
    "                'fname_flux_crd': 'output_flux.dat',\n",
    "                'fname_cool_crd': 'output_coolr.dat',\n",
    "                'fname_flux_wgt': 'output_wfluxg.dat',\n",
    "                'fname_cool_wgt': 'output_wcoolrg.dat'}\n",
    "    else:\n",
    "        return {'setup': setup_overlap,\n",
    "                'fname_flux_crd': 'output_flux.dat',\n",
    "                'fname_cool_crd': 'output_coolr.dat',\n",
    "                'fname_flux_wgt': 'output_wflux.dat',\n",
    "                'fname_cool_wgt': 'output_wcoolr.dat'}\n",
    "\n",
    "    \n",
    "def load_lblnew_data(param):\n",
    "    \n",
    "    fname_dsname = [('fname_flux_crd', 'ds_flux_crd'),\n",
    "                    ('fname_cool_crd', 'ds_cool_crd'),\n",
    "                    ('fname_flux_wgt', 'ds_flux_wgt'),\n",
    "                    ('fname_cool_wgt', 'ds_cool_wgt')]\n",
    "    \n",
    "    d = lblnew_setup(param)\n",
    "    dir_fortran = pipe_lblnew.get_dir_case(param, setup=d['setup'])\n",
    "    \n",
    "    data_dict = {}\n",
    "    for fname, dsname in fname_dsname:\n",
    "        fpath = os.path.join(dir_fortran, d[fname])\n",
    "        data_dict[dsname] = load_output_file(fpath)\n",
    "    return data_dict\n",
    "    \n",
    "\n",
    "    \n",
    "    "
   ]
  },
  {
   "cell_type": "code",
   "execution_count": 5,
   "metadata": {
    "collapsed": true
   },
   "outputs": [],
   "source": [
    "d = load_lblnew_data(PARAM_LBLNEW)\n",
    "\n",
    "DS_FLUX_CRD = d['ds_flux_crd']\n",
    "DS_COOL_CRD = d['ds_cool_crd']\n",
    "DS_FLUX_WGT = d['ds_flux_wgt']\n",
    "DS_COOL_WGT = d['ds_cool_wgt']"
   ]
  },
  {
   "cell_type": "code",
   "execution_count": 6,
   "metadata": {
    "collapsed": true
   },
   "outputs": [],
   "source": [
    "DIR_FORTRAN = pipe_cliradlw.get_fortran_dir(PARAM, \n",
    "                                            setup=setup_cliradlw)\n",
    "\n",
    "PATH_FLUX = os.path.join(DIR_FORTRAN, 'output_flux.dat')\n",
    "PATH_COOL = os.path.join(DIR_FORTRAN, 'output_coolr.dat')\n",
    "\n",
    "DS_FLUX = load_output_file(PATH_FLUX)\n",
    "DS_COOL = load_output_file(PATH_COOL)"
   ]
  },
  {
   "cell_type": "code",
   "execution_count": 7,
   "metadata": {
    "collapsed": true
   },
   "outputs": [
    {
     "data": {
      "text/html": [
       "\n",
       "    <div class=\"bk-root\">\n",
       "        <a href=\"https://bokeh.pydata.org\" target=\"_blank\" class=\"bk-logo bk-logo-small bk-logo-notebook\"></a>\n",
       "        <span id=\"1a1bf707-81ed-4675-8edd-a6e42569ca0b\">Loading BokehJS ...</span>\n",
       "    </div>"
      ]
     },
     "metadata": {},
     "output_type": "display_data"
    },
    {
     "data": {
      "application/javascript": [
       "\n",
       "(function(root) {\n",
       "  function now() {\n",
       "    return new Date();\n",
       "  }\n",
       "\n",
       "  var force = true;\n",
       "\n",
       "  if (typeof (root._bokeh_onload_callbacks) === \"undefined\" || force === true) {\n",
       "    root._bokeh_onload_callbacks = [];\n",
       "    root._bokeh_is_loading = undefined;\n",
       "  }\n",
       "\n",
       "  var JS_MIME_TYPE = 'application/javascript';\n",
       "  var HTML_MIME_TYPE = 'text/html';\n",
       "  var EXEC_MIME_TYPE = 'application/vnd.bokehjs_exec.v0+json';\n",
       "  var CLASS_NAME = 'output_bokeh rendered_html';\n",
       "\n",
       "  /**\n",
       "   * Render data to the DOM node\n",
       "   */\n",
       "  function render(props, node) {\n",
       "    var script = document.createElement(\"script\");\n",
       "    node.appendChild(script);\n",
       "  }\n",
       "\n",
       "  /**\n",
       "   * Handle when an output is cleared or removed\n",
       "   */\n",
       "  function handleClearOutput(event, handle) {\n",
       "    var cell = handle.cell;\n",
       "\n",
       "    var id = cell.output_area._bokeh_element_id;\n",
       "    var server_id = cell.output_area._bokeh_server_id;\n",
       "    // Clean up Bokeh references\n",
       "    if (id !== undefined) {\n",
       "      Bokeh.index[id].model.document.clear();\n",
       "      delete Bokeh.index[id];\n",
       "    }\n",
       "\n",
       "    if (server_id !== undefined) {\n",
       "      // Clean up Bokeh references\n",
       "      var cmd = \"from bokeh.io.state import curstate; print(curstate().uuid_to_server['\" + server_id + \"'].get_sessions()[0].document.roots[0]._id)\";\n",
       "      cell.notebook.kernel.execute(cmd, {\n",
       "        iopub: {\n",
       "          output: function(msg) {\n",
       "            var element_id = msg.content.text.trim();\n",
       "            Bokeh.index[element_id].model.document.clear();\n",
       "            delete Bokeh.index[element_id];\n",
       "          }\n",
       "        }\n",
       "      });\n",
       "      // Destroy server and session\n",
       "      var cmd = \"import bokeh.io.notebook as ion; ion.destroy_server('\" + server_id + \"')\";\n",
       "      cell.notebook.kernel.execute(cmd);\n",
       "    }\n",
       "  }\n",
       "\n",
       "  /**\n",
       "   * Handle when a new output is added\n",
       "   */\n",
       "  function handleAddOutput(event, handle) {\n",
       "    var output_area = handle.output_area;\n",
       "    var output = handle.output;\n",
       "\n",
       "    // limit handleAddOutput to display_data with EXEC_MIME_TYPE content only\n",
       "    if ((output.output_type != \"display_data\") || (!output.data.hasOwnProperty(EXEC_MIME_TYPE))) {\n",
       "      return\n",
       "    }\n",
       "\n",
       "    var toinsert = output_area.element.find(\".\" + CLASS_NAME.split(' ')[0]);\n",
       "\n",
       "    if (output.metadata[EXEC_MIME_TYPE][\"id\"] !== undefined) {\n",
       "      toinsert[toinsert.length - 1].firstChild.textContent = output.data[JS_MIME_TYPE];\n",
       "      // store reference to embed id on output_area\n",
       "      output_area._bokeh_element_id = output.metadata[EXEC_MIME_TYPE][\"id\"];\n",
       "    }\n",
       "    if (output.metadata[EXEC_MIME_TYPE][\"server_id\"] !== undefined) {\n",
       "      var bk_div = document.createElement(\"div\");\n",
       "      bk_div.innerHTML = output.data[HTML_MIME_TYPE];\n",
       "      var script_attrs = bk_div.children[0].attributes;\n",
       "      for (var i = 0; i < script_attrs.length; i++) {\n",
       "        toinsert[toinsert.length - 1].firstChild.setAttribute(script_attrs[i].name, script_attrs[i].value);\n",
       "      }\n",
       "      // store reference to server id on output_area\n",
       "      output_area._bokeh_server_id = output.metadata[EXEC_MIME_TYPE][\"server_id\"];\n",
       "    }\n",
       "  }\n",
       "\n",
       "  function register_renderer(events, OutputArea) {\n",
       "\n",
       "    function append_mime(data, metadata, element) {\n",
       "      // create a DOM node to render to\n",
       "      var toinsert = this.create_output_subarea(\n",
       "        metadata,\n",
       "        CLASS_NAME,\n",
       "        EXEC_MIME_TYPE\n",
       "      );\n",
       "      this.keyboard_manager.register_events(toinsert);\n",
       "      // Render to node\n",
       "      var props = {data: data, metadata: metadata[EXEC_MIME_TYPE]};\n",
       "      render(props, toinsert[toinsert.length - 1]);\n",
       "      element.append(toinsert);\n",
       "      return toinsert\n",
       "    }\n",
       "\n",
       "    /* Handle when an output is cleared or removed */\n",
       "    events.on('clear_output.CodeCell', handleClearOutput);\n",
       "    events.on('delete.Cell', handleClearOutput);\n",
       "\n",
       "    /* Handle when a new output is added */\n",
       "    events.on('output_added.OutputArea', handleAddOutput);\n",
       "\n",
       "    /**\n",
       "     * Register the mime type and append_mime function with output_area\n",
       "     */\n",
       "    OutputArea.prototype.register_mime_type(EXEC_MIME_TYPE, append_mime, {\n",
       "      /* Is output safe? */\n",
       "      safe: true,\n",
       "      /* Index of renderer in `output_area.display_order` */\n",
       "      index: 0\n",
       "    });\n",
       "  }\n",
       "\n",
       "  // register the mime type if in Jupyter Notebook environment and previously unregistered\n",
       "  if (root.Jupyter !== undefined) {\n",
       "    var events = require('base/js/events');\n",
       "    var OutputArea = require('notebook/js/outputarea').OutputArea;\n",
       "\n",
       "    if (OutputArea.prototype.mime_types().indexOf(EXEC_MIME_TYPE) == -1) {\n",
       "      register_renderer(events, OutputArea);\n",
       "    }\n",
       "  }\n",
       "\n",
       "  \n",
       "  if (typeof (root._bokeh_timeout) === \"undefined\" || force === true) {\n",
       "    root._bokeh_timeout = Date.now() + 5000;\n",
       "    root._bokeh_failed_load = false;\n",
       "  }\n",
       "\n",
       "  var NB_LOAD_WARNING = {'data': {'text/html':\n",
       "     \"<div style='background-color: #fdd'>\\n\"+\n",
       "     \"<p>\\n\"+\n",
       "     \"BokehJS does not appear to have successfully loaded. If loading BokehJS from CDN, this \\n\"+\n",
       "     \"may be due to a slow or bad network connection. Possible fixes:\\n\"+\n",
       "     \"</p>\\n\"+\n",
       "     \"<ul>\\n\"+\n",
       "     \"<li>re-rerun `output_notebook()` to attempt to load from CDN again, or</li>\\n\"+\n",
       "     \"<li>use INLINE resources instead, as so:</li>\\n\"+\n",
       "     \"</ul>\\n\"+\n",
       "     \"<code>\\n\"+\n",
       "     \"from bokeh.resources import INLINE\\n\"+\n",
       "     \"output_notebook(resources=INLINE)\\n\"+\n",
       "     \"</code>\\n\"+\n",
       "     \"</div>\"}};\n",
       "\n",
       "  function display_loaded() {\n",
       "    var el = document.getElementById(\"1a1bf707-81ed-4675-8edd-a6e42569ca0b\");\n",
       "    if (el != null) {\n",
       "      el.textContent = \"BokehJS is loading...\";\n",
       "    }\n",
       "    if (root.Bokeh !== undefined) {\n",
       "      if (el != null) {\n",
       "        el.textContent = \"BokehJS \" + root.Bokeh.version + \" successfully loaded.\";\n",
       "      }\n",
       "    } else if (Date.now() < root._bokeh_timeout) {\n",
       "      setTimeout(display_loaded, 100)\n",
       "    }\n",
       "  }\n",
       "\n",
       "\n",
       "  function run_callbacks() {\n",
       "    try {\n",
       "      root._bokeh_onload_callbacks.forEach(function(callback) { callback() });\n",
       "    }\n",
       "    finally {\n",
       "      delete root._bokeh_onload_callbacks\n",
       "    }\n",
       "    console.info(\"Bokeh: all callbacks have finished\");\n",
       "  }\n",
       "\n",
       "  function load_libs(js_urls, callback) {\n",
       "    root._bokeh_onload_callbacks.push(callback);\n",
       "    if (root._bokeh_is_loading > 0) {\n",
       "      console.log(\"Bokeh: BokehJS is being loaded, scheduling callback at\", now());\n",
       "      return null;\n",
       "    }\n",
       "    if (js_urls == null || js_urls.length === 0) {\n",
       "      run_callbacks();\n",
       "      return null;\n",
       "    }\n",
       "    console.log(\"Bokeh: BokehJS not loaded, scheduling load and callback at\", now());\n",
       "    root._bokeh_is_loading = js_urls.length;\n",
       "    for (var i = 0; i < js_urls.length; i++) {\n",
       "      var url = js_urls[i];\n",
       "      var s = document.createElement('script');\n",
       "      s.src = url;\n",
       "      s.async = false;\n",
       "      s.onreadystatechange = s.onload = function() {\n",
       "        root._bokeh_is_loading--;\n",
       "        if (root._bokeh_is_loading === 0) {\n",
       "          console.log(\"Bokeh: all BokehJS libraries loaded\");\n",
       "          run_callbacks()\n",
       "        }\n",
       "      };\n",
       "      s.onerror = function() {\n",
       "        console.warn(\"failed to load library \" + url);\n",
       "      };\n",
       "      console.log(\"Bokeh: injecting script tag for BokehJS library: \", url);\n",
       "      document.getElementsByTagName(\"head\")[0].appendChild(s);\n",
       "    }\n",
       "  };var element = document.getElementById(\"1a1bf707-81ed-4675-8edd-a6e42569ca0b\");\n",
       "  if (element == null) {\n",
       "    console.log(\"Bokeh: ERROR: autoload.js configured with elementid '1a1bf707-81ed-4675-8edd-a6e42569ca0b' but no matching script tag was found. \")\n",
       "    return false;\n",
       "  }\n",
       "\n",
       "  var js_urls = [\"https://cdn.pydata.org/bokeh/release/bokeh-0.12.16.min.js\", \"https://cdn.pydata.org/bokeh/release/bokeh-widgets-0.12.16.min.js\", \"https://cdn.pydata.org/bokeh/release/bokeh-tables-0.12.16.min.js\", \"https://cdn.pydata.org/bokeh/release/bokeh-gl-0.12.16.min.js\"];\n",
       "\n",
       "  var inline_js = [\n",
       "    function(Bokeh) {\n",
       "      Bokeh.set_log_level(\"info\");\n",
       "    },\n",
       "    \n",
       "    function(Bokeh) {\n",
       "      \n",
       "    },\n",
       "    function(Bokeh) {\n",
       "      console.log(\"Bokeh: injecting CSS: https://cdn.pydata.org/bokeh/release/bokeh-0.12.16.min.css\");\n",
       "      Bokeh.embed.inject_css(\"https://cdn.pydata.org/bokeh/release/bokeh-0.12.16.min.css\");\n",
       "      console.log(\"Bokeh: injecting CSS: https://cdn.pydata.org/bokeh/release/bokeh-widgets-0.12.16.min.css\");\n",
       "      Bokeh.embed.inject_css(\"https://cdn.pydata.org/bokeh/release/bokeh-widgets-0.12.16.min.css\");\n",
       "      console.log(\"Bokeh: injecting CSS: https://cdn.pydata.org/bokeh/release/bokeh-tables-0.12.16.min.css\");\n",
       "      Bokeh.embed.inject_css(\"https://cdn.pydata.org/bokeh/release/bokeh-tables-0.12.16.min.css\");\n",
       "    }\n",
       "  ];\n",
       "\n",
       "  function run_inline_js() {\n",
       "    \n",
       "    if ((root.Bokeh !== undefined) || (force === true)) {\n",
       "      for (var i = 0; i < inline_js.length; i++) {\n",
       "        inline_js[i].call(root, root.Bokeh);\n",
       "      }if (force === true) {\n",
       "        display_loaded();\n",
       "      }} else if (Date.now() < root._bokeh_timeout) {\n",
       "      setTimeout(run_inline_js, 100);\n",
       "    } else if (!root._bokeh_failed_load) {\n",
       "      console.log(\"Bokeh: BokehJS failed to load within specified timeout.\");\n",
       "      root._bokeh_failed_load = true;\n",
       "    } else if (force !== true) {\n",
       "      var cell = $(document.getElementById(\"1a1bf707-81ed-4675-8edd-a6e42569ca0b\")).parents('.cell').data().cell;\n",
       "      cell.output_area.append_execute_result(NB_LOAD_WARNING)\n",
       "    }\n",
       "\n",
       "  }\n",
       "\n",
       "  if (root._bokeh_is_loading === 0) {\n",
       "    console.log(\"Bokeh: BokehJS loaded, going straight to plotting\");\n",
       "    run_inline_js();\n",
       "  } else {\n",
       "    load_libs(js_urls, function() {\n",
       "      console.log(\"Bokeh: BokehJS plotting callback run at\", now());\n",
       "      run_inline_js();\n",
       "    });\n",
       "  }\n",
       "}(window));"
      ],
      "application/vnd.bokehjs_load.v0+json": "\n(function(root) {\n  function now() {\n    return new Date();\n  }\n\n  var force = true;\n\n  if (typeof (root._bokeh_onload_callbacks) === \"undefined\" || force === true) {\n    root._bokeh_onload_callbacks = [];\n    root._bokeh_is_loading = undefined;\n  }\n\n  \n\n  \n  if (typeof (root._bokeh_timeout) === \"undefined\" || force === true) {\n    root._bokeh_timeout = Date.now() + 5000;\n    root._bokeh_failed_load = false;\n  }\n\n  var NB_LOAD_WARNING = {'data': {'text/html':\n     \"<div style='background-color: #fdd'>\\n\"+\n     \"<p>\\n\"+\n     \"BokehJS does not appear to have successfully loaded. If loading BokehJS from CDN, this \\n\"+\n     \"may be due to a slow or bad network connection. Possible fixes:\\n\"+\n     \"</p>\\n\"+\n     \"<ul>\\n\"+\n     \"<li>re-rerun `output_notebook()` to attempt to load from CDN again, or</li>\\n\"+\n     \"<li>use INLINE resources instead, as so:</li>\\n\"+\n     \"</ul>\\n\"+\n     \"<code>\\n\"+\n     \"from bokeh.resources import INLINE\\n\"+\n     \"output_notebook(resources=INLINE)\\n\"+\n     \"</code>\\n\"+\n     \"</div>\"}};\n\n  function display_loaded() {\n    var el = document.getElementById(\"1a1bf707-81ed-4675-8edd-a6e42569ca0b\");\n    if (el != null) {\n      el.textContent = \"BokehJS is loading...\";\n    }\n    if (root.Bokeh !== undefined) {\n      if (el != null) {\n        el.textContent = \"BokehJS \" + root.Bokeh.version + \" successfully loaded.\";\n      }\n    } else if (Date.now() < root._bokeh_timeout) {\n      setTimeout(display_loaded, 100)\n    }\n  }\n\n\n  function run_callbacks() {\n    try {\n      root._bokeh_onload_callbacks.forEach(function(callback) { callback() });\n    }\n    finally {\n      delete root._bokeh_onload_callbacks\n    }\n    console.info(\"Bokeh: all callbacks have finished\");\n  }\n\n  function load_libs(js_urls, callback) {\n    root._bokeh_onload_callbacks.push(callback);\n    if (root._bokeh_is_loading > 0) {\n      console.log(\"Bokeh: BokehJS is being loaded, scheduling callback at\", now());\n      return null;\n    }\n    if (js_urls == null || js_urls.length === 0) {\n      run_callbacks();\n      return null;\n    }\n    console.log(\"Bokeh: BokehJS not loaded, scheduling load and callback at\", now());\n    root._bokeh_is_loading = js_urls.length;\n    for (var i = 0; i < js_urls.length; i++) {\n      var url = js_urls[i];\n      var s = document.createElement('script');\n      s.src = url;\n      s.async = false;\n      s.onreadystatechange = s.onload = function() {\n        root._bokeh_is_loading--;\n        if (root._bokeh_is_loading === 0) {\n          console.log(\"Bokeh: all BokehJS libraries loaded\");\n          run_callbacks()\n        }\n      };\n      s.onerror = function() {\n        console.warn(\"failed to load library \" + url);\n      };\n      console.log(\"Bokeh: injecting script tag for BokehJS library: \", url);\n      document.getElementsByTagName(\"head\")[0].appendChild(s);\n    }\n  };var element = document.getElementById(\"1a1bf707-81ed-4675-8edd-a6e42569ca0b\");\n  if (element == null) {\n    console.log(\"Bokeh: ERROR: autoload.js configured with elementid '1a1bf707-81ed-4675-8edd-a6e42569ca0b' but no matching script tag was found. \")\n    return false;\n  }\n\n  var js_urls = [\"https://cdn.pydata.org/bokeh/release/bokeh-0.12.16.min.js\", \"https://cdn.pydata.org/bokeh/release/bokeh-widgets-0.12.16.min.js\", \"https://cdn.pydata.org/bokeh/release/bokeh-tables-0.12.16.min.js\", \"https://cdn.pydata.org/bokeh/release/bokeh-gl-0.12.16.min.js\"];\n\n  var inline_js = [\n    function(Bokeh) {\n      Bokeh.set_log_level(\"info\");\n    },\n    \n    function(Bokeh) {\n      \n    },\n    function(Bokeh) {\n      console.log(\"Bokeh: injecting CSS: https://cdn.pydata.org/bokeh/release/bokeh-0.12.16.min.css\");\n      Bokeh.embed.inject_css(\"https://cdn.pydata.org/bokeh/release/bokeh-0.12.16.min.css\");\n      console.log(\"Bokeh: injecting CSS: https://cdn.pydata.org/bokeh/release/bokeh-widgets-0.12.16.min.css\");\n      Bokeh.embed.inject_css(\"https://cdn.pydata.org/bokeh/release/bokeh-widgets-0.12.16.min.css\");\n      console.log(\"Bokeh: injecting CSS: https://cdn.pydata.org/bokeh/release/bokeh-tables-0.12.16.min.css\");\n      Bokeh.embed.inject_css(\"https://cdn.pydata.org/bokeh/release/bokeh-tables-0.12.16.min.css\");\n    }\n  ];\n\n  function run_inline_js() {\n    \n    if ((root.Bokeh !== undefined) || (force === true)) {\n      for (var i = 0; i < inline_js.length; i++) {\n        inline_js[i].call(root, root.Bokeh);\n      }if (force === true) {\n        display_loaded();\n      }} else if (Date.now() < root._bokeh_timeout) {\n      setTimeout(run_inline_js, 100);\n    } else if (!root._bokeh_failed_load) {\n      console.log(\"Bokeh: BokehJS failed to load within specified timeout.\");\n      root._bokeh_failed_load = true;\n    } else if (force !== true) {\n      var cell = $(document.getElementById(\"1a1bf707-81ed-4675-8edd-a6e42569ca0b\")).parents('.cell').data().cell;\n      cell.output_area.append_execute_result(NB_LOAD_WARNING)\n    }\n\n  }\n\n  if (root._bokeh_is_loading === 0) {\n    console.log(\"Bokeh: BokehJS loaded, going straight to plotting\");\n    run_inline_js();\n  } else {\n    load_libs(js_urls, function() {\n      console.log(\"Bokeh: BokehJS plotting callback run at\", now());\n      run_inline_js();\n    });\n  }\n}(window));"
     },
     "metadata": {},
     "output_type": "display_data"
    }
   ],
   "source": [
    "output_notebook()"
   ]
  },
  {
   "cell_type": "code",
   "execution_count": 8,
   "metadata": {
    "collapsed": true
   },
   "outputs": [],
   "source": [
    "def fmt_cool(ds_in):\n",
    "    ds = ds_in.copy(deep=True)\n",
    "    if 'igg' in ds.dims:\n",
    "        ds = ds.sel(igg=1)\n",
    "\n",
    "    if 'g' in ds.dims:\n",
    "        ds = ds.sum('g')\n",
    "            \n",
    "    if 'band' in ds.dims:\n",
    "        try:\n",
    "            ds = ds.squeeze('band')\n",
    "        except ValueError:\n",
    "            ds = ds.sum('band')\n",
    "                \n",
    "    return ds['coolrg']\n",
    "\n",
    "\n",
    "def pltdata_cooling_1(ds_cool=None,\n",
    "                      ds_cool_crd=None, ds_cool_wgt=None):\n",
    "    \n",
    "\n",
    "\n",
    "    colors = all_palettes['Set1'][4]\n",
    "    data = [{'label': 'CLIRAD `coolr_bands`',\n",
    "             'srs': fmt_cool(ds_cool),\n",
    "             'line_dash': 'dashed', 'line_width': 5,\n",
    "             'color': colors[0], 'alpha': .6},\n",
    "            {'label': 'CRD',\n",
    "             'srs': fmt_cool(ds_cool_crd),\n",
    "             'line_dash': 'solid', 'line_width': 1.5,\n",
    "             'marker': 'circle', 'marker_size': 5,\n",
    "             'color': colors[2], 'alpha': 1,},\n",
    "            {'label': 'WGT igg=10 wgt_flux=2',\n",
    "             'srs': fmt_cool(ds_cool_wgt),\n",
    "             'line_dash': 'solid', 'line_width': 3,\n",
    "             'marker': 'square', 'marker_size': 5,\n",
    "             'color': colors[3], 'alpha': .6}]\n",
    "    return data\n",
    "\n",
    "\n",
    "def nice_xlims(pltdata=None, prange=None):\n",
    "    \n",
    "    def get_slice(srs):\n",
    "        return srs.sel(pressure=slice(*prange))\n",
    "    \n",
    "    srss = [d['srs'] for d in pltdata]\n",
    "    vmin = min([get_slice(srs).min() for srs in srss])\n",
    "    vmax = max([get_slice(srs).max() for srs in srss])\n",
    "    dv = (vmax - vmin) * .01\n",
    "    return float(vmin - dv), float(vmax + dv)\n",
    "    \n",
    "\n",
    "def plt_cooling_bokeh(pltdata=None):\n",
    "    '''\n",
    "    Plot a list of cooling rate profiles using bokeh.\n",
    "    '''\n",
    "    ymin = 1e-2 \n",
    "    ymax = 1020 \n",
    "        \n",
    "    p1 = figure(title=\"Linear pressure scale\", \n",
    "                plot_width=400)        \n",
    "    xmin, xmax = nice_xlims(pltdata, prange=(50, 1050))\n",
    "    for d in pltdata:\n",
    "        if 'marker' in d:\n",
    "            getattr(p1, d['marker'])(d['srs'].values, \n",
    "                    d['srs'].coords['pressure'].values,\n",
    "                    color=d['color'], alpha=.7)\n",
    "        p1.line(d['srs'].values, \n",
    "                d['srs'].coords['pressure'].values,\n",
    "                color=d['color'], alpha=d['alpha'], \n",
    "                line_width=d['line_width'], line_dash=d['line_dash'])\n",
    "    \n",
    "    p1.y_range = Range1d(ymax, ymin)\n",
    "    p1.yaxis.axis_label = 'pressure [mb]'   \n",
    "    p1.x_range = Range1d(xmin, xmax)\n",
    "    p1.xaxis.axis_label = 'cooling rate [K/day]'\n",
    "            \n",
    "    p2 = figure(title='Log pressure scale', y_axis_type='log',\n",
    "                plot_width=560)\n",
    "    xmin, xmax = nice_xlims(pltdata, prange=(.01, 200))\n",
    "    \n",
    "    rs = []\n",
    "    for d in pltdata:\n",
    "        rd = []\n",
    "        if 'marker' in d:\n",
    "            r_mark = getattr(p2, d['marker'])(d['srs'].values, \n",
    "                        d['srs'].coords['pressure'].values,\n",
    "                        color=d['color'], alpha=.7)\n",
    "            rd.append(r_mark)\n",
    "        r_line = p2.line(d['srs'].values, \n",
    "                    d['srs'].coords['pressure'].values,\n",
    "                    color=d['color'], alpha=d['alpha'], \n",
    "                    line_width=d['line_width'], line_dash=d['line_dash'])\n",
    "        rd.append(r_line)\n",
    "      \n",
    "        rs.append(rd)\n",
    "        \n",
    "    p2.y_range = Range1d(ymax, ymin)  \n",
    "    p2.yaxis.axis_label = 'pressure [mb]'\n",
    "    \n",
    "    p2.x_range = Range1d(xmin, xmax)\n",
    "    p2.xaxis.axis_label = 'cooling rate [K/day]'\n",
    "    \n",
    "    items = [(d['label'], r) for r, d in zip(rs, pltdata)]\n",
    "    legend = Legend(items=items, location=(10, -30))\n",
    "    legend.label_text_font_size = '8pt'\n",
    "    \n",
    "    p2.add_layout(legend, 'right')  \n",
    "    \n",
    "    show(gridplot(p1, p2, ncols=2, plot_height=500))\n",
    "    \n",
    "\n",
    "def script_plt_cooling():\n",
    "    pltdata = pltdata_cooling_1(\n",
    "        ds_cool=DS_COOL,\n",
    "        ds_cool_crd=DS_COOL_CRD,\n",
    "        ds_cool_wgt=DS_COOL_WGT)\n",
    "    plt_cooling_bokeh(pltdata=pltdata)\n",
    "    print('''FIGURE. Cooling rate profiles.''')"
   ]
  },
  {
   "cell_type": "code",
   "execution_count": 9,
   "metadata": {
    "collapsed": true
   },
   "outputs": [],
   "source": [
    "def fmt_flux(ds_in):\n",
    "    ds = ds_in.copy(deep=True)\n",
    "    \n",
    "    for l in ('level', 'layer'):\n",
    "        if l in ds.data_vars:\n",
    "            if len(ds[l].dims) > 1:\n",
    "                surface = {d: 0 for d in ds.dims if d != 'pressure'}\n",
    "                coord_level = ds[l][surface]\n",
    "                ds.coords[l] = ('pressure', coord_level)\n",
    "            else:\n",
    "                ds.coords[l] = ('pressure', ds[l])\n",
    "        \n",
    "    ds = ds.isel(pressure=[0, 23, -1])\n",
    "        \n",
    "    if 'igg' in ds.dims:\n",
    "        ds = ds.sel(igg=[1])\n",
    "        ds = ds.squeeze('igg').drop('igg')\n",
    "    \n",
    "    if 'g' in ds.dims:\n",
    "        ds = ds.sum('g')\n",
    "            \n",
    "    if 'band' in ds.dims:\n",
    "        try:\n",
    "            ds = ds.squeeze('band').drop('band')\n",
    "        except ValueError:\n",
    "            ds = ds.sum('band')\n",
    "                \n",
    "    df = ds.to_dataframe()\n",
    "    df = df.set_index('level', append=True)               \n",
    "    return df\n",
    "\n",
    "\n",
    "def tbdata_flux(ds_flux=None, ds_flux_crd=None, ds_flux_wgt=None):\n",
    "    ilevels = [0, 23, -1]\n",
    "            \n",
    "    benchmark = {'label': 'CRD',\n",
    "                 'df': fmt_flux(ds_flux_crd)}\n",
    "    \n",
    "    tbs = [{'label': 'WGT igg=10 wgt_flux=1',\n",
    "            'df': fmt_flux(ds_flux_wgt)},\n",
    "           {'label': 'CLIRAD',\n",
    "            'df': fmt_flux(ds_flux)}]\n",
    "    \n",
    "    data = {'benchmark': benchmark, 'others': tbs}\n",
    "    return data\n",
    "\n",
    "\n",
    "def tb_flux(tbdata=None):\n",
    "    benchmark = tbdata['benchmark']\n",
    "    others = tbdata['others']\n",
    "    \n",
    "    def show_tb(d=None):\n",
    "        display.display(d['df'])\n",
    "        print('Table.', 'Fluxes.', d['label'])\n",
    "        \n",
    "    def show_tbdiff(d0=None, d=None):\n",
    "        df = d['df']\n",
    "        df.index = d0['df'].index\n",
    "        display.display(df - d0['df'])\n",
    "        print('Table.', 'Fluxes.', \n",
    "              '({}) - ({})'.format(d['label'], d0['label']))\n",
    "        \n",
    "    show_tb(benchmark)\n",
    "    for d in others:\n",
    "        show_tb(d)\n",
    "        \n",
    "    for d in others:\n",
    "        show_tbdiff(d=d, d0=benchmark)\n",
    "        \n",
    "        \n",
    "def script_tb_flux():\n",
    "    data = tbdata_flux(ds_flux=DS_FLUX,\n",
    "                       ds_flux_crd=DS_FLUX_CRD,\n",
    "                       ds_flux_wgt=DS_FLUX_WGT)\n",
    "    tb_flux(tbdata=data)"
   ]
  },
  {
   "cell_type": "code",
   "execution_count": 10,
   "metadata": {
    "collapsed": true
   },
   "outputs": [],
   "source": [
    "def band_map():\n",
    "    '''\n",
    "    Maps spectral bands in lblnew to spectral bands in clirad.\n",
    "    '''\n",
    "    lblnew2clirad = {'1': '1',\n",
    "            '2': '2',\n",
    "            '3a': '3',\n",
    "            '3b': '4',\n",
    "            '3c': '5',\n",
    "            '4': '6', \n",
    "            '5': '7',\n",
    "            '6': '8',\n",
    "            '7': '9', \n",
    "            '8': '10',\n",
    "            '9': '11'}\n",
    "    \n",
    "    clirad2lblnew = {clirad: lblnew \n",
    "                     for lblnew, clirad in lblnew2clirad.items()}\n",
    "    return clirad2lblnew\n",
    "\n",
    "\n",
    "def gasbands():\n",
    "    bmap = band_map()\n",
    "    gases = list(PARAM['molecule'].keys())\n",
    "    \n",
    "    bands = [bmap[str(b)] for b in PARAM['band']]\n",
    "    return list(itertools.product(gases, bands))\n",
    "\n",
    "\n",
    "def print_bestfit_params():\n",
    "    print('Best-fit values for each (gas, band)')\n",
    "    print('------------------------------------')\n",
    "    for gas, band in gasbands():\n",
    "        print('o {} band{}'.format(gas, band))\n",
    "        param = bestfits.kdist_params(molecule=gas, band=band)\n",
    "        for name, value in sorted(param.items()):\n",
    "            print(2 * ' ' + '{} = {}'.format(name, value))\n",
    "\n",
    "        \n",
    "def print_input_param():        \n",
    "    for name, value in PARAM.items():\n",
    "        print('{} = {}'.format(name, value))\n",
    "        \n",
    "        \n",
    "def print_lblnew_param():\n",
    "    for name, value in sorted(PARAM_LBLNEW.items()):\n",
    "        print('{} = {}'.format(name, value))\n"
   ]
  },
  {
   "cell_type": "code",
   "execution_count": 11,
   "metadata": {
    "collapsed": true,
    "scrolled": false
   },
   "outputs": [],
   "source": [
    "def show_html(s):\n",
    "    display.display(display.HTML(s))\n",
    "\n",
    "    \n",
    "def show_markdown(s):\n",
    "    display.display(display.Markdown(s))\n",
    "\n",
    "    \n",
    "def script():\n",
    "    \n",
    "    title = '### CLIRAD-LW'\n",
    "    s_input = 'Input Parameters'\n",
    "    s_lblnew_param = 'LBLNEW case compaired against'\n",
    "    s_bestfits = 'Best-fit Parameters'\n",
    "    s_plt_cooling = 'Cooling Rate Profiles'\n",
    "    s_tb_flux = 'Flux Comparison'\n",
    "    \n",
    "    # title\n",
    "    show_markdown('### CLIRAD-LW')\n",
    "    \n",
    "    # TOC\n",
    "    show_markdown('### Table of Contents')\n",
    "    show_html(climahtml.getHTML_hrefanchor(s_input))\n",
    "    show_html(climahtml.getHTML_hrefanchor(s_lblnew_param))\n",
    "    show_html(climahtml.getHTML_hrefanchor(s_plt_cooling))\n",
    "    show_html(climahtml.getHTML_hrefanchor(s_tb_flux))\n",
    "    show_html(climahtml.getHTML_hrefanchor(s_bestfits))\n",
    "    \n",
    "    # Input parameters\n",
    "    show_html(climahtml.getHTML_idanchor(s_input))\n",
    "    show_markdown(climahtml.getMarkdown_sectitle(s_input))\n",
    "    print_input_param()\n",
    "    \n",
    "    # LBLNEW parameters \n",
    "    show_html(climahtml.getHTML_idanchor(s_lblnew_param))\n",
    "    show_markdown(climahtml.getMarkdown_sectitle(s_lblnew_param))\n",
    "    print_lblnew_param()\n",
    "    \n",
    "    # Cooling rate profiles\n",
    "    show_html(climahtml.getHTML_idanchor(s_plt_cooling))\n",
    "    show_markdown(climahtml.getMarkdown_sectitle(s_plt_cooling))\n",
    "    script_plt_cooling()\n",
    "    \n",
    "    # Flux comparison\n",
    "    show_html(climahtml.getHTML_idanchor(s_tb_flux))\n",
    "    show_markdown(climahtml.getMarkdown_sectitle(s_tb_flux))\n",
    "    script_tb_flux()\n",
    "    \n",
    "    # Best-fit values\n",
    "    show_html(climahtml.getHTML_idanchor(s_bestfits))\n",
    "    show_markdown(climahtml.getMarkdown_sectitle(s_bestfits))\n",
    "    print_bestfit_params()\n",
    "   \n",
    "    "
   ]
  },
  {
   "cell_type": "code",
   "execution_count": 12,
   "metadata": {
    "collapsed": true,
    "scrolled": false
   },
   "outputs": [
    {
     "data": {
      "text/markdown": [
       "### CLIRAD-LW"
      ],
      "text/plain": [
       "<IPython.core.display.Markdown object>"
      ]
     },
     "metadata": {},
     "output_type": "display_data"
    },
    {
     "data": {
      "text/markdown": [
       "### Table of Contents"
      ],
      "text/plain": [
       "<IPython.core.display.Markdown object>"
      ]
     },
     "metadata": {},
     "output_type": "display_data"
    },
    {
     "data": {
      "text/html": [
       "<a href=\"#Input_Parameters\">Input Parameters</a>"
      ],
      "text/plain": [
       "<IPython.core.display.HTML object>"
      ]
     },
     "metadata": {},
     "output_type": "display_data"
    },
    {
     "data": {
      "text/html": [
       "<a href=\"#LBLNEW_case_compaired_against\">LBLNEW case compaired against</a>"
      ],
      "text/plain": [
       "<IPython.core.display.HTML object>"
      ]
     },
     "metadata": {},
     "output_type": "display_data"
    },
    {
     "data": {
      "text/html": [
       "<a href=\"#Cooling_Rate_Profiles\">Cooling Rate Profiles</a>"
      ],
      "text/plain": [
       "<IPython.core.display.HTML object>"
      ]
     },
     "metadata": {},
     "output_type": "display_data"
    },
    {
     "data": {
      "text/html": [
       "<a href=\"#Flux_Comparison\">Flux Comparison</a>"
      ],
      "text/plain": [
       "<IPython.core.display.HTML object>"
      ]
     },
     "metadata": {},
     "output_type": "display_data"
    },
    {
     "data": {
      "text/html": [
       "<a href=\"#Best-fit_Parameters\">Best-fit Parameters</a>"
      ],
      "text/plain": [
       "<IPython.core.display.HTML object>"
      ]
     },
     "metadata": {},
     "output_type": "display_data"
    },
    {
     "data": {
      "text/html": [
       "<a id=\"Input_Parameters\"></a>"
      ],
      "text/plain": [
       "<IPython.core.display.HTML object>"
      ]
     },
     "metadata": {},
     "output_type": "display_data"
    },
    {
     "data": {
      "text/markdown": [
       "# Input Parameters"
      ],
      "text/plain": [
       "<IPython.core.display.Markdown object>"
      ]
     },
     "metadata": {},
     "output_type": "display_data"
    },
    {
     "name": "stdout",
     "output_type": "stream",
     "text": [
      "atmpro = trp\n",
      "band = [7]\n",
      "commitnumber = de5d43e\n",
      "molecule = {'h2o': 'atmpro'}\n",
      "tsfc = 300\n"
     ]
    },
    {
     "data": {
      "text/html": [
       "<a id=\"LBLNEW_case_compaired_against\"></a>"
      ],
      "text/plain": [
       "<IPython.core.display.HTML object>"
      ]
     },
     "metadata": {},
     "output_type": "display_data"
    },
    {
     "data": {
      "text/markdown": [
       "# LBLNEW case compaired against"
      ],
      "text/plain": [
       "<IPython.core.display.Markdown object>"
      ]
     },
     "metadata": {},
     "output_type": "display_data"
    },
    {
     "name": "stdout",
     "output_type": "stream",
     "text": [
      "atmpro = trp\n",
      "band = 5\n",
      "commitnumber = 5014a19\n",
      "conc = None\n",
      "dv = 0.001\n",
      "klin = 1e-24\n",
      "molecule = h2o\n",
      "ng_adju = [0]\n",
      "ng_refs = [3]\n",
      "nv = 1000\n",
      "option_compute_btable = 0\n",
      "option_compute_ktable = 0\n",
      "option_wgt_flux = 1\n",
      "option_wgt_k = 1\n",
      "ref_pts = [(600, 250)]\n",
      "tsfc = 300\n",
      "vmax = 1100\n",
      "vmin = 980\n",
      "w_diffuse = [(1.66, 1.66, 1.8)]\n",
      "wgt = [(0.5, 0.55, 0.9)]\n"
     ]
    },
    {
     "data": {
      "text/html": [
       "<a id=\"Cooling_Rate_Profiles\"></a>"
      ],
      "text/plain": [
       "<IPython.core.display.HTML object>"
      ]
     },
     "metadata": {},
     "output_type": "display_data"
    },
    {
     "data": {
      "text/markdown": [
       "# Cooling Rate Profiles"
      ],
      "text/plain": [
       "<IPython.core.display.Markdown object>"
      ]
     },
     "metadata": {},
     "output_type": "display_data"
    },
    {
     "data": {
      "text/html": [
       "\n",
       "<div class=\"bk-root\">\n",
       "    <div class=\"bk-plotdiv\" id=\"6860aafb-4faf-4f7c-a55f-5b261b512198\"></div>\n",
       "</div>"
      ]
     },
     "metadata": {},
     "output_type": "display_data"
    },
    {
     "data": {
      "application/javascript": [
       "(function(root) {\n",
       "  function embed_document(root) {\n",
       "    \n",
       "  var docs_json = {\"706a6a0d-1c36-4cba-9fff-638761683c57\":{\"roots\":{\"references\":[{\"attributes\":{\"callback\":null,\"data\":{\"x\":{\"__ndarray__\":\"WskUUpOwyb7rvzVM2srJvsAJcmsE+sm+AsDhMPImyr5JUA48YVDKvop0CUawdsq+ddXaKqiZyr6azQKFQ7bKvlaYEljZzsq+TZQ1WYXjyr4q+RTtyfHKvtiOVkjK+sq+czosCYv+yr4Ir+sjZ/nKvjGFHRFtjMq+LdgfoqOWx757vGGHWcO9vj4gjPoVTpU+a3xfIOjT0D5fZWoNFiTlPpuroHb/h/Q+EZysxD3uAD+LIKJdXrsDP+/zuu5zAgE/IW8uCCmb+T6i+3xATo7wPs0BB2c/BOM+cedHjIFP0j6EttW4d3GzPkRaySAVDLC+ajmEnoECw77affw0OzLJvg6bG6y0Ccy+0z+NspGzzL5XpSHc6RrLvj/1ZtVLPse+1aMjUoTJxL7qf4B6fjzHvqGjMZYZP82+ZkrXqt8A0767C284SgbfvobSczbzcvK+SMeutm7/Ab+ZtQ4B2T4Nv4qd8M0jdRO/hjMoelRPE780Jjj5s/v9vsUlE0Klthg/rbDkuiCuND9OPsS8JdhFP2Lqnwp1XVM/nVto7xMVXz/iM2vHGldnP2oTIj6Cq3A/OMzYVyzzdj8fJwtqP6N+P9JDtxYi8oM/Lb/o/xBziT+uRBUIf+KPPziWxhvYq5M/Fw7sR3bklz808ouoD3icP/Cta1tkoKA/ov5NBH5IpD8hKtsnSrmnP0lS2X21Das/qcumf/Bxrj9KunrWtFmwP9wvfp4vi7E/etYXBLT/sj/Qv1WFo7e0P4Llt9HIs7Y/rHJL8vb8uD9cFjwawaW7Pwd78jSJD78/\",\"dtype\":\"float64\",\"shape\":[75]},\"y\":{\"__ndarray__\":\"GhExyth1ND/Sv8nbtpRIP2vylNV0PVE/aTum7souWD/At0SJ8fVgPw3Iuahxymc/MSNhhJWvcD/bTfBN02d3P2zb5nxnaoA/CD5h5MAGhz8NmeH1TyaQP+zrCsc9p5Y/LbKd76fGnz/bLW5ISEmmPww9YvTcQq8/JV2OstnstT8Er5Y7M8G+P0c+r3jqkcU/5h99k6ZBzj88bCIzFzjVP4enV8oyxN0//yH99nXg5D8qOpLLf0jtP5kqGJXUifQ/c9cS8kHP/D+/DpwzojQEQIEmwoanVwxA4lgXt9HgE0BSSZ2AJuIbQAMJih9jjiNA5q4l5INuK0AwTKYKRj0zQNv5fmq8/DpAaCJseHrtQkB/+zpwzoxKQM3MzMzMeFJAZmZmZmZqWEAAAAAAAFxeQM3MzMzMJmJAmpmZmZkfZUBmZmZmZhhoQDMzMzMzEWtAAAAAAAAKbkBmZmZmZoFwQM3MzMzM/XFAMzMzMzN6c0CamZmZmfZ0QAAAAAAAc3ZAZmZmZmbvd0DNzMzMzGt5QDMzMzMz6HpAmpmZmZlkfEAAAAAAAOF9QGZmZmZmXX9AZmZmZuZsgECamZmZGSuBQM3MzMxM6YFAAAAAAICngkAzMzMzs2WDQGZmZmbmI4RAmpmZmRnihEDNzMzMTKCFQAAAAACAXoZAMzMzM7Mch0BmZmZm5tqHQJqZmZkZmYhAzczMzExXiUAAAAAAgBWKQDMzMzOz04pAZmZmZuaRi0CamZmZGVCMQM3MzMxMDo1AAAAAAIDMjUAzMzMzs4qOQGZmZmbmSI9A\",\"dtype\":\"float64\",\"shape\":[75]}},\"selected\":{\"id\":\"861a058b-7005-4c96-b307-37888b6fdf40\",\"type\":\"Selection\"},\"selection_policy\":{\"id\":\"7bf25901-7676-4b70-aef7-9177ac714ef7\",\"type\":\"UnionRenderers\"}},\"id\":\"fe7e84eb-cab3-4fa3-be5f-03352c6b9868\",\"type\":\"ColumnDataSource\"},{\"attributes\":{\"line_alpha\":0.1,\"line_color\":\"#1f77b4\",\"line_width\":1.5,\"x\":{\"field\":\"x\"},\"y\":{\"field\":\"y\"}},\"id\":\"649e757e-b721-4056-b149-94c1dce9dd0a\",\"type\":\"Line\"},{\"attributes\":{\"source\":{\"id\":\"5793a6cb-3b03-4b78-965d-19a068d39e1b\",\"type\":\"ColumnDataSource\"}},\"id\":\"83d466f7-2b75-4adf-8c85-2ee3246aa9d1\",\"type\":\"CDSView\"},{\"attributes\":{\"data_source\":{\"id\":\"fe7e84eb-cab3-4fa3-be5f-03352c6b9868\",\"type\":\"ColumnDataSource\"},\"glyph\":{\"id\":\"2e38acc0-df75-4a37-8f30-7976ae8553af\",\"type\":\"Line\"},\"hover_glyph\":null,\"muted_glyph\":null,\"nonselection_glyph\":{\"id\":\"649e757e-b721-4056-b149-94c1dce9dd0a\",\"type\":\"Line\"},\"selection_glyph\":null,\"view\":{\"id\":\"a015fe93-34f0-4db0-b015-6df568594941\",\"type\":\"CDSView\"}},\"id\":\"51c1ba8d-b124-472b-bc96-a3f91047c33f\",\"type\":\"GlyphRenderer\"},{\"attributes\":{\"line_color\":\"#4daf4a\",\"line_width\":1.5,\"x\":{\"field\":\"x\"},\"y\":{\"field\":\"y\"}},\"id\":\"2e38acc0-df75-4a37-8f30-7976ae8553af\",\"type\":\"Line\"},{\"attributes\":{\"callback\":null,\"end\":0.01,\"start\":1020},\"id\":\"2933bb88-baff-4034-82cb-3818f528d4c8\",\"type\":\"Range1d\"},{\"attributes\":{\"fill_alpha\":{\"value\":0.7},\"fill_color\":{\"value\":\"#984ea3\"},\"line_alpha\":{\"value\":0.7},\"line_color\":{\"value\":\"#984ea3\"},\"x\":{\"field\":\"x\"},\"y\":{\"field\":\"y\"}},\"id\":\"6d82ae27-5a7a-4b3d-a0c8-ee8ba7a3394b\",\"type\":\"Square\"},{\"attributes\":{\"active_drag\":\"auto\",\"active_inspect\":\"auto\",\"active_scroll\":\"auto\",\"active_tap\":\"auto\",\"tools\":[{\"id\":\"e79a9cc6-4d40-47aa-8092-3ca05c30ad23\",\"type\":\"PanTool\"},{\"id\":\"aedad36c-84ea-46db-9583-78468f904395\",\"type\":\"WheelZoomTool\"},{\"id\":\"becb7a7a-4f18-400f-b3be-137a36fb8987\",\"type\":\"BoxZoomTool\"},{\"id\":\"ce0c37f2-9aae-4d2a-b8d3-4265f175eb8c\",\"type\":\"SaveTool\"},{\"id\":\"d6a0fb93-1334-4514-8dd7-44167a2ba957\",\"type\":\"ResetTool\"},{\"id\":\"98511ef6-655d-42aa-b40a-ea22fbb2cc26\",\"type\":\"HelpTool\"}]},\"id\":\"f8136d4b-e91a-49d5-8ab1-40f3d4226a68\",\"type\":\"Toolbar\"},{\"attributes\":{\"line_alpha\":0.6,\"line_color\":\"#984ea3\",\"line_width\":3,\"x\":{\"field\":\"x\"},\"y\":{\"field\":\"y\"}},\"id\":\"19b7aaf7-5dea-4d56-9148-cbd68f4bdb18\",\"type\":\"Line\"},{\"attributes\":{\"plot\":null,\"text\":\"Log pressure scale\"},\"id\":\"2fea53e1-9bf0-4fdb-9067-911032a986dc\",\"type\":\"Title\"},{\"attributes\":{\"data_source\":{\"id\":\"d196d466-ebd3-42eb-a957-7a8a605cde7e\",\"type\":\"ColumnDataSource\"},\"glyph\":{\"id\":\"82c26a8e-28cc-4917-8da7-ea8145cc65c3\",\"type\":\"Circle\"},\"hover_glyph\":null,\"muted_glyph\":null,\"nonselection_glyph\":{\"id\":\"dbc9c616-30f9-49ad-b7ba-0154853c7215\",\"type\":\"Circle\"},\"selection_glyph\":null,\"view\":{\"id\":\"977cbbcc-5e51-453e-b66e-f1b15e6366e9\",\"type\":\"CDSView\"}},\"id\":\"2c2ab306-9628-4ba5-9c6a-0f0e866e5199\",\"type\":\"GlyphRenderer\"},{\"attributes\":{\"fill_alpha\":{\"value\":0.1},\"fill_color\":{\"value\":\"#1f77b4\"},\"line_alpha\":{\"value\":0.1},\"line_color\":{\"value\":\"#1f77b4\"},\"x\":{\"field\":\"x\"},\"y\":{\"field\":\"y\"}},\"id\":\"b8162ddd-1024-4eba-af73-6781ec31d061\",\"type\":\"Square\"},{\"attributes\":{\"callback\":null,\"data\":{\"x\":{\"__ndarray__\":\"LvfDEMjy0z68jjuUnBXxPlotyWC4hLq+/SQPT3kTv76w3o20O83AvvYzzH7U4sG+k2+Bn3SNwb58cw416bDCvsnxhYJQjcK+JbPcK1AGw75YnokO6VbDvpA1ItRMc8O+HypdioFhwb4RDHxbdfWAPqoqkZ6nXaE+bmI+m2fosb7KDjLleae5vppAjMNhebC+Iw++t32fjz5UD4IhABjEPlQDQWsjKtg+jBnd+gA05T4u6VuJwF3qPke95B4SB+c+Xnoc6pZt4D7/Mkhr+sHSPmVq9SSFr74+lVMHRPs+P75EGr+e47O0vkzS7U+f6cC+Hfk2m6fGxL4Q1AzQ5LzGvrR+jKCFSce+/kYjT8q0xr6EDOSWJZ/FvmtEuxddzcO+UnG5AmaVwr7VP9bGwuPEvsaZWE3w1cm+N1lHtp+t0L7DDQKXkf3bvrd2Xgr4vvG+u4Wznq2vAr9R6QRRxL4Qv6kE4NG/+Bm/9R0OAPJSIb/1tHkFC9Eivyx5Qt8DZhu/FKaOE+xV9j6wPS5SPegwPwn2mEHx+EQ/muwQ2MTdUz/HTyD59Y1gP/7CwK2aa2k//Oqc8QU+cj+9QAAZEBt5P/9UOQWitIA/mHv1r7SlhT/ax4GMvW2LP5dt6cnjBpE/+BqyHEnLlD/YYh+znwSZP44BXSSCq50/my3Na/SDoj9PiJqXrFKmPyFfas1UXao/m4OsFvS4rj9pJ1/dbASxPzaE4V7Et7I/yAcSG/mqtD9rUces3OC2P+hBzdJGXLk/phRL/BcpvD+JDtzc81e/P9Q9mRzKksE/\",\"dtype\":\"float64\",\"shape\":[75]},\"y\":{\"__ndarray__\":\"S/O/Q+51ND/Sv8nbtpRIP2vylNV0PVE/aTum7souWD/At0SJ8fVgPw3Iuahxymc/MSNhhJWvcD/bTfBN02d3P2zb5nxnaoA/CD5h5MAGhz8NmeH1TyaQP+zrCsc9p5Y/LbKd76fGnz/bLW5ISEmmPww9YvTcQq8/JV2OstnstT8Er5Y7M8G+P0c+r3jqkcU/5h99k6ZBzj88bCIzFzjVP4enV8oyxN0//yH99nXg5D8qOpLLf0jtP5kqGJXUifQ/c9cS8kHP/D+/DpwzojQEQIEmwoanVwxA4lgXt9HgE0BSSZ2AJuIbQAMJih9jjiNA5q4l5INuK0AwTKYKRj0zQNv5fmq8/DpAaCJseHrtQkB/+zpwzoxKQM3MzMzMeFJAZmZmZmZqWEAAAAAAAFxeQM3MzMzMJmJAmpmZmZkfZUBmZmZmZhhoQDMzMzMzEWtAAAAAAAAKbkBmZmZmZoFwQM3MzMzM/XFAMzMzMzN6c0CamZmZmfZ0QAAAAAAAc3ZAZmZmZmbvd0DNzMzMzGt5QDMzMzMz6HpAmpmZmZlkfEAAAAAAAOF9QGZmZmZmXX9AZmZmZuZsgECamZmZGSuBQM3MzMxM6YFAAAAAAICngkAzMzMzs2WDQGZmZmbmI4RAmpmZmRnihEDNzMzMTKCFQAAAAACAXoZAMzMzM7Mch0BmZmZm5tqHQJqZmZkZmYhAzczMzExXiUAAAAAAgBWKQDMzMzOz04pAZmZmZuaRi0CamZmZGVCMQM3MzMxMDo1AAAAAAIDMjUAzMzMzs4qOQGZmZmbmSI9A\",\"dtype\":\"float64\",\"shape\":[75]}},\"selected\":{\"id\":\"3acf372b-e234-4ff5-a795-27a48bde2650\",\"type\":\"Selection\"},\"selection_policy\":{\"id\":\"1c8fdb22-8707-4998-9f2c-32d148aa11d2\",\"type\":\"UnionRenderers\"}},\"id\":\"24b5fccd-055c-42fc-9bbd-3ce1add2355a\",\"type\":\"ColumnDataSource\"},{\"attributes\":{\"callback\":null,\"data\":{\"x\":{\"__ndarray__\":\"1rsUFvv8wb7awNtd8hTCvsQsOvOsQcK+qJhrdAJvwr6+wgCHJ5rCvmZxzgoBxMK+mg4+AIjswr5R3ZIAABPDvslUiCEyN8O+MNb21udZw748JMJQIHrDvul/0T0kmMO+iTFlvO6zw75HAQmnWdPDvqrXDuLzFsS+d3hTvnOlw77z5zFUwa7AvuWzAbhXB7O+SERBcVmloD69d4BBuZjLPk7nDC1wUeA+fmw7LDMp7T6eSQOSz1PxPq3RqgoCcu0+7ij2odBg5T6JNMPEE4LZPsMQ4C0uZsg+111uySCspz6/hTH/VySqvrC6GwIEOL2+IVuq4iWQw75l/n2gBVnGvp4+vmgEq8e+I6iJyVn/x77ifJSjagTHvgFidurmccS+VHfaOJDhwr6AM4gedF3FvpF+wrOkEMu+nTWAOQvO0b6JXaRfJKPdvp5j0+KdI/K+ywCZ8cBxAr/zSDqNGdwPv7TNFmDPlBe/2bQoDyoHHb9dYHKgqKwavwgIF9aa4P++beXDhMQNIT+bffNS5Mo6PwQKyv97cks/57w5kADeVz9m3Vz+dNliP8KWjEHb32s/dQy6mo6lcz8IcQMBUa16P8adpUBzkYE/FdI8bT2dhj/d6H+TT4qMP4sEpl72tZE/5p3QVX2hlT9C8WXNiAWaPz2CdwfzvZ4/M+Lb42AJoz/wmdsqMLemP7yF+67rg6o/xq8ehn2Trj8WfEtqSM6wP4cSLD6KZ7I/WTjWjkdHtD94nndKRXS2PzDvMCSW7rg/NKxgy4zDuz9MbUdomQC/PxauaxW0ecE/\",\"dtype\":\"float64\",\"shape\":[75]},\"y\":{\"__ndarray__\":\"GhExyth1ND/Sv8nbtpRIP2vylNV0PVE/aTum7souWD/At0SJ8fVgPw3Iuahxymc/MSNhhJWvcD/bTfBN02d3P2zb5nxnaoA/CD5h5MAGhz8NmeH1TyaQP+zrCsc9p5Y/LbKd76fGnz/bLW5ISEmmPww9YvTcQq8/JV2OstnstT8Er5Y7M8G+P0c+r3jqkcU/5h99k6ZBzj88bCIzFzjVP4enV8oyxN0//yH99nXg5D8qOpLLf0jtP5kqGJXUifQ/c9cS8kHP/D+/DpwzojQEQIEmwoanVwxA4lgXt9HgE0BSSZ2AJuIbQAMJih9jjiNA5q4l5INuK0AwTKYKRj0zQNv5fmq8/DpAaCJseHrtQkB/+zpwzoxKQM3MzMzMeFJAZmZmZmZqWEAAAAAAAFxeQM3MzMzMJmJAmpmZmZkfZUBmZmZmZhhoQDMzMzMzEWtAAAAAAAAKbkBmZmZmZoFwQM3MzMzM/XFAMzMzMzN6c0CamZmZmfZ0QAAAAAAAc3ZAZmZmZmbvd0DNzMzMzGt5QDMzMzMz6HpAmpmZmZlkfEAAAAAAAOF9QGZmZmZmXX9AZmZmZuZsgECamZmZGSuBQM3MzMxM6YFAAAAAAICngkAzMzMzs2WDQGZmZmbmI4RAmpmZmRnihEDNzMzMTKCFQAAAAACAXoZAMzMzM7Mch0BmZmZm5tqHQJqZmZkZmYhAzczMzExXiUAAAAAAgBWKQDMzMzOz04pAZmZmZuaRi0CamZmZGVCMQM3MzMxMDo1AAAAAAIDMjUAzMzMzs4qOQGZmZmbmSI9A\",\"dtype\":\"float64\",\"shape\":[75]}},\"selected\":{\"id\":\"9e37af55-aa45-48ec-9828-33da71b93acd\",\"type\":\"Selection\"},\"selection_policy\":{\"id\":\"bc04689e-d307-43ef-9f45-d06fc8d2a7b7\",\"type\":\"UnionRenderers\"}},\"id\":\"6c8f123d-b9fb-4e50-9d16-ed92b984749d\",\"type\":\"ColumnDataSource\"},{\"attributes\":{\"line_alpha\":0.1,\"line_color\":\"#1f77b4\",\"line_width\":3,\"x\":{\"field\":\"x\"},\"y\":{\"field\":\"y\"}},\"id\":\"58297187-14ec-41ae-8211-b87cde7424c1\",\"type\":\"Line\"},{\"attributes\":{\"dimension\":1,\"plot\":{\"id\":\"9192a6d5-78f1-48a6-bc4d-1b58158ba1ac\",\"subtype\":\"Figure\",\"type\":\"Plot\"},\"ticker\":{\"id\":\"94a3751c-e810-40d5-b09f-63a48ed45bb0\",\"type\":\"LogTicker\"}},\"id\":\"cd93b64c-25d3-406e-9377-d024a9affa63\",\"type\":\"Grid\"},{\"attributes\":{\"callback\":null,\"data\":{\"x\":{\"__ndarray__\":\"1rsUFvv8wb7awNtd8hTCvsQsOvOsQcK+qJhrdAJvwr6+wgCHJ5rCvmZxzgoBxMK+mg4+AIjswr5R3ZIAABPDvslUiCEyN8O+MNb21udZw748JMJQIHrDvul/0T0kmMO+iTFlvO6zw75HAQmnWdPDvqrXDuLzFsS+d3hTvnOlw77z5zFUwa7AvuWzAbhXB7O+SERBcVmloD69d4BBuZjLPk7nDC1wUeA+fmw7LDMp7T6eSQOSz1PxPq3RqgoCcu0+7ij2odBg5T6JNMPEE4LZPsMQ4C0uZsg+111uySCspz6/hTH/VySqvrC6GwIEOL2+IVuq4iWQw75l/n2gBVnGvp4+vmgEq8e+I6iJyVn/x77ifJSjagTHvgFidurmccS+VHfaOJDhwr6AM4gedF3FvpF+wrOkEMu+nTWAOQvO0b6JXaRfJKPdvp5j0+KdI/K+ywCZ8cBxAr/zSDqNGdwPv7TNFmDPlBe/2bQoDyoHHb9dYHKgqKwavwgIF9aa4P++beXDhMQNIT+bffNS5Mo6PwQKyv97cks/57w5kADeVz9m3Vz+dNliP8KWjEHb32s/dQy6mo6lcz8IcQMBUa16P8adpUBzkYE/FdI8bT2dhj/d6H+TT4qMP4sEpl72tZE/5p3QVX2hlT9C8WXNiAWaPz2CdwfzvZ4/M+Lb42AJoz/wmdsqMLemP7yF+67rg6o/xq8ehn2Trj8WfEtqSM6wP4cSLD6KZ7I/WTjWjkdHtD94nndKRXS2PzDvMCSW7rg/NKxgy4zDuz9MbUdomQC/PxauaxW0ecE/\",\"dtype\":\"float64\",\"shape\":[75]},\"y\":{\"__ndarray__\":\"GhExyth1ND/Sv8nbtpRIP2vylNV0PVE/aTum7souWD/At0SJ8fVgPw3Iuahxymc/MSNhhJWvcD/bTfBN02d3P2zb5nxnaoA/CD5h5MAGhz8NmeH1TyaQP+zrCsc9p5Y/LbKd76fGnz/bLW5ISEmmPww9YvTcQq8/JV2OstnstT8Er5Y7M8G+P0c+r3jqkcU/5h99k6ZBzj88bCIzFzjVP4enV8oyxN0//yH99nXg5D8qOpLLf0jtP5kqGJXUifQ/c9cS8kHP/D+/DpwzojQEQIEmwoanVwxA4lgXt9HgE0BSSZ2AJuIbQAMJih9jjiNA5q4l5INuK0AwTKYKRj0zQNv5fmq8/DpAaCJseHrtQkB/+zpwzoxKQM3MzMzMeFJAZmZmZmZqWEAAAAAAAFxeQM3MzMzMJmJAmpmZmZkfZUBmZmZmZhhoQDMzMzMzEWtAAAAAAAAKbkBmZmZmZoFwQM3MzMzM/XFAMzMzMzN6c0CamZmZmfZ0QAAAAAAAc3ZAZmZmZmbvd0DNzMzMzGt5QDMzMzMz6HpAmpmZmZlkfEAAAAAAAOF9QGZmZmZmXX9AZmZmZuZsgECamZmZGSuBQM3MzMxM6YFAAAAAAICngkAzMzMzs2WDQGZmZmbmI4RAmpmZmRnihEDNzMzMTKCFQAAAAACAXoZAMzMzM7Mch0BmZmZm5tqHQJqZmZkZmYhAzczMzExXiUAAAAAAgBWKQDMzMzOz04pAZmZmZuaRi0CamZmZGVCMQM3MzMxMDo1AAAAAAIDMjUAzMzMzs4qOQGZmZmbmSI9A\",\"dtype\":\"float64\",\"shape\":[75]}},\"selected\":{\"id\":\"469d8448-6186-4172-b1af-b2b23b84d31c\",\"type\":\"Selection\"},\"selection_policy\":{\"id\":\"e79e3289-0d7b-477d-aba6-d92a5af64c4e\",\"type\":\"UnionRenderers\"}},\"id\":\"5793a6cb-3b03-4b78-965d-19a068d39e1b\",\"type\":\"ColumnDataSource\"},{\"attributes\":{\"callback\":null,\"end\":3.8085953629000005e-05,\"start\":-7.847158529e-06},\"id\":\"fce95fef-098b-4ed4-b8c5-f00a1f68c942\",\"type\":\"Range1d\"},{\"attributes\":{\"source\":{\"id\":\"fe7e84eb-cab3-4fa3-be5f-03352c6b9868\",\"type\":\"ColumnDataSource\"}},\"id\":\"a015fe93-34f0-4db0-b015-6df568594941\",\"type\":\"CDSView\"},{\"attributes\":{\"items\":[{\"id\":\"ad43e098-0e1e-4b38-859f-a6d26838febf\",\"type\":\"LegendItem\"},{\"id\":\"28916b21-deae-438e-aef5-84052d7fc246\",\"type\":\"LegendItem\"},{\"id\":\"f07a56c0-21cd-458e-aa37-c285327d24be\",\"type\":\"LegendItem\"}],\"label_text_font_size\":{\"value\":\"8pt\"},\"location\":[10,-30],\"plot\":{\"id\":\"9192a6d5-78f1-48a6-bc4d-1b58158ba1ac\",\"subtype\":\"Figure\",\"type\":\"Plot\"}},\"id\":\"908c1828-db59-457f-a6ea-acb020d068e9\",\"type\":\"Legend\"},{\"attributes\":{\"data_source\":{\"id\":\"6c8f123d-b9fb-4e50-9d16-ed92b984749d\",\"type\":\"ColumnDataSource\"},\"glyph\":{\"id\":\"19b7aaf7-5dea-4d56-9148-cbd68f4bdb18\",\"type\":\"Line\"},\"hover_glyph\":null,\"muted_glyph\":null,\"nonselection_glyph\":{\"id\":\"58297187-14ec-41ae-8211-b87cde7424c1\",\"type\":\"Line\"},\"selection_glyph\":null,\"view\":{\"id\":\"58b3dcf8-15ac-4b79-8286-2fe78d6694c5\",\"type\":\"CDSView\"}},\"id\":\"2916e52d-2590-49b6-b8d9-e57a85d2d51a\",\"type\":\"GlyphRenderer\"},{\"attributes\":{\"source\":{\"id\":\"d196d466-ebd3-42eb-a957-7a8a605cde7e\",\"type\":\"ColumnDataSource\"}},\"id\":\"977cbbcc-5e51-453e-b66e-f1b15e6366e9\",\"type\":\"CDSView\"},{\"attributes\":{\"source\":{\"id\":\"6c8f123d-b9fb-4e50-9d16-ed92b984749d\",\"type\":\"ColumnDataSource\"}},\"id\":\"58b3dcf8-15ac-4b79-8286-2fe78d6694c5\",\"type\":\"CDSView\"},{\"attributes\":{\"data_source\":{\"id\":\"5793a6cb-3b03-4b78-965d-19a068d39e1b\",\"type\":\"ColumnDataSource\"},\"glyph\":{\"id\":\"6d82ae27-5a7a-4b3d-a0c8-ee8ba7a3394b\",\"type\":\"Square\"},\"hover_glyph\":null,\"muted_glyph\":null,\"nonselection_glyph\":{\"id\":\"b8162ddd-1024-4eba-af73-6781ec31d061\",\"type\":\"Square\"},\"selection_glyph\":null,\"view\":{\"id\":\"83d466f7-2b75-4adf-8c85-2ee3246aa9d1\",\"type\":\"CDSView\"}},\"id\":\"ef50367b-f3f7-4ce0-a5b1-500383ab2bee\",\"type\":\"GlyphRenderer\"},{\"attributes\":{},\"id\":\"1187fc54-03f7-4800-a428-5e483c0b0da0\",\"type\":\"ResetTool\"},{\"attributes\":{},\"id\":\"de0d5df4-e38f-43d5-8165-a267f5372868\",\"type\":\"HelpTool\"},{\"attributes\":{\"fill_alpha\":{\"value\":0.1},\"fill_color\":{\"value\":\"#1f77b4\"},\"line_alpha\":{\"value\":0.1},\"line_color\":{\"value\":\"#1f77b4\"},\"x\":{\"field\":\"x\"},\"y\":{\"field\":\"y\"}},\"id\":\"f2cdc8ca-2442-47c3-91c2-cd9ea2ef4216\",\"type\":\"Circle\"},{\"attributes\":{\"callback\":null,\"end\":0.01,\"start\":1020},\"id\":\"0d949512-8a8b-4e00-9bc4-c24d3b00defb\",\"type\":\"Range1d\"},{\"attributes\":{\"overlay\":{\"id\":\"8b88687e-0b43-4f17-ad9d-5eeba64c6365\",\"type\":\"BoxAnnotation\"}},\"id\":\"cca39f08-885f-46de-ac6e-23ed29f9566c\",\"type\":\"BoxZoomTool\"},{\"attributes\":{\"axis_label\":\"pressure [mb]\",\"formatter\":{\"id\":\"8d12d086-0367-4a0e-9d48-846cce1c135c\",\"type\":\"LogTickFormatter\"},\"plot\":{\"id\":\"9192a6d5-78f1-48a6-bc4d-1b58158ba1ac\",\"subtype\":\"Figure\",\"type\":\"Plot\"},\"ticker\":{\"id\":\"94a3751c-e810-40d5-b09f-63a48ed45bb0\",\"type\":\"LogTicker\"}},\"id\":\"0c920ffc-3e8d-4517-859d-42e000b08cac\",\"type\":\"LogAxis\"},{\"attributes\":{\"callback\":null,\"data\":{\"x\":{\"__ndarray__\":\"WskUUpOwyb7rvzVM2srJvsAJcmsE+sm+AsDhMPImyr5JUA48YVDKvop0CUawdsq+ddXaKqiZyr6azQKFQ7bKvlaYEljZzsq+TZQ1WYXjyr4q+RTtyfHKvtiOVkjK+sq+czosCYv+yr4Ir+sjZ/nKvjGFHRFtjMq+LdgfoqOWx757vGGHWcO9vj4gjPoVTpU+a3xfIOjT0D5fZWoNFiTlPpuroHb/h/Q+EZysxD3uAD+LIKJdXrsDP+/zuu5zAgE/IW8uCCmb+T6i+3xATo7wPs0BB2c/BOM+cedHjIFP0j6EttW4d3GzPkRaySAVDLC+ajmEnoECw77affw0OzLJvg6bG6y0Ccy+0z+NspGzzL5XpSHc6RrLvj/1ZtVLPse+1aMjUoTJxL7qf4B6fjzHvqGjMZYZP82+ZkrXqt8A0767C284SgbfvobSczbzcvK+SMeutm7/Ab+ZtQ4B2T4Nv4qd8M0jdRO/hjMoelRPE780Jjj5s/v9vsUlE0Klthg/rbDkuiCuND9OPsS8JdhFP2Lqnwp1XVM/nVto7xMVXz/iM2vHGldnP2oTIj6Cq3A/OMzYVyzzdj8fJwtqP6N+P9JDtxYi8oM/Lb/o/xBziT+uRBUIf+KPPziWxhvYq5M/Fw7sR3bklz808ouoD3icP/Cta1tkoKA/ov5NBH5IpD8hKtsnSrmnP0lS2X21Das/qcumf/Bxrj9KunrWtFmwP9wvfp4vi7E/etYXBLT/sj/Qv1WFo7e0P4Llt9HIs7Y/rHJL8vb8uD9cFjwawaW7Pwd78jSJD78/\",\"dtype\":\"float64\",\"shape\":[75]},\"y\":{\"__ndarray__\":\"GhExyth1ND/Sv8nbtpRIP2vylNV0PVE/aTum7souWD/At0SJ8fVgPw3Iuahxymc/MSNhhJWvcD/bTfBN02d3P2zb5nxnaoA/CD5h5MAGhz8NmeH1TyaQP+zrCsc9p5Y/LbKd76fGnz/bLW5ISEmmPww9YvTcQq8/JV2OstnstT8Er5Y7M8G+P0c+r3jqkcU/5h99k6ZBzj88bCIzFzjVP4enV8oyxN0//yH99nXg5D8qOpLLf0jtP5kqGJXUifQ/c9cS8kHP/D+/DpwzojQEQIEmwoanVwxA4lgXt9HgE0BSSZ2AJuIbQAMJih9jjiNA5q4l5INuK0AwTKYKRj0zQNv5fmq8/DpAaCJseHrtQkB/+zpwzoxKQM3MzMzMeFJAZmZmZmZqWEAAAAAAAFxeQM3MzMzMJmJAmpmZmZkfZUBmZmZmZhhoQDMzMzMzEWtAAAAAAAAKbkBmZmZmZoFwQM3MzMzM/XFAMzMzMzN6c0CamZmZmfZ0QAAAAAAAc3ZAZmZmZmbvd0DNzMzMzGt5QDMzMzMz6HpAmpmZmZlkfEAAAAAAAOF9QGZmZmZmXX9AZmZmZuZsgECamZmZGSuBQM3MzMxM6YFAAAAAAICngkAzMzMzs2WDQGZmZmbmI4RAmpmZmRnihEDNzMzMTKCFQAAAAACAXoZAMzMzM7Mch0BmZmZm5tqHQJqZmZkZmYhAzczMzExXiUAAAAAAgBWKQDMzMzOz04pAZmZmZuaRi0CamZmZGVCMQM3MzMxMDo1AAAAAAIDMjUAzMzMzs4qOQGZmZmbmSI9A\",\"dtype\":\"float64\",\"shape\":[75]}},\"selected\":{\"id\":\"5be18cbb-fdb1-4fd8-b3f6-c6a459a1d103\",\"type\":\"Selection\"},\"selection_policy\":{\"id\":\"7d9545c2-9833-46d8-8120-5948692ba31d\",\"type\":\"UnionRenderers\"}},\"id\":\"71076573-131b-4f5f-96e0-a71cd9720e7d\",\"type\":\"ColumnDataSource\"},{\"attributes\":{},\"id\":\"f0d48426-c3b6-4033-bc83-7b719cae7e2d\",\"type\":\"SaveTool\"},{\"attributes\":{\"plot\":{\"id\":\"9192a6d5-78f1-48a6-bc4d-1b58158ba1ac\",\"subtype\":\"Figure\",\"type\":\"Plot\"},\"ticker\":{\"id\":\"9bf70143-e934-4d35-a785-1babefaf5522\",\"type\":\"BasicTicker\"}},\"id\":\"31adf6bd-d93a-45d2-b432-c27b51ca871e\",\"type\":\"Grid\"},{\"attributes\":{\"data_source\":{\"id\":\"71076573-131b-4f5f-96e0-a71cd9720e7d\",\"type\":\"ColumnDataSource\"},\"glyph\":{\"id\":\"e2b23c0d-3575-42c2-aa54-3bff95d35bc0\",\"type\":\"Circle\"},\"hover_glyph\":null,\"muted_glyph\":null,\"nonselection_glyph\":{\"id\":\"f2cdc8ca-2442-47c3-91c2-cd9ea2ef4216\",\"type\":\"Circle\"},\"selection_glyph\":null,\"view\":{\"id\":\"5d7565f3-0b68-4dba-9586-1c614fa92093\",\"type\":\"CDSView\"}},\"id\":\"3fbb1bd3-e296-47ee-9965-377f3465ed3c\",\"type\":\"GlyphRenderer\"},{\"attributes\":{},\"id\":\"461cd5ef-1499-4185-8cda-50fafa8a5cd1\",\"type\":\"BasicTicker\"},{\"attributes\":{\"plot\":{\"id\":\"b9317b97-f881-48a9-a651-6ea6912f22cc\",\"subtype\":\"Figure\",\"type\":\"Plot\"},\"ticker\":{\"id\":\"f48b4ec5-9583-4bb4-b030-585e52b18c55\",\"type\":\"BasicTicker\"}},\"id\":\"31f1cc45-80f6-47eb-a9ff-f31d09cd9bf9\",\"type\":\"Grid\"},{\"attributes\":{\"source\":{\"id\":\"1dedb954-d44c-4381-8f4c-b5b2ae2a8723\",\"type\":\"ColumnDataSource\"}},\"id\":\"3b930f6e-f578-40c6-9418-1c773e8cf4da\",\"type\":\"CDSView\"},{\"attributes\":{\"bottom_units\":\"screen\",\"fill_alpha\":{\"value\":0.5},\"fill_color\":{\"value\":\"lightgrey\"},\"left_units\":\"screen\",\"level\":\"overlay\",\"line_alpha\":{\"value\":1.0},\"line_color\":{\"value\":\"black\"},\"line_dash\":[4,4],\"line_width\":{\"value\":2},\"plot\":null,\"render_mode\":\"css\",\"right_units\":\"screen\",\"top_units\":\"screen\"},\"id\":\"8b88687e-0b43-4f17-ad9d-5eeba64c6365\",\"type\":\"BoxAnnotation\"},{\"attributes\":{\"line_alpha\":0.1,\"line_color\":\"#1f77b4\",\"line_dash\":[6],\"line_width\":5,\"x\":{\"field\":\"x\"},\"y\":{\"field\":\"y\"}},\"id\":\"4ae8fef9-d861-49ab-a46d-52936cdc11b1\",\"type\":\"Line\"},{\"attributes\":{\"fill_alpha\":{\"value\":0.7},\"fill_color\":{\"value\":\"#4daf4a\"},\"line_alpha\":{\"value\":0.7},\"line_color\":{\"value\":\"#4daf4a\"},\"x\":{\"field\":\"x\"},\"y\":{\"field\":\"y\"}},\"id\":\"82c26a8e-28cc-4917-8da7-ea8145cc65c3\",\"type\":\"Circle\"},{\"attributes\":{},\"id\":\"8820198e-088a-4071-8faa-a76a5d21a9a6\",\"type\":\"PanTool\"},{\"attributes\":{},\"id\":\"9ca0abb6-48c8-4b72-91ba-b0b8b9c209fe\",\"type\":\"WheelZoomTool\"},{\"attributes\":{\"data_source\":{\"id\":\"24b5fccd-055c-42fc-9bbd-3ce1add2355a\",\"type\":\"ColumnDataSource\"},\"glyph\":{\"id\":\"dc9e5a52-c9f8-4e55-8742-8111f615a666\",\"type\":\"Line\"},\"hover_glyph\":null,\"muted_glyph\":null,\"nonselection_glyph\":{\"id\":\"4ae8fef9-d861-49ab-a46d-52936cdc11b1\",\"type\":\"Line\"},\"selection_glyph\":null,\"view\":{\"id\":\"acd9a887-57ff-44ea-8621-3fd1b9d2191c\",\"type\":\"CDSView\"}},\"id\":\"c0c80bd5-a28d-40bd-a7d9-6beea627aaa8\",\"type\":\"GlyphRenderer\"},{\"attributes\":{\"source\":{\"id\":\"3700e48b-b4dc-432b-8ec3-75159f338063\",\"type\":\"ColumnDataSource\"}},\"id\":\"78e007df-ca1b-4067-9d6e-7b3c3b229b8d\",\"type\":\"CDSView\"},{\"attributes\":{},\"id\":\"ced8062d-77f3-43f8-ba97-2b6e864b3deb\",\"type\":\"LogScale\"},{\"attributes\":{\"num_minor_ticks\":10},\"id\":\"94a3751c-e810-40d5-b09f-63a48ed45bb0\",\"type\":\"LogTicker\"},{\"attributes\":{\"fill_alpha\":{\"value\":0.7},\"fill_color\":{\"value\":\"#4daf4a\"},\"line_alpha\":{\"value\":0.7},\"line_color\":{\"value\":\"#4daf4a\"},\"x\":{\"field\":\"x\"},\"y\":{\"field\":\"y\"}},\"id\":\"e2b23c0d-3575-42c2-aa54-3bff95d35bc0\",\"type\":\"Circle\"},{\"attributes\":{\"axis_label\":\"cooling rate [K/day]\",\"formatter\":{\"id\":\"eb3387ea-d3f0-4ba8-b1d9-3f75963e1da2\",\"type\":\"BasicTickFormatter\"},\"plot\":{\"id\":\"9192a6d5-78f1-48a6-bc4d-1b58158ba1ac\",\"subtype\":\"Figure\",\"type\":\"Plot\"},\"ticker\":{\"id\":\"9bf70143-e934-4d35-a785-1babefaf5522\",\"type\":\"BasicTicker\"}},\"id\":\"6dae411c-3126-4ac5-aa3c-b9aed0bd21bd\",\"type\":\"LinearAxis\"},{\"attributes\":{\"callback\":null,\"data\":{\"x\":{\"__ndarray__\":\"WskUUpOwyb7rvzVM2srJvsAJcmsE+sm+AsDhMPImyr5JUA48YVDKvop0CUawdsq+ddXaKqiZyr6azQKFQ7bKvlaYEljZzsq+TZQ1WYXjyr4q+RTtyfHKvtiOVkjK+sq+czosCYv+yr4Ir+sjZ/nKvjGFHRFtjMq+LdgfoqOWx757vGGHWcO9vj4gjPoVTpU+a3xfIOjT0D5fZWoNFiTlPpuroHb/h/Q+EZysxD3uAD+LIKJdXrsDP+/zuu5zAgE/IW8uCCmb+T6i+3xATo7wPs0BB2c/BOM+cedHjIFP0j6EttW4d3GzPkRaySAVDLC+ajmEnoECw77affw0OzLJvg6bG6y0Ccy+0z+NspGzzL5XpSHc6RrLvj/1ZtVLPse+1aMjUoTJxL7qf4B6fjzHvqGjMZYZP82+ZkrXqt8A0767C284SgbfvobSczbzcvK+SMeutm7/Ab+ZtQ4B2T4Nv4qd8M0jdRO/hjMoelRPE780Jjj5s/v9vsUlE0Klthg/rbDkuiCuND9OPsS8JdhFP2Lqnwp1XVM/nVto7xMVXz/iM2vHGldnP2oTIj6Cq3A/OMzYVyzzdj8fJwtqP6N+P9JDtxYi8oM/Lb/o/xBziT+uRBUIf+KPPziWxhvYq5M/Fw7sR3bklz808ouoD3icP/Cta1tkoKA/ov5NBH5IpD8hKtsnSrmnP0lS2X21Das/qcumf/Bxrj9KunrWtFmwP9wvfp4vi7E/etYXBLT/sj/Qv1WFo7e0P4Llt9HIs7Y/rHJL8vb8uD9cFjwawaW7Pwd78jSJD78/\",\"dtype\":\"float64\",\"shape\":[75]},\"y\":{\"__ndarray__\":\"GhExyth1ND/Sv8nbtpRIP2vylNV0PVE/aTum7souWD/At0SJ8fVgPw3Iuahxymc/MSNhhJWvcD/bTfBN02d3P2zb5nxnaoA/CD5h5MAGhz8NmeH1TyaQP+zrCsc9p5Y/LbKd76fGnz/bLW5ISEmmPww9YvTcQq8/JV2OstnstT8Er5Y7M8G+P0c+r3jqkcU/5h99k6ZBzj88bCIzFzjVP4enV8oyxN0//yH99nXg5D8qOpLLf0jtP5kqGJXUifQ/c9cS8kHP/D+/DpwzojQEQIEmwoanVwxA4lgXt9HgE0BSSZ2AJuIbQAMJih9jjiNA5q4l5INuK0AwTKYKRj0zQNv5fmq8/DpAaCJseHrtQkB/+zpwzoxKQM3MzMzMeFJAZmZmZmZqWEAAAAAAAFxeQM3MzMzMJmJAmpmZmZkfZUBmZmZmZhhoQDMzMzMzEWtAAAAAAAAKbkBmZmZmZoFwQM3MzMzM/XFAMzMzMzN6c0CamZmZmfZ0QAAAAAAAc3ZAZmZmZmbvd0DNzMzMzGt5QDMzMzMz6HpAmpmZmZlkfEAAAAAAAOF9QGZmZmZmXX9AZmZmZuZsgECamZmZGSuBQM3MzMxM6YFAAAAAAICngkAzMzMzs2WDQGZmZmbmI4RAmpmZmRnihEDNzMzMTKCFQAAAAACAXoZAMzMzM7Mch0BmZmZm5tqHQJqZmZkZmYhAzczMzExXiUAAAAAAgBWKQDMzMzOz04pAZmZmZuaRi0CamZmZGVCMQM3MzMxMDo1AAAAAAIDMjUAzMzMzs4qOQGZmZmbmSI9A\",\"dtype\":\"float64\",\"shape\":[75]}},\"selected\":{\"id\":\"f68480da-cb29-4433-a96c-6b71bbc40fab\",\"type\":\"Selection\"},\"selection_policy\":{\"id\":\"ee1ee3db-00fb-472b-8cbf-286b2d213021\",\"type\":\"UnionRenderers\"}},\"id\":\"90c8a79d-bd0f-405c-b1ce-6f0df6eb3791\",\"type\":\"ColumnDataSource\"},{\"attributes\":{\"callback\":null,\"data\":{\"x\":{\"__ndarray__\":\"1rsUFvv8wb7awNtd8hTCvsQsOvOsQcK+qJhrdAJvwr6+wgCHJ5rCvmZxzgoBxMK+mg4+AIjswr5R3ZIAABPDvslUiCEyN8O+MNb21udZw748JMJQIHrDvul/0T0kmMO+iTFlvO6zw75HAQmnWdPDvqrXDuLzFsS+d3hTvnOlw77z5zFUwa7AvuWzAbhXB7O+SERBcVmloD69d4BBuZjLPk7nDC1wUeA+fmw7LDMp7T6eSQOSz1PxPq3RqgoCcu0+7ij2odBg5T6JNMPEE4LZPsMQ4C0uZsg+111uySCspz6/hTH/VySqvrC6GwIEOL2+IVuq4iWQw75l/n2gBVnGvp4+vmgEq8e+I6iJyVn/x77ifJSjagTHvgFidurmccS+VHfaOJDhwr6AM4gedF3FvpF+wrOkEMu+nTWAOQvO0b6JXaRfJKPdvp5j0+KdI/K+ywCZ8cBxAr/zSDqNGdwPv7TNFmDPlBe/2bQoDyoHHb9dYHKgqKwavwgIF9aa4P++beXDhMQNIT+bffNS5Mo6PwQKyv97cks/57w5kADeVz9m3Vz+dNliP8KWjEHb32s/dQy6mo6lcz8IcQMBUa16P8adpUBzkYE/FdI8bT2dhj/d6H+TT4qMP4sEpl72tZE/5p3QVX2hlT9C8WXNiAWaPz2CdwfzvZ4/M+Lb42AJoz/wmdsqMLemP7yF+67rg6o/xq8ehn2Trj8WfEtqSM6wP4cSLD6KZ7I/WTjWjkdHtD94nndKRXS2PzDvMCSW7rg/NKxgy4zDuz9MbUdomQC/PxauaxW0ecE/\",\"dtype\":\"float64\",\"shape\":[75]},\"y\":{\"__ndarray__\":\"GhExyth1ND/Sv8nbtpRIP2vylNV0PVE/aTum7souWD/At0SJ8fVgPw3Iuahxymc/MSNhhJWvcD/bTfBN02d3P2zb5nxnaoA/CD5h5MAGhz8NmeH1TyaQP+zrCsc9p5Y/LbKd76fGnz/bLW5ISEmmPww9YvTcQq8/JV2OstnstT8Er5Y7M8G+P0c+r3jqkcU/5h99k6ZBzj88bCIzFzjVP4enV8oyxN0//yH99nXg5D8qOpLLf0jtP5kqGJXUifQ/c9cS8kHP/D+/DpwzojQEQIEmwoanVwxA4lgXt9HgE0BSSZ2AJuIbQAMJih9jjiNA5q4l5INuK0AwTKYKRj0zQNv5fmq8/DpAaCJseHrtQkB/+zpwzoxKQM3MzMzMeFJAZmZmZmZqWEAAAAAAAFxeQM3MzMzMJmJAmpmZmZkfZUBmZmZmZhhoQDMzMzMzEWtAAAAAAAAKbkBmZmZmZoFwQM3MzMzM/XFAMzMzMzN6c0CamZmZmfZ0QAAAAAAAc3ZAZmZmZmbvd0DNzMzMzGt5QDMzMzMz6HpAmpmZmZlkfEAAAAAAAOF9QGZmZmZmXX9AZmZmZuZsgECamZmZGSuBQM3MzMxM6YFAAAAAAICngkAzMzMzs2WDQGZmZmbmI4RAmpmZmRnihEDNzMzMTKCFQAAAAACAXoZAMzMzM7Mch0BmZmZm5tqHQJqZmZkZmYhAzczMzExXiUAAAAAAgBWKQDMzMzOz04pAZmZmZuaRi0CamZmZGVCMQM3MzMxMDo1AAAAAAIDMjUAzMzMzs4qOQGZmZmbmSI9A\",\"dtype\":\"float64\",\"shape\":[75]}},\"selected\":{\"id\":\"5282e2cc-f567-4f3b-bb50-73823d6e7981\",\"type\":\"Selection\"},\"selection_policy\":{\"id\":\"3a5e8d7b-4449-43e1-83a9-f0f7ee6b6945\",\"type\":\"UnionRenderers\"}},\"id\":\"3700e48b-b4dc-432b-8ec3-75159f338063\",\"type\":\"ColumnDataSource\"},{\"attributes\":{\"line_color\":\"#4daf4a\",\"line_width\":1.5,\"x\":{\"field\":\"x\"},\"y\":{\"field\":\"y\"}},\"id\":\"17872c0d-bf32-428b-bd51-da7d7d3d0a87\",\"type\":\"Line\"},{\"attributes\":{},\"id\":\"ce0c37f2-9aae-4d2a-b8d3-4265f175eb8c\",\"type\":\"SaveTool\"},{\"attributes\":{\"callback\":null,\"data\":{\"x\":{\"__ndarray__\":\"LvfDEMjy0z68jjuUnBXxPlotyWC4hLq+/SQPT3kTv76w3o20O83AvvYzzH7U4sG+k2+Bn3SNwb58cw416bDCvsnxhYJQjcK+JbPcK1AGw75YnokO6VbDvpA1ItRMc8O+HypdioFhwb4RDHxbdfWAPqoqkZ6nXaE+bmI+m2fosb7KDjLleae5vppAjMNhebC+Iw++t32fjz5UD4IhABjEPlQDQWsjKtg+jBnd+gA05T4u6VuJwF3qPke95B4SB+c+Xnoc6pZt4D7/Mkhr+sHSPmVq9SSFr74+lVMHRPs+P75EGr+e47O0vkzS7U+f6cC+Hfk2m6fGxL4Q1AzQ5LzGvrR+jKCFSce+/kYjT8q0xr6EDOSWJZ/FvmtEuxddzcO+UnG5AmaVwr7VP9bGwuPEvsaZWE3w1cm+N1lHtp+t0L7DDQKXkf3bvrd2Xgr4vvG+u4Wznq2vAr9R6QRRxL4Qv6kE4NG/+Bm/9R0OAPJSIb/1tHkFC9Eivyx5Qt8DZhu/FKaOE+xV9j6wPS5SPegwPwn2mEHx+EQ/muwQ2MTdUz/HTyD59Y1gP/7CwK2aa2k//Oqc8QU+cj+9QAAZEBt5P/9UOQWitIA/mHv1r7SlhT/ax4GMvW2LP5dt6cnjBpE/+BqyHEnLlD/YYh+znwSZP44BXSSCq50/my3Na/SDoj9PiJqXrFKmPyFfas1UXao/m4OsFvS4rj9pJ1/dbASxPzaE4V7Et7I/yAcSG/mqtD9rUces3OC2P+hBzdJGXLk/phRL/BcpvD+JDtzc81e/P9Q9mRzKksE/\",\"dtype\":\"float64\",\"shape\":[75]},\"y\":{\"__ndarray__\":\"S/O/Q+51ND/Sv8nbtpRIP2vylNV0PVE/aTum7souWD/At0SJ8fVgPw3Iuahxymc/MSNhhJWvcD/bTfBN02d3P2zb5nxnaoA/CD5h5MAGhz8NmeH1TyaQP+zrCsc9p5Y/LbKd76fGnz/bLW5ISEmmPww9YvTcQq8/JV2OstnstT8Er5Y7M8G+P0c+r3jqkcU/5h99k6ZBzj88bCIzFzjVP4enV8oyxN0//yH99nXg5D8qOpLLf0jtP5kqGJXUifQ/c9cS8kHP/D+/DpwzojQEQIEmwoanVwxA4lgXt9HgE0BSSZ2AJuIbQAMJih9jjiNA5q4l5INuK0AwTKYKRj0zQNv5fmq8/DpAaCJseHrtQkB/+zpwzoxKQM3MzMzMeFJAZmZmZmZqWEAAAAAAAFxeQM3MzMzMJmJAmpmZmZkfZUBmZmZmZhhoQDMzMzMzEWtAAAAAAAAKbkBmZmZmZoFwQM3MzMzM/XFAMzMzMzN6c0CamZmZmfZ0QAAAAAAAc3ZAZmZmZmbvd0DNzMzMzGt5QDMzMzMz6HpAmpmZmZlkfEAAAAAAAOF9QGZmZmZmXX9AZmZmZuZsgECamZmZGSuBQM3MzMxM6YFAAAAAAICngkAzMzMzs2WDQGZmZmbmI4RAmpmZmRnihEDNzMzMTKCFQAAAAACAXoZAMzMzM7Mch0BmZmZm5tqHQJqZmZkZmYhAzczMzExXiUAAAAAAgBWKQDMzMzOz04pAZmZmZuaRi0CamZmZGVCMQM3MzMxMDo1AAAAAAIDMjUAzMzMzs4qOQGZmZmbmSI9A\",\"dtype\":\"float64\",\"shape\":[75]}},\"selected\":{\"id\":\"78e901f4-b8e0-475f-b937-24a4c851b143\",\"type\":\"Selection\"},\"selection_policy\":{\"id\":\"b9136600-f414-4a2d-8546-cded835e0b18\",\"type\":\"UnionRenderers\"}},\"id\":\"8396db6b-e646-4125-844d-cc689c805b55\",\"type\":\"ColumnDataSource\"},{\"attributes\":{\"line_alpha\":0.6,\"line_color\":\"#984ea3\",\"line_width\":3,\"x\":{\"field\":\"x\"},\"y\":{\"field\":\"y\"}},\"id\":\"90054094-a47d-4831-8fbb-c6e0f2c08f4e\",\"type\":\"Line\"},{\"attributes\":{\"data_source\":{\"id\":\"8396db6b-e646-4125-844d-cc689c805b55\",\"type\":\"ColumnDataSource\"},\"glyph\":{\"id\":\"09d32dce-c4b1-4114-949b-a11c123df22d\",\"type\":\"Line\"},\"hover_glyph\":null,\"muted_glyph\":null,\"nonselection_glyph\":{\"id\":\"a4a84287-5984-49fa-8217-a93dfe6733fd\",\"type\":\"Line\"},\"selection_glyph\":null,\"view\":{\"id\":\"79d90581-623a-465b-8b37-e302df3f5fe7\",\"type\":\"CDSView\"}},\"id\":\"d8c99acf-4924-4008-90dc-b5a5836f88df\",\"type\":\"GlyphRenderer\"},{\"attributes\":{\"source\":{\"id\":\"71076573-131b-4f5f-96e0-a71cd9720e7d\",\"type\":\"ColumnDataSource\"}},\"id\":\"5d7565f3-0b68-4dba-9586-1c614fa92093\",\"type\":\"CDSView\"},{\"attributes\":{},\"id\":\"98511ef6-655d-42aa-b40a-ea22fbb2cc26\",\"type\":\"HelpTool\"},{\"attributes\":{\"source\":{\"id\":\"8396db6b-e646-4125-844d-cc689c805b55\",\"type\":\"ColumnDataSource\"}},\"id\":\"79d90581-623a-465b-8b37-e302df3f5fe7\",\"type\":\"CDSView\"},{\"attributes\":{\"callback\":null,\"data\":{\"x\":{\"__ndarray__\":\"WskUUpOwyb7rvzVM2srJvsAJcmsE+sm+AsDhMPImyr5JUA48YVDKvop0CUawdsq+ddXaKqiZyr6azQKFQ7bKvlaYEljZzsq+TZQ1WYXjyr4q+RTtyfHKvtiOVkjK+sq+czosCYv+yr4Ir+sjZ/nKvjGFHRFtjMq+LdgfoqOWx757vGGHWcO9vj4gjPoVTpU+a3xfIOjT0D5fZWoNFiTlPpuroHb/h/Q+EZysxD3uAD+LIKJdXrsDP+/zuu5zAgE/IW8uCCmb+T6i+3xATo7wPs0BB2c/BOM+cedHjIFP0j6EttW4d3GzPkRaySAVDLC+ajmEnoECw77affw0OzLJvg6bG6y0Ccy+0z+NspGzzL5XpSHc6RrLvj/1ZtVLPse+1aMjUoTJxL7qf4B6fjzHvqGjMZYZP82+ZkrXqt8A0767C284SgbfvobSczbzcvK+SMeutm7/Ab+ZtQ4B2T4Nv4qd8M0jdRO/hjMoelRPE780Jjj5s/v9vsUlE0Klthg/rbDkuiCuND9OPsS8JdhFP2Lqnwp1XVM/nVto7xMVXz/iM2vHGldnP2oTIj6Cq3A/OMzYVyzzdj8fJwtqP6N+P9JDtxYi8oM/Lb/o/xBziT+uRBUIf+KPPziWxhvYq5M/Fw7sR3bklz808ouoD3icP/Cta1tkoKA/ov5NBH5IpD8hKtsnSrmnP0lS2X21Das/qcumf/Bxrj9KunrWtFmwP9wvfp4vi7E/etYXBLT/sj/Qv1WFo7e0P4Llt9HIs7Y/rHJL8vb8uD9cFjwawaW7Pwd78jSJD78/\",\"dtype\":\"float64\",\"shape\":[75]},\"y\":{\"__ndarray__\":\"GhExyth1ND/Sv8nbtpRIP2vylNV0PVE/aTum7souWD/At0SJ8fVgPw3Iuahxymc/MSNhhJWvcD/bTfBN02d3P2zb5nxnaoA/CD5h5MAGhz8NmeH1TyaQP+zrCsc9p5Y/LbKd76fGnz/bLW5ISEmmPww9YvTcQq8/JV2OstnstT8Er5Y7M8G+P0c+r3jqkcU/5h99k6ZBzj88bCIzFzjVP4enV8oyxN0//yH99nXg5D8qOpLLf0jtP5kqGJXUifQ/c9cS8kHP/D+/DpwzojQEQIEmwoanVwxA4lgXt9HgE0BSSZ2AJuIbQAMJih9jjiNA5q4l5INuK0AwTKYKRj0zQNv5fmq8/DpAaCJseHrtQkB/+zpwzoxKQM3MzMzMeFJAZmZmZmZqWEAAAAAAAFxeQM3MzMzMJmJAmpmZmZkfZUBmZmZmZhhoQDMzMzMzEWtAAAAAAAAKbkBmZmZmZoFwQM3MzMzM/XFAMzMzMzN6c0CamZmZmfZ0QAAAAAAAc3ZAZmZmZmbvd0DNzMzMzGt5QDMzMzMz6HpAmpmZmZlkfEAAAAAAAOF9QGZmZmZmXX9AZmZmZuZsgECamZmZGSuBQM3MzMxM6YFAAAAAAICngkAzMzMzs2WDQGZmZmbmI4RAmpmZmRnihEDNzMzMTKCFQAAAAACAXoZAMzMzM7Mch0BmZmZm5tqHQJqZmZkZmYhAzczMzExXiUAAAAAAgBWKQDMzMzOz04pAZmZmZuaRi0CamZmZGVCMQM3MzMxMDo1AAAAAAIDMjUAzMzMzs4qOQGZmZmbmSI9A\",\"dtype\":\"float64\",\"shape\":[75]}},\"selected\":{\"id\":\"95d55187-2a7a-4302-b9eb-7c1161322076\",\"type\":\"Selection\"},\"selection_policy\":{\"id\":\"9ce62373-82a2-4ce4-a62b-67f801944faa\",\"type\":\"UnionRenderers\"}},\"id\":\"d196d466-ebd3-42eb-a957-7a8a605cde7e\",\"type\":\"ColumnDataSource\"},{\"attributes\":{\"source\":{\"id\":\"24b5fccd-055c-42fc-9bbd-3ce1add2355a\",\"type\":\"ColumnDataSource\"}},\"id\":\"acd9a887-57ff-44ea-8621-3fd1b9d2191c\",\"type\":\"CDSView\"},{\"attributes\":{\"line_alpha\":0.1,\"line_color\":\"#1f77b4\",\"line_width\":1.5,\"x\":{\"field\":\"x\"},\"y\":{\"field\":\"y\"}},\"id\":\"71e2918a-c583-452f-8405-328fb74a4c4d\",\"type\":\"Line\"},{\"attributes\":{\"overlay\":{\"id\":\"40c803d0-50b9-43c5-bb2d-19b5a2ea1272\",\"type\":\"BoxAnnotation\"}},\"id\":\"becb7a7a-4f18-400f-b3be-137a36fb8987\",\"type\":\"BoxZoomTool\"},{\"attributes\":{\"data_source\":{\"id\":\"90c8a79d-bd0f-405c-b1ce-6f0df6eb3791\",\"type\":\"ColumnDataSource\"},\"glyph\":{\"id\":\"17872c0d-bf32-428b-bd51-da7d7d3d0a87\",\"type\":\"Line\"},\"hover_glyph\":null,\"muted_glyph\":null,\"nonselection_glyph\":{\"id\":\"71e2918a-c583-452f-8405-328fb74a4c4d\",\"type\":\"Line\"},\"selection_glyph\":null,\"view\":{\"id\":\"ca7f395c-a984-49ea-84fa-53f549b3413b\",\"type\":\"CDSView\"}},\"id\":\"62ca6d26-950c-4685-8c5f-24ddb0be5296\",\"type\":\"GlyphRenderer\"},{\"attributes\":{},\"id\":\"e79a9cc6-4d40-47aa-8092-3ca05c30ad23\",\"type\":\"PanTool\"},{\"attributes\":{\"source\":{\"id\":\"90c8a79d-bd0f-405c-b1ce-6f0df6eb3791\",\"type\":\"ColumnDataSource\"}},\"id\":\"ca7f395c-a984-49ea-84fa-53f549b3413b\",\"type\":\"CDSView\"},{\"attributes\":{\"fill_alpha\":{\"value\":0.7},\"fill_color\":{\"value\":\"#984ea3\"},\"line_alpha\":{\"value\":0.7},\"line_color\":{\"value\":\"#984ea3\"},\"x\":{\"field\":\"x\"},\"y\":{\"field\":\"y\"}},\"id\":\"c3c696e8-bf75-438d-b982-ad70792a8afb\",\"type\":\"Square\"},{\"attributes\":{\"callback\":null,\"data\":{\"x\":{\"__ndarray__\":\"1rsUFvv8wb7awNtd8hTCvsQsOvOsQcK+qJhrdAJvwr6+wgCHJ5rCvmZxzgoBxMK+mg4+AIjswr5R3ZIAABPDvslUiCEyN8O+MNb21udZw748JMJQIHrDvul/0T0kmMO+iTFlvO6zw75HAQmnWdPDvqrXDuLzFsS+d3hTvnOlw77z5zFUwa7AvuWzAbhXB7O+SERBcVmloD69d4BBuZjLPk7nDC1wUeA+fmw7LDMp7T6eSQOSz1PxPq3RqgoCcu0+7ij2odBg5T6JNMPEE4LZPsMQ4C0uZsg+111uySCspz6/hTH/VySqvrC6GwIEOL2+IVuq4iWQw75l/n2gBVnGvp4+vmgEq8e+I6iJyVn/x77ifJSjagTHvgFidurmccS+VHfaOJDhwr6AM4gedF3FvpF+wrOkEMu+nTWAOQvO0b6JXaRfJKPdvp5j0+KdI/K+ywCZ8cBxAr/zSDqNGdwPv7TNFmDPlBe/2bQoDyoHHb9dYHKgqKwavwgIF9aa4P++beXDhMQNIT+bffNS5Mo6PwQKyv97cks/57w5kADeVz9m3Vz+dNliP8KWjEHb32s/dQy6mo6lcz8IcQMBUa16P8adpUBzkYE/FdI8bT2dhj/d6H+TT4qMP4sEpl72tZE/5p3QVX2hlT9C8WXNiAWaPz2CdwfzvZ4/M+Lb42AJoz/wmdsqMLemP7yF+67rg6o/xq8ehn2Trj8WfEtqSM6wP4cSLD6KZ7I/WTjWjkdHtD94nndKRXS2PzDvMCSW7rg/NKxgy4zDuz9MbUdomQC/PxauaxW0ecE/\",\"dtype\":\"float64\",\"shape\":[75]},\"y\":{\"__ndarray__\":\"GhExyth1ND/Sv8nbtpRIP2vylNV0PVE/aTum7souWD/At0SJ8fVgPw3Iuahxymc/MSNhhJWvcD/bTfBN02d3P2zb5nxnaoA/CD5h5MAGhz8NmeH1TyaQP+zrCsc9p5Y/LbKd76fGnz/bLW5ISEmmPww9YvTcQq8/JV2OstnstT8Er5Y7M8G+P0c+r3jqkcU/5h99k6ZBzj88bCIzFzjVP4enV8oyxN0//yH99nXg5D8qOpLLf0jtP5kqGJXUifQ/c9cS8kHP/D+/DpwzojQEQIEmwoanVwxA4lgXt9HgE0BSSZ2AJuIbQAMJih9jjiNA5q4l5INuK0AwTKYKRj0zQNv5fmq8/DpAaCJseHrtQkB/+zpwzoxKQM3MzMzMeFJAZmZmZmZqWEAAAAAAAFxeQM3MzMzMJmJAmpmZmZkfZUBmZmZmZhhoQDMzMzMzEWtAAAAAAAAKbkBmZmZmZoFwQM3MzMzM/XFAMzMzMzN6c0CamZmZmfZ0QAAAAAAAc3ZAZmZmZmbvd0DNzMzMzGt5QDMzMzMz6HpAmpmZmZlkfEAAAAAAAOF9QGZmZmZmXX9AZmZmZuZsgECamZmZGSuBQM3MzMxM6YFAAAAAAICngkAzMzMzs2WDQGZmZmbmI4RAmpmZmRnihEDNzMzMTKCFQAAAAACAXoZAMzMzM7Mch0BmZmZm5tqHQJqZmZkZmYhAzczMzExXiUAAAAAAgBWKQDMzMzOz04pAZmZmZuaRi0CamZmZGVCMQM3MzMxMDo1AAAAAAIDMjUAzMzMzs4qOQGZmZmbmSI9A\",\"dtype\":\"float64\",\"shape\":[75]}},\"selected\":{\"id\":\"a99b5d84-88ad-4fe8-9b9e-e8bb8606e306\",\"type\":\"Selection\"},\"selection_policy\":{\"id\":\"8ecca982-4aa1-462e-a608-cfe45ae20e78\",\"type\":\"UnionRenderers\"}},\"id\":\"1dedb954-d44c-4381-8f4c-b5b2ae2a8723\",\"type\":\"ColumnDataSource\"},{\"attributes\":{},\"id\":\"f4560e6e-93e3-420b-9b0e-25c6ba5cc653\",\"type\":\"LinearScale\"},{\"attributes\":{\"bottom_units\":\"screen\",\"fill_alpha\":{\"value\":0.5},\"fill_color\":{\"value\":\"lightgrey\"},\"left_units\":\"screen\",\"level\":\"overlay\",\"line_alpha\":{\"value\":1.0},\"line_color\":{\"value\":\"black\"},\"line_dash\":[4,4],\"line_width\":{\"value\":2},\"plot\":null,\"render_mode\":\"css\",\"right_units\":\"screen\",\"top_units\":\"screen\"},\"id\":\"40c803d0-50b9-43c5-bb2d-19b5a2ea1272\",\"type\":\"BoxAnnotation\"},{\"attributes\":{},\"id\":\"b9136600-f414-4a2d-8546-cded835e0b18\",\"type\":\"UnionRenderers\"},{\"attributes\":{},\"id\":\"a847f37e-b547-456e-8549-cb01914113b7\",\"type\":\"LinearScale\"},{\"attributes\":{},\"id\":\"d6a0fb93-1334-4514-8dd7-44167a2ba957\",\"type\":\"ResetTool\"},{\"attributes\":{\"fill_alpha\":{\"value\":0.1},\"fill_color\":{\"value\":\"#1f77b4\"},\"line_alpha\":{\"value\":0.1},\"line_color\":{\"value\":\"#1f77b4\"},\"x\":{\"field\":\"x\"},\"y\":{\"field\":\"y\"}},\"id\":\"fd6c1ba2-2a56-4309-92e4-3d05cedce095\",\"type\":\"Square\"},{\"attributes\":{\"data_source\":{\"id\":\"3700e48b-b4dc-432b-8ec3-75159f338063\",\"type\":\"ColumnDataSource\"},\"glyph\":{\"id\":\"c3c696e8-bf75-438d-b982-ad70792a8afb\",\"type\":\"Square\"},\"hover_glyph\":null,\"muted_glyph\":null,\"nonselection_glyph\":{\"id\":\"fd6c1ba2-2a56-4309-92e4-3d05cedce095\",\"type\":\"Square\"},\"selection_glyph\":null,\"view\":{\"id\":\"78e007df-ca1b-4067-9d6e-7b3c3b229b8d\",\"type\":\"CDSView\"}},\"id\":\"bfca3256-d44f-4549-86f8-eef5d6ca7e0c\",\"type\":\"GlyphRenderer\"},{\"attributes\":{},\"id\":\"14ed3982-aaf0-4474-8f70-559fbede85cb\",\"type\":\"BasicTickFormatter\"},{\"attributes\":{\"below\":[{\"id\":\"0951c296-eeee-4727-966e-b7cbe5a0dcec\",\"type\":\"LinearAxis\"}],\"left\":[{\"id\":\"83d545d0-17b0-474b-96c9-474ce2b145b8\",\"type\":\"LinearAxis\"}],\"plot_height\":500,\"plot_width\":400,\"renderers\":[{\"id\":\"0951c296-eeee-4727-966e-b7cbe5a0dcec\",\"type\":\"LinearAxis\"},{\"id\":\"31f1cc45-80f6-47eb-a9ff-f31d09cd9bf9\",\"type\":\"Grid\"},{\"id\":\"83d545d0-17b0-474b-96c9-474ce2b145b8\",\"type\":\"LinearAxis\"},{\"id\":\"2c1683f9-5028-4493-8940-c31df197c5ab\",\"type\":\"Grid\"},{\"id\":\"8b88687e-0b43-4f17-ad9d-5eeba64c6365\",\"type\":\"BoxAnnotation\"},{\"id\":\"d8c99acf-4924-4008-90dc-b5a5836f88df\",\"type\":\"GlyphRenderer\"},{\"id\":\"2c2ab306-9628-4ba5-9c6a-0f0e866e5199\",\"type\":\"GlyphRenderer\"},{\"id\":\"51c1ba8d-b124-472b-bc96-a3f91047c33f\",\"type\":\"GlyphRenderer\"},{\"id\":\"ef50367b-f3f7-4ce0-a5b1-500383ab2bee\",\"type\":\"GlyphRenderer\"},{\"id\":\"2916e52d-2590-49b6-b8d9-e57a85d2d51a\",\"type\":\"GlyphRenderer\"}],\"title\":{\"id\":\"5ddb81c8-c8d6-43c1-b7aa-d99dfb9295d8\",\"type\":\"Title\"},\"toolbar\":{\"id\":\"8b41ea3e-4dc7-496e-995e-8bfa3a5b7a5e\",\"type\":\"Toolbar\"},\"toolbar_location\":null,\"x_range\":{\"id\":\"f915b662-979c-4494-89e8-8d0942e3e228\",\"type\":\"Range1d\"},\"x_scale\":{\"id\":\"a847f37e-b547-456e-8549-cb01914113b7\",\"type\":\"LinearScale\"},\"y_range\":{\"id\":\"0d949512-8a8b-4e00-9bc4-c24d3b00defb\",\"type\":\"Range1d\"},\"y_scale\":{\"id\":\"f4560e6e-93e3-420b-9b0e-25c6ba5cc653\",\"type\":\"LinearScale\"}},\"id\":\"b9317b97-f881-48a9-a651-6ea6912f22cc\",\"subtype\":\"Figure\",\"type\":\"Plot\"},{\"attributes\":{\"label\":{\"value\":\"CLIRAD `coolr_bands`\"},\"renderers\":[{\"id\":\"c0c80bd5-a28d-40bd-a7d9-6beea627aaa8\",\"type\":\"GlyphRenderer\"}]},\"id\":\"ad43e098-0e1e-4b38-859f-a6d26838febf\",\"type\":\"LegendItem\"},{\"attributes\":{},\"id\":\"95d55187-2a7a-4302-b9eb-7c1161322076\",\"type\":\"Selection\"},{\"attributes\":{\"label\":{\"value\":\"CRD\"},\"renderers\":[{\"id\":\"3fbb1bd3-e296-47ee-9965-377f3465ed3c\",\"type\":\"GlyphRenderer\"},{\"id\":\"62ca6d26-950c-4685-8c5f-24ddb0be5296\",\"type\":\"GlyphRenderer\"}]},\"id\":\"28916b21-deae-438e-aef5-84052d7fc246\",\"type\":\"LegendItem\"},{\"attributes\":{},\"id\":\"9bf70143-e934-4d35-a785-1babefaf5522\",\"type\":\"BasicTicker\"},{\"attributes\":{},\"id\":\"9ce62373-82a2-4ce4-a62b-67f801944faa\",\"type\":\"UnionRenderers\"},{\"attributes\":{\"label\":{\"value\":\"WGT igg=10 wgt_flux=2\"},\"renderers\":[{\"id\":\"bfca3256-d44f-4549-86f8-eef5d6ca7e0c\",\"type\":\"GlyphRenderer\"},{\"id\":\"58e826f5-1ea6-4d8a-a7fb-58d375d752fa\",\"type\":\"GlyphRenderer\"}]},\"id\":\"f07a56c0-21cd-458e-aa37-c285327d24be\",\"type\":\"LegendItem\"},{\"attributes\":{\"callback\":null,\"end\":0.1386665171907,\"start\":-0.0015179162607},\"id\":\"f915b662-979c-4494-89e8-8d0942e3e228\",\"type\":\"Range1d\"},{\"attributes\":{\"fill_alpha\":{\"value\":0.1},\"fill_color\":{\"value\":\"#1f77b4\"},\"line_alpha\":{\"value\":0.1},\"line_color\":{\"value\":\"#1f77b4\"},\"x\":{\"field\":\"x\"},\"y\":{\"field\":\"y\"}},\"id\":\"dbc9c616-30f9-49ad-b7ba-0154853c7215\",\"type\":\"Circle\"},{\"attributes\":{},\"id\":\"7bf25901-7676-4b70-aef7-9177ac714ef7\",\"type\":\"UnionRenderers\"},{\"attributes\":{},\"id\":\"aedad36c-84ea-46db-9583-78468f904395\",\"type\":\"WheelZoomTool\"},{\"attributes\":{},\"id\":\"43673d0e-daf9-4c27-800e-0020700fd709\",\"type\":\"BasicTickFormatter\"},{\"attributes\":{\"data_source\":{\"id\":\"1dedb954-d44c-4381-8f4c-b5b2ae2a8723\",\"type\":\"ColumnDataSource\"},\"glyph\":{\"id\":\"90054094-a47d-4831-8fbb-c6e0f2c08f4e\",\"type\":\"Line\"},\"hover_glyph\":null,\"muted_glyph\":null,\"nonselection_glyph\":{\"id\":\"51156a90-6712-4b8d-8468-8e6d89c42a28\",\"type\":\"Line\"},\"selection_glyph\":null,\"view\":{\"id\":\"3b930f6e-f578-40c6-9418-1c773e8cf4da\",\"type\":\"CDSView\"}},\"id\":\"58e826f5-1ea6-4d8a-a7fb-58d375d752fa\",\"type\":\"GlyphRenderer\"},{\"attributes\":{},\"id\":\"78e901f4-b8e0-475f-b937-24a4c851b143\",\"type\":\"Selection\"},{\"attributes\":{\"dimension\":1,\"plot\":{\"id\":\"b9317b97-f881-48a9-a651-6ea6912f22cc\",\"subtype\":\"Figure\",\"type\":\"Plot\"},\"ticker\":{\"id\":\"461cd5ef-1499-4185-8cda-50fafa8a5cd1\",\"type\":\"BasicTicker\"}},\"id\":\"2c1683f9-5028-4493-8940-c31df197c5ab\",\"type\":\"Grid\"},{\"attributes\":{},\"id\":\"eb3387ea-d3f0-4ba8-b1d9-3f75963e1da2\",\"type\":\"BasicTickFormatter\"},{\"attributes\":{},\"id\":\"861a058b-7005-4c96-b307-37888b6fdf40\",\"type\":\"Selection\"},{\"attributes\":{},\"id\":\"469d8448-6186-4172-b1af-b2b23b84d31c\",\"type\":\"Selection\"},{\"attributes\":{},\"id\":\"9e37af55-aa45-48ec-9828-33da71b93acd\",\"type\":\"Selection\"},{\"attributes\":{},\"id\":\"1c8fdb22-8707-4998-9f2c-32d148aa11d2\",\"type\":\"UnionRenderers\"},{\"attributes\":{},\"id\":\"e79e3289-0d7b-477d-aba6-d92a5af64c4e\",\"type\":\"UnionRenderers\"},{\"attributes\":{},\"id\":\"3acf372b-e234-4ff5-a795-27a48bde2650\",\"type\":\"Selection\"},{\"attributes\":{\"active_drag\":\"auto\",\"active_inspect\":\"auto\",\"active_scroll\":\"auto\",\"active_tap\":\"auto\",\"tools\":[{\"id\":\"8820198e-088a-4071-8faa-a76a5d21a9a6\",\"type\":\"PanTool\"},{\"id\":\"9ca0abb6-48c8-4b72-91ba-b0b8b9c209fe\",\"type\":\"WheelZoomTool\"},{\"id\":\"cca39f08-885f-46de-ac6e-23ed29f9566c\",\"type\":\"BoxZoomTool\"},{\"id\":\"f0d48426-c3b6-4033-bc83-7b719cae7e2d\",\"type\":\"SaveTool\"},{\"id\":\"1187fc54-03f7-4800-a428-5e483c0b0da0\",\"type\":\"ResetTool\"},{\"id\":\"de0d5df4-e38f-43d5-8165-a267f5372868\",\"type\":\"HelpTool\"}]},\"id\":\"8b41ea3e-4dc7-496e-995e-8bfa3a5b7a5e\",\"type\":\"Toolbar\"},{\"attributes\":{\"line_alpha\":0.6,\"line_color\":\"#e41a1c\",\"line_dash\":[6],\"line_width\":5,\"x\":{\"field\":\"x\"},\"y\":{\"field\":\"y\"}},\"id\":\"09d32dce-c4b1-4114-949b-a11c123df22d\",\"type\":\"Line\"},{\"attributes\":{},\"id\":\"bc04689e-d307-43ef-9f45-d06fc8d2a7b7\",\"type\":\"UnionRenderers\"},{\"attributes\":{\"plot\":null,\"text\":\"Linear pressure scale\"},\"id\":\"5ddb81c8-c8d6-43c1-b7aa-d99dfb9295d8\",\"type\":\"Title\"},{\"attributes\":{},\"id\":\"7d9545c2-9833-46d8-8120-5948692ba31d\",\"type\":\"UnionRenderers\"},{\"attributes\":{\"below\":[{\"id\":\"6dae411c-3126-4ac5-aa3c-b9aed0bd21bd\",\"type\":\"LinearAxis\"}],\"left\":[{\"id\":\"0c920ffc-3e8d-4517-859d-42e000b08cac\",\"type\":\"LogAxis\"}],\"plot_height\":500,\"plot_width\":560,\"renderers\":[{\"id\":\"6dae411c-3126-4ac5-aa3c-b9aed0bd21bd\",\"type\":\"LinearAxis\"},{\"id\":\"31adf6bd-d93a-45d2-b432-c27b51ca871e\",\"type\":\"Grid\"},{\"id\":\"0c920ffc-3e8d-4517-859d-42e000b08cac\",\"type\":\"LogAxis\"},{\"id\":\"cd93b64c-25d3-406e-9377-d024a9affa63\",\"type\":\"Grid\"},{\"id\":\"40c803d0-50b9-43c5-bb2d-19b5a2ea1272\",\"type\":\"BoxAnnotation\"},{\"id\":\"c0c80bd5-a28d-40bd-a7d9-6beea627aaa8\",\"type\":\"GlyphRenderer\"},{\"id\":\"3fbb1bd3-e296-47ee-9965-377f3465ed3c\",\"type\":\"GlyphRenderer\"},{\"id\":\"62ca6d26-950c-4685-8c5f-24ddb0be5296\",\"type\":\"GlyphRenderer\"},{\"id\":\"bfca3256-d44f-4549-86f8-eef5d6ca7e0c\",\"type\":\"GlyphRenderer\"},{\"id\":\"58e826f5-1ea6-4d8a-a7fb-58d375d752fa\",\"type\":\"GlyphRenderer\"},{\"id\":\"908c1828-db59-457f-a6ea-acb020d068e9\",\"type\":\"Legend\"}],\"right\":[{\"id\":\"908c1828-db59-457f-a6ea-acb020d068e9\",\"type\":\"Legend\"}],\"title\":{\"id\":\"2fea53e1-9bf0-4fdb-9067-911032a986dc\",\"type\":\"Title\"},\"toolbar\":{\"id\":\"f8136d4b-e91a-49d5-8ab1-40f3d4226a68\",\"type\":\"Toolbar\"},\"toolbar_location\":null,\"x_range\":{\"id\":\"fce95fef-098b-4ed4-b8c5-f00a1f68c942\",\"type\":\"Range1d\"},\"x_scale\":{\"id\":\"575f8aaa-239b-4d67-b297-16d72987464f\",\"type\":\"LinearScale\"},\"y_range\":{\"id\":\"2933bb88-baff-4034-82cb-3818f528d4c8\",\"type\":\"Range1d\"},\"y_scale\":{\"id\":\"ced8062d-77f3-43f8-ba97-2b6e864b3deb\",\"type\":\"LogScale\"}},\"id\":\"9192a6d5-78f1-48a6-bc4d-1b58158ba1ac\",\"subtype\":\"Figure\",\"type\":\"Plot\"},{\"attributes\":{\"ticker\":null},\"id\":\"8d12d086-0367-4a0e-9d48-846cce1c135c\",\"type\":\"LogTickFormatter\"},{\"attributes\":{\"line_alpha\":0.1,\"line_color\":\"#1f77b4\",\"line_dash\":[6],\"line_width\":5,\"x\":{\"field\":\"x\"},\"y\":{\"field\":\"y\"}},\"id\":\"a4a84287-5984-49fa-8217-a93dfe6733fd\",\"type\":\"Line\"},{\"attributes\":{\"line_alpha\":0.1,\"line_color\":\"#1f77b4\",\"line_width\":3,\"x\":{\"field\":\"x\"},\"y\":{\"field\":\"y\"}},\"id\":\"51156a90-6712-4b8d-8468-8e6d89c42a28\",\"type\":\"Line\"},{\"attributes\":{\"line_alpha\":0.6,\"line_color\":\"#e41a1c\",\"line_dash\":[6],\"line_width\":5,\"x\":{\"field\":\"x\"},\"y\":{\"field\":\"y\"}},\"id\":\"dc9e5a52-c9f8-4e55-8742-8111f615a666\",\"type\":\"Line\"},{\"attributes\":{},\"id\":\"5be18cbb-fdb1-4fd8-b3f6-c6a459a1d103\",\"type\":\"Selection\"},{\"attributes\":{},\"id\":\"ee1ee3db-00fb-472b-8cbf-286b2d213021\",\"type\":\"UnionRenderers\"},{\"attributes\":{},\"id\":\"f68480da-cb29-4433-a96c-6b71bbc40fab\",\"type\":\"Selection\"},{\"attributes\":{\"children\":[{\"id\":\"b9317b97-f881-48a9-a651-6ea6912f22cc\",\"subtype\":\"Figure\",\"type\":\"Plot\"},{\"id\":\"9192a6d5-78f1-48a6-bc4d-1b58158ba1ac\",\"subtype\":\"Figure\",\"type\":\"Plot\"}]},\"id\":\"c7830640-c321-4967-8dd4-1ffc76eeeb1d\",\"type\":\"Row\"},{\"attributes\":{\"axis_label\":\"cooling rate [K/day]\",\"formatter\":{\"id\":\"43673d0e-daf9-4c27-800e-0020700fd709\",\"type\":\"BasicTickFormatter\"},\"plot\":{\"id\":\"b9317b97-f881-48a9-a651-6ea6912f22cc\",\"subtype\":\"Figure\",\"type\":\"Plot\"},\"ticker\":{\"id\":\"f48b4ec5-9583-4bb4-b030-585e52b18c55\",\"type\":\"BasicTicker\"}},\"id\":\"0951c296-eeee-4727-966e-b7cbe5a0dcec\",\"type\":\"LinearAxis\"},{\"attributes\":{},\"id\":\"5282e2cc-f567-4f3b-bb50-73823d6e7981\",\"type\":\"Selection\"},{\"attributes\":{},\"id\":\"a99b5d84-88ad-4fe8-9b9e-e8bb8606e306\",\"type\":\"Selection\"},{\"attributes\":{\"toolbar\":{\"id\":\"daded12b-2727-4e56-97fe-c1d594a2e749\",\"type\":\"ProxyToolbar\"},\"toolbar_location\":\"above\"},\"id\":\"a56aa749-6437-4dcf-bf2a-2c8e3f32311e\",\"type\":\"ToolbarBox\"},{\"attributes\":{},\"id\":\"3a5e8d7b-4449-43e1-83a9-f0f7ee6b6945\",\"type\":\"UnionRenderers\"},{\"attributes\":{\"children\":[{\"id\":\"a56aa749-6437-4dcf-bf2a-2c8e3f32311e\",\"type\":\"ToolbarBox\"},{\"id\":\"dee41832-1643-4f9e-9af3-65ad2e56ac0d\",\"type\":\"Column\"}]},\"id\":\"c3525b20-423e-43a4-ac14-1991db5e84c7\",\"type\":\"Column\"},{\"attributes\":{},\"id\":\"8ecca982-4aa1-462e-a608-cfe45ae20e78\",\"type\":\"UnionRenderers\"},{\"attributes\":{\"axis_label\":\"pressure [mb]\",\"formatter\":{\"id\":\"14ed3982-aaf0-4474-8f70-559fbede85cb\",\"type\":\"BasicTickFormatter\"},\"plot\":{\"id\":\"b9317b97-f881-48a9-a651-6ea6912f22cc\",\"subtype\":\"Figure\",\"type\":\"Plot\"},\"ticker\":{\"id\":\"461cd5ef-1499-4185-8cda-50fafa8a5cd1\",\"type\":\"BasicTicker\"}},\"id\":\"83d545d0-17b0-474b-96c9-474ce2b145b8\",\"type\":\"LinearAxis\"},{\"attributes\":{},\"id\":\"575f8aaa-239b-4d67-b297-16d72987464f\",\"type\":\"LinearScale\"},{\"attributes\":{\"tools\":[{\"id\":\"8820198e-088a-4071-8faa-a76a5d21a9a6\",\"type\":\"PanTool\"},{\"id\":\"9ca0abb6-48c8-4b72-91ba-b0b8b9c209fe\",\"type\":\"WheelZoomTool\"},{\"id\":\"cca39f08-885f-46de-ac6e-23ed29f9566c\",\"type\":\"BoxZoomTool\"},{\"id\":\"f0d48426-c3b6-4033-bc83-7b719cae7e2d\",\"type\":\"SaveTool\"},{\"id\":\"1187fc54-03f7-4800-a428-5e483c0b0da0\",\"type\":\"ResetTool\"},{\"id\":\"de0d5df4-e38f-43d5-8165-a267f5372868\",\"type\":\"HelpTool\"},{\"id\":\"e79a9cc6-4d40-47aa-8092-3ca05c30ad23\",\"type\":\"PanTool\"},{\"id\":\"aedad36c-84ea-46db-9583-78468f904395\",\"type\":\"WheelZoomTool\"},{\"id\":\"becb7a7a-4f18-400f-b3be-137a36fb8987\",\"type\":\"BoxZoomTool\"},{\"id\":\"ce0c37f2-9aae-4d2a-b8d3-4265f175eb8c\",\"type\":\"SaveTool\"},{\"id\":\"d6a0fb93-1334-4514-8dd7-44167a2ba957\",\"type\":\"ResetTool\"},{\"id\":\"98511ef6-655d-42aa-b40a-ea22fbb2cc26\",\"type\":\"HelpTool\"}]},\"id\":\"daded12b-2727-4e56-97fe-c1d594a2e749\",\"type\":\"ProxyToolbar\"},{\"attributes\":{\"children\":[{\"id\":\"c7830640-c321-4967-8dd4-1ffc76eeeb1d\",\"type\":\"Row\"}]},\"id\":\"dee41832-1643-4f9e-9af3-65ad2e56ac0d\",\"type\":\"Column\"},{\"attributes\":{},\"id\":\"f48b4ec5-9583-4bb4-b030-585e52b18c55\",\"type\":\"BasicTicker\"}],\"root_ids\":[\"c3525b20-423e-43a4-ac14-1991db5e84c7\"]},\"title\":\"Bokeh Application\",\"version\":\"0.12.16\"}};\n",
       "  var render_items = [{\"docid\":\"706a6a0d-1c36-4cba-9fff-638761683c57\",\"elementid\":\"6860aafb-4faf-4f7c-a55f-5b261b512198\",\"modelid\":\"c3525b20-423e-43a4-ac14-1991db5e84c7\"}];\n",
       "  root.Bokeh.embed.embed_items_notebook(docs_json, render_items);\n",
       "\n",
       "  }\n",
       "  if (root.Bokeh !== undefined) {\n",
       "    embed_document(root);\n",
       "  } else {\n",
       "    var attempts = 0;\n",
       "    var timer = setInterval(function(root) {\n",
       "      if (root.Bokeh !== undefined) {\n",
       "        embed_document(root);\n",
       "        clearInterval(timer);\n",
       "      }\n",
       "      attempts++;\n",
       "      if (attempts > 100) {\n",
       "        console.log(\"Bokeh: ERROR: Unable to run BokehJS code because BokehJS library is missing\")\n",
       "        clearInterval(timer);\n",
       "      }\n",
       "    }, 10, root)\n",
       "  }\n",
       "})(window);"
      ],
      "application/vnd.bokehjs_exec.v0+json": ""
     },
     "metadata": {
      "application/vnd.bokehjs_exec.v0+json": {
       "id": "c3525b20-423e-43a4-ac14-1991db5e84c7"
      }
     },
     "output_type": "display_data"
    },
    {
     "name": "stdout",
     "output_type": "stream",
     "text": [
      "FIGURE. Cooling rate profiles.\n"
     ]
    },
    {
     "data": {
      "text/html": [
       "<a id=\"Flux_Comparison\"></a>"
      ],
      "text/plain": [
       "<IPython.core.display.HTML object>"
      ]
     },
     "metadata": {},
     "output_type": "display_data"
    },
    {
     "data": {
      "text/markdown": [
       "# Flux Comparison"
      ],
      "text/plain": [
       "<IPython.core.display.Markdown object>"
      ]
     },
     "metadata": {},
     "output_type": "display_data"
    },
    {
     "data": {
      "text/html": [
       "<div>\n",
       "<style scoped>\n",
       "    .dataframe tbody tr th:only-of-type {\n",
       "        vertical-align: middle;\n",
       "    }\n",
       "\n",
       "    .dataframe tbody tr th {\n",
       "        vertical-align: top;\n",
       "    }\n",
       "\n",
       "    .dataframe thead th {\n",
       "        text-align: right;\n",
       "    }\n",
       "</style>\n",
       "<table border=\"1\" class=\"dataframe\">\n",
       "  <thead>\n",
       "    <tr style=\"text-align: right;\">\n",
       "      <th></th>\n",
       "      <th></th>\n",
       "      <th>flug</th>\n",
       "      <th>fldg</th>\n",
       "      <th>fnetg</th>\n",
       "    </tr>\n",
       "    <tr>\n",
       "      <th>pressure</th>\n",
       "      <th>level</th>\n",
       "      <th></th>\n",
       "      <th></th>\n",
       "      <th></th>\n",
       "    </tr>\n",
       "  </thead>\n",
       "  <tbody>\n",
       "    <tr>\n",
       "      <th>0.0000</th>\n",
       "      <th>1</th>\n",
       "      <td>-33.973919</td>\n",
       "      <td>0.000000</td>\n",
       "      <td>-33.973919</td>\n",
       "    </tr>\n",
       "    <tr>\n",
       "      <th>1.0685</th>\n",
       "      <th>24</th>\n",
       "      <td>-33.973919</td>\n",
       "      <td>0.000003</td>\n",
       "      <td>-33.973916</td>\n",
       "    </tr>\n",
       "    <tr>\n",
       "      <th>1013.0000</th>\n",
       "      <th>76</th>\n",
       "      <td>-34.728642</td>\n",
       "      <td>3.756388</td>\n",
       "      <td>-30.972254</td>\n",
       "    </tr>\n",
       "  </tbody>\n",
       "</table>\n",
       "</div>"
      ],
      "text/plain": [
       "                      flug      fldg      fnetg\n",
       "pressure  level                                \n",
       "0.0000    1     -33.973919  0.000000 -33.973919\n",
       "1.0685    24    -33.973919  0.000003 -33.973916\n",
       "1013.0000 76    -34.728642  3.756388 -30.972254"
      ]
     },
     "metadata": {},
     "output_type": "display_data"
    },
    {
     "name": "stdout",
     "output_type": "stream",
     "text": [
      "Table. Fluxes. CRD\n"
     ]
    },
    {
     "data": {
      "text/html": [
       "<div>\n",
       "<style scoped>\n",
       "    .dataframe tbody tr th:only-of-type {\n",
       "        vertical-align: middle;\n",
       "    }\n",
       "\n",
       "    .dataframe tbody tr th {\n",
       "        vertical-align: top;\n",
       "    }\n",
       "\n",
       "    .dataframe thead th {\n",
       "        text-align: right;\n",
       "    }\n",
       "</style>\n",
       "<table border=\"1\" class=\"dataframe\">\n",
       "  <thead>\n",
       "    <tr style=\"text-align: right;\">\n",
       "      <th></th>\n",
       "      <th></th>\n",
       "      <th>flug</th>\n",
       "      <th>fldg</th>\n",
       "      <th>fnetg</th>\n",
       "    </tr>\n",
       "    <tr>\n",
       "      <th>pressure</th>\n",
       "      <th>level</th>\n",
       "      <th></th>\n",
       "      <th></th>\n",
       "      <th></th>\n",
       "    </tr>\n",
       "  </thead>\n",
       "  <tbody>\n",
       "    <tr>\n",
       "      <th>0.0000</th>\n",
       "      <th>1</th>\n",
       "      <td>-34.003178</td>\n",
       "      <td>0.000000</td>\n",
       "      <td>-34.003178</td>\n",
       "    </tr>\n",
       "    <tr>\n",
       "      <th>1.0685</th>\n",
       "      <th>24</th>\n",
       "      <td>-34.003178</td>\n",
       "      <td>0.000002</td>\n",
       "      <td>-34.003177</td>\n",
       "    </tr>\n",
       "    <tr>\n",
       "      <th>1013.0000</th>\n",
       "      <th>76</th>\n",
       "      <td>-34.728642</td>\n",
       "      <td>3.845306</td>\n",
       "      <td>-30.883335</td>\n",
       "    </tr>\n",
       "  </tbody>\n",
       "</table>\n",
       "</div>"
      ],
      "text/plain": [
       "                      flug      fldg      fnetg\n",
       "pressure  level                                \n",
       "0.0000    1     -34.003178  0.000000 -34.003178\n",
       "1.0685    24    -34.003178  0.000002 -34.003177\n",
       "1013.0000 76    -34.728642  3.845306 -30.883335"
      ]
     },
     "metadata": {},
     "output_type": "display_data"
    },
    {
     "name": "stdout",
     "output_type": "stream",
     "text": [
      "Table. Fluxes. WGT igg=10 wgt_flux=1\n"
     ]
    },
    {
     "data": {
      "text/html": [
       "<div>\n",
       "<style scoped>\n",
       "    .dataframe tbody tr th:only-of-type {\n",
       "        vertical-align: middle;\n",
       "    }\n",
       "\n",
       "    .dataframe tbody tr th {\n",
       "        vertical-align: top;\n",
       "    }\n",
       "\n",
       "    .dataframe thead th {\n",
       "        text-align: right;\n",
       "    }\n",
       "</style>\n",
       "<table border=\"1\" class=\"dataframe\">\n",
       "  <thead>\n",
       "    <tr style=\"text-align: right;\">\n",
       "      <th></th>\n",
       "      <th></th>\n",
       "      <th>flug</th>\n",
       "      <th>fldg</th>\n",
       "      <th>fnetg</th>\n",
       "    </tr>\n",
       "    <tr>\n",
       "      <th>pressure</th>\n",
       "      <th>level</th>\n",
       "      <th></th>\n",
       "      <th></th>\n",
       "      <th></th>\n",
       "    </tr>\n",
       "  </thead>\n",
       "  <tbody>\n",
       "    <tr>\n",
       "      <th>1.000000e-08</th>\n",
       "      <th>1</th>\n",
       "      <td>-34.013677</td>\n",
       "      <td>0.000002</td>\n",
       "      <td>-34.013676</td>\n",
       "    </tr>\n",
       "    <tr>\n",
       "      <th>1.068500e+00</th>\n",
       "      <th>24</th>\n",
       "      <td>-34.013678</td>\n",
       "      <td>0.000003</td>\n",
       "      <td>-34.013675</td>\n",
       "    </tr>\n",
       "    <tr>\n",
       "      <th>1.013000e+03</th>\n",
       "      <th>76</th>\n",
       "      <td>-34.728640</td>\n",
       "      <td>3.839783</td>\n",
       "      <td>-30.888857</td>\n",
       "    </tr>\n",
       "  </tbody>\n",
       "</table>\n",
       "</div>"
      ],
      "text/plain": [
       "                         flug      fldg      fnetg\n",
       "pressure     level                                \n",
       "1.000000e-08 1     -34.013677  0.000002 -34.013676\n",
       "1.068500e+00 24    -34.013678  0.000003 -34.013675\n",
       "1.013000e+03 76    -34.728640  3.839783 -30.888857"
      ]
     },
     "metadata": {},
     "output_type": "display_data"
    },
    {
     "name": "stdout",
     "output_type": "stream",
     "text": [
      "Table. Fluxes. CLIRAD\n"
     ]
    },
    {
     "data": {
      "text/html": [
       "<div>\n",
       "<style scoped>\n",
       "    .dataframe tbody tr th:only-of-type {\n",
       "        vertical-align: middle;\n",
       "    }\n",
       "\n",
       "    .dataframe tbody tr th {\n",
       "        vertical-align: top;\n",
       "    }\n",
       "\n",
       "    .dataframe thead th {\n",
       "        text-align: right;\n",
       "    }\n",
       "</style>\n",
       "<table border=\"1\" class=\"dataframe\">\n",
       "  <thead>\n",
       "    <tr style=\"text-align: right;\">\n",
       "      <th></th>\n",
       "      <th></th>\n",
       "      <th>flug</th>\n",
       "      <th>fldg</th>\n",
       "      <th>fnetg</th>\n",
       "    </tr>\n",
       "    <tr>\n",
       "      <th>pressure</th>\n",
       "      <th>level</th>\n",
       "      <th></th>\n",
       "      <th></th>\n",
       "      <th></th>\n",
       "    </tr>\n",
       "  </thead>\n",
       "  <tbody>\n",
       "    <tr>\n",
       "      <th>0.0000</th>\n",
       "      <th>1</th>\n",
       "      <td>-2.925870e-02</td>\n",
       "      <td>0.000000</td>\n",
       "      <td>-0.029259</td>\n",
       "    </tr>\n",
       "    <tr>\n",
       "      <th>1.0685</th>\n",
       "      <th>24</th>\n",
       "      <td>-2.925915e-02</td>\n",
       "      <td>-0.000001</td>\n",
       "      <td>-0.029261</td>\n",
       "    </tr>\n",
       "    <tr>\n",
       "      <th>1013.0000</th>\n",
       "      <th>76</th>\n",
       "      <td>2.500000e-07</td>\n",
       "      <td>0.088918</td>\n",
       "      <td>0.088919</td>\n",
       "    </tr>\n",
       "  </tbody>\n",
       "</table>\n",
       "</div>"
      ],
      "text/plain": [
       "                         flug      fldg     fnetg\n",
       "pressure  level                                  \n",
       "0.0000    1     -2.925870e-02  0.000000 -0.029259\n",
       "1.0685    24    -2.925915e-02 -0.000001 -0.029261\n",
       "1013.0000 76     2.500000e-07  0.088918  0.088919"
      ]
     },
     "metadata": {},
     "output_type": "display_data"
    },
    {
     "name": "stdout",
     "output_type": "stream",
     "text": [
      "Table. Fluxes. (WGT igg=10 wgt_flux=1) - (CRD)\n"
     ]
    },
    {
     "data": {
      "text/html": [
       "<div>\n",
       "<style scoped>\n",
       "    .dataframe tbody tr th:only-of-type {\n",
       "        vertical-align: middle;\n",
       "    }\n",
       "\n",
       "    .dataframe tbody tr th {\n",
       "        vertical-align: top;\n",
       "    }\n",
       "\n",
       "    .dataframe thead th {\n",
       "        text-align: right;\n",
       "    }\n",
       "</style>\n",
       "<table border=\"1\" class=\"dataframe\">\n",
       "  <thead>\n",
       "    <tr style=\"text-align: right;\">\n",
       "      <th></th>\n",
       "      <th></th>\n",
       "      <th>flug</th>\n",
       "      <th>fldg</th>\n",
       "      <th>fnetg</th>\n",
       "    </tr>\n",
       "    <tr>\n",
       "      <th>pressure</th>\n",
       "      <th>level</th>\n",
       "      <th></th>\n",
       "      <th></th>\n",
       "      <th></th>\n",
       "    </tr>\n",
       "  </thead>\n",
       "  <tbody>\n",
       "    <tr>\n",
       "      <th>0.0000</th>\n",
       "      <th>1</th>\n",
       "      <td>-0.039758</td>\n",
       "      <td>1.865195e-06</td>\n",
       "      <td>-0.039757</td>\n",
       "    </tr>\n",
       "    <tr>\n",
       "      <th>1.0685</th>\n",
       "      <th>24</th>\n",
       "      <td>-0.039759</td>\n",
       "      <td>2.938150e-08</td>\n",
       "      <td>-0.039759</td>\n",
       "    </tr>\n",
       "    <tr>\n",
       "      <th>1013.0000</th>\n",
       "      <th>76</th>\n",
       "      <td>0.000002</td>\n",
       "      <td>8.339480e-02</td>\n",
       "      <td>0.083397</td>\n",
       "    </tr>\n",
       "  </tbody>\n",
       "</table>\n",
       "</div>"
      ],
      "text/plain": [
       "                     flug          fldg     fnetg\n",
       "pressure  level                                  \n",
       "0.0000    1     -0.039758  1.865195e-06 -0.039757\n",
       "1.0685    24    -0.039759  2.938150e-08 -0.039759\n",
       "1013.0000 76     0.000002  8.339480e-02  0.083397"
      ]
     },
     "metadata": {},
     "output_type": "display_data"
    },
    {
     "name": "stdout",
     "output_type": "stream",
     "text": [
      "Table. Fluxes. (CLIRAD) - (CRD)\n"
     ]
    },
    {
     "data": {
      "text/html": [
       "<a id=\"Best-fit_Parameters\"></a>"
      ],
      "text/plain": [
       "<IPython.core.display.HTML object>"
      ]
     },
     "metadata": {},
     "output_type": "display_data"
    },
    {
     "data": {
      "text/markdown": [
       "# Best-fit Parameters"
      ],
      "text/plain": [
       "<IPython.core.display.Markdown object>"
      ]
     },
     "metadata": {},
     "output_type": "display_data"
    },
    {
     "name": "stdout",
     "output_type": "stream",
     "text": [
      "Best-fit values for each (gas, band)\n",
      "------------------------------------\n",
      "o h2o band5\n",
      "  atmpro = mls\n",
      "  band = 5\n",
      "  commitnumber = a06b618\n",
      "  conc = None\n",
      "  dv = 0.001\n",
      "  klin = 1e-24\n",
      "  molecule = h2o\n",
      "  ng_adju = [0]\n",
      "  ng_refs = [3]\n",
      "  nv = 1000\n",
      "  option_compute_btable = 0\n",
      "  option_compute_ktable = 1\n",
      "  option_wgt_flux = 1\n",
      "  option_wgt_k = 1\n",
      "  ref_pts = [(600, 250)]\n",
      "  tsfc = 294\n",
      "  vmax = 1100\n",
      "  vmin = 980\n",
      "  w_diffuse = [(1.66, 1.66, 1.8)]\n",
      "  wgt = [(0.5, 0.55, 0.9)]\n"
     ]
    }
   ],
   "source": [
    "script()"
   ]
  },
  {
   "cell_type": "code",
   "execution_count": 13,
   "metadata": {
    "collapsed": true
   },
   "outputs": [
    {
     "data": {
      "text/html": [
       "<script>\n",
       "code_show=true; \n",
       "function code_toggle() {\n",
       " if (code_show){\n",
       " $('div.input').hide();\n",
       " } else {\n",
       " $('div.input').show();\n",
       " }\n",
       " code_show = !code_show\n",
       "} \n",
       "$( document ).ready(code_toggle);\n",
       "</script>\n",
       "<form action=\"javascript:code_toggle()\"><input type=\"submit\" value=\"Click here to toggle on/off the raw code.\"></form>"
      ],
      "text/plain": [
       "<IPython.core.display.HTML object>"
      ]
     },
     "execution_count": 13,
     "metadata": {},
     "output_type": "execute_result"
    }
   ],
   "source": [
    "display.HTML('''<script>\n",
    "code_show=true; \n",
    "function code_toggle() {\n",
    " if (code_show){\n",
    " $('div.input').hide();\n",
    " } else {\n",
    " $('div.input').show();\n",
    " }\n",
    " code_show = !code_show\n",
    "} \n",
    "$( document ).ready(code_toggle);\n",
    "</script>\n",
    "<form action=\"javascript:code_toggle()\"><input type=\"submit\" value=\"Click here to toggle on/off the raw code.\"></form>''')"
   ]
  }
 ],
 "metadata": {
  "kernelspec": {
   "display_name": "Python 3",
   "language": "python",
   "name": "python3"
  },
  "language_info": {
   "codemirror_mode": {
    "name": "ipython",
    "version": 3
   },
   "file_extension": ".py",
   "mimetype": "text/x-python",
   "name": "python",
   "nbconvert_exporter": "python",
   "pygments_lexer": "ipython3",
   "version": "3.6.1"
  }
 },
 "nbformat": 4,
 "nbformat_minor": 2
}
