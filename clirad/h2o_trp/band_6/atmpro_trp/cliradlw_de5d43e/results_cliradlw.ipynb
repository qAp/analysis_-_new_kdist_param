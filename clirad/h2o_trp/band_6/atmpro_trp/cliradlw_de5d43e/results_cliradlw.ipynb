{
 "cells": [
  {
   "cell_type": "code",
   "execution_count": 1,
   "metadata": {
    "collapsed": true
   },
   "outputs": [
    {
     "name": "stdout",
     "output_type": "stream",
     "text": [
      "The history saving thread hit an unexpected error (OperationalError('database is locked',)).History will not be written to the database.\n"
     ]
    }
   ],
   "source": [
    "%matplotlib inline\n",
    "import os\n",
    "import re\n",
    "import io\n",
    "import itertools\n",
    "import pprint\n",
    "\n",
    "from bokeh.io import output_notebook, show\n",
    "from bokeh.layouts import gridplot\n",
    "from bokeh.plotting import figure\n",
    "from bokeh.models import Range1d, Legend\n",
    "from bokeh.palettes import all_palettes\n",
    "\n",
    "import matplotlib\n",
    "import matplotlib.pyplot as plt\n",
    "import numpy as np\n",
    "import pandas as pd\n",
    "import xarray as xr\n",
    "\n",
    "import climatools.lblnew.bestfit_params as bestfits\n",
    "from climatools.lblnew import setup_bestfit, setup_overlap\n",
    "import climatools.lblnew.pipeline as pipe_lblnew\n",
    "import climatools.cliradlw.setup as setup_cliradlw\n",
    "import climatools.cliradlw.pipeline as pipe_cliradlw\n",
    "\n",
    "import climatools.html.html as climahtml\n",
    "from climatools.lblnew.dataio import *\n",
    "from climatools.plot.plot import *\n",
    "\n",
    "\n",
    "import IPython.display as display"
   ]
  },
  {
   "cell_type": "code",
   "execution_count": 2,
   "metadata": {
    "collapsed": true
   },
   "outputs": [],
   "source": [
    "%run param.py"
   ]
  },
  {
   "cell_type": "code",
   "execution_count": 3,
   "metadata": {
    "collapsed": true
   },
   "outputs": [],
   "source": [
    "def load_output_file(path_csv):\n",
    "    '''\n",
    "    Load lblnew output .csv file to xarray.Dataset\n",
    "    \n",
    "    Parameters\n",
    "    ----------\n",
    "    path_csv: str\n",
    "              Path to the .csv file to be loaded.\n",
    "    ds: xarray.Dataset\n",
    "        Data in the input file in the form of an xarray.Dataset.\n",
    "    '''\n",
    "    toindex = ['band', 'pressure', 'igg', 'g']    \n",
    "    df = pd.read_csv(path_csv, sep=r'\\s+')\n",
    "    df = df.set_index([i for i in toindex if i in df.columns])\n",
    "    df = df.rename(columns={'sfu': 'flug',\n",
    "                            'sfd': 'fldg',\n",
    "                            'fnet': 'fnetg',\n",
    "                            'coolr': 'coolrg'})\n",
    "    ds = xr.Dataset.from_dataframe(df)\n",
    "\n",
    "    for l in ('level', 'layer'):\n",
    "        if l in ds.data_vars:\n",
    "            if len(ds[l].dims) > 1:\n",
    "                surface = {d: 0 for d in ds.dims if d != 'pressure'}\n",
    "                coord_level = ds[l][surface]\n",
    "                ds.coords[l] = ('pressure', coord_level)\n",
    "            else:\n",
    "                ds.coords[l] = ('pressure', ds[l])\n",
    "    \n",
    "    return ds"
   ]
  },
  {
   "cell_type": "code",
   "execution_count": 4,
   "metadata": {
    "collapsed": true
   },
   "outputs": [],
   "source": [
    "def lblnew_setup(param=None):\n",
    "    if 'ng_refs' in param:\n",
    "        return {'setup': setup_bestfit,\n",
    "                'fname_flux_crd': 'output_flux.dat',\n",
    "                'fname_cool_crd': 'output_coolr.dat',\n",
    "                'fname_flux_wgt': 'output_wfluxg.dat',\n",
    "                'fname_cool_wgt': 'output_wcoolrg.dat'}\n",
    "    else:\n",
    "        return {'setup': setup_overlap,\n",
    "                'fname_flux_crd': 'output_flux.dat',\n",
    "                'fname_cool_crd': 'output_coolr.dat',\n",
    "                'fname_flux_wgt': 'output_wflux.dat',\n",
    "                'fname_cool_wgt': 'output_wcoolr.dat'}\n",
    "\n",
    "    \n",
    "def load_lblnew_data(param):\n",
    "    \n",
    "    fname_dsname = [('fname_flux_crd', 'ds_flux_crd'),\n",
    "                    ('fname_cool_crd', 'ds_cool_crd'),\n",
    "                    ('fname_flux_wgt', 'ds_flux_wgt'),\n",
    "                    ('fname_cool_wgt', 'ds_cool_wgt')]\n",
    "    \n",
    "    d = lblnew_setup(param)\n",
    "    dir_fortran = pipe_lblnew.get_dir_case(param, setup=d['setup'])\n",
    "    \n",
    "    data_dict = {}\n",
    "    for fname, dsname in fname_dsname:\n",
    "        fpath = os.path.join(dir_fortran, d[fname])\n",
    "        data_dict[dsname] = load_output_file(fpath)\n",
    "    return data_dict\n",
    "    \n",
    "\n",
    "    \n",
    "    "
   ]
  },
  {
   "cell_type": "code",
   "execution_count": 5,
   "metadata": {
    "collapsed": true
   },
   "outputs": [],
   "source": [
    "d = load_lblnew_data(PARAM_LBLNEW)\n",
    "\n",
    "DS_FLUX_CRD = d['ds_flux_crd']\n",
    "DS_COOL_CRD = d['ds_cool_crd']\n",
    "DS_FLUX_WGT = d['ds_flux_wgt']\n",
    "DS_COOL_WGT = d['ds_cool_wgt']"
   ]
  },
  {
   "cell_type": "code",
   "execution_count": 6,
   "metadata": {
    "collapsed": true
   },
   "outputs": [],
   "source": [
    "DIR_FORTRAN = pipe_cliradlw.get_fortran_dir(PARAM, \n",
    "                                            setup=setup_cliradlw)\n",
    "\n",
    "PATH_FLUX = os.path.join(DIR_FORTRAN, 'output_flux.dat')\n",
    "PATH_COOL = os.path.join(DIR_FORTRAN, 'output_coolr.dat')\n",
    "\n",
    "DS_FLUX = load_output_file(PATH_FLUX)\n",
    "DS_COOL = load_output_file(PATH_COOL)"
   ]
  },
  {
   "cell_type": "code",
   "execution_count": 7,
   "metadata": {
    "collapsed": true
   },
   "outputs": [
    {
     "data": {
      "text/html": [
       "\n",
       "    <div class=\"bk-root\">\n",
       "        <a href=\"https://bokeh.pydata.org\" target=\"_blank\" class=\"bk-logo bk-logo-small bk-logo-notebook\"></a>\n",
       "        <span id=\"6824c442-fbdf-4302-892f-6b3db0b6151d\">Loading BokehJS ...</span>\n",
       "    </div>"
      ]
     },
     "metadata": {},
     "output_type": "display_data"
    },
    {
     "data": {
      "application/javascript": [
       "\n",
       "(function(root) {\n",
       "  function now() {\n",
       "    return new Date();\n",
       "  }\n",
       "\n",
       "  var force = true;\n",
       "\n",
       "  if (typeof (root._bokeh_onload_callbacks) === \"undefined\" || force === true) {\n",
       "    root._bokeh_onload_callbacks = [];\n",
       "    root._bokeh_is_loading = undefined;\n",
       "  }\n",
       "\n",
       "  var JS_MIME_TYPE = 'application/javascript';\n",
       "  var HTML_MIME_TYPE = 'text/html';\n",
       "  var EXEC_MIME_TYPE = 'application/vnd.bokehjs_exec.v0+json';\n",
       "  var CLASS_NAME = 'output_bokeh rendered_html';\n",
       "\n",
       "  /**\n",
       "   * Render data to the DOM node\n",
       "   */\n",
       "  function render(props, node) {\n",
       "    var script = document.createElement(\"script\");\n",
       "    node.appendChild(script);\n",
       "  }\n",
       "\n",
       "  /**\n",
       "   * Handle when an output is cleared or removed\n",
       "   */\n",
       "  function handleClearOutput(event, handle) {\n",
       "    var cell = handle.cell;\n",
       "\n",
       "    var id = cell.output_area._bokeh_element_id;\n",
       "    var server_id = cell.output_area._bokeh_server_id;\n",
       "    // Clean up Bokeh references\n",
       "    if (id !== undefined) {\n",
       "      Bokeh.index[id].model.document.clear();\n",
       "      delete Bokeh.index[id];\n",
       "    }\n",
       "\n",
       "    if (server_id !== undefined) {\n",
       "      // Clean up Bokeh references\n",
       "      var cmd = \"from bokeh.io.state import curstate; print(curstate().uuid_to_server['\" + server_id + \"'].get_sessions()[0].document.roots[0]._id)\";\n",
       "      cell.notebook.kernel.execute(cmd, {\n",
       "        iopub: {\n",
       "          output: function(msg) {\n",
       "            var element_id = msg.content.text.trim();\n",
       "            Bokeh.index[element_id].model.document.clear();\n",
       "            delete Bokeh.index[element_id];\n",
       "          }\n",
       "        }\n",
       "      });\n",
       "      // Destroy server and session\n",
       "      var cmd = \"import bokeh.io.notebook as ion; ion.destroy_server('\" + server_id + \"')\";\n",
       "      cell.notebook.kernel.execute(cmd);\n",
       "    }\n",
       "  }\n",
       "\n",
       "  /**\n",
       "   * Handle when a new output is added\n",
       "   */\n",
       "  function handleAddOutput(event, handle) {\n",
       "    var output_area = handle.output_area;\n",
       "    var output = handle.output;\n",
       "\n",
       "    // limit handleAddOutput to display_data with EXEC_MIME_TYPE content only\n",
       "    if ((output.output_type != \"display_data\") || (!output.data.hasOwnProperty(EXEC_MIME_TYPE))) {\n",
       "      return\n",
       "    }\n",
       "\n",
       "    var toinsert = output_area.element.find(\".\" + CLASS_NAME.split(' ')[0]);\n",
       "\n",
       "    if (output.metadata[EXEC_MIME_TYPE][\"id\"] !== undefined) {\n",
       "      toinsert[toinsert.length - 1].firstChild.textContent = output.data[JS_MIME_TYPE];\n",
       "      // store reference to embed id on output_area\n",
       "      output_area._bokeh_element_id = output.metadata[EXEC_MIME_TYPE][\"id\"];\n",
       "    }\n",
       "    if (output.metadata[EXEC_MIME_TYPE][\"server_id\"] !== undefined) {\n",
       "      var bk_div = document.createElement(\"div\");\n",
       "      bk_div.innerHTML = output.data[HTML_MIME_TYPE];\n",
       "      var script_attrs = bk_div.children[0].attributes;\n",
       "      for (var i = 0; i < script_attrs.length; i++) {\n",
       "        toinsert[toinsert.length - 1].firstChild.setAttribute(script_attrs[i].name, script_attrs[i].value);\n",
       "      }\n",
       "      // store reference to server id on output_area\n",
       "      output_area._bokeh_server_id = output.metadata[EXEC_MIME_TYPE][\"server_id\"];\n",
       "    }\n",
       "  }\n",
       "\n",
       "  function register_renderer(events, OutputArea) {\n",
       "\n",
       "    function append_mime(data, metadata, element) {\n",
       "      // create a DOM node to render to\n",
       "      var toinsert = this.create_output_subarea(\n",
       "        metadata,\n",
       "        CLASS_NAME,\n",
       "        EXEC_MIME_TYPE\n",
       "      );\n",
       "      this.keyboard_manager.register_events(toinsert);\n",
       "      // Render to node\n",
       "      var props = {data: data, metadata: metadata[EXEC_MIME_TYPE]};\n",
       "      render(props, toinsert[toinsert.length - 1]);\n",
       "      element.append(toinsert);\n",
       "      return toinsert\n",
       "    }\n",
       "\n",
       "    /* Handle when an output is cleared or removed */\n",
       "    events.on('clear_output.CodeCell', handleClearOutput);\n",
       "    events.on('delete.Cell', handleClearOutput);\n",
       "\n",
       "    /* Handle when a new output is added */\n",
       "    events.on('output_added.OutputArea', handleAddOutput);\n",
       "\n",
       "    /**\n",
       "     * Register the mime type and append_mime function with output_area\n",
       "     */\n",
       "    OutputArea.prototype.register_mime_type(EXEC_MIME_TYPE, append_mime, {\n",
       "      /* Is output safe? */\n",
       "      safe: true,\n",
       "      /* Index of renderer in `output_area.display_order` */\n",
       "      index: 0\n",
       "    });\n",
       "  }\n",
       "\n",
       "  // register the mime type if in Jupyter Notebook environment and previously unregistered\n",
       "  if (root.Jupyter !== undefined) {\n",
       "    var events = require('base/js/events');\n",
       "    var OutputArea = require('notebook/js/outputarea').OutputArea;\n",
       "\n",
       "    if (OutputArea.prototype.mime_types().indexOf(EXEC_MIME_TYPE) == -1) {\n",
       "      register_renderer(events, OutputArea);\n",
       "    }\n",
       "  }\n",
       "\n",
       "  \n",
       "  if (typeof (root._bokeh_timeout) === \"undefined\" || force === true) {\n",
       "    root._bokeh_timeout = Date.now() + 5000;\n",
       "    root._bokeh_failed_load = false;\n",
       "  }\n",
       "\n",
       "  var NB_LOAD_WARNING = {'data': {'text/html':\n",
       "     \"<div style='background-color: #fdd'>\\n\"+\n",
       "     \"<p>\\n\"+\n",
       "     \"BokehJS does not appear to have successfully loaded. If loading BokehJS from CDN, this \\n\"+\n",
       "     \"may be due to a slow or bad network connection. Possible fixes:\\n\"+\n",
       "     \"</p>\\n\"+\n",
       "     \"<ul>\\n\"+\n",
       "     \"<li>re-rerun `output_notebook()` to attempt to load from CDN again, or</li>\\n\"+\n",
       "     \"<li>use INLINE resources instead, as so:</li>\\n\"+\n",
       "     \"</ul>\\n\"+\n",
       "     \"<code>\\n\"+\n",
       "     \"from bokeh.resources import INLINE\\n\"+\n",
       "     \"output_notebook(resources=INLINE)\\n\"+\n",
       "     \"</code>\\n\"+\n",
       "     \"</div>\"}};\n",
       "\n",
       "  function display_loaded() {\n",
       "    var el = document.getElementById(\"6824c442-fbdf-4302-892f-6b3db0b6151d\");\n",
       "    if (el != null) {\n",
       "      el.textContent = \"BokehJS is loading...\";\n",
       "    }\n",
       "    if (root.Bokeh !== undefined) {\n",
       "      if (el != null) {\n",
       "        el.textContent = \"BokehJS \" + root.Bokeh.version + \" successfully loaded.\";\n",
       "      }\n",
       "    } else if (Date.now() < root._bokeh_timeout) {\n",
       "      setTimeout(display_loaded, 100)\n",
       "    }\n",
       "  }\n",
       "\n",
       "\n",
       "  function run_callbacks() {\n",
       "    try {\n",
       "      root._bokeh_onload_callbacks.forEach(function(callback) { callback() });\n",
       "    }\n",
       "    finally {\n",
       "      delete root._bokeh_onload_callbacks\n",
       "    }\n",
       "    console.info(\"Bokeh: all callbacks have finished\");\n",
       "  }\n",
       "\n",
       "  function load_libs(js_urls, callback) {\n",
       "    root._bokeh_onload_callbacks.push(callback);\n",
       "    if (root._bokeh_is_loading > 0) {\n",
       "      console.log(\"Bokeh: BokehJS is being loaded, scheduling callback at\", now());\n",
       "      return null;\n",
       "    }\n",
       "    if (js_urls == null || js_urls.length === 0) {\n",
       "      run_callbacks();\n",
       "      return null;\n",
       "    }\n",
       "    console.log(\"Bokeh: BokehJS not loaded, scheduling load and callback at\", now());\n",
       "    root._bokeh_is_loading = js_urls.length;\n",
       "    for (var i = 0; i < js_urls.length; i++) {\n",
       "      var url = js_urls[i];\n",
       "      var s = document.createElement('script');\n",
       "      s.src = url;\n",
       "      s.async = false;\n",
       "      s.onreadystatechange = s.onload = function() {\n",
       "        root._bokeh_is_loading--;\n",
       "        if (root._bokeh_is_loading === 0) {\n",
       "          console.log(\"Bokeh: all BokehJS libraries loaded\");\n",
       "          run_callbacks()\n",
       "        }\n",
       "      };\n",
       "      s.onerror = function() {\n",
       "        console.warn(\"failed to load library \" + url);\n",
       "      };\n",
       "      console.log(\"Bokeh: injecting script tag for BokehJS library: \", url);\n",
       "      document.getElementsByTagName(\"head\")[0].appendChild(s);\n",
       "    }\n",
       "  };var element = document.getElementById(\"6824c442-fbdf-4302-892f-6b3db0b6151d\");\n",
       "  if (element == null) {\n",
       "    console.log(\"Bokeh: ERROR: autoload.js configured with elementid '6824c442-fbdf-4302-892f-6b3db0b6151d' but no matching script tag was found. \")\n",
       "    return false;\n",
       "  }\n",
       "\n",
       "  var js_urls = [\"https://cdn.pydata.org/bokeh/release/bokeh-0.12.16.min.js\", \"https://cdn.pydata.org/bokeh/release/bokeh-widgets-0.12.16.min.js\", \"https://cdn.pydata.org/bokeh/release/bokeh-tables-0.12.16.min.js\", \"https://cdn.pydata.org/bokeh/release/bokeh-gl-0.12.16.min.js\"];\n",
       "\n",
       "  var inline_js = [\n",
       "    function(Bokeh) {\n",
       "      Bokeh.set_log_level(\"info\");\n",
       "    },\n",
       "    \n",
       "    function(Bokeh) {\n",
       "      \n",
       "    },\n",
       "    function(Bokeh) {\n",
       "      console.log(\"Bokeh: injecting CSS: https://cdn.pydata.org/bokeh/release/bokeh-0.12.16.min.css\");\n",
       "      Bokeh.embed.inject_css(\"https://cdn.pydata.org/bokeh/release/bokeh-0.12.16.min.css\");\n",
       "      console.log(\"Bokeh: injecting CSS: https://cdn.pydata.org/bokeh/release/bokeh-widgets-0.12.16.min.css\");\n",
       "      Bokeh.embed.inject_css(\"https://cdn.pydata.org/bokeh/release/bokeh-widgets-0.12.16.min.css\");\n",
       "      console.log(\"Bokeh: injecting CSS: https://cdn.pydata.org/bokeh/release/bokeh-tables-0.12.16.min.css\");\n",
       "      Bokeh.embed.inject_css(\"https://cdn.pydata.org/bokeh/release/bokeh-tables-0.12.16.min.css\");\n",
       "    }\n",
       "  ];\n",
       "\n",
       "  function run_inline_js() {\n",
       "    \n",
       "    if ((root.Bokeh !== undefined) || (force === true)) {\n",
       "      for (var i = 0; i < inline_js.length; i++) {\n",
       "        inline_js[i].call(root, root.Bokeh);\n",
       "      }if (force === true) {\n",
       "        display_loaded();\n",
       "      }} else if (Date.now() < root._bokeh_timeout) {\n",
       "      setTimeout(run_inline_js, 100);\n",
       "    } else if (!root._bokeh_failed_load) {\n",
       "      console.log(\"Bokeh: BokehJS failed to load within specified timeout.\");\n",
       "      root._bokeh_failed_load = true;\n",
       "    } else if (force !== true) {\n",
       "      var cell = $(document.getElementById(\"6824c442-fbdf-4302-892f-6b3db0b6151d\")).parents('.cell').data().cell;\n",
       "      cell.output_area.append_execute_result(NB_LOAD_WARNING)\n",
       "    }\n",
       "\n",
       "  }\n",
       "\n",
       "  if (root._bokeh_is_loading === 0) {\n",
       "    console.log(\"Bokeh: BokehJS loaded, going straight to plotting\");\n",
       "    run_inline_js();\n",
       "  } else {\n",
       "    load_libs(js_urls, function() {\n",
       "      console.log(\"Bokeh: BokehJS plotting callback run at\", now());\n",
       "      run_inline_js();\n",
       "    });\n",
       "  }\n",
       "}(window));"
      ],
      "application/vnd.bokehjs_load.v0+json": "\n(function(root) {\n  function now() {\n    return new Date();\n  }\n\n  var force = true;\n\n  if (typeof (root._bokeh_onload_callbacks) === \"undefined\" || force === true) {\n    root._bokeh_onload_callbacks = [];\n    root._bokeh_is_loading = undefined;\n  }\n\n  \n\n  \n  if (typeof (root._bokeh_timeout) === \"undefined\" || force === true) {\n    root._bokeh_timeout = Date.now() + 5000;\n    root._bokeh_failed_load = false;\n  }\n\n  var NB_LOAD_WARNING = {'data': {'text/html':\n     \"<div style='background-color: #fdd'>\\n\"+\n     \"<p>\\n\"+\n     \"BokehJS does not appear to have successfully loaded. If loading BokehJS from CDN, this \\n\"+\n     \"may be due to a slow or bad network connection. Possible fixes:\\n\"+\n     \"</p>\\n\"+\n     \"<ul>\\n\"+\n     \"<li>re-rerun `output_notebook()` to attempt to load from CDN again, or</li>\\n\"+\n     \"<li>use INLINE resources instead, as so:</li>\\n\"+\n     \"</ul>\\n\"+\n     \"<code>\\n\"+\n     \"from bokeh.resources import INLINE\\n\"+\n     \"output_notebook(resources=INLINE)\\n\"+\n     \"</code>\\n\"+\n     \"</div>\"}};\n\n  function display_loaded() {\n    var el = document.getElementById(\"6824c442-fbdf-4302-892f-6b3db0b6151d\");\n    if (el != null) {\n      el.textContent = \"BokehJS is loading...\";\n    }\n    if (root.Bokeh !== undefined) {\n      if (el != null) {\n        el.textContent = \"BokehJS \" + root.Bokeh.version + \" successfully loaded.\";\n      }\n    } else if (Date.now() < root._bokeh_timeout) {\n      setTimeout(display_loaded, 100)\n    }\n  }\n\n\n  function run_callbacks() {\n    try {\n      root._bokeh_onload_callbacks.forEach(function(callback) { callback() });\n    }\n    finally {\n      delete root._bokeh_onload_callbacks\n    }\n    console.info(\"Bokeh: all callbacks have finished\");\n  }\n\n  function load_libs(js_urls, callback) {\n    root._bokeh_onload_callbacks.push(callback);\n    if (root._bokeh_is_loading > 0) {\n      console.log(\"Bokeh: BokehJS is being loaded, scheduling callback at\", now());\n      return null;\n    }\n    if (js_urls == null || js_urls.length === 0) {\n      run_callbacks();\n      return null;\n    }\n    console.log(\"Bokeh: BokehJS not loaded, scheduling load and callback at\", now());\n    root._bokeh_is_loading = js_urls.length;\n    for (var i = 0; i < js_urls.length; i++) {\n      var url = js_urls[i];\n      var s = document.createElement('script');\n      s.src = url;\n      s.async = false;\n      s.onreadystatechange = s.onload = function() {\n        root._bokeh_is_loading--;\n        if (root._bokeh_is_loading === 0) {\n          console.log(\"Bokeh: all BokehJS libraries loaded\");\n          run_callbacks()\n        }\n      };\n      s.onerror = function() {\n        console.warn(\"failed to load library \" + url);\n      };\n      console.log(\"Bokeh: injecting script tag for BokehJS library: \", url);\n      document.getElementsByTagName(\"head\")[0].appendChild(s);\n    }\n  };var element = document.getElementById(\"6824c442-fbdf-4302-892f-6b3db0b6151d\");\n  if (element == null) {\n    console.log(\"Bokeh: ERROR: autoload.js configured with elementid '6824c442-fbdf-4302-892f-6b3db0b6151d' but no matching script tag was found. \")\n    return false;\n  }\n\n  var js_urls = [\"https://cdn.pydata.org/bokeh/release/bokeh-0.12.16.min.js\", \"https://cdn.pydata.org/bokeh/release/bokeh-widgets-0.12.16.min.js\", \"https://cdn.pydata.org/bokeh/release/bokeh-tables-0.12.16.min.js\", \"https://cdn.pydata.org/bokeh/release/bokeh-gl-0.12.16.min.js\"];\n\n  var inline_js = [\n    function(Bokeh) {\n      Bokeh.set_log_level(\"info\");\n    },\n    \n    function(Bokeh) {\n      \n    },\n    function(Bokeh) {\n      console.log(\"Bokeh: injecting CSS: https://cdn.pydata.org/bokeh/release/bokeh-0.12.16.min.css\");\n      Bokeh.embed.inject_css(\"https://cdn.pydata.org/bokeh/release/bokeh-0.12.16.min.css\");\n      console.log(\"Bokeh: injecting CSS: https://cdn.pydata.org/bokeh/release/bokeh-widgets-0.12.16.min.css\");\n      Bokeh.embed.inject_css(\"https://cdn.pydata.org/bokeh/release/bokeh-widgets-0.12.16.min.css\");\n      console.log(\"Bokeh: injecting CSS: https://cdn.pydata.org/bokeh/release/bokeh-tables-0.12.16.min.css\");\n      Bokeh.embed.inject_css(\"https://cdn.pydata.org/bokeh/release/bokeh-tables-0.12.16.min.css\");\n    }\n  ];\n\n  function run_inline_js() {\n    \n    if ((root.Bokeh !== undefined) || (force === true)) {\n      for (var i = 0; i < inline_js.length; i++) {\n        inline_js[i].call(root, root.Bokeh);\n      }if (force === true) {\n        display_loaded();\n      }} else if (Date.now() < root._bokeh_timeout) {\n      setTimeout(run_inline_js, 100);\n    } else if (!root._bokeh_failed_load) {\n      console.log(\"Bokeh: BokehJS failed to load within specified timeout.\");\n      root._bokeh_failed_load = true;\n    } else if (force !== true) {\n      var cell = $(document.getElementById(\"6824c442-fbdf-4302-892f-6b3db0b6151d\")).parents('.cell').data().cell;\n      cell.output_area.append_execute_result(NB_LOAD_WARNING)\n    }\n\n  }\n\n  if (root._bokeh_is_loading === 0) {\n    console.log(\"Bokeh: BokehJS loaded, going straight to plotting\");\n    run_inline_js();\n  } else {\n    load_libs(js_urls, function() {\n      console.log(\"Bokeh: BokehJS plotting callback run at\", now());\n      run_inline_js();\n    });\n  }\n}(window));"
     },
     "metadata": {},
     "output_type": "display_data"
    }
   ],
   "source": [
    "output_notebook()"
   ]
  },
  {
   "cell_type": "code",
   "execution_count": 8,
   "metadata": {
    "collapsed": true
   },
   "outputs": [],
   "source": [
    "def fmt_cool(ds_in):\n",
    "    ds = ds_in.copy(deep=True)\n",
    "    if 'igg' in ds.dims:\n",
    "        ds = ds.sel(igg=1)\n",
    "\n",
    "    if 'g' in ds.dims:\n",
    "        ds = ds.sum('g')\n",
    "            \n",
    "    if 'band' in ds.dims:\n",
    "        try:\n",
    "            ds = ds.squeeze('band')\n",
    "        except ValueError:\n",
    "            ds = ds.sum('band')\n",
    "                \n",
    "    return ds['coolrg']\n",
    "\n",
    "\n",
    "def pltdata_cooling_1(ds_cool=None,\n",
    "                      ds_cool_crd=None, ds_cool_wgt=None):\n",
    "    \n",
    "\n",
    "\n",
    "    colors = all_palettes['Set1'][4]\n",
    "    data = [{'label': 'CLIRAD `coolr_bands`',\n",
    "             'srs': fmt_cool(ds_cool),\n",
    "             'line_dash': 'dashed', 'line_width': 5,\n",
    "             'color': colors[0], 'alpha': .6},\n",
    "            {'label': 'CRD',\n",
    "             'srs': fmt_cool(ds_cool_crd),\n",
    "             'line_dash': 'solid', 'line_width': 1.5,\n",
    "             'marker': 'circle', 'marker_size': 5,\n",
    "             'color': colors[2], 'alpha': 1,},\n",
    "            {'label': 'WGT igg=10 wgt_flux=2',\n",
    "             'srs': fmt_cool(ds_cool_wgt),\n",
    "             'line_dash': 'solid', 'line_width': 3,\n",
    "             'marker': 'square', 'marker_size': 5,\n",
    "             'color': colors[3], 'alpha': .6}]\n",
    "    return data\n",
    "\n",
    "\n",
    "def nice_xlims(pltdata=None, prange=None):\n",
    "    \n",
    "    def get_slice(srs):\n",
    "        return srs.sel(pressure=slice(*prange))\n",
    "    \n",
    "    srss = [d['srs'] for d in pltdata]\n",
    "    vmin = min([get_slice(srs).min() for srs in srss])\n",
    "    vmax = max([get_slice(srs).max() for srs in srss])\n",
    "    dv = (vmax - vmin) * .01\n",
    "    return float(vmin - dv), float(vmax + dv)\n",
    "    \n",
    "\n",
    "def plt_cooling_bokeh(pltdata=None):\n",
    "    '''\n",
    "    Plot a list of cooling rate profiles using bokeh.\n",
    "    '''\n",
    "    ymin = 1e-2 \n",
    "    ymax = 1020 \n",
    "        \n",
    "    p1 = figure(title=\"Linear pressure scale\", \n",
    "                plot_width=400)        \n",
    "    xmin, xmax = nice_xlims(pltdata, prange=(50, 1050))\n",
    "    for d in pltdata:\n",
    "        if 'marker' in d:\n",
    "            getattr(p1, d['marker'])(d['srs'].values, \n",
    "                    d['srs'].coords['pressure'].values,\n",
    "                    color=d['color'], alpha=.7)\n",
    "        p1.line(d['srs'].values, \n",
    "                d['srs'].coords['pressure'].values,\n",
    "                color=d['color'], alpha=d['alpha'], \n",
    "                line_width=d['line_width'], line_dash=d['line_dash'])\n",
    "    \n",
    "    p1.y_range = Range1d(ymax, ymin)\n",
    "    p1.yaxis.axis_label = 'pressure [mb]'   \n",
    "    p1.x_range = Range1d(xmin, xmax)\n",
    "    p1.xaxis.axis_label = 'cooling rate [K/day]'\n",
    "            \n",
    "    p2 = figure(title='Log pressure scale', y_axis_type='log',\n",
    "                plot_width=560)\n",
    "    xmin, xmax = nice_xlims(pltdata, prange=(.01, 200))\n",
    "    \n",
    "    rs = []\n",
    "    for d in pltdata:\n",
    "        rd = []\n",
    "        if 'marker' in d:\n",
    "            r_mark = getattr(p2, d['marker'])(d['srs'].values, \n",
    "                        d['srs'].coords['pressure'].values,\n",
    "                        color=d['color'], alpha=.7)\n",
    "            rd.append(r_mark)\n",
    "        r_line = p2.line(d['srs'].values, \n",
    "                    d['srs'].coords['pressure'].values,\n",
    "                    color=d['color'], alpha=d['alpha'], \n",
    "                    line_width=d['line_width'], line_dash=d['line_dash'])\n",
    "        rd.append(r_line)\n",
    "      \n",
    "        rs.append(rd)\n",
    "        \n",
    "    p2.y_range = Range1d(ymax, ymin)  \n",
    "    p2.yaxis.axis_label = 'pressure [mb]'\n",
    "    \n",
    "    p2.x_range = Range1d(xmin, xmax)\n",
    "    p2.xaxis.axis_label = 'cooling rate [K/day]'\n",
    "    \n",
    "    items = [(d['label'], r) for r, d in zip(rs, pltdata)]\n",
    "    legend = Legend(items=items, location=(10, -30))\n",
    "    legend.label_text_font_size = '8pt'\n",
    "    \n",
    "    p2.add_layout(legend, 'right')  \n",
    "    \n",
    "    show(gridplot(p1, p2, ncols=2, plot_height=500))\n",
    "    \n",
    "\n",
    "def script_plt_cooling():\n",
    "    pltdata = pltdata_cooling_1(\n",
    "        ds_cool=DS_COOL,\n",
    "        ds_cool_crd=DS_COOL_CRD,\n",
    "        ds_cool_wgt=DS_COOL_WGT)\n",
    "    plt_cooling_bokeh(pltdata=pltdata)\n",
    "    print('''FIGURE. Cooling rate profiles.''')"
   ]
  },
  {
   "cell_type": "code",
   "execution_count": 9,
   "metadata": {
    "collapsed": true
   },
   "outputs": [],
   "source": [
    "def fmt_flux(ds_in):\n",
    "    ds = ds_in.copy(deep=True)\n",
    "    \n",
    "    for l in ('level', 'layer'):\n",
    "        if l in ds.data_vars:\n",
    "            if len(ds[l].dims) > 1:\n",
    "                surface = {d: 0 for d in ds.dims if d != 'pressure'}\n",
    "                coord_level = ds[l][surface]\n",
    "                ds.coords[l] = ('pressure', coord_level)\n",
    "            else:\n",
    "                ds.coords[l] = ('pressure', ds[l])\n",
    "        \n",
    "    ds = ds.isel(pressure=[0, 23, -1])\n",
    "        \n",
    "    if 'igg' in ds.dims:\n",
    "        ds = ds.sel(igg=[1])\n",
    "        ds = ds.squeeze('igg').drop('igg')\n",
    "    \n",
    "    if 'g' in ds.dims:\n",
    "        ds = ds.sum('g')\n",
    "            \n",
    "    if 'band' in ds.dims:\n",
    "        try:\n",
    "            ds = ds.squeeze('band').drop('band')\n",
    "        except ValueError:\n",
    "            ds = ds.sum('band')\n",
    "                \n",
    "    df = ds.to_dataframe()\n",
    "    df = df.set_index('level', append=True)               \n",
    "    return df\n",
    "\n",
    "\n",
    "def tbdata_flux(ds_flux=None, ds_flux_crd=None, ds_flux_wgt=None):\n",
    "    ilevels = [0, 23, -1]\n",
    "            \n",
    "    benchmark = {'label': 'CRD',\n",
    "                 'df': fmt_flux(ds_flux_crd)}\n",
    "    \n",
    "    tbs = [{'label': 'WGT igg=10 wgt_flux=1',\n",
    "            'df': fmt_flux(ds_flux_wgt)},\n",
    "           {'label': 'CLIRAD',\n",
    "            'df': fmt_flux(ds_flux)}]\n",
    "    \n",
    "    data = {'benchmark': benchmark, 'others': tbs}\n",
    "    return data\n",
    "\n",
    "\n",
    "def tb_flux(tbdata=None):\n",
    "    benchmark = tbdata['benchmark']\n",
    "    others = tbdata['others']\n",
    "    \n",
    "    def show_tb(d=None):\n",
    "        display.display(d['df'])\n",
    "        print('Table.', 'Fluxes.', d['label'])\n",
    "        \n",
    "    def show_tbdiff(d0=None, d=None):\n",
    "        df = d['df']\n",
    "        df.index = d0['df'].index\n",
    "        display.display(df - d0['df'])\n",
    "        print('Table.', 'Fluxes.', \n",
    "              '({}) - ({})'.format(d['label'], d0['label']))\n",
    "        \n",
    "    show_tb(benchmark)\n",
    "    for d in others:\n",
    "        show_tb(d)\n",
    "        \n",
    "    for d in others:\n",
    "        show_tbdiff(d=d, d0=benchmark)\n",
    "        \n",
    "        \n",
    "def script_tb_flux():\n",
    "    data = tbdata_flux(ds_flux=DS_FLUX,\n",
    "                       ds_flux_crd=DS_FLUX_CRD,\n",
    "                       ds_flux_wgt=DS_FLUX_WGT)\n",
    "    tb_flux(tbdata=data)"
   ]
  },
  {
   "cell_type": "code",
   "execution_count": 10,
   "metadata": {
    "collapsed": true
   },
   "outputs": [],
   "source": [
    "def band_map():\n",
    "    '''\n",
    "    Maps spectral bands in lblnew to spectral bands in clirad.\n",
    "    '''\n",
    "    lblnew2clirad = {'1': '1',\n",
    "            '2': '2',\n",
    "            '3a': '3',\n",
    "            '3b': '4',\n",
    "            '3c': '5',\n",
    "            '4': '6', \n",
    "            '5': '7',\n",
    "            '6': '8',\n",
    "            '7': '9', \n",
    "            '8': '10',\n",
    "            '9': '11'}\n",
    "    \n",
    "    clirad2lblnew = {clirad: lblnew \n",
    "                     for lblnew, clirad in lblnew2clirad.items()}\n",
    "    return clirad2lblnew\n",
    "\n",
    "\n",
    "def gasbands():\n",
    "    bmap = band_map()\n",
    "    gases = list(PARAM['molecule'].keys())\n",
    "    \n",
    "    bands = [bmap[str(b)] for b in PARAM['band']]\n",
    "    return list(itertools.product(gases, bands))\n",
    "\n",
    "\n",
    "def print_bestfit_params():\n",
    "    print('Best-fit values for each (gas, band)')\n",
    "    print('------------------------------------')\n",
    "    for gas, band in gasbands():\n",
    "        print('o {} band{}'.format(gas, band))\n",
    "        param = bestfits.kdist_params(molecule=gas, band=band)\n",
    "        for name, value in sorted(param.items()):\n",
    "            print(2 * ' ' + '{} = {}'.format(name, value))\n",
    "\n",
    "        \n",
    "def print_input_param():        \n",
    "    for name, value in PARAM.items():\n",
    "        print('{} = {}'.format(name, value))\n",
    "        \n",
    "        \n",
    "def print_lblnew_param():\n",
    "    for name, value in sorted(PARAM_LBLNEW.items()):\n",
    "        print('{} = {}'.format(name, value))\n"
   ]
  },
  {
   "cell_type": "code",
   "execution_count": 11,
   "metadata": {
    "collapsed": true,
    "scrolled": false
   },
   "outputs": [],
   "source": [
    "def show_html(s):\n",
    "    display.display(display.HTML(s))\n",
    "\n",
    "    \n",
    "def show_markdown(s):\n",
    "    display.display(display.Markdown(s))\n",
    "\n",
    "    \n",
    "def script():\n",
    "    \n",
    "    title = '### CLIRAD-LW'\n",
    "    s_input = 'Input Parameters'\n",
    "    s_lblnew_param = 'LBLNEW case compaired against'\n",
    "    s_bestfits = 'Best-fit Parameters'\n",
    "    s_plt_cooling = 'Cooling Rate Profiles'\n",
    "    s_tb_flux = 'Flux Comparison'\n",
    "    \n",
    "    # title\n",
    "    show_markdown('### CLIRAD-LW')\n",
    "    \n",
    "    # TOC\n",
    "    show_markdown('### Table of Contents')\n",
    "    show_html(climahtml.getHTML_hrefanchor(s_input))\n",
    "    show_html(climahtml.getHTML_hrefanchor(s_lblnew_param))\n",
    "    show_html(climahtml.getHTML_hrefanchor(s_plt_cooling))\n",
    "    show_html(climahtml.getHTML_hrefanchor(s_tb_flux))\n",
    "    show_html(climahtml.getHTML_hrefanchor(s_bestfits))\n",
    "    \n",
    "    # Input parameters\n",
    "    show_html(climahtml.getHTML_idanchor(s_input))\n",
    "    show_markdown(climahtml.getMarkdown_sectitle(s_input))\n",
    "    print_input_param()\n",
    "    \n",
    "    # LBLNEW parameters \n",
    "    show_html(climahtml.getHTML_idanchor(s_lblnew_param))\n",
    "    show_markdown(climahtml.getMarkdown_sectitle(s_lblnew_param))\n",
    "    print_lblnew_param()\n",
    "    \n",
    "    # Cooling rate profiles\n",
    "    show_html(climahtml.getHTML_idanchor(s_plt_cooling))\n",
    "    show_markdown(climahtml.getMarkdown_sectitle(s_plt_cooling))\n",
    "    script_plt_cooling()\n",
    "    \n",
    "    # Flux comparison\n",
    "    show_html(climahtml.getHTML_idanchor(s_tb_flux))\n",
    "    show_markdown(climahtml.getMarkdown_sectitle(s_tb_flux))\n",
    "    script_tb_flux()\n",
    "    \n",
    "    # Best-fit values\n",
    "    show_html(climahtml.getHTML_idanchor(s_bestfits))\n",
    "    show_markdown(climahtml.getMarkdown_sectitle(s_bestfits))\n",
    "    print_bestfit_params()\n",
    "   \n",
    "    "
   ]
  },
  {
   "cell_type": "code",
   "execution_count": 12,
   "metadata": {
    "collapsed": true,
    "scrolled": false
   },
   "outputs": [
    {
     "data": {
      "text/markdown": [
       "### CLIRAD-LW"
      ],
      "text/plain": [
       "<IPython.core.display.Markdown object>"
      ]
     },
     "metadata": {},
     "output_type": "display_data"
    },
    {
     "data": {
      "text/markdown": [
       "### Table of Contents"
      ],
      "text/plain": [
       "<IPython.core.display.Markdown object>"
      ]
     },
     "metadata": {},
     "output_type": "display_data"
    },
    {
     "data": {
      "text/html": [
       "<a href=\"#Input_Parameters\">Input Parameters</a>"
      ],
      "text/plain": [
       "<IPython.core.display.HTML object>"
      ]
     },
     "metadata": {},
     "output_type": "display_data"
    },
    {
     "data": {
      "text/html": [
       "<a href=\"#LBLNEW_case_compaired_against\">LBLNEW case compaired against</a>"
      ],
      "text/plain": [
       "<IPython.core.display.HTML object>"
      ]
     },
     "metadata": {},
     "output_type": "display_data"
    },
    {
     "data": {
      "text/html": [
       "<a href=\"#Cooling_Rate_Profiles\">Cooling Rate Profiles</a>"
      ],
      "text/plain": [
       "<IPython.core.display.HTML object>"
      ]
     },
     "metadata": {},
     "output_type": "display_data"
    },
    {
     "data": {
      "text/html": [
       "<a href=\"#Flux_Comparison\">Flux Comparison</a>"
      ],
      "text/plain": [
       "<IPython.core.display.HTML object>"
      ]
     },
     "metadata": {},
     "output_type": "display_data"
    },
    {
     "data": {
      "text/html": [
       "<a href=\"#Best-fit_Parameters\">Best-fit Parameters</a>"
      ],
      "text/plain": [
       "<IPython.core.display.HTML object>"
      ]
     },
     "metadata": {},
     "output_type": "display_data"
    },
    {
     "data": {
      "text/html": [
       "<a id=\"Input_Parameters\"></a>"
      ],
      "text/plain": [
       "<IPython.core.display.HTML object>"
      ]
     },
     "metadata": {},
     "output_type": "display_data"
    },
    {
     "data": {
      "text/markdown": [
       "# Input Parameters"
      ],
      "text/plain": [
       "<IPython.core.display.Markdown object>"
      ]
     },
     "metadata": {},
     "output_type": "display_data"
    },
    {
     "name": "stdout",
     "output_type": "stream",
     "text": [
      "atmpro = trp\n",
      "band = [6]\n",
      "commitnumber = de5d43e\n",
      "molecule = {'h2o': 'atmpro'}\n",
      "tsfc = 300\n"
     ]
    },
    {
     "data": {
      "text/html": [
       "<a id=\"LBLNEW_case_compaired_against\"></a>"
      ],
      "text/plain": [
       "<IPython.core.display.HTML object>"
      ]
     },
     "metadata": {},
     "output_type": "display_data"
    },
    {
     "data": {
      "text/markdown": [
       "# LBLNEW case compaired against"
      ],
      "text/plain": [
       "<IPython.core.display.Markdown object>"
      ]
     },
     "metadata": {},
     "output_type": "display_data"
    },
    {
     "name": "stdout",
     "output_type": "stream",
     "text": [
      "atmpro = trp\n",
      "band = 4\n",
      "commitnumber = 5014a19\n",
      "conc = None\n",
      "dv = 0.001\n",
      "klin = 1e-24\n",
      "molecule = h2o\n",
      "ng_adju = [0]\n",
      "ng_refs = [3]\n",
      "nv = 1000\n",
      "option_compute_btable = 0\n",
      "option_compute_ktable = 0\n",
      "option_wgt_flux = 1\n",
      "option_wgt_k = 1\n",
      "ref_pts = [(600, 250)]\n",
      "tsfc = 300\n",
      "vmax = 980\n",
      "vmin = 800\n",
      "w_diffuse = [(1.66, 1.66, 1.85)]\n",
      "wgt = [(0.5, 0.55, 0.85)]\n"
     ]
    },
    {
     "data": {
      "text/html": [
       "<a id=\"Cooling_Rate_Profiles\"></a>"
      ],
      "text/plain": [
       "<IPython.core.display.HTML object>"
      ]
     },
     "metadata": {},
     "output_type": "display_data"
    },
    {
     "data": {
      "text/markdown": [
       "# Cooling Rate Profiles"
      ],
      "text/plain": [
       "<IPython.core.display.Markdown object>"
      ]
     },
     "metadata": {},
     "output_type": "display_data"
    },
    {
     "data": {
      "text/html": [
       "\n",
       "<div class=\"bk-root\">\n",
       "    <div class=\"bk-plotdiv\" id=\"5bb4408d-2d0d-4f25-95ac-348c5357dd5a\"></div>\n",
       "</div>"
      ]
     },
     "metadata": {},
     "output_type": "display_data"
    },
    {
     "data": {
      "application/javascript": [
       "(function(root) {\n",
       "  function embed_document(root) {\n",
       "    \n",
       "  var docs_json = {\"ce57991b-e71d-4cd3-98d1-a732919f2ddc\":{\"roots\":{\"references\":[{\"attributes\":{},\"id\":\"c74d0358-101c-4b65-8b58-f4f9c3a2fe05\",\"type\":\"WheelZoomTool\"},{\"attributes\":{\"callback\":null,\"data\":{\"x\":{\"__ndarray__\":\"8gYo8OVz3b7x2LABb3fdvuwqbJByet2+KVY3tZt63b6icWVY/XXdvmQ5IH4RbN2+C1YXqCBe3b78F5oXFUvdvuqkrJ8RM92+YmuiQYEV3b7v+DWAWfLcvvTiSyiNydy+C4Z2w4+a3L4fhcvjKFXcvjSlgq/7/9q+B2ut3epD1r4EZZXJUKrHvghJ7Q0k6Lk+o5Lup1Eu4j614yFE38L0PnKQPd4eNwM/cnbLgjXODj9wJM5dAdgRP/qWgOwQGA8/j/FsId7iBz/ojMlcCgAAP9P4LE/UavM+xQTUNkyF5D7Ir0YvjnXNPrIWZX3qVa++c3cUj2rv0L7EWlruvuHZvsDadfb77t++JOW+SqoB4r7tiuBwC0bjvjyOn3l8OuO+WTOrh78C476TKTIdEK3kvj2jQ+K5vue+npTwVppx7L58LS5gIm/1vsbNRhDjTAe/MI5LWbAeFL9/uz8ByIQav0ruLO+qMBW/0mZ/Yo2tDD+lIw55b+E6PyWIaChAN1I/nlyN/s7aYT/c/wN+acBuPyMPPKY5b3g/ynQs/Cw+gj/PqZto3POJP/+gALuQtJE/P/9jP5Belz+fl9EZ5vWdPzbXUHXGuqI/dpPjyGbypj9OHW1VgJqrP1GcmRwbWrA/AqQ7Kiwosz/uVz4h9Bm2P4s1Nh38Irk/BGYMExAKvj/2QvKvlE7BPwSw9ObfisM/nBnHCCThxT+gnKTeM3DHP2q1MuK8H8k/IjH5Ei4syz9YSwi1IpPNP7pSRpHyKdA/D2L22dm80T/E7j8aXI/TP3xGRYy14NU/\",\"dtype\":\"float64\",\"shape\":[75]},\"y\":{\"__ndarray__\":\"GhExyth1ND/Sv8nbtpRIP2vylNV0PVE/aTum7souWD/At0SJ8fVgPw3Iuahxymc/MSNhhJWvcD/bTfBN02d3P2zb5nxnaoA/CD5h5MAGhz8NmeH1TyaQP+zrCsc9p5Y/LbKd76fGnz/bLW5ISEmmPww9YvTcQq8/JV2OstnstT8Er5Y7M8G+P0c+r3jqkcU/5h99k6ZBzj88bCIzFzjVP4enV8oyxN0//yH99nXg5D8qOpLLf0jtP5kqGJXUifQ/c9cS8kHP/D+/DpwzojQEQIEmwoanVwxA4lgXt9HgE0BSSZ2AJuIbQAMJih9jjiNA5q4l5INuK0AwTKYKRj0zQNv5fmq8/DpAaCJseHrtQkB/+zpwzoxKQM3MzMzMeFJAZmZmZmZqWEAAAAAAAFxeQM3MzMzMJmJAmpmZmZkfZUBmZmZmZhhoQDMzMzMzEWtAAAAAAAAKbkBmZmZmZoFwQM3MzMzM/XFAMzMzMzN6c0CamZmZmfZ0QAAAAAAAc3ZAZmZmZmbvd0DNzMzMzGt5QDMzMzMz6HpAmpmZmZlkfEAAAAAAAOF9QGZmZmZmXX9AZmZmZuZsgECamZmZGSuBQM3MzMxM6YFAAAAAAICngkAzMzMzs2WDQGZmZmbmI4RAmpmZmRnihEDNzMzMTKCFQAAAAACAXoZAMzMzM7Mch0BmZmZm5tqHQJqZmZkZmYhAzczMzExXiUAAAAAAgBWKQDMzMzOz04pAZmZmZuaRi0CamZmZGVCMQM3MzMxMDo1AAAAAAIDMjUAzMzMzs4qOQGZmZmbmSI9A\",\"dtype\":\"float64\",\"shape\":[75]}},\"selected\":{\"id\":\"ba3dcc7f-f373-4aa8-9475-54d15b588958\",\"type\":\"Selection\"},\"selection_policy\":{\"id\":\"0243d503-290a-4528-815e-ed00834a2765\",\"type\":\"UnionRenderers\"}},\"id\":\"c7f93c1d-c201-42e5-a39e-f6178504e4ff\",\"type\":\"ColumnDataSource\"},{\"attributes\":{\"source\":{\"id\":\"ccda7112-f06b-485d-b263-2c249f4fb079\",\"type\":\"ColumnDataSource\"}},\"id\":\"76858dff-fc60-489b-b333-28fb089c3cc6\",\"type\":\"CDSView\"},{\"attributes\":{\"line_alpha\":0.1,\"line_color\":\"#1f77b4\",\"line_dash\":[6],\"line_width\":5,\"x\":{\"field\":\"x\"},\"y\":{\"field\":\"y\"}},\"id\":\"8f63ff4c-1abd-4a88-8146-741fee096062\",\"type\":\"Line\"},{\"attributes\":{\"bottom_units\":\"screen\",\"fill_alpha\":{\"value\":0.5},\"fill_color\":{\"value\":\"lightgrey\"},\"left_units\":\"screen\",\"level\":\"overlay\",\"line_alpha\":{\"value\":1.0},\"line_color\":{\"value\":\"black\"},\"line_dash\":[4,4],\"line_width\":{\"value\":2},\"plot\":null,\"render_mode\":\"css\",\"right_units\":\"screen\",\"top_units\":\"screen\"},\"id\":\"6032bc75-7bc7-4a12-9708-c75093e268c6\",\"type\":\"BoxAnnotation\"},{\"attributes\":{\"line_alpha\":0.1,\"line_color\":\"#1f77b4\",\"line_width\":3,\"x\":{\"field\":\"x\"},\"y\":{\"field\":\"y\"}},\"id\":\"ec175f10-7e55-4145-929d-a10c5a65e68e\",\"type\":\"Line\"},{\"attributes\":{\"dimension\":1,\"plot\":{\"id\":\"43b844e5-cb7c-444e-a83b-8434d92833c0\",\"subtype\":\"Figure\",\"type\":\"Plot\"},\"ticker\":{\"id\":\"87bcf9be-65e5-41d5-a670-149d967d821f\",\"type\":\"LogTicker\"}},\"id\":\"26bfa2dc-b3c8-4c76-bc67-faac27c3590d\",\"type\":\"Grid\"},{\"attributes\":{\"line_alpha\":0.6,\"line_color\":\"#984ea3\",\"line_width\":3,\"x\":{\"field\":\"x\"},\"y\":{\"field\":\"y\"}},\"id\":\"54432393-882c-4eb8-b4d9-a7337fac5490\",\"type\":\"Line\"},{\"attributes\":{},\"id\":\"084cf48d-7f99-45ba-9198-2269173218e5\",\"type\":\"PanTool\"},{\"attributes\":{\"data_source\":{\"id\":\"f53746ad-7c9a-4ad9-ae2c-43cece28a5f8\",\"type\":\"ColumnDataSource\"},\"glyph\":{\"id\":\"fac1cd2a-3d08-498b-b754-f37a0f30089e\",\"type\":\"Line\"},\"hover_glyph\":null,\"muted_glyph\":null,\"nonselection_glyph\":{\"id\":\"b7cbf279-28df-4340-a948-4f570a8ae6c7\",\"type\":\"Line\"},\"selection_glyph\":null,\"view\":{\"id\":\"d6b75d7d-20ca-42c7-9e06-fa1feb3a6a69\",\"type\":\"CDSView\"}},\"id\":\"db20f03a-9bee-4706-8a1d-f66f1a9c9821\",\"type\":\"GlyphRenderer\"},{\"attributes\":{\"axis_label\":\"cooling rate [K/day]\",\"formatter\":{\"id\":\"b79d5491-45fe-4727-b1b1-1a29f6241fdb\",\"type\":\"BasicTickFormatter\"},\"plot\":{\"id\":\"43b844e5-cb7c-444e-a83b-8434d92833c0\",\"subtype\":\"Figure\",\"type\":\"Plot\"},\"ticker\":{\"id\":\"deeda4cf-fd08-4c3e-89fc-7622af2a7365\",\"type\":\"BasicTicker\"}},\"id\":\"bf4bbf04-8748-4666-9ee7-8bea5a93399c\",\"type\":\"LinearAxis\"},{\"attributes\":{\"data_source\":{\"id\":\"5eacfb43-b74b-46df-a013-57dfa90bba1f\",\"type\":\"ColumnDataSource\"},\"glyph\":{\"id\":\"70f405df-4842-4d49-8449-d05f8a99f5e8\",\"type\":\"Line\"},\"hover_glyph\":null,\"muted_glyph\":null,\"nonselection_glyph\":{\"id\":\"8f63ff4c-1abd-4a88-8146-741fee096062\",\"type\":\"Line\"},\"selection_glyph\":null,\"view\":{\"id\":\"93a3dfad-de73-4281-a653-eb7ff0913c3a\",\"type\":\"CDSView\"}},\"id\":\"d7cc66c3-9f90-4ec9-8104-3ec0a736897c\",\"type\":\"GlyphRenderer\"},{\"attributes\":{\"line_alpha\":0.6,\"line_color\":\"#e41a1c\",\"line_dash\":[6],\"line_width\":5,\"x\":{\"field\":\"x\"},\"y\":{\"field\":\"y\"}},\"id\":\"70f405df-4842-4d49-8449-d05f8a99f5e8\",\"type\":\"Line\"},{\"attributes\":{\"plot\":null,\"text\":\"Log pressure scale\"},\"id\":\"f6d6e1be-4ec1-417f-9c2e-67212393693a\",\"type\":\"Title\"},{\"attributes\":{\"fill_alpha\":{\"value\":0.1},\"fill_color\":{\"value\":\"#1f77b4\"},\"line_alpha\":{\"value\":0.1},\"line_color\":{\"value\":\"#1f77b4\"},\"x\":{\"field\":\"x\"},\"y\":{\"field\":\"y\"}},\"id\":\"5b36ade3-ad7d-43fb-b93a-8c44456a09e7\",\"type\":\"Square\"},{\"attributes\":{\"callback\":null,\"data\":{\"x\":{\"__ndarray__\":\"lzTShKoJ4776bEk1jvfivsZRKXH10+K+UAryhWSl4r6lRWvZ4XXivrQsF9d9P+K+M/9mwJYC4r5/aQL98cHhvoo9zcdneuG+TodkrLYs4b7ku8hSxdjgvi0+3RwKfuC+Xu7PqjQc4L7sOJl7BynfvomAWLqOpNq+yw7sDptfyr4+hzfhp8LJPlZTWfhGmus+YbWTLPk5/j7//jR8H30LP6CkBKLo2hY/D4nMiQlGIT8ydQT7BK4jP9Gg9DzmViE/Mba2ZeBYGz+eQNlhN0YTP96bw6U+gQk/9iyF93a6/z7A/fl/yLPxPsBsz18Ymd4+f8Nc3Tnzoj7NUIlFCtzQvlRONrC6i92+lcDYQNnT4r4ISH9SYl/lvgXDWEQroeW+vP55PLIX5b4sBaP7kVzmvsIb1mWeuOi+TmRMY4027L52TwmFaODzvgiqxmmjcAO/kduqBd6FC798leVpAvsDvz2tQljOpw8/WW+bxhWqNT/PXBkwnkNNP6X0fyDWoV4/b0L8X5Bdaj8D3OP1Nvd0P6apBB1LZX8/RK3qXodnhj/VmGZzAr6OP5LawRFvYJQ/h8h03oJJmj8muDVCb4ygP9X4AyAZa6Q/4lcUxZfIqD+kw+0XhqStPwYh3EFFhbE/vo0M85d2tD/4QaJ4sYq3P3i1/afyqLo/Dw60CrSevz8lTe49fQDCP6c0i+XQAcQ/dCJFjdf2xT+kHZK14QvHP5Ziw6qsM8g/+vg6X6KwyT/NpzOc133LPysX6OKImM0/hW7+eBIF0D/xhPtUV3bRP1hAmS32atM/\",\"dtype\":\"float64\",\"shape\":[75]},\"y\":{\"__ndarray__\":\"GhExyth1ND/Sv8nbtpRIP2vylNV0PVE/aTum7souWD/At0SJ8fVgPw3Iuahxymc/MSNhhJWvcD/bTfBN02d3P2zb5nxnaoA/CD5h5MAGhz8NmeH1TyaQP+zrCsc9p5Y/LbKd76fGnz/bLW5ISEmmPww9YvTcQq8/JV2OstnstT8Er5Y7M8G+P0c+r3jqkcU/5h99k6ZBzj88bCIzFzjVP4enV8oyxN0//yH99nXg5D8qOpLLf0jtP5kqGJXUifQ/c9cS8kHP/D+/DpwzojQEQIEmwoanVwxA4lgXt9HgE0BSSZ2AJuIbQAMJih9jjiNA5q4l5INuK0AwTKYKRj0zQNv5fmq8/DpAaCJseHrtQkB/+zpwzoxKQM3MzMzMeFJAZmZmZmZqWEAAAAAAAFxeQM3MzMzMJmJAmpmZmZkfZUBmZmZmZhhoQDMzMzMzEWtAAAAAAAAKbkBmZmZmZoFwQM3MzMzM/XFAMzMzMzN6c0CamZmZmfZ0QAAAAAAAc3ZAZmZmZmbvd0DNzMzMzGt5QDMzMzMz6HpAmpmZmZlkfEAAAAAAAOF9QGZmZmZmXX9AZmZmZuZsgECamZmZGSuBQM3MzMxM6YFAAAAAAICngkAzMzMzs2WDQGZmZmbmI4RAmpmZmRnihEDNzMzMTKCFQAAAAACAXoZAMzMzM7Mch0BmZmZm5tqHQJqZmZkZmYhAzczMzExXiUAAAAAAgBWKQDMzMzOz04pAZmZmZuaRi0CamZmZGVCMQM3MzMxMDo1AAAAAAIDMjUAzMzMzs4qOQGZmZmbmSI9A\",\"dtype\":\"float64\",\"shape\":[75]}},\"selected\":{\"id\":\"aa39bd18-5999-4e53-b414-736b6d670f47\",\"type\":\"Selection\"},\"selection_policy\":{\"id\":\"94def190-ddbb-4b45-94ed-550b9947a41c\",\"type\":\"UnionRenderers\"}},\"id\":\"f53746ad-7c9a-4ad9-ae2c-43cece28a5f8\",\"type\":\"ColumnDataSource\"},{\"attributes\":{},\"id\":\"223874c5-a1e6-4d99-ad6c-cadb843ef690\",\"type\":\"SaveTool\"},{\"attributes\":{},\"id\":\"4c5e9655-5d5f-42cf-b824-6a8316ffee49\",\"type\":\"HelpTool\"},{\"attributes\":{\"plot\":{\"id\":\"43b844e5-cb7c-444e-a83b-8434d92833c0\",\"subtype\":\"Figure\",\"type\":\"Plot\"},\"ticker\":{\"id\":\"deeda4cf-fd08-4c3e-89fc-7622af2a7365\",\"type\":\"BasicTicker\"}},\"id\":\"f3e39053-be8a-4686-a88b-459c588695e2\",\"type\":\"Grid\"},{\"attributes\":{\"num_minor_ticks\":10},\"id\":\"87bcf9be-65e5-41d5-a670-149d967d821f\",\"type\":\"LogTicker\"},{\"attributes\":{\"source\":{\"id\":\"68d87116-d159-42c7-86d3-c79a5d9498d6\",\"type\":\"ColumnDataSource\"}},\"id\":\"ead8ffcb-6d80-4819-aa06-06e7d9cf1c13\",\"type\":\"CDSView\"},{\"attributes\":{\"callback\":null,\"data\":{\"x\":{\"__ndarray__\":\"8gYo8OVz3b7x2LABb3fdvuwqbJByet2+KVY3tZt63b6icWVY/XXdvmQ5IH4RbN2+C1YXqCBe3b78F5oXFUvdvuqkrJ8RM92+YmuiQYEV3b7v+DWAWfLcvvTiSyiNydy+C4Z2w4+a3L4fhcvjKFXcvjSlgq/7/9q+B2ut3epD1r4EZZXJUKrHvghJ7Q0k6Lk+o5Lup1Eu4j614yFE38L0PnKQPd4eNwM/cnbLgjXODj9wJM5dAdgRP/qWgOwQGA8/j/FsId7iBz/ojMlcCgAAP9P4LE/UavM+xQTUNkyF5D7Ir0YvjnXNPrIWZX3qVa++c3cUj2rv0L7EWlruvuHZvsDadfb77t++JOW+SqoB4r7tiuBwC0bjvjyOn3l8OuO+WTOrh78C476TKTIdEK3kvj2jQ+K5vue+npTwVppx7L58LS5gIm/1vsbNRhDjTAe/MI5LWbAeFL9/uz8ByIQav0ruLO+qMBW/0mZ/Yo2tDD+lIw55b+E6PyWIaChAN1I/nlyN/s7aYT/c/wN+acBuPyMPPKY5b3g/ynQs/Cw+gj/PqZto3POJP/+gALuQtJE/P/9jP5Belz+fl9EZ5vWdPzbXUHXGuqI/dpPjyGbypj9OHW1VgJqrP1GcmRwbWrA/AqQ7Kiwosz/uVz4h9Bm2P4s1Nh38Irk/BGYMExAKvj/2QvKvlE7BPwSw9ObfisM/nBnHCCThxT+gnKTeM3DHP2q1MuK8H8k/IjH5Ei4syz9YSwi1IpPNP7pSRpHyKdA/D2L22dm80T/E7j8aXI/TP3xGRYy14NU/\",\"dtype\":\"float64\",\"shape\":[75]},\"y\":{\"__ndarray__\":\"GhExyth1ND/Sv8nbtpRIP2vylNV0PVE/aTum7souWD/At0SJ8fVgPw3Iuahxymc/MSNhhJWvcD/bTfBN02d3P2zb5nxnaoA/CD5h5MAGhz8NmeH1TyaQP+zrCsc9p5Y/LbKd76fGnz/bLW5ISEmmPww9YvTcQq8/JV2OstnstT8Er5Y7M8G+P0c+r3jqkcU/5h99k6ZBzj88bCIzFzjVP4enV8oyxN0//yH99nXg5D8qOpLLf0jtP5kqGJXUifQ/c9cS8kHP/D+/DpwzojQEQIEmwoanVwxA4lgXt9HgE0BSSZ2AJuIbQAMJih9jjiNA5q4l5INuK0AwTKYKRj0zQNv5fmq8/DpAaCJseHrtQkB/+zpwzoxKQM3MzMzMeFJAZmZmZmZqWEAAAAAAAFxeQM3MzMzMJmJAmpmZmZkfZUBmZmZmZhhoQDMzMzMzEWtAAAAAAAAKbkBmZmZmZoFwQM3MzMzM/XFAMzMzMzN6c0CamZmZmfZ0QAAAAAAAc3ZAZmZmZmbvd0DNzMzMzGt5QDMzMzMz6HpAmpmZmZlkfEAAAAAAAOF9QGZmZmZmXX9AZmZmZuZsgECamZmZGSuBQM3MzMxM6YFAAAAAAICngkAzMzMzs2WDQGZmZmbmI4RAmpmZmRnihEDNzMzMTKCFQAAAAACAXoZAMzMzM7Mch0BmZmZm5tqHQJqZmZkZmYhAzczMzExXiUAAAAAAgBWKQDMzMzOz04pAZmZmZuaRi0CamZmZGVCMQM3MzMxMDo1AAAAAAIDMjUAzMzMzs4qOQGZmZmbmSI9A\",\"dtype\":\"float64\",\"shape\":[75]}},\"selected\":{\"id\":\"ef8c18b7-3856-4d63-9467-653cedcece12\",\"type\":\"Selection\"},\"selection_policy\":{\"id\":\"10f951d4-9fbf-4491-bbe1-6861af0e7952\",\"type\":\"UnionRenderers\"}},\"id\":\"ca94044f-9cf7-42f9-8a4e-7ce9779b22ed\",\"type\":\"ColumnDataSource\"},{\"attributes\":{\"data_source\":{\"id\":\"c7f93c1d-c201-42e5-a39e-f6178504e4ff\",\"type\":\"ColumnDataSource\"},\"glyph\":{\"id\":\"d5d1bec0-1933-441a-9592-bf8c1aeaf68a\",\"type\":\"Line\"},\"hover_glyph\":null,\"muted_glyph\":null,\"nonselection_glyph\":{\"id\":\"a725d5fe-2c01-48c3-9d02-069e22e66454\",\"type\":\"Line\"},\"selection_glyph\":null,\"view\":{\"id\":\"3c4cab2a-eb63-401b-80d8-15eb91ff9b67\",\"type\":\"CDSView\"}},\"id\":\"59d6f408-45fa-44a9-a8e0-bffa10908219\",\"type\":\"GlyphRenderer\"},{\"attributes\":{\"axis_label\":\"pressure [mb]\",\"formatter\":{\"id\":\"02396c7a-3e32-4971-ad68-95c8d7c8d014\",\"type\":\"LogTickFormatter\"},\"plot\":{\"id\":\"43b844e5-cb7c-444e-a83b-8434d92833c0\",\"subtype\":\"Figure\",\"type\":\"Plot\"},\"ticker\":{\"id\":\"87bcf9be-65e5-41d5-a670-149d967d821f\",\"type\":\"LogTicker\"}},\"id\":\"3265ae46-99db-42bb-a4af-614737f066e9\",\"type\":\"LogAxis\"},{\"attributes\":{\"data_source\":{\"id\":\"ca94044f-9cf7-42f9-8a4e-7ce9779b22ed\",\"type\":\"ColumnDataSource\"},\"glyph\":{\"id\":\"54432393-882c-4eb8-b4d9-a7337fac5490\",\"type\":\"Line\"},\"hover_glyph\":null,\"muted_glyph\":null,\"nonselection_glyph\":{\"id\":\"ec175f10-7e55-4145-929d-a10c5a65e68e\",\"type\":\"Line\"},\"selection_glyph\":null,\"view\":{\"id\":\"fb4442f7-cfd1-416f-97e8-ecc77a391a1e\",\"type\":\"CDSView\"}},\"id\":\"b630734b-ce69-45ff-9104-7c4aee50ed18\",\"type\":\"GlyphRenderer\"},{\"attributes\":{\"source\":{\"id\":\"c7f93c1d-c201-42e5-a39e-f6178504e4ff\",\"type\":\"ColumnDataSource\"}},\"id\":\"3c4cab2a-eb63-401b-80d8-15eb91ff9b67\",\"type\":\"CDSView\"},{\"attributes\":{\"callback\":null,\"end\":0.01,\"start\":1020},\"id\":\"67358f8b-638b-40d3-9bec-e4eed67f96aa\",\"type\":\"Range1d\"},{\"attributes\":{\"fill_alpha\":{\"value\":0.7},\"fill_color\":{\"value\":\"#984ea3\"},\"line_alpha\":{\"value\":0.7},\"line_color\":{\"value\":\"#984ea3\"},\"x\":{\"field\":\"x\"},\"y\":{\"field\":\"y\"}},\"id\":\"bc7ba4df-cf20-452a-a42e-7162ba20bb35\",\"type\":\"Square\"},{\"attributes\":{\"callback\":null,\"data\":{\"x\":{\"__ndarray__\":\"8gYo8OVz3b7x2LABb3fdvuwqbJByet2+KVY3tZt63b6icWVY/XXdvmQ5IH4RbN2+C1YXqCBe3b78F5oXFUvdvuqkrJ8RM92+YmuiQYEV3b7v+DWAWfLcvvTiSyiNydy+C4Z2w4+a3L4fhcvjKFXcvjSlgq/7/9q+B2ut3epD1r4EZZXJUKrHvghJ7Q0k6Lk+o5Lup1Eu4j614yFE38L0PnKQPd4eNwM/cnbLgjXODj9wJM5dAdgRP/qWgOwQGA8/j/FsId7iBz/ojMlcCgAAP9P4LE/UavM+xQTUNkyF5D7Ir0YvjnXNPrIWZX3qVa++c3cUj2rv0L7EWlruvuHZvsDadfb77t++JOW+SqoB4r7tiuBwC0bjvjyOn3l8OuO+WTOrh78C476TKTIdEK3kvj2jQ+K5vue+npTwVppx7L58LS5gIm/1vsbNRhDjTAe/MI5LWbAeFL9/uz8ByIQav0ruLO+qMBW/0mZ/Yo2tDD+lIw55b+E6PyWIaChAN1I/nlyN/s7aYT/c/wN+acBuPyMPPKY5b3g/ynQs/Cw+gj/PqZto3POJP/+gALuQtJE/P/9jP5Belz+fl9EZ5vWdPzbXUHXGuqI/dpPjyGbypj9OHW1VgJqrP1GcmRwbWrA/AqQ7Kiwosz/uVz4h9Bm2P4s1Nh38Irk/BGYMExAKvj/2QvKvlE7BPwSw9ObfisM/nBnHCCThxT+gnKTeM3DHP2q1MuK8H8k/IjH5Ei4syz9YSwi1IpPNP7pSRpHyKdA/D2L22dm80T/E7j8aXI/TP3xGRYy14NU/\",\"dtype\":\"float64\",\"shape\":[75]},\"y\":{\"__ndarray__\":\"GhExyth1ND/Sv8nbtpRIP2vylNV0PVE/aTum7souWD/At0SJ8fVgPw3Iuahxymc/MSNhhJWvcD/bTfBN02d3P2zb5nxnaoA/CD5h5MAGhz8NmeH1TyaQP+zrCsc9p5Y/LbKd76fGnz/bLW5ISEmmPww9YvTcQq8/JV2OstnstT8Er5Y7M8G+P0c+r3jqkcU/5h99k6ZBzj88bCIzFzjVP4enV8oyxN0//yH99nXg5D8qOpLLf0jtP5kqGJXUifQ/c9cS8kHP/D+/DpwzojQEQIEmwoanVwxA4lgXt9HgE0BSSZ2AJuIbQAMJih9jjiNA5q4l5INuK0AwTKYKRj0zQNv5fmq8/DpAaCJseHrtQkB/+zpwzoxKQM3MzMzMeFJAZmZmZmZqWEAAAAAAAFxeQM3MzMzMJmJAmpmZmZkfZUBmZmZmZhhoQDMzMzMzEWtAAAAAAAAKbkBmZmZmZoFwQM3MzMzM/XFAMzMzMzN6c0CamZmZmfZ0QAAAAAAAc3ZAZmZmZmbvd0DNzMzMzGt5QDMzMzMz6HpAmpmZmZlkfEAAAAAAAOF9QGZmZmZmXX9AZmZmZuZsgECamZmZGSuBQM3MzMxM6YFAAAAAAICngkAzMzMzs2WDQGZmZmbmI4RAmpmZmRnihEDNzMzMTKCFQAAAAACAXoZAMzMzM7Mch0BmZmZm5tqHQJqZmZkZmYhAzczMzExXiUAAAAAAgBWKQDMzMzOz04pAZmZmZuaRi0CamZmZGVCMQM3MzMxMDo1AAAAAAIDMjUAzMzMzs4qOQGZmZmbmSI9A\",\"dtype\":\"float64\",\"shape\":[75]}},\"selected\":{\"id\":\"d3b2fcfc-edaa-4b6c-a3b1-a3f2faf9f90e\",\"type\":\"Selection\"},\"selection_policy\":{\"id\":\"ad5a02e3-973d-4620-aadb-3dd24dd4b503\",\"type\":\"UnionRenderers\"}},\"id\":\"68d87116-d159-42c7-86d3-c79a5d9498d6\",\"type\":\"ColumnDataSource\"},{\"attributes\":{\"source\":{\"id\":\"42cb80ed-b3e5-4e0a-9862-3fce2d844968\",\"type\":\"ColumnDataSource\"}},\"id\":\"1c70d4ab-a498-495b-83ff-e0ab9501557c\",\"type\":\"CDSView\"},{\"attributes\":{\"overlay\":{\"id\":\"6032bc75-7bc7-4a12-9708-c75093e268c6\",\"type\":\"BoxAnnotation\"}},\"id\":\"d34fe7a5-3f27-4dc7-b668-03c27b9b4db4\",\"type\":\"BoxZoomTool\"},{\"attributes\":{\"line_color\":\"#4daf4a\",\"line_width\":1.5,\"x\":{\"field\":\"x\"},\"y\":{\"field\":\"y\"}},\"id\":\"fac1cd2a-3d08-498b-b754-f37a0f30089e\",\"type\":\"Line\"},{\"attributes\":{\"source\":{\"id\":\"f53746ad-7c9a-4ad9-ae2c-43cece28a5f8\",\"type\":\"ColumnDataSource\"}},\"id\":\"d6b75d7d-20ca-42c7-9e06-fa1feb3a6a69\",\"type\":\"CDSView\"},{\"attributes\":{\"line_alpha\":0.1,\"line_color\":\"#1f77b4\",\"line_width\":3,\"x\":{\"field\":\"x\"},\"y\":{\"field\":\"y\"}},\"id\":\"a725d5fe-2c01-48c3-9d02-069e22e66454\",\"type\":\"Line\"},{\"attributes\":{},\"id\":\"eb2ea551-2e4f-48ca-a4b4-12326804d4fc\",\"type\":\"ResetTool\"},{\"attributes\":{\"active_drag\":\"auto\",\"active_inspect\":\"auto\",\"active_scroll\":\"auto\",\"active_tap\":\"auto\",\"tools\":[{\"id\":\"084cf48d-7f99-45ba-9198-2269173218e5\",\"type\":\"PanTool\"},{\"id\":\"c74d0358-101c-4b65-8b58-f4f9c3a2fe05\",\"type\":\"WheelZoomTool\"},{\"id\":\"d34fe7a5-3f27-4dc7-b668-03c27b9b4db4\",\"type\":\"BoxZoomTool\"},{\"id\":\"223874c5-a1e6-4d99-ad6c-cadb843ef690\",\"type\":\"SaveTool\"},{\"id\":\"eb2ea551-2e4f-48ca-a4b4-12326804d4fc\",\"type\":\"ResetTool\"},{\"id\":\"4c5e9655-5d5f-42cf-b824-6a8316ffee49\",\"type\":\"HelpTool\"}]},\"id\":\"fa54f96d-2e3c-4c36-b23b-145df04b6d0e\",\"type\":\"Toolbar\"},{\"attributes\":{\"line_alpha\":0.6,\"line_color\":\"#984ea3\",\"line_width\":3,\"x\":{\"field\":\"x\"},\"y\":{\"field\":\"y\"}},\"id\":\"d5d1bec0-1933-441a-9592-bf8c1aeaf68a\",\"type\":\"Line\"},{\"attributes\":{},\"id\":\"deeda4cf-fd08-4c3e-89fc-7622af2a7365\",\"type\":\"BasicTicker\"},{\"attributes\":{\"line_alpha\":0.1,\"line_color\":\"#1f77b4\",\"line_width\":1.5,\"x\":{\"field\":\"x\"},\"y\":{\"field\":\"y\"}},\"id\":\"b7cbf279-28df-4340-a948-4f570a8ae6c7\",\"type\":\"Line\"},{\"attributes\":{\"data_source\":{\"id\":\"68d87116-d159-42c7-86d3-c79a5d9498d6\",\"type\":\"ColumnDataSource\"},\"glyph\":{\"id\":\"bc7ba4df-cf20-452a-a42e-7162ba20bb35\",\"type\":\"Square\"},\"hover_glyph\":null,\"muted_glyph\":null,\"nonselection_glyph\":{\"id\":\"5b36ade3-ad7d-43fb-b93a-8c44456a09e7\",\"type\":\"Square\"},\"selection_glyph\":null,\"view\":{\"id\":\"ead8ffcb-6d80-4819-aa06-06e7d9cf1c13\",\"type\":\"CDSView\"}},\"id\":\"649814b2-84b6-4dab-98f9-bc566297ad59\",\"type\":\"GlyphRenderer\"},{\"attributes\":{\"callback\":null,\"data\":{\"x\":{\"__ndarray__\":\"vQ01w5wj9b7vwp01Qu8FvztsNK2aAuG+GFunpJva376mTQ5b3gHfvkKhUqEtSN6+H95OFwmZ3r7/NQF2psTdvuQYuh0Z392+hfxuNKeT3b5lIzunUordvqd/eH+Pld2+DHJLmeKW376810ILvinovg5kVl+1Dem+6lYpNdL24L4HYcP68ynUvmm/G8fGULG+E1fK3WKd1D4u03iYZFbtPtvbmBgVeP0+Mocd8YlqCT9ApJg4RJ0NP5NiwjAkYgk/3IvZbjo2Az+cbH6xtwD5PukJsdL5wOw+ou3fGn7Y2j4UemplcKSzPii+lxoxAMW+Q4hq/E8U1b7d8Rkifx7cviyEgkTJPeC+nKHqiVVg4b4WcubgiT3ivkNXt2uXbeK+lSHPRUpT4r7hQnKMLebjvv1DBG15qea+wwYtzN8N674pdUbTNNL0vimO80i32we/phW4yX4mFr8cUGWhx40gv1dUegTWhyK/drm6pbeSEr8U8rDLbH0nP0jCnIDD9kc/ji7yjxcCWz/n/9YQwydpPwc1fMLL8HQ/CDMTa31BgD85BJsuHOyHPzwqTTZd0JA/3gi2CpWRlj9R3dMKEFudP46d0QXekaI/HQIF5jrwpj8AAL7jLbqrP7o51HBDbLA/bHDHQEMksz//Ou6WDwG2PxVgDnFi/rg/3cFf/tDtvT95VnfR/FbBP4zv7nUQw8M/mbPjKyZbxj/hJ8yDDTLIPyPGQt+jH8o/PEU3kGhhzD8sFCMq2O/OP+W0Kx1B5NA/w2DEXw990j84poLlY1LUP64T8pyImdY/\",\"dtype\":\"float64\",\"shape\":[75]},\"y\":{\"__ndarray__\":\"S/O/Q+51ND/Sv8nbtpRIP2vylNV0PVE/aTum7souWD/At0SJ8fVgPw3Iuahxymc/MSNhhJWvcD/bTfBN02d3P2zb5nxnaoA/CD5h5MAGhz8NmeH1TyaQP+zrCsc9p5Y/LbKd76fGnz/bLW5ISEmmPww9YvTcQq8/JV2OstnstT8Er5Y7M8G+P0c+r3jqkcU/5h99k6ZBzj88bCIzFzjVP4enV8oyxN0//yH99nXg5D8qOpLLf0jtP5kqGJXUifQ/c9cS8kHP/D+/DpwzojQEQIEmwoanVwxA4lgXt9HgE0BSSZ2AJuIbQAMJih9jjiNA5q4l5INuK0AwTKYKRj0zQNv5fmq8/DpAaCJseHrtQkB/+zpwzoxKQM3MzMzMeFJAZmZmZmZqWEAAAAAAAFxeQM3MzMzMJmJAmpmZmZkfZUBmZmZmZhhoQDMzMzMzEWtAAAAAAAAKbkBmZmZmZoFwQM3MzMzM/XFAMzMzMzN6c0CamZmZmfZ0QAAAAAAAc3ZAZmZmZmbvd0DNzMzMzGt5QDMzMzMz6HpAmpmZmZlkfEAAAAAAAOF9QGZmZmZmXX9AZmZmZuZsgECamZmZGSuBQM3MzMxM6YFAAAAAAICngkAzMzMzs2WDQGZmZmbmI4RAmpmZmRnihEDNzMzMTKCFQAAAAACAXoZAMzMzM7Mch0BmZmZm5tqHQJqZmZkZmYhAzczMzExXiUAAAAAAgBWKQDMzMzOz04pAZmZmZuaRi0CamZmZGVCMQM3MzMxMDo1AAAAAAIDMjUAzMzMzs4qOQGZmZmbmSI9A\",\"dtype\":\"float64\",\"shape\":[75]}},\"selected\":{\"id\":\"1d207f4c-54c9-4252-9894-598ec627936e\",\"type\":\"Selection\"},\"selection_policy\":{\"id\":\"268b021b-755d-476b-9c3a-9b486ff9e62e\",\"type\":\"UnionRenderers\"}},\"id\":\"5eacfb43-b74b-46df-a013-57dfa90bba1f\",\"type\":\"ColumnDataSource\"},{\"attributes\":{\"items\":[{\"id\":\"e9ca52aa-4e8c-4f39-8f1a-0397fb40e033\",\"type\":\"LegendItem\"},{\"id\":\"dc3d10c9-280e-46ad-9f4b-4321d7ee8adf\",\"type\":\"LegendItem\"},{\"id\":\"89f133de-fc42-4b07-b599-dd9fe997fb2a\",\"type\":\"LegendItem\"}],\"label_text_font_size\":{\"value\":\"8pt\"},\"location\":[10,-30],\"plot\":{\"id\":\"43b844e5-cb7c-444e-a83b-8434d92833c0\",\"subtype\":\"Figure\",\"type\":\"Plot\"}},\"id\":\"4fdacaab-1adb-489a-9683-64bd53b8f325\",\"type\":\"Legend\"},{\"attributes\":{},\"id\":\"88adf439-5b3e-4e64-890b-3e64da64681a\",\"type\":\"LogScale\"},{\"attributes\":{\"overlay\":{\"id\":\"640d246e-6778-490b-ae6a-b0a3c70d3a01\",\"type\":\"BoxAnnotation\"}},\"id\":\"a23a20df-0b4d-4df3-aab3-8e99a4ee4834\",\"type\":\"BoxZoomTool\"},{\"attributes\":{},\"id\":\"274b2650-32e2-403b-8ed1-e06904d59e71\",\"type\":\"SaveTool\"},{\"attributes\":{\"data_source\":{\"id\":\"5d84d16d-98c8-4af5-9b20-ee6dc9d7f934\",\"type\":\"ColumnDataSource\"},\"glyph\":{\"id\":\"76cd36a0-dc05-4181-87f6-a62afc85a12c\",\"type\":\"Circle\"},\"hover_glyph\":null,\"muted_glyph\":null,\"nonselection_glyph\":{\"id\":\"b9a4bd60-23b0-4778-baf1-8883f101b5bb\",\"type\":\"Circle\"},\"selection_glyph\":null,\"view\":{\"id\":\"8ae2bb86-0592-4d6e-abe6-8c094f8951d2\",\"type\":\"CDSView\"}},\"id\":\"1b2d9570-070c-4716-b7fa-f7199248bd81\",\"type\":\"GlyphRenderer\"},{\"attributes\":{},\"id\":\"c3fd5060-ce63-4b81-8fbe-a394646e3ded\",\"type\":\"PanTool\"},{\"attributes\":{\"callback\":null,\"data\":{\"x\":{\"__ndarray__\":\"lzTShKoJ4776bEk1jvfivsZRKXH10+K+UAryhWSl4r6lRWvZ4XXivrQsF9d9P+K+M/9mwJYC4r5/aQL98cHhvoo9zcdneuG+TodkrLYs4b7ku8hSxdjgvi0+3RwKfuC+Xu7PqjQc4L7sOJl7BynfvomAWLqOpNq+yw7sDptfyr4+hzfhp8LJPlZTWfhGmus+YbWTLPk5/j7//jR8H30LP6CkBKLo2hY/D4nMiQlGIT8ydQT7BK4jP9Gg9DzmViE/Mba2ZeBYGz+eQNlhN0YTP96bw6U+gQk/9iyF93a6/z7A/fl/yLPxPsBsz18Ymd4+f8Nc3Tnzoj7NUIlFCtzQvlRONrC6i92+lcDYQNnT4r4ISH9SYl/lvgXDWEQroeW+vP55PLIX5b4sBaP7kVzmvsIb1mWeuOi+TmRMY4027L52TwmFaODzvgiqxmmjcAO/kduqBd6FC798leVpAvsDvz2tQljOpw8/WW+bxhWqNT/PXBkwnkNNP6X0fyDWoV4/b0L8X5Bdaj8D3OP1Nvd0P6apBB1LZX8/RK3qXodnhj/VmGZzAr6OP5LawRFvYJQ/h8h03oJJmj8muDVCb4ygP9X4AyAZa6Q/4lcUxZfIqD+kw+0XhqStPwYh3EFFhbE/vo0M85d2tD/4QaJ4sYq3P3i1/afyqLo/Dw60CrSevz8lTe49fQDCP6c0i+XQAcQ/dCJFjdf2xT+kHZK14QvHP5Ziw6qsM8g/+vg6X6KwyT/NpzOc133LPysX6OKImM0/hW7+eBIF0D/xhPtUV3bRP1hAmS32atM/\",\"dtype\":\"float64\",\"shape\":[75]},\"y\":{\"__ndarray__\":\"GhExyth1ND/Sv8nbtpRIP2vylNV0PVE/aTum7souWD/At0SJ8fVgPw3Iuahxymc/MSNhhJWvcD/bTfBN02d3P2zb5nxnaoA/CD5h5MAGhz8NmeH1TyaQP+zrCsc9p5Y/LbKd76fGnz/bLW5ISEmmPww9YvTcQq8/JV2OstnstT8Er5Y7M8G+P0c+r3jqkcU/5h99k6ZBzj88bCIzFzjVP4enV8oyxN0//yH99nXg5D8qOpLLf0jtP5kqGJXUifQ/c9cS8kHP/D+/DpwzojQEQIEmwoanVwxA4lgXt9HgE0BSSZ2AJuIbQAMJih9jjiNA5q4l5INuK0AwTKYKRj0zQNv5fmq8/DpAaCJseHrtQkB/+zpwzoxKQM3MzMzMeFJAZmZmZmZqWEAAAAAAAFxeQM3MzMzMJmJAmpmZmZkfZUBmZmZmZhhoQDMzMzMzEWtAAAAAAAAKbkBmZmZmZoFwQM3MzMzM/XFAMzMzMzN6c0CamZmZmfZ0QAAAAAAAc3ZAZmZmZmbvd0DNzMzMzGt5QDMzMzMz6HpAmpmZmZlkfEAAAAAAAOF9QGZmZmZmXX9AZmZmZuZsgECamZmZGSuBQM3MzMxM6YFAAAAAAICngkAzMzMzs2WDQGZmZmbmI4RAmpmZmRnihEDNzMzMTKCFQAAAAACAXoZAMzMzM7Mch0BmZmZm5tqHQJqZmZkZmYhAzczMzExXiUAAAAAAgBWKQDMzMzOz04pAZmZmZuaRi0CamZmZGVCMQM3MzMxMDo1AAAAAAIDMjUAzMzMzs4qOQGZmZmbmSI9A\",\"dtype\":\"float64\",\"shape\":[75]}},\"selected\":{\"id\":\"dd738e87-3e83-4292-8593-96b7f1d9df47\",\"type\":\"Selection\"},\"selection_policy\":{\"id\":\"fb2cad6d-f373-4139-aa86-28ad5e971702\",\"type\":\"UnionRenderers\"}},\"id\":\"5d84d16d-98c8-4af5-9b20-ee6dc9d7f934\",\"type\":\"ColumnDataSource\"},{\"attributes\":{},\"id\":\"662cc1ac-4e5f-4a16-b702-dbbfb52c5329\",\"type\":\"WheelZoomTool\"},{\"attributes\":{},\"id\":\"56b7734d-04cf-4707-8a49-79005db5d197\",\"type\":\"BasicTicker\"},{\"attributes\":{\"axis_label\":\"pressure [mb]\",\"formatter\":{\"id\":\"c694a689-73cf-4798-8186-0947049b8f5c\",\"type\":\"BasicTickFormatter\"},\"plot\":{\"id\":\"6a16e4c8-268c-47df-86d8-5aba0a1a69b3\",\"subtype\":\"Figure\",\"type\":\"Plot\"},\"ticker\":{\"id\":\"4c2edd3f-42a5-4bfc-b3f8-7585816980c0\",\"type\":\"BasicTicker\"}},\"id\":\"7eabb008-c328-42dd-816f-90066ddc1e8a\",\"type\":\"LinearAxis\"},{\"attributes\":{\"source\":{\"id\":\"ca94044f-9cf7-42f9-8a4e-7ce9779b22ed\",\"type\":\"ColumnDataSource\"}},\"id\":\"fb4442f7-cfd1-416f-97e8-ecc77a391a1e\",\"type\":\"CDSView\"},{\"attributes\":{\"callback\":null,\"end\":0.01,\"start\":1020},\"id\":\"b3f065ae-520f-4246-b36f-81d99853cfcd\",\"type\":\"Range1d\"},{\"attributes\":{\"data_source\":{\"id\":\"42cb80ed-b3e5-4e0a-9862-3fce2d844968\",\"type\":\"ColumnDataSource\"},\"glyph\":{\"id\":\"6f0836f6-f7a1-4ec4-ae8f-1e0eaddebeca\",\"type\":\"Circle\"},\"hover_glyph\":null,\"muted_glyph\":null,\"nonselection_glyph\":{\"id\":\"4e471145-3f76-4c6b-beed-bb9c9c39cbe8\",\"type\":\"Circle\"},\"selection_glyph\":null,\"view\":{\"id\":\"1c70d4ab-a498-495b-83ff-e0ab9501557c\",\"type\":\"CDSView\"}},\"id\":\"12413df0-64c7-45c3-93ce-e743b899ac8d\",\"type\":\"GlyphRenderer\"},{\"attributes\":{\"dimension\":1,\"plot\":{\"id\":\"6a16e4c8-268c-47df-86d8-5aba0a1a69b3\",\"subtype\":\"Figure\",\"type\":\"Plot\"},\"ticker\":{\"id\":\"4c2edd3f-42a5-4bfc-b3f8-7585816980c0\",\"type\":\"BasicTicker\"}},\"id\":\"fb2a3ec7-e7b3-441f-a290-779deeb9c1b8\",\"type\":\"Grid\"},{\"attributes\":{},\"id\":\"4c2edd3f-42a5-4bfc-b3f8-7585816980c0\",\"type\":\"BasicTicker\"},{\"attributes\":{\"bottom_units\":\"screen\",\"fill_alpha\":{\"value\":0.5},\"fill_color\":{\"value\":\"lightgrey\"},\"left_units\":\"screen\",\"level\":\"overlay\",\"line_alpha\":{\"value\":1.0},\"line_color\":{\"value\":\"black\"},\"line_dash\":[4,4],\"line_width\":{\"value\":2},\"plot\":null,\"render_mode\":\"css\",\"right_units\":\"screen\",\"top_units\":\"screen\"},\"id\":\"640d246e-6778-490b-ae6a-b0a3c70d3a01\",\"type\":\"BoxAnnotation\"},{\"attributes\":{},\"id\":\"35248bf2-b53f-49ce-bd79-6e28458aedfd\",\"type\":\"HelpTool\"},{\"attributes\":{\"source\":{\"id\":\"5eacfb43-b74b-46df-a013-57dfa90bba1f\",\"type\":\"ColumnDataSource\"}},\"id\":\"93a3dfad-de73-4281-a653-eb7ff0913c3a\",\"type\":\"CDSView\"},{\"attributes\":{\"callback\":null,\"end\":0.000151850538481,\"start\":-2.2147026581e-05},\"id\":\"07ba91f4-8255-463f-90b2-4f29eaeb560c\",\"type\":\"Range1d\"},{\"attributes\":{\"fill_alpha\":{\"value\":0.1},\"fill_color\":{\"value\":\"#1f77b4\"},\"line_alpha\":{\"value\":0.1},\"line_color\":{\"value\":\"#1f77b4\"},\"x\":{\"field\":\"x\"},\"y\":{\"field\":\"y\"}},\"id\":\"b9a4bd60-23b0-4778-baf1-8883f101b5bb\",\"type\":\"Circle\"},{\"attributes\":{},\"id\":\"ba5f6620-c7ff-49e0-bdc7-9b044ecbf629\",\"type\":\"LinearScale\"},{\"attributes\":{\"line_color\":\"#4daf4a\",\"line_width\":1.5,\"x\":{\"field\":\"x\"},\"y\":{\"field\":\"y\"}},\"id\":\"c8acf2c5-382f-46c0-ba97-9add10a8d7d9\",\"type\":\"Line\"},{\"attributes\":{\"data_source\":{\"id\":\"06b664a0-dcee-40f7-a8ce-4e07cf118944\",\"type\":\"ColumnDataSource\"},\"glyph\":{\"id\":\"f098e855-214e-45f5-beeb-e8f4f088cbb7\",\"type\":\"Line\"},\"hover_glyph\":null,\"muted_glyph\":null,\"nonselection_glyph\":{\"id\":\"bef6a4c9-84f1-446a-bf1a-c46198f4400f\",\"type\":\"Line\"},\"selection_glyph\":null,\"view\":{\"id\":\"026b2f5f-c042-4e01-8226-f385b4749e02\",\"type\":\"CDSView\"}},\"id\":\"9e5790bf-71fb-4fe5-b984-20e9a99f382b\",\"type\":\"GlyphRenderer\"},{\"attributes\":{\"callback\":null,\"data\":{\"x\":{\"__ndarray__\":\"8gYo8OVz3b7x2LABb3fdvuwqbJByet2+KVY3tZt63b6icWVY/XXdvmQ5IH4RbN2+C1YXqCBe3b78F5oXFUvdvuqkrJ8RM92+YmuiQYEV3b7v+DWAWfLcvvTiSyiNydy+C4Z2w4+a3L4fhcvjKFXcvjSlgq/7/9q+B2ut3epD1r4EZZXJUKrHvghJ7Q0k6Lk+o5Lup1Eu4j614yFE38L0PnKQPd4eNwM/cnbLgjXODj9wJM5dAdgRP/qWgOwQGA8/j/FsId7iBz/ojMlcCgAAP9P4LE/UavM+xQTUNkyF5D7Ir0YvjnXNPrIWZX3qVa++c3cUj2rv0L7EWlruvuHZvsDadfb77t++JOW+SqoB4r7tiuBwC0bjvjyOn3l8OuO+WTOrh78C476TKTIdEK3kvj2jQ+K5vue+npTwVppx7L58LS5gIm/1vsbNRhDjTAe/MI5LWbAeFL9/uz8ByIQav0ruLO+qMBW/0mZ/Yo2tDD+lIw55b+E6PyWIaChAN1I/nlyN/s7aYT/c/wN+acBuPyMPPKY5b3g/ynQs/Cw+gj/PqZto3POJP/+gALuQtJE/P/9jP5Belz+fl9EZ5vWdPzbXUHXGuqI/dpPjyGbypj9OHW1VgJqrP1GcmRwbWrA/AqQ7Kiwosz/uVz4h9Bm2P4s1Nh38Irk/BGYMExAKvj/2QvKvlE7BPwSw9ObfisM/nBnHCCThxT+gnKTeM3DHP2q1MuK8H8k/IjH5Ei4syz9YSwi1IpPNP7pSRpHyKdA/D2L22dm80T/E7j8aXI/TP3xGRYy14NU/\",\"dtype\":\"float64\",\"shape\":[75]},\"y\":{\"__ndarray__\":\"GhExyth1ND/Sv8nbtpRIP2vylNV0PVE/aTum7souWD/At0SJ8fVgPw3Iuahxymc/MSNhhJWvcD/bTfBN02d3P2zb5nxnaoA/CD5h5MAGhz8NmeH1TyaQP+zrCsc9p5Y/LbKd76fGnz/bLW5ISEmmPww9YvTcQq8/JV2OstnstT8Er5Y7M8G+P0c+r3jqkcU/5h99k6ZBzj88bCIzFzjVP4enV8oyxN0//yH99nXg5D8qOpLLf0jtP5kqGJXUifQ/c9cS8kHP/D+/DpwzojQEQIEmwoanVwxA4lgXt9HgE0BSSZ2AJuIbQAMJih9jjiNA5q4l5INuK0AwTKYKRj0zQNv5fmq8/DpAaCJseHrtQkB/+zpwzoxKQM3MzMzMeFJAZmZmZmZqWEAAAAAAAFxeQM3MzMzMJmJAmpmZmZkfZUBmZmZmZhhoQDMzMzMzEWtAAAAAAAAKbkBmZmZmZoFwQM3MzMzM/XFAMzMzMzN6c0CamZmZmfZ0QAAAAAAAc3ZAZmZmZmbvd0DNzMzMzGt5QDMzMzMz6HpAmpmZmZlkfEAAAAAAAOF9QGZmZmZmXX9AZmZmZuZsgECamZmZGSuBQM3MzMxM6YFAAAAAAICngkAzMzMzs2WDQGZmZmbmI4RAmpmZmRnihEDNzMzMTKCFQAAAAACAXoZAMzMzM7Mch0BmZmZm5tqHQJqZmZkZmYhAzczMzExXiUAAAAAAgBWKQDMzMzOz04pAZmZmZuaRi0CamZmZGVCMQM3MzMxMDo1AAAAAAIDMjUAzMzMzs4qOQGZmZmbmSI9A\",\"dtype\":\"float64\",\"shape\":[75]}},\"selected\":{\"id\":\"6ba9a809-6559-4bf8-96f6-c1f2e6859bb9\",\"type\":\"Selection\"},\"selection_policy\":{\"id\":\"6fa4738b-bd32-4c3e-b068-37490fb5c819\",\"type\":\"UnionRenderers\"}},\"id\":\"ccda7112-f06b-485d-b263-2c249f4fb079\",\"type\":\"ColumnDataSource\"},{\"attributes\":{\"source\":{\"id\":\"5d84d16d-98c8-4af5-9b20-ee6dc9d7f934\",\"type\":\"ColumnDataSource\"}},\"id\":\"8ae2bb86-0592-4d6e-abe6-8c094f8951d2\",\"type\":\"CDSView\"},{\"attributes\":{\"callback\":null,\"data\":{\"x\":{\"__ndarray__\":\"vQ01w5wj9b7vwp01Qu8FvztsNK2aAuG+GFunpJva376mTQ5b3gHfvkKhUqEtSN6+H95OFwmZ3r7/NQF2psTdvuQYuh0Z392+hfxuNKeT3b5lIzunUordvqd/eH+Pld2+DHJLmeKW376810ILvinovg5kVl+1Dem+6lYpNdL24L4HYcP68ynUvmm/G8fGULG+E1fK3WKd1D4u03iYZFbtPtvbmBgVeP0+Mocd8YlqCT9ApJg4RJ0NP5NiwjAkYgk/3IvZbjo2Az+cbH6xtwD5PukJsdL5wOw+ou3fGn7Y2j4UemplcKSzPii+lxoxAMW+Q4hq/E8U1b7d8Rkifx7cviyEgkTJPeC+nKHqiVVg4b4WcubgiT3ivkNXt2uXbeK+lSHPRUpT4r7hQnKMLebjvv1DBG15qea+wwYtzN8N674pdUbTNNL0vimO80i32we/phW4yX4mFr8cUGWhx40gv1dUegTWhyK/drm6pbeSEr8U8rDLbH0nP0jCnIDD9kc/ji7yjxcCWz/n/9YQwydpPwc1fMLL8HQ/CDMTa31BgD85BJsuHOyHPzwqTTZd0JA/3gi2CpWRlj9R3dMKEFudP46d0QXekaI/HQIF5jrwpj8AAL7jLbqrP7o51HBDbLA/bHDHQEMksz//Ou6WDwG2PxVgDnFi/rg/3cFf/tDtvT95VnfR/FbBP4zv7nUQw8M/mbPjKyZbxj/hJ8yDDTLIPyPGQt+jH8o/PEU3kGhhzD8sFCMq2O/OP+W0Kx1B5NA/w2DEXw990j84poLlY1LUP64T8pyImdY/\",\"dtype\":\"float64\",\"shape\":[75]},\"y\":{\"__ndarray__\":\"S/O/Q+51ND/Sv8nbtpRIP2vylNV0PVE/aTum7souWD/At0SJ8fVgPw3Iuahxymc/MSNhhJWvcD/bTfBN02d3P2zb5nxnaoA/CD5h5MAGhz8NmeH1TyaQP+zrCsc9p5Y/LbKd76fGnz/bLW5ISEmmPww9YvTcQq8/JV2OstnstT8Er5Y7M8G+P0c+r3jqkcU/5h99k6ZBzj88bCIzFzjVP4enV8oyxN0//yH99nXg5D8qOpLLf0jtP5kqGJXUifQ/c9cS8kHP/D+/DpwzojQEQIEmwoanVwxA4lgXt9HgE0BSSZ2AJuIbQAMJih9jjiNA5q4l5INuK0AwTKYKRj0zQNv5fmq8/DpAaCJseHrtQkB/+zpwzoxKQM3MzMzMeFJAZmZmZmZqWEAAAAAAAFxeQM3MzMzMJmJAmpmZmZkfZUBmZmZmZhhoQDMzMzMzEWtAAAAAAAAKbkBmZmZmZoFwQM3MzMzM/XFAMzMzMzN6c0CamZmZmfZ0QAAAAAAAc3ZAZmZmZmbvd0DNzMzMzGt5QDMzMzMz6HpAmpmZmZlkfEAAAAAAAOF9QGZmZmZmXX9AZmZmZuZsgECamZmZGSuBQM3MzMxM6YFAAAAAAICngkAzMzMzs2WDQGZmZmbmI4RAmpmZmRnihEDNzMzMTKCFQAAAAACAXoZAMzMzM7Mch0BmZmZm5tqHQJqZmZkZmYhAzczMzExXiUAAAAAAgBWKQDMzMzOz04pAZmZmZuaRi0CamZmZGVCMQM3MzMxMDo1AAAAAAIDMjUAzMzMzs4qOQGZmZmbmSI9A\",\"dtype\":\"float64\",\"shape\":[75]}},\"selected\":{\"id\":\"522bef1a-eedd-44a7-ab27-cbeacb46e0da\",\"type\":\"Selection\"},\"selection_policy\":{\"id\":\"a2916483-a62a-4a12-9c06-234761561a83\",\"type\":\"UnionRenderers\"}},\"id\":\"06b664a0-dcee-40f7-a8ce-4e07cf118944\",\"type\":\"ColumnDataSource\"},{\"attributes\":{\"fill_alpha\":{\"value\":0.7},\"fill_color\":{\"value\":\"#4daf4a\"},\"line_alpha\":{\"value\":0.7},\"line_color\":{\"value\":\"#4daf4a\"},\"x\":{\"field\":\"x\"},\"y\":{\"field\":\"y\"}},\"id\":\"6f0836f6-f7a1-4ec4-ae8f-1e0eaddebeca\",\"type\":\"Circle\"},{\"attributes\":{\"fill_alpha\":{\"value\":0.7},\"fill_color\":{\"value\":\"#4daf4a\"},\"line_alpha\":{\"value\":0.7},\"line_color\":{\"value\":\"#4daf4a\"},\"x\":{\"field\":\"x\"},\"y\":{\"field\":\"y\"}},\"id\":\"76cd36a0-dc05-4181-87f6-a62afc85a12c\",\"type\":\"Circle\"},{\"attributes\":{},\"id\":\"9324ea94-b334-4d49-83b9-bd739e722cb1\",\"type\":\"ResetTool\"},{\"attributes\":{\"callback\":null,\"data\":{\"x\":{\"__ndarray__\":\"lzTShKoJ4776bEk1jvfivsZRKXH10+K+UAryhWSl4r6lRWvZ4XXivrQsF9d9P+K+M/9mwJYC4r5/aQL98cHhvoo9zcdneuG+TodkrLYs4b7ku8hSxdjgvi0+3RwKfuC+Xu7PqjQc4L7sOJl7BynfvomAWLqOpNq+yw7sDptfyr4+hzfhp8LJPlZTWfhGmus+YbWTLPk5/j7//jR8H30LP6CkBKLo2hY/D4nMiQlGIT8ydQT7BK4jP9Gg9DzmViE/Mba2ZeBYGz+eQNlhN0YTP96bw6U+gQk/9iyF93a6/z7A/fl/yLPxPsBsz18Ymd4+f8Nc3Tnzoj7NUIlFCtzQvlRONrC6i92+lcDYQNnT4r4ISH9SYl/lvgXDWEQroeW+vP55PLIX5b4sBaP7kVzmvsIb1mWeuOi+TmRMY4027L52TwmFaODzvgiqxmmjcAO/kduqBd6FC798leVpAvsDvz2tQljOpw8/WW+bxhWqNT/PXBkwnkNNP6X0fyDWoV4/b0L8X5Bdaj8D3OP1Nvd0P6apBB1LZX8/RK3qXodnhj/VmGZzAr6OP5LawRFvYJQ/h8h03oJJmj8muDVCb4ygP9X4AyAZa6Q/4lcUxZfIqD+kw+0XhqStPwYh3EFFhbE/vo0M85d2tD/4QaJ4sYq3P3i1/afyqLo/Dw60CrSevz8lTe49fQDCP6c0i+XQAcQ/dCJFjdf2xT+kHZK14QvHP5Ziw6qsM8g/+vg6X6KwyT/NpzOc133LPysX6OKImM0/hW7+eBIF0D/xhPtUV3bRP1hAmS32atM/\",\"dtype\":\"float64\",\"shape\":[75]},\"y\":{\"__ndarray__\":\"GhExyth1ND/Sv8nbtpRIP2vylNV0PVE/aTum7souWD/At0SJ8fVgPw3Iuahxymc/MSNhhJWvcD/bTfBN02d3P2zb5nxnaoA/CD5h5MAGhz8NmeH1TyaQP+zrCsc9p5Y/LbKd76fGnz/bLW5ISEmmPww9YvTcQq8/JV2OstnstT8Er5Y7M8G+P0c+r3jqkcU/5h99k6ZBzj88bCIzFzjVP4enV8oyxN0//yH99nXg5D8qOpLLf0jtP5kqGJXUifQ/c9cS8kHP/D+/DpwzojQEQIEmwoanVwxA4lgXt9HgE0BSSZ2AJuIbQAMJih9jjiNA5q4l5INuK0AwTKYKRj0zQNv5fmq8/DpAaCJseHrtQkB/+zpwzoxKQM3MzMzMeFJAZmZmZmZqWEAAAAAAAFxeQM3MzMzMJmJAmpmZmZkfZUBmZmZmZhhoQDMzMzMzEWtAAAAAAAAKbkBmZmZmZoFwQM3MzMzM/XFAMzMzMzN6c0CamZmZmfZ0QAAAAAAAc3ZAZmZmZmbvd0DNzMzMzGt5QDMzMzMz6HpAmpmZmZlkfEAAAAAAAOF9QGZmZmZmXX9AZmZmZuZsgECamZmZGSuBQM3MzMxM6YFAAAAAAICngkAzMzMzs2WDQGZmZmbmI4RAmpmZmRnihEDNzMzMTKCFQAAAAACAXoZAMzMzM7Mch0BmZmZm5tqHQJqZmZkZmYhAzczMzExXiUAAAAAAgBWKQDMzMzOz04pAZmZmZuaRi0CamZmZGVCMQM3MzMxMDo1AAAAAAIDMjUAzMzMzs4qOQGZmZmbmSI9A\",\"dtype\":\"float64\",\"shape\":[75]}},\"selected\":{\"id\":\"2fb9f9c8-b13c-4e72-94b5-4adad4a96ea9\",\"type\":\"Selection\"},\"selection_policy\":{\"id\":\"742a1329-e872-40ea-be8f-16b7ce0c4cc5\",\"type\":\"UnionRenderers\"}},\"id\":\"17cea38d-afa6-4578-a334-b3ac436b2006\",\"type\":\"ColumnDataSource\"},{\"attributes\":{\"line_alpha\":0.1,\"line_color\":\"#1f77b4\",\"line_width\":1.5,\"x\":{\"field\":\"x\"},\"y\":{\"field\":\"y\"}},\"id\":\"660fdc05-97a8-4316-bedf-8458188014c1\",\"type\":\"Line\"},{\"attributes\":{\"callback\":null,\"data\":{\"x\":{\"__ndarray__\":\"lzTShKoJ4776bEk1jvfivsZRKXH10+K+UAryhWSl4r6lRWvZ4XXivrQsF9d9P+K+M/9mwJYC4r5/aQL98cHhvoo9zcdneuG+TodkrLYs4b7ku8hSxdjgvi0+3RwKfuC+Xu7PqjQc4L7sOJl7BynfvomAWLqOpNq+yw7sDptfyr4+hzfhp8LJPlZTWfhGmus+YbWTLPk5/j7//jR8H30LP6CkBKLo2hY/D4nMiQlGIT8ydQT7BK4jP9Gg9DzmViE/Mba2ZeBYGz+eQNlhN0YTP96bw6U+gQk/9iyF93a6/z7A/fl/yLPxPsBsz18Ymd4+f8Nc3Tnzoj7NUIlFCtzQvlRONrC6i92+lcDYQNnT4r4ISH9SYl/lvgXDWEQroeW+vP55PLIX5b4sBaP7kVzmvsIb1mWeuOi+TmRMY4027L52TwmFaODzvgiqxmmjcAO/kduqBd6FC798leVpAvsDvz2tQljOpw8/WW+bxhWqNT/PXBkwnkNNP6X0fyDWoV4/b0L8X5Bdaj8D3OP1Nvd0P6apBB1LZX8/RK3qXodnhj/VmGZzAr6OP5LawRFvYJQ/h8h03oJJmj8muDVCb4ygP9X4AyAZa6Q/4lcUxZfIqD+kw+0XhqStPwYh3EFFhbE/vo0M85d2tD/4QaJ4sYq3P3i1/afyqLo/Dw60CrSevz8lTe49fQDCP6c0i+XQAcQ/dCJFjdf2xT+kHZK14QvHP5Ziw6qsM8g/+vg6X6KwyT/NpzOc133LPysX6OKImM0/hW7+eBIF0D/xhPtUV3bRP1hAmS32atM/\",\"dtype\":\"float64\",\"shape\":[75]},\"y\":{\"__ndarray__\":\"GhExyth1ND/Sv8nbtpRIP2vylNV0PVE/aTum7souWD/At0SJ8fVgPw3Iuahxymc/MSNhhJWvcD/bTfBN02d3P2zb5nxnaoA/CD5h5MAGhz8NmeH1TyaQP+zrCsc9p5Y/LbKd76fGnz/bLW5ISEmmPww9YvTcQq8/JV2OstnstT8Er5Y7M8G+P0c+r3jqkcU/5h99k6ZBzj88bCIzFzjVP4enV8oyxN0//yH99nXg5D8qOpLLf0jtP5kqGJXUifQ/c9cS8kHP/D+/DpwzojQEQIEmwoanVwxA4lgXt9HgE0BSSZ2AJuIbQAMJih9jjiNA5q4l5INuK0AwTKYKRj0zQNv5fmq8/DpAaCJseHrtQkB/+zpwzoxKQM3MzMzMeFJAZmZmZmZqWEAAAAAAAFxeQM3MzMzMJmJAmpmZmZkfZUBmZmZmZhhoQDMzMzMzEWtAAAAAAAAKbkBmZmZmZoFwQM3MzMzM/XFAMzMzMzN6c0CamZmZmfZ0QAAAAAAAc3ZAZmZmZmbvd0DNzMzMzGt5QDMzMzMz6HpAmpmZmZlkfEAAAAAAAOF9QGZmZmZmXX9AZmZmZuZsgECamZmZGSuBQM3MzMxM6YFAAAAAAICngkAzMzMzs2WDQGZmZmbmI4RAmpmZmRnihEDNzMzMTKCFQAAAAACAXoZAMzMzM7Mch0BmZmZm5tqHQJqZmZkZmYhAzczMzExXiUAAAAAAgBWKQDMzMzOz04pAZmZmZuaRi0CamZmZGVCMQM3MzMxMDo1AAAAAAIDMjUAzMzMzs4qOQGZmZmbmSI9A\",\"dtype\":\"float64\",\"shape\":[75]}},\"selected\":{\"id\":\"c333bffd-9f47-45c2-83e8-5d36cc4ebae7\",\"type\":\"Selection\"},\"selection_policy\":{\"id\":\"8bbd4bda-8139-4895-ac4e-229b8e94132d\",\"type\":\"UnionRenderers\"}},\"id\":\"42cb80ed-b3e5-4e0a-9862-3fce2d844968\",\"type\":\"ColumnDataSource\"},{\"attributes\":{\"data_source\":{\"id\":\"17cea38d-afa6-4578-a334-b3ac436b2006\",\"type\":\"ColumnDataSource\"},\"glyph\":{\"id\":\"c8acf2c5-382f-46c0-ba97-9add10a8d7d9\",\"type\":\"Line\"},\"hover_glyph\":null,\"muted_glyph\":null,\"nonselection_glyph\":{\"id\":\"660fdc05-97a8-4316-bedf-8458188014c1\",\"type\":\"Line\"},\"selection_glyph\":null,\"view\":{\"id\":\"a0717976-fcfd-423c-9b75-4bd2d6f0e1c8\",\"type\":\"CDSView\"}},\"id\":\"17cfaaa6-d76c-4bdd-a39c-ade905104b39\",\"type\":\"GlyphRenderer\"},{\"attributes\":{\"source\":{\"id\":\"17cea38d-afa6-4578-a334-b3ac436b2006\",\"type\":\"ColumnDataSource\"}},\"id\":\"a0717976-fcfd-423c-9b75-4bd2d6f0e1c8\",\"type\":\"CDSView\"},{\"attributes\":{\"fill_alpha\":{\"value\":0.7},\"fill_color\":{\"value\":\"#984ea3\"},\"line_alpha\":{\"value\":0.7},\"line_color\":{\"value\":\"#984ea3\"},\"x\":{\"field\":\"x\"},\"y\":{\"field\":\"y\"}},\"id\":\"a3c10c5c-4481-4138-b443-ebf99aac457e\",\"type\":\"Square\"},{\"attributes\":{\"children\":[{\"id\":\"6a16e4c8-268c-47df-86d8-5aba0a1a69b3\",\"subtype\":\"Figure\",\"type\":\"Plot\"},{\"id\":\"43b844e5-cb7c-444e-a83b-8434d92833c0\",\"subtype\":\"Figure\",\"type\":\"Plot\"}]},\"id\":\"3b2c2ba7-2888-4898-8a54-a1bea283c520\",\"type\":\"Row\"},{\"attributes\":{\"fill_alpha\":{\"value\":0.1},\"fill_color\":{\"value\":\"#1f77b4\"},\"line_alpha\":{\"value\":0.1},\"line_color\":{\"value\":\"#1f77b4\"},\"x\":{\"field\":\"x\"},\"y\":{\"field\":\"y\"}},\"id\":\"832083d0-bf06-475d-946c-203a8c4dcf33\",\"type\":\"Square\"},{\"attributes\":{\"data_source\":{\"id\":\"ccda7112-f06b-485d-b263-2c249f4fb079\",\"type\":\"ColumnDataSource\"},\"glyph\":{\"id\":\"a3c10c5c-4481-4138-b443-ebf99aac457e\",\"type\":\"Square\"},\"hover_glyph\":null,\"muted_glyph\":null,\"nonselection_glyph\":{\"id\":\"832083d0-bf06-475d-946c-203a8c4dcf33\",\"type\":\"Square\"},\"selection_glyph\":null,\"view\":{\"id\":\"76858dff-fc60-489b-b333-28fb089c3cc6\",\"type\":\"CDSView\"}},\"id\":\"7135bb1a-c7a9-4216-a206-b461e0f8310b\",\"type\":\"GlyphRenderer\"},{\"attributes\":{},\"id\":\"968cc54c-06db-4312-ae8d-8e70062943fa\",\"type\":\"LinearScale\"},{\"attributes\":{\"children\":[{\"id\":\"3b2c2ba7-2888-4898-8a54-a1bea283c520\",\"type\":\"Row\"}]},\"id\":\"c8272d3d-4656-4031-ad9d-1b59f20e8eb9\",\"type\":\"Column\"},{\"attributes\":{\"callback\":null,\"end\":0.3566535732733,\"start\":-0.0036740006033},\"id\":\"8cf10e9d-f08b-477a-a461-908ad6978fba\",\"type\":\"Range1d\"},{\"attributes\":{\"label\":{\"value\":\"CLIRAD `coolr_bands`\"},\"renderers\":[{\"id\":\"d7cc66c3-9f90-4ec9-8104-3ec0a736897c\",\"type\":\"GlyphRenderer\"}]},\"id\":\"e9ca52aa-4e8c-4f39-8f1a-0397fb40e033\",\"type\":\"LegendItem\"},{\"attributes\":{},\"id\":\"522bef1a-eedd-44a7-ab27-cbeacb46e0da\",\"type\":\"Selection\"},{\"attributes\":{\"label\":{\"value\":\"CRD\"},\"renderers\":[{\"id\":\"1b2d9570-070c-4716-b7fa-f7199248bd81\",\"type\":\"GlyphRenderer\"},{\"id\":\"17cfaaa6-d76c-4bdd-a39c-ade905104b39\",\"type\":\"GlyphRenderer\"}]},\"id\":\"dc3d10c9-280e-46ad-9f4b-4321d7ee8adf\",\"type\":\"LegendItem\"},{\"attributes\":{},\"id\":\"aa39bd18-5999-4e53-b414-736b6d670f47\",\"type\":\"Selection\"},{\"attributes\":{\"label\":{\"value\":\"WGT igg=10 wgt_flux=2\"},\"renderers\":[{\"id\":\"7135bb1a-c7a9-4216-a206-b461e0f8310b\",\"type\":\"GlyphRenderer\"},{\"id\":\"b630734b-ce69-45ff-9104-7c4aee50ed18\",\"type\":\"GlyphRenderer\"}]},\"id\":\"89f133de-fc42-4b07-b599-dd9fe997fb2a\",\"type\":\"LegendItem\"},{\"attributes\":{},\"id\":\"8bbd4bda-8139-4895-ac4e-229b8e94132d\",\"type\":\"UnionRenderers\"},{\"attributes\":{\"below\":[{\"id\":\"e43c434b-0082-49e4-9c3d-a5f34270dee6\",\"type\":\"LinearAxis\"}],\"left\":[{\"id\":\"7eabb008-c328-42dd-816f-90066ddc1e8a\",\"type\":\"LinearAxis\"}],\"plot_height\":500,\"plot_width\":400,\"renderers\":[{\"id\":\"e43c434b-0082-49e4-9c3d-a5f34270dee6\",\"type\":\"LinearAxis\"},{\"id\":\"d96d6f7f-a9a5-4887-887f-cd8808924c67\",\"type\":\"Grid\"},{\"id\":\"7eabb008-c328-42dd-816f-90066ddc1e8a\",\"type\":\"LinearAxis\"},{\"id\":\"fb2a3ec7-e7b3-441f-a290-779deeb9c1b8\",\"type\":\"Grid\"},{\"id\":\"640d246e-6778-490b-ae6a-b0a3c70d3a01\",\"type\":\"BoxAnnotation\"},{\"id\":\"9e5790bf-71fb-4fe5-b984-20e9a99f382b\",\"type\":\"GlyphRenderer\"},{\"id\":\"12413df0-64c7-45c3-93ce-e743b899ac8d\",\"type\":\"GlyphRenderer\"},{\"id\":\"db20f03a-9bee-4706-8a1d-f66f1a9c9821\",\"type\":\"GlyphRenderer\"},{\"id\":\"649814b2-84b6-4dab-98f9-bc566297ad59\",\"type\":\"GlyphRenderer\"},{\"id\":\"59d6f408-45fa-44a9-a8e0-bffa10908219\",\"type\":\"GlyphRenderer\"}],\"title\":{\"id\":\"872dec7f-7b9a-42e9-8822-ee725b41d73f\",\"type\":\"Title\"},\"toolbar\":{\"id\":\"440c29c6-d02b-46e8-8d29-c18f318be89d\",\"type\":\"Toolbar\"},\"toolbar_location\":null,\"x_range\":{\"id\":\"8cf10e9d-f08b-477a-a461-908ad6978fba\",\"type\":\"Range1d\"},\"x_scale\":{\"id\":\"aeb198ad-4432-4638-be21-3969d454eadd\",\"type\":\"LinearScale\"},\"y_range\":{\"id\":\"b3f065ae-520f-4246-b36f-81d99853cfcd\",\"type\":\"Range1d\"},\"y_scale\":{\"id\":\"968cc54c-06db-4312-ae8d-8e70062943fa\",\"type\":\"LinearScale\"}},\"id\":\"6a16e4c8-268c-47df-86d8-5aba0a1a69b3\",\"subtype\":\"Figure\",\"type\":\"Plot\"},{\"attributes\":{},\"id\":\"b99b1019-731a-47b0-884b-64850eb9e9d0\",\"type\":\"BasicTickFormatter\"},{\"attributes\":{},\"id\":\"aeb198ad-4432-4638-be21-3969d454eadd\",\"type\":\"LinearScale\"},{\"attributes\":{},\"id\":\"c694a689-73cf-4798-8186-0947049b8f5c\",\"type\":\"BasicTickFormatter\"},{\"attributes\":{},\"id\":\"a2916483-a62a-4a12-9c06-234761561a83\",\"type\":\"UnionRenderers\"},{\"attributes\":{},\"id\":\"c333bffd-9f47-45c2-83e8-5d36cc4ebae7\",\"type\":\"Selection\"},{\"attributes\":{\"fill_alpha\":{\"value\":0.1},\"fill_color\":{\"value\":\"#1f77b4\"},\"line_alpha\":{\"value\":0.1},\"line_color\":{\"value\":\"#1f77b4\"},\"x\":{\"field\":\"x\"},\"y\":{\"field\":\"y\"}},\"id\":\"4e471145-3f76-4c6b-beed-bb9c9c39cbe8\",\"type\":\"Circle\"},{\"attributes\":{\"ticker\":null},\"id\":\"02396c7a-3e32-4971-ad68-95c8d7c8d014\",\"type\":\"LogTickFormatter\"},{\"attributes\":{},\"id\":\"94def190-ddbb-4b45-94ed-550b9947a41c\",\"type\":\"UnionRenderers\"},{\"attributes\":{},\"id\":\"d3b2fcfc-edaa-4b6c-a3b1-a3f2faf9f90e\",\"type\":\"Selection\"},{\"attributes\":{},\"id\":\"ad5a02e3-973d-4620-aadb-3dd24dd4b503\",\"type\":\"UnionRenderers\"},{\"attributes\":{\"line_alpha\":0.1,\"line_color\":\"#1f77b4\",\"line_dash\":[6],\"line_width\":5,\"x\":{\"field\":\"x\"},\"y\":{\"field\":\"y\"}},\"id\":\"bef6a4c9-84f1-446a-bf1a-c46198f4400f\",\"type\":\"Line\"},{\"attributes\":{},\"id\":\"b79d5491-45fe-4727-b1b1-1a29f6241fdb\",\"type\":\"BasicTickFormatter\"},{\"attributes\":{\"line_alpha\":0.6,\"line_color\":\"#e41a1c\",\"line_dash\":[6],\"line_width\":5,\"x\":{\"field\":\"x\"},\"y\":{\"field\":\"y\"}},\"id\":\"f098e855-214e-45f5-beeb-e8f4f088cbb7\",\"type\":\"Line\"},{\"attributes\":{},\"id\":\"1d207f4c-54c9-4252-9894-598ec627936e\",\"type\":\"Selection\"},{\"attributes\":{},\"id\":\"ba3dcc7f-f373-4aa8-9475-54d15b588958\",\"type\":\"Selection\"},{\"attributes\":{},\"id\":\"0243d503-290a-4528-815e-ed00834a2765\",\"type\":\"UnionRenderers\"},{\"attributes\":{\"below\":[{\"id\":\"bf4bbf04-8748-4666-9ee7-8bea5a93399c\",\"type\":\"LinearAxis\"}],\"left\":[{\"id\":\"3265ae46-99db-42bb-a4af-614737f066e9\",\"type\":\"LogAxis\"}],\"plot_height\":500,\"plot_width\":560,\"renderers\":[{\"id\":\"bf4bbf04-8748-4666-9ee7-8bea5a93399c\",\"type\":\"LinearAxis\"},{\"id\":\"f3e39053-be8a-4686-a88b-459c588695e2\",\"type\":\"Grid\"},{\"id\":\"3265ae46-99db-42bb-a4af-614737f066e9\",\"type\":\"LogAxis\"},{\"id\":\"26bfa2dc-b3c8-4c76-bc67-faac27c3590d\",\"type\":\"Grid\"},{\"id\":\"6032bc75-7bc7-4a12-9708-c75093e268c6\",\"type\":\"BoxAnnotation\"},{\"id\":\"d7cc66c3-9f90-4ec9-8104-3ec0a736897c\",\"type\":\"GlyphRenderer\"},{\"id\":\"1b2d9570-070c-4716-b7fa-f7199248bd81\",\"type\":\"GlyphRenderer\"},{\"id\":\"17cfaaa6-d76c-4bdd-a39c-ade905104b39\",\"type\":\"GlyphRenderer\"},{\"id\":\"7135bb1a-c7a9-4216-a206-b461e0f8310b\",\"type\":\"GlyphRenderer\"},{\"id\":\"b630734b-ce69-45ff-9104-7c4aee50ed18\",\"type\":\"GlyphRenderer\"},{\"id\":\"4fdacaab-1adb-489a-9683-64bd53b8f325\",\"type\":\"Legend\"}],\"right\":[{\"id\":\"4fdacaab-1adb-489a-9683-64bd53b8f325\",\"type\":\"Legend\"}],\"title\":{\"id\":\"f6d6e1be-4ec1-417f-9c2e-67212393693a\",\"type\":\"Title\"},\"toolbar\":{\"id\":\"fa54f96d-2e3c-4c36-b23b-145df04b6d0e\",\"type\":\"Toolbar\"},\"toolbar_location\":null,\"x_range\":{\"id\":\"07ba91f4-8255-463f-90b2-4f29eaeb560c\",\"type\":\"Range1d\"},\"x_scale\":{\"id\":\"ba5f6620-c7ff-49e0-bdc7-9b044ecbf629\",\"type\":\"LinearScale\"},\"y_range\":{\"id\":\"67358f8b-638b-40d3-9bec-e4eed67f96aa\",\"type\":\"Range1d\"},\"y_scale\":{\"id\":\"88adf439-5b3e-4e64-890b-3e64da64681a\",\"type\":\"LogScale\"}},\"id\":\"43b844e5-cb7c-444e-a83b-8434d92833c0\",\"subtype\":\"Figure\",\"type\":\"Plot\"},{\"attributes\":{},\"id\":\"268b021b-755d-476b-9c3a-9b486ff9e62e\",\"type\":\"UnionRenderers\"},{\"attributes\":{},\"id\":\"dd738e87-3e83-4292-8593-96b7f1d9df47\",\"type\":\"Selection\"},{\"attributes\":{\"active_drag\":\"auto\",\"active_inspect\":\"auto\",\"active_scroll\":\"auto\",\"active_tap\":\"auto\",\"tools\":[{\"id\":\"c3fd5060-ce63-4b81-8fbe-a394646e3ded\",\"type\":\"PanTool\"},{\"id\":\"662cc1ac-4e5f-4a16-b702-dbbfb52c5329\",\"type\":\"WheelZoomTool\"},{\"id\":\"a23a20df-0b4d-4df3-aab3-8e99a4ee4834\",\"type\":\"BoxZoomTool\"},{\"id\":\"274b2650-32e2-403b-8ed1-e06904d59e71\",\"type\":\"SaveTool\"},{\"id\":\"9324ea94-b334-4d49-83b9-bd739e722cb1\",\"type\":\"ResetTool\"},{\"id\":\"35248bf2-b53f-49ce-bd79-6e28458aedfd\",\"type\":\"HelpTool\"}]},\"id\":\"440c29c6-d02b-46e8-8d29-c18f318be89d\",\"type\":\"Toolbar\"},{\"attributes\":{},\"id\":\"2fb9f9c8-b13c-4e72-94b5-4adad4a96ea9\",\"type\":\"Selection\"},{\"attributes\":{},\"id\":\"fb2cad6d-f373-4139-aa86-28ad5e971702\",\"type\":\"UnionRenderers\"},{\"attributes\":{\"plot\":null,\"text\":\"Linear pressure scale\"},\"id\":\"872dec7f-7b9a-42e9-8822-ee725b41d73f\",\"type\":\"Title\"},{\"attributes\":{},\"id\":\"742a1329-e872-40ea-be8f-16b7ce0c4cc5\",\"type\":\"UnionRenderers\"},{\"attributes\":{},\"id\":\"6ba9a809-6559-4bf8-96f6-c1f2e6859bb9\",\"type\":\"Selection\"},{\"attributes\":{},\"id\":\"6fa4738b-bd32-4c3e-b068-37490fb5c819\",\"type\":\"UnionRenderers\"},{\"attributes\":{\"tools\":[{\"id\":\"c3fd5060-ce63-4b81-8fbe-a394646e3ded\",\"type\":\"PanTool\"},{\"id\":\"662cc1ac-4e5f-4a16-b702-dbbfb52c5329\",\"type\":\"WheelZoomTool\"},{\"id\":\"a23a20df-0b4d-4df3-aab3-8e99a4ee4834\",\"type\":\"BoxZoomTool\"},{\"id\":\"274b2650-32e2-403b-8ed1-e06904d59e71\",\"type\":\"SaveTool\"},{\"id\":\"9324ea94-b334-4d49-83b9-bd739e722cb1\",\"type\":\"ResetTool\"},{\"id\":\"35248bf2-b53f-49ce-bd79-6e28458aedfd\",\"type\":\"HelpTool\"},{\"id\":\"084cf48d-7f99-45ba-9198-2269173218e5\",\"type\":\"PanTool\"},{\"id\":\"c74d0358-101c-4b65-8b58-f4f9c3a2fe05\",\"type\":\"WheelZoomTool\"},{\"id\":\"d34fe7a5-3f27-4dc7-b668-03c27b9b4db4\",\"type\":\"BoxZoomTool\"},{\"id\":\"223874c5-a1e6-4d99-ad6c-cadb843ef690\",\"type\":\"SaveTool\"},{\"id\":\"eb2ea551-2e4f-48ca-a4b4-12326804d4fc\",\"type\":\"ResetTool\"},{\"id\":\"4c5e9655-5d5f-42cf-b824-6a8316ffee49\",\"type\":\"HelpTool\"}]},\"id\":\"3491578d-f4ab-45ae-a6a4-f3d6e5178be6\",\"type\":\"ProxyToolbar\"},{\"attributes\":{\"plot\":{\"id\":\"6a16e4c8-268c-47df-86d8-5aba0a1a69b3\",\"subtype\":\"Figure\",\"type\":\"Plot\"},\"ticker\":{\"id\":\"56b7734d-04cf-4707-8a49-79005db5d197\",\"type\":\"BasicTicker\"}},\"id\":\"d96d6f7f-a9a5-4887-887f-cd8808924c67\",\"type\":\"Grid\"},{\"attributes\":{\"toolbar\":{\"id\":\"3491578d-f4ab-45ae-a6a4-f3d6e5178be6\",\"type\":\"ProxyToolbar\"},\"toolbar_location\":\"above\"},\"id\":\"1aa37bf8-0ce8-4101-96cc-10ab6238638a\",\"type\":\"ToolbarBox\"},{\"attributes\":{\"source\":{\"id\":\"06b664a0-dcee-40f7-a8ce-4e07cf118944\",\"type\":\"ColumnDataSource\"}},\"id\":\"026b2f5f-c042-4e01-8226-f385b4749e02\",\"type\":\"CDSView\"},{\"attributes\":{},\"id\":\"ef8c18b7-3856-4d63-9467-653cedcece12\",\"type\":\"Selection\"},{\"attributes\":{\"axis_label\":\"cooling rate [K/day]\",\"formatter\":{\"id\":\"b99b1019-731a-47b0-884b-64850eb9e9d0\",\"type\":\"BasicTickFormatter\"},\"plot\":{\"id\":\"6a16e4c8-268c-47df-86d8-5aba0a1a69b3\",\"subtype\":\"Figure\",\"type\":\"Plot\"},\"ticker\":{\"id\":\"56b7734d-04cf-4707-8a49-79005db5d197\",\"type\":\"BasicTicker\"}},\"id\":\"e43c434b-0082-49e4-9c3d-a5f34270dee6\",\"type\":\"LinearAxis\"},{\"attributes\":{},\"id\":\"10f951d4-9fbf-4491-bbe1-6861af0e7952\",\"type\":\"UnionRenderers\"},{\"attributes\":{\"children\":[{\"id\":\"1aa37bf8-0ce8-4101-96cc-10ab6238638a\",\"type\":\"ToolbarBox\"},{\"id\":\"c8272d3d-4656-4031-ad9d-1b59f20e8eb9\",\"type\":\"Column\"}]},\"id\":\"f68df0e8-21f0-45d2-8824-7ad73b434392\",\"type\":\"Column\"}],\"root_ids\":[\"f68df0e8-21f0-45d2-8824-7ad73b434392\"]},\"title\":\"Bokeh Application\",\"version\":\"0.12.16\"}};\n",
       "  var render_items = [{\"docid\":\"ce57991b-e71d-4cd3-98d1-a732919f2ddc\",\"elementid\":\"5bb4408d-2d0d-4f25-95ac-348c5357dd5a\",\"modelid\":\"f68df0e8-21f0-45d2-8824-7ad73b434392\"}];\n",
       "  root.Bokeh.embed.embed_items_notebook(docs_json, render_items);\n",
       "\n",
       "  }\n",
       "  if (root.Bokeh !== undefined) {\n",
       "    embed_document(root);\n",
       "  } else {\n",
       "    var attempts = 0;\n",
       "    var timer = setInterval(function(root) {\n",
       "      if (root.Bokeh !== undefined) {\n",
       "        embed_document(root);\n",
       "        clearInterval(timer);\n",
       "      }\n",
       "      attempts++;\n",
       "      if (attempts > 100) {\n",
       "        console.log(\"Bokeh: ERROR: Unable to run BokehJS code because BokehJS library is missing\")\n",
       "        clearInterval(timer);\n",
       "      }\n",
       "    }, 10, root)\n",
       "  }\n",
       "})(window);"
      ],
      "application/vnd.bokehjs_exec.v0+json": ""
     },
     "metadata": {
      "application/vnd.bokehjs_exec.v0+json": {
       "id": "f68df0e8-21f0-45d2-8824-7ad73b434392"
      }
     },
     "output_type": "display_data"
    },
    {
     "name": "stdout",
     "output_type": "stream",
     "text": [
      "FIGURE. Cooling rate profiles.\n"
     ]
    },
    {
     "data": {
      "text/html": [
       "<a id=\"Flux_Comparison\"></a>"
      ],
      "text/plain": [
       "<IPython.core.display.HTML object>"
      ]
     },
     "metadata": {},
     "output_type": "display_data"
    },
    {
     "data": {
      "text/markdown": [
       "# Flux Comparison"
      ],
      "text/plain": [
       "<IPython.core.display.Markdown object>"
      ]
     },
     "metadata": {},
     "output_type": "display_data"
    },
    {
     "data": {
      "text/html": [
       "<div>\n",
       "<style scoped>\n",
       "    .dataframe tbody tr th:only-of-type {\n",
       "        vertical-align: middle;\n",
       "    }\n",
       "\n",
       "    .dataframe tbody tr th {\n",
       "        vertical-align: top;\n",
       "    }\n",
       "\n",
       "    .dataframe thead th {\n",
       "        text-align: right;\n",
       "    }\n",
       "</style>\n",
       "<table border=\"1\" class=\"dataframe\">\n",
       "  <thead>\n",
       "    <tr style=\"text-align: right;\">\n",
       "      <th></th>\n",
       "      <th></th>\n",
       "      <th>flug</th>\n",
       "      <th>fldg</th>\n",
       "      <th>fnetg</th>\n",
       "    </tr>\n",
       "    <tr>\n",
       "      <th>pressure</th>\n",
       "      <th>level</th>\n",
       "      <th></th>\n",
       "      <th></th>\n",
       "      <th></th>\n",
       "    </tr>\n",
       "  </thead>\n",
       "  <tbody>\n",
       "    <tr>\n",
       "      <th>0.0000</th>\n",
       "      <th>1</th>\n",
       "      <td>-65.454986</td>\n",
       "      <td>0.000000</td>\n",
       "      <td>-65.454986</td>\n",
       "    </tr>\n",
       "    <tr>\n",
       "      <th>1.0685</th>\n",
       "      <th>24</th>\n",
       "      <td>-65.454986</td>\n",
       "      <td>0.000012</td>\n",
       "      <td>-65.454974</td>\n",
       "    </tr>\n",
       "    <tr>\n",
       "      <th>1013.0000</th>\n",
       "      <th>76</th>\n",
       "      <td>-67.349450</td>\n",
       "      <td>10.478309</td>\n",
       "      <td>-56.871141</td>\n",
       "    </tr>\n",
       "  </tbody>\n",
       "</table>\n",
       "</div>"
      ],
      "text/plain": [
       "                      flug       fldg      fnetg\n",
       "pressure  level                                 \n",
       "0.0000    1     -65.454986   0.000000 -65.454986\n",
       "1.0685    24    -65.454986   0.000012 -65.454974\n",
       "1013.0000 76    -67.349450  10.478309 -56.871141"
      ]
     },
     "metadata": {},
     "output_type": "display_data"
    },
    {
     "name": "stdout",
     "output_type": "stream",
     "text": [
      "Table. Fluxes. CRD\n"
     ]
    },
    {
     "data": {
      "text/html": [
       "<div>\n",
       "<style scoped>\n",
       "    .dataframe tbody tr th:only-of-type {\n",
       "        vertical-align: middle;\n",
       "    }\n",
       "\n",
       "    .dataframe tbody tr th {\n",
       "        vertical-align: top;\n",
       "    }\n",
       "\n",
       "    .dataframe thead th {\n",
       "        text-align: right;\n",
       "    }\n",
       "</style>\n",
       "<table border=\"1\" class=\"dataframe\">\n",
       "  <thead>\n",
       "    <tr style=\"text-align: right;\">\n",
       "      <th></th>\n",
       "      <th></th>\n",
       "      <th>flug</th>\n",
       "      <th>fldg</th>\n",
       "      <th>fnetg</th>\n",
       "    </tr>\n",
       "    <tr>\n",
       "      <th>pressure</th>\n",
       "      <th>level</th>\n",
       "      <th></th>\n",
       "      <th></th>\n",
       "      <th></th>\n",
       "    </tr>\n",
       "  </thead>\n",
       "  <tbody>\n",
       "    <tr>\n",
       "      <th>0.0000</th>\n",
       "      <th>1</th>\n",
       "      <td>-65.467141</td>\n",
       "      <td>0.000000</td>\n",
       "      <td>-65.467141</td>\n",
       "    </tr>\n",
       "    <tr>\n",
       "      <th>1.0685</th>\n",
       "      <th>24</th>\n",
       "      <td>-65.467142</td>\n",
       "      <td>0.000006</td>\n",
       "      <td>-65.467136</td>\n",
       "    </tr>\n",
       "    <tr>\n",
       "      <th>1013.0000</th>\n",
       "      <th>76</th>\n",
       "      <td>-67.349450</td>\n",
       "      <td>10.721747</td>\n",
       "      <td>-56.627703</td>\n",
       "    </tr>\n",
       "  </tbody>\n",
       "</table>\n",
       "</div>"
      ],
      "text/plain": [
       "                      flug       fldg      fnetg\n",
       "pressure  level                                 \n",
       "0.0000    1     -65.467141   0.000000 -65.467141\n",
       "1.0685    24    -65.467142   0.000006 -65.467136\n",
       "1013.0000 76    -67.349450  10.721747 -56.627703"
      ]
     },
     "metadata": {},
     "output_type": "display_data"
    },
    {
     "name": "stdout",
     "output_type": "stream",
     "text": [
      "Table. Fluxes. WGT igg=10 wgt_flux=1\n"
     ]
    },
    {
     "data": {
      "text/html": [
       "<div>\n",
       "<style scoped>\n",
       "    .dataframe tbody tr th:only-of-type {\n",
       "        vertical-align: middle;\n",
       "    }\n",
       "\n",
       "    .dataframe tbody tr th {\n",
       "        vertical-align: top;\n",
       "    }\n",
       "\n",
       "    .dataframe thead th {\n",
       "        text-align: right;\n",
       "    }\n",
       "</style>\n",
       "<table border=\"1\" class=\"dataframe\">\n",
       "  <thead>\n",
       "    <tr style=\"text-align: right;\">\n",
       "      <th></th>\n",
       "      <th></th>\n",
       "      <th>flug</th>\n",
       "      <th>fldg</th>\n",
       "      <th>fnetg</th>\n",
       "    </tr>\n",
       "    <tr>\n",
       "      <th>pressure</th>\n",
       "      <th>level</th>\n",
       "      <th></th>\n",
       "      <th></th>\n",
       "      <th></th>\n",
       "    </tr>\n",
       "  </thead>\n",
       "  <tbody>\n",
       "    <tr>\n",
       "      <th>1.000000e-08</th>\n",
       "      <th>1</th>\n",
       "      <td>-65.458622</td>\n",
       "      <td>1.212097e-07</td>\n",
       "      <td>-65.458622</td>\n",
       "    </tr>\n",
       "    <tr>\n",
       "      <th>1.068500e+00</th>\n",
       "      <th>24</th>\n",
       "      <td>-65.458624</td>\n",
       "      <td>5.793197e-06</td>\n",
       "      <td>-65.458618</td>\n",
       "    </tr>\n",
       "    <tr>\n",
       "      <th>1.013000e+03</th>\n",
       "      <th>76</th>\n",
       "      <td>-67.349450</td>\n",
       "      <td>1.094931e+01</td>\n",
       "      <td>-56.400138</td>\n",
       "    </tr>\n",
       "  </tbody>\n",
       "</table>\n",
       "</div>"
      ],
      "text/plain": [
       "                         flug          fldg      fnetg\n",
       "pressure     level                                    \n",
       "1.000000e-08 1     -65.458622  1.212097e-07 -65.458622\n",
       "1.068500e+00 24    -65.458624  5.793197e-06 -65.458618\n",
       "1.013000e+03 76    -67.349450  1.094931e+01 -56.400138"
      ]
     },
     "metadata": {},
     "output_type": "display_data"
    },
    {
     "name": "stdout",
     "output_type": "stream",
     "text": [
      "Table. Fluxes. CLIRAD\n"
     ]
    },
    {
     "data": {
      "text/html": [
       "<div>\n",
       "<style scoped>\n",
       "    .dataframe tbody tr th:only-of-type {\n",
       "        vertical-align: middle;\n",
       "    }\n",
       "\n",
       "    .dataframe tbody tr th {\n",
       "        vertical-align: top;\n",
       "    }\n",
       "\n",
       "    .dataframe thead th {\n",
       "        text-align: right;\n",
       "    }\n",
       "</style>\n",
       "<table border=\"1\" class=\"dataframe\">\n",
       "  <thead>\n",
       "    <tr style=\"text-align: right;\">\n",
       "      <th></th>\n",
       "      <th></th>\n",
       "      <th>flug</th>\n",
       "      <th>fldg</th>\n",
       "      <th>fnetg</th>\n",
       "    </tr>\n",
       "    <tr>\n",
       "      <th>pressure</th>\n",
       "      <th>level</th>\n",
       "      <th></th>\n",
       "      <th></th>\n",
       "      <th></th>\n",
       "    </tr>\n",
       "  </thead>\n",
       "  <tbody>\n",
       "    <tr>\n",
       "      <th>0.0000</th>\n",
       "      <th>1</th>\n",
       "      <td>-1.215527e-02</td>\n",
       "      <td>0.000000</td>\n",
       "      <td>-0.012155</td>\n",
       "    </tr>\n",
       "    <tr>\n",
       "      <th>1.0685</th>\n",
       "      <th>24</th>\n",
       "      <td>-1.215637e-02</td>\n",
       "      <td>-0.000006</td>\n",
       "      <td>-0.012162</td>\n",
       "    </tr>\n",
       "    <tr>\n",
       "      <th>1013.0000</th>\n",
       "      <th>76</th>\n",
       "      <td>2.000000e-07</td>\n",
       "      <td>0.243438</td>\n",
       "      <td>0.243438</td>\n",
       "    </tr>\n",
       "  </tbody>\n",
       "</table>\n",
       "</div>"
      ],
      "text/plain": [
       "                         flug      fldg     fnetg\n",
       "pressure  level                                  \n",
       "0.0000    1     -1.215527e-02  0.000000 -0.012155\n",
       "1.0685    24    -1.215637e-02 -0.000006 -0.012162\n",
       "1013.0000 76     2.000000e-07  0.243438  0.243438"
      ]
     },
     "metadata": {},
     "output_type": "display_data"
    },
    {
     "name": "stdout",
     "output_type": "stream",
     "text": [
      "Table. Fluxes. (WGT igg=10 wgt_flux=1) - (CRD)\n"
     ]
    },
    {
     "data": {
      "text/html": [
       "<div>\n",
       "<style scoped>\n",
       "    .dataframe tbody tr th:only-of-type {\n",
       "        vertical-align: middle;\n",
       "    }\n",
       "\n",
       "    .dataframe tbody tr th {\n",
       "        vertical-align: top;\n",
       "    }\n",
       "\n",
       "    .dataframe thead th {\n",
       "        text-align: right;\n",
       "    }\n",
       "</style>\n",
       "<table border=\"1\" class=\"dataframe\">\n",
       "  <thead>\n",
       "    <tr style=\"text-align: right;\">\n",
       "      <th></th>\n",
       "      <th></th>\n",
       "      <th>flug</th>\n",
       "      <th>fldg</th>\n",
       "      <th>fnetg</th>\n",
       "    </tr>\n",
       "    <tr>\n",
       "      <th>pressure</th>\n",
       "      <th>level</th>\n",
       "      <th></th>\n",
       "      <th></th>\n",
       "      <th></th>\n",
       "    </tr>\n",
       "  </thead>\n",
       "  <tbody>\n",
       "    <tr>\n",
       "      <th>0.0000</th>\n",
       "      <th>1</th>\n",
       "      <td>-0.003636</td>\n",
       "      <td>1.212097e-07</td>\n",
       "      <td>-0.003636</td>\n",
       "    </tr>\n",
       "    <tr>\n",
       "      <th>1.0685</th>\n",
       "      <th>24</th>\n",
       "      <td>-0.003638</td>\n",
       "      <td>-6.021462e-06</td>\n",
       "      <td>-0.003644</td>\n",
       "    </tr>\n",
       "    <tr>\n",
       "      <th>1013.0000</th>\n",
       "      <th>76</th>\n",
       "      <td>0.000000</td>\n",
       "      <td>4.710030e-01</td>\n",
       "      <td>0.471003</td>\n",
       "    </tr>\n",
       "  </tbody>\n",
       "</table>\n",
       "</div>"
      ],
      "text/plain": [
       "                     flug          fldg     fnetg\n",
       "pressure  level                                  \n",
       "0.0000    1     -0.003636  1.212097e-07 -0.003636\n",
       "1.0685    24    -0.003638 -6.021462e-06 -0.003644\n",
       "1013.0000 76     0.000000  4.710030e-01  0.471003"
      ]
     },
     "metadata": {},
     "output_type": "display_data"
    },
    {
     "name": "stdout",
     "output_type": "stream",
     "text": [
      "Table. Fluxes. (CLIRAD) - (CRD)\n"
     ]
    },
    {
     "data": {
      "text/html": [
       "<a id=\"Best-fit_Parameters\"></a>"
      ],
      "text/plain": [
       "<IPython.core.display.HTML object>"
      ]
     },
     "metadata": {},
     "output_type": "display_data"
    },
    {
     "data": {
      "text/markdown": [
       "# Best-fit Parameters"
      ],
      "text/plain": [
       "<IPython.core.display.Markdown object>"
      ]
     },
     "metadata": {},
     "output_type": "display_data"
    },
    {
     "name": "stdout",
     "output_type": "stream",
     "text": [
      "Best-fit values for each (gas, band)\n",
      "------------------------------------\n",
      "o h2o band4\n",
      "  atmpro = mls\n",
      "  band = 4\n",
      "  commitnumber = a06b618\n",
      "  conc = None\n",
      "  dv = 0.001\n",
      "  klin = 1e-24\n",
      "  molecule = h2o\n",
      "  ng_adju = [0]\n",
      "  ng_refs = [3]\n",
      "  nv = 1000\n",
      "  option_compute_btable = 0\n",
      "  option_compute_ktable = 1\n",
      "  option_wgt_flux = 1\n",
      "  option_wgt_k = 1\n",
      "  ref_pts = [(600, 250)]\n",
      "  tsfc = 294\n",
      "  vmax = 980\n",
      "  vmin = 800\n",
      "  w_diffuse = [(1.66, 1.66, 1.85)]\n",
      "  wgt = [(0.5, 0.55, 0.85)]\n"
     ]
    }
   ],
   "source": [
    "script()"
   ]
  },
  {
   "cell_type": "code",
   "execution_count": 13,
   "metadata": {
    "collapsed": true
   },
   "outputs": [
    {
     "data": {
      "text/html": [
       "<script>\n",
       "code_show=true; \n",
       "function code_toggle() {\n",
       " if (code_show){\n",
       " $('div.input').hide();\n",
       " } else {\n",
       " $('div.input').show();\n",
       " }\n",
       " code_show = !code_show\n",
       "} \n",
       "$( document ).ready(code_toggle);\n",
       "</script>\n",
       "<form action=\"javascript:code_toggle()\"><input type=\"submit\" value=\"Click here to toggle on/off the raw code.\"></form>"
      ],
      "text/plain": [
       "<IPython.core.display.HTML object>"
      ]
     },
     "execution_count": 13,
     "metadata": {},
     "output_type": "execute_result"
    }
   ],
   "source": [
    "display.HTML('''<script>\n",
    "code_show=true; \n",
    "function code_toggle() {\n",
    " if (code_show){\n",
    " $('div.input').hide();\n",
    " } else {\n",
    " $('div.input').show();\n",
    " }\n",
    " code_show = !code_show\n",
    "} \n",
    "$( document ).ready(code_toggle);\n",
    "</script>\n",
    "<form action=\"javascript:code_toggle()\"><input type=\"submit\" value=\"Click here to toggle on/off the raw code.\"></form>''')"
   ]
  }
 ],
 "metadata": {
  "kernelspec": {
   "display_name": "Python 3",
   "language": "python",
   "name": "python3"
  },
  "language_info": {
   "codemirror_mode": {
    "name": "ipython",
    "version": 3
   },
   "file_extension": ".py",
   "mimetype": "text/x-python",
   "name": "python",
   "nbconvert_exporter": "python",
   "pygments_lexer": "ipython3",
   "version": "3.6.1"
  }
 },
 "nbformat": 4,
 "nbformat_minor": 2
}
