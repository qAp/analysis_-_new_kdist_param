{
 "cells": [
  {
   "cell_type": "code",
   "execution_count": 1,
   "metadata": {
    "collapsed": true
   },
   "outputs": [
    {
     "name": "stdout",
     "output_type": "stream",
     "text": [
      "The history saving thread hit an unexpected error (OperationalError('database is locked',)).History will not be written to the database.\n"
     ]
    }
   ],
   "source": [
    "%matplotlib inline\n",
    "import os\n",
    "import re\n",
    "import io\n",
    "import itertools\n",
    "import pprint\n",
    "\n",
    "from bokeh.io import output_notebook, show\n",
    "from bokeh.layouts import gridplot\n",
    "from bokeh.plotting import figure\n",
    "from bokeh.models import Range1d, Legend\n",
    "from bokeh.palettes import all_palettes\n",
    "\n",
    "import matplotlib\n",
    "import matplotlib.pyplot as plt\n",
    "import numpy as np\n",
    "import pandas as pd\n",
    "import xarray as xr\n",
    "\n",
    "import climatools.lblnew.bestfit_params as bestfits\n",
    "from climatools.lblnew import setup_bestfit, setup_overlap\n",
    "import climatools.lblnew.pipeline as pipe_lblnew\n",
    "import climatools.cliradlw.setup as setup_cliradlw\n",
    "import climatools.cliradlw.pipeline as pipe_cliradlw\n",
    "\n",
    "import climatools.html.html as climahtml\n",
    "from climatools.lblnew.dataio import *\n",
    "from climatools.plot.plot import *\n",
    "\n",
    "\n",
    "import IPython.display as display"
   ]
  },
  {
   "cell_type": "code",
   "execution_count": 2,
   "metadata": {
    "collapsed": true
   },
   "outputs": [],
   "source": [
    "%run param.py"
   ]
  },
  {
   "cell_type": "code",
   "execution_count": 3,
   "metadata": {
    "collapsed": true
   },
   "outputs": [],
   "source": [
    "def load_output_file(path_csv):\n",
    "    '''\n",
    "    Load lblnew output .csv file to xarray.Dataset\n",
    "    \n",
    "    Parameters\n",
    "    ----------\n",
    "    path_csv: str\n",
    "              Path to the .csv file to be loaded.\n",
    "    ds: xarray.Dataset\n",
    "        Data in the input file in the form of an xarray.Dataset.\n",
    "    '''\n",
    "    toindex = ['band', 'pressure', 'igg', 'g']    \n",
    "    df = pd.read_csv(path_csv, sep=r'\\s+')\n",
    "    df = df.set_index([i for i in toindex if i in df.columns])\n",
    "    df = df.rename(columns={'sfu': 'flug',\n",
    "                            'sfd': 'fldg',\n",
    "                            'fnet': 'fnetg',\n",
    "                            'coolr': 'coolrg'})\n",
    "    ds = xr.Dataset.from_dataframe(df)\n",
    "\n",
    "    for l in ('level', 'layer'):\n",
    "        if l in ds.data_vars:\n",
    "            if len(ds[l].dims) > 1:\n",
    "                surface = {d: 0 for d in ds.dims if d != 'pressure'}\n",
    "                coord_level = ds[l][surface]\n",
    "                ds.coords[l] = ('pressure', coord_level)\n",
    "            else:\n",
    "                ds.coords[l] = ('pressure', ds[l])\n",
    "    \n",
    "    return ds"
   ]
  },
  {
   "cell_type": "code",
   "execution_count": 4,
   "metadata": {
    "collapsed": true
   },
   "outputs": [],
   "source": [
    "def lblnew_setup(param=None):\n",
    "    if 'ng_refs' in param:\n",
    "        return {'setup': setup_bestfit,\n",
    "                'fname_flux_crd': 'output_flux.dat',\n",
    "                'fname_cool_crd': 'output_coolr.dat',\n",
    "                'fname_flux_wgt': 'output_wfluxg.dat',\n",
    "                'fname_cool_wgt': 'output_wcoolrg.dat'}\n",
    "    else:\n",
    "        return {'setup': setup_overlap,\n",
    "                'fname_flux_crd': 'output_flux.dat',\n",
    "                'fname_cool_crd': 'output_coolr.dat',\n",
    "                'fname_flux_wgt': 'output_wflux.dat',\n",
    "                'fname_cool_wgt': 'output_wcoolr.dat'}\n",
    "\n",
    "    \n",
    "def load_lblnew_data(param):\n",
    "    \n",
    "    fname_dsname = [('fname_flux_crd', 'ds_flux_crd'),\n",
    "                    ('fname_cool_crd', 'ds_cool_crd'),\n",
    "                    ('fname_flux_wgt', 'ds_flux_wgt'),\n",
    "                    ('fname_cool_wgt', 'ds_cool_wgt')]\n",
    "    \n",
    "    d = lblnew_setup(param)\n",
    "    dir_fortran = pipe_lblnew.get_dir_case(param, setup=d['setup'])\n",
    "    \n",
    "    data_dict = {}\n",
    "    for fname, dsname in fname_dsname:\n",
    "        fpath = os.path.join(dir_fortran, d[fname])\n",
    "        data_dict[dsname] = load_output_file(fpath)\n",
    "    return data_dict\n",
    "    \n",
    "\n",
    "    \n",
    "    "
   ]
  },
  {
   "cell_type": "code",
   "execution_count": 5,
   "metadata": {
    "collapsed": true
   },
   "outputs": [],
   "source": [
    "d = load_lblnew_data(PARAM_LBLNEW)\n",
    "\n",
    "DS_FLUX_CRD = d['ds_flux_crd']\n",
    "DS_COOL_CRD = d['ds_cool_crd']\n",
    "DS_FLUX_WGT = d['ds_flux_wgt']\n",
    "DS_COOL_WGT = d['ds_cool_wgt']"
   ]
  },
  {
   "cell_type": "code",
   "execution_count": 6,
   "metadata": {
    "collapsed": true
   },
   "outputs": [],
   "source": [
    "DIR_FORTRAN = pipe_cliradlw.get_fortran_dir(PARAM, \n",
    "                                            setup=setup_cliradlw)\n",
    "\n",
    "PATH_FLUX = os.path.join(DIR_FORTRAN, 'output_flux.dat')\n",
    "PATH_COOL = os.path.join(DIR_FORTRAN, 'output_coolr.dat')\n",
    "\n",
    "DS_FLUX = load_output_file(PATH_FLUX)\n",
    "DS_COOL = load_output_file(PATH_COOL)"
   ]
  },
  {
   "cell_type": "code",
   "execution_count": 7,
   "metadata": {
    "collapsed": true
   },
   "outputs": [
    {
     "data": {
      "text/html": [
       "\n",
       "    <div class=\"bk-root\">\n",
       "        <a href=\"https://bokeh.pydata.org\" target=\"_blank\" class=\"bk-logo bk-logo-small bk-logo-notebook\"></a>\n",
       "        <span id=\"73c4b9fb-4f09-4434-9c37-094299e645ac\">Loading BokehJS ...</span>\n",
       "    </div>"
      ]
     },
     "metadata": {},
     "output_type": "display_data"
    },
    {
     "data": {
      "application/javascript": [
       "\n",
       "(function(root) {\n",
       "  function now() {\n",
       "    return new Date();\n",
       "  }\n",
       "\n",
       "  var force = true;\n",
       "\n",
       "  if (typeof (root._bokeh_onload_callbacks) === \"undefined\" || force === true) {\n",
       "    root._bokeh_onload_callbacks = [];\n",
       "    root._bokeh_is_loading = undefined;\n",
       "  }\n",
       "\n",
       "  var JS_MIME_TYPE = 'application/javascript';\n",
       "  var HTML_MIME_TYPE = 'text/html';\n",
       "  var EXEC_MIME_TYPE = 'application/vnd.bokehjs_exec.v0+json';\n",
       "  var CLASS_NAME = 'output_bokeh rendered_html';\n",
       "\n",
       "  /**\n",
       "   * Render data to the DOM node\n",
       "   */\n",
       "  function render(props, node) {\n",
       "    var script = document.createElement(\"script\");\n",
       "    node.appendChild(script);\n",
       "  }\n",
       "\n",
       "  /**\n",
       "   * Handle when an output is cleared or removed\n",
       "   */\n",
       "  function handleClearOutput(event, handle) {\n",
       "    var cell = handle.cell;\n",
       "\n",
       "    var id = cell.output_area._bokeh_element_id;\n",
       "    var server_id = cell.output_area._bokeh_server_id;\n",
       "    // Clean up Bokeh references\n",
       "    if (id !== undefined) {\n",
       "      Bokeh.index[id].model.document.clear();\n",
       "      delete Bokeh.index[id];\n",
       "    }\n",
       "\n",
       "    if (server_id !== undefined) {\n",
       "      // Clean up Bokeh references\n",
       "      var cmd = \"from bokeh.io.state import curstate; print(curstate().uuid_to_server['\" + server_id + \"'].get_sessions()[0].document.roots[0]._id)\";\n",
       "      cell.notebook.kernel.execute(cmd, {\n",
       "        iopub: {\n",
       "          output: function(msg) {\n",
       "            var element_id = msg.content.text.trim();\n",
       "            Bokeh.index[element_id].model.document.clear();\n",
       "            delete Bokeh.index[element_id];\n",
       "          }\n",
       "        }\n",
       "      });\n",
       "      // Destroy server and session\n",
       "      var cmd = \"import bokeh.io.notebook as ion; ion.destroy_server('\" + server_id + \"')\";\n",
       "      cell.notebook.kernel.execute(cmd);\n",
       "    }\n",
       "  }\n",
       "\n",
       "  /**\n",
       "   * Handle when a new output is added\n",
       "   */\n",
       "  function handleAddOutput(event, handle) {\n",
       "    var output_area = handle.output_area;\n",
       "    var output = handle.output;\n",
       "\n",
       "    // limit handleAddOutput to display_data with EXEC_MIME_TYPE content only\n",
       "    if ((output.output_type != \"display_data\") || (!output.data.hasOwnProperty(EXEC_MIME_TYPE))) {\n",
       "      return\n",
       "    }\n",
       "\n",
       "    var toinsert = output_area.element.find(\".\" + CLASS_NAME.split(' ')[0]);\n",
       "\n",
       "    if (output.metadata[EXEC_MIME_TYPE][\"id\"] !== undefined) {\n",
       "      toinsert[toinsert.length - 1].firstChild.textContent = output.data[JS_MIME_TYPE];\n",
       "      // store reference to embed id on output_area\n",
       "      output_area._bokeh_element_id = output.metadata[EXEC_MIME_TYPE][\"id\"];\n",
       "    }\n",
       "    if (output.metadata[EXEC_MIME_TYPE][\"server_id\"] !== undefined) {\n",
       "      var bk_div = document.createElement(\"div\");\n",
       "      bk_div.innerHTML = output.data[HTML_MIME_TYPE];\n",
       "      var script_attrs = bk_div.children[0].attributes;\n",
       "      for (var i = 0; i < script_attrs.length; i++) {\n",
       "        toinsert[toinsert.length - 1].firstChild.setAttribute(script_attrs[i].name, script_attrs[i].value);\n",
       "      }\n",
       "      // store reference to server id on output_area\n",
       "      output_area._bokeh_server_id = output.metadata[EXEC_MIME_TYPE][\"server_id\"];\n",
       "    }\n",
       "  }\n",
       "\n",
       "  function register_renderer(events, OutputArea) {\n",
       "\n",
       "    function append_mime(data, metadata, element) {\n",
       "      // create a DOM node to render to\n",
       "      var toinsert = this.create_output_subarea(\n",
       "        metadata,\n",
       "        CLASS_NAME,\n",
       "        EXEC_MIME_TYPE\n",
       "      );\n",
       "      this.keyboard_manager.register_events(toinsert);\n",
       "      // Render to node\n",
       "      var props = {data: data, metadata: metadata[EXEC_MIME_TYPE]};\n",
       "      render(props, toinsert[toinsert.length - 1]);\n",
       "      element.append(toinsert);\n",
       "      return toinsert\n",
       "    }\n",
       "\n",
       "    /* Handle when an output is cleared or removed */\n",
       "    events.on('clear_output.CodeCell', handleClearOutput);\n",
       "    events.on('delete.Cell', handleClearOutput);\n",
       "\n",
       "    /* Handle when a new output is added */\n",
       "    events.on('output_added.OutputArea', handleAddOutput);\n",
       "\n",
       "    /**\n",
       "     * Register the mime type and append_mime function with output_area\n",
       "     */\n",
       "    OutputArea.prototype.register_mime_type(EXEC_MIME_TYPE, append_mime, {\n",
       "      /* Is output safe? */\n",
       "      safe: true,\n",
       "      /* Index of renderer in `output_area.display_order` */\n",
       "      index: 0\n",
       "    });\n",
       "  }\n",
       "\n",
       "  // register the mime type if in Jupyter Notebook environment and previously unregistered\n",
       "  if (root.Jupyter !== undefined) {\n",
       "    var events = require('base/js/events');\n",
       "    var OutputArea = require('notebook/js/outputarea').OutputArea;\n",
       "\n",
       "    if (OutputArea.prototype.mime_types().indexOf(EXEC_MIME_TYPE) == -1) {\n",
       "      register_renderer(events, OutputArea);\n",
       "    }\n",
       "  }\n",
       "\n",
       "  \n",
       "  if (typeof (root._bokeh_timeout) === \"undefined\" || force === true) {\n",
       "    root._bokeh_timeout = Date.now() + 5000;\n",
       "    root._bokeh_failed_load = false;\n",
       "  }\n",
       "\n",
       "  var NB_LOAD_WARNING = {'data': {'text/html':\n",
       "     \"<div style='background-color: #fdd'>\\n\"+\n",
       "     \"<p>\\n\"+\n",
       "     \"BokehJS does not appear to have successfully loaded. If loading BokehJS from CDN, this \\n\"+\n",
       "     \"may be due to a slow or bad network connection. Possible fixes:\\n\"+\n",
       "     \"</p>\\n\"+\n",
       "     \"<ul>\\n\"+\n",
       "     \"<li>re-rerun `output_notebook()` to attempt to load from CDN again, or</li>\\n\"+\n",
       "     \"<li>use INLINE resources instead, as so:</li>\\n\"+\n",
       "     \"</ul>\\n\"+\n",
       "     \"<code>\\n\"+\n",
       "     \"from bokeh.resources import INLINE\\n\"+\n",
       "     \"output_notebook(resources=INLINE)\\n\"+\n",
       "     \"</code>\\n\"+\n",
       "     \"</div>\"}};\n",
       "\n",
       "  function display_loaded() {\n",
       "    var el = document.getElementById(\"73c4b9fb-4f09-4434-9c37-094299e645ac\");\n",
       "    if (el != null) {\n",
       "      el.textContent = \"BokehJS is loading...\";\n",
       "    }\n",
       "    if (root.Bokeh !== undefined) {\n",
       "      if (el != null) {\n",
       "        el.textContent = \"BokehJS \" + root.Bokeh.version + \" successfully loaded.\";\n",
       "      }\n",
       "    } else if (Date.now() < root._bokeh_timeout) {\n",
       "      setTimeout(display_loaded, 100)\n",
       "    }\n",
       "  }\n",
       "\n",
       "\n",
       "  function run_callbacks() {\n",
       "    try {\n",
       "      root._bokeh_onload_callbacks.forEach(function(callback) { callback() });\n",
       "    }\n",
       "    finally {\n",
       "      delete root._bokeh_onload_callbacks\n",
       "    }\n",
       "    console.info(\"Bokeh: all callbacks have finished\");\n",
       "  }\n",
       "\n",
       "  function load_libs(js_urls, callback) {\n",
       "    root._bokeh_onload_callbacks.push(callback);\n",
       "    if (root._bokeh_is_loading > 0) {\n",
       "      console.log(\"Bokeh: BokehJS is being loaded, scheduling callback at\", now());\n",
       "      return null;\n",
       "    }\n",
       "    if (js_urls == null || js_urls.length === 0) {\n",
       "      run_callbacks();\n",
       "      return null;\n",
       "    }\n",
       "    console.log(\"Bokeh: BokehJS not loaded, scheduling load and callback at\", now());\n",
       "    root._bokeh_is_loading = js_urls.length;\n",
       "    for (var i = 0; i < js_urls.length; i++) {\n",
       "      var url = js_urls[i];\n",
       "      var s = document.createElement('script');\n",
       "      s.src = url;\n",
       "      s.async = false;\n",
       "      s.onreadystatechange = s.onload = function() {\n",
       "        root._bokeh_is_loading--;\n",
       "        if (root._bokeh_is_loading === 0) {\n",
       "          console.log(\"Bokeh: all BokehJS libraries loaded\");\n",
       "          run_callbacks()\n",
       "        }\n",
       "      };\n",
       "      s.onerror = function() {\n",
       "        console.warn(\"failed to load library \" + url);\n",
       "      };\n",
       "      console.log(\"Bokeh: injecting script tag for BokehJS library: \", url);\n",
       "      document.getElementsByTagName(\"head\")[0].appendChild(s);\n",
       "    }\n",
       "  };var element = document.getElementById(\"73c4b9fb-4f09-4434-9c37-094299e645ac\");\n",
       "  if (element == null) {\n",
       "    console.log(\"Bokeh: ERROR: autoload.js configured with elementid '73c4b9fb-4f09-4434-9c37-094299e645ac' but no matching script tag was found. \")\n",
       "    return false;\n",
       "  }\n",
       "\n",
       "  var js_urls = [\"https://cdn.pydata.org/bokeh/release/bokeh-0.12.16.min.js\", \"https://cdn.pydata.org/bokeh/release/bokeh-widgets-0.12.16.min.js\", \"https://cdn.pydata.org/bokeh/release/bokeh-tables-0.12.16.min.js\", \"https://cdn.pydata.org/bokeh/release/bokeh-gl-0.12.16.min.js\"];\n",
       "\n",
       "  var inline_js = [\n",
       "    function(Bokeh) {\n",
       "      Bokeh.set_log_level(\"info\");\n",
       "    },\n",
       "    \n",
       "    function(Bokeh) {\n",
       "      \n",
       "    },\n",
       "    function(Bokeh) {\n",
       "      console.log(\"Bokeh: injecting CSS: https://cdn.pydata.org/bokeh/release/bokeh-0.12.16.min.css\");\n",
       "      Bokeh.embed.inject_css(\"https://cdn.pydata.org/bokeh/release/bokeh-0.12.16.min.css\");\n",
       "      console.log(\"Bokeh: injecting CSS: https://cdn.pydata.org/bokeh/release/bokeh-widgets-0.12.16.min.css\");\n",
       "      Bokeh.embed.inject_css(\"https://cdn.pydata.org/bokeh/release/bokeh-widgets-0.12.16.min.css\");\n",
       "      console.log(\"Bokeh: injecting CSS: https://cdn.pydata.org/bokeh/release/bokeh-tables-0.12.16.min.css\");\n",
       "      Bokeh.embed.inject_css(\"https://cdn.pydata.org/bokeh/release/bokeh-tables-0.12.16.min.css\");\n",
       "    }\n",
       "  ];\n",
       "\n",
       "  function run_inline_js() {\n",
       "    \n",
       "    if ((root.Bokeh !== undefined) || (force === true)) {\n",
       "      for (var i = 0; i < inline_js.length; i++) {\n",
       "        inline_js[i].call(root, root.Bokeh);\n",
       "      }if (force === true) {\n",
       "        display_loaded();\n",
       "      }} else if (Date.now() < root._bokeh_timeout) {\n",
       "      setTimeout(run_inline_js, 100);\n",
       "    } else if (!root._bokeh_failed_load) {\n",
       "      console.log(\"Bokeh: BokehJS failed to load within specified timeout.\");\n",
       "      root._bokeh_failed_load = true;\n",
       "    } else if (force !== true) {\n",
       "      var cell = $(document.getElementById(\"73c4b9fb-4f09-4434-9c37-094299e645ac\")).parents('.cell').data().cell;\n",
       "      cell.output_area.append_execute_result(NB_LOAD_WARNING)\n",
       "    }\n",
       "\n",
       "  }\n",
       "\n",
       "  if (root._bokeh_is_loading === 0) {\n",
       "    console.log(\"Bokeh: BokehJS loaded, going straight to plotting\");\n",
       "    run_inline_js();\n",
       "  } else {\n",
       "    load_libs(js_urls, function() {\n",
       "      console.log(\"Bokeh: BokehJS plotting callback run at\", now());\n",
       "      run_inline_js();\n",
       "    });\n",
       "  }\n",
       "}(window));"
      ],
      "application/vnd.bokehjs_load.v0+json": "\n(function(root) {\n  function now() {\n    return new Date();\n  }\n\n  var force = true;\n\n  if (typeof (root._bokeh_onload_callbacks) === \"undefined\" || force === true) {\n    root._bokeh_onload_callbacks = [];\n    root._bokeh_is_loading = undefined;\n  }\n\n  \n\n  \n  if (typeof (root._bokeh_timeout) === \"undefined\" || force === true) {\n    root._bokeh_timeout = Date.now() + 5000;\n    root._bokeh_failed_load = false;\n  }\n\n  var NB_LOAD_WARNING = {'data': {'text/html':\n     \"<div style='background-color: #fdd'>\\n\"+\n     \"<p>\\n\"+\n     \"BokehJS does not appear to have successfully loaded. If loading BokehJS from CDN, this \\n\"+\n     \"may be due to a slow or bad network connection. Possible fixes:\\n\"+\n     \"</p>\\n\"+\n     \"<ul>\\n\"+\n     \"<li>re-rerun `output_notebook()` to attempt to load from CDN again, or</li>\\n\"+\n     \"<li>use INLINE resources instead, as so:</li>\\n\"+\n     \"</ul>\\n\"+\n     \"<code>\\n\"+\n     \"from bokeh.resources import INLINE\\n\"+\n     \"output_notebook(resources=INLINE)\\n\"+\n     \"</code>\\n\"+\n     \"</div>\"}};\n\n  function display_loaded() {\n    var el = document.getElementById(\"73c4b9fb-4f09-4434-9c37-094299e645ac\");\n    if (el != null) {\n      el.textContent = \"BokehJS is loading...\";\n    }\n    if (root.Bokeh !== undefined) {\n      if (el != null) {\n        el.textContent = \"BokehJS \" + root.Bokeh.version + \" successfully loaded.\";\n      }\n    } else if (Date.now() < root._bokeh_timeout) {\n      setTimeout(display_loaded, 100)\n    }\n  }\n\n\n  function run_callbacks() {\n    try {\n      root._bokeh_onload_callbacks.forEach(function(callback) { callback() });\n    }\n    finally {\n      delete root._bokeh_onload_callbacks\n    }\n    console.info(\"Bokeh: all callbacks have finished\");\n  }\n\n  function load_libs(js_urls, callback) {\n    root._bokeh_onload_callbacks.push(callback);\n    if (root._bokeh_is_loading > 0) {\n      console.log(\"Bokeh: BokehJS is being loaded, scheduling callback at\", now());\n      return null;\n    }\n    if (js_urls == null || js_urls.length === 0) {\n      run_callbacks();\n      return null;\n    }\n    console.log(\"Bokeh: BokehJS not loaded, scheduling load and callback at\", now());\n    root._bokeh_is_loading = js_urls.length;\n    for (var i = 0; i < js_urls.length; i++) {\n      var url = js_urls[i];\n      var s = document.createElement('script');\n      s.src = url;\n      s.async = false;\n      s.onreadystatechange = s.onload = function() {\n        root._bokeh_is_loading--;\n        if (root._bokeh_is_loading === 0) {\n          console.log(\"Bokeh: all BokehJS libraries loaded\");\n          run_callbacks()\n        }\n      };\n      s.onerror = function() {\n        console.warn(\"failed to load library \" + url);\n      };\n      console.log(\"Bokeh: injecting script tag for BokehJS library: \", url);\n      document.getElementsByTagName(\"head\")[0].appendChild(s);\n    }\n  };var element = document.getElementById(\"73c4b9fb-4f09-4434-9c37-094299e645ac\");\n  if (element == null) {\n    console.log(\"Bokeh: ERROR: autoload.js configured with elementid '73c4b9fb-4f09-4434-9c37-094299e645ac' but no matching script tag was found. \")\n    return false;\n  }\n\n  var js_urls = [\"https://cdn.pydata.org/bokeh/release/bokeh-0.12.16.min.js\", \"https://cdn.pydata.org/bokeh/release/bokeh-widgets-0.12.16.min.js\", \"https://cdn.pydata.org/bokeh/release/bokeh-tables-0.12.16.min.js\", \"https://cdn.pydata.org/bokeh/release/bokeh-gl-0.12.16.min.js\"];\n\n  var inline_js = [\n    function(Bokeh) {\n      Bokeh.set_log_level(\"info\");\n    },\n    \n    function(Bokeh) {\n      \n    },\n    function(Bokeh) {\n      console.log(\"Bokeh: injecting CSS: https://cdn.pydata.org/bokeh/release/bokeh-0.12.16.min.css\");\n      Bokeh.embed.inject_css(\"https://cdn.pydata.org/bokeh/release/bokeh-0.12.16.min.css\");\n      console.log(\"Bokeh: injecting CSS: https://cdn.pydata.org/bokeh/release/bokeh-widgets-0.12.16.min.css\");\n      Bokeh.embed.inject_css(\"https://cdn.pydata.org/bokeh/release/bokeh-widgets-0.12.16.min.css\");\n      console.log(\"Bokeh: injecting CSS: https://cdn.pydata.org/bokeh/release/bokeh-tables-0.12.16.min.css\");\n      Bokeh.embed.inject_css(\"https://cdn.pydata.org/bokeh/release/bokeh-tables-0.12.16.min.css\");\n    }\n  ];\n\n  function run_inline_js() {\n    \n    if ((root.Bokeh !== undefined) || (force === true)) {\n      for (var i = 0; i < inline_js.length; i++) {\n        inline_js[i].call(root, root.Bokeh);\n      }if (force === true) {\n        display_loaded();\n      }} else if (Date.now() < root._bokeh_timeout) {\n      setTimeout(run_inline_js, 100);\n    } else if (!root._bokeh_failed_load) {\n      console.log(\"Bokeh: BokehJS failed to load within specified timeout.\");\n      root._bokeh_failed_load = true;\n    } else if (force !== true) {\n      var cell = $(document.getElementById(\"73c4b9fb-4f09-4434-9c37-094299e645ac\")).parents('.cell').data().cell;\n      cell.output_area.append_execute_result(NB_LOAD_WARNING)\n    }\n\n  }\n\n  if (root._bokeh_is_loading === 0) {\n    console.log(\"Bokeh: BokehJS loaded, going straight to plotting\");\n    run_inline_js();\n  } else {\n    load_libs(js_urls, function() {\n      console.log(\"Bokeh: BokehJS plotting callback run at\", now());\n      run_inline_js();\n    });\n  }\n}(window));"
     },
     "metadata": {},
     "output_type": "display_data"
    }
   ],
   "source": [
    "output_notebook()"
   ]
  },
  {
   "cell_type": "code",
   "execution_count": 8,
   "metadata": {
    "collapsed": true
   },
   "outputs": [],
   "source": [
    "def fmt_cool(ds_in):\n",
    "    ds = ds_in.copy(deep=True)\n",
    "    if 'igg' in ds.dims:\n",
    "        ds = ds.sel(igg=1)\n",
    "\n",
    "    if 'g' in ds.dims:\n",
    "        ds = ds.sum('g')\n",
    "            \n",
    "    if 'band' in ds.dims:\n",
    "        try:\n",
    "            ds = ds.squeeze('band')\n",
    "        except ValueError:\n",
    "            ds = ds.sum('band')\n",
    "                \n",
    "    return ds['coolrg']\n",
    "\n",
    "\n",
    "def pltdata_cooling_1(ds_cool=None,\n",
    "                      ds_cool_crd=None, ds_cool_wgt=None):\n",
    "    \n",
    "\n",
    "\n",
    "    colors = all_palettes['Set1'][4]\n",
    "    data = [{'label': 'CLIRAD `coolr_bands`',\n",
    "             'srs': fmt_cool(ds_cool),\n",
    "             'line_dash': 'dashed', 'line_width': 5,\n",
    "             'color': colors[0], 'alpha': .6},\n",
    "            {'label': 'CRD',\n",
    "             'srs': fmt_cool(ds_cool_crd),\n",
    "             'line_dash': 'solid', 'line_width': 1.5,\n",
    "             'marker': 'circle', 'marker_size': 5,\n",
    "             'color': colors[2], 'alpha': 1,},\n",
    "            {'label': 'WGT igg=10 wgt_flux=2',\n",
    "             'srs': fmt_cool(ds_cool_wgt),\n",
    "             'line_dash': 'solid', 'line_width': 3,\n",
    "             'marker': 'square', 'marker_size': 5,\n",
    "             'color': colors[3], 'alpha': .6}]\n",
    "    return data\n",
    "\n",
    "\n",
    "def nice_xlims(pltdata=None, prange=None):\n",
    "    \n",
    "    def get_slice(srs):\n",
    "        return srs.sel(pressure=slice(*prange))\n",
    "    \n",
    "    srss = [d['srs'] for d in pltdata]\n",
    "    vmin = min([get_slice(srs).min() for srs in srss])\n",
    "    vmax = max([get_slice(srs).max() for srs in srss])\n",
    "    dv = (vmax - vmin) * .01\n",
    "    return float(vmin - dv), float(vmax + dv)\n",
    "    \n",
    "\n",
    "def plt_cooling_bokeh(pltdata=None):\n",
    "    '''\n",
    "    Plot a list of cooling rate profiles using bokeh.\n",
    "    '''\n",
    "    ymin = 1e-2 \n",
    "    ymax = 1020 \n",
    "        \n",
    "    p1 = figure(title=\"Linear pressure scale\", \n",
    "                plot_width=400)        \n",
    "    xmin, xmax = nice_xlims(pltdata, prange=(50, 1050))\n",
    "    for d in pltdata:\n",
    "        if 'marker' in d:\n",
    "            getattr(p1, d['marker'])(d['srs'].values, \n",
    "                    d['srs'].coords['pressure'].values,\n",
    "                    color=d['color'], alpha=.7)\n",
    "        p1.line(d['srs'].values, \n",
    "                d['srs'].coords['pressure'].values,\n",
    "                color=d['color'], alpha=d['alpha'], \n",
    "                line_width=d['line_width'], line_dash=d['line_dash'])\n",
    "    \n",
    "    p1.y_range = Range1d(ymax, ymin)\n",
    "    p1.yaxis.axis_label = 'pressure [mb]'   \n",
    "    p1.x_range = Range1d(xmin, xmax)\n",
    "    p1.xaxis.axis_label = 'cooling rate [K/day]'\n",
    "            \n",
    "    p2 = figure(title='Log pressure scale', y_axis_type='log',\n",
    "                plot_width=560)\n",
    "    xmin, xmax = nice_xlims(pltdata, prange=(.01, 200))\n",
    "    \n",
    "    rs = []\n",
    "    for d in pltdata:\n",
    "        rd = []\n",
    "        if 'marker' in d:\n",
    "            r_mark = getattr(p2, d['marker'])(d['srs'].values, \n",
    "                        d['srs'].coords['pressure'].values,\n",
    "                        color=d['color'], alpha=.7)\n",
    "            rd.append(r_mark)\n",
    "        r_line = p2.line(d['srs'].values, \n",
    "                    d['srs'].coords['pressure'].values,\n",
    "                    color=d['color'], alpha=d['alpha'], \n",
    "                    line_width=d['line_width'], line_dash=d['line_dash'])\n",
    "        rd.append(r_line)\n",
    "      \n",
    "        rs.append(rd)\n",
    "        \n",
    "    p2.y_range = Range1d(ymax, ymin)  \n",
    "    p2.yaxis.axis_label = 'pressure [mb]'\n",
    "    \n",
    "    p2.x_range = Range1d(xmin, xmax)\n",
    "    p2.xaxis.axis_label = 'cooling rate [K/day]'\n",
    "    \n",
    "    items = [(d['label'], r) for r, d in zip(rs, pltdata)]\n",
    "    legend = Legend(items=items, location=(10, -30))\n",
    "    legend.label_text_font_size = '8pt'\n",
    "    \n",
    "    p2.add_layout(legend, 'right')  \n",
    "    \n",
    "    show(gridplot(p1, p2, ncols=2, plot_height=500))\n",
    "    \n",
    "\n",
    "def script_plt_cooling():\n",
    "    pltdata = pltdata_cooling_1(\n",
    "        ds_cool=DS_COOL,\n",
    "        ds_cool_crd=DS_COOL_CRD,\n",
    "        ds_cool_wgt=DS_COOL_WGT)\n",
    "    plt_cooling_bokeh(pltdata=pltdata)\n",
    "    print('''FIGURE. Cooling rate profiles.''')"
   ]
  },
  {
   "cell_type": "code",
   "execution_count": 9,
   "metadata": {
    "collapsed": true
   },
   "outputs": [],
   "source": [
    "def fmt_flux(ds_in):\n",
    "    ds = ds_in.copy(deep=True)\n",
    "    \n",
    "    for l in ('level', 'layer'):\n",
    "        if l in ds.data_vars:\n",
    "            if len(ds[l].dims) > 1:\n",
    "                surface = {d: 0 for d in ds.dims if d != 'pressure'}\n",
    "                coord_level = ds[l][surface]\n",
    "                ds.coords[l] = ('pressure', coord_level)\n",
    "            else:\n",
    "                ds.coords[l] = ('pressure', ds[l])\n",
    "        \n",
    "    ds = ds.isel(pressure=[0, 23, -1])\n",
    "        \n",
    "    if 'igg' in ds.dims:\n",
    "        ds = ds.sel(igg=[1])\n",
    "        ds = ds.squeeze('igg').drop('igg')\n",
    "    \n",
    "    if 'g' in ds.dims:\n",
    "        ds = ds.sum('g')\n",
    "            \n",
    "    if 'band' in ds.dims:\n",
    "        try:\n",
    "            ds = ds.squeeze('band').drop('band')\n",
    "        except ValueError:\n",
    "            ds = ds.sum('band')\n",
    "                \n",
    "    df = ds.to_dataframe()\n",
    "    df = df.set_index('level', append=True)               \n",
    "    return df\n",
    "\n",
    "\n",
    "def tbdata_flux(ds_flux=None, ds_flux_crd=None, ds_flux_wgt=None):\n",
    "    ilevels = [0, 23, -1]\n",
    "            \n",
    "    benchmark = {'label': 'CRD',\n",
    "                 'df': fmt_flux(ds_flux_crd)}\n",
    "    \n",
    "    tbs = [{'label': 'WGT igg=10 wgt_flux=1',\n",
    "            'df': fmt_flux(ds_flux_wgt)},\n",
    "           {'label': 'CLIRAD',\n",
    "            'df': fmt_flux(ds_flux)}]\n",
    "    \n",
    "    data = {'benchmark': benchmark, 'others': tbs}\n",
    "    return data\n",
    "\n",
    "\n",
    "def tb_flux(tbdata=None):\n",
    "    benchmark = tbdata['benchmark']\n",
    "    others = tbdata['others']\n",
    "    \n",
    "    def show_tb(d=None):\n",
    "        display.display(d['df'])\n",
    "        print('Table.', 'Fluxes.', d['label'])\n",
    "        \n",
    "    def show_tbdiff(d0=None, d=None):\n",
    "        df = d['df']\n",
    "        df.index = d0['df'].index\n",
    "        display.display(df - d0['df'])\n",
    "        print('Table.', 'Fluxes.', \n",
    "              '({}) - ({})'.format(d['label'], d0['label']))\n",
    "        \n",
    "    show_tb(benchmark)\n",
    "    for d in others:\n",
    "        show_tb(d)\n",
    "        \n",
    "    for d in others:\n",
    "        show_tbdiff(d=d, d0=benchmark)\n",
    "        \n",
    "        \n",
    "def script_tb_flux():\n",
    "    data = tbdata_flux(ds_flux=DS_FLUX,\n",
    "                       ds_flux_crd=DS_FLUX_CRD,\n",
    "                       ds_flux_wgt=DS_FLUX_WGT)\n",
    "    tb_flux(tbdata=data)"
   ]
  },
  {
   "cell_type": "code",
   "execution_count": 10,
   "metadata": {
    "collapsed": true
   },
   "outputs": [],
   "source": [
    "def band_map():\n",
    "    '''\n",
    "    Maps spectral bands in lblnew to spectral bands in clirad.\n",
    "    '''\n",
    "    lblnew2clirad = {'1': '1',\n",
    "            '2': '2',\n",
    "            '3a': '3',\n",
    "            '3b': '4',\n",
    "            '3c': '5',\n",
    "            '4': '6', \n",
    "            '5': '7',\n",
    "            '6': '8',\n",
    "            '7': '9', \n",
    "            '8': '10',\n",
    "            '9': '11'}\n",
    "    \n",
    "    clirad2lblnew = {clirad: lblnew \n",
    "                     for lblnew, clirad in lblnew2clirad.items()}\n",
    "    return clirad2lblnew\n",
    "\n",
    "\n",
    "def gasbands():\n",
    "    bmap = band_map()\n",
    "    gases = list(PARAM['molecule'].keys())\n",
    "    \n",
    "    bands = [bmap[str(b)] for b in PARAM['band']]\n",
    "    return list(itertools.product(gases, bands))\n",
    "\n",
    "\n",
    "def print_bestfit_params():\n",
    "    print('Best-fit values for each (gas, band)')\n",
    "    print('------------------------------------')\n",
    "    for gas, band in gasbands():\n",
    "        print('o {} band{}'.format(gas, band))\n",
    "        param = bestfits.kdist_params(molecule=gas, band=band)\n",
    "        for name, value in sorted(param.items()):\n",
    "            print(2 * ' ' + '{} = {}'.format(name, value))\n",
    "\n",
    "        \n",
    "def print_input_param():        \n",
    "    for name, value in PARAM.items():\n",
    "        print('{} = {}'.format(name, value))\n",
    "        \n",
    "        \n",
    "def print_lblnew_param():\n",
    "    for name, value in sorted(PARAM_LBLNEW.items()):\n",
    "        print('{} = {}'.format(name, value))\n"
   ]
  },
  {
   "cell_type": "code",
   "execution_count": 11,
   "metadata": {
    "collapsed": true,
    "scrolled": false
   },
   "outputs": [],
   "source": [
    "def show_html(s):\n",
    "    display.display(display.HTML(s))\n",
    "\n",
    "    \n",
    "def show_markdown(s):\n",
    "    display.display(display.Markdown(s))\n",
    "\n",
    "    \n",
    "def script():\n",
    "    \n",
    "    title = '### CLIRAD-LW'\n",
    "    s_input = 'Input Parameters'\n",
    "    s_lblnew_param = 'LBLNEW case compaired against'\n",
    "    s_bestfits = 'Best-fit Parameters'\n",
    "    s_plt_cooling = 'Cooling Rate Profiles'\n",
    "    s_tb_flux = 'Flux Comparison'\n",
    "    \n",
    "    # title\n",
    "    show_markdown('### CLIRAD-LW')\n",
    "    \n",
    "    # TOC\n",
    "    show_markdown('### Table of Contents')\n",
    "    show_html(climahtml.getHTML_hrefanchor(s_input))\n",
    "    show_html(climahtml.getHTML_hrefanchor(s_lblnew_param))\n",
    "    show_html(climahtml.getHTML_hrefanchor(s_plt_cooling))\n",
    "    show_html(climahtml.getHTML_hrefanchor(s_tb_flux))\n",
    "    show_html(climahtml.getHTML_hrefanchor(s_bestfits))\n",
    "    \n",
    "    # Input parameters\n",
    "    show_html(climahtml.getHTML_idanchor(s_input))\n",
    "    show_markdown(climahtml.getMarkdown_sectitle(s_input))\n",
    "    print_input_param()\n",
    "    \n",
    "    # LBLNEW parameters \n",
    "    show_html(climahtml.getHTML_idanchor(s_lblnew_param))\n",
    "    show_markdown(climahtml.getMarkdown_sectitle(s_lblnew_param))\n",
    "    print_lblnew_param()\n",
    "    \n",
    "    # Cooling rate profiles\n",
    "    show_html(climahtml.getHTML_idanchor(s_plt_cooling))\n",
    "    show_markdown(climahtml.getMarkdown_sectitle(s_plt_cooling))\n",
    "    script_plt_cooling()\n",
    "    \n",
    "    # Flux comparison\n",
    "    show_html(climahtml.getHTML_idanchor(s_tb_flux))\n",
    "    show_markdown(climahtml.getMarkdown_sectitle(s_tb_flux))\n",
    "    script_tb_flux()\n",
    "    \n",
    "    # Best-fit values\n",
    "    show_html(climahtml.getHTML_idanchor(s_bestfits))\n",
    "    show_markdown(climahtml.getMarkdown_sectitle(s_bestfits))\n",
    "    print_bestfit_params()\n",
    "   \n",
    "    "
   ]
  },
  {
   "cell_type": "code",
   "execution_count": 12,
   "metadata": {
    "collapsed": true,
    "scrolled": false
   },
   "outputs": [
    {
     "data": {
      "text/markdown": [
       "### CLIRAD-LW"
      ],
      "text/plain": [
       "<IPython.core.display.Markdown object>"
      ]
     },
     "metadata": {},
     "output_type": "display_data"
    },
    {
     "data": {
      "text/markdown": [
       "### Table of Contents"
      ],
      "text/plain": [
       "<IPython.core.display.Markdown object>"
      ]
     },
     "metadata": {},
     "output_type": "display_data"
    },
    {
     "data": {
      "text/html": [
       "<a href=\"#Input_Parameters\">Input Parameters</a>"
      ],
      "text/plain": [
       "<IPython.core.display.HTML object>"
      ]
     },
     "metadata": {},
     "output_type": "display_data"
    },
    {
     "data": {
      "text/html": [
       "<a href=\"#LBLNEW_case_compaired_against\">LBLNEW case compaired against</a>"
      ],
      "text/plain": [
       "<IPython.core.display.HTML object>"
      ]
     },
     "metadata": {},
     "output_type": "display_data"
    },
    {
     "data": {
      "text/html": [
       "<a href=\"#Cooling_Rate_Profiles\">Cooling Rate Profiles</a>"
      ],
      "text/plain": [
       "<IPython.core.display.HTML object>"
      ]
     },
     "metadata": {},
     "output_type": "display_data"
    },
    {
     "data": {
      "text/html": [
       "<a href=\"#Flux_Comparison\">Flux Comparison</a>"
      ],
      "text/plain": [
       "<IPython.core.display.HTML object>"
      ]
     },
     "metadata": {},
     "output_type": "display_data"
    },
    {
     "data": {
      "text/html": [
       "<a href=\"#Best-fit_Parameters\">Best-fit Parameters</a>"
      ],
      "text/plain": [
       "<IPython.core.display.HTML object>"
      ]
     },
     "metadata": {},
     "output_type": "display_data"
    },
    {
     "data": {
      "text/html": [
       "<a id=\"Input_Parameters\"></a>"
      ],
      "text/plain": [
       "<IPython.core.display.HTML object>"
      ]
     },
     "metadata": {},
     "output_type": "display_data"
    },
    {
     "data": {
      "text/markdown": [
       "# Input Parameters"
      ],
      "text/plain": [
       "<IPython.core.display.Markdown object>"
      ]
     },
     "metadata": {},
     "output_type": "display_data"
    },
    {
     "name": "stdout",
     "output_type": "stream",
     "text": [
      "atmpro = trp\n",
      "band = [3]\n",
      "commitnumber = de5d43e\n",
      "molecule = {'h2o': 'atmpro'}\n",
      "tsfc = 300\n"
     ]
    },
    {
     "data": {
      "text/html": [
       "<a id=\"LBLNEW_case_compaired_against\"></a>"
      ],
      "text/plain": [
       "<IPython.core.display.HTML object>"
      ]
     },
     "metadata": {},
     "output_type": "display_data"
    },
    {
     "data": {
      "text/markdown": [
       "# LBLNEW case compaired against"
      ],
      "text/plain": [
       "<IPython.core.display.Markdown object>"
      ]
     },
     "metadata": {},
     "output_type": "display_data"
    },
    {
     "name": "stdout",
     "output_type": "stream",
     "text": [
      "atmpro = trp\n",
      "band = 3a\n",
      "commitnumber = 5014a19\n",
      "conc = None\n",
      "dv = 0.001\n",
      "klin = 0\n",
      "molecule = h2o\n",
      "ng_adju = [0, 0]\n",
      "ng_refs = [2, 6]\n",
      "nv = 1000\n",
      "option_compute_btable = 0\n",
      "option_compute_ktable = 0\n",
      "option_wgt_flux = 1\n",
      "option_wgt_k = 1\n",
      "ref_pts = [(10, 250), (600, 250)]\n",
      "tsfc = 300\n",
      "vmax = 620\n",
      "vmin = 540\n",
      "w_diffuse = [(1.9, 1.7), (1.4, 1.4, 1.4, 1.55, 1.6, 1.66)]\n",
      "wgt = [(0.7, 0.7), (0.7, 0.5, 0.5, 0.5, 0.5, 0.5)]\n"
     ]
    },
    {
     "data": {
      "text/html": [
       "<a id=\"Cooling_Rate_Profiles\"></a>"
      ],
      "text/plain": [
       "<IPython.core.display.HTML object>"
      ]
     },
     "metadata": {},
     "output_type": "display_data"
    },
    {
     "data": {
      "text/markdown": [
       "# Cooling Rate Profiles"
      ],
      "text/plain": [
       "<IPython.core.display.Markdown object>"
      ]
     },
     "metadata": {},
     "output_type": "display_data"
    },
    {
     "data": {
      "text/html": [
       "\n",
       "<div class=\"bk-root\">\n",
       "    <div class=\"bk-plotdiv\" id=\"37e3216d-eba0-4fcb-941a-36897d99bddb\"></div>\n",
       "</div>"
      ]
     },
     "metadata": {},
     "output_type": "display_data"
    },
    {
     "data": {
      "application/javascript": [
       "(function(root) {\n",
       "  function embed_document(root) {\n",
       "    \n",
       "  var docs_json = {\"808153ab-9470-42e0-8688-5966ddb76a23\":{\"roots\":{\"references\":[{\"attributes\":{},\"id\":\"93be7fb3-4528-451c-a8b5-c5ea4c38e901\",\"type\":\"Selection\"},{\"attributes\":{\"toolbar\":{\"id\":\"16580571-8f5e-48db-b861-36e08c4fb46b\",\"type\":\"ProxyToolbar\"},\"toolbar_location\":\"above\"},\"id\":\"fe2d08a4-b7bf-4262-b0eb-f2146dff58de\",\"type\":\"ToolbarBox\"},{\"attributes\":{\"source\":{\"id\":\"4986186c-ced1-40be-a93a-92c610bde0ee\",\"type\":\"ColumnDataSource\"}},\"id\":\"698843a9-95e7-4ab2-89f4-1fb8afe9139b\",\"type\":\"CDSView\"},{\"attributes\":{},\"id\":\"58c052aa-e131-472f-a505-ecbf0247a379\",\"type\":\"UnionRenderers\"},{\"attributes\":{\"plot\":null,\"text\":\"Linear pressure scale\"},\"id\":\"f4b176a5-1f27-4214-ae86-d065b1cc2a4c\",\"type\":\"Title\"},{\"attributes\":{},\"id\":\"a7ee47fa-6461-4731-bc86-e31f3ed37c0c\",\"type\":\"Selection\"},{\"attributes\":{},\"id\":\"675e004d-d4e6-4997-a710-df1107f688f8\",\"type\":\"UnionRenderers\"},{\"attributes\":{},\"id\":\"ae697078-8d72-4729-b445-708445492833\",\"type\":\"Selection\"},{\"attributes\":{},\"id\":\"04cc5eb3-0d85-4144-8b4f-4a02f8e1f377\",\"type\":\"UnionRenderers\"},{\"attributes\":{\"children\":[{\"id\":\"fe2d08a4-b7bf-4262-b0eb-f2146dff58de\",\"type\":\"ToolbarBox\"},{\"id\":\"be9931f1-637a-4c39-bfac-e08307663f96\",\"type\":\"Column\"}]},\"id\":\"83ecdfaa-f03d-4595-ac13-286dd760a032\",\"type\":\"Column\"},{\"attributes\":{\"children\":[{\"id\":\"f44a0fae-a4b0-4ed2-9452-bde7985da3be\",\"subtype\":\"Figure\",\"type\":\"Plot\"},{\"id\":\"75527777-31db-4eee-bb57-a7cd4409f899\",\"subtype\":\"Figure\",\"type\":\"Plot\"}]},\"id\":\"a48b7878-9803-4b9a-97bc-e73619e47b3b\",\"type\":\"Row\"},{\"attributes\":{\"tools\":[{\"id\":\"767223f8-7d18-4abb-97cc-40e97adcf507\",\"type\":\"PanTool\"},{\"id\":\"a8f881bb-c78d-4d68-869c-6686c14f7408\",\"type\":\"WheelZoomTool\"},{\"id\":\"a41c1401-cfab-4d0c-a65b-dd1626a5ea5e\",\"type\":\"BoxZoomTool\"},{\"id\":\"b73410dd-d0a9-4dad-9804-7ac47f60417b\",\"type\":\"SaveTool\"},{\"id\":\"a5489ad6-e480-4cd0-b247-6b4fcdec305b\",\"type\":\"ResetTool\"},{\"id\":\"bfb5feba-7a6b-4f0f-8538-babd46d4e1b7\",\"type\":\"HelpTool\"},{\"id\":\"b667b518-1cf6-411c-b19b-03bef3f14382\",\"type\":\"PanTool\"},{\"id\":\"70553ed4-64d6-4a9a-b071-9dfd59cd508f\",\"type\":\"WheelZoomTool\"},{\"id\":\"c805cf67-0aff-4d0f-98ff-0b7c73b4a7ca\",\"type\":\"BoxZoomTool\"},{\"id\":\"6f8cfb6b-04b9-4b96-bd47-7ef7aad7eec9\",\"type\":\"SaveTool\"},{\"id\":\"5ac5dfeb-0566-4c84-8681-c4c9e1d4c3d2\",\"type\":\"ResetTool\"},{\"id\":\"ebadabc3-a8d2-4853-9f50-85a7b785e191\",\"type\":\"HelpTool\"}]},\"id\":\"16580571-8f5e-48db-b861-36e08c4fb46b\",\"type\":\"ProxyToolbar\"},{\"attributes\":{\"callback\":null,\"data\":{\"x\":{\"__ndarray__\":\"mRoZilFVRT9IfMRnHGtGP+hQhGBOukg/0XT4Nh8jSz8nzBZxg59NP923NfrpFFA/esN1vK1jUT81ezuhErlSPwL2KfQuGFQ/AYABEyiBVT/YDb136+tWP/o/gRsUUlg/06X+f/WfWT9fl305HGZbPytc8BAoVWE/no9wakD1aT8Cd/or5lNzPzj9+AqUTXs/xFyV9tSSgj+XgMq+TJCIP4N+ICXowo8/saEImrCskz8PinH0tKCUPyE020Uzd5I/nkfZ4wT0jj8gU+u7KmmIP/a20Wsw54I/PhJD6q5XfT+JRk7aKO92Pw6B2TwLFHI/AChOUDSfbD/iGJCYPIBmPyzq59vvQWE/9c8x8kLSWD9kn+WFoW5JP7o2OCQIjQg/xVLW+7KNM78UsrLKT6wiv4LvzqG0IDs/zVNt3SzqUz8OQIfWms9oP1IO5m5Q7YI/JsSebocjlT/EfYZlo9uiP0z2/Qts5Kw/TvkSVbgYtD+v2Jkh2Uy6P/mk0ezTVMA/iszYp07Nwj/fqmcYqb3FP4hFTldeD8k/mHlAE0C1zD8DWj67EVDQP89i7+YlVtI/K3Tzx5No1D8InJ3z8HHWP+XIsZLiZdg/zn+8FZE62j9Mowvi6t3bP01pmgNGT90/enGgj0t/3j9EVel65EffP7zXQQwRg98/uWpDan9s4D+OnQmwPCbgP4GDrF3JhN4/Cbw4lhwc3D9YGhlg9p3YPzJKwH1Xo9U/QFamTvZF0z91p+CVyVXRP19lyAyvf88/i2shbYgWzT+Puikn0uTLP1hxDeDrc9A/\",\"dtype\":\"float64\",\"shape\":[75]},\"y\":{\"__ndarray__\":\"GhExyth1ND/Sv8nbtpRIP2vylNV0PVE/aTum7souWD/At0SJ8fVgPw3Iuahxymc/MSNhhJWvcD/bTfBN02d3P2zb5nxnaoA/CD5h5MAGhz8NmeH1TyaQP+zrCsc9p5Y/LbKd76fGnz/bLW5ISEmmPww9YvTcQq8/JV2OstnstT8Er5Y7M8G+P0c+r3jqkcU/5h99k6ZBzj88bCIzFzjVP4enV8oyxN0//yH99nXg5D8qOpLLf0jtP5kqGJXUifQ/c9cS8kHP/D+/DpwzojQEQIEmwoanVwxA4lgXt9HgE0BSSZ2AJuIbQAMJih9jjiNA5q4l5INuK0AwTKYKRj0zQNv5fmq8/DpAaCJseHrtQkB/+zpwzoxKQM3MzMzMeFJAZmZmZmZqWEAAAAAAAFxeQM3MzMzMJmJAmpmZmZkfZUBmZmZmZhhoQDMzMzMzEWtAAAAAAAAKbkBmZmZmZoFwQM3MzMzM/XFAMzMzMzN6c0CamZmZmfZ0QAAAAAAAc3ZAZmZmZmbvd0DNzMzMzGt5QDMzMzMz6HpAmpmZmZlkfEAAAAAAAOF9QGZmZmZmXX9AZmZmZuZsgECamZmZGSuBQM3MzMxM6YFAAAAAAICngkAzMzMzs2WDQGZmZmbmI4RAmpmZmRnihEDNzMzMTKCFQAAAAACAXoZAMzMzM7Mch0BmZmZm5tqHQJqZmZkZmYhAzczMzExXiUAAAAAAgBWKQDMzMzOz04pAZmZmZuaRi0CamZmZGVCMQM3MzMxMDo1AAAAAAIDMjUAzMzMzs4qOQGZmZmbmSI9A\",\"dtype\":\"float64\",\"shape\":[75]}},\"selected\":{\"id\":\"d5d9e0c7-6291-409f-b293-81ec9ed5b1ec\",\"type\":\"Selection\"},\"selection_policy\":{\"id\":\"6b2807be-6447-4b3f-a2cd-ccb5e14cb2e1\",\"type\":\"UnionRenderers\"}},\"id\":\"c9acd56b-0a3e-4de8-b986-a03947ead5a1\",\"type\":\"ColumnDataSource\"},{\"attributes\":{\"callback\":null,\"end\":0.01,\"start\":1020},\"id\":\"9951036e-5459-4775-a4aa-0cab2873c518\",\"type\":\"Range1d\"},{\"attributes\":{\"callback\":null,\"data\":{\"x\":{\"__ndarray__\":\"Y0eHKQicUD9JZRaa1QZRP5NDU1THM1I/aJR29/xIUz8zbWeuv2RUP2efNg9Ih1U/7cS9HvmvVj+zS3LFZ+BXP5mLtcS1Flk/9ejtVu1WWj/hGG2JKKNbP1kIOO5X9Fw/7PFQiWNMXj8P2jHJVgRgP6oQXh1xWGM/Nt2FwnQVaz+ThEoBxSZzP/GPoPN4LHo/Z1XQ4LJrgT8aolvGhbeGP2J7i1m/MY0/3LZSfDomkj/h24QTgmmTP51Av4y1AZI/NzaMmXxnjz/gdG+eGsqJP4PqTMW5koQ/1J97WrcdgD9SGp+9Qrx4P8XCINLulXI/VRJqIeBLaz8TAbmK5n1jP+WgFEX5llo/BLcwulx+UD8TCFVFyfw4P8XXuE5q7CO//0PW+1k0OL/8H2XbzS8uvzfvS7vp9ig/7BmeVcbvST/PXcq1s7NhPwVwfRidTH0/9oH4gSq8kT/gCakaPpugPxuV+Rmnuak/YrtnnAcpsj9a1/bj56C4P/KU1XQ90b4/Uvmuc5k7wT+H53zjMaTDPycNXol6IMc/YQSmNuVIyz8KNzLyJn3PPwMmT92Fu9E/Q5wceJTO0z/IkIxqS/zVP5NRZRh3Q9g//dCz9sp+2j8dPRtFGHfcP28zkantLN4/P+Hs1jKZ3z8Tb3QAilLgP8yEuqNan+A/JnbpNhOZ4T+ycrvZF5fhP7ad+GLWyOA/ShyBkfrf3j86HyJebJTaP0qS72uHs9Y/+jwt3EWa0z8NS4d3Ti3RP8liD6tHs84/LE2E7EBGzD8rQtqUZWfLP19mM+JdSdA/\",\"dtype\":\"float64\",\"shape\":[75]},\"y\":{\"__ndarray__\":\"S/O/Q+51ND/Sv8nbtpRIP2vylNV0PVE/aTum7souWD/At0SJ8fVgPw3Iuahxymc/MSNhhJWvcD/bTfBN02d3P2zb5nxnaoA/CD5h5MAGhz8NmeH1TyaQP+zrCsc9p5Y/LbKd76fGnz/bLW5ISEmmPww9YvTcQq8/JV2OstnstT8Er5Y7M8G+P0c+r3jqkcU/5h99k6ZBzj88bCIzFzjVP4enV8oyxN0//yH99nXg5D8qOpLLf0jtP5kqGJXUifQ/c9cS8kHP/D+/DpwzojQEQIEmwoanVwxA4lgXt9HgE0BSSZ2AJuIbQAMJih9jjiNA5q4l5INuK0AwTKYKRj0zQNv5fmq8/DpAaCJseHrtQkB/+zpwzoxKQM3MzMzMeFJAZmZmZmZqWEAAAAAAAFxeQM3MzMzMJmJAmpmZmZkfZUBmZmZmZhhoQDMzMzMzEWtAAAAAAAAKbkBmZmZmZoFwQM3MzMzM/XFAMzMzMzN6c0CamZmZmfZ0QAAAAAAAc3ZAZmZmZmbvd0DNzMzMzGt5QDMzMzMz6HpAmpmZmZlkfEAAAAAAAOF9QGZmZmZmXX9AZmZmZuZsgECamZmZGSuBQM3MzMxM6YFAAAAAAICngkAzMzMzs2WDQGZmZmbmI4RAmpmZmRnihEDNzMzMTKCFQAAAAACAXoZAMzMzM7Mch0BmZmZm5tqHQJqZmZkZmYhAzczMzExXiUAAAAAAgBWKQDMzMzOz04pAZmZmZuaRi0CamZmZGVCMQM3MzMxMDo1AAAAAAIDMjUAzMzMzs4qOQGZmZmbmSI9A\",\"dtype\":\"float64\",\"shape\":[75]}},\"selected\":{\"id\":\"affa5f25-35e4-46e5-8c45-7fdec3b9046b\",\"type\":\"Selection\"},\"selection_policy\":{\"id\":\"239ecb92-603f-49f5-8fe0-b750e0d1fa25\",\"type\":\"UnionRenderers\"}},\"id\":\"4986186c-ced1-40be-a93a-92c610bde0ee\",\"type\":\"ColumnDataSource\"},{\"attributes\":{\"active_drag\":\"auto\",\"active_inspect\":\"auto\",\"active_scroll\":\"auto\",\"active_tap\":\"auto\",\"tools\":[{\"id\":\"767223f8-7d18-4abb-97cc-40e97adcf507\",\"type\":\"PanTool\"},{\"id\":\"a8f881bb-c78d-4d68-869c-6686c14f7408\",\"type\":\"WheelZoomTool\"},{\"id\":\"a41c1401-cfab-4d0c-a65b-dd1626a5ea5e\",\"type\":\"BoxZoomTool\"},{\"id\":\"b73410dd-d0a9-4dad-9804-7ac47f60417b\",\"type\":\"SaveTool\"},{\"id\":\"a5489ad6-e480-4cd0-b247-6b4fcdec305b\",\"type\":\"ResetTool\"},{\"id\":\"bfb5feba-7a6b-4f0f-8538-babd46d4e1b7\",\"type\":\"HelpTool\"}]},\"id\":\"9eb113f2-0b16-4dcf-b1be-d64baf6cd47f\",\"type\":\"Toolbar\"},{\"attributes\":{\"dimension\":1,\"plot\":{\"id\":\"f44a0fae-a4b0-4ed2-9452-bde7985da3be\",\"subtype\":\"Figure\",\"type\":\"Plot\"},\"ticker\":{\"id\":\"754707b2-7f81-4d0a-b3fb-4c6ab52ce6df\",\"type\":\"BasicTicker\"}},\"id\":\"5fec5d36-638c-4a3f-bc64-d9c096ffd251\",\"type\":\"Grid\"},{\"attributes\":{\"fill_alpha\":{\"value\":0.1},\"fill_color\":{\"value\":\"#1f77b4\"},\"line_alpha\":{\"value\":0.1},\"line_color\":{\"value\":\"#1f77b4\"},\"x\":{\"field\":\"x\"},\"y\":{\"field\":\"y\"}},\"id\":\"91d05632-a7ed-40bf-973d-c2bfa87d6040\",\"type\":\"Circle\"},{\"attributes\":{\"bottom_units\":\"screen\",\"fill_alpha\":{\"value\":0.5},\"fill_color\":{\"value\":\"lightgrey\"},\"left_units\":\"screen\",\"level\":\"overlay\",\"line_alpha\":{\"value\":1.0},\"line_color\":{\"value\":\"black\"},\"line_dash\":[4,4],\"line_width\":{\"value\":2},\"plot\":null,\"render_mode\":\"css\",\"right_units\":\"screen\",\"top_units\":\"screen\"},\"id\":\"ea0c7858-ac16-4c67-8903-7897d13795b7\",\"type\":\"BoxAnnotation\"},{\"attributes\":{\"callback\":null,\"data\":{\"x\":{\"__ndarray__\":\"8ZOAf620Sz8NravujrdMP8/scxEOzk4/a9hPE2V9UD86yMA7aptRP1+NXgwowVI//J74Fr7uUz+E5DCbDyZVP1MSvmX8ZVY/Tc51ll+sVz9Y8tW7WvVYP9o11heeN1o/CHsO+TmbWz8HIB53n2NdP24CrAdGD2I/YPWdRXy2aT/bCoQ+MI5yP836jgeSunk/d1+gBF1GgT8fwQ9irqeGP14mbJMGKo0/goFrsK8Okj/N7LXrtyqTP2CZEUTfkpE/6S0hDg1Njj+Th31aPp+IP3zEtCmKh4M/uLfMVVaufj8glog+/uF3P36OLpSAcXI/N4cLZ484bD8aQ6bXvzJlPwlZ3P8T5F4/gzEHrH38VD/DM3HOtndDP4PNlnEUawu/uARTzRNpNr/hUP4XatQnv8qKxaiNvjY/wXOBKFZDUj9dZk7SNWtnPzBbVemKZII/3yJ+CuYelT/awEtqnhCjP55h4vbuFa0/aiYIKKo8tD+/ypWsn6a6P88roLOnZcA/vyTfbeFvwj9BHI38uAjFP/R6WBeEUcg/L8DYDskTzD/1yyN+k/zPP/0hDOJw6tE/GT7/LlTf0z9zHNjDFt/VP4LNeNxp5dc/ceJqzcrd2T9C08Tp2qPbP/cEuvLcLN0/yLSiIONo3j9iBGAn0kLfP98xvklcnd8/oRTZjY6W4D91YWdvZ3XgP3oX1NAXYN8/I0oatR4M3T+6Pz9/am3ZP0oaR0pwLtY/xkDaBEOU0z/ThcpzLHXRP20r9SLei88/TOXDODYgzT/Qll29AhjMP5ZDsHDil9A/\",\"dtype\":\"float64\",\"shape\":[75]},\"y\":{\"__ndarray__\":\"GhExyth1ND/Sv8nbtpRIP2vylNV0PVE/aTum7souWD/At0SJ8fVgPw3Iuahxymc/MSNhhJWvcD/bTfBN02d3P2zb5nxnaoA/CD5h5MAGhz8NmeH1TyaQP+zrCsc9p5Y/LbKd76fGnz/bLW5ISEmmPww9YvTcQq8/JV2OstnstT8Er5Y7M8G+P0c+r3jqkcU/5h99k6ZBzj88bCIzFzjVP4enV8oyxN0//yH99nXg5D8qOpLLf0jtP5kqGJXUifQ/c9cS8kHP/D+/DpwzojQEQIEmwoanVwxA4lgXt9HgE0BSSZ2AJuIbQAMJih9jjiNA5q4l5INuK0AwTKYKRj0zQNv5fmq8/DpAaCJseHrtQkB/+zpwzoxKQM3MzMzMeFJAZmZmZmZqWEAAAAAAAFxeQM3MzMzMJmJAmpmZmZkfZUBmZmZmZhhoQDMzMzMzEWtAAAAAAAAKbkBmZmZmZoFwQM3MzMzM/XFAMzMzMzN6c0CamZmZmfZ0QAAAAAAAc3ZAZmZmZmbvd0DNzMzMzGt5QDMzMzMz6HpAmpmZmZlkfEAAAAAAAOF9QGZmZmZmXX9AZmZmZuZsgECamZmZGSuBQM3MzMxM6YFAAAAAAICngkAzMzMzs2WDQGZmZmbmI4RAmpmZmRnihEDNzMzMTKCFQAAAAACAXoZAMzMzM7Mch0BmZmZm5tqHQJqZmZkZmYhAzczMzExXiUAAAAAAgBWKQDMzMzOz04pAZmZmZuaRi0CamZmZGVCMQM3MzMxMDo1AAAAAAIDMjUAzMzMzs4qOQGZmZmbmSI9A\",\"dtype\":\"float64\",\"shape\":[75]}},\"selected\":{\"id\":\"ae697078-8d72-4729-b445-708445492833\",\"type\":\"Selection\"},\"selection_policy\":{\"id\":\"04cc5eb3-0d85-4144-8b4f-4a02f8e1f377\",\"type\":\"UnionRenderers\"}},\"id\":\"8687f297-1997-49c6-92c5-d6d93ab64f57\",\"type\":\"ColumnDataSource\"},{\"attributes\":{\"plot\":{\"id\":\"f44a0fae-a4b0-4ed2-9452-bde7985da3be\",\"subtype\":\"Figure\",\"type\":\"Plot\"},\"ticker\":{\"id\":\"d14ced3a-bcfb-45ec-9bf3-4681b1147f93\",\"type\":\"BasicTicker\"}},\"id\":\"e282d1de-4877-4b7e-abcb-411099502e4b\",\"type\":\"Grid\"},{\"attributes\":{\"axis_label\":\"pressure [mb]\",\"formatter\":{\"id\":\"5662d1a7-925b-47e7-927f-6bf4501d58ef\",\"type\":\"BasicTickFormatter\"},\"plot\":{\"id\":\"f44a0fae-a4b0-4ed2-9452-bde7985da3be\",\"subtype\":\"Figure\",\"type\":\"Plot\"},\"ticker\":{\"id\":\"754707b2-7f81-4d0a-b3fb-4c6ab52ce6df\",\"type\":\"BasicTicker\"}},\"id\":\"34f651bb-0161-49fd-8a03-570487d3096d\",\"type\":\"LinearAxis\"},{\"attributes\":{},\"id\":\"754707b2-7f81-4d0a-b3fb-4c6ab52ce6df\",\"type\":\"BasicTicker\"},{\"attributes\":{\"line_color\":\"#4daf4a\",\"line_width\":1.5,\"x\":{\"field\":\"x\"},\"y\":{\"field\":\"y\"}},\"id\":\"51a614b0-ca76-4a1b-8013-4f8f6b41038f\",\"type\":\"Line\"},{\"attributes\":{\"data_source\":{\"id\":\"c9acd56b-0a3e-4de8-b986-a03947ead5a1\",\"type\":\"ColumnDataSource\"},\"glyph\":{\"id\":\"c607756b-d502-4f18-8e02-56d8b33d43d5\",\"type\":\"Circle\"},\"hover_glyph\":null,\"muted_glyph\":null,\"nonselection_glyph\":{\"id\":\"91d05632-a7ed-40bf-973d-c2bfa87d6040\",\"type\":\"Circle\"},\"selection_glyph\":null,\"view\":{\"id\":\"502eb202-e782-4baa-9ed6-02014769e50d\",\"type\":\"CDSView\"}},\"id\":\"3b76bc55-f1b5-4ed9-b694-5b6468ea6737\",\"type\":\"GlyphRenderer\"},{\"attributes\":{},\"id\":\"d14ced3a-bcfb-45ec-9bf3-4681b1147f93\",\"type\":\"BasicTicker\"},{\"attributes\":{\"axis_label\":\"cooling rate [K/day]\",\"formatter\":{\"id\":\"62d71860-b85c-4ab9-9367-e494134310d9\",\"type\":\"BasicTickFormatter\"},\"plot\":{\"id\":\"f44a0fae-a4b0-4ed2-9452-bde7985da3be\",\"subtype\":\"Figure\",\"type\":\"Plot\"},\"ticker\":{\"id\":\"d14ced3a-bcfb-45ec-9bf3-4681b1147f93\",\"type\":\"BasicTicker\"}},\"id\":\"82fcbb48-0521-4980-80fc-2e546c011710\",\"type\":\"LinearAxis\"},{\"attributes\":{\"callback\":null,\"data\":{\"x\":{\"__ndarray__\":\"mRoZilFVRT9IfMRnHGtGP+hQhGBOukg/0XT4Nh8jSz8nzBZxg59NP923NfrpFFA/esN1vK1jUT81ezuhErlSPwL2KfQuGFQ/AYABEyiBVT/YDb136+tWP/o/gRsUUlg/06X+f/WfWT9fl305HGZbPytc8BAoVWE/no9wakD1aT8Cd/or5lNzPzj9+AqUTXs/xFyV9tSSgj+XgMq+TJCIP4N+ICXowo8/saEImrCskz8PinH0tKCUPyE020Uzd5I/nkfZ4wT0jj8gU+u7KmmIP/a20Wsw54I/PhJD6q5XfT+JRk7aKO92Pw6B2TwLFHI/AChOUDSfbD/iGJCYPIBmPyzq59vvQWE/9c8x8kLSWD9kn+WFoW5JP7o2OCQIjQg/xVLW+7KNM78UsrLKT6wiv4LvzqG0IDs/zVNt3SzqUz8OQIfWms9oP1IO5m5Q7YI/JsSebocjlT/EfYZlo9uiP0z2/Qts5Kw/TvkSVbgYtD+v2Jkh2Uy6P/mk0ezTVMA/iszYp07Nwj/fqmcYqb3FP4hFTldeD8k/mHlAE0C1zD8DWj67EVDQP89i7+YlVtI/K3Tzx5No1D8InJ3z8HHWP+XIsZLiZdg/zn+8FZE62j9Mowvi6t3bP01pmgNGT90/enGgj0t/3j9EVel65EffP7zXQQwRg98/uWpDan9s4D+OnQmwPCbgP4GDrF3JhN4/Cbw4lhwc3D9YGhlg9p3YPzJKwH1Xo9U/QFamTvZF0z91p+CVyVXRP19lyAyvf88/i2shbYgWzT+Puikn0uTLP1hxDeDrc9A/\",\"dtype\":\"float64\",\"shape\":[75]},\"y\":{\"__ndarray__\":\"GhExyth1ND/Sv8nbtpRIP2vylNV0PVE/aTum7souWD/At0SJ8fVgPw3Iuahxymc/MSNhhJWvcD/bTfBN02d3P2zb5nxnaoA/CD5h5MAGhz8NmeH1TyaQP+zrCsc9p5Y/LbKd76fGnz/bLW5ISEmmPww9YvTcQq8/JV2OstnstT8Er5Y7M8G+P0c+r3jqkcU/5h99k6ZBzj88bCIzFzjVP4enV8oyxN0//yH99nXg5D8qOpLLf0jtP5kqGJXUifQ/c9cS8kHP/D+/DpwzojQEQIEmwoanVwxA4lgXt9HgE0BSSZ2AJuIbQAMJih9jjiNA5q4l5INuK0AwTKYKRj0zQNv5fmq8/DpAaCJseHrtQkB/+zpwzoxKQM3MzMzMeFJAZmZmZmZqWEAAAAAAAFxeQM3MzMzMJmJAmpmZmZkfZUBmZmZmZhhoQDMzMzMzEWtAAAAAAAAKbkBmZmZmZoFwQM3MzMzM/XFAMzMzMzN6c0CamZmZmfZ0QAAAAAAAc3ZAZmZmZmbvd0DNzMzMzGt5QDMzMzMz6HpAmpmZmZlkfEAAAAAAAOF9QGZmZmZmXX9AZmZmZuZsgECamZmZGSuBQM3MzMxM6YFAAAAAAICngkAzMzMzs2WDQGZmZmbmI4RAmpmZmRnihEDNzMzMTKCFQAAAAACAXoZAMzMzM7Mch0BmZmZm5tqHQJqZmZkZmYhAzczMzExXiUAAAAAAgBWKQDMzMzOz04pAZmZmZuaRi0CamZmZGVCMQM3MzMxMDo1AAAAAAIDMjUAzMzMzs4qOQGZmZmbmSI9A\",\"dtype\":\"float64\",\"shape\":[75]}},\"selected\":{\"id\":\"c7438774-61b1-4428-9432-b026684b0c90\",\"type\":\"Selection\"},\"selection_policy\":{\"id\":\"cb8475f0-5918-40d2-bbdf-2d6675b8b056\",\"type\":\"UnionRenderers\"}},\"id\":\"e30a5caf-ce06-4feb-939d-1937e8caeced\",\"type\":\"ColumnDataSource\"},{\"attributes\":{\"source\":{\"id\":\"c9acd56b-0a3e-4de8-b986-a03947ead5a1\",\"type\":\"ColumnDataSource\"}},\"id\":\"502eb202-e782-4baa-9ed6-02014769e50d\",\"type\":\"CDSView\"},{\"attributes\":{},\"id\":\"767223f8-7d18-4abb-97cc-40e97adcf507\",\"type\":\"PanTool\"},{\"attributes\":{\"fill_alpha\":{\"value\":0.7},\"fill_color\":{\"value\":\"#4daf4a\"},\"line_alpha\":{\"value\":0.7},\"line_color\":{\"value\":\"#4daf4a\"},\"x\":{\"field\":\"x\"},\"y\":{\"field\":\"y\"}},\"id\":\"c607756b-d502-4f18-8e02-56d8b33d43d5\",\"type\":\"Circle\"},{\"attributes\":{\"source\":{\"id\":\"9ce1dc7c-0260-4491-b74d-14aab79c7df7\",\"type\":\"ColumnDataSource\"}},\"id\":\"6c967fa5-1f5d-40ea-9c94-34eba7c2ad68\",\"type\":\"CDSView\"},{\"attributes\":{\"line_alpha\":0.1,\"line_color\":\"#1f77b4\",\"line_dash\":[6],\"line_width\":5,\"x\":{\"field\":\"x\"},\"y\":{\"field\":\"y\"}},\"id\":\"e95b22d1-bde5-44d6-a56b-215d5d01c156\",\"type\":\"Line\"},{\"attributes\":{\"data_source\":{\"id\":\"4986186c-ced1-40be-a93a-92c610bde0ee\",\"type\":\"ColumnDataSource\"},\"glyph\":{\"id\":\"8ffe92a3-e83d-4fe5-82f2-f5a8fae0be0c\",\"type\":\"Line\"},\"hover_glyph\":null,\"muted_glyph\":null,\"nonselection_glyph\":{\"id\":\"e95b22d1-bde5-44d6-a56b-215d5d01c156\",\"type\":\"Line\"},\"selection_glyph\":null,\"view\":{\"id\":\"698843a9-95e7-4ab2-89f4-1fb8afe9139b\",\"type\":\"CDSView\"}},\"id\":\"6f9e0aec-511a-4195-ac24-be99ef5e8b72\",\"type\":\"GlyphRenderer\"},{\"attributes\":{\"callback\":null,\"data\":{\"x\":{\"__ndarray__\":\"mRoZilFVRT9IfMRnHGtGP+hQhGBOukg/0XT4Nh8jSz8nzBZxg59NP923NfrpFFA/esN1vK1jUT81ezuhErlSPwL2KfQuGFQ/AYABEyiBVT/YDb136+tWP/o/gRsUUlg/06X+f/WfWT9fl305HGZbPytc8BAoVWE/no9wakD1aT8Cd/or5lNzPzj9+AqUTXs/xFyV9tSSgj+XgMq+TJCIP4N+ICXowo8/saEImrCskz8PinH0tKCUPyE020Uzd5I/nkfZ4wT0jj8gU+u7KmmIP/a20Wsw54I/PhJD6q5XfT+JRk7aKO92Pw6B2TwLFHI/AChOUDSfbD/iGJCYPIBmPyzq59vvQWE/9c8x8kLSWD9kn+WFoW5JP7o2OCQIjQg/xVLW+7KNM78UsrLKT6wiv4LvzqG0IDs/zVNt3SzqUz8OQIfWms9oP1IO5m5Q7YI/JsSebocjlT/EfYZlo9uiP0z2/Qts5Kw/TvkSVbgYtD+v2Jkh2Uy6P/mk0ezTVMA/iszYp07Nwj/fqmcYqb3FP4hFTldeD8k/mHlAE0C1zD8DWj67EVDQP89i7+YlVtI/K3Tzx5No1D8InJ3z8HHWP+XIsZLiZdg/zn+8FZE62j9Mowvi6t3bP01pmgNGT90/enGgj0t/3j9EVel65EffP7zXQQwRg98/uWpDan9s4D+OnQmwPCbgP4GDrF3JhN4/Cbw4lhwc3D9YGhlg9p3YPzJKwH1Xo9U/QFamTvZF0z91p+CVyVXRP19lyAyvf88/i2shbYgWzT+Puikn0uTLP1hxDeDrc9A/\",\"dtype\":\"float64\",\"shape\":[75]},\"y\":{\"__ndarray__\":\"GhExyth1ND/Sv8nbtpRIP2vylNV0PVE/aTum7souWD/At0SJ8fVgPw3Iuahxymc/MSNhhJWvcD/bTfBN02d3P2zb5nxnaoA/CD5h5MAGhz8NmeH1TyaQP+zrCsc9p5Y/LbKd76fGnz/bLW5ISEmmPww9YvTcQq8/JV2OstnstT8Er5Y7M8G+P0c+r3jqkcU/5h99k6ZBzj88bCIzFzjVP4enV8oyxN0//yH99nXg5D8qOpLLf0jtP5kqGJXUifQ/c9cS8kHP/D+/DpwzojQEQIEmwoanVwxA4lgXt9HgE0BSSZ2AJuIbQAMJih9jjiNA5q4l5INuK0AwTKYKRj0zQNv5fmq8/DpAaCJseHrtQkB/+zpwzoxKQM3MzMzMeFJAZmZmZmZqWEAAAAAAAFxeQM3MzMzMJmJAmpmZmZkfZUBmZmZmZhhoQDMzMzMzEWtAAAAAAAAKbkBmZmZmZoFwQM3MzMzM/XFAMzMzMzN6c0CamZmZmfZ0QAAAAAAAc3ZAZmZmZmbvd0DNzMzMzGt5QDMzMzMz6HpAmpmZmZlkfEAAAAAAAOF9QGZmZmZmXX9AZmZmZuZsgECamZmZGSuBQM3MzMxM6YFAAAAAAICngkAzMzMzs2WDQGZmZmbmI4RAmpmZmRnihEDNzMzMTKCFQAAAAACAXoZAMzMzM7Mch0BmZmZm5tqHQJqZmZkZmYhAzczMzExXiUAAAAAAgBWKQDMzMzOz04pAZmZmZuaRi0CamZmZGVCMQM3MzMxMDo1AAAAAAIDMjUAzMzMzs4qOQGZmZmbmSI9A\",\"dtype\":\"float64\",\"shape\":[75]}},\"selected\":{\"id\":\"93be7fb3-4528-451c-a8b5-c5ea4c38e901\",\"type\":\"Selection\"},\"selection_policy\":{\"id\":\"58c052aa-e131-472f-a505-ecbf0247a379\",\"type\":\"UnionRenderers\"}},\"id\":\"45437229-ae3a-438f-b2f3-9426d45133d8\",\"type\":\"ColumnDataSource\"},{\"attributes\":{},\"id\":\"a8f881bb-c78d-4d68-869c-6686c14f7408\",\"type\":\"WheelZoomTool\"},{\"attributes\":{\"line_alpha\":0.1,\"line_color\":\"#1f77b4\",\"line_width\":1.5,\"x\":{\"field\":\"x\"},\"y\":{\"field\":\"y\"}},\"id\":\"24e819da-97a3-4a15-9b77-92526e9727b4\",\"type\":\"Line\"},{\"attributes\":{},\"id\":\"a5489ad6-e480-4cd0-b247-6b4fcdec305b\",\"type\":\"ResetTool\"},{\"attributes\":{},\"id\":\"c7438774-61b1-4428-9432-b026684b0c90\",\"type\":\"Selection\"},{\"attributes\":{\"overlay\":{\"id\":\"ea0c7858-ac16-4c67-8903-7897d13795b7\",\"type\":\"BoxAnnotation\"}},\"id\":\"a41c1401-cfab-4d0c-a65b-dd1626a5ea5e\",\"type\":\"BoxZoomTool\"},{\"attributes\":{\"data_source\":{\"id\":\"45437229-ae3a-438f-b2f3-9426d45133d8\",\"type\":\"ColumnDataSource\"},\"glyph\":{\"id\":\"51a614b0-ca76-4a1b-8013-4f8f6b41038f\",\"type\":\"Line\"},\"hover_glyph\":null,\"muted_glyph\":null,\"nonselection_glyph\":{\"id\":\"24e819da-97a3-4a15-9b77-92526e9727b4\",\"type\":\"Line\"},\"selection_glyph\":null,\"view\":{\"id\":\"f745d4fe-6714-47ab-bee2-c4a3fe8a91a1\",\"type\":\"CDSView\"}},\"id\":\"959663ff-6bfe-43cf-a0bf-5d16e03d1883\",\"type\":\"GlyphRenderer\"},{\"attributes\":{},\"id\":\"bfb5feba-7a6b-4f0f-8538-babd46d4e1b7\",\"type\":\"HelpTool\"},{\"attributes\":{\"source\":{\"id\":\"45437229-ae3a-438f-b2f3-9426d45133d8\",\"type\":\"ColumnDataSource\"}},\"id\":\"f745d4fe-6714-47ab-bee2-c4a3fe8a91a1\",\"type\":\"CDSView\"},{\"attributes\":{\"fill_alpha\":{\"value\":0.7},\"fill_color\":{\"value\":\"#984ea3\"},\"line_alpha\":{\"value\":0.7},\"line_color\":{\"value\":\"#984ea3\"},\"x\":{\"field\":\"x\"},\"y\":{\"field\":\"y\"}},\"id\":\"f963bca4-4f76-4e1b-9b67-8e9ece9a945c\",\"type\":\"Square\"},{\"attributes\":{\"callback\":null,\"data\":{\"x\":{\"__ndarray__\":\"8ZOAf620Sz8NravujrdMP8/scxEOzk4/a9hPE2V9UD86yMA7aptRP1+NXgwowVI//J74Fr7uUz+E5DCbDyZVP1MSvmX8ZVY/Tc51ll+sVz9Y8tW7WvVYP9o11heeN1o/CHsO+TmbWz8HIB53n2NdP24CrAdGD2I/YPWdRXy2aT/bCoQ+MI5yP836jgeSunk/d1+gBF1GgT8fwQ9irqeGP14mbJMGKo0/goFrsK8Okj/N7LXrtyqTP2CZEUTfkpE/6S0hDg1Njj+Th31aPp+IP3zEtCmKh4M/uLfMVVaufj8glog+/uF3P36OLpSAcXI/N4cLZ484bD8aQ6bXvzJlPwlZ3P8T5F4/gzEHrH38VD/DM3HOtndDP4PNlnEUawu/uARTzRNpNr/hUP4XatQnv8qKxaiNvjY/wXOBKFZDUj9dZk7SNWtnPzBbVemKZII/3yJ+CuYelT/awEtqnhCjP55h4vbuFa0/aiYIKKo8tD+/ypWsn6a6P88roLOnZcA/vyTfbeFvwj9BHI38uAjFP/R6WBeEUcg/L8DYDskTzD/1yyN+k/zPP/0hDOJw6tE/GT7/LlTf0z9zHNjDFt/VP4LNeNxp5dc/ceJqzcrd2T9C08Tp2qPbP/cEuvLcLN0/yLSiIONo3j9iBGAn0kLfP98xvklcnd8/oRTZjY6W4D91YWdvZ3XgP3oX1NAXYN8/I0oatR4M3T+6Pz9/am3ZP0oaR0pwLtY/xkDaBEOU0z/ThcpzLHXRP20r9SLei88/TOXDODYgzT/Qll29AhjMP5ZDsHDil9A/\",\"dtype\":\"float64\",\"shape\":[75]},\"y\":{\"__ndarray__\":\"GhExyth1ND/Sv8nbtpRIP2vylNV0PVE/aTum7souWD/At0SJ8fVgPw3Iuahxymc/MSNhhJWvcD/bTfBN02d3P2zb5nxnaoA/CD5h5MAGhz8NmeH1TyaQP+zrCsc9p5Y/LbKd76fGnz/bLW5ISEmmPww9YvTcQq8/JV2OstnstT8Er5Y7M8G+P0c+r3jqkcU/5h99k6ZBzj88bCIzFzjVP4enV8oyxN0//yH99nXg5D8qOpLLf0jtP5kqGJXUifQ/c9cS8kHP/D+/DpwzojQEQIEmwoanVwxA4lgXt9HgE0BSSZ2AJuIbQAMJih9jjiNA5q4l5INuK0AwTKYKRj0zQNv5fmq8/DpAaCJseHrtQkB/+zpwzoxKQM3MzMzMeFJAZmZmZmZqWEAAAAAAAFxeQM3MzMzMJmJAmpmZmZkfZUBmZmZmZhhoQDMzMzMzEWtAAAAAAAAKbkBmZmZmZoFwQM3MzMzM/XFAMzMzMzN6c0CamZmZmfZ0QAAAAAAAc3ZAZmZmZmbvd0DNzMzMzGt5QDMzMzMz6HpAmpmZmZlkfEAAAAAAAOF9QGZmZmZmXX9AZmZmZuZsgECamZmZGSuBQM3MzMxM6YFAAAAAAICngkAzMzMzs2WDQGZmZmbmI4RAmpmZmRnihEDNzMzMTKCFQAAAAACAXoZAMzMzM7Mch0BmZmZm5tqHQJqZmZkZmYhAzczMzExXiUAAAAAAgBWKQDMzMzOz04pAZmZmZuaRi0CamZmZGVCMQM3MzMxMDo1AAAAAAIDMjUAzMzMzs4qOQGZmZmbmSI9A\",\"dtype\":\"float64\",\"shape\":[75]}},\"selected\":{\"id\":\"a7ee47fa-6461-4731-bc86-e31f3ed37c0c\",\"type\":\"Selection\"},\"selection_policy\":{\"id\":\"675e004d-d4e6-4997-a710-df1107f688f8\",\"type\":\"UnionRenderers\"}},\"id\":\"282e401c-7d31-4c81-9bb4-be62e5367fdf\",\"type\":\"ColumnDataSource\"},{\"attributes\":{},\"id\":\"b73410dd-d0a9-4dad-9804-7ac47f60417b\",\"type\":\"SaveTool\"},{\"attributes\":{\"fill_alpha\":{\"value\":0.1},\"fill_color\":{\"value\":\"#1f77b4\"},\"line_alpha\":{\"value\":0.1},\"line_color\":{\"value\":\"#1f77b4\"},\"x\":{\"field\":\"x\"},\"y\":{\"field\":\"y\"}},\"id\":\"f9ad0441-86d3-4acf-8cbc-d6327a28cf50\",\"type\":\"Square\"},{\"attributes\":{\"data_source\":{\"id\":\"8687f297-1997-49c6-92c5-d6d93ab64f57\",\"type\":\"ColumnDataSource\"},\"glyph\":{\"id\":\"f963bca4-4f76-4e1b-9b67-8e9ece9a945c\",\"type\":\"Square\"},\"hover_glyph\":null,\"muted_glyph\":null,\"nonselection_glyph\":{\"id\":\"f9ad0441-86d3-4acf-8cbc-d6327a28cf50\",\"type\":\"Square\"},\"selection_glyph\":null,\"view\":{\"id\":\"a30e7536-186a-4145-bd29-d47f332f3e9c\",\"type\":\"CDSView\"}},\"id\":\"3aef7385-4a74-4447-8082-d1b514a95308\",\"type\":\"GlyphRenderer\"},{\"attributes\":{\"line_alpha\":0.6,\"line_color\":\"#e41a1c\",\"line_dash\":[6],\"line_width\":5,\"x\":{\"field\":\"x\"},\"y\":{\"field\":\"y\"}},\"id\":\"8ffe92a3-e83d-4fe5-82f2-f5a8fae0be0c\",\"type\":\"Line\"},{\"attributes\":{\"source\":{\"id\":\"8687f297-1997-49c6-92c5-d6d93ab64f57\",\"type\":\"ColumnDataSource\"}},\"id\":\"a30e7536-186a-4145-bd29-d47f332f3e9c\",\"type\":\"CDSView\"},{\"attributes\":{\"children\":[{\"id\":\"a48b7878-9803-4b9a-97bc-e73619e47b3b\",\"type\":\"Row\"}]},\"id\":\"be9931f1-637a-4c39-bfac-e08307663f96\",\"type\":\"Column\"},{\"attributes\":{\"label\":{\"value\":\"CLIRAD `coolr_bands`\"},\"renderers\":[{\"id\":\"5d75ec78-b13a-4bcd-ab6d-acdf06b3202d\",\"type\":\"GlyphRenderer\"}]},\"id\":\"e407e7ca-96a3-4e48-bfb6-9e39d73d1547\",\"type\":\"LegendItem\"},{\"attributes\":{\"below\":[{\"id\":\"82fcbb48-0521-4980-80fc-2e546c011710\",\"type\":\"LinearAxis\"}],\"left\":[{\"id\":\"34f651bb-0161-49fd-8a03-570487d3096d\",\"type\":\"LinearAxis\"}],\"plot_height\":500,\"plot_width\":400,\"renderers\":[{\"id\":\"82fcbb48-0521-4980-80fc-2e546c011710\",\"type\":\"LinearAxis\"},{\"id\":\"e282d1de-4877-4b7e-abcb-411099502e4b\",\"type\":\"Grid\"},{\"id\":\"34f651bb-0161-49fd-8a03-570487d3096d\",\"type\":\"LinearAxis\"},{\"id\":\"5fec5d36-638c-4a3f-bc64-d9c096ffd251\",\"type\":\"Grid\"},{\"id\":\"ea0c7858-ac16-4c67-8903-7897d13795b7\",\"type\":\"BoxAnnotation\"},{\"id\":\"6f9e0aec-511a-4195-ac24-be99ef5e8b72\",\"type\":\"GlyphRenderer\"},{\"id\":\"f53d0ce3-a35c-49f9-875c-152f069d19cb\",\"type\":\"GlyphRenderer\"},{\"id\":\"e21aeb6f-3b48-4549-9ede-09d6873f0aef\",\"type\":\"GlyphRenderer\"},{\"id\":\"ae3a9fbf-4c9b-4b56-8f9e-1c36b96e88a7\",\"type\":\"GlyphRenderer\"},{\"id\":\"1fb025ac-e81d-4d81-95c7-0e79cabff053\",\"type\":\"GlyphRenderer\"}],\"title\":{\"id\":\"f4b176a5-1f27-4214-ae86-d065b1cc2a4c\",\"type\":\"Title\"},\"toolbar\":{\"id\":\"9eb113f2-0b16-4dcf-b1be-d64baf6cd47f\",\"type\":\"Toolbar\"},\"toolbar_location\":null,\"x_range\":{\"id\":\"3182c572-51a6-4d86-bb09-cac1c7658aa8\",\"type\":\"Range1d\"},\"x_scale\":{\"id\":\"ca941b27-2dfa-4acc-9124-5b7507eabb39\",\"type\":\"LinearScale\"},\"y_range\":{\"id\":\"cd77d65d-dcdb-4a4d-a6f5-adf107353718\",\"type\":\"Range1d\"},\"y_scale\":{\"id\":\"ada1c711-dc78-43c6-a8e8-f195c6571e4d\",\"type\":\"LinearScale\"}},\"id\":\"f44a0fae-a4b0-4ed2-9452-bde7985da3be\",\"subtype\":\"Figure\",\"type\":\"Plot\"},{\"attributes\":{},\"id\":\"5662d1a7-925b-47e7-927f-6bf4501d58ef\",\"type\":\"BasicTickFormatter\"},{\"attributes\":{\"label\":{\"value\":\"CRD\"},\"renderers\":[{\"id\":\"3b76bc55-f1b5-4ed9-b694-5b6468ea6737\",\"type\":\"GlyphRenderer\"},{\"id\":\"959663ff-6bfe-43cf-a0bf-5d16e03d1883\",\"type\":\"GlyphRenderer\"}]},\"id\":\"497b9644-9a1b-495e-92a6-f57ec369fc97\",\"type\":\"LegendItem\"},{\"attributes\":{},\"id\":\"affa5f25-35e4-46e5-8c45-7fdec3b9046b\",\"type\":\"Selection\"},{\"attributes\":{\"label\":{\"value\":\"WGT igg=10 wgt_flux=2\"},\"renderers\":[{\"id\":\"3aef7385-4a74-4447-8082-d1b514a95308\",\"type\":\"GlyphRenderer\"},{\"id\":\"968f9ee1-3312-4794-819f-1f6b8cff4372\",\"type\":\"GlyphRenderer\"}]},\"id\":\"4472d769-4965-4099-b1b1-39ada1d3aec9\",\"type\":\"LegendItem\"},{\"attributes\":{},\"id\":\"df66f361-46da-4367-a8ee-b40fa2232bd6\",\"type\":\"UnionRenderers\"},{\"attributes\":{},\"id\":\"62d71860-b85c-4ab9-9367-e494134310d9\",\"type\":\"BasicTickFormatter\"},{\"attributes\":{},\"id\":\"cb8475f0-5918-40d2-bbdf-2d6675b8b056\",\"type\":\"UnionRenderers\"},{\"attributes\":{},\"id\":\"5eb0001e-6f17-4b4f-83d7-1ff158521471\",\"type\":\"Selection\"},{\"attributes\":{},\"id\":\"9a574377-c58b-49e1-9f8c-4dd9c4f8b0a9\",\"type\":\"Selection\"},{\"attributes\":{},\"id\":\"239ecb92-603f-49f5-8fe0-b750e0d1fa25\",\"type\":\"UnionRenderers\"},{\"attributes\":{},\"id\":\"ada1c711-dc78-43c6-a8e8-f195c6571e4d\",\"type\":\"LinearScale\"},{\"attributes\":{},\"id\":\"fd184bb5-5e63-41a8-93b1-74a1c474bc87\",\"type\":\"Selection\"},{\"attributes\":{\"callback\":null,\"end\":0.5554389725133,\"start\":-0.0058723838433},\"id\":\"3182c572-51a6-4d86-bb09-cac1c7658aa8\",\"type\":\"Range1d\"},{\"attributes\":{},\"id\":\"ab214c02-7e80-442d-a694-a23ee9b08bbc\",\"type\":\"UnionRenderers\"},{\"attributes\":{},\"id\":\"7706b22a-06c6-4c3c-b4b7-aa44621ef002\",\"type\":\"Selection\"},{\"attributes\":{},\"id\":\"24c5aaa1-0e27-4b7f-8c9a-c15776e9d97e\",\"type\":\"UnionRenderers\"},{\"attributes\":{\"below\":[{\"id\":\"ec42e5e2-69e7-4dec-8c37-b7a53e4d3eb1\",\"type\":\"LinearAxis\"}],\"left\":[{\"id\":\"78dc624c-cfa9-4bd7-9dff-228f838894c6\",\"type\":\"LogAxis\"}],\"plot_height\":500,\"plot_width\":560,\"renderers\":[{\"id\":\"ec42e5e2-69e7-4dec-8c37-b7a53e4d3eb1\",\"type\":\"LinearAxis\"},{\"id\":\"39af11b6-38d3-40e3-84cf-9cf6295b406a\",\"type\":\"Grid\"},{\"id\":\"78dc624c-cfa9-4bd7-9dff-228f838894c6\",\"type\":\"LogAxis\"},{\"id\":\"f4606fe7-2055-4f40-ae13-85ac2b1a6315\",\"type\":\"Grid\"},{\"id\":\"f5bca620-205c-4a25-80b4-31bf3baf482f\",\"type\":\"BoxAnnotation\"},{\"id\":\"5d75ec78-b13a-4bcd-ab6d-acdf06b3202d\",\"type\":\"GlyphRenderer\"},{\"id\":\"3b76bc55-f1b5-4ed9-b694-5b6468ea6737\",\"type\":\"GlyphRenderer\"},{\"id\":\"959663ff-6bfe-43cf-a0bf-5d16e03d1883\",\"type\":\"GlyphRenderer\"},{\"id\":\"3aef7385-4a74-4447-8082-d1b514a95308\",\"type\":\"GlyphRenderer\"},{\"id\":\"968f9ee1-3312-4794-819f-1f6b8cff4372\",\"type\":\"GlyphRenderer\"},{\"id\":\"519cf5d5-eb14-4238-bb91-ca459906f328\",\"type\":\"Legend\"}],\"right\":[{\"id\":\"519cf5d5-eb14-4238-bb91-ca459906f328\",\"type\":\"Legend\"}],\"title\":{\"id\":\"70bbdbe7-c592-4a03-88ca-e35ad579b480\",\"type\":\"Title\"},\"toolbar\":{\"id\":\"37baaa35-3e11-4e59-805e-5c73c934f6c2\",\"type\":\"Toolbar\"},\"toolbar_location\":null,\"x_range\":{\"id\":\"015eed7b-352d-4a44-afd8-27808f98f3d7\",\"type\":\"Range1d\"},\"x_scale\":{\"id\":\"3140cfae-a651-42a3-8911-3aecba834ee6\",\"type\":\"LinearScale\"},\"y_range\":{\"id\":\"9951036e-5459-4775-a4aa-0cab2873c518\",\"type\":\"Range1d\"},\"y_scale\":{\"id\":\"54819fbb-dcb0-49f3-beae-9846ed776a3a\",\"type\":\"LogScale\"}},\"id\":\"75527777-31db-4eee-bb57-a7cd4409f899\",\"subtype\":\"Figure\",\"type\":\"Plot\"},{\"attributes\":{},\"id\":\"6b2807be-6447-4b3f-a2cd-ccb5e14cb2e1\",\"type\":\"UnionRenderers\"},{\"attributes\":{},\"id\":\"ca941b27-2dfa-4acc-9124-5b7507eabb39\",\"type\":\"LinearScale\"},{\"attributes\":{},\"id\":\"60965871-7de5-468a-ade1-43229d64dab3\",\"type\":\"UnionRenderers\"},{\"attributes\":{},\"id\":\"ddc492d1-afbf-44b8-94a2-eae7d5980088\",\"type\":\"BasicTickFormatter\"},{\"attributes\":{\"ticker\":null},\"id\":\"b07921b2-8568-41ca-b662-0a608d80c932\",\"type\":\"LogTickFormatter\"},{\"attributes\":{},\"id\":\"d5d9e0c7-6291-409f-b293-81ec9ed5b1ec\",\"type\":\"Selection\"},{\"attributes\":{},\"id\":\"3140cfae-a651-42a3-8911-3aecba834ee6\",\"type\":\"LinearScale\"},{\"attributes\":{\"dimension\":1,\"plot\":{\"id\":\"75527777-31db-4eee-bb57-a7cd4409f899\",\"subtype\":\"Figure\",\"type\":\"Plot\"},\"ticker\":{\"id\":\"c504abcc-9987-4b68-951e-8c1ce977e759\",\"type\":\"LogTicker\"}},\"id\":\"f4606fe7-2055-4f40-ae13-85ac2b1a6315\",\"type\":\"Grid\"},{\"attributes\":{},\"id\":\"6f8cfb6b-04b9-4b96-bd47-7ef7aad7eec9\",\"type\":\"SaveTool\"},{\"attributes\":{\"fill_alpha\":{\"value\":0.7},\"fill_color\":{\"value\":\"#4daf4a\"},\"line_alpha\":{\"value\":0.7},\"line_color\":{\"value\":\"#4daf4a\"},\"x\":{\"field\":\"x\"},\"y\":{\"field\":\"y\"}},\"id\":\"3ea85357-3ad3-4e46-b834-819894ec7186\",\"type\":\"Circle\"},{\"attributes\":{\"line_alpha\":0.6,\"line_color\":\"#e41a1c\",\"line_dash\":[6],\"line_width\":5,\"x\":{\"field\":\"x\"},\"y\":{\"field\":\"y\"}},\"id\":\"5ec46afa-03b7-4ba2-ab0b-cfd35e284e9a\",\"type\":\"Line\"},{\"attributes\":{\"active_drag\":\"auto\",\"active_inspect\":\"auto\",\"active_scroll\":\"auto\",\"active_tap\":\"auto\",\"tools\":[{\"id\":\"b667b518-1cf6-411c-b19b-03bef3f14382\",\"type\":\"PanTool\"},{\"id\":\"70553ed4-64d6-4a9a-b071-9dfd59cd508f\",\"type\":\"WheelZoomTool\"},{\"id\":\"c805cf67-0aff-4d0f-98ff-0b7c73b4a7ca\",\"type\":\"BoxZoomTool\"},{\"id\":\"6f8cfb6b-04b9-4b96-bd47-7ef7aad7eec9\",\"type\":\"SaveTool\"},{\"id\":\"5ac5dfeb-0566-4c84-8681-c4c9e1d4c3d2\",\"type\":\"ResetTool\"},{\"id\":\"ebadabc3-a8d2-4853-9f50-85a7b785e191\",\"type\":\"HelpTool\"}]},\"id\":\"37baaa35-3e11-4e59-805e-5c73c934f6c2\",\"type\":\"Toolbar\"},{\"attributes\":{},\"id\":\"b667b518-1cf6-411c-b19b-03bef3f14382\",\"type\":\"PanTool\"},{\"attributes\":{\"overlay\":{\"id\":\"f5bca620-205c-4a25-80b4-31bf3baf482f\",\"type\":\"BoxAnnotation\"}},\"id\":\"c805cf67-0aff-4d0f-98ff-0b7c73b4a7ca\",\"type\":\"BoxZoomTool\"},{\"attributes\":{\"plot\":{\"id\":\"75527777-31db-4eee-bb57-a7cd4409f899\",\"subtype\":\"Figure\",\"type\":\"Plot\"},\"ticker\":{\"id\":\"b21cb11a-a32d-4818-ab30-611d66840af4\",\"type\":\"BasicTicker\"}},\"id\":\"39af11b6-38d3-40e3-84cf-9cf6295b406a\",\"type\":\"Grid\"},{\"attributes\":{\"source\":{\"id\":\"519433c6-aee1-4912-a36f-229166470741\",\"type\":\"ColumnDataSource\"}},\"id\":\"e6cba217-4226-4163-8215-cc4a3871bba0\",\"type\":\"CDSView\"},{\"attributes\":{\"line_alpha\":0.6,\"line_color\":\"#984ea3\",\"line_width\":3,\"x\":{\"field\":\"x\"},\"y\":{\"field\":\"y\"}},\"id\":\"43a7c7b3-b698-48e1-80ed-f9e71967aedd\",\"type\":\"Line\"},{\"attributes\":{\"bottom_units\":\"screen\",\"fill_alpha\":{\"value\":0.5},\"fill_color\":{\"value\":\"lightgrey\"},\"left_units\":\"screen\",\"level\":\"overlay\",\"line_alpha\":{\"value\":1.0},\"line_color\":{\"value\":\"black\"},\"line_dash\":[4,4],\"line_width\":{\"value\":2},\"plot\":null,\"render_mode\":\"css\",\"right_units\":\"screen\",\"top_units\":\"screen\"},\"id\":\"f5bca620-205c-4a25-80b4-31bf3baf482f\",\"type\":\"BoxAnnotation\"},{\"attributes\":{\"axis_label\":\"pressure [mb]\",\"formatter\":{\"id\":\"b07921b2-8568-41ca-b662-0a608d80c932\",\"type\":\"LogTickFormatter\"},\"plot\":{\"id\":\"75527777-31db-4eee-bb57-a7cd4409f899\",\"subtype\":\"Figure\",\"type\":\"Plot\"},\"ticker\":{\"id\":\"c504abcc-9987-4b68-951e-8c1ce977e759\",\"type\":\"LogTicker\"}},\"id\":\"78dc624c-cfa9-4bd7-9dff-228f838894c6\",\"type\":\"LogAxis\"},{\"attributes\":{\"callback\":null,\"data\":{\"x\":{\"__ndarray__\":\"mRoZilFVRT9IfMRnHGtGP+hQhGBOukg/0XT4Nh8jSz8nzBZxg59NP923NfrpFFA/esN1vK1jUT81ezuhErlSPwL2KfQuGFQ/AYABEyiBVT/YDb136+tWP/o/gRsUUlg/06X+f/WfWT9fl305HGZbPytc8BAoVWE/no9wakD1aT8Cd/or5lNzPzj9+AqUTXs/xFyV9tSSgj+XgMq+TJCIP4N+ICXowo8/saEImrCskz8PinH0tKCUPyE020Uzd5I/nkfZ4wT0jj8gU+u7KmmIP/a20Wsw54I/PhJD6q5XfT+JRk7aKO92Pw6B2TwLFHI/AChOUDSfbD/iGJCYPIBmPyzq59vvQWE/9c8x8kLSWD9kn+WFoW5JP7o2OCQIjQg/xVLW+7KNM78UsrLKT6wiv4LvzqG0IDs/zVNt3SzqUz8OQIfWms9oP1IO5m5Q7YI/JsSebocjlT/EfYZlo9uiP0z2/Qts5Kw/TvkSVbgYtD+v2Jkh2Uy6P/mk0ezTVMA/iszYp07Nwj/fqmcYqb3FP4hFTldeD8k/mHlAE0C1zD8DWj67EVDQP89i7+YlVtI/K3Tzx5No1D8InJ3z8HHWP+XIsZLiZdg/zn+8FZE62j9Mowvi6t3bP01pmgNGT90/enGgj0t/3j9EVel65EffP7zXQQwRg98/uWpDan9s4D+OnQmwPCbgP4GDrF3JhN4/Cbw4lhwc3D9YGhlg9p3YPzJKwH1Xo9U/QFamTvZF0z91p+CVyVXRP19lyAyvf88/i2shbYgWzT+Puikn0uTLP1hxDeDrc9A/\",\"dtype\":\"float64\",\"shape\":[75]},\"y\":{\"__ndarray__\":\"GhExyth1ND/Sv8nbtpRIP2vylNV0PVE/aTum7souWD/At0SJ8fVgPw3Iuahxymc/MSNhhJWvcD/bTfBN02d3P2zb5nxnaoA/CD5h5MAGhz8NmeH1TyaQP+zrCsc9p5Y/LbKd76fGnz/bLW5ISEmmPww9YvTcQq8/JV2OstnstT8Er5Y7M8G+P0c+r3jqkcU/5h99k6ZBzj88bCIzFzjVP4enV8oyxN0//yH99nXg5D8qOpLLf0jtP5kqGJXUifQ/c9cS8kHP/D+/DpwzojQEQIEmwoanVwxA4lgXt9HgE0BSSZ2AJuIbQAMJih9jjiNA5q4l5INuK0AwTKYKRj0zQNv5fmq8/DpAaCJseHrtQkB/+zpwzoxKQM3MzMzMeFJAZmZmZmZqWEAAAAAAAFxeQM3MzMzMJmJAmpmZmZkfZUBmZmZmZhhoQDMzMzMzEWtAAAAAAAAKbkBmZmZmZoFwQM3MzMzM/XFAMzMzMzN6c0CamZmZmfZ0QAAAAAAAc3ZAZmZmZmbvd0DNzMzMzGt5QDMzMzMz6HpAmpmZmZlkfEAAAAAAAOF9QGZmZmZmXX9AZmZmZuZsgECamZmZGSuBQM3MzMxM6YFAAAAAAICngkAzMzMzs2WDQGZmZmbmI4RAmpmZmRnihEDNzMzMTKCFQAAAAACAXoZAMzMzM7Mch0BmZmZm5tqHQJqZmZkZmYhAzczMzExXiUAAAAAAgBWKQDMzMzOz04pAZmZmZuaRi0CamZmZGVCMQM3MzMxMDo1AAAAAAIDMjUAzMzMzs4qOQGZmZmbmSI9A\",\"dtype\":\"float64\",\"shape\":[75]}},\"selected\":{\"id\":\"5eb0001e-6f17-4b4f-83d7-1ff158521471\",\"type\":\"Selection\"},\"selection_policy\":{\"id\":\"df66f361-46da-4367-a8ee-b40fa2232bd6\",\"type\":\"UnionRenderers\"}},\"id\":\"134c9a19-5497-4a2b-9835-41eb8eb55be3\",\"type\":\"ColumnDataSource\"},{\"attributes\":{},\"id\":\"54819fbb-dcb0-49f3-beae-9846ed776a3a\",\"type\":\"LogScale\"},{\"attributes\":{\"line_alpha\":0.1,\"line_color\":\"#1f77b4\",\"line_width\":1.5,\"x\":{\"field\":\"x\"},\"y\":{\"field\":\"y\"}},\"id\":\"9eb7f190-e520-497f-b867-ced9eb287c03\",\"type\":\"Line\"},{\"attributes\":{\"callback\":null,\"end\":0.020349434293300002,\"start\":-0.0005744676233000001},\"id\":\"015eed7b-352d-4a44-afd8-27808f98f3d7\",\"type\":\"Range1d\"},{\"attributes\":{\"items\":[{\"id\":\"e407e7ca-96a3-4e48-bfb6-9e39d73d1547\",\"type\":\"LegendItem\"},{\"id\":\"497b9644-9a1b-495e-92a6-f57ec369fc97\",\"type\":\"LegendItem\"},{\"id\":\"4472d769-4965-4099-b1b1-39ada1d3aec9\",\"type\":\"LegendItem\"}],\"label_text_font_size\":{\"value\":\"8pt\"},\"location\":[10,-30],\"plot\":{\"id\":\"75527777-31db-4eee-bb57-a7cd4409f899\",\"subtype\":\"Figure\",\"type\":\"Plot\"}},\"id\":\"519cf5d5-eb14-4238-bb91-ca459906f328\",\"type\":\"Legend\"},{\"attributes\":{\"data_source\":{\"id\":\"282e401c-7d31-4c81-9bb4-be62e5367fdf\",\"type\":\"ColumnDataSource\"},\"glyph\":{\"id\":\"ea1efba5-ae44-4b93-aac4-65f262528053\",\"type\":\"Line\"},\"hover_glyph\":null,\"muted_glyph\":null,\"nonselection_glyph\":{\"id\":\"1bd1fe93-821e-4c74-8447-2915de9d5b8f\",\"type\":\"Line\"},\"selection_glyph\":null,\"view\":{\"id\":\"242950fc-0e1e-4ea8-9056-0955aae39241\",\"type\":\"CDSView\"}},\"id\":\"968f9ee1-3312-4794-819f-1f6b8cff4372\",\"type\":\"GlyphRenderer\"},{\"attributes\":{\"fill_alpha\":{\"value\":0.7},\"fill_color\":{\"value\":\"#984ea3\"},\"line_alpha\":{\"value\":0.7},\"line_color\":{\"value\":\"#984ea3\"},\"x\":{\"field\":\"x\"},\"y\":{\"field\":\"y\"}},\"id\":\"d509e2c1-4e8e-4092-a9f3-95a731af42c6\",\"type\":\"Square\"},{\"attributes\":{\"line_alpha\":0.1,\"line_color\":\"#1f77b4\",\"line_width\":3,\"x\":{\"field\":\"x\"},\"y\":{\"field\":\"y\"}},\"id\":\"1bd1fe93-821e-4c74-8447-2915de9d5b8f\",\"type\":\"Line\"},{\"attributes\":{},\"id\":\"ebadabc3-a8d2-4853-9f50-85a7b785e191\",\"type\":\"HelpTool\"},{\"attributes\":{\"source\":{\"id\":\"282e401c-7d31-4c81-9bb4-be62e5367fdf\",\"type\":\"ColumnDataSource\"}},\"id\":\"242950fc-0e1e-4ea8-9056-0955aae39241\",\"type\":\"CDSView\"},{\"attributes\":{\"callback\":null,\"end\":0.01,\"start\":1020},\"id\":\"cd77d65d-dcdb-4a4d-a6f5-adf107353718\",\"type\":\"Range1d\"},{\"attributes\":{\"line_color\":\"#4daf4a\",\"line_width\":1.5,\"x\":{\"field\":\"x\"},\"y\":{\"field\":\"y\"}},\"id\":\"666c4491-80b9-4d50-9691-f637c602a87c\",\"type\":\"Line\"},{\"attributes\":{\"data_source\":{\"id\":\"e30a5caf-ce06-4feb-939d-1937e8caeced\",\"type\":\"ColumnDataSource\"},\"glyph\":{\"id\":\"3ea85357-3ad3-4e46-b834-819894ec7186\",\"type\":\"Circle\"},\"hover_glyph\":null,\"muted_glyph\":null,\"nonselection_glyph\":{\"id\":\"760160cf-6b0f-4ce4-81c4-1ad8b9efd265\",\"type\":\"Circle\"},\"selection_glyph\":null,\"view\":{\"id\":\"851449ae-c390-4390-ab49-b0d888d055e9\",\"type\":\"CDSView\"}},\"id\":\"f53d0ce3-a35c-49f9-875c-152f069d19cb\",\"type\":\"GlyphRenderer\"},{\"attributes\":{},\"id\":\"70553ed4-64d6-4a9a-b071-9dfd59cd508f\",\"type\":\"WheelZoomTool\"},{\"attributes\":{\"data_source\":{\"id\":\"134c9a19-5497-4a2b-9835-41eb8eb55be3\",\"type\":\"ColumnDataSource\"},\"glyph\":{\"id\":\"666c4491-80b9-4d50-9691-f637c602a87c\",\"type\":\"Line\"},\"hover_glyph\":null,\"muted_glyph\":null,\"nonselection_glyph\":{\"id\":\"9eb7f190-e520-497f-b867-ced9eb287c03\",\"type\":\"Line\"},\"selection_glyph\":null,\"view\":{\"id\":\"0e7353b4-8b3d-49a9-9a46-a2147cebe2d1\",\"type\":\"CDSView\"}},\"id\":\"e21aeb6f-3b48-4549-9ede-09d6873f0aef\",\"type\":\"GlyphRenderer\"},{\"attributes\":{},\"id\":\"5ac5dfeb-0566-4c84-8681-c4c9e1d4c3d2\",\"type\":\"ResetTool\"},{\"attributes\":{\"callback\":null,\"data\":{\"x\":{\"__ndarray__\":\"8ZOAf620Sz8NravujrdMP8/scxEOzk4/a9hPE2V9UD86yMA7aptRP1+NXgwowVI//J74Fr7uUz+E5DCbDyZVP1MSvmX8ZVY/Tc51ll+sVz9Y8tW7WvVYP9o11heeN1o/CHsO+TmbWz8HIB53n2NdP24CrAdGD2I/YPWdRXy2aT/bCoQ+MI5yP836jgeSunk/d1+gBF1GgT8fwQ9irqeGP14mbJMGKo0/goFrsK8Okj/N7LXrtyqTP2CZEUTfkpE/6S0hDg1Njj+Th31aPp+IP3zEtCmKh4M/uLfMVVaufj8glog+/uF3P36OLpSAcXI/N4cLZ484bD8aQ6bXvzJlPwlZ3P8T5F4/gzEHrH38VD/DM3HOtndDP4PNlnEUawu/uARTzRNpNr/hUP4XatQnv8qKxaiNvjY/wXOBKFZDUj9dZk7SNWtnPzBbVemKZII/3yJ+CuYelT/awEtqnhCjP55h4vbuFa0/aiYIKKo8tD+/ypWsn6a6P88roLOnZcA/vyTfbeFvwj9BHI38uAjFP/R6WBeEUcg/L8DYDskTzD/1yyN+k/zPP/0hDOJw6tE/GT7/LlTf0z9zHNjDFt/VP4LNeNxp5dc/ceJqzcrd2T9C08Tp2qPbP/cEuvLcLN0/yLSiIONo3j9iBGAn0kLfP98xvklcnd8/oRTZjY6W4D91YWdvZ3XgP3oX1NAXYN8/I0oatR4M3T+6Pz9/am3ZP0oaR0pwLtY/xkDaBEOU0z/ThcpzLHXRP20r9SLei88/TOXDODYgzT/Qll29AhjMP5ZDsHDil9A/\",\"dtype\":\"float64\",\"shape\":[75]},\"y\":{\"__ndarray__\":\"GhExyth1ND/Sv8nbtpRIP2vylNV0PVE/aTum7souWD/At0SJ8fVgPw3Iuahxymc/MSNhhJWvcD/bTfBN02d3P2zb5nxnaoA/CD5h5MAGhz8NmeH1TyaQP+zrCsc9p5Y/LbKd76fGnz/bLW5ISEmmPww9YvTcQq8/JV2OstnstT8Er5Y7M8G+P0c+r3jqkcU/5h99k6ZBzj88bCIzFzjVP4enV8oyxN0//yH99nXg5D8qOpLLf0jtP5kqGJXUifQ/c9cS8kHP/D+/DpwzojQEQIEmwoanVwxA4lgXt9HgE0BSSZ2AJuIbQAMJih9jjiNA5q4l5INuK0AwTKYKRj0zQNv5fmq8/DpAaCJseHrtQkB/+zpwzoxKQM3MzMzMeFJAZmZmZmZqWEAAAAAAAFxeQM3MzMzMJmJAmpmZmZkfZUBmZmZmZhhoQDMzMzMzEWtAAAAAAAAKbkBmZmZmZoFwQM3MzMzM/XFAMzMzMzN6c0CamZmZmfZ0QAAAAAAAc3ZAZmZmZmbvd0DNzMzMzGt5QDMzMzMz6HpAmpmZmZlkfEAAAAAAAOF9QGZmZmZmXX9AZmZmZuZsgECamZmZGSuBQM3MzMxM6YFAAAAAAICngkAzMzMzs2WDQGZmZmbmI4RAmpmZmRnihEDNzMzMTKCFQAAAAACAXoZAMzMzM7Mch0BmZmZm5tqHQJqZmZkZmYhAzczMzExXiUAAAAAAgBWKQDMzMzOz04pAZmZmZuaRi0CamZmZGVCMQM3MzMxMDo1AAAAAAIDMjUAzMzMzs4qOQGZmZmbmSI9A\",\"dtype\":\"float64\",\"shape\":[75]}},\"selected\":{\"id\":\"fd184bb5-5e63-41a8-93b1-74a1c474bc87\",\"type\":\"Selection\"},\"selection_policy\":{\"id\":\"ab214c02-7e80-442d-a694-a23ee9b08bbc\",\"type\":\"UnionRenderers\"}},\"id\":\"519433c6-aee1-4912-a36f-229166470741\",\"type\":\"ColumnDataSource\"},{\"attributes\":{\"fill_alpha\":{\"value\":0.1},\"fill_color\":{\"value\":\"#1f77b4\"},\"line_alpha\":{\"value\":0.1},\"line_color\":{\"value\":\"#1f77b4\"},\"x\":{\"field\":\"x\"},\"y\":{\"field\":\"y\"}},\"id\":\"760160cf-6b0f-4ce4-81c4-1ad8b9efd265\",\"type\":\"Circle\"},{\"attributes\":{},\"id\":\"b21cb11a-a32d-4818-ab30-611d66840af4\",\"type\":\"BasicTicker\"},{\"attributes\":{\"num_minor_ticks\":10},\"id\":\"c504abcc-9987-4b68-951e-8c1ce977e759\",\"type\":\"LogTicker\"},{\"attributes\":{\"axis_label\":\"cooling rate [K/day]\",\"formatter\":{\"id\":\"ddc492d1-afbf-44b8-94a2-eae7d5980088\",\"type\":\"BasicTickFormatter\"},\"plot\":{\"id\":\"75527777-31db-4eee-bb57-a7cd4409f899\",\"subtype\":\"Figure\",\"type\":\"Plot\"},\"ticker\":{\"id\":\"b21cb11a-a32d-4818-ab30-611d66840af4\",\"type\":\"BasicTicker\"}},\"id\":\"ec42e5e2-69e7-4dec-8c37-b7a53e4d3eb1\",\"type\":\"LinearAxis\"},{\"attributes\":{\"fill_alpha\":{\"value\":0.1},\"fill_color\":{\"value\":\"#1f77b4\"},\"line_alpha\":{\"value\":0.1},\"line_color\":{\"value\":\"#1f77b4\"},\"x\":{\"field\":\"x\"},\"y\":{\"field\":\"y\"}},\"id\":\"585a0819-26ca-4d02-988c-5624f215f643\",\"type\":\"Square\"},{\"attributes\":{\"data_source\":{\"id\":\"9ce1dc7c-0260-4491-b74d-14aab79c7df7\",\"type\":\"ColumnDataSource\"},\"glyph\":{\"id\":\"5ec46afa-03b7-4ba2-ab0b-cfd35e284e9a\",\"type\":\"Line\"},\"hover_glyph\":null,\"muted_glyph\":null,\"nonselection_glyph\":{\"id\":\"a4b8f51c-18f9-4d49-8da6-319c4e4c8b97\",\"type\":\"Line\"},\"selection_glyph\":null,\"view\":{\"id\":\"6c967fa5-1f5d-40ea-9c94-34eba7c2ad68\",\"type\":\"CDSView\"}},\"id\":\"5d75ec78-b13a-4bcd-ab6d-acdf06b3202d\",\"type\":\"GlyphRenderer\"},{\"attributes\":{\"source\":{\"id\":\"134c9a19-5497-4a2b-9835-41eb8eb55be3\",\"type\":\"ColumnDataSource\"}},\"id\":\"0e7353b4-8b3d-49a9-9a46-a2147cebe2d1\",\"type\":\"CDSView\"},{\"attributes\":{\"data_source\":{\"id\":\"e1c4ea77-d76e-43c5-a4ae-c5129d27ac7e\",\"type\":\"ColumnDataSource\"},\"glyph\":{\"id\":\"d509e2c1-4e8e-4092-a9f3-95a731af42c6\",\"type\":\"Square\"},\"hover_glyph\":null,\"muted_glyph\":null,\"nonselection_glyph\":{\"id\":\"585a0819-26ca-4d02-988c-5624f215f643\",\"type\":\"Square\"},\"selection_glyph\":null,\"view\":{\"id\":\"65ade1cb-6fd4-4f3d-80e3-3a5a7b17f521\",\"type\":\"CDSView\"}},\"id\":\"ae3a9fbf-4c9b-4b56-8f9e-1c36b96e88a7\",\"type\":\"GlyphRenderer\"},{\"attributes\":{\"line_alpha\":0.1,\"line_color\":\"#1f77b4\",\"line_width\":3,\"x\":{\"field\":\"x\"},\"y\":{\"field\":\"y\"}},\"id\":\"ccea24d6-e1e8-4675-a24f-d60b821986b7\",\"type\":\"Line\"},{\"attributes\":{\"data_source\":{\"id\":\"519433c6-aee1-4912-a36f-229166470741\",\"type\":\"ColumnDataSource\"},\"glyph\":{\"id\":\"43a7c7b3-b698-48e1-80ed-f9e71967aedd\",\"type\":\"Line\"},\"hover_glyph\":null,\"muted_glyph\":null,\"nonselection_glyph\":{\"id\":\"ccea24d6-e1e8-4675-a24f-d60b821986b7\",\"type\":\"Line\"},\"selection_glyph\":null,\"view\":{\"id\":\"e6cba217-4226-4163-8215-cc4a3871bba0\",\"type\":\"CDSView\"}},\"id\":\"1fb025ac-e81d-4d81-95c7-0e79cabff053\",\"type\":\"GlyphRenderer\"},{\"attributes\":{\"line_alpha\":0.6,\"line_color\":\"#984ea3\",\"line_width\":3,\"x\":{\"field\":\"x\"},\"y\":{\"field\":\"y\"}},\"id\":\"ea1efba5-ae44-4b93-aac4-65f262528053\",\"type\":\"Line\"},{\"attributes\":{\"line_alpha\":0.1,\"line_color\":\"#1f77b4\",\"line_dash\":[6],\"line_width\":5,\"x\":{\"field\":\"x\"},\"y\":{\"field\":\"y\"}},\"id\":\"a4b8f51c-18f9-4d49-8da6-319c4e4c8b97\",\"type\":\"Line\"},{\"attributes\":{\"source\":{\"id\":\"e1c4ea77-d76e-43c5-a4ae-c5129d27ac7e\",\"type\":\"ColumnDataSource\"}},\"id\":\"65ade1cb-6fd4-4f3d-80e3-3a5a7b17f521\",\"type\":\"CDSView\"},{\"attributes\":{\"plot\":null,\"text\":\"Log pressure scale\"},\"id\":\"70bbdbe7-c592-4a03-88ca-e35ad579b480\",\"type\":\"Title\"},{\"attributes\":{\"source\":{\"id\":\"e30a5caf-ce06-4feb-939d-1937e8caeced\",\"type\":\"ColumnDataSource\"}},\"id\":\"851449ae-c390-4390-ab49-b0d888d055e9\",\"type\":\"CDSView\"},{\"attributes\":{\"callback\":null,\"data\":{\"x\":{\"__ndarray__\":\"Y0eHKQicUD9JZRaa1QZRP5NDU1THM1I/aJR29/xIUz8zbWeuv2RUP2efNg9Ih1U/7cS9HvmvVj+zS3LFZ+BXP5mLtcS1Flk/9ejtVu1WWj/hGG2JKKNbP1kIOO5X9Fw/7PFQiWNMXj8P2jHJVgRgP6oQXh1xWGM/Nt2FwnQVaz+ThEoBxSZzP/GPoPN4LHo/Z1XQ4LJrgT8aolvGhbeGP2J7i1m/MY0/3LZSfDomkj/h24QTgmmTP51Av4y1AZI/NzaMmXxnjz/gdG+eGsqJP4PqTMW5koQ/1J97WrcdgD9SGp+9Qrx4P8XCINLulXI/VRJqIeBLaz8TAbmK5n1jP+WgFEX5llo/BLcwulx+UD8TCFVFyfw4P8XXuE5q7CO//0PW+1k0OL/8H2XbzS8uvzfvS7vp9ig/7BmeVcbvST/PXcq1s7NhPwVwfRidTH0/9oH4gSq8kT/gCakaPpugPxuV+Rmnuak/YrtnnAcpsj9a1/bj56C4P/KU1XQ90b4/Uvmuc5k7wT+H53zjMaTDPycNXol6IMc/YQSmNuVIyz8KNzLyJn3PPwMmT92Fu9E/Q5wceJTO0z/IkIxqS/zVP5NRZRh3Q9g//dCz9sp+2j8dPRtFGHfcP28zkantLN4/P+Hs1jKZ3z8Tb3QAilLgP8yEuqNan+A/JnbpNhOZ4T+ycrvZF5fhP7ad+GLWyOA/ShyBkfrf3j86HyJebJTaP0qS72uHs9Y/+jwt3EWa0z8NS4d3Ti3RP8liD6tHs84/LE2E7EBGzD8rQtqUZWfLP19mM+JdSdA/\",\"dtype\":\"float64\",\"shape\":[75]},\"y\":{\"__ndarray__\":\"S/O/Q+51ND/Sv8nbtpRIP2vylNV0PVE/aTum7souWD/At0SJ8fVgPw3Iuahxymc/MSNhhJWvcD/bTfBN02d3P2zb5nxnaoA/CD5h5MAGhz8NmeH1TyaQP+zrCsc9p5Y/LbKd76fGnz/bLW5ISEmmPww9YvTcQq8/JV2OstnstT8Er5Y7M8G+P0c+r3jqkcU/5h99k6ZBzj88bCIzFzjVP4enV8oyxN0//yH99nXg5D8qOpLLf0jtP5kqGJXUifQ/c9cS8kHP/D+/DpwzojQEQIEmwoanVwxA4lgXt9HgE0BSSZ2AJuIbQAMJih9jjiNA5q4l5INuK0AwTKYKRj0zQNv5fmq8/DpAaCJseHrtQkB/+zpwzoxKQM3MzMzMeFJAZmZmZmZqWEAAAAAAAFxeQM3MzMzMJmJAmpmZmZkfZUBmZmZmZhhoQDMzMzMzEWtAAAAAAAAKbkBmZmZmZoFwQM3MzMzM/XFAMzMzMzN6c0CamZmZmfZ0QAAAAAAAc3ZAZmZmZmbvd0DNzMzMzGt5QDMzMzMz6HpAmpmZmZlkfEAAAAAAAOF9QGZmZmZmXX9AZmZmZuZsgECamZmZGSuBQM3MzMxM6YFAAAAAAICngkAzMzMzs2WDQGZmZmbmI4RAmpmZmRnihEDNzMzMTKCFQAAAAACAXoZAMzMzM7Mch0BmZmZm5tqHQJqZmZkZmYhAzczMzExXiUAAAAAAgBWKQDMzMzOz04pAZmZmZuaRi0CamZmZGVCMQM3MzMxMDo1AAAAAAIDMjUAzMzMzs4qOQGZmZmbmSI9A\",\"dtype\":\"float64\",\"shape\":[75]}},\"selected\":{\"id\":\"9a574377-c58b-49e1-9f8c-4dd9c4f8b0a9\",\"type\":\"Selection\"},\"selection_policy\":{\"id\":\"60965871-7de5-468a-ade1-43229d64dab3\",\"type\":\"UnionRenderers\"}},\"id\":\"9ce1dc7c-0260-4491-b74d-14aab79c7df7\",\"type\":\"ColumnDataSource\"},{\"attributes\":{\"callback\":null,\"data\":{\"x\":{\"__ndarray__\":\"8ZOAf620Sz8NravujrdMP8/scxEOzk4/a9hPE2V9UD86yMA7aptRP1+NXgwowVI//J74Fr7uUz+E5DCbDyZVP1MSvmX8ZVY/Tc51ll+sVz9Y8tW7WvVYP9o11heeN1o/CHsO+TmbWz8HIB53n2NdP24CrAdGD2I/YPWdRXy2aT/bCoQ+MI5yP836jgeSunk/d1+gBF1GgT8fwQ9irqeGP14mbJMGKo0/goFrsK8Okj/N7LXrtyqTP2CZEUTfkpE/6S0hDg1Njj+Th31aPp+IP3zEtCmKh4M/uLfMVVaufj8glog+/uF3P36OLpSAcXI/N4cLZ484bD8aQ6bXvzJlPwlZ3P8T5F4/gzEHrH38VD/DM3HOtndDP4PNlnEUawu/uARTzRNpNr/hUP4XatQnv8qKxaiNvjY/wXOBKFZDUj9dZk7SNWtnPzBbVemKZII/3yJ+CuYelT/awEtqnhCjP55h4vbuFa0/aiYIKKo8tD+/ypWsn6a6P88roLOnZcA/vyTfbeFvwj9BHI38uAjFP/R6WBeEUcg/L8DYDskTzD/1yyN+k/zPP/0hDOJw6tE/GT7/LlTf0z9zHNjDFt/VP4LNeNxp5dc/ceJqzcrd2T9C08Tp2qPbP/cEuvLcLN0/yLSiIONo3j9iBGAn0kLfP98xvklcnd8/oRTZjY6W4D91YWdvZ3XgP3oX1NAXYN8/I0oatR4M3T+6Pz9/am3ZP0oaR0pwLtY/xkDaBEOU0z/ThcpzLHXRP20r9SLei88/TOXDODYgzT/Qll29AhjMP5ZDsHDil9A/\",\"dtype\":\"float64\",\"shape\":[75]},\"y\":{\"__ndarray__\":\"GhExyth1ND/Sv8nbtpRIP2vylNV0PVE/aTum7souWD/At0SJ8fVgPw3Iuahxymc/MSNhhJWvcD/bTfBN02d3P2zb5nxnaoA/CD5h5MAGhz8NmeH1TyaQP+zrCsc9p5Y/LbKd76fGnz/bLW5ISEmmPww9YvTcQq8/JV2OstnstT8Er5Y7M8G+P0c+r3jqkcU/5h99k6ZBzj88bCIzFzjVP4enV8oyxN0//yH99nXg5D8qOpLLf0jtP5kqGJXUifQ/c9cS8kHP/D+/DpwzojQEQIEmwoanVwxA4lgXt9HgE0BSSZ2AJuIbQAMJih9jjiNA5q4l5INuK0AwTKYKRj0zQNv5fmq8/DpAaCJseHrtQkB/+zpwzoxKQM3MzMzMeFJAZmZmZmZqWEAAAAAAAFxeQM3MzMzMJmJAmpmZmZkfZUBmZmZmZhhoQDMzMzMzEWtAAAAAAAAKbkBmZmZmZoFwQM3MzMzM/XFAMzMzMzN6c0CamZmZmfZ0QAAAAAAAc3ZAZmZmZmbvd0DNzMzMzGt5QDMzMzMz6HpAmpmZmZlkfEAAAAAAAOF9QGZmZmZmXX9AZmZmZuZsgECamZmZGSuBQM3MzMxM6YFAAAAAAICngkAzMzMzs2WDQGZmZmbmI4RAmpmZmRnihEDNzMzMTKCFQAAAAACAXoZAMzMzM7Mch0BmZmZm5tqHQJqZmZkZmYhAzczMzExXiUAAAAAAgBWKQDMzMzOz04pAZmZmZuaRi0CamZmZGVCMQM3MzMxMDo1AAAAAAIDMjUAzMzMzs4qOQGZmZmbmSI9A\",\"dtype\":\"float64\",\"shape\":[75]}},\"selected\":{\"id\":\"7706b22a-06c6-4c3c-b4b7-aa44621ef002\",\"type\":\"Selection\"},\"selection_policy\":{\"id\":\"24c5aaa1-0e27-4b7f-8c9a-c15776e9d97e\",\"type\":\"UnionRenderers\"}},\"id\":\"e1c4ea77-d76e-43c5-a4ae-c5129d27ac7e\",\"type\":\"ColumnDataSource\"}],\"root_ids\":[\"83ecdfaa-f03d-4595-ac13-286dd760a032\"]},\"title\":\"Bokeh Application\",\"version\":\"0.12.16\"}};\n",
       "  var render_items = [{\"docid\":\"808153ab-9470-42e0-8688-5966ddb76a23\",\"elementid\":\"37e3216d-eba0-4fcb-941a-36897d99bddb\",\"modelid\":\"83ecdfaa-f03d-4595-ac13-286dd760a032\"}];\n",
       "  root.Bokeh.embed.embed_items_notebook(docs_json, render_items);\n",
       "\n",
       "  }\n",
       "  if (root.Bokeh !== undefined) {\n",
       "    embed_document(root);\n",
       "  } else {\n",
       "    var attempts = 0;\n",
       "    var timer = setInterval(function(root) {\n",
       "      if (root.Bokeh !== undefined) {\n",
       "        embed_document(root);\n",
       "        clearInterval(timer);\n",
       "      }\n",
       "      attempts++;\n",
       "      if (attempts > 100) {\n",
       "        console.log(\"Bokeh: ERROR: Unable to run BokehJS code because BokehJS library is missing\")\n",
       "        clearInterval(timer);\n",
       "      }\n",
       "    }, 10, root)\n",
       "  }\n",
       "})(window);"
      ],
      "application/vnd.bokehjs_exec.v0+json": ""
     },
     "metadata": {
      "application/vnd.bokehjs_exec.v0+json": {
       "id": "83ecdfaa-f03d-4595-ac13-286dd760a032"
      }
     },
     "output_type": "display_data"
    },
    {
     "name": "stdout",
     "output_type": "stream",
     "text": [
      "FIGURE. Cooling rate profiles.\n"
     ]
    },
    {
     "data": {
      "text/html": [
       "<a id=\"Flux_Comparison\"></a>"
      ],
      "text/plain": [
       "<IPython.core.display.HTML object>"
      ]
     },
     "metadata": {},
     "output_type": "display_data"
    },
    {
     "data": {
      "text/markdown": [
       "# Flux Comparison"
      ],
      "text/plain": [
       "<IPython.core.display.Markdown object>"
      ]
     },
     "metadata": {},
     "output_type": "display_data"
    },
    {
     "data": {
      "text/html": [
       "<div>\n",
       "<style scoped>\n",
       "    .dataframe tbody tr th:only-of-type {\n",
       "        vertical-align: middle;\n",
       "    }\n",
       "\n",
       "    .dataframe tbody tr th {\n",
       "        vertical-align: top;\n",
       "    }\n",
       "\n",
       "    .dataframe thead th {\n",
       "        text-align: right;\n",
       "    }\n",
       "</style>\n",
       "<table border=\"1\" class=\"dataframe\">\n",
       "  <thead>\n",
       "    <tr style=\"text-align: right;\">\n",
       "      <th></th>\n",
       "      <th></th>\n",
       "      <th>flug</th>\n",
       "      <th>fldg</th>\n",
       "      <th>fnetg</th>\n",
       "    </tr>\n",
       "    <tr>\n",
       "      <th>pressure</th>\n",
       "      <th>level</th>\n",
       "      <th></th>\n",
       "      <th></th>\n",
       "      <th></th>\n",
       "    </tr>\n",
       "  </thead>\n",
       "  <tbody>\n",
       "    <tr>\n",
       "      <th>0.0000</th>\n",
       "      <th>1</th>\n",
       "      <td>-30.008535</td>\n",
       "      <td>0.000000</td>\n",
       "      <td>-30.008535</td>\n",
       "    </tr>\n",
       "    <tr>\n",
       "      <th>1.0685</th>\n",
       "      <th>24</th>\n",
       "      <td>-30.008217</td>\n",
       "      <td>0.001534</td>\n",
       "      <td>-30.006684</td>\n",
       "    </tr>\n",
       "    <tr>\n",
       "      <th>1013.0000</th>\n",
       "      <th>76</th>\n",
       "      <td>-38.491734</td>\n",
       "      <td>35.831583</td>\n",
       "      <td>-2.660152</td>\n",
       "    </tr>\n",
       "  </tbody>\n",
       "</table>\n",
       "</div>"
      ],
      "text/plain": [
       "                      flug       fldg      fnetg\n",
       "pressure  level                                 \n",
       "0.0000    1     -30.008535   0.000000 -30.008535\n",
       "1.0685    24    -30.008217   0.001534 -30.006684\n",
       "1013.0000 76    -38.491734  35.831583  -2.660152"
      ]
     },
     "metadata": {},
     "output_type": "display_data"
    },
    {
     "name": "stdout",
     "output_type": "stream",
     "text": [
      "Table. Fluxes. CRD\n"
     ]
    },
    {
     "data": {
      "text/html": [
       "<div>\n",
       "<style scoped>\n",
       "    .dataframe tbody tr th:only-of-type {\n",
       "        vertical-align: middle;\n",
       "    }\n",
       "\n",
       "    .dataframe tbody tr th {\n",
       "        vertical-align: top;\n",
       "    }\n",
       "\n",
       "    .dataframe thead th {\n",
       "        text-align: right;\n",
       "    }\n",
       "</style>\n",
       "<table border=\"1\" class=\"dataframe\">\n",
       "  <thead>\n",
       "    <tr style=\"text-align: right;\">\n",
       "      <th></th>\n",
       "      <th></th>\n",
       "      <th>flug</th>\n",
       "      <th>fldg</th>\n",
       "      <th>fnetg</th>\n",
       "    </tr>\n",
       "    <tr>\n",
       "      <th>pressure</th>\n",
       "      <th>level</th>\n",
       "      <th></th>\n",
       "      <th></th>\n",
       "      <th></th>\n",
       "    </tr>\n",
       "  </thead>\n",
       "  <tbody>\n",
       "    <tr>\n",
       "      <th>0.0000</th>\n",
       "      <th>1</th>\n",
       "      <td>-29.997328</td>\n",
       "      <td>0.000000</td>\n",
       "      <td>-29.997328</td>\n",
       "    </tr>\n",
       "    <tr>\n",
       "      <th>1.0685</th>\n",
       "      <th>24</th>\n",
       "      <td>-29.996963</td>\n",
       "      <td>0.001349</td>\n",
       "      <td>-29.995614</td>\n",
       "    </tr>\n",
       "    <tr>\n",
       "      <th>1013.0000</th>\n",
       "      <th>76</th>\n",
       "      <td>-38.491734</td>\n",
       "      <td>35.870686</td>\n",
       "      <td>-2.621049</td>\n",
       "    </tr>\n",
       "  </tbody>\n",
       "</table>\n",
       "</div>"
      ],
      "text/plain": [
       "                      flug       fldg      fnetg\n",
       "pressure  level                                 \n",
       "0.0000    1     -29.997328   0.000000 -29.997328\n",
       "1.0685    24    -29.996963   0.001349 -29.995614\n",
       "1013.0000 76    -38.491734  35.870686  -2.621049"
      ]
     },
     "metadata": {},
     "output_type": "display_data"
    },
    {
     "name": "stdout",
     "output_type": "stream",
     "text": [
      "Table. Fluxes. WGT igg=10 wgt_flux=1\n"
     ]
    },
    {
     "data": {
      "text/html": [
       "<div>\n",
       "<style scoped>\n",
       "    .dataframe tbody tr th:only-of-type {\n",
       "        vertical-align: middle;\n",
       "    }\n",
       "\n",
       "    .dataframe tbody tr th {\n",
       "        vertical-align: top;\n",
       "    }\n",
       "\n",
       "    .dataframe thead th {\n",
       "        text-align: right;\n",
       "    }\n",
       "</style>\n",
       "<table border=\"1\" class=\"dataframe\">\n",
       "  <thead>\n",
       "    <tr style=\"text-align: right;\">\n",
       "      <th></th>\n",
       "      <th></th>\n",
       "      <th>flug</th>\n",
       "      <th>fldg</th>\n",
       "      <th>fnetg</th>\n",
       "    </tr>\n",
       "    <tr>\n",
       "      <th>pressure</th>\n",
       "      <th>level</th>\n",
       "      <th></th>\n",
       "      <th></th>\n",
       "      <th></th>\n",
       "    </tr>\n",
       "  </thead>\n",
       "  <tbody>\n",
       "    <tr>\n",
       "      <th>1.000000e-08</th>\n",
       "      <th>1</th>\n",
       "      <td>-30.074835</td>\n",
       "      <td>0.000002</td>\n",
       "      <td>-30.074833</td>\n",
       "    </tr>\n",
       "    <tr>\n",
       "      <th>1.068500e+00</th>\n",
       "      <th>24</th>\n",
       "      <td>-30.074428</td>\n",
       "      <td>0.001325</td>\n",
       "      <td>-30.073103</td>\n",
       "    </tr>\n",
       "    <tr>\n",
       "      <th>1.013000e+03</th>\n",
       "      <th>76</th>\n",
       "      <td>-38.491730</td>\n",
       "      <td>36.231032</td>\n",
       "      <td>-2.260698</td>\n",
       "    </tr>\n",
       "  </tbody>\n",
       "</table>\n",
       "</div>"
      ],
      "text/plain": [
       "                         flug       fldg      fnetg\n",
       "pressure     level                                 \n",
       "1.000000e-08 1     -30.074835   0.000002 -30.074833\n",
       "1.068500e+00 24    -30.074428   0.001325 -30.073103\n",
       "1.013000e+03 76    -38.491730  36.231032  -2.260698"
      ]
     },
     "metadata": {},
     "output_type": "display_data"
    },
    {
     "name": "stdout",
     "output_type": "stream",
     "text": [
      "Table. Fluxes. CLIRAD\n"
     ]
    },
    {
     "data": {
      "text/html": [
       "<div>\n",
       "<style scoped>\n",
       "    .dataframe tbody tr th:only-of-type {\n",
       "        vertical-align: middle;\n",
       "    }\n",
       "\n",
       "    .dataframe tbody tr th {\n",
       "        vertical-align: top;\n",
       "    }\n",
       "\n",
       "    .dataframe thead th {\n",
       "        text-align: right;\n",
       "    }\n",
       "</style>\n",
       "<table border=\"1\" class=\"dataframe\">\n",
       "  <thead>\n",
       "    <tr style=\"text-align: right;\">\n",
       "      <th></th>\n",
       "      <th></th>\n",
       "      <th>flug</th>\n",
       "      <th>fldg</th>\n",
       "      <th>fnetg</th>\n",
       "    </tr>\n",
       "    <tr>\n",
       "      <th>pressure</th>\n",
       "      <th>level</th>\n",
       "      <th></th>\n",
       "      <th></th>\n",
       "      <th></th>\n",
       "    </tr>\n",
       "  </thead>\n",
       "  <tbody>\n",
       "    <tr>\n",
       "      <th>0.0000</th>\n",
       "      <th>1</th>\n",
       "      <td>1.120685e-02</td>\n",
       "      <td>0.000000</td>\n",
       "      <td>0.011207</td>\n",
       "    </tr>\n",
       "    <tr>\n",
       "      <th>1.0685</th>\n",
       "      <th>24</th>\n",
       "      <td>1.125435e-02</td>\n",
       "      <td>-0.000185</td>\n",
       "      <td>0.011070</td>\n",
       "    </tr>\n",
       "    <tr>\n",
       "      <th>1013.0000</th>\n",
       "      <th>76</th>\n",
       "      <td>2.390000e-07</td>\n",
       "      <td>0.039103</td>\n",
       "      <td>0.039103</td>\n",
       "    </tr>\n",
       "  </tbody>\n",
       "</table>\n",
       "</div>"
      ],
      "text/plain": [
       "                         flug      fldg     fnetg\n",
       "pressure  level                                  \n",
       "0.0000    1      1.120685e-02  0.000000  0.011207\n",
       "1.0685    24     1.125435e-02 -0.000185  0.011070\n",
       "1013.0000 76     2.390000e-07  0.039103  0.039103"
      ]
     },
     "metadata": {},
     "output_type": "display_data"
    },
    {
     "name": "stdout",
     "output_type": "stream",
     "text": [
      "Table. Fluxes. (WGT igg=10 wgt_flux=1) - (CRD)\n"
     ]
    },
    {
     "data": {
      "text/html": [
       "<div>\n",
       "<style scoped>\n",
       "    .dataframe tbody tr th:only-of-type {\n",
       "        vertical-align: middle;\n",
       "    }\n",
       "\n",
       "    .dataframe tbody tr th {\n",
       "        vertical-align: top;\n",
       "    }\n",
       "\n",
       "    .dataframe thead th {\n",
       "        text-align: right;\n",
       "    }\n",
       "</style>\n",
       "<table border=\"1\" class=\"dataframe\">\n",
       "  <thead>\n",
       "    <tr style=\"text-align: right;\">\n",
       "      <th></th>\n",
       "      <th></th>\n",
       "      <th>flug</th>\n",
       "      <th>fldg</th>\n",
       "      <th>fnetg</th>\n",
       "    </tr>\n",
       "    <tr>\n",
       "      <th>pressure</th>\n",
       "      <th>level</th>\n",
       "      <th></th>\n",
       "      <th></th>\n",
       "      <th></th>\n",
       "    </tr>\n",
       "  </thead>\n",
       "  <tbody>\n",
       "    <tr>\n",
       "      <th>0.0000</th>\n",
       "      <th>1</th>\n",
       "      <td>-0.066300</td>\n",
       "      <td>0.000002</td>\n",
       "      <td>-0.066298</td>\n",
       "    </tr>\n",
       "    <tr>\n",
       "      <th>1.0685</th>\n",
       "      <th>24</th>\n",
       "      <td>-0.066211</td>\n",
       "      <td>-0.000209</td>\n",
       "      <td>-0.066419</td>\n",
       "    </tr>\n",
       "    <tr>\n",
       "      <th>1013.0000</th>\n",
       "      <th>76</th>\n",
       "      <td>0.000004</td>\n",
       "      <td>0.399449</td>\n",
       "      <td>0.399454</td>\n",
       "    </tr>\n",
       "  </tbody>\n",
       "</table>\n",
       "</div>"
      ],
      "text/plain": [
       "                     flug      fldg     fnetg\n",
       "pressure  level                              \n",
       "0.0000    1     -0.066300  0.000002 -0.066298\n",
       "1.0685    24    -0.066211 -0.000209 -0.066419\n",
       "1013.0000 76     0.000004  0.399449  0.399454"
      ]
     },
     "metadata": {},
     "output_type": "display_data"
    },
    {
     "name": "stdout",
     "output_type": "stream",
     "text": [
      "Table. Fluxes. (CLIRAD) - (CRD)\n"
     ]
    },
    {
     "data": {
      "text/html": [
       "<a id=\"Best-fit_Parameters\"></a>"
      ],
      "text/plain": [
       "<IPython.core.display.HTML object>"
      ]
     },
     "metadata": {},
     "output_type": "display_data"
    },
    {
     "data": {
      "text/markdown": [
       "# Best-fit Parameters"
      ],
      "text/plain": [
       "<IPython.core.display.Markdown object>"
      ]
     },
     "metadata": {},
     "output_type": "display_data"
    },
    {
     "name": "stdout",
     "output_type": "stream",
     "text": [
      "Best-fit values for each (gas, band)\n",
      "------------------------------------\n",
      "o h2o band3a\n",
      "  atmpro = mls\n",
      "  band = 3a\n",
      "  commitnumber = a06b618\n",
      "  conc = None\n",
      "  dv = 0.001\n",
      "  klin = 0\n",
      "  molecule = h2o\n",
      "  ng_adju = [0, 0]\n",
      "  ng_refs = [2, 6]\n",
      "  nv = 1000\n",
      "  option_compute_btable = 0\n",
      "  option_compute_ktable = 1\n",
      "  option_wgt_flux = 1\n",
      "  option_wgt_k = 1\n",
      "  ref_pts = [(10, 250), (600, 250)]\n",
      "  tsfc = 294\n",
      "  vmax = 620\n",
      "  vmin = 540\n",
      "  w_diffuse = [(1.9, 1.7), (1.4, 1.4, 1.4, 1.55, 1.6, 1.66)]\n",
      "  wgt = [(0.7, 0.7), (0.7, 0.5, 0.5, 0.5, 0.5, 0.5)]\n"
     ]
    }
   ],
   "source": [
    "script()"
   ]
  },
  {
   "cell_type": "code",
   "execution_count": 13,
   "metadata": {
    "collapsed": true
   },
   "outputs": [
    {
     "data": {
      "text/html": [
       "<script>\n",
       "code_show=true; \n",
       "function code_toggle() {\n",
       " if (code_show){\n",
       " $('div.input').hide();\n",
       " } else {\n",
       " $('div.input').show();\n",
       " }\n",
       " code_show = !code_show\n",
       "} \n",
       "$( document ).ready(code_toggle);\n",
       "</script>\n",
       "<form action=\"javascript:code_toggle()\"><input type=\"submit\" value=\"Click here to toggle on/off the raw code.\"></form>"
      ],
      "text/plain": [
       "<IPython.core.display.HTML object>"
      ]
     },
     "execution_count": 13,
     "metadata": {},
     "output_type": "execute_result"
    }
   ],
   "source": [
    "display.HTML('''<script>\n",
    "code_show=true; \n",
    "function code_toggle() {\n",
    " if (code_show){\n",
    " $('div.input').hide();\n",
    " } else {\n",
    " $('div.input').show();\n",
    " }\n",
    " code_show = !code_show\n",
    "} \n",
    "$( document ).ready(code_toggle);\n",
    "</script>\n",
    "<form action=\"javascript:code_toggle()\"><input type=\"submit\" value=\"Click here to toggle on/off the raw code.\"></form>''')"
   ]
  }
 ],
 "metadata": {
  "kernelspec": {
   "display_name": "Python 3",
   "language": "python",
   "name": "python3"
  },
  "language_info": {
   "codemirror_mode": {
    "name": "ipython",
    "version": 3
   },
   "file_extension": ".py",
   "mimetype": "text/x-python",
   "name": "python",
   "nbconvert_exporter": "python",
   "pygments_lexer": "ipython3",
   "version": "3.6.1"
  }
 },
 "nbformat": 4,
 "nbformat_minor": 2
}
