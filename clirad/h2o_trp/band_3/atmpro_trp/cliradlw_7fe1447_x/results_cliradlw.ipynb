{
 "cells": [
  {
   "cell_type": "code",
   "execution_count": 1,
   "metadata": {
    "collapsed": true
   },
   "outputs": [],
   "source": [
    "%matplotlib inline\n",
    "import os\n",
    "import re\n",
    "import io\n",
    "import itertools\n",
    "import pprint\n",
    "\n",
    "from bokeh.io import output_notebook, show\n",
    "from bokeh.layouts import gridplot\n",
    "from bokeh.plotting import figure\n",
    "from bokeh.models import Range1d, Legend\n",
    "from bokeh.palettes import all_palettes\n",
    "\n",
    "import matplotlib\n",
    "import matplotlib.pyplot as plt\n",
    "import numpy as np\n",
    "import pandas as pd\n",
    "import xarray as xr\n",
    "\n",
    "import climatools.lblnew.bestfit_params as bestfits\n",
    "from climatools.lblnew import setup_bestfit, setup_overlap\n",
    "import climatools.lblnew.pipeline as pipe_lblnew\n",
    "import climatools.cliradlw.setup as setup_cliradlw\n",
    "import climatools.cliradlw.pipeline as pipe_cliradlw\n",
    "\n",
    "import climatools.html.html as climahtml\n",
    "from climatools.lblnew.dataio import *\n",
    "from climatools.plot.plot import *\n",
    "\n",
    "\n",
    "import IPython.display as display"
   ]
  },
  {
   "cell_type": "code",
   "execution_count": 2,
   "metadata": {
    "collapsed": true
   },
   "outputs": [],
   "source": [
    "%run param.py"
   ]
  },
  {
   "cell_type": "code",
   "execution_count": 3,
   "metadata": {
    "collapsed": true
   },
   "outputs": [],
   "source": [
    "def load_output_file(path_csv):\n",
    "    '''\n",
    "    Load lblnew output .csv file to xarray.Dataset\n",
    "    \n",
    "    Parameters\n",
    "    ----------\n",
    "    path_csv: str\n",
    "              Path to the .csv file to be loaded.\n",
    "    ds: xarray.Dataset\n",
    "        Data in the input file in the form of an xarray.Dataset.\n",
    "    '''\n",
    "    toindex = ['band', 'pressure', 'igg', 'g']    \n",
    "    df = pd.read_csv(path_csv, sep=r'\\s+')\n",
    "    df = df.set_index([i for i in toindex if i in df.columns])\n",
    "    df = df.rename(columns={'sfu': 'flug',\n",
    "                            'sfd': 'fldg',\n",
    "                            'fnet': 'fnetg',\n",
    "                            'coolr': 'coolrg'})\n",
    "    ds = xr.Dataset.from_dataframe(df)\n",
    "\n",
    "    for l in ('level', 'layer'):\n",
    "        if l in ds.data_vars:\n",
    "            if len(ds[l].dims) > 1:\n",
    "                surface = {d: 0 for d in ds.dims if d != 'pressure'}\n",
    "                coord_level = ds[l][surface]\n",
    "                ds.coords[l] = ('pressure', coord_level)\n",
    "            else:\n",
    "                ds.coords[l] = ('pressure', ds[l])\n",
    "    \n",
    "    return ds"
   ]
  },
  {
   "cell_type": "code",
   "execution_count": 4,
   "metadata": {
    "collapsed": true
   },
   "outputs": [],
   "source": [
    "def lblnew_setup(param=None):\n",
    "    if 'ng_refs' in param:\n",
    "        return {'setup': setup_bestfit,\n",
    "                'fname_flux_crd': 'output_flux.dat',\n",
    "                'fname_cool_crd': 'output_coolr.dat',\n",
    "                'fname_flux_wgt': 'output_wfluxg.dat',\n",
    "                'fname_cool_wgt': 'output_wcoolrg.dat'}\n",
    "    else:\n",
    "        return {'setup': setup_overlap,\n",
    "                'fname_flux_crd': 'output_flux.dat',\n",
    "                'fname_cool_crd': 'output_coolr.dat',\n",
    "                'fname_flux_wgt': 'output_wflux.dat',\n",
    "                'fname_cool_wgt': 'output_wcoolr.dat'}\n",
    "\n",
    "    \n",
    "def load_lblnew_data(param):\n",
    "    \n",
    "    fname_dsname = [('fname_flux_crd', 'ds_flux_crd'),\n",
    "                    ('fname_cool_crd', 'ds_cool_crd'),\n",
    "                    ('fname_flux_wgt', 'ds_flux_wgt'),\n",
    "                    ('fname_cool_wgt', 'ds_cool_wgt')]\n",
    "    \n",
    "    d = lblnew_setup(param)\n",
    "    dir_fortran = pipe_lblnew.get_dir_case(param, setup=d['setup'])\n",
    "    \n",
    "    data_dict = {}\n",
    "    for fname, dsname in fname_dsname:\n",
    "        fpath = os.path.join(dir_fortran, d[fname])\n",
    "        data_dict[dsname] = load_output_file(fpath)\n",
    "    return data_dict\n",
    "    \n",
    "\n",
    "    \n",
    "    "
   ]
  },
  {
   "cell_type": "code",
   "execution_count": 5,
   "metadata": {
    "collapsed": true
   },
   "outputs": [],
   "source": [
    "d = load_lblnew_data(PARAM_LBLNEW)\n",
    "\n",
    "DS_FLUX_CRD = d['ds_flux_crd']\n",
    "DS_COOL_CRD = d['ds_cool_crd']\n",
    "DS_FLUX_WGT = d['ds_flux_wgt']\n",
    "DS_COOL_WGT = d['ds_cool_wgt']"
   ]
  },
  {
   "cell_type": "code",
   "execution_count": 6,
   "metadata": {
    "collapsed": true
   },
   "outputs": [],
   "source": [
    "DIR_FORTRAN = pipe_cliradlw.get_fortran_dir(PARAM, \n",
    "                                            setup=setup_cliradlw)\n",
    "\n",
    "PATH_FLUX = os.path.join(DIR_FORTRAN, 'output_flux.dat')\n",
    "PATH_COOL = os.path.join(DIR_FORTRAN, 'output_coolr.dat')\n",
    "\n",
    "DS_FLUX = load_output_file(PATH_FLUX)\n",
    "DS_COOL = load_output_file(PATH_COOL)"
   ]
  },
  {
   "cell_type": "code",
   "execution_count": 7,
   "metadata": {
    "collapsed": true
   },
   "outputs": [
    {
     "data": {
      "text/html": [
       "\n",
       "    <div class=\"bk-root\">\n",
       "        <a href=\"https://bokeh.pydata.org\" target=\"_blank\" class=\"bk-logo bk-logo-small bk-logo-notebook\"></a>\n",
       "        <span id=\"7e0a5088-18a5-484b-8d34-6985f4a8bb81\">Loading BokehJS ...</span>\n",
       "    </div>"
      ]
     },
     "metadata": {},
     "output_type": "display_data"
    },
    {
     "data": {
      "application/javascript": [
       "\n",
       "(function(root) {\n",
       "  function now() {\n",
       "    return new Date();\n",
       "  }\n",
       "\n",
       "  var force = true;\n",
       "\n",
       "  if (typeof (root._bokeh_onload_callbacks) === \"undefined\" || force === true) {\n",
       "    root._bokeh_onload_callbacks = [];\n",
       "    root._bokeh_is_loading = undefined;\n",
       "  }\n",
       "\n",
       "  var JS_MIME_TYPE = 'application/javascript';\n",
       "  var HTML_MIME_TYPE = 'text/html';\n",
       "  var EXEC_MIME_TYPE = 'application/vnd.bokehjs_exec.v0+json';\n",
       "  var CLASS_NAME = 'output_bokeh rendered_html';\n",
       "\n",
       "  /**\n",
       "   * Render data to the DOM node\n",
       "   */\n",
       "  function render(props, node) {\n",
       "    var script = document.createElement(\"script\");\n",
       "    node.appendChild(script);\n",
       "  }\n",
       "\n",
       "  /**\n",
       "   * Handle when an output is cleared or removed\n",
       "   */\n",
       "  function handleClearOutput(event, handle) {\n",
       "    var cell = handle.cell;\n",
       "\n",
       "    var id = cell.output_area._bokeh_element_id;\n",
       "    var server_id = cell.output_area._bokeh_server_id;\n",
       "    // Clean up Bokeh references\n",
       "    if (id !== undefined) {\n",
       "      Bokeh.index[id].model.document.clear();\n",
       "      delete Bokeh.index[id];\n",
       "    }\n",
       "\n",
       "    if (server_id !== undefined) {\n",
       "      // Clean up Bokeh references\n",
       "      var cmd = \"from bokeh.io.state import curstate; print(curstate().uuid_to_server['\" + server_id + \"'].get_sessions()[0].document.roots[0]._id)\";\n",
       "      cell.notebook.kernel.execute(cmd, {\n",
       "        iopub: {\n",
       "          output: function(msg) {\n",
       "            var element_id = msg.content.text.trim();\n",
       "            Bokeh.index[element_id].model.document.clear();\n",
       "            delete Bokeh.index[element_id];\n",
       "          }\n",
       "        }\n",
       "      });\n",
       "      // Destroy server and session\n",
       "      var cmd = \"import bokeh.io.notebook as ion; ion.destroy_server('\" + server_id + \"')\";\n",
       "      cell.notebook.kernel.execute(cmd);\n",
       "    }\n",
       "  }\n",
       "\n",
       "  /**\n",
       "   * Handle when a new output is added\n",
       "   */\n",
       "  function handleAddOutput(event, handle) {\n",
       "    var output_area = handle.output_area;\n",
       "    var output = handle.output;\n",
       "\n",
       "    // limit handleAddOutput to display_data with EXEC_MIME_TYPE content only\n",
       "    if ((output.output_type != \"display_data\") || (!output.data.hasOwnProperty(EXEC_MIME_TYPE))) {\n",
       "      return\n",
       "    }\n",
       "\n",
       "    var toinsert = output_area.element.find(\".\" + CLASS_NAME.split(' ')[0]);\n",
       "\n",
       "    if (output.metadata[EXEC_MIME_TYPE][\"id\"] !== undefined) {\n",
       "      toinsert[0].firstChild.textContent = output.data[JS_MIME_TYPE];\n",
       "      // store reference to embed id on output_area\n",
       "      output_area._bokeh_element_id = output.metadata[EXEC_MIME_TYPE][\"id\"];\n",
       "    }\n",
       "    if (output.metadata[EXEC_MIME_TYPE][\"server_id\"] !== undefined) {\n",
       "      var bk_div = document.createElement(\"div\");\n",
       "      bk_div.innerHTML = output.data[HTML_MIME_TYPE];\n",
       "      var script_attrs = bk_div.children[0].attributes;\n",
       "      for (var i = 0; i < script_attrs.length; i++) {\n",
       "        toinsert[0].firstChild.setAttribute(script_attrs[i].name, script_attrs[i].value);\n",
       "      }\n",
       "      // store reference to server id on output_area\n",
       "      output_area._bokeh_server_id = output.metadata[EXEC_MIME_TYPE][\"server_id\"];\n",
       "    }\n",
       "  }\n",
       "\n",
       "  function register_renderer(events, OutputArea) {\n",
       "\n",
       "    function append_mime(data, metadata, element) {\n",
       "      // create a DOM node to render to\n",
       "      var toinsert = this.create_output_subarea(\n",
       "        metadata,\n",
       "        CLASS_NAME,\n",
       "        EXEC_MIME_TYPE\n",
       "      );\n",
       "      this.keyboard_manager.register_events(toinsert);\n",
       "      // Render to node\n",
       "      var props = {data: data, metadata: metadata[EXEC_MIME_TYPE]};\n",
       "      render(props, toinsert[0]);\n",
       "      element.append(toinsert);\n",
       "      return toinsert\n",
       "    }\n",
       "\n",
       "    /* Handle when an output is cleared or removed */\n",
       "    events.on('clear_output.CodeCell', handleClearOutput);\n",
       "    events.on('delete.Cell', handleClearOutput);\n",
       "\n",
       "    /* Handle when a new output is added */\n",
       "    events.on('output_added.OutputArea', handleAddOutput);\n",
       "\n",
       "    /**\n",
       "     * Register the mime type and append_mime function with output_area\n",
       "     */\n",
       "    OutputArea.prototype.register_mime_type(EXEC_MIME_TYPE, append_mime, {\n",
       "      /* Is output safe? */\n",
       "      safe: true,\n",
       "      /* Index of renderer in `output_area.display_order` */\n",
       "      index: 0\n",
       "    });\n",
       "  }\n",
       "\n",
       "  // register the mime type if in Jupyter Notebook environment and previously unregistered\n",
       "  if (root.Jupyter !== undefined) {\n",
       "    var events = require('base/js/events');\n",
       "    var OutputArea = require('notebook/js/outputarea').OutputArea;\n",
       "\n",
       "    if (OutputArea.prototype.mime_types().indexOf(EXEC_MIME_TYPE) == -1) {\n",
       "      register_renderer(events, OutputArea);\n",
       "    }\n",
       "  }\n",
       "\n",
       "  \n",
       "  if (typeof (root._bokeh_timeout) === \"undefined\" || force === true) {\n",
       "    root._bokeh_timeout = Date.now() + 5000;\n",
       "    root._bokeh_failed_load = false;\n",
       "  }\n",
       "\n",
       "  var NB_LOAD_WARNING = {'data': {'text/html':\n",
       "     \"<div style='background-color: #fdd'>\\n\"+\n",
       "     \"<p>\\n\"+\n",
       "     \"BokehJS does not appear to have successfully loaded. If loading BokehJS from CDN, this \\n\"+\n",
       "     \"may be due to a slow or bad network connection. Possible fixes:\\n\"+\n",
       "     \"</p>\\n\"+\n",
       "     \"<ul>\\n\"+\n",
       "     \"<li>re-rerun `output_notebook()` to attempt to load from CDN again, or</li>\\n\"+\n",
       "     \"<li>use INLINE resources instead, as so:</li>\\n\"+\n",
       "     \"</ul>\\n\"+\n",
       "     \"<code>\\n\"+\n",
       "     \"from bokeh.resources import INLINE\\n\"+\n",
       "     \"output_notebook(resources=INLINE)\\n\"+\n",
       "     \"</code>\\n\"+\n",
       "     \"</div>\"}};\n",
       "\n",
       "  function display_loaded() {\n",
       "    var el = document.getElementById(\"7e0a5088-18a5-484b-8d34-6985f4a8bb81\");\n",
       "    if (el != null) {\n",
       "      el.textContent = \"BokehJS is loading...\";\n",
       "    }\n",
       "    if (root.Bokeh !== undefined) {\n",
       "      if (el != null) {\n",
       "        el.textContent = \"BokehJS \" + root.Bokeh.version + \" successfully loaded.\";\n",
       "      }\n",
       "    } else if (Date.now() < root._bokeh_timeout) {\n",
       "      setTimeout(display_loaded, 100)\n",
       "    }\n",
       "  }\n",
       "\n",
       "\n",
       "  function run_callbacks() {\n",
       "    try {\n",
       "      root._bokeh_onload_callbacks.forEach(function(callback) { callback() });\n",
       "    }\n",
       "    finally {\n",
       "      delete root._bokeh_onload_callbacks\n",
       "    }\n",
       "    console.info(\"Bokeh: all callbacks have finished\");\n",
       "  }\n",
       "\n",
       "  function load_libs(js_urls, callback) {\n",
       "    root._bokeh_onload_callbacks.push(callback);\n",
       "    if (root._bokeh_is_loading > 0) {\n",
       "      console.log(\"Bokeh: BokehJS is being loaded, scheduling callback at\", now());\n",
       "      return null;\n",
       "    }\n",
       "    if (js_urls == null || js_urls.length === 0) {\n",
       "      run_callbacks();\n",
       "      return null;\n",
       "    }\n",
       "    console.log(\"Bokeh: BokehJS not loaded, scheduling load and callback at\", now());\n",
       "    root._bokeh_is_loading = js_urls.length;\n",
       "    for (var i = 0; i < js_urls.length; i++) {\n",
       "      var url = js_urls[i];\n",
       "      var s = document.createElement('script');\n",
       "      s.src = url;\n",
       "      s.async = false;\n",
       "      s.onreadystatechange = s.onload = function() {\n",
       "        root._bokeh_is_loading--;\n",
       "        if (root._bokeh_is_loading === 0) {\n",
       "          console.log(\"Bokeh: all BokehJS libraries loaded\");\n",
       "          run_callbacks()\n",
       "        }\n",
       "      };\n",
       "      s.onerror = function() {\n",
       "        console.warn(\"failed to load library \" + url);\n",
       "      };\n",
       "      console.log(\"Bokeh: injecting script tag for BokehJS library: \", url);\n",
       "      document.getElementsByTagName(\"head\")[0].appendChild(s);\n",
       "    }\n",
       "  };var element = document.getElementById(\"7e0a5088-18a5-484b-8d34-6985f4a8bb81\");\n",
       "  if (element == null) {\n",
       "    console.log(\"Bokeh: ERROR: autoload.js configured with elementid '7e0a5088-18a5-484b-8d34-6985f4a8bb81' but no matching script tag was found. \")\n",
       "    return false;\n",
       "  }\n",
       "\n",
       "  var js_urls = [\"https://cdn.pydata.org/bokeh/release/bokeh-0.12.14.min.js\", \"https://cdn.pydata.org/bokeh/release/bokeh-widgets-0.12.14.min.js\", \"https://cdn.pydata.org/bokeh/release/bokeh-tables-0.12.14.min.js\", \"https://cdn.pydata.org/bokeh/release/bokeh-gl-0.12.14.min.js\"];\n",
       "\n",
       "  var inline_js = [\n",
       "    function(Bokeh) {\n",
       "      Bokeh.set_log_level(\"info\");\n",
       "    },\n",
       "    \n",
       "    function(Bokeh) {\n",
       "      \n",
       "    },\n",
       "    function(Bokeh) {\n",
       "      console.log(\"Bokeh: injecting CSS: https://cdn.pydata.org/bokeh/release/bokeh-0.12.14.min.css\");\n",
       "      Bokeh.embed.inject_css(\"https://cdn.pydata.org/bokeh/release/bokeh-0.12.14.min.css\");\n",
       "      console.log(\"Bokeh: injecting CSS: https://cdn.pydata.org/bokeh/release/bokeh-widgets-0.12.14.min.css\");\n",
       "      Bokeh.embed.inject_css(\"https://cdn.pydata.org/bokeh/release/bokeh-widgets-0.12.14.min.css\");\n",
       "      console.log(\"Bokeh: injecting CSS: https://cdn.pydata.org/bokeh/release/bokeh-tables-0.12.14.min.css\");\n",
       "      Bokeh.embed.inject_css(\"https://cdn.pydata.org/bokeh/release/bokeh-tables-0.12.14.min.css\");\n",
       "    }\n",
       "  ];\n",
       "\n",
       "  function run_inline_js() {\n",
       "    \n",
       "    if ((root.Bokeh !== undefined) || (force === true)) {\n",
       "      for (var i = 0; i < inline_js.length; i++) {\n",
       "        inline_js[i].call(root, root.Bokeh);\n",
       "      }if (force === true) {\n",
       "        display_loaded();\n",
       "      }} else if (Date.now() < root._bokeh_timeout) {\n",
       "      setTimeout(run_inline_js, 100);\n",
       "    } else if (!root._bokeh_failed_load) {\n",
       "      console.log(\"Bokeh: BokehJS failed to load within specified timeout.\");\n",
       "      root._bokeh_failed_load = true;\n",
       "    } else if (force !== true) {\n",
       "      var cell = $(document.getElementById(\"7e0a5088-18a5-484b-8d34-6985f4a8bb81\")).parents('.cell').data().cell;\n",
       "      cell.output_area.append_execute_result(NB_LOAD_WARNING)\n",
       "    }\n",
       "\n",
       "  }\n",
       "\n",
       "  if (root._bokeh_is_loading === 0) {\n",
       "    console.log(\"Bokeh: BokehJS loaded, going straight to plotting\");\n",
       "    run_inline_js();\n",
       "  } else {\n",
       "    load_libs(js_urls, function() {\n",
       "      console.log(\"Bokeh: BokehJS plotting callback run at\", now());\n",
       "      run_inline_js();\n",
       "    });\n",
       "  }\n",
       "}(window));"
      ],
      "application/vnd.bokehjs_load.v0+json": "\n(function(root) {\n  function now() {\n    return new Date();\n  }\n\n  var force = true;\n\n  if (typeof (root._bokeh_onload_callbacks) === \"undefined\" || force === true) {\n    root._bokeh_onload_callbacks = [];\n    root._bokeh_is_loading = undefined;\n  }\n\n  \n\n  \n  if (typeof (root._bokeh_timeout) === \"undefined\" || force === true) {\n    root._bokeh_timeout = Date.now() + 5000;\n    root._bokeh_failed_load = false;\n  }\n\n  var NB_LOAD_WARNING = {'data': {'text/html':\n     \"<div style='background-color: #fdd'>\\n\"+\n     \"<p>\\n\"+\n     \"BokehJS does not appear to have successfully loaded. If loading BokehJS from CDN, this \\n\"+\n     \"may be due to a slow or bad network connection. Possible fixes:\\n\"+\n     \"</p>\\n\"+\n     \"<ul>\\n\"+\n     \"<li>re-rerun `output_notebook()` to attempt to load from CDN again, or</li>\\n\"+\n     \"<li>use INLINE resources instead, as so:</li>\\n\"+\n     \"</ul>\\n\"+\n     \"<code>\\n\"+\n     \"from bokeh.resources import INLINE\\n\"+\n     \"output_notebook(resources=INLINE)\\n\"+\n     \"</code>\\n\"+\n     \"</div>\"}};\n\n  function display_loaded() {\n    var el = document.getElementById(\"7e0a5088-18a5-484b-8d34-6985f4a8bb81\");\n    if (el != null) {\n      el.textContent = \"BokehJS is loading...\";\n    }\n    if (root.Bokeh !== undefined) {\n      if (el != null) {\n        el.textContent = \"BokehJS \" + root.Bokeh.version + \" successfully loaded.\";\n      }\n    } else if (Date.now() < root._bokeh_timeout) {\n      setTimeout(display_loaded, 100)\n    }\n  }\n\n\n  function run_callbacks() {\n    try {\n      root._bokeh_onload_callbacks.forEach(function(callback) { callback() });\n    }\n    finally {\n      delete root._bokeh_onload_callbacks\n    }\n    console.info(\"Bokeh: all callbacks have finished\");\n  }\n\n  function load_libs(js_urls, callback) {\n    root._bokeh_onload_callbacks.push(callback);\n    if (root._bokeh_is_loading > 0) {\n      console.log(\"Bokeh: BokehJS is being loaded, scheduling callback at\", now());\n      return null;\n    }\n    if (js_urls == null || js_urls.length === 0) {\n      run_callbacks();\n      return null;\n    }\n    console.log(\"Bokeh: BokehJS not loaded, scheduling load and callback at\", now());\n    root._bokeh_is_loading = js_urls.length;\n    for (var i = 0; i < js_urls.length; i++) {\n      var url = js_urls[i];\n      var s = document.createElement('script');\n      s.src = url;\n      s.async = false;\n      s.onreadystatechange = s.onload = function() {\n        root._bokeh_is_loading--;\n        if (root._bokeh_is_loading === 0) {\n          console.log(\"Bokeh: all BokehJS libraries loaded\");\n          run_callbacks()\n        }\n      };\n      s.onerror = function() {\n        console.warn(\"failed to load library \" + url);\n      };\n      console.log(\"Bokeh: injecting script tag for BokehJS library: \", url);\n      document.getElementsByTagName(\"head\")[0].appendChild(s);\n    }\n  };var element = document.getElementById(\"7e0a5088-18a5-484b-8d34-6985f4a8bb81\");\n  if (element == null) {\n    console.log(\"Bokeh: ERROR: autoload.js configured with elementid '7e0a5088-18a5-484b-8d34-6985f4a8bb81' but no matching script tag was found. \")\n    return false;\n  }\n\n  var js_urls = [\"https://cdn.pydata.org/bokeh/release/bokeh-0.12.14.min.js\", \"https://cdn.pydata.org/bokeh/release/bokeh-widgets-0.12.14.min.js\", \"https://cdn.pydata.org/bokeh/release/bokeh-tables-0.12.14.min.js\", \"https://cdn.pydata.org/bokeh/release/bokeh-gl-0.12.14.min.js\"];\n\n  var inline_js = [\n    function(Bokeh) {\n      Bokeh.set_log_level(\"info\");\n    },\n    \n    function(Bokeh) {\n      \n    },\n    function(Bokeh) {\n      console.log(\"Bokeh: injecting CSS: https://cdn.pydata.org/bokeh/release/bokeh-0.12.14.min.css\");\n      Bokeh.embed.inject_css(\"https://cdn.pydata.org/bokeh/release/bokeh-0.12.14.min.css\");\n      console.log(\"Bokeh: injecting CSS: https://cdn.pydata.org/bokeh/release/bokeh-widgets-0.12.14.min.css\");\n      Bokeh.embed.inject_css(\"https://cdn.pydata.org/bokeh/release/bokeh-widgets-0.12.14.min.css\");\n      console.log(\"Bokeh: injecting CSS: https://cdn.pydata.org/bokeh/release/bokeh-tables-0.12.14.min.css\");\n      Bokeh.embed.inject_css(\"https://cdn.pydata.org/bokeh/release/bokeh-tables-0.12.14.min.css\");\n    }\n  ];\n\n  function run_inline_js() {\n    \n    if ((root.Bokeh !== undefined) || (force === true)) {\n      for (var i = 0; i < inline_js.length; i++) {\n        inline_js[i].call(root, root.Bokeh);\n      }if (force === true) {\n        display_loaded();\n      }} else if (Date.now() < root._bokeh_timeout) {\n      setTimeout(run_inline_js, 100);\n    } else if (!root._bokeh_failed_load) {\n      console.log(\"Bokeh: BokehJS failed to load within specified timeout.\");\n      root._bokeh_failed_load = true;\n    } else if (force !== true) {\n      var cell = $(document.getElementById(\"7e0a5088-18a5-484b-8d34-6985f4a8bb81\")).parents('.cell').data().cell;\n      cell.output_area.append_execute_result(NB_LOAD_WARNING)\n    }\n\n  }\n\n  if (root._bokeh_is_loading === 0) {\n    console.log(\"Bokeh: BokehJS loaded, going straight to plotting\");\n    run_inline_js();\n  } else {\n    load_libs(js_urls, function() {\n      console.log(\"Bokeh: BokehJS plotting callback run at\", now());\n      run_inline_js();\n    });\n  }\n}(window));"
     },
     "metadata": {},
     "output_type": "display_data"
    }
   ],
   "source": [
    "output_notebook()"
   ]
  },
  {
   "cell_type": "code",
   "execution_count": 8,
   "metadata": {
    "collapsed": true
   },
   "outputs": [],
   "source": [
    "def fmt_cool(ds_in):\n",
    "    ds = ds_in.copy(deep=True)\n",
    "    if 'igg' in ds.dims:\n",
    "        ds = ds.sel(igg=1)\n",
    "\n",
    "    if 'g' in ds.dims:\n",
    "        ds = ds.sum('g')\n",
    "            \n",
    "    if 'band' in ds.dims:\n",
    "        try:\n",
    "            ds = ds.squeeze('band')\n",
    "        except ValueError:\n",
    "            ds = ds.sum('band')\n",
    "                \n",
    "    return ds['coolrg']\n",
    "\n",
    "\n",
    "def pltdata_cooling_1(ds_cool=None,\n",
    "                      ds_cool_crd=None, ds_cool_wgt=None):\n",
    "    \n",
    "\n",
    "\n",
    "    colors = all_palettes['Set1'][4]\n",
    "    data = [{'label': 'CLIRAD `coolr_bands`',\n",
    "             'srs': fmt_cool(ds_cool),\n",
    "             'line_dash': 'dashed', 'line_width': 5,\n",
    "             'color': colors[0], 'alpha': .6},\n",
    "            {'label': 'CRD',\n",
    "             'srs': fmt_cool(ds_cool_crd),\n",
    "             'line_dash': 'solid', 'line_width': 1.5,\n",
    "             'marker': 'circle', 'marker_size': 5,\n",
    "             'color': colors[2], 'alpha': 1,},\n",
    "            {'label': 'WGT igg=10 wgt_flux=2',\n",
    "             'srs': fmt_cool(ds_cool_wgt),\n",
    "             'line_dash': 'solid', 'line_width': 3,\n",
    "             'marker': 'square', 'marker_size': 5,\n",
    "             'color': colors[3], 'alpha': .6}]\n",
    "    return data\n",
    "\n",
    "\n",
    "def nice_xlims(pltdata=None, prange=None):\n",
    "    \n",
    "    def get_slice(srs):\n",
    "        return srs.sel(pressure=slice(*prange))\n",
    "    \n",
    "    srss = [d['srs'] for d in pltdata]\n",
    "    vmin = min([get_slice(srs).min() for srs in srss])\n",
    "    vmax = max([get_slice(srs).max() for srs in srss])\n",
    "    dv = (vmax - vmin) * .01\n",
    "    return float(vmin - dv), float(vmax + dv)\n",
    "    \n",
    "\n",
    "def plt_cooling_bokeh(pltdata=None):\n",
    "    '''\n",
    "    Plot a list of cooling rate profiles using bokeh.\n",
    "    '''\n",
    "    ymin = 1e-2 \n",
    "    ymax = 1020 \n",
    "        \n",
    "    p1 = figure(title=\"Linear pressure scale\", \n",
    "                plot_width=400)        \n",
    "    xmin, xmax = nice_xlims(pltdata, prange=(50, 1050))\n",
    "    for d in pltdata:\n",
    "        if 'marker' in d:\n",
    "            getattr(p1, d['marker'])(d['srs'].values, \n",
    "                    d['srs'].coords['pressure'].values,\n",
    "                    color=d['color'], alpha=.7)\n",
    "        p1.line(d['srs'].values, \n",
    "                d['srs'].coords['pressure'].values,\n",
    "                color=d['color'], alpha=d['alpha'], \n",
    "                line_width=d['line_width'], line_dash=d['line_dash'])\n",
    "    \n",
    "    p1.y_range = Range1d(ymax, ymin)\n",
    "    p1.yaxis.axis_label = 'pressure [mb]'   \n",
    "    p1.x_range = Range1d(xmin, xmax)\n",
    "    p1.xaxis.axis_label = 'cooling rate [K/day]'\n",
    "            \n",
    "    p2 = figure(title='Log pressure scale', y_axis_type='log',\n",
    "                plot_width=560)\n",
    "    xmin, xmax = nice_xlims(pltdata, prange=(.01, 200))\n",
    "    \n",
    "    rs = []\n",
    "    for d in pltdata:\n",
    "        rd = []\n",
    "        if 'marker' in d:\n",
    "            r_mark = getattr(p2, d['marker'])(d['srs'].values, \n",
    "                        d['srs'].coords['pressure'].values,\n",
    "                        color=d['color'], alpha=.7)\n",
    "            rd.append(r_mark)\n",
    "        r_line = p2.line(d['srs'].values, \n",
    "                    d['srs'].coords['pressure'].values,\n",
    "                    color=d['color'], alpha=d['alpha'], \n",
    "                    line_width=d['line_width'], line_dash=d['line_dash'])\n",
    "        rd.append(r_line)\n",
    "      \n",
    "        rs.append(rd)\n",
    "        \n",
    "    p2.y_range = Range1d(ymax, ymin)  \n",
    "    p2.yaxis.axis_label = 'pressure [mb]'\n",
    "    \n",
    "    p2.x_range = Range1d(xmin, xmax)\n",
    "    p2.xaxis.axis_label = 'cooling rate [K/day]'\n",
    "    \n",
    "    items = [(d['label'], r) for r, d in zip(rs, pltdata)]\n",
    "    legend = Legend(items=items, location=(10, -30))\n",
    "    legend.label_text_font_size = '8pt'\n",
    "    \n",
    "    p2.add_layout(legend, 'right')  \n",
    "    \n",
    "    show(gridplot(p1, p2, ncols=2, plot_height=500))\n",
    "    \n",
    "\n",
    "def script_plt_cooling():\n",
    "    pltdata = pltdata_cooling_1(\n",
    "        ds_cool=DS_COOL,\n",
    "        ds_cool_crd=DS_COOL_CRD,\n",
    "        ds_cool_wgt=DS_COOL_WGT)\n",
    "    plt_cooling_bokeh(pltdata=pltdata)\n",
    "    print('''FIGURE. Cooling rate profiles.''')"
   ]
  },
  {
   "cell_type": "code",
   "execution_count": 9,
   "metadata": {
    "collapsed": true
   },
   "outputs": [],
   "source": [
    "def fmt_flux(ds_in):\n",
    "    ds = ds_in.copy(deep=True)\n",
    "    \n",
    "    for l in ('level', 'layer'):\n",
    "        if l in ds.data_vars:\n",
    "            if len(ds[l].dims) > 1:\n",
    "                surface = {d: 0 for d in ds.dims if d != 'pressure'}\n",
    "                coord_level = ds[l][surface]\n",
    "                ds.coords[l] = ('pressure', coord_level)\n",
    "            else:\n",
    "                ds.coords[l] = ('pressure', ds[l])\n",
    "        \n",
    "    ds = ds.isel(pressure=[0, 23, -1])\n",
    "        \n",
    "    if 'igg' in ds.dims:\n",
    "        ds = ds.sel(igg=[1])\n",
    "        ds = ds.squeeze('igg').drop('igg')\n",
    "    \n",
    "    if 'g' in ds.dims:\n",
    "        ds = ds.sum('g')\n",
    "            \n",
    "    if 'band' in ds.dims:\n",
    "        try:\n",
    "            ds = ds.squeeze('band').drop('band')\n",
    "        except ValueError:\n",
    "            ds = ds.sum('band')\n",
    "                \n",
    "    df = ds.to_dataframe()\n",
    "    df = df.set_index('level', append=True)               \n",
    "    return df\n",
    "\n",
    "\n",
    "def tbdata_flux(ds_flux=None, ds_flux_crd=None, ds_flux_wgt=None):\n",
    "    ilevels = [0, 23, -1]\n",
    "            \n",
    "    benchmark = {'label': 'WGT igg=10 wgt_flux=1',\n",
    "                 'df': fmt_flux(ds_flux_wgt)}\n",
    "    \n",
    "    tbs = [{'label': 'CRD',\n",
    "            'df': fmt_flux(ds_flux_crd)},\n",
    "           {'label': 'CLIRAD',\n",
    "            'df': fmt_flux(ds_flux)}]\n",
    "    \n",
    "    data = {'benchmark': benchmark, 'others': tbs}\n",
    "    return data\n",
    "\n",
    "\n",
    "def tb_flux(tbdata=None):\n",
    "    benchmark = tbdata['benchmark']\n",
    "    others = tbdata['others']\n",
    "    \n",
    "    def show_tb(d=None):\n",
    "        display.display(d['df'])\n",
    "        print('Table.', 'Fluxes.', d['label'])\n",
    "        \n",
    "    def show_tbdiff(d0=None, d=None):\n",
    "        df = d['df']\n",
    "        df.index = d0['df'].index\n",
    "        display.display(df - d0['df'])\n",
    "        print('Table.', 'Fluxes.', \n",
    "              '({}) - ({})'.format(d['label'], d0['label']))\n",
    "        \n",
    "    show_tb(benchmark)\n",
    "    for d in others:\n",
    "        show_tb(d)\n",
    "        \n",
    "    for d in others:\n",
    "        show_tbdiff(d=d, d0=benchmark)\n",
    "        \n",
    "        \n",
    "def script_tb_flux():\n",
    "    data = tbdata_flux(ds_flux=DS_FLUX,\n",
    "                       ds_flux_crd=DS_FLUX_CRD,\n",
    "                       ds_flux_wgt=DS_FLUX_WGT)\n",
    "    tb_flux(tbdata=data)"
   ]
  },
  {
   "cell_type": "code",
   "execution_count": 10,
   "metadata": {
    "collapsed": true
   },
   "outputs": [],
   "source": [
    "def band_map():\n",
    "    '''\n",
    "    Maps spectral bands in lblnew to spectral bands in clirad.\n",
    "    '''\n",
    "    lblnew2clirad = {'1': '1',\n",
    "            '2': '2',\n",
    "            '3a': '3',\n",
    "            '3b': '4',\n",
    "            '3c': '5',\n",
    "            '4': '6', \n",
    "            '5': '7',\n",
    "            '6': '8',\n",
    "            '7': '9', \n",
    "            '8': '10',\n",
    "            '9': '11'}\n",
    "    \n",
    "    clirad2lblnew = {clirad: lblnew \n",
    "                     for lblnew, clirad in lblnew2clirad.items()}\n",
    "    return clirad2lblnew\n",
    "\n",
    "\n",
    "def gasbands():\n",
    "    bmap = band_map()\n",
    "    gases = list(PARAM['molecule'].keys())\n",
    "    \n",
    "    bands = [bmap[str(b)] for b in PARAM['band']]\n",
    "    return list(itertools.product(gases, bands))\n",
    "\n",
    "\n",
    "def print_bestfit_params():\n",
    "    print('Best-fit values for each (gas, band)')\n",
    "    print('------------------------------------')\n",
    "    for gas, band in gasbands():\n",
    "        print('o {} band{}'.format(gas, band))\n",
    "        param = bestfits.kdist_params(molecule=gas, band=band)\n",
    "        for name, value in sorted(param.items()):\n",
    "            print(2 * ' ' + '{} = {}'.format(name, value))\n",
    "\n",
    "        \n",
    "def print_input_param():        \n",
    "    for name, value in PARAM.items():\n",
    "        print('{} = {}'.format(name, value))\n",
    "        \n",
    "        \n",
    "def print_lblnew_param():\n",
    "    for name, value in sorted(PARAM_LBLNEW.items()):\n",
    "        print('{} = {}'.format(name, value))\n"
   ]
  },
  {
   "cell_type": "code",
   "execution_count": 11,
   "metadata": {
    "collapsed": true,
    "scrolled": false
   },
   "outputs": [],
   "source": [
    "def show_html(s):\n",
    "    display.display(display.HTML(s))\n",
    "\n",
    "    \n",
    "def show_markdown(s):\n",
    "    display.display(display.Markdown(s))\n",
    "\n",
    "    \n",
    "def script():\n",
    "    \n",
    "    title = '### CLIRAD-LW'\n",
    "    s_input = 'Input Parameters'\n",
    "    s_lblnew_param = 'LBLNEW case compaired against'\n",
    "    s_bestfits = 'Best-fit Parameters'\n",
    "    s_plt_cooling = 'Cooling Rate Profiles'\n",
    "    s_tb_flux = 'Flux Comparison'\n",
    "    \n",
    "    # title\n",
    "    show_markdown('### CLIRAD-LW')\n",
    "    \n",
    "    # TOC\n",
    "    show_markdown('### Table of Contents')\n",
    "    show_html(climahtml.getHTML_hrefanchor(s_input))\n",
    "    show_html(climahtml.getHTML_hrefanchor(s_lblnew_param))\n",
    "    show_html(climahtml.getHTML_hrefanchor(s_plt_cooling))\n",
    "    show_html(climahtml.getHTML_hrefanchor(s_tb_flux))\n",
    "    show_html(climahtml.getHTML_hrefanchor(s_bestfits))\n",
    "    \n",
    "    # Input parameters\n",
    "    show_html(climahtml.getHTML_idanchor(s_input))\n",
    "    show_markdown(climahtml.getMarkdown_sectitle(s_input))\n",
    "    print_input_param()\n",
    "    \n",
    "    # LBLNEW parameters \n",
    "    show_html(climahtml.getHTML_idanchor(s_lblnew_param))\n",
    "    show_markdown(climahtml.getMarkdown_sectitle(s_lblnew_param))\n",
    "    print_lblnew_param()\n",
    "    \n",
    "    # Cooling rate profiles\n",
    "    show_html(climahtml.getHTML_idanchor(s_plt_cooling))\n",
    "    show_markdown(climahtml.getMarkdown_sectitle(s_plt_cooling))\n",
    "    script_plt_cooling()\n",
    "    \n",
    "    # Flux comparison\n",
    "    show_html(climahtml.getHTML_idanchor(s_tb_flux))\n",
    "    show_markdown(climahtml.getMarkdown_sectitle(s_tb_flux))\n",
    "    script_tb_flux()\n",
    "    \n",
    "    # Best-fit values\n",
    "    show_html(climahtml.getHTML_idanchor(s_bestfits))\n",
    "    show_markdown(climahtml.getMarkdown_sectitle(s_bestfits))\n",
    "    print_bestfit_params()\n",
    "   \n",
    "    "
   ]
  },
  {
   "cell_type": "code",
   "execution_count": 12,
   "metadata": {
    "collapsed": true,
    "scrolled": false
   },
   "outputs": [
    {
     "data": {
      "text/markdown": [
       "### CLIRAD-LW"
      ],
      "text/plain": [
       "<IPython.core.display.Markdown object>"
      ]
     },
     "metadata": {},
     "output_type": "display_data"
    },
    {
     "data": {
      "text/markdown": [
       "### Table of Contents"
      ],
      "text/plain": [
       "<IPython.core.display.Markdown object>"
      ]
     },
     "metadata": {},
     "output_type": "display_data"
    },
    {
     "data": {
      "text/html": [
       "<a href=\"#Input_Parameters\">Input Parameters</a>"
      ],
      "text/plain": [
       "<IPython.core.display.HTML object>"
      ]
     },
     "metadata": {},
     "output_type": "display_data"
    },
    {
     "data": {
      "text/html": [
       "<a href=\"#LBLNEW_case_compaired_against\">LBLNEW case compaired against</a>"
      ],
      "text/plain": [
       "<IPython.core.display.HTML object>"
      ]
     },
     "metadata": {},
     "output_type": "display_data"
    },
    {
     "data": {
      "text/html": [
       "<a href=\"#Cooling_Rate_Profiles\">Cooling Rate Profiles</a>"
      ],
      "text/plain": [
       "<IPython.core.display.HTML object>"
      ]
     },
     "metadata": {},
     "output_type": "display_data"
    },
    {
     "data": {
      "text/html": [
       "<a href=\"#Flux_Comparison\">Flux Comparison</a>"
      ],
      "text/plain": [
       "<IPython.core.display.HTML object>"
      ]
     },
     "metadata": {},
     "output_type": "display_data"
    },
    {
     "data": {
      "text/html": [
       "<a href=\"#Best-fit_Parameters\">Best-fit Parameters</a>"
      ],
      "text/plain": [
       "<IPython.core.display.HTML object>"
      ]
     },
     "metadata": {},
     "output_type": "display_data"
    },
    {
     "data": {
      "text/html": [
       "<a id=\"Input_Parameters\"></a>"
      ],
      "text/plain": [
       "<IPython.core.display.HTML object>"
      ]
     },
     "metadata": {},
     "output_type": "display_data"
    },
    {
     "data": {
      "text/markdown": [
       "# Input Parameters"
      ],
      "text/plain": [
       "<IPython.core.display.Markdown object>"
      ]
     },
     "metadata": {},
     "output_type": "display_data"
    },
    {
     "name": "stdout",
     "output_type": "stream",
     "text": [
      "atmpro = trp\n",
      "band = [3]\n",
      "commitnumber = 7fe1447_x\n",
      "molecule = {'h2o': 'atmpro'}\n",
      "tsfc = 300\n"
     ]
    },
    {
     "data": {
      "text/html": [
       "<a id=\"LBLNEW_case_compaired_against\"></a>"
      ],
      "text/plain": [
       "<IPython.core.display.HTML object>"
      ]
     },
     "metadata": {},
     "output_type": "display_data"
    },
    {
     "data": {
      "text/markdown": [
       "# LBLNEW case compaired against"
      ],
      "text/plain": [
       "<IPython.core.display.Markdown object>"
      ]
     },
     "metadata": {},
     "output_type": "display_data"
    },
    {
     "name": "stdout",
     "output_type": "stream",
     "text": [
      "atmpro = trp\n",
      "band = 3a\n",
      "commitnumber = a06b618\n",
      "conc = None\n",
      "dv = 0.001\n",
      "klin = 0\n",
      "molecule = h2o\n",
      "ng_adju = [0, 0]\n",
      "ng_refs = [2, 6]\n",
      "nv = 1000\n",
      "option_compute_btable = 0\n",
      "option_compute_ktable = 0\n",
      "option_wgt_flux = 1\n",
      "option_wgt_k = 1\n",
      "ref_pts = [(10, 250), (600, 250)]\n",
      "tsfc = 300\n",
      "vmax = 620\n",
      "vmin = 540\n",
      "w_diffuse = [(1.9, 1.7), (1.4, 1.4, 1.4, 1.55, 1.6, 1.66)]\n",
      "wgt = [(0.7, 0.7), (0.7, 0.5, 0.5, 0.5, 0.5, 0.5)]\n"
     ]
    },
    {
     "data": {
      "text/html": [
       "<a id=\"Cooling_Rate_Profiles\"></a>"
      ],
      "text/plain": [
       "<IPython.core.display.HTML object>"
      ]
     },
     "metadata": {},
     "output_type": "display_data"
    },
    {
     "data": {
      "text/markdown": [
       "# Cooling Rate Profiles"
      ],
      "text/plain": [
       "<IPython.core.display.Markdown object>"
      ]
     },
     "metadata": {},
     "output_type": "display_data"
    },
    {
     "data": {
      "text/html": [
       "\n",
       "<div class=\"bk-root\">\n",
       "    <div class=\"bk-plotdiv\" id=\"8208d678-1e73-4095-9194-d8262f0dd7c7\"></div>\n",
       "</div>"
      ]
     },
     "metadata": {},
     "output_type": "display_data"
    },
    {
     "data": {
      "application/javascript": [
       "(function(root) {\n",
       "  function embed_document(root) {\n",
       "    \n",
       "  var docs_json = {\"d0ec322e-e5af-4111-99e9-1df08246b789\":{\"roots\":{\"references\":[{\"attributes\":{\"callback\":null,\"column_names\":[\"x\",\"y\"],\"data\":{\"x\":{\"__ndarray__\":\"Y0eHKQicUD9JZRaa1QZRP5NDU1THM1I/aJR29/xIUz8zbWeuv2RUP2efNg9Ih1U/7cS9HvmvVj+zS3LFZ+BXP5mLtcS1Flk/9ejtVu1WWj/hGG2JKKNbP1kIOO5X9Fw/7PFQiWNMXj8P2jHJVgRgP6oQXh1xWGM/Nt2FwnQVaz+ThEoBxSZzP/GPoPN4LHo/Z1XQ4LJrgT8aolvGhbeGP2J7i1m/MY0/3LZSfDomkj/h24QTgmmTP51Av4y1AZI/NzaMmXxnjz/gdG+eGsqJP4PqTMW5koQ/1J97WrcdgD9SGp+9Qrx4P8XCINLulXI/VRJqIeBLaz8TAbmK5n1jP+WgFEX5llo/BLcwulx+UD8TCFVFyfw4P8XXuE5q7CO//0PW+1k0OL/8H2XbzS8uvzfvS7vp9ig/7BmeVcbvST/PXcq1s7NhPwVwfRidTH0/9oH4gSq8kT/gCakaPpugPxuV+Rmnuak/YrtnnAcpsj9a1/bj56C4P/KU1XQ90b4/Uvmuc5k7wT+H53zjMaTDPycNXol6IMc/YQSmNuVIyz8KNzLyJn3PPwMmT92Fu9E/Q5wceJTO0z/IkIxqS/zVP5NRZRh3Q9g//dCz9sp+2j8dPRtFGHfcP28zkantLN4/P+Hs1jKZ3z8Tb3QAilLgP8yEuqNan+A/JnbpNhOZ4T+ycrvZF5fhP7ad+GLWyOA/ShyBkfrf3j86HyJebJTaP0qS72uHs9Y/+jwt3EWa0z8NS4d3Ti3RP8liD6tHs84/LE2E7EBGzD8rQtqUZWfLP19mM+JdSdA/\",\"dtype\":\"float64\",\"shape\":[75]},\"y\":{\"__ndarray__\":\"S/O/Q+51ND/Sv8nbtpRIP2vylNV0PVE/aTum7souWD/At0SJ8fVgPw3Iuahxymc/MSNhhJWvcD/bTfBN02d3P2zb5nxnaoA/CD5h5MAGhz8NmeH1TyaQP+zrCsc9p5Y/LbKd76fGnz/bLW5ISEmmPww9YvTcQq8/JV2OstnstT8Er5Y7M8G+P0c+r3jqkcU/5h99k6ZBzj88bCIzFzjVP4enV8oyxN0//yH99nXg5D8qOpLLf0jtP5kqGJXUifQ/c9cS8kHP/D+/DpwzojQEQIEmwoanVwxA4lgXt9HgE0BSSZ2AJuIbQAMJih9jjiNA5q4l5INuK0AwTKYKRj0zQNv5fmq8/DpAaCJseHrtQkB/+zpwzoxKQM3MzMzMeFJAZmZmZmZqWEAAAAAAAFxeQM3MzMzMJmJAmpmZmZkfZUBmZmZmZhhoQDMzMzMzEWtAAAAAAAAKbkBmZmZmZoFwQM3MzMzM/XFAMzMzMzN6c0CamZmZmfZ0QAAAAAAAc3ZAZmZmZmbvd0DNzMzMzGt5QDMzMzMz6HpAmpmZmZlkfEAAAAAAAOF9QGZmZmZmXX9AZmZmZuZsgECamZmZGSuBQM3MzMxM6YFAAAAAAICngkAzMzMzs2WDQGZmZmbmI4RAmpmZmRnihEDNzMzMTKCFQAAAAACAXoZAMzMzM7Mch0BmZmZm5tqHQJqZmZkZmYhAzczMzExXiUAAAAAAgBWKQDMzMzOz04pAZmZmZuaRi0CamZmZGVCMQM3MzMxMDo1AAAAAAIDMjUAzMzMzs4qOQGZmZmbmSI9A\",\"dtype\":\"float64\",\"shape\":[75]}}},\"id\":\"8f21ef52-e417-4b28-87ac-116ab8dca84f\",\"type\":\"ColumnDataSource\"},{\"attributes\":{\"fill_alpha\":{\"value\":0.7},\"fill_color\":{\"value\":\"#4daf4a\"},\"line_alpha\":{\"value\":0.7},\"line_color\":{\"value\":\"#4daf4a\"},\"x\":{\"field\":\"x\"},\"y\":{\"field\":\"y\"}},\"id\":\"b1eb9b65-7378-4b35-9978-bb582aebeeb6\",\"type\":\"Circle\"},{\"attributes\":{},\"id\":\"e0aa79f8-798f-4c3f-a88a-21756884bcbb\",\"type\":\"WheelZoomTool\"},{\"attributes\":{\"plot\":null,\"text\":\"Log pressure scale\"},\"id\":\"01d0169c-eeae-43e0-9aad-adcf4e287b04\",\"type\":\"Title\"},{\"attributes\":{\"line_alpha\":0.1,\"line_color\":\"#1f77b4\",\"line_width\":1.5,\"x\":{\"field\":\"x\"},\"y\":{\"field\":\"y\"}},\"id\":\"5f05a355-30ad-4558-94c7-396cf2fc6ffd\",\"type\":\"Line\"},{\"attributes\":{\"source\":{\"id\":\"f5f9d674-51a8-435d-8608-ebc6e3ff149d\",\"type\":\"ColumnDataSource\"}},\"id\":\"d553fe5d-1964-4e76-b846-189c5eadb727\",\"type\":\"CDSView\"},{\"attributes\":{\"callback\":null,\"column_names\":[\"x\",\"y\"],\"data\":{\"x\":{\"__ndarray__\":\"mRoZilFVRT9IfMRnHGtGP+hQhGBOukg/0XT4Nh8jSz8nzBZxg59NP923NfrpFFA/esN1vK1jUT81ezuhErlSPwL2KfQuGFQ/AYABEyiBVT/YDb136+tWP/o/gRsUUlg/06X+f/WfWT9fl305HGZbPytc8BAoVWE/no9wakD1aT8Cd/or5lNzPzj9+AqUTXs/xFyV9tSSgj+XgMq+TJCIP4N+ICXowo8/saEImrCskz8PinH0tKCUPyE020Uzd5I/nkfZ4wT0jj8gU+u7KmmIP/a20Wsw54I/PhJD6q5XfT+JRk7aKO92Pw6B2TwLFHI/AChOUDSfbD/iGJCYPIBmPyzq59vvQWE/9c8x8kLSWD9kn+WFoW5JP7o2OCQIjQg/xVLW+7KNM78UsrLKT6wiv4LvzqG0IDs/zVNt3SzqUz8OQIfWms9oP1IO5m5Q7YI/JsSebocjlT/EfYZlo9uiP0z2/Qts5Kw/TvkSVbgYtD+v2Jkh2Uy6P/mk0ezTVMA/iszYp07Nwj/fqmcYqb3FP4hFTldeD8k/mHlAE0C1zD8DWj67EVDQP89i7+YlVtI/K3Tzx5No1D8InJ3z8HHWP+XIsZLiZdg/zn+8FZE62j9Mowvi6t3bP01pmgNGT90/enGgj0t/3j9EVel65EffP7zXQQwRg98/uWpDan9s4D+OnQmwPCbgP4GDrF3JhN4/Cbw4lhwc3D9YGhlg9p3YPzJKwH1Xo9U/QFamTvZF0z91p+CVyVXRP19lyAyvf88/i2shbYgWzT+Puikn0uTLP1hxDeDrc9A/\",\"dtype\":\"float64\",\"shape\":[75]},\"y\":{\"__ndarray__\":\"GhExyth1ND/Sv8nbtpRIP2vylNV0PVE/aTum7souWD/At0SJ8fVgPw3Iuahxymc/MSNhhJWvcD/bTfBN02d3P2zb5nxnaoA/CD5h5MAGhz8NmeH1TyaQP+zrCsc9p5Y/LbKd76fGnz/bLW5ISEmmPww9YvTcQq8/JV2OstnstT8Er5Y7M8G+P0c+r3jqkcU/5h99k6ZBzj88bCIzFzjVP4enV8oyxN0//yH99nXg5D8qOpLLf0jtP5kqGJXUifQ/c9cS8kHP/D+/DpwzojQEQIEmwoanVwxA4lgXt9HgE0BSSZ2AJuIbQAMJih9jjiNA5q4l5INuK0AwTKYKRj0zQNv5fmq8/DpAaCJseHrtQkB/+zpwzoxKQM3MzMzMeFJAZmZmZmZqWEAAAAAAAFxeQM3MzMzMJmJAmpmZmZkfZUBmZmZmZhhoQDMzMzMzEWtAAAAAAAAKbkBmZmZmZoFwQM3MzMzM/XFAMzMzMzN6c0CamZmZmfZ0QAAAAAAAc3ZAZmZmZmbvd0DNzMzMzGt5QDMzMzMz6HpAmpmZmZlkfEAAAAAAAOF9QGZmZmZmXX9AZmZmZuZsgECamZmZGSuBQM3MzMxM6YFAAAAAAICngkAzMzMzs2WDQGZmZmbmI4RAmpmZmRnihEDNzMzMTKCFQAAAAACAXoZAMzMzM7Mch0BmZmZm5tqHQJqZmZkZmYhAzczMzExXiUAAAAAAgBWKQDMzMzOz04pAZmZmZuaRi0CamZmZGVCMQM3MzMxMDo1AAAAAAIDMjUAzMzMzs4qOQGZmZmbmSI9A\",\"dtype\":\"float64\",\"shape\":[75]}}},\"id\":\"f960ba7c-4e21-45ae-abd3-6abfe0c5e979\",\"type\":\"ColumnDataSource\"},{\"attributes\":{\"data_source\":{\"id\":\"eb79d17f-5302-4598-94ec-467c8a1c18ce\",\"type\":\"ColumnDataSource\"},\"glyph\":{\"id\":\"b9115335-bbe7-43ee-803f-bc96cc64c796\",\"type\":\"Line\"},\"hover_glyph\":null,\"muted_glyph\":null,\"nonselection_glyph\":{\"id\":\"08264ca1-9b95-4070-a1ae-043681d4ff6f\",\"type\":\"Line\"},\"selection_glyph\":null,\"view\":{\"id\":\"dde62e4a-36b9-4298-a45d-f5dbfbbe12c6\",\"type\":\"CDSView\"}},\"id\":\"0a10b387-2fe7-421d-8288-c6edc46966b9\",\"type\":\"GlyphRenderer\"},{\"attributes\":{\"children\":[{\"id\":\"9cdece4f-40b2-4769-93f9-dc0dc4ac8958\",\"type\":\"Row\"}]},\"id\":\"2c5d88a3-5bb1-4c34-9b92-3fae7dd6efe9\",\"type\":\"Column\"},{\"attributes\":{\"callback\":null,\"column_names\":[\"x\",\"y\"],\"data\":{\"x\":{\"__ndarray__\":\"mRoZilFVRT9IfMRnHGtGP+hQhGBOukg/0XT4Nh8jSz8nzBZxg59NP923NfrpFFA/esN1vK1jUT81ezuhErlSPwL2KfQuGFQ/AYABEyiBVT/YDb136+tWP/o/gRsUUlg/06X+f/WfWT9fl305HGZbPytc8BAoVWE/no9wakD1aT8Cd/or5lNzPzj9+AqUTXs/xFyV9tSSgj+XgMq+TJCIP4N+ICXowo8/saEImrCskz8PinH0tKCUPyE020Uzd5I/nkfZ4wT0jj8gU+u7KmmIP/a20Wsw54I/PhJD6q5XfT+JRk7aKO92Pw6B2TwLFHI/AChOUDSfbD/iGJCYPIBmPyzq59vvQWE/9c8x8kLSWD9kn+WFoW5JP7o2OCQIjQg/xVLW+7KNM78UsrLKT6wiv4LvzqG0IDs/zVNt3SzqUz8OQIfWms9oP1IO5m5Q7YI/JsSebocjlT/EfYZlo9uiP0z2/Qts5Kw/TvkSVbgYtD+v2Jkh2Uy6P/mk0ezTVMA/iszYp07Nwj/fqmcYqb3FP4hFTldeD8k/mHlAE0C1zD8DWj67EVDQP89i7+YlVtI/K3Tzx5No1D8InJ3z8HHWP+XIsZLiZdg/zn+8FZE62j9Mowvi6t3bP01pmgNGT90/enGgj0t/3j9EVel65EffP7zXQQwRg98/uWpDan9s4D+OnQmwPCbgP4GDrF3JhN4/Cbw4lhwc3D9YGhlg9p3YPzJKwH1Xo9U/QFamTvZF0z91p+CVyVXRP19lyAyvf88/i2shbYgWzT+Puikn0uTLP1hxDeDrc9A/\",\"dtype\":\"float64\",\"shape\":[75]},\"y\":{\"__ndarray__\":\"GhExyth1ND/Sv8nbtpRIP2vylNV0PVE/aTum7souWD/At0SJ8fVgPw3Iuahxymc/MSNhhJWvcD/bTfBN02d3P2zb5nxnaoA/CD5h5MAGhz8NmeH1TyaQP+zrCsc9p5Y/LbKd76fGnz/bLW5ISEmmPww9YvTcQq8/JV2OstnstT8Er5Y7M8G+P0c+r3jqkcU/5h99k6ZBzj88bCIzFzjVP4enV8oyxN0//yH99nXg5D8qOpLLf0jtP5kqGJXUifQ/c9cS8kHP/D+/DpwzojQEQIEmwoanVwxA4lgXt9HgE0BSSZ2AJuIbQAMJih9jjiNA5q4l5INuK0AwTKYKRj0zQNv5fmq8/DpAaCJseHrtQkB/+zpwzoxKQM3MzMzMeFJAZmZmZmZqWEAAAAAAAFxeQM3MzMzMJmJAmpmZmZkfZUBmZmZmZhhoQDMzMzMzEWtAAAAAAAAKbkBmZmZmZoFwQM3MzMzM/XFAMzMzMzN6c0CamZmZmfZ0QAAAAAAAc3ZAZmZmZmbvd0DNzMzMzGt5QDMzMzMz6HpAmpmZmZlkfEAAAAAAAOF9QGZmZmZmXX9AZmZmZuZsgECamZmZGSuBQM3MzMxM6YFAAAAAAICngkAzMzMzs2WDQGZmZmbmI4RAmpmZmRnihEDNzMzMTKCFQAAAAACAXoZAMzMzM7Mch0BmZmZm5tqHQJqZmZkZmYhAzczMzExXiUAAAAAAgBWKQDMzMzOz04pAZmZmZuaRi0CamZmZGVCMQM3MzMxMDo1AAAAAAIDMjUAzMzMzs4qOQGZmZmbmSI9A\",\"dtype\":\"float64\",\"shape\":[75]}}},\"id\":\"b154b721-5315-4e2c-a07b-b549664b443b\",\"type\":\"ColumnDataSource\"},{\"attributes\":{\"overlay\":{\"id\":\"3eab1642-cc77-470a-bb7d-a674cf7f0cd9\",\"type\":\"BoxAnnotation\"}},\"id\":\"3179a847-4732-4484-811d-a67eefe24ac9\",\"type\":\"BoxZoomTool\"},{\"attributes\":{\"ticker\":null},\"id\":\"abf9c09b-57d9-46bc-9295-d0806ae03eb3\",\"type\":\"LogTickFormatter\"},{\"attributes\":{\"bottom_units\":\"screen\",\"fill_alpha\":{\"value\":0.5},\"fill_color\":{\"value\":\"lightgrey\"},\"left_units\":\"screen\",\"level\":\"overlay\",\"line_alpha\":{\"value\":1.0},\"line_color\":{\"value\":\"black\"},\"line_dash\":[4,4],\"line_width\":{\"value\":2},\"plot\":null,\"render_mode\":\"css\",\"right_units\":\"screen\",\"top_units\":\"screen\"},\"id\":\"c72ac5a5-6767-4867-859a-b957328add4f\",\"type\":\"BoxAnnotation\"},{\"attributes\":{\"dimension\":1,\"plot\":{\"id\":\"7155a8d7-fbc5-4527-9958-f6f18887d92a\",\"subtype\":\"Figure\",\"type\":\"Plot\"},\"ticker\":{\"id\":\"68bff62a-9fb5-4fd7-b6d8-94e4b6532fdd\",\"type\":\"LogTicker\"}},\"id\":\"471d427b-7aeb-4a1a-9a47-b86af9081ae0\",\"type\":\"Grid\"},{\"attributes\":{\"fill_alpha\":{\"value\":0.7},\"fill_color\":{\"value\":\"#4daf4a\"},\"line_alpha\":{\"value\":0.7},\"line_color\":{\"value\":\"#4daf4a\"},\"x\":{\"field\":\"x\"},\"y\":{\"field\":\"y\"}},\"id\":\"44fb4b12-ad43-49ff-a104-1cabddb91353\",\"type\":\"Circle\"},{\"attributes\":{\"data_source\":{\"id\":\"8f21ef52-e417-4b28-87ac-116ab8dca84f\",\"type\":\"ColumnDataSource\"},\"glyph\":{\"id\":\"cfa8b4b1-aa65-4914-9f20-c479857ffef3\",\"type\":\"Line\"},\"hover_glyph\":null,\"muted_glyph\":null,\"nonselection_glyph\":{\"id\":\"5cfcdf5d-1f94-4b23-b36b-abd69a7ccdc6\",\"type\":\"Line\"},\"selection_glyph\":null,\"view\":{\"id\":\"37f27653-cc4b-4ff3-85a1-c02e6fcbf3a9\",\"type\":\"CDSView\"}},\"id\":\"7d0bafb6-0d82-4bd5-9be2-9e905944e25c\",\"type\":\"GlyphRenderer\"},{\"attributes\":{\"callback\":null,\"column_names\":[\"x\",\"y\"],\"data\":{\"x\":{\"__ndarray__\":\"8ZOAf620Sz8NravujrdMP8/scxEOzk4/a9hPE2V9UD86yMA7aptRP1+NXgwowVI//J74Fr7uUz+E5DCbDyZVP1MSvmX8ZVY/Tc51ll+sVz9Y8tW7WvVYP9o11heeN1o/CHsO+TmbWz8HIB53n2NdP24CrAdGD2I/YPWdRXy2aT/bCoQ+MI5yP836jgeSunk/d1+gBF1GgT8fwQ9irqeGP14mbJMGKo0/goFrsK8Okj/N7LXrtyqTP2CZEUTfkpE/6S0hDg1Njj+Th31aPp+IP3zEtCmKh4M/uLfMVVaufj8glog+/uF3P36OLpSAcXI/N4cLZ484bD8aQ6bXvzJlPwlZ3P8T5F4/gzEHrH38VD/DM3HOtndDP4PNlnEUawu/uARTzRNpNr/hUP4XatQnv8qKxaiNvjY/wXOBKFZDUj9dZk7SNWtnPzBbVemKZII/3yJ+CuYelT/awEtqnhCjP55h4vbuFa0/aiYIKKo8tD+/ypWsn6a6P88roLOnZcA/vyTfbeFvwj9BHI38uAjFP/R6WBeEUcg/L8DYDskTzD/1yyN+k/zPP/0hDOJw6tE/GT7/LlTf0z9zHNjDFt/VP4LNeNxp5dc/ceJqzcrd2T9C08Tp2qPbP/cEuvLcLN0/yLSiIONo3j9iBGAn0kLfP98xvklcnd8/oRTZjY6W4D91YWdvZ3XgP3oX1NAXYN8/I0oatR4M3T+6Pz9/am3ZP0oaR0pwLtY/xkDaBEOU0z/ThcpzLHXRP20r9SLei88/TOXDODYgzT/Qll29AhjMP5ZDsHDil9A/\",\"dtype\":\"float64\",\"shape\":[75]},\"y\":{\"__ndarray__\":\"GhExyth1ND/Sv8nbtpRIP2vylNV0PVE/aTum7souWD/At0SJ8fVgPw3Iuahxymc/MSNhhJWvcD/bTfBN02d3P2zb5nxnaoA/CD5h5MAGhz8NmeH1TyaQP+zrCsc9p5Y/LbKd76fGnz/bLW5ISEmmPww9YvTcQq8/JV2OstnstT8Er5Y7M8G+P0c+r3jqkcU/5h99k6ZBzj88bCIzFzjVP4enV8oyxN0//yH99nXg5D8qOpLLf0jtP5kqGJXUifQ/c9cS8kHP/D+/DpwzojQEQIEmwoanVwxA4lgXt9HgE0BSSZ2AJuIbQAMJih9jjiNA5q4l5INuK0AwTKYKRj0zQNv5fmq8/DpAaCJseHrtQkB/+zpwzoxKQM3MzMzMeFJAZmZmZmZqWEAAAAAAAFxeQM3MzMzMJmJAmpmZmZkfZUBmZmZmZhhoQDMzMzMzEWtAAAAAAAAKbkBmZmZmZoFwQM3MzMzM/XFAMzMzMzN6c0CamZmZmfZ0QAAAAAAAc3ZAZmZmZmbvd0DNzMzMzGt5QDMzMzMz6HpAmpmZmZlkfEAAAAAAAOF9QGZmZmZmXX9AZmZmZuZsgECamZmZGSuBQM3MzMxM6YFAAAAAAICngkAzMzMzs2WDQGZmZmbmI4RAmpmZmRnihEDNzMzMTKCFQAAAAACAXoZAMzMzM7Mch0BmZmZm5tqHQJqZmZkZmYhAzczMzExXiUAAAAAAgBWKQDMzMzOz04pAZmZmZuaRi0CamZmZGVCMQM3MzMxMDo1AAAAAAIDMjUAzMzMzs4qOQGZmZmbmSI9A\",\"dtype\":\"float64\",\"shape\":[75]}}},\"id\":\"f5f9d674-51a8-435d-8608-ebc6e3ff149d\",\"type\":\"ColumnDataSource\"},{\"attributes\":{},\"id\":\"70392ff6-ccc9-4d5a-ad0a-ad1f9fd6e631\",\"type\":\"BasicTicker\"},{\"attributes\":{},\"id\":\"988fa24c-df71-4687-adff-67f9a6276f13\",\"type\":\"BasicTickFormatter\"},{\"attributes\":{\"callback\":null,\"column_names\":[\"x\",\"y\"],\"data\":{\"x\":{\"__ndarray__\":\"8ZOAf620Sz8NravujrdMP8/scxEOzk4/a9hPE2V9UD86yMA7aptRP1+NXgwowVI//J74Fr7uUz+E5DCbDyZVP1MSvmX8ZVY/Tc51ll+sVz9Y8tW7WvVYP9o11heeN1o/CHsO+TmbWz8HIB53n2NdP24CrAdGD2I/YPWdRXy2aT/bCoQ+MI5yP836jgeSunk/d1+gBF1GgT8fwQ9irqeGP14mbJMGKo0/goFrsK8Okj/N7LXrtyqTP2CZEUTfkpE/6S0hDg1Njj+Th31aPp+IP3zEtCmKh4M/uLfMVVaufj8glog+/uF3P36OLpSAcXI/N4cLZ484bD8aQ6bXvzJlPwlZ3P8T5F4/gzEHrH38VD/DM3HOtndDP4PNlnEUawu/uARTzRNpNr/hUP4XatQnv8qKxaiNvjY/wXOBKFZDUj9dZk7SNWtnPzBbVemKZII/3yJ+CuYelT/awEtqnhCjP55h4vbuFa0/aiYIKKo8tD+/ypWsn6a6P88roLOnZcA/vyTfbeFvwj9BHI38uAjFP/R6WBeEUcg/L8DYDskTzD/1yyN+k/zPP/0hDOJw6tE/GT7/LlTf0z9zHNjDFt/VP4LNeNxp5dc/ceJqzcrd2T9C08Tp2qPbP/cEuvLcLN0/yLSiIONo3j9iBGAn0kLfP98xvklcnd8/oRTZjY6W4D91YWdvZ3XgP3oX1NAXYN8/I0oatR4M3T+6Pz9/am3ZP0oaR0pwLtY/xkDaBEOU0z/ThcpzLHXRP20r9SLei88/TOXDODYgzT/Qll29AhjMP5ZDsHDil9A/\",\"dtype\":\"float64\",\"shape\":[75]},\"y\":{\"__ndarray__\":\"GhExyth1ND/Sv8nbtpRIP2vylNV0PVE/aTum7souWD/At0SJ8fVgPw3Iuahxymc/MSNhhJWvcD/bTfBN02d3P2zb5nxnaoA/CD5h5MAGhz8NmeH1TyaQP+zrCsc9p5Y/LbKd76fGnz/bLW5ISEmmPww9YvTcQq8/JV2OstnstT8Er5Y7M8G+P0c+r3jqkcU/5h99k6ZBzj88bCIzFzjVP4enV8oyxN0//yH99nXg5D8qOpLLf0jtP5kqGJXUifQ/c9cS8kHP/D+/DpwzojQEQIEmwoanVwxA4lgXt9HgE0BSSZ2AJuIbQAMJih9jjiNA5q4l5INuK0AwTKYKRj0zQNv5fmq8/DpAaCJseHrtQkB/+zpwzoxKQM3MzMzMeFJAZmZmZmZqWEAAAAAAAFxeQM3MzMzMJmJAmpmZmZkfZUBmZmZmZhhoQDMzMzMzEWtAAAAAAAAKbkBmZmZmZoFwQM3MzMzM/XFAMzMzMzN6c0CamZmZmfZ0QAAAAAAAc3ZAZmZmZmbvd0DNzMzMzGt5QDMzMzMz6HpAmpmZmZlkfEAAAAAAAOF9QGZmZmZmXX9AZmZmZuZsgECamZmZGSuBQM3MzMxM6YFAAAAAAICngkAzMzMzs2WDQGZmZmbmI4RAmpmZmRnihEDNzMzMTKCFQAAAAACAXoZAMzMzM7Mch0BmZmZm5tqHQJqZmZkZmYhAzczMzExXiUAAAAAAgBWKQDMzMzOz04pAZmZmZuaRi0CamZmZGVCMQM3MzMxMDo1AAAAAAIDMjUAzMzMzs4qOQGZmZmbmSI9A\",\"dtype\":\"float64\",\"shape\":[75]}}},\"id\":\"dd0cd297-d7c9-46eb-83f4-9ca1565915c0\",\"type\":\"ColumnDataSource\"},{\"attributes\":{},\"id\":\"789686c3-0cae-4b20-823d-bfadeccba863\",\"type\":\"HelpTool\"},{\"attributes\":{},\"id\":\"08e6e220-a015-4062-aa33-f7fa9952391a\",\"type\":\"PanTool\"},{\"attributes\":{\"active_drag\":\"auto\",\"active_inspect\":\"auto\",\"active_scroll\":\"auto\",\"active_tap\":\"auto\",\"tools\":[{\"id\":\"08e6e220-a015-4062-aa33-f7fa9952391a\",\"type\":\"PanTool\"},{\"id\":\"21e35e91-3ed9-433b-b735-2c3504feae76\",\"type\":\"WheelZoomTool\"},{\"id\":\"205eba4c-f1b2-4d7f-aea3-895106b7a8d9\",\"type\":\"BoxZoomTool\"},{\"id\":\"ee8a1ab3-353b-4bd7-9121-61795b43c196\",\"type\":\"SaveTool\"},{\"id\":\"cb850495-25be-4839-8b24-14eb47542275\",\"type\":\"ResetTool\"},{\"id\":\"789686c3-0cae-4b20-823d-bfadeccba863\",\"type\":\"HelpTool\"}]},\"id\":\"b4c6dc53-7c77-4fb8-95b4-00ee52e5b7c1\",\"type\":\"Toolbar\"},{\"attributes\":{\"callback\":null,\"column_names\":[\"x\",\"y\"],\"data\":{\"x\":{\"__ndarray__\":\"mRoZilFVRT9IfMRnHGtGP+hQhGBOukg/0XT4Nh8jSz8nzBZxg59NP923NfrpFFA/esN1vK1jUT81ezuhErlSPwL2KfQuGFQ/AYABEyiBVT/YDb136+tWP/o/gRsUUlg/06X+f/WfWT9fl305HGZbPytc8BAoVWE/no9wakD1aT8Cd/or5lNzPzj9+AqUTXs/xFyV9tSSgj+XgMq+TJCIP4N+ICXowo8/saEImrCskz8PinH0tKCUPyE020Uzd5I/nkfZ4wT0jj8gU+u7KmmIP/a20Wsw54I/PhJD6q5XfT+JRk7aKO92Pw6B2TwLFHI/AChOUDSfbD/iGJCYPIBmPyzq59vvQWE/9c8x8kLSWD9kn+WFoW5JP7o2OCQIjQg/xVLW+7KNM78UsrLKT6wiv4LvzqG0IDs/zVNt3SzqUz8OQIfWms9oP1IO5m5Q7YI/JsSebocjlT/EfYZlo9uiP0z2/Qts5Kw/TvkSVbgYtD+v2Jkh2Uy6P/mk0ezTVMA/iszYp07Nwj/fqmcYqb3FP4hFTldeD8k/mHlAE0C1zD8DWj67EVDQP89i7+YlVtI/K3Tzx5No1D8InJ3z8HHWP+XIsZLiZdg/zn+8FZE62j9Mowvi6t3bP01pmgNGT90/enGgj0t/3j9EVel65EffP7zXQQwRg98/uWpDan9s4D+OnQmwPCbgP4GDrF3JhN4/Cbw4lhwc3D9YGhlg9p3YPzJKwH1Xo9U/QFamTvZF0z91p+CVyVXRP19lyAyvf88/i2shbYgWzT+Puikn0uTLP1hxDeDrc9A/\",\"dtype\":\"float64\",\"shape\":[75]},\"y\":{\"__ndarray__\":\"GhExyth1ND/Sv8nbtpRIP2vylNV0PVE/aTum7souWD/At0SJ8fVgPw3Iuahxymc/MSNhhJWvcD/bTfBN02d3P2zb5nxnaoA/CD5h5MAGhz8NmeH1TyaQP+zrCsc9p5Y/LbKd76fGnz/bLW5ISEmmPww9YvTcQq8/JV2OstnstT8Er5Y7M8G+P0c+r3jqkcU/5h99k6ZBzj88bCIzFzjVP4enV8oyxN0//yH99nXg5D8qOpLLf0jtP5kqGJXUifQ/c9cS8kHP/D+/DpwzojQEQIEmwoanVwxA4lgXt9HgE0BSSZ2AJuIbQAMJih9jjiNA5q4l5INuK0AwTKYKRj0zQNv5fmq8/DpAaCJseHrtQkB/+zpwzoxKQM3MzMzMeFJAZmZmZmZqWEAAAAAAAFxeQM3MzMzMJmJAmpmZmZkfZUBmZmZmZhhoQDMzMzMzEWtAAAAAAAAKbkBmZmZmZoFwQM3MzMzM/XFAMzMzMzN6c0CamZmZmfZ0QAAAAAAAc3ZAZmZmZmbvd0DNzMzMzGt5QDMzMzMz6HpAmpmZmZlkfEAAAAAAAOF9QGZmZmZmXX9AZmZmZuZsgECamZmZGSuBQM3MzMxM6YFAAAAAAICngkAzMzMzs2WDQGZmZmbmI4RAmpmZmRnihEDNzMzMTKCFQAAAAACAXoZAMzMzM7Mch0BmZmZm5tqHQJqZmZkZmYhAzczMzExXiUAAAAAAgBWKQDMzMzOz04pAZmZmZuaRi0CamZmZGVCMQM3MzMxMDo1AAAAAAIDMjUAzMzMzs4qOQGZmZmbmSI9A\",\"dtype\":\"float64\",\"shape\":[75]}}},\"id\":\"9239327c-8d88-4971-afcc-181de56f7d98\",\"type\":\"ColumnDataSource\"},{\"attributes\":{\"data_source\":{\"id\":\"9239327c-8d88-4971-afcc-181de56f7d98\",\"type\":\"ColumnDataSource\"},\"glyph\":{\"id\":\"44fb4b12-ad43-49ff-a104-1cabddb91353\",\"type\":\"Circle\"},\"hover_glyph\":null,\"muted_glyph\":null,\"nonselection_glyph\":{\"id\":\"cfaa7ebe-b94f-4cb1-822c-fc102571f0ef\",\"type\":\"Circle\"},\"selection_glyph\":null,\"view\":{\"id\":\"0ff416e0-ec1c-4e16-9cff-f4970a070e8c\",\"type\":\"CDSView\"}},\"id\":\"65fd0786-7dcf-4393-b703-a88ec0dd79e5\",\"type\":\"GlyphRenderer\"},{\"attributes\":{\"data_source\":{\"id\":\"f5f9d674-51a8-435d-8608-ebc6e3ff149d\",\"type\":\"ColumnDataSource\"},\"glyph\":{\"id\":\"8e339839-40ea-4b2b-a377-783f5969bcf0\",\"type\":\"Line\"},\"hover_glyph\":null,\"muted_glyph\":null,\"nonselection_glyph\":{\"id\":\"70bb51fd-7535-48d1-b300-27e88e3269d5\",\"type\":\"Line\"},\"selection_glyph\":null,\"view\":{\"id\":\"d553fe5d-1964-4e76-b846-189c5eadb727\",\"type\":\"CDSView\"}},\"id\":\"cf2550eb-27d1-4a51-b415-4f7532422052\",\"type\":\"GlyphRenderer\"},{\"attributes\":{\"axis_label\":\"cooling rate [K/day]\",\"formatter\":{\"id\":\"988fa24c-df71-4687-adff-67f9a6276f13\",\"type\":\"BasicTickFormatter\"},\"plot\":{\"id\":\"7155a8d7-fbc5-4527-9958-f6f18887d92a\",\"subtype\":\"Figure\",\"type\":\"Plot\"},\"ticker\":{\"id\":\"70392ff6-ccc9-4d5a-ad0a-ad1f9fd6e631\",\"type\":\"BasicTicker\"}},\"id\":\"d305e19b-9e43-4e6d-bf02-001b2dde2c25\",\"type\":\"LinearAxis\"},{\"attributes\":{\"source\":{\"id\":\"8f21ef52-e417-4b28-87ac-116ab8dca84f\",\"type\":\"ColumnDataSource\"}},\"id\":\"37f27653-cc4b-4ff3-85a1-c02e6fcbf3a9\",\"type\":\"CDSView\"},{\"attributes\":{\"below\":[{\"id\":\"d305e19b-9e43-4e6d-bf02-001b2dde2c25\",\"type\":\"LinearAxis\"}],\"left\":[{\"id\":\"830bf976-aab5-46a0-aebb-42836fe371e0\",\"type\":\"LogAxis\"}],\"plot_height\":500,\"plot_width\":560,\"renderers\":[{\"id\":\"d305e19b-9e43-4e6d-bf02-001b2dde2c25\",\"type\":\"LinearAxis\"},{\"id\":\"951c63ab-335c-4913-b4ac-30c28e0e8f9a\",\"type\":\"Grid\"},{\"id\":\"830bf976-aab5-46a0-aebb-42836fe371e0\",\"type\":\"LogAxis\"},{\"id\":\"471d427b-7aeb-4a1a-9a47-b86af9081ae0\",\"type\":\"Grid\"},{\"id\":\"c72ac5a5-6767-4867-859a-b957328add4f\",\"type\":\"BoxAnnotation\"},{\"id\":\"7d0bafb6-0d82-4bd5-9be2-9e905944e25c\",\"type\":\"GlyphRenderer\"},{\"id\":\"65fd0786-7dcf-4393-b703-a88ec0dd79e5\",\"type\":\"GlyphRenderer\"},{\"id\":\"93e6613a-bbbd-4cc1-88a7-aa4e353ed604\",\"type\":\"GlyphRenderer\"},{\"id\":\"39c0e45f-5992-49e2-9210-0a3fe07bc9b6\",\"type\":\"GlyphRenderer\"},{\"id\":\"328635e1-6797-4486-8fd2-e32ac74c3fec\",\"type\":\"GlyphRenderer\"},{\"id\":\"85e2fc1e-7aa0-46fa-aff1-e6b681d682eb\",\"type\":\"Legend\"}],\"right\":[{\"id\":\"85e2fc1e-7aa0-46fa-aff1-e6b681d682eb\",\"type\":\"Legend\"}],\"title\":{\"id\":\"01d0169c-eeae-43e0-9aad-adcf4e287b04\",\"type\":\"Title\"},\"toolbar\":{\"id\":\"b4c6dc53-7c77-4fb8-95b4-00ee52e5b7c1\",\"type\":\"Toolbar\"},\"toolbar_location\":null,\"x_range\":{\"id\":\"21bc7ece-9086-493b-ba3a-b1f8f4768e93\",\"type\":\"Range1d\"},\"x_scale\":{\"id\":\"ccc644f1-d32c-4c58-82c7-185574c66227\",\"type\":\"LinearScale\"},\"y_range\":{\"id\":\"5d6b1743-8fb9-40af-a8ca-da42f80e92c4\",\"type\":\"Range1d\"},\"y_scale\":{\"id\":\"b832980b-31bd-44fa-884e-ffe55d6c618e\",\"type\":\"LogScale\"}},\"id\":\"7155a8d7-fbc5-4527-9958-f6f18887d92a\",\"subtype\":\"Figure\",\"type\":\"Plot\"},{\"attributes\":{\"fill_alpha\":{\"value\":0.1},\"fill_color\":{\"value\":\"#1f77b4\"},\"line_alpha\":{\"value\":0.1},\"line_color\":{\"value\":\"#1f77b4\"},\"x\":{\"field\":\"x\"},\"y\":{\"field\":\"y\"}},\"id\":\"cfaa7ebe-b94f-4cb1-822c-fc102571f0ef\",\"type\":\"Circle\"},{\"attributes\":{\"toolbar\":{\"id\":\"c47c6543-b0aa-4d85-92ef-930e31701b34\",\"type\":\"ProxyToolbar\"},\"toolbar_location\":\"above\"},\"id\":\"723fab78-c334-4d9a-b67b-9e62d924986c\",\"type\":\"ToolbarBox\"},{\"attributes\":{\"source\":{\"id\":\"9239327c-8d88-4971-afcc-181de56f7d98\",\"type\":\"ColumnDataSource\"}},\"id\":\"0ff416e0-ec1c-4e16-9cff-f4970a070e8c\",\"type\":\"CDSView\"},{\"attributes\":{\"source\":{\"id\":\"b610280a-6307-48e3-acef-f86496e913b9\",\"type\":\"ColumnDataSource\"}},\"id\":\"fa560181-c4b6-4c41-8459-4a3fabd0f671\",\"type\":\"CDSView\"},{\"attributes\":{\"line_alpha\":0.1,\"line_color\":\"#1f77b4\",\"line_dash\":[6],\"line_width\":5,\"x\":{\"field\":\"x\"},\"y\":{\"field\":\"y\"}},\"id\":\"5cfcdf5d-1f94-4b23-b36b-abd69a7ccdc6\",\"type\":\"Line\"},{\"attributes\":{\"line_color\":\"#4daf4a\",\"line_width\":1.5,\"x\":{\"field\":\"x\"},\"y\":{\"field\":\"y\"}},\"id\":\"428e1866-9424-4d45-9b29-7a3f59f58f60\",\"type\":\"Line\"},{\"attributes\":{\"line_alpha\":0.6,\"line_color\":\"#e41a1c\",\"line_dash\":[6],\"line_width\":5,\"x\":{\"field\":\"x\"},\"y\":{\"field\":\"y\"}},\"id\":\"cfa8b4b1-aa65-4914-9f20-c479857ffef3\",\"type\":\"Line\"},{\"attributes\":{\"callback\":null,\"column_names\":[\"x\",\"y\"],\"data\":{\"x\":{\"__ndarray__\":\"8ZOAf620Sz8NravujrdMP8/scxEOzk4/a9hPE2V9UD86yMA7aptRP1+NXgwowVI//J74Fr7uUz+E5DCbDyZVP1MSvmX8ZVY/Tc51ll+sVz9Y8tW7WvVYP9o11heeN1o/CHsO+TmbWz8HIB53n2NdP24CrAdGD2I/YPWdRXy2aT/bCoQ+MI5yP836jgeSunk/d1+gBF1GgT8fwQ9irqeGP14mbJMGKo0/goFrsK8Okj/N7LXrtyqTP2CZEUTfkpE/6S0hDg1Njj+Th31aPp+IP3zEtCmKh4M/uLfMVVaufj8glog+/uF3P36OLpSAcXI/N4cLZ484bD8aQ6bXvzJlPwlZ3P8T5F4/gzEHrH38VD/DM3HOtndDP4PNlnEUawu/uARTzRNpNr/hUP4XatQnv8qKxaiNvjY/wXOBKFZDUj9dZk7SNWtnPzBbVemKZII/3yJ+CuYelT/awEtqnhCjP55h4vbuFa0/aiYIKKo8tD+/ypWsn6a6P88roLOnZcA/vyTfbeFvwj9BHI38uAjFP/R6WBeEUcg/L8DYDskTzD/1yyN+k/zPP/0hDOJw6tE/GT7/LlTf0z9zHNjDFt/VP4LNeNxp5dc/ceJqzcrd2T9C08Tp2qPbP/cEuvLcLN0/yLSiIONo3j9iBGAn0kLfP98xvklcnd8/oRTZjY6W4D91YWdvZ3XgP3oX1NAXYN8/I0oatR4M3T+6Pz9/am3ZP0oaR0pwLtY/xkDaBEOU0z/ThcpzLHXRP20r9SLei88/TOXDODYgzT/Qll29AhjMP5ZDsHDil9A/\",\"dtype\":\"float64\",\"shape\":[75]},\"y\":{\"__ndarray__\":\"GhExyth1ND/Sv8nbtpRIP2vylNV0PVE/aTum7souWD/At0SJ8fVgPw3Iuahxymc/MSNhhJWvcD/bTfBN02d3P2zb5nxnaoA/CD5h5MAGhz8NmeH1TyaQP+zrCsc9p5Y/LbKd76fGnz/bLW5ISEmmPww9YvTcQq8/JV2OstnstT8Er5Y7M8G+P0c+r3jqkcU/5h99k6ZBzj88bCIzFzjVP4enV8oyxN0//yH99nXg5D8qOpLLf0jtP5kqGJXUifQ/c9cS8kHP/D+/DpwzojQEQIEmwoanVwxA4lgXt9HgE0BSSZ2AJuIbQAMJih9jjiNA5q4l5INuK0AwTKYKRj0zQNv5fmq8/DpAaCJseHrtQkB/+zpwzoxKQM3MzMzMeFJAZmZmZmZqWEAAAAAAAFxeQM3MzMzMJmJAmpmZmZkfZUBmZmZmZhhoQDMzMzMzEWtAAAAAAAAKbkBmZmZmZoFwQM3MzMzM/XFAMzMzMzN6c0CamZmZmfZ0QAAAAAAAc3ZAZmZmZmbvd0DNzMzMzGt5QDMzMzMz6HpAmpmZmZlkfEAAAAAAAOF9QGZmZmZmXX9AZmZmZuZsgECamZmZGSuBQM3MzMxM6YFAAAAAAICngkAzMzMzs2WDQGZmZmbmI4RAmpmZmRnihEDNzMzMTKCFQAAAAACAXoZAMzMzM7Mch0BmZmZm5tqHQJqZmZkZmYhAzczMzExXiUAAAAAAgBWKQDMzMzOz04pAZmZmZuaRi0CamZmZGVCMQM3MzMxMDo1AAAAAAIDMjUAzMzMzs4qOQGZmZmbmSI9A\",\"dtype\":\"float64\",\"shape\":[75]}}},\"id\":\"16462a94-1dd4-4273-b7f9-3a6df11eff0d\",\"type\":\"ColumnDataSource\"},{\"attributes\":{\"data_source\":{\"id\":\"f960ba7c-4e21-45ae-abd3-6abfe0c5e979\",\"type\":\"ColumnDataSource\"},\"glyph\":{\"id\":\"428e1866-9424-4d45-9b29-7a3f59f58f60\",\"type\":\"Line\"},\"hover_glyph\":null,\"muted_glyph\":null,\"nonselection_glyph\":{\"id\":\"5f05a355-30ad-4558-94c7-396cf2fc6ffd\",\"type\":\"Line\"},\"selection_glyph\":null,\"view\":{\"id\":\"6e8892e9-ae09-4112-8f95-23447e9a9b82\",\"type\":\"CDSView\"}},\"id\":\"93e6613a-bbbd-4cc1-88a7-aa4e353ed604\",\"type\":\"GlyphRenderer\"},{\"attributes\":{\"source\":{\"id\":\"eb79d17f-5302-4598-94ec-467c8a1c18ce\",\"type\":\"ColumnDataSource\"}},\"id\":\"dde62e4a-36b9-4298-a45d-f5dbfbbe12c6\",\"type\":\"CDSView\"},{\"attributes\":{\"source\":{\"id\":\"dd0cd297-d7c9-46eb-83f4-9ca1565915c0\",\"type\":\"ColumnDataSource\"}},\"id\":\"9cba70a3-c3b4-4f35-b6c5-38d2a1359a7a\",\"type\":\"CDSView\"},{\"attributes\":{\"source\":{\"id\":\"f960ba7c-4e21-45ae-abd3-6abfe0c5e979\",\"type\":\"ColumnDataSource\"}},\"id\":\"6e8892e9-ae09-4112-8f95-23447e9a9b82\",\"type\":\"CDSView\"},{\"attributes\":{\"label\":{\"value\":\"CRD\"},\"renderers\":[{\"id\":\"65fd0786-7dcf-4393-b703-a88ec0dd79e5\",\"type\":\"GlyphRenderer\"},{\"id\":\"93e6613a-bbbd-4cc1-88a7-aa4e353ed604\",\"type\":\"GlyphRenderer\"}]},\"id\":\"c510020f-6be2-413f-a012-d5806f877e61\",\"type\":\"LegendItem\"},{\"attributes\":{\"fill_alpha\":{\"value\":0.7},\"fill_color\":{\"value\":\"#984ea3\"},\"line_alpha\":{\"value\":0.7},\"line_color\":{\"value\":\"#984ea3\"},\"x\":{\"field\":\"x\"},\"y\":{\"field\":\"y\"}},\"id\":\"05c43383-ddef-49f1-9f72-36e12a29d65a\",\"type\":\"Square\"},{\"attributes\":{\"callback\":null,\"end\":0.020349434293300002,\"start\":-0.0005744676233000001},\"id\":\"21bc7ece-9086-493b-ba3a-b1f8f4768e93\",\"type\":\"Range1d\"},{\"attributes\":{\"line_alpha\":0.6,\"line_color\":\"#984ea3\",\"line_width\":3,\"x\":{\"field\":\"x\"},\"y\":{\"field\":\"y\"}},\"id\":\"8e339839-40ea-4b2b-a377-783f5969bcf0\",\"type\":\"Line\"},{\"attributes\":{\"line_alpha\":0.6,\"line_color\":\"#984ea3\",\"line_width\":3,\"x\":{\"field\":\"x\"},\"y\":{\"field\":\"y\"}},\"id\":\"7a48eb73-61dd-4e1b-a52f-e018db98b20c\",\"type\":\"Line\"},{\"attributes\":{\"source\":{\"id\":\"16462a94-1dd4-4273-b7f9-3a6df11eff0d\",\"type\":\"ColumnDataSource\"}},\"id\":\"ef05d83f-4760-4cd6-b831-78d71df0540b\",\"type\":\"CDSView\"},{\"attributes\":{\"label\":{\"value\":\"WGT igg=10 wgt_flux=2\"},\"renderers\":[{\"id\":\"39c0e45f-5992-49e2-9210-0a3fe07bc9b6\",\"type\":\"GlyphRenderer\"},{\"id\":\"328635e1-6797-4486-8fd2-e32ac74c3fec\",\"type\":\"GlyphRenderer\"}]},\"id\":\"c402954b-4d29-4a3b-9653-1fe284aa1a2d\",\"type\":\"LegendItem\"},{\"attributes\":{\"fill_alpha\":{\"value\":0.1},\"fill_color\":{\"value\":\"#1f77b4\"},\"line_alpha\":{\"value\":0.1},\"line_color\":{\"value\":\"#1f77b4\"},\"x\":{\"field\":\"x\"},\"y\":{\"field\":\"y\"}},\"id\":\"974d5864-0472-469a-b4a0-4a50ad7bfe42\",\"type\":\"Square\"},{\"attributes\":{\"data_source\":{\"id\":\"dd0cd297-d7c9-46eb-83f4-9ca1565915c0\",\"type\":\"ColumnDataSource\"},\"glyph\":{\"id\":\"05c43383-ddef-49f1-9f72-36e12a29d65a\",\"type\":\"Square\"},\"hover_glyph\":null,\"muted_glyph\":null,\"nonselection_glyph\":{\"id\":\"974d5864-0472-469a-b4a0-4a50ad7bfe42\",\"type\":\"Square\"},\"selection_glyph\":null,\"view\":{\"id\":\"9cba70a3-c3b4-4f35-b6c5-38d2a1359a7a\",\"type\":\"CDSView\"}},\"id\":\"39c0e45f-5992-49e2-9210-0a3fe07bc9b6\",\"type\":\"GlyphRenderer\"},{\"attributes\":{},\"id\":\"b5682845-6fb9-4056-afbb-479d77bd9a06\",\"type\":\"BasicTickFormatter\"},{\"attributes\":{\"label\":{\"value\":\"CLIRAD `coolr_bands`\"},\"renderers\":[{\"id\":\"7d0bafb6-0d82-4bd5-9be2-9e905944e25c\",\"type\":\"GlyphRenderer\"}]},\"id\":\"8b145786-3f77-4dcf-88a5-86bfd184d7e2\",\"type\":\"LegendItem\"},{\"attributes\":{\"items\":[{\"id\":\"8b145786-3f77-4dcf-88a5-86bfd184d7e2\",\"type\":\"LegendItem\"},{\"id\":\"c510020f-6be2-413f-a012-d5806f877e61\",\"type\":\"LegendItem\"},{\"id\":\"c402954b-4d29-4a3b-9653-1fe284aa1a2d\",\"type\":\"LegendItem\"}],\"label_text_font_size\":{\"value\":\"8pt\"},\"location\":[10,-30],\"plot\":{\"id\":\"7155a8d7-fbc5-4527-9958-f6f18887d92a\",\"subtype\":\"Figure\",\"type\":\"Plot\"}},\"id\":\"85e2fc1e-7aa0-46fa-aff1-e6b681d682eb\",\"type\":\"Legend\"},{\"attributes\":{},\"id\":\"cb850495-25be-4839-8b24-14eb47542275\",\"type\":\"ResetTool\"},{\"attributes\":{\"line_alpha\":0.1,\"line_color\":\"#1f77b4\",\"line_width\":3,\"x\":{\"field\":\"x\"},\"y\":{\"field\":\"y\"}},\"id\":\"be40be84-cbda-4805-a4e8-379e50879fa7\",\"type\":\"Line\"},{\"attributes\":{\"data_source\":{\"id\":\"16462a94-1dd4-4273-b7f9-3a6df11eff0d\",\"type\":\"ColumnDataSource\"},\"glyph\":{\"id\":\"7a48eb73-61dd-4e1b-a52f-e018db98b20c\",\"type\":\"Line\"},\"hover_glyph\":null,\"muted_glyph\":null,\"nonselection_glyph\":{\"id\":\"be40be84-cbda-4805-a4e8-379e50879fa7\",\"type\":\"Line\"},\"selection_glyph\":null,\"view\":{\"id\":\"ef05d83f-4760-4cd6-b831-78d71df0540b\",\"type\":\"CDSView\"}},\"id\":\"328635e1-6797-4486-8fd2-e32ac74c3fec\",\"type\":\"GlyphRenderer\"},{\"attributes\":{},\"id\":\"ccc644f1-d32c-4c58-82c7-185574c66227\",\"type\":\"LinearScale\"},{\"attributes\":{\"callback\":null,\"end\":0.01,\"start\":1020},\"id\":\"5d6b1743-8fb9-40af-a8ca-da42f80e92c4\",\"type\":\"Range1d\"},{\"attributes\":{\"children\":[{\"id\":\"723fab78-c334-4d9a-b67b-9e62d924986c\",\"type\":\"ToolbarBox\"},{\"id\":\"2c5d88a3-5bb1-4c34-9b92-3fae7dd6efe9\",\"type\":\"Column\"}]},\"id\":\"8d9f1cbc-2af7-4c3c-944e-159b5ced17bd\",\"type\":\"Column\"},{\"attributes\":{\"plot\":{\"id\":\"7155a8d7-fbc5-4527-9958-f6f18887d92a\",\"subtype\":\"Figure\",\"type\":\"Plot\"},\"ticker\":{\"id\":\"70392ff6-ccc9-4d5a-ad0a-ad1f9fd6e631\",\"type\":\"BasicTicker\"}},\"id\":\"951c63ab-335c-4913-b4ac-30c28e0e8f9a\",\"type\":\"Grid\"},{\"attributes\":{},\"id\":\"ee8a1ab3-353b-4bd7-9121-61795b43c196\",\"type\":\"SaveTool\"},{\"attributes\":{\"tools\":[{\"id\":\"7f13ddb8-3bf5-4395-ae22-a806287d540b\",\"type\":\"PanTool\"},{\"id\":\"e0aa79f8-798f-4c3f-a88a-21756884bcbb\",\"type\":\"WheelZoomTool\"},{\"id\":\"3179a847-4732-4484-811d-a67eefe24ac9\",\"type\":\"BoxZoomTool\"},{\"id\":\"5ffefd0c-af21-46d3-aaa3-b263216c7cb8\",\"type\":\"SaveTool\"},{\"id\":\"84650d9a-bd29-435b-8d45-cfd6e0a09ddb\",\"type\":\"ResetTool\"},{\"id\":\"23107591-178d-4ec7-9d33-6d03ac4928a3\",\"type\":\"HelpTool\"},{\"id\":\"08e6e220-a015-4062-aa33-f7fa9952391a\",\"type\":\"PanTool\"},{\"id\":\"21e35e91-3ed9-433b-b735-2c3504feae76\",\"type\":\"WheelZoomTool\"},{\"id\":\"205eba4c-f1b2-4d7f-aea3-895106b7a8d9\",\"type\":\"BoxZoomTool\"},{\"id\":\"ee8a1ab3-353b-4bd7-9121-61795b43c196\",\"type\":\"SaveTool\"},{\"id\":\"cb850495-25be-4839-8b24-14eb47542275\",\"type\":\"ResetTool\"},{\"id\":\"789686c3-0cae-4b20-823d-bfadeccba863\",\"type\":\"HelpTool\"}]},\"id\":\"c47c6543-b0aa-4d85-92ef-930e31701b34\",\"type\":\"ProxyToolbar\"},{\"attributes\":{\"callback\":null,\"end\":0.5554389725133,\"start\":-0.0058723838433},\"id\":\"e871784e-5d82-45b5-8ca4-8457e73de311\",\"type\":\"Range1d\"},{\"attributes\":{\"overlay\":{\"id\":\"c72ac5a5-6767-4867-859a-b957328add4f\",\"type\":\"BoxAnnotation\"}},\"id\":\"205eba4c-f1b2-4d7f-aea3-895106b7a8d9\",\"type\":\"BoxZoomTool\"},{\"attributes\":{},\"id\":\"21e35e91-3ed9-433b-b735-2c3504feae76\",\"type\":\"WheelZoomTool\"},{\"attributes\":{\"line_alpha\":0.1,\"line_color\":\"#1f77b4\",\"line_width\":3,\"x\":{\"field\":\"x\"},\"y\":{\"field\":\"y\"}},\"id\":\"70bb51fd-7535-48d1-b300-27e88e3269d5\",\"type\":\"Line\"},{\"attributes\":{},\"id\":\"b832980b-31bd-44fa-884e-ffe55d6c618e\",\"type\":\"LogScale\"},{\"attributes\":{\"line_alpha\":0.1,\"line_color\":\"#1f77b4\",\"line_width\":1.5,\"x\":{\"field\":\"x\"},\"y\":{\"field\":\"y\"}},\"id\":\"35eb4eb3-a64d-4753-bcd5-730619d683c9\",\"type\":\"Line\"},{\"attributes\":{\"line_color\":\"#4daf4a\",\"line_width\":1.5,\"x\":{\"field\":\"x\"},\"y\":{\"field\":\"y\"}},\"id\":\"b49f6df9-18ef-489a-8b46-97c4fea30337\",\"type\":\"Line\"},{\"attributes\":{\"children\":[{\"id\":\"def299a1-ad56-47f2-b0b2-5b66d7039836\",\"subtype\":\"Figure\",\"type\":\"Plot\"},{\"id\":\"7155a8d7-fbc5-4527-9958-f6f18887d92a\",\"subtype\":\"Figure\",\"type\":\"Plot\"}]},\"id\":\"9cdece4f-40b2-4769-93f9-dc0dc4ac8958\",\"type\":\"Row\"},{\"attributes\":{\"fill_alpha\":{\"value\":0.1},\"fill_color\":{\"value\":\"#1f77b4\"},\"line_alpha\":{\"value\":0.1},\"line_color\":{\"value\":\"#1f77b4\"},\"x\":{\"field\":\"x\"},\"y\":{\"field\":\"y\"}},\"id\":\"62213180-b472-4f6f-8394-f320748e90c2\",\"type\":\"Circle\"},{\"attributes\":{\"axis_label\":\"pressure [mb]\",\"formatter\":{\"id\":\"0a12ad1b-7941-4cba-bf20-e8ef78f745d5\",\"type\":\"BasicTickFormatter\"},\"plot\":{\"id\":\"def299a1-ad56-47f2-b0b2-5b66d7039836\",\"subtype\":\"Figure\",\"type\":\"Plot\"},\"ticker\":{\"id\":\"9aee18aa-8f6b-44a7-b174-555d02ed5822\",\"type\":\"BasicTicker\"}},\"id\":\"6f18a47a-288c-4890-830f-568003b3ce5e\",\"type\":\"LinearAxis\"},{\"attributes\":{},\"id\":\"0a12ad1b-7941-4cba-bf20-e8ef78f745d5\",\"type\":\"BasicTickFormatter\"},{\"attributes\":{\"fill_alpha\":{\"value\":0.7},\"fill_color\":{\"value\":\"#984ea3\"},\"line_alpha\":{\"value\":0.7},\"line_color\":{\"value\":\"#984ea3\"},\"x\":{\"field\":\"x\"},\"y\":{\"field\":\"y\"}},\"id\":\"48afd7d8-378e-4864-ae60-60ded96c3988\",\"type\":\"Square\"},{\"attributes\":{\"callback\":null,\"column_names\":[\"x\",\"y\"],\"data\":{\"x\":{\"__ndarray__\":\"mRoZilFVRT9IfMRnHGtGP+hQhGBOukg/0XT4Nh8jSz8nzBZxg59NP923NfrpFFA/esN1vK1jUT81ezuhErlSPwL2KfQuGFQ/AYABEyiBVT/YDb136+tWP/o/gRsUUlg/06X+f/WfWT9fl305HGZbPytc8BAoVWE/no9wakD1aT8Cd/or5lNzPzj9+AqUTXs/xFyV9tSSgj+XgMq+TJCIP4N+ICXowo8/saEImrCskz8PinH0tKCUPyE020Uzd5I/nkfZ4wT0jj8gU+u7KmmIP/a20Wsw54I/PhJD6q5XfT+JRk7aKO92Pw6B2TwLFHI/AChOUDSfbD/iGJCYPIBmPyzq59vvQWE/9c8x8kLSWD9kn+WFoW5JP7o2OCQIjQg/xVLW+7KNM78UsrLKT6wiv4LvzqG0IDs/zVNt3SzqUz8OQIfWms9oP1IO5m5Q7YI/JsSebocjlT/EfYZlo9uiP0z2/Qts5Kw/TvkSVbgYtD+v2Jkh2Uy6P/mk0ezTVMA/iszYp07Nwj/fqmcYqb3FP4hFTldeD8k/mHlAE0C1zD8DWj67EVDQP89i7+YlVtI/K3Tzx5No1D8InJ3z8HHWP+XIsZLiZdg/zn+8FZE62j9Mowvi6t3bP01pmgNGT90/enGgj0t/3j9EVel65EffP7zXQQwRg98/uWpDan9s4D+OnQmwPCbgP4GDrF3JhN4/Cbw4lhwc3D9YGhlg9p3YPzJKwH1Xo9U/QFamTvZF0z91p+CVyVXRP19lyAyvf88/i2shbYgWzT+Puikn0uTLP1hxDeDrc9A/\",\"dtype\":\"float64\",\"shape\":[75]},\"y\":{\"__ndarray__\":\"GhExyth1ND/Sv8nbtpRIP2vylNV0PVE/aTum7souWD/At0SJ8fVgPw3Iuahxymc/MSNhhJWvcD/bTfBN02d3P2zb5nxnaoA/CD5h5MAGhz8NmeH1TyaQP+zrCsc9p5Y/LbKd76fGnz/bLW5ISEmmPww9YvTcQq8/JV2OstnstT8Er5Y7M8G+P0c+r3jqkcU/5h99k6ZBzj88bCIzFzjVP4enV8oyxN0//yH99nXg5D8qOpLLf0jtP5kqGJXUifQ/c9cS8kHP/D+/DpwzojQEQIEmwoanVwxA4lgXt9HgE0BSSZ2AJuIbQAMJih9jjiNA5q4l5INuK0AwTKYKRj0zQNv5fmq8/DpAaCJseHrtQkB/+zpwzoxKQM3MzMzMeFJAZmZmZmZqWEAAAAAAAFxeQM3MzMzMJmJAmpmZmZkfZUBmZmZmZhhoQDMzMzMzEWtAAAAAAAAKbkBmZmZmZoFwQM3MzMzM/XFAMzMzMzN6c0CamZmZmfZ0QAAAAAAAc3ZAZmZmZmbvd0DNzMzMzGt5QDMzMzMz6HpAmpmZmZlkfEAAAAAAAOF9QGZmZmZmXX9AZmZmZuZsgECamZmZGSuBQM3MzMxM6YFAAAAAAICngkAzMzMzs2WDQGZmZmbmI4RAmpmZmRnihEDNzMzMTKCFQAAAAACAXoZAMzMzM7Mch0BmZmZm5tqHQJqZmZkZmYhAzczMzExXiUAAAAAAgBWKQDMzMzOz04pAZmZmZuaRi0CamZmZGVCMQM3MzMxMDo1AAAAAAIDMjUAzMzMzs4qOQGZmZmbmSI9A\",\"dtype\":\"float64\",\"shape\":[75]}}},\"id\":\"d87eb2e0-8ffb-4047-b315-26ca7ecb99d4\",\"type\":\"ColumnDataSource\"},{\"attributes\":{\"active_drag\":\"auto\",\"active_inspect\":\"auto\",\"active_scroll\":\"auto\",\"active_tap\":\"auto\",\"tools\":[{\"id\":\"7f13ddb8-3bf5-4395-ae22-a806287d540b\",\"type\":\"PanTool\"},{\"id\":\"e0aa79f8-798f-4c3f-a88a-21756884bcbb\",\"type\":\"WheelZoomTool\"},{\"id\":\"3179a847-4732-4484-811d-a67eefe24ac9\",\"type\":\"BoxZoomTool\"},{\"id\":\"5ffefd0c-af21-46d3-aaa3-b263216c7cb8\",\"type\":\"SaveTool\"},{\"id\":\"84650d9a-bd29-435b-8d45-cfd6e0a09ddb\",\"type\":\"ResetTool\"},{\"id\":\"23107591-178d-4ec7-9d33-6d03ac4928a3\",\"type\":\"HelpTool\"}]},\"id\":\"e851325d-89a8-4fa7-bb9c-8e409ae9e129\",\"type\":\"Toolbar\"},{\"attributes\":{},\"id\":\"7f13ddb8-3bf5-4395-ae22-a806287d540b\",\"type\":\"PanTool\"},{\"attributes\":{\"num_minor_ticks\":10},\"id\":\"68bff62a-9fb5-4fd7-b6d8-94e4b6532fdd\",\"type\":\"LogTicker\"},{\"attributes\":{\"axis_label\":\"pressure [mb]\",\"formatter\":{\"id\":\"abf9c09b-57d9-46bc-9295-d0806ae03eb3\",\"type\":\"LogTickFormatter\"},\"plot\":{\"id\":\"7155a8d7-fbc5-4527-9958-f6f18887d92a\",\"subtype\":\"Figure\",\"type\":\"Plot\"},\"ticker\":{\"id\":\"68bff62a-9fb5-4fd7-b6d8-94e4b6532fdd\",\"type\":\"LogTicker\"}},\"id\":\"830bf976-aab5-46a0-aebb-42836fe371e0\",\"type\":\"LogAxis\"},{\"attributes\":{\"source\":{\"id\":\"d87eb2e0-8ffb-4047-b315-26ca7ecb99d4\",\"type\":\"ColumnDataSource\"}},\"id\":\"3b0cc402-de84-4c63-882e-10c34103a6b1\",\"type\":\"CDSView\"},{\"attributes\":{},\"id\":\"217cde5f-73fd-4607-a400-e60b40256bd1\",\"type\":\"LinearScale\"},{\"attributes\":{\"callback\":null,\"column_names\":[\"x\",\"y\"],\"data\":{\"x\":{\"__ndarray__\":\"8ZOAf620Sz8NravujrdMP8/scxEOzk4/a9hPE2V9UD86yMA7aptRP1+NXgwowVI//J74Fr7uUz+E5DCbDyZVP1MSvmX8ZVY/Tc51ll+sVz9Y8tW7WvVYP9o11heeN1o/CHsO+TmbWz8HIB53n2NdP24CrAdGD2I/YPWdRXy2aT/bCoQ+MI5yP836jgeSunk/d1+gBF1GgT8fwQ9irqeGP14mbJMGKo0/goFrsK8Okj/N7LXrtyqTP2CZEUTfkpE/6S0hDg1Njj+Th31aPp+IP3zEtCmKh4M/uLfMVVaufj8glog+/uF3P36OLpSAcXI/N4cLZ484bD8aQ6bXvzJlPwlZ3P8T5F4/gzEHrH38VD/DM3HOtndDP4PNlnEUawu/uARTzRNpNr/hUP4XatQnv8qKxaiNvjY/wXOBKFZDUj9dZk7SNWtnPzBbVemKZII/3yJ+CuYelT/awEtqnhCjP55h4vbuFa0/aiYIKKo8tD+/ypWsn6a6P88roLOnZcA/vyTfbeFvwj9BHI38uAjFP/R6WBeEUcg/L8DYDskTzD/1yyN+k/zPP/0hDOJw6tE/GT7/LlTf0z9zHNjDFt/VP4LNeNxp5dc/ceJqzcrd2T9C08Tp2qPbP/cEuvLcLN0/yLSiIONo3j9iBGAn0kLfP98xvklcnd8/oRTZjY6W4D91YWdvZ3XgP3oX1NAXYN8/I0oatR4M3T+6Pz9/am3ZP0oaR0pwLtY/xkDaBEOU0z/ThcpzLHXRP20r9SLei88/TOXDODYgzT/Qll29AhjMP5ZDsHDil9A/\",\"dtype\":\"float64\",\"shape\":[75]},\"y\":{\"__ndarray__\":\"GhExyth1ND/Sv8nbtpRIP2vylNV0PVE/aTum7souWD/At0SJ8fVgPw3Iuahxymc/MSNhhJWvcD/bTfBN02d3P2zb5nxnaoA/CD5h5MAGhz8NmeH1TyaQP+zrCsc9p5Y/LbKd76fGnz/bLW5ISEmmPww9YvTcQq8/JV2OstnstT8Er5Y7M8G+P0c+r3jqkcU/5h99k6ZBzj88bCIzFzjVP4enV8oyxN0//yH99nXg5D8qOpLLf0jtP5kqGJXUifQ/c9cS8kHP/D+/DpwzojQEQIEmwoanVwxA4lgXt9HgE0BSSZ2AJuIbQAMJih9jjiNA5q4l5INuK0AwTKYKRj0zQNv5fmq8/DpAaCJseHrtQkB/+zpwzoxKQM3MzMzMeFJAZmZmZmZqWEAAAAAAAFxeQM3MzMzMJmJAmpmZmZkfZUBmZmZmZhhoQDMzMzMzEWtAAAAAAAAKbkBmZmZmZoFwQM3MzMzM/XFAMzMzMzN6c0CamZmZmfZ0QAAAAAAAc3ZAZmZmZmbvd0DNzMzMzGt5QDMzMzMz6HpAmpmZmZlkfEAAAAAAAOF9QGZmZmZmXX9AZmZmZuZsgECamZmZGSuBQM3MzMxM6YFAAAAAAICngkAzMzMzs2WDQGZmZmbmI4RAmpmZmRnihEDNzMzMTKCFQAAAAACAXoZAMzMzM7Mch0BmZmZm5tqHQJqZmZkZmYhAzczMzExXiUAAAAAAgBWKQDMzMzOz04pAZmZmZuaRi0CamZmZGVCMQM3MzMxMDo1AAAAAAIDMjUAzMzMzs4qOQGZmZmbmSI9A\",\"dtype\":\"float64\",\"shape\":[75]}}},\"id\":\"b610280a-6307-48e3-acef-f86496e913b9\",\"type\":\"ColumnDataSource\"},{\"attributes\":{\"plot\":{\"id\":\"def299a1-ad56-47f2-b0b2-5b66d7039836\",\"subtype\":\"Figure\",\"type\":\"Plot\"},\"ticker\":{\"id\":\"82e595e4-0f72-4fc7-89d0-960bf6004037\",\"type\":\"BasicTicker\"}},\"id\":\"f8ae1efe-c267-4055-9dec-6573ba8e587c\",\"type\":\"Grid\"},{\"attributes\":{\"bottom_units\":\"screen\",\"fill_alpha\":{\"value\":0.5},\"fill_color\":{\"value\":\"lightgrey\"},\"left_units\":\"screen\",\"level\":\"overlay\",\"line_alpha\":{\"value\":1.0},\"line_color\":{\"value\":\"black\"},\"line_dash\":[4,4],\"line_width\":{\"value\":2},\"plot\":null,\"render_mode\":\"css\",\"right_units\":\"screen\",\"top_units\":\"screen\"},\"id\":\"3eab1642-cc77-470a-bb7d-a674cf7f0cd9\",\"type\":\"BoxAnnotation\"},{\"attributes\":{},\"id\":\"23107591-178d-4ec7-9d33-6d03ac4928a3\",\"type\":\"HelpTool\"},{\"attributes\":{},\"id\":\"82e595e4-0f72-4fc7-89d0-960bf6004037\",\"type\":\"BasicTicker\"},{\"attributes\":{},\"id\":\"84650d9a-bd29-435b-8d45-cfd6e0a09ddb\",\"type\":\"ResetTool\"},{\"attributes\":{},\"id\":\"9aee18aa-8f6b-44a7-b174-555d02ed5822\",\"type\":\"BasicTicker\"},{\"attributes\":{},\"id\":\"5ffefd0c-af21-46d3-aaa3-b263216c7cb8\",\"type\":\"SaveTool\"},{\"attributes\":{\"data_source\":{\"id\":\"b154b721-5315-4e2c-a07b-b549664b443b\",\"type\":\"ColumnDataSource\"},\"glyph\":{\"id\":\"b1eb9b65-7378-4b35-9978-bb582aebeeb6\",\"type\":\"Circle\"},\"hover_glyph\":null,\"muted_glyph\":null,\"nonselection_glyph\":{\"id\":\"62213180-b472-4f6f-8394-f320748e90c2\",\"type\":\"Circle\"},\"selection_glyph\":null,\"view\":{\"id\":\"0a71fff7-700d-44b8-b681-0f07c95e9d3f\",\"type\":\"CDSView\"}},\"id\":\"9b5945a4-b934-40da-b851-879c4911813c\",\"type\":\"GlyphRenderer\"},{\"attributes\":{\"fill_alpha\":{\"value\":0.1},\"fill_color\":{\"value\":\"#1f77b4\"},\"line_alpha\":{\"value\":0.1},\"line_color\":{\"value\":\"#1f77b4\"},\"x\":{\"field\":\"x\"},\"y\":{\"field\":\"y\"}},\"id\":\"7fd33d6c-6adb-4310-a753-8a575d17e13a\",\"type\":\"Square\"},{\"attributes\":{\"callback\":null,\"column_names\":[\"x\",\"y\"],\"data\":{\"x\":{\"__ndarray__\":\"Y0eHKQicUD9JZRaa1QZRP5NDU1THM1I/aJR29/xIUz8zbWeuv2RUP2efNg9Ih1U/7cS9HvmvVj+zS3LFZ+BXP5mLtcS1Flk/9ejtVu1WWj/hGG2JKKNbP1kIOO5X9Fw/7PFQiWNMXj8P2jHJVgRgP6oQXh1xWGM/Nt2FwnQVaz+ThEoBxSZzP/GPoPN4LHo/Z1XQ4LJrgT8aolvGhbeGP2J7i1m/MY0/3LZSfDomkj/h24QTgmmTP51Av4y1AZI/NzaMmXxnjz/gdG+eGsqJP4PqTMW5koQ/1J97WrcdgD9SGp+9Qrx4P8XCINLulXI/VRJqIeBLaz8TAbmK5n1jP+WgFEX5llo/BLcwulx+UD8TCFVFyfw4P8XXuE5q7CO//0PW+1k0OL/8H2XbzS8uvzfvS7vp9ig/7BmeVcbvST/PXcq1s7NhPwVwfRidTH0/9oH4gSq8kT/gCakaPpugPxuV+Rmnuak/YrtnnAcpsj9a1/bj56C4P/KU1XQ90b4/Uvmuc5k7wT+H53zjMaTDPycNXol6IMc/YQSmNuVIyz8KNzLyJn3PPwMmT92Fu9E/Q5wceJTO0z/IkIxqS/zVP5NRZRh3Q9g//dCz9sp+2j8dPRtFGHfcP28zkantLN4/P+Hs1jKZ3z8Tb3QAilLgP8yEuqNan+A/JnbpNhOZ4T+ycrvZF5fhP7ad+GLWyOA/ShyBkfrf3j86HyJebJTaP0qS72uHs9Y/+jwt3EWa0z8NS4d3Ti3RP8liD6tHs84/LE2E7EBGzD8rQtqUZWfLP19mM+JdSdA/\",\"dtype\":\"float64\",\"shape\":[75]},\"y\":{\"__ndarray__\":\"S/O/Q+51ND/Sv8nbtpRIP2vylNV0PVE/aTum7souWD/At0SJ8fVgPw3Iuahxymc/MSNhhJWvcD/bTfBN02d3P2zb5nxnaoA/CD5h5MAGhz8NmeH1TyaQP+zrCsc9p5Y/LbKd76fGnz/bLW5ISEmmPww9YvTcQq8/JV2OstnstT8Er5Y7M8G+P0c+r3jqkcU/5h99k6ZBzj88bCIzFzjVP4enV8oyxN0//yH99nXg5D8qOpLLf0jtP5kqGJXUifQ/c9cS8kHP/D+/DpwzojQEQIEmwoanVwxA4lgXt9HgE0BSSZ2AJuIbQAMJih9jjiNA5q4l5INuK0AwTKYKRj0zQNv5fmq8/DpAaCJseHrtQkB/+zpwzoxKQM3MzMzMeFJAZmZmZmZqWEAAAAAAAFxeQM3MzMzMJmJAmpmZmZkfZUBmZmZmZhhoQDMzMzMzEWtAAAAAAAAKbkBmZmZmZoFwQM3MzMzM/XFAMzMzMzN6c0CamZmZmfZ0QAAAAAAAc3ZAZmZmZmbvd0DNzMzMzGt5QDMzMzMz6HpAmpmZmZlkfEAAAAAAAOF9QGZmZmZmXX9AZmZmZuZsgECamZmZGSuBQM3MzMxM6YFAAAAAAICngkAzMzMzs2WDQGZmZmbmI4RAmpmZmRnihEDNzMzMTKCFQAAAAACAXoZAMzMzM7Mch0BmZmZm5tqHQJqZmZkZmYhAzczMzExXiUAAAAAAgBWKQDMzMzOz04pAZmZmZuaRi0CamZmZGVCMQM3MzMxMDo1AAAAAAIDMjUAzMzMzs4qOQGZmZmbmSI9A\",\"dtype\":\"float64\",\"shape\":[75]}}},\"id\":\"eb79d17f-5302-4598-94ec-467c8a1c18ce\",\"type\":\"ColumnDataSource\"},{\"attributes\":{\"below\":[{\"id\":\"7109b5af-fb80-4e5c-929d-37044403365e\",\"type\":\"LinearAxis\"}],\"left\":[{\"id\":\"6f18a47a-288c-4890-830f-568003b3ce5e\",\"type\":\"LinearAxis\"}],\"plot_height\":500,\"plot_width\":400,\"renderers\":[{\"id\":\"7109b5af-fb80-4e5c-929d-37044403365e\",\"type\":\"LinearAxis\"},{\"id\":\"f8ae1efe-c267-4055-9dec-6573ba8e587c\",\"type\":\"Grid\"},{\"id\":\"6f18a47a-288c-4890-830f-568003b3ce5e\",\"type\":\"LinearAxis\"},{\"id\":\"560b2b30-44f7-4035-a2f6-27cd5ed9a182\",\"type\":\"Grid\"},{\"id\":\"3eab1642-cc77-470a-bb7d-a674cf7f0cd9\",\"type\":\"BoxAnnotation\"},{\"id\":\"0a10b387-2fe7-421d-8288-c6edc46966b9\",\"type\":\"GlyphRenderer\"},{\"id\":\"9b5945a4-b934-40da-b851-879c4911813c\",\"type\":\"GlyphRenderer\"},{\"id\":\"ee54d71a-7174-482e-95de-4d69ce140be2\",\"type\":\"GlyphRenderer\"},{\"id\":\"d039ad07-0753-4f14-80dc-4045f3478332\",\"type\":\"GlyphRenderer\"},{\"id\":\"cf2550eb-27d1-4a51-b415-4f7532422052\",\"type\":\"GlyphRenderer\"}],\"title\":{\"id\":\"929168a8-fcae-4ac2-840b-ae0112a59988\",\"type\":\"Title\"},\"toolbar\":{\"id\":\"e851325d-89a8-4fa7-bb9c-8e409ae9e129\",\"type\":\"Toolbar\"},\"toolbar_location\":null,\"x_range\":{\"id\":\"e871784e-5d82-45b5-8ca4-8457e73de311\",\"type\":\"Range1d\"},\"x_scale\":{\"id\":\"7f30d1ba-aee3-4938-a99e-60c9377dd3cb\",\"type\":\"LinearScale\"},\"y_range\":{\"id\":\"085fa5f5-7479-44c4-9aa2-530514f9da4d\",\"type\":\"Range1d\"},\"y_scale\":{\"id\":\"217cde5f-73fd-4607-a400-e60b40256bd1\",\"type\":\"LinearScale\"}},\"id\":\"def299a1-ad56-47f2-b0b2-5b66d7039836\",\"subtype\":\"Figure\",\"type\":\"Plot\"},{\"attributes\":{\"data_source\":{\"id\":\"b610280a-6307-48e3-acef-f86496e913b9\",\"type\":\"ColumnDataSource\"},\"glyph\":{\"id\":\"48afd7d8-378e-4864-ae60-60ded96c3988\",\"type\":\"Square\"},\"hover_glyph\":null,\"muted_glyph\":null,\"nonselection_glyph\":{\"id\":\"7fd33d6c-6adb-4310-a753-8a575d17e13a\",\"type\":\"Square\"},\"selection_glyph\":null,\"view\":{\"id\":\"fa560181-c4b6-4c41-8459-4a3fabd0f671\",\"type\":\"CDSView\"}},\"id\":\"d039ad07-0753-4f14-80dc-4045f3478332\",\"type\":\"GlyphRenderer\"},{\"attributes\":{\"axis_label\":\"cooling rate [K/day]\",\"formatter\":{\"id\":\"b5682845-6fb9-4056-afbb-479d77bd9a06\",\"type\":\"BasicTickFormatter\"},\"plot\":{\"id\":\"def299a1-ad56-47f2-b0b2-5b66d7039836\",\"subtype\":\"Figure\",\"type\":\"Plot\"},\"ticker\":{\"id\":\"82e595e4-0f72-4fc7-89d0-960bf6004037\",\"type\":\"BasicTicker\"}},\"id\":\"7109b5af-fb80-4e5c-929d-37044403365e\",\"type\":\"LinearAxis\"},{\"attributes\":{\"line_alpha\":0.6,\"line_color\":\"#e41a1c\",\"line_dash\":[6],\"line_width\":5,\"x\":{\"field\":\"x\"},\"y\":{\"field\":\"y\"}},\"id\":\"b9115335-bbe7-43ee-803f-bc96cc64c796\",\"type\":\"Line\"},{\"attributes\":{\"data_source\":{\"id\":\"d87eb2e0-8ffb-4047-b315-26ca7ecb99d4\",\"type\":\"ColumnDataSource\"},\"glyph\":{\"id\":\"b49f6df9-18ef-489a-8b46-97c4fea30337\",\"type\":\"Line\"},\"hover_glyph\":null,\"muted_glyph\":null,\"nonselection_glyph\":{\"id\":\"35eb4eb3-a64d-4753-bcd5-730619d683c9\",\"type\":\"Line\"},\"selection_glyph\":null,\"view\":{\"id\":\"3b0cc402-de84-4c63-882e-10c34103a6b1\",\"type\":\"CDSView\"}},\"id\":\"ee54d71a-7174-482e-95de-4d69ce140be2\",\"type\":\"GlyphRenderer\"},{\"attributes\":{\"source\":{\"id\":\"b154b721-5315-4e2c-a07b-b549664b443b\",\"type\":\"ColumnDataSource\"}},\"id\":\"0a71fff7-700d-44b8-b681-0f07c95e9d3f\",\"type\":\"CDSView\"},{\"attributes\":{\"dimension\":1,\"plot\":{\"id\":\"def299a1-ad56-47f2-b0b2-5b66d7039836\",\"subtype\":\"Figure\",\"type\":\"Plot\"},\"ticker\":{\"id\":\"9aee18aa-8f6b-44a7-b174-555d02ed5822\",\"type\":\"BasicTicker\"}},\"id\":\"560b2b30-44f7-4035-a2f6-27cd5ed9a182\",\"type\":\"Grid\"},{\"attributes\":{},\"id\":\"7f30d1ba-aee3-4938-a99e-60c9377dd3cb\",\"type\":\"LinearScale\"},{\"attributes\":{\"line_alpha\":0.1,\"line_color\":\"#1f77b4\",\"line_dash\":[6],\"line_width\":5,\"x\":{\"field\":\"x\"},\"y\":{\"field\":\"y\"}},\"id\":\"08264ca1-9b95-4070-a1ae-043681d4ff6f\",\"type\":\"Line\"},{\"attributes\":{\"callback\":null,\"end\":0.01,\"start\":1020},\"id\":\"085fa5f5-7479-44c4-9aa2-530514f9da4d\",\"type\":\"Range1d\"},{\"attributes\":{\"plot\":null,\"text\":\"Linear pressure scale\"},\"id\":\"929168a8-fcae-4ac2-840b-ae0112a59988\",\"type\":\"Title\"}],\"root_ids\":[\"8d9f1cbc-2af7-4c3c-944e-159b5ced17bd\"]},\"title\":\"Bokeh Application\",\"version\":\"0.12.14\"}};\n",
       "  var render_items = [{\"docid\":\"d0ec322e-e5af-4111-99e9-1df08246b789\",\"elementid\":\"8208d678-1e73-4095-9194-d8262f0dd7c7\",\"modelid\":\"8d9f1cbc-2af7-4c3c-944e-159b5ced17bd\"}];\n",
       "  root.Bokeh.embed.embed_items_notebook(docs_json, render_items);\n",
       "\n",
       "  }\n",
       "  if (root.Bokeh !== undefined) {\n",
       "    embed_document(root);\n",
       "  } else {\n",
       "    var attempts = 0;\n",
       "    var timer = setInterval(function(root) {\n",
       "      if (root.Bokeh !== undefined) {\n",
       "        embed_document(root);\n",
       "        clearInterval(timer);\n",
       "      }\n",
       "      attempts++;\n",
       "      if (attempts > 100) {\n",
       "        console.log(\"Bokeh: ERROR: Unable to run BokehJS code because BokehJS library is missing\")\n",
       "        clearInterval(timer);\n",
       "      }\n",
       "    }, 10, root)\n",
       "  }\n",
       "})(window);"
      ],
      "application/vnd.bokehjs_exec.v0+json": ""
     },
     "metadata": {
      "application/vnd.bokehjs_exec.v0+json": {
       "id": "8d9f1cbc-2af7-4c3c-944e-159b5ced17bd"
      }
     },
     "output_type": "display_data"
    },
    {
     "name": "stdout",
     "output_type": "stream",
     "text": [
      "FIGURE. Cooling rate profiles.\n"
     ]
    },
    {
     "data": {
      "text/html": [
       "<a id=\"Flux_Comparison\"></a>"
      ],
      "text/plain": [
       "<IPython.core.display.HTML object>"
      ]
     },
     "metadata": {},
     "output_type": "display_data"
    },
    {
     "data": {
      "text/markdown": [
       "# Flux Comparison"
      ],
      "text/plain": [
       "<IPython.core.display.Markdown object>"
      ]
     },
     "metadata": {},
     "output_type": "display_data"
    },
    {
     "data": {
      "text/html": [
       "<div>\n",
       "<style>\n",
       "    .dataframe thead tr:only-child th {\n",
       "        text-align: right;\n",
       "    }\n",
       "\n",
       "    .dataframe thead th {\n",
       "        text-align: left;\n",
       "    }\n",
       "\n",
       "    .dataframe tbody tr th {\n",
       "        vertical-align: top;\n",
       "    }\n",
       "</style>\n",
       "<table border=\"1\" class=\"dataframe\">\n",
       "  <thead>\n",
       "    <tr style=\"text-align: right;\">\n",
       "      <th></th>\n",
       "      <th></th>\n",
       "      <th>flug</th>\n",
       "      <th>fldg</th>\n",
       "      <th>fnetg</th>\n",
       "    </tr>\n",
       "    <tr>\n",
       "      <th>pressure</th>\n",
       "      <th>level</th>\n",
       "      <th></th>\n",
       "      <th></th>\n",
       "      <th></th>\n",
       "    </tr>\n",
       "  </thead>\n",
       "  <tbody>\n",
       "    <tr>\n",
       "      <th>0.0000</th>\n",
       "      <th>1</th>\n",
       "      <td>-29.997328</td>\n",
       "      <td>0.000000</td>\n",
       "      <td>-29.997328</td>\n",
       "    </tr>\n",
       "    <tr>\n",
       "      <th>1.0685</th>\n",
       "      <th>24</th>\n",
       "      <td>-29.996963</td>\n",
       "      <td>0.001349</td>\n",
       "      <td>-29.995614</td>\n",
       "    </tr>\n",
       "    <tr>\n",
       "      <th>1013.0000</th>\n",
       "      <th>76</th>\n",
       "      <td>-38.491734</td>\n",
       "      <td>35.870686</td>\n",
       "      <td>-2.621049</td>\n",
       "    </tr>\n",
       "  </tbody>\n",
       "</table>\n",
       "</div>"
      ],
      "text/plain": [
       "                      flug       fldg      fnetg\n",
       "pressure  level                                 \n",
       "0.0000    1     -29.997328   0.000000 -29.997328\n",
       "1.0685    24    -29.996963   0.001349 -29.995614\n",
       "1013.0000 76    -38.491734  35.870686  -2.621049"
      ]
     },
     "metadata": {},
     "output_type": "display_data"
    },
    {
     "name": "stdout",
     "output_type": "stream",
     "text": [
      "Table. Fluxes. WGT igg=10 wgt_flux=1\n"
     ]
    },
    {
     "data": {
      "text/html": [
       "<div>\n",
       "<style>\n",
       "    .dataframe thead tr:only-child th {\n",
       "        text-align: right;\n",
       "    }\n",
       "\n",
       "    .dataframe thead th {\n",
       "        text-align: left;\n",
       "    }\n",
       "\n",
       "    .dataframe tbody tr th {\n",
       "        vertical-align: top;\n",
       "    }\n",
       "</style>\n",
       "<table border=\"1\" class=\"dataframe\">\n",
       "  <thead>\n",
       "    <tr style=\"text-align: right;\">\n",
       "      <th></th>\n",
       "      <th></th>\n",
       "      <th>flug</th>\n",
       "      <th>fldg</th>\n",
       "      <th>fnetg</th>\n",
       "    </tr>\n",
       "    <tr>\n",
       "      <th>pressure</th>\n",
       "      <th>level</th>\n",
       "      <th></th>\n",
       "      <th></th>\n",
       "      <th></th>\n",
       "    </tr>\n",
       "  </thead>\n",
       "  <tbody>\n",
       "    <tr>\n",
       "      <th>0.0000</th>\n",
       "      <th>1</th>\n",
       "      <td>-30.008535</td>\n",
       "      <td>0.000000</td>\n",
       "      <td>-30.008535</td>\n",
       "    </tr>\n",
       "    <tr>\n",
       "      <th>1.0685</th>\n",
       "      <th>24</th>\n",
       "      <td>-30.008217</td>\n",
       "      <td>0.001534</td>\n",
       "      <td>-30.006684</td>\n",
       "    </tr>\n",
       "    <tr>\n",
       "      <th>1013.0000</th>\n",
       "      <th>76</th>\n",
       "      <td>-38.491734</td>\n",
       "      <td>35.831583</td>\n",
       "      <td>-2.660152</td>\n",
       "    </tr>\n",
       "  </tbody>\n",
       "</table>\n",
       "</div>"
      ],
      "text/plain": [
       "                      flug       fldg      fnetg\n",
       "pressure  level                                 \n",
       "0.0000    1     -30.008535   0.000000 -30.008535\n",
       "1.0685    24    -30.008217   0.001534 -30.006684\n",
       "1013.0000 76    -38.491734  35.831583  -2.660152"
      ]
     },
     "metadata": {},
     "output_type": "display_data"
    },
    {
     "name": "stdout",
     "output_type": "stream",
     "text": [
      "Table. Fluxes. CRD\n"
     ]
    },
    {
     "data": {
      "text/html": [
       "<div>\n",
       "<style>\n",
       "    .dataframe thead tr:only-child th {\n",
       "        text-align: right;\n",
       "    }\n",
       "\n",
       "    .dataframe thead th {\n",
       "        text-align: left;\n",
       "    }\n",
       "\n",
       "    .dataframe tbody tr th {\n",
       "        vertical-align: top;\n",
       "    }\n",
       "</style>\n",
       "<table border=\"1\" class=\"dataframe\">\n",
       "  <thead>\n",
       "    <tr style=\"text-align: right;\">\n",
       "      <th></th>\n",
       "      <th></th>\n",
       "      <th>flug</th>\n",
       "      <th>fldg</th>\n",
       "      <th>fnetg</th>\n",
       "    </tr>\n",
       "    <tr>\n",
       "      <th>pressure</th>\n",
       "      <th>level</th>\n",
       "      <th></th>\n",
       "      <th></th>\n",
       "      <th></th>\n",
       "    </tr>\n",
       "  </thead>\n",
       "  <tbody>\n",
       "    <tr>\n",
       "      <th>1.000000e-08</th>\n",
       "      <th>1</th>\n",
       "      <td>-30.074835</td>\n",
       "      <td>0.000002</td>\n",
       "      <td>-30.074833</td>\n",
       "    </tr>\n",
       "    <tr>\n",
       "      <th>1.068500e+00</th>\n",
       "      <th>24</th>\n",
       "      <td>-30.074428</td>\n",
       "      <td>0.001325</td>\n",
       "      <td>-30.073103</td>\n",
       "    </tr>\n",
       "    <tr>\n",
       "      <th>1.013000e+03</th>\n",
       "      <th>76</th>\n",
       "      <td>-38.491730</td>\n",
       "      <td>36.231032</td>\n",
       "      <td>-2.260698</td>\n",
       "    </tr>\n",
       "  </tbody>\n",
       "</table>\n",
       "</div>"
      ],
      "text/plain": [
       "                         flug       fldg      fnetg\n",
       "pressure     level                                 \n",
       "1.000000e-08 1     -30.074835   0.000002 -30.074833\n",
       "1.068500e+00 24    -30.074428   0.001325 -30.073103\n",
       "1.013000e+03 76    -38.491730  36.231032  -2.260698"
      ]
     },
     "metadata": {},
     "output_type": "display_data"
    },
    {
     "name": "stdout",
     "output_type": "stream",
     "text": [
      "Table. Fluxes. CLIRAD\n"
     ]
    },
    {
     "data": {
      "text/html": [
       "<div>\n",
       "<style>\n",
       "    .dataframe thead tr:only-child th {\n",
       "        text-align: right;\n",
       "    }\n",
       "\n",
       "    .dataframe thead th {\n",
       "        text-align: left;\n",
       "    }\n",
       "\n",
       "    .dataframe tbody tr th {\n",
       "        vertical-align: top;\n",
       "    }\n",
       "</style>\n",
       "<table border=\"1\" class=\"dataframe\">\n",
       "  <thead>\n",
       "    <tr style=\"text-align: right;\">\n",
       "      <th></th>\n",
       "      <th></th>\n",
       "      <th>flug</th>\n",
       "      <th>fldg</th>\n",
       "      <th>fnetg</th>\n",
       "    </tr>\n",
       "    <tr>\n",
       "      <th>pressure</th>\n",
       "      <th>level</th>\n",
       "      <th></th>\n",
       "      <th></th>\n",
       "      <th></th>\n",
       "    </tr>\n",
       "  </thead>\n",
       "  <tbody>\n",
       "    <tr>\n",
       "      <th>0.0000</th>\n",
       "      <th>1</th>\n",
       "      <td>-1.120685e-02</td>\n",
       "      <td>0.000000</td>\n",
       "      <td>-0.011207</td>\n",
       "    </tr>\n",
       "    <tr>\n",
       "      <th>1.0685</th>\n",
       "      <th>24</th>\n",
       "      <td>-1.125435e-02</td>\n",
       "      <td>0.000185</td>\n",
       "      <td>-0.011070</td>\n",
       "    </tr>\n",
       "    <tr>\n",
       "      <th>1013.0000</th>\n",
       "      <th>76</th>\n",
       "      <td>-2.390000e-07</td>\n",
       "      <td>-0.039103</td>\n",
       "      <td>-0.039103</td>\n",
       "    </tr>\n",
       "  </tbody>\n",
       "</table>\n",
       "</div>"
      ],
      "text/plain": [
       "                         flug      fldg     fnetg\n",
       "pressure  level                                  \n",
       "0.0000    1     -1.120685e-02  0.000000 -0.011207\n",
       "1.0685    24    -1.125435e-02  0.000185 -0.011070\n",
       "1013.0000 76    -2.390000e-07 -0.039103 -0.039103"
      ]
     },
     "metadata": {},
     "output_type": "display_data"
    },
    {
     "name": "stdout",
     "output_type": "stream",
     "text": [
      "Table. Fluxes. (CRD) - (WGT igg=10 wgt_flux=1)\n"
     ]
    },
    {
     "data": {
      "text/html": [
       "<div>\n",
       "<style>\n",
       "    .dataframe thead tr:only-child th {\n",
       "        text-align: right;\n",
       "    }\n",
       "\n",
       "    .dataframe thead th {\n",
       "        text-align: left;\n",
       "    }\n",
       "\n",
       "    .dataframe tbody tr th {\n",
       "        vertical-align: top;\n",
       "    }\n",
       "</style>\n",
       "<table border=\"1\" class=\"dataframe\">\n",
       "  <thead>\n",
       "    <tr style=\"text-align: right;\">\n",
       "      <th></th>\n",
       "      <th></th>\n",
       "      <th>flug</th>\n",
       "      <th>fldg</th>\n",
       "      <th>fnetg</th>\n",
       "    </tr>\n",
       "    <tr>\n",
       "      <th>pressure</th>\n",
       "      <th>level</th>\n",
       "      <th></th>\n",
       "      <th></th>\n",
       "      <th></th>\n",
       "    </tr>\n",
       "  </thead>\n",
       "  <tbody>\n",
       "    <tr>\n",
       "      <th>0.0000</th>\n",
       "      <th>1</th>\n",
       "      <td>-0.077507</td>\n",
       "      <td>0.000002</td>\n",
       "      <td>-0.077505</td>\n",
       "    </tr>\n",
       "    <tr>\n",
       "      <th>1.0685</th>\n",
       "      <th>24</th>\n",
       "      <td>-0.077465</td>\n",
       "      <td>-0.000024</td>\n",
       "      <td>-0.077489</td>\n",
       "    </tr>\n",
       "    <tr>\n",
       "      <th>1013.0000</th>\n",
       "      <th>76</th>\n",
       "      <td>0.000004</td>\n",
       "      <td>0.360346</td>\n",
       "      <td>0.360351</td>\n",
       "    </tr>\n",
       "  </tbody>\n",
       "</table>\n",
       "</div>"
      ],
      "text/plain": [
       "                     flug      fldg     fnetg\n",
       "pressure  level                              \n",
       "0.0000    1     -0.077507  0.000002 -0.077505\n",
       "1.0685    24    -0.077465 -0.000024 -0.077489\n",
       "1013.0000 76     0.000004  0.360346  0.360351"
      ]
     },
     "metadata": {},
     "output_type": "display_data"
    },
    {
     "name": "stdout",
     "output_type": "stream",
     "text": [
      "Table. Fluxes. (CLIRAD) - (WGT igg=10 wgt_flux=1)\n"
     ]
    },
    {
     "data": {
      "text/html": [
       "<a id=\"Best-fit_Parameters\"></a>"
      ],
      "text/plain": [
       "<IPython.core.display.HTML object>"
      ]
     },
     "metadata": {},
     "output_type": "display_data"
    },
    {
     "data": {
      "text/markdown": [
       "# Best-fit Parameters"
      ],
      "text/plain": [
       "<IPython.core.display.Markdown object>"
      ]
     },
     "metadata": {},
     "output_type": "display_data"
    },
    {
     "name": "stdout",
     "output_type": "stream",
     "text": [
      "Best-fit values for each (gas, band)\n",
      "------------------------------------\n",
      "o h2o band3a\n",
      "  atmpro = mls\n",
      "  band = 3a\n",
      "  commitnumber = a06b618\n",
      "  conc = None\n",
      "  dv = 0.001\n",
      "  klin = 0\n",
      "  molecule = h2o\n",
      "  ng_adju = [0, 0]\n",
      "  ng_refs = [2, 6]\n",
      "  nv = 1000\n",
      "  option_compute_btable = 0\n",
      "  option_compute_ktable = 1\n",
      "  option_wgt_flux = 1\n",
      "  option_wgt_k = 1\n",
      "  ref_pts = [(10, 250), (600, 250)]\n",
      "  tsfc = 294\n",
      "  vmax = 620\n",
      "  vmin = 540\n",
      "  w_diffuse = [(1.9, 1.7), (1.4, 1.4, 1.4, 1.55, 1.6, 1.66)]\n",
      "  wgt = [(0.7, 0.7), (0.7, 0.5, 0.5, 0.5, 0.5, 0.5)]\n"
     ]
    }
   ],
   "source": [
    "script()"
   ]
  },
  {
   "cell_type": "code",
   "execution_count": 13,
   "metadata": {
    "collapsed": true
   },
   "outputs": [
    {
     "data": {
      "text/html": [
       "<script>\n",
       "code_show=true; \n",
       "function code_toggle() {\n",
       " if (code_show){\n",
       " $('div.input').hide();\n",
       " } else {\n",
       " $('div.input').show();\n",
       " }\n",
       " code_show = !code_show\n",
       "} \n",
       "$( document ).ready(code_toggle);\n",
       "</script>\n",
       "<form action=\"javascript:code_toggle()\"><input type=\"submit\" value=\"Click here to toggle on/off the raw code.\"></form>"
      ],
      "text/plain": [
       "<IPython.core.display.HTML object>"
      ]
     },
     "execution_count": 13,
     "metadata": {},
     "output_type": "execute_result"
    }
   ],
   "source": [
    "display.HTML('''<script>\n",
    "code_show=true; \n",
    "function code_toggle() {\n",
    " if (code_show){\n",
    " $('div.input').hide();\n",
    " } else {\n",
    " $('div.input').show();\n",
    " }\n",
    " code_show = !code_show\n",
    "} \n",
    "$( document ).ready(code_toggle);\n",
    "</script>\n",
    "<form action=\"javascript:code_toggle()\"><input type=\"submit\" value=\"Click here to toggle on/off the raw code.\"></form>''')"
   ]
  }
 ],
 "metadata": {
  "kernelspec": {
   "display_name": "Python 3",
   "language": "python",
   "name": "python3"
  },
  "language_info": {
   "codemirror_mode": {
    "name": "ipython",
    "version": 3
   },
   "file_extension": ".py",
   "mimetype": "text/x-python",
   "name": "python",
   "nbconvert_exporter": "python",
   "pygments_lexer": "ipython3",
   "version": "3.6.1"
  }
 },
 "nbformat": 4,
 "nbformat_minor": 2
}
