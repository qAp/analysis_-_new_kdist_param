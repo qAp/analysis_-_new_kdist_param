{
 "cells": [
  {
   "cell_type": "code",
   "execution_count": 1,
   "metadata": {
    "collapsed": true
   },
   "outputs": [],
   "source": [
    "%matplotlib inline\n",
    "import os\n",
    "import re\n",
    "import io\n",
    "import itertools\n",
    "import pprint\n",
    "\n",
    "from bokeh.io import output_notebook, show\n",
    "from bokeh.layouts import gridplot\n",
    "from bokeh.plotting import figure\n",
    "from bokeh.models import Range1d, Legend\n",
    "from bokeh.palettes import all_palettes\n",
    "\n",
    "import matplotlib\n",
    "import matplotlib.pyplot as plt\n",
    "import numpy as np\n",
    "import pandas as pd\n",
    "import xarray as xr\n",
    "\n",
    "import climatools.lblnew.bestfit_params as bestfits\n",
    "from climatools.lblnew import setup_bestfit, setup_overlap\n",
    "import climatools.lblnew.pipeline as pipe_lblnew\n",
    "import climatools.cliradlw.setup as setup_cliradlw\n",
    "import climatools.cliradlw.pipeline as pipe_cliradlw\n",
    "\n",
    "import climatools.html.html as climahtml\n",
    "from climatools.lblnew.dataio import *\n",
    "from climatools.plot.plot import *\n",
    "\n",
    "\n",
    "import IPython.display as display"
   ]
  },
  {
   "cell_type": "code",
   "execution_count": 2,
   "metadata": {
    "collapsed": true
   },
   "outputs": [],
   "source": [
    "%run param.py"
   ]
  },
  {
   "cell_type": "code",
   "execution_count": 3,
   "metadata": {
    "collapsed": true
   },
   "outputs": [],
   "source": [
    "def load_output_file(path_csv):\n",
    "    '''\n",
    "    Load lblnew output .csv file to xarray.Dataset\n",
    "    \n",
    "    Parameters\n",
    "    ----------\n",
    "    path_csv: str\n",
    "              Path to the .csv file to be loaded.\n",
    "    ds: xarray.Dataset\n",
    "        Data in the input file in the form of an xarray.Dataset.\n",
    "    '''\n",
    "    toindex = ['band', 'pressure', 'igg', 'g']    \n",
    "    df = pd.read_csv(path_csv, sep=r'\\s+')\n",
    "    df = df.set_index([i for i in toindex if i in df.columns])\n",
    "    df = df.rename(columns={'sfu': 'flug',\n",
    "                            'sfd': 'fldg',\n",
    "                            'fnet': 'fnetg',\n",
    "                            'coolr': 'coolrg'})\n",
    "    ds = xr.Dataset.from_dataframe(df)\n",
    "\n",
    "    for l in ('level', 'layer'):\n",
    "        if l in ds.data_vars:\n",
    "            if len(ds[l].dims) > 1:\n",
    "                surface = {d: 0 for d in ds.dims if d != 'pressure'}\n",
    "                coord_level = ds[l][surface]\n",
    "                ds.coords[l] = ('pressure', coord_level)\n",
    "            else:\n",
    "                ds.coords[l] = ('pressure', ds[l])\n",
    "    \n",
    "    return ds"
   ]
  },
  {
   "cell_type": "code",
   "execution_count": 4,
   "metadata": {
    "collapsed": true
   },
   "outputs": [],
   "source": [
    "def lblnew_setup(param=None):\n",
    "    if 'ng_refs' in param:\n",
    "        return {'setup': setup_bestfit,\n",
    "                'fname_flux_crd': 'output_flux.dat',\n",
    "                'fname_cool_crd': 'output_coolr.dat',\n",
    "                'fname_flux_wgt': 'output_wfluxg.dat',\n",
    "                'fname_cool_wgt': 'output_wcoolrg.dat'}\n",
    "    else:\n",
    "        return {'setup': setup_overlap,\n",
    "                'fname_flux_crd': 'output_flux.dat',\n",
    "                'fname_cool_crd': 'output_coolr.dat',\n",
    "                'fname_flux_wgt': 'output_wflux.dat',\n",
    "                'fname_cool_wgt': 'output_wcoolr.dat'}\n",
    "\n",
    "    \n",
    "def load_lblnew_data(param):\n",
    "    \n",
    "    fname_dsname = [('fname_flux_crd', 'ds_flux_crd'),\n",
    "                    ('fname_cool_crd', 'ds_cool_crd'),\n",
    "                    ('fname_flux_wgt', 'ds_flux_wgt'),\n",
    "                    ('fname_cool_wgt', 'ds_cool_wgt')]\n",
    "    \n",
    "    d = lblnew_setup(param)\n",
    "    dir_fortran = pipe_lblnew.get_dir_case(param, setup=d['setup'])\n",
    "    \n",
    "    data_dict = {}\n",
    "    for fname, dsname in fname_dsname:\n",
    "        fpath = os.path.join(dir_fortran, d[fname])\n",
    "        data_dict[dsname] = load_output_file(fpath)\n",
    "    return data_dict\n",
    "    \n",
    "\n",
    "    \n",
    "    "
   ]
  },
  {
   "cell_type": "code",
   "execution_count": 5,
   "metadata": {
    "collapsed": true
   },
   "outputs": [],
   "source": [
    "d = load_lblnew_data(PARAM_LBLNEW)\n",
    "\n",
    "DS_FLUX_CRD = d['ds_flux_crd']\n",
    "DS_COOL_CRD = d['ds_cool_crd']\n",
    "DS_FLUX_WGT = d['ds_flux_wgt']\n",
    "DS_COOL_WGT = d['ds_cool_wgt']"
   ]
  },
  {
   "cell_type": "code",
   "execution_count": 6,
   "metadata": {
    "collapsed": true
   },
   "outputs": [],
   "source": [
    "DIR_FORTRAN = pipe_cliradlw.get_fortran_dir(PARAM, \n",
    "                                            setup=setup_cliradlw)\n",
    "\n",
    "PATH_FLUX = os.path.join(DIR_FORTRAN, 'output_flux.dat')\n",
    "PATH_COOL = os.path.join(DIR_FORTRAN, 'output_coolr.dat')\n",
    "\n",
    "DS_FLUX = load_output_file(PATH_FLUX)\n",
    "DS_COOL = load_output_file(PATH_COOL)"
   ]
  },
  {
   "cell_type": "code",
   "execution_count": 7,
   "metadata": {
    "collapsed": true
   },
   "outputs": [
    {
     "data": {
      "text/html": [
       "\n",
       "    <div class=\"bk-root\">\n",
       "        <a href=\"https://bokeh.pydata.org\" target=\"_blank\" class=\"bk-logo bk-logo-small bk-logo-notebook\"></a>\n",
       "        <span id=\"6a6d3ffe-ea0b-4398-92f5-ff87dd27bde3\">Loading BokehJS ...</span>\n",
       "    </div>"
      ]
     },
     "metadata": {},
     "output_type": "display_data"
    },
    {
     "data": {
      "application/javascript": [
       "\n",
       "(function(root) {\n",
       "  function now() {\n",
       "    return new Date();\n",
       "  }\n",
       "\n",
       "  var force = true;\n",
       "\n",
       "  if (typeof (root._bokeh_onload_callbacks) === \"undefined\" || force === true) {\n",
       "    root._bokeh_onload_callbacks = [];\n",
       "    root._bokeh_is_loading = undefined;\n",
       "  }\n",
       "\n",
       "  var JS_MIME_TYPE = 'application/javascript';\n",
       "  var HTML_MIME_TYPE = 'text/html';\n",
       "  var EXEC_MIME_TYPE = 'application/vnd.bokehjs_exec.v0+json';\n",
       "  var CLASS_NAME = 'output_bokeh rendered_html';\n",
       "\n",
       "  /**\n",
       "   * Render data to the DOM node\n",
       "   */\n",
       "  function render(props, node) {\n",
       "    var script = document.createElement(\"script\");\n",
       "    node.appendChild(script);\n",
       "  }\n",
       "\n",
       "  /**\n",
       "   * Handle when an output is cleared or removed\n",
       "   */\n",
       "  function handleClearOutput(event, handle) {\n",
       "    var cell = handle.cell;\n",
       "\n",
       "    var id = cell.output_area._bokeh_element_id;\n",
       "    var server_id = cell.output_area._bokeh_server_id;\n",
       "    // Clean up Bokeh references\n",
       "    if (id !== undefined) {\n",
       "      Bokeh.index[id].model.document.clear();\n",
       "      delete Bokeh.index[id];\n",
       "    }\n",
       "\n",
       "    if (server_id !== undefined) {\n",
       "      // Clean up Bokeh references\n",
       "      var cmd = \"from bokeh.io.state import curstate; print(curstate().uuid_to_server['\" + server_id + \"'].get_sessions()[0].document.roots[0]._id)\";\n",
       "      cell.notebook.kernel.execute(cmd, {\n",
       "        iopub: {\n",
       "          output: function(msg) {\n",
       "            var element_id = msg.content.text.trim();\n",
       "            Bokeh.index[element_id].model.document.clear();\n",
       "            delete Bokeh.index[element_id];\n",
       "          }\n",
       "        }\n",
       "      });\n",
       "      // Destroy server and session\n",
       "      var cmd = \"import bokeh.io.notebook as ion; ion.destroy_server('\" + server_id + \"')\";\n",
       "      cell.notebook.kernel.execute(cmd);\n",
       "    }\n",
       "  }\n",
       "\n",
       "  /**\n",
       "   * Handle when a new output is added\n",
       "   */\n",
       "  function handleAddOutput(event, handle) {\n",
       "    var output_area = handle.output_area;\n",
       "    var output = handle.output;\n",
       "\n",
       "    // limit handleAddOutput to display_data with EXEC_MIME_TYPE content only\n",
       "    if ((output.output_type != \"display_data\") || (!output.data.hasOwnProperty(EXEC_MIME_TYPE))) {\n",
       "      return\n",
       "    }\n",
       "\n",
       "    var toinsert = output_area.element.find(\".\" + CLASS_NAME.split(' ')[0]);\n",
       "\n",
       "    if (output.metadata[EXEC_MIME_TYPE][\"id\"] !== undefined) {\n",
       "      toinsert[0].firstChild.textContent = output.data[JS_MIME_TYPE];\n",
       "      // store reference to embed id on output_area\n",
       "      output_area._bokeh_element_id = output.metadata[EXEC_MIME_TYPE][\"id\"];\n",
       "    }\n",
       "    if (output.metadata[EXEC_MIME_TYPE][\"server_id\"] !== undefined) {\n",
       "      var bk_div = document.createElement(\"div\");\n",
       "      bk_div.innerHTML = output.data[HTML_MIME_TYPE];\n",
       "      var script_attrs = bk_div.children[0].attributes;\n",
       "      for (var i = 0; i < script_attrs.length; i++) {\n",
       "        toinsert[0].firstChild.setAttribute(script_attrs[i].name, script_attrs[i].value);\n",
       "      }\n",
       "      // store reference to server id on output_area\n",
       "      output_area._bokeh_server_id = output.metadata[EXEC_MIME_TYPE][\"server_id\"];\n",
       "    }\n",
       "  }\n",
       "\n",
       "  function register_renderer(events, OutputArea) {\n",
       "\n",
       "    function append_mime(data, metadata, element) {\n",
       "      // create a DOM node to render to\n",
       "      var toinsert = this.create_output_subarea(\n",
       "        metadata,\n",
       "        CLASS_NAME,\n",
       "        EXEC_MIME_TYPE\n",
       "      );\n",
       "      this.keyboard_manager.register_events(toinsert);\n",
       "      // Render to node\n",
       "      var props = {data: data, metadata: metadata[EXEC_MIME_TYPE]};\n",
       "      render(props, toinsert[0]);\n",
       "      element.append(toinsert);\n",
       "      return toinsert\n",
       "    }\n",
       "\n",
       "    /* Handle when an output is cleared or removed */\n",
       "    events.on('clear_output.CodeCell', handleClearOutput);\n",
       "    events.on('delete.Cell', handleClearOutput);\n",
       "\n",
       "    /* Handle when a new output is added */\n",
       "    events.on('output_added.OutputArea', handleAddOutput);\n",
       "\n",
       "    /**\n",
       "     * Register the mime type and append_mime function with output_area\n",
       "     */\n",
       "    OutputArea.prototype.register_mime_type(EXEC_MIME_TYPE, append_mime, {\n",
       "      /* Is output safe? */\n",
       "      safe: true,\n",
       "      /* Index of renderer in `output_area.display_order` */\n",
       "      index: 0\n",
       "    });\n",
       "  }\n",
       "\n",
       "  // register the mime type if in Jupyter Notebook environment and previously unregistered\n",
       "  if (root.Jupyter !== undefined) {\n",
       "    var events = require('base/js/events');\n",
       "    var OutputArea = require('notebook/js/outputarea').OutputArea;\n",
       "\n",
       "    if (OutputArea.prototype.mime_types().indexOf(EXEC_MIME_TYPE) == -1) {\n",
       "      register_renderer(events, OutputArea);\n",
       "    }\n",
       "  }\n",
       "\n",
       "  \n",
       "  if (typeof (root._bokeh_timeout) === \"undefined\" || force === true) {\n",
       "    root._bokeh_timeout = Date.now() + 5000;\n",
       "    root._bokeh_failed_load = false;\n",
       "  }\n",
       "\n",
       "  var NB_LOAD_WARNING = {'data': {'text/html':\n",
       "     \"<div style='background-color: #fdd'>\\n\"+\n",
       "     \"<p>\\n\"+\n",
       "     \"BokehJS does not appear to have successfully loaded. If loading BokehJS from CDN, this \\n\"+\n",
       "     \"may be due to a slow or bad network connection. Possible fixes:\\n\"+\n",
       "     \"</p>\\n\"+\n",
       "     \"<ul>\\n\"+\n",
       "     \"<li>re-rerun `output_notebook()` to attempt to load from CDN again, or</li>\\n\"+\n",
       "     \"<li>use INLINE resources instead, as so:</li>\\n\"+\n",
       "     \"</ul>\\n\"+\n",
       "     \"<code>\\n\"+\n",
       "     \"from bokeh.resources import INLINE\\n\"+\n",
       "     \"output_notebook(resources=INLINE)\\n\"+\n",
       "     \"</code>\\n\"+\n",
       "     \"</div>\"}};\n",
       "\n",
       "  function display_loaded() {\n",
       "    var el = document.getElementById(\"6a6d3ffe-ea0b-4398-92f5-ff87dd27bde3\");\n",
       "    if (el != null) {\n",
       "      el.textContent = \"BokehJS is loading...\";\n",
       "    }\n",
       "    if (root.Bokeh !== undefined) {\n",
       "      if (el != null) {\n",
       "        el.textContent = \"BokehJS \" + root.Bokeh.version + \" successfully loaded.\";\n",
       "      }\n",
       "    } else if (Date.now() < root._bokeh_timeout) {\n",
       "      setTimeout(display_loaded, 100)\n",
       "    }\n",
       "  }\n",
       "\n",
       "\n",
       "  function run_callbacks() {\n",
       "    try {\n",
       "      root._bokeh_onload_callbacks.forEach(function(callback) { callback() });\n",
       "    }\n",
       "    finally {\n",
       "      delete root._bokeh_onload_callbacks\n",
       "    }\n",
       "    console.info(\"Bokeh: all callbacks have finished\");\n",
       "  }\n",
       "\n",
       "  function load_libs(js_urls, callback) {\n",
       "    root._bokeh_onload_callbacks.push(callback);\n",
       "    if (root._bokeh_is_loading > 0) {\n",
       "      console.log(\"Bokeh: BokehJS is being loaded, scheduling callback at\", now());\n",
       "      return null;\n",
       "    }\n",
       "    if (js_urls == null || js_urls.length === 0) {\n",
       "      run_callbacks();\n",
       "      return null;\n",
       "    }\n",
       "    console.log(\"Bokeh: BokehJS not loaded, scheduling load and callback at\", now());\n",
       "    root._bokeh_is_loading = js_urls.length;\n",
       "    for (var i = 0; i < js_urls.length; i++) {\n",
       "      var url = js_urls[i];\n",
       "      var s = document.createElement('script');\n",
       "      s.src = url;\n",
       "      s.async = false;\n",
       "      s.onreadystatechange = s.onload = function() {\n",
       "        root._bokeh_is_loading--;\n",
       "        if (root._bokeh_is_loading === 0) {\n",
       "          console.log(\"Bokeh: all BokehJS libraries loaded\");\n",
       "          run_callbacks()\n",
       "        }\n",
       "      };\n",
       "      s.onerror = function() {\n",
       "        console.warn(\"failed to load library \" + url);\n",
       "      };\n",
       "      console.log(\"Bokeh: injecting script tag for BokehJS library: \", url);\n",
       "      document.getElementsByTagName(\"head\")[0].appendChild(s);\n",
       "    }\n",
       "  };var element = document.getElementById(\"6a6d3ffe-ea0b-4398-92f5-ff87dd27bde3\");\n",
       "  if (element == null) {\n",
       "    console.log(\"Bokeh: ERROR: autoload.js configured with elementid '6a6d3ffe-ea0b-4398-92f5-ff87dd27bde3' but no matching script tag was found. \")\n",
       "    return false;\n",
       "  }\n",
       "\n",
       "  var js_urls = [\"https://cdn.pydata.org/bokeh/release/bokeh-0.12.14.min.js\", \"https://cdn.pydata.org/bokeh/release/bokeh-widgets-0.12.14.min.js\", \"https://cdn.pydata.org/bokeh/release/bokeh-tables-0.12.14.min.js\", \"https://cdn.pydata.org/bokeh/release/bokeh-gl-0.12.14.min.js\"];\n",
       "\n",
       "  var inline_js = [\n",
       "    function(Bokeh) {\n",
       "      Bokeh.set_log_level(\"info\");\n",
       "    },\n",
       "    \n",
       "    function(Bokeh) {\n",
       "      \n",
       "    },\n",
       "    function(Bokeh) {\n",
       "      console.log(\"Bokeh: injecting CSS: https://cdn.pydata.org/bokeh/release/bokeh-0.12.14.min.css\");\n",
       "      Bokeh.embed.inject_css(\"https://cdn.pydata.org/bokeh/release/bokeh-0.12.14.min.css\");\n",
       "      console.log(\"Bokeh: injecting CSS: https://cdn.pydata.org/bokeh/release/bokeh-widgets-0.12.14.min.css\");\n",
       "      Bokeh.embed.inject_css(\"https://cdn.pydata.org/bokeh/release/bokeh-widgets-0.12.14.min.css\");\n",
       "      console.log(\"Bokeh: injecting CSS: https://cdn.pydata.org/bokeh/release/bokeh-tables-0.12.14.min.css\");\n",
       "      Bokeh.embed.inject_css(\"https://cdn.pydata.org/bokeh/release/bokeh-tables-0.12.14.min.css\");\n",
       "    }\n",
       "  ];\n",
       "\n",
       "  function run_inline_js() {\n",
       "    \n",
       "    if ((root.Bokeh !== undefined) || (force === true)) {\n",
       "      for (var i = 0; i < inline_js.length; i++) {\n",
       "        inline_js[i].call(root, root.Bokeh);\n",
       "      }if (force === true) {\n",
       "        display_loaded();\n",
       "      }} else if (Date.now() < root._bokeh_timeout) {\n",
       "      setTimeout(run_inline_js, 100);\n",
       "    } else if (!root._bokeh_failed_load) {\n",
       "      console.log(\"Bokeh: BokehJS failed to load within specified timeout.\");\n",
       "      root._bokeh_failed_load = true;\n",
       "    } else if (force !== true) {\n",
       "      var cell = $(document.getElementById(\"6a6d3ffe-ea0b-4398-92f5-ff87dd27bde3\")).parents('.cell').data().cell;\n",
       "      cell.output_area.append_execute_result(NB_LOAD_WARNING)\n",
       "    }\n",
       "\n",
       "  }\n",
       "\n",
       "  if (root._bokeh_is_loading === 0) {\n",
       "    console.log(\"Bokeh: BokehJS loaded, going straight to plotting\");\n",
       "    run_inline_js();\n",
       "  } else {\n",
       "    load_libs(js_urls, function() {\n",
       "      console.log(\"Bokeh: BokehJS plotting callback run at\", now());\n",
       "      run_inline_js();\n",
       "    });\n",
       "  }\n",
       "}(window));"
      ],
      "application/vnd.bokehjs_load.v0+json": "\n(function(root) {\n  function now() {\n    return new Date();\n  }\n\n  var force = true;\n\n  if (typeof (root._bokeh_onload_callbacks) === \"undefined\" || force === true) {\n    root._bokeh_onload_callbacks = [];\n    root._bokeh_is_loading = undefined;\n  }\n\n  \n\n  \n  if (typeof (root._bokeh_timeout) === \"undefined\" || force === true) {\n    root._bokeh_timeout = Date.now() + 5000;\n    root._bokeh_failed_load = false;\n  }\n\n  var NB_LOAD_WARNING = {'data': {'text/html':\n     \"<div style='background-color: #fdd'>\\n\"+\n     \"<p>\\n\"+\n     \"BokehJS does not appear to have successfully loaded. If loading BokehJS from CDN, this \\n\"+\n     \"may be due to a slow or bad network connection. Possible fixes:\\n\"+\n     \"</p>\\n\"+\n     \"<ul>\\n\"+\n     \"<li>re-rerun `output_notebook()` to attempt to load from CDN again, or</li>\\n\"+\n     \"<li>use INLINE resources instead, as so:</li>\\n\"+\n     \"</ul>\\n\"+\n     \"<code>\\n\"+\n     \"from bokeh.resources import INLINE\\n\"+\n     \"output_notebook(resources=INLINE)\\n\"+\n     \"</code>\\n\"+\n     \"</div>\"}};\n\n  function display_loaded() {\n    var el = document.getElementById(\"6a6d3ffe-ea0b-4398-92f5-ff87dd27bde3\");\n    if (el != null) {\n      el.textContent = \"BokehJS is loading...\";\n    }\n    if (root.Bokeh !== undefined) {\n      if (el != null) {\n        el.textContent = \"BokehJS \" + root.Bokeh.version + \" successfully loaded.\";\n      }\n    } else if (Date.now() < root._bokeh_timeout) {\n      setTimeout(display_loaded, 100)\n    }\n  }\n\n\n  function run_callbacks() {\n    try {\n      root._bokeh_onload_callbacks.forEach(function(callback) { callback() });\n    }\n    finally {\n      delete root._bokeh_onload_callbacks\n    }\n    console.info(\"Bokeh: all callbacks have finished\");\n  }\n\n  function load_libs(js_urls, callback) {\n    root._bokeh_onload_callbacks.push(callback);\n    if (root._bokeh_is_loading > 0) {\n      console.log(\"Bokeh: BokehJS is being loaded, scheduling callback at\", now());\n      return null;\n    }\n    if (js_urls == null || js_urls.length === 0) {\n      run_callbacks();\n      return null;\n    }\n    console.log(\"Bokeh: BokehJS not loaded, scheduling load and callback at\", now());\n    root._bokeh_is_loading = js_urls.length;\n    for (var i = 0; i < js_urls.length; i++) {\n      var url = js_urls[i];\n      var s = document.createElement('script');\n      s.src = url;\n      s.async = false;\n      s.onreadystatechange = s.onload = function() {\n        root._bokeh_is_loading--;\n        if (root._bokeh_is_loading === 0) {\n          console.log(\"Bokeh: all BokehJS libraries loaded\");\n          run_callbacks()\n        }\n      };\n      s.onerror = function() {\n        console.warn(\"failed to load library \" + url);\n      };\n      console.log(\"Bokeh: injecting script tag for BokehJS library: \", url);\n      document.getElementsByTagName(\"head\")[0].appendChild(s);\n    }\n  };var element = document.getElementById(\"6a6d3ffe-ea0b-4398-92f5-ff87dd27bde3\");\n  if (element == null) {\n    console.log(\"Bokeh: ERROR: autoload.js configured with elementid '6a6d3ffe-ea0b-4398-92f5-ff87dd27bde3' but no matching script tag was found. \")\n    return false;\n  }\n\n  var js_urls = [\"https://cdn.pydata.org/bokeh/release/bokeh-0.12.14.min.js\", \"https://cdn.pydata.org/bokeh/release/bokeh-widgets-0.12.14.min.js\", \"https://cdn.pydata.org/bokeh/release/bokeh-tables-0.12.14.min.js\", \"https://cdn.pydata.org/bokeh/release/bokeh-gl-0.12.14.min.js\"];\n\n  var inline_js = [\n    function(Bokeh) {\n      Bokeh.set_log_level(\"info\");\n    },\n    \n    function(Bokeh) {\n      \n    },\n    function(Bokeh) {\n      console.log(\"Bokeh: injecting CSS: https://cdn.pydata.org/bokeh/release/bokeh-0.12.14.min.css\");\n      Bokeh.embed.inject_css(\"https://cdn.pydata.org/bokeh/release/bokeh-0.12.14.min.css\");\n      console.log(\"Bokeh: injecting CSS: https://cdn.pydata.org/bokeh/release/bokeh-widgets-0.12.14.min.css\");\n      Bokeh.embed.inject_css(\"https://cdn.pydata.org/bokeh/release/bokeh-widgets-0.12.14.min.css\");\n      console.log(\"Bokeh: injecting CSS: https://cdn.pydata.org/bokeh/release/bokeh-tables-0.12.14.min.css\");\n      Bokeh.embed.inject_css(\"https://cdn.pydata.org/bokeh/release/bokeh-tables-0.12.14.min.css\");\n    }\n  ];\n\n  function run_inline_js() {\n    \n    if ((root.Bokeh !== undefined) || (force === true)) {\n      for (var i = 0; i < inline_js.length; i++) {\n        inline_js[i].call(root, root.Bokeh);\n      }if (force === true) {\n        display_loaded();\n      }} else if (Date.now() < root._bokeh_timeout) {\n      setTimeout(run_inline_js, 100);\n    } else if (!root._bokeh_failed_load) {\n      console.log(\"Bokeh: BokehJS failed to load within specified timeout.\");\n      root._bokeh_failed_load = true;\n    } else if (force !== true) {\n      var cell = $(document.getElementById(\"6a6d3ffe-ea0b-4398-92f5-ff87dd27bde3\")).parents('.cell').data().cell;\n      cell.output_area.append_execute_result(NB_LOAD_WARNING)\n    }\n\n  }\n\n  if (root._bokeh_is_loading === 0) {\n    console.log(\"Bokeh: BokehJS loaded, going straight to plotting\");\n    run_inline_js();\n  } else {\n    load_libs(js_urls, function() {\n      console.log(\"Bokeh: BokehJS plotting callback run at\", now());\n      run_inline_js();\n    });\n  }\n}(window));"
     },
     "metadata": {},
     "output_type": "display_data"
    }
   ],
   "source": [
    "output_notebook()"
   ]
  },
  {
   "cell_type": "code",
   "execution_count": 8,
   "metadata": {
    "collapsed": true
   },
   "outputs": [],
   "source": [
    "def fmt_cool(ds_in):\n",
    "    ds = ds_in.copy(deep=True)\n",
    "    if 'igg' in ds.dims:\n",
    "        ds = ds.sel(igg=1)\n",
    "\n",
    "    if 'g' in ds.dims:\n",
    "        ds = ds.sum('g')\n",
    "            \n",
    "    if 'band' in ds.dims:\n",
    "        try:\n",
    "            ds = ds.squeeze('band')\n",
    "        except ValueError:\n",
    "            ds = ds.sum('band')\n",
    "                \n",
    "    return ds['coolrg']\n",
    "\n",
    "\n",
    "def pltdata_cooling_1(ds_cool=None,\n",
    "                      ds_cool_crd=None, ds_cool_wgt=None):\n",
    "    \n",
    "\n",
    "\n",
    "    colors = all_palettes['Set1'][4]\n",
    "    data = [{'label': 'CLIRAD `coolr_bands`',\n",
    "             'srs': fmt_cool(ds_cool),\n",
    "             'line_dash': 'dashed', 'line_width': 5,\n",
    "             'color': colors[0], 'alpha': .6},\n",
    "            {'label': 'CRD',\n",
    "             'srs': fmt_cool(ds_cool_crd),\n",
    "             'line_dash': 'solid', 'line_width': 1.5,\n",
    "             'marker': 'circle', 'marker_size': 5,\n",
    "             'color': colors[2], 'alpha': 1,},\n",
    "            {'label': 'WGT igg=10 wgt_flux=2',\n",
    "             'srs': fmt_cool(ds_cool_wgt),\n",
    "             'line_dash': 'solid', 'line_width': 3,\n",
    "             'marker': 'square', 'marker_size': 5,\n",
    "             'color': colors[3], 'alpha': .6}]\n",
    "    return data\n",
    "\n",
    "\n",
    "def nice_xlims(pltdata=None, prange=None):\n",
    "    \n",
    "    def get_slice(srs):\n",
    "        return srs.sel(pressure=slice(*prange))\n",
    "    \n",
    "    srss = [d['srs'] for d in pltdata]\n",
    "    vmin = min([get_slice(srs).min() for srs in srss])\n",
    "    vmax = max([get_slice(srs).max() for srs in srss])\n",
    "    dv = (vmax - vmin) * .01\n",
    "    return float(vmin - dv), float(vmax + dv)\n",
    "    \n",
    "\n",
    "def plt_cooling_bokeh(pltdata=None):\n",
    "    '''\n",
    "    Plot a list of cooling rate profiles using bokeh.\n",
    "    '''\n",
    "    ymin = 1e-2 \n",
    "    ymax = 1020 \n",
    "        \n",
    "    p1 = figure(title=\"Linear pressure scale\", \n",
    "                plot_width=400)        \n",
    "    xmin, xmax = nice_xlims(pltdata, prange=(50, 1050))\n",
    "    for d in pltdata:\n",
    "        if 'marker' in d:\n",
    "            getattr(p1, d['marker'])(d['srs'].values, \n",
    "                    d['srs'].coords['pressure'].values,\n",
    "                    color=d['color'], alpha=.7)\n",
    "        p1.line(d['srs'].values, \n",
    "                d['srs'].coords['pressure'].values,\n",
    "                color=d['color'], alpha=d['alpha'], \n",
    "                line_width=d['line_width'], line_dash=d['line_dash'])\n",
    "    \n",
    "    p1.y_range = Range1d(ymax, ymin)\n",
    "    p1.yaxis.axis_label = 'pressure [mb]'   \n",
    "    p1.x_range = Range1d(xmin, xmax)\n",
    "    p1.xaxis.axis_label = 'cooling rate [K/day]'\n",
    "            \n",
    "    p2 = figure(title='Log pressure scale', y_axis_type='log',\n",
    "                plot_width=560)\n",
    "    xmin, xmax = nice_xlims(pltdata, prange=(.01, 200))\n",
    "    \n",
    "    rs = []\n",
    "    for d in pltdata:\n",
    "        rd = []\n",
    "        if 'marker' in d:\n",
    "            r_mark = getattr(p2, d['marker'])(d['srs'].values, \n",
    "                        d['srs'].coords['pressure'].values,\n",
    "                        color=d['color'], alpha=.7)\n",
    "            rd.append(r_mark)\n",
    "        r_line = p2.line(d['srs'].values, \n",
    "                    d['srs'].coords['pressure'].values,\n",
    "                    color=d['color'], alpha=d['alpha'], \n",
    "                    line_width=d['line_width'], line_dash=d['line_dash'])\n",
    "        rd.append(r_line)\n",
    "      \n",
    "        rs.append(rd)\n",
    "        \n",
    "    p2.y_range = Range1d(ymax, ymin)  \n",
    "    p2.yaxis.axis_label = 'pressure [mb]'\n",
    "    \n",
    "    p2.x_range = Range1d(xmin, xmax)\n",
    "    p2.xaxis.axis_label = 'cooling rate [K/day]'\n",
    "    \n",
    "    items = [(d['label'], r) for r, d in zip(rs, pltdata)]\n",
    "    legend = Legend(items=items, location=(10, -30))\n",
    "    legend.label_text_font_size = '8pt'\n",
    "    \n",
    "    p2.add_layout(legend, 'right')  \n",
    "    \n",
    "    show(gridplot(p1, p2, ncols=2, plot_height=500))\n",
    "    \n",
    "\n",
    "def script_plt_cooling():\n",
    "    pltdata = pltdata_cooling_1(\n",
    "        ds_cool=DS_COOL,\n",
    "        ds_cool_crd=DS_COOL_CRD,\n",
    "        ds_cool_wgt=DS_COOL_WGT)\n",
    "    plt_cooling_bokeh(pltdata=pltdata)\n",
    "    print('''FIGURE. Cooling rate profiles.''')"
   ]
  },
  {
   "cell_type": "code",
   "execution_count": 9,
   "metadata": {
    "collapsed": true
   },
   "outputs": [],
   "source": [
    "def fmt_flux(ds_in):\n",
    "    ds = ds_in.copy(deep=True)\n",
    "    \n",
    "    for l in ('level', 'layer'):\n",
    "        if l in ds.data_vars:\n",
    "            if len(ds[l].dims) > 1:\n",
    "                surface = {d: 0 for d in ds.dims if d != 'pressure'}\n",
    "                coord_level = ds[l][surface]\n",
    "                ds.coords[l] = ('pressure', coord_level)\n",
    "            else:\n",
    "                ds.coords[l] = ('pressure', ds[l])\n",
    "        \n",
    "    ds = ds.isel(pressure=[0, 23, -1])\n",
    "        \n",
    "    if 'igg' in ds.dims:\n",
    "        ds = ds.sel(igg=[1])\n",
    "        ds = ds.squeeze('igg').drop('igg')\n",
    "    \n",
    "    if 'g' in ds.dims:\n",
    "        ds = ds.sum('g')\n",
    "            \n",
    "    if 'band' in ds.dims:\n",
    "        try:\n",
    "            ds = ds.squeeze('band').drop('band')\n",
    "        except ValueError:\n",
    "            ds = ds.sum('band')\n",
    "                \n",
    "    df = ds.to_dataframe()\n",
    "    df = df.set_index('level', append=True)               \n",
    "    return df\n",
    "\n",
    "\n",
    "def tbdata_flux(ds_flux=None, ds_flux_crd=None, ds_flux_wgt=None):\n",
    "    ilevels = [0, 23, -1]\n",
    "            \n",
    "    benchmark = {'label': 'WGT igg=10 wgt_flux=1',\n",
    "                 'df': fmt_flux(ds_flux_wgt)}\n",
    "    \n",
    "    tbs = [{'label': 'CRD',\n",
    "            'df': fmt_flux(ds_flux_crd)},\n",
    "           {'label': 'CLIRAD',\n",
    "            'df': fmt_flux(ds_flux)}]\n",
    "    \n",
    "    data = {'benchmark': benchmark, 'others': tbs}\n",
    "    return data\n",
    "\n",
    "\n",
    "def tb_flux(tbdata=None):\n",
    "    benchmark = tbdata['benchmark']\n",
    "    others = tbdata['others']\n",
    "    \n",
    "    def show_tb(d=None):\n",
    "        display.display(d['df'])\n",
    "        print('Table.', 'Fluxes.', d['label'])\n",
    "        \n",
    "    def show_tbdiff(d0=None, d=None):\n",
    "        df = d['df']\n",
    "        df.index = d0['df'].index\n",
    "        display.display(df - d0['df'])\n",
    "        print('Table.', 'Fluxes.', \n",
    "              '({}) - ({})'.format(d['label'], d0['label']))\n",
    "        \n",
    "    show_tb(benchmark)\n",
    "    for d in others:\n",
    "        show_tb(d)\n",
    "        \n",
    "    for d in others:\n",
    "        show_tbdiff(d=d, d0=benchmark)\n",
    "        \n",
    "        \n",
    "def script_tb_flux():\n",
    "    data = tbdata_flux(ds_flux=DS_FLUX,\n",
    "                       ds_flux_crd=DS_FLUX_CRD,\n",
    "                       ds_flux_wgt=DS_FLUX_WGT)\n",
    "    tb_flux(tbdata=data)"
   ]
  },
  {
   "cell_type": "code",
   "execution_count": 10,
   "metadata": {
    "collapsed": true
   },
   "outputs": [],
   "source": [
    "def band_map():\n",
    "    '''\n",
    "    Maps spectral bands in lblnew to spectral bands in clirad.\n",
    "    '''\n",
    "    lblnew2clirad = {'1': '1',\n",
    "            '2': '2',\n",
    "            '3a': '3',\n",
    "            '3b': '4',\n",
    "            '3c': '5',\n",
    "            '4': '6', \n",
    "            '5': '7',\n",
    "            '6': '8',\n",
    "            '7': '9', \n",
    "            '8': '10',\n",
    "            '9': '11'}\n",
    "    \n",
    "    clirad2lblnew = {clirad: lblnew \n",
    "                     for lblnew, clirad in lblnew2clirad.items()}\n",
    "    return clirad2lblnew\n",
    "\n",
    "\n",
    "def gasbands():\n",
    "    bmap = band_map()\n",
    "    gases = list(PARAM['molecule'].keys())\n",
    "    \n",
    "    bands = [bmap[str(b)] for b in PARAM['band']]\n",
    "    return list(itertools.product(gases, bands))\n",
    "\n",
    "\n",
    "def print_bestfit_params():\n",
    "    print('Best-fit values for each (gas, band)')\n",
    "    print('------------------------------------')\n",
    "    for gas, band in gasbands():\n",
    "        print('o {} band{}'.format(gas, band))\n",
    "        param = bestfits.kdist_params(molecule=gas, band=band)\n",
    "        for name, value in sorted(param.items()):\n",
    "            print(2 * ' ' + '{} = {}'.format(name, value))\n",
    "\n",
    "        \n",
    "def print_input_param():        \n",
    "    for name, value in PARAM.items():\n",
    "        print('{} = {}'.format(name, value))\n",
    "        \n",
    "        \n",
    "def print_lblnew_param():\n",
    "    for name, value in sorted(PARAM_LBLNEW.items()):\n",
    "        print('{} = {}'.format(name, value))\n"
   ]
  },
  {
   "cell_type": "code",
   "execution_count": 11,
   "metadata": {
    "collapsed": true,
    "scrolled": false
   },
   "outputs": [],
   "source": [
    "def show_html(s):\n",
    "    display.display(display.HTML(s))\n",
    "\n",
    "    \n",
    "def show_markdown(s):\n",
    "    display.display(display.Markdown(s))\n",
    "\n",
    "    \n",
    "def script():\n",
    "    \n",
    "    title = '### CLIRAD-LW'\n",
    "    s_input = 'Input Parameters'\n",
    "    s_lblnew_param = 'LBLNEW case compaired against'\n",
    "    s_bestfits = 'Best-fit Parameters'\n",
    "    s_plt_cooling = 'Cooling Rate Profiles'\n",
    "    s_tb_flux = 'Flux Comparison'\n",
    "    \n",
    "    # title\n",
    "    show_markdown('### CLIRAD-LW')\n",
    "    \n",
    "    # TOC\n",
    "    show_markdown('### Table of Contents')\n",
    "    show_html(climahtml.getHTML_hrefanchor(s_input))\n",
    "    show_html(climahtml.getHTML_hrefanchor(s_lblnew_param))\n",
    "    show_html(climahtml.getHTML_hrefanchor(s_plt_cooling))\n",
    "    show_html(climahtml.getHTML_hrefanchor(s_tb_flux))\n",
    "    show_html(climahtml.getHTML_hrefanchor(s_bestfits))\n",
    "    \n",
    "    # Input parameters\n",
    "    show_html(climahtml.getHTML_idanchor(s_input))\n",
    "    show_markdown(climahtml.getMarkdown_sectitle(s_input))\n",
    "    print_input_param()\n",
    "    \n",
    "    # LBLNEW parameters \n",
    "    show_html(climahtml.getHTML_idanchor(s_lblnew_param))\n",
    "    show_markdown(climahtml.getMarkdown_sectitle(s_lblnew_param))\n",
    "    print_lblnew_param()\n",
    "    \n",
    "    # Cooling rate profiles\n",
    "    show_html(climahtml.getHTML_idanchor(s_plt_cooling))\n",
    "    show_markdown(climahtml.getMarkdown_sectitle(s_plt_cooling))\n",
    "    script_plt_cooling()\n",
    "    \n",
    "    # Flux comparison\n",
    "    show_html(climahtml.getHTML_idanchor(s_tb_flux))\n",
    "    show_markdown(climahtml.getMarkdown_sectitle(s_tb_flux))\n",
    "    script_tb_flux()\n",
    "    \n",
    "    # Best-fit values\n",
    "    show_html(climahtml.getHTML_idanchor(s_bestfits))\n",
    "    show_markdown(climahtml.getMarkdown_sectitle(s_bestfits))\n",
    "    print_bestfit_params()\n",
    "   \n",
    "    "
   ]
  },
  {
   "cell_type": "code",
   "execution_count": 12,
   "metadata": {
    "collapsed": true,
    "scrolled": false
   },
   "outputs": [
    {
     "data": {
      "text/markdown": [
       "### CLIRAD-LW"
      ],
      "text/plain": [
       "<IPython.core.display.Markdown object>"
      ]
     },
     "metadata": {},
     "output_type": "display_data"
    },
    {
     "data": {
      "text/markdown": [
       "### Table of Contents"
      ],
      "text/plain": [
       "<IPython.core.display.Markdown object>"
      ]
     },
     "metadata": {},
     "output_type": "display_data"
    },
    {
     "data": {
      "text/html": [
       "<a href=\"#Input_Parameters\">Input Parameters</a>"
      ],
      "text/plain": [
       "<IPython.core.display.HTML object>"
      ]
     },
     "metadata": {},
     "output_type": "display_data"
    },
    {
     "data": {
      "text/html": [
       "<a href=\"#LBLNEW_case_compaired_against\">LBLNEW case compaired against</a>"
      ],
      "text/plain": [
       "<IPython.core.display.HTML object>"
      ]
     },
     "metadata": {},
     "output_type": "display_data"
    },
    {
     "data": {
      "text/html": [
       "<a href=\"#Cooling_Rate_Profiles\">Cooling Rate Profiles</a>"
      ],
      "text/plain": [
       "<IPython.core.display.HTML object>"
      ]
     },
     "metadata": {},
     "output_type": "display_data"
    },
    {
     "data": {
      "text/html": [
       "<a href=\"#Flux_Comparison\">Flux Comparison</a>"
      ],
      "text/plain": [
       "<IPython.core.display.HTML object>"
      ]
     },
     "metadata": {},
     "output_type": "display_data"
    },
    {
     "data": {
      "text/html": [
       "<a href=\"#Best-fit_Parameters\">Best-fit Parameters</a>"
      ],
      "text/plain": [
       "<IPython.core.display.HTML object>"
      ]
     },
     "metadata": {},
     "output_type": "display_data"
    },
    {
     "data": {
      "text/html": [
       "<a id=\"Input_Parameters\"></a>"
      ],
      "text/plain": [
       "<IPython.core.display.HTML object>"
      ]
     },
     "metadata": {},
     "output_type": "display_data"
    },
    {
     "data": {
      "text/markdown": [
       "# Input Parameters"
      ],
      "text/plain": [
       "<IPython.core.display.Markdown object>"
      ]
     },
     "metadata": {},
     "output_type": "display_data"
    },
    {
     "name": "stdout",
     "output_type": "stream",
     "text": [
      "atmpro = trp\n",
      "band = [3]\n",
      "commitnumber = 7fe1447\n",
      "molecule = {'h2o': 'atmpro'}\n",
      "tsfc = 300\n"
     ]
    },
    {
     "data": {
      "text/html": [
       "<a id=\"LBLNEW_case_compaired_against\"></a>"
      ],
      "text/plain": [
       "<IPython.core.display.HTML object>"
      ]
     },
     "metadata": {},
     "output_type": "display_data"
    },
    {
     "data": {
      "text/markdown": [
       "# LBLNEW case compaired against"
      ],
      "text/plain": [
       "<IPython.core.display.Markdown object>"
      ]
     },
     "metadata": {},
     "output_type": "display_data"
    },
    {
     "name": "stdout",
     "output_type": "stream",
     "text": [
      "atmpro = trp\n",
      "band = 3a\n",
      "commitnumber = a06b618\n",
      "conc = None\n",
      "dv = 0.001\n",
      "klin = 0\n",
      "molecule = h2o\n",
      "ng_adju = [0, 0]\n",
      "ng_refs = [2, 6]\n",
      "nv = 1000\n",
      "option_compute_btable = 0\n",
      "option_compute_ktable = 0\n",
      "option_wgt_flux = 1\n",
      "option_wgt_k = 1\n",
      "ref_pts = [(10, 250), (600, 250)]\n",
      "tsfc = 300\n",
      "vmax = 620\n",
      "vmin = 540\n",
      "w_diffuse = [(1.9, 1.7), (1.4, 1.4, 1.4, 1.55, 1.6, 1.66)]\n",
      "wgt = [(0.7, 0.7), (0.7, 0.5, 0.5, 0.5, 0.5, 0.5)]\n"
     ]
    },
    {
     "data": {
      "text/html": [
       "<a id=\"Cooling_Rate_Profiles\"></a>"
      ],
      "text/plain": [
       "<IPython.core.display.HTML object>"
      ]
     },
     "metadata": {},
     "output_type": "display_data"
    },
    {
     "data": {
      "text/markdown": [
       "# Cooling Rate Profiles"
      ],
      "text/plain": [
       "<IPython.core.display.Markdown object>"
      ]
     },
     "metadata": {},
     "output_type": "display_data"
    },
    {
     "data": {
      "text/html": [
       "\n",
       "<div class=\"bk-root\">\n",
       "    <div class=\"bk-plotdiv\" id=\"6165b42a-db5f-4a6e-8e59-a821802bc6b7\"></div>\n",
       "</div>"
      ]
     },
     "metadata": {},
     "output_type": "display_data"
    },
    {
     "data": {
      "application/javascript": [
       "(function(root) {\n",
       "  function embed_document(root) {\n",
       "    \n",
       "  var docs_json = {\"4cd629a9-cd0b-4c5f-958d-73cc802f837f\":{\"roots\":{\"references\":[{\"attributes\":{\"callback\":null,\"column_names\":[\"x\",\"y\"],\"data\":{\"x\":{\"__ndarray__\":\"mRoZilFVRT9IfMRnHGtGP+hQhGBOukg/0XT4Nh8jSz8nzBZxg59NP923NfrpFFA/esN1vK1jUT81ezuhErlSPwL2KfQuGFQ/AYABEyiBVT/YDb136+tWP/o/gRsUUlg/06X+f/WfWT9fl305HGZbPytc8BAoVWE/no9wakD1aT8Cd/or5lNzPzj9+AqUTXs/xFyV9tSSgj+XgMq+TJCIP4N+ICXowo8/saEImrCskz8PinH0tKCUPyE020Uzd5I/nkfZ4wT0jj8gU+u7KmmIP/a20Wsw54I/PhJD6q5XfT+JRk7aKO92Pw6B2TwLFHI/AChOUDSfbD/iGJCYPIBmPyzq59vvQWE/9c8x8kLSWD9kn+WFoW5JP7o2OCQIjQg/xVLW+7KNM78UsrLKT6wiv4LvzqG0IDs/zVNt3SzqUz8OQIfWms9oP1IO5m5Q7YI/JsSebocjlT/EfYZlo9uiP0z2/Qts5Kw/TvkSVbgYtD+v2Jkh2Uy6P/mk0ezTVMA/iszYp07Nwj/fqmcYqb3FP4hFTldeD8k/mHlAE0C1zD8DWj67EVDQP89i7+YlVtI/K3Tzx5No1D8InJ3z8HHWP+XIsZLiZdg/zn+8FZE62j9Mowvi6t3bP01pmgNGT90/enGgj0t/3j9EVel65EffP7zXQQwRg98/uWpDan9s4D+OnQmwPCbgP4GDrF3JhN4/Cbw4lhwc3D9YGhlg9p3YPzJKwH1Xo9U/QFamTvZF0z91p+CVyVXRP19lyAyvf88/i2shbYgWzT+Puikn0uTLP1hxDeDrc9A/\",\"dtype\":\"float64\",\"shape\":[75]},\"y\":{\"__ndarray__\":\"GhExyth1ND/Sv8nbtpRIP2vylNV0PVE/aTum7souWD/At0SJ8fVgPw3Iuahxymc/MSNhhJWvcD/bTfBN02d3P2zb5nxnaoA/CD5h5MAGhz8NmeH1TyaQP+zrCsc9p5Y/LbKd76fGnz/bLW5ISEmmPww9YvTcQq8/JV2OstnstT8Er5Y7M8G+P0c+r3jqkcU/5h99k6ZBzj88bCIzFzjVP4enV8oyxN0//yH99nXg5D8qOpLLf0jtP5kqGJXUifQ/c9cS8kHP/D+/DpwzojQEQIEmwoanVwxA4lgXt9HgE0BSSZ2AJuIbQAMJih9jjiNA5q4l5INuK0AwTKYKRj0zQNv5fmq8/DpAaCJseHrtQkB/+zpwzoxKQM3MzMzMeFJAZmZmZmZqWEAAAAAAAFxeQM3MzMzMJmJAmpmZmZkfZUBmZmZmZhhoQDMzMzMzEWtAAAAAAAAKbkBmZmZmZoFwQM3MzMzM/XFAMzMzMzN6c0CamZmZmfZ0QAAAAAAAc3ZAZmZmZmbvd0DNzMzMzGt5QDMzMzMz6HpAmpmZmZlkfEAAAAAAAOF9QGZmZmZmXX9AZmZmZuZsgECamZmZGSuBQM3MzMxM6YFAAAAAAICngkAzMzMzs2WDQGZmZmbmI4RAmpmZmRnihEDNzMzMTKCFQAAAAACAXoZAMzMzM7Mch0BmZmZm5tqHQJqZmZkZmYhAzczMzExXiUAAAAAAgBWKQDMzMzOz04pAZmZmZuaRi0CamZmZGVCMQM3MzMxMDo1AAAAAAIDMjUAzMzMzs4qOQGZmZmbmSI9A\",\"dtype\":\"float64\",\"shape\":[75]}}},\"id\":\"4bee5480-9a57-40ba-99ea-411c3425bc82\",\"type\":\"ColumnDataSource\"},{\"attributes\":{\"fill_alpha\":{\"value\":0.1},\"fill_color\":{\"value\":\"#1f77b4\"},\"line_alpha\":{\"value\":0.1},\"line_color\":{\"value\":\"#1f77b4\"},\"x\":{\"field\":\"x\"},\"y\":{\"field\":\"y\"}},\"id\":\"66b953cd-1de0-40a3-96c7-b6d82a6f8732\",\"type\":\"Circle\"},{\"attributes\":{\"fill_alpha\":{\"value\":0.7},\"fill_color\":{\"value\":\"#4daf4a\"},\"line_alpha\":{\"value\":0.7},\"line_color\":{\"value\":\"#4daf4a\"},\"x\":{\"field\":\"x\"},\"y\":{\"field\":\"y\"}},\"id\":\"bfcd27c4-a517-4d60-8261-6f1deeec4ee7\",\"type\":\"Circle\"},{\"attributes\":{\"callback\":null,\"column_names\":[\"x\",\"y\"],\"data\":{\"x\":{\"__ndarray__\":\"mRoZilFVRT9IfMRnHGtGP+hQhGBOukg/0XT4Nh8jSz8nzBZxg59NP923NfrpFFA/esN1vK1jUT81ezuhErlSPwL2KfQuGFQ/AYABEyiBVT/YDb136+tWP/o/gRsUUlg/06X+f/WfWT9fl305HGZbPytc8BAoVWE/no9wakD1aT8Cd/or5lNzPzj9+AqUTXs/xFyV9tSSgj+XgMq+TJCIP4N+ICXowo8/saEImrCskz8PinH0tKCUPyE020Uzd5I/nkfZ4wT0jj8gU+u7KmmIP/a20Wsw54I/PhJD6q5XfT+JRk7aKO92Pw6B2TwLFHI/AChOUDSfbD/iGJCYPIBmPyzq59vvQWE/9c8x8kLSWD9kn+WFoW5JP7o2OCQIjQg/xVLW+7KNM78UsrLKT6wiv4LvzqG0IDs/zVNt3SzqUz8OQIfWms9oP1IO5m5Q7YI/JsSebocjlT/EfYZlo9uiP0z2/Qts5Kw/TvkSVbgYtD+v2Jkh2Uy6P/mk0ezTVMA/iszYp07Nwj/fqmcYqb3FP4hFTldeD8k/mHlAE0C1zD8DWj67EVDQP89i7+YlVtI/K3Tzx5No1D8InJ3z8HHWP+XIsZLiZdg/zn+8FZE62j9Mowvi6t3bP01pmgNGT90/enGgj0t/3j9EVel65EffP7zXQQwRg98/uWpDan9s4D+OnQmwPCbgP4GDrF3JhN4/Cbw4lhwc3D9YGhlg9p3YPzJKwH1Xo9U/QFamTvZF0z91p+CVyVXRP19lyAyvf88/i2shbYgWzT+Puikn0uTLP1hxDeDrc9A/\",\"dtype\":\"float64\",\"shape\":[75]},\"y\":{\"__ndarray__\":\"GhExyth1ND/Sv8nbtpRIP2vylNV0PVE/aTum7souWD/At0SJ8fVgPw3Iuahxymc/MSNhhJWvcD/bTfBN02d3P2zb5nxnaoA/CD5h5MAGhz8NmeH1TyaQP+zrCsc9p5Y/LbKd76fGnz/bLW5ISEmmPww9YvTcQq8/JV2OstnstT8Er5Y7M8G+P0c+r3jqkcU/5h99k6ZBzj88bCIzFzjVP4enV8oyxN0//yH99nXg5D8qOpLLf0jtP5kqGJXUifQ/c9cS8kHP/D+/DpwzojQEQIEmwoanVwxA4lgXt9HgE0BSSZ2AJuIbQAMJih9jjiNA5q4l5INuK0AwTKYKRj0zQNv5fmq8/DpAaCJseHrtQkB/+zpwzoxKQM3MzMzMeFJAZmZmZmZqWEAAAAAAAFxeQM3MzMzMJmJAmpmZmZkfZUBmZmZmZhhoQDMzMzMzEWtAAAAAAAAKbkBmZmZmZoFwQM3MzMzM/XFAMzMzMzN6c0CamZmZmfZ0QAAAAAAAc3ZAZmZmZmbvd0DNzMzMzGt5QDMzMzMz6HpAmpmZmZlkfEAAAAAAAOF9QGZmZmZmXX9AZmZmZuZsgECamZmZGSuBQM3MzMxM6YFAAAAAAICngkAzMzMzs2WDQGZmZmbmI4RAmpmZmRnihEDNzMzMTKCFQAAAAACAXoZAMzMzM7Mch0BmZmZm5tqHQJqZmZkZmYhAzczMzExXiUAAAAAAgBWKQDMzMzOz04pAZmZmZuaRi0CamZmZGVCMQM3MzMxMDo1AAAAAAIDMjUAzMzMzs4qOQGZmZmbmSI9A\",\"dtype\":\"float64\",\"shape\":[75]}}},\"id\":\"0ab00bed-32b8-49e6-819c-7d0a24003e57\",\"type\":\"ColumnDataSource\"},{\"attributes\":{\"data_source\":{\"id\":\"4bee5480-9a57-40ba-99ea-411c3425bc82\",\"type\":\"ColumnDataSource\"},\"glyph\":{\"id\":\"b3f3dbde-5fd4-4619-9f5a-1805b3b9b350\",\"type\":\"Circle\"},\"hover_glyph\":null,\"muted_glyph\":null,\"nonselection_glyph\":{\"id\":\"66b953cd-1de0-40a3-96c7-b6d82a6f8732\",\"type\":\"Circle\"},\"selection_glyph\":null,\"view\":{\"id\":\"4c733c8a-5969-42bc-968f-871ecb76f2ec\",\"type\":\"CDSView\"}},\"id\":\"888b0fcb-f00e-4729-99b7-396c9acbb27d\",\"type\":\"GlyphRenderer\"},{\"attributes\":{\"source\":{\"id\":\"ea41becd-53a8-459f-b4a8-44fe5274e3ba\",\"type\":\"ColumnDataSource\"}},\"id\":\"330396dd-855a-43ec-8cd4-903309934269\",\"type\":\"CDSView\"},{\"attributes\":{\"fill_alpha\":{\"value\":0.7},\"fill_color\":{\"value\":\"#4daf4a\"},\"line_alpha\":{\"value\":0.7},\"line_color\":{\"value\":\"#4daf4a\"},\"x\":{\"field\":\"x\"},\"y\":{\"field\":\"y\"}},\"id\":\"b3f3dbde-5fd4-4619-9f5a-1805b3b9b350\",\"type\":\"Circle\"},{\"attributes\":{\"label\":{\"value\":\"WGT igg=10 wgt_flux=2\"},\"renderers\":[{\"id\":\"41d44640-2c58-43e6-a220-4939c7d0aee5\",\"type\":\"GlyphRenderer\"},{\"id\":\"5f657845-5973-45b1-a03f-42aff629d2f8\",\"type\":\"GlyphRenderer\"}]},\"id\":\"64083c08-bd6d-400b-b59b-0596380d2f43\",\"type\":\"LegendItem\"},{\"attributes\":{},\"id\":\"7c112f15-30e5-41fb-83f1-e1443ec297d7\",\"type\":\"BasicTickFormatter\"},{\"attributes\":{\"callback\":null,\"column_names\":[\"x\",\"y\"],\"data\":{\"x\":{\"__ndarray__\":\"8ZOAf620Sz8NravujrdMP8/scxEOzk4/a9hPE2V9UD86yMA7aptRP1+NXgwowVI//J74Fr7uUz+E5DCbDyZVP1MSvmX8ZVY/Tc51ll+sVz9Y8tW7WvVYP9o11heeN1o/CHsO+TmbWz8HIB53n2NdP24CrAdGD2I/YPWdRXy2aT/bCoQ+MI5yP836jgeSunk/d1+gBF1GgT8fwQ9irqeGP14mbJMGKo0/goFrsK8Okj/N7LXrtyqTP2CZEUTfkpE/6S0hDg1Njj+Th31aPp+IP3zEtCmKh4M/uLfMVVaufj8glog+/uF3P36OLpSAcXI/N4cLZ484bD8aQ6bXvzJlPwlZ3P8T5F4/gzEHrH38VD/DM3HOtndDP4PNlnEUawu/uARTzRNpNr/hUP4XatQnv8qKxaiNvjY/wXOBKFZDUj9dZk7SNWtnPzBbVemKZII/3yJ+CuYelT/awEtqnhCjP55h4vbuFa0/aiYIKKo8tD+/ypWsn6a6P88roLOnZcA/vyTfbeFvwj9BHI38uAjFP/R6WBeEUcg/L8DYDskTzD/1yyN+k/zPP/0hDOJw6tE/GT7/LlTf0z9zHNjDFt/VP4LNeNxp5dc/ceJqzcrd2T9C08Tp2qPbP/cEuvLcLN0/yLSiIONo3j9iBGAn0kLfP98xvklcnd8/oRTZjY6W4D91YWdvZ3XgP3oX1NAXYN8/I0oatR4M3T+6Pz9/am3ZP0oaR0pwLtY/xkDaBEOU0z/ThcpzLHXRP20r9SLei88/TOXDODYgzT/Qll29AhjMP5ZDsHDil9A/\",\"dtype\":\"float64\",\"shape\":[75]},\"y\":{\"__ndarray__\":\"GhExyth1ND/Sv8nbtpRIP2vylNV0PVE/aTum7souWD/At0SJ8fVgPw3Iuahxymc/MSNhhJWvcD/bTfBN02d3P2zb5nxnaoA/CD5h5MAGhz8NmeH1TyaQP+zrCsc9p5Y/LbKd76fGnz/bLW5ISEmmPww9YvTcQq8/JV2OstnstT8Er5Y7M8G+P0c+r3jqkcU/5h99k6ZBzj88bCIzFzjVP4enV8oyxN0//yH99nXg5D8qOpLLf0jtP5kqGJXUifQ/c9cS8kHP/D+/DpwzojQEQIEmwoanVwxA4lgXt9HgE0BSSZ2AJuIbQAMJih9jjiNA5q4l5INuK0AwTKYKRj0zQNv5fmq8/DpAaCJseHrtQkB/+zpwzoxKQM3MzMzMeFJAZmZmZmZqWEAAAAAAAFxeQM3MzMzMJmJAmpmZmZkfZUBmZmZmZhhoQDMzMzMzEWtAAAAAAAAKbkBmZmZmZoFwQM3MzMzM/XFAMzMzMzN6c0CamZmZmfZ0QAAAAAAAc3ZAZmZmZmbvd0DNzMzMzGt5QDMzMzMz6HpAmpmZmZlkfEAAAAAAAOF9QGZmZmZmXX9AZmZmZuZsgECamZmZGSuBQM3MzMxM6YFAAAAAAICngkAzMzMzs2WDQGZmZmbmI4RAmpmZmRnihEDNzMzMTKCFQAAAAACAXoZAMzMzM7Mch0BmZmZm5tqHQJqZmZkZmYhAzczMzExXiUAAAAAAgBWKQDMzMzOz04pAZmZmZuaRi0CamZmZGVCMQM3MzMxMDo1AAAAAAIDMjUAzMzMzs4qOQGZmZmbmSI9A\",\"dtype\":\"float64\",\"shape\":[75]}}},\"id\":\"b9eefa7d-2689-4ef5-8533-670078b96b25\",\"type\":\"ColumnDataSource\"},{\"attributes\":{\"data_source\":{\"id\":\"b459dccf-74cb-418b-a8a8-f031c1b24f01\",\"type\":\"ColumnDataSource\"},\"glyph\":{\"id\":\"769d3546-90dd-4567-aa35-02d87547244c\",\"type\":\"Line\"},\"hover_glyph\":null,\"muted_glyph\":null,\"nonselection_glyph\":{\"id\":\"de854034-b4db-4b41-84da-7772b8f37cb0\",\"type\":\"Line\"},\"selection_glyph\":null,\"view\":{\"id\":\"6506f806-0a85-4c2a-936a-20dfed5cff5e\",\"type\":\"CDSView\"}},\"id\":\"0dd3cb2e-136e-4807-b636-eefc10757583\",\"type\":\"GlyphRenderer\"},{\"attributes\":{\"callback\":null,\"column_names\":[\"x\",\"y\"],\"data\":{\"x\":{\"__ndarray__\":\"8ZOAf620Sz8NravujrdMP8/scxEOzk4/a9hPE2V9UD86yMA7aptRP1+NXgwowVI//J74Fr7uUz+E5DCbDyZVP1MSvmX8ZVY/Tc51ll+sVz9Y8tW7WvVYP9o11heeN1o/CHsO+TmbWz8HIB53n2NdP24CrAdGD2I/YPWdRXy2aT/bCoQ+MI5yP836jgeSunk/d1+gBF1GgT8fwQ9irqeGP14mbJMGKo0/goFrsK8Okj/N7LXrtyqTP2CZEUTfkpE/6S0hDg1Njj+Th31aPp+IP3zEtCmKh4M/uLfMVVaufj8glog+/uF3P36OLpSAcXI/N4cLZ484bD8aQ6bXvzJlPwlZ3P8T5F4/gzEHrH38VD/DM3HOtndDP4PNlnEUawu/uARTzRNpNr/hUP4XatQnv8qKxaiNvjY/wXOBKFZDUj9dZk7SNWtnPzBbVemKZII/3yJ+CuYelT/awEtqnhCjP55h4vbuFa0/aiYIKKo8tD+/ypWsn6a6P88roLOnZcA/vyTfbeFvwj9BHI38uAjFP/R6WBeEUcg/L8DYDskTzD/1yyN+k/zPP/0hDOJw6tE/GT7/LlTf0z9zHNjDFt/VP4LNeNxp5dc/ceJqzcrd2T9C08Tp2qPbP/cEuvLcLN0/yLSiIONo3j9iBGAn0kLfP98xvklcnd8/oRTZjY6W4D91YWdvZ3XgP3oX1NAXYN8/I0oatR4M3T+6Pz9/am3ZP0oaR0pwLtY/xkDaBEOU0z/ThcpzLHXRP20r9SLei88/TOXDODYgzT/Qll29AhjMP5ZDsHDil9A/\",\"dtype\":\"float64\",\"shape\":[75]},\"y\":{\"__ndarray__\":\"GhExyth1ND/Sv8nbtpRIP2vylNV0PVE/aTum7souWD/At0SJ8fVgPw3Iuahxymc/MSNhhJWvcD/bTfBN02d3P2zb5nxnaoA/CD5h5MAGhz8NmeH1TyaQP+zrCsc9p5Y/LbKd76fGnz/bLW5ISEmmPww9YvTcQq8/JV2OstnstT8Er5Y7M8G+P0c+r3jqkcU/5h99k6ZBzj88bCIzFzjVP4enV8oyxN0//yH99nXg5D8qOpLLf0jtP5kqGJXUifQ/c9cS8kHP/D+/DpwzojQEQIEmwoanVwxA4lgXt9HgE0BSSZ2AJuIbQAMJih9jjiNA5q4l5INuK0AwTKYKRj0zQNv5fmq8/DpAaCJseHrtQkB/+zpwzoxKQM3MzMzMeFJAZmZmZmZqWEAAAAAAAFxeQM3MzMzMJmJAmpmZmZkfZUBmZmZmZhhoQDMzMzMzEWtAAAAAAAAKbkBmZmZmZoFwQM3MzMzM/XFAMzMzMzN6c0CamZmZmfZ0QAAAAAAAc3ZAZmZmZmbvd0DNzMzMzGt5QDMzMzMz6HpAmpmZmZlkfEAAAAAAAOF9QGZmZmZmXX9AZmZmZuZsgECamZmZGSuBQM3MzMxM6YFAAAAAAICngkAzMzMzs2WDQGZmZmbmI4RAmpmZmRnihEDNzMzMTKCFQAAAAACAXoZAMzMzM7Mch0BmZmZm5tqHQJqZmZkZmYhAzczMzExXiUAAAAAAgBWKQDMzMzOz04pAZmZmZuaRi0CamZmZGVCMQM3MzMxMDo1AAAAAAIDMjUAzMzMzs4qOQGZmZmbmSI9A\",\"dtype\":\"float64\",\"shape\":[75]}}},\"id\":\"1b4aac1f-d8ea-4954-b7fd-28736d6c2dbf\",\"type\":\"ColumnDataSource\"},{\"attributes\":{\"source\":{\"id\":\"4bee5480-9a57-40ba-99ea-411c3425bc82\",\"type\":\"ColumnDataSource\"}},\"id\":\"4c733c8a-5969-42bc-968f-871ecb76f2ec\",\"type\":\"CDSView\"},{\"attributes\":{\"ticker\":null},\"id\":\"c440c68d-3cbd-4712-8061-eef81cf8e34e\",\"type\":\"LogTickFormatter\"},{\"attributes\":{\"children\":[{\"id\":\"e1927a18-8325-4e42-bc8a-564ccc47edcf\",\"type\":\"ToolbarBox\"},{\"id\":\"b3c73239-9ed9-476e-ac2c-40ea33e13136\",\"type\":\"Column\"}]},\"id\":\"9cc00e54-7a88-40ee-a55e-4a2cecb50fdc\",\"type\":\"Column\"},{\"attributes\":{\"source\":{\"id\":\"b459dccf-74cb-418b-a8a8-f031c1b24f01\",\"type\":\"ColumnDataSource\"}},\"id\":\"6506f806-0a85-4c2a-936a-20dfed5cff5e\",\"type\":\"CDSView\"},{\"attributes\":{\"line_color\":\"#4daf4a\",\"line_width\":1.5,\"x\":{\"field\":\"x\"},\"y\":{\"field\":\"y\"}},\"id\":\"27a5a8b9-19cf-46f1-bbe6-745f013ededc\",\"type\":\"Line\"},{\"attributes\":{\"callback\":null,\"column_names\":[\"x\",\"y\"],\"data\":{\"x\":{\"__ndarray__\":\"8ZOAf620Sz8NravujrdMP8/scxEOzk4/a9hPE2V9UD86yMA7aptRP1+NXgwowVI//J74Fr7uUz+E5DCbDyZVP1MSvmX8ZVY/Tc51ll+sVz9Y8tW7WvVYP9o11heeN1o/CHsO+TmbWz8HIB53n2NdP24CrAdGD2I/YPWdRXy2aT/bCoQ+MI5yP836jgeSunk/d1+gBF1GgT8fwQ9irqeGP14mbJMGKo0/goFrsK8Okj/N7LXrtyqTP2CZEUTfkpE/6S0hDg1Njj+Th31aPp+IP3zEtCmKh4M/uLfMVVaufj8glog+/uF3P36OLpSAcXI/N4cLZ484bD8aQ6bXvzJlPwlZ3P8T5F4/gzEHrH38VD/DM3HOtndDP4PNlnEUawu/uARTzRNpNr/hUP4XatQnv8qKxaiNvjY/wXOBKFZDUj9dZk7SNWtnPzBbVemKZII/3yJ+CuYelT/awEtqnhCjP55h4vbuFa0/aiYIKKo8tD+/ypWsn6a6P88roLOnZcA/vyTfbeFvwj9BHI38uAjFP/R6WBeEUcg/L8DYDskTzD/1yyN+k/zPP/0hDOJw6tE/GT7/LlTf0z9zHNjDFt/VP4LNeNxp5dc/ceJqzcrd2T9C08Tp2qPbP/cEuvLcLN0/yLSiIONo3j9iBGAn0kLfP98xvklcnd8/oRTZjY6W4D91YWdvZ3XgP3oX1NAXYN8/I0oatR4M3T+6Pz9/am3ZP0oaR0pwLtY/xkDaBEOU0z/ThcpzLHXRP20r9SLei88/TOXDODYgzT/Qll29AhjMP5ZDsHDil9A/\",\"dtype\":\"float64\",\"shape\":[75]},\"y\":{\"__ndarray__\":\"GhExyth1ND/Sv8nbtpRIP2vylNV0PVE/aTum7souWD/At0SJ8fVgPw3Iuahxymc/MSNhhJWvcD/bTfBN02d3P2zb5nxnaoA/CD5h5MAGhz8NmeH1TyaQP+zrCsc9p5Y/LbKd76fGnz/bLW5ISEmmPww9YvTcQq8/JV2OstnstT8Er5Y7M8G+P0c+r3jqkcU/5h99k6ZBzj88bCIzFzjVP4enV8oyxN0//yH99nXg5D8qOpLLf0jtP5kqGJXUifQ/c9cS8kHP/D+/DpwzojQEQIEmwoanVwxA4lgXt9HgE0BSSZ2AJuIbQAMJih9jjiNA5q4l5INuK0AwTKYKRj0zQNv5fmq8/DpAaCJseHrtQkB/+zpwzoxKQM3MzMzMeFJAZmZmZmZqWEAAAAAAAFxeQM3MzMzMJmJAmpmZmZkfZUBmZmZmZhhoQDMzMzMzEWtAAAAAAAAKbkBmZmZmZoFwQM3MzMzM/XFAMzMzMzN6c0CamZmZmfZ0QAAAAAAAc3ZAZmZmZmbvd0DNzMzMzGt5QDMzMzMz6HpAmpmZmZlkfEAAAAAAAOF9QGZmZmZmXX9AZmZmZuZsgECamZmZGSuBQM3MzMxM6YFAAAAAAICngkAzMzMzs2WDQGZmZmbmI4RAmpmZmRnihEDNzMzMTKCFQAAAAACAXoZAMzMzM7Mch0BmZmZm5tqHQJqZmZkZmYhAzczMzExXiUAAAAAAgBWKQDMzMzOz04pAZmZmZuaRi0CamZmZGVCMQM3MzMxMDo1AAAAAAIDMjUAzMzMzs4qOQGZmZmbmSI9A\",\"dtype\":\"float64\",\"shape\":[75]}}},\"id\":\"1d869a54-682d-447c-97c7-8cb14e0b6753\",\"type\":\"ColumnDataSource\"},{\"attributes\":{\"line_alpha\":0.1,\"line_color\":\"#1f77b4\",\"line_width\":1.5,\"x\":{\"field\":\"x\"},\"y\":{\"field\":\"y\"}},\"id\":\"90ac8c37-451f-4911-9669-150a0721a413\",\"type\":\"Line\"},{\"attributes\":{\"data_source\":{\"id\":\"0ab00bed-32b8-49e6-819c-7d0a24003e57\",\"type\":\"ColumnDataSource\"},\"glyph\":{\"id\":\"27a5a8b9-19cf-46f1-bbe6-745f013ededc\",\"type\":\"Line\"},\"hover_glyph\":null,\"muted_glyph\":null,\"nonselection_glyph\":{\"id\":\"90ac8c37-451f-4911-9669-150a0721a413\",\"type\":\"Line\"},\"selection_glyph\":null,\"view\":{\"id\":\"4a6bc31e-2c42-4c59-b32a-b1059df8af2c\",\"type\":\"CDSView\"}},\"id\":\"d3743b3c-30f0-45dd-b4a4-ae3b3c6fbe95\",\"type\":\"GlyphRenderer\"},{\"attributes\":{\"source\":{\"id\":\"0ab00bed-32b8-49e6-819c-7d0a24003e57\",\"type\":\"ColumnDataSource\"}},\"id\":\"4a6bc31e-2c42-4c59-b32a-b1059df8af2c\",\"type\":\"CDSView\"},{\"attributes\":{\"fill_alpha\":{\"value\":0.7},\"fill_color\":{\"value\":\"#984ea3\"},\"line_alpha\":{\"value\":0.7},\"line_color\":{\"value\":\"#984ea3\"},\"x\":{\"field\":\"x\"},\"y\":{\"field\":\"y\"}},\"id\":\"4d36ca2e-fd35-4e24-85b4-e8e1be063080\",\"type\":\"Square\"},{\"attributes\":{\"callback\":null,\"end\":0.020349434292400003,\"start\":-0.0005744675323999999},\"id\":\"d32b73e5-ed4b-4ea4-bd36-5f746e3d977c\",\"type\":\"Range1d\"},{\"attributes\":{\"source\":{\"id\":\"1b4aac1f-d8ea-4954-b7fd-28736d6c2dbf\",\"type\":\"ColumnDataSource\"}},\"id\":\"5c25ce0f-06a5-400f-9064-a31a25df29bf\",\"type\":\"CDSView\"},{\"attributes\":{\"line_alpha\":0.6,\"line_color\":\"#984ea3\",\"line_width\":3,\"x\":{\"field\":\"x\"},\"y\":{\"field\":\"y\"}},\"id\":\"01f4b931-873b-4ddf-b91b-6e1c8467a367\",\"type\":\"Line\"},{\"attributes\":{\"fill_alpha\":{\"value\":0.1},\"fill_color\":{\"value\":\"#1f77b4\"},\"line_alpha\":{\"value\":0.1},\"line_color\":{\"value\":\"#1f77b4\"},\"x\":{\"field\":\"x\"},\"y\":{\"field\":\"y\"}},\"id\":\"c3a2b08f-5e11-435f-9678-873fbca86391\",\"type\":\"Square\"},{\"attributes\":{\"data_source\":{\"id\":\"1b4aac1f-d8ea-4954-b7fd-28736d6c2dbf\",\"type\":\"ColumnDataSource\"},\"glyph\":{\"id\":\"4d36ca2e-fd35-4e24-85b4-e8e1be063080\",\"type\":\"Square\"},\"hover_glyph\":null,\"muted_glyph\":null,\"nonselection_glyph\":{\"id\":\"c3a2b08f-5e11-435f-9678-873fbca86391\",\"type\":\"Square\"},\"selection_glyph\":null,\"view\":{\"id\":\"5c25ce0f-06a5-400f-9064-a31a25df29bf\",\"type\":\"CDSView\"}},\"id\":\"41d44640-2c58-43e6-a220-4939c7d0aee5\",\"type\":\"GlyphRenderer\"},{\"attributes\":{\"toolbar\":{\"id\":\"cc0a5eaa-73f9-4601-ae49-f563e6fccbe7\",\"type\":\"ProxyToolbar\"},\"toolbar_location\":\"above\"},\"id\":\"e1927a18-8325-4e42-bc8a-564ccc47edcf\",\"type\":\"ToolbarBox\"},{\"attributes\":{\"source\":{\"id\":\"1d869a54-682d-447c-97c7-8cb14e0b6753\",\"type\":\"ColumnDataSource\"}},\"id\":\"5c47f43a-4c05-492b-b8cd-c2b188691455\",\"type\":\"CDSView\"},{\"attributes\":{\"items\":[{\"id\":\"c3228dd0-76dc-4883-8405-b77ff8686ba2\",\"type\":\"LegendItem\"},{\"id\":\"8a013c00-c590-4177-bd90-5a10ac9faca9\",\"type\":\"LegendItem\"},{\"id\":\"64083c08-bd6d-400b-b59b-0596380d2f43\",\"type\":\"LegendItem\"}],\"label_text_font_size\":{\"value\":\"8pt\"},\"location\":[10,-30],\"plot\":{\"id\":\"e43ed0fb-f05f-4309-bbf5-aad1e7993f22\",\"subtype\":\"Figure\",\"type\":\"Plot\"}},\"id\":\"5621852f-4a52-4db4-8c89-ca400a710b91\",\"type\":\"Legend\"},{\"attributes\":{\"line_alpha\":0.1,\"line_color\":\"#1f77b4\",\"line_width\":3,\"x\":{\"field\":\"x\"},\"y\":{\"field\":\"y\"}},\"id\":\"4ba8a7f3-ebc8-4ed0-99b4-007746791136\",\"type\":\"Line\"},{\"attributes\":{\"data_source\":{\"id\":\"1d869a54-682d-447c-97c7-8cb14e0b6753\",\"type\":\"ColumnDataSource\"},\"glyph\":{\"id\":\"01f4b931-873b-4ddf-b91b-6e1c8467a367\",\"type\":\"Line\"},\"hover_glyph\":null,\"muted_glyph\":null,\"nonselection_glyph\":{\"id\":\"4ba8a7f3-ebc8-4ed0-99b4-007746791136\",\"type\":\"Line\"},\"selection_glyph\":null,\"view\":{\"id\":\"5c47f43a-4c05-492b-b8cd-c2b188691455\",\"type\":\"CDSView\"}},\"id\":\"5f657845-5973-45b1-a03f-42aff629d2f8\",\"type\":\"GlyphRenderer\"},{\"attributes\":{\"children\":[{\"id\":\"0275ac78-8136-4131-b7cd-db97b5aa1c5b\",\"subtype\":\"Figure\",\"type\":\"Plot\"},{\"id\":\"e43ed0fb-f05f-4309-bbf5-aad1e7993f22\",\"subtype\":\"Figure\",\"type\":\"Plot\"}]},\"id\":\"e4321b54-4d7b-466f-acba-08459ee5cccc\",\"type\":\"Row\"},{\"attributes\":{\"tools\":[{\"id\":\"a1a8a724-0c51-4fd5-9fae-da2041363c58\",\"type\":\"PanTool\"},{\"id\":\"099ad11d-8082-4ea3-88e3-56672d1e91ab\",\"type\":\"WheelZoomTool\"},{\"id\":\"d6070cb2-5b79-4858-899d-cfe83ab0b4a4\",\"type\":\"BoxZoomTool\"},{\"id\":\"ef2ea83e-c075-4ca8-bc42-5dca0dacac87\",\"type\":\"SaveTool\"},{\"id\":\"68a78a8f-33f0-4d42-96ab-924e760dcf37\",\"type\":\"ResetTool\"},{\"id\":\"d46e4720-aad9-42c6-845f-1172a363431a\",\"type\":\"HelpTool\"},{\"id\":\"c3e3445c-c8b6-417c-8105-b634236df560\",\"type\":\"PanTool\"},{\"id\":\"618afeb3-1fd6-48d7-967a-d54389d07169\",\"type\":\"WheelZoomTool\"},{\"id\":\"dceec3f4-dc37-4441-9f7d-3dda818fc4ad\",\"type\":\"BoxZoomTool\"},{\"id\":\"e3a8dcb3-02f0-45f5-9773-7f23d9461624\",\"type\":\"SaveTool\"},{\"id\":\"f00f9550-7c92-43ec-92c3-cf4daa3045b3\",\"type\":\"ResetTool\"},{\"id\":\"dd882637-f5ed-4107-a1f4-3ae3172d5e0a\",\"type\":\"HelpTool\"}]},\"id\":\"cc0a5eaa-73f9-4601-ae49-f563e6fccbe7\",\"type\":\"ProxyToolbar\"},{\"attributes\":{\"bottom_units\":\"screen\",\"fill_alpha\":{\"value\":0.5},\"fill_color\":{\"value\":\"lightgrey\"},\"left_units\":\"screen\",\"level\":\"overlay\",\"line_alpha\":{\"value\":1.0},\"line_color\":{\"value\":\"black\"},\"line_dash\":[4,4],\"line_width\":{\"value\":2},\"plot\":null,\"render_mode\":\"css\",\"right_units\":\"screen\",\"top_units\":\"screen\"},\"id\":\"d62b35ff-8775-423d-a292-90f9e9529276\",\"type\":\"BoxAnnotation\"},{\"attributes\":{\"plot\":{\"id\":\"e43ed0fb-f05f-4309-bbf5-aad1e7993f22\",\"subtype\":\"Figure\",\"type\":\"Plot\"},\"ticker\":{\"id\":\"91a0391e-8157-4496-9398-1c9919196ffe\",\"type\":\"BasicTicker\"}},\"id\":\"fa50776c-5d1c-4f01-bd96-0c727a536916\",\"type\":\"Grid\"},{\"attributes\":{\"source\":{\"id\":\"ed9d522f-65e2-42df-9044-f8e99f45c04c\",\"type\":\"ColumnDataSource\"}},\"id\":\"73667ce2-b836-4323-88fc-98ee1ae2fe38\",\"type\":\"CDSView\"},{\"attributes\":{\"callback\":null,\"end\":0.01,\"start\":1020},\"id\":\"b4600ae1-0541-4679-a7dd-adc323acc8f9\",\"type\":\"Range1d\"},{\"attributes\":{},\"id\":\"618afeb3-1fd6-48d7-967a-d54389d07169\",\"type\":\"WheelZoomTool\"},{\"attributes\":{\"line_alpha\":0.6,\"line_color\":\"#e41a1c\",\"line_dash\":[6],\"line_width\":5,\"x\":{\"field\":\"x\"},\"y\":{\"field\":\"y\"}},\"id\":\"61ff7181-2b55-4d80-bc62-19ca6ac75b6e\",\"type\":\"Line\"},{\"attributes\":{\"line_alpha\":0.1,\"line_color\":\"#1f77b4\",\"line_dash\":[6],\"line_width\":5,\"x\":{\"field\":\"x\"},\"y\":{\"field\":\"y\"}},\"id\":\"de854034-b4db-4b41-84da-7772b8f37cb0\",\"type\":\"Line\"},{\"attributes\":{\"source\":{\"id\":\"60f28ef7-3e25-42fc-8328-0e6e26c6cd19\",\"type\":\"ColumnDataSource\"}},\"id\":\"4658c08c-0a34-4c58-a0c0-ebced28b0774\",\"type\":\"CDSView\"},{\"attributes\":{},\"id\":\"f00f9550-7c92-43ec-92c3-cf4daa3045b3\",\"type\":\"ResetTool\"},{\"attributes\":{\"fill_alpha\":{\"value\":0.1},\"fill_color\":{\"value\":\"#1f77b4\"},\"line_alpha\":{\"value\":0.1},\"line_color\":{\"value\":\"#1f77b4\"},\"x\":{\"field\":\"x\"},\"y\":{\"field\":\"y\"}},\"id\":\"135bb394-9356-4947-ac15-80edc0722852\",\"type\":\"Square\"},{\"attributes\":{\"callback\":null,\"end\":0.5554389725124,\"start\":-0.0058723837524},\"id\":\"904f9964-009f-4d00-bf93-3696d3038581\",\"type\":\"Range1d\"},{\"attributes\":{\"callback\":null,\"column_names\":[\"x\",\"y\"],\"data\":{\"x\":{\"__ndarray__\":\"UNwvr/xqUD9TpORUcNFQP1aUjW2r91E/so6THFEVUz/FQqFkATpUP+5UsRKiZVU/glW1ILSXVj9gJ/UcStFXP7Pmr+feEFk/l2N9NPFWWj+Dk/xmLKNbP9ViROdb9Fw/aExdgmdMXj86d3bTWARgP7CNH0NzWGM/AaqCEXcVaz/JAiVLxiZzP/gl1196LHo/UqwZqLNrgT/9MISUhreGPxQiEErAMY0/NQqV9Domkj87L8eLgmmTP/aTAQW2AZI/6twQin1njz/CA5hsG8qJP5RhGXG6koQ/H8cM3bcdgD80qceLQ7x4P/ORT2nvlXI/JRFR/eBLaz9UYCkU531jP9u/fgX6llo/RRahQ11+UD+GhjRjyvw4P49Z3gRp7CO/h4ThmFk0OL/uIHkrzS8uv0PuN2vq9ig/rxmZgcbvST+8zYjDs7NhP/PfOyadTH0/3o0mkyq8kT/gCakaPpugPxuV+Rmnuak/YrtnnAcpsj9a1/bj56C4P/KU1XQ90b4/Uvmuc5k7wT+H53zjMaTDPycNXol6IMc/YQSmNuVIyz8KNzLyJn3PPwMmT92Fu9E/Q5wceJTO0z/IkIxqS/zVPwUZIiN3Q9g//dCz9sp+2j8dPRtFGHfcP28zkantLN4/P+Hs1jKZ3z8Tb3QAilLgP8yEuqNan+A/JnbpNhOZ4T+ycrvZF5fhP7ad+GLWyOA/ShyBkfrf3j86HyJebJTaP0qS72uHs9Y/+jwt3EWa0z8NS4d3Ti3RP8liD6tHs84/LE2E7EBGzD8rQtqUZWfLP19mM+JdSdA/\",\"dtype\":\"float64\",\"shape\":[75]},\"y\":{\"__ndarray__\":\"S/O/Q+51ND/Sv8nbtpRIP2vylNV0PVE/aTum7souWD/At0SJ8fVgPw3Iuahxymc/MSNhhJWvcD/bTfBN02d3P2zb5nxnaoA/CD5h5MAGhz8NmeH1TyaQP+zrCsc9p5Y/LbKd76fGnz/bLW5ISEmmPww9YvTcQq8/JV2OstnstT8Er5Y7M8G+P0c+r3jqkcU/5h99k6ZBzj88bCIzFzjVP4enV8oyxN0//yH99nXg5D8qOpLLf0jtP5kqGJXUifQ/c9cS8kHP/D+/DpwzojQEQIEmwoanVwxA4lgXt9HgE0BSSZ2AJuIbQAMJih9jjiNA5q4l5INuK0AwTKYKRj0zQNv5fmq8/DpAaCJseHrtQkB/+zpwzoxKQM3MzMzMeFJAZmZmZmZqWEAAAAAAAFxeQM3MzMzMJmJAmpmZmZkfZUBmZmZmZhhoQDMzMzMzEWtAAAAAAAAKbkBmZmZmZoFwQM3MzMzM/XFAMzMzMzN6c0CamZmZmfZ0QAAAAAAAc3ZAZmZmZmbvd0DNzMzMzGt5QDMzMzMz6HpAmpmZmZlkfEAAAAAAAOF9QGZmZmZmXX9AZmZmZuZsgECamZmZGSuBQM3MzMxM6YFAAAAAAICngkAzMzMzs2WDQGZmZmbmI4RAmpmZmRnihEDNzMzMTKCFQAAAAACAXoZAMzMzM7Mch0BmZmZm5tqHQJqZmZkZmYhAzczMzExXiUAAAAAAgBWKQDMzMzOz04pAZmZmZuaRi0CamZmZGVCMQM3MzMxMDo1AAAAAAIDMjUAzMzMzs4qOQGZmZmbmSI9A\",\"dtype\":\"float64\",\"shape\":[75]}}},\"id\":\"ea41becd-53a8-459f-b4a8-44fe5274e3ba\",\"type\":\"ColumnDataSource\"},{\"attributes\":{},\"id\":\"2ac9e158-78a8-48da-9083-a719a127f01a\",\"type\":\"LogScale\"},{\"attributes\":{},\"id\":\"bfefd171-b604-4d68-a55c-0f79b71f976e\",\"type\":\"LinearScale\"},{\"attributes\":{\"overlay\":{\"id\":\"d62b35ff-8775-423d-a292-90f9e9529276\",\"type\":\"BoxAnnotation\"}},\"id\":\"dceec3f4-dc37-4441-9f7d-3dda818fc4ad\",\"type\":\"BoxZoomTool\"},{\"attributes\":{\"callback\":null,\"end\":0.01,\"start\":1020},\"id\":\"f0cb9c2e-4cdf-4a0e-8e44-6796a13f7dcc\",\"type\":\"Range1d\"},{\"attributes\":{},\"id\":\"36af256d-5b3c-4919-aba2-1a6a48ad285f\",\"type\":\"LinearScale\"},{\"attributes\":{\"fill_alpha\":{\"value\":0.7},\"fill_color\":{\"value\":\"#984ea3\"},\"line_alpha\":{\"value\":0.7},\"line_color\":{\"value\":\"#984ea3\"},\"x\":{\"field\":\"x\"},\"y\":{\"field\":\"y\"}},\"id\":\"892c16db-116a-4077-9e19-b54f498e88c4\",\"type\":\"Square\"},{\"attributes\":{},\"id\":\"e3a8dcb3-02f0-45f5-9773-7f23d9461624\",\"type\":\"SaveTool\"},{\"attributes\":{\"active_drag\":\"auto\",\"active_inspect\":\"auto\",\"active_scroll\":\"auto\",\"active_tap\":\"auto\",\"tools\":[{\"id\":\"a1a8a724-0c51-4fd5-9fae-da2041363c58\",\"type\":\"PanTool\"},{\"id\":\"099ad11d-8082-4ea3-88e3-56672d1e91ab\",\"type\":\"WheelZoomTool\"},{\"id\":\"d6070cb2-5b79-4858-899d-cfe83ab0b4a4\",\"type\":\"BoxZoomTool\"},{\"id\":\"ef2ea83e-c075-4ca8-bc42-5dca0dacac87\",\"type\":\"SaveTool\"},{\"id\":\"68a78a8f-33f0-4d42-96ab-924e760dcf37\",\"type\":\"ResetTool\"},{\"id\":\"d46e4720-aad9-42c6-845f-1172a363431a\",\"type\":\"HelpTool\"}]},\"id\":\"c618a102-9de0-4d14-b4bd-0b990252723d\",\"type\":\"Toolbar\"},{\"attributes\":{\"line_alpha\":0.1,\"line_color\":\"#1f77b4\",\"line_width\":1.5,\"x\":{\"field\":\"x\"},\"y\":{\"field\":\"y\"}},\"id\":\"4d799909-94d3-4702-b368-32f06573840e\",\"type\":\"Line\"},{\"attributes\":{\"callback\":null,\"column_names\":[\"x\",\"y\"],\"data\":{\"x\":{\"__ndarray__\":\"mRoZilFVRT9IfMRnHGtGP+hQhGBOukg/0XT4Nh8jSz8nzBZxg59NP923NfrpFFA/esN1vK1jUT81ezuhErlSPwL2KfQuGFQ/AYABEyiBVT/YDb136+tWP/o/gRsUUlg/06X+f/WfWT9fl305HGZbPytc8BAoVWE/no9wakD1aT8Cd/or5lNzPzj9+AqUTXs/xFyV9tSSgj+XgMq+TJCIP4N+ICXowo8/saEImrCskz8PinH0tKCUPyE020Uzd5I/nkfZ4wT0jj8gU+u7KmmIP/a20Wsw54I/PhJD6q5XfT+JRk7aKO92Pw6B2TwLFHI/AChOUDSfbD/iGJCYPIBmPyzq59vvQWE/9c8x8kLSWD9kn+WFoW5JP7o2OCQIjQg/xVLW+7KNM78UsrLKT6wiv4LvzqG0IDs/zVNt3SzqUz8OQIfWms9oP1IO5m5Q7YI/JsSebocjlT/EfYZlo9uiP0z2/Qts5Kw/TvkSVbgYtD+v2Jkh2Uy6P/mk0ezTVMA/iszYp07Nwj/fqmcYqb3FP4hFTldeD8k/mHlAE0C1zD8DWj67EVDQP89i7+YlVtI/K3Tzx5No1D8InJ3z8HHWP+XIsZLiZdg/zn+8FZE62j9Mowvi6t3bP01pmgNGT90/enGgj0t/3j9EVel65EffP7zXQQwRg98/uWpDan9s4D+OnQmwPCbgP4GDrF3JhN4/Cbw4lhwc3D9YGhlg9p3YPzJKwH1Xo9U/QFamTvZF0z91p+CVyVXRP19lyAyvf88/i2shbYgWzT+Puikn0uTLP1hxDeDrc9A/\",\"dtype\":\"float64\",\"shape\":[75]},\"y\":{\"__ndarray__\":\"GhExyth1ND/Sv8nbtpRIP2vylNV0PVE/aTum7souWD/At0SJ8fVgPw3Iuahxymc/MSNhhJWvcD/bTfBN02d3P2zb5nxnaoA/CD5h5MAGhz8NmeH1TyaQP+zrCsc9p5Y/LbKd76fGnz/bLW5ISEmmPww9YvTcQq8/JV2OstnstT8Er5Y7M8G+P0c+r3jqkcU/5h99k6ZBzj88bCIzFzjVP4enV8oyxN0//yH99nXg5D8qOpLLf0jtP5kqGJXUifQ/c9cS8kHP/D+/DpwzojQEQIEmwoanVwxA4lgXt9HgE0BSSZ2AJuIbQAMJih9jjiNA5q4l5INuK0AwTKYKRj0zQNv5fmq8/DpAaCJseHrtQkB/+zpwzoxKQM3MzMzMeFJAZmZmZmZqWEAAAAAAAFxeQM3MzMzMJmJAmpmZmZkfZUBmZmZmZhhoQDMzMzMzEWtAAAAAAAAKbkBmZmZmZoFwQM3MzMzM/XFAMzMzMzN6c0CamZmZmfZ0QAAAAAAAc3ZAZmZmZmbvd0DNzMzMzGt5QDMzMzMz6HpAmpmZmZlkfEAAAAAAAOF9QGZmZmZmXX9AZmZmZuZsgECamZmZGSuBQM3MzMxM6YFAAAAAAICngkAzMzMzs2WDQGZmZmbmI4RAmpmZmRnihEDNzMzMTKCFQAAAAACAXoZAMzMzM7Mch0BmZmZm5tqHQJqZmZkZmYhAzczMzExXiUAAAAAAgBWKQDMzMzOz04pAZmZmZuaRi0CamZmZGVCMQM3MzMxMDo1AAAAAAIDMjUAzMzMzs4qOQGZmZmbmSI9A\",\"dtype\":\"float64\",\"shape\":[75]}}},\"id\":\"6f900dd1-4b9d-4f01-9918-765f7067a79f\",\"type\":\"ColumnDataSource\"},{\"attributes\":{\"below\":[{\"id\":\"c5c05416-8437-45b5-8bf0-3f38deca6946\",\"type\":\"LinearAxis\"}],\"left\":[{\"id\":\"af2e6e92-867a-4215-96c3-9db81c5a30cc\",\"type\":\"LogAxis\"}],\"plot_height\":500,\"plot_width\":560,\"renderers\":[{\"id\":\"c5c05416-8437-45b5-8bf0-3f38deca6946\",\"type\":\"LinearAxis\"},{\"id\":\"fa50776c-5d1c-4f01-bd96-0c727a536916\",\"type\":\"Grid\"},{\"id\":\"af2e6e92-867a-4215-96c3-9db81c5a30cc\",\"type\":\"LogAxis\"},{\"id\":\"2ff2e766-8d16-435e-8598-67faa533edee\",\"type\":\"Grid\"},{\"id\":\"d62b35ff-8775-423d-a292-90f9e9529276\",\"type\":\"BoxAnnotation\"},{\"id\":\"8d03104d-e4ec-4f2e-80a8-a063c0e6917c\",\"type\":\"GlyphRenderer\"},{\"id\":\"888b0fcb-f00e-4729-99b7-396c9acbb27d\",\"type\":\"GlyphRenderer\"},{\"id\":\"d3743b3c-30f0-45dd-b4a4-ae3b3c6fbe95\",\"type\":\"GlyphRenderer\"},{\"id\":\"41d44640-2c58-43e6-a220-4939c7d0aee5\",\"type\":\"GlyphRenderer\"},{\"id\":\"5f657845-5973-45b1-a03f-42aff629d2f8\",\"type\":\"GlyphRenderer\"},{\"id\":\"5621852f-4a52-4db4-8c89-ca400a710b91\",\"type\":\"Legend\"}],\"right\":[{\"id\":\"5621852f-4a52-4db4-8c89-ca400a710b91\",\"type\":\"Legend\"}],\"title\":{\"id\":\"c8846e76-ab62-4dd5-843c-64e68032d585\",\"type\":\"Title\"},\"toolbar\":{\"id\":\"43c2a7fb-5ca0-4d52-8f62-56951d27ae6a\",\"type\":\"Toolbar\"},\"toolbar_location\":null,\"x_range\":{\"id\":\"d32b73e5-ed4b-4ea4-bd36-5f746e3d977c\",\"type\":\"Range1d\"},\"x_scale\":{\"id\":\"36af256d-5b3c-4919-aba2-1a6a48ad285f\",\"type\":\"LinearScale\"},\"y_range\":{\"id\":\"f0cb9c2e-4cdf-4a0e-8e44-6796a13f7dcc\",\"type\":\"Range1d\"},\"y_scale\":{\"id\":\"2ac9e158-78a8-48da-9083-a719a127f01a\",\"type\":\"LogScale\"}},\"id\":\"e43ed0fb-f05f-4309-bbf5-aad1e7993f22\",\"subtype\":\"Figure\",\"type\":\"Plot\"},{\"attributes\":{},\"id\":\"dd1402e4-ef24-4cdd-a4cf-001afac0d3e2\",\"type\":\"BasicTickFormatter\"},{\"attributes\":{},\"id\":\"ed13abda-ef42-462b-9a09-8385cf1aafb8\",\"type\":\"BasicTicker\"},{\"attributes\":{\"plot\":null,\"text\":\"Linear pressure scale\"},\"id\":\"2e473c50-f231-46b8-837b-bdf79f2967b3\",\"type\":\"Title\"},{\"attributes\":{},\"id\":\"d36b9abc-a604-45cd-b199-ca037188b451\",\"type\":\"BasicTicker\"},{\"attributes\":{\"data_source\":{\"id\":\"60f28ef7-3e25-42fc-8328-0e6e26c6cd19\",\"type\":\"ColumnDataSource\"},\"glyph\":{\"id\":\"c59bc958-6084-4c66-b42d-32c680a982c2\",\"type\":\"Line\"},\"hover_glyph\":null,\"muted_glyph\":null,\"nonselection_glyph\":{\"id\":\"188c2aff-db48-48a1-a8bf-6ea365d1e8c6\",\"type\":\"Line\"},\"selection_glyph\":null,\"view\":{\"id\":\"4658c08c-0a34-4c58-a0c0-ebced28b0774\",\"type\":\"CDSView\"}},\"id\":\"39a62aee-0f64-44dc-986a-da50eefee57b\",\"type\":\"GlyphRenderer\"},{\"attributes\":{\"line_color\":\"#4daf4a\",\"line_width\":1.5,\"x\":{\"field\":\"x\"},\"y\":{\"field\":\"y\"}},\"id\":\"7052e084-42fc-4d72-abd0-23bfabbee11c\",\"type\":\"Line\"},{\"attributes\":{\"label\":{\"value\":\"CLIRAD `coolr_bands`\"},\"renderers\":[{\"id\":\"8d03104d-e4ec-4f2e-80a8-a063c0e6917c\",\"type\":\"GlyphRenderer\"}]},\"id\":\"c3228dd0-76dc-4883-8405-b77ff8686ba2\",\"type\":\"LegendItem\"},{\"attributes\":{\"axis_label\":\"pressure [mb]\",\"formatter\":{\"id\":\"c440c68d-3cbd-4712-8061-eef81cf8e34e\",\"type\":\"LogTickFormatter\"},\"plot\":{\"id\":\"e43ed0fb-f05f-4309-bbf5-aad1e7993f22\",\"subtype\":\"Figure\",\"type\":\"Plot\"},\"ticker\":{\"id\":\"7594539e-9e96-486f-8829-824b7d278049\",\"type\":\"LogTicker\"}},\"id\":\"af2e6e92-867a-4215-96c3-9db81c5a30cc\",\"type\":\"LogAxis\"},{\"attributes\":{\"data_source\":{\"id\":\"ed9d522f-65e2-42df-9044-f8e99f45c04c\",\"type\":\"ColumnDataSource\"},\"glyph\":{\"id\":\"bfcd27c4-a517-4d60-8261-6f1deeec4ee7\",\"type\":\"Circle\"},\"hover_glyph\":null,\"muted_glyph\":null,\"nonselection_glyph\":{\"id\":\"21c21f5e-6df8-45dd-ad03-95961fe4555d\",\"type\":\"Circle\"},\"selection_glyph\":null,\"view\":{\"id\":\"73667ce2-b836-4323-88fc-98ee1ae2fe38\",\"type\":\"CDSView\"}},\"id\":\"6f40a63e-621e-4b1b-9066-c935d95c45ec\",\"type\":\"GlyphRenderer\"},{\"attributes\":{\"fill_alpha\":{\"value\":0.1},\"fill_color\":{\"value\":\"#1f77b4\"},\"line_alpha\":{\"value\":0.1},\"line_color\":{\"value\":\"#1f77b4\"},\"x\":{\"field\":\"x\"},\"y\":{\"field\":\"y\"}},\"id\":\"21c21f5e-6df8-45dd-ad03-95961fe4555d\",\"type\":\"Circle\"},{\"attributes\":{\"line_alpha\":0.6,\"line_color\":\"#984ea3\",\"line_width\":3,\"x\":{\"field\":\"x\"},\"y\":{\"field\":\"y\"}},\"id\":\"c59bc958-6084-4c66-b42d-32c680a982c2\",\"type\":\"Line\"},{\"attributes\":{\"callback\":null,\"column_names\":[\"x\",\"y\"],\"data\":{\"x\":{\"__ndarray__\":\"8ZOAf620Sz8NravujrdMP8/scxEOzk4/a9hPE2V9UD86yMA7aptRP1+NXgwowVI//J74Fr7uUz+E5DCbDyZVP1MSvmX8ZVY/Tc51ll+sVz9Y8tW7WvVYP9o11heeN1o/CHsO+TmbWz8HIB53n2NdP24CrAdGD2I/YPWdRXy2aT/bCoQ+MI5yP836jgeSunk/d1+gBF1GgT8fwQ9irqeGP14mbJMGKo0/goFrsK8Okj/N7LXrtyqTP2CZEUTfkpE/6S0hDg1Njj+Th31aPp+IP3zEtCmKh4M/uLfMVVaufj8glog+/uF3P36OLpSAcXI/N4cLZ484bD8aQ6bXvzJlPwlZ3P8T5F4/gzEHrH38VD/DM3HOtndDP4PNlnEUawu/uARTzRNpNr/hUP4XatQnv8qKxaiNvjY/wXOBKFZDUj9dZk7SNWtnPzBbVemKZII/3yJ+CuYelT/awEtqnhCjP55h4vbuFa0/aiYIKKo8tD+/ypWsn6a6P88roLOnZcA/vyTfbeFvwj9BHI38uAjFP/R6WBeEUcg/L8DYDskTzD/1yyN+k/zPP/0hDOJw6tE/GT7/LlTf0z9zHNjDFt/VP4LNeNxp5dc/ceJqzcrd2T9C08Tp2qPbP/cEuvLcLN0/yLSiIONo3j9iBGAn0kLfP98xvklcnd8/oRTZjY6W4D91YWdvZ3XgP3oX1NAXYN8/I0oatR4M3T+6Pz9/am3ZP0oaR0pwLtY/xkDaBEOU0z/ThcpzLHXRP20r9SLei88/TOXDODYgzT/Qll29AhjMP5ZDsHDil9A/\",\"dtype\":\"float64\",\"shape\":[75]},\"y\":{\"__ndarray__\":\"GhExyth1ND/Sv8nbtpRIP2vylNV0PVE/aTum7souWD/At0SJ8fVgPw3Iuahxymc/MSNhhJWvcD/bTfBN02d3P2zb5nxnaoA/CD5h5MAGhz8NmeH1TyaQP+zrCsc9p5Y/LbKd76fGnz/bLW5ISEmmPww9YvTcQq8/JV2OstnstT8Er5Y7M8G+P0c+r3jqkcU/5h99k6ZBzj88bCIzFzjVP4enV8oyxN0//yH99nXg5D8qOpLLf0jtP5kqGJXUifQ/c9cS8kHP/D+/DpwzojQEQIEmwoanVwxA4lgXt9HgE0BSSZ2AJuIbQAMJih9jjiNA5q4l5INuK0AwTKYKRj0zQNv5fmq8/DpAaCJseHrtQkB/+zpwzoxKQM3MzMzMeFJAZmZmZmZqWEAAAAAAAFxeQM3MzMzMJmJAmpmZmZkfZUBmZmZmZhhoQDMzMzMzEWtAAAAAAAAKbkBmZmZmZoFwQM3MzMzM/XFAMzMzMzN6c0CamZmZmfZ0QAAAAAAAc3ZAZmZmZmbvd0DNzMzMzGt5QDMzMzMz6HpAmpmZmZlkfEAAAAAAAOF9QGZmZmZmXX9AZmZmZuZsgECamZmZGSuBQM3MzMxM6YFAAAAAAICngkAzMzMzs2WDQGZmZmbmI4RAmpmZmRnihEDNzMzMTKCFQAAAAACAXoZAMzMzM7Mch0BmZmZm5tqHQJqZmZkZmYhAzczMzExXiUAAAAAAgBWKQDMzMzOz04pAZmZmZuaRi0CamZmZGVCMQM3MzMxMDo1AAAAAAIDMjUAzMzMzs4qOQGZmZmbmSI9A\",\"dtype\":\"float64\",\"shape\":[75]}}},\"id\":\"60f28ef7-3e25-42fc-8328-0e6e26c6cd19\",\"type\":\"ColumnDataSource\"},{\"attributes\":{\"source\":{\"id\":\"b9eefa7d-2689-4ef5-8533-670078b96b25\",\"type\":\"ColumnDataSource\"}},\"id\":\"c1d8c517-bb21-4c38-9eaa-df90ce98170f\",\"type\":\"CDSView\"},{\"attributes\":{\"num_minor_ticks\":10},\"id\":\"7594539e-9e96-486f-8829-824b7d278049\",\"type\":\"LogTicker\"},{\"attributes\":{\"plot\":null,\"text\":\"Log pressure scale\"},\"id\":\"c8846e76-ab62-4dd5-843c-64e68032d585\",\"type\":\"Title\"},{\"attributes\":{\"axis_label\":\"cooling rate [K/day]\",\"formatter\":{\"id\":\"7c112f15-30e5-41fb-83f1-e1443ec297d7\",\"type\":\"BasicTickFormatter\"},\"plot\":{\"id\":\"e43ed0fb-f05f-4309-bbf5-aad1e7993f22\",\"subtype\":\"Figure\",\"type\":\"Plot\"},\"ticker\":{\"id\":\"91a0391e-8157-4496-9398-1c9919196ffe\",\"type\":\"BasicTicker\"}},\"id\":\"c5c05416-8437-45b5-8bf0-3f38deca6946\",\"type\":\"LinearAxis\"},{\"attributes\":{\"children\":[{\"id\":\"e4321b54-4d7b-466f-acba-08459ee5cccc\",\"type\":\"Row\"}]},\"id\":\"b3c73239-9ed9-476e-ac2c-40ea33e13136\",\"type\":\"Column\"},{\"attributes\":{\"callback\":null,\"column_names\":[\"x\",\"y\"],\"data\":{\"x\":{\"__ndarray__\":\"UNwvr/xqUD9TpORUcNFQP1aUjW2r91E/so6THFEVUz/FQqFkATpUP+5UsRKiZVU/glW1ILSXVj9gJ/UcStFXP7Pmr+feEFk/l2N9NPFWWj+Dk/xmLKNbP9ViROdb9Fw/aExdgmdMXj86d3bTWARgP7CNH0NzWGM/AaqCEXcVaz/JAiVLxiZzP/gl1196LHo/UqwZqLNrgT/9MISUhreGPxQiEErAMY0/NQqV9Domkj87L8eLgmmTP/aTAQW2AZI/6twQin1njz/CA5hsG8qJP5RhGXG6koQ/H8cM3bcdgD80qceLQ7x4P/ORT2nvlXI/JRFR/eBLaz9UYCkU531jP9u/fgX6llo/RRahQ11+UD+GhjRjyvw4P49Z3gRp7CO/h4ThmFk0OL/uIHkrzS8uv0PuN2vq9ig/rxmZgcbvST+8zYjDs7NhP/PfOyadTH0/3o0mkyq8kT/gCakaPpugPxuV+Rmnuak/YrtnnAcpsj9a1/bj56C4P/KU1XQ90b4/Uvmuc5k7wT+H53zjMaTDPycNXol6IMc/YQSmNuVIyz8KNzLyJn3PPwMmT92Fu9E/Q5wceJTO0z/IkIxqS/zVPwUZIiN3Q9g//dCz9sp+2j8dPRtFGHfcP28zkantLN4/P+Hs1jKZ3z8Tb3QAilLgP8yEuqNan+A/JnbpNhOZ4T+ycrvZF5fhP7ad+GLWyOA/ShyBkfrf3j86HyJebJTaP0qS72uHs9Y/+jwt3EWa0z8NS4d3Ti3RP8liD6tHs84/LE2E7EBGzD8rQtqUZWfLP19mM+JdSdA/\",\"dtype\":\"float64\",\"shape\":[75]},\"y\":{\"__ndarray__\":\"S/O/Q+51ND/Sv8nbtpRIP2vylNV0PVE/aTum7souWD/At0SJ8fVgPw3Iuahxymc/MSNhhJWvcD/bTfBN02d3P2zb5nxnaoA/CD5h5MAGhz8NmeH1TyaQP+zrCsc9p5Y/LbKd76fGnz/bLW5ISEmmPww9YvTcQq8/JV2OstnstT8Er5Y7M8G+P0c+r3jqkcU/5h99k6ZBzj88bCIzFzjVP4enV8oyxN0//yH99nXg5D8qOpLLf0jtP5kqGJXUifQ/c9cS8kHP/D+/DpwzojQEQIEmwoanVwxA4lgXt9HgE0BSSZ2AJuIbQAMJih9jjiNA5q4l5INuK0AwTKYKRj0zQNv5fmq8/DpAaCJseHrtQkB/+zpwzoxKQM3MzMzMeFJAZmZmZmZqWEAAAAAAAFxeQM3MzMzMJmJAmpmZmZkfZUBmZmZmZhhoQDMzMzMzEWtAAAAAAAAKbkBmZmZmZoFwQM3MzMzM/XFAMzMzMzN6c0CamZmZmfZ0QAAAAAAAc3ZAZmZmZmbvd0DNzMzMzGt5QDMzMzMz6HpAmpmZmZlkfEAAAAAAAOF9QGZmZmZmXX9AZmZmZuZsgECamZmZGSuBQM3MzMxM6YFAAAAAAICngkAzMzMzs2WDQGZmZmbmI4RAmpmZmRnihEDNzMzMTKCFQAAAAACAXoZAMzMzM7Mch0BmZmZm5tqHQJqZmZkZmYhAzczMzExXiUAAAAAAgBWKQDMzMzOz04pAZmZmZuaRi0CamZmZGVCMQM3MzMxMDo1AAAAAAIDMjUAzMzMzs4qOQGZmZmbmSI9A\",\"dtype\":\"float64\",\"shape\":[75]}}},\"id\":\"b459dccf-74cb-418b-a8a8-f031c1b24f01\",\"type\":\"ColumnDataSource\"},{\"attributes\":{\"label\":{\"value\":\"CRD\"},\"renderers\":[{\"id\":\"888b0fcb-f00e-4729-99b7-396c9acbb27d\",\"type\":\"GlyphRenderer\"},{\"id\":\"d3743b3c-30f0-45dd-b4a4-ae3b3c6fbe95\",\"type\":\"GlyphRenderer\"}]},\"id\":\"8a013c00-c590-4177-bd90-5a10ac9faca9\",\"type\":\"LegendItem\"},{\"attributes\":{},\"id\":\"c3e3445c-c8b6-417c-8105-b634236df560\",\"type\":\"PanTool\"},{\"attributes\":{},\"id\":\"b209e75c-40fd-4abc-9c69-22d6eaa21da1\",\"type\":\"LinearScale\"},{\"attributes\":{},\"id\":\"dd882637-f5ed-4107-a1f4-3ae3172d5e0a\",\"type\":\"HelpTool\"},{\"attributes\":{},\"id\":\"9a6e80b7-3203-4f77-9d89-de8552f46289\",\"type\":\"BasicTickFormatter\"},{\"attributes\":{\"bottom_units\":\"screen\",\"fill_alpha\":{\"value\":0.5},\"fill_color\":{\"value\":\"lightgrey\"},\"left_units\":\"screen\",\"level\":\"overlay\",\"line_alpha\":{\"value\":1.0},\"line_color\":{\"value\":\"black\"},\"line_dash\":[4,4],\"line_width\":{\"value\":2},\"plot\":null,\"render_mode\":\"css\",\"right_units\":\"screen\",\"top_units\":\"screen\"},\"id\":\"1205987f-e21f-4fff-be7e-166e418e18d8\",\"type\":\"BoxAnnotation\"},{\"attributes\":{\"dimension\":1,\"plot\":{\"id\":\"e43ed0fb-f05f-4309-bbf5-aad1e7993f22\",\"subtype\":\"Figure\",\"type\":\"Plot\"},\"ticker\":{\"id\":\"7594539e-9e96-486f-8829-824b7d278049\",\"type\":\"LogTicker\"}},\"id\":\"2ff2e766-8d16-435e-8598-67faa533edee\",\"type\":\"Grid\"},{\"attributes\":{\"line_alpha\":0.1,\"line_color\":\"#1f77b4\",\"line_width\":3,\"x\":{\"field\":\"x\"},\"y\":{\"field\":\"y\"}},\"id\":\"188c2aff-db48-48a1-a8bf-6ea365d1e8c6\",\"type\":\"Line\"},{\"attributes\":{\"axis_label\":\"cooling rate [K/day]\",\"formatter\":{\"id\":\"9a6e80b7-3203-4f77-9d89-de8552f46289\",\"type\":\"BasicTickFormatter\"},\"plot\":{\"id\":\"0275ac78-8136-4131-b7cd-db97b5aa1c5b\",\"subtype\":\"Figure\",\"type\":\"Plot\"},\"ticker\":{\"id\":\"d36b9abc-a604-45cd-b199-ca037188b451\",\"type\":\"BasicTicker\"}},\"id\":\"3c01472e-ea63-42b2-9acd-b20076394821\",\"type\":\"LinearAxis\"},{\"attributes\":{\"data_source\":{\"id\":\"ea41becd-53a8-459f-b4a8-44fe5274e3ba\",\"type\":\"ColumnDataSource\"},\"glyph\":{\"id\":\"61ff7181-2b55-4d80-bc62-19ca6ac75b6e\",\"type\":\"Line\"},\"hover_glyph\":null,\"muted_glyph\":null,\"nonselection_glyph\":{\"id\":\"9cd16f99-7db3-4e3e-b33f-54224cf4eeaa\",\"type\":\"Line\"},\"selection_glyph\":null,\"view\":{\"id\":\"330396dd-855a-43ec-8cd4-903309934269\",\"type\":\"CDSView\"}},\"id\":\"8d03104d-e4ec-4f2e-80a8-a063c0e6917c\",\"type\":\"GlyphRenderer\"},{\"attributes\":{},\"id\":\"a1a8a724-0c51-4fd5-9fae-da2041363c58\",\"type\":\"PanTool\"},{\"attributes\":{\"plot\":{\"id\":\"0275ac78-8136-4131-b7cd-db97b5aa1c5b\",\"subtype\":\"Figure\",\"type\":\"Plot\"},\"ticker\":{\"id\":\"d36b9abc-a604-45cd-b199-ca037188b451\",\"type\":\"BasicTicker\"}},\"id\":\"bbc77860-ada4-417e-893b-6f53b47d30de\",\"type\":\"Grid\"},{\"attributes\":{\"dimension\":1,\"plot\":{\"id\":\"0275ac78-8136-4131-b7cd-db97b5aa1c5b\",\"subtype\":\"Figure\",\"type\":\"Plot\"},\"ticker\":{\"id\":\"ed13abda-ef42-462b-9a09-8385cf1aafb8\",\"type\":\"BasicTicker\"}},\"id\":\"7834c2d7-a53d-45da-abc2-703b7d64075c\",\"type\":\"Grid\"},{\"attributes\":{\"axis_label\":\"pressure [mb]\",\"formatter\":{\"id\":\"dd1402e4-ef24-4cdd-a4cf-001afac0d3e2\",\"type\":\"BasicTickFormatter\"},\"plot\":{\"id\":\"0275ac78-8136-4131-b7cd-db97b5aa1c5b\",\"subtype\":\"Figure\",\"type\":\"Plot\"},\"ticker\":{\"id\":\"ed13abda-ef42-462b-9a09-8385cf1aafb8\",\"type\":\"BasicTicker\"}},\"id\":\"abb97b42-e177-40a7-ba54-612032a229ea\",\"type\":\"LinearAxis\"},{\"attributes\":{\"data_source\":{\"id\":\"6f900dd1-4b9d-4f01-9918-765f7067a79f\",\"type\":\"ColumnDataSource\"},\"glyph\":{\"id\":\"7052e084-42fc-4d72-abd0-23bfabbee11c\",\"type\":\"Line\"},\"hover_glyph\":null,\"muted_glyph\":null,\"nonselection_glyph\":{\"id\":\"4d799909-94d3-4702-b368-32f06573840e\",\"type\":\"Line\"},\"selection_glyph\":null,\"view\":{\"id\":\"3eab8d60-4e91-4430-a7dd-5b43a27dfff9\",\"type\":\"CDSView\"}},\"id\":\"099b6f23-9d98-4ece-b78d-5c7198d7b2f0\",\"type\":\"GlyphRenderer\"},{\"attributes\":{\"active_drag\":\"auto\",\"active_inspect\":\"auto\",\"active_scroll\":\"auto\",\"active_tap\":\"auto\",\"tools\":[{\"id\":\"c3e3445c-c8b6-417c-8105-b634236df560\",\"type\":\"PanTool\"},{\"id\":\"618afeb3-1fd6-48d7-967a-d54389d07169\",\"type\":\"WheelZoomTool\"},{\"id\":\"dceec3f4-dc37-4441-9f7d-3dda818fc4ad\",\"type\":\"BoxZoomTool\"},{\"id\":\"e3a8dcb3-02f0-45f5-9773-7f23d9461624\",\"type\":\"SaveTool\"},{\"id\":\"f00f9550-7c92-43ec-92c3-cf4daa3045b3\",\"type\":\"ResetTool\"},{\"id\":\"dd882637-f5ed-4107-a1f4-3ae3172d5e0a\",\"type\":\"HelpTool\"}]},\"id\":\"43c2a7fb-5ca0-4d52-8f62-56951d27ae6a\",\"type\":\"Toolbar\"},{\"attributes\":{\"callback\":null,\"column_names\":[\"x\",\"y\"],\"data\":{\"x\":{\"__ndarray__\":\"mRoZilFVRT9IfMRnHGtGP+hQhGBOukg/0XT4Nh8jSz8nzBZxg59NP923NfrpFFA/esN1vK1jUT81ezuhErlSPwL2KfQuGFQ/AYABEyiBVT/YDb136+tWP/o/gRsUUlg/06X+f/WfWT9fl305HGZbPytc8BAoVWE/no9wakD1aT8Cd/or5lNzPzj9+AqUTXs/xFyV9tSSgj+XgMq+TJCIP4N+ICXowo8/saEImrCskz8PinH0tKCUPyE020Uzd5I/nkfZ4wT0jj8gU+u7KmmIP/a20Wsw54I/PhJD6q5XfT+JRk7aKO92Pw6B2TwLFHI/AChOUDSfbD/iGJCYPIBmPyzq59vvQWE/9c8x8kLSWD9kn+WFoW5JP7o2OCQIjQg/xVLW+7KNM78UsrLKT6wiv4LvzqG0IDs/zVNt3SzqUz8OQIfWms9oP1IO5m5Q7YI/JsSebocjlT/EfYZlo9uiP0z2/Qts5Kw/TvkSVbgYtD+v2Jkh2Uy6P/mk0ezTVMA/iszYp07Nwj/fqmcYqb3FP4hFTldeD8k/mHlAE0C1zD8DWj67EVDQP89i7+YlVtI/K3Tzx5No1D8InJ3z8HHWP+XIsZLiZdg/zn+8FZE62j9Mowvi6t3bP01pmgNGT90/enGgj0t/3j9EVel65EffP7zXQQwRg98/uWpDan9s4D+OnQmwPCbgP4GDrF3JhN4/Cbw4lhwc3D9YGhlg9p3YPzJKwH1Xo9U/QFamTvZF0z91p+CVyVXRP19lyAyvf88/i2shbYgWzT+Puikn0uTLP1hxDeDrc9A/\",\"dtype\":\"float64\",\"shape\":[75]},\"y\":{\"__ndarray__\":\"GhExyth1ND/Sv8nbtpRIP2vylNV0PVE/aTum7souWD/At0SJ8fVgPw3Iuahxymc/MSNhhJWvcD/bTfBN02d3P2zb5nxnaoA/CD5h5MAGhz8NmeH1TyaQP+zrCsc9p5Y/LbKd76fGnz/bLW5ISEmmPww9YvTcQq8/JV2OstnstT8Er5Y7M8G+P0c+r3jqkcU/5h99k6ZBzj88bCIzFzjVP4enV8oyxN0//yH99nXg5D8qOpLLf0jtP5kqGJXUifQ/c9cS8kHP/D+/DpwzojQEQIEmwoanVwxA4lgXt9HgE0BSSZ2AJuIbQAMJih9jjiNA5q4l5INuK0AwTKYKRj0zQNv5fmq8/DpAaCJseHrtQkB/+zpwzoxKQM3MzMzMeFJAZmZmZmZqWEAAAAAAAFxeQM3MzMzMJmJAmpmZmZkfZUBmZmZmZhhoQDMzMzMzEWtAAAAAAAAKbkBmZmZmZoFwQM3MzMzM/XFAMzMzMzN6c0CamZmZmfZ0QAAAAAAAc3ZAZmZmZmbvd0DNzMzMzGt5QDMzMzMz6HpAmpmZmZlkfEAAAAAAAOF9QGZmZmZmXX9AZmZmZuZsgECamZmZGSuBQM3MzMxM6YFAAAAAAICngkAzMzMzs2WDQGZmZmbmI4RAmpmZmRnihEDNzMzMTKCFQAAAAACAXoZAMzMzM7Mch0BmZmZm5tqHQJqZmZkZmYhAzczMzExXiUAAAAAAgBWKQDMzMzOz04pAZmZmZuaRi0CamZmZGVCMQM3MzMxMDo1AAAAAAIDMjUAzMzMzs4qOQGZmZmbmSI9A\",\"dtype\":\"float64\",\"shape\":[75]}}},\"id\":\"ed9d522f-65e2-42df-9044-f8e99f45c04c\",\"type\":\"ColumnDataSource\"},{\"attributes\":{},\"id\":\"099ad11d-8082-4ea3-88e3-56672d1e91ab\",\"type\":\"WheelZoomTool\"},{\"attributes\":{},\"id\":\"68a78a8f-33f0-4d42-96ab-924e760dcf37\",\"type\":\"ResetTool\"},{\"attributes\":{},\"id\":\"d46e4720-aad9-42c6-845f-1172a363431a\",\"type\":\"HelpTool\"},{\"attributes\":{\"overlay\":{\"id\":\"1205987f-e21f-4fff-be7e-166e418e18d8\",\"type\":\"BoxAnnotation\"}},\"id\":\"d6070cb2-5b79-4858-899d-cfe83ab0b4a4\",\"type\":\"BoxZoomTool\"},{\"attributes\":{\"line_alpha\":0.1,\"line_color\":\"#1f77b4\",\"line_dash\":[6],\"line_width\":5,\"x\":{\"field\":\"x\"},\"y\":{\"field\":\"y\"}},\"id\":\"9cd16f99-7db3-4e3e-b33f-54224cf4eeaa\",\"type\":\"Line\"},{\"attributes\":{},\"id\":\"ef2ea83e-c075-4ca8-bc42-5dca0dacac87\",\"type\":\"SaveTool\"},{\"attributes\":{\"below\":[{\"id\":\"3c01472e-ea63-42b2-9acd-b20076394821\",\"type\":\"LinearAxis\"}],\"left\":[{\"id\":\"abb97b42-e177-40a7-ba54-612032a229ea\",\"type\":\"LinearAxis\"}],\"plot_height\":500,\"plot_width\":400,\"renderers\":[{\"id\":\"3c01472e-ea63-42b2-9acd-b20076394821\",\"type\":\"LinearAxis\"},{\"id\":\"bbc77860-ada4-417e-893b-6f53b47d30de\",\"type\":\"Grid\"},{\"id\":\"abb97b42-e177-40a7-ba54-612032a229ea\",\"type\":\"LinearAxis\"},{\"id\":\"7834c2d7-a53d-45da-abc2-703b7d64075c\",\"type\":\"Grid\"},{\"id\":\"1205987f-e21f-4fff-be7e-166e418e18d8\",\"type\":\"BoxAnnotation\"},{\"id\":\"0dd3cb2e-136e-4807-b636-eefc10757583\",\"type\":\"GlyphRenderer\"},{\"id\":\"6f40a63e-621e-4b1b-9066-c935d95c45ec\",\"type\":\"GlyphRenderer\"},{\"id\":\"099b6f23-9d98-4ece-b78d-5c7198d7b2f0\",\"type\":\"GlyphRenderer\"},{\"id\":\"aeca47e2-059c-47f1-9172-4f87d3eab882\",\"type\":\"GlyphRenderer\"},{\"id\":\"39a62aee-0f64-44dc-986a-da50eefee57b\",\"type\":\"GlyphRenderer\"}],\"title\":{\"id\":\"2e473c50-f231-46b8-837b-bdf79f2967b3\",\"type\":\"Title\"},\"toolbar\":{\"id\":\"c618a102-9de0-4d14-b4bd-0b990252723d\",\"type\":\"Toolbar\"},\"toolbar_location\":null,\"x_range\":{\"id\":\"904f9964-009f-4d00-bf93-3696d3038581\",\"type\":\"Range1d\"},\"x_scale\":{\"id\":\"bfefd171-b604-4d68-a55c-0f79b71f976e\",\"type\":\"LinearScale\"},\"y_range\":{\"id\":\"b4600ae1-0541-4679-a7dd-adc323acc8f9\",\"type\":\"Range1d\"},\"y_scale\":{\"id\":\"b209e75c-40fd-4abc-9c69-22d6eaa21da1\",\"type\":\"LinearScale\"}},\"id\":\"0275ac78-8136-4131-b7cd-db97b5aa1c5b\",\"subtype\":\"Figure\",\"type\":\"Plot\"},{\"attributes\":{\"line_alpha\":0.6,\"line_color\":\"#e41a1c\",\"line_dash\":[6],\"line_width\":5,\"x\":{\"field\":\"x\"},\"y\":{\"field\":\"y\"}},\"id\":\"769d3546-90dd-4567-aa35-02d87547244c\",\"type\":\"Line\"},{\"attributes\":{},\"id\":\"91a0391e-8157-4496-9398-1c9919196ffe\",\"type\":\"BasicTicker\"},{\"attributes\":{\"source\":{\"id\":\"6f900dd1-4b9d-4f01-9918-765f7067a79f\",\"type\":\"ColumnDataSource\"}},\"id\":\"3eab8d60-4e91-4430-a7dd-5b43a27dfff9\",\"type\":\"CDSView\"},{\"attributes\":{\"data_source\":{\"id\":\"b9eefa7d-2689-4ef5-8533-670078b96b25\",\"type\":\"ColumnDataSource\"},\"glyph\":{\"id\":\"892c16db-116a-4077-9e19-b54f498e88c4\",\"type\":\"Square\"},\"hover_glyph\":null,\"muted_glyph\":null,\"nonselection_glyph\":{\"id\":\"135bb394-9356-4947-ac15-80edc0722852\",\"type\":\"Square\"},\"selection_glyph\":null,\"view\":{\"id\":\"c1d8c517-bb21-4c38-9eaa-df90ce98170f\",\"type\":\"CDSView\"}},\"id\":\"aeca47e2-059c-47f1-9172-4f87d3eab882\",\"type\":\"GlyphRenderer\"}],\"root_ids\":[\"9cc00e54-7a88-40ee-a55e-4a2cecb50fdc\"]},\"title\":\"Bokeh Application\",\"version\":\"0.12.14\"}};\n",
       "  var render_items = [{\"docid\":\"4cd629a9-cd0b-4c5f-958d-73cc802f837f\",\"elementid\":\"6165b42a-db5f-4a6e-8e59-a821802bc6b7\",\"modelid\":\"9cc00e54-7a88-40ee-a55e-4a2cecb50fdc\"}];\n",
       "  root.Bokeh.embed.embed_items_notebook(docs_json, render_items);\n",
       "\n",
       "  }\n",
       "  if (root.Bokeh !== undefined) {\n",
       "    embed_document(root);\n",
       "  } else {\n",
       "    var attempts = 0;\n",
       "    var timer = setInterval(function(root) {\n",
       "      if (root.Bokeh !== undefined) {\n",
       "        embed_document(root);\n",
       "        clearInterval(timer);\n",
       "      }\n",
       "      attempts++;\n",
       "      if (attempts > 100) {\n",
       "        console.log(\"Bokeh: ERROR: Unable to run BokehJS code because BokehJS library is missing\")\n",
       "        clearInterval(timer);\n",
       "      }\n",
       "    }, 10, root)\n",
       "  }\n",
       "})(window);"
      ],
      "application/vnd.bokehjs_exec.v0+json": ""
     },
     "metadata": {
      "application/vnd.bokehjs_exec.v0+json": {
       "id": "9cc00e54-7a88-40ee-a55e-4a2cecb50fdc"
      }
     },
     "output_type": "display_data"
    },
    {
     "name": "stdout",
     "output_type": "stream",
     "text": [
      "FIGURE. Cooling rate profiles.\n"
     ]
    },
    {
     "data": {
      "text/html": [
       "<a id=\"Flux_Comparison\"></a>"
      ],
      "text/plain": [
       "<IPython.core.display.HTML object>"
      ]
     },
     "metadata": {},
     "output_type": "display_data"
    },
    {
     "data": {
      "text/markdown": [
       "# Flux Comparison"
      ],
      "text/plain": [
       "<IPython.core.display.Markdown object>"
      ]
     },
     "metadata": {},
     "output_type": "display_data"
    },
    {
     "data": {
      "text/html": [
       "<div>\n",
       "<style>\n",
       "    .dataframe thead tr:only-child th {\n",
       "        text-align: right;\n",
       "    }\n",
       "\n",
       "    .dataframe thead th {\n",
       "        text-align: left;\n",
       "    }\n",
       "\n",
       "    .dataframe tbody tr th {\n",
       "        vertical-align: top;\n",
       "    }\n",
       "</style>\n",
       "<table border=\"1\" class=\"dataframe\">\n",
       "  <thead>\n",
       "    <tr style=\"text-align: right;\">\n",
       "      <th></th>\n",
       "      <th></th>\n",
       "      <th>flug</th>\n",
       "      <th>fldg</th>\n",
       "      <th>fnetg</th>\n",
       "    </tr>\n",
       "    <tr>\n",
       "      <th>pressure</th>\n",
       "      <th>level</th>\n",
       "      <th></th>\n",
       "      <th></th>\n",
       "      <th></th>\n",
       "    </tr>\n",
       "  </thead>\n",
       "  <tbody>\n",
       "    <tr>\n",
       "      <th>0.0000</th>\n",
       "      <th>1</th>\n",
       "      <td>-29.997328</td>\n",
       "      <td>0.000000</td>\n",
       "      <td>-29.997328</td>\n",
       "    </tr>\n",
       "    <tr>\n",
       "      <th>1.0685</th>\n",
       "      <th>24</th>\n",
       "      <td>-29.996963</td>\n",
       "      <td>0.001349</td>\n",
       "      <td>-29.995614</td>\n",
       "    </tr>\n",
       "    <tr>\n",
       "      <th>1013.0000</th>\n",
       "      <th>76</th>\n",
       "      <td>-38.491734</td>\n",
       "      <td>35.870686</td>\n",
       "      <td>-2.621049</td>\n",
       "    </tr>\n",
       "  </tbody>\n",
       "</table>\n",
       "</div>"
      ],
      "text/plain": [
       "                      flug       fldg      fnetg\n",
       "pressure  level                                 \n",
       "0.0000    1     -29.997328   0.000000 -29.997328\n",
       "1.0685    24    -29.996963   0.001349 -29.995614\n",
       "1013.0000 76    -38.491734  35.870686  -2.621049"
      ]
     },
     "metadata": {},
     "output_type": "display_data"
    },
    {
     "name": "stdout",
     "output_type": "stream",
     "text": [
      "Table. Fluxes. WGT igg=10 wgt_flux=1\n"
     ]
    },
    {
     "data": {
      "text/html": [
       "<div>\n",
       "<style>\n",
       "    .dataframe thead tr:only-child th {\n",
       "        text-align: right;\n",
       "    }\n",
       "\n",
       "    .dataframe thead th {\n",
       "        text-align: left;\n",
       "    }\n",
       "\n",
       "    .dataframe tbody tr th {\n",
       "        vertical-align: top;\n",
       "    }\n",
       "</style>\n",
       "<table border=\"1\" class=\"dataframe\">\n",
       "  <thead>\n",
       "    <tr style=\"text-align: right;\">\n",
       "      <th></th>\n",
       "      <th></th>\n",
       "      <th>flug</th>\n",
       "      <th>fldg</th>\n",
       "      <th>fnetg</th>\n",
       "    </tr>\n",
       "    <tr>\n",
       "      <th>pressure</th>\n",
       "      <th>level</th>\n",
       "      <th></th>\n",
       "      <th></th>\n",
       "      <th></th>\n",
       "    </tr>\n",
       "  </thead>\n",
       "  <tbody>\n",
       "    <tr>\n",
       "      <th>0.0000</th>\n",
       "      <th>1</th>\n",
       "      <td>-30.008535</td>\n",
       "      <td>0.000000</td>\n",
       "      <td>-30.008535</td>\n",
       "    </tr>\n",
       "    <tr>\n",
       "      <th>1.0685</th>\n",
       "      <th>24</th>\n",
       "      <td>-30.008217</td>\n",
       "      <td>0.001534</td>\n",
       "      <td>-30.006684</td>\n",
       "    </tr>\n",
       "    <tr>\n",
       "      <th>1013.0000</th>\n",
       "      <th>76</th>\n",
       "      <td>-38.491734</td>\n",
       "      <td>35.831583</td>\n",
       "      <td>-2.660152</td>\n",
       "    </tr>\n",
       "  </tbody>\n",
       "</table>\n",
       "</div>"
      ],
      "text/plain": [
       "                      flug       fldg      fnetg\n",
       "pressure  level                                 \n",
       "0.0000    1     -30.008535   0.000000 -30.008535\n",
       "1.0685    24    -30.008217   0.001534 -30.006684\n",
       "1013.0000 76    -38.491734  35.831583  -2.660152"
      ]
     },
     "metadata": {},
     "output_type": "display_data"
    },
    {
     "name": "stdout",
     "output_type": "stream",
     "text": [
      "Table. Fluxes. CRD\n"
     ]
    },
    {
     "data": {
      "text/html": [
       "<div>\n",
       "<style>\n",
       "    .dataframe thead tr:only-child th {\n",
       "        text-align: right;\n",
       "    }\n",
       "\n",
       "    .dataframe thead th {\n",
       "        text-align: left;\n",
       "    }\n",
       "\n",
       "    .dataframe tbody tr th {\n",
       "        vertical-align: top;\n",
       "    }\n",
       "</style>\n",
       "<table border=\"1\" class=\"dataframe\">\n",
       "  <thead>\n",
       "    <tr style=\"text-align: right;\">\n",
       "      <th></th>\n",
       "      <th></th>\n",
       "      <th>flug</th>\n",
       "      <th>fldg</th>\n",
       "      <th>fnetg</th>\n",
       "    </tr>\n",
       "    <tr>\n",
       "      <th>pressure</th>\n",
       "      <th>level</th>\n",
       "      <th></th>\n",
       "      <th></th>\n",
       "      <th></th>\n",
       "    </tr>\n",
       "  </thead>\n",
       "  <tbody>\n",
       "    <tr>\n",
       "      <th>1.000000e-08</th>\n",
       "      <th>1</th>\n",
       "      <td>-30.074835</td>\n",
       "      <td>0.000002</td>\n",
       "      <td>-30.074833</td>\n",
       "    </tr>\n",
       "    <tr>\n",
       "      <th>1.068500e+00</th>\n",
       "      <th>24</th>\n",
       "      <td>-30.074428</td>\n",
       "      <td>0.001325</td>\n",
       "      <td>-30.073103</td>\n",
       "    </tr>\n",
       "    <tr>\n",
       "      <th>1.013000e+03</th>\n",
       "      <th>76</th>\n",
       "      <td>-38.491730</td>\n",
       "      <td>36.231032</td>\n",
       "      <td>-2.260698</td>\n",
       "    </tr>\n",
       "  </tbody>\n",
       "</table>\n",
       "</div>"
      ],
      "text/plain": [
       "                         flug       fldg      fnetg\n",
       "pressure     level                                 \n",
       "1.000000e-08 1     -30.074835   0.000002 -30.074833\n",
       "1.068500e+00 24    -30.074428   0.001325 -30.073103\n",
       "1.013000e+03 76    -38.491730  36.231032  -2.260698"
      ]
     },
     "metadata": {},
     "output_type": "display_data"
    },
    {
     "name": "stdout",
     "output_type": "stream",
     "text": [
      "Table. Fluxes. CLIRAD\n"
     ]
    },
    {
     "data": {
      "text/html": [
       "<div>\n",
       "<style>\n",
       "    .dataframe thead tr:only-child th {\n",
       "        text-align: right;\n",
       "    }\n",
       "\n",
       "    .dataframe thead th {\n",
       "        text-align: left;\n",
       "    }\n",
       "\n",
       "    .dataframe tbody tr th {\n",
       "        vertical-align: top;\n",
       "    }\n",
       "</style>\n",
       "<table border=\"1\" class=\"dataframe\">\n",
       "  <thead>\n",
       "    <tr style=\"text-align: right;\">\n",
       "      <th></th>\n",
       "      <th></th>\n",
       "      <th>flug</th>\n",
       "      <th>fldg</th>\n",
       "      <th>fnetg</th>\n",
       "    </tr>\n",
       "    <tr>\n",
       "      <th>pressure</th>\n",
       "      <th>level</th>\n",
       "      <th></th>\n",
       "      <th></th>\n",
       "      <th></th>\n",
       "    </tr>\n",
       "  </thead>\n",
       "  <tbody>\n",
       "    <tr>\n",
       "      <th>0.0000</th>\n",
       "      <th>1</th>\n",
       "      <td>-1.120685e-02</td>\n",
       "      <td>0.000000</td>\n",
       "      <td>-0.011207</td>\n",
       "    </tr>\n",
       "    <tr>\n",
       "      <th>1.0685</th>\n",
       "      <th>24</th>\n",
       "      <td>-1.125435e-02</td>\n",
       "      <td>0.000185</td>\n",
       "      <td>-0.011070</td>\n",
       "    </tr>\n",
       "    <tr>\n",
       "      <th>1013.0000</th>\n",
       "      <th>76</th>\n",
       "      <td>-2.390000e-07</td>\n",
       "      <td>-0.039103</td>\n",
       "      <td>-0.039103</td>\n",
       "    </tr>\n",
       "  </tbody>\n",
       "</table>\n",
       "</div>"
      ],
      "text/plain": [
       "                         flug      fldg     fnetg\n",
       "pressure  level                                  \n",
       "0.0000    1     -1.120685e-02  0.000000 -0.011207\n",
       "1.0685    24    -1.125435e-02  0.000185 -0.011070\n",
       "1013.0000 76    -2.390000e-07 -0.039103 -0.039103"
      ]
     },
     "metadata": {},
     "output_type": "display_data"
    },
    {
     "name": "stdout",
     "output_type": "stream",
     "text": [
      "Table. Fluxes. (CRD) - (WGT igg=10 wgt_flux=1)\n"
     ]
    },
    {
     "data": {
      "text/html": [
       "<div>\n",
       "<style>\n",
       "    .dataframe thead tr:only-child th {\n",
       "        text-align: right;\n",
       "    }\n",
       "\n",
       "    .dataframe thead th {\n",
       "        text-align: left;\n",
       "    }\n",
       "\n",
       "    .dataframe tbody tr th {\n",
       "        vertical-align: top;\n",
       "    }\n",
       "</style>\n",
       "<table border=\"1\" class=\"dataframe\">\n",
       "  <thead>\n",
       "    <tr style=\"text-align: right;\">\n",
       "      <th></th>\n",
       "      <th></th>\n",
       "      <th>flug</th>\n",
       "      <th>fldg</th>\n",
       "      <th>fnetg</th>\n",
       "    </tr>\n",
       "    <tr>\n",
       "      <th>pressure</th>\n",
       "      <th>level</th>\n",
       "      <th></th>\n",
       "      <th></th>\n",
       "      <th></th>\n",
       "    </tr>\n",
       "  </thead>\n",
       "  <tbody>\n",
       "    <tr>\n",
       "      <th>0.0000</th>\n",
       "      <th>1</th>\n",
       "      <td>-0.077507</td>\n",
       "      <td>0.000002</td>\n",
       "      <td>-0.077505</td>\n",
       "    </tr>\n",
       "    <tr>\n",
       "      <th>1.0685</th>\n",
       "      <th>24</th>\n",
       "      <td>-0.077465</td>\n",
       "      <td>-0.000024</td>\n",
       "      <td>-0.077489</td>\n",
       "    </tr>\n",
       "    <tr>\n",
       "      <th>1013.0000</th>\n",
       "      <th>76</th>\n",
       "      <td>0.000004</td>\n",
       "      <td>0.360346</td>\n",
       "      <td>0.360351</td>\n",
       "    </tr>\n",
       "  </tbody>\n",
       "</table>\n",
       "</div>"
      ],
      "text/plain": [
       "                     flug      fldg     fnetg\n",
       "pressure  level                              \n",
       "0.0000    1     -0.077507  0.000002 -0.077505\n",
       "1.0685    24    -0.077465 -0.000024 -0.077489\n",
       "1013.0000 76     0.000004  0.360346  0.360351"
      ]
     },
     "metadata": {},
     "output_type": "display_data"
    },
    {
     "name": "stdout",
     "output_type": "stream",
     "text": [
      "Table. Fluxes. (CLIRAD) - (WGT igg=10 wgt_flux=1)\n"
     ]
    },
    {
     "data": {
      "text/html": [
       "<a id=\"Best-fit_Parameters\"></a>"
      ],
      "text/plain": [
       "<IPython.core.display.HTML object>"
      ]
     },
     "metadata": {},
     "output_type": "display_data"
    },
    {
     "data": {
      "text/markdown": [
       "# Best-fit Parameters"
      ],
      "text/plain": [
       "<IPython.core.display.Markdown object>"
      ]
     },
     "metadata": {},
     "output_type": "display_data"
    },
    {
     "name": "stdout",
     "output_type": "stream",
     "text": [
      "Best-fit values for each (gas, band)\n",
      "------------------------------------\n",
      "o h2o band3a\n",
      "  atmpro = mls\n",
      "  band = 3a\n",
      "  commitnumber = a06b618\n",
      "  conc = None\n",
      "  dv = 0.001\n",
      "  klin = 0\n",
      "  molecule = h2o\n",
      "  ng_adju = [0, 0]\n",
      "  ng_refs = [2, 6]\n",
      "  nv = 1000\n",
      "  option_compute_btable = 0\n",
      "  option_compute_ktable = 1\n",
      "  option_wgt_flux = 1\n",
      "  option_wgt_k = 1\n",
      "  ref_pts = [(10, 250), (600, 250)]\n",
      "  tsfc = 294\n",
      "  vmax = 620\n",
      "  vmin = 540\n",
      "  w_diffuse = [(1.9, 1.7), (1.4, 1.4, 1.4, 1.55, 1.6, 1.66)]\n",
      "  wgt = [(0.7, 0.7), (0.7, 0.5, 0.5, 0.5, 0.5, 0.5)]\n"
     ]
    }
   ],
   "source": [
    "script()"
   ]
  },
  {
   "cell_type": "code",
   "execution_count": 13,
   "metadata": {
    "collapsed": true
   },
   "outputs": [
    {
     "data": {
      "text/html": [
       "<script>\n",
       "code_show=true; \n",
       "function code_toggle() {\n",
       " if (code_show){\n",
       " $('div.input').hide();\n",
       " } else {\n",
       " $('div.input').show();\n",
       " }\n",
       " code_show = !code_show\n",
       "} \n",
       "$( document ).ready(code_toggle);\n",
       "</script>\n",
       "<form action=\"javascript:code_toggle()\"><input type=\"submit\" value=\"Click here to toggle on/off the raw code.\"></form>"
      ],
      "text/plain": [
       "<IPython.core.display.HTML object>"
      ]
     },
     "execution_count": 13,
     "metadata": {},
     "output_type": "execute_result"
    }
   ],
   "source": [
    "display.HTML('''<script>\n",
    "code_show=true; \n",
    "function code_toggle() {\n",
    " if (code_show){\n",
    " $('div.input').hide();\n",
    " } else {\n",
    " $('div.input').show();\n",
    " }\n",
    " code_show = !code_show\n",
    "} \n",
    "$( document ).ready(code_toggle);\n",
    "</script>\n",
    "<form action=\"javascript:code_toggle()\"><input type=\"submit\" value=\"Click here to toggle on/off the raw code.\"></form>''')"
   ]
  }
 ],
 "metadata": {
  "kernelspec": {
   "display_name": "Python 3",
   "language": "python",
   "name": "python3"
  },
  "language_info": {
   "codemirror_mode": {
    "name": "ipython",
    "version": 3
   },
   "file_extension": ".py",
   "mimetype": "text/x-python",
   "name": "python",
   "nbconvert_exporter": "python",
   "pygments_lexer": "ipython3",
   "version": "3.6.1"
  }
 },
 "nbformat": 4,
 "nbformat_minor": 2
}
