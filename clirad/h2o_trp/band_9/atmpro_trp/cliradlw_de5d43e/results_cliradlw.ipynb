{
 "cells": [
  {
   "cell_type": "code",
   "execution_count": 1,
   "metadata": {
    "collapsed": true
   },
   "outputs": [],
   "source": [
    "%matplotlib inline\n",
    "import os\n",
    "import re\n",
    "import io\n",
    "import itertools\n",
    "import pprint\n",
    "\n",
    "from bokeh.io import output_notebook, show\n",
    "from bokeh.layouts import gridplot\n",
    "from bokeh.plotting import figure\n",
    "from bokeh.models import Range1d, Legend\n",
    "from bokeh.palettes import all_palettes\n",
    "\n",
    "import matplotlib\n",
    "import matplotlib.pyplot as plt\n",
    "import numpy as np\n",
    "import pandas as pd\n",
    "import xarray as xr\n",
    "\n",
    "import climatools.lblnew.bestfit_params as bestfits\n",
    "from climatools.lblnew import setup_bestfit, setup_overlap\n",
    "import climatools.lblnew.pipeline as pipe_lblnew\n",
    "import climatools.cliradlw.setup as setup_cliradlw\n",
    "import climatools.cliradlw.pipeline as pipe_cliradlw\n",
    "\n",
    "import climatools.html.html as climahtml\n",
    "from climatools.lblnew.dataio import *\n",
    "from climatools.plot.plot import *\n",
    "\n",
    "\n",
    "import IPython.display as display"
   ]
  },
  {
   "cell_type": "code",
   "execution_count": 2,
   "metadata": {
    "collapsed": true
   },
   "outputs": [],
   "source": [
    "%run param.py"
   ]
  },
  {
   "cell_type": "code",
   "execution_count": 3,
   "metadata": {
    "collapsed": true
   },
   "outputs": [],
   "source": [
    "def load_output_file(path_csv):\n",
    "    '''\n",
    "    Load lblnew output .csv file to xarray.Dataset\n",
    "    \n",
    "    Parameters\n",
    "    ----------\n",
    "    path_csv: str\n",
    "              Path to the .csv file to be loaded.\n",
    "    ds: xarray.Dataset\n",
    "        Data in the input file in the form of an xarray.Dataset.\n",
    "    '''\n",
    "    toindex = ['band', 'pressure', 'igg', 'g']    \n",
    "    df = pd.read_csv(path_csv, sep=r'\\s+')\n",
    "    df = df.set_index([i for i in toindex if i in df.columns])\n",
    "    df = df.rename(columns={'sfu': 'flug',\n",
    "                            'sfd': 'fldg',\n",
    "                            'fnet': 'fnetg',\n",
    "                            'coolr': 'coolrg'})\n",
    "    ds = xr.Dataset.from_dataframe(df)\n",
    "\n",
    "    for l in ('level', 'layer'):\n",
    "        if l in ds.data_vars:\n",
    "            if len(ds[l].dims) > 1:\n",
    "                surface = {d: 0 for d in ds.dims if d != 'pressure'}\n",
    "                coord_level = ds[l][surface]\n",
    "                ds.coords[l] = ('pressure', coord_level)\n",
    "            else:\n",
    "                ds.coords[l] = ('pressure', ds[l])\n",
    "    \n",
    "    return ds"
   ]
  },
  {
   "cell_type": "code",
   "execution_count": 4,
   "metadata": {
    "collapsed": true
   },
   "outputs": [],
   "source": [
    "def lblnew_setup(param=None):\n",
    "    if 'ng_refs' in param:\n",
    "        return {'setup': setup_bestfit,\n",
    "                'fname_flux_crd': 'output_flux.dat',\n",
    "                'fname_cool_crd': 'output_coolr.dat',\n",
    "                'fname_flux_wgt': 'output_wfluxg.dat',\n",
    "                'fname_cool_wgt': 'output_wcoolrg.dat'}\n",
    "    else:\n",
    "        return {'setup': setup_overlap,\n",
    "                'fname_flux_crd': 'output_flux.dat',\n",
    "                'fname_cool_crd': 'output_coolr.dat',\n",
    "                'fname_flux_wgt': 'output_wflux.dat',\n",
    "                'fname_cool_wgt': 'output_wcoolr.dat'}\n",
    "\n",
    "    \n",
    "def load_lblnew_data(param):\n",
    "    \n",
    "    fname_dsname = [('fname_flux_crd', 'ds_flux_crd'),\n",
    "                    ('fname_cool_crd', 'ds_cool_crd'),\n",
    "                    ('fname_flux_wgt', 'ds_flux_wgt'),\n",
    "                    ('fname_cool_wgt', 'ds_cool_wgt')]\n",
    "    \n",
    "    d = lblnew_setup(param)\n",
    "    dir_fortran = pipe_lblnew.get_dir_case(param, setup=d['setup'])\n",
    "    \n",
    "    data_dict = {}\n",
    "    for fname, dsname in fname_dsname:\n",
    "        fpath = os.path.join(dir_fortran, d[fname])\n",
    "        data_dict[dsname] = load_output_file(fpath)\n",
    "    return data_dict\n",
    "    \n",
    "\n",
    "    \n",
    "    "
   ]
  },
  {
   "cell_type": "code",
   "execution_count": 5,
   "metadata": {
    "collapsed": true
   },
   "outputs": [],
   "source": [
    "d = load_lblnew_data(PARAM_LBLNEW)\n",
    "\n",
    "DS_FLUX_CRD = d['ds_flux_crd']\n",
    "DS_COOL_CRD = d['ds_cool_crd']\n",
    "DS_FLUX_WGT = d['ds_flux_wgt']\n",
    "DS_COOL_WGT = d['ds_cool_wgt']"
   ]
  },
  {
   "cell_type": "code",
   "execution_count": 6,
   "metadata": {
    "collapsed": true
   },
   "outputs": [],
   "source": [
    "DIR_FORTRAN = pipe_cliradlw.get_fortran_dir(PARAM, \n",
    "                                            setup=setup_cliradlw)\n",
    "\n",
    "PATH_FLUX = os.path.join(DIR_FORTRAN, 'output_flux.dat')\n",
    "PATH_COOL = os.path.join(DIR_FORTRAN, 'output_coolr.dat')\n",
    "\n",
    "DS_FLUX = load_output_file(PATH_FLUX)\n",
    "DS_COOL = load_output_file(PATH_COOL)"
   ]
  },
  {
   "cell_type": "code",
   "execution_count": 7,
   "metadata": {
    "collapsed": true
   },
   "outputs": [
    {
     "data": {
      "text/html": [
       "\n",
       "    <div class=\"bk-root\">\n",
       "        <a href=\"https://bokeh.pydata.org\" target=\"_blank\" class=\"bk-logo bk-logo-small bk-logo-notebook\"></a>\n",
       "        <span id=\"d3736723-6e03-4325-b089-681b16fe23eb\">Loading BokehJS ...</span>\n",
       "    </div>"
      ]
     },
     "metadata": {},
     "output_type": "display_data"
    },
    {
     "data": {
      "application/javascript": [
       "\n",
       "(function(root) {\n",
       "  function now() {\n",
       "    return new Date();\n",
       "  }\n",
       "\n",
       "  var force = true;\n",
       "\n",
       "  if (typeof (root._bokeh_onload_callbacks) === \"undefined\" || force === true) {\n",
       "    root._bokeh_onload_callbacks = [];\n",
       "    root._bokeh_is_loading = undefined;\n",
       "  }\n",
       "\n",
       "  var JS_MIME_TYPE = 'application/javascript';\n",
       "  var HTML_MIME_TYPE = 'text/html';\n",
       "  var EXEC_MIME_TYPE = 'application/vnd.bokehjs_exec.v0+json';\n",
       "  var CLASS_NAME = 'output_bokeh rendered_html';\n",
       "\n",
       "  /**\n",
       "   * Render data to the DOM node\n",
       "   */\n",
       "  function render(props, node) {\n",
       "    var script = document.createElement(\"script\");\n",
       "    node.appendChild(script);\n",
       "  }\n",
       "\n",
       "  /**\n",
       "   * Handle when an output is cleared or removed\n",
       "   */\n",
       "  function handleClearOutput(event, handle) {\n",
       "    var cell = handle.cell;\n",
       "\n",
       "    var id = cell.output_area._bokeh_element_id;\n",
       "    var server_id = cell.output_area._bokeh_server_id;\n",
       "    // Clean up Bokeh references\n",
       "    if (id !== undefined) {\n",
       "      Bokeh.index[id].model.document.clear();\n",
       "      delete Bokeh.index[id];\n",
       "    }\n",
       "\n",
       "    if (server_id !== undefined) {\n",
       "      // Clean up Bokeh references\n",
       "      var cmd = \"from bokeh.io.state import curstate; print(curstate().uuid_to_server['\" + server_id + \"'].get_sessions()[0].document.roots[0]._id)\";\n",
       "      cell.notebook.kernel.execute(cmd, {\n",
       "        iopub: {\n",
       "          output: function(msg) {\n",
       "            var element_id = msg.content.text.trim();\n",
       "            Bokeh.index[element_id].model.document.clear();\n",
       "            delete Bokeh.index[element_id];\n",
       "          }\n",
       "        }\n",
       "      });\n",
       "      // Destroy server and session\n",
       "      var cmd = \"import bokeh.io.notebook as ion; ion.destroy_server('\" + server_id + \"')\";\n",
       "      cell.notebook.kernel.execute(cmd);\n",
       "    }\n",
       "  }\n",
       "\n",
       "  /**\n",
       "   * Handle when a new output is added\n",
       "   */\n",
       "  function handleAddOutput(event, handle) {\n",
       "    var output_area = handle.output_area;\n",
       "    var output = handle.output;\n",
       "\n",
       "    // limit handleAddOutput to display_data with EXEC_MIME_TYPE content only\n",
       "    if ((output.output_type != \"display_data\") || (!output.data.hasOwnProperty(EXEC_MIME_TYPE))) {\n",
       "      return\n",
       "    }\n",
       "\n",
       "    var toinsert = output_area.element.find(\".\" + CLASS_NAME.split(' ')[0]);\n",
       "\n",
       "    if (output.metadata[EXEC_MIME_TYPE][\"id\"] !== undefined) {\n",
       "      toinsert[toinsert.length - 1].firstChild.textContent = output.data[JS_MIME_TYPE];\n",
       "      // store reference to embed id on output_area\n",
       "      output_area._bokeh_element_id = output.metadata[EXEC_MIME_TYPE][\"id\"];\n",
       "    }\n",
       "    if (output.metadata[EXEC_MIME_TYPE][\"server_id\"] !== undefined) {\n",
       "      var bk_div = document.createElement(\"div\");\n",
       "      bk_div.innerHTML = output.data[HTML_MIME_TYPE];\n",
       "      var script_attrs = bk_div.children[0].attributes;\n",
       "      for (var i = 0; i < script_attrs.length; i++) {\n",
       "        toinsert[toinsert.length - 1].firstChild.setAttribute(script_attrs[i].name, script_attrs[i].value);\n",
       "      }\n",
       "      // store reference to server id on output_area\n",
       "      output_area._bokeh_server_id = output.metadata[EXEC_MIME_TYPE][\"server_id\"];\n",
       "    }\n",
       "  }\n",
       "\n",
       "  function register_renderer(events, OutputArea) {\n",
       "\n",
       "    function append_mime(data, metadata, element) {\n",
       "      // create a DOM node to render to\n",
       "      var toinsert = this.create_output_subarea(\n",
       "        metadata,\n",
       "        CLASS_NAME,\n",
       "        EXEC_MIME_TYPE\n",
       "      );\n",
       "      this.keyboard_manager.register_events(toinsert);\n",
       "      // Render to node\n",
       "      var props = {data: data, metadata: metadata[EXEC_MIME_TYPE]};\n",
       "      render(props, toinsert[toinsert.length - 1]);\n",
       "      element.append(toinsert);\n",
       "      return toinsert\n",
       "    }\n",
       "\n",
       "    /* Handle when an output is cleared or removed */\n",
       "    events.on('clear_output.CodeCell', handleClearOutput);\n",
       "    events.on('delete.Cell', handleClearOutput);\n",
       "\n",
       "    /* Handle when a new output is added */\n",
       "    events.on('output_added.OutputArea', handleAddOutput);\n",
       "\n",
       "    /**\n",
       "     * Register the mime type and append_mime function with output_area\n",
       "     */\n",
       "    OutputArea.prototype.register_mime_type(EXEC_MIME_TYPE, append_mime, {\n",
       "      /* Is output safe? */\n",
       "      safe: true,\n",
       "      /* Index of renderer in `output_area.display_order` */\n",
       "      index: 0\n",
       "    });\n",
       "  }\n",
       "\n",
       "  // register the mime type if in Jupyter Notebook environment and previously unregistered\n",
       "  if (root.Jupyter !== undefined) {\n",
       "    var events = require('base/js/events');\n",
       "    var OutputArea = require('notebook/js/outputarea').OutputArea;\n",
       "\n",
       "    if (OutputArea.prototype.mime_types().indexOf(EXEC_MIME_TYPE) == -1) {\n",
       "      register_renderer(events, OutputArea);\n",
       "    }\n",
       "  }\n",
       "\n",
       "  \n",
       "  if (typeof (root._bokeh_timeout) === \"undefined\" || force === true) {\n",
       "    root._bokeh_timeout = Date.now() + 5000;\n",
       "    root._bokeh_failed_load = false;\n",
       "  }\n",
       "\n",
       "  var NB_LOAD_WARNING = {'data': {'text/html':\n",
       "     \"<div style='background-color: #fdd'>\\n\"+\n",
       "     \"<p>\\n\"+\n",
       "     \"BokehJS does not appear to have successfully loaded. If loading BokehJS from CDN, this \\n\"+\n",
       "     \"may be due to a slow or bad network connection. Possible fixes:\\n\"+\n",
       "     \"</p>\\n\"+\n",
       "     \"<ul>\\n\"+\n",
       "     \"<li>re-rerun `output_notebook()` to attempt to load from CDN again, or</li>\\n\"+\n",
       "     \"<li>use INLINE resources instead, as so:</li>\\n\"+\n",
       "     \"</ul>\\n\"+\n",
       "     \"<code>\\n\"+\n",
       "     \"from bokeh.resources import INLINE\\n\"+\n",
       "     \"output_notebook(resources=INLINE)\\n\"+\n",
       "     \"</code>\\n\"+\n",
       "     \"</div>\"}};\n",
       "\n",
       "  function display_loaded() {\n",
       "    var el = document.getElementById(\"d3736723-6e03-4325-b089-681b16fe23eb\");\n",
       "    if (el != null) {\n",
       "      el.textContent = \"BokehJS is loading...\";\n",
       "    }\n",
       "    if (root.Bokeh !== undefined) {\n",
       "      if (el != null) {\n",
       "        el.textContent = \"BokehJS \" + root.Bokeh.version + \" successfully loaded.\";\n",
       "      }\n",
       "    } else if (Date.now() < root._bokeh_timeout) {\n",
       "      setTimeout(display_loaded, 100)\n",
       "    }\n",
       "  }\n",
       "\n",
       "\n",
       "  function run_callbacks() {\n",
       "    try {\n",
       "      root._bokeh_onload_callbacks.forEach(function(callback) { callback() });\n",
       "    }\n",
       "    finally {\n",
       "      delete root._bokeh_onload_callbacks\n",
       "    }\n",
       "    console.info(\"Bokeh: all callbacks have finished\");\n",
       "  }\n",
       "\n",
       "  function load_libs(js_urls, callback) {\n",
       "    root._bokeh_onload_callbacks.push(callback);\n",
       "    if (root._bokeh_is_loading > 0) {\n",
       "      console.log(\"Bokeh: BokehJS is being loaded, scheduling callback at\", now());\n",
       "      return null;\n",
       "    }\n",
       "    if (js_urls == null || js_urls.length === 0) {\n",
       "      run_callbacks();\n",
       "      return null;\n",
       "    }\n",
       "    console.log(\"Bokeh: BokehJS not loaded, scheduling load and callback at\", now());\n",
       "    root._bokeh_is_loading = js_urls.length;\n",
       "    for (var i = 0; i < js_urls.length; i++) {\n",
       "      var url = js_urls[i];\n",
       "      var s = document.createElement('script');\n",
       "      s.src = url;\n",
       "      s.async = false;\n",
       "      s.onreadystatechange = s.onload = function() {\n",
       "        root._bokeh_is_loading--;\n",
       "        if (root._bokeh_is_loading === 0) {\n",
       "          console.log(\"Bokeh: all BokehJS libraries loaded\");\n",
       "          run_callbacks()\n",
       "        }\n",
       "      };\n",
       "      s.onerror = function() {\n",
       "        console.warn(\"failed to load library \" + url);\n",
       "      };\n",
       "      console.log(\"Bokeh: injecting script tag for BokehJS library: \", url);\n",
       "      document.getElementsByTagName(\"head\")[0].appendChild(s);\n",
       "    }\n",
       "  };var element = document.getElementById(\"d3736723-6e03-4325-b089-681b16fe23eb\");\n",
       "  if (element == null) {\n",
       "    console.log(\"Bokeh: ERROR: autoload.js configured with elementid 'd3736723-6e03-4325-b089-681b16fe23eb' but no matching script tag was found. \")\n",
       "    return false;\n",
       "  }\n",
       "\n",
       "  var js_urls = [\"https://cdn.pydata.org/bokeh/release/bokeh-0.12.16.min.js\", \"https://cdn.pydata.org/bokeh/release/bokeh-widgets-0.12.16.min.js\", \"https://cdn.pydata.org/bokeh/release/bokeh-tables-0.12.16.min.js\", \"https://cdn.pydata.org/bokeh/release/bokeh-gl-0.12.16.min.js\"];\n",
       "\n",
       "  var inline_js = [\n",
       "    function(Bokeh) {\n",
       "      Bokeh.set_log_level(\"info\");\n",
       "    },\n",
       "    \n",
       "    function(Bokeh) {\n",
       "      \n",
       "    },\n",
       "    function(Bokeh) {\n",
       "      console.log(\"Bokeh: injecting CSS: https://cdn.pydata.org/bokeh/release/bokeh-0.12.16.min.css\");\n",
       "      Bokeh.embed.inject_css(\"https://cdn.pydata.org/bokeh/release/bokeh-0.12.16.min.css\");\n",
       "      console.log(\"Bokeh: injecting CSS: https://cdn.pydata.org/bokeh/release/bokeh-widgets-0.12.16.min.css\");\n",
       "      Bokeh.embed.inject_css(\"https://cdn.pydata.org/bokeh/release/bokeh-widgets-0.12.16.min.css\");\n",
       "      console.log(\"Bokeh: injecting CSS: https://cdn.pydata.org/bokeh/release/bokeh-tables-0.12.16.min.css\");\n",
       "      Bokeh.embed.inject_css(\"https://cdn.pydata.org/bokeh/release/bokeh-tables-0.12.16.min.css\");\n",
       "    }\n",
       "  ];\n",
       "\n",
       "  function run_inline_js() {\n",
       "    \n",
       "    if ((root.Bokeh !== undefined) || (force === true)) {\n",
       "      for (var i = 0; i < inline_js.length; i++) {\n",
       "        inline_js[i].call(root, root.Bokeh);\n",
       "      }if (force === true) {\n",
       "        display_loaded();\n",
       "      }} else if (Date.now() < root._bokeh_timeout) {\n",
       "      setTimeout(run_inline_js, 100);\n",
       "    } else if (!root._bokeh_failed_load) {\n",
       "      console.log(\"Bokeh: BokehJS failed to load within specified timeout.\");\n",
       "      root._bokeh_failed_load = true;\n",
       "    } else if (force !== true) {\n",
       "      var cell = $(document.getElementById(\"d3736723-6e03-4325-b089-681b16fe23eb\")).parents('.cell').data().cell;\n",
       "      cell.output_area.append_execute_result(NB_LOAD_WARNING)\n",
       "    }\n",
       "\n",
       "  }\n",
       "\n",
       "  if (root._bokeh_is_loading === 0) {\n",
       "    console.log(\"Bokeh: BokehJS loaded, going straight to plotting\");\n",
       "    run_inline_js();\n",
       "  } else {\n",
       "    load_libs(js_urls, function() {\n",
       "      console.log(\"Bokeh: BokehJS plotting callback run at\", now());\n",
       "      run_inline_js();\n",
       "    });\n",
       "  }\n",
       "}(window));"
      ],
      "application/vnd.bokehjs_load.v0+json": "\n(function(root) {\n  function now() {\n    return new Date();\n  }\n\n  var force = true;\n\n  if (typeof (root._bokeh_onload_callbacks) === \"undefined\" || force === true) {\n    root._bokeh_onload_callbacks = [];\n    root._bokeh_is_loading = undefined;\n  }\n\n  \n\n  \n  if (typeof (root._bokeh_timeout) === \"undefined\" || force === true) {\n    root._bokeh_timeout = Date.now() + 5000;\n    root._bokeh_failed_load = false;\n  }\n\n  var NB_LOAD_WARNING = {'data': {'text/html':\n     \"<div style='background-color: #fdd'>\\n\"+\n     \"<p>\\n\"+\n     \"BokehJS does not appear to have successfully loaded. If loading BokehJS from CDN, this \\n\"+\n     \"may be due to a slow or bad network connection. Possible fixes:\\n\"+\n     \"</p>\\n\"+\n     \"<ul>\\n\"+\n     \"<li>re-rerun `output_notebook()` to attempt to load from CDN again, or</li>\\n\"+\n     \"<li>use INLINE resources instead, as so:</li>\\n\"+\n     \"</ul>\\n\"+\n     \"<code>\\n\"+\n     \"from bokeh.resources import INLINE\\n\"+\n     \"output_notebook(resources=INLINE)\\n\"+\n     \"</code>\\n\"+\n     \"</div>\"}};\n\n  function display_loaded() {\n    var el = document.getElementById(\"d3736723-6e03-4325-b089-681b16fe23eb\");\n    if (el != null) {\n      el.textContent = \"BokehJS is loading...\";\n    }\n    if (root.Bokeh !== undefined) {\n      if (el != null) {\n        el.textContent = \"BokehJS \" + root.Bokeh.version + \" successfully loaded.\";\n      }\n    } else if (Date.now() < root._bokeh_timeout) {\n      setTimeout(display_loaded, 100)\n    }\n  }\n\n\n  function run_callbacks() {\n    try {\n      root._bokeh_onload_callbacks.forEach(function(callback) { callback() });\n    }\n    finally {\n      delete root._bokeh_onload_callbacks\n    }\n    console.info(\"Bokeh: all callbacks have finished\");\n  }\n\n  function load_libs(js_urls, callback) {\n    root._bokeh_onload_callbacks.push(callback);\n    if (root._bokeh_is_loading > 0) {\n      console.log(\"Bokeh: BokehJS is being loaded, scheduling callback at\", now());\n      return null;\n    }\n    if (js_urls == null || js_urls.length === 0) {\n      run_callbacks();\n      return null;\n    }\n    console.log(\"Bokeh: BokehJS not loaded, scheduling load and callback at\", now());\n    root._bokeh_is_loading = js_urls.length;\n    for (var i = 0; i < js_urls.length; i++) {\n      var url = js_urls[i];\n      var s = document.createElement('script');\n      s.src = url;\n      s.async = false;\n      s.onreadystatechange = s.onload = function() {\n        root._bokeh_is_loading--;\n        if (root._bokeh_is_loading === 0) {\n          console.log(\"Bokeh: all BokehJS libraries loaded\");\n          run_callbacks()\n        }\n      };\n      s.onerror = function() {\n        console.warn(\"failed to load library \" + url);\n      };\n      console.log(\"Bokeh: injecting script tag for BokehJS library: \", url);\n      document.getElementsByTagName(\"head\")[0].appendChild(s);\n    }\n  };var element = document.getElementById(\"d3736723-6e03-4325-b089-681b16fe23eb\");\n  if (element == null) {\n    console.log(\"Bokeh: ERROR: autoload.js configured with elementid 'd3736723-6e03-4325-b089-681b16fe23eb' but no matching script tag was found. \")\n    return false;\n  }\n\n  var js_urls = [\"https://cdn.pydata.org/bokeh/release/bokeh-0.12.16.min.js\", \"https://cdn.pydata.org/bokeh/release/bokeh-widgets-0.12.16.min.js\", \"https://cdn.pydata.org/bokeh/release/bokeh-tables-0.12.16.min.js\", \"https://cdn.pydata.org/bokeh/release/bokeh-gl-0.12.16.min.js\"];\n\n  var inline_js = [\n    function(Bokeh) {\n      Bokeh.set_log_level(\"info\");\n    },\n    \n    function(Bokeh) {\n      \n    },\n    function(Bokeh) {\n      console.log(\"Bokeh: injecting CSS: https://cdn.pydata.org/bokeh/release/bokeh-0.12.16.min.css\");\n      Bokeh.embed.inject_css(\"https://cdn.pydata.org/bokeh/release/bokeh-0.12.16.min.css\");\n      console.log(\"Bokeh: injecting CSS: https://cdn.pydata.org/bokeh/release/bokeh-widgets-0.12.16.min.css\");\n      Bokeh.embed.inject_css(\"https://cdn.pydata.org/bokeh/release/bokeh-widgets-0.12.16.min.css\");\n      console.log(\"Bokeh: injecting CSS: https://cdn.pydata.org/bokeh/release/bokeh-tables-0.12.16.min.css\");\n      Bokeh.embed.inject_css(\"https://cdn.pydata.org/bokeh/release/bokeh-tables-0.12.16.min.css\");\n    }\n  ];\n\n  function run_inline_js() {\n    \n    if ((root.Bokeh !== undefined) || (force === true)) {\n      for (var i = 0; i < inline_js.length; i++) {\n        inline_js[i].call(root, root.Bokeh);\n      }if (force === true) {\n        display_loaded();\n      }} else if (Date.now() < root._bokeh_timeout) {\n      setTimeout(run_inline_js, 100);\n    } else if (!root._bokeh_failed_load) {\n      console.log(\"Bokeh: BokehJS failed to load within specified timeout.\");\n      root._bokeh_failed_load = true;\n    } else if (force !== true) {\n      var cell = $(document.getElementById(\"d3736723-6e03-4325-b089-681b16fe23eb\")).parents('.cell').data().cell;\n      cell.output_area.append_execute_result(NB_LOAD_WARNING)\n    }\n\n  }\n\n  if (root._bokeh_is_loading === 0) {\n    console.log(\"Bokeh: BokehJS loaded, going straight to plotting\");\n    run_inline_js();\n  } else {\n    load_libs(js_urls, function() {\n      console.log(\"Bokeh: BokehJS plotting callback run at\", now());\n      run_inline_js();\n    });\n  }\n}(window));"
     },
     "metadata": {},
     "output_type": "display_data"
    }
   ],
   "source": [
    "output_notebook()"
   ]
  },
  {
   "cell_type": "code",
   "execution_count": 8,
   "metadata": {
    "collapsed": true
   },
   "outputs": [],
   "source": [
    "def fmt_cool(ds_in):\n",
    "    ds = ds_in.copy(deep=True)\n",
    "    if 'igg' in ds.dims:\n",
    "        ds = ds.sel(igg=1)\n",
    "\n",
    "    if 'g' in ds.dims:\n",
    "        ds = ds.sum('g')\n",
    "            \n",
    "    if 'band' in ds.dims:\n",
    "        try:\n",
    "            ds = ds.squeeze('band')\n",
    "        except ValueError:\n",
    "            ds = ds.sum('band')\n",
    "                \n",
    "    return ds['coolrg']\n",
    "\n",
    "\n",
    "def pltdata_cooling_1(ds_cool=None,\n",
    "                      ds_cool_crd=None, ds_cool_wgt=None):\n",
    "    \n",
    "\n",
    "\n",
    "    colors = all_palettes['Set1'][4]\n",
    "    data = [{'label': 'CLIRAD `coolr_bands`',\n",
    "             'srs': fmt_cool(ds_cool),\n",
    "             'line_dash': 'dashed', 'line_width': 5,\n",
    "             'color': colors[0], 'alpha': .6},\n",
    "            {'label': 'CRD',\n",
    "             'srs': fmt_cool(ds_cool_crd),\n",
    "             'line_dash': 'solid', 'line_width': 1.5,\n",
    "             'marker': 'circle', 'marker_size': 5,\n",
    "             'color': colors[2], 'alpha': 1,},\n",
    "            {'label': 'WGT igg=10 wgt_flux=2',\n",
    "             'srs': fmt_cool(ds_cool_wgt),\n",
    "             'line_dash': 'solid', 'line_width': 3,\n",
    "             'marker': 'square', 'marker_size': 5,\n",
    "             'color': colors[3], 'alpha': .6}]\n",
    "    return data\n",
    "\n",
    "\n",
    "def nice_xlims(pltdata=None, prange=None):\n",
    "    \n",
    "    def get_slice(srs):\n",
    "        return srs.sel(pressure=slice(*prange))\n",
    "    \n",
    "    srss = [d['srs'] for d in pltdata]\n",
    "    vmin = min([get_slice(srs).min() for srs in srss])\n",
    "    vmax = max([get_slice(srs).max() for srs in srss])\n",
    "    dv = (vmax - vmin) * .01\n",
    "    return float(vmin - dv), float(vmax + dv)\n",
    "    \n",
    "\n",
    "def plt_cooling_bokeh(pltdata=None):\n",
    "    '''\n",
    "    Plot a list of cooling rate profiles using bokeh.\n",
    "    '''\n",
    "    ymin = 1e-2 \n",
    "    ymax = 1020 \n",
    "        \n",
    "    p1 = figure(title=\"Linear pressure scale\", \n",
    "                plot_width=400)        \n",
    "    xmin, xmax = nice_xlims(pltdata, prange=(50, 1050))\n",
    "    for d in pltdata:\n",
    "        if 'marker' in d:\n",
    "            getattr(p1, d['marker'])(d['srs'].values, \n",
    "                    d['srs'].coords['pressure'].values,\n",
    "                    color=d['color'], alpha=.7)\n",
    "        p1.line(d['srs'].values, \n",
    "                d['srs'].coords['pressure'].values,\n",
    "                color=d['color'], alpha=d['alpha'], \n",
    "                line_width=d['line_width'], line_dash=d['line_dash'])\n",
    "    \n",
    "    p1.y_range = Range1d(ymax, ymin)\n",
    "    p1.yaxis.axis_label = 'pressure [mb]'   \n",
    "    p1.x_range = Range1d(xmin, xmax)\n",
    "    p1.xaxis.axis_label = 'cooling rate [K/day]'\n",
    "            \n",
    "    p2 = figure(title='Log pressure scale', y_axis_type='log',\n",
    "                plot_width=560)\n",
    "    xmin, xmax = nice_xlims(pltdata, prange=(.01, 200))\n",
    "    \n",
    "    rs = []\n",
    "    for d in pltdata:\n",
    "        rd = []\n",
    "        if 'marker' in d:\n",
    "            r_mark = getattr(p2, d['marker'])(d['srs'].values, \n",
    "                        d['srs'].coords['pressure'].values,\n",
    "                        color=d['color'], alpha=.7)\n",
    "            rd.append(r_mark)\n",
    "        r_line = p2.line(d['srs'].values, \n",
    "                    d['srs'].coords['pressure'].values,\n",
    "                    color=d['color'], alpha=d['alpha'], \n",
    "                    line_width=d['line_width'], line_dash=d['line_dash'])\n",
    "        rd.append(r_line)\n",
    "      \n",
    "        rs.append(rd)\n",
    "        \n",
    "    p2.y_range = Range1d(ymax, ymin)  \n",
    "    p2.yaxis.axis_label = 'pressure [mb]'\n",
    "    \n",
    "    p2.x_range = Range1d(xmin, xmax)\n",
    "    p2.xaxis.axis_label = 'cooling rate [K/day]'\n",
    "    \n",
    "    items = [(d['label'], r) for r, d in zip(rs, pltdata)]\n",
    "    legend = Legend(items=items, location=(10, -30))\n",
    "    legend.label_text_font_size = '8pt'\n",
    "    \n",
    "    p2.add_layout(legend, 'right')  \n",
    "    \n",
    "    show(gridplot(p1, p2, ncols=2, plot_height=500))\n",
    "    \n",
    "\n",
    "def script_plt_cooling():\n",
    "    pltdata = pltdata_cooling_1(\n",
    "        ds_cool=DS_COOL,\n",
    "        ds_cool_crd=DS_COOL_CRD,\n",
    "        ds_cool_wgt=DS_COOL_WGT)\n",
    "    plt_cooling_bokeh(pltdata=pltdata)\n",
    "    print('''FIGURE. Cooling rate profiles.''')"
   ]
  },
  {
   "cell_type": "code",
   "execution_count": 9,
   "metadata": {
    "collapsed": true
   },
   "outputs": [],
   "source": [
    "def fmt_flux(ds_in):\n",
    "    ds = ds_in.copy(deep=True)\n",
    "    \n",
    "    for l in ('level', 'layer'):\n",
    "        if l in ds.data_vars:\n",
    "            if len(ds[l].dims) > 1:\n",
    "                surface = {d: 0 for d in ds.dims if d != 'pressure'}\n",
    "                coord_level = ds[l][surface]\n",
    "                ds.coords[l] = ('pressure', coord_level)\n",
    "            else:\n",
    "                ds.coords[l] = ('pressure', ds[l])\n",
    "        \n",
    "    ds = ds.isel(pressure=[0, 23, -1])\n",
    "        \n",
    "    if 'igg' in ds.dims:\n",
    "        ds = ds.sel(igg=[1])\n",
    "        ds = ds.squeeze('igg').drop('igg')\n",
    "    \n",
    "    if 'g' in ds.dims:\n",
    "        ds = ds.sum('g')\n",
    "            \n",
    "    if 'band' in ds.dims:\n",
    "        try:\n",
    "            ds = ds.squeeze('band').drop('band')\n",
    "        except ValueError:\n",
    "            ds = ds.sum('band')\n",
    "                \n",
    "    df = ds.to_dataframe()\n",
    "    df = df.set_index('level', append=True)               \n",
    "    return df\n",
    "\n",
    "\n",
    "def tbdata_flux(ds_flux=None, ds_flux_crd=None, ds_flux_wgt=None):\n",
    "    ilevels = [0, 23, -1]\n",
    "            \n",
    "    benchmark = {'label': 'CRD',\n",
    "                 'df': fmt_flux(ds_flux_crd)}\n",
    "    \n",
    "    tbs = [{'label': 'WGT igg=10 wgt_flux=1',\n",
    "            'df': fmt_flux(ds_flux_wgt)},\n",
    "           {'label': 'CLIRAD',\n",
    "            'df': fmt_flux(ds_flux)}]\n",
    "    \n",
    "    data = {'benchmark': benchmark, 'others': tbs}\n",
    "    return data\n",
    "\n",
    "\n",
    "def tb_flux(tbdata=None):\n",
    "    benchmark = tbdata['benchmark']\n",
    "    others = tbdata['others']\n",
    "    \n",
    "    def show_tb(d=None):\n",
    "        display.display(d['df'])\n",
    "        print('Table.', 'Fluxes.', d['label'])\n",
    "        \n",
    "    def show_tbdiff(d0=None, d=None):\n",
    "        df = d['df']\n",
    "        df.index = d0['df'].index\n",
    "        display.display(df - d0['df'])\n",
    "        print('Table.', 'Fluxes.', \n",
    "              '({}) - ({})'.format(d['label'], d0['label']))\n",
    "        \n",
    "    show_tb(benchmark)\n",
    "    for d in others:\n",
    "        show_tb(d)\n",
    "        \n",
    "    for d in others:\n",
    "        show_tbdiff(d=d, d0=benchmark)\n",
    "        \n",
    "        \n",
    "def script_tb_flux():\n",
    "    data = tbdata_flux(ds_flux=DS_FLUX,\n",
    "                       ds_flux_crd=DS_FLUX_CRD,\n",
    "                       ds_flux_wgt=DS_FLUX_WGT)\n",
    "    tb_flux(tbdata=data)"
   ]
  },
  {
   "cell_type": "code",
   "execution_count": 10,
   "metadata": {
    "collapsed": true
   },
   "outputs": [],
   "source": [
    "def band_map():\n",
    "    '''\n",
    "    Maps spectral bands in lblnew to spectral bands in clirad.\n",
    "    '''\n",
    "    lblnew2clirad = {'1': '1',\n",
    "            '2': '2',\n",
    "            '3a': '3',\n",
    "            '3b': '4',\n",
    "            '3c': '5',\n",
    "            '4': '6', \n",
    "            '5': '7',\n",
    "            '6': '8',\n",
    "            '7': '9', \n",
    "            '8': '10',\n",
    "            '9': '11'}\n",
    "    \n",
    "    clirad2lblnew = {clirad: lblnew \n",
    "                     for lblnew, clirad in lblnew2clirad.items()}\n",
    "    return clirad2lblnew\n",
    "\n",
    "\n",
    "def gasbands():\n",
    "    bmap = band_map()\n",
    "    gases = list(PARAM['molecule'].keys())\n",
    "    \n",
    "    bands = [bmap[str(b)] for b in PARAM['band']]\n",
    "    return list(itertools.product(gases, bands))\n",
    "\n",
    "\n",
    "def print_bestfit_params():\n",
    "    print('Best-fit values for each (gas, band)')\n",
    "    print('------------------------------------')\n",
    "    for gas, band in gasbands():\n",
    "        print('o {} band{}'.format(gas, band))\n",
    "        param = bestfits.kdist_params(molecule=gas, band=band)\n",
    "        for name, value in sorted(param.items()):\n",
    "            print(2 * ' ' + '{} = {}'.format(name, value))\n",
    "\n",
    "        \n",
    "def print_input_param():        \n",
    "    for name, value in PARAM.items():\n",
    "        print('{} = {}'.format(name, value))\n",
    "        \n",
    "        \n",
    "def print_lblnew_param():\n",
    "    for name, value in sorted(PARAM_LBLNEW.items()):\n",
    "        print('{} = {}'.format(name, value))\n"
   ]
  },
  {
   "cell_type": "code",
   "execution_count": 11,
   "metadata": {
    "collapsed": true,
    "scrolled": false
   },
   "outputs": [],
   "source": [
    "def show_html(s):\n",
    "    display.display(display.HTML(s))\n",
    "\n",
    "    \n",
    "def show_markdown(s):\n",
    "    display.display(display.Markdown(s))\n",
    "\n",
    "    \n",
    "def script():\n",
    "    \n",
    "    title = '### CLIRAD-LW'\n",
    "    s_input = 'Input Parameters'\n",
    "    s_lblnew_param = 'LBLNEW case compaired against'\n",
    "    s_bestfits = 'Best-fit Parameters'\n",
    "    s_plt_cooling = 'Cooling Rate Profiles'\n",
    "    s_tb_flux = 'Flux Comparison'\n",
    "    \n",
    "    # title\n",
    "    show_markdown('### CLIRAD-LW')\n",
    "    \n",
    "    # TOC\n",
    "    show_markdown('### Table of Contents')\n",
    "    show_html(climahtml.getHTML_hrefanchor(s_input))\n",
    "    show_html(climahtml.getHTML_hrefanchor(s_lblnew_param))\n",
    "    show_html(climahtml.getHTML_hrefanchor(s_plt_cooling))\n",
    "    show_html(climahtml.getHTML_hrefanchor(s_tb_flux))\n",
    "    show_html(climahtml.getHTML_hrefanchor(s_bestfits))\n",
    "    \n",
    "    # Input parameters\n",
    "    show_html(climahtml.getHTML_idanchor(s_input))\n",
    "    show_markdown(climahtml.getMarkdown_sectitle(s_input))\n",
    "    print_input_param()\n",
    "    \n",
    "    # LBLNEW parameters \n",
    "    show_html(climahtml.getHTML_idanchor(s_lblnew_param))\n",
    "    show_markdown(climahtml.getMarkdown_sectitle(s_lblnew_param))\n",
    "    print_lblnew_param()\n",
    "    \n",
    "    # Cooling rate profiles\n",
    "    show_html(climahtml.getHTML_idanchor(s_plt_cooling))\n",
    "    show_markdown(climahtml.getMarkdown_sectitle(s_plt_cooling))\n",
    "    script_plt_cooling()\n",
    "    \n",
    "    # Flux comparison\n",
    "    show_html(climahtml.getHTML_idanchor(s_tb_flux))\n",
    "    show_markdown(climahtml.getMarkdown_sectitle(s_tb_flux))\n",
    "    script_tb_flux()\n",
    "    \n",
    "    # Best-fit values\n",
    "    show_html(climahtml.getHTML_idanchor(s_bestfits))\n",
    "    show_markdown(climahtml.getMarkdown_sectitle(s_bestfits))\n",
    "    print_bestfit_params()\n",
    "   \n",
    "    "
   ]
  },
  {
   "cell_type": "code",
   "execution_count": 12,
   "metadata": {
    "collapsed": true,
    "scrolled": false
   },
   "outputs": [
    {
     "data": {
      "text/markdown": [
       "### CLIRAD-LW"
      ],
      "text/plain": [
       "<IPython.core.display.Markdown object>"
      ]
     },
     "metadata": {},
     "output_type": "display_data"
    },
    {
     "data": {
      "text/markdown": [
       "### Table of Contents"
      ],
      "text/plain": [
       "<IPython.core.display.Markdown object>"
      ]
     },
     "metadata": {},
     "output_type": "display_data"
    },
    {
     "data": {
      "text/html": [
       "<a href=\"#Input_Parameters\">Input Parameters</a>"
      ],
      "text/plain": [
       "<IPython.core.display.HTML object>"
      ]
     },
     "metadata": {},
     "output_type": "display_data"
    },
    {
     "data": {
      "text/html": [
       "<a href=\"#LBLNEW_case_compaired_against\">LBLNEW case compaired against</a>"
      ],
      "text/plain": [
       "<IPython.core.display.HTML object>"
      ]
     },
     "metadata": {},
     "output_type": "display_data"
    },
    {
     "data": {
      "text/html": [
       "<a href=\"#Cooling_Rate_Profiles\">Cooling Rate Profiles</a>"
      ],
      "text/plain": [
       "<IPython.core.display.HTML object>"
      ]
     },
     "metadata": {},
     "output_type": "display_data"
    },
    {
     "data": {
      "text/html": [
       "<a href=\"#Flux_Comparison\">Flux Comparison</a>"
      ],
      "text/plain": [
       "<IPython.core.display.HTML object>"
      ]
     },
     "metadata": {},
     "output_type": "display_data"
    },
    {
     "data": {
      "text/html": [
       "<a href=\"#Best-fit_Parameters\">Best-fit Parameters</a>"
      ],
      "text/plain": [
       "<IPython.core.display.HTML object>"
      ]
     },
     "metadata": {},
     "output_type": "display_data"
    },
    {
     "data": {
      "text/html": [
       "<a id=\"Input_Parameters\"></a>"
      ],
      "text/plain": [
       "<IPython.core.display.HTML object>"
      ]
     },
     "metadata": {},
     "output_type": "display_data"
    },
    {
     "data": {
      "text/markdown": [
       "# Input Parameters"
      ],
      "text/plain": [
       "<IPython.core.display.Markdown object>"
      ]
     },
     "metadata": {},
     "output_type": "display_data"
    },
    {
     "name": "stdout",
     "output_type": "stream",
     "text": [
      "atmpro = trp\n",
      "band = [9]\n",
      "commitnumber = de5d43e\n",
      "molecule = {'h2o': 'atmpro'}\n",
      "tsfc = 300\n"
     ]
    },
    {
     "data": {
      "text/html": [
       "<a id=\"LBLNEW_case_compaired_against\"></a>"
      ],
      "text/plain": [
       "<IPython.core.display.HTML object>"
      ]
     },
     "metadata": {},
     "output_type": "display_data"
    },
    {
     "data": {
      "text/markdown": [
       "# LBLNEW case compaired against"
      ],
      "text/plain": [
       "<IPython.core.display.Markdown object>"
      ]
     },
     "metadata": {},
     "output_type": "display_data"
    },
    {
     "name": "stdout",
     "output_type": "stream",
     "text": [
      "atmpro = trp\n",
      "band = 7\n",
      "commitnumber = 5014a19\n",
      "conc = None\n",
      "dv = 0.001\n",
      "klin = 0\n",
      "molecule = h2o\n",
      "ng_adju = [0]\n",
      "ng_refs = [7]\n",
      "nv = 1000\n",
      "option_compute_btable = 0\n",
      "option_compute_ktable = 0\n",
      "option_wgt_flux = 1\n",
      "option_wgt_k = 1\n",
      "ref_pts = [(600, 250)]\n",
      "tsfc = 300\n",
      "vmax = 1380\n",
      "vmin = 1215\n",
      "w_diffuse = [(2, 1.6, 1.6, 1.6, 1.6, 1.6, 1.8)]\n",
      "wgt = [(0.5, 0.5, 0.5, 0.5, 0.5, 0.5, 0.9)]\n"
     ]
    },
    {
     "data": {
      "text/html": [
       "<a id=\"Cooling_Rate_Profiles\"></a>"
      ],
      "text/plain": [
       "<IPython.core.display.HTML object>"
      ]
     },
     "metadata": {},
     "output_type": "display_data"
    },
    {
     "data": {
      "text/markdown": [
       "# Cooling Rate Profiles"
      ],
      "text/plain": [
       "<IPython.core.display.Markdown object>"
      ]
     },
     "metadata": {},
     "output_type": "display_data"
    },
    {
     "data": {
      "text/html": [
       "\n",
       "<div class=\"bk-root\">\n",
       "    <div class=\"bk-plotdiv\" id=\"bd9f6924-4d3c-463e-8407-1b7cb938ce35\"></div>\n",
       "</div>"
      ]
     },
     "metadata": {},
     "output_type": "display_data"
    },
    {
     "data": {
      "application/javascript": [
       "(function(root) {\n",
       "  function embed_document(root) {\n",
       "    \n",
       "  var docs_json = {\"a708968a-1a6c-4b2b-90f5-258f4c9107e0\":{\"roots\":{\"references\":[{\"attributes\":{\"ticker\":null},\"id\":\"9c387d06-152e-49bb-823e-5acadbd39bad\",\"type\":\"LogTickFormatter\"},{\"attributes\":{},\"id\":\"ec59239c-60df-4134-8583-a3af6fa1409f\",\"type\":\"BasicTickFormatter\"},{\"attributes\":{},\"id\":\"5d9257e1-77bb-4c06-bc5d-35a18cc3f01b\",\"type\":\"Selection\"},{\"attributes\":{},\"id\":\"260c1961-45e6-48bd-8cf5-fd6a904543b3\",\"type\":\"BasicTickFormatter\"},{\"attributes\":{},\"id\":\"b414c66d-1af5-4b99-a3ef-efff0afc46d7\",\"type\":\"UnionRenderers\"},{\"attributes\":{},\"id\":\"d463bc08-b586-4ad6-9999-1ff4857047a9\",\"type\":\"LinearScale\"},{\"attributes\":{},\"id\":\"1b693265-300d-47cb-9386-17ddc3b693ca\",\"type\":\"Selection\"},{\"attributes\":{},\"id\":\"7a447d40-4bcc-4b84-9d37-78cc0e2c93a9\",\"type\":\"Selection\"},{\"attributes\":{},\"id\":\"54102e8d-f328-4726-aef5-abf1a4278506\",\"type\":\"UnionRenderers\"},{\"attributes\":{\"callback\":null,\"end\":0.2897485115032382,\"start\":-0.0036291418270581995},\"id\":\"91ba136b-918a-485c-8b97-d2b4561c0276\",\"type\":\"Range1d\"},{\"attributes\":{},\"id\":\"578ec47b-60c0-492b-9bd9-732dd2cca18d\",\"type\":\"Selection\"},{\"attributes\":{\"data_source\":{\"id\":\"530fa90a-9806-4171-a3ad-ce469f9e1892\",\"type\":\"ColumnDataSource\"},\"glyph\":{\"id\":\"7abdaf3f-f3fe-4984-b126-726d85bb0ea9\",\"type\":\"Line\"},\"hover_glyph\":null,\"muted_glyph\":null,\"nonselection_glyph\":{\"id\":\"2b54eb38-70ed-45f1-8cc5-16f70a14d0d9\",\"type\":\"Line\"},\"selection_glyph\":null,\"view\":{\"id\":\"ff003a21-3344-44dd-b763-6a87bdefd061\",\"type\":\"CDSView\"}},\"id\":\"d412c86e-8648-49c8-9c09-f16d6844b305\",\"type\":\"GlyphRenderer\"},{\"attributes\":{},\"id\":\"4d7cd717-d99e-4b60-8de7-463ba6ea2ed0\",\"type\":\"UnionRenderers\"},{\"attributes\":{},\"id\":\"60736dca-1c8f-4cf8-bd6f-54759df7edd2\",\"type\":\"UnionRenderers\"},{\"attributes\":{},\"id\":\"9fd4834c-7b89-4d2f-9df1-83b6cae65c82\",\"type\":\"Selection\"},{\"attributes\":{\"tools\":[{\"id\":\"ac0ab67c-cf8c-45e6-ba14-9c9f5c5ef7d4\",\"type\":\"PanTool\"},{\"id\":\"7b689316-eb4f-49ff-817f-dc6c16b1777d\",\"type\":\"WheelZoomTool\"},{\"id\":\"79343758-ffd3-45e0-b25a-33cb71b5cffa\",\"type\":\"BoxZoomTool\"},{\"id\":\"0e4bb5dc-7879-4d54-b33c-88ad2007fa71\",\"type\":\"SaveTool\"},{\"id\":\"ce4c043a-acfc-4b7f-a7e7-6880947e2e85\",\"type\":\"ResetTool\"},{\"id\":\"ca49d9c9-69fc-4d66-b3ba-bcc89fc6e805\",\"type\":\"HelpTool\"},{\"id\":\"3b45166b-ed47-4bac-b6a3-36e7b0ad188c\",\"type\":\"PanTool\"},{\"id\":\"a49e7bcc-5e28-465f-b550-e7cb919ba671\",\"type\":\"WheelZoomTool\"},{\"id\":\"7cdeecd6-7ea9-4121-ad8a-5e8becbd0b47\",\"type\":\"BoxZoomTool\"},{\"id\":\"056a4996-cc88-40a7-a8de-b73289b1101e\",\"type\":\"SaveTool\"},{\"id\":\"039b723f-ec0e-4c8e-9add-11bbff00aba2\",\"type\":\"ResetTool\"},{\"id\":\"3a0e52ce-49a6-4009-9c1d-2c0b56e4051d\",\"type\":\"HelpTool\"}]},\"id\":\"96978eaa-e95c-4f99-b144-f0d880a41c05\",\"type\":\"ProxyToolbar\"},{\"attributes\":{\"toolbar\":{\"id\":\"96978eaa-e95c-4f99-b144-f0d880a41c05\",\"type\":\"ProxyToolbar\"},\"toolbar_location\":\"above\"},\"id\":\"3a7425c0-4e0b-4f6f-89e7-20f629a04058\",\"type\":\"ToolbarBox\"},{\"attributes\":{\"source\":{\"id\":\"b59ee9c3-a990-4dac-88c2-1d23b7e97386\",\"type\":\"ColumnDataSource\"}},\"id\":\"5da5f460-d6b4-41ae-a139-8f9f5218fc5b\",\"type\":\"CDSView\"},{\"attributes\":{},\"id\":\"558f6e4c-227f-499f-bd9e-18b27ac22131\",\"type\":\"UnionRenderers\"},{\"attributes\":{\"fill_alpha\":{\"value\":0.7},\"fill_color\":{\"value\":\"#4daf4a\"},\"line_alpha\":{\"value\":0.7},\"line_color\":{\"value\":\"#4daf4a\"},\"x\":{\"field\":\"x\"},\"y\":{\"field\":\"y\"}},\"id\":\"d93b9e67-01d5-45d7-b931-df886e5e8728\",\"type\":\"Circle\"},{\"attributes\":{},\"id\":\"fac91ffc-022a-4ce4-8731-14526211c46e\",\"type\":\"Selection\"},{\"attributes\":{\"children\":[{\"id\":\"3a7425c0-4e0b-4f6f-89e7-20f629a04058\",\"type\":\"ToolbarBox\"},{\"id\":\"0f0a6169-9f60-4d02-a693-bdb6b187665d\",\"type\":\"Column\"}]},\"id\":\"0b6573e8-f49f-4548-9394-0d3d9ec31624\",\"type\":\"Column\"},{\"attributes\":{\"source\":{\"id\":\"530fa90a-9806-4171-a3ad-ce469f9e1892\",\"type\":\"ColumnDataSource\"}},\"id\":\"ff003a21-3344-44dd-b763-6a87bdefd061\",\"type\":\"CDSView\"},{\"attributes\":{\"callback\":null,\"data\":{\"x\":{\"__ndarray__\":\"DhCBaMMoY7+ARBMoYhFjv9A7hcSM3GK/N5UXKSyiYr+/pAkAO2NivyyXkautIGK/DPnVEGTaYb87G9szl5Bhvw4dprGJSWG/wAyYUFn+YL82xpQocLRgvxEewdIfb2C/KrIabmcvYL8PKU9nCsBfvyRwoE6d8Vu/CfNu0pO+UL+okPa5PWwpP451A1q5XWA/ATTub0e2cj+A6m6KBqqAPykZ9jdFoIo/Y5OAwQM9kz/GE8qN5QeVP1P15siu2pE/qryri8w9iz9kWsBodJ6CP+K88vdPUng/Q5OIVH9ibz9cE5Fs9SZkP99Opx+J3Fk/5itfGKt0UD/rGTpPBRVEP9I7m5MRXDU/ZkGZ8LsbFz+GGaBGLB4uv1WVzPyEeEG/6LhOZJl7Rr8e2Xvj4MZGv434z+3jWkK/vMVkjbNtN7/o77zYBu7nvtSNOR41+U8/a6bo8OP7aD8hjgL3DSJ6P++tFVurt4Y/mjFOQVO2kT9RTZCrbZeZPyf1HpQbOKE/NYcJQjBJpT9PwW2v/UuqPxcD5H6ZBbA/D6bxo8svsz9PG6D3cJC2P531xpypCLo/PlIK28uNvT8XGMtXdn/AP7avboKQKMI/mbmf18jDwz91cFV+vlLFP+KYwAh17MY/Bwa1hCGXyD/jPqwWXBzKP4a/T+oF/so/81uuXV4pzD8bFKz1bkHLP7Ug77Dkhck/k/KDiA7gxz/u8xB0UQDGP4ZrWs5K/8Q/30d/eRKixD8glSicWaLEP/mx9jWa9cQ/sM8YvYW7xT+/MsqO6HnHP9JoF3iTxNA/\",\"dtype\":\"float64\",\"shape\":[75]},\"y\":{\"__ndarray__\":\"GhExyth1ND/Sv8nbtpRIP2vylNV0PVE/aTum7souWD/At0SJ8fVgPw3Iuahxymc/MSNhhJWvcD/bTfBN02d3P2zb5nxnaoA/CD5h5MAGhz8NmeH1TyaQP+zrCsc9p5Y/LbKd76fGnz/bLW5ISEmmPww9YvTcQq8/JV2OstnstT8Er5Y7M8G+P0c+r3jqkcU/5h99k6ZBzj88bCIzFzjVP4enV8oyxN0//yH99nXg5D8qOpLLf0jtP5kqGJXUifQ/c9cS8kHP/D+/DpwzojQEQIEmwoanVwxA4lgXt9HgE0BSSZ2AJuIbQAMJih9jjiNA5q4l5INuK0AwTKYKRj0zQNv5fmq8/DpAaCJseHrtQkB/+zpwzoxKQM3MzMzMeFJAZmZmZmZqWEAAAAAAAFxeQM3MzMzMJmJAmpmZmZkfZUBmZmZmZhhoQDMzMzMzEWtAAAAAAAAKbkBmZmZmZoFwQM3MzMzM/XFAMzMzMzN6c0CamZmZmfZ0QAAAAAAAc3ZAZmZmZmbvd0DNzMzMzGt5QDMzMzMz6HpAmpmZmZlkfEAAAAAAAOF9QGZmZmZmXX9AZmZmZuZsgECamZmZGSuBQM3MzMxM6YFAAAAAAICngkAzMzMzs2WDQGZmZmbmI4RAmpmZmRnihEDNzMzMTKCFQAAAAACAXoZAMzMzM7Mch0BmZmZm5tqHQJqZmZkZmYhAzczMzExXiUAAAAAAgBWKQDMzMzOz04pAZmZmZuaRi0CamZmZGVCMQM3MzMxMDo1AAAAAAIDMjUAzMzMzs4qOQGZmZmbmSI9A\",\"dtype\":\"float64\",\"shape\":[75]}},\"selected\":{\"id\":\"578ec47b-60c0-492b-9bd9-732dd2cca18d\",\"type\":\"Selection\"},\"selection_policy\":{\"id\":\"60736dca-1c8f-4cf8-bd6f-54759df7edd2\",\"type\":\"UnionRenderers\"}},\"id\":\"b59ee9c3-a990-4dac-88c2-1d23b7e97386\",\"type\":\"ColumnDataSource\"},{\"attributes\":{\"below\":[{\"id\":\"589aaeb9-0286-406e-8df5-56da02e3c5d9\",\"type\":\"LinearAxis\"}],\"left\":[{\"id\":\"2405362e-4291-40c4-b2a3-3e31b5472de0\",\"type\":\"LogAxis\"}],\"plot_height\":500,\"plot_width\":560,\"renderers\":[{\"id\":\"589aaeb9-0286-406e-8df5-56da02e3c5d9\",\"type\":\"LinearAxis\"},{\"id\":\"b59b53cd-69a7-447f-9e18-7d4b31bcf958\",\"type\":\"Grid\"},{\"id\":\"2405362e-4291-40c4-b2a3-3e31b5472de0\",\"type\":\"LogAxis\"},{\"id\":\"4fd2e721-4dd5-442c-8303-93f93c254e4d\",\"type\":\"Grid\"},{\"id\":\"c4476da8-0049-4029-86e2-4c3ebb86cdac\",\"type\":\"BoxAnnotation\"},{\"id\":\"d412c86e-8648-49c8-9c09-f16d6844b305\",\"type\":\"GlyphRenderer\"},{\"id\":\"3c7a06e9-36a0-4796-800c-7dfdcee8e846\",\"type\":\"GlyphRenderer\"},{\"id\":\"e5f7d11e-9dec-4f97-82b1-04d007c3ea04\",\"type\":\"GlyphRenderer\"},{\"id\":\"16f3d09a-a512-4064-8953-3f6669be62ee\",\"type\":\"GlyphRenderer\"},{\"id\":\"c57ad82e-8815-43f3-8dbc-a30bcbcbef8f\",\"type\":\"GlyphRenderer\"},{\"id\":\"ead2cf43-05e3-4c38-bb48-649ab4fcef56\",\"type\":\"Legend\"}],\"right\":[{\"id\":\"ead2cf43-05e3-4c38-bb48-649ab4fcef56\",\"type\":\"Legend\"}],\"title\":{\"id\":\"06a68f94-08d8-49e0-8afa-57c9509f91bc\",\"type\":\"Title\"},\"toolbar\":{\"id\":\"fb6b0930-ae22-4254-911a-d762639887ed\",\"type\":\"Toolbar\"},\"toolbar_location\":null,\"x_range\":{\"id\":\"ee67f1f5-81d5-4759-829b-a48e0e2c0858\",\"type\":\"Range1d\"},\"x_scale\":{\"id\":\"c863950e-e11c-4344-801e-46718a1b27b3\",\"type\":\"LinearScale\"},\"y_range\":{\"id\":\"1e47fb80-ba00-4850-9a1e-5d9ee0542b4c\",\"type\":\"Range1d\"},\"y_scale\":{\"id\":\"c51170ac-7e76-4e20-8580-4dc7fe8ea830\",\"type\":\"LogScale\"}},\"id\":\"19ad80c7-8bbb-4b2e-a98f-a2dae34d429a\",\"subtype\":\"Figure\",\"type\":\"Plot\"},{\"attributes\":{\"source\":{\"id\":\"e236a7f3-eec1-4956-88d7-58ef922ff197\",\"type\":\"ColumnDataSource\"}},\"id\":\"32c287b2-0a62-4063-8112-7f169051e7a4\",\"type\":\"CDSView\"},{\"attributes\":{},\"id\":\"30466357-6bab-4e48-9df8-a1c78d5816e3\",\"type\":\"BasicTicker\"},{\"attributes\":{\"plot\":{\"id\":\"0631b931-18c2-450d-a7b6-fa7bae788a99\",\"subtype\":\"Figure\",\"type\":\"Plot\"},\"ticker\":{\"id\":\"083eb54e-3e09-4100-b6bb-d788b09d2598\",\"type\":\"BasicTicker\"}},\"id\":\"c8a62a73-21c4-4062-a83c-d5b79e255946\",\"type\":\"Grid\"},{\"attributes\":{\"bottom_units\":\"screen\",\"fill_alpha\":{\"value\":0.5},\"fill_color\":{\"value\":\"lightgrey\"},\"left_units\":\"screen\",\"level\":\"overlay\",\"line_alpha\":{\"value\":1.0},\"line_color\":{\"value\":\"black\"},\"line_dash\":[4,4],\"line_width\":{\"value\":2},\"plot\":null,\"render_mode\":\"css\",\"right_units\":\"screen\",\"top_units\":\"screen\"},\"id\":\"c92e5735-9566-426d-9aca-7a6d813fea23\",\"type\":\"BoxAnnotation\"},{\"attributes\":{\"dimension\":1,\"plot\":{\"id\":\"0631b931-18c2-450d-a7b6-fa7bae788a99\",\"subtype\":\"Figure\",\"type\":\"Plot\"},\"ticker\":{\"id\":\"30466357-6bab-4e48-9df8-a1c78d5816e3\",\"type\":\"BasicTicker\"}},\"id\":\"7223f080-03d1-4ccb-aecf-c7c80299b2ea\",\"type\":\"Grid\"},{\"attributes\":{},\"id\":\"083eb54e-3e09-4100-b6bb-d788b09d2598\",\"type\":\"BasicTicker\"},{\"attributes\":{\"axis_label\":\"pressure [mb]\",\"formatter\":{\"id\":\"f43e1072-2556-4a10-86a8-53a461df178d\",\"type\":\"BasicTickFormatter\"},\"plot\":{\"id\":\"0631b931-18c2-450d-a7b6-fa7bae788a99\",\"subtype\":\"Figure\",\"type\":\"Plot\"},\"ticker\":{\"id\":\"30466357-6bab-4e48-9df8-a1c78d5816e3\",\"type\":\"BasicTicker\"}},\"id\":\"f6aab3f6-763a-4407-aa0e-786068e8c1f7\",\"type\":\"LinearAxis\"},{\"attributes\":{\"line_color\":\"#4daf4a\",\"line_width\":1.5,\"x\":{\"field\":\"x\"},\"y\":{\"field\":\"y\"}},\"id\":\"2aaf0acd-f71d-4458-8b20-0740c315ac0d\",\"type\":\"Line\"},{\"attributes\":{\"active_drag\":\"auto\",\"active_inspect\":\"auto\",\"active_scroll\":\"auto\",\"active_tap\":\"auto\",\"tools\":[{\"id\":\"ac0ab67c-cf8c-45e6-ba14-9c9f5c5ef7d4\",\"type\":\"PanTool\"},{\"id\":\"7b689316-eb4f-49ff-817f-dc6c16b1777d\",\"type\":\"WheelZoomTool\"},{\"id\":\"79343758-ffd3-45e0-b25a-33cb71b5cffa\",\"type\":\"BoxZoomTool\"},{\"id\":\"0e4bb5dc-7879-4d54-b33c-88ad2007fa71\",\"type\":\"SaveTool\"},{\"id\":\"ce4c043a-acfc-4b7f-a7e7-6880947e2e85\",\"type\":\"ResetTool\"},{\"id\":\"ca49d9c9-69fc-4d66-b3ba-bcc89fc6e805\",\"type\":\"HelpTool\"}]},\"id\":\"ddd90ff4-4fe9-4f8a-8f6e-3ee598f64fd8\",\"type\":\"Toolbar\"},{\"attributes\":{\"plot\":null,\"text\":\"Linear pressure scale\"},\"id\":\"d29d7455-7c26-4545-9f80-b70a7af4cf09\",\"type\":\"Title\"},{\"attributes\":{\"axis_label\":\"cooling rate [K/day]\",\"formatter\":{\"id\":\"ec59239c-60df-4134-8583-a3af6fa1409f\",\"type\":\"BasicTickFormatter\"},\"plot\":{\"id\":\"0631b931-18c2-450d-a7b6-fa7bae788a99\",\"subtype\":\"Figure\",\"type\":\"Plot\"},\"ticker\":{\"id\":\"083eb54e-3e09-4100-b6bb-d788b09d2598\",\"type\":\"BasicTicker\"}},\"id\":\"632216a0-229a-469d-93fe-f2fbe7f6e5a4\",\"type\":\"LinearAxis\"},{\"attributes\":{\"source\":{\"id\":\"c1ed112b-539c-4061-87bd-674a0e984bde\",\"type\":\"ColumnDataSource\"}},\"id\":\"3ee8a073-248a-48a3-9da8-da682abf73ce\",\"type\":\"CDSView\"},{\"attributes\":{\"callback\":null,\"end\":0.01,\"start\":1020},\"id\":\"6ac9071f-af9f-4288-8c50-d8e591208931\",\"type\":\"Range1d\"},{\"attributes\":{\"callback\":null,\"data\":{\"x\":{\"__ndarray__\":\"DhCBaMMoY7+ARBMoYhFjv9A7hcSM3GK/N5UXKSyiYr+/pAkAO2NivyyXkautIGK/DPnVEGTaYb87G9szl5Bhvw4dprGJSWG/wAyYUFn+YL82xpQocLRgvxEewdIfb2C/KrIabmcvYL8PKU9nCsBfvyRwoE6d8Vu/CfNu0pO+UL+okPa5PWwpP451A1q5XWA/ATTub0e2cj+A6m6KBqqAPykZ9jdFoIo/Y5OAwQM9kz/GE8qN5QeVP1P15siu2pE/qryri8w9iz9kWsBodJ6CP+K88vdPUng/Q5OIVH9ibz9cE5Fs9SZkP99Opx+J3Fk/5itfGKt0UD/rGTpPBRVEP9I7m5MRXDU/ZkGZ8LsbFz+GGaBGLB4uv1WVzPyEeEG/6LhOZJl7Rr8e2Xvj4MZGv434z+3jWkK/vMVkjbNtN7/o77zYBu7nvtSNOR41+U8/a6bo8OP7aD8hjgL3DSJ6P++tFVurt4Y/mjFOQVO2kT9RTZCrbZeZPyf1HpQbOKE/NYcJQjBJpT9PwW2v/UuqPxcD5H6ZBbA/D6bxo8svsz9PG6D3cJC2P531xpypCLo/PlIK28uNvT8XGMtXdn/AP7avboKQKMI/mbmf18jDwz91cFV+vlLFP+KYwAh17MY/Bwa1hCGXyD/jPqwWXBzKP4a/T+oF/so/81uuXV4pzD8bFKz1bkHLP7Ug77Dkhck/k/KDiA7gxz/u8xB0UQDGP4ZrWs5K/8Q/30d/eRKixD8glSicWaLEP/mx9jWa9cQ/sM8YvYW7xT+/MsqO6HnHP9JoF3iTxNA/\",\"dtype\":\"float64\",\"shape\":[75]},\"y\":{\"__ndarray__\":\"GhExyth1ND/Sv8nbtpRIP2vylNV0PVE/aTum7souWD/At0SJ8fVgPw3Iuahxymc/MSNhhJWvcD/bTfBN02d3P2zb5nxnaoA/CD5h5MAGhz8NmeH1TyaQP+zrCsc9p5Y/LbKd76fGnz/bLW5ISEmmPww9YvTcQq8/JV2OstnstT8Er5Y7M8G+P0c+r3jqkcU/5h99k6ZBzj88bCIzFzjVP4enV8oyxN0//yH99nXg5D8qOpLLf0jtP5kqGJXUifQ/c9cS8kHP/D+/DpwzojQEQIEmwoanVwxA4lgXt9HgE0BSSZ2AJuIbQAMJih9jjiNA5q4l5INuK0AwTKYKRj0zQNv5fmq8/DpAaCJseHrtQkB/+zpwzoxKQM3MzMzMeFJAZmZmZmZqWEAAAAAAAFxeQM3MzMzMJmJAmpmZmZkfZUBmZmZmZhhoQDMzMzMzEWtAAAAAAAAKbkBmZmZmZoFwQM3MzMzM/XFAMzMzMzN6c0CamZmZmfZ0QAAAAAAAc3ZAZmZmZmbvd0DNzMzMzGt5QDMzMzMz6HpAmpmZmZlkfEAAAAAAAOF9QGZmZmZmXX9AZmZmZuZsgECamZmZGSuBQM3MzMxM6YFAAAAAAICngkAzMzMzs2WDQGZmZmbmI4RAmpmZmRnihEDNzMzMTKCFQAAAAACAXoZAMzMzM7Mch0BmZmZm5tqHQJqZmZkZmYhAzczMzExXiUAAAAAAgBWKQDMzMzOz04pAZmZmZuaRi0CamZmZGVCMQM3MzMxMDo1AAAAAAIDMjUAzMzMzs4qOQGZmZmbmSI9A\",\"dtype\":\"float64\",\"shape\":[75]}},\"selected\":{\"id\":\"4a6c6c07-1afb-40b5-ac65-f3651a40f8fe\",\"type\":\"Selection\"},\"selection_policy\":{\"id\":\"cf894539-85e4-4053-88a4-3cbcf8ff97e8\",\"type\":\"UnionRenderers\"}},\"id\":\"778db8fc-7ada-42dc-be9f-b5ebbc2a2405\",\"type\":\"ColumnDataSource\"},{\"attributes\":{\"data_source\":{\"id\":\"b59ee9c3-a990-4dac-88c2-1d23b7e97386\",\"type\":\"ColumnDataSource\"},\"glyph\":{\"id\":\"0019839e-6ff1-462d-93e1-28adb99cd526\",\"type\":\"Circle\"},\"hover_glyph\":null,\"muted_glyph\":null,\"nonselection_glyph\":{\"id\":\"fc5ed1a5-0780-4673-a107-9d5ffedc46ef\",\"type\":\"Circle\"},\"selection_glyph\":null,\"view\":{\"id\":\"5da5f460-d6b4-41ae-a139-8f9f5218fc5b\",\"type\":\"CDSView\"}},\"id\":\"3c7a06e9-36a0-4796-800c-7dfdcee8e846\",\"type\":\"GlyphRenderer\"},{\"attributes\":{\"callback\":null,\"data\":{\"x\":{\"__ndarray__\":\"uDTIeGIVDL+cprMZkYwFv22HQYlkjO++2tF8XT8x6j75daohUJcFP0hi53CnoBI/xDWL5DrHGj/o1KPHe6EhP7ok/fesCiY/WrNM47agKj8GSLhBY30vPx2WU/TISTI/2Mu6pdzeND9oxU0/H1I4P4XGRAPy30I/boOcI8njUT+3//Cq+p9fP0ARJx41gGk/xYwTv9pncz8QC8T2mnR8P4M3groKUoQ/JajqKMeIiz+xjQNhal+OPz6i/kX2rIs/Kn1vzxFKhz9puTiV4CyCP7GHLieghHs/9WGX71d+dD9jpoozIOZtP/ywRowmHmU/kqWPaRKZXD/6RaODiPBRP4BJL7BcMEM/nELzX1nYJj/7FhgYZIcvv2RAyGiEBkO/joT/XBxWSL/VdL2os6tIv6TEyedGcES/u49+/qmRO78hw7Xwi4wTvwyUcDD2ElA/udWTh44Eaj9QV/7pVot6P4GHjErMg4c/a/lezuR4kj/1/8rcScmZP7xAiG0+6aA/zpqpogYFpT9tWVjhiCGqPxAEHvfija8/VG1+MXWesj+SnEU+dby1P7qjqpheL7k/ny/f4QbkvD+NaOEq/0PAPwY+W9f27cE/bPToPs1owz8yWp5zNsfEP1Kb/XbINsY/RXFJBTLVxz96p/AKvnXJPweHo+YYnMo/y2SKaaAszD9UO+/s3LfLPzZ46fpPUco/0UWzXAjGyD+HYO31ttTGP/8EEoVswMU/tH/RKW1qxT/SoUWXvJLFP2/M++h1KcY/wRBMgk1Lxz9sR8NtI3fJPwTiuwyWr9E/\",\"dtype\":\"float64\",\"shape\":[75]},\"y\":{\"__ndarray__\":\"GhExyth1ND/Sv8nbtpRIP2vylNV0PVE/aTum7souWD/At0SJ8fVgPw3Iuahxymc/MSNhhJWvcD/bTfBN02d3P2zb5nxnaoA/CD5h5MAGhz8NmeH1TyaQP+zrCsc9p5Y/LbKd76fGnz/bLW5ISEmmPww9YvTcQq8/JV2OstnstT8Er5Y7M8G+P0c+r3jqkcU/5h99k6ZBzj88bCIzFzjVP4enV8oyxN0//yH99nXg5D8qOpLLf0jtP5kqGJXUifQ/c9cS8kHP/D+/DpwzojQEQIEmwoanVwxA4lgXt9HgE0BSSZ2AJuIbQAMJih9jjiNA5q4l5INuK0AwTKYKRj0zQNv5fmq8/DpAaCJseHrtQkB/+zpwzoxKQM3MzMzMeFJAZmZmZmZqWEAAAAAAAFxeQM3MzMzMJmJAmpmZmZkfZUBmZmZmZhhoQDMzMzMzEWtAAAAAAAAKbkBmZmZmZoFwQM3MzMzM/XFAMzMzMzN6c0CamZmZmfZ0QAAAAAAAc3ZAZmZmZmbvd0DNzMzMzGt5QDMzMzMz6HpAmpmZmZlkfEAAAAAAAOF9QGZmZmZmXX9AZmZmZuZsgECamZmZGSuBQM3MzMxM6YFAAAAAAICngkAzMzMzs2WDQGZmZmbmI4RAmpmZmRnihEDNzMzMTKCFQAAAAACAXoZAMzMzM7Mch0BmZmZm5tqHQJqZmZkZmYhAzczMzExXiUAAAAAAgBWKQDMzMzOz04pAZmZmZuaRi0CamZmZGVCMQM3MzMxMDo1AAAAAAIDMjUAzMzMzs4qOQGZmZmbmSI9A\",\"dtype\":\"float64\",\"shape\":[75]}},\"selected\":{\"id\":\"9fd4834c-7b89-4d2f-9df1-83b6cae65c82\",\"type\":\"Selection\"},\"selection_policy\":{\"id\":\"54102e8d-f328-4726-aef5-abf1a4278506\",\"type\":\"UnionRenderers\"}},\"id\":\"d487c538-5f92-4b1b-9c8c-1191d6be7258\",\"type\":\"ColumnDataSource\"},{\"attributes\":{\"fill_alpha\":{\"value\":0.1},\"fill_color\":{\"value\":\"#1f77b4\"},\"line_alpha\":{\"value\":0.1},\"line_color\":{\"value\":\"#1f77b4\"},\"x\":{\"field\":\"x\"},\"y\":{\"field\":\"y\"}},\"id\":\"fc5ed1a5-0780-4673-a107-9d5ffedc46ef\",\"type\":\"Circle\"},{\"attributes\":{\"data_source\":{\"id\":\"c1ed112b-539c-4061-87bd-674a0e984bde\",\"type\":\"ColumnDataSource\"},\"glyph\":{\"id\":\"c9830e6e-3267-465d-94b3-bba6577c1804\",\"type\":\"Line\"},\"hover_glyph\":null,\"muted_glyph\":null,\"nonselection_glyph\":{\"id\":\"bd3eda5d-07e2-47b4-a7e1-e4058b90cc79\",\"type\":\"Line\"},\"selection_glyph\":null,\"view\":{\"id\":\"3ee8a073-248a-48a3-9da8-da682abf73ce\",\"type\":\"CDSView\"}},\"id\":\"d88b4706-c94d-44e5-b2da-6e77b1509bd5\",\"type\":\"GlyphRenderer\"},{\"attributes\":{},\"id\":\"ac0ab67c-cf8c-45e6-ba14-9c9f5c5ef7d4\",\"type\":\"PanTool\"},{\"attributes\":{},\"id\":\"ce4c043a-acfc-4b7f-a7e7-6880947e2e85\",\"type\":\"ResetTool\"},{\"attributes\":{\"fill_alpha\":{\"value\":0.7},\"fill_color\":{\"value\":\"#4daf4a\"},\"line_alpha\":{\"value\":0.7},\"line_color\":{\"value\":\"#4daf4a\"},\"x\":{\"field\":\"x\"},\"y\":{\"field\":\"y\"}},\"id\":\"0019839e-6ff1-462d-93e1-28adb99cd526\",\"type\":\"Circle\"},{\"attributes\":{},\"id\":\"7b689316-eb4f-49ff-817f-dc6c16b1777d\",\"type\":\"WheelZoomTool\"},{\"attributes\":{},\"id\":\"ca49d9c9-69fc-4d66-b3ba-bcc89fc6e805\",\"type\":\"HelpTool\"},{\"attributes\":{\"callback\":null,\"data\":{\"x\":{\"__ndarray__\":\"DhCBaMMoY7+ARBMoYhFjv9A7hcSM3GK/N5UXKSyiYr+/pAkAO2NivyyXkautIGK/DPnVEGTaYb87G9szl5Bhvw4dprGJSWG/wAyYUFn+YL82xpQocLRgvxEewdIfb2C/KrIabmcvYL8PKU9nCsBfvyRwoE6d8Vu/CfNu0pO+UL+okPa5PWwpP451A1q5XWA/ATTub0e2cj+A6m6KBqqAPykZ9jdFoIo/Y5OAwQM9kz/GE8qN5QeVP1P15siu2pE/qryri8w9iz9kWsBodJ6CP+K88vdPUng/Q5OIVH9ibz9cE5Fs9SZkP99Opx+J3Fk/5itfGKt0UD/rGTpPBRVEP9I7m5MRXDU/ZkGZ8LsbFz+GGaBGLB4uv1WVzPyEeEG/6LhOZJl7Rr8e2Xvj4MZGv434z+3jWkK/vMVkjbNtN7/o77zYBu7nvtSNOR41+U8/a6bo8OP7aD8hjgL3DSJ6P++tFVurt4Y/mjFOQVO2kT9RTZCrbZeZPyf1HpQbOKE/NYcJQjBJpT9PwW2v/UuqPxcD5H6ZBbA/D6bxo8svsz9PG6D3cJC2P531xpypCLo/PlIK28uNvT8XGMtXdn/AP7avboKQKMI/mbmf18jDwz91cFV+vlLFP+KYwAh17MY/Bwa1hCGXyD/jPqwWXBzKP4a/T+oF/so/81uuXV4pzD8bFKz1bkHLP7Ug77Dkhck/k/KDiA7gxz/u8xB0UQDGP4ZrWs5K/8Q/30d/eRKixD8glSicWaLEP/mx9jWa9cQ/sM8YvYW7xT+/MsqO6HnHP9JoF3iTxNA/\",\"dtype\":\"float64\",\"shape\":[75]},\"y\":{\"__ndarray__\":\"GhExyth1ND/Sv8nbtpRIP2vylNV0PVE/aTum7souWD/At0SJ8fVgPw3Iuahxymc/MSNhhJWvcD/bTfBN02d3P2zb5nxnaoA/CD5h5MAGhz8NmeH1TyaQP+zrCsc9p5Y/LbKd76fGnz/bLW5ISEmmPww9YvTcQq8/JV2OstnstT8Er5Y7M8G+P0c+r3jqkcU/5h99k6ZBzj88bCIzFzjVP4enV8oyxN0//yH99nXg5D8qOpLLf0jtP5kqGJXUifQ/c9cS8kHP/D+/DpwzojQEQIEmwoanVwxA4lgXt9HgE0BSSZ2AJuIbQAMJih9jjiNA5q4l5INuK0AwTKYKRj0zQNv5fmq8/DpAaCJseHrtQkB/+zpwzoxKQM3MzMzMeFJAZmZmZmZqWEAAAAAAAFxeQM3MzMzMJmJAmpmZmZkfZUBmZmZmZhhoQDMzMzMzEWtAAAAAAAAKbkBmZmZmZoFwQM3MzMzM/XFAMzMzMzN6c0CamZmZmfZ0QAAAAAAAc3ZAZmZmZmbvd0DNzMzMzGt5QDMzMzMz6HpAmpmZmZlkfEAAAAAAAOF9QGZmZmZmXX9AZmZmZuZsgECamZmZGSuBQM3MzMxM6YFAAAAAAICngkAzMzMzs2WDQGZmZmbmI4RAmpmZmRnihEDNzMzMTKCFQAAAAACAXoZAMzMzM7Mch0BmZmZm5tqHQJqZmZkZmYhAzczMzExXiUAAAAAAgBWKQDMzMzOz04pAZmZmZuaRi0CamZmZGVCMQM3MzMxMDo1AAAAAAIDMjUAzMzMzs4qOQGZmZmbmSI9A\",\"dtype\":\"float64\",\"shape\":[75]}},\"selected\":{\"id\":\"1b693265-300d-47cb-9386-17ddc3b693ca\",\"type\":\"Selection\"},\"selection_policy\":{\"id\":\"b414c66d-1af5-4b99-a3ef-efff0afc46d7\",\"type\":\"UnionRenderers\"}},\"id\":\"e08a4bad-774a-496d-a83e-2b77744fc2e8\",\"type\":\"ColumnDataSource\"},{\"attributes\":{\"overlay\":{\"id\":\"c92e5735-9566-426d-9aca-7a6d813fea23\",\"type\":\"BoxAnnotation\"}},\"id\":\"79343758-ffd3-45e0-b25a-33cb71b5cffa\",\"type\":\"BoxZoomTool\"},{\"attributes\":{\"line_alpha\":0.1,\"line_color\":\"#1f77b4\",\"line_width\":1.5,\"x\":{\"field\":\"x\"},\"y\":{\"field\":\"y\"}},\"id\":\"266a6bd2-97af-4060-9216-0bca139784a5\",\"type\":\"Line\"},{\"attributes\":{},\"id\":\"0e4bb5dc-7879-4d54-b33c-88ad2007fa71\",\"type\":\"SaveTool\"},{\"attributes\":{\"data_source\":{\"id\":\"e08a4bad-774a-496d-a83e-2b77744fc2e8\",\"type\":\"ColumnDataSource\"},\"glyph\":{\"id\":\"2aaf0acd-f71d-4458-8b20-0740c315ac0d\",\"type\":\"Line\"},\"hover_glyph\":null,\"muted_glyph\":null,\"nonselection_glyph\":{\"id\":\"266a6bd2-97af-4060-9216-0bca139784a5\",\"type\":\"Line\"},\"selection_glyph\":null,\"view\":{\"id\":\"f4d4ab59-6585-49ef-bcfb-7988f242b9ef\",\"type\":\"CDSView\"}},\"id\":\"e5f7d11e-9dec-4f97-82b1-04d007c3ea04\",\"type\":\"GlyphRenderer\"},{\"attributes\":{\"below\":[{\"id\":\"632216a0-229a-469d-93fe-f2fbe7f6e5a4\",\"type\":\"LinearAxis\"}],\"left\":[{\"id\":\"f6aab3f6-763a-4407-aa0e-786068e8c1f7\",\"type\":\"LinearAxis\"}],\"plot_height\":500,\"plot_width\":400,\"renderers\":[{\"id\":\"632216a0-229a-469d-93fe-f2fbe7f6e5a4\",\"type\":\"LinearAxis\"},{\"id\":\"c8a62a73-21c4-4062-a83c-d5b79e255946\",\"type\":\"Grid\"},{\"id\":\"f6aab3f6-763a-4407-aa0e-786068e8c1f7\",\"type\":\"LinearAxis\"},{\"id\":\"7223f080-03d1-4ccb-aecf-c7c80299b2ea\",\"type\":\"Grid\"},{\"id\":\"c92e5735-9566-426d-9aca-7a6d813fea23\",\"type\":\"BoxAnnotation\"},{\"id\":\"d88b4706-c94d-44e5-b2da-6e77b1509bd5\",\"type\":\"GlyphRenderer\"},{\"id\":\"60b3f886-0be9-4516-91de-1404c3181044\",\"type\":\"GlyphRenderer\"},{\"id\":\"2ff0e64a-e9be-45ac-bf4d-a8eec1ca9e9d\",\"type\":\"GlyphRenderer\"},{\"id\":\"bf147529-3a0e-4de7-abbd-6acf03fceb10\",\"type\":\"GlyphRenderer\"},{\"id\":\"244546fe-1250-48bc-904b-0383ad842592\",\"type\":\"GlyphRenderer\"}],\"title\":{\"id\":\"d29d7455-7c26-4545-9f80-b70a7af4cf09\",\"type\":\"Title\"},\"toolbar\":{\"id\":\"ddd90ff4-4fe9-4f8a-8f6e-3ee598f64fd8\",\"type\":\"Toolbar\"},\"toolbar_location\":null,\"x_range\":{\"id\":\"91ba136b-918a-485c-8b97-d2b4561c0276\",\"type\":\"Range1d\"},\"x_scale\":{\"id\":\"d463bc08-b586-4ad6-9999-1ff4857047a9\",\"type\":\"LinearScale\"},\"y_range\":{\"id\":\"6ac9071f-af9f-4288-8c50-d8e591208931\",\"type\":\"Range1d\"},\"y_scale\":{\"id\":\"9d9631ac-61a9-4ae5-978f-ff9dcb19f9d3\",\"type\":\"LinearScale\"}},\"id\":\"0631b931-18c2-450d-a7b6-fa7bae788a99\",\"subtype\":\"Figure\",\"type\":\"Plot\"},{\"attributes\":{\"source\":{\"id\":\"e08a4bad-774a-496d-a83e-2b77744fc2e8\",\"type\":\"ColumnDataSource\"}},\"id\":\"f4d4ab59-6585-49ef-bcfb-7988f242b9ef\",\"type\":\"CDSView\"},{\"attributes\":{\"fill_alpha\":{\"value\":0.7},\"fill_color\":{\"value\":\"#984ea3\"},\"line_alpha\":{\"value\":0.7},\"line_color\":{\"value\":\"#984ea3\"},\"x\":{\"field\":\"x\"},\"y\":{\"field\":\"y\"}},\"id\":\"96fed137-50fd-41aa-8e7b-3adaf9382704\",\"type\":\"Square\"},{\"attributes\":{\"children\":[{\"id\":\"0631b931-18c2-450d-a7b6-fa7bae788a99\",\"subtype\":\"Figure\",\"type\":\"Plot\"},{\"id\":\"19ad80c7-8bbb-4b2e-a98f-a2dae34d429a\",\"subtype\":\"Figure\",\"type\":\"Plot\"}]},\"id\":\"0cf52eb0-6494-485b-90a0-f4eec3d62b1e\",\"type\":\"Row\"},{\"attributes\":{\"fill_alpha\":{\"value\":0.1},\"fill_color\":{\"value\":\"#1f77b4\"},\"line_alpha\":{\"value\":0.1},\"line_color\":{\"value\":\"#1f77b4\"},\"x\":{\"field\":\"x\"},\"y\":{\"field\":\"y\"}},\"id\":\"8d7cbc93-b580-4786-888a-e276100b9d0d\",\"type\":\"Square\"},{\"attributes\":{\"data_source\":{\"id\":\"d487c538-5f92-4b1b-9c8c-1191d6be7258\",\"type\":\"ColumnDataSource\"},\"glyph\":{\"id\":\"96fed137-50fd-41aa-8e7b-3adaf9382704\",\"type\":\"Square\"},\"hover_glyph\":null,\"muted_glyph\":null,\"nonselection_glyph\":{\"id\":\"8d7cbc93-b580-4786-888a-e276100b9d0d\",\"type\":\"Square\"},\"selection_glyph\":null,\"view\":{\"id\":\"64c11084-552e-47f5-9fe6-4245c524c844\",\"type\":\"CDSView\"}},\"id\":\"16f3d09a-a512-4064-8953-3f6669be62ee\",\"type\":\"GlyphRenderer\"},{\"attributes\":{\"source\":{\"id\":\"d487c538-5f92-4b1b-9c8c-1191d6be7258\",\"type\":\"ColumnDataSource\"}},\"id\":\"64c11084-552e-47f5-9fe6-4245c524c844\",\"type\":\"CDSView\"},{\"attributes\":{\"label\":{\"value\":\"CLIRAD `coolr_bands`\"},\"renderers\":[{\"id\":\"d412c86e-8648-49c8-9c09-f16d6844b305\",\"type\":\"GlyphRenderer\"}]},\"id\":\"565da272-794b-4e8f-a0b0-1a3768672923\",\"type\":\"LegendItem\"},{\"attributes\":{},\"id\":\"10ac188d-6a8d-4224-bdcf-d48e7c15d90e\",\"type\":\"Selection\"},{\"attributes\":{\"label\":{\"value\":\"CRD\"},\"renderers\":[{\"id\":\"3c7a06e9-36a0-4796-800c-7dfdcee8e846\",\"type\":\"GlyphRenderer\"},{\"id\":\"e5f7d11e-9dec-4f97-82b1-04d007c3ea04\",\"type\":\"GlyphRenderer\"}]},\"id\":\"a714a3bd-94dd-472a-b31b-f6bd72227a27\",\"type\":\"LegendItem\"},{\"attributes\":{},\"id\":\"0aad2121-cf2e-48e1-a2c6-d95d3acdb3a9\",\"type\":\"UnionRenderers\"},{\"attributes\":{\"label\":{\"value\":\"WGT igg=10 wgt_flux=2\"},\"renderers\":[{\"id\":\"16f3d09a-a512-4064-8953-3f6669be62ee\",\"type\":\"GlyphRenderer\"},{\"id\":\"c57ad82e-8815-43f3-8dbc-a30bcbcbef8f\",\"type\":\"GlyphRenderer\"}]},\"id\":\"cd4a744a-da28-4a13-baaa-8dc3bc0dd2dc\",\"type\":\"LegendItem\"},{\"attributes\":{},\"id\":\"cf894539-85e4-4053-88a4-3cbcf8ff97e8\",\"type\":\"UnionRenderers\"},{\"attributes\":{},\"id\":\"4a6c6c07-1afb-40b5-ac65-f3651a40f8fe\",\"type\":\"Selection\"},{\"attributes\":{},\"id\":\"f43e1072-2556-4a10-86a8-53a461df178d\",\"type\":\"BasicTickFormatter\"},{\"attributes\":{},\"id\":\"77932b96-4a74-4ba3-80f9-a380c428ada6\",\"type\":\"UnionRenderers\"},{\"attributes\":{},\"id\":\"f460bedc-f896-4a8e-be83-0238a0ac575b\",\"type\":\"UnionRenderers\"},{\"attributes\":{},\"id\":\"5fdab131-fa0a-43e9-b696-56d879380dfb\",\"type\":\"UnionRenderers\"},{\"attributes\":{},\"id\":\"0afa522c-4f52-40d6-a65d-42f0f2f1004f\",\"type\":\"Selection\"},{\"attributes\":{},\"id\":\"9d9631ac-61a9-4ae5-978f-ff9dcb19f9d3\",\"type\":\"LinearScale\"},{\"attributes\":{},\"id\":\"075bf12c-1449-47cf-9689-df13ebed35d9\",\"type\":\"Selection\"},{\"attributes\":{\"items\":[{\"id\":\"565da272-794b-4e8f-a0b0-1a3768672923\",\"type\":\"LegendItem\"},{\"id\":\"a714a3bd-94dd-472a-b31b-f6bd72227a27\",\"type\":\"LegendItem\"},{\"id\":\"cd4a744a-da28-4a13-baaa-8dc3bc0dd2dc\",\"type\":\"LegendItem\"}],\"label_text_font_size\":{\"value\":\"8pt\"},\"location\":[10,-30],\"plot\":{\"id\":\"19ad80c7-8bbb-4b2e-a98f-a2dae34d429a\",\"subtype\":\"Figure\",\"type\":\"Plot\"}},\"id\":\"ead2cf43-05e3-4c38-bb48-649ab4fcef56\",\"type\":\"Legend\"},{\"attributes\":{\"data_source\":{\"id\":\"90fb241a-dd09-4dcf-954f-b8ab082b41c4\",\"type\":\"ColumnDataSource\"},\"glyph\":{\"id\":\"29d1c7f6-2ee4-44ac-a0d1-fdde391414b1\",\"type\":\"Line\"},\"hover_glyph\":null,\"muted_glyph\":null,\"nonselection_glyph\":{\"id\":\"e9b04d99-5636-4170-8e4f-f4073d7181b1\",\"type\":\"Line\"},\"selection_glyph\":null,\"view\":{\"id\":\"3f12e800-4fb6-4ebe-ac5e-59252f5e3344\",\"type\":\"CDSView\"}},\"id\":\"2ff0e64a-e9be-45ac-bf4d-a8eec1ca9e9d\",\"type\":\"GlyphRenderer\"},{\"attributes\":{\"line_alpha\":0.1,\"line_color\":\"#1f77b4\",\"line_width\":3,\"x\":{\"field\":\"x\"},\"y\":{\"field\":\"y\"}},\"id\":\"0310a250-0837-4a33-82fb-49f84881a646\",\"type\":\"Line\"},{\"attributes\":{},\"id\":\"c51170ac-7e76-4e20-8580-4dc7fe8ea830\",\"type\":\"LogScale\"},{\"attributes\":{},\"id\":\"c863950e-e11c-4344-801e-46718a1b27b3\",\"type\":\"LinearScale\"},{\"attributes\":{\"num_minor_ticks\":10},\"id\":\"b655290c-8343-4cd8-8c02-5a02caa20ffa\",\"type\":\"LogTicker\"},{\"attributes\":{\"callback\":null,\"data\":{\"x\":{\"__ndarray__\":\"DhCBaMMoY7+ARBMoYhFjv9A7hcSM3GK/N5UXKSyiYr+/pAkAO2NivyyXkautIGK/DPnVEGTaYb87G9szl5Bhvw4dprGJSWG/wAyYUFn+YL82xpQocLRgvxEewdIfb2C/KrIabmcvYL8PKU9nCsBfvyRwoE6d8Vu/CfNu0pO+UL+okPa5PWwpP451A1q5XWA/ATTub0e2cj+A6m6KBqqAPykZ9jdFoIo/Y5OAwQM9kz/GE8qN5QeVP1P15siu2pE/qryri8w9iz9kWsBodJ6CP+K88vdPUng/Q5OIVH9ibz9cE5Fs9SZkP99Opx+J3Fk/5itfGKt0UD/rGTpPBRVEP9I7m5MRXDU/ZkGZ8LsbFz+GGaBGLB4uv1WVzPyEeEG/6LhOZJl7Rr8e2Xvj4MZGv434z+3jWkK/vMVkjbNtN7/o77zYBu7nvtSNOR41+U8/a6bo8OP7aD8hjgL3DSJ6P++tFVurt4Y/mjFOQVO2kT9RTZCrbZeZPyf1HpQbOKE/NYcJQjBJpT9PwW2v/UuqPxcD5H6ZBbA/D6bxo8svsz9PG6D3cJC2P531xpypCLo/PlIK28uNvT8XGMtXdn/AP7avboKQKMI/mbmf18jDwz91cFV+vlLFP+KYwAh17MY/Bwa1hCGXyD/jPqwWXBzKP4a/T+oF/so/81uuXV4pzD8bFKz1bkHLP7Ug77Dkhck/k/KDiA7gxz/u8xB0UQDGP4ZrWs5K/8Q/30d/eRKixD8glSicWaLEP/mx9jWa9cQ/sM8YvYW7xT+/MsqO6HnHP9JoF3iTxNA/\",\"dtype\":\"float64\",\"shape\":[75]},\"y\":{\"__ndarray__\":\"GhExyth1ND/Sv8nbtpRIP2vylNV0PVE/aTum7souWD/At0SJ8fVgPw3Iuahxymc/MSNhhJWvcD/bTfBN02d3P2zb5nxnaoA/CD5h5MAGhz8NmeH1TyaQP+zrCsc9p5Y/LbKd76fGnz/bLW5ISEmmPww9YvTcQq8/JV2OstnstT8Er5Y7M8G+P0c+r3jqkcU/5h99k6ZBzj88bCIzFzjVP4enV8oyxN0//yH99nXg5D8qOpLLf0jtP5kqGJXUifQ/c9cS8kHP/D+/DpwzojQEQIEmwoanVwxA4lgXt9HgE0BSSZ2AJuIbQAMJih9jjiNA5q4l5INuK0AwTKYKRj0zQNv5fmq8/DpAaCJseHrtQkB/+zpwzoxKQM3MzMzMeFJAZmZmZmZqWEAAAAAAAFxeQM3MzMzMJmJAmpmZmZkfZUBmZmZmZhhoQDMzMzMzEWtAAAAAAAAKbkBmZmZmZoFwQM3MzMzM/XFAMzMzMzN6c0CamZmZmfZ0QAAAAAAAc3ZAZmZmZmbvd0DNzMzMzGt5QDMzMzMz6HpAmpmZmZlkfEAAAAAAAOF9QGZmZmZmXX9AZmZmZuZsgECamZmZGSuBQM3MzMxM6YFAAAAAAICngkAzMzMzs2WDQGZmZmbmI4RAmpmZmRnihEDNzMzMTKCFQAAAAACAXoZAMzMzM7Mch0BmZmZm5tqHQJqZmZkZmYhAzczMzExXiUAAAAAAgBWKQDMzMzOz04pAZmZmZuaRi0CamZmZGVCMQM3MzMxMDo1AAAAAAIDMjUAzMzMzs4qOQGZmZmbmSI9A\",\"dtype\":\"float64\",\"shape\":[75]}},\"selected\":{\"id\":\"075bf12c-1449-47cf-9689-df13ebed35d9\",\"type\":\"Selection\"},\"selection_policy\":{\"id\":\"5fdab131-fa0a-43e9-b696-56d879380dfb\",\"type\":\"UnionRenderers\"}},\"id\":\"90fb241a-dd09-4dcf-954f-b8ab082b41c4\",\"type\":\"ColumnDataSource\"},{\"attributes\":{},\"id\":\"3a0e52ce-49a6-4009-9c1d-2c0b56e4051d\",\"type\":\"HelpTool\"},{\"attributes\":{\"callback\":null,\"end\":0.01,\"start\":1020},\"id\":\"1e47fb80-ba00-4850-9a1e-5d9ee0542b4c\",\"type\":\"Range1d\"},{\"attributes\":{\"callback\":null,\"end\":0.02076405944,\"start\":-0.0023005314399999997},\"id\":\"ee67f1f5-81d5-4759-829b-a48e0e2c0858\",\"type\":\"Range1d\"},{\"attributes\":{},\"id\":\"056a4996-cc88-40a7-a8de-b73289b1101e\",\"type\":\"SaveTool\"},{\"attributes\":{\"line_alpha\":0.6,\"line_color\":\"#e41a1c\",\"line_dash\":[6],\"line_width\":5,\"x\":{\"field\":\"x\"},\"y\":{\"field\":\"y\"}},\"id\":\"c9830e6e-3267-465d-94b3-bba6577c1804\",\"type\":\"Line\"},{\"attributes\":{\"axis_label\":\"pressure [mb]\",\"formatter\":{\"id\":\"9c387d06-152e-49bb-823e-5acadbd39bad\",\"type\":\"LogTickFormatter\"},\"plot\":{\"id\":\"19ad80c7-8bbb-4b2e-a98f-a2dae34d429a\",\"subtype\":\"Figure\",\"type\":\"Plot\"},\"ticker\":{\"id\":\"b655290c-8343-4cd8-8c02-5a02caa20ffa\",\"type\":\"LogTicker\"}},\"id\":\"2405362e-4291-40c4-b2a3-3e31b5472de0\",\"type\":\"LogAxis\"},{\"attributes\":{\"bottom_units\":\"screen\",\"fill_alpha\":{\"value\":0.5},\"fill_color\":{\"value\":\"lightgrey\"},\"left_units\":\"screen\",\"level\":\"overlay\",\"line_alpha\":{\"value\":1.0},\"line_color\":{\"value\":\"black\"},\"line_dash\":[4,4],\"line_width\":{\"value\":2},\"plot\":null,\"render_mode\":\"css\",\"right_units\":\"screen\",\"top_units\":\"screen\"},\"id\":\"c4476da8-0049-4029-86e2-4c3ebb86cdac\",\"type\":\"BoxAnnotation\"},{\"attributes\":{\"dimension\":1,\"plot\":{\"id\":\"19ad80c7-8bbb-4b2e-a98f-a2dae34d429a\",\"subtype\":\"Figure\",\"type\":\"Plot\"},\"ticker\":{\"id\":\"b655290c-8343-4cd8-8c02-5a02caa20ffa\",\"type\":\"LogTicker\"}},\"id\":\"4fd2e721-4dd5-442c-8303-93f93c254e4d\",\"type\":\"Grid\"},{\"attributes\":{\"callback\":null,\"data\":{\"x\":{\"__ndarray__\":\"Fia9L5EH+j6F5oWRhpbqPmKqpTieHxQ/biI+ZTGAGz/MdixEaZYhP58ndln5kSU/bWuL/iGfKT/VQGUEme8tP6uUBkLUKDE/+GAIZJt2Mz/0suW/ntk1P6MUny44UDg/AuexcjbbOj/UFWufzPA9Py3u74R8k0U/Y6PI61wwUz/KQpXN5VVgP+nMCnz2uWk/3jZoc0lKcz8dqbNc8/h7P6ZgPZEP0YM/FiJPrgPJij9XFFb6bpKNP4QUDk1xBos/Ius+OlTXhj+fBIqdT/KBP13bRVuIY3s/M0Y0EWCXdD++bnrXZV9uP75k8jVjy2U/3OU2NDkCXj9nOh8NDEFTPxpZs12VaUU/jUZrY5KRLT+lIVhYKfUqv9KODj6of0K/5KdihvghSL/zh+DZxp5Iv22rA2fDdkS/TYUAfF25O7/ZN0tq2RoVv+fkYIIEBU4/mHZGaL9GZj+aK2M4oGJ2P0BN5oVf3YU/DFp9sri4kT+PaFGLACiYP4j81RH3wJ8/ZYFJBo1UpD9ltd8r0ZGpP6I86QBlrK4/oN1Zb1/9sT86WqCgviy1P19QZWx2Ebk/65wTOUxNvT+sp9qXAaHAPxmoUtQVQ8I/pacCzWuVwz82thEuaMrEP6NtodBXNcY/ETeGhBj9xz/IeLVYYeXJP4kmkuD0S8s/E8vzAf0VzT8PKaMdeZjMP+QkeyFw5so/x8NSj/oMyT8myc42kt/GP2rnyW+wu8U/2p5qPviaxT8oTLWiDw7GPxYxT1vh5cY/8QbihilbyD/ZtzBeNcfKP1AYtXcdXNI/\",\"dtype\":\"float64\",\"shape\":[75]},\"y\":{\"__ndarray__\":\"S/O/Q+51ND/Sv8nbtpRIP2vylNV0PVE/aTum7souWD/At0SJ8fVgPw3Iuahxymc/MSNhhJWvcD/bTfBN02d3P2zb5nxnaoA/CD5h5MAGhz8NmeH1TyaQP+zrCsc9p5Y/LbKd76fGnz/bLW5ISEmmPww9YvTcQq8/JV2OstnstT8Er5Y7M8G+P0c+r3jqkcU/5h99k6ZBzj88bCIzFzjVP4enV8oyxN0//yH99nXg5D8qOpLLf0jtP5kqGJXUifQ/c9cS8kHP/D+/DpwzojQEQIEmwoanVwxA4lgXt9HgE0BSSZ2AJuIbQAMJih9jjiNA5q4l5INuK0AwTKYKRj0zQNv5fmq8/DpAaCJseHrtQkB/+zpwzoxKQM3MzMzMeFJAZmZmZmZqWEAAAAAAAFxeQM3MzMzMJmJAmpmZmZkfZUBmZmZmZhhoQDMzMzMzEWtAAAAAAAAKbkBmZmZmZoFwQM3MzMzM/XFAMzMzMzN6c0CamZmZmfZ0QAAAAAAAc3ZAZmZmZmbvd0DNzMzMzGt5QDMzMzMz6HpAmpmZmZlkfEAAAAAAAOF9QGZmZmZmXX9AZmZmZuZsgECamZmZGSuBQM3MzMxM6YFAAAAAAICngkAzMzMzs2WDQGZmZmbmI4RAmpmZmRnihEDNzMzMTKCFQAAAAACAXoZAMzMzM7Mch0BmZmZm5tqHQJqZmZkZmYhAzczMzExXiUAAAAAAgBWKQDMzMzOz04pAZmZmZuaRi0CamZmZGVCMQM3MzMxMDo1AAAAAAIDMjUAzMzMzs4qOQGZmZmbmSI9A\",\"dtype\":\"float64\",\"shape\":[75]}},\"selected\":{\"id\":\"7a447d40-4bcc-4b84-9d37-78cc0e2c93a9\",\"type\":\"Selection\"},\"selection_policy\":{\"id\":\"4d7cd717-d99e-4b60-8de7-463ba6ea2ed0\",\"type\":\"UnionRenderers\"}},\"id\":\"530fa90a-9806-4171-a3ad-ce469f9e1892\",\"type\":\"ColumnDataSource\"},{\"attributes\":{\"line_alpha\":0.1,\"line_color\":\"#1f77b4\",\"line_width\":1.5,\"x\":{\"field\":\"x\"},\"y\":{\"field\":\"y\"}},\"id\":\"e9b04d99-5636-4170-8e4f-f4073d7181b1\",\"type\":\"Line\"},{\"attributes\":{\"line_alpha\":0.1,\"line_color\":\"#1f77b4\",\"line_width\":3,\"x\":{\"field\":\"x\"},\"y\":{\"field\":\"y\"}},\"id\":\"2b8863ba-c302-48b7-bd85-1ea64c0b2cb1\",\"type\":\"Line\"},{\"attributes\":{\"children\":[{\"id\":\"0cf52eb0-6494-485b-90a0-f4eec3d62b1e\",\"type\":\"Row\"}]},\"id\":\"0f0a6169-9f60-4d02-a693-bdb6b187665d\",\"type\":\"Column\"},{\"attributes\":{\"source\":{\"id\":\"778db8fc-7ada-42dc-be9f-b5ebbc2a2405\",\"type\":\"ColumnDataSource\"}},\"id\":\"b806abd0-6872-4e08-bd38-bce3517b8750\",\"type\":\"CDSView\"},{\"attributes\":{\"source\":{\"id\":\"888b26ce-53e0-452d-9683-e895e4060870\",\"type\":\"ColumnDataSource\"}},\"id\":\"0374e175-ab0e-47cc-8329-8381815d8d8d\",\"type\":\"CDSView\"},{\"attributes\":{\"line_alpha\":0.6,\"line_color\":\"#984ea3\",\"line_width\":3,\"x\":{\"field\":\"x\"},\"y\":{\"field\":\"y\"}},\"id\":\"ddb46e31-86c2-4696-b9be-9951ba4e70a5\",\"type\":\"Line\"},{\"attributes\":{\"data_source\":{\"id\":\"888b26ce-53e0-452d-9683-e895e4060870\",\"type\":\"ColumnDataSource\"},\"glyph\":{\"id\":\"ddb46e31-86c2-4696-b9be-9951ba4e70a5\",\"type\":\"Line\"},\"hover_glyph\":null,\"muted_glyph\":null,\"nonselection_glyph\":{\"id\":\"2b8863ba-c302-48b7-bd85-1ea64c0b2cb1\",\"type\":\"Line\"},\"selection_glyph\":null,\"view\":{\"id\":\"0374e175-ab0e-47cc-8329-8381815d8d8d\",\"type\":\"CDSView\"}},\"id\":\"244546fe-1250-48bc-904b-0383ad842592\",\"type\":\"GlyphRenderer\"},{\"attributes\":{\"data_source\":{\"id\":\"778db8fc-7ada-42dc-be9f-b5ebbc2a2405\",\"type\":\"ColumnDataSource\"},\"glyph\":{\"id\":\"d93b9e67-01d5-45d7-b931-df886e5e8728\",\"type\":\"Circle\"},\"hover_glyph\":null,\"muted_glyph\":null,\"nonselection_glyph\":{\"id\":\"2dd19062-9303-49f8-a355-14dfaed4fe97\",\"type\":\"Circle\"},\"selection_glyph\":null,\"view\":{\"id\":\"b806abd0-6872-4e08-bd38-bce3517b8750\",\"type\":\"CDSView\"}},\"id\":\"60b3f886-0be9-4516-91de-1404c3181044\",\"type\":\"GlyphRenderer\"},{\"attributes\":{\"fill_alpha\":{\"value\":0.1},\"fill_color\":{\"value\":\"#1f77b4\"},\"line_alpha\":{\"value\":0.1},\"line_color\":{\"value\":\"#1f77b4\"},\"x\":{\"field\":\"x\"},\"y\":{\"field\":\"y\"}},\"id\":\"2dd19062-9303-49f8-a355-14dfaed4fe97\",\"type\":\"Circle\"},{\"attributes\":{\"callback\":null,\"data\":{\"x\":{\"__ndarray__\":\"uDTIeGIVDL+cprMZkYwFv22HQYlkjO++2tF8XT8x6j75daohUJcFP0hi53CnoBI/xDWL5DrHGj/o1KPHe6EhP7ok/fesCiY/WrNM47agKj8GSLhBY30vPx2WU/TISTI/2Mu6pdzeND9oxU0/H1I4P4XGRAPy30I/boOcI8njUT+3//Cq+p9fP0ARJx41gGk/xYwTv9pncz8QC8T2mnR8P4M3groKUoQ/JajqKMeIiz+xjQNhal+OPz6i/kX2rIs/Kn1vzxFKhz9puTiV4CyCP7GHLieghHs/9WGX71d+dD9jpoozIOZtP/ywRowmHmU/kqWPaRKZXD/6RaODiPBRP4BJL7BcMEM/nELzX1nYJj/7FhgYZIcvv2RAyGiEBkO/joT/XBxWSL/VdL2os6tIv6TEyedGcES/u49+/qmRO78hw7Xwi4wTvwyUcDD2ElA/udWTh44Eaj9QV/7pVot6P4GHjErMg4c/a/lezuR4kj/1/8rcScmZP7xAiG0+6aA/zpqpogYFpT9tWVjhiCGqPxAEHvfija8/VG1+MXWesj+SnEU+dby1P7qjqpheL7k/ny/f4QbkvD+NaOEq/0PAPwY+W9f27cE/bPToPs1owz8yWp5zNsfEP1Kb/XbINsY/RXFJBTLVxz96p/AKvnXJPweHo+YYnMo/y2SKaaAszD9UO+/s3LfLPzZ46fpPUco/0UWzXAjGyD+HYO31ttTGP/8EEoVswMU/tH/RKW1qxT/SoUWXvJLFP2/M++h1KcY/wRBMgk1Lxz9sR8NtI3fJPwTiuwyWr9E/\",\"dtype\":\"float64\",\"shape\":[75]},\"y\":{\"__ndarray__\":\"GhExyth1ND/Sv8nbtpRIP2vylNV0PVE/aTum7souWD/At0SJ8fVgPw3Iuahxymc/MSNhhJWvcD/bTfBN02d3P2zb5nxnaoA/CD5h5MAGhz8NmeH1TyaQP+zrCsc9p5Y/LbKd76fGnz/bLW5ISEmmPww9YvTcQq8/JV2OstnstT8Er5Y7M8G+P0c+r3jqkcU/5h99k6ZBzj88bCIzFzjVP4enV8oyxN0//yH99nXg5D8qOpLLf0jtP5kqGJXUifQ/c9cS8kHP/D+/DpwzojQEQIEmwoanVwxA4lgXt9HgE0BSSZ2AJuIbQAMJih9jjiNA5q4l5INuK0AwTKYKRj0zQNv5fmq8/DpAaCJseHrtQkB/+zpwzoxKQM3MzMzMeFJAZmZmZmZqWEAAAAAAAFxeQM3MzMzMJmJAmpmZmZkfZUBmZmZmZhhoQDMzMzMzEWtAAAAAAAAKbkBmZmZmZoFwQM3MzMzM/XFAMzMzMzN6c0CamZmZmfZ0QAAAAAAAc3ZAZmZmZmbvd0DNzMzMzGt5QDMzMzMz6HpAmpmZmZlkfEAAAAAAAOF9QGZmZmZmXX9AZmZmZuZsgECamZmZGSuBQM3MzMxM6YFAAAAAAICngkAzMzMzs2WDQGZmZmbmI4RAmpmZmRnihEDNzMzMTKCFQAAAAACAXoZAMzMzM7Mch0BmZmZm5tqHQJqZmZkZmYhAzczMzExXiUAAAAAAgBWKQDMzMzOz04pAZmZmZuaRi0CamZmZGVCMQM3MzMxMDo1AAAAAAIDMjUAzMzMzs4qOQGZmZmbmSI9A\",\"dtype\":\"float64\",\"shape\":[75]}},\"selected\":{\"id\":\"5d9257e1-77bb-4c06-bc5d-35a18cc3f01b\",\"type\":\"Selection\"},\"selection_policy\":{\"id\":\"f460bedc-f896-4a8e-be83-0238a0ac575b\",\"type\":\"UnionRenderers\"}},\"id\":\"888b26ce-53e0-452d-9683-e895e4060870\",\"type\":\"ColumnDataSource\"},{\"attributes\":{\"source\":{\"id\":\"f80dc4fa-83b3-4c90-84a3-beda75156e12\",\"type\":\"ColumnDataSource\"}},\"id\":\"7254ecda-1f50-4fdf-a9a2-db94544e06c0\",\"type\":\"CDSView\"},{\"attributes\":{},\"id\":\"3b45166b-ed47-4bac-b6a3-36e7b0ad188c\",\"type\":\"PanTool\"},{\"attributes\":{\"fill_alpha\":{\"value\":0.1},\"fill_color\":{\"value\":\"#1f77b4\"},\"line_alpha\":{\"value\":0.1},\"line_color\":{\"value\":\"#1f77b4\"},\"x\":{\"field\":\"x\"},\"y\":{\"field\":\"y\"}},\"id\":\"2928c199-dbcd-4200-9bc9-8dba7ec6e987\",\"type\":\"Square\"},{\"attributes\":{\"axis_label\":\"cooling rate [K/day]\",\"formatter\":{\"id\":\"260c1961-45e6-48bd-8cf5-fd6a904543b3\",\"type\":\"BasicTickFormatter\"},\"plot\":{\"id\":\"19ad80c7-8bbb-4b2e-a98f-a2dae34d429a\",\"subtype\":\"Figure\",\"type\":\"Plot\"},\"ticker\":{\"id\":\"9e8f1a66-5c7f-485c-9f53-1e6a47a3d4cf\",\"type\":\"BasicTicker\"}},\"id\":\"589aaeb9-0286-406e-8df5-56da02e3c5d9\",\"type\":\"LinearAxis\"},{\"attributes\":{},\"id\":\"039b723f-ec0e-4c8e-9add-11bbff00aba2\",\"type\":\"ResetTool\"},{\"attributes\":{\"line_color\":\"#4daf4a\",\"line_width\":1.5,\"x\":{\"field\":\"x\"},\"y\":{\"field\":\"y\"}},\"id\":\"29d1c7f6-2ee4-44ac-a0d1-fdde391414b1\",\"type\":\"Line\"},{\"attributes\":{},\"id\":\"a49e7bcc-5e28-465f-b550-e7cb919ba671\",\"type\":\"WheelZoomTool\"},{\"attributes\":{\"line_alpha\":0.1,\"line_color\":\"#1f77b4\",\"line_dash\":[6],\"line_width\":5,\"x\":{\"field\":\"x\"},\"y\":{\"field\":\"y\"}},\"id\":\"bd3eda5d-07e2-47b4-a7e1-e4058b90cc79\",\"type\":\"Line\"},{\"attributes\":{\"plot\":null,\"text\":\"Log pressure scale\"},\"id\":\"06a68f94-08d8-49e0-8afa-57c9509f91bc\",\"type\":\"Title\"},{\"attributes\":{\"callback\":null,\"data\":{\"x\":{\"__ndarray__\":\"Fia9L5EH+j6F5oWRhpbqPmKqpTieHxQ/biI+ZTGAGz/MdixEaZYhP58ndln5kSU/bWuL/iGfKT/VQGUEme8tP6uUBkLUKDE/+GAIZJt2Mz/0suW/ntk1P6MUny44UDg/AuexcjbbOj/UFWufzPA9Py3u74R8k0U/Y6PI61wwUz/KQpXN5VVgP+nMCnz2uWk/3jZoc0lKcz8dqbNc8/h7P6ZgPZEP0YM/FiJPrgPJij9XFFb6bpKNP4QUDk1xBos/Ius+OlTXhj+fBIqdT/KBP13bRVuIY3s/M0Y0EWCXdD++bnrXZV9uP75k8jVjy2U/3OU2NDkCXj9nOh8NDEFTPxpZs12VaUU/jUZrY5KRLT+lIVhYKfUqv9KODj6of0K/5KdihvghSL/zh+DZxp5Iv22rA2fDdkS/TYUAfF25O7/ZN0tq2RoVv+fkYIIEBU4/mHZGaL9GZj+aK2M4oGJ2P0BN5oVf3YU/DFp9sri4kT+PaFGLACiYP4j81RH3wJ8/ZYFJBo1UpD9ltd8r0ZGpP6I86QBlrK4/oN1Zb1/9sT86WqCgviy1P19QZWx2Ebk/65wTOUxNvT+sp9qXAaHAPxmoUtQVQ8I/pacCzWuVwz82thEuaMrEP6NtodBXNcY/ETeGhBj9xz/IeLVYYeXJP4kmkuD0S8s/E8vzAf0VzT8PKaMdeZjMP+QkeyFw5so/x8NSj/oMyT8myc42kt/GP2rnyW+wu8U/2p5qPviaxT8oTLWiDw7GPxYxT1vh5cY/8QbihilbyD/ZtzBeNcfKP1AYtXcdXNI/\",\"dtype\":\"float64\",\"shape\":[75]},\"y\":{\"__ndarray__\":\"S/O/Q+51ND/Sv8nbtpRIP2vylNV0PVE/aTum7souWD/At0SJ8fVgPw3Iuahxymc/MSNhhJWvcD/bTfBN02d3P2zb5nxnaoA/CD5h5MAGhz8NmeH1TyaQP+zrCsc9p5Y/LbKd76fGnz/bLW5ISEmmPww9YvTcQq8/JV2OstnstT8Er5Y7M8G+P0c+r3jqkcU/5h99k6ZBzj88bCIzFzjVP4enV8oyxN0//yH99nXg5D8qOpLLf0jtP5kqGJXUifQ/c9cS8kHP/D+/DpwzojQEQIEmwoanVwxA4lgXt9HgE0BSSZ2AJuIbQAMJih9jjiNA5q4l5INuK0AwTKYKRj0zQNv5fmq8/DpAaCJseHrtQkB/+zpwzoxKQM3MzMzMeFJAZmZmZmZqWEAAAAAAAFxeQM3MzMzMJmJAmpmZmZkfZUBmZmZmZhhoQDMzMzMzEWtAAAAAAAAKbkBmZmZmZoFwQM3MzMzM/XFAMzMzMzN6c0CamZmZmfZ0QAAAAAAAc3ZAZmZmZmbvd0DNzMzMzGt5QDMzMzMz6HpAmpmZmZlkfEAAAAAAAOF9QGZmZmZmXX9AZmZmZuZsgECamZmZGSuBQM3MzMxM6YFAAAAAAICngkAzMzMzs2WDQGZmZmbmI4RAmpmZmRnihEDNzMzMTKCFQAAAAACAXoZAMzMzM7Mch0BmZmZm5tqHQJqZmZkZmYhAzczMzExXiUAAAAAAgBWKQDMzMzOz04pAZmZmZuaRi0CamZmZGVCMQM3MzMxMDo1AAAAAAIDMjUAzMzMzs4qOQGZmZmbmSI9A\",\"dtype\":\"float64\",\"shape\":[75]}},\"selected\":{\"id\":\"10ac188d-6a8d-4224-bdcf-d48e7c15d90e\",\"type\":\"Selection\"},\"selection_policy\":{\"id\":\"0aad2121-cf2e-48e1-a2c6-d95d3acdb3a9\",\"type\":\"UnionRenderers\"}},\"id\":\"c1ed112b-539c-4061-87bd-674a0e984bde\",\"type\":\"ColumnDataSource\"},{\"attributes\":{},\"id\":\"9e8f1a66-5c7f-485c-9f53-1e6a47a3d4cf\",\"type\":\"BasicTicker\"},{\"attributes\":{\"overlay\":{\"id\":\"c4476da8-0049-4029-86e2-4c3ebb86cdac\",\"type\":\"BoxAnnotation\"}},\"id\":\"7cdeecd6-7ea9-4121-ad8a-5e8becbd0b47\",\"type\":\"BoxZoomTool\"},{\"attributes\":{\"line_alpha\":0.6,\"line_color\":\"#984ea3\",\"line_width\":3,\"x\":{\"field\":\"x\"},\"y\":{\"field\":\"y\"}},\"id\":\"a73dd805-fa24-4083-a700-bb5708f7172b\",\"type\":\"Line\"},{\"attributes\":{\"active_drag\":\"auto\",\"active_inspect\":\"auto\",\"active_scroll\":\"auto\",\"active_tap\":\"auto\",\"tools\":[{\"id\":\"3b45166b-ed47-4bac-b6a3-36e7b0ad188c\",\"type\":\"PanTool\"},{\"id\":\"a49e7bcc-5e28-465f-b550-e7cb919ba671\",\"type\":\"WheelZoomTool\"},{\"id\":\"7cdeecd6-7ea9-4121-ad8a-5e8becbd0b47\",\"type\":\"BoxZoomTool\"},{\"id\":\"056a4996-cc88-40a7-a8de-b73289b1101e\",\"type\":\"SaveTool\"},{\"id\":\"039b723f-ec0e-4c8e-9add-11bbff00aba2\",\"type\":\"ResetTool\"},{\"id\":\"3a0e52ce-49a6-4009-9c1d-2c0b56e4051d\",\"type\":\"HelpTool\"}]},\"id\":\"fb6b0930-ae22-4254-911a-d762639887ed\",\"type\":\"Toolbar\"},{\"attributes\":{\"source\":{\"id\":\"90fb241a-dd09-4dcf-954f-b8ab082b41c4\",\"type\":\"ColumnDataSource\"}},\"id\":\"3f12e800-4fb6-4ebe-ac5e-59252f5e3344\",\"type\":\"CDSView\"},{\"attributes\":{\"callback\":null,\"data\":{\"x\":{\"__ndarray__\":\"uDTIeGIVDL+cprMZkYwFv22HQYlkjO++2tF8XT8x6j75daohUJcFP0hi53CnoBI/xDWL5DrHGj/o1KPHe6EhP7ok/fesCiY/WrNM47agKj8GSLhBY30vPx2WU/TISTI/2Mu6pdzeND9oxU0/H1I4P4XGRAPy30I/boOcI8njUT+3//Cq+p9fP0ARJx41gGk/xYwTv9pncz8QC8T2mnR8P4M3groKUoQ/JajqKMeIiz+xjQNhal+OPz6i/kX2rIs/Kn1vzxFKhz9puTiV4CyCP7GHLieghHs/9WGX71d+dD9jpoozIOZtP/ywRowmHmU/kqWPaRKZXD/6RaODiPBRP4BJL7BcMEM/nELzX1nYJj/7FhgYZIcvv2RAyGiEBkO/joT/XBxWSL/VdL2os6tIv6TEyedGcES/u49+/qmRO78hw7Xwi4wTvwyUcDD2ElA/udWTh44Eaj9QV/7pVot6P4GHjErMg4c/a/lezuR4kj/1/8rcScmZP7xAiG0+6aA/zpqpogYFpT9tWVjhiCGqPxAEHvfija8/VG1+MXWesj+SnEU+dby1P7qjqpheL7k/ny/f4QbkvD+NaOEq/0PAPwY+W9f27cE/bPToPs1owz8yWp5zNsfEP1Kb/XbINsY/RXFJBTLVxz96p/AKvnXJPweHo+YYnMo/y2SKaaAszD9UO+/s3LfLPzZ46fpPUco/0UWzXAjGyD+HYO31ttTGP/8EEoVswMU/tH/RKW1qxT/SoUWXvJLFP2/M++h1KcY/wRBMgk1Lxz9sR8NtI3fJPwTiuwyWr9E/\",\"dtype\":\"float64\",\"shape\":[75]},\"y\":{\"__ndarray__\":\"GhExyth1ND/Sv8nbtpRIP2vylNV0PVE/aTum7souWD/At0SJ8fVgPw3Iuahxymc/MSNhhJWvcD/bTfBN02d3P2zb5nxnaoA/CD5h5MAGhz8NmeH1TyaQP+zrCsc9p5Y/LbKd76fGnz/bLW5ISEmmPww9YvTcQq8/JV2OstnstT8Er5Y7M8G+P0c+r3jqkcU/5h99k6ZBzj88bCIzFzjVP4enV8oyxN0//yH99nXg5D8qOpLLf0jtP5kqGJXUifQ/c9cS8kHP/D+/DpwzojQEQIEmwoanVwxA4lgXt9HgE0BSSZ2AJuIbQAMJih9jjiNA5q4l5INuK0AwTKYKRj0zQNv5fmq8/DpAaCJseHrtQkB/+zpwzoxKQM3MzMzMeFJAZmZmZmZqWEAAAAAAAFxeQM3MzMzMJmJAmpmZmZkfZUBmZmZmZhhoQDMzMzMzEWtAAAAAAAAKbkBmZmZmZoFwQM3MzMzM/XFAMzMzMzN6c0CamZmZmfZ0QAAAAAAAc3ZAZmZmZmbvd0DNzMzMzGt5QDMzMzMz6HpAmpmZmZlkfEAAAAAAAOF9QGZmZmZmXX9AZmZmZuZsgECamZmZGSuBQM3MzMxM6YFAAAAAAICngkAzMzMzs2WDQGZmZmbmI4RAmpmZmRnihEDNzMzMTKCFQAAAAACAXoZAMzMzM7Mch0BmZmZm5tqHQJqZmZkZmYhAzczMzExXiUAAAAAAgBWKQDMzMzOz04pAZmZmZuaRi0CamZmZGVCMQM3MzMxMDo1AAAAAAIDMjUAzMzMzs4qOQGZmZmbmSI9A\",\"dtype\":\"float64\",\"shape\":[75]}},\"selected\":{\"id\":\"fac91ffc-022a-4ce4-8731-14526211c46e\",\"type\":\"Selection\"},\"selection_policy\":{\"id\":\"558f6e4c-227f-499f-bd9e-18b27ac22131\",\"type\":\"UnionRenderers\"}},\"id\":\"e236a7f3-eec1-4956-88d7-58ef922ff197\",\"type\":\"ColumnDataSource\"},{\"attributes\":{\"data_source\":{\"id\":\"e236a7f3-eec1-4956-88d7-58ef922ff197\",\"type\":\"ColumnDataSource\"},\"glyph\":{\"id\":\"a73dd805-fa24-4083-a700-bb5708f7172b\",\"type\":\"Line\"},\"hover_glyph\":null,\"muted_glyph\":null,\"nonselection_glyph\":{\"id\":\"0310a250-0837-4a33-82fb-49f84881a646\",\"type\":\"Line\"},\"selection_glyph\":null,\"view\":{\"id\":\"32c287b2-0a62-4063-8112-7f169051e7a4\",\"type\":\"CDSView\"}},\"id\":\"c57ad82e-8815-43f3-8dbc-a30bcbcbef8f\",\"type\":\"GlyphRenderer\"},{\"attributes\":{\"callback\":null,\"data\":{\"x\":{\"__ndarray__\":\"uDTIeGIVDL+cprMZkYwFv22HQYlkjO++2tF8XT8x6j75daohUJcFP0hi53CnoBI/xDWL5DrHGj/o1KPHe6EhP7ok/fesCiY/WrNM47agKj8GSLhBY30vPx2WU/TISTI/2Mu6pdzeND9oxU0/H1I4P4XGRAPy30I/boOcI8njUT+3//Cq+p9fP0ARJx41gGk/xYwTv9pncz8QC8T2mnR8P4M3groKUoQ/JajqKMeIiz+xjQNhal+OPz6i/kX2rIs/Kn1vzxFKhz9puTiV4CyCP7GHLieghHs/9WGX71d+dD9jpoozIOZtP/ywRowmHmU/kqWPaRKZXD/6RaODiPBRP4BJL7BcMEM/nELzX1nYJj/7FhgYZIcvv2RAyGiEBkO/joT/XBxWSL/VdL2os6tIv6TEyedGcES/u49+/qmRO78hw7Xwi4wTvwyUcDD2ElA/udWTh44Eaj9QV/7pVot6P4GHjErMg4c/a/lezuR4kj/1/8rcScmZP7xAiG0+6aA/zpqpogYFpT9tWVjhiCGqPxAEHvfija8/VG1+MXWesj+SnEU+dby1P7qjqpheL7k/ny/f4QbkvD+NaOEq/0PAPwY+W9f27cE/bPToPs1owz8yWp5zNsfEP1Kb/XbINsY/RXFJBTLVxz96p/AKvnXJPweHo+YYnMo/y2SKaaAszD9UO+/s3LfLPzZ46fpPUco/0UWzXAjGyD+HYO31ttTGP/8EEoVswMU/tH/RKW1qxT/SoUWXvJLFP2/M++h1KcY/wRBMgk1Lxz9sR8NtI3fJPwTiuwyWr9E/\",\"dtype\":\"float64\",\"shape\":[75]},\"y\":{\"__ndarray__\":\"GhExyth1ND/Sv8nbtpRIP2vylNV0PVE/aTum7souWD/At0SJ8fVgPw3Iuahxymc/MSNhhJWvcD/bTfBN02d3P2zb5nxnaoA/CD5h5MAGhz8NmeH1TyaQP+zrCsc9p5Y/LbKd76fGnz/bLW5ISEmmPww9YvTcQq8/JV2OstnstT8Er5Y7M8G+P0c+r3jqkcU/5h99k6ZBzj88bCIzFzjVP4enV8oyxN0//yH99nXg5D8qOpLLf0jtP5kqGJXUifQ/c9cS8kHP/D+/DpwzojQEQIEmwoanVwxA4lgXt9HgE0BSSZ2AJuIbQAMJih9jjiNA5q4l5INuK0AwTKYKRj0zQNv5fmq8/DpAaCJseHrtQkB/+zpwzoxKQM3MzMzMeFJAZmZmZmZqWEAAAAAAAFxeQM3MzMzMJmJAmpmZmZkfZUBmZmZmZhhoQDMzMzMzEWtAAAAAAAAKbkBmZmZmZoFwQM3MzMzM/XFAMzMzMzN6c0CamZmZmfZ0QAAAAAAAc3ZAZmZmZmbvd0DNzMzMzGt5QDMzMzMz6HpAmpmZmZlkfEAAAAAAAOF9QGZmZmZmXX9AZmZmZuZsgECamZmZGSuBQM3MzMxM6YFAAAAAAICngkAzMzMzs2WDQGZmZmbmI4RAmpmZmRnihEDNzMzMTKCFQAAAAACAXoZAMzMzM7Mch0BmZmZm5tqHQJqZmZkZmYhAzczMzExXiUAAAAAAgBWKQDMzMzOz04pAZmZmZuaRi0CamZmZGVCMQM3MzMxMDo1AAAAAAIDMjUAzMzMzs4qOQGZmZmbmSI9A\",\"dtype\":\"float64\",\"shape\":[75]}},\"selected\":{\"id\":\"0afa522c-4f52-40d6-a65d-42f0f2f1004f\",\"type\":\"Selection\"},\"selection_policy\":{\"id\":\"77932b96-4a74-4ba3-80f9-a380c428ada6\",\"type\":\"UnionRenderers\"}},\"id\":\"f80dc4fa-83b3-4c90-84a3-beda75156e12\",\"type\":\"ColumnDataSource\"},{\"attributes\":{\"line_alpha\":0.6,\"line_color\":\"#e41a1c\",\"line_dash\":[6],\"line_width\":5,\"x\":{\"field\":\"x\"},\"y\":{\"field\":\"y\"}},\"id\":\"7abdaf3f-f3fe-4984-b126-726d85bb0ea9\",\"type\":\"Line\"},{\"attributes\":{\"line_alpha\":0.1,\"line_color\":\"#1f77b4\",\"line_dash\":[6],\"line_width\":5,\"x\":{\"field\":\"x\"},\"y\":{\"field\":\"y\"}},\"id\":\"2b54eb38-70ed-45f1-8cc5-16f70a14d0d9\",\"type\":\"Line\"},{\"attributes\":{\"data_source\":{\"id\":\"f80dc4fa-83b3-4c90-84a3-beda75156e12\",\"type\":\"ColumnDataSource\"},\"glyph\":{\"id\":\"d000c1c9-10bc-4943-9aca-c190cce40885\",\"type\":\"Square\"},\"hover_glyph\":null,\"muted_glyph\":null,\"nonselection_glyph\":{\"id\":\"2928c199-dbcd-4200-9bc9-8dba7ec6e987\",\"type\":\"Square\"},\"selection_glyph\":null,\"view\":{\"id\":\"7254ecda-1f50-4fdf-a9a2-db94544e06c0\",\"type\":\"CDSView\"}},\"id\":\"bf147529-3a0e-4de7-abbd-6acf03fceb10\",\"type\":\"GlyphRenderer\"},{\"attributes\":{\"fill_alpha\":{\"value\":0.7},\"fill_color\":{\"value\":\"#984ea3\"},\"line_alpha\":{\"value\":0.7},\"line_color\":{\"value\":\"#984ea3\"},\"x\":{\"field\":\"x\"},\"y\":{\"field\":\"y\"}},\"id\":\"d000c1c9-10bc-4943-9aca-c190cce40885\",\"type\":\"Square\"},{\"attributes\":{\"plot\":{\"id\":\"19ad80c7-8bbb-4b2e-a98f-a2dae34d429a\",\"subtype\":\"Figure\",\"type\":\"Plot\"},\"ticker\":{\"id\":\"9e8f1a66-5c7f-485c-9f53-1e6a47a3d4cf\",\"type\":\"BasicTicker\"}},\"id\":\"b59b53cd-69a7-447f-9e18-7d4b31bcf958\",\"type\":\"Grid\"}],\"root_ids\":[\"0b6573e8-f49f-4548-9394-0d3d9ec31624\"]},\"title\":\"Bokeh Application\",\"version\":\"0.12.16\"}};\n",
       "  var render_items = [{\"docid\":\"a708968a-1a6c-4b2b-90f5-258f4c9107e0\",\"elementid\":\"bd9f6924-4d3c-463e-8407-1b7cb938ce35\",\"modelid\":\"0b6573e8-f49f-4548-9394-0d3d9ec31624\"}];\n",
       "  root.Bokeh.embed.embed_items_notebook(docs_json, render_items);\n",
       "\n",
       "  }\n",
       "  if (root.Bokeh !== undefined) {\n",
       "    embed_document(root);\n",
       "  } else {\n",
       "    var attempts = 0;\n",
       "    var timer = setInterval(function(root) {\n",
       "      if (root.Bokeh !== undefined) {\n",
       "        embed_document(root);\n",
       "        clearInterval(timer);\n",
       "      }\n",
       "      attempts++;\n",
       "      if (attempts > 100) {\n",
       "        console.log(\"Bokeh: ERROR: Unable to run BokehJS code because BokehJS library is missing\")\n",
       "        clearInterval(timer);\n",
       "      }\n",
       "    }, 10, root)\n",
       "  }\n",
       "})(window);"
      ],
      "application/vnd.bokehjs_exec.v0+json": ""
     },
     "metadata": {
      "application/vnd.bokehjs_exec.v0+json": {
       "id": "0b6573e8-f49f-4548-9394-0d3d9ec31624"
      }
     },
     "output_type": "display_data"
    },
    {
     "name": "stdout",
     "output_type": "stream",
     "text": [
      "FIGURE. Cooling rate profiles.\n"
     ]
    },
    {
     "data": {
      "text/html": [
       "<a id=\"Flux_Comparison\"></a>"
      ],
      "text/plain": [
       "<IPython.core.display.HTML object>"
      ]
     },
     "metadata": {},
     "output_type": "display_data"
    },
    {
     "data": {
      "text/markdown": [
       "# Flux Comparison"
      ],
      "text/plain": [
       "<IPython.core.display.Markdown object>"
      ]
     },
     "metadata": {},
     "output_type": "display_data"
    },
    {
     "data": {
      "text/html": [
       "<div>\n",
       "<style scoped>\n",
       "    .dataframe tbody tr th:only-of-type {\n",
       "        vertical-align: middle;\n",
       "    }\n",
       "\n",
       "    .dataframe tbody tr th {\n",
       "        vertical-align: top;\n",
       "    }\n",
       "\n",
       "    .dataframe thead th {\n",
       "        text-align: right;\n",
       "    }\n",
       "</style>\n",
       "<table border=\"1\" class=\"dataframe\">\n",
       "  <thead>\n",
       "    <tr style=\"text-align: right;\">\n",
       "      <th></th>\n",
       "      <th></th>\n",
       "      <th>flug</th>\n",
       "      <th>fldg</th>\n",
       "      <th>fnetg</th>\n",
       "    </tr>\n",
       "    <tr>\n",
       "      <th>pressure</th>\n",
       "      <th>level</th>\n",
       "      <th></th>\n",
       "      <th></th>\n",
       "      <th></th>\n",
       "    </tr>\n",
       "  </thead>\n",
       "  <tbody>\n",
       "    <tr>\n",
       "      <th>0.0000</th>\n",
       "      <th>1</th>\n",
       "      <td>-16.985901</td>\n",
       "      <td>0.000000</td>\n",
       "      <td>-16.985901</td>\n",
       "    </tr>\n",
       "    <tr>\n",
       "      <th>1.0685</th>\n",
       "      <th>24</th>\n",
       "      <td>-16.985545</td>\n",
       "      <td>0.001261</td>\n",
       "      <td>-16.984284</td>\n",
       "    </tr>\n",
       "    <tr>\n",
       "      <th>1013.0000</th>\n",
       "      <th>76</th>\n",
       "      <td>-26.962746</td>\n",
       "      <td>21.994683</td>\n",
       "      <td>-4.968063</td>\n",
       "    </tr>\n",
       "  </tbody>\n",
       "</table>\n",
       "</div>"
      ],
      "text/plain": [
       "                      flug       fldg      fnetg\n",
       "pressure  level                                 \n",
       "0.0000    1     -16.985901   0.000000 -16.985901\n",
       "1.0685    24    -16.985545   0.001261 -16.984284\n",
       "1013.0000 76    -26.962746  21.994683  -4.968063"
      ]
     },
     "metadata": {},
     "output_type": "display_data"
    },
    {
     "name": "stdout",
     "output_type": "stream",
     "text": [
      "Table. Fluxes. CRD\n"
     ]
    },
    {
     "data": {
      "text/html": [
       "<div>\n",
       "<style scoped>\n",
       "    .dataframe tbody tr th:only-of-type {\n",
       "        vertical-align: middle;\n",
       "    }\n",
       "\n",
       "    .dataframe tbody tr th {\n",
       "        vertical-align: top;\n",
       "    }\n",
       "\n",
       "    .dataframe thead th {\n",
       "        text-align: right;\n",
       "    }\n",
       "</style>\n",
       "<table border=\"1\" class=\"dataframe\">\n",
       "  <thead>\n",
       "    <tr style=\"text-align: right;\">\n",
       "      <th></th>\n",
       "      <th></th>\n",
       "      <th>flug</th>\n",
       "      <th>fldg</th>\n",
       "      <th>fnetg</th>\n",
       "    </tr>\n",
       "    <tr>\n",
       "      <th>pressure</th>\n",
       "      <th>level</th>\n",
       "      <th></th>\n",
       "      <th></th>\n",
       "      <th></th>\n",
       "    </tr>\n",
       "  </thead>\n",
       "  <tbody>\n",
       "    <tr>\n",
       "      <th>0.0000</th>\n",
       "      <th>1</th>\n",
       "      <td>-17.265293</td>\n",
       "      <td>0.000000</td>\n",
       "      <td>-17.265293</td>\n",
       "    </tr>\n",
       "    <tr>\n",
       "      <th>1.0685</th>\n",
       "      <th>24</th>\n",
       "      <td>-17.264814</td>\n",
       "      <td>0.000764</td>\n",
       "      <td>-17.264050</td>\n",
       "    </tr>\n",
       "    <tr>\n",
       "      <th>1013.0000</th>\n",
       "      <th>76</th>\n",
       "      <td>-26.962746</td>\n",
       "      <td>21.861851</td>\n",
       "      <td>-5.100895</td>\n",
       "    </tr>\n",
       "  </tbody>\n",
       "</table>\n",
       "</div>"
      ],
      "text/plain": [
       "                      flug       fldg      fnetg\n",
       "pressure  level                                 \n",
       "0.0000    1     -17.265293   0.000000 -17.265293\n",
       "1.0685    24    -17.264814   0.000764 -17.264050\n",
       "1013.0000 76    -26.962746  21.861851  -5.100895"
      ]
     },
     "metadata": {},
     "output_type": "display_data"
    },
    {
     "name": "stdout",
     "output_type": "stream",
     "text": [
      "Table. Fluxes. WGT igg=10 wgt_flux=1\n"
     ]
    },
    {
     "data": {
      "text/html": [
       "<div>\n",
       "<style scoped>\n",
       "    .dataframe tbody tr th:only-of-type {\n",
       "        vertical-align: middle;\n",
       "    }\n",
       "\n",
       "    .dataframe tbody tr th {\n",
       "        vertical-align: top;\n",
       "    }\n",
       "\n",
       "    .dataframe thead th {\n",
       "        text-align: right;\n",
       "    }\n",
       "</style>\n",
       "<table border=\"1\" class=\"dataframe\">\n",
       "  <thead>\n",
       "    <tr style=\"text-align: right;\">\n",
       "      <th></th>\n",
       "      <th></th>\n",
       "      <th>flug</th>\n",
       "      <th>fldg</th>\n",
       "      <th>fnetg</th>\n",
       "    </tr>\n",
       "    <tr>\n",
       "      <th>pressure</th>\n",
       "      <th>level</th>\n",
       "      <th></th>\n",
       "      <th></th>\n",
       "      <th></th>\n",
       "    </tr>\n",
       "  </thead>\n",
       "  <tbody>\n",
       "    <tr>\n",
       "      <th>1.000000e-08</th>\n",
       "      <th>1</th>\n",
       "      <td>-17.306357</td>\n",
       "      <td>9.043581e-08</td>\n",
       "      <td>-17.306356</td>\n",
       "    </tr>\n",
       "    <tr>\n",
       "      <th>1.068500e+00</th>\n",
       "      <th>24</th>\n",
       "      <td>-17.305877</td>\n",
       "      <td>7.350045e-04</td>\n",
       "      <td>-17.305142</td>\n",
       "    </tr>\n",
       "    <tr>\n",
       "      <th>1.013000e+03</th>\n",
       "      <th>76</th>\n",
       "      <td>-26.962750</td>\n",
       "      <td>2.200111e+01</td>\n",
       "      <td>-4.961641</td>\n",
       "    </tr>\n",
       "  </tbody>\n",
       "</table>\n",
       "</div>"
      ],
      "text/plain": [
       "                         flug          fldg      fnetg\n",
       "pressure     level                                    \n",
       "1.000000e-08 1     -17.306357  9.043581e-08 -17.306356\n",
       "1.068500e+00 24    -17.305877  7.350045e-04 -17.305142\n",
       "1.013000e+03 76    -26.962750  2.200111e+01  -4.961641"
      ]
     },
     "metadata": {},
     "output_type": "display_data"
    },
    {
     "name": "stdout",
     "output_type": "stream",
     "text": [
      "Table. Fluxes. CLIRAD\n"
     ]
    },
    {
     "data": {
      "text/html": [
       "<div>\n",
       "<style scoped>\n",
       "    .dataframe tbody tr th:only-of-type {\n",
       "        vertical-align: middle;\n",
       "    }\n",
       "\n",
       "    .dataframe tbody tr th {\n",
       "        vertical-align: top;\n",
       "    }\n",
       "\n",
       "    .dataframe thead th {\n",
       "        text-align: right;\n",
       "    }\n",
       "</style>\n",
       "<table border=\"1\" class=\"dataframe\">\n",
       "  <thead>\n",
       "    <tr style=\"text-align: right;\">\n",
       "      <th></th>\n",
       "      <th></th>\n",
       "      <th>flug</th>\n",
       "      <th>fldg</th>\n",
       "      <th>fnetg</th>\n",
       "    </tr>\n",
       "    <tr>\n",
       "      <th>pressure</th>\n",
       "      <th>level</th>\n",
       "      <th></th>\n",
       "      <th></th>\n",
       "      <th></th>\n",
       "    </tr>\n",
       "  </thead>\n",
       "  <tbody>\n",
       "    <tr>\n",
       "      <th>0.0000</th>\n",
       "      <th>1</th>\n",
       "      <td>-2.793925e-01</td>\n",
       "      <td>0.000000</td>\n",
       "      <td>-0.279392</td>\n",
       "    </tr>\n",
       "    <tr>\n",
       "      <th>1.0685</th>\n",
       "      <th>24</th>\n",
       "      <td>-2.792695e-01</td>\n",
       "      <td>-0.000497</td>\n",
       "      <td>-0.279766</td>\n",
       "    </tr>\n",
       "    <tr>\n",
       "      <th>1013.0000</th>\n",
       "      <th>76</th>\n",
       "      <td>-4.999999e-08</td>\n",
       "      <td>-0.132832</td>\n",
       "      <td>-0.132832</td>\n",
       "    </tr>\n",
       "  </tbody>\n",
       "</table>\n",
       "</div>"
      ],
      "text/plain": [
       "                         flug      fldg     fnetg\n",
       "pressure  level                                  \n",
       "0.0000    1     -2.793925e-01  0.000000 -0.279392\n",
       "1.0685    24    -2.792695e-01 -0.000497 -0.279766\n",
       "1013.0000 76    -4.999999e-08 -0.132832 -0.132832"
      ]
     },
     "metadata": {},
     "output_type": "display_data"
    },
    {
     "name": "stdout",
     "output_type": "stream",
     "text": [
      "Table. Fluxes. (WGT igg=10 wgt_flux=1) - (CRD)\n"
     ]
    },
    {
     "data": {
      "text/html": [
       "<div>\n",
       "<style scoped>\n",
       "    .dataframe tbody tr th:only-of-type {\n",
       "        vertical-align: middle;\n",
       "    }\n",
       "\n",
       "    .dataframe tbody tr th {\n",
       "        vertical-align: top;\n",
       "    }\n",
       "\n",
       "    .dataframe thead th {\n",
       "        text-align: right;\n",
       "    }\n",
       "</style>\n",
       "<table border=\"1\" class=\"dataframe\">\n",
       "  <thead>\n",
       "    <tr style=\"text-align: right;\">\n",
       "      <th></th>\n",
       "      <th></th>\n",
       "      <th>flug</th>\n",
       "      <th>fldg</th>\n",
       "      <th>fnetg</th>\n",
       "    </tr>\n",
       "    <tr>\n",
       "      <th>pressure</th>\n",
       "      <th>level</th>\n",
       "      <th></th>\n",
       "      <th></th>\n",
       "      <th></th>\n",
       "    </tr>\n",
       "  </thead>\n",
       "  <tbody>\n",
       "    <tr>\n",
       "      <th>0.0000</th>\n",
       "      <th>1</th>\n",
       "      <td>-0.320456</td>\n",
       "      <td>9.043581e-08</td>\n",
       "      <td>-0.320455</td>\n",
       "    </tr>\n",
       "    <tr>\n",
       "      <th>1.0685</th>\n",
       "      <th>24</th>\n",
       "      <td>-0.320332</td>\n",
       "      <td>-5.263858e-04</td>\n",
       "      <td>-0.320858</td>\n",
       "    </tr>\n",
       "    <tr>\n",
       "      <th>1013.0000</th>\n",
       "      <th>76</th>\n",
       "      <td>-0.000004</td>\n",
       "      <td>6.426000e-03</td>\n",
       "      <td>0.006422</td>\n",
       "    </tr>\n",
       "  </tbody>\n",
       "</table>\n",
       "</div>"
      ],
      "text/plain": [
       "                     flug          fldg     fnetg\n",
       "pressure  level                                  \n",
       "0.0000    1     -0.320456  9.043581e-08 -0.320455\n",
       "1.0685    24    -0.320332 -5.263858e-04 -0.320858\n",
       "1013.0000 76    -0.000004  6.426000e-03  0.006422"
      ]
     },
     "metadata": {},
     "output_type": "display_data"
    },
    {
     "name": "stdout",
     "output_type": "stream",
     "text": [
      "Table. Fluxes. (CLIRAD) - (CRD)\n"
     ]
    },
    {
     "data": {
      "text/html": [
       "<a id=\"Best-fit_Parameters\"></a>"
      ],
      "text/plain": [
       "<IPython.core.display.HTML object>"
      ]
     },
     "metadata": {},
     "output_type": "display_data"
    },
    {
     "data": {
      "text/markdown": [
       "# Best-fit Parameters"
      ],
      "text/plain": [
       "<IPython.core.display.Markdown object>"
      ]
     },
     "metadata": {},
     "output_type": "display_data"
    },
    {
     "name": "stdout",
     "output_type": "stream",
     "text": [
      "Best-fit values for each (gas, band)\n",
      "------------------------------------\n",
      "o h2o band7\n",
      "  atmpro = mls\n",
      "  band = 7\n",
      "  commitnumber = a06b618\n",
      "  conc = None\n",
      "  dv = 0.001\n",
      "  klin = 0\n",
      "  molecule = h2o\n",
      "  ng_adju = [0]\n",
      "  ng_refs = [7]\n",
      "  nv = 1000\n",
      "  option_compute_btable = 0\n",
      "  option_compute_ktable = 1\n",
      "  option_wgt_flux = 1\n",
      "  option_wgt_k = 1\n",
      "  ref_pts = [(600, 250)]\n",
      "  tsfc = 294\n",
      "  vmax = 1380\n",
      "  vmin = 1215\n",
      "  w_diffuse = [(2, 1.6, 1.6, 1.6, 1.6, 1.6, 1.8)]\n",
      "  wgt = [(0.5, 0.5, 0.5, 0.5, 0.5, 0.5, 0.9)]\n"
     ]
    }
   ],
   "source": [
    "script()"
   ]
  },
  {
   "cell_type": "code",
   "execution_count": 13,
   "metadata": {
    "collapsed": true
   },
   "outputs": [
    {
     "data": {
      "text/html": [
       "<script>\n",
       "code_show=true; \n",
       "function code_toggle() {\n",
       " if (code_show){\n",
       " $('div.input').hide();\n",
       " } else {\n",
       " $('div.input').show();\n",
       " }\n",
       " code_show = !code_show\n",
       "} \n",
       "$( document ).ready(code_toggle);\n",
       "</script>\n",
       "<form action=\"javascript:code_toggle()\"><input type=\"submit\" value=\"Click here to toggle on/off the raw code.\"></form>"
      ],
      "text/plain": [
       "<IPython.core.display.HTML object>"
      ]
     },
     "execution_count": 13,
     "metadata": {},
     "output_type": "execute_result"
    }
   ],
   "source": [
    "display.HTML('''<script>\n",
    "code_show=true; \n",
    "function code_toggle() {\n",
    " if (code_show){\n",
    " $('div.input').hide();\n",
    " } else {\n",
    " $('div.input').show();\n",
    " }\n",
    " code_show = !code_show\n",
    "} \n",
    "$( document ).ready(code_toggle);\n",
    "</script>\n",
    "<form action=\"javascript:code_toggle()\"><input type=\"submit\" value=\"Click here to toggle on/off the raw code.\"></form>''')"
   ]
  }
 ],
 "metadata": {
  "kernelspec": {
   "display_name": "Python 3",
   "language": "python",
   "name": "python3"
  },
  "language_info": {
   "codemirror_mode": {
    "name": "ipython",
    "version": 3
   },
   "file_extension": ".py",
   "mimetype": "text/x-python",
   "name": "python",
   "nbconvert_exporter": "python",
   "pygments_lexer": "ipython3",
   "version": "3.6.1"
  }
 },
 "nbformat": 4,
 "nbformat_minor": 2
}
