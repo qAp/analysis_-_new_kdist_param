{
 "cells": [
  {
   "cell_type": "code",
   "execution_count": 1,
   "metadata": {
    "collapsed": true
   },
   "outputs": [],
   "source": [
    "%matplotlib inline\n",
    "import os\n",
    "import re\n",
    "import io\n",
    "import itertools\n",
    "import pprint\n",
    "\n",
    "from bokeh.io import output_notebook, show\n",
    "from bokeh.layouts import gridplot\n",
    "from bokeh.plotting import figure\n",
    "from bokeh.models import Range1d, Legend\n",
    "from bokeh.palettes import all_palettes\n",
    "\n",
    "import matplotlib\n",
    "import matplotlib.pyplot as plt\n",
    "import numpy as np\n",
    "import pandas as pd\n",
    "import xarray as xr\n",
    "\n",
    "import climatools.lblnew.bestfit_params as bestfits\n",
    "from climatools.lblnew import setup_bestfit, setup_overlap\n",
    "import climatools.lblnew.pipeline as pipe_lblnew\n",
    "import climatools.cliradlw.setup as setup_cliradlw\n",
    "import climatools.cliradlw.pipeline as pipe_cliradlw\n",
    "\n",
    "import climatools.html.html as climahtml\n",
    "from climatools.lblnew.dataio import *\n",
    "from climatools.plot.plot import *\n",
    "\n",
    "\n",
    "import IPython.display as display"
   ]
  },
  {
   "cell_type": "code",
   "execution_count": 2,
   "metadata": {
    "collapsed": true
   },
   "outputs": [],
   "source": [
    "%run param.py"
   ]
  },
  {
   "cell_type": "code",
   "execution_count": 3,
   "metadata": {
    "collapsed": true
   },
   "outputs": [],
   "source": [
    "def load_output_file(path_csv):\n",
    "    '''\n",
    "    Load lblnew output .csv file to xarray.Dataset\n",
    "    \n",
    "    Parameters\n",
    "    ----------\n",
    "    path_csv: str\n",
    "              Path to the .csv file to be loaded.\n",
    "    ds: xarray.Dataset\n",
    "        Data in the input file in the form of an xarray.Dataset.\n",
    "    '''\n",
    "    toindex = ['band', 'pressure', 'igg', 'g']    \n",
    "    df = pd.read_csv(path_csv, sep=r'\\s+')\n",
    "    df = df.set_index([i for i in toindex if i in df.columns])\n",
    "    df = df.rename(columns={'sfu': 'flug',\n",
    "                            'sfd': 'fldg',\n",
    "                            'fnet': 'fnetg',\n",
    "                            'coolr': 'coolrg'})\n",
    "    ds = xr.Dataset.from_dataframe(df)\n",
    "\n",
    "    for l in ('level', 'layer'):\n",
    "        if l in ds.data_vars:\n",
    "            if len(ds[l].dims) > 1:\n",
    "                surface = {d: 0 for d in ds.dims if d != 'pressure'}\n",
    "                coord_level = ds[l][surface]\n",
    "                ds.coords[l] = ('pressure', coord_level)\n",
    "            else:\n",
    "                ds.coords[l] = ('pressure', ds[l])\n",
    "    \n",
    "    return ds"
   ]
  },
  {
   "cell_type": "code",
   "execution_count": 4,
   "metadata": {
    "collapsed": true
   },
   "outputs": [],
   "source": [
    "def lblnew_setup(param=None):\n",
    "    if 'ng_refs' in param:\n",
    "        return {'setup': setup_bestfit,\n",
    "                'fname_flux_crd': 'output_flux.dat',\n",
    "                'fname_cool_crd': 'output_coolr.dat',\n",
    "                'fname_flux_wgt': 'output_wfluxg.dat',\n",
    "                'fname_cool_wgt': 'output_wcoolrg.dat'}\n",
    "    else:\n",
    "        return {'setup': setup_overlap,\n",
    "                'fname_flux_crd': 'output_flux.dat',\n",
    "                'fname_cool_crd': 'output_coolr.dat',\n",
    "                'fname_flux_wgt': 'output_wflux.dat',\n",
    "                'fname_cool_wgt': 'output_wcoolr.dat'}\n",
    "\n",
    "    \n",
    "def load_lblnew_data(param):\n",
    "    \n",
    "    fname_dsname = [('fname_flux_crd', 'ds_flux_crd'),\n",
    "                    ('fname_cool_crd', 'ds_cool_crd'),\n",
    "                    ('fname_flux_wgt', 'ds_flux_wgt'),\n",
    "                    ('fname_cool_wgt', 'ds_cool_wgt')]\n",
    "    \n",
    "    d = lblnew_setup(param)\n",
    "    dir_fortran = pipe_lblnew.get_dir_case(param, setup=d['setup'])\n",
    "    \n",
    "    data_dict = {}\n",
    "    for fname, dsname in fname_dsname:\n",
    "        fpath = os.path.join(dir_fortran, d[fname])\n",
    "        data_dict[dsname] = load_output_file(fpath)\n",
    "    return data_dict\n",
    "    \n",
    "\n",
    "    \n",
    "    "
   ]
  },
  {
   "cell_type": "code",
   "execution_count": 5,
   "metadata": {
    "collapsed": true
   },
   "outputs": [],
   "source": [
    "d = load_lblnew_data(PARAM_LBLNEW)\n",
    "\n",
    "DS_FLUX_CRD = d['ds_flux_crd']\n",
    "DS_COOL_CRD = d['ds_cool_crd']\n",
    "DS_FLUX_WGT = d['ds_flux_wgt']\n",
    "DS_COOL_WGT = d['ds_cool_wgt']"
   ]
  },
  {
   "cell_type": "code",
   "execution_count": 6,
   "metadata": {
    "collapsed": true
   },
   "outputs": [],
   "source": [
    "DIR_FORTRAN = pipe_cliradlw.get_fortran_dir(PARAM, \n",
    "                                            setup=setup_cliradlw)\n",
    "\n",
    "PATH_FLUX = os.path.join(DIR_FORTRAN, 'output_flux.dat')\n",
    "PATH_COOL = os.path.join(DIR_FORTRAN, 'output_coolr.dat')\n",
    "\n",
    "DS_FLUX = load_output_file(PATH_FLUX)\n",
    "DS_COOL = load_output_file(PATH_COOL)"
   ]
  },
  {
   "cell_type": "code",
   "execution_count": 7,
   "metadata": {
    "collapsed": true
   },
   "outputs": [
    {
     "data": {
      "text/html": [
       "\n",
       "    <div class=\"bk-root\">\n",
       "        <a href=\"https://bokeh.pydata.org\" target=\"_blank\" class=\"bk-logo bk-logo-small bk-logo-notebook\"></a>\n",
       "        <span id=\"66a5882a-be6f-4801-a8e0-22a4d29a4903\">Loading BokehJS ...</span>\n",
       "    </div>"
      ]
     },
     "metadata": {},
     "output_type": "display_data"
    },
    {
     "data": {
      "application/javascript": [
       "\n",
       "(function(root) {\n",
       "  function now() {\n",
       "    return new Date();\n",
       "  }\n",
       "\n",
       "  var force = true;\n",
       "\n",
       "  if (typeof (root._bokeh_onload_callbacks) === \"undefined\" || force === true) {\n",
       "    root._bokeh_onload_callbacks = [];\n",
       "    root._bokeh_is_loading = undefined;\n",
       "  }\n",
       "\n",
       "  var JS_MIME_TYPE = 'application/javascript';\n",
       "  var HTML_MIME_TYPE = 'text/html';\n",
       "  var EXEC_MIME_TYPE = 'application/vnd.bokehjs_exec.v0+json';\n",
       "  var CLASS_NAME = 'output_bokeh rendered_html';\n",
       "\n",
       "  /**\n",
       "   * Render data to the DOM node\n",
       "   */\n",
       "  function render(props, node) {\n",
       "    var script = document.createElement(\"script\");\n",
       "    node.appendChild(script);\n",
       "  }\n",
       "\n",
       "  /**\n",
       "   * Handle when an output is cleared or removed\n",
       "   */\n",
       "  function handleClearOutput(event, handle) {\n",
       "    var cell = handle.cell;\n",
       "\n",
       "    var id = cell.output_area._bokeh_element_id;\n",
       "    var server_id = cell.output_area._bokeh_server_id;\n",
       "    // Clean up Bokeh references\n",
       "    if (id !== undefined) {\n",
       "      Bokeh.index[id].model.document.clear();\n",
       "      delete Bokeh.index[id];\n",
       "    }\n",
       "\n",
       "    if (server_id !== undefined) {\n",
       "      // Clean up Bokeh references\n",
       "      var cmd = \"from bokeh.io.state import curstate; print(curstate().uuid_to_server['\" + server_id + \"'].get_sessions()[0].document.roots[0]._id)\";\n",
       "      cell.notebook.kernel.execute(cmd, {\n",
       "        iopub: {\n",
       "          output: function(msg) {\n",
       "            var element_id = msg.content.text.trim();\n",
       "            Bokeh.index[element_id].model.document.clear();\n",
       "            delete Bokeh.index[element_id];\n",
       "          }\n",
       "        }\n",
       "      });\n",
       "      // Destroy server and session\n",
       "      var cmd = \"import bokeh.io.notebook as ion; ion.destroy_server('\" + server_id + \"')\";\n",
       "      cell.notebook.kernel.execute(cmd);\n",
       "    }\n",
       "  }\n",
       "\n",
       "  /**\n",
       "   * Handle when a new output is added\n",
       "   */\n",
       "  function handleAddOutput(event, handle) {\n",
       "    var output_area = handle.output_area;\n",
       "    var output = handle.output;\n",
       "\n",
       "    // limit handleAddOutput to display_data with EXEC_MIME_TYPE content only\n",
       "    if ((output.output_type != \"display_data\") || (!output.data.hasOwnProperty(EXEC_MIME_TYPE))) {\n",
       "      return\n",
       "    }\n",
       "\n",
       "    var toinsert = output_area.element.find(\".\" + CLASS_NAME.split(' ')[0]);\n",
       "\n",
       "    if (output.metadata[EXEC_MIME_TYPE][\"id\"] !== undefined) {\n",
       "      toinsert[toinsert.length - 1].firstChild.textContent = output.data[JS_MIME_TYPE];\n",
       "      // store reference to embed id on output_area\n",
       "      output_area._bokeh_element_id = output.metadata[EXEC_MIME_TYPE][\"id\"];\n",
       "    }\n",
       "    if (output.metadata[EXEC_MIME_TYPE][\"server_id\"] !== undefined) {\n",
       "      var bk_div = document.createElement(\"div\");\n",
       "      bk_div.innerHTML = output.data[HTML_MIME_TYPE];\n",
       "      var script_attrs = bk_div.children[0].attributes;\n",
       "      for (var i = 0; i < script_attrs.length; i++) {\n",
       "        toinsert[toinsert.length - 1].firstChild.setAttribute(script_attrs[i].name, script_attrs[i].value);\n",
       "      }\n",
       "      // store reference to server id on output_area\n",
       "      output_area._bokeh_server_id = output.metadata[EXEC_MIME_TYPE][\"server_id\"];\n",
       "    }\n",
       "  }\n",
       "\n",
       "  function register_renderer(events, OutputArea) {\n",
       "\n",
       "    function append_mime(data, metadata, element) {\n",
       "      // create a DOM node to render to\n",
       "      var toinsert = this.create_output_subarea(\n",
       "        metadata,\n",
       "        CLASS_NAME,\n",
       "        EXEC_MIME_TYPE\n",
       "      );\n",
       "      this.keyboard_manager.register_events(toinsert);\n",
       "      // Render to node\n",
       "      var props = {data: data, metadata: metadata[EXEC_MIME_TYPE]};\n",
       "      render(props, toinsert[toinsert.length - 1]);\n",
       "      element.append(toinsert);\n",
       "      return toinsert\n",
       "    }\n",
       "\n",
       "    /* Handle when an output is cleared or removed */\n",
       "    events.on('clear_output.CodeCell', handleClearOutput);\n",
       "    events.on('delete.Cell', handleClearOutput);\n",
       "\n",
       "    /* Handle when a new output is added */\n",
       "    events.on('output_added.OutputArea', handleAddOutput);\n",
       "\n",
       "    /**\n",
       "     * Register the mime type and append_mime function with output_area\n",
       "     */\n",
       "    OutputArea.prototype.register_mime_type(EXEC_MIME_TYPE, append_mime, {\n",
       "      /* Is output safe? */\n",
       "      safe: true,\n",
       "      /* Index of renderer in `output_area.display_order` */\n",
       "      index: 0\n",
       "    });\n",
       "  }\n",
       "\n",
       "  // register the mime type if in Jupyter Notebook environment and previously unregistered\n",
       "  if (root.Jupyter !== undefined) {\n",
       "    var events = require('base/js/events');\n",
       "    var OutputArea = require('notebook/js/outputarea').OutputArea;\n",
       "\n",
       "    if (OutputArea.prototype.mime_types().indexOf(EXEC_MIME_TYPE) == -1) {\n",
       "      register_renderer(events, OutputArea);\n",
       "    }\n",
       "  }\n",
       "\n",
       "  \n",
       "  if (typeof (root._bokeh_timeout) === \"undefined\" || force === true) {\n",
       "    root._bokeh_timeout = Date.now() + 5000;\n",
       "    root._bokeh_failed_load = false;\n",
       "  }\n",
       "\n",
       "  var NB_LOAD_WARNING = {'data': {'text/html':\n",
       "     \"<div style='background-color: #fdd'>\\n\"+\n",
       "     \"<p>\\n\"+\n",
       "     \"BokehJS does not appear to have successfully loaded. If loading BokehJS from CDN, this \\n\"+\n",
       "     \"may be due to a slow or bad network connection. Possible fixes:\\n\"+\n",
       "     \"</p>\\n\"+\n",
       "     \"<ul>\\n\"+\n",
       "     \"<li>re-rerun `output_notebook()` to attempt to load from CDN again, or</li>\\n\"+\n",
       "     \"<li>use INLINE resources instead, as so:</li>\\n\"+\n",
       "     \"</ul>\\n\"+\n",
       "     \"<code>\\n\"+\n",
       "     \"from bokeh.resources import INLINE\\n\"+\n",
       "     \"output_notebook(resources=INLINE)\\n\"+\n",
       "     \"</code>\\n\"+\n",
       "     \"</div>\"}};\n",
       "\n",
       "  function display_loaded() {\n",
       "    var el = document.getElementById(\"66a5882a-be6f-4801-a8e0-22a4d29a4903\");\n",
       "    if (el != null) {\n",
       "      el.textContent = \"BokehJS is loading...\";\n",
       "    }\n",
       "    if (root.Bokeh !== undefined) {\n",
       "      if (el != null) {\n",
       "        el.textContent = \"BokehJS \" + root.Bokeh.version + \" successfully loaded.\";\n",
       "      }\n",
       "    } else if (Date.now() < root._bokeh_timeout) {\n",
       "      setTimeout(display_loaded, 100)\n",
       "    }\n",
       "  }\n",
       "\n",
       "\n",
       "  function run_callbacks() {\n",
       "    try {\n",
       "      root._bokeh_onload_callbacks.forEach(function(callback) { callback() });\n",
       "    }\n",
       "    finally {\n",
       "      delete root._bokeh_onload_callbacks\n",
       "    }\n",
       "    console.info(\"Bokeh: all callbacks have finished\");\n",
       "  }\n",
       "\n",
       "  function load_libs(js_urls, callback) {\n",
       "    root._bokeh_onload_callbacks.push(callback);\n",
       "    if (root._bokeh_is_loading > 0) {\n",
       "      console.log(\"Bokeh: BokehJS is being loaded, scheduling callback at\", now());\n",
       "      return null;\n",
       "    }\n",
       "    if (js_urls == null || js_urls.length === 0) {\n",
       "      run_callbacks();\n",
       "      return null;\n",
       "    }\n",
       "    console.log(\"Bokeh: BokehJS not loaded, scheduling load and callback at\", now());\n",
       "    root._bokeh_is_loading = js_urls.length;\n",
       "    for (var i = 0; i < js_urls.length; i++) {\n",
       "      var url = js_urls[i];\n",
       "      var s = document.createElement('script');\n",
       "      s.src = url;\n",
       "      s.async = false;\n",
       "      s.onreadystatechange = s.onload = function() {\n",
       "        root._bokeh_is_loading--;\n",
       "        if (root._bokeh_is_loading === 0) {\n",
       "          console.log(\"Bokeh: all BokehJS libraries loaded\");\n",
       "          run_callbacks()\n",
       "        }\n",
       "      };\n",
       "      s.onerror = function() {\n",
       "        console.warn(\"failed to load library \" + url);\n",
       "      };\n",
       "      console.log(\"Bokeh: injecting script tag for BokehJS library: \", url);\n",
       "      document.getElementsByTagName(\"head\")[0].appendChild(s);\n",
       "    }\n",
       "  };var element = document.getElementById(\"66a5882a-be6f-4801-a8e0-22a4d29a4903\");\n",
       "  if (element == null) {\n",
       "    console.log(\"Bokeh: ERROR: autoload.js configured with elementid '66a5882a-be6f-4801-a8e0-22a4d29a4903' but no matching script tag was found. \")\n",
       "    return false;\n",
       "  }\n",
       "\n",
       "  var js_urls = [\"https://cdn.pydata.org/bokeh/release/bokeh-0.12.16.min.js\", \"https://cdn.pydata.org/bokeh/release/bokeh-widgets-0.12.16.min.js\", \"https://cdn.pydata.org/bokeh/release/bokeh-tables-0.12.16.min.js\", \"https://cdn.pydata.org/bokeh/release/bokeh-gl-0.12.16.min.js\"];\n",
       "\n",
       "  var inline_js = [\n",
       "    function(Bokeh) {\n",
       "      Bokeh.set_log_level(\"info\");\n",
       "    },\n",
       "    \n",
       "    function(Bokeh) {\n",
       "      \n",
       "    },\n",
       "    function(Bokeh) {\n",
       "      console.log(\"Bokeh: injecting CSS: https://cdn.pydata.org/bokeh/release/bokeh-0.12.16.min.css\");\n",
       "      Bokeh.embed.inject_css(\"https://cdn.pydata.org/bokeh/release/bokeh-0.12.16.min.css\");\n",
       "      console.log(\"Bokeh: injecting CSS: https://cdn.pydata.org/bokeh/release/bokeh-widgets-0.12.16.min.css\");\n",
       "      Bokeh.embed.inject_css(\"https://cdn.pydata.org/bokeh/release/bokeh-widgets-0.12.16.min.css\");\n",
       "      console.log(\"Bokeh: injecting CSS: https://cdn.pydata.org/bokeh/release/bokeh-tables-0.12.16.min.css\");\n",
       "      Bokeh.embed.inject_css(\"https://cdn.pydata.org/bokeh/release/bokeh-tables-0.12.16.min.css\");\n",
       "    }\n",
       "  ];\n",
       "\n",
       "  function run_inline_js() {\n",
       "    \n",
       "    if ((root.Bokeh !== undefined) || (force === true)) {\n",
       "      for (var i = 0; i < inline_js.length; i++) {\n",
       "        inline_js[i].call(root, root.Bokeh);\n",
       "      }if (force === true) {\n",
       "        display_loaded();\n",
       "      }} else if (Date.now() < root._bokeh_timeout) {\n",
       "      setTimeout(run_inline_js, 100);\n",
       "    } else if (!root._bokeh_failed_load) {\n",
       "      console.log(\"Bokeh: BokehJS failed to load within specified timeout.\");\n",
       "      root._bokeh_failed_load = true;\n",
       "    } else if (force !== true) {\n",
       "      var cell = $(document.getElementById(\"66a5882a-be6f-4801-a8e0-22a4d29a4903\")).parents('.cell').data().cell;\n",
       "      cell.output_area.append_execute_result(NB_LOAD_WARNING)\n",
       "    }\n",
       "\n",
       "  }\n",
       "\n",
       "  if (root._bokeh_is_loading === 0) {\n",
       "    console.log(\"Bokeh: BokehJS loaded, going straight to plotting\");\n",
       "    run_inline_js();\n",
       "  } else {\n",
       "    load_libs(js_urls, function() {\n",
       "      console.log(\"Bokeh: BokehJS plotting callback run at\", now());\n",
       "      run_inline_js();\n",
       "    });\n",
       "  }\n",
       "}(window));"
      ],
      "application/vnd.bokehjs_load.v0+json": "\n(function(root) {\n  function now() {\n    return new Date();\n  }\n\n  var force = true;\n\n  if (typeof (root._bokeh_onload_callbacks) === \"undefined\" || force === true) {\n    root._bokeh_onload_callbacks = [];\n    root._bokeh_is_loading = undefined;\n  }\n\n  \n\n  \n  if (typeof (root._bokeh_timeout) === \"undefined\" || force === true) {\n    root._bokeh_timeout = Date.now() + 5000;\n    root._bokeh_failed_load = false;\n  }\n\n  var NB_LOAD_WARNING = {'data': {'text/html':\n     \"<div style='background-color: #fdd'>\\n\"+\n     \"<p>\\n\"+\n     \"BokehJS does not appear to have successfully loaded. If loading BokehJS from CDN, this \\n\"+\n     \"may be due to a slow or bad network connection. Possible fixes:\\n\"+\n     \"</p>\\n\"+\n     \"<ul>\\n\"+\n     \"<li>re-rerun `output_notebook()` to attempt to load from CDN again, or</li>\\n\"+\n     \"<li>use INLINE resources instead, as so:</li>\\n\"+\n     \"</ul>\\n\"+\n     \"<code>\\n\"+\n     \"from bokeh.resources import INLINE\\n\"+\n     \"output_notebook(resources=INLINE)\\n\"+\n     \"</code>\\n\"+\n     \"</div>\"}};\n\n  function display_loaded() {\n    var el = document.getElementById(\"66a5882a-be6f-4801-a8e0-22a4d29a4903\");\n    if (el != null) {\n      el.textContent = \"BokehJS is loading...\";\n    }\n    if (root.Bokeh !== undefined) {\n      if (el != null) {\n        el.textContent = \"BokehJS \" + root.Bokeh.version + \" successfully loaded.\";\n      }\n    } else if (Date.now() < root._bokeh_timeout) {\n      setTimeout(display_loaded, 100)\n    }\n  }\n\n\n  function run_callbacks() {\n    try {\n      root._bokeh_onload_callbacks.forEach(function(callback) { callback() });\n    }\n    finally {\n      delete root._bokeh_onload_callbacks\n    }\n    console.info(\"Bokeh: all callbacks have finished\");\n  }\n\n  function load_libs(js_urls, callback) {\n    root._bokeh_onload_callbacks.push(callback);\n    if (root._bokeh_is_loading > 0) {\n      console.log(\"Bokeh: BokehJS is being loaded, scheduling callback at\", now());\n      return null;\n    }\n    if (js_urls == null || js_urls.length === 0) {\n      run_callbacks();\n      return null;\n    }\n    console.log(\"Bokeh: BokehJS not loaded, scheduling load and callback at\", now());\n    root._bokeh_is_loading = js_urls.length;\n    for (var i = 0; i < js_urls.length; i++) {\n      var url = js_urls[i];\n      var s = document.createElement('script');\n      s.src = url;\n      s.async = false;\n      s.onreadystatechange = s.onload = function() {\n        root._bokeh_is_loading--;\n        if (root._bokeh_is_loading === 0) {\n          console.log(\"Bokeh: all BokehJS libraries loaded\");\n          run_callbacks()\n        }\n      };\n      s.onerror = function() {\n        console.warn(\"failed to load library \" + url);\n      };\n      console.log(\"Bokeh: injecting script tag for BokehJS library: \", url);\n      document.getElementsByTagName(\"head\")[0].appendChild(s);\n    }\n  };var element = document.getElementById(\"66a5882a-be6f-4801-a8e0-22a4d29a4903\");\n  if (element == null) {\n    console.log(\"Bokeh: ERROR: autoload.js configured with elementid '66a5882a-be6f-4801-a8e0-22a4d29a4903' but no matching script tag was found. \")\n    return false;\n  }\n\n  var js_urls = [\"https://cdn.pydata.org/bokeh/release/bokeh-0.12.16.min.js\", \"https://cdn.pydata.org/bokeh/release/bokeh-widgets-0.12.16.min.js\", \"https://cdn.pydata.org/bokeh/release/bokeh-tables-0.12.16.min.js\", \"https://cdn.pydata.org/bokeh/release/bokeh-gl-0.12.16.min.js\"];\n\n  var inline_js = [\n    function(Bokeh) {\n      Bokeh.set_log_level(\"info\");\n    },\n    \n    function(Bokeh) {\n      \n    },\n    function(Bokeh) {\n      console.log(\"Bokeh: injecting CSS: https://cdn.pydata.org/bokeh/release/bokeh-0.12.16.min.css\");\n      Bokeh.embed.inject_css(\"https://cdn.pydata.org/bokeh/release/bokeh-0.12.16.min.css\");\n      console.log(\"Bokeh: injecting CSS: https://cdn.pydata.org/bokeh/release/bokeh-widgets-0.12.16.min.css\");\n      Bokeh.embed.inject_css(\"https://cdn.pydata.org/bokeh/release/bokeh-widgets-0.12.16.min.css\");\n      console.log(\"Bokeh: injecting CSS: https://cdn.pydata.org/bokeh/release/bokeh-tables-0.12.16.min.css\");\n      Bokeh.embed.inject_css(\"https://cdn.pydata.org/bokeh/release/bokeh-tables-0.12.16.min.css\");\n    }\n  ];\n\n  function run_inline_js() {\n    \n    if ((root.Bokeh !== undefined) || (force === true)) {\n      for (var i = 0; i < inline_js.length; i++) {\n        inline_js[i].call(root, root.Bokeh);\n      }if (force === true) {\n        display_loaded();\n      }} else if (Date.now() < root._bokeh_timeout) {\n      setTimeout(run_inline_js, 100);\n    } else if (!root._bokeh_failed_load) {\n      console.log(\"Bokeh: BokehJS failed to load within specified timeout.\");\n      root._bokeh_failed_load = true;\n    } else if (force !== true) {\n      var cell = $(document.getElementById(\"66a5882a-be6f-4801-a8e0-22a4d29a4903\")).parents('.cell').data().cell;\n      cell.output_area.append_execute_result(NB_LOAD_WARNING)\n    }\n\n  }\n\n  if (root._bokeh_is_loading === 0) {\n    console.log(\"Bokeh: BokehJS loaded, going straight to plotting\");\n    run_inline_js();\n  } else {\n    load_libs(js_urls, function() {\n      console.log(\"Bokeh: BokehJS plotting callback run at\", now());\n      run_inline_js();\n    });\n  }\n}(window));"
     },
     "metadata": {},
     "output_type": "display_data"
    }
   ],
   "source": [
    "output_notebook()"
   ]
  },
  {
   "cell_type": "code",
   "execution_count": 8,
   "metadata": {
    "collapsed": true
   },
   "outputs": [],
   "source": [
    "def fmt_cool(ds_in):\n",
    "    ds = ds_in.copy(deep=True)\n",
    "    if 'igg' in ds.dims:\n",
    "        ds = ds.sel(igg=1)\n",
    "\n",
    "    if 'g' in ds.dims:\n",
    "        ds = ds.sum('g')\n",
    "            \n",
    "    if 'band' in ds.dims:\n",
    "        try:\n",
    "            ds = ds.squeeze('band')\n",
    "        except ValueError:\n",
    "            ds = ds.sum('band')\n",
    "                \n",
    "    return ds['coolrg']\n",
    "\n",
    "\n",
    "def pltdata_cooling_1(ds_cool=None,\n",
    "                      ds_cool_crd=None, ds_cool_wgt=None):\n",
    "    \n",
    "\n",
    "\n",
    "    colors = all_palettes['Set1'][4]\n",
    "    data = [{'label': 'CLIRAD `coolr_bands`',\n",
    "             'srs': fmt_cool(ds_cool),\n",
    "             'line_dash': 'dashed', 'line_width': 5,\n",
    "             'color': colors[0], 'alpha': .6},\n",
    "            {'label': 'CRD',\n",
    "             'srs': fmt_cool(ds_cool_crd),\n",
    "             'line_dash': 'solid', 'line_width': 1.5,\n",
    "             'marker': 'circle', 'marker_size': 5,\n",
    "             'color': colors[2], 'alpha': 1,},\n",
    "            {'label': 'WGT igg=10 wgt_flux=2',\n",
    "             'srs': fmt_cool(ds_cool_wgt),\n",
    "             'line_dash': 'solid', 'line_width': 3,\n",
    "             'marker': 'square', 'marker_size': 5,\n",
    "             'color': colors[3], 'alpha': .6}]\n",
    "    return data\n",
    "\n",
    "\n",
    "def nice_xlims(pltdata=None, prange=None):\n",
    "    \n",
    "    def get_slice(srs):\n",
    "        return srs.sel(pressure=slice(*prange))\n",
    "    \n",
    "    srss = [d['srs'] for d in pltdata]\n",
    "    vmin = min([get_slice(srs).min() for srs in srss])\n",
    "    vmax = max([get_slice(srs).max() for srs in srss])\n",
    "    dv = (vmax - vmin) * .01\n",
    "    return float(vmin - dv), float(vmax + dv)\n",
    "    \n",
    "\n",
    "def plt_cooling_bokeh(pltdata=None):\n",
    "    '''\n",
    "    Plot a list of cooling rate profiles using bokeh.\n",
    "    '''\n",
    "    ymin = 1e-2 \n",
    "    ymax = 1020 \n",
    "        \n",
    "    p1 = figure(title=\"Linear pressure scale\", \n",
    "                plot_width=400)        \n",
    "    xmin, xmax = nice_xlims(pltdata, prange=(50, 1050))\n",
    "    for d in pltdata:\n",
    "        if 'marker' in d:\n",
    "            getattr(p1, d['marker'])(d['srs'].values, \n",
    "                    d['srs'].coords['pressure'].values,\n",
    "                    color=d['color'], alpha=.7)\n",
    "        p1.line(d['srs'].values, \n",
    "                d['srs'].coords['pressure'].values,\n",
    "                color=d['color'], alpha=d['alpha'], \n",
    "                line_width=d['line_width'], line_dash=d['line_dash'])\n",
    "    \n",
    "    p1.y_range = Range1d(ymax, ymin)\n",
    "    p1.yaxis.axis_label = 'pressure [mb]'   \n",
    "    p1.x_range = Range1d(xmin, xmax)\n",
    "    p1.xaxis.axis_label = 'cooling rate [K/day]'\n",
    "            \n",
    "    p2 = figure(title='Log pressure scale', y_axis_type='log',\n",
    "                plot_width=560)\n",
    "    xmin, xmax = nice_xlims(pltdata, prange=(.01, 200))\n",
    "    \n",
    "    rs = []\n",
    "    for d in pltdata:\n",
    "        rd = []\n",
    "        if 'marker' in d:\n",
    "            r_mark = getattr(p2, d['marker'])(d['srs'].values, \n",
    "                        d['srs'].coords['pressure'].values,\n",
    "                        color=d['color'], alpha=.7)\n",
    "            rd.append(r_mark)\n",
    "        r_line = p2.line(d['srs'].values, \n",
    "                    d['srs'].coords['pressure'].values,\n",
    "                    color=d['color'], alpha=d['alpha'], \n",
    "                    line_width=d['line_width'], line_dash=d['line_dash'])\n",
    "        rd.append(r_line)\n",
    "      \n",
    "        rs.append(rd)\n",
    "        \n",
    "    p2.y_range = Range1d(ymax, ymin)  \n",
    "    p2.yaxis.axis_label = 'pressure [mb]'\n",
    "    \n",
    "    p2.x_range = Range1d(xmin, xmax)\n",
    "    p2.xaxis.axis_label = 'cooling rate [K/day]'\n",
    "    \n",
    "    items = [(d['label'], r) for r, d in zip(rs, pltdata)]\n",
    "    legend = Legend(items=items, location=(10, -30))\n",
    "    legend.label_text_font_size = '8pt'\n",
    "    \n",
    "    p2.add_layout(legend, 'right')  \n",
    "    \n",
    "    show(gridplot(p1, p2, ncols=2, plot_height=500))\n",
    "    \n",
    "\n",
    "def script_plt_cooling():\n",
    "    pltdata = pltdata_cooling_1(\n",
    "        ds_cool=DS_COOL,\n",
    "        ds_cool_crd=DS_COOL_CRD,\n",
    "        ds_cool_wgt=DS_COOL_WGT)\n",
    "    plt_cooling_bokeh(pltdata=pltdata)\n",
    "    print('''FIGURE. Cooling rate profiles.''')"
   ]
  },
  {
   "cell_type": "code",
   "execution_count": 9,
   "metadata": {
    "collapsed": true
   },
   "outputs": [],
   "source": [
    "def fmt_flux(ds_in):\n",
    "    ds = ds_in.copy(deep=True)\n",
    "    \n",
    "    for l in ('level', 'layer'):\n",
    "        if l in ds.data_vars:\n",
    "            if len(ds[l].dims) > 1:\n",
    "                surface = {d: 0 for d in ds.dims if d != 'pressure'}\n",
    "                coord_level = ds[l][surface]\n",
    "                ds.coords[l] = ('pressure', coord_level)\n",
    "            else:\n",
    "                ds.coords[l] = ('pressure', ds[l])\n",
    "        \n",
    "    ds = ds.isel(pressure=[0, 23, -1])\n",
    "        \n",
    "    if 'igg' in ds.dims:\n",
    "        ds = ds.sel(igg=[1])\n",
    "        ds = ds.squeeze('igg').drop('igg')\n",
    "    \n",
    "    if 'g' in ds.dims:\n",
    "        ds = ds.sum('g')\n",
    "            \n",
    "    if 'band' in ds.dims:\n",
    "        try:\n",
    "            ds = ds.squeeze('band').drop('band')\n",
    "        except ValueError:\n",
    "            ds = ds.sum('band')\n",
    "                \n",
    "    df = ds.to_dataframe()\n",
    "    df = df.set_index('level', append=True)               \n",
    "    return df\n",
    "\n",
    "\n",
    "def tbdata_flux(ds_flux=None, ds_flux_crd=None, ds_flux_wgt=None):\n",
    "    ilevels = [0, 23, -1]\n",
    "            \n",
    "    benchmark = {'label': 'CRD',\n",
    "                 'df': fmt_flux(ds_flux_crd)}\n",
    "    \n",
    "    tbs = [{'label': 'WGT igg=10 wgt_flux=1',\n",
    "            'df': fmt_flux(ds_flux_wgt)},\n",
    "           {'label': 'CLIRAD',\n",
    "            'df': fmt_flux(ds_flux)}]\n",
    "    \n",
    "    data = {'benchmark': benchmark, 'others': tbs}\n",
    "    return data\n",
    "\n",
    "\n",
    "def tb_flux(tbdata=None):\n",
    "    benchmark = tbdata['benchmark']\n",
    "    others = tbdata['others']\n",
    "    \n",
    "    def show_tb(d=None):\n",
    "        display.display(d['df'])\n",
    "        print('Table.', 'Fluxes.', d['label'])\n",
    "        \n",
    "    def show_tbdiff(d0=None, d=None):\n",
    "        df = d['df']\n",
    "        df.index = d0['df'].index\n",
    "        display.display(df - d0['df'])\n",
    "        print('Table.', 'Fluxes.', \n",
    "              '({}) - ({})'.format(d['label'], d0['label']))\n",
    "        \n",
    "    show_tb(benchmark)\n",
    "    for d in others:\n",
    "        show_tb(d)\n",
    "        \n",
    "    for d in others:\n",
    "        show_tbdiff(d=d, d0=benchmark)\n",
    "        \n",
    "        \n",
    "def script_tb_flux():\n",
    "    data = tbdata_flux(ds_flux=DS_FLUX,\n",
    "                       ds_flux_crd=DS_FLUX_CRD,\n",
    "                       ds_flux_wgt=DS_FLUX_WGT)\n",
    "    tb_flux(tbdata=data)"
   ]
  },
  {
   "cell_type": "code",
   "execution_count": 10,
   "metadata": {
    "collapsed": true
   },
   "outputs": [],
   "source": [
    "def band_map():\n",
    "    '''\n",
    "    Maps spectral bands in lblnew to spectral bands in clirad.\n",
    "    '''\n",
    "    lblnew2clirad = {'1': '1',\n",
    "            '2': '2',\n",
    "            '3a': '3',\n",
    "            '3b': '4',\n",
    "            '3c': '5',\n",
    "            '4': '6', \n",
    "            '5': '7',\n",
    "            '6': '8',\n",
    "            '7': '9', \n",
    "            '8': '10',\n",
    "            '9': '11'}\n",
    "    \n",
    "    clirad2lblnew = {clirad: lblnew \n",
    "                     for lblnew, clirad in lblnew2clirad.items()}\n",
    "    return clirad2lblnew\n",
    "\n",
    "\n",
    "def gasbands():\n",
    "    bmap = band_map()\n",
    "    gases = list(PARAM['molecule'].keys())\n",
    "    \n",
    "    bands = [bmap[str(b)] for b in PARAM['band']]\n",
    "    return list(itertools.product(gases, bands))\n",
    "\n",
    "\n",
    "def print_bestfit_params():\n",
    "    print('Best-fit values for each (gas, band)')\n",
    "    print('------------------------------------')\n",
    "    for gas, band in gasbands():\n",
    "        print('o {} band{}'.format(gas, band))\n",
    "        param = bestfits.kdist_params(molecule=gas, band=band)\n",
    "        for name, value in sorted(param.items()):\n",
    "            print(2 * ' ' + '{} = {}'.format(name, value))\n",
    "\n",
    "        \n",
    "def print_input_param():        \n",
    "    for name, value in PARAM.items():\n",
    "        print('{} = {}'.format(name, value))\n",
    "        \n",
    "        \n",
    "def print_lblnew_param():\n",
    "    for name, value in sorted(PARAM_LBLNEW.items()):\n",
    "        print('{} = {}'.format(name, value))\n"
   ]
  },
  {
   "cell_type": "code",
   "execution_count": 11,
   "metadata": {
    "collapsed": true,
    "scrolled": false
   },
   "outputs": [],
   "source": [
    "def show_html(s):\n",
    "    display.display(display.HTML(s))\n",
    "\n",
    "    \n",
    "def show_markdown(s):\n",
    "    display.display(display.Markdown(s))\n",
    "\n",
    "    \n",
    "def script():\n",
    "    \n",
    "    title = '### CLIRAD-LW'\n",
    "    s_input = 'Input Parameters'\n",
    "    s_lblnew_param = 'LBLNEW case compaired against'\n",
    "    s_bestfits = 'Best-fit Parameters'\n",
    "    s_plt_cooling = 'Cooling Rate Profiles'\n",
    "    s_tb_flux = 'Flux Comparison'\n",
    "    \n",
    "    # title\n",
    "    show_markdown('### CLIRAD-LW')\n",
    "    \n",
    "    # TOC\n",
    "    show_markdown('### Table of Contents')\n",
    "    show_html(climahtml.getHTML_hrefanchor(s_input))\n",
    "    show_html(climahtml.getHTML_hrefanchor(s_lblnew_param))\n",
    "    show_html(climahtml.getHTML_hrefanchor(s_plt_cooling))\n",
    "    show_html(climahtml.getHTML_hrefanchor(s_tb_flux))\n",
    "    show_html(climahtml.getHTML_hrefanchor(s_bestfits))\n",
    "    \n",
    "    # Input parameters\n",
    "    show_html(climahtml.getHTML_idanchor(s_input))\n",
    "    show_markdown(climahtml.getMarkdown_sectitle(s_input))\n",
    "    print_input_param()\n",
    "    \n",
    "    # LBLNEW parameters \n",
    "    show_html(climahtml.getHTML_idanchor(s_lblnew_param))\n",
    "    show_markdown(climahtml.getMarkdown_sectitle(s_lblnew_param))\n",
    "    print_lblnew_param()\n",
    "    \n",
    "    # Cooling rate profiles\n",
    "    show_html(climahtml.getHTML_idanchor(s_plt_cooling))\n",
    "    show_markdown(climahtml.getMarkdown_sectitle(s_plt_cooling))\n",
    "    script_plt_cooling()\n",
    "    \n",
    "    # Flux comparison\n",
    "    show_html(climahtml.getHTML_idanchor(s_tb_flux))\n",
    "    show_markdown(climahtml.getMarkdown_sectitle(s_tb_flux))\n",
    "    script_tb_flux()\n",
    "    \n",
    "    # Best-fit values\n",
    "    show_html(climahtml.getHTML_idanchor(s_bestfits))\n",
    "    show_markdown(climahtml.getMarkdown_sectitle(s_bestfits))\n",
    "    print_bestfit_params()\n",
    "   \n",
    "    "
   ]
  },
  {
   "cell_type": "code",
   "execution_count": 12,
   "metadata": {
    "collapsed": true,
    "scrolled": false
   },
   "outputs": [
    {
     "data": {
      "text/markdown": [
       "### CLIRAD-LW"
      ],
      "text/plain": [
       "<IPython.core.display.Markdown object>"
      ]
     },
     "metadata": {},
     "output_type": "display_data"
    },
    {
     "data": {
      "text/markdown": [
       "### Table of Contents"
      ],
      "text/plain": [
       "<IPython.core.display.Markdown object>"
      ]
     },
     "metadata": {},
     "output_type": "display_data"
    },
    {
     "data": {
      "text/html": [
       "<a href=\"#Input_Parameters\">Input Parameters</a>"
      ],
      "text/plain": [
       "<IPython.core.display.HTML object>"
      ]
     },
     "metadata": {},
     "output_type": "display_data"
    },
    {
     "data": {
      "text/html": [
       "<a href=\"#LBLNEW_case_compaired_against\">LBLNEW case compaired against</a>"
      ],
      "text/plain": [
       "<IPython.core.display.HTML object>"
      ]
     },
     "metadata": {},
     "output_type": "display_data"
    },
    {
     "data": {
      "text/html": [
       "<a href=\"#Cooling_Rate_Profiles\">Cooling Rate Profiles</a>"
      ],
      "text/plain": [
       "<IPython.core.display.HTML object>"
      ]
     },
     "metadata": {},
     "output_type": "display_data"
    },
    {
     "data": {
      "text/html": [
       "<a href=\"#Flux_Comparison\">Flux Comparison</a>"
      ],
      "text/plain": [
       "<IPython.core.display.HTML object>"
      ]
     },
     "metadata": {},
     "output_type": "display_data"
    },
    {
     "data": {
      "text/html": [
       "<a href=\"#Best-fit_Parameters\">Best-fit Parameters</a>"
      ],
      "text/plain": [
       "<IPython.core.display.HTML object>"
      ]
     },
     "metadata": {},
     "output_type": "display_data"
    },
    {
     "data": {
      "text/html": [
       "<a id=\"Input_Parameters\"></a>"
      ],
      "text/plain": [
       "<IPython.core.display.HTML object>"
      ]
     },
     "metadata": {},
     "output_type": "display_data"
    },
    {
     "data": {
      "text/markdown": [
       "# Input Parameters"
      ],
      "text/plain": [
       "<IPython.core.display.Markdown object>"
      ]
     },
     "metadata": {},
     "output_type": "display_data"
    },
    {
     "name": "stdout",
     "output_type": "stream",
     "text": [
      "atmpro = trp\n",
      "band = [4]\n",
      "commitnumber = de5d43e\n",
      "molecule = {'h2o': 'atmpro'}\n",
      "tsfc = 300\n"
     ]
    },
    {
     "data": {
      "text/html": [
       "<a id=\"LBLNEW_case_compaired_against\"></a>"
      ],
      "text/plain": [
       "<IPython.core.display.HTML object>"
      ]
     },
     "metadata": {},
     "output_type": "display_data"
    },
    {
     "data": {
      "text/markdown": [
       "# LBLNEW case compaired against"
      ],
      "text/plain": [
       "<IPython.core.display.Markdown object>"
      ]
     },
     "metadata": {},
     "output_type": "display_data"
    },
    {
     "name": "stdout",
     "output_type": "stream",
     "text": [
      "atmpro = trp\n",
      "band = 3b\n",
      "commitnumber = 5014a19\n",
      "conc = None\n",
      "dv = 0.001\n",
      "klin = 1e-24\n",
      "molecule = h2o\n",
      "ng_adju = [0]\n",
      "ng_refs = [6]\n",
      "nv = 1000\n",
      "option_compute_btable = 0\n",
      "option_compute_ktable = 0\n",
      "option_wgt_flux = 1\n",
      "option_wgt_k = 1\n",
      "ref_pts = [(600, 250)]\n",
      "tsfc = 300\n",
      "vmax = 720\n",
      "vmin = 620\n",
      "w_diffuse = [(1.66, 1.66, 1.66, 1.55, 1.5, 1.66)]\n",
      "wgt = [(0.8, 0.8, 0.8, 0.6, 0.6, 0.9)]\n"
     ]
    },
    {
     "data": {
      "text/html": [
       "<a id=\"Cooling_Rate_Profiles\"></a>"
      ],
      "text/plain": [
       "<IPython.core.display.HTML object>"
      ]
     },
     "metadata": {},
     "output_type": "display_data"
    },
    {
     "data": {
      "text/markdown": [
       "# Cooling Rate Profiles"
      ],
      "text/plain": [
       "<IPython.core.display.Markdown object>"
      ]
     },
     "metadata": {},
     "output_type": "display_data"
    },
    {
     "data": {
      "text/html": [
       "\n",
       "<div class=\"bk-root\">\n",
       "    <div class=\"bk-plotdiv\" id=\"282278cc-7700-4ab9-aa34-318a815936c6\"></div>\n",
       "</div>"
      ]
     },
     "metadata": {},
     "output_type": "display_data"
    },
    {
     "data": {
      "application/javascript": [
       "(function(root) {\n",
       "  function embed_document(root) {\n",
       "    \n",
       "  var docs_json = {\"e52bdfff-7ee4-4490-916c-817cef44ec12\":{\"roots\":{\"references\":[{\"attributes\":{\"toolbar\":{\"id\":\"85025181-9506-46eb-90f3-711a88f62a36\",\"type\":\"ProxyToolbar\"},\"toolbar_location\":\"above\"},\"id\":\"23a98a2e-7f8a-416e-a4fa-e304470423da\",\"type\":\"ToolbarBox\"},{\"attributes\":{},\"id\":\"39bf6850-a4dd-4af1-a734-774d87045465\",\"type\":\"WheelZoomTool\"},{\"attributes\":{\"children\":[{\"id\":\"23a98a2e-7f8a-416e-a4fa-e304470423da\",\"type\":\"ToolbarBox\"},{\"id\":\"708d8e0b-d517-4bc1-93af-bb5c7eede804\",\"type\":\"Column\"}]},\"id\":\"c65048d0-da84-49c1-a493-7d5c32921b62\",\"type\":\"Column\"},{\"attributes\":{\"callback\":null,\"data\":{\"x\":{\"__ndarray__\":\"IhxxWz6JID9O4xeg8IohP3xPWhpTrCM/h7Z9PrPsJT+Y2GbPPUMoP3TQJ9v9rCo/5bmi0GQsLT8VrK0r8b8vPzuNgcLlNjE/vVkh8r+YMj9HYWAFOQc0P9zi68x/gjU/ZkUDF+kLNz8g7HYl1hI5P7CnTHE4dUA/Uvq4UkoPSj+QfMdnMJFUPxh6Tv88wl4/7ehmHHYhZj+T7OtZxPJuP1TGvqqTKHU/SJE+L5GZez/+L1ptZdV9Py87VOuuAHs/E2VzvXusdj98Xwj0Y75xP8TkQ5AHAms/PQTuLSdQZD8rYGFNFS9eP/mR6hmMGlY/c6dEGDy/Tz8HYaLEHR1GP47jE6vwMj0/HHPTYVgGMT+jfhW+rjcSP/r+QcMmGBa/pBE/i+DsIr/2PGNZX9kev+4C7zziYeW+Y+eRSHtTJT8E6y0pt7NCPyVZz51ca2E/wePtnsJldz+40MCIsPOIP86qwqtUbJY/acB5oRvCoT+abgKhL5ypP3VVoBaDB7E/33N51uKRtD94kMxacqu4P+ULvXJ7Ub0/o95bqjVBwT+MCO9A1x3EPwMKs9g/Msc/wns3q3iCyj8ZqfdUTvvNP90bjY2KydA/Lb+AHJyh0j9KXt9/EnzUP00r6GrpWdY/oCZECq8u2D8XkXJBx9jZP+pdWfX7Nts/yhgfZi/b3T/sVDNKGzffP4iLN41Ir98/9e886Sul3z9szOuIQzbeP2IeKnT7+Nw/vLBWaWIs3D/xSP5Yb7HbP4GbYmHKeNs/c78BNc6J2z8BeWXNfhPcP7LxYIvd/t4/\",\"dtype\":\"float64\",\"shape\":[75]},\"y\":{\"__ndarray__\":\"GhExyth1ND/Sv8nbtpRIP2vylNV0PVE/aTum7souWD/At0SJ8fVgPw3Iuahxymc/MSNhhJWvcD/bTfBN02d3P2zb5nxnaoA/CD5h5MAGhz8NmeH1TyaQP+zrCsc9p5Y/LbKd76fGnz/bLW5ISEmmPww9YvTcQq8/JV2OstnstT8Er5Y7M8G+P0c+r3jqkcU/5h99k6ZBzj88bCIzFzjVP4enV8oyxN0//yH99nXg5D8qOpLLf0jtP5kqGJXUifQ/c9cS8kHP/D+/DpwzojQEQIEmwoanVwxA4lgXt9HgE0BSSZ2AJuIbQAMJih9jjiNA5q4l5INuK0AwTKYKRj0zQNv5fmq8/DpAaCJseHrtQkB/+zpwzoxKQM3MzMzMeFJAZmZmZmZqWEAAAAAAAFxeQM3MzMzMJmJAmpmZmZkfZUBmZmZmZhhoQDMzMzMzEWtAAAAAAAAKbkBmZmZmZoFwQM3MzMzM/XFAMzMzMzN6c0CamZmZmfZ0QAAAAAAAc3ZAZmZmZmbvd0DNzMzMzGt5QDMzMzMz6HpAmpmZmZlkfEAAAAAAAOF9QGZmZmZmXX9AZmZmZuZsgECamZmZGSuBQM3MzMxM6YFAAAAAAICngkAzMzMzs2WDQGZmZmbmI4RAmpmZmRnihEDNzMzMTKCFQAAAAACAXoZAMzMzM7Mch0BmZmZm5tqHQJqZmZkZmYhAzczMzExXiUAAAAAAgBWKQDMzMzOz04pAZmZmZuaRi0CamZmZGVCMQM3MzMxMDo1AAAAAAIDMjUAzMzMzs4qOQGZmZmbmSI9A\",\"dtype\":\"float64\",\"shape\":[75]}},\"selected\":{\"id\":\"092f4997-bdab-40cf-9dae-715d488937f1\",\"type\":\"Selection\"},\"selection_policy\":{\"id\":\"2e1bc222-3f5c-4449-9915-415a27db6f94\",\"type\":\"UnionRenderers\"}},\"id\":\"2976ae85-af54-4a5d-96b1-054023244ea3\",\"type\":\"ColumnDataSource\"},{\"attributes\":{\"callback\":null,\"data\":{\"x\":{\"__ndarray__\":\"FnTN8Yw73D4/MEYoE/scvz8eIhMAoxg/cScEodCmHD+wUbgvWQ8gP4MPUJin1CE/5FvEBhyGIz/EyZBciWklP58fPwWLPSc/tmjRts0zKT9wDVmNf0ArP+UNRYfwVS0/oZkXnU8jLz+irxNhrxsvP/IeOQqR5DQ/szdlqLK6QT+h8wxAA3JMP3LYtXFPTVU//50wyvOlXj91sCgrmWplP5iLvlojdm0/npoCSqCQcz8oJA8I2HV1PxdfehyCunM/6m3Mn7HecD/1qEZPlPtqPwKwMZMX/mQ/3IrLmXchYD9I4cai815YP2TN86DTBVI//1iDPzrdST+7eP5K+MNBP0+gh0wBrjY/XGgTBqerKD8gGCE6VOkCPykhmLJ94xa/q95dEqoRIr8RA6vTkiEfv8xqDr12jQK/zYtImtzEGT9ysjEQu187P1c9lDT8OFw/JKRkrMzRdD8dGAGUDQuIP5psTQS7q5Y/Sm9N9Ngaoj8LEJPdvb2pP8rck78vObE/+zwRhxYgtT+/qwmVxAG5P5cWu55kgrw/wH/KY5MdwD/mK1gVp3vCP1Cnn+TMfsU/HzMO/Sz5yD8Y5DYzXXzMPw0M7kHnuc8/wXf28MBb0T+D9k0OXdjSP14L/qewjNQ/nDeItXyN1j85rLpYYq/YP2StBP8Zrdo/IE2r1+P03T9iNtgGtNXfPyru7OnyP+A/+YmgvTw14D9cxvJTwc3eP01ha9cAfN0/svN4Ug3Y3D+bkb21fsDcP6KE02EJFN0/K7rc/X3I3T/M5VDQN/PeP1wejFTvG+E/\",\"dtype\":\"float64\",\"shape\":[75]},\"y\":{\"__ndarray__\":\"S/O/Q+51ND/Sv8nbtpRIP2vylNV0PVE/aTum7souWD/At0SJ8fVgPw3Iuahxymc/MSNhhJWvcD/bTfBN02d3P2zb5nxnaoA/CD5h5MAGhz8NmeH1TyaQP+zrCsc9p5Y/LbKd76fGnz/bLW5ISEmmPww9YvTcQq8/JV2OstnstT8Er5Y7M8G+P0c+r3jqkcU/5h99k6ZBzj88bCIzFzjVP4enV8oyxN0//yH99nXg5D8qOpLLf0jtP5kqGJXUifQ/c9cS8kHP/D+/DpwzojQEQIEmwoanVwxA4lgXt9HgE0BSSZ2AJuIbQAMJih9jjiNA5q4l5INuK0AwTKYKRj0zQNv5fmq8/DpAaCJseHrtQkB/+zpwzoxKQM3MzMzMeFJAZmZmZmZqWEAAAAAAAFxeQM3MzMzMJmJAmpmZmZkfZUBmZmZmZhhoQDMzMzMzEWtAAAAAAAAKbkBmZmZmZoFwQM3MzMzM/XFAMzMzMzN6c0CamZmZmfZ0QAAAAAAAc3ZAZmZmZmbvd0DNzMzMzGt5QDMzMzMz6HpAmpmZmZlkfEAAAAAAAOF9QGZmZmZmXX9AZmZmZuZsgECamZmZGSuBQM3MzMxM6YFAAAAAAICngkAzMzMzs2WDQGZmZmbmI4RAmpmZmRnihEDNzMzMTKCFQAAAAACAXoZAMzMzM7Mch0BmZmZm5tqHQJqZmZkZmYhAzczMzExXiUAAAAAAgBWKQDMzMzOz04pAZmZmZuaRi0CamZmZGVCMQM3MzMxMDo1AAAAAAIDMjUAzMzMzs4qOQGZmZmbmSI9A\",\"dtype\":\"float64\",\"shape\":[75]}},\"selected\":{\"id\":\"ed0992c3-e501-4ad1-942a-78447df6dcdc\",\"type\":\"Selection\"},\"selection_policy\":{\"id\":\"3115efb4-da21-4aaa-834f-7b0a5a7b61bf\",\"type\":\"UnionRenderers\"}},\"id\":\"76097370-d919-4507-9d6e-3589d8efaa8b\",\"type\":\"ColumnDataSource\"},{\"attributes\":{\"overlay\":{\"id\":\"00185055-0f87-4283-aedf-355a69593922\",\"type\":\"BoxAnnotation\"}},\"id\":\"aef40209-6cb1-4043-a7e1-8e61a43fa6fe\",\"type\":\"BoxZoomTool\"},{\"attributes\":{},\"id\":\"ba6e7e0a-3833-4bae-818b-58df91fbf4aa\",\"type\":\"PanTool\"},{\"attributes\":{},\"id\":\"c6e4cd78-80af-4e7b-af7b-5e8dbc54dbe3\",\"type\":\"LinearScale\"},{\"attributes\":{\"line_alpha\":0.6,\"line_color\":\"#e41a1c\",\"line_dash\":[6],\"line_width\":5,\"x\":{\"field\":\"x\"},\"y\":{\"field\":\"y\"}},\"id\":\"f169db7c-9ff0-47db-a641-bc7884f0dd2f\",\"type\":\"Line\"},{\"attributes\":{},\"id\":\"c18b03bf-8c90-47be-bcf9-43d0dae85a02\",\"type\":\"LinearScale\"},{\"attributes\":{\"axis_label\":\"cooling rate [K/day]\",\"formatter\":{\"id\":\"e56046df-d40d-449d-a3ee-1e82f6abab45\",\"type\":\"BasicTickFormatter\"},\"plot\":{\"id\":\"7655355b-61f2-4789-ad9f-94d38011e1ea\",\"subtype\":\"Figure\",\"type\":\"Plot\"},\"ticker\":{\"id\":\"1a849150-3063-47bc-9dfe-652e5f64f19f\",\"type\":\"BasicTicker\"}},\"id\":\"1e9fd5c6-c498-4728-9911-bf1e2fb7abab\",\"type\":\"LinearAxis\"},{\"attributes\":{},\"id\":\"fa03bcca-521d-4320-8a4d-de432482a0ed\",\"type\":\"BasicTicker\"},{\"attributes\":{\"line_alpha\":0.6,\"line_color\":\"#e41a1c\",\"line_dash\":[6],\"line_width\":5,\"x\":{\"field\":\"x\"},\"y\":{\"field\":\"y\"}},\"id\":\"c3e56bc3-b346-4f7a-8ee0-d57f32f90f65\",\"type\":\"Line\"},{\"attributes\":{},\"id\":\"1a849150-3063-47bc-9dfe-652e5f64f19f\",\"type\":\"BasicTicker\"},{\"attributes\":{\"data_source\":{\"id\":\"88ee723b-e1a8-493f-b522-e9ec947d67aa\",\"type\":\"ColumnDataSource\"},\"glyph\":{\"id\":\"619005d5-8698-40e6-91ab-bb32930b3ec8\",\"type\":\"Line\"},\"hover_glyph\":null,\"muted_glyph\":null,\"nonselection_glyph\":{\"id\":\"bf242802-69db-450e-87f1-543af7c0c148\",\"type\":\"Line\"},\"selection_glyph\":null,\"view\":{\"id\":\"cf337c82-a0e7-46cb-b020-e8dd8c29dc1a\",\"type\":\"CDSView\"}},\"id\":\"77ce60d0-97fd-4f94-bdc9-5d1cee467b29\",\"type\":\"GlyphRenderer\"},{\"attributes\":{},\"id\":\"4dfbce4f-e994-4dd1-b73d-7aa5a14138a9\",\"type\":\"LinearScale\"},{\"attributes\":{\"axis_label\":\"pressure [mb]\",\"formatter\":{\"id\":\"01cdecd7-bb0c-4d31-9574-05828a17517b\",\"type\":\"LogTickFormatter\"},\"plot\":{\"id\":\"7655355b-61f2-4789-ad9f-94d38011e1ea\",\"subtype\":\"Figure\",\"type\":\"Plot\"},\"ticker\":{\"id\":\"23e414fa-1b94-4b60-9119-c1ca40aff7f7\",\"type\":\"LogTicker\"}},\"id\":\"e97ba17c-642b-49ab-a70e-660f2ec25440\",\"type\":\"LogAxis\"},{\"attributes\":{},\"id\":\"4b5ed8b2-df4a-478c-b1d9-17570bbde5af\",\"type\":\"ResetTool\"},{\"attributes\":{},\"id\":\"4505b06f-af8f-41ec-aaf4-fc4d2d3cd154\",\"type\":\"SaveTool\"},{\"attributes\":{\"bottom_units\":\"screen\",\"fill_alpha\":{\"value\":0.5},\"fill_color\":{\"value\":\"lightgrey\"},\"left_units\":\"screen\",\"level\":\"overlay\",\"line_alpha\":{\"value\":1.0},\"line_color\":{\"value\":\"black\"},\"line_dash\":[4,4],\"line_width\":{\"value\":2},\"plot\":null,\"render_mode\":\"css\",\"right_units\":\"screen\",\"top_units\":\"screen\"},\"id\":\"00185055-0f87-4283-aedf-355a69593922\",\"type\":\"BoxAnnotation\"},{\"attributes\":{\"dimension\":1,\"plot\":{\"id\":\"7655355b-61f2-4789-ad9f-94d38011e1ea\",\"subtype\":\"Figure\",\"type\":\"Plot\"},\"ticker\":{\"id\":\"23e414fa-1b94-4b60-9119-c1ca40aff7f7\",\"type\":\"LogTicker\"}},\"id\":\"4a9d433c-4913-4e3b-8f54-42cda9e38e3d\",\"type\":\"Grid\"},{\"attributes\":{},\"id\":\"afd1d274-0ca1-44d1-89ad-e177fee7c623\",\"type\":\"SaveTool\"},{\"attributes\":{\"callback\":null,\"end\":0.5400080849909287,\"start\":-0.0054945440837987},\"id\":\"a381f571-d8ae-4775-94e0-938f27752c9b\",\"type\":\"Range1d\"},{\"attributes\":{\"below\":[{\"id\":\"55bd53e0-8db6-4ae4-92a2-dcc5533bcb0d\",\"type\":\"LinearAxis\"}],\"left\":[{\"id\":\"c55020b5-de04-41d4-a427-3570025edfd5\",\"type\":\"LinearAxis\"}],\"plot_height\":500,\"plot_width\":400,\"renderers\":[{\"id\":\"55bd53e0-8db6-4ae4-92a2-dcc5533bcb0d\",\"type\":\"LinearAxis\"},{\"id\":\"1f677a92-0811-4ab9-98cf-bcaa6bca5b27\",\"type\":\"Grid\"},{\"id\":\"c55020b5-de04-41d4-a427-3570025edfd5\",\"type\":\"LinearAxis\"},{\"id\":\"af265b8d-7b30-4b57-a454-74f9ed227b7b\",\"type\":\"Grid\"},{\"id\":\"74f40120-49a1-41c5-81c1-0e16e2624c43\",\"type\":\"BoxAnnotation\"},{\"id\":\"dbc830b5-c733-468b-a020-8336eff97401\",\"type\":\"GlyphRenderer\"},{\"id\":\"f0f36003-a5ac-45b3-ae74-8a85bb2e1f59\",\"type\":\"GlyphRenderer\"},{\"id\":\"8df1da5f-3c94-4dbf-9c22-cd96fe88c9f7\",\"type\":\"GlyphRenderer\"},{\"id\":\"521ecd5d-ad86-413e-a06a-05063d8db003\",\"type\":\"GlyphRenderer\"},{\"id\":\"77ce60d0-97fd-4f94-bdc9-5d1cee467b29\",\"type\":\"GlyphRenderer\"}],\"title\":{\"id\":\"922f09d9-fed1-4c62-8bb2-38598befc356\",\"type\":\"Title\"},\"toolbar\":{\"id\":\"31b5a75e-e608-4f2d-b77c-444a924d71fd\",\"type\":\"Toolbar\"},\"toolbar_location\":null,\"x_range\":{\"id\":\"a381f571-d8ae-4775-94e0-938f27752c9b\",\"type\":\"Range1d\"},\"x_scale\":{\"id\":\"4dfbce4f-e994-4dd1-b73d-7aa5a14138a9\",\"type\":\"LinearScale\"},\"y_range\":{\"id\":\"10dd0344-f2a4-4b94-b87f-e4cf36e12e53\",\"type\":\"Range1d\"},\"y_scale\":{\"id\":\"c18b03bf-8c90-47be-bcf9-43d0dae85a02\",\"type\":\"LinearScale\"}},\"id\":\"35436e06-66e5-4dda-a669-eb22bba8133b\",\"subtype\":\"Figure\",\"type\":\"Plot\"},{\"attributes\":{\"line_alpha\":0.6,\"line_color\":\"#984ea3\",\"line_width\":3,\"x\":{\"field\":\"x\"},\"y\":{\"field\":\"y\"}},\"id\":\"4eb9e055-66cf-44e7-8d45-980b3e9d7bee\",\"type\":\"Line\"},{\"attributes\":{\"num_minor_ticks\":10},\"id\":\"23e414fa-1b94-4b60-9119-c1ca40aff7f7\",\"type\":\"LogTicker\"},{\"attributes\":{\"active_drag\":\"auto\",\"active_inspect\":\"auto\",\"active_scroll\":\"auto\",\"active_tap\":\"auto\",\"tools\":[{\"id\":\"ba6e7e0a-3833-4bae-818b-58df91fbf4aa\",\"type\":\"PanTool\"},{\"id\":\"e142d2a9-fa54-4d84-a69f-5b84ac0fe11b\",\"type\":\"WheelZoomTool\"},{\"id\":\"ab855814-9406-4b10-9613-35d4849aa99d\",\"type\":\"BoxZoomTool\"},{\"id\":\"4505b06f-af8f-41ec-aaf4-fc4d2d3cd154\",\"type\":\"SaveTool\"},{\"id\":\"2bb188ce-e234-4970-817b-2c7386e1086c\",\"type\":\"ResetTool\"},{\"id\":\"60bbfe2f-ae0a-441e-a2d9-b35092264b0c\",\"type\":\"HelpTool\"}]},\"id\":\"31b5a75e-e608-4f2d-b77c-444a924d71fd\",\"type\":\"Toolbar\"},{\"attributes\":{\"axis_label\":\"pressure [mb]\",\"formatter\":{\"id\":\"2741684d-ce51-4d2c-94b1-785d8ea61e03\",\"type\":\"BasicTickFormatter\"},\"plot\":{\"id\":\"35436e06-66e5-4dda-a669-eb22bba8133b\",\"subtype\":\"Figure\",\"type\":\"Plot\"},\"ticker\":{\"id\":\"6178dc67-745e-49a3-9db4-e719d196e56e\",\"type\":\"BasicTicker\"}},\"id\":\"c55020b5-de04-41d4-a427-3570025edfd5\",\"type\":\"LinearAxis\"},{\"attributes\":{\"plot\":{\"id\":\"7655355b-61f2-4789-ad9f-94d38011e1ea\",\"subtype\":\"Figure\",\"type\":\"Plot\"},\"ticker\":{\"id\":\"1a849150-3063-47bc-9dfe-652e5f64f19f\",\"type\":\"BasicTicker\"}},\"id\":\"35265d9a-e83e-49da-ae5e-5d8f214af0db\",\"type\":\"Grid\"},{\"attributes\":{\"plot\":{\"id\":\"35436e06-66e5-4dda-a669-eb22bba8133b\",\"subtype\":\"Figure\",\"type\":\"Plot\"},\"ticker\":{\"id\":\"fa03bcca-521d-4320-8a4d-de432482a0ed\",\"type\":\"BasicTicker\"}},\"id\":\"1f677a92-0811-4ab9-98cf-bcaa6bca5b27\",\"type\":\"Grid\"},{\"attributes\":{},\"id\":\"6178dc67-745e-49a3-9db4-e719d196e56e\",\"type\":\"BasicTicker\"},{\"attributes\":{\"line_alpha\":0.1,\"line_color\":\"#1f77b4\",\"line_width\":3,\"x\":{\"field\":\"x\"},\"y\":{\"field\":\"y\"}},\"id\":\"2f7f4dc6-aa3b-48d8-9cd7-0881f1650921\",\"type\":\"Line\"},{\"attributes\":{},\"id\":\"23f36d9b-d026-4501-8af8-4dfce6ab2e4c\",\"type\":\"PanTool\"},{\"attributes\":{},\"id\":\"e142d2a9-fa54-4d84-a69f-5b84ac0fe11b\",\"type\":\"WheelZoomTool\"},{\"attributes\":{},\"id\":\"0dabf731-2f99-488f-a1a7-6f78d9c738a8\",\"type\":\"LogScale\"},{\"attributes\":{\"plot\":null,\"text\":\"Linear pressure scale\"},\"id\":\"922f09d9-fed1-4c62-8bb2-38598befc356\",\"type\":\"Title\"},{\"attributes\":{\"plot\":null,\"text\":\"Log pressure scale\"},\"id\":\"bfbb5309-cf3a-44c3-8fec-14dee1b137ff\",\"type\":\"Title\"},{\"attributes\":{\"callback\":null,\"data\":{\"x\":{\"__ndarray__\":\"V4fuYW2RID82paAGAm0hP1GnCmQeNiM/0FOel4YWJT/N8bihdwgnP71dOLdFDCk/dnML31EiKz/JsYVrYUstP+V5eCSuhy8/1BMQVerrMD8yW0SjLx4yP3Lhs4P9WjM//k7yJM2jND/RaryaLVc2P/kmZGWg4jw/GDFJ5kx3Rj+fc+8T7YRRPwbglWNCDVo/HHDIJfq3Yj9QmGrRVTRqPxwnua4L+HE/W9khWS6Tdz8Yl53MdcF5PxhA/v0Vs3c/WagtjmxLdD9fQQnMikBwP0uBborCMmk/uN3WlgVwYz+n2xs7Wl9dPxlta8P11lU/gvypXmWDTz+M+YZ/y9hFP/hkpMvPbjw/KXUBD3EuMD9yG1qVAgUQP8TyZR9J2Ba/z1ys0wUzI7+sTe6uvoogvya6RbkvFAC/0y3+OmH6ID+hcKMWg61AP0M8a++tYGA/xNIxepwJdz8XVaTnZ4SJPxS4Qgqlapc/ovQrij2Roj9zKQdGzo+qP6MKoM1UoLE/vUe6/TJTtT8D7cwMNGK5P0D0PGn1lr0/3KOstiwHwT900UWelZPDPyZHilTohsY/V8a3d87jyT9ZxrDydnLNP4H9Z4KxgdA/aaywiAU+0j/gl5JBe/LTP/d7PE6SsdU/QqwnE7uB1z+k0idaYErZP+cETmU65No/CJIbRlrU3T/NmdRNBoHfPySjU34nGOA/m4GofMoY4D//lJCx7LHeP+pJ6/QEZN0/utoODKia3D8paICrWzzcP+u9awTtNtw/0I9n2zeL3D9xvPUo5V7dP9ngLiXnP+A/\",\"dtype\":\"float64\",\"shape\":[75]},\"y\":{\"__ndarray__\":\"GhExyth1ND/Sv8nbtpRIP2vylNV0PVE/aTum7souWD/At0SJ8fVgPw3Iuahxymc/MSNhhJWvcD/bTfBN02d3P2zb5nxnaoA/CD5h5MAGhz8NmeH1TyaQP+zrCsc9p5Y/LbKd76fGnz/bLW5ISEmmPww9YvTcQq8/JV2OstnstT8Er5Y7M8G+P0c+r3jqkcU/5h99k6ZBzj88bCIzFzjVP4enV8oyxN0//yH99nXg5D8qOpLLf0jtP5kqGJXUifQ/c9cS8kHP/D+/DpwzojQEQIEmwoanVwxA4lgXt9HgE0BSSZ2AJuIbQAMJih9jjiNA5q4l5INuK0AwTKYKRj0zQNv5fmq8/DpAaCJseHrtQkB/+zpwzoxKQM3MzMzMeFJAZmZmZmZqWEAAAAAAAFxeQM3MzMzMJmJAmpmZmZkfZUBmZmZmZhhoQDMzMzMzEWtAAAAAAAAKbkBmZmZmZoFwQM3MzMzM/XFAMzMzMzN6c0CamZmZmfZ0QAAAAAAAc3ZAZmZmZmbvd0DNzMzMzGt5QDMzMzMz6HpAmpmZmZlkfEAAAAAAAOF9QGZmZmZmXX9AZmZmZuZsgECamZmZGSuBQM3MzMxM6YFAAAAAAICngkAzMzMzs2WDQGZmZmbmI4RAmpmZmRnihEDNzMzMTKCFQAAAAACAXoZAMzMzM7Mch0BmZmZm5tqHQJqZmZkZmYhAzczMzExXiUAAAAAAgBWKQDMzMzOz04pAZmZmZuaRi0CamZmZGVCMQM3MzMxMDo1AAAAAAIDMjUAzMzMzs4qOQGZmZmbmSI9A\",\"dtype\":\"float64\",\"shape\":[75]}},\"selected\":{\"id\":\"e58f21d0-7ee4-477c-ac97-b133d0cfb61e\",\"type\":\"Selection\"},\"selection_policy\":{\"id\":\"fd65a8ad-549b-4cac-8b31-700d409c0515\",\"type\":\"UnionRenderers\"}},\"id\":\"176cb5a1-eaf6-4c8f-a46e-d99725107a22\",\"type\":\"ColumnDataSource\"},{\"attributes\":{\"callback\":null,\"end\":0.01,\"start\":1020},\"id\":\"10dd0344-f2a4-4b94-b87f-e4cf36e12e53\",\"type\":\"Range1d\"},{\"attributes\":{\"below\":[{\"id\":\"1e9fd5c6-c498-4728-9911-bf1e2fb7abab\",\"type\":\"LinearAxis\"}],\"left\":[{\"id\":\"e97ba17c-642b-49ab-a70e-660f2ec25440\",\"type\":\"LogAxis\"}],\"plot_height\":500,\"plot_width\":560,\"renderers\":[{\"id\":\"1e9fd5c6-c498-4728-9911-bf1e2fb7abab\",\"type\":\"LinearAxis\"},{\"id\":\"35265d9a-e83e-49da-ae5e-5d8f214af0db\",\"type\":\"Grid\"},{\"id\":\"e97ba17c-642b-49ab-a70e-660f2ec25440\",\"type\":\"LogAxis\"},{\"id\":\"4a9d433c-4913-4e3b-8f54-42cda9e38e3d\",\"type\":\"Grid\"},{\"id\":\"00185055-0f87-4283-aedf-355a69593922\",\"type\":\"BoxAnnotation\"},{\"id\":\"0bbc823c-747f-4f08-8578-63b0a413466f\",\"type\":\"GlyphRenderer\"},{\"id\":\"444c3101-aac6-4c10-8aaa-1d27de884904\",\"type\":\"GlyphRenderer\"},{\"id\":\"c0f8ff81-7eb7-4527-ace7-2ef67be411e6\",\"type\":\"GlyphRenderer\"},{\"id\":\"ccfd55e1-189f-40c4-8cc8-99184eee65ab\",\"type\":\"GlyphRenderer\"},{\"id\":\"2ac8898d-d2a6-4c66-a816-71b3d9a7855f\",\"type\":\"GlyphRenderer\"},{\"id\":\"47577965-0b2c-46d5-8d13-56f4d2bd3d19\",\"type\":\"Legend\"}],\"right\":[{\"id\":\"47577965-0b2c-46d5-8d13-56f4d2bd3d19\",\"type\":\"Legend\"}],\"title\":{\"id\":\"bfbb5309-cf3a-44c3-8fec-14dee1b137ff\",\"type\":\"Title\"},\"toolbar\":{\"id\":\"43c2f092-d056-4fe3-9271-595923c7db76\",\"type\":\"Toolbar\"},\"toolbar_location\":null,\"x_range\":{\"id\":\"213c508f-1bdc-484a-a113-d1c3045046cd\",\"type\":\"Range1d\"},\"x_scale\":{\"id\":\"c6e4cd78-80af-4e7b-af7b-5e8dbc54dbe3\",\"type\":\"LinearScale\"},\"y_range\":{\"id\":\"885e98b5-81d2-4bc3-aef6-ee8f512f089e\",\"type\":\"Range1d\"},\"y_scale\":{\"id\":\"0dabf731-2f99-488f-a1a7-6f78d9c738a8\",\"type\":\"LogScale\"}},\"id\":\"7655355b-61f2-4789-ad9f-94d38011e1ea\",\"subtype\":\"Figure\",\"type\":\"Plot\"},{\"attributes\":{\"source\":{\"id\":\"1f105f24-05f4-48d1-8768-e38486b6e369\",\"type\":\"ColumnDataSource\"}},\"id\":\"082b7cd0-693b-4319-b3d3-1421935d0599\",\"type\":\"CDSView\"},{\"attributes\":{\"data_source\":{\"id\":\"1f105f24-05f4-48d1-8768-e38486b6e369\",\"type\":\"ColumnDataSource\"},\"glyph\":{\"id\":\"1217be54-7d77-4fbb-9be8-d2c9a52d803d\",\"type\":\"Square\"},\"hover_glyph\":null,\"muted_glyph\":null,\"nonselection_glyph\":{\"id\":\"8c6c0b86-9f6e-4683-b653-baf45d1e4733\",\"type\":\"Square\"},\"selection_glyph\":null,\"view\":{\"id\":\"082b7cd0-693b-4319-b3d3-1421935d0599\",\"type\":\"CDSView\"}},\"id\":\"ccfd55e1-189f-40c4-8cc8-99184eee65ab\",\"type\":\"GlyphRenderer\"},{\"attributes\":{\"fill_alpha\":{\"value\":0.7},\"fill_color\":{\"value\":\"#4daf4a\"},\"line_alpha\":{\"value\":0.7},\"line_color\":{\"value\":\"#4daf4a\"},\"x\":{\"field\":\"x\"},\"y\":{\"field\":\"y\"}},\"id\":\"d7376997-0cef-42b8-ac59-b8488eda83a9\",\"type\":\"Circle\"},{\"attributes\":{\"dimension\":1,\"plot\":{\"id\":\"35436e06-66e5-4dda-a669-eb22bba8133b\",\"subtype\":\"Figure\",\"type\":\"Plot\"},\"ticker\":{\"id\":\"6178dc67-745e-49a3-9db4-e719d196e56e\",\"type\":\"BasicTicker\"}},\"id\":\"af265b8d-7b30-4b57-a454-74f9ed227b7b\",\"type\":\"Grid\"},{\"attributes\":{\"callback\":null,\"end\":0.0073578892769287,\"start\":-0.00022077976979869999},\"id\":\"213c508f-1bdc-484a-a113-d1c3045046cd\",\"type\":\"Range1d\"},{\"attributes\":{\"items\":[{\"id\":\"11e6ebc3-d145-4ea6-83d8-ac44cfc235f4\",\"type\":\"LegendItem\"},{\"id\":\"c8633681-ed5c-41b2-832d-696e3273d4fe\",\"type\":\"LegendItem\"},{\"id\":\"60737b40-1115-4c73-b73b-d997eac9249f\",\"type\":\"LegendItem\"}],\"label_text_font_size\":{\"value\":\"8pt\"},\"location\":[10,-30],\"plot\":{\"id\":\"7655355b-61f2-4789-ad9f-94d38011e1ea\",\"subtype\":\"Figure\",\"type\":\"Plot\"}},\"id\":\"47577965-0b2c-46d5-8d13-56f4d2bd3d19\",\"type\":\"Legend\"},{\"attributes\":{\"source\":{\"id\":\"88ee723b-e1a8-493f-b522-e9ec947d67aa\",\"type\":\"ColumnDataSource\"}},\"id\":\"cf337c82-a0e7-46cb-b020-e8dd8c29dc1a\",\"type\":\"CDSView\"},{\"attributes\":{\"active_drag\":\"auto\",\"active_inspect\":\"auto\",\"active_scroll\":\"auto\",\"active_tap\":\"auto\",\"tools\":[{\"id\":\"23f36d9b-d026-4501-8af8-4dfce6ab2e4c\",\"type\":\"PanTool\"},{\"id\":\"39bf6850-a4dd-4af1-a734-774d87045465\",\"type\":\"WheelZoomTool\"},{\"id\":\"aef40209-6cb1-4043-a7e1-8e61a43fa6fe\",\"type\":\"BoxZoomTool\"},{\"id\":\"afd1d274-0ca1-44d1-89ad-e177fee7c623\",\"type\":\"SaveTool\"},{\"id\":\"4b5ed8b2-df4a-478c-b1d9-17570bbde5af\",\"type\":\"ResetTool\"},{\"id\":\"e686f1a1-46ed-4114-82e2-968f279c545f\",\"type\":\"HelpTool\"}]},\"id\":\"43c2f092-d056-4fe3-9271-595923c7db76\",\"type\":\"Toolbar\"},{\"attributes\":{\"overlay\":{\"id\":\"74f40120-49a1-41c5-81c1-0e16e2624c43\",\"type\":\"BoxAnnotation\"}},\"id\":\"ab855814-9406-4b10-9613-35d4849aa99d\",\"type\":\"BoxZoomTool\"},{\"attributes\":{},\"id\":\"e686f1a1-46ed-4114-82e2-968f279c545f\",\"type\":\"HelpTool\"},{\"attributes\":{\"axis_label\":\"cooling rate [K/day]\",\"formatter\":{\"id\":\"94448bf5-075a-4372-a438-dae5f9f5936d\",\"type\":\"BasicTickFormatter\"},\"plot\":{\"id\":\"35436e06-66e5-4dda-a669-eb22bba8133b\",\"subtype\":\"Figure\",\"type\":\"Plot\"},\"ticker\":{\"id\":\"fa03bcca-521d-4320-8a4d-de432482a0ed\",\"type\":\"BasicTicker\"}},\"id\":\"55bd53e0-8db6-4ae4-92a2-dcc5533bcb0d\",\"type\":\"LinearAxis\"},{\"attributes\":{\"callback\":null,\"data\":{\"x\":{\"__ndarray__\":\"FnTN8Yw73D4/MEYoE/scvz8eIhMAoxg/cScEodCmHD+wUbgvWQ8gP4MPUJin1CE/5FvEBhyGIz/EyZBciWklP58fPwWLPSc/tmjRts0zKT9wDVmNf0ArP+UNRYfwVS0/oZkXnU8jLz+irxNhrxsvP/IeOQqR5DQ/szdlqLK6QT+h8wxAA3JMP3LYtXFPTVU//50wyvOlXj91sCgrmWplP5iLvlojdm0/npoCSqCQcz8oJA8I2HV1PxdfehyCunM/6m3Mn7HecD/1qEZPlPtqPwKwMZMX/mQ/3IrLmXchYD9I4cai815YP2TN86DTBVI//1iDPzrdST+7eP5K+MNBP0+gh0wBrjY/XGgTBqerKD8gGCE6VOkCPykhmLJ94xa/q95dEqoRIr8RA6vTkiEfv8xqDr12jQK/zYtImtzEGT9ysjEQu187P1c9lDT8OFw/JKRkrMzRdD8dGAGUDQuIP5psTQS7q5Y/Sm9N9Ngaoj8LEJPdvb2pP8rck78vObE/+zwRhxYgtT+/qwmVxAG5P5cWu55kgrw/wH/KY5MdwD/mK1gVp3vCP1Cnn+TMfsU/HzMO/Sz5yD8Y5DYzXXzMPw0M7kHnuc8/wXf28MBb0T+D9k0OXdjSP14L/qewjNQ/nDeItXyN1j85rLpYYq/YP2StBP8Zrdo/IE2r1+P03T9iNtgGtNXfPyru7OnyP+A/+YmgvTw14D9cxvJTwc3eP01ha9cAfN0/svN4Ug3Y3D+bkb21fsDcP6KE02EJFN0/K7rc/X3I3T/M5VDQN/PeP1wejFTvG+E/\",\"dtype\":\"float64\",\"shape\":[75]},\"y\":{\"__ndarray__\":\"S/O/Q+51ND/Sv8nbtpRIP2vylNV0PVE/aTum7souWD/At0SJ8fVgPw3Iuahxymc/MSNhhJWvcD/bTfBN02d3P2zb5nxnaoA/CD5h5MAGhz8NmeH1TyaQP+zrCsc9p5Y/LbKd76fGnz/bLW5ISEmmPww9YvTcQq8/JV2OstnstT8Er5Y7M8G+P0c+r3jqkcU/5h99k6ZBzj88bCIzFzjVP4enV8oyxN0//yH99nXg5D8qOpLLf0jtP5kqGJXUifQ/c9cS8kHP/D+/DpwzojQEQIEmwoanVwxA4lgXt9HgE0BSSZ2AJuIbQAMJih9jjiNA5q4l5INuK0AwTKYKRj0zQNv5fmq8/DpAaCJseHrtQkB/+zpwzoxKQM3MzMzMeFJAZmZmZmZqWEAAAAAAAFxeQM3MzMzMJmJAmpmZmZkfZUBmZmZmZhhoQDMzMzMzEWtAAAAAAAAKbkBmZmZmZoFwQM3MzMzM/XFAMzMzMzN6c0CamZmZmfZ0QAAAAAAAc3ZAZmZmZmbvd0DNzMzMzGt5QDMzMzMz6HpAmpmZmZlkfEAAAAAAAOF9QGZmZmZmXX9AZmZmZuZsgECamZmZGSuBQM3MzMxM6YFAAAAAAICngkAzMzMzs2WDQGZmZmbmI4RAmpmZmRnihEDNzMzMTKCFQAAAAACAXoZAMzMzM7Mch0BmZmZm5tqHQJqZmZkZmYhAzczMzExXiUAAAAAAgBWKQDMzMzOz04pAZmZmZuaRi0CamZmZGVCMQM3MzMxMDo1AAAAAAIDMjUAzMzMzs4qOQGZmZmbmSI9A\",\"dtype\":\"float64\",\"shape\":[75]}},\"selected\":{\"id\":\"09d2eaa4-64c3-4ecd-a144-a17c5e160103\",\"type\":\"Selection\"},\"selection_policy\":{\"id\":\"686e0690-7462-4903-b422-45b3809701df\",\"type\":\"UnionRenderers\"}},\"id\":\"da22aa30-9c7c-4779-9e95-5b2f9343dfb5\",\"type\":\"ColumnDataSource\"},{\"attributes\":{\"callback\":null,\"data\":{\"x\":{\"__ndarray__\":\"IhxxWz6JID9O4xeg8IohP3xPWhpTrCM/h7Z9PrPsJT+Y2GbPPUMoP3TQJ9v9rCo/5bmi0GQsLT8VrK0r8b8vPzuNgcLlNjE/vVkh8r+YMj9HYWAFOQc0P9zi68x/gjU/ZkUDF+kLNz8g7HYl1hI5P7CnTHE4dUA/Uvq4UkoPSj+QfMdnMJFUPxh6Tv88wl4/7ehmHHYhZj+T7OtZxPJuP1TGvqqTKHU/SJE+L5GZez/+L1ptZdV9Py87VOuuAHs/E2VzvXusdj98Xwj0Y75xP8TkQ5AHAms/PQTuLSdQZD8rYGFNFS9eP/mR6hmMGlY/c6dEGDy/Tz8HYaLEHR1GP47jE6vwMj0/HHPTYVgGMT+jfhW+rjcSP/r+QcMmGBa/pBE/i+DsIr/2PGNZX9kev+4C7zziYeW+Y+eRSHtTJT8E6y0pt7NCPyVZz51ca2E/wePtnsJldz+40MCIsPOIP86qwqtUbJY/acB5oRvCoT+abgKhL5ypP3VVoBaDB7E/33N51uKRtD94kMxacqu4P+ULvXJ7Ub0/o95bqjVBwT+MCO9A1x3EPwMKs9g/Msc/wns3q3iCyj8ZqfdUTvvNP90bjY2KydA/Lb+AHJyh0j9KXt9/EnzUP00r6GrpWdY/oCZECq8u2D8XkXJBx9jZP+pdWfX7Nts/yhgfZi/b3T/sVDNKGzffP4iLN41Ir98/9e886Sul3z9szOuIQzbeP2IeKnT7+Nw/vLBWaWIs3D/xSP5Yb7HbP4GbYmHKeNs/c78BNc6J2z8BeWXNfhPcP7LxYIvd/t4/\",\"dtype\":\"float64\",\"shape\":[75]},\"y\":{\"__ndarray__\":\"GhExyth1ND/Sv8nbtpRIP2vylNV0PVE/aTum7souWD/At0SJ8fVgPw3Iuahxymc/MSNhhJWvcD/bTfBN02d3P2zb5nxnaoA/CD5h5MAGhz8NmeH1TyaQP+zrCsc9p5Y/LbKd76fGnz/bLW5ISEmmPww9YvTcQq8/JV2OstnstT8Er5Y7M8G+P0c+r3jqkcU/5h99k6ZBzj88bCIzFzjVP4enV8oyxN0//yH99nXg5D8qOpLLf0jtP5kqGJXUifQ/c9cS8kHP/D+/DpwzojQEQIEmwoanVwxA4lgXt9HgE0BSSZ2AJuIbQAMJih9jjiNA5q4l5INuK0AwTKYKRj0zQNv5fmq8/DpAaCJseHrtQkB/+zpwzoxKQM3MzMzMeFJAZmZmZmZqWEAAAAAAAFxeQM3MzMzMJmJAmpmZmZkfZUBmZmZmZhhoQDMzMzMzEWtAAAAAAAAKbkBmZmZmZoFwQM3MzMzM/XFAMzMzMzN6c0CamZmZmfZ0QAAAAAAAc3ZAZmZmZmbvd0DNzMzMzGt5QDMzMzMz6HpAmpmZmZlkfEAAAAAAAOF9QGZmZmZmXX9AZmZmZuZsgECamZmZGSuBQM3MzMxM6YFAAAAAAICngkAzMzMzs2WDQGZmZmbmI4RAmpmZmRnihEDNzMzMTKCFQAAAAACAXoZAMzMzM7Mch0BmZmZm5tqHQJqZmZkZmYhAzczMzExXiUAAAAAAgBWKQDMzMzOz04pAZmZmZuaRi0CamZmZGVCMQM3MzMxMDo1AAAAAAIDMjUAzMzMzs4qOQGZmZmbmSI9A\",\"dtype\":\"float64\",\"shape\":[75]}},\"selected\":{\"id\":\"18f1692a-8710-4b3a-8ecb-989b5f7da08b\",\"type\":\"Selection\"},\"selection_policy\":{\"id\":\"15b2f357-f832-4273-8f85-cd5c961607b7\",\"type\":\"UnionRenderers\"}},\"id\":\"477a06d5-424b-4dbb-b65a-b798f51b8300\",\"type\":\"ColumnDataSource\"},{\"attributes\":{\"source\":{\"id\":\"176cb5a1-eaf6-4c8f-a46e-d99725107a22\",\"type\":\"ColumnDataSource\"}},\"id\":\"2142c259-6bc9-42b6-bdaa-003e57e38bd0\",\"type\":\"CDSView\"},{\"attributes\":{},\"id\":\"94448bf5-075a-4372-a438-dae5f9f5936d\",\"type\":\"BasicTickFormatter\"},{\"attributes\":{\"line_alpha\":0.6,\"line_color\":\"#984ea3\",\"line_width\":3,\"x\":{\"field\":\"x\"},\"y\":{\"field\":\"y\"}},\"id\":\"619005d5-8698-40e6-91ab-bb32930b3ec8\",\"type\":\"Line\"},{\"attributes\":{\"bottom_units\":\"screen\",\"fill_alpha\":{\"value\":0.5},\"fill_color\":{\"value\":\"lightgrey\"},\"left_units\":\"screen\",\"level\":\"overlay\",\"line_alpha\":{\"value\":1.0},\"line_color\":{\"value\":\"black\"},\"line_dash\":[4,4],\"line_width\":{\"value\":2},\"plot\":null,\"render_mode\":\"css\",\"right_units\":\"screen\",\"top_units\":\"screen\"},\"id\":\"74f40120-49a1-41c5-81c1-0e16e2624c43\",\"type\":\"BoxAnnotation\"},{\"attributes\":{\"line_alpha\":0.1,\"line_color\":\"#1f77b4\",\"line_dash\":[6],\"line_width\":5,\"x\":{\"field\":\"x\"},\"y\":{\"field\":\"y\"}},\"id\":\"7c7645a4-4d75-4063-9006-45ce7fbe16fe\",\"type\":\"Line\"},{\"attributes\":{\"source\":{\"id\":\"477a06d5-424b-4dbb-b65a-b798f51b8300\",\"type\":\"ColumnDataSource\"}},\"id\":\"690fd6b4-8b58-409d-bf58-2c7c949716bf\",\"type\":\"CDSView\"},{\"attributes\":{\"callback\":null,\"data\":{\"x\":{\"__ndarray__\":\"V4fuYW2RID82paAGAm0hP1GnCmQeNiM/0FOel4YWJT/N8bihdwgnP71dOLdFDCk/dnML31EiKz/JsYVrYUstP+V5eCSuhy8/1BMQVerrMD8yW0SjLx4yP3Lhs4P9WjM//k7yJM2jND/RaryaLVc2P/kmZGWg4jw/GDFJ5kx3Rj+fc+8T7YRRPwbglWNCDVo/HHDIJfq3Yj9QmGrRVTRqPxwnua4L+HE/W9khWS6Tdz8Yl53MdcF5PxhA/v0Vs3c/WagtjmxLdD9fQQnMikBwP0uBborCMmk/uN3WlgVwYz+n2xs7Wl9dPxlta8P11lU/gvypXmWDTz+M+YZ/y9hFP/hkpMvPbjw/KXUBD3EuMD9yG1qVAgUQP8TyZR9J2Ba/z1ys0wUzI7+sTe6uvoogvya6RbkvFAC/0y3+OmH6ID+hcKMWg61AP0M8a++tYGA/xNIxepwJdz8XVaTnZ4SJPxS4Qgqlapc/ovQrij2Roj9zKQdGzo+qP6MKoM1UoLE/vUe6/TJTtT8D7cwMNGK5P0D0PGn1lr0/3KOstiwHwT900UWelZPDPyZHilTohsY/V8a3d87jyT9ZxrDydnLNP4H9Z4KxgdA/aaywiAU+0j/gl5JBe/LTP/d7PE6SsdU/QqwnE7uB1z+k0idaYErZP+cETmU65No/CJIbRlrU3T/NmdRNBoHfPySjU34nGOA/m4GofMoY4D//lJCx7LHeP+pJ6/QEZN0/utoODKia3D8paICrWzzcP+u9awTtNtw/0I9n2zeL3D9xvPUo5V7dP9ngLiXnP+A/\",\"dtype\":\"float64\",\"shape\":[75]},\"y\":{\"__ndarray__\":\"GhExyth1ND/Sv8nbtpRIP2vylNV0PVE/aTum7souWD/At0SJ8fVgPw3Iuahxymc/MSNhhJWvcD/bTfBN02d3P2zb5nxnaoA/CD5h5MAGhz8NmeH1TyaQP+zrCsc9p5Y/LbKd76fGnz/bLW5ISEmmPww9YvTcQq8/JV2OstnstT8Er5Y7M8G+P0c+r3jqkcU/5h99k6ZBzj88bCIzFzjVP4enV8oyxN0//yH99nXg5D8qOpLLf0jtP5kqGJXUifQ/c9cS8kHP/D+/DpwzojQEQIEmwoanVwxA4lgXt9HgE0BSSZ2AJuIbQAMJih9jjiNA5q4l5INuK0AwTKYKRj0zQNv5fmq8/DpAaCJseHrtQkB/+zpwzoxKQM3MzMzMeFJAZmZmZmZqWEAAAAAAAFxeQM3MzMzMJmJAmpmZmZkfZUBmZmZmZhhoQDMzMzMzEWtAAAAAAAAKbkBmZmZmZoFwQM3MzMzM/XFAMzMzMzN6c0CamZmZmfZ0QAAAAAAAc3ZAZmZmZmbvd0DNzMzMzGt5QDMzMzMz6HpAmpmZmZlkfEAAAAAAAOF9QGZmZmZmXX9AZmZmZuZsgECamZmZGSuBQM3MzMxM6YFAAAAAAICngkAzMzMzs2WDQGZmZmbmI4RAmpmZmRnihEDNzMzMTKCFQAAAAACAXoZAMzMzM7Mch0BmZmZm5tqHQJqZmZkZmYhAzczMzExXiUAAAAAAgBWKQDMzMzOz04pAZmZmZuaRi0CamZmZGVCMQM3MzMxMDo1AAAAAAIDMjUAzMzMzs4qOQGZmZmbmSI9A\",\"dtype\":\"float64\",\"shape\":[75]}},\"selected\":{\"id\":\"12554693-0f72-4b67-9d6f-94e676b66187\",\"type\":\"Selection\"},\"selection_policy\":{\"id\":\"4bb6fd99-1e2a-4517-9258-d20dc89136da\",\"type\":\"UnionRenderers\"}},\"id\":\"1f105f24-05f4-48d1-8768-e38486b6e369\",\"type\":\"ColumnDataSource\"},{\"attributes\":{\"data_source\":{\"id\":\"76097370-d919-4507-9d6e-3589d8efaa8b\",\"type\":\"ColumnDataSource\"},\"glyph\":{\"id\":\"c3e56bc3-b346-4f7a-8ee0-d57f32f90f65\",\"type\":\"Line\"},\"hover_glyph\":null,\"muted_glyph\":null,\"nonselection_glyph\":{\"id\":\"7c7645a4-4d75-4063-9006-45ce7fbe16fe\",\"type\":\"Line\"},\"selection_glyph\":null,\"view\":{\"id\":\"2b9351a3-042a-41b5-afa7-226a65d066c2\",\"type\":\"CDSView\"}},\"id\":\"0bbc823c-747f-4f08-8578-63b0a413466f\",\"type\":\"GlyphRenderer\"},{\"attributes\":{\"callback\":null,\"data\":{\"x\":{\"__ndarray__\":\"IhxxWz6JID9O4xeg8IohP3xPWhpTrCM/h7Z9PrPsJT+Y2GbPPUMoP3TQJ9v9rCo/5bmi0GQsLT8VrK0r8b8vPzuNgcLlNjE/vVkh8r+YMj9HYWAFOQc0P9zi68x/gjU/ZkUDF+kLNz8g7HYl1hI5P7CnTHE4dUA/Uvq4UkoPSj+QfMdnMJFUPxh6Tv88wl4/7ehmHHYhZj+T7OtZxPJuP1TGvqqTKHU/SJE+L5GZez/+L1ptZdV9Py87VOuuAHs/E2VzvXusdj98Xwj0Y75xP8TkQ5AHAms/PQTuLSdQZD8rYGFNFS9eP/mR6hmMGlY/c6dEGDy/Tz8HYaLEHR1GP47jE6vwMj0/HHPTYVgGMT+jfhW+rjcSP/r+QcMmGBa/pBE/i+DsIr/2PGNZX9kev+4C7zziYeW+Y+eRSHtTJT8E6y0pt7NCPyVZz51ca2E/wePtnsJldz+40MCIsPOIP86qwqtUbJY/acB5oRvCoT+abgKhL5ypP3VVoBaDB7E/33N51uKRtD94kMxacqu4P+ULvXJ7Ub0/o95bqjVBwT+MCO9A1x3EPwMKs9g/Msc/wns3q3iCyj8ZqfdUTvvNP90bjY2KydA/Lb+AHJyh0j9KXt9/EnzUP00r6GrpWdY/oCZECq8u2D8XkXJBx9jZP+pdWfX7Nts/yhgfZi/b3T/sVDNKGzffP4iLN41Ir98/9e886Sul3z9szOuIQzbeP2IeKnT7+Nw/vLBWaWIs3D/xSP5Yb7HbP4GbYmHKeNs/c78BNc6J2z8BeWXNfhPcP7LxYIvd/t4/\",\"dtype\":\"float64\",\"shape\":[75]},\"y\":{\"__ndarray__\":\"GhExyth1ND/Sv8nbtpRIP2vylNV0PVE/aTum7souWD/At0SJ8fVgPw3Iuahxymc/MSNhhJWvcD/bTfBN02d3P2zb5nxnaoA/CD5h5MAGhz8NmeH1TyaQP+zrCsc9p5Y/LbKd76fGnz/bLW5ISEmmPww9YvTcQq8/JV2OstnstT8Er5Y7M8G+P0c+r3jqkcU/5h99k6ZBzj88bCIzFzjVP4enV8oyxN0//yH99nXg5D8qOpLLf0jtP5kqGJXUifQ/c9cS8kHP/D+/DpwzojQEQIEmwoanVwxA4lgXt9HgE0BSSZ2AJuIbQAMJih9jjiNA5q4l5INuK0AwTKYKRj0zQNv5fmq8/DpAaCJseHrtQkB/+zpwzoxKQM3MzMzMeFJAZmZmZmZqWEAAAAAAAFxeQM3MzMzMJmJAmpmZmZkfZUBmZmZmZhhoQDMzMzMzEWtAAAAAAAAKbkBmZmZmZoFwQM3MzMzM/XFAMzMzMzN6c0CamZmZmfZ0QAAAAAAAc3ZAZmZmZmbvd0DNzMzMzGt5QDMzMzMz6HpAmpmZmZlkfEAAAAAAAOF9QGZmZmZmXX9AZmZmZuZsgECamZmZGSuBQM3MzMxM6YFAAAAAAICngkAzMzMzs2WDQGZmZmbmI4RAmpmZmRnihEDNzMzMTKCFQAAAAACAXoZAMzMzM7Mch0BmZmZm5tqHQJqZmZkZmYhAzczMzExXiUAAAAAAgBWKQDMzMzOz04pAZmZmZuaRi0CamZmZGVCMQM3MzMxMDo1AAAAAAIDMjUAzMzMzs4qOQGZmZmbmSI9A\",\"dtype\":\"float64\",\"shape\":[75]}},\"selected\":{\"id\":\"41474dc2-3112-4559-8631-594ea8ac278d\",\"type\":\"Selection\"},\"selection_policy\":{\"id\":\"5eb78f4f-5cf3-460a-b0bd-ad22480dd309\",\"type\":\"UnionRenderers\"}},\"id\":\"9ab823f8-3252-40bc-a1a2-552a4090cb4c\",\"type\":\"ColumnDataSource\"},{\"attributes\":{\"fill_alpha\":{\"value\":0.1},\"fill_color\":{\"value\":\"#1f77b4\"},\"line_alpha\":{\"value\":0.1},\"line_color\":{\"value\":\"#1f77b4\"},\"x\":{\"field\":\"x\"},\"y\":{\"field\":\"y\"}},\"id\":\"a8ae33fe-3d22-4bbd-ab44-f7eb120d1be8\",\"type\":\"Circle\"},{\"attributes\":{\"data_source\":{\"id\":\"477a06d5-424b-4dbb-b65a-b798f51b8300\",\"type\":\"ColumnDataSource\"},\"glyph\":{\"id\":\"d6f61203-1394-4d89-9f1c-d03633f72c85\",\"type\":\"Circle\"},\"hover_glyph\":null,\"muted_glyph\":null,\"nonselection_glyph\":{\"id\":\"a8ae33fe-3d22-4bbd-ab44-f7eb120d1be8\",\"type\":\"Circle\"},\"selection_glyph\":null,\"view\":{\"id\":\"690fd6b4-8b58-409d-bf58-2c7c949716bf\",\"type\":\"CDSView\"}},\"id\":\"444c3101-aac6-4c10-8aaa-1d27de884904\",\"type\":\"GlyphRenderer\"},{\"attributes\":{\"source\":{\"id\":\"ca1ba63b-bb77-463f-9574-a302bee781c4\",\"type\":\"ColumnDataSource\"}},\"id\":\"cfbdb88f-a12f-4e6a-bb17-78ffb7205770\",\"type\":\"CDSView\"},{\"attributes\":{\"callback\":null,\"end\":0.01,\"start\":1020},\"id\":\"885e98b5-81d2-4bc3-aef6-ee8f512f089e\",\"type\":\"Range1d\"},{\"attributes\":{},\"id\":\"60bbfe2f-ae0a-441e-a2d9-b35092264b0c\",\"type\":\"HelpTool\"},{\"attributes\":{\"line_color\":\"#4daf4a\",\"line_width\":1.5,\"x\":{\"field\":\"x\"},\"y\":{\"field\":\"y\"}},\"id\":\"1a2045e7-b672-4074-81f6-c02e8de4dfb8\",\"type\":\"Line\"},{\"attributes\":{\"data_source\":{\"id\":\"2976ae85-af54-4a5d-96b1-054023244ea3\",\"type\":\"ColumnDataSource\"},\"glyph\":{\"id\":\"d7376997-0cef-42b8-ac59-b8488eda83a9\",\"type\":\"Circle\"},\"hover_glyph\":null,\"muted_glyph\":null,\"nonselection_glyph\":{\"id\":\"84fb2050-d3d1-465c-94be-a47d64dfb47b\",\"type\":\"Circle\"},\"selection_glyph\":null,\"view\":{\"id\":\"0f39fc1d-49d4-4f97-a28d-26f8b33e6638\",\"type\":\"CDSView\"}},\"id\":\"f0f36003-a5ac-45b3-ae74-8a85bb2e1f59\",\"type\":\"GlyphRenderer\"},{\"attributes\":{\"line_color\":\"#4daf4a\",\"line_width\":1.5,\"x\":{\"field\":\"x\"},\"y\":{\"field\":\"y\"}},\"id\":\"8934781f-5c2a-4966-89a5-9b56e0ce4135\",\"type\":\"Line\"},{\"attributes\":{\"fill_alpha\":{\"value\":0.7},\"fill_color\":{\"value\":\"#4daf4a\"},\"line_alpha\":{\"value\":0.7},\"line_color\":{\"value\":\"#4daf4a\"},\"x\":{\"field\":\"x\"},\"y\":{\"field\":\"y\"}},\"id\":\"d6f61203-1394-4d89-9f1c-d03633f72c85\",\"type\":\"Circle\"},{\"attributes\":{\"fill_alpha\":{\"value\":0.7},\"fill_color\":{\"value\":\"#984ea3\"},\"line_alpha\":{\"value\":0.7},\"line_color\":{\"value\":\"#984ea3\"},\"x\":{\"field\":\"x\"},\"y\":{\"field\":\"y\"}},\"id\":\"b43fd179-abdc-4049-bad4-6cf0faa89b10\",\"type\":\"Square\"},{\"attributes\":{\"source\":{\"id\":\"76097370-d919-4507-9d6e-3589d8efaa8b\",\"type\":\"ColumnDataSource\"}},\"id\":\"2b9351a3-042a-41b5-afa7-226a65d066c2\",\"type\":\"CDSView\"},{\"attributes\":{\"line_alpha\":0.1,\"line_color\":\"#1f77b4\",\"line_width\":1.5,\"x\":{\"field\":\"x\"},\"y\":{\"field\":\"y\"}},\"id\":\"aec3df40-a23b-409e-b365-6f146c27c384\",\"type\":\"Line\"},{\"attributes\":{\"data_source\":{\"id\":\"ca1ba63b-bb77-463f-9574-a302bee781c4\",\"type\":\"ColumnDataSource\"},\"glyph\":{\"id\":\"8934781f-5c2a-4966-89a5-9b56e0ce4135\",\"type\":\"Line\"},\"hover_glyph\":null,\"muted_glyph\":null,\"nonselection_glyph\":{\"id\":\"c464fe4e-fe34-4c0a-b8fe-dba4939ff49b\",\"type\":\"Line\"},\"selection_glyph\":null,\"view\":{\"id\":\"cfbdb88f-a12f-4e6a-bb17-78ffb7205770\",\"type\":\"CDSView\"}},\"id\":\"8df1da5f-3c94-4dbf-9c22-cd96fe88c9f7\",\"type\":\"GlyphRenderer\"},{\"attributes\":{\"data_source\":{\"id\":\"9ab823f8-3252-40bc-a1a2-552a4090cb4c\",\"type\":\"ColumnDataSource\"},\"glyph\":{\"id\":\"1a2045e7-b672-4074-81f6-c02e8de4dfb8\",\"type\":\"Line\"},\"hover_glyph\":null,\"muted_glyph\":null,\"nonselection_glyph\":{\"id\":\"aec3df40-a23b-409e-b365-6f146c27c384\",\"type\":\"Line\"},\"selection_glyph\":null,\"view\":{\"id\":\"853fa9a5-dbea-4469-bbfc-97c434f9a3e8\",\"type\":\"CDSView\"}},\"id\":\"c0f8ff81-7eb7-4527-ace7-2ef67be411e6\",\"type\":\"GlyphRenderer\"},{\"attributes\":{\"callback\":null,\"data\":{\"x\":{\"__ndarray__\":\"V4fuYW2RID82paAGAm0hP1GnCmQeNiM/0FOel4YWJT/N8bihdwgnP71dOLdFDCk/dnML31EiKz/JsYVrYUstP+V5eCSuhy8/1BMQVerrMD8yW0SjLx4yP3Lhs4P9WjM//k7yJM2jND/RaryaLVc2P/kmZGWg4jw/GDFJ5kx3Rj+fc+8T7YRRPwbglWNCDVo/HHDIJfq3Yj9QmGrRVTRqPxwnua4L+HE/W9khWS6Tdz8Yl53MdcF5PxhA/v0Vs3c/WagtjmxLdD9fQQnMikBwP0uBborCMmk/uN3WlgVwYz+n2xs7Wl9dPxlta8P11lU/gvypXmWDTz+M+YZ/y9hFP/hkpMvPbjw/KXUBD3EuMD9yG1qVAgUQP8TyZR9J2Ba/z1ys0wUzI7+sTe6uvoogvya6RbkvFAC/0y3+OmH6ID+hcKMWg61AP0M8a++tYGA/xNIxepwJdz8XVaTnZ4SJPxS4Qgqlapc/ovQrij2Roj9zKQdGzo+qP6MKoM1UoLE/vUe6/TJTtT8D7cwMNGK5P0D0PGn1lr0/3KOstiwHwT900UWelZPDPyZHilTohsY/V8a3d87jyT9ZxrDydnLNP4H9Z4KxgdA/aaywiAU+0j/gl5JBe/LTP/d7PE6SsdU/QqwnE7uB1z+k0idaYErZP+cETmU65No/CJIbRlrU3T/NmdRNBoHfPySjU34nGOA/m4GofMoY4D//lJCx7LHeP+pJ6/QEZN0/utoODKia3D8paICrWzzcP+u9awTtNtw/0I9n2zeL3D9xvPUo5V7dP9ngLiXnP+A/\",\"dtype\":\"float64\",\"shape\":[75]},\"y\":{\"__ndarray__\":\"GhExyth1ND/Sv8nbtpRIP2vylNV0PVE/aTum7souWD/At0SJ8fVgPw3Iuahxymc/MSNhhJWvcD/bTfBN02d3P2zb5nxnaoA/CD5h5MAGhz8NmeH1TyaQP+zrCsc9p5Y/LbKd76fGnz/bLW5ISEmmPww9YvTcQq8/JV2OstnstT8Er5Y7M8G+P0c+r3jqkcU/5h99k6ZBzj88bCIzFzjVP4enV8oyxN0//yH99nXg5D8qOpLLf0jtP5kqGJXUifQ/c9cS8kHP/D+/DpwzojQEQIEmwoanVwxA4lgXt9HgE0BSSZ2AJuIbQAMJih9jjiNA5q4l5INuK0AwTKYKRj0zQNv5fmq8/DpAaCJseHrtQkB/+zpwzoxKQM3MzMzMeFJAZmZmZmZqWEAAAAAAAFxeQM3MzMzMJmJAmpmZmZkfZUBmZmZmZhhoQDMzMzMzEWtAAAAAAAAKbkBmZmZmZoFwQM3MzMzM/XFAMzMzMzN6c0CamZmZmfZ0QAAAAAAAc3ZAZmZmZmbvd0DNzMzMzGt5QDMzMzMz6HpAmpmZmZlkfEAAAAAAAOF9QGZmZmZmXX9AZmZmZuZsgECamZmZGSuBQM3MzMxM6YFAAAAAAICngkAzMzMzs2WDQGZmZmbmI4RAmpmZmRnihEDNzMzMTKCFQAAAAACAXoZAMzMzM7Mch0BmZmZm5tqHQJqZmZkZmYhAzczMzExXiUAAAAAAgBWKQDMzMzOz04pAZmZmZuaRi0CamZmZGVCMQM3MzMxMDo1AAAAAAIDMjUAzMzMzs4qOQGZmZmbmSI9A\",\"dtype\":\"float64\",\"shape\":[75]}},\"selected\":{\"id\":\"3c927b43-f1f5-402c-ba06-46557b833149\",\"type\":\"Selection\"},\"selection_policy\":{\"id\":\"d8c907b7-db28-42c5-90a2-19808281f0fb\",\"type\":\"UnionRenderers\"}},\"id\":\"88ee723b-e1a8-493f-b522-e9ec947d67aa\",\"type\":\"ColumnDataSource\"},{\"attributes\":{\"source\":{\"id\":\"9ab823f8-3252-40bc-a1a2-552a4090cb4c\",\"type\":\"ColumnDataSource\"}},\"id\":\"853fa9a5-dbea-4469-bbfc-97c434f9a3e8\",\"type\":\"CDSView\"},{\"attributes\":{\"fill_alpha\":{\"value\":0.7},\"fill_color\":{\"value\":\"#984ea3\"},\"line_alpha\":{\"value\":0.7},\"line_color\":{\"value\":\"#984ea3\"},\"x\":{\"field\":\"x\"},\"y\":{\"field\":\"y\"}},\"id\":\"1217be54-7d77-4fbb-9be8-d2c9a52d803d\",\"type\":\"Square\"},{\"attributes\":{\"children\":[{\"id\":\"3db913d1-a492-4fab-aaa1-f773e91e5b9c\",\"type\":\"Row\"}]},\"id\":\"708d8e0b-d517-4bc1-93af-bb5c7eede804\",\"type\":\"Column\"},{\"attributes\":{\"fill_alpha\":{\"value\":0.1},\"fill_color\":{\"value\":\"#1f77b4\"},\"line_alpha\":{\"value\":0.1},\"line_color\":{\"value\":\"#1f77b4\"},\"x\":{\"field\":\"x\"},\"y\":{\"field\":\"y\"}},\"id\":\"8c6c0b86-9f6e-4683-b653-baf45d1e4733\",\"type\":\"Square\"},{\"attributes\":{\"data_source\":{\"id\":\"fcfa37e8-aa53-49e1-8e81-b4275aa6fed7\",\"type\":\"ColumnDataSource\"},\"glyph\":{\"id\":\"b43fd179-abdc-4049-bad4-6cf0faa89b10\",\"type\":\"Square\"},\"hover_glyph\":null,\"muted_glyph\":null,\"nonselection_glyph\":{\"id\":\"3b7130d4-b99c-448b-8134-c930a66f7f2b\",\"type\":\"Square\"},\"selection_glyph\":null,\"view\":{\"id\":\"796409b8-f24b-44b1-8a43-cd6442cb0017\",\"type\":\"CDSView\"}},\"id\":\"521ecd5d-ad86-413e-a06a-05063d8db003\",\"type\":\"GlyphRenderer\"},{\"attributes\":{\"data_source\":{\"id\":\"176cb5a1-eaf6-4c8f-a46e-d99725107a22\",\"type\":\"ColumnDataSource\"},\"glyph\":{\"id\":\"4eb9e055-66cf-44e7-8d45-980b3e9d7bee\",\"type\":\"Line\"},\"hover_glyph\":null,\"muted_glyph\":null,\"nonselection_glyph\":{\"id\":\"2f7f4dc6-aa3b-48d8-9cd7-0881f1650921\",\"type\":\"Line\"},\"selection_glyph\":null,\"view\":{\"id\":\"2142c259-6bc9-42b6-bdaa-003e57e38bd0\",\"type\":\"CDSView\"}},\"id\":\"2ac8898d-d2a6-4c66-a816-71b3d9a7855f\",\"type\":\"GlyphRenderer\"},{\"attributes\":{\"children\":[{\"id\":\"35436e06-66e5-4dda-a669-eb22bba8133b\",\"subtype\":\"Figure\",\"type\":\"Plot\"},{\"id\":\"7655355b-61f2-4789-ad9f-94d38011e1ea\",\"subtype\":\"Figure\",\"type\":\"Plot\"}]},\"id\":\"3db913d1-a492-4fab-aaa1-f773e91e5b9c\",\"type\":\"Row\"},{\"attributes\":{},\"id\":\"2741684d-ce51-4d2c-94b1-785d8ea61e03\",\"type\":\"BasicTickFormatter\"},{\"attributes\":{\"label\":{\"value\":\"CLIRAD `coolr_bands`\"},\"renderers\":[{\"id\":\"0bbc823c-747f-4f08-8578-63b0a413466f\",\"type\":\"GlyphRenderer\"}]},\"id\":\"11e6ebc3-d145-4ea6-83d8-ac44cfc235f4\",\"type\":\"LegendItem\"},{\"attributes\":{},\"id\":\"686e0690-7462-4903-b422-45b3809701df\",\"type\":\"UnionRenderers\"},{\"attributes\":{\"line_alpha\":0.1,\"line_color\":\"#1f77b4\",\"line_dash\":[6],\"line_width\":5,\"x\":{\"field\":\"x\"},\"y\":{\"field\":\"y\"}},\"id\":\"ca0ccd3f-63e1-4396-ab5a-785ff5889f35\",\"type\":\"Line\"},{\"attributes\":{\"label\":{\"value\":\"CRD\"},\"renderers\":[{\"id\":\"444c3101-aac6-4c10-8aaa-1d27de884904\",\"type\":\"GlyphRenderer\"},{\"id\":\"c0f8ff81-7eb7-4527-ace7-2ef67be411e6\",\"type\":\"GlyphRenderer\"}]},\"id\":\"c8633681-ed5c-41b2-832d-696e3273d4fe\",\"type\":\"LegendItem\"},{\"attributes\":{\"callback\":null,\"data\":{\"x\":{\"__ndarray__\":\"IhxxWz6JID9O4xeg8IohP3xPWhpTrCM/h7Z9PrPsJT+Y2GbPPUMoP3TQJ9v9rCo/5bmi0GQsLT8VrK0r8b8vPzuNgcLlNjE/vVkh8r+YMj9HYWAFOQc0P9zi68x/gjU/ZkUDF+kLNz8g7HYl1hI5P7CnTHE4dUA/Uvq4UkoPSj+QfMdnMJFUPxh6Tv88wl4/7ehmHHYhZj+T7OtZxPJuP1TGvqqTKHU/SJE+L5GZez/+L1ptZdV9Py87VOuuAHs/E2VzvXusdj98Xwj0Y75xP8TkQ5AHAms/PQTuLSdQZD8rYGFNFS9eP/mR6hmMGlY/c6dEGDy/Tz8HYaLEHR1GP47jE6vwMj0/HHPTYVgGMT+jfhW+rjcSP/r+QcMmGBa/pBE/i+DsIr/2PGNZX9kev+4C7zziYeW+Y+eRSHtTJT8E6y0pt7NCPyVZz51ca2E/wePtnsJldz+40MCIsPOIP86qwqtUbJY/acB5oRvCoT+abgKhL5ypP3VVoBaDB7E/33N51uKRtD94kMxacqu4P+ULvXJ7Ub0/o95bqjVBwT+MCO9A1x3EPwMKs9g/Msc/wns3q3iCyj8ZqfdUTvvNP90bjY2KydA/Lb+AHJyh0j9KXt9/EnzUP00r6GrpWdY/oCZECq8u2D8XkXJBx9jZP+pdWfX7Nts/yhgfZi/b3T/sVDNKGzffP4iLN41Ir98/9e886Sul3z9szOuIQzbeP2IeKnT7+Nw/vLBWaWIs3D/xSP5Yb7HbP4GbYmHKeNs/c78BNc6J2z8BeWXNfhPcP7LxYIvd/t4/\",\"dtype\":\"float64\",\"shape\":[75]},\"y\":{\"__ndarray__\":\"GhExyth1ND/Sv8nbtpRIP2vylNV0PVE/aTum7souWD/At0SJ8fVgPw3Iuahxymc/MSNhhJWvcD/bTfBN02d3P2zb5nxnaoA/CD5h5MAGhz8NmeH1TyaQP+zrCsc9p5Y/LbKd76fGnz/bLW5ISEmmPww9YvTcQq8/JV2OstnstT8Er5Y7M8G+P0c+r3jqkcU/5h99k6ZBzj88bCIzFzjVP4enV8oyxN0//yH99nXg5D8qOpLLf0jtP5kqGJXUifQ/c9cS8kHP/D+/DpwzojQEQIEmwoanVwxA4lgXt9HgE0BSSZ2AJuIbQAMJih9jjiNA5q4l5INuK0AwTKYKRj0zQNv5fmq8/DpAaCJseHrtQkB/+zpwzoxKQM3MzMzMeFJAZmZmZmZqWEAAAAAAAFxeQM3MzMzMJmJAmpmZmZkfZUBmZmZmZhhoQDMzMzMzEWtAAAAAAAAKbkBmZmZmZoFwQM3MzMzM/XFAMzMzMzN6c0CamZmZmfZ0QAAAAAAAc3ZAZmZmZmbvd0DNzMzMzGt5QDMzMzMz6HpAmpmZmZlkfEAAAAAAAOF9QGZmZmZmXX9AZmZmZuZsgECamZmZGSuBQM3MzMxM6YFAAAAAAICngkAzMzMzs2WDQGZmZmbmI4RAmpmZmRnihEDNzMzMTKCFQAAAAACAXoZAMzMzM7Mch0BmZmZm5tqHQJqZmZkZmYhAzczMzExXiUAAAAAAgBWKQDMzMzOz04pAZmZmZuaRi0CamZmZGVCMQM3MzMxMDo1AAAAAAIDMjUAzMzMzs4qOQGZmZmbmSI9A\",\"dtype\":\"float64\",\"shape\":[75]}},\"selected\":{\"id\":\"ef59a0dd-6113-4deb-9189-fcd35a2a862f\",\"type\":\"Selection\"},\"selection_policy\":{\"id\":\"d54cfba0-1e9b-46bb-b831-70ac338f2da0\",\"type\":\"UnionRenderers\"}},\"id\":\"ca1ba63b-bb77-463f-9574-a302bee781c4\",\"type\":\"ColumnDataSource\"},{\"attributes\":{},\"id\":\"092f4997-bdab-40cf-9dae-715d488937f1\",\"type\":\"Selection\"},{\"attributes\":{\"label\":{\"value\":\"WGT igg=10 wgt_flux=2\"},\"renderers\":[{\"id\":\"ccfd55e1-189f-40c4-8cc8-99184eee65ab\",\"type\":\"GlyphRenderer\"},{\"id\":\"2ac8898d-d2a6-4c66-a816-71b3d9a7855f\",\"type\":\"GlyphRenderer\"}]},\"id\":\"60737b40-1115-4c73-b73b-d997eac9249f\",\"type\":\"LegendItem\"},{\"attributes\":{\"data_source\":{\"id\":\"da22aa30-9c7c-4779-9e95-5b2f9343dfb5\",\"type\":\"ColumnDataSource\"},\"glyph\":{\"id\":\"f169db7c-9ff0-47db-a641-bc7884f0dd2f\",\"type\":\"Line\"},\"hover_glyph\":null,\"muted_glyph\":null,\"nonselection_glyph\":{\"id\":\"ca0ccd3f-63e1-4396-ab5a-785ff5889f35\",\"type\":\"Line\"},\"selection_glyph\":null,\"view\":{\"id\":\"e39ed3fe-1fcf-451f-9086-c4733562176f\",\"type\":\"CDSView\"}},\"id\":\"dbc830b5-c733-468b-a020-8336eff97401\",\"type\":\"GlyphRenderer\"},{\"attributes\":{},\"id\":\"725c2efb-63b6-4227-8902-b0e0dd03f9c3\",\"type\":\"UnionRenderers\"},{\"attributes\":{\"fill_alpha\":{\"value\":0.1},\"fill_color\":{\"value\":\"#1f77b4\"},\"line_alpha\":{\"value\":0.1},\"line_color\":{\"value\":\"#1f77b4\"},\"x\":{\"field\":\"x\"},\"y\":{\"field\":\"y\"}},\"id\":\"3b7130d4-b99c-448b-8134-c930a66f7f2b\",\"type\":\"Square\"},{\"attributes\":{},\"id\":\"ed0992c3-e501-4ad1-942a-78447df6dcdc\",\"type\":\"Selection\"},{\"attributes\":{},\"id\":\"09d2eaa4-64c3-4ecd-a144-a17c5e160103\",\"type\":\"Selection\"},{\"attributes\":{\"source\":{\"id\":\"2976ae85-af54-4a5d-96b1-054023244ea3\",\"type\":\"ColumnDataSource\"}},\"id\":\"0f39fc1d-49d4-4f97-a28d-26f8b33e6638\",\"type\":\"CDSView\"},{\"attributes\":{},\"id\":\"2e1bc222-3f5c-4449-9915-415a27db6f94\",\"type\":\"UnionRenderers\"},{\"attributes\":{},\"id\":\"2bb188ce-e234-4970-817b-2c7386e1086c\",\"type\":\"ResetTool\"},{\"attributes\":{},\"id\":\"681f922f-eaec-45f1-8b4e-5ccc0a5bb771\",\"type\":\"Selection\"},{\"attributes\":{},\"id\":\"d54cfba0-1e9b-46bb-b831-70ac338f2da0\",\"type\":\"UnionRenderers\"},{\"attributes\":{\"callback\":null,\"data\":{\"x\":{\"__ndarray__\":\"V4fuYW2RID82paAGAm0hP1GnCmQeNiM/0FOel4YWJT/N8bihdwgnP71dOLdFDCk/dnML31EiKz/JsYVrYUstP+V5eCSuhy8/1BMQVerrMD8yW0SjLx4yP3Lhs4P9WjM//k7yJM2jND/RaryaLVc2P/kmZGWg4jw/GDFJ5kx3Rj+fc+8T7YRRPwbglWNCDVo/HHDIJfq3Yj9QmGrRVTRqPxwnua4L+HE/W9khWS6Tdz8Yl53MdcF5PxhA/v0Vs3c/WagtjmxLdD9fQQnMikBwP0uBborCMmk/uN3WlgVwYz+n2xs7Wl9dPxlta8P11lU/gvypXmWDTz+M+YZ/y9hFP/hkpMvPbjw/KXUBD3EuMD9yG1qVAgUQP8TyZR9J2Ba/z1ys0wUzI7+sTe6uvoogvya6RbkvFAC/0y3+OmH6ID+hcKMWg61AP0M8a++tYGA/xNIxepwJdz8XVaTnZ4SJPxS4Qgqlapc/ovQrij2Roj9zKQdGzo+qP6MKoM1UoLE/vUe6/TJTtT8D7cwMNGK5P0D0PGn1lr0/3KOstiwHwT900UWelZPDPyZHilTohsY/V8a3d87jyT9ZxrDydnLNP4H9Z4KxgdA/aaywiAU+0j/gl5JBe/LTP/d7PE6SsdU/QqwnE7uB1z+k0idaYErZP+cETmU65No/CJIbRlrU3T/NmdRNBoHfPySjU34nGOA/m4GofMoY4D//lJCx7LHeP+pJ6/QEZN0/utoODKia3D8paICrWzzcP+u9awTtNtw/0I9n2zeL3D9xvPUo5V7dP9ngLiXnP+A/\",\"dtype\":\"float64\",\"shape\":[75]},\"y\":{\"__ndarray__\":\"GhExyth1ND/Sv8nbtpRIP2vylNV0PVE/aTum7souWD/At0SJ8fVgPw3Iuahxymc/MSNhhJWvcD/bTfBN02d3P2zb5nxnaoA/CD5h5MAGhz8NmeH1TyaQP+zrCsc9p5Y/LbKd76fGnz/bLW5ISEmmPww9YvTcQq8/JV2OstnstT8Er5Y7M8G+P0c+r3jqkcU/5h99k6ZBzj88bCIzFzjVP4enV8oyxN0//yH99nXg5D8qOpLLf0jtP5kqGJXUifQ/c9cS8kHP/D+/DpwzojQEQIEmwoanVwxA4lgXt9HgE0BSSZ2AJuIbQAMJih9jjiNA5q4l5INuK0AwTKYKRj0zQNv5fmq8/DpAaCJseHrtQkB/+zpwzoxKQM3MzMzMeFJAZmZmZmZqWEAAAAAAAFxeQM3MzMzMJmJAmpmZmZkfZUBmZmZmZhhoQDMzMzMzEWtAAAAAAAAKbkBmZmZmZoFwQM3MzMzM/XFAMzMzMzN6c0CamZmZmfZ0QAAAAAAAc3ZAZmZmZmbvd0DNzMzMzGt5QDMzMzMz6HpAmpmZmZlkfEAAAAAAAOF9QGZmZmZmXX9AZmZmZuZsgECamZmZGSuBQM3MzMxM6YFAAAAAAICngkAzMzMzs2WDQGZmZmbmI4RAmpmZmRnihEDNzMzMTKCFQAAAAACAXoZAMzMzM7Mch0BmZmZm5tqHQJqZmZkZmYhAzczMzExXiUAAAAAAgBWKQDMzMzOz04pAZmZmZuaRi0CamZmZGVCMQM3MzMxMDo1AAAAAAIDMjUAzMzMzs4qOQGZmZmbmSI9A\",\"dtype\":\"float64\",\"shape\":[75]}},\"selected\":{\"id\":\"681f922f-eaec-45f1-8b4e-5ccc0a5bb771\",\"type\":\"Selection\"},\"selection_policy\":{\"id\":\"725c2efb-63b6-4227-8902-b0e0dd03f9c3\",\"type\":\"UnionRenderers\"}},\"id\":\"fcfa37e8-aa53-49e1-8e81-b4275aa6fed7\",\"type\":\"ColumnDataSource\"},{\"attributes\":{},\"id\":\"ef59a0dd-6113-4deb-9189-fcd35a2a862f\",\"type\":\"Selection\"},{\"attributes\":{},\"id\":\"fd65a8ad-549b-4cac-8b31-700d409c0515\",\"type\":\"UnionRenderers\"},{\"attributes\":{},\"id\":\"e56046df-d40d-449d-a3ee-1e82f6abab45\",\"type\":\"BasicTickFormatter\"},{\"attributes\":{\"ticker\":null},\"id\":\"01cdecd7-bb0c-4d31-9574-05828a17517b\",\"type\":\"LogTickFormatter\"},{\"attributes\":{},\"id\":\"d8c907b7-db28-42c5-90a2-19808281f0fb\",\"type\":\"UnionRenderers\"},{\"attributes\":{\"line_alpha\":0.1,\"line_color\":\"#1f77b4\",\"line_width\":3,\"x\":{\"field\":\"x\"},\"y\":{\"field\":\"y\"}},\"id\":\"bf242802-69db-450e-87f1-543af7c0c148\",\"type\":\"Line\"},{\"attributes\":{},\"id\":\"3c927b43-f1f5-402c-ba06-46557b833149\",\"type\":\"Selection\"},{\"attributes\":{},\"id\":\"4bb6fd99-1e2a-4517-9258-d20dc89136da\",\"type\":\"UnionRenderers\"},{\"attributes\":{},\"id\":\"18f1692a-8710-4b3a-8ecb-989b5f7da08b\",\"type\":\"Selection\"},{\"attributes\":{},\"id\":\"e58f21d0-7ee4-477c-ac97-b133d0cfb61e\",\"type\":\"Selection\"},{\"attributes\":{\"tools\":[{\"id\":\"ba6e7e0a-3833-4bae-818b-58df91fbf4aa\",\"type\":\"PanTool\"},{\"id\":\"e142d2a9-fa54-4d84-a69f-5b84ac0fe11b\",\"type\":\"WheelZoomTool\"},{\"id\":\"ab855814-9406-4b10-9613-35d4849aa99d\",\"type\":\"BoxZoomTool\"},{\"id\":\"4505b06f-af8f-41ec-aaf4-fc4d2d3cd154\",\"type\":\"SaveTool\"},{\"id\":\"2bb188ce-e234-4970-817b-2c7386e1086c\",\"type\":\"ResetTool\"},{\"id\":\"60bbfe2f-ae0a-441e-a2d9-b35092264b0c\",\"type\":\"HelpTool\"},{\"id\":\"23f36d9b-d026-4501-8af8-4dfce6ab2e4c\",\"type\":\"PanTool\"},{\"id\":\"39bf6850-a4dd-4af1-a734-774d87045465\",\"type\":\"WheelZoomTool\"},{\"id\":\"aef40209-6cb1-4043-a7e1-8e61a43fa6fe\",\"type\":\"BoxZoomTool\"},{\"id\":\"afd1d274-0ca1-44d1-89ad-e177fee7c623\",\"type\":\"SaveTool\"},{\"id\":\"4b5ed8b2-df4a-478c-b1d9-17570bbde5af\",\"type\":\"ResetTool\"},{\"id\":\"e686f1a1-46ed-4114-82e2-968f279c545f\",\"type\":\"HelpTool\"}]},\"id\":\"85025181-9506-46eb-90f3-711a88f62a36\",\"type\":\"ProxyToolbar\"},{\"attributes\":{\"fill_alpha\":{\"value\":0.1},\"fill_color\":{\"value\":\"#1f77b4\"},\"line_alpha\":{\"value\":0.1},\"line_color\":{\"value\":\"#1f77b4\"},\"x\":{\"field\":\"x\"},\"y\":{\"field\":\"y\"}},\"id\":\"84fb2050-d3d1-465c-94be-a47d64dfb47b\",\"type\":\"Circle\"},{\"attributes\":{},\"id\":\"15b2f357-f832-4273-8f85-cd5c961607b7\",\"type\":\"UnionRenderers\"},{\"attributes\":{},\"id\":\"12554693-0f72-4b67-9d6f-94e676b66187\",\"type\":\"Selection\"},{\"attributes\":{\"source\":{\"id\":\"da22aa30-9c7c-4779-9e95-5b2f9343dfb5\",\"type\":\"ColumnDataSource\"}},\"id\":\"e39ed3fe-1fcf-451f-9086-c4733562176f\",\"type\":\"CDSView\"},{\"attributes\":{},\"id\":\"3115efb4-da21-4aaa-834f-7b0a5a7b61bf\",\"type\":\"UnionRenderers\"},{\"attributes\":{},\"id\":\"5eb78f4f-5cf3-460a-b0bd-ad22480dd309\",\"type\":\"UnionRenderers\"},{\"attributes\":{},\"id\":\"41474dc2-3112-4559-8631-594ea8ac278d\",\"type\":\"Selection\"},{\"attributes\":{\"source\":{\"id\":\"fcfa37e8-aa53-49e1-8e81-b4275aa6fed7\",\"type\":\"ColumnDataSource\"}},\"id\":\"796409b8-f24b-44b1-8a43-cd6442cb0017\",\"type\":\"CDSView\"},{\"attributes\":{\"line_alpha\":0.1,\"line_color\":\"#1f77b4\",\"line_width\":1.5,\"x\":{\"field\":\"x\"},\"y\":{\"field\":\"y\"}},\"id\":\"c464fe4e-fe34-4c0a-b8fe-dba4939ff49b\",\"type\":\"Line\"}],\"root_ids\":[\"c65048d0-da84-49c1-a493-7d5c32921b62\"]},\"title\":\"Bokeh Application\",\"version\":\"0.12.16\"}};\n",
       "  var render_items = [{\"docid\":\"e52bdfff-7ee4-4490-916c-817cef44ec12\",\"elementid\":\"282278cc-7700-4ab9-aa34-318a815936c6\",\"modelid\":\"c65048d0-da84-49c1-a493-7d5c32921b62\"}];\n",
       "  root.Bokeh.embed.embed_items_notebook(docs_json, render_items);\n",
       "\n",
       "  }\n",
       "  if (root.Bokeh !== undefined) {\n",
       "    embed_document(root);\n",
       "  } else {\n",
       "    var attempts = 0;\n",
       "    var timer = setInterval(function(root) {\n",
       "      if (root.Bokeh !== undefined) {\n",
       "        embed_document(root);\n",
       "        clearInterval(timer);\n",
       "      }\n",
       "      attempts++;\n",
       "      if (attempts > 100) {\n",
       "        console.log(\"Bokeh: ERROR: Unable to run BokehJS code because BokehJS library is missing\")\n",
       "        clearInterval(timer);\n",
       "      }\n",
       "    }, 10, root)\n",
       "  }\n",
       "})(window);"
      ],
      "application/vnd.bokehjs_exec.v0+json": ""
     },
     "metadata": {
      "application/vnd.bokehjs_exec.v0+json": {
       "id": "c65048d0-da84-49c1-a493-7d5c32921b62"
      }
     },
     "output_type": "display_data"
    },
    {
     "name": "stdout",
     "output_type": "stream",
     "text": [
      "FIGURE. Cooling rate profiles.\n"
     ]
    },
    {
     "data": {
      "text/html": [
       "<a id=\"Flux_Comparison\"></a>"
      ],
      "text/plain": [
       "<IPython.core.display.HTML object>"
      ]
     },
     "metadata": {},
     "output_type": "display_data"
    },
    {
     "data": {
      "text/markdown": [
       "# Flux Comparison"
      ],
      "text/plain": [
       "<IPython.core.display.Markdown object>"
      ]
     },
     "metadata": {},
     "output_type": "display_data"
    },
    {
     "data": {
      "text/html": [
       "<div>\n",
       "<style scoped>\n",
       "    .dataframe tbody tr th:only-of-type {\n",
       "        vertical-align: middle;\n",
       "    }\n",
       "\n",
       "    .dataframe tbody tr th {\n",
       "        vertical-align: top;\n",
       "    }\n",
       "\n",
       "    .dataframe thead th {\n",
       "        text-align: right;\n",
       "    }\n",
       "</style>\n",
       "<table border=\"1\" class=\"dataframe\">\n",
       "  <thead>\n",
       "    <tr style=\"text-align: right;\">\n",
       "      <th></th>\n",
       "      <th></th>\n",
       "      <th>flug</th>\n",
       "      <th>fldg</th>\n",
       "      <th>fnetg</th>\n",
       "    </tr>\n",
       "    <tr>\n",
       "      <th>pressure</th>\n",
       "      <th>level</th>\n",
       "      <th></th>\n",
       "      <th></th>\n",
       "      <th></th>\n",
       "    </tr>\n",
       "  </thead>\n",
       "  <tbody>\n",
       "    <tr>\n",
       "      <th>0.0000</th>\n",
       "      <th>1</th>\n",
       "      <td>-39.984950</td>\n",
       "      <td>0.000000</td>\n",
       "      <td>-39.984950</td>\n",
       "    </tr>\n",
       "    <tr>\n",
       "      <th>1.0685</th>\n",
       "      <th>24</th>\n",
       "      <td>-39.984810</td>\n",
       "      <td>0.000494</td>\n",
       "      <td>-39.984316</td>\n",
       "    </tr>\n",
       "    <tr>\n",
       "      <th>1013.0000</th>\n",
       "      <th>76</th>\n",
       "      <td>-47.067549</td>\n",
       "      <td>33.429241</td>\n",
       "      <td>-13.638308</td>\n",
       "    </tr>\n",
       "  </tbody>\n",
       "</table>\n",
       "</div>"
      ],
      "text/plain": [
       "                      flug       fldg      fnetg\n",
       "pressure  level                                 \n",
       "0.0000    1     -39.984950   0.000000 -39.984950\n",
       "1.0685    24    -39.984810   0.000494 -39.984316\n",
       "1013.0000 76    -47.067549  33.429241 -13.638308"
      ]
     },
     "metadata": {},
     "output_type": "display_data"
    },
    {
     "name": "stdout",
     "output_type": "stream",
     "text": [
      "Table. Fluxes. CRD\n"
     ]
    },
    {
     "data": {
      "text/html": [
       "<div>\n",
       "<style scoped>\n",
       "    .dataframe tbody tr th:only-of-type {\n",
       "        vertical-align: middle;\n",
       "    }\n",
       "\n",
       "    .dataframe tbody tr th {\n",
       "        vertical-align: top;\n",
       "    }\n",
       "\n",
       "    .dataframe thead th {\n",
       "        text-align: right;\n",
       "    }\n",
       "</style>\n",
       "<table border=\"1\" class=\"dataframe\">\n",
       "  <thead>\n",
       "    <tr style=\"text-align: right;\">\n",
       "      <th></th>\n",
       "      <th></th>\n",
       "      <th>flug</th>\n",
       "      <th>fldg</th>\n",
       "      <th>fnetg</th>\n",
       "    </tr>\n",
       "    <tr>\n",
       "      <th>pressure</th>\n",
       "      <th>level</th>\n",
       "      <th></th>\n",
       "      <th></th>\n",
       "      <th></th>\n",
       "    </tr>\n",
       "  </thead>\n",
       "  <tbody>\n",
       "    <tr>\n",
       "      <th>0.0000</th>\n",
       "      <th>1</th>\n",
       "      <td>-39.913168</td>\n",
       "      <td>0.000000</td>\n",
       "      <td>-39.913168</td>\n",
       "    </tr>\n",
       "    <tr>\n",
       "      <th>1.0685</th>\n",
       "      <th>24</th>\n",
       "      <td>-39.913042</td>\n",
       "      <td>0.000416</td>\n",
       "      <td>-39.912624</td>\n",
       "    </tr>\n",
       "    <tr>\n",
       "      <th>1013.0000</th>\n",
       "      <th>76</th>\n",
       "      <td>-47.067549</td>\n",
       "      <td>33.671539</td>\n",
       "      <td>-13.396010</td>\n",
       "    </tr>\n",
       "  </tbody>\n",
       "</table>\n",
       "</div>"
      ],
      "text/plain": [
       "                      flug       fldg      fnetg\n",
       "pressure  level                                 \n",
       "0.0000    1     -39.913168   0.000000 -39.913168\n",
       "1.0685    24    -39.913042   0.000416 -39.912624\n",
       "1013.0000 76    -47.067549  33.671539 -13.396010"
      ]
     },
     "metadata": {},
     "output_type": "display_data"
    },
    {
     "name": "stdout",
     "output_type": "stream",
     "text": [
      "Table. Fluxes. WGT igg=10 wgt_flux=1\n"
     ]
    },
    {
     "data": {
      "text/html": [
       "<div>\n",
       "<style scoped>\n",
       "    .dataframe tbody tr th:only-of-type {\n",
       "        vertical-align: middle;\n",
       "    }\n",
       "\n",
       "    .dataframe tbody tr th {\n",
       "        vertical-align: top;\n",
       "    }\n",
       "\n",
       "    .dataframe thead th {\n",
       "        text-align: right;\n",
       "    }\n",
       "</style>\n",
       "<table border=\"1\" class=\"dataframe\">\n",
       "  <thead>\n",
       "    <tr style=\"text-align: right;\">\n",
       "      <th></th>\n",
       "      <th></th>\n",
       "      <th>flug</th>\n",
       "      <th>fldg</th>\n",
       "      <th>fnetg</th>\n",
       "    </tr>\n",
       "    <tr>\n",
       "      <th>pressure</th>\n",
       "      <th>level</th>\n",
       "      <th></th>\n",
       "      <th></th>\n",
       "      <th></th>\n",
       "    </tr>\n",
       "  </thead>\n",
       "  <tbody>\n",
       "    <tr>\n",
       "      <th>1.000000e-08</th>\n",
       "      <th>1</th>\n",
       "      <td>-40.085227</td>\n",
       "      <td>0.000183</td>\n",
       "      <td>-40.085044</td>\n",
       "    </tr>\n",
       "    <tr>\n",
       "      <th>1.068500e+00</th>\n",
       "      <th>24</th>\n",
       "      <td>-40.085131</td>\n",
       "      <td>0.000537</td>\n",
       "      <td>-40.084594</td>\n",
       "    </tr>\n",
       "    <tr>\n",
       "      <th>1.013000e+03</th>\n",
       "      <th>76</th>\n",
       "      <td>-47.067550</td>\n",
       "      <td>33.436136</td>\n",
       "      <td>-13.631414</td>\n",
       "    </tr>\n",
       "  </tbody>\n",
       "</table>\n",
       "</div>"
      ],
      "text/plain": [
       "                         flug       fldg      fnetg\n",
       "pressure     level                                 \n",
       "1.000000e-08 1     -40.085227   0.000183 -40.085044\n",
       "1.068500e+00 24    -40.085131   0.000537 -40.084594\n",
       "1.013000e+03 76    -47.067550  33.436136 -13.631414"
      ]
     },
     "metadata": {},
     "output_type": "display_data"
    },
    {
     "name": "stdout",
     "output_type": "stream",
     "text": [
      "Table. Fluxes. CLIRAD\n"
     ]
    },
    {
     "data": {
      "text/html": [
       "<div>\n",
       "<style scoped>\n",
       "    .dataframe tbody tr th:only-of-type {\n",
       "        vertical-align: middle;\n",
       "    }\n",
       "\n",
       "    .dataframe tbody tr th {\n",
       "        vertical-align: top;\n",
       "    }\n",
       "\n",
       "    .dataframe thead th {\n",
       "        text-align: right;\n",
       "    }\n",
       "</style>\n",
       "<table border=\"1\" class=\"dataframe\">\n",
       "  <thead>\n",
       "    <tr style=\"text-align: right;\">\n",
       "      <th></th>\n",
       "      <th></th>\n",
       "      <th>flug</th>\n",
       "      <th>fldg</th>\n",
       "      <th>fnetg</th>\n",
       "    </tr>\n",
       "    <tr>\n",
       "      <th>pressure</th>\n",
       "      <th>level</th>\n",
       "      <th></th>\n",
       "      <th></th>\n",
       "      <th></th>\n",
       "    </tr>\n",
       "  </thead>\n",
       "  <tbody>\n",
       "    <tr>\n",
       "      <th>0.0000</th>\n",
       "      <th>1</th>\n",
       "      <td>7.178165e-02</td>\n",
       "      <td>0.000000</td>\n",
       "      <td>0.071782</td>\n",
       "    </tr>\n",
       "    <tr>\n",
       "      <th>1.0685</th>\n",
       "      <th>24</th>\n",
       "      <td>7.176816e-02</td>\n",
       "      <td>-0.000078</td>\n",
       "      <td>0.071692</td>\n",
       "    </tr>\n",
       "    <tr>\n",
       "      <th>1013.0000</th>\n",
       "      <th>76</th>\n",
       "      <td>-4.700000e-07</td>\n",
       "      <td>0.242298</td>\n",
       "      <td>0.242298</td>\n",
       "    </tr>\n",
       "  </tbody>\n",
       "</table>\n",
       "</div>"
      ],
      "text/plain": [
       "                         flug      fldg     fnetg\n",
       "pressure  level                                  \n",
       "0.0000    1      7.178165e-02  0.000000  0.071782\n",
       "1.0685    24     7.176816e-02 -0.000078  0.071692\n",
       "1013.0000 76    -4.700000e-07  0.242298  0.242298"
      ]
     },
     "metadata": {},
     "output_type": "display_data"
    },
    {
     "name": "stdout",
     "output_type": "stream",
     "text": [
      "Table. Fluxes. (WGT igg=10 wgt_flux=1) - (CRD)\n"
     ]
    },
    {
     "data": {
      "text/html": [
       "<div>\n",
       "<style scoped>\n",
       "    .dataframe tbody tr th:only-of-type {\n",
       "        vertical-align: middle;\n",
       "    }\n",
       "\n",
       "    .dataframe tbody tr th {\n",
       "        vertical-align: top;\n",
       "    }\n",
       "\n",
       "    .dataframe thead th {\n",
       "        text-align: right;\n",
       "    }\n",
       "</style>\n",
       "<table border=\"1\" class=\"dataframe\">\n",
       "  <thead>\n",
       "    <tr style=\"text-align: right;\">\n",
       "      <th></th>\n",
       "      <th></th>\n",
       "      <th>flug</th>\n",
       "      <th>fldg</th>\n",
       "      <th>fnetg</th>\n",
       "    </tr>\n",
       "    <tr>\n",
       "      <th>pressure</th>\n",
       "      <th>level</th>\n",
       "      <th></th>\n",
       "      <th></th>\n",
       "      <th></th>\n",
       "    </tr>\n",
       "  </thead>\n",
       "  <tbody>\n",
       "    <tr>\n",
       "      <th>0.0000</th>\n",
       "      <th>1</th>\n",
       "      <td>-1.002770e-01</td>\n",
       "      <td>0.000183</td>\n",
       "      <td>-0.100094</td>\n",
       "    </tr>\n",
       "    <tr>\n",
       "      <th>1.0685</th>\n",
       "      <th>24</th>\n",
       "      <td>-1.003210e-01</td>\n",
       "      <td>0.000043</td>\n",
       "      <td>-0.100278</td>\n",
       "    </tr>\n",
       "    <tr>\n",
       "      <th>1013.0000</th>\n",
       "      <th>76</th>\n",
       "      <td>-1.000000e-06</td>\n",
       "      <td>0.006895</td>\n",
       "      <td>0.006894</td>\n",
       "    </tr>\n",
       "  </tbody>\n",
       "</table>\n",
       "</div>"
      ],
      "text/plain": [
       "                         flug      fldg     fnetg\n",
       "pressure  level                                  \n",
       "0.0000    1     -1.002770e-01  0.000183 -0.100094\n",
       "1.0685    24    -1.003210e-01  0.000043 -0.100278\n",
       "1013.0000 76    -1.000000e-06  0.006895  0.006894"
      ]
     },
     "metadata": {},
     "output_type": "display_data"
    },
    {
     "name": "stdout",
     "output_type": "stream",
     "text": [
      "Table. Fluxes. (CLIRAD) - (CRD)\n"
     ]
    },
    {
     "data": {
      "text/html": [
       "<a id=\"Best-fit_Parameters\"></a>"
      ],
      "text/plain": [
       "<IPython.core.display.HTML object>"
      ]
     },
     "metadata": {},
     "output_type": "display_data"
    },
    {
     "data": {
      "text/markdown": [
       "# Best-fit Parameters"
      ],
      "text/plain": [
       "<IPython.core.display.Markdown object>"
      ]
     },
     "metadata": {},
     "output_type": "display_data"
    },
    {
     "name": "stdout",
     "output_type": "stream",
     "text": [
      "Best-fit values for each (gas, band)\n",
      "------------------------------------\n",
      "o h2o band3b\n",
      "  atmpro = trp\n",
      "  band = 3b\n",
      "  commitnumber = a06b618\n",
      "  conc = None\n",
      "  dv = 0.001\n",
      "  klin = 1e-24\n",
      "  molecule = h2o\n",
      "  ng_adju = [0]\n",
      "  ng_refs = [6]\n",
      "  nv = 1000\n",
      "  option_compute_btable = 0\n",
      "  option_compute_ktable = 1\n",
      "  option_wgt_flux = 1\n",
      "  option_wgt_k = 1\n",
      "  ref_pts = [(600, 250)]\n",
      "  tsfc = 294\n",
      "  vmax = 720\n",
      "  vmin = 620\n",
      "  w_diffuse = [(1.66, 1.66, 1.66, 1.55, 1.5, 1.66)]\n",
      "  wgt = [(0.8, 0.8, 0.8, 0.6, 0.6, 0.9)]\n"
     ]
    }
   ],
   "source": [
    "script()"
   ]
  },
  {
   "cell_type": "code",
   "execution_count": 13,
   "metadata": {
    "collapsed": true
   },
   "outputs": [
    {
     "data": {
      "text/html": [
       "<script>\n",
       "code_show=true; \n",
       "function code_toggle() {\n",
       " if (code_show){\n",
       " $('div.input').hide();\n",
       " } else {\n",
       " $('div.input').show();\n",
       " }\n",
       " code_show = !code_show\n",
       "} \n",
       "$( document ).ready(code_toggle);\n",
       "</script>\n",
       "<form action=\"javascript:code_toggle()\"><input type=\"submit\" value=\"Click here to toggle on/off the raw code.\"></form>"
      ],
      "text/plain": [
       "<IPython.core.display.HTML object>"
      ]
     },
     "execution_count": 13,
     "metadata": {},
     "output_type": "execute_result"
    }
   ],
   "source": [
    "display.HTML('''<script>\n",
    "code_show=true; \n",
    "function code_toggle() {\n",
    " if (code_show){\n",
    " $('div.input').hide();\n",
    " } else {\n",
    " $('div.input').show();\n",
    " }\n",
    " code_show = !code_show\n",
    "} \n",
    "$( document ).ready(code_toggle);\n",
    "</script>\n",
    "<form action=\"javascript:code_toggle()\"><input type=\"submit\" value=\"Click here to toggle on/off the raw code.\"></form>''')"
   ]
  }
 ],
 "metadata": {
  "kernelspec": {
   "display_name": "Python 3",
   "language": "python",
   "name": "python3"
  },
  "language_info": {
   "codemirror_mode": {
    "name": "ipython",
    "version": 3
   },
   "file_extension": ".py",
   "mimetype": "text/x-python",
   "name": "python",
   "nbconvert_exporter": "python",
   "pygments_lexer": "ipython3",
   "version": "3.6.1"
  }
 },
 "nbformat": 4,
 "nbformat_minor": 2
}
