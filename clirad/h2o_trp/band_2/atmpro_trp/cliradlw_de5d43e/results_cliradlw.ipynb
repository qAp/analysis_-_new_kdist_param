{
 "cells": [
  {
   "cell_type": "code",
   "execution_count": 1,
   "metadata": {
    "collapsed": true
   },
   "outputs": [],
   "source": [
    "%matplotlib inline\n",
    "import os\n",
    "import re\n",
    "import io\n",
    "import itertools\n",
    "import pprint\n",
    "\n",
    "from bokeh.io import output_notebook, show\n",
    "from bokeh.layouts import gridplot\n",
    "from bokeh.plotting import figure\n",
    "from bokeh.models import Range1d, Legend\n",
    "from bokeh.palettes import all_palettes\n",
    "\n",
    "import matplotlib\n",
    "import matplotlib.pyplot as plt\n",
    "import numpy as np\n",
    "import pandas as pd\n",
    "import xarray as xr\n",
    "\n",
    "import climatools.lblnew.bestfit_params as bestfits\n",
    "from climatools.lblnew import setup_bestfit, setup_overlap\n",
    "import climatools.lblnew.pipeline as pipe_lblnew\n",
    "import climatools.cliradlw.setup as setup_cliradlw\n",
    "import climatools.cliradlw.pipeline as pipe_cliradlw\n",
    "\n",
    "import climatools.html.html as climahtml\n",
    "from climatools.lblnew.dataio import *\n",
    "from climatools.plot.plot import *\n",
    "\n",
    "\n",
    "import IPython.display as display"
   ]
  },
  {
   "cell_type": "code",
   "execution_count": 2,
   "metadata": {
    "collapsed": true
   },
   "outputs": [],
   "source": [
    "%run param.py"
   ]
  },
  {
   "cell_type": "code",
   "execution_count": 3,
   "metadata": {
    "collapsed": true
   },
   "outputs": [],
   "source": [
    "def load_output_file(path_csv):\n",
    "    '''\n",
    "    Load lblnew output .csv file to xarray.Dataset\n",
    "    \n",
    "    Parameters\n",
    "    ----------\n",
    "    path_csv: str\n",
    "              Path to the .csv file to be loaded.\n",
    "    ds: xarray.Dataset\n",
    "        Data in the input file in the form of an xarray.Dataset.\n",
    "    '''\n",
    "    toindex = ['band', 'pressure', 'igg', 'g']    \n",
    "    df = pd.read_csv(path_csv, sep=r'\\s+')\n",
    "    df = df.set_index([i for i in toindex if i in df.columns])\n",
    "    df = df.rename(columns={'sfu': 'flug',\n",
    "                            'sfd': 'fldg',\n",
    "                            'fnet': 'fnetg',\n",
    "                            'coolr': 'coolrg'})\n",
    "    ds = xr.Dataset.from_dataframe(df)\n",
    "\n",
    "    for l in ('level', 'layer'):\n",
    "        if l in ds.data_vars:\n",
    "            if len(ds[l].dims) > 1:\n",
    "                surface = {d: 0 for d in ds.dims if d != 'pressure'}\n",
    "                coord_level = ds[l][surface]\n",
    "                ds.coords[l] = ('pressure', coord_level)\n",
    "            else:\n",
    "                ds.coords[l] = ('pressure', ds[l])\n",
    "    \n",
    "    return ds"
   ]
  },
  {
   "cell_type": "code",
   "execution_count": 4,
   "metadata": {
    "collapsed": true
   },
   "outputs": [],
   "source": [
    "def lblnew_setup(param=None):\n",
    "    if 'ng_refs' in param:\n",
    "        return {'setup': setup_bestfit,\n",
    "                'fname_flux_crd': 'output_flux.dat',\n",
    "                'fname_cool_crd': 'output_coolr.dat',\n",
    "                'fname_flux_wgt': 'output_wfluxg.dat',\n",
    "                'fname_cool_wgt': 'output_wcoolrg.dat'}\n",
    "    else:\n",
    "        return {'setup': setup_overlap,\n",
    "                'fname_flux_crd': 'output_flux.dat',\n",
    "                'fname_cool_crd': 'output_coolr.dat',\n",
    "                'fname_flux_wgt': 'output_wflux.dat',\n",
    "                'fname_cool_wgt': 'output_wcoolr.dat'}\n",
    "\n",
    "    \n",
    "def load_lblnew_data(param):\n",
    "    \n",
    "    fname_dsname = [('fname_flux_crd', 'ds_flux_crd'),\n",
    "                    ('fname_cool_crd', 'ds_cool_crd'),\n",
    "                    ('fname_flux_wgt', 'ds_flux_wgt'),\n",
    "                    ('fname_cool_wgt', 'ds_cool_wgt')]\n",
    "    \n",
    "    d = lblnew_setup(param)\n",
    "    dir_fortran = pipe_lblnew.get_dir_case(param, setup=d['setup'])\n",
    "    \n",
    "    data_dict = {}\n",
    "    for fname, dsname in fname_dsname:\n",
    "        fpath = os.path.join(dir_fortran, d[fname])\n",
    "        data_dict[dsname] = load_output_file(fpath)\n",
    "    return data_dict\n",
    "    \n",
    "\n",
    "    \n",
    "    "
   ]
  },
  {
   "cell_type": "code",
   "execution_count": 5,
   "metadata": {
    "collapsed": true
   },
   "outputs": [],
   "source": [
    "d = load_lblnew_data(PARAM_LBLNEW)\n",
    "\n",
    "DS_FLUX_CRD = d['ds_flux_crd']\n",
    "DS_COOL_CRD = d['ds_cool_crd']\n",
    "DS_FLUX_WGT = d['ds_flux_wgt']\n",
    "DS_COOL_WGT = d['ds_cool_wgt']"
   ]
  },
  {
   "cell_type": "code",
   "execution_count": 6,
   "metadata": {
    "collapsed": true
   },
   "outputs": [],
   "source": [
    "DIR_FORTRAN = pipe_cliradlw.get_fortran_dir(PARAM, \n",
    "                                            setup=setup_cliradlw)\n",
    "\n",
    "PATH_FLUX = os.path.join(DIR_FORTRAN, 'output_flux.dat')\n",
    "PATH_COOL = os.path.join(DIR_FORTRAN, 'output_coolr.dat')\n",
    "\n",
    "DS_FLUX = load_output_file(PATH_FLUX)\n",
    "DS_COOL = load_output_file(PATH_COOL)"
   ]
  },
  {
   "cell_type": "code",
   "execution_count": 7,
   "metadata": {
    "collapsed": true
   },
   "outputs": [
    {
     "data": {
      "text/html": [
       "\n",
       "    <div class=\"bk-root\">\n",
       "        <a href=\"https://bokeh.pydata.org\" target=\"_blank\" class=\"bk-logo bk-logo-small bk-logo-notebook\"></a>\n",
       "        <span id=\"9cf2b001-9fcd-4e3c-b1ce-d7173bc88e22\">Loading BokehJS ...</span>\n",
       "    </div>"
      ]
     },
     "metadata": {},
     "output_type": "display_data"
    },
    {
     "data": {
      "application/javascript": [
       "\n",
       "(function(root) {\n",
       "  function now() {\n",
       "    return new Date();\n",
       "  }\n",
       "\n",
       "  var force = true;\n",
       "\n",
       "  if (typeof (root._bokeh_onload_callbacks) === \"undefined\" || force === true) {\n",
       "    root._bokeh_onload_callbacks = [];\n",
       "    root._bokeh_is_loading = undefined;\n",
       "  }\n",
       "\n",
       "  var JS_MIME_TYPE = 'application/javascript';\n",
       "  var HTML_MIME_TYPE = 'text/html';\n",
       "  var EXEC_MIME_TYPE = 'application/vnd.bokehjs_exec.v0+json';\n",
       "  var CLASS_NAME = 'output_bokeh rendered_html';\n",
       "\n",
       "  /**\n",
       "   * Render data to the DOM node\n",
       "   */\n",
       "  function render(props, node) {\n",
       "    var script = document.createElement(\"script\");\n",
       "    node.appendChild(script);\n",
       "  }\n",
       "\n",
       "  /**\n",
       "   * Handle when an output is cleared or removed\n",
       "   */\n",
       "  function handleClearOutput(event, handle) {\n",
       "    var cell = handle.cell;\n",
       "\n",
       "    var id = cell.output_area._bokeh_element_id;\n",
       "    var server_id = cell.output_area._bokeh_server_id;\n",
       "    // Clean up Bokeh references\n",
       "    if (id !== undefined) {\n",
       "      Bokeh.index[id].model.document.clear();\n",
       "      delete Bokeh.index[id];\n",
       "    }\n",
       "\n",
       "    if (server_id !== undefined) {\n",
       "      // Clean up Bokeh references\n",
       "      var cmd = \"from bokeh.io.state import curstate; print(curstate().uuid_to_server['\" + server_id + \"'].get_sessions()[0].document.roots[0]._id)\";\n",
       "      cell.notebook.kernel.execute(cmd, {\n",
       "        iopub: {\n",
       "          output: function(msg) {\n",
       "            var element_id = msg.content.text.trim();\n",
       "            Bokeh.index[element_id].model.document.clear();\n",
       "            delete Bokeh.index[element_id];\n",
       "          }\n",
       "        }\n",
       "      });\n",
       "      // Destroy server and session\n",
       "      var cmd = \"import bokeh.io.notebook as ion; ion.destroy_server('\" + server_id + \"')\";\n",
       "      cell.notebook.kernel.execute(cmd);\n",
       "    }\n",
       "  }\n",
       "\n",
       "  /**\n",
       "   * Handle when a new output is added\n",
       "   */\n",
       "  function handleAddOutput(event, handle) {\n",
       "    var output_area = handle.output_area;\n",
       "    var output = handle.output;\n",
       "\n",
       "    // limit handleAddOutput to display_data with EXEC_MIME_TYPE content only\n",
       "    if ((output.output_type != \"display_data\") || (!output.data.hasOwnProperty(EXEC_MIME_TYPE))) {\n",
       "      return\n",
       "    }\n",
       "\n",
       "    var toinsert = output_area.element.find(\".\" + CLASS_NAME.split(' ')[0]);\n",
       "\n",
       "    if (output.metadata[EXEC_MIME_TYPE][\"id\"] !== undefined) {\n",
       "      toinsert[toinsert.length - 1].firstChild.textContent = output.data[JS_MIME_TYPE];\n",
       "      // store reference to embed id on output_area\n",
       "      output_area._bokeh_element_id = output.metadata[EXEC_MIME_TYPE][\"id\"];\n",
       "    }\n",
       "    if (output.metadata[EXEC_MIME_TYPE][\"server_id\"] !== undefined) {\n",
       "      var bk_div = document.createElement(\"div\");\n",
       "      bk_div.innerHTML = output.data[HTML_MIME_TYPE];\n",
       "      var script_attrs = bk_div.children[0].attributes;\n",
       "      for (var i = 0; i < script_attrs.length; i++) {\n",
       "        toinsert[toinsert.length - 1].firstChild.setAttribute(script_attrs[i].name, script_attrs[i].value);\n",
       "      }\n",
       "      // store reference to server id on output_area\n",
       "      output_area._bokeh_server_id = output.metadata[EXEC_MIME_TYPE][\"server_id\"];\n",
       "    }\n",
       "  }\n",
       "\n",
       "  function register_renderer(events, OutputArea) {\n",
       "\n",
       "    function append_mime(data, metadata, element) {\n",
       "      // create a DOM node to render to\n",
       "      var toinsert = this.create_output_subarea(\n",
       "        metadata,\n",
       "        CLASS_NAME,\n",
       "        EXEC_MIME_TYPE\n",
       "      );\n",
       "      this.keyboard_manager.register_events(toinsert);\n",
       "      // Render to node\n",
       "      var props = {data: data, metadata: metadata[EXEC_MIME_TYPE]};\n",
       "      render(props, toinsert[toinsert.length - 1]);\n",
       "      element.append(toinsert);\n",
       "      return toinsert\n",
       "    }\n",
       "\n",
       "    /* Handle when an output is cleared or removed */\n",
       "    events.on('clear_output.CodeCell', handleClearOutput);\n",
       "    events.on('delete.Cell', handleClearOutput);\n",
       "\n",
       "    /* Handle when a new output is added */\n",
       "    events.on('output_added.OutputArea', handleAddOutput);\n",
       "\n",
       "    /**\n",
       "     * Register the mime type and append_mime function with output_area\n",
       "     */\n",
       "    OutputArea.prototype.register_mime_type(EXEC_MIME_TYPE, append_mime, {\n",
       "      /* Is output safe? */\n",
       "      safe: true,\n",
       "      /* Index of renderer in `output_area.display_order` */\n",
       "      index: 0\n",
       "    });\n",
       "  }\n",
       "\n",
       "  // register the mime type if in Jupyter Notebook environment and previously unregistered\n",
       "  if (root.Jupyter !== undefined) {\n",
       "    var events = require('base/js/events');\n",
       "    var OutputArea = require('notebook/js/outputarea').OutputArea;\n",
       "\n",
       "    if (OutputArea.prototype.mime_types().indexOf(EXEC_MIME_TYPE) == -1) {\n",
       "      register_renderer(events, OutputArea);\n",
       "    }\n",
       "  }\n",
       "\n",
       "  \n",
       "  if (typeof (root._bokeh_timeout) === \"undefined\" || force === true) {\n",
       "    root._bokeh_timeout = Date.now() + 5000;\n",
       "    root._bokeh_failed_load = false;\n",
       "  }\n",
       "\n",
       "  var NB_LOAD_WARNING = {'data': {'text/html':\n",
       "     \"<div style='background-color: #fdd'>\\n\"+\n",
       "     \"<p>\\n\"+\n",
       "     \"BokehJS does not appear to have successfully loaded. If loading BokehJS from CDN, this \\n\"+\n",
       "     \"may be due to a slow or bad network connection. Possible fixes:\\n\"+\n",
       "     \"</p>\\n\"+\n",
       "     \"<ul>\\n\"+\n",
       "     \"<li>re-rerun `output_notebook()` to attempt to load from CDN again, or</li>\\n\"+\n",
       "     \"<li>use INLINE resources instead, as so:</li>\\n\"+\n",
       "     \"</ul>\\n\"+\n",
       "     \"<code>\\n\"+\n",
       "     \"from bokeh.resources import INLINE\\n\"+\n",
       "     \"output_notebook(resources=INLINE)\\n\"+\n",
       "     \"</code>\\n\"+\n",
       "     \"</div>\"}};\n",
       "\n",
       "  function display_loaded() {\n",
       "    var el = document.getElementById(\"9cf2b001-9fcd-4e3c-b1ce-d7173bc88e22\");\n",
       "    if (el != null) {\n",
       "      el.textContent = \"BokehJS is loading...\";\n",
       "    }\n",
       "    if (root.Bokeh !== undefined) {\n",
       "      if (el != null) {\n",
       "        el.textContent = \"BokehJS \" + root.Bokeh.version + \" successfully loaded.\";\n",
       "      }\n",
       "    } else if (Date.now() < root._bokeh_timeout) {\n",
       "      setTimeout(display_loaded, 100)\n",
       "    }\n",
       "  }\n",
       "\n",
       "\n",
       "  function run_callbacks() {\n",
       "    try {\n",
       "      root._bokeh_onload_callbacks.forEach(function(callback) { callback() });\n",
       "    }\n",
       "    finally {\n",
       "      delete root._bokeh_onload_callbacks\n",
       "    }\n",
       "    console.info(\"Bokeh: all callbacks have finished\");\n",
       "  }\n",
       "\n",
       "  function load_libs(js_urls, callback) {\n",
       "    root._bokeh_onload_callbacks.push(callback);\n",
       "    if (root._bokeh_is_loading > 0) {\n",
       "      console.log(\"Bokeh: BokehJS is being loaded, scheduling callback at\", now());\n",
       "      return null;\n",
       "    }\n",
       "    if (js_urls == null || js_urls.length === 0) {\n",
       "      run_callbacks();\n",
       "      return null;\n",
       "    }\n",
       "    console.log(\"Bokeh: BokehJS not loaded, scheduling load and callback at\", now());\n",
       "    root._bokeh_is_loading = js_urls.length;\n",
       "    for (var i = 0; i < js_urls.length; i++) {\n",
       "      var url = js_urls[i];\n",
       "      var s = document.createElement('script');\n",
       "      s.src = url;\n",
       "      s.async = false;\n",
       "      s.onreadystatechange = s.onload = function() {\n",
       "        root._bokeh_is_loading--;\n",
       "        if (root._bokeh_is_loading === 0) {\n",
       "          console.log(\"Bokeh: all BokehJS libraries loaded\");\n",
       "          run_callbacks()\n",
       "        }\n",
       "      };\n",
       "      s.onerror = function() {\n",
       "        console.warn(\"failed to load library \" + url);\n",
       "      };\n",
       "      console.log(\"Bokeh: injecting script tag for BokehJS library: \", url);\n",
       "      document.getElementsByTagName(\"head\")[0].appendChild(s);\n",
       "    }\n",
       "  };var element = document.getElementById(\"9cf2b001-9fcd-4e3c-b1ce-d7173bc88e22\");\n",
       "  if (element == null) {\n",
       "    console.log(\"Bokeh: ERROR: autoload.js configured with elementid '9cf2b001-9fcd-4e3c-b1ce-d7173bc88e22' but no matching script tag was found. \")\n",
       "    return false;\n",
       "  }\n",
       "\n",
       "  var js_urls = [\"https://cdn.pydata.org/bokeh/release/bokeh-0.12.16.min.js\", \"https://cdn.pydata.org/bokeh/release/bokeh-widgets-0.12.16.min.js\", \"https://cdn.pydata.org/bokeh/release/bokeh-tables-0.12.16.min.js\", \"https://cdn.pydata.org/bokeh/release/bokeh-gl-0.12.16.min.js\"];\n",
       "\n",
       "  var inline_js = [\n",
       "    function(Bokeh) {\n",
       "      Bokeh.set_log_level(\"info\");\n",
       "    },\n",
       "    \n",
       "    function(Bokeh) {\n",
       "      \n",
       "    },\n",
       "    function(Bokeh) {\n",
       "      console.log(\"Bokeh: injecting CSS: https://cdn.pydata.org/bokeh/release/bokeh-0.12.16.min.css\");\n",
       "      Bokeh.embed.inject_css(\"https://cdn.pydata.org/bokeh/release/bokeh-0.12.16.min.css\");\n",
       "      console.log(\"Bokeh: injecting CSS: https://cdn.pydata.org/bokeh/release/bokeh-widgets-0.12.16.min.css\");\n",
       "      Bokeh.embed.inject_css(\"https://cdn.pydata.org/bokeh/release/bokeh-widgets-0.12.16.min.css\");\n",
       "      console.log(\"Bokeh: injecting CSS: https://cdn.pydata.org/bokeh/release/bokeh-tables-0.12.16.min.css\");\n",
       "      Bokeh.embed.inject_css(\"https://cdn.pydata.org/bokeh/release/bokeh-tables-0.12.16.min.css\");\n",
       "    }\n",
       "  ];\n",
       "\n",
       "  function run_inline_js() {\n",
       "    \n",
       "    if ((root.Bokeh !== undefined) || (force === true)) {\n",
       "      for (var i = 0; i < inline_js.length; i++) {\n",
       "        inline_js[i].call(root, root.Bokeh);\n",
       "      }if (force === true) {\n",
       "        display_loaded();\n",
       "      }} else if (Date.now() < root._bokeh_timeout) {\n",
       "      setTimeout(run_inline_js, 100);\n",
       "    } else if (!root._bokeh_failed_load) {\n",
       "      console.log(\"Bokeh: BokehJS failed to load within specified timeout.\");\n",
       "      root._bokeh_failed_load = true;\n",
       "    } else if (force !== true) {\n",
       "      var cell = $(document.getElementById(\"9cf2b001-9fcd-4e3c-b1ce-d7173bc88e22\")).parents('.cell').data().cell;\n",
       "      cell.output_area.append_execute_result(NB_LOAD_WARNING)\n",
       "    }\n",
       "\n",
       "  }\n",
       "\n",
       "  if (root._bokeh_is_loading === 0) {\n",
       "    console.log(\"Bokeh: BokehJS loaded, going straight to plotting\");\n",
       "    run_inline_js();\n",
       "  } else {\n",
       "    load_libs(js_urls, function() {\n",
       "      console.log(\"Bokeh: BokehJS plotting callback run at\", now());\n",
       "      run_inline_js();\n",
       "    });\n",
       "  }\n",
       "}(window));"
      ],
      "application/vnd.bokehjs_load.v0+json": "\n(function(root) {\n  function now() {\n    return new Date();\n  }\n\n  var force = true;\n\n  if (typeof (root._bokeh_onload_callbacks) === \"undefined\" || force === true) {\n    root._bokeh_onload_callbacks = [];\n    root._bokeh_is_loading = undefined;\n  }\n\n  \n\n  \n  if (typeof (root._bokeh_timeout) === \"undefined\" || force === true) {\n    root._bokeh_timeout = Date.now() + 5000;\n    root._bokeh_failed_load = false;\n  }\n\n  var NB_LOAD_WARNING = {'data': {'text/html':\n     \"<div style='background-color: #fdd'>\\n\"+\n     \"<p>\\n\"+\n     \"BokehJS does not appear to have successfully loaded. If loading BokehJS from CDN, this \\n\"+\n     \"may be due to a slow or bad network connection. Possible fixes:\\n\"+\n     \"</p>\\n\"+\n     \"<ul>\\n\"+\n     \"<li>re-rerun `output_notebook()` to attempt to load from CDN again, or</li>\\n\"+\n     \"<li>use INLINE resources instead, as so:</li>\\n\"+\n     \"</ul>\\n\"+\n     \"<code>\\n\"+\n     \"from bokeh.resources import INLINE\\n\"+\n     \"output_notebook(resources=INLINE)\\n\"+\n     \"</code>\\n\"+\n     \"</div>\"}};\n\n  function display_loaded() {\n    var el = document.getElementById(\"9cf2b001-9fcd-4e3c-b1ce-d7173bc88e22\");\n    if (el != null) {\n      el.textContent = \"BokehJS is loading...\";\n    }\n    if (root.Bokeh !== undefined) {\n      if (el != null) {\n        el.textContent = \"BokehJS \" + root.Bokeh.version + \" successfully loaded.\";\n      }\n    } else if (Date.now() < root._bokeh_timeout) {\n      setTimeout(display_loaded, 100)\n    }\n  }\n\n\n  function run_callbacks() {\n    try {\n      root._bokeh_onload_callbacks.forEach(function(callback) { callback() });\n    }\n    finally {\n      delete root._bokeh_onload_callbacks\n    }\n    console.info(\"Bokeh: all callbacks have finished\");\n  }\n\n  function load_libs(js_urls, callback) {\n    root._bokeh_onload_callbacks.push(callback);\n    if (root._bokeh_is_loading > 0) {\n      console.log(\"Bokeh: BokehJS is being loaded, scheduling callback at\", now());\n      return null;\n    }\n    if (js_urls == null || js_urls.length === 0) {\n      run_callbacks();\n      return null;\n    }\n    console.log(\"Bokeh: BokehJS not loaded, scheduling load and callback at\", now());\n    root._bokeh_is_loading = js_urls.length;\n    for (var i = 0; i < js_urls.length; i++) {\n      var url = js_urls[i];\n      var s = document.createElement('script');\n      s.src = url;\n      s.async = false;\n      s.onreadystatechange = s.onload = function() {\n        root._bokeh_is_loading--;\n        if (root._bokeh_is_loading === 0) {\n          console.log(\"Bokeh: all BokehJS libraries loaded\");\n          run_callbacks()\n        }\n      };\n      s.onerror = function() {\n        console.warn(\"failed to load library \" + url);\n      };\n      console.log(\"Bokeh: injecting script tag for BokehJS library: \", url);\n      document.getElementsByTagName(\"head\")[0].appendChild(s);\n    }\n  };var element = document.getElementById(\"9cf2b001-9fcd-4e3c-b1ce-d7173bc88e22\");\n  if (element == null) {\n    console.log(\"Bokeh: ERROR: autoload.js configured with elementid '9cf2b001-9fcd-4e3c-b1ce-d7173bc88e22' but no matching script tag was found. \")\n    return false;\n  }\n\n  var js_urls = [\"https://cdn.pydata.org/bokeh/release/bokeh-0.12.16.min.js\", \"https://cdn.pydata.org/bokeh/release/bokeh-widgets-0.12.16.min.js\", \"https://cdn.pydata.org/bokeh/release/bokeh-tables-0.12.16.min.js\", \"https://cdn.pydata.org/bokeh/release/bokeh-gl-0.12.16.min.js\"];\n\n  var inline_js = [\n    function(Bokeh) {\n      Bokeh.set_log_level(\"info\");\n    },\n    \n    function(Bokeh) {\n      \n    },\n    function(Bokeh) {\n      console.log(\"Bokeh: injecting CSS: https://cdn.pydata.org/bokeh/release/bokeh-0.12.16.min.css\");\n      Bokeh.embed.inject_css(\"https://cdn.pydata.org/bokeh/release/bokeh-0.12.16.min.css\");\n      console.log(\"Bokeh: injecting CSS: https://cdn.pydata.org/bokeh/release/bokeh-widgets-0.12.16.min.css\");\n      Bokeh.embed.inject_css(\"https://cdn.pydata.org/bokeh/release/bokeh-widgets-0.12.16.min.css\");\n      console.log(\"Bokeh: injecting CSS: https://cdn.pydata.org/bokeh/release/bokeh-tables-0.12.16.min.css\");\n      Bokeh.embed.inject_css(\"https://cdn.pydata.org/bokeh/release/bokeh-tables-0.12.16.min.css\");\n    }\n  ];\n\n  function run_inline_js() {\n    \n    if ((root.Bokeh !== undefined) || (force === true)) {\n      for (var i = 0; i < inline_js.length; i++) {\n        inline_js[i].call(root, root.Bokeh);\n      }if (force === true) {\n        display_loaded();\n      }} else if (Date.now() < root._bokeh_timeout) {\n      setTimeout(run_inline_js, 100);\n    } else if (!root._bokeh_failed_load) {\n      console.log(\"Bokeh: BokehJS failed to load within specified timeout.\");\n      root._bokeh_failed_load = true;\n    } else if (force !== true) {\n      var cell = $(document.getElementById(\"9cf2b001-9fcd-4e3c-b1ce-d7173bc88e22\")).parents('.cell').data().cell;\n      cell.output_area.append_execute_result(NB_LOAD_WARNING)\n    }\n\n  }\n\n  if (root._bokeh_is_loading === 0) {\n    console.log(\"Bokeh: BokehJS loaded, going straight to plotting\");\n    run_inline_js();\n  } else {\n    load_libs(js_urls, function() {\n      console.log(\"Bokeh: BokehJS plotting callback run at\", now());\n      run_inline_js();\n    });\n  }\n}(window));"
     },
     "metadata": {},
     "output_type": "display_data"
    }
   ],
   "source": [
    "output_notebook()"
   ]
  },
  {
   "cell_type": "code",
   "execution_count": 8,
   "metadata": {
    "collapsed": true
   },
   "outputs": [],
   "source": [
    "def fmt_cool(ds_in):\n",
    "    ds = ds_in.copy(deep=True)\n",
    "    if 'igg' in ds.dims:\n",
    "        ds = ds.sel(igg=1)\n",
    "\n",
    "    if 'g' in ds.dims:\n",
    "        ds = ds.sum('g')\n",
    "            \n",
    "    if 'band' in ds.dims:\n",
    "        try:\n",
    "            ds = ds.squeeze('band')\n",
    "        except ValueError:\n",
    "            ds = ds.sum('band')\n",
    "                \n",
    "    return ds['coolrg']\n",
    "\n",
    "\n",
    "def pltdata_cooling_1(ds_cool=None,\n",
    "                      ds_cool_crd=None, ds_cool_wgt=None):\n",
    "    \n",
    "\n",
    "\n",
    "    colors = all_palettes['Set1'][4]\n",
    "    data = [{'label': 'CLIRAD `coolr_bands`',\n",
    "             'srs': fmt_cool(ds_cool),\n",
    "             'line_dash': 'dashed', 'line_width': 5,\n",
    "             'color': colors[0], 'alpha': .6},\n",
    "            {'label': 'CRD',\n",
    "             'srs': fmt_cool(ds_cool_crd),\n",
    "             'line_dash': 'solid', 'line_width': 1.5,\n",
    "             'marker': 'circle', 'marker_size': 5,\n",
    "             'color': colors[2], 'alpha': 1,},\n",
    "            {'label': 'WGT igg=10 wgt_flux=2',\n",
    "             'srs': fmt_cool(ds_cool_wgt),\n",
    "             'line_dash': 'solid', 'line_width': 3,\n",
    "             'marker': 'square', 'marker_size': 5,\n",
    "             'color': colors[3], 'alpha': .6}]\n",
    "    return data\n",
    "\n",
    "\n",
    "def nice_xlims(pltdata=None, prange=None):\n",
    "    \n",
    "    def get_slice(srs):\n",
    "        return srs.sel(pressure=slice(*prange))\n",
    "    \n",
    "    srss = [d['srs'] for d in pltdata]\n",
    "    vmin = min([get_slice(srs).min() for srs in srss])\n",
    "    vmax = max([get_slice(srs).max() for srs in srss])\n",
    "    dv = (vmax - vmin) * .01\n",
    "    return float(vmin - dv), float(vmax + dv)\n",
    "    \n",
    "\n",
    "def plt_cooling_bokeh(pltdata=None):\n",
    "    '''\n",
    "    Plot a list of cooling rate profiles using bokeh.\n",
    "    '''\n",
    "    ymin = 1e-2 \n",
    "    ymax = 1020 \n",
    "        \n",
    "    p1 = figure(title=\"Linear pressure scale\", \n",
    "                plot_width=400)        \n",
    "    xmin, xmax = nice_xlims(pltdata, prange=(50, 1050))\n",
    "    for d in pltdata:\n",
    "        if 'marker' in d:\n",
    "            getattr(p1, d['marker'])(d['srs'].values, \n",
    "                    d['srs'].coords['pressure'].values,\n",
    "                    color=d['color'], alpha=.7)\n",
    "        p1.line(d['srs'].values, \n",
    "                d['srs'].coords['pressure'].values,\n",
    "                color=d['color'], alpha=d['alpha'], \n",
    "                line_width=d['line_width'], line_dash=d['line_dash'])\n",
    "    \n",
    "    p1.y_range = Range1d(ymax, ymin)\n",
    "    p1.yaxis.axis_label = 'pressure [mb]'   \n",
    "    p1.x_range = Range1d(xmin, xmax)\n",
    "    p1.xaxis.axis_label = 'cooling rate [K/day]'\n",
    "            \n",
    "    p2 = figure(title='Log pressure scale', y_axis_type='log',\n",
    "                plot_width=560)\n",
    "    xmin, xmax = nice_xlims(pltdata, prange=(.01, 200))\n",
    "    \n",
    "    rs = []\n",
    "    for d in pltdata:\n",
    "        rd = []\n",
    "        if 'marker' in d:\n",
    "            r_mark = getattr(p2, d['marker'])(d['srs'].values, \n",
    "                        d['srs'].coords['pressure'].values,\n",
    "                        color=d['color'], alpha=.7)\n",
    "            rd.append(r_mark)\n",
    "        r_line = p2.line(d['srs'].values, \n",
    "                    d['srs'].coords['pressure'].values,\n",
    "                    color=d['color'], alpha=d['alpha'], \n",
    "                    line_width=d['line_width'], line_dash=d['line_dash'])\n",
    "        rd.append(r_line)\n",
    "      \n",
    "        rs.append(rd)\n",
    "        \n",
    "    p2.y_range = Range1d(ymax, ymin)  \n",
    "    p2.yaxis.axis_label = 'pressure [mb]'\n",
    "    \n",
    "    p2.x_range = Range1d(xmin, xmax)\n",
    "    p2.xaxis.axis_label = 'cooling rate [K/day]'\n",
    "    \n",
    "    items = [(d['label'], r) for r, d in zip(rs, pltdata)]\n",
    "    legend = Legend(items=items, location=(10, -30))\n",
    "    legend.label_text_font_size = '8pt'\n",
    "    \n",
    "    p2.add_layout(legend, 'right')  \n",
    "    \n",
    "    show(gridplot(p1, p2, ncols=2, plot_height=500))\n",
    "    \n",
    "\n",
    "def script_plt_cooling():\n",
    "    pltdata = pltdata_cooling_1(\n",
    "        ds_cool=DS_COOL,\n",
    "        ds_cool_crd=DS_COOL_CRD,\n",
    "        ds_cool_wgt=DS_COOL_WGT)\n",
    "    plt_cooling_bokeh(pltdata=pltdata)\n",
    "    print('''FIGURE. Cooling rate profiles.''')"
   ]
  },
  {
   "cell_type": "code",
   "execution_count": 9,
   "metadata": {
    "collapsed": true
   },
   "outputs": [],
   "source": [
    "def fmt_flux(ds_in):\n",
    "    ds = ds_in.copy(deep=True)\n",
    "    \n",
    "    for l in ('level', 'layer'):\n",
    "        if l in ds.data_vars:\n",
    "            if len(ds[l].dims) > 1:\n",
    "                surface = {d: 0 for d in ds.dims if d != 'pressure'}\n",
    "                coord_level = ds[l][surface]\n",
    "                ds.coords[l] = ('pressure', coord_level)\n",
    "            else:\n",
    "                ds.coords[l] = ('pressure', ds[l])\n",
    "        \n",
    "    ds = ds.isel(pressure=[0, 23, -1])\n",
    "        \n",
    "    if 'igg' in ds.dims:\n",
    "        ds = ds.sel(igg=[1])\n",
    "        ds = ds.squeeze('igg').drop('igg')\n",
    "    \n",
    "    if 'g' in ds.dims:\n",
    "        ds = ds.sum('g')\n",
    "            \n",
    "    if 'band' in ds.dims:\n",
    "        try:\n",
    "            ds = ds.squeeze('band').drop('band')\n",
    "        except ValueError:\n",
    "            ds = ds.sum('band')\n",
    "                \n",
    "    df = ds.to_dataframe()\n",
    "    df = df.set_index('level', append=True)               \n",
    "    return df\n",
    "\n",
    "\n",
    "def tbdata_flux(ds_flux=None, ds_flux_crd=None, ds_flux_wgt=None):\n",
    "    ilevels = [0, 23, -1]\n",
    "            \n",
    "    benchmark = {'label': 'CRD',\n",
    "                 'df': fmt_flux(ds_flux_crd)}\n",
    "    \n",
    "    tbs = [{'label': 'WGT igg=10 wgt_flux=1',\n",
    "            'df': fmt_flux(ds_flux_wgt)},\n",
    "           {'label': 'CLIRAD',\n",
    "            'df': fmt_flux(ds_flux)}]\n",
    "    \n",
    "    data = {'benchmark': benchmark, 'others': tbs}\n",
    "    return data\n",
    "\n",
    "\n",
    "def tb_flux(tbdata=None):\n",
    "    benchmark = tbdata['benchmark']\n",
    "    others = tbdata['others']\n",
    "    \n",
    "    def show_tb(d=None):\n",
    "        display.display(d['df'])\n",
    "        print('Table.', 'Fluxes.', d['label'])\n",
    "        \n",
    "    def show_tbdiff(d0=None, d=None):\n",
    "        df = d['df']\n",
    "        df.index = d0['df'].index\n",
    "        display.display(df - d0['df'])\n",
    "        print('Table.', 'Fluxes.', \n",
    "              '({}) - ({})'.format(d['label'], d0['label']))\n",
    "        \n",
    "    show_tb(benchmark)\n",
    "    for d in others:\n",
    "        show_tb(d)\n",
    "        \n",
    "    for d in others:\n",
    "        show_tbdiff(d=d, d0=benchmark)\n",
    "        \n",
    "        \n",
    "def script_tb_flux():\n",
    "    data = tbdata_flux(ds_flux=DS_FLUX,\n",
    "                       ds_flux_crd=DS_FLUX_CRD,\n",
    "                       ds_flux_wgt=DS_FLUX_WGT)\n",
    "    tb_flux(tbdata=data)"
   ]
  },
  {
   "cell_type": "code",
   "execution_count": 10,
   "metadata": {
    "collapsed": true
   },
   "outputs": [],
   "source": [
    "def band_map():\n",
    "    '''\n",
    "    Maps spectral bands in lblnew to spectral bands in clirad.\n",
    "    '''\n",
    "    lblnew2clirad = {'1': '1',\n",
    "            '2': '2',\n",
    "            '3a': '3',\n",
    "            '3b': '4',\n",
    "            '3c': '5',\n",
    "            '4': '6', \n",
    "            '5': '7',\n",
    "            '6': '8',\n",
    "            '7': '9', \n",
    "            '8': '10',\n",
    "            '9': '11'}\n",
    "    \n",
    "    clirad2lblnew = {clirad: lblnew \n",
    "                     for lblnew, clirad in lblnew2clirad.items()}\n",
    "    return clirad2lblnew\n",
    "\n",
    "\n",
    "def gasbands():\n",
    "    bmap = band_map()\n",
    "    gases = list(PARAM['molecule'].keys())\n",
    "    \n",
    "    bands = [bmap[str(b)] for b in PARAM['band']]\n",
    "    return list(itertools.product(gases, bands))\n",
    "\n",
    "\n",
    "def print_bestfit_params():\n",
    "    print('Best-fit values for each (gas, band)')\n",
    "    print('------------------------------------')\n",
    "    for gas, band in gasbands():\n",
    "        print('o {} band{}'.format(gas, band))\n",
    "        param = bestfits.kdist_params(molecule=gas, band=band)\n",
    "        for name, value in sorted(param.items()):\n",
    "            print(2 * ' ' + '{} = {}'.format(name, value))\n",
    "\n",
    "        \n",
    "def print_input_param():        \n",
    "    for name, value in PARAM.items():\n",
    "        print('{} = {}'.format(name, value))\n",
    "        \n",
    "        \n",
    "def print_lblnew_param():\n",
    "    for name, value in sorted(PARAM_LBLNEW.items()):\n",
    "        print('{} = {}'.format(name, value))\n"
   ]
  },
  {
   "cell_type": "code",
   "execution_count": 11,
   "metadata": {
    "collapsed": true,
    "scrolled": false
   },
   "outputs": [],
   "source": [
    "def show_html(s):\n",
    "    display.display(display.HTML(s))\n",
    "\n",
    "    \n",
    "def show_markdown(s):\n",
    "    display.display(display.Markdown(s))\n",
    "\n",
    "    \n",
    "def script():\n",
    "    \n",
    "    title = '### CLIRAD-LW'\n",
    "    s_input = 'Input Parameters'\n",
    "    s_lblnew_param = 'LBLNEW case compaired against'\n",
    "    s_bestfits = 'Best-fit Parameters'\n",
    "    s_plt_cooling = 'Cooling Rate Profiles'\n",
    "    s_tb_flux = 'Flux Comparison'\n",
    "    \n",
    "    # title\n",
    "    show_markdown('### CLIRAD-LW')\n",
    "    \n",
    "    # TOC\n",
    "    show_markdown('### Table of Contents')\n",
    "    show_html(climahtml.getHTML_hrefanchor(s_input))\n",
    "    show_html(climahtml.getHTML_hrefanchor(s_lblnew_param))\n",
    "    show_html(climahtml.getHTML_hrefanchor(s_plt_cooling))\n",
    "    show_html(climahtml.getHTML_hrefanchor(s_tb_flux))\n",
    "    show_html(climahtml.getHTML_hrefanchor(s_bestfits))\n",
    "    \n",
    "    # Input parameters\n",
    "    show_html(climahtml.getHTML_idanchor(s_input))\n",
    "    show_markdown(climahtml.getMarkdown_sectitle(s_input))\n",
    "    print_input_param()\n",
    "    \n",
    "    # LBLNEW parameters \n",
    "    show_html(climahtml.getHTML_idanchor(s_lblnew_param))\n",
    "    show_markdown(climahtml.getMarkdown_sectitle(s_lblnew_param))\n",
    "    print_lblnew_param()\n",
    "    \n",
    "    # Cooling rate profiles\n",
    "    show_html(climahtml.getHTML_idanchor(s_plt_cooling))\n",
    "    show_markdown(climahtml.getMarkdown_sectitle(s_plt_cooling))\n",
    "    script_plt_cooling()\n",
    "    \n",
    "    # Flux comparison\n",
    "    show_html(climahtml.getHTML_idanchor(s_tb_flux))\n",
    "    show_markdown(climahtml.getMarkdown_sectitle(s_tb_flux))\n",
    "    script_tb_flux()\n",
    "    \n",
    "    # Best-fit values\n",
    "    show_html(climahtml.getHTML_idanchor(s_bestfits))\n",
    "    show_markdown(climahtml.getMarkdown_sectitle(s_bestfits))\n",
    "    print_bestfit_params()\n",
    "   \n",
    "    "
   ]
  },
  {
   "cell_type": "code",
   "execution_count": 12,
   "metadata": {
    "collapsed": true,
    "scrolled": false
   },
   "outputs": [
    {
     "data": {
      "text/markdown": [
       "### CLIRAD-LW"
      ],
      "text/plain": [
       "<IPython.core.display.Markdown object>"
      ]
     },
     "metadata": {},
     "output_type": "display_data"
    },
    {
     "data": {
      "text/markdown": [
       "### Table of Contents"
      ],
      "text/plain": [
       "<IPython.core.display.Markdown object>"
      ]
     },
     "metadata": {},
     "output_type": "display_data"
    },
    {
     "data": {
      "text/html": [
       "<a href=\"#Input_Parameters\">Input Parameters</a>"
      ],
      "text/plain": [
       "<IPython.core.display.HTML object>"
      ]
     },
     "metadata": {},
     "output_type": "display_data"
    },
    {
     "data": {
      "text/html": [
       "<a href=\"#LBLNEW_case_compaired_against\">LBLNEW case compaired against</a>"
      ],
      "text/plain": [
       "<IPython.core.display.HTML object>"
      ]
     },
     "metadata": {},
     "output_type": "display_data"
    },
    {
     "data": {
      "text/html": [
       "<a href=\"#Cooling_Rate_Profiles\">Cooling Rate Profiles</a>"
      ],
      "text/plain": [
       "<IPython.core.display.HTML object>"
      ]
     },
     "metadata": {},
     "output_type": "display_data"
    },
    {
     "data": {
      "text/html": [
       "<a href=\"#Flux_Comparison\">Flux Comparison</a>"
      ],
      "text/plain": [
       "<IPython.core.display.HTML object>"
      ]
     },
     "metadata": {},
     "output_type": "display_data"
    },
    {
     "data": {
      "text/html": [
       "<a href=\"#Best-fit_Parameters\">Best-fit Parameters</a>"
      ],
      "text/plain": [
       "<IPython.core.display.HTML object>"
      ]
     },
     "metadata": {},
     "output_type": "display_data"
    },
    {
     "data": {
      "text/html": [
       "<a id=\"Input_Parameters\"></a>"
      ],
      "text/plain": [
       "<IPython.core.display.HTML object>"
      ]
     },
     "metadata": {},
     "output_type": "display_data"
    },
    {
     "data": {
      "text/markdown": [
       "# Input Parameters"
      ],
      "text/plain": [
       "<IPython.core.display.Markdown object>"
      ]
     },
     "metadata": {},
     "output_type": "display_data"
    },
    {
     "name": "stdout",
     "output_type": "stream",
     "text": [
      "atmpro = trp\n",
      "band = [2]\n",
      "commitnumber = de5d43e\n",
      "molecule = {'h2o': 'atmpro'}\n",
      "tsfc = 300\n"
     ]
    },
    {
     "data": {
      "text/html": [
       "<a id=\"LBLNEW_case_compaired_against\"></a>"
      ],
      "text/plain": [
       "<IPython.core.display.HTML object>"
      ]
     },
     "metadata": {},
     "output_type": "display_data"
    },
    {
     "data": {
      "text/markdown": [
       "# LBLNEW case compaired against"
      ],
      "text/plain": [
       "<IPython.core.display.Markdown object>"
      ]
     },
     "metadata": {},
     "output_type": "display_data"
    },
    {
     "name": "stdout",
     "output_type": "stream",
     "text": [
      "atmpro = trp\n",
      "band = 2\n",
      "commitnumber = 5014a19\n",
      "conc = None\n",
      "dv = 0.001\n",
      "klin = 0\n",
      "molecule = h2o\n",
      "ng_adju = [-2, -2, 0]\n",
      "ng_refs = [2, 3, 6]\n",
      "nv = 1000\n",
      "option_compute_btable = 0\n",
      "option_compute_ktable = 0\n",
      "option_wgt_flux = 1\n",
      "option_wgt_k = 1\n",
      "ref_pts = [(1, 250), (10, 250), (500, 250)]\n",
      "tsfc = 300\n",
      "vmax = 540\n",
      "vmin = 340\n",
      "w_diffuse = [(1.66, 1.66), (1.8, 1.8, 1.8), (1.8, 1.66, 1.45, 1.45, 1.45, 1.45)]\n",
      "wgt = [(0.6, 0.6), (0.6, 0.6, 0.6), (0.6, 0.6, 0.6, 0.6, 0.6, 0.6)]\n"
     ]
    },
    {
     "data": {
      "text/html": [
       "<a id=\"Cooling_Rate_Profiles\"></a>"
      ],
      "text/plain": [
       "<IPython.core.display.HTML object>"
      ]
     },
     "metadata": {},
     "output_type": "display_data"
    },
    {
     "data": {
      "text/markdown": [
       "# Cooling Rate Profiles"
      ],
      "text/plain": [
       "<IPython.core.display.Markdown object>"
      ]
     },
     "metadata": {},
     "output_type": "display_data"
    },
    {
     "data": {
      "text/html": [
       "\n",
       "<div class=\"bk-root\">\n",
       "    <div class=\"bk-plotdiv\" id=\"6344caf6-8d0b-4db9-a264-3d6ae170f8da\"></div>\n",
       "</div>"
      ]
     },
     "metadata": {},
     "output_type": "display_data"
    },
    {
     "data": {
      "application/javascript": [
       "(function(root) {\n",
       "  function embed_document(root) {\n",
       "    \n",
       "  var docs_json = {\"05ccd257-3c54-45e3-ba78-1faa2ca3849c\":{\"roots\":{\"references\":[{\"attributes\":{},\"id\":\"454a56e4-7168-4160-ac3f-a13812c436db\",\"type\":\"UnionRenderers\"},{\"attributes\":{},\"id\":\"2cd7c38a-fb6a-4f95-857d-9ff4fd150f6f\",\"type\":\"BasicTickFormatter\"},{\"attributes\":{\"below\":[{\"id\":\"51a91417-8ff4-40c1-934f-45551ed8e48b\",\"type\":\"LinearAxis\"}],\"left\":[{\"id\":\"1e2d154c-7145-41d5-b4a8-76d5c33eaded\",\"type\":\"LinearAxis\"}],\"plot_height\":500,\"plot_width\":400,\"renderers\":[{\"id\":\"51a91417-8ff4-40c1-934f-45551ed8e48b\",\"type\":\"LinearAxis\"},{\"id\":\"3b6af72c-a1ac-4292-9371-09844a85cc6b\",\"type\":\"Grid\"},{\"id\":\"1e2d154c-7145-41d5-b4a8-76d5c33eaded\",\"type\":\"LinearAxis\"},{\"id\":\"070769bc-5404-474e-9bd4-55496922a4db\",\"type\":\"Grid\"},{\"id\":\"358cafd7-ddb4-444a-8cde-0eda6c2fa18e\",\"type\":\"BoxAnnotation\"},{\"id\":\"336f9672-3d26-49a7-a7e8-64ed8dc4ba5b\",\"type\":\"GlyphRenderer\"},{\"id\":\"6bece2a7-c348-47b4-b34a-cf96e81d6bf5\",\"type\":\"GlyphRenderer\"},{\"id\":\"dd0177fe-8146-4584-9bec-74591dc2958d\",\"type\":\"GlyphRenderer\"},{\"id\":\"6d7093db-8a76-4f25-bb53-972a29767684\",\"type\":\"GlyphRenderer\"},{\"id\":\"34c39e77-0f61-41b3-86d8-e4b9ee200f21\",\"type\":\"GlyphRenderer\"}],\"title\":{\"id\":\"37959bfd-5753-4bae-be01-0ea154e59b33\",\"type\":\"Title\"},\"toolbar\":{\"id\":\"b2516cef-bf7a-46f7-93d0-8b66e5c30310\",\"type\":\"Toolbar\"},\"toolbar_location\":null,\"x_range\":{\"id\":\"e3b41536-8d55-4ed8-b08a-fb6c3b3d0c6c\",\"type\":\"Range1d\"},\"x_scale\":{\"id\":\"c5d3f0ab-42c9-4b0b-8c25-216f5ae16fc9\",\"type\":\"LinearScale\"},\"y_range\":{\"id\":\"85813078-b39f-4dca-80c4-20fa5075c1fa\",\"type\":\"Range1d\"},\"y_scale\":{\"id\":\"36837d98-307b-41bb-b7a2-77f9b6e0c5f2\",\"type\":\"LinearScale\"}},\"id\":\"4b7d7094-78de-4ed6-bc43-cdd188886338\",\"subtype\":\"Figure\",\"type\":\"Plot\"},{\"attributes\":{\"line_alpha\":0.1,\"line_color\":\"#1f77b4\",\"line_width\":3,\"x\":{\"field\":\"x\"},\"y\":{\"field\":\"y\"}},\"id\":\"0459a1a0-fea8-4d32-9412-3dd2c3a8a7b1\",\"type\":\"Line\"},{\"attributes\":{},\"id\":\"7b5113c8-e567-481b-9867-e28d03b41a27\",\"type\":\"Selection\"},{\"attributes\":{},\"id\":\"ccb4656c-02c2-47c5-a358-94b49e664cbb\",\"type\":\"Selection\"},{\"attributes\":{\"data_source\":{\"id\":\"97e10824-6e21-4fc7-aa4f-337cbc189f33\",\"type\":\"ColumnDataSource\"},\"glyph\":{\"id\":\"8357f9f5-c5ba-41e4-b0d5-44fedef5b2cd\",\"type\":\"Line\"},\"hover_glyph\":null,\"muted_glyph\":null,\"nonselection_glyph\":{\"id\":\"5b8ea2bc-af5b-482a-b7a7-c5de29121fa5\",\"type\":\"Line\"},\"selection_glyph\":null,\"view\":{\"id\":\"53e7879f-6e64-4d7b-b909-dc6f9dc383f2\",\"type\":\"CDSView\"}},\"id\":\"dd0177fe-8146-4584-9bec-74591dc2958d\",\"type\":\"GlyphRenderer\"},{\"attributes\":{},\"id\":\"a096c3cf-f63d-4fbc-a950-a518476b7403\",\"type\":\"UnionRenderers\"},{\"attributes\":{},\"id\":\"43314b5b-f5ce-4937-85d1-23e8615c05a1\",\"type\":\"Selection\"},{\"attributes\":{},\"id\":\"5bcca4ab-70d4-4f85-aefe-c3b96db71d87\",\"type\":\"UnionRenderers\"},{\"attributes\":{},\"id\":\"36837d98-307b-41bb-b7a2-77f9b6e0c5f2\",\"type\":\"LinearScale\"},{\"attributes\":{},\"id\":\"173e57be-b632-4b32-ba80-a479e6f26232\",\"type\":\"Selection\"},{\"attributes\":{\"below\":[{\"id\":\"65902e33-0461-4697-a682-6cb8a5992c4e\",\"type\":\"LinearAxis\"}],\"left\":[{\"id\":\"0c819989-2758-40b0-b3a0-4e7730ae3a1e\",\"type\":\"LogAxis\"}],\"plot_height\":500,\"plot_width\":560,\"renderers\":[{\"id\":\"65902e33-0461-4697-a682-6cb8a5992c4e\",\"type\":\"LinearAxis\"},{\"id\":\"0d5edac5-58eb-49a6-92cd-ef2d743c1388\",\"type\":\"Grid\"},{\"id\":\"0c819989-2758-40b0-b3a0-4e7730ae3a1e\",\"type\":\"LogAxis\"},{\"id\":\"4191828c-412b-4535-9dc5-41ac4f15ed38\",\"type\":\"Grid\"},{\"id\":\"a1701f2e-a33b-42b8-9a8c-f403c26d04fd\",\"type\":\"BoxAnnotation\"},{\"id\":\"c767fe6a-9881-4874-ae02-847e3da473d6\",\"type\":\"GlyphRenderer\"},{\"id\":\"b9dd4c51-a913-4905-9f1e-7c0da0817d28\",\"type\":\"GlyphRenderer\"},{\"id\":\"6d038d7c-6988-46d2-80a7-613e3652914b\",\"type\":\"GlyphRenderer\"},{\"id\":\"f54d10af-a37e-45d3-a071-3a95f68a9cf8\",\"type\":\"GlyphRenderer\"},{\"id\":\"2222f61e-7dbf-4daf-9496-4cc38e71be56\",\"type\":\"GlyphRenderer\"},{\"id\":\"280ad56c-cffb-4e4b-8f91-f469d049b971\",\"type\":\"Legend\"}],\"right\":[{\"id\":\"280ad56c-cffb-4e4b-8f91-f469d049b971\",\"type\":\"Legend\"}],\"title\":{\"id\":\"c1a5d3d6-89a7-436e-a26b-6001ac5014a0\",\"type\":\"Title\"},\"toolbar\":{\"id\":\"843ae5b9-59ea-4281-b6be-7f1f4c0ed70d\",\"type\":\"Toolbar\"},\"toolbar_location\":null,\"x_range\":{\"id\":\"22a1b406-9b2a-48c4-ac79-ebc941879f70\",\"type\":\"Range1d\"},\"x_scale\":{\"id\":\"3a65883b-7ff7-4534-bc5f-70074ab1c5e2\",\"type\":\"LinearScale\"},\"y_range\":{\"id\":\"2468bd47-93de-409f-a9ee-e20b7f7ece6d\",\"type\":\"Range1d\"},\"y_scale\":{\"id\":\"0bb9ec88-fd89-4de5-afa4-b8396eef9ce1\",\"type\":\"LogScale\"}},\"id\":\"7f8d4547-34c5-424c-96e0-3b525388330f\",\"subtype\":\"Figure\",\"type\":\"Plot\"},{\"attributes\":{},\"id\":\"8d7ebc07-760c-4b85-ab65-d4ba4fa608ec\",\"type\":\"Selection\"},{\"attributes\":{\"active_drag\":\"auto\",\"active_inspect\":\"auto\",\"active_scroll\":\"auto\",\"active_tap\":\"auto\",\"tools\":[{\"id\":\"9de163f0-5a67-48f9-ab06-a16d5abbdf21\",\"type\":\"PanTool\"},{\"id\":\"223b3f7f-7b7e-40a1-b91d-6bad5e74bee8\",\"type\":\"WheelZoomTool\"},{\"id\":\"66046c57-6be9-498b-8d12-9e74f0de3317\",\"type\":\"BoxZoomTool\"},{\"id\":\"ab3f0aae-2ff5-4fa5-a73b-93f7e2dbcc64\",\"type\":\"SaveTool\"},{\"id\":\"88e168e6-41ac-4c2d-85d9-38880035c0fe\",\"type\":\"ResetTool\"},{\"id\":\"90946a8e-d6a7-4d5c-a6fe-c1d97d6a080b\",\"type\":\"HelpTool\"}]},\"id\":\"b2516cef-bf7a-46f7-93d0-8b66e5c30310\",\"type\":\"Toolbar\"},{\"attributes\":{\"line_alpha\":0.6,\"line_color\":\"#984ea3\",\"line_width\":3,\"x\":{\"field\":\"x\"},\"y\":{\"field\":\"y\"}},\"id\":\"b082edc6-04c9-4304-8df1-e20ba0cd96c7\",\"type\":\"Line\"},{\"attributes\":{},\"id\":\"b7524385-c742-4bb1-9cd8-24abe245a0eb\",\"type\":\"Selection\"},{\"attributes\":{},\"id\":\"3c8c0c51-338e-4a50-b262-141f9dc4cdb3\",\"type\":\"BasicTickFormatter\"},{\"attributes\":{},\"id\":\"2dd99fc2-bc6e-43cb-a6bb-741c11b931d9\",\"type\":\"UnionRenderers\"},{\"attributes\":{\"children\":[{\"id\":\"05a563ce-84ba-4ee3-8815-181e399c7eee\",\"type\":\"Row\"}]},\"id\":\"4489f27c-1560-43a7-814a-591edcd57c3c\",\"type\":\"Column\"},{\"attributes\":{},\"id\":\"8804e461-a868-4d9f-a272-1030dadceb44\",\"type\":\"UnionRenderers\"},{\"attributes\":{},\"id\":\"00925718-1379-428a-a633-100e90307d0d\",\"type\":\"Selection\"},{\"attributes\":{\"children\":[{\"id\":\"4b7d7094-78de-4ed6-bc43-cdd188886338\",\"subtype\":\"Figure\",\"type\":\"Plot\"},{\"id\":\"7f8d4547-34c5-424c-96e0-3b525388330f\",\"subtype\":\"Figure\",\"type\":\"Plot\"}]},\"id\":\"05a563ce-84ba-4ee3-8815-181e399c7eee\",\"type\":\"Row\"},{\"attributes\":{\"ticker\":null},\"id\":\"d0b70162-1373-4a03-9fcd-649b06fc9fea\",\"type\":\"LogTickFormatter\"},{\"attributes\":{},\"id\":\"c5d3f0ab-42c9-4b0b-8c25-216f5ae16fc9\",\"type\":\"LinearScale\"},{\"attributes\":{},\"id\":\"ad2d6f1d-7b28-47ab-8531-5103c5c96902\",\"type\":\"UnionRenderers\"},{\"attributes\":{},\"id\":\"36de4a05-6151-4581-9b61-f6f589ca3b60\",\"type\":\"Selection\"},{\"attributes\":{\"callback\":null,\"data\":{\"x\":{\"__ndarray__\":\"Aw78A0Bwvj93VG/sXay+P0gPjTiukL8/+8CfK1s1wD+tPHk/C5XAP0JZvk/R6MA/RDt+2m4jwT/Ev1tiXUPBP7Qh/8wgPsE/0a06H1wJwT+47IzGDJrAP9z8+ZVSwL8/KbiS/AyYvT9V7UdIrN66P1W5N1w357o/6JT07pdovz8yJQ6wwYjCPxgIAmTo2MQ/G/di/6eoxj/xancXQUbIP66ZQghEX8o/YywN25odzT/dGZbUQxPLPyxqKJx6sMU/ICEtQm95wT9C47Kf//27PylfjiYwgLc/7lOIWcWhtD82OzFv/nSyPyRGg58ujrA/mU/A8PaSrT+30Zj6jTeqP/c9MYXjBqc/lAVTmrsApD9oMIpBBy2dP8iQ+QZ6Now/DgugnW3ccD83V9NRI29/Pw615941e5U/YFm14E/Roj9zrqpcffyxP+Sf+LUeU8U/YZPrXAe90j/lz/khHbvbPwut8xTeauI/VXD0CKCe5j9os2Y7ESrqP6ye/nk7vuw/Jn57jROV7T8qxET/2/fuP8qeTsMBPvA/61ysA3vn8D++SdOgaF7xPxG7AEV2j/E/T8qkhjaA8T8NmxJaICvxP1y6OOCplvA/LaL9ekua7z8SZZA30K7tP7zNGyeFmes/Yb6CVXF66T+5Gpd5xEvnP5OSmk2y2+Q/yZgWUAPh4j8n7uMu42LfP6eTjYMiyNg/RreYfg0x0z922wkf3xjNP4TbFG59Acc/KyfKc7fKwj8i86+CazC/P4XLrqSqQ7o/f+xRX2a9tj+uS/ps/o61P4YcW88Qjss/\",\"dtype\":\"float64\",\"shape\":[75]},\"y\":{\"__ndarray__\":\"GhExyth1ND/Sv8nbtpRIP2vylNV0PVE/aTum7souWD/At0SJ8fVgPw3Iuahxymc/MSNhhJWvcD/bTfBN02d3P2zb5nxnaoA/CD5h5MAGhz8NmeH1TyaQP+zrCsc9p5Y/LbKd76fGnz/bLW5ISEmmPww9YvTcQq8/JV2OstnstT8Er5Y7M8G+P0c+r3jqkcU/5h99k6ZBzj88bCIzFzjVP4enV8oyxN0//yH99nXg5D8qOpLLf0jtP5kqGJXUifQ/c9cS8kHP/D+/DpwzojQEQIEmwoanVwxA4lgXt9HgE0BSSZ2AJuIbQAMJih9jjiNA5q4l5INuK0AwTKYKRj0zQNv5fmq8/DpAaCJseHrtQkB/+zpwzoxKQM3MzMzMeFJAZmZmZmZqWEAAAAAAAFxeQM3MzMzMJmJAmpmZmZkfZUBmZmZmZhhoQDMzMzMzEWtAAAAAAAAKbkBmZmZmZoFwQM3MzMzM/XFAMzMzMzN6c0CamZmZmfZ0QAAAAAAAc3ZAZmZmZmbvd0DNzMzMzGt5QDMzMzMz6HpAmpmZmZlkfEAAAAAAAOF9QGZmZmZmXX9AZmZmZuZsgECamZmZGSuBQM3MzMxM6YFAAAAAAICngkAzMzMzs2WDQGZmZmbmI4RAmpmZmRnihEDNzMzMTKCFQAAAAACAXoZAMzMzM7Mch0BmZmZm5tqHQJqZmZkZmYhAzczMzExXiUAAAAAAgBWKQDMzMzOz04pAZmZmZuaRi0CamZmZGVCMQM3MzMxMDo1AAAAAAIDMjUAzMzMzs4qOQGZmZmbmSI9A\",\"dtype\":\"float64\",\"shape\":[75]}},\"selected\":{\"id\":\"00925718-1379-428a-a633-100e90307d0d\",\"type\":\"Selection\"},\"selection_policy\":{\"id\":\"c15b6251-1eb0-42fe-8e01-cd5f63933643\",\"type\":\"UnionRenderers\"}},\"id\":\"aa441302-3c53-493f-9d6a-51525ba446bd\",\"type\":\"ColumnDataSource\"},{\"attributes\":{},\"id\":\"c15b6251-1eb0-42fe-8e01-cd5f63933643\",\"type\":\"UnionRenderers\"},{\"attributes\":{\"callback\":null,\"end\":1.1405649407000003,\"start\":-0.009825810700000001},\"id\":\"e3b41536-8d55-4ed8-b08a-fb6c3b3d0c6c\",\"type\":\"Range1d\"},{\"attributes\":{},\"id\":\"f5a059df-323c-4159-85d0-28651c25eadd\",\"type\":\"Selection\"},{\"attributes\":{},\"id\":\"1328c74a-7712-46b9-b740-60a785dba6a2\",\"type\":\"Selection\"},{\"attributes\":{\"toolbar\":{\"id\":\"60c61715-0ee8-4dbd-a915-5c81d29350f9\",\"type\":\"ProxyToolbar\"},\"toolbar_location\":\"above\"},\"id\":\"2c08f1c8-c389-4ef4-8159-6d17917452ab\",\"type\":\"ToolbarBox\"},{\"attributes\":{},\"id\":\"8099e970-0a41-4bfc-ac0b-e51aff5046c2\",\"type\":\"UnionRenderers\"},{\"attributes\":{\"children\":[{\"id\":\"2c08f1c8-c389-4ef4-8159-6d17917452ab\",\"type\":\"ToolbarBox\"},{\"id\":\"4489f27c-1560-43a7-814a-591edcd57c3c\",\"type\":\"Column\"}]},\"id\":\"d345b3dc-29b5-4ff4-bdd9-fa1ca071b03e\",\"type\":\"Column\"},{\"attributes\":{\"line_color\":\"#4daf4a\",\"line_width\":1.5,\"x\":{\"field\":\"x\"},\"y\":{\"field\":\"y\"}},\"id\":\"37a0aa02-f463-4c1d-a9fe-72ddd0101e15\",\"type\":\"Line\"},{\"attributes\":{},\"id\":\"9de7f841-9c3e-47a0-b630-2888df44ff61\",\"type\":\"UnionRenderers\"},{\"attributes\":{\"source\":{\"id\":\"fd591231-0bcc-45cb-a631-4bde5fb20abf\",\"type\":\"ColumnDataSource\"}},\"id\":\"1ae3d320-9e5e-433d-aa6a-1049fb688ed2\",\"type\":\"CDSView\"},{\"attributes\":{\"tools\":[{\"id\":\"9de163f0-5a67-48f9-ab06-a16d5abbdf21\",\"type\":\"PanTool\"},{\"id\":\"223b3f7f-7b7e-40a1-b91d-6bad5e74bee8\",\"type\":\"WheelZoomTool\"},{\"id\":\"66046c57-6be9-498b-8d12-9e74f0de3317\",\"type\":\"BoxZoomTool\"},{\"id\":\"ab3f0aae-2ff5-4fa5-a73b-93f7e2dbcc64\",\"type\":\"SaveTool\"},{\"id\":\"88e168e6-41ac-4c2d-85d9-38880035c0fe\",\"type\":\"ResetTool\"},{\"id\":\"90946a8e-d6a7-4d5c-a6fe-c1d97d6a080b\",\"type\":\"HelpTool\"},{\"id\":\"acebbd2d-59ee-4b19-ac7f-266128f453b7\",\"type\":\"PanTool\"},{\"id\":\"21887892-b14f-426c-b9ff-fefaeef5b9d4\",\"type\":\"WheelZoomTool\"},{\"id\":\"21b07771-6d18-4ed9-9976-095669fae1bd\",\"type\":\"BoxZoomTool\"},{\"id\":\"0e8cf7cc-0575-4c97-abd8-f814c3e4202c\",\"type\":\"SaveTool\"},{\"id\":\"60b2a2df-b53b-4c3d-a291-0e795a4a9508\",\"type\":\"ResetTool\"},{\"id\":\"78d035c7-24ff-47d4-86bb-dbec682690e8\",\"type\":\"HelpTool\"}]},\"id\":\"60c61715-0ee8-4dbd-a915-5c81d29350f9\",\"type\":\"ProxyToolbar\"},{\"attributes\":{\"line_color\":\"#4daf4a\",\"line_width\":1.5,\"x\":{\"field\":\"x\"},\"y\":{\"field\":\"y\"}},\"id\":\"8357f9f5-c5ba-41e4-b0d5-44fedef5b2cd\",\"type\":\"Line\"},{\"attributes\":{\"plot\":null,\"text\":\"Linear pressure scale\"},\"id\":\"37959bfd-5753-4bae-be01-0ea154e59b33\",\"type\":\"Title\"},{\"attributes\":{},\"id\":\"223b3f7f-7b7e-40a1-b91d-6bad5e74bee8\",\"type\":\"WheelZoomTool\"},{\"attributes\":{\"data_source\":{\"id\":\"b9098081-99e7-4ca2-a6e5-647ea721cd9c\",\"type\":\"ColumnDataSource\"},\"glyph\":{\"id\":\"a10e6385-ca7c-4890-87ba-9b92c9c725cc\",\"type\":\"Line\"},\"hover_glyph\":null,\"muted_glyph\":null,\"nonselection_glyph\":{\"id\":\"7b4e0690-464e-4fe3-838e-ff4790d3f006\",\"type\":\"Line\"},\"selection_glyph\":null,\"view\":{\"id\":\"69c008d0-eeab-462f-be5f-b8256a634795\",\"type\":\"CDSView\"}},\"id\":\"c767fe6a-9881-4874-ae02-847e3da473d6\",\"type\":\"GlyphRenderer\"},{\"attributes\":{\"source\":{\"id\":\"4a18262d-f6ea-4d9b-b8bc-cfc2f4ae4ecc\",\"type\":\"ColumnDataSource\"}},\"id\":\"8167a4ba-4de9-4b7d-8efe-fcdc8def2550\",\"type\":\"CDSView\"},{\"attributes\":{\"fill_alpha\":{\"value\":0.7},\"fill_color\":{\"value\":\"#4daf4a\"},\"line_alpha\":{\"value\":0.7},\"line_color\":{\"value\":\"#4daf4a\"},\"x\":{\"field\":\"x\"},\"y\":{\"field\":\"y\"}},\"id\":\"36af8319-6b2d-4d7c-8c9a-7b34dddd8051\",\"type\":\"Circle\"},{\"attributes\":{},\"id\":\"9de163f0-5a67-48f9-ab06-a16d5abbdf21\",\"type\":\"PanTool\"},{\"attributes\":{\"plot\":{\"id\":\"4b7d7094-78de-4ed6-bc43-cdd188886338\",\"subtype\":\"Figure\",\"type\":\"Plot\"},\"ticker\":{\"id\":\"f5492d73-2a93-4273-8cf4-d821384808c7\",\"type\":\"BasicTicker\"}},\"id\":\"3b6af72c-a1ac-4292-9371-09844a85cc6b\",\"type\":\"Grid\"},{\"attributes\":{\"bottom_units\":\"screen\",\"fill_alpha\":{\"value\":0.5},\"fill_color\":{\"value\":\"lightgrey\"},\"left_units\":\"screen\",\"level\":\"overlay\",\"line_alpha\":{\"value\":1.0},\"line_color\":{\"value\":\"black\"},\"line_dash\":[4,4],\"line_width\":{\"value\":2},\"plot\":null,\"render_mode\":\"css\",\"right_units\":\"screen\",\"top_units\":\"screen\"},\"id\":\"358cafd7-ddb4-444a-8cde-0eda6c2fa18e\",\"type\":\"BoxAnnotation\"},{\"attributes\":{\"axis_label\":\"cooling rate [K/day]\",\"formatter\":{\"id\":\"2cd7c38a-fb6a-4f95-857d-9ff4fd150f6f\",\"type\":\"BasicTickFormatter\"},\"plot\":{\"id\":\"4b7d7094-78de-4ed6-bc43-cdd188886338\",\"subtype\":\"Figure\",\"type\":\"Plot\"},\"ticker\":{\"id\":\"f5492d73-2a93-4273-8cf4-d821384808c7\",\"type\":\"BasicTicker\"}},\"id\":\"51a91417-8ff4-40c1-934f-45551ed8e48b\",\"type\":\"LinearAxis\"},{\"attributes\":{\"data_source\":{\"id\":\"aa441302-3c53-493f-9d6a-51525ba446bd\",\"type\":\"ColumnDataSource\"},\"glyph\":{\"id\":\"36af8319-6b2d-4d7c-8c9a-7b34dddd8051\",\"type\":\"Circle\"},\"hover_glyph\":null,\"muted_glyph\":null,\"nonselection_glyph\":{\"id\":\"4d97b0d3-1a4c-446d-aad6-8968ad074df2\",\"type\":\"Circle\"},\"selection_glyph\":null,\"view\":{\"id\":\"791a6c97-2331-4515-a2a4-44a7708cc689\",\"type\":\"CDSView\"}},\"id\":\"b9dd4c51-a913-4905-9f1e-7c0da0817d28\",\"type\":\"GlyphRenderer\"},{\"attributes\":{},\"id\":\"0206d7c7-baad-499b-9071-78c8a1fe3559\",\"type\":\"BasicTicker\"},{\"attributes\":{},\"id\":\"f5492d73-2a93-4273-8cf4-d821384808c7\",\"type\":\"BasicTicker\"},{\"attributes\":{\"axis_label\":\"pressure [mb]\",\"formatter\":{\"id\":\"0b750c80-92ca-483a-8f98-afaadda421cf\",\"type\":\"BasicTickFormatter\"},\"plot\":{\"id\":\"4b7d7094-78de-4ed6-bc43-cdd188886338\",\"subtype\":\"Figure\",\"type\":\"Plot\"},\"ticker\":{\"id\":\"0206d7c7-baad-499b-9071-78c8a1fe3559\",\"type\":\"BasicTicker\"}},\"id\":\"1e2d154c-7145-41d5-b4a8-76d5c33eaded\",\"type\":\"LinearAxis\"},{\"attributes\":{\"dimension\":1,\"plot\":{\"id\":\"4b7d7094-78de-4ed6-bc43-cdd188886338\",\"subtype\":\"Figure\",\"type\":\"Plot\"},\"ticker\":{\"id\":\"0206d7c7-baad-499b-9071-78c8a1fe3559\",\"type\":\"BasicTicker\"}},\"id\":\"070769bc-5404-474e-9bd4-55496922a4db\",\"type\":\"Grid\"},{\"attributes\":{\"fill_alpha\":{\"value\":0.1},\"fill_color\":{\"value\":\"#1f77b4\"},\"line_alpha\":{\"value\":0.1},\"line_color\":{\"value\":\"#1f77b4\"},\"x\":{\"field\":\"x\"},\"y\":{\"field\":\"y\"}},\"id\":\"4d97b0d3-1a4c-446d-aad6-8968ad074df2\",\"type\":\"Circle\"},{\"attributes\":{\"callback\":null,\"data\":{\"x\":{\"__ndarray__\":\"Aw78A0Bwvj93VG/sXay+P0gPjTiukL8/+8CfK1s1wD+tPHk/C5XAP0JZvk/R6MA/RDt+2m4jwT/Ev1tiXUPBP7Qh/8wgPsE/0a06H1wJwT+47IzGDJrAP9z8+ZVSwL8/KbiS/AyYvT9V7UdIrN66P1W5N1w357o/6JT07pdovz8yJQ6wwYjCPxgIAmTo2MQ/G/di/6eoxj/xancXQUbIP66ZQghEX8o/YywN25odzT/dGZbUQxPLPyxqKJx6sMU/ICEtQm95wT9C47Kf//27PylfjiYwgLc/7lOIWcWhtD82OzFv/nSyPyRGg58ujrA/mU/A8PaSrT+30Zj6jTeqP/c9MYXjBqc/lAVTmrsApD9oMIpBBy2dP8iQ+QZ6Now/DgugnW3ccD83V9NRI29/Pw615941e5U/YFm14E/Roj9zrqpcffyxP+Sf+LUeU8U/YZPrXAe90j/lz/khHbvbPwut8xTeauI/VXD0CKCe5j9os2Y7ESrqP6ye/nk7vuw/Jn57jROV7T8qxET/2/fuP8qeTsMBPvA/61ysA3vn8D++SdOgaF7xPxG7AEV2j/E/T8qkhjaA8T8NmxJaICvxP1y6OOCplvA/LaL9ekua7z8SZZA30K7tP7zNGyeFmes/Yb6CVXF66T+5Gpd5xEvnP5OSmk2y2+Q/yZgWUAPh4j8n7uMu42LfP6eTjYMiyNg/RreYfg0x0z922wkf3xjNP4TbFG59Acc/KyfKc7fKwj8i86+CazC/P4XLrqSqQ7o/f+xRX2a9tj+uS/ps/o61P4YcW88Qjss/\",\"dtype\":\"float64\",\"shape\":[75]},\"y\":{\"__ndarray__\":\"GhExyth1ND/Sv8nbtpRIP2vylNV0PVE/aTum7souWD/At0SJ8fVgPw3Iuahxymc/MSNhhJWvcD/bTfBN02d3P2zb5nxnaoA/CD5h5MAGhz8NmeH1TyaQP+zrCsc9p5Y/LbKd76fGnz/bLW5ISEmmPww9YvTcQq8/JV2OstnstT8Er5Y7M8G+P0c+r3jqkcU/5h99k6ZBzj88bCIzFzjVP4enV8oyxN0//yH99nXg5D8qOpLLf0jtP5kqGJXUifQ/c9cS8kHP/D+/DpwzojQEQIEmwoanVwxA4lgXt9HgE0BSSZ2AJuIbQAMJih9jjiNA5q4l5INuK0AwTKYKRj0zQNv5fmq8/DpAaCJseHrtQkB/+zpwzoxKQM3MzMzMeFJAZmZmZmZqWEAAAAAAAFxeQM3MzMzMJmJAmpmZmZkfZUBmZmZmZhhoQDMzMzMzEWtAAAAAAAAKbkBmZmZmZoFwQM3MzMzM/XFAMzMzMzN6c0CamZmZmfZ0QAAAAAAAc3ZAZmZmZmbvd0DNzMzMzGt5QDMzMzMz6HpAmpmZmZlkfEAAAAAAAOF9QGZmZmZmXX9AZmZmZuZsgECamZmZGSuBQM3MzMxM6YFAAAAAAICngkAzMzMzs2WDQGZmZmbmI4RAmpmZmRnihEDNzMzMTKCFQAAAAACAXoZAMzMzM7Mch0BmZmZm5tqHQJqZmZkZmYhAzczMzExXiUAAAAAAgBWKQDMzMzOz04pAZmZmZuaRi0CamZmZGVCMQM3MzMxMDo1AAAAAAIDMjUAzMzMzs4qOQGZmZmbmSI9A\",\"dtype\":\"float64\",\"shape\":[75]}},\"selected\":{\"id\":\"43314b5b-f5ce-4937-85d1-23e8615c05a1\",\"type\":\"Selection\"},\"selection_policy\":{\"id\":\"5bcca4ab-70d4-4f85-aefe-c3b96db71d87\",\"type\":\"UnionRenderers\"}},\"id\":\"97e10824-6e21-4fc7-aa4f-337cbc189f33\",\"type\":\"ColumnDataSource\"},{\"attributes\":{\"callback\":null,\"data\":{\"x\":{\"__ndarray__\":\"Aw78A0Bwvj93VG/sXay+P0gPjTiukL8/+8CfK1s1wD+tPHk/C5XAP0JZvk/R6MA/RDt+2m4jwT/Ev1tiXUPBP7Qh/8wgPsE/0a06H1wJwT+47IzGDJrAP9z8+ZVSwL8/KbiS/AyYvT9V7UdIrN66P1W5N1w357o/6JT07pdovz8yJQ6wwYjCPxgIAmTo2MQ/G/di/6eoxj/xancXQUbIP66ZQghEX8o/YywN25odzT/dGZbUQxPLPyxqKJx6sMU/ICEtQm95wT9C47Kf//27PylfjiYwgLc/7lOIWcWhtD82OzFv/nSyPyRGg58ujrA/mU/A8PaSrT+30Zj6jTeqP/c9MYXjBqc/lAVTmrsApD9oMIpBBy2dP8iQ+QZ6Now/DgugnW3ccD83V9NRI29/Pw615941e5U/YFm14E/Roj9zrqpcffyxP+Sf+LUeU8U/YZPrXAe90j/lz/khHbvbPwut8xTeauI/VXD0CKCe5j9os2Y7ESrqP6ye/nk7vuw/Jn57jROV7T8qxET/2/fuP8qeTsMBPvA/61ysA3vn8D++SdOgaF7xPxG7AEV2j/E/T8qkhjaA8T8NmxJaICvxP1y6OOCplvA/LaL9ekua7z8SZZA30K7tP7zNGyeFmes/Yb6CVXF66T+5Gpd5xEvnP5OSmk2y2+Q/yZgWUAPh4j8n7uMu42LfP6eTjYMiyNg/RreYfg0x0z922wkf3xjNP4TbFG59Acc/KyfKc7fKwj8i86+CazC/P4XLrqSqQ7o/f+xRX2a9tj+uS/ps/o61P4YcW88Qjss/\",\"dtype\":\"float64\",\"shape\":[75]},\"y\":{\"__ndarray__\":\"GhExyth1ND/Sv8nbtpRIP2vylNV0PVE/aTum7souWD/At0SJ8fVgPw3Iuahxymc/MSNhhJWvcD/bTfBN02d3P2zb5nxnaoA/CD5h5MAGhz8NmeH1TyaQP+zrCsc9p5Y/LbKd76fGnz/bLW5ISEmmPww9YvTcQq8/JV2OstnstT8Er5Y7M8G+P0c+r3jqkcU/5h99k6ZBzj88bCIzFzjVP4enV8oyxN0//yH99nXg5D8qOpLLf0jtP5kqGJXUifQ/c9cS8kHP/D+/DpwzojQEQIEmwoanVwxA4lgXt9HgE0BSSZ2AJuIbQAMJih9jjiNA5q4l5INuK0AwTKYKRj0zQNv5fmq8/DpAaCJseHrtQkB/+zpwzoxKQM3MzMzMeFJAZmZmZmZqWEAAAAAAAFxeQM3MzMzMJmJAmpmZmZkfZUBmZmZmZhhoQDMzMzMzEWtAAAAAAAAKbkBmZmZmZoFwQM3MzMzM/XFAMzMzMzN6c0CamZmZmfZ0QAAAAAAAc3ZAZmZmZmbvd0DNzMzMzGt5QDMzMzMz6HpAmpmZmZlkfEAAAAAAAOF9QGZmZmZmXX9AZmZmZuZsgECamZmZGSuBQM3MzMxM6YFAAAAAAICngkAzMzMzs2WDQGZmZmbmI4RAmpmZmRnihEDNzMzMTKCFQAAAAACAXoZAMzMzM7Mch0BmZmZm5tqHQJqZmZkZmYhAzczMzExXiUAAAAAAgBWKQDMzMzOz04pAZmZmZuaRi0CamZmZGVCMQM3MzMxMDo1AAAAAAIDMjUAzMzMzs4qOQGZmZmbmSI9A\",\"dtype\":\"float64\",\"shape\":[75]}},\"selected\":{\"id\":\"f5a059df-323c-4159-85d0-28651c25eadd\",\"type\":\"Selection\"},\"selection_policy\":{\"id\":\"ad2d6f1d-7b28-47ab-8531-5103c5c96902\",\"type\":\"UnionRenderers\"}},\"id\":\"6423f526-75fe-49f6-b491-d7dbbe0d89a5\",\"type\":\"ColumnDataSource\"},{\"attributes\":{\"fill_alpha\":{\"value\":0.1},\"fill_color\":{\"value\":\"#1f77b4\"},\"line_alpha\":{\"value\":0.1},\"line_color\":{\"value\":\"#1f77b4\"},\"x\":{\"field\":\"x\"},\"y\":{\"field\":\"y\"}},\"id\":\"776ff57a-314a-4a1b-8982-c1ff850fc90b\",\"type\":\"Circle\"},{\"attributes\":{\"overlay\":{\"id\":\"358cafd7-ddb4-444a-8cde-0eda6c2fa18e\",\"type\":\"BoxAnnotation\"}},\"id\":\"66046c57-6be9-498b-8d12-9e74f0de3317\",\"type\":\"BoxZoomTool\"},{\"attributes\":{\"source\":{\"id\":\"97e10824-6e21-4fc7-aa4f-337cbc189f33\",\"type\":\"ColumnDataSource\"}},\"id\":\"53e7879f-6e64-4d7b-b909-dc6f9dc383f2\",\"type\":\"CDSView\"},{\"attributes\":{\"callback\":null,\"data\":{\"x\":{\"__ndarray__\":\"ya4XZJbQtD/ttTp3EDy1P3gddi0d/7U/oSlGBN+8tj9qr5dzUou3PxsL0vj3Pbg/YNesNYXZuD9ThswU2Fe5PzNIKiMIqLk/W0vLfmO+uT/9hmuHonS5PwjJ+Svqybg/kOp/u3SVtz9PuKaHCPS1P2ABukrY5LY/V7IviNMOvD+zCecHsT/BP+mPmfjC/MM/vYZ8Wtoaxj/Pz1ryENLHP99cUmIH8sk/ITYe/g7xzD+iGZELLHbLPxp+0uW6jcY/vdEgtalnwj90bm4gbz29P0Q1kqb0Bbg/qBfCCa+ptD+IXXglUC2yP7sbIAdLArA/MncuJRIArD+uSnNMrJWoPzentHTruKU/LoGF/D7woj8/QkwJqOKaP+bip0nkUYc/fwbC84GlXz8I+V10Iah3P7vIJ9ly8ZM/ZuzzUYKUoj8deTEnwHWyP1DThLdWb8Y/f3ih+WJm0z8wz/hKBL3bP6J8utqjU+I/B1I7fgyP5j8/k/gKd7vpPxLytwuPN+w/ZpdhUHxo7T/p1ghh3NjuP7FCxz+qIfA/cf0g4Cvi8D/1ghhj8ofxP5eUB0kG0PE/CuRe+sKt8T9BhQt0TjvxP8s+C7VEn/A/vYT6ZI/Y7z+vZTsY5yruP6Q+gquDJew/POuA0dbM6T9EoqudrCLnP1AO47+uMOQ/aIRvTEbD4T/y/y7N7NncP/qOGDQIpdY/k3ohP0vZ0T8YXj9ft+XLPyft7jv2mMY/8Rd0whFTwj/7MKnfK6m9P3+xWxiR27c/Ckj5xdx1sz/LregVMnuxP0wZmdKomMk/\",\"dtype\":\"float64\",\"shape\":[75]},\"y\":{\"__ndarray__\":\"GhExyth1ND/Sv8nbtpRIP2vylNV0PVE/aTum7souWD/At0SJ8fVgPw3Iuahxymc/MSNhhJWvcD/bTfBN02d3P2zb5nxnaoA/CD5h5MAGhz8NmeH1TyaQP+zrCsc9p5Y/LbKd76fGnz/bLW5ISEmmPww9YvTcQq8/JV2OstnstT8Er5Y7M8G+P0c+r3jqkcU/5h99k6ZBzj88bCIzFzjVP4enV8oyxN0//yH99nXg5D8qOpLLf0jtP5kqGJXUifQ/c9cS8kHP/D+/DpwzojQEQIEmwoanVwxA4lgXt9HgE0BSSZ2AJuIbQAMJih9jjiNA5q4l5INuK0AwTKYKRj0zQNv5fmq8/DpAaCJseHrtQkB/+zpwzoxKQM3MzMzMeFJAZmZmZmZqWEAAAAAAAFxeQM3MzMzMJmJAmpmZmZkfZUBmZmZmZhhoQDMzMzMzEWtAAAAAAAAKbkBmZmZmZoFwQM3MzMzM/XFAMzMzMzN6c0CamZmZmfZ0QAAAAAAAc3ZAZmZmZmbvd0DNzMzMzGt5QDMzMzMz6HpAmpmZmZlkfEAAAAAAAOF9QGZmZmZmXX9AZmZmZuZsgECamZmZGSuBQM3MzMxM6YFAAAAAAICngkAzMzMzs2WDQGZmZmbmI4RAmpmZmRnihEDNzMzMTKCFQAAAAACAXoZAMzMzM7Mch0BmZmZm5tqHQJqZmZkZmYhAzczMzExXiUAAAAAAgBWKQDMzMzOz04pAZmZmZuaRi0CamZmZGVCMQM3MzMxMDo1AAAAAAIDMjUAzMzMzs4qOQGZmZmbmSI9A\",\"dtype\":\"float64\",\"shape\":[75]}},\"selected\":{\"id\":\"36de4a05-6151-4581-9b61-f6f589ca3b60\",\"type\":\"Selection\"},\"selection_policy\":{\"id\":\"8099e970-0a41-4bfc-ac0b-e51aff5046c2\",\"type\":\"UnionRenderers\"}},\"id\":\"fd591231-0bcc-45cb-a631-4bde5fb20abf\",\"type\":\"ColumnDataSource\"},{\"attributes\":{\"source\":{\"id\":\"4dfc5bd5-6da0-4d30-88df-5c5094811351\",\"type\":\"ColumnDataSource\"}},\"id\":\"64bfeee7-6d7d-4830-b269-8a81cc99e83f\",\"type\":\"CDSView\"},{\"attributes\":{\"line_alpha\":0.1,\"line_color\":\"#1f77b4\",\"line_width\":1.5,\"x\":{\"field\":\"x\"},\"y\":{\"field\":\"y\"}},\"id\":\"5b8ea2bc-af5b-482a-b7a7-c5de29121fa5\",\"type\":\"Line\"},{\"attributes\":{\"source\":{\"id\":\"aa441302-3c53-493f-9d6a-51525ba446bd\",\"type\":\"ColumnDataSource\"}},\"id\":\"791a6c97-2331-4515-a2a4-44a7708cc689\",\"type\":\"CDSView\"},{\"attributes\":{},\"id\":\"ab3f0aae-2ff5-4fa5-a73b-93f7e2dbcc64\",\"type\":\"SaveTool\"},{\"attributes\":{},\"id\":\"88e168e6-41ac-4c2d-85d9-38880035c0fe\",\"type\":\"ResetTool\"},{\"attributes\":{\"source\":{\"id\":\"b9098081-99e7-4ca2-a6e5-647ea721cd9c\",\"type\":\"ColumnDataSource\"}},\"id\":\"69c008d0-eeab-462f-be5f-b8256a634795\",\"type\":\"CDSView\"},{\"attributes\":{},\"id\":\"90946a8e-d6a7-4d5c-a6fe-c1d97d6a080b\",\"type\":\"HelpTool\"},{\"attributes\":{\"line_alpha\":0.1,\"line_color\":\"#1f77b4\",\"line_width\":1.5,\"x\":{\"field\":\"x\"},\"y\":{\"field\":\"y\"}},\"id\":\"2da85c2e-d38b-4bf3-b82c-2d6448406e76\",\"type\":\"Line\"},{\"attributes\":{\"data_source\":{\"id\":\"4a18262d-f6ea-4d9b-b8bc-cfc2f4ae4ecc\",\"type\":\"ColumnDataSource\"},\"glyph\":{\"id\":\"d5ce8f73-72d2-4b1b-864a-5c8a73f067c0\",\"type\":\"Circle\"},\"hover_glyph\":null,\"muted_glyph\":null,\"nonselection_glyph\":{\"id\":\"776ff57a-314a-4a1b-8982-c1ff850fc90b\",\"type\":\"Circle\"},\"selection_glyph\":null,\"view\":{\"id\":\"8167a4ba-4de9-4b7d-8efe-fcdc8def2550\",\"type\":\"CDSView\"}},\"id\":\"6bece2a7-c348-47b4-b34a-cf96e81d6bf5\",\"type\":\"GlyphRenderer\"},{\"attributes\":{\"data_source\":{\"id\":\"6423f526-75fe-49f6-b491-d7dbbe0d89a5\",\"type\":\"ColumnDataSource\"},\"glyph\":{\"id\":\"37a0aa02-f463-4c1d-a9fe-72ddd0101e15\",\"type\":\"Line\"},\"hover_glyph\":null,\"muted_glyph\":null,\"nonselection_glyph\":{\"id\":\"2da85c2e-d38b-4bf3-b82c-2d6448406e76\",\"type\":\"Line\"},\"selection_glyph\":null,\"view\":{\"id\":\"c0b0c2f8-f36b-4c47-a6ff-762a6942745f\",\"type\":\"CDSView\"}},\"id\":\"6d038d7c-6988-46d2-80a7-613e3652914b\",\"type\":\"GlyphRenderer\"},{\"attributes\":{\"source\":{\"id\":\"6423f526-75fe-49f6-b491-d7dbbe0d89a5\",\"type\":\"ColumnDataSource\"}},\"id\":\"c0b0c2f8-f36b-4c47-a6ff-762a6942745f\",\"type\":\"CDSView\"},{\"attributes\":{\"fill_alpha\":{\"value\":0.7},\"fill_color\":{\"value\":\"#984ea3\"},\"line_alpha\":{\"value\":0.7},\"line_color\":{\"value\":\"#984ea3\"},\"x\":{\"field\":\"x\"},\"y\":{\"field\":\"y\"}},\"id\":\"34a98046-a1ba-4569-876a-11b3fa6811a1\",\"type\":\"Square\"},{\"attributes\":{\"data_source\":{\"id\":\"bee3040f-66e8-45db-8fe1-3a76633be2c2\",\"type\":\"ColumnDataSource\"},\"glyph\":{\"id\":\"b082edc6-04c9-4304-8df1-e20ba0cd96c7\",\"type\":\"Line\"},\"hover_glyph\":null,\"muted_glyph\":null,\"nonselection_glyph\":{\"id\":\"0459a1a0-fea8-4d32-9412-3dd2c3a8a7b1\",\"type\":\"Line\"},\"selection_glyph\":null,\"view\":{\"id\":\"8795ced0-4677-40c3-b98e-5d969ad69b18\",\"type\":\"CDSView\"}},\"id\":\"2222f61e-7dbf-4daf-9496-4cc38e71be56\",\"type\":\"GlyphRenderer\"},{\"attributes\":{\"callback\":null,\"data\":{\"x\":{\"__ndarray__\":\"ya4XZJbQtD/ttTp3EDy1P3gddi0d/7U/oSlGBN+8tj9qr5dzUou3PxsL0vj3Pbg/YNesNYXZuD9ThswU2Fe5PzNIKiMIqLk/W0vLfmO+uT/9hmuHonS5PwjJ+Svqybg/kOp/u3SVtz9PuKaHCPS1P2ABukrY5LY/V7IviNMOvD+zCecHsT/BP+mPmfjC/MM/vYZ8Wtoaxj/Pz1ryENLHP99cUmIH8sk/ITYe/g7xzD+iGZELLHbLPxp+0uW6jcY/vdEgtalnwj90bm4gbz29P0Q1kqb0Bbg/qBfCCa+ptD+IXXglUC2yP7sbIAdLArA/MncuJRIArD+uSnNMrJWoPzentHTruKU/LoGF/D7woj8/QkwJqOKaP+bip0nkUYc/fwbC84GlXz8I+V10Iah3P7vIJ9ly8ZM/ZuzzUYKUoj8deTEnwHWyP1DThLdWb8Y/f3ih+WJm0z8wz/hKBL3bP6J8utqjU+I/B1I7fgyP5j8/k/gKd7vpPxLytwuPN+w/ZpdhUHxo7T/p1ghh3NjuP7FCxz+qIfA/cf0g4Cvi8D/1ghhj8ofxP5eUB0kG0PE/CuRe+sKt8T9BhQt0TjvxP8s+C7VEn/A/vYT6ZI/Y7z+vZTsY5yruP6Q+gquDJew/POuA0dbM6T9EoqudrCLnP1AO47+uMOQ/aIRvTEbD4T/y/y7N7NncP/qOGDQIpdY/k3ohP0vZ0T8YXj9ft+XLPyft7jv2mMY/8Rd0whFTwj/7MKnfK6m9P3+xWxiR27c/Ckj5xdx1sz/LregVMnuxP0wZmdKomMk/\",\"dtype\":\"float64\",\"shape\":[75]},\"y\":{\"__ndarray__\":\"GhExyth1ND/Sv8nbtpRIP2vylNV0PVE/aTum7souWD/At0SJ8fVgPw3Iuahxymc/MSNhhJWvcD/bTfBN02d3P2zb5nxnaoA/CD5h5MAGhz8NmeH1TyaQP+zrCsc9p5Y/LbKd76fGnz/bLW5ISEmmPww9YvTcQq8/JV2OstnstT8Er5Y7M8G+P0c+r3jqkcU/5h99k6ZBzj88bCIzFzjVP4enV8oyxN0//yH99nXg5D8qOpLLf0jtP5kqGJXUifQ/c9cS8kHP/D+/DpwzojQEQIEmwoanVwxA4lgXt9HgE0BSSZ2AJuIbQAMJih9jjiNA5q4l5INuK0AwTKYKRj0zQNv5fmq8/DpAaCJseHrtQkB/+zpwzoxKQM3MzMzMeFJAZmZmZmZqWEAAAAAAAFxeQM3MzMzMJmJAmpmZmZkfZUBmZmZmZhhoQDMzMzMzEWtAAAAAAAAKbkBmZmZmZoFwQM3MzMzM/XFAMzMzMzN6c0CamZmZmfZ0QAAAAAAAc3ZAZmZmZmbvd0DNzMzMzGt5QDMzMzMz6HpAmpmZmZlkfEAAAAAAAOF9QGZmZmZmXX9AZmZmZuZsgECamZmZGSuBQM3MzMxM6YFAAAAAAICngkAzMzMzs2WDQGZmZmbmI4RAmpmZmRnihEDNzMzMTKCFQAAAAACAXoZAMzMzM7Mch0BmZmZm5tqHQJqZmZkZmYhAzczMzExXiUAAAAAAgBWKQDMzMzOz04pAZmZmZuaRi0CamZmZGVCMQM3MzMxMDo1AAAAAAIDMjUAzMzMzs4qOQGZmZmbmSI9A\",\"dtype\":\"float64\",\"shape\":[75]}},\"selected\":{\"id\":\"1328c74a-7712-46b9-b740-60a785dba6a2\",\"type\":\"Selection\"},\"selection_policy\":{\"id\":\"9de7f841-9c3e-47a0-b630-2888df44ff61\",\"type\":\"UnionRenderers\"}},\"id\":\"bee3040f-66e8-45db-8fe1-3a76633be2c2\",\"type\":\"ColumnDataSource\"},{\"attributes\":{\"source\":{\"id\":\"bee3040f-66e8-45db-8fe1-3a76633be2c2\",\"type\":\"ColumnDataSource\"}},\"id\":\"8795ced0-4677-40c3-b98e-5d969ad69b18\",\"type\":\"CDSView\"},{\"attributes\":{},\"id\":\"0b750c80-92ca-483a-8f98-afaadda421cf\",\"type\":\"BasicTickFormatter\"},{\"attributes\":{\"label\":{\"value\":\"CLIRAD `coolr_bands`\"},\"renderers\":[{\"id\":\"c767fe6a-9881-4874-ae02-847e3da473d6\",\"type\":\"GlyphRenderer\"}]},\"id\":\"cc6dd66f-dd58-44a8-bbb6-7459ca5d215c\",\"type\":\"LegendItem\"},{\"attributes\":{\"label\":{\"value\":\"WGT igg=10 wgt_flux=2\"},\"renderers\":[{\"id\":\"f54d10af-a37e-45d3-a071-3a95f68a9cf8\",\"type\":\"GlyphRenderer\"},{\"id\":\"2222f61e-7dbf-4daf-9496-4cc38e71be56\",\"type\":\"GlyphRenderer\"}]},\"id\":\"590e026b-1992-4f84-8aa9-450ebb3c70a0\",\"type\":\"LegendItem\"},{\"attributes\":{\"label\":{\"value\":\"CRD\"},\"renderers\":[{\"id\":\"b9dd4c51-a913-4905-9f1e-7c0da0817d28\",\"type\":\"GlyphRenderer\"},{\"id\":\"6d038d7c-6988-46d2-80a7-613e3652914b\",\"type\":\"GlyphRenderer\"}]},\"id\":\"9d556e2d-5fa9-4371-9ae8-33abdd6ed8ee\",\"type\":\"LegendItem\"},{\"attributes\":{},\"id\":\"3a65883b-7ff7-4534-bc5f-70074ab1c5e2\",\"type\":\"LinearScale\"},{\"attributes\":{},\"id\":\"0bb9ec88-fd89-4de5-afa4-b8396eef9ce1\",\"type\":\"LogScale\"},{\"attributes\":{\"plot\":{\"id\":\"7f8d4547-34c5-424c-96e0-3b525388330f\",\"subtype\":\"Figure\",\"type\":\"Plot\"},\"ticker\":{\"id\":\"be48d6d0-b38a-4cb7-8f4b-5365bc8bde4a\",\"type\":\"BasicTicker\"}},\"id\":\"0d5edac5-58eb-49a6-92cd-ef2d743c1388\",\"type\":\"Grid\"},{\"attributes\":{\"overlay\":{\"id\":\"a1701f2e-a33b-42b8-9a8c-f403c26d04fd\",\"type\":\"BoxAnnotation\"}},\"id\":\"21b07771-6d18-4ed9-9976-095669fae1bd\",\"type\":\"BoxZoomTool\"},{\"attributes\":{\"callback\":null,\"end\":0.2297261044,\"start\":-0.0008076043999999997},\"id\":\"22a1b406-9b2a-48c4-ac79-ebc941879f70\",\"type\":\"Range1d\"},{\"attributes\":{\"callback\":null,\"end\":0.01,\"start\":1020},\"id\":\"85813078-b39f-4dca-80c4-20fa5075c1fa\",\"type\":\"Range1d\"},{\"attributes\":{\"data_source\":{\"id\":\"6274291f-3161-404d-b0c1-9c4720dac191\",\"type\":\"ColumnDataSource\"},\"glyph\":{\"id\":\"b142cac1-d300-4363-a30a-2e1005be3142\",\"type\":\"Square\"},\"hover_glyph\":null,\"muted_glyph\":null,\"nonselection_glyph\":{\"id\":\"60a7b3ba-ae69-4e80-a826-edef2c9947f1\",\"type\":\"Square\"},\"selection_glyph\":null,\"view\":{\"id\":\"d1dd6693-88de-43bb-aa01-24700001db41\",\"type\":\"CDSView\"}},\"id\":\"6d7093db-8a76-4f25-bb53-972a29767684\",\"type\":\"GlyphRenderer\"},{\"attributes\":{\"callback\":null,\"data\":{\"x\":{\"__ndarray__\":\"mcB6ytSerj9oQPILBSWvPz6iYMvNZbA/S+GQ+b8ksT+88bvXs+GxP/LC55g9mrI/f5gkmUxKsz+bhopsRe2zPyBQQliperQ/8bHNIwXqtD8NuRdtlS21P89O+RzHK7U/XYeGn+HItD/lVhAc+hu0P6enBM6Wz7U/Q3C/8Ah2uz/Y8YAu8TLBPwwbpxk5KMQ/VURVZUJAxj9gW5q22p7HP9Px+6uFYck/AVgVyImCzD9inwCKkaXLP7kWb1ytMMc/aWx1WjMJwz/XdgsLi929Pxlk0qxaPLg/HqjrOmi3tD8CeEiHQFuyP25HsvOoC7A/diH9xjzKqz95Wo0LWImoP6hQgqOJHKY/joYw19I+oz8glqdV786aPwF468yiT4Y/3mEsNlrMVz8RHsn6SLB2P/OiXSJq5JM/a/PjVfSMoj/79khfFWOyP3Q/K1njJsY/n9m//F9/0j+JHI0JUuXZP2RnfvPqVeE/tE07RsMz5T8jc13fJJnnP79IR73Qceo/CsIN319Q7D/2IRQAiMDtP/kUfKp1SO8//VMF/kut8D+wLOKFvqXxP//5bNOOEfI/e4hGdxD78T9ukKT/QJTxP2V9uQUBKPE/RBH3/UC+8D8HdkalIh/wP2bkJHshUO4/LsGQcoOj6z9yKgBjCW3oPzMhvRN58+Q/9bsTYBZC4j/umi2sXcvdP95TnBfl4dc/5QBNxilh0z/ZsjpBtLnOPww2+Va5isg/sSjTBUh2wz+9zfKnUz++P4Mh6r+APrc/F2s0kJlRsj++jf3HajywPxHb5XS89sg/\",\"dtype\":\"float64\",\"shape\":[75]},\"y\":{\"__ndarray__\":\"S/O/Q+51ND/Sv8nbtpRIP2vylNV0PVE/aTum7souWD/At0SJ8fVgPw3Iuahxymc/MSNhhJWvcD/bTfBN02d3P2zb5nxnaoA/CD5h5MAGhz8NmeH1TyaQP+zrCsc9p5Y/LbKd76fGnz/bLW5ISEmmPww9YvTcQq8/JV2OstnstT8Er5Y7M8G+P0c+r3jqkcU/5h99k6ZBzj88bCIzFzjVP4enV8oyxN0//yH99nXg5D8qOpLLf0jtP5kqGJXUifQ/c9cS8kHP/D+/DpwzojQEQIEmwoanVwxA4lgXt9HgE0BSSZ2AJuIbQAMJih9jjiNA5q4l5INuK0AwTKYKRj0zQNv5fmq8/DpAaCJseHrtQkB/+zpwzoxKQM3MzMzMeFJAZmZmZmZqWEAAAAAAAFxeQM3MzMzMJmJAmpmZmZkfZUBmZmZmZhhoQDMzMzMzEWtAAAAAAAAKbkBmZmZmZoFwQM3MzMzM/XFAMzMzMzN6c0CamZmZmfZ0QAAAAAAAc3ZAZmZmZmbvd0DNzMzMzGt5QDMzMzMz6HpAmpmZmZlkfEAAAAAAAOF9QGZmZmZmXX9AZmZmZuZsgECamZmZGSuBQM3MzMxM6YFAAAAAAICngkAzMzMzs2WDQGZmZmbmI4RAmpmZmRnihEDNzMzMTKCFQAAAAACAXoZAMzMzM7Mch0BmZmZm5tqHQJqZmZkZmYhAzczMzExXiUAAAAAAgBWKQDMzMzOz04pAZmZmZuaRi0CamZmZGVCMQM3MzMxMDo1AAAAAAIDMjUAzMzMzs4qOQGZmZmbmSI9A\",\"dtype\":\"float64\",\"shape\":[75]}},\"selected\":{\"id\":\"173e57be-b632-4b32-ba80-a479e6f26232\",\"type\":\"Selection\"},\"selection_policy\":{\"id\":\"cf7c64fc-b3c8-428a-929c-55e5f8d8bb53\",\"type\":\"UnionRenderers\"}},\"id\":\"b9098081-99e7-4ca2-a6e5-647ea721cd9c\",\"type\":\"ColumnDataSource\"},{\"attributes\":{\"bottom_units\":\"screen\",\"fill_alpha\":{\"value\":0.5},\"fill_color\":{\"value\":\"lightgrey\"},\"left_units\":\"screen\",\"level\":\"overlay\",\"line_alpha\":{\"value\":1.0},\"line_color\":{\"value\":\"black\"},\"line_dash\":[4,4],\"line_width\":{\"value\":2},\"plot\":null,\"render_mode\":\"css\",\"right_units\":\"screen\",\"top_units\":\"screen\"},\"id\":\"a1701f2e-a33b-42b8-9a8c-f403c26d04fd\",\"type\":\"BoxAnnotation\"},{\"attributes\":{\"callback\":null,\"data\":{\"x\":{\"__ndarray__\":\"mcB6ytSerj9oQPILBSWvPz6iYMvNZbA/S+GQ+b8ksT+88bvXs+GxP/LC55g9mrI/f5gkmUxKsz+bhopsRe2zPyBQQliperQ/8bHNIwXqtD8NuRdtlS21P89O+RzHK7U/XYeGn+HItD/lVhAc+hu0P6enBM6Wz7U/Q3C/8Ah2uz/Y8YAu8TLBPwwbpxk5KMQ/VURVZUJAxj9gW5q22p7HP9Px+6uFYck/AVgVyImCzD9inwCKkaXLP7kWb1ytMMc/aWx1WjMJwz/XdgsLi929Pxlk0qxaPLg/HqjrOmi3tD8CeEiHQFuyP25HsvOoC7A/diH9xjzKqz95Wo0LWImoP6hQgqOJHKY/joYw19I+oz8glqdV786aPwF468yiT4Y/3mEsNlrMVz8RHsn6SLB2P/OiXSJq5JM/a/PjVfSMoj/79khfFWOyP3Q/K1njJsY/n9m//F9/0j+JHI0JUuXZP2RnfvPqVeE/tE07RsMz5T8jc13fJJnnP79IR73Qceo/CsIN319Q7D/2IRQAiMDtP/kUfKp1SO8//VMF/kut8D+wLOKFvqXxP//5bNOOEfI/e4hGdxD78T9ukKT/QJTxP2V9uQUBKPE/RBH3/UC+8D8HdkalIh/wP2bkJHshUO4/LsGQcoOj6z9yKgBjCW3oPzMhvRN58+Q/9bsTYBZC4j/umi2sXcvdP95TnBfl4dc/5QBNxilh0z/ZsjpBtLnOPww2+Va5isg/sSjTBUh2wz+9zfKnUz++P4Mh6r+APrc/F2s0kJlRsj++jf3HajywPxHb5XS89sg/\",\"dtype\":\"float64\",\"shape\":[75]},\"y\":{\"__ndarray__\":\"S/O/Q+51ND/Sv8nbtpRIP2vylNV0PVE/aTum7souWD/At0SJ8fVgPw3Iuahxymc/MSNhhJWvcD/bTfBN02d3P2zb5nxnaoA/CD5h5MAGhz8NmeH1TyaQP+zrCsc9p5Y/LbKd76fGnz/bLW5ISEmmPww9YvTcQq8/JV2OstnstT8Er5Y7M8G+P0c+r3jqkcU/5h99k6ZBzj88bCIzFzjVP4enV8oyxN0//yH99nXg5D8qOpLLf0jtP5kqGJXUifQ/c9cS8kHP/D+/DpwzojQEQIEmwoanVwxA4lgXt9HgE0BSSZ2AJuIbQAMJih9jjiNA5q4l5INuK0AwTKYKRj0zQNv5fmq8/DpAaCJseHrtQkB/+zpwzoxKQM3MzMzMeFJAZmZmZmZqWEAAAAAAAFxeQM3MzMzMJmJAmpmZmZkfZUBmZmZmZhhoQDMzMzMzEWtAAAAAAAAKbkBmZmZmZoFwQM3MzMzM/XFAMzMzMzN6c0CamZmZmfZ0QAAAAAAAc3ZAZmZmZmbvd0DNzMzMzGt5QDMzMzMz6HpAmpmZmZlkfEAAAAAAAOF9QGZmZmZmXX9AZmZmZuZsgECamZmZGSuBQM3MzMxM6YFAAAAAAICngkAzMzMzs2WDQGZmZmbmI4RAmpmZmRnihEDNzMzMTKCFQAAAAACAXoZAMzMzM7Mch0BmZmZm5tqHQJqZmZkZmYhAzczMzExXiUAAAAAAgBWKQDMzMzOz04pAZmZmZuaRi0CamZmZGVCMQM3MzMxMDo1AAAAAAIDMjUAzMzMzs4qOQGZmZmbmSI9A\",\"dtype\":\"float64\",\"shape\":[75]}},\"selected\":{\"id\":\"7b5113c8-e567-481b-9867-e28d03b41a27\",\"type\":\"Selection\"},\"selection_policy\":{\"id\":\"454a56e4-7168-4160-ac3f-a13812c436db\",\"type\":\"UnionRenderers\"}},\"id\":\"4dfc5bd5-6da0-4d30-88df-5c5094811351\",\"type\":\"ColumnDataSource\"},{\"attributes\":{\"line_alpha\":0.1,\"line_color\":\"#1f77b4\",\"line_dash\":[6],\"line_width\":5,\"x\":{\"field\":\"x\"},\"y\":{\"field\":\"y\"}},\"id\":\"013f8b55-8b45-4408-a31b-8d05edec4494\",\"type\":\"Line\"},{\"attributes\":{\"num_minor_ticks\":10},\"id\":\"378aa3ad-6ae2-4363-81df-5855051a8eb4\",\"type\":\"LogTicker\"},{\"attributes\":{\"callback\":null,\"data\":{\"x\":{\"__ndarray__\":\"ya4XZJbQtD/ttTp3EDy1P3gddi0d/7U/oSlGBN+8tj9qr5dzUou3PxsL0vj3Pbg/YNesNYXZuD9ThswU2Fe5PzNIKiMIqLk/W0vLfmO+uT/9hmuHonS5PwjJ+Svqybg/kOp/u3SVtz9PuKaHCPS1P2ABukrY5LY/V7IviNMOvD+zCecHsT/BP+mPmfjC/MM/vYZ8Wtoaxj/Pz1ryENLHP99cUmIH8sk/ITYe/g7xzD+iGZELLHbLPxp+0uW6jcY/vdEgtalnwj90bm4gbz29P0Q1kqb0Bbg/qBfCCa+ptD+IXXglUC2yP7sbIAdLArA/MncuJRIArD+uSnNMrJWoPzentHTruKU/LoGF/D7woj8/QkwJqOKaP+bip0nkUYc/fwbC84GlXz8I+V10Iah3P7vIJ9ly8ZM/ZuzzUYKUoj8deTEnwHWyP1DThLdWb8Y/f3ih+WJm0z8wz/hKBL3bP6J8utqjU+I/B1I7fgyP5j8/k/gKd7vpPxLytwuPN+w/ZpdhUHxo7T/p1ghh3NjuP7FCxz+qIfA/cf0g4Cvi8D/1ghhj8ofxP5eUB0kG0PE/CuRe+sKt8T9BhQt0TjvxP8s+C7VEn/A/vYT6ZI/Y7z+vZTsY5yruP6Q+gquDJew/POuA0dbM6T9EoqudrCLnP1AO47+uMOQ/aIRvTEbD4T/y/y7N7NncP/qOGDQIpdY/k3ohP0vZ0T8YXj9ft+XLPyft7jv2mMY/8Rd0whFTwj/7MKnfK6m9P3+xWxiR27c/Ckj5xdx1sz/LregVMnuxP0wZmdKomMk/\",\"dtype\":\"float64\",\"shape\":[75]},\"y\":{\"__ndarray__\":\"GhExyth1ND/Sv8nbtpRIP2vylNV0PVE/aTum7souWD/At0SJ8fVgPw3Iuahxymc/MSNhhJWvcD/bTfBN02d3P2zb5nxnaoA/CD5h5MAGhz8NmeH1TyaQP+zrCsc9p5Y/LbKd76fGnz/bLW5ISEmmPww9YvTcQq8/JV2OstnstT8Er5Y7M8G+P0c+r3jqkcU/5h99k6ZBzj88bCIzFzjVP4enV8oyxN0//yH99nXg5D8qOpLLf0jtP5kqGJXUifQ/c9cS8kHP/D+/DpwzojQEQIEmwoanVwxA4lgXt9HgE0BSSZ2AJuIbQAMJih9jjiNA5q4l5INuK0AwTKYKRj0zQNv5fmq8/DpAaCJseHrtQkB/+zpwzoxKQM3MzMzMeFJAZmZmZmZqWEAAAAAAAFxeQM3MzMzMJmJAmpmZmZkfZUBmZmZmZhhoQDMzMzMzEWtAAAAAAAAKbkBmZmZmZoFwQM3MzMzM/XFAMzMzMzN6c0CamZmZmfZ0QAAAAAAAc3ZAZmZmZmbvd0DNzMzMzGt5QDMzMzMz6HpAmpmZmZlkfEAAAAAAAOF9QGZmZmZmXX9AZmZmZuZsgECamZmZGSuBQM3MzMxM6YFAAAAAAICngkAzMzMzs2WDQGZmZmbmI4RAmpmZmRnihEDNzMzMTKCFQAAAAACAXoZAMzMzM7Mch0BmZmZm5tqHQJqZmZkZmYhAzczMzExXiUAAAAAAgBWKQDMzMzOz04pAZmZmZuaRi0CamZmZGVCMQM3MzMxMDo1AAAAAAIDMjUAzMzMzs4qOQGZmZmbmSI9A\",\"dtype\":\"float64\",\"shape\":[75]}},\"selected\":{\"id\":\"b7524385-c742-4bb1-9cd8-24abe245a0eb\",\"type\":\"Selection\"},\"selection_policy\":{\"id\":\"8804e461-a868-4d9f-a272-1030dadceb44\",\"type\":\"UnionRenderers\"}},\"id\":\"472c3a45-5c88-4a3f-b0ed-7c9a1c5d5526\",\"type\":\"ColumnDataSource\"},{\"attributes\":{\"data_source\":{\"id\":\"4dfc5bd5-6da0-4d30-88df-5c5094811351\",\"type\":\"ColumnDataSource\"},\"glyph\":{\"id\":\"4e34dc32-022c-41e2-939b-2b9fcbad8ac2\",\"type\":\"Line\"},\"hover_glyph\":null,\"muted_glyph\":null,\"nonselection_glyph\":{\"id\":\"013f8b55-8b45-4408-a31b-8d05edec4494\",\"type\":\"Line\"},\"selection_glyph\":null,\"view\":{\"id\":\"64bfeee7-6d7d-4830-b269-8a81cc99e83f\",\"type\":\"CDSView\"}},\"id\":\"336f9672-3d26-49a7-a7e8-64ed8dc4ba5b\",\"type\":\"GlyphRenderer\"},{\"attributes\":{\"line_alpha\":0.6,\"line_color\":\"#e41a1c\",\"line_dash\":[6],\"line_width\":5,\"x\":{\"field\":\"x\"},\"y\":{\"field\":\"y\"}},\"id\":\"a10e6385-ca7c-4890-87ba-9b92c9c725cc\",\"type\":\"Line\"},{\"attributes\":{\"callback\":null,\"data\":{\"x\":{\"__ndarray__\":\"ya4XZJbQtD/ttTp3EDy1P3gddi0d/7U/oSlGBN+8tj9qr5dzUou3PxsL0vj3Pbg/YNesNYXZuD9ThswU2Fe5PzNIKiMIqLk/W0vLfmO+uT/9hmuHonS5PwjJ+Svqybg/kOp/u3SVtz9PuKaHCPS1P2ABukrY5LY/V7IviNMOvD+zCecHsT/BP+mPmfjC/MM/vYZ8Wtoaxj/Pz1ryENLHP99cUmIH8sk/ITYe/g7xzD+iGZELLHbLPxp+0uW6jcY/vdEgtalnwj90bm4gbz29P0Q1kqb0Bbg/qBfCCa+ptD+IXXglUC2yP7sbIAdLArA/MncuJRIArD+uSnNMrJWoPzentHTruKU/LoGF/D7woj8/QkwJqOKaP+bip0nkUYc/fwbC84GlXz8I+V10Iah3P7vIJ9ly8ZM/ZuzzUYKUoj8deTEnwHWyP1DThLdWb8Y/f3ih+WJm0z8wz/hKBL3bP6J8utqjU+I/B1I7fgyP5j8/k/gKd7vpPxLytwuPN+w/ZpdhUHxo7T/p1ghh3NjuP7FCxz+qIfA/cf0g4Cvi8D/1ghhj8ofxP5eUB0kG0PE/CuRe+sKt8T9BhQt0TjvxP8s+C7VEn/A/vYT6ZI/Y7z+vZTsY5yruP6Q+gquDJew/POuA0dbM6T9EoqudrCLnP1AO47+uMOQ/aIRvTEbD4T/y/y7N7NncP/qOGDQIpdY/k3ohP0vZ0T8YXj9ft+XLPyft7jv2mMY/8Rd0whFTwj/7MKnfK6m9P3+xWxiR27c/Ckj5xdx1sz/LregVMnuxP0wZmdKomMk/\",\"dtype\":\"float64\",\"shape\":[75]},\"y\":{\"__ndarray__\":\"GhExyth1ND/Sv8nbtpRIP2vylNV0PVE/aTum7souWD/At0SJ8fVgPw3Iuahxymc/MSNhhJWvcD/bTfBN02d3P2zb5nxnaoA/CD5h5MAGhz8NmeH1TyaQP+zrCsc9p5Y/LbKd76fGnz/bLW5ISEmmPww9YvTcQq8/JV2OstnstT8Er5Y7M8G+P0c+r3jqkcU/5h99k6ZBzj88bCIzFzjVP4enV8oyxN0//yH99nXg5D8qOpLLf0jtP5kqGJXUifQ/c9cS8kHP/D+/DpwzojQEQIEmwoanVwxA4lgXt9HgE0BSSZ2AJuIbQAMJih9jjiNA5q4l5INuK0AwTKYKRj0zQNv5fmq8/DpAaCJseHrtQkB/+zpwzoxKQM3MzMzMeFJAZmZmZmZqWEAAAAAAAFxeQM3MzMzMJmJAmpmZmZkfZUBmZmZmZhhoQDMzMzMzEWtAAAAAAAAKbkBmZmZmZoFwQM3MzMzM/XFAMzMzMzN6c0CamZmZmfZ0QAAAAAAAc3ZAZmZmZmbvd0DNzMzMzGt5QDMzMzMz6HpAmpmZmZlkfEAAAAAAAOF9QGZmZmZmXX9AZmZmZuZsgECamZmZGSuBQM3MzMxM6YFAAAAAAICngkAzMzMzs2WDQGZmZmbmI4RAmpmZmRnihEDNzMzMTKCFQAAAAACAXoZAMzMzM7Mch0BmZmZm5tqHQJqZmZkZmYhAzczMzExXiUAAAAAAgBWKQDMzMzOz04pAZmZmZuaRi0CamZmZGVCMQM3MzMxMDo1AAAAAAIDMjUAzMzMzs4qOQGZmZmbmSI9A\",\"dtype\":\"float64\",\"shape\":[75]}},\"selected\":{\"id\":\"8d7ebc07-760c-4b85-ab65-d4ba4fa608ec\",\"type\":\"Selection\"},\"selection_policy\":{\"id\":\"2dd99fc2-bc6e-43cb-a6bb-741c11b931d9\",\"type\":\"UnionRenderers\"}},\"id\":\"6274291f-3161-404d-b0c1-9c4720dac191\",\"type\":\"ColumnDataSource\"},{\"attributes\":{\"line_alpha\":0.1,\"line_color\":\"#1f77b4\",\"line_dash\":[6],\"line_width\":5,\"x\":{\"field\":\"x\"},\"y\":{\"field\":\"y\"}},\"id\":\"7b4e0690-464e-4fe3-838e-ff4790d3f006\",\"type\":\"Line\"},{\"attributes\":{},\"id\":\"cf7c64fc-b3c8-428a-929c-55e5f8d8bb53\",\"type\":\"UnionRenderers\"},{\"attributes\":{\"items\":[{\"id\":\"cc6dd66f-dd58-44a8-bbb6-7459ca5d215c\",\"type\":\"LegendItem\"},{\"id\":\"9d556e2d-5fa9-4371-9ae8-33abdd6ed8ee\",\"type\":\"LegendItem\"},{\"id\":\"590e026b-1992-4f84-8aa9-450ebb3c70a0\",\"type\":\"LegendItem\"}],\"label_text_font_size\":{\"value\":\"8pt\"},\"location\":[10,-30],\"plot\":{\"id\":\"7f8d4547-34c5-424c-96e0-3b525388330f\",\"subtype\":\"Figure\",\"type\":\"Plot\"}},\"id\":\"280ad56c-cffb-4e4b-8f91-f469d049b971\",\"type\":\"Legend\"},{\"attributes\":{\"fill_alpha\":{\"value\":0.7},\"fill_color\":{\"value\":\"#4daf4a\"},\"line_alpha\":{\"value\":0.7},\"line_color\":{\"value\":\"#4daf4a\"},\"x\":{\"field\":\"x\"},\"y\":{\"field\":\"y\"}},\"id\":\"d5ce8f73-72d2-4b1b-864a-5c8a73f067c0\",\"type\":\"Circle\"},{\"attributes\":{},\"id\":\"60b2a2df-b53b-4c3d-a291-0e795a4a9508\",\"type\":\"ResetTool\"},{\"attributes\":{\"active_drag\":\"auto\",\"active_inspect\":\"auto\",\"active_scroll\":\"auto\",\"active_tap\":\"auto\",\"tools\":[{\"id\":\"acebbd2d-59ee-4b19-ac7f-266128f453b7\",\"type\":\"PanTool\"},{\"id\":\"21887892-b14f-426c-b9ff-fefaeef5b9d4\",\"type\":\"WheelZoomTool\"},{\"id\":\"21b07771-6d18-4ed9-9976-095669fae1bd\",\"type\":\"BoxZoomTool\"},{\"id\":\"0e8cf7cc-0575-4c97-abd8-f814c3e4202c\",\"type\":\"SaveTool\"},{\"id\":\"60b2a2df-b53b-4c3d-a291-0e795a4a9508\",\"type\":\"ResetTool\"},{\"id\":\"78d035c7-24ff-47d4-86bb-dbec682690e8\",\"type\":\"HelpTool\"}]},\"id\":\"843ae5b9-59ea-4281-b6be-7f1f4c0ed70d\",\"type\":\"Toolbar\"},{\"attributes\":{\"fill_alpha\":{\"value\":0.1},\"fill_color\":{\"value\":\"#1f77b4\"},\"line_alpha\":{\"value\":0.1},\"line_color\":{\"value\":\"#1f77b4\"},\"x\":{\"field\":\"x\"},\"y\":{\"field\":\"y\"}},\"id\":\"6188a012-1807-46a6-bd1a-bb9a901ac908\",\"type\":\"Square\"},{\"attributes\":{\"data_source\":{\"id\":\"fd591231-0bcc-45cb-a631-4bde5fb20abf\",\"type\":\"ColumnDataSource\"},\"glyph\":{\"id\":\"34a98046-a1ba-4569-876a-11b3fa6811a1\",\"type\":\"Square\"},\"hover_glyph\":null,\"muted_glyph\":null,\"nonselection_glyph\":{\"id\":\"6188a012-1807-46a6-bd1a-bb9a901ac908\",\"type\":\"Square\"},\"selection_glyph\":null,\"view\":{\"id\":\"1ae3d320-9e5e-433d-aa6a-1049fb688ed2\",\"type\":\"CDSView\"}},\"id\":\"f54d10af-a37e-45d3-a071-3a95f68a9cf8\",\"type\":\"GlyphRenderer\"},{\"attributes\":{},\"id\":\"21887892-b14f-426c-b9ff-fefaeef5b9d4\",\"type\":\"WheelZoomTool\"},{\"attributes\":{\"callback\":null,\"end\":0.01,\"start\":1020},\"id\":\"2468bd47-93de-409f-a9ee-e20b7f7ece6d\",\"type\":\"Range1d\"},{\"attributes\":{\"data_source\":{\"id\":\"472c3a45-5c88-4a3f-b0ed-7c9a1c5d5526\",\"type\":\"ColumnDataSource\"},\"glyph\":{\"id\":\"87f16d19-2aba-4cba-b7e6-c5c962b671d1\",\"type\":\"Line\"},\"hover_glyph\":null,\"muted_glyph\":null,\"nonselection_glyph\":{\"id\":\"9018198d-12d8-410d-b898-f907a9928210\",\"type\":\"Line\"},\"selection_glyph\":null,\"view\":{\"id\":\"2105574a-8e9b-402e-9179-87a28a21e1bb\",\"type\":\"CDSView\"}},\"id\":\"34c39e77-0f61-41b3-86d8-e4b9ee200f21\",\"type\":\"GlyphRenderer\"},{\"attributes\":{\"source\":{\"id\":\"472c3a45-5c88-4a3f-b0ed-7c9a1c5d5526\",\"type\":\"ColumnDataSource\"}},\"id\":\"2105574a-8e9b-402e-9179-87a28a21e1bb\",\"type\":\"CDSView\"},{\"attributes\":{},\"id\":\"78d035c7-24ff-47d4-86bb-dbec682690e8\",\"type\":\"HelpTool\"},{\"attributes\":{\"line_alpha\":0.6,\"line_color\":\"#e41a1c\",\"line_dash\":[6],\"line_width\":5,\"x\":{\"field\":\"x\"},\"y\":{\"field\":\"y\"}},\"id\":\"4e34dc32-022c-41e2-939b-2b9fcbad8ac2\",\"type\":\"Line\"},{\"attributes\":{\"line_alpha\":0.1,\"line_color\":\"#1f77b4\",\"line_width\":3,\"x\":{\"field\":\"x\"},\"y\":{\"field\":\"y\"}},\"id\":\"9018198d-12d8-410d-b898-f907a9928210\",\"type\":\"Line\"},{\"attributes\":{\"axis_label\":\"cooling rate [K/day]\",\"formatter\":{\"id\":\"3c8c0c51-338e-4a50-b262-141f9dc4cdb3\",\"type\":\"BasicTickFormatter\"},\"plot\":{\"id\":\"7f8d4547-34c5-424c-96e0-3b525388330f\",\"subtype\":\"Figure\",\"type\":\"Plot\"},\"ticker\":{\"id\":\"be48d6d0-b38a-4cb7-8f4b-5365bc8bde4a\",\"type\":\"BasicTicker\"}},\"id\":\"65902e33-0461-4697-a682-6cb8a5992c4e\",\"type\":\"LinearAxis\"},{\"attributes\":{\"plot\":null,\"text\":\"Log pressure scale\"},\"id\":\"c1a5d3d6-89a7-436e-a26b-6001ac5014a0\",\"type\":\"Title\"},{\"attributes\":{},\"id\":\"acebbd2d-59ee-4b19-ac7f-266128f453b7\",\"type\":\"PanTool\"},{\"attributes\":{\"axis_label\":\"pressure [mb]\",\"formatter\":{\"id\":\"d0b70162-1373-4a03-9fcd-649b06fc9fea\",\"type\":\"LogTickFormatter\"},\"plot\":{\"id\":\"7f8d4547-34c5-424c-96e0-3b525388330f\",\"subtype\":\"Figure\",\"type\":\"Plot\"},\"ticker\":{\"id\":\"378aa3ad-6ae2-4363-81df-5855051a8eb4\",\"type\":\"LogTicker\"}},\"id\":\"0c819989-2758-40b0-b3a0-4e7730ae3a1e\",\"type\":\"LogAxis\"},{\"attributes\":{},\"id\":\"be48d6d0-b38a-4cb7-8f4b-5365bc8bde4a\",\"type\":\"BasicTicker\"},{\"attributes\":{\"fill_alpha\":{\"value\":0.1},\"fill_color\":{\"value\":\"#1f77b4\"},\"line_alpha\":{\"value\":0.1},\"line_color\":{\"value\":\"#1f77b4\"},\"x\":{\"field\":\"x\"},\"y\":{\"field\":\"y\"}},\"id\":\"60a7b3ba-ae69-4e80-a826-edef2c9947f1\",\"type\":\"Square\"},{\"attributes\":{},\"id\":\"0e8cf7cc-0575-4c97-abd8-f814c3e4202c\",\"type\":\"SaveTool\"},{\"attributes\":{\"dimension\":1,\"plot\":{\"id\":\"7f8d4547-34c5-424c-96e0-3b525388330f\",\"subtype\":\"Figure\",\"type\":\"Plot\"},\"ticker\":{\"id\":\"378aa3ad-6ae2-4363-81df-5855051a8eb4\",\"type\":\"LogTicker\"}},\"id\":\"4191828c-412b-4535-9dc5-41ac4f15ed38\",\"type\":\"Grid\"},{\"attributes\":{\"source\":{\"id\":\"6274291f-3161-404d-b0c1-9c4720dac191\",\"type\":\"ColumnDataSource\"}},\"id\":\"d1dd6693-88de-43bb-aa01-24700001db41\",\"type\":\"CDSView\"},{\"attributes\":{\"callback\":null,\"data\":{\"x\":{\"__ndarray__\":\"Aw78A0Bwvj93VG/sXay+P0gPjTiukL8/+8CfK1s1wD+tPHk/C5XAP0JZvk/R6MA/RDt+2m4jwT/Ev1tiXUPBP7Qh/8wgPsE/0a06H1wJwT+47IzGDJrAP9z8+ZVSwL8/KbiS/AyYvT9V7UdIrN66P1W5N1w357o/6JT07pdovz8yJQ6wwYjCPxgIAmTo2MQ/G/di/6eoxj/xancXQUbIP66ZQghEX8o/YywN25odzT/dGZbUQxPLPyxqKJx6sMU/ICEtQm95wT9C47Kf//27PylfjiYwgLc/7lOIWcWhtD82OzFv/nSyPyRGg58ujrA/mU/A8PaSrT+30Zj6jTeqP/c9MYXjBqc/lAVTmrsApD9oMIpBBy2dP8iQ+QZ6Now/DgugnW3ccD83V9NRI29/Pw615941e5U/YFm14E/Roj9zrqpcffyxP+Sf+LUeU8U/YZPrXAe90j/lz/khHbvbPwut8xTeauI/VXD0CKCe5j9os2Y7ESrqP6ye/nk7vuw/Jn57jROV7T8qxET/2/fuP8qeTsMBPvA/61ysA3vn8D++SdOgaF7xPxG7AEV2j/E/T8qkhjaA8T8NmxJaICvxP1y6OOCplvA/LaL9ekua7z8SZZA30K7tP7zNGyeFmes/Yb6CVXF66T+5Gpd5xEvnP5OSmk2y2+Q/yZgWUAPh4j8n7uMu42LfP6eTjYMiyNg/RreYfg0x0z922wkf3xjNP4TbFG59Acc/KyfKc7fKwj8i86+CazC/P4XLrqSqQ7o/f+xRX2a9tj+uS/ps/o61P4YcW88Qjss/\",\"dtype\":\"float64\",\"shape\":[75]},\"y\":{\"__ndarray__\":\"GhExyth1ND/Sv8nbtpRIP2vylNV0PVE/aTum7souWD/At0SJ8fVgPw3Iuahxymc/MSNhhJWvcD/bTfBN02d3P2zb5nxnaoA/CD5h5MAGhz8NmeH1TyaQP+zrCsc9p5Y/LbKd76fGnz/bLW5ISEmmPww9YvTcQq8/JV2OstnstT8Er5Y7M8G+P0c+r3jqkcU/5h99k6ZBzj88bCIzFzjVP4enV8oyxN0//yH99nXg5D8qOpLLf0jtP5kqGJXUifQ/c9cS8kHP/D+/DpwzojQEQIEmwoanVwxA4lgXt9HgE0BSSZ2AJuIbQAMJih9jjiNA5q4l5INuK0AwTKYKRj0zQNv5fmq8/DpAaCJseHrtQkB/+zpwzoxKQM3MzMzMeFJAZmZmZmZqWEAAAAAAAFxeQM3MzMzMJmJAmpmZmZkfZUBmZmZmZhhoQDMzMzMzEWtAAAAAAAAKbkBmZmZmZoFwQM3MzMzM/XFAMzMzMzN6c0CamZmZmfZ0QAAAAAAAc3ZAZmZmZmbvd0DNzMzMzGt5QDMzMzMz6HpAmpmZmZlkfEAAAAAAAOF9QGZmZmZmXX9AZmZmZuZsgECamZmZGSuBQM3MzMxM6YFAAAAAAICngkAzMzMzs2WDQGZmZmbmI4RAmpmZmRnihEDNzMzMTKCFQAAAAACAXoZAMzMzM7Mch0BmZmZm5tqHQJqZmZkZmYhAzczMzExXiUAAAAAAgBWKQDMzMzOz04pAZmZmZuaRi0CamZmZGVCMQM3MzMxMDo1AAAAAAIDMjUAzMzMzs4qOQGZmZmbmSI9A\",\"dtype\":\"float64\",\"shape\":[75]}},\"selected\":{\"id\":\"ccb4656c-02c2-47c5-a358-94b49e664cbb\",\"type\":\"Selection\"},\"selection_policy\":{\"id\":\"a096c3cf-f63d-4fbc-a950-a518476b7403\",\"type\":\"UnionRenderers\"}},\"id\":\"4a18262d-f6ea-4d9b-b8bc-cfc2f4ae4ecc\",\"type\":\"ColumnDataSource\"},{\"attributes\":{\"line_alpha\":0.6,\"line_color\":\"#984ea3\",\"line_width\":3,\"x\":{\"field\":\"x\"},\"y\":{\"field\":\"y\"}},\"id\":\"87f16d19-2aba-4cba-b7e6-c5c962b671d1\",\"type\":\"Line\"},{\"attributes\":{\"fill_alpha\":{\"value\":0.7},\"fill_color\":{\"value\":\"#984ea3\"},\"line_alpha\":{\"value\":0.7},\"line_color\":{\"value\":\"#984ea3\"},\"x\":{\"field\":\"x\"},\"y\":{\"field\":\"y\"}},\"id\":\"b142cac1-d300-4363-a30a-2e1005be3142\",\"type\":\"Square\"}],\"root_ids\":[\"d345b3dc-29b5-4ff4-bdd9-fa1ca071b03e\"]},\"title\":\"Bokeh Application\",\"version\":\"0.12.16\"}};\n",
       "  var render_items = [{\"docid\":\"05ccd257-3c54-45e3-ba78-1faa2ca3849c\",\"elementid\":\"6344caf6-8d0b-4db9-a264-3d6ae170f8da\",\"modelid\":\"d345b3dc-29b5-4ff4-bdd9-fa1ca071b03e\"}];\n",
       "  root.Bokeh.embed.embed_items_notebook(docs_json, render_items);\n",
       "\n",
       "  }\n",
       "  if (root.Bokeh !== undefined) {\n",
       "    embed_document(root);\n",
       "  } else {\n",
       "    var attempts = 0;\n",
       "    var timer = setInterval(function(root) {\n",
       "      if (root.Bokeh !== undefined) {\n",
       "        embed_document(root);\n",
       "        clearInterval(timer);\n",
       "      }\n",
       "      attempts++;\n",
       "      if (attempts > 100) {\n",
       "        console.log(\"Bokeh: ERROR: Unable to run BokehJS code because BokehJS library is missing\")\n",
       "        clearInterval(timer);\n",
       "      }\n",
       "    }, 10, root)\n",
       "  }\n",
       "})(window);"
      ],
      "application/vnd.bokehjs_exec.v0+json": ""
     },
     "metadata": {
      "application/vnd.bokehjs_exec.v0+json": {
       "id": "d345b3dc-29b5-4ff4-bdd9-fa1ca071b03e"
      }
     },
     "output_type": "display_data"
    },
    {
     "name": "stdout",
     "output_type": "stream",
     "text": [
      "FIGURE. Cooling rate profiles.\n"
     ]
    },
    {
     "data": {
      "text/html": [
       "<a id=\"Flux_Comparison\"></a>"
      ],
      "text/plain": [
       "<IPython.core.display.HTML object>"
      ]
     },
     "metadata": {},
     "output_type": "display_data"
    },
    {
     "data": {
      "text/markdown": [
       "# Flux Comparison"
      ],
      "text/plain": [
       "<IPython.core.display.Markdown object>"
      ]
     },
     "metadata": {},
     "output_type": "display_data"
    },
    {
     "data": {
      "text/html": [
       "<div>\n",
       "<style scoped>\n",
       "    .dataframe tbody tr th:only-of-type {\n",
       "        vertical-align: middle;\n",
       "    }\n",
       "\n",
       "    .dataframe tbody tr th {\n",
       "        vertical-align: top;\n",
       "    }\n",
       "\n",
       "    .dataframe thead th {\n",
       "        text-align: right;\n",
       "    }\n",
       "</style>\n",
       "<table border=\"1\" class=\"dataframe\">\n",
       "  <thead>\n",
       "    <tr style=\"text-align: right;\">\n",
       "      <th></th>\n",
       "      <th></th>\n",
       "      <th>flug</th>\n",
       "      <th>fldg</th>\n",
       "      <th>fnetg</th>\n",
       "    </tr>\n",
       "    <tr>\n",
       "      <th>pressure</th>\n",
       "      <th>level</th>\n",
       "      <th></th>\n",
       "      <th></th>\n",
       "      <th></th>\n",
       "    </tr>\n",
       "  </thead>\n",
       "  <tbody>\n",
       "    <tr>\n",
       "      <th>0.0000</th>\n",
       "      <th>1</th>\n",
       "      <td>-61.195826</td>\n",
       "      <td>0.000000</td>\n",
       "      <td>-61.195826</td>\n",
       "    </tr>\n",
       "    <tr>\n",
       "      <th>1.0685</th>\n",
       "      <th>24</th>\n",
       "      <td>-61.196878</td>\n",
       "      <td>0.025766</td>\n",
       "      <td>-61.171111</td>\n",
       "    </tr>\n",
       "    <tr>\n",
       "      <th>1013.0000</th>\n",
       "      <th>76</th>\n",
       "      <td>-86.475230</td>\n",
       "      <td>85.584065</td>\n",
       "      <td>-0.891165</td>\n",
       "    </tr>\n",
       "  </tbody>\n",
       "</table>\n",
       "</div>"
      ],
      "text/plain": [
       "                      flug       fldg      fnetg\n",
       "pressure  level                                 \n",
       "0.0000    1     -61.195826   0.000000 -61.195826\n",
       "1.0685    24    -61.196878   0.025766 -61.171111\n",
       "1013.0000 76    -86.475230  85.584065  -0.891165"
      ]
     },
     "metadata": {},
     "output_type": "display_data"
    },
    {
     "name": "stdout",
     "output_type": "stream",
     "text": [
      "Table. Fluxes. CRD\n"
     ]
    },
    {
     "data": {
      "text/html": [
       "<div>\n",
       "<style scoped>\n",
       "    .dataframe tbody tr th:only-of-type {\n",
       "        vertical-align: middle;\n",
       "    }\n",
       "\n",
       "    .dataframe tbody tr th {\n",
       "        vertical-align: top;\n",
       "    }\n",
       "\n",
       "    .dataframe thead th {\n",
       "        text-align: right;\n",
       "    }\n",
       "</style>\n",
       "<table border=\"1\" class=\"dataframe\">\n",
       "  <thead>\n",
       "    <tr style=\"text-align: right;\">\n",
       "      <th></th>\n",
       "      <th></th>\n",
       "      <th>flug</th>\n",
       "      <th>fldg</th>\n",
       "      <th>fnetg</th>\n",
       "    </tr>\n",
       "    <tr>\n",
       "      <th>pressure</th>\n",
       "      <th>level</th>\n",
       "      <th></th>\n",
       "      <th></th>\n",
       "      <th></th>\n",
       "    </tr>\n",
       "  </thead>\n",
       "  <tbody>\n",
       "    <tr>\n",
       "      <th>0.0000</th>\n",
       "      <th>1</th>\n",
       "      <td>-60.467809</td>\n",
       "      <td>0.000000</td>\n",
       "      <td>-60.467809</td>\n",
       "    </tr>\n",
       "    <tr>\n",
       "      <th>1.0685</th>\n",
       "      <th>24</th>\n",
       "      <td>-60.468759</td>\n",
       "      <td>0.025255</td>\n",
       "      <td>-60.443504</td>\n",
       "    </tr>\n",
       "    <tr>\n",
       "      <th>1013.0000</th>\n",
       "      <th>76</th>\n",
       "      <td>-86.475230</td>\n",
       "      <td>85.799055</td>\n",
       "      <td>-0.676174</td>\n",
       "    </tr>\n",
       "  </tbody>\n",
       "</table>\n",
       "</div>"
      ],
      "text/plain": [
       "                      flug       fldg      fnetg\n",
       "pressure  level                                 \n",
       "0.0000    1     -60.467809   0.000000 -60.467809\n",
       "1.0685    24    -60.468759   0.025255 -60.443504\n",
       "1013.0000 76    -86.475230  85.799055  -0.676174"
      ]
     },
     "metadata": {},
     "output_type": "display_data"
    },
    {
     "name": "stdout",
     "output_type": "stream",
     "text": [
      "Table. Fluxes. WGT igg=10 wgt_flux=1\n"
     ]
    },
    {
     "data": {
      "text/html": [
       "<div>\n",
       "<style scoped>\n",
       "    .dataframe tbody tr th:only-of-type {\n",
       "        vertical-align: middle;\n",
       "    }\n",
       "\n",
       "    .dataframe tbody tr th {\n",
       "        vertical-align: top;\n",
       "    }\n",
       "\n",
       "    .dataframe thead th {\n",
       "        text-align: right;\n",
       "    }\n",
       "</style>\n",
       "<table border=\"1\" class=\"dataframe\">\n",
       "  <thead>\n",
       "    <tr style=\"text-align: right;\">\n",
       "      <th></th>\n",
       "      <th></th>\n",
       "      <th>flug</th>\n",
       "      <th>fldg</th>\n",
       "      <th>fnetg</th>\n",
       "    </tr>\n",
       "    <tr>\n",
       "      <th>pressure</th>\n",
       "      <th>level</th>\n",
       "      <th></th>\n",
       "      <th></th>\n",
       "      <th></th>\n",
       "    </tr>\n",
       "  </thead>\n",
       "  <tbody>\n",
       "    <tr>\n",
       "      <th>1.000000e-08</th>\n",
       "      <th>1</th>\n",
       "      <td>-60.873584</td>\n",
       "      <td>0.000003</td>\n",
       "      <td>-60.873581</td>\n",
       "    </tr>\n",
       "    <tr>\n",
       "      <th>1.068500e+00</th>\n",
       "      <th>24</th>\n",
       "      <td>-60.874379</td>\n",
       "      <td>0.024887</td>\n",
       "      <td>-60.849492</td>\n",
       "    </tr>\n",
       "    <tr>\n",
       "      <th>1.013000e+03</th>\n",
       "      <th>76</th>\n",
       "      <td>-86.475230</td>\n",
       "      <td>85.835026</td>\n",
       "      <td>-0.640204</td>\n",
       "    </tr>\n",
       "  </tbody>\n",
       "</table>\n",
       "</div>"
      ],
      "text/plain": [
       "                         flug       fldg      fnetg\n",
       "pressure     level                                 \n",
       "1.000000e-08 1     -60.873584   0.000003 -60.873581\n",
       "1.068500e+00 24    -60.874379   0.024887 -60.849492\n",
       "1.013000e+03 76    -86.475230  85.835026  -0.640204"
      ]
     },
     "metadata": {},
     "output_type": "display_data"
    },
    {
     "name": "stdout",
     "output_type": "stream",
     "text": [
      "Table. Fluxes. CLIRAD\n"
     ]
    },
    {
     "data": {
      "text/html": [
       "<div>\n",
       "<style scoped>\n",
       "    .dataframe tbody tr th:only-of-type {\n",
       "        vertical-align: middle;\n",
       "    }\n",
       "\n",
       "    .dataframe tbody tr th {\n",
       "        vertical-align: top;\n",
       "    }\n",
       "\n",
       "    .dataframe thead th {\n",
       "        text-align: right;\n",
       "    }\n",
       "</style>\n",
       "<table border=\"1\" class=\"dataframe\">\n",
       "  <thead>\n",
       "    <tr style=\"text-align: right;\">\n",
       "      <th></th>\n",
       "      <th></th>\n",
       "      <th>flug</th>\n",
       "      <th>fldg</th>\n",
       "      <th>fnetg</th>\n",
       "    </tr>\n",
       "    <tr>\n",
       "      <th>pressure</th>\n",
       "      <th>level</th>\n",
       "      <th></th>\n",
       "      <th></th>\n",
       "      <th></th>\n",
       "    </tr>\n",
       "  </thead>\n",
       "  <tbody>\n",
       "    <tr>\n",
       "      <th>0.0000</th>\n",
       "      <th>1</th>\n",
       "      <td>7.280170e-01</td>\n",
       "      <td>0.000000</td>\n",
       "      <td>0.728017</td>\n",
       "    </tr>\n",
       "    <tr>\n",
       "      <th>1.0685</th>\n",
       "      <th>24</th>\n",
       "      <td>7.281194e-01</td>\n",
       "      <td>-0.000512</td>\n",
       "      <td>0.727607</td>\n",
       "    </tr>\n",
       "    <tr>\n",
       "      <th>1013.0000</th>\n",
       "      <th>76</th>\n",
       "      <td>-2.950000e-07</td>\n",
       "      <td>0.214990</td>\n",
       "      <td>0.214991</td>\n",
       "    </tr>\n",
       "  </tbody>\n",
       "</table>\n",
       "</div>"
      ],
      "text/plain": [
       "                         flug      fldg     fnetg\n",
       "pressure  level                                  \n",
       "0.0000    1      7.280170e-01  0.000000  0.728017\n",
       "1.0685    24     7.281194e-01 -0.000512  0.727607\n",
       "1013.0000 76    -2.950000e-07  0.214990  0.214991"
      ]
     },
     "metadata": {},
     "output_type": "display_data"
    },
    {
     "name": "stdout",
     "output_type": "stream",
     "text": [
      "Table. Fluxes. (WGT igg=10 wgt_flux=1) - (CRD)\n"
     ]
    },
    {
     "data": {
      "text/html": [
       "<div>\n",
       "<style scoped>\n",
       "    .dataframe tbody tr th:only-of-type {\n",
       "        vertical-align: middle;\n",
       "    }\n",
       "\n",
       "    .dataframe tbody tr th {\n",
       "        vertical-align: top;\n",
       "    }\n",
       "\n",
       "    .dataframe thead th {\n",
       "        text-align: right;\n",
       "    }\n",
       "</style>\n",
       "<table border=\"1\" class=\"dataframe\">\n",
       "  <thead>\n",
       "    <tr style=\"text-align: right;\">\n",
       "      <th></th>\n",
       "      <th></th>\n",
       "      <th>flug</th>\n",
       "      <th>fldg</th>\n",
       "      <th>fnetg</th>\n",
       "    </tr>\n",
       "    <tr>\n",
       "      <th>pressure</th>\n",
       "      <th>level</th>\n",
       "      <th></th>\n",
       "      <th></th>\n",
       "      <th></th>\n",
       "    </tr>\n",
       "  </thead>\n",
       "  <tbody>\n",
       "    <tr>\n",
       "      <th>0.0000</th>\n",
       "      <th>1</th>\n",
       "      <td>0.322242</td>\n",
       "      <td>0.000003</td>\n",
       "      <td>0.322245</td>\n",
       "    </tr>\n",
       "    <tr>\n",
       "      <th>1.0685</th>\n",
       "      <th>24</th>\n",
       "      <td>0.322499</td>\n",
       "      <td>-0.000879</td>\n",
       "      <td>0.321619</td>\n",
       "    </tr>\n",
       "    <tr>\n",
       "      <th>1013.0000</th>\n",
       "      <th>76</th>\n",
       "      <td>0.000000</td>\n",
       "      <td>0.250961</td>\n",
       "      <td>0.250961</td>\n",
       "    </tr>\n",
       "  </tbody>\n",
       "</table>\n",
       "</div>"
      ],
      "text/plain": [
       "                     flug      fldg     fnetg\n",
       "pressure  level                              \n",
       "0.0000    1      0.322242  0.000003  0.322245\n",
       "1.0685    24     0.322499 -0.000879  0.321619\n",
       "1013.0000 76     0.000000  0.250961  0.250961"
      ]
     },
     "metadata": {},
     "output_type": "display_data"
    },
    {
     "name": "stdout",
     "output_type": "stream",
     "text": [
      "Table. Fluxes. (CLIRAD) - (CRD)\n"
     ]
    },
    {
     "data": {
      "text/html": [
       "<a id=\"Best-fit_Parameters\"></a>"
      ],
      "text/plain": [
       "<IPython.core.display.HTML object>"
      ]
     },
     "metadata": {},
     "output_type": "display_data"
    },
    {
     "data": {
      "text/markdown": [
       "# Best-fit Parameters"
      ],
      "text/plain": [
       "<IPython.core.display.Markdown object>"
      ]
     },
     "metadata": {},
     "output_type": "display_data"
    },
    {
     "name": "stdout",
     "output_type": "stream",
     "text": [
      "Best-fit values for each (gas, band)\n",
      "------------------------------------\n",
      "o h2o band2\n",
      "  atmpro = mls\n",
      "  band = 2\n",
      "  commitnumber = a06b618\n",
      "  conc = None\n",
      "  dv = 0.001\n",
      "  klin = 0\n",
      "  molecule = h2o\n",
      "  ng_adju = [-2, -2, 0]\n",
      "  ng_refs = [2, 3, 6]\n",
      "  nv = 1000\n",
      "  option_compute_btable = 0\n",
      "  option_compute_ktable = 1\n",
      "  option_wgt_flux = 1\n",
      "  option_wgt_k = 1\n",
      "  ref_pts = [(1, 250), (10, 250), (500, 250)]\n",
      "  tsfc = 294\n",
      "  vmax = 540\n",
      "  vmin = 340\n",
      "  w_diffuse = [(1.66, 1.66), (1.8, 1.8, 1.8), (1.8, 1.66, 1.45, 1.45, 1.45, 1.45)]\n",
      "  wgt = [(0.6, 0.6), (0.6, 0.6, 0.6), (0.6, 0.6, 0.6, 0.6, 0.6, 0.6)]\n"
     ]
    }
   ],
   "source": [
    "script()"
   ]
  },
  {
   "cell_type": "code",
   "execution_count": 13,
   "metadata": {
    "collapsed": true
   },
   "outputs": [
    {
     "data": {
      "text/html": [
       "<script>\n",
       "code_show=true; \n",
       "function code_toggle() {\n",
       " if (code_show){\n",
       " $('div.input').hide();\n",
       " } else {\n",
       " $('div.input').show();\n",
       " }\n",
       " code_show = !code_show\n",
       "} \n",
       "$( document ).ready(code_toggle);\n",
       "</script>\n",
       "<form action=\"javascript:code_toggle()\"><input type=\"submit\" value=\"Click here to toggle on/off the raw code.\"></form>"
      ],
      "text/plain": [
       "<IPython.core.display.HTML object>"
      ]
     },
     "execution_count": 13,
     "metadata": {},
     "output_type": "execute_result"
    }
   ],
   "source": [
    "display.HTML('''<script>\n",
    "code_show=true; \n",
    "function code_toggle() {\n",
    " if (code_show){\n",
    " $('div.input').hide();\n",
    " } else {\n",
    " $('div.input').show();\n",
    " }\n",
    " code_show = !code_show\n",
    "} \n",
    "$( document ).ready(code_toggle);\n",
    "</script>\n",
    "<form action=\"javascript:code_toggle()\"><input type=\"submit\" value=\"Click here to toggle on/off the raw code.\"></form>''')"
   ]
  }
 ],
 "metadata": {
  "kernelspec": {
   "display_name": "Python 3",
   "language": "python",
   "name": "python3"
  },
  "language_info": {
   "codemirror_mode": {
    "name": "ipython",
    "version": 3
   },
   "file_extension": ".py",
   "mimetype": "text/x-python",
   "name": "python",
   "nbconvert_exporter": "python",
   "pygments_lexer": "ipython3",
   "version": "3.6.1"
  }
 },
 "nbformat": 4,
 "nbformat_minor": 2
}
