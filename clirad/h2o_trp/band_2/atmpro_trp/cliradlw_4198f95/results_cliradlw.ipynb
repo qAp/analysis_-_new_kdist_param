{
 "cells": [
  {
   "cell_type": "code",
   "execution_count": 1,
   "metadata": {
    "collapsed": true
   },
   "outputs": [],
   "source": [
    "%matplotlib inline\n",
    "import os\n",
    "import re\n",
    "import io\n",
    "import itertools\n",
    "import pprint\n",
    "\n",
    "from bokeh.io import output_notebook, show\n",
    "from bokeh.layouts import gridplot\n",
    "from bokeh.plotting import figure\n",
    "from bokeh.models import Range1d, Legend\n",
    "from bokeh.palettes import all_palettes\n",
    "\n",
    "import matplotlib\n",
    "import matplotlib.pyplot as plt\n",
    "import numpy as np\n",
    "import pandas as pd\n",
    "import xarray as xr\n",
    "\n",
    "import climatools.lblnew.bestfit_params as bestfits\n",
    "from climatools.lblnew import setup_bestfit, setup_overlap\n",
    "import climatools.lblnew.pipeline as pipe_lblnew\n",
    "import climatools.cliradlw.setup as setup_cliradlw\n",
    "import climatools.cliradlw.pipeline as pipe_cliradlw\n",
    "\n",
    "import climatools.html.html as climahtml\n",
    "from climatools.lblnew.dataio import *\n",
    "from climatools.plot.plot import *\n",
    "\n",
    "\n",
    "import IPython.display as display"
   ]
  },
  {
   "cell_type": "code",
   "execution_count": 2,
   "metadata": {
    "collapsed": true
   },
   "outputs": [],
   "source": [
    "%run param.py"
   ]
  },
  {
   "cell_type": "code",
   "execution_count": 3,
   "metadata": {
    "collapsed": true
   },
   "outputs": [],
   "source": [
    "def load_output_file(path_csv):\n",
    "    '''\n",
    "    Load lblnew output .csv file to xarray.Dataset\n",
    "    \n",
    "    Parameters\n",
    "    ----------\n",
    "    path_csv: str\n",
    "              Path to the .csv file to be loaded.\n",
    "    ds: xarray.Dataset\n",
    "        Data in the input file in the form of an xarray.Dataset.\n",
    "    '''\n",
    "    toindex = ['band', 'pressure', 'igg', 'g']    \n",
    "    df = pd.read_csv(path_csv, sep=r'\\s+')\n",
    "    df = df.set_index([i for i in toindex if i in df.columns])\n",
    "    df = df.rename(columns={'sfu': 'flug',\n",
    "                            'sfd': 'fldg',\n",
    "                            'fnet': 'fnetg',\n",
    "                            'coolr': 'coolrg'})\n",
    "    ds = xr.Dataset.from_dataframe(df)\n",
    "\n",
    "    for l in ('level', 'layer'):\n",
    "        if l in ds.data_vars:\n",
    "            if len(ds[l].dims) > 1:\n",
    "                surface = {d: 0 for d in ds.dims if d != 'pressure'}\n",
    "                coord_level = ds[l][surface]\n",
    "                ds.coords[l] = ('pressure', coord_level)\n",
    "            else:\n",
    "                ds.coords[l] = ('pressure', ds[l])\n",
    "    \n",
    "    return ds"
   ]
  },
  {
   "cell_type": "code",
   "execution_count": 4,
   "metadata": {
    "collapsed": true
   },
   "outputs": [],
   "source": [
    "def lblnew_setup(param=None):\n",
    "    if 'ng_refs' in param:\n",
    "        return {'setup': setup_bestfit,\n",
    "                'fname_flux_crd': 'output_flux.dat',\n",
    "                'fname_cool_crd': 'output_coolr.dat',\n",
    "                'fname_flux_wgt': 'output_wfluxg.dat',\n",
    "                'fname_cool_wgt': 'output_wcoolrg.dat'}\n",
    "    else:\n",
    "        return {'setup': setup_overlap,\n",
    "                'fname_flux_crd': 'output_flux.dat',\n",
    "                'fname_cool_crd': 'output_coolr.dat',\n",
    "                'fname_flux_wgt': 'output_wflux.dat',\n",
    "                'fname_cool_wgt': 'output_wcoolr.dat'}\n",
    "\n",
    "    \n",
    "def load_lblnew_data(param):\n",
    "    \n",
    "    fname_dsname = [('fname_flux_crd', 'ds_flux_crd'),\n",
    "                    ('fname_cool_crd', 'ds_cool_crd'),\n",
    "                    ('fname_flux_wgt', 'ds_flux_wgt'),\n",
    "                    ('fname_cool_wgt', 'ds_cool_wgt')]\n",
    "    \n",
    "    d = lblnew_setup(param)\n",
    "    dir_fortran = pipe_lblnew.get_dir_case(param, setup=d['setup'])\n",
    "    \n",
    "    data_dict = {}\n",
    "    for fname, dsname in fname_dsname:\n",
    "        fpath = os.path.join(dir_fortran, d[fname])\n",
    "        data_dict[dsname] = load_output_file(fpath)\n",
    "    return data_dict\n",
    "    \n",
    "\n",
    "    \n",
    "    "
   ]
  },
  {
   "cell_type": "code",
   "execution_count": 5,
   "metadata": {
    "collapsed": true
   },
   "outputs": [],
   "source": [
    "d = load_lblnew_data(PARAM_LBLNEW)\n",
    "\n",
    "DS_FLUX_CRD = d['ds_flux_crd']\n",
    "DS_COOL_CRD = d['ds_cool_crd']\n",
    "DS_FLUX_WGT = d['ds_flux_wgt']\n",
    "DS_COOL_WGT = d['ds_cool_wgt']"
   ]
  },
  {
   "cell_type": "code",
   "execution_count": 6,
   "metadata": {
    "collapsed": true
   },
   "outputs": [],
   "source": [
    "DIR_FORTRAN = pipe_cliradlw.get_fortran_dir(PARAM, \n",
    "                                            setup=setup_cliradlw)\n",
    "\n",
    "PATH_FLUX = os.path.join(DIR_FORTRAN, 'output_flux.dat')\n",
    "PATH_COOL = os.path.join(DIR_FORTRAN, 'output_coolr.dat')\n",
    "\n",
    "DS_FLUX = load_output_file(PATH_FLUX)\n",
    "DS_COOL = load_output_file(PATH_COOL)"
   ]
  },
  {
   "cell_type": "code",
   "execution_count": 7,
   "metadata": {
    "collapsed": true
   },
   "outputs": [
    {
     "data": {
      "text/html": [
       "\n",
       "    <div class=\"bk-root\">\n",
       "        <a href=\"https://bokeh.pydata.org\" target=\"_blank\" class=\"bk-logo bk-logo-small bk-logo-notebook\"></a>\n",
       "        <span id=\"750ef53e-999a-4c3c-b0b7-c93ee59eecd6\">Loading BokehJS ...</span>\n",
       "    </div>"
      ]
     },
     "metadata": {},
     "output_type": "display_data"
    },
    {
     "data": {
      "application/javascript": [
       "\n",
       "(function(root) {\n",
       "  function now() {\n",
       "    return new Date();\n",
       "  }\n",
       "\n",
       "  var force = true;\n",
       "\n",
       "  if (typeof (root._bokeh_onload_callbacks) === \"undefined\" || force === true) {\n",
       "    root._bokeh_onload_callbacks = [];\n",
       "    root._bokeh_is_loading = undefined;\n",
       "  }\n",
       "\n",
       "  var JS_MIME_TYPE = 'application/javascript';\n",
       "  var HTML_MIME_TYPE = 'text/html';\n",
       "  var EXEC_MIME_TYPE = 'application/vnd.bokehjs_exec.v0+json';\n",
       "  var CLASS_NAME = 'output_bokeh rendered_html';\n",
       "\n",
       "  /**\n",
       "   * Render data to the DOM node\n",
       "   */\n",
       "  function render(props, node) {\n",
       "    var script = document.createElement(\"script\");\n",
       "    node.appendChild(script);\n",
       "  }\n",
       "\n",
       "  /**\n",
       "   * Handle when an output is cleared or removed\n",
       "   */\n",
       "  function handleClearOutput(event, handle) {\n",
       "    var cell = handle.cell;\n",
       "\n",
       "    var id = cell.output_area._bokeh_element_id;\n",
       "    var server_id = cell.output_area._bokeh_server_id;\n",
       "    // Clean up Bokeh references\n",
       "    if (id !== undefined) {\n",
       "      Bokeh.index[id].model.document.clear();\n",
       "      delete Bokeh.index[id];\n",
       "    }\n",
       "\n",
       "    if (server_id !== undefined) {\n",
       "      // Clean up Bokeh references\n",
       "      var cmd = \"from bokeh.io.state import curstate; print(curstate().uuid_to_server['\" + server_id + \"'].get_sessions()[0].document.roots[0]._id)\";\n",
       "      cell.notebook.kernel.execute(cmd, {\n",
       "        iopub: {\n",
       "          output: function(msg) {\n",
       "            var element_id = msg.content.text.trim();\n",
       "            Bokeh.index[element_id].model.document.clear();\n",
       "            delete Bokeh.index[element_id];\n",
       "          }\n",
       "        }\n",
       "      });\n",
       "      // Destroy server and session\n",
       "      var cmd = \"import bokeh.io.notebook as ion; ion.destroy_server('\" + server_id + \"')\";\n",
       "      cell.notebook.kernel.execute(cmd);\n",
       "    }\n",
       "  }\n",
       "\n",
       "  /**\n",
       "   * Handle when a new output is added\n",
       "   */\n",
       "  function handleAddOutput(event, handle) {\n",
       "    var output_area = handle.output_area;\n",
       "    var output = handle.output;\n",
       "\n",
       "    // limit handleAddOutput to display_data with EXEC_MIME_TYPE content only\n",
       "    if ((output.output_type != \"display_data\") || (!output.data.hasOwnProperty(EXEC_MIME_TYPE))) {\n",
       "      return\n",
       "    }\n",
       "\n",
       "    var toinsert = output_area.element.find(\".\" + CLASS_NAME.split(' ')[0]);\n",
       "\n",
       "    if (output.metadata[EXEC_MIME_TYPE][\"id\"] !== undefined) {\n",
       "      toinsert[toinsert.length - 1].firstChild.textContent = output.data[JS_MIME_TYPE];\n",
       "      // store reference to embed id on output_area\n",
       "      output_area._bokeh_element_id = output.metadata[EXEC_MIME_TYPE][\"id\"];\n",
       "    }\n",
       "    if (output.metadata[EXEC_MIME_TYPE][\"server_id\"] !== undefined) {\n",
       "      var bk_div = document.createElement(\"div\");\n",
       "      bk_div.innerHTML = output.data[HTML_MIME_TYPE];\n",
       "      var script_attrs = bk_div.children[0].attributes;\n",
       "      for (var i = 0; i < script_attrs.length; i++) {\n",
       "        toinsert[toinsert.length - 1].firstChild.setAttribute(script_attrs[i].name, script_attrs[i].value);\n",
       "      }\n",
       "      // store reference to server id on output_area\n",
       "      output_area._bokeh_server_id = output.metadata[EXEC_MIME_TYPE][\"server_id\"];\n",
       "    }\n",
       "  }\n",
       "\n",
       "  function register_renderer(events, OutputArea) {\n",
       "\n",
       "    function append_mime(data, metadata, element) {\n",
       "      // create a DOM node to render to\n",
       "      var toinsert = this.create_output_subarea(\n",
       "        metadata,\n",
       "        CLASS_NAME,\n",
       "        EXEC_MIME_TYPE\n",
       "      );\n",
       "      this.keyboard_manager.register_events(toinsert);\n",
       "      // Render to node\n",
       "      var props = {data: data, metadata: metadata[EXEC_MIME_TYPE]};\n",
       "      render(props, toinsert[toinsert.length - 1]);\n",
       "      element.append(toinsert);\n",
       "      return toinsert\n",
       "    }\n",
       "\n",
       "    /* Handle when an output is cleared or removed */\n",
       "    events.on('clear_output.CodeCell', handleClearOutput);\n",
       "    events.on('delete.Cell', handleClearOutput);\n",
       "\n",
       "    /* Handle when a new output is added */\n",
       "    events.on('output_added.OutputArea', handleAddOutput);\n",
       "\n",
       "    /**\n",
       "     * Register the mime type and append_mime function with output_area\n",
       "     */\n",
       "    OutputArea.prototype.register_mime_type(EXEC_MIME_TYPE, append_mime, {\n",
       "      /* Is output safe? */\n",
       "      safe: true,\n",
       "      /* Index of renderer in `output_area.display_order` */\n",
       "      index: 0\n",
       "    });\n",
       "  }\n",
       "\n",
       "  // register the mime type if in Jupyter Notebook environment and previously unregistered\n",
       "  if (root.Jupyter !== undefined) {\n",
       "    var events = require('base/js/events');\n",
       "    var OutputArea = require('notebook/js/outputarea').OutputArea;\n",
       "\n",
       "    if (OutputArea.prototype.mime_types().indexOf(EXEC_MIME_TYPE) == -1) {\n",
       "      register_renderer(events, OutputArea);\n",
       "    }\n",
       "  }\n",
       "\n",
       "  \n",
       "  if (typeof (root._bokeh_timeout) === \"undefined\" || force === true) {\n",
       "    root._bokeh_timeout = Date.now() + 5000;\n",
       "    root._bokeh_failed_load = false;\n",
       "  }\n",
       "\n",
       "  var NB_LOAD_WARNING = {'data': {'text/html':\n",
       "     \"<div style='background-color: #fdd'>\\n\"+\n",
       "     \"<p>\\n\"+\n",
       "     \"BokehJS does not appear to have successfully loaded. If loading BokehJS from CDN, this \\n\"+\n",
       "     \"may be due to a slow or bad network connection. Possible fixes:\\n\"+\n",
       "     \"</p>\\n\"+\n",
       "     \"<ul>\\n\"+\n",
       "     \"<li>re-rerun `output_notebook()` to attempt to load from CDN again, or</li>\\n\"+\n",
       "     \"<li>use INLINE resources instead, as so:</li>\\n\"+\n",
       "     \"</ul>\\n\"+\n",
       "     \"<code>\\n\"+\n",
       "     \"from bokeh.resources import INLINE\\n\"+\n",
       "     \"output_notebook(resources=INLINE)\\n\"+\n",
       "     \"</code>\\n\"+\n",
       "     \"</div>\"}};\n",
       "\n",
       "  function display_loaded() {\n",
       "    var el = document.getElementById(\"750ef53e-999a-4c3c-b0b7-c93ee59eecd6\");\n",
       "    if (el != null) {\n",
       "      el.textContent = \"BokehJS is loading...\";\n",
       "    }\n",
       "    if (root.Bokeh !== undefined) {\n",
       "      if (el != null) {\n",
       "        el.textContent = \"BokehJS \" + root.Bokeh.version + \" successfully loaded.\";\n",
       "      }\n",
       "    } else if (Date.now() < root._bokeh_timeout) {\n",
       "      setTimeout(display_loaded, 100)\n",
       "    }\n",
       "  }\n",
       "\n",
       "\n",
       "  function run_callbacks() {\n",
       "    try {\n",
       "      root._bokeh_onload_callbacks.forEach(function(callback) { callback() });\n",
       "    }\n",
       "    finally {\n",
       "      delete root._bokeh_onload_callbacks\n",
       "    }\n",
       "    console.info(\"Bokeh: all callbacks have finished\");\n",
       "  }\n",
       "\n",
       "  function load_libs(js_urls, callback) {\n",
       "    root._bokeh_onload_callbacks.push(callback);\n",
       "    if (root._bokeh_is_loading > 0) {\n",
       "      console.log(\"Bokeh: BokehJS is being loaded, scheduling callback at\", now());\n",
       "      return null;\n",
       "    }\n",
       "    if (js_urls == null || js_urls.length === 0) {\n",
       "      run_callbacks();\n",
       "      return null;\n",
       "    }\n",
       "    console.log(\"Bokeh: BokehJS not loaded, scheduling load and callback at\", now());\n",
       "    root._bokeh_is_loading = js_urls.length;\n",
       "    for (var i = 0; i < js_urls.length; i++) {\n",
       "      var url = js_urls[i];\n",
       "      var s = document.createElement('script');\n",
       "      s.src = url;\n",
       "      s.async = false;\n",
       "      s.onreadystatechange = s.onload = function() {\n",
       "        root._bokeh_is_loading--;\n",
       "        if (root._bokeh_is_loading === 0) {\n",
       "          console.log(\"Bokeh: all BokehJS libraries loaded\");\n",
       "          run_callbacks()\n",
       "        }\n",
       "      };\n",
       "      s.onerror = function() {\n",
       "        console.warn(\"failed to load library \" + url);\n",
       "      };\n",
       "      console.log(\"Bokeh: injecting script tag for BokehJS library: \", url);\n",
       "      document.getElementsByTagName(\"head\")[0].appendChild(s);\n",
       "    }\n",
       "  };var element = document.getElementById(\"750ef53e-999a-4c3c-b0b7-c93ee59eecd6\");\n",
       "  if (element == null) {\n",
       "    console.log(\"Bokeh: ERROR: autoload.js configured with elementid '750ef53e-999a-4c3c-b0b7-c93ee59eecd6' but no matching script tag was found. \")\n",
       "    return false;\n",
       "  }\n",
       "\n",
       "  var js_urls = [\"https://cdn.pydata.org/bokeh/release/bokeh-0.12.16.min.js\", \"https://cdn.pydata.org/bokeh/release/bokeh-widgets-0.12.16.min.js\", \"https://cdn.pydata.org/bokeh/release/bokeh-tables-0.12.16.min.js\", \"https://cdn.pydata.org/bokeh/release/bokeh-gl-0.12.16.min.js\"];\n",
       "\n",
       "  var inline_js = [\n",
       "    function(Bokeh) {\n",
       "      Bokeh.set_log_level(\"info\");\n",
       "    },\n",
       "    \n",
       "    function(Bokeh) {\n",
       "      \n",
       "    },\n",
       "    function(Bokeh) {\n",
       "      console.log(\"Bokeh: injecting CSS: https://cdn.pydata.org/bokeh/release/bokeh-0.12.16.min.css\");\n",
       "      Bokeh.embed.inject_css(\"https://cdn.pydata.org/bokeh/release/bokeh-0.12.16.min.css\");\n",
       "      console.log(\"Bokeh: injecting CSS: https://cdn.pydata.org/bokeh/release/bokeh-widgets-0.12.16.min.css\");\n",
       "      Bokeh.embed.inject_css(\"https://cdn.pydata.org/bokeh/release/bokeh-widgets-0.12.16.min.css\");\n",
       "      console.log(\"Bokeh: injecting CSS: https://cdn.pydata.org/bokeh/release/bokeh-tables-0.12.16.min.css\");\n",
       "      Bokeh.embed.inject_css(\"https://cdn.pydata.org/bokeh/release/bokeh-tables-0.12.16.min.css\");\n",
       "    }\n",
       "  ];\n",
       "\n",
       "  function run_inline_js() {\n",
       "    \n",
       "    if ((root.Bokeh !== undefined) || (force === true)) {\n",
       "      for (var i = 0; i < inline_js.length; i++) {\n",
       "        inline_js[i].call(root, root.Bokeh);\n",
       "      }if (force === true) {\n",
       "        display_loaded();\n",
       "      }} else if (Date.now() < root._bokeh_timeout) {\n",
       "      setTimeout(run_inline_js, 100);\n",
       "    } else if (!root._bokeh_failed_load) {\n",
       "      console.log(\"Bokeh: BokehJS failed to load within specified timeout.\");\n",
       "      root._bokeh_failed_load = true;\n",
       "    } else if (force !== true) {\n",
       "      var cell = $(document.getElementById(\"750ef53e-999a-4c3c-b0b7-c93ee59eecd6\")).parents('.cell').data().cell;\n",
       "      cell.output_area.append_execute_result(NB_LOAD_WARNING)\n",
       "    }\n",
       "\n",
       "  }\n",
       "\n",
       "  if (root._bokeh_is_loading === 0) {\n",
       "    console.log(\"Bokeh: BokehJS loaded, going straight to plotting\");\n",
       "    run_inline_js();\n",
       "  } else {\n",
       "    load_libs(js_urls, function() {\n",
       "      console.log(\"Bokeh: BokehJS plotting callback run at\", now());\n",
       "      run_inline_js();\n",
       "    });\n",
       "  }\n",
       "}(window));"
      ],
      "application/vnd.bokehjs_load.v0+json": "\n(function(root) {\n  function now() {\n    return new Date();\n  }\n\n  var force = true;\n\n  if (typeof (root._bokeh_onload_callbacks) === \"undefined\" || force === true) {\n    root._bokeh_onload_callbacks = [];\n    root._bokeh_is_loading = undefined;\n  }\n\n  \n\n  \n  if (typeof (root._bokeh_timeout) === \"undefined\" || force === true) {\n    root._bokeh_timeout = Date.now() + 5000;\n    root._bokeh_failed_load = false;\n  }\n\n  var NB_LOAD_WARNING = {'data': {'text/html':\n     \"<div style='background-color: #fdd'>\\n\"+\n     \"<p>\\n\"+\n     \"BokehJS does not appear to have successfully loaded. If loading BokehJS from CDN, this \\n\"+\n     \"may be due to a slow or bad network connection. Possible fixes:\\n\"+\n     \"</p>\\n\"+\n     \"<ul>\\n\"+\n     \"<li>re-rerun `output_notebook()` to attempt to load from CDN again, or</li>\\n\"+\n     \"<li>use INLINE resources instead, as so:</li>\\n\"+\n     \"</ul>\\n\"+\n     \"<code>\\n\"+\n     \"from bokeh.resources import INLINE\\n\"+\n     \"output_notebook(resources=INLINE)\\n\"+\n     \"</code>\\n\"+\n     \"</div>\"}};\n\n  function display_loaded() {\n    var el = document.getElementById(\"750ef53e-999a-4c3c-b0b7-c93ee59eecd6\");\n    if (el != null) {\n      el.textContent = \"BokehJS is loading...\";\n    }\n    if (root.Bokeh !== undefined) {\n      if (el != null) {\n        el.textContent = \"BokehJS \" + root.Bokeh.version + \" successfully loaded.\";\n      }\n    } else if (Date.now() < root._bokeh_timeout) {\n      setTimeout(display_loaded, 100)\n    }\n  }\n\n\n  function run_callbacks() {\n    try {\n      root._bokeh_onload_callbacks.forEach(function(callback) { callback() });\n    }\n    finally {\n      delete root._bokeh_onload_callbacks\n    }\n    console.info(\"Bokeh: all callbacks have finished\");\n  }\n\n  function load_libs(js_urls, callback) {\n    root._bokeh_onload_callbacks.push(callback);\n    if (root._bokeh_is_loading > 0) {\n      console.log(\"Bokeh: BokehJS is being loaded, scheduling callback at\", now());\n      return null;\n    }\n    if (js_urls == null || js_urls.length === 0) {\n      run_callbacks();\n      return null;\n    }\n    console.log(\"Bokeh: BokehJS not loaded, scheduling load and callback at\", now());\n    root._bokeh_is_loading = js_urls.length;\n    for (var i = 0; i < js_urls.length; i++) {\n      var url = js_urls[i];\n      var s = document.createElement('script');\n      s.src = url;\n      s.async = false;\n      s.onreadystatechange = s.onload = function() {\n        root._bokeh_is_loading--;\n        if (root._bokeh_is_loading === 0) {\n          console.log(\"Bokeh: all BokehJS libraries loaded\");\n          run_callbacks()\n        }\n      };\n      s.onerror = function() {\n        console.warn(\"failed to load library \" + url);\n      };\n      console.log(\"Bokeh: injecting script tag for BokehJS library: \", url);\n      document.getElementsByTagName(\"head\")[0].appendChild(s);\n    }\n  };var element = document.getElementById(\"750ef53e-999a-4c3c-b0b7-c93ee59eecd6\");\n  if (element == null) {\n    console.log(\"Bokeh: ERROR: autoload.js configured with elementid '750ef53e-999a-4c3c-b0b7-c93ee59eecd6' but no matching script tag was found. \")\n    return false;\n  }\n\n  var js_urls = [\"https://cdn.pydata.org/bokeh/release/bokeh-0.12.16.min.js\", \"https://cdn.pydata.org/bokeh/release/bokeh-widgets-0.12.16.min.js\", \"https://cdn.pydata.org/bokeh/release/bokeh-tables-0.12.16.min.js\", \"https://cdn.pydata.org/bokeh/release/bokeh-gl-0.12.16.min.js\"];\n\n  var inline_js = [\n    function(Bokeh) {\n      Bokeh.set_log_level(\"info\");\n    },\n    \n    function(Bokeh) {\n      \n    },\n    function(Bokeh) {\n      console.log(\"Bokeh: injecting CSS: https://cdn.pydata.org/bokeh/release/bokeh-0.12.16.min.css\");\n      Bokeh.embed.inject_css(\"https://cdn.pydata.org/bokeh/release/bokeh-0.12.16.min.css\");\n      console.log(\"Bokeh: injecting CSS: https://cdn.pydata.org/bokeh/release/bokeh-widgets-0.12.16.min.css\");\n      Bokeh.embed.inject_css(\"https://cdn.pydata.org/bokeh/release/bokeh-widgets-0.12.16.min.css\");\n      console.log(\"Bokeh: injecting CSS: https://cdn.pydata.org/bokeh/release/bokeh-tables-0.12.16.min.css\");\n      Bokeh.embed.inject_css(\"https://cdn.pydata.org/bokeh/release/bokeh-tables-0.12.16.min.css\");\n    }\n  ];\n\n  function run_inline_js() {\n    \n    if ((root.Bokeh !== undefined) || (force === true)) {\n      for (var i = 0; i < inline_js.length; i++) {\n        inline_js[i].call(root, root.Bokeh);\n      }if (force === true) {\n        display_loaded();\n      }} else if (Date.now() < root._bokeh_timeout) {\n      setTimeout(run_inline_js, 100);\n    } else if (!root._bokeh_failed_load) {\n      console.log(\"Bokeh: BokehJS failed to load within specified timeout.\");\n      root._bokeh_failed_load = true;\n    } else if (force !== true) {\n      var cell = $(document.getElementById(\"750ef53e-999a-4c3c-b0b7-c93ee59eecd6\")).parents('.cell').data().cell;\n      cell.output_area.append_execute_result(NB_LOAD_WARNING)\n    }\n\n  }\n\n  if (root._bokeh_is_loading === 0) {\n    console.log(\"Bokeh: BokehJS loaded, going straight to plotting\");\n    run_inline_js();\n  } else {\n    load_libs(js_urls, function() {\n      console.log(\"Bokeh: BokehJS plotting callback run at\", now());\n      run_inline_js();\n    });\n  }\n}(window));"
     },
     "metadata": {},
     "output_type": "display_data"
    }
   ],
   "source": [
    "output_notebook()"
   ]
  },
  {
   "cell_type": "code",
   "execution_count": 8,
   "metadata": {
    "collapsed": true
   },
   "outputs": [],
   "source": [
    "def fmt_cool(ds_in):\n",
    "    ds = ds_in.copy(deep=True)\n",
    "    if 'igg' in ds.dims:\n",
    "        ds = ds.sel(igg=1)\n",
    "\n",
    "    if 'g' in ds.dims:\n",
    "        ds = ds.sum('g')\n",
    "            \n",
    "    if 'band' in ds.dims:\n",
    "        try:\n",
    "            ds = ds.squeeze('band')\n",
    "        except ValueError:\n",
    "            ds = ds.sum('band')\n",
    "                \n",
    "    return ds['coolrg']\n",
    "\n",
    "\n",
    "def pltdata_cooling_1(ds_cool=None,\n",
    "                      ds_cool_crd=None, ds_cool_wgt=None):\n",
    "    \n",
    "\n",
    "\n",
    "    colors = all_palettes['Set1'][4]\n",
    "    data = [{'label': 'CLIRAD `coolr_bands`',\n",
    "             'srs': fmt_cool(ds_cool),\n",
    "             'line_dash': 'dashed', 'line_width': 5,\n",
    "             'color': colors[0], 'alpha': .6},\n",
    "            {'label': 'CRD',\n",
    "             'srs': fmt_cool(ds_cool_crd),\n",
    "             'line_dash': 'solid', 'line_width': 1.5,\n",
    "             'marker': 'circle', 'marker_size': 5,\n",
    "             'color': colors[2], 'alpha': 1,},\n",
    "            {'label': 'WGT igg=10 wgt_flux=2',\n",
    "             'srs': fmt_cool(ds_cool_wgt),\n",
    "             'line_dash': 'solid', 'line_width': 3,\n",
    "             'marker': 'square', 'marker_size': 5,\n",
    "             'color': colors[3], 'alpha': .6}]\n",
    "    return data\n",
    "\n",
    "\n",
    "def nice_xlims(pltdata=None, prange=None):\n",
    "    \n",
    "    def get_slice(srs):\n",
    "        return srs.sel(pressure=slice(*prange))\n",
    "    \n",
    "    srss = [d['srs'] for d in pltdata]\n",
    "    vmin = min([get_slice(srs).min() for srs in srss])\n",
    "    vmax = max([get_slice(srs).max() for srs in srss])\n",
    "    dv = (vmax - vmin) * .01\n",
    "    return float(vmin - dv), float(vmax + dv)\n",
    "    \n",
    "\n",
    "def plt_cooling_bokeh(pltdata=None):\n",
    "    '''\n",
    "    Plot a list of cooling rate profiles using bokeh.\n",
    "    '''\n",
    "    ymin = 1e-2 \n",
    "    ymax = 1020 \n",
    "        \n",
    "    p1 = figure(title=\"Linear pressure scale\", \n",
    "                plot_width=400)        \n",
    "    xmin, xmax = nice_xlims(pltdata, prange=(50, 1050))\n",
    "    for d in pltdata:\n",
    "        if 'marker' in d:\n",
    "            getattr(p1, d['marker'])(d['srs'].values, \n",
    "                    d['srs'].coords['pressure'].values,\n",
    "                    color=d['color'], alpha=.7)\n",
    "        p1.line(d['srs'].values, \n",
    "                d['srs'].coords['pressure'].values,\n",
    "                color=d['color'], alpha=d['alpha'], \n",
    "                line_width=d['line_width'], line_dash=d['line_dash'])\n",
    "    \n",
    "    p1.y_range = Range1d(ymax, ymin)\n",
    "    p1.yaxis.axis_label = 'pressure [mb]'   \n",
    "    p1.x_range = Range1d(xmin, xmax)\n",
    "    p1.xaxis.axis_label = 'cooling rate [K/day]'\n",
    "            \n",
    "    p2 = figure(title='Log pressure scale', y_axis_type='log',\n",
    "                plot_width=560)\n",
    "    xmin, xmax = nice_xlims(pltdata, prange=(.01, 200))\n",
    "    \n",
    "    rs = []\n",
    "    for d in pltdata:\n",
    "        rd = []\n",
    "        if 'marker' in d:\n",
    "            r_mark = getattr(p2, d['marker'])(d['srs'].values, \n",
    "                        d['srs'].coords['pressure'].values,\n",
    "                        color=d['color'], alpha=.7)\n",
    "            rd.append(r_mark)\n",
    "        r_line = p2.line(d['srs'].values, \n",
    "                    d['srs'].coords['pressure'].values,\n",
    "                    color=d['color'], alpha=d['alpha'], \n",
    "                    line_width=d['line_width'], line_dash=d['line_dash'])\n",
    "        rd.append(r_line)\n",
    "      \n",
    "        rs.append(rd)\n",
    "        \n",
    "    p2.y_range = Range1d(ymax, ymin)  \n",
    "    p2.yaxis.axis_label = 'pressure [mb]'\n",
    "    \n",
    "    p2.x_range = Range1d(xmin, xmax)\n",
    "    p2.xaxis.axis_label = 'cooling rate [K/day]'\n",
    "    \n",
    "    items = [(d['label'], r) for r, d in zip(rs, pltdata)]\n",
    "    legend = Legend(items=items, location=(10, -30))\n",
    "    legend.label_text_font_size = '8pt'\n",
    "    \n",
    "    p2.add_layout(legend, 'right')  \n",
    "    \n",
    "    show(gridplot(p1, p2, ncols=2, plot_height=500))\n",
    "    \n",
    "\n",
    "def script_plt_cooling():\n",
    "    pltdata = pltdata_cooling_1(\n",
    "        ds_cool=DS_COOL,\n",
    "        ds_cool_crd=DS_COOL_CRD,\n",
    "        ds_cool_wgt=DS_COOL_WGT)\n",
    "    plt_cooling_bokeh(pltdata=pltdata)\n",
    "    print('''FIGURE. Cooling rate profiles.''')"
   ]
  },
  {
   "cell_type": "code",
   "execution_count": 9,
   "metadata": {
    "collapsed": true
   },
   "outputs": [],
   "source": [
    "def fmt_flux(ds_in):\n",
    "    ds = ds_in.copy(deep=True)\n",
    "    \n",
    "    for l in ('level', 'layer'):\n",
    "        if l in ds.data_vars:\n",
    "            if len(ds[l].dims) > 1:\n",
    "                surface = {d: 0 for d in ds.dims if d != 'pressure'}\n",
    "                coord_level = ds[l][surface]\n",
    "                ds.coords[l] = ('pressure', coord_level)\n",
    "            else:\n",
    "                ds.coords[l] = ('pressure', ds[l])\n",
    "        \n",
    "    ds = ds.isel(pressure=[0, 23, -1])\n",
    "        \n",
    "    if 'igg' in ds.dims:\n",
    "        ds = ds.sel(igg=[1])\n",
    "        ds = ds.squeeze('igg').drop('igg')\n",
    "    \n",
    "    if 'g' in ds.dims:\n",
    "        ds = ds.sum('g')\n",
    "            \n",
    "    if 'band' in ds.dims:\n",
    "        try:\n",
    "            ds = ds.squeeze('band').drop('band')\n",
    "        except ValueError:\n",
    "            ds = ds.sum('band')\n",
    "                \n",
    "    df = ds.to_dataframe()\n",
    "    df = df.set_index('level', append=True)               \n",
    "    return df\n",
    "\n",
    "\n",
    "def tbdata_flux(ds_flux=None, ds_flux_crd=None, ds_flux_wgt=None):\n",
    "    ilevels = [0, 23, -1]\n",
    "            \n",
    "    benchmark = {'label': 'CRD',\n",
    "                 'df': fmt_flux(ds_flux_crd)}\n",
    "    \n",
    "    tbs = [{'label': 'WGT igg=10 wgt_flux=1',\n",
    "            'df': fmt_flux(ds_flux_wgt)},\n",
    "           {'label': 'CLIRAD',\n",
    "            'df': fmt_flux(ds_flux)}]\n",
    "    \n",
    "    data = {'benchmark': benchmark, 'others': tbs}\n",
    "    return data\n",
    "\n",
    "\n",
    "def tb_flux(tbdata=None):\n",
    "    benchmark = tbdata['benchmark']\n",
    "    others = tbdata['others']\n",
    "    \n",
    "    def show_tb(d=None):\n",
    "        display.display(d['df'])\n",
    "        print('Table.', 'Fluxes.', d['label'])\n",
    "        \n",
    "    def show_tbdiff(d0=None, d=None):\n",
    "        df = d['df']\n",
    "        df.index = d0['df'].index\n",
    "        display.display(df - d0['df'])\n",
    "        print('Table.', 'Fluxes.', \n",
    "              '({}) - ({})'.format(d['label'], d0['label']))\n",
    "        \n",
    "    show_tb(benchmark)\n",
    "    for d in others:\n",
    "        show_tb(d)\n",
    "        \n",
    "    for d in others:\n",
    "        show_tbdiff(d=d, d0=benchmark)\n",
    "        \n",
    "        \n",
    "def script_tb_flux():\n",
    "    data = tbdata_flux(ds_flux=DS_FLUX,\n",
    "                       ds_flux_crd=DS_FLUX_CRD,\n",
    "                       ds_flux_wgt=DS_FLUX_WGT)\n",
    "    tb_flux(tbdata=data)"
   ]
  },
  {
   "cell_type": "code",
   "execution_count": 10,
   "metadata": {
    "collapsed": true
   },
   "outputs": [],
   "source": [
    "def band_map():\n",
    "    '''\n",
    "    Maps spectral bands in lblnew to spectral bands in clirad.\n",
    "    '''\n",
    "    lblnew2clirad = {'1': '1',\n",
    "            '2': '2',\n",
    "            '3a': '3',\n",
    "            '3b': '4',\n",
    "            '3c': '5',\n",
    "            '4': '6', \n",
    "            '5': '7',\n",
    "            '6': '8',\n",
    "            '7': '9', \n",
    "            '8': '10',\n",
    "            '9': '11'}\n",
    "    \n",
    "    clirad2lblnew = {clirad: lblnew \n",
    "                     for lblnew, clirad in lblnew2clirad.items()}\n",
    "    return clirad2lblnew\n",
    "\n",
    "\n",
    "def gasbands():\n",
    "    bmap = band_map()\n",
    "    gases = list(PARAM['molecule'].keys())\n",
    "    \n",
    "    bands = [bmap[str(b)] for b in PARAM['band']]\n",
    "    return list(itertools.product(gases, bands))\n",
    "\n",
    "\n",
    "def print_bestfit_params():\n",
    "    print('Best-fit values for each (gas, band)')\n",
    "    print('------------------------------------')\n",
    "    for gas, band in gasbands():\n",
    "        print('o {} band{}'.format(gas, band))\n",
    "        param = bestfits.kdist_params(molecule=gas, band=band)\n",
    "        for name, value in sorted(param.items()):\n",
    "            print(2 * ' ' + '{} = {}'.format(name, value))\n",
    "\n",
    "        \n",
    "def print_input_param():        \n",
    "    for name, value in PARAM.items():\n",
    "        print('{} = {}'.format(name, value))\n",
    "        \n",
    "        \n",
    "def print_lblnew_param():\n",
    "    for name, value in sorted(PARAM_LBLNEW.items()):\n",
    "        print('{} = {}'.format(name, value))\n"
   ]
  },
  {
   "cell_type": "code",
   "execution_count": 11,
   "metadata": {
    "collapsed": true,
    "scrolled": false
   },
   "outputs": [],
   "source": [
    "def show_html(s):\n",
    "    display.display(display.HTML(s))\n",
    "\n",
    "    \n",
    "def show_markdown(s):\n",
    "    display.display(display.Markdown(s))\n",
    "\n",
    "    \n",
    "def script():\n",
    "    \n",
    "    title = '### CLIRAD-LW'\n",
    "    s_input = 'Input Parameters'\n",
    "    s_lblnew_param = 'LBLNEW case compaired against'\n",
    "    s_bestfits = 'Best-fit Parameters'\n",
    "    s_plt_cooling = 'Cooling Rate Profiles'\n",
    "    s_tb_flux = 'Flux Comparison'\n",
    "    \n",
    "    # title\n",
    "    show_markdown('### CLIRAD-LW')\n",
    "    \n",
    "    # TOC\n",
    "    show_markdown('### Table of Contents')\n",
    "    show_html(climahtml.getHTML_hrefanchor(s_input))\n",
    "    show_html(climahtml.getHTML_hrefanchor(s_lblnew_param))\n",
    "    show_html(climahtml.getHTML_hrefanchor(s_plt_cooling))\n",
    "    show_html(climahtml.getHTML_hrefanchor(s_tb_flux))\n",
    "    show_html(climahtml.getHTML_hrefanchor(s_bestfits))\n",
    "    \n",
    "    # Input parameters\n",
    "    show_html(climahtml.getHTML_idanchor(s_input))\n",
    "    show_markdown(climahtml.getMarkdown_sectitle(s_input))\n",
    "    print_input_param()\n",
    "    \n",
    "    # LBLNEW parameters \n",
    "    show_html(climahtml.getHTML_idanchor(s_lblnew_param))\n",
    "    show_markdown(climahtml.getMarkdown_sectitle(s_lblnew_param))\n",
    "    print_lblnew_param()\n",
    "    \n",
    "    # Cooling rate profiles\n",
    "    show_html(climahtml.getHTML_idanchor(s_plt_cooling))\n",
    "    show_markdown(climahtml.getMarkdown_sectitle(s_plt_cooling))\n",
    "    script_plt_cooling()\n",
    "    \n",
    "    # Flux comparison\n",
    "    show_html(climahtml.getHTML_idanchor(s_tb_flux))\n",
    "    show_markdown(climahtml.getMarkdown_sectitle(s_tb_flux))\n",
    "    script_tb_flux()\n",
    "    \n",
    "    # Best-fit values\n",
    "    show_html(climahtml.getHTML_idanchor(s_bestfits))\n",
    "    show_markdown(climahtml.getMarkdown_sectitle(s_bestfits))\n",
    "    print_bestfit_params()\n",
    "   \n",
    "    "
   ]
  },
  {
   "cell_type": "code",
   "execution_count": 12,
   "metadata": {
    "collapsed": true,
    "scrolled": false
   },
   "outputs": [
    {
     "data": {
      "text/markdown": [
       "### CLIRAD-LW"
      ],
      "text/plain": [
       "<IPython.core.display.Markdown object>"
      ]
     },
     "metadata": {},
     "output_type": "display_data"
    },
    {
     "data": {
      "text/markdown": [
       "### Table of Contents"
      ],
      "text/plain": [
       "<IPython.core.display.Markdown object>"
      ]
     },
     "metadata": {},
     "output_type": "display_data"
    },
    {
     "data": {
      "text/html": [
       "<a href=\"#Input_Parameters\">Input Parameters</a>"
      ],
      "text/plain": [
       "<IPython.core.display.HTML object>"
      ]
     },
     "metadata": {},
     "output_type": "display_data"
    },
    {
     "data": {
      "text/html": [
       "<a href=\"#LBLNEW_case_compaired_against\">LBLNEW case compaired against</a>"
      ],
      "text/plain": [
       "<IPython.core.display.HTML object>"
      ]
     },
     "metadata": {},
     "output_type": "display_data"
    },
    {
     "data": {
      "text/html": [
       "<a href=\"#Cooling_Rate_Profiles\">Cooling Rate Profiles</a>"
      ],
      "text/plain": [
       "<IPython.core.display.HTML object>"
      ]
     },
     "metadata": {},
     "output_type": "display_data"
    },
    {
     "data": {
      "text/html": [
       "<a href=\"#Flux_Comparison\">Flux Comparison</a>"
      ],
      "text/plain": [
       "<IPython.core.display.HTML object>"
      ]
     },
     "metadata": {},
     "output_type": "display_data"
    },
    {
     "data": {
      "text/html": [
       "<a href=\"#Best-fit_Parameters\">Best-fit Parameters</a>"
      ],
      "text/plain": [
       "<IPython.core.display.HTML object>"
      ]
     },
     "metadata": {},
     "output_type": "display_data"
    },
    {
     "data": {
      "text/html": [
       "<a id=\"Input_Parameters\"></a>"
      ],
      "text/plain": [
       "<IPython.core.display.HTML object>"
      ]
     },
     "metadata": {},
     "output_type": "display_data"
    },
    {
     "data": {
      "text/markdown": [
       "# Input Parameters"
      ],
      "text/plain": [
       "<IPython.core.display.Markdown object>"
      ]
     },
     "metadata": {},
     "output_type": "display_data"
    },
    {
     "name": "stdout",
     "output_type": "stream",
     "text": [
      "atmpro = trp\n",
      "band = [2]\n",
      "commitnumber = 4198f95\n",
      "molecule = {'h2o': 'atmpro'}\n",
      "tsfc = 300\n"
     ]
    },
    {
     "data": {
      "text/html": [
       "<a id=\"LBLNEW_case_compaired_against\"></a>"
      ],
      "text/plain": [
       "<IPython.core.display.HTML object>"
      ]
     },
     "metadata": {},
     "output_type": "display_data"
    },
    {
     "data": {
      "text/markdown": [
       "# LBLNEW case compaired against"
      ],
      "text/plain": [
       "<IPython.core.display.Markdown object>"
      ]
     },
     "metadata": {},
     "output_type": "display_data"
    },
    {
     "name": "stdout",
     "output_type": "stream",
     "text": [
      "atmpro = trp\n",
      "band = 2\n",
      "commitnumber = 5014a19\n",
      "conc = None\n",
      "dv = 0.001\n",
      "klin = 0\n",
      "molecule = h2o\n",
      "ng_adju = [-2, -2, 0]\n",
      "ng_refs = [2, 3, 6]\n",
      "nv = 1000\n",
      "option_compute_btable = 0\n",
      "option_compute_ktable = 0\n",
      "option_wgt_flux = 1\n",
      "option_wgt_k = 1\n",
      "ref_pts = [(1, 250), (10, 250), (500, 250)]\n",
      "tsfc = 300\n",
      "vmax = 540\n",
      "vmin = 340\n",
      "w_diffuse = [(1.66, 1.66), (1.8, 1.8, 1.8), (1.8, 1.66, 1.45, 1.45, 1.45, 1.45)]\n",
      "wgt = [(0.6, 0.6), (0.6, 0.6, 0.6), (0.6, 0.6, 0.6, 0.6, 0.6, 0.6)]\n"
     ]
    },
    {
     "data": {
      "text/html": [
       "<a id=\"Cooling_Rate_Profiles\"></a>"
      ],
      "text/plain": [
       "<IPython.core.display.HTML object>"
      ]
     },
     "metadata": {},
     "output_type": "display_data"
    },
    {
     "data": {
      "text/markdown": [
       "# Cooling Rate Profiles"
      ],
      "text/plain": [
       "<IPython.core.display.Markdown object>"
      ]
     },
     "metadata": {},
     "output_type": "display_data"
    },
    {
     "data": {
      "text/html": [
       "\n",
       "<div class=\"bk-root\">\n",
       "    <div class=\"bk-plotdiv\" id=\"2b6839e8-4726-4659-bab5-bdd5597d1a2d\"></div>\n",
       "</div>"
      ]
     },
     "metadata": {},
     "output_type": "display_data"
    },
    {
     "data": {
      "application/javascript": [
       "(function(root) {\n",
       "  function embed_document(root) {\n",
       "    \n",
       "  var docs_json = {\"e63c940d-81b6-4e29-8887-b837ec0d08b6\":{\"roots\":{\"references\":[{\"attributes\":{},\"id\":\"e408b03a-accf-426a-8022-a45738f2c258\",\"type\":\"LogScale\"},{\"attributes\":{\"plot\":null,\"text\":\"Log pressure scale\"},\"id\":\"46a988d2-6cbd-4a08-9a49-b9805ab8dcbd\",\"type\":\"Title\"},{\"attributes\":{},\"id\":\"09081d08-82a7-4d94-81d8-699874925090\",\"type\":\"WheelZoomTool\"},{\"attributes\":{\"callback\":null,\"end\":0.2297261044,\"start\":-0.0008076043999999997},\"id\":\"7a9f6027-eca1-4472-809a-2459e37cd810\",\"type\":\"Range1d\"},{\"attributes\":{\"bottom_units\":\"screen\",\"fill_alpha\":{\"value\":0.5},\"fill_color\":{\"value\":\"lightgrey\"},\"left_units\":\"screen\",\"level\":\"overlay\",\"line_alpha\":{\"value\":1.0},\"line_color\":{\"value\":\"black\"},\"line_dash\":[4,4],\"line_width\":{\"value\":2},\"plot\":null,\"render_mode\":\"css\",\"right_units\":\"screen\",\"top_units\":\"screen\"},\"id\":\"2ff4f949-acb0-474f-8814-1d05b37da2be\",\"type\":\"BoxAnnotation\"},{\"attributes\":{\"data_source\":{\"id\":\"7c0be56a-9eff-4564-8e59-0ee3a9c73662\",\"type\":\"ColumnDataSource\"},\"glyph\":{\"id\":\"2740d00f-3b0f-4e02-b22c-7a295bcdaf63\",\"type\":\"Square\"},\"hover_glyph\":null,\"muted_glyph\":null,\"nonselection_glyph\":{\"id\":\"d92a5d94-7987-4a18-9f31-f5fb7a74c881\",\"type\":\"Square\"},\"selection_glyph\":null,\"view\":{\"id\":\"f7edcd8e-8db6-4405-bf2f-595228d9c3f9\",\"type\":\"CDSView\"}},\"id\":\"2ce43a34-e24f-4f7f-9dd4-d43ccdffb0dc\",\"type\":\"GlyphRenderer\"},{\"attributes\":{\"callback\":null,\"data\":{\"x\":{\"__ndarray__\":\"ya4XZJbQtD/ttTp3EDy1P3gddi0d/7U/oSlGBN+8tj9qr5dzUou3PxsL0vj3Pbg/YNesNYXZuD9ThswU2Fe5PzNIKiMIqLk/W0vLfmO+uT/9hmuHonS5PwjJ+Svqybg/kOp/u3SVtz9PuKaHCPS1P2ABukrY5LY/V7IviNMOvD+zCecHsT/BP+mPmfjC/MM/vYZ8Wtoaxj/Pz1ryENLHP99cUmIH8sk/ITYe/g7xzD+iGZELLHbLPxp+0uW6jcY/vdEgtalnwj90bm4gbz29P0Q1kqb0Bbg/qBfCCa+ptD+IXXglUC2yP7sbIAdLArA/MncuJRIArD+uSnNMrJWoPzentHTruKU/LoGF/D7woj8/QkwJqOKaP+bip0nkUYc/fwbC84GlXz8I+V10Iah3P7vIJ9ly8ZM/ZuzzUYKUoj8deTEnwHWyP1DThLdWb8Y/f3ih+WJm0z8wz/hKBL3bP6J8utqjU+I/B1I7fgyP5j8/k/gKd7vpPxLytwuPN+w/ZpdhUHxo7T/p1ghh3NjuP7FCxz+qIfA/cf0g4Cvi8D/1ghhj8ofxP5eUB0kG0PE/CuRe+sKt8T9BhQt0TjvxP8s+C7VEn/A/vYT6ZI/Y7z+vZTsY5yruP6Q+gquDJew/POuA0dbM6T9EoqudrCLnP1AO47+uMOQ/aIRvTEbD4T/y/y7N7NncP/qOGDQIpdY/k3ohP0vZ0T8YXj9ft+XLPyft7jv2mMY/8Rd0whFTwj/7MKnfK6m9P3+xWxiR27c/Ckj5xdx1sz/LregVMnuxP0wZmdKomMk/\",\"dtype\":\"float64\",\"shape\":[75]},\"y\":{\"__ndarray__\":\"GhExyth1ND/Sv8nbtpRIP2vylNV0PVE/aTum7souWD/At0SJ8fVgPw3Iuahxymc/MSNhhJWvcD/bTfBN02d3P2zb5nxnaoA/CD5h5MAGhz8NmeH1TyaQP+zrCsc9p5Y/LbKd76fGnz/bLW5ISEmmPww9YvTcQq8/JV2OstnstT8Er5Y7M8G+P0c+r3jqkcU/5h99k6ZBzj88bCIzFzjVP4enV8oyxN0//yH99nXg5D8qOpLLf0jtP5kqGJXUifQ/c9cS8kHP/D+/DpwzojQEQIEmwoanVwxA4lgXt9HgE0BSSZ2AJuIbQAMJih9jjiNA5q4l5INuK0AwTKYKRj0zQNv5fmq8/DpAaCJseHrtQkB/+zpwzoxKQM3MzMzMeFJAZmZmZmZqWEAAAAAAAFxeQM3MzMzMJmJAmpmZmZkfZUBmZmZmZhhoQDMzMzMzEWtAAAAAAAAKbkBmZmZmZoFwQM3MzMzM/XFAMzMzMzN6c0CamZmZmfZ0QAAAAAAAc3ZAZmZmZmbvd0DNzMzMzGt5QDMzMzMz6HpAmpmZmZlkfEAAAAAAAOF9QGZmZmZmXX9AZmZmZuZsgECamZmZGSuBQM3MzMxM6YFAAAAAAICngkAzMzMzs2WDQGZmZmbmI4RAmpmZmRnihEDNzMzMTKCFQAAAAACAXoZAMzMzM7Mch0BmZmZm5tqHQJqZmZkZmYhAzczMzExXiUAAAAAAgBWKQDMzMzOz04pAZmZmZuaRi0CamZmZGVCMQM3MzMxMDo1AAAAAAIDMjUAzMzMzs4qOQGZmZmbmSI9A\",\"dtype\":\"float64\",\"shape\":[75]}},\"selected\":{\"id\":\"4e0a2b9e-4d6c-45e7-8d88-b6264d492ac4\",\"type\":\"Selection\"},\"selection_policy\":{\"id\":\"ceeaef3f-ad61-445f-9a35-204d46d31c22\",\"type\":\"UnionRenderers\"}},\"id\":\"4e13538a-fedb-477b-8d18-3a7b6abfe922\",\"type\":\"ColumnDataSource\"},{\"attributes\":{},\"id\":\"f9fff66c-a105-4913-a078-ba8e7e20ebd1\",\"type\":\"LinearScale\"},{\"attributes\":{\"data_source\":{\"id\":\"1ae20302-8fdd-4584-ba3f-402dfd26a54e\",\"type\":\"ColumnDataSource\"},\"glyph\":{\"id\":\"96d6b7e4-71a5-4de6-a260-7bf3d92d2028\",\"type\":\"Square\"},\"hover_glyph\":null,\"muted_glyph\":null,\"nonselection_glyph\":{\"id\":\"1e0f54ca-018a-4292-abf0-8695bfa5b36f\",\"type\":\"Square\"},\"selection_glyph\":null,\"view\":{\"id\":\"11152e34-5096-496d-a65f-e12a2c748eda\",\"type\":\"CDSView\"}},\"id\":\"5dcb5762-2069-46bb-ad43-0157e4301967\",\"type\":\"GlyphRenderer\"},{\"attributes\":{},\"id\":\"9672ca9d-1aa5-405b-8c19-0f248c980b9e\",\"type\":\"PanTool\"},{\"attributes\":{\"data_source\":{\"id\":\"4e13538a-fedb-477b-8d18-3a7b6abfe922\",\"type\":\"ColumnDataSource\"},\"glyph\":{\"id\":\"a55fe287-0721-4ca2-a089-9145c9b8e597\",\"type\":\"Line\"},\"hover_glyph\":null,\"muted_glyph\":null,\"nonselection_glyph\":{\"id\":\"8e654271-5acc-4b0f-a6de-42ea6cd41142\",\"type\":\"Line\"},\"selection_glyph\":null,\"view\":{\"id\":\"9c454c14-9e1d-4225-8ec4-9ea0cde6ecc4\",\"type\":\"CDSView\"}},\"id\":\"cf2c8a6b-d2ee-41fc-91a1-dfd86a450d5e\",\"type\":\"GlyphRenderer\"},{\"attributes\":{\"source\":{\"id\":\"4e326d81-5c6f-4afe-b3e7-ddc2883a0c53\",\"type\":\"ColumnDataSource\"}},\"id\":\"31bbd2b3-df55-45eb-96b9-2ec189c18be9\",\"type\":\"CDSView\"},{\"attributes\":{\"line_alpha\":0.1,\"line_color\":\"#1f77b4\",\"line_width\":1.5,\"x\":{\"field\":\"x\"},\"y\":{\"field\":\"y\"}},\"id\":\"c2a909b5-3612-4619-b1dc-77bd88b0cabd\",\"type\":\"Line\"},{\"attributes\":{\"source\":{\"id\":\"1ae20302-8fdd-4584-ba3f-402dfd26a54e\",\"type\":\"ColumnDataSource\"}},\"id\":\"11152e34-5096-496d-a65f-e12a2c748eda\",\"type\":\"CDSView\"},{\"attributes\":{\"callback\":null,\"data\":{\"x\":{\"__ndarray__\":\"mcB6ytSerj9oQPILBSWvPz6iYMvNZbA/S+GQ+b8ksT+88bvXs+GxP/LC55g9mrI/f5gkmUxKsz+bhopsRe2zPyBQQliperQ/8bHNIwXqtD8NuRdtlS21P89O+RzHK7U/XYeGn+HItD/lVhAc+hu0P6enBM6Wz7U/Q3C/8Ah2uz/Y8YAu8TLBPwwbpxk5KMQ/VURVZUJAxj9gW5q22p7HP9Px+6uFYck/AVgVyImCzD9inwCKkaXLP7kWb1ytMMc/aWx1WjMJwz/XdgsLi929Pxlk0qxaPLg/HqjrOmi3tD8CeEiHQFuyP25HsvOoC7A/diH9xjzKqz95Wo0LWImoP6hQgqOJHKY/joYw19I+oz8glqdV786aPwF468yiT4Y/3mEsNlrMVz8RHsn6SLB2P/OiXSJq5JM/a/PjVfSMoj/79khfFWOyP3Q/K1njJsY/n9m//F9/0j+JHI0JUuXZP2RnfvPqVeE/tE07RsMz5T8jc13fJJnnP79IR73Qceo/CsIN319Q7D/2IRQAiMDtP/kUfKp1SO8//VMF/kut8D+wLOKFvqXxP//5bNOOEfI/e4hGdxD78T9ukKT/QJTxP2V9uQUBKPE/RBH3/UC+8D8HdkalIh/wP2bkJHshUO4/LsGQcoOj6z9yKgBjCW3oPzMhvRN58+Q/9bsTYBZC4j/umi2sXcvdP95TnBfl4dc/5QBNxilh0z/ZsjpBtLnOPww2+Va5isg/sSjTBUh2wz+9zfKnUz++P4Mh6r+APrc/F2s0kJlRsj++jf3HajywPxHb5XS89sg/\",\"dtype\":\"float64\",\"shape\":[75]},\"y\":{\"__ndarray__\":\"S/O/Q+51ND/Sv8nbtpRIP2vylNV0PVE/aTum7souWD/At0SJ8fVgPw3Iuahxymc/MSNhhJWvcD/bTfBN02d3P2zb5nxnaoA/CD5h5MAGhz8NmeH1TyaQP+zrCsc9p5Y/LbKd76fGnz/bLW5ISEmmPww9YvTcQq8/JV2OstnstT8Er5Y7M8G+P0c+r3jqkcU/5h99k6ZBzj88bCIzFzjVP4enV8oyxN0//yH99nXg5D8qOpLLf0jtP5kqGJXUifQ/c9cS8kHP/D+/DpwzojQEQIEmwoanVwxA4lgXt9HgE0BSSZ2AJuIbQAMJih9jjiNA5q4l5INuK0AwTKYKRj0zQNv5fmq8/DpAaCJseHrtQkB/+zpwzoxKQM3MzMzMeFJAZmZmZmZqWEAAAAAAAFxeQM3MzMzMJmJAmpmZmZkfZUBmZmZmZhhoQDMzMzMzEWtAAAAAAAAKbkBmZmZmZoFwQM3MzMzM/XFAMzMzMzN6c0CamZmZmfZ0QAAAAAAAc3ZAZmZmZmbvd0DNzMzMzGt5QDMzMzMz6HpAmpmZmZlkfEAAAAAAAOF9QGZmZmZmXX9AZmZmZuZsgECamZmZGSuBQM3MzMxM6YFAAAAAAICngkAzMzMzs2WDQGZmZmbmI4RAmpmZmRnihEDNzMzMTKCFQAAAAACAXoZAMzMzM7Mch0BmZmZm5tqHQJqZmZkZmYhAzczMzExXiUAAAAAAgBWKQDMzMzOz04pAZmZmZuaRi0CamZmZGVCMQM3MzMxMDo1AAAAAAIDMjUAzMzMzs4qOQGZmZmbmSI9A\",\"dtype\":\"float64\",\"shape\":[75]}},\"selected\":{\"id\":\"88c358b5-83d6-4d39-a4cd-759692a9bb7e\",\"type\":\"Selection\"},\"selection_policy\":{\"id\":\"04c1d417-219f-4318-83eb-31a700266457\",\"type\":\"UnionRenderers\"}},\"id\":\"ccd851a4-3366-4288-a200-157d540cb548\",\"type\":\"ColumnDataSource\"},{\"attributes\":{\"line_alpha\":0.1,\"line_color\":\"#1f77b4\",\"line_width\":3,\"x\":{\"field\":\"x\"},\"y\":{\"field\":\"y\"}},\"id\":\"8e654271-5acc-4b0f-a6de-42ea6cd41142\",\"type\":\"Line\"},{\"attributes\":{\"line_alpha\":0.1,\"line_color\":\"#1f77b4\",\"line_dash\":[6],\"line_width\":5,\"x\":{\"field\":\"x\"},\"y\":{\"field\":\"y\"}},\"id\":\"1fafdf05-e9bd-4e9b-b8ab-f9f475333b22\",\"type\":\"Line\"},{\"attributes\":{\"fill_alpha\":{\"value\":0.7},\"fill_color\":{\"value\":\"#984ea3\"},\"line_alpha\":{\"value\":0.7},\"line_color\":{\"value\":\"#984ea3\"},\"x\":{\"field\":\"x\"},\"y\":{\"field\":\"y\"}},\"id\":\"96d6b7e4-71a5-4de6-a260-7bf3d92d2028\",\"type\":\"Square\"},{\"attributes\":{\"source\":{\"id\":\"7c0be56a-9eff-4564-8e59-0ee3a9c73662\",\"type\":\"ColumnDataSource\"}},\"id\":\"f7edcd8e-8db6-4405-bf2f-595228d9c3f9\",\"type\":\"CDSView\"},{\"attributes\":{\"num_minor_ticks\":10},\"id\":\"32aefaba-3933-455c-82c0-7b35cc95ae55\",\"type\":\"LogTicker\"},{\"attributes\":{\"callback\":null,\"data\":{\"x\":{\"__ndarray__\":\"ya4XZJbQtD/ttTp3EDy1P3gddi0d/7U/oSlGBN+8tj9qr5dzUou3PxsL0vj3Pbg/YNesNYXZuD9ThswU2Fe5PzNIKiMIqLk/W0vLfmO+uT/9hmuHonS5PwjJ+Svqybg/kOp/u3SVtz9PuKaHCPS1P2ABukrY5LY/V7IviNMOvD+zCecHsT/BP+mPmfjC/MM/vYZ8Wtoaxj/Pz1ryENLHP99cUmIH8sk/ITYe/g7xzD+iGZELLHbLPxp+0uW6jcY/vdEgtalnwj90bm4gbz29P0Q1kqb0Bbg/qBfCCa+ptD+IXXglUC2yP7sbIAdLArA/MncuJRIArD+uSnNMrJWoPzentHTruKU/LoGF/D7woj8/QkwJqOKaP+bip0nkUYc/fwbC84GlXz8I+V10Iah3P7vIJ9ly8ZM/ZuzzUYKUoj8deTEnwHWyP1DThLdWb8Y/f3ih+WJm0z8wz/hKBL3bP6J8utqjU+I/B1I7fgyP5j8/k/gKd7vpPxLytwuPN+w/ZpdhUHxo7T/p1ghh3NjuP7FCxz+qIfA/cf0g4Cvi8D/1ghhj8ofxP5eUB0kG0PE/CuRe+sKt8T9BhQt0TjvxP8s+C7VEn/A/vYT6ZI/Y7z+vZTsY5yruP6Q+gquDJew/POuA0dbM6T9EoqudrCLnP1AO47+uMOQ/aIRvTEbD4T/y/y7N7NncP/qOGDQIpdY/k3ohP0vZ0T8YXj9ft+XLPyft7jv2mMY/8Rd0whFTwj/7MKnfK6m9P3+xWxiR27c/Ckj5xdx1sz/LregVMnuxP0wZmdKomMk/\",\"dtype\":\"float64\",\"shape\":[75]},\"y\":{\"__ndarray__\":\"GhExyth1ND/Sv8nbtpRIP2vylNV0PVE/aTum7souWD/At0SJ8fVgPw3Iuahxymc/MSNhhJWvcD/bTfBN02d3P2zb5nxnaoA/CD5h5MAGhz8NmeH1TyaQP+zrCsc9p5Y/LbKd76fGnz/bLW5ISEmmPww9YvTcQq8/JV2OstnstT8Er5Y7M8G+P0c+r3jqkcU/5h99k6ZBzj88bCIzFzjVP4enV8oyxN0//yH99nXg5D8qOpLLf0jtP5kqGJXUifQ/c9cS8kHP/D+/DpwzojQEQIEmwoanVwxA4lgXt9HgE0BSSZ2AJuIbQAMJih9jjiNA5q4l5INuK0AwTKYKRj0zQNv5fmq8/DpAaCJseHrtQkB/+zpwzoxKQM3MzMzMeFJAZmZmZmZqWEAAAAAAAFxeQM3MzMzMJmJAmpmZmZkfZUBmZmZmZhhoQDMzMzMzEWtAAAAAAAAKbkBmZmZmZoFwQM3MzMzM/XFAMzMzMzN6c0CamZmZmfZ0QAAAAAAAc3ZAZmZmZmbvd0DNzMzMzGt5QDMzMzMz6HpAmpmZmZlkfEAAAAAAAOF9QGZmZmZmXX9AZmZmZuZsgECamZmZGSuBQM3MzMxM6YFAAAAAAICngkAzMzMzs2WDQGZmZmbmI4RAmpmZmRnihEDNzMzMTKCFQAAAAACAXoZAMzMzM7Mch0BmZmZm5tqHQJqZmZkZmYhAzczMzExXiUAAAAAAgBWKQDMzMzOz04pAZmZmZuaRi0CamZmZGVCMQM3MzMxMDo1AAAAAAIDMjUAzMzMzs4qOQGZmZmbmSI9A\",\"dtype\":\"float64\",\"shape\":[75]}},\"selected\":{\"id\":\"941a018d-a674-44a5-9346-998719351217\",\"type\":\"Selection\"},\"selection_policy\":{\"id\":\"c2304ee2-d9d0-426f-9cac-a4d24264785e\",\"type\":\"UnionRenderers\"}},\"id\":\"9fcb57ee-67d3-4a34-b6ad-7847289e3eee\",\"type\":\"ColumnDataSource\"},{\"attributes\":{\"callback\":null,\"data\":{\"x\":{\"__ndarray__\":\"ya4XZJbQtD/ttTp3EDy1P3gddi0d/7U/oSlGBN+8tj9qr5dzUou3PxsL0vj3Pbg/YNesNYXZuD9ThswU2Fe5PzNIKiMIqLk/W0vLfmO+uT/9hmuHonS5PwjJ+Svqybg/kOp/u3SVtz9PuKaHCPS1P2ABukrY5LY/V7IviNMOvD+zCecHsT/BP+mPmfjC/MM/vYZ8Wtoaxj/Pz1ryENLHP99cUmIH8sk/ITYe/g7xzD+iGZELLHbLPxp+0uW6jcY/vdEgtalnwj90bm4gbz29P0Q1kqb0Bbg/qBfCCa+ptD+IXXglUC2yP7sbIAdLArA/MncuJRIArD+uSnNMrJWoPzentHTruKU/LoGF/D7woj8/QkwJqOKaP+bip0nkUYc/fwbC84GlXz8I+V10Iah3P7vIJ9ly8ZM/ZuzzUYKUoj8deTEnwHWyP1DThLdWb8Y/f3ih+WJm0z8wz/hKBL3bP6J8utqjU+I/B1I7fgyP5j8/k/gKd7vpPxLytwuPN+w/ZpdhUHxo7T/p1ghh3NjuP7FCxz+qIfA/cf0g4Cvi8D/1ghhj8ofxP5eUB0kG0PE/CuRe+sKt8T9BhQt0TjvxP8s+C7VEn/A/vYT6ZI/Y7z+vZTsY5yruP6Q+gquDJew/POuA0dbM6T9EoqudrCLnP1AO47+uMOQ/aIRvTEbD4T/y/y7N7NncP/qOGDQIpdY/k3ohP0vZ0T8YXj9ft+XLPyft7jv2mMY/8Rd0whFTwj/7MKnfK6m9P3+xWxiR27c/Ckj5xdx1sz/LregVMnuxP0wZmdKomMk/\",\"dtype\":\"float64\",\"shape\":[75]},\"y\":{\"__ndarray__\":\"GhExyth1ND/Sv8nbtpRIP2vylNV0PVE/aTum7souWD/At0SJ8fVgPw3Iuahxymc/MSNhhJWvcD/bTfBN02d3P2zb5nxnaoA/CD5h5MAGhz8NmeH1TyaQP+zrCsc9p5Y/LbKd76fGnz/bLW5ISEmmPww9YvTcQq8/JV2OstnstT8Er5Y7M8G+P0c+r3jqkcU/5h99k6ZBzj88bCIzFzjVP4enV8oyxN0//yH99nXg5D8qOpLLf0jtP5kqGJXUifQ/c9cS8kHP/D+/DpwzojQEQIEmwoanVwxA4lgXt9HgE0BSSZ2AJuIbQAMJih9jjiNA5q4l5INuK0AwTKYKRj0zQNv5fmq8/DpAaCJseHrtQkB/+zpwzoxKQM3MzMzMeFJAZmZmZmZqWEAAAAAAAFxeQM3MzMzMJmJAmpmZmZkfZUBmZmZmZhhoQDMzMzMzEWtAAAAAAAAKbkBmZmZmZoFwQM3MzMzM/XFAMzMzMzN6c0CamZmZmfZ0QAAAAAAAc3ZAZmZmZmbvd0DNzMzMzGt5QDMzMzMz6HpAmpmZmZlkfEAAAAAAAOF9QGZmZmZmXX9AZmZmZuZsgECamZmZGSuBQM3MzMxM6YFAAAAAAICngkAzMzMzs2WDQGZmZmbmI4RAmpmZmRnihEDNzMzMTKCFQAAAAACAXoZAMzMzM7Mch0BmZmZm5tqHQJqZmZkZmYhAzczMzExXiUAAAAAAgBWKQDMzMzOz04pAZmZmZuaRi0CamZmZGVCMQM3MzMxMDo1AAAAAAIDMjUAzMzMzs4qOQGZmZmbmSI9A\",\"dtype\":\"float64\",\"shape\":[75]}},\"selected\":{\"id\":\"2c1129d6-686c-43b7-a9f0-be48c94dabc7\",\"type\":\"Selection\"},\"selection_policy\":{\"id\":\"00f2e49f-dd7a-4fff-9e0a-c26c67432fa4\",\"type\":\"UnionRenderers\"}},\"id\":\"1ae20302-8fdd-4584-ba3f-402dfd26a54e\",\"type\":\"ColumnDataSource\"},{\"attributes\":{},\"id\":\"abd2f626-aa80-4e49-b0b3-93887ff886f4\",\"type\":\"HelpTool\"},{\"attributes\":{\"fill_alpha\":{\"value\":0.1},\"fill_color\":{\"value\":\"#1f77b4\"},\"line_alpha\":{\"value\":0.1},\"line_color\":{\"value\":\"#1f77b4\"},\"x\":{\"field\":\"x\"},\"y\":{\"field\":\"y\"}},\"id\":\"1e0f54ca-018a-4292-abf0-8695bfa5b36f\",\"type\":\"Square\"},{\"attributes\":{\"data_source\":{\"id\":\"ccd851a4-3366-4288-a200-157d540cb548\",\"type\":\"ColumnDataSource\"},\"glyph\":{\"id\":\"3bc8054b-dda0-4abc-be5f-61339567ea91\",\"type\":\"Line\"},\"hover_glyph\":null,\"muted_glyph\":null,\"nonselection_glyph\":{\"id\":\"1fafdf05-e9bd-4e9b-b8ab-f9f475333b22\",\"type\":\"Line\"},\"selection_glyph\":null,\"view\":{\"id\":\"e980a9f0-c2c4-41b0-9667-f5ac3e0dac1c\",\"type\":\"CDSView\"}},\"id\":\"e15e3465-1071-4d32-b71a-7597ef2a8af2\",\"type\":\"GlyphRenderer\"},{\"attributes\":{\"line_alpha\":0.6,\"line_color\":\"#e41a1c\",\"line_dash\":[6],\"line_width\":5,\"x\":{\"field\":\"x\"},\"y\":{\"field\":\"y\"}},\"id\":\"3bc8054b-dda0-4abc-be5f-61339567ea91\",\"type\":\"Line\"},{\"attributes\":{\"line_alpha\":0.6,\"line_color\":\"#984ea3\",\"line_width\":3,\"x\":{\"field\":\"x\"},\"y\":{\"field\":\"y\"}},\"id\":\"a55fe287-0721-4ca2-a089-9145c9b8e597\",\"type\":\"Line\"},{\"attributes\":{\"line_color\":\"#4daf4a\",\"line_width\":1.5,\"x\":{\"field\":\"x\"},\"y\":{\"field\":\"y\"}},\"id\":\"8af7d60b-078f-4c79-84ad-e44a43902aa6\",\"type\":\"Line\"},{\"attributes\":{\"plot\":{\"id\":\"70de7491-6d22-4b9b-9b20-3842b227dff5\",\"subtype\":\"Figure\",\"type\":\"Plot\"},\"ticker\":{\"id\":\"4ce9086d-11e6-4a3a-9f46-6b68d90ed62b\",\"type\":\"BasicTicker\"}},\"id\":\"a278cbbd-8da8-4af2-85b3-e0dc6674639f\",\"type\":\"Grid\"},{\"attributes\":{},\"id\":\"4ce9086d-11e6-4a3a-9f46-6b68d90ed62b\",\"type\":\"BasicTicker\"},{\"attributes\":{\"data_source\":{\"id\":\"4e326d81-5c6f-4afe-b3e7-ddc2883a0c53\",\"type\":\"ColumnDataSource\"},\"glyph\":{\"id\":\"8af7d60b-078f-4c79-84ad-e44a43902aa6\",\"type\":\"Line\"},\"hover_glyph\":null,\"muted_glyph\":null,\"nonselection_glyph\":{\"id\":\"c2a909b5-3612-4619-b1dc-77bd88b0cabd\",\"type\":\"Line\"},\"selection_glyph\":null,\"view\":{\"id\":\"31bbd2b3-df55-45eb-96b9-2ec189c18be9\",\"type\":\"CDSView\"}},\"id\":\"e2e78691-3005-4bc4-bf2d-673636e67885\",\"type\":\"GlyphRenderer\"},{\"attributes\":{\"line_alpha\":0.6,\"line_color\":\"#e41a1c\",\"line_dash\":[6],\"line_width\":5,\"x\":{\"field\":\"x\"},\"y\":{\"field\":\"y\"}},\"id\":\"96f1eb68-c0d2-4452-ac5b-d17302e345b5\",\"type\":\"Line\"},{\"attributes\":{\"items\":[{\"id\":\"ae8da30d-205a-4ca4-9929-c1a6b9294671\",\"type\":\"LegendItem\"},{\"id\":\"9f66e8f8-fc90-4ca2-af7f-7de24335c56a\",\"type\":\"LegendItem\"},{\"id\":\"4e04825c-ae0c-4e13-8daf-24772bba7936\",\"type\":\"LegendItem\"}],\"label_text_font_size\":{\"value\":\"8pt\"},\"location\":[10,-30],\"plot\":{\"id\":\"70de7491-6d22-4b9b-9b20-3842b227dff5\",\"subtype\":\"Figure\",\"type\":\"Plot\"}},\"id\":\"3de70170-38c5-4cf5-bcb2-94dafd5f5937\",\"type\":\"Legend\"},{\"attributes\":{},\"id\":\"0127fb04-dd8a-4e01-8c0e-b745e52d2a00\",\"type\":\"ResetTool\"},{\"attributes\":{\"axis_label\":\"cooling rate [K/day]\",\"formatter\":{\"id\":\"4a815da5-8ecc-41bf-8e11-21aa1954a3d6\",\"type\":\"BasicTickFormatter\"},\"plot\":{\"id\":\"70de7491-6d22-4b9b-9b20-3842b227dff5\",\"subtype\":\"Figure\",\"type\":\"Plot\"},\"ticker\":{\"id\":\"4ce9086d-11e6-4a3a-9f46-6b68d90ed62b\",\"type\":\"BasicTicker\"}},\"id\":\"ada0bf6e-e10d-4370-a8dd-6f5c18b6d552\",\"type\":\"LinearAxis\"},{\"attributes\":{\"axis_label\":\"pressure [mb]\",\"formatter\":{\"id\":\"ed8c555b-0904-439d-bf6c-ddf1fa4b2fb6\",\"type\":\"LogTickFormatter\"},\"plot\":{\"id\":\"70de7491-6d22-4b9b-9b20-3842b227dff5\",\"subtype\":\"Figure\",\"type\":\"Plot\"},\"ticker\":{\"id\":\"32aefaba-3933-455c-82c0-7b35cc95ae55\",\"type\":\"LogTicker\"}},\"id\":\"6e5c82ec-a214-4607-a6ac-4eefd1ff3462\",\"type\":\"LogAxis\"},{\"attributes\":{\"line_alpha\":0.6,\"line_color\":\"#984ea3\",\"line_width\":3,\"x\":{\"field\":\"x\"},\"y\":{\"field\":\"y\"}},\"id\":\"bc115a28-2c10-400a-8544-7e53dd676561\",\"type\":\"Line\"},{\"attributes\":{\"callback\":null,\"end\":0.01,\"start\":1020},\"id\":\"9ffad7a5-6417-4b38-9492-8250f9441014\",\"type\":\"Range1d\"},{\"attributes\":{\"source\":{\"id\":\"4e13538a-fedb-477b-8d18-3a7b6abfe922\",\"type\":\"ColumnDataSource\"}},\"id\":\"9c454c14-9e1d-4225-8ec4-9ea0cde6ecc4\",\"type\":\"CDSView\"},{\"attributes\":{},\"id\":\"a6469369-f3f3-43f5-a4b7-e14b824565ea\",\"type\":\"SaveTool\"},{\"attributes\":{\"source\":{\"id\":\"71914b50-276c-4263-b512-c0cb2d62f05e\",\"type\":\"ColumnDataSource\"}},\"id\":\"f042fe62-6bdc-4729-978a-ff41a36f1868\",\"type\":\"CDSView\"},{\"attributes\":{\"callback\":null,\"data\":{\"x\":{\"__ndarray__\":\"Aw78A0Bwvj93VG/sXay+P0gPjTiukL8/+8CfK1s1wD+tPHk/C5XAP0JZvk/R6MA/RDt+2m4jwT/Ev1tiXUPBP7Qh/8wgPsE/0a06H1wJwT+47IzGDJrAP9z8+ZVSwL8/KbiS/AyYvT9V7UdIrN66P1W5N1w357o/6JT07pdovz8yJQ6wwYjCPxgIAmTo2MQ/G/di/6eoxj/xancXQUbIP66ZQghEX8o/YywN25odzT/dGZbUQxPLPyxqKJx6sMU/ICEtQm95wT9C47Kf//27PylfjiYwgLc/7lOIWcWhtD82OzFv/nSyPyRGg58ujrA/mU/A8PaSrT+30Zj6jTeqP/c9MYXjBqc/lAVTmrsApD9oMIpBBy2dP8iQ+QZ6Now/DgugnW3ccD83V9NRI29/Pw615941e5U/YFm14E/Roj9zrqpcffyxP+Sf+LUeU8U/YZPrXAe90j/lz/khHbvbPwut8xTeauI/VXD0CKCe5j9os2Y7ESrqP6ye/nk7vuw/Jn57jROV7T8qxET/2/fuP8qeTsMBPvA/61ysA3vn8D++SdOgaF7xPxG7AEV2j/E/T8qkhjaA8T8NmxJaICvxP1y6OOCplvA/LaL9ekua7z8SZZA30K7tP7zNGyeFmes/Yb6CVXF66T+5Gpd5xEvnP5OSmk2y2+Q/yZgWUAPh4j8n7uMu42LfP6eTjYMiyNg/RreYfg0x0z922wkf3xjNP4TbFG59Acc/KyfKc7fKwj8i86+CazC/P4XLrqSqQ7o/f+xRX2a9tj+uS/ps/o61P4YcW88Qjss/\",\"dtype\":\"float64\",\"shape\":[75]},\"y\":{\"__ndarray__\":\"GhExyth1ND/Sv8nbtpRIP2vylNV0PVE/aTum7souWD/At0SJ8fVgPw3Iuahxymc/MSNhhJWvcD/bTfBN02d3P2zb5nxnaoA/CD5h5MAGhz8NmeH1TyaQP+zrCsc9p5Y/LbKd76fGnz/bLW5ISEmmPww9YvTcQq8/JV2OstnstT8Er5Y7M8G+P0c+r3jqkcU/5h99k6ZBzj88bCIzFzjVP4enV8oyxN0//yH99nXg5D8qOpLLf0jtP5kqGJXUifQ/c9cS8kHP/D+/DpwzojQEQIEmwoanVwxA4lgXt9HgE0BSSZ2AJuIbQAMJih9jjiNA5q4l5INuK0AwTKYKRj0zQNv5fmq8/DpAaCJseHrtQkB/+zpwzoxKQM3MzMzMeFJAZmZmZmZqWEAAAAAAAFxeQM3MzMzMJmJAmpmZmZkfZUBmZmZmZhhoQDMzMzMzEWtAAAAAAAAKbkBmZmZmZoFwQM3MzMzM/XFAMzMzMzN6c0CamZmZmfZ0QAAAAAAAc3ZAZmZmZmbvd0DNzMzMzGt5QDMzMzMz6HpAmpmZmZlkfEAAAAAAAOF9QGZmZmZmXX9AZmZmZuZsgECamZmZGSuBQM3MzMxM6YFAAAAAAICngkAzMzMzs2WDQGZmZmbmI4RAmpmZmRnihEDNzMzMTKCFQAAAAACAXoZAMzMzM7Mch0BmZmZm5tqHQJqZmZkZmYhAzczMzExXiUAAAAAAgBWKQDMzMzOz04pAZmZmZuaRi0CamZmZGVCMQM3MzMxMDo1AAAAAAIDMjUAzMzMzs4qOQGZmZmbmSI9A\",\"dtype\":\"float64\",\"shape\":[75]}},\"selected\":{\"id\":\"37930a03-ae3a-41a6-a7b8-651ea5d8c79b\",\"type\":\"Selection\"},\"selection_policy\":{\"id\":\"207ecc17-2541-4b98-998b-d84293c3ec9c\",\"type\":\"UnionRenderers\"}},\"id\":\"4e326d81-5c6f-4afe-b3e7-ddc2883a0c53\",\"type\":\"ColumnDataSource\"},{\"attributes\":{\"active_drag\":\"auto\",\"active_inspect\":\"auto\",\"active_scroll\":\"auto\",\"active_tap\":\"auto\",\"tools\":[{\"id\":\"9672ca9d-1aa5-405b-8c19-0f248c980b9e\",\"type\":\"PanTool\"},{\"id\":\"09081d08-82a7-4d94-81d8-699874925090\",\"type\":\"WheelZoomTool\"},{\"id\":\"a2446988-a7ad-44b7-ba12-6869089d938e\",\"type\":\"BoxZoomTool\"},{\"id\":\"a6469369-f3f3-43f5-a4b7-e14b824565ea\",\"type\":\"SaveTool\"},{\"id\":\"0127fb04-dd8a-4e01-8c0e-b745e52d2a00\",\"type\":\"ResetTool\"},{\"id\":\"abd2f626-aa80-4e49-b0b3-93887ff886f4\",\"type\":\"HelpTool\"}]},\"id\":\"32b03a0e-49aa-4deb-ab87-af9933e7da24\",\"type\":\"Toolbar\"},{\"attributes\":{\"overlay\":{\"id\":\"2ff4f949-acb0-474f-8814-1d05b37da2be\",\"type\":\"BoxAnnotation\"}},\"id\":\"a2446988-a7ad-44b7-ba12-6869089d938e\",\"type\":\"BoxZoomTool\"},{\"attributes\":{\"dimension\":1,\"plot\":{\"id\":\"70de7491-6d22-4b9b-9b20-3842b227dff5\",\"subtype\":\"Figure\",\"type\":\"Plot\"},\"ticker\":{\"id\":\"32aefaba-3933-455c-82c0-7b35cc95ae55\",\"type\":\"LogTicker\"}},\"id\":\"e84f7ad7-1b15-4288-be4c-7ee424ba8005\",\"type\":\"Grid\"},{\"attributes\":{},\"id\":\"4c10c87d-c910-44f1-9484-5b13149f3755\",\"type\":\"UnionRenderers\"},{\"attributes\":{\"callback\":null,\"end\":1.1405649407000003,\"start\":-0.009825810700000001},\"id\":\"519fbaee-d9b1-4e67-8b80-0ca492678120\",\"type\":\"Range1d\"},{\"attributes\":{},\"id\":\"f6df19df-05e9-47f6-b597-3ddeb32e248d\",\"type\":\"Selection\"},{\"attributes\":{\"toolbar\":{\"id\":\"3970a68a-2131-4f7a-92f1-1b293ebbc045\",\"type\":\"ProxyToolbar\"},\"toolbar_location\":\"above\"},\"id\":\"b17c7b12-4921-47e5-bd5b-43f2b414a84e\",\"type\":\"ToolbarBox\"},{\"attributes\":{\"tools\":[{\"id\":\"24ec708d-8e66-4f01-aea9-9dd799f675ca\",\"type\":\"PanTool\"},{\"id\":\"7b0aa0cd-8f7e-43d8-b409-594d6f6eac65\",\"type\":\"WheelZoomTool\"},{\"id\":\"2e204533-9829-46c4-a7d0-52d79fc1a770\",\"type\":\"BoxZoomTool\"},{\"id\":\"dddf1412-ddca-4cdd-b77a-9bc09438c38f\",\"type\":\"SaveTool\"},{\"id\":\"707741ff-44bb-4864-8b22-b3e5fb71de7b\",\"type\":\"ResetTool\"},{\"id\":\"d4bc124c-278f-451d-8bf6-1afaf35dbc20\",\"type\":\"HelpTool\"},{\"id\":\"9672ca9d-1aa5-405b-8c19-0f248c980b9e\",\"type\":\"PanTool\"},{\"id\":\"09081d08-82a7-4d94-81d8-699874925090\",\"type\":\"WheelZoomTool\"},{\"id\":\"a2446988-a7ad-44b7-ba12-6869089d938e\",\"type\":\"BoxZoomTool\"},{\"id\":\"a6469369-f3f3-43f5-a4b7-e14b824565ea\",\"type\":\"SaveTool\"},{\"id\":\"0127fb04-dd8a-4e01-8c0e-b745e52d2a00\",\"type\":\"ResetTool\"},{\"id\":\"abd2f626-aa80-4e49-b0b3-93887ff886f4\",\"type\":\"HelpTool\"}]},\"id\":\"3970a68a-2131-4f7a-92f1-1b293ebbc045\",\"type\":\"ProxyToolbar\"},{\"attributes\":{\"below\":[{\"id\":\"67e082c7-480d-469e-bc97-920f45649443\",\"type\":\"LinearAxis\"}],\"left\":[{\"id\":\"b7c2f05a-13fe-408d-96f0-13694e2948b9\",\"type\":\"LinearAxis\"}],\"plot_height\":500,\"plot_width\":400,\"renderers\":[{\"id\":\"67e082c7-480d-469e-bc97-920f45649443\",\"type\":\"LinearAxis\"},{\"id\":\"77a895b8-fc1e-4ea7-8934-daa91b37fef1\",\"type\":\"Grid\"},{\"id\":\"b7c2f05a-13fe-408d-96f0-13694e2948b9\",\"type\":\"LinearAxis\"},{\"id\":\"3cd40498-52a0-4e81-a5de-cd7f8a0bce81\",\"type\":\"Grid\"},{\"id\":\"b6641f98-74e2-4ab0-a71a-9b870a2db0c9\",\"type\":\"BoxAnnotation\"},{\"id\":\"c8024aea-5ccf-4ae2-ac83-198ba445d44c\",\"type\":\"GlyphRenderer\"},{\"id\":\"2a6d4e18-9806-4cec-91ad-d21e29409cc9\",\"type\":\"GlyphRenderer\"},{\"id\":\"e2e78691-3005-4bc4-bf2d-673636e67885\",\"type\":\"GlyphRenderer\"},{\"id\":\"5dcb5762-2069-46bb-ad43-0157e4301967\",\"type\":\"GlyphRenderer\"},{\"id\":\"cf2c8a6b-d2ee-41fc-91a1-dfd86a450d5e\",\"type\":\"GlyphRenderer\"}],\"title\":{\"id\":\"cd0d29ca-a8dd-4bc4-9bd4-d47dc83c5ba9\",\"type\":\"Title\"},\"toolbar\":{\"id\":\"b217ba45-b187-4cc7-9dd3-44029c455e32\",\"type\":\"Toolbar\"},\"toolbar_location\":null,\"x_range\":{\"id\":\"519fbaee-d9b1-4e67-8b80-0ca492678120\",\"type\":\"Range1d\"},\"x_scale\":{\"id\":\"c3e03ae5-b26d-4727-a6c9-9996f4cd49e6\",\"type\":\"LinearScale\"},\"y_range\":{\"id\":\"278c0533-ea7a-49f5-8640-c4cddd7a5e94\",\"type\":\"Range1d\"},\"y_scale\":{\"id\":\"f212c4a7-7edb-419d-abd5-0f441ef65614\",\"type\":\"LinearScale\"}},\"id\":\"16d77b41-5106-4b4e-82ac-7a74ec027565\",\"subtype\":\"Figure\",\"type\":\"Plot\"},{\"attributes\":{},\"id\":\"c2304ee2-d9d0-426f-9cac-a4d24264785e\",\"type\":\"UnionRenderers\"},{\"attributes\":{},\"id\":\"941a018d-a674-44a5-9346-998719351217\",\"type\":\"Selection\"},{\"attributes\":{\"children\":[{\"id\":\"b17c7b12-4921-47e5-bd5b-43f2b414a84e\",\"type\":\"ToolbarBox\"},{\"id\":\"728e9152-2e7d-4034-8e75-911c79bc200e\",\"type\":\"Column\"}]},\"id\":\"b0eaadad-6bb8-452d-9bb4-72a221974126\",\"type\":\"Column\"},{\"attributes\":{\"line_alpha\":0.1,\"line_color\":\"#1f77b4\",\"line_width\":3,\"x\":{\"field\":\"x\"},\"y\":{\"field\":\"y\"}},\"id\":\"4d7f7681-fa5d-42a2-9c5e-a8cfb62640f3\",\"type\":\"Line\"},{\"attributes\":{},\"id\":\"f212c4a7-7edb-419d-abd5-0f441ef65614\",\"type\":\"LinearScale\"},{\"attributes\":{\"fill_alpha\":{\"value\":0.7},\"fill_color\":{\"value\":\"#4daf4a\"},\"line_alpha\":{\"value\":0.7},\"line_color\":{\"value\":\"#4daf4a\"},\"x\":{\"field\":\"x\"},\"y\":{\"field\":\"y\"}},\"id\":\"4b1d4571-7c41-4e4f-8c33-9cfbbb725514\",\"type\":\"Circle\"},{\"attributes\":{\"data_source\":{\"id\":\"9fcb57ee-67d3-4a34-b6ad-7847289e3eee\",\"type\":\"ColumnDataSource\"},\"glyph\":{\"id\":\"bc115a28-2c10-400a-8544-7e53dd676561\",\"type\":\"Line\"},\"hover_glyph\":null,\"muted_glyph\":null,\"nonselection_glyph\":{\"id\":\"4d7f7681-fa5d-42a2-9c5e-a8cfb62640f3\",\"type\":\"Line\"},\"selection_glyph\":null,\"view\":{\"id\":\"d22fcdc7-e33c-47c3-a25c-e3c35b8d5fba\",\"type\":\"CDSView\"}},\"id\":\"1cb277a7-c439-478e-91d0-6beba21299b5\",\"type\":\"GlyphRenderer\"},{\"attributes\":{\"overlay\":{\"id\":\"b6641f98-74e2-4ab0-a71a-9b870a2db0c9\",\"type\":\"BoxAnnotation\"}},\"id\":\"2e204533-9829-46c4-a7d0-52d79fc1a770\",\"type\":\"BoxZoomTool\"},{\"attributes\":{\"fill_alpha\":{\"value\":0.1},\"fill_color\":{\"value\":\"#1f77b4\"},\"line_alpha\":{\"value\":0.1},\"line_color\":{\"value\":\"#1f77b4\"},\"x\":{\"field\":\"x\"},\"y\":{\"field\":\"y\"}},\"id\":\"85188032-ea3f-48b7-923b-e6b25cadb47e\",\"type\":\"Circle\"},{\"attributes\":{\"source\":{\"id\":\"faba1876-af15-4d92-aa31-cd6ce3b82d47\",\"type\":\"ColumnDataSource\"}},\"id\":\"e3350a12-d5a3-49b4-a233-8e6db4493ff6\",\"type\":\"CDSView\"},{\"attributes\":{\"fill_alpha\":{\"value\":0.1},\"fill_color\":{\"value\":\"#1f77b4\"},\"line_alpha\":{\"value\":0.1},\"line_color\":{\"value\":\"#1f77b4\"},\"x\":{\"field\":\"x\"},\"y\":{\"field\":\"y\"}},\"id\":\"baec683e-9fc2-4f6a-8b11-913ad5d6f57c\",\"type\":\"Circle\"},{\"attributes\":{},\"id\":\"8f13d5ff-7e15-4515-a91e-2e39a7f57f52\",\"type\":\"UnionRenderers\"},{\"attributes\":{\"line_color\":\"#4daf4a\",\"line_width\":1.5,\"x\":{\"field\":\"x\"},\"y\":{\"field\":\"y\"}},\"id\":\"a125d576-f522-4a19-8486-4aba8bee017d\",\"type\":\"Line\"},{\"attributes\":{},\"id\":\"56882181-808d-47fb-919c-8a0a652539bb\",\"type\":\"UnionRenderers\"},{\"attributes\":{},\"id\":\"c3e03ae5-b26d-4727-a6c9-9996f4cd49e6\",\"type\":\"LinearScale\"},{\"attributes\":{\"callback\":null,\"data\":{\"x\":{\"__ndarray__\":\"ya4XZJbQtD/ttTp3EDy1P3gddi0d/7U/oSlGBN+8tj9qr5dzUou3PxsL0vj3Pbg/YNesNYXZuD9ThswU2Fe5PzNIKiMIqLk/W0vLfmO+uT/9hmuHonS5PwjJ+Svqybg/kOp/u3SVtz9PuKaHCPS1P2ABukrY5LY/V7IviNMOvD+zCecHsT/BP+mPmfjC/MM/vYZ8Wtoaxj/Pz1ryENLHP99cUmIH8sk/ITYe/g7xzD+iGZELLHbLPxp+0uW6jcY/vdEgtalnwj90bm4gbz29P0Q1kqb0Bbg/qBfCCa+ptD+IXXglUC2yP7sbIAdLArA/MncuJRIArD+uSnNMrJWoPzentHTruKU/LoGF/D7woj8/QkwJqOKaP+bip0nkUYc/fwbC84GlXz8I+V10Iah3P7vIJ9ly8ZM/ZuzzUYKUoj8deTEnwHWyP1DThLdWb8Y/f3ih+WJm0z8wz/hKBL3bP6J8utqjU+I/B1I7fgyP5j8/k/gKd7vpPxLytwuPN+w/ZpdhUHxo7T/p1ghh3NjuP7FCxz+qIfA/cf0g4Cvi8D/1ghhj8ofxP5eUB0kG0PE/CuRe+sKt8T9BhQt0TjvxP8s+C7VEn/A/vYT6ZI/Y7z+vZTsY5yruP6Q+gquDJew/POuA0dbM6T9EoqudrCLnP1AO47+uMOQ/aIRvTEbD4T/y/y7N7NncP/qOGDQIpdY/k3ohP0vZ0T8YXj9ft+XLPyft7jv2mMY/8Rd0whFTwj/7MKnfK6m9P3+xWxiR27c/Ckj5xdx1sz/LregVMnuxP0wZmdKomMk/\",\"dtype\":\"float64\",\"shape\":[75]},\"y\":{\"__ndarray__\":\"GhExyth1ND/Sv8nbtpRIP2vylNV0PVE/aTum7souWD/At0SJ8fVgPw3Iuahxymc/MSNhhJWvcD/bTfBN02d3P2zb5nxnaoA/CD5h5MAGhz8NmeH1TyaQP+zrCsc9p5Y/LbKd76fGnz/bLW5ISEmmPww9YvTcQq8/JV2OstnstT8Er5Y7M8G+P0c+r3jqkcU/5h99k6ZBzj88bCIzFzjVP4enV8oyxN0//yH99nXg5D8qOpLLf0jtP5kqGJXUifQ/c9cS8kHP/D+/DpwzojQEQIEmwoanVwxA4lgXt9HgE0BSSZ2AJuIbQAMJih9jjiNA5q4l5INuK0AwTKYKRj0zQNv5fmq8/DpAaCJseHrtQkB/+zpwzoxKQM3MzMzMeFJAZmZmZmZqWEAAAAAAAFxeQM3MzMzMJmJAmpmZmZkfZUBmZmZmZhhoQDMzMzMzEWtAAAAAAAAKbkBmZmZmZoFwQM3MzMzM/XFAMzMzMzN6c0CamZmZmfZ0QAAAAAAAc3ZAZmZmZmbvd0DNzMzMzGt5QDMzMzMz6HpAmpmZmZlkfEAAAAAAAOF9QGZmZmZmXX9AZmZmZuZsgECamZmZGSuBQM3MzMxM6YFAAAAAAICngkAzMzMzs2WDQGZmZmbmI4RAmpmZmRnihEDNzMzMTKCFQAAAAACAXoZAMzMzM7Mch0BmZmZm5tqHQJqZmZkZmYhAzczMzExXiUAAAAAAgBWKQDMzMzOz04pAZmZmZuaRi0CamZmZGVCMQM3MzMxMDo1AAAAAAIDMjUAzMzMzs4qOQGZmZmbmSI9A\",\"dtype\":\"float64\",\"shape\":[75]}},\"selected\":{\"id\":\"f6df19df-05e9-47f6-b597-3ddeb32e248d\",\"type\":\"Selection\"},\"selection_policy\":{\"id\":\"4c10c87d-c910-44f1-9484-5b13149f3755\",\"type\":\"UnionRenderers\"}},\"id\":\"7c0be56a-9eff-4564-8e59-0ee3a9c73662\",\"type\":\"ColumnDataSource\"},{\"attributes\":{\"line_alpha\":0.1,\"line_color\":\"#1f77b4\",\"line_dash\":[6],\"line_width\":5,\"x\":{\"field\":\"x\"},\"y\":{\"field\":\"y\"}},\"id\":\"12bc23f3-6fd2-4a75-8a23-af9938c1dceb\",\"type\":\"Line\"},{\"attributes\":{\"plot\":null,\"text\":\"Linear pressure scale\"},\"id\":\"cd0d29ca-a8dd-4bc4-9bd4-d47dc83c5ba9\",\"type\":\"Title\"},{\"attributes\":{\"below\":[{\"id\":\"ada0bf6e-e10d-4370-a8dd-6f5c18b6d552\",\"type\":\"LinearAxis\"}],\"left\":[{\"id\":\"6e5c82ec-a214-4607-a6ac-4eefd1ff3462\",\"type\":\"LogAxis\"}],\"plot_height\":500,\"plot_width\":560,\"renderers\":[{\"id\":\"ada0bf6e-e10d-4370-a8dd-6f5c18b6d552\",\"type\":\"LinearAxis\"},{\"id\":\"a278cbbd-8da8-4af2-85b3-e0dc6674639f\",\"type\":\"Grid\"},{\"id\":\"6e5c82ec-a214-4607-a6ac-4eefd1ff3462\",\"type\":\"LogAxis\"},{\"id\":\"e84f7ad7-1b15-4288-be4c-7ee424ba8005\",\"type\":\"Grid\"},{\"id\":\"2ff4f949-acb0-474f-8814-1d05b37da2be\",\"type\":\"BoxAnnotation\"},{\"id\":\"e15e3465-1071-4d32-b71a-7597ef2a8af2\",\"type\":\"GlyphRenderer\"},{\"id\":\"9c4a1991-57ec-4d03-9265-4b80a4d7a0fc\",\"type\":\"GlyphRenderer\"},{\"id\":\"8c33876b-c9e8-4f24-9849-34b7eb332b74\",\"type\":\"GlyphRenderer\"},{\"id\":\"2ce43a34-e24f-4f7f-9dd4-d43ccdffb0dc\",\"type\":\"GlyphRenderer\"},{\"id\":\"1cb277a7-c439-478e-91d0-6beba21299b5\",\"type\":\"GlyphRenderer\"},{\"id\":\"3de70170-38c5-4cf5-bcb2-94dafd5f5937\",\"type\":\"Legend\"}],\"right\":[{\"id\":\"3de70170-38c5-4cf5-bcb2-94dafd5f5937\",\"type\":\"Legend\"}],\"title\":{\"id\":\"46a988d2-6cbd-4a08-9a49-b9805ab8dcbd\",\"type\":\"Title\"},\"toolbar\":{\"id\":\"32b03a0e-49aa-4deb-ab87-af9933e7da24\",\"type\":\"Toolbar\"},\"toolbar_location\":null,\"x_range\":{\"id\":\"7a9f6027-eca1-4472-809a-2459e37cd810\",\"type\":\"Range1d\"},\"x_scale\":{\"id\":\"f9fff66c-a105-4913-a078-ba8e7e20ebd1\",\"type\":\"LinearScale\"},\"y_range\":{\"id\":\"9ffad7a5-6417-4b38-9492-8250f9441014\",\"type\":\"Range1d\"},\"y_scale\":{\"id\":\"e408b03a-accf-426a-8022-a45738f2c258\",\"type\":\"LogScale\"}},\"id\":\"70de7491-6d22-4b9b-9b20-3842b227dff5\",\"subtype\":\"Figure\",\"type\":\"Plot\"},{\"attributes\":{\"source\":{\"id\":\"ccd851a4-3366-4288-a200-157d540cb548\",\"type\":\"ColumnDataSource\"}},\"id\":\"e980a9f0-c2c4-41b0-9667-f5ac3e0dac1c\",\"type\":\"CDSView\"},{\"attributes\":{\"data_source\":{\"id\":\"faba1876-af15-4d92-aa31-cd6ce3b82d47\",\"type\":\"ColumnDataSource\"},\"glyph\":{\"id\":\"98f334a4-78ad-426f-8448-5037e215d400\",\"type\":\"Circle\"},\"hover_glyph\":null,\"muted_glyph\":null,\"nonselection_glyph\":{\"id\":\"85188032-ea3f-48b7-923b-e6b25cadb47e\",\"type\":\"Circle\"},\"selection_glyph\":null,\"view\":{\"id\":\"e3350a12-d5a3-49b4-a233-8e6db4493ff6\",\"type\":\"CDSView\"}},\"id\":\"9c4a1991-57ec-4d03-9265-4b80a4d7a0fc\",\"type\":\"GlyphRenderer\"},{\"attributes\":{\"active_drag\":\"auto\",\"active_inspect\":\"auto\",\"active_scroll\":\"auto\",\"active_tap\":\"auto\",\"tools\":[{\"id\":\"24ec708d-8e66-4f01-aea9-9dd799f675ca\",\"type\":\"PanTool\"},{\"id\":\"7b0aa0cd-8f7e-43d8-b409-594d6f6eac65\",\"type\":\"WheelZoomTool\"},{\"id\":\"2e204533-9829-46c4-a7d0-52d79fc1a770\",\"type\":\"BoxZoomTool\"},{\"id\":\"dddf1412-ddca-4cdd-b77a-9bc09438c38f\",\"type\":\"SaveTool\"},{\"id\":\"707741ff-44bb-4864-8b22-b3e5fb71de7b\",\"type\":\"ResetTool\"},{\"id\":\"d4bc124c-278f-451d-8bf6-1afaf35dbc20\",\"type\":\"HelpTool\"}]},\"id\":\"b217ba45-b187-4cc7-9dd3-44029c455e32\",\"type\":\"Toolbar\"},{\"attributes\":{\"callback\":null,\"data\":{\"x\":{\"__ndarray__\":\"Aw78A0Bwvj93VG/sXay+P0gPjTiukL8/+8CfK1s1wD+tPHk/C5XAP0JZvk/R6MA/RDt+2m4jwT/Ev1tiXUPBP7Qh/8wgPsE/0a06H1wJwT+47IzGDJrAP9z8+ZVSwL8/KbiS/AyYvT9V7UdIrN66P1W5N1w357o/6JT07pdovz8yJQ6wwYjCPxgIAmTo2MQ/G/di/6eoxj/xancXQUbIP66ZQghEX8o/YywN25odzT/dGZbUQxPLPyxqKJx6sMU/ICEtQm95wT9C47Kf//27PylfjiYwgLc/7lOIWcWhtD82OzFv/nSyPyRGg58ujrA/mU/A8PaSrT+30Zj6jTeqP/c9MYXjBqc/lAVTmrsApD9oMIpBBy2dP8iQ+QZ6Now/DgugnW3ccD83V9NRI29/Pw615941e5U/YFm14E/Roj9zrqpcffyxP+Sf+LUeU8U/YZPrXAe90j/lz/khHbvbPwut8xTeauI/VXD0CKCe5j9os2Y7ESrqP6ye/nk7vuw/Jn57jROV7T8qxET/2/fuP8qeTsMBPvA/61ysA3vn8D++SdOgaF7xPxG7AEV2j/E/T8qkhjaA8T8NmxJaICvxP1y6OOCplvA/LaL9ekua7z8SZZA30K7tP7zNGyeFmes/Yb6CVXF66T+5Gpd5xEvnP5OSmk2y2+Q/yZgWUAPh4j8n7uMu42LfP6eTjYMiyNg/RreYfg0x0z922wkf3xjNP4TbFG59Acc/KyfKc7fKwj8i86+CazC/P4XLrqSqQ7o/f+xRX2a9tj+uS/ps/o61P4YcW88Qjss/\",\"dtype\":\"float64\",\"shape\":[75]},\"y\":{\"__ndarray__\":\"GhExyth1ND/Sv8nbtpRIP2vylNV0PVE/aTum7souWD/At0SJ8fVgPw3Iuahxymc/MSNhhJWvcD/bTfBN02d3P2zb5nxnaoA/CD5h5MAGhz8NmeH1TyaQP+zrCsc9p5Y/LbKd76fGnz/bLW5ISEmmPww9YvTcQq8/JV2OstnstT8Er5Y7M8G+P0c+r3jqkcU/5h99k6ZBzj88bCIzFzjVP4enV8oyxN0//yH99nXg5D8qOpLLf0jtP5kqGJXUifQ/c9cS8kHP/D+/DpwzojQEQIEmwoanVwxA4lgXt9HgE0BSSZ2AJuIbQAMJih9jjiNA5q4l5INuK0AwTKYKRj0zQNv5fmq8/DpAaCJseHrtQkB/+zpwzoxKQM3MzMzMeFJAZmZmZmZqWEAAAAAAAFxeQM3MzMzMJmJAmpmZmZkfZUBmZmZmZhhoQDMzMzMzEWtAAAAAAAAKbkBmZmZmZoFwQM3MzMzM/XFAMzMzMzN6c0CamZmZmfZ0QAAAAAAAc3ZAZmZmZmbvd0DNzMzMzGt5QDMzMzMz6HpAmpmZmZlkfEAAAAAAAOF9QGZmZmZmXX9AZmZmZuZsgECamZmZGSuBQM3MzMxM6YFAAAAAAICngkAzMzMzs2WDQGZmZmbmI4RAmpmZmRnihEDNzMzMTKCFQAAAAACAXoZAMzMzM7Mch0BmZmZm5tqHQJqZmZkZmYhAzczMzExXiUAAAAAAgBWKQDMzMzOz04pAZmZmZuaRi0CamZmZGVCMQM3MzMxMDo1AAAAAAIDMjUAzMzMzs4qOQGZmZmbmSI9A\",\"dtype\":\"float64\",\"shape\":[75]}},\"selected\":{\"id\":\"5488930f-3250-4082-88e5-4077d9028ce7\",\"type\":\"Selection\"},\"selection_policy\":{\"id\":\"8f13d5ff-7e15-4515-a91e-2e39a7f57f52\",\"type\":\"UnionRenderers\"}},\"id\":\"faba1876-af15-4d92-aa31-cd6ce3b82d47\",\"type\":\"ColumnDataSource\"},{\"attributes\":{\"fill_alpha\":{\"value\":0.7},\"fill_color\":{\"value\":\"#4daf4a\"},\"line_alpha\":{\"value\":0.7},\"line_color\":{\"value\":\"#4daf4a\"},\"x\":{\"field\":\"x\"},\"y\":{\"field\":\"y\"}},\"id\":\"98f334a4-78ad-426f-8448-5037e215d400\",\"type\":\"Circle\"},{\"attributes\":{\"callback\":null,\"data\":{\"x\":{\"__ndarray__\":\"Aw78A0Bwvj93VG/sXay+P0gPjTiukL8/+8CfK1s1wD+tPHk/C5XAP0JZvk/R6MA/RDt+2m4jwT/Ev1tiXUPBP7Qh/8wgPsE/0a06H1wJwT+47IzGDJrAP9z8+ZVSwL8/KbiS/AyYvT9V7UdIrN66P1W5N1w357o/6JT07pdovz8yJQ6wwYjCPxgIAmTo2MQ/G/di/6eoxj/xancXQUbIP66ZQghEX8o/YywN25odzT/dGZbUQxPLPyxqKJx6sMU/ICEtQm95wT9C47Kf//27PylfjiYwgLc/7lOIWcWhtD82OzFv/nSyPyRGg58ujrA/mU/A8PaSrT+30Zj6jTeqP/c9MYXjBqc/lAVTmrsApD9oMIpBBy2dP8iQ+QZ6Now/DgugnW3ccD83V9NRI29/Pw615941e5U/YFm14E/Roj9zrqpcffyxP+Sf+LUeU8U/YZPrXAe90j/lz/khHbvbPwut8xTeauI/VXD0CKCe5j9os2Y7ESrqP6ye/nk7vuw/Jn57jROV7T8qxET/2/fuP8qeTsMBPvA/61ysA3vn8D++SdOgaF7xPxG7AEV2j/E/T8qkhjaA8T8NmxJaICvxP1y6OOCplvA/LaL9ekua7z8SZZA30K7tP7zNGyeFmes/Yb6CVXF66T+5Gpd5xEvnP5OSmk2y2+Q/yZgWUAPh4j8n7uMu42LfP6eTjYMiyNg/RreYfg0x0z922wkf3xjNP4TbFG59Acc/KyfKc7fKwj8i86+CazC/P4XLrqSqQ7o/f+xRX2a9tj+uS/ps/o61P4YcW88Qjss/\",\"dtype\":\"float64\",\"shape\":[75]},\"y\":{\"__ndarray__\":\"GhExyth1ND/Sv8nbtpRIP2vylNV0PVE/aTum7souWD/At0SJ8fVgPw3Iuahxymc/MSNhhJWvcD/bTfBN02d3P2zb5nxnaoA/CD5h5MAGhz8NmeH1TyaQP+zrCsc9p5Y/LbKd76fGnz/bLW5ISEmmPww9YvTcQq8/JV2OstnstT8Er5Y7M8G+P0c+r3jqkcU/5h99k6ZBzj88bCIzFzjVP4enV8oyxN0//yH99nXg5D8qOpLLf0jtP5kqGJXUifQ/c9cS8kHP/D+/DpwzojQEQIEmwoanVwxA4lgXt9HgE0BSSZ2AJuIbQAMJih9jjiNA5q4l5INuK0AwTKYKRj0zQNv5fmq8/DpAaCJseHrtQkB/+zpwzoxKQM3MzMzMeFJAZmZmZmZqWEAAAAAAAFxeQM3MzMzMJmJAmpmZmZkfZUBmZmZmZhhoQDMzMzMzEWtAAAAAAAAKbkBmZmZmZoFwQM3MzMzM/XFAMzMzMzN6c0CamZmZmfZ0QAAAAAAAc3ZAZmZmZmbvd0DNzMzMzGt5QDMzMzMz6HpAmpmZmZlkfEAAAAAAAOF9QGZmZmZmXX9AZmZmZuZsgECamZmZGSuBQM3MzMxM6YFAAAAAAICngkAzMzMzs2WDQGZmZmbmI4RAmpmZmRnihEDNzMzMTKCFQAAAAACAXoZAMzMzM7Mch0BmZmZm5tqHQJqZmZkZmYhAzczMzExXiUAAAAAAgBWKQDMzMzOz04pAZmZmZuaRi0CamZmZGVCMQM3MzMxMDo1AAAAAAIDMjUAzMzMzs4qOQGZmZmbmSI9A\",\"dtype\":\"float64\",\"shape\":[75]}},\"selected\":{\"id\":\"15ae6782-65ab-48ff-a8af-f41942cc8c10\",\"type\":\"Selection\"},\"selection_policy\":{\"id\":\"56882181-808d-47fb-919c-8a0a652539bb\",\"type\":\"UnionRenderers\"}},\"id\":\"d1b8fec3-98f5-4557-a4e5-db8321e18af9\",\"type\":\"ColumnDataSource\"},{\"attributes\":{\"line_alpha\":0.1,\"line_color\":\"#1f77b4\",\"line_width\":1.5,\"x\":{\"field\":\"x\"},\"y\":{\"field\":\"y\"}},\"id\":\"ad509a3a-84fe-427a-822d-802fba1bc9d8\",\"type\":\"Line\"},{\"attributes\":{},\"id\":\"a98b4a4c-0554-453d-9a8b-3704c89b402a\",\"type\":\"BasicTickFormatter\"},{\"attributes\":{\"data_source\":{\"id\":\"d1b8fec3-98f5-4557-a4e5-db8321e18af9\",\"type\":\"ColumnDataSource\"},\"glyph\":{\"id\":\"a125d576-f522-4a19-8486-4aba8bee017d\",\"type\":\"Line\"},\"hover_glyph\":null,\"muted_glyph\":null,\"nonselection_glyph\":{\"id\":\"ad509a3a-84fe-427a-822d-802fba1bc9d8\",\"type\":\"Line\"},\"selection_glyph\":null,\"view\":{\"id\":\"6b3f7edd-8750-4f59-b7be-b4d698e2ad8d\",\"type\":\"CDSView\"}},\"id\":\"8c33876b-c9e8-4f24-9849-34b7eb332b74\",\"type\":\"GlyphRenderer\"},{\"attributes\":{},\"id\":\"707741ff-44bb-4864-8b22-b3e5fb71de7b\",\"type\":\"ResetTool\"},{\"attributes\":{\"source\":{\"id\":\"d1b8fec3-98f5-4557-a4e5-db8321e18af9\",\"type\":\"ColumnDataSource\"}},\"id\":\"6b3f7edd-8750-4f59-b7be-b4d698e2ad8d\",\"type\":\"CDSView\"},{\"attributes\":{},\"id\":\"7b0aa0cd-8f7e-43d8-b409-594d6f6eac65\",\"type\":\"WheelZoomTool\"},{\"attributes\":{\"fill_alpha\":{\"value\":0.7},\"fill_color\":{\"value\":\"#984ea3\"},\"line_alpha\":{\"value\":0.7},\"line_color\":{\"value\":\"#984ea3\"},\"x\":{\"field\":\"x\"},\"y\":{\"field\":\"y\"}},\"id\":\"2740d00f-3b0f-4e02-b22c-7a295bcdaf63\",\"type\":\"Square\"},{\"attributes\":{\"source\":{\"id\":\"9fcb57ee-67d3-4a34-b6ad-7847289e3eee\",\"type\":\"ColumnDataSource\"}},\"id\":\"d22fcdc7-e33c-47c3-a25c-e3c35b8d5fba\",\"type\":\"CDSView\"},{\"attributes\":{\"fill_alpha\":{\"value\":0.1},\"fill_color\":{\"value\":\"#1f77b4\"},\"line_alpha\":{\"value\":0.1},\"line_color\":{\"value\":\"#1f77b4\"},\"x\":{\"field\":\"x\"},\"y\":{\"field\":\"y\"}},\"id\":\"d92a5d94-7987-4a18-9f31-f5fb7a74c881\",\"type\":\"Square\"},{\"attributes\":{\"children\":[{\"id\":\"7c9647ae-63be-4ca6-9387-3cc13d8bc7ba\",\"type\":\"Row\"}]},\"id\":\"728e9152-2e7d-4034-8e75-911c79bc200e\",\"type\":\"Column\"},{\"attributes\":{\"children\":[{\"id\":\"16d77b41-5106-4b4e-82ac-7a74ec027565\",\"subtype\":\"Figure\",\"type\":\"Plot\"},{\"id\":\"70de7491-6d22-4b9b-9b20-3842b227dff5\",\"subtype\":\"Figure\",\"type\":\"Plot\"}]},\"id\":\"7c9647ae-63be-4ca6-9387-3cc13d8bc7ba\",\"type\":\"Row\"},{\"attributes\":{\"axis_label\":\"cooling rate [K/day]\",\"formatter\":{\"id\":\"42b5f320-2bec-4ca6-83fd-de0cff1c5c3c\",\"type\":\"BasicTickFormatter\"},\"plot\":{\"id\":\"16d77b41-5106-4b4e-82ac-7a74ec027565\",\"subtype\":\"Figure\",\"type\":\"Plot\"},\"ticker\":{\"id\":\"16ca6bbb-8809-466b-bd4f-0bed9bfe1366\",\"type\":\"BasicTicker\"}},\"id\":\"67e082c7-480d-469e-bc97-920f45649443\",\"type\":\"LinearAxis\"},{\"attributes\":{\"plot\":{\"id\":\"16d77b41-5106-4b4e-82ac-7a74ec027565\",\"subtype\":\"Figure\",\"type\":\"Plot\"},\"ticker\":{\"id\":\"16ca6bbb-8809-466b-bd4f-0bed9bfe1366\",\"type\":\"BasicTicker\"}},\"id\":\"77a895b8-fc1e-4ea7-8934-daa91b37fef1\",\"type\":\"Grid\"},{\"attributes\":{},\"id\":\"16ca6bbb-8809-466b-bd4f-0bed9bfe1366\",\"type\":\"BasicTicker\"},{\"attributes\":{\"source\":{\"id\":\"84ffc59b-fd5e-4c45-97c1-21c8cd31ca92\",\"type\":\"ColumnDataSource\"}},\"id\":\"0347e5ab-189b-411e-9f1c-14f6d6076a74\",\"type\":\"CDSView\"},{\"attributes\":{\"label\":{\"value\":\"CLIRAD `coolr_bands`\"},\"renderers\":[{\"id\":\"e15e3465-1071-4d32-b71a-7597ef2a8af2\",\"type\":\"GlyphRenderer\"}]},\"id\":\"ae8da30d-205a-4ca4-9929-c1a6b9294671\",\"type\":\"LegendItem\"},{\"attributes\":{\"dimension\":1,\"plot\":{\"id\":\"16d77b41-5106-4b4e-82ac-7a74ec027565\",\"subtype\":\"Figure\",\"type\":\"Plot\"},\"ticker\":{\"id\":\"f92d9ddb-b556-48bc-a2bd-9eda5ece19db\",\"type\":\"BasicTicker\"}},\"id\":\"3cd40498-52a0-4e81-a5de-cd7f8a0bce81\",\"type\":\"Grid\"},{\"attributes\":{},\"id\":\"13ee9efa-bbd4-4324-807c-d455f4713f22\",\"type\":\"UnionRenderers\"},{\"attributes\":{\"label\":{\"value\":\"CRD\"},\"renderers\":[{\"id\":\"9c4a1991-57ec-4d03-9265-4b80a4d7a0fc\",\"type\":\"GlyphRenderer\"},{\"id\":\"8c33876b-c9e8-4f24-9849-34b7eb332b74\",\"type\":\"GlyphRenderer\"}]},\"id\":\"9f66e8f8-fc90-4ca2-af7f-7de24335c56a\",\"type\":\"LegendItem\"},{\"attributes\":{\"bottom_units\":\"screen\",\"fill_alpha\":{\"value\":0.5},\"fill_color\":{\"value\":\"lightgrey\"},\"left_units\":\"screen\",\"level\":\"overlay\",\"line_alpha\":{\"value\":1.0},\"line_color\":{\"value\":\"black\"},\"line_dash\":[4,4],\"line_width\":{\"value\":2},\"plot\":null,\"render_mode\":\"css\",\"right_units\":\"screen\",\"top_units\":\"screen\"},\"id\":\"b6641f98-74e2-4ab0-a71a-9b870a2db0c9\",\"type\":\"BoxAnnotation\"},{\"attributes\":{},\"id\":\"d482af23-71ba-40c9-8f25-80966166b1a0\",\"type\":\"UnionRenderers\"},{\"attributes\":{\"label\":{\"value\":\"WGT igg=10 wgt_flux=2\"},\"renderers\":[{\"id\":\"2ce43a34-e24f-4f7f-9dd4-d43ccdffb0dc\",\"type\":\"GlyphRenderer\"},{\"id\":\"1cb277a7-c439-478e-91d0-6beba21299b5\",\"type\":\"GlyphRenderer\"}]},\"id\":\"4e04825c-ae0c-4e13-8daf-24772bba7936\",\"type\":\"LegendItem\"},{\"attributes\":{\"axis_label\":\"pressure [mb]\",\"formatter\":{\"id\":\"a98b4a4c-0554-453d-9a8b-3704c89b402a\",\"type\":\"BasicTickFormatter\"},\"plot\":{\"id\":\"16d77b41-5106-4b4e-82ac-7a74ec027565\",\"subtype\":\"Figure\",\"type\":\"Plot\"},\"ticker\":{\"id\":\"f92d9ddb-b556-48bc-a2bd-9eda5ece19db\",\"type\":\"BasicTicker\"}},\"id\":\"b7c2f05a-13fe-408d-96f0-13694e2948b9\",\"type\":\"LinearAxis\"},{\"attributes\":{},\"id\":\"8d1baea2-abd7-4a36-8073-440fcb36dd99\",\"type\":\"Selection\"},{\"attributes\":{},\"id\":\"42b5f320-2bec-4ca6-83fd-de0cff1c5c3c\",\"type\":\"BasicTickFormatter\"},{\"attributes\":{\"callback\":null,\"data\":{\"x\":{\"__ndarray__\":\"Aw78A0Bwvj93VG/sXay+P0gPjTiukL8/+8CfK1s1wD+tPHk/C5XAP0JZvk/R6MA/RDt+2m4jwT/Ev1tiXUPBP7Qh/8wgPsE/0a06H1wJwT+47IzGDJrAP9z8+ZVSwL8/KbiS/AyYvT9V7UdIrN66P1W5N1w357o/6JT07pdovz8yJQ6wwYjCPxgIAmTo2MQ/G/di/6eoxj/xancXQUbIP66ZQghEX8o/YywN25odzT/dGZbUQxPLPyxqKJx6sMU/ICEtQm95wT9C47Kf//27PylfjiYwgLc/7lOIWcWhtD82OzFv/nSyPyRGg58ujrA/mU/A8PaSrT+30Zj6jTeqP/c9MYXjBqc/lAVTmrsApD9oMIpBBy2dP8iQ+QZ6Now/DgugnW3ccD83V9NRI29/Pw615941e5U/YFm14E/Roj9zrqpcffyxP+Sf+LUeU8U/YZPrXAe90j/lz/khHbvbPwut8xTeauI/VXD0CKCe5j9os2Y7ESrqP6ye/nk7vuw/Jn57jROV7T8qxET/2/fuP8qeTsMBPvA/61ysA3vn8D++SdOgaF7xPxG7AEV2j/E/T8qkhjaA8T8NmxJaICvxP1y6OOCplvA/LaL9ekua7z8SZZA30K7tP7zNGyeFmes/Yb6CVXF66T+5Gpd5xEvnP5OSmk2y2+Q/yZgWUAPh4j8n7uMu42LfP6eTjYMiyNg/RreYfg0x0z922wkf3xjNP4TbFG59Acc/KyfKc7fKwj8i86+CazC/P4XLrqSqQ7o/f+xRX2a9tj+uS/ps/o61P4YcW88Qjss/\",\"dtype\":\"float64\",\"shape\":[75]},\"y\":{\"__ndarray__\":\"GhExyth1ND/Sv8nbtpRIP2vylNV0PVE/aTum7souWD/At0SJ8fVgPw3Iuahxymc/MSNhhJWvcD/bTfBN02d3P2zb5nxnaoA/CD5h5MAGhz8NmeH1TyaQP+zrCsc9p5Y/LbKd76fGnz/bLW5ISEmmPww9YvTcQq8/JV2OstnstT8Er5Y7M8G+P0c+r3jqkcU/5h99k6ZBzj88bCIzFzjVP4enV8oyxN0//yH99nXg5D8qOpLLf0jtP5kqGJXUifQ/c9cS8kHP/D+/DpwzojQEQIEmwoanVwxA4lgXt9HgE0BSSZ2AJuIbQAMJih9jjiNA5q4l5INuK0AwTKYKRj0zQNv5fmq8/DpAaCJseHrtQkB/+zpwzoxKQM3MzMzMeFJAZmZmZmZqWEAAAAAAAFxeQM3MzMzMJmJAmpmZmZkfZUBmZmZmZhhoQDMzMzMzEWtAAAAAAAAKbkBmZmZmZoFwQM3MzMzM/XFAMzMzMzN6c0CamZmZmfZ0QAAAAAAAc3ZAZmZmZmbvd0DNzMzMzGt5QDMzMzMz6HpAmpmZmZlkfEAAAAAAAOF9QGZmZmZmXX9AZmZmZuZsgECamZmZGSuBQM3MzMxM6YFAAAAAAICngkAzMzMzs2WDQGZmZmbmI4RAmpmZmRnihEDNzMzMTKCFQAAAAACAXoZAMzMzM7Mch0BmZmZm5tqHQJqZmZkZmYhAzczMzExXiUAAAAAAgBWKQDMzMzOz04pAZmZmZuaRi0CamZmZGVCMQM3MzMxMDo1AAAAAAIDMjUAzMzMzs4qOQGZmZmbmSI9A\",\"dtype\":\"float64\",\"shape\":[75]}},\"selected\":{\"id\":\"8d1baea2-abd7-4a36-8073-440fcb36dd99\",\"type\":\"Selection\"},\"selection_policy\":{\"id\":\"d482af23-71ba-40c9-8f25-80966166b1a0\",\"type\":\"UnionRenderers\"}},\"id\":\"71914b50-276c-4263-b512-c0cb2d62f05e\",\"type\":\"ColumnDataSource\"},{\"attributes\":{},\"id\":\"394a4e47-bc0a-4899-87f9-8a3817e63639\",\"type\":\"Selection\"},{\"attributes\":{\"data_source\":{\"id\":\"71914b50-276c-4263-b512-c0cb2d62f05e\",\"type\":\"ColumnDataSource\"},\"glyph\":{\"id\":\"4b1d4571-7c41-4e4f-8c33-9cfbbb725514\",\"type\":\"Circle\"},\"hover_glyph\":null,\"muted_glyph\":null,\"nonselection_glyph\":{\"id\":\"baec683e-9fc2-4f6a-8b11-913ad5d6f57c\",\"type\":\"Circle\"},\"selection_glyph\":null,\"view\":{\"id\":\"f042fe62-6bdc-4729-978a-ff41a36f1868\",\"type\":\"CDSView\"}},\"id\":\"2a6d4e18-9806-4cec-91ad-d21e29409cc9\",\"type\":\"GlyphRenderer\"},{\"attributes\":{},\"id\":\"04c1d417-219f-4318-83eb-31a700266457\",\"type\":\"UnionRenderers\"},{\"attributes\":{\"data_source\":{\"id\":\"84ffc59b-fd5e-4c45-97c1-21c8cd31ca92\",\"type\":\"ColumnDataSource\"},\"glyph\":{\"id\":\"96f1eb68-c0d2-4452-ac5b-d17302e345b5\",\"type\":\"Line\"},\"hover_glyph\":null,\"muted_glyph\":null,\"nonselection_glyph\":{\"id\":\"12bc23f3-6fd2-4a75-8a23-af9938c1dceb\",\"type\":\"Line\"},\"selection_glyph\":null,\"view\":{\"id\":\"0347e5ab-189b-411e-9f1c-14f6d6076a74\",\"type\":\"CDSView\"}},\"id\":\"c8024aea-5ccf-4ae2-ac83-198ba445d44c\",\"type\":\"GlyphRenderer\"},{\"attributes\":{},\"id\":\"00f2e49f-dd7a-4fff-9e0a-c26c67432fa4\",\"type\":\"UnionRenderers\"},{\"attributes\":{},\"id\":\"f92d9ddb-b556-48bc-a2bd-9eda5ece19db\",\"type\":\"BasicTicker\"},{\"attributes\":{},\"id\":\"2c1129d6-686c-43b7-a9f0-be48c94dabc7\",\"type\":\"Selection\"},{\"attributes\":{\"callback\":null,\"end\":0.01,\"start\":1020},\"id\":\"278c0533-ea7a-49f5-8640-c4cddd7a5e94\",\"type\":\"Range1d\"},{\"attributes\":{},\"id\":\"207ecc17-2541-4b98-998b-d84293c3ec9c\",\"type\":\"UnionRenderers\"},{\"attributes\":{},\"id\":\"37930a03-ae3a-41a6-a7b8-651ea5d8c79b\",\"type\":\"Selection\"},{\"attributes\":{\"ticker\":null},\"id\":\"ed8c555b-0904-439d-bf6c-ddf1fa4b2fb6\",\"type\":\"LogTickFormatter\"},{\"attributes\":{},\"id\":\"4a815da5-8ecc-41bf-8e11-21aa1954a3d6\",\"type\":\"BasicTickFormatter\"},{\"attributes\":{},\"id\":\"ceeaef3f-ad61-445f-9a35-204d46d31c22\",\"type\":\"UnionRenderers\"},{\"attributes\":{},\"id\":\"4e0a2b9e-4d6c-45e7-8d88-b6264d492ac4\",\"type\":\"Selection\"},{\"attributes\":{\"callback\":null,\"data\":{\"x\":{\"__ndarray__\":\"mcB6ytSerj9oQPILBSWvPz6iYMvNZbA/S+GQ+b8ksT+88bvXs+GxP/LC55g9mrI/f5gkmUxKsz+bhopsRe2zPyBQQliperQ/8bHNIwXqtD8NuRdtlS21P89O+RzHK7U/XYeGn+HItD/lVhAc+hu0P6enBM6Wz7U/Q3C/8Ah2uz/Y8YAu8TLBPwwbpxk5KMQ/VURVZUJAxj9gW5q22p7HP9Px+6uFYck/AVgVyImCzD9inwCKkaXLP7kWb1ytMMc/aWx1WjMJwz/XdgsLi929Pxlk0qxaPLg/HqjrOmi3tD8CeEiHQFuyP25HsvOoC7A/diH9xjzKqz95Wo0LWImoP6hQgqOJHKY/joYw19I+oz8glqdV786aPwF468yiT4Y/3mEsNlrMVz8RHsn6SLB2P/OiXSJq5JM/a/PjVfSMoj/79khfFWOyP3Q/K1njJsY/n9m//F9/0j+JHI0JUuXZP2RnfvPqVeE/tE07RsMz5T8jc13fJJnnP79IR73Qceo/CsIN319Q7D/2IRQAiMDtP/kUfKp1SO8//VMF/kut8D+wLOKFvqXxP//5bNOOEfI/e4hGdxD78T9ukKT/QJTxP2V9uQUBKPE/RBH3/UC+8D8HdkalIh/wP2bkJHshUO4/LsGQcoOj6z9yKgBjCW3oPzMhvRN58+Q/9bsTYBZC4j/umi2sXcvdP95TnBfl4dc/5QBNxilh0z/ZsjpBtLnOPww2+Va5isg/sSjTBUh2wz+9zfKnUz++P4Mh6r+APrc/F2s0kJlRsj++jf3HajywPxHb5XS89sg/\",\"dtype\":\"float64\",\"shape\":[75]},\"y\":{\"__ndarray__\":\"S/O/Q+51ND/Sv8nbtpRIP2vylNV0PVE/aTum7souWD/At0SJ8fVgPw3Iuahxymc/MSNhhJWvcD/bTfBN02d3P2zb5nxnaoA/CD5h5MAGhz8NmeH1TyaQP+zrCsc9p5Y/LbKd76fGnz/bLW5ISEmmPww9YvTcQq8/JV2OstnstT8Er5Y7M8G+P0c+r3jqkcU/5h99k6ZBzj88bCIzFzjVP4enV8oyxN0//yH99nXg5D8qOpLLf0jtP5kqGJXUifQ/c9cS8kHP/D+/DpwzojQEQIEmwoanVwxA4lgXt9HgE0BSSZ2AJuIbQAMJih9jjiNA5q4l5INuK0AwTKYKRj0zQNv5fmq8/DpAaCJseHrtQkB/+zpwzoxKQM3MzMzMeFJAZmZmZmZqWEAAAAAAAFxeQM3MzMzMJmJAmpmZmZkfZUBmZmZmZhhoQDMzMzMzEWtAAAAAAAAKbkBmZmZmZoFwQM3MzMzM/XFAMzMzMzN6c0CamZmZmfZ0QAAAAAAAc3ZAZmZmZmbvd0DNzMzMzGt5QDMzMzMz6HpAmpmZmZlkfEAAAAAAAOF9QGZmZmZmXX9AZmZmZuZsgECamZmZGSuBQM3MzMxM6YFAAAAAAICngkAzMzMzs2WDQGZmZmbmI4RAmpmZmRnihEDNzMzMTKCFQAAAAACAXoZAMzMzM7Mch0BmZmZm5tqHQJqZmZkZmYhAzczMzExXiUAAAAAAgBWKQDMzMzOz04pAZmZmZuaRi0CamZmZGVCMQM3MzMxMDo1AAAAAAIDMjUAzMzMzs4qOQGZmZmbmSI9A\",\"dtype\":\"float64\",\"shape\":[75]}},\"selected\":{\"id\":\"394a4e47-bc0a-4899-87f9-8a3817e63639\",\"type\":\"Selection\"},\"selection_policy\":{\"id\":\"13ee9efa-bbd4-4324-807c-d455f4713f22\",\"type\":\"UnionRenderers\"}},\"id\":\"84ffc59b-fd5e-4c45-97c1-21c8cd31ca92\",\"type\":\"ColumnDataSource\"},{\"attributes\":{},\"id\":\"15ae6782-65ab-48ff-a8af-f41942cc8c10\",\"type\":\"Selection\"},{\"attributes\":{},\"id\":\"5488930f-3250-4082-88e5-4077d9028ce7\",\"type\":\"Selection\"},{\"attributes\":{},\"id\":\"dddf1412-ddca-4cdd-b77a-9bc09438c38f\",\"type\":\"SaveTool\"},{\"attributes\":{},\"id\":\"88c358b5-83d6-4d39-a4cd-759692a9bb7e\",\"type\":\"Selection\"},{\"attributes\":{},\"id\":\"24ec708d-8e66-4f01-aea9-9dd799f675ca\",\"type\":\"PanTool\"},{\"attributes\":{},\"id\":\"d4bc124c-278f-451d-8bf6-1afaf35dbc20\",\"type\":\"HelpTool\"}],\"root_ids\":[\"b0eaadad-6bb8-452d-9bb4-72a221974126\"]},\"title\":\"Bokeh Application\",\"version\":\"0.12.16\"}};\n",
       "  var render_items = [{\"docid\":\"e63c940d-81b6-4e29-8887-b837ec0d08b6\",\"elementid\":\"2b6839e8-4726-4659-bab5-bdd5597d1a2d\",\"modelid\":\"b0eaadad-6bb8-452d-9bb4-72a221974126\"}];\n",
       "  root.Bokeh.embed.embed_items_notebook(docs_json, render_items);\n",
       "\n",
       "  }\n",
       "  if (root.Bokeh !== undefined) {\n",
       "    embed_document(root);\n",
       "  } else {\n",
       "    var attempts = 0;\n",
       "    var timer = setInterval(function(root) {\n",
       "      if (root.Bokeh !== undefined) {\n",
       "        embed_document(root);\n",
       "        clearInterval(timer);\n",
       "      }\n",
       "      attempts++;\n",
       "      if (attempts > 100) {\n",
       "        console.log(\"Bokeh: ERROR: Unable to run BokehJS code because BokehJS library is missing\")\n",
       "        clearInterval(timer);\n",
       "      }\n",
       "    }, 10, root)\n",
       "  }\n",
       "})(window);"
      ],
      "application/vnd.bokehjs_exec.v0+json": ""
     },
     "metadata": {
      "application/vnd.bokehjs_exec.v0+json": {
       "id": "b0eaadad-6bb8-452d-9bb4-72a221974126"
      }
     },
     "output_type": "display_data"
    },
    {
     "name": "stdout",
     "output_type": "stream",
     "text": [
      "FIGURE. Cooling rate profiles.\n"
     ]
    },
    {
     "data": {
      "text/html": [
       "<a id=\"Flux_Comparison\"></a>"
      ],
      "text/plain": [
       "<IPython.core.display.HTML object>"
      ]
     },
     "metadata": {},
     "output_type": "display_data"
    },
    {
     "data": {
      "text/markdown": [
       "# Flux Comparison"
      ],
      "text/plain": [
       "<IPython.core.display.Markdown object>"
      ]
     },
     "metadata": {},
     "output_type": "display_data"
    },
    {
     "data": {
      "text/html": [
       "<div>\n",
       "<style scoped>\n",
       "    .dataframe tbody tr th:only-of-type {\n",
       "        vertical-align: middle;\n",
       "    }\n",
       "\n",
       "    .dataframe tbody tr th {\n",
       "        vertical-align: top;\n",
       "    }\n",
       "\n",
       "    .dataframe thead th {\n",
       "        text-align: right;\n",
       "    }\n",
       "</style>\n",
       "<table border=\"1\" class=\"dataframe\">\n",
       "  <thead>\n",
       "    <tr style=\"text-align: right;\">\n",
       "      <th></th>\n",
       "      <th></th>\n",
       "      <th>flug</th>\n",
       "      <th>fldg</th>\n",
       "      <th>fnetg</th>\n",
       "    </tr>\n",
       "    <tr>\n",
       "      <th>pressure</th>\n",
       "      <th>level</th>\n",
       "      <th></th>\n",
       "      <th></th>\n",
       "      <th></th>\n",
       "    </tr>\n",
       "  </thead>\n",
       "  <tbody>\n",
       "    <tr>\n",
       "      <th>0.0000</th>\n",
       "      <th>1</th>\n",
       "      <td>-61.195826</td>\n",
       "      <td>0.000000</td>\n",
       "      <td>-61.195826</td>\n",
       "    </tr>\n",
       "    <tr>\n",
       "      <th>1.0685</th>\n",
       "      <th>24</th>\n",
       "      <td>-61.196878</td>\n",
       "      <td>0.025766</td>\n",
       "      <td>-61.171111</td>\n",
       "    </tr>\n",
       "    <tr>\n",
       "      <th>1013.0000</th>\n",
       "      <th>76</th>\n",
       "      <td>-86.475230</td>\n",
       "      <td>85.584065</td>\n",
       "      <td>-0.891165</td>\n",
       "    </tr>\n",
       "  </tbody>\n",
       "</table>\n",
       "</div>"
      ],
      "text/plain": [
       "                      flug       fldg      fnetg\n",
       "pressure  level                                 \n",
       "0.0000    1     -61.195826   0.000000 -61.195826\n",
       "1.0685    24    -61.196878   0.025766 -61.171111\n",
       "1013.0000 76    -86.475230  85.584065  -0.891165"
      ]
     },
     "metadata": {},
     "output_type": "display_data"
    },
    {
     "name": "stdout",
     "output_type": "stream",
     "text": [
      "Table. Fluxes. CRD\n"
     ]
    },
    {
     "data": {
      "text/html": [
       "<div>\n",
       "<style scoped>\n",
       "    .dataframe tbody tr th:only-of-type {\n",
       "        vertical-align: middle;\n",
       "    }\n",
       "\n",
       "    .dataframe tbody tr th {\n",
       "        vertical-align: top;\n",
       "    }\n",
       "\n",
       "    .dataframe thead th {\n",
       "        text-align: right;\n",
       "    }\n",
       "</style>\n",
       "<table border=\"1\" class=\"dataframe\">\n",
       "  <thead>\n",
       "    <tr style=\"text-align: right;\">\n",
       "      <th></th>\n",
       "      <th></th>\n",
       "      <th>flug</th>\n",
       "      <th>fldg</th>\n",
       "      <th>fnetg</th>\n",
       "    </tr>\n",
       "    <tr>\n",
       "      <th>pressure</th>\n",
       "      <th>level</th>\n",
       "      <th></th>\n",
       "      <th></th>\n",
       "      <th></th>\n",
       "    </tr>\n",
       "  </thead>\n",
       "  <tbody>\n",
       "    <tr>\n",
       "      <th>0.0000</th>\n",
       "      <th>1</th>\n",
       "      <td>-60.467809</td>\n",
       "      <td>0.000000</td>\n",
       "      <td>-60.467809</td>\n",
       "    </tr>\n",
       "    <tr>\n",
       "      <th>1.0685</th>\n",
       "      <th>24</th>\n",
       "      <td>-60.468759</td>\n",
       "      <td>0.025255</td>\n",
       "      <td>-60.443504</td>\n",
       "    </tr>\n",
       "    <tr>\n",
       "      <th>1013.0000</th>\n",
       "      <th>76</th>\n",
       "      <td>-86.475230</td>\n",
       "      <td>85.799055</td>\n",
       "      <td>-0.676174</td>\n",
       "    </tr>\n",
       "  </tbody>\n",
       "</table>\n",
       "</div>"
      ],
      "text/plain": [
       "                      flug       fldg      fnetg\n",
       "pressure  level                                 \n",
       "0.0000    1     -60.467809   0.000000 -60.467809\n",
       "1.0685    24    -60.468759   0.025255 -60.443504\n",
       "1013.0000 76    -86.475230  85.799055  -0.676174"
      ]
     },
     "metadata": {},
     "output_type": "display_data"
    },
    {
     "name": "stdout",
     "output_type": "stream",
     "text": [
      "Table. Fluxes. WGT igg=10 wgt_flux=1\n"
     ]
    },
    {
     "data": {
      "text/html": [
       "<div>\n",
       "<style scoped>\n",
       "    .dataframe tbody tr th:only-of-type {\n",
       "        vertical-align: middle;\n",
       "    }\n",
       "\n",
       "    .dataframe tbody tr th {\n",
       "        vertical-align: top;\n",
       "    }\n",
       "\n",
       "    .dataframe thead th {\n",
       "        text-align: right;\n",
       "    }\n",
       "</style>\n",
       "<table border=\"1\" class=\"dataframe\">\n",
       "  <thead>\n",
       "    <tr style=\"text-align: right;\">\n",
       "      <th></th>\n",
       "      <th></th>\n",
       "      <th>flug</th>\n",
       "      <th>fldg</th>\n",
       "      <th>fnetg</th>\n",
       "    </tr>\n",
       "    <tr>\n",
       "      <th>pressure</th>\n",
       "      <th>level</th>\n",
       "      <th></th>\n",
       "      <th></th>\n",
       "      <th></th>\n",
       "    </tr>\n",
       "  </thead>\n",
       "  <tbody>\n",
       "    <tr>\n",
       "      <th>1.000000e-08</th>\n",
       "      <th>1</th>\n",
       "      <td>-60.873584</td>\n",
       "      <td>0.000003</td>\n",
       "      <td>-60.873581</td>\n",
       "    </tr>\n",
       "    <tr>\n",
       "      <th>1.068500e+00</th>\n",
       "      <th>24</th>\n",
       "      <td>-60.874379</td>\n",
       "      <td>0.024887</td>\n",
       "      <td>-60.849492</td>\n",
       "    </tr>\n",
       "    <tr>\n",
       "      <th>1.013000e+03</th>\n",
       "      <th>76</th>\n",
       "      <td>-86.475230</td>\n",
       "      <td>85.835026</td>\n",
       "      <td>-0.640204</td>\n",
       "    </tr>\n",
       "  </tbody>\n",
       "</table>\n",
       "</div>"
      ],
      "text/plain": [
       "                         flug       fldg      fnetg\n",
       "pressure     level                                 \n",
       "1.000000e-08 1     -60.873584   0.000003 -60.873581\n",
       "1.068500e+00 24    -60.874379   0.024887 -60.849492\n",
       "1.013000e+03 76    -86.475230  85.835026  -0.640204"
      ]
     },
     "metadata": {},
     "output_type": "display_data"
    },
    {
     "name": "stdout",
     "output_type": "stream",
     "text": [
      "Table. Fluxes. CLIRAD\n"
     ]
    },
    {
     "data": {
      "text/html": [
       "<div>\n",
       "<style scoped>\n",
       "    .dataframe tbody tr th:only-of-type {\n",
       "        vertical-align: middle;\n",
       "    }\n",
       "\n",
       "    .dataframe tbody tr th {\n",
       "        vertical-align: top;\n",
       "    }\n",
       "\n",
       "    .dataframe thead th {\n",
       "        text-align: right;\n",
       "    }\n",
       "</style>\n",
       "<table border=\"1\" class=\"dataframe\">\n",
       "  <thead>\n",
       "    <tr style=\"text-align: right;\">\n",
       "      <th></th>\n",
       "      <th></th>\n",
       "      <th>flug</th>\n",
       "      <th>fldg</th>\n",
       "      <th>fnetg</th>\n",
       "    </tr>\n",
       "    <tr>\n",
       "      <th>pressure</th>\n",
       "      <th>level</th>\n",
       "      <th></th>\n",
       "      <th></th>\n",
       "      <th></th>\n",
       "    </tr>\n",
       "  </thead>\n",
       "  <tbody>\n",
       "    <tr>\n",
       "      <th>0.0000</th>\n",
       "      <th>1</th>\n",
       "      <td>7.280170e-01</td>\n",
       "      <td>0.000000</td>\n",
       "      <td>0.728017</td>\n",
       "    </tr>\n",
       "    <tr>\n",
       "      <th>1.0685</th>\n",
       "      <th>24</th>\n",
       "      <td>7.281194e-01</td>\n",
       "      <td>-0.000512</td>\n",
       "      <td>0.727607</td>\n",
       "    </tr>\n",
       "    <tr>\n",
       "      <th>1013.0000</th>\n",
       "      <th>76</th>\n",
       "      <td>-2.950000e-07</td>\n",
       "      <td>0.214990</td>\n",
       "      <td>0.214991</td>\n",
       "    </tr>\n",
       "  </tbody>\n",
       "</table>\n",
       "</div>"
      ],
      "text/plain": [
       "                         flug      fldg     fnetg\n",
       "pressure  level                                  \n",
       "0.0000    1      7.280170e-01  0.000000  0.728017\n",
       "1.0685    24     7.281194e-01 -0.000512  0.727607\n",
       "1013.0000 76    -2.950000e-07  0.214990  0.214991"
      ]
     },
     "metadata": {},
     "output_type": "display_data"
    },
    {
     "name": "stdout",
     "output_type": "stream",
     "text": [
      "Table. Fluxes. (WGT igg=10 wgt_flux=1) - (CRD)\n"
     ]
    },
    {
     "data": {
      "text/html": [
       "<div>\n",
       "<style scoped>\n",
       "    .dataframe tbody tr th:only-of-type {\n",
       "        vertical-align: middle;\n",
       "    }\n",
       "\n",
       "    .dataframe tbody tr th {\n",
       "        vertical-align: top;\n",
       "    }\n",
       "\n",
       "    .dataframe thead th {\n",
       "        text-align: right;\n",
       "    }\n",
       "</style>\n",
       "<table border=\"1\" class=\"dataframe\">\n",
       "  <thead>\n",
       "    <tr style=\"text-align: right;\">\n",
       "      <th></th>\n",
       "      <th></th>\n",
       "      <th>flug</th>\n",
       "      <th>fldg</th>\n",
       "      <th>fnetg</th>\n",
       "    </tr>\n",
       "    <tr>\n",
       "      <th>pressure</th>\n",
       "      <th>level</th>\n",
       "      <th></th>\n",
       "      <th></th>\n",
       "      <th></th>\n",
       "    </tr>\n",
       "  </thead>\n",
       "  <tbody>\n",
       "    <tr>\n",
       "      <th>0.0000</th>\n",
       "      <th>1</th>\n",
       "      <td>0.322242</td>\n",
       "      <td>0.000003</td>\n",
       "      <td>0.322245</td>\n",
       "    </tr>\n",
       "    <tr>\n",
       "      <th>1.0685</th>\n",
       "      <th>24</th>\n",
       "      <td>0.322499</td>\n",
       "      <td>-0.000879</td>\n",
       "      <td>0.321619</td>\n",
       "    </tr>\n",
       "    <tr>\n",
       "      <th>1013.0000</th>\n",
       "      <th>76</th>\n",
       "      <td>0.000000</td>\n",
       "      <td>0.250961</td>\n",
       "      <td>0.250961</td>\n",
       "    </tr>\n",
       "  </tbody>\n",
       "</table>\n",
       "</div>"
      ],
      "text/plain": [
       "                     flug      fldg     fnetg\n",
       "pressure  level                              \n",
       "0.0000    1      0.322242  0.000003  0.322245\n",
       "1.0685    24     0.322499 -0.000879  0.321619\n",
       "1013.0000 76     0.000000  0.250961  0.250961"
      ]
     },
     "metadata": {},
     "output_type": "display_data"
    },
    {
     "name": "stdout",
     "output_type": "stream",
     "text": [
      "Table. Fluxes. (CLIRAD) - (CRD)\n"
     ]
    },
    {
     "data": {
      "text/html": [
       "<a id=\"Best-fit_Parameters\"></a>"
      ],
      "text/plain": [
       "<IPython.core.display.HTML object>"
      ]
     },
     "metadata": {},
     "output_type": "display_data"
    },
    {
     "data": {
      "text/markdown": [
       "# Best-fit Parameters"
      ],
      "text/plain": [
       "<IPython.core.display.Markdown object>"
      ]
     },
     "metadata": {},
     "output_type": "display_data"
    },
    {
     "name": "stdout",
     "output_type": "stream",
     "text": [
      "Best-fit values for each (gas, band)\n",
      "------------------------------------\n",
      "o h2o band2\n",
      "  atmpro = mls\n",
      "  band = 2\n",
      "  commitnumber = a06b618\n",
      "  conc = None\n",
      "  dv = 0.001\n",
      "  klin = 0\n",
      "  molecule = h2o\n",
      "  ng_adju = [-2, -2, 0]\n",
      "  ng_refs = [2, 3, 6]\n",
      "  nv = 1000\n",
      "  option_compute_btable = 0\n",
      "  option_compute_ktable = 1\n",
      "  option_wgt_flux = 1\n",
      "  option_wgt_k = 1\n",
      "  ref_pts = [(1, 250), (10, 250), (500, 250)]\n",
      "  tsfc = 294\n",
      "  vmax = 540\n",
      "  vmin = 340\n",
      "  w_diffuse = [(1.66, 1.66), (1.8, 1.8, 1.8), (1.8, 1.66, 1.45, 1.45, 1.45, 1.45)]\n",
      "  wgt = [(0.6, 0.6), (0.6, 0.6, 0.6), (0.6, 0.6, 0.6, 0.6, 0.6, 0.6)]\n"
     ]
    }
   ],
   "source": [
    "script()"
   ]
  },
  {
   "cell_type": "code",
   "execution_count": 13,
   "metadata": {
    "collapsed": true
   },
   "outputs": [
    {
     "data": {
      "text/html": [
       "<script>\n",
       "code_show=true; \n",
       "function code_toggle() {\n",
       " if (code_show){\n",
       " $('div.input').hide();\n",
       " } else {\n",
       " $('div.input').show();\n",
       " }\n",
       " code_show = !code_show\n",
       "} \n",
       "$( document ).ready(code_toggle);\n",
       "</script>\n",
       "<form action=\"javascript:code_toggle()\"><input type=\"submit\" value=\"Click here to toggle on/off the raw code.\"></form>"
      ],
      "text/plain": [
       "<IPython.core.display.HTML object>"
      ]
     },
     "execution_count": 13,
     "metadata": {},
     "output_type": "execute_result"
    }
   ],
   "source": [
    "display.HTML('''<script>\n",
    "code_show=true; \n",
    "function code_toggle() {\n",
    " if (code_show){\n",
    " $('div.input').hide();\n",
    " } else {\n",
    " $('div.input').show();\n",
    " }\n",
    " code_show = !code_show\n",
    "} \n",
    "$( document ).ready(code_toggle);\n",
    "</script>\n",
    "<form action=\"javascript:code_toggle()\"><input type=\"submit\" value=\"Click here to toggle on/off the raw code.\"></form>''')"
   ]
  }
 ],
 "metadata": {
  "kernelspec": {
   "display_name": "Python 3",
   "language": "python",
   "name": "python3"
  },
  "language_info": {
   "codemirror_mode": {
    "name": "ipython",
    "version": 3
   },
   "file_extension": ".py",
   "mimetype": "text/x-python",
   "name": "python",
   "nbconvert_exporter": "python",
   "pygments_lexer": "ipython3",
   "version": "3.6.1"
  }
 },
 "nbformat": 4,
 "nbformat_minor": 2
}
