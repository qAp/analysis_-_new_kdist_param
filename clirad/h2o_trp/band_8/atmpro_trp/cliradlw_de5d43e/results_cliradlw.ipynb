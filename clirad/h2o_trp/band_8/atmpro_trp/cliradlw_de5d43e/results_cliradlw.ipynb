{
 "cells": [
  {
   "cell_type": "code",
   "execution_count": 1,
   "metadata": {
    "collapsed": true
   },
   "outputs": [],
   "source": [
    "%matplotlib inline\n",
    "import os\n",
    "import re\n",
    "import io\n",
    "import itertools\n",
    "import pprint\n",
    "\n",
    "from bokeh.io import output_notebook, show\n",
    "from bokeh.layouts import gridplot\n",
    "from bokeh.plotting import figure\n",
    "from bokeh.models import Range1d, Legend\n",
    "from bokeh.palettes import all_palettes\n",
    "\n",
    "import matplotlib\n",
    "import matplotlib.pyplot as plt\n",
    "import numpy as np\n",
    "import pandas as pd\n",
    "import xarray as xr\n",
    "\n",
    "import climatools.lblnew.bestfit_params as bestfits\n",
    "from climatools.lblnew import setup_bestfit, setup_overlap\n",
    "import climatools.lblnew.pipeline as pipe_lblnew\n",
    "import climatools.cliradlw.setup as setup_cliradlw\n",
    "import climatools.cliradlw.pipeline as pipe_cliradlw\n",
    "\n",
    "import climatools.html.html as climahtml\n",
    "from climatools.lblnew.dataio import *\n",
    "from climatools.plot.plot import *\n",
    "\n",
    "\n",
    "import IPython.display as display"
   ]
  },
  {
   "cell_type": "code",
   "execution_count": 2,
   "metadata": {
    "collapsed": true
   },
   "outputs": [],
   "source": [
    "%run param.py"
   ]
  },
  {
   "cell_type": "code",
   "execution_count": 3,
   "metadata": {
    "collapsed": true
   },
   "outputs": [],
   "source": [
    "def load_output_file(path_csv):\n",
    "    '''\n",
    "    Load lblnew output .csv file to xarray.Dataset\n",
    "    \n",
    "    Parameters\n",
    "    ----------\n",
    "    path_csv: str\n",
    "              Path to the .csv file to be loaded.\n",
    "    ds: xarray.Dataset\n",
    "        Data in the input file in the form of an xarray.Dataset.\n",
    "    '''\n",
    "    toindex = ['band', 'pressure', 'igg', 'g']    \n",
    "    df = pd.read_csv(path_csv, sep=r'\\s+')\n",
    "    df = df.set_index([i for i in toindex if i in df.columns])\n",
    "    df = df.rename(columns={'sfu': 'flug',\n",
    "                            'sfd': 'fldg',\n",
    "                            'fnet': 'fnetg',\n",
    "                            'coolr': 'coolrg'})\n",
    "    ds = xr.Dataset.from_dataframe(df)\n",
    "\n",
    "    for l in ('level', 'layer'):\n",
    "        if l in ds.data_vars:\n",
    "            if len(ds[l].dims) > 1:\n",
    "                surface = {d: 0 for d in ds.dims if d != 'pressure'}\n",
    "                coord_level = ds[l][surface]\n",
    "                ds.coords[l] = ('pressure', coord_level)\n",
    "            else:\n",
    "                ds.coords[l] = ('pressure', ds[l])\n",
    "    \n",
    "    return ds"
   ]
  },
  {
   "cell_type": "code",
   "execution_count": 4,
   "metadata": {
    "collapsed": true
   },
   "outputs": [],
   "source": [
    "def lblnew_setup(param=None):\n",
    "    if 'ng_refs' in param:\n",
    "        return {'setup': setup_bestfit,\n",
    "                'fname_flux_crd': 'output_flux.dat',\n",
    "                'fname_cool_crd': 'output_coolr.dat',\n",
    "                'fname_flux_wgt': 'output_wfluxg.dat',\n",
    "                'fname_cool_wgt': 'output_wcoolrg.dat'}\n",
    "    else:\n",
    "        return {'setup': setup_overlap,\n",
    "                'fname_flux_crd': 'output_flux.dat',\n",
    "                'fname_cool_crd': 'output_coolr.dat',\n",
    "                'fname_flux_wgt': 'output_wflux.dat',\n",
    "                'fname_cool_wgt': 'output_wcoolr.dat'}\n",
    "\n",
    "    \n",
    "def load_lblnew_data(param):\n",
    "    \n",
    "    fname_dsname = [('fname_flux_crd', 'ds_flux_crd'),\n",
    "                    ('fname_cool_crd', 'ds_cool_crd'),\n",
    "                    ('fname_flux_wgt', 'ds_flux_wgt'),\n",
    "                    ('fname_cool_wgt', 'ds_cool_wgt')]\n",
    "    \n",
    "    d = lblnew_setup(param)\n",
    "    dir_fortran = pipe_lblnew.get_dir_case(param, setup=d['setup'])\n",
    "    \n",
    "    data_dict = {}\n",
    "    for fname, dsname in fname_dsname:\n",
    "        fpath = os.path.join(dir_fortran, d[fname])\n",
    "        data_dict[dsname] = load_output_file(fpath)\n",
    "    return data_dict\n",
    "    \n",
    "\n",
    "    \n",
    "    "
   ]
  },
  {
   "cell_type": "code",
   "execution_count": 5,
   "metadata": {
    "collapsed": true
   },
   "outputs": [],
   "source": [
    "d = load_lblnew_data(PARAM_LBLNEW)\n",
    "\n",
    "DS_FLUX_CRD = d['ds_flux_crd']\n",
    "DS_COOL_CRD = d['ds_cool_crd']\n",
    "DS_FLUX_WGT = d['ds_flux_wgt']\n",
    "DS_COOL_WGT = d['ds_cool_wgt']"
   ]
  },
  {
   "cell_type": "code",
   "execution_count": 6,
   "metadata": {
    "collapsed": true
   },
   "outputs": [],
   "source": [
    "DIR_FORTRAN = pipe_cliradlw.get_fortran_dir(PARAM, \n",
    "                                            setup=setup_cliradlw)\n",
    "\n",
    "PATH_FLUX = os.path.join(DIR_FORTRAN, 'output_flux.dat')\n",
    "PATH_COOL = os.path.join(DIR_FORTRAN, 'output_coolr.dat')\n",
    "\n",
    "DS_FLUX = load_output_file(PATH_FLUX)\n",
    "DS_COOL = load_output_file(PATH_COOL)"
   ]
  },
  {
   "cell_type": "code",
   "execution_count": 7,
   "metadata": {
    "collapsed": true
   },
   "outputs": [
    {
     "data": {
      "text/html": [
       "\n",
       "    <div class=\"bk-root\">\n",
       "        <a href=\"https://bokeh.pydata.org\" target=\"_blank\" class=\"bk-logo bk-logo-small bk-logo-notebook\"></a>\n",
       "        <span id=\"e7b2c873-1307-44ac-9a72-259c790d74cd\">Loading BokehJS ...</span>\n",
       "    </div>"
      ]
     },
     "metadata": {},
     "output_type": "display_data"
    },
    {
     "data": {
      "application/javascript": [
       "\n",
       "(function(root) {\n",
       "  function now() {\n",
       "    return new Date();\n",
       "  }\n",
       "\n",
       "  var force = true;\n",
       "\n",
       "  if (typeof (root._bokeh_onload_callbacks) === \"undefined\" || force === true) {\n",
       "    root._bokeh_onload_callbacks = [];\n",
       "    root._bokeh_is_loading = undefined;\n",
       "  }\n",
       "\n",
       "  var JS_MIME_TYPE = 'application/javascript';\n",
       "  var HTML_MIME_TYPE = 'text/html';\n",
       "  var EXEC_MIME_TYPE = 'application/vnd.bokehjs_exec.v0+json';\n",
       "  var CLASS_NAME = 'output_bokeh rendered_html';\n",
       "\n",
       "  /**\n",
       "   * Render data to the DOM node\n",
       "   */\n",
       "  function render(props, node) {\n",
       "    var script = document.createElement(\"script\");\n",
       "    node.appendChild(script);\n",
       "  }\n",
       "\n",
       "  /**\n",
       "   * Handle when an output is cleared or removed\n",
       "   */\n",
       "  function handleClearOutput(event, handle) {\n",
       "    var cell = handle.cell;\n",
       "\n",
       "    var id = cell.output_area._bokeh_element_id;\n",
       "    var server_id = cell.output_area._bokeh_server_id;\n",
       "    // Clean up Bokeh references\n",
       "    if (id !== undefined) {\n",
       "      Bokeh.index[id].model.document.clear();\n",
       "      delete Bokeh.index[id];\n",
       "    }\n",
       "\n",
       "    if (server_id !== undefined) {\n",
       "      // Clean up Bokeh references\n",
       "      var cmd = \"from bokeh.io.state import curstate; print(curstate().uuid_to_server['\" + server_id + \"'].get_sessions()[0].document.roots[0]._id)\";\n",
       "      cell.notebook.kernel.execute(cmd, {\n",
       "        iopub: {\n",
       "          output: function(msg) {\n",
       "            var element_id = msg.content.text.trim();\n",
       "            Bokeh.index[element_id].model.document.clear();\n",
       "            delete Bokeh.index[element_id];\n",
       "          }\n",
       "        }\n",
       "      });\n",
       "      // Destroy server and session\n",
       "      var cmd = \"import bokeh.io.notebook as ion; ion.destroy_server('\" + server_id + \"')\";\n",
       "      cell.notebook.kernel.execute(cmd);\n",
       "    }\n",
       "  }\n",
       "\n",
       "  /**\n",
       "   * Handle when a new output is added\n",
       "   */\n",
       "  function handleAddOutput(event, handle) {\n",
       "    var output_area = handle.output_area;\n",
       "    var output = handle.output;\n",
       "\n",
       "    // limit handleAddOutput to display_data with EXEC_MIME_TYPE content only\n",
       "    if ((output.output_type != \"display_data\") || (!output.data.hasOwnProperty(EXEC_MIME_TYPE))) {\n",
       "      return\n",
       "    }\n",
       "\n",
       "    var toinsert = output_area.element.find(\".\" + CLASS_NAME.split(' ')[0]);\n",
       "\n",
       "    if (output.metadata[EXEC_MIME_TYPE][\"id\"] !== undefined) {\n",
       "      toinsert[toinsert.length - 1].firstChild.textContent = output.data[JS_MIME_TYPE];\n",
       "      // store reference to embed id on output_area\n",
       "      output_area._bokeh_element_id = output.metadata[EXEC_MIME_TYPE][\"id\"];\n",
       "    }\n",
       "    if (output.metadata[EXEC_MIME_TYPE][\"server_id\"] !== undefined) {\n",
       "      var bk_div = document.createElement(\"div\");\n",
       "      bk_div.innerHTML = output.data[HTML_MIME_TYPE];\n",
       "      var script_attrs = bk_div.children[0].attributes;\n",
       "      for (var i = 0; i < script_attrs.length; i++) {\n",
       "        toinsert[toinsert.length - 1].firstChild.setAttribute(script_attrs[i].name, script_attrs[i].value);\n",
       "      }\n",
       "      // store reference to server id on output_area\n",
       "      output_area._bokeh_server_id = output.metadata[EXEC_MIME_TYPE][\"server_id\"];\n",
       "    }\n",
       "  }\n",
       "\n",
       "  function register_renderer(events, OutputArea) {\n",
       "\n",
       "    function append_mime(data, metadata, element) {\n",
       "      // create a DOM node to render to\n",
       "      var toinsert = this.create_output_subarea(\n",
       "        metadata,\n",
       "        CLASS_NAME,\n",
       "        EXEC_MIME_TYPE\n",
       "      );\n",
       "      this.keyboard_manager.register_events(toinsert);\n",
       "      // Render to node\n",
       "      var props = {data: data, metadata: metadata[EXEC_MIME_TYPE]};\n",
       "      render(props, toinsert[toinsert.length - 1]);\n",
       "      element.append(toinsert);\n",
       "      return toinsert\n",
       "    }\n",
       "\n",
       "    /* Handle when an output is cleared or removed */\n",
       "    events.on('clear_output.CodeCell', handleClearOutput);\n",
       "    events.on('delete.Cell', handleClearOutput);\n",
       "\n",
       "    /* Handle when a new output is added */\n",
       "    events.on('output_added.OutputArea', handleAddOutput);\n",
       "\n",
       "    /**\n",
       "     * Register the mime type and append_mime function with output_area\n",
       "     */\n",
       "    OutputArea.prototype.register_mime_type(EXEC_MIME_TYPE, append_mime, {\n",
       "      /* Is output safe? */\n",
       "      safe: true,\n",
       "      /* Index of renderer in `output_area.display_order` */\n",
       "      index: 0\n",
       "    });\n",
       "  }\n",
       "\n",
       "  // register the mime type if in Jupyter Notebook environment and previously unregistered\n",
       "  if (root.Jupyter !== undefined) {\n",
       "    var events = require('base/js/events');\n",
       "    var OutputArea = require('notebook/js/outputarea').OutputArea;\n",
       "\n",
       "    if (OutputArea.prototype.mime_types().indexOf(EXEC_MIME_TYPE) == -1) {\n",
       "      register_renderer(events, OutputArea);\n",
       "    }\n",
       "  }\n",
       "\n",
       "  \n",
       "  if (typeof (root._bokeh_timeout) === \"undefined\" || force === true) {\n",
       "    root._bokeh_timeout = Date.now() + 5000;\n",
       "    root._bokeh_failed_load = false;\n",
       "  }\n",
       "\n",
       "  var NB_LOAD_WARNING = {'data': {'text/html':\n",
       "     \"<div style='background-color: #fdd'>\\n\"+\n",
       "     \"<p>\\n\"+\n",
       "     \"BokehJS does not appear to have successfully loaded. If loading BokehJS from CDN, this \\n\"+\n",
       "     \"may be due to a slow or bad network connection. Possible fixes:\\n\"+\n",
       "     \"</p>\\n\"+\n",
       "     \"<ul>\\n\"+\n",
       "     \"<li>re-rerun `output_notebook()` to attempt to load from CDN again, or</li>\\n\"+\n",
       "     \"<li>use INLINE resources instead, as so:</li>\\n\"+\n",
       "     \"</ul>\\n\"+\n",
       "     \"<code>\\n\"+\n",
       "     \"from bokeh.resources import INLINE\\n\"+\n",
       "     \"output_notebook(resources=INLINE)\\n\"+\n",
       "     \"</code>\\n\"+\n",
       "     \"</div>\"}};\n",
       "\n",
       "  function display_loaded() {\n",
       "    var el = document.getElementById(\"e7b2c873-1307-44ac-9a72-259c790d74cd\");\n",
       "    if (el != null) {\n",
       "      el.textContent = \"BokehJS is loading...\";\n",
       "    }\n",
       "    if (root.Bokeh !== undefined) {\n",
       "      if (el != null) {\n",
       "        el.textContent = \"BokehJS \" + root.Bokeh.version + \" successfully loaded.\";\n",
       "      }\n",
       "    } else if (Date.now() < root._bokeh_timeout) {\n",
       "      setTimeout(display_loaded, 100)\n",
       "    }\n",
       "  }\n",
       "\n",
       "\n",
       "  function run_callbacks() {\n",
       "    try {\n",
       "      root._bokeh_onload_callbacks.forEach(function(callback) { callback() });\n",
       "    }\n",
       "    finally {\n",
       "      delete root._bokeh_onload_callbacks\n",
       "    }\n",
       "    console.info(\"Bokeh: all callbacks have finished\");\n",
       "  }\n",
       "\n",
       "  function load_libs(js_urls, callback) {\n",
       "    root._bokeh_onload_callbacks.push(callback);\n",
       "    if (root._bokeh_is_loading > 0) {\n",
       "      console.log(\"Bokeh: BokehJS is being loaded, scheduling callback at\", now());\n",
       "      return null;\n",
       "    }\n",
       "    if (js_urls == null || js_urls.length === 0) {\n",
       "      run_callbacks();\n",
       "      return null;\n",
       "    }\n",
       "    console.log(\"Bokeh: BokehJS not loaded, scheduling load and callback at\", now());\n",
       "    root._bokeh_is_loading = js_urls.length;\n",
       "    for (var i = 0; i < js_urls.length; i++) {\n",
       "      var url = js_urls[i];\n",
       "      var s = document.createElement('script');\n",
       "      s.src = url;\n",
       "      s.async = false;\n",
       "      s.onreadystatechange = s.onload = function() {\n",
       "        root._bokeh_is_loading--;\n",
       "        if (root._bokeh_is_loading === 0) {\n",
       "          console.log(\"Bokeh: all BokehJS libraries loaded\");\n",
       "          run_callbacks()\n",
       "        }\n",
       "      };\n",
       "      s.onerror = function() {\n",
       "        console.warn(\"failed to load library \" + url);\n",
       "      };\n",
       "      console.log(\"Bokeh: injecting script tag for BokehJS library: \", url);\n",
       "      document.getElementsByTagName(\"head\")[0].appendChild(s);\n",
       "    }\n",
       "  };var element = document.getElementById(\"e7b2c873-1307-44ac-9a72-259c790d74cd\");\n",
       "  if (element == null) {\n",
       "    console.log(\"Bokeh: ERROR: autoload.js configured with elementid 'e7b2c873-1307-44ac-9a72-259c790d74cd' but no matching script tag was found. \")\n",
       "    return false;\n",
       "  }\n",
       "\n",
       "  var js_urls = [\"https://cdn.pydata.org/bokeh/release/bokeh-0.12.16.min.js\", \"https://cdn.pydata.org/bokeh/release/bokeh-widgets-0.12.16.min.js\", \"https://cdn.pydata.org/bokeh/release/bokeh-tables-0.12.16.min.js\", \"https://cdn.pydata.org/bokeh/release/bokeh-gl-0.12.16.min.js\"];\n",
       "\n",
       "  var inline_js = [\n",
       "    function(Bokeh) {\n",
       "      Bokeh.set_log_level(\"info\");\n",
       "    },\n",
       "    \n",
       "    function(Bokeh) {\n",
       "      \n",
       "    },\n",
       "    function(Bokeh) {\n",
       "      console.log(\"Bokeh: injecting CSS: https://cdn.pydata.org/bokeh/release/bokeh-0.12.16.min.css\");\n",
       "      Bokeh.embed.inject_css(\"https://cdn.pydata.org/bokeh/release/bokeh-0.12.16.min.css\");\n",
       "      console.log(\"Bokeh: injecting CSS: https://cdn.pydata.org/bokeh/release/bokeh-widgets-0.12.16.min.css\");\n",
       "      Bokeh.embed.inject_css(\"https://cdn.pydata.org/bokeh/release/bokeh-widgets-0.12.16.min.css\");\n",
       "      console.log(\"Bokeh: injecting CSS: https://cdn.pydata.org/bokeh/release/bokeh-tables-0.12.16.min.css\");\n",
       "      Bokeh.embed.inject_css(\"https://cdn.pydata.org/bokeh/release/bokeh-tables-0.12.16.min.css\");\n",
       "    }\n",
       "  ];\n",
       "\n",
       "  function run_inline_js() {\n",
       "    \n",
       "    if ((root.Bokeh !== undefined) || (force === true)) {\n",
       "      for (var i = 0; i < inline_js.length; i++) {\n",
       "        inline_js[i].call(root, root.Bokeh);\n",
       "      }if (force === true) {\n",
       "        display_loaded();\n",
       "      }} else if (Date.now() < root._bokeh_timeout) {\n",
       "      setTimeout(run_inline_js, 100);\n",
       "    } else if (!root._bokeh_failed_load) {\n",
       "      console.log(\"Bokeh: BokehJS failed to load within specified timeout.\");\n",
       "      root._bokeh_failed_load = true;\n",
       "    } else if (force !== true) {\n",
       "      var cell = $(document.getElementById(\"e7b2c873-1307-44ac-9a72-259c790d74cd\")).parents('.cell').data().cell;\n",
       "      cell.output_area.append_execute_result(NB_LOAD_WARNING)\n",
       "    }\n",
       "\n",
       "  }\n",
       "\n",
       "  if (root._bokeh_is_loading === 0) {\n",
       "    console.log(\"Bokeh: BokehJS loaded, going straight to plotting\");\n",
       "    run_inline_js();\n",
       "  } else {\n",
       "    load_libs(js_urls, function() {\n",
       "      console.log(\"Bokeh: BokehJS plotting callback run at\", now());\n",
       "      run_inline_js();\n",
       "    });\n",
       "  }\n",
       "}(window));"
      ],
      "application/vnd.bokehjs_load.v0+json": "\n(function(root) {\n  function now() {\n    return new Date();\n  }\n\n  var force = true;\n\n  if (typeof (root._bokeh_onload_callbacks) === \"undefined\" || force === true) {\n    root._bokeh_onload_callbacks = [];\n    root._bokeh_is_loading = undefined;\n  }\n\n  \n\n  \n  if (typeof (root._bokeh_timeout) === \"undefined\" || force === true) {\n    root._bokeh_timeout = Date.now() + 5000;\n    root._bokeh_failed_load = false;\n  }\n\n  var NB_LOAD_WARNING = {'data': {'text/html':\n     \"<div style='background-color: #fdd'>\\n\"+\n     \"<p>\\n\"+\n     \"BokehJS does not appear to have successfully loaded. If loading BokehJS from CDN, this \\n\"+\n     \"may be due to a slow or bad network connection. Possible fixes:\\n\"+\n     \"</p>\\n\"+\n     \"<ul>\\n\"+\n     \"<li>re-rerun `output_notebook()` to attempt to load from CDN again, or</li>\\n\"+\n     \"<li>use INLINE resources instead, as so:</li>\\n\"+\n     \"</ul>\\n\"+\n     \"<code>\\n\"+\n     \"from bokeh.resources import INLINE\\n\"+\n     \"output_notebook(resources=INLINE)\\n\"+\n     \"</code>\\n\"+\n     \"</div>\"}};\n\n  function display_loaded() {\n    var el = document.getElementById(\"e7b2c873-1307-44ac-9a72-259c790d74cd\");\n    if (el != null) {\n      el.textContent = \"BokehJS is loading...\";\n    }\n    if (root.Bokeh !== undefined) {\n      if (el != null) {\n        el.textContent = \"BokehJS \" + root.Bokeh.version + \" successfully loaded.\";\n      }\n    } else if (Date.now() < root._bokeh_timeout) {\n      setTimeout(display_loaded, 100)\n    }\n  }\n\n\n  function run_callbacks() {\n    try {\n      root._bokeh_onload_callbacks.forEach(function(callback) { callback() });\n    }\n    finally {\n      delete root._bokeh_onload_callbacks\n    }\n    console.info(\"Bokeh: all callbacks have finished\");\n  }\n\n  function load_libs(js_urls, callback) {\n    root._bokeh_onload_callbacks.push(callback);\n    if (root._bokeh_is_loading > 0) {\n      console.log(\"Bokeh: BokehJS is being loaded, scheduling callback at\", now());\n      return null;\n    }\n    if (js_urls == null || js_urls.length === 0) {\n      run_callbacks();\n      return null;\n    }\n    console.log(\"Bokeh: BokehJS not loaded, scheduling load and callback at\", now());\n    root._bokeh_is_loading = js_urls.length;\n    for (var i = 0; i < js_urls.length; i++) {\n      var url = js_urls[i];\n      var s = document.createElement('script');\n      s.src = url;\n      s.async = false;\n      s.onreadystatechange = s.onload = function() {\n        root._bokeh_is_loading--;\n        if (root._bokeh_is_loading === 0) {\n          console.log(\"Bokeh: all BokehJS libraries loaded\");\n          run_callbacks()\n        }\n      };\n      s.onerror = function() {\n        console.warn(\"failed to load library \" + url);\n      };\n      console.log(\"Bokeh: injecting script tag for BokehJS library: \", url);\n      document.getElementsByTagName(\"head\")[0].appendChild(s);\n    }\n  };var element = document.getElementById(\"e7b2c873-1307-44ac-9a72-259c790d74cd\");\n  if (element == null) {\n    console.log(\"Bokeh: ERROR: autoload.js configured with elementid 'e7b2c873-1307-44ac-9a72-259c790d74cd' but no matching script tag was found. \")\n    return false;\n  }\n\n  var js_urls = [\"https://cdn.pydata.org/bokeh/release/bokeh-0.12.16.min.js\", \"https://cdn.pydata.org/bokeh/release/bokeh-widgets-0.12.16.min.js\", \"https://cdn.pydata.org/bokeh/release/bokeh-tables-0.12.16.min.js\", \"https://cdn.pydata.org/bokeh/release/bokeh-gl-0.12.16.min.js\"];\n\n  var inline_js = [\n    function(Bokeh) {\n      Bokeh.set_log_level(\"info\");\n    },\n    \n    function(Bokeh) {\n      \n    },\n    function(Bokeh) {\n      console.log(\"Bokeh: injecting CSS: https://cdn.pydata.org/bokeh/release/bokeh-0.12.16.min.css\");\n      Bokeh.embed.inject_css(\"https://cdn.pydata.org/bokeh/release/bokeh-0.12.16.min.css\");\n      console.log(\"Bokeh: injecting CSS: https://cdn.pydata.org/bokeh/release/bokeh-widgets-0.12.16.min.css\");\n      Bokeh.embed.inject_css(\"https://cdn.pydata.org/bokeh/release/bokeh-widgets-0.12.16.min.css\");\n      console.log(\"Bokeh: injecting CSS: https://cdn.pydata.org/bokeh/release/bokeh-tables-0.12.16.min.css\");\n      Bokeh.embed.inject_css(\"https://cdn.pydata.org/bokeh/release/bokeh-tables-0.12.16.min.css\");\n    }\n  ];\n\n  function run_inline_js() {\n    \n    if ((root.Bokeh !== undefined) || (force === true)) {\n      for (var i = 0; i < inline_js.length; i++) {\n        inline_js[i].call(root, root.Bokeh);\n      }if (force === true) {\n        display_loaded();\n      }} else if (Date.now() < root._bokeh_timeout) {\n      setTimeout(run_inline_js, 100);\n    } else if (!root._bokeh_failed_load) {\n      console.log(\"Bokeh: BokehJS failed to load within specified timeout.\");\n      root._bokeh_failed_load = true;\n    } else if (force !== true) {\n      var cell = $(document.getElementById(\"e7b2c873-1307-44ac-9a72-259c790d74cd\")).parents('.cell').data().cell;\n      cell.output_area.append_execute_result(NB_LOAD_WARNING)\n    }\n\n  }\n\n  if (root._bokeh_is_loading === 0) {\n    console.log(\"Bokeh: BokehJS loaded, going straight to plotting\");\n    run_inline_js();\n  } else {\n    load_libs(js_urls, function() {\n      console.log(\"Bokeh: BokehJS plotting callback run at\", now());\n      run_inline_js();\n    });\n  }\n}(window));"
     },
     "metadata": {},
     "output_type": "display_data"
    }
   ],
   "source": [
    "output_notebook()"
   ]
  },
  {
   "cell_type": "code",
   "execution_count": 8,
   "metadata": {
    "collapsed": true
   },
   "outputs": [],
   "source": [
    "def fmt_cool(ds_in):\n",
    "    ds = ds_in.copy(deep=True)\n",
    "    if 'igg' in ds.dims:\n",
    "        ds = ds.sel(igg=1)\n",
    "\n",
    "    if 'g' in ds.dims:\n",
    "        ds = ds.sum('g')\n",
    "            \n",
    "    if 'band' in ds.dims:\n",
    "        try:\n",
    "            ds = ds.squeeze('band')\n",
    "        except ValueError:\n",
    "            ds = ds.sum('band')\n",
    "                \n",
    "    return ds['coolrg']\n",
    "\n",
    "\n",
    "def pltdata_cooling_1(ds_cool=None,\n",
    "                      ds_cool_crd=None, ds_cool_wgt=None):\n",
    "    \n",
    "\n",
    "\n",
    "    colors = all_palettes['Set1'][4]\n",
    "    data = [{'label': 'CLIRAD `coolr_bands`',\n",
    "             'srs': fmt_cool(ds_cool),\n",
    "             'line_dash': 'dashed', 'line_width': 5,\n",
    "             'color': colors[0], 'alpha': .6},\n",
    "            {'label': 'CRD',\n",
    "             'srs': fmt_cool(ds_cool_crd),\n",
    "             'line_dash': 'solid', 'line_width': 1.5,\n",
    "             'marker': 'circle', 'marker_size': 5,\n",
    "             'color': colors[2], 'alpha': 1,},\n",
    "            {'label': 'WGT igg=10 wgt_flux=2',\n",
    "             'srs': fmt_cool(ds_cool_wgt),\n",
    "             'line_dash': 'solid', 'line_width': 3,\n",
    "             'marker': 'square', 'marker_size': 5,\n",
    "             'color': colors[3], 'alpha': .6}]\n",
    "    return data\n",
    "\n",
    "\n",
    "def nice_xlims(pltdata=None, prange=None):\n",
    "    \n",
    "    def get_slice(srs):\n",
    "        return srs.sel(pressure=slice(*prange))\n",
    "    \n",
    "    srss = [d['srs'] for d in pltdata]\n",
    "    vmin = min([get_slice(srs).min() for srs in srss])\n",
    "    vmax = max([get_slice(srs).max() for srs in srss])\n",
    "    dv = (vmax - vmin) * .01\n",
    "    return float(vmin - dv), float(vmax + dv)\n",
    "    \n",
    "\n",
    "def plt_cooling_bokeh(pltdata=None):\n",
    "    '''\n",
    "    Plot a list of cooling rate profiles using bokeh.\n",
    "    '''\n",
    "    ymin = 1e-2 \n",
    "    ymax = 1020 \n",
    "        \n",
    "    p1 = figure(title=\"Linear pressure scale\", \n",
    "                plot_width=400)        \n",
    "    xmin, xmax = nice_xlims(pltdata, prange=(50, 1050))\n",
    "    for d in pltdata:\n",
    "        if 'marker' in d:\n",
    "            getattr(p1, d['marker'])(d['srs'].values, \n",
    "                    d['srs'].coords['pressure'].values,\n",
    "                    color=d['color'], alpha=.7)\n",
    "        p1.line(d['srs'].values, \n",
    "                d['srs'].coords['pressure'].values,\n",
    "                color=d['color'], alpha=d['alpha'], \n",
    "                line_width=d['line_width'], line_dash=d['line_dash'])\n",
    "    \n",
    "    p1.y_range = Range1d(ymax, ymin)\n",
    "    p1.yaxis.axis_label = 'pressure [mb]'   \n",
    "    p1.x_range = Range1d(xmin, xmax)\n",
    "    p1.xaxis.axis_label = 'cooling rate [K/day]'\n",
    "            \n",
    "    p2 = figure(title='Log pressure scale', y_axis_type='log',\n",
    "                plot_width=560)\n",
    "    xmin, xmax = nice_xlims(pltdata, prange=(.01, 200))\n",
    "    \n",
    "    rs = []\n",
    "    for d in pltdata:\n",
    "        rd = []\n",
    "        if 'marker' in d:\n",
    "            r_mark = getattr(p2, d['marker'])(d['srs'].values, \n",
    "                        d['srs'].coords['pressure'].values,\n",
    "                        color=d['color'], alpha=.7)\n",
    "            rd.append(r_mark)\n",
    "        r_line = p2.line(d['srs'].values, \n",
    "                    d['srs'].coords['pressure'].values,\n",
    "                    color=d['color'], alpha=d['alpha'], \n",
    "                    line_width=d['line_width'], line_dash=d['line_dash'])\n",
    "        rd.append(r_line)\n",
    "      \n",
    "        rs.append(rd)\n",
    "        \n",
    "    p2.y_range = Range1d(ymax, ymin)  \n",
    "    p2.yaxis.axis_label = 'pressure [mb]'\n",
    "    \n",
    "    p2.x_range = Range1d(xmin, xmax)\n",
    "    p2.xaxis.axis_label = 'cooling rate [K/day]'\n",
    "    \n",
    "    items = [(d['label'], r) for r, d in zip(rs, pltdata)]\n",
    "    legend = Legend(items=items, location=(10, -30))\n",
    "    legend.label_text_font_size = '8pt'\n",
    "    \n",
    "    p2.add_layout(legend, 'right')  \n",
    "    \n",
    "    show(gridplot(p1, p2, ncols=2, plot_height=500))\n",
    "    \n",
    "\n",
    "def script_plt_cooling():\n",
    "    pltdata = pltdata_cooling_1(\n",
    "        ds_cool=DS_COOL,\n",
    "        ds_cool_crd=DS_COOL_CRD,\n",
    "        ds_cool_wgt=DS_COOL_WGT)\n",
    "    plt_cooling_bokeh(pltdata=pltdata)\n",
    "    print('''FIGURE. Cooling rate profiles.''')"
   ]
  },
  {
   "cell_type": "code",
   "execution_count": 9,
   "metadata": {
    "collapsed": true
   },
   "outputs": [],
   "source": [
    "def fmt_flux(ds_in):\n",
    "    ds = ds_in.copy(deep=True)\n",
    "    \n",
    "    for l in ('level', 'layer'):\n",
    "        if l in ds.data_vars:\n",
    "            if len(ds[l].dims) > 1:\n",
    "                surface = {d: 0 for d in ds.dims if d != 'pressure'}\n",
    "                coord_level = ds[l][surface]\n",
    "                ds.coords[l] = ('pressure', coord_level)\n",
    "            else:\n",
    "                ds.coords[l] = ('pressure', ds[l])\n",
    "        \n",
    "    ds = ds.isel(pressure=[0, 23, -1])\n",
    "        \n",
    "    if 'igg' in ds.dims:\n",
    "        ds = ds.sel(igg=[1])\n",
    "        ds = ds.squeeze('igg').drop('igg')\n",
    "    \n",
    "    if 'g' in ds.dims:\n",
    "        ds = ds.sum('g')\n",
    "            \n",
    "    if 'band' in ds.dims:\n",
    "        try:\n",
    "            ds = ds.squeeze('band').drop('band')\n",
    "        except ValueError:\n",
    "            ds = ds.sum('band')\n",
    "                \n",
    "    df = ds.to_dataframe()\n",
    "    df = df.set_index('level', append=True)               \n",
    "    return df\n",
    "\n",
    "\n",
    "def tbdata_flux(ds_flux=None, ds_flux_crd=None, ds_flux_wgt=None):\n",
    "    ilevels = [0, 23, -1]\n",
    "            \n",
    "    benchmark = {'label': 'CRD',\n",
    "                 'df': fmt_flux(ds_flux_crd)}\n",
    "    \n",
    "    tbs = [{'label': 'WGT igg=10 wgt_flux=1',\n",
    "            'df': fmt_flux(ds_flux_wgt)},\n",
    "           {'label': 'CLIRAD',\n",
    "            'df': fmt_flux(ds_flux)}]\n",
    "    \n",
    "    data = {'benchmark': benchmark, 'others': tbs}\n",
    "    return data\n",
    "\n",
    "\n",
    "def tb_flux(tbdata=None):\n",
    "    benchmark = tbdata['benchmark']\n",
    "    others = tbdata['others']\n",
    "    \n",
    "    def show_tb(d=None):\n",
    "        display.display(d['df'])\n",
    "        print('Table.', 'Fluxes.', d['label'])\n",
    "        \n",
    "    def show_tbdiff(d0=None, d=None):\n",
    "        df = d['df']\n",
    "        df.index = d0['df'].index\n",
    "        display.display(df - d0['df'])\n",
    "        print('Table.', 'Fluxes.', \n",
    "              '({}) - ({})'.format(d['label'], d0['label']))\n",
    "        \n",
    "    show_tb(benchmark)\n",
    "    for d in others:\n",
    "        show_tb(d)\n",
    "        \n",
    "    for d in others:\n",
    "        show_tbdiff(d=d, d0=benchmark)\n",
    "        \n",
    "        \n",
    "def script_tb_flux():\n",
    "    data = tbdata_flux(ds_flux=DS_FLUX,\n",
    "                       ds_flux_crd=DS_FLUX_CRD,\n",
    "                       ds_flux_wgt=DS_FLUX_WGT)\n",
    "    tb_flux(tbdata=data)"
   ]
  },
  {
   "cell_type": "code",
   "execution_count": 10,
   "metadata": {
    "collapsed": true
   },
   "outputs": [],
   "source": [
    "def band_map():\n",
    "    '''\n",
    "    Maps spectral bands in lblnew to spectral bands in clirad.\n",
    "    '''\n",
    "    lblnew2clirad = {'1': '1',\n",
    "            '2': '2',\n",
    "            '3a': '3',\n",
    "            '3b': '4',\n",
    "            '3c': '5',\n",
    "            '4': '6', \n",
    "            '5': '7',\n",
    "            '6': '8',\n",
    "            '7': '9', \n",
    "            '8': '10',\n",
    "            '9': '11'}\n",
    "    \n",
    "    clirad2lblnew = {clirad: lblnew \n",
    "                     for lblnew, clirad in lblnew2clirad.items()}\n",
    "    return clirad2lblnew\n",
    "\n",
    "\n",
    "def gasbands():\n",
    "    bmap = band_map()\n",
    "    gases = list(PARAM['molecule'].keys())\n",
    "    \n",
    "    bands = [bmap[str(b)] for b in PARAM['band']]\n",
    "    return list(itertools.product(gases, bands))\n",
    "\n",
    "\n",
    "def print_bestfit_params():\n",
    "    print('Best-fit values for each (gas, band)')\n",
    "    print('------------------------------------')\n",
    "    for gas, band in gasbands():\n",
    "        print('o {} band{}'.format(gas, band))\n",
    "        param = bestfits.kdist_params(molecule=gas, band=band)\n",
    "        for name, value in sorted(param.items()):\n",
    "            print(2 * ' ' + '{} = {}'.format(name, value))\n",
    "\n",
    "        \n",
    "def print_input_param():        \n",
    "    for name, value in PARAM.items():\n",
    "        print('{} = {}'.format(name, value))\n",
    "        \n",
    "        \n",
    "def print_lblnew_param():\n",
    "    for name, value in sorted(PARAM_LBLNEW.items()):\n",
    "        print('{} = {}'.format(name, value))\n"
   ]
  },
  {
   "cell_type": "code",
   "execution_count": 11,
   "metadata": {
    "collapsed": true,
    "scrolled": false
   },
   "outputs": [],
   "source": [
    "def show_html(s):\n",
    "    display.display(display.HTML(s))\n",
    "\n",
    "    \n",
    "def show_markdown(s):\n",
    "    display.display(display.Markdown(s))\n",
    "\n",
    "    \n",
    "def script():\n",
    "    \n",
    "    title = '### CLIRAD-LW'\n",
    "    s_input = 'Input Parameters'\n",
    "    s_lblnew_param = 'LBLNEW case compaired against'\n",
    "    s_bestfits = 'Best-fit Parameters'\n",
    "    s_plt_cooling = 'Cooling Rate Profiles'\n",
    "    s_tb_flux = 'Flux Comparison'\n",
    "    \n",
    "    # title\n",
    "    show_markdown('### CLIRAD-LW')\n",
    "    \n",
    "    # TOC\n",
    "    show_markdown('### Table of Contents')\n",
    "    show_html(climahtml.getHTML_hrefanchor(s_input))\n",
    "    show_html(climahtml.getHTML_hrefanchor(s_lblnew_param))\n",
    "    show_html(climahtml.getHTML_hrefanchor(s_plt_cooling))\n",
    "    show_html(climahtml.getHTML_hrefanchor(s_tb_flux))\n",
    "    show_html(climahtml.getHTML_hrefanchor(s_bestfits))\n",
    "    \n",
    "    # Input parameters\n",
    "    show_html(climahtml.getHTML_idanchor(s_input))\n",
    "    show_markdown(climahtml.getMarkdown_sectitle(s_input))\n",
    "    print_input_param()\n",
    "    \n",
    "    # LBLNEW parameters \n",
    "    show_html(climahtml.getHTML_idanchor(s_lblnew_param))\n",
    "    show_markdown(climahtml.getMarkdown_sectitle(s_lblnew_param))\n",
    "    print_lblnew_param()\n",
    "    \n",
    "    # Cooling rate profiles\n",
    "    show_html(climahtml.getHTML_idanchor(s_plt_cooling))\n",
    "    show_markdown(climahtml.getMarkdown_sectitle(s_plt_cooling))\n",
    "    script_plt_cooling()\n",
    "    \n",
    "    # Flux comparison\n",
    "    show_html(climahtml.getHTML_idanchor(s_tb_flux))\n",
    "    show_markdown(climahtml.getMarkdown_sectitle(s_tb_flux))\n",
    "    script_tb_flux()\n",
    "    \n",
    "    # Best-fit values\n",
    "    show_html(climahtml.getHTML_idanchor(s_bestfits))\n",
    "    show_markdown(climahtml.getMarkdown_sectitle(s_bestfits))\n",
    "    print_bestfit_params()\n",
    "   \n",
    "    "
   ]
  },
  {
   "cell_type": "code",
   "execution_count": 12,
   "metadata": {
    "collapsed": true,
    "scrolled": false
   },
   "outputs": [
    {
     "data": {
      "text/markdown": [
       "### CLIRAD-LW"
      ],
      "text/plain": [
       "<IPython.core.display.Markdown object>"
      ]
     },
     "metadata": {},
     "output_type": "display_data"
    },
    {
     "data": {
      "text/markdown": [
       "### Table of Contents"
      ],
      "text/plain": [
       "<IPython.core.display.Markdown object>"
      ]
     },
     "metadata": {},
     "output_type": "display_data"
    },
    {
     "data": {
      "text/html": [
       "<a href=\"#Input_Parameters\">Input Parameters</a>"
      ],
      "text/plain": [
       "<IPython.core.display.HTML object>"
      ]
     },
     "metadata": {},
     "output_type": "display_data"
    },
    {
     "data": {
      "text/html": [
       "<a href=\"#LBLNEW_case_compaired_against\">LBLNEW case compaired against</a>"
      ],
      "text/plain": [
       "<IPython.core.display.HTML object>"
      ]
     },
     "metadata": {},
     "output_type": "display_data"
    },
    {
     "data": {
      "text/html": [
       "<a href=\"#Cooling_Rate_Profiles\">Cooling Rate Profiles</a>"
      ],
      "text/plain": [
       "<IPython.core.display.HTML object>"
      ]
     },
     "metadata": {},
     "output_type": "display_data"
    },
    {
     "data": {
      "text/html": [
       "<a href=\"#Flux_Comparison\">Flux Comparison</a>"
      ],
      "text/plain": [
       "<IPython.core.display.HTML object>"
      ]
     },
     "metadata": {},
     "output_type": "display_data"
    },
    {
     "data": {
      "text/html": [
       "<a href=\"#Best-fit_Parameters\">Best-fit Parameters</a>"
      ],
      "text/plain": [
       "<IPython.core.display.HTML object>"
      ]
     },
     "metadata": {},
     "output_type": "display_data"
    },
    {
     "data": {
      "text/html": [
       "<a id=\"Input_Parameters\"></a>"
      ],
      "text/plain": [
       "<IPython.core.display.HTML object>"
      ]
     },
     "metadata": {},
     "output_type": "display_data"
    },
    {
     "data": {
      "text/markdown": [
       "# Input Parameters"
      ],
      "text/plain": [
       "<IPython.core.display.Markdown object>"
      ]
     },
     "metadata": {},
     "output_type": "display_data"
    },
    {
     "name": "stdout",
     "output_type": "stream",
     "text": [
      "atmpro = trp\n",
      "band = [8]\n",
      "commitnumber = de5d43e\n",
      "molecule = {'h2o': 'atmpro'}\n",
      "tsfc = 300\n"
     ]
    },
    {
     "data": {
      "text/html": [
       "<a id=\"LBLNEW_case_compaired_against\"></a>"
      ],
      "text/plain": [
       "<IPython.core.display.HTML object>"
      ]
     },
     "metadata": {},
     "output_type": "display_data"
    },
    {
     "data": {
      "text/markdown": [
       "# LBLNEW case compaired against"
      ],
      "text/plain": [
       "<IPython.core.display.Markdown object>"
      ]
     },
     "metadata": {},
     "output_type": "display_data"
    },
    {
     "name": "stdout",
     "output_type": "stream",
     "text": [
      "atmpro = trp\n",
      "band = 6\n",
      "commitnumber = 5014a19\n",
      "conc = None\n",
      "dv = 0.001\n",
      "klin = 5e-25\n",
      "molecule = h2o\n",
      "ng_adju = [0]\n",
      "ng_refs = [4]\n",
      "nv = 1000\n",
      "option_compute_btable = 0\n",
      "option_compute_ktable = 0\n",
      "option_wgt_flux = 1\n",
      "option_wgt_k = 1\n",
      "ref_pts = [(600, 250)]\n",
      "tsfc = 300\n",
      "vmax = 1215\n",
      "vmin = 1100\n",
      "w_diffuse = [(1.66, 1.66, 1.7, 1.8)]\n",
      "wgt = [(0.3, 0.45, 0.6, 0.95)]\n"
     ]
    },
    {
     "data": {
      "text/html": [
       "<a id=\"Cooling_Rate_Profiles\"></a>"
      ],
      "text/plain": [
       "<IPython.core.display.HTML object>"
      ]
     },
     "metadata": {},
     "output_type": "display_data"
    },
    {
     "data": {
      "text/markdown": [
       "# Cooling Rate Profiles"
      ],
      "text/plain": [
       "<IPython.core.display.Markdown object>"
      ]
     },
     "metadata": {},
     "output_type": "display_data"
    },
    {
     "data": {
      "text/html": [
       "\n",
       "<div class=\"bk-root\">\n",
       "    <div class=\"bk-plotdiv\" id=\"517e230b-0512-4ac0-92cb-7d350f640ede\"></div>\n",
       "</div>"
      ]
     },
     "metadata": {},
     "output_type": "display_data"
    },
    {
     "data": {
      "application/javascript": [
       "(function(root) {\n",
       "  function embed_document(root) {\n",
       "    \n",
       "  var docs_json = {\"a82057ac-9cc0-4295-b63b-a5313fa26052\":{\"roots\":{\"references\":[{\"attributes\":{},\"id\":\"dd780a67-b92b-4881-a33a-d3200de552da\",\"type\":\"UnionRenderers\"},{\"attributes\":{\"toolbar\":{\"id\":\"f26b1c2d-ca9a-463e-9cc7-2ebf76c36d45\",\"type\":\"ProxyToolbar\"},\"toolbar_location\":\"above\"},\"id\":\"64e337a0-6706-4716-a9e3-09f54c37be38\",\"type\":\"ToolbarBox\"},{\"attributes\":{\"bottom_units\":\"screen\",\"fill_alpha\":{\"value\":0.5},\"fill_color\":{\"value\":\"lightgrey\"},\"left_units\":\"screen\",\"level\":\"overlay\",\"line_alpha\":{\"value\":1.0},\"line_color\":{\"value\":\"black\"},\"line_dash\":[4,4],\"line_width\":{\"value\":2},\"plot\":null,\"render_mode\":\"css\",\"right_units\":\"screen\",\"top_units\":\"screen\"},\"id\":\"8ecd8076-d8e1-45a4-8d42-51d513bae4ad\",\"type\":\"BoxAnnotation\"},{\"attributes\":{},\"id\":\"e2f0a38d-09f1-499c-8986-058523448d27\",\"type\":\"Selection\"},{\"attributes\":{},\"id\":\"25f7452f-b11a-4a39-ab24-d2ce7a5557eb\",\"type\":\"UnionRenderers\"},{\"attributes\":{\"data_source\":{\"id\":\"f329779d-b63d-40d0-8cbc-296abcc12286\",\"type\":\"ColumnDataSource\"},\"glyph\":{\"id\":\"8105cdf6-8587-4c14-84e5-6a3b4e6c03ff\",\"type\":\"Circle\"},\"hover_glyph\":null,\"muted_glyph\":null,\"nonselection_glyph\":{\"id\":\"555ae88f-2796-429b-b6fc-7e084f1f9825\",\"type\":\"Circle\"},\"selection_glyph\":null,\"view\":{\"id\":\"44e868b5-313c-43a1-94e0-34d02713cb69\",\"type\":\"CDSView\"}},\"id\":\"09066ee5-c91a-4778-bc5d-09fb373f90b8\",\"type\":\"GlyphRenderer\"},{\"attributes\":{},\"id\":\"eade2080-80ae-4a51-8a79-9808cad12e3c\",\"type\":\"Selection\"},{\"attributes\":{\"callback\":null,\"end\":0.01,\"start\":1020},\"id\":\"45b73bba-fa5a-451b-b10d-077f1af9c262\",\"type\":\"Range1d\"},{\"attributes\":{},\"id\":\"d7c5e30d-8fa5-48d6-b5bf-6c259c1bc93d\",\"type\":\"UnionRenderers\"},{\"attributes\":{},\"id\":\"a5fd167a-9d91-446d-a898-4b64f9ef3ea0\",\"type\":\"Selection\"},{\"attributes\":{},\"id\":\"7887a2e5-5a4f-4717-8ee1-39183cba1e74\",\"type\":\"UnionRenderers\"},{\"attributes\":{\"children\":[{\"id\":\"64e337a0-6706-4716-a9e3-09f54c37be38\",\"type\":\"ToolbarBox\"},{\"id\":\"d62e4062-b81d-44ec-8b83-8a38a5e6eccc\",\"type\":\"Column\"}]},\"id\":\"d332c2ee-feea-41c8-8c51-0b0108f1c627\",\"type\":\"Column\"},{\"attributes\":{},\"id\":\"b6c79beb-f5f4-4b9f-a8fd-443e5827df76\",\"type\":\"SaveTool\"},{\"attributes\":{\"tools\":[{\"id\":\"e3d6d22c-5acb-43fe-b9ce-1cea2231f569\",\"type\":\"PanTool\"},{\"id\":\"c624a785-d58d-4c4a-b003-83ce846277b7\",\"type\":\"WheelZoomTool\"},{\"id\":\"16ba70ff-b0ee-4e09-951f-d7d1aff8703b\",\"type\":\"BoxZoomTool\"},{\"id\":\"b6c79beb-f5f4-4b9f-a8fd-443e5827df76\",\"type\":\"SaveTool\"},{\"id\":\"525ed018-1e65-4067-9cc4-cd7a4a80e1a6\",\"type\":\"ResetTool\"},{\"id\":\"05f51a5b-ac45-40c9-a657-5f8ad1b27b86\",\"type\":\"HelpTool\"},{\"id\":\"f4ca6692-0ec5-4493-84eb-d61435f9339d\",\"type\":\"PanTool\"},{\"id\":\"193f300b-c434-4686-8ab5-b9b47f5a38e6\",\"type\":\"WheelZoomTool\"},{\"id\":\"8d35bbad-2540-4e0a-9e93-ee36e0438e81\",\"type\":\"BoxZoomTool\"},{\"id\":\"6c741fa5-770f-4ecb-9541-441c8b4f9ba4\",\"type\":\"SaveTool\"},{\"id\":\"4afed71d-0ed8-40d9-97d0-ebc7e916eabb\",\"type\":\"ResetTool\"},{\"id\":\"496610bf-3da2-4c77-91df-6fe19d699d2f\",\"type\":\"HelpTool\"}]},\"id\":\"f26b1c2d-ca9a-463e-9cc7-2ebf76c36d45\",\"type\":\"ProxyToolbar\"},{\"attributes\":{},\"id\":\"525ed018-1e65-4067-9cc4-cd7a4a80e1a6\",\"type\":\"ResetTool\"},{\"attributes\":{\"callback\":null,\"data\":{\"x\":{\"__ndarray__\":\"I61hzu9svz6Ym0U1sMP6PjFEb881m+a+4M6ISe2C575+e1BI3QjovmORiEJEcui+stRlVEgD6L5MH/1J1W3ovlaaUdwoFOi+sTYJ+I4R6L750nBK1u/nvuCzC4wQrOe++0pSm7xD5r6Pq9BG0UXYvgACjlXqedC+cAY97UGi075h+3BiTNe1vgM/oqWfcdo+ginyIqXy8j6o94AD6IoCP04tVAHmVQ8/Qu7hGJ9xFz9uE+AwxQUbP5Jw8nceRRg/oYUWX/9TEz+bOD16w1QLP9WEZzMMvAE/4Bcnjyuv9D4816X7fNLiPkh8Aw7E2qs+P7TX0o5K1r5K8eyOmdjkvlJ3UQ2tKey+beUKRMPe8L5be1QI7mHzvnP6IqNO6PS+/Vbio7Gq9b5wR90nFb33vvyUKeoptvq+Y8ntZDg5/76DWMcHqwoHv3x35wrQoRi/YUXUfqnFJL9K/oSfuYsqvyWaCiawxSO/y6y88A+WHj9uFHUfBCNIP7PAg9BNnF0/wTkwK14taj8sOcEThyd0P52457xwLnw/l7N22BZ3gj8d04Iz0jSHP7VFvdOpmow/xAdxQ16fkT+5xy1BofmVP4DVOyPkmJs/bEeKK9tFoT+cHd6ww1GlP3bnk1ng0qk/9oHXc0GZrj+iIO2J8qixP1nVb39e07M/u6RBPNgDtz9dE81hyWW5P/AIG1xCV7s//IzJ6m9svT8+8GsD+9i+P0Nwv/AIdsA/fNKqEjzwwT/p3ZL7ocLDPzhBgn+d3cU/zLcdnk5HyD8kAKxMABfLP84Rv4MbAM8/\",\"dtype\":\"float64\",\"shape\":[75]},\"y\":{\"__ndarray__\":\"S/O/Q+51ND/Sv8nbtpRIP2vylNV0PVE/aTum7souWD/At0SJ8fVgPw3Iuahxymc/MSNhhJWvcD/bTfBN02d3P2zb5nxnaoA/CD5h5MAGhz8NmeH1TyaQP+zrCsc9p5Y/LbKd76fGnz/bLW5ISEmmPww9YvTcQq8/JV2OstnstT8Er5Y7M8G+P0c+r3jqkcU/5h99k6ZBzj88bCIzFzjVP4enV8oyxN0//yH99nXg5D8qOpLLf0jtP5kqGJXUifQ/c9cS8kHP/D+/DpwzojQEQIEmwoanVwxA4lgXt9HgE0BSSZ2AJuIbQAMJih9jjiNA5q4l5INuK0AwTKYKRj0zQNv5fmq8/DpAaCJseHrtQkB/+zpwzoxKQM3MzMzMeFJAZmZmZmZqWEAAAAAAAFxeQM3MzMzMJmJAmpmZmZkfZUBmZmZmZhhoQDMzMzMzEWtAAAAAAAAKbkBmZmZmZoFwQM3MzMzM/XFAMzMzMzN6c0CamZmZmfZ0QAAAAAAAc3ZAZmZmZmbvd0DNzMzMzGt5QDMzMzMz6HpAmpmZmZlkfEAAAAAAAOF9QGZmZmZmXX9AZmZmZuZsgECamZmZGSuBQM3MzMxM6YFAAAAAAICngkAzMzMzs2WDQGZmZmbmI4RAmpmZmRnihEDNzMzMTKCFQAAAAACAXoZAMzMzM7Mch0BmZmZm5tqHQJqZmZkZmYhAzczMzExXiUAAAAAAgBWKQDMzMzOz04pAZmZmZuaRi0CamZmZGVCMQM3MzMxMDo1AAAAAAIDMjUAzMzMzs4qOQGZmZmbmSI9A\",\"dtype\":\"float64\",\"shape\":[75]}},\"selected\":{\"id\":\"6464c868-fb52-4696-aced-a0b299bc701f\",\"type\":\"Selection\"},\"selection_policy\":{\"id\":\"450400aa-4d89-4404-a542-8ea469089a45\",\"type\":\"UnionRenderers\"}},\"id\":\"3d9b40ef-35dc-4620-99e4-40fad368a221\",\"type\":\"ColumnDataSource\"},{\"attributes\":{\"callback\":null,\"data\":{\"x\":{\"__ndarray__\":\"I61hzu9svz6Ym0U1sMP6PjFEb881m+a+4M6ISe2C575+e1BI3QjovmORiEJEcui+stRlVEgD6L5MH/1J1W3ovlaaUdwoFOi+sTYJ+I4R6L750nBK1u/nvuCzC4wQrOe++0pSm7xD5r6Pq9BG0UXYvgACjlXqedC+cAY97UGi075h+3BiTNe1vgM/oqWfcdo+ginyIqXy8j6o94AD6IoCP04tVAHmVQ8/Qu7hGJ9xFz9uE+AwxQUbP5Jw8nceRRg/oYUWX/9TEz+bOD16w1QLP9WEZzMMvAE/4Bcnjyuv9D4816X7fNLiPkh8Aw7E2qs+P7TX0o5K1r5K8eyOmdjkvlJ3UQ2tKey+beUKRMPe8L5be1QI7mHzvnP6IqNO6PS+/Vbio7Gq9b5wR90nFb33vvyUKeoptvq+Y8ntZDg5/76DWMcHqwoHv3x35wrQoRi/YUXUfqnFJL9K/oSfuYsqvyWaCiawxSO/y6y88A+WHj9uFHUfBCNIP7PAg9BNnF0/wTkwK14taj8sOcEThyd0P52457xwLnw/l7N22BZ3gj8d04Iz0jSHP7VFvdOpmow/xAdxQ16fkT+5xy1BofmVP4DVOyPkmJs/bEeKK9tFoT+cHd6ww1GlP3bnk1ng0qk/9oHXc0GZrj+iIO2J8qixP1nVb39e07M/u6RBPNgDtz9dE81hyWW5P/AIG1xCV7s//IzJ6m9svT8+8GsD+9i+P0Nwv/AIdsA/fNKqEjzwwT/p3ZL7ocLDPzhBgn+d3cU/zLcdnk5HyD8kAKxMABfLP84Rv4MbAM8/\",\"dtype\":\"float64\",\"shape\":[75]},\"y\":{\"__ndarray__\":\"S/O/Q+51ND/Sv8nbtpRIP2vylNV0PVE/aTum7souWD/At0SJ8fVgPw3Iuahxymc/MSNhhJWvcD/bTfBN02d3P2zb5nxnaoA/CD5h5MAGhz8NmeH1TyaQP+zrCsc9p5Y/LbKd76fGnz/bLW5ISEmmPww9YvTcQq8/JV2OstnstT8Er5Y7M8G+P0c+r3jqkcU/5h99k6ZBzj88bCIzFzjVP4enV8oyxN0//yH99nXg5D8qOpLLf0jtP5kqGJXUifQ/c9cS8kHP/D+/DpwzojQEQIEmwoanVwxA4lgXt9HgE0BSSZ2AJuIbQAMJih9jjiNA5q4l5INuK0AwTKYKRj0zQNv5fmq8/DpAaCJseHrtQkB/+zpwzoxKQM3MzMzMeFJAZmZmZmZqWEAAAAAAAFxeQM3MzMzMJmJAmpmZmZkfZUBmZmZmZhhoQDMzMzMzEWtAAAAAAAAKbkBmZmZmZoFwQM3MzMzM/XFAMzMzMzN6c0CamZmZmfZ0QAAAAAAAc3ZAZmZmZmbvd0DNzMzMzGt5QDMzMzMz6HpAmpmZmZlkfEAAAAAAAOF9QGZmZmZmXX9AZmZmZuZsgECamZmZGSuBQM3MzMxM6YFAAAAAAICngkAzMzMzs2WDQGZmZmbmI4RAmpmZmRnihEDNzMzMTKCFQAAAAACAXoZAMzMzM7Mch0BmZmZm5tqHQJqZmZkZmYhAzczMzExXiUAAAAAAgBWKQDMzMzOz04pAZmZmZuaRi0CamZmZGVCMQM3MzMxMDo1AAAAAAIDMjUAzMzMzs4qOQGZmZmbmSI9A\",\"dtype\":\"float64\",\"shape\":[75]}},\"selected\":{\"id\":\"c36c8827-2d0a-46c1-8816-e57e36932776\",\"type\":\"Selection\"},\"selection_policy\":{\"id\":\"6c3006ff-8a8e-410c-a22b-018e2ff60c4a\",\"type\":\"UnionRenderers\"}},\"id\":\"58f510fa-74c4-4ce2-8e87-50997f46a53d\",\"type\":\"ColumnDataSource\"},{\"attributes\":{\"fill_alpha\":{\"value\":0.1},\"fill_color\":{\"value\":\"#1f77b4\"},\"line_alpha\":{\"value\":0.1},\"line_color\":{\"value\":\"#1f77b4\"},\"x\":{\"field\":\"x\"},\"y\":{\"field\":\"y\"}},\"id\":\"0fa6f925-9fbc-4a3a-8dc4-78f640a44f82\",\"type\":\"Square\"},{\"attributes\":{\"fill_alpha\":{\"value\":0.1},\"fill_color\":{\"value\":\"#1f77b4\"},\"line_alpha\":{\"value\":0.1},\"line_color\":{\"value\":\"#1f77b4\"},\"x\":{\"field\":\"x\"},\"y\":{\"field\":\"y\"}},\"id\":\"555ae88f-2796-429b-b6fc-7e084f1f9825\",\"type\":\"Circle\"},{\"attributes\":{},\"id\":\"05f51a5b-ac45-40c9-a657-5f8ad1b27b86\",\"type\":\"HelpTool\"},{\"attributes\":{\"callback\":null,\"data\":{\"x\":{\"__ndarray__\":\"bFNkOfWH9L7nOSYRvVT0vuRZIHf/5fO+UBVoKJds874Gps70OeryvqXv8lqwXfK+UClk0NTH8b7GUOuJ8CfxviB7PM1gffC+BvqOIfaP774S6QDCvw7uvmUN2oR6duy+t9gmn33A6r5imRohOnDovpaB4pQz9t2+uCWrrkF41j4PsYVr+Dr9PjAP+CbLTxA/DWEy3iGIHT89rcLmUDUoP2xZbxuBsjI/Joq6ig67Oj8Edmsbhuc9Pzu3krWWuDo/HrCElGysNT+fw2PcYOovP91o/4sDVSY/lEYbHTsBHj/g9Xcb4uwSP9I6mjrjYwU/lodOjHq68j73PYgT+tW3Pp/3GknCHOW+mdbNnYXq8r4u3c0WBkr5vkr6qZeK8Pu+X1wOhHQo/L4ZG5NlYtL9viW/iUvA6v++9vznfn08Ab+Xbkhb3ywGv9nvfMDhjRK/dCCB7n6aEr/pMQ3wAYD1Pnua8MIh7DI/IjCZHTeySj9xLFkh5gNbP8pmRc5mwGY/eRwbRYOJcD+eFjmMjS53P4lbUJrwhH8/HChipCbghD+5f4i0XQaLP5b8C+HxHZE/yIn4TMtPlT/bV3ldGhqaPx/Ge0BmiJ8/Ew/hxebWoj+cIZR48kmmP37F+R+JLKo/TzMjCs14rj/Q13NsGX2xP0wztyQCs7M/JRFZJQoNtz+bdHwwAL+5PzoGAYW8Frw/LZy9lgRmvj8g+VoCtqS/P2clc039k8A/iJIc8sebwT+ZsMO5AuHCP8rruTOwYcQ/ycG2jyYoxj/DaRxFMVTIP4Crpxy008s/\",\"dtype\":\"float64\",\"shape\":[75]},\"y\":{\"__ndarray__\":\"GhExyth1ND/Sv8nbtpRIP2vylNV0PVE/aTum7souWD/At0SJ8fVgPw3Iuahxymc/MSNhhJWvcD/bTfBN02d3P2zb5nxnaoA/CD5h5MAGhz8NmeH1TyaQP+zrCsc9p5Y/LbKd76fGnz/bLW5ISEmmPww9YvTcQq8/JV2OstnstT8Er5Y7M8G+P0c+r3jqkcU/5h99k6ZBzj88bCIzFzjVP4enV8oyxN0//yH99nXg5D8qOpLLf0jtP5kqGJXUifQ/c9cS8kHP/D+/DpwzojQEQIEmwoanVwxA4lgXt9HgE0BSSZ2AJuIbQAMJih9jjiNA5q4l5INuK0AwTKYKRj0zQNv5fmq8/DpAaCJseHrtQkB/+zpwzoxKQM3MzMzMeFJAZmZmZmZqWEAAAAAAAFxeQM3MzMzMJmJAmpmZmZkfZUBmZmZmZhhoQDMzMzMzEWtAAAAAAAAKbkBmZmZmZoFwQM3MzMzM/XFAMzMzMzN6c0CamZmZmfZ0QAAAAAAAc3ZAZmZmZmbvd0DNzMzMzGt5QDMzMzMz6HpAmpmZmZlkfEAAAAAAAOF9QGZmZmZmXX9AZmZmZuZsgECamZmZGSuBQM3MzMxM6YFAAAAAAICngkAzMzMzs2WDQGZmZmbmI4RAmpmZmRnihEDNzMzMTKCFQAAAAACAXoZAMzMzM7Mch0BmZmZm5tqHQJqZmZkZmYhAzczMzExXiUAAAAAAgBWKQDMzMzOz04pAZmZmZuaRi0CamZmZGVCMQM3MzMxMDo1AAAAAAIDMjUAzMzMzs4qOQGZmZmbmSI9A\",\"dtype\":\"float64\",\"shape\":[75]}},\"selected\":{\"id\":\"0cea908e-056d-4d2e-9acf-73bf07e6596f\",\"type\":\"Selection\"},\"selection_policy\":{\"id\":\"6f974429-381c-42fb-8ac3-1efca093b1db\",\"type\":\"UnionRenderers\"}},\"id\":\"da8f7111-8d40-41ef-bfa0-d7fb2954566e\",\"type\":\"ColumnDataSource\"},{\"attributes\":{\"source\":{\"id\":\"f329779d-b63d-40d0-8cbc-296abcc12286\",\"type\":\"ColumnDataSource\"}},\"id\":\"44e868b5-313c-43a1-94e0-34d02713cb69\",\"type\":\"CDSView\"},{\"attributes\":{\"fill_alpha\":{\"value\":0.7},\"fill_color\":{\"value\":\"#4daf4a\"},\"line_alpha\":{\"value\":0.7},\"line_color\":{\"value\":\"#4daf4a\"},\"x\":{\"field\":\"x\"},\"y\":{\"field\":\"y\"}},\"id\":\"8105cdf6-8587-4c14-84e5-6a3b4e6c03ff\",\"type\":\"Circle\"},{\"attributes\":{\"callback\":null,\"data\":{\"x\":{\"__ndarray__\":\"bFNkOfWH9L7nOSYRvVT0vuRZIHf/5fO+UBVoKJds874Gps70OeryvqXv8lqwXfK+UClk0NTH8b7GUOuJ8CfxviB7PM1gffC+BvqOIfaP774S6QDCvw7uvmUN2oR6duy+t9gmn33A6r5imRohOnDovpaB4pQz9t2+uCWrrkF41j4PsYVr+Dr9PjAP+CbLTxA/DWEy3iGIHT89rcLmUDUoP2xZbxuBsjI/Joq6ig67Oj8Edmsbhuc9Pzu3krWWuDo/HrCElGysNT+fw2PcYOovP91o/4sDVSY/lEYbHTsBHj/g9Xcb4uwSP9I6mjrjYwU/lodOjHq68j73PYgT+tW3Pp/3GknCHOW+mdbNnYXq8r4u3c0WBkr5vkr6qZeK8Pu+X1wOhHQo/L4ZG5NlYtL9viW/iUvA6v++9vznfn08Ab+Xbkhb3ywGv9nvfMDhjRK/dCCB7n6aEr/pMQ3wAYD1Pnua8MIh7DI/IjCZHTeySj9xLFkh5gNbP8pmRc5mwGY/eRwbRYOJcD+eFjmMjS53P4lbUJrwhH8/HChipCbghD+5f4i0XQaLP5b8C+HxHZE/yIn4TMtPlT/bV3ldGhqaPx/Ge0BmiJ8/Ew/hxebWoj+cIZR48kmmP37F+R+JLKo/TzMjCs14rj/Q13NsGX2xP0wztyQCs7M/JRFZJQoNtz+bdHwwAL+5PzoGAYW8Frw/LZy9lgRmvj8g+VoCtqS/P2clc039k8A/iJIc8sebwT+ZsMO5AuHCP8rruTOwYcQ/ycG2jyYoxj/DaRxFMVTIP4Crpxy008s/\",\"dtype\":\"float64\",\"shape\":[75]},\"y\":{\"__ndarray__\":\"GhExyth1ND/Sv8nbtpRIP2vylNV0PVE/aTum7souWD/At0SJ8fVgPw3Iuahxymc/MSNhhJWvcD/bTfBN02d3P2zb5nxnaoA/CD5h5MAGhz8NmeH1TyaQP+zrCsc9p5Y/LbKd76fGnz/bLW5ISEmmPww9YvTcQq8/JV2OstnstT8Er5Y7M8G+P0c+r3jqkcU/5h99k6ZBzj88bCIzFzjVP4enV8oyxN0//yH99nXg5D8qOpLLf0jtP5kqGJXUifQ/c9cS8kHP/D+/DpwzojQEQIEmwoanVwxA4lgXt9HgE0BSSZ2AJuIbQAMJih9jjiNA5q4l5INuK0AwTKYKRj0zQNv5fmq8/DpAaCJseHrtQkB/+zpwzoxKQM3MzMzMeFJAZmZmZmZqWEAAAAAAAFxeQM3MzMzMJmJAmpmZmZkfZUBmZmZmZhhoQDMzMzMzEWtAAAAAAAAKbkBmZmZmZoFwQM3MzMzM/XFAMzMzMzN6c0CamZmZmfZ0QAAAAAAAc3ZAZmZmZmbvd0DNzMzMzGt5QDMzMzMz6HpAmpmZmZlkfEAAAAAAAOF9QGZmZmZmXX9AZmZmZuZsgECamZmZGSuBQM3MzMxM6YFAAAAAAICngkAzMzMzs2WDQGZmZmbmI4RAmpmZmRnihEDNzMzMTKCFQAAAAACAXoZAMzMzM7Mch0BmZmZm5tqHQJqZmZkZmYhAzczMzExXiUAAAAAAgBWKQDMzMzOz04pAZmZmZuaRi0CamZmZGVCMQM3MzMxMDo1AAAAAAIDMjUAzMzMzs4qOQGZmZmbmSI9A\",\"dtype\":\"float64\",\"shape\":[75]}},\"selected\":{\"id\":\"19a8aa26-ab71-408e-9a0d-f830923e3edf\",\"type\":\"Selection\"},\"selection_policy\":{\"id\":\"344d511a-5ad6-4942-9731-0b56b2157c65\",\"type\":\"UnionRenderers\"}},\"id\":\"f329779d-b63d-40d0-8cbc-296abcc12286\",\"type\":\"ColumnDataSource\"},{\"attributes\":{\"line_color\":\"#4daf4a\",\"line_width\":1.5,\"x\":{\"field\":\"x\"},\"y\":{\"field\":\"y\"}},\"id\":\"9af55f9e-9636-4de3-9248-8cf637648ee8\",\"type\":\"Line\"},{\"attributes\":{\"data_source\":{\"id\":\"3d9b40ef-35dc-4620-99e4-40fad368a221\",\"type\":\"ColumnDataSource\"},\"glyph\":{\"id\":\"23281869-fb61-4200-a978-06b7ae9c3ce0\",\"type\":\"Line\"},\"hover_glyph\":null,\"muted_glyph\":null,\"nonselection_glyph\":{\"id\":\"8b4fe010-b576-47d7-bb22-68f33796ec24\",\"type\":\"Line\"},\"selection_glyph\":null,\"view\":{\"id\":\"fe627f97-94c2-4006-859c-efce9bf108dd\",\"type\":\"CDSView\"}},\"id\":\"b8e3ab91-34bd-4c62-8f31-b0b0e102a899\",\"type\":\"GlyphRenderer\"},{\"attributes\":{\"items\":[{\"id\":\"515245fb-3b59-4130-93b6-1fa016b62437\",\"type\":\"LegendItem\"},{\"id\":\"4763bcb2-7e9b-469d-9a39-6cf1856fc289\",\"type\":\"LegendItem\"},{\"id\":\"874d9126-6e27-4e8c-b56e-78b014abd143\",\"type\":\"LegendItem\"}],\"label_text_font_size\":{\"value\":\"8pt\"},\"location\":[10,-30],\"plot\":{\"id\":\"eb6e6a22-ba91-45ef-bdbb-370a4cf38ba2\",\"subtype\":\"Figure\",\"type\":\"Plot\"}},\"id\":\"da4df458-9240-4555-9fb2-4bb2445fa0cb\",\"type\":\"Legend\"},{\"attributes\":{\"data_source\":{\"id\":\"e7cf2470-2f83-420e-9508-a2ec1f2abf2b\",\"type\":\"ColumnDataSource\"},\"glyph\":{\"id\":\"d5479085-35a4-4226-b05d-182dd9789e1e\",\"type\":\"Line\"},\"hover_glyph\":null,\"muted_glyph\":null,\"nonselection_glyph\":{\"id\":\"110055d3-d0c0-45d5-946a-8bf6ff2c6c52\",\"type\":\"Line\"},\"selection_glyph\":null,\"view\":{\"id\":\"d928c0f7-dbe3-491e-b5fa-c2ca5ca2b584\",\"type\":\"CDSView\"}},\"id\":\"f3217724-d759-4bd9-a149-02f3d4452dd7\",\"type\":\"GlyphRenderer\"},{\"attributes\":{\"axis_label\":\"pressure [mb]\",\"formatter\":{\"id\":\"260c2989-29ab-4745-9ef2-c52b8f2dc870\",\"type\":\"BasicTickFormatter\"},\"plot\":{\"id\":\"b5a1aff6-002c-4975-a650-8506983b7806\",\"subtype\":\"Figure\",\"type\":\"Plot\"},\"ticker\":{\"id\":\"b28e146e-bed8-4a59-96a6-697374f963dd\",\"type\":\"BasicTicker\"}},\"id\":\"cf1e2455-c999-4ebc-9d92-79dcf2971ebe\",\"type\":\"LinearAxis\"},{\"attributes\":{\"active_drag\":\"auto\",\"active_inspect\":\"auto\",\"active_scroll\":\"auto\",\"active_tap\":\"auto\",\"tools\":[{\"id\":\"f4ca6692-0ec5-4493-84eb-d61435f9339d\",\"type\":\"PanTool\"},{\"id\":\"193f300b-c434-4686-8ab5-b9b47f5a38e6\",\"type\":\"WheelZoomTool\"},{\"id\":\"8d35bbad-2540-4e0a-9e93-ee36e0438e81\",\"type\":\"BoxZoomTool\"},{\"id\":\"6c741fa5-770f-4ecb-9541-441c8b4f9ba4\",\"type\":\"SaveTool\"},{\"id\":\"4afed71d-0ed8-40d9-97d0-ebc7e916eabb\",\"type\":\"ResetTool\"},{\"id\":\"496610bf-3da2-4c77-91df-6fe19d699d2f\",\"type\":\"HelpTool\"}]},\"id\":\"3d078644-8f83-47b4-b4f1-60a30c03baee\",\"type\":\"Toolbar\"},{\"attributes\":{\"children\":[{\"id\":\"e488abea-64ae-4a9f-9aa1-7a4e991edf47\",\"type\":\"Row\"}]},\"id\":\"d62e4062-b81d-44ec-8b83-8a38a5e6eccc\",\"type\":\"Column\"},{\"attributes\":{\"source\":{\"id\":\"e7cf2470-2f83-420e-9508-a2ec1f2abf2b\",\"type\":\"ColumnDataSource\"}},\"id\":\"d928c0f7-dbe3-491e-b5fa-c2ca5ca2b584\",\"type\":\"CDSView\"},{\"attributes\":{},\"id\":\"09a584ce-cf71-43ae-9549-957849d38a89\",\"type\":\"LinearScale\"},{\"attributes\":{},\"id\":\"f4ca6692-0ec5-4493-84eb-d61435f9339d\",\"type\":\"PanTool\"},{\"attributes\":{\"callback\":null,\"end\":0.00046131625283699995,\"start\":-4.9853976537e-05},\"id\":\"7b67c8f4-649b-4a0d-839f-9705f922f7db\",\"type\":\"Range1d\"},{\"attributes\":{\"fill_alpha\":{\"value\":0.1},\"fill_color\":{\"value\":\"#1f77b4\"},\"line_alpha\":{\"value\":0.1},\"line_color\":{\"value\":\"#1f77b4\"},\"x\":{\"field\":\"x\"},\"y\":{\"field\":\"y\"}},\"id\":\"32a35f4f-8914-4e3b-92d1-64495cbaf577\",\"type\":\"Circle\"},{\"attributes\":{\"bottom_units\":\"screen\",\"fill_alpha\":{\"value\":0.5},\"fill_color\":{\"value\":\"lightgrey\"},\"left_units\":\"screen\",\"level\":\"overlay\",\"line_alpha\":{\"value\":1.0},\"line_color\":{\"value\":\"black\"},\"line_dash\":[4,4],\"line_width\":{\"value\":2},\"plot\":null,\"render_mode\":\"css\",\"right_units\":\"screen\",\"top_units\":\"screen\"},\"id\":\"f50f180e-f4a6-4615-a7c4-33d3a104dcde\",\"type\":\"BoxAnnotation\"},{\"attributes\":{},\"id\":\"193f300b-c434-4686-8ab5-b9b47f5a38e6\",\"type\":\"WheelZoomTool\"},{\"attributes\":{\"dimension\":1,\"plot\":{\"id\":\"b5a1aff6-002c-4975-a650-8506983b7806\",\"subtype\":\"Figure\",\"type\":\"Plot\"},\"ticker\":{\"id\":\"b28e146e-bed8-4a59-96a6-697374f963dd\",\"type\":\"BasicTicker\"}},\"id\":\"07ba7653-f36f-4dab-8792-53449f2314f2\",\"type\":\"Grid\"},{\"attributes\":{\"callback\":null,\"data\":{\"x\":{\"__ndarray__\":\"bFNkOfWH9L7nOSYRvVT0vuRZIHf/5fO+UBVoKJds874Gps70OeryvqXv8lqwXfK+UClk0NTH8b7GUOuJ8CfxviB7PM1gffC+BvqOIfaP774S6QDCvw7uvmUN2oR6duy+t9gmn33A6r5imRohOnDovpaB4pQz9t2+uCWrrkF41j4PsYVr+Dr9PjAP+CbLTxA/DWEy3iGIHT89rcLmUDUoP2xZbxuBsjI/Joq6ig67Oj8Edmsbhuc9Pzu3krWWuDo/HrCElGysNT+fw2PcYOovP91o/4sDVSY/lEYbHTsBHj/g9Xcb4uwSP9I6mjrjYwU/lodOjHq68j73PYgT+tW3Pp/3GknCHOW+mdbNnYXq8r4u3c0WBkr5vkr6qZeK8Pu+X1wOhHQo/L4ZG5NlYtL9viW/iUvA6v++9vznfn08Ab+Xbkhb3ywGv9nvfMDhjRK/dCCB7n6aEr/pMQ3wAYD1Pnua8MIh7DI/IjCZHTeySj9xLFkh5gNbP8pmRc5mwGY/eRwbRYOJcD+eFjmMjS53P4lbUJrwhH8/HChipCbghD+5f4i0XQaLP5b8C+HxHZE/yIn4TMtPlT/bV3ldGhqaPx/Ge0BmiJ8/Ew/hxebWoj+cIZR48kmmP37F+R+JLKo/TzMjCs14rj/Q13NsGX2xP0wztyQCs7M/JRFZJQoNtz+bdHwwAL+5PzoGAYW8Frw/LZy9lgRmvj8g+VoCtqS/P2clc039k8A/iJIc8sebwT+ZsMO5AuHCP8rruTOwYcQ/ycG2jyYoxj/DaRxFMVTIP4Crpxy008s/\",\"dtype\":\"float64\",\"shape\":[75]},\"y\":{\"__ndarray__\":\"GhExyth1ND/Sv8nbtpRIP2vylNV0PVE/aTum7souWD/At0SJ8fVgPw3Iuahxymc/MSNhhJWvcD/bTfBN02d3P2zb5nxnaoA/CD5h5MAGhz8NmeH1TyaQP+zrCsc9p5Y/LbKd76fGnz/bLW5ISEmmPww9YvTcQq8/JV2OstnstT8Er5Y7M8G+P0c+r3jqkcU/5h99k6ZBzj88bCIzFzjVP4enV8oyxN0//yH99nXg5D8qOpLLf0jtP5kqGJXUifQ/c9cS8kHP/D+/DpwzojQEQIEmwoanVwxA4lgXt9HgE0BSSZ2AJuIbQAMJih9jjiNA5q4l5INuK0AwTKYKRj0zQNv5fmq8/DpAaCJseHrtQkB/+zpwzoxKQM3MzMzMeFJAZmZmZmZqWEAAAAAAAFxeQM3MzMzMJmJAmpmZmZkfZUBmZmZmZhhoQDMzMzMzEWtAAAAAAAAKbkBmZmZmZoFwQM3MzMzM/XFAMzMzMzN6c0CamZmZmfZ0QAAAAAAAc3ZAZmZmZmbvd0DNzMzMzGt5QDMzMzMz6HpAmpmZmZlkfEAAAAAAAOF9QGZmZmZmXX9AZmZmZuZsgECamZmZGSuBQM3MzMxM6YFAAAAAAICngkAzMzMzs2WDQGZmZmbmI4RAmpmZmRnihEDNzMzMTKCFQAAAAACAXoZAMzMzM7Mch0BmZmZm5tqHQJqZmZkZmYhAzczMzExXiUAAAAAAgBWKQDMzMzOz04pAZmZmZuaRi0CamZmZGVCMQM3MzMxMDo1AAAAAAIDMjUAzMzMzs4qOQGZmZmbmSI9A\",\"dtype\":\"float64\",\"shape\":[75]}},\"selected\":{\"id\":\"e2f0a38d-09f1-499c-8986-058523448d27\",\"type\":\"Selection\"},\"selection_policy\":{\"id\":\"25f7452f-b11a-4a39-ab24-d2ce7a5557eb\",\"type\":\"UnionRenderers\"}},\"id\":\"85ece881-c52e-46d9-9a6a-a312945dd263\",\"type\":\"ColumnDataSource\"},{\"attributes\":{\"callback\":null,\"data\":{\"x\":{\"__ndarray__\":\"6U4+NOPH6b5nazM3KbrpvlNRb4ummum+XVlCQZV16b5WJ2uNPkvpvsZmQCtQG+m+CNcXksPl6L4PAgHaNqrovttAHxCcaOi+TYdxKbIg6L6Zn/xKTdLnvmyYtXc/fee+WhSbPwkh575UTyw7kaDmvoxz9PlZb+S+ro9sMBOh277pMJEWx5Kgvi7wDhn0WeM+bs0C82MY+T5Og+c07c4HP+saCYbp6BM/p9ax37PVHT8F3lUpqPcgP3j2FEONQB4/79rGvDBAGD8fqB5V1WARP7lqsQSbLwc/EIkamD+T/D6sxJvC6/HtPlW7mZ4WntI+bRvUCsU5yb72rRzsMCbivvQ5/o9MN+u+LFybV3A48b4wzeA6GVv0viVvDHcYFPa+nu1rbZLp9r7TEkIKCxP5vhsqvn25Hfy+maiL+itOAL8N1+SxqIIHv5UFQ81byxe/ZJPmPkKHIr9Qpd0wEv8jvzKdDQVwtAW/Psb01cvJMz8ltX+reFdQPzSNkM/oMGE/SmqzKik4bD9Z4JmR1vp0PwF+nkGEDH0/hUs6uMgjgz+6D+ShCGuIP7olQecsiI4/LLDQ8ETwkj8pdHdf5GeXPwAb8Kwj05w/rRMdZgSkoT/+wFHBjGGlPxplvd35mqk/hNGEpFEsrj8/76mpwWqxPzls+CD/obM/6CoBUPnvtj9QHFrgYYe5P0lAhxdZuLs/wAmXFw7ovT9c71ifOzC/PzhXES/EdcA/54QSl52wwT/ex01KHDvDP+au6T1xD8U/IkzwXQczxz9pk4m+usLJP8kzOUJwf80/\",\"dtype\":\"float64\",\"shape\":[75]},\"y\":{\"__ndarray__\":\"GhExyth1ND/Sv8nbtpRIP2vylNV0PVE/aTum7souWD/At0SJ8fVgPw3Iuahxymc/MSNhhJWvcD/bTfBN02d3P2zb5nxnaoA/CD5h5MAGhz8NmeH1TyaQP+zrCsc9p5Y/LbKd76fGnz/bLW5ISEmmPww9YvTcQq8/JV2OstnstT8Er5Y7M8G+P0c+r3jqkcU/5h99k6ZBzj88bCIzFzjVP4enV8oyxN0//yH99nXg5D8qOpLLf0jtP5kqGJXUifQ/c9cS8kHP/D+/DpwzojQEQIEmwoanVwxA4lgXt9HgE0BSSZ2AJuIbQAMJih9jjiNA5q4l5INuK0AwTKYKRj0zQNv5fmq8/DpAaCJseHrtQkB/+zpwzoxKQM3MzMzMeFJAZmZmZmZqWEAAAAAAAFxeQM3MzMzMJmJAmpmZmZkfZUBmZmZmZhhoQDMzMzMzEWtAAAAAAAAKbkBmZmZmZoFwQM3MzMzM/XFAMzMzMzN6c0CamZmZmfZ0QAAAAAAAc3ZAZmZmZmbvd0DNzMzMzGt5QDMzMzMz6HpAmpmZmZlkfEAAAAAAAOF9QGZmZmZmXX9AZmZmZuZsgECamZmZGSuBQM3MzMxM6YFAAAAAAICngkAzMzMzs2WDQGZmZmbmI4RAmpmZmRnihEDNzMzMTKCFQAAAAACAXoZAMzMzM7Mch0BmZmZm5tqHQJqZmZkZmYhAzczMzExXiUAAAAAAgBWKQDMzMzOz04pAZmZmZuaRi0CamZmZGVCMQM3MzMxMDo1AAAAAAIDMjUAzMzMzs4qOQGZmZmbmSI9A\",\"dtype\":\"float64\",\"shape\":[75]}},\"selected\":{\"id\":\"eade2080-80ae-4a51-8a79-9808cad12e3c\",\"type\":\"Selection\"},\"selection_policy\":{\"id\":\"d7c5e30d-8fa5-48d6-b5bf-6c259c1bc93d\",\"type\":\"UnionRenderers\"}},\"id\":\"6bfce7eb-1048-4baa-a1b2-eeb3aad12a1b\",\"type\":\"ColumnDataSource\"},{\"attributes\":{\"overlay\":{\"id\":\"f50f180e-f4a6-4615-a7c4-33d3a104dcde\",\"type\":\"BoxAnnotation\"}},\"id\":\"8d35bbad-2540-4e0a-9e93-ee36e0438e81\",\"type\":\"BoxZoomTool\"},{\"attributes\":{\"below\":[{\"id\":\"6d2e8981-c22d-45df-b095-e29a0e42f369\",\"type\":\"LinearAxis\"}],\"left\":[{\"id\":\"c0c94b56-1958-4a53-ac10-49f921fc233c\",\"type\":\"LogAxis\"}],\"plot_height\":500,\"plot_width\":560,\"renderers\":[{\"id\":\"6d2e8981-c22d-45df-b095-e29a0e42f369\",\"type\":\"LinearAxis\"},{\"id\":\"9809ea88-8f42-4d5f-9b07-cf44ae9be302\",\"type\":\"Grid\"},{\"id\":\"c0c94b56-1958-4a53-ac10-49f921fc233c\",\"type\":\"LogAxis\"},{\"id\":\"cb0e8ef3-2365-49dc-8627-4be2ad95783c\",\"type\":\"Grid\"},{\"id\":\"f50f180e-f4a6-4615-a7c4-33d3a104dcde\",\"type\":\"BoxAnnotation\"},{\"id\":\"b8e3ab91-34bd-4c62-8f31-b0b0e102a899\",\"type\":\"GlyphRenderer\"},{\"id\":\"f3a0bd5f-1d69-4ac2-bda3-1123bb417208\",\"type\":\"GlyphRenderer\"},{\"id\":\"053da766-a60a-4745-8d11-f3f657b78fcf\",\"type\":\"GlyphRenderer\"},{\"id\":\"b08de479-2032-4d5f-817b-39d7cb865406\",\"type\":\"GlyphRenderer\"},{\"id\":\"9f476aec-a1ec-40a3-b0cc-5414b81c0611\",\"type\":\"GlyphRenderer\"},{\"id\":\"da4df458-9240-4555-9fb2-4bb2445fa0cb\",\"type\":\"Legend\"}],\"right\":[{\"id\":\"da4df458-9240-4555-9fb2-4bb2445fa0cb\",\"type\":\"Legend\"}],\"title\":{\"id\":\"f3b71024-9ef5-4c9e-af87-2c965c68c30f\",\"type\":\"Title\"},\"toolbar\":{\"id\":\"3d078644-8f83-47b4-b4f1-60a30c03baee\",\"type\":\"Toolbar\"},\"toolbar_location\":null,\"x_range\":{\"id\":\"7b67c8f4-649b-4a0d-839f-9705f922f7db\",\"type\":\"Range1d\"},\"x_scale\":{\"id\":\"09a584ce-cf71-43ae-9549-957849d38a89\",\"type\":\"LinearScale\"},\"y_range\":{\"id\":\"4f2cacc2-1f27-426f-870a-c6ceacc09bc2\",\"type\":\"Range1d\"},\"y_scale\":{\"id\":\"7fbd628b-642c-4ec3-ad4e-07a305ab5a4f\",\"type\":\"LogScale\"}},\"id\":\"eb6e6a22-ba91-45ef-bdbb-370a4cf38ba2\",\"subtype\":\"Figure\",\"type\":\"Plot\"},{\"attributes\":{\"axis_label\":\"pressure [mb]\",\"formatter\":{\"id\":\"dd83081c-3e37-4973-872a-df3475089951\",\"type\":\"LogTickFormatter\"},\"plot\":{\"id\":\"eb6e6a22-ba91-45ef-bdbb-370a4cf38ba2\",\"subtype\":\"Figure\",\"type\":\"Plot\"},\"ticker\":{\"id\":\"bccd76c4-18d7-46d2-9f8e-6ff92121e5d6\",\"type\":\"LogTicker\"}},\"id\":\"c0c94b56-1958-4a53-ac10-49f921fc233c\",\"type\":\"LogAxis\"},{\"attributes\":{\"callback\":null,\"data\":{\"x\":{\"__ndarray__\":\"6U4+NOPH6b5nazM3KbrpvlNRb4ummum+XVlCQZV16b5WJ2uNPkvpvsZmQCtQG+m+CNcXksPl6L4PAgHaNqrovttAHxCcaOi+TYdxKbIg6L6Zn/xKTdLnvmyYtXc/fee+WhSbPwkh575UTyw7kaDmvoxz9PlZb+S+ro9sMBOh277pMJEWx5Kgvi7wDhn0WeM+bs0C82MY+T5Og+c07c4HP+saCYbp6BM/p9ax37PVHT8F3lUpqPcgP3j2FEONQB4/79rGvDBAGD8fqB5V1WARP7lqsQSbLwc/EIkamD+T/D6sxJvC6/HtPlW7mZ4WntI+bRvUCsU5yb72rRzsMCbivvQ5/o9MN+u+LFybV3A48b4wzeA6GVv0viVvDHcYFPa+nu1rbZLp9r7TEkIKCxP5vhsqvn25Hfy+maiL+itOAL8N1+SxqIIHv5UFQ81byxe/ZJPmPkKHIr9Qpd0wEv8jvzKdDQVwtAW/Psb01cvJMz8ltX+reFdQPzSNkM/oMGE/SmqzKik4bD9Z4JmR1vp0PwF+nkGEDH0/hUs6uMgjgz+6D+ShCGuIP7olQecsiI4/LLDQ8ETwkj8pdHdf5GeXPwAb8Kwj05w/rRMdZgSkoT/+wFHBjGGlPxplvd35mqk/hNGEpFEsrj8/76mpwWqxPzls+CD/obM/6CoBUPnvtj9QHFrgYYe5P0lAhxdZuLs/wAmXFw7ovT9c71ifOzC/PzhXES/EdcA/54QSl52wwT/ex01KHDvDP+au6T1xD8U/IkzwXQczxz9pk4m+usLJP8kzOUJwf80/\",\"dtype\":\"float64\",\"shape\":[75]},\"y\":{\"__ndarray__\":\"GhExyth1ND/Sv8nbtpRIP2vylNV0PVE/aTum7souWD/At0SJ8fVgPw3Iuahxymc/MSNhhJWvcD/bTfBN02d3P2zb5nxnaoA/CD5h5MAGhz8NmeH1TyaQP+zrCsc9p5Y/LbKd76fGnz/bLW5ISEmmPww9YvTcQq8/JV2OstnstT8Er5Y7M8G+P0c+r3jqkcU/5h99k6ZBzj88bCIzFzjVP4enV8oyxN0//yH99nXg5D8qOpLLf0jtP5kqGJXUifQ/c9cS8kHP/D+/DpwzojQEQIEmwoanVwxA4lgXt9HgE0BSSZ2AJuIbQAMJih9jjiNA5q4l5INuK0AwTKYKRj0zQNv5fmq8/DpAaCJseHrtQkB/+zpwzoxKQM3MzMzMeFJAZmZmZmZqWEAAAAAAAFxeQM3MzMzMJmJAmpmZmZkfZUBmZmZmZhhoQDMzMzMzEWtAAAAAAAAKbkBmZmZmZoFwQM3MzMzM/XFAMzMzMzN6c0CamZmZmfZ0QAAAAAAAc3ZAZmZmZmbvd0DNzMzMzGt5QDMzMzMz6HpAmpmZmZlkfEAAAAAAAOF9QGZmZmZmXX9AZmZmZuZsgECamZmZGSuBQM3MzMxM6YFAAAAAAICngkAzMzMzs2WDQGZmZmbmI4RAmpmZmRnihEDNzMzMTKCFQAAAAACAXoZAMzMzM7Mch0BmZmZm5tqHQJqZmZkZmYhAzczMzExXiUAAAAAAgBWKQDMzMzOz04pAZmZmZuaRi0CamZmZGVCMQM3MzMxMDo1AAAAAAIDMjUAzMzMzs4qOQGZmZmbmSI9A\",\"dtype\":\"float64\",\"shape\":[75]}},\"selected\":{\"id\":\"a5fd167a-9d91-446d-a898-4b64f9ef3ea0\",\"type\":\"Selection\"},\"selection_policy\":{\"id\":\"7887a2e5-5a4f-4717-8ee1-39183cba1e74\",\"type\":\"UnionRenderers\"}},\"id\":\"72085361-b4f4-4d9c-a375-9acdf67d13b2\",\"type\":\"ColumnDataSource\"},{\"attributes\":{},\"id\":\"7fbd628b-642c-4ec3-ad4e-07a305ab5a4f\",\"type\":\"LogScale\"},{\"attributes\":{\"line_alpha\":0.6,\"line_color\":\"#984ea3\",\"line_width\":3,\"x\":{\"field\":\"x\"},\"y\":{\"field\":\"y\"}},\"id\":\"3600f19f-7663-45ee-a210-fb85b525969f\",\"type\":\"Line\"},{\"attributes\":{\"axis_label\":\"cooling rate [K/day]\",\"formatter\":{\"id\":\"2f670eef-6adf-4b1f-bd70-4e15b7823777\",\"type\":\"BasicTickFormatter\"},\"plot\":{\"id\":\"eb6e6a22-ba91-45ef-bdbb-370a4cf38ba2\",\"subtype\":\"Figure\",\"type\":\"Plot\"},\"ticker\":{\"id\":\"765e8643-edbb-487d-901a-854fe5fee973\",\"type\":\"BasicTicker\"}},\"id\":\"6d2e8981-c22d-45df-b095-e29a0e42f369\",\"type\":\"LinearAxis\"},{\"attributes\":{},\"id\":\"c624a785-d58d-4c4a-b003-83ce846277b7\",\"type\":\"WheelZoomTool\"},{\"attributes\":{\"num_minor_ticks\":10},\"id\":\"bccd76c4-18d7-46d2-9f8e-6ff92121e5d6\",\"type\":\"LogTicker\"},{\"attributes\":{\"fill_alpha\":{\"value\":0.7},\"fill_color\":{\"value\":\"#4daf4a\"},\"line_alpha\":{\"value\":0.7},\"line_color\":{\"value\":\"#4daf4a\"},\"x\":{\"field\":\"x\"},\"y\":{\"field\":\"y\"}},\"id\":\"b50a2df0-12be-4beb-8505-80f42c11a138\",\"type\":\"Circle\"},{\"attributes\":{\"dimension\":1,\"plot\":{\"id\":\"eb6e6a22-ba91-45ef-bdbb-370a4cf38ba2\",\"subtype\":\"Figure\",\"type\":\"Plot\"},\"ticker\":{\"id\":\"bccd76c4-18d7-46d2-9f8e-6ff92121e5d6\",\"type\":\"LogTicker\"}},\"id\":\"cb0e8ef3-2365-49dc-8627-4be2ad95783c\",\"type\":\"Grid\"},{\"attributes\":{},\"id\":\"e3d6d22c-5acb-43fe-b9ce-1cea2231f569\",\"type\":\"PanTool\"},{\"attributes\":{\"data_source\":{\"id\":\"12276b3b-fa79-40fd-92b3-92c8cc400bda\",\"type\":\"ColumnDataSource\"},\"glyph\":{\"id\":\"b50a2df0-12be-4beb-8505-80f42c11a138\",\"type\":\"Circle\"},\"hover_glyph\":null,\"muted_glyph\":null,\"nonselection_glyph\":{\"id\":\"32a35f4f-8914-4e3b-92d1-64495cbaf577\",\"type\":\"Circle\"},\"selection_glyph\":null,\"view\":{\"id\":\"7a34bab0-cc08-4033-b611-b30956e3d406\",\"type\":\"CDSView\"}},\"id\":\"f3a0bd5f-1d69-4ac2-bda3-1123bb417208\",\"type\":\"GlyphRenderer\"},{\"attributes\":{},\"id\":\"765e8643-edbb-487d-901a-854fe5fee973\",\"type\":\"BasicTicker\"},{\"attributes\":{\"plot\":{\"id\":\"eb6e6a22-ba91-45ef-bdbb-370a4cf38ba2\",\"subtype\":\"Figure\",\"type\":\"Plot\"},\"ticker\":{\"id\":\"765e8643-edbb-487d-901a-854fe5fee973\",\"type\":\"BasicTicker\"}},\"id\":\"9809ea88-8f42-4d5f-9b07-cf44ae9be302\",\"type\":\"Grid\"},{\"attributes\":{\"callback\":null,\"data\":{\"x\":{\"__ndarray__\":\"bFNkOfWH9L7nOSYRvVT0vuRZIHf/5fO+UBVoKJds874Gps70OeryvqXv8lqwXfK+UClk0NTH8b7GUOuJ8CfxviB7PM1gffC+BvqOIfaP774S6QDCvw7uvmUN2oR6duy+t9gmn33A6r5imRohOnDovpaB4pQz9t2+uCWrrkF41j4PsYVr+Dr9PjAP+CbLTxA/DWEy3iGIHT89rcLmUDUoP2xZbxuBsjI/Joq6ig67Oj8Edmsbhuc9Pzu3krWWuDo/HrCElGysNT+fw2PcYOovP91o/4sDVSY/lEYbHTsBHj/g9Xcb4uwSP9I6mjrjYwU/lodOjHq68j73PYgT+tW3Pp/3GknCHOW+mdbNnYXq8r4u3c0WBkr5vkr6qZeK8Pu+X1wOhHQo/L4ZG5NlYtL9viW/iUvA6v++9vznfn08Ab+Xbkhb3ywGv9nvfMDhjRK/dCCB7n6aEr/pMQ3wAYD1Pnua8MIh7DI/IjCZHTeySj9xLFkh5gNbP8pmRc5mwGY/eRwbRYOJcD+eFjmMjS53P4lbUJrwhH8/HChipCbghD+5f4i0XQaLP5b8C+HxHZE/yIn4TMtPlT/bV3ldGhqaPx/Ge0BmiJ8/Ew/hxebWoj+cIZR48kmmP37F+R+JLKo/TzMjCs14rj/Q13NsGX2xP0wztyQCs7M/JRFZJQoNtz+bdHwwAL+5PzoGAYW8Frw/LZy9lgRmvj8g+VoCtqS/P2clc039k8A/iJIc8sebwT+ZsMO5AuHCP8rruTOwYcQ/ycG2jyYoxj/DaRxFMVTIP4Crpxy008s/\",\"dtype\":\"float64\",\"shape\":[75]},\"y\":{\"__ndarray__\":\"GhExyth1ND/Sv8nbtpRIP2vylNV0PVE/aTum7souWD/At0SJ8fVgPw3Iuahxymc/MSNhhJWvcD/bTfBN02d3P2zb5nxnaoA/CD5h5MAGhz8NmeH1TyaQP+zrCsc9p5Y/LbKd76fGnz/bLW5ISEmmPww9YvTcQq8/JV2OstnstT8Er5Y7M8G+P0c+r3jqkcU/5h99k6ZBzj88bCIzFzjVP4enV8oyxN0//yH99nXg5D8qOpLLf0jtP5kqGJXUifQ/c9cS8kHP/D+/DpwzojQEQIEmwoanVwxA4lgXt9HgE0BSSZ2AJuIbQAMJih9jjiNA5q4l5INuK0AwTKYKRj0zQNv5fmq8/DpAaCJseHrtQkB/+zpwzoxKQM3MzMzMeFJAZmZmZmZqWEAAAAAAAFxeQM3MzMzMJmJAmpmZmZkfZUBmZmZmZhhoQDMzMzMzEWtAAAAAAAAKbkBmZmZmZoFwQM3MzMzM/XFAMzMzMzN6c0CamZmZmfZ0QAAAAAAAc3ZAZmZmZmbvd0DNzMzMzGt5QDMzMzMz6HpAmpmZmZlkfEAAAAAAAOF9QGZmZmZmXX9AZmZmZuZsgECamZmZGSuBQM3MzMxM6YFAAAAAAICngkAzMzMzs2WDQGZmZmbmI4RAmpmZmRnihEDNzMzMTKCFQAAAAACAXoZAMzMzM7Mch0BmZmZm5tqHQJqZmZkZmYhAzczMzExXiUAAAAAAgBWKQDMzMzOz04pAZmZmZuaRi0CamZmZGVCMQM3MzMxMDo1AAAAAAIDMjUAzMzMzs4qOQGZmZmbmSI9A\",\"dtype\":\"float64\",\"shape\":[75]}},\"selected\":{\"id\":\"2f096161-af40-4c81-899c-b2e5f167005e\",\"type\":\"Selection\"},\"selection_policy\":{\"id\":\"dd780a67-b92b-4881-a33a-d3200de552da\",\"type\":\"UnionRenderers\"}},\"id\":\"12276b3b-fa79-40fd-92b3-92c8cc400bda\",\"type\":\"ColumnDataSource\"},{\"attributes\":{},\"id\":\"6c741fa5-770f-4ecb-9541-441c8b4f9ba4\",\"type\":\"SaveTool\"},{\"attributes\":{\"active_drag\":\"auto\",\"active_inspect\":\"auto\",\"active_scroll\":\"auto\",\"active_tap\":\"auto\",\"tools\":[{\"id\":\"e3d6d22c-5acb-43fe-b9ce-1cea2231f569\",\"type\":\"PanTool\"},{\"id\":\"c624a785-d58d-4c4a-b003-83ce846277b7\",\"type\":\"WheelZoomTool\"},{\"id\":\"16ba70ff-b0ee-4e09-951f-d7d1aff8703b\",\"type\":\"BoxZoomTool\"},{\"id\":\"b6c79beb-f5f4-4b9f-a8fd-443e5827df76\",\"type\":\"SaveTool\"},{\"id\":\"525ed018-1e65-4067-9cc4-cd7a4a80e1a6\",\"type\":\"ResetTool\"},{\"id\":\"05f51a5b-ac45-40c9-a657-5f8ad1b27b86\",\"type\":\"HelpTool\"}]},\"id\":\"a71cc5b2-e77c-419b-828e-61b167e355cc\",\"type\":\"Toolbar\"},{\"attributes\":{\"line_alpha\":0.6,\"line_color\":\"#e41a1c\",\"line_dash\":[6],\"line_width\":5,\"x\":{\"field\":\"x\"},\"y\":{\"field\":\"y\"}},\"id\":\"23281869-fb61-4200-a978-06b7ae9c3ce0\",\"type\":\"Line\"},{\"attributes\":{},\"id\":\"4afed71d-0ed8-40d9-97d0-ebc7e916eabb\",\"type\":\"ResetTool\"},{\"attributes\":{\"line_alpha\":0.1,\"line_color\":\"#1f77b4\",\"line_dash\":[6],\"line_width\":5,\"x\":{\"field\":\"x\"},\"y\":{\"field\":\"y\"}},\"id\":\"2fb794ae-68d7-4628-8fe1-23775f6a22c5\",\"type\":\"Line\"},{\"attributes\":{\"callback\":null,\"end\":0.01,\"start\":1020},\"id\":\"4f2cacc2-1f27-426f-870a-c6ceacc09bc2\",\"type\":\"Range1d\"},{\"attributes\":{\"plot\":{\"id\":\"b5a1aff6-002c-4975-a650-8506983b7806\",\"subtype\":\"Figure\",\"type\":\"Plot\"},\"ticker\":{\"id\":\"87265b19-93aa-4019-96b5-5a47f21a291e\",\"type\":\"BasicTicker\"}},\"id\":\"b3783c88-e9c0-46ae-b53c-9554fa4f119c\",\"type\":\"Grid\"},{\"attributes\":{},\"id\":\"095c3a57-30ba-49fb-b484-aae80a10b7fe\",\"type\":\"LinearScale\"},{\"attributes\":{\"data_source\":{\"id\":\"6bfce7eb-1048-4baa-a1b2-eeb3aad12a1b\",\"type\":\"ColumnDataSource\"},\"glyph\":{\"id\":\"3600f19f-7663-45ee-a210-fb85b525969f\",\"type\":\"Line\"},\"hover_glyph\":null,\"muted_glyph\":null,\"nonselection_glyph\":{\"id\":\"d918d80f-0ba5-4c21-8956-a78b7e675ba5\",\"type\":\"Line\"},\"selection_glyph\":null,\"view\":{\"id\":\"d217e4a6-96b3-439b-8e93-89b5cea0b24d\",\"type\":\"CDSView\"}},\"id\":\"9f476aec-a1ec-40a3-b0cc-5414b81c0611\",\"type\":\"GlyphRenderer\"},{\"attributes\":{\"line_alpha\":0.1,\"line_color\":\"#1f77b4\",\"line_dash\":[6],\"line_width\":5,\"x\":{\"field\":\"x\"},\"y\":{\"field\":\"y\"}},\"id\":\"8b4fe010-b576-47d7-bb22-68f33796ec24\",\"type\":\"Line\"},{\"attributes\":{\"fill_alpha\":{\"value\":0.7},\"fill_color\":{\"value\":\"#984ea3\"},\"line_alpha\":{\"value\":0.7},\"line_color\":{\"value\":\"#984ea3\"},\"x\":{\"field\":\"x\"},\"y\":{\"field\":\"y\"}},\"id\":\"a0593025-7ef7-487d-825c-022ee8baf4ca\",\"type\":\"Square\"},{\"attributes\":{\"data_source\":{\"id\":\"72085361-b4f4-4d9c-a375-9acdf67d13b2\",\"type\":\"ColumnDataSource\"},\"glyph\":{\"id\":\"2c11b756-ea5c-4f3d-863c-2295c971002a\",\"type\":\"Square\"},\"hover_glyph\":null,\"muted_glyph\":null,\"nonselection_glyph\":{\"id\":\"0fa6f925-9fbc-4a3a-8dc4-78f640a44f82\",\"type\":\"Square\"},\"selection_glyph\":null,\"view\":{\"id\":\"4a3d1fd2-2c82-46fe-b6d9-01fb9dcb4e44\",\"type\":\"CDSView\"}},\"id\":\"b08de479-2032-4d5f-817b-39d7cb865406\",\"type\":\"GlyphRenderer\"},{\"attributes\":{\"source\":{\"id\":\"72085361-b4f4-4d9c-a375-9acdf67d13b2\",\"type\":\"ColumnDataSource\"}},\"id\":\"4a3d1fd2-2c82-46fe-b6d9-01fb9dcb4e44\",\"type\":\"CDSView\"},{\"attributes\":{},\"id\":\"496610bf-3da2-4c77-91df-6fe19d699d2f\",\"type\":\"HelpTool\"},{\"attributes\":{\"line_color\":\"#4daf4a\",\"line_width\":1.5,\"x\":{\"field\":\"x\"},\"y\":{\"field\":\"y\"}},\"id\":\"17f2914e-2615-4d84-84dc-27085c1fda6c\",\"type\":\"Line\"},{\"attributes\":{\"source\":{\"id\":\"37a649c9-00d2-4c81-b0dd-88fe73d30393\",\"type\":\"ColumnDataSource\"}},\"id\":\"57c3fe64-81c6-4084-b5eb-529adb000414\",\"type\":\"CDSView\"},{\"attributes\":{\"source\":{\"id\":\"58f510fa-74c4-4ce2-8e87-50997f46a53d\",\"type\":\"ColumnDataSource\"}},\"id\":\"fec82278-8324-4977-acfb-121df0c73cf1\",\"type\":\"CDSView\"},{\"attributes\":{\"plot\":null,\"text\":\"Linear pressure scale\"},\"id\":\"7aa2b9d7-a528-4411-9b56-1bd44c45ed4e\",\"type\":\"Title\"},{\"attributes\":{},\"id\":\"b28e146e-bed8-4a59-96a6-697374f963dd\",\"type\":\"BasicTicker\"},{\"attributes\":{\"source\":{\"id\":\"12276b3b-fa79-40fd-92b3-92c8cc400bda\",\"type\":\"ColumnDataSource\"}},\"id\":\"7a34bab0-cc08-4033-b611-b30956e3d406\",\"type\":\"CDSView\"},{\"attributes\":{\"source\":{\"id\":\"3d9b40ef-35dc-4620-99e4-40fad368a221\",\"type\":\"ColumnDataSource\"}},\"id\":\"fe627f97-94c2-4006-859c-efce9bf108dd\",\"type\":\"CDSView\"},{\"attributes\":{\"below\":[{\"id\":\"61832759-53dd-4276-b7dc-3c6201d6e368\",\"type\":\"LinearAxis\"}],\"left\":[{\"id\":\"cf1e2455-c999-4ebc-9d92-79dcf2971ebe\",\"type\":\"LinearAxis\"}],\"plot_height\":500,\"plot_width\":400,\"renderers\":[{\"id\":\"61832759-53dd-4276-b7dc-3c6201d6e368\",\"type\":\"LinearAxis\"},{\"id\":\"b3783c88-e9c0-46ae-b53c-9554fa4f119c\",\"type\":\"Grid\"},{\"id\":\"cf1e2455-c999-4ebc-9d92-79dcf2971ebe\",\"type\":\"LinearAxis\"},{\"id\":\"07ba7653-f36f-4dab-8792-53449f2314f2\",\"type\":\"Grid\"},{\"id\":\"8ecd8076-d8e1-45a4-8d42-51d513bae4ad\",\"type\":\"BoxAnnotation\"},{\"id\":\"b586bb17-c0d8-4b6c-a6c7-088249f576dc\",\"type\":\"GlyphRenderer\"},{\"id\":\"09066ee5-c91a-4778-bc5d-09fb373f90b8\",\"type\":\"GlyphRenderer\"},{\"id\":\"14207c1b-adbd-4c7e-9ed8-28769c5eb823\",\"type\":\"GlyphRenderer\"},{\"id\":\"fdd2219c-c0b8-4bd2-80dc-cdd88cc0ecfe\",\"type\":\"GlyphRenderer\"},{\"id\":\"f3217724-d759-4bd9-a149-02f3d4452dd7\",\"type\":\"GlyphRenderer\"}],\"title\":{\"id\":\"7aa2b9d7-a528-4411-9b56-1bd44c45ed4e\",\"type\":\"Title\"},\"toolbar\":{\"id\":\"a71cc5b2-e77c-419b-828e-61b167e355cc\",\"type\":\"Toolbar\"},\"toolbar_location\":null,\"x_range\":{\"id\":\"3cf28f35-f108-4b80-9abc-ba8232b431f4\",\"type\":\"Range1d\"},\"x_scale\":{\"id\":\"d479d04d-1523-4393-a155-32d705557c7a\",\"type\":\"LinearScale\"},\"y_range\":{\"id\":\"45b73bba-fa5a-451b-b10d-077f1af9c262\",\"type\":\"Range1d\"},\"y_scale\":{\"id\":\"095c3a57-30ba-49fb-b484-aae80a10b7fe\",\"type\":\"LinearScale\"}},\"id\":\"b5a1aff6-002c-4975-a650-8506983b7806\",\"subtype\":\"Figure\",\"type\":\"Plot\"},{\"attributes\":{\"line_alpha\":0.1,\"line_color\":\"#1f77b4\",\"line_width\":1.5,\"x\":{\"field\":\"x\"},\"y\":{\"field\":\"y\"}},\"id\":\"d439614d-4646-4759-986c-56231c96b8cc\",\"type\":\"Line\"},{\"attributes\":{\"overlay\":{\"id\":\"8ecd8076-d8e1-45a4-8d42-51d513bae4ad\",\"type\":\"BoxAnnotation\"}},\"id\":\"16ba70ff-b0ee-4e09-951f-d7d1aff8703b\",\"type\":\"BoxZoomTool\"},{\"attributes\":{\"data_source\":{\"id\":\"85ece881-c52e-46d9-9a6a-a312945dd263\",\"type\":\"ColumnDataSource\"},\"glyph\":{\"id\":\"17f2914e-2615-4d84-84dc-27085c1fda6c\",\"type\":\"Line\"},\"hover_glyph\":null,\"muted_glyph\":null,\"nonselection_glyph\":{\"id\":\"d439614d-4646-4759-986c-56231c96b8cc\",\"type\":\"Line\"},\"selection_glyph\":null,\"view\":{\"id\":\"ad91e27b-f051-46f7-9b70-5006d6d2d2c3\",\"type\":\"CDSView\"}},\"id\":\"053da766-a60a-4745-8d11-f3f657b78fcf\",\"type\":\"GlyphRenderer\"},{\"attributes\":{\"callback\":null,\"data\":{\"x\":{\"__ndarray__\":\"6U4+NOPH6b5nazM3KbrpvlNRb4ummum+XVlCQZV16b5WJ2uNPkvpvsZmQCtQG+m+CNcXksPl6L4PAgHaNqrovttAHxCcaOi+TYdxKbIg6L6Zn/xKTdLnvmyYtXc/fee+WhSbPwkh575UTyw7kaDmvoxz9PlZb+S+ro9sMBOh277pMJEWx5Kgvi7wDhn0WeM+bs0C82MY+T5Og+c07c4HP+saCYbp6BM/p9ax37PVHT8F3lUpqPcgP3j2FEONQB4/79rGvDBAGD8fqB5V1WARP7lqsQSbLwc/EIkamD+T/D6sxJvC6/HtPlW7mZ4WntI+bRvUCsU5yb72rRzsMCbivvQ5/o9MN+u+LFybV3A48b4wzeA6GVv0viVvDHcYFPa+nu1rbZLp9r7TEkIKCxP5vhsqvn25Hfy+maiL+itOAL8N1+SxqIIHv5UFQ81byxe/ZJPmPkKHIr9Qpd0wEv8jvzKdDQVwtAW/Psb01cvJMz8ltX+reFdQPzSNkM/oMGE/SmqzKik4bD9Z4JmR1vp0PwF+nkGEDH0/hUs6uMgjgz+6D+ShCGuIP7olQecsiI4/LLDQ8ETwkj8pdHdf5GeXPwAb8Kwj05w/rRMdZgSkoT/+wFHBjGGlPxplvd35mqk/hNGEpFEsrj8/76mpwWqxPzls+CD/obM/6CoBUPnvtj9QHFrgYYe5P0lAhxdZuLs/wAmXFw7ovT9c71ifOzC/PzhXES/EdcA/54QSl52wwT/ex01KHDvDP+au6T1xD8U/IkzwXQczxz9pk4m+usLJP8kzOUJwf80/\",\"dtype\":\"float64\",\"shape\":[75]},\"y\":{\"__ndarray__\":\"GhExyth1ND/Sv8nbtpRIP2vylNV0PVE/aTum7souWD/At0SJ8fVgPw3Iuahxymc/MSNhhJWvcD/bTfBN02d3P2zb5nxnaoA/CD5h5MAGhz8NmeH1TyaQP+zrCsc9p5Y/LbKd76fGnz/bLW5ISEmmPww9YvTcQq8/JV2OstnstT8Er5Y7M8G+P0c+r3jqkcU/5h99k6ZBzj88bCIzFzjVP4enV8oyxN0//yH99nXg5D8qOpLLf0jtP5kqGJXUifQ/c9cS8kHP/D+/DpwzojQEQIEmwoanVwxA4lgXt9HgE0BSSZ2AJuIbQAMJih9jjiNA5q4l5INuK0AwTKYKRj0zQNv5fmq8/DpAaCJseHrtQkB/+zpwzoxKQM3MzMzMeFJAZmZmZmZqWEAAAAAAAFxeQM3MzMzMJmJAmpmZmZkfZUBmZmZmZhhoQDMzMzMzEWtAAAAAAAAKbkBmZmZmZoFwQM3MzMzM/XFAMzMzMzN6c0CamZmZmfZ0QAAAAAAAc3ZAZmZmZmbvd0DNzMzMzGt5QDMzMzMz6HpAmpmZmZlkfEAAAAAAAOF9QGZmZmZmXX9AZmZmZuZsgECamZmZGSuBQM3MzMxM6YFAAAAAAICngkAzMzMzs2WDQGZmZmbmI4RAmpmZmRnihEDNzMzMTKCFQAAAAACAXoZAMzMzM7Mch0BmZmZm5tqHQJqZmZkZmYhAzczMzExXiUAAAAAAgBWKQDMzMzOz04pAZmZmZuaRi0CamZmZGVCMQM3MzMxMDo1AAAAAAIDMjUAzMzMzs4qOQGZmZmbmSI9A\",\"dtype\":\"float64\",\"shape\":[75]}},\"selected\":{\"id\":\"6c3d1f0b-3d89-4855-8297-ee787eff66b6\",\"type\":\"Selection\"},\"selection_policy\":{\"id\":\"ac24f853-1f53-461f-82d5-8aaef151286a\",\"type\":\"UnionRenderers\"}},\"id\":\"37a649c9-00d2-4c81-b0dd-88fe73d30393\",\"type\":\"ColumnDataSource\"},{\"attributes\":{\"source\":{\"id\":\"85ece881-c52e-46d9-9a6a-a312945dd263\",\"type\":\"ColumnDataSource\"}},\"id\":\"ad91e27b-f051-46f7-9b70-5006d6d2d2c3\",\"type\":\"CDSView\"},{\"attributes\":{\"fill_alpha\":{\"value\":0.7},\"fill_color\":{\"value\":\"#984ea3\"},\"line_alpha\":{\"value\":0.7},\"line_color\":{\"value\":\"#984ea3\"},\"x\":{\"field\":\"x\"},\"y\":{\"field\":\"y\"}},\"id\":\"2c11b756-ea5c-4f3d-863c-2295c971002a\",\"type\":\"Square\"},{\"attributes\":{\"children\":[{\"id\":\"b5a1aff6-002c-4975-a650-8506983b7806\",\"subtype\":\"Figure\",\"type\":\"Plot\"},{\"id\":\"eb6e6a22-ba91-45ef-bdbb-370a4cf38ba2\",\"subtype\":\"Figure\",\"type\":\"Plot\"}]},\"id\":\"e488abea-64ae-4a9f-9aa1-7a4e991edf47\",\"type\":\"Row\"},{\"attributes\":{\"callback\":null,\"data\":{\"x\":{\"__ndarray__\":\"6U4+NOPH6b5nazM3KbrpvlNRb4ummum+XVlCQZV16b5WJ2uNPkvpvsZmQCtQG+m+CNcXksPl6L4PAgHaNqrovttAHxCcaOi+TYdxKbIg6L6Zn/xKTdLnvmyYtXc/fee+WhSbPwkh575UTyw7kaDmvoxz9PlZb+S+ro9sMBOh277pMJEWx5Kgvi7wDhn0WeM+bs0C82MY+T5Og+c07c4HP+saCYbp6BM/p9ax37PVHT8F3lUpqPcgP3j2FEONQB4/79rGvDBAGD8fqB5V1WARP7lqsQSbLwc/EIkamD+T/D6sxJvC6/HtPlW7mZ4WntI+bRvUCsU5yb72rRzsMCbivvQ5/o9MN+u+LFybV3A48b4wzeA6GVv0viVvDHcYFPa+nu1rbZLp9r7TEkIKCxP5vhsqvn25Hfy+maiL+itOAL8N1+SxqIIHv5UFQ81byxe/ZJPmPkKHIr9Qpd0wEv8jvzKdDQVwtAW/Psb01cvJMz8ltX+reFdQPzSNkM/oMGE/SmqzKik4bD9Z4JmR1vp0PwF+nkGEDH0/hUs6uMgjgz+6D+ShCGuIP7olQecsiI4/LLDQ8ETwkj8pdHdf5GeXPwAb8Kwj05w/rRMdZgSkoT/+wFHBjGGlPxplvd35mqk/hNGEpFEsrj8/76mpwWqxPzls+CD/obM/6CoBUPnvtj9QHFrgYYe5P0lAhxdZuLs/wAmXFw7ovT9c71ifOzC/PzhXES/EdcA/54QSl52wwT/ex01KHDvDP+au6T1xD8U/IkzwXQczxz9pk4m+usLJP8kzOUJwf80/\",\"dtype\":\"float64\",\"shape\":[75]},\"y\":{\"__ndarray__\":\"GhExyth1ND/Sv8nbtpRIP2vylNV0PVE/aTum7souWD/At0SJ8fVgPw3Iuahxymc/MSNhhJWvcD/bTfBN02d3P2zb5nxnaoA/CD5h5MAGhz8NmeH1TyaQP+zrCsc9p5Y/LbKd76fGnz/bLW5ISEmmPww9YvTcQq8/JV2OstnstT8Er5Y7M8G+P0c+r3jqkcU/5h99k6ZBzj88bCIzFzjVP4enV8oyxN0//yH99nXg5D8qOpLLf0jtP5kqGJXUifQ/c9cS8kHP/D+/DpwzojQEQIEmwoanVwxA4lgXt9HgE0BSSZ2AJuIbQAMJih9jjiNA5q4l5INuK0AwTKYKRj0zQNv5fmq8/DpAaCJseHrtQkB/+zpwzoxKQM3MzMzMeFJAZmZmZmZqWEAAAAAAAFxeQM3MzMzMJmJAmpmZmZkfZUBmZmZmZhhoQDMzMzMzEWtAAAAAAAAKbkBmZmZmZoFwQM3MzMzM/XFAMzMzMzN6c0CamZmZmfZ0QAAAAAAAc3ZAZmZmZmbvd0DNzMzMzGt5QDMzMzMz6HpAmpmZmZlkfEAAAAAAAOF9QGZmZmZmXX9AZmZmZuZsgECamZmZGSuBQM3MzMxM6YFAAAAAAICngkAzMzMzs2WDQGZmZmbmI4RAmpmZmRnihEDNzMzMTKCFQAAAAACAXoZAMzMzM7Mch0BmZmZm5tqHQJqZmZkZmYhAzczMzExXiUAAAAAAgBWKQDMzMzOz04pAZmZmZuaRi0CamZmZGVCMQM3MzMxMDo1AAAAAAIDMjUAzMzMzs4qOQGZmZmbmSI9A\",\"dtype\":\"float64\",\"shape\":[75]}},\"selected\":{\"id\":\"8312cc8c-8fc5-4135-b46b-dac3c3cd57ea\",\"type\":\"Selection\"},\"selection_policy\":{\"id\":\"cc37c792-94ec-4544-a234-ab6501d8bddb\",\"type\":\"UnionRenderers\"}},\"id\":\"e7cf2470-2f83-420e-9508-a2ec1f2abf2b\",\"type\":\"ColumnDataSource\"},{\"attributes\":{\"line_alpha\":0.1,\"line_color\":\"#1f77b4\",\"line_width\":3,\"x\":{\"field\":\"x\"},\"y\":{\"field\":\"y\"}},\"id\":\"d918d80f-0ba5-4c21-8956-a78b7e675ba5\",\"type\":\"Line\"},{\"attributes\":{\"line_alpha\":0.6,\"line_color\":\"#e41a1c\",\"line_dash\":[6],\"line_width\":5,\"x\":{\"field\":\"x\"},\"y\":{\"field\":\"y\"}},\"id\":\"000c1fe3-f9a0-4b86-9f05-86173036fb81\",\"type\":\"Line\"},{\"attributes\":{\"source\":{\"id\":\"6bfce7eb-1048-4baa-a1b2-eeb3aad12a1b\",\"type\":\"ColumnDataSource\"}},\"id\":\"d217e4a6-96b3-439b-8e93-89b5cea0b24d\",\"type\":\"CDSView\"},{\"attributes\":{},\"id\":\"9bff9c02-16d9-4eef-8d01-8f50ab5de48f\",\"type\":\"BasicTickFormatter\"},{\"attributes\":{\"data_source\":{\"id\":\"58f510fa-74c4-4ce2-8e87-50997f46a53d\",\"type\":\"ColumnDataSource\"},\"glyph\":{\"id\":\"000c1fe3-f9a0-4b86-9f05-86173036fb81\",\"type\":\"Line\"},\"hover_glyph\":null,\"muted_glyph\":null,\"nonselection_glyph\":{\"id\":\"2fb794ae-68d7-4628-8fe1-23775f6a22c5\",\"type\":\"Line\"},\"selection_glyph\":null,\"view\":{\"id\":\"fec82278-8324-4977-acfb-121df0c73cf1\",\"type\":\"CDSView\"}},\"id\":\"b586bb17-c0d8-4b6c-a6c7-088249f576dc\",\"type\":\"GlyphRenderer\"},{\"attributes\":{\"label\":{\"value\":\"CLIRAD `coolr_bands`\"},\"renderers\":[{\"id\":\"b8e3ab91-34bd-4c62-8f31-b0b0e102a899\",\"type\":\"GlyphRenderer\"}]},\"id\":\"515245fb-3b59-4130-93b6-1fa016b62437\",\"type\":\"LegendItem\"},{\"attributes\":{\"data_source\":{\"id\":\"da8f7111-8d40-41ef-bfa0-d7fb2954566e\",\"type\":\"ColumnDataSource\"},\"glyph\":{\"id\":\"9af55f9e-9636-4de3-9248-8cf637648ee8\",\"type\":\"Line\"},\"hover_glyph\":null,\"muted_glyph\":null,\"nonselection_glyph\":{\"id\":\"c9c65a80-6a3c-44a3-a8a2-ed8f171cae2c\",\"type\":\"Line\"},\"selection_glyph\":null,\"view\":{\"id\":\"ef195d81-d696-4322-b27c-df72737fba25\",\"type\":\"CDSView\"}},\"id\":\"14207c1b-adbd-4c7e-9ed8-28769c5eb823\",\"type\":\"GlyphRenderer\"},{\"attributes\":{},\"id\":\"450400aa-4d89-4404-a542-8ea469089a45\",\"type\":\"UnionRenderers\"},{\"attributes\":{\"label\":{\"value\":\"CRD\"},\"renderers\":[{\"id\":\"f3a0bd5f-1d69-4ac2-bda3-1123bb417208\",\"type\":\"GlyphRenderer\"},{\"id\":\"053da766-a60a-4745-8d11-f3f657b78fcf\",\"type\":\"GlyphRenderer\"}]},\"id\":\"4763bcb2-7e9b-469d-9a39-6cf1856fc289\",\"type\":\"LegendItem\"},{\"attributes\":{},\"id\":\"19a8aa26-ab71-408e-9a0d-f830923e3edf\",\"type\":\"Selection\"},{\"attributes\":{\"line_alpha\":0.1,\"line_color\":\"#1f77b4\",\"line_width\":3,\"x\":{\"field\":\"x\"},\"y\":{\"field\":\"y\"}},\"id\":\"110055d3-d0c0-45d5-946a-8bf6ff2c6c52\",\"type\":\"Line\"},{\"attributes\":{\"label\":{\"value\":\"WGT igg=10 wgt_flux=2\"},\"renderers\":[{\"id\":\"b08de479-2032-4d5f-817b-39d7cb865406\",\"type\":\"GlyphRenderer\"},{\"id\":\"9f476aec-a1ec-40a3-b0cc-5414b81c0611\",\"type\":\"GlyphRenderer\"}]},\"id\":\"874d9126-6e27-4e8c-b56e-78b014abd143\",\"type\":\"LegendItem\"},{\"attributes\":{\"axis_label\":\"cooling rate [K/day]\",\"formatter\":{\"id\":\"9bff9c02-16d9-4eef-8d01-8f50ab5de48f\",\"type\":\"BasicTickFormatter\"},\"plot\":{\"id\":\"b5a1aff6-002c-4975-a650-8506983b7806\",\"subtype\":\"Figure\",\"type\":\"Plot\"},\"ticker\":{\"id\":\"87265b19-93aa-4019-96b5-5a47f21a291e\",\"type\":\"BasicTicker\"}},\"id\":\"61832759-53dd-4276-b7dc-3c6201d6e368\",\"type\":\"LinearAxis\"},{\"attributes\":{\"plot\":null,\"text\":\"Log pressure scale\"},\"id\":\"f3b71024-9ef5-4c9e-af87-2c965c68c30f\",\"type\":\"Title\"},{\"attributes\":{},\"id\":\"c36c8827-2d0a-46c1-8816-e57e36932776\",\"type\":\"Selection\"},{\"attributes\":{\"callback\":null,\"end\":0.24461471308389998,\"start\":-0.0026264614739000005},\"id\":\"3cf28f35-f108-4b80-9abc-ba8232b431f4\",\"type\":\"Range1d\"},{\"attributes\":{},\"id\":\"260c2989-29ab-4745-9ef2-c52b8f2dc870\",\"type\":\"BasicTickFormatter\"},{\"attributes\":{\"line_alpha\":0.1,\"line_color\":\"#1f77b4\",\"line_width\":1.5,\"x\":{\"field\":\"x\"},\"y\":{\"field\":\"y\"}},\"id\":\"c9c65a80-6a3c-44a3-a8a2-ed8f171cae2c\",\"type\":\"Line\"},{\"attributes\":{},\"id\":\"344d511a-5ad6-4942-9731-0b56b2157c65\",\"type\":\"UnionRenderers\"},{\"attributes\":{},\"id\":\"87265b19-93aa-4019-96b5-5a47f21a291e\",\"type\":\"BasicTicker\"},{\"attributes\":{\"fill_alpha\":{\"value\":0.1},\"fill_color\":{\"value\":\"#1f77b4\"},\"line_alpha\":{\"value\":0.1},\"line_color\":{\"value\":\"#1f77b4\"},\"x\":{\"field\":\"x\"},\"y\":{\"field\":\"y\"}},\"id\":\"dcebcad7-c449-493f-9efe-6900012bdf71\",\"type\":\"Square\"},{\"attributes\":{},\"id\":\"0cea908e-056d-4d2e-9acf-73bf07e6596f\",\"type\":\"Selection\"},{\"attributes\":{\"line_alpha\":0.6,\"line_color\":\"#984ea3\",\"line_width\":3,\"x\":{\"field\":\"x\"},\"y\":{\"field\":\"y\"}},\"id\":\"d5479085-35a4-4226-b05d-182dd9789e1e\",\"type\":\"Line\"},{\"attributes\":{},\"id\":\"6c3006ff-8a8e-410c-a22b-018e2ff60c4a\",\"type\":\"UnionRenderers\"},{\"attributes\":{\"data_source\":{\"id\":\"37a649c9-00d2-4c81-b0dd-88fe73d30393\",\"type\":\"ColumnDataSource\"},\"glyph\":{\"id\":\"a0593025-7ef7-487d-825c-022ee8baf4ca\",\"type\":\"Square\"},\"hover_glyph\":null,\"muted_glyph\":null,\"nonselection_glyph\":{\"id\":\"dcebcad7-c449-493f-9efe-6900012bdf71\",\"type\":\"Square\"},\"selection_glyph\":null,\"view\":{\"id\":\"57c3fe64-81c6-4084-b5eb-529adb000414\",\"type\":\"CDSView\"}},\"id\":\"fdd2219c-c0b8-4bd2-80dc-cdd88cc0ecfe\",\"type\":\"GlyphRenderer\"},{\"attributes\":{},\"id\":\"6f974429-381c-42fb-8ac3-1efca093b1db\",\"type\":\"UnionRenderers\"},{\"attributes\":{},\"id\":\"8312cc8c-8fc5-4135-b46b-dac3c3cd57ea\",\"type\":\"Selection\"},{\"attributes\":{},\"id\":\"cc37c792-94ec-4544-a234-ab6501d8bddb\",\"type\":\"UnionRenderers\"},{\"attributes\":{},\"id\":\"6c3d1f0b-3d89-4855-8297-ee787eff66b6\",\"type\":\"Selection\"},{\"attributes\":{\"source\":{\"id\":\"da8f7111-8d40-41ef-bfa0-d7fb2954566e\",\"type\":\"ColumnDataSource\"}},\"id\":\"ef195d81-d696-4322-b27c-df72737fba25\",\"type\":\"CDSView\"},{\"attributes\":{},\"id\":\"ac24f853-1f53-461f-82d5-8aaef151286a\",\"type\":\"UnionRenderers\"},{\"attributes\":{},\"id\":\"d479d04d-1523-4393-a155-32d705557c7a\",\"type\":\"LinearScale\"},{\"attributes\":{},\"id\":\"6464c868-fb52-4696-aced-a0b299bc701f\",\"type\":\"Selection\"},{\"attributes\":{},\"id\":\"2f096161-af40-4c81-899c-b2e5f167005e\",\"type\":\"Selection\"},{\"attributes\":{},\"id\":\"2f670eef-6adf-4b1f-bd70-4e15b7823777\",\"type\":\"BasicTickFormatter\"},{\"attributes\":{\"ticker\":null},\"id\":\"dd83081c-3e37-4973-872a-df3475089951\",\"type\":\"LogTickFormatter\"}],\"root_ids\":[\"d332c2ee-feea-41c8-8c51-0b0108f1c627\"]},\"title\":\"Bokeh Application\",\"version\":\"0.12.16\"}};\n",
       "  var render_items = [{\"docid\":\"a82057ac-9cc0-4295-b63b-a5313fa26052\",\"elementid\":\"517e230b-0512-4ac0-92cb-7d350f640ede\",\"modelid\":\"d332c2ee-feea-41c8-8c51-0b0108f1c627\"}];\n",
       "  root.Bokeh.embed.embed_items_notebook(docs_json, render_items);\n",
       "\n",
       "  }\n",
       "  if (root.Bokeh !== undefined) {\n",
       "    embed_document(root);\n",
       "  } else {\n",
       "    var attempts = 0;\n",
       "    var timer = setInterval(function(root) {\n",
       "      if (root.Bokeh !== undefined) {\n",
       "        embed_document(root);\n",
       "        clearInterval(timer);\n",
       "      }\n",
       "      attempts++;\n",
       "      if (attempts > 100) {\n",
       "        console.log(\"Bokeh: ERROR: Unable to run BokehJS code because BokehJS library is missing\")\n",
       "        clearInterval(timer);\n",
       "      }\n",
       "    }, 10, root)\n",
       "  }\n",
       "})(window);"
      ],
      "application/vnd.bokehjs_exec.v0+json": ""
     },
     "metadata": {
      "application/vnd.bokehjs_exec.v0+json": {
       "id": "d332c2ee-feea-41c8-8c51-0b0108f1c627"
      }
     },
     "output_type": "display_data"
    },
    {
     "name": "stdout",
     "output_type": "stream",
     "text": [
      "FIGURE. Cooling rate profiles.\n"
     ]
    },
    {
     "data": {
      "text/html": [
       "<a id=\"Flux_Comparison\"></a>"
      ],
      "text/plain": [
       "<IPython.core.display.HTML object>"
      ]
     },
     "metadata": {},
     "output_type": "display_data"
    },
    {
     "data": {
      "text/markdown": [
       "# Flux Comparison"
      ],
      "text/plain": [
       "<IPython.core.display.Markdown object>"
      ]
     },
     "metadata": {},
     "output_type": "display_data"
    },
    {
     "data": {
      "text/html": [
       "<div>\n",
       "<style scoped>\n",
       "    .dataframe tbody tr th:only-of-type {\n",
       "        vertical-align: middle;\n",
       "    }\n",
       "\n",
       "    .dataframe tbody tr th {\n",
       "        vertical-align: top;\n",
       "    }\n",
       "\n",
       "    .dataframe thead th {\n",
       "        text-align: right;\n",
       "    }\n",
       "</style>\n",
       "<table border=\"1\" class=\"dataframe\">\n",
       "  <thead>\n",
       "    <tr style=\"text-align: right;\">\n",
       "      <th></th>\n",
       "      <th></th>\n",
       "      <th>flug</th>\n",
       "      <th>fldg</th>\n",
       "      <th>fnetg</th>\n",
       "    </tr>\n",
       "    <tr>\n",
       "      <th>pressure</th>\n",
       "      <th>level</th>\n",
       "      <th></th>\n",
       "      <th></th>\n",
       "      <th></th>\n",
       "    </tr>\n",
       "  </thead>\n",
       "  <tbody>\n",
       "    <tr>\n",
       "      <th>0.0000</th>\n",
       "      <th>1</th>\n",
       "      <td>-23.814720</td>\n",
       "      <td>0.000000</td>\n",
       "      <td>-23.814720</td>\n",
       "    </tr>\n",
       "    <tr>\n",
       "      <th>1.0685</th>\n",
       "      <th>24</th>\n",
       "      <td>-23.814710</td>\n",
       "      <td>0.000027</td>\n",
       "      <td>-23.814683</td>\n",
       "    </tr>\n",
       "    <tr>\n",
       "      <th>1013.0000</th>\n",
       "      <th>76</th>\n",
       "      <td>-26.065205</td>\n",
       "      <td>8.370748</td>\n",
       "      <td>-17.694457</td>\n",
       "    </tr>\n",
       "  </tbody>\n",
       "</table>\n",
       "</div>"
      ],
      "text/plain": [
       "                      flug      fldg      fnetg\n",
       "pressure  level                                \n",
       "0.0000    1     -23.814720  0.000000 -23.814720\n",
       "1.0685    24    -23.814710  0.000027 -23.814683\n",
       "1013.0000 76    -26.065205  8.370748 -17.694457"
      ]
     },
     "metadata": {},
     "output_type": "display_data"
    },
    {
     "name": "stdout",
     "output_type": "stream",
     "text": [
      "Table. Fluxes. CRD\n"
     ]
    },
    {
     "data": {
      "text/html": [
       "<div>\n",
       "<style scoped>\n",
       "    .dataframe tbody tr th:only-of-type {\n",
       "        vertical-align: middle;\n",
       "    }\n",
       "\n",
       "    .dataframe tbody tr th {\n",
       "        vertical-align: top;\n",
       "    }\n",
       "\n",
       "    .dataframe thead th {\n",
       "        text-align: right;\n",
       "    }\n",
       "</style>\n",
       "<table border=\"1\" class=\"dataframe\">\n",
       "  <thead>\n",
       "    <tr style=\"text-align: right;\">\n",
       "      <th></th>\n",
       "      <th></th>\n",
       "      <th>flug</th>\n",
       "      <th>fldg</th>\n",
       "      <th>fnetg</th>\n",
       "    </tr>\n",
       "    <tr>\n",
       "      <th>pressure</th>\n",
       "      <th>level</th>\n",
       "      <th></th>\n",
       "      <th></th>\n",
       "      <th></th>\n",
       "    </tr>\n",
       "  </thead>\n",
       "  <tbody>\n",
       "    <tr>\n",
       "      <th>0.0000</th>\n",
       "      <th>1</th>\n",
       "      <td>-23.908142</td>\n",
       "      <td>0.000000</td>\n",
       "      <td>-23.908142</td>\n",
       "    </tr>\n",
       "    <tr>\n",
       "      <th>1.0685</th>\n",
       "      <th>24</th>\n",
       "      <td>-23.908141</td>\n",
       "      <td>0.000009</td>\n",
       "      <td>-23.908132</td>\n",
       "    </tr>\n",
       "    <tr>\n",
       "      <th>1013.0000</th>\n",
       "      <th>76</th>\n",
       "      <td>-26.065205</td>\n",
       "      <td>8.310111</td>\n",
       "      <td>-17.755094</td>\n",
       "    </tr>\n",
       "  </tbody>\n",
       "</table>\n",
       "</div>"
      ],
      "text/plain": [
       "                      flug      fldg      fnetg\n",
       "pressure  level                                \n",
       "0.0000    1     -23.908142  0.000000 -23.908142\n",
       "1.0685    24    -23.908141  0.000009 -23.908132\n",
       "1013.0000 76    -26.065205  8.310111 -17.755094"
      ]
     },
     "metadata": {},
     "output_type": "display_data"
    },
    {
     "name": "stdout",
     "output_type": "stream",
     "text": [
      "Table. Fluxes. WGT igg=10 wgt_flux=1\n"
     ]
    },
    {
     "data": {
      "text/html": [
       "<div>\n",
       "<style scoped>\n",
       "    .dataframe tbody tr th:only-of-type {\n",
       "        vertical-align: middle;\n",
       "    }\n",
       "\n",
       "    .dataframe tbody tr th {\n",
       "        vertical-align: top;\n",
       "    }\n",
       "\n",
       "    .dataframe thead th {\n",
       "        text-align: right;\n",
       "    }\n",
       "</style>\n",
       "<table border=\"1\" class=\"dataframe\">\n",
       "  <thead>\n",
       "    <tr style=\"text-align: right;\">\n",
       "      <th></th>\n",
       "      <th></th>\n",
       "      <th>flug</th>\n",
       "      <th>fldg</th>\n",
       "      <th>fnetg</th>\n",
       "    </tr>\n",
       "    <tr>\n",
       "      <th>pressure</th>\n",
       "      <th>level</th>\n",
       "      <th></th>\n",
       "      <th></th>\n",
       "      <th></th>\n",
       "    </tr>\n",
       "  </thead>\n",
       "  <tbody>\n",
       "    <tr>\n",
       "      <th>1.000000e-08</th>\n",
       "      <th>1</th>\n",
       "      <td>-23.925465</td>\n",
       "      <td>-9.785657e-08</td>\n",
       "      <td>-23.925465</td>\n",
       "    </tr>\n",
       "    <tr>\n",
       "      <th>1.068500e+00</th>\n",
       "      <th>24</th>\n",
       "      <td>-23.925464</td>\n",
       "      <td>7.096279e-06</td>\n",
       "      <td>-23.925457</td>\n",
       "    </tr>\n",
       "    <tr>\n",
       "      <th>1.013000e+03</th>\n",
       "      <th>76</th>\n",
       "      <td>-26.065200</td>\n",
       "      <td>8.385873e+00</td>\n",
       "      <td>-17.679327</td>\n",
       "    </tr>\n",
       "  </tbody>\n",
       "</table>\n",
       "</div>"
      ],
      "text/plain": [
       "                         flug          fldg      fnetg\n",
       "pressure     level                                    \n",
       "1.000000e-08 1     -23.925465 -9.785657e-08 -23.925465\n",
       "1.068500e+00 24    -23.925464  7.096279e-06 -23.925457\n",
       "1.013000e+03 76    -26.065200  8.385873e+00 -17.679327"
      ]
     },
     "metadata": {},
     "output_type": "display_data"
    },
    {
     "name": "stdout",
     "output_type": "stream",
     "text": [
      "Table. Fluxes. CLIRAD\n"
     ]
    },
    {
     "data": {
      "text/html": [
       "<div>\n",
       "<style scoped>\n",
       "    .dataframe tbody tr th:only-of-type {\n",
       "        vertical-align: middle;\n",
       "    }\n",
       "\n",
       "    .dataframe tbody tr th {\n",
       "        vertical-align: top;\n",
       "    }\n",
       "\n",
       "    .dataframe thead th {\n",
       "        text-align: right;\n",
       "    }\n",
       "</style>\n",
       "<table border=\"1\" class=\"dataframe\">\n",
       "  <thead>\n",
       "    <tr style=\"text-align: right;\">\n",
       "      <th></th>\n",
       "      <th></th>\n",
       "      <th>flug</th>\n",
       "      <th>fldg</th>\n",
       "      <th>fnetg</th>\n",
       "    </tr>\n",
       "    <tr>\n",
       "      <th>pressure</th>\n",
       "      <th>level</th>\n",
       "      <th></th>\n",
       "      <th></th>\n",
       "      <th></th>\n",
       "    </tr>\n",
       "  </thead>\n",
       "  <tbody>\n",
       "    <tr>\n",
       "      <th>0.0000</th>\n",
       "      <th>1</th>\n",
       "      <td>-9.342225e-02</td>\n",
       "      <td>0.000000</td>\n",
       "      <td>-0.093422</td>\n",
       "    </tr>\n",
       "    <tr>\n",
       "      <th>1.0685</th>\n",
       "      <th>24</th>\n",
       "      <td>-9.343140e-02</td>\n",
       "      <td>-0.000018</td>\n",
       "      <td>-0.093449</td>\n",
       "    </tr>\n",
       "    <tr>\n",
       "      <th>1013.0000</th>\n",
       "      <th>76</th>\n",
       "      <td>1.300000e-07</td>\n",
       "      <td>-0.060638</td>\n",
       "      <td>-0.060637</td>\n",
       "    </tr>\n",
       "  </tbody>\n",
       "</table>\n",
       "</div>"
      ],
      "text/plain": [
       "                         flug      fldg     fnetg\n",
       "pressure  level                                  \n",
       "0.0000    1     -9.342225e-02  0.000000 -0.093422\n",
       "1.0685    24    -9.343140e-02 -0.000018 -0.093449\n",
       "1013.0000 76     1.300000e-07 -0.060638 -0.060637"
      ]
     },
     "metadata": {},
     "output_type": "display_data"
    },
    {
     "name": "stdout",
     "output_type": "stream",
     "text": [
      "Table. Fluxes. (WGT igg=10 wgt_flux=1) - (CRD)\n"
     ]
    },
    {
     "data": {
      "text/html": [
       "<div>\n",
       "<style scoped>\n",
       "    .dataframe tbody tr th:only-of-type {\n",
       "        vertical-align: middle;\n",
       "    }\n",
       "\n",
       "    .dataframe tbody tr th {\n",
       "        vertical-align: top;\n",
       "    }\n",
       "\n",
       "    .dataframe thead th {\n",
       "        text-align: right;\n",
       "    }\n",
       "</style>\n",
       "<table border=\"1\" class=\"dataframe\">\n",
       "  <thead>\n",
       "    <tr style=\"text-align: right;\">\n",
       "      <th></th>\n",
       "      <th></th>\n",
       "      <th>flug</th>\n",
       "      <th>fldg</th>\n",
       "      <th>fnetg</th>\n",
       "    </tr>\n",
       "    <tr>\n",
       "      <th>pressure</th>\n",
       "      <th>level</th>\n",
       "      <th></th>\n",
       "      <th></th>\n",
       "      <th></th>\n",
       "    </tr>\n",
       "  </thead>\n",
       "  <tbody>\n",
       "    <tr>\n",
       "      <th>0.0000</th>\n",
       "      <th>1</th>\n",
       "      <td>-0.110745</td>\n",
       "      <td>-9.785657e-08</td>\n",
       "      <td>-0.110745</td>\n",
       "    </tr>\n",
       "    <tr>\n",
       "      <th>1.0685</th>\n",
       "      <th>24</th>\n",
       "      <td>-0.110754</td>\n",
       "      <td>-2.015687e-05</td>\n",
       "      <td>-0.110774</td>\n",
       "    </tr>\n",
       "    <tr>\n",
       "      <th>1013.0000</th>\n",
       "      <th>76</th>\n",
       "      <td>0.000005</td>\n",
       "      <td>1.512460e-02</td>\n",
       "      <td>0.015130</td>\n",
       "    </tr>\n",
       "  </tbody>\n",
       "</table>\n",
       "</div>"
      ],
      "text/plain": [
       "                     flug          fldg     fnetg\n",
       "pressure  level                                  \n",
       "0.0000    1     -0.110745 -9.785657e-08 -0.110745\n",
       "1.0685    24    -0.110754 -2.015687e-05 -0.110774\n",
       "1013.0000 76     0.000005  1.512460e-02  0.015130"
      ]
     },
     "metadata": {},
     "output_type": "display_data"
    },
    {
     "name": "stdout",
     "output_type": "stream",
     "text": [
      "Table. Fluxes. (CLIRAD) - (CRD)\n"
     ]
    },
    {
     "data": {
      "text/html": [
       "<a id=\"Best-fit_Parameters\"></a>"
      ],
      "text/plain": [
       "<IPython.core.display.HTML object>"
      ]
     },
     "metadata": {},
     "output_type": "display_data"
    },
    {
     "data": {
      "text/markdown": [
       "# Best-fit Parameters"
      ],
      "text/plain": [
       "<IPython.core.display.Markdown object>"
      ]
     },
     "metadata": {},
     "output_type": "display_data"
    },
    {
     "name": "stdout",
     "output_type": "stream",
     "text": [
      "Best-fit values for each (gas, band)\n",
      "------------------------------------\n",
      "o h2o band6\n",
      "  atmpro = mls\n",
      "  band = 6\n",
      "  commitnumber = a06b618\n",
      "  conc = None\n",
      "  dv = 0.001\n",
      "  klin = 5e-25\n",
      "  molecule = h2o\n",
      "  ng_adju = [0]\n",
      "  ng_refs = [4]\n",
      "  nv = 1000\n",
      "  option_compute_btable = 0\n",
      "  option_compute_ktable = 1\n",
      "  option_wgt_flux = 1\n",
      "  option_wgt_k = 1\n",
      "  ref_pts = [(600, 250)]\n",
      "  tsfc = 294\n",
      "  vmax = 1215\n",
      "  vmin = 1100\n",
      "  w_diffuse = [(1.66, 1.66, 1.7, 1.8)]\n",
      "  wgt = [(0.3, 0.45, 0.6, 0.95)]\n"
     ]
    }
   ],
   "source": [
    "script()"
   ]
  },
  {
   "cell_type": "code",
   "execution_count": 13,
   "metadata": {
    "collapsed": true
   },
   "outputs": [
    {
     "data": {
      "text/html": [
       "<script>\n",
       "code_show=true; \n",
       "function code_toggle() {\n",
       " if (code_show){\n",
       " $('div.input').hide();\n",
       " } else {\n",
       " $('div.input').show();\n",
       " }\n",
       " code_show = !code_show\n",
       "} \n",
       "$( document ).ready(code_toggle);\n",
       "</script>\n",
       "<form action=\"javascript:code_toggle()\"><input type=\"submit\" value=\"Click here to toggle on/off the raw code.\"></form>"
      ],
      "text/plain": [
       "<IPython.core.display.HTML object>"
      ]
     },
     "execution_count": 13,
     "metadata": {},
     "output_type": "execute_result"
    }
   ],
   "source": [
    "display.HTML('''<script>\n",
    "code_show=true; \n",
    "function code_toggle() {\n",
    " if (code_show){\n",
    " $('div.input').hide();\n",
    " } else {\n",
    " $('div.input').show();\n",
    " }\n",
    " code_show = !code_show\n",
    "} \n",
    "$( document ).ready(code_toggle);\n",
    "</script>\n",
    "<form action=\"javascript:code_toggle()\"><input type=\"submit\" value=\"Click here to toggle on/off the raw code.\"></form>''')"
   ]
  }
 ],
 "metadata": {
  "kernelspec": {
   "display_name": "Python 3",
   "language": "python",
   "name": "python3"
  },
  "language_info": {
   "codemirror_mode": {
    "name": "ipython",
    "version": 3
   },
   "file_extension": ".py",
   "mimetype": "text/x-python",
   "name": "python",
   "nbconvert_exporter": "python",
   "pygments_lexer": "ipython3",
   "version": "3.6.1"
  }
 },
 "nbformat": 4,
 "nbformat_minor": 2
}
