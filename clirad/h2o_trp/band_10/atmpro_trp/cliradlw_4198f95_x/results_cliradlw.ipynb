{
 "cells": [
  {
   "cell_type": "code",
   "execution_count": 1,
   "metadata": {
    "collapsed": true
   },
   "outputs": [],
   "source": [
    "%matplotlib inline\n",
    "import os\n",
    "import re\n",
    "import io\n",
    "import itertools\n",
    "import pprint\n",
    "\n",
    "from bokeh.io import output_notebook, show\n",
    "from bokeh.layouts import gridplot\n",
    "from bokeh.plotting import figure\n",
    "from bokeh.models import Range1d, Legend\n",
    "from bokeh.palettes import all_palettes\n",
    "\n",
    "import matplotlib\n",
    "import matplotlib.pyplot as plt\n",
    "import numpy as np\n",
    "import pandas as pd\n",
    "import xarray as xr\n",
    "\n",
    "import climatools.lblnew.bestfit_params as bestfits\n",
    "from climatools.lblnew import setup_bestfit, setup_overlap\n",
    "import climatools.lblnew.pipeline as pipe_lblnew\n",
    "import climatools.cliradlw.setup as setup_cliradlw\n",
    "import climatools.cliradlw.pipeline as pipe_cliradlw\n",
    "\n",
    "import climatools.html.html as climahtml\n",
    "from climatools.lblnew.dataio import *\n",
    "from climatools.plot.plot import *\n",
    "\n",
    "\n",
    "import IPython.display as display"
   ]
  },
  {
   "cell_type": "code",
   "execution_count": 2,
   "metadata": {
    "collapsed": true
   },
   "outputs": [],
   "source": [
    "%run param.py"
   ]
  },
  {
   "cell_type": "code",
   "execution_count": 3,
   "metadata": {
    "collapsed": true
   },
   "outputs": [],
   "source": [
    "def load_output_file(path_csv):\n",
    "    '''\n",
    "    Load lblnew output .csv file to xarray.Dataset\n",
    "    \n",
    "    Parameters\n",
    "    ----------\n",
    "    path_csv: str\n",
    "              Path to the .csv file to be loaded.\n",
    "    ds: xarray.Dataset\n",
    "        Data in the input file in the form of an xarray.Dataset.\n",
    "    '''\n",
    "    toindex = ['band', 'pressure', 'igg', 'g']    \n",
    "    df = pd.read_csv(path_csv, sep=r'\\s+')\n",
    "    df = df.set_index([i for i in toindex if i in df.columns])\n",
    "    df = df.rename(columns={'sfu': 'flug',\n",
    "                            'sfd': 'fldg',\n",
    "                            'fnet': 'fnetg',\n",
    "                            'coolr': 'coolrg'})\n",
    "    ds = xr.Dataset.from_dataframe(df)\n",
    "\n",
    "    for l in ('level', 'layer'):\n",
    "        if l in ds.data_vars:\n",
    "            if len(ds[l].dims) > 1:\n",
    "                surface = {d: 0 for d in ds.dims if d != 'pressure'}\n",
    "                coord_level = ds[l][surface]\n",
    "                ds.coords[l] = ('pressure', coord_level)\n",
    "            else:\n",
    "                ds.coords[l] = ('pressure', ds[l])\n",
    "    \n",
    "    return ds"
   ]
  },
  {
   "cell_type": "code",
   "execution_count": 4,
   "metadata": {
    "collapsed": true
   },
   "outputs": [],
   "source": [
    "def lblnew_setup(param=None):\n",
    "    if 'ng_refs' in param:\n",
    "        return {'setup': setup_bestfit,\n",
    "                'fname_flux_crd': 'output_flux.dat',\n",
    "                'fname_cool_crd': 'output_coolr.dat',\n",
    "                'fname_flux_wgt': 'output_wfluxg.dat',\n",
    "                'fname_cool_wgt': 'output_wcoolrg.dat'}\n",
    "    else:\n",
    "        return {'setup': setup_overlap,\n",
    "                'fname_flux_crd': 'output_flux.dat',\n",
    "                'fname_cool_crd': 'output_coolr.dat',\n",
    "                'fname_flux_wgt': 'output_wflux.dat',\n",
    "                'fname_cool_wgt': 'output_wcoolr.dat'}\n",
    "\n",
    "    \n",
    "def load_lblnew_data(param):\n",
    "    \n",
    "    fname_dsname = [('fname_flux_crd', 'ds_flux_crd'),\n",
    "                    ('fname_cool_crd', 'ds_cool_crd'),\n",
    "                    ('fname_flux_wgt', 'ds_flux_wgt'),\n",
    "                    ('fname_cool_wgt', 'ds_cool_wgt')]\n",
    "    \n",
    "    d = lblnew_setup(param)\n",
    "    dir_fortran = pipe_lblnew.get_dir_case(param, setup=d['setup'])\n",
    "    \n",
    "    data_dict = {}\n",
    "    for fname, dsname in fname_dsname:\n",
    "        fpath = os.path.join(dir_fortran, d[fname])\n",
    "        data_dict[dsname] = load_output_file(fpath)\n",
    "    return data_dict\n",
    "    \n",
    "\n",
    "    \n",
    "    "
   ]
  },
  {
   "cell_type": "code",
   "execution_count": 5,
   "metadata": {
    "collapsed": true
   },
   "outputs": [],
   "source": [
    "d = load_lblnew_data(PARAM_LBLNEW)\n",
    "\n",
    "DS_FLUX_CRD = d['ds_flux_crd']\n",
    "DS_COOL_CRD = d['ds_cool_crd']\n",
    "DS_FLUX_WGT = d['ds_flux_wgt']\n",
    "DS_COOL_WGT = d['ds_cool_wgt']"
   ]
  },
  {
   "cell_type": "code",
   "execution_count": 6,
   "metadata": {
    "collapsed": true
   },
   "outputs": [],
   "source": [
    "DIR_FORTRAN = pipe_cliradlw.get_fortran_dir(PARAM, \n",
    "                                            setup=setup_cliradlw)\n",
    "\n",
    "PATH_FLUX = os.path.join(DIR_FORTRAN, 'output_flux.dat')\n",
    "PATH_COOL = os.path.join(DIR_FORTRAN, 'output_coolr.dat')\n",
    "\n",
    "DS_FLUX = load_output_file(PATH_FLUX)\n",
    "DS_COOL = load_output_file(PATH_COOL)"
   ]
  },
  {
   "cell_type": "code",
   "execution_count": 7,
   "metadata": {
    "collapsed": true
   },
   "outputs": [
    {
     "data": {
      "text/html": [
       "\n",
       "    <div class=\"bk-root\">\n",
       "        <a href=\"https://bokeh.pydata.org\" target=\"_blank\" class=\"bk-logo bk-logo-small bk-logo-notebook\"></a>\n",
       "        <span id=\"fa49d33d-5ff3-4d43-adef-17a22c297094\">Loading BokehJS ...</span>\n",
       "    </div>"
      ]
     },
     "metadata": {},
     "output_type": "display_data"
    },
    {
     "data": {
      "application/javascript": [
       "\n",
       "(function(root) {\n",
       "  function now() {\n",
       "    return new Date();\n",
       "  }\n",
       "\n",
       "  var force = true;\n",
       "\n",
       "  if (typeof (root._bokeh_onload_callbacks) === \"undefined\" || force === true) {\n",
       "    root._bokeh_onload_callbacks = [];\n",
       "    root._bokeh_is_loading = undefined;\n",
       "  }\n",
       "\n",
       "  var JS_MIME_TYPE = 'application/javascript';\n",
       "  var HTML_MIME_TYPE = 'text/html';\n",
       "  var EXEC_MIME_TYPE = 'application/vnd.bokehjs_exec.v0+json';\n",
       "  var CLASS_NAME = 'output_bokeh rendered_html';\n",
       "\n",
       "  /**\n",
       "   * Render data to the DOM node\n",
       "   */\n",
       "  function render(props, node) {\n",
       "    var script = document.createElement(\"script\");\n",
       "    node.appendChild(script);\n",
       "  }\n",
       "\n",
       "  /**\n",
       "   * Handle when an output is cleared or removed\n",
       "   */\n",
       "  function handleClearOutput(event, handle) {\n",
       "    var cell = handle.cell;\n",
       "\n",
       "    var id = cell.output_area._bokeh_element_id;\n",
       "    var server_id = cell.output_area._bokeh_server_id;\n",
       "    // Clean up Bokeh references\n",
       "    if (id !== undefined) {\n",
       "      Bokeh.index[id].model.document.clear();\n",
       "      delete Bokeh.index[id];\n",
       "    }\n",
       "\n",
       "    if (server_id !== undefined) {\n",
       "      // Clean up Bokeh references\n",
       "      var cmd = \"from bokeh.io.state import curstate; print(curstate().uuid_to_server['\" + server_id + \"'].get_sessions()[0].document.roots[0]._id)\";\n",
       "      cell.notebook.kernel.execute(cmd, {\n",
       "        iopub: {\n",
       "          output: function(msg) {\n",
       "            var element_id = msg.content.text.trim();\n",
       "            Bokeh.index[element_id].model.document.clear();\n",
       "            delete Bokeh.index[element_id];\n",
       "          }\n",
       "        }\n",
       "      });\n",
       "      // Destroy server and session\n",
       "      var cmd = \"import bokeh.io.notebook as ion; ion.destroy_server('\" + server_id + \"')\";\n",
       "      cell.notebook.kernel.execute(cmd);\n",
       "    }\n",
       "  }\n",
       "\n",
       "  /**\n",
       "   * Handle when a new output is added\n",
       "   */\n",
       "  function handleAddOutput(event, handle) {\n",
       "    var output_area = handle.output_area;\n",
       "    var output = handle.output;\n",
       "\n",
       "    // limit handleAddOutput to display_data with EXEC_MIME_TYPE content only\n",
       "    if ((output.output_type != \"display_data\") || (!output.data.hasOwnProperty(EXEC_MIME_TYPE))) {\n",
       "      return\n",
       "    }\n",
       "\n",
       "    var toinsert = output_area.element.find(\".\" + CLASS_NAME.split(' ')[0]);\n",
       "\n",
       "    if (output.metadata[EXEC_MIME_TYPE][\"id\"] !== undefined) {\n",
       "      toinsert[toinsert.length - 1].firstChild.textContent = output.data[JS_MIME_TYPE];\n",
       "      // store reference to embed id on output_area\n",
       "      output_area._bokeh_element_id = output.metadata[EXEC_MIME_TYPE][\"id\"];\n",
       "    }\n",
       "    if (output.metadata[EXEC_MIME_TYPE][\"server_id\"] !== undefined) {\n",
       "      var bk_div = document.createElement(\"div\");\n",
       "      bk_div.innerHTML = output.data[HTML_MIME_TYPE];\n",
       "      var script_attrs = bk_div.children[0].attributes;\n",
       "      for (var i = 0; i < script_attrs.length; i++) {\n",
       "        toinsert[toinsert.length - 1].firstChild.setAttribute(script_attrs[i].name, script_attrs[i].value);\n",
       "      }\n",
       "      // store reference to server id on output_area\n",
       "      output_area._bokeh_server_id = output.metadata[EXEC_MIME_TYPE][\"server_id\"];\n",
       "    }\n",
       "  }\n",
       "\n",
       "  function register_renderer(events, OutputArea) {\n",
       "\n",
       "    function append_mime(data, metadata, element) {\n",
       "      // create a DOM node to render to\n",
       "      var toinsert = this.create_output_subarea(\n",
       "        metadata,\n",
       "        CLASS_NAME,\n",
       "        EXEC_MIME_TYPE\n",
       "      );\n",
       "      this.keyboard_manager.register_events(toinsert);\n",
       "      // Render to node\n",
       "      var props = {data: data, metadata: metadata[EXEC_MIME_TYPE]};\n",
       "      render(props, toinsert[toinsert.length - 1]);\n",
       "      element.append(toinsert);\n",
       "      return toinsert\n",
       "    }\n",
       "\n",
       "    /* Handle when an output is cleared or removed */\n",
       "    events.on('clear_output.CodeCell', handleClearOutput);\n",
       "    events.on('delete.Cell', handleClearOutput);\n",
       "\n",
       "    /* Handle when a new output is added */\n",
       "    events.on('output_added.OutputArea', handleAddOutput);\n",
       "\n",
       "    /**\n",
       "     * Register the mime type and append_mime function with output_area\n",
       "     */\n",
       "    OutputArea.prototype.register_mime_type(EXEC_MIME_TYPE, append_mime, {\n",
       "      /* Is output safe? */\n",
       "      safe: true,\n",
       "      /* Index of renderer in `output_area.display_order` */\n",
       "      index: 0\n",
       "    });\n",
       "  }\n",
       "\n",
       "  // register the mime type if in Jupyter Notebook environment and previously unregistered\n",
       "  if (root.Jupyter !== undefined) {\n",
       "    var events = require('base/js/events');\n",
       "    var OutputArea = require('notebook/js/outputarea').OutputArea;\n",
       "\n",
       "    if (OutputArea.prototype.mime_types().indexOf(EXEC_MIME_TYPE) == -1) {\n",
       "      register_renderer(events, OutputArea);\n",
       "    }\n",
       "  }\n",
       "\n",
       "  \n",
       "  if (typeof (root._bokeh_timeout) === \"undefined\" || force === true) {\n",
       "    root._bokeh_timeout = Date.now() + 5000;\n",
       "    root._bokeh_failed_load = false;\n",
       "  }\n",
       "\n",
       "  var NB_LOAD_WARNING = {'data': {'text/html':\n",
       "     \"<div style='background-color: #fdd'>\\n\"+\n",
       "     \"<p>\\n\"+\n",
       "     \"BokehJS does not appear to have successfully loaded. If loading BokehJS from CDN, this \\n\"+\n",
       "     \"may be due to a slow or bad network connection. Possible fixes:\\n\"+\n",
       "     \"</p>\\n\"+\n",
       "     \"<ul>\\n\"+\n",
       "     \"<li>re-rerun `output_notebook()` to attempt to load from CDN again, or</li>\\n\"+\n",
       "     \"<li>use INLINE resources instead, as so:</li>\\n\"+\n",
       "     \"</ul>\\n\"+\n",
       "     \"<code>\\n\"+\n",
       "     \"from bokeh.resources import INLINE\\n\"+\n",
       "     \"output_notebook(resources=INLINE)\\n\"+\n",
       "     \"</code>\\n\"+\n",
       "     \"</div>\"}};\n",
       "\n",
       "  function display_loaded() {\n",
       "    var el = document.getElementById(\"fa49d33d-5ff3-4d43-adef-17a22c297094\");\n",
       "    if (el != null) {\n",
       "      el.textContent = \"BokehJS is loading...\";\n",
       "    }\n",
       "    if (root.Bokeh !== undefined) {\n",
       "      if (el != null) {\n",
       "        el.textContent = \"BokehJS \" + root.Bokeh.version + \" successfully loaded.\";\n",
       "      }\n",
       "    } else if (Date.now() < root._bokeh_timeout) {\n",
       "      setTimeout(display_loaded, 100)\n",
       "    }\n",
       "  }\n",
       "\n",
       "\n",
       "  function run_callbacks() {\n",
       "    try {\n",
       "      root._bokeh_onload_callbacks.forEach(function(callback) { callback() });\n",
       "    }\n",
       "    finally {\n",
       "      delete root._bokeh_onload_callbacks\n",
       "    }\n",
       "    console.info(\"Bokeh: all callbacks have finished\");\n",
       "  }\n",
       "\n",
       "  function load_libs(js_urls, callback) {\n",
       "    root._bokeh_onload_callbacks.push(callback);\n",
       "    if (root._bokeh_is_loading > 0) {\n",
       "      console.log(\"Bokeh: BokehJS is being loaded, scheduling callback at\", now());\n",
       "      return null;\n",
       "    }\n",
       "    if (js_urls == null || js_urls.length === 0) {\n",
       "      run_callbacks();\n",
       "      return null;\n",
       "    }\n",
       "    console.log(\"Bokeh: BokehJS not loaded, scheduling load and callback at\", now());\n",
       "    root._bokeh_is_loading = js_urls.length;\n",
       "    for (var i = 0; i < js_urls.length; i++) {\n",
       "      var url = js_urls[i];\n",
       "      var s = document.createElement('script');\n",
       "      s.src = url;\n",
       "      s.async = false;\n",
       "      s.onreadystatechange = s.onload = function() {\n",
       "        root._bokeh_is_loading--;\n",
       "        if (root._bokeh_is_loading === 0) {\n",
       "          console.log(\"Bokeh: all BokehJS libraries loaded\");\n",
       "          run_callbacks()\n",
       "        }\n",
       "      };\n",
       "      s.onerror = function() {\n",
       "        console.warn(\"failed to load library \" + url);\n",
       "      };\n",
       "      console.log(\"Bokeh: injecting script tag for BokehJS library: \", url);\n",
       "      document.getElementsByTagName(\"head\")[0].appendChild(s);\n",
       "    }\n",
       "  };var element = document.getElementById(\"fa49d33d-5ff3-4d43-adef-17a22c297094\");\n",
       "  if (element == null) {\n",
       "    console.log(\"Bokeh: ERROR: autoload.js configured with elementid 'fa49d33d-5ff3-4d43-adef-17a22c297094' but no matching script tag was found. \")\n",
       "    return false;\n",
       "  }\n",
       "\n",
       "  var js_urls = [\"https://cdn.pydata.org/bokeh/release/bokeh-0.12.16.min.js\", \"https://cdn.pydata.org/bokeh/release/bokeh-widgets-0.12.16.min.js\", \"https://cdn.pydata.org/bokeh/release/bokeh-tables-0.12.16.min.js\", \"https://cdn.pydata.org/bokeh/release/bokeh-gl-0.12.16.min.js\"];\n",
       "\n",
       "  var inline_js = [\n",
       "    function(Bokeh) {\n",
       "      Bokeh.set_log_level(\"info\");\n",
       "    },\n",
       "    \n",
       "    function(Bokeh) {\n",
       "      \n",
       "    },\n",
       "    function(Bokeh) {\n",
       "      console.log(\"Bokeh: injecting CSS: https://cdn.pydata.org/bokeh/release/bokeh-0.12.16.min.css\");\n",
       "      Bokeh.embed.inject_css(\"https://cdn.pydata.org/bokeh/release/bokeh-0.12.16.min.css\");\n",
       "      console.log(\"Bokeh: injecting CSS: https://cdn.pydata.org/bokeh/release/bokeh-widgets-0.12.16.min.css\");\n",
       "      Bokeh.embed.inject_css(\"https://cdn.pydata.org/bokeh/release/bokeh-widgets-0.12.16.min.css\");\n",
       "      console.log(\"Bokeh: injecting CSS: https://cdn.pydata.org/bokeh/release/bokeh-tables-0.12.16.min.css\");\n",
       "      Bokeh.embed.inject_css(\"https://cdn.pydata.org/bokeh/release/bokeh-tables-0.12.16.min.css\");\n",
       "    }\n",
       "  ];\n",
       "\n",
       "  function run_inline_js() {\n",
       "    \n",
       "    if ((root.Bokeh !== undefined) || (force === true)) {\n",
       "      for (var i = 0; i < inline_js.length; i++) {\n",
       "        inline_js[i].call(root, root.Bokeh);\n",
       "      }if (force === true) {\n",
       "        display_loaded();\n",
       "      }} else if (Date.now() < root._bokeh_timeout) {\n",
       "      setTimeout(run_inline_js, 100);\n",
       "    } else if (!root._bokeh_failed_load) {\n",
       "      console.log(\"Bokeh: BokehJS failed to load within specified timeout.\");\n",
       "      root._bokeh_failed_load = true;\n",
       "    } else if (force !== true) {\n",
       "      var cell = $(document.getElementById(\"fa49d33d-5ff3-4d43-adef-17a22c297094\")).parents('.cell').data().cell;\n",
       "      cell.output_area.append_execute_result(NB_LOAD_WARNING)\n",
       "    }\n",
       "\n",
       "  }\n",
       "\n",
       "  if (root._bokeh_is_loading === 0) {\n",
       "    console.log(\"Bokeh: BokehJS loaded, going straight to plotting\");\n",
       "    run_inline_js();\n",
       "  } else {\n",
       "    load_libs(js_urls, function() {\n",
       "      console.log(\"Bokeh: BokehJS plotting callback run at\", now());\n",
       "      run_inline_js();\n",
       "    });\n",
       "  }\n",
       "}(window));"
      ],
      "application/vnd.bokehjs_load.v0+json": "\n(function(root) {\n  function now() {\n    return new Date();\n  }\n\n  var force = true;\n\n  if (typeof (root._bokeh_onload_callbacks) === \"undefined\" || force === true) {\n    root._bokeh_onload_callbacks = [];\n    root._bokeh_is_loading = undefined;\n  }\n\n  \n\n  \n  if (typeof (root._bokeh_timeout) === \"undefined\" || force === true) {\n    root._bokeh_timeout = Date.now() + 5000;\n    root._bokeh_failed_load = false;\n  }\n\n  var NB_LOAD_WARNING = {'data': {'text/html':\n     \"<div style='background-color: #fdd'>\\n\"+\n     \"<p>\\n\"+\n     \"BokehJS does not appear to have successfully loaded. If loading BokehJS from CDN, this \\n\"+\n     \"may be due to a slow or bad network connection. Possible fixes:\\n\"+\n     \"</p>\\n\"+\n     \"<ul>\\n\"+\n     \"<li>re-rerun `output_notebook()` to attempt to load from CDN again, or</li>\\n\"+\n     \"<li>use INLINE resources instead, as so:</li>\\n\"+\n     \"</ul>\\n\"+\n     \"<code>\\n\"+\n     \"from bokeh.resources import INLINE\\n\"+\n     \"output_notebook(resources=INLINE)\\n\"+\n     \"</code>\\n\"+\n     \"</div>\"}};\n\n  function display_loaded() {\n    var el = document.getElementById(\"fa49d33d-5ff3-4d43-adef-17a22c297094\");\n    if (el != null) {\n      el.textContent = \"BokehJS is loading...\";\n    }\n    if (root.Bokeh !== undefined) {\n      if (el != null) {\n        el.textContent = \"BokehJS \" + root.Bokeh.version + \" successfully loaded.\";\n      }\n    } else if (Date.now() < root._bokeh_timeout) {\n      setTimeout(display_loaded, 100)\n    }\n  }\n\n\n  function run_callbacks() {\n    try {\n      root._bokeh_onload_callbacks.forEach(function(callback) { callback() });\n    }\n    finally {\n      delete root._bokeh_onload_callbacks\n    }\n    console.info(\"Bokeh: all callbacks have finished\");\n  }\n\n  function load_libs(js_urls, callback) {\n    root._bokeh_onload_callbacks.push(callback);\n    if (root._bokeh_is_loading > 0) {\n      console.log(\"Bokeh: BokehJS is being loaded, scheduling callback at\", now());\n      return null;\n    }\n    if (js_urls == null || js_urls.length === 0) {\n      run_callbacks();\n      return null;\n    }\n    console.log(\"Bokeh: BokehJS not loaded, scheduling load and callback at\", now());\n    root._bokeh_is_loading = js_urls.length;\n    for (var i = 0; i < js_urls.length; i++) {\n      var url = js_urls[i];\n      var s = document.createElement('script');\n      s.src = url;\n      s.async = false;\n      s.onreadystatechange = s.onload = function() {\n        root._bokeh_is_loading--;\n        if (root._bokeh_is_loading === 0) {\n          console.log(\"Bokeh: all BokehJS libraries loaded\");\n          run_callbacks()\n        }\n      };\n      s.onerror = function() {\n        console.warn(\"failed to load library \" + url);\n      };\n      console.log(\"Bokeh: injecting script tag for BokehJS library: \", url);\n      document.getElementsByTagName(\"head\")[0].appendChild(s);\n    }\n  };var element = document.getElementById(\"fa49d33d-5ff3-4d43-adef-17a22c297094\");\n  if (element == null) {\n    console.log(\"Bokeh: ERROR: autoload.js configured with elementid 'fa49d33d-5ff3-4d43-adef-17a22c297094' but no matching script tag was found. \")\n    return false;\n  }\n\n  var js_urls = [\"https://cdn.pydata.org/bokeh/release/bokeh-0.12.16.min.js\", \"https://cdn.pydata.org/bokeh/release/bokeh-widgets-0.12.16.min.js\", \"https://cdn.pydata.org/bokeh/release/bokeh-tables-0.12.16.min.js\", \"https://cdn.pydata.org/bokeh/release/bokeh-gl-0.12.16.min.js\"];\n\n  var inline_js = [\n    function(Bokeh) {\n      Bokeh.set_log_level(\"info\");\n    },\n    \n    function(Bokeh) {\n      \n    },\n    function(Bokeh) {\n      console.log(\"Bokeh: injecting CSS: https://cdn.pydata.org/bokeh/release/bokeh-0.12.16.min.css\");\n      Bokeh.embed.inject_css(\"https://cdn.pydata.org/bokeh/release/bokeh-0.12.16.min.css\");\n      console.log(\"Bokeh: injecting CSS: https://cdn.pydata.org/bokeh/release/bokeh-widgets-0.12.16.min.css\");\n      Bokeh.embed.inject_css(\"https://cdn.pydata.org/bokeh/release/bokeh-widgets-0.12.16.min.css\");\n      console.log(\"Bokeh: injecting CSS: https://cdn.pydata.org/bokeh/release/bokeh-tables-0.12.16.min.css\");\n      Bokeh.embed.inject_css(\"https://cdn.pydata.org/bokeh/release/bokeh-tables-0.12.16.min.css\");\n    }\n  ];\n\n  function run_inline_js() {\n    \n    if ((root.Bokeh !== undefined) || (force === true)) {\n      for (var i = 0; i < inline_js.length; i++) {\n        inline_js[i].call(root, root.Bokeh);\n      }if (force === true) {\n        display_loaded();\n      }} else if (Date.now() < root._bokeh_timeout) {\n      setTimeout(run_inline_js, 100);\n    } else if (!root._bokeh_failed_load) {\n      console.log(\"Bokeh: BokehJS failed to load within specified timeout.\");\n      root._bokeh_failed_load = true;\n    } else if (force !== true) {\n      var cell = $(document.getElementById(\"fa49d33d-5ff3-4d43-adef-17a22c297094\")).parents('.cell').data().cell;\n      cell.output_area.append_execute_result(NB_LOAD_WARNING)\n    }\n\n  }\n\n  if (root._bokeh_is_loading === 0) {\n    console.log(\"Bokeh: BokehJS loaded, going straight to plotting\");\n    run_inline_js();\n  } else {\n    load_libs(js_urls, function() {\n      console.log(\"Bokeh: BokehJS plotting callback run at\", now());\n      run_inline_js();\n    });\n  }\n}(window));"
     },
     "metadata": {},
     "output_type": "display_data"
    }
   ],
   "source": [
    "output_notebook()"
   ]
  },
  {
   "cell_type": "code",
   "execution_count": 8,
   "metadata": {
    "collapsed": true
   },
   "outputs": [],
   "source": [
    "def fmt_cool(ds_in):\n",
    "    ds = ds_in.copy(deep=True)\n",
    "    if 'igg' in ds.dims:\n",
    "        ds = ds.sel(igg=1)\n",
    "\n",
    "    if 'g' in ds.dims:\n",
    "        ds = ds.sum('g')\n",
    "            \n",
    "    if 'band' in ds.dims:\n",
    "        try:\n",
    "            ds = ds.squeeze('band')\n",
    "        except ValueError:\n",
    "            ds = ds.sum('band')\n",
    "                \n",
    "    return ds['coolrg']\n",
    "\n",
    "\n",
    "def pltdata_cooling_1(ds_cool=None,\n",
    "                      ds_cool_crd=None, ds_cool_wgt=None):\n",
    "    \n",
    "\n",
    "\n",
    "    colors = all_palettes['Set1'][4]\n",
    "    data = [{'label': 'CLIRAD `coolr_bands`',\n",
    "             'srs': fmt_cool(ds_cool),\n",
    "             'line_dash': 'dashed', 'line_width': 5,\n",
    "             'color': colors[0], 'alpha': .6},\n",
    "            {'label': 'CRD',\n",
    "             'srs': fmt_cool(ds_cool_crd),\n",
    "             'line_dash': 'solid', 'line_width': 1.5,\n",
    "             'marker': 'circle', 'marker_size': 5,\n",
    "             'color': colors[2], 'alpha': 1,},\n",
    "            {'label': 'WGT igg=10 wgt_flux=2',\n",
    "             'srs': fmt_cool(ds_cool_wgt),\n",
    "             'line_dash': 'solid', 'line_width': 3,\n",
    "             'marker': 'square', 'marker_size': 5,\n",
    "             'color': colors[3], 'alpha': .6}]\n",
    "    return data\n",
    "\n",
    "\n",
    "def nice_xlims(pltdata=None, prange=None):\n",
    "    \n",
    "    def get_slice(srs):\n",
    "        return srs.sel(pressure=slice(*prange))\n",
    "    \n",
    "    srss = [d['srs'] for d in pltdata]\n",
    "    vmin = min([get_slice(srs).min() for srs in srss])\n",
    "    vmax = max([get_slice(srs).max() for srs in srss])\n",
    "    dv = (vmax - vmin) * .01\n",
    "    return float(vmin - dv), float(vmax + dv)\n",
    "    \n",
    "\n",
    "def plt_cooling_bokeh(pltdata=None):\n",
    "    '''\n",
    "    Plot a list of cooling rate profiles using bokeh.\n",
    "    '''\n",
    "    ymin = 1e-2 \n",
    "    ymax = 1020 \n",
    "        \n",
    "    p1 = figure(title=\"Linear pressure scale\", \n",
    "                plot_width=400)        \n",
    "    xmin, xmax = nice_xlims(pltdata, prange=(50, 1050))\n",
    "    for d in pltdata:\n",
    "        if 'marker' in d:\n",
    "            getattr(p1, d['marker'])(d['srs'].values, \n",
    "                    d['srs'].coords['pressure'].values,\n",
    "                    color=d['color'], alpha=.7)\n",
    "        p1.line(d['srs'].values, \n",
    "                d['srs'].coords['pressure'].values,\n",
    "                color=d['color'], alpha=d['alpha'], \n",
    "                line_width=d['line_width'], line_dash=d['line_dash'])\n",
    "    \n",
    "    p1.y_range = Range1d(ymax, ymin)\n",
    "    p1.yaxis.axis_label = 'pressure [mb]'   \n",
    "    p1.x_range = Range1d(xmin, xmax)\n",
    "    p1.xaxis.axis_label = 'cooling rate [K/day]'\n",
    "            \n",
    "    p2 = figure(title='Log pressure scale', y_axis_type='log',\n",
    "                plot_width=560)\n",
    "    xmin, xmax = nice_xlims(pltdata, prange=(.01, 200))\n",
    "    \n",
    "    rs = []\n",
    "    for d in pltdata:\n",
    "        rd = []\n",
    "        if 'marker' in d:\n",
    "            r_mark = getattr(p2, d['marker'])(d['srs'].values, \n",
    "                        d['srs'].coords['pressure'].values,\n",
    "                        color=d['color'], alpha=.7)\n",
    "            rd.append(r_mark)\n",
    "        r_line = p2.line(d['srs'].values, \n",
    "                    d['srs'].coords['pressure'].values,\n",
    "                    color=d['color'], alpha=d['alpha'], \n",
    "                    line_width=d['line_width'], line_dash=d['line_dash'])\n",
    "        rd.append(r_line)\n",
    "      \n",
    "        rs.append(rd)\n",
    "        \n",
    "    p2.y_range = Range1d(ymax, ymin)  \n",
    "    p2.yaxis.axis_label = 'pressure [mb]'\n",
    "    \n",
    "    p2.x_range = Range1d(xmin, xmax)\n",
    "    p2.xaxis.axis_label = 'cooling rate [K/day]'\n",
    "    \n",
    "    items = [(d['label'], r) for r, d in zip(rs, pltdata)]\n",
    "    legend = Legend(items=items, location=(10, -30))\n",
    "    legend.label_text_font_size = '8pt'\n",
    "    \n",
    "    p2.add_layout(legend, 'right')  \n",
    "    \n",
    "    show(gridplot(p1, p2, ncols=2, plot_height=500))\n",
    "    \n",
    "\n",
    "def script_plt_cooling():\n",
    "    pltdata = pltdata_cooling_1(\n",
    "        ds_cool=DS_COOL,\n",
    "        ds_cool_crd=DS_COOL_CRD,\n",
    "        ds_cool_wgt=DS_COOL_WGT)\n",
    "    plt_cooling_bokeh(pltdata=pltdata)\n",
    "    print('''FIGURE. Cooling rate profiles.''')"
   ]
  },
  {
   "cell_type": "code",
   "execution_count": 9,
   "metadata": {
    "collapsed": true
   },
   "outputs": [],
   "source": [
    "def fmt_flux(ds_in):\n",
    "    ds = ds_in.copy(deep=True)\n",
    "    \n",
    "    for l in ('level', 'layer'):\n",
    "        if l in ds.data_vars:\n",
    "            if len(ds[l].dims) > 1:\n",
    "                surface = {d: 0 for d in ds.dims if d != 'pressure'}\n",
    "                coord_level = ds[l][surface]\n",
    "                ds.coords[l] = ('pressure', coord_level)\n",
    "            else:\n",
    "                ds.coords[l] = ('pressure', ds[l])\n",
    "        \n",
    "    ds = ds.isel(pressure=[0, 23, -1])\n",
    "        \n",
    "    if 'igg' in ds.dims:\n",
    "        ds = ds.sel(igg=[1])\n",
    "        ds = ds.squeeze('igg').drop('igg')\n",
    "    \n",
    "    if 'g' in ds.dims:\n",
    "        ds = ds.sum('g')\n",
    "            \n",
    "    if 'band' in ds.dims:\n",
    "        try:\n",
    "            ds = ds.squeeze('band').drop('band')\n",
    "        except ValueError:\n",
    "            ds = ds.sum('band')\n",
    "                \n",
    "    df = ds.to_dataframe()\n",
    "    df = df.set_index('level', append=True)               \n",
    "    return df\n",
    "\n",
    "\n",
    "def tbdata_flux(ds_flux=None, ds_flux_crd=None, ds_flux_wgt=None):\n",
    "    ilevels = [0, 23, -1]\n",
    "            \n",
    "    benchmark = {'label': 'CRD',\n",
    "                 'df': fmt_flux(ds_flux_crd)}\n",
    "    \n",
    "    tbs = [{'label': 'WGT igg=10 wgt_flux=1',\n",
    "            'df': fmt_flux(ds_flux_wgt)},\n",
    "           {'label': 'CLIRAD',\n",
    "            'df': fmt_flux(ds_flux)}]\n",
    "    \n",
    "    data = {'benchmark': benchmark, 'others': tbs}\n",
    "    return data\n",
    "\n",
    "\n",
    "def tb_flux(tbdata=None):\n",
    "    benchmark = tbdata['benchmark']\n",
    "    others = tbdata['others']\n",
    "    \n",
    "    def show_tb(d=None):\n",
    "        display.display(d['df'])\n",
    "        print('Table.', 'Fluxes.', d['label'])\n",
    "        \n",
    "    def show_tbdiff(d0=None, d=None):\n",
    "        df = d['df']\n",
    "        df.index = d0['df'].index\n",
    "        display.display(df - d0['df'])\n",
    "        print('Table.', 'Fluxes.', \n",
    "              '({}) - ({})'.format(d['label'], d0['label']))\n",
    "        \n",
    "    show_tb(benchmark)\n",
    "    for d in others:\n",
    "        show_tb(d)\n",
    "        \n",
    "    for d in others:\n",
    "        show_tbdiff(d=d, d0=benchmark)\n",
    "        \n",
    "        \n",
    "def script_tb_flux():\n",
    "    data = tbdata_flux(ds_flux=DS_FLUX,\n",
    "                       ds_flux_crd=DS_FLUX_CRD,\n",
    "                       ds_flux_wgt=DS_FLUX_WGT)\n",
    "    tb_flux(tbdata=data)"
   ]
  },
  {
   "cell_type": "code",
   "execution_count": 10,
   "metadata": {
    "collapsed": true
   },
   "outputs": [],
   "source": [
    "def band_map():\n",
    "    '''\n",
    "    Maps spectral bands in lblnew to spectral bands in clirad.\n",
    "    '''\n",
    "    lblnew2clirad = {'1': '1',\n",
    "            '2': '2',\n",
    "            '3a': '3',\n",
    "            '3b': '4',\n",
    "            '3c': '5',\n",
    "            '4': '6', \n",
    "            '5': '7',\n",
    "            '6': '8',\n",
    "            '7': '9', \n",
    "            '8': '10',\n",
    "            '9': '11'}\n",
    "    \n",
    "    clirad2lblnew = {clirad: lblnew \n",
    "                     for lblnew, clirad in lblnew2clirad.items()}\n",
    "    return clirad2lblnew\n",
    "\n",
    "\n",
    "def gasbands():\n",
    "    bmap = band_map()\n",
    "    gases = list(PARAM['molecule'].keys())\n",
    "    \n",
    "    bands = [bmap[str(b)] for b in PARAM['band']]\n",
    "    return list(itertools.product(gases, bands))\n",
    "\n",
    "\n",
    "def print_bestfit_params():\n",
    "    print('Best-fit values for each (gas, band)')\n",
    "    print('------------------------------------')\n",
    "    for gas, band in gasbands():\n",
    "        print('o {} band{}'.format(gas, band))\n",
    "        param = bestfits.kdist_params(molecule=gas, band=band)\n",
    "        for name, value in sorted(param.items()):\n",
    "            print(2 * ' ' + '{} = {}'.format(name, value))\n",
    "\n",
    "        \n",
    "def print_input_param():        \n",
    "    for name, value in PARAM.items():\n",
    "        print('{} = {}'.format(name, value))\n",
    "        \n",
    "        \n",
    "def print_lblnew_param():\n",
    "    for name, value in sorted(PARAM_LBLNEW.items()):\n",
    "        print('{} = {}'.format(name, value))\n"
   ]
  },
  {
   "cell_type": "code",
   "execution_count": 11,
   "metadata": {
    "collapsed": true,
    "scrolled": false
   },
   "outputs": [],
   "source": [
    "def show_html(s):\n",
    "    display.display(display.HTML(s))\n",
    "\n",
    "    \n",
    "def show_markdown(s):\n",
    "    display.display(display.Markdown(s))\n",
    "\n",
    "    \n",
    "def script():\n",
    "    \n",
    "    title = '### CLIRAD-LW'\n",
    "    s_input = 'Input Parameters'\n",
    "    s_lblnew_param = 'LBLNEW case compaired against'\n",
    "    s_bestfits = 'Best-fit Parameters'\n",
    "    s_plt_cooling = 'Cooling Rate Profiles'\n",
    "    s_tb_flux = 'Flux Comparison'\n",
    "    \n",
    "    # title\n",
    "    show_markdown('### CLIRAD-LW')\n",
    "    \n",
    "    # TOC\n",
    "    show_markdown('### Table of Contents')\n",
    "    show_html(climahtml.getHTML_hrefanchor(s_input))\n",
    "    show_html(climahtml.getHTML_hrefanchor(s_lblnew_param))\n",
    "    show_html(climahtml.getHTML_hrefanchor(s_plt_cooling))\n",
    "    show_html(climahtml.getHTML_hrefanchor(s_tb_flux))\n",
    "    show_html(climahtml.getHTML_hrefanchor(s_bestfits))\n",
    "    \n",
    "    # Input parameters\n",
    "    show_html(climahtml.getHTML_idanchor(s_input))\n",
    "    show_markdown(climahtml.getMarkdown_sectitle(s_input))\n",
    "    print_input_param()\n",
    "    \n",
    "    # LBLNEW parameters \n",
    "    show_html(climahtml.getHTML_idanchor(s_lblnew_param))\n",
    "    show_markdown(climahtml.getMarkdown_sectitle(s_lblnew_param))\n",
    "    print_lblnew_param()\n",
    "    \n",
    "    # Cooling rate profiles\n",
    "    show_html(climahtml.getHTML_idanchor(s_plt_cooling))\n",
    "    show_markdown(climahtml.getMarkdown_sectitle(s_plt_cooling))\n",
    "    script_plt_cooling()\n",
    "    \n",
    "    # Flux comparison\n",
    "    show_html(climahtml.getHTML_idanchor(s_tb_flux))\n",
    "    show_markdown(climahtml.getMarkdown_sectitle(s_tb_flux))\n",
    "    script_tb_flux()\n",
    "    \n",
    "    # Best-fit values\n",
    "    show_html(climahtml.getHTML_idanchor(s_bestfits))\n",
    "    show_markdown(climahtml.getMarkdown_sectitle(s_bestfits))\n",
    "    print_bestfit_params()\n",
    "   \n",
    "    "
   ]
  },
  {
   "cell_type": "code",
   "execution_count": 12,
   "metadata": {
    "collapsed": true,
    "scrolled": false
   },
   "outputs": [
    {
     "data": {
      "text/markdown": [
       "### CLIRAD-LW"
      ],
      "text/plain": [
       "<IPython.core.display.Markdown object>"
      ]
     },
     "metadata": {},
     "output_type": "display_data"
    },
    {
     "data": {
      "text/markdown": [
       "### Table of Contents"
      ],
      "text/plain": [
       "<IPython.core.display.Markdown object>"
      ]
     },
     "metadata": {},
     "output_type": "display_data"
    },
    {
     "data": {
      "text/html": [
       "<a href=\"#Input_Parameters\">Input Parameters</a>"
      ],
      "text/plain": [
       "<IPython.core.display.HTML object>"
      ]
     },
     "metadata": {},
     "output_type": "display_data"
    },
    {
     "data": {
      "text/html": [
       "<a href=\"#LBLNEW_case_compaired_against\">LBLNEW case compaired against</a>"
      ],
      "text/plain": [
       "<IPython.core.display.HTML object>"
      ]
     },
     "metadata": {},
     "output_type": "display_data"
    },
    {
     "data": {
      "text/html": [
       "<a href=\"#Cooling_Rate_Profiles\">Cooling Rate Profiles</a>"
      ],
      "text/plain": [
       "<IPython.core.display.HTML object>"
      ]
     },
     "metadata": {},
     "output_type": "display_data"
    },
    {
     "data": {
      "text/html": [
       "<a href=\"#Flux_Comparison\">Flux Comparison</a>"
      ],
      "text/plain": [
       "<IPython.core.display.HTML object>"
      ]
     },
     "metadata": {},
     "output_type": "display_data"
    },
    {
     "data": {
      "text/html": [
       "<a href=\"#Best-fit_Parameters\">Best-fit Parameters</a>"
      ],
      "text/plain": [
       "<IPython.core.display.HTML object>"
      ]
     },
     "metadata": {},
     "output_type": "display_data"
    },
    {
     "data": {
      "text/html": [
       "<a id=\"Input_Parameters\"></a>"
      ],
      "text/plain": [
       "<IPython.core.display.HTML object>"
      ]
     },
     "metadata": {},
     "output_type": "display_data"
    },
    {
     "data": {
      "text/markdown": [
       "# Input Parameters"
      ],
      "text/plain": [
       "<IPython.core.display.Markdown object>"
      ]
     },
     "metadata": {},
     "output_type": "display_data"
    },
    {
     "name": "stdout",
     "output_type": "stream",
     "text": [
      "atmpro = trp\n",
      "band = [10]\n",
      "commitnumber = 4198f95_x\n",
      "molecule = {'h2o': 'atmpro'}\n",
      "tsfc = 300\n"
     ]
    },
    {
     "data": {
      "text/html": [
       "<a id=\"LBLNEW_case_compaired_against\"></a>"
      ],
      "text/plain": [
       "<IPython.core.display.HTML object>"
      ]
     },
     "metadata": {},
     "output_type": "display_data"
    },
    {
     "data": {
      "text/markdown": [
       "# LBLNEW case compaired against"
      ],
      "text/plain": [
       "<IPython.core.display.Markdown object>"
      ]
     },
     "metadata": {},
     "output_type": "display_data"
    },
    {
     "name": "stdout",
     "output_type": "stream",
     "text": [
      "atmpro = trp\n",
      "band = 8\n",
      "commitnumber = 5014a19\n",
      "conc = None\n",
      "dv = 0.001\n",
      "klin = 0\n",
      "molecule = h2o\n",
      "ng_adju = [0, -1, 0]\n",
      "ng_refs = [3, 2, 3]\n",
      "nv = 1000\n",
      "option_compute_btable = 0\n",
      "option_compute_ktable = 0\n",
      "option_wgt_flux = 1\n",
      "option_wgt_k = 1\n",
      "ref_pts = [(1, 250), (10, 250), (500, 250)]\n",
      "tsfc = 300\n",
      "vmax = 1900\n",
      "vmin = 1380\n",
      "w_diffuse = [(1.66, 1.66, 1.66), (1.66, 1.66), (1.66, 1.66, 1.66)]\n",
      "wgt = [(0.55, 0.55, 0.85), (0.85, 0.85), (0, 0.3, 0.55)]\n"
     ]
    },
    {
     "data": {
      "text/html": [
       "<a id=\"Cooling_Rate_Profiles\"></a>"
      ],
      "text/plain": [
       "<IPython.core.display.HTML object>"
      ]
     },
     "metadata": {},
     "output_type": "display_data"
    },
    {
     "data": {
      "text/markdown": [
       "# Cooling Rate Profiles"
      ],
      "text/plain": [
       "<IPython.core.display.Markdown object>"
      ]
     },
     "metadata": {},
     "output_type": "display_data"
    },
    {
     "data": {
      "text/html": [
       "\n",
       "<div class=\"bk-root\">\n",
       "    <div class=\"bk-plotdiv\" id=\"adfe7025-1d06-4739-acc6-5716205918b0\"></div>\n",
       "</div>"
      ]
     },
     "metadata": {},
     "output_type": "display_data"
    },
    {
     "data": {
      "application/javascript": [
       "(function(root) {\n",
       "  function embed_document(root) {\n",
       "    \n",
       "  var docs_json = {\"2ffdf29c-35e0-47d2-b63a-dda43b487334\":{\"roots\":{\"references\":[{\"attributes\":{},\"id\":\"d3a4caef-0600-47b1-9747-2269f5359d5a\",\"type\":\"PanTool\"},{\"attributes\":{\"callback\":null,\"end\":0.20258133857,\"start\":-0.020535355569999997},\"id\":\"b372a031-02ef-476f-902d-1b367df282f0\",\"type\":\"Range1d\"},{\"attributes\":{\"fill_alpha\":{\"value\":0.1},\"fill_color\":{\"value\":\"#1f77b4\"},\"line_alpha\":{\"value\":0.1},\"line_color\":{\"value\":\"#1f77b4\"},\"x\":{\"field\":\"x\"},\"y\":{\"field\":\"y\"}},\"id\":\"bc2a692a-2a75-4b9d-bc03-64dac4fa4be5\",\"type\":\"Square\"},{\"attributes\":{\"data_source\":{\"id\":\"f46e6c25-c67a-40ed-b7bc-a9bc54a590a6\",\"type\":\"ColumnDataSource\"},\"glyph\":{\"id\":\"5d1b6645-837b-4665-9b24-8d48e9231ee9\",\"type\":\"Circle\"},\"hover_glyph\":null,\"muted_glyph\":null,\"nonselection_glyph\":{\"id\":\"590586ec-8f3a-4a75-80ad-7f1578368465\",\"type\":\"Circle\"},\"selection_glyph\":null,\"view\":{\"id\":\"79dc807c-1e02-4a20-bc1d-6fccff200136\",\"type\":\"CDSView\"}},\"id\":\"32b4d788-c62c-4d85-b07e-91019737ca05\",\"type\":\"GlyphRenderer\"},{\"attributes\":{\"children\":[{\"id\":\"f0d97745-0603-4b24-9f2d-93fa895dc2e9\",\"type\":\"Row\"}]},\"id\":\"06d9d290-8cda-466c-b8e2-4a70d79a48e0\",\"type\":\"Column\"},{\"attributes\":{\"source\":{\"id\":\"3bf7afb1-8630-4c1c-aac1-a3055f68d466\",\"type\":\"ColumnDataSource\"}},\"id\":\"ff9272c6-9a69-453f-9e7e-4a23eee22a1a\",\"type\":\"CDSView\"},{\"attributes\":{},\"id\":\"c44cbf09-b99e-4508-92ca-25da04c6eeee\",\"type\":\"ResetTool\"},{\"attributes\":{\"fill_alpha\":{\"value\":0.1},\"fill_color\":{\"value\":\"#1f77b4\"},\"line_alpha\":{\"value\":0.1},\"line_color\":{\"value\":\"#1f77b4\"},\"x\":{\"field\":\"x\"},\"y\":{\"field\":\"y\"}},\"id\":\"3b17c32f-3fa2-4f14-b69f-6b746ad21c1a\",\"type\":\"Circle\"},{\"attributes\":{\"bottom_units\":\"screen\",\"fill_alpha\":{\"value\":0.5},\"fill_color\":{\"value\":\"lightgrey\"},\"left_units\":\"screen\",\"level\":\"overlay\",\"line_alpha\":{\"value\":1.0},\"line_color\":{\"value\":\"black\"},\"line_dash\":[4,4],\"line_width\":{\"value\":2},\"plot\":null,\"render_mode\":\"css\",\"right_units\":\"screen\",\"top_units\":\"screen\"},\"id\":\"20a3d00e-bce5-48d6-8728-04676f41921b\",\"type\":\"BoxAnnotation\"},{\"attributes\":{\"source\":{\"id\":\"9334ba68-ee1e-44fb-b541-2dabe70ce9b0\",\"type\":\"ColumnDataSource\"}},\"id\":\"ec0412f8-2289-4793-8adc-104cdf200707\",\"type\":\"CDSView\"},{\"attributes\":{\"axis_label\":\"pressure [mb]\",\"formatter\":{\"id\":\"fc725eda-f6d3-437a-b031-45d6362ad557\",\"type\":\"BasicTickFormatter\"},\"plot\":{\"id\":\"92750815-2e51-4781-aecf-da5d8375f404\",\"subtype\":\"Figure\",\"type\":\"Plot\"},\"ticker\":{\"id\":\"9ef8c388-f602-4c97-9e78-43e78f6db0e0\",\"type\":\"BasicTicker\"}},\"id\":\"de60dfa7-4e27-40c7-aff0-6b61a08c9710\",\"type\":\"LinearAxis\"},{\"attributes\":{\"line_alpha\":0.1,\"line_color\":\"#1f77b4\",\"line_width\":3,\"x\":{\"field\":\"x\"},\"y\":{\"field\":\"y\"}},\"id\":\"63dafcaf-8906-4338-a90d-e07bc4b41f98\",\"type\":\"Line\"},{\"attributes\":{},\"id\":\"7ff69d00-2ebf-4a44-b24a-52225a064b11\",\"type\":\"LinearScale\"},{\"attributes\":{\"axis_label\":\"cooling rate [K/day]\",\"formatter\":{\"id\":\"dfbe2719-4133-4f4b-9abe-085a361b1e25\",\"type\":\"BasicTickFormatter\"},\"plot\":{\"id\":\"e9c23ff5-db4c-441a-80ed-a518ec34f67e\",\"subtype\":\"Figure\",\"type\":\"Plot\"},\"ticker\":{\"id\":\"4203c16f-13c4-44bd-85d5-c21b7ab62622\",\"type\":\"BasicTicker\"}},\"id\":\"a5c4ba60-5953-4553-b3de-582bb0720e2e\",\"type\":\"LinearAxis\"},{\"attributes\":{\"callback\":null,\"data\":{\"x\":{\"__ndarray__\":\"CKqIy9htvr9HrwYoDTW+vyRYJD9Fgr2/nr5UIj/RvL+4xuvqIyq8v/8a94MNkbu/XxbJDXUOu7+KbfcX5qm6v6tyJStUcbq/uE1lD7xzur8r+flrice6vweabI8gjbu/fUGo3lz0vL8knxUgIwO/vwdPdJ8UlL6/kQKFJvv6uL/v7x1JCiuwv5CfvZVNApe/5O0B7SAMmj+VDISNgES1PwPvP43WLMQ/L4T/Ibvazz9j5HZ5hCTQP9OM4qge4cY/h8T7eWwuvj/lrGEc4vOxP97FONUTw6Y/GG3KH1BZoD953X6grH2ZP4cGIr4llpQ/th5+MW2VkD/P2Lh6JfuJP2gksQlRg4M/hqWqngbrez+9eC6wKNxbP8PGiS/SBHS/5A4Vj/2/g7/JrwMNVMuEv9ykrCNqSXu/Dm7zjughaL+9a+zsDblnP+wjsGz4c5A/KlLvFjkloj+8Y5qxtMiuPwlkSZU1pbY/CnRYp+sFvj/wNspVhzfCP+jLfwajK8Q/k7nHDDM4xD89hr8NzjPEP/XBzwu5ysM/Yy4losr2wj8nXQIJ7cnBP6GmM4M6XcA/ILLtWXyvvT+ZPI60jom6P/v32ftmeLc/SrJQYymvtD9R3hNgYnCyP3mfgno1a7E/ZjBnMvNPsj87WMc90mq0P436Qs0yObQ/sZnA0MqNrj+citDftnybPzm4G3Pe4kO/Yg1F8ZJOjL9t1p8Y59yKv2JjoGPu93u/YAsmcH7SX7+8Nbr6h486P8pfh1WvZ1c/LDxYlEwtXz8iaW+k94NtP4jOWwqCpsk/\",\"dtype\":\"float64\",\"shape\":[75]},\"y\":{\"__ndarray__\":\"GhExyth1ND/Sv8nbtpRIP2vylNV0PVE/aTum7souWD/At0SJ8fVgPw3Iuahxymc/MSNhhJWvcD/bTfBN02d3P2zb5nxnaoA/CD5h5MAGhz8NmeH1TyaQP+zrCsc9p5Y/LbKd76fGnz/bLW5ISEmmPww9YvTcQq8/JV2OstnstT8Er5Y7M8G+P0c+r3jqkcU/5h99k6ZBzj88bCIzFzjVP4enV8oyxN0//yH99nXg5D8qOpLLf0jtP5kqGJXUifQ/c9cS8kHP/D+/DpwzojQEQIEmwoanVwxA4lgXt9HgE0BSSZ2AJuIbQAMJih9jjiNA5q4l5INuK0AwTKYKRj0zQNv5fmq8/DpAaCJseHrtQkB/+zpwzoxKQM3MzMzMeFJAZmZmZmZqWEAAAAAAAFxeQM3MzMzMJmJAmpmZmZkfZUBmZmZmZhhoQDMzMzMzEWtAAAAAAAAKbkBmZmZmZoFwQM3MzMzM/XFAMzMzMzN6c0CamZmZmfZ0QAAAAAAAc3ZAZmZmZmbvd0DNzMzMzGt5QDMzMzMz6HpAmpmZmZlkfEAAAAAAAOF9QGZmZmZmXX9AZmZmZuZsgECamZmZGSuBQM3MzMxM6YFAAAAAAICngkAzMzMzs2WDQGZmZmbmI4RAmpmZmRnihEDNzMzMTKCFQAAAAACAXoZAMzMzM7Mch0BmZmZm5tqHQJqZmZkZmYhAzczMzExXiUAAAAAAgBWKQDMzMzOz04pAZmZmZuaRi0CamZmZGVCMQM3MzMxMDo1AAAAAAIDMjUAzMzMzs4qOQGZmZmbmSI9A\",\"dtype\":\"float64\",\"shape\":[75]}},\"selected\":{\"id\":\"596dd9dd-a4df-4019-a98d-5a2dde6b8a25\",\"type\":\"Selection\"},\"selection_policy\":{\"id\":\"304416e7-7a06-46de-a12e-0327a446b7c9\",\"type\":\"UnionRenderers\"}},\"id\":\"f46e6c25-c67a-40ed-b7bc-a9bc54a590a6\",\"type\":\"ColumnDataSource\"},{\"attributes\":{},\"id\":\"9c60919f-98ca-4550-b733-5782cd4ab9ef\",\"type\":\"WheelZoomTool\"},{\"attributes\":{},\"id\":\"c28f9e05-499e-4f71-9331-d62d6f263e94\",\"type\":\"BasicTicker\"},{\"attributes\":{\"plot\":{\"id\":\"92750815-2e51-4781-aecf-da5d8375f404\",\"subtype\":\"Figure\",\"type\":\"Plot\"},\"ticker\":{\"id\":\"c28f9e05-499e-4f71-9331-d62d6f263e94\",\"type\":\"BasicTicker\"}},\"id\":\"4349b371-55de-4a58-a22d-897ae5557935\",\"type\":\"Grid\"},{\"attributes\":{\"axis_label\":\"cooling rate [K/day]\",\"formatter\":{\"id\":\"d311645f-53f7-4bda-8dcc-eb0690ff604c\",\"type\":\"BasicTickFormatter\"},\"plot\":{\"id\":\"92750815-2e51-4781-aecf-da5d8375f404\",\"subtype\":\"Figure\",\"type\":\"Plot\"},\"ticker\":{\"id\":\"c28f9e05-499e-4f71-9331-d62d6f263e94\",\"type\":\"BasicTicker\"}},\"id\":\"41c9a0b9-2571-464b-8e36-4d744c6f7443\",\"type\":\"LinearAxis\"},{\"attributes\":{\"plot\":{\"id\":\"e9c23ff5-db4c-441a-80ed-a518ec34f67e\",\"subtype\":\"Figure\",\"type\":\"Plot\"},\"ticker\":{\"id\":\"4203c16f-13c4-44bd-85d5-c21b7ab62622\",\"type\":\"BasicTicker\"}},\"id\":\"52078fa6-0f45-4a4f-b722-d7f5620dcec7\",\"type\":\"Grid\"},{\"attributes\":{\"fill_alpha\":{\"value\":0.7},\"fill_color\":{\"value\":\"#984ea3\"},\"line_alpha\":{\"value\":0.7},\"line_color\":{\"value\":\"#984ea3\"},\"x\":{\"field\":\"x\"},\"y\":{\"field\":\"y\"}},\"id\":\"e40abe65-8e8f-4af3-a7a6-c36d15d91b3a\",\"type\":\"Square\"},{\"attributes\":{\"source\":{\"id\":\"d4b11c9a-5c38-4ea5-abff-d22a010ece1d\",\"type\":\"ColumnDataSource\"}},\"id\":\"9e0aaabc-a149-4e30-97c2-3b967e1d26ba\",\"type\":\"CDSView\"},{\"attributes\":{\"callback\":null,\"end\":0.01,\"start\":1020},\"id\":\"9b5e71eb-3ca0-47e0-92fb-1a4b866a4908\",\"type\":\"Range1d\"},{\"attributes\":{\"data_source\":{\"id\":\"fa55372a-eb3e-4069-a2e7-e7e3c91295ae\",\"type\":\"ColumnDataSource\"},\"glyph\":{\"id\":\"c9f7d00d-89ac-4c8d-a2e5-add7ac46311f\",\"type\":\"Line\"},\"hover_glyph\":null,\"muted_glyph\":null,\"nonselection_glyph\":{\"id\":\"83e7b669-145f-4724-a4f3-40637e79b980\",\"type\":\"Line\"},\"selection_glyph\":null,\"view\":{\"id\":\"38ac8bf8-e07e-41ae-8b3a-e58ab72bc60a\",\"type\":\"CDSView\"}},\"id\":\"a00fcc08-c5e7-4c0b-a66e-d392e48bebf6\",\"type\":\"GlyphRenderer\"},{\"attributes\":{\"line_color\":\"#4daf4a\",\"line_width\":1.5,\"x\":{\"field\":\"x\"},\"y\":{\"field\":\"y\"}},\"id\":\"b924b87e-5651-460d-9cc5-e85900e012bb\",\"type\":\"Line\"},{\"attributes\":{\"source\":{\"id\":\"fa55372a-eb3e-4069-a2e7-e7e3c91295ae\",\"type\":\"ColumnDataSource\"}},\"id\":\"38ac8bf8-e07e-41ae-8b3a-e58ab72bc60a\",\"type\":\"CDSView\"},{\"attributes\":{\"callback\":null,\"data\":{\"x\":{\"__ndarray__\":\"CKqIy9htvr9HrwYoDTW+vyRYJD9Fgr2/nr5UIj/RvL+4xuvqIyq8v/8a94MNkbu/XxbJDXUOu7+KbfcX5qm6v6tyJStUcbq/uE1lD7xzur8r+flrice6vweabI8gjbu/fUGo3lz0vL8knxUgIwO/vwdPdJ8UlL6/kQKFJvv6uL/v7x1JCiuwv5CfvZVNApe/5O0B7SAMmj+VDISNgES1PwPvP43WLMQ/L4T/Ibvazz9j5HZ5hCTQP9OM4qge4cY/h8T7eWwuvj/lrGEc4vOxP97FONUTw6Y/GG3KH1BZoD953X6grH2ZP4cGIr4llpQ/th5+MW2VkD/P2Lh6JfuJP2gksQlRg4M/hqWqngbrez+9eC6wKNxbP8PGiS/SBHS/5A4Vj/2/g7/JrwMNVMuEv9ykrCNqSXu/Dm7zjughaL+9a+zsDblnP+wjsGz4c5A/KlLvFjkloj+8Y5qxtMiuPwlkSZU1pbY/CnRYp+sFvj/wNspVhzfCP+jLfwajK8Q/k7nHDDM4xD89hr8NzjPEP/XBzwu5ysM/Yy4losr2wj8nXQIJ7cnBP6GmM4M6XcA/ILLtWXyvvT+ZPI60jom6P/v32ftmeLc/SrJQYymvtD9R3hNgYnCyP3mfgno1a7E/ZjBnMvNPsj87WMc90mq0P436Qs0yObQ/sZnA0MqNrj+citDftnybPzm4G3Pe4kO/Yg1F8ZJOjL9t1p8Y59yKv2JjoGPu93u/YAsmcH7SX7+8Nbr6h486P8pfh1WvZ1c/LDxYlEwtXz8iaW+k94NtP4jOWwqCpsk/\",\"dtype\":\"float64\",\"shape\":[75]},\"y\":{\"__ndarray__\":\"GhExyth1ND/Sv8nbtpRIP2vylNV0PVE/aTum7souWD/At0SJ8fVgPw3Iuahxymc/MSNhhJWvcD/bTfBN02d3P2zb5nxnaoA/CD5h5MAGhz8NmeH1TyaQP+zrCsc9p5Y/LbKd76fGnz/bLW5ISEmmPww9YvTcQq8/JV2OstnstT8Er5Y7M8G+P0c+r3jqkcU/5h99k6ZBzj88bCIzFzjVP4enV8oyxN0//yH99nXg5D8qOpLLf0jtP5kqGJXUifQ/c9cS8kHP/D+/DpwzojQEQIEmwoanVwxA4lgXt9HgE0BSSZ2AJuIbQAMJih9jjiNA5q4l5INuK0AwTKYKRj0zQNv5fmq8/DpAaCJseHrtQkB/+zpwzoxKQM3MzMzMeFJAZmZmZmZqWEAAAAAAAFxeQM3MzMzMJmJAmpmZmZkfZUBmZmZmZhhoQDMzMzMzEWtAAAAAAAAKbkBmZmZmZoFwQM3MzMzM/XFAMzMzMzN6c0CamZmZmfZ0QAAAAAAAc3ZAZmZmZmbvd0DNzMzMzGt5QDMzMzMz6HpAmpmZmZlkfEAAAAAAAOF9QGZmZmZmXX9AZmZmZuZsgECamZmZGSuBQM3MzMxM6YFAAAAAAICngkAzMzMzs2WDQGZmZmbmI4RAmpmZmRnihEDNzMzMTKCFQAAAAACAXoZAMzMzM7Mch0BmZmZm5tqHQJqZmZkZmYhAzczMzExXiUAAAAAAgBWKQDMzMzOz04pAZmZmZuaRi0CamZmZGVCMQM3MzMxMDo1AAAAAAIDMjUAzMzMzs4qOQGZmZmbmSI9A\",\"dtype\":\"float64\",\"shape\":[75]}},\"selected\":{\"id\":\"50282778-c8f1-4492-b4cf-4844e83831e7\",\"type\":\"Selection\"},\"selection_policy\":{\"id\":\"3341ed12-297a-484f-8105-58ef40800c79\",\"type\":\"UnionRenderers\"}},\"id\":\"c61b1fa2-a8d1-4945-be03-e9efc2ea542e\",\"type\":\"ColumnDataSource\"},{\"attributes\":{},\"id\":\"4203c16f-13c4-44bd-85d5-c21b7ab62622\",\"type\":\"BasicTicker\"},{\"attributes\":{\"plot\":null,\"text\":\"Linear pressure scale\"},\"id\":\"461fb41e-34d8-4e09-9e58-a1e939b8bccf\",\"type\":\"Title\"},{\"attributes\":{\"data_source\":{\"id\":\"9cf9cc08-8411-466c-9e80-73d1d3a67094\",\"type\":\"ColumnDataSource\"},\"glyph\":{\"id\":\"e44f7f00-7dd3-45f5-af45-ac54692fb5a3\",\"type\":\"Line\"},\"hover_glyph\":null,\"muted_glyph\":null,\"nonselection_glyph\":{\"id\":\"2d34db70-91a3-4563-b674-070a4214864e\",\"type\":\"Line\"},\"selection_glyph\":null,\"view\":{\"id\":\"e6e1efda-f0f7-42a7-92d3-1e720fd43bf5\",\"type\":\"CDSView\"}},\"id\":\"4017d9dd-f2c7-4b35-bcda-87471947e51d\",\"type\":\"GlyphRenderer\"},{\"attributes\":{\"below\":[{\"id\":\"a5c4ba60-5953-4553-b3de-582bb0720e2e\",\"type\":\"LinearAxis\"}],\"left\":[{\"id\":\"3c441e0f-af4f-4da8-b7ce-94bf01990918\",\"type\":\"LogAxis\"}],\"plot_height\":500,\"plot_width\":560,\"renderers\":[{\"id\":\"a5c4ba60-5953-4553-b3de-582bb0720e2e\",\"type\":\"LinearAxis\"},{\"id\":\"52078fa6-0f45-4a4f-b722-d7f5620dcec7\",\"type\":\"Grid\"},{\"id\":\"3c441e0f-af4f-4da8-b7ce-94bf01990918\",\"type\":\"LogAxis\"},{\"id\":\"24fb43cb-328d-4984-9675-8f0993ef535a\",\"type\":\"Grid\"},{\"id\":\"20a3d00e-bce5-48d6-8728-04676f41921b\",\"type\":\"BoxAnnotation\"},{\"id\":\"a00fcc08-c5e7-4c0b-a66e-d392e48bebf6\",\"type\":\"GlyphRenderer\"},{\"id\":\"32b4d788-c62c-4d85-b07e-91019737ca05\",\"type\":\"GlyphRenderer\"},{\"id\":\"0df4ddec-4721-4346-af5c-118ec78cd668\",\"type\":\"GlyphRenderer\"},{\"id\":\"94d6dda9-ff09-461f-9a7b-e0d5b8aa32a9\",\"type\":\"GlyphRenderer\"},{\"id\":\"75f97695-c159-4df0-8b2c-fb4139841a41\",\"type\":\"GlyphRenderer\"},{\"id\":\"e5ff5f8d-dfd6-4bed-ba64-cb20f47d6cd7\",\"type\":\"Legend\"}],\"right\":[{\"id\":\"e5ff5f8d-dfd6-4bed-ba64-cb20f47d6cd7\",\"type\":\"Legend\"}],\"title\":{\"id\":\"f1f45d55-f4a8-457f-8245-c5913d109fae\",\"type\":\"Title\"},\"toolbar\":{\"id\":\"4b0710b6-3f05-4c81-b803-21b3511580e1\",\"type\":\"Toolbar\"},\"toolbar_location\":null,\"x_range\":{\"id\":\"a8f1f531-a047-4043-bab9-682922efb980\",\"type\":\"Range1d\"},\"x_scale\":{\"id\":\"7ff69d00-2ebf-4a44-b24a-52225a064b11\",\"type\":\"LinearScale\"},\"y_range\":{\"id\":\"d08aba75-4207-46ca-b3db-de8577e1e34a\",\"type\":\"Range1d\"},\"y_scale\":{\"id\":\"e860c609-e785-493c-8ba1-8c3a74334b79\",\"type\":\"LogScale\"}},\"id\":\"e9c23ff5-db4c-441a-80ed-a518ec34f67e\",\"subtype\":\"Figure\",\"type\":\"Plot\"},{\"attributes\":{\"active_drag\":\"auto\",\"active_inspect\":\"auto\",\"active_scroll\":\"auto\",\"active_tap\":\"auto\",\"tools\":[{\"id\":\"efd6eb66-3ef4-4ff1-b8f5-b183252f4eb2\",\"type\":\"PanTool\"},{\"id\":\"94dba28c-c93c-461b-ad2d-0072d8a21a78\",\"type\":\"WheelZoomTool\"},{\"id\":\"79ffeb65-9809-44d8-bb9b-7a23d210156d\",\"type\":\"BoxZoomTool\"},{\"id\":\"617d944a-7196-4100-8e1e-cc258cfab0c6\",\"type\":\"SaveTool\"},{\"id\":\"9a7e77ef-a9d0-4283-929a-2b9a8cbe81ff\",\"type\":\"ResetTool\"},{\"id\":\"615ef17e-172b-4db4-bf4a-72d5e1dd9fc7\",\"type\":\"HelpTool\"}]},\"id\":\"00aec187-1dd0-40da-b6ea-e9e88fe7d810\",\"type\":\"Toolbar\"},{\"attributes\":{},\"id\":\"e860c609-e785-493c-8ba1-8c3a74334b79\",\"type\":\"LogScale\"},{\"attributes\":{\"overlay\":{\"id\":\"20a3d00e-bce5-48d6-8728-04676f41921b\",\"type\":\"BoxAnnotation\"}},\"id\":\"8d37aa48-ad81-4bd6-bb36-0489a5c02858\",\"type\":\"BoxZoomTool\"},{\"attributes\":{\"fill_alpha\":{\"value\":0.7},\"fill_color\":{\"value\":\"#4daf4a\"},\"line_alpha\":{\"value\":0.7},\"line_color\":{\"value\":\"#4daf4a\"},\"x\":{\"field\":\"x\"},\"y\":{\"field\":\"y\"}},\"id\":\"932a195d-4ff9-460b-b581-39927d2fd653\",\"type\":\"Circle\"},{\"attributes\":{\"callback\":null,\"end\":0.25603489690000003,\"start\":-0.1321818869},\"id\":\"a8f1f531-a047-4043-bab9-682922efb980\",\"type\":\"Range1d\"},{\"attributes\":{},\"id\":\"6cfa2b3c-b600-4b93-842a-926bb728c5ee\",\"type\":\"HelpTool\"},{\"attributes\":{\"callback\":null,\"end\":0.01,\"start\":1020},\"id\":\"d08aba75-4207-46ca-b3db-de8577e1e34a\",\"type\":\"Range1d\"},{\"attributes\":{},\"id\":\"9ef8c388-f602-4c97-9e78-43e78f6db0e0\",\"type\":\"BasicTicker\"},{\"attributes\":{\"source\":{\"id\":\"0ccf2583-7c74-40d3-9c51-40bfcadfa48f\",\"type\":\"ColumnDataSource\"}},\"id\":\"555b3bde-abe6-4367-bdff-865c664ccc1b\",\"type\":\"CDSView\"},{\"attributes\":{},\"id\":\"c9006008-b0d1-4fca-9b38-55ab74edcedf\",\"type\":\"SaveTool\"},{\"attributes\":{\"axis_label\":\"pressure [mb]\",\"formatter\":{\"id\":\"718d9324-4834-4409-9ca5-f48ad73d1408\",\"type\":\"LogTickFormatter\"},\"plot\":{\"id\":\"e9c23ff5-db4c-441a-80ed-a518ec34f67e\",\"subtype\":\"Figure\",\"type\":\"Plot\"},\"ticker\":{\"id\":\"68ea3f92-273e-4ac2-82d3-8a46b1bf939b\",\"type\":\"LogTicker\"}},\"id\":\"3c441e0f-af4f-4da8-b7ce-94bf01990918\",\"type\":\"LogAxis\"},{\"attributes\":{},\"id\":\"617d944a-7196-4100-8e1e-cc258cfab0c6\",\"type\":\"SaveTool\"},{\"attributes\":{\"source\":{\"id\":\"c61b1fa2-a8d1-4945-be03-e9efc2ea542e\",\"type\":\"ColumnDataSource\"}},\"id\":\"d12d1c13-627c-4a70-98ce-993d66b585d2\",\"type\":\"CDSView\"},{\"attributes\":{\"fill_alpha\":{\"value\":0.1},\"fill_color\":{\"value\":\"#1f77b4\"},\"line_alpha\":{\"value\":0.1},\"line_color\":{\"value\":\"#1f77b4\"},\"x\":{\"field\":\"x\"},\"y\":{\"field\":\"y\"}},\"id\":\"590586ec-8f3a-4a75-80ad-7f1578368465\",\"type\":\"Circle\"},{\"attributes\":{},\"id\":\"94dba28c-c93c-461b-ad2d-0072d8a21a78\",\"type\":\"WheelZoomTool\"},{\"attributes\":{\"data_source\":{\"id\":\"9334ba68-ee1e-44fb-b541-2dabe70ce9b0\",\"type\":\"ColumnDataSource\"},\"glyph\":{\"id\":\"011135ca-0601-44dd-aec6-985b8a0179b6\",\"type\":\"Line\"},\"hover_glyph\":null,\"muted_glyph\":null,\"nonselection_glyph\":{\"id\":\"63dafcaf-8906-4338-a90d-e07bc4b41f98\",\"type\":\"Line\"},\"selection_glyph\":null,\"view\":{\"id\":\"ec0412f8-2289-4793-8adc-104cdf200707\",\"type\":\"CDSView\"}},\"id\":\"bc7a6e91-64dd-434c-8e80-c2a8dd3633ab\",\"type\":\"GlyphRenderer\"},{\"attributes\":{\"line_alpha\":0.1,\"line_color\":\"#1f77b4\",\"line_width\":3,\"x\":{\"field\":\"x\"},\"y\":{\"field\":\"y\"}},\"id\":\"64111f04-ff98-4b02-adf2-2c3676ddfb8a\",\"type\":\"Line\"},{\"attributes\":{},\"id\":\"615ef17e-172b-4db4-bf4a-72d5e1dd9fc7\",\"type\":\"HelpTool\"},{\"attributes\":{\"line_alpha\":0.6,\"line_color\":\"#e41a1c\",\"line_dash\":[6],\"line_width\":5,\"x\":{\"field\":\"x\"},\"y\":{\"field\":\"y\"}},\"id\":\"c9f7d00d-89ac-4c8d-a2e5-add7ac46311f\",\"type\":\"Line\"},{\"attributes\":{\"callback\":null,\"data\":{\"x\":{\"__ndarray__\":\"HwV3SlHjwL8x0Q6IocHAv/mdvAbUc8C/yxdPIWgvwL+Gt330Xci/v14/ptQBP7+/Rq5rrNe7vr9+7MMAjUq+vzk8sde/8r2/EtZZHLfBvb9bqtsSrMW9vw8fGfP8Fb6/vC02b/HNvr+gbgB2jO2/v1RN3RbH0b6/jyehqEIvub8oN/Zmpmywv/9X81YMM5e/TfRJ1cl4mz+2BoWUNRK2P0TUGINfoMQ/R2RCvaXTzz+ShFV9ihHQPwTxVAr2tsY/+IjfnP3LvT/6ZyI58C6yP6wMPOwHUKg/A6RQvWYKoj+fJMuKBhqcP+gEgM8835Y/kWdP8hwVkz+z3nGFxzSPP0EsW/TXNog/Esn4PozJgT/Z4rycX7ZlP+x+6knS+3W/UftUz1OUhr96ZQUJHEmHv5CmOjr/UX2/CtARD3CSaL8NBNq9tpZrP/eaM6hm/JM/FKdflYERpz8X+Lj7CzOwP6u259MvC7I/5e3sdH1Ztz84JJueV0HAP2QVGL3sl8M/U2GVvCjjwz/bMxBIsrPDP1SPot5PncM/apGt1tGywz9+UJeBs33DP6cJhpF6f8I/Si+t/fm7wD9OGP0m99O8PzKlzZXQG7g/UjSvgZ4atD+4SJ44pV+xP5Tr7+6ZdLA/7mTBQ9vEsT8VSwadWDK0PxasjxRtR7Q/25mMNKTDrj8J9lWzVF2bP+hKOimUmFW/kgoAbEwUj7/fiKoZM3SOvzjlXz9Aw4G/SEwTOG8pbr/OHP91Xw9SvwAU8ykHLOG+jrYarF6KQT/4cpcw4QVjPwQ917CXi8k/\",\"dtype\":\"float64\",\"shape\":[75]},\"y\":{\"__ndarray__\":\"GhExyth1ND/Sv8nbtpRIP2vylNV0PVE/aTum7souWD/At0SJ8fVgPw3Iuahxymc/MSNhhJWvcD/bTfBN02d3P2zb5nxnaoA/CD5h5MAGhz8NmeH1TyaQP+zrCsc9p5Y/LbKd76fGnz/bLW5ISEmmPww9YvTcQq8/JV2OstnstT8Er5Y7M8G+P0c+r3jqkcU/5h99k6ZBzj88bCIzFzjVP4enV8oyxN0//yH99nXg5D8qOpLLf0jtP5kqGJXUifQ/c9cS8kHP/D+/DpwzojQEQIEmwoanVwxA4lgXt9HgE0BSSZ2AJuIbQAMJih9jjiNA5q4l5INuK0AwTKYKRj0zQNv5fmq8/DpAaCJseHrtQkB/+zpwzoxKQM3MzMzMeFJAZmZmZmZqWEAAAAAAAFxeQM3MzMzMJmJAmpmZmZkfZUBmZmZmZhhoQDMzMzMzEWtAAAAAAAAKbkBmZmZmZoFwQM3MzMzM/XFAMzMzMzN6c0CamZmZmfZ0QAAAAAAAc3ZAZmZmZmbvd0DNzMzMzGt5QDMzMzMz6HpAmpmZmZlkfEAAAAAAAOF9QGZmZmZmXX9AZmZmZuZsgECamZmZGSuBQM3MzMxM6YFAAAAAAICngkAzMzMzs2WDQGZmZmbmI4RAmpmZmRnihEDNzMzMTKCFQAAAAACAXoZAMzMzM7Mch0BmZmZm5tqHQJqZmZkZmYhAzczMzExXiUAAAAAAgBWKQDMzMzOz04pAZmZmZuaRi0CamZmZGVCMQM3MzMxMDo1AAAAAAIDMjUAzMzMzs4qOQGZmZmbmSI9A\",\"dtype\":\"float64\",\"shape\":[75]}},\"selected\":{\"id\":\"237b85f3-7560-4e33-9d17-9942b5986484\",\"type\":\"Selection\"},\"selection_policy\":{\"id\":\"26dad481-af03-4a56-9664-586cd7521b02\",\"type\":\"UnionRenderers\"}},\"id\":\"3bf7afb1-8630-4c1c-aac1-a3055f68d466\",\"type\":\"ColumnDataSource\"},{\"attributes\":{\"bottom_units\":\"screen\",\"fill_alpha\":{\"value\":0.5},\"fill_color\":{\"value\":\"lightgrey\"},\"left_units\":\"screen\",\"level\":\"overlay\",\"line_alpha\":{\"value\":1.0},\"line_color\":{\"value\":\"black\"},\"line_dash\":[4,4],\"line_width\":{\"value\":2},\"plot\":null,\"render_mode\":\"css\",\"right_units\":\"screen\",\"top_units\":\"screen\"},\"id\":\"644066fc-8947-4e26-865b-e3620e31d057\",\"type\":\"BoxAnnotation\"},{\"attributes\":{\"source\":{\"id\":\"f46e6c25-c67a-40ed-b7bc-a9bc54a590a6\",\"type\":\"ColumnDataSource\"}},\"id\":\"79dc807c-1e02-4a20-bc1d-6fccff200136\",\"type\":\"CDSView\"},{\"attributes\":{\"overlay\":{\"id\":\"644066fc-8947-4e26-865b-e3620e31d057\",\"type\":\"BoxAnnotation\"}},\"id\":\"79ffeb65-9809-44d8-bb9b-7a23d210156d\",\"type\":\"BoxZoomTool\"},{\"attributes\":{\"num_minor_ticks\":10},\"id\":\"68ea3f92-273e-4ac2-82d3-8a46b1bf939b\",\"type\":\"LogTicker\"},{\"attributes\":{\"fill_alpha\":{\"value\":0.7},\"fill_color\":{\"value\":\"#4daf4a\"},\"line_alpha\":{\"value\":0.7},\"line_color\":{\"value\":\"#4daf4a\"},\"x\":{\"field\":\"x\"},\"y\":{\"field\":\"y\"}},\"id\":\"5d1b6645-837b-4665-9b24-8d48e9231ee9\",\"type\":\"Circle\"},{\"attributes\":{\"dimension\":1,\"plot\":{\"id\":\"92750815-2e51-4781-aecf-da5d8375f404\",\"subtype\":\"Figure\",\"type\":\"Plot\"},\"ticker\":{\"id\":\"9ef8c388-f602-4c97-9e78-43e78f6db0e0\",\"type\":\"BasicTicker\"}},\"id\":\"2fc39413-bf25-41d9-9230-a42beda9452f\",\"type\":\"Grid\"},{\"attributes\":{},\"id\":\"9a7e77ef-a9d0-4283-929a-2b9a8cbe81ff\",\"type\":\"ResetTool\"},{\"attributes\":{\"source\":{\"id\":\"9cf9cc08-8411-466c-9e80-73d1d3a67094\",\"type\":\"ColumnDataSource\"}},\"id\":\"e6e1efda-f0f7-42a7-92d3-1e720fd43bf5\",\"type\":\"CDSView\"},{\"attributes\":{\"dimension\":1,\"plot\":{\"id\":\"e9c23ff5-db4c-441a-80ed-a518ec34f67e\",\"subtype\":\"Figure\",\"type\":\"Plot\"},\"ticker\":{\"id\":\"68ea3f92-273e-4ac2-82d3-8a46b1bf939b\",\"type\":\"LogTicker\"}},\"id\":\"24fb43cb-328d-4984-9675-8f0993ef535a\",\"type\":\"Grid\"},{\"attributes\":{\"callback\":null,\"data\":{\"x\":{\"__ndarray__\":\"CKqIy9htvr9HrwYoDTW+vyRYJD9Fgr2/nr5UIj/RvL+4xuvqIyq8v/8a94MNkbu/XxbJDXUOu7+KbfcX5qm6v6tyJStUcbq/uE1lD7xzur8r+flrice6vweabI8gjbu/fUGo3lz0vL8knxUgIwO/vwdPdJ8UlL6/kQKFJvv6uL/v7x1JCiuwv5CfvZVNApe/5O0B7SAMmj+VDISNgES1PwPvP43WLMQ/L4T/Ibvazz9j5HZ5hCTQP9OM4qge4cY/h8T7eWwuvj/lrGEc4vOxP97FONUTw6Y/GG3KH1BZoD953X6grH2ZP4cGIr4llpQ/th5+MW2VkD/P2Lh6JfuJP2gksQlRg4M/hqWqngbrez+9eC6wKNxbP8PGiS/SBHS/5A4Vj/2/g7/JrwMNVMuEv9ykrCNqSXu/Dm7zjughaL+9a+zsDblnP+wjsGz4c5A/KlLvFjkloj+8Y5qxtMiuPwlkSZU1pbY/CnRYp+sFvj/wNspVhzfCP+jLfwajK8Q/k7nHDDM4xD89hr8NzjPEP/XBzwu5ysM/Yy4losr2wj8nXQIJ7cnBP6GmM4M6XcA/ILLtWXyvvT+ZPI60jom6P/v32ftmeLc/SrJQYymvtD9R3hNgYnCyP3mfgno1a7E/ZjBnMvNPsj87WMc90mq0P436Qs0yObQ/sZnA0MqNrj+citDftnybPzm4G3Pe4kO/Yg1F8ZJOjL9t1p8Y59yKv2JjoGPu93u/YAsmcH7SX7+8Nbr6h486P8pfh1WvZ1c/LDxYlEwtXz8iaW+k94NtP4jOWwqCpsk/\",\"dtype\":\"float64\",\"shape\":[75]},\"y\":{\"__ndarray__\":\"GhExyth1ND/Sv8nbtpRIP2vylNV0PVE/aTum7souWD/At0SJ8fVgPw3Iuahxymc/MSNhhJWvcD/bTfBN02d3P2zb5nxnaoA/CD5h5MAGhz8NmeH1TyaQP+zrCsc9p5Y/LbKd76fGnz/bLW5ISEmmPww9YvTcQq8/JV2OstnstT8Er5Y7M8G+P0c+r3jqkcU/5h99k6ZBzj88bCIzFzjVP4enV8oyxN0//yH99nXg5D8qOpLLf0jtP5kqGJXUifQ/c9cS8kHP/D+/DpwzojQEQIEmwoanVwxA4lgXt9HgE0BSSZ2AJuIbQAMJih9jjiNA5q4l5INuK0AwTKYKRj0zQNv5fmq8/DpAaCJseHrtQkB/+zpwzoxKQM3MzMzMeFJAZmZmZmZqWEAAAAAAAFxeQM3MzMzMJmJAmpmZmZkfZUBmZmZmZhhoQDMzMzMzEWtAAAAAAAAKbkBmZmZmZoFwQM3MzMzM/XFAMzMzMzN6c0CamZmZmfZ0QAAAAAAAc3ZAZmZmZmbvd0DNzMzMzGt5QDMzMzMz6HpAmpmZmZlkfEAAAAAAAOF9QGZmZmZmXX9AZmZmZuZsgECamZmZGSuBQM3MzMxM6YFAAAAAAICngkAzMzMzs2WDQGZmZmbmI4RAmpmZmRnihEDNzMzMTKCFQAAAAACAXoZAMzMzM7Mch0BmZmZm5tqHQJqZmZkZmYhAzczMzExXiUAAAAAAgBWKQDMzMzOz04pAZmZmZuaRi0CamZmZGVCMQM3MzMxMDo1AAAAAAIDMjUAzMzMzs4qOQGZmZmbmSI9A\",\"dtype\":\"float64\",\"shape\":[75]}},\"selected\":{\"id\":\"19b78cf6-42eb-4a11-ba88-5486d170c710\",\"type\":\"Selection\"},\"selection_policy\":{\"id\":\"ef744fcd-c0df-4d0b-a8dc-520832fc9dcb\",\"type\":\"UnionRenderers\"}},\"id\":\"1ba9cc71-6bc7-476c-aef1-b54f7fe01791\",\"type\":\"ColumnDataSource\"},{\"attributes\":{\"callback\":null,\"data\":{\"x\":{\"__ndarray__\":\"DUhOaIrnwb9n3j9QTc3Bv175h4j2jMG/JFYthv5Lwb/WO9wODQvBv+uXoVRvy8C/oz+wukCPwL8gjOlT2FbAvxVdDw0oJ8C/IlI2WWECwL/tsdsEa96/v/PHtDaN7b+/JzsukagjwL9zwTKZnm7Avx+m+Trbab+/2t/AgRzWub/tKILDATCxv+fMHc32wJm/rc1S9LhWmj9o2W/6bku2P07wLMV+5MQ/OKClK9jGzz/66DfAitvPP+BegBpKL8Y/zJViw6qsvD8ZRVhSw76xPx7jV5r+Zqg/elEjQ3rJoT+2/6gdY8aaPym0IwpqTpU/S4/HiBsikj+hLAVvC0COP7cquSWaiYc/KQ12uNaNgT+2ABrR8IBnPwAjirYTf3W/tX8mQQaShr/uUzcSxiGHv32rt/5EAn2/1oUm6HLsaL9Ao70INtFnP3hIh0Bb8pM/+QqqxHeNqD/wJcl97xKwPznOR/saJ7A/+UlfTw77tj9jwGksJ0LBP6k51Ep8ycQ/9FCZan9KxD+RYMunnrfDPzTBDYSmHcQ/a8js6l3VxD/rKlG0eqDEP1ec5vQnN8M/6FGvY3WOwD+vcg3Yeiu7P4teAd173rU/UHjWXNgUsj+GCS5MYu2vP0YGQn2OOa8/k8r91poisT9oVlHkkqizP+LKJcroRLM/HAJ/rGuqrD+EVVdmk8GWP0Ubl2Dei3q/Vc50Nc3Jkr9coKK/192Qv/LT47cbVoa/uLh5ayhKcb9I72hbBZxSvyKmYGfsRl2/Pqjxl2cmPD+31hSa/WBdP3WEHRAyWsk/\",\"dtype\":\"float64\",\"shape\":[75]},\"y\":{\"__ndarray__\":\"S/O/Q+51ND/Sv8nbtpRIP2vylNV0PVE/aTum7souWD/At0SJ8fVgPw3Iuahxymc/MSNhhJWvcD/bTfBN02d3P2zb5nxnaoA/CD5h5MAGhz8NmeH1TyaQP+zrCsc9p5Y/LbKd76fGnz/bLW5ISEmmPww9YvTcQq8/JV2OstnstT8Er5Y7M8G+P0c+r3jqkcU/5h99k6ZBzj88bCIzFzjVP4enV8oyxN0//yH99nXg5D8qOpLLf0jtP5kqGJXUifQ/c9cS8kHP/D+/DpwzojQEQIEmwoanVwxA4lgXt9HgE0BSSZ2AJuIbQAMJih9jjiNA5q4l5INuK0AwTKYKRj0zQNv5fmq8/DpAaCJseHrtQkB/+zpwzoxKQM3MzMzMeFJAZmZmZmZqWEAAAAAAAFxeQM3MzMzMJmJAmpmZmZkfZUBmZmZmZhhoQDMzMzMzEWtAAAAAAAAKbkBmZmZmZoFwQM3MzMzM/XFAMzMzMzN6c0CamZmZmfZ0QAAAAAAAc3ZAZmZmZmbvd0DNzMzMzGt5QDMzMzMz6HpAmpmZmZlkfEAAAAAAAOF9QGZmZmZmXX9AZmZmZuZsgECamZmZGSuBQM3MzMxM6YFAAAAAAICngkAzMzMzs2WDQGZmZmbmI4RAmpmZmRnihEDNzMzMTKCFQAAAAACAXoZAMzMzM7Mch0BmZmZm5tqHQJqZmZkZmYhAzczMzExXiUAAAAAAgBWKQDMzMzOz04pAZmZmZuaRi0CamZmZGVCMQM3MzMxMDo1AAAAAAIDMjUAzMzMzs4qOQGZmZmbmSI9A\",\"dtype\":\"float64\",\"shape\":[75]}},\"selected\":{\"id\":\"94feff68-af3d-4124-af1c-0d8f698fef6e\",\"type\":\"Selection\"},\"selection_policy\":{\"id\":\"2f97440e-c68c-4c39-9d15-f2c45ea866cd\",\"type\":\"UnionRenderers\"}},\"id\":\"0ccf2583-7c74-40d3-9c51-40bfcadfa48f\",\"type\":\"ColumnDataSource\"},{\"attributes\":{\"line_alpha\":0.1,\"line_color\":\"#1f77b4\",\"line_width\":1.5,\"x\":{\"field\":\"x\"},\"y\":{\"field\":\"y\"}},\"id\":\"d30c1efc-12a6-41c6-986b-030b15263877\",\"type\":\"Line\"},{\"attributes\":{},\"id\":\"efd6eb66-3ef4-4ff1-b8f5-b183252f4eb2\",\"type\":\"PanTool\"},{\"attributes\":{\"data_source\":{\"id\":\"1ba9cc71-6bc7-476c-aef1-b54f7fe01791\",\"type\":\"ColumnDataSource\"},\"glyph\":{\"id\":\"b924b87e-5651-460d-9cc5-e85900e012bb\",\"type\":\"Line\"},\"hover_glyph\":null,\"muted_glyph\":null,\"nonselection_glyph\":{\"id\":\"d30c1efc-12a6-41c6-986b-030b15263877\",\"type\":\"Line\"},\"selection_glyph\":null,\"view\":{\"id\":\"fd2339f5-d87c-483d-bb34-865a1722a30b\",\"type\":\"CDSView\"}},\"id\":\"0df4ddec-4721-4346-af5c-118ec78cd668\",\"type\":\"GlyphRenderer\"},{\"attributes\":{\"line_alpha\":0.1,\"line_color\":\"#1f77b4\",\"line_dash\":[6],\"line_width\":5,\"x\":{\"field\":\"x\"},\"y\":{\"field\":\"y\"}},\"id\":\"83e7b669-145f-4724-a4f3-40637e79b980\",\"type\":\"Line\"},{\"attributes\":{\"source\":{\"id\":\"1ba9cc71-6bc7-476c-aef1-b54f7fe01791\",\"type\":\"ColumnDataSource\"}},\"id\":\"fd2339f5-d87c-483d-bb34-865a1722a30b\",\"type\":\"CDSView\"},{\"attributes\":{\"line_color\":\"#4daf4a\",\"line_width\":1.5,\"x\":{\"field\":\"x\"},\"y\":{\"field\":\"y\"}},\"id\":\"e44f7f00-7dd3-45f5-af45-ac54692fb5a3\",\"type\":\"Line\"},{\"attributes\":{\"fill_alpha\":{\"value\":0.7},\"fill_color\":{\"value\":\"#984ea3\"},\"line_alpha\":{\"value\":0.7},\"line_color\":{\"value\":\"#984ea3\"},\"x\":{\"field\":\"x\"},\"y\":{\"field\":\"y\"}},\"id\":\"611857e2-20b2-4539-b1d4-23562678a226\",\"type\":\"Square\"},{\"attributes\":{\"data_source\":{\"id\":\"0ccf2583-7c74-40d3-9c51-40bfcadfa48f\",\"type\":\"ColumnDataSource\"},\"glyph\":{\"id\":\"1bafcecf-cbf9-467f-b31e-bd7d53deca33\",\"type\":\"Line\"},\"hover_glyph\":null,\"muted_glyph\":null,\"nonselection_glyph\":{\"id\":\"fd34463e-944a-4dfe-a3e1-c48188486ad1\",\"type\":\"Line\"},\"selection_glyph\":null,\"view\":{\"id\":\"555b3bde-abe6-4367-bdff-865c664ccc1b\",\"type\":\"CDSView\"}},\"id\":\"35e474ab-58c6-481f-ae05-e1d0ba6318fa\",\"type\":\"GlyphRenderer\"},{\"attributes\":{\"data_source\":{\"id\":\"81bd887d-ab1e-41e8-9be9-fe87d664cf34\",\"type\":\"ColumnDataSource\"},\"glyph\":{\"id\":\"f70d0e20-0946-4532-bfec-8e207c6fdadd\",\"type\":\"Line\"},\"hover_glyph\":null,\"muted_glyph\":null,\"nonselection_glyph\":{\"id\":\"64111f04-ff98-4b02-adf2-2c3676ddfb8a\",\"type\":\"Line\"},\"selection_glyph\":null,\"view\":{\"id\":\"34c5d94c-52f5-4916-bbb5-93aeb1461ce1\",\"type\":\"CDSView\"}},\"id\":\"75f97695-c159-4df0-8b2c-fb4139841a41\",\"type\":\"GlyphRenderer\"},{\"attributes\":{\"line_alpha\":0.6,\"line_color\":\"#984ea3\",\"line_width\":3,\"x\":{\"field\":\"x\"},\"y\":{\"field\":\"y\"}},\"id\":\"f70d0e20-0946-4532-bfec-8e207c6fdadd\",\"type\":\"Line\"},{\"attributes\":{\"callback\":null,\"data\":{\"x\":{\"__ndarray__\":\"HwV3SlHjwL8x0Q6IocHAv/mdvAbUc8C/yxdPIWgvwL+Gt330Xci/v14/ptQBP7+/Rq5rrNe7vr9+7MMAjUq+vzk8sde/8r2/EtZZHLfBvb9bqtsSrMW9vw8fGfP8Fb6/vC02b/HNvr+gbgB2jO2/v1RN3RbH0b6/jyehqEIvub8oN/Zmpmywv/9X81YMM5e/TfRJ1cl4mz+2BoWUNRK2P0TUGINfoMQ/R2RCvaXTzz+ShFV9ihHQPwTxVAr2tsY/+IjfnP3LvT/6ZyI58C6yP6wMPOwHUKg/A6RQvWYKoj+fJMuKBhqcP+gEgM8835Y/kWdP8hwVkz+z3nGFxzSPP0EsW/TXNog/Esn4PozJgT/Z4rycX7ZlP+x+6knS+3W/UftUz1OUhr96ZQUJHEmHv5CmOjr/UX2/CtARD3CSaL8NBNq9tpZrP/eaM6hm/JM/FKdflYERpz8X+Lj7CzOwP6u259MvC7I/5e3sdH1Ztz84JJueV0HAP2QVGL3sl8M/U2GVvCjjwz/bMxBIsrPDP1SPot5PncM/apGt1tGywz9+UJeBs33DP6cJhpF6f8I/Si+t/fm7wD9OGP0m99O8PzKlzZXQG7g/UjSvgZ4atD+4SJ44pV+xP5Tr7+6ZdLA/7mTBQ9vEsT8VSwadWDK0PxasjxRtR7Q/25mMNKTDrj8J9lWzVF2bP+hKOimUmFW/kgoAbEwUj7/fiKoZM3SOvzjlXz9Aw4G/SEwTOG8pbr/OHP91Xw9SvwAU8ykHLOG+jrYarF6KQT/4cpcw4QVjPwQ917CXi8k/\",\"dtype\":\"float64\",\"shape\":[75]},\"y\":{\"__ndarray__\":\"GhExyth1ND/Sv8nbtpRIP2vylNV0PVE/aTum7souWD/At0SJ8fVgPw3Iuahxymc/MSNhhJWvcD/bTfBN02d3P2zb5nxnaoA/CD5h5MAGhz8NmeH1TyaQP+zrCsc9p5Y/LbKd76fGnz/bLW5ISEmmPww9YvTcQq8/JV2OstnstT8Er5Y7M8G+P0c+r3jqkcU/5h99k6ZBzj88bCIzFzjVP4enV8oyxN0//yH99nXg5D8qOpLLf0jtP5kqGJXUifQ/c9cS8kHP/D+/DpwzojQEQIEmwoanVwxA4lgXt9HgE0BSSZ2AJuIbQAMJih9jjiNA5q4l5INuK0AwTKYKRj0zQNv5fmq8/DpAaCJseHrtQkB/+zpwzoxKQM3MzMzMeFJAZmZmZmZqWEAAAAAAAFxeQM3MzMzMJmJAmpmZmZkfZUBmZmZmZhhoQDMzMzMzEWtAAAAAAAAKbkBmZmZmZoFwQM3MzMzM/XFAMzMzMzN6c0CamZmZmfZ0QAAAAAAAc3ZAZmZmZmbvd0DNzMzMzGt5QDMzMzMz6HpAmpmZmZlkfEAAAAAAAOF9QGZmZmZmXX9AZmZmZuZsgECamZmZGSuBQM3MzMxM6YFAAAAAAICngkAzMzMzs2WDQGZmZmbmI4RAmpmZmRnihEDNzMzMTKCFQAAAAACAXoZAMzMzM7Mch0BmZmZm5tqHQJqZmZkZmYhAzczMzExXiUAAAAAAgBWKQDMzMzOz04pAZmZmZuaRi0CamZmZGVCMQM3MzMxMDo1AAAAAAIDMjUAzMzMzs4qOQGZmZmbmSI9A\",\"dtype\":\"float64\",\"shape\":[75]}},\"selected\":{\"id\":\"63478292-1cf4-4ca9-af03-75cc6bd567a3\",\"type\":\"Selection\"},\"selection_policy\":{\"id\":\"08013c2c-9d62-4cc6-a128-c8831fdade6a\",\"type\":\"UnionRenderers\"}},\"id\":\"81bd887d-ab1e-41e8-9be9-fe87d664cf34\",\"type\":\"ColumnDataSource\"},{\"attributes\":{\"line_alpha\":0.6,\"line_color\":\"#984ea3\",\"line_width\":3,\"x\":{\"field\":\"x\"},\"y\":{\"field\":\"y\"}},\"id\":\"011135ca-0601-44dd-aec6-985b8a0179b6\",\"type\":\"Line\"},{\"attributes\":{\"source\":{\"id\":\"81bd887d-ab1e-41e8-9be9-fe87d664cf34\",\"type\":\"ColumnDataSource\"}},\"id\":\"34c5d94c-52f5-4916-bbb5-93aeb1461ce1\",\"type\":\"CDSView\"},{\"attributes\":{\"children\":[{\"id\":\"92750815-2e51-4781-aecf-da5d8375f404\",\"subtype\":\"Figure\",\"type\":\"Plot\"},{\"id\":\"e9c23ff5-db4c-441a-80ed-a518ec34f67e\",\"subtype\":\"Figure\",\"type\":\"Plot\"}]},\"id\":\"f0d97745-0603-4b24-9f2d-93fa895dc2e9\",\"type\":\"Row\"},{\"attributes\":{\"callback\":null,\"data\":{\"x\":{\"__ndarray__\":\"CKqIy9htvr9HrwYoDTW+vyRYJD9Fgr2/nr5UIj/RvL+4xuvqIyq8v/8a94MNkbu/XxbJDXUOu7+KbfcX5qm6v6tyJStUcbq/uE1lD7xzur8r+flrice6vweabI8gjbu/fUGo3lz0vL8knxUgIwO/vwdPdJ8UlL6/kQKFJvv6uL/v7x1JCiuwv5CfvZVNApe/5O0B7SAMmj+VDISNgES1PwPvP43WLMQ/L4T/Ibvazz9j5HZ5hCTQP9OM4qge4cY/h8T7eWwuvj/lrGEc4vOxP97FONUTw6Y/GG3KH1BZoD953X6grH2ZP4cGIr4llpQ/th5+MW2VkD/P2Lh6JfuJP2gksQlRg4M/hqWqngbrez+9eC6wKNxbP8PGiS/SBHS/5A4Vj/2/g7/JrwMNVMuEv9ykrCNqSXu/Dm7zjughaL+9a+zsDblnP+wjsGz4c5A/KlLvFjkloj+8Y5qxtMiuPwlkSZU1pbY/CnRYp+sFvj/wNspVhzfCP+jLfwajK8Q/k7nHDDM4xD89hr8NzjPEP/XBzwu5ysM/Yy4losr2wj8nXQIJ7cnBP6GmM4M6XcA/ILLtWXyvvT+ZPI60jom6P/v32ftmeLc/SrJQYymvtD9R3hNgYnCyP3mfgno1a7E/ZjBnMvNPsj87WMc90mq0P436Qs0yObQ/sZnA0MqNrj+citDftnybPzm4G3Pe4kO/Yg1F8ZJOjL9t1p8Y59yKv2JjoGPu93u/YAsmcH7SX7+8Nbr6h486P8pfh1WvZ1c/LDxYlEwtXz8iaW+k94NtP4jOWwqCpsk/\",\"dtype\":\"float64\",\"shape\":[75]},\"y\":{\"__ndarray__\":\"GhExyth1ND/Sv8nbtpRIP2vylNV0PVE/aTum7souWD/At0SJ8fVgPw3Iuahxymc/MSNhhJWvcD/bTfBN02d3P2zb5nxnaoA/CD5h5MAGhz8NmeH1TyaQP+zrCsc9p5Y/LbKd76fGnz/bLW5ISEmmPww9YvTcQq8/JV2OstnstT8Er5Y7M8G+P0c+r3jqkcU/5h99k6ZBzj88bCIzFzjVP4enV8oyxN0//yH99nXg5D8qOpLLf0jtP5kqGJXUifQ/c9cS8kHP/D+/DpwzojQEQIEmwoanVwxA4lgXt9HgE0BSSZ2AJuIbQAMJih9jjiNA5q4l5INuK0AwTKYKRj0zQNv5fmq8/DpAaCJseHrtQkB/+zpwzoxKQM3MzMzMeFJAZmZmZmZqWEAAAAAAAFxeQM3MzMzMJmJAmpmZmZkfZUBmZmZmZhhoQDMzMzMzEWtAAAAAAAAKbkBmZmZmZoFwQM3MzMzM/XFAMzMzMzN6c0CamZmZmfZ0QAAAAAAAc3ZAZmZmZmbvd0DNzMzMzGt5QDMzMzMz6HpAmpmZmZlkfEAAAAAAAOF9QGZmZmZmXX9AZmZmZuZsgECamZmZGSuBQM3MzMxM6YFAAAAAAICngkAzMzMzs2WDQGZmZmbmI4RAmpmZmRnihEDNzMzMTKCFQAAAAACAXoZAMzMzM7Mch0BmZmZm5tqHQJqZmZkZmYhAzczMzExXiUAAAAAAgBWKQDMzMzOz04pAZmZmZuaRi0CamZmZGVCMQM3MzMxMDo1AAAAAAIDMjUAzMzMzs4qOQGZmZmbmSI9A\",\"dtype\":\"float64\",\"shape\":[75]}},\"selected\":{\"id\":\"ee6e6365-5de0-42fb-9634-32612ebd6b99\",\"type\":\"Selection\"},\"selection_policy\":{\"id\":\"c50db57f-f860-4506-b916-5a4d0e076725\",\"type\":\"UnionRenderers\"}},\"id\":\"9cf9cc08-8411-466c-9e80-73d1d3a67094\",\"type\":\"ColumnDataSource\"},{\"attributes\":{},\"id\":\"b2e3536f-464a-478e-9f79-bbd2e7dd9bcf\",\"type\":\"LinearScale\"},{\"attributes\":{\"label\":{\"value\":\"CLIRAD `coolr_bands`\"},\"renderers\":[{\"id\":\"a00fcc08-c5e7-4c0b-a66e-d392e48bebf6\",\"type\":\"GlyphRenderer\"}]},\"id\":\"43343f17-2227-4eb0-9850-b0acb443dea8\",\"type\":\"LegendItem\"},{\"attributes\":{\"callback\":null,\"data\":{\"x\":{\"__ndarray__\":\"DUhOaIrnwb9n3j9QTc3Bv175h4j2jMG/JFYthv5Lwb/WO9wODQvBv+uXoVRvy8C/oz+wukCPwL8gjOlT2FbAvxVdDw0oJ8C/IlI2WWECwL/tsdsEa96/v/PHtDaN7b+/JzsukagjwL9zwTKZnm7Avx+m+Trbab+/2t/AgRzWub/tKILDATCxv+fMHc32wJm/rc1S9LhWmj9o2W/6bku2P07wLMV+5MQ/OKClK9jGzz/66DfAitvPP+BegBpKL8Y/zJViw6qsvD8ZRVhSw76xPx7jV5r+Zqg/elEjQ3rJoT+2/6gdY8aaPym0IwpqTpU/S4/HiBsikj+hLAVvC0COP7cquSWaiYc/KQ12uNaNgT+2ABrR8IBnPwAjirYTf3W/tX8mQQaShr/uUzcSxiGHv32rt/5EAn2/1oUm6HLsaL9Ao70INtFnP3hIh0Bb8pM/+QqqxHeNqD/wJcl97xKwPznOR/saJ7A/+UlfTw77tj9jwGksJ0LBP6k51Ep8ycQ/9FCZan9KxD+RYMunnrfDPzTBDYSmHcQ/a8js6l3VxD/rKlG0eqDEP1ec5vQnN8M/6FGvY3WOwD+vcg3Yeiu7P4teAd173rU/UHjWXNgUsj+GCS5MYu2vP0YGQn2OOa8/k8r91poisT9oVlHkkqizP+LKJcroRLM/HAJ/rGuqrD+EVVdmk8GWP0Ubl2Dei3q/Vc50Nc3Jkr9coKK/192Qv/LT47cbVoa/uLh5ayhKcb9I72hbBZxSvyKmYGfsRl2/Pqjxl2cmPD+31hSa/WBdP3WEHRAyWsk/\",\"dtype\":\"float64\",\"shape\":[75]},\"y\":{\"__ndarray__\":\"S/O/Q+51ND/Sv8nbtpRIP2vylNV0PVE/aTum7souWD/At0SJ8fVgPw3Iuahxymc/MSNhhJWvcD/bTfBN02d3P2zb5nxnaoA/CD5h5MAGhz8NmeH1TyaQP+zrCsc9p5Y/LbKd76fGnz/bLW5ISEmmPww9YvTcQq8/JV2OstnstT8Er5Y7M8G+P0c+r3jqkcU/5h99k6ZBzj88bCIzFzjVP4enV8oyxN0//yH99nXg5D8qOpLLf0jtP5kqGJXUifQ/c9cS8kHP/D+/DpwzojQEQIEmwoanVwxA4lgXt9HgE0BSSZ2AJuIbQAMJih9jjiNA5q4l5INuK0AwTKYKRj0zQNv5fmq8/DpAaCJseHrtQkB/+zpwzoxKQM3MzMzMeFJAZmZmZmZqWEAAAAAAAFxeQM3MzMzMJmJAmpmZmZkfZUBmZmZmZhhoQDMzMzMzEWtAAAAAAAAKbkBmZmZmZoFwQM3MzMzM/XFAMzMzMzN6c0CamZmZmfZ0QAAAAAAAc3ZAZmZmZmbvd0DNzMzMzGt5QDMzMzMz6HpAmpmZmZlkfEAAAAAAAOF9QGZmZmZmXX9AZmZmZuZsgECamZmZGSuBQM3MzMxM6YFAAAAAAICngkAzMzMzs2WDQGZmZmbmI4RAmpmZmRnihEDNzMzMTKCFQAAAAACAXoZAMzMzM7Mch0BmZmZm5tqHQJqZmZkZmYhAzczMzExXiUAAAAAAgBWKQDMzMzOz04pAZmZmZuaRi0CamZmZGVCMQM3MzMxMDo1AAAAAAIDMjUAzMzMzs4qOQGZmZmbmSI9A\",\"dtype\":\"float64\",\"shape\":[75]}},\"selected\":{\"id\":\"12bad907-7098-43b2-8237-ae9eecd5b560\",\"type\":\"Selection\"},\"selection_policy\":{\"id\":\"17280848-eab3-4d7a-890a-794720c5e5ee\",\"type\":\"UnionRenderers\"}},\"id\":\"fa55372a-eb3e-4069-a2e7-e7e3c91295ae\",\"type\":\"ColumnDataSource\"},{\"attributes\":{},\"id\":\"94feff68-af3d-4124-af1c-0d8f698fef6e\",\"type\":\"Selection\"},{\"attributes\":{\"label\":{\"value\":\"CRD\"},\"renderers\":[{\"id\":\"32b4d788-c62c-4d85-b07e-91019737ca05\",\"type\":\"GlyphRenderer\"},{\"id\":\"0df4ddec-4721-4346-af5c-118ec78cd668\",\"type\":\"GlyphRenderer\"}]},\"id\":\"f1c66062-96ae-4129-8f01-b02f60b10740\",\"type\":\"LegendItem\"},{\"attributes\":{},\"id\":\"c50db57f-f860-4506-b916-5a4d0e076725\",\"type\":\"UnionRenderers\"},{\"attributes\":{\"label\":{\"value\":\"WGT igg=10 wgt_flux=2\"},\"renderers\":[{\"id\":\"94d6dda9-ff09-461f-9a7b-e0d5b8aa32a9\",\"type\":\"GlyphRenderer\"},{\"id\":\"75f97695-c159-4df0-8b2c-fb4139841a41\",\"type\":\"GlyphRenderer\"}]},\"id\":\"0ecfed9b-81e6-4182-90f5-c44704df7e85\",\"type\":\"LegendItem\"},{\"attributes\":{\"plot\":null,\"text\":\"Log pressure scale\"},\"id\":\"f1f45d55-f4a8-457f-8245-c5913d109fae\",\"type\":\"Title\"},{\"attributes\":{},\"id\":\"fc725eda-f6d3-437a-b031-45d6362ad557\",\"type\":\"BasicTickFormatter\"},{\"attributes\":{\"fill_alpha\":{\"value\":0.1},\"fill_color\":{\"value\":\"#1f77b4\"},\"line_alpha\":{\"value\":0.1},\"line_color\":{\"value\":\"#1f77b4\"},\"x\":{\"field\":\"x\"},\"y\":{\"field\":\"y\"}},\"id\":\"7655e40e-8839-438f-8517-6f3a13b8848a\",\"type\":\"Square\"},{\"attributes\":{},\"id\":\"50282778-c8f1-4492-b4cf-4844e83831e7\",\"type\":\"Selection\"},{\"attributes\":{},\"id\":\"5f0a824b-d079-48bc-b153-b1994f2f8461\",\"type\":\"LinearScale\"},{\"attributes\":{\"items\":[{\"id\":\"43343f17-2227-4eb0-9850-b0acb443dea8\",\"type\":\"LegendItem\"},{\"id\":\"f1c66062-96ae-4129-8f01-b02f60b10740\",\"type\":\"LegendItem\"},{\"id\":\"0ecfed9b-81e6-4182-90f5-c44704df7e85\",\"type\":\"LegendItem\"}],\"label_text_font_size\":{\"value\":\"8pt\"},\"location\":[10,-30],\"plot\":{\"id\":\"e9c23ff5-db4c-441a-80ed-a518ec34f67e\",\"subtype\":\"Figure\",\"type\":\"Plot\"}},\"id\":\"e5ff5f8d-dfd6-4bed-ba64-cb20f47d6cd7\",\"type\":\"Legend\"},{\"attributes\":{},\"id\":\"d311645f-53f7-4bda-8dcc-eb0690ff604c\",\"type\":\"BasicTickFormatter\"},{\"attributes\":{\"data_source\":{\"id\":\"c61b1fa2-a8d1-4945-be03-e9efc2ea542e\",\"type\":\"ColumnDataSource\"},\"glyph\":{\"id\":\"932a195d-4ff9-460b-b581-39927d2fd653\",\"type\":\"Circle\"},\"hover_glyph\":null,\"muted_glyph\":null,\"nonselection_glyph\":{\"id\":\"3b17c32f-3fa2-4f14-b69f-6b746ad21c1a\",\"type\":\"Circle\"},\"selection_glyph\":null,\"view\":{\"id\":\"d12d1c13-627c-4a70-98ce-993d66b585d2\",\"type\":\"CDSView\"}},\"id\":\"4dde5495-e88f-4199-a38b-faafd46685bd\",\"type\":\"GlyphRenderer\"},{\"attributes\":{\"callback\":null,\"data\":{\"x\":{\"__ndarray__\":\"HwV3SlHjwL8x0Q6IocHAv/mdvAbUc8C/yxdPIWgvwL+Gt330Xci/v14/ptQBP7+/Rq5rrNe7vr9+7MMAjUq+vzk8sde/8r2/EtZZHLfBvb9bqtsSrMW9vw8fGfP8Fb6/vC02b/HNvr+gbgB2jO2/v1RN3RbH0b6/jyehqEIvub8oN/Zmpmywv/9X81YMM5e/TfRJ1cl4mz+2BoWUNRK2P0TUGINfoMQ/R2RCvaXTzz+ShFV9ihHQPwTxVAr2tsY/+IjfnP3LvT/6ZyI58C6yP6wMPOwHUKg/A6RQvWYKoj+fJMuKBhqcP+gEgM8835Y/kWdP8hwVkz+z3nGFxzSPP0EsW/TXNog/Esn4PozJgT/Z4rycX7ZlP+x+6knS+3W/UftUz1OUhr96ZQUJHEmHv5CmOjr/UX2/CtARD3CSaL8NBNq9tpZrP/eaM6hm/JM/FKdflYERpz8X+Lj7CzOwP6u259MvC7I/5e3sdH1Ztz84JJueV0HAP2QVGL3sl8M/U2GVvCjjwz/bMxBIsrPDP1SPot5PncM/apGt1tGywz9+UJeBs33DP6cJhpF6f8I/Si+t/fm7wD9OGP0m99O8PzKlzZXQG7g/UjSvgZ4atD+4SJ44pV+xP5Tr7+6ZdLA/7mTBQ9vEsT8VSwadWDK0PxasjxRtR7Q/25mMNKTDrj8J9lWzVF2bP+hKOimUmFW/kgoAbEwUj7/fiKoZM3SOvzjlXz9Aw4G/SEwTOG8pbr/OHP91Xw9SvwAU8ykHLOG+jrYarF6KQT/4cpcw4QVjPwQ917CXi8k/\",\"dtype\":\"float64\",\"shape\":[75]},\"y\":{\"__ndarray__\":\"GhExyth1ND/Sv8nbtpRIP2vylNV0PVE/aTum7souWD/At0SJ8fVgPw3Iuahxymc/MSNhhJWvcD/bTfBN02d3P2zb5nxnaoA/CD5h5MAGhz8NmeH1TyaQP+zrCsc9p5Y/LbKd76fGnz/bLW5ISEmmPww9YvTcQq8/JV2OstnstT8Er5Y7M8G+P0c+r3jqkcU/5h99k6ZBzj88bCIzFzjVP4enV8oyxN0//yH99nXg5D8qOpLLf0jtP5kqGJXUifQ/c9cS8kHP/D+/DpwzojQEQIEmwoanVwxA4lgXt9HgE0BSSZ2AJuIbQAMJih9jjiNA5q4l5INuK0AwTKYKRj0zQNv5fmq8/DpAaCJseHrtQkB/+zpwzoxKQM3MzMzMeFJAZmZmZmZqWEAAAAAAAFxeQM3MzMzMJmJAmpmZmZkfZUBmZmZmZhhoQDMzMzMzEWtAAAAAAAAKbkBmZmZmZoFwQM3MzMzM/XFAMzMzMzN6c0CamZmZmfZ0QAAAAAAAc3ZAZmZmZmbvd0DNzMzMzGt5QDMzMzMz6HpAmpmZmZlkfEAAAAAAAOF9QGZmZmZmXX9AZmZmZuZsgECamZmZGSuBQM3MzMxM6YFAAAAAAICngkAzMzMzs2WDQGZmZmbmI4RAmpmZmRnihEDNzMzMTKCFQAAAAACAXoZAMzMzM7Mch0BmZmZm5tqHQJqZmZkZmYhAzczMzExXiUAAAAAAgBWKQDMzMzOz04pAZmZmZuaRi0CamZmZGVCMQM3MzMxMDo1AAAAAAIDMjUAzMzMzs4qOQGZmZmbmSI9A\",\"dtype\":\"float64\",\"shape\":[75]}},\"selected\":{\"id\":\"f9a98be0-34a8-4b5a-9f46-51c01d13c45d\",\"type\":\"Selection\"},\"selection_policy\":{\"id\":\"6fdc4a28-328b-48ea-8b91-77b984a2fd9b\",\"type\":\"UnionRenderers\"}},\"id\":\"9334ba68-ee1e-44fb-b541-2dabe70ce9b0\",\"type\":\"ColumnDataSource\"},{\"attributes\":{},\"id\":\"3341ed12-297a-484f-8105-58ef40800c79\",\"type\":\"UnionRenderers\"},{\"attributes\":{},\"id\":\"2f97440e-c68c-4c39-9d15-f2c45ea866cd\",\"type\":\"UnionRenderers\"},{\"attributes\":{},\"id\":\"ee6e6365-5de0-42fb-9634-32612ebd6b99\",\"type\":\"Selection\"},{\"attributes\":{\"active_drag\":\"auto\",\"active_inspect\":\"auto\",\"active_scroll\":\"auto\",\"active_tap\":\"auto\",\"tools\":[{\"id\":\"d3a4caef-0600-47b1-9747-2269f5359d5a\",\"type\":\"PanTool\"},{\"id\":\"9c60919f-98ca-4550-b733-5782cd4ab9ef\",\"type\":\"WheelZoomTool\"},{\"id\":\"8d37aa48-ad81-4bd6-bb36-0489a5c02858\",\"type\":\"BoxZoomTool\"},{\"id\":\"c9006008-b0d1-4fca-9b38-55ab74edcedf\",\"type\":\"SaveTool\"},{\"id\":\"c44cbf09-b99e-4508-92ca-25da04c6eeee\",\"type\":\"ResetTool\"},{\"id\":\"6cfa2b3c-b600-4b93-842a-926bb728c5ee\",\"type\":\"HelpTool\"}]},\"id\":\"4b0710b6-3f05-4c81-b803-21b3511580e1\",\"type\":\"Toolbar\"},{\"attributes\":{},\"id\":\"12bad907-7098-43b2-8237-ae9eecd5b560\",\"type\":\"Selection\"},{\"attributes\":{\"callback\":null,\"data\":{\"x\":{\"__ndarray__\":\"HwV3SlHjwL8x0Q6IocHAv/mdvAbUc8C/yxdPIWgvwL+Gt330Xci/v14/ptQBP7+/Rq5rrNe7vr9+7MMAjUq+vzk8sde/8r2/EtZZHLfBvb9bqtsSrMW9vw8fGfP8Fb6/vC02b/HNvr+gbgB2jO2/v1RN3RbH0b6/jyehqEIvub8oN/Zmpmywv/9X81YMM5e/TfRJ1cl4mz+2BoWUNRK2P0TUGINfoMQ/R2RCvaXTzz+ShFV9ihHQPwTxVAr2tsY/+IjfnP3LvT/6ZyI58C6yP6wMPOwHUKg/A6RQvWYKoj+fJMuKBhqcP+gEgM8835Y/kWdP8hwVkz+z3nGFxzSPP0EsW/TXNog/Esn4PozJgT/Z4rycX7ZlP+x+6knS+3W/UftUz1OUhr96ZQUJHEmHv5CmOjr/UX2/CtARD3CSaL8NBNq9tpZrP/eaM6hm/JM/FKdflYERpz8X+Lj7CzOwP6u259MvC7I/5e3sdH1Ztz84JJueV0HAP2QVGL3sl8M/U2GVvCjjwz/bMxBIsrPDP1SPot5PncM/apGt1tGywz9+UJeBs33DP6cJhpF6f8I/Si+t/fm7wD9OGP0m99O8PzKlzZXQG7g/UjSvgZ4atD+4SJ44pV+xP5Tr7+6ZdLA/7mTBQ9vEsT8VSwadWDK0PxasjxRtR7Q/25mMNKTDrj8J9lWzVF2bP+hKOimUmFW/kgoAbEwUj7/fiKoZM3SOvzjlXz9Aw4G/SEwTOG8pbr/OHP91Xw9SvwAU8ykHLOG+jrYarF6KQT/4cpcw4QVjPwQ917CXi8k/\",\"dtype\":\"float64\",\"shape\":[75]},\"y\":{\"__ndarray__\":\"GhExyth1ND/Sv8nbtpRIP2vylNV0PVE/aTum7souWD/At0SJ8fVgPw3Iuahxymc/MSNhhJWvcD/bTfBN02d3P2zb5nxnaoA/CD5h5MAGhz8NmeH1TyaQP+zrCsc9p5Y/LbKd76fGnz/bLW5ISEmmPww9YvTcQq8/JV2OstnstT8Er5Y7M8G+P0c+r3jqkcU/5h99k6ZBzj88bCIzFzjVP4enV8oyxN0//yH99nXg5D8qOpLLf0jtP5kqGJXUifQ/c9cS8kHP/D+/DpwzojQEQIEmwoanVwxA4lgXt9HgE0BSSZ2AJuIbQAMJih9jjiNA5q4l5INuK0AwTKYKRj0zQNv5fmq8/DpAaCJseHrtQkB/+zpwzoxKQM3MzMzMeFJAZmZmZmZqWEAAAAAAAFxeQM3MzMzMJmJAmpmZmZkfZUBmZmZmZhhoQDMzMzMzEWtAAAAAAAAKbkBmZmZmZoFwQM3MzMzM/XFAMzMzMzN6c0CamZmZmfZ0QAAAAAAAc3ZAZmZmZmbvd0DNzMzMzGt5QDMzMzMz6HpAmpmZmZlkfEAAAAAAAOF9QGZmZmZmXX9AZmZmZuZsgECamZmZGSuBQM3MzMxM6YFAAAAAAICngkAzMzMzs2WDQGZmZmbmI4RAmpmZmRnihEDNzMzMTKCFQAAAAACAXoZAMzMzM7Mch0BmZmZm5tqHQJqZmZkZmYhAzczMzExXiUAAAAAAgBWKQDMzMzOz04pAZmZmZuaRi0CamZmZGVCMQM3MzMxMDo1AAAAAAIDMjUAzMzMzs4qOQGZmZmbmSI9A\",\"dtype\":\"float64\",\"shape\":[75]}},\"selected\":{\"id\":\"112fbf2b-2d24-4603-8d8f-2923e6c4d41c\",\"type\":\"Selection\"},\"selection_policy\":{\"id\":\"1be3cd91-a112-4b47-a756-a82fcac96ea3\",\"type\":\"UnionRenderers\"}},\"id\":\"d4b11c9a-5c38-4ea5-abff-d22a010ece1d\",\"type\":\"ColumnDataSource\"},{\"attributes\":{},\"id\":\"1be3cd91-a112-4b47-a756-a82fcac96ea3\",\"type\":\"UnionRenderers\"},{\"attributes\":{\"data_source\":{\"id\":\"3bf7afb1-8630-4c1c-aac1-a3055f68d466\",\"type\":\"ColumnDataSource\"},\"glyph\":{\"id\":\"611857e2-20b2-4539-b1d4-23562678a226\",\"type\":\"Square\"},\"hover_glyph\":null,\"muted_glyph\":null,\"nonselection_glyph\":{\"id\":\"bc2a692a-2a75-4b9d-bc03-64dac4fa4be5\",\"type\":\"Square\"},\"selection_glyph\":null,\"view\":{\"id\":\"ff9272c6-9a69-453f-9e7e-4a23eee22a1a\",\"type\":\"CDSView\"}},\"id\":\"94d6dda9-ff09-461f-9a7b-e0d5b8aa32a9\",\"type\":\"GlyphRenderer\"},{\"attributes\":{\"line_alpha\":0.1,\"line_color\":\"#1f77b4\",\"line_width\":1.5,\"x\":{\"field\":\"x\"},\"y\":{\"field\":\"y\"}},\"id\":\"2d34db70-91a3-4563-b674-070a4214864e\",\"type\":\"Line\"},{\"attributes\":{},\"id\":\"6fdc4a28-328b-48ea-8b91-77b984a2fd9b\",\"type\":\"UnionRenderers\"},{\"attributes\":{},\"id\":\"dfbe2719-4133-4f4b-9abe-085a361b1e25\",\"type\":\"BasicTickFormatter\"},{\"attributes\":{},\"id\":\"112fbf2b-2d24-4603-8d8f-2923e6c4d41c\",\"type\":\"Selection\"},{\"attributes\":{\"ticker\":null},\"id\":\"718d9324-4834-4409-9ca5-f48ad73d1408\",\"type\":\"LogTickFormatter\"},{\"attributes\":{\"data_source\":{\"id\":\"d4b11c9a-5c38-4ea5-abff-d22a010ece1d\",\"type\":\"ColumnDataSource\"},\"glyph\":{\"id\":\"e40abe65-8e8f-4af3-a7a6-c36d15d91b3a\",\"type\":\"Square\"},\"hover_glyph\":null,\"muted_glyph\":null,\"nonselection_glyph\":{\"id\":\"7655e40e-8839-438f-8517-6f3a13b8848a\",\"type\":\"Square\"},\"selection_glyph\":null,\"view\":{\"id\":\"9e0aaabc-a149-4e30-97c2-3b967e1d26ba\",\"type\":\"CDSView\"}},\"id\":\"48a3d94f-c008-48d0-94d9-6a460d74b8d4\",\"type\":\"GlyphRenderer\"},{\"attributes\":{\"below\":[{\"id\":\"41c9a0b9-2571-464b-8e36-4d744c6f7443\",\"type\":\"LinearAxis\"}],\"left\":[{\"id\":\"de60dfa7-4e27-40c7-aff0-6b61a08c9710\",\"type\":\"LinearAxis\"}],\"plot_height\":500,\"plot_width\":400,\"renderers\":[{\"id\":\"41c9a0b9-2571-464b-8e36-4d744c6f7443\",\"type\":\"LinearAxis\"},{\"id\":\"4349b371-55de-4a58-a22d-897ae5557935\",\"type\":\"Grid\"},{\"id\":\"de60dfa7-4e27-40c7-aff0-6b61a08c9710\",\"type\":\"LinearAxis\"},{\"id\":\"2fc39413-bf25-41d9-9230-a42beda9452f\",\"type\":\"Grid\"},{\"id\":\"644066fc-8947-4e26-865b-e3620e31d057\",\"type\":\"BoxAnnotation\"},{\"id\":\"35e474ab-58c6-481f-ae05-e1d0ba6318fa\",\"type\":\"GlyphRenderer\"},{\"id\":\"4dde5495-e88f-4199-a38b-faafd46685bd\",\"type\":\"GlyphRenderer\"},{\"id\":\"4017d9dd-f2c7-4b35-bcda-87471947e51d\",\"type\":\"GlyphRenderer\"},{\"id\":\"48a3d94f-c008-48d0-94d9-6a460d74b8d4\",\"type\":\"GlyphRenderer\"},{\"id\":\"bc7a6e91-64dd-434c-8e80-c2a8dd3633ab\",\"type\":\"GlyphRenderer\"}],\"title\":{\"id\":\"461fb41e-34d8-4e09-9e58-a1e939b8bccf\",\"type\":\"Title\"},\"toolbar\":{\"id\":\"00aec187-1dd0-40da-b6ea-e9e88fe7d810\",\"type\":\"Toolbar\"},\"toolbar_location\":null,\"x_range\":{\"id\":\"b372a031-02ef-476f-902d-1b367df282f0\",\"type\":\"Range1d\"},\"x_scale\":{\"id\":\"b2e3536f-464a-478e-9f79-bbd2e7dd9bcf\",\"type\":\"LinearScale\"},\"y_range\":{\"id\":\"9b5e71eb-3ca0-47e0-92fb-1a4b866a4908\",\"type\":\"Range1d\"},\"y_scale\":{\"id\":\"5f0a824b-d079-48bc-b153-b1994f2f8461\",\"type\":\"LinearScale\"}},\"id\":\"92750815-2e51-4781-aecf-da5d8375f404\",\"subtype\":\"Figure\",\"type\":\"Plot\"},{\"attributes\":{},\"id\":\"f9a98be0-34a8-4b5a-9f46-51c01d13c45d\",\"type\":\"Selection\"},{\"attributes\":{},\"id\":\"304416e7-7a06-46de-a12e-0327a446b7c9\",\"type\":\"UnionRenderers\"},{\"attributes\":{},\"id\":\"17280848-eab3-4d7a-890a-794720c5e5ee\",\"type\":\"UnionRenderers\"},{\"attributes\":{},\"id\":\"596dd9dd-a4df-4019-a98d-5a2dde6b8a25\",\"type\":\"Selection\"},{\"attributes\":{},\"id\":\"ef744fcd-c0df-4d0b-a8dc-520832fc9dcb\",\"type\":\"UnionRenderers\"},{\"attributes\":{},\"id\":\"26dad481-af03-4a56-9664-586cd7521b02\",\"type\":\"UnionRenderers\"},{\"attributes\":{},\"id\":\"08013c2c-9d62-4cc6-a128-c8831fdade6a\",\"type\":\"UnionRenderers\"},{\"attributes\":{},\"id\":\"19b78cf6-42eb-4a11-ba88-5486d170c710\",\"type\":\"Selection\"},{\"attributes\":{\"toolbar\":{\"id\":\"aaed1c2e-70a2-4ada-a0b6-31ab047250db\",\"type\":\"ProxyToolbar\"},\"toolbar_location\":\"above\"},\"id\":\"f1b4d055-4ed3-463d-81a8-613bedf7b5b5\",\"type\":\"ToolbarBox\"},{\"attributes\":{},\"id\":\"237b85f3-7560-4e33-9d17-9942b5986484\",\"type\":\"Selection\"},{\"attributes\":{\"children\":[{\"id\":\"f1b4d055-4ed3-463d-81a8-613bedf7b5b5\",\"type\":\"ToolbarBox\"},{\"id\":\"06d9d290-8cda-466c-b8e2-4a70d79a48e0\",\"type\":\"Column\"}]},\"id\":\"e27f6c5d-28ef-414b-9831-f585c952d729\",\"type\":\"Column\"},{\"attributes\":{},\"id\":\"63478292-1cf4-4ca9-af03-75cc6bd567a3\",\"type\":\"Selection\"},{\"attributes\":{\"tools\":[{\"id\":\"efd6eb66-3ef4-4ff1-b8f5-b183252f4eb2\",\"type\":\"PanTool\"},{\"id\":\"94dba28c-c93c-461b-ad2d-0072d8a21a78\",\"type\":\"WheelZoomTool\"},{\"id\":\"79ffeb65-9809-44d8-bb9b-7a23d210156d\",\"type\":\"BoxZoomTool\"},{\"id\":\"617d944a-7196-4100-8e1e-cc258cfab0c6\",\"type\":\"SaveTool\"},{\"id\":\"9a7e77ef-a9d0-4283-929a-2b9a8cbe81ff\",\"type\":\"ResetTool\"},{\"id\":\"615ef17e-172b-4db4-bf4a-72d5e1dd9fc7\",\"type\":\"HelpTool\"},{\"id\":\"d3a4caef-0600-47b1-9747-2269f5359d5a\",\"type\":\"PanTool\"},{\"id\":\"9c60919f-98ca-4550-b733-5782cd4ab9ef\",\"type\":\"WheelZoomTool\"},{\"id\":\"8d37aa48-ad81-4bd6-bb36-0489a5c02858\",\"type\":\"BoxZoomTool\"},{\"id\":\"c9006008-b0d1-4fca-9b38-55ab74edcedf\",\"type\":\"SaveTool\"},{\"id\":\"c44cbf09-b99e-4508-92ca-25da04c6eeee\",\"type\":\"ResetTool\"},{\"id\":\"6cfa2b3c-b600-4b93-842a-926bb728c5ee\",\"type\":\"HelpTool\"}]},\"id\":\"aaed1c2e-70a2-4ada-a0b6-31ab047250db\",\"type\":\"ProxyToolbar\"},{\"attributes\":{\"line_alpha\":0.1,\"line_color\":\"#1f77b4\",\"line_dash\":[6],\"line_width\":5,\"x\":{\"field\":\"x\"},\"y\":{\"field\":\"y\"}},\"id\":\"fd34463e-944a-4dfe-a3e1-c48188486ad1\",\"type\":\"Line\"},{\"attributes\":{\"line_alpha\":0.6,\"line_color\":\"#e41a1c\",\"line_dash\":[6],\"line_width\":5,\"x\":{\"field\":\"x\"},\"y\":{\"field\":\"y\"}},\"id\":\"1bafcecf-cbf9-467f-b31e-bd7d53deca33\",\"type\":\"Line\"}],\"root_ids\":[\"e27f6c5d-28ef-414b-9831-f585c952d729\"]},\"title\":\"Bokeh Application\",\"version\":\"0.12.16\"}};\n",
       "  var render_items = [{\"docid\":\"2ffdf29c-35e0-47d2-b63a-dda43b487334\",\"elementid\":\"adfe7025-1d06-4739-acc6-5716205918b0\",\"modelid\":\"e27f6c5d-28ef-414b-9831-f585c952d729\"}];\n",
       "  root.Bokeh.embed.embed_items_notebook(docs_json, render_items);\n",
       "\n",
       "  }\n",
       "  if (root.Bokeh !== undefined) {\n",
       "    embed_document(root);\n",
       "  } else {\n",
       "    var attempts = 0;\n",
       "    var timer = setInterval(function(root) {\n",
       "      if (root.Bokeh !== undefined) {\n",
       "        embed_document(root);\n",
       "        clearInterval(timer);\n",
       "      }\n",
       "      attempts++;\n",
       "      if (attempts > 100) {\n",
       "        console.log(\"Bokeh: ERROR: Unable to run BokehJS code because BokehJS library is missing\")\n",
       "        clearInterval(timer);\n",
       "      }\n",
       "    }, 10, root)\n",
       "  }\n",
       "})(window);"
      ],
      "application/vnd.bokehjs_exec.v0+json": ""
     },
     "metadata": {
      "application/vnd.bokehjs_exec.v0+json": {
       "id": "e27f6c5d-28ef-414b-9831-f585c952d729"
      }
     },
     "output_type": "display_data"
    },
    {
     "name": "stdout",
     "output_type": "stream",
     "text": [
      "FIGURE. Cooling rate profiles.\n"
     ]
    },
    {
     "data": {
      "text/html": [
       "<a id=\"Flux_Comparison\"></a>"
      ],
      "text/plain": [
       "<IPython.core.display.HTML object>"
      ]
     },
     "metadata": {},
     "output_type": "display_data"
    },
    {
     "data": {
      "text/markdown": [
       "# Flux Comparison"
      ],
      "text/plain": [
       "<IPython.core.display.Markdown object>"
      ]
     },
     "metadata": {},
     "output_type": "display_data"
    },
    {
     "data": {
      "text/html": [
       "<div>\n",
       "<style scoped>\n",
       "    .dataframe tbody tr th:only-of-type {\n",
       "        vertical-align: middle;\n",
       "    }\n",
       "\n",
       "    .dataframe tbody tr th {\n",
       "        vertical-align: top;\n",
       "    }\n",
       "\n",
       "    .dataframe thead th {\n",
       "        text-align: right;\n",
       "    }\n",
       "</style>\n",
       "<table border=\"1\" class=\"dataframe\">\n",
       "  <thead>\n",
       "    <tr style=\"text-align: right;\">\n",
       "      <th></th>\n",
       "      <th></th>\n",
       "      <th>flug</th>\n",
       "      <th>fldg</th>\n",
       "      <th>fnetg</th>\n",
       "    </tr>\n",
       "    <tr>\n",
       "      <th>pressure</th>\n",
       "      <th>level</th>\n",
       "      <th></th>\n",
       "      <th></th>\n",
       "      <th></th>\n",
       "    </tr>\n",
       "  </thead>\n",
       "  <tbody>\n",
       "    <tr>\n",
       "      <th>0.0000</th>\n",
       "      <th>1</th>\n",
       "      <td>-7.715035</td>\n",
       "      <td>0.000000</td>\n",
       "      <td>-7.715035</td>\n",
       "    </tr>\n",
       "    <tr>\n",
       "      <th>1.0685</th>\n",
       "      <th>24</th>\n",
       "      <td>-7.718865</td>\n",
       "      <td>0.021939</td>\n",
       "      <td>-7.696926</td>\n",
       "    </tr>\n",
       "    <tr>\n",
       "      <th>1013.0000</th>\n",
       "      <th>76</th>\n",
       "      <td>-35.855033</td>\n",
       "      <td>35.269794</td>\n",
       "      <td>-0.585239</td>\n",
       "    </tr>\n",
       "  </tbody>\n",
       "</table>\n",
       "</div>"
      ],
      "text/plain": [
       "                      flug       fldg     fnetg\n",
       "pressure  level                                \n",
       "0.0000    1      -7.715035   0.000000 -7.715035\n",
       "1.0685    24     -7.718865   0.021939 -7.696926\n",
       "1013.0000 76    -35.855033  35.269794 -0.585239"
      ]
     },
     "metadata": {},
     "output_type": "display_data"
    },
    {
     "name": "stdout",
     "output_type": "stream",
     "text": [
      "Table. Fluxes. CRD\n"
     ]
    },
    {
     "data": {
      "text/html": [
       "<div>\n",
       "<style scoped>\n",
       "    .dataframe tbody tr th:only-of-type {\n",
       "        vertical-align: middle;\n",
       "    }\n",
       "\n",
       "    .dataframe tbody tr th {\n",
       "        vertical-align: top;\n",
       "    }\n",
       "\n",
       "    .dataframe thead th {\n",
       "        text-align: right;\n",
       "    }\n",
       "</style>\n",
       "<table border=\"1\" class=\"dataframe\">\n",
       "  <thead>\n",
       "    <tr style=\"text-align: right;\">\n",
       "      <th></th>\n",
       "      <th></th>\n",
       "      <th>flug</th>\n",
       "      <th>fldg</th>\n",
       "      <th>fnetg</th>\n",
       "    </tr>\n",
       "    <tr>\n",
       "      <th>pressure</th>\n",
       "      <th>level</th>\n",
       "      <th></th>\n",
       "      <th></th>\n",
       "      <th></th>\n",
       "    </tr>\n",
       "  </thead>\n",
       "  <tbody>\n",
       "    <tr>\n",
       "      <th>0.0000</th>\n",
       "      <th>1</th>\n",
       "      <td>-7.653818</td>\n",
       "      <td>0.000000</td>\n",
       "      <td>-7.653818</td>\n",
       "    </tr>\n",
       "    <tr>\n",
       "      <th>1.0685</th>\n",
       "      <th>24</th>\n",
       "      <td>-7.657222</td>\n",
       "      <td>0.021522</td>\n",
       "      <td>-7.635701</td>\n",
       "    </tr>\n",
       "    <tr>\n",
       "      <th>1013.0000</th>\n",
       "      <th>76</th>\n",
       "      <td>-35.855033</td>\n",
       "      <td>35.278623</td>\n",
       "      <td>-0.576409</td>\n",
       "    </tr>\n",
       "  </tbody>\n",
       "</table>\n",
       "</div>"
      ],
      "text/plain": [
       "                      flug       fldg     fnetg\n",
       "pressure  level                                \n",
       "0.0000    1      -7.653818   0.000000 -7.653818\n",
       "1.0685    24     -7.657222   0.021522 -7.635701\n",
       "1013.0000 76    -35.855033  35.278623 -0.576409"
      ]
     },
     "metadata": {},
     "output_type": "display_data"
    },
    {
     "name": "stdout",
     "output_type": "stream",
     "text": [
      "Table. Fluxes. WGT igg=10 wgt_flux=1\n"
     ]
    },
    {
     "data": {
      "text/html": [
       "<div>\n",
       "<style scoped>\n",
       "    .dataframe tbody tr th:only-of-type {\n",
       "        vertical-align: middle;\n",
       "    }\n",
       "\n",
       "    .dataframe tbody tr th {\n",
       "        vertical-align: top;\n",
       "    }\n",
       "\n",
       "    .dataframe thead th {\n",
       "        text-align: right;\n",
       "    }\n",
       "</style>\n",
       "<table border=\"1\" class=\"dataframe\">\n",
       "  <thead>\n",
       "    <tr style=\"text-align: right;\">\n",
       "      <th></th>\n",
       "      <th></th>\n",
       "      <th>flug</th>\n",
       "      <th>fldg</th>\n",
       "      <th>fnetg</th>\n",
       "    </tr>\n",
       "    <tr>\n",
       "      <th>pressure</th>\n",
       "      <th>level</th>\n",
       "      <th></th>\n",
       "      <th></th>\n",
       "      <th></th>\n",
       "    </tr>\n",
       "  </thead>\n",
       "  <tbody>\n",
       "    <tr>\n",
       "      <th>1.000000e-08</th>\n",
       "      <th>1</th>\n",
       "      <td>-7.574985</td>\n",
       "      <td>1.875993e-09</td>\n",
       "      <td>-7.574985</td>\n",
       "    </tr>\n",
       "    <tr>\n",
       "      <th>1.068500e+00</th>\n",
       "      <th>24</th>\n",
       "      <td>-7.578204</td>\n",
       "      <td>2.120368e-02</td>\n",
       "      <td>-7.557000</td>\n",
       "    </tr>\n",
       "    <tr>\n",
       "      <th>1.013000e+03</th>\n",
       "      <th>76</th>\n",
       "      <td>-35.855030</td>\n",
       "      <td>3.528192e+01</td>\n",
       "      <td>-0.573108</td>\n",
       "    </tr>\n",
       "  </tbody>\n",
       "</table>\n",
       "</div>"
      ],
      "text/plain": [
       "                         flug          fldg     fnetg\n",
       "pressure     level                                   \n",
       "1.000000e-08 1      -7.574985  1.875993e-09 -7.574985\n",
       "1.068500e+00 24     -7.578204  2.120368e-02 -7.557000\n",
       "1.013000e+03 76    -35.855030  3.528192e+01 -0.573108"
      ]
     },
     "metadata": {},
     "output_type": "display_data"
    },
    {
     "name": "stdout",
     "output_type": "stream",
     "text": [
      "Table. Fluxes. CLIRAD\n"
     ]
    },
    {
     "data": {
      "text/html": [
       "<div>\n",
       "<style scoped>\n",
       "    .dataframe tbody tr th:only-of-type {\n",
       "        vertical-align: middle;\n",
       "    }\n",
       "\n",
       "    .dataframe tbody tr th {\n",
       "        vertical-align: top;\n",
       "    }\n",
       "\n",
       "    .dataframe thead th {\n",
       "        text-align: right;\n",
       "    }\n",
       "</style>\n",
       "<table border=\"1\" class=\"dataframe\">\n",
       "  <thead>\n",
       "    <tr style=\"text-align: right;\">\n",
       "      <th></th>\n",
       "      <th></th>\n",
       "      <th>flug</th>\n",
       "      <th>fldg</th>\n",
       "      <th>fnetg</th>\n",
       "    </tr>\n",
       "    <tr>\n",
       "      <th>pressure</th>\n",
       "      <th>level</th>\n",
       "      <th></th>\n",
       "      <th></th>\n",
       "      <th></th>\n",
       "    </tr>\n",
       "  </thead>\n",
       "  <tbody>\n",
       "    <tr>\n",
       "      <th>0.0000</th>\n",
       "      <th>1</th>\n",
       "      <td>6.121662e-02</td>\n",
       "      <td>0.000000</td>\n",
       "      <td>0.061217</td>\n",
       "    </tr>\n",
       "    <tr>\n",
       "      <th>1.0685</th>\n",
       "      <th>24</th>\n",
       "      <td>6.164266e-02</td>\n",
       "      <td>-0.000418</td>\n",
       "      <td>0.061225</td>\n",
       "    </tr>\n",
       "    <tr>\n",
       "      <th>1013.0000</th>\n",
       "      <th>76</th>\n",
       "      <td>-1.950000e-07</td>\n",
       "      <td>0.008829</td>\n",
       "      <td>0.008830</td>\n",
       "    </tr>\n",
       "  </tbody>\n",
       "</table>\n",
       "</div>"
      ],
      "text/plain": [
       "                         flug      fldg     fnetg\n",
       "pressure  level                                  \n",
       "0.0000    1      6.121662e-02  0.000000  0.061217\n",
       "1.0685    24     6.164266e-02 -0.000418  0.061225\n",
       "1013.0000 76    -1.950000e-07  0.008829  0.008830"
      ]
     },
     "metadata": {},
     "output_type": "display_data"
    },
    {
     "name": "stdout",
     "output_type": "stream",
     "text": [
      "Table. Fluxes. (WGT igg=10 wgt_flux=1) - (CRD)\n"
     ]
    },
    {
     "data": {
      "text/html": [
       "<div>\n",
       "<style scoped>\n",
       "    .dataframe tbody tr th:only-of-type {\n",
       "        vertical-align: middle;\n",
       "    }\n",
       "\n",
       "    .dataframe tbody tr th {\n",
       "        vertical-align: top;\n",
       "    }\n",
       "\n",
       "    .dataframe thead th {\n",
       "        text-align: right;\n",
       "    }\n",
       "</style>\n",
       "<table border=\"1\" class=\"dataframe\">\n",
       "  <thead>\n",
       "    <tr style=\"text-align: right;\">\n",
       "      <th></th>\n",
       "      <th></th>\n",
       "      <th>flug</th>\n",
       "      <th>fldg</th>\n",
       "      <th>fnetg</th>\n",
       "    </tr>\n",
       "    <tr>\n",
       "      <th>pressure</th>\n",
       "      <th>level</th>\n",
       "      <th></th>\n",
       "      <th></th>\n",
       "      <th></th>\n",
       "    </tr>\n",
       "  </thead>\n",
       "  <tbody>\n",
       "    <tr>\n",
       "      <th>0.0000</th>\n",
       "      <th>1</th>\n",
       "      <td>0.140050</td>\n",
       "      <td>1.875993e-09</td>\n",
       "      <td>0.140050</td>\n",
       "    </tr>\n",
       "    <tr>\n",
       "      <th>1.0685</th>\n",
       "      <th>24</th>\n",
       "      <td>0.140662</td>\n",
       "      <td>-7.355310e-04</td>\n",
       "      <td>0.139926</td>\n",
       "    </tr>\n",
       "    <tr>\n",
       "      <th>1013.0000</th>\n",
       "      <th>76</th>\n",
       "      <td>0.000003</td>\n",
       "      <td>1.212800e-02</td>\n",
       "      <td>0.012131</td>\n",
       "    </tr>\n",
       "  </tbody>\n",
       "</table>\n",
       "</div>"
      ],
      "text/plain": [
       "                     flug          fldg     fnetg\n",
       "pressure  level                                  \n",
       "0.0000    1      0.140050  1.875993e-09  0.140050\n",
       "1.0685    24     0.140662 -7.355310e-04  0.139926\n",
       "1013.0000 76     0.000003  1.212800e-02  0.012131"
      ]
     },
     "metadata": {},
     "output_type": "display_data"
    },
    {
     "name": "stdout",
     "output_type": "stream",
     "text": [
      "Table. Fluxes. (CLIRAD) - (CRD)\n"
     ]
    },
    {
     "data": {
      "text/html": [
       "<a id=\"Best-fit_Parameters\"></a>"
      ],
      "text/plain": [
       "<IPython.core.display.HTML object>"
      ]
     },
     "metadata": {},
     "output_type": "display_data"
    },
    {
     "data": {
      "text/markdown": [
       "# Best-fit Parameters"
      ],
      "text/plain": [
       "<IPython.core.display.Markdown object>"
      ]
     },
     "metadata": {},
     "output_type": "display_data"
    },
    {
     "name": "stdout",
     "output_type": "stream",
     "text": [
      "Best-fit values for each (gas, band)\n",
      "------------------------------------\n",
      "o h2o band8\n",
      "  atmpro = mls\n",
      "  band = 8\n",
      "  commitnumber = a06b618\n",
      "  conc = None\n",
      "  dv = 0.001\n",
      "  klin = 0\n",
      "  molecule = h2o\n",
      "  ng_adju = [0, -1, 0]\n",
      "  ng_refs = [3, 2, 3]\n",
      "  nv = 1000\n",
      "  option_compute_btable = 0\n",
      "  option_compute_ktable = 1\n",
      "  option_wgt_flux = 1\n",
      "  option_wgt_k = 1\n",
      "  ref_pts = [(1, 250), (10, 250), (500, 250)]\n",
      "  tsfc = 294\n",
      "  vmax = 1900\n",
      "  vmin = 1380\n",
      "  w_diffuse = [(1.66, 1.66, 1.66), (1.66, 1.66), (1.66, 1.66, 1.66)]\n",
      "  wgt = [(0.55, 0.55, 0.85), (0.85, 0.85), (0, 0.3, 0.55)]\n"
     ]
    }
   ],
   "source": [
    "script()"
   ]
  },
  {
   "cell_type": "code",
   "execution_count": 13,
   "metadata": {
    "collapsed": true
   },
   "outputs": [
    {
     "data": {
      "text/html": [
       "<script>\n",
       "code_show=true; \n",
       "function code_toggle() {\n",
       " if (code_show){\n",
       " $('div.input').hide();\n",
       " } else {\n",
       " $('div.input').show();\n",
       " }\n",
       " code_show = !code_show\n",
       "} \n",
       "$( document ).ready(code_toggle);\n",
       "</script>\n",
       "<form action=\"javascript:code_toggle()\"><input type=\"submit\" value=\"Click here to toggle on/off the raw code.\"></form>"
      ],
      "text/plain": [
       "<IPython.core.display.HTML object>"
      ]
     },
     "execution_count": 13,
     "metadata": {},
     "output_type": "execute_result"
    }
   ],
   "source": [
    "display.HTML('''<script>\n",
    "code_show=true; \n",
    "function code_toggle() {\n",
    " if (code_show){\n",
    " $('div.input').hide();\n",
    " } else {\n",
    " $('div.input').show();\n",
    " }\n",
    " code_show = !code_show\n",
    "} \n",
    "$( document ).ready(code_toggle);\n",
    "</script>\n",
    "<form action=\"javascript:code_toggle()\"><input type=\"submit\" value=\"Click here to toggle on/off the raw code.\"></form>''')"
   ]
  }
 ],
 "metadata": {
  "kernelspec": {
   "display_name": "Python 3",
   "language": "python",
   "name": "python3"
  },
  "language_info": {
   "codemirror_mode": {
    "name": "ipython",
    "version": 3
   },
   "file_extension": ".py",
   "mimetype": "text/x-python",
   "name": "python",
   "nbconvert_exporter": "python",
   "pygments_lexer": "ipython3",
   "version": "3.6.1"
  }
 },
 "nbformat": 4,
 "nbformat_minor": 2
}
