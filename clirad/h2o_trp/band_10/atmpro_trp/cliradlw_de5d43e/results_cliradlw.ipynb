{
 "cells": [
  {
   "cell_type": "code",
   "execution_count": 1,
   "metadata": {
    "collapsed": true
   },
   "outputs": [],
   "source": [
    "%matplotlib inline\n",
    "import os\n",
    "import re\n",
    "import io\n",
    "import itertools\n",
    "import pprint\n",
    "\n",
    "from bokeh.io import output_notebook, show\n",
    "from bokeh.layouts import gridplot\n",
    "from bokeh.plotting import figure\n",
    "from bokeh.models import Range1d, Legend\n",
    "from bokeh.palettes import all_palettes\n",
    "\n",
    "import matplotlib\n",
    "import matplotlib.pyplot as plt\n",
    "import numpy as np\n",
    "import pandas as pd\n",
    "import xarray as xr\n",
    "\n",
    "import climatools.lblnew.bestfit_params as bestfits\n",
    "from climatools.lblnew import setup_bestfit, setup_overlap\n",
    "import climatools.lblnew.pipeline as pipe_lblnew\n",
    "import climatools.cliradlw.setup as setup_cliradlw\n",
    "import climatools.cliradlw.pipeline as pipe_cliradlw\n",
    "\n",
    "import climatools.html.html as climahtml\n",
    "from climatools.lblnew.dataio import *\n",
    "from climatools.plot.plot import *\n",
    "\n",
    "\n",
    "import IPython.display as display"
   ]
  },
  {
   "cell_type": "code",
   "execution_count": 2,
   "metadata": {
    "collapsed": true
   },
   "outputs": [],
   "source": [
    "%run param.py"
   ]
  },
  {
   "cell_type": "code",
   "execution_count": 3,
   "metadata": {
    "collapsed": true
   },
   "outputs": [],
   "source": [
    "def load_output_file(path_csv):\n",
    "    '''\n",
    "    Load lblnew output .csv file to xarray.Dataset\n",
    "    \n",
    "    Parameters\n",
    "    ----------\n",
    "    path_csv: str\n",
    "              Path to the .csv file to be loaded.\n",
    "    ds: xarray.Dataset\n",
    "        Data in the input file in the form of an xarray.Dataset.\n",
    "    '''\n",
    "    toindex = ['band', 'pressure', 'igg', 'g']    \n",
    "    df = pd.read_csv(path_csv, sep=r'\\s+')\n",
    "    df = df.set_index([i for i in toindex if i in df.columns])\n",
    "    df = df.rename(columns={'sfu': 'flug',\n",
    "                            'sfd': 'fldg',\n",
    "                            'fnet': 'fnetg',\n",
    "                            'coolr': 'coolrg'})\n",
    "    ds = xr.Dataset.from_dataframe(df)\n",
    "\n",
    "    for l in ('level', 'layer'):\n",
    "        if l in ds.data_vars:\n",
    "            if len(ds[l].dims) > 1:\n",
    "                surface = {d: 0 for d in ds.dims if d != 'pressure'}\n",
    "                coord_level = ds[l][surface]\n",
    "                ds.coords[l] = ('pressure', coord_level)\n",
    "            else:\n",
    "                ds.coords[l] = ('pressure', ds[l])\n",
    "    \n",
    "    return ds"
   ]
  },
  {
   "cell_type": "code",
   "execution_count": 4,
   "metadata": {
    "collapsed": true
   },
   "outputs": [],
   "source": [
    "def lblnew_setup(param=None):\n",
    "    if 'ng_refs' in param:\n",
    "        return {'setup': setup_bestfit,\n",
    "                'fname_flux_crd': 'output_flux.dat',\n",
    "                'fname_cool_crd': 'output_coolr.dat',\n",
    "                'fname_flux_wgt': 'output_wfluxg.dat',\n",
    "                'fname_cool_wgt': 'output_wcoolrg.dat'}\n",
    "    else:\n",
    "        return {'setup': setup_overlap,\n",
    "                'fname_flux_crd': 'output_flux.dat',\n",
    "                'fname_cool_crd': 'output_coolr.dat',\n",
    "                'fname_flux_wgt': 'output_wflux.dat',\n",
    "                'fname_cool_wgt': 'output_wcoolr.dat'}\n",
    "\n",
    "    \n",
    "def load_lblnew_data(param):\n",
    "    \n",
    "    fname_dsname = [('fname_flux_crd', 'ds_flux_crd'),\n",
    "                    ('fname_cool_crd', 'ds_cool_crd'),\n",
    "                    ('fname_flux_wgt', 'ds_flux_wgt'),\n",
    "                    ('fname_cool_wgt', 'ds_cool_wgt')]\n",
    "    \n",
    "    d = lblnew_setup(param)\n",
    "    dir_fortran = pipe_lblnew.get_dir_case(param, setup=d['setup'])\n",
    "    \n",
    "    data_dict = {}\n",
    "    for fname, dsname in fname_dsname:\n",
    "        fpath = os.path.join(dir_fortran, d[fname])\n",
    "        data_dict[dsname] = load_output_file(fpath)\n",
    "    return data_dict\n",
    "    \n",
    "\n",
    "    \n",
    "    "
   ]
  },
  {
   "cell_type": "code",
   "execution_count": 5,
   "metadata": {
    "collapsed": true
   },
   "outputs": [],
   "source": [
    "d = load_lblnew_data(PARAM_LBLNEW)\n",
    "\n",
    "DS_FLUX_CRD = d['ds_flux_crd']\n",
    "DS_COOL_CRD = d['ds_cool_crd']\n",
    "DS_FLUX_WGT = d['ds_flux_wgt']\n",
    "DS_COOL_WGT = d['ds_cool_wgt']"
   ]
  },
  {
   "cell_type": "code",
   "execution_count": 6,
   "metadata": {
    "collapsed": true
   },
   "outputs": [],
   "source": [
    "DIR_FORTRAN = pipe_cliradlw.get_fortran_dir(PARAM, \n",
    "                                            setup=setup_cliradlw)\n",
    "\n",
    "PATH_FLUX = os.path.join(DIR_FORTRAN, 'output_flux.dat')\n",
    "PATH_COOL = os.path.join(DIR_FORTRAN, 'output_coolr.dat')\n",
    "\n",
    "DS_FLUX = load_output_file(PATH_FLUX)\n",
    "DS_COOL = load_output_file(PATH_COOL)"
   ]
  },
  {
   "cell_type": "code",
   "execution_count": 7,
   "metadata": {
    "collapsed": true
   },
   "outputs": [
    {
     "data": {
      "text/html": [
       "\n",
       "    <div class=\"bk-root\">\n",
       "        <a href=\"https://bokeh.pydata.org\" target=\"_blank\" class=\"bk-logo bk-logo-small bk-logo-notebook\"></a>\n",
       "        <span id=\"c77309ee-60cb-4346-a99c-6a9b79eeecf9\">Loading BokehJS ...</span>\n",
       "    </div>"
      ]
     },
     "metadata": {},
     "output_type": "display_data"
    },
    {
     "data": {
      "application/javascript": [
       "\n",
       "(function(root) {\n",
       "  function now() {\n",
       "    return new Date();\n",
       "  }\n",
       "\n",
       "  var force = true;\n",
       "\n",
       "  if (typeof (root._bokeh_onload_callbacks) === \"undefined\" || force === true) {\n",
       "    root._bokeh_onload_callbacks = [];\n",
       "    root._bokeh_is_loading = undefined;\n",
       "  }\n",
       "\n",
       "  var JS_MIME_TYPE = 'application/javascript';\n",
       "  var HTML_MIME_TYPE = 'text/html';\n",
       "  var EXEC_MIME_TYPE = 'application/vnd.bokehjs_exec.v0+json';\n",
       "  var CLASS_NAME = 'output_bokeh rendered_html';\n",
       "\n",
       "  /**\n",
       "   * Render data to the DOM node\n",
       "   */\n",
       "  function render(props, node) {\n",
       "    var script = document.createElement(\"script\");\n",
       "    node.appendChild(script);\n",
       "  }\n",
       "\n",
       "  /**\n",
       "   * Handle when an output is cleared or removed\n",
       "   */\n",
       "  function handleClearOutput(event, handle) {\n",
       "    var cell = handle.cell;\n",
       "\n",
       "    var id = cell.output_area._bokeh_element_id;\n",
       "    var server_id = cell.output_area._bokeh_server_id;\n",
       "    // Clean up Bokeh references\n",
       "    if (id !== undefined) {\n",
       "      Bokeh.index[id].model.document.clear();\n",
       "      delete Bokeh.index[id];\n",
       "    }\n",
       "\n",
       "    if (server_id !== undefined) {\n",
       "      // Clean up Bokeh references\n",
       "      var cmd = \"from bokeh.io.state import curstate; print(curstate().uuid_to_server['\" + server_id + \"'].get_sessions()[0].document.roots[0]._id)\";\n",
       "      cell.notebook.kernel.execute(cmd, {\n",
       "        iopub: {\n",
       "          output: function(msg) {\n",
       "            var element_id = msg.content.text.trim();\n",
       "            Bokeh.index[element_id].model.document.clear();\n",
       "            delete Bokeh.index[element_id];\n",
       "          }\n",
       "        }\n",
       "      });\n",
       "      // Destroy server and session\n",
       "      var cmd = \"import bokeh.io.notebook as ion; ion.destroy_server('\" + server_id + \"')\";\n",
       "      cell.notebook.kernel.execute(cmd);\n",
       "    }\n",
       "  }\n",
       "\n",
       "  /**\n",
       "   * Handle when a new output is added\n",
       "   */\n",
       "  function handleAddOutput(event, handle) {\n",
       "    var output_area = handle.output_area;\n",
       "    var output = handle.output;\n",
       "\n",
       "    // limit handleAddOutput to display_data with EXEC_MIME_TYPE content only\n",
       "    if ((output.output_type != \"display_data\") || (!output.data.hasOwnProperty(EXEC_MIME_TYPE))) {\n",
       "      return\n",
       "    }\n",
       "\n",
       "    var toinsert = output_area.element.find(\".\" + CLASS_NAME.split(' ')[0]);\n",
       "\n",
       "    if (output.metadata[EXEC_MIME_TYPE][\"id\"] !== undefined) {\n",
       "      toinsert[toinsert.length - 1].firstChild.textContent = output.data[JS_MIME_TYPE];\n",
       "      // store reference to embed id on output_area\n",
       "      output_area._bokeh_element_id = output.metadata[EXEC_MIME_TYPE][\"id\"];\n",
       "    }\n",
       "    if (output.metadata[EXEC_MIME_TYPE][\"server_id\"] !== undefined) {\n",
       "      var bk_div = document.createElement(\"div\");\n",
       "      bk_div.innerHTML = output.data[HTML_MIME_TYPE];\n",
       "      var script_attrs = bk_div.children[0].attributes;\n",
       "      for (var i = 0; i < script_attrs.length; i++) {\n",
       "        toinsert[toinsert.length - 1].firstChild.setAttribute(script_attrs[i].name, script_attrs[i].value);\n",
       "      }\n",
       "      // store reference to server id on output_area\n",
       "      output_area._bokeh_server_id = output.metadata[EXEC_MIME_TYPE][\"server_id\"];\n",
       "    }\n",
       "  }\n",
       "\n",
       "  function register_renderer(events, OutputArea) {\n",
       "\n",
       "    function append_mime(data, metadata, element) {\n",
       "      // create a DOM node to render to\n",
       "      var toinsert = this.create_output_subarea(\n",
       "        metadata,\n",
       "        CLASS_NAME,\n",
       "        EXEC_MIME_TYPE\n",
       "      );\n",
       "      this.keyboard_manager.register_events(toinsert);\n",
       "      // Render to node\n",
       "      var props = {data: data, metadata: metadata[EXEC_MIME_TYPE]};\n",
       "      render(props, toinsert[toinsert.length - 1]);\n",
       "      element.append(toinsert);\n",
       "      return toinsert\n",
       "    }\n",
       "\n",
       "    /* Handle when an output is cleared or removed */\n",
       "    events.on('clear_output.CodeCell', handleClearOutput);\n",
       "    events.on('delete.Cell', handleClearOutput);\n",
       "\n",
       "    /* Handle when a new output is added */\n",
       "    events.on('output_added.OutputArea', handleAddOutput);\n",
       "\n",
       "    /**\n",
       "     * Register the mime type and append_mime function with output_area\n",
       "     */\n",
       "    OutputArea.prototype.register_mime_type(EXEC_MIME_TYPE, append_mime, {\n",
       "      /* Is output safe? */\n",
       "      safe: true,\n",
       "      /* Index of renderer in `output_area.display_order` */\n",
       "      index: 0\n",
       "    });\n",
       "  }\n",
       "\n",
       "  // register the mime type if in Jupyter Notebook environment and previously unregistered\n",
       "  if (root.Jupyter !== undefined) {\n",
       "    var events = require('base/js/events');\n",
       "    var OutputArea = require('notebook/js/outputarea').OutputArea;\n",
       "\n",
       "    if (OutputArea.prototype.mime_types().indexOf(EXEC_MIME_TYPE) == -1) {\n",
       "      register_renderer(events, OutputArea);\n",
       "    }\n",
       "  }\n",
       "\n",
       "  \n",
       "  if (typeof (root._bokeh_timeout) === \"undefined\" || force === true) {\n",
       "    root._bokeh_timeout = Date.now() + 5000;\n",
       "    root._bokeh_failed_load = false;\n",
       "  }\n",
       "\n",
       "  var NB_LOAD_WARNING = {'data': {'text/html':\n",
       "     \"<div style='background-color: #fdd'>\\n\"+\n",
       "     \"<p>\\n\"+\n",
       "     \"BokehJS does not appear to have successfully loaded. If loading BokehJS from CDN, this \\n\"+\n",
       "     \"may be due to a slow or bad network connection. Possible fixes:\\n\"+\n",
       "     \"</p>\\n\"+\n",
       "     \"<ul>\\n\"+\n",
       "     \"<li>re-rerun `output_notebook()` to attempt to load from CDN again, or</li>\\n\"+\n",
       "     \"<li>use INLINE resources instead, as so:</li>\\n\"+\n",
       "     \"</ul>\\n\"+\n",
       "     \"<code>\\n\"+\n",
       "     \"from bokeh.resources import INLINE\\n\"+\n",
       "     \"output_notebook(resources=INLINE)\\n\"+\n",
       "     \"</code>\\n\"+\n",
       "     \"</div>\"}};\n",
       "\n",
       "  function display_loaded() {\n",
       "    var el = document.getElementById(\"c77309ee-60cb-4346-a99c-6a9b79eeecf9\");\n",
       "    if (el != null) {\n",
       "      el.textContent = \"BokehJS is loading...\";\n",
       "    }\n",
       "    if (root.Bokeh !== undefined) {\n",
       "      if (el != null) {\n",
       "        el.textContent = \"BokehJS \" + root.Bokeh.version + \" successfully loaded.\";\n",
       "      }\n",
       "    } else if (Date.now() < root._bokeh_timeout) {\n",
       "      setTimeout(display_loaded, 100)\n",
       "    }\n",
       "  }\n",
       "\n",
       "\n",
       "  function run_callbacks() {\n",
       "    try {\n",
       "      root._bokeh_onload_callbacks.forEach(function(callback) { callback() });\n",
       "    }\n",
       "    finally {\n",
       "      delete root._bokeh_onload_callbacks\n",
       "    }\n",
       "    console.info(\"Bokeh: all callbacks have finished\");\n",
       "  }\n",
       "\n",
       "  function load_libs(js_urls, callback) {\n",
       "    root._bokeh_onload_callbacks.push(callback);\n",
       "    if (root._bokeh_is_loading > 0) {\n",
       "      console.log(\"Bokeh: BokehJS is being loaded, scheduling callback at\", now());\n",
       "      return null;\n",
       "    }\n",
       "    if (js_urls == null || js_urls.length === 0) {\n",
       "      run_callbacks();\n",
       "      return null;\n",
       "    }\n",
       "    console.log(\"Bokeh: BokehJS not loaded, scheduling load and callback at\", now());\n",
       "    root._bokeh_is_loading = js_urls.length;\n",
       "    for (var i = 0; i < js_urls.length; i++) {\n",
       "      var url = js_urls[i];\n",
       "      var s = document.createElement('script');\n",
       "      s.src = url;\n",
       "      s.async = false;\n",
       "      s.onreadystatechange = s.onload = function() {\n",
       "        root._bokeh_is_loading--;\n",
       "        if (root._bokeh_is_loading === 0) {\n",
       "          console.log(\"Bokeh: all BokehJS libraries loaded\");\n",
       "          run_callbacks()\n",
       "        }\n",
       "      };\n",
       "      s.onerror = function() {\n",
       "        console.warn(\"failed to load library \" + url);\n",
       "      };\n",
       "      console.log(\"Bokeh: injecting script tag for BokehJS library: \", url);\n",
       "      document.getElementsByTagName(\"head\")[0].appendChild(s);\n",
       "    }\n",
       "  };var element = document.getElementById(\"c77309ee-60cb-4346-a99c-6a9b79eeecf9\");\n",
       "  if (element == null) {\n",
       "    console.log(\"Bokeh: ERROR: autoload.js configured with elementid 'c77309ee-60cb-4346-a99c-6a9b79eeecf9' but no matching script tag was found. \")\n",
       "    return false;\n",
       "  }\n",
       "\n",
       "  var js_urls = [\"https://cdn.pydata.org/bokeh/release/bokeh-0.12.16.min.js\", \"https://cdn.pydata.org/bokeh/release/bokeh-widgets-0.12.16.min.js\", \"https://cdn.pydata.org/bokeh/release/bokeh-tables-0.12.16.min.js\", \"https://cdn.pydata.org/bokeh/release/bokeh-gl-0.12.16.min.js\"];\n",
       "\n",
       "  var inline_js = [\n",
       "    function(Bokeh) {\n",
       "      Bokeh.set_log_level(\"info\");\n",
       "    },\n",
       "    \n",
       "    function(Bokeh) {\n",
       "      \n",
       "    },\n",
       "    function(Bokeh) {\n",
       "      console.log(\"Bokeh: injecting CSS: https://cdn.pydata.org/bokeh/release/bokeh-0.12.16.min.css\");\n",
       "      Bokeh.embed.inject_css(\"https://cdn.pydata.org/bokeh/release/bokeh-0.12.16.min.css\");\n",
       "      console.log(\"Bokeh: injecting CSS: https://cdn.pydata.org/bokeh/release/bokeh-widgets-0.12.16.min.css\");\n",
       "      Bokeh.embed.inject_css(\"https://cdn.pydata.org/bokeh/release/bokeh-widgets-0.12.16.min.css\");\n",
       "      console.log(\"Bokeh: injecting CSS: https://cdn.pydata.org/bokeh/release/bokeh-tables-0.12.16.min.css\");\n",
       "      Bokeh.embed.inject_css(\"https://cdn.pydata.org/bokeh/release/bokeh-tables-0.12.16.min.css\");\n",
       "    }\n",
       "  ];\n",
       "\n",
       "  function run_inline_js() {\n",
       "    \n",
       "    if ((root.Bokeh !== undefined) || (force === true)) {\n",
       "      for (var i = 0; i < inline_js.length; i++) {\n",
       "        inline_js[i].call(root, root.Bokeh);\n",
       "      }if (force === true) {\n",
       "        display_loaded();\n",
       "      }} else if (Date.now() < root._bokeh_timeout) {\n",
       "      setTimeout(run_inline_js, 100);\n",
       "    } else if (!root._bokeh_failed_load) {\n",
       "      console.log(\"Bokeh: BokehJS failed to load within specified timeout.\");\n",
       "      root._bokeh_failed_load = true;\n",
       "    } else if (force !== true) {\n",
       "      var cell = $(document.getElementById(\"c77309ee-60cb-4346-a99c-6a9b79eeecf9\")).parents('.cell').data().cell;\n",
       "      cell.output_area.append_execute_result(NB_LOAD_WARNING)\n",
       "    }\n",
       "\n",
       "  }\n",
       "\n",
       "  if (root._bokeh_is_loading === 0) {\n",
       "    console.log(\"Bokeh: BokehJS loaded, going straight to plotting\");\n",
       "    run_inline_js();\n",
       "  } else {\n",
       "    load_libs(js_urls, function() {\n",
       "      console.log(\"Bokeh: BokehJS plotting callback run at\", now());\n",
       "      run_inline_js();\n",
       "    });\n",
       "  }\n",
       "}(window));"
      ],
      "application/vnd.bokehjs_load.v0+json": "\n(function(root) {\n  function now() {\n    return new Date();\n  }\n\n  var force = true;\n\n  if (typeof (root._bokeh_onload_callbacks) === \"undefined\" || force === true) {\n    root._bokeh_onload_callbacks = [];\n    root._bokeh_is_loading = undefined;\n  }\n\n  \n\n  \n  if (typeof (root._bokeh_timeout) === \"undefined\" || force === true) {\n    root._bokeh_timeout = Date.now() + 5000;\n    root._bokeh_failed_load = false;\n  }\n\n  var NB_LOAD_WARNING = {'data': {'text/html':\n     \"<div style='background-color: #fdd'>\\n\"+\n     \"<p>\\n\"+\n     \"BokehJS does not appear to have successfully loaded. If loading BokehJS from CDN, this \\n\"+\n     \"may be due to a slow or bad network connection. Possible fixes:\\n\"+\n     \"</p>\\n\"+\n     \"<ul>\\n\"+\n     \"<li>re-rerun `output_notebook()` to attempt to load from CDN again, or</li>\\n\"+\n     \"<li>use INLINE resources instead, as so:</li>\\n\"+\n     \"</ul>\\n\"+\n     \"<code>\\n\"+\n     \"from bokeh.resources import INLINE\\n\"+\n     \"output_notebook(resources=INLINE)\\n\"+\n     \"</code>\\n\"+\n     \"</div>\"}};\n\n  function display_loaded() {\n    var el = document.getElementById(\"c77309ee-60cb-4346-a99c-6a9b79eeecf9\");\n    if (el != null) {\n      el.textContent = \"BokehJS is loading...\";\n    }\n    if (root.Bokeh !== undefined) {\n      if (el != null) {\n        el.textContent = \"BokehJS \" + root.Bokeh.version + \" successfully loaded.\";\n      }\n    } else if (Date.now() < root._bokeh_timeout) {\n      setTimeout(display_loaded, 100)\n    }\n  }\n\n\n  function run_callbacks() {\n    try {\n      root._bokeh_onload_callbacks.forEach(function(callback) { callback() });\n    }\n    finally {\n      delete root._bokeh_onload_callbacks\n    }\n    console.info(\"Bokeh: all callbacks have finished\");\n  }\n\n  function load_libs(js_urls, callback) {\n    root._bokeh_onload_callbacks.push(callback);\n    if (root._bokeh_is_loading > 0) {\n      console.log(\"Bokeh: BokehJS is being loaded, scheduling callback at\", now());\n      return null;\n    }\n    if (js_urls == null || js_urls.length === 0) {\n      run_callbacks();\n      return null;\n    }\n    console.log(\"Bokeh: BokehJS not loaded, scheduling load and callback at\", now());\n    root._bokeh_is_loading = js_urls.length;\n    for (var i = 0; i < js_urls.length; i++) {\n      var url = js_urls[i];\n      var s = document.createElement('script');\n      s.src = url;\n      s.async = false;\n      s.onreadystatechange = s.onload = function() {\n        root._bokeh_is_loading--;\n        if (root._bokeh_is_loading === 0) {\n          console.log(\"Bokeh: all BokehJS libraries loaded\");\n          run_callbacks()\n        }\n      };\n      s.onerror = function() {\n        console.warn(\"failed to load library \" + url);\n      };\n      console.log(\"Bokeh: injecting script tag for BokehJS library: \", url);\n      document.getElementsByTagName(\"head\")[0].appendChild(s);\n    }\n  };var element = document.getElementById(\"c77309ee-60cb-4346-a99c-6a9b79eeecf9\");\n  if (element == null) {\n    console.log(\"Bokeh: ERROR: autoload.js configured with elementid 'c77309ee-60cb-4346-a99c-6a9b79eeecf9' but no matching script tag was found. \")\n    return false;\n  }\n\n  var js_urls = [\"https://cdn.pydata.org/bokeh/release/bokeh-0.12.16.min.js\", \"https://cdn.pydata.org/bokeh/release/bokeh-widgets-0.12.16.min.js\", \"https://cdn.pydata.org/bokeh/release/bokeh-tables-0.12.16.min.js\", \"https://cdn.pydata.org/bokeh/release/bokeh-gl-0.12.16.min.js\"];\n\n  var inline_js = [\n    function(Bokeh) {\n      Bokeh.set_log_level(\"info\");\n    },\n    \n    function(Bokeh) {\n      \n    },\n    function(Bokeh) {\n      console.log(\"Bokeh: injecting CSS: https://cdn.pydata.org/bokeh/release/bokeh-0.12.16.min.css\");\n      Bokeh.embed.inject_css(\"https://cdn.pydata.org/bokeh/release/bokeh-0.12.16.min.css\");\n      console.log(\"Bokeh: injecting CSS: https://cdn.pydata.org/bokeh/release/bokeh-widgets-0.12.16.min.css\");\n      Bokeh.embed.inject_css(\"https://cdn.pydata.org/bokeh/release/bokeh-widgets-0.12.16.min.css\");\n      console.log(\"Bokeh: injecting CSS: https://cdn.pydata.org/bokeh/release/bokeh-tables-0.12.16.min.css\");\n      Bokeh.embed.inject_css(\"https://cdn.pydata.org/bokeh/release/bokeh-tables-0.12.16.min.css\");\n    }\n  ];\n\n  function run_inline_js() {\n    \n    if ((root.Bokeh !== undefined) || (force === true)) {\n      for (var i = 0; i < inline_js.length; i++) {\n        inline_js[i].call(root, root.Bokeh);\n      }if (force === true) {\n        display_loaded();\n      }} else if (Date.now() < root._bokeh_timeout) {\n      setTimeout(run_inline_js, 100);\n    } else if (!root._bokeh_failed_load) {\n      console.log(\"Bokeh: BokehJS failed to load within specified timeout.\");\n      root._bokeh_failed_load = true;\n    } else if (force !== true) {\n      var cell = $(document.getElementById(\"c77309ee-60cb-4346-a99c-6a9b79eeecf9\")).parents('.cell').data().cell;\n      cell.output_area.append_execute_result(NB_LOAD_WARNING)\n    }\n\n  }\n\n  if (root._bokeh_is_loading === 0) {\n    console.log(\"Bokeh: BokehJS loaded, going straight to plotting\");\n    run_inline_js();\n  } else {\n    load_libs(js_urls, function() {\n      console.log(\"Bokeh: BokehJS plotting callback run at\", now());\n      run_inline_js();\n    });\n  }\n}(window));"
     },
     "metadata": {},
     "output_type": "display_data"
    }
   ],
   "source": [
    "output_notebook()"
   ]
  },
  {
   "cell_type": "code",
   "execution_count": 8,
   "metadata": {
    "collapsed": true
   },
   "outputs": [],
   "source": [
    "def fmt_cool(ds_in):\n",
    "    ds = ds_in.copy(deep=True)\n",
    "    if 'igg' in ds.dims:\n",
    "        ds = ds.sel(igg=1)\n",
    "\n",
    "    if 'g' in ds.dims:\n",
    "        ds = ds.sum('g')\n",
    "            \n",
    "    if 'band' in ds.dims:\n",
    "        try:\n",
    "            ds = ds.squeeze('band')\n",
    "        except ValueError:\n",
    "            ds = ds.sum('band')\n",
    "                \n",
    "    return ds['coolrg']\n",
    "\n",
    "\n",
    "def pltdata_cooling_1(ds_cool=None,\n",
    "                      ds_cool_crd=None, ds_cool_wgt=None):\n",
    "    \n",
    "\n",
    "\n",
    "    colors = all_palettes['Set1'][4]\n",
    "    data = [{'label': 'CLIRAD `coolr_bands`',\n",
    "             'srs': fmt_cool(ds_cool),\n",
    "             'line_dash': 'dashed', 'line_width': 5,\n",
    "             'color': colors[0], 'alpha': .6},\n",
    "            {'label': 'CRD',\n",
    "             'srs': fmt_cool(ds_cool_crd),\n",
    "             'line_dash': 'solid', 'line_width': 1.5,\n",
    "             'marker': 'circle', 'marker_size': 5,\n",
    "             'color': colors[2], 'alpha': 1,},\n",
    "            {'label': 'WGT igg=10 wgt_flux=2',\n",
    "             'srs': fmt_cool(ds_cool_wgt),\n",
    "             'line_dash': 'solid', 'line_width': 3,\n",
    "             'marker': 'square', 'marker_size': 5,\n",
    "             'color': colors[3], 'alpha': .6}]\n",
    "    return data\n",
    "\n",
    "\n",
    "def nice_xlims(pltdata=None, prange=None):\n",
    "    \n",
    "    def get_slice(srs):\n",
    "        return srs.sel(pressure=slice(*prange))\n",
    "    \n",
    "    srss = [d['srs'] for d in pltdata]\n",
    "    vmin = min([get_slice(srs).min() for srs in srss])\n",
    "    vmax = max([get_slice(srs).max() for srs in srss])\n",
    "    dv = (vmax - vmin) * .01\n",
    "    return float(vmin - dv), float(vmax + dv)\n",
    "    \n",
    "\n",
    "def plt_cooling_bokeh(pltdata=None):\n",
    "    '''\n",
    "    Plot a list of cooling rate profiles using bokeh.\n",
    "    '''\n",
    "    ymin = 1e-2 \n",
    "    ymax = 1020 \n",
    "        \n",
    "    p1 = figure(title=\"Linear pressure scale\", \n",
    "                plot_width=400)        \n",
    "    xmin, xmax = nice_xlims(pltdata, prange=(50, 1050))\n",
    "    for d in pltdata:\n",
    "        if 'marker' in d:\n",
    "            getattr(p1, d['marker'])(d['srs'].values, \n",
    "                    d['srs'].coords['pressure'].values,\n",
    "                    color=d['color'], alpha=.7)\n",
    "        p1.line(d['srs'].values, \n",
    "                d['srs'].coords['pressure'].values,\n",
    "                color=d['color'], alpha=d['alpha'], \n",
    "                line_width=d['line_width'], line_dash=d['line_dash'])\n",
    "    \n",
    "    p1.y_range = Range1d(ymax, ymin)\n",
    "    p1.yaxis.axis_label = 'pressure [mb]'   \n",
    "    p1.x_range = Range1d(xmin, xmax)\n",
    "    p1.xaxis.axis_label = 'cooling rate [K/day]'\n",
    "            \n",
    "    p2 = figure(title='Log pressure scale', y_axis_type='log',\n",
    "                plot_width=560)\n",
    "    xmin, xmax = nice_xlims(pltdata, prange=(.01, 200))\n",
    "    \n",
    "    rs = []\n",
    "    for d in pltdata:\n",
    "        rd = []\n",
    "        if 'marker' in d:\n",
    "            r_mark = getattr(p2, d['marker'])(d['srs'].values, \n",
    "                        d['srs'].coords['pressure'].values,\n",
    "                        color=d['color'], alpha=.7)\n",
    "            rd.append(r_mark)\n",
    "        r_line = p2.line(d['srs'].values, \n",
    "                    d['srs'].coords['pressure'].values,\n",
    "                    color=d['color'], alpha=d['alpha'], \n",
    "                    line_width=d['line_width'], line_dash=d['line_dash'])\n",
    "        rd.append(r_line)\n",
    "      \n",
    "        rs.append(rd)\n",
    "        \n",
    "    p2.y_range = Range1d(ymax, ymin)  \n",
    "    p2.yaxis.axis_label = 'pressure [mb]'\n",
    "    \n",
    "    p2.x_range = Range1d(xmin, xmax)\n",
    "    p2.xaxis.axis_label = 'cooling rate [K/day]'\n",
    "    \n",
    "    items = [(d['label'], r) for r, d in zip(rs, pltdata)]\n",
    "    legend = Legend(items=items, location=(10, -30))\n",
    "    legend.label_text_font_size = '8pt'\n",
    "    \n",
    "    p2.add_layout(legend, 'right')  \n",
    "    \n",
    "    show(gridplot(p1, p2, ncols=2, plot_height=500))\n",
    "    \n",
    "\n",
    "def script_plt_cooling():\n",
    "    pltdata = pltdata_cooling_1(\n",
    "        ds_cool=DS_COOL,\n",
    "        ds_cool_crd=DS_COOL_CRD,\n",
    "        ds_cool_wgt=DS_COOL_WGT)\n",
    "    plt_cooling_bokeh(pltdata=pltdata)\n",
    "    print('''FIGURE. Cooling rate profiles.''')"
   ]
  },
  {
   "cell_type": "code",
   "execution_count": 9,
   "metadata": {
    "collapsed": true
   },
   "outputs": [],
   "source": [
    "def fmt_flux(ds_in):\n",
    "    ds = ds_in.copy(deep=True)\n",
    "    \n",
    "    for l in ('level', 'layer'):\n",
    "        if l in ds.data_vars:\n",
    "            if len(ds[l].dims) > 1:\n",
    "                surface = {d: 0 for d in ds.dims if d != 'pressure'}\n",
    "                coord_level = ds[l][surface]\n",
    "                ds.coords[l] = ('pressure', coord_level)\n",
    "            else:\n",
    "                ds.coords[l] = ('pressure', ds[l])\n",
    "        \n",
    "    ds = ds.isel(pressure=[0, 23, -1])\n",
    "        \n",
    "    if 'igg' in ds.dims:\n",
    "        ds = ds.sel(igg=[1])\n",
    "        ds = ds.squeeze('igg').drop('igg')\n",
    "    \n",
    "    if 'g' in ds.dims:\n",
    "        ds = ds.sum('g')\n",
    "            \n",
    "    if 'band' in ds.dims:\n",
    "        try:\n",
    "            ds = ds.squeeze('band').drop('band')\n",
    "        except ValueError:\n",
    "            ds = ds.sum('band')\n",
    "                \n",
    "    df = ds.to_dataframe()\n",
    "    df = df.set_index('level', append=True)               \n",
    "    return df\n",
    "\n",
    "\n",
    "def tbdata_flux(ds_flux=None, ds_flux_crd=None, ds_flux_wgt=None):\n",
    "    ilevels = [0, 23, -1]\n",
    "            \n",
    "    benchmark = {'label': 'CRD',\n",
    "                 'df': fmt_flux(ds_flux_crd)}\n",
    "    \n",
    "    tbs = [{'label': 'WGT igg=10 wgt_flux=1',\n",
    "            'df': fmt_flux(ds_flux_wgt)},\n",
    "           {'label': 'CLIRAD',\n",
    "            'df': fmt_flux(ds_flux)}]\n",
    "    \n",
    "    data = {'benchmark': benchmark, 'others': tbs}\n",
    "    return data\n",
    "\n",
    "\n",
    "def tb_flux(tbdata=None):\n",
    "    benchmark = tbdata['benchmark']\n",
    "    others = tbdata['others']\n",
    "    \n",
    "    def show_tb(d=None):\n",
    "        display.display(d['df'])\n",
    "        print('Table.', 'Fluxes.', d['label'])\n",
    "        \n",
    "    def show_tbdiff(d0=None, d=None):\n",
    "        df = d['df']\n",
    "        df.index = d0['df'].index\n",
    "        display.display(df - d0['df'])\n",
    "        print('Table.', 'Fluxes.', \n",
    "              '({}) - ({})'.format(d['label'], d0['label']))\n",
    "        \n",
    "    show_tb(benchmark)\n",
    "    for d in others:\n",
    "        show_tb(d)\n",
    "        \n",
    "    for d in others:\n",
    "        show_tbdiff(d=d, d0=benchmark)\n",
    "        \n",
    "        \n",
    "def script_tb_flux():\n",
    "    data = tbdata_flux(ds_flux=DS_FLUX,\n",
    "                       ds_flux_crd=DS_FLUX_CRD,\n",
    "                       ds_flux_wgt=DS_FLUX_WGT)\n",
    "    tb_flux(tbdata=data)"
   ]
  },
  {
   "cell_type": "code",
   "execution_count": 10,
   "metadata": {
    "collapsed": true
   },
   "outputs": [],
   "source": [
    "def band_map():\n",
    "    '''\n",
    "    Maps spectral bands in lblnew to spectral bands in clirad.\n",
    "    '''\n",
    "    lblnew2clirad = {'1': '1',\n",
    "            '2': '2',\n",
    "            '3a': '3',\n",
    "            '3b': '4',\n",
    "            '3c': '5',\n",
    "            '4': '6', \n",
    "            '5': '7',\n",
    "            '6': '8',\n",
    "            '7': '9', \n",
    "            '8': '10',\n",
    "            '9': '11'}\n",
    "    \n",
    "    clirad2lblnew = {clirad: lblnew \n",
    "                     for lblnew, clirad in lblnew2clirad.items()}\n",
    "    return clirad2lblnew\n",
    "\n",
    "\n",
    "def gasbands():\n",
    "    bmap = band_map()\n",
    "    gases = list(PARAM['molecule'].keys())\n",
    "    \n",
    "    bands = [bmap[str(b)] for b in PARAM['band']]\n",
    "    return list(itertools.product(gases, bands))\n",
    "\n",
    "\n",
    "def print_bestfit_params():\n",
    "    print('Best-fit values for each (gas, band)')\n",
    "    print('------------------------------------')\n",
    "    for gas, band in gasbands():\n",
    "        print('o {} band{}'.format(gas, band))\n",
    "        param = bestfits.kdist_params(molecule=gas, band=band)\n",
    "        for name, value in sorted(param.items()):\n",
    "            print(2 * ' ' + '{} = {}'.format(name, value))\n",
    "\n",
    "        \n",
    "def print_input_param():        \n",
    "    for name, value in PARAM.items():\n",
    "        print('{} = {}'.format(name, value))\n",
    "        \n",
    "        \n",
    "def print_lblnew_param():\n",
    "    for name, value in sorted(PARAM_LBLNEW.items()):\n",
    "        print('{} = {}'.format(name, value))\n"
   ]
  },
  {
   "cell_type": "code",
   "execution_count": 11,
   "metadata": {
    "collapsed": true,
    "scrolled": false
   },
   "outputs": [],
   "source": [
    "def show_html(s):\n",
    "    display.display(display.HTML(s))\n",
    "\n",
    "    \n",
    "def show_markdown(s):\n",
    "    display.display(display.Markdown(s))\n",
    "\n",
    "    \n",
    "def script():\n",
    "    \n",
    "    title = '### CLIRAD-LW'\n",
    "    s_input = 'Input Parameters'\n",
    "    s_lblnew_param = 'LBLNEW case compaired against'\n",
    "    s_bestfits = 'Best-fit Parameters'\n",
    "    s_plt_cooling = 'Cooling Rate Profiles'\n",
    "    s_tb_flux = 'Flux Comparison'\n",
    "    \n",
    "    # title\n",
    "    show_markdown('### CLIRAD-LW')\n",
    "    \n",
    "    # TOC\n",
    "    show_markdown('### Table of Contents')\n",
    "    show_html(climahtml.getHTML_hrefanchor(s_input))\n",
    "    show_html(climahtml.getHTML_hrefanchor(s_lblnew_param))\n",
    "    show_html(climahtml.getHTML_hrefanchor(s_plt_cooling))\n",
    "    show_html(climahtml.getHTML_hrefanchor(s_tb_flux))\n",
    "    show_html(climahtml.getHTML_hrefanchor(s_bestfits))\n",
    "    \n",
    "    # Input parameters\n",
    "    show_html(climahtml.getHTML_idanchor(s_input))\n",
    "    show_markdown(climahtml.getMarkdown_sectitle(s_input))\n",
    "    print_input_param()\n",
    "    \n",
    "    # LBLNEW parameters \n",
    "    show_html(climahtml.getHTML_idanchor(s_lblnew_param))\n",
    "    show_markdown(climahtml.getMarkdown_sectitle(s_lblnew_param))\n",
    "    print_lblnew_param()\n",
    "    \n",
    "    # Cooling rate profiles\n",
    "    show_html(climahtml.getHTML_idanchor(s_plt_cooling))\n",
    "    show_markdown(climahtml.getMarkdown_sectitle(s_plt_cooling))\n",
    "    script_plt_cooling()\n",
    "    \n",
    "    # Flux comparison\n",
    "    show_html(climahtml.getHTML_idanchor(s_tb_flux))\n",
    "    show_markdown(climahtml.getMarkdown_sectitle(s_tb_flux))\n",
    "    script_tb_flux()\n",
    "    \n",
    "    # Best-fit values\n",
    "    show_html(climahtml.getHTML_idanchor(s_bestfits))\n",
    "    show_markdown(climahtml.getMarkdown_sectitle(s_bestfits))\n",
    "    print_bestfit_params()\n",
    "   \n",
    "    "
   ]
  },
  {
   "cell_type": "code",
   "execution_count": 12,
   "metadata": {
    "collapsed": true,
    "scrolled": false
   },
   "outputs": [
    {
     "data": {
      "text/markdown": [
       "### CLIRAD-LW"
      ],
      "text/plain": [
       "<IPython.core.display.Markdown object>"
      ]
     },
     "metadata": {},
     "output_type": "display_data"
    },
    {
     "data": {
      "text/markdown": [
       "### Table of Contents"
      ],
      "text/plain": [
       "<IPython.core.display.Markdown object>"
      ]
     },
     "metadata": {},
     "output_type": "display_data"
    },
    {
     "data": {
      "text/html": [
       "<a href=\"#Input_Parameters\">Input Parameters</a>"
      ],
      "text/plain": [
       "<IPython.core.display.HTML object>"
      ]
     },
     "metadata": {},
     "output_type": "display_data"
    },
    {
     "data": {
      "text/html": [
       "<a href=\"#LBLNEW_case_compaired_against\">LBLNEW case compaired against</a>"
      ],
      "text/plain": [
       "<IPython.core.display.HTML object>"
      ]
     },
     "metadata": {},
     "output_type": "display_data"
    },
    {
     "data": {
      "text/html": [
       "<a href=\"#Cooling_Rate_Profiles\">Cooling Rate Profiles</a>"
      ],
      "text/plain": [
       "<IPython.core.display.HTML object>"
      ]
     },
     "metadata": {},
     "output_type": "display_data"
    },
    {
     "data": {
      "text/html": [
       "<a href=\"#Flux_Comparison\">Flux Comparison</a>"
      ],
      "text/plain": [
       "<IPython.core.display.HTML object>"
      ]
     },
     "metadata": {},
     "output_type": "display_data"
    },
    {
     "data": {
      "text/html": [
       "<a href=\"#Best-fit_Parameters\">Best-fit Parameters</a>"
      ],
      "text/plain": [
       "<IPython.core.display.HTML object>"
      ]
     },
     "metadata": {},
     "output_type": "display_data"
    },
    {
     "data": {
      "text/html": [
       "<a id=\"Input_Parameters\"></a>"
      ],
      "text/plain": [
       "<IPython.core.display.HTML object>"
      ]
     },
     "metadata": {},
     "output_type": "display_data"
    },
    {
     "data": {
      "text/markdown": [
       "# Input Parameters"
      ],
      "text/plain": [
       "<IPython.core.display.Markdown object>"
      ]
     },
     "metadata": {},
     "output_type": "display_data"
    },
    {
     "name": "stdout",
     "output_type": "stream",
     "text": [
      "atmpro = trp\n",
      "band = [10]\n",
      "commitnumber = de5d43e\n",
      "molecule = {'h2o': 'atmpro'}\n",
      "tsfc = 300\n"
     ]
    },
    {
     "data": {
      "text/html": [
       "<a id=\"LBLNEW_case_compaired_against\"></a>"
      ],
      "text/plain": [
       "<IPython.core.display.HTML object>"
      ]
     },
     "metadata": {},
     "output_type": "display_data"
    },
    {
     "data": {
      "text/markdown": [
       "# LBLNEW case compaired against"
      ],
      "text/plain": [
       "<IPython.core.display.Markdown object>"
      ]
     },
     "metadata": {},
     "output_type": "display_data"
    },
    {
     "name": "stdout",
     "output_type": "stream",
     "text": [
      "atmpro = trp\n",
      "band = 8\n",
      "commitnumber = 5014a19\n",
      "conc = None\n",
      "dv = 0.001\n",
      "klin = 0\n",
      "molecule = h2o\n",
      "ng_adju = [0, -1, 0]\n",
      "ng_refs = [3, 2, 3]\n",
      "nv = 1000\n",
      "option_compute_btable = 0\n",
      "option_compute_ktable = 0\n",
      "option_wgt_flux = 1\n",
      "option_wgt_k = 1\n",
      "ref_pts = [(1, 250), (10, 250), (500, 250)]\n",
      "tsfc = 300\n",
      "vmax = 1900\n",
      "vmin = 1380\n",
      "w_diffuse = [(1.66, 1.66, 1.66), (1.66, 1.66), (1.66, 1.66, 1.66)]\n",
      "wgt = [(0.55, 0.55, 0.85), (0.85, 0.85), (0, 0.3, 0.55)]\n"
     ]
    },
    {
     "data": {
      "text/html": [
       "<a id=\"Cooling_Rate_Profiles\"></a>"
      ],
      "text/plain": [
       "<IPython.core.display.HTML object>"
      ]
     },
     "metadata": {},
     "output_type": "display_data"
    },
    {
     "data": {
      "text/markdown": [
       "# Cooling Rate Profiles"
      ],
      "text/plain": [
       "<IPython.core.display.Markdown object>"
      ]
     },
     "metadata": {},
     "output_type": "display_data"
    },
    {
     "data": {
      "text/html": [
       "\n",
       "<div class=\"bk-root\">\n",
       "    <div class=\"bk-plotdiv\" id=\"1c51473b-693a-47a1-82e5-b83c6cb41c41\"></div>\n",
       "</div>"
      ]
     },
     "metadata": {},
     "output_type": "display_data"
    },
    {
     "data": {
      "application/javascript": [
       "(function(root) {\n",
       "  function embed_document(root) {\n",
       "    \n",
       "  var docs_json = {\"3e55cbcc-f0d2-4a40-bb67-f360a8ff078c\":{\"roots\":{\"references\":[{\"attributes\":{},\"id\":\"0de73e1a-5263-416b-8447-057d2718aea3\",\"type\":\"UnionRenderers\"},{\"attributes\":{},\"id\":\"2949985f-6c6e-4af9-9fd6-9e87631fae6f\",\"type\":\"Selection\"},{\"attributes\":{},\"id\":\"72b9d7d5-f9d6-40ea-b87a-ce66d9cf976f\",\"type\":\"UnionRenderers\"},{\"attributes\":{},\"id\":\"a87861ff-e055-4b0f-864b-253ec612551e\",\"type\":\"BasicTicker\"},{\"attributes\":{},\"id\":\"2534b86a-c934-4018-99ed-c1ebabf86125\",\"type\":\"Selection\"},{\"attributes\":{\"source\":{\"id\":\"e280a5be-f1cc-4c27-8e39-9e73991cf78c\",\"type\":\"ColumnDataSource\"}},\"id\":\"9cb7f256-c3a0-4155-afa2-cddb544352d5\",\"type\":\"CDSView\"},{\"attributes\":{\"callback\":null,\"data\":{\"x\":{\"__ndarray__\":\"HwV3SlHjwL8x0Q6IocHAv/mdvAbUc8C/yxdPIWgvwL+Gt330Xci/v14/ptQBP7+/Rq5rrNe7vr9+7MMAjUq+vzk8sde/8r2/EtZZHLfBvb9bqtsSrMW9vw8fGfP8Fb6/vC02b/HNvr+gbgB2jO2/v1RN3RbH0b6/jyehqEIvub8oN/Zmpmywv/9X81YMM5e/TfRJ1cl4mz+2BoWUNRK2P0TUGINfoMQ/R2RCvaXTzz+ShFV9ihHQPwTxVAr2tsY/+IjfnP3LvT/6ZyI58C6yP6wMPOwHUKg/A6RQvWYKoj+fJMuKBhqcP+gEgM8835Y/kWdP8hwVkz+z3nGFxzSPP0EsW/TXNog/Esn4PozJgT/Z4rycX7ZlP+x+6knS+3W/UftUz1OUhr96ZQUJHEmHv5CmOjr/UX2/CtARD3CSaL8NBNq9tpZrP/eaM6hm/JM/FKdflYERpz8X+Lj7CzOwP6u259MvC7I/5e3sdH1Ztz84JJueV0HAP2QVGL3sl8M/U2GVvCjjwz/bMxBIsrPDP1SPot5PncM/apGt1tGywz9+UJeBs33DP6cJhpF6f8I/Si+t/fm7wD9OGP0m99O8PzKlzZXQG7g/UjSvgZ4atD+4SJ44pV+xP5Tr7+6ZdLA/7mTBQ9vEsT8VSwadWDK0PxasjxRtR7Q/25mMNKTDrj8J9lWzVF2bP+hKOimUmFW/kgoAbEwUj7/fiKoZM3SOvzjlXz9Aw4G/SEwTOG8pbr/OHP91Xw9SvwAU8ykHLOG+jrYarF6KQT/4cpcw4QVjPwQ917CXi8k/\",\"dtype\":\"float64\",\"shape\":[75]},\"y\":{\"__ndarray__\":\"GhExyth1ND/Sv8nbtpRIP2vylNV0PVE/aTum7souWD/At0SJ8fVgPw3Iuahxymc/MSNhhJWvcD/bTfBN02d3P2zb5nxnaoA/CD5h5MAGhz8NmeH1TyaQP+zrCsc9p5Y/LbKd76fGnz/bLW5ISEmmPww9YvTcQq8/JV2OstnstT8Er5Y7M8G+P0c+r3jqkcU/5h99k6ZBzj88bCIzFzjVP4enV8oyxN0//yH99nXg5D8qOpLLf0jtP5kqGJXUifQ/c9cS8kHP/D+/DpwzojQEQIEmwoanVwxA4lgXt9HgE0BSSZ2AJuIbQAMJih9jjiNA5q4l5INuK0AwTKYKRj0zQNv5fmq8/DpAaCJseHrtQkB/+zpwzoxKQM3MzMzMeFJAZmZmZmZqWEAAAAAAAFxeQM3MzMzMJmJAmpmZmZkfZUBmZmZmZhhoQDMzMzMzEWtAAAAAAAAKbkBmZmZmZoFwQM3MzMzM/XFAMzMzMzN6c0CamZmZmfZ0QAAAAAAAc3ZAZmZmZmbvd0DNzMzMzGt5QDMzMzMz6HpAmpmZmZlkfEAAAAAAAOF9QGZmZmZmXX9AZmZmZuZsgECamZmZGSuBQM3MzMxM6YFAAAAAAICngkAzMzMzs2WDQGZmZmbmI4RAmpmZmRnihEDNzMzMTKCFQAAAAACAXoZAMzMzM7Mch0BmZmZm5tqHQJqZmZkZmYhAzczMzExXiUAAAAAAgBWKQDMzMzOz04pAZmZmZuaRi0CamZmZGVCMQM3MzMxMDo1AAAAAAIDMjUAzMzMzs4qOQGZmZmbmSI9A\",\"dtype\":\"float64\",\"shape\":[75]}},\"selected\":{\"id\":\"2d5a0cc0-a680-47a0-af0c-165c4b8ddbe4\",\"type\":\"Selection\"},\"selection_policy\":{\"id\":\"a7dca205-6419-4852-9eb5-a51b2d66718b\",\"type\":\"UnionRenderers\"}},\"id\":\"2bca8c3f-6508-4655-a2f0-a4baf6f71507\",\"type\":\"ColumnDataSource\"},{\"attributes\":{},\"id\":\"a4f99762-fa0e-40e4-a01a-0891006b61db\",\"type\":\"UnionRenderers\"},{\"attributes\":{\"active_drag\":\"auto\",\"active_inspect\":\"auto\",\"active_scroll\":\"auto\",\"active_tap\":\"auto\",\"tools\":[{\"id\":\"8f6e1655-f4a3-4d73-9f2c-babb85d85517\",\"type\":\"PanTool\"},{\"id\":\"aaa4864f-e348-4fc8-87e1-a042a878ffcc\",\"type\":\"WheelZoomTool\"},{\"id\":\"98e6e5b8-6b24-4e64-b039-cb6e781b2088\",\"type\":\"BoxZoomTool\"},{\"id\":\"27918188-5dbb-495b-9fb4-9252a6fcd7af\",\"type\":\"SaveTool\"},{\"id\":\"14da4587-573d-49e8-b62a-c32d6869f63b\",\"type\":\"ResetTool\"},{\"id\":\"97df5dd5-73eb-48ee-9a8c-e2867fa23faa\",\"type\":\"HelpTool\"}]},\"id\":\"cb63eda2-9b66-47ec-8b02-696ad2add76a\",\"type\":\"Toolbar\"},{\"attributes\":{},\"id\":\"a049488a-6158-4223-b3b9-646df071ffe6\",\"type\":\"Selection\"},{\"attributes\":{},\"id\":\"7b22a727-1f40-49d1-b0e1-345d1436a529\",\"type\":\"UnionRenderers\"},{\"attributes\":{},\"id\":\"2d5a0cc0-a680-47a0-af0c-165c4b8ddbe4\",\"type\":\"Selection\"},{\"attributes\":{\"plot\":{\"id\":\"4818ba34-7b62-49d9-9f64-14a67e125245\",\"subtype\":\"Figure\",\"type\":\"Plot\"},\"ticker\":{\"id\":\"a87861ff-e055-4b0f-864b-253ec612551e\",\"type\":\"BasicTicker\"}},\"id\":\"b278072e-ada2-4c9e-937d-6e126ae1e4f8\",\"type\":\"Grid\"},{\"attributes\":{},\"id\":\"a7dca205-6419-4852-9eb5-a51b2d66718b\",\"type\":\"UnionRenderers\"},{\"attributes\":{\"tools\":[{\"id\":\"8f6e1655-f4a3-4d73-9f2c-babb85d85517\",\"type\":\"PanTool\"},{\"id\":\"aaa4864f-e348-4fc8-87e1-a042a878ffcc\",\"type\":\"WheelZoomTool\"},{\"id\":\"98e6e5b8-6b24-4e64-b039-cb6e781b2088\",\"type\":\"BoxZoomTool\"},{\"id\":\"27918188-5dbb-495b-9fb4-9252a6fcd7af\",\"type\":\"SaveTool\"},{\"id\":\"14da4587-573d-49e8-b62a-c32d6869f63b\",\"type\":\"ResetTool\"},{\"id\":\"97df5dd5-73eb-48ee-9a8c-e2867fa23faa\",\"type\":\"HelpTool\"},{\"id\":\"68b6aa6c-9c58-4641-866f-f5fc6ea773f1\",\"type\":\"PanTool\"},{\"id\":\"3cf3c77f-c8cb-45da-a079-1325c4a6bb4d\",\"type\":\"WheelZoomTool\"},{\"id\":\"d5559345-6ca1-4f94-ac47-e73bbecc59f6\",\"type\":\"BoxZoomTool\"},{\"id\":\"ebb38af3-f3dc-4a3c-ab3d-6dfec9a5d579\",\"type\":\"SaveTool\"},{\"id\":\"0c0f2195-a1b4-4324-b6ce-d80feeb91ff3\",\"type\":\"ResetTool\"},{\"id\":\"31de773c-3fb3-45c0-ab8e-b1fc103f2165\",\"type\":\"HelpTool\"}]},\"id\":\"2d012de6-9745-4dd9-bdde-b7a275ad8746\",\"type\":\"ProxyToolbar\"},{\"attributes\":{\"children\":[{\"id\":\"4818ba34-7b62-49d9-9f64-14a67e125245\",\"subtype\":\"Figure\",\"type\":\"Plot\"},{\"id\":\"350e91fe-21c9-4cbe-a7e8-09a4de0a814a\",\"subtype\":\"Figure\",\"type\":\"Plot\"}]},\"id\":\"1d725013-9a87-47a7-95f1-168d708e3f3c\",\"type\":\"Row\"},{\"attributes\":{\"line_alpha\":0.6,\"line_color\":\"#984ea3\",\"line_width\":3,\"x\":{\"field\":\"x\"},\"y\":{\"field\":\"y\"}},\"id\":\"2e432c21-70d9-4be0-8247-d113ccdfc103\",\"type\":\"Line\"},{\"attributes\":{\"children\":[{\"id\":\"3563f313-ed5d-408c-a7ea-01a6d42f51f0\",\"type\":\"ToolbarBox\"},{\"id\":\"e41783c5-06da-4ca7-b5fa-9a264848c41d\",\"type\":\"Column\"}]},\"id\":\"80c965f2-05a9-4175-8899-f2ef6b9c4e01\",\"type\":\"Column\"},{\"attributes\":{\"source\":{\"id\":\"8ef1807d-edd2-437d-9191-070949666546\",\"type\":\"ColumnDataSource\"}},\"id\":\"9aafdaaa-d8c4-4a1c-9e98-d85000e773ce\",\"type\":\"CDSView\"},{\"attributes\":{\"fill_alpha\":{\"value\":0.1},\"fill_color\":{\"value\":\"#1f77b4\"},\"line_alpha\":{\"value\":0.1},\"line_color\":{\"value\":\"#1f77b4\"},\"x\":{\"field\":\"x\"},\"y\":{\"field\":\"y\"}},\"id\":\"7340339f-586b-43b7-b0d5-83d9045b372f\",\"type\":\"Circle\"},{\"attributes\":{\"plot\":null,\"text\":\"Linear pressure scale\"},\"id\":\"8d1a41d9-0cbf-47f0-a5d9-b14015faf3bb\",\"type\":\"Title\"},{\"attributes\":{\"data_source\":{\"id\":\"4c031e35-6fb2-4ab5-a6b4-f915f49d400c\",\"type\":\"ColumnDataSource\"},\"glyph\":{\"id\":\"0e7531d0-92c1-48ff-ba9b-68906655efdc\",\"type\":\"Circle\"},\"hover_glyph\":null,\"muted_glyph\":null,\"nonselection_glyph\":{\"id\":\"7340339f-586b-43b7-b0d5-83d9045b372f\",\"type\":\"Circle\"},\"selection_glyph\":null,\"view\":{\"id\":\"966cc4e3-daa3-4953-8886-b8ace1404b7d\",\"type\":\"CDSView\"}},\"id\":\"d5192ff5-bd70-410b-9461-cc100dfc36db\",\"type\":\"GlyphRenderer\"},{\"attributes\":{\"source\":{\"id\":\"fabc4c86-c399-4c22-a4d0-fdfce61dcfac\",\"type\":\"ColumnDataSource\"}},\"id\":\"f7fb3a44-c5ae-45ea-8300-b39bdd6daf99\",\"type\":\"CDSView\"},{\"attributes\":{\"axis_label\":\"pressure [mb]\",\"formatter\":{\"id\":\"850a5399-0107-4830-b28a-e38efd4b6492\",\"type\":\"BasicTickFormatter\"},\"plot\":{\"id\":\"4818ba34-7b62-49d9-9f64-14a67e125245\",\"subtype\":\"Figure\",\"type\":\"Plot\"},\"ticker\":{\"id\":\"4f654eb6-1eb6-4609-a9e7-b139d65c7a80\",\"type\":\"BasicTicker\"}},\"id\":\"703745f0-7897-4e40-86dd-4f50a11e6303\",\"type\":\"LinearAxis\"},{\"attributes\":{\"dimension\":1,\"plot\":{\"id\":\"4818ba34-7b62-49d9-9f64-14a67e125245\",\"subtype\":\"Figure\",\"type\":\"Plot\"},\"ticker\":{\"id\":\"4f654eb6-1eb6-4609-a9e7-b139d65c7a80\",\"type\":\"BasicTicker\"}},\"id\":\"78e5efc8-6b99-4a70-9ea8-a23609964837\",\"type\":\"Grid\"},{\"attributes\":{\"callback\":null,\"end\":0.01,\"start\":1020},\"id\":\"97674d33-144f-4ba9-bcfb-9c9eb23b0867\",\"type\":\"Range1d\"},{\"attributes\":{\"callback\":null,\"data\":{\"x\":{\"__ndarray__\":\"CKqIy9htvr9HrwYoDTW+vyRYJD9Fgr2/nr5UIj/RvL+4xuvqIyq8v/8a94MNkbu/XxbJDXUOu7+KbfcX5qm6v6tyJStUcbq/uE1lD7xzur8r+flrice6vweabI8gjbu/fUGo3lz0vL8knxUgIwO/vwdPdJ8UlL6/kQKFJvv6uL/v7x1JCiuwv5CfvZVNApe/5O0B7SAMmj+VDISNgES1PwPvP43WLMQ/L4T/Ibvazz9j5HZ5hCTQP9OM4qge4cY/h8T7eWwuvj/lrGEc4vOxP97FONUTw6Y/GG3KH1BZoD953X6grH2ZP4cGIr4llpQ/th5+MW2VkD/P2Lh6JfuJP2gksQlRg4M/hqWqngbrez+9eC6wKNxbP8PGiS/SBHS/5A4Vj/2/g7/JrwMNVMuEv9ykrCNqSXu/Dm7zjughaL+9a+zsDblnP+wjsGz4c5A/KlLvFjkloj+8Y5qxtMiuPwlkSZU1pbY/CnRYp+sFvj/wNspVhzfCP+jLfwajK8Q/k7nHDDM4xD89hr8NzjPEP/XBzwu5ysM/Yy4losr2wj8nXQIJ7cnBP6GmM4M6XcA/ILLtWXyvvT+ZPI60jom6P/v32ftmeLc/SrJQYymvtD9R3hNgYnCyP3mfgno1a7E/ZjBnMvNPsj87WMc90mq0P436Qs0yObQ/sZnA0MqNrj+citDftnybPzm4G3Pe4kO/Yg1F8ZJOjL9t1p8Y59yKv2JjoGPu93u/YAsmcH7SX7+8Nbr6h486P8pfh1WvZ1c/LDxYlEwtXz8iaW+k94NtP4jOWwqCpsk/\",\"dtype\":\"float64\",\"shape\":[75]},\"y\":{\"__ndarray__\":\"GhExyth1ND/Sv8nbtpRIP2vylNV0PVE/aTum7souWD/At0SJ8fVgPw3Iuahxymc/MSNhhJWvcD/bTfBN02d3P2zb5nxnaoA/CD5h5MAGhz8NmeH1TyaQP+zrCsc9p5Y/LbKd76fGnz/bLW5ISEmmPww9YvTcQq8/JV2OstnstT8Er5Y7M8G+P0c+r3jqkcU/5h99k6ZBzj88bCIzFzjVP4enV8oyxN0//yH99nXg5D8qOpLLf0jtP5kqGJXUifQ/c9cS8kHP/D+/DpwzojQEQIEmwoanVwxA4lgXt9HgE0BSSZ2AJuIbQAMJih9jjiNA5q4l5INuK0AwTKYKRj0zQNv5fmq8/DpAaCJseHrtQkB/+zpwzoxKQM3MzMzMeFJAZmZmZmZqWEAAAAAAAFxeQM3MzMzMJmJAmpmZmZkfZUBmZmZmZhhoQDMzMzMzEWtAAAAAAAAKbkBmZmZmZoFwQM3MzMzM/XFAMzMzMzN6c0CamZmZmfZ0QAAAAAAAc3ZAZmZmZmbvd0DNzMzMzGt5QDMzMzMz6HpAmpmZmZlkfEAAAAAAAOF9QGZmZmZmXX9AZmZmZuZsgECamZmZGSuBQM3MzMxM6YFAAAAAAICngkAzMzMzs2WDQGZmZmbmI4RAmpmZmRnihEDNzMzMTKCFQAAAAACAXoZAMzMzM7Mch0BmZmZm5tqHQJqZmZkZmYhAzczMzExXiUAAAAAAgBWKQDMzMzOz04pAZmZmZuaRi0CamZmZGVCMQM3MzMxMDo1AAAAAAIDMjUAzMzMzs4qOQGZmZmbmSI9A\",\"dtype\":\"float64\",\"shape\":[75]}},\"selected\":{\"id\":\"2949985f-6c6e-4af9-9fd6-9e87631fae6f\",\"type\":\"Selection\"},\"selection_policy\":{\"id\":\"72b9d7d5-f9d6-40ea-b87a-ce66d9cf976f\",\"type\":\"UnionRenderers\"}},\"id\":\"4c031e35-6fb2-4ab5-a6b4-f915f49d400c\",\"type\":\"ColumnDataSource\"},{\"attributes\":{},\"id\":\"4f654eb6-1eb6-4609-a9e7-b139d65c7a80\",\"type\":\"BasicTicker\"},{\"attributes\":{\"callback\":null,\"data\":{\"x\":{\"__ndarray__\":\"CKqIy9htvr9HrwYoDTW+vyRYJD9Fgr2/nr5UIj/RvL+4xuvqIyq8v/8a94MNkbu/XxbJDXUOu7+KbfcX5qm6v6tyJStUcbq/uE1lD7xzur8r+flrice6vweabI8gjbu/fUGo3lz0vL8knxUgIwO/vwdPdJ8UlL6/kQKFJvv6uL/v7x1JCiuwv5CfvZVNApe/5O0B7SAMmj+VDISNgES1PwPvP43WLMQ/L4T/Ibvazz9j5HZ5hCTQP9OM4qge4cY/h8T7eWwuvj/lrGEc4vOxP97FONUTw6Y/GG3KH1BZoD953X6grH2ZP4cGIr4llpQ/th5+MW2VkD/P2Lh6JfuJP2gksQlRg4M/hqWqngbrez+9eC6wKNxbP8PGiS/SBHS/5A4Vj/2/g7/JrwMNVMuEv9ykrCNqSXu/Dm7zjughaL+9a+zsDblnP+wjsGz4c5A/KlLvFjkloj+8Y5qxtMiuPwlkSZU1pbY/CnRYp+sFvj/wNspVhzfCP+jLfwajK8Q/k7nHDDM4xD89hr8NzjPEP/XBzwu5ysM/Yy4losr2wj8nXQIJ7cnBP6GmM4M6XcA/ILLtWXyvvT+ZPI60jom6P/v32ftmeLc/SrJQYymvtD9R3hNgYnCyP3mfgno1a7E/ZjBnMvNPsj87WMc90mq0P436Qs0yObQ/sZnA0MqNrj+citDftnybPzm4G3Pe4kO/Yg1F8ZJOjL9t1p8Y59yKv2JjoGPu93u/YAsmcH7SX7+8Nbr6h486P8pfh1WvZ1c/LDxYlEwtXz8iaW+k94NtP4jOWwqCpsk/\",\"dtype\":\"float64\",\"shape\":[75]},\"y\":{\"__ndarray__\":\"GhExyth1ND/Sv8nbtpRIP2vylNV0PVE/aTum7souWD/At0SJ8fVgPw3Iuahxymc/MSNhhJWvcD/bTfBN02d3P2zb5nxnaoA/CD5h5MAGhz8NmeH1TyaQP+zrCsc9p5Y/LbKd76fGnz/bLW5ISEmmPww9YvTcQq8/JV2OstnstT8Er5Y7M8G+P0c+r3jqkcU/5h99k6ZBzj88bCIzFzjVP4enV8oyxN0//yH99nXg5D8qOpLLf0jtP5kqGJXUifQ/c9cS8kHP/D+/DpwzojQEQIEmwoanVwxA4lgXt9HgE0BSSZ2AJuIbQAMJih9jjiNA5q4l5INuK0AwTKYKRj0zQNv5fmq8/DpAaCJseHrtQkB/+zpwzoxKQM3MzMzMeFJAZmZmZmZqWEAAAAAAAFxeQM3MzMzMJmJAmpmZmZkfZUBmZmZmZhhoQDMzMzMzEWtAAAAAAAAKbkBmZmZmZoFwQM3MzMzM/XFAMzMzMzN6c0CamZmZmfZ0QAAAAAAAc3ZAZmZmZmbvd0DNzMzMzGt5QDMzMzMz6HpAmpmZmZlkfEAAAAAAAOF9QGZmZmZmXX9AZmZmZuZsgECamZmZGSuBQM3MzMxM6YFAAAAAAICngkAzMzMzs2WDQGZmZmbmI4RAmpmZmRnihEDNzMzMTKCFQAAAAACAXoZAMzMzM7Mch0BmZmZm5tqHQJqZmZkZmYhAzczMzExXiUAAAAAAgBWKQDMzMzOz04pAZmZmZuaRi0CamZmZGVCMQM3MzMxMDo1AAAAAAIDMjUAzMzMzs4qOQGZmZmbmSI9A\",\"dtype\":\"float64\",\"shape\":[75]}},\"selected\":{\"id\":\"99320480-4bb4-4b36-9a8b-b7d13b386812\",\"type\":\"Selection\"},\"selection_policy\":{\"id\":\"c0fc8e3d-95bf-4052-a758-c355a988dfba\",\"type\":\"UnionRenderers\"}},\"id\":\"6556339e-4721-46ae-90e1-89162d065a22\",\"type\":\"ColumnDataSource\"},{\"attributes\":{\"source\":{\"id\":\"3045d086-d439-49a6-a694-954cf617698d\",\"type\":\"ColumnDataSource\"}},\"id\":\"32fa7291-7824-458b-b38e-87be86191c99\",\"type\":\"CDSView\"},{\"attributes\":{\"source\":{\"id\":\"4c031e35-6fb2-4ab5-a6b4-f915f49d400c\",\"type\":\"ColumnDataSource\"}},\"id\":\"966cc4e3-daa3-4953-8886-b8ace1404b7d\",\"type\":\"CDSView\"},{\"attributes\":{\"children\":[{\"id\":\"1d725013-9a87-47a7-95f1-168d708e3f3c\",\"type\":\"Row\"}]},\"id\":\"e41783c5-06da-4ca7-b5fa-9a264848c41d\",\"type\":\"Column\"},{\"attributes\":{\"below\":[{\"id\":\"e6d06b1d-58c5-4a5f-9241-519baa30397c\",\"type\":\"LinearAxis\"}],\"left\":[{\"id\":\"0242e0aa-0ee3-445b-8ce2-631c4e97a601\",\"type\":\"LogAxis\"}],\"plot_height\":500,\"plot_width\":560,\"renderers\":[{\"id\":\"e6d06b1d-58c5-4a5f-9241-519baa30397c\",\"type\":\"LinearAxis\"},{\"id\":\"615f656a-6536-4c8f-a1cd-c9b5666f0d37\",\"type\":\"Grid\"},{\"id\":\"0242e0aa-0ee3-445b-8ce2-631c4e97a601\",\"type\":\"LogAxis\"},{\"id\":\"955366db-7ac6-4906-97b1-db33c5def550\",\"type\":\"Grid\"},{\"id\":\"56dcbab1-3b35-44ae-b24e-0b8c08c9cc68\",\"type\":\"BoxAnnotation\"},{\"id\":\"4fd4f30c-8820-4ea9-97ff-7e5937451549\",\"type\":\"GlyphRenderer\"},{\"id\":\"d5192ff5-bd70-410b-9461-cc100dfc36db\",\"type\":\"GlyphRenderer\"},{\"id\":\"cbdcb30d-a9f6-4e44-a604-721d97f38867\",\"type\":\"GlyphRenderer\"},{\"id\":\"99eaf92d-eda5-4203-9bbc-ba40aaf7f4f9\",\"type\":\"GlyphRenderer\"},{\"id\":\"94c7ea1b-927f-462f-9ece-4630b5c2ae59\",\"type\":\"GlyphRenderer\"},{\"id\":\"231c050f-fd4c-4ea2-b492-493691397a78\",\"type\":\"Legend\"}],\"right\":[{\"id\":\"231c050f-fd4c-4ea2-b492-493691397a78\",\"type\":\"Legend\"}],\"title\":{\"id\":\"10b0a675-9a9e-4e5d-8cac-e75c42a0796e\",\"type\":\"Title\"},\"toolbar\":{\"id\":\"f3c5d285-73af-40f6-a731-028942cfbdbc\",\"type\":\"Toolbar\"},\"toolbar_location\":null,\"x_range\":{\"id\":\"b91d7a13-824f-4c16-885d-a5f0e6f54f0a\",\"type\":\"Range1d\"},\"x_scale\":{\"id\":\"48739354-c7b9-4526-93af-593970076735\",\"type\":\"LinearScale\"},\"y_range\":{\"id\":\"3e36affa-6b8d-4884-8c1d-cd26ee06ff2a\",\"type\":\"Range1d\"},\"y_scale\":{\"id\":\"a69a69d5-e5dc-405d-a2c5-cd847c2b00af\",\"type\":\"LogScale\"}},\"id\":\"350e91fe-21c9-4cbe-a7e8-09a4de0a814a\",\"subtype\":\"Figure\",\"type\":\"Plot\"},{\"attributes\":{\"source\":{\"id\":\"6556339e-4721-46ae-90e1-89162d065a22\",\"type\":\"ColumnDataSource\"}},\"id\":\"9e24d618-2489-42a2-b387-71fd17df0574\",\"type\":\"CDSView\"},{\"attributes\":{\"fill_alpha\":{\"value\":0.7},\"fill_color\":{\"value\":\"#4daf4a\"},\"line_alpha\":{\"value\":0.7},\"line_color\":{\"value\":\"#4daf4a\"},\"x\":{\"field\":\"x\"},\"y\":{\"field\":\"y\"}},\"id\":\"f3477b81-4f2f-4943-80fd-915444c45d6d\",\"type\":\"Circle\"},{\"attributes\":{\"source\":{\"id\":\"3f1d6887-7fd7-48f8-ab5f-ea9b04a32176\",\"type\":\"ColumnDataSource\"}},\"id\":\"24216350-a106-435f-83cf-c9a42eb4c9c5\",\"type\":\"CDSView\"},{\"attributes\":{\"line_alpha\":0.1,\"line_color\":\"#1f77b4\",\"line_width\":1.5,\"x\":{\"field\":\"x\"},\"y\":{\"field\":\"y\"}},\"id\":\"c77bb546-817a-4012-880c-71d12396230f\",\"type\":\"Line\"},{\"attributes\":{},\"id\":\"4d4ebbc6-408f-4460-9aca-569712dead7e\",\"type\":\"Selection\"},{\"attributes\":{\"data_source\":{\"id\":\"3045d086-d439-49a6-a694-954cf617698d\",\"type\":\"ColumnDataSource\"},\"glyph\":{\"id\":\"34af118d-a19b-482a-bcb4-58e281279bd8\",\"type\":\"Square\"},\"hover_glyph\":null,\"muted_glyph\":null,\"nonselection_glyph\":{\"id\":\"1c9ccfe0-8253-44fb-9002-7b0b2ffab515\",\"type\":\"Square\"},\"selection_glyph\":null,\"view\":{\"id\":\"32fa7291-7824-458b-b38e-87be86191c99\",\"type\":\"CDSView\"}},\"id\":\"886cd7cd-b41f-4492-93d1-15ff79f7be88\",\"type\":\"GlyphRenderer\"},{\"attributes\":{\"line_color\":\"#4daf4a\",\"line_width\":1.5,\"x\":{\"field\":\"x\"},\"y\":{\"field\":\"y\"}},\"id\":\"dcf76091-06a0-41e3-bf4f-0dd5ee394c17\",\"type\":\"Line\"},{\"attributes\":{},\"id\":\"65a78471-54b3-46dd-8b6c-a6c55904e836\",\"type\":\"LinearScale\"},{\"attributes\":{\"callback\":null,\"data\":{\"x\":{\"__ndarray__\":\"CKqIy9htvr9HrwYoDTW+vyRYJD9Fgr2/nr5UIj/RvL+4xuvqIyq8v/8a94MNkbu/XxbJDXUOu7+KbfcX5qm6v6tyJStUcbq/uE1lD7xzur8r+flrice6vweabI8gjbu/fUGo3lz0vL8knxUgIwO/vwdPdJ8UlL6/kQKFJvv6uL/v7x1JCiuwv5CfvZVNApe/5O0B7SAMmj+VDISNgES1PwPvP43WLMQ/L4T/Ibvazz9j5HZ5hCTQP9OM4qge4cY/h8T7eWwuvj/lrGEc4vOxP97FONUTw6Y/GG3KH1BZoD953X6grH2ZP4cGIr4llpQ/th5+MW2VkD/P2Lh6JfuJP2gksQlRg4M/hqWqngbrez+9eC6wKNxbP8PGiS/SBHS/5A4Vj/2/g7/JrwMNVMuEv9ykrCNqSXu/Dm7zjughaL+9a+zsDblnP+wjsGz4c5A/KlLvFjkloj+8Y5qxtMiuPwlkSZU1pbY/CnRYp+sFvj/wNspVhzfCP+jLfwajK8Q/k7nHDDM4xD89hr8NzjPEP/XBzwu5ysM/Yy4losr2wj8nXQIJ7cnBP6GmM4M6XcA/ILLtWXyvvT+ZPI60jom6P/v32ftmeLc/SrJQYymvtD9R3hNgYnCyP3mfgno1a7E/ZjBnMvNPsj87WMc90mq0P436Qs0yObQ/sZnA0MqNrj+citDftnybPzm4G3Pe4kO/Yg1F8ZJOjL9t1p8Y59yKv2JjoGPu93u/YAsmcH7SX7+8Nbr6h486P8pfh1WvZ1c/LDxYlEwtXz8iaW+k94NtP4jOWwqCpsk/\",\"dtype\":\"float64\",\"shape\":[75]},\"y\":{\"__ndarray__\":\"GhExyth1ND/Sv8nbtpRIP2vylNV0PVE/aTum7souWD/At0SJ8fVgPw3Iuahxymc/MSNhhJWvcD/bTfBN02d3P2zb5nxnaoA/CD5h5MAGhz8NmeH1TyaQP+zrCsc9p5Y/LbKd76fGnz/bLW5ISEmmPww9YvTcQq8/JV2OstnstT8Er5Y7M8G+P0c+r3jqkcU/5h99k6ZBzj88bCIzFzjVP4enV8oyxN0//yH99nXg5D8qOpLLf0jtP5kqGJXUifQ/c9cS8kHP/D+/DpwzojQEQIEmwoanVwxA4lgXt9HgE0BSSZ2AJuIbQAMJih9jjiNA5q4l5INuK0AwTKYKRj0zQNv5fmq8/DpAaCJseHrtQkB/+zpwzoxKQM3MzMzMeFJAZmZmZmZqWEAAAAAAAFxeQM3MzMzMJmJAmpmZmZkfZUBmZmZmZhhoQDMzMzMzEWtAAAAAAAAKbkBmZmZmZoFwQM3MzMzM/XFAMzMzMzN6c0CamZmZmfZ0QAAAAAAAc3ZAZmZmZmbvd0DNzMzMzGt5QDMzMzMz6HpAmpmZmZlkfEAAAAAAAOF9QGZmZmZmXX9AZmZmZuZsgECamZmZGSuBQM3MzMxM6YFAAAAAAICngkAzMzMzs2WDQGZmZmbmI4RAmpmZmRnihEDNzMzMTKCFQAAAAACAXoZAMzMzM7Mch0BmZmZm5tqHQJqZmZkZmYhAzczMzExXiUAAAAAAgBWKQDMzMzOz04pAZmZmZuaRi0CamZmZGVCMQM3MzMxMDo1AAAAAAIDMjUAzMzMzs4qOQGZmZmbmSI9A\",\"dtype\":\"float64\",\"shape\":[75]}},\"selected\":{\"id\":\"807006b7-779f-416b-b7f7-36360fd5d916\",\"type\":\"Selection\"},\"selection_policy\":{\"id\":\"4bc4cadf-a746-4c78-ae88-24c9d4c9473e\",\"type\":\"UnionRenderers\"}},\"id\":\"fabc4c86-c399-4c22-a4d0-fdfce61dcfac\",\"type\":\"ColumnDataSource\"},{\"attributes\":{\"callback\":null,\"data\":{\"x\":{\"__ndarray__\":\"DUhOaIrnwb9n3j9QTc3Bv175h4j2jMG/JFYthv5Lwb/WO9wODQvBv+uXoVRvy8C/oz+wukCPwL8gjOlT2FbAvxVdDw0oJ8C/IlI2WWECwL/tsdsEa96/v/PHtDaN7b+/JzsukagjwL9zwTKZnm7Avx+m+Trbab+/2t/AgRzWub/tKILDATCxv+fMHc32wJm/rc1S9LhWmj9o2W/6bku2P07wLMV+5MQ/OKClK9jGzz/66DfAitvPP+BegBpKL8Y/zJViw6qsvD8ZRVhSw76xPx7jV5r+Zqg/elEjQ3rJoT+2/6gdY8aaPym0IwpqTpU/S4/HiBsikj+hLAVvC0COP7cquSWaiYc/KQ12uNaNgT+2ABrR8IBnPwAjirYTf3W/tX8mQQaShr/uUzcSxiGHv32rt/5EAn2/1oUm6HLsaL9Ao70INtFnP3hIh0Bb8pM/+QqqxHeNqD/wJcl97xKwPznOR/saJ7A/+UlfTw77tj9jwGksJ0LBP6k51Ep8ycQ/9FCZan9KxD+RYMunnrfDPzTBDYSmHcQ/a8js6l3VxD/rKlG0eqDEP1ec5vQnN8M/6FGvY3WOwD+vcg3Yeiu7P4teAd173rU/UHjWXNgUsj+GCS5MYu2vP0YGQn2OOa8/k8r91poisT9oVlHkkqizP+LKJcroRLM/HAJ/rGuqrD+EVVdmk8GWP0Ubl2Dei3q/Vc50Nc3Jkr9coKK/192Qv/LT47cbVoa/uLh5ayhKcb9I72hbBZxSvyKmYGfsRl2/Pqjxl2cmPD+31hSa/WBdP3WEHRAyWsk/\",\"dtype\":\"float64\",\"shape\":[75]},\"y\":{\"__ndarray__\":\"S/O/Q+51ND/Sv8nbtpRIP2vylNV0PVE/aTum7souWD/At0SJ8fVgPw3Iuahxymc/MSNhhJWvcD/bTfBN02d3P2zb5nxnaoA/CD5h5MAGhz8NmeH1TyaQP+zrCsc9p5Y/LbKd76fGnz/bLW5ISEmmPww9YvTcQq8/JV2OstnstT8Er5Y7M8G+P0c+r3jqkcU/5h99k6ZBzj88bCIzFzjVP4enV8oyxN0//yH99nXg5D8qOpLLf0jtP5kqGJXUifQ/c9cS8kHP/D+/DpwzojQEQIEmwoanVwxA4lgXt9HgE0BSSZ2AJuIbQAMJih9jjiNA5q4l5INuK0AwTKYKRj0zQNv5fmq8/DpAaCJseHrtQkB/+zpwzoxKQM3MzMzMeFJAZmZmZmZqWEAAAAAAAFxeQM3MzMzMJmJAmpmZmZkfZUBmZmZmZhhoQDMzMzMzEWtAAAAAAAAKbkBmZmZmZoFwQM3MzMzM/XFAMzMzMzN6c0CamZmZmfZ0QAAAAAAAc3ZAZmZmZmbvd0DNzMzMzGt5QDMzMzMz6HpAmpmZmZlkfEAAAAAAAOF9QGZmZmZmXX9AZmZmZuZsgECamZmZGSuBQM3MzMxM6YFAAAAAAICngkAzMzMzs2WDQGZmZmbmI4RAmpmZmRnihEDNzMzMTKCFQAAAAACAXoZAMzMzM7Mch0BmZmZm5tqHQJqZmZkZmYhAzczMzExXiUAAAAAAgBWKQDMzMzOz04pAZmZmZuaRi0CamZmZGVCMQM3MzMxMDo1AAAAAAIDMjUAzMzMzs4qOQGZmZmbmSI9A\",\"dtype\":\"float64\",\"shape\":[75]}},\"selected\":{\"id\":\"4d4ebbc6-408f-4460-9aca-569712dead7e\",\"type\":\"Selection\"},\"selection_policy\":{\"id\":\"1f0647e2-9ec1-47c7-9d09-6affe1f25834\",\"type\":\"UnionRenderers\"}},\"id\":\"e280a5be-f1cc-4c27-8e39-9e73991cf78c\",\"type\":\"ColumnDataSource\"},{\"attributes\":{\"line_alpha\":0.1,\"line_color\":\"#1f77b4\",\"line_width\":3,\"x\":{\"field\":\"x\"},\"y\":{\"field\":\"y\"}},\"id\":\"dfe863c4-a009-4c59-a547-b3b799ca30d1\",\"type\":\"Line\"},{\"attributes\":{\"fill_alpha\":{\"value\":0.7},\"fill_color\":{\"value\":\"#4daf4a\"},\"line_alpha\":{\"value\":0.7},\"line_color\":{\"value\":\"#4daf4a\"},\"x\":{\"field\":\"x\"},\"y\":{\"field\":\"y\"}},\"id\":\"0e7531d0-92c1-48ff-ba9b-68906655efdc\",\"type\":\"Circle\"},{\"attributes\":{\"data_source\":{\"id\":\"fabc4c86-c399-4c22-a4d0-fdfce61dcfac\",\"type\":\"ColumnDataSource\"},\"glyph\":{\"id\":\"f3477b81-4f2f-4943-80fd-915444c45d6d\",\"type\":\"Circle\"},\"hover_glyph\":null,\"muted_glyph\":null,\"nonselection_glyph\":{\"id\":\"f202406d-a0cc-4c49-b0ac-9ad1ebc3d2c3\",\"type\":\"Circle\"},\"selection_glyph\":null,\"view\":{\"id\":\"f7fb3a44-c5ae-45ea-8300-b39bdd6daf99\",\"type\":\"CDSView\"}},\"id\":\"6cb06eb0-1fda-4179-bfbd-fc0896c12ec7\",\"type\":\"GlyphRenderer\"},{\"attributes\":{},\"id\":\"8f6e1655-f4a3-4d73-9f2c-babb85d85517\",\"type\":\"PanTool\"},{\"attributes\":{\"callback\":null,\"data\":{\"x\":{\"__ndarray__\":\"CKqIy9htvr9HrwYoDTW+vyRYJD9Fgr2/nr5UIj/RvL+4xuvqIyq8v/8a94MNkbu/XxbJDXUOu7+KbfcX5qm6v6tyJStUcbq/uE1lD7xzur8r+flrice6vweabI8gjbu/fUGo3lz0vL8knxUgIwO/vwdPdJ8UlL6/kQKFJvv6uL/v7x1JCiuwv5CfvZVNApe/5O0B7SAMmj+VDISNgES1PwPvP43WLMQ/L4T/Ibvazz9j5HZ5hCTQP9OM4qge4cY/h8T7eWwuvj/lrGEc4vOxP97FONUTw6Y/GG3KH1BZoD953X6grH2ZP4cGIr4llpQ/th5+MW2VkD/P2Lh6JfuJP2gksQlRg4M/hqWqngbrez+9eC6wKNxbP8PGiS/SBHS/5A4Vj/2/g7/JrwMNVMuEv9ykrCNqSXu/Dm7zjughaL+9a+zsDblnP+wjsGz4c5A/KlLvFjkloj+8Y5qxtMiuPwlkSZU1pbY/CnRYp+sFvj/wNspVhzfCP+jLfwajK8Q/k7nHDDM4xD89hr8NzjPEP/XBzwu5ysM/Yy4losr2wj8nXQIJ7cnBP6GmM4M6XcA/ILLtWXyvvT+ZPI60jom6P/v32ftmeLc/SrJQYymvtD9R3hNgYnCyP3mfgno1a7E/ZjBnMvNPsj87WMc90mq0P436Qs0yObQ/sZnA0MqNrj+citDftnybPzm4G3Pe4kO/Yg1F8ZJOjL9t1p8Y59yKv2JjoGPu93u/YAsmcH7SX7+8Nbr6h486P8pfh1WvZ1c/LDxYlEwtXz8iaW+k94NtP4jOWwqCpsk/\",\"dtype\":\"float64\",\"shape\":[75]},\"y\":{\"__ndarray__\":\"GhExyth1ND/Sv8nbtpRIP2vylNV0PVE/aTum7souWD/At0SJ8fVgPw3Iuahxymc/MSNhhJWvcD/bTfBN02d3P2zb5nxnaoA/CD5h5MAGhz8NmeH1TyaQP+zrCsc9p5Y/LbKd76fGnz/bLW5ISEmmPww9YvTcQq8/JV2OstnstT8Er5Y7M8G+P0c+r3jqkcU/5h99k6ZBzj88bCIzFzjVP4enV8oyxN0//yH99nXg5D8qOpLLf0jtP5kqGJXUifQ/c9cS8kHP/D+/DpwzojQEQIEmwoanVwxA4lgXt9HgE0BSSZ2AJuIbQAMJih9jjiNA5q4l5INuK0AwTKYKRj0zQNv5fmq8/DpAaCJseHrtQkB/+zpwzoxKQM3MzMzMeFJAZmZmZmZqWEAAAAAAAFxeQM3MzMzMJmJAmpmZmZkfZUBmZmZmZhhoQDMzMzMzEWtAAAAAAAAKbkBmZmZmZoFwQM3MzMzM/XFAMzMzMzN6c0CamZmZmfZ0QAAAAAAAc3ZAZmZmZmbvd0DNzMzMzGt5QDMzMzMz6HpAmpmZmZlkfEAAAAAAAOF9QGZmZmZmXX9AZmZmZuZsgECamZmZGSuBQM3MzMxM6YFAAAAAAICngkAzMzMzs2WDQGZmZmbmI4RAmpmZmRnihEDNzMzMTKCFQAAAAACAXoZAMzMzM7Mch0BmZmZm5tqHQJqZmZkZmYhAzczMzExXiUAAAAAAgBWKQDMzMzOz04pAZmZmZuaRi0CamZmZGVCMQM3MzMxMDo1AAAAAAIDMjUAzMzMzs4qOQGZmZmbmSI9A\",\"dtype\":\"float64\",\"shape\":[75]}},\"selected\":{\"id\":\"2534b86a-c934-4018-99ed-c1ebabf86125\",\"type\":\"Selection\"},\"selection_policy\":{\"id\":\"a4f99762-fa0e-40e4-a01a-0891006b61db\",\"type\":\"UnionRenderers\"}},\"id\":\"8bb16dc5-fd4b-4bbf-a6eb-9366602e7a6a\",\"type\":\"ColumnDataSource\"},{\"attributes\":{\"bottom_units\":\"screen\",\"fill_alpha\":{\"value\":0.5},\"fill_color\":{\"value\":\"lightgrey\"},\"left_units\":\"screen\",\"level\":\"overlay\",\"line_alpha\":{\"value\":1.0},\"line_color\":{\"value\":\"black\"},\"line_dash\":[4,4],\"line_width\":{\"value\":2},\"plot\":null,\"render_mode\":\"css\",\"right_units\":\"screen\",\"top_units\":\"screen\"},\"id\":\"a04dbc6c-cbc0-45a7-b097-97b21ba34beb\",\"type\":\"BoxAnnotation\"},{\"attributes\":{\"line_alpha\":0.1,\"line_color\":\"#1f77b4\",\"line_width\":1.5,\"x\":{\"field\":\"x\"},\"y\":{\"field\":\"y\"}},\"id\":\"02c8b908-86ca-4480-8792-19f25571b845\",\"type\":\"Line\"},{\"attributes\":{\"data_source\":{\"id\":\"8bb16dc5-fd4b-4bbf-a6eb-9366602e7a6a\",\"type\":\"ColumnDataSource\"},\"glyph\":{\"id\":\"dcf76091-06a0-41e3-bf4f-0dd5ee394c17\",\"type\":\"Line\"},\"hover_glyph\":null,\"muted_glyph\":null,\"nonselection_glyph\":{\"id\":\"02c8b908-86ca-4480-8792-19f25571b845\",\"type\":\"Line\"},\"selection_glyph\":null,\"view\":{\"id\":\"042e6b9b-bb3c-43de-a7af-f09fc8acf147\",\"type\":\"CDSView\"}},\"id\":\"cbdcb30d-a9f6-4e44-a604-721d97f38867\",\"type\":\"GlyphRenderer\"},{\"attributes\":{\"fill_alpha\":{\"value\":0.1},\"fill_color\":{\"value\":\"#1f77b4\"},\"line_alpha\":{\"value\":0.1},\"line_color\":{\"value\":\"#1f77b4\"},\"x\":{\"field\":\"x\"},\"y\":{\"field\":\"y\"}},\"id\":\"1c9ccfe0-8253-44fb-9002-7b0b2ffab515\",\"type\":\"Square\"},{\"attributes\":{\"callback\":null,\"end\":0.20258133857,\"start\":-0.020535355569999997},\"id\":\"56cb026e-46cb-4c3d-8b1b-c5df97c563fc\",\"type\":\"Range1d\"},{\"attributes\":{\"fill_alpha\":{\"value\":0.7},\"fill_color\":{\"value\":\"#984ea3\"},\"line_alpha\":{\"value\":0.7},\"line_color\":{\"value\":\"#984ea3\"},\"x\":{\"field\":\"x\"},\"y\":{\"field\":\"y\"}},\"id\":\"34af118d-a19b-482a-bcb4-58e281279bd8\",\"type\":\"Square\"},{\"attributes\":{\"source\":{\"id\":\"8bb16dc5-fd4b-4bbf-a6eb-9366602e7a6a\",\"type\":\"ColumnDataSource\"}},\"id\":\"042e6b9b-bb3c-43de-a7af-f09fc8acf147\",\"type\":\"CDSView\"},{\"attributes\":{\"fill_alpha\":{\"value\":0.7},\"fill_color\":{\"value\":\"#984ea3\"},\"line_alpha\":{\"value\":0.7},\"line_color\":{\"value\":\"#984ea3\"},\"x\":{\"field\":\"x\"},\"y\":{\"field\":\"y\"}},\"id\":\"0830cf04-17d6-4a88-8ef9-fb38a31c9564\",\"type\":\"Square\"},{\"attributes\":{\"below\":[{\"id\":\"f11a9a60-c144-4a65-8e23-7da558fa5d07\",\"type\":\"LinearAxis\"}],\"left\":[{\"id\":\"703745f0-7897-4e40-86dd-4f50a11e6303\",\"type\":\"LinearAxis\"}],\"plot_height\":500,\"plot_width\":400,\"renderers\":[{\"id\":\"f11a9a60-c144-4a65-8e23-7da558fa5d07\",\"type\":\"LinearAxis\"},{\"id\":\"b278072e-ada2-4c9e-937d-6e126ae1e4f8\",\"type\":\"Grid\"},{\"id\":\"703745f0-7897-4e40-86dd-4f50a11e6303\",\"type\":\"LinearAxis\"},{\"id\":\"78e5efc8-6b99-4a70-9ea8-a23609964837\",\"type\":\"Grid\"},{\"id\":\"a04dbc6c-cbc0-45a7-b097-97b21ba34beb\",\"type\":\"BoxAnnotation\"},{\"id\":\"30396eec-9858-4789-b9b3-e011437cfe9f\",\"type\":\"GlyphRenderer\"},{\"id\":\"6cb06eb0-1fda-4179-bfbd-fc0896c12ec7\",\"type\":\"GlyphRenderer\"},{\"id\":\"ab80c23e-fda0-4515-b4b5-a2ce4fe3537f\",\"type\":\"GlyphRenderer\"},{\"id\":\"886cd7cd-b41f-4492-93d1-15ff79f7be88\",\"type\":\"GlyphRenderer\"},{\"id\":\"b2a67ccc-45f6-4021-a0a9-4a4ea991ec9d\",\"type\":\"GlyphRenderer\"}],\"title\":{\"id\":\"8d1a41d9-0cbf-47f0-a5d9-b14015faf3bb\",\"type\":\"Title\"},\"toolbar\":{\"id\":\"cb63eda2-9b66-47ec-8b02-696ad2add76a\",\"type\":\"Toolbar\"},\"toolbar_location\":null,\"x_range\":{\"id\":\"56cb026e-46cb-4c3d-8b1b-c5df97c563fc\",\"type\":\"Range1d\"},\"x_scale\":{\"id\":\"65a78471-54b3-46dd-8b6c-a6c55904e836\",\"type\":\"LinearScale\"},\"y_range\":{\"id\":\"97674d33-144f-4ba9-bcfb-9c9eb23b0867\",\"type\":\"Range1d\"},\"y_scale\":{\"id\":\"3b67e056-3fd8-4093-a167-b7dfaf401b88\",\"type\":\"LinearScale\"}},\"id\":\"4818ba34-7b62-49d9-9f64-14a67e125245\",\"subtype\":\"Figure\",\"type\":\"Plot\"},{\"attributes\":{\"data_source\":{\"id\":\"6556339e-4721-46ae-90e1-89162d065a22\",\"type\":\"ColumnDataSource\"},\"glyph\":{\"id\":\"057214dd-a50e-4890-afa6-20d7a51fa1f6\",\"type\":\"Line\"},\"hover_glyph\":null,\"muted_glyph\":null,\"nonselection_glyph\":{\"id\":\"c77bb546-817a-4012-880c-71d12396230f\",\"type\":\"Line\"},\"selection_glyph\":null,\"view\":{\"id\":\"9e24d618-2489-42a2-b387-71fd17df0574\",\"type\":\"CDSView\"}},\"id\":\"ab80c23e-fda0-4515-b4b5-a2ce4fe3537f\",\"type\":\"GlyphRenderer\"},{\"attributes\":{\"data_source\":{\"id\":\"2184fbaf-7d4d-4958-b444-83f4b2b2cd4f\",\"type\":\"ColumnDataSource\"},\"glyph\":{\"id\":\"79af1531-0ae9-4e00-9368-0ca338a4d150\",\"type\":\"Line\"},\"hover_glyph\":null,\"muted_glyph\":null,\"nonselection_glyph\":{\"id\":\"dfe863c4-a009-4c59-a547-b3b799ca30d1\",\"type\":\"Line\"},\"selection_glyph\":null,\"view\":{\"id\":\"abd6c9eb-fa7e-4628-b40a-8c640f69bb74\",\"type\":\"CDSView\"}},\"id\":\"94c7ea1b-927f-462f-9ece-4630b5c2ae59\",\"type\":\"GlyphRenderer\"},{\"attributes\":{\"overlay\":{\"id\":\"a04dbc6c-cbc0-45a7-b097-97b21ba34beb\",\"type\":\"BoxAnnotation\"}},\"id\":\"98e6e5b8-6b24-4e64-b039-cb6e781b2088\",\"type\":\"BoxZoomTool\"},{\"attributes\":{\"line_alpha\":0.6,\"line_color\":\"#984ea3\",\"line_width\":3,\"x\":{\"field\":\"x\"},\"y\":{\"field\":\"y\"}},\"id\":\"79af1531-0ae9-4e00-9368-0ca338a4d150\",\"type\":\"Line\"},{\"attributes\":{},\"id\":\"3b67e056-3fd8-4093-a167-b7dfaf401b88\",\"type\":\"LinearScale\"},{\"attributes\":{\"callback\":null,\"data\":{\"x\":{\"__ndarray__\":\"HwV3SlHjwL8x0Q6IocHAv/mdvAbUc8C/yxdPIWgvwL+Gt330Xci/v14/ptQBP7+/Rq5rrNe7vr9+7MMAjUq+vzk8sde/8r2/EtZZHLfBvb9bqtsSrMW9vw8fGfP8Fb6/vC02b/HNvr+gbgB2jO2/v1RN3RbH0b6/jyehqEIvub8oN/Zmpmywv/9X81YMM5e/TfRJ1cl4mz+2BoWUNRK2P0TUGINfoMQ/R2RCvaXTzz+ShFV9ihHQPwTxVAr2tsY/+IjfnP3LvT/6ZyI58C6yP6wMPOwHUKg/A6RQvWYKoj+fJMuKBhqcP+gEgM8835Y/kWdP8hwVkz+z3nGFxzSPP0EsW/TXNog/Esn4PozJgT/Z4rycX7ZlP+x+6knS+3W/UftUz1OUhr96ZQUJHEmHv5CmOjr/UX2/CtARD3CSaL8NBNq9tpZrP/eaM6hm/JM/FKdflYERpz8X+Lj7CzOwP6u259MvC7I/5e3sdH1Ztz84JJueV0HAP2QVGL3sl8M/U2GVvCjjwz/bMxBIsrPDP1SPot5PncM/apGt1tGywz9+UJeBs33DP6cJhpF6f8I/Si+t/fm7wD9OGP0m99O8PzKlzZXQG7g/UjSvgZ4atD+4SJ44pV+xP5Tr7+6ZdLA/7mTBQ9vEsT8VSwadWDK0PxasjxRtR7Q/25mMNKTDrj8J9lWzVF2bP+hKOimUmFW/kgoAbEwUj7/fiKoZM3SOvzjlXz9Aw4G/SEwTOG8pbr/OHP91Xw9SvwAU8ykHLOG+jrYarF6KQT/4cpcw4QVjPwQ917CXi8k/\",\"dtype\":\"float64\",\"shape\":[75]},\"y\":{\"__ndarray__\":\"GhExyth1ND/Sv8nbtpRIP2vylNV0PVE/aTum7souWD/At0SJ8fVgPw3Iuahxymc/MSNhhJWvcD/bTfBN02d3P2zb5nxnaoA/CD5h5MAGhz8NmeH1TyaQP+zrCsc9p5Y/LbKd76fGnz/bLW5ISEmmPww9YvTcQq8/JV2OstnstT8Er5Y7M8G+P0c+r3jqkcU/5h99k6ZBzj88bCIzFzjVP4enV8oyxN0//yH99nXg5D8qOpLLf0jtP5kqGJXUifQ/c9cS8kHP/D+/DpwzojQEQIEmwoanVwxA4lgXt9HgE0BSSZ2AJuIbQAMJih9jjiNA5q4l5INuK0AwTKYKRj0zQNv5fmq8/DpAaCJseHrtQkB/+zpwzoxKQM3MzMzMeFJAZmZmZmZqWEAAAAAAAFxeQM3MzMzMJmJAmpmZmZkfZUBmZmZmZhhoQDMzMzMzEWtAAAAAAAAKbkBmZmZmZoFwQM3MzMzM/XFAMzMzMzN6c0CamZmZmfZ0QAAAAAAAc3ZAZmZmZmbvd0DNzMzMzGt5QDMzMzMz6HpAmpmZmZlkfEAAAAAAAOF9QGZmZmZmXX9AZmZmZuZsgECamZmZGSuBQM3MzMxM6YFAAAAAAICngkAzMzMzs2WDQGZmZmbmI4RAmpmZmRnihEDNzMzMTKCFQAAAAACAXoZAMzMzM7Mch0BmZmZm5tqHQJqZmZkZmYhAzczMzExXiUAAAAAAgBWKQDMzMzOz04pAZmZmZuaRi0CamZmZGVCMQM3MzMxMDo1AAAAAAIDMjUAzMzMzs4qOQGZmZmbmSI9A\",\"dtype\":\"float64\",\"shape\":[75]}},\"selected\":{\"id\":\"35cf8e28-eeb2-4036-9efe-eebfaf5a3680\",\"type\":\"Selection\"},\"selection_policy\":{\"id\":\"49e966e4-5d49-48b0-ba82-506143e1a98a\",\"type\":\"UnionRenderers\"}},\"id\":\"3045d086-d439-49a6-a694-954cf617698d\",\"type\":\"ColumnDataSource\"},{\"attributes\":{\"source\":{\"id\":\"2184fbaf-7d4d-4958-b444-83f4b2b2cd4f\",\"type\":\"ColumnDataSource\"}},\"id\":\"abd6c9eb-fa7e-4628-b40a-8c640f69bb74\",\"type\":\"CDSView\"},{\"attributes\":{},\"id\":\"0983ae53-76aa-45cf-ba6c-49bc4d42216a\",\"type\":\"BasicTickFormatter\"},{\"attributes\":{\"line_color\":\"#4daf4a\",\"line_width\":1.5,\"x\":{\"field\":\"x\"},\"y\":{\"field\":\"y\"}},\"id\":\"057214dd-a50e-4890-afa6-20d7a51fa1f6\",\"type\":\"Line\"},{\"attributes\":{},\"id\":\"aaa4864f-e348-4fc8-87e1-a042a878ffcc\",\"type\":\"WheelZoomTool\"},{\"attributes\":{\"axis_label\":\"cooling rate [K/day]\",\"formatter\":{\"id\":\"0983ae53-76aa-45cf-ba6c-49bc4d42216a\",\"type\":\"BasicTickFormatter\"},\"plot\":{\"id\":\"4818ba34-7b62-49d9-9f64-14a67e125245\",\"subtype\":\"Figure\",\"type\":\"Plot\"},\"ticker\":{\"id\":\"a87861ff-e055-4b0f-864b-253ec612551e\",\"type\":\"BasicTicker\"}},\"id\":\"f11a9a60-c144-4a65-8e23-7da558fa5d07\",\"type\":\"LinearAxis\"},{\"attributes\":{\"label\":{\"value\":\"CLIRAD `coolr_bands`\"},\"renderers\":[{\"id\":\"4fd4f30c-8820-4ea9-97ff-7e5937451549\",\"type\":\"GlyphRenderer\"}]},\"id\":\"226ae501-0715-41a5-9c05-4f0964860e86\",\"type\":\"LegendItem\"},{\"attributes\":{\"line_alpha\":0.1,\"line_color\":\"#1f77b4\",\"line_dash\":[6],\"line_width\":5,\"x\":{\"field\":\"x\"},\"y\":{\"field\":\"y\"}},\"id\":\"ee16f218-68e8-43ea-869d-29dfbd029498\",\"type\":\"Line\"},{\"attributes\":{\"callback\":null,\"data\":{\"x\":{\"__ndarray__\":\"DUhOaIrnwb9n3j9QTc3Bv175h4j2jMG/JFYthv5Lwb/WO9wODQvBv+uXoVRvy8C/oz+wukCPwL8gjOlT2FbAvxVdDw0oJ8C/IlI2WWECwL/tsdsEa96/v/PHtDaN7b+/JzsukagjwL9zwTKZnm7Avx+m+Trbab+/2t/AgRzWub/tKILDATCxv+fMHc32wJm/rc1S9LhWmj9o2W/6bku2P07wLMV+5MQ/OKClK9jGzz/66DfAitvPP+BegBpKL8Y/zJViw6qsvD8ZRVhSw76xPx7jV5r+Zqg/elEjQ3rJoT+2/6gdY8aaPym0IwpqTpU/S4/HiBsikj+hLAVvC0COP7cquSWaiYc/KQ12uNaNgT+2ABrR8IBnPwAjirYTf3W/tX8mQQaShr/uUzcSxiGHv32rt/5EAn2/1oUm6HLsaL9Ao70INtFnP3hIh0Bb8pM/+QqqxHeNqD/wJcl97xKwPznOR/saJ7A/+UlfTw77tj9jwGksJ0LBP6k51Ep8ycQ/9FCZan9KxD+RYMunnrfDPzTBDYSmHcQ/a8js6l3VxD/rKlG0eqDEP1ec5vQnN8M/6FGvY3WOwD+vcg3Yeiu7P4teAd173rU/UHjWXNgUsj+GCS5MYu2vP0YGQn2OOa8/k8r91poisT9oVlHkkqizP+LKJcroRLM/HAJ/rGuqrD+EVVdmk8GWP0Ubl2Dei3q/Vc50Nc3Jkr9coKK/192Qv/LT47cbVoa/uLh5ayhKcb9I72hbBZxSvyKmYGfsRl2/Pqjxl2cmPD+31hSa/WBdP3WEHRAyWsk/\",\"dtype\":\"float64\",\"shape\":[75]},\"y\":{\"__ndarray__\":\"S/O/Q+51ND/Sv8nbtpRIP2vylNV0PVE/aTum7souWD/At0SJ8fVgPw3Iuahxymc/MSNhhJWvcD/bTfBN02d3P2zb5nxnaoA/CD5h5MAGhz8NmeH1TyaQP+zrCsc9p5Y/LbKd76fGnz/bLW5ISEmmPww9YvTcQq8/JV2OstnstT8Er5Y7M8G+P0c+r3jqkcU/5h99k6ZBzj88bCIzFzjVP4enV8oyxN0//yH99nXg5D8qOpLLf0jtP5kqGJXUifQ/c9cS8kHP/D+/DpwzojQEQIEmwoanVwxA4lgXt9HgE0BSSZ2AJuIbQAMJih9jjiNA5q4l5INuK0AwTKYKRj0zQNv5fmq8/DpAaCJseHrtQkB/+zpwzoxKQM3MzMzMeFJAZmZmZmZqWEAAAAAAAFxeQM3MzMzMJmJAmpmZmZkfZUBmZmZmZhhoQDMzMzMzEWtAAAAAAAAKbkBmZmZmZoFwQM3MzMzM/XFAMzMzMzN6c0CamZmZmfZ0QAAAAAAAc3ZAZmZmZmbvd0DNzMzMzGt5QDMzMzMz6HpAmpmZmZlkfEAAAAAAAOF9QGZmZmZmXX9AZmZmZuZsgECamZmZGSuBQM3MzMxM6YFAAAAAAICngkAzMzMzs2WDQGZmZmbmI4RAmpmZmRnihEDNzMzMTKCFQAAAAACAXoZAMzMzM7Mch0BmZmZm5tqHQJqZmZkZmYhAzczMzExXiUAAAAAAgBWKQDMzMzOz04pAZmZmZuaRi0CamZmZGVCMQM3MzMxMDo1AAAAAAIDMjUAzMzMzs4qOQGZmZmbmSI9A\",\"dtype\":\"float64\",\"shape\":[75]}},\"selected\":{\"id\":\"10fb3daa-2d69-4f5e-b12c-b1bb74eac571\",\"type\":\"Selection\"},\"selection_policy\":{\"id\":\"0de73e1a-5263-416b-8447-057d2718aea3\",\"type\":\"UnionRenderers\"}},\"id\":\"3f1d6887-7fd7-48f8-ab5f-ea9b04a32176\",\"type\":\"ColumnDataSource\"},{\"attributes\":{},\"id\":\"1f0647e2-9ec1-47c7-9d09-6affe1f25834\",\"type\":\"UnionRenderers\"},{\"attributes\":{\"callback\":null,\"data\":{\"x\":{\"__ndarray__\":\"HwV3SlHjwL8x0Q6IocHAv/mdvAbUc8C/yxdPIWgvwL+Gt330Xci/v14/ptQBP7+/Rq5rrNe7vr9+7MMAjUq+vzk8sde/8r2/EtZZHLfBvb9bqtsSrMW9vw8fGfP8Fb6/vC02b/HNvr+gbgB2jO2/v1RN3RbH0b6/jyehqEIvub8oN/Zmpmywv/9X81YMM5e/TfRJ1cl4mz+2BoWUNRK2P0TUGINfoMQ/R2RCvaXTzz+ShFV9ihHQPwTxVAr2tsY/+IjfnP3LvT/6ZyI58C6yP6wMPOwHUKg/A6RQvWYKoj+fJMuKBhqcP+gEgM8835Y/kWdP8hwVkz+z3nGFxzSPP0EsW/TXNog/Esn4PozJgT/Z4rycX7ZlP+x+6knS+3W/UftUz1OUhr96ZQUJHEmHv5CmOjr/UX2/CtARD3CSaL8NBNq9tpZrP/eaM6hm/JM/FKdflYERpz8X+Lj7CzOwP6u259MvC7I/5e3sdH1Ztz84JJueV0HAP2QVGL3sl8M/U2GVvCjjwz/bMxBIsrPDP1SPot5PncM/apGt1tGywz9+UJeBs33DP6cJhpF6f8I/Si+t/fm7wD9OGP0m99O8PzKlzZXQG7g/UjSvgZ4atD+4SJ44pV+xP5Tr7+6ZdLA/7mTBQ9vEsT8VSwadWDK0PxasjxRtR7Q/25mMNKTDrj8J9lWzVF2bP+hKOimUmFW/kgoAbEwUj7/fiKoZM3SOvzjlXz9Aw4G/SEwTOG8pbr/OHP91Xw9SvwAU8ykHLOG+jrYarF6KQT/4cpcw4QVjPwQ917CXi8k/\",\"dtype\":\"float64\",\"shape\":[75]},\"y\":{\"__ndarray__\":\"GhExyth1ND/Sv8nbtpRIP2vylNV0PVE/aTum7souWD/At0SJ8fVgPw3Iuahxymc/MSNhhJWvcD/bTfBN02d3P2zb5nxnaoA/CD5h5MAGhz8NmeH1TyaQP+zrCsc9p5Y/LbKd76fGnz/bLW5ISEmmPww9YvTcQq8/JV2OstnstT8Er5Y7M8G+P0c+r3jqkcU/5h99k6ZBzj88bCIzFzjVP4enV8oyxN0//yH99nXg5D8qOpLLf0jtP5kqGJXUifQ/c9cS8kHP/D+/DpwzojQEQIEmwoanVwxA4lgXt9HgE0BSSZ2AJuIbQAMJih9jjiNA5q4l5INuK0AwTKYKRj0zQNv5fmq8/DpAaCJseHrtQkB/+zpwzoxKQM3MzMzMeFJAZmZmZmZqWEAAAAAAAFxeQM3MzMzMJmJAmpmZmZkfZUBmZmZmZhhoQDMzMzMzEWtAAAAAAAAKbkBmZmZmZoFwQM3MzMzM/XFAMzMzMzN6c0CamZmZmfZ0QAAAAAAAc3ZAZmZmZmbvd0DNzMzMzGt5QDMzMzMz6HpAmpmZmZlkfEAAAAAAAOF9QGZmZmZmXX9AZmZmZuZsgECamZmZGSuBQM3MzMxM6YFAAAAAAICngkAzMzMzs2WDQGZmZmbmI4RAmpmZmRnihEDNzMzMTKCFQAAAAACAXoZAMzMzM7Mch0BmZmZm5tqHQJqZmZkZmYhAzczMzExXiUAAAAAAgBWKQDMzMzOz04pAZmZmZuaRi0CamZmZGVCMQM3MzMxMDo1AAAAAAIDMjUAzMzMzs4qOQGZmZmbmSI9A\",\"dtype\":\"float64\",\"shape\":[75]}},\"selected\":{\"id\":\"89b6c8f5-5957-442e-9351-0a49faaf27d5\",\"type\":\"Selection\"},\"selection_policy\":{\"id\":\"2513aee1-8182-41d6-83b7-4f92ede2ef33\",\"type\":\"UnionRenderers\"}},\"id\":\"8ef1807d-edd2-437d-9191-070949666546\",\"type\":\"ColumnDataSource\"},{\"attributes\":{\"label\":{\"value\":\"CRD\"},\"renderers\":[{\"id\":\"d5192ff5-bd70-410b-9461-cc100dfc36db\",\"type\":\"GlyphRenderer\"},{\"id\":\"cbdcb30d-a9f6-4e44-a604-721d97f38867\",\"type\":\"GlyphRenderer\"}]},\"id\":\"72baa209-35a9-470c-9a4a-fb53a9054fd6\",\"type\":\"LegendItem\"},{\"attributes\":{\"fill_alpha\":{\"value\":0.1},\"fill_color\":{\"value\":\"#1f77b4\"},\"line_alpha\":{\"value\":0.1},\"line_color\":{\"value\":\"#1f77b4\"},\"x\":{\"field\":\"x\"},\"y\":{\"field\":\"y\"}},\"id\":\"1b5a7170-5311-4370-8ab0-d26dcf492bdf\",\"type\":\"Square\"},{\"attributes\":{\"ticker\":null},\"id\":\"f7fbbe42-ba0d-40d9-b384-f9ae326f4cb7\",\"type\":\"LogTickFormatter\"},{\"attributes\":{},\"id\":\"97df5dd5-73eb-48ee-9a8c-e2867fa23faa\",\"type\":\"HelpTool\"},{\"attributes\":{\"data_source\":{\"id\":\"8ef1807d-edd2-437d-9191-070949666546\",\"type\":\"ColumnDataSource\"},\"glyph\":{\"id\":\"2e432c21-70d9-4be0-8247-d113ccdfc103\",\"type\":\"Line\"},\"hover_glyph\":null,\"muted_glyph\":null,\"nonselection_glyph\":{\"id\":\"a1768806-c634-486c-85b0-fb033355983f\",\"type\":\"Line\"},\"selection_glyph\":null,\"view\":{\"id\":\"9aafdaaa-d8c4-4a1c-9e98-d85000e773ce\",\"type\":\"CDSView\"}},\"id\":\"b2a67ccc-45f6-4021-a0a9-4a4ea991ec9d\",\"type\":\"GlyphRenderer\"},{\"attributes\":{\"label\":{\"value\":\"WGT igg=10 wgt_flux=2\"},\"renderers\":[{\"id\":\"99eaf92d-eda5-4203-9bbc-ba40aaf7f4f9\",\"type\":\"GlyphRenderer\"},{\"id\":\"94c7ea1b-927f-462f-9ece-4630b5c2ae59\",\"type\":\"GlyphRenderer\"}]},\"id\":\"dc13a4e2-ef87-4c24-a33a-6eb4c1d8d897\",\"type\":\"LegendItem\"},{\"attributes\":{\"line_alpha\":0.1,\"line_color\":\"#1f77b4\",\"line_width\":3,\"x\":{\"field\":\"x\"},\"y\":{\"field\":\"y\"}},\"id\":\"a1768806-c634-486c-85b0-fb033355983f\",\"type\":\"Line\"},{\"attributes\":{},\"id\":\"89b6c8f5-5957-442e-9351-0a49faaf27d5\",\"type\":\"Selection\"},{\"attributes\":{},\"id\":\"27918188-5dbb-495b-9fb4-9252a6fcd7af\",\"type\":\"SaveTool\"},{\"attributes\":{},\"id\":\"850a5399-0107-4830-b28a-e38efd4b6492\",\"type\":\"BasicTickFormatter\"},{\"attributes\":{\"callback\":null,\"end\":0.01,\"start\":1020},\"id\":\"3e36affa-6b8d-4884-8c1d-cd26ee06ff2a\",\"type\":\"Range1d\"},{\"attributes\":{},\"id\":\"c0fc8e3d-95bf-4052-a758-c355a988dfba\",\"type\":\"UnionRenderers\"},{\"attributes\":{},\"id\":\"4bc4cadf-a746-4c78-ae88-24c9d4c9473e\",\"type\":\"UnionRenderers\"},{\"attributes\":{},\"id\":\"807006b7-779f-416b-b7f7-36360fd5d916\",\"type\":\"Selection\"},{\"attributes\":{},\"id\":\"99320480-4bb4-4b36-9a8b-b7d13b386812\",\"type\":\"Selection\"},{\"attributes\":{},\"id\":\"2513aee1-8182-41d6-83b7-4f92ede2ef33\",\"type\":\"UnionRenderers\"},{\"attributes\":{\"data_source\":{\"id\":\"e280a5be-f1cc-4c27-8e39-9e73991cf78c\",\"type\":\"ColumnDataSource\"},\"glyph\":{\"id\":\"23092a86-a917-4ab7-81cb-a9f26001ddd9\",\"type\":\"Line\"},\"hover_glyph\":null,\"muted_glyph\":null,\"nonselection_glyph\":{\"id\":\"ee16f218-68e8-43ea-869d-29dfbd029498\",\"type\":\"Line\"},\"selection_glyph\":null,\"view\":{\"id\":\"9cb7f256-c3a0-4155-afa2-cddb544352d5\",\"type\":\"CDSView\"}},\"id\":\"30396eec-9858-4789-b9b3-e011437cfe9f\",\"type\":\"GlyphRenderer\"},{\"attributes\":{},\"id\":\"35cf8e28-eeb2-4036-9efe-eebfaf5a3680\",\"type\":\"Selection\"},{\"attributes\":{},\"id\":\"14da4587-573d-49e8-b62a-c32d6869f63b\",\"type\":\"ResetTool\"},{\"attributes\":{},\"id\":\"49e966e4-5d49-48b0-ba82-506143e1a98a\",\"type\":\"UnionRenderers\"},{\"attributes\":{},\"id\":\"60b45610-b5f4-4300-83af-98e774c47910\",\"type\":\"BasicTickFormatter\"},{\"attributes\":{\"fill_alpha\":{\"value\":0.1},\"fill_color\":{\"value\":\"#1f77b4\"},\"line_alpha\":{\"value\":0.1},\"line_color\":{\"value\":\"#1f77b4\"},\"x\":{\"field\":\"x\"},\"y\":{\"field\":\"y\"}},\"id\":\"f202406d-a0cc-4c49-b0ac-9ad1ebc3d2c3\",\"type\":\"Circle\"},{\"attributes\":{},\"id\":\"10fb3daa-2d69-4f5e-b12c-b1bb74eac571\",\"type\":\"Selection\"},{\"attributes\":{},\"id\":\"48739354-c7b9-4526-93af-593970076735\",\"type\":\"LinearScale\"},{\"attributes\":{\"axis_label\":\"cooling rate [K/day]\",\"formatter\":{\"id\":\"60b45610-b5f4-4300-83af-98e774c47910\",\"type\":\"BasicTickFormatter\"},\"plot\":{\"id\":\"350e91fe-21c9-4cbe-a7e8-09a4de0a814a\",\"subtype\":\"Figure\",\"type\":\"Plot\"},\"ticker\":{\"id\":\"b4194320-cc6f-4fc4-a80d-ff0e18ed5d26\",\"type\":\"BasicTicker\"}},\"id\":\"e6d06b1d-58c5-4a5f-9241-519baa30397c\",\"type\":\"LinearAxis\"},{\"attributes\":{},\"id\":\"3cf3c77f-c8cb-45da-a079-1325c4a6bb4d\",\"type\":\"WheelZoomTool\"},{\"attributes\":{\"items\":[{\"id\":\"226ae501-0715-41a5-9c05-4f0964860e86\",\"type\":\"LegendItem\"},{\"id\":\"72baa209-35a9-470c-9a4a-fb53a9054fd6\",\"type\":\"LegendItem\"},{\"id\":\"dc13a4e2-ef87-4c24-a33a-6eb4c1d8d897\",\"type\":\"LegendItem\"}],\"label_text_font_size\":{\"value\":\"8pt\"},\"location\":[10,-30],\"plot\":{\"id\":\"350e91fe-21c9-4cbe-a7e8-09a4de0a814a\",\"subtype\":\"Figure\",\"type\":\"Plot\"}},\"id\":\"231c050f-fd4c-4ea2-b492-493691397a78\",\"type\":\"Legend\"},{\"attributes\":{},\"id\":\"31de773c-3fb3-45c0-ab8e-b1fc103f2165\",\"type\":\"HelpTool\"},{\"attributes\":{\"toolbar\":{\"id\":\"2d012de6-9745-4dd9-bdde-b7a275ad8746\",\"type\":\"ProxyToolbar\"},\"toolbar_location\":\"above\"},\"id\":\"3563f313-ed5d-408c-a7ea-01a6d42f51f0\",\"type\":\"ToolbarBox\"},{\"attributes\":{},\"id\":\"a69a69d5-e5dc-405d-a2c5-cd847c2b00af\",\"type\":\"LogScale\"},{\"attributes\":{\"callback\":null,\"data\":{\"x\":{\"__ndarray__\":\"HwV3SlHjwL8x0Q6IocHAv/mdvAbUc8C/yxdPIWgvwL+Gt330Xci/v14/ptQBP7+/Rq5rrNe7vr9+7MMAjUq+vzk8sde/8r2/EtZZHLfBvb9bqtsSrMW9vw8fGfP8Fb6/vC02b/HNvr+gbgB2jO2/v1RN3RbH0b6/jyehqEIvub8oN/Zmpmywv/9X81YMM5e/TfRJ1cl4mz+2BoWUNRK2P0TUGINfoMQ/R2RCvaXTzz+ShFV9ihHQPwTxVAr2tsY/+IjfnP3LvT/6ZyI58C6yP6wMPOwHUKg/A6RQvWYKoj+fJMuKBhqcP+gEgM8835Y/kWdP8hwVkz+z3nGFxzSPP0EsW/TXNog/Esn4PozJgT/Z4rycX7ZlP+x+6knS+3W/UftUz1OUhr96ZQUJHEmHv5CmOjr/UX2/CtARD3CSaL8NBNq9tpZrP/eaM6hm/JM/FKdflYERpz8X+Lj7CzOwP6u259MvC7I/5e3sdH1Ztz84JJueV0HAP2QVGL3sl8M/U2GVvCjjwz/bMxBIsrPDP1SPot5PncM/apGt1tGywz9+UJeBs33DP6cJhpF6f8I/Si+t/fm7wD9OGP0m99O8PzKlzZXQG7g/UjSvgZ4atD+4SJ44pV+xP5Tr7+6ZdLA/7mTBQ9vEsT8VSwadWDK0PxasjxRtR7Q/25mMNKTDrj8J9lWzVF2bP+hKOimUmFW/kgoAbEwUj7/fiKoZM3SOvzjlXz9Aw4G/SEwTOG8pbr/OHP91Xw9SvwAU8ykHLOG+jrYarF6KQT/4cpcw4QVjPwQ917CXi8k/\",\"dtype\":\"float64\",\"shape\":[75]},\"y\":{\"__ndarray__\":\"GhExyth1ND/Sv8nbtpRIP2vylNV0PVE/aTum7souWD/At0SJ8fVgPw3Iuahxymc/MSNhhJWvcD/bTfBN02d3P2zb5nxnaoA/CD5h5MAGhz8NmeH1TyaQP+zrCsc9p5Y/LbKd76fGnz/bLW5ISEmmPww9YvTcQq8/JV2OstnstT8Er5Y7M8G+P0c+r3jqkcU/5h99k6ZBzj88bCIzFzjVP4enV8oyxN0//yH99nXg5D8qOpLLf0jtP5kqGJXUifQ/c9cS8kHP/D+/DpwzojQEQIEmwoanVwxA4lgXt9HgE0BSSZ2AJuIbQAMJih9jjiNA5q4l5INuK0AwTKYKRj0zQNv5fmq8/DpAaCJseHrtQkB/+zpwzoxKQM3MzMzMeFJAZmZmZmZqWEAAAAAAAFxeQM3MzMzMJmJAmpmZmZkfZUBmZmZmZhhoQDMzMzMzEWtAAAAAAAAKbkBmZmZmZoFwQM3MzMzM/XFAMzMzMzN6c0CamZmZmfZ0QAAAAAAAc3ZAZmZmZmbvd0DNzMzMzGt5QDMzMzMz6HpAmpmZmZlkfEAAAAAAAOF9QGZmZmZmXX9AZmZmZuZsgECamZmZGSuBQM3MzMxM6YFAAAAAAICngkAzMzMzs2WDQGZmZmbmI4RAmpmZmRnihEDNzMzMTKCFQAAAAACAXoZAMzMzM7Mch0BmZmZm5tqHQJqZmZkZmYhAzczMzExXiUAAAAAAgBWKQDMzMzOz04pAZmZmZuaRi0CamZmZGVCMQM3MzMxMDo1AAAAAAIDMjUAzMzMzs4qOQGZmZmbmSI9A\",\"dtype\":\"float64\",\"shape\":[75]}},\"selected\":{\"id\":\"a049488a-6158-4223-b3b9-646df071ffe6\",\"type\":\"Selection\"},\"selection_policy\":{\"id\":\"7b22a727-1f40-49d1-b0e1-345d1436a529\",\"type\":\"UnionRenderers\"}},\"id\":\"2184fbaf-7d4d-4958-b444-83f4b2b2cd4f\",\"type\":\"ColumnDataSource\"},{\"attributes\":{\"source\":{\"id\":\"2bca8c3f-6508-4655-a2f0-a4baf6f71507\",\"type\":\"ColumnDataSource\"}},\"id\":\"606f8017-9d7d-418d-893c-fc740adc9c10\",\"type\":\"CDSView\"},{\"attributes\":{\"num_minor_ticks\":10},\"id\":\"d773405f-cd88-48f4-870c-0999d521d96d\",\"type\":\"LogTicker\"},{\"attributes\":{\"plot\":null,\"text\":\"Log pressure scale\"},\"id\":\"10b0a675-9a9e-4e5d-8cac-e75c42a0796e\",\"type\":\"Title\"},{\"attributes\":{\"plot\":{\"id\":\"350e91fe-21c9-4cbe-a7e8-09a4de0a814a\",\"subtype\":\"Figure\",\"type\":\"Plot\"},\"ticker\":{\"id\":\"b4194320-cc6f-4fc4-a80d-ff0e18ed5d26\",\"type\":\"BasicTicker\"}},\"id\":\"615f656a-6536-4c8f-a1cd-c9b5666f0d37\",\"type\":\"Grid\"},{\"attributes\":{},\"id\":\"68b6aa6c-9c58-4641-866f-f5fc6ea773f1\",\"type\":\"PanTool\"},{\"attributes\":{\"axis_label\":\"pressure [mb]\",\"formatter\":{\"id\":\"f7fbbe42-ba0d-40d9-b384-f9ae326f4cb7\",\"type\":\"LogTickFormatter\"},\"plot\":{\"id\":\"350e91fe-21c9-4cbe-a7e8-09a4de0a814a\",\"subtype\":\"Figure\",\"type\":\"Plot\"},\"ticker\":{\"id\":\"d773405f-cd88-48f4-870c-0999d521d96d\",\"type\":\"LogTicker\"}},\"id\":\"0242e0aa-0ee3-445b-8ce2-631c4e97a601\",\"type\":\"LogAxis\"},{\"attributes\":{},\"id\":\"b4194320-cc6f-4fc4-a80d-ff0e18ed5d26\",\"type\":\"BasicTicker\"},{\"attributes\":{},\"id\":\"0c0f2195-a1b4-4324-b6ce-d80feeb91ff3\",\"type\":\"ResetTool\"},{\"attributes\":{\"overlay\":{\"id\":\"56dcbab1-3b35-44ae-b24e-0b8c08c9cc68\",\"type\":\"BoxAnnotation\"}},\"id\":\"d5559345-6ca1-4f94-ac47-e73bbecc59f6\",\"type\":\"BoxZoomTool\"},{\"attributes\":{\"line_alpha\":0.6,\"line_color\":\"#e41a1c\",\"line_dash\":[6],\"line_width\":5,\"x\":{\"field\":\"x\"},\"y\":{\"field\":\"y\"}},\"id\":\"23092a86-a917-4ab7-81cb-a9f26001ddd9\",\"type\":\"Line\"},{\"attributes\":{\"active_drag\":\"auto\",\"active_inspect\":\"auto\",\"active_scroll\":\"auto\",\"active_tap\":\"auto\",\"tools\":[{\"id\":\"68b6aa6c-9c58-4641-866f-f5fc6ea773f1\",\"type\":\"PanTool\"},{\"id\":\"3cf3c77f-c8cb-45da-a079-1325c4a6bb4d\",\"type\":\"WheelZoomTool\"},{\"id\":\"d5559345-6ca1-4f94-ac47-e73bbecc59f6\",\"type\":\"BoxZoomTool\"},{\"id\":\"ebb38af3-f3dc-4a3c-ab3d-6dfec9a5d579\",\"type\":\"SaveTool\"},{\"id\":\"0c0f2195-a1b4-4324-b6ce-d80feeb91ff3\",\"type\":\"ResetTool\"},{\"id\":\"31de773c-3fb3-45c0-ab8e-b1fc103f2165\",\"type\":\"HelpTool\"}]},\"id\":\"f3c5d285-73af-40f6-a731-028942cfbdbc\",\"type\":\"Toolbar\"},{\"attributes\":{},\"id\":\"ebb38af3-f3dc-4a3c-ab3d-6dfec9a5d579\",\"type\":\"SaveTool\"},{\"attributes\":{\"data_source\":{\"id\":\"3f1d6887-7fd7-48f8-ab5f-ea9b04a32176\",\"type\":\"ColumnDataSource\"},\"glyph\":{\"id\":\"4a4e8741-7bce-415a-97d8-f040094c4513\",\"type\":\"Line\"},\"hover_glyph\":null,\"muted_glyph\":null,\"nonselection_glyph\":{\"id\":\"98223f38-fe73-4194-b229-1aef7555db9e\",\"type\":\"Line\"},\"selection_glyph\":null,\"view\":{\"id\":\"24216350-a106-435f-83cf-c9a42eb4c9c5\",\"type\":\"CDSView\"}},\"id\":\"4fd4f30c-8820-4ea9-97ff-7e5937451549\",\"type\":\"GlyphRenderer\"},{\"attributes\":{\"callback\":null,\"end\":0.25603489690000003,\"start\":-0.1321818869},\"id\":\"b91d7a13-824f-4c16-885d-a5f0e6f54f0a\",\"type\":\"Range1d\"},{\"attributes\":{\"line_alpha\":0.1,\"line_color\":\"#1f77b4\",\"line_dash\":[6],\"line_width\":5,\"x\":{\"field\":\"x\"},\"y\":{\"field\":\"y\"}},\"id\":\"98223f38-fe73-4194-b229-1aef7555db9e\",\"type\":\"Line\"},{\"attributes\":{\"dimension\":1,\"plot\":{\"id\":\"350e91fe-21c9-4cbe-a7e8-09a4de0a814a\",\"subtype\":\"Figure\",\"type\":\"Plot\"},\"ticker\":{\"id\":\"d773405f-cd88-48f4-870c-0999d521d96d\",\"type\":\"LogTicker\"}},\"id\":\"955366db-7ac6-4906-97b1-db33c5def550\",\"type\":\"Grid\"},{\"attributes\":{\"bottom_units\":\"screen\",\"fill_alpha\":{\"value\":0.5},\"fill_color\":{\"value\":\"lightgrey\"},\"left_units\":\"screen\",\"level\":\"overlay\",\"line_alpha\":{\"value\":1.0},\"line_color\":{\"value\":\"black\"},\"line_dash\":[4,4],\"line_width\":{\"value\":2},\"plot\":null,\"render_mode\":\"css\",\"right_units\":\"screen\",\"top_units\":\"screen\"},\"id\":\"56dcbab1-3b35-44ae-b24e-0b8c08c9cc68\",\"type\":\"BoxAnnotation\"},{\"attributes\":{\"data_source\":{\"id\":\"2bca8c3f-6508-4655-a2f0-a4baf6f71507\",\"type\":\"ColumnDataSource\"},\"glyph\":{\"id\":\"0830cf04-17d6-4a88-8ef9-fb38a31c9564\",\"type\":\"Square\"},\"hover_glyph\":null,\"muted_glyph\":null,\"nonselection_glyph\":{\"id\":\"1b5a7170-5311-4370-8ab0-d26dcf492bdf\",\"type\":\"Square\"},\"selection_glyph\":null,\"view\":{\"id\":\"606f8017-9d7d-418d-893c-fc740adc9c10\",\"type\":\"CDSView\"}},\"id\":\"99eaf92d-eda5-4203-9bbc-ba40aaf7f4f9\",\"type\":\"GlyphRenderer\"},{\"attributes\":{\"line_alpha\":0.6,\"line_color\":\"#e41a1c\",\"line_dash\":[6],\"line_width\":5,\"x\":{\"field\":\"x\"},\"y\":{\"field\":\"y\"}},\"id\":\"4a4e8741-7bce-415a-97d8-f040094c4513\",\"type\":\"Line\"}],\"root_ids\":[\"80c965f2-05a9-4175-8899-f2ef6b9c4e01\"]},\"title\":\"Bokeh Application\",\"version\":\"0.12.16\"}};\n",
       "  var render_items = [{\"docid\":\"3e55cbcc-f0d2-4a40-bb67-f360a8ff078c\",\"elementid\":\"1c51473b-693a-47a1-82e5-b83c6cb41c41\",\"modelid\":\"80c965f2-05a9-4175-8899-f2ef6b9c4e01\"}];\n",
       "  root.Bokeh.embed.embed_items_notebook(docs_json, render_items);\n",
       "\n",
       "  }\n",
       "  if (root.Bokeh !== undefined) {\n",
       "    embed_document(root);\n",
       "  } else {\n",
       "    var attempts = 0;\n",
       "    var timer = setInterval(function(root) {\n",
       "      if (root.Bokeh !== undefined) {\n",
       "        embed_document(root);\n",
       "        clearInterval(timer);\n",
       "      }\n",
       "      attempts++;\n",
       "      if (attempts > 100) {\n",
       "        console.log(\"Bokeh: ERROR: Unable to run BokehJS code because BokehJS library is missing\")\n",
       "        clearInterval(timer);\n",
       "      }\n",
       "    }, 10, root)\n",
       "  }\n",
       "})(window);"
      ],
      "application/vnd.bokehjs_exec.v0+json": ""
     },
     "metadata": {
      "application/vnd.bokehjs_exec.v0+json": {
       "id": "80c965f2-05a9-4175-8899-f2ef6b9c4e01"
      }
     },
     "output_type": "display_data"
    },
    {
     "name": "stdout",
     "output_type": "stream",
     "text": [
      "FIGURE. Cooling rate profiles.\n"
     ]
    },
    {
     "data": {
      "text/html": [
       "<a id=\"Flux_Comparison\"></a>"
      ],
      "text/plain": [
       "<IPython.core.display.HTML object>"
      ]
     },
     "metadata": {},
     "output_type": "display_data"
    },
    {
     "data": {
      "text/markdown": [
       "# Flux Comparison"
      ],
      "text/plain": [
       "<IPython.core.display.Markdown object>"
      ]
     },
     "metadata": {},
     "output_type": "display_data"
    },
    {
     "data": {
      "text/html": [
       "<div>\n",
       "<style scoped>\n",
       "    .dataframe tbody tr th:only-of-type {\n",
       "        vertical-align: middle;\n",
       "    }\n",
       "\n",
       "    .dataframe tbody tr th {\n",
       "        vertical-align: top;\n",
       "    }\n",
       "\n",
       "    .dataframe thead th {\n",
       "        text-align: right;\n",
       "    }\n",
       "</style>\n",
       "<table border=\"1\" class=\"dataframe\">\n",
       "  <thead>\n",
       "    <tr style=\"text-align: right;\">\n",
       "      <th></th>\n",
       "      <th></th>\n",
       "      <th>flug</th>\n",
       "      <th>fldg</th>\n",
       "      <th>fnetg</th>\n",
       "    </tr>\n",
       "    <tr>\n",
       "      <th>pressure</th>\n",
       "      <th>level</th>\n",
       "      <th></th>\n",
       "      <th></th>\n",
       "      <th></th>\n",
       "    </tr>\n",
       "  </thead>\n",
       "  <tbody>\n",
       "    <tr>\n",
       "      <th>0.0000</th>\n",
       "      <th>1</th>\n",
       "      <td>-7.715035</td>\n",
       "      <td>0.000000</td>\n",
       "      <td>-7.715035</td>\n",
       "    </tr>\n",
       "    <tr>\n",
       "      <th>1.0685</th>\n",
       "      <th>24</th>\n",
       "      <td>-7.718865</td>\n",
       "      <td>0.021939</td>\n",
       "      <td>-7.696926</td>\n",
       "    </tr>\n",
       "    <tr>\n",
       "      <th>1013.0000</th>\n",
       "      <th>76</th>\n",
       "      <td>-35.855033</td>\n",
       "      <td>35.269794</td>\n",
       "      <td>-0.585239</td>\n",
       "    </tr>\n",
       "  </tbody>\n",
       "</table>\n",
       "</div>"
      ],
      "text/plain": [
       "                      flug       fldg     fnetg\n",
       "pressure  level                                \n",
       "0.0000    1      -7.715035   0.000000 -7.715035\n",
       "1.0685    24     -7.718865   0.021939 -7.696926\n",
       "1013.0000 76    -35.855033  35.269794 -0.585239"
      ]
     },
     "metadata": {},
     "output_type": "display_data"
    },
    {
     "name": "stdout",
     "output_type": "stream",
     "text": [
      "Table. Fluxes. CRD\n"
     ]
    },
    {
     "data": {
      "text/html": [
       "<div>\n",
       "<style scoped>\n",
       "    .dataframe tbody tr th:only-of-type {\n",
       "        vertical-align: middle;\n",
       "    }\n",
       "\n",
       "    .dataframe tbody tr th {\n",
       "        vertical-align: top;\n",
       "    }\n",
       "\n",
       "    .dataframe thead th {\n",
       "        text-align: right;\n",
       "    }\n",
       "</style>\n",
       "<table border=\"1\" class=\"dataframe\">\n",
       "  <thead>\n",
       "    <tr style=\"text-align: right;\">\n",
       "      <th></th>\n",
       "      <th></th>\n",
       "      <th>flug</th>\n",
       "      <th>fldg</th>\n",
       "      <th>fnetg</th>\n",
       "    </tr>\n",
       "    <tr>\n",
       "      <th>pressure</th>\n",
       "      <th>level</th>\n",
       "      <th></th>\n",
       "      <th></th>\n",
       "      <th></th>\n",
       "    </tr>\n",
       "  </thead>\n",
       "  <tbody>\n",
       "    <tr>\n",
       "      <th>0.0000</th>\n",
       "      <th>1</th>\n",
       "      <td>-7.653818</td>\n",
       "      <td>0.000000</td>\n",
       "      <td>-7.653818</td>\n",
       "    </tr>\n",
       "    <tr>\n",
       "      <th>1.0685</th>\n",
       "      <th>24</th>\n",
       "      <td>-7.657222</td>\n",
       "      <td>0.021522</td>\n",
       "      <td>-7.635701</td>\n",
       "    </tr>\n",
       "    <tr>\n",
       "      <th>1013.0000</th>\n",
       "      <th>76</th>\n",
       "      <td>-35.855033</td>\n",
       "      <td>35.278623</td>\n",
       "      <td>-0.576409</td>\n",
       "    </tr>\n",
       "  </tbody>\n",
       "</table>\n",
       "</div>"
      ],
      "text/plain": [
       "                      flug       fldg     fnetg\n",
       "pressure  level                                \n",
       "0.0000    1      -7.653818   0.000000 -7.653818\n",
       "1.0685    24     -7.657222   0.021522 -7.635701\n",
       "1013.0000 76    -35.855033  35.278623 -0.576409"
      ]
     },
     "metadata": {},
     "output_type": "display_data"
    },
    {
     "name": "stdout",
     "output_type": "stream",
     "text": [
      "Table. Fluxes. WGT igg=10 wgt_flux=1\n"
     ]
    },
    {
     "data": {
      "text/html": [
       "<div>\n",
       "<style scoped>\n",
       "    .dataframe tbody tr th:only-of-type {\n",
       "        vertical-align: middle;\n",
       "    }\n",
       "\n",
       "    .dataframe tbody tr th {\n",
       "        vertical-align: top;\n",
       "    }\n",
       "\n",
       "    .dataframe thead th {\n",
       "        text-align: right;\n",
       "    }\n",
       "</style>\n",
       "<table border=\"1\" class=\"dataframe\">\n",
       "  <thead>\n",
       "    <tr style=\"text-align: right;\">\n",
       "      <th></th>\n",
       "      <th></th>\n",
       "      <th>flug</th>\n",
       "      <th>fldg</th>\n",
       "      <th>fnetg</th>\n",
       "    </tr>\n",
       "    <tr>\n",
       "      <th>pressure</th>\n",
       "      <th>level</th>\n",
       "      <th></th>\n",
       "      <th></th>\n",
       "      <th></th>\n",
       "    </tr>\n",
       "  </thead>\n",
       "  <tbody>\n",
       "    <tr>\n",
       "      <th>1.000000e-08</th>\n",
       "      <th>1</th>\n",
       "      <td>-7.574985</td>\n",
       "      <td>1.875993e-09</td>\n",
       "      <td>-7.574985</td>\n",
       "    </tr>\n",
       "    <tr>\n",
       "      <th>1.068500e+00</th>\n",
       "      <th>24</th>\n",
       "      <td>-7.578204</td>\n",
       "      <td>2.120368e-02</td>\n",
       "      <td>-7.557000</td>\n",
       "    </tr>\n",
       "    <tr>\n",
       "      <th>1.013000e+03</th>\n",
       "      <th>76</th>\n",
       "      <td>-35.855030</td>\n",
       "      <td>3.528192e+01</td>\n",
       "      <td>-0.573108</td>\n",
       "    </tr>\n",
       "  </tbody>\n",
       "</table>\n",
       "</div>"
      ],
      "text/plain": [
       "                         flug          fldg     fnetg\n",
       "pressure     level                                   \n",
       "1.000000e-08 1      -7.574985  1.875993e-09 -7.574985\n",
       "1.068500e+00 24     -7.578204  2.120368e-02 -7.557000\n",
       "1.013000e+03 76    -35.855030  3.528192e+01 -0.573108"
      ]
     },
     "metadata": {},
     "output_type": "display_data"
    },
    {
     "name": "stdout",
     "output_type": "stream",
     "text": [
      "Table. Fluxes. CLIRAD\n"
     ]
    },
    {
     "data": {
      "text/html": [
       "<div>\n",
       "<style scoped>\n",
       "    .dataframe tbody tr th:only-of-type {\n",
       "        vertical-align: middle;\n",
       "    }\n",
       "\n",
       "    .dataframe tbody tr th {\n",
       "        vertical-align: top;\n",
       "    }\n",
       "\n",
       "    .dataframe thead th {\n",
       "        text-align: right;\n",
       "    }\n",
       "</style>\n",
       "<table border=\"1\" class=\"dataframe\">\n",
       "  <thead>\n",
       "    <tr style=\"text-align: right;\">\n",
       "      <th></th>\n",
       "      <th></th>\n",
       "      <th>flug</th>\n",
       "      <th>fldg</th>\n",
       "      <th>fnetg</th>\n",
       "    </tr>\n",
       "    <tr>\n",
       "      <th>pressure</th>\n",
       "      <th>level</th>\n",
       "      <th></th>\n",
       "      <th></th>\n",
       "      <th></th>\n",
       "    </tr>\n",
       "  </thead>\n",
       "  <tbody>\n",
       "    <tr>\n",
       "      <th>0.0000</th>\n",
       "      <th>1</th>\n",
       "      <td>6.121662e-02</td>\n",
       "      <td>0.000000</td>\n",
       "      <td>0.061217</td>\n",
       "    </tr>\n",
       "    <tr>\n",
       "      <th>1.0685</th>\n",
       "      <th>24</th>\n",
       "      <td>6.164266e-02</td>\n",
       "      <td>-0.000418</td>\n",
       "      <td>0.061225</td>\n",
       "    </tr>\n",
       "    <tr>\n",
       "      <th>1013.0000</th>\n",
       "      <th>76</th>\n",
       "      <td>-1.950000e-07</td>\n",
       "      <td>0.008829</td>\n",
       "      <td>0.008830</td>\n",
       "    </tr>\n",
       "  </tbody>\n",
       "</table>\n",
       "</div>"
      ],
      "text/plain": [
       "                         flug      fldg     fnetg\n",
       "pressure  level                                  \n",
       "0.0000    1      6.121662e-02  0.000000  0.061217\n",
       "1.0685    24     6.164266e-02 -0.000418  0.061225\n",
       "1013.0000 76    -1.950000e-07  0.008829  0.008830"
      ]
     },
     "metadata": {},
     "output_type": "display_data"
    },
    {
     "name": "stdout",
     "output_type": "stream",
     "text": [
      "Table. Fluxes. (WGT igg=10 wgt_flux=1) - (CRD)\n"
     ]
    },
    {
     "data": {
      "text/html": [
       "<div>\n",
       "<style scoped>\n",
       "    .dataframe tbody tr th:only-of-type {\n",
       "        vertical-align: middle;\n",
       "    }\n",
       "\n",
       "    .dataframe tbody tr th {\n",
       "        vertical-align: top;\n",
       "    }\n",
       "\n",
       "    .dataframe thead th {\n",
       "        text-align: right;\n",
       "    }\n",
       "</style>\n",
       "<table border=\"1\" class=\"dataframe\">\n",
       "  <thead>\n",
       "    <tr style=\"text-align: right;\">\n",
       "      <th></th>\n",
       "      <th></th>\n",
       "      <th>flug</th>\n",
       "      <th>fldg</th>\n",
       "      <th>fnetg</th>\n",
       "    </tr>\n",
       "    <tr>\n",
       "      <th>pressure</th>\n",
       "      <th>level</th>\n",
       "      <th></th>\n",
       "      <th></th>\n",
       "      <th></th>\n",
       "    </tr>\n",
       "  </thead>\n",
       "  <tbody>\n",
       "    <tr>\n",
       "      <th>0.0000</th>\n",
       "      <th>1</th>\n",
       "      <td>0.140050</td>\n",
       "      <td>1.875993e-09</td>\n",
       "      <td>0.140050</td>\n",
       "    </tr>\n",
       "    <tr>\n",
       "      <th>1.0685</th>\n",
       "      <th>24</th>\n",
       "      <td>0.140662</td>\n",
       "      <td>-7.355310e-04</td>\n",
       "      <td>0.139926</td>\n",
       "    </tr>\n",
       "    <tr>\n",
       "      <th>1013.0000</th>\n",
       "      <th>76</th>\n",
       "      <td>0.000003</td>\n",
       "      <td>1.212800e-02</td>\n",
       "      <td>0.012131</td>\n",
       "    </tr>\n",
       "  </tbody>\n",
       "</table>\n",
       "</div>"
      ],
      "text/plain": [
       "                     flug          fldg     fnetg\n",
       "pressure  level                                  \n",
       "0.0000    1      0.140050  1.875993e-09  0.140050\n",
       "1.0685    24     0.140662 -7.355310e-04  0.139926\n",
       "1013.0000 76     0.000003  1.212800e-02  0.012131"
      ]
     },
     "metadata": {},
     "output_type": "display_data"
    },
    {
     "name": "stdout",
     "output_type": "stream",
     "text": [
      "Table. Fluxes. (CLIRAD) - (CRD)\n"
     ]
    },
    {
     "data": {
      "text/html": [
       "<a id=\"Best-fit_Parameters\"></a>"
      ],
      "text/plain": [
       "<IPython.core.display.HTML object>"
      ]
     },
     "metadata": {},
     "output_type": "display_data"
    },
    {
     "data": {
      "text/markdown": [
       "# Best-fit Parameters"
      ],
      "text/plain": [
       "<IPython.core.display.Markdown object>"
      ]
     },
     "metadata": {},
     "output_type": "display_data"
    },
    {
     "name": "stdout",
     "output_type": "stream",
     "text": [
      "Best-fit values for each (gas, band)\n",
      "------------------------------------\n",
      "o h2o band8\n",
      "  atmpro = mls\n",
      "  band = 8\n",
      "  commitnumber = a06b618\n",
      "  conc = None\n",
      "  dv = 0.001\n",
      "  klin = 0\n",
      "  molecule = h2o\n",
      "  ng_adju = [0, -1, 0]\n",
      "  ng_refs = [3, 2, 3]\n",
      "  nv = 1000\n",
      "  option_compute_btable = 0\n",
      "  option_compute_ktable = 1\n",
      "  option_wgt_flux = 1\n",
      "  option_wgt_k = 1\n",
      "  ref_pts = [(1, 250), (10, 250), (500, 250)]\n",
      "  tsfc = 294\n",
      "  vmax = 1900\n",
      "  vmin = 1380\n",
      "  w_diffuse = [(1.66, 1.66, 1.66), (1.66, 1.66), (1.66, 1.66, 1.66)]\n",
      "  wgt = [(0.55, 0.55, 0.85), (0.85, 0.85), (0, 0.3, 0.55)]\n"
     ]
    }
   ],
   "source": [
    "script()"
   ]
  },
  {
   "cell_type": "code",
   "execution_count": 13,
   "metadata": {
    "collapsed": true
   },
   "outputs": [
    {
     "data": {
      "text/html": [
       "<script>\n",
       "code_show=true; \n",
       "function code_toggle() {\n",
       " if (code_show){\n",
       " $('div.input').hide();\n",
       " } else {\n",
       " $('div.input').show();\n",
       " }\n",
       " code_show = !code_show\n",
       "} \n",
       "$( document ).ready(code_toggle);\n",
       "</script>\n",
       "<form action=\"javascript:code_toggle()\"><input type=\"submit\" value=\"Click here to toggle on/off the raw code.\"></form>"
      ],
      "text/plain": [
       "<IPython.core.display.HTML object>"
      ]
     },
     "execution_count": 13,
     "metadata": {},
     "output_type": "execute_result"
    }
   ],
   "source": [
    "display.HTML('''<script>\n",
    "code_show=true; \n",
    "function code_toggle() {\n",
    " if (code_show){\n",
    " $('div.input').hide();\n",
    " } else {\n",
    " $('div.input').show();\n",
    " }\n",
    " code_show = !code_show\n",
    "} \n",
    "$( document ).ready(code_toggle);\n",
    "</script>\n",
    "<form action=\"javascript:code_toggle()\"><input type=\"submit\" value=\"Click here to toggle on/off the raw code.\"></form>''')"
   ]
  }
 ],
 "metadata": {
  "kernelspec": {
   "display_name": "Python 3",
   "language": "python",
   "name": "python3"
  },
  "language_info": {
   "codemirror_mode": {
    "name": "ipython",
    "version": 3
   },
   "file_extension": ".py",
   "mimetype": "text/x-python",
   "name": "python",
   "nbconvert_exporter": "python",
   "pygments_lexer": "ipython3",
   "version": "3.6.1"
  }
 },
 "nbformat": 4,
 "nbformat_minor": 2
}
