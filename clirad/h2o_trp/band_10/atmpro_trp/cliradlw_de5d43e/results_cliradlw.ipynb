{
 "cells": [
  {
   "cell_type": "code",
   "execution_count": 1,
   "metadata": {
    "collapsed": true
   },
   "outputs": [],
   "source": [
    "%matplotlib inline\n",
    "import os\n",
    "import re\n",
    "import io\n",
    "import itertools\n",
    "import pprint\n",
    "\n",
    "from bokeh.io import output_notebook, show\n",
    "from bokeh.layouts import gridplot\n",
    "from bokeh.plotting import figure\n",
    "from bokeh.models import Range1d, Legend\n",
    "from bokeh.palettes import all_palettes\n",
    "\n",
    "import matplotlib\n",
    "import matplotlib.pyplot as plt\n",
    "import numpy as np\n",
    "import pandas as pd\n",
    "import xarray as xr\n",
    "\n",
    "import climatools.lblnew.bestfit_params as bestfits\n",
    "from climatools.lblnew import setup_bestfit, setup_overlap\n",
    "import climatools.lblnew.pipeline as pipe_lblnew\n",
    "import climatools.cliradlw.setup as setup_cliradlw\n",
    "import climatools.cliradlw.pipeline as pipe_cliradlw\n",
    "\n",
    "import climatools.html.html as climahtml\n",
    "from climatools.lblnew.dataio import *\n",
    "from climatools.plot.plot import *\n",
    "\n",
    "\n",
    "import IPython.display as display"
   ]
  },
  {
   "cell_type": "code",
   "execution_count": 2,
   "metadata": {
    "collapsed": true
   },
   "outputs": [],
   "source": [
    "%run param.py"
   ]
  },
  {
   "cell_type": "code",
   "execution_count": 3,
   "metadata": {
    "collapsed": true
   },
   "outputs": [],
   "source": [
    "def load_output_file(path_csv):\n",
    "    '''\n",
    "    Load lblnew output .csv file to xarray.Dataset\n",
    "    \n",
    "    Parameters\n",
    "    ----------\n",
    "    path_csv: str\n",
    "              Path to the .csv file to be loaded.\n",
    "    ds: xarray.Dataset\n",
    "        Data in the input file in the form of an xarray.Dataset.\n",
    "    '''\n",
    "    toindex = ['band', 'pressure', 'igg', 'g']    \n",
    "    df = pd.read_csv(path_csv, sep=r'\\s+')\n",
    "    df = df.set_index([i for i in toindex if i in df.columns])\n",
    "    df = df.rename(columns={'sfu': 'flug',\n",
    "                            'sfd': 'fldg',\n",
    "                            'fnet': 'fnetg',\n",
    "                            'coolr': 'coolrg'})\n",
    "    ds = xr.Dataset.from_dataframe(df)\n",
    "\n",
    "    for l in ('level', 'layer'):\n",
    "        if l in ds.data_vars:\n",
    "            if len(ds[l].dims) > 1:\n",
    "                surface = {d: 0 for d in ds.dims if d != 'pressure'}\n",
    "                coord_level = ds[l][surface]\n",
    "                ds.coords[l] = ('pressure', coord_level)\n",
    "            else:\n",
    "                ds.coords[l] = ('pressure', ds[l])\n",
    "    \n",
    "    return ds"
   ]
  },
  {
   "cell_type": "code",
   "execution_count": 4,
   "metadata": {
    "collapsed": true
   },
   "outputs": [],
   "source": [
    "def lblnew_setup(param=None):\n",
    "    if 'ng_refs' in param:\n",
    "        return {'setup': setup_bestfit,\n",
    "                'fname_flux_crd': 'output_flux.dat',\n",
    "                'fname_cool_crd': 'output_coolr.dat',\n",
    "                'fname_flux_wgt': 'output_wfluxg.dat',\n",
    "                'fname_cool_wgt': 'output_wcoolrg.dat'}\n",
    "    else:\n",
    "        return {'setup': setup_overlap,\n",
    "                'fname_flux_crd': 'output_flux.dat',\n",
    "                'fname_cool_crd': 'output_coolr.dat',\n",
    "                'fname_flux_wgt': 'output_wflux.dat',\n",
    "                'fname_cool_wgt': 'output_wcoolr.dat'}\n",
    "\n",
    "    \n",
    "def load_lblnew_data(param):\n",
    "    \n",
    "    fname_dsname = [('fname_flux_crd', 'ds_flux_crd'),\n",
    "                    ('fname_cool_crd', 'ds_cool_crd'),\n",
    "                    ('fname_flux_wgt', 'ds_flux_wgt'),\n",
    "                    ('fname_cool_wgt', 'ds_cool_wgt')]\n",
    "    \n",
    "    d = lblnew_setup(param)\n",
    "    dir_fortran = pipe_lblnew.get_dir_case(param, setup=d['setup'])\n",
    "    \n",
    "    data_dict = {}\n",
    "    for fname, dsname in fname_dsname:\n",
    "        fpath = os.path.join(dir_fortran, d[fname])\n",
    "        data_dict[dsname] = load_output_file(fpath)\n",
    "    return data_dict\n",
    "    \n",
    "\n",
    "    \n",
    "    "
   ]
  },
  {
   "cell_type": "code",
   "execution_count": 5,
   "metadata": {
    "collapsed": true
   },
   "outputs": [],
   "source": [
    "d = load_lblnew_data(PARAM_LBLNEW)\n",
    "\n",
    "DS_FLUX_CRD = d['ds_flux_crd']\n",
    "DS_COOL_CRD = d['ds_cool_crd']\n",
    "DS_FLUX_WGT = d['ds_flux_wgt']\n",
    "DS_COOL_WGT = d['ds_cool_wgt']"
   ]
  },
  {
   "cell_type": "code",
   "execution_count": 6,
   "metadata": {
    "collapsed": true
   },
   "outputs": [],
   "source": [
    "DIR_FORTRAN = pipe_cliradlw.get_fortran_dir(PARAM, \n",
    "                                            setup=setup_cliradlw)\n",
    "\n",
    "PATH_FLUX = os.path.join(DIR_FORTRAN, 'output_flux.dat')\n",
    "PATH_COOL = os.path.join(DIR_FORTRAN, 'output_coolr.dat')\n",
    "\n",
    "DS_FLUX = load_output_file(PATH_FLUX)\n",
    "DS_COOL = load_output_file(PATH_COOL)"
   ]
  },
  {
   "cell_type": "code",
   "execution_count": 7,
   "metadata": {
    "collapsed": true
   },
   "outputs": [
    {
     "data": {
      "text/html": [
       "\n",
       "    <div class=\"bk-root\">\n",
       "        <a href=\"https://bokeh.pydata.org\" target=\"_blank\" class=\"bk-logo bk-logo-small bk-logo-notebook\"></a>\n",
       "        <span id=\"da8604f6-be6c-40f0-9c55-b2c956435dac\">Loading BokehJS ...</span>\n",
       "    </div>"
      ]
     },
     "metadata": {},
     "output_type": "display_data"
    },
    {
     "data": {
      "application/javascript": [
       "\n",
       "(function(root) {\n",
       "  function now() {\n",
       "    return new Date();\n",
       "  }\n",
       "\n",
       "  var force = true;\n",
       "\n",
       "  if (typeof (root._bokeh_onload_callbacks) === \"undefined\" || force === true) {\n",
       "    root._bokeh_onload_callbacks = [];\n",
       "    root._bokeh_is_loading = undefined;\n",
       "  }\n",
       "\n",
       "  var JS_MIME_TYPE = 'application/javascript';\n",
       "  var HTML_MIME_TYPE = 'text/html';\n",
       "  var EXEC_MIME_TYPE = 'application/vnd.bokehjs_exec.v0+json';\n",
       "  var CLASS_NAME = 'output_bokeh rendered_html';\n",
       "\n",
       "  /**\n",
       "   * Render data to the DOM node\n",
       "   */\n",
       "  function render(props, node) {\n",
       "    var script = document.createElement(\"script\");\n",
       "    node.appendChild(script);\n",
       "  }\n",
       "\n",
       "  /**\n",
       "   * Handle when an output is cleared or removed\n",
       "   */\n",
       "  function handleClearOutput(event, handle) {\n",
       "    var cell = handle.cell;\n",
       "\n",
       "    var id = cell.output_area._bokeh_element_id;\n",
       "    var server_id = cell.output_area._bokeh_server_id;\n",
       "    // Clean up Bokeh references\n",
       "    if (id !== undefined) {\n",
       "      Bokeh.index[id].model.document.clear();\n",
       "      delete Bokeh.index[id];\n",
       "    }\n",
       "\n",
       "    if (server_id !== undefined) {\n",
       "      // Clean up Bokeh references\n",
       "      var cmd = \"from bokeh.io.state import curstate; print(curstate().uuid_to_server['\" + server_id + \"'].get_sessions()[0].document.roots[0]._id)\";\n",
       "      cell.notebook.kernel.execute(cmd, {\n",
       "        iopub: {\n",
       "          output: function(msg) {\n",
       "            var element_id = msg.content.text.trim();\n",
       "            Bokeh.index[element_id].model.document.clear();\n",
       "            delete Bokeh.index[element_id];\n",
       "          }\n",
       "        }\n",
       "      });\n",
       "      // Destroy server and session\n",
       "      var cmd = \"import bokeh.io.notebook as ion; ion.destroy_server('\" + server_id + \"')\";\n",
       "      cell.notebook.kernel.execute(cmd);\n",
       "    }\n",
       "  }\n",
       "\n",
       "  /**\n",
       "   * Handle when a new output is added\n",
       "   */\n",
       "  function handleAddOutput(event, handle) {\n",
       "    var output_area = handle.output_area;\n",
       "    var output = handle.output;\n",
       "\n",
       "    // limit handleAddOutput to display_data with EXEC_MIME_TYPE content only\n",
       "    if ((output.output_type != \"display_data\") || (!output.data.hasOwnProperty(EXEC_MIME_TYPE))) {\n",
       "      return\n",
       "    }\n",
       "\n",
       "    var toinsert = output_area.element.find(\".\" + CLASS_NAME.split(' ')[0]);\n",
       "\n",
       "    if (output.metadata[EXEC_MIME_TYPE][\"id\"] !== undefined) {\n",
       "      toinsert[toinsert.length - 1].firstChild.textContent = output.data[JS_MIME_TYPE];\n",
       "      // store reference to embed id on output_area\n",
       "      output_area._bokeh_element_id = output.metadata[EXEC_MIME_TYPE][\"id\"];\n",
       "    }\n",
       "    if (output.metadata[EXEC_MIME_TYPE][\"server_id\"] !== undefined) {\n",
       "      var bk_div = document.createElement(\"div\");\n",
       "      bk_div.innerHTML = output.data[HTML_MIME_TYPE];\n",
       "      var script_attrs = bk_div.children[0].attributes;\n",
       "      for (var i = 0; i < script_attrs.length; i++) {\n",
       "        toinsert[toinsert.length - 1].firstChild.setAttribute(script_attrs[i].name, script_attrs[i].value);\n",
       "      }\n",
       "      // store reference to server id on output_area\n",
       "      output_area._bokeh_server_id = output.metadata[EXEC_MIME_TYPE][\"server_id\"];\n",
       "    }\n",
       "  }\n",
       "\n",
       "  function register_renderer(events, OutputArea) {\n",
       "\n",
       "    function append_mime(data, metadata, element) {\n",
       "      // create a DOM node to render to\n",
       "      var toinsert = this.create_output_subarea(\n",
       "        metadata,\n",
       "        CLASS_NAME,\n",
       "        EXEC_MIME_TYPE\n",
       "      );\n",
       "      this.keyboard_manager.register_events(toinsert);\n",
       "      // Render to node\n",
       "      var props = {data: data, metadata: metadata[EXEC_MIME_TYPE]};\n",
       "      render(props, toinsert[toinsert.length - 1]);\n",
       "      element.append(toinsert);\n",
       "      return toinsert\n",
       "    }\n",
       "\n",
       "    /* Handle when an output is cleared or removed */\n",
       "    events.on('clear_output.CodeCell', handleClearOutput);\n",
       "    events.on('delete.Cell', handleClearOutput);\n",
       "\n",
       "    /* Handle when a new output is added */\n",
       "    events.on('output_added.OutputArea', handleAddOutput);\n",
       "\n",
       "    /**\n",
       "     * Register the mime type and append_mime function with output_area\n",
       "     */\n",
       "    OutputArea.prototype.register_mime_type(EXEC_MIME_TYPE, append_mime, {\n",
       "      /* Is output safe? */\n",
       "      safe: true,\n",
       "      /* Index of renderer in `output_area.display_order` */\n",
       "      index: 0\n",
       "    });\n",
       "  }\n",
       "\n",
       "  // register the mime type if in Jupyter Notebook environment and previously unregistered\n",
       "  if (root.Jupyter !== undefined) {\n",
       "    var events = require('base/js/events');\n",
       "    var OutputArea = require('notebook/js/outputarea').OutputArea;\n",
       "\n",
       "    if (OutputArea.prototype.mime_types().indexOf(EXEC_MIME_TYPE) == -1) {\n",
       "      register_renderer(events, OutputArea);\n",
       "    }\n",
       "  }\n",
       "\n",
       "  \n",
       "  if (typeof (root._bokeh_timeout) === \"undefined\" || force === true) {\n",
       "    root._bokeh_timeout = Date.now() + 5000;\n",
       "    root._bokeh_failed_load = false;\n",
       "  }\n",
       "\n",
       "  var NB_LOAD_WARNING = {'data': {'text/html':\n",
       "     \"<div style='background-color: #fdd'>\\n\"+\n",
       "     \"<p>\\n\"+\n",
       "     \"BokehJS does not appear to have successfully loaded. If loading BokehJS from CDN, this \\n\"+\n",
       "     \"may be due to a slow or bad network connection. Possible fixes:\\n\"+\n",
       "     \"</p>\\n\"+\n",
       "     \"<ul>\\n\"+\n",
       "     \"<li>re-rerun `output_notebook()` to attempt to load from CDN again, or</li>\\n\"+\n",
       "     \"<li>use INLINE resources instead, as so:</li>\\n\"+\n",
       "     \"</ul>\\n\"+\n",
       "     \"<code>\\n\"+\n",
       "     \"from bokeh.resources import INLINE\\n\"+\n",
       "     \"output_notebook(resources=INLINE)\\n\"+\n",
       "     \"</code>\\n\"+\n",
       "     \"</div>\"}};\n",
       "\n",
       "  function display_loaded() {\n",
       "    var el = document.getElementById(\"da8604f6-be6c-40f0-9c55-b2c956435dac\");\n",
       "    if (el != null) {\n",
       "      el.textContent = \"BokehJS is loading...\";\n",
       "    }\n",
       "    if (root.Bokeh !== undefined) {\n",
       "      if (el != null) {\n",
       "        el.textContent = \"BokehJS \" + root.Bokeh.version + \" successfully loaded.\";\n",
       "      }\n",
       "    } else if (Date.now() < root._bokeh_timeout) {\n",
       "      setTimeout(display_loaded, 100)\n",
       "    }\n",
       "  }\n",
       "\n",
       "\n",
       "  function run_callbacks() {\n",
       "    try {\n",
       "      root._bokeh_onload_callbacks.forEach(function(callback) { callback() });\n",
       "    }\n",
       "    finally {\n",
       "      delete root._bokeh_onload_callbacks\n",
       "    }\n",
       "    console.info(\"Bokeh: all callbacks have finished\");\n",
       "  }\n",
       "\n",
       "  function load_libs(js_urls, callback) {\n",
       "    root._bokeh_onload_callbacks.push(callback);\n",
       "    if (root._bokeh_is_loading > 0) {\n",
       "      console.log(\"Bokeh: BokehJS is being loaded, scheduling callback at\", now());\n",
       "      return null;\n",
       "    }\n",
       "    if (js_urls == null || js_urls.length === 0) {\n",
       "      run_callbacks();\n",
       "      return null;\n",
       "    }\n",
       "    console.log(\"Bokeh: BokehJS not loaded, scheduling load and callback at\", now());\n",
       "    root._bokeh_is_loading = js_urls.length;\n",
       "    for (var i = 0; i < js_urls.length; i++) {\n",
       "      var url = js_urls[i];\n",
       "      var s = document.createElement('script');\n",
       "      s.src = url;\n",
       "      s.async = false;\n",
       "      s.onreadystatechange = s.onload = function() {\n",
       "        root._bokeh_is_loading--;\n",
       "        if (root._bokeh_is_loading === 0) {\n",
       "          console.log(\"Bokeh: all BokehJS libraries loaded\");\n",
       "          run_callbacks()\n",
       "        }\n",
       "      };\n",
       "      s.onerror = function() {\n",
       "        console.warn(\"failed to load library \" + url);\n",
       "      };\n",
       "      console.log(\"Bokeh: injecting script tag for BokehJS library: \", url);\n",
       "      document.getElementsByTagName(\"head\")[0].appendChild(s);\n",
       "    }\n",
       "  };var element = document.getElementById(\"da8604f6-be6c-40f0-9c55-b2c956435dac\");\n",
       "  if (element == null) {\n",
       "    console.log(\"Bokeh: ERROR: autoload.js configured with elementid 'da8604f6-be6c-40f0-9c55-b2c956435dac' but no matching script tag was found. \")\n",
       "    return false;\n",
       "  }\n",
       "\n",
       "  var js_urls = [\"https://cdn.pydata.org/bokeh/release/bokeh-0.12.16.min.js\", \"https://cdn.pydata.org/bokeh/release/bokeh-widgets-0.12.16.min.js\", \"https://cdn.pydata.org/bokeh/release/bokeh-tables-0.12.16.min.js\", \"https://cdn.pydata.org/bokeh/release/bokeh-gl-0.12.16.min.js\"];\n",
       "\n",
       "  var inline_js = [\n",
       "    function(Bokeh) {\n",
       "      Bokeh.set_log_level(\"info\");\n",
       "    },\n",
       "    \n",
       "    function(Bokeh) {\n",
       "      \n",
       "    },\n",
       "    function(Bokeh) {\n",
       "      console.log(\"Bokeh: injecting CSS: https://cdn.pydata.org/bokeh/release/bokeh-0.12.16.min.css\");\n",
       "      Bokeh.embed.inject_css(\"https://cdn.pydata.org/bokeh/release/bokeh-0.12.16.min.css\");\n",
       "      console.log(\"Bokeh: injecting CSS: https://cdn.pydata.org/bokeh/release/bokeh-widgets-0.12.16.min.css\");\n",
       "      Bokeh.embed.inject_css(\"https://cdn.pydata.org/bokeh/release/bokeh-widgets-0.12.16.min.css\");\n",
       "      console.log(\"Bokeh: injecting CSS: https://cdn.pydata.org/bokeh/release/bokeh-tables-0.12.16.min.css\");\n",
       "      Bokeh.embed.inject_css(\"https://cdn.pydata.org/bokeh/release/bokeh-tables-0.12.16.min.css\");\n",
       "    }\n",
       "  ];\n",
       "\n",
       "  function run_inline_js() {\n",
       "    \n",
       "    if ((root.Bokeh !== undefined) || (force === true)) {\n",
       "      for (var i = 0; i < inline_js.length; i++) {\n",
       "        inline_js[i].call(root, root.Bokeh);\n",
       "      }if (force === true) {\n",
       "        display_loaded();\n",
       "      }} else if (Date.now() < root._bokeh_timeout) {\n",
       "      setTimeout(run_inline_js, 100);\n",
       "    } else if (!root._bokeh_failed_load) {\n",
       "      console.log(\"Bokeh: BokehJS failed to load within specified timeout.\");\n",
       "      root._bokeh_failed_load = true;\n",
       "    } else if (force !== true) {\n",
       "      var cell = $(document.getElementById(\"da8604f6-be6c-40f0-9c55-b2c956435dac\")).parents('.cell').data().cell;\n",
       "      cell.output_area.append_execute_result(NB_LOAD_WARNING)\n",
       "    }\n",
       "\n",
       "  }\n",
       "\n",
       "  if (root._bokeh_is_loading === 0) {\n",
       "    console.log(\"Bokeh: BokehJS loaded, going straight to plotting\");\n",
       "    run_inline_js();\n",
       "  } else {\n",
       "    load_libs(js_urls, function() {\n",
       "      console.log(\"Bokeh: BokehJS plotting callback run at\", now());\n",
       "      run_inline_js();\n",
       "    });\n",
       "  }\n",
       "}(window));"
      ],
      "application/vnd.bokehjs_load.v0+json": "\n(function(root) {\n  function now() {\n    return new Date();\n  }\n\n  var force = true;\n\n  if (typeof (root._bokeh_onload_callbacks) === \"undefined\" || force === true) {\n    root._bokeh_onload_callbacks = [];\n    root._bokeh_is_loading = undefined;\n  }\n\n  \n\n  \n  if (typeof (root._bokeh_timeout) === \"undefined\" || force === true) {\n    root._bokeh_timeout = Date.now() + 5000;\n    root._bokeh_failed_load = false;\n  }\n\n  var NB_LOAD_WARNING = {'data': {'text/html':\n     \"<div style='background-color: #fdd'>\\n\"+\n     \"<p>\\n\"+\n     \"BokehJS does not appear to have successfully loaded. If loading BokehJS from CDN, this \\n\"+\n     \"may be due to a slow or bad network connection. Possible fixes:\\n\"+\n     \"</p>\\n\"+\n     \"<ul>\\n\"+\n     \"<li>re-rerun `output_notebook()` to attempt to load from CDN again, or</li>\\n\"+\n     \"<li>use INLINE resources instead, as so:</li>\\n\"+\n     \"</ul>\\n\"+\n     \"<code>\\n\"+\n     \"from bokeh.resources import INLINE\\n\"+\n     \"output_notebook(resources=INLINE)\\n\"+\n     \"</code>\\n\"+\n     \"</div>\"}};\n\n  function display_loaded() {\n    var el = document.getElementById(\"da8604f6-be6c-40f0-9c55-b2c956435dac\");\n    if (el != null) {\n      el.textContent = \"BokehJS is loading...\";\n    }\n    if (root.Bokeh !== undefined) {\n      if (el != null) {\n        el.textContent = \"BokehJS \" + root.Bokeh.version + \" successfully loaded.\";\n      }\n    } else if (Date.now() < root._bokeh_timeout) {\n      setTimeout(display_loaded, 100)\n    }\n  }\n\n\n  function run_callbacks() {\n    try {\n      root._bokeh_onload_callbacks.forEach(function(callback) { callback() });\n    }\n    finally {\n      delete root._bokeh_onload_callbacks\n    }\n    console.info(\"Bokeh: all callbacks have finished\");\n  }\n\n  function load_libs(js_urls, callback) {\n    root._bokeh_onload_callbacks.push(callback);\n    if (root._bokeh_is_loading > 0) {\n      console.log(\"Bokeh: BokehJS is being loaded, scheduling callback at\", now());\n      return null;\n    }\n    if (js_urls == null || js_urls.length === 0) {\n      run_callbacks();\n      return null;\n    }\n    console.log(\"Bokeh: BokehJS not loaded, scheduling load and callback at\", now());\n    root._bokeh_is_loading = js_urls.length;\n    for (var i = 0; i < js_urls.length; i++) {\n      var url = js_urls[i];\n      var s = document.createElement('script');\n      s.src = url;\n      s.async = false;\n      s.onreadystatechange = s.onload = function() {\n        root._bokeh_is_loading--;\n        if (root._bokeh_is_loading === 0) {\n          console.log(\"Bokeh: all BokehJS libraries loaded\");\n          run_callbacks()\n        }\n      };\n      s.onerror = function() {\n        console.warn(\"failed to load library \" + url);\n      };\n      console.log(\"Bokeh: injecting script tag for BokehJS library: \", url);\n      document.getElementsByTagName(\"head\")[0].appendChild(s);\n    }\n  };var element = document.getElementById(\"da8604f6-be6c-40f0-9c55-b2c956435dac\");\n  if (element == null) {\n    console.log(\"Bokeh: ERROR: autoload.js configured with elementid 'da8604f6-be6c-40f0-9c55-b2c956435dac' but no matching script tag was found. \")\n    return false;\n  }\n\n  var js_urls = [\"https://cdn.pydata.org/bokeh/release/bokeh-0.12.16.min.js\", \"https://cdn.pydata.org/bokeh/release/bokeh-widgets-0.12.16.min.js\", \"https://cdn.pydata.org/bokeh/release/bokeh-tables-0.12.16.min.js\", \"https://cdn.pydata.org/bokeh/release/bokeh-gl-0.12.16.min.js\"];\n\n  var inline_js = [\n    function(Bokeh) {\n      Bokeh.set_log_level(\"info\");\n    },\n    \n    function(Bokeh) {\n      \n    },\n    function(Bokeh) {\n      console.log(\"Bokeh: injecting CSS: https://cdn.pydata.org/bokeh/release/bokeh-0.12.16.min.css\");\n      Bokeh.embed.inject_css(\"https://cdn.pydata.org/bokeh/release/bokeh-0.12.16.min.css\");\n      console.log(\"Bokeh: injecting CSS: https://cdn.pydata.org/bokeh/release/bokeh-widgets-0.12.16.min.css\");\n      Bokeh.embed.inject_css(\"https://cdn.pydata.org/bokeh/release/bokeh-widgets-0.12.16.min.css\");\n      console.log(\"Bokeh: injecting CSS: https://cdn.pydata.org/bokeh/release/bokeh-tables-0.12.16.min.css\");\n      Bokeh.embed.inject_css(\"https://cdn.pydata.org/bokeh/release/bokeh-tables-0.12.16.min.css\");\n    }\n  ];\n\n  function run_inline_js() {\n    \n    if ((root.Bokeh !== undefined) || (force === true)) {\n      for (var i = 0; i < inline_js.length; i++) {\n        inline_js[i].call(root, root.Bokeh);\n      }if (force === true) {\n        display_loaded();\n      }} else if (Date.now() < root._bokeh_timeout) {\n      setTimeout(run_inline_js, 100);\n    } else if (!root._bokeh_failed_load) {\n      console.log(\"Bokeh: BokehJS failed to load within specified timeout.\");\n      root._bokeh_failed_load = true;\n    } else if (force !== true) {\n      var cell = $(document.getElementById(\"da8604f6-be6c-40f0-9c55-b2c956435dac\")).parents('.cell').data().cell;\n      cell.output_area.append_execute_result(NB_LOAD_WARNING)\n    }\n\n  }\n\n  if (root._bokeh_is_loading === 0) {\n    console.log(\"Bokeh: BokehJS loaded, going straight to plotting\");\n    run_inline_js();\n  } else {\n    load_libs(js_urls, function() {\n      console.log(\"Bokeh: BokehJS plotting callback run at\", now());\n      run_inline_js();\n    });\n  }\n}(window));"
     },
     "metadata": {},
     "output_type": "display_data"
    }
   ],
   "source": [
    "output_notebook()"
   ]
  },
  {
   "cell_type": "code",
   "execution_count": 8,
   "metadata": {
    "collapsed": true
   },
   "outputs": [],
   "source": [
    "def fmt_cool(ds_in):\n",
    "    ds = ds_in.copy(deep=True)\n",
    "    if 'igg' in ds.dims:\n",
    "        ds = ds.sel(igg=1)\n",
    "\n",
    "    if 'g' in ds.dims:\n",
    "        ds = ds.sum('g')\n",
    "            \n",
    "    if 'band' in ds.dims:\n",
    "        try:\n",
    "            ds = ds.squeeze('band')\n",
    "        except ValueError:\n",
    "            ds = ds.sum('band')\n",
    "                \n",
    "    return ds['coolrg']\n",
    "\n",
    "\n",
    "def pltdata_cooling_1(ds_cool=None,\n",
    "                      ds_cool_crd=None, ds_cool_wgt=None):\n",
    "    \n",
    "\n",
    "\n",
    "    colors = all_palettes['Set1'][4]\n",
    "    data = [{'label': 'CLIRAD `coolr_bands`',\n",
    "             'srs': fmt_cool(ds_cool),\n",
    "             'line_dash': 'dashed', 'line_width': 5,\n",
    "             'color': colors[0], 'alpha': .6},\n",
    "            {'label': 'CRD',\n",
    "             'srs': fmt_cool(ds_cool_crd),\n",
    "             'line_dash': 'solid', 'line_width': 1.5,\n",
    "             'marker': 'circle', 'marker_size': 5,\n",
    "             'color': colors[2], 'alpha': 1,},\n",
    "            {'label': 'WGT igg=10 wgt_flux=2',\n",
    "             'srs': fmt_cool(ds_cool_wgt),\n",
    "             'line_dash': 'solid', 'line_width': 3,\n",
    "             'marker': 'square', 'marker_size': 5,\n",
    "             'color': colors[3], 'alpha': .6}]\n",
    "    return data\n",
    "\n",
    "\n",
    "def nice_xlims(pltdata=None, prange=None):\n",
    "    \n",
    "    def get_slice(srs):\n",
    "        return srs.sel(pressure=slice(*prange))\n",
    "    \n",
    "    srss = [d['srs'] for d in pltdata]\n",
    "    vmin = min([get_slice(srs).min() for srs in srss])\n",
    "    vmax = max([get_slice(srs).max() for srs in srss])\n",
    "    dv = (vmax - vmin) * .01\n",
    "    return float(vmin - dv), float(vmax + dv)\n",
    "    \n",
    "\n",
    "def plt_cooling_bokeh(pltdata=None):\n",
    "    '''\n",
    "    Plot a list of cooling rate profiles using bokeh.\n",
    "    '''\n",
    "    ymin = 1e-2 \n",
    "    ymax = 1020 \n",
    "        \n",
    "    p1 = figure(title=\"Linear pressure scale\", \n",
    "                plot_width=400)        \n",
    "    xmin, xmax = nice_xlims(pltdata, prange=(50, 1050))\n",
    "    for d in pltdata:\n",
    "        if 'marker' in d:\n",
    "            getattr(p1, d['marker'])(d['srs'].values, \n",
    "                    d['srs'].coords['pressure'].values,\n",
    "                    color=d['color'], alpha=.7)\n",
    "        p1.line(d['srs'].values, \n",
    "                d['srs'].coords['pressure'].values,\n",
    "                color=d['color'], alpha=d['alpha'], \n",
    "                line_width=d['line_width'], line_dash=d['line_dash'])\n",
    "    \n",
    "    p1.y_range = Range1d(ymax, ymin)\n",
    "    p1.yaxis.axis_label = 'pressure [mb]'   \n",
    "    p1.x_range = Range1d(xmin, xmax)\n",
    "    p1.xaxis.axis_label = 'cooling rate [K/day]'\n",
    "            \n",
    "    p2 = figure(title='Log pressure scale', y_axis_type='log',\n",
    "                plot_width=560)\n",
    "    xmin, xmax = nice_xlims(pltdata, prange=(.01, 200))\n",
    "    \n",
    "    rs = []\n",
    "    for d in pltdata:\n",
    "        rd = []\n",
    "        if 'marker' in d:\n",
    "            r_mark = getattr(p2, d['marker'])(d['srs'].values, \n",
    "                        d['srs'].coords['pressure'].values,\n",
    "                        color=d['color'], alpha=.7)\n",
    "            rd.append(r_mark)\n",
    "        r_line = p2.line(d['srs'].values, \n",
    "                    d['srs'].coords['pressure'].values,\n",
    "                    color=d['color'], alpha=d['alpha'], \n",
    "                    line_width=d['line_width'], line_dash=d['line_dash'])\n",
    "        rd.append(r_line)\n",
    "      \n",
    "        rs.append(rd)\n",
    "        \n",
    "    p2.y_range = Range1d(ymax, ymin)  \n",
    "    p2.yaxis.axis_label = 'pressure [mb]'\n",
    "    \n",
    "    p2.x_range = Range1d(xmin, xmax)\n",
    "    p2.xaxis.axis_label = 'cooling rate [K/day]'\n",
    "    \n",
    "    items = [(d['label'], r) for r, d in zip(rs, pltdata)]\n",
    "    legend = Legend(items=items, location=(10, -30))\n",
    "    legend.label_text_font_size = '8pt'\n",
    "    \n",
    "    p2.add_layout(legend, 'right')  \n",
    "    \n",
    "    show(gridplot(p1, p2, ncols=2, plot_height=500))\n",
    "    \n",
    "\n",
    "def script_plt_cooling():\n",
    "    pltdata = pltdata_cooling_1(\n",
    "        ds_cool=DS_COOL,\n",
    "        ds_cool_crd=DS_COOL_CRD,\n",
    "        ds_cool_wgt=DS_COOL_WGT)\n",
    "    plt_cooling_bokeh(pltdata=pltdata)\n",
    "    print('''FIGURE. Cooling rate profiles.''')"
   ]
  },
  {
   "cell_type": "code",
   "execution_count": 9,
   "metadata": {
    "collapsed": true
   },
   "outputs": [],
   "source": [
    "def fmt_flux(ds_in):\n",
    "    ds = ds_in.copy(deep=True)\n",
    "    \n",
    "    for l in ('level', 'layer'):\n",
    "        if l in ds.data_vars:\n",
    "            if len(ds[l].dims) > 1:\n",
    "                surface = {d: 0 for d in ds.dims if d != 'pressure'}\n",
    "                coord_level = ds[l][surface]\n",
    "                ds.coords[l] = ('pressure', coord_level)\n",
    "            else:\n",
    "                ds.coords[l] = ('pressure', ds[l])\n",
    "        \n",
    "    ds = ds.isel(pressure=[0, 23, -1])\n",
    "        \n",
    "    if 'igg' in ds.dims:\n",
    "        ds = ds.sel(igg=[1])\n",
    "        ds = ds.squeeze('igg').drop('igg')\n",
    "    \n",
    "    if 'g' in ds.dims:\n",
    "        ds = ds.sum('g')\n",
    "            \n",
    "    if 'band' in ds.dims:\n",
    "        try:\n",
    "            ds = ds.squeeze('band').drop('band')\n",
    "        except ValueError:\n",
    "            ds = ds.sum('band')\n",
    "                \n",
    "    df = ds.to_dataframe()\n",
    "    df = df.set_index('level', append=True)               \n",
    "    return df\n",
    "\n",
    "\n",
    "def tbdata_flux(ds_flux=None, ds_flux_crd=None, ds_flux_wgt=None):\n",
    "    ilevels = [0, 23, -1]\n",
    "            \n",
    "    benchmark = {'label': 'CRD',\n",
    "                 'df': fmt_flux(ds_flux_crd)}\n",
    "    \n",
    "    tbs = [{'label': 'WGT igg=10 wgt_flux=1',\n",
    "            'df': fmt_flux(ds_flux_wgt)},\n",
    "           {'label': 'CLIRAD',\n",
    "            'df': fmt_flux(ds_flux)}]\n",
    "    \n",
    "    data = {'benchmark': benchmark, 'others': tbs}\n",
    "    return data\n",
    "\n",
    "\n",
    "def tb_flux(tbdata=None):\n",
    "    benchmark = tbdata['benchmark']\n",
    "    others = tbdata['others']\n",
    "    \n",
    "    def show_tb(d=None):\n",
    "        display.display(d['df'])\n",
    "        print('Table.', 'Fluxes.', d['label'])\n",
    "        \n",
    "    def show_tbdiff(d0=None, d=None):\n",
    "        df = d['df']\n",
    "        df.index = d0['df'].index\n",
    "        display.display(df - d0['df'])\n",
    "        print('Table.', 'Fluxes.', \n",
    "              '({}) - ({})'.format(d['label'], d0['label']))\n",
    "        \n",
    "    show_tb(benchmark)\n",
    "    for d in others:\n",
    "        show_tb(d)\n",
    "        \n",
    "    for d in others:\n",
    "        show_tbdiff(d=d, d0=benchmark)\n",
    "        \n",
    "        \n",
    "def script_tb_flux():\n",
    "    data = tbdata_flux(ds_flux=DS_FLUX,\n",
    "                       ds_flux_crd=DS_FLUX_CRD,\n",
    "                       ds_flux_wgt=DS_FLUX_WGT)\n",
    "    tb_flux(tbdata=data)"
   ]
  },
  {
   "cell_type": "code",
   "execution_count": 10,
   "metadata": {
    "collapsed": true
   },
   "outputs": [],
   "source": [
    "def band_map():\n",
    "    '''\n",
    "    Maps spectral bands in lblnew to spectral bands in clirad.\n",
    "    '''\n",
    "    lblnew2clirad = {'1': '1',\n",
    "            '2': '2',\n",
    "            '3a': '3',\n",
    "            '3b': '4',\n",
    "            '3c': '5',\n",
    "            '4': '6', \n",
    "            '5': '7',\n",
    "            '6': '8',\n",
    "            '7': '9', \n",
    "            '8': '10',\n",
    "            '9': '11'}\n",
    "    \n",
    "    clirad2lblnew = {clirad: lblnew \n",
    "                     for lblnew, clirad in lblnew2clirad.items()}\n",
    "    return clirad2lblnew\n",
    "\n",
    "\n",
    "def gasbands():\n",
    "    bmap = band_map()\n",
    "    gases = list(PARAM['molecule'].keys())\n",
    "    \n",
    "    bands = [bmap[str(b)] for b in PARAM['band']]\n",
    "    return list(itertools.product(gases, bands))\n",
    "\n",
    "\n",
    "def print_bestfit_params():\n",
    "    print('Best-fit values for each (gas, band)')\n",
    "    print('------------------------------------')\n",
    "    for gas, band in gasbands():\n",
    "        print('o {} band{}'.format(gas, band))\n",
    "        param = bestfits.kdist_params(molecule=gas, band=band)\n",
    "        for name, value in sorted(param.items()):\n",
    "            print(2 * ' ' + '{} = {}'.format(name, value))\n",
    "\n",
    "        \n",
    "def print_input_param():        \n",
    "    for name, value in PARAM.items():\n",
    "        print('{} = {}'.format(name, value))\n",
    "        \n",
    "        \n",
    "def print_lblnew_param():\n",
    "    for name, value in sorted(PARAM_LBLNEW.items()):\n",
    "        print('{} = {}'.format(name, value))\n"
   ]
  },
  {
   "cell_type": "code",
   "execution_count": 11,
   "metadata": {
    "collapsed": true,
    "scrolled": false
   },
   "outputs": [],
   "source": [
    "def show_html(s):\n",
    "    display.display(display.HTML(s))\n",
    "\n",
    "    \n",
    "def show_markdown(s):\n",
    "    display.display(display.Markdown(s))\n",
    "\n",
    "    \n",
    "def script():\n",
    "    \n",
    "    title = '### CLIRAD-LW'\n",
    "    s_input = 'Input Parameters'\n",
    "    s_lblnew_param = 'LBLNEW case compaired against'\n",
    "    s_bestfits = 'Best-fit Parameters'\n",
    "    s_plt_cooling = 'Cooling Rate Profiles'\n",
    "    s_tb_flux = 'Flux Comparison'\n",
    "    \n",
    "    # title\n",
    "    show_markdown('### CLIRAD-LW')\n",
    "    \n",
    "    # TOC\n",
    "    show_markdown('### Table of Contents')\n",
    "    show_html(climahtml.getHTML_hrefanchor(s_input))\n",
    "    show_html(climahtml.getHTML_hrefanchor(s_lblnew_param))\n",
    "    show_html(climahtml.getHTML_hrefanchor(s_plt_cooling))\n",
    "    show_html(climahtml.getHTML_hrefanchor(s_tb_flux))\n",
    "    show_html(climahtml.getHTML_hrefanchor(s_bestfits))\n",
    "    \n",
    "    # Input parameters\n",
    "    show_html(climahtml.getHTML_idanchor(s_input))\n",
    "    show_markdown(climahtml.getMarkdown_sectitle(s_input))\n",
    "    print_input_param()\n",
    "    \n",
    "    # LBLNEW parameters \n",
    "    show_html(climahtml.getHTML_idanchor(s_lblnew_param))\n",
    "    show_markdown(climahtml.getMarkdown_sectitle(s_lblnew_param))\n",
    "    print_lblnew_param()\n",
    "    \n",
    "    # Cooling rate profiles\n",
    "    show_html(climahtml.getHTML_idanchor(s_plt_cooling))\n",
    "    show_markdown(climahtml.getMarkdown_sectitle(s_plt_cooling))\n",
    "    script_plt_cooling()\n",
    "    \n",
    "    # Flux comparison\n",
    "    show_html(climahtml.getHTML_idanchor(s_tb_flux))\n",
    "    show_markdown(climahtml.getMarkdown_sectitle(s_tb_flux))\n",
    "    script_tb_flux()\n",
    "    \n",
    "    # Best-fit values\n",
    "    show_html(climahtml.getHTML_idanchor(s_bestfits))\n",
    "    show_markdown(climahtml.getMarkdown_sectitle(s_bestfits))\n",
    "    print_bestfit_params()\n",
    "   \n",
    "    "
   ]
  },
  {
   "cell_type": "code",
   "execution_count": 12,
   "metadata": {
    "collapsed": true,
    "scrolled": false
   },
   "outputs": [
    {
     "data": {
      "text/markdown": [
       "### CLIRAD-LW"
      ],
      "text/plain": [
       "<IPython.core.display.Markdown object>"
      ]
     },
     "metadata": {},
     "output_type": "display_data"
    },
    {
     "data": {
      "text/markdown": [
       "### Table of Contents"
      ],
      "text/plain": [
       "<IPython.core.display.Markdown object>"
      ]
     },
     "metadata": {},
     "output_type": "display_data"
    },
    {
     "data": {
      "text/html": [
       "<a href=\"#Input_Parameters\">Input Parameters</a>"
      ],
      "text/plain": [
       "<IPython.core.display.HTML object>"
      ]
     },
     "metadata": {},
     "output_type": "display_data"
    },
    {
     "data": {
      "text/html": [
       "<a href=\"#LBLNEW_case_compaired_against\">LBLNEW case compaired against</a>"
      ],
      "text/plain": [
       "<IPython.core.display.HTML object>"
      ]
     },
     "metadata": {},
     "output_type": "display_data"
    },
    {
     "data": {
      "text/html": [
       "<a href=\"#Cooling_Rate_Profiles\">Cooling Rate Profiles</a>"
      ],
      "text/plain": [
       "<IPython.core.display.HTML object>"
      ]
     },
     "metadata": {},
     "output_type": "display_data"
    },
    {
     "data": {
      "text/html": [
       "<a href=\"#Flux_Comparison\">Flux Comparison</a>"
      ],
      "text/plain": [
       "<IPython.core.display.HTML object>"
      ]
     },
     "metadata": {},
     "output_type": "display_data"
    },
    {
     "data": {
      "text/html": [
       "<a href=\"#Best-fit_Parameters\">Best-fit Parameters</a>"
      ],
      "text/plain": [
       "<IPython.core.display.HTML object>"
      ]
     },
     "metadata": {},
     "output_type": "display_data"
    },
    {
     "data": {
      "text/html": [
       "<a id=\"Input_Parameters\"></a>"
      ],
      "text/plain": [
       "<IPython.core.display.HTML object>"
      ]
     },
     "metadata": {},
     "output_type": "display_data"
    },
    {
     "data": {
      "text/markdown": [
       "# Input Parameters"
      ],
      "text/plain": [
       "<IPython.core.display.Markdown object>"
      ]
     },
     "metadata": {},
     "output_type": "display_data"
    },
    {
     "name": "stdout",
     "output_type": "stream",
     "text": [
      "atmpro = trp\n",
      "band = [10]\n",
      "commitnumber = de5d43e\n",
      "molecule = {'h2o': 'atmpro'}\n",
      "tsfc = 300\n"
     ]
    },
    {
     "data": {
      "text/html": [
       "<a id=\"LBLNEW_case_compaired_against\"></a>"
      ],
      "text/plain": [
       "<IPython.core.display.HTML object>"
      ]
     },
     "metadata": {},
     "output_type": "display_data"
    },
    {
     "data": {
      "text/markdown": [
       "# LBLNEW case compaired against"
      ],
      "text/plain": [
       "<IPython.core.display.Markdown object>"
      ]
     },
     "metadata": {},
     "output_type": "display_data"
    },
    {
     "name": "stdout",
     "output_type": "stream",
     "text": [
      "atmpro = trp\n",
      "band = 8\n",
      "commitnumber = 5014a19\n",
      "conc = None\n",
      "dv = 0.001\n",
      "klin = 0\n",
      "molecule = h2o\n",
      "ng_adju = [0, -1, 0]\n",
      "ng_refs = [3, 2, 3]\n",
      "nv = 1000\n",
      "option_compute_btable = 0\n",
      "option_compute_ktable = 0\n",
      "option_wgt_flux = 1\n",
      "option_wgt_k = 1\n",
      "ref_pts = [(1, 250), (10, 250), (500, 250)]\n",
      "tsfc = 300\n",
      "vmax = 1900\n",
      "vmin = 1380\n",
      "w_diffuse = [(1.66, 1.66, 1.66), (1.66, 1.66), (1.66, 1.66, 1.66)]\n",
      "wgt = [(0.55, 0.55, 0.85), (0.85, 0.85), (0, 0.3, 0.55)]\n"
     ]
    },
    {
     "data": {
      "text/html": [
       "<a id=\"Cooling_Rate_Profiles\"></a>"
      ],
      "text/plain": [
       "<IPython.core.display.HTML object>"
      ]
     },
     "metadata": {},
     "output_type": "display_data"
    },
    {
     "data": {
      "text/markdown": [
       "# Cooling Rate Profiles"
      ],
      "text/plain": [
       "<IPython.core.display.Markdown object>"
      ]
     },
     "metadata": {},
     "output_type": "display_data"
    },
    {
     "data": {
      "text/html": [
       "\n",
       "<div class=\"bk-root\">\n",
       "    <div class=\"bk-plotdiv\" id=\"6fb08bcb-c692-4767-9336-6d159e93e6e0\"></div>\n",
       "</div>"
      ]
     },
     "metadata": {},
     "output_type": "display_data"
    },
    {
     "data": {
      "application/javascript": [
       "(function(root) {\n",
       "  function embed_document(root) {\n",
       "    \n",
       "  var docs_json = {\"2d68a30f-25cb-42f5-b1e8-6837c14d77dd\":{\"roots\":{\"references\":[{\"attributes\":{\"callback\":null,\"data\":{\"x\":{\"__ndarray__\":\"CKqIy9htvr9HrwYoDTW+vyRYJD9Fgr2/nr5UIj/RvL+4xuvqIyq8v/8a94MNkbu/XxbJDXUOu7+KbfcX5qm6v6tyJStUcbq/uE1lD7xzur8r+flrice6vweabI8gjbu/fUGo3lz0vL8knxUgIwO/vwdPdJ8UlL6/kQKFJvv6uL/v7x1JCiuwv5CfvZVNApe/5O0B7SAMmj+VDISNgES1PwPvP43WLMQ/L4T/Ibvazz9j5HZ5hCTQP9OM4qge4cY/h8T7eWwuvj/lrGEc4vOxP97FONUTw6Y/GG3KH1BZoD953X6grH2ZP4cGIr4llpQ/th5+MW2VkD/P2Lh6JfuJP2gksQlRg4M/hqWqngbrez+9eC6wKNxbP8PGiS/SBHS/5A4Vj/2/g7/JrwMNVMuEv9ykrCNqSXu/Dm7zjughaL+9a+zsDblnP+wjsGz4c5A/KlLvFjkloj+8Y5qxtMiuPwlkSZU1pbY/CnRYp+sFvj/wNspVhzfCP+jLfwajK8Q/k7nHDDM4xD89hr8NzjPEP/XBzwu5ysM/Yy4losr2wj8nXQIJ7cnBP6GmM4M6XcA/ILLtWXyvvT+ZPI60jom6P/v32ftmeLc/SrJQYymvtD9R3hNgYnCyP3mfgno1a7E/ZjBnMvNPsj87WMc90mq0P436Qs0yObQ/sZnA0MqNrj+citDftnybPzm4G3Pe4kO/Yg1F8ZJOjL9t1p8Y59yKv2JjoGPu93u/YAsmcH7SX7+8Nbr6h486P8pfh1WvZ1c/LDxYlEwtXz8iaW+k94NtP4jOWwqCpsk/\",\"dtype\":\"float64\",\"shape\":[75]},\"y\":{\"__ndarray__\":\"GhExyth1ND/Sv8nbtpRIP2vylNV0PVE/aTum7souWD/At0SJ8fVgPw3Iuahxymc/MSNhhJWvcD/bTfBN02d3P2zb5nxnaoA/CD5h5MAGhz8NmeH1TyaQP+zrCsc9p5Y/LbKd76fGnz/bLW5ISEmmPww9YvTcQq8/JV2OstnstT8Er5Y7M8G+P0c+r3jqkcU/5h99k6ZBzj88bCIzFzjVP4enV8oyxN0//yH99nXg5D8qOpLLf0jtP5kqGJXUifQ/c9cS8kHP/D+/DpwzojQEQIEmwoanVwxA4lgXt9HgE0BSSZ2AJuIbQAMJih9jjiNA5q4l5INuK0AwTKYKRj0zQNv5fmq8/DpAaCJseHrtQkB/+zpwzoxKQM3MzMzMeFJAZmZmZmZqWEAAAAAAAFxeQM3MzMzMJmJAmpmZmZkfZUBmZmZmZhhoQDMzMzMzEWtAAAAAAAAKbkBmZmZmZoFwQM3MzMzM/XFAMzMzMzN6c0CamZmZmfZ0QAAAAAAAc3ZAZmZmZmbvd0DNzMzMzGt5QDMzMzMz6HpAmpmZmZlkfEAAAAAAAOF9QGZmZmZmXX9AZmZmZuZsgECamZmZGSuBQM3MzMxM6YFAAAAAAICngkAzMzMzs2WDQGZmZmbmI4RAmpmZmRnihEDNzMzMTKCFQAAAAACAXoZAMzMzM7Mch0BmZmZm5tqHQJqZmZkZmYhAzczMzExXiUAAAAAAgBWKQDMzMzOz04pAZmZmZuaRi0CamZmZGVCMQM3MzMxMDo1AAAAAAIDMjUAzMzMzs4qOQGZmZmbmSI9A\",\"dtype\":\"float64\",\"shape\":[75]}},\"selected\":{\"id\":\"0c983e7c-cf82-46a2-b82a-ba0aa6d3eb45\",\"type\":\"Selection\"},\"selection_policy\":{\"id\":\"d7d37223-d5e8-4a99-a892-afc2776630b7\",\"type\":\"UnionRenderers\"}},\"id\":\"4ef02a1c-a060-4d4e-9a88-947d5bdbd401\",\"type\":\"ColumnDataSource\"},{\"attributes\":{\"source\":{\"id\":\"4ef02a1c-a060-4d4e-9a88-947d5bdbd401\",\"type\":\"ColumnDataSource\"}},\"id\":\"921a9aee-3ce0-4768-91b4-3692b0f4196d\",\"type\":\"CDSView\"},{\"attributes\":{\"line_alpha\":0.6,\"line_color\":\"#e41a1c\",\"line_dash\":[6],\"line_width\":5,\"x\":{\"field\":\"x\"},\"y\":{\"field\":\"y\"}},\"id\":\"f055a6cc-2a6e-4397-bb09-9992c24b7712\",\"type\":\"Line\"},{\"attributes\":{\"fill_alpha\":{\"value\":0.7},\"fill_color\":{\"value\":\"#984ea3\"},\"line_alpha\":{\"value\":0.7},\"line_color\":{\"value\":\"#984ea3\"},\"x\":{\"field\":\"x\"},\"y\":{\"field\":\"y\"}},\"id\":\"e87c1f5e-1be3-4417-8052-26ac686f2005\",\"type\":\"Square\"},{\"attributes\":{\"line_alpha\":0.6,\"line_color\":\"#984ea3\",\"line_width\":3,\"x\":{\"field\":\"x\"},\"y\":{\"field\":\"y\"}},\"id\":\"0748d639-6a91-4ca1-aaf3-4c19b05dca6c\",\"type\":\"Line\"},{\"attributes\":{\"line_alpha\":0.1,\"line_color\":\"#1f77b4\",\"line_width\":1.5,\"x\":{\"field\":\"x\"},\"y\":{\"field\":\"y\"}},\"id\":\"afc9bdf0-8ccc-40d3-ab75-802783bd4148\",\"type\":\"Line\"},{\"attributes\":{\"callback\":null,\"data\":{\"x\":{\"__ndarray__\":\"HwV3SlHjwL8x0Q6IocHAv/mdvAbUc8C/yxdPIWgvwL+Gt330Xci/v14/ptQBP7+/Rq5rrNe7vr9+7MMAjUq+vzk8sde/8r2/EtZZHLfBvb9bqtsSrMW9vw8fGfP8Fb6/vC02b/HNvr+gbgB2jO2/v1RN3RbH0b6/jyehqEIvub8oN/Zmpmywv/9X81YMM5e/TfRJ1cl4mz+2BoWUNRK2P0TUGINfoMQ/R2RCvaXTzz+ShFV9ihHQPwTxVAr2tsY/+IjfnP3LvT/6ZyI58C6yP6wMPOwHUKg/A6RQvWYKoj+fJMuKBhqcP+gEgM8835Y/kWdP8hwVkz+z3nGFxzSPP0EsW/TXNog/Esn4PozJgT/Z4rycX7ZlP+x+6knS+3W/UftUz1OUhr96ZQUJHEmHv5CmOjr/UX2/CtARD3CSaL8NBNq9tpZrP/eaM6hm/JM/FKdflYERpz8X+Lj7CzOwP6u259MvC7I/5e3sdH1Ztz84JJueV0HAP2QVGL3sl8M/U2GVvCjjwz/bMxBIsrPDP1SPot5PncM/apGt1tGywz9+UJeBs33DP6cJhpF6f8I/Si+t/fm7wD9OGP0m99O8PzKlzZXQG7g/UjSvgZ4atD+4SJ44pV+xP5Tr7+6ZdLA/7mTBQ9vEsT8VSwadWDK0PxasjxRtR7Q/25mMNKTDrj8J9lWzVF2bP+hKOimUmFW/kgoAbEwUj7/fiKoZM3SOvzjlXz9Aw4G/SEwTOG8pbr/OHP91Xw9SvwAU8ykHLOG+jrYarF6KQT/4cpcw4QVjPwQ917CXi8k/\",\"dtype\":\"float64\",\"shape\":[75]},\"y\":{\"__ndarray__\":\"GhExyth1ND/Sv8nbtpRIP2vylNV0PVE/aTum7souWD/At0SJ8fVgPw3Iuahxymc/MSNhhJWvcD/bTfBN02d3P2zb5nxnaoA/CD5h5MAGhz8NmeH1TyaQP+zrCsc9p5Y/LbKd76fGnz/bLW5ISEmmPww9YvTcQq8/JV2OstnstT8Er5Y7M8G+P0c+r3jqkcU/5h99k6ZBzj88bCIzFzjVP4enV8oyxN0//yH99nXg5D8qOpLLf0jtP5kqGJXUifQ/c9cS8kHP/D+/DpwzojQEQIEmwoanVwxA4lgXt9HgE0BSSZ2AJuIbQAMJih9jjiNA5q4l5INuK0AwTKYKRj0zQNv5fmq8/DpAaCJseHrtQkB/+zpwzoxKQM3MzMzMeFJAZmZmZmZqWEAAAAAAAFxeQM3MzMzMJmJAmpmZmZkfZUBmZmZmZhhoQDMzMzMzEWtAAAAAAAAKbkBmZmZmZoFwQM3MzMzM/XFAMzMzMzN6c0CamZmZmfZ0QAAAAAAAc3ZAZmZmZmbvd0DNzMzMzGt5QDMzMzMz6HpAmpmZmZlkfEAAAAAAAOF9QGZmZmZmXX9AZmZmZuZsgECamZmZGSuBQM3MzMxM6YFAAAAAAICngkAzMzMzs2WDQGZmZmbmI4RAmpmZmRnihEDNzMzMTKCFQAAAAACAXoZAMzMzM7Mch0BmZmZm5tqHQJqZmZkZmYhAzczMzExXiUAAAAAAgBWKQDMzMzOz04pAZmZmZuaRi0CamZmZGVCMQM3MzMxMDo1AAAAAAIDMjUAzMzMzs4qOQGZmZmbmSI9A\",\"dtype\":\"float64\",\"shape\":[75]}},\"selected\":{\"id\":\"dbeae290-f700-44db-b0f8-d590a1c74164\",\"type\":\"Selection\"},\"selection_policy\":{\"id\":\"a96dff2f-be2e-4df2-a1ce-1c202fc6fa26\",\"type\":\"UnionRenderers\"}},\"id\":\"d3d1f5ab-7e1c-4b85-a9dc-19c235af6f1e\",\"type\":\"ColumnDataSource\"},{\"attributes\":{\"source\":{\"id\":\"d3d1f5ab-7e1c-4b85-a9dc-19c235af6f1e\",\"type\":\"ColumnDataSource\"}},\"id\":\"19d00e78-512c-4b0a-bede-5442d22984eb\",\"type\":\"CDSView\"},{\"attributes\":{\"callback\":null,\"data\":{\"x\":{\"__ndarray__\":\"HwV3SlHjwL8x0Q6IocHAv/mdvAbUc8C/yxdPIWgvwL+Gt330Xci/v14/ptQBP7+/Rq5rrNe7vr9+7MMAjUq+vzk8sde/8r2/EtZZHLfBvb9bqtsSrMW9vw8fGfP8Fb6/vC02b/HNvr+gbgB2jO2/v1RN3RbH0b6/jyehqEIvub8oN/Zmpmywv/9X81YMM5e/TfRJ1cl4mz+2BoWUNRK2P0TUGINfoMQ/R2RCvaXTzz+ShFV9ihHQPwTxVAr2tsY/+IjfnP3LvT/6ZyI58C6yP6wMPOwHUKg/A6RQvWYKoj+fJMuKBhqcP+gEgM8835Y/kWdP8hwVkz+z3nGFxzSPP0EsW/TXNog/Esn4PozJgT/Z4rycX7ZlP+x+6knS+3W/UftUz1OUhr96ZQUJHEmHv5CmOjr/UX2/CtARD3CSaL8NBNq9tpZrP/eaM6hm/JM/FKdflYERpz8X+Lj7CzOwP6u259MvC7I/5e3sdH1Ztz84JJueV0HAP2QVGL3sl8M/U2GVvCjjwz/bMxBIsrPDP1SPot5PncM/apGt1tGywz9+UJeBs33DP6cJhpF6f8I/Si+t/fm7wD9OGP0m99O8PzKlzZXQG7g/UjSvgZ4atD+4SJ44pV+xP5Tr7+6ZdLA/7mTBQ9vEsT8VSwadWDK0PxasjxRtR7Q/25mMNKTDrj8J9lWzVF2bP+hKOimUmFW/kgoAbEwUj7/fiKoZM3SOvzjlXz9Aw4G/SEwTOG8pbr/OHP91Xw9SvwAU8ykHLOG+jrYarF6KQT/4cpcw4QVjPwQ917CXi8k/\",\"dtype\":\"float64\",\"shape\":[75]},\"y\":{\"__ndarray__\":\"GhExyth1ND/Sv8nbtpRIP2vylNV0PVE/aTum7souWD/At0SJ8fVgPw3Iuahxymc/MSNhhJWvcD/bTfBN02d3P2zb5nxnaoA/CD5h5MAGhz8NmeH1TyaQP+zrCsc9p5Y/LbKd76fGnz/bLW5ISEmmPww9YvTcQq8/JV2OstnstT8Er5Y7M8G+P0c+r3jqkcU/5h99k6ZBzj88bCIzFzjVP4enV8oyxN0//yH99nXg5D8qOpLLf0jtP5kqGJXUifQ/c9cS8kHP/D+/DpwzojQEQIEmwoanVwxA4lgXt9HgE0BSSZ2AJuIbQAMJih9jjiNA5q4l5INuK0AwTKYKRj0zQNv5fmq8/DpAaCJseHrtQkB/+zpwzoxKQM3MzMzMeFJAZmZmZmZqWEAAAAAAAFxeQM3MzMzMJmJAmpmZmZkfZUBmZmZmZhhoQDMzMzMzEWtAAAAAAAAKbkBmZmZmZoFwQM3MzMzM/XFAMzMzMzN6c0CamZmZmfZ0QAAAAAAAc3ZAZmZmZmbvd0DNzMzMzGt5QDMzMzMz6HpAmpmZmZlkfEAAAAAAAOF9QGZmZmZmXX9AZmZmZuZsgECamZmZGSuBQM3MzMxM6YFAAAAAAICngkAzMzMzs2WDQGZmZmbmI4RAmpmZmRnihEDNzMzMTKCFQAAAAACAXoZAMzMzM7Mch0BmZmZm5tqHQJqZmZkZmYhAzczMzExXiUAAAAAAgBWKQDMzMzOz04pAZmZmZuaRi0CamZmZGVCMQM3MzMxMDo1AAAAAAIDMjUAzMzMzs4qOQGZmZmbmSI9A\",\"dtype\":\"float64\",\"shape\":[75]}},\"selected\":{\"id\":\"1f2e67e8-1b74-440a-b571-4c56aa88dcb2\",\"type\":\"Selection\"},\"selection_policy\":{\"id\":\"2133c65c-ea53-4178-9dfa-996adb8f9d7c\",\"type\":\"UnionRenderers\"}},\"id\":\"8778b9ea-cb6f-45c7-847f-2b55f361f717\",\"type\":\"ColumnDataSource\"},{\"attributes\":{\"line_color\":\"#4daf4a\",\"line_width\":1.5,\"x\":{\"field\":\"x\"},\"y\":{\"field\":\"y\"}},\"id\":\"3f3194d4-1b5e-47c1-b5fd-8cca3b0a3499\",\"type\":\"Line\"},{\"attributes\":{\"fill_alpha\":{\"value\":0.1},\"fill_color\":{\"value\":\"#1f77b4\"},\"line_alpha\":{\"value\":0.1},\"line_color\":{\"value\":\"#1f77b4\"},\"x\":{\"field\":\"x\"},\"y\":{\"field\":\"y\"}},\"id\":\"29a88179-2a2d-41e9-ad64-05d049fed7ff\",\"type\":\"Square\"},{\"attributes\":{\"data_source\":{\"id\":\"d3d1f5ab-7e1c-4b85-a9dc-19c235af6f1e\",\"type\":\"ColumnDataSource\"},\"glyph\":{\"id\":\"e87c1f5e-1be3-4417-8052-26ac686f2005\",\"type\":\"Square\"},\"hover_glyph\":null,\"muted_glyph\":null,\"nonselection_glyph\":{\"id\":\"29a88179-2a2d-41e9-ad64-05d049fed7ff\",\"type\":\"Square\"},\"selection_glyph\":null,\"view\":{\"id\":\"19d00e78-512c-4b0a-bede-5442d22984eb\",\"type\":\"CDSView\"}},\"id\":\"535596c7-08dc-4f7d-9a2c-756a4fe48fbd\",\"type\":\"GlyphRenderer\"},{\"attributes\":{\"data_source\":{\"id\":\"4ef02a1c-a060-4d4e-9a88-947d5bdbd401\",\"type\":\"ColumnDataSource\"},\"glyph\":{\"id\":\"3f3194d4-1b5e-47c1-b5fd-8cca3b0a3499\",\"type\":\"Line\"},\"hover_glyph\":null,\"muted_glyph\":null,\"nonselection_glyph\":{\"id\":\"afc9bdf0-8ccc-40d3-ab75-802783bd4148\",\"type\":\"Line\"},\"selection_glyph\":null,\"view\":{\"id\":\"921a9aee-3ce0-4768-91b4-3692b0f4196d\",\"type\":\"CDSView\"}},\"id\":\"4c16ea54-ce37-4327-a250-05bcd072fc2f\",\"type\":\"GlyphRenderer\"},{\"attributes\":{\"source\":{\"id\":\"7366a59c-cd74-4f27-8cc2-10a40cc22848\",\"type\":\"ColumnDataSource\"}},\"id\":\"109bb07b-a409-46eb-bdfc-281eb18ce9ec\",\"type\":\"CDSView\"},{\"attributes\":{\"dimension\":1,\"plot\":{\"id\":\"e149283e-8b3f-4704-b0d6-b2645a257ada\",\"subtype\":\"Figure\",\"type\":\"Plot\"},\"ticker\":{\"id\":\"0399dd95-d0da-477c-a416-c3471731ca3f\",\"type\":\"LogTicker\"}},\"id\":\"2169cdeb-ee29-41ca-bb3c-dcebf8e3b2e2\",\"type\":\"Grid\"},{\"attributes\":{\"plot\":null,\"text\":\"Log pressure scale\"},\"id\":\"1719457e-bde3-43f2-8140-8683f9fdfed0\",\"type\":\"Title\"},{\"attributes\":{\"line_alpha\":0.1,\"line_color\":\"#1f77b4\",\"line_width\":3,\"x\":{\"field\":\"x\"},\"y\":{\"field\":\"y\"}},\"id\":\"32f37e53-27fd-460b-ab24-1c551e166921\",\"type\":\"Line\"},{\"attributes\":{\"axis_label\":\"cooling rate [K/day]\",\"formatter\":{\"id\":\"5253d2e2-dc56-4c26-8c99-c1cfc188f94a\",\"type\":\"BasicTickFormatter\"},\"plot\":{\"id\":\"e149283e-8b3f-4704-b0d6-b2645a257ada\",\"subtype\":\"Figure\",\"type\":\"Plot\"},\"ticker\":{\"id\":\"a82f0dd1-cfd3-48ac-b478-a10c65290289\",\"type\":\"BasicTicker\"}},\"id\":\"6dcb55a0-91ea-4a0e-a5d5-9a6533ded557\",\"type\":\"LinearAxis\"},{\"attributes\":{},\"id\":\"a3dc02c3-c11f-4d3b-9c6b-3c3c77fe1cfc\",\"type\":\"LogScale\"},{\"attributes\":{},\"id\":\"a82f0dd1-cfd3-48ac-b478-a10c65290289\",\"type\":\"BasicTicker\"},{\"attributes\":{\"plot\":{\"id\":\"e149283e-8b3f-4704-b0d6-b2645a257ada\",\"subtype\":\"Figure\",\"type\":\"Plot\"},\"ticker\":{\"id\":\"a82f0dd1-cfd3-48ac-b478-a10c65290289\",\"type\":\"BasicTicker\"}},\"id\":\"1a38b833-7842-49f5-bd55-266aa5490994\",\"type\":\"Grid\"},{\"attributes\":{\"axis_label\":\"pressure [mb]\",\"formatter\":{\"id\":\"be3bd3b4-8cf1-4c54-b307-295bce3c9d30\",\"type\":\"LogTickFormatter\"},\"plot\":{\"id\":\"e149283e-8b3f-4704-b0d6-b2645a257ada\",\"subtype\":\"Figure\",\"type\":\"Plot\"},\"ticker\":{\"id\":\"0399dd95-d0da-477c-a416-c3471731ca3f\",\"type\":\"LogTicker\"}},\"id\":\"a98c54da-4d7c-4b0e-97b8-f7faeab8d3d4\",\"type\":\"LogAxis\"},{\"attributes\":{\"num_minor_ticks\":10},\"id\":\"0399dd95-d0da-477c-a416-c3471731ca3f\",\"type\":\"LogTicker\"},{\"attributes\":{\"data_source\":{\"id\":\"8778b9ea-cb6f-45c7-847f-2b55f361f717\",\"type\":\"ColumnDataSource\"},\"glyph\":{\"id\":\"0748d639-6a91-4ca1-aaf3-4c19b05dca6c\",\"type\":\"Line\"},\"hover_glyph\":null,\"muted_glyph\":null,\"nonselection_glyph\":{\"id\":\"32f37e53-27fd-460b-ab24-1c551e166921\",\"type\":\"Line\"},\"selection_glyph\":null,\"view\":{\"id\":\"27b87edd-7d66-44d5-8909-54f5a7c2b2f3\",\"type\":\"CDSView\"}},\"id\":\"cd54ef7b-1ca3-4938-86e2-57c11f99576d\",\"type\":\"GlyphRenderer\"},{\"attributes\":{\"source\":{\"id\":\"bd2aec17-9e53-4c88-88ea-e100121b8dee\",\"type\":\"ColumnDataSource\"}},\"id\":\"dd8eeeff-5c7f-45d9-b745-7ae54dece320\",\"type\":\"CDSView\"},{\"attributes\":{\"callback\":null,\"end\":0.25603489690000003,\"start\":-0.1321818869},\"id\":\"3202bfb5-9820-4c45-a983-52717f081559\",\"type\":\"Range1d\"},{\"attributes\":{\"active_drag\":\"auto\",\"active_inspect\":\"auto\",\"active_scroll\":\"auto\",\"active_tap\":\"auto\",\"tools\":[{\"id\":\"e2f43f49-972f-4862-ad7d-d19dfc9c3430\",\"type\":\"PanTool\"},{\"id\":\"48de64cd-35bb-4152-9f43-8eb8b8e904df\",\"type\":\"WheelZoomTool\"},{\"id\":\"a6fc6b01-bfee-4d2f-a66c-009f917b9b52\",\"type\":\"BoxZoomTool\"},{\"id\":\"f9c20dee-0e1b-4424-be8f-dd87124d27c3\",\"type\":\"SaveTool\"},{\"id\":\"cea23097-8eeb-4989-b0cf-80670137b8b2\",\"type\":\"ResetTool\"},{\"id\":\"ca15ca5e-3a48-4f8a-b918-f0f4cdda9f65\",\"type\":\"HelpTool\"}]},\"id\":\"bb5d4f32-a1fa-4342-923e-3eaa89d8d8b4\",\"type\":\"Toolbar\"},{\"attributes\":{\"source\":{\"id\":\"8778b9ea-cb6f-45c7-847f-2b55f361f717\",\"type\":\"ColumnDataSource\"}},\"id\":\"27b87edd-7d66-44d5-8909-54f5a7c2b2f3\",\"type\":\"CDSView\"},{\"attributes\":{\"items\":[{\"id\":\"774fb260-bbc2-40c4-960c-a128bcb534c8\",\"type\":\"LegendItem\"},{\"id\":\"e655c880-c8fd-4c35-a424-7ab0b3962704\",\"type\":\"LegendItem\"},{\"id\":\"314d15cd-46cc-4cd9-80a8-e5ae3ae3f4f6\",\"type\":\"LegendItem\"}],\"label_text_font_size\":{\"value\":\"8pt\"},\"location\":[10,-30],\"plot\":{\"id\":\"e149283e-8b3f-4704-b0d6-b2645a257ada\",\"subtype\":\"Figure\",\"type\":\"Plot\"}},\"id\":\"ad76fb38-6216-439d-ba50-19ec945da0f1\",\"type\":\"Legend\"},{\"attributes\":{},\"id\":\"7c3ab639-20bf-484b-b47c-9486f8b1284f\",\"type\":\"LinearScale\"},{\"attributes\":{\"callback\":null,\"data\":{\"x\":{\"__ndarray__\":\"HwV3SlHjwL8x0Q6IocHAv/mdvAbUc8C/yxdPIWgvwL+Gt330Xci/v14/ptQBP7+/Rq5rrNe7vr9+7MMAjUq+vzk8sde/8r2/EtZZHLfBvb9bqtsSrMW9vw8fGfP8Fb6/vC02b/HNvr+gbgB2jO2/v1RN3RbH0b6/jyehqEIvub8oN/Zmpmywv/9X81YMM5e/TfRJ1cl4mz+2BoWUNRK2P0TUGINfoMQ/R2RCvaXTzz+ShFV9ihHQPwTxVAr2tsY/+IjfnP3LvT/6ZyI58C6yP6wMPOwHUKg/A6RQvWYKoj+fJMuKBhqcP+gEgM8835Y/kWdP8hwVkz+z3nGFxzSPP0EsW/TXNog/Esn4PozJgT/Z4rycX7ZlP+x+6knS+3W/UftUz1OUhr96ZQUJHEmHv5CmOjr/UX2/CtARD3CSaL8NBNq9tpZrP/eaM6hm/JM/FKdflYERpz8X+Lj7CzOwP6u259MvC7I/5e3sdH1Ztz84JJueV0HAP2QVGL3sl8M/U2GVvCjjwz/bMxBIsrPDP1SPot5PncM/apGt1tGywz9+UJeBs33DP6cJhpF6f8I/Si+t/fm7wD9OGP0m99O8PzKlzZXQG7g/UjSvgZ4atD+4SJ44pV+xP5Tr7+6ZdLA/7mTBQ9vEsT8VSwadWDK0PxasjxRtR7Q/25mMNKTDrj8J9lWzVF2bP+hKOimUmFW/kgoAbEwUj7/fiKoZM3SOvzjlXz9Aw4G/SEwTOG8pbr/OHP91Xw9SvwAU8ykHLOG+jrYarF6KQT/4cpcw4QVjPwQ917CXi8k/\",\"dtype\":\"float64\",\"shape\":[75]},\"y\":{\"__ndarray__\":\"GhExyth1ND/Sv8nbtpRIP2vylNV0PVE/aTum7souWD/At0SJ8fVgPw3Iuahxymc/MSNhhJWvcD/bTfBN02d3P2zb5nxnaoA/CD5h5MAGhz8NmeH1TyaQP+zrCsc9p5Y/LbKd76fGnz/bLW5ISEmmPww9YvTcQq8/JV2OstnstT8Er5Y7M8G+P0c+r3jqkcU/5h99k6ZBzj88bCIzFzjVP4enV8oyxN0//yH99nXg5D8qOpLLf0jtP5kqGJXUifQ/c9cS8kHP/D+/DpwzojQEQIEmwoanVwxA4lgXt9HgE0BSSZ2AJuIbQAMJih9jjiNA5q4l5INuK0AwTKYKRj0zQNv5fmq8/DpAaCJseHrtQkB/+zpwzoxKQM3MzMzMeFJAZmZmZmZqWEAAAAAAAFxeQM3MzMzMJmJAmpmZmZkfZUBmZmZmZhhoQDMzMzMzEWtAAAAAAAAKbkBmZmZmZoFwQM3MzMzM/XFAMzMzMzN6c0CamZmZmfZ0QAAAAAAAc3ZAZmZmZmbvd0DNzMzMzGt5QDMzMzMz6HpAmpmZmZlkfEAAAAAAAOF9QGZmZmZmXX9AZmZmZuZsgECamZmZGSuBQM3MzMxM6YFAAAAAAICngkAzMzMzs2WDQGZmZmbmI4RAmpmZmRnihEDNzMzMTKCFQAAAAACAXoZAMzMzM7Mch0BmZmZm5tqHQJqZmZkZmYhAzczMzExXiUAAAAAAgBWKQDMzMzOz04pAZmZmZuaRi0CamZmZGVCMQM3MzMxMDo1AAAAAAIDMjUAzMzMzs4qOQGZmZmbmSI9A\",\"dtype\":\"float64\",\"shape\":[75]}},\"selected\":{\"id\":\"5019e0f2-7353-481f-ab88-f23147a0db48\",\"type\":\"Selection\"},\"selection_policy\":{\"id\":\"54d7aff4-a126-4179-8dae-ca443e590ea3\",\"type\":\"UnionRenderers\"}},\"id\":\"fb063633-c851-4e7c-89d7-5e5e3ba634b5\",\"type\":\"ColumnDataSource\"},{\"attributes\":{},\"id\":\"48de64cd-35bb-4152-9f43-8eb8b8e904df\",\"type\":\"WheelZoomTool\"},{\"attributes\":{\"overlay\":{\"id\":\"585ada1a-e361-4332-a1ac-e70ffa2b84c3\",\"type\":\"BoxAnnotation\"}},\"id\":\"a6fc6b01-bfee-4d2f-a66c-009f917b9b52\",\"type\":\"BoxZoomTool\"},{\"attributes\":{\"callback\":null,\"end\":0.01,\"start\":1020},\"id\":\"d06d9366-f339-47ca-9c77-271f9b0e3329\",\"type\":\"Range1d\"},{\"attributes\":{\"data_source\":{\"id\":\"bd2aec17-9e53-4c88-88ea-e100121b8dee\",\"type\":\"ColumnDataSource\"},\"glyph\":{\"id\":\"b60cd696-8347-49ef-adea-cd2f379e464a\",\"type\":\"Square\"},\"hover_glyph\":null,\"muted_glyph\":null,\"nonselection_glyph\":{\"id\":\"6ec48863-cb45-4f82-b836-75a938f5f4b7\",\"type\":\"Square\"},\"selection_glyph\":null,\"view\":{\"id\":\"dd8eeeff-5c7f-45d9-b745-7ae54dece320\",\"type\":\"CDSView\"}},\"id\":\"bca0364b-eb89-46db-aa15-36d13ae5e12b\",\"type\":\"GlyphRenderer\"},{\"attributes\":{},\"id\":\"ca15ca5e-3a48-4f8a-b918-f0f4cdda9f65\",\"type\":\"HelpTool\"},{\"attributes\":{},\"id\":\"cea23097-8eeb-4989-b0cf-80670137b8b2\",\"type\":\"ResetTool\"},{\"attributes\":{\"bottom_units\":\"screen\",\"fill_alpha\":{\"value\":0.5},\"fill_color\":{\"value\":\"lightgrey\"},\"left_units\":\"screen\",\"level\":\"overlay\",\"line_alpha\":{\"value\":1.0},\"line_color\":{\"value\":\"black\"},\"line_dash\":[4,4],\"line_width\":{\"value\":2},\"plot\":null,\"render_mode\":\"css\",\"right_units\":\"screen\",\"top_units\":\"screen\"},\"id\":\"585ada1a-e361-4332-a1ac-e70ffa2b84c3\",\"type\":\"BoxAnnotation\"},{\"attributes\":{},\"id\":\"e2f43f49-972f-4862-ad7d-d19dfc9c3430\",\"type\":\"PanTool\"},{\"attributes\":{},\"id\":\"f9c20dee-0e1b-4424-be8f-dd87124d27c3\",\"type\":\"SaveTool\"},{\"attributes\":{\"ticker\":null},\"id\":\"be3bd3b4-8cf1-4c54-b307-295bce3c9d30\",\"type\":\"LogTickFormatter\"},{\"attributes\":{\"data_source\":{\"id\":\"b0487922-fd7c-4ca8-a2a2-8e77358f9484\",\"type\":\"ColumnDataSource\"},\"glyph\":{\"id\":\"f055a6cc-2a6e-4397-bb09-9992c24b7712\",\"type\":\"Line\"},\"hover_glyph\":null,\"muted_glyph\":null,\"nonselection_glyph\":{\"id\":\"1a3c9f6e-7d0e-48e7-b113-08d1af1f357b\",\"type\":\"Line\"},\"selection_glyph\":null,\"view\":{\"id\":\"7774e9ed-622e-4f70-9d03-ae0ae892bff5\",\"type\":\"CDSView\"}},\"id\":\"7cc1ec9a-400d-41e5-aa80-d481fc701425\",\"type\":\"GlyphRenderer\"},{\"attributes\":{},\"id\":\"5253d2e2-dc56-4c26-8c99-c1cfc188f94a\",\"type\":\"BasicTickFormatter\"},{\"attributes\":{\"callback\":null,\"end\":0.01,\"start\":1020},\"id\":\"c820e6d9-96d6-459d-a2bd-937e88e607e0\",\"type\":\"Range1d\"},{\"attributes\":{\"line_alpha\":0.1,\"line_color\":\"#1f77b4\",\"line_width\":3,\"x\":{\"field\":\"x\"},\"y\":{\"field\":\"y\"}},\"id\":\"a166e6fe-84dd-44b5-b3d7-df94adc74ff8\",\"type\":\"Line\"},{\"attributes\":{},\"id\":\"d0a27164-b221-4f38-b517-8ad4e06d8e39\",\"type\":\"UnionRenderers\"},{\"attributes\":{},\"id\":\"27c79a9d-e2ec-4040-9622-d67ea37f08c1\",\"type\":\"Selection\"},{\"attributes\":{},\"id\":\"2eee7f91-8560-4f23-ae06-7d9922a3cdbf\",\"type\":\"UnionRenderers\"},{\"attributes\":{},\"id\":\"5019e0f2-7353-481f-ab88-f23147a0db48\",\"type\":\"Selection\"},{\"attributes\":{},\"id\":\"54d7aff4-a126-4179-8dae-ca443e590ea3\",\"type\":\"UnionRenderers\"},{\"attributes\":{},\"id\":\"8d4b8958-584c-4a6b-8071-5cfc2002d667\",\"type\":\"Selection\"},{\"attributes\":{},\"id\":\"ccb9a395-a4a1-4912-8b41-1ac4bcb170b2\",\"type\":\"UnionRenderers\"},{\"attributes\":{},\"id\":\"10ba05ad-eb92-4c23-b717-93f18d070777\",\"type\":\"Selection\"},{\"attributes\":{\"dimension\":1,\"plot\":{\"id\":\"47b77eea-5c19-4ae1-907b-63a0ad5c64e8\",\"subtype\":\"Figure\",\"type\":\"Plot\"},\"ticker\":{\"id\":\"d00e69d8-9179-44ce-966f-5f44d7fe6a41\",\"type\":\"BasicTicker\"}},\"id\":\"a96083e4-13df-4af4-9bac-de53825a1358\",\"type\":\"Grid\"},{\"attributes\":{\"fill_alpha\":{\"value\":0.1},\"fill_color\":{\"value\":\"#1f77b4\"},\"line_alpha\":{\"value\":0.1},\"line_color\":{\"value\":\"#1f77b4\"},\"x\":{\"field\":\"x\"},\"y\":{\"field\":\"y\"}},\"id\":\"6ec48863-cb45-4f82-b836-75a938f5f4b7\",\"type\":\"Square\"},{\"attributes\":{},\"id\":\"942622b1-849d-46e9-bf24-a71eb22dcec4\",\"type\":\"UnionRenderers\"},{\"attributes\":{},\"id\":\"610d1470-d0ae-4474-ac32-081e5cd33c66\",\"type\":\"Selection\"},{\"attributes\":{\"children\":[{\"id\":\"1293e8eb-a65e-4e8e-bda8-1ed5aeec3261\",\"type\":\"ToolbarBox\"},{\"id\":\"c9b016fe-97f4-42cc-b791-809e077aaf26\",\"type\":\"Column\"}]},\"id\":\"6c10974f-f5ac-49ca-87fc-6ce1710202d5\",\"type\":\"Column\"},{\"attributes\":{\"below\":[{\"id\":\"6dcb55a0-91ea-4a0e-a5d5-9a6533ded557\",\"type\":\"LinearAxis\"}],\"left\":[{\"id\":\"a98c54da-4d7c-4b0e-97b8-f7faeab8d3d4\",\"type\":\"LogAxis\"}],\"plot_height\":500,\"plot_width\":560,\"renderers\":[{\"id\":\"6dcb55a0-91ea-4a0e-a5d5-9a6533ded557\",\"type\":\"LinearAxis\"},{\"id\":\"1a38b833-7842-49f5-bd55-266aa5490994\",\"type\":\"Grid\"},{\"id\":\"a98c54da-4d7c-4b0e-97b8-f7faeab8d3d4\",\"type\":\"LogAxis\"},{\"id\":\"2169cdeb-ee29-41ca-bb3c-dcebf8e3b2e2\",\"type\":\"Grid\"},{\"id\":\"585ada1a-e361-4332-a1ac-e70ffa2b84c3\",\"type\":\"BoxAnnotation\"},{\"id\":\"7cc1ec9a-400d-41e5-aa80-d481fc701425\",\"type\":\"GlyphRenderer\"},{\"id\":\"c80693d9-e20b-4eb0-9bd8-cafbe39bacb6\",\"type\":\"GlyphRenderer\"},{\"id\":\"fdfeecf3-5f5e-43a1-9729-5b6a441a2ae7\",\"type\":\"GlyphRenderer\"},{\"id\":\"bca0364b-eb89-46db-aa15-36d13ae5e12b\",\"type\":\"GlyphRenderer\"},{\"id\":\"eb99a2d5-3325-4d6a-9b92-ec55c1115c15\",\"type\":\"GlyphRenderer\"},{\"id\":\"ad76fb38-6216-439d-ba50-19ec945da0f1\",\"type\":\"Legend\"}],\"right\":[{\"id\":\"ad76fb38-6216-439d-ba50-19ec945da0f1\",\"type\":\"Legend\"}],\"title\":{\"id\":\"1719457e-bde3-43f2-8140-8683f9fdfed0\",\"type\":\"Title\"},\"toolbar\":{\"id\":\"bb5d4f32-a1fa-4342-923e-3eaa89d8d8b4\",\"type\":\"Toolbar\"},\"toolbar_location\":null,\"x_range\":{\"id\":\"3202bfb5-9820-4c45-a983-52717f081559\",\"type\":\"Range1d\"},\"x_scale\":{\"id\":\"7c3ab639-20bf-484b-b47c-9486f8b1284f\",\"type\":\"LinearScale\"},\"y_range\":{\"id\":\"c820e6d9-96d6-459d-a2bd-937e88e607e0\",\"type\":\"Range1d\"},\"y_scale\":{\"id\":\"a3dc02c3-c11f-4d3b-9c6b-3c3c77fe1cfc\",\"type\":\"LogScale\"}},\"id\":\"e149283e-8b3f-4704-b0d6-b2645a257ada\",\"subtype\":\"Figure\",\"type\":\"Plot\"},{\"attributes\":{\"children\":[{\"id\":\"47b77eea-5c19-4ae1-907b-63a0ad5c64e8\",\"subtype\":\"Figure\",\"type\":\"Plot\"},{\"id\":\"e149283e-8b3f-4704-b0d6-b2645a257ada\",\"subtype\":\"Figure\",\"type\":\"Plot\"}]},\"id\":\"93798660-7777-48c7-b218-004ec32478d5\",\"type\":\"Row\"},{\"attributes\":{\"tools\":[{\"id\":\"db21dc00-9e04-47a8-8621-fb6bd3f703a5\",\"type\":\"PanTool\"},{\"id\":\"d36b3a95-9d70-4680-a160-7b2abc9df048\",\"type\":\"WheelZoomTool\"},{\"id\":\"0ff096f2-ed58-45b7-adc5-7bde433ddb5c\",\"type\":\"BoxZoomTool\"},{\"id\":\"0e5193b8-9204-4134-b282-4f3102cdc5d1\",\"type\":\"SaveTool\"},{\"id\":\"05e9ca83-33bb-42fb-b15d-4277b6a5b88f\",\"type\":\"ResetTool\"},{\"id\":\"33ebfed9-fa4c-42d1-b87a-4b32aeef71e7\",\"type\":\"HelpTool\"},{\"id\":\"e2f43f49-972f-4862-ad7d-d19dfc9c3430\",\"type\":\"PanTool\"},{\"id\":\"48de64cd-35bb-4152-9f43-8eb8b8e904df\",\"type\":\"WheelZoomTool\"},{\"id\":\"a6fc6b01-bfee-4d2f-a66c-009f917b9b52\",\"type\":\"BoxZoomTool\"},{\"id\":\"f9c20dee-0e1b-4424-be8f-dd87124d27c3\",\"type\":\"SaveTool\"},{\"id\":\"cea23097-8eeb-4989-b0cf-80670137b8b2\",\"type\":\"ResetTool\"},{\"id\":\"ca15ca5e-3a48-4f8a-b918-f0f4cdda9f65\",\"type\":\"HelpTool\"}]},\"id\":\"fa148264-a9d9-4178-b665-c1d98bf0e2c0\",\"type\":\"ProxyToolbar\"},{\"attributes\":{},\"id\":\"0e5193b8-9204-4134-b282-4f3102cdc5d1\",\"type\":\"SaveTool\"},{\"attributes\":{\"toolbar\":{\"id\":\"fa148264-a9d9-4178-b665-c1d98bf0e2c0\",\"type\":\"ProxyToolbar\"},\"toolbar_location\":\"above\"},\"id\":\"1293e8eb-a65e-4e8e-bda8-1ed5aeec3261\",\"type\":\"ToolbarBox\"},{\"attributes\":{\"line_alpha\":0.1,\"line_color\":\"#1f77b4\",\"line_dash\":[6],\"line_width\":5,\"x\":{\"field\":\"x\"},\"y\":{\"field\":\"y\"}},\"id\":\"1a3c9f6e-7d0e-48e7-b113-08d1af1f357b\",\"type\":\"Line\"},{\"attributes\":{},\"id\":\"33ebfed9-fa4c-42d1-b87a-4b32aeef71e7\",\"type\":\"HelpTool\"},{\"attributes\":{\"plot\":null,\"text\":\"Linear pressure scale\"},\"id\":\"f69b42b4-19ab-4000-a8c9-a0eaa87f6696\",\"type\":\"Title\"},{\"attributes\":{\"source\":{\"id\":\"b0487922-fd7c-4ca8-a2a2-8e77358f9484\",\"type\":\"ColumnDataSource\"}},\"id\":\"7774e9ed-622e-4f70-9d03-ae0ae892bff5\",\"type\":\"CDSView\"},{\"attributes\":{\"source\":{\"id\":\"17471442-64e6-4560-8585-0a2d15d46fd4\",\"type\":\"ColumnDataSource\"}},\"id\":\"0720d48b-8366-4eef-adb6-be86880f103a\",\"type\":\"CDSView\"},{\"attributes\":{\"callback\":null,\"data\":{\"x\":{\"__ndarray__\":\"HwV3SlHjwL8x0Q6IocHAv/mdvAbUc8C/yxdPIWgvwL+Gt330Xci/v14/ptQBP7+/Rq5rrNe7vr9+7MMAjUq+vzk8sde/8r2/EtZZHLfBvb9bqtsSrMW9vw8fGfP8Fb6/vC02b/HNvr+gbgB2jO2/v1RN3RbH0b6/jyehqEIvub8oN/Zmpmywv/9X81YMM5e/TfRJ1cl4mz+2BoWUNRK2P0TUGINfoMQ/R2RCvaXTzz+ShFV9ihHQPwTxVAr2tsY/+IjfnP3LvT/6ZyI58C6yP6wMPOwHUKg/A6RQvWYKoj+fJMuKBhqcP+gEgM8835Y/kWdP8hwVkz+z3nGFxzSPP0EsW/TXNog/Esn4PozJgT/Z4rycX7ZlP+x+6knS+3W/UftUz1OUhr96ZQUJHEmHv5CmOjr/UX2/CtARD3CSaL8NBNq9tpZrP/eaM6hm/JM/FKdflYERpz8X+Lj7CzOwP6u259MvC7I/5e3sdH1Ztz84JJueV0HAP2QVGL3sl8M/U2GVvCjjwz/bMxBIsrPDP1SPot5PncM/apGt1tGywz9+UJeBs33DP6cJhpF6f8I/Si+t/fm7wD9OGP0m99O8PzKlzZXQG7g/UjSvgZ4atD+4SJ44pV+xP5Tr7+6ZdLA/7mTBQ9vEsT8VSwadWDK0PxasjxRtR7Q/25mMNKTDrj8J9lWzVF2bP+hKOimUmFW/kgoAbEwUj7/fiKoZM3SOvzjlXz9Aw4G/SEwTOG8pbr/OHP91Xw9SvwAU8ykHLOG+jrYarF6KQT/4cpcw4QVjPwQ917CXi8k/\",\"dtype\":\"float64\",\"shape\":[75]},\"y\":{\"__ndarray__\":\"GhExyth1ND/Sv8nbtpRIP2vylNV0PVE/aTum7souWD/At0SJ8fVgPw3Iuahxymc/MSNhhJWvcD/bTfBN02d3P2zb5nxnaoA/CD5h5MAGhz8NmeH1TyaQP+zrCsc9p5Y/LbKd76fGnz/bLW5ISEmmPww9YvTcQq8/JV2OstnstT8Er5Y7M8G+P0c+r3jqkcU/5h99k6ZBzj88bCIzFzjVP4enV8oyxN0//yH99nXg5D8qOpLLf0jtP5kqGJXUifQ/c9cS8kHP/D+/DpwzojQEQIEmwoanVwxA4lgXt9HgE0BSSZ2AJuIbQAMJih9jjiNA5q4l5INuK0AwTKYKRj0zQNv5fmq8/DpAaCJseHrtQkB/+zpwzoxKQM3MzMzMeFJAZmZmZmZqWEAAAAAAAFxeQM3MzMzMJmJAmpmZmZkfZUBmZmZmZhhoQDMzMzMzEWtAAAAAAAAKbkBmZmZmZoFwQM3MzMzM/XFAMzMzMzN6c0CamZmZmfZ0QAAAAAAAc3ZAZmZmZmbvd0DNzMzMzGt5QDMzMzMz6HpAmpmZmZlkfEAAAAAAAOF9QGZmZmZmXX9AZmZmZuZsgECamZmZGSuBQM3MzMxM6YFAAAAAAICngkAzMzMzs2WDQGZmZmbmI4RAmpmZmRnihEDNzMzMTKCFQAAAAACAXoZAMzMzM7Mch0BmZmZm5tqHQJqZmZkZmYhAzczMzExXiUAAAAAAgBWKQDMzMzOz04pAZmZmZuaRi0CamZmZGVCMQM3MzMxMDo1AAAAAAIDMjUAzMzMzs4qOQGZmZmbmSI9A\",\"dtype\":\"float64\",\"shape\":[75]}},\"selected\":{\"id\":\"610d1470-d0ae-4474-ac32-081e5cd33c66\",\"type\":\"Selection\"},\"selection_policy\":{\"id\":\"942622b1-849d-46e9-bf24-a71eb22dcec4\",\"type\":\"UnionRenderers\"}},\"id\":\"bd2aec17-9e53-4c88-88ea-e100121b8dee\",\"type\":\"ColumnDataSource\"},{\"attributes\":{},\"id\":\"2133c65c-ea53-4178-9dfa-996adb8f9d7c\",\"type\":\"UnionRenderers\"},{\"attributes\":{\"callback\":null,\"data\":{\"x\":{\"__ndarray__\":\"CKqIy9htvr9HrwYoDTW+vyRYJD9Fgr2/nr5UIj/RvL+4xuvqIyq8v/8a94MNkbu/XxbJDXUOu7+KbfcX5qm6v6tyJStUcbq/uE1lD7xzur8r+flrice6vweabI8gjbu/fUGo3lz0vL8knxUgIwO/vwdPdJ8UlL6/kQKFJvv6uL/v7x1JCiuwv5CfvZVNApe/5O0B7SAMmj+VDISNgES1PwPvP43WLMQ/L4T/Ibvazz9j5HZ5hCTQP9OM4qge4cY/h8T7eWwuvj/lrGEc4vOxP97FONUTw6Y/GG3KH1BZoD953X6grH2ZP4cGIr4llpQ/th5+MW2VkD/P2Lh6JfuJP2gksQlRg4M/hqWqngbrez+9eC6wKNxbP8PGiS/SBHS/5A4Vj/2/g7/JrwMNVMuEv9ykrCNqSXu/Dm7zjughaL+9a+zsDblnP+wjsGz4c5A/KlLvFjkloj+8Y5qxtMiuPwlkSZU1pbY/CnRYp+sFvj/wNspVhzfCP+jLfwajK8Q/k7nHDDM4xD89hr8NzjPEP/XBzwu5ysM/Yy4losr2wj8nXQIJ7cnBP6GmM4M6XcA/ILLtWXyvvT+ZPI60jom6P/v32ftmeLc/SrJQYymvtD9R3hNgYnCyP3mfgno1a7E/ZjBnMvNPsj87WMc90mq0P436Qs0yObQ/sZnA0MqNrj+citDftnybPzm4G3Pe4kO/Yg1F8ZJOjL9t1p8Y59yKv2JjoGPu93u/YAsmcH7SX7+8Nbr6h486P8pfh1WvZ1c/LDxYlEwtXz8iaW+k94NtP4jOWwqCpsk/\",\"dtype\":\"float64\",\"shape\":[75]},\"y\":{\"__ndarray__\":\"GhExyth1ND/Sv8nbtpRIP2vylNV0PVE/aTum7souWD/At0SJ8fVgPw3Iuahxymc/MSNhhJWvcD/bTfBN02d3P2zb5nxnaoA/CD5h5MAGhz8NmeH1TyaQP+zrCsc9p5Y/LbKd76fGnz/bLW5ISEmmPww9YvTcQq8/JV2OstnstT8Er5Y7M8G+P0c+r3jqkcU/5h99k6ZBzj88bCIzFzjVP4enV8oyxN0//yH99nXg5D8qOpLLf0jtP5kqGJXUifQ/c9cS8kHP/D+/DpwzojQEQIEmwoanVwxA4lgXt9HgE0BSSZ2AJuIbQAMJih9jjiNA5q4l5INuK0AwTKYKRj0zQNv5fmq8/DpAaCJseHrtQkB/+zpwzoxKQM3MzMzMeFJAZmZmZmZqWEAAAAAAAFxeQM3MzMzMJmJAmpmZmZkfZUBmZmZmZhhoQDMzMzMzEWtAAAAAAAAKbkBmZmZmZoFwQM3MzMzM/XFAMzMzMzN6c0CamZmZmfZ0QAAAAAAAc3ZAZmZmZmbvd0DNzMzMzGt5QDMzMzMz6HpAmpmZmZlkfEAAAAAAAOF9QGZmZmZmXX9AZmZmZuZsgECamZmZGSuBQM3MzMxM6YFAAAAAAICngkAzMzMzs2WDQGZmZmbmI4RAmpmZmRnihEDNzMzMTKCFQAAAAACAXoZAMzMzM7Mch0BmZmZm5tqHQJqZmZkZmYhAzczMzExXiUAAAAAAgBWKQDMzMzOz04pAZmZmZuaRi0CamZmZGVCMQM3MzMxMDo1AAAAAAIDMjUAzMzMzs4qOQGZmZmbmSI9A\",\"dtype\":\"float64\",\"shape\":[75]}},\"selected\":{\"id\":\"8d4b8958-584c-4a6b-8071-5cfc2002d667\",\"type\":\"Selection\"},\"selection_policy\":{\"id\":\"2eee7f91-8560-4f23-ae06-7d9922a3cdbf\",\"type\":\"UnionRenderers\"}},\"id\":\"17471442-64e6-4560-8585-0a2d15d46fd4\",\"type\":\"ColumnDataSource\"},{\"attributes\":{},\"id\":\"db21dc00-9e04-47a8-8621-fb6bd3f703a5\",\"type\":\"PanTool\"},{\"attributes\":{\"fill_alpha\":{\"value\":0.1},\"fill_color\":{\"value\":\"#1f77b4\"},\"line_alpha\":{\"value\":0.1},\"line_color\":{\"value\":\"#1f77b4\"},\"x\":{\"field\":\"x\"},\"y\":{\"field\":\"y\"}},\"id\":\"f074a8f2-702e-479a-8584-822a2f2ad018\",\"type\":\"Circle\"},{\"attributes\":{\"fill_alpha\":{\"value\":0.1},\"fill_color\":{\"value\":\"#1f77b4\"},\"line_alpha\":{\"value\":0.1},\"line_color\":{\"value\":\"#1f77b4\"},\"x\":{\"field\":\"x\"},\"y\":{\"field\":\"y\"}},\"id\":\"36fbd2bb-a912-43db-92ee-31a334334461\",\"type\":\"Circle\"},{\"attributes\":{\"callback\":null,\"end\":0.20258133857,\"start\":-0.020535355569999997},\"id\":\"aad3bba1-60d2-48ff-a7e3-821e8d983f09\",\"type\":\"Range1d\"},{\"attributes\":{\"data_source\":{\"id\":\"7366a59c-cd74-4f27-8cc2-10a40cc22848\",\"type\":\"ColumnDataSource\"},\"glyph\":{\"id\":\"2e273979-2553-4130-af4f-e7cd518c6b56\",\"type\":\"Circle\"},\"hover_glyph\":null,\"muted_glyph\":null,\"nonselection_glyph\":{\"id\":\"f074a8f2-702e-479a-8584-822a2f2ad018\",\"type\":\"Circle\"},\"selection_glyph\":null,\"view\":{\"id\":\"109bb07b-a409-46eb-bdfc-281eb18ce9ec\",\"type\":\"CDSView\"}},\"id\":\"93ed1fd8-72ec-4ecd-a79b-4ba39a0d3cb3\",\"type\":\"GlyphRenderer\"},{\"attributes\":{\"line_color\":\"#4daf4a\",\"line_width\":1.5,\"x\":{\"field\":\"x\"},\"y\":{\"field\":\"y\"}},\"id\":\"cb027f32-b9fd-4d30-8396-292ddac32f46\",\"type\":\"Line\"},{\"attributes\":{\"axis_label\":\"cooling rate [K/day]\",\"formatter\":{\"id\":\"72f0a639-bea9-49de-a81c-a187e0c2b878\",\"type\":\"BasicTickFormatter\"},\"plot\":{\"id\":\"47b77eea-5c19-4ae1-907b-63a0ad5c64e8\",\"subtype\":\"Figure\",\"type\":\"Plot\"},\"ticker\":{\"id\":\"e5c315bc-934e-46f1-8414-9f9c085acea3\",\"type\":\"BasicTicker\"}},\"id\":\"d5756bf1-15e4-4107-bbb2-99211fc5ab26\",\"type\":\"LinearAxis\"},{\"attributes\":{\"source\":{\"id\":\"86f9c5fb-73d5-4f67-9aa6-578c7f7902e9\",\"type\":\"ColumnDataSource\"}},\"id\":\"c78fb968-9c61-404c-9434-977d643ab28d\",\"type\":\"CDSView\"},{\"attributes\":{\"data_source\":{\"id\":\"17471442-64e6-4560-8585-0a2d15d46fd4\",\"type\":\"ColumnDataSource\"},\"glyph\":{\"id\":\"192ec1d3-1983-4bd7-82c8-889565d2a445\",\"type\":\"Circle\"},\"hover_glyph\":null,\"muted_glyph\":null,\"nonselection_glyph\":{\"id\":\"36fbd2bb-a912-43db-92ee-31a334334461\",\"type\":\"Circle\"},\"selection_glyph\":null,\"view\":{\"id\":\"0720d48b-8366-4eef-adb6-be86880f103a\",\"type\":\"CDSView\"}},\"id\":\"c80693d9-e20b-4eb0-9bd8-cafbe39bacb6\",\"type\":\"GlyphRenderer\"},{\"attributes\":{\"overlay\":{\"id\":\"2fceaa24-0afe-44b4-a2f5-2654bc657e5f\",\"type\":\"BoxAnnotation\"}},\"id\":\"0ff096f2-ed58-45b7-adc5-7bde433ddb5c\",\"type\":\"BoxZoomTool\"},{\"attributes\":{\"axis_label\":\"pressure [mb]\",\"formatter\":{\"id\":\"3d23f269-edef-474d-8469-bdbdf9f94d53\",\"type\":\"BasicTickFormatter\"},\"plot\":{\"id\":\"47b77eea-5c19-4ae1-907b-63a0ad5c64e8\",\"subtype\":\"Figure\",\"type\":\"Plot\"},\"ticker\":{\"id\":\"d00e69d8-9179-44ce-966f-5f44d7fe6a41\",\"type\":\"BasicTicker\"}},\"id\":\"a61978ac-ea09-4f08-9240-98eaf761d92d\",\"type\":\"LinearAxis\"},{\"attributes\":{\"callback\":null,\"data\":{\"x\":{\"__ndarray__\":\"CKqIy9htvr9HrwYoDTW+vyRYJD9Fgr2/nr5UIj/RvL+4xuvqIyq8v/8a94MNkbu/XxbJDXUOu7+KbfcX5qm6v6tyJStUcbq/uE1lD7xzur8r+flrice6vweabI8gjbu/fUGo3lz0vL8knxUgIwO/vwdPdJ8UlL6/kQKFJvv6uL/v7x1JCiuwv5CfvZVNApe/5O0B7SAMmj+VDISNgES1PwPvP43WLMQ/L4T/Ibvazz9j5HZ5hCTQP9OM4qge4cY/h8T7eWwuvj/lrGEc4vOxP97FONUTw6Y/GG3KH1BZoD953X6grH2ZP4cGIr4llpQ/th5+MW2VkD/P2Lh6JfuJP2gksQlRg4M/hqWqngbrez+9eC6wKNxbP8PGiS/SBHS/5A4Vj/2/g7/JrwMNVMuEv9ykrCNqSXu/Dm7zjughaL+9a+zsDblnP+wjsGz4c5A/KlLvFjkloj+8Y5qxtMiuPwlkSZU1pbY/CnRYp+sFvj/wNspVhzfCP+jLfwajK8Q/k7nHDDM4xD89hr8NzjPEP/XBzwu5ysM/Yy4losr2wj8nXQIJ7cnBP6GmM4M6XcA/ILLtWXyvvT+ZPI60jom6P/v32ftmeLc/SrJQYymvtD9R3hNgYnCyP3mfgno1a7E/ZjBnMvNPsj87WMc90mq0P436Qs0yObQ/sZnA0MqNrj+citDftnybPzm4G3Pe4kO/Yg1F8ZJOjL9t1p8Y59yKv2JjoGPu93u/YAsmcH7SX7+8Nbr6h486P8pfh1WvZ1c/LDxYlEwtXz8iaW+k94NtP4jOWwqCpsk/\",\"dtype\":\"float64\",\"shape\":[75]},\"y\":{\"__ndarray__\":\"GhExyth1ND/Sv8nbtpRIP2vylNV0PVE/aTum7souWD/At0SJ8fVgPw3Iuahxymc/MSNhhJWvcD/bTfBN02d3P2zb5nxnaoA/CD5h5MAGhz8NmeH1TyaQP+zrCsc9p5Y/LbKd76fGnz/bLW5ISEmmPww9YvTcQq8/JV2OstnstT8Er5Y7M8G+P0c+r3jqkcU/5h99k6ZBzj88bCIzFzjVP4enV8oyxN0//yH99nXg5D8qOpLLf0jtP5kqGJXUifQ/c9cS8kHP/D+/DpwzojQEQIEmwoanVwxA4lgXt9HgE0BSSZ2AJuIbQAMJih9jjiNA5q4l5INuK0AwTKYKRj0zQNv5fmq8/DpAaCJseHrtQkB/+zpwzoxKQM3MzMzMeFJAZmZmZmZqWEAAAAAAAFxeQM3MzMzMJmJAmpmZmZkfZUBmZmZmZhhoQDMzMzMzEWtAAAAAAAAKbkBmZmZmZoFwQM3MzMzM/XFAMzMzMzN6c0CamZmZmfZ0QAAAAAAAc3ZAZmZmZmbvd0DNzMzMzGt5QDMzMzMz6HpAmpmZmZlkfEAAAAAAAOF9QGZmZmZmXX9AZmZmZuZsgECamZmZGSuBQM3MzMxM6YFAAAAAAICngkAzMzMzs2WDQGZmZmbmI4RAmpmZmRnihEDNzMzMTKCFQAAAAACAXoZAMzMzM7Mch0BmZmZm5tqHQJqZmZkZmYhAzczMzExXiUAAAAAAgBWKQDMzMzOz04pAZmZmZuaRi0CamZmZGVCMQM3MzMxMDo1AAAAAAIDMjUAzMzMzs4qOQGZmZmbmSI9A\",\"dtype\":\"float64\",\"shape\":[75]}},\"selected\":{\"id\":\"cacee587-4469-4e5c-b201-621cedb60e5f\",\"type\":\"Selection\"},\"selection_policy\":{\"id\":\"a95d84ea-12eb-4be8-a94f-70439ae4f44f\",\"type\":\"UnionRenderers\"}},\"id\":\"7366a59c-cd74-4f27-8cc2-10a40cc22848\",\"type\":\"ColumnDataSource\"},{\"attributes\":{\"callback\":null,\"data\":{\"x\":{\"__ndarray__\":\"DUhOaIrnwb9n3j9QTc3Bv175h4j2jMG/JFYthv5Lwb/WO9wODQvBv+uXoVRvy8C/oz+wukCPwL8gjOlT2FbAvxVdDw0oJ8C/IlI2WWECwL/tsdsEa96/v/PHtDaN7b+/JzsukagjwL9zwTKZnm7Avx+m+Trbab+/2t/AgRzWub/tKILDATCxv+fMHc32wJm/rc1S9LhWmj9o2W/6bku2P07wLMV+5MQ/OKClK9jGzz/66DfAitvPP+BegBpKL8Y/zJViw6qsvD8ZRVhSw76xPx7jV5r+Zqg/elEjQ3rJoT+2/6gdY8aaPym0IwpqTpU/S4/HiBsikj+hLAVvC0COP7cquSWaiYc/KQ12uNaNgT+2ABrR8IBnPwAjirYTf3W/tX8mQQaShr/uUzcSxiGHv32rt/5EAn2/1oUm6HLsaL9Ao70INtFnP3hIh0Bb8pM/+QqqxHeNqD/wJcl97xKwPznOR/saJ7A/+UlfTw77tj9jwGksJ0LBP6k51Ep8ycQ/9FCZan9KxD+RYMunnrfDPzTBDYSmHcQ/a8js6l3VxD/rKlG0eqDEP1ec5vQnN8M/6FGvY3WOwD+vcg3Yeiu7P4teAd173rU/UHjWXNgUsj+GCS5MYu2vP0YGQn2OOa8/k8r91poisT9oVlHkkqizP+LKJcroRLM/HAJ/rGuqrD+EVVdmk8GWP0Ubl2Dei3q/Vc50Nc3Jkr9coKK/192Qv/LT47cbVoa/uLh5ayhKcb9I72hbBZxSvyKmYGfsRl2/Pqjxl2cmPD+31hSa/WBdP3WEHRAyWsk/\",\"dtype\":\"float64\",\"shape\":[75]},\"y\":{\"__ndarray__\":\"S/O/Q+51ND/Sv8nbtpRIP2vylNV0PVE/aTum7souWD/At0SJ8fVgPw3Iuahxymc/MSNhhJWvcD/bTfBN02d3P2zb5nxnaoA/CD5h5MAGhz8NmeH1TyaQP+zrCsc9p5Y/LbKd76fGnz/bLW5ISEmmPww9YvTcQq8/JV2OstnstT8Er5Y7M8G+P0c+r3jqkcU/5h99k6ZBzj88bCIzFzjVP4enV8oyxN0//yH99nXg5D8qOpLLf0jtP5kqGJXUifQ/c9cS8kHP/D+/DpwzojQEQIEmwoanVwxA4lgXt9HgE0BSSZ2AJuIbQAMJih9jjiNA5q4l5INuK0AwTKYKRj0zQNv5fmq8/DpAaCJseHrtQkB/+zpwzoxKQM3MzMzMeFJAZmZmZmZqWEAAAAAAAFxeQM3MzMzMJmJAmpmZmZkfZUBmZmZmZhhoQDMzMzMzEWtAAAAAAAAKbkBmZmZmZoFwQM3MzMzM/XFAMzMzMzN6c0CamZmZmfZ0QAAAAAAAc3ZAZmZmZmbvd0DNzMzMzGt5QDMzMzMz6HpAmpmZmZlkfEAAAAAAAOF9QGZmZmZmXX9AZmZmZuZsgECamZmZGSuBQM3MzMxM6YFAAAAAAICngkAzMzMzs2WDQGZmZmbmI4RAmpmZmRnihEDNzMzMTKCFQAAAAACAXoZAMzMzM7Mch0BmZmZm5tqHQJqZmZkZmYhAzczMzExXiUAAAAAAgBWKQDMzMzOz04pAZmZmZuaRi0CamZmZGVCMQM3MzMxMDo1AAAAAAIDMjUAzMzMzs4qOQGZmZmbmSI9A\",\"dtype\":\"float64\",\"shape\":[75]}},\"selected\":{\"id\":\"27c79a9d-e2ec-4040-9622-d67ea37f08c1\",\"type\":\"Selection\"},\"selection_policy\":{\"id\":\"d0a27164-b221-4f38-b517-8ad4e06d8e39\",\"type\":\"UnionRenderers\"}},\"id\":\"b0487922-fd7c-4ca8-a2a2-8e77358f9484\",\"type\":\"ColumnDataSource\"},{\"attributes\":{\"below\":[{\"id\":\"d5756bf1-15e4-4107-bbb2-99211fc5ab26\",\"type\":\"LinearAxis\"}],\"left\":[{\"id\":\"a61978ac-ea09-4f08-9240-98eaf761d92d\",\"type\":\"LinearAxis\"}],\"plot_height\":500,\"plot_width\":400,\"renderers\":[{\"id\":\"d5756bf1-15e4-4107-bbb2-99211fc5ab26\",\"type\":\"LinearAxis\"},{\"id\":\"ac57c1c4-38b4-4fbd-b14c-9385aa9cf5fa\",\"type\":\"Grid\"},{\"id\":\"a61978ac-ea09-4f08-9240-98eaf761d92d\",\"type\":\"LinearAxis\"},{\"id\":\"a96083e4-13df-4af4-9bac-de53825a1358\",\"type\":\"Grid\"},{\"id\":\"2fceaa24-0afe-44b4-a2f5-2654bc657e5f\",\"type\":\"BoxAnnotation\"},{\"id\":\"732ee275-60ae-4207-8999-443df69d7bed\",\"type\":\"GlyphRenderer\"},{\"id\":\"93ed1fd8-72ec-4ecd-a79b-4ba39a0d3cb3\",\"type\":\"GlyphRenderer\"},{\"id\":\"4c16ea54-ce37-4327-a250-05bcd072fc2f\",\"type\":\"GlyphRenderer\"},{\"id\":\"535596c7-08dc-4f7d-9a2c-756a4fe48fbd\",\"type\":\"GlyphRenderer\"},{\"id\":\"cd54ef7b-1ca3-4938-86e2-57c11f99576d\",\"type\":\"GlyphRenderer\"}],\"title\":{\"id\":\"f69b42b4-19ab-4000-a8c9-a0eaa87f6696\",\"type\":\"Title\"},\"toolbar\":{\"id\":\"0ff29736-e7f4-4bb0-bf14-9592840cc715\",\"type\":\"Toolbar\"},\"toolbar_location\":null,\"x_range\":{\"id\":\"aad3bba1-60d2-48ff-a7e3-821e8d983f09\",\"type\":\"Range1d\"},\"x_scale\":{\"id\":\"a345ad64-286b-4828-ba88-012258ff4779\",\"type\":\"LinearScale\"},\"y_range\":{\"id\":\"d06d9366-f339-47ca-9c77-271f9b0e3329\",\"type\":\"Range1d\"},\"y_scale\":{\"id\":\"a49d0433-bdca-40ad-92bb-5cc3f92953af\",\"type\":\"LinearScale\"}},\"id\":\"47b77eea-5c19-4ae1-907b-63a0ad5c64e8\",\"subtype\":\"Figure\",\"type\":\"Plot\"},{\"attributes\":{},\"id\":\"e5c315bc-934e-46f1-8414-9f9c085acea3\",\"type\":\"BasicTicker\"},{\"attributes\":{\"children\":[{\"id\":\"93798660-7777-48c7-b218-004ec32478d5\",\"type\":\"Row\"}]},\"id\":\"c9b016fe-97f4-42cc-b791-809e077aaf26\",\"type\":\"Column\"},{\"attributes\":{\"fill_alpha\":{\"value\":0.7},\"fill_color\":{\"value\":\"#4daf4a\"},\"line_alpha\":{\"value\":0.7},\"line_color\":{\"value\":\"#4daf4a\"},\"x\":{\"field\":\"x\"},\"y\":{\"field\":\"y\"}},\"id\":\"192ec1d3-1983-4bd7-82c8-889565d2a445\",\"type\":\"Circle\"},{\"attributes\":{\"line_alpha\":0.1,\"line_color\":\"#1f77b4\",\"line_dash\":[6],\"line_width\":5,\"x\":{\"field\":\"x\"},\"y\":{\"field\":\"y\"}},\"id\":\"4974fda8-7420-49b6-acda-e62738f0eafa\",\"type\":\"Line\"},{\"attributes\":{},\"id\":\"d00e69d8-9179-44ce-966f-5f44d7fe6a41\",\"type\":\"BasicTicker\"},{\"attributes\":{\"callback\":null,\"data\":{\"x\":{\"__ndarray__\":\"CKqIy9htvr9HrwYoDTW+vyRYJD9Fgr2/nr5UIj/RvL+4xuvqIyq8v/8a94MNkbu/XxbJDXUOu7+KbfcX5qm6v6tyJStUcbq/uE1lD7xzur8r+flrice6vweabI8gjbu/fUGo3lz0vL8knxUgIwO/vwdPdJ8UlL6/kQKFJvv6uL/v7x1JCiuwv5CfvZVNApe/5O0B7SAMmj+VDISNgES1PwPvP43WLMQ/L4T/Ibvazz9j5HZ5hCTQP9OM4qge4cY/h8T7eWwuvj/lrGEc4vOxP97FONUTw6Y/GG3KH1BZoD953X6grH2ZP4cGIr4llpQ/th5+MW2VkD/P2Lh6JfuJP2gksQlRg4M/hqWqngbrez+9eC6wKNxbP8PGiS/SBHS/5A4Vj/2/g7/JrwMNVMuEv9ykrCNqSXu/Dm7zjughaL+9a+zsDblnP+wjsGz4c5A/KlLvFjkloj+8Y5qxtMiuPwlkSZU1pbY/CnRYp+sFvj/wNspVhzfCP+jLfwajK8Q/k7nHDDM4xD89hr8NzjPEP/XBzwu5ysM/Yy4losr2wj8nXQIJ7cnBP6GmM4M6XcA/ILLtWXyvvT+ZPI60jom6P/v32ftmeLc/SrJQYymvtD9R3hNgYnCyP3mfgno1a7E/ZjBnMvNPsj87WMc90mq0P436Qs0yObQ/sZnA0MqNrj+citDftnybPzm4G3Pe4kO/Yg1F8ZJOjL9t1p8Y59yKv2JjoGPu93u/YAsmcH7SX7+8Nbr6h486P8pfh1WvZ1c/LDxYlEwtXz8iaW+k94NtP4jOWwqCpsk/\",\"dtype\":\"float64\",\"shape\":[75]},\"y\":{\"__ndarray__\":\"GhExyth1ND/Sv8nbtpRIP2vylNV0PVE/aTum7souWD/At0SJ8fVgPw3Iuahxymc/MSNhhJWvcD/bTfBN02d3P2zb5nxnaoA/CD5h5MAGhz8NmeH1TyaQP+zrCsc9p5Y/LbKd76fGnz/bLW5ISEmmPww9YvTcQq8/JV2OstnstT8Er5Y7M8G+P0c+r3jqkcU/5h99k6ZBzj88bCIzFzjVP4enV8oyxN0//yH99nXg5D8qOpLLf0jtP5kqGJXUifQ/c9cS8kHP/D+/DpwzojQEQIEmwoanVwxA4lgXt9HgE0BSSZ2AJuIbQAMJih9jjiNA5q4l5INuK0AwTKYKRj0zQNv5fmq8/DpAaCJseHrtQkB/+zpwzoxKQM3MzMzMeFJAZmZmZmZqWEAAAAAAAFxeQM3MzMzMJmJAmpmZmZkfZUBmZmZmZhhoQDMzMzMzEWtAAAAAAAAKbkBmZmZmZoFwQM3MzMzM/XFAMzMzMzN6c0CamZmZmfZ0QAAAAAAAc3ZAZmZmZmbvd0DNzMzMzGt5QDMzMzMz6HpAmpmZmZlkfEAAAAAAAOF9QGZmZmZmXX9AZmZmZuZsgECamZmZGSuBQM3MzMxM6YFAAAAAAICngkAzMzMzs2WDQGZmZmbmI4RAmpmZmRnihEDNzMzMTKCFQAAAAACAXoZAMzMzM7Mch0BmZmZm5tqHQJqZmZkZmYhAzczMzExXiUAAAAAAgBWKQDMzMzOz04pAZmZmZuaRi0CamZmZGVCMQM3MzMxMDo1AAAAAAIDMjUAzMzMzs4qOQGZmZmbmSI9A\",\"dtype\":\"float64\",\"shape\":[75]}},\"selected\":{\"id\":\"10ba05ad-eb92-4c23-b717-93f18d070777\",\"type\":\"Selection\"},\"selection_policy\":{\"id\":\"ccb9a395-a4a1-4912-8b41-1ac4bcb170b2\",\"type\":\"UnionRenderers\"}},\"id\":\"97814850-f34d-4047-832a-cf29ddfc1095\",\"type\":\"ColumnDataSource\"},{\"attributes\":{},\"id\":\"a345ad64-286b-4828-ba88-012258ff4779\",\"type\":\"LinearScale\"},{\"attributes\":{\"data_source\":{\"id\":\"86f9c5fb-73d5-4f67-9aa6-578c7f7902e9\",\"type\":\"ColumnDataSource\"},\"glyph\":{\"id\":\"4fa37619-f877-4a06-ac2d-819a49739716\",\"type\":\"Line\"},\"hover_glyph\":null,\"muted_glyph\":null,\"nonselection_glyph\":{\"id\":\"4974fda8-7420-49b6-acda-e62738f0eafa\",\"type\":\"Line\"},\"selection_glyph\":null,\"view\":{\"id\":\"c78fb968-9c61-404c-9434-977d643ab28d\",\"type\":\"CDSView\"}},\"id\":\"732ee275-60ae-4207-8999-443df69d7bed\",\"type\":\"GlyphRenderer\"},{\"attributes\":{\"line_alpha\":0.6,\"line_color\":\"#e41a1c\",\"line_dash\":[6],\"line_width\":5,\"x\":{\"field\":\"x\"},\"y\":{\"field\":\"y\"}},\"id\":\"4fa37619-f877-4a06-ac2d-819a49739716\",\"type\":\"Line\"},{\"attributes\":{},\"id\":\"a49d0433-bdca-40ad-92bb-5cc3f92953af\",\"type\":\"LinearScale\"},{\"attributes\":{\"line_alpha\":0.1,\"line_color\":\"#1f77b4\",\"line_width\":1.5,\"x\":{\"field\":\"x\"},\"y\":{\"field\":\"y\"}},\"id\":\"6d3d5152-8376-4aec-897e-26d226c9d7d9\",\"type\":\"Line\"},{\"attributes\":{\"data_source\":{\"id\":\"97814850-f34d-4047-832a-cf29ddfc1095\",\"type\":\"ColumnDataSource\"},\"glyph\":{\"id\":\"cb027f32-b9fd-4d30-8396-292ddac32f46\",\"type\":\"Line\"},\"hover_glyph\":null,\"muted_glyph\":null,\"nonselection_glyph\":{\"id\":\"6d3d5152-8376-4aec-897e-26d226c9d7d9\",\"type\":\"Line\"},\"selection_glyph\":null,\"view\":{\"id\":\"b6f4614e-bf68-4452-bed5-6026e06b993d\",\"type\":\"CDSView\"}},\"id\":\"fdfeecf3-5f5e-43a1-9729-5b6a441a2ae7\",\"type\":\"GlyphRenderer\"},{\"attributes\":{\"callback\":null,\"data\":{\"x\":{\"__ndarray__\":\"DUhOaIrnwb9n3j9QTc3Bv175h4j2jMG/JFYthv5Lwb/WO9wODQvBv+uXoVRvy8C/oz+wukCPwL8gjOlT2FbAvxVdDw0oJ8C/IlI2WWECwL/tsdsEa96/v/PHtDaN7b+/JzsukagjwL9zwTKZnm7Avx+m+Trbab+/2t/AgRzWub/tKILDATCxv+fMHc32wJm/rc1S9LhWmj9o2W/6bku2P07wLMV+5MQ/OKClK9jGzz/66DfAitvPP+BegBpKL8Y/zJViw6qsvD8ZRVhSw76xPx7jV5r+Zqg/elEjQ3rJoT+2/6gdY8aaPym0IwpqTpU/S4/HiBsikj+hLAVvC0COP7cquSWaiYc/KQ12uNaNgT+2ABrR8IBnPwAjirYTf3W/tX8mQQaShr/uUzcSxiGHv32rt/5EAn2/1oUm6HLsaL9Ao70INtFnP3hIh0Bb8pM/+QqqxHeNqD/wJcl97xKwPznOR/saJ7A/+UlfTw77tj9jwGksJ0LBP6k51Ep8ycQ/9FCZan9KxD+RYMunnrfDPzTBDYSmHcQ/a8js6l3VxD/rKlG0eqDEP1ec5vQnN8M/6FGvY3WOwD+vcg3Yeiu7P4teAd173rU/UHjWXNgUsj+GCS5MYu2vP0YGQn2OOa8/k8r91poisT9oVlHkkqizP+LKJcroRLM/HAJ/rGuqrD+EVVdmk8GWP0Ubl2Dei3q/Vc50Nc3Jkr9coKK/192Qv/LT47cbVoa/uLh5ayhKcb9I72hbBZxSvyKmYGfsRl2/Pqjxl2cmPD+31hSa/WBdP3WEHRAyWsk/\",\"dtype\":\"float64\",\"shape\":[75]},\"y\":{\"__ndarray__\":\"S/O/Q+51ND/Sv8nbtpRIP2vylNV0PVE/aTum7souWD/At0SJ8fVgPw3Iuahxymc/MSNhhJWvcD/bTfBN02d3P2zb5nxnaoA/CD5h5MAGhz8NmeH1TyaQP+zrCsc9p5Y/LbKd76fGnz/bLW5ISEmmPww9YvTcQq8/JV2OstnstT8Er5Y7M8G+P0c+r3jqkcU/5h99k6ZBzj88bCIzFzjVP4enV8oyxN0//yH99nXg5D8qOpLLf0jtP5kqGJXUifQ/c9cS8kHP/D+/DpwzojQEQIEmwoanVwxA4lgXt9HgE0BSSZ2AJuIbQAMJih9jjiNA5q4l5INuK0AwTKYKRj0zQNv5fmq8/DpAaCJseHrtQkB/+zpwzoxKQM3MzMzMeFJAZmZmZmZqWEAAAAAAAFxeQM3MzMzMJmJAmpmZmZkfZUBmZmZmZhhoQDMzMzMzEWtAAAAAAAAKbkBmZmZmZoFwQM3MzMzM/XFAMzMzMzN6c0CamZmZmfZ0QAAAAAAAc3ZAZmZmZmbvd0DNzMzMzGt5QDMzMzMz6HpAmpmZmZlkfEAAAAAAAOF9QGZmZmZmXX9AZmZmZuZsgECamZmZGSuBQM3MzMxM6YFAAAAAAICngkAzMzMzs2WDQGZmZmbmI4RAmpmZmRnihEDNzMzMTKCFQAAAAACAXoZAMzMzM7Mch0BmZmZm5tqHQJqZmZkZmYhAzczMzExXiUAAAAAAgBWKQDMzMzOz04pAZmZmZuaRi0CamZmZGVCMQM3MzMxMDo1AAAAAAIDMjUAzMzMzs4qOQGZmZmbmSI9A\",\"dtype\":\"float64\",\"shape\":[75]}},\"selected\":{\"id\":\"1af7277f-a43c-4aac-b735-353b632fbcb9\",\"type\":\"Selection\"},\"selection_policy\":{\"id\":\"44923486-facd-42c0-bd24-5526a2879cdd\",\"type\":\"UnionRenderers\"}},\"id\":\"86f9c5fb-73d5-4f67-9aa6-578c7f7902e9\",\"type\":\"ColumnDataSource\"},{\"attributes\":{\"source\":{\"id\":\"97814850-f34d-4047-832a-cf29ddfc1095\",\"type\":\"ColumnDataSource\"}},\"id\":\"b6f4614e-bf68-4452-bed5-6026e06b993d\",\"type\":\"CDSView\"},{\"attributes\":{\"bottom_units\":\"screen\",\"fill_alpha\":{\"value\":0.5},\"fill_color\":{\"value\":\"lightgrey\"},\"left_units\":\"screen\",\"level\":\"overlay\",\"line_alpha\":{\"value\":1.0},\"line_color\":{\"value\":\"black\"},\"line_dash\":[4,4],\"line_width\":{\"value\":2},\"plot\":null,\"render_mode\":\"css\",\"right_units\":\"screen\",\"top_units\":\"screen\"},\"id\":\"2fceaa24-0afe-44b4-a2f5-2654bc657e5f\",\"type\":\"BoxAnnotation\"},{\"attributes\":{\"fill_alpha\":{\"value\":0.7},\"fill_color\":{\"value\":\"#984ea3\"},\"line_alpha\":{\"value\":0.7},\"line_color\":{\"value\":\"#984ea3\"},\"x\":{\"field\":\"x\"},\"y\":{\"field\":\"y\"}},\"id\":\"b60cd696-8347-49ef-adea-cd2f379e464a\",\"type\":\"Square\"},{\"attributes\":{\"data_source\":{\"id\":\"fb063633-c851-4e7c-89d7-5e5e3ba634b5\",\"type\":\"ColumnDataSource\"},\"glyph\":{\"id\":\"374bad25-c413-4f0d-8954-36e38060693e\",\"type\":\"Line\"},\"hover_glyph\":null,\"muted_glyph\":null,\"nonselection_glyph\":{\"id\":\"a166e6fe-84dd-44b5-b3d7-df94adc74ff8\",\"type\":\"Line\"},\"selection_glyph\":null,\"view\":{\"id\":\"34cab204-bb84-4405-866b-eda3ac92011a\",\"type\":\"CDSView\"}},\"id\":\"eb99a2d5-3325-4d6a-9b92-ec55c1115c15\",\"type\":\"GlyphRenderer\"},{\"attributes\":{},\"id\":\"05e9ca83-33bb-42fb-b15d-4277b6a5b88f\",\"type\":\"ResetTool\"},{\"attributes\":{\"line_alpha\":0.6,\"line_color\":\"#984ea3\",\"line_width\":3,\"x\":{\"field\":\"x\"},\"y\":{\"field\":\"y\"}},\"id\":\"374bad25-c413-4f0d-8954-36e38060693e\",\"type\":\"Line\"},{\"attributes\":{},\"id\":\"d36b3a95-9d70-4680-a160-7b2abc9df048\",\"type\":\"WheelZoomTool\"},{\"attributes\":{\"source\":{\"id\":\"fb063633-c851-4e7c-89d7-5e5e3ba634b5\",\"type\":\"ColumnDataSource\"}},\"id\":\"34cab204-bb84-4405-866b-eda3ac92011a\",\"type\":\"CDSView\"},{\"attributes\":{},\"id\":\"3d23f269-edef-474d-8469-bdbdf9f94d53\",\"type\":\"BasicTickFormatter\"},{\"attributes\":{\"active_drag\":\"auto\",\"active_inspect\":\"auto\",\"active_scroll\":\"auto\",\"active_tap\":\"auto\",\"tools\":[{\"id\":\"db21dc00-9e04-47a8-8621-fb6bd3f703a5\",\"type\":\"PanTool\"},{\"id\":\"d36b3a95-9d70-4680-a160-7b2abc9df048\",\"type\":\"WheelZoomTool\"},{\"id\":\"0ff096f2-ed58-45b7-adc5-7bde433ddb5c\",\"type\":\"BoxZoomTool\"},{\"id\":\"0e5193b8-9204-4134-b282-4f3102cdc5d1\",\"type\":\"SaveTool\"},{\"id\":\"05e9ca83-33bb-42fb-b15d-4277b6a5b88f\",\"type\":\"ResetTool\"},{\"id\":\"33ebfed9-fa4c-42d1-b87a-4b32aeef71e7\",\"type\":\"HelpTool\"}]},\"id\":\"0ff29736-e7f4-4bb0-bf14-9592840cc715\",\"type\":\"Toolbar\"},{\"attributes\":{\"label\":{\"value\":\"CLIRAD `coolr_bands`\"},\"renderers\":[{\"id\":\"7cc1ec9a-400d-41e5-aa80-d481fc701425\",\"type\":\"GlyphRenderer\"}]},\"id\":\"774fb260-bbc2-40c4-960c-a128bcb534c8\",\"type\":\"LegendItem\"},{\"attributes\":{},\"id\":\"44923486-facd-42c0-bd24-5526a2879cdd\",\"type\":\"UnionRenderers\"},{\"attributes\":{\"label\":{\"value\":\"CRD\"},\"renderers\":[{\"id\":\"c80693d9-e20b-4eb0-9bd8-cafbe39bacb6\",\"type\":\"GlyphRenderer\"},{\"id\":\"fdfeecf3-5f5e-43a1-9729-5b6a441a2ae7\",\"type\":\"GlyphRenderer\"}]},\"id\":\"e655c880-c8fd-4c35-a424-7ab0b3962704\",\"type\":\"LegendItem\"},{\"attributes\":{},\"id\":\"1f2e67e8-1b74-440a-b571-4c56aa88dcb2\",\"type\":\"Selection\"},{\"attributes\":{\"plot\":{\"id\":\"47b77eea-5c19-4ae1-907b-63a0ad5c64e8\",\"subtype\":\"Figure\",\"type\":\"Plot\"},\"ticker\":{\"id\":\"e5c315bc-934e-46f1-8414-9f9c085acea3\",\"type\":\"BasicTicker\"}},\"id\":\"ac57c1c4-38b4-4fbd-b14c-9385aa9cf5fa\",\"type\":\"Grid\"},{\"attributes\":{\"label\":{\"value\":\"WGT igg=10 wgt_flux=2\"},\"renderers\":[{\"id\":\"bca0364b-eb89-46db-aa15-36d13ae5e12b\",\"type\":\"GlyphRenderer\"},{\"id\":\"eb99a2d5-3325-4d6a-9b92-ec55c1115c15\",\"type\":\"GlyphRenderer\"}]},\"id\":\"314d15cd-46cc-4cd9-80a8-e5ae3ae3f4f6\",\"type\":\"LegendItem\"},{\"attributes\":{},\"id\":\"a96dff2f-be2e-4df2-a1ce-1c202fc6fa26\",\"type\":\"UnionRenderers\"},{\"attributes\":{},\"id\":\"72f0a639-bea9-49de-a81c-a187e0c2b878\",\"type\":\"BasicTickFormatter\"},{\"attributes\":{},\"id\":\"1af7277f-a43c-4aac-b735-353b632fbcb9\",\"type\":\"Selection\"},{\"attributes\":{},\"id\":\"dbeae290-f700-44db-b0f8-d590a1c74164\",\"type\":\"Selection\"},{\"attributes\":{\"fill_alpha\":{\"value\":0.7},\"fill_color\":{\"value\":\"#4daf4a\"},\"line_alpha\":{\"value\":0.7},\"line_color\":{\"value\":\"#4daf4a\"},\"x\":{\"field\":\"x\"},\"y\":{\"field\":\"y\"}},\"id\":\"2e273979-2553-4130-af4f-e7cd518c6b56\",\"type\":\"Circle\"},{\"attributes\":{},\"id\":\"cacee587-4469-4e5c-b201-621cedb60e5f\",\"type\":\"Selection\"},{\"attributes\":{},\"id\":\"a95d84ea-12eb-4be8-a94f-70439ae4f44f\",\"type\":\"UnionRenderers\"},{\"attributes\":{},\"id\":\"d7d37223-d5e8-4a99-a892-afc2776630b7\",\"type\":\"UnionRenderers\"},{\"attributes\":{},\"id\":\"0c983e7c-cf82-46a2-b82a-ba0aa6d3eb45\",\"type\":\"Selection\"}],\"root_ids\":[\"6c10974f-f5ac-49ca-87fc-6ce1710202d5\"]},\"title\":\"Bokeh Application\",\"version\":\"0.12.16\"}};\n",
       "  var render_items = [{\"docid\":\"2d68a30f-25cb-42f5-b1e8-6837c14d77dd\",\"elementid\":\"6fb08bcb-c692-4767-9336-6d159e93e6e0\",\"modelid\":\"6c10974f-f5ac-49ca-87fc-6ce1710202d5\"}];\n",
       "  root.Bokeh.embed.embed_items_notebook(docs_json, render_items);\n",
       "\n",
       "  }\n",
       "  if (root.Bokeh !== undefined) {\n",
       "    embed_document(root);\n",
       "  } else {\n",
       "    var attempts = 0;\n",
       "    var timer = setInterval(function(root) {\n",
       "      if (root.Bokeh !== undefined) {\n",
       "        embed_document(root);\n",
       "        clearInterval(timer);\n",
       "      }\n",
       "      attempts++;\n",
       "      if (attempts > 100) {\n",
       "        console.log(\"Bokeh: ERROR: Unable to run BokehJS code because BokehJS library is missing\")\n",
       "        clearInterval(timer);\n",
       "      }\n",
       "    }, 10, root)\n",
       "  }\n",
       "})(window);"
      ],
      "application/vnd.bokehjs_exec.v0+json": ""
     },
     "metadata": {
      "application/vnd.bokehjs_exec.v0+json": {
       "id": "6c10974f-f5ac-49ca-87fc-6ce1710202d5"
      }
     },
     "output_type": "display_data"
    },
    {
     "name": "stdout",
     "output_type": "stream",
     "text": [
      "FIGURE. Cooling rate profiles.\n"
     ]
    },
    {
     "data": {
      "text/html": [
       "<a id=\"Flux_Comparison\"></a>"
      ],
      "text/plain": [
       "<IPython.core.display.HTML object>"
      ]
     },
     "metadata": {},
     "output_type": "display_data"
    },
    {
     "data": {
      "text/markdown": [
       "# Flux Comparison"
      ],
      "text/plain": [
       "<IPython.core.display.Markdown object>"
      ]
     },
     "metadata": {},
     "output_type": "display_data"
    },
    {
     "data": {
      "text/html": [
       "<div>\n",
       "<style scoped>\n",
       "    .dataframe tbody tr th:only-of-type {\n",
       "        vertical-align: middle;\n",
       "    }\n",
       "\n",
       "    .dataframe tbody tr th {\n",
       "        vertical-align: top;\n",
       "    }\n",
       "\n",
       "    .dataframe thead th {\n",
       "        text-align: right;\n",
       "    }\n",
       "</style>\n",
       "<table border=\"1\" class=\"dataframe\">\n",
       "  <thead>\n",
       "    <tr style=\"text-align: right;\">\n",
       "      <th></th>\n",
       "      <th></th>\n",
       "      <th>flug</th>\n",
       "      <th>fldg</th>\n",
       "      <th>fnetg</th>\n",
       "    </tr>\n",
       "    <tr>\n",
       "      <th>pressure</th>\n",
       "      <th>level</th>\n",
       "      <th></th>\n",
       "      <th></th>\n",
       "      <th></th>\n",
       "    </tr>\n",
       "  </thead>\n",
       "  <tbody>\n",
       "    <tr>\n",
       "      <th>0.0000</th>\n",
       "      <th>1</th>\n",
       "      <td>-7.715035</td>\n",
       "      <td>0.000000</td>\n",
       "      <td>-7.715035</td>\n",
       "    </tr>\n",
       "    <tr>\n",
       "      <th>1.0685</th>\n",
       "      <th>24</th>\n",
       "      <td>-7.718865</td>\n",
       "      <td>0.021939</td>\n",
       "      <td>-7.696926</td>\n",
       "    </tr>\n",
       "    <tr>\n",
       "      <th>1013.0000</th>\n",
       "      <th>76</th>\n",
       "      <td>-35.855033</td>\n",
       "      <td>35.269794</td>\n",
       "      <td>-0.585239</td>\n",
       "    </tr>\n",
       "  </tbody>\n",
       "</table>\n",
       "</div>"
      ],
      "text/plain": [
       "                      flug       fldg     fnetg\n",
       "pressure  level                                \n",
       "0.0000    1      -7.715035   0.000000 -7.715035\n",
       "1.0685    24     -7.718865   0.021939 -7.696926\n",
       "1013.0000 76    -35.855033  35.269794 -0.585239"
      ]
     },
     "metadata": {},
     "output_type": "display_data"
    },
    {
     "name": "stdout",
     "output_type": "stream",
     "text": [
      "Table. Fluxes. CRD\n"
     ]
    },
    {
     "data": {
      "text/html": [
       "<div>\n",
       "<style scoped>\n",
       "    .dataframe tbody tr th:only-of-type {\n",
       "        vertical-align: middle;\n",
       "    }\n",
       "\n",
       "    .dataframe tbody tr th {\n",
       "        vertical-align: top;\n",
       "    }\n",
       "\n",
       "    .dataframe thead th {\n",
       "        text-align: right;\n",
       "    }\n",
       "</style>\n",
       "<table border=\"1\" class=\"dataframe\">\n",
       "  <thead>\n",
       "    <tr style=\"text-align: right;\">\n",
       "      <th></th>\n",
       "      <th></th>\n",
       "      <th>flug</th>\n",
       "      <th>fldg</th>\n",
       "      <th>fnetg</th>\n",
       "    </tr>\n",
       "    <tr>\n",
       "      <th>pressure</th>\n",
       "      <th>level</th>\n",
       "      <th></th>\n",
       "      <th></th>\n",
       "      <th></th>\n",
       "    </tr>\n",
       "  </thead>\n",
       "  <tbody>\n",
       "    <tr>\n",
       "      <th>0.0000</th>\n",
       "      <th>1</th>\n",
       "      <td>-7.653818</td>\n",
       "      <td>0.000000</td>\n",
       "      <td>-7.653818</td>\n",
       "    </tr>\n",
       "    <tr>\n",
       "      <th>1.0685</th>\n",
       "      <th>24</th>\n",
       "      <td>-7.657222</td>\n",
       "      <td>0.021522</td>\n",
       "      <td>-7.635701</td>\n",
       "    </tr>\n",
       "    <tr>\n",
       "      <th>1013.0000</th>\n",
       "      <th>76</th>\n",
       "      <td>-35.855033</td>\n",
       "      <td>35.278623</td>\n",
       "      <td>-0.576409</td>\n",
       "    </tr>\n",
       "  </tbody>\n",
       "</table>\n",
       "</div>"
      ],
      "text/plain": [
       "                      flug       fldg     fnetg\n",
       "pressure  level                                \n",
       "0.0000    1      -7.653818   0.000000 -7.653818\n",
       "1.0685    24     -7.657222   0.021522 -7.635701\n",
       "1013.0000 76    -35.855033  35.278623 -0.576409"
      ]
     },
     "metadata": {},
     "output_type": "display_data"
    },
    {
     "name": "stdout",
     "output_type": "stream",
     "text": [
      "Table. Fluxes. WGT igg=10 wgt_flux=1\n"
     ]
    },
    {
     "data": {
      "text/html": [
       "<div>\n",
       "<style scoped>\n",
       "    .dataframe tbody tr th:only-of-type {\n",
       "        vertical-align: middle;\n",
       "    }\n",
       "\n",
       "    .dataframe tbody tr th {\n",
       "        vertical-align: top;\n",
       "    }\n",
       "\n",
       "    .dataframe thead th {\n",
       "        text-align: right;\n",
       "    }\n",
       "</style>\n",
       "<table border=\"1\" class=\"dataframe\">\n",
       "  <thead>\n",
       "    <tr style=\"text-align: right;\">\n",
       "      <th></th>\n",
       "      <th></th>\n",
       "      <th>flug</th>\n",
       "      <th>fldg</th>\n",
       "      <th>fnetg</th>\n",
       "    </tr>\n",
       "    <tr>\n",
       "      <th>pressure</th>\n",
       "      <th>level</th>\n",
       "      <th></th>\n",
       "      <th></th>\n",
       "      <th></th>\n",
       "    </tr>\n",
       "  </thead>\n",
       "  <tbody>\n",
       "    <tr>\n",
       "      <th>1.000000e-08</th>\n",
       "      <th>1</th>\n",
       "      <td>-7.574985</td>\n",
       "      <td>1.875993e-09</td>\n",
       "      <td>-7.574985</td>\n",
       "    </tr>\n",
       "    <tr>\n",
       "      <th>1.068500e+00</th>\n",
       "      <th>24</th>\n",
       "      <td>-7.578204</td>\n",
       "      <td>2.120368e-02</td>\n",
       "      <td>-7.557000</td>\n",
       "    </tr>\n",
       "    <tr>\n",
       "      <th>1.013000e+03</th>\n",
       "      <th>76</th>\n",
       "      <td>-35.855030</td>\n",
       "      <td>3.528192e+01</td>\n",
       "      <td>-0.573108</td>\n",
       "    </tr>\n",
       "  </tbody>\n",
       "</table>\n",
       "</div>"
      ],
      "text/plain": [
       "                         flug          fldg     fnetg\n",
       "pressure     level                                   \n",
       "1.000000e-08 1      -7.574985  1.875993e-09 -7.574985\n",
       "1.068500e+00 24     -7.578204  2.120368e-02 -7.557000\n",
       "1.013000e+03 76    -35.855030  3.528192e+01 -0.573108"
      ]
     },
     "metadata": {},
     "output_type": "display_data"
    },
    {
     "name": "stdout",
     "output_type": "stream",
     "text": [
      "Table. Fluxes. CLIRAD\n"
     ]
    },
    {
     "data": {
      "text/html": [
       "<div>\n",
       "<style scoped>\n",
       "    .dataframe tbody tr th:only-of-type {\n",
       "        vertical-align: middle;\n",
       "    }\n",
       "\n",
       "    .dataframe tbody tr th {\n",
       "        vertical-align: top;\n",
       "    }\n",
       "\n",
       "    .dataframe thead th {\n",
       "        text-align: right;\n",
       "    }\n",
       "</style>\n",
       "<table border=\"1\" class=\"dataframe\">\n",
       "  <thead>\n",
       "    <tr style=\"text-align: right;\">\n",
       "      <th></th>\n",
       "      <th></th>\n",
       "      <th>flug</th>\n",
       "      <th>fldg</th>\n",
       "      <th>fnetg</th>\n",
       "    </tr>\n",
       "    <tr>\n",
       "      <th>pressure</th>\n",
       "      <th>level</th>\n",
       "      <th></th>\n",
       "      <th></th>\n",
       "      <th></th>\n",
       "    </tr>\n",
       "  </thead>\n",
       "  <tbody>\n",
       "    <tr>\n",
       "      <th>0.0000</th>\n",
       "      <th>1</th>\n",
       "      <td>6.121662e-02</td>\n",
       "      <td>0.000000</td>\n",
       "      <td>0.061217</td>\n",
       "    </tr>\n",
       "    <tr>\n",
       "      <th>1.0685</th>\n",
       "      <th>24</th>\n",
       "      <td>6.164266e-02</td>\n",
       "      <td>-0.000418</td>\n",
       "      <td>0.061225</td>\n",
       "    </tr>\n",
       "    <tr>\n",
       "      <th>1013.0000</th>\n",
       "      <th>76</th>\n",
       "      <td>-1.950000e-07</td>\n",
       "      <td>0.008829</td>\n",
       "      <td>0.008830</td>\n",
       "    </tr>\n",
       "  </tbody>\n",
       "</table>\n",
       "</div>"
      ],
      "text/plain": [
       "                         flug      fldg     fnetg\n",
       "pressure  level                                  \n",
       "0.0000    1      6.121662e-02  0.000000  0.061217\n",
       "1.0685    24     6.164266e-02 -0.000418  0.061225\n",
       "1013.0000 76    -1.950000e-07  0.008829  0.008830"
      ]
     },
     "metadata": {},
     "output_type": "display_data"
    },
    {
     "name": "stdout",
     "output_type": "stream",
     "text": [
      "Table. Fluxes. (WGT igg=10 wgt_flux=1) - (CRD)\n"
     ]
    },
    {
     "data": {
      "text/html": [
       "<div>\n",
       "<style scoped>\n",
       "    .dataframe tbody tr th:only-of-type {\n",
       "        vertical-align: middle;\n",
       "    }\n",
       "\n",
       "    .dataframe tbody tr th {\n",
       "        vertical-align: top;\n",
       "    }\n",
       "\n",
       "    .dataframe thead th {\n",
       "        text-align: right;\n",
       "    }\n",
       "</style>\n",
       "<table border=\"1\" class=\"dataframe\">\n",
       "  <thead>\n",
       "    <tr style=\"text-align: right;\">\n",
       "      <th></th>\n",
       "      <th></th>\n",
       "      <th>flug</th>\n",
       "      <th>fldg</th>\n",
       "      <th>fnetg</th>\n",
       "    </tr>\n",
       "    <tr>\n",
       "      <th>pressure</th>\n",
       "      <th>level</th>\n",
       "      <th></th>\n",
       "      <th></th>\n",
       "      <th></th>\n",
       "    </tr>\n",
       "  </thead>\n",
       "  <tbody>\n",
       "    <tr>\n",
       "      <th>0.0000</th>\n",
       "      <th>1</th>\n",
       "      <td>0.140050</td>\n",
       "      <td>1.875993e-09</td>\n",
       "      <td>0.140050</td>\n",
       "    </tr>\n",
       "    <tr>\n",
       "      <th>1.0685</th>\n",
       "      <th>24</th>\n",
       "      <td>0.140662</td>\n",
       "      <td>-7.355310e-04</td>\n",
       "      <td>0.139926</td>\n",
       "    </tr>\n",
       "    <tr>\n",
       "      <th>1013.0000</th>\n",
       "      <th>76</th>\n",
       "      <td>0.000003</td>\n",
       "      <td>1.212800e-02</td>\n",
       "      <td>0.012131</td>\n",
       "    </tr>\n",
       "  </tbody>\n",
       "</table>\n",
       "</div>"
      ],
      "text/plain": [
       "                     flug          fldg     fnetg\n",
       "pressure  level                                  \n",
       "0.0000    1      0.140050  1.875993e-09  0.140050\n",
       "1.0685    24     0.140662 -7.355310e-04  0.139926\n",
       "1013.0000 76     0.000003  1.212800e-02  0.012131"
      ]
     },
     "metadata": {},
     "output_type": "display_data"
    },
    {
     "name": "stdout",
     "output_type": "stream",
     "text": [
      "Table. Fluxes. (CLIRAD) - (CRD)\n"
     ]
    },
    {
     "data": {
      "text/html": [
       "<a id=\"Best-fit_Parameters\"></a>"
      ],
      "text/plain": [
       "<IPython.core.display.HTML object>"
      ]
     },
     "metadata": {},
     "output_type": "display_data"
    },
    {
     "data": {
      "text/markdown": [
       "# Best-fit Parameters"
      ],
      "text/plain": [
       "<IPython.core.display.Markdown object>"
      ]
     },
     "metadata": {},
     "output_type": "display_data"
    },
    {
     "name": "stdout",
     "output_type": "stream",
     "text": [
      "Best-fit values for each (gas, band)\n",
      "------------------------------------\n",
      "o h2o band8\n",
      "  atmpro = mls\n",
      "  band = 8\n",
      "  commitnumber = a06b618\n",
      "  conc = None\n",
      "  dv = 0.001\n",
      "  klin = 0\n",
      "  molecule = h2o\n",
      "  ng_adju = [0, -1, 0]\n",
      "  ng_refs = [3, 2, 3]\n",
      "  nv = 1000\n",
      "  option_compute_btable = 0\n",
      "  option_compute_ktable = 1\n",
      "  option_wgt_flux = 1\n",
      "  option_wgt_k = 1\n",
      "  ref_pts = [(1, 250), (10, 250), (500, 250)]\n",
      "  tsfc = 294\n",
      "  vmax = 1900\n",
      "  vmin = 1380\n",
      "  w_diffuse = [(1.66, 1.66, 1.66), (1.66, 1.66), (1.66, 1.66, 1.66)]\n",
      "  wgt = [(0.55, 0.55, 0.85), (0.85, 0.85), (0, 0.3, 0.55)]\n"
     ]
    }
   ],
   "source": [
    "script()"
   ]
  },
  {
   "cell_type": "code",
   "execution_count": 13,
   "metadata": {
    "collapsed": true
   },
   "outputs": [
    {
     "data": {
      "text/html": [
       "<script>\n",
       "code_show=true; \n",
       "function code_toggle() {\n",
       " if (code_show){\n",
       " $('div.input').hide();\n",
       " } else {\n",
       " $('div.input').show();\n",
       " }\n",
       " code_show = !code_show\n",
       "} \n",
       "$( document ).ready(code_toggle);\n",
       "</script>\n",
       "<form action=\"javascript:code_toggle()\"><input type=\"submit\" value=\"Click here to toggle on/off the raw code.\"></form>"
      ],
      "text/plain": [
       "<IPython.core.display.HTML object>"
      ]
     },
     "execution_count": 13,
     "metadata": {},
     "output_type": "execute_result"
    }
   ],
   "source": [
    "display.HTML('''<script>\n",
    "code_show=true; \n",
    "function code_toggle() {\n",
    " if (code_show){\n",
    " $('div.input').hide();\n",
    " } else {\n",
    " $('div.input').show();\n",
    " }\n",
    " code_show = !code_show\n",
    "} \n",
    "$( document ).ready(code_toggle);\n",
    "</script>\n",
    "<form action=\"javascript:code_toggle()\"><input type=\"submit\" value=\"Click here to toggle on/off the raw code.\"></form>''')"
   ]
  }
 ],
 "metadata": {
  "kernelspec": {
   "display_name": "Python 3",
   "language": "python",
   "name": "python3"
  },
  "language_info": {
   "codemirror_mode": {
    "name": "ipython",
    "version": 3
   },
   "file_extension": ".py",
   "mimetype": "text/x-python",
   "name": "python",
   "nbconvert_exporter": "python",
   "pygments_lexer": "ipython3",
   "version": "3.6.1"
  }
 },
 "nbformat": 4,
 "nbformat_minor": 2
}
