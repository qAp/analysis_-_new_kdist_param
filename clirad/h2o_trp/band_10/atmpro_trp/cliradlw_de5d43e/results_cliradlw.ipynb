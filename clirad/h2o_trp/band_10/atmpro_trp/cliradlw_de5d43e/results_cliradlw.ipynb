{
 "cells": [
  {
   "cell_type": "code",
   "execution_count": 1,
   "metadata": {
    "collapsed": true
   },
   "outputs": [],
   "source": [
    "%matplotlib inline\n",
    "import os\n",
    "import re\n",
    "import io\n",
    "import itertools\n",
    "import pprint\n",
    "\n",
    "from bokeh.io import output_notebook, show\n",
    "from bokeh.layouts import gridplot\n",
    "from bokeh.plotting import figure\n",
    "from bokeh.models import Range1d, Legend\n",
    "from bokeh.palettes import all_palettes\n",
    "\n",
    "import matplotlib\n",
    "import matplotlib.pyplot as plt\n",
    "import numpy as np\n",
    "import pandas as pd\n",
    "import xarray as xr\n",
    "\n",
    "import climatools.lblnew.bestfit_params as bestfits\n",
    "from climatools.lblnew import setup_bestfit, setup_overlap\n",
    "import climatools.lblnew.pipeline as pipe_lblnew\n",
    "import climatools.cliradlw.setup as setup_cliradlw\n",
    "import climatools.cliradlw.pipeline as pipe_cliradlw\n",
    "\n",
    "import climatools.html.html as climahtml\n",
    "from climatools.lblnew.dataio import *\n",
    "from climatools.plot.plot import *\n",
    "\n",
    "\n",
    "import IPython.display as display"
   ]
  },
  {
   "cell_type": "code",
   "execution_count": 2,
   "metadata": {
    "collapsed": true
   },
   "outputs": [],
   "source": [
    "%run param.py"
   ]
  },
  {
   "cell_type": "code",
   "execution_count": 3,
   "metadata": {
    "collapsed": true
   },
   "outputs": [
    {
     "name": "stdout",
     "output_type": "stream",
     "text": [
      "The history saving thread hit an unexpected error (OperationalError('database is locked',)).History will not be written to the database.\n"
     ]
    }
   ],
   "source": [
    "def load_output_file(path_csv):\n",
    "    '''\n",
    "    Load lblnew output .csv file to xarray.Dataset\n",
    "    \n",
    "    Parameters\n",
    "    ----------\n",
    "    path_csv: str\n",
    "              Path to the .csv file to be loaded.\n",
    "    ds: xarray.Dataset\n",
    "        Data in the input file in the form of an xarray.Dataset.\n",
    "    '''\n",
    "    toindex = ['band', 'pressure', 'igg', 'g']    \n",
    "    df = pd.read_csv(path_csv, sep=r'\\s+')\n",
    "    df = df.set_index([i for i in toindex if i in df.columns])\n",
    "    df = df.rename(columns={'sfu': 'flug',\n",
    "                            'sfd': 'fldg',\n",
    "                            'fnet': 'fnetg',\n",
    "                            'coolr': 'coolrg'})\n",
    "    ds = xr.Dataset.from_dataframe(df)\n",
    "\n",
    "    for l in ('level', 'layer'):\n",
    "        if l in ds.data_vars:\n",
    "            if len(ds[l].dims) > 1:\n",
    "                surface = {d: 0 for d in ds.dims if d != 'pressure'}\n",
    "                coord_level = ds[l][surface]\n",
    "                ds.coords[l] = ('pressure', coord_level)\n",
    "            else:\n",
    "                ds.coords[l] = ('pressure', ds[l])\n",
    "    \n",
    "    return ds"
   ]
  },
  {
   "cell_type": "code",
   "execution_count": 4,
   "metadata": {
    "collapsed": true
   },
   "outputs": [],
   "source": [
    "def lblnew_setup(param=None):\n",
    "    if 'ng_refs' in param:\n",
    "        return {'setup': setup_bestfit,\n",
    "                'fname_flux_crd': 'output_flux.dat',\n",
    "                'fname_cool_crd': 'output_coolr.dat',\n",
    "                'fname_flux_wgt': 'output_wfluxg.dat',\n",
    "                'fname_cool_wgt': 'output_wcoolrg.dat'}\n",
    "    else:\n",
    "        return {'setup': setup_overlap,\n",
    "                'fname_flux_crd': 'output_flux.dat',\n",
    "                'fname_cool_crd': 'output_coolr.dat',\n",
    "                'fname_flux_wgt': 'output_wflux.dat',\n",
    "                'fname_cool_wgt': 'output_wcoolr.dat'}\n",
    "\n",
    "    \n",
    "def load_lblnew_data(param):\n",
    "    \n",
    "    fname_dsname = [('fname_flux_crd', 'ds_flux_crd'),\n",
    "                    ('fname_cool_crd', 'ds_cool_crd'),\n",
    "                    ('fname_flux_wgt', 'ds_flux_wgt'),\n",
    "                    ('fname_cool_wgt', 'ds_cool_wgt')]\n",
    "    \n",
    "    d = lblnew_setup(param)\n",
    "    dir_fortran = pipe_lblnew.get_dir_case(param, setup=d['setup'])\n",
    "    \n",
    "    data_dict = {}\n",
    "    for fname, dsname in fname_dsname:\n",
    "        fpath = os.path.join(dir_fortran, d[fname])\n",
    "        data_dict[dsname] = load_output_file(fpath)\n",
    "    return data_dict\n",
    "    \n",
    "\n",
    "    \n",
    "    "
   ]
  },
  {
   "cell_type": "code",
   "execution_count": 5,
   "metadata": {
    "collapsed": true
   },
   "outputs": [],
   "source": [
    "d = load_lblnew_data(PARAM_LBLNEW)\n",
    "\n",
    "DS_FLUX_CRD = d['ds_flux_crd']\n",
    "DS_COOL_CRD = d['ds_cool_crd']\n",
    "DS_FLUX_WGT = d['ds_flux_wgt']\n",
    "DS_COOL_WGT = d['ds_cool_wgt']"
   ]
  },
  {
   "cell_type": "code",
   "execution_count": 6,
   "metadata": {
    "collapsed": true
   },
   "outputs": [],
   "source": [
    "DIR_FORTRAN = pipe_cliradlw.get_fortran_dir(PARAM, \n",
    "                                            setup=setup_cliradlw)\n",
    "\n",
    "PATH_FLUX = os.path.join(DIR_FORTRAN, 'output_flux.dat')\n",
    "PATH_COOL = os.path.join(DIR_FORTRAN, 'output_coolr.dat')\n",
    "\n",
    "DS_FLUX = load_output_file(PATH_FLUX)\n",
    "DS_COOL = load_output_file(PATH_COOL)"
   ]
  },
  {
   "cell_type": "code",
   "execution_count": 7,
   "metadata": {
    "collapsed": true
   },
   "outputs": [
    {
     "data": {
      "text/html": [
       "\n",
       "    <div class=\"bk-root\">\n",
       "        <a href=\"https://bokeh.pydata.org\" target=\"_blank\" class=\"bk-logo bk-logo-small bk-logo-notebook\"></a>\n",
       "        <span id=\"530ed917-c031-49aa-b81d-5b2db6abec61\">Loading BokehJS ...</span>\n",
       "    </div>"
      ]
     },
     "metadata": {},
     "output_type": "display_data"
    },
    {
     "data": {
      "application/javascript": [
       "\n",
       "(function(root) {\n",
       "  function now() {\n",
       "    return new Date();\n",
       "  }\n",
       "\n",
       "  var force = true;\n",
       "\n",
       "  if (typeof (root._bokeh_onload_callbacks) === \"undefined\" || force === true) {\n",
       "    root._bokeh_onload_callbacks = [];\n",
       "    root._bokeh_is_loading = undefined;\n",
       "  }\n",
       "\n",
       "  var JS_MIME_TYPE = 'application/javascript';\n",
       "  var HTML_MIME_TYPE = 'text/html';\n",
       "  var EXEC_MIME_TYPE = 'application/vnd.bokehjs_exec.v0+json';\n",
       "  var CLASS_NAME = 'output_bokeh rendered_html';\n",
       "\n",
       "  /**\n",
       "   * Render data to the DOM node\n",
       "   */\n",
       "  function render(props, node) {\n",
       "    var script = document.createElement(\"script\");\n",
       "    node.appendChild(script);\n",
       "  }\n",
       "\n",
       "  /**\n",
       "   * Handle when an output is cleared or removed\n",
       "   */\n",
       "  function handleClearOutput(event, handle) {\n",
       "    var cell = handle.cell;\n",
       "\n",
       "    var id = cell.output_area._bokeh_element_id;\n",
       "    var server_id = cell.output_area._bokeh_server_id;\n",
       "    // Clean up Bokeh references\n",
       "    if (id !== undefined) {\n",
       "      Bokeh.index[id].model.document.clear();\n",
       "      delete Bokeh.index[id];\n",
       "    }\n",
       "\n",
       "    if (server_id !== undefined) {\n",
       "      // Clean up Bokeh references\n",
       "      var cmd = \"from bokeh.io.state import curstate; print(curstate().uuid_to_server['\" + server_id + \"'].get_sessions()[0].document.roots[0]._id)\";\n",
       "      cell.notebook.kernel.execute(cmd, {\n",
       "        iopub: {\n",
       "          output: function(msg) {\n",
       "            var element_id = msg.content.text.trim();\n",
       "            Bokeh.index[element_id].model.document.clear();\n",
       "            delete Bokeh.index[element_id];\n",
       "          }\n",
       "        }\n",
       "      });\n",
       "      // Destroy server and session\n",
       "      var cmd = \"import bokeh.io.notebook as ion; ion.destroy_server('\" + server_id + \"')\";\n",
       "      cell.notebook.kernel.execute(cmd);\n",
       "    }\n",
       "  }\n",
       "\n",
       "  /**\n",
       "   * Handle when a new output is added\n",
       "   */\n",
       "  function handleAddOutput(event, handle) {\n",
       "    var output_area = handle.output_area;\n",
       "    var output = handle.output;\n",
       "\n",
       "    // limit handleAddOutput to display_data with EXEC_MIME_TYPE content only\n",
       "    if ((output.output_type != \"display_data\") || (!output.data.hasOwnProperty(EXEC_MIME_TYPE))) {\n",
       "      return\n",
       "    }\n",
       "\n",
       "    var toinsert = output_area.element.find(\".\" + CLASS_NAME.split(' ')[0]);\n",
       "\n",
       "    if (output.metadata[EXEC_MIME_TYPE][\"id\"] !== undefined) {\n",
       "      toinsert[toinsert.length - 1].firstChild.textContent = output.data[JS_MIME_TYPE];\n",
       "      // store reference to embed id on output_area\n",
       "      output_area._bokeh_element_id = output.metadata[EXEC_MIME_TYPE][\"id\"];\n",
       "    }\n",
       "    if (output.metadata[EXEC_MIME_TYPE][\"server_id\"] !== undefined) {\n",
       "      var bk_div = document.createElement(\"div\");\n",
       "      bk_div.innerHTML = output.data[HTML_MIME_TYPE];\n",
       "      var script_attrs = bk_div.children[0].attributes;\n",
       "      for (var i = 0; i < script_attrs.length; i++) {\n",
       "        toinsert[toinsert.length - 1].firstChild.setAttribute(script_attrs[i].name, script_attrs[i].value);\n",
       "      }\n",
       "      // store reference to server id on output_area\n",
       "      output_area._bokeh_server_id = output.metadata[EXEC_MIME_TYPE][\"server_id\"];\n",
       "    }\n",
       "  }\n",
       "\n",
       "  function register_renderer(events, OutputArea) {\n",
       "\n",
       "    function append_mime(data, metadata, element) {\n",
       "      // create a DOM node to render to\n",
       "      var toinsert = this.create_output_subarea(\n",
       "        metadata,\n",
       "        CLASS_NAME,\n",
       "        EXEC_MIME_TYPE\n",
       "      );\n",
       "      this.keyboard_manager.register_events(toinsert);\n",
       "      // Render to node\n",
       "      var props = {data: data, metadata: metadata[EXEC_MIME_TYPE]};\n",
       "      render(props, toinsert[toinsert.length - 1]);\n",
       "      element.append(toinsert);\n",
       "      return toinsert\n",
       "    }\n",
       "\n",
       "    /* Handle when an output is cleared or removed */\n",
       "    events.on('clear_output.CodeCell', handleClearOutput);\n",
       "    events.on('delete.Cell', handleClearOutput);\n",
       "\n",
       "    /* Handle when a new output is added */\n",
       "    events.on('output_added.OutputArea', handleAddOutput);\n",
       "\n",
       "    /**\n",
       "     * Register the mime type and append_mime function with output_area\n",
       "     */\n",
       "    OutputArea.prototype.register_mime_type(EXEC_MIME_TYPE, append_mime, {\n",
       "      /* Is output safe? */\n",
       "      safe: true,\n",
       "      /* Index of renderer in `output_area.display_order` */\n",
       "      index: 0\n",
       "    });\n",
       "  }\n",
       "\n",
       "  // register the mime type if in Jupyter Notebook environment and previously unregistered\n",
       "  if (root.Jupyter !== undefined) {\n",
       "    var events = require('base/js/events');\n",
       "    var OutputArea = require('notebook/js/outputarea').OutputArea;\n",
       "\n",
       "    if (OutputArea.prototype.mime_types().indexOf(EXEC_MIME_TYPE) == -1) {\n",
       "      register_renderer(events, OutputArea);\n",
       "    }\n",
       "  }\n",
       "\n",
       "  \n",
       "  if (typeof (root._bokeh_timeout) === \"undefined\" || force === true) {\n",
       "    root._bokeh_timeout = Date.now() + 5000;\n",
       "    root._bokeh_failed_load = false;\n",
       "  }\n",
       "\n",
       "  var NB_LOAD_WARNING = {'data': {'text/html':\n",
       "     \"<div style='background-color: #fdd'>\\n\"+\n",
       "     \"<p>\\n\"+\n",
       "     \"BokehJS does not appear to have successfully loaded. If loading BokehJS from CDN, this \\n\"+\n",
       "     \"may be due to a slow or bad network connection. Possible fixes:\\n\"+\n",
       "     \"</p>\\n\"+\n",
       "     \"<ul>\\n\"+\n",
       "     \"<li>re-rerun `output_notebook()` to attempt to load from CDN again, or</li>\\n\"+\n",
       "     \"<li>use INLINE resources instead, as so:</li>\\n\"+\n",
       "     \"</ul>\\n\"+\n",
       "     \"<code>\\n\"+\n",
       "     \"from bokeh.resources import INLINE\\n\"+\n",
       "     \"output_notebook(resources=INLINE)\\n\"+\n",
       "     \"</code>\\n\"+\n",
       "     \"</div>\"}};\n",
       "\n",
       "  function display_loaded() {\n",
       "    var el = document.getElementById(\"530ed917-c031-49aa-b81d-5b2db6abec61\");\n",
       "    if (el != null) {\n",
       "      el.textContent = \"BokehJS is loading...\";\n",
       "    }\n",
       "    if (root.Bokeh !== undefined) {\n",
       "      if (el != null) {\n",
       "        el.textContent = \"BokehJS \" + root.Bokeh.version + \" successfully loaded.\";\n",
       "      }\n",
       "    } else if (Date.now() < root._bokeh_timeout) {\n",
       "      setTimeout(display_loaded, 100)\n",
       "    }\n",
       "  }\n",
       "\n",
       "\n",
       "  function run_callbacks() {\n",
       "    try {\n",
       "      root._bokeh_onload_callbacks.forEach(function(callback) { callback() });\n",
       "    }\n",
       "    finally {\n",
       "      delete root._bokeh_onload_callbacks\n",
       "    }\n",
       "    console.info(\"Bokeh: all callbacks have finished\");\n",
       "  }\n",
       "\n",
       "  function load_libs(js_urls, callback) {\n",
       "    root._bokeh_onload_callbacks.push(callback);\n",
       "    if (root._bokeh_is_loading > 0) {\n",
       "      console.log(\"Bokeh: BokehJS is being loaded, scheduling callback at\", now());\n",
       "      return null;\n",
       "    }\n",
       "    if (js_urls == null || js_urls.length === 0) {\n",
       "      run_callbacks();\n",
       "      return null;\n",
       "    }\n",
       "    console.log(\"Bokeh: BokehJS not loaded, scheduling load and callback at\", now());\n",
       "    root._bokeh_is_loading = js_urls.length;\n",
       "    for (var i = 0; i < js_urls.length; i++) {\n",
       "      var url = js_urls[i];\n",
       "      var s = document.createElement('script');\n",
       "      s.src = url;\n",
       "      s.async = false;\n",
       "      s.onreadystatechange = s.onload = function() {\n",
       "        root._bokeh_is_loading--;\n",
       "        if (root._bokeh_is_loading === 0) {\n",
       "          console.log(\"Bokeh: all BokehJS libraries loaded\");\n",
       "          run_callbacks()\n",
       "        }\n",
       "      };\n",
       "      s.onerror = function() {\n",
       "        console.warn(\"failed to load library \" + url);\n",
       "      };\n",
       "      console.log(\"Bokeh: injecting script tag for BokehJS library: \", url);\n",
       "      document.getElementsByTagName(\"head\")[0].appendChild(s);\n",
       "    }\n",
       "  };var element = document.getElementById(\"530ed917-c031-49aa-b81d-5b2db6abec61\");\n",
       "  if (element == null) {\n",
       "    console.log(\"Bokeh: ERROR: autoload.js configured with elementid '530ed917-c031-49aa-b81d-5b2db6abec61' but no matching script tag was found. \")\n",
       "    return false;\n",
       "  }\n",
       "\n",
       "  var js_urls = [\"https://cdn.pydata.org/bokeh/release/bokeh-0.12.16.min.js\", \"https://cdn.pydata.org/bokeh/release/bokeh-widgets-0.12.16.min.js\", \"https://cdn.pydata.org/bokeh/release/bokeh-tables-0.12.16.min.js\", \"https://cdn.pydata.org/bokeh/release/bokeh-gl-0.12.16.min.js\"];\n",
       "\n",
       "  var inline_js = [\n",
       "    function(Bokeh) {\n",
       "      Bokeh.set_log_level(\"info\");\n",
       "    },\n",
       "    \n",
       "    function(Bokeh) {\n",
       "      \n",
       "    },\n",
       "    function(Bokeh) {\n",
       "      console.log(\"Bokeh: injecting CSS: https://cdn.pydata.org/bokeh/release/bokeh-0.12.16.min.css\");\n",
       "      Bokeh.embed.inject_css(\"https://cdn.pydata.org/bokeh/release/bokeh-0.12.16.min.css\");\n",
       "      console.log(\"Bokeh: injecting CSS: https://cdn.pydata.org/bokeh/release/bokeh-widgets-0.12.16.min.css\");\n",
       "      Bokeh.embed.inject_css(\"https://cdn.pydata.org/bokeh/release/bokeh-widgets-0.12.16.min.css\");\n",
       "      console.log(\"Bokeh: injecting CSS: https://cdn.pydata.org/bokeh/release/bokeh-tables-0.12.16.min.css\");\n",
       "      Bokeh.embed.inject_css(\"https://cdn.pydata.org/bokeh/release/bokeh-tables-0.12.16.min.css\");\n",
       "    }\n",
       "  ];\n",
       "\n",
       "  function run_inline_js() {\n",
       "    \n",
       "    if ((root.Bokeh !== undefined) || (force === true)) {\n",
       "      for (var i = 0; i < inline_js.length; i++) {\n",
       "        inline_js[i].call(root, root.Bokeh);\n",
       "      }if (force === true) {\n",
       "        display_loaded();\n",
       "      }} else if (Date.now() < root._bokeh_timeout) {\n",
       "      setTimeout(run_inline_js, 100);\n",
       "    } else if (!root._bokeh_failed_load) {\n",
       "      console.log(\"Bokeh: BokehJS failed to load within specified timeout.\");\n",
       "      root._bokeh_failed_load = true;\n",
       "    } else if (force !== true) {\n",
       "      var cell = $(document.getElementById(\"530ed917-c031-49aa-b81d-5b2db6abec61\")).parents('.cell').data().cell;\n",
       "      cell.output_area.append_execute_result(NB_LOAD_WARNING)\n",
       "    }\n",
       "\n",
       "  }\n",
       "\n",
       "  if (root._bokeh_is_loading === 0) {\n",
       "    console.log(\"Bokeh: BokehJS loaded, going straight to plotting\");\n",
       "    run_inline_js();\n",
       "  } else {\n",
       "    load_libs(js_urls, function() {\n",
       "      console.log(\"Bokeh: BokehJS plotting callback run at\", now());\n",
       "      run_inline_js();\n",
       "    });\n",
       "  }\n",
       "}(window));"
      ],
      "application/vnd.bokehjs_load.v0+json": "\n(function(root) {\n  function now() {\n    return new Date();\n  }\n\n  var force = true;\n\n  if (typeof (root._bokeh_onload_callbacks) === \"undefined\" || force === true) {\n    root._bokeh_onload_callbacks = [];\n    root._bokeh_is_loading = undefined;\n  }\n\n  \n\n  \n  if (typeof (root._bokeh_timeout) === \"undefined\" || force === true) {\n    root._bokeh_timeout = Date.now() + 5000;\n    root._bokeh_failed_load = false;\n  }\n\n  var NB_LOAD_WARNING = {'data': {'text/html':\n     \"<div style='background-color: #fdd'>\\n\"+\n     \"<p>\\n\"+\n     \"BokehJS does not appear to have successfully loaded. If loading BokehJS from CDN, this \\n\"+\n     \"may be due to a slow or bad network connection. Possible fixes:\\n\"+\n     \"</p>\\n\"+\n     \"<ul>\\n\"+\n     \"<li>re-rerun `output_notebook()` to attempt to load from CDN again, or</li>\\n\"+\n     \"<li>use INLINE resources instead, as so:</li>\\n\"+\n     \"</ul>\\n\"+\n     \"<code>\\n\"+\n     \"from bokeh.resources import INLINE\\n\"+\n     \"output_notebook(resources=INLINE)\\n\"+\n     \"</code>\\n\"+\n     \"</div>\"}};\n\n  function display_loaded() {\n    var el = document.getElementById(\"530ed917-c031-49aa-b81d-5b2db6abec61\");\n    if (el != null) {\n      el.textContent = \"BokehJS is loading...\";\n    }\n    if (root.Bokeh !== undefined) {\n      if (el != null) {\n        el.textContent = \"BokehJS \" + root.Bokeh.version + \" successfully loaded.\";\n      }\n    } else if (Date.now() < root._bokeh_timeout) {\n      setTimeout(display_loaded, 100)\n    }\n  }\n\n\n  function run_callbacks() {\n    try {\n      root._bokeh_onload_callbacks.forEach(function(callback) { callback() });\n    }\n    finally {\n      delete root._bokeh_onload_callbacks\n    }\n    console.info(\"Bokeh: all callbacks have finished\");\n  }\n\n  function load_libs(js_urls, callback) {\n    root._bokeh_onload_callbacks.push(callback);\n    if (root._bokeh_is_loading > 0) {\n      console.log(\"Bokeh: BokehJS is being loaded, scheduling callback at\", now());\n      return null;\n    }\n    if (js_urls == null || js_urls.length === 0) {\n      run_callbacks();\n      return null;\n    }\n    console.log(\"Bokeh: BokehJS not loaded, scheduling load and callback at\", now());\n    root._bokeh_is_loading = js_urls.length;\n    for (var i = 0; i < js_urls.length; i++) {\n      var url = js_urls[i];\n      var s = document.createElement('script');\n      s.src = url;\n      s.async = false;\n      s.onreadystatechange = s.onload = function() {\n        root._bokeh_is_loading--;\n        if (root._bokeh_is_loading === 0) {\n          console.log(\"Bokeh: all BokehJS libraries loaded\");\n          run_callbacks()\n        }\n      };\n      s.onerror = function() {\n        console.warn(\"failed to load library \" + url);\n      };\n      console.log(\"Bokeh: injecting script tag for BokehJS library: \", url);\n      document.getElementsByTagName(\"head\")[0].appendChild(s);\n    }\n  };var element = document.getElementById(\"530ed917-c031-49aa-b81d-5b2db6abec61\");\n  if (element == null) {\n    console.log(\"Bokeh: ERROR: autoload.js configured with elementid '530ed917-c031-49aa-b81d-5b2db6abec61' but no matching script tag was found. \")\n    return false;\n  }\n\n  var js_urls = [\"https://cdn.pydata.org/bokeh/release/bokeh-0.12.16.min.js\", \"https://cdn.pydata.org/bokeh/release/bokeh-widgets-0.12.16.min.js\", \"https://cdn.pydata.org/bokeh/release/bokeh-tables-0.12.16.min.js\", \"https://cdn.pydata.org/bokeh/release/bokeh-gl-0.12.16.min.js\"];\n\n  var inline_js = [\n    function(Bokeh) {\n      Bokeh.set_log_level(\"info\");\n    },\n    \n    function(Bokeh) {\n      \n    },\n    function(Bokeh) {\n      console.log(\"Bokeh: injecting CSS: https://cdn.pydata.org/bokeh/release/bokeh-0.12.16.min.css\");\n      Bokeh.embed.inject_css(\"https://cdn.pydata.org/bokeh/release/bokeh-0.12.16.min.css\");\n      console.log(\"Bokeh: injecting CSS: https://cdn.pydata.org/bokeh/release/bokeh-widgets-0.12.16.min.css\");\n      Bokeh.embed.inject_css(\"https://cdn.pydata.org/bokeh/release/bokeh-widgets-0.12.16.min.css\");\n      console.log(\"Bokeh: injecting CSS: https://cdn.pydata.org/bokeh/release/bokeh-tables-0.12.16.min.css\");\n      Bokeh.embed.inject_css(\"https://cdn.pydata.org/bokeh/release/bokeh-tables-0.12.16.min.css\");\n    }\n  ];\n\n  function run_inline_js() {\n    \n    if ((root.Bokeh !== undefined) || (force === true)) {\n      for (var i = 0; i < inline_js.length; i++) {\n        inline_js[i].call(root, root.Bokeh);\n      }if (force === true) {\n        display_loaded();\n      }} else if (Date.now() < root._bokeh_timeout) {\n      setTimeout(run_inline_js, 100);\n    } else if (!root._bokeh_failed_load) {\n      console.log(\"Bokeh: BokehJS failed to load within specified timeout.\");\n      root._bokeh_failed_load = true;\n    } else if (force !== true) {\n      var cell = $(document.getElementById(\"530ed917-c031-49aa-b81d-5b2db6abec61\")).parents('.cell').data().cell;\n      cell.output_area.append_execute_result(NB_LOAD_WARNING)\n    }\n\n  }\n\n  if (root._bokeh_is_loading === 0) {\n    console.log(\"Bokeh: BokehJS loaded, going straight to plotting\");\n    run_inline_js();\n  } else {\n    load_libs(js_urls, function() {\n      console.log(\"Bokeh: BokehJS plotting callback run at\", now());\n      run_inline_js();\n    });\n  }\n}(window));"
     },
     "metadata": {},
     "output_type": "display_data"
    }
   ],
   "source": [
    "output_notebook()"
   ]
  },
  {
   "cell_type": "code",
   "execution_count": 8,
   "metadata": {
    "collapsed": true
   },
   "outputs": [],
   "source": [
    "def fmt_cool(ds_in):\n",
    "    ds = ds_in.copy(deep=True)\n",
    "    if 'igg' in ds.dims:\n",
    "        ds = ds.sel(igg=1)\n",
    "\n",
    "    if 'g' in ds.dims:\n",
    "        ds = ds.sum('g')\n",
    "            \n",
    "    if 'band' in ds.dims:\n",
    "        try:\n",
    "            ds = ds.squeeze('band')\n",
    "        except ValueError:\n",
    "            ds = ds.sum('band')\n",
    "                \n",
    "    return ds['coolrg']\n",
    "\n",
    "\n",
    "def pltdata_cooling_1(ds_cool=None,\n",
    "                      ds_cool_crd=None, ds_cool_wgt=None):\n",
    "    \n",
    "\n",
    "\n",
    "    colors = all_palettes['Set1'][4]\n",
    "    data = [{'label': 'CLIRAD `coolr_bands`',\n",
    "             'srs': fmt_cool(ds_cool),\n",
    "             'line_dash': 'dashed', 'line_width': 5,\n",
    "             'color': colors[0], 'alpha': .6},\n",
    "            {'label': 'CRD',\n",
    "             'srs': fmt_cool(ds_cool_crd),\n",
    "             'line_dash': 'solid', 'line_width': 1.5,\n",
    "             'marker': 'circle', 'marker_size': 5,\n",
    "             'color': colors[2], 'alpha': 1,},\n",
    "            {'label': 'WGT igg=10 wgt_flux=2',\n",
    "             'srs': fmt_cool(ds_cool_wgt),\n",
    "             'line_dash': 'solid', 'line_width': 3,\n",
    "             'marker': 'square', 'marker_size': 5,\n",
    "             'color': colors[3], 'alpha': .6}]\n",
    "    return data\n",
    "\n",
    "\n",
    "def nice_xlims(pltdata=None, prange=None):\n",
    "    \n",
    "    def get_slice(srs):\n",
    "        return srs.sel(pressure=slice(*prange))\n",
    "    \n",
    "    srss = [d['srs'] for d in pltdata]\n",
    "    vmin = min([get_slice(srs).min() for srs in srss])\n",
    "    vmax = max([get_slice(srs).max() for srs in srss])\n",
    "    dv = (vmax - vmin) * .01\n",
    "    return float(vmin - dv), float(vmax + dv)\n",
    "    \n",
    "\n",
    "def plt_cooling_bokeh(pltdata=None):\n",
    "    '''\n",
    "    Plot a list of cooling rate profiles using bokeh.\n",
    "    '''\n",
    "    ymin = 1e-2 \n",
    "    ymax = 1020 \n",
    "        \n",
    "    p1 = figure(title=\"Linear pressure scale\", \n",
    "                plot_width=400)        \n",
    "    xmin, xmax = nice_xlims(pltdata, prange=(50, 1050))\n",
    "    for d in pltdata:\n",
    "        if 'marker' in d:\n",
    "            getattr(p1, d['marker'])(d['srs'].values, \n",
    "                    d['srs'].coords['pressure'].values,\n",
    "                    color=d['color'], alpha=.7)\n",
    "        p1.line(d['srs'].values, \n",
    "                d['srs'].coords['pressure'].values,\n",
    "                color=d['color'], alpha=d['alpha'], \n",
    "                line_width=d['line_width'], line_dash=d['line_dash'])\n",
    "    \n",
    "    p1.y_range = Range1d(ymax, ymin)\n",
    "    p1.yaxis.axis_label = 'pressure [mb]'   \n",
    "    p1.x_range = Range1d(xmin, xmax)\n",
    "    p1.xaxis.axis_label = 'cooling rate [K/day]'\n",
    "            \n",
    "    p2 = figure(title='Log pressure scale', y_axis_type='log',\n",
    "                plot_width=560)\n",
    "    xmin, xmax = nice_xlims(pltdata, prange=(.01, 200))\n",
    "    \n",
    "    rs = []\n",
    "    for d in pltdata:\n",
    "        rd = []\n",
    "        if 'marker' in d:\n",
    "            r_mark = getattr(p2, d['marker'])(d['srs'].values, \n",
    "                        d['srs'].coords['pressure'].values,\n",
    "                        color=d['color'], alpha=.7)\n",
    "            rd.append(r_mark)\n",
    "        r_line = p2.line(d['srs'].values, \n",
    "                    d['srs'].coords['pressure'].values,\n",
    "                    color=d['color'], alpha=d['alpha'], \n",
    "                    line_width=d['line_width'], line_dash=d['line_dash'])\n",
    "        rd.append(r_line)\n",
    "      \n",
    "        rs.append(rd)\n",
    "        \n",
    "    p2.y_range = Range1d(ymax, ymin)  \n",
    "    p2.yaxis.axis_label = 'pressure [mb]'\n",
    "    \n",
    "    p2.x_range = Range1d(xmin, xmax)\n",
    "    p2.xaxis.axis_label = 'cooling rate [K/day]'\n",
    "    \n",
    "    items = [(d['label'], r) for r, d in zip(rs, pltdata)]\n",
    "    legend = Legend(items=items, location=(10, -30))\n",
    "    legend.label_text_font_size = '8pt'\n",
    "    \n",
    "    p2.add_layout(legend, 'right')  \n",
    "    \n",
    "    show(gridplot(p1, p2, ncols=2, plot_height=500))\n",
    "    \n",
    "\n",
    "def script_plt_cooling():\n",
    "    pltdata = pltdata_cooling_1(\n",
    "        ds_cool=DS_COOL,\n",
    "        ds_cool_crd=DS_COOL_CRD,\n",
    "        ds_cool_wgt=DS_COOL_WGT)\n",
    "    plt_cooling_bokeh(pltdata=pltdata)\n",
    "    print('''FIGURE. Cooling rate profiles.''')"
   ]
  },
  {
   "cell_type": "code",
   "execution_count": 9,
   "metadata": {
    "collapsed": true
   },
   "outputs": [],
   "source": [
    "def fmt_flux(ds_in):\n",
    "    ds = ds_in.copy(deep=True)\n",
    "    \n",
    "    for l in ('level', 'layer'):\n",
    "        if l in ds.data_vars:\n",
    "            if len(ds[l].dims) > 1:\n",
    "                surface = {d: 0 for d in ds.dims if d != 'pressure'}\n",
    "                coord_level = ds[l][surface]\n",
    "                ds.coords[l] = ('pressure', coord_level)\n",
    "            else:\n",
    "                ds.coords[l] = ('pressure', ds[l])\n",
    "        \n",
    "    ds = ds.isel(pressure=[0, 23, -1])\n",
    "        \n",
    "    if 'igg' in ds.dims:\n",
    "        ds = ds.sel(igg=[1])\n",
    "        ds = ds.squeeze('igg').drop('igg')\n",
    "    \n",
    "    if 'g' in ds.dims:\n",
    "        ds = ds.sum('g')\n",
    "            \n",
    "    if 'band' in ds.dims:\n",
    "        try:\n",
    "            ds = ds.squeeze('band').drop('band')\n",
    "        except ValueError:\n",
    "            ds = ds.sum('band')\n",
    "                \n",
    "    df = ds.to_dataframe()\n",
    "    df = df.set_index('level', append=True)               \n",
    "    return df\n",
    "\n",
    "\n",
    "def tbdata_flux(ds_flux=None, ds_flux_crd=None, ds_flux_wgt=None):\n",
    "    ilevels = [0, 23, -1]\n",
    "            \n",
    "    benchmark = {'label': 'CRD',\n",
    "                 'df': fmt_flux(ds_flux_crd)}\n",
    "    \n",
    "    tbs = [{'label': 'WGT igg=10 wgt_flux=1',\n",
    "            'df': fmt_flux(ds_flux_wgt)},\n",
    "           {'label': 'CLIRAD',\n",
    "            'df': fmt_flux(ds_flux)}]\n",
    "    \n",
    "    data = {'benchmark': benchmark, 'others': tbs}\n",
    "    return data\n",
    "\n",
    "\n",
    "def tb_flux(tbdata=None):\n",
    "    benchmark = tbdata['benchmark']\n",
    "    others = tbdata['others']\n",
    "    \n",
    "    def show_tb(d=None):\n",
    "        display.display(d['df'])\n",
    "        print('Table.', 'Fluxes.', d['label'])\n",
    "        \n",
    "    def show_tbdiff(d0=None, d=None):\n",
    "        df = d['df']\n",
    "        df.index = d0['df'].index\n",
    "        display.display(df - d0['df'])\n",
    "        print('Table.', 'Fluxes.', \n",
    "              '({}) - ({})'.format(d['label'], d0['label']))\n",
    "        \n",
    "    show_tb(benchmark)\n",
    "    for d in others:\n",
    "        show_tb(d)\n",
    "        \n",
    "    for d in others:\n",
    "        show_tbdiff(d=d, d0=benchmark)\n",
    "        \n",
    "        \n",
    "def script_tb_flux():\n",
    "    data = tbdata_flux(ds_flux=DS_FLUX,\n",
    "                       ds_flux_crd=DS_FLUX_CRD,\n",
    "                       ds_flux_wgt=DS_FLUX_WGT)\n",
    "    tb_flux(tbdata=data)"
   ]
  },
  {
   "cell_type": "code",
   "execution_count": 10,
   "metadata": {
    "collapsed": true
   },
   "outputs": [],
   "source": [
    "def band_map():\n",
    "    '''\n",
    "    Maps spectral bands in lblnew to spectral bands in clirad.\n",
    "    '''\n",
    "    lblnew2clirad = {'1': '1',\n",
    "            '2': '2',\n",
    "            '3a': '3',\n",
    "            '3b': '4',\n",
    "            '3c': '5',\n",
    "            '4': '6', \n",
    "            '5': '7',\n",
    "            '6': '8',\n",
    "            '7': '9', \n",
    "            '8': '10',\n",
    "            '9': '11'}\n",
    "    \n",
    "    clirad2lblnew = {clirad: lblnew \n",
    "                     for lblnew, clirad in lblnew2clirad.items()}\n",
    "    return clirad2lblnew\n",
    "\n",
    "\n",
    "def gasbands():\n",
    "    bmap = band_map()\n",
    "    gases = list(PARAM['molecule'].keys())\n",
    "    \n",
    "    bands = [bmap[str(b)] for b in PARAM['band']]\n",
    "    return list(itertools.product(gases, bands))\n",
    "\n",
    "\n",
    "def print_bestfit_params():\n",
    "    print('Best-fit values for each (gas, band)')\n",
    "    print('------------------------------------')\n",
    "    for gas, band in gasbands():\n",
    "        print('o {} band{}'.format(gas, band))\n",
    "        param = bestfits.kdist_params(molecule=gas, band=band)\n",
    "        for name, value in sorted(param.items()):\n",
    "            print(2 * ' ' + '{} = {}'.format(name, value))\n",
    "\n",
    "        \n",
    "def print_input_param():        \n",
    "    for name, value in PARAM.items():\n",
    "        print('{} = {}'.format(name, value))\n",
    "        \n",
    "        \n",
    "def print_lblnew_param():\n",
    "    for name, value in sorted(PARAM_LBLNEW.items()):\n",
    "        print('{} = {}'.format(name, value))\n"
   ]
  },
  {
   "cell_type": "code",
   "execution_count": 11,
   "metadata": {
    "collapsed": true,
    "scrolled": false
   },
   "outputs": [],
   "source": [
    "def show_html(s):\n",
    "    display.display(display.HTML(s))\n",
    "\n",
    "    \n",
    "def show_markdown(s):\n",
    "    display.display(display.Markdown(s))\n",
    "\n",
    "    \n",
    "def script():\n",
    "    \n",
    "    title = '### CLIRAD-LW'\n",
    "    s_input = 'Input Parameters'\n",
    "    s_lblnew_param = 'LBLNEW case compaired against'\n",
    "    s_bestfits = 'Best-fit Parameters'\n",
    "    s_plt_cooling = 'Cooling Rate Profiles'\n",
    "    s_tb_flux = 'Flux Comparison'\n",
    "    \n",
    "    # title\n",
    "    show_markdown('### CLIRAD-LW')\n",
    "    \n",
    "    # TOC\n",
    "    show_markdown('### Table of Contents')\n",
    "    show_html(climahtml.getHTML_hrefanchor(s_input))\n",
    "    show_html(climahtml.getHTML_hrefanchor(s_lblnew_param))\n",
    "    show_html(climahtml.getHTML_hrefanchor(s_plt_cooling))\n",
    "    show_html(climahtml.getHTML_hrefanchor(s_tb_flux))\n",
    "    show_html(climahtml.getHTML_hrefanchor(s_bestfits))\n",
    "    \n",
    "    # Input parameters\n",
    "    show_html(climahtml.getHTML_idanchor(s_input))\n",
    "    show_markdown(climahtml.getMarkdown_sectitle(s_input))\n",
    "    print_input_param()\n",
    "    \n",
    "    # LBLNEW parameters \n",
    "    show_html(climahtml.getHTML_idanchor(s_lblnew_param))\n",
    "    show_markdown(climahtml.getMarkdown_sectitle(s_lblnew_param))\n",
    "    print_lblnew_param()\n",
    "    \n",
    "    # Cooling rate profiles\n",
    "    show_html(climahtml.getHTML_idanchor(s_plt_cooling))\n",
    "    show_markdown(climahtml.getMarkdown_sectitle(s_plt_cooling))\n",
    "    script_plt_cooling()\n",
    "    \n",
    "    # Flux comparison\n",
    "    show_html(climahtml.getHTML_idanchor(s_tb_flux))\n",
    "    show_markdown(climahtml.getMarkdown_sectitle(s_tb_flux))\n",
    "    script_tb_flux()\n",
    "    \n",
    "    # Best-fit values\n",
    "    show_html(climahtml.getHTML_idanchor(s_bestfits))\n",
    "    show_markdown(climahtml.getMarkdown_sectitle(s_bestfits))\n",
    "    print_bestfit_params()\n",
    "   \n",
    "    "
   ]
  },
  {
   "cell_type": "code",
   "execution_count": 12,
   "metadata": {
    "collapsed": true,
    "scrolled": false
   },
   "outputs": [
    {
     "data": {
      "text/markdown": [
       "### CLIRAD-LW"
      ],
      "text/plain": [
       "<IPython.core.display.Markdown object>"
      ]
     },
     "metadata": {},
     "output_type": "display_data"
    },
    {
     "data": {
      "text/markdown": [
       "### Table of Contents"
      ],
      "text/plain": [
       "<IPython.core.display.Markdown object>"
      ]
     },
     "metadata": {},
     "output_type": "display_data"
    },
    {
     "data": {
      "text/html": [
       "<a href=\"#Input_Parameters\">Input Parameters</a>"
      ],
      "text/plain": [
       "<IPython.core.display.HTML object>"
      ]
     },
     "metadata": {},
     "output_type": "display_data"
    },
    {
     "data": {
      "text/html": [
       "<a href=\"#LBLNEW_case_compaired_against\">LBLNEW case compaired against</a>"
      ],
      "text/plain": [
       "<IPython.core.display.HTML object>"
      ]
     },
     "metadata": {},
     "output_type": "display_data"
    },
    {
     "data": {
      "text/html": [
       "<a href=\"#Cooling_Rate_Profiles\">Cooling Rate Profiles</a>"
      ],
      "text/plain": [
       "<IPython.core.display.HTML object>"
      ]
     },
     "metadata": {},
     "output_type": "display_data"
    },
    {
     "data": {
      "text/html": [
       "<a href=\"#Flux_Comparison\">Flux Comparison</a>"
      ],
      "text/plain": [
       "<IPython.core.display.HTML object>"
      ]
     },
     "metadata": {},
     "output_type": "display_data"
    },
    {
     "data": {
      "text/html": [
       "<a href=\"#Best-fit_Parameters\">Best-fit Parameters</a>"
      ],
      "text/plain": [
       "<IPython.core.display.HTML object>"
      ]
     },
     "metadata": {},
     "output_type": "display_data"
    },
    {
     "data": {
      "text/html": [
       "<a id=\"Input_Parameters\"></a>"
      ],
      "text/plain": [
       "<IPython.core.display.HTML object>"
      ]
     },
     "metadata": {},
     "output_type": "display_data"
    },
    {
     "data": {
      "text/markdown": [
       "# Input Parameters"
      ],
      "text/plain": [
       "<IPython.core.display.Markdown object>"
      ]
     },
     "metadata": {},
     "output_type": "display_data"
    },
    {
     "name": "stdout",
     "output_type": "stream",
     "text": [
      "atmpro = trp\n",
      "band = [10]\n",
      "commitnumber = de5d43e\n",
      "molecule = {'h2o': 'atmpro'}\n",
      "tsfc = 300\n"
     ]
    },
    {
     "data": {
      "text/html": [
       "<a id=\"LBLNEW_case_compaired_against\"></a>"
      ],
      "text/plain": [
       "<IPython.core.display.HTML object>"
      ]
     },
     "metadata": {},
     "output_type": "display_data"
    },
    {
     "data": {
      "text/markdown": [
       "# LBLNEW case compaired against"
      ],
      "text/plain": [
       "<IPython.core.display.Markdown object>"
      ]
     },
     "metadata": {},
     "output_type": "display_data"
    },
    {
     "name": "stdout",
     "output_type": "stream",
     "text": [
      "atmpro = trp\n",
      "band = 8\n",
      "commitnumber = 5014a19\n",
      "conc = None\n",
      "dv = 0.001\n",
      "klin = 0\n",
      "molecule = h2o\n",
      "ng_adju = [0, -1, 0]\n",
      "ng_refs = [3, 2, 3]\n",
      "nv = 1000\n",
      "option_compute_btable = 0\n",
      "option_compute_ktable = 0\n",
      "option_wgt_flux = 1\n",
      "option_wgt_k = 1\n",
      "ref_pts = [(1, 250), (10, 250), (500, 250)]\n",
      "tsfc = 300\n",
      "vmax = 1900\n",
      "vmin = 1380\n",
      "w_diffuse = [(1.66, 1.66, 1.66), (1.66, 1.66), (1.66, 1.66, 1.66)]\n",
      "wgt = [(0.55, 0.55, 0.85), (0.85, 0.85), (0, 0.3, 0.55)]\n"
     ]
    },
    {
     "data": {
      "text/html": [
       "<a id=\"Cooling_Rate_Profiles\"></a>"
      ],
      "text/plain": [
       "<IPython.core.display.HTML object>"
      ]
     },
     "metadata": {},
     "output_type": "display_data"
    },
    {
     "data": {
      "text/markdown": [
       "# Cooling Rate Profiles"
      ],
      "text/plain": [
       "<IPython.core.display.Markdown object>"
      ]
     },
     "metadata": {},
     "output_type": "display_data"
    },
    {
     "data": {
      "text/html": [
       "\n",
       "<div class=\"bk-root\">\n",
       "    <div class=\"bk-plotdiv\" id=\"4cbd23f9-91ff-4163-9eec-9cb705aa7b2c\"></div>\n",
       "</div>"
      ]
     },
     "metadata": {},
     "output_type": "display_data"
    },
    {
     "data": {
      "application/javascript": [
       "(function(root) {\n",
       "  function embed_document(root) {\n",
       "    \n",
       "  var docs_json = {\"b7601bec-9b22-43c7-ad54-7d9cc4871fda\":{\"roots\":{\"references\":[{\"attributes\":{},\"id\":\"0e358dca-8299-4c93-a3c5-406cae61284f\",\"type\":\"BasicTickFormatter\"},{\"attributes\":{\"callback\":null,\"data\":{\"x\":{\"__ndarray__\":\"HwV3SlHjwL8x0Q6IocHAv/mdvAbUc8C/yxdPIWgvwL+Gt330Xci/v14/ptQBP7+/Rq5rrNe7vr9+7MMAjUq+vzk8sde/8r2/EtZZHLfBvb9bqtsSrMW9vw8fGfP8Fb6/vC02b/HNvr+gbgB2jO2/v1RN3RbH0b6/jyehqEIvub8oN/Zmpmywv/9X81YMM5e/TfRJ1cl4mz+2BoWUNRK2P0TUGINfoMQ/R2RCvaXTzz+ShFV9ihHQPwTxVAr2tsY/+IjfnP3LvT/6ZyI58C6yP6wMPOwHUKg/A6RQvWYKoj+fJMuKBhqcP+gEgM8835Y/kWdP8hwVkz+z3nGFxzSPP0EsW/TXNog/Esn4PozJgT/Z4rycX7ZlP+x+6knS+3W/UftUz1OUhr96ZQUJHEmHv5CmOjr/UX2/CtARD3CSaL8NBNq9tpZrP/eaM6hm/JM/FKdflYERpz8X+Lj7CzOwP6u259MvC7I/5e3sdH1Ztz84JJueV0HAP2QVGL3sl8M/U2GVvCjjwz/bMxBIsrPDP1SPot5PncM/apGt1tGywz9+UJeBs33DP6cJhpF6f8I/Si+t/fm7wD9OGP0m99O8PzKlzZXQG7g/UjSvgZ4atD+4SJ44pV+xP5Tr7+6ZdLA/7mTBQ9vEsT8VSwadWDK0PxasjxRtR7Q/25mMNKTDrj8J9lWzVF2bP+hKOimUmFW/kgoAbEwUj7/fiKoZM3SOvzjlXz9Aw4G/SEwTOG8pbr/OHP91Xw9SvwAU8ykHLOG+jrYarF6KQT/4cpcw4QVjPwQ917CXi8k/\",\"dtype\":\"float64\",\"shape\":[75]},\"y\":{\"__ndarray__\":\"GhExyth1ND/Sv8nbtpRIP2vylNV0PVE/aTum7souWD/At0SJ8fVgPw3Iuahxymc/MSNhhJWvcD/bTfBN02d3P2zb5nxnaoA/CD5h5MAGhz8NmeH1TyaQP+zrCsc9p5Y/LbKd76fGnz/bLW5ISEmmPww9YvTcQq8/JV2OstnstT8Er5Y7M8G+P0c+r3jqkcU/5h99k6ZBzj88bCIzFzjVP4enV8oyxN0//yH99nXg5D8qOpLLf0jtP5kqGJXUifQ/c9cS8kHP/D+/DpwzojQEQIEmwoanVwxA4lgXt9HgE0BSSZ2AJuIbQAMJih9jjiNA5q4l5INuK0AwTKYKRj0zQNv5fmq8/DpAaCJseHrtQkB/+zpwzoxKQM3MzMzMeFJAZmZmZmZqWEAAAAAAAFxeQM3MzMzMJmJAmpmZmZkfZUBmZmZmZhhoQDMzMzMzEWtAAAAAAAAKbkBmZmZmZoFwQM3MzMzM/XFAMzMzMzN6c0CamZmZmfZ0QAAAAAAAc3ZAZmZmZmbvd0DNzMzMzGt5QDMzMzMz6HpAmpmZmZlkfEAAAAAAAOF9QGZmZmZmXX9AZmZmZuZsgECamZmZGSuBQM3MzMxM6YFAAAAAAICngkAzMzMzs2WDQGZmZmbmI4RAmpmZmRnihEDNzMzMTKCFQAAAAACAXoZAMzMzM7Mch0BmZmZm5tqHQJqZmZkZmYhAzczMzExXiUAAAAAAgBWKQDMzMzOz04pAZmZmZuaRi0CamZmZGVCMQM3MzMxMDo1AAAAAAIDMjUAzMzMzs4qOQGZmZmbmSI9A\",\"dtype\":\"float64\",\"shape\":[75]}},\"selected\":{\"id\":\"3749cb95-2b40-40eb-8562-bc25e7f8db7e\",\"type\":\"Selection\"},\"selection_policy\":{\"id\":\"d053dcb2-ffea-4854-8da9-105a672b1938\",\"type\":\"UnionRenderers\"}},\"id\":\"6221cb5e-d845-4cb8-a0d9-25b713d31e80\",\"type\":\"ColumnDataSource\"},{\"attributes\":{\"ticker\":null},\"id\":\"591d260c-c1b1-448e-86eb-7a8711217783\",\"type\":\"LogTickFormatter\"},{\"attributes\":{\"plot\":null,\"text\":\"Log pressure scale\"},\"id\":\"9f92f99c-89b4-40e8-924f-bdb83756d7ce\",\"type\":\"Title\"},{\"attributes\":{\"callback\":null,\"end\":0.25603489690000003,\"start\":-0.1321818869},\"id\":\"1e2e79eb-987d-4547-854d-a23531fb45a6\",\"type\":\"Range1d\"},{\"attributes\":{},\"id\":\"248fbac1-dfe1-4e0f-8e55-7661d6598c32\",\"type\":\"UnionRenderers\"},{\"attributes\":{},\"id\":\"a003ee1d-d0d0-4655-80e7-ad5976678b9b\",\"type\":\"UnionRenderers\"},{\"attributes\":{},\"id\":\"7d7bf8d8-117c-4616-84b4-23b1d26911ed\",\"type\":\"LinearScale\"},{\"attributes\":{},\"id\":\"6ac001d5-97be-403a-9616-be49da0e30b6\",\"type\":\"LogScale\"},{\"attributes\":{},\"id\":\"8293f337-e1cb-4b10-ab66-8bd6b5b38214\",\"type\":\"UnionRenderers\"},{\"attributes\":{},\"id\":\"031bcffb-8171-439e-9f7c-e6168c198f51\",\"type\":\"LinearScale\"},{\"attributes\":{},\"id\":\"4432415d-674f-48b4-bb67-3b4f8c6478cb\",\"type\":\"Selection\"},{\"attributes\":{\"active_drag\":\"auto\",\"active_inspect\":\"auto\",\"active_scroll\":\"auto\",\"active_tap\":\"auto\",\"tools\":[{\"id\":\"5aca6ebb-6cd1-4cea-aeb6-05fa849bb051\",\"type\":\"PanTool\"},{\"id\":\"79353349-d6bd-4557-abce-6335d89177d8\",\"type\":\"WheelZoomTool\"},{\"id\":\"26f1ee98-5141-431a-a468-ed28ce4086eb\",\"type\":\"BoxZoomTool\"},{\"id\":\"3c8d4aed-e7da-4304-866f-9660edbe50f8\",\"type\":\"SaveTool\"},{\"id\":\"7a9a5648-6739-4446-b1b1-eb30a22e58d6\",\"type\":\"ResetTool\"},{\"id\":\"09f92e3f-f283-42ff-bcc3-b9fdc9f4d020\",\"type\":\"HelpTool\"}]},\"id\":\"1e03e773-0b58-45fc-a54a-f163e73c2ebc\",\"type\":\"Toolbar\"},{\"attributes\":{},\"id\":\"55483d3d-1d0e-4620-be17-80358822759d\",\"type\":\"Selection\"},{\"attributes\":{\"line_alpha\":0.1,\"line_color\":\"#1f77b4\",\"line_width\":3,\"x\":{\"field\":\"x\"},\"y\":{\"field\":\"y\"}},\"id\":\"2320268e-9f76-41b3-9637-1cc26b26f023\",\"type\":\"Line\"},{\"attributes\":{},\"id\":\"fa583e7f-313f-40c1-9269-b1a33cd4eb70\",\"type\":\"Selection\"},{\"attributes\":{\"plot\":null,\"text\":\"Linear pressure scale\"},\"id\":\"42d6b62e-6c6a-47f7-9bd7-cba41bb7b9b9\",\"type\":\"Title\"},{\"attributes\":{\"items\":[{\"id\":\"de446bd9-3c6c-4c59-b4e5-cb70e7007171\",\"type\":\"LegendItem\"},{\"id\":\"2ec1b704-19d6-4f72-84e7-44b02a44e271\",\"type\":\"LegendItem\"},{\"id\":\"7cf8f1b4-6bd6-4bfa-a805-f304159003c2\",\"type\":\"LegendItem\"}],\"label_text_font_size\":{\"value\":\"8pt\"},\"location\":[10,-30],\"plot\":{\"id\":\"a9c3e987-b9c7-474f-b761-3c223f929a14\",\"subtype\":\"Figure\",\"type\":\"Plot\"}},\"id\":\"d5334449-b811-482e-8081-09fd3bea033f\",\"type\":\"Legend\"},{\"attributes\":{},\"id\":\"4832fc04-de3d-4f31-9ee8-dab39cc817e5\",\"type\":\"UnionRenderers\"},{\"attributes\":{},\"id\":\"9ea0a4a2-2353-493a-9501-003a25e78394\",\"type\":\"Selection\"},{\"attributes\":{\"tools\":[{\"id\":\"f108d278-a8e4-41b9-99fb-27d29f44fbca\",\"type\":\"PanTool\"},{\"id\":\"f73ea6f0-a840-483a-964b-e44c67c12b97\",\"type\":\"WheelZoomTool\"},{\"id\":\"af61171d-dbb9-441a-8720-26de823dbc0a\",\"type\":\"BoxZoomTool\"},{\"id\":\"b5c3cafa-b1f3-4702-8e5f-a28118a27c24\",\"type\":\"SaveTool\"},{\"id\":\"6cc327e4-d406-43f9-b6de-3b57e04a3a89\",\"type\":\"ResetTool\"},{\"id\":\"8f06f88f-80f7-451c-a1d8-c554b0472406\",\"type\":\"HelpTool\"},{\"id\":\"5aca6ebb-6cd1-4cea-aeb6-05fa849bb051\",\"type\":\"PanTool\"},{\"id\":\"79353349-d6bd-4557-abce-6335d89177d8\",\"type\":\"WheelZoomTool\"},{\"id\":\"26f1ee98-5141-431a-a468-ed28ce4086eb\",\"type\":\"BoxZoomTool\"},{\"id\":\"3c8d4aed-e7da-4304-866f-9660edbe50f8\",\"type\":\"SaveTool\"},{\"id\":\"7a9a5648-6739-4446-b1b1-eb30a22e58d6\",\"type\":\"ResetTool\"},{\"id\":\"09f92e3f-f283-42ff-bcc3-b9fdc9f4d020\",\"type\":\"HelpTool\"}]},\"id\":\"cec006da-fc9b-4ec3-a87a-65b367ea99f0\",\"type\":\"ProxyToolbar\"},{\"attributes\":{\"data_source\":{\"id\":\"6221cb5e-d845-4cb8-a0d9-25b713d31e80\",\"type\":\"ColumnDataSource\"},\"glyph\":{\"id\":\"166cc374-3b4f-4f1a-972c-e5f85128967a\",\"type\":\"Line\"},\"hover_glyph\":null,\"muted_glyph\":null,\"nonselection_glyph\":{\"id\":\"2320268e-9f76-41b3-9637-1cc26b26f023\",\"type\":\"Line\"},\"selection_glyph\":null,\"view\":{\"id\":\"6bf0aeec-f3ad-4dea-836c-33756794aa7b\",\"type\":\"CDSView\"}},\"id\":\"4a06a743-69ea-47ba-a747-f4e7b4d95d0e\",\"type\":\"GlyphRenderer\"},{\"attributes\":{\"children\":[{\"id\":\"25fddda9-ceaa-4c26-9729-0273eea0291f\",\"type\":\"Row\"}]},\"id\":\"ee8f325a-b341-4b13-86ff-5cf6c8e5ff1d\",\"type\":\"Column\"},{\"attributes\":{\"toolbar\":{\"id\":\"cec006da-fc9b-4ec3-a87a-65b367ea99f0\",\"type\":\"ProxyToolbar\"},\"toolbar_location\":\"above\"},\"id\":\"060556ea-77ab-4e60-89dd-46127ae9aaef\",\"type\":\"ToolbarBox\"},{\"attributes\":{\"source\":{\"id\":\"6221cb5e-d845-4cb8-a0d9-25b713d31e80\",\"type\":\"ColumnDataSource\"}},\"id\":\"6bf0aeec-f3ad-4dea-836c-33756794aa7b\",\"type\":\"CDSView\"},{\"attributes\":{\"plot\":{\"id\":\"a9c3e987-b9c7-474f-b761-3c223f929a14\",\"subtype\":\"Figure\",\"type\":\"Plot\"},\"ticker\":{\"id\":\"1539f090-00da-4003-93a6-3f04fc1c1c3e\",\"type\":\"BasicTicker\"}},\"id\":\"30f8f357-ecc0-43f1-8ed4-28b07f74e512\",\"type\":\"Grid\"},{\"attributes\":{},\"id\":\"7753015f-af08-4eeb-aeb2-f2664a0b5803\",\"type\":\"UnionRenderers\"},{\"attributes\":{\"overlay\":{\"id\":\"7120110d-848a-43b2-83c5-f2016c2527c9\",\"type\":\"BoxAnnotation\"}},\"id\":\"26f1ee98-5141-431a-a468-ed28ce4086eb\",\"type\":\"BoxZoomTool\"},{\"attributes\":{},\"id\":\"142fe35c-f95d-40ac-a035-a7204d0cff07\",\"type\":\"Selection\"},{\"attributes\":{\"children\":[{\"id\":\"060556ea-77ab-4e60-89dd-46127ae9aaef\",\"type\":\"ToolbarBox\"},{\"id\":\"ee8f325a-b341-4b13-86ff-5cf6c8e5ff1d\",\"type\":\"Column\"}]},\"id\":\"7dfb5a22-d154-4283-a499-2ac908000bf0\",\"type\":\"Column\"},{\"attributes\":{\"axis_label\":\"cooling rate [K/day]\",\"formatter\":{\"id\":\"0e358dca-8299-4c93-a3c5-406cae61284f\",\"type\":\"BasicTickFormatter\"},\"plot\":{\"id\":\"a9c3e987-b9c7-474f-b761-3c223f929a14\",\"subtype\":\"Figure\",\"type\":\"Plot\"},\"ticker\":{\"id\":\"1539f090-00da-4003-93a6-3f04fc1c1c3e\",\"type\":\"BasicTicker\"}},\"id\":\"02a5e175-6cda-42b8-a160-be55f6e73655\",\"type\":\"LinearAxis\"},{\"attributes\":{},\"id\":\"79353349-d6bd-4557-abce-6335d89177d8\",\"type\":\"WheelZoomTool\"},{\"attributes\":{},\"id\":\"3c8d4aed-e7da-4304-866f-9660edbe50f8\",\"type\":\"SaveTool\"},{\"attributes\":{},\"id\":\"7a9a5648-6739-4446-b1b1-eb30a22e58d6\",\"type\":\"ResetTool\"},{\"attributes\":{},\"id\":\"5aca6ebb-6cd1-4cea-aeb6-05fa849bb051\",\"type\":\"PanTool\"},{\"attributes\":{},\"id\":\"09f92e3f-f283-42ff-bcc3-b9fdc9f4d020\",\"type\":\"HelpTool\"},{\"attributes\":{\"line_alpha\":0.1,\"line_color\":\"#1f77b4\",\"line_width\":3,\"x\":{\"field\":\"x\"},\"y\":{\"field\":\"y\"}},\"id\":\"df74ab21-730a-462a-bd79-8450bfe0574c\",\"type\":\"Line\"},{\"attributes\":{},\"id\":\"1539f090-00da-4003-93a6-3f04fc1c1c3e\",\"type\":\"BasicTicker\"},{\"attributes\":{\"bottom_units\":\"screen\",\"fill_alpha\":{\"value\":0.5},\"fill_color\":{\"value\":\"lightgrey\"},\"left_units\":\"screen\",\"level\":\"overlay\",\"line_alpha\":{\"value\":1.0},\"line_color\":{\"value\":\"black\"},\"line_dash\":[4,4],\"line_width\":{\"value\":2},\"plot\":null,\"render_mode\":\"css\",\"right_units\":\"screen\",\"top_units\":\"screen\"},\"id\":\"7120110d-848a-43b2-83c5-f2016c2527c9\",\"type\":\"BoxAnnotation\"},{\"attributes\":{\"num_minor_ticks\":10},\"id\":\"8c6f4037-0230-49eb-95d2-f4131ee44930\",\"type\":\"LogTicker\"},{\"attributes\":{\"dimension\":1,\"plot\":{\"id\":\"ffde5327-ac50-4e4e-a9f8-3c2ae8322466\",\"subtype\":\"Figure\",\"type\":\"Plot\"},\"ticker\":{\"id\":\"4f82b8aa-c178-4a4f-a21d-f1815252e7c6\",\"type\":\"BasicTicker\"}},\"id\":\"fd241e44-63c4-4fc9-a39f-dd1e45090251\",\"type\":\"Grid\"},{\"attributes\":{\"data_source\":{\"id\":\"13fe5fef-ff68-4e30-a8fa-ac49ece33ac2\",\"type\":\"ColumnDataSource\"},\"glyph\":{\"id\":\"a6240e52-942d-472b-ba10-e9a2916154f5\",\"type\":\"Line\"},\"hover_glyph\":null,\"muted_glyph\":null,\"nonselection_glyph\":{\"id\":\"ddf320d7-32b1-46d5-8c79-50b2bfefd92b\",\"type\":\"Line\"},\"selection_glyph\":null,\"view\":{\"id\":\"afaf6a17-d384-4f05-ad50-bf46b05bddce\",\"type\":\"CDSView\"}},\"id\":\"dd815b77-ab9b-4e9c-a7e4-cbdc53cddd0e\",\"type\":\"GlyphRenderer\"},{\"attributes\":{\"dimension\":1,\"plot\":{\"id\":\"a9c3e987-b9c7-474f-b761-3c223f929a14\",\"subtype\":\"Figure\",\"type\":\"Plot\"},\"ticker\":{\"id\":\"8c6f4037-0230-49eb-95d2-f4131ee44930\",\"type\":\"LogTicker\"}},\"id\":\"575d6279-5508-4d43-b49d-ef891be5cdad\",\"type\":\"Grid\"},{\"attributes\":{\"axis_label\":\"pressure [mb]\",\"formatter\":{\"id\":\"591d260c-c1b1-448e-86eb-7a8711217783\",\"type\":\"LogTickFormatter\"},\"plot\":{\"id\":\"a9c3e987-b9c7-474f-b761-3c223f929a14\",\"subtype\":\"Figure\",\"type\":\"Plot\"},\"ticker\":{\"id\":\"8c6f4037-0230-49eb-95d2-f4131ee44930\",\"type\":\"LogTicker\"}},\"id\":\"40143dcd-83d9-4064-8669-05a13480c45e\",\"type\":\"LogAxis\"},{\"attributes\":{\"callback\":null,\"data\":{\"x\":{\"__ndarray__\":\"DUhOaIrnwb9n3j9QTc3Bv175h4j2jMG/JFYthv5Lwb/WO9wODQvBv+uXoVRvy8C/oz+wukCPwL8gjOlT2FbAvxVdDw0oJ8C/IlI2WWECwL/tsdsEa96/v/PHtDaN7b+/JzsukagjwL9zwTKZnm7Avx+m+Trbab+/2t/AgRzWub/tKILDATCxv+fMHc32wJm/rc1S9LhWmj9o2W/6bku2P07wLMV+5MQ/OKClK9jGzz/66DfAitvPP+BegBpKL8Y/zJViw6qsvD8ZRVhSw76xPx7jV5r+Zqg/elEjQ3rJoT+2/6gdY8aaPym0IwpqTpU/S4/HiBsikj+hLAVvC0COP7cquSWaiYc/KQ12uNaNgT+2ABrR8IBnPwAjirYTf3W/tX8mQQaShr/uUzcSxiGHv32rt/5EAn2/1oUm6HLsaL9Ao70INtFnP3hIh0Bb8pM/+QqqxHeNqD/wJcl97xKwPznOR/saJ7A/+UlfTw77tj9jwGksJ0LBP6k51Ep8ycQ/9FCZan9KxD+RYMunnrfDPzTBDYSmHcQ/a8js6l3VxD/rKlG0eqDEP1ec5vQnN8M/6FGvY3WOwD+vcg3Yeiu7P4teAd173rU/UHjWXNgUsj+GCS5MYu2vP0YGQn2OOa8/k8r91poisT9oVlHkkqizP+LKJcroRLM/HAJ/rGuqrD+EVVdmk8GWP0Ubl2Dei3q/Vc50Nc3Jkr9coKK/192Qv/LT47cbVoa/uLh5ayhKcb9I72hbBZxSvyKmYGfsRl2/Pqjxl2cmPD+31hSa/WBdP3WEHRAyWsk/\",\"dtype\":\"float64\",\"shape\":[75]},\"y\":{\"__ndarray__\":\"S/O/Q+51ND/Sv8nbtpRIP2vylNV0PVE/aTum7souWD/At0SJ8fVgPw3Iuahxymc/MSNhhJWvcD/bTfBN02d3P2zb5nxnaoA/CD5h5MAGhz8NmeH1TyaQP+zrCsc9p5Y/LbKd76fGnz/bLW5ISEmmPww9YvTcQq8/JV2OstnstT8Er5Y7M8G+P0c+r3jqkcU/5h99k6ZBzj88bCIzFzjVP4enV8oyxN0//yH99nXg5D8qOpLLf0jtP5kqGJXUifQ/c9cS8kHP/D+/DpwzojQEQIEmwoanVwxA4lgXt9HgE0BSSZ2AJuIbQAMJih9jjiNA5q4l5INuK0AwTKYKRj0zQNv5fmq8/DpAaCJseHrtQkB/+zpwzoxKQM3MzMzMeFJAZmZmZmZqWEAAAAAAAFxeQM3MzMzMJmJAmpmZmZkfZUBmZmZmZhhoQDMzMzMzEWtAAAAAAAAKbkBmZmZmZoFwQM3MzMzM/XFAMzMzMzN6c0CamZmZmfZ0QAAAAAAAc3ZAZmZmZmbvd0DNzMzMzGt5QDMzMzMz6HpAmpmZmZlkfEAAAAAAAOF9QGZmZmZmXX9AZmZmZuZsgECamZmZGSuBQM3MzMxM6YFAAAAAAICngkAzMzMzs2WDQGZmZmbmI4RAmpmZmRnihEDNzMzMTKCFQAAAAACAXoZAMzMzM7Mch0BmZmZm5tqHQJqZmZkZmYhAzczMzExXiUAAAAAAgBWKQDMzMzOz04pAZmZmZuaRi0CamZmZGVCMQM3MzMxMDo1AAAAAAIDMjUAzMzMzs4qOQGZmZmbmSI9A\",\"dtype\":\"float64\",\"shape\":[75]}},\"selected\":{\"id\":\"4949e499-ce9d-4b29-9606-39eb323f2223\",\"type\":\"Selection\"},\"selection_policy\":{\"id\":\"5ceff8c9-9c49-450f-9172-528f3db034ae\",\"type\":\"UnionRenderers\"}},\"id\":\"2450a2a0-921d-4cab-ae4e-df5b79352e66\",\"type\":\"ColumnDataSource\"},{\"attributes\":{\"active_drag\":\"auto\",\"active_inspect\":\"auto\",\"active_scroll\":\"auto\",\"active_tap\":\"auto\",\"tools\":[{\"id\":\"f108d278-a8e4-41b9-99fb-27d29f44fbca\",\"type\":\"PanTool\"},{\"id\":\"f73ea6f0-a840-483a-964b-e44c67c12b97\",\"type\":\"WheelZoomTool\"},{\"id\":\"af61171d-dbb9-441a-8720-26de823dbc0a\",\"type\":\"BoxZoomTool\"},{\"id\":\"b5c3cafa-b1f3-4702-8e5f-a28118a27c24\",\"type\":\"SaveTool\"},{\"id\":\"6cc327e4-d406-43f9-b6de-3b57e04a3a89\",\"type\":\"ResetTool\"},{\"id\":\"8f06f88f-80f7-451c-a1d8-c554b0472406\",\"type\":\"HelpTool\"}]},\"id\":\"f154f71a-c328-4510-80ac-fc6c42e819ab\",\"type\":\"Toolbar\"},{\"attributes\":{\"callback\":null,\"data\":{\"x\":{\"__ndarray__\":\"HwV3SlHjwL8x0Q6IocHAv/mdvAbUc8C/yxdPIWgvwL+Gt330Xci/v14/ptQBP7+/Rq5rrNe7vr9+7MMAjUq+vzk8sde/8r2/EtZZHLfBvb9bqtsSrMW9vw8fGfP8Fb6/vC02b/HNvr+gbgB2jO2/v1RN3RbH0b6/jyehqEIvub8oN/Zmpmywv/9X81YMM5e/TfRJ1cl4mz+2BoWUNRK2P0TUGINfoMQ/R2RCvaXTzz+ShFV9ihHQPwTxVAr2tsY/+IjfnP3LvT/6ZyI58C6yP6wMPOwHUKg/A6RQvWYKoj+fJMuKBhqcP+gEgM8835Y/kWdP8hwVkz+z3nGFxzSPP0EsW/TXNog/Esn4PozJgT/Z4rycX7ZlP+x+6knS+3W/UftUz1OUhr96ZQUJHEmHv5CmOjr/UX2/CtARD3CSaL8NBNq9tpZrP/eaM6hm/JM/FKdflYERpz8X+Lj7CzOwP6u259MvC7I/5e3sdH1Ztz84JJueV0HAP2QVGL3sl8M/U2GVvCjjwz/bMxBIsrPDP1SPot5PncM/apGt1tGywz9+UJeBs33DP6cJhpF6f8I/Si+t/fm7wD9OGP0m99O8PzKlzZXQG7g/UjSvgZ4atD+4SJ44pV+xP5Tr7+6ZdLA/7mTBQ9vEsT8VSwadWDK0PxasjxRtR7Q/25mMNKTDrj8J9lWzVF2bP+hKOimUmFW/kgoAbEwUj7/fiKoZM3SOvzjlXz9Aw4G/SEwTOG8pbr/OHP91Xw9SvwAU8ykHLOG+jrYarF6KQT/4cpcw4QVjPwQ917CXi8k/\",\"dtype\":\"float64\",\"shape\":[75]},\"y\":{\"__ndarray__\":\"GhExyth1ND/Sv8nbtpRIP2vylNV0PVE/aTum7souWD/At0SJ8fVgPw3Iuahxymc/MSNhhJWvcD/bTfBN02d3P2zb5nxnaoA/CD5h5MAGhz8NmeH1TyaQP+zrCsc9p5Y/LbKd76fGnz/bLW5ISEmmPww9YvTcQq8/JV2OstnstT8Er5Y7M8G+P0c+r3jqkcU/5h99k6ZBzj88bCIzFzjVP4enV8oyxN0//yH99nXg5D8qOpLLf0jtP5kqGJXUifQ/c9cS8kHP/D+/DpwzojQEQIEmwoanVwxA4lgXt9HgE0BSSZ2AJuIbQAMJih9jjiNA5q4l5INuK0AwTKYKRj0zQNv5fmq8/DpAaCJseHrtQkB/+zpwzoxKQM3MzMzMeFJAZmZmZmZqWEAAAAAAAFxeQM3MzMzMJmJAmpmZmZkfZUBmZmZmZhhoQDMzMzMzEWtAAAAAAAAKbkBmZmZmZoFwQM3MzMzM/XFAMzMzMzN6c0CamZmZmfZ0QAAAAAAAc3ZAZmZmZmbvd0DNzMzMzGt5QDMzMzMz6HpAmpmZmZlkfEAAAAAAAOF9QGZmZmZmXX9AZmZmZuZsgECamZmZGSuBQM3MzMxM6YFAAAAAAICngkAzMzMzs2WDQGZmZmbmI4RAmpmZmRnihEDNzMzMTKCFQAAAAACAXoZAMzMzM7Mch0BmZmZm5tqHQJqZmZkZmYhAzczMzExXiUAAAAAAgBWKQDMzMzOz04pAZmZmZuaRi0CamZmZGVCMQM3MzMxMDo1AAAAAAIDMjUAzMzMzs4qOQGZmZmbmSI9A\",\"dtype\":\"float64\",\"shape\":[75]}},\"selected\":{\"id\":\"142fe35c-f95d-40ac-a035-a7204d0cff07\",\"type\":\"Selection\"},\"selection_policy\":{\"id\":\"7753015f-af08-4eeb-aeb2-f2664a0b5803\",\"type\":\"UnionRenderers\"}},\"id\":\"c9a79b21-8ff4-4adf-8fd1-fdad921915d1\",\"type\":\"ColumnDataSource\"},{\"attributes\":{},\"id\":\"4f82b8aa-c178-4a4f-a21d-f1815252e7c6\",\"type\":\"BasicTicker\"},{\"attributes\":{\"line_alpha\":0.6,\"line_color\":\"#e41a1c\",\"line_dash\":[6],\"line_width\":5,\"x\":{\"field\":\"x\"},\"y\":{\"field\":\"y\"}},\"id\":\"a6240e52-942d-472b-ba10-e9a2916154f5\",\"type\":\"Line\"},{\"attributes\":{\"line_alpha\":0.1,\"line_color\":\"#1f77b4\",\"line_dash\":[6],\"line_width\":5,\"x\":{\"field\":\"x\"},\"y\":{\"field\":\"y\"}},\"id\":\"ddf320d7-32b1-46d5-8c79-50b2bfefd92b\",\"type\":\"Line\"},{\"attributes\":{\"below\":[{\"id\":\"02a5e175-6cda-42b8-a160-be55f6e73655\",\"type\":\"LinearAxis\"}],\"left\":[{\"id\":\"40143dcd-83d9-4064-8669-05a13480c45e\",\"type\":\"LogAxis\"}],\"plot_height\":500,\"plot_width\":560,\"renderers\":[{\"id\":\"02a5e175-6cda-42b8-a160-be55f6e73655\",\"type\":\"LinearAxis\"},{\"id\":\"30f8f357-ecc0-43f1-8ed4-28b07f74e512\",\"type\":\"Grid\"},{\"id\":\"40143dcd-83d9-4064-8669-05a13480c45e\",\"type\":\"LogAxis\"},{\"id\":\"575d6279-5508-4d43-b49d-ef891be5cdad\",\"type\":\"Grid\"},{\"id\":\"7120110d-848a-43b2-83c5-f2016c2527c9\",\"type\":\"BoxAnnotation\"},{\"id\":\"dd815b77-ab9b-4e9c-a7e4-cbdc53cddd0e\",\"type\":\"GlyphRenderer\"},{\"id\":\"71077bb4-e737-455a-8e8a-fefda11d99b6\",\"type\":\"GlyphRenderer\"},{\"id\":\"a58d4a8b-3b96-42f4-8017-39eb8c2bfab0\",\"type\":\"GlyphRenderer\"},{\"id\":\"71285f56-866c-40a4-b472-73f3934cec9f\",\"type\":\"GlyphRenderer\"},{\"id\":\"101176ab-0d1c-4cfb-b75a-4ad680eadca5\",\"type\":\"GlyphRenderer\"},{\"id\":\"d5334449-b811-482e-8081-09fd3bea033f\",\"type\":\"Legend\"}],\"right\":[{\"id\":\"d5334449-b811-482e-8081-09fd3bea033f\",\"type\":\"Legend\"}],\"title\":{\"id\":\"9f92f99c-89b4-40e8-924f-bdb83756d7ce\",\"type\":\"Title\"},\"toolbar\":{\"id\":\"1e03e773-0b58-45fc-a54a-f163e73c2ebc\",\"type\":\"Toolbar\"},\"toolbar_location\":null,\"x_range\":{\"id\":\"1e2e79eb-987d-4547-854d-a23531fb45a6\",\"type\":\"Range1d\"},\"x_scale\":{\"id\":\"031bcffb-8171-439e-9f7c-e6168c198f51\",\"type\":\"LinearScale\"},\"y_range\":{\"id\":\"1a83f787-92f7-42f1-acee-b2528e9cf355\",\"type\":\"Range1d\"},\"y_scale\":{\"id\":\"6ac001d5-97be-403a-9616-be49da0e30b6\",\"type\":\"LogScale\"}},\"id\":\"a9c3e987-b9c7-474f-b761-3c223f929a14\",\"subtype\":\"Figure\",\"type\":\"Plot\"},{\"attributes\":{\"callback\":null,\"end\":0.01,\"start\":1020},\"id\":\"4b535699-5028-4ef4-8432-87875f9d4501\",\"type\":\"Range1d\"},{\"attributes\":{\"source\":{\"id\":\"7c100f6e-45ec-4b82-b671-076fa91489b4\",\"type\":\"ColumnDataSource\"}},\"id\":\"ceb6ea2d-ae8f-4dc8-a220-d5eba9b40331\",\"type\":\"CDSView\"},{\"attributes\":{\"below\":[{\"id\":\"1d48291d-b708-4de2-9a9c-33f08947521e\",\"type\":\"LinearAxis\"}],\"left\":[{\"id\":\"ee92a475-42ce-43bf-b04d-e5a33fb6ce71\",\"type\":\"LinearAxis\"}],\"plot_height\":500,\"plot_width\":400,\"renderers\":[{\"id\":\"1d48291d-b708-4de2-9a9c-33f08947521e\",\"type\":\"LinearAxis\"},{\"id\":\"c6e8ceee-b95a-4d0d-a176-7facebb81784\",\"type\":\"Grid\"},{\"id\":\"ee92a475-42ce-43bf-b04d-e5a33fb6ce71\",\"type\":\"LinearAxis\"},{\"id\":\"fd241e44-63c4-4fc9-a39f-dd1e45090251\",\"type\":\"Grid\"},{\"id\":\"850a4aa1-1778-46e8-8ff0-acdc42655818\",\"type\":\"BoxAnnotation\"},{\"id\":\"e761cbc3-91fa-49ab-90cb-d1c6adc6b00b\",\"type\":\"GlyphRenderer\"},{\"id\":\"6d55a3b7-34b6-4833-ae9c-8190ae959306\",\"type\":\"GlyphRenderer\"},{\"id\":\"ee4b5338-a2de-4569-874e-e23b09114780\",\"type\":\"GlyphRenderer\"},{\"id\":\"66a5b660-a5f0-412e-94ab-9957236c2f59\",\"type\":\"GlyphRenderer\"},{\"id\":\"4a06a743-69ea-47ba-a747-f4e7b4d95d0e\",\"type\":\"GlyphRenderer\"}],\"title\":{\"id\":\"42d6b62e-6c6a-47f7-9bd7-cba41bb7b9b9\",\"type\":\"Title\"},\"toolbar\":{\"id\":\"f154f71a-c328-4510-80ac-fc6c42e819ab\",\"type\":\"Toolbar\"},\"toolbar_location\":null,\"x_range\":{\"id\":\"0498006f-f48a-434a-8671-e7b8fc1c6d34\",\"type\":\"Range1d\"},\"x_scale\":{\"id\":\"9aad7903-f6ce-4ec1-8a34-e8f5b4582189\",\"type\":\"LinearScale\"},\"y_range\":{\"id\":\"4b535699-5028-4ef4-8432-87875f9d4501\",\"type\":\"Range1d\"},\"y_scale\":{\"id\":\"7d7bf8d8-117c-4616-84b4-23b1d26911ed\",\"type\":\"LinearScale\"}},\"id\":\"ffde5327-ac50-4e4e-a9f8-3c2ae8322466\",\"subtype\":\"Figure\",\"type\":\"Plot\"},{\"attributes\":{\"line_alpha\":0.6,\"line_color\":\"#984ea3\",\"line_width\":3,\"x\":{\"field\":\"x\"},\"y\":{\"field\":\"y\"}},\"id\":\"d6e2e3d9-2189-476c-9807-840c14cc329b\",\"type\":\"Line\"},{\"attributes\":{\"data_source\":{\"id\":\"07a345d4-8e8c-48d9-981e-f22236e417e4\",\"type\":\"ColumnDataSource\"},\"glyph\":{\"id\":\"0077c8df-a604-4052-b579-4cf84c19dd62\",\"type\":\"Circle\"},\"hover_glyph\":null,\"muted_glyph\":null,\"nonselection_glyph\":{\"id\":\"9f0352f0-d691-4add-8bfa-4859aff168b8\",\"type\":\"Circle\"},\"selection_glyph\":null,\"view\":{\"id\":\"4ec24f35-485d-4491-86f8-243c6d75f435\",\"type\":\"CDSView\"}},\"id\":\"6d55a3b7-34b6-4833-ae9c-8190ae959306\",\"type\":\"GlyphRenderer\"},{\"attributes\":{\"line_alpha\":0.6,\"line_color\":\"#e41a1c\",\"line_dash\":[6],\"line_width\":5,\"x\":{\"field\":\"x\"},\"y\":{\"field\":\"y\"}},\"id\":\"0ec4914e-30de-4e50-9c3c-61b9748f5dad\",\"type\":\"Line\"},{\"attributes\":{\"plot\":{\"id\":\"ffde5327-ac50-4e4e-a9f8-3c2ae8322466\",\"subtype\":\"Figure\",\"type\":\"Plot\"},\"ticker\":{\"id\":\"7c1e0871-59f4-4b22-aab1-f75b429acc3f\",\"type\":\"BasicTicker\"}},\"id\":\"c6e8ceee-b95a-4d0d-a176-7facebb81784\",\"type\":\"Grid\"},{\"attributes\":{\"callback\":null,\"data\":{\"x\":{\"__ndarray__\":\"CKqIy9htvr9HrwYoDTW+vyRYJD9Fgr2/nr5UIj/RvL+4xuvqIyq8v/8a94MNkbu/XxbJDXUOu7+KbfcX5qm6v6tyJStUcbq/uE1lD7xzur8r+flrice6vweabI8gjbu/fUGo3lz0vL8knxUgIwO/vwdPdJ8UlL6/kQKFJvv6uL/v7x1JCiuwv5CfvZVNApe/5O0B7SAMmj+VDISNgES1PwPvP43WLMQ/L4T/Ibvazz9j5HZ5hCTQP9OM4qge4cY/h8T7eWwuvj/lrGEc4vOxP97FONUTw6Y/GG3KH1BZoD953X6grH2ZP4cGIr4llpQ/th5+MW2VkD/P2Lh6JfuJP2gksQlRg4M/hqWqngbrez+9eC6wKNxbP8PGiS/SBHS/5A4Vj/2/g7/JrwMNVMuEv9ykrCNqSXu/Dm7zjughaL+9a+zsDblnP+wjsGz4c5A/KlLvFjkloj+8Y5qxtMiuPwlkSZU1pbY/CnRYp+sFvj/wNspVhzfCP+jLfwajK8Q/k7nHDDM4xD89hr8NzjPEP/XBzwu5ysM/Yy4losr2wj8nXQIJ7cnBP6GmM4M6XcA/ILLtWXyvvT+ZPI60jom6P/v32ftmeLc/SrJQYymvtD9R3hNgYnCyP3mfgno1a7E/ZjBnMvNPsj87WMc90mq0P436Qs0yObQ/sZnA0MqNrj+citDftnybPzm4G3Pe4kO/Yg1F8ZJOjL9t1p8Y59yKv2JjoGPu93u/YAsmcH7SX7+8Nbr6h486P8pfh1WvZ1c/LDxYlEwtXz8iaW+k94NtP4jOWwqCpsk/\",\"dtype\":\"float64\",\"shape\":[75]},\"y\":{\"__ndarray__\":\"GhExyth1ND/Sv8nbtpRIP2vylNV0PVE/aTum7souWD/At0SJ8fVgPw3Iuahxymc/MSNhhJWvcD/bTfBN02d3P2zb5nxnaoA/CD5h5MAGhz8NmeH1TyaQP+zrCsc9p5Y/LbKd76fGnz/bLW5ISEmmPww9YvTcQq8/JV2OstnstT8Er5Y7M8G+P0c+r3jqkcU/5h99k6ZBzj88bCIzFzjVP4enV8oyxN0//yH99nXg5D8qOpLLf0jtP5kqGJXUifQ/c9cS8kHP/D+/DpwzojQEQIEmwoanVwxA4lgXt9HgE0BSSZ2AJuIbQAMJih9jjiNA5q4l5INuK0AwTKYKRj0zQNv5fmq8/DpAaCJseHrtQkB/+zpwzoxKQM3MzMzMeFJAZmZmZmZqWEAAAAAAAFxeQM3MzMzMJmJAmpmZmZkfZUBmZmZmZhhoQDMzMzMzEWtAAAAAAAAKbkBmZmZmZoFwQM3MzMzM/XFAMzMzMzN6c0CamZmZmfZ0QAAAAAAAc3ZAZmZmZmbvd0DNzMzMzGt5QDMzMzMz6HpAmpmZmZlkfEAAAAAAAOF9QGZmZmZmXX9AZmZmZuZsgECamZmZGSuBQM3MzMxM6YFAAAAAAICngkAzMzMzs2WDQGZmZmbmI4RAmpmZmRnihEDNzMzMTKCFQAAAAACAXoZAMzMzM7Mch0BmZmZm5tqHQJqZmZkZmYhAzczMzExXiUAAAAAAgBWKQDMzMzOz04pAZmZmZuaRi0CamZmZGVCMQM3MzMxMDo1AAAAAAIDMjUAzMzMzs4qOQGZmZmbmSI9A\",\"dtype\":\"float64\",\"shape\":[75]}},\"selected\":{\"id\":\"9b278f55-ef3e-40bf-8311-7ec8c5170545\",\"type\":\"Selection\"},\"selection_policy\":{\"id\":\"1d3fb213-7140-43ac-9471-d0339e9b0244\",\"type\":\"UnionRenderers\"}},\"id\":\"26b5757d-82fd-4bab-a0b6-d2697540f221\",\"type\":\"ColumnDataSource\"},{\"attributes\":{\"source\":{\"id\":\"07a345d4-8e8c-48d9-981e-f22236e417e4\",\"type\":\"ColumnDataSource\"}},\"id\":\"4ec24f35-485d-4491-86f8-243c6d75f435\",\"type\":\"CDSView\"},{\"attributes\":{},\"id\":\"7c1e0871-59f4-4b22-aab1-f75b429acc3f\",\"type\":\"BasicTicker\"},{\"attributes\":{\"callback\":null,\"data\":{\"x\":{\"__ndarray__\":\"HwV3SlHjwL8x0Q6IocHAv/mdvAbUc8C/yxdPIWgvwL+Gt330Xci/v14/ptQBP7+/Rq5rrNe7vr9+7MMAjUq+vzk8sde/8r2/EtZZHLfBvb9bqtsSrMW9vw8fGfP8Fb6/vC02b/HNvr+gbgB2jO2/v1RN3RbH0b6/jyehqEIvub8oN/Zmpmywv/9X81YMM5e/TfRJ1cl4mz+2BoWUNRK2P0TUGINfoMQ/R2RCvaXTzz+ShFV9ihHQPwTxVAr2tsY/+IjfnP3LvT/6ZyI58C6yP6wMPOwHUKg/A6RQvWYKoj+fJMuKBhqcP+gEgM8835Y/kWdP8hwVkz+z3nGFxzSPP0EsW/TXNog/Esn4PozJgT/Z4rycX7ZlP+x+6knS+3W/UftUz1OUhr96ZQUJHEmHv5CmOjr/UX2/CtARD3CSaL8NBNq9tpZrP/eaM6hm/JM/FKdflYERpz8X+Lj7CzOwP6u259MvC7I/5e3sdH1Ztz84JJueV0HAP2QVGL3sl8M/U2GVvCjjwz/bMxBIsrPDP1SPot5PncM/apGt1tGywz9+UJeBs33DP6cJhpF6f8I/Si+t/fm7wD9OGP0m99O8PzKlzZXQG7g/UjSvgZ4atD+4SJ44pV+xP5Tr7+6ZdLA/7mTBQ9vEsT8VSwadWDK0PxasjxRtR7Q/25mMNKTDrj8J9lWzVF2bP+hKOimUmFW/kgoAbEwUj7/fiKoZM3SOvzjlXz9Aw4G/SEwTOG8pbr/OHP91Xw9SvwAU8ykHLOG+jrYarF6KQT/4cpcw4QVjPwQ917CXi8k/\",\"dtype\":\"float64\",\"shape\":[75]},\"y\":{\"__ndarray__\":\"GhExyth1ND/Sv8nbtpRIP2vylNV0PVE/aTum7souWD/At0SJ8fVgPw3Iuahxymc/MSNhhJWvcD/bTfBN02d3P2zb5nxnaoA/CD5h5MAGhz8NmeH1TyaQP+zrCsc9p5Y/LbKd76fGnz/bLW5ISEmmPww9YvTcQq8/JV2OstnstT8Er5Y7M8G+P0c+r3jqkcU/5h99k6ZBzj88bCIzFzjVP4enV8oyxN0//yH99nXg5D8qOpLLf0jtP5kqGJXUifQ/c9cS8kHP/D+/DpwzojQEQIEmwoanVwxA4lgXt9HgE0BSSZ2AJuIbQAMJih9jjiNA5q4l5INuK0AwTKYKRj0zQNv5fmq8/DpAaCJseHrtQkB/+zpwzoxKQM3MzMzMeFJAZmZmZmZqWEAAAAAAAFxeQM3MzMzMJmJAmpmZmZkfZUBmZmZmZhhoQDMzMzMzEWtAAAAAAAAKbkBmZmZmZoFwQM3MzMzM/XFAMzMzMzN6c0CamZmZmfZ0QAAAAAAAc3ZAZmZmZmbvd0DNzMzMzGt5QDMzMzMz6HpAmpmZmZlkfEAAAAAAAOF9QGZmZmZmXX9AZmZmZuZsgECamZmZGSuBQM3MzMxM6YFAAAAAAICngkAzMzMzs2WDQGZmZmbmI4RAmpmZmRnihEDNzMzMTKCFQAAAAACAXoZAMzMzM7Mch0BmZmZm5tqHQJqZmZkZmYhAzczMzExXiUAAAAAAgBWKQDMzMzOz04pAZmZmZuaRi0CamZmZGVCMQM3MzMxMDo1AAAAAAIDMjUAzMzMzs4qOQGZmZmbmSI9A\",\"dtype\":\"float64\",\"shape\":[75]}},\"selected\":{\"id\":\"60853760-2ee3-4384-aa1a-c3fd6c1bfd60\",\"type\":\"Selection\"},\"selection_policy\":{\"id\":\"50b2b0d6-5e21-4c58-a6b9-a16bd38e63ae\",\"type\":\"UnionRenderers\"}},\"id\":\"82c4eecb-9cb7-4a1a-bc86-92a37f49c9c1\",\"type\":\"ColumnDataSource\"},{\"attributes\":{\"line_alpha\":0.1,\"line_color\":\"#1f77b4\",\"line_dash\":[6],\"line_width\":5,\"x\":{\"field\":\"x\"},\"y\":{\"field\":\"y\"}},\"id\":\"e2002107-b59d-4185-bf64-9c993f7df469\",\"type\":\"Line\"},{\"attributes\":{\"source\":{\"id\":\"82c4eecb-9cb7-4a1a-bc86-92a37f49c9c1\",\"type\":\"ColumnDataSource\"}},\"id\":\"333e9ec2-ad22-419f-821e-873373f345cb\",\"type\":\"CDSView\"},{\"attributes\":{\"axis_label\":\"pressure [mb]\",\"formatter\":{\"id\":\"5590c0bc-8d24-4588-9ed9-29d679d85651\",\"type\":\"BasicTickFormatter\"},\"plot\":{\"id\":\"ffde5327-ac50-4e4e-a9f8-3c2ae8322466\",\"subtype\":\"Figure\",\"type\":\"Plot\"},\"ticker\":{\"id\":\"4f82b8aa-c178-4a4f-a21d-f1815252e7c6\",\"type\":\"BasicTicker\"}},\"id\":\"ee92a475-42ce-43bf-b04d-e5a33fb6ce71\",\"type\":\"LinearAxis\"},{\"attributes\":{\"fill_alpha\":{\"value\":0.1},\"fill_color\":{\"value\":\"#1f77b4\"},\"line_alpha\":{\"value\":0.1},\"line_color\":{\"value\":\"#1f77b4\"},\"x\":{\"field\":\"x\"},\"y\":{\"field\":\"y\"}},\"id\":\"e4a521de-50da-4508-a475-79dd32dda43c\",\"type\":\"Square\"},{\"attributes\":{\"axis_label\":\"cooling rate [K/day]\",\"formatter\":{\"id\":\"cec7c03b-6b92-40f6-8335-4fe8b31e5f1f\",\"type\":\"BasicTickFormatter\"},\"plot\":{\"id\":\"ffde5327-ac50-4e4e-a9f8-3c2ae8322466\",\"subtype\":\"Figure\",\"type\":\"Plot\"},\"ticker\":{\"id\":\"7c1e0871-59f4-4b22-aab1-f75b429acc3f\",\"type\":\"BasicTicker\"}},\"id\":\"1d48291d-b708-4de2-9a9c-33f08947521e\",\"type\":\"LinearAxis\"},{\"attributes\":{\"data_source\":{\"id\":\"82c4eecb-9cb7-4a1a-bc86-92a37f49c9c1\",\"type\":\"ColumnDataSource\"},\"glyph\":{\"id\":\"f84e89aa-57de-40be-ac4f-7a635f0a767c\",\"type\":\"Square\"},\"hover_glyph\":null,\"muted_glyph\":null,\"nonselection_glyph\":{\"id\":\"e4a521de-50da-4508-a475-79dd32dda43c\",\"type\":\"Square\"},\"selection_glyph\":null,\"view\":{\"id\":\"333e9ec2-ad22-419f-821e-873373f345cb\",\"type\":\"CDSView\"}},\"id\":\"66a5b660-a5f0-412e-94ab-9957236c2f59\",\"type\":\"GlyphRenderer\"},{\"attributes\":{},\"id\":\"9aad7903-f6ce-4ec1-8a34-e8f5b4582189\",\"type\":\"LinearScale\"},{\"attributes\":{\"callback\":null,\"end\":0.20258133857,\"start\":-0.020535355569999997},\"id\":\"0498006f-f48a-434a-8671-e7b8fc1c6d34\",\"type\":\"Range1d\"},{\"attributes\":{\"line_alpha\":0.6,\"line_color\":\"#984ea3\",\"line_width\":3,\"x\":{\"field\":\"x\"},\"y\":{\"field\":\"y\"}},\"id\":\"166cc374-3b4f-4f1a-972c-e5f85128967a\",\"type\":\"Line\"},{\"attributes\":{\"fill_alpha\":{\"value\":0.7},\"fill_color\":{\"value\":\"#984ea3\"},\"line_alpha\":{\"value\":0.7},\"line_color\":{\"value\":\"#984ea3\"},\"x\":{\"field\":\"x\"},\"y\":{\"field\":\"y\"}},\"id\":\"f84e89aa-57de-40be-ac4f-7a635f0a767c\",\"type\":\"Square\"},{\"attributes\":{\"callback\":null,\"data\":{\"x\":{\"__ndarray__\":\"DUhOaIrnwb9n3j9QTc3Bv175h4j2jMG/JFYthv5Lwb/WO9wODQvBv+uXoVRvy8C/oz+wukCPwL8gjOlT2FbAvxVdDw0oJ8C/IlI2WWECwL/tsdsEa96/v/PHtDaN7b+/JzsukagjwL9zwTKZnm7Avx+m+Trbab+/2t/AgRzWub/tKILDATCxv+fMHc32wJm/rc1S9LhWmj9o2W/6bku2P07wLMV+5MQ/OKClK9jGzz/66DfAitvPP+BegBpKL8Y/zJViw6qsvD8ZRVhSw76xPx7jV5r+Zqg/elEjQ3rJoT+2/6gdY8aaPym0IwpqTpU/S4/HiBsikj+hLAVvC0COP7cquSWaiYc/KQ12uNaNgT+2ABrR8IBnPwAjirYTf3W/tX8mQQaShr/uUzcSxiGHv32rt/5EAn2/1oUm6HLsaL9Ao70INtFnP3hIh0Bb8pM/+QqqxHeNqD/wJcl97xKwPznOR/saJ7A/+UlfTw77tj9jwGksJ0LBP6k51Ep8ycQ/9FCZan9KxD+RYMunnrfDPzTBDYSmHcQ/a8js6l3VxD/rKlG0eqDEP1ec5vQnN8M/6FGvY3WOwD+vcg3Yeiu7P4teAd173rU/UHjWXNgUsj+GCS5MYu2vP0YGQn2OOa8/k8r91poisT9oVlHkkqizP+LKJcroRLM/HAJ/rGuqrD+EVVdmk8GWP0Ubl2Dei3q/Vc50Nc3Jkr9coKK/192Qv/LT47cbVoa/uLh5ayhKcb9I72hbBZxSvyKmYGfsRl2/Pqjxl2cmPD+31hSa/WBdP3WEHRAyWsk/\",\"dtype\":\"float64\",\"shape\":[75]},\"y\":{\"__ndarray__\":\"S/O/Q+51ND/Sv8nbtpRIP2vylNV0PVE/aTum7souWD/At0SJ8fVgPw3Iuahxymc/MSNhhJWvcD/bTfBN02d3P2zb5nxnaoA/CD5h5MAGhz8NmeH1TyaQP+zrCsc9p5Y/LbKd76fGnz/bLW5ISEmmPww9YvTcQq8/JV2OstnstT8Er5Y7M8G+P0c+r3jqkcU/5h99k6ZBzj88bCIzFzjVP4enV8oyxN0//yH99nXg5D8qOpLLf0jtP5kqGJXUifQ/c9cS8kHP/D+/DpwzojQEQIEmwoanVwxA4lgXt9HgE0BSSZ2AJuIbQAMJih9jjiNA5q4l5INuK0AwTKYKRj0zQNv5fmq8/DpAaCJseHrtQkB/+zpwzoxKQM3MzMzMeFJAZmZmZmZqWEAAAAAAAFxeQM3MzMzMJmJAmpmZmZkfZUBmZmZmZhhoQDMzMzMzEWtAAAAAAAAKbkBmZmZmZoFwQM3MzMzM/XFAMzMzMzN6c0CamZmZmfZ0QAAAAAAAc3ZAZmZmZmbvd0DNzMzMzGt5QDMzMzMz6HpAmpmZmZlkfEAAAAAAAOF9QGZmZmZmXX9AZmZmZuZsgECamZmZGSuBQM3MzMxM6YFAAAAAAICngkAzMzMzs2WDQGZmZmbmI4RAmpmZmRnihEDNzMzMTKCFQAAAAACAXoZAMzMzM7Mch0BmZmZm5tqHQJqZmZkZmYhAzczMzExXiUAAAAAAgBWKQDMzMzOz04pAZmZmZuaRi0CamZmZGVCMQM3MzMxMDo1AAAAAAIDMjUAzMzMzs4qOQGZmZmbmSI9A\",\"dtype\":\"float64\",\"shape\":[75]}},\"selected\":{\"id\":\"4432415d-674f-48b4-bb67-3b4f8c6478cb\",\"type\":\"Selection\"},\"selection_policy\":{\"id\":\"8293f337-e1cb-4b10-ab66-8bd6b5b38214\",\"type\":\"UnionRenderers\"}},\"id\":\"13fe5fef-ff68-4e30-a8fa-ac49ece33ac2\",\"type\":\"ColumnDataSource\"},{\"attributes\":{\"fill_alpha\":{\"value\":0.1},\"fill_color\":{\"value\":\"#1f77b4\"},\"line_alpha\":{\"value\":0.1},\"line_color\":{\"value\":\"#1f77b4\"},\"x\":{\"field\":\"x\"},\"y\":{\"field\":\"y\"}},\"id\":\"0baa9545-f61a-417a-a9dc-215c8e0a77c3\",\"type\":\"Circle\"},{\"attributes\":{\"data_source\":{\"id\":\"c9a79b21-8ff4-4adf-8fd1-fdad921915d1\",\"type\":\"ColumnDataSource\"},\"glyph\":{\"id\":\"d6e2e3d9-2189-476c-9807-840c14cc329b\",\"type\":\"Line\"},\"hover_glyph\":null,\"muted_glyph\":null,\"nonselection_glyph\":{\"id\":\"df74ab21-730a-462a-bd79-8450bfe0574c\",\"type\":\"Line\"},\"selection_glyph\":null,\"view\":{\"id\":\"f4d7e624-54ac-4ee7-9961-87ff7f529bc1\",\"type\":\"CDSView\"}},\"id\":\"101176ab-0d1c-4cfb-b75a-4ad680eadca5\",\"type\":\"GlyphRenderer\"},{\"attributes\":{\"overlay\":{\"id\":\"850a4aa1-1778-46e8-8ff0-acdc42655818\",\"type\":\"BoxAnnotation\"}},\"id\":\"af61171d-dbb9-441a-8720-26de823dbc0a\",\"type\":\"BoxZoomTool\"},{\"attributes\":{},\"id\":\"6cc327e4-d406-43f9-b6de-3b57e04a3a89\",\"type\":\"ResetTool\"},{\"attributes\":{\"line_alpha\":0.1,\"line_color\":\"#1f77b4\",\"line_width\":1.5,\"x\":{\"field\":\"x\"},\"y\":{\"field\":\"y\"}},\"id\":\"a1122326-75dd-4d65-a030-2f30de393d7f\",\"type\":\"Line\"},{\"attributes\":{\"source\":{\"id\":\"c9a79b21-8ff4-4adf-8fd1-fdad921915d1\",\"type\":\"ColumnDataSource\"}},\"id\":\"f4d7e624-54ac-4ee7-9961-87ff7f529bc1\",\"type\":\"CDSView\"},{\"attributes\":{\"fill_alpha\":{\"value\":0.7},\"fill_color\":{\"value\":\"#4daf4a\"},\"line_alpha\":{\"value\":0.7},\"line_color\":{\"value\":\"#4daf4a\"},\"x\":{\"field\":\"x\"},\"y\":{\"field\":\"y\"}},\"id\":\"0077c8df-a604-4052-b579-4cf84c19dd62\",\"type\":\"Circle\"},{\"attributes\":{\"source\":{\"id\":\"26b5757d-82fd-4bab-a0b6-d2697540f221\",\"type\":\"ColumnDataSource\"}},\"id\":\"ca9117da-0a5b-47d1-8ebb-d464f757b269\",\"type\":\"CDSView\"},{\"attributes\":{\"callback\":null,\"data\":{\"x\":{\"__ndarray__\":\"CKqIy9htvr9HrwYoDTW+vyRYJD9Fgr2/nr5UIj/RvL+4xuvqIyq8v/8a94MNkbu/XxbJDXUOu7+KbfcX5qm6v6tyJStUcbq/uE1lD7xzur8r+flrice6vweabI8gjbu/fUGo3lz0vL8knxUgIwO/vwdPdJ8UlL6/kQKFJvv6uL/v7x1JCiuwv5CfvZVNApe/5O0B7SAMmj+VDISNgES1PwPvP43WLMQ/L4T/Ibvazz9j5HZ5hCTQP9OM4qge4cY/h8T7eWwuvj/lrGEc4vOxP97FONUTw6Y/GG3KH1BZoD953X6grH2ZP4cGIr4llpQ/th5+MW2VkD/P2Lh6JfuJP2gksQlRg4M/hqWqngbrez+9eC6wKNxbP8PGiS/SBHS/5A4Vj/2/g7/JrwMNVMuEv9ykrCNqSXu/Dm7zjughaL+9a+zsDblnP+wjsGz4c5A/KlLvFjkloj+8Y5qxtMiuPwlkSZU1pbY/CnRYp+sFvj/wNspVhzfCP+jLfwajK8Q/k7nHDDM4xD89hr8NzjPEP/XBzwu5ysM/Yy4losr2wj8nXQIJ7cnBP6GmM4M6XcA/ILLtWXyvvT+ZPI60jom6P/v32ftmeLc/SrJQYymvtD9R3hNgYnCyP3mfgno1a7E/ZjBnMvNPsj87WMc90mq0P436Qs0yObQ/sZnA0MqNrj+citDftnybPzm4G3Pe4kO/Yg1F8ZJOjL9t1p8Y59yKv2JjoGPu93u/YAsmcH7SX7+8Nbr6h486P8pfh1WvZ1c/LDxYlEwtXz8iaW+k94NtP4jOWwqCpsk/\",\"dtype\":\"float64\",\"shape\":[75]},\"y\":{\"__ndarray__\":\"GhExyth1ND/Sv8nbtpRIP2vylNV0PVE/aTum7souWD/At0SJ8fVgPw3Iuahxymc/MSNhhJWvcD/bTfBN02d3P2zb5nxnaoA/CD5h5MAGhz8NmeH1TyaQP+zrCsc9p5Y/LbKd76fGnz/bLW5ISEmmPww9YvTcQq8/JV2OstnstT8Er5Y7M8G+P0c+r3jqkcU/5h99k6ZBzj88bCIzFzjVP4enV8oyxN0//yH99nXg5D8qOpLLf0jtP5kqGJXUifQ/c9cS8kHP/D+/DpwzojQEQIEmwoanVwxA4lgXt9HgE0BSSZ2AJuIbQAMJih9jjiNA5q4l5INuK0AwTKYKRj0zQNv5fmq8/DpAaCJseHrtQkB/+zpwzoxKQM3MzMzMeFJAZmZmZmZqWEAAAAAAAFxeQM3MzMzMJmJAmpmZmZkfZUBmZmZmZhhoQDMzMzMzEWtAAAAAAAAKbkBmZmZmZoFwQM3MzMzM/XFAMzMzMzN6c0CamZmZmfZ0QAAAAAAAc3ZAZmZmZmbvd0DNzMzMzGt5QDMzMzMz6HpAmpmZmZlkfEAAAAAAAOF9QGZmZmZmXX9AZmZmZuZsgECamZmZGSuBQM3MzMxM6YFAAAAAAICngkAzMzMzs2WDQGZmZmbmI4RAmpmZmRnihEDNzMzMTKCFQAAAAACAXoZAMzMzM7Mch0BmZmZm5tqHQJqZmZkZmYhAzczMzExXiUAAAAAAgBWKQDMzMzOz04pAZmZmZuaRi0CamZmZGVCMQM3MzMxMDo1AAAAAAIDMjUAzMzMzs4qOQGZmZmbmSI9A\",\"dtype\":\"float64\",\"shape\":[75]}},\"selected\":{\"id\":\"fa583e7f-313f-40c1-9269-b1a33cd4eb70\",\"type\":\"Selection\"},\"selection_policy\":{\"id\":\"248fbac1-dfe1-4e0f-8e55-7661d6598c32\",\"type\":\"UnionRenderers\"}},\"id\":\"ce2a7bf9-879f-4273-8452-e748e2d60be7\",\"type\":\"ColumnDataSource\"},{\"attributes\":{},\"id\":\"b5c3cafa-b1f3-4702-8e5f-a28118a27c24\",\"type\":\"SaveTool\"},{\"attributes\":{\"line_color\":\"#4daf4a\",\"line_width\":1.5,\"x\":{\"field\":\"x\"},\"y\":{\"field\":\"y\"}},\"id\":\"d34d0ae2-75f7-4bac-b0c0-0c839dd82f7a\",\"type\":\"Line\"},{\"attributes\":{\"source\":{\"id\":\"13fe5fef-ff68-4e30-a8fa-ac49ece33ac2\",\"type\":\"ColumnDataSource\"}},\"id\":\"afaf6a17-d384-4f05-ad50-bf46b05bddce\",\"type\":\"CDSView\"},{\"attributes\":{\"data_source\":{\"id\":\"2450a2a0-921d-4cab-ae4e-df5b79352e66\",\"type\":\"ColumnDataSource\"},\"glyph\":{\"id\":\"0ec4914e-30de-4e50-9c3c-61b9748f5dad\",\"type\":\"Line\"},\"hover_glyph\":null,\"muted_glyph\":null,\"nonselection_glyph\":{\"id\":\"e2002107-b59d-4185-bf64-9c993f7df469\",\"type\":\"Line\"},\"selection_glyph\":null,\"view\":{\"id\":\"109efbc4-3d46-4e96-9232-a69fb40a9bc8\",\"type\":\"CDSView\"}},\"id\":\"e761cbc3-91fa-49ab-90cb-d1c6adc6b00b\",\"type\":\"GlyphRenderer\"},{\"attributes\":{\"data_source\":{\"id\":\"ce2a7bf9-879f-4273-8452-e748e2d60be7\",\"type\":\"ColumnDataSource\"},\"glyph\":{\"id\":\"483802c5-0af5-4233-8544-1a4faf91632e\",\"type\":\"Circle\"},\"hover_glyph\":null,\"muted_glyph\":null,\"nonselection_glyph\":{\"id\":\"0baa9545-f61a-417a-a9dc-215c8e0a77c3\",\"type\":\"Circle\"},\"selection_glyph\":null,\"view\":{\"id\":\"ff92570b-b9e6-4814-926e-9a093eddaaa1\",\"type\":\"CDSView\"}},\"id\":\"71077bb4-e737-455a-8e8a-fefda11d99b6\",\"type\":\"GlyphRenderer\"},{\"attributes\":{},\"id\":\"8f06f88f-80f7-451c-a1d8-c554b0472406\",\"type\":\"HelpTool\"},{\"attributes\":{\"bottom_units\":\"screen\",\"fill_alpha\":{\"value\":0.5},\"fill_color\":{\"value\":\"lightgrey\"},\"left_units\":\"screen\",\"level\":\"overlay\",\"line_alpha\":{\"value\":1.0},\"line_color\":{\"value\":\"black\"},\"line_dash\":[4,4],\"line_width\":{\"value\":2},\"plot\":null,\"render_mode\":\"css\",\"right_units\":\"screen\",\"top_units\":\"screen\"},\"id\":\"850a4aa1-1778-46e8-8ff0-acdc42655818\",\"type\":\"BoxAnnotation\"},{\"attributes\":{},\"id\":\"f73ea6f0-a840-483a-964b-e44c67c12b97\",\"type\":\"WheelZoomTool\"},{\"attributes\":{\"callback\":null,\"data\":{\"x\":{\"__ndarray__\":\"HwV3SlHjwL8x0Q6IocHAv/mdvAbUc8C/yxdPIWgvwL+Gt330Xci/v14/ptQBP7+/Rq5rrNe7vr9+7MMAjUq+vzk8sde/8r2/EtZZHLfBvb9bqtsSrMW9vw8fGfP8Fb6/vC02b/HNvr+gbgB2jO2/v1RN3RbH0b6/jyehqEIvub8oN/Zmpmywv/9X81YMM5e/TfRJ1cl4mz+2BoWUNRK2P0TUGINfoMQ/R2RCvaXTzz+ShFV9ihHQPwTxVAr2tsY/+IjfnP3LvT/6ZyI58C6yP6wMPOwHUKg/A6RQvWYKoj+fJMuKBhqcP+gEgM8835Y/kWdP8hwVkz+z3nGFxzSPP0EsW/TXNog/Esn4PozJgT/Z4rycX7ZlP+x+6knS+3W/UftUz1OUhr96ZQUJHEmHv5CmOjr/UX2/CtARD3CSaL8NBNq9tpZrP/eaM6hm/JM/FKdflYERpz8X+Lj7CzOwP6u259MvC7I/5e3sdH1Ztz84JJueV0HAP2QVGL3sl8M/U2GVvCjjwz/bMxBIsrPDP1SPot5PncM/apGt1tGywz9+UJeBs33DP6cJhpF6f8I/Si+t/fm7wD9OGP0m99O8PzKlzZXQG7g/UjSvgZ4atD+4SJ44pV+xP5Tr7+6ZdLA/7mTBQ9vEsT8VSwadWDK0PxasjxRtR7Q/25mMNKTDrj8J9lWzVF2bP+hKOimUmFW/kgoAbEwUj7/fiKoZM3SOvzjlXz9Aw4G/SEwTOG8pbr/OHP91Xw9SvwAU8ykHLOG+jrYarF6KQT/4cpcw4QVjPwQ917CXi8k/\",\"dtype\":\"float64\",\"shape\":[75]},\"y\":{\"__ndarray__\":\"GhExyth1ND/Sv8nbtpRIP2vylNV0PVE/aTum7souWD/At0SJ8fVgPw3Iuahxymc/MSNhhJWvcD/bTfBN02d3P2zb5nxnaoA/CD5h5MAGhz8NmeH1TyaQP+zrCsc9p5Y/LbKd76fGnz/bLW5ISEmmPww9YvTcQq8/JV2OstnstT8Er5Y7M8G+P0c+r3jqkcU/5h99k6ZBzj88bCIzFzjVP4enV8oyxN0//yH99nXg5D8qOpLLf0jtP5kqGJXUifQ/c9cS8kHP/D+/DpwzojQEQIEmwoanVwxA4lgXt9HgE0BSSZ2AJuIbQAMJih9jjiNA5q4l5INuK0AwTKYKRj0zQNv5fmq8/DpAaCJseHrtQkB/+zpwzoxKQM3MzMzMeFJAZmZmZmZqWEAAAAAAAFxeQM3MzMzMJmJAmpmZmZkfZUBmZmZmZhhoQDMzMzMzEWtAAAAAAAAKbkBmZmZmZoFwQM3MzMzM/XFAMzMzMzN6c0CamZmZmfZ0QAAAAAAAc3ZAZmZmZmbvd0DNzMzMzGt5QDMzMzMz6HpAmpmZmZlkfEAAAAAAAOF9QGZmZmZmXX9AZmZmZuZsgECamZmZGSuBQM3MzMxM6YFAAAAAAICngkAzMzMzs2WDQGZmZmbmI4RAmpmZmRnihEDNzMzMTKCFQAAAAACAXoZAMzMzM7Mch0BmZmZm5tqHQJqZmZkZmYhAzczMzExXiUAAAAAAgBWKQDMzMzOz04pAZmZmZuaRi0CamZmZGVCMQM3MzMxMDo1AAAAAAIDMjUAzMzMzs4qOQGZmZmbmSI9A\",\"dtype\":\"float64\",\"shape\":[75]}},\"selected\":{\"id\":\"9ea0a4a2-2353-493a-9501-003a25e78394\",\"type\":\"Selection\"},\"selection_policy\":{\"id\":\"4832fc04-de3d-4f31-9ee8-dab39cc817e5\",\"type\":\"UnionRenderers\"}},\"id\":\"7c100f6e-45ec-4b82-b671-076fa91489b4\",\"type\":\"ColumnDataSource\"},{\"attributes\":{\"data_source\":{\"id\":\"26b5757d-82fd-4bab-a0b6-d2697540f221\",\"type\":\"ColumnDataSource\"},\"glyph\":{\"id\":\"d34d0ae2-75f7-4bac-b0c0-0c839dd82f7a\",\"type\":\"Line\"},\"hover_glyph\":null,\"muted_glyph\":null,\"nonselection_glyph\":{\"id\":\"a1122326-75dd-4d65-a030-2f30de393d7f\",\"type\":\"Line\"},\"selection_glyph\":null,\"view\":{\"id\":\"ca9117da-0a5b-47d1-8ebb-d464f757b269\",\"type\":\"CDSView\"}},\"id\":\"ee4b5338-a2de-4569-874e-e23b09114780\",\"type\":\"GlyphRenderer\"},{\"attributes\":{\"source\":{\"id\":\"2450a2a0-921d-4cab-ae4e-df5b79352e66\",\"type\":\"ColumnDataSource\"}},\"id\":\"109efbc4-3d46-4e96-9232-a69fb40a9bc8\",\"type\":\"CDSView\"},{\"attributes\":{\"line_color\":\"#4daf4a\",\"line_width\":1.5,\"x\":{\"field\":\"x\"},\"y\":{\"field\":\"y\"}},\"id\":\"ae563616-7260-4112-bdc8-4cc2b5d91d09\",\"type\":\"Line\"},{\"attributes\":{\"source\":{\"id\":\"ce2a7bf9-879f-4273-8452-e748e2d60be7\",\"type\":\"ColumnDataSource\"}},\"id\":\"ff92570b-b9e6-4814-926e-9a093eddaaa1\",\"type\":\"CDSView\"},{\"attributes\":{\"fill_alpha\":{\"value\":0.7},\"fill_color\":{\"value\":\"#4daf4a\"},\"line_alpha\":{\"value\":0.7},\"line_color\":{\"value\":\"#4daf4a\"},\"x\":{\"field\":\"x\"},\"y\":{\"field\":\"y\"}},\"id\":\"483802c5-0af5-4233-8544-1a4faf91632e\",\"type\":\"Circle\"},{\"attributes\":{\"callback\":null,\"data\":{\"x\":{\"__ndarray__\":\"CKqIy9htvr9HrwYoDTW+vyRYJD9Fgr2/nr5UIj/RvL+4xuvqIyq8v/8a94MNkbu/XxbJDXUOu7+KbfcX5qm6v6tyJStUcbq/uE1lD7xzur8r+flrice6vweabI8gjbu/fUGo3lz0vL8knxUgIwO/vwdPdJ8UlL6/kQKFJvv6uL/v7x1JCiuwv5CfvZVNApe/5O0B7SAMmj+VDISNgES1PwPvP43WLMQ/L4T/Ibvazz9j5HZ5hCTQP9OM4qge4cY/h8T7eWwuvj/lrGEc4vOxP97FONUTw6Y/GG3KH1BZoD953X6grH2ZP4cGIr4llpQ/th5+MW2VkD/P2Lh6JfuJP2gksQlRg4M/hqWqngbrez+9eC6wKNxbP8PGiS/SBHS/5A4Vj/2/g7/JrwMNVMuEv9ykrCNqSXu/Dm7zjughaL+9a+zsDblnP+wjsGz4c5A/KlLvFjkloj+8Y5qxtMiuPwlkSZU1pbY/CnRYp+sFvj/wNspVhzfCP+jLfwajK8Q/k7nHDDM4xD89hr8NzjPEP/XBzwu5ysM/Yy4losr2wj8nXQIJ7cnBP6GmM4M6XcA/ILLtWXyvvT+ZPI60jom6P/v32ftmeLc/SrJQYymvtD9R3hNgYnCyP3mfgno1a7E/ZjBnMvNPsj87WMc90mq0P436Qs0yObQ/sZnA0MqNrj+citDftnybPzm4G3Pe4kO/Yg1F8ZJOjL9t1p8Y59yKv2JjoGPu93u/YAsmcH7SX7+8Nbr6h486P8pfh1WvZ1c/LDxYlEwtXz8iaW+k94NtP4jOWwqCpsk/\",\"dtype\":\"float64\",\"shape\":[75]},\"y\":{\"__ndarray__\":\"GhExyth1ND/Sv8nbtpRIP2vylNV0PVE/aTum7souWD/At0SJ8fVgPw3Iuahxymc/MSNhhJWvcD/bTfBN02d3P2zb5nxnaoA/CD5h5MAGhz8NmeH1TyaQP+zrCsc9p5Y/LbKd76fGnz/bLW5ISEmmPww9YvTcQq8/JV2OstnstT8Er5Y7M8G+P0c+r3jqkcU/5h99k6ZBzj88bCIzFzjVP4enV8oyxN0//yH99nXg5D8qOpLLf0jtP5kqGJXUifQ/c9cS8kHP/D+/DpwzojQEQIEmwoanVwxA4lgXt9HgE0BSSZ2AJuIbQAMJih9jjiNA5q4l5INuK0AwTKYKRj0zQNv5fmq8/DpAaCJseHrtQkB/+zpwzoxKQM3MzMzMeFJAZmZmZmZqWEAAAAAAAFxeQM3MzMzMJmJAmpmZmZkfZUBmZmZmZhhoQDMzMzMzEWtAAAAAAAAKbkBmZmZmZoFwQM3MzMzM/XFAMzMzMzN6c0CamZmZmfZ0QAAAAAAAc3ZAZmZmZmbvd0DNzMzMzGt5QDMzMzMz6HpAmpmZmZlkfEAAAAAAAOF9QGZmZmZmXX9AZmZmZuZsgECamZmZGSuBQM3MzMxM6YFAAAAAAICngkAzMzMzs2WDQGZmZmbmI4RAmpmZmRnihEDNzMzMTKCFQAAAAACAXoZAMzMzM7Mch0BmZmZm5tqHQJqZmZkZmYhAzczMzExXiUAAAAAAgBWKQDMzMzOz04pAZmZmZuaRi0CamZmZGVCMQM3MzMxMDo1AAAAAAIDMjUAzMzMzs4qOQGZmZmbmSI9A\",\"dtype\":\"float64\",\"shape\":[75]}},\"selected\":{\"id\":\"dcd861df-7653-435a-b448-ff2d9f3fa2f5\",\"type\":\"Selection\"},\"selection_policy\":{\"id\":\"c11bdd41-f5da-4898-ac92-f2668517e295\",\"type\":\"UnionRenderers\"}},\"id\":\"07a345d4-8e8c-48d9-981e-f22236e417e4\",\"type\":\"ColumnDataSource\"},{\"attributes\":{},\"id\":\"f108d278-a8e4-41b9-99fb-27d29f44fbca\",\"type\":\"PanTool\"},{\"attributes\":{\"callback\":null,\"data\":{\"x\":{\"__ndarray__\":\"CKqIy9htvr9HrwYoDTW+vyRYJD9Fgr2/nr5UIj/RvL+4xuvqIyq8v/8a94MNkbu/XxbJDXUOu7+KbfcX5qm6v6tyJStUcbq/uE1lD7xzur8r+flrice6vweabI8gjbu/fUGo3lz0vL8knxUgIwO/vwdPdJ8UlL6/kQKFJvv6uL/v7x1JCiuwv5CfvZVNApe/5O0B7SAMmj+VDISNgES1PwPvP43WLMQ/L4T/Ibvazz9j5HZ5hCTQP9OM4qge4cY/h8T7eWwuvj/lrGEc4vOxP97FONUTw6Y/GG3KH1BZoD953X6grH2ZP4cGIr4llpQ/th5+MW2VkD/P2Lh6JfuJP2gksQlRg4M/hqWqngbrez+9eC6wKNxbP8PGiS/SBHS/5A4Vj/2/g7/JrwMNVMuEv9ykrCNqSXu/Dm7zjughaL+9a+zsDblnP+wjsGz4c5A/KlLvFjkloj+8Y5qxtMiuPwlkSZU1pbY/CnRYp+sFvj/wNspVhzfCP+jLfwajK8Q/k7nHDDM4xD89hr8NzjPEP/XBzwu5ysM/Yy4losr2wj8nXQIJ7cnBP6GmM4M6XcA/ILLtWXyvvT+ZPI60jom6P/v32ftmeLc/SrJQYymvtD9R3hNgYnCyP3mfgno1a7E/ZjBnMvNPsj87WMc90mq0P436Qs0yObQ/sZnA0MqNrj+citDftnybPzm4G3Pe4kO/Yg1F8ZJOjL9t1p8Y59yKv2JjoGPu93u/YAsmcH7SX7+8Nbr6h486P8pfh1WvZ1c/LDxYlEwtXz8iaW+k94NtP4jOWwqCpsk/\",\"dtype\":\"float64\",\"shape\":[75]},\"y\":{\"__ndarray__\":\"GhExyth1ND/Sv8nbtpRIP2vylNV0PVE/aTum7souWD/At0SJ8fVgPw3Iuahxymc/MSNhhJWvcD/bTfBN02d3P2zb5nxnaoA/CD5h5MAGhz8NmeH1TyaQP+zrCsc9p5Y/LbKd76fGnz/bLW5ISEmmPww9YvTcQq8/JV2OstnstT8Er5Y7M8G+P0c+r3jqkcU/5h99k6ZBzj88bCIzFzjVP4enV8oyxN0//yH99nXg5D8qOpLLf0jtP5kqGJXUifQ/c9cS8kHP/D+/DpwzojQEQIEmwoanVwxA4lgXt9HgE0BSSZ2AJuIbQAMJih9jjiNA5q4l5INuK0AwTKYKRj0zQNv5fmq8/DpAaCJseHrtQkB/+zpwzoxKQM3MzMzMeFJAZmZmZmZqWEAAAAAAAFxeQM3MzMzMJmJAmpmZmZkfZUBmZmZmZhhoQDMzMzMzEWtAAAAAAAAKbkBmZmZmZoFwQM3MzMzM/XFAMzMzMzN6c0CamZmZmfZ0QAAAAAAAc3ZAZmZmZmbvd0DNzMzMzGt5QDMzMzMz6HpAmpmZmZlkfEAAAAAAAOF9QGZmZmZmXX9AZmZmZuZsgECamZmZGSuBQM3MzMxM6YFAAAAAAICngkAzMzMzs2WDQGZmZmbmI4RAmpmZmRnihEDNzMzMTKCFQAAAAACAXoZAMzMzM7Mch0BmZmZm5tqHQJqZmZkZmYhAzczMzExXiUAAAAAAgBWKQDMzMzOz04pAZmZmZuaRi0CamZmZGVCMQM3MzMxMDo1AAAAAAIDMjUAzMzMzs4qOQGZmZmbmSI9A\",\"dtype\":\"float64\",\"shape\":[75]}},\"selected\":{\"id\":\"55483d3d-1d0e-4620-be17-80358822759d\",\"type\":\"Selection\"},\"selection_policy\":{\"id\":\"a003ee1d-d0d0-4655-80e7-ad5976678b9b\",\"type\":\"UnionRenderers\"}},\"id\":\"718d1cba-7af1-4ec8-88be-5204c936869b\",\"type\":\"ColumnDataSource\"},{\"attributes\":{\"line_alpha\":0.1,\"line_color\":\"#1f77b4\",\"line_width\":1.5,\"x\":{\"field\":\"x\"},\"y\":{\"field\":\"y\"}},\"id\":\"c78169e0-a881-4c7c-b891-470b9b66ae2c\",\"type\":\"Line\"},{\"attributes\":{\"data_source\":{\"id\":\"718d1cba-7af1-4ec8-88be-5204c936869b\",\"type\":\"ColumnDataSource\"},\"glyph\":{\"id\":\"ae563616-7260-4112-bdc8-4cc2b5d91d09\",\"type\":\"Line\"},\"hover_glyph\":null,\"muted_glyph\":null,\"nonselection_glyph\":{\"id\":\"c78169e0-a881-4c7c-b891-470b9b66ae2c\",\"type\":\"Line\"},\"selection_glyph\":null,\"view\":{\"id\":\"82e8a4fd-eae8-4a65-9cd6-621d048ecb38\",\"type\":\"CDSView\"}},\"id\":\"a58d4a8b-3b96-42f4-8017-39eb8c2bfab0\",\"type\":\"GlyphRenderer\"},{\"attributes\":{\"source\":{\"id\":\"718d1cba-7af1-4ec8-88be-5204c936869b\",\"type\":\"ColumnDataSource\"}},\"id\":\"82e8a4fd-eae8-4a65-9cd6-621d048ecb38\",\"type\":\"CDSView\"},{\"attributes\":{\"fill_alpha\":{\"value\":0.7},\"fill_color\":{\"value\":\"#984ea3\"},\"line_alpha\":{\"value\":0.7},\"line_color\":{\"value\":\"#984ea3\"},\"x\":{\"field\":\"x\"},\"y\":{\"field\":\"y\"}},\"id\":\"8d517f33-c1cc-43ac-8e60-607223208bbc\",\"type\":\"Square\"},{\"attributes\":{},\"id\":\"cec7c03b-6b92-40f6-8335-4fe8b31e5f1f\",\"type\":\"BasicTickFormatter\"},{\"attributes\":{\"fill_alpha\":{\"value\":0.1},\"fill_color\":{\"value\":\"#1f77b4\"},\"line_alpha\":{\"value\":0.1},\"line_color\":{\"value\":\"#1f77b4\"},\"x\":{\"field\":\"x\"},\"y\":{\"field\":\"y\"}},\"id\":\"5ab29791-96af-4915-a586-e6b0f071eb2e\",\"type\":\"Square\"},{\"attributes\":{\"data_source\":{\"id\":\"7c100f6e-45ec-4b82-b671-076fa91489b4\",\"type\":\"ColumnDataSource\"},\"glyph\":{\"id\":\"8d517f33-c1cc-43ac-8e60-607223208bbc\",\"type\":\"Square\"},\"hover_glyph\":null,\"muted_glyph\":null,\"nonselection_glyph\":{\"id\":\"5ab29791-96af-4915-a586-e6b0f071eb2e\",\"type\":\"Square\"},\"selection_glyph\":null,\"view\":{\"id\":\"ceb6ea2d-ae8f-4dc8-a220-d5eba9b40331\",\"type\":\"CDSView\"}},\"id\":\"71285f56-866c-40a4-b472-73f3934cec9f\",\"type\":\"GlyphRenderer\"},{\"attributes\":{\"children\":[{\"id\":\"ffde5327-ac50-4e4e-a9f8-3c2ae8322466\",\"subtype\":\"Figure\",\"type\":\"Plot\"},{\"id\":\"a9c3e987-b9c7-474f-b761-3c223f929a14\",\"subtype\":\"Figure\",\"type\":\"Plot\"}]},\"id\":\"25fddda9-ceaa-4c26-9729-0273eea0291f\",\"type\":\"Row\"},{\"attributes\":{\"label\":{\"value\":\"CLIRAD `coolr_bands`\"},\"renderers\":[{\"id\":\"dd815b77-ab9b-4e9c-a7e4-cbdc53cddd0e\",\"type\":\"GlyphRenderer\"}]},\"id\":\"de446bd9-3c6c-4c59-b4e5-cb70e7007171\",\"type\":\"LegendItem\"},{\"attributes\":{},\"id\":\"4949e499-ce9d-4b29-9606-39eb323f2223\",\"type\":\"Selection\"},{\"attributes\":{\"label\":{\"value\":\"CRD\"},\"renderers\":[{\"id\":\"71077bb4-e737-455a-8e8a-fefda11d99b6\",\"type\":\"GlyphRenderer\"},{\"id\":\"a58d4a8b-3b96-42f4-8017-39eb8c2bfab0\",\"type\":\"GlyphRenderer\"}]},\"id\":\"2ec1b704-19d6-4f72-84e7-44b02a44e271\",\"type\":\"LegendItem\"},{\"attributes\":{},\"id\":\"dcd861df-7653-435a-b448-ff2d9f3fa2f5\",\"type\":\"Selection\"},{\"attributes\":{\"label\":{\"value\":\"WGT igg=10 wgt_flux=2\"},\"renderers\":[{\"id\":\"71285f56-866c-40a4-b472-73f3934cec9f\",\"type\":\"GlyphRenderer\"},{\"id\":\"101176ab-0d1c-4cfb-b75a-4ad680eadca5\",\"type\":\"GlyphRenderer\"}]},\"id\":\"7cf8f1b4-6bd6-4bfa-a805-f304159003c2\",\"type\":\"LegendItem\"},{\"attributes\":{},\"id\":\"3749cb95-2b40-40eb-8562-bc25e7f8db7e\",\"type\":\"Selection\"},{\"attributes\":{},\"id\":\"5590c0bc-8d24-4588-9ed9-29d679d85651\",\"type\":\"BasicTickFormatter\"},{\"attributes\":{},\"id\":\"1d3fb213-7140-43ac-9471-d0339e9b0244\",\"type\":\"UnionRenderers\"},{\"attributes\":{\"callback\":null,\"end\":0.01,\"start\":1020},\"id\":\"1a83f787-92f7-42f1-acee-b2528e9cf355\",\"type\":\"Range1d\"},{\"attributes\":{},\"id\":\"5ceff8c9-9c49-450f-9172-528f3db034ae\",\"type\":\"UnionRenderers\"},{\"attributes\":{\"fill_alpha\":{\"value\":0.1},\"fill_color\":{\"value\":\"#1f77b4\"},\"line_alpha\":{\"value\":0.1},\"line_color\":{\"value\":\"#1f77b4\"},\"x\":{\"field\":\"x\"},\"y\":{\"field\":\"y\"}},\"id\":\"9f0352f0-d691-4add-8bfa-4859aff168b8\",\"type\":\"Circle\"},{\"attributes\":{},\"id\":\"c11bdd41-f5da-4898-ac92-f2668517e295\",\"type\":\"UnionRenderers\"},{\"attributes\":{},\"id\":\"9b278f55-ef3e-40bf-8311-7ec8c5170545\",\"type\":\"Selection\"},{\"attributes\":{},\"id\":\"50b2b0d6-5e21-4c58-a6b9-a16bd38e63ae\",\"type\":\"UnionRenderers\"},{\"attributes\":{},\"id\":\"60853760-2ee3-4384-aa1a-c3fd6c1bfd60\",\"type\":\"Selection\"},{\"attributes\":{},\"id\":\"d053dcb2-ffea-4854-8da9-105a672b1938\",\"type\":\"UnionRenderers\"}],\"root_ids\":[\"7dfb5a22-d154-4283-a499-2ac908000bf0\"]},\"title\":\"Bokeh Application\",\"version\":\"0.12.16\"}};\n",
       "  var render_items = [{\"docid\":\"b7601bec-9b22-43c7-ad54-7d9cc4871fda\",\"elementid\":\"4cbd23f9-91ff-4163-9eec-9cb705aa7b2c\",\"modelid\":\"7dfb5a22-d154-4283-a499-2ac908000bf0\"}];\n",
       "  root.Bokeh.embed.embed_items_notebook(docs_json, render_items);\n",
       "\n",
       "  }\n",
       "  if (root.Bokeh !== undefined) {\n",
       "    embed_document(root);\n",
       "  } else {\n",
       "    var attempts = 0;\n",
       "    var timer = setInterval(function(root) {\n",
       "      if (root.Bokeh !== undefined) {\n",
       "        embed_document(root);\n",
       "        clearInterval(timer);\n",
       "      }\n",
       "      attempts++;\n",
       "      if (attempts > 100) {\n",
       "        console.log(\"Bokeh: ERROR: Unable to run BokehJS code because BokehJS library is missing\")\n",
       "        clearInterval(timer);\n",
       "      }\n",
       "    }, 10, root)\n",
       "  }\n",
       "})(window);"
      ],
      "application/vnd.bokehjs_exec.v0+json": ""
     },
     "metadata": {
      "application/vnd.bokehjs_exec.v0+json": {
       "id": "7dfb5a22-d154-4283-a499-2ac908000bf0"
      }
     },
     "output_type": "display_data"
    },
    {
     "name": "stdout",
     "output_type": "stream",
     "text": [
      "FIGURE. Cooling rate profiles.\n"
     ]
    },
    {
     "data": {
      "text/html": [
       "<a id=\"Flux_Comparison\"></a>"
      ],
      "text/plain": [
       "<IPython.core.display.HTML object>"
      ]
     },
     "metadata": {},
     "output_type": "display_data"
    },
    {
     "data": {
      "text/markdown": [
       "# Flux Comparison"
      ],
      "text/plain": [
       "<IPython.core.display.Markdown object>"
      ]
     },
     "metadata": {},
     "output_type": "display_data"
    },
    {
     "data": {
      "text/html": [
       "<div>\n",
       "<style scoped>\n",
       "    .dataframe tbody tr th:only-of-type {\n",
       "        vertical-align: middle;\n",
       "    }\n",
       "\n",
       "    .dataframe tbody tr th {\n",
       "        vertical-align: top;\n",
       "    }\n",
       "\n",
       "    .dataframe thead th {\n",
       "        text-align: right;\n",
       "    }\n",
       "</style>\n",
       "<table border=\"1\" class=\"dataframe\">\n",
       "  <thead>\n",
       "    <tr style=\"text-align: right;\">\n",
       "      <th></th>\n",
       "      <th></th>\n",
       "      <th>flug</th>\n",
       "      <th>fldg</th>\n",
       "      <th>fnetg</th>\n",
       "    </tr>\n",
       "    <tr>\n",
       "      <th>pressure</th>\n",
       "      <th>level</th>\n",
       "      <th></th>\n",
       "      <th></th>\n",
       "      <th></th>\n",
       "    </tr>\n",
       "  </thead>\n",
       "  <tbody>\n",
       "    <tr>\n",
       "      <th>0.0000</th>\n",
       "      <th>1</th>\n",
       "      <td>-7.715035</td>\n",
       "      <td>0.000000</td>\n",
       "      <td>-7.715035</td>\n",
       "    </tr>\n",
       "    <tr>\n",
       "      <th>1.0685</th>\n",
       "      <th>24</th>\n",
       "      <td>-7.718865</td>\n",
       "      <td>0.021939</td>\n",
       "      <td>-7.696926</td>\n",
       "    </tr>\n",
       "    <tr>\n",
       "      <th>1013.0000</th>\n",
       "      <th>76</th>\n",
       "      <td>-35.855033</td>\n",
       "      <td>35.269794</td>\n",
       "      <td>-0.585239</td>\n",
       "    </tr>\n",
       "  </tbody>\n",
       "</table>\n",
       "</div>"
      ],
      "text/plain": [
       "                      flug       fldg     fnetg\n",
       "pressure  level                                \n",
       "0.0000    1      -7.715035   0.000000 -7.715035\n",
       "1.0685    24     -7.718865   0.021939 -7.696926\n",
       "1013.0000 76    -35.855033  35.269794 -0.585239"
      ]
     },
     "metadata": {},
     "output_type": "display_data"
    },
    {
     "name": "stdout",
     "output_type": "stream",
     "text": [
      "Table. Fluxes. CRD\n"
     ]
    },
    {
     "data": {
      "text/html": [
       "<div>\n",
       "<style scoped>\n",
       "    .dataframe tbody tr th:only-of-type {\n",
       "        vertical-align: middle;\n",
       "    }\n",
       "\n",
       "    .dataframe tbody tr th {\n",
       "        vertical-align: top;\n",
       "    }\n",
       "\n",
       "    .dataframe thead th {\n",
       "        text-align: right;\n",
       "    }\n",
       "</style>\n",
       "<table border=\"1\" class=\"dataframe\">\n",
       "  <thead>\n",
       "    <tr style=\"text-align: right;\">\n",
       "      <th></th>\n",
       "      <th></th>\n",
       "      <th>flug</th>\n",
       "      <th>fldg</th>\n",
       "      <th>fnetg</th>\n",
       "    </tr>\n",
       "    <tr>\n",
       "      <th>pressure</th>\n",
       "      <th>level</th>\n",
       "      <th></th>\n",
       "      <th></th>\n",
       "      <th></th>\n",
       "    </tr>\n",
       "  </thead>\n",
       "  <tbody>\n",
       "    <tr>\n",
       "      <th>0.0000</th>\n",
       "      <th>1</th>\n",
       "      <td>-7.653818</td>\n",
       "      <td>0.000000</td>\n",
       "      <td>-7.653818</td>\n",
       "    </tr>\n",
       "    <tr>\n",
       "      <th>1.0685</th>\n",
       "      <th>24</th>\n",
       "      <td>-7.657222</td>\n",
       "      <td>0.021522</td>\n",
       "      <td>-7.635701</td>\n",
       "    </tr>\n",
       "    <tr>\n",
       "      <th>1013.0000</th>\n",
       "      <th>76</th>\n",
       "      <td>-35.855033</td>\n",
       "      <td>35.278623</td>\n",
       "      <td>-0.576409</td>\n",
       "    </tr>\n",
       "  </tbody>\n",
       "</table>\n",
       "</div>"
      ],
      "text/plain": [
       "                      flug       fldg     fnetg\n",
       "pressure  level                                \n",
       "0.0000    1      -7.653818   0.000000 -7.653818\n",
       "1.0685    24     -7.657222   0.021522 -7.635701\n",
       "1013.0000 76    -35.855033  35.278623 -0.576409"
      ]
     },
     "metadata": {},
     "output_type": "display_data"
    },
    {
     "name": "stdout",
     "output_type": "stream",
     "text": [
      "Table. Fluxes. WGT igg=10 wgt_flux=1\n"
     ]
    },
    {
     "data": {
      "text/html": [
       "<div>\n",
       "<style scoped>\n",
       "    .dataframe tbody tr th:only-of-type {\n",
       "        vertical-align: middle;\n",
       "    }\n",
       "\n",
       "    .dataframe tbody tr th {\n",
       "        vertical-align: top;\n",
       "    }\n",
       "\n",
       "    .dataframe thead th {\n",
       "        text-align: right;\n",
       "    }\n",
       "</style>\n",
       "<table border=\"1\" class=\"dataframe\">\n",
       "  <thead>\n",
       "    <tr style=\"text-align: right;\">\n",
       "      <th></th>\n",
       "      <th></th>\n",
       "      <th>flug</th>\n",
       "      <th>fldg</th>\n",
       "      <th>fnetg</th>\n",
       "    </tr>\n",
       "    <tr>\n",
       "      <th>pressure</th>\n",
       "      <th>level</th>\n",
       "      <th></th>\n",
       "      <th></th>\n",
       "      <th></th>\n",
       "    </tr>\n",
       "  </thead>\n",
       "  <tbody>\n",
       "    <tr>\n",
       "      <th>1.000000e-08</th>\n",
       "      <th>1</th>\n",
       "      <td>-7.574985</td>\n",
       "      <td>1.875993e-09</td>\n",
       "      <td>-7.574985</td>\n",
       "    </tr>\n",
       "    <tr>\n",
       "      <th>1.068500e+00</th>\n",
       "      <th>24</th>\n",
       "      <td>-7.578204</td>\n",
       "      <td>2.120368e-02</td>\n",
       "      <td>-7.557000</td>\n",
       "    </tr>\n",
       "    <tr>\n",
       "      <th>1.013000e+03</th>\n",
       "      <th>76</th>\n",
       "      <td>-35.855030</td>\n",
       "      <td>3.528192e+01</td>\n",
       "      <td>-0.573108</td>\n",
       "    </tr>\n",
       "  </tbody>\n",
       "</table>\n",
       "</div>"
      ],
      "text/plain": [
       "                         flug          fldg     fnetg\n",
       "pressure     level                                   \n",
       "1.000000e-08 1      -7.574985  1.875993e-09 -7.574985\n",
       "1.068500e+00 24     -7.578204  2.120368e-02 -7.557000\n",
       "1.013000e+03 76    -35.855030  3.528192e+01 -0.573108"
      ]
     },
     "metadata": {},
     "output_type": "display_data"
    },
    {
     "name": "stdout",
     "output_type": "stream",
     "text": [
      "Table. Fluxes. CLIRAD\n"
     ]
    },
    {
     "data": {
      "text/html": [
       "<div>\n",
       "<style scoped>\n",
       "    .dataframe tbody tr th:only-of-type {\n",
       "        vertical-align: middle;\n",
       "    }\n",
       "\n",
       "    .dataframe tbody tr th {\n",
       "        vertical-align: top;\n",
       "    }\n",
       "\n",
       "    .dataframe thead th {\n",
       "        text-align: right;\n",
       "    }\n",
       "</style>\n",
       "<table border=\"1\" class=\"dataframe\">\n",
       "  <thead>\n",
       "    <tr style=\"text-align: right;\">\n",
       "      <th></th>\n",
       "      <th></th>\n",
       "      <th>flug</th>\n",
       "      <th>fldg</th>\n",
       "      <th>fnetg</th>\n",
       "    </tr>\n",
       "    <tr>\n",
       "      <th>pressure</th>\n",
       "      <th>level</th>\n",
       "      <th></th>\n",
       "      <th></th>\n",
       "      <th></th>\n",
       "    </tr>\n",
       "  </thead>\n",
       "  <tbody>\n",
       "    <tr>\n",
       "      <th>0.0000</th>\n",
       "      <th>1</th>\n",
       "      <td>6.121662e-02</td>\n",
       "      <td>0.000000</td>\n",
       "      <td>0.061217</td>\n",
       "    </tr>\n",
       "    <tr>\n",
       "      <th>1.0685</th>\n",
       "      <th>24</th>\n",
       "      <td>6.164266e-02</td>\n",
       "      <td>-0.000418</td>\n",
       "      <td>0.061225</td>\n",
       "    </tr>\n",
       "    <tr>\n",
       "      <th>1013.0000</th>\n",
       "      <th>76</th>\n",
       "      <td>-1.950000e-07</td>\n",
       "      <td>0.008829</td>\n",
       "      <td>0.008830</td>\n",
       "    </tr>\n",
       "  </tbody>\n",
       "</table>\n",
       "</div>"
      ],
      "text/plain": [
       "                         flug      fldg     fnetg\n",
       "pressure  level                                  \n",
       "0.0000    1      6.121662e-02  0.000000  0.061217\n",
       "1.0685    24     6.164266e-02 -0.000418  0.061225\n",
       "1013.0000 76    -1.950000e-07  0.008829  0.008830"
      ]
     },
     "metadata": {},
     "output_type": "display_data"
    },
    {
     "name": "stdout",
     "output_type": "stream",
     "text": [
      "Table. Fluxes. (WGT igg=10 wgt_flux=1) - (CRD)\n"
     ]
    },
    {
     "data": {
      "text/html": [
       "<div>\n",
       "<style scoped>\n",
       "    .dataframe tbody tr th:only-of-type {\n",
       "        vertical-align: middle;\n",
       "    }\n",
       "\n",
       "    .dataframe tbody tr th {\n",
       "        vertical-align: top;\n",
       "    }\n",
       "\n",
       "    .dataframe thead th {\n",
       "        text-align: right;\n",
       "    }\n",
       "</style>\n",
       "<table border=\"1\" class=\"dataframe\">\n",
       "  <thead>\n",
       "    <tr style=\"text-align: right;\">\n",
       "      <th></th>\n",
       "      <th></th>\n",
       "      <th>flug</th>\n",
       "      <th>fldg</th>\n",
       "      <th>fnetg</th>\n",
       "    </tr>\n",
       "    <tr>\n",
       "      <th>pressure</th>\n",
       "      <th>level</th>\n",
       "      <th></th>\n",
       "      <th></th>\n",
       "      <th></th>\n",
       "    </tr>\n",
       "  </thead>\n",
       "  <tbody>\n",
       "    <tr>\n",
       "      <th>0.0000</th>\n",
       "      <th>1</th>\n",
       "      <td>0.140050</td>\n",
       "      <td>1.875993e-09</td>\n",
       "      <td>0.140050</td>\n",
       "    </tr>\n",
       "    <tr>\n",
       "      <th>1.0685</th>\n",
       "      <th>24</th>\n",
       "      <td>0.140662</td>\n",
       "      <td>-7.355310e-04</td>\n",
       "      <td>0.139926</td>\n",
       "    </tr>\n",
       "    <tr>\n",
       "      <th>1013.0000</th>\n",
       "      <th>76</th>\n",
       "      <td>0.000003</td>\n",
       "      <td>1.212800e-02</td>\n",
       "      <td>0.012131</td>\n",
       "    </tr>\n",
       "  </tbody>\n",
       "</table>\n",
       "</div>"
      ],
      "text/plain": [
       "                     flug          fldg     fnetg\n",
       "pressure  level                                  \n",
       "0.0000    1      0.140050  1.875993e-09  0.140050\n",
       "1.0685    24     0.140662 -7.355310e-04  0.139926\n",
       "1013.0000 76     0.000003  1.212800e-02  0.012131"
      ]
     },
     "metadata": {},
     "output_type": "display_data"
    },
    {
     "name": "stdout",
     "output_type": "stream",
     "text": [
      "Table. Fluxes. (CLIRAD) - (CRD)\n"
     ]
    },
    {
     "data": {
      "text/html": [
       "<a id=\"Best-fit_Parameters\"></a>"
      ],
      "text/plain": [
       "<IPython.core.display.HTML object>"
      ]
     },
     "metadata": {},
     "output_type": "display_data"
    },
    {
     "data": {
      "text/markdown": [
       "# Best-fit Parameters"
      ],
      "text/plain": [
       "<IPython.core.display.Markdown object>"
      ]
     },
     "metadata": {},
     "output_type": "display_data"
    },
    {
     "name": "stdout",
     "output_type": "stream",
     "text": [
      "Best-fit values for each (gas, band)\n",
      "------------------------------------\n",
      "o h2o band8\n",
      "  atmpro = mls\n",
      "  band = 8\n",
      "  commitnumber = a06b618\n",
      "  conc = None\n",
      "  dv = 0.001\n",
      "  klin = 0\n",
      "  molecule = h2o\n",
      "  ng_adju = [0, -1, 0]\n",
      "  ng_refs = [3, 2, 3]\n",
      "  nv = 1000\n",
      "  option_compute_btable = 0\n",
      "  option_compute_ktable = 1\n",
      "  option_wgt_flux = 1\n",
      "  option_wgt_k = 1\n",
      "  ref_pts = [(1, 250), (10, 250), (500, 250)]\n",
      "  tsfc = 294\n",
      "  vmax = 1900\n",
      "  vmin = 1380\n",
      "  w_diffuse = [(1.66, 1.66, 1.66), (1.66, 1.66), (1.66, 1.66, 1.66)]\n",
      "  wgt = [(0.55, 0.55, 0.85), (0.85, 0.85), (0, 0.3, 0.55)]\n"
     ]
    }
   ],
   "source": [
    "script()"
   ]
  },
  {
   "cell_type": "code",
   "execution_count": 13,
   "metadata": {
    "collapsed": true
   },
   "outputs": [
    {
     "data": {
      "text/html": [
       "<script>\n",
       "code_show=true; \n",
       "function code_toggle() {\n",
       " if (code_show){\n",
       " $('div.input').hide();\n",
       " } else {\n",
       " $('div.input').show();\n",
       " }\n",
       " code_show = !code_show\n",
       "} \n",
       "$( document ).ready(code_toggle);\n",
       "</script>\n",
       "<form action=\"javascript:code_toggle()\"><input type=\"submit\" value=\"Click here to toggle on/off the raw code.\"></form>"
      ],
      "text/plain": [
       "<IPython.core.display.HTML object>"
      ]
     },
     "execution_count": 13,
     "metadata": {},
     "output_type": "execute_result"
    }
   ],
   "source": [
    "display.HTML('''<script>\n",
    "code_show=true; \n",
    "function code_toggle() {\n",
    " if (code_show){\n",
    " $('div.input').hide();\n",
    " } else {\n",
    " $('div.input').show();\n",
    " }\n",
    " code_show = !code_show\n",
    "} \n",
    "$( document ).ready(code_toggle);\n",
    "</script>\n",
    "<form action=\"javascript:code_toggle()\"><input type=\"submit\" value=\"Click here to toggle on/off the raw code.\"></form>''')"
   ]
  }
 ],
 "metadata": {
  "kernelspec": {
   "display_name": "Python 3",
   "language": "python",
   "name": "python3"
  },
  "language_info": {
   "codemirror_mode": {
    "name": "ipython",
    "version": 3
   },
   "file_extension": ".py",
   "mimetype": "text/x-python",
   "name": "python",
   "nbconvert_exporter": "python",
   "pygments_lexer": "ipython3",
   "version": "3.6.1"
  }
 },
 "nbformat": 4,
 "nbformat_minor": 2
}
