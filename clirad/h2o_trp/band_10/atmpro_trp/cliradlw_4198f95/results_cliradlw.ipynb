{
 "cells": [
  {
   "cell_type": "code",
   "execution_count": 1,
   "metadata": {
    "collapsed": true
   },
   "outputs": [],
   "source": [
    "%matplotlib inline\n",
    "import os\n",
    "import re\n",
    "import io\n",
    "import itertools\n",
    "import pprint\n",
    "\n",
    "from bokeh.io import output_notebook, show\n",
    "from bokeh.layouts import gridplot\n",
    "from bokeh.plotting import figure\n",
    "from bokeh.models import Range1d, Legend\n",
    "from bokeh.palettes import all_palettes\n",
    "\n",
    "import matplotlib\n",
    "import matplotlib.pyplot as plt\n",
    "import numpy as np\n",
    "import pandas as pd\n",
    "import xarray as xr\n",
    "\n",
    "import climatools.lblnew.bestfit_params as bestfits\n",
    "from climatools.lblnew import setup_bestfit, setup_overlap\n",
    "import climatools.lblnew.pipeline as pipe_lblnew\n",
    "import climatools.cliradlw.setup as setup_cliradlw\n",
    "import climatools.cliradlw.pipeline as pipe_cliradlw\n",
    "\n",
    "import climatools.html.html as climahtml\n",
    "from climatools.lblnew.dataio import *\n",
    "from climatools.plot.plot import *\n",
    "\n",
    "\n",
    "import IPython.display as display"
   ]
  },
  {
   "cell_type": "code",
   "execution_count": 2,
   "metadata": {
    "collapsed": true
   },
   "outputs": [],
   "source": [
    "%run param.py"
   ]
  },
  {
   "cell_type": "code",
   "execution_count": 3,
   "metadata": {
    "collapsed": true
   },
   "outputs": [],
   "source": [
    "def load_output_file(path_csv):\n",
    "    '''\n",
    "    Load lblnew output .csv file to xarray.Dataset\n",
    "    \n",
    "    Parameters\n",
    "    ----------\n",
    "    path_csv: str\n",
    "              Path to the .csv file to be loaded.\n",
    "    ds: xarray.Dataset\n",
    "        Data in the input file in the form of an xarray.Dataset.\n",
    "    '''\n",
    "    toindex = ['band', 'pressure', 'igg', 'g']    \n",
    "    df = pd.read_csv(path_csv, sep=r'\\s+')\n",
    "    df = df.set_index([i for i in toindex if i in df.columns])\n",
    "    df = df.rename(columns={'sfu': 'flug',\n",
    "                            'sfd': 'fldg',\n",
    "                            'fnet': 'fnetg',\n",
    "                            'coolr': 'coolrg'})\n",
    "    ds = xr.Dataset.from_dataframe(df)\n",
    "\n",
    "    for l in ('level', 'layer'):\n",
    "        if l in ds.data_vars:\n",
    "            if len(ds[l].dims) > 1:\n",
    "                surface = {d: 0 for d in ds.dims if d != 'pressure'}\n",
    "                coord_level = ds[l][surface]\n",
    "                ds.coords[l] = ('pressure', coord_level)\n",
    "            else:\n",
    "                ds.coords[l] = ('pressure', ds[l])\n",
    "    \n",
    "    return ds"
   ]
  },
  {
   "cell_type": "code",
   "execution_count": 4,
   "metadata": {
    "collapsed": true
   },
   "outputs": [],
   "source": [
    "def lblnew_setup(param=None):\n",
    "    if 'ng_refs' in param:\n",
    "        return {'setup': setup_bestfit,\n",
    "                'fname_flux_crd': 'output_flux.dat',\n",
    "                'fname_cool_crd': 'output_coolr.dat',\n",
    "                'fname_flux_wgt': 'output_wfluxg.dat',\n",
    "                'fname_cool_wgt': 'output_wcoolrg.dat'}\n",
    "    else:\n",
    "        return {'setup': setup_overlap,\n",
    "                'fname_flux_crd': 'output_flux.dat',\n",
    "                'fname_cool_crd': 'output_coolr.dat',\n",
    "                'fname_flux_wgt': 'output_wflux.dat',\n",
    "                'fname_cool_wgt': 'output_wcoolr.dat'}\n",
    "\n",
    "    \n",
    "def load_lblnew_data(param):\n",
    "    \n",
    "    fname_dsname = [('fname_flux_crd', 'ds_flux_crd'),\n",
    "                    ('fname_cool_crd', 'ds_cool_crd'),\n",
    "                    ('fname_flux_wgt', 'ds_flux_wgt'),\n",
    "                    ('fname_cool_wgt', 'ds_cool_wgt')]\n",
    "    \n",
    "    d = lblnew_setup(param)\n",
    "    dir_fortran = pipe_lblnew.get_dir_case(param, setup=d['setup'])\n",
    "    \n",
    "    data_dict = {}\n",
    "    for fname, dsname in fname_dsname:\n",
    "        fpath = os.path.join(dir_fortran, d[fname])\n",
    "        data_dict[dsname] = load_output_file(fpath)\n",
    "    return data_dict\n",
    "    \n",
    "\n",
    "    \n",
    "    "
   ]
  },
  {
   "cell_type": "code",
   "execution_count": 5,
   "metadata": {
    "collapsed": true
   },
   "outputs": [],
   "source": [
    "d = load_lblnew_data(PARAM_LBLNEW)\n",
    "\n",
    "DS_FLUX_CRD = d['ds_flux_crd']\n",
    "DS_COOL_CRD = d['ds_cool_crd']\n",
    "DS_FLUX_WGT = d['ds_flux_wgt']\n",
    "DS_COOL_WGT = d['ds_cool_wgt']"
   ]
  },
  {
   "cell_type": "code",
   "execution_count": 6,
   "metadata": {
    "collapsed": true
   },
   "outputs": [],
   "source": [
    "DIR_FORTRAN = pipe_cliradlw.get_fortran_dir(PARAM, \n",
    "                                            setup=setup_cliradlw)\n",
    "\n",
    "PATH_FLUX = os.path.join(DIR_FORTRAN, 'output_flux.dat')\n",
    "PATH_COOL = os.path.join(DIR_FORTRAN, 'output_coolr.dat')\n",
    "\n",
    "DS_FLUX = load_output_file(PATH_FLUX)\n",
    "DS_COOL = load_output_file(PATH_COOL)"
   ]
  },
  {
   "cell_type": "code",
   "execution_count": 7,
   "metadata": {
    "collapsed": true
   },
   "outputs": [
    {
     "data": {
      "text/html": [
       "\n",
       "    <div class=\"bk-root\">\n",
       "        <a href=\"https://bokeh.pydata.org\" target=\"_blank\" class=\"bk-logo bk-logo-small bk-logo-notebook\"></a>\n",
       "        <span id=\"20d7036c-a9c3-4ae4-a1a0-e12ba058ba29\">Loading BokehJS ...</span>\n",
       "    </div>"
      ]
     },
     "metadata": {},
     "output_type": "display_data"
    },
    {
     "data": {
      "application/javascript": [
       "\n",
       "(function(root) {\n",
       "  function now() {\n",
       "    return new Date();\n",
       "  }\n",
       "\n",
       "  var force = true;\n",
       "\n",
       "  if (typeof (root._bokeh_onload_callbacks) === \"undefined\" || force === true) {\n",
       "    root._bokeh_onload_callbacks = [];\n",
       "    root._bokeh_is_loading = undefined;\n",
       "  }\n",
       "\n",
       "  var JS_MIME_TYPE = 'application/javascript';\n",
       "  var HTML_MIME_TYPE = 'text/html';\n",
       "  var EXEC_MIME_TYPE = 'application/vnd.bokehjs_exec.v0+json';\n",
       "  var CLASS_NAME = 'output_bokeh rendered_html';\n",
       "\n",
       "  /**\n",
       "   * Render data to the DOM node\n",
       "   */\n",
       "  function render(props, node) {\n",
       "    var script = document.createElement(\"script\");\n",
       "    node.appendChild(script);\n",
       "  }\n",
       "\n",
       "  /**\n",
       "   * Handle when an output is cleared or removed\n",
       "   */\n",
       "  function handleClearOutput(event, handle) {\n",
       "    var cell = handle.cell;\n",
       "\n",
       "    var id = cell.output_area._bokeh_element_id;\n",
       "    var server_id = cell.output_area._bokeh_server_id;\n",
       "    // Clean up Bokeh references\n",
       "    if (id !== undefined) {\n",
       "      Bokeh.index[id].model.document.clear();\n",
       "      delete Bokeh.index[id];\n",
       "    }\n",
       "\n",
       "    if (server_id !== undefined) {\n",
       "      // Clean up Bokeh references\n",
       "      var cmd = \"from bokeh.io.state import curstate; print(curstate().uuid_to_server['\" + server_id + \"'].get_sessions()[0].document.roots[0]._id)\";\n",
       "      cell.notebook.kernel.execute(cmd, {\n",
       "        iopub: {\n",
       "          output: function(msg) {\n",
       "            var element_id = msg.content.text.trim();\n",
       "            Bokeh.index[element_id].model.document.clear();\n",
       "            delete Bokeh.index[element_id];\n",
       "          }\n",
       "        }\n",
       "      });\n",
       "      // Destroy server and session\n",
       "      var cmd = \"import bokeh.io.notebook as ion; ion.destroy_server('\" + server_id + \"')\";\n",
       "      cell.notebook.kernel.execute(cmd);\n",
       "    }\n",
       "  }\n",
       "\n",
       "  /**\n",
       "   * Handle when a new output is added\n",
       "   */\n",
       "  function handleAddOutput(event, handle) {\n",
       "    var output_area = handle.output_area;\n",
       "    var output = handle.output;\n",
       "\n",
       "    // limit handleAddOutput to display_data with EXEC_MIME_TYPE content only\n",
       "    if ((output.output_type != \"display_data\") || (!output.data.hasOwnProperty(EXEC_MIME_TYPE))) {\n",
       "      return\n",
       "    }\n",
       "\n",
       "    var toinsert = output_area.element.find(\".\" + CLASS_NAME.split(' ')[0]);\n",
       "\n",
       "    if (output.metadata[EXEC_MIME_TYPE][\"id\"] !== undefined) {\n",
       "      toinsert[toinsert.length - 1].firstChild.textContent = output.data[JS_MIME_TYPE];\n",
       "      // store reference to embed id on output_area\n",
       "      output_area._bokeh_element_id = output.metadata[EXEC_MIME_TYPE][\"id\"];\n",
       "    }\n",
       "    if (output.metadata[EXEC_MIME_TYPE][\"server_id\"] !== undefined) {\n",
       "      var bk_div = document.createElement(\"div\");\n",
       "      bk_div.innerHTML = output.data[HTML_MIME_TYPE];\n",
       "      var script_attrs = bk_div.children[0].attributes;\n",
       "      for (var i = 0; i < script_attrs.length; i++) {\n",
       "        toinsert[toinsert.length - 1].firstChild.setAttribute(script_attrs[i].name, script_attrs[i].value);\n",
       "      }\n",
       "      // store reference to server id on output_area\n",
       "      output_area._bokeh_server_id = output.metadata[EXEC_MIME_TYPE][\"server_id\"];\n",
       "    }\n",
       "  }\n",
       "\n",
       "  function register_renderer(events, OutputArea) {\n",
       "\n",
       "    function append_mime(data, metadata, element) {\n",
       "      // create a DOM node to render to\n",
       "      var toinsert = this.create_output_subarea(\n",
       "        metadata,\n",
       "        CLASS_NAME,\n",
       "        EXEC_MIME_TYPE\n",
       "      );\n",
       "      this.keyboard_manager.register_events(toinsert);\n",
       "      // Render to node\n",
       "      var props = {data: data, metadata: metadata[EXEC_MIME_TYPE]};\n",
       "      render(props, toinsert[toinsert.length - 1]);\n",
       "      element.append(toinsert);\n",
       "      return toinsert\n",
       "    }\n",
       "\n",
       "    /* Handle when an output is cleared or removed */\n",
       "    events.on('clear_output.CodeCell', handleClearOutput);\n",
       "    events.on('delete.Cell', handleClearOutput);\n",
       "\n",
       "    /* Handle when a new output is added */\n",
       "    events.on('output_added.OutputArea', handleAddOutput);\n",
       "\n",
       "    /**\n",
       "     * Register the mime type and append_mime function with output_area\n",
       "     */\n",
       "    OutputArea.prototype.register_mime_type(EXEC_MIME_TYPE, append_mime, {\n",
       "      /* Is output safe? */\n",
       "      safe: true,\n",
       "      /* Index of renderer in `output_area.display_order` */\n",
       "      index: 0\n",
       "    });\n",
       "  }\n",
       "\n",
       "  // register the mime type if in Jupyter Notebook environment and previously unregistered\n",
       "  if (root.Jupyter !== undefined) {\n",
       "    var events = require('base/js/events');\n",
       "    var OutputArea = require('notebook/js/outputarea').OutputArea;\n",
       "\n",
       "    if (OutputArea.prototype.mime_types().indexOf(EXEC_MIME_TYPE) == -1) {\n",
       "      register_renderer(events, OutputArea);\n",
       "    }\n",
       "  }\n",
       "\n",
       "  \n",
       "  if (typeof (root._bokeh_timeout) === \"undefined\" || force === true) {\n",
       "    root._bokeh_timeout = Date.now() + 5000;\n",
       "    root._bokeh_failed_load = false;\n",
       "  }\n",
       "\n",
       "  var NB_LOAD_WARNING = {'data': {'text/html':\n",
       "     \"<div style='background-color: #fdd'>\\n\"+\n",
       "     \"<p>\\n\"+\n",
       "     \"BokehJS does not appear to have successfully loaded. If loading BokehJS from CDN, this \\n\"+\n",
       "     \"may be due to a slow or bad network connection. Possible fixes:\\n\"+\n",
       "     \"</p>\\n\"+\n",
       "     \"<ul>\\n\"+\n",
       "     \"<li>re-rerun `output_notebook()` to attempt to load from CDN again, or</li>\\n\"+\n",
       "     \"<li>use INLINE resources instead, as so:</li>\\n\"+\n",
       "     \"</ul>\\n\"+\n",
       "     \"<code>\\n\"+\n",
       "     \"from bokeh.resources import INLINE\\n\"+\n",
       "     \"output_notebook(resources=INLINE)\\n\"+\n",
       "     \"</code>\\n\"+\n",
       "     \"</div>\"}};\n",
       "\n",
       "  function display_loaded() {\n",
       "    var el = document.getElementById(\"20d7036c-a9c3-4ae4-a1a0-e12ba058ba29\");\n",
       "    if (el != null) {\n",
       "      el.textContent = \"BokehJS is loading...\";\n",
       "    }\n",
       "    if (root.Bokeh !== undefined) {\n",
       "      if (el != null) {\n",
       "        el.textContent = \"BokehJS \" + root.Bokeh.version + \" successfully loaded.\";\n",
       "      }\n",
       "    } else if (Date.now() < root._bokeh_timeout) {\n",
       "      setTimeout(display_loaded, 100)\n",
       "    }\n",
       "  }\n",
       "\n",
       "\n",
       "  function run_callbacks() {\n",
       "    try {\n",
       "      root._bokeh_onload_callbacks.forEach(function(callback) { callback() });\n",
       "    }\n",
       "    finally {\n",
       "      delete root._bokeh_onload_callbacks\n",
       "    }\n",
       "    console.info(\"Bokeh: all callbacks have finished\");\n",
       "  }\n",
       "\n",
       "  function load_libs(js_urls, callback) {\n",
       "    root._bokeh_onload_callbacks.push(callback);\n",
       "    if (root._bokeh_is_loading > 0) {\n",
       "      console.log(\"Bokeh: BokehJS is being loaded, scheduling callback at\", now());\n",
       "      return null;\n",
       "    }\n",
       "    if (js_urls == null || js_urls.length === 0) {\n",
       "      run_callbacks();\n",
       "      return null;\n",
       "    }\n",
       "    console.log(\"Bokeh: BokehJS not loaded, scheduling load and callback at\", now());\n",
       "    root._bokeh_is_loading = js_urls.length;\n",
       "    for (var i = 0; i < js_urls.length; i++) {\n",
       "      var url = js_urls[i];\n",
       "      var s = document.createElement('script');\n",
       "      s.src = url;\n",
       "      s.async = false;\n",
       "      s.onreadystatechange = s.onload = function() {\n",
       "        root._bokeh_is_loading--;\n",
       "        if (root._bokeh_is_loading === 0) {\n",
       "          console.log(\"Bokeh: all BokehJS libraries loaded\");\n",
       "          run_callbacks()\n",
       "        }\n",
       "      };\n",
       "      s.onerror = function() {\n",
       "        console.warn(\"failed to load library \" + url);\n",
       "      };\n",
       "      console.log(\"Bokeh: injecting script tag for BokehJS library: \", url);\n",
       "      document.getElementsByTagName(\"head\")[0].appendChild(s);\n",
       "    }\n",
       "  };var element = document.getElementById(\"20d7036c-a9c3-4ae4-a1a0-e12ba058ba29\");\n",
       "  if (element == null) {\n",
       "    console.log(\"Bokeh: ERROR: autoload.js configured with elementid '20d7036c-a9c3-4ae4-a1a0-e12ba058ba29' but no matching script tag was found. \")\n",
       "    return false;\n",
       "  }\n",
       "\n",
       "  var js_urls = [\"https://cdn.pydata.org/bokeh/release/bokeh-0.12.16.min.js\", \"https://cdn.pydata.org/bokeh/release/bokeh-widgets-0.12.16.min.js\", \"https://cdn.pydata.org/bokeh/release/bokeh-tables-0.12.16.min.js\", \"https://cdn.pydata.org/bokeh/release/bokeh-gl-0.12.16.min.js\"];\n",
       "\n",
       "  var inline_js = [\n",
       "    function(Bokeh) {\n",
       "      Bokeh.set_log_level(\"info\");\n",
       "    },\n",
       "    \n",
       "    function(Bokeh) {\n",
       "      \n",
       "    },\n",
       "    function(Bokeh) {\n",
       "      console.log(\"Bokeh: injecting CSS: https://cdn.pydata.org/bokeh/release/bokeh-0.12.16.min.css\");\n",
       "      Bokeh.embed.inject_css(\"https://cdn.pydata.org/bokeh/release/bokeh-0.12.16.min.css\");\n",
       "      console.log(\"Bokeh: injecting CSS: https://cdn.pydata.org/bokeh/release/bokeh-widgets-0.12.16.min.css\");\n",
       "      Bokeh.embed.inject_css(\"https://cdn.pydata.org/bokeh/release/bokeh-widgets-0.12.16.min.css\");\n",
       "      console.log(\"Bokeh: injecting CSS: https://cdn.pydata.org/bokeh/release/bokeh-tables-0.12.16.min.css\");\n",
       "      Bokeh.embed.inject_css(\"https://cdn.pydata.org/bokeh/release/bokeh-tables-0.12.16.min.css\");\n",
       "    }\n",
       "  ];\n",
       "\n",
       "  function run_inline_js() {\n",
       "    \n",
       "    if ((root.Bokeh !== undefined) || (force === true)) {\n",
       "      for (var i = 0; i < inline_js.length; i++) {\n",
       "        inline_js[i].call(root, root.Bokeh);\n",
       "      }if (force === true) {\n",
       "        display_loaded();\n",
       "      }} else if (Date.now() < root._bokeh_timeout) {\n",
       "      setTimeout(run_inline_js, 100);\n",
       "    } else if (!root._bokeh_failed_load) {\n",
       "      console.log(\"Bokeh: BokehJS failed to load within specified timeout.\");\n",
       "      root._bokeh_failed_load = true;\n",
       "    } else if (force !== true) {\n",
       "      var cell = $(document.getElementById(\"20d7036c-a9c3-4ae4-a1a0-e12ba058ba29\")).parents('.cell').data().cell;\n",
       "      cell.output_area.append_execute_result(NB_LOAD_WARNING)\n",
       "    }\n",
       "\n",
       "  }\n",
       "\n",
       "  if (root._bokeh_is_loading === 0) {\n",
       "    console.log(\"Bokeh: BokehJS loaded, going straight to plotting\");\n",
       "    run_inline_js();\n",
       "  } else {\n",
       "    load_libs(js_urls, function() {\n",
       "      console.log(\"Bokeh: BokehJS plotting callback run at\", now());\n",
       "      run_inline_js();\n",
       "    });\n",
       "  }\n",
       "}(window));"
      ],
      "application/vnd.bokehjs_load.v0+json": "\n(function(root) {\n  function now() {\n    return new Date();\n  }\n\n  var force = true;\n\n  if (typeof (root._bokeh_onload_callbacks) === \"undefined\" || force === true) {\n    root._bokeh_onload_callbacks = [];\n    root._bokeh_is_loading = undefined;\n  }\n\n  \n\n  \n  if (typeof (root._bokeh_timeout) === \"undefined\" || force === true) {\n    root._bokeh_timeout = Date.now() + 5000;\n    root._bokeh_failed_load = false;\n  }\n\n  var NB_LOAD_WARNING = {'data': {'text/html':\n     \"<div style='background-color: #fdd'>\\n\"+\n     \"<p>\\n\"+\n     \"BokehJS does not appear to have successfully loaded. If loading BokehJS from CDN, this \\n\"+\n     \"may be due to a slow or bad network connection. Possible fixes:\\n\"+\n     \"</p>\\n\"+\n     \"<ul>\\n\"+\n     \"<li>re-rerun `output_notebook()` to attempt to load from CDN again, or</li>\\n\"+\n     \"<li>use INLINE resources instead, as so:</li>\\n\"+\n     \"</ul>\\n\"+\n     \"<code>\\n\"+\n     \"from bokeh.resources import INLINE\\n\"+\n     \"output_notebook(resources=INLINE)\\n\"+\n     \"</code>\\n\"+\n     \"</div>\"}};\n\n  function display_loaded() {\n    var el = document.getElementById(\"20d7036c-a9c3-4ae4-a1a0-e12ba058ba29\");\n    if (el != null) {\n      el.textContent = \"BokehJS is loading...\";\n    }\n    if (root.Bokeh !== undefined) {\n      if (el != null) {\n        el.textContent = \"BokehJS \" + root.Bokeh.version + \" successfully loaded.\";\n      }\n    } else if (Date.now() < root._bokeh_timeout) {\n      setTimeout(display_loaded, 100)\n    }\n  }\n\n\n  function run_callbacks() {\n    try {\n      root._bokeh_onload_callbacks.forEach(function(callback) { callback() });\n    }\n    finally {\n      delete root._bokeh_onload_callbacks\n    }\n    console.info(\"Bokeh: all callbacks have finished\");\n  }\n\n  function load_libs(js_urls, callback) {\n    root._bokeh_onload_callbacks.push(callback);\n    if (root._bokeh_is_loading > 0) {\n      console.log(\"Bokeh: BokehJS is being loaded, scheduling callback at\", now());\n      return null;\n    }\n    if (js_urls == null || js_urls.length === 0) {\n      run_callbacks();\n      return null;\n    }\n    console.log(\"Bokeh: BokehJS not loaded, scheduling load and callback at\", now());\n    root._bokeh_is_loading = js_urls.length;\n    for (var i = 0; i < js_urls.length; i++) {\n      var url = js_urls[i];\n      var s = document.createElement('script');\n      s.src = url;\n      s.async = false;\n      s.onreadystatechange = s.onload = function() {\n        root._bokeh_is_loading--;\n        if (root._bokeh_is_loading === 0) {\n          console.log(\"Bokeh: all BokehJS libraries loaded\");\n          run_callbacks()\n        }\n      };\n      s.onerror = function() {\n        console.warn(\"failed to load library \" + url);\n      };\n      console.log(\"Bokeh: injecting script tag for BokehJS library: \", url);\n      document.getElementsByTagName(\"head\")[0].appendChild(s);\n    }\n  };var element = document.getElementById(\"20d7036c-a9c3-4ae4-a1a0-e12ba058ba29\");\n  if (element == null) {\n    console.log(\"Bokeh: ERROR: autoload.js configured with elementid '20d7036c-a9c3-4ae4-a1a0-e12ba058ba29' but no matching script tag was found. \")\n    return false;\n  }\n\n  var js_urls = [\"https://cdn.pydata.org/bokeh/release/bokeh-0.12.16.min.js\", \"https://cdn.pydata.org/bokeh/release/bokeh-widgets-0.12.16.min.js\", \"https://cdn.pydata.org/bokeh/release/bokeh-tables-0.12.16.min.js\", \"https://cdn.pydata.org/bokeh/release/bokeh-gl-0.12.16.min.js\"];\n\n  var inline_js = [\n    function(Bokeh) {\n      Bokeh.set_log_level(\"info\");\n    },\n    \n    function(Bokeh) {\n      \n    },\n    function(Bokeh) {\n      console.log(\"Bokeh: injecting CSS: https://cdn.pydata.org/bokeh/release/bokeh-0.12.16.min.css\");\n      Bokeh.embed.inject_css(\"https://cdn.pydata.org/bokeh/release/bokeh-0.12.16.min.css\");\n      console.log(\"Bokeh: injecting CSS: https://cdn.pydata.org/bokeh/release/bokeh-widgets-0.12.16.min.css\");\n      Bokeh.embed.inject_css(\"https://cdn.pydata.org/bokeh/release/bokeh-widgets-0.12.16.min.css\");\n      console.log(\"Bokeh: injecting CSS: https://cdn.pydata.org/bokeh/release/bokeh-tables-0.12.16.min.css\");\n      Bokeh.embed.inject_css(\"https://cdn.pydata.org/bokeh/release/bokeh-tables-0.12.16.min.css\");\n    }\n  ];\n\n  function run_inline_js() {\n    \n    if ((root.Bokeh !== undefined) || (force === true)) {\n      for (var i = 0; i < inline_js.length; i++) {\n        inline_js[i].call(root, root.Bokeh);\n      }if (force === true) {\n        display_loaded();\n      }} else if (Date.now() < root._bokeh_timeout) {\n      setTimeout(run_inline_js, 100);\n    } else if (!root._bokeh_failed_load) {\n      console.log(\"Bokeh: BokehJS failed to load within specified timeout.\");\n      root._bokeh_failed_load = true;\n    } else if (force !== true) {\n      var cell = $(document.getElementById(\"20d7036c-a9c3-4ae4-a1a0-e12ba058ba29\")).parents('.cell').data().cell;\n      cell.output_area.append_execute_result(NB_LOAD_WARNING)\n    }\n\n  }\n\n  if (root._bokeh_is_loading === 0) {\n    console.log(\"Bokeh: BokehJS loaded, going straight to plotting\");\n    run_inline_js();\n  } else {\n    load_libs(js_urls, function() {\n      console.log(\"Bokeh: BokehJS plotting callback run at\", now());\n      run_inline_js();\n    });\n  }\n}(window));"
     },
     "metadata": {},
     "output_type": "display_data"
    }
   ],
   "source": [
    "output_notebook()"
   ]
  },
  {
   "cell_type": "code",
   "execution_count": 8,
   "metadata": {
    "collapsed": true
   },
   "outputs": [],
   "source": [
    "def fmt_cool(ds_in):\n",
    "    ds = ds_in.copy(deep=True)\n",
    "    if 'igg' in ds.dims:\n",
    "        ds = ds.sel(igg=1)\n",
    "\n",
    "    if 'g' in ds.dims:\n",
    "        ds = ds.sum('g')\n",
    "            \n",
    "    if 'band' in ds.dims:\n",
    "        try:\n",
    "            ds = ds.squeeze('band')\n",
    "        except ValueError:\n",
    "            ds = ds.sum('band')\n",
    "                \n",
    "    return ds['coolrg']\n",
    "\n",
    "\n",
    "def pltdata_cooling_1(ds_cool=None,\n",
    "                      ds_cool_crd=None, ds_cool_wgt=None):\n",
    "    \n",
    "\n",
    "\n",
    "    colors = all_palettes['Set1'][4]\n",
    "    data = [{'label': 'CLIRAD `coolr_bands`',\n",
    "             'srs': fmt_cool(ds_cool),\n",
    "             'line_dash': 'dashed', 'line_width': 5,\n",
    "             'color': colors[0], 'alpha': .6},\n",
    "            {'label': 'CRD',\n",
    "             'srs': fmt_cool(ds_cool_crd),\n",
    "             'line_dash': 'solid', 'line_width': 1.5,\n",
    "             'marker': 'circle', 'marker_size': 5,\n",
    "             'color': colors[2], 'alpha': 1,},\n",
    "            {'label': 'WGT igg=10 wgt_flux=2',\n",
    "             'srs': fmt_cool(ds_cool_wgt),\n",
    "             'line_dash': 'solid', 'line_width': 3,\n",
    "             'marker': 'square', 'marker_size': 5,\n",
    "             'color': colors[3], 'alpha': .6}]\n",
    "    return data\n",
    "\n",
    "\n",
    "def nice_xlims(pltdata=None, prange=None):\n",
    "    \n",
    "    def get_slice(srs):\n",
    "        return srs.sel(pressure=slice(*prange))\n",
    "    \n",
    "    srss = [d['srs'] for d in pltdata]\n",
    "    vmin = min([get_slice(srs).min() for srs in srss])\n",
    "    vmax = max([get_slice(srs).max() for srs in srss])\n",
    "    dv = (vmax - vmin) * .01\n",
    "    return float(vmin - dv), float(vmax + dv)\n",
    "    \n",
    "\n",
    "def plt_cooling_bokeh(pltdata=None):\n",
    "    '''\n",
    "    Plot a list of cooling rate profiles using bokeh.\n",
    "    '''\n",
    "    ymin = 1e-2 \n",
    "    ymax = 1020 \n",
    "        \n",
    "    p1 = figure(title=\"Linear pressure scale\", \n",
    "                plot_width=400)        \n",
    "    xmin, xmax = nice_xlims(pltdata, prange=(50, 1050))\n",
    "    for d in pltdata:\n",
    "        if 'marker' in d:\n",
    "            getattr(p1, d['marker'])(d['srs'].values, \n",
    "                    d['srs'].coords['pressure'].values,\n",
    "                    color=d['color'], alpha=.7)\n",
    "        p1.line(d['srs'].values, \n",
    "                d['srs'].coords['pressure'].values,\n",
    "                color=d['color'], alpha=d['alpha'], \n",
    "                line_width=d['line_width'], line_dash=d['line_dash'])\n",
    "    \n",
    "    p1.y_range = Range1d(ymax, ymin)\n",
    "    p1.yaxis.axis_label = 'pressure [mb]'   \n",
    "    p1.x_range = Range1d(xmin, xmax)\n",
    "    p1.xaxis.axis_label = 'cooling rate [K/day]'\n",
    "            \n",
    "    p2 = figure(title='Log pressure scale', y_axis_type='log',\n",
    "                plot_width=560)\n",
    "    xmin, xmax = nice_xlims(pltdata, prange=(.01, 200))\n",
    "    \n",
    "    rs = []\n",
    "    for d in pltdata:\n",
    "        rd = []\n",
    "        if 'marker' in d:\n",
    "            r_mark = getattr(p2, d['marker'])(d['srs'].values, \n",
    "                        d['srs'].coords['pressure'].values,\n",
    "                        color=d['color'], alpha=.7)\n",
    "            rd.append(r_mark)\n",
    "        r_line = p2.line(d['srs'].values, \n",
    "                    d['srs'].coords['pressure'].values,\n",
    "                    color=d['color'], alpha=d['alpha'], \n",
    "                    line_width=d['line_width'], line_dash=d['line_dash'])\n",
    "        rd.append(r_line)\n",
    "      \n",
    "        rs.append(rd)\n",
    "        \n",
    "    p2.y_range = Range1d(ymax, ymin)  \n",
    "    p2.yaxis.axis_label = 'pressure [mb]'\n",
    "    \n",
    "    p2.x_range = Range1d(xmin, xmax)\n",
    "    p2.xaxis.axis_label = 'cooling rate [K/day]'\n",
    "    \n",
    "    items = [(d['label'], r) for r, d in zip(rs, pltdata)]\n",
    "    legend = Legend(items=items, location=(10, -30))\n",
    "    legend.label_text_font_size = '8pt'\n",
    "    \n",
    "    p2.add_layout(legend, 'right')  \n",
    "    \n",
    "    show(gridplot(p1, p2, ncols=2, plot_height=500))\n",
    "    \n",
    "\n",
    "def script_plt_cooling():\n",
    "    pltdata = pltdata_cooling_1(\n",
    "        ds_cool=DS_COOL,\n",
    "        ds_cool_crd=DS_COOL_CRD,\n",
    "        ds_cool_wgt=DS_COOL_WGT)\n",
    "    plt_cooling_bokeh(pltdata=pltdata)\n",
    "    print('''FIGURE. Cooling rate profiles.''')"
   ]
  },
  {
   "cell_type": "code",
   "execution_count": 9,
   "metadata": {
    "collapsed": true
   },
   "outputs": [],
   "source": [
    "def fmt_flux(ds_in):\n",
    "    ds = ds_in.copy(deep=True)\n",
    "    \n",
    "    for l in ('level', 'layer'):\n",
    "        if l in ds.data_vars:\n",
    "            if len(ds[l].dims) > 1:\n",
    "                surface = {d: 0 for d in ds.dims if d != 'pressure'}\n",
    "                coord_level = ds[l][surface]\n",
    "                ds.coords[l] = ('pressure', coord_level)\n",
    "            else:\n",
    "                ds.coords[l] = ('pressure', ds[l])\n",
    "        \n",
    "    ds = ds.isel(pressure=[0, 23, -1])\n",
    "        \n",
    "    if 'igg' in ds.dims:\n",
    "        ds = ds.sel(igg=[1])\n",
    "        ds = ds.squeeze('igg').drop('igg')\n",
    "    \n",
    "    if 'g' in ds.dims:\n",
    "        ds = ds.sum('g')\n",
    "            \n",
    "    if 'band' in ds.dims:\n",
    "        try:\n",
    "            ds = ds.squeeze('band').drop('band')\n",
    "        except ValueError:\n",
    "            ds = ds.sum('band')\n",
    "                \n",
    "    df = ds.to_dataframe()\n",
    "    df = df.set_index('level', append=True)               \n",
    "    return df\n",
    "\n",
    "\n",
    "def tbdata_flux(ds_flux=None, ds_flux_crd=None, ds_flux_wgt=None):\n",
    "    ilevels = [0, 23, -1]\n",
    "            \n",
    "    benchmark = {'label': 'CRD',\n",
    "                 'df': fmt_flux(ds_flux_crd)}\n",
    "    \n",
    "    tbs = [{'label': 'WGT igg=10 wgt_flux=1',\n",
    "            'df': fmt_flux(ds_flux_wgt)},\n",
    "           {'label': 'CLIRAD',\n",
    "            'df': fmt_flux(ds_flux)}]\n",
    "    \n",
    "    data = {'benchmark': benchmark, 'others': tbs}\n",
    "    return data\n",
    "\n",
    "\n",
    "def tb_flux(tbdata=None):\n",
    "    benchmark = tbdata['benchmark']\n",
    "    others = tbdata['others']\n",
    "    \n",
    "    def show_tb(d=None):\n",
    "        display.display(d['df'])\n",
    "        print('Table.', 'Fluxes.', d['label'])\n",
    "        \n",
    "    def show_tbdiff(d0=None, d=None):\n",
    "        df = d['df']\n",
    "        df.index = d0['df'].index\n",
    "        display.display(df - d0['df'])\n",
    "        print('Table.', 'Fluxes.', \n",
    "              '({}) - ({})'.format(d['label'], d0['label']))\n",
    "        \n",
    "    show_tb(benchmark)\n",
    "    for d in others:\n",
    "        show_tb(d)\n",
    "        \n",
    "    for d in others:\n",
    "        show_tbdiff(d=d, d0=benchmark)\n",
    "        \n",
    "        \n",
    "def script_tb_flux():\n",
    "    data = tbdata_flux(ds_flux=DS_FLUX,\n",
    "                       ds_flux_crd=DS_FLUX_CRD,\n",
    "                       ds_flux_wgt=DS_FLUX_WGT)\n",
    "    tb_flux(tbdata=data)"
   ]
  },
  {
   "cell_type": "code",
   "execution_count": 10,
   "metadata": {
    "collapsed": true
   },
   "outputs": [],
   "source": [
    "def band_map():\n",
    "    '''\n",
    "    Maps spectral bands in lblnew to spectral bands in clirad.\n",
    "    '''\n",
    "    lblnew2clirad = {'1': '1',\n",
    "            '2': '2',\n",
    "            '3a': '3',\n",
    "            '3b': '4',\n",
    "            '3c': '5',\n",
    "            '4': '6', \n",
    "            '5': '7',\n",
    "            '6': '8',\n",
    "            '7': '9', \n",
    "            '8': '10',\n",
    "            '9': '11'}\n",
    "    \n",
    "    clirad2lblnew = {clirad: lblnew \n",
    "                     for lblnew, clirad in lblnew2clirad.items()}\n",
    "    return clirad2lblnew\n",
    "\n",
    "\n",
    "def gasbands():\n",
    "    bmap = band_map()\n",
    "    gases = list(PARAM['molecule'].keys())\n",
    "    \n",
    "    bands = [bmap[str(b)] for b in PARAM['band']]\n",
    "    return list(itertools.product(gases, bands))\n",
    "\n",
    "\n",
    "def print_bestfit_params():\n",
    "    print('Best-fit values for each (gas, band)')\n",
    "    print('------------------------------------')\n",
    "    for gas, band in gasbands():\n",
    "        print('o {} band{}'.format(gas, band))\n",
    "        param = bestfits.kdist_params(molecule=gas, band=band)\n",
    "        for name, value in sorted(param.items()):\n",
    "            print(2 * ' ' + '{} = {}'.format(name, value))\n",
    "\n",
    "        \n",
    "def print_input_param():        \n",
    "    for name, value in PARAM.items():\n",
    "        print('{} = {}'.format(name, value))\n",
    "        \n",
    "        \n",
    "def print_lblnew_param():\n",
    "    for name, value in sorted(PARAM_LBLNEW.items()):\n",
    "        print('{} = {}'.format(name, value))\n"
   ]
  },
  {
   "cell_type": "code",
   "execution_count": 11,
   "metadata": {
    "collapsed": true,
    "scrolled": false
   },
   "outputs": [],
   "source": [
    "def show_html(s):\n",
    "    display.display(display.HTML(s))\n",
    "\n",
    "    \n",
    "def show_markdown(s):\n",
    "    display.display(display.Markdown(s))\n",
    "\n",
    "    \n",
    "def script():\n",
    "    \n",
    "    title = '### CLIRAD-LW'\n",
    "    s_input = 'Input Parameters'\n",
    "    s_lblnew_param = 'LBLNEW case compaired against'\n",
    "    s_bestfits = 'Best-fit Parameters'\n",
    "    s_plt_cooling = 'Cooling Rate Profiles'\n",
    "    s_tb_flux = 'Flux Comparison'\n",
    "    \n",
    "    # title\n",
    "    show_markdown('### CLIRAD-LW')\n",
    "    \n",
    "    # TOC\n",
    "    show_markdown('### Table of Contents')\n",
    "    show_html(climahtml.getHTML_hrefanchor(s_input))\n",
    "    show_html(climahtml.getHTML_hrefanchor(s_lblnew_param))\n",
    "    show_html(climahtml.getHTML_hrefanchor(s_plt_cooling))\n",
    "    show_html(climahtml.getHTML_hrefanchor(s_tb_flux))\n",
    "    show_html(climahtml.getHTML_hrefanchor(s_bestfits))\n",
    "    \n",
    "    # Input parameters\n",
    "    show_html(climahtml.getHTML_idanchor(s_input))\n",
    "    show_markdown(climahtml.getMarkdown_sectitle(s_input))\n",
    "    print_input_param()\n",
    "    \n",
    "    # LBLNEW parameters \n",
    "    show_html(climahtml.getHTML_idanchor(s_lblnew_param))\n",
    "    show_markdown(climahtml.getMarkdown_sectitle(s_lblnew_param))\n",
    "    print_lblnew_param()\n",
    "    \n",
    "    # Cooling rate profiles\n",
    "    show_html(climahtml.getHTML_idanchor(s_plt_cooling))\n",
    "    show_markdown(climahtml.getMarkdown_sectitle(s_plt_cooling))\n",
    "    script_plt_cooling()\n",
    "    \n",
    "    # Flux comparison\n",
    "    show_html(climahtml.getHTML_idanchor(s_tb_flux))\n",
    "    show_markdown(climahtml.getMarkdown_sectitle(s_tb_flux))\n",
    "    script_tb_flux()\n",
    "    \n",
    "    # Best-fit values\n",
    "    show_html(climahtml.getHTML_idanchor(s_bestfits))\n",
    "    show_markdown(climahtml.getMarkdown_sectitle(s_bestfits))\n",
    "    print_bestfit_params()\n",
    "   \n",
    "    "
   ]
  },
  {
   "cell_type": "code",
   "execution_count": 12,
   "metadata": {
    "collapsed": true,
    "scrolled": false
   },
   "outputs": [
    {
     "data": {
      "text/markdown": [
       "### CLIRAD-LW"
      ],
      "text/plain": [
       "<IPython.core.display.Markdown object>"
      ]
     },
     "metadata": {},
     "output_type": "display_data"
    },
    {
     "data": {
      "text/markdown": [
       "### Table of Contents"
      ],
      "text/plain": [
       "<IPython.core.display.Markdown object>"
      ]
     },
     "metadata": {},
     "output_type": "display_data"
    },
    {
     "data": {
      "text/html": [
       "<a href=\"#Input_Parameters\">Input Parameters</a>"
      ],
      "text/plain": [
       "<IPython.core.display.HTML object>"
      ]
     },
     "metadata": {},
     "output_type": "display_data"
    },
    {
     "data": {
      "text/html": [
       "<a href=\"#LBLNEW_case_compaired_against\">LBLNEW case compaired against</a>"
      ],
      "text/plain": [
       "<IPython.core.display.HTML object>"
      ]
     },
     "metadata": {},
     "output_type": "display_data"
    },
    {
     "data": {
      "text/html": [
       "<a href=\"#Cooling_Rate_Profiles\">Cooling Rate Profiles</a>"
      ],
      "text/plain": [
       "<IPython.core.display.HTML object>"
      ]
     },
     "metadata": {},
     "output_type": "display_data"
    },
    {
     "data": {
      "text/html": [
       "<a href=\"#Flux_Comparison\">Flux Comparison</a>"
      ],
      "text/plain": [
       "<IPython.core.display.HTML object>"
      ]
     },
     "metadata": {},
     "output_type": "display_data"
    },
    {
     "data": {
      "text/html": [
       "<a href=\"#Best-fit_Parameters\">Best-fit Parameters</a>"
      ],
      "text/plain": [
       "<IPython.core.display.HTML object>"
      ]
     },
     "metadata": {},
     "output_type": "display_data"
    },
    {
     "data": {
      "text/html": [
       "<a id=\"Input_Parameters\"></a>"
      ],
      "text/plain": [
       "<IPython.core.display.HTML object>"
      ]
     },
     "metadata": {},
     "output_type": "display_data"
    },
    {
     "data": {
      "text/markdown": [
       "# Input Parameters"
      ],
      "text/plain": [
       "<IPython.core.display.Markdown object>"
      ]
     },
     "metadata": {},
     "output_type": "display_data"
    },
    {
     "name": "stdout",
     "output_type": "stream",
     "text": [
      "atmpro = trp\n",
      "band = [10]\n",
      "commitnumber = 4198f95\n",
      "molecule = {'h2o': 'atmpro'}\n",
      "tsfc = 300\n"
     ]
    },
    {
     "data": {
      "text/html": [
       "<a id=\"LBLNEW_case_compaired_against\"></a>"
      ],
      "text/plain": [
       "<IPython.core.display.HTML object>"
      ]
     },
     "metadata": {},
     "output_type": "display_data"
    },
    {
     "data": {
      "text/markdown": [
       "# LBLNEW case compaired against"
      ],
      "text/plain": [
       "<IPython.core.display.Markdown object>"
      ]
     },
     "metadata": {},
     "output_type": "display_data"
    },
    {
     "name": "stdout",
     "output_type": "stream",
     "text": [
      "atmpro = trp\n",
      "band = 8\n",
      "commitnumber = 5014a19\n",
      "conc = None\n",
      "dv = 0.001\n",
      "klin = 0\n",
      "molecule = h2o\n",
      "ng_adju = [0, -1, 0]\n",
      "ng_refs = [3, 2, 3]\n",
      "nv = 1000\n",
      "option_compute_btable = 0\n",
      "option_compute_ktable = 0\n",
      "option_wgt_flux = 1\n",
      "option_wgt_k = 1\n",
      "ref_pts = [(1, 250), (10, 250), (500, 250)]\n",
      "tsfc = 300\n",
      "vmax = 1900\n",
      "vmin = 1380\n",
      "w_diffuse = [(1.66, 1.66, 1.66), (1.66, 1.66), (1.66, 1.66, 1.66)]\n",
      "wgt = [(0.55, 0.55, 0.85), (0.85, 0.85), (0, 0.3, 0.55)]\n"
     ]
    },
    {
     "data": {
      "text/html": [
       "<a id=\"Cooling_Rate_Profiles\"></a>"
      ],
      "text/plain": [
       "<IPython.core.display.HTML object>"
      ]
     },
     "metadata": {},
     "output_type": "display_data"
    },
    {
     "data": {
      "text/markdown": [
       "# Cooling Rate Profiles"
      ],
      "text/plain": [
       "<IPython.core.display.Markdown object>"
      ]
     },
     "metadata": {},
     "output_type": "display_data"
    },
    {
     "data": {
      "text/html": [
       "\n",
       "<div class=\"bk-root\">\n",
       "    <div class=\"bk-plotdiv\" id=\"f10628b8-e586-45fd-9cea-481e32ecd33b\"></div>\n",
       "</div>"
      ]
     },
     "metadata": {},
     "output_type": "display_data"
    },
    {
     "data": {
      "application/javascript": [
       "(function(root) {\n",
       "  function embed_document(root) {\n",
       "    \n",
       "  var docs_json = {\"e9ca5f44-125a-47ce-a65e-e3c0f1068f67\":{\"roots\":{\"references\":[{\"attributes\":{\"toolbar\":{\"id\":\"ecc423c0-776c-4f9a-ad13-48b2b449cbd5\",\"type\":\"ProxyToolbar\"},\"toolbar_location\":\"above\"},\"id\":\"7d3a40c7-7baa-4d23-83e8-a40ef780dfcf\",\"type\":\"ToolbarBox\"},{\"attributes\":{},\"id\":\"ace67ed8-63d1-4004-bd53-e352a478cbe7\",\"type\":\"LinearScale\"},{\"attributes\":{},\"id\":\"b5ac554e-c4b3-4a67-bd2b-653287c68bb8\",\"type\":\"Selection\"},{\"attributes\":{\"source\":{\"id\":\"e44f5c66-f82c-468f-85f2-223559d24e4e\",\"type\":\"ColumnDataSource\"}},\"id\":\"c40b3fb6-8572-4089-8e64-4b4592d9c031\",\"type\":\"CDSView\"},{\"attributes\":{},\"id\":\"3bf7fa73-b104-44f8-ae40-971311bdf480\",\"type\":\"UnionRenderers\"},{\"attributes\":{\"active_drag\":\"auto\",\"active_inspect\":\"auto\",\"active_scroll\":\"auto\",\"active_tap\":\"auto\",\"tools\":[{\"id\":\"52539839-bf50-4c0c-ae9a-18a3fb436ec2\",\"type\":\"PanTool\"},{\"id\":\"3e0cd33a-8786-4286-8f05-9c2ee3d9fa13\",\"type\":\"WheelZoomTool\"},{\"id\":\"0419617d-aa7b-4672-abc5-09fd55c45b6f\",\"type\":\"BoxZoomTool\"},{\"id\":\"e50bf4a6-727e-4460-b3c1-2412f1766627\",\"type\":\"SaveTool\"},{\"id\":\"70cd74f4-3c5f-428d-bc93-0b39c58c69d7\",\"type\":\"ResetTool\"},{\"id\":\"2830dc97-8ec5-4112-a59f-c079e707d68a\",\"type\":\"HelpTool\"}]},\"id\":\"5d3babba-0ec7-4531-8907-6a593c02794a\",\"type\":\"Toolbar\"},{\"attributes\":{},\"id\":\"bf2372d1-d209-4049-9fc2-8a9df3aaed67\",\"type\":\"Selection\"},{\"attributes\":{},\"id\":\"f0684829-9fbb-406d-aaec-ebe09a38247c\",\"type\":\"UnionRenderers\"},{\"attributes\":{},\"id\":\"bae465c2-8c45-47c5-8a58-bb4ebc2350f5\",\"type\":\"Selection\"},{\"attributes\":{},\"id\":\"b7dc67c2-4a43-4410-a702-926a7f24f5f7\",\"type\":\"UnionRenderers\"},{\"attributes\":{},\"id\":\"f7c65286-bcd2-4527-a98e-4094957afd47\",\"type\":\"Selection\"},{\"attributes\":{\"tools\":[{\"id\":\"52539839-bf50-4c0c-ae9a-18a3fb436ec2\",\"type\":\"PanTool\"},{\"id\":\"3e0cd33a-8786-4286-8f05-9c2ee3d9fa13\",\"type\":\"WheelZoomTool\"},{\"id\":\"0419617d-aa7b-4672-abc5-09fd55c45b6f\",\"type\":\"BoxZoomTool\"},{\"id\":\"e50bf4a6-727e-4460-b3c1-2412f1766627\",\"type\":\"SaveTool\"},{\"id\":\"70cd74f4-3c5f-428d-bc93-0b39c58c69d7\",\"type\":\"ResetTool\"},{\"id\":\"2830dc97-8ec5-4112-a59f-c079e707d68a\",\"type\":\"HelpTool\"},{\"id\":\"f55f331f-4ca1-457c-96c0-f846d4f657cb\",\"type\":\"PanTool\"},{\"id\":\"22fdea7b-f7c1-4579-9a72-ab720e82a3a1\",\"type\":\"WheelZoomTool\"},{\"id\":\"87d90663-c20e-452b-9c22-64e5d5a904f8\",\"type\":\"BoxZoomTool\"},{\"id\":\"fc4d51fb-804c-4424-a4d2-c3d298f9b25c\",\"type\":\"SaveTool\"},{\"id\":\"c34f88ce-aec3-4aca-b794-62707223504c\",\"type\":\"ResetTool\"},{\"id\":\"c1e57675-3595-465f-8daf-ac2ac8dccc28\",\"type\":\"HelpTool\"}]},\"id\":\"ecc423c0-776c-4f9a-ad13-48b2b449cbd5\",\"type\":\"ProxyToolbar\"},{\"attributes\":{\"below\":[{\"id\":\"8127bb55-7b39-4814-88f9-b4d50b43dbab\",\"type\":\"LinearAxis\"}],\"left\":[{\"id\":\"131c7491-5178-4117-b9f8-c50a6fc92ef3\",\"type\":\"LogAxis\"}],\"plot_height\":500,\"plot_width\":560,\"renderers\":[{\"id\":\"8127bb55-7b39-4814-88f9-b4d50b43dbab\",\"type\":\"LinearAxis\"},{\"id\":\"576e57d1-66fc-496e-91a7-025ec950e410\",\"type\":\"Grid\"},{\"id\":\"131c7491-5178-4117-b9f8-c50a6fc92ef3\",\"type\":\"LogAxis\"},{\"id\":\"fdf7ced6-0949-4702-88c8-ec2e82960aa7\",\"type\":\"Grid\"},{\"id\":\"dbb0d251-efe7-49ed-ab45-1611c3b54d29\",\"type\":\"BoxAnnotation\"},{\"id\":\"e31b0dde-8bb5-46f8-8c61-4ac855c2b44d\",\"type\":\"GlyphRenderer\"},{\"id\":\"52322f95-e320-4936-ac8d-b2d17a74a2df\",\"type\":\"GlyphRenderer\"},{\"id\":\"017693ea-1c79-4acc-924d-3c99a8e438b8\",\"type\":\"GlyphRenderer\"},{\"id\":\"227cb5bc-2696-44b8-910e-ea5321254d4f\",\"type\":\"GlyphRenderer\"},{\"id\":\"fc4651e7-e674-4a35-9322-1a44bd27693c\",\"type\":\"GlyphRenderer\"},{\"id\":\"f3526af9-c05f-49f6-8381-0943338e2c70\",\"type\":\"Legend\"}],\"right\":[{\"id\":\"f3526af9-c05f-49f6-8381-0943338e2c70\",\"type\":\"Legend\"}],\"title\":{\"id\":\"512f562e-1fb2-4e2c-add3-18cac9ac8e0a\",\"type\":\"Title\"},\"toolbar\":{\"id\":\"997e60ba-2301-4795-b140-2647db7d9519\",\"type\":\"Toolbar\"},\"toolbar_location\":null,\"x_range\":{\"id\":\"d628ffad-4b04-44af-91b5-994814cdf64e\",\"type\":\"Range1d\"},\"x_scale\":{\"id\":\"8c7f4f40-40df-40d6-ae88-c8af853b42a0\",\"type\":\"LinearScale\"},\"y_range\":{\"id\":\"9f87a5f8-0e9c-485d-b7f7-f34f7ce1a5d7\",\"type\":\"Range1d\"},\"y_scale\":{\"id\":\"a4d9bd25-5d03-4610-9770-ce3ed2fe9de3\",\"type\":\"LogScale\"}},\"id\":\"9f3e4651-dfca-4ac9-aa94-1c3863b5ea7b\",\"subtype\":\"Figure\",\"type\":\"Plot\"},{\"attributes\":{},\"id\":\"c05d4f0b-e91f-4b96-9916-0e6815ff4275\",\"type\":\"UnionRenderers\"},{\"attributes\":{},\"id\":\"c7f2aa24-be74-4562-a2d1-f1f042106ce7\",\"type\":\"Selection\"},{\"attributes\":{\"children\":[{\"id\":\"7d3a40c7-7baa-4d23-83e8-a40ef780dfcf\",\"type\":\"ToolbarBox\"},{\"id\":\"cba8e1c0-792c-48d5-91fa-59cee0a28757\",\"type\":\"Column\"}]},\"id\":\"e3128bda-974f-4784-99fe-f1af79c92c3a\",\"type\":\"Column\"},{\"attributes\":{\"children\":[{\"id\":\"31250b98-7353-4762-9137-e88ae8e0e82a\",\"type\":\"Row\"}]},\"id\":\"cba8e1c0-792c-48d5-91fa-59cee0a28757\",\"type\":\"Column\"},{\"attributes\":{\"num_minor_ticks\":10},\"id\":\"7dff8e33-ca45-4319-9c91-5e0baed22a42\",\"type\":\"LogTicker\"},{\"attributes\":{\"callback\":null,\"data\":{\"x\":{\"__ndarray__\":\"CKqIy9htvr9HrwYoDTW+vyRYJD9Fgr2/nr5UIj/RvL+4xuvqIyq8v/8a94MNkbu/XxbJDXUOu7+KbfcX5qm6v6tyJStUcbq/uE1lD7xzur8r+flrice6vweabI8gjbu/fUGo3lz0vL8knxUgIwO/vwdPdJ8UlL6/kQKFJvv6uL/v7x1JCiuwv5CfvZVNApe/5O0B7SAMmj+VDISNgES1PwPvP43WLMQ/L4T/Ibvazz9j5HZ5hCTQP9OM4qge4cY/h8T7eWwuvj/lrGEc4vOxP97FONUTw6Y/GG3KH1BZoD953X6grH2ZP4cGIr4llpQ/th5+MW2VkD/P2Lh6JfuJP2gksQlRg4M/hqWqngbrez+9eC6wKNxbP8PGiS/SBHS/5A4Vj/2/g7/JrwMNVMuEv9ykrCNqSXu/Dm7zjughaL+9a+zsDblnP+wjsGz4c5A/KlLvFjkloj+8Y5qxtMiuPwlkSZU1pbY/CnRYp+sFvj/wNspVhzfCP+jLfwajK8Q/k7nHDDM4xD89hr8NzjPEP/XBzwu5ysM/Yy4losr2wj8nXQIJ7cnBP6GmM4M6XcA/ILLtWXyvvT+ZPI60jom6P/v32ftmeLc/SrJQYymvtD9R3hNgYnCyP3mfgno1a7E/ZjBnMvNPsj87WMc90mq0P436Qs0yObQ/sZnA0MqNrj+citDftnybPzm4G3Pe4kO/Yg1F8ZJOjL9t1p8Y59yKv2JjoGPu93u/YAsmcH7SX7+8Nbr6h486P8pfh1WvZ1c/LDxYlEwtXz8iaW+k94NtP4jOWwqCpsk/\",\"dtype\":\"float64\",\"shape\":[75]},\"y\":{\"__ndarray__\":\"GhExyth1ND/Sv8nbtpRIP2vylNV0PVE/aTum7souWD/At0SJ8fVgPw3Iuahxymc/MSNhhJWvcD/bTfBN02d3P2zb5nxnaoA/CD5h5MAGhz8NmeH1TyaQP+zrCsc9p5Y/LbKd76fGnz/bLW5ISEmmPww9YvTcQq8/JV2OstnstT8Er5Y7M8G+P0c+r3jqkcU/5h99k6ZBzj88bCIzFzjVP4enV8oyxN0//yH99nXg5D8qOpLLf0jtP5kqGJXUifQ/c9cS8kHP/D+/DpwzojQEQIEmwoanVwxA4lgXt9HgE0BSSZ2AJuIbQAMJih9jjiNA5q4l5INuK0AwTKYKRj0zQNv5fmq8/DpAaCJseHrtQkB/+zpwzoxKQM3MzMzMeFJAZmZmZmZqWEAAAAAAAFxeQM3MzMzMJmJAmpmZmZkfZUBmZmZmZhhoQDMzMzMzEWtAAAAAAAAKbkBmZmZmZoFwQM3MzMzM/XFAMzMzMzN6c0CamZmZmfZ0QAAAAAAAc3ZAZmZmZmbvd0DNzMzMzGt5QDMzMzMz6HpAmpmZmZlkfEAAAAAAAOF9QGZmZmZmXX9AZmZmZuZsgECamZmZGSuBQM3MzMxM6YFAAAAAAICngkAzMzMzs2WDQGZmZmbmI4RAmpmZmRnihEDNzMzMTKCFQAAAAACAXoZAMzMzM7Mch0BmZmZm5tqHQJqZmZkZmYhAzczMzExXiUAAAAAAgBWKQDMzMzOz04pAZmZmZuaRi0CamZmZGVCMQM3MzMxMDo1AAAAAAIDMjUAzMzMzs4qOQGZmZmbmSI9A\",\"dtype\":\"float64\",\"shape\":[75]}},\"selected\":{\"id\":\"514bf60a-c3c0-4cef-89d5-61c447232d18\",\"type\":\"Selection\"},\"selection_policy\":{\"id\":\"007bfad4-792f-406e-b726-c2a0dc82baf7\",\"type\":\"UnionRenderers\"}},\"id\":\"e7643ffd-291a-4570-9ce5-5b01a9819ad2\",\"type\":\"ColumnDataSource\"},{\"attributes\":{\"overlay\":{\"id\":\"83de8a3c-ac32-490d-9a12-7828f683461b\",\"type\":\"BoxAnnotation\"}},\"id\":\"0419617d-aa7b-4672-abc5-09fd55c45b6f\",\"type\":\"BoxZoomTool\"},{\"attributes\":{\"callback\":null,\"end\":0.20254961355110002,\"start\":-0.0173311286611},\"id\":\"a9369601-c9f1-4f31-b6e1-80edc4117a37\",\"type\":\"Range1d\"},{\"attributes\":{\"plot\":{\"id\":\"74b9d560-ecc4-4bdf-9276-c79d4dfeda66\",\"subtype\":\"Figure\",\"type\":\"Plot\"},\"ticker\":{\"id\":\"3ac1c780-b78e-47cc-b03d-9366b2ab9a49\",\"type\":\"BasicTicker\"}},\"id\":\"4b88de91-382f-4554-8197-46307eb292d2\",\"type\":\"Grid\"},{\"attributes\":{},\"id\":\"aa9eacf6-c995-4439-99bc-919ee8c0abc8\",\"type\":\"LinearScale\"},{\"attributes\":{\"below\":[{\"id\":\"4700906a-2b67-4c38-b4c1-5cbaae1d4c0f\",\"type\":\"LinearAxis\"}],\"left\":[{\"id\":\"28f2a8de-1e26-4069-be8d-1796aaea7e02\",\"type\":\"LinearAxis\"}],\"plot_height\":500,\"plot_width\":400,\"renderers\":[{\"id\":\"4700906a-2b67-4c38-b4c1-5cbaae1d4c0f\",\"type\":\"LinearAxis\"},{\"id\":\"4b88de91-382f-4554-8197-46307eb292d2\",\"type\":\"Grid\"},{\"id\":\"28f2a8de-1e26-4069-be8d-1796aaea7e02\",\"type\":\"LinearAxis\"},{\"id\":\"82ff62f4-b615-416d-b604-d0ea6d2a3612\",\"type\":\"Grid\"},{\"id\":\"83de8a3c-ac32-490d-9a12-7828f683461b\",\"type\":\"BoxAnnotation\"},{\"id\":\"73d8498b-baab-4949-a97a-56a2a8f81caa\",\"type\":\"GlyphRenderer\"},{\"id\":\"3b0d920c-71d5-40f2-9436-4bc43226f2fa\",\"type\":\"GlyphRenderer\"},{\"id\":\"630ced13-88ee-4fc9-aa38-1e2f32a74e1f\",\"type\":\"GlyphRenderer\"},{\"id\":\"533caa44-d3f7-43db-bd30-5cad7fea0a8c\",\"type\":\"GlyphRenderer\"},{\"id\":\"b2cf3299-3ceb-4a79-aeca-6654700744fc\",\"type\":\"GlyphRenderer\"}],\"title\":{\"id\":\"5ca19acb-ffa9-479c-8c48-f0b5d6949844\",\"type\":\"Title\"},\"toolbar\":{\"id\":\"5d3babba-0ec7-4531-8907-6a593c02794a\",\"type\":\"Toolbar\"},\"toolbar_location\":null,\"x_range\":{\"id\":\"a9369601-c9f1-4f31-b6e1-80edc4117a37\",\"type\":\"Range1d\"},\"x_scale\":{\"id\":\"ace67ed8-63d1-4004-bd53-e352a478cbe7\",\"type\":\"LinearScale\"},\"y_range\":{\"id\":\"69f1e560-d205-49ec-9651-3906c969757e\",\"type\":\"Range1d\"},\"y_scale\":{\"id\":\"aa9eacf6-c995-4439-99bc-919ee8c0abc8\",\"type\":\"LinearScale\"}},\"id\":\"74b9d560-ecc4-4bdf-9276-c79d4dfeda66\",\"subtype\":\"Figure\",\"type\":\"Plot\"},{\"attributes\":{},\"id\":\"3e0cd33a-8786-4286-8f05-9c2ee3d9fa13\",\"type\":\"WheelZoomTool\"},{\"attributes\":{\"callback\":null,\"data\":{\"x\":{\"__ndarray__\":\"AAAAAAAAAAAAAAAAAAAAAAAAAAAAAAAAAAAAAAAAAAAAAAAAAAAAAAAAAAAAAAAAAAAAAAAAAAAAAAAAAAAAAAAAAAAAAAAAAAAAAAAAAAAAAAAAAAAAAAAAAAAAAAAAAAAAAAAAAAAAAAAAAAAAAAAAAAAAAAAAAAAAAAAAAAAAAAAAAAAAAAAAAAAAAAAAAAAAAAAAAAAAAAAAAAAAAAAAAAAAAAAAAAAAAAAAAAAAAAAAAAAAAAAAAAAAAAAAAAAAAAAAAAAAAAAAAAAAAAAAAAAAAAAAAAAAAAAAAAAAAAAAAAAAAAAAAAAAAAAAAAAAAAAAAAAAAAAAAAAAAAAAAAAAAAAAAAAAAAAAAAAAAAAAAAAAAAAAAAAAAAAAAAAAAAAAAAAAAAAAAAAAAAAAAAAAAAAAAAAAAAAAAAAAAAAAAAAAAAAAAAAAAAAAAAAAAAAAAAAAAAAAAAAAAAAAAAAAAAAAAAAAAAAAAAAAAAAAAAAAAAAAAAAAAAAAAAAAAAAAAAAAAAAAAAAAAAAAAAAAAAAAAAAAAAAAAAAAAAAAAAAAAAAAAAAAAAAAAAAAAAAAAAAAAAAAAAAAAAAAAAAAAAAAAAAAAAAAAAAAAAAAAAAAAAAAAAAAAAAAAAAAAAAAAAAAAAAAAAAAAAAAAAAAAAAAAAAAAAAAAAAAAAAAAAAAAAAAAAAAAAAAAAAAAAAAAAAAAAAAAAAAAAAAAAAAAAAAAAAAAAAAAAAAAAAAAAAAAAAAAAAAAAAAAAAAAAAAAAAAAAAAAAAAAAAAAAAAAAAA\",\"dtype\":\"float64\",\"shape\":[75]},\"y\":{\"__ndarray__\":\"S/O/Q+51ND/Sv8nbtpRIP2vylNV0PVE/aTum7souWD/At0SJ8fVgPw3Iuahxymc/MSNhhJWvcD/bTfBN02d3P2zb5nxnaoA/CD5h5MAGhz8NmeH1TyaQP+zrCsc9p5Y/LbKd76fGnz/bLW5ISEmmPww9YvTcQq8/JV2OstnstT8Er5Y7M8G+P0c+r3jqkcU/5h99k6ZBzj88bCIzFzjVP4enV8oyxN0//yH99nXg5D8qOpLLf0jtP5kqGJXUifQ/c9cS8kHP/D+/DpwzojQEQIEmwoanVwxA4lgXt9HgE0BSSZ2AJuIbQAMJih9jjiNA5q4l5INuK0AwTKYKRj0zQNv5fmq8/DpAaCJseHrtQkB/+zpwzoxKQM3MzMzMeFJAZmZmZmZqWEAAAAAAAFxeQM3MzMzMJmJAmpmZmZkfZUBmZmZmZhhoQDMzMzMzEWtAAAAAAAAKbkBmZmZmZoFwQM3MzMzM/XFAMzMzMzN6c0CamZmZmfZ0QAAAAAAAc3ZAZmZmZmbvd0DNzMzMzGt5QDMzMzMz6HpAmpmZmZlkfEAAAAAAAOF9QGZmZmZmXX9AZmZmZuZsgECamZmZGSuBQM3MzMxM6YFAAAAAAICngkAzMzMzs2WDQGZmZmbmI4RAmpmZmRnihEDNzMzMTKCFQAAAAACAXoZAMzMzM7Mch0BmZmZm5tqHQJqZmZkZmYhAzczMzExXiUAAAAAAgBWKQDMzMzOz04pAZmZmZuaRi0CamZmZGVCMQM3MzMxMDo1AAAAAAIDMjUAzMzMzs4qOQGZmZmbmSI9A\",\"dtype\":\"float64\",\"shape\":[75]}},\"selected\":{\"id\":\"978b69e6-e671-4377-a6ec-32cdca55715b\",\"type\":\"Selection\"},\"selection_policy\":{\"id\":\"02c808b2-780f-4c43-97f7-82edf1f2fb2b\",\"type\":\"UnionRenderers\"}},\"id\":\"e44f5c66-f82c-468f-85f2-223559d24e4e\",\"type\":\"ColumnDataSource\"},{\"attributes\":{\"callback\":null,\"end\":0.01,\"start\":1020},\"id\":\"69f1e560-d205-49ec-9651-3906c969757e\",\"type\":\"Range1d\"},{\"attributes\":{},\"id\":\"52539839-bf50-4c0c-ae9a-18a3fb436ec2\",\"type\":\"PanTool\"},{\"attributes\":{},\"id\":\"e50bf4a6-727e-4460-b3c1-2412f1766627\",\"type\":\"SaveTool\"},{\"attributes\":{\"line_alpha\":0.1,\"line_color\":\"#1f77b4\",\"line_dash\":[6],\"line_width\":5,\"x\":{\"field\":\"x\"},\"y\":{\"field\":\"y\"}},\"id\":\"9b43329b-0e5b-46e9-a561-f787eb656d33\",\"type\":\"Line\"},{\"attributes\":{},\"id\":\"70cd74f4-3c5f-428d-bc93-0b39c58c69d7\",\"type\":\"ResetTool\"},{\"attributes\":{},\"id\":\"2830dc97-8ec5-4112-a59f-c079e707d68a\",\"type\":\"HelpTool\"},{\"attributes\":{\"line_alpha\":0.6,\"line_color\":\"#e41a1c\",\"line_dash\":[6],\"line_width\":5,\"x\":{\"field\":\"x\"},\"y\":{\"field\":\"y\"}},\"id\":\"edca6fa4-dbf7-4f96-b0c6-e156e570ea67\",\"type\":\"Line\"},{\"attributes\":{\"plot\":null,\"text\":\"Linear pressure scale\"},\"id\":\"5ca19acb-ffa9-479c-8c48-f0b5d6949844\",\"type\":\"Title\"},{\"attributes\":{\"axis_label\":\"pressure [mb]\",\"formatter\":{\"id\":\"fdeac45f-1f24-4657-aec3-d98c31ec25b6\",\"type\":\"BasicTickFormatter\"},\"plot\":{\"id\":\"74b9d560-ecc4-4bdf-9276-c79d4dfeda66\",\"subtype\":\"Figure\",\"type\":\"Plot\"},\"ticker\":{\"id\":\"afd3f1ad-a789-4640-9974-e4e4ec54c690\",\"type\":\"BasicTicker\"}},\"id\":\"28f2a8de-1e26-4069-be8d-1796aaea7e02\",\"type\":\"LinearAxis\"},{\"attributes\":{},\"id\":\"c687a569-a586-4da0-9b44-abe40de090dd\",\"type\":\"UnionRenderers\"},{\"attributes\":{},\"id\":\"afd3f1ad-a789-4640-9974-e4e4ec54c690\",\"type\":\"BasicTicker\"},{\"attributes\":{\"data_source\":{\"id\":\"e44f5c66-f82c-468f-85f2-223559d24e4e\",\"type\":\"ColumnDataSource\"},\"glyph\":{\"id\":\"edca6fa4-dbf7-4f96-b0c6-e156e570ea67\",\"type\":\"Line\"},\"hover_glyph\":null,\"muted_glyph\":null,\"nonselection_glyph\":{\"id\":\"9b43329b-0e5b-46e9-a561-f787eb656d33\",\"type\":\"Line\"},\"selection_glyph\":null,\"view\":{\"id\":\"c40b3fb6-8572-4089-8e64-4b4592d9c031\",\"type\":\"CDSView\"}},\"id\":\"73d8498b-baab-4949-a97a-56a2a8f81caa\",\"type\":\"GlyphRenderer\"},{\"attributes\":{\"bottom_units\":\"screen\",\"fill_alpha\":{\"value\":0.5},\"fill_color\":{\"value\":\"lightgrey\"},\"left_units\":\"screen\",\"level\":\"overlay\",\"line_alpha\":{\"value\":1.0},\"line_color\":{\"value\":\"black\"},\"line_dash\":[4,4],\"line_width\":{\"value\":2},\"plot\":null,\"render_mode\":\"css\",\"right_units\":\"screen\",\"top_units\":\"screen\"},\"id\":\"83de8a3c-ac32-490d-9a12-7828f683461b\",\"type\":\"BoxAnnotation\"},{\"attributes\":{},\"id\":\"d279ec9c-69d2-4f60-b576-1061956d3fba\",\"type\":\"Selection\"},{\"attributes\":{\"axis_label\":\"cooling rate [K/day]\",\"formatter\":{\"id\":\"8515b08f-98c4-4969-8923-5eadb0eb2eaa\",\"type\":\"BasicTickFormatter\"},\"plot\":{\"id\":\"74b9d560-ecc4-4bdf-9276-c79d4dfeda66\",\"subtype\":\"Figure\",\"type\":\"Plot\"},\"ticker\":{\"id\":\"3ac1c780-b78e-47cc-b03d-9366b2ab9a49\",\"type\":\"BasicTicker\"}},\"id\":\"4700906a-2b67-4c38-b4c1-5cbaae1d4c0f\",\"type\":\"LinearAxis\"},{\"attributes\":{\"dimension\":1,\"plot\":{\"id\":\"74b9d560-ecc4-4bdf-9276-c79d4dfeda66\",\"subtype\":\"Figure\",\"type\":\"Plot\"},\"ticker\":{\"id\":\"afd3f1ad-a789-4640-9974-e4e4ec54c690\",\"type\":\"BasicTicker\"}},\"id\":\"82ff62f4-b615-416d-b604-d0ea6d2a3612\",\"type\":\"Grid\"},{\"attributes\":{\"line_alpha\":0.1,\"line_color\":\"#1f77b4\",\"line_width\":1.5,\"x\":{\"field\":\"x\"},\"y\":{\"field\":\"y\"}},\"id\":\"ee4a6f6f-eada-4fc8-8a5a-51024865fd0c\",\"type\":\"Line\"},{\"attributes\":{\"line_alpha\":0.6,\"line_color\":\"#984ea3\",\"line_width\":3,\"x\":{\"field\":\"x\"},\"y\":{\"field\":\"y\"}},\"id\":\"e1520183-7508-42e9-ad56-9056fc824496\",\"type\":\"Line\"},{\"attributes\":{},\"id\":\"c1e57675-3595-465f-8daf-ac2ac8dccc28\",\"type\":\"HelpTool\"},{\"attributes\":{\"plot\":{\"id\":\"9f3e4651-dfca-4ac9-aa94-1c3863b5ea7b\",\"subtype\":\"Figure\",\"type\":\"Plot\"},\"ticker\":{\"id\":\"3dd441bb-3964-44d3-9745-815ce95917c0\",\"type\":\"BasicTicker\"}},\"id\":\"576e57d1-66fc-496e-91a7-025ec950e410\",\"type\":\"Grid\"},{\"attributes\":{\"fill_alpha\":{\"value\":0.7},\"fill_color\":{\"value\":\"#984ea3\"},\"line_alpha\":{\"value\":0.7},\"line_color\":{\"value\":\"#984ea3\"},\"x\":{\"field\":\"x\"},\"y\":{\"field\":\"y\"}},\"id\":\"cc98e2eb-ea2b-477d-b756-327ff737ab1e\",\"type\":\"Square\"},{\"attributes\":{\"source\":{\"id\":\"8323f8b7-3c6a-4fd4-9c39-5db862478f5a\",\"type\":\"ColumnDataSource\"}},\"id\":\"c5f6f087-eca3-4870-8c68-bc9be69d5769\",\"type\":\"CDSView\"},{\"attributes\":{\"data_source\":{\"id\":\"57fd6fae-5f4c-49fa-9e1c-635631acfc05\",\"type\":\"ColumnDataSource\"},\"glyph\":{\"id\":\"9d8be2df-ae81-4a21-a5e8-2e7a878e41d5\",\"type\":\"Line\"},\"hover_glyph\":null,\"muted_glyph\":null,\"nonselection_glyph\":{\"id\":\"ee4a6f6f-eada-4fc8-8a5a-51024865fd0c\",\"type\":\"Line\"},\"selection_glyph\":null,\"view\":{\"id\":\"b4b80453-a50a-4361-b626-3b500c97e700\",\"type\":\"CDSView\"}},\"id\":\"630ced13-88ee-4fc9-aa38-1e2f32a74e1f\",\"type\":\"GlyphRenderer\"},{\"attributes\":{\"source\":{\"id\":\"e7643ffd-291a-4570-9ce5-5b01a9819ad2\",\"type\":\"ColumnDataSource\"}},\"id\":\"57c536c8-96fc-48c0-8cce-d6f9e489ecf4\",\"type\":\"CDSView\"},{\"attributes\":{\"line_alpha\":0.1,\"line_color\":\"#1f77b4\",\"line_width\":3,\"x\":{\"field\":\"x\"},\"y\":{\"field\":\"y\"}},\"id\":\"2baef9f2-b3e8-4809-aada-83807b77d1e4\",\"type\":\"Line\"},{\"attributes\":{\"fill_alpha\":{\"value\":0.7},\"fill_color\":{\"value\":\"#4daf4a\"},\"line_alpha\":{\"value\":0.7},\"line_color\":{\"value\":\"#4daf4a\"},\"x\":{\"field\":\"x\"},\"y\":{\"field\":\"y\"}},\"id\":\"b3a6a043-e044-47bb-89b3-e6f0aa1a8a47\",\"type\":\"Circle\"},{\"attributes\":{\"data_source\":{\"id\":\"8db65364-09a2-4584-8b13-5b69f8bfaf99\",\"type\":\"ColumnDataSource\"},\"glyph\":{\"id\":\"cc98e2eb-ea2b-477d-b756-327ff737ab1e\",\"type\":\"Square\"},\"hover_glyph\":null,\"muted_glyph\":null,\"nonselection_glyph\":{\"id\":\"47ea986d-8f14-44b6-bce6-4f57dac54fbb\",\"type\":\"Square\"},\"selection_glyph\":null,\"view\":{\"id\":\"ce5d6bed-f892-4e79-8c98-9f0f40c6f927\",\"type\":\"CDSView\"}},\"id\":\"533caa44-d3f7-43db-bd30-5cad7fea0a8c\",\"type\":\"GlyphRenderer\"},{\"attributes\":{\"items\":[{\"id\":\"290df005-8519-4624-bcb4-0d2e7c4b0a03\",\"type\":\"LegendItem\"},{\"id\":\"5fe3cf06-37cf-4db5-bc1b-7863b3e27f5c\",\"type\":\"LegendItem\"},{\"id\":\"c8a7db83-abba-4a4d-820b-36b0313d596b\",\"type\":\"LegendItem\"}],\"label_text_font_size\":{\"value\":\"8pt\"},\"location\":[10,-30],\"plot\":{\"id\":\"9f3e4651-dfca-4ac9-aa94-1c3863b5ea7b\",\"subtype\":\"Figure\",\"type\":\"Plot\"}},\"id\":\"f3526af9-c05f-49f6-8381-0943338e2c70\",\"type\":\"Legend\"},{\"attributes\":{\"source\":{\"id\":\"af8b600c-b166-45bf-b876-09be5ac53720\",\"type\":\"ColumnDataSource\"}},\"id\":\"8fc0e5dc-3c8b-4ef9-8016-babe5ca48d74\",\"type\":\"CDSView\"},{\"attributes\":{\"data_source\":{\"id\":\"8a0dc0a9-a999-45ab-8680-33c7d5339762\",\"type\":\"ColumnDataSource\"},\"glyph\":{\"id\":\"b3a6a043-e044-47bb-89b3-e6f0aa1a8a47\",\"type\":\"Circle\"},\"hover_glyph\":null,\"muted_glyph\":null,\"nonselection_glyph\":{\"id\":\"4d119f9b-3a8a-49fe-8fc4-0431cc1a98ca\",\"type\":\"Circle\"},\"selection_glyph\":null,\"view\":{\"id\":\"fd22e292-f522-4a66-8aa1-6c7deea78e44\",\"type\":\"CDSView\"}},\"id\":\"52322f95-e320-4936-ac8d-b2d17a74a2df\",\"type\":\"GlyphRenderer\"},{\"attributes\":{\"fill_alpha\":{\"value\":0.7},\"fill_color\":{\"value\":\"#4daf4a\"},\"line_alpha\":{\"value\":0.7},\"line_color\":{\"value\":\"#4daf4a\"},\"x\":{\"field\":\"x\"},\"y\":{\"field\":\"y\"}},\"id\":\"26741328-446b-45c7-ab55-45a9a6f33dbe\",\"type\":\"Circle\"},{\"attributes\":{\"data_source\":{\"id\":\"af8b600c-b166-45bf-b876-09be5ac53720\",\"type\":\"ColumnDataSource\"},\"glyph\":{\"id\":\"e1520183-7508-42e9-ad56-9056fc824496\",\"type\":\"Line\"},\"hover_glyph\":null,\"muted_glyph\":null,\"nonselection_glyph\":{\"id\":\"2baef9f2-b3e8-4809-aada-83807b77d1e4\",\"type\":\"Line\"},\"selection_glyph\":null,\"view\":{\"id\":\"8fc0e5dc-3c8b-4ef9-8016-babe5ca48d74\",\"type\":\"CDSView\"}},\"id\":\"b2cf3299-3ceb-4a79-aeca-6654700744fc\",\"type\":\"GlyphRenderer\"},{\"attributes\":{\"line_color\":\"#4daf4a\",\"line_width\":1.5,\"x\":{\"field\":\"x\"},\"y\":{\"field\":\"y\"}},\"id\":\"7df81153-ce8a-4980-af78-7f3722f2ebfa\",\"type\":\"Line\"},{\"attributes\":{},\"id\":\"3ac1c780-b78e-47cc-b03d-9366b2ab9a49\",\"type\":\"BasicTicker\"},{\"attributes\":{\"source\":{\"id\":\"8a0dc0a9-a999-45ab-8680-33c7d5339762\",\"type\":\"ColumnDataSource\"}},\"id\":\"fd22e292-f522-4a66-8aa1-6c7deea78e44\",\"type\":\"CDSView\"},{\"attributes\":{\"callback\":null,\"data\":{\"x\":{\"__ndarray__\":\"HwV3SlHjwL8x0Q6IocHAv/mdvAbUc8C/yxdPIWgvwL+Gt330Xci/v14/ptQBP7+/Rq5rrNe7vr9+7MMAjUq+vzk8sde/8r2/EtZZHLfBvb9bqtsSrMW9vw8fGfP8Fb6/vC02b/HNvr+gbgB2jO2/v1RN3RbH0b6/jyehqEIvub8oN/Zmpmywv/9X81YMM5e/TfRJ1cl4mz+2BoWUNRK2P0TUGINfoMQ/R2RCvaXTzz+ShFV9ihHQPwTxVAr2tsY/+IjfnP3LvT/6ZyI58C6yP6wMPOwHUKg/A6RQvWYKoj+fJMuKBhqcP+gEgM8835Y/kWdP8hwVkz+z3nGFxzSPP0EsW/TXNog/Esn4PozJgT/Z4rycX7ZlP+x+6knS+3W/UftUz1OUhr96ZQUJHEmHv5CmOjr/UX2/CtARD3CSaL8NBNq9tpZrP/eaM6hm/JM/FKdflYERpz8X+Lj7CzOwP6u259MvC7I/5e3sdH1Ztz84JJueV0HAP2QVGL3sl8M/U2GVvCjjwz/bMxBIsrPDP1SPot5PncM/apGt1tGywz9+UJeBs33DP6cJhpF6f8I/Si+t/fm7wD9OGP0m99O8PzKlzZXQG7g/UjSvgZ4atD+4SJ44pV+xP5Tr7+6ZdLA/7mTBQ9vEsT8VSwadWDK0PxasjxRtR7Q/25mMNKTDrj8J9lWzVF2bP+hKOimUmFW/kgoAbEwUj7/fiKoZM3SOvzjlXz9Aw4G/SEwTOG8pbr/OHP91Xw9SvwAU8ykHLOG+jrYarF6KQT/4cpcw4QVjPwQ917CXi8k/\",\"dtype\":\"float64\",\"shape\":[75]},\"y\":{\"__ndarray__\":\"GhExyth1ND/Sv8nbtpRIP2vylNV0PVE/aTum7souWD/At0SJ8fVgPw3Iuahxymc/MSNhhJWvcD/bTfBN02d3P2zb5nxnaoA/CD5h5MAGhz8NmeH1TyaQP+zrCsc9p5Y/LbKd76fGnz/bLW5ISEmmPww9YvTcQq8/JV2OstnstT8Er5Y7M8G+P0c+r3jqkcU/5h99k6ZBzj88bCIzFzjVP4enV8oyxN0//yH99nXg5D8qOpLLf0jtP5kqGJXUifQ/c9cS8kHP/D+/DpwzojQEQIEmwoanVwxA4lgXt9HgE0BSSZ2AJuIbQAMJih9jjiNA5q4l5INuK0AwTKYKRj0zQNv5fmq8/DpAaCJseHrtQkB/+zpwzoxKQM3MzMzMeFJAZmZmZmZqWEAAAAAAAFxeQM3MzMzMJmJAmpmZmZkfZUBmZmZmZhhoQDMzMzMzEWtAAAAAAAAKbkBmZmZmZoFwQM3MzMzM/XFAMzMzMzN6c0CamZmZmfZ0QAAAAAAAc3ZAZmZmZmbvd0DNzMzMzGt5QDMzMzMz6HpAmpmZmZlkfEAAAAAAAOF9QGZmZmZmXX9AZmZmZuZsgECamZmZGSuBQM3MzMxM6YFAAAAAAICngkAzMzMzs2WDQGZmZmbmI4RAmpmZmRnihEDNzMzMTKCFQAAAAACAXoZAMzMzM7Mch0BmZmZm5tqHQJqZmZkZmYhAzczMzExXiUAAAAAAgBWKQDMzMzOz04pAZmZmZuaRi0CamZmZGVCMQM3MzMxMDo1AAAAAAIDMjUAzMzMzs4qOQGZmZmbmSI9A\",\"dtype\":\"float64\",\"shape\":[75]}},\"selected\":{\"id\":\"d279ec9c-69d2-4f60-b576-1061956d3fba\",\"type\":\"Selection\"},\"selection_policy\":{\"id\":\"c687a569-a586-4da0-9b44-abe40de090dd\",\"type\":\"UnionRenderers\"}},\"id\":\"af8b600c-b166-45bf-b876-09be5ac53720\",\"type\":\"ColumnDataSource\"},{\"attributes\":{\"fill_alpha\":{\"value\":0.1},\"fill_color\":{\"value\":\"#1f77b4\"},\"line_alpha\":{\"value\":0.1},\"line_color\":{\"value\":\"#1f77b4\"},\"x\":{\"field\":\"x\"},\"y\":{\"field\":\"y\"}},\"id\":\"4d119f9b-3a8a-49fe-8fc4-0431cc1a98ca\",\"type\":\"Circle\"},{\"attributes\":{},\"id\":\"22fdea7b-f7c1-4579-9a72-ab720e82a3a1\",\"type\":\"WheelZoomTool\"},{\"attributes\":{\"children\":[{\"id\":\"74b9d560-ecc4-4bdf-9276-c79d4dfeda66\",\"subtype\":\"Figure\",\"type\":\"Plot\"},{\"id\":\"9f3e4651-dfca-4ac9-aa94-1c3863b5ea7b\",\"subtype\":\"Figure\",\"type\":\"Plot\"}]},\"id\":\"31250b98-7353-4762-9137-e88ae8e0e82a\",\"type\":\"Row\"},{\"attributes\":{},\"id\":\"a4d9bd25-5d03-4610-9770-ce3ed2fe9de3\",\"type\":\"LogScale\"},{\"attributes\":{\"line_alpha\":0.1,\"line_color\":\"#1f77b4\",\"line_width\":3,\"x\":{\"field\":\"x\"},\"y\":{\"field\":\"y\"}},\"id\":\"268d1982-5161-4b69-a4df-ed7dbedce8b1\",\"type\":\"Line\"},{\"attributes\":{\"callback\":null,\"data\":{\"x\":{\"__ndarray__\":\"HwV3SlHjwL8x0Q6IocHAv/mdvAbUc8C/yxdPIWgvwL+Gt330Xci/v14/ptQBP7+/Rq5rrNe7vr9+7MMAjUq+vzk8sde/8r2/EtZZHLfBvb9bqtsSrMW9vw8fGfP8Fb6/vC02b/HNvr+gbgB2jO2/v1RN3RbH0b6/jyehqEIvub8oN/Zmpmywv/9X81YMM5e/TfRJ1cl4mz+2BoWUNRK2P0TUGINfoMQ/R2RCvaXTzz+ShFV9ihHQPwTxVAr2tsY/+IjfnP3LvT/6ZyI58C6yP6wMPOwHUKg/A6RQvWYKoj+fJMuKBhqcP+gEgM8835Y/kWdP8hwVkz+z3nGFxzSPP0EsW/TXNog/Esn4PozJgT/Z4rycX7ZlP+x+6knS+3W/UftUz1OUhr96ZQUJHEmHv5CmOjr/UX2/CtARD3CSaL8NBNq9tpZrP/eaM6hm/JM/FKdflYERpz8X+Lj7CzOwP6u259MvC7I/5e3sdH1Ztz84JJueV0HAP2QVGL3sl8M/U2GVvCjjwz/bMxBIsrPDP1SPot5PncM/apGt1tGywz9+UJeBs33DP6cJhpF6f8I/Si+t/fm7wD9OGP0m99O8PzKlzZXQG7g/UjSvgZ4atD+4SJ44pV+xP5Tr7+6ZdLA/7mTBQ9vEsT8VSwadWDK0PxasjxRtR7Q/25mMNKTDrj8J9lWzVF2bP+hKOimUmFW/kgoAbEwUj7/fiKoZM3SOvzjlXz9Aw4G/SEwTOG8pbr/OHP91Xw9SvwAU8ykHLOG+jrYarF6KQT/4cpcw4QVjPwQ917CXi8k/\",\"dtype\":\"float64\",\"shape\":[75]},\"y\":{\"__ndarray__\":\"GhExyth1ND/Sv8nbtpRIP2vylNV0PVE/aTum7souWD/At0SJ8fVgPw3Iuahxymc/MSNhhJWvcD/bTfBN02d3P2zb5nxnaoA/CD5h5MAGhz8NmeH1TyaQP+zrCsc9p5Y/LbKd76fGnz/bLW5ISEmmPww9YvTcQq8/JV2OstnstT8Er5Y7M8G+P0c+r3jqkcU/5h99k6ZBzj88bCIzFzjVP4enV8oyxN0//yH99nXg5D8qOpLLf0jtP5kqGJXUifQ/c9cS8kHP/D+/DpwzojQEQIEmwoanVwxA4lgXt9HgE0BSSZ2AJuIbQAMJih9jjiNA5q4l5INuK0AwTKYKRj0zQNv5fmq8/DpAaCJseHrtQkB/+zpwzoxKQM3MzMzMeFJAZmZmZmZqWEAAAAAAAFxeQM3MzMzMJmJAmpmZmZkfZUBmZmZmZhhoQDMzMzMzEWtAAAAAAAAKbkBmZmZmZoFwQM3MzMzM/XFAMzMzMzN6c0CamZmZmfZ0QAAAAAAAc3ZAZmZmZmbvd0DNzMzMzGt5QDMzMzMz6HpAmpmZmZlkfEAAAAAAAOF9QGZmZmZmXX9AZmZmZuZsgECamZmZGSuBQM3MzMxM6YFAAAAAAICngkAzMzMzs2WDQGZmZmbmI4RAmpmZmRnihEDNzMzMTKCFQAAAAACAXoZAMzMzM7Mch0BmZmZm5tqHQJqZmZkZmYhAzczMzExXiUAAAAAAgBWKQDMzMzOz04pAZmZmZuaRi0CamZmZGVCMQM3MzMxMDo1AAAAAAIDMjUAzMzMzs4qOQGZmZmbmSI9A\",\"dtype\":\"float64\",\"shape\":[75]}},\"selected\":{\"id\":\"43cf99ac-0c39-4819-a4cf-6f5f2d2327c8\",\"type\":\"Selection\"},\"selection_policy\":{\"id\":\"aef23698-c315-496c-99ef-963ab6dfb30e\",\"type\":\"UnionRenderers\"}},\"id\":\"8db65364-09a2-4584-8b13-5b69f8bfaf99\",\"type\":\"ColumnDataSource\"},{\"attributes\":{\"callback\":null,\"data\":{\"x\":{\"__ndarray__\":\"HwV3SlHjwL8x0Q6IocHAv/mdvAbUc8C/yxdPIWgvwL+Gt330Xci/v14/ptQBP7+/Rq5rrNe7vr9+7MMAjUq+vzk8sde/8r2/EtZZHLfBvb9bqtsSrMW9vw8fGfP8Fb6/vC02b/HNvr+gbgB2jO2/v1RN3RbH0b6/jyehqEIvub8oN/Zmpmywv/9X81YMM5e/TfRJ1cl4mz+2BoWUNRK2P0TUGINfoMQ/R2RCvaXTzz+ShFV9ihHQPwTxVAr2tsY/+IjfnP3LvT/6ZyI58C6yP6wMPOwHUKg/A6RQvWYKoj+fJMuKBhqcP+gEgM8835Y/kWdP8hwVkz+z3nGFxzSPP0EsW/TXNog/Esn4PozJgT/Z4rycX7ZlP+x+6knS+3W/UftUz1OUhr96ZQUJHEmHv5CmOjr/UX2/CtARD3CSaL8NBNq9tpZrP/eaM6hm/JM/FKdflYERpz8X+Lj7CzOwP6u259MvC7I/5e3sdH1Ztz84JJueV0HAP2QVGL3sl8M/U2GVvCjjwz/bMxBIsrPDP1SPot5PncM/apGt1tGywz9+UJeBs33DP6cJhpF6f8I/Si+t/fm7wD9OGP0m99O8PzKlzZXQG7g/UjSvgZ4atD+4SJ44pV+xP5Tr7+6ZdLA/7mTBQ9vEsT8VSwadWDK0PxasjxRtR7Q/25mMNKTDrj8J9lWzVF2bP+hKOimUmFW/kgoAbEwUj7/fiKoZM3SOvzjlXz9Aw4G/SEwTOG8pbr/OHP91Xw9SvwAU8ykHLOG+jrYarF6KQT/4cpcw4QVjPwQ917CXi8k/\",\"dtype\":\"float64\",\"shape\":[75]},\"y\":{\"__ndarray__\":\"GhExyth1ND/Sv8nbtpRIP2vylNV0PVE/aTum7souWD/At0SJ8fVgPw3Iuahxymc/MSNhhJWvcD/bTfBN02d3P2zb5nxnaoA/CD5h5MAGhz8NmeH1TyaQP+zrCsc9p5Y/LbKd76fGnz/bLW5ISEmmPww9YvTcQq8/JV2OstnstT8Er5Y7M8G+P0c+r3jqkcU/5h99k6ZBzj88bCIzFzjVP4enV8oyxN0//yH99nXg5D8qOpLLf0jtP5kqGJXUifQ/c9cS8kHP/D+/DpwzojQEQIEmwoanVwxA4lgXt9HgE0BSSZ2AJuIbQAMJih9jjiNA5q4l5INuK0AwTKYKRj0zQNv5fmq8/DpAaCJseHrtQkB/+zpwzoxKQM3MzMzMeFJAZmZmZmZqWEAAAAAAAFxeQM3MzMzMJmJAmpmZmZkfZUBmZmZmZhhoQDMzMzMzEWtAAAAAAAAKbkBmZmZmZoFwQM3MzMzM/XFAMzMzMzN6c0CamZmZmfZ0QAAAAAAAc3ZAZmZmZmbvd0DNzMzMzGt5QDMzMzMz6HpAmpmZmZlkfEAAAAAAAOF9QGZmZmZmXX9AZmZmZuZsgECamZmZGSuBQM3MzMxM6YFAAAAAAICngkAzMzMzs2WDQGZmZmbmI4RAmpmZmRnihEDNzMzMTKCFQAAAAACAXoZAMzMzM7Mch0BmZmZm5tqHQJqZmZkZmYhAzczMzExXiUAAAAAAgBWKQDMzMzOz04pAZmZmZuaRi0CamZmZGVCMQM3MzMxMDo1AAAAAAIDMjUAzMzMzs4qOQGZmZmbmSI9A\",\"dtype\":\"float64\",\"shape\":[75]}},\"selected\":{\"id\":\"bae465c2-8c45-47c5-8a58-bb4ebc2350f5\",\"type\":\"Selection\"},\"selection_policy\":{\"id\":\"f0684829-9fbb-406d-aaec-ebe09a38247c\",\"type\":\"UnionRenderers\"}},\"id\":\"a0e47aec-2f71-443b-8891-af10261e0eb7\",\"type\":\"ColumnDataSource\"},{\"attributes\":{\"data_source\":{\"id\":\"8323f8b7-3c6a-4fd4-9c39-5db862478f5a\",\"type\":\"ColumnDataSource\"},\"glyph\":{\"id\":\"487f4c08-d45d-4e90-85cf-c4b69fd1430d\",\"type\":\"Line\"},\"hover_glyph\":null,\"muted_glyph\":null,\"nonselection_glyph\":{\"id\":\"5e8e3718-5594-4c86-a5d1-460911332b24\",\"type\":\"Line\"},\"selection_glyph\":null,\"view\":{\"id\":\"c5f6f087-eca3-4870-8c68-bc9be69d5769\",\"type\":\"CDSView\"}},\"id\":\"e31b0dde-8bb5-46f8-8c61-4ac855c2b44d\",\"type\":\"GlyphRenderer\"},{\"attributes\":{\"callback\":null,\"data\":{\"x\":{\"__ndarray__\":\"CKqIy9htvr9HrwYoDTW+vyRYJD9Fgr2/nr5UIj/RvL+4xuvqIyq8v/8a94MNkbu/XxbJDXUOu7+KbfcX5qm6v6tyJStUcbq/uE1lD7xzur8r+flrice6vweabI8gjbu/fUGo3lz0vL8knxUgIwO/vwdPdJ8UlL6/kQKFJvv6uL/v7x1JCiuwv5CfvZVNApe/5O0B7SAMmj+VDISNgES1PwPvP43WLMQ/L4T/Ibvazz9j5HZ5hCTQP9OM4qge4cY/h8T7eWwuvj/lrGEc4vOxP97FONUTw6Y/GG3KH1BZoD953X6grH2ZP4cGIr4llpQ/th5+MW2VkD/P2Lh6JfuJP2gksQlRg4M/hqWqngbrez+9eC6wKNxbP8PGiS/SBHS/5A4Vj/2/g7/JrwMNVMuEv9ykrCNqSXu/Dm7zjughaL+9a+zsDblnP+wjsGz4c5A/KlLvFjkloj+8Y5qxtMiuPwlkSZU1pbY/CnRYp+sFvj/wNspVhzfCP+jLfwajK8Q/k7nHDDM4xD89hr8NzjPEP/XBzwu5ysM/Yy4losr2wj8nXQIJ7cnBP6GmM4M6XcA/ILLtWXyvvT+ZPI60jom6P/v32ftmeLc/SrJQYymvtD9R3hNgYnCyP3mfgno1a7E/ZjBnMvNPsj87WMc90mq0P436Qs0yObQ/sZnA0MqNrj+citDftnybPzm4G3Pe4kO/Yg1F8ZJOjL9t1p8Y59yKv2JjoGPu93u/YAsmcH7SX7+8Nbr6h486P8pfh1WvZ1c/LDxYlEwtXz8iaW+k94NtP4jOWwqCpsk/\",\"dtype\":\"float64\",\"shape\":[75]},\"y\":{\"__ndarray__\":\"GhExyth1ND/Sv8nbtpRIP2vylNV0PVE/aTum7souWD/At0SJ8fVgPw3Iuahxymc/MSNhhJWvcD/bTfBN02d3P2zb5nxnaoA/CD5h5MAGhz8NmeH1TyaQP+zrCsc9p5Y/LbKd76fGnz/bLW5ISEmmPww9YvTcQq8/JV2OstnstT8Er5Y7M8G+P0c+r3jqkcU/5h99k6ZBzj88bCIzFzjVP4enV8oyxN0//yH99nXg5D8qOpLLf0jtP5kqGJXUifQ/c9cS8kHP/D+/DpwzojQEQIEmwoanVwxA4lgXt9HgE0BSSZ2AJuIbQAMJih9jjiNA5q4l5INuK0AwTKYKRj0zQNv5fmq8/DpAaCJseHrtQkB/+zpwzoxKQM3MzMzMeFJAZmZmZmZqWEAAAAAAAFxeQM3MzMzMJmJAmpmZmZkfZUBmZmZmZhhoQDMzMzMzEWtAAAAAAAAKbkBmZmZmZoFwQM3MzMzM/XFAMzMzMzN6c0CamZmZmfZ0QAAAAAAAc3ZAZmZmZmbvd0DNzMzMzGt5QDMzMzMz6HpAmpmZmZlkfEAAAAAAAOF9QGZmZmZmXX9AZmZmZuZsgECamZmZGSuBQM3MzMxM6YFAAAAAAICngkAzMzMzs2WDQGZmZmbmI4RAmpmZmRnihEDNzMzMTKCFQAAAAACAXoZAMzMzM7Mch0BmZmZm5tqHQJqZmZkZmYhAzczMzExXiUAAAAAAgBWKQDMzMzOz04pAZmZmZuaRi0CamZmZGVCMQM3MzMxMDo1AAAAAAIDMjUAzMzMzs4qOQGZmZmbmSI9A\",\"dtype\":\"float64\",\"shape\":[75]}},\"selected\":{\"id\":\"bf2372d1-d209-4049-9fc2-8a9df3aaed67\",\"type\":\"Selection\"},\"selection_policy\":{\"id\":\"3bf7fa73-b104-44f8-ae40-971311bdf480\",\"type\":\"UnionRenderers\"}},\"id\":\"8a0dc0a9-a999-45ab-8680-33c7d5339762\",\"type\":\"ColumnDataSource\"},{\"attributes\":{\"line_color\":\"#4daf4a\",\"line_width\":1.5,\"x\":{\"field\":\"x\"},\"y\":{\"field\":\"y\"}},\"id\":\"9d8be2df-ae81-4a21-a5e8-2e7a878e41d5\",\"type\":\"Line\"},{\"attributes\":{\"fill_alpha\":{\"value\":0.1},\"fill_color\":{\"value\":\"#1f77b4\"},\"line_alpha\":{\"value\":0.1},\"line_color\":{\"value\":\"#1f77b4\"},\"x\":{\"field\":\"x\"},\"y\":{\"field\":\"y\"}},\"id\":\"b2846f9a-39d6-464a-aa77-365552a96cda\",\"type\":\"Circle\"},{\"attributes\":{\"data_source\":{\"id\":\"a0e47aec-2f71-443b-8891-af10261e0eb7\",\"type\":\"ColumnDataSource\"},\"glyph\":{\"id\":\"d763ab30-d20d-4b2f-a0dc-c503bc109369\",\"type\":\"Square\"},\"hover_glyph\":null,\"muted_glyph\":null,\"nonselection_glyph\":{\"id\":\"1564ea47-648f-4ee2-8049-edea58e1deb2\",\"type\":\"Square\"},\"selection_glyph\":null,\"view\":{\"id\":\"8af914ab-b28f-43ab-8699-cd34a15f4432\",\"type\":\"CDSView\"}},\"id\":\"227cb5bc-2696-44b8-910e-ea5321254d4f\",\"type\":\"GlyphRenderer\"},{\"attributes\":{\"callback\":null,\"end\":0.01,\"start\":1020},\"id\":\"9f87a5f8-0e9c-485d-b7f7-f34f7ce1a5d7\",\"type\":\"Range1d\"},{\"attributes\":{\"dimension\":1,\"plot\":{\"id\":\"9f3e4651-dfca-4ac9-aa94-1c3863b5ea7b\",\"subtype\":\"Figure\",\"type\":\"Plot\"},\"ticker\":{\"id\":\"7dff8e33-ca45-4319-9c91-5e0baed22a42\",\"type\":\"LogTicker\"}},\"id\":\"fdf7ced6-0949-4702-88c8-ec2e82960aa7\",\"type\":\"Grid\"},{\"attributes\":{\"source\":{\"id\":\"57fd6fae-5f4c-49fa-9e1c-635631acfc05\",\"type\":\"ColumnDataSource\"}},\"id\":\"b4b80453-a50a-4361-b626-3b500c97e700\",\"type\":\"CDSView\"},{\"attributes\":{\"fill_alpha\":{\"value\":0.1},\"fill_color\":{\"value\":\"#1f77b4\"},\"line_alpha\":{\"value\":0.1},\"line_color\":{\"value\":\"#1f77b4\"},\"x\":{\"field\":\"x\"},\"y\":{\"field\":\"y\"}},\"id\":\"47ea986d-8f14-44b6-bce6-4f57dac54fbb\",\"type\":\"Square\"},{\"attributes\":{\"callback\":null,\"data\":{\"x\":{\"__ndarray__\":\"AAAAAAAAAAAAAAAAAAAAAAAAAAAAAAAAAAAAAAAAAAAAAAAAAAAAAAAAAAAAAAAAAAAAAAAAAAAAAAAAAAAAAAAAAAAAAAAAAAAAAAAAAAAAAAAAAAAAAAAAAAAAAAAAAAAAAAAAAAAAAAAAAAAAAAAAAAAAAAAAAAAAAAAAAAAAAAAAAAAAAAAAAAAAAAAAAAAAAAAAAAAAAAAAAAAAAAAAAAAAAAAAAAAAAAAAAAAAAAAAAAAAAAAAAAAAAAAAAAAAAAAAAAAAAAAAAAAAAAAAAAAAAAAAAAAAAAAAAAAAAAAAAAAAAAAAAAAAAAAAAAAAAAAAAAAAAAAAAAAAAAAAAAAAAAAAAAAAAAAAAAAAAAAAAAAAAAAAAAAAAAAAAAAAAAAAAAAAAAAAAAAAAAAAAAAAAAAAAAAAAAAAAAAAAAAAAAAAAAAAAAAAAAAAAAAAAAAAAAAAAAAAAAAAAAAAAAAAAAAAAAAAAAAAAAAAAAAAAAAAAAAAAAAAAAAAAAAAAAAAAAAAAAAAAAAAAAAAAAAAAAAAAAAAAAAAAAAAAAAAAAAAAAAAAAAAAAAAAAAAAAAAAAAAAAAAAAAAAAAAAAAAAAAAAAAAAAAAAAAAAAAAAAAAAAAAAAAAAAAAAAAAAAAAAAAAAAAAAAAAAAAAAAAAAAAAAAAAAAAAAAAAAAAAAAAAAAAAAAAAAAAAAAAAAAAAAAAAAAAAAAAAAAAAAAAAAAAAAAAAAAAAAAAAAAAAAAAAAAAAAAAAAAAAAAAAAAAAAAAAAAAAAAAAAAAAAAAAAAAA\",\"dtype\":\"float64\",\"shape\":[75]},\"y\":{\"__ndarray__\":\"S/O/Q+51ND/Sv8nbtpRIP2vylNV0PVE/aTum7souWD/At0SJ8fVgPw3Iuahxymc/MSNhhJWvcD/bTfBN02d3P2zb5nxnaoA/CD5h5MAGhz8NmeH1TyaQP+zrCsc9p5Y/LbKd76fGnz/bLW5ISEmmPww9YvTcQq8/JV2OstnstT8Er5Y7M8G+P0c+r3jqkcU/5h99k6ZBzj88bCIzFzjVP4enV8oyxN0//yH99nXg5D8qOpLLf0jtP5kqGJXUifQ/c9cS8kHP/D+/DpwzojQEQIEmwoanVwxA4lgXt9HgE0BSSZ2AJuIbQAMJih9jjiNA5q4l5INuK0AwTKYKRj0zQNv5fmq8/DpAaCJseHrtQkB/+zpwzoxKQM3MzMzMeFJAZmZmZmZqWEAAAAAAAFxeQM3MzMzMJmJAmpmZmZkfZUBmZmZmZhhoQDMzMzMzEWtAAAAAAAAKbkBmZmZmZoFwQM3MzMzM/XFAMzMzMzN6c0CamZmZmfZ0QAAAAAAAc3ZAZmZmZmbvd0DNzMzMzGt5QDMzMzMz6HpAmpmZmZlkfEAAAAAAAOF9QGZmZmZmXX9AZmZmZuZsgECamZmZGSuBQM3MzMxM6YFAAAAAAICngkAzMzMzs2WDQGZmZmbmI4RAmpmZmRnihEDNzMzMTKCFQAAAAACAXoZAMzMzM7Mch0BmZmZm5tqHQJqZmZkZmYhAzczMzExXiUAAAAAAgBWKQDMzMzOz04pAZmZmZuaRi0CamZmZGVCMQM3MzMxMDo1AAAAAAIDMjUAzMzMzs4qOQGZmZmbmSI9A\",\"dtype\":\"float64\",\"shape\":[75]}},\"selected\":{\"id\":\"b5ac554e-c4b3-4a67-bd2b-653287c68bb8\",\"type\":\"Selection\"},\"selection_policy\":{\"id\":\"9cd5dc82-6c22-4cc5-b04f-fcbd451fe0e6\",\"type\":\"UnionRenderers\"}},\"id\":\"8323f8b7-3c6a-4fd4-9c39-5db862478f5a\",\"type\":\"ColumnDataSource\"},{\"attributes\":{\"callback\":null,\"data\":{\"x\":{\"__ndarray__\":\"CKqIy9htvr9HrwYoDTW+vyRYJD9Fgr2/nr5UIj/RvL+4xuvqIyq8v/8a94MNkbu/XxbJDXUOu7+KbfcX5qm6v6tyJStUcbq/uE1lD7xzur8r+flrice6vweabI8gjbu/fUGo3lz0vL8knxUgIwO/vwdPdJ8UlL6/kQKFJvv6uL/v7x1JCiuwv5CfvZVNApe/5O0B7SAMmj+VDISNgES1PwPvP43WLMQ/L4T/Ibvazz9j5HZ5hCTQP9OM4qge4cY/h8T7eWwuvj/lrGEc4vOxP97FONUTw6Y/GG3KH1BZoD953X6grH2ZP4cGIr4llpQ/th5+MW2VkD/P2Lh6JfuJP2gksQlRg4M/hqWqngbrez+9eC6wKNxbP8PGiS/SBHS/5A4Vj/2/g7/JrwMNVMuEv9ykrCNqSXu/Dm7zjughaL+9a+zsDblnP+wjsGz4c5A/KlLvFjkloj+8Y5qxtMiuPwlkSZU1pbY/CnRYp+sFvj/wNspVhzfCP+jLfwajK8Q/k7nHDDM4xD89hr8NzjPEP/XBzwu5ysM/Yy4losr2wj8nXQIJ7cnBP6GmM4M6XcA/ILLtWXyvvT+ZPI60jom6P/v32ftmeLc/SrJQYymvtD9R3hNgYnCyP3mfgno1a7E/ZjBnMvNPsj87WMc90mq0P436Qs0yObQ/sZnA0MqNrj+citDftnybPzm4G3Pe4kO/Yg1F8ZJOjL9t1p8Y59yKv2JjoGPu93u/YAsmcH7SX7+8Nbr6h486P8pfh1WvZ1c/LDxYlEwtXz8iaW+k94NtP4jOWwqCpsk/\",\"dtype\":\"float64\",\"shape\":[75]},\"y\":{\"__ndarray__\":\"GhExyth1ND/Sv8nbtpRIP2vylNV0PVE/aTum7souWD/At0SJ8fVgPw3Iuahxymc/MSNhhJWvcD/bTfBN02d3P2zb5nxnaoA/CD5h5MAGhz8NmeH1TyaQP+zrCsc9p5Y/LbKd76fGnz/bLW5ISEmmPww9YvTcQq8/JV2OstnstT8Er5Y7M8G+P0c+r3jqkcU/5h99k6ZBzj88bCIzFzjVP4enV8oyxN0//yH99nXg5D8qOpLLf0jtP5kqGJXUifQ/c9cS8kHP/D+/DpwzojQEQIEmwoanVwxA4lgXt9HgE0BSSZ2AJuIbQAMJih9jjiNA5q4l5INuK0AwTKYKRj0zQNv5fmq8/DpAaCJseHrtQkB/+zpwzoxKQM3MzMzMeFJAZmZmZmZqWEAAAAAAAFxeQM3MzMzMJmJAmpmZmZkfZUBmZmZmZhhoQDMzMzMzEWtAAAAAAAAKbkBmZmZmZoFwQM3MzMzM/XFAMzMzMzN6c0CamZmZmfZ0QAAAAAAAc3ZAZmZmZmbvd0DNzMzMzGt5QDMzMzMz6HpAmpmZmZlkfEAAAAAAAOF9QGZmZmZmXX9AZmZmZuZsgECamZmZGSuBQM3MzMxM6YFAAAAAAICngkAzMzMzs2WDQGZmZmbmI4RAmpmZmRnihEDNzMzMTKCFQAAAAACAXoZAMzMzM7Mch0BmZmZm5tqHQJqZmZkZmYhAzczMzExXiUAAAAAAgBWKQDMzMzOz04pAZmZmZuaRi0CamZmZGVCMQM3MzMxMDo1AAAAAAIDMjUAzMzMzs4qOQGZmZmbmSI9A\",\"dtype\":\"float64\",\"shape\":[75]}},\"selected\":{\"id\":\"f7c65286-bcd2-4527-a98e-4094957afd47\",\"type\":\"Selection\"},\"selection_policy\":{\"id\":\"b7dc67c2-4a43-4410-a702-926a7f24f5f7\",\"type\":\"UnionRenderers\"}},\"id\":\"3048a9a0-fc05-4bc3-bea1-970053d0d22b\",\"type\":\"ColumnDataSource\"},{\"attributes\":{\"line_alpha\":0.1,\"line_color\":\"#1f77b4\",\"line_width\":1.5,\"x\":{\"field\":\"x\"},\"y\":{\"field\":\"y\"}},\"id\":\"492d364a-7971-4ba7-9fd6-c698a43a6e53\",\"type\":\"Line\"},{\"attributes\":{\"data_source\":{\"id\":\"3048a9a0-fc05-4bc3-bea1-970053d0d22b\",\"type\":\"ColumnDataSource\"},\"glyph\":{\"id\":\"7df81153-ce8a-4980-af78-7f3722f2ebfa\",\"type\":\"Line\"},\"hover_glyph\":null,\"muted_glyph\":null,\"nonselection_glyph\":{\"id\":\"492d364a-7971-4ba7-9fd6-c698a43a6e53\",\"type\":\"Line\"},\"selection_glyph\":null,\"view\":{\"id\":\"3365859d-b105-4bad-a0f7-fd8386ec6bc5\",\"type\":\"CDSView\"}},\"id\":\"017693ea-1c79-4acc-924d-3c99a8e438b8\",\"type\":\"GlyphRenderer\"},{\"attributes\":{},\"id\":\"3dd441bb-3964-44d3-9745-815ce95917c0\",\"type\":\"BasicTicker\"},{\"attributes\":{\"source\":{\"id\":\"3048a9a0-fc05-4bc3-bea1-970053d0d22b\",\"type\":\"ColumnDataSource\"}},\"id\":\"3365859d-b105-4bad-a0f7-fd8386ec6bc5\",\"type\":\"CDSView\"},{\"attributes\":{},\"id\":\"f55f331f-4ca1-457c-96c0-f846d4f657cb\",\"type\":\"PanTool\"},{\"attributes\":{\"fill_alpha\":{\"value\":0.7},\"fill_color\":{\"value\":\"#984ea3\"},\"line_alpha\":{\"value\":0.7},\"line_color\":{\"value\":\"#984ea3\"},\"x\":{\"field\":\"x\"},\"y\":{\"field\":\"y\"}},\"id\":\"d763ab30-d20d-4b2f-a0dc-c503bc109369\",\"type\":\"Square\"},{\"attributes\":{\"overlay\":{\"id\":\"dbb0d251-efe7-49ed-ab45-1611c3b54d29\",\"type\":\"BoxAnnotation\"}},\"id\":\"87d90663-c20e-452b-9c22-64e5d5a904f8\",\"type\":\"BoxZoomTool\"},{\"attributes\":{\"data_source\":{\"id\":\"3678d30e-20e5-4e85-8d0d-c304c421ac0e\",\"type\":\"ColumnDataSource\"},\"glyph\":{\"id\":\"e58b775e-6619-4a8c-a557-fabe751fd3c3\",\"type\":\"Line\"},\"hover_glyph\":null,\"muted_glyph\":null,\"nonselection_glyph\":{\"id\":\"268d1982-5161-4b69-a4df-ed7dbedce8b1\",\"type\":\"Line\"},\"selection_glyph\":null,\"view\":{\"id\":\"fff71eb0-3175-41c6-a7b7-113ad9d2a621\",\"type\":\"CDSView\"}},\"id\":\"fc4651e7-e674-4a35-9322-1a44bd27693c\",\"type\":\"GlyphRenderer\"},{\"attributes\":{\"line_alpha\":0.6,\"line_color\":\"#984ea3\",\"line_width\":3,\"x\":{\"field\":\"x\"},\"y\":{\"field\":\"y\"}},\"id\":\"e58b775e-6619-4a8c-a557-fabe751fd3c3\",\"type\":\"Line\"},{\"attributes\":{\"source\":{\"id\":\"3678d30e-20e5-4e85-8d0d-c304c421ac0e\",\"type\":\"ColumnDataSource\"}},\"id\":\"fff71eb0-3175-41c6-a7b7-113ad9d2a621\",\"type\":\"CDSView\"},{\"attributes\":{},\"id\":\"8515b08f-98c4-4969-8923-5eadb0eb2eaa\",\"type\":\"BasicTickFormatter\"},{\"attributes\":{\"fill_alpha\":{\"value\":0.1},\"fill_color\":{\"value\":\"#1f77b4\"},\"line_alpha\":{\"value\":0.1},\"line_color\":{\"value\":\"#1f77b4\"},\"x\":{\"field\":\"x\"},\"y\":{\"field\":\"y\"}},\"id\":\"1564ea47-648f-4ee2-8049-edea58e1deb2\",\"type\":\"Square\"},{\"attributes\":{\"line_alpha\":0.6,\"line_color\":\"#e41a1c\",\"line_dash\":[6],\"line_width\":5,\"x\":{\"field\":\"x\"},\"y\":{\"field\":\"y\"}},\"id\":\"487f4c08-d45d-4e90-85cf-c4b69fd1430d\",\"type\":\"Line\"},{\"attributes\":{\"label\":{\"value\":\"CLIRAD `coolr_bands`\"},\"renderers\":[{\"id\":\"e31b0dde-8bb5-46f8-8c61-4ac855c2b44d\",\"type\":\"GlyphRenderer\"}]},\"id\":\"290df005-8519-4624-bcb4-0d2e7c4b0a03\",\"type\":\"LegendItem\"},{\"attributes\":{\"callback\":null,\"end\":0.2559983230513249,\"start\":-0.12848792818381494},\"id\":\"d628ffad-4b04-44af-91b5-994814cdf64e\",\"type\":\"Range1d\"},{\"attributes\":{},\"id\":\"fdeac45f-1f24-4657-aec3-d98c31ec25b6\",\"type\":\"BasicTickFormatter\"},{\"attributes\":{\"label\":{\"value\":\"CRD\"},\"renderers\":[{\"id\":\"52322f95-e320-4936-ac8d-b2d17a74a2df\",\"type\":\"GlyphRenderer\"},{\"id\":\"017693ea-1c79-4acc-924d-3c99a8e438b8\",\"type\":\"GlyphRenderer\"}]},\"id\":\"5fe3cf06-37cf-4db5-bc1b-7863b3e27f5c\",\"type\":\"LegendItem\"},{\"attributes\":{},\"id\":\"c34f88ce-aec3-4aca-b794-62707223504c\",\"type\":\"ResetTool\"},{\"attributes\":{},\"id\":\"007bfad4-792f-406e-b726-c2a0dc82baf7\",\"type\":\"UnionRenderers\"},{\"attributes\":{},\"id\":\"8c7f4f40-40df-40d6-ae88-c8af853b42a0\",\"type\":\"LinearScale\"},{\"attributes\":{\"label\":{\"value\":\"WGT igg=10 wgt_flux=2\"},\"renderers\":[{\"id\":\"227cb5bc-2696-44b8-910e-ea5321254d4f\",\"type\":\"GlyphRenderer\"},{\"id\":\"fc4651e7-e674-4a35-9322-1a44bd27693c\",\"type\":\"GlyphRenderer\"}]},\"id\":\"c8a7db83-abba-4a4d-820b-36b0313d596b\",\"type\":\"LegendItem\"},{\"attributes\":{\"data_source\":{\"id\":\"e7643ffd-291a-4570-9ce5-5b01a9819ad2\",\"type\":\"ColumnDataSource\"},\"glyph\":{\"id\":\"26741328-446b-45c7-ab55-45a9a6f33dbe\",\"type\":\"Circle\"},\"hover_glyph\":null,\"muted_glyph\":null,\"nonselection_glyph\":{\"id\":\"b2846f9a-39d6-464a-aa77-365552a96cda\",\"type\":\"Circle\"},\"selection_glyph\":null,\"view\":{\"id\":\"57c536c8-96fc-48c0-8cce-d6f9e489ecf4\",\"type\":\"CDSView\"}},\"id\":\"3b0d920c-71d5-40f2-9436-4bc43226f2fa\",\"type\":\"GlyphRenderer\"},{\"attributes\":{\"active_drag\":\"auto\",\"active_inspect\":\"auto\",\"active_scroll\":\"auto\",\"active_tap\":\"auto\",\"tools\":[{\"id\":\"f55f331f-4ca1-457c-96c0-f846d4f657cb\",\"type\":\"PanTool\"},{\"id\":\"22fdea7b-f7c1-4579-9a72-ab720e82a3a1\",\"type\":\"WheelZoomTool\"},{\"id\":\"87d90663-c20e-452b-9c22-64e5d5a904f8\",\"type\":\"BoxZoomTool\"},{\"id\":\"fc4d51fb-804c-4424-a4d2-c3d298f9b25c\",\"type\":\"SaveTool\"},{\"id\":\"c34f88ce-aec3-4aca-b794-62707223504c\",\"type\":\"ResetTool\"},{\"id\":\"c1e57675-3595-465f-8daf-ac2ac8dccc28\",\"type\":\"HelpTool\"}]},\"id\":\"997e60ba-2301-4795-b140-2647db7d9519\",\"type\":\"Toolbar\"},{\"attributes\":{\"ticker\":null},\"id\":\"b164daee-e310-42a9-b518-5e79fe2226fb\",\"type\":\"LogTickFormatter\"},{\"attributes\":{},\"id\":\"fc4d51fb-804c-4424-a4d2-c3d298f9b25c\",\"type\":\"SaveTool\"},{\"attributes\":{},\"id\":\"978b69e6-e671-4377-a6ec-32cdca55715b\",\"type\":\"Selection\"},{\"attributes\":{},\"id\":\"02c808b2-780f-4c43-97f7-82edf1f2fb2b\",\"type\":\"UnionRenderers\"},{\"attributes\":{\"callback\":null,\"data\":{\"x\":{\"__ndarray__\":\"CKqIy9htvr9HrwYoDTW+vyRYJD9Fgr2/nr5UIj/RvL+4xuvqIyq8v/8a94MNkbu/XxbJDXUOu7+KbfcX5qm6v6tyJStUcbq/uE1lD7xzur8r+flrice6vweabI8gjbu/fUGo3lz0vL8knxUgIwO/vwdPdJ8UlL6/kQKFJvv6uL/v7x1JCiuwv5CfvZVNApe/5O0B7SAMmj+VDISNgES1PwPvP43WLMQ/L4T/Ibvazz9j5HZ5hCTQP9OM4qge4cY/h8T7eWwuvj/lrGEc4vOxP97FONUTw6Y/GG3KH1BZoD953X6grH2ZP4cGIr4llpQ/th5+MW2VkD/P2Lh6JfuJP2gksQlRg4M/hqWqngbrez+9eC6wKNxbP8PGiS/SBHS/5A4Vj/2/g7/JrwMNVMuEv9ykrCNqSXu/Dm7zjughaL+9a+zsDblnP+wjsGz4c5A/KlLvFjkloj+8Y5qxtMiuPwlkSZU1pbY/CnRYp+sFvj/wNspVhzfCP+jLfwajK8Q/k7nHDDM4xD89hr8NzjPEP/XBzwu5ysM/Yy4losr2wj8nXQIJ7cnBP6GmM4M6XcA/ILLtWXyvvT+ZPI60jom6P/v32ftmeLc/SrJQYymvtD9R3hNgYnCyP3mfgno1a7E/ZjBnMvNPsj87WMc90mq0P436Qs0yObQ/sZnA0MqNrj+citDftnybPzm4G3Pe4kO/Yg1F8ZJOjL9t1p8Y59yKv2JjoGPu93u/YAsmcH7SX7+8Nbr6h486P8pfh1WvZ1c/LDxYlEwtXz8iaW+k94NtP4jOWwqCpsk/\",\"dtype\":\"float64\",\"shape\":[75]},\"y\":{\"__ndarray__\":\"GhExyth1ND/Sv8nbtpRIP2vylNV0PVE/aTum7souWD/At0SJ8fVgPw3Iuahxymc/MSNhhJWvcD/bTfBN02d3P2zb5nxnaoA/CD5h5MAGhz8NmeH1TyaQP+zrCsc9p5Y/LbKd76fGnz/bLW5ISEmmPww9YvTcQq8/JV2OstnstT8Er5Y7M8G+P0c+r3jqkcU/5h99k6ZBzj88bCIzFzjVP4enV8oyxN0//yH99nXg5D8qOpLLf0jtP5kqGJXUifQ/c9cS8kHP/D+/DpwzojQEQIEmwoanVwxA4lgXt9HgE0BSSZ2AJuIbQAMJih9jjiNA5q4l5INuK0AwTKYKRj0zQNv5fmq8/DpAaCJseHrtQkB/+zpwzoxKQM3MzMzMeFJAZmZmZmZqWEAAAAAAAFxeQM3MzMzMJmJAmpmZmZkfZUBmZmZmZhhoQDMzMzMzEWtAAAAAAAAKbkBmZmZmZoFwQM3MzMzM/XFAMzMzMzN6c0CamZmZmfZ0QAAAAAAAc3ZAZmZmZmbvd0DNzMzMzGt5QDMzMzMz6HpAmpmZmZlkfEAAAAAAAOF9QGZmZmZmXX9AZmZmZuZsgECamZmZGSuBQM3MzMxM6YFAAAAAAICngkAzMzMzs2WDQGZmZmbmI4RAmpmZmRnihEDNzMzMTKCFQAAAAACAXoZAMzMzM7Mch0BmZmZm5tqHQJqZmZkZmYhAzczMzExXiUAAAAAAgBWKQDMzMzOz04pAZmZmZuaRi0CamZmZGVCMQM3MzMxMDo1AAAAAAIDMjUAzMzMzs4qOQGZmZmbmSI9A\",\"dtype\":\"float64\",\"shape\":[75]}},\"selected\":{\"id\":\"3992494c-cb6b-430e-9733-b72f40e806bb\",\"type\":\"Selection\"},\"selection_policy\":{\"id\":\"16fedca5-f87c-4263-9dcd-6484c4ffe4bd\",\"type\":\"UnionRenderers\"}},\"id\":\"57fd6fae-5f4c-49fa-9e1c-635631acfc05\",\"type\":\"ColumnDataSource\"},{\"attributes\":{},\"id\":\"514bf60a-c3c0-4cef-89d5-61c447232d18\",\"type\":\"Selection\"},{\"attributes\":{\"axis_label\":\"pressure [mb]\",\"formatter\":{\"id\":\"b164daee-e310-42a9-b518-5e79fe2226fb\",\"type\":\"LogTickFormatter\"},\"plot\":{\"id\":\"9f3e4651-dfca-4ac9-aa94-1c3863b5ea7b\",\"subtype\":\"Figure\",\"type\":\"Plot\"},\"ticker\":{\"id\":\"7dff8e33-ca45-4319-9c91-5e0baed22a42\",\"type\":\"LogTicker\"}},\"id\":\"131c7491-5178-4117-b9f8-c50a6fc92ef3\",\"type\":\"LogAxis\"},{\"attributes\":{},\"id\":\"43cf99ac-0c39-4819-a4cf-6f5f2d2327c8\",\"type\":\"Selection\"},{\"attributes\":{\"plot\":null,\"text\":\"Log pressure scale\"},\"id\":\"512f562e-1fb2-4e2c-add3-18cac9ac8e0a\",\"type\":\"Title\"},{\"attributes\":{},\"id\":\"aef23698-c315-496c-99ef-963ab6dfb30e\",\"type\":\"UnionRenderers\"},{\"attributes\":{\"axis_label\":\"cooling rate [K/day]\",\"formatter\":{\"id\":\"0a567243-c41b-4d4f-94da-a1595efbb9fb\",\"type\":\"BasicTickFormatter\"},\"plot\":{\"id\":\"9f3e4651-dfca-4ac9-aa94-1c3863b5ea7b\",\"subtype\":\"Figure\",\"type\":\"Plot\"},\"ticker\":{\"id\":\"3dd441bb-3964-44d3-9745-815ce95917c0\",\"type\":\"BasicTicker\"}},\"id\":\"8127bb55-7b39-4814-88f9-b4d50b43dbab\",\"type\":\"LinearAxis\"},{\"attributes\":{},\"id\":\"16fedca5-f87c-4263-9dcd-6484c4ffe4bd\",\"type\":\"UnionRenderers\"},{\"attributes\":{\"callback\":null,\"data\":{\"x\":{\"__ndarray__\":\"HwV3SlHjwL8x0Q6IocHAv/mdvAbUc8C/yxdPIWgvwL+Gt330Xci/v14/ptQBP7+/Rq5rrNe7vr9+7MMAjUq+vzk8sde/8r2/EtZZHLfBvb9bqtsSrMW9vw8fGfP8Fb6/vC02b/HNvr+gbgB2jO2/v1RN3RbH0b6/jyehqEIvub8oN/Zmpmywv/9X81YMM5e/TfRJ1cl4mz+2BoWUNRK2P0TUGINfoMQ/R2RCvaXTzz+ShFV9ihHQPwTxVAr2tsY/+IjfnP3LvT/6ZyI58C6yP6wMPOwHUKg/A6RQvWYKoj+fJMuKBhqcP+gEgM8835Y/kWdP8hwVkz+z3nGFxzSPP0EsW/TXNog/Esn4PozJgT/Z4rycX7ZlP+x+6knS+3W/UftUz1OUhr96ZQUJHEmHv5CmOjr/UX2/CtARD3CSaL8NBNq9tpZrP/eaM6hm/JM/FKdflYERpz8X+Lj7CzOwP6u259MvC7I/5e3sdH1Ztz84JJueV0HAP2QVGL3sl8M/U2GVvCjjwz/bMxBIsrPDP1SPot5PncM/apGt1tGywz9+UJeBs33DP6cJhpF6f8I/Si+t/fm7wD9OGP0m99O8PzKlzZXQG7g/UjSvgZ4atD+4SJ44pV+xP5Tr7+6ZdLA/7mTBQ9vEsT8VSwadWDK0PxasjxRtR7Q/25mMNKTDrj8J9lWzVF2bP+hKOimUmFW/kgoAbEwUj7/fiKoZM3SOvzjlXz9Aw4G/SEwTOG8pbr/OHP91Xw9SvwAU8ykHLOG+jrYarF6KQT/4cpcw4QVjPwQ917CXi8k/\",\"dtype\":\"float64\",\"shape\":[75]},\"y\":{\"__ndarray__\":\"GhExyth1ND/Sv8nbtpRIP2vylNV0PVE/aTum7souWD/At0SJ8fVgPw3Iuahxymc/MSNhhJWvcD/bTfBN02d3P2zb5nxnaoA/CD5h5MAGhz8NmeH1TyaQP+zrCsc9p5Y/LbKd76fGnz/bLW5ISEmmPww9YvTcQq8/JV2OstnstT8Er5Y7M8G+P0c+r3jqkcU/5h99k6ZBzj88bCIzFzjVP4enV8oyxN0//yH99nXg5D8qOpLLf0jtP5kqGJXUifQ/c9cS8kHP/D+/DpwzojQEQIEmwoanVwxA4lgXt9HgE0BSSZ2AJuIbQAMJih9jjiNA5q4l5INuK0AwTKYKRj0zQNv5fmq8/DpAaCJseHrtQkB/+zpwzoxKQM3MzMzMeFJAZmZmZmZqWEAAAAAAAFxeQM3MzMzMJmJAmpmZmZkfZUBmZmZmZhhoQDMzMzMzEWtAAAAAAAAKbkBmZmZmZoFwQM3MzMzM/XFAMzMzMzN6c0CamZmZmfZ0QAAAAAAAc3ZAZmZmZmbvd0DNzMzMzGt5QDMzMzMz6HpAmpmZmZlkfEAAAAAAAOF9QGZmZmZmXX9AZmZmZuZsgECamZmZGSuBQM3MzMxM6YFAAAAAAICngkAzMzMzs2WDQGZmZmbmI4RAmpmZmRnihEDNzMzMTKCFQAAAAACAXoZAMzMzM7Mch0BmZmZm5tqHQJqZmZkZmYhAzczMzExXiUAAAAAAgBWKQDMzMzOz04pAZmZmZuaRi0CamZmZGVCMQM3MzMxMDo1AAAAAAIDMjUAzMzMzs4qOQGZmZmbmSI9A\",\"dtype\":\"float64\",\"shape\":[75]}},\"selected\":{\"id\":\"c7f2aa24-be74-4562-a2d1-f1f042106ce7\",\"type\":\"Selection\"},\"selection_policy\":{\"id\":\"c05d4f0b-e91f-4b96-9916-0e6815ff4275\",\"type\":\"UnionRenderers\"}},\"id\":\"3678d30e-20e5-4e85-8d0d-c304c421ac0e\",\"type\":\"ColumnDataSource\"},{\"attributes\":{},\"id\":\"3992494c-cb6b-430e-9733-b72f40e806bb\",\"type\":\"Selection\"},{\"attributes\":{},\"id\":\"0a567243-c41b-4d4f-94da-a1595efbb9fb\",\"type\":\"BasicTickFormatter\"},{\"attributes\":{\"source\":{\"id\":\"a0e47aec-2f71-443b-8891-af10261e0eb7\",\"type\":\"ColumnDataSource\"}},\"id\":\"8af914ab-b28f-43ab-8699-cd34a15f4432\",\"type\":\"CDSView\"},{\"attributes\":{\"source\":{\"id\":\"8db65364-09a2-4584-8b13-5b69f8bfaf99\",\"type\":\"ColumnDataSource\"}},\"id\":\"ce5d6bed-f892-4e79-8c98-9f0f40c6f927\",\"type\":\"CDSView\"},{\"attributes\":{},\"id\":\"9cd5dc82-6c22-4cc5-b04f-fcbd451fe0e6\",\"type\":\"UnionRenderers\"},{\"attributes\":{\"bottom_units\":\"screen\",\"fill_alpha\":{\"value\":0.5},\"fill_color\":{\"value\":\"lightgrey\"},\"left_units\":\"screen\",\"level\":\"overlay\",\"line_alpha\":{\"value\":1.0},\"line_color\":{\"value\":\"black\"},\"line_dash\":[4,4],\"line_width\":{\"value\":2},\"plot\":null,\"render_mode\":\"css\",\"right_units\":\"screen\",\"top_units\":\"screen\"},\"id\":\"dbb0d251-efe7-49ed-ab45-1611c3b54d29\",\"type\":\"BoxAnnotation\"},{\"attributes\":{\"line_alpha\":0.1,\"line_color\":\"#1f77b4\",\"line_dash\":[6],\"line_width\":5,\"x\":{\"field\":\"x\"},\"y\":{\"field\":\"y\"}},\"id\":\"5e8e3718-5594-4c86-a5d1-460911332b24\",\"type\":\"Line\"}],\"root_ids\":[\"e3128bda-974f-4784-99fe-f1af79c92c3a\"]},\"title\":\"Bokeh Application\",\"version\":\"0.12.16\"}};\n",
       "  var render_items = [{\"docid\":\"e9ca5f44-125a-47ce-a65e-e3c0f1068f67\",\"elementid\":\"f10628b8-e586-45fd-9cea-481e32ecd33b\",\"modelid\":\"e3128bda-974f-4784-99fe-f1af79c92c3a\"}];\n",
       "  root.Bokeh.embed.embed_items_notebook(docs_json, render_items);\n",
       "\n",
       "  }\n",
       "  if (root.Bokeh !== undefined) {\n",
       "    embed_document(root);\n",
       "  } else {\n",
       "    var attempts = 0;\n",
       "    var timer = setInterval(function(root) {\n",
       "      if (root.Bokeh !== undefined) {\n",
       "        embed_document(root);\n",
       "        clearInterval(timer);\n",
       "      }\n",
       "      attempts++;\n",
       "      if (attempts > 100) {\n",
       "        console.log(\"Bokeh: ERROR: Unable to run BokehJS code because BokehJS library is missing\")\n",
       "        clearInterval(timer);\n",
       "      }\n",
       "    }, 10, root)\n",
       "  }\n",
       "})(window);"
      ],
      "application/vnd.bokehjs_exec.v0+json": ""
     },
     "metadata": {
      "application/vnd.bokehjs_exec.v0+json": {
       "id": "e3128bda-974f-4784-99fe-f1af79c92c3a"
      }
     },
     "output_type": "display_data"
    },
    {
     "name": "stdout",
     "output_type": "stream",
     "text": [
      "FIGURE. Cooling rate profiles.\n"
     ]
    },
    {
     "data": {
      "text/html": [
       "<a id=\"Flux_Comparison\"></a>"
      ],
      "text/plain": [
       "<IPython.core.display.HTML object>"
      ]
     },
     "metadata": {},
     "output_type": "display_data"
    },
    {
     "data": {
      "text/markdown": [
       "# Flux Comparison"
      ],
      "text/plain": [
       "<IPython.core.display.Markdown object>"
      ]
     },
     "metadata": {},
     "output_type": "display_data"
    },
    {
     "data": {
      "text/html": [
       "<div>\n",
       "<style scoped>\n",
       "    .dataframe tbody tr th:only-of-type {\n",
       "        vertical-align: middle;\n",
       "    }\n",
       "\n",
       "    .dataframe tbody tr th {\n",
       "        vertical-align: top;\n",
       "    }\n",
       "\n",
       "    .dataframe thead th {\n",
       "        text-align: right;\n",
       "    }\n",
       "</style>\n",
       "<table border=\"1\" class=\"dataframe\">\n",
       "  <thead>\n",
       "    <tr style=\"text-align: right;\">\n",
       "      <th></th>\n",
       "      <th></th>\n",
       "      <th>flug</th>\n",
       "      <th>fldg</th>\n",
       "      <th>fnetg</th>\n",
       "    </tr>\n",
       "    <tr>\n",
       "      <th>pressure</th>\n",
       "      <th>level</th>\n",
       "      <th></th>\n",
       "      <th></th>\n",
       "      <th></th>\n",
       "    </tr>\n",
       "  </thead>\n",
       "  <tbody>\n",
       "    <tr>\n",
       "      <th>0.0000</th>\n",
       "      <th>1</th>\n",
       "      <td>-7.715035</td>\n",
       "      <td>0.000000</td>\n",
       "      <td>-7.715035</td>\n",
       "    </tr>\n",
       "    <tr>\n",
       "      <th>1.0685</th>\n",
       "      <th>24</th>\n",
       "      <td>-7.718865</td>\n",
       "      <td>0.021939</td>\n",
       "      <td>-7.696926</td>\n",
       "    </tr>\n",
       "    <tr>\n",
       "      <th>1013.0000</th>\n",
       "      <th>76</th>\n",
       "      <td>-35.855033</td>\n",
       "      <td>35.269794</td>\n",
       "      <td>-0.585239</td>\n",
       "    </tr>\n",
       "  </tbody>\n",
       "</table>\n",
       "</div>"
      ],
      "text/plain": [
       "                      flug       fldg     fnetg\n",
       "pressure  level                                \n",
       "0.0000    1      -7.715035   0.000000 -7.715035\n",
       "1.0685    24     -7.718865   0.021939 -7.696926\n",
       "1013.0000 76    -35.855033  35.269794 -0.585239"
      ]
     },
     "metadata": {},
     "output_type": "display_data"
    },
    {
     "name": "stdout",
     "output_type": "stream",
     "text": [
      "Table. Fluxes. CRD\n"
     ]
    },
    {
     "data": {
      "text/html": [
       "<div>\n",
       "<style scoped>\n",
       "    .dataframe tbody tr th:only-of-type {\n",
       "        vertical-align: middle;\n",
       "    }\n",
       "\n",
       "    .dataframe tbody tr th {\n",
       "        vertical-align: top;\n",
       "    }\n",
       "\n",
       "    .dataframe thead th {\n",
       "        text-align: right;\n",
       "    }\n",
       "</style>\n",
       "<table border=\"1\" class=\"dataframe\">\n",
       "  <thead>\n",
       "    <tr style=\"text-align: right;\">\n",
       "      <th></th>\n",
       "      <th></th>\n",
       "      <th>flug</th>\n",
       "      <th>fldg</th>\n",
       "      <th>fnetg</th>\n",
       "    </tr>\n",
       "    <tr>\n",
       "      <th>pressure</th>\n",
       "      <th>level</th>\n",
       "      <th></th>\n",
       "      <th></th>\n",
       "      <th></th>\n",
       "    </tr>\n",
       "  </thead>\n",
       "  <tbody>\n",
       "    <tr>\n",
       "      <th>0.0000</th>\n",
       "      <th>1</th>\n",
       "      <td>-7.653818</td>\n",
       "      <td>0.000000</td>\n",
       "      <td>-7.653818</td>\n",
       "    </tr>\n",
       "    <tr>\n",
       "      <th>1.0685</th>\n",
       "      <th>24</th>\n",
       "      <td>-7.657222</td>\n",
       "      <td>0.021522</td>\n",
       "      <td>-7.635701</td>\n",
       "    </tr>\n",
       "    <tr>\n",
       "      <th>1013.0000</th>\n",
       "      <th>76</th>\n",
       "      <td>-35.855033</td>\n",
       "      <td>35.278623</td>\n",
       "      <td>-0.576409</td>\n",
       "    </tr>\n",
       "  </tbody>\n",
       "</table>\n",
       "</div>"
      ],
      "text/plain": [
       "                      flug       fldg     fnetg\n",
       "pressure  level                                \n",
       "0.0000    1      -7.653818   0.000000 -7.653818\n",
       "1.0685    24     -7.657222   0.021522 -7.635701\n",
       "1013.0000 76    -35.855033  35.278623 -0.576409"
      ]
     },
     "metadata": {},
     "output_type": "display_data"
    },
    {
     "name": "stdout",
     "output_type": "stream",
     "text": [
      "Table. Fluxes. WGT igg=10 wgt_flux=1\n"
     ]
    },
    {
     "data": {
      "text/html": [
       "<div>\n",
       "<style scoped>\n",
       "    .dataframe tbody tr th:only-of-type {\n",
       "        vertical-align: middle;\n",
       "    }\n",
       "\n",
       "    .dataframe tbody tr th {\n",
       "        vertical-align: top;\n",
       "    }\n",
       "\n",
       "    .dataframe thead th {\n",
       "        text-align: right;\n",
       "    }\n",
       "</style>\n",
       "<table border=\"1\" class=\"dataframe\">\n",
       "  <thead>\n",
       "    <tr style=\"text-align: right;\">\n",
       "      <th></th>\n",
       "      <th></th>\n",
       "      <th>flug</th>\n",
       "      <th>fldg</th>\n",
       "      <th>fnetg</th>\n",
       "    </tr>\n",
       "    <tr>\n",
       "      <th>pressure</th>\n",
       "      <th>level</th>\n",
       "      <th></th>\n",
       "      <th></th>\n",
       "      <th></th>\n",
       "    </tr>\n",
       "  </thead>\n",
       "  <tbody>\n",
       "    <tr>\n",
       "      <th>1.000000e-08</th>\n",
       "      <th>1</th>\n",
       "      <td>0.0</td>\n",
       "      <td>0.0</td>\n",
       "      <td>0.0</td>\n",
       "    </tr>\n",
       "    <tr>\n",
       "      <th>1.068500e+00</th>\n",
       "      <th>24</th>\n",
       "      <td>0.0</td>\n",
       "      <td>0.0</td>\n",
       "      <td>0.0</td>\n",
       "    </tr>\n",
       "    <tr>\n",
       "      <th>1.013000e+03</th>\n",
       "      <th>76</th>\n",
       "      <td>0.0</td>\n",
       "      <td>0.0</td>\n",
       "      <td>0.0</td>\n",
       "    </tr>\n",
       "  </tbody>\n",
       "</table>\n",
       "</div>"
      ],
      "text/plain": [
       "                    flug  fldg  fnetg\n",
       "pressure     level                   \n",
       "1.000000e-08 1       0.0   0.0    0.0\n",
       "1.068500e+00 24      0.0   0.0    0.0\n",
       "1.013000e+03 76      0.0   0.0    0.0"
      ]
     },
     "metadata": {},
     "output_type": "display_data"
    },
    {
     "name": "stdout",
     "output_type": "stream",
     "text": [
      "Table. Fluxes. CLIRAD\n"
     ]
    },
    {
     "data": {
      "text/html": [
       "<div>\n",
       "<style scoped>\n",
       "    .dataframe tbody tr th:only-of-type {\n",
       "        vertical-align: middle;\n",
       "    }\n",
       "\n",
       "    .dataframe tbody tr th {\n",
       "        vertical-align: top;\n",
       "    }\n",
       "\n",
       "    .dataframe thead th {\n",
       "        text-align: right;\n",
       "    }\n",
       "</style>\n",
       "<table border=\"1\" class=\"dataframe\">\n",
       "  <thead>\n",
       "    <tr style=\"text-align: right;\">\n",
       "      <th></th>\n",
       "      <th></th>\n",
       "      <th>flug</th>\n",
       "      <th>fldg</th>\n",
       "      <th>fnetg</th>\n",
       "    </tr>\n",
       "    <tr>\n",
       "      <th>pressure</th>\n",
       "      <th>level</th>\n",
       "      <th></th>\n",
       "      <th></th>\n",
       "      <th></th>\n",
       "    </tr>\n",
       "  </thead>\n",
       "  <tbody>\n",
       "    <tr>\n",
       "      <th>0.0000</th>\n",
       "      <th>1</th>\n",
       "      <td>6.121662e-02</td>\n",
       "      <td>0.000000</td>\n",
       "      <td>0.061217</td>\n",
       "    </tr>\n",
       "    <tr>\n",
       "      <th>1.0685</th>\n",
       "      <th>24</th>\n",
       "      <td>6.164266e-02</td>\n",
       "      <td>-0.000418</td>\n",
       "      <td>0.061225</td>\n",
       "    </tr>\n",
       "    <tr>\n",
       "      <th>1013.0000</th>\n",
       "      <th>76</th>\n",
       "      <td>-1.950000e-07</td>\n",
       "      <td>0.008829</td>\n",
       "      <td>0.008830</td>\n",
       "    </tr>\n",
       "  </tbody>\n",
       "</table>\n",
       "</div>"
      ],
      "text/plain": [
       "                         flug      fldg     fnetg\n",
       "pressure  level                                  \n",
       "0.0000    1      6.121662e-02  0.000000  0.061217\n",
       "1.0685    24     6.164266e-02 -0.000418  0.061225\n",
       "1013.0000 76    -1.950000e-07  0.008829  0.008830"
      ]
     },
     "metadata": {},
     "output_type": "display_data"
    },
    {
     "name": "stdout",
     "output_type": "stream",
     "text": [
      "Table. Fluxes. (WGT igg=10 wgt_flux=1) - (CRD)\n"
     ]
    },
    {
     "data": {
      "text/html": [
       "<div>\n",
       "<style scoped>\n",
       "    .dataframe tbody tr th:only-of-type {\n",
       "        vertical-align: middle;\n",
       "    }\n",
       "\n",
       "    .dataframe tbody tr th {\n",
       "        vertical-align: top;\n",
       "    }\n",
       "\n",
       "    .dataframe thead th {\n",
       "        text-align: right;\n",
       "    }\n",
       "</style>\n",
       "<table border=\"1\" class=\"dataframe\">\n",
       "  <thead>\n",
       "    <tr style=\"text-align: right;\">\n",
       "      <th></th>\n",
       "      <th></th>\n",
       "      <th>flug</th>\n",
       "      <th>fldg</th>\n",
       "      <th>fnetg</th>\n",
       "    </tr>\n",
       "    <tr>\n",
       "      <th>pressure</th>\n",
       "      <th>level</th>\n",
       "      <th></th>\n",
       "      <th></th>\n",
       "      <th></th>\n",
       "    </tr>\n",
       "  </thead>\n",
       "  <tbody>\n",
       "    <tr>\n",
       "      <th>0.0000</th>\n",
       "      <th>1</th>\n",
       "      <td>7.715035</td>\n",
       "      <td>0.000000</td>\n",
       "      <td>7.715035</td>\n",
       "    </tr>\n",
       "    <tr>\n",
       "      <th>1.0685</th>\n",
       "      <th>24</th>\n",
       "      <td>7.718865</td>\n",
       "      <td>-0.021939</td>\n",
       "      <td>7.696926</td>\n",
       "    </tr>\n",
       "    <tr>\n",
       "      <th>1013.0000</th>\n",
       "      <th>76</th>\n",
       "      <td>35.855033</td>\n",
       "      <td>-35.269794</td>\n",
       "      <td>0.585239</td>\n",
       "    </tr>\n",
       "  </tbody>\n",
       "</table>\n",
       "</div>"
      ],
      "text/plain": [
       "                      flug       fldg     fnetg\n",
       "pressure  level                                \n",
       "0.0000    1       7.715035   0.000000  7.715035\n",
       "1.0685    24      7.718865  -0.021939  7.696926\n",
       "1013.0000 76     35.855033 -35.269794  0.585239"
      ]
     },
     "metadata": {},
     "output_type": "display_data"
    },
    {
     "name": "stdout",
     "output_type": "stream",
     "text": [
      "Table. Fluxes. (CLIRAD) - (CRD)\n"
     ]
    },
    {
     "data": {
      "text/html": [
       "<a id=\"Best-fit_Parameters\"></a>"
      ],
      "text/plain": [
       "<IPython.core.display.HTML object>"
      ]
     },
     "metadata": {},
     "output_type": "display_data"
    },
    {
     "data": {
      "text/markdown": [
       "# Best-fit Parameters"
      ],
      "text/plain": [
       "<IPython.core.display.Markdown object>"
      ]
     },
     "metadata": {},
     "output_type": "display_data"
    },
    {
     "name": "stdout",
     "output_type": "stream",
     "text": [
      "Best-fit values for each (gas, band)\n",
      "------------------------------------\n",
      "o h2o band8\n",
      "  atmpro = mls\n",
      "  band = 8\n",
      "  commitnumber = a06b618\n",
      "  conc = None\n",
      "  dv = 0.001\n",
      "  klin = 0\n",
      "  molecule = h2o\n",
      "  ng_adju = [0, -1, 0]\n",
      "  ng_refs = [3, 2, 3]\n",
      "  nv = 1000\n",
      "  option_compute_btable = 0\n",
      "  option_compute_ktable = 1\n",
      "  option_wgt_flux = 1\n",
      "  option_wgt_k = 1\n",
      "  ref_pts = [(1, 250), (10, 250), (500, 250)]\n",
      "  tsfc = 294\n",
      "  vmax = 1900\n",
      "  vmin = 1380\n",
      "  w_diffuse = [(1.66, 1.66, 1.66), (1.66, 1.66), (1.66, 1.66, 1.66)]\n",
      "  wgt = [(0.55, 0.55, 0.85), (0.85, 0.85), (0, 0.3, 0.55)]\n"
     ]
    }
   ],
   "source": [
    "script()"
   ]
  },
  {
   "cell_type": "code",
   "execution_count": 13,
   "metadata": {
    "collapsed": true
   },
   "outputs": [
    {
     "data": {
      "text/html": [
       "<script>\n",
       "code_show=true; \n",
       "function code_toggle() {\n",
       " if (code_show){\n",
       " $('div.input').hide();\n",
       " } else {\n",
       " $('div.input').show();\n",
       " }\n",
       " code_show = !code_show\n",
       "} \n",
       "$( document ).ready(code_toggle);\n",
       "</script>\n",
       "<form action=\"javascript:code_toggle()\"><input type=\"submit\" value=\"Click here to toggle on/off the raw code.\"></form>"
      ],
      "text/plain": [
       "<IPython.core.display.HTML object>"
      ]
     },
     "execution_count": 13,
     "metadata": {},
     "output_type": "execute_result"
    }
   ],
   "source": [
    "display.HTML('''<script>\n",
    "code_show=true; \n",
    "function code_toggle() {\n",
    " if (code_show){\n",
    " $('div.input').hide();\n",
    " } else {\n",
    " $('div.input').show();\n",
    " }\n",
    " code_show = !code_show\n",
    "} \n",
    "$( document ).ready(code_toggle);\n",
    "</script>\n",
    "<form action=\"javascript:code_toggle()\"><input type=\"submit\" value=\"Click here to toggle on/off the raw code.\"></form>''')"
   ]
  }
 ],
 "metadata": {
  "kernelspec": {
   "display_name": "Python 3",
   "language": "python",
   "name": "python3"
  },
  "language_info": {
   "codemirror_mode": {
    "name": "ipython",
    "version": 3
   },
   "file_extension": ".py",
   "mimetype": "text/x-python",
   "name": "python",
   "nbconvert_exporter": "python",
   "pygments_lexer": "ipython3",
   "version": "3.6.1"
  }
 },
 "nbformat": 4,
 "nbformat_minor": 2
}
