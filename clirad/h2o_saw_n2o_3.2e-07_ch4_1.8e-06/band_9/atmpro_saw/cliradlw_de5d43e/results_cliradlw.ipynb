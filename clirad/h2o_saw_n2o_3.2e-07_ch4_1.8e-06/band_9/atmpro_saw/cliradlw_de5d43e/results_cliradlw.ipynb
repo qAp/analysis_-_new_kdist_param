{
 "cells": [
  {
   "cell_type": "code",
   "execution_count": 1,
   "metadata": {
    "collapsed": true
   },
   "outputs": [],
   "source": [
    "%matplotlib inline\n",
    "import os\n",
    "import re\n",
    "import io\n",
    "import itertools\n",
    "import pprint\n",
    "\n",
    "from bokeh.io import output_notebook, show\n",
    "from bokeh.layouts import gridplot\n",
    "from bokeh.plotting import figure\n",
    "from bokeh.models import Range1d, Legend\n",
    "from bokeh.palettes import all_palettes\n",
    "\n",
    "import matplotlib\n",
    "import matplotlib.pyplot as plt\n",
    "import numpy as np\n",
    "import pandas as pd\n",
    "import xarray as xr\n",
    "\n",
    "import climatools.lblnew.bestfit_params as bestfits\n",
    "from climatools.lblnew import setup_bestfit, setup_overlap\n",
    "import climatools.lblnew.pipeline as pipe_lblnew\n",
    "import climatools.cliradlw.setup as setup_cliradlw\n",
    "import climatools.cliradlw.pipeline as pipe_cliradlw\n",
    "\n",
    "import climatools.html.html as climahtml\n",
    "from climatools.lblnew.dataio import *\n",
    "from climatools.plot.plot import *\n",
    "\n",
    "\n",
    "import IPython.display as display"
   ]
  },
  {
   "cell_type": "code",
   "execution_count": 2,
   "metadata": {
    "collapsed": true
   },
   "outputs": [],
   "source": [
    "%run param.py"
   ]
  },
  {
   "cell_type": "code",
   "execution_count": 3,
   "metadata": {
    "collapsed": true
   },
   "outputs": [],
   "source": [
    "def load_output_file(path_csv):\n",
    "    '''\n",
    "    Load lblnew output .csv file to xarray.Dataset\n",
    "    \n",
    "    Parameters\n",
    "    ----------\n",
    "    path_csv: str\n",
    "              Path to the .csv file to be loaded.\n",
    "    ds: xarray.Dataset\n",
    "        Data in the input file in the form of an xarray.Dataset.\n",
    "    '''\n",
    "    toindex = ['band', 'pressure', 'igg', 'g']    \n",
    "    df = pd.read_csv(path_csv, sep=r'\\s+')\n",
    "    df = df.set_index([i for i in toindex if i in df.columns])\n",
    "    df = df.rename(columns={'sfu': 'flug',\n",
    "                            'sfd': 'fldg',\n",
    "                            'fnet': 'fnetg',\n",
    "                            'coolr': 'coolrg'})\n",
    "    ds = xr.Dataset.from_dataframe(df)\n",
    "\n",
    "    for l in ('level', 'layer'):\n",
    "        if l in ds.data_vars:\n",
    "            if len(ds[l].dims) > 1:\n",
    "                surface = {d: 0 for d in ds.dims if d != 'pressure'}\n",
    "                coord_level = ds[l][surface]\n",
    "                ds.coords[l] = ('pressure', coord_level)\n",
    "            else:\n",
    "                ds.coords[l] = ('pressure', ds[l])\n",
    "    \n",
    "    return ds"
   ]
  },
  {
   "cell_type": "code",
   "execution_count": 4,
   "metadata": {
    "collapsed": true
   },
   "outputs": [],
   "source": [
    "def lblnew_setup(param=None):\n",
    "    if 'ng_refs' in param:\n",
    "        return {'setup': setup_bestfit,\n",
    "                'fname_flux_crd': 'output_flux.dat',\n",
    "                'fname_cool_crd': 'output_coolr.dat',\n",
    "                'fname_flux_wgt': 'output_wfluxg.dat',\n",
    "                'fname_cool_wgt': 'output_wcoolrg.dat'}\n",
    "    else:\n",
    "        return {'setup': setup_overlap,\n",
    "                'fname_flux_crd': 'output_flux.dat',\n",
    "                'fname_cool_crd': 'output_coolr.dat',\n",
    "                'fname_flux_wgt': 'output_wflux.dat',\n",
    "                'fname_cool_wgt': 'output_wcoolr.dat'}\n",
    "\n",
    "    \n",
    "def load_lblnew_data(param):\n",
    "    \n",
    "    fname_dsname = [('fname_flux_crd', 'ds_flux_crd'),\n",
    "                    ('fname_cool_crd', 'ds_cool_crd'),\n",
    "                    ('fname_flux_wgt', 'ds_flux_wgt'),\n",
    "                    ('fname_cool_wgt', 'ds_cool_wgt')]\n",
    "    \n",
    "    d = lblnew_setup(param)\n",
    "    dir_fortran = pipe_lblnew.get_dir_case(param, setup=d['setup'])\n",
    "    \n",
    "    data_dict = {}\n",
    "    for fname, dsname in fname_dsname:\n",
    "        fpath = os.path.join(dir_fortran, d[fname])\n",
    "        data_dict[dsname] = load_output_file(fpath)\n",
    "    return data_dict\n",
    "    \n",
    "\n",
    "    \n",
    "    "
   ]
  },
  {
   "cell_type": "code",
   "execution_count": 5,
   "metadata": {
    "collapsed": true
   },
   "outputs": [],
   "source": [
    "d = load_lblnew_data(PARAM_LBLNEW)\n",
    "\n",
    "DS_FLUX_CRD = d['ds_flux_crd']\n",
    "DS_COOL_CRD = d['ds_cool_crd']\n",
    "DS_FLUX_WGT = d['ds_flux_wgt']\n",
    "DS_COOL_WGT = d['ds_cool_wgt']"
   ]
  },
  {
   "cell_type": "code",
   "execution_count": 6,
   "metadata": {
    "collapsed": true
   },
   "outputs": [],
   "source": [
    "DIR_FORTRAN = pipe_cliradlw.get_fortran_dir(PARAM, \n",
    "                                            setup=setup_cliradlw)\n",
    "\n",
    "PATH_FLUX = os.path.join(DIR_FORTRAN, 'output_flux.dat')\n",
    "PATH_COOL = os.path.join(DIR_FORTRAN, 'output_coolr.dat')\n",
    "\n",
    "DS_FLUX = load_output_file(PATH_FLUX)\n",
    "DS_COOL = load_output_file(PATH_COOL)"
   ]
  },
  {
   "cell_type": "code",
   "execution_count": 7,
   "metadata": {
    "collapsed": true
   },
   "outputs": [
    {
     "data": {
      "text/html": [
       "\n",
       "    <div class=\"bk-root\">\n",
       "        <a href=\"https://bokeh.pydata.org\" target=\"_blank\" class=\"bk-logo bk-logo-small bk-logo-notebook\"></a>\n",
       "        <span id=\"da01096c-8c89-4c98-b659-ae1df5a4cc18\">Loading BokehJS ...</span>\n",
       "    </div>"
      ]
     },
     "metadata": {},
     "output_type": "display_data"
    },
    {
     "data": {
      "application/javascript": [
       "\n",
       "(function(root) {\n",
       "  function now() {\n",
       "    return new Date();\n",
       "  }\n",
       "\n",
       "  var force = true;\n",
       "\n",
       "  if (typeof (root._bokeh_onload_callbacks) === \"undefined\" || force === true) {\n",
       "    root._bokeh_onload_callbacks = [];\n",
       "    root._bokeh_is_loading = undefined;\n",
       "  }\n",
       "\n",
       "  var JS_MIME_TYPE = 'application/javascript';\n",
       "  var HTML_MIME_TYPE = 'text/html';\n",
       "  var EXEC_MIME_TYPE = 'application/vnd.bokehjs_exec.v0+json';\n",
       "  var CLASS_NAME = 'output_bokeh rendered_html';\n",
       "\n",
       "  /**\n",
       "   * Render data to the DOM node\n",
       "   */\n",
       "  function render(props, node) {\n",
       "    var script = document.createElement(\"script\");\n",
       "    node.appendChild(script);\n",
       "  }\n",
       "\n",
       "  /**\n",
       "   * Handle when an output is cleared or removed\n",
       "   */\n",
       "  function handleClearOutput(event, handle) {\n",
       "    var cell = handle.cell;\n",
       "\n",
       "    var id = cell.output_area._bokeh_element_id;\n",
       "    var server_id = cell.output_area._bokeh_server_id;\n",
       "    // Clean up Bokeh references\n",
       "    if (id !== undefined) {\n",
       "      Bokeh.index[id].model.document.clear();\n",
       "      delete Bokeh.index[id];\n",
       "    }\n",
       "\n",
       "    if (server_id !== undefined) {\n",
       "      // Clean up Bokeh references\n",
       "      var cmd = \"from bokeh.io.state import curstate; print(curstate().uuid_to_server['\" + server_id + \"'].get_sessions()[0].document.roots[0]._id)\";\n",
       "      cell.notebook.kernel.execute(cmd, {\n",
       "        iopub: {\n",
       "          output: function(msg) {\n",
       "            var element_id = msg.content.text.trim();\n",
       "            Bokeh.index[element_id].model.document.clear();\n",
       "            delete Bokeh.index[element_id];\n",
       "          }\n",
       "        }\n",
       "      });\n",
       "      // Destroy server and session\n",
       "      var cmd = \"import bokeh.io.notebook as ion; ion.destroy_server('\" + server_id + \"')\";\n",
       "      cell.notebook.kernel.execute(cmd);\n",
       "    }\n",
       "  }\n",
       "\n",
       "  /**\n",
       "   * Handle when a new output is added\n",
       "   */\n",
       "  function handleAddOutput(event, handle) {\n",
       "    var output_area = handle.output_area;\n",
       "    var output = handle.output;\n",
       "\n",
       "    // limit handleAddOutput to display_data with EXEC_MIME_TYPE content only\n",
       "    if ((output.output_type != \"display_data\") || (!output.data.hasOwnProperty(EXEC_MIME_TYPE))) {\n",
       "      return\n",
       "    }\n",
       "\n",
       "    var toinsert = output_area.element.find(\".\" + CLASS_NAME.split(' ')[0]);\n",
       "\n",
       "    if (output.metadata[EXEC_MIME_TYPE][\"id\"] !== undefined) {\n",
       "      toinsert[toinsert.length - 1].firstChild.textContent = output.data[JS_MIME_TYPE];\n",
       "      // store reference to embed id on output_area\n",
       "      output_area._bokeh_element_id = output.metadata[EXEC_MIME_TYPE][\"id\"];\n",
       "    }\n",
       "    if (output.metadata[EXEC_MIME_TYPE][\"server_id\"] !== undefined) {\n",
       "      var bk_div = document.createElement(\"div\");\n",
       "      bk_div.innerHTML = output.data[HTML_MIME_TYPE];\n",
       "      var script_attrs = bk_div.children[0].attributes;\n",
       "      for (var i = 0; i < script_attrs.length; i++) {\n",
       "        toinsert[toinsert.length - 1].firstChild.setAttribute(script_attrs[i].name, script_attrs[i].value);\n",
       "      }\n",
       "      // store reference to server id on output_area\n",
       "      output_area._bokeh_server_id = output.metadata[EXEC_MIME_TYPE][\"server_id\"];\n",
       "    }\n",
       "  }\n",
       "\n",
       "  function register_renderer(events, OutputArea) {\n",
       "\n",
       "    function append_mime(data, metadata, element) {\n",
       "      // create a DOM node to render to\n",
       "      var toinsert = this.create_output_subarea(\n",
       "        metadata,\n",
       "        CLASS_NAME,\n",
       "        EXEC_MIME_TYPE\n",
       "      );\n",
       "      this.keyboard_manager.register_events(toinsert);\n",
       "      // Render to node\n",
       "      var props = {data: data, metadata: metadata[EXEC_MIME_TYPE]};\n",
       "      render(props, toinsert[toinsert.length - 1]);\n",
       "      element.append(toinsert);\n",
       "      return toinsert\n",
       "    }\n",
       "\n",
       "    /* Handle when an output is cleared or removed */\n",
       "    events.on('clear_output.CodeCell', handleClearOutput);\n",
       "    events.on('delete.Cell', handleClearOutput);\n",
       "\n",
       "    /* Handle when a new output is added */\n",
       "    events.on('output_added.OutputArea', handleAddOutput);\n",
       "\n",
       "    /**\n",
       "     * Register the mime type and append_mime function with output_area\n",
       "     */\n",
       "    OutputArea.prototype.register_mime_type(EXEC_MIME_TYPE, append_mime, {\n",
       "      /* Is output safe? */\n",
       "      safe: true,\n",
       "      /* Index of renderer in `output_area.display_order` */\n",
       "      index: 0\n",
       "    });\n",
       "  }\n",
       "\n",
       "  // register the mime type if in Jupyter Notebook environment and previously unregistered\n",
       "  if (root.Jupyter !== undefined) {\n",
       "    var events = require('base/js/events');\n",
       "    var OutputArea = require('notebook/js/outputarea').OutputArea;\n",
       "\n",
       "    if (OutputArea.prototype.mime_types().indexOf(EXEC_MIME_TYPE) == -1) {\n",
       "      register_renderer(events, OutputArea);\n",
       "    }\n",
       "  }\n",
       "\n",
       "  \n",
       "  if (typeof (root._bokeh_timeout) === \"undefined\" || force === true) {\n",
       "    root._bokeh_timeout = Date.now() + 5000;\n",
       "    root._bokeh_failed_load = false;\n",
       "  }\n",
       "\n",
       "  var NB_LOAD_WARNING = {'data': {'text/html':\n",
       "     \"<div style='background-color: #fdd'>\\n\"+\n",
       "     \"<p>\\n\"+\n",
       "     \"BokehJS does not appear to have successfully loaded. If loading BokehJS from CDN, this \\n\"+\n",
       "     \"may be due to a slow or bad network connection. Possible fixes:\\n\"+\n",
       "     \"</p>\\n\"+\n",
       "     \"<ul>\\n\"+\n",
       "     \"<li>re-rerun `output_notebook()` to attempt to load from CDN again, or</li>\\n\"+\n",
       "     \"<li>use INLINE resources instead, as so:</li>\\n\"+\n",
       "     \"</ul>\\n\"+\n",
       "     \"<code>\\n\"+\n",
       "     \"from bokeh.resources import INLINE\\n\"+\n",
       "     \"output_notebook(resources=INLINE)\\n\"+\n",
       "     \"</code>\\n\"+\n",
       "     \"</div>\"}};\n",
       "\n",
       "  function display_loaded() {\n",
       "    var el = document.getElementById(\"da01096c-8c89-4c98-b659-ae1df5a4cc18\");\n",
       "    if (el != null) {\n",
       "      el.textContent = \"BokehJS is loading...\";\n",
       "    }\n",
       "    if (root.Bokeh !== undefined) {\n",
       "      if (el != null) {\n",
       "        el.textContent = \"BokehJS \" + root.Bokeh.version + \" successfully loaded.\";\n",
       "      }\n",
       "    } else if (Date.now() < root._bokeh_timeout) {\n",
       "      setTimeout(display_loaded, 100)\n",
       "    }\n",
       "  }\n",
       "\n",
       "\n",
       "  function run_callbacks() {\n",
       "    try {\n",
       "      root._bokeh_onload_callbacks.forEach(function(callback) { callback() });\n",
       "    }\n",
       "    finally {\n",
       "      delete root._bokeh_onload_callbacks\n",
       "    }\n",
       "    console.info(\"Bokeh: all callbacks have finished\");\n",
       "  }\n",
       "\n",
       "  function load_libs(js_urls, callback) {\n",
       "    root._bokeh_onload_callbacks.push(callback);\n",
       "    if (root._bokeh_is_loading > 0) {\n",
       "      console.log(\"Bokeh: BokehJS is being loaded, scheduling callback at\", now());\n",
       "      return null;\n",
       "    }\n",
       "    if (js_urls == null || js_urls.length === 0) {\n",
       "      run_callbacks();\n",
       "      return null;\n",
       "    }\n",
       "    console.log(\"Bokeh: BokehJS not loaded, scheduling load and callback at\", now());\n",
       "    root._bokeh_is_loading = js_urls.length;\n",
       "    for (var i = 0; i < js_urls.length; i++) {\n",
       "      var url = js_urls[i];\n",
       "      var s = document.createElement('script');\n",
       "      s.src = url;\n",
       "      s.async = false;\n",
       "      s.onreadystatechange = s.onload = function() {\n",
       "        root._bokeh_is_loading--;\n",
       "        if (root._bokeh_is_loading === 0) {\n",
       "          console.log(\"Bokeh: all BokehJS libraries loaded\");\n",
       "          run_callbacks()\n",
       "        }\n",
       "      };\n",
       "      s.onerror = function() {\n",
       "        console.warn(\"failed to load library \" + url);\n",
       "      };\n",
       "      console.log(\"Bokeh: injecting script tag for BokehJS library: \", url);\n",
       "      document.getElementsByTagName(\"head\")[0].appendChild(s);\n",
       "    }\n",
       "  };var element = document.getElementById(\"da01096c-8c89-4c98-b659-ae1df5a4cc18\");\n",
       "  if (element == null) {\n",
       "    console.log(\"Bokeh: ERROR: autoload.js configured with elementid 'da01096c-8c89-4c98-b659-ae1df5a4cc18' but no matching script tag was found. \")\n",
       "    return false;\n",
       "  }\n",
       "\n",
       "  var js_urls = [\"https://cdn.pydata.org/bokeh/release/bokeh-0.12.16.min.js\", \"https://cdn.pydata.org/bokeh/release/bokeh-widgets-0.12.16.min.js\", \"https://cdn.pydata.org/bokeh/release/bokeh-tables-0.12.16.min.js\", \"https://cdn.pydata.org/bokeh/release/bokeh-gl-0.12.16.min.js\"];\n",
       "\n",
       "  var inline_js = [\n",
       "    function(Bokeh) {\n",
       "      Bokeh.set_log_level(\"info\");\n",
       "    },\n",
       "    \n",
       "    function(Bokeh) {\n",
       "      \n",
       "    },\n",
       "    function(Bokeh) {\n",
       "      console.log(\"Bokeh: injecting CSS: https://cdn.pydata.org/bokeh/release/bokeh-0.12.16.min.css\");\n",
       "      Bokeh.embed.inject_css(\"https://cdn.pydata.org/bokeh/release/bokeh-0.12.16.min.css\");\n",
       "      console.log(\"Bokeh: injecting CSS: https://cdn.pydata.org/bokeh/release/bokeh-widgets-0.12.16.min.css\");\n",
       "      Bokeh.embed.inject_css(\"https://cdn.pydata.org/bokeh/release/bokeh-widgets-0.12.16.min.css\");\n",
       "      console.log(\"Bokeh: injecting CSS: https://cdn.pydata.org/bokeh/release/bokeh-tables-0.12.16.min.css\");\n",
       "      Bokeh.embed.inject_css(\"https://cdn.pydata.org/bokeh/release/bokeh-tables-0.12.16.min.css\");\n",
       "    }\n",
       "  ];\n",
       "\n",
       "  function run_inline_js() {\n",
       "    \n",
       "    if ((root.Bokeh !== undefined) || (force === true)) {\n",
       "      for (var i = 0; i < inline_js.length; i++) {\n",
       "        inline_js[i].call(root, root.Bokeh);\n",
       "      }if (force === true) {\n",
       "        display_loaded();\n",
       "      }} else if (Date.now() < root._bokeh_timeout) {\n",
       "      setTimeout(run_inline_js, 100);\n",
       "    } else if (!root._bokeh_failed_load) {\n",
       "      console.log(\"Bokeh: BokehJS failed to load within specified timeout.\");\n",
       "      root._bokeh_failed_load = true;\n",
       "    } else if (force !== true) {\n",
       "      var cell = $(document.getElementById(\"da01096c-8c89-4c98-b659-ae1df5a4cc18\")).parents('.cell').data().cell;\n",
       "      cell.output_area.append_execute_result(NB_LOAD_WARNING)\n",
       "    }\n",
       "\n",
       "  }\n",
       "\n",
       "  if (root._bokeh_is_loading === 0) {\n",
       "    console.log(\"Bokeh: BokehJS loaded, going straight to plotting\");\n",
       "    run_inline_js();\n",
       "  } else {\n",
       "    load_libs(js_urls, function() {\n",
       "      console.log(\"Bokeh: BokehJS plotting callback run at\", now());\n",
       "      run_inline_js();\n",
       "    });\n",
       "  }\n",
       "}(window));"
      ],
      "application/vnd.bokehjs_load.v0+json": "\n(function(root) {\n  function now() {\n    return new Date();\n  }\n\n  var force = true;\n\n  if (typeof (root._bokeh_onload_callbacks) === \"undefined\" || force === true) {\n    root._bokeh_onload_callbacks = [];\n    root._bokeh_is_loading = undefined;\n  }\n\n  \n\n  \n  if (typeof (root._bokeh_timeout) === \"undefined\" || force === true) {\n    root._bokeh_timeout = Date.now() + 5000;\n    root._bokeh_failed_load = false;\n  }\n\n  var NB_LOAD_WARNING = {'data': {'text/html':\n     \"<div style='background-color: #fdd'>\\n\"+\n     \"<p>\\n\"+\n     \"BokehJS does not appear to have successfully loaded. If loading BokehJS from CDN, this \\n\"+\n     \"may be due to a slow or bad network connection. Possible fixes:\\n\"+\n     \"</p>\\n\"+\n     \"<ul>\\n\"+\n     \"<li>re-rerun `output_notebook()` to attempt to load from CDN again, or</li>\\n\"+\n     \"<li>use INLINE resources instead, as so:</li>\\n\"+\n     \"</ul>\\n\"+\n     \"<code>\\n\"+\n     \"from bokeh.resources import INLINE\\n\"+\n     \"output_notebook(resources=INLINE)\\n\"+\n     \"</code>\\n\"+\n     \"</div>\"}};\n\n  function display_loaded() {\n    var el = document.getElementById(\"da01096c-8c89-4c98-b659-ae1df5a4cc18\");\n    if (el != null) {\n      el.textContent = \"BokehJS is loading...\";\n    }\n    if (root.Bokeh !== undefined) {\n      if (el != null) {\n        el.textContent = \"BokehJS \" + root.Bokeh.version + \" successfully loaded.\";\n      }\n    } else if (Date.now() < root._bokeh_timeout) {\n      setTimeout(display_loaded, 100)\n    }\n  }\n\n\n  function run_callbacks() {\n    try {\n      root._bokeh_onload_callbacks.forEach(function(callback) { callback() });\n    }\n    finally {\n      delete root._bokeh_onload_callbacks\n    }\n    console.info(\"Bokeh: all callbacks have finished\");\n  }\n\n  function load_libs(js_urls, callback) {\n    root._bokeh_onload_callbacks.push(callback);\n    if (root._bokeh_is_loading > 0) {\n      console.log(\"Bokeh: BokehJS is being loaded, scheduling callback at\", now());\n      return null;\n    }\n    if (js_urls == null || js_urls.length === 0) {\n      run_callbacks();\n      return null;\n    }\n    console.log(\"Bokeh: BokehJS not loaded, scheduling load and callback at\", now());\n    root._bokeh_is_loading = js_urls.length;\n    for (var i = 0; i < js_urls.length; i++) {\n      var url = js_urls[i];\n      var s = document.createElement('script');\n      s.src = url;\n      s.async = false;\n      s.onreadystatechange = s.onload = function() {\n        root._bokeh_is_loading--;\n        if (root._bokeh_is_loading === 0) {\n          console.log(\"Bokeh: all BokehJS libraries loaded\");\n          run_callbacks()\n        }\n      };\n      s.onerror = function() {\n        console.warn(\"failed to load library \" + url);\n      };\n      console.log(\"Bokeh: injecting script tag for BokehJS library: \", url);\n      document.getElementsByTagName(\"head\")[0].appendChild(s);\n    }\n  };var element = document.getElementById(\"da01096c-8c89-4c98-b659-ae1df5a4cc18\");\n  if (element == null) {\n    console.log(\"Bokeh: ERROR: autoload.js configured with elementid 'da01096c-8c89-4c98-b659-ae1df5a4cc18' but no matching script tag was found. \")\n    return false;\n  }\n\n  var js_urls = [\"https://cdn.pydata.org/bokeh/release/bokeh-0.12.16.min.js\", \"https://cdn.pydata.org/bokeh/release/bokeh-widgets-0.12.16.min.js\", \"https://cdn.pydata.org/bokeh/release/bokeh-tables-0.12.16.min.js\", \"https://cdn.pydata.org/bokeh/release/bokeh-gl-0.12.16.min.js\"];\n\n  var inline_js = [\n    function(Bokeh) {\n      Bokeh.set_log_level(\"info\");\n    },\n    \n    function(Bokeh) {\n      \n    },\n    function(Bokeh) {\n      console.log(\"Bokeh: injecting CSS: https://cdn.pydata.org/bokeh/release/bokeh-0.12.16.min.css\");\n      Bokeh.embed.inject_css(\"https://cdn.pydata.org/bokeh/release/bokeh-0.12.16.min.css\");\n      console.log(\"Bokeh: injecting CSS: https://cdn.pydata.org/bokeh/release/bokeh-widgets-0.12.16.min.css\");\n      Bokeh.embed.inject_css(\"https://cdn.pydata.org/bokeh/release/bokeh-widgets-0.12.16.min.css\");\n      console.log(\"Bokeh: injecting CSS: https://cdn.pydata.org/bokeh/release/bokeh-tables-0.12.16.min.css\");\n      Bokeh.embed.inject_css(\"https://cdn.pydata.org/bokeh/release/bokeh-tables-0.12.16.min.css\");\n    }\n  ];\n\n  function run_inline_js() {\n    \n    if ((root.Bokeh !== undefined) || (force === true)) {\n      for (var i = 0; i < inline_js.length; i++) {\n        inline_js[i].call(root, root.Bokeh);\n      }if (force === true) {\n        display_loaded();\n      }} else if (Date.now() < root._bokeh_timeout) {\n      setTimeout(run_inline_js, 100);\n    } else if (!root._bokeh_failed_load) {\n      console.log(\"Bokeh: BokehJS failed to load within specified timeout.\");\n      root._bokeh_failed_load = true;\n    } else if (force !== true) {\n      var cell = $(document.getElementById(\"da01096c-8c89-4c98-b659-ae1df5a4cc18\")).parents('.cell').data().cell;\n      cell.output_area.append_execute_result(NB_LOAD_WARNING)\n    }\n\n  }\n\n  if (root._bokeh_is_loading === 0) {\n    console.log(\"Bokeh: BokehJS loaded, going straight to plotting\");\n    run_inline_js();\n  } else {\n    load_libs(js_urls, function() {\n      console.log(\"Bokeh: BokehJS plotting callback run at\", now());\n      run_inline_js();\n    });\n  }\n}(window));"
     },
     "metadata": {},
     "output_type": "display_data"
    }
   ],
   "source": [
    "output_notebook()"
   ]
  },
  {
   "cell_type": "code",
   "execution_count": 8,
   "metadata": {
    "collapsed": true
   },
   "outputs": [],
   "source": [
    "def fmt_cool(ds_in):\n",
    "    ds = ds_in.copy(deep=True)\n",
    "    if 'igg' in ds.dims:\n",
    "        ds = ds.sel(igg=1)\n",
    "\n",
    "    if 'g' in ds.dims:\n",
    "        ds = ds.sum('g')\n",
    "            \n",
    "    if 'band' in ds.dims:\n",
    "        try:\n",
    "            ds = ds.squeeze('band')\n",
    "        except ValueError:\n",
    "            ds = ds.sum('band')\n",
    "                \n",
    "    return ds['coolrg']\n",
    "\n",
    "\n",
    "def pltdata_cooling_1(ds_cool=None,\n",
    "                      ds_cool_crd=None, ds_cool_wgt=None):\n",
    "    \n",
    "\n",
    "\n",
    "    colors = all_palettes['Set1'][4]\n",
    "    data = [{'label': 'CLIRAD `coolr_bands`',\n",
    "             'srs': fmt_cool(ds_cool),\n",
    "             'line_dash': 'dashed', 'line_width': 5,\n",
    "             'color': colors[0], 'alpha': .6},\n",
    "            {'label': 'CRD',\n",
    "             'srs': fmt_cool(ds_cool_crd),\n",
    "             'line_dash': 'solid', 'line_width': 1.5,\n",
    "             'marker': 'circle', 'marker_size': 5,\n",
    "             'color': colors[2], 'alpha': 1,},\n",
    "            {'label': 'WGT igg=10 wgt_flux=2',\n",
    "             'srs': fmt_cool(ds_cool_wgt),\n",
    "             'line_dash': 'solid', 'line_width': 3,\n",
    "             'marker': 'square', 'marker_size': 5,\n",
    "             'color': colors[3], 'alpha': .6}]\n",
    "    return data\n",
    "\n",
    "\n",
    "def nice_xlims(pltdata=None, prange=None):\n",
    "    \n",
    "    def get_slice(srs):\n",
    "        return srs.sel(pressure=slice(*prange))\n",
    "    \n",
    "    srss = [d['srs'] for d in pltdata]\n",
    "    vmin = min([get_slice(srs).min() for srs in srss])\n",
    "    vmax = max([get_slice(srs).max() for srs in srss])\n",
    "    dv = (vmax - vmin) * .01\n",
    "    return float(vmin - dv), float(vmax + dv)\n",
    "    \n",
    "\n",
    "def plt_cooling_bokeh(pltdata=None):\n",
    "    '''\n",
    "    Plot a list of cooling rate profiles using bokeh.\n",
    "    '''\n",
    "    ymin = 1e-2 \n",
    "    ymax = 1020 \n",
    "        \n",
    "    p1 = figure(title=\"Linear pressure scale\", \n",
    "                plot_width=400)        \n",
    "    xmin, xmax = nice_xlims(pltdata, prange=(50, 1050))\n",
    "    for d in pltdata:\n",
    "        if 'marker' in d:\n",
    "            getattr(p1, d['marker'])(d['srs'].values, \n",
    "                    d['srs'].coords['pressure'].values,\n",
    "                    color=d['color'], alpha=.7)\n",
    "        p1.line(d['srs'].values, \n",
    "                d['srs'].coords['pressure'].values,\n",
    "                color=d['color'], alpha=d['alpha'], \n",
    "                line_width=d['line_width'], line_dash=d['line_dash'])\n",
    "    \n",
    "    p1.y_range = Range1d(ymax, ymin)\n",
    "    p1.yaxis.axis_label = 'pressure [mb]'   \n",
    "    p1.x_range = Range1d(xmin, xmax)\n",
    "    p1.xaxis.axis_label = 'cooling rate [K/day]'\n",
    "            \n",
    "    p2 = figure(title='Log pressure scale', y_axis_type='log',\n",
    "                plot_width=560)\n",
    "    xmin, xmax = nice_xlims(pltdata, prange=(.01, 200))\n",
    "    \n",
    "    rs = []\n",
    "    for d in pltdata:\n",
    "        rd = []\n",
    "        if 'marker' in d:\n",
    "            r_mark = getattr(p2, d['marker'])(d['srs'].values, \n",
    "                        d['srs'].coords['pressure'].values,\n",
    "                        color=d['color'], alpha=.7)\n",
    "            rd.append(r_mark)\n",
    "        r_line = p2.line(d['srs'].values, \n",
    "                    d['srs'].coords['pressure'].values,\n",
    "                    color=d['color'], alpha=d['alpha'], \n",
    "                    line_width=d['line_width'], line_dash=d['line_dash'])\n",
    "        rd.append(r_line)\n",
    "      \n",
    "        rs.append(rd)\n",
    "        \n",
    "    p2.y_range = Range1d(ymax, ymin)  \n",
    "    p2.yaxis.axis_label = 'pressure [mb]'\n",
    "    \n",
    "    p2.x_range = Range1d(xmin, xmax)\n",
    "    p2.xaxis.axis_label = 'cooling rate [K/day]'\n",
    "    \n",
    "    items = [(d['label'], r) for r, d in zip(rs, pltdata)]\n",
    "    legend = Legend(items=items, location=(10, -30))\n",
    "    legend.label_text_font_size = '8pt'\n",
    "    \n",
    "    p2.add_layout(legend, 'right')  \n",
    "    \n",
    "    show(gridplot(p1, p2, ncols=2, plot_height=500))\n",
    "    \n",
    "\n",
    "def script_plt_cooling():\n",
    "    pltdata = pltdata_cooling_1(\n",
    "        ds_cool=DS_COOL,\n",
    "        ds_cool_crd=DS_COOL_CRD,\n",
    "        ds_cool_wgt=DS_COOL_WGT)\n",
    "    plt_cooling_bokeh(pltdata=pltdata)\n",
    "    print('''FIGURE. Cooling rate profiles.''')"
   ]
  },
  {
   "cell_type": "code",
   "execution_count": 9,
   "metadata": {
    "collapsed": true
   },
   "outputs": [],
   "source": [
    "def fmt_flux(ds_in):\n",
    "    ds = ds_in.copy(deep=True)\n",
    "    \n",
    "    for l in ('level', 'layer'):\n",
    "        if l in ds.data_vars:\n",
    "            if len(ds[l].dims) > 1:\n",
    "                surface = {d: 0 for d in ds.dims if d != 'pressure'}\n",
    "                coord_level = ds[l][surface]\n",
    "                ds.coords[l] = ('pressure', coord_level)\n",
    "            else:\n",
    "                ds.coords[l] = ('pressure', ds[l])\n",
    "        \n",
    "    ds = ds.isel(pressure=[0, 23, -1])\n",
    "        \n",
    "    if 'igg' in ds.dims:\n",
    "        ds = ds.sel(igg=[1])\n",
    "        ds = ds.squeeze('igg').drop('igg')\n",
    "    \n",
    "    if 'g' in ds.dims:\n",
    "        ds = ds.sum('g')\n",
    "            \n",
    "    if 'band' in ds.dims:\n",
    "        try:\n",
    "            ds = ds.squeeze('band').drop('band')\n",
    "        except ValueError:\n",
    "            ds = ds.sum('band')\n",
    "                \n",
    "    df = ds.to_dataframe()\n",
    "    df = df.set_index('level', append=True)               \n",
    "    return df\n",
    "\n",
    "\n",
    "def tbdata_flux(ds_flux=None, ds_flux_crd=None, ds_flux_wgt=None):\n",
    "    ilevels = [0, 23, -1]\n",
    "            \n",
    "    benchmark = {'label': 'CRD',\n",
    "                 'df': fmt_flux(ds_flux_crd)}\n",
    "    \n",
    "    tbs = [{'label': 'WGT igg=10 wgt_flux=1',\n",
    "            'df': fmt_flux(ds_flux_wgt)},\n",
    "           {'label': 'CLIRAD',\n",
    "            'df': fmt_flux(ds_flux)}]\n",
    "    \n",
    "    data = {'benchmark': benchmark, 'others': tbs}\n",
    "    return data\n",
    "\n",
    "\n",
    "def tb_flux(tbdata=None):\n",
    "    benchmark = tbdata['benchmark']\n",
    "    others = tbdata['others']\n",
    "    \n",
    "    def show_tb(d=None):\n",
    "        display.display(d['df'])\n",
    "        print('Table.', 'Fluxes.', d['label'])\n",
    "        \n",
    "    def show_tbdiff(d0=None, d=None):\n",
    "        df = d['df']\n",
    "        df.index = d0['df'].index\n",
    "        display.display(df - d0['df'])\n",
    "        print('Table.', 'Fluxes.', \n",
    "              '({}) - ({})'.format(d['label'], d0['label']))\n",
    "        \n",
    "    show_tb(benchmark)\n",
    "    for d in others:\n",
    "        show_tb(d)\n",
    "        \n",
    "    for d in others:\n",
    "        show_tbdiff(d=d, d0=benchmark)\n",
    "        \n",
    "        \n",
    "def script_tb_flux():\n",
    "    data = tbdata_flux(ds_flux=DS_FLUX,\n",
    "                       ds_flux_crd=DS_FLUX_CRD,\n",
    "                       ds_flux_wgt=DS_FLUX_WGT)\n",
    "    tb_flux(tbdata=data)"
   ]
  },
  {
   "cell_type": "code",
   "execution_count": 10,
   "metadata": {
    "collapsed": true
   },
   "outputs": [],
   "source": [
    "def band_map():\n",
    "    '''\n",
    "    Maps spectral bands in lblnew to spectral bands in clirad.\n",
    "    '''\n",
    "    lblnew2clirad = {'1': '1',\n",
    "            '2': '2',\n",
    "            '3a': '3',\n",
    "            '3b': '4',\n",
    "            '3c': '5',\n",
    "            '4': '6', \n",
    "            '5': '7',\n",
    "            '6': '8',\n",
    "            '7': '9', \n",
    "            '8': '10',\n",
    "            '9': '11'}\n",
    "    \n",
    "    clirad2lblnew = {clirad: lblnew \n",
    "                     for lblnew, clirad in lblnew2clirad.items()}\n",
    "    return clirad2lblnew\n",
    "\n",
    "\n",
    "def gasbands():\n",
    "    bmap = band_map()\n",
    "    gases = list(PARAM['molecule'].keys())\n",
    "    \n",
    "    bands = [bmap[str(b)] for b in PARAM['band']]\n",
    "    return list(itertools.product(gases, bands))\n",
    "\n",
    "\n",
    "def print_bestfit_params():\n",
    "    print('Best-fit values for each (gas, band)')\n",
    "    print('------------------------------------')\n",
    "    for gas, band in gasbands():\n",
    "        print('o {} band{}'.format(gas, band))\n",
    "        param = bestfits.kdist_params(molecule=gas, band=band)\n",
    "        for name, value in sorted(param.items()):\n",
    "            print(2 * ' ' + '{} = {}'.format(name, value))\n",
    "\n",
    "        \n",
    "def print_input_param():        \n",
    "    for name, value in PARAM.items():\n",
    "        print('{} = {}'.format(name, value))\n",
    "        \n",
    "        \n",
    "def print_lblnew_param():\n",
    "    for name, value in sorted(PARAM_LBLNEW.items()):\n",
    "        print('{} = {}'.format(name, value))\n"
   ]
  },
  {
   "cell_type": "code",
   "execution_count": 11,
   "metadata": {
    "collapsed": true,
    "scrolled": false
   },
   "outputs": [],
   "source": [
    "def show_html(s):\n",
    "    display.display(display.HTML(s))\n",
    "\n",
    "    \n",
    "def show_markdown(s):\n",
    "    display.display(display.Markdown(s))\n",
    "\n",
    "    \n",
    "def script():\n",
    "    \n",
    "    title = '### CLIRAD-LW'\n",
    "    s_input = 'Input Parameters'\n",
    "    s_lblnew_param = 'LBLNEW case compaired against'\n",
    "    s_bestfits = 'Best-fit Parameters'\n",
    "    s_plt_cooling = 'Cooling Rate Profiles'\n",
    "    s_tb_flux = 'Flux Comparison'\n",
    "    \n",
    "    # title\n",
    "    show_markdown('### CLIRAD-LW')\n",
    "    \n",
    "    # TOC\n",
    "    show_markdown('### Table of Contents')\n",
    "    show_html(climahtml.getHTML_hrefanchor(s_input))\n",
    "    show_html(climahtml.getHTML_hrefanchor(s_lblnew_param))\n",
    "    show_html(climahtml.getHTML_hrefanchor(s_plt_cooling))\n",
    "    show_html(climahtml.getHTML_hrefanchor(s_tb_flux))\n",
    "    show_html(climahtml.getHTML_hrefanchor(s_bestfits))\n",
    "    \n",
    "    # Input parameters\n",
    "    show_html(climahtml.getHTML_idanchor(s_input))\n",
    "    show_markdown(climahtml.getMarkdown_sectitle(s_input))\n",
    "    print_input_param()\n",
    "    \n",
    "    # LBLNEW parameters \n",
    "    show_html(climahtml.getHTML_idanchor(s_lblnew_param))\n",
    "    show_markdown(climahtml.getMarkdown_sectitle(s_lblnew_param))\n",
    "    print_lblnew_param()\n",
    "    \n",
    "    # Cooling rate profiles\n",
    "    show_html(climahtml.getHTML_idanchor(s_plt_cooling))\n",
    "    show_markdown(climahtml.getMarkdown_sectitle(s_plt_cooling))\n",
    "    script_plt_cooling()\n",
    "    \n",
    "    # Flux comparison\n",
    "    show_html(climahtml.getHTML_idanchor(s_tb_flux))\n",
    "    show_markdown(climahtml.getMarkdown_sectitle(s_tb_flux))\n",
    "    script_tb_flux()\n",
    "    \n",
    "    # Best-fit values\n",
    "    show_html(climahtml.getHTML_idanchor(s_bestfits))\n",
    "    show_markdown(climahtml.getMarkdown_sectitle(s_bestfits))\n",
    "    print_bestfit_params()\n",
    "   \n",
    "    "
   ]
  },
  {
   "cell_type": "code",
   "execution_count": 12,
   "metadata": {
    "collapsed": true,
    "scrolled": false
   },
   "outputs": [
    {
     "data": {
      "text/markdown": [
       "### CLIRAD-LW"
      ],
      "text/plain": [
       "<IPython.core.display.Markdown object>"
      ]
     },
     "metadata": {},
     "output_type": "display_data"
    },
    {
     "data": {
      "text/markdown": [
       "### Table of Contents"
      ],
      "text/plain": [
       "<IPython.core.display.Markdown object>"
      ]
     },
     "metadata": {},
     "output_type": "display_data"
    },
    {
     "data": {
      "text/html": [
       "<a href=\"#Input_Parameters\">Input Parameters</a>"
      ],
      "text/plain": [
       "<IPython.core.display.HTML object>"
      ]
     },
     "metadata": {},
     "output_type": "display_data"
    },
    {
     "data": {
      "text/html": [
       "<a href=\"#LBLNEW_case_compaired_against\">LBLNEW case compaired against</a>"
      ],
      "text/plain": [
       "<IPython.core.display.HTML object>"
      ]
     },
     "metadata": {},
     "output_type": "display_data"
    },
    {
     "data": {
      "text/html": [
       "<a href=\"#Cooling_Rate_Profiles\">Cooling Rate Profiles</a>"
      ],
      "text/plain": [
       "<IPython.core.display.HTML object>"
      ]
     },
     "metadata": {},
     "output_type": "display_data"
    },
    {
     "data": {
      "text/html": [
       "<a href=\"#Flux_Comparison\">Flux Comparison</a>"
      ],
      "text/plain": [
       "<IPython.core.display.HTML object>"
      ]
     },
     "metadata": {},
     "output_type": "display_data"
    },
    {
     "data": {
      "text/html": [
       "<a href=\"#Best-fit_Parameters\">Best-fit Parameters</a>"
      ],
      "text/plain": [
       "<IPython.core.display.HTML object>"
      ]
     },
     "metadata": {},
     "output_type": "display_data"
    },
    {
     "data": {
      "text/html": [
       "<a id=\"Input_Parameters\"></a>"
      ],
      "text/plain": [
       "<IPython.core.display.HTML object>"
      ]
     },
     "metadata": {},
     "output_type": "display_data"
    },
    {
     "data": {
      "text/markdown": [
       "# Input Parameters"
      ],
      "text/plain": [
       "<IPython.core.display.Markdown object>"
      ]
     },
     "metadata": {},
     "output_type": "display_data"
    },
    {
     "name": "stdout",
     "output_type": "stream",
     "text": [
      "commitnumber = de5d43e\n",
      "molecule = {'h2o': 'atmpro', 'n2o': 3.2e-07, 'ch4': 1.8e-06}\n",
      "band = [9]\n",
      "atmpro = saw\n",
      "tsfc = 257\n"
     ]
    },
    {
     "data": {
      "text/html": [
       "<a id=\"LBLNEW_case_compaired_against\"></a>"
      ],
      "text/plain": [
       "<IPython.core.display.HTML object>"
      ]
     },
     "metadata": {},
     "output_type": "display_data"
    },
    {
     "data": {
      "text/markdown": [
       "# LBLNEW case compaired against"
      ],
      "text/plain": [
       "<IPython.core.display.Markdown object>"
      ]
     },
     "metadata": {},
     "output_type": "display_data"
    },
    {
     "name": "stdout",
     "output_type": "stream",
     "text": [
      "atmpro = saw\n",
      "band = 7\n",
      "commitnumber = 5014a19\n",
      "dv = 0.001\n",
      "molecule = {'h2o': 'atmpro', 'n2o': 3.2e-07, 'ch4': 1.8e-06}\n",
      "nv = 1000\n",
      "tsfc = 257\n"
     ]
    },
    {
     "data": {
      "text/html": [
       "<a id=\"Cooling_Rate_Profiles\"></a>"
      ],
      "text/plain": [
       "<IPython.core.display.HTML object>"
      ]
     },
     "metadata": {},
     "output_type": "display_data"
    },
    {
     "data": {
      "text/markdown": [
       "# Cooling Rate Profiles"
      ],
      "text/plain": [
       "<IPython.core.display.Markdown object>"
      ]
     },
     "metadata": {},
     "output_type": "display_data"
    },
    {
     "data": {
      "text/html": [
       "\n",
       "<div class=\"bk-root\">\n",
       "    <div class=\"bk-plotdiv\" id=\"08ba30ae-4f77-4d08-8941-8bb56aa2cddd\"></div>\n",
       "</div>"
      ]
     },
     "metadata": {},
     "output_type": "display_data"
    },
    {
     "data": {
      "application/javascript": [
       "(function(root) {\n",
       "  function embed_document(root) {\n",
       "    \n",
       "  var docs_json = {\"01e117b0-3433-4a7b-910c-937249c3f78c\":{\"roots\":{\"references\":[{\"attributes\":{\"items\":[{\"id\":\"61edb619-918f-420b-9537-c5c33b1c1b8a\",\"type\":\"LegendItem\"},{\"id\":\"edea1dd7-e722-4534-bba6-2be8e85c3a9b\",\"type\":\"LegendItem\"},{\"id\":\"a25b16de-44bb-475d-897e-8d4099d173a5\",\"type\":\"LegendItem\"}],\"label_text_font_size\":{\"value\":\"8pt\"},\"location\":[10,-30],\"plot\":{\"id\":\"ab81e98e-6637-4e9a-842b-c41efdfe272e\",\"subtype\":\"Figure\",\"type\":\"Plot\"}},\"id\":\"c08554e0-198f-420b-822f-855285c33d26\",\"type\":\"Legend\"},{\"attributes\":{\"callback\":null,\"data\":{\"x\":{\"__ndarray__\":\"Jj6LZuT6sL8C6JLStfSuv/T8q78MY6i/xyN+5igXob+5Pjcq8zOSv/5SIjd96Ee/Lhu+AT0/kj8PKiWPnXOjPw2Ha9aVpq4/SgMPcUtitT+djWwZNuu7P639fN/oeME/1Xc8NbA4xT8eBBU8IrLIPw9fR5h5Xcs/iEXSjwKbzT9bK3fyK87PP8fAlUeS+9A/UNwzQ5EL0j+BI6IUhB3TP5iCHDEGGNQ/mo7n0HVj0j9Y7h4DJi7LPwf9lkqJ7sE/93taLOJHtj+35TrFXrOpPyHmwuMDhJo/8ptfIEqsiz+HC0NbA5iEPxfAsI0TPoI/Zaj1+9i9fT9r8fihio50P6ua70LkhHI/WLf9z7p2eD/dWbdZrlJ8P7UI5fZ0uX0/F7N08fahfD8gk/TIGeV1P8dh1uo3w2g/fmHcTf8DRz90WF/xVH9dv1cTiPoEIHO/Ap0sIVZ5gL/0Ex+2LBOJv8avBMS3v5G/B+WrVLg0lL9iYdfikmSRvw8VQ2964oi/+TcLY2JmfL+RjSeNz6dQv9NMeATe4nU/G1NhgAWviD9jQJvBhHaTPwPBXaLswJo/dUWJk4QPoT8IOPHGY7WkP7LsP+7/PKg/7ac+ET2Jqz/IDN+4SH6uP79pipjDgrA/13eKxCCKsT88r5ywCViyP46ZB1rI9rI/jPftaD95sz8i8v3XMPizP7AuQSJ6jbQ/EYNRLUhRtT9SUC7mF0C2P99VSUMR+7Y/a41uqAu9tj9WBHRpQOC0PypMWTI5yLE/Qfpg+AzRrD9l7KLtOkmmP9kOKpfkhZ4/\",\"dtype\":\"float64\",\"shape\":[75]},\"y\":{\"__ndarray__\":\"GhExyth1ND/Sv8nbtpRIP2vylNV0PVE/aTum7souWD/At0SJ8fVgPw3Iuahxymc/MSNhhJWvcD/bTfBN02d3P2zb5nxnaoA/CD5h5MAGhz8NmeH1TyaQP+zrCsc9p5Y/LbKd76fGnz/bLW5ISEmmPww9YvTcQq8/JV2OstnstT8Er5Y7M8G+P0c+r3jqkcU/5h99k6ZBzj88bCIzFzjVP4enV8oyxN0//yH99nXg5D8qOpLLf0jtP5kqGJXUifQ/c9cS8kHP/D+/DpwzojQEQIEmwoanVwxA4lgXt9HgE0BSSZ2AJuIbQAMJih9jjiNA5q4l5INuK0AwTKYKRj0zQNv5fmq8/DpAaCJseHrtQkB/+zpwzoxKQM3MzMzMeFJAZmZmZmZqWEAAAAAAAFxeQM3MzMzMJmJAmpmZmZkfZUBmZmZmZhhoQDMzMzMzEWtAAAAAAAAKbkBmZmZmZoFwQM3MzMzM/XFAMzMzMzN6c0CamZmZmfZ0QAAAAAAAc3ZAZmZmZmbvd0DNzMzMzGt5QDMzMzMz6HpAmpmZmZlkfEAAAAAAAOF9QGZmZmZmXX9AZmZmZuZsgECamZmZGSuBQM3MzMxM6YFAAAAAAICngkAzMzMzs2WDQGZmZmbmI4RAmpmZmRnihEDNzMzMTKCFQAAAAACAXoZAMzMzM7Mch0BmZmZm5tqHQJqZmZkZmYhAzczMzExXiUAAAAAAgBWKQDMzMzOz04pAZmZmZuaRi0CamZmZGVCMQM3MzMxMDo1AAAAAAIDMjUAzMzMzs4qOQGZmZmbmSI9A\",\"dtype\":\"float64\",\"shape\":[75]}},\"selected\":{\"id\":\"9860423b-7e5e-4c41-a7bf-c519aaeb334e\",\"type\":\"Selection\"},\"selection_policy\":{\"id\":\"e6ed1a2f-a4ad-492a-b6b6-b7b697eb878d\",\"type\":\"UnionRenderers\"}},\"id\":\"23c53335-4c6d-44e9-b87d-d0206bcc90cc\",\"type\":\"ColumnDataSource\"},{\"attributes\":{\"line_alpha\":0.6,\"line_color\":\"#984ea3\",\"line_width\":3,\"x\":{\"field\":\"x\"},\"y\":{\"field\":\"y\"}},\"id\":\"e89316ec-3d81-4b45-8b00-143a8e03a32d\",\"type\":\"Line\"},{\"attributes\":{},\"id\":\"27b61531-a7ca-468c-9d71-4936dbe2640b\",\"type\":\"LinearScale\"},{\"attributes\":{\"callback\":null,\"end\":0.317151068312,\"start\":-0.007693259512000001},\"id\":\"ffda31d1-005c-42f7-a022-3a7ff19f7f2f\",\"type\":\"Range1d\"},{\"attributes\":{\"source\":{\"id\":\"7f46d1d4-b265-4b48-bf70-ad30e1b9d8f1\",\"type\":\"ColumnDataSource\"}},\"id\":\"ed1757d7-3846-4a90-b397-758ced95b87c\",\"type\":\"CDSView\"},{\"attributes\":{\"below\":[{\"id\":\"e7ab7ca4-5ac5-401a-b727-5a2952af0998\",\"type\":\"LinearAxis\"}],\"left\":[{\"id\":\"cd07405b-3e4b-4adf-99e6-b137dcafc1ca\",\"type\":\"LogAxis\"}],\"plot_height\":500,\"plot_width\":560,\"renderers\":[{\"id\":\"e7ab7ca4-5ac5-401a-b727-5a2952af0998\",\"type\":\"LinearAxis\"},{\"id\":\"652d78ba-04bf-4422-a03c-b81780c76b5a\",\"type\":\"Grid\"},{\"id\":\"cd07405b-3e4b-4adf-99e6-b137dcafc1ca\",\"type\":\"LogAxis\"},{\"id\":\"53681df2-8a34-4536-849b-1cf7a4769190\",\"type\":\"Grid\"},{\"id\":\"f889f0cd-f1df-45c0-8ab3-af13b384b46d\",\"type\":\"BoxAnnotation\"},{\"id\":\"4f5b26e8-bc59-4a9e-a822-f7efa3b6984a\",\"type\":\"GlyphRenderer\"},{\"id\":\"f85ac93b-157e-4e53-8821-371cae3c5dba\",\"type\":\"GlyphRenderer\"},{\"id\":\"3c9f91df-1378-4887-b00c-c9e4b6ab329e\",\"type\":\"GlyphRenderer\"},{\"id\":\"038a11ce-20e8-450f-b471-8cfff2fc250f\",\"type\":\"GlyphRenderer\"},{\"id\":\"4fd64ad3-71e5-4afe-a6d2-48d45f5e1e2c\",\"type\":\"GlyphRenderer\"},{\"id\":\"c08554e0-198f-420b-822f-855285c33d26\",\"type\":\"Legend\"}],\"right\":[{\"id\":\"c08554e0-198f-420b-822f-855285c33d26\",\"type\":\"Legend\"}],\"title\":{\"id\":\"b2090e23-9471-465c-bc1e-8caabcac4032\",\"type\":\"Title\"},\"toolbar\":{\"id\":\"74f275ac-ed1b-4bd8-8776-8080aa087dbc\",\"type\":\"Toolbar\"},\"toolbar_location\":null,\"x_range\":{\"id\":\"ffda31d1-005c-42f7-a022-3a7ff19f7f2f\",\"type\":\"Range1d\"},\"x_scale\":{\"id\":\"27b61531-a7ca-468c-9d71-4936dbe2640b\",\"type\":\"LinearScale\"},\"y_range\":{\"id\":\"d6ffea4f-771b-4502-8db1-7d07439fd320\",\"type\":\"Range1d\"},\"y_scale\":{\"id\":\"83387ccf-1a96-4d69-9527-110d365a1496\",\"type\":\"LogScale\"}},\"id\":\"ab81e98e-6637-4e9a-842b-c41efdfe272e\",\"subtype\":\"Figure\",\"type\":\"Plot\"},{\"attributes\":{\"axis_label\":\"pressure [mb]\",\"formatter\":{\"id\":\"1eff7d40-19cf-4a27-899a-f21192600a03\",\"type\":\"LogTickFormatter\"},\"plot\":{\"id\":\"ab81e98e-6637-4e9a-842b-c41efdfe272e\",\"subtype\":\"Figure\",\"type\":\"Plot\"},\"ticker\":{\"id\":\"ea613b3f-cceb-4f7b-a8ca-6cf2535e8fe6\",\"type\":\"LogTicker\"}},\"id\":\"cd07405b-3e4b-4adf-99e6-b137dcafc1ca\",\"type\":\"LogAxis\"},{\"attributes\":{},\"id\":\"83387ccf-1a96-4d69-9527-110d365a1496\",\"type\":\"LogScale\"},{\"attributes\":{\"axis_label\":\"cooling rate [K/day]\",\"formatter\":{\"id\":\"9e6c1b14-e04a-4061-9f78-e5d2440e3f79\",\"type\":\"BasicTickFormatter\"},\"plot\":{\"id\":\"ab81e98e-6637-4e9a-842b-c41efdfe272e\",\"subtype\":\"Figure\",\"type\":\"Plot\"},\"ticker\":{\"id\":\"a3ae6de9-b59a-45bd-9e78-f384eb8e6753\",\"type\":\"BasicTicker\"}},\"id\":\"e7ab7ca4-5ac5-401a-b727-5a2952af0998\",\"type\":\"LinearAxis\"},{\"attributes\":{\"source\":{\"id\":\"f0bba5f6-baae-4434-95ff-4becad067973\",\"type\":\"ColumnDataSource\"}},\"id\":\"e24938ad-945e-4c17-b324-09f90d13a1e3\",\"type\":\"CDSView\"},{\"attributes\":{\"source\":{\"id\":\"66fcf841-35d2-491f-a014-7ee61271799e\",\"type\":\"ColumnDataSource\"}},\"id\":\"d08740e8-5497-41a9-a0d5-d9bd48d8e1c7\",\"type\":\"CDSView\"},{\"attributes\":{},\"id\":\"a3ae6de9-b59a-45bd-9e78-f384eb8e6753\",\"type\":\"BasicTicker\"},{\"attributes\":{\"plot\":{\"id\":\"ab81e98e-6637-4e9a-842b-c41efdfe272e\",\"subtype\":\"Figure\",\"type\":\"Plot\"},\"ticker\":{\"id\":\"a3ae6de9-b59a-45bd-9e78-f384eb8e6753\",\"type\":\"BasicTicker\"}},\"id\":\"652d78ba-04bf-4422-a03c-b81780c76b5a\",\"type\":\"Grid\"},{\"attributes\":{\"num_minor_ticks\":10},\"id\":\"ea613b3f-cceb-4f7b-a8ca-6cf2535e8fe6\",\"type\":\"LogTicker\"},{\"attributes\":{\"dimension\":1,\"plot\":{\"id\":\"ab81e98e-6637-4e9a-842b-c41efdfe272e\",\"subtype\":\"Figure\",\"type\":\"Plot\"},\"ticker\":{\"id\":\"ea613b3f-cceb-4f7b-a8ca-6cf2535e8fe6\",\"type\":\"LogTicker\"}},\"id\":\"53681df2-8a34-4536-849b-1cf7a4769190\",\"type\":\"Grid\"},{\"attributes\":{},\"id\":\"9d1db880-bac7-4b7f-8dd2-e3a2d8237895\",\"type\":\"PanTool\"},{\"attributes\":{\"line_alpha\":0.1,\"line_color\":\"#1f77b4\",\"line_width\":1.5,\"x\":{\"field\":\"x\"},\"y\":{\"field\":\"y\"}},\"id\":\"b7d9276f-606f-4431-b612-273ef766c6dd\",\"type\":\"Line\"},{\"attributes\":{\"bottom_units\":\"screen\",\"fill_alpha\":{\"value\":0.5},\"fill_color\":{\"value\":\"lightgrey\"},\"left_units\":\"screen\",\"level\":\"overlay\",\"line_alpha\":{\"value\":1.0},\"line_color\":{\"value\":\"black\"},\"line_dash\":[4,4],\"line_width\":{\"value\":2},\"plot\":null,\"render_mode\":\"css\",\"right_units\":\"screen\",\"top_units\":\"screen\"},\"id\":\"f889f0cd-f1df-45c0-8ab3-af13b384b46d\",\"type\":\"BoxAnnotation\"},{\"attributes\":{\"active_drag\":\"auto\",\"active_inspect\":\"auto\",\"active_scroll\":\"auto\",\"active_tap\":\"auto\",\"tools\":[{\"id\":\"9d1db880-bac7-4b7f-8dd2-e3a2d8237895\",\"type\":\"PanTool\"},{\"id\":\"ba4cda72-42bb-4c72-8333-3d5437d8cd6a\",\"type\":\"WheelZoomTool\"},{\"id\":\"f5901c02-c02c-40e8-8154-7555fa1847bb\",\"type\":\"BoxZoomTool\"},{\"id\":\"685471df-8b88-4ad5-9aab-150af55373b7\",\"type\":\"SaveTool\"},{\"id\":\"4b35ae7f-413d-41fd-8ef5-6fd35be2a68e\",\"type\":\"ResetTool\"},{\"id\":\"af1e273a-5687-4d3b-ab90-9b8afbb586e7\",\"type\":\"HelpTool\"}]},\"id\":\"74f275ac-ed1b-4bd8-8776-8080aa087dbc\",\"type\":\"Toolbar\"},{\"attributes\":{},\"id\":\"ba4cda72-42bb-4c72-8333-3d5437d8cd6a\",\"type\":\"WheelZoomTool\"},{\"attributes\":{\"overlay\":{\"id\":\"f889f0cd-f1df-45c0-8ab3-af13b384b46d\",\"type\":\"BoxAnnotation\"}},\"id\":\"f5901c02-c02c-40e8-8154-7555fa1847bb\",\"type\":\"BoxZoomTool\"},{\"attributes\":{\"source\":{\"id\":\"b2a60edf-5255-48f8-bbcb-d8d3fad60811\",\"type\":\"ColumnDataSource\"}},\"id\":\"da7054d4-8e56-40e5-bf5d-227acfe7522c\",\"type\":\"CDSView\"},{\"attributes\":{},\"id\":\"685471df-8b88-4ad5-9aab-150af55373b7\",\"type\":\"SaveTool\"},{\"attributes\":{},\"id\":\"4b35ae7f-413d-41fd-8ef5-6fd35be2a68e\",\"type\":\"ResetTool\"},{\"attributes\":{\"source\":{\"id\":\"dbcf2128-b90f-46ce-99bb-6e7bd8af4b07\",\"type\":\"ColumnDataSource\"}},\"id\":\"ada87f0b-a6d5-43e4-8756-f5e62a981128\",\"type\":\"CDSView\"},{\"attributes\":{},\"id\":\"af1e273a-5687-4d3b-ab90-9b8afbb586e7\",\"type\":\"HelpTool\"},{\"attributes\":{\"line_alpha\":0.6,\"line_color\":\"#984ea3\",\"line_width\":3,\"x\":{\"field\":\"x\"},\"y\":{\"field\":\"y\"}},\"id\":\"0c0510ce-208b-4fe9-8783-0aba5f71b284\",\"type\":\"Line\"},{\"attributes\":{\"line_color\":\"#4daf4a\",\"line_width\":1.5,\"x\":{\"field\":\"x\"},\"y\":{\"field\":\"y\"}},\"id\":\"b62ed6fa-d08b-415a-9ca7-d39591c678d5\",\"type\":\"Line\"},{\"attributes\":{\"line_alpha\":0.1,\"line_color\":\"#1f77b4\",\"line_dash\":[6],\"line_width\":5,\"x\":{\"field\":\"x\"},\"y\":{\"field\":\"y\"}},\"id\":\"28a98566-d749-414c-b164-d7ac3c4534b3\",\"type\":\"Line\"},{\"attributes\":{\"data_source\":{\"id\":\"f0bba5f6-baae-4434-95ff-4becad067973\",\"type\":\"ColumnDataSource\"},\"glyph\":{\"id\":\"0c0510ce-208b-4fe9-8783-0aba5f71b284\",\"type\":\"Line\"},\"hover_glyph\":null,\"muted_glyph\":null,\"nonselection_glyph\":{\"id\":\"efe20f46-8b5f-4189-b4b4-f06531d8dfbe\",\"type\":\"Line\"},\"selection_glyph\":null,\"view\":{\"id\":\"e24938ad-945e-4c17-b324-09f90d13a1e3\",\"type\":\"CDSView\"}},\"id\":\"ee7b5d6f-f998-442a-a558-71228a0b6f31\",\"type\":\"GlyphRenderer\"},{\"attributes\":{\"data_source\":{\"id\":\"66fcf841-35d2-491f-a014-7ee61271799e\",\"type\":\"ColumnDataSource\"},\"glyph\":{\"id\":\"2085a118-0063-4e5a-9cfc-fbbcada6da5d\",\"type\":\"Circle\"},\"hover_glyph\":null,\"muted_glyph\":null,\"nonselection_glyph\":{\"id\":\"2bd44b89-5be8-45f9-9292-f11254376cd3\",\"type\":\"Circle\"},\"selection_glyph\":null,\"view\":{\"id\":\"d08740e8-5497-41a9-a0d5-d9bd48d8e1c7\",\"type\":\"CDSView\"}},\"id\":\"ec9c2a46-7f30-4010-a168-5ca4dc0c9921\",\"type\":\"GlyphRenderer\"},{\"attributes\":{\"source\":{\"id\":\"6e573f0b-8441-4b44-9059-7f889792c358\",\"type\":\"ColumnDataSource\"}},\"id\":\"ee12e568-caa5-4a25-8cf1-429de63464aa\",\"type\":\"CDSView\"},{\"attributes\":{\"fill_alpha\":{\"value\":0.7},\"fill_color\":{\"value\":\"#984ea3\"},\"line_alpha\":{\"value\":0.7},\"line_color\":{\"value\":\"#984ea3\"},\"x\":{\"field\":\"x\"},\"y\":{\"field\":\"y\"}},\"id\":\"4d391c85-9fd6-4c43-96f1-e75f7d368aa4\",\"type\":\"Square\"},{\"attributes\":{\"data_source\":{\"id\":\"b2a60edf-5255-48f8-bbcb-d8d3fad60811\",\"type\":\"ColumnDataSource\"},\"glyph\":{\"id\":\"2e5030b4-a85d-435f-b5c4-f39cd9e82734\",\"type\":\"Line\"},\"hover_glyph\":null,\"muted_glyph\":null,\"nonselection_glyph\":{\"id\":\"28a98566-d749-414c-b164-d7ac3c4534b3\",\"type\":\"Line\"},\"selection_glyph\":null,\"view\":{\"id\":\"da7054d4-8e56-40e5-bf5d-227acfe7522c\",\"type\":\"CDSView\"}},\"id\":\"4f5b26e8-bc59-4a9e-a822-f7efa3b6984a\",\"type\":\"GlyphRenderer\"},{\"attributes\":{\"line_alpha\":0.6,\"line_color\":\"#e41a1c\",\"line_dash\":[6],\"line_width\":5,\"x\":{\"field\":\"x\"},\"y\":{\"field\":\"y\"}},\"id\":\"2e5030b4-a85d-435f-b5c4-f39cd9e82734\",\"type\":\"Line\"},{\"attributes\":{\"callback\":null,\"data\":{\"x\":{\"__ndarray__\":\"Jj6LZuT6sL8C6JLStfSuv/T8q78MY6i/xyN+5igXob+5Pjcq8zOSv/5SIjd96Ee/Lhu+AT0/kj8PKiWPnXOjPw2Ha9aVpq4/SgMPcUtitT+djWwZNuu7P639fN/oeME/1Xc8NbA4xT8eBBU8IrLIPw9fR5h5Xcs/iEXSjwKbzT9bK3fyK87PP8fAlUeS+9A/UNwzQ5EL0j+BI6IUhB3TP5iCHDEGGNQ/mo7n0HVj0j9Y7h4DJi7LPwf9lkqJ7sE/93taLOJHtj+35TrFXrOpPyHmwuMDhJo/8ptfIEqsiz+HC0NbA5iEPxfAsI0TPoI/Zaj1+9i9fT9r8fihio50P6ua70LkhHI/WLf9z7p2eD/dWbdZrlJ8P7UI5fZ0uX0/F7N08fahfD8gk/TIGeV1P8dh1uo3w2g/fmHcTf8DRz90WF/xVH9dv1cTiPoEIHO/Ap0sIVZ5gL/0Ex+2LBOJv8avBMS3v5G/B+WrVLg0lL9iYdfikmSRvw8VQ2964oi/+TcLY2JmfL+RjSeNz6dQv9NMeATe4nU/G1NhgAWviD9jQJvBhHaTPwPBXaLswJo/dUWJk4QPoT8IOPHGY7WkP7LsP+7/PKg/7ac+ET2Jqz/IDN+4SH6uP79pipjDgrA/13eKxCCKsT88r5ywCViyP46ZB1rI9rI/jPftaD95sz8i8v3XMPizP7AuQSJ6jbQ/EYNRLUhRtT9SUC7mF0C2P99VSUMR+7Y/a41uqAu9tj9WBHRpQOC0PypMWTI5yLE/Qfpg+AzRrD9l7KLtOkmmP9kOKpfkhZ4/\",\"dtype\":\"float64\",\"shape\":[75]},\"y\":{\"__ndarray__\":\"GhExyth1ND/Sv8nbtpRIP2vylNV0PVE/aTum7souWD/At0SJ8fVgPw3Iuahxymc/MSNhhJWvcD/bTfBN02d3P2zb5nxnaoA/CD5h5MAGhz8NmeH1TyaQP+zrCsc9p5Y/LbKd76fGnz/bLW5ISEmmPww9YvTcQq8/JV2OstnstT8Er5Y7M8G+P0c+r3jqkcU/5h99k6ZBzj88bCIzFzjVP4enV8oyxN0//yH99nXg5D8qOpLLf0jtP5kqGJXUifQ/c9cS8kHP/D+/DpwzojQEQIEmwoanVwxA4lgXt9HgE0BSSZ2AJuIbQAMJih9jjiNA5q4l5INuK0AwTKYKRj0zQNv5fmq8/DpAaCJseHrtQkB/+zpwzoxKQM3MzMzMeFJAZmZmZmZqWEAAAAAAAFxeQM3MzMzMJmJAmpmZmZkfZUBmZmZmZhhoQDMzMzMzEWtAAAAAAAAKbkBmZmZmZoFwQM3MzMzM/XFAMzMzMzN6c0CamZmZmfZ0QAAAAAAAc3ZAZmZmZmbvd0DNzMzMzGt5QDMzMzMz6HpAmpmZmZlkfEAAAAAAAOF9QGZmZmZmXX9AZmZmZuZsgECamZmZGSuBQM3MzMxM6YFAAAAAAICngkAzMzMzs2WDQGZmZmbmI4RAmpmZmRnihEDNzMzMTKCFQAAAAACAXoZAMzMzM7Mch0BmZmZm5tqHQJqZmZkZmYhAzczMzExXiUAAAAAAgBWKQDMzMzOz04pAZmZmZuaRi0CamZmZGVCMQM3MzMxMDo1AAAAAAIDMjUAzMzMzs4qOQGZmZmbmSI9A\",\"dtype\":\"float64\",\"shape\":[75]}},\"selected\":{\"id\":\"9f6e1b88-7afb-4835-bf7c-23fb96a881db\",\"type\":\"Selection\"},\"selection_policy\":{\"id\":\"eb2b1813-33f6-478d-a7e5-e741207f7005\",\"type\":\"UnionRenderers\"}},\"id\":\"6e573f0b-8441-4b44-9059-7f889792c358\",\"type\":\"ColumnDataSource\"},{\"attributes\":{\"data_source\":{\"id\":\"dbcf2128-b90f-46ce-99bb-6e7bd8af4b07\",\"type\":\"ColumnDataSource\"},\"glyph\":{\"id\":\"5b98a7cf-f013-40f3-afe0-ad0793791a63\",\"type\":\"Square\"},\"hover_glyph\":null,\"muted_glyph\":null,\"nonselection_glyph\":{\"id\":\"3830d947-e0bf-4ca6-abcd-c7a08e0ea988\",\"type\":\"Square\"},\"selection_glyph\":null,\"view\":{\"id\":\"ada87f0b-a6d5-43e4-8756-f5e62a981128\",\"type\":\"CDSView\"}},\"id\":\"038a11ce-20e8-450f-b471-8cfff2fc250f\",\"type\":\"GlyphRenderer\"},{\"attributes\":{\"line_alpha\":0.1,\"line_color\":\"#1f77b4\",\"line_width\":3,\"x\":{\"field\":\"x\"},\"y\":{\"field\":\"y\"}},\"id\":\"efe20f46-8b5f-4189-b4b4-f06531d8dfbe\",\"type\":\"Line\"},{\"attributes\":{\"fill_alpha\":{\"value\":0.1},\"fill_color\":{\"value\":\"#1f77b4\"},\"line_alpha\":{\"value\":0.1},\"line_color\":{\"value\":\"#1f77b4\"},\"x\":{\"field\":\"x\"},\"y\":{\"field\":\"y\"}},\"id\":\"3830d947-e0bf-4ca6-abcd-c7a08e0ea988\",\"type\":\"Square\"},{\"attributes\":{\"callback\":null,\"data\":{\"x\":{\"__ndarray__\":\"1yKf4C1Tlb86TOq6pvaQv4KdxUj7Cn6/hPH160UqaD+zh2oIljyNP4Eh7XcPbZs/L0mB32jCpD/6as2qXYCsP8IGJXttfrI/BVO7yekXtz9Lx2K8Yh28PyUtSyoJv8A/2bDozvqxwz8c3EptsXTGP2A9izHyqsg/24Ip8ySjyj9Wa1mlkaLMP1kvTMcYr84/bayCIFlj0D+LJTg3nnbRP7v3iWYSc9I/rQ+Q1OdP0T8WomTuMUPLP3X//c6br8M/ADqKe0Uauz8RgCwCa26xP4ntRAJzGKQ/jDRyjwWClT/l4gpQnKGJP725gBaZIIE/8ifqSE6fdj/i7NwQ+D5rP7yjWAxkn2s/TCXMTBq3dT8AlBMytuV6PwVu5fV8Xnw/U2fsjncVej8AZS5VksFxPzbLTL2znFk/5dWMl62/Vb+CVrI0Dx9yvw83NqtdG4C/V+3wkI8BiL9AjIzlyJCQvwtj7+vej5W/7+3xnfOul783imCnTsOUv3vjLyN4II+/vDiPGRiYg795V9p+gp9qv2kwXAkcimw/vuJxnbtnhT9n1xMWQvKRPyP2PJG9ZJk/HhGnIReNoD9iCwdjwGmkP2bCq7xPG6g/qLa/phN4qz+PUrgH6XWuP6oNtic0iLA/jL32UMuksT+jE+HdzJOyP9BIif9pWrM/WgkxJf8EtD+gmXFkL6W0PymPoXXqULU/6hSuvu8ctj8BBWW62gG3P/LAPybLqbc/FslAZrNftz9J3DD4nou1P4U7M5upi7I/sQx0ZBqKrj8Ky7QKVi2oPwcKm4VmbKE/\",\"dtype\":\"float64\",\"shape\":[75]},\"y\":{\"__ndarray__\":\"GhExyth1ND/Sv8nbtpRIP2vylNV0PVE/aTum7souWD/At0SJ8fVgPw3Iuahxymc/MSNhhJWvcD/bTfBN02d3P2zb5nxnaoA/CD5h5MAGhz8NmeH1TyaQP+zrCsc9p5Y/LbKd76fGnz/bLW5ISEmmPww9YvTcQq8/JV2OstnstT8Er5Y7M8G+P0c+r3jqkcU/5h99k6ZBzj88bCIzFzjVP4enV8oyxN0//yH99nXg5D8qOpLLf0jtP5kqGJXUifQ/c9cS8kHP/D+/DpwzojQEQIEmwoanVwxA4lgXt9HgE0BSSZ2AJuIbQAMJih9jjiNA5q4l5INuK0AwTKYKRj0zQNv5fmq8/DpAaCJseHrtQkB/+zpwzoxKQM3MzMzMeFJAZmZmZmZqWEAAAAAAAFxeQM3MzMzMJmJAmpmZmZkfZUBmZmZmZhhoQDMzMzMzEWtAAAAAAAAKbkBmZmZmZoFwQM3MzMzM/XFAMzMzMzN6c0CamZmZmfZ0QAAAAAAAc3ZAZmZmZmbvd0DNzMzMzGt5QDMzMzMz6HpAmpmZmZlkfEAAAAAAAOF9QGZmZmZmXX9AZmZmZuZsgECamZmZGSuBQM3MzMxM6YFAAAAAAICngkAzMzMzs2WDQGZmZmbmI4RAmpmZmRnihEDNzMzMTKCFQAAAAACAXoZAMzMzM7Mch0BmZmZm5tqHQJqZmZkZmYhAzczMzExXiUAAAAAAgBWKQDMzMzOz04pAZmZmZuaRi0CamZmZGVCMQM3MzMxMDo1AAAAAAIDMjUAzMzMzs4qOQGZmZmbmSI9A\",\"dtype\":\"float64\",\"shape\":[75]}},\"selected\":{\"id\":\"1d4a4443-27b5-4616-ad34-58747082d698\",\"type\":\"Selection\"},\"selection_policy\":{\"id\":\"1dd1d640-7fc1-409d-b7bf-6ffb9621ccc5\",\"type\":\"UnionRenderers\"}},\"id\":\"7f46d1d4-b265-4b48-bf70-ad30e1b9d8f1\",\"type\":\"ColumnDataSource\"},{\"attributes\":{\"source\":{\"id\":\"85296b8f-b76e-47e5-8bed-e2eee2a77768\",\"type\":\"ColumnDataSource\"}},\"id\":\"6790ab9d-a4a8-4905-9676-0bcf13192426\",\"type\":\"CDSView\"},{\"attributes\":{\"plot\":null,\"text\":\"Log pressure scale\"},\"id\":\"b2090e23-9471-465c-bc1e-8caabcac4032\",\"type\":\"Title\"},{\"attributes\":{\"ticker\":null},\"id\":\"1eff7d40-19cf-4a27-899a-f21192600a03\",\"type\":\"LogTickFormatter\"},{\"attributes\":{\"callback\":null,\"data\":{\"x\":{\"__ndarray__\":\"1yKf4C1Tlb86TOq6pvaQv4KdxUj7Cn6/hPH160UqaD+zh2oIljyNP4Eh7XcPbZs/L0mB32jCpD/6as2qXYCsP8IGJXttfrI/BVO7yekXtz9Lx2K8Yh28PyUtSyoJv8A/2bDozvqxwz8c3EptsXTGP2A9izHyqsg/24Ip8ySjyj9Wa1mlkaLMP1kvTMcYr84/bayCIFlj0D+LJTg3nnbRP7v3iWYSc9I/rQ+Q1OdP0T8WomTuMUPLP3X//c6br8M/ADqKe0Uauz8RgCwCa26xP4ntRAJzGKQ/jDRyjwWClT/l4gpQnKGJP725gBaZIIE/8ifqSE6fdj/i7NwQ+D5rP7yjWAxkn2s/TCXMTBq3dT8AlBMytuV6PwVu5fV8Xnw/U2fsjncVej8AZS5VksFxPzbLTL2znFk/5dWMl62/Vb+CVrI0Dx9yvw83NqtdG4C/V+3wkI8BiL9AjIzlyJCQvwtj7+vej5W/7+3xnfOul783imCnTsOUv3vjLyN4II+/vDiPGRiYg795V9p+gp9qv2kwXAkcimw/vuJxnbtnhT9n1xMWQvKRPyP2PJG9ZJk/HhGnIReNoD9iCwdjwGmkP2bCq7xPG6g/qLa/phN4qz+PUrgH6XWuP6oNtic0iLA/jL32UMuksT+jE+HdzJOyP9BIif9pWrM/WgkxJf8EtD+gmXFkL6W0PymPoXXqULU/6hSuvu8ctj8BBWW62gG3P/LAPybLqbc/FslAZrNftz9J3DD4nou1P4U7M5upi7I/sQx0ZBqKrj8Ky7QKVi2oPwcKm4VmbKE/\",\"dtype\":\"float64\",\"shape\":[75]},\"y\":{\"__ndarray__\":\"GhExyth1ND/Sv8nbtpRIP2vylNV0PVE/aTum7souWD/At0SJ8fVgPw3Iuahxymc/MSNhhJWvcD/bTfBN02d3P2zb5nxnaoA/CD5h5MAGhz8NmeH1TyaQP+zrCsc9p5Y/LbKd76fGnz/bLW5ISEmmPww9YvTcQq8/JV2OstnstT8Er5Y7M8G+P0c+r3jqkcU/5h99k6ZBzj88bCIzFzjVP4enV8oyxN0//yH99nXg5D8qOpLLf0jtP5kqGJXUifQ/c9cS8kHP/D+/DpwzojQEQIEmwoanVwxA4lgXt9HgE0BSSZ2AJuIbQAMJih9jjiNA5q4l5INuK0AwTKYKRj0zQNv5fmq8/DpAaCJseHrtQkB/+zpwzoxKQM3MzMzMeFJAZmZmZmZqWEAAAAAAAFxeQM3MzMzMJmJAmpmZmZkfZUBmZmZmZhhoQDMzMzMzEWtAAAAAAAAKbkBmZmZmZoFwQM3MzMzM/XFAMzMzMzN6c0CamZmZmfZ0QAAAAAAAc3ZAZmZmZmbvd0DNzMzMzGt5QDMzMzMz6HpAmpmZmZlkfEAAAAAAAOF9QGZmZmZmXX9AZmZmZuZsgECamZmZGSuBQM3MzMxM6YFAAAAAAICngkAzMzMzs2WDQGZmZmbmI4RAmpmZmRnihEDNzMzMTKCFQAAAAACAXoZAMzMzM7Mch0BmZmZm5tqHQJqZmZkZmYhAzczMzExXiUAAAAAAgBWKQDMzMzOz04pAZmZmZuaRi0CamZmZGVCMQM3MzMxMDo1AAAAAAIDMjUAzMzMzs4qOQGZmZmbmSI9A\",\"dtype\":\"float64\",\"shape\":[75]}},\"selected\":{\"id\":\"73e689cc-36fe-4b53-9178-6b1f87864374\",\"type\":\"Selection\"},\"selection_policy\":{\"id\":\"bcdcb4fc-1983-4835-a072-dd7ce9c6787a\",\"type\":\"UnionRenderers\"}},\"id\":\"b132cc9e-4c37-4868-8024-f5de2a964099\",\"type\":\"ColumnDataSource\"},{\"attributes\":{\"data_source\":{\"id\":\"7f46d1d4-b265-4b48-bf70-ad30e1b9d8f1\",\"type\":\"ColumnDataSource\"},\"glyph\":{\"id\":\"4d391c85-9fd6-4c43-96f1-e75f7d368aa4\",\"type\":\"Square\"},\"hover_glyph\":null,\"muted_glyph\":null,\"nonselection_glyph\":{\"id\":\"1de87fca-161c-40f3-baf5-dfb081a180d8\",\"type\":\"Square\"},\"selection_glyph\":null,\"view\":{\"id\":\"ed1757d7-3846-4a90-b397-758ced95b87c\",\"type\":\"CDSView\"}},\"id\":\"86e52c52-c37b-488a-a601-b12a5efe6014\",\"type\":\"GlyphRenderer\"},{\"attributes\":{\"line_alpha\":0.1,\"line_color\":\"#1f77b4\",\"line_dash\":[6],\"line_width\":5,\"x\":{\"field\":\"x\"},\"y\":{\"field\":\"y\"}},\"id\":\"f8cb7b9a-696a-453a-9525-3382fcf9de5c\",\"type\":\"Line\"},{\"attributes\":{\"callback\":null,\"end\":0.01,\"start\":1020},\"id\":\"d6ffea4f-771b-4502-8db1-7d07439fd320\",\"type\":\"Range1d\"},{\"attributes\":{\"callback\":null,\"data\":{\"x\":{\"__ndarray__\":\"1yKf4C1Tlb86TOq6pvaQv4KdxUj7Cn6/hPH160UqaD+zh2oIljyNP4Eh7XcPbZs/L0mB32jCpD/6as2qXYCsP8IGJXttfrI/BVO7yekXtz9Lx2K8Yh28PyUtSyoJv8A/2bDozvqxwz8c3EptsXTGP2A9izHyqsg/24Ip8ySjyj9Wa1mlkaLMP1kvTMcYr84/bayCIFlj0D+LJTg3nnbRP7v3iWYSc9I/rQ+Q1OdP0T8WomTuMUPLP3X//c6br8M/ADqKe0Uauz8RgCwCa26xP4ntRAJzGKQ/jDRyjwWClT/l4gpQnKGJP725gBaZIIE/8ifqSE6fdj/i7NwQ+D5rP7yjWAxkn2s/TCXMTBq3dT8AlBMytuV6PwVu5fV8Xnw/U2fsjncVej8AZS5VksFxPzbLTL2znFk/5dWMl62/Vb+CVrI0Dx9yvw83NqtdG4C/V+3wkI8BiL9AjIzlyJCQvwtj7+vej5W/7+3xnfOul783imCnTsOUv3vjLyN4II+/vDiPGRiYg795V9p+gp9qv2kwXAkcimw/vuJxnbtnhT9n1xMWQvKRPyP2PJG9ZJk/HhGnIReNoD9iCwdjwGmkP2bCq7xPG6g/qLa/phN4qz+PUrgH6XWuP6oNtic0iLA/jL32UMuksT+jE+HdzJOyP9BIif9pWrM/WgkxJf8EtD+gmXFkL6W0PymPoXXqULU/6hSuvu8ctj8BBWW62gG3P/LAPybLqbc/FslAZrNftz9J3DD4nou1P4U7M5upi7I/sQx0ZBqKrj8Ky7QKVi2oPwcKm4VmbKE/\",\"dtype\":\"float64\",\"shape\":[75]},\"y\":{\"__ndarray__\":\"GhExyth1ND/Sv8nbtpRIP2vylNV0PVE/aTum7souWD/At0SJ8fVgPw3Iuahxymc/MSNhhJWvcD/bTfBN02d3P2zb5nxnaoA/CD5h5MAGhz8NmeH1TyaQP+zrCsc9p5Y/LbKd76fGnz/bLW5ISEmmPww9YvTcQq8/JV2OstnstT8Er5Y7M8G+P0c+r3jqkcU/5h99k6ZBzj88bCIzFzjVP4enV8oyxN0//yH99nXg5D8qOpLLf0jtP5kqGJXUifQ/c9cS8kHP/D+/DpwzojQEQIEmwoanVwxA4lgXt9HgE0BSSZ2AJuIbQAMJih9jjiNA5q4l5INuK0AwTKYKRj0zQNv5fmq8/DpAaCJseHrtQkB/+zpwzoxKQM3MzMzMeFJAZmZmZmZqWEAAAAAAAFxeQM3MzMzMJmJAmpmZmZkfZUBmZmZmZhhoQDMzMzMzEWtAAAAAAAAKbkBmZmZmZoFwQM3MzMzM/XFAMzMzMzN6c0CamZmZmfZ0QAAAAAAAc3ZAZmZmZmbvd0DNzMzMzGt5QDMzMzMz6HpAmpmZmZlkfEAAAAAAAOF9QGZmZmZmXX9AZmZmZuZsgECamZmZGSuBQM3MzMxM6YFAAAAAAICngkAzMzMzs2WDQGZmZmbmI4RAmpmZmRnihEDNzMzMTKCFQAAAAACAXoZAMzMzM7Mch0BmZmZm5tqHQJqZmZkZmYhAzczMzExXiUAAAAAAgBWKQDMzMzOz04pAZmZmZuaRi0CamZmZGVCMQM3MzMxMDo1AAAAAAIDMjUAzMzMzs4qOQGZmZmbmSI9A\",\"dtype\":\"float64\",\"shape\":[75]}},\"selected\":{\"id\":\"9d138384-ee15-4222-a1ea-dcb8d2556462\",\"type\":\"Selection\"},\"selection_policy\":{\"id\":\"97d4d7db-a87e-412d-91a5-886151b8019a\",\"type\":\"UnionRenderers\"}},\"id\":\"f0bba5f6-baae-4434-95ff-4becad067973\",\"type\":\"ColumnDataSource\"},{\"attributes\":{\"callback\":null,\"data\":{\"x\":{\"__ndarray__\":\"lkfadcZqeL+uLkKQvitkv8dsyDzEGHc/gpD5bl2rjT8QMeYtpc6YP1HSf7Pt5KE/iXXYtLrrpz+Lcy+L5IauP31FiSbo4LI/UC1LCfvVtj9bFVV9tie7PxoABXLk3L8/F6MJb2p7wj8dcAJ4sOrEPyg7BRJ36cY/d6IkJNK2yD85WQ8EbZfKP8zzGpo2jMw/ZniBzK2Uzj8CYlRKtlfQP/8jspPqUNE/+Yk9k4Fs0D9jAxLiBIXKPyeaDyERx8M/X7wXRhcnvD9RB98f4quyP30IIVVREqY/35ZdamNwlz+LiqCA2XyJP7vq7Q6qhn0/4WOctU7ycD8rJZjqwR1iP/vyi5TicWU/BkE07Jh3cz9G/GAjRA55P5Y5/aPm4Ho/AMFU59zjeD++TbTo8wpxP9M1EFw3dlg/eEFnwg15Vr+1u4VChHdyv5/KF+OkcYC/A4J43j92iL9m/lwq8siQvw6uXTMpoJW/qWEdmdepl7/tmD5kX+yUv3iEHFnO5Y+/dlr7Xuq3hL868un1kx9wv52ZX1zRvmY/aIAGsIy6gz/fzL/Ike+QP1m/lN90W5g/RIF79D8moD+R7W0UCCSkPwXAV/gj2qc/LyeC58cnqz+dwH7MKhOuPz+29WucYbA/jjbdnl+VsT8cB6BJSayyPxqhsYyTlrM/uBI4FGlbtD+UfasDjQq1P44q4Q52uLU/aA7UHx17tj9+o42LuVe3Py91l5Fo7Lc/Sn8TMNiStz9dpx9B4ri1P8Gsoev6ubI/YgVdmtnprj869ukBvp6oP+6h0PQK8qE/\",\"dtype\":\"float64\",\"shape\":[75]},\"y\":{\"__ndarray__\":\"S/O/Q+51ND/Sv8nbtpRIP2vylNV0PVE/aTum7souWD/At0SJ8fVgPw3Iuahxymc/MSNhhJWvcD/bTfBN02d3P2zb5nxnaoA/CD5h5MAGhz8NmeH1TyaQP+zrCsc9p5Y/LbKd76fGnz/bLW5ISEmmPww9YvTcQq8/JV2OstnstT8Er5Y7M8G+P0c+r3jqkcU/5h99k6ZBzj88bCIzFzjVP4enV8oyxN0//yH99nXg5D8qOpLLf0jtP5kqGJXUifQ/c9cS8kHP/D+/DpwzojQEQIEmwoanVwxA4lgXt9HgE0BSSZ2AJuIbQAMJih9jjiNA5q4l5INuK0AwTKYKRj0zQNv5fmq8/DpAaCJseHrtQkB/+zpwzoxKQM3MzMzMeFJAZmZmZmZqWEAAAAAAAFxeQM3MzMzMJmJAmpmZmZkfZUBmZmZmZhhoQDMzMzMzEWtAAAAAAAAKbkBmZmZmZoFwQM3MzMzM/XFAMzMzMzN6c0CamZmZmfZ0QAAAAAAAc3ZAZmZmZmbvd0DNzMzMzGt5QDMzMzMz6HpAmpmZmZlkfEAAAAAAAOF9QGZmZmZmXX9AZmZmZuZsgECamZmZGSuBQM3MzMxM6YFAAAAAAICngkAzMzMzs2WDQGZmZmbmI4RAmpmZmRnihEDNzMzMTKCFQAAAAACAXoZAMzMzM7Mch0BmZmZm5tqHQJqZmZkZmYhAzczMzExXiUAAAAAAgBWKQDMzMzOz04pAZmZmZuaRi0CamZmZGVCMQM3MzMxMDo1AAAAAAIDMjUAzMzMzs4qOQGZmZmbmSI9A\",\"dtype\":\"float64\",\"shape\":[75]}},\"selected\":{\"id\":\"0d70f184-6865-4498-b613-73959b845dfb\",\"type\":\"Selection\"},\"selection_policy\":{\"id\":\"6a1e8898-1a75-41f7-9e44-9b644c7c075b\",\"type\":\"UnionRenderers\"}},\"id\":\"b2a60edf-5255-48f8-bbcb-d8d3fad60811\",\"type\":\"ColumnDataSource\"},{\"attributes\":{\"data_source\":{\"id\":\"6e573f0b-8441-4b44-9059-7f889792c358\",\"type\":\"ColumnDataSource\"},\"glyph\":{\"id\":\"b62ed6fa-d08b-415a-9ca7-d39591c678d5\",\"type\":\"Line\"},\"hover_glyph\":null,\"muted_glyph\":null,\"nonselection_glyph\":{\"id\":\"b7d9276f-606f-4431-b612-273ef766c6dd\",\"type\":\"Line\"},\"selection_glyph\":null,\"view\":{\"id\":\"ee12e568-caa5-4a25-8cf1-429de63464aa\",\"type\":\"CDSView\"}},\"id\":\"b0be673f-a371-482d-a85d-b9e059bbf027\",\"type\":\"GlyphRenderer\"},{\"attributes\":{\"fill_alpha\":{\"value\":0.7},\"fill_color\":{\"value\":\"#984ea3\"},\"line_alpha\":{\"value\":0.7},\"line_color\":{\"value\":\"#984ea3\"},\"x\":{\"field\":\"x\"},\"y\":{\"field\":\"y\"}},\"id\":\"5b98a7cf-f013-40f3-afe0-ad0793791a63\",\"type\":\"Square\"},{\"attributes\":{\"fill_alpha\":{\"value\":0.7},\"fill_color\":{\"value\":\"#4daf4a\"},\"line_alpha\":{\"value\":0.7},\"line_color\":{\"value\":\"#4daf4a\"},\"x\":{\"field\":\"x\"},\"y\":{\"field\":\"y\"}},\"id\":\"2085a118-0063-4e5a-9cfc-fbbcada6da5d\",\"type\":\"Circle\"},{\"attributes\":{\"axis_label\":\"cooling rate [K/day]\",\"formatter\":{\"id\":\"86dffe7f-6375-4bf3-af7a-4113ed25954e\",\"type\":\"BasicTickFormatter\"},\"plot\":{\"id\":\"85b925a7-3288-4064-8a3e-2ed23fbb2ab5\",\"subtype\":\"Figure\",\"type\":\"Plot\"},\"ticker\":{\"id\":\"834e92d1-3a84-47a0-8a10-78425aebba23\",\"type\":\"BasicTicker\"}},\"id\":\"0b433bc3-5740-47c3-8f9d-6c2595abf6c8\",\"type\":\"LinearAxis\"},{\"attributes\":{},\"id\":\"f602bb62-dcdc-4ef1-98d4-9044f2525718\",\"type\":\"LinearScale\"},{\"attributes\":{},\"id\":\"834e92d1-3a84-47a0-8a10-78425aebba23\",\"type\":\"BasicTicker\"},{\"attributes\":{\"plot\":{\"id\":\"85b925a7-3288-4064-8a3e-2ed23fbb2ab5\",\"subtype\":\"Figure\",\"type\":\"Plot\"},\"ticker\":{\"id\":\"834e92d1-3a84-47a0-8a10-78425aebba23\",\"type\":\"BasicTicker\"}},\"id\":\"0eaafa04-c373-47a3-a586-b352b9b73cdb\",\"type\":\"Grid\"},{\"attributes\":{},\"id\":\"0073a55a-d138-4c26-b9ab-f4ce4a16fc2c\",\"type\":\"HelpTool\"},{\"attributes\":{\"fill_alpha\":{\"value\":0.7},\"fill_color\":{\"value\":\"#4daf4a\"},\"line_alpha\":{\"value\":0.7},\"line_color\":{\"value\":\"#4daf4a\"},\"x\":{\"field\":\"x\"},\"y\":{\"field\":\"y\"}},\"id\":\"eb5dc8ba-20a5-4f4b-807e-c084dd5dd7e6\",\"type\":\"Circle\"},{\"attributes\":{\"callback\":null,\"data\":{\"x\":{\"__ndarray__\":\"Jj6LZuT6sL8C6JLStfSuv/T8q78MY6i/xyN+5igXob+5Pjcq8zOSv/5SIjd96Ee/Lhu+AT0/kj8PKiWPnXOjPw2Ha9aVpq4/SgMPcUtitT+djWwZNuu7P639fN/oeME/1Xc8NbA4xT8eBBU8IrLIPw9fR5h5Xcs/iEXSjwKbzT9bK3fyK87PP8fAlUeS+9A/UNwzQ5EL0j+BI6IUhB3TP5iCHDEGGNQ/mo7n0HVj0j9Y7h4DJi7LPwf9lkqJ7sE/93taLOJHtj+35TrFXrOpPyHmwuMDhJo/8ptfIEqsiz+HC0NbA5iEPxfAsI0TPoI/Zaj1+9i9fT9r8fihio50P6ua70LkhHI/WLf9z7p2eD/dWbdZrlJ8P7UI5fZ0uX0/F7N08fahfD8gk/TIGeV1P8dh1uo3w2g/fmHcTf8DRz90WF/xVH9dv1cTiPoEIHO/Ap0sIVZ5gL/0Ex+2LBOJv8avBMS3v5G/B+WrVLg0lL9iYdfikmSRvw8VQ2964oi/+TcLY2JmfL+RjSeNz6dQv9NMeATe4nU/G1NhgAWviD9jQJvBhHaTPwPBXaLswJo/dUWJk4QPoT8IOPHGY7WkP7LsP+7/PKg/7ac+ET2Jqz/IDN+4SH6uP79pipjDgrA/13eKxCCKsT88r5ywCViyP46ZB1rI9rI/jPftaD95sz8i8v3XMPizP7AuQSJ6jbQ/EYNRLUhRtT9SUC7mF0C2P99VSUMR+7Y/a41uqAu9tj9WBHRpQOC0PypMWTI5yLE/Qfpg+AzRrD9l7KLtOkmmP9kOKpfkhZ4/\",\"dtype\":\"float64\",\"shape\":[75]},\"y\":{\"__ndarray__\":\"GhExyth1ND/Sv8nbtpRIP2vylNV0PVE/aTum7souWD/At0SJ8fVgPw3Iuahxymc/MSNhhJWvcD/bTfBN02d3P2zb5nxnaoA/CD5h5MAGhz8NmeH1TyaQP+zrCsc9p5Y/LbKd76fGnz/bLW5ISEmmPww9YvTcQq8/JV2OstnstT8Er5Y7M8G+P0c+r3jqkcU/5h99k6ZBzj88bCIzFzjVP4enV8oyxN0//yH99nXg5D8qOpLLf0jtP5kqGJXUifQ/c9cS8kHP/D+/DpwzojQEQIEmwoanVwxA4lgXt9HgE0BSSZ2AJuIbQAMJih9jjiNA5q4l5INuK0AwTKYKRj0zQNv5fmq8/DpAaCJseHrtQkB/+zpwzoxKQM3MzMzMeFJAZmZmZmZqWEAAAAAAAFxeQM3MzMzMJmJAmpmZmZkfZUBmZmZmZhhoQDMzMzMzEWtAAAAAAAAKbkBmZmZmZoFwQM3MzMzM/XFAMzMzMzN6c0CamZmZmfZ0QAAAAAAAc3ZAZmZmZmbvd0DNzMzMzGt5QDMzMzMz6HpAmpmZmZlkfEAAAAAAAOF9QGZmZmZmXX9AZmZmZuZsgECamZmZGSuBQM3MzMxM6YFAAAAAAICngkAzMzMzs2WDQGZmZmbmI4RAmpmZmRnihEDNzMzMTKCFQAAAAACAXoZAMzMzM7Mch0BmZmZm5tqHQJqZmZkZmYhAzczMzExXiUAAAAAAgBWKQDMzMzOz04pAZmZmZuaRi0CamZmZGVCMQM3MzMxMDo1AAAAAAIDMjUAzMzMzs4qOQGZmZmbmSI9A\",\"dtype\":\"float64\",\"shape\":[75]}},\"selected\":{\"id\":\"daf4bc62-1c79-40ab-bf05-eb0989701fb2\",\"type\":\"Selection\"},\"selection_policy\":{\"id\":\"3e1eef49-4b57-4938-b077-c065c27a4db4\",\"type\":\"UnionRenderers\"}},\"id\":\"66fcf841-35d2-491f-a014-7ee61271799e\",\"type\":\"ColumnDataSource\"},{\"attributes\":{\"data_source\":{\"id\":\"23c53335-4c6d-44e9-b87d-d0206bcc90cc\",\"type\":\"ColumnDataSource\"},\"glyph\":{\"id\":\"eb5dc8ba-20a5-4f4b-807e-c084dd5dd7e6\",\"type\":\"Circle\"},\"hover_glyph\":null,\"muted_glyph\":null,\"nonselection_glyph\":{\"id\":\"962cb3d0-c1ce-456b-bc5f-fbddf9cf8b6f\",\"type\":\"Circle\"},\"selection_glyph\":null,\"view\":{\"id\":\"93214f7d-54a4-406a-8719-7a3c5258f5cf\",\"type\":\"CDSView\"}},\"id\":\"f85ac93b-157e-4e53-8821-371cae3c5dba\",\"type\":\"GlyphRenderer\"},{\"attributes\":{},\"id\":\"503a5e87-5cec-4dbe-87ff-dc8a6b731972\",\"type\":\"PanTool\"},{\"attributes\":{\"data_source\":{\"id\":\"92589160-06c3-4c31-8db2-afb060353399\",\"type\":\"ColumnDataSource\"},\"glyph\":{\"id\":\"d811cb97-b65a-47a6-895d-72cd6bf734d3\",\"type\":\"Line\"},\"hover_glyph\":null,\"muted_glyph\":null,\"nonselection_glyph\":{\"id\":\"ea85753a-b397-41ed-9895-844fe3b6517b\",\"type\":\"Line\"},\"selection_glyph\":null,\"view\":{\"id\":\"7e04d7fd-64b3-4e7d-92dc-c19c7bd992b2\",\"type\":\"CDSView\"}},\"id\":\"3c9f91df-1378-4887-b00c-c9e4b6ab329e\",\"type\":\"GlyphRenderer\"},{\"attributes\":{},\"id\":\"372c3596-89f6-4d55-b9eb-7ce0d8a29e16\",\"type\":\"ResetTool\"},{\"attributes\":{\"source\":{\"id\":\"92589160-06c3-4c31-8db2-afb060353399\",\"type\":\"ColumnDataSource\"}},\"id\":\"7e04d7fd-64b3-4e7d-92dc-c19c7bd992b2\",\"type\":\"CDSView\"},{\"attributes\":{},\"id\":\"8e6b4ccb-5ae2-4006-aa1f-431ef1793ea9\",\"type\":\"WheelZoomTool\"},{\"attributes\":{\"line_alpha\":0.1,\"line_color\":\"#1f77b4\",\"line_width\":1.5,\"x\":{\"field\":\"x\"},\"y\":{\"field\":\"y\"}},\"id\":\"ea85753a-b397-41ed-9895-844fe3b6517b\",\"type\":\"Line\"},{\"attributes\":{\"overlay\":{\"id\":\"ef0d75a6-7517-46b4-9ab1-1dad3ba40f1e\",\"type\":\"BoxAnnotation\"}},\"id\":\"ae73dc78-67bd-4aee-a668-22a57120f440\",\"type\":\"BoxZoomTool\"},{\"attributes\":{\"line_alpha\":0.6,\"line_color\":\"#e41a1c\",\"line_dash\":[6],\"line_width\":5,\"x\":{\"field\":\"x\"},\"y\":{\"field\":\"y\"}},\"id\":\"eea707d5-fb3c-48c7-b06f-08b31038c55a\",\"type\":\"Line\"},{\"attributes\":{\"fill_alpha\":{\"value\":0.1},\"fill_color\":{\"value\":\"#1f77b4\"},\"line_alpha\":{\"value\":0.1},\"line_color\":{\"value\":\"#1f77b4\"},\"x\":{\"field\":\"x\"},\"y\":{\"field\":\"y\"}},\"id\":\"962cb3d0-c1ce-456b-bc5f-fbddf9cf8b6f\",\"type\":\"Circle\"},{\"attributes\":{\"axis_label\":\"pressure [mb]\",\"formatter\":{\"id\":\"af103cf8-0989-49c3-9497-c5afabcea2b7\",\"type\":\"BasicTickFormatter\"},\"plot\":{\"id\":\"85b925a7-3288-4064-8a3e-2ed23fbb2ab5\",\"subtype\":\"Figure\",\"type\":\"Plot\"},\"ticker\":{\"id\":\"63a232ca-adfe-48cb-9449-bbe4cd190c4b\",\"type\":\"BasicTicker\"}},\"id\":\"d64883bb-ef4f-4134-9418-00a442a3bfb6\",\"type\":\"LinearAxis\"},{\"attributes\":{},\"id\":\"df37d5f1-f759-43c3-a0a2-904c39d33743\",\"type\":\"SaveTool\"},{\"attributes\":{\"callback\":null,\"data\":{\"x\":{\"__ndarray__\":\"1yKf4C1Tlb86TOq6pvaQv4KdxUj7Cn6/hPH160UqaD+zh2oIljyNP4Eh7XcPbZs/L0mB32jCpD/6as2qXYCsP8IGJXttfrI/BVO7yekXtz9Lx2K8Yh28PyUtSyoJv8A/2bDozvqxwz8c3EptsXTGP2A9izHyqsg/24Ip8ySjyj9Wa1mlkaLMP1kvTMcYr84/bayCIFlj0D+LJTg3nnbRP7v3iWYSc9I/rQ+Q1OdP0T8WomTuMUPLP3X//c6br8M/ADqKe0Uauz8RgCwCa26xP4ntRAJzGKQ/jDRyjwWClT/l4gpQnKGJP725gBaZIIE/8ifqSE6fdj/i7NwQ+D5rP7yjWAxkn2s/TCXMTBq3dT8AlBMytuV6PwVu5fV8Xnw/U2fsjncVej8AZS5VksFxPzbLTL2znFk/5dWMl62/Vb+CVrI0Dx9yvw83NqtdG4C/V+3wkI8BiL9AjIzlyJCQvwtj7+vej5W/7+3xnfOul783imCnTsOUv3vjLyN4II+/vDiPGRiYg795V9p+gp9qv2kwXAkcimw/vuJxnbtnhT9n1xMWQvKRPyP2PJG9ZJk/HhGnIReNoD9iCwdjwGmkP2bCq7xPG6g/qLa/phN4qz+PUrgH6XWuP6oNtic0iLA/jL32UMuksT+jE+HdzJOyP9BIif9pWrM/WgkxJf8EtD+gmXFkL6W0PymPoXXqULU/6hSuvu8ctj8BBWW62gG3P/LAPybLqbc/FslAZrNftz9J3DD4nou1P4U7M5upi7I/sQx0ZBqKrj8Ky7QKVi2oPwcKm4VmbKE/\",\"dtype\":\"float64\",\"shape\":[75]},\"y\":{\"__ndarray__\":\"GhExyth1ND/Sv8nbtpRIP2vylNV0PVE/aTum7souWD/At0SJ8fVgPw3Iuahxymc/MSNhhJWvcD/bTfBN02d3P2zb5nxnaoA/CD5h5MAGhz8NmeH1TyaQP+zrCsc9p5Y/LbKd76fGnz/bLW5ISEmmPww9YvTcQq8/JV2OstnstT8Er5Y7M8G+P0c+r3jqkcU/5h99k6ZBzj88bCIzFzjVP4enV8oyxN0//yH99nXg5D8qOpLLf0jtP5kqGJXUifQ/c9cS8kHP/D+/DpwzojQEQIEmwoanVwxA4lgXt9HgE0BSSZ2AJuIbQAMJih9jjiNA5q4l5INuK0AwTKYKRj0zQNv5fmq8/DpAaCJseHrtQkB/+zpwzoxKQM3MzMzMeFJAZmZmZmZqWEAAAAAAAFxeQM3MzMzMJmJAmpmZmZkfZUBmZmZmZhhoQDMzMzMzEWtAAAAAAAAKbkBmZmZmZoFwQM3MzMzM/XFAMzMzMzN6c0CamZmZmfZ0QAAAAAAAc3ZAZmZmZmbvd0DNzMzMzGt5QDMzMzMz6HpAmpmZmZlkfEAAAAAAAOF9QGZmZmZmXX9AZmZmZuZsgECamZmZGSuBQM3MzMxM6YFAAAAAAICngkAzMzMzs2WDQGZmZmbmI4RAmpmZmRnihEDNzMzMTKCFQAAAAACAXoZAMzMzM7Mch0BmZmZm5tqHQJqZmZkZmYhAzczMzExXiUAAAAAAgBWKQDMzMzOz04pAZmZmZuaRi0CamZmZGVCMQM3MzMxMDo1AAAAAAIDMjUAzMzMzs4qOQGZmZmbmSI9A\",\"dtype\":\"float64\",\"shape\":[75]}},\"selected\":{\"id\":\"fb918142-0390-4a84-abdc-ed6d7d5ea2d0\",\"type\":\"Selection\"},\"selection_policy\":{\"id\":\"c881cc25-23ec-48c8-b85f-ce905cc79f74\",\"type\":\"UnionRenderers\"}},\"id\":\"dbcf2128-b90f-46ce-99bb-6e7bd8af4b07\",\"type\":\"ColumnDataSource\"},{\"attributes\":{\"dimension\":1,\"plot\":{\"id\":\"85b925a7-3288-4064-8a3e-2ed23fbb2ab5\",\"subtype\":\"Figure\",\"type\":\"Plot\"},\"ticker\":{\"id\":\"63a232ca-adfe-48cb-9449-bbe4cd190c4b\",\"type\":\"BasicTicker\"}},\"id\":\"53b8417c-ea9c-4451-a3e1-bdfbc4ae3434\",\"type\":\"Grid\"},{\"attributes\":{\"callback\":null,\"end\":0.01,\"start\":1020},\"id\":\"84c5bc6b-2508-4df9-92d5-82856ec3125d\",\"type\":\"Range1d\"},{\"attributes\":{\"callback\":null,\"data\":{\"x\":{\"__ndarray__\":\"Jj6LZuT6sL8C6JLStfSuv/T8q78MY6i/xyN+5igXob+5Pjcq8zOSv/5SIjd96Ee/Lhu+AT0/kj8PKiWPnXOjPw2Ha9aVpq4/SgMPcUtitT+djWwZNuu7P639fN/oeME/1Xc8NbA4xT8eBBU8IrLIPw9fR5h5Xcs/iEXSjwKbzT9bK3fyK87PP8fAlUeS+9A/UNwzQ5EL0j+BI6IUhB3TP5iCHDEGGNQ/mo7n0HVj0j9Y7h4DJi7LPwf9lkqJ7sE/93taLOJHtj+35TrFXrOpPyHmwuMDhJo/8ptfIEqsiz+HC0NbA5iEPxfAsI0TPoI/Zaj1+9i9fT9r8fihio50P6ua70LkhHI/WLf9z7p2eD/dWbdZrlJ8P7UI5fZ0uX0/F7N08fahfD8gk/TIGeV1P8dh1uo3w2g/fmHcTf8DRz90WF/xVH9dv1cTiPoEIHO/Ap0sIVZ5gL/0Ex+2LBOJv8avBMS3v5G/B+WrVLg0lL9iYdfikmSRvw8VQ2964oi/+TcLY2JmfL+RjSeNz6dQv9NMeATe4nU/G1NhgAWviD9jQJvBhHaTPwPBXaLswJo/dUWJk4QPoT8IOPHGY7WkP7LsP+7/PKg/7ac+ET2Jqz/IDN+4SH6uP79pipjDgrA/13eKxCCKsT88r5ywCViyP46ZB1rI9rI/jPftaD95sz8i8v3XMPizP7AuQSJ6jbQ/EYNRLUhRtT9SUC7mF0C2P99VSUMR+7Y/a41uqAu9tj9WBHRpQOC0PypMWTI5yLE/Qfpg+AzRrD9l7KLtOkmmP9kOKpfkhZ4/\",\"dtype\":\"float64\",\"shape\":[75]},\"y\":{\"__ndarray__\":\"GhExyth1ND/Sv8nbtpRIP2vylNV0PVE/aTum7souWD/At0SJ8fVgPw3Iuahxymc/MSNhhJWvcD/bTfBN02d3P2zb5nxnaoA/CD5h5MAGhz8NmeH1TyaQP+zrCsc9p5Y/LbKd76fGnz/bLW5ISEmmPww9YvTcQq8/JV2OstnstT8Er5Y7M8G+P0c+r3jqkcU/5h99k6ZBzj88bCIzFzjVP4enV8oyxN0//yH99nXg5D8qOpLLf0jtP5kqGJXUifQ/c9cS8kHP/D+/DpwzojQEQIEmwoanVwxA4lgXt9HgE0BSSZ2AJuIbQAMJih9jjiNA5q4l5INuK0AwTKYKRj0zQNv5fmq8/DpAaCJseHrtQkB/+zpwzoxKQM3MzMzMeFJAZmZmZmZqWEAAAAAAAFxeQM3MzMzMJmJAmpmZmZkfZUBmZmZmZhhoQDMzMzMzEWtAAAAAAAAKbkBmZmZmZoFwQM3MzMzM/XFAMzMzMzN6c0CamZmZmfZ0QAAAAAAAc3ZAZmZmZmbvd0DNzMzMzGt5QDMzMzMz6HpAmpmZmZlkfEAAAAAAAOF9QGZmZmZmXX9AZmZmZuZsgECamZmZGSuBQM3MzMxM6YFAAAAAAICngkAzMzMzs2WDQGZmZmbmI4RAmpmZmRnihEDNzMzMTKCFQAAAAACAXoZAMzMzM7Mch0BmZmZm5tqHQJqZmZkZmYhAzczMzExXiUAAAAAAgBWKQDMzMzOz04pAZmZmZuaRi0CamZmZGVCMQM3MzMxMDo1AAAAAAIDMjUAzMzMzs4qOQGZmZmbmSI9A\",\"dtype\":\"float64\",\"shape\":[75]}},\"selected\":{\"id\":\"63826f6d-58c8-41d4-a9e6-a20244c55151\",\"type\":\"Selection\"},\"selection_policy\":{\"id\":\"c00b7c84-fad4-4f6f-9a5c-75d3bb932fd9\",\"type\":\"UnionRenderers\"}},\"id\":\"92589160-06c3-4c31-8db2-afb060353399\",\"type\":\"ColumnDataSource\"},{\"attributes\":{\"bottom_units\":\"screen\",\"fill_alpha\":{\"value\":0.5},\"fill_color\":{\"value\":\"lightgrey\"},\"left_units\":\"screen\",\"level\":\"overlay\",\"line_alpha\":{\"value\":1.0},\"line_color\":{\"value\":\"black\"},\"line_dash\":[4,4],\"line_width\":{\"value\":2},\"plot\":null,\"render_mode\":\"css\",\"right_units\":\"screen\",\"top_units\":\"screen\"},\"id\":\"ef0d75a6-7517-46b4-9ab1-1dad3ba40f1e\",\"type\":\"BoxAnnotation\"},{\"attributes\":{\"line_alpha\":0.1,\"line_color\":\"#1f77b4\",\"line_width\":3,\"x\":{\"field\":\"x\"},\"y\":{\"field\":\"y\"}},\"id\":\"7945bb36-bf8f-4cbe-82a8-72454395e7f1\",\"type\":\"Line\"},{\"attributes\":{},\"id\":\"63a232ca-adfe-48cb-9449-bbe4cd190c4b\",\"type\":\"BasicTicker\"},{\"attributes\":{\"data_source\":{\"id\":\"b132cc9e-4c37-4868-8024-f5de2a964099\",\"type\":\"ColumnDataSource\"},\"glyph\":{\"id\":\"e89316ec-3d81-4b45-8b00-143a8e03a32d\",\"type\":\"Line\"},\"hover_glyph\":null,\"muted_glyph\":null,\"nonselection_glyph\":{\"id\":\"7945bb36-bf8f-4cbe-82a8-72454395e7f1\",\"type\":\"Line\"},\"selection_glyph\":null,\"view\":{\"id\":\"d7ea410f-26a8-4872-8dde-641638304289\",\"type\":\"CDSView\"}},\"id\":\"4fd64ad3-71e5-4afe-a6d2-48d45f5e1e2c\",\"type\":\"GlyphRenderer\"},{\"attributes\":{\"source\":{\"id\":\"23c53335-4c6d-44e9-b87d-d0206bcc90cc\",\"type\":\"ColumnDataSource\"}},\"id\":\"93214f7d-54a4-406a-8719-7a3c5258f5cf\",\"type\":\"CDSView\"},{\"attributes\":{\"children\":[{\"id\":\"85b925a7-3288-4064-8a3e-2ed23fbb2ab5\",\"subtype\":\"Figure\",\"type\":\"Plot\"},{\"id\":\"ab81e98e-6637-4e9a-842b-c41efdfe272e\",\"subtype\":\"Figure\",\"type\":\"Plot\"}]},\"id\":\"171afe2a-5473-4f03-bfc6-d011609fa5a6\",\"type\":\"Row\"},{\"attributes\":{\"line_color\":\"#4daf4a\",\"line_width\":1.5,\"x\":{\"field\":\"x\"},\"y\":{\"field\":\"y\"}},\"id\":\"d811cb97-b65a-47a6-895d-72cd6bf734d3\",\"type\":\"Line\"},{\"attributes\":{\"source\":{\"id\":\"b132cc9e-4c37-4868-8024-f5de2a964099\",\"type\":\"ColumnDataSource\"}},\"id\":\"d7ea410f-26a8-4872-8dde-641638304289\",\"type\":\"CDSView\"},{\"attributes\":{},\"id\":\"af103cf8-0989-49c3-9497-c5afabcea2b7\",\"type\":\"BasicTickFormatter\"},{\"attributes\":{\"label\":{\"value\":\"CLIRAD `coolr_bands`\"},\"renderers\":[{\"id\":\"4f5b26e8-bc59-4a9e-a822-f7efa3b6984a\",\"type\":\"GlyphRenderer\"}]},\"id\":\"61edb619-918f-420b-9537-c5c33b1c1b8a\",\"type\":\"LegendItem\"},{\"attributes\":{},\"id\":\"86dffe7f-6375-4bf3-af7a-4113ed25954e\",\"type\":\"BasicTickFormatter\"},{\"attributes\":{\"label\":{\"value\":\"CRD\"},\"renderers\":[{\"id\":\"f85ac93b-157e-4e53-8821-371cae3c5dba\",\"type\":\"GlyphRenderer\"},{\"id\":\"3c9f91df-1378-4887-b00c-c9e4b6ab329e\",\"type\":\"GlyphRenderer\"}]},\"id\":\"edea1dd7-e722-4534-bba6-2be8e85c3a9b\",\"type\":\"LegendItem\"},{\"attributes\":{},\"id\":\"eb2b1813-33f6-478d-a7e5-e741207f7005\",\"type\":\"UnionRenderers\"},{\"attributes\":{\"label\":{\"value\":\"WGT igg=10 wgt_flux=2\"},\"renderers\":[{\"id\":\"038a11ce-20e8-450f-b471-8cfff2fc250f\",\"type\":\"GlyphRenderer\"},{\"id\":\"4fd64ad3-71e5-4afe-a6d2-48d45f5e1e2c\",\"type\":\"GlyphRenderer\"}]},\"id\":\"a25b16de-44bb-475d-897e-8d4099d173a5\",\"type\":\"LegendItem\"},{\"attributes\":{},\"id\":\"dc8f0d4a-1058-4496-93de-43c619859aef\",\"type\":\"LinearScale\"},{\"attributes\":{},\"id\":\"9f6e1b88-7afb-4835-bf7c-23fb96a881db\",\"type\":\"Selection\"},{\"attributes\":{},\"id\":\"db6644ef-f539-4644-8161-56b209027550\",\"type\":\"Selection\"},{\"attributes\":{},\"id\":\"3e1eef49-4b57-4938-b077-c065c27a4db4\",\"type\":\"UnionRenderers\"},{\"attributes\":{\"below\":[{\"id\":\"0b433bc3-5740-47c3-8f9d-6c2595abf6c8\",\"type\":\"LinearAxis\"}],\"left\":[{\"id\":\"d64883bb-ef4f-4134-9418-00a442a3bfb6\",\"type\":\"LinearAxis\"}],\"plot_height\":500,\"plot_width\":400,\"renderers\":[{\"id\":\"0b433bc3-5740-47c3-8f9d-6c2595abf6c8\",\"type\":\"LinearAxis\"},{\"id\":\"0eaafa04-c373-47a3-a586-b352b9b73cdb\",\"type\":\"Grid\"},{\"id\":\"d64883bb-ef4f-4134-9418-00a442a3bfb6\",\"type\":\"LinearAxis\"},{\"id\":\"53b8417c-ea9c-4451-a3e1-bdfbc4ae3434\",\"type\":\"Grid\"},{\"id\":\"ef0d75a6-7517-46b4-9ab1-1dad3ba40f1e\",\"type\":\"BoxAnnotation\"},{\"id\":\"d6126362-7a98-40dd-8ac5-b06635de98eb\",\"type\":\"GlyphRenderer\"},{\"id\":\"ec9c2a46-7f30-4010-a168-5ca4dc0c9921\",\"type\":\"GlyphRenderer\"},{\"id\":\"b0be673f-a371-482d-a85d-b9e059bbf027\",\"type\":\"GlyphRenderer\"},{\"id\":\"86e52c52-c37b-488a-a601-b12a5efe6014\",\"type\":\"GlyphRenderer\"},{\"id\":\"ee7b5d6f-f998-442a-a558-71228a0b6f31\",\"type\":\"GlyphRenderer\"}],\"title\":{\"id\":\"2f9d1389-e6e2-4d19-a7c7-b9e6d22e8db0\",\"type\":\"Title\"},\"toolbar\":{\"id\":\"8ae5650e-68a2-4580-8292-c0c968353fd9\",\"type\":\"Toolbar\"},\"toolbar_location\":null,\"x_range\":{\"id\":\"e0a871d5-b4d1-4973-b75c-9dfc34f664a9\",\"type\":\"Range1d\"},\"x_scale\":{\"id\":\"dc8f0d4a-1058-4496-93de-43c619859aef\",\"type\":\"LinearScale\"},\"y_range\":{\"id\":\"84c5bc6b-2508-4df9-92d5-82856ec3125d\",\"type\":\"Range1d\"},\"y_scale\":{\"id\":\"f602bb62-dcdc-4ef1-98d4-9044f2525718\",\"type\":\"LinearScale\"}},\"id\":\"85b925a7-3288-4064-8a3e-2ed23fbb2ab5\",\"subtype\":\"Figure\",\"type\":\"Plot\"},{\"attributes\":{},\"id\":\"9e6c1b14-e04a-4061-9f78-e5d2440e3f79\",\"type\":\"BasicTickFormatter\"},{\"attributes\":{\"data_source\":{\"id\":\"85296b8f-b76e-47e5-8bed-e2eee2a77768\",\"type\":\"ColumnDataSource\"},\"glyph\":{\"id\":\"eea707d5-fb3c-48c7-b06f-08b31038c55a\",\"type\":\"Line\"},\"hover_glyph\":null,\"muted_glyph\":null,\"nonselection_glyph\":{\"id\":\"f8cb7b9a-696a-453a-9525-3382fcf9de5c\",\"type\":\"Line\"},\"selection_glyph\":null,\"view\":{\"id\":\"6790ab9d-a4a8-4905-9676-0bcf13192426\",\"type\":\"CDSView\"}},\"id\":\"d6126362-7a98-40dd-8ac5-b06635de98eb\",\"type\":\"GlyphRenderer\"},{\"attributes\":{},\"id\":\"59123c64-541a-4942-871b-5bb6417ca7e1\",\"type\":\"UnionRenderers\"},{\"attributes\":{},\"id\":\"daf4bc62-1c79-40ab-bf05-eb0989701fb2\",\"type\":\"Selection\"},{\"attributes\":{},\"id\":\"9d138384-ee15-4222-a1ea-dcb8d2556462\",\"type\":\"Selection\"},{\"attributes\":{},\"id\":\"97d4d7db-a87e-412d-91a5-886151b8019a\",\"type\":\"UnionRenderers\"},{\"attributes\":{},\"id\":\"1d4a4443-27b5-4616-ad34-58747082d698\",\"type\":\"Selection\"},{\"attributes\":{},\"id\":\"1dd1d640-7fc1-409d-b7bf-6ffb9621ccc5\",\"type\":\"UnionRenderers\"},{\"attributes\":{},\"id\":\"6a1e8898-1a75-41f7-9e44-9b644c7c075b\",\"type\":\"UnionRenderers\"},{\"attributes\":{\"plot\":null,\"text\":\"Linear pressure scale\"},\"id\":\"2f9d1389-e6e2-4d19-a7c7-b9e6d22e8db0\",\"type\":\"Title\"},{\"attributes\":{},\"id\":\"e6ed1a2f-a4ad-492a-b6b6-b7b697eb878d\",\"type\":\"UnionRenderers\"},{\"attributes\":{},\"id\":\"0d70f184-6865-4498-b613-73959b845dfb\",\"type\":\"Selection\"},{\"attributes\":{},\"id\":\"c00b7c84-fad4-4f6f-9a5c-75d3bb932fd9\",\"type\":\"UnionRenderers\"},{\"attributes\":{},\"id\":\"9860423b-7e5e-4c41-a7bf-c519aaeb334e\",\"type\":\"Selection\"},{\"attributes\":{\"fill_alpha\":{\"value\":0.1},\"fill_color\":{\"value\":\"#1f77b4\"},\"line_alpha\":{\"value\":0.1},\"line_color\":{\"value\":\"#1f77b4\"},\"x\":{\"field\":\"x\"},\"y\":{\"field\":\"y\"}},\"id\":\"2bd44b89-5be8-45f9-9292-f11254376cd3\",\"type\":\"Circle\"},{\"attributes\":{},\"id\":\"73e689cc-36fe-4b53-9178-6b1f87864374\",\"type\":\"Selection\"},{\"attributes\":{},\"id\":\"63826f6d-58c8-41d4-a9e6-a20244c55151\",\"type\":\"Selection\"},{\"attributes\":{\"toolbar\":{\"id\":\"e853e3b3-eec3-4d42-ba3e-442e391be902\",\"type\":\"ProxyToolbar\"},\"toolbar_location\":\"above\"},\"id\":\"661ed927-bdf2-46e6-a5ad-6d5c16d7f916\",\"type\":\"ToolbarBox\"},{\"attributes\":{},\"id\":\"bcdcb4fc-1983-4835-a072-dd7ce9c6787a\",\"type\":\"UnionRenderers\"},{\"attributes\":{\"fill_alpha\":{\"value\":0.1},\"fill_color\":{\"value\":\"#1f77b4\"},\"line_alpha\":{\"value\":0.1},\"line_color\":{\"value\":\"#1f77b4\"},\"x\":{\"field\":\"x\"},\"y\":{\"field\":\"y\"}},\"id\":\"1de87fca-161c-40f3-baf5-dfb081a180d8\",\"type\":\"Square\"},{\"attributes\":{},\"id\":\"fb918142-0390-4a84-abdc-ed6d7d5ea2d0\",\"type\":\"Selection\"},{\"attributes\":{\"children\":[{\"id\":\"171afe2a-5473-4f03-bfc6-d011609fa5a6\",\"type\":\"Row\"}]},\"id\":\"4a5d298b-e034-4876-9555-2cf4ddbdc35e\",\"type\":\"Column\"},{\"attributes\":{},\"id\":\"c881cc25-23ec-48c8-b85f-ce905cc79f74\",\"type\":\"UnionRenderers\"},{\"attributes\":{\"children\":[{\"id\":\"661ed927-bdf2-46e6-a5ad-6d5c16d7f916\",\"type\":\"ToolbarBox\"},{\"id\":\"4a5d298b-e034-4876-9555-2cf4ddbdc35e\",\"type\":\"Column\"}]},\"id\":\"233be289-c5be-423b-a576-ff42104fd52a\",\"type\":\"Column\"},{\"attributes\":{\"tools\":[{\"id\":\"503a5e87-5cec-4dbe-87ff-dc8a6b731972\",\"type\":\"PanTool\"},{\"id\":\"8e6b4ccb-5ae2-4006-aa1f-431ef1793ea9\",\"type\":\"WheelZoomTool\"},{\"id\":\"ae73dc78-67bd-4aee-a668-22a57120f440\",\"type\":\"BoxZoomTool\"},{\"id\":\"df37d5f1-f759-43c3-a0a2-904c39d33743\",\"type\":\"SaveTool\"},{\"id\":\"372c3596-89f6-4d55-b9eb-7ce0d8a29e16\",\"type\":\"ResetTool\"},{\"id\":\"0073a55a-d138-4c26-b9ab-f4ce4a16fc2c\",\"type\":\"HelpTool\"},{\"id\":\"9d1db880-bac7-4b7f-8dd2-e3a2d8237895\",\"type\":\"PanTool\"},{\"id\":\"ba4cda72-42bb-4c72-8333-3d5437d8cd6a\",\"type\":\"WheelZoomTool\"},{\"id\":\"f5901c02-c02c-40e8-8154-7555fa1847bb\",\"type\":\"BoxZoomTool\"},{\"id\":\"685471df-8b88-4ad5-9aab-150af55373b7\",\"type\":\"SaveTool\"},{\"id\":\"4b35ae7f-413d-41fd-8ef5-6fd35be2a68e\",\"type\":\"ResetTool\"},{\"id\":\"af1e273a-5687-4d3b-ab90-9b8afbb586e7\",\"type\":\"HelpTool\"}]},\"id\":\"e853e3b3-eec3-4d42-ba3e-442e391be902\",\"type\":\"ProxyToolbar\"},{\"attributes\":{\"active_drag\":\"auto\",\"active_inspect\":\"auto\",\"active_scroll\":\"auto\",\"active_tap\":\"auto\",\"tools\":[{\"id\":\"503a5e87-5cec-4dbe-87ff-dc8a6b731972\",\"type\":\"PanTool\"},{\"id\":\"8e6b4ccb-5ae2-4006-aa1f-431ef1793ea9\",\"type\":\"WheelZoomTool\"},{\"id\":\"ae73dc78-67bd-4aee-a668-22a57120f440\",\"type\":\"BoxZoomTool\"},{\"id\":\"df37d5f1-f759-43c3-a0a2-904c39d33743\",\"type\":\"SaveTool\"},{\"id\":\"372c3596-89f6-4d55-b9eb-7ce0d8a29e16\",\"type\":\"ResetTool\"},{\"id\":\"0073a55a-d138-4c26-b9ab-f4ce4a16fc2c\",\"type\":\"HelpTool\"}]},\"id\":\"8ae5650e-68a2-4580-8292-c0c968353fd9\",\"type\":\"Toolbar\"},{\"attributes\":{\"callback\":null,\"end\":0.09461685081999999,\"start\":-0.024294118820000002},\"id\":\"e0a871d5-b4d1-4973-b75c-9dfc34f664a9\",\"type\":\"Range1d\"},{\"attributes\":{\"callback\":null,\"data\":{\"x\":{\"__ndarray__\":\"lkfadcZqeL+uLkKQvitkv8dsyDzEGHc/gpD5bl2rjT8QMeYtpc6YP1HSf7Pt5KE/iXXYtLrrpz+Lcy+L5IauP31FiSbo4LI/UC1LCfvVtj9bFVV9tie7PxoABXLk3L8/F6MJb2p7wj8dcAJ4sOrEPyg7BRJ36cY/d6IkJNK2yD85WQ8EbZfKP8zzGpo2jMw/ZniBzK2Uzj8CYlRKtlfQP/8jspPqUNE/+Yk9k4Fs0D9jAxLiBIXKPyeaDyERx8M/X7wXRhcnvD9RB98f4quyP30IIVVREqY/35ZdamNwlz+LiqCA2XyJP7vq7Q6qhn0/4WOctU7ycD8rJZjqwR1iP/vyi5TicWU/BkE07Jh3cz9G/GAjRA55P5Y5/aPm4Ho/AMFU59zjeD++TbTo8wpxP9M1EFw3dlg/eEFnwg15Vr+1u4VChHdyv5/KF+OkcYC/A4J43j92iL9m/lwq8siQvw6uXTMpoJW/qWEdmdepl7/tmD5kX+yUv3iEHFnO5Y+/dlr7Xuq3hL868un1kx9wv52ZX1zRvmY/aIAGsIy6gz/fzL/Ike+QP1m/lN90W5g/RIF79D8moD+R7W0UCCSkPwXAV/gj2qc/LyeC58cnqz+dwH7MKhOuPz+29WucYbA/jjbdnl+VsT8cB6BJSayyPxqhsYyTlrM/uBI4FGlbtD+UfasDjQq1P44q4Q52uLU/aA7UHx17tj9+o42LuVe3Py91l5Fo7Lc/Sn8TMNiStz9dpx9B4ri1P8Gsoev6ubI/YgVdmtnprj869ukBvp6oP+6h0PQK8qE/\",\"dtype\":\"float64\",\"shape\":[75]},\"y\":{\"__ndarray__\":\"S/O/Q+51ND/Sv8nbtpRIP2vylNV0PVE/aTum7souWD/At0SJ8fVgPw3Iuahxymc/MSNhhJWvcD/bTfBN02d3P2zb5nxnaoA/CD5h5MAGhz8NmeH1TyaQP+zrCsc9p5Y/LbKd76fGnz/bLW5ISEmmPww9YvTcQq8/JV2OstnstT8Er5Y7M8G+P0c+r3jqkcU/5h99k6ZBzj88bCIzFzjVP4enV8oyxN0//yH99nXg5D8qOpLLf0jtP5kqGJXUifQ/c9cS8kHP/D+/DpwzojQEQIEmwoanVwxA4lgXt9HgE0BSSZ2AJuIbQAMJih9jjiNA5q4l5INuK0AwTKYKRj0zQNv5fmq8/DpAaCJseHrtQkB/+zpwzoxKQM3MzMzMeFJAZmZmZmZqWEAAAAAAAFxeQM3MzMzMJmJAmpmZmZkfZUBmZmZmZhhoQDMzMzMzEWtAAAAAAAAKbkBmZmZmZoFwQM3MzMzM/XFAMzMzMzN6c0CamZmZmfZ0QAAAAAAAc3ZAZmZmZmbvd0DNzMzMzGt5QDMzMzMz6HpAmpmZmZlkfEAAAAAAAOF9QGZmZmZmXX9AZmZmZuZsgECamZmZGSuBQM3MzMxM6YFAAAAAAICngkAzMzMzs2WDQGZmZmbmI4RAmpmZmRnihEDNzMzMTKCFQAAAAACAXoZAMzMzM7Mch0BmZmZm5tqHQJqZmZkZmYhAzczMzExXiUAAAAAAgBWKQDMzMzOz04pAZmZmZuaRi0CamZmZGVCMQM3MzMxMDo1AAAAAAIDMjUAzMzMzs4qOQGZmZmbmSI9A\",\"dtype\":\"float64\",\"shape\":[75]}},\"selected\":{\"id\":\"db6644ef-f539-4644-8161-56b209027550\",\"type\":\"Selection\"},\"selection_policy\":{\"id\":\"59123c64-541a-4942-871b-5bb6417ca7e1\",\"type\":\"UnionRenderers\"}},\"id\":\"85296b8f-b76e-47e5-8bed-e2eee2a77768\",\"type\":\"ColumnDataSource\"}],\"root_ids\":[\"233be289-c5be-423b-a576-ff42104fd52a\"]},\"title\":\"Bokeh Application\",\"version\":\"0.12.16\"}};\n",
       "  var render_items = [{\"docid\":\"01e117b0-3433-4a7b-910c-937249c3f78c\",\"elementid\":\"08ba30ae-4f77-4d08-8941-8bb56aa2cddd\",\"modelid\":\"233be289-c5be-423b-a576-ff42104fd52a\"}];\n",
       "  root.Bokeh.embed.embed_items_notebook(docs_json, render_items);\n",
       "\n",
       "  }\n",
       "  if (root.Bokeh !== undefined) {\n",
       "    embed_document(root);\n",
       "  } else {\n",
       "    var attempts = 0;\n",
       "    var timer = setInterval(function(root) {\n",
       "      if (root.Bokeh !== undefined) {\n",
       "        embed_document(root);\n",
       "        clearInterval(timer);\n",
       "      }\n",
       "      attempts++;\n",
       "      if (attempts > 100) {\n",
       "        console.log(\"Bokeh: ERROR: Unable to run BokehJS code because BokehJS library is missing\")\n",
       "        clearInterval(timer);\n",
       "      }\n",
       "    }, 10, root)\n",
       "  }\n",
       "})(window);"
      ],
      "application/vnd.bokehjs_exec.v0+json": ""
     },
     "metadata": {
      "application/vnd.bokehjs_exec.v0+json": {
       "id": "233be289-c5be-423b-a576-ff42104fd52a"
      }
     },
     "output_type": "display_data"
    },
    {
     "name": "stdout",
     "output_type": "stream",
     "text": [
      "FIGURE. Cooling rate profiles.\n"
     ]
    },
    {
     "data": {
      "text/html": [
       "<a id=\"Flux_Comparison\"></a>"
      ],
      "text/plain": [
       "<IPython.core.display.HTML object>"
      ]
     },
     "metadata": {},
     "output_type": "display_data"
    },
    {
     "data": {
      "text/markdown": [
       "# Flux Comparison"
      ],
      "text/plain": [
       "<IPython.core.display.Markdown object>"
      ]
     },
     "metadata": {},
     "output_type": "display_data"
    },
    {
     "data": {
      "text/html": [
       "<div>\n",
       "<style scoped>\n",
       "    .dataframe tbody tr th:only-of-type {\n",
       "        vertical-align: middle;\n",
       "    }\n",
       "\n",
       "    .dataframe tbody tr th {\n",
       "        vertical-align: top;\n",
       "    }\n",
       "\n",
       "    .dataframe thead th {\n",
       "        text-align: right;\n",
       "    }\n",
       "</style>\n",
       "<table border=\"1\" class=\"dataframe\">\n",
       "  <thead>\n",
       "    <tr style=\"text-align: right;\">\n",
       "      <th></th>\n",
       "      <th></th>\n",
       "      <th>flug</th>\n",
       "      <th>fldg</th>\n",
       "      <th>fnetg</th>\n",
       "    </tr>\n",
       "    <tr>\n",
       "      <th>pressure</th>\n",
       "      <th>level</th>\n",
       "      <th></th>\n",
       "      <th></th>\n",
       "      <th></th>\n",
       "    </tr>\n",
       "  </thead>\n",
       "  <tbody>\n",
       "    <tr>\n",
       "      <th>0.0000</th>\n",
       "      <th>1</th>\n",
       "      <td>-6.887330</td>\n",
       "      <td>0.000000</td>\n",
       "      <td>-6.887330</td>\n",
       "    </tr>\n",
       "    <tr>\n",
       "      <th>1.0685</th>\n",
       "      <th>24</th>\n",
       "      <td>-6.876573</td>\n",
       "      <td>0.021828</td>\n",
       "      <td>-6.854746</td>\n",
       "    </tr>\n",
       "    <tr>\n",
       "      <th>1013.0000</th>\n",
       "      <th>76</th>\n",
       "      <td>-9.558030</td>\n",
       "      <td>6.605942</td>\n",
       "      <td>-2.952088</td>\n",
       "    </tr>\n",
       "  </tbody>\n",
       "</table>\n",
       "</div>"
      ],
      "text/plain": [
       "                     flug      fldg     fnetg\n",
       "pressure  level                              \n",
       "0.0000    1     -6.887330  0.000000 -6.887330\n",
       "1.0685    24    -6.876573  0.021828 -6.854746\n",
       "1013.0000 76    -9.558030  6.605942 -2.952088"
      ]
     },
     "metadata": {},
     "output_type": "display_data"
    },
    {
     "name": "stdout",
     "output_type": "stream",
     "text": [
      "Table. Fluxes. CRD\n"
     ]
    },
    {
     "data": {
      "text/html": [
       "<div>\n",
       "<style scoped>\n",
       "    .dataframe tbody tr th:only-of-type {\n",
       "        vertical-align: middle;\n",
       "    }\n",
       "\n",
       "    .dataframe tbody tr th {\n",
       "        vertical-align: top;\n",
       "    }\n",
       "\n",
       "    .dataframe thead th {\n",
       "        text-align: right;\n",
       "    }\n",
       "</style>\n",
       "<table border=\"1\" class=\"dataframe\">\n",
       "  <thead>\n",
       "    <tr style=\"text-align: right;\">\n",
       "      <th></th>\n",
       "      <th></th>\n",
       "      <th>flug</th>\n",
       "      <th>fldg</th>\n",
       "      <th>fnetg</th>\n",
       "    </tr>\n",
       "    <tr>\n",
       "      <th>pressure</th>\n",
       "      <th>level</th>\n",
       "      <th></th>\n",
       "      <th></th>\n",
       "      <th></th>\n",
       "    </tr>\n",
       "  </thead>\n",
       "  <tbody>\n",
       "    <tr>\n",
       "      <th>0.0000</th>\n",
       "      <th>1</th>\n",
       "      <td>-6.787575</td>\n",
       "      <td>0.000000</td>\n",
       "      <td>-6.787575</td>\n",
       "    </tr>\n",
       "    <tr>\n",
       "      <th>1.0685</th>\n",
       "      <th>24</th>\n",
       "      <td>-6.776454</td>\n",
       "      <td>0.019553</td>\n",
       "      <td>-6.756901</td>\n",
       "    </tr>\n",
       "    <tr>\n",
       "      <th>1013.0000</th>\n",
       "      <th>76</th>\n",
       "      <td>-9.558030</td>\n",
       "      <td>6.687266</td>\n",
       "      <td>-2.870764</td>\n",
       "    </tr>\n",
       "  </tbody>\n",
       "</table>\n",
       "</div>"
      ],
      "text/plain": [
       "                     flug      fldg     fnetg\n",
       "pressure  level                              \n",
       "0.0000    1     -6.787575  0.000000 -6.787575\n",
       "1.0685    24    -6.776454  0.019553 -6.756901\n",
       "1013.0000 76    -9.558030  6.687266 -2.870764"
      ]
     },
     "metadata": {},
     "output_type": "display_data"
    },
    {
     "name": "stdout",
     "output_type": "stream",
     "text": [
      "Table. Fluxes. WGT igg=10 wgt_flux=1\n"
     ]
    },
    {
     "data": {
      "text/html": [
       "<div>\n",
       "<style scoped>\n",
       "    .dataframe tbody tr th:only-of-type {\n",
       "        vertical-align: middle;\n",
       "    }\n",
       "\n",
       "    .dataframe tbody tr th {\n",
       "        vertical-align: top;\n",
       "    }\n",
       "\n",
       "    .dataframe thead th {\n",
       "        text-align: right;\n",
       "    }\n",
       "</style>\n",
       "<table border=\"1\" class=\"dataframe\">\n",
       "  <thead>\n",
       "    <tr style=\"text-align: right;\">\n",
       "      <th></th>\n",
       "      <th></th>\n",
       "      <th>flug</th>\n",
       "      <th>fldg</th>\n",
       "      <th>fnetg</th>\n",
       "    </tr>\n",
       "    <tr>\n",
       "      <th>pressure</th>\n",
       "      <th>level</th>\n",
       "      <th></th>\n",
       "      <th></th>\n",
       "      <th></th>\n",
       "    </tr>\n",
       "  </thead>\n",
       "  <tbody>\n",
       "    <tr>\n",
       "      <th>1.000000e-08</th>\n",
       "      <th>1</th>\n",
       "      <td>-6.854793</td>\n",
       "      <td>9.420961e-08</td>\n",
       "      <td>-6.854793</td>\n",
       "    </tr>\n",
       "    <tr>\n",
       "      <th>1.068500e+00</th>\n",
       "      <th>24</th>\n",
       "      <td>-6.843871</td>\n",
       "      <td>1.816004e-02</td>\n",
       "      <td>-6.825711</td>\n",
       "    </tr>\n",
       "    <tr>\n",
       "      <th>1.013000e+03</th>\n",
       "      <th>76</th>\n",
       "      <td>-9.558030</td>\n",
       "      <td>6.625297e+00</td>\n",
       "      <td>-2.932733</td>\n",
       "    </tr>\n",
       "  </tbody>\n",
       "</table>\n",
       "</div>"
      ],
      "text/plain": [
       "                        flug          fldg     fnetg\n",
       "pressure     level                                  \n",
       "1.000000e-08 1     -6.854793  9.420961e-08 -6.854793\n",
       "1.068500e+00 24    -6.843871  1.816004e-02 -6.825711\n",
       "1.013000e+03 76    -9.558030  6.625297e+00 -2.932733"
      ]
     },
     "metadata": {},
     "output_type": "display_data"
    },
    {
     "name": "stdout",
     "output_type": "stream",
     "text": [
      "Table. Fluxes. CLIRAD\n"
     ]
    },
    {
     "data": {
      "text/html": [
       "<div>\n",
       "<style scoped>\n",
       "    .dataframe tbody tr th:only-of-type {\n",
       "        vertical-align: middle;\n",
       "    }\n",
       "\n",
       "    .dataframe tbody tr th {\n",
       "        vertical-align: top;\n",
       "    }\n",
       "\n",
       "    .dataframe thead th {\n",
       "        text-align: right;\n",
       "    }\n",
       "</style>\n",
       "<table border=\"1\" class=\"dataframe\">\n",
       "  <thead>\n",
       "    <tr style=\"text-align: right;\">\n",
       "      <th></th>\n",
       "      <th></th>\n",
       "      <th>flug</th>\n",
       "      <th>fldg</th>\n",
       "      <th>fnetg</th>\n",
       "    </tr>\n",
       "    <tr>\n",
       "      <th>pressure</th>\n",
       "      <th>level</th>\n",
       "      <th></th>\n",
       "      <th></th>\n",
       "      <th></th>\n",
       "    </tr>\n",
       "  </thead>\n",
       "  <tbody>\n",
       "    <tr>\n",
       "      <th>0.0000</th>\n",
       "      <th>1</th>\n",
       "      <td>0.099755</td>\n",
       "      <td>0.000000</td>\n",
       "      <td>0.099755</td>\n",
       "    </tr>\n",
       "    <tr>\n",
       "      <th>1.0685</th>\n",
       "      <th>24</th>\n",
       "      <td>0.100119</td>\n",
       "      <td>-0.002274</td>\n",
       "      <td>0.097845</td>\n",
       "    </tr>\n",
       "    <tr>\n",
       "      <th>1013.0000</th>\n",
       "      <th>76</th>\n",
       "      <td>0.000000</td>\n",
       "      <td>0.081324</td>\n",
       "      <td>0.081324</td>\n",
       "    </tr>\n",
       "  </tbody>\n",
       "</table>\n",
       "</div>"
      ],
      "text/plain": [
       "                     flug      fldg     fnetg\n",
       "pressure  level                              \n",
       "0.0000    1      0.099755  0.000000  0.099755\n",
       "1.0685    24     0.100119 -0.002274  0.097845\n",
       "1013.0000 76     0.000000  0.081324  0.081324"
      ]
     },
     "metadata": {},
     "output_type": "display_data"
    },
    {
     "name": "stdout",
     "output_type": "stream",
     "text": [
      "Table. Fluxes. (WGT igg=10 wgt_flux=1) - (CRD)\n"
     ]
    },
    {
     "data": {
      "text/html": [
       "<div>\n",
       "<style scoped>\n",
       "    .dataframe tbody tr th:only-of-type {\n",
       "        vertical-align: middle;\n",
       "    }\n",
       "\n",
       "    .dataframe tbody tr th {\n",
       "        vertical-align: top;\n",
       "    }\n",
       "\n",
       "    .dataframe thead th {\n",
       "        text-align: right;\n",
       "    }\n",
       "</style>\n",
       "<table border=\"1\" class=\"dataframe\">\n",
       "  <thead>\n",
       "    <tr style=\"text-align: right;\">\n",
       "      <th></th>\n",
       "      <th></th>\n",
       "      <th>flug</th>\n",
       "      <th>fldg</th>\n",
       "      <th>fnetg</th>\n",
       "    </tr>\n",
       "    <tr>\n",
       "      <th>pressure</th>\n",
       "      <th>level</th>\n",
       "      <th></th>\n",
       "      <th></th>\n",
       "      <th></th>\n",
       "    </tr>\n",
       "  </thead>\n",
       "  <tbody>\n",
       "    <tr>\n",
       "      <th>0.0000</th>\n",
       "      <th>1</th>\n",
       "      <td>3.253630e-02</td>\n",
       "      <td>9.420961e-08</td>\n",
       "      <td>0.032536</td>\n",
       "    </tr>\n",
       "    <tr>\n",
       "      <th>1.0685</th>\n",
       "      <th>24</th>\n",
       "      <td>3.270200e-02</td>\n",
       "      <td>-3.667720e-03</td>\n",
       "      <td>0.029034</td>\n",
       "    </tr>\n",
       "    <tr>\n",
       "      <th>1013.0000</th>\n",
       "      <th>76</th>\n",
       "      <td>3.000000e-07</td>\n",
       "      <td>1.935450e-02</td>\n",
       "      <td>0.019355</td>\n",
       "    </tr>\n",
       "  </tbody>\n",
       "</table>\n",
       "</div>"
      ],
      "text/plain": [
       "                         flug          fldg     fnetg\n",
       "pressure  level                                      \n",
       "0.0000    1      3.253630e-02  9.420961e-08  0.032536\n",
       "1.0685    24     3.270200e-02 -3.667720e-03  0.029034\n",
       "1013.0000 76     3.000000e-07  1.935450e-02  0.019355"
      ]
     },
     "metadata": {},
     "output_type": "display_data"
    },
    {
     "name": "stdout",
     "output_type": "stream",
     "text": [
      "Table. Fluxes. (CLIRAD) - (CRD)\n"
     ]
    },
    {
     "data": {
      "text/html": [
       "<a id=\"Best-fit_Parameters\"></a>"
      ],
      "text/plain": [
       "<IPython.core.display.HTML object>"
      ]
     },
     "metadata": {},
     "output_type": "display_data"
    },
    {
     "data": {
      "text/markdown": [
       "# Best-fit Parameters"
      ],
      "text/plain": [
       "<IPython.core.display.Markdown object>"
      ]
     },
     "metadata": {},
     "output_type": "display_data"
    },
    {
     "name": "stdout",
     "output_type": "stream",
     "text": [
      "Best-fit values for each (gas, band)\n",
      "------------------------------------\n",
      "o h2o band7\n",
      "  atmpro = mls\n",
      "  band = 7\n",
      "  commitnumber = a06b618\n",
      "  conc = None\n",
      "  dv = 0.001\n",
      "  klin = 0\n",
      "  molecule = h2o\n",
      "  ng_adju = [0]\n",
      "  ng_refs = [7]\n",
      "  nv = 1000\n",
      "  option_compute_btable = 0\n",
      "  option_compute_ktable = 1\n",
      "  option_wgt_flux = 1\n",
      "  option_wgt_k = 1\n",
      "  ref_pts = [(600, 250)]\n",
      "  tsfc = 294\n",
      "  vmax = 1380\n",
      "  vmin = 1215\n",
      "  w_diffuse = [(2, 1.6, 1.6, 1.6, 1.6, 1.6, 1.8)]\n",
      "  wgt = [(0.5, 0.5, 0.5, 0.5, 0.5, 0.5, 0.9)]\n",
      "o n2o band7\n",
      "  atmpro = mls\n",
      "  band = 7\n",
      "  commitnumber = a06b618\n",
      "  conc = 3.2e-07\n",
      "  dv = 0.001\n",
      "  klin = 2.22e-20\n",
      "  molecule = n2o\n",
      "  ng_adju = [0, 0]\n",
      "  ng_refs = [2, 2]\n",
      "  nv = 1000\n",
      "  option_compute_btable = 0\n",
      "  option_compute_ktable = 1\n",
      "  option_wgt_flux = 1\n",
      "  option_wgt_k = 1\n",
      "  ref_pts = [(1, 250), (500, 250)]\n",
      "  tsfc = 294\n",
      "  vmax = 1380\n",
      "  vmin = 1215\n",
      "  w_diffuse = [(1.8, 1.66), (1.6, 1.8)]\n",
      "  wgt = [(0.6, 0.5), (0.6, 0.9)]\n",
      "o ch4 band7\n",
      "  atmpro = mls\n",
      "  band = 7\n",
      "  commitnumber = a06b618\n",
      "  conc = 1.8e-06\n",
      "  dv = 0.001\n",
      "  klin = 2e-21\n",
      "  molecule = ch4\n",
      "  ng_adju = [0, 0]\n",
      "  ng_refs = [2, 3]\n",
      "  nv = 1000\n",
      "  option_compute_btable = 0\n",
      "  option_compute_ktable = 1\n",
      "  option_wgt_flux = 1\n",
      "  option_wgt_k = 1\n",
      "  ref_pts = [(1, 250), (500, 250)]\n",
      "  tsfc = 294\n",
      "  vmax = 1380\n",
      "  vmin = 1215\n",
      "  w_diffuse = [(1.66, 1.66), (1.66, 1.66, 1.66)]\n",
      "  wgt = [(0.7, 0.7), (0.4, 0.6, 0.75)]\n"
     ]
    }
   ],
   "source": [
    "script()"
   ]
  },
  {
   "cell_type": "code",
   "execution_count": 13,
   "metadata": {
    "collapsed": true
   },
   "outputs": [
    {
     "data": {
      "text/html": [
       "<script>\n",
       "code_show=true; \n",
       "function code_toggle() {\n",
       " if (code_show){\n",
       " $('div.input').hide();\n",
       " } else {\n",
       " $('div.input').show();\n",
       " }\n",
       " code_show = !code_show\n",
       "} \n",
       "$( document ).ready(code_toggle);\n",
       "</script>\n",
       "<form action=\"javascript:code_toggle()\"><input type=\"submit\" value=\"Click here to toggle on/off the raw code.\"></form>"
      ],
      "text/plain": [
       "<IPython.core.display.HTML object>"
      ]
     },
     "execution_count": 13,
     "metadata": {},
     "output_type": "execute_result"
    }
   ],
   "source": [
    "display.HTML('''<script>\n",
    "code_show=true; \n",
    "function code_toggle() {\n",
    " if (code_show){\n",
    " $('div.input').hide();\n",
    " } else {\n",
    " $('div.input').show();\n",
    " }\n",
    " code_show = !code_show\n",
    "} \n",
    "$( document ).ready(code_toggle);\n",
    "</script>\n",
    "<form action=\"javascript:code_toggle()\"><input type=\"submit\" value=\"Click here to toggle on/off the raw code.\"></form>''')"
   ]
  }
 ],
 "metadata": {
  "kernelspec": {
   "display_name": "Python 3",
   "language": "python",
   "name": "python3"
  },
  "language_info": {
   "codemirror_mode": {
    "name": "ipython",
    "version": 3
   },
   "file_extension": ".py",
   "mimetype": "text/x-python",
   "name": "python",
   "nbconvert_exporter": "python",
   "pygments_lexer": "ipython3",
   "version": "3.6.1"
  }
 },
 "nbformat": 4,
 "nbformat_minor": 2
}
