{
 "cells": [
  {
   "cell_type": "code",
   "execution_count": 1,
   "metadata": {
    "collapsed": true
   },
   "outputs": [],
   "source": [
    "%matplotlib inline\n",
    "import os\n",
    "import re\n",
    "import io\n",
    "import itertools\n",
    "import pprint\n",
    "\n",
    "from bokeh.io import output_notebook, show\n",
    "from bokeh.layouts import gridplot\n",
    "from bokeh.plotting import figure\n",
    "from bokeh.models import Range1d, Legend\n",
    "from bokeh.palettes import all_palettes\n",
    "\n",
    "import matplotlib\n",
    "import matplotlib.pyplot as plt\n",
    "import numpy as np\n",
    "import pandas as pd\n",
    "import xarray as xr\n",
    "\n",
    "import climatools.lblnew.bestfit_params as bestfits\n",
    "from climatools.lblnew import setup_bestfit, setup_overlap\n",
    "import climatools.lblnew.pipeline as pipe_lblnew\n",
    "import climatools.cliradlw.setup as setup_cliradlw\n",
    "import climatools.cliradlw.pipeline as pipe_cliradlw\n",
    "\n",
    "import climatools.html.html as climahtml\n",
    "from climatools.lblnew.dataio import *\n",
    "from climatools.plot.plot import *\n",
    "\n",
    "\n",
    "import IPython.display as display"
   ]
  },
  {
   "cell_type": "code",
   "execution_count": 2,
   "metadata": {
    "collapsed": true
   },
   "outputs": [],
   "source": [
    "%run param.py"
   ]
  },
  {
   "cell_type": "code",
   "execution_count": 3,
   "metadata": {
    "collapsed": true
   },
   "outputs": [
    {
     "name": "stdout",
     "output_type": "stream",
     "text": [
      "The history saving thread hit an unexpected error (OperationalError('database is locked',)).History will not be written to the database.\n"
     ]
    }
   ],
   "source": [
    "def load_output_file(path_csv):\n",
    "    '''\n",
    "    Load lblnew output .csv file to xarray.Dataset\n",
    "    \n",
    "    Parameters\n",
    "    ----------\n",
    "    path_csv: str\n",
    "              Path to the .csv file to be loaded.\n",
    "    ds: xarray.Dataset\n",
    "        Data in the input file in the form of an xarray.Dataset.\n",
    "    '''\n",
    "    toindex = ['band', 'pressure', 'igg', 'g']    \n",
    "    df = pd.read_csv(path_csv, sep=r'\\s+')\n",
    "    df = df.set_index([i for i in toindex if i in df.columns])\n",
    "    df = df.rename(columns={'sfu': 'flug',\n",
    "                            'sfd': 'fldg',\n",
    "                            'fnet': 'fnetg',\n",
    "                            'coolr': 'coolrg'})\n",
    "    ds = xr.Dataset.from_dataframe(df)\n",
    "\n",
    "    for l in ('level', 'layer'):\n",
    "        if l in ds.data_vars:\n",
    "            if len(ds[l].dims) > 1:\n",
    "                surface = {d: 0 for d in ds.dims if d != 'pressure'}\n",
    "                coord_level = ds[l][surface]\n",
    "                ds.coords[l] = ('pressure', coord_level)\n",
    "            else:\n",
    "                ds.coords[l] = ('pressure', ds[l])\n",
    "    \n",
    "    return ds"
   ]
  },
  {
   "cell_type": "code",
   "execution_count": 4,
   "metadata": {
    "collapsed": true
   },
   "outputs": [],
   "source": [
    "def lblnew_setup(param=None):\n",
    "    if 'ng_refs' in param:\n",
    "        return {'setup': setup_bestfit,\n",
    "                'fname_flux_crd': 'output_flux.dat',\n",
    "                'fname_cool_crd': 'output_coolr.dat',\n",
    "                'fname_flux_wgt': 'output_wfluxg.dat',\n",
    "                'fname_cool_wgt': 'output_wcoolrg.dat'}\n",
    "    else:\n",
    "        return {'setup': setup_overlap,\n",
    "                'fname_flux_crd': 'output_flux.dat',\n",
    "                'fname_cool_crd': 'output_coolr.dat',\n",
    "                'fname_flux_wgt': 'output_wflux.dat',\n",
    "                'fname_cool_wgt': 'output_wcoolr.dat'}\n",
    "\n",
    "    \n",
    "def load_lblnew_data(param):\n",
    "    \n",
    "    fname_dsname = [('fname_flux_crd', 'ds_flux_crd'),\n",
    "                    ('fname_cool_crd', 'ds_cool_crd'),\n",
    "                    ('fname_flux_wgt', 'ds_flux_wgt'),\n",
    "                    ('fname_cool_wgt', 'ds_cool_wgt')]\n",
    "    \n",
    "    d = lblnew_setup(param)\n",
    "    dir_fortran = pipe_lblnew.get_dir_case(param, setup=d['setup'])\n",
    "    \n",
    "    data_dict = {}\n",
    "    for fname, dsname in fname_dsname:\n",
    "        fpath = os.path.join(dir_fortran, d[fname])\n",
    "        data_dict[dsname] = load_output_file(fpath)\n",
    "    return data_dict\n",
    "    \n",
    "\n",
    "    \n",
    "    "
   ]
  },
  {
   "cell_type": "code",
   "execution_count": 5,
   "metadata": {
    "collapsed": true
   },
   "outputs": [],
   "source": [
    "d = load_lblnew_data(PARAM_LBLNEW)\n",
    "\n",
    "DS_FLUX_CRD = d['ds_flux_crd']\n",
    "DS_COOL_CRD = d['ds_cool_crd']\n",
    "DS_FLUX_WGT = d['ds_flux_wgt']\n",
    "DS_COOL_WGT = d['ds_cool_wgt']"
   ]
  },
  {
   "cell_type": "code",
   "execution_count": 6,
   "metadata": {
    "collapsed": true
   },
   "outputs": [],
   "source": [
    "DIR_FORTRAN = pipe_cliradlw.get_fortran_dir(PARAM, \n",
    "                                            setup=setup_cliradlw)\n",
    "\n",
    "PATH_FLUX = os.path.join(DIR_FORTRAN, 'output_flux.dat')\n",
    "PATH_COOL = os.path.join(DIR_FORTRAN, 'output_coolr.dat')\n",
    "\n",
    "DS_FLUX = load_output_file(PATH_FLUX)\n",
    "DS_COOL = load_output_file(PATH_COOL)"
   ]
  },
  {
   "cell_type": "code",
   "execution_count": 7,
   "metadata": {
    "collapsed": true
   },
   "outputs": [
    {
     "data": {
      "text/html": [
       "\n",
       "    <div class=\"bk-root\">\n",
       "        <a href=\"https://bokeh.pydata.org\" target=\"_blank\" class=\"bk-logo bk-logo-small bk-logo-notebook\"></a>\n",
       "        <span id=\"a16d233c-dd50-4f06-9162-681fa445097f\">Loading BokehJS ...</span>\n",
       "    </div>"
      ]
     },
     "metadata": {},
     "output_type": "display_data"
    },
    {
     "data": {
      "application/javascript": [
       "\n",
       "(function(root) {\n",
       "  function now() {\n",
       "    return new Date();\n",
       "  }\n",
       "\n",
       "  var force = true;\n",
       "\n",
       "  if (typeof (root._bokeh_onload_callbacks) === \"undefined\" || force === true) {\n",
       "    root._bokeh_onload_callbacks = [];\n",
       "    root._bokeh_is_loading = undefined;\n",
       "  }\n",
       "\n",
       "  var JS_MIME_TYPE = 'application/javascript';\n",
       "  var HTML_MIME_TYPE = 'text/html';\n",
       "  var EXEC_MIME_TYPE = 'application/vnd.bokehjs_exec.v0+json';\n",
       "  var CLASS_NAME = 'output_bokeh rendered_html';\n",
       "\n",
       "  /**\n",
       "   * Render data to the DOM node\n",
       "   */\n",
       "  function render(props, node) {\n",
       "    var script = document.createElement(\"script\");\n",
       "    node.appendChild(script);\n",
       "  }\n",
       "\n",
       "  /**\n",
       "   * Handle when an output is cleared or removed\n",
       "   */\n",
       "  function handleClearOutput(event, handle) {\n",
       "    var cell = handle.cell;\n",
       "\n",
       "    var id = cell.output_area._bokeh_element_id;\n",
       "    var server_id = cell.output_area._bokeh_server_id;\n",
       "    // Clean up Bokeh references\n",
       "    if (id !== undefined) {\n",
       "      Bokeh.index[id].model.document.clear();\n",
       "      delete Bokeh.index[id];\n",
       "    }\n",
       "\n",
       "    if (server_id !== undefined) {\n",
       "      // Clean up Bokeh references\n",
       "      var cmd = \"from bokeh.io.state import curstate; print(curstate().uuid_to_server['\" + server_id + \"'].get_sessions()[0].document.roots[0]._id)\";\n",
       "      cell.notebook.kernel.execute(cmd, {\n",
       "        iopub: {\n",
       "          output: function(msg) {\n",
       "            var element_id = msg.content.text.trim();\n",
       "            Bokeh.index[element_id].model.document.clear();\n",
       "            delete Bokeh.index[element_id];\n",
       "          }\n",
       "        }\n",
       "      });\n",
       "      // Destroy server and session\n",
       "      var cmd = \"import bokeh.io.notebook as ion; ion.destroy_server('\" + server_id + \"')\";\n",
       "      cell.notebook.kernel.execute(cmd);\n",
       "    }\n",
       "  }\n",
       "\n",
       "  /**\n",
       "   * Handle when a new output is added\n",
       "   */\n",
       "  function handleAddOutput(event, handle) {\n",
       "    var output_area = handle.output_area;\n",
       "    var output = handle.output;\n",
       "\n",
       "    // limit handleAddOutput to display_data with EXEC_MIME_TYPE content only\n",
       "    if ((output.output_type != \"display_data\") || (!output.data.hasOwnProperty(EXEC_MIME_TYPE))) {\n",
       "      return\n",
       "    }\n",
       "\n",
       "    var toinsert = output_area.element.find(\".\" + CLASS_NAME.split(' ')[0]);\n",
       "\n",
       "    if (output.metadata[EXEC_MIME_TYPE][\"id\"] !== undefined) {\n",
       "      toinsert[toinsert.length - 1].firstChild.textContent = output.data[JS_MIME_TYPE];\n",
       "      // store reference to embed id on output_area\n",
       "      output_area._bokeh_element_id = output.metadata[EXEC_MIME_TYPE][\"id\"];\n",
       "    }\n",
       "    if (output.metadata[EXEC_MIME_TYPE][\"server_id\"] !== undefined) {\n",
       "      var bk_div = document.createElement(\"div\");\n",
       "      bk_div.innerHTML = output.data[HTML_MIME_TYPE];\n",
       "      var script_attrs = bk_div.children[0].attributes;\n",
       "      for (var i = 0; i < script_attrs.length; i++) {\n",
       "        toinsert[toinsert.length - 1].firstChild.setAttribute(script_attrs[i].name, script_attrs[i].value);\n",
       "      }\n",
       "      // store reference to server id on output_area\n",
       "      output_area._bokeh_server_id = output.metadata[EXEC_MIME_TYPE][\"server_id\"];\n",
       "    }\n",
       "  }\n",
       "\n",
       "  function register_renderer(events, OutputArea) {\n",
       "\n",
       "    function append_mime(data, metadata, element) {\n",
       "      // create a DOM node to render to\n",
       "      var toinsert = this.create_output_subarea(\n",
       "        metadata,\n",
       "        CLASS_NAME,\n",
       "        EXEC_MIME_TYPE\n",
       "      );\n",
       "      this.keyboard_manager.register_events(toinsert);\n",
       "      // Render to node\n",
       "      var props = {data: data, metadata: metadata[EXEC_MIME_TYPE]};\n",
       "      render(props, toinsert[toinsert.length - 1]);\n",
       "      element.append(toinsert);\n",
       "      return toinsert\n",
       "    }\n",
       "\n",
       "    /* Handle when an output is cleared or removed */\n",
       "    events.on('clear_output.CodeCell', handleClearOutput);\n",
       "    events.on('delete.Cell', handleClearOutput);\n",
       "\n",
       "    /* Handle when a new output is added */\n",
       "    events.on('output_added.OutputArea', handleAddOutput);\n",
       "\n",
       "    /**\n",
       "     * Register the mime type and append_mime function with output_area\n",
       "     */\n",
       "    OutputArea.prototype.register_mime_type(EXEC_MIME_TYPE, append_mime, {\n",
       "      /* Is output safe? */\n",
       "      safe: true,\n",
       "      /* Index of renderer in `output_area.display_order` */\n",
       "      index: 0\n",
       "    });\n",
       "  }\n",
       "\n",
       "  // register the mime type if in Jupyter Notebook environment and previously unregistered\n",
       "  if (root.Jupyter !== undefined) {\n",
       "    var events = require('base/js/events');\n",
       "    var OutputArea = require('notebook/js/outputarea').OutputArea;\n",
       "\n",
       "    if (OutputArea.prototype.mime_types().indexOf(EXEC_MIME_TYPE) == -1) {\n",
       "      register_renderer(events, OutputArea);\n",
       "    }\n",
       "  }\n",
       "\n",
       "  \n",
       "  if (typeof (root._bokeh_timeout) === \"undefined\" || force === true) {\n",
       "    root._bokeh_timeout = Date.now() + 5000;\n",
       "    root._bokeh_failed_load = false;\n",
       "  }\n",
       "\n",
       "  var NB_LOAD_WARNING = {'data': {'text/html':\n",
       "     \"<div style='background-color: #fdd'>\\n\"+\n",
       "     \"<p>\\n\"+\n",
       "     \"BokehJS does not appear to have successfully loaded. If loading BokehJS from CDN, this \\n\"+\n",
       "     \"may be due to a slow or bad network connection. Possible fixes:\\n\"+\n",
       "     \"</p>\\n\"+\n",
       "     \"<ul>\\n\"+\n",
       "     \"<li>re-rerun `output_notebook()` to attempt to load from CDN again, or</li>\\n\"+\n",
       "     \"<li>use INLINE resources instead, as so:</li>\\n\"+\n",
       "     \"</ul>\\n\"+\n",
       "     \"<code>\\n\"+\n",
       "     \"from bokeh.resources import INLINE\\n\"+\n",
       "     \"output_notebook(resources=INLINE)\\n\"+\n",
       "     \"</code>\\n\"+\n",
       "     \"</div>\"}};\n",
       "\n",
       "  function display_loaded() {\n",
       "    var el = document.getElementById(\"a16d233c-dd50-4f06-9162-681fa445097f\");\n",
       "    if (el != null) {\n",
       "      el.textContent = \"BokehJS is loading...\";\n",
       "    }\n",
       "    if (root.Bokeh !== undefined) {\n",
       "      if (el != null) {\n",
       "        el.textContent = \"BokehJS \" + root.Bokeh.version + \" successfully loaded.\";\n",
       "      }\n",
       "    } else if (Date.now() < root._bokeh_timeout) {\n",
       "      setTimeout(display_loaded, 100)\n",
       "    }\n",
       "  }\n",
       "\n",
       "\n",
       "  function run_callbacks() {\n",
       "    try {\n",
       "      root._bokeh_onload_callbacks.forEach(function(callback) { callback() });\n",
       "    }\n",
       "    finally {\n",
       "      delete root._bokeh_onload_callbacks\n",
       "    }\n",
       "    console.info(\"Bokeh: all callbacks have finished\");\n",
       "  }\n",
       "\n",
       "  function load_libs(js_urls, callback) {\n",
       "    root._bokeh_onload_callbacks.push(callback);\n",
       "    if (root._bokeh_is_loading > 0) {\n",
       "      console.log(\"Bokeh: BokehJS is being loaded, scheduling callback at\", now());\n",
       "      return null;\n",
       "    }\n",
       "    if (js_urls == null || js_urls.length === 0) {\n",
       "      run_callbacks();\n",
       "      return null;\n",
       "    }\n",
       "    console.log(\"Bokeh: BokehJS not loaded, scheduling load and callback at\", now());\n",
       "    root._bokeh_is_loading = js_urls.length;\n",
       "    for (var i = 0; i < js_urls.length; i++) {\n",
       "      var url = js_urls[i];\n",
       "      var s = document.createElement('script');\n",
       "      s.src = url;\n",
       "      s.async = false;\n",
       "      s.onreadystatechange = s.onload = function() {\n",
       "        root._bokeh_is_loading--;\n",
       "        if (root._bokeh_is_loading === 0) {\n",
       "          console.log(\"Bokeh: all BokehJS libraries loaded\");\n",
       "          run_callbacks()\n",
       "        }\n",
       "      };\n",
       "      s.onerror = function() {\n",
       "        console.warn(\"failed to load library \" + url);\n",
       "      };\n",
       "      console.log(\"Bokeh: injecting script tag for BokehJS library: \", url);\n",
       "      document.getElementsByTagName(\"head\")[0].appendChild(s);\n",
       "    }\n",
       "  };var element = document.getElementById(\"a16d233c-dd50-4f06-9162-681fa445097f\");\n",
       "  if (element == null) {\n",
       "    console.log(\"Bokeh: ERROR: autoload.js configured with elementid 'a16d233c-dd50-4f06-9162-681fa445097f' but no matching script tag was found. \")\n",
       "    return false;\n",
       "  }\n",
       "\n",
       "  var js_urls = [\"https://cdn.pydata.org/bokeh/release/bokeh-0.12.16.min.js\", \"https://cdn.pydata.org/bokeh/release/bokeh-widgets-0.12.16.min.js\", \"https://cdn.pydata.org/bokeh/release/bokeh-tables-0.12.16.min.js\", \"https://cdn.pydata.org/bokeh/release/bokeh-gl-0.12.16.min.js\"];\n",
       "\n",
       "  var inline_js = [\n",
       "    function(Bokeh) {\n",
       "      Bokeh.set_log_level(\"info\");\n",
       "    },\n",
       "    \n",
       "    function(Bokeh) {\n",
       "      \n",
       "    },\n",
       "    function(Bokeh) {\n",
       "      console.log(\"Bokeh: injecting CSS: https://cdn.pydata.org/bokeh/release/bokeh-0.12.16.min.css\");\n",
       "      Bokeh.embed.inject_css(\"https://cdn.pydata.org/bokeh/release/bokeh-0.12.16.min.css\");\n",
       "      console.log(\"Bokeh: injecting CSS: https://cdn.pydata.org/bokeh/release/bokeh-widgets-0.12.16.min.css\");\n",
       "      Bokeh.embed.inject_css(\"https://cdn.pydata.org/bokeh/release/bokeh-widgets-0.12.16.min.css\");\n",
       "      console.log(\"Bokeh: injecting CSS: https://cdn.pydata.org/bokeh/release/bokeh-tables-0.12.16.min.css\");\n",
       "      Bokeh.embed.inject_css(\"https://cdn.pydata.org/bokeh/release/bokeh-tables-0.12.16.min.css\");\n",
       "    }\n",
       "  ];\n",
       "\n",
       "  function run_inline_js() {\n",
       "    \n",
       "    if ((root.Bokeh !== undefined) || (force === true)) {\n",
       "      for (var i = 0; i < inline_js.length; i++) {\n",
       "        inline_js[i].call(root, root.Bokeh);\n",
       "      }if (force === true) {\n",
       "        display_loaded();\n",
       "      }} else if (Date.now() < root._bokeh_timeout) {\n",
       "      setTimeout(run_inline_js, 100);\n",
       "    } else if (!root._bokeh_failed_load) {\n",
       "      console.log(\"Bokeh: BokehJS failed to load within specified timeout.\");\n",
       "      root._bokeh_failed_load = true;\n",
       "    } else if (force !== true) {\n",
       "      var cell = $(document.getElementById(\"a16d233c-dd50-4f06-9162-681fa445097f\")).parents('.cell').data().cell;\n",
       "      cell.output_area.append_execute_result(NB_LOAD_WARNING)\n",
       "    }\n",
       "\n",
       "  }\n",
       "\n",
       "  if (root._bokeh_is_loading === 0) {\n",
       "    console.log(\"Bokeh: BokehJS loaded, going straight to plotting\");\n",
       "    run_inline_js();\n",
       "  } else {\n",
       "    load_libs(js_urls, function() {\n",
       "      console.log(\"Bokeh: BokehJS plotting callback run at\", now());\n",
       "      run_inline_js();\n",
       "    });\n",
       "  }\n",
       "}(window));"
      ],
      "application/vnd.bokehjs_load.v0+json": "\n(function(root) {\n  function now() {\n    return new Date();\n  }\n\n  var force = true;\n\n  if (typeof (root._bokeh_onload_callbacks) === \"undefined\" || force === true) {\n    root._bokeh_onload_callbacks = [];\n    root._bokeh_is_loading = undefined;\n  }\n\n  \n\n  \n  if (typeof (root._bokeh_timeout) === \"undefined\" || force === true) {\n    root._bokeh_timeout = Date.now() + 5000;\n    root._bokeh_failed_load = false;\n  }\n\n  var NB_LOAD_WARNING = {'data': {'text/html':\n     \"<div style='background-color: #fdd'>\\n\"+\n     \"<p>\\n\"+\n     \"BokehJS does not appear to have successfully loaded. If loading BokehJS from CDN, this \\n\"+\n     \"may be due to a slow or bad network connection. Possible fixes:\\n\"+\n     \"</p>\\n\"+\n     \"<ul>\\n\"+\n     \"<li>re-rerun `output_notebook()` to attempt to load from CDN again, or</li>\\n\"+\n     \"<li>use INLINE resources instead, as so:</li>\\n\"+\n     \"</ul>\\n\"+\n     \"<code>\\n\"+\n     \"from bokeh.resources import INLINE\\n\"+\n     \"output_notebook(resources=INLINE)\\n\"+\n     \"</code>\\n\"+\n     \"</div>\"}};\n\n  function display_loaded() {\n    var el = document.getElementById(\"a16d233c-dd50-4f06-9162-681fa445097f\");\n    if (el != null) {\n      el.textContent = \"BokehJS is loading...\";\n    }\n    if (root.Bokeh !== undefined) {\n      if (el != null) {\n        el.textContent = \"BokehJS \" + root.Bokeh.version + \" successfully loaded.\";\n      }\n    } else if (Date.now() < root._bokeh_timeout) {\n      setTimeout(display_loaded, 100)\n    }\n  }\n\n\n  function run_callbacks() {\n    try {\n      root._bokeh_onload_callbacks.forEach(function(callback) { callback() });\n    }\n    finally {\n      delete root._bokeh_onload_callbacks\n    }\n    console.info(\"Bokeh: all callbacks have finished\");\n  }\n\n  function load_libs(js_urls, callback) {\n    root._bokeh_onload_callbacks.push(callback);\n    if (root._bokeh_is_loading > 0) {\n      console.log(\"Bokeh: BokehJS is being loaded, scheduling callback at\", now());\n      return null;\n    }\n    if (js_urls == null || js_urls.length === 0) {\n      run_callbacks();\n      return null;\n    }\n    console.log(\"Bokeh: BokehJS not loaded, scheduling load and callback at\", now());\n    root._bokeh_is_loading = js_urls.length;\n    for (var i = 0; i < js_urls.length; i++) {\n      var url = js_urls[i];\n      var s = document.createElement('script');\n      s.src = url;\n      s.async = false;\n      s.onreadystatechange = s.onload = function() {\n        root._bokeh_is_loading--;\n        if (root._bokeh_is_loading === 0) {\n          console.log(\"Bokeh: all BokehJS libraries loaded\");\n          run_callbacks()\n        }\n      };\n      s.onerror = function() {\n        console.warn(\"failed to load library \" + url);\n      };\n      console.log(\"Bokeh: injecting script tag for BokehJS library: \", url);\n      document.getElementsByTagName(\"head\")[0].appendChild(s);\n    }\n  };var element = document.getElementById(\"a16d233c-dd50-4f06-9162-681fa445097f\");\n  if (element == null) {\n    console.log(\"Bokeh: ERROR: autoload.js configured with elementid 'a16d233c-dd50-4f06-9162-681fa445097f' but no matching script tag was found. \")\n    return false;\n  }\n\n  var js_urls = [\"https://cdn.pydata.org/bokeh/release/bokeh-0.12.16.min.js\", \"https://cdn.pydata.org/bokeh/release/bokeh-widgets-0.12.16.min.js\", \"https://cdn.pydata.org/bokeh/release/bokeh-tables-0.12.16.min.js\", \"https://cdn.pydata.org/bokeh/release/bokeh-gl-0.12.16.min.js\"];\n\n  var inline_js = [\n    function(Bokeh) {\n      Bokeh.set_log_level(\"info\");\n    },\n    \n    function(Bokeh) {\n      \n    },\n    function(Bokeh) {\n      console.log(\"Bokeh: injecting CSS: https://cdn.pydata.org/bokeh/release/bokeh-0.12.16.min.css\");\n      Bokeh.embed.inject_css(\"https://cdn.pydata.org/bokeh/release/bokeh-0.12.16.min.css\");\n      console.log(\"Bokeh: injecting CSS: https://cdn.pydata.org/bokeh/release/bokeh-widgets-0.12.16.min.css\");\n      Bokeh.embed.inject_css(\"https://cdn.pydata.org/bokeh/release/bokeh-widgets-0.12.16.min.css\");\n      console.log(\"Bokeh: injecting CSS: https://cdn.pydata.org/bokeh/release/bokeh-tables-0.12.16.min.css\");\n      Bokeh.embed.inject_css(\"https://cdn.pydata.org/bokeh/release/bokeh-tables-0.12.16.min.css\");\n    }\n  ];\n\n  function run_inline_js() {\n    \n    if ((root.Bokeh !== undefined) || (force === true)) {\n      for (var i = 0; i < inline_js.length; i++) {\n        inline_js[i].call(root, root.Bokeh);\n      }if (force === true) {\n        display_loaded();\n      }} else if (Date.now() < root._bokeh_timeout) {\n      setTimeout(run_inline_js, 100);\n    } else if (!root._bokeh_failed_load) {\n      console.log(\"Bokeh: BokehJS failed to load within specified timeout.\");\n      root._bokeh_failed_load = true;\n    } else if (force !== true) {\n      var cell = $(document.getElementById(\"a16d233c-dd50-4f06-9162-681fa445097f\")).parents('.cell').data().cell;\n      cell.output_area.append_execute_result(NB_LOAD_WARNING)\n    }\n\n  }\n\n  if (root._bokeh_is_loading === 0) {\n    console.log(\"Bokeh: BokehJS loaded, going straight to plotting\");\n    run_inline_js();\n  } else {\n    load_libs(js_urls, function() {\n      console.log(\"Bokeh: BokehJS plotting callback run at\", now());\n      run_inline_js();\n    });\n  }\n}(window));"
     },
     "metadata": {},
     "output_type": "display_data"
    }
   ],
   "source": [
    "output_notebook()"
   ]
  },
  {
   "cell_type": "code",
   "execution_count": 8,
   "metadata": {
    "collapsed": true
   },
   "outputs": [],
   "source": [
    "def fmt_cool(ds_in):\n",
    "    ds = ds_in.copy(deep=True)\n",
    "    if 'igg' in ds.dims:\n",
    "        ds = ds.sel(igg=1)\n",
    "\n",
    "    if 'g' in ds.dims:\n",
    "        ds = ds.sum('g')\n",
    "            \n",
    "    if 'band' in ds.dims:\n",
    "        try:\n",
    "            ds = ds.squeeze('band')\n",
    "        except ValueError:\n",
    "            ds = ds.sum('band')\n",
    "                \n",
    "    return ds['coolrg']\n",
    "\n",
    "\n",
    "def pltdata_cooling_1(ds_cool=None,\n",
    "                      ds_cool_crd=None, ds_cool_wgt=None):\n",
    "    \n",
    "\n",
    "\n",
    "    colors = all_palettes['Set1'][4]\n",
    "    data = [{'label': 'CLIRAD `coolr_bands`',\n",
    "             'srs': fmt_cool(ds_cool),\n",
    "             'line_dash': 'dashed', 'line_width': 5,\n",
    "             'color': colors[0], 'alpha': .6},\n",
    "            {'label': 'CRD',\n",
    "             'srs': fmt_cool(ds_cool_crd),\n",
    "             'line_dash': 'solid', 'line_width': 1.5,\n",
    "             'marker': 'circle', 'marker_size': 5,\n",
    "             'color': colors[2], 'alpha': 1,},\n",
    "            {'label': 'WGT igg=10 wgt_flux=2',\n",
    "             'srs': fmt_cool(ds_cool_wgt),\n",
    "             'line_dash': 'solid', 'line_width': 3,\n",
    "             'marker': 'square', 'marker_size': 5,\n",
    "             'color': colors[3], 'alpha': .6}]\n",
    "    return data\n",
    "\n",
    "\n",
    "def nice_xlims(pltdata=None, prange=None):\n",
    "    \n",
    "    def get_slice(srs):\n",
    "        return srs.sel(pressure=slice(*prange))\n",
    "    \n",
    "    srss = [d['srs'] for d in pltdata]\n",
    "    vmin = min([get_slice(srs).min() for srs in srss])\n",
    "    vmax = max([get_slice(srs).max() for srs in srss])\n",
    "    dv = (vmax - vmin) * .01\n",
    "    return float(vmin - dv), float(vmax + dv)\n",
    "    \n",
    "\n",
    "def plt_cooling_bokeh(pltdata=None):\n",
    "    '''\n",
    "    Plot a list of cooling rate profiles using bokeh.\n",
    "    '''\n",
    "    ymin = 1e-2 \n",
    "    ymax = 1020 \n",
    "        \n",
    "    p1 = figure(title=\"Linear pressure scale\", \n",
    "                plot_width=400)        \n",
    "    xmin, xmax = nice_xlims(pltdata, prange=(50, 1050))\n",
    "    for d in pltdata:\n",
    "        if 'marker' in d:\n",
    "            getattr(p1, d['marker'])(d['srs'].values, \n",
    "                    d['srs'].coords['pressure'].values,\n",
    "                    color=d['color'], alpha=.7)\n",
    "        p1.line(d['srs'].values, \n",
    "                d['srs'].coords['pressure'].values,\n",
    "                color=d['color'], alpha=d['alpha'], \n",
    "                line_width=d['line_width'], line_dash=d['line_dash'])\n",
    "    \n",
    "    p1.y_range = Range1d(ymax, ymin)\n",
    "    p1.yaxis.axis_label = 'pressure [mb]'   \n",
    "    p1.x_range = Range1d(xmin, xmax)\n",
    "    p1.xaxis.axis_label = 'cooling rate [K/day]'\n",
    "            \n",
    "    p2 = figure(title='Log pressure scale', y_axis_type='log',\n",
    "                plot_width=560)\n",
    "    xmin, xmax = nice_xlims(pltdata, prange=(.01, 200))\n",
    "    \n",
    "    rs = []\n",
    "    for d in pltdata:\n",
    "        rd = []\n",
    "        if 'marker' in d:\n",
    "            r_mark = getattr(p2, d['marker'])(d['srs'].values, \n",
    "                        d['srs'].coords['pressure'].values,\n",
    "                        color=d['color'], alpha=.7)\n",
    "            rd.append(r_mark)\n",
    "        r_line = p2.line(d['srs'].values, \n",
    "                    d['srs'].coords['pressure'].values,\n",
    "                    color=d['color'], alpha=d['alpha'], \n",
    "                    line_width=d['line_width'], line_dash=d['line_dash'])\n",
    "        rd.append(r_line)\n",
    "      \n",
    "        rs.append(rd)\n",
    "        \n",
    "    p2.y_range = Range1d(ymax, ymin)  \n",
    "    p2.yaxis.axis_label = 'pressure [mb]'\n",
    "    \n",
    "    p2.x_range = Range1d(xmin, xmax)\n",
    "    p2.xaxis.axis_label = 'cooling rate [K/day]'\n",
    "    \n",
    "    items = [(d['label'], r) for r, d in zip(rs, pltdata)]\n",
    "    legend = Legend(items=items, location=(10, -30))\n",
    "    legend.label_text_font_size = '8pt'\n",
    "    \n",
    "    p2.add_layout(legend, 'right')  \n",
    "    \n",
    "    show(gridplot(p1, p2, ncols=2, plot_height=500))\n",
    "    \n",
    "\n",
    "def script_plt_cooling():\n",
    "    pltdata = pltdata_cooling_1(\n",
    "        ds_cool=DS_COOL,\n",
    "        ds_cool_crd=DS_COOL_CRD,\n",
    "        ds_cool_wgt=DS_COOL_WGT)\n",
    "    plt_cooling_bokeh(pltdata=pltdata)\n",
    "    print('''FIGURE. Cooling rate profiles.''')"
   ]
  },
  {
   "cell_type": "code",
   "execution_count": 9,
   "metadata": {
    "collapsed": true
   },
   "outputs": [],
   "source": [
    "def fmt_flux(ds_in):\n",
    "    ds = ds_in.copy(deep=True)\n",
    "    \n",
    "    for l in ('level', 'layer'):\n",
    "        if l in ds.data_vars:\n",
    "            if len(ds[l].dims) > 1:\n",
    "                surface = {d: 0 for d in ds.dims if d != 'pressure'}\n",
    "                coord_level = ds[l][surface]\n",
    "                ds.coords[l] = ('pressure', coord_level)\n",
    "            else:\n",
    "                ds.coords[l] = ('pressure', ds[l])\n",
    "        \n",
    "    ds = ds.isel(pressure=[0, 23, -1])\n",
    "        \n",
    "    if 'igg' in ds.dims:\n",
    "        ds = ds.sel(igg=[1])\n",
    "        ds = ds.squeeze('igg').drop('igg')\n",
    "    \n",
    "    if 'g' in ds.dims:\n",
    "        ds = ds.sum('g')\n",
    "            \n",
    "    if 'band' in ds.dims:\n",
    "        try:\n",
    "            ds = ds.squeeze('band').drop('band')\n",
    "        except ValueError:\n",
    "            ds = ds.sum('band')\n",
    "                \n",
    "    df = ds.to_dataframe()\n",
    "    df = df.set_index('level', append=True)               \n",
    "    return df\n",
    "\n",
    "\n",
    "def tbdata_flux(ds_flux=None, ds_flux_crd=None, ds_flux_wgt=None):\n",
    "    ilevels = [0, 23, -1]\n",
    "            \n",
    "    benchmark = {'label': 'CRD',\n",
    "                 'df': fmt_flux(ds_flux_crd)}\n",
    "    \n",
    "    tbs = [{'label': 'WGT igg=10 wgt_flux=1',\n",
    "            'df': fmt_flux(ds_flux_wgt)},\n",
    "           {'label': 'CLIRAD',\n",
    "            'df': fmt_flux(ds_flux)}]\n",
    "    \n",
    "    data = {'benchmark': benchmark, 'others': tbs}\n",
    "    return data\n",
    "\n",
    "\n",
    "def tb_flux(tbdata=None):\n",
    "    benchmark = tbdata['benchmark']\n",
    "    others = tbdata['others']\n",
    "    \n",
    "    def show_tb(d=None):\n",
    "        display.display(d['df'])\n",
    "        print('Table.', 'Fluxes.', d['label'])\n",
    "        \n",
    "    def show_tbdiff(d0=None, d=None):\n",
    "        df = d['df']\n",
    "        df.index = d0['df'].index\n",
    "        display.display(df - d0['df'])\n",
    "        print('Table.', 'Fluxes.', \n",
    "              '({}) - ({})'.format(d['label'], d0['label']))\n",
    "        \n",
    "    show_tb(benchmark)\n",
    "    for d in others:\n",
    "        show_tb(d)\n",
    "        \n",
    "    for d in others:\n",
    "        show_tbdiff(d=d, d0=benchmark)\n",
    "        \n",
    "        \n",
    "def script_tb_flux():\n",
    "    data = tbdata_flux(ds_flux=DS_FLUX,\n",
    "                       ds_flux_crd=DS_FLUX_CRD,\n",
    "                       ds_flux_wgt=DS_FLUX_WGT)\n",
    "    tb_flux(tbdata=data)"
   ]
  },
  {
   "cell_type": "code",
   "execution_count": 10,
   "metadata": {
    "collapsed": true
   },
   "outputs": [],
   "source": [
    "def band_map():\n",
    "    '''\n",
    "    Maps spectral bands in lblnew to spectral bands in clirad.\n",
    "    '''\n",
    "    lblnew2clirad = {'1': '1',\n",
    "            '2': '2',\n",
    "            '3a': '3',\n",
    "            '3b': '4',\n",
    "            '3c': '5',\n",
    "            '4': '6', \n",
    "            '5': '7',\n",
    "            '6': '8',\n",
    "            '7': '9', \n",
    "            '8': '10',\n",
    "            '9': '11'}\n",
    "    \n",
    "    clirad2lblnew = {clirad: lblnew \n",
    "                     for lblnew, clirad in lblnew2clirad.items()}\n",
    "    return clirad2lblnew\n",
    "\n",
    "\n",
    "def gasbands():\n",
    "    bmap = band_map()\n",
    "    gases = list(PARAM['molecule'].keys())\n",
    "    \n",
    "    bands = [bmap[str(b)] for b in PARAM['band']]\n",
    "    return list(itertools.product(gases, bands))\n",
    "\n",
    "\n",
    "def print_bestfit_params():\n",
    "    print('Best-fit values for each (gas, band)')\n",
    "    print('------------------------------------')\n",
    "    for gas, band in gasbands():\n",
    "        print('o {} band{}'.format(gas, band))\n",
    "        param = bestfits.kdist_params(molecule=gas, band=band)\n",
    "        for name, value in sorted(param.items()):\n",
    "            print(2 * ' ' + '{} = {}'.format(name, value))\n",
    "\n",
    "        \n",
    "def print_input_param():        \n",
    "    for name, value in PARAM.items():\n",
    "        print('{} = {}'.format(name, value))\n",
    "        \n",
    "        \n",
    "def print_lblnew_param():\n",
    "    for name, value in sorted(PARAM_LBLNEW.items()):\n",
    "        print('{} = {}'.format(name, value))\n"
   ]
  },
  {
   "cell_type": "code",
   "execution_count": 11,
   "metadata": {
    "collapsed": true,
    "scrolled": false
   },
   "outputs": [],
   "source": [
    "def show_html(s):\n",
    "    display.display(display.HTML(s))\n",
    "\n",
    "    \n",
    "def show_markdown(s):\n",
    "    display.display(display.Markdown(s))\n",
    "\n",
    "    \n",
    "def script():\n",
    "    \n",
    "    title = '### CLIRAD-LW'\n",
    "    s_input = 'Input Parameters'\n",
    "    s_lblnew_param = 'LBLNEW case compaired against'\n",
    "    s_bestfits = 'Best-fit Parameters'\n",
    "    s_plt_cooling = 'Cooling Rate Profiles'\n",
    "    s_tb_flux = 'Flux Comparison'\n",
    "    \n",
    "    # title\n",
    "    show_markdown('### CLIRAD-LW')\n",
    "    \n",
    "    # TOC\n",
    "    show_markdown('### Table of Contents')\n",
    "    show_html(climahtml.getHTML_hrefanchor(s_input))\n",
    "    show_html(climahtml.getHTML_hrefanchor(s_lblnew_param))\n",
    "    show_html(climahtml.getHTML_hrefanchor(s_plt_cooling))\n",
    "    show_html(climahtml.getHTML_hrefanchor(s_tb_flux))\n",
    "    show_html(climahtml.getHTML_hrefanchor(s_bestfits))\n",
    "    \n",
    "    # Input parameters\n",
    "    show_html(climahtml.getHTML_idanchor(s_input))\n",
    "    show_markdown(climahtml.getMarkdown_sectitle(s_input))\n",
    "    print_input_param()\n",
    "    \n",
    "    # LBLNEW parameters \n",
    "    show_html(climahtml.getHTML_idanchor(s_lblnew_param))\n",
    "    show_markdown(climahtml.getMarkdown_sectitle(s_lblnew_param))\n",
    "    print_lblnew_param()\n",
    "    \n",
    "    # Cooling rate profiles\n",
    "    show_html(climahtml.getHTML_idanchor(s_plt_cooling))\n",
    "    show_markdown(climahtml.getMarkdown_sectitle(s_plt_cooling))\n",
    "    script_plt_cooling()\n",
    "    \n",
    "    # Flux comparison\n",
    "    show_html(climahtml.getHTML_idanchor(s_tb_flux))\n",
    "    show_markdown(climahtml.getMarkdown_sectitle(s_tb_flux))\n",
    "    script_tb_flux()\n",
    "    \n",
    "    # Best-fit values\n",
    "    show_html(climahtml.getHTML_idanchor(s_bestfits))\n",
    "    show_markdown(climahtml.getMarkdown_sectitle(s_bestfits))\n",
    "    print_bestfit_params()\n",
    "   \n",
    "    "
   ]
  },
  {
   "cell_type": "code",
   "execution_count": 12,
   "metadata": {
    "collapsed": true,
    "scrolled": false
   },
   "outputs": [
    {
     "data": {
      "text/markdown": [
       "### CLIRAD-LW"
      ],
      "text/plain": [
       "<IPython.core.display.Markdown object>"
      ]
     },
     "metadata": {},
     "output_type": "display_data"
    },
    {
     "data": {
      "text/markdown": [
       "### Table of Contents"
      ],
      "text/plain": [
       "<IPython.core.display.Markdown object>"
      ]
     },
     "metadata": {},
     "output_type": "display_data"
    },
    {
     "data": {
      "text/html": [
       "<a href=\"#Input_Parameters\">Input Parameters</a>"
      ],
      "text/plain": [
       "<IPython.core.display.HTML object>"
      ]
     },
     "metadata": {},
     "output_type": "display_data"
    },
    {
     "data": {
      "text/html": [
       "<a href=\"#LBLNEW_case_compaired_against\">LBLNEW case compaired against</a>"
      ],
      "text/plain": [
       "<IPython.core.display.HTML object>"
      ]
     },
     "metadata": {},
     "output_type": "display_data"
    },
    {
     "data": {
      "text/html": [
       "<a href=\"#Cooling_Rate_Profiles\">Cooling Rate Profiles</a>"
      ],
      "text/plain": [
       "<IPython.core.display.HTML object>"
      ]
     },
     "metadata": {},
     "output_type": "display_data"
    },
    {
     "data": {
      "text/html": [
       "<a href=\"#Flux_Comparison\">Flux Comparison</a>"
      ],
      "text/plain": [
       "<IPython.core.display.HTML object>"
      ]
     },
     "metadata": {},
     "output_type": "display_data"
    },
    {
     "data": {
      "text/html": [
       "<a href=\"#Best-fit_Parameters\">Best-fit Parameters</a>"
      ],
      "text/plain": [
       "<IPython.core.display.HTML object>"
      ]
     },
     "metadata": {},
     "output_type": "display_data"
    },
    {
     "data": {
      "text/html": [
       "<a id=\"Input_Parameters\"></a>"
      ],
      "text/plain": [
       "<IPython.core.display.HTML object>"
      ]
     },
     "metadata": {},
     "output_type": "display_data"
    },
    {
     "data": {
      "text/markdown": [
       "# Input Parameters"
      ],
      "text/plain": [
       "<IPython.core.display.Markdown object>"
      ]
     },
     "metadata": {},
     "output_type": "display_data"
    },
    {
     "name": "stdout",
     "output_type": "stream",
     "text": [
      "commitnumber = de5d43e\n",
      "molecule = {'h2o': 'atmpro', 'o3': 'atmpro'}\n",
      "band = [7]\n",
      "atmpro = trp\n",
      "tsfc = 300\n"
     ]
    },
    {
     "data": {
      "text/html": [
       "<a id=\"LBLNEW_case_compaired_against\"></a>"
      ],
      "text/plain": [
       "<IPython.core.display.HTML object>"
      ]
     },
     "metadata": {},
     "output_type": "display_data"
    },
    {
     "data": {
      "text/markdown": [
       "# LBLNEW case compaired against"
      ],
      "text/plain": [
       "<IPython.core.display.Markdown object>"
      ]
     },
     "metadata": {},
     "output_type": "display_data"
    },
    {
     "name": "stdout",
     "output_type": "stream",
     "text": [
      "atmpro = trp\n",
      "band = 5\n",
      "commitnumber = 5014a19\n",
      "dv = 0.001\n",
      "molecule = {'h2o': 'atmpro', 'o3': 'atmpro'}\n",
      "nv = 1000\n",
      "tsfc = 300\n"
     ]
    },
    {
     "data": {
      "text/html": [
       "<a id=\"Cooling_Rate_Profiles\"></a>"
      ],
      "text/plain": [
       "<IPython.core.display.HTML object>"
      ]
     },
     "metadata": {},
     "output_type": "display_data"
    },
    {
     "data": {
      "text/markdown": [
       "# Cooling Rate Profiles"
      ],
      "text/plain": [
       "<IPython.core.display.Markdown object>"
      ]
     },
     "metadata": {},
     "output_type": "display_data"
    },
    {
     "data": {
      "text/html": [
       "\n",
       "<div class=\"bk-root\">\n",
       "    <div class=\"bk-plotdiv\" id=\"714f622d-d222-4c88-bb91-d18e3d2aba6c\"></div>\n",
       "</div>"
      ]
     },
     "metadata": {},
     "output_type": "display_data"
    },
    {
     "data": {
      "application/javascript": [
       "(function(root) {\n",
       "  function embed_document(root) {\n",
       "    \n",
       "  var docs_json = {\"5e11cb57-fa16-4782-91a5-dd2e8bcf87da\":{\"roots\":{\"references\":[{\"attributes\":{\"num_minor_ticks\":10},\"id\":\"f2a5adeb-fa06-42e1-903a-bdd30971133c\",\"type\":\"LogTicker\"},{\"attributes\":{\"callback\":null,\"data\":{\"x\":{\"__ndarray__\":\"ymjfOtE+nr8BQba1UPWgvx2diLgYh6S/2ZaePG7wp7+PvLCLWzKrvwvx067FS66/c/yrIjeesL/jdkwDXQCyvyej/yK+TLO/ssiVy12DtL9RlKdT7qO1v/JeXzIor7a/h865e4Omt7/Orl/W4li4v0jbvmgL37e/ImywJAQhsr/CzHVdqqCAv7rGwmvy77o/bsv0CagJ0j/+ZiCePiXhP7hgBOhSN+w/TuJi+3+r9D+RNdn1wWj5P0b2nE94RPo/g9/h0SEL+D/vCW2UUNXyP+GoifwCc+o/ZEwLqIHw4T+DORfSIz7YP/AkMyjklMk/0yK87MABpL9c9lbqep7Rv4vZFo61ed6/IWmBh7NM47/kv/7zTb3iv6iy/2xxbti/kwQ8xJolx79jFk6Q4F+8v7Bc2X9JHLe/4iaog+pWs79ipI7DnWGwv65ZeKi3UKu/tqmMD0u0pr9Ke/DLeuCivywsqfTChp+/UT62xTKGmr+TeZqC60CWvxRBL+vkXZK/K6bSTzi7jb/aPTz1j1iHv3lZXnScFIG/JkaSgTxydb/T+z4LZq1gv6HQIPmSY1U/1Uxdi7Sacz/JxAmqz1eBPwpy5SZJW4k/Z4iQ3mP1kD+uEzlyFIiVP02TkzVcd5o/3XOvfxbMnz/c1AsBarGiP1WQnNXNiKU/+DE39iRkqT+dKaKWTjqtPw9EFmninbA/njvT4afFsj92AdZ6JH20Py3orgbXRbY/YOWJTU9LuD/MKX34ZIu6P40+SS69Bb0/JDrTnYrIvz/63CKTAHPBP5RDUcFdTcM/\",\"dtype\":\"float64\",\"shape\":[75]},\"y\":{\"__ndarray__\":\"S/O/Q+51ND/Sv8nbtpRIP2vylNV0PVE/aTum7souWD/At0SJ8fVgPw3Iuahxymc/MSNhhJWvcD/bTfBN02d3P2zb5nxnaoA/CD5h5MAGhz8NmeH1TyaQP+zrCsc9p5Y/LbKd76fGnz/bLW5ISEmmPww9YvTcQq8/JV2OstnstT8Er5Y7M8G+P0c+r3jqkcU/5h99k6ZBzj88bCIzFzjVP4enV8oyxN0//yH99nXg5D8qOpLLf0jtP5kqGJXUifQ/c9cS8kHP/D+/DpwzojQEQIEmwoanVwxA4lgXt9HgE0BSSZ2AJuIbQAMJih9jjiNA5q4l5INuK0AwTKYKRj0zQNv5fmq8/DpAaCJseHrtQkB/+zpwzoxKQM3MzMzMeFJAZmZmZmZqWEAAAAAAAFxeQM3MzMzMJmJAmpmZmZkfZUBmZmZmZhhoQDMzMzMzEWtAAAAAAAAKbkBmZmZmZoFwQM3MzMzM/XFAMzMzMzN6c0CamZmZmfZ0QAAAAAAAc3ZAZmZmZmbvd0DNzMzMzGt5QDMzMzMz6HpAmpmZmZlkfEAAAAAAAOF9QGZmZmZmXX9AZmZmZuZsgECamZmZGSuBQM3MzMxM6YFAAAAAAICngkAzMzMzs2WDQGZmZmbmI4RAmpmZmRnihEDNzMzMTKCFQAAAAACAXoZAMzMzM7Mch0BmZmZm5tqHQJqZmZkZmYhAzczMzExXiUAAAAAAgBWKQDMzMzOz04pAZmZmZuaRi0CamZmZGVCMQM3MzMxMDo1AAAAAAIDMjUAzMzMzs4qOQGZmZmbmSI9A\",\"dtype\":\"float64\",\"shape\":[75]}},\"selected\":{\"id\":\"969904cb-a03f-4e5c-bbc3-16bae218f0e4\",\"type\":\"Selection\"},\"selection_policy\":{\"id\":\"255e24a5-e025-4c5d-9351-fa00f1b6be77\",\"type\":\"UnionRenderers\"}},\"id\":\"83b17278-e817-4a76-aeee-bc624ddbd38d\",\"type\":\"ColumnDataSource\"},{\"attributes\":{\"callback\":null,\"end\":0.01,\"start\":1020},\"id\":\"2b8e990b-e911-4659-b459-e7f0b632f8b1\",\"type\":\"Range1d\"},{\"attributes\":{},\"id\":\"32f877a8-6a5e-459b-bc75-33268494a62b\",\"type\":\"Selection\"},{\"attributes\":{\"active_drag\":\"auto\",\"active_inspect\":\"auto\",\"active_scroll\":\"auto\",\"active_tap\":\"auto\",\"tools\":[{\"id\":\"a69c0ba0-847b-4d82-9461-f806d0a4d843\",\"type\":\"PanTool\"},{\"id\":\"af468541-c3ab-4f91-9a27-ddfd7df51131\",\"type\":\"WheelZoomTool\"},{\"id\":\"799332bb-082f-475a-bfc9-5bdbe603deb9\",\"type\":\"BoxZoomTool\"},{\"id\":\"8e5b5861-89b1-4f4f-8f69-0d673d5d14ff\",\"type\":\"SaveTool\"},{\"id\":\"cf6b374f-a4f7-4f24-88b6-12505a6db1dc\",\"type\":\"ResetTool\"},{\"id\":\"e6172d93-98da-456f-af5b-279e2906c628\",\"type\":\"HelpTool\"}]},\"id\":\"3bca7f7d-2661-42d7-bbbf-ac6eec1b8b39\",\"type\":\"Toolbar\"},{\"attributes\":{},\"id\":\"e8cb2c3a-fec2-4b03-8424-dcb23f471bde\",\"type\":\"LinearScale\"},{\"attributes\":{\"callback\":null,\"data\":{\"x\":{\"__ndarray__\":\"wlDv+OLKoL/5iHcEYNGiv2gMZlg0uaa/BVvbygFxqr8V8qb6TPitv5xWkLorqLC/X2s948U5sr9KyecfwbCzv5QX74AYDLW/TLM+uhhQtr941Fb0oIO3vwo5pXLJp7i/5r/VdBzDub8IjYHx45q6v9OksUnA4Lm/O3zw317Hsr+myI0t1otDv9DiWicNOcA/cGZPXVRm1D/2OYjnts7iP0TCORvZUu4/XpeGhmrv9T9JPbCIBm76PzWHtUKiuvo/x1Pq7Sp/+D8UncDPE8rzP/dxdmMo5Ow/6WZekvMz5D862FGLd3bbP65YLuHx6cw/4P3I34P4nL/Rv9FM/yvRv+eO/pdr0d2/mLZmyASe4r8D7tS3J8Phv7u/UV2GYNe/SViG/iq8xr9CnlVNrUq8v/aH2vRvMLe/fKKcfDuIs7+T2bH1Mqiwv+keWNwf8qu/mbo9nhxZp7+txPoOl3+jv0r2kyfMWKC/8zjhZVOcm7+FTfCP7zmXv32vONSjNJO/U1msktwij78rPvlM2nqIvzrUfSTP84G/GzUdwC2fdr8x3xt2qPVhvzZm0tnbw1Q/ZXlWzxsAdD/FZo/tv8mBP/f68LJ6FYo/3w/74UB4kT+Pi3z0DDWWP8anvvv8Wps/lmt+uolzoD/8Zc8clFujP8/qH2+yQKY/bdtxb/AYqj839vnjTs2tP4SY8PBDyrA/EO9zW6bPsj98TU5ujWi0P9dieGvnG7Y/3OTW9SISuD+vugZkTE26P2DUB/Whybw/Pa0u6SCWvz8kXXUVOWHBPwA9aNGWTsM/\",\"dtype\":\"float64\",\"shape\":[75]},\"y\":{\"__ndarray__\":\"GhExyth1ND/Sv8nbtpRIP2vylNV0PVE/aTum7souWD/At0SJ8fVgPw3Iuahxymc/MSNhhJWvcD/bTfBN02d3P2zb5nxnaoA/CD5h5MAGhz8NmeH1TyaQP+zrCsc9p5Y/LbKd76fGnz/bLW5ISEmmPww9YvTcQq8/JV2OstnstT8Er5Y7M8G+P0c+r3jqkcU/5h99k6ZBzj88bCIzFzjVP4enV8oyxN0//yH99nXg5D8qOpLLf0jtP5kqGJXUifQ/c9cS8kHP/D+/DpwzojQEQIEmwoanVwxA4lgXt9HgE0BSSZ2AJuIbQAMJih9jjiNA5q4l5INuK0AwTKYKRj0zQNv5fmq8/DpAaCJseHrtQkB/+zpwzoxKQM3MzMzMeFJAZmZmZmZqWEAAAAAAAFxeQM3MzMzMJmJAmpmZmZkfZUBmZmZmZhhoQDMzMzMzEWtAAAAAAAAKbkBmZmZmZoFwQM3MzMzM/XFAMzMzMzN6c0CamZmZmfZ0QAAAAAAAc3ZAZmZmZmbvd0DNzMzMzGt5QDMzMzMz6HpAmpmZmZlkfEAAAAAAAOF9QGZmZmZmXX9AZmZmZuZsgECamZmZGSuBQM3MzMxM6YFAAAAAAICngkAzMzMzs2WDQGZmZmbmI4RAmpmZmRnihEDNzMzMTKCFQAAAAACAXoZAMzMzM7Mch0BmZmZm5tqHQJqZmZkZmYhAzczMzExXiUAAAAAAgBWKQDMzMzOz04pAZmZmZuaRi0CamZmZGVCMQM3MzMxMDo1AAAAAAIDMjUAzMzMzs4qOQGZmZmbmSI9A\",\"dtype\":\"float64\",\"shape\":[75]}},\"selected\":{\"id\":\"86501343-184c-4277-9be2-e9688e3d5f60\",\"type\":\"Selection\"},\"selection_policy\":{\"id\":\"fbdc8f64-865a-4ac6-be4b-1f3aacbec04e\",\"type\":\"UnionRenderers\"}},\"id\":\"96cca21a-c81e-4f92-a09d-c9e77351b894\",\"type\":\"ColumnDataSource\"},{\"attributes\":{\"line_alpha\":0.1,\"line_color\":\"#1f77b4\",\"line_width\":1.5,\"x\":{\"field\":\"x\"},\"y\":{\"field\":\"y\"}},\"id\":\"c224f75c-6921-45ef-9ebc-c4c2bc72ad9b\",\"type\":\"Line\"},{\"attributes\":{\"line_alpha\":0.6,\"line_color\":\"#984ea3\",\"line_width\":3,\"x\":{\"field\":\"x\"},\"y\":{\"field\":\"y\"}},\"id\":\"965f76c1-0a57-4187-8c18-447fdab0c59b\",\"type\":\"Line\"},{\"attributes\":{\"line_alpha\":0.1,\"line_color\":\"#1f77b4\",\"line_width\":3,\"x\":{\"field\":\"x\"},\"y\":{\"field\":\"y\"}},\"id\":\"0b1cb504-2e3e-45a7-a898-36ed43091279\",\"type\":\"Line\"},{\"attributes\":{\"fill_alpha\":{\"value\":0.1},\"fill_color\":{\"value\":\"#1f77b4\"},\"line_alpha\":{\"value\":0.1},\"line_color\":{\"value\":\"#1f77b4\"},\"x\":{\"field\":\"x\"},\"y\":{\"field\":\"y\"}},\"id\":\"0df63e90-5f56-4931-b862-464a2bf8e702\",\"type\":\"Square\"},{\"attributes\":{\"dimension\":1,\"plot\":{\"id\":\"03b7cdac-31bc-4e3d-96cf-e98559aef404\",\"subtype\":\"Figure\",\"type\":\"Plot\"},\"ticker\":{\"id\":\"f2a5adeb-fa06-42e1-903a-bdd30971133c\",\"type\":\"LogTicker\"}},\"id\":\"b611dde4-4808-4e15-9e20-4f6abd00e29a\",\"type\":\"Grid\"},{\"attributes\":{\"items\":[{\"id\":\"99c774d0-a26c-45bd-abe4-c069771b84b6\",\"type\":\"LegendItem\"},{\"id\":\"759284cb-656c-4792-8bea-38b8233f8921\",\"type\":\"LegendItem\"},{\"id\":\"5e6bba7c-414f-4563-afff-2dcdf5abf1c0\",\"type\":\"LegendItem\"}],\"label_text_font_size\":{\"value\":\"8pt\"},\"location\":[10,-30],\"plot\":{\"id\":\"03b7cdac-31bc-4e3d-96cf-e98559aef404\",\"subtype\":\"Figure\",\"type\":\"Plot\"}},\"id\":\"624f20ee-da01-45e6-98ce-73ba01366678\",\"type\":\"Legend\"},{\"attributes\":{\"line_color\":\"#4daf4a\",\"line_width\":1.5,\"x\":{\"field\":\"x\"},\"y\":{\"field\":\"y\"}},\"id\":\"0fb35a03-4af7-46c3-9dc5-fae358499736\",\"type\":\"Line\"},{\"attributes\":{\"plot\":null,\"text\":\"Log pressure scale\"},\"id\":\"c82c4173-8a77-42dd-bf37-c4b91548b8f4\",\"type\":\"Title\"},{\"attributes\":{\"callback\":null,\"data\":{\"x\":{\"__ndarray__\":\"wlDv+OLKoL/5iHcEYNGiv2gMZlg0uaa/BVvbygFxqr8V8qb6TPitv5xWkLorqLC/X2s948U5sr9KyecfwbCzv5QX74AYDLW/TLM+uhhQtr941Fb0oIO3vwo5pXLJp7i/5r/VdBzDub8IjYHx45q6v9OksUnA4Lm/O3zw317Hsr+myI0t1otDv9DiWicNOcA/cGZPXVRm1D/2OYjnts7iP0TCORvZUu4/XpeGhmrv9T9JPbCIBm76PzWHtUKiuvo/x1Pq7Sp/+D8UncDPE8rzP/dxdmMo5Ow/6WZekvMz5D862FGLd3bbP65YLuHx6cw/4P3I34P4nL/Rv9FM/yvRv+eO/pdr0d2/mLZmyASe4r8D7tS3J8Phv7u/UV2GYNe/SViG/iq8xr9CnlVNrUq8v/aH2vRvMLe/fKKcfDuIs7+T2bH1Mqiwv+keWNwf8qu/mbo9nhxZp7+txPoOl3+jv0r2kyfMWKC/8zjhZVOcm7+FTfCP7zmXv32vONSjNJO/U1msktwij78rPvlM2nqIvzrUfSTP84G/GzUdwC2fdr8x3xt2qPVhvzZm0tnbw1Q/ZXlWzxsAdD/FZo/tv8mBP/f68LJ6FYo/3w/74UB4kT+Pi3z0DDWWP8anvvv8Wps/lmt+uolzoD/8Zc8clFujP8/qH2+yQKY/bdtxb/AYqj839vnjTs2tP4SY8PBDyrA/EO9zW6bPsj98TU5ujWi0P9dieGvnG7Y/3OTW9SISuD+vugZkTE26P2DUB/Whybw/Pa0u6SCWvz8kXXUVOWHBPwA9aNGWTsM/\",\"dtype\":\"float64\",\"shape\":[75]},\"y\":{\"__ndarray__\":\"GhExyth1ND/Sv8nbtpRIP2vylNV0PVE/aTum7souWD/At0SJ8fVgPw3Iuahxymc/MSNhhJWvcD/bTfBN02d3P2zb5nxnaoA/CD5h5MAGhz8NmeH1TyaQP+zrCsc9p5Y/LbKd76fGnz/bLW5ISEmmPww9YvTcQq8/JV2OstnstT8Er5Y7M8G+P0c+r3jqkcU/5h99k6ZBzj88bCIzFzjVP4enV8oyxN0//yH99nXg5D8qOpLLf0jtP5kqGJXUifQ/c9cS8kHP/D+/DpwzojQEQIEmwoanVwxA4lgXt9HgE0BSSZ2AJuIbQAMJih9jjiNA5q4l5INuK0AwTKYKRj0zQNv5fmq8/DpAaCJseHrtQkB/+zpwzoxKQM3MzMzMeFJAZmZmZmZqWEAAAAAAAFxeQM3MzMzMJmJAmpmZmZkfZUBmZmZmZhhoQDMzMzMzEWtAAAAAAAAKbkBmZmZmZoFwQM3MzMzM/XFAMzMzMzN6c0CamZmZmfZ0QAAAAAAAc3ZAZmZmZmbvd0DNzMzMzGt5QDMzMzMz6HpAmpmZmZlkfEAAAAAAAOF9QGZmZmZmXX9AZmZmZuZsgECamZmZGSuBQM3MzMxM6YFAAAAAAICngkAzMzMzs2WDQGZmZmbmI4RAmpmZmRnihEDNzMzMTKCFQAAAAACAXoZAMzMzM7Mch0BmZmZm5tqHQJqZmZkZmYhAzczMzExXiUAAAAAAgBWKQDMzMzOz04pAZmZmZuaRi0CamZmZGVCMQM3MzMxMDo1AAAAAAIDMjUAzMzMzs4qOQGZmZmbmSI9A\",\"dtype\":\"float64\",\"shape\":[75]}},\"selected\":{\"id\":\"8cc876c4-4eed-4e09-b1e5-a931af0701ba\",\"type\":\"Selection\"},\"selection_policy\":{\"id\":\"d6da789e-ca48-46cb-959f-dd9e35824da2\",\"type\":\"UnionRenderers\"}},\"id\":\"731748f7-7425-41be-95eb-df9680b1f7ba\",\"type\":\"ColumnDataSource\"},{\"attributes\":{},\"id\":\"f503d4ad-4646-492a-a196-4579d9d6ff73\",\"type\":\"BasicTicker\"},{\"attributes\":{\"callback\":null,\"data\":{\"x\":{\"__ndarray__\":\"Z3Hby3H/or/8ZO04Q0alvztjuyLIpqm/aEkQRp3Nrb+rF0bxX92wv6IfffuJtrK/iO+6OqRxtL8dXq1m3w22v83EpxL7ire/d/BxeNHvuL+RQ6O/wEG6vw3ZBg9Phru/VLdIFDnIvL8dhuLQU8u9vyy7P2Lk+ry/3cYiKq3vtL/7+qMOJVZIv/NubkTej8E/wVNMzh7i1T8OvzhEHvnjP9CZ9sWM7e8/A0AVN27x9j9JGjeQiU/7P5AhW/FoHvs/Pk7ivbRy+D/0tA3trXLzPzfVxTOJtus/iCfDChqn4j+gwejqdSjYPxGoYWzfK8c/W1V13fserL9HrXKZgafRv4V+ARgqGt2/Gh0tWsKS4b+8bWyXsoPgv4x+G/+RK9a/MYqzXBUsxr+Qs5cKffK7v8E23RC1/ba/JxxHmuJrs78VKbOSbZiwv8NzM/+P46u/GTtv0E9Sp7+BOEyKSHqjvxcwUyOMUKC/H7Prkvx+m7/J4DWjdw6Xv3NvnBmf95K/px30KDmAjr/AZ3LRk6mHv66d1pxk7IC/6amrRT8vdL+B3xsP6qVYv22uqRK2tmA/ZzdeMQ+Pdz/3CpJM/MmDP/21+dXVSow/mfhhjGGxkj8v55HAmI2XP2Izg6LA1Zw/agevn/ZCoT+IDQzcXiukP8XcqxIJ/6Y/2HAAGRSvqj+Wo7bDFQauP2XrFgqjnLA/wMB2p3BBsj9hiSPpfHOzPwFjqzt+vrQ/vc6uxAFJtj/J4Ibqdg64P8RMLgjdDLo/3gAz38FPvD9nsJBWCO2+P27EUcH6IsE/\",\"dtype\":\"float64\",\"shape\":[75]},\"y\":{\"__ndarray__\":\"GhExyth1ND/Sv8nbtpRIP2vylNV0PVE/aTum7souWD/At0SJ8fVgPw3Iuahxymc/MSNhhJWvcD/bTfBN02d3P2zb5nxnaoA/CD5h5MAGhz8NmeH1TyaQP+zrCsc9p5Y/LbKd76fGnz/bLW5ISEmmPww9YvTcQq8/JV2OstnstT8Er5Y7M8G+P0c+r3jqkcU/5h99k6ZBzj88bCIzFzjVP4enV8oyxN0//yH99nXg5D8qOpLLf0jtP5kqGJXUifQ/c9cS8kHP/D+/DpwzojQEQIEmwoanVwxA4lgXt9HgE0BSSZ2AJuIbQAMJih9jjiNA5q4l5INuK0AwTKYKRj0zQNv5fmq8/DpAaCJseHrtQkB/+zpwzoxKQM3MzMzMeFJAZmZmZmZqWEAAAAAAAFxeQM3MzMzMJmJAmpmZmZkfZUBmZmZmZhhoQDMzMzMzEWtAAAAAAAAKbkBmZmZmZoFwQM3MzMzM/XFAMzMzMzN6c0CamZmZmfZ0QAAAAAAAc3ZAZmZmZmbvd0DNzMzMzGt5QDMzMzMz6HpAmpmZmZlkfEAAAAAAAOF9QGZmZmZmXX9AZmZmZuZsgECamZmZGSuBQM3MzMxM6YFAAAAAAICngkAzMzMzs2WDQGZmZmbmI4RAmpmZmRnihEDNzMzMTKCFQAAAAACAXoZAMzMzM7Mch0BmZmZm5tqHQJqZmZkZmYhAzczMzExXiUAAAAAAgBWKQDMzMzOz04pAZmZmZuaRi0CamZmZGVCMQM3MzMxMDo1AAAAAAIDMjUAzMzMzs4qOQGZmZmbmSI9A\",\"dtype\":\"float64\",\"shape\":[75]}},\"selected\":{\"id\":\"ec349f60-01c7-4a3c-86d0-d4a0da82fbc2\",\"type\":\"Selection\"},\"selection_policy\":{\"id\":\"a1181b66-4f91-419a-a754-f611a75993c3\",\"type\":\"UnionRenderers\"}},\"id\":\"6adbb8a2-497c-402d-b0a8-04c29ef423c1\",\"type\":\"ColumnDataSource\"},{\"attributes\":{\"axis_label\":\"cooling rate [K/day]\",\"formatter\":{\"id\":\"4e056d27-d402-477d-800a-e83963107164\",\"type\":\"BasicTickFormatter\"},\"plot\":{\"id\":\"03b7cdac-31bc-4e3d-96cf-e98559aef404\",\"subtype\":\"Figure\",\"type\":\"Plot\"},\"ticker\":{\"id\":\"f503d4ad-4646-492a-a196-4579d9d6ff73\",\"type\":\"BasicTicker\"}},\"id\":\"d624ac78-9bb0-4255-acde-933a29ee96af\",\"type\":\"LinearAxis\"},{\"attributes\":{\"data_source\":{\"id\":\"731748f7-7425-41be-95eb-df9680b1f7ba\",\"type\":\"ColumnDataSource\"},\"glyph\":{\"id\":\"965f76c1-0a57-4187-8c18-447fdab0c59b\",\"type\":\"Line\"},\"hover_glyph\":null,\"muted_glyph\":null,\"nonselection_glyph\":{\"id\":\"0b1cb504-2e3e-45a7-a898-36ed43091279\",\"type\":\"Line\"},\"selection_glyph\":null,\"view\":{\"id\":\"ea1319de-d5dc-42e0-bd38-66e780b337c4\",\"type\":\"CDSView\"}},\"id\":\"5f0d59a3-4be7-4b8c-85c4-2ab4f26d39c7\",\"type\":\"GlyphRenderer\"},{\"attributes\":{},\"id\":\"cf6b374f-a4f7-4f24-88b6-12505a6db1dc\",\"type\":\"ResetTool\"},{\"attributes\":{\"fill_alpha\":{\"value\":0.7},\"fill_color\":{\"value\":\"#984ea3\"},\"line_alpha\":{\"value\":0.7},\"line_color\":{\"value\":\"#984ea3\"},\"x\":{\"field\":\"x\"},\"y\":{\"field\":\"y\"}},\"id\":\"8a3c0453-5aae-4a2c-8b4c-08dad54773bc\",\"type\":\"Square\"},{\"attributes\":{},\"id\":\"2c527537-402b-4621-bd0d-bad305633001\",\"type\":\"LogScale\"},{\"attributes\":{\"plot\":{\"id\":\"03b7cdac-31bc-4e3d-96cf-e98559aef404\",\"subtype\":\"Figure\",\"type\":\"Plot\"},\"ticker\":{\"id\":\"f503d4ad-4646-492a-a196-4579d9d6ff73\",\"type\":\"BasicTicker\"}},\"id\":\"d36ac96b-93fd-4371-9711-cb2ec8d9a55e\",\"type\":\"Grid\"},{\"attributes\":{\"line_alpha\":0.6,\"line_color\":\"#e41a1c\",\"line_dash\":[6],\"line_width\":5,\"x\":{\"field\":\"x\"},\"y\":{\"field\":\"y\"}},\"id\":\"c0564440-0c2e-4e43-8dfa-3c06547cdb28\",\"type\":\"Line\"},{\"attributes\":{\"source\":{\"id\":\"277d2f60-cbac-466b-9fcc-17867c4459bc\",\"type\":\"ColumnDataSource\"}},\"id\":\"ddd56157-c7d9-4ffe-8638-6183c47ae307\",\"type\":\"CDSView\"},{\"attributes\":{\"data_source\":{\"id\":\"96cca21a-c81e-4f92-a09d-c9e77351b894\",\"type\":\"ColumnDataSource\"},\"glyph\":{\"id\":\"8a3c0453-5aae-4a2c-8b4c-08dad54773bc\",\"type\":\"Square\"},\"hover_glyph\":null,\"muted_glyph\":null,\"nonselection_glyph\":{\"id\":\"0df63e90-5f56-4931-b862-464a2bf8e702\",\"type\":\"Square\"},\"selection_glyph\":null,\"view\":{\"id\":\"9e6fac58-0c09-4091-aeab-f7c5765c89e8\",\"type\":\"CDSView\"}},\"id\":\"161cd8ca-9ba6-4dd6-a35f-708f02eec939\",\"type\":\"GlyphRenderer\"},{\"attributes\":{\"children\":[{\"id\":\"1af125dd-65b5-4bc0-a9dd-3628b41123c7\",\"type\":\"Row\"}]},\"id\":\"b7bfe607-2b51-4276-8688-5ac06b6df98e\",\"type\":\"Column\"},{\"attributes\":{\"source\":{\"id\":\"96cca21a-c81e-4f92-a09d-c9e77351b894\",\"type\":\"ColumnDataSource\"}},\"id\":\"9e6fac58-0c09-4091-aeab-f7c5765c89e8\",\"type\":\"CDSView\"},{\"attributes\":{\"source\":{\"id\":\"ffadf0cd-4b6f-472d-b610-ffcf4db13320\",\"type\":\"ColumnDataSource\"}},\"id\":\"87f90b5d-e929-4d74-8ca9-238e97d4d2b2\",\"type\":\"CDSView\"},{\"attributes\":{\"source\":{\"id\":\"731748f7-7425-41be-95eb-df9680b1f7ba\",\"type\":\"ColumnDataSource\"}},\"id\":\"ea1319de-d5dc-42e0-bd38-66e780b337c4\",\"type\":\"CDSView\"},{\"attributes\":{\"data_source\":{\"id\":\"6adbb8a2-497c-402d-b0a8-04c29ef423c1\",\"type\":\"ColumnDataSource\"},\"glyph\":{\"id\":\"0fb35a03-4af7-46c3-9dc5-fae358499736\",\"type\":\"Line\"},\"hover_glyph\":null,\"muted_glyph\":null,\"nonselection_glyph\":{\"id\":\"c224f75c-6921-45ef-9ebc-c4c2bc72ad9b\",\"type\":\"Line\"},\"selection_glyph\":null,\"view\":{\"id\":\"c90540d4-fd0d-4ed2-b399-e7a0c6c2c7b8\",\"type\":\"CDSView\"}},\"id\":\"c3deecf7-1604-4b7d-91d4-bcb09a393440\",\"type\":\"GlyphRenderer\"},{\"attributes\":{\"source\":{\"id\":\"6adbb8a2-497c-402d-b0a8-04c29ef423c1\",\"type\":\"ColumnDataSource\"}},\"id\":\"c90540d4-fd0d-4ed2-b399-e7a0c6c2c7b8\",\"type\":\"CDSView\"},{\"attributes\":{\"axis_label\":\"pressure [mb]\",\"formatter\":{\"id\":\"747d2e5c-366b-4686-85ca-b48d03fbbe52\",\"type\":\"LogTickFormatter\"},\"plot\":{\"id\":\"03b7cdac-31bc-4e3d-96cf-e98559aef404\",\"subtype\":\"Figure\",\"type\":\"Plot\"},\"ticker\":{\"id\":\"f2a5adeb-fa06-42e1-903a-bdd30971133c\",\"type\":\"LogTicker\"}},\"id\":\"f16c4a13-1fbf-4c84-96f8-7a972db9e0e1\",\"type\":\"LogAxis\"},{\"attributes\":{},\"id\":\"ea0a76e6-c61b-437f-b278-77b8ced38bfc\",\"type\":\"HelpTool\"},{\"attributes\":{\"line_alpha\":0.1,\"line_color\":\"#1f77b4\",\"line_width\":1.5,\"x\":{\"field\":\"x\"},\"y\":{\"field\":\"y\"}},\"id\":\"9e25731e-a9f5-4acb-bee1-4359088b2b10\",\"type\":\"Line\"},{\"attributes\":{\"bottom_units\":\"screen\",\"fill_alpha\":{\"value\":0.5},\"fill_color\":{\"value\":\"lightgrey\"},\"left_units\":\"screen\",\"level\":\"overlay\",\"line_alpha\":{\"value\":1.0},\"line_color\":{\"value\":\"black\"},\"line_dash\":[4,4],\"line_width\":{\"value\":2},\"plot\":null,\"render_mode\":\"css\",\"right_units\":\"screen\",\"top_units\":\"screen\"},\"id\":\"9199a023-05ca-41ec-ac37-ffccf85f7639\",\"type\":\"BoxAnnotation\"},{\"attributes\":{},\"id\":\"a69c0ba0-847b-4d82-9461-f806d0a4d843\",\"type\":\"PanTool\"},{\"attributes\":{},\"id\":\"e6172d93-98da-456f-af5b-279e2906c628\",\"type\":\"HelpTool\"},{\"attributes\":{},\"id\":\"af468541-c3ab-4f91-9a27-ddfd7df51131\",\"type\":\"WheelZoomTool\"},{\"attributes\":{\"fill_alpha\":{\"value\":0.7},\"fill_color\":{\"value\":\"#984ea3\"},\"line_alpha\":{\"value\":0.7},\"line_color\":{\"value\":\"#984ea3\"},\"x\":{\"field\":\"x\"},\"y\":{\"field\":\"y\"}},\"id\":\"ef42096a-3925-4a7d-b1f8-f092c94bc2c7\",\"type\":\"Square\"},{\"attributes\":{\"overlay\":{\"id\":\"9199a023-05ca-41ec-ac37-ffccf85f7639\",\"type\":\"BoxAnnotation\"}},\"id\":\"799332bb-082f-475a-bfc9-5bdbe603deb9\",\"type\":\"BoxZoomTool\"},{\"attributes\":{\"callback\":null,\"data\":{\"x\":{\"__ndarray__\":\"ymjfOtE+nr8BQba1UPWgvx2diLgYh6S/2ZaePG7wp7+PvLCLWzKrvwvx067FS66/c/yrIjeesL/jdkwDXQCyvyej/yK+TLO/ssiVy12DtL9RlKdT7qO1v/JeXzIor7a/h865e4Omt7/Orl/W4li4v0jbvmgL37e/ImywJAQhsr/CzHVdqqCAv7rGwmvy77o/bsv0CagJ0j/+ZiCePiXhP7hgBOhSN+w/TuJi+3+r9D+RNdn1wWj5P0b2nE94RPo/g9/h0SEL+D/vCW2UUNXyP+GoifwCc+o/ZEwLqIHw4T+DORfSIz7YP/AkMyjklMk/0yK87MABpL9c9lbqep7Rv4vZFo61ed6/IWmBh7NM47/kv/7zTb3iv6iy/2xxbti/kwQ8xJolx79jFk6Q4F+8v7Bc2X9JHLe/4iaog+pWs79ipI7DnWGwv65ZeKi3UKu/tqmMD0u0pr9Ke/DLeuCivywsqfTChp+/UT62xTKGmr+TeZqC60CWvxRBL+vkXZK/K6bSTzi7jb/aPTz1j1iHv3lZXnScFIG/JkaSgTxydb/T+z4LZq1gv6HQIPmSY1U/1Uxdi7Sacz/JxAmqz1eBPwpy5SZJW4k/Z4iQ3mP1kD+uEzlyFIiVP02TkzVcd5o/3XOvfxbMnz/c1AsBarGiP1WQnNXNiKU/+DE39iRkqT+dKaKWTjqtPw9EFmninbA/njvT4afFsj92AdZ6JH20Py3orgbXRbY/YOWJTU9LuD/MKX34ZIu6P40+SS69Bb0/JDrTnYrIvz/63CKTAHPBP5RDUcFdTcM/\",\"dtype\":\"float64\",\"shape\":[75]},\"y\":{\"__ndarray__\":\"S/O/Q+51ND/Sv8nbtpRIP2vylNV0PVE/aTum7souWD/At0SJ8fVgPw3Iuahxymc/MSNhhJWvcD/bTfBN02d3P2zb5nxnaoA/CD5h5MAGhz8NmeH1TyaQP+zrCsc9p5Y/LbKd76fGnz/bLW5ISEmmPww9YvTcQq8/JV2OstnstT8Er5Y7M8G+P0c+r3jqkcU/5h99k6ZBzj88bCIzFzjVP4enV8oyxN0//yH99nXg5D8qOpLLf0jtP5kqGJXUifQ/c9cS8kHP/D+/DpwzojQEQIEmwoanVwxA4lgXt9HgE0BSSZ2AJuIbQAMJih9jjiNA5q4l5INuK0AwTKYKRj0zQNv5fmq8/DpAaCJseHrtQkB/+zpwzoxKQM3MzMzMeFJAZmZmZmZqWEAAAAAAAFxeQM3MzMzMJmJAmpmZmZkfZUBmZmZmZhhoQDMzMzMzEWtAAAAAAAAKbkBmZmZmZoFwQM3MzMzM/XFAMzMzMzN6c0CamZmZmfZ0QAAAAAAAc3ZAZmZmZmbvd0DNzMzMzGt5QDMzMzMz6HpAmpmZmZlkfEAAAAAAAOF9QGZmZmZmXX9AZmZmZuZsgECamZmZGSuBQM3MzMxM6YFAAAAAAICngkAzMzMzs2WDQGZmZmbmI4RAmpmZmRnihEDNzMzMTKCFQAAAAACAXoZAMzMzM7Mch0BmZmZm5tqHQJqZmZkZmYhAzczMzExXiUAAAAAAgBWKQDMzMzOz04pAZmZmZuaRi0CamZmZGVCMQM3MzMxMDo1AAAAAAIDMjUAzMzMzs4qOQGZmZmbmSI9A\",\"dtype\":\"float64\",\"shape\":[75]}},\"selected\":{\"id\":\"32f877a8-6a5e-459b-bc75-33268494a62b\",\"type\":\"Selection\"},\"selection_policy\":{\"id\":\"9176ef0c-004f-4e72-9b88-f443dee5ea86\",\"type\":\"UnionRenderers\"}},\"id\":\"c6329410-4818-47e7-afad-1adb3ba8b180\",\"type\":\"ColumnDataSource\"},{\"attributes\":{},\"id\":\"8e5b5861-89b1-4f4f-8f69-0d673d5d14ff\",\"type\":\"SaveTool\"},{\"attributes\":{\"callback\":null,\"data\":{\"x\":{\"__ndarray__\":\"wlDv+OLKoL/5iHcEYNGiv2gMZlg0uaa/BVvbygFxqr8V8qb6TPitv5xWkLorqLC/X2s948U5sr9KyecfwbCzv5QX74AYDLW/TLM+uhhQtr941Fb0oIO3vwo5pXLJp7i/5r/VdBzDub8IjYHx45q6v9OksUnA4Lm/O3zw317Hsr+myI0t1otDv9DiWicNOcA/cGZPXVRm1D/2OYjnts7iP0TCORvZUu4/XpeGhmrv9T9JPbCIBm76PzWHtUKiuvo/x1Pq7Sp/+D8UncDPE8rzP/dxdmMo5Ow/6WZekvMz5D862FGLd3bbP65YLuHx6cw/4P3I34P4nL/Rv9FM/yvRv+eO/pdr0d2/mLZmyASe4r8D7tS3J8Phv7u/UV2GYNe/SViG/iq8xr9CnlVNrUq8v/aH2vRvMLe/fKKcfDuIs7+T2bH1Mqiwv+keWNwf8qu/mbo9nhxZp7+txPoOl3+jv0r2kyfMWKC/8zjhZVOcm7+FTfCP7zmXv32vONSjNJO/U1msktwij78rPvlM2nqIvzrUfSTP84G/GzUdwC2fdr8x3xt2qPVhvzZm0tnbw1Q/ZXlWzxsAdD/FZo/tv8mBP/f68LJ6FYo/3w/74UB4kT+Pi3z0DDWWP8anvvv8Wps/lmt+uolzoD/8Zc8clFujP8/qH2+yQKY/bdtxb/AYqj839vnjTs2tP4SY8PBDyrA/EO9zW6bPsj98TU5ujWi0P9dieGvnG7Y/3OTW9SISuD+vugZkTE26P2DUB/Whybw/Pa0u6SCWvz8kXXUVOWHBPwA9aNGWTsM/\",\"dtype\":\"float64\",\"shape\":[75]},\"y\":{\"__ndarray__\":\"GhExyth1ND/Sv8nbtpRIP2vylNV0PVE/aTum7souWD/At0SJ8fVgPw3Iuahxymc/MSNhhJWvcD/bTfBN02d3P2zb5nxnaoA/CD5h5MAGhz8NmeH1TyaQP+zrCsc9p5Y/LbKd76fGnz/bLW5ISEmmPww9YvTcQq8/JV2OstnstT8Er5Y7M8G+P0c+r3jqkcU/5h99k6ZBzj88bCIzFzjVP4enV8oyxN0//yH99nXg5D8qOpLLf0jtP5kqGJXUifQ/c9cS8kHP/D+/DpwzojQEQIEmwoanVwxA4lgXt9HgE0BSSZ2AJuIbQAMJih9jjiNA5q4l5INuK0AwTKYKRj0zQNv5fmq8/DpAaCJseHrtQkB/+zpwzoxKQM3MzMzMeFJAZmZmZmZqWEAAAAAAAFxeQM3MzMzMJmJAmpmZmZkfZUBmZmZmZhhoQDMzMzMzEWtAAAAAAAAKbkBmZmZmZoFwQM3MzMzM/XFAMzMzMzN6c0CamZmZmfZ0QAAAAAAAc3ZAZmZmZmbvd0DNzMzMzGt5QDMzMzMz6HpAmpmZmZlkfEAAAAAAAOF9QGZmZmZmXX9AZmZmZuZsgECamZmZGSuBQM3MzMxM6YFAAAAAAICngkAzMzMzs2WDQGZmZmbmI4RAmpmZmRnihEDNzMzMTKCFQAAAAACAXoZAMzMzM7Mch0BmZmZm5tqHQJqZmZkZmYhAzczMzExXiUAAAAAAgBWKQDMzMzOz04pAZmZmZuaRi0CamZmZGVCMQM3MzMxMDo1AAAAAAIDMjUAzMzMzs4qOQGZmZmbmSI9A\",\"dtype\":\"float64\",\"shape\":[75]}},\"selected\":{\"id\":\"32472be1-b0b6-4822-8eea-99a482521b99\",\"type\":\"Selection\"},\"selection_policy\":{\"id\":\"3f03e820-e771-462e-8266-45db79726929\",\"type\":\"UnionRenderers\"}},\"id\":\"9dd71e0a-ca20-4298-9217-d5a34591163c\",\"type\":\"ColumnDataSource\"},{\"attributes\":{\"overlay\":{\"id\":\"3b0c91fb-91f1-4b67-a69f-9f130c419953\",\"type\":\"BoxAnnotation\"}},\"id\":\"75168406-5d4d-45ce-be64-1b4a779bd2aa\",\"type\":\"BoxZoomTool\"},{\"attributes\":{},\"id\":\"d2b02cc8-b6b3-4399-af1b-51681a7784e9\",\"type\":\"UnionRenderers\"},{\"attributes\":{},\"id\":\"016fc256-0c29-4fac-b7d0-edb975202934\",\"type\":\"ResetTool\"},{\"attributes\":{\"data_source\":{\"id\":\"9ccc75c5-9da4-4f6b-ab54-31bba2e8b226\",\"type\":\"ColumnDataSource\"},\"glyph\":{\"id\":\"2fac6ae7-6cc8-436f-85bf-6210c6b278ff\",\"type\":\"Line\"},\"hover_glyph\":null,\"muted_glyph\":null,\"nonselection_glyph\":{\"id\":\"9e25731e-a9f5-4acb-bee1-4359088b2b10\",\"type\":\"Line\"},\"selection_glyph\":null,\"view\":{\"id\":\"fdee562c-b455-4ba3-b70d-543c106e9126\",\"type\":\"CDSView\"}},\"id\":\"37be1a33-6c3f-408d-8968-d41220879427\",\"type\":\"GlyphRenderer\"},{\"attributes\":{\"fill_alpha\":{\"value\":0.1},\"fill_color\":{\"value\":\"#1f77b4\"},\"line_alpha\":{\"value\":0.1},\"line_color\":{\"value\":\"#1f77b4\"},\"x\":{\"field\":\"x\"},\"y\":{\"field\":\"y\"}},\"id\":\"06b17521-a1d3-470e-9155-cdad5f72b2e4\",\"type\":\"Square\"},{\"attributes\":{},\"id\":\"14227797-f7c6-4a11-9ddb-d046778a081b\",\"type\":\"SaveTool\"},{\"attributes\":{\"data_source\":{\"id\":\"ffadf0cd-4b6f-472d-b610-ffcf4db13320\",\"type\":\"ColumnDataSource\"},\"glyph\":{\"id\":\"f3a16332-0c7e-4d63-9536-0e73ac9f238b\",\"type\":\"Line\"},\"hover_glyph\":null,\"muted_glyph\":null,\"nonselection_glyph\":{\"id\":\"baac2962-f5d0-44f4-b9ef-5de4b84ba58a\",\"type\":\"Line\"},\"selection_glyph\":null,\"view\":{\"id\":\"87f90b5d-e929-4d74-8ca9-238e97d4d2b2\",\"type\":\"CDSView\"}},\"id\":\"85a7173e-6279-4955-8b5d-e90a8b7cf3db\",\"type\":\"GlyphRenderer\"},{\"attributes\":{\"source\":{\"id\":\"9ccc75c5-9da4-4f6b-ab54-31bba2e8b226\",\"type\":\"ColumnDataSource\"}},\"id\":\"fdee562c-b455-4ba3-b70d-543c106e9126\",\"type\":\"CDSView\"},{\"attributes\":{\"data_source\":{\"id\":\"9dd71e0a-ca20-4298-9217-d5a34591163c\",\"type\":\"ColumnDataSource\"},\"glyph\":{\"id\":\"ef42096a-3925-4a7d-b1f8-f092c94bc2c7\",\"type\":\"Square\"},\"hover_glyph\":null,\"muted_glyph\":null,\"nonselection_glyph\":{\"id\":\"06b17521-a1d3-470e-9155-cdad5f72b2e4\",\"type\":\"Square\"},\"selection_glyph\":null,\"view\":{\"id\":\"3c78ea2a-a731-4e86-aa5e-67f7b7eccfe3\",\"type\":\"CDSView\"}},\"id\":\"c92d2f1b-60f3-4f5f-a1aa-cfcc6bca6a03\",\"type\":\"GlyphRenderer\"},{\"attributes\":{\"fill_alpha\":{\"value\":0.7},\"fill_color\":{\"value\":\"#4daf4a\"},\"line_alpha\":{\"value\":0.7},\"line_color\":{\"value\":\"#4daf4a\"},\"x\":{\"field\":\"x\"},\"y\":{\"field\":\"y\"}},\"id\":\"eb613489-d900-4bb2-96b2-9cf37f5ac1d8\",\"type\":\"Circle\"},{\"attributes\":{\"line_color\":\"#4daf4a\",\"line_width\":1.5,\"x\":{\"field\":\"x\"},\"y\":{\"field\":\"y\"}},\"id\":\"2fac6ae7-6cc8-436f-85bf-6210c6b278ff\",\"type\":\"Line\"},{\"attributes\":{\"source\":{\"id\":\"9dd71e0a-ca20-4298-9217-d5a34591163c\",\"type\":\"ColumnDataSource\"}},\"id\":\"3c78ea2a-a731-4e86-aa5e-67f7b7eccfe3\",\"type\":\"CDSView\"},{\"attributes\":{\"label\":{\"value\":\"CLIRAD `coolr_bands`\"},\"renderers\":[{\"id\":\"5e38ed32-3da6-42d4-8999-abe5cc475fe9\",\"type\":\"GlyphRenderer\"}]},\"id\":\"99c774d0-a26c-45bd-abe4-c069771b84b6\",\"type\":\"LegendItem\"},{\"attributes\":{\"children\":[{\"id\":\"33278ea7-3ef8-4e9f-941f-714bc80a8ef8\",\"subtype\":\"Figure\",\"type\":\"Plot\"},{\"id\":\"03b7cdac-31bc-4e3d-96cf-e98559aef404\",\"subtype\":\"Figure\",\"type\":\"Plot\"}]},\"id\":\"1af125dd-65b5-4bc0-a9dd-3628b41123c7\",\"type\":\"Row\"},{\"attributes\":{},\"id\":\"fea67c6a-e12e-4b3f-ab76-2d6e7cea7ecd\",\"type\":\"BasicTickFormatter\"},{\"attributes\":{\"data_source\":{\"id\":\"83b17278-e817-4a76-aeee-bc624ddbd38d\",\"type\":\"ColumnDataSource\"},\"glyph\":{\"id\":\"18ca8f90-3837-4e12-a414-8ffb3b2b2c80\",\"type\":\"Line\"},\"hover_glyph\":null,\"muted_glyph\":null,\"nonselection_glyph\":{\"id\":\"8e49cbff-63c0-4c7c-9402-a862ba293347\",\"type\":\"Line\"},\"selection_glyph\":null,\"view\":{\"id\":\"d9c63ab8-de94-4809-8558-6497bb635e50\",\"type\":\"CDSView\"}},\"id\":\"5e38ed32-3da6-42d4-8999-abe5cc475fe9\",\"type\":\"GlyphRenderer\"},{\"attributes\":{\"label\":{\"value\":\"CRD\"},\"renderers\":[{\"id\":\"e2f08281-f229-4f75-ac7a-771859b63a5a\",\"type\":\"GlyphRenderer\"},{\"id\":\"37be1a33-6c3f-408d-8968-d41220879427\",\"type\":\"GlyphRenderer\"}]},\"id\":\"759284cb-656c-4792-8bea-38b8233f8921\",\"type\":\"LegendItem\"},{\"attributes\":{},\"id\":\"9176ef0c-004f-4e72-9b88-f443dee5ea86\",\"type\":\"UnionRenderers\"},{\"attributes\":{\"label\":{\"value\":\"WGT igg=10 wgt_flux=2\"},\"renderers\":[{\"id\":\"c92d2f1b-60f3-4f5f-a1aa-cfcc6bca6a03\",\"type\":\"GlyphRenderer\"},{\"id\":\"85a7173e-6279-4955-8b5d-e90a8b7cf3db\",\"type\":\"GlyphRenderer\"}]},\"id\":\"5e6bba7c-414f-4563-afff-2dcdf5abf1c0\",\"type\":\"LegendItem\"},{\"attributes\":{},\"id\":\"fbdc8f64-865a-4ac6-be4b-1f3aacbec04e\",\"type\":\"UnionRenderers\"},{\"attributes\":{},\"id\":\"98c94215-9e23-4533-89d9-e427fdd6dfcd\",\"type\":\"BasicTickFormatter\"},{\"attributes\":{\"line_alpha\":0.1,\"line_color\":\"#1f77b4\",\"line_dash\":[6],\"line_width\":5,\"x\":{\"field\":\"x\"},\"y\":{\"field\":\"y\"}},\"id\":\"8e49cbff-63c0-4c7c-9402-a862ba293347\",\"type\":\"Line\"},{\"attributes\":{},\"id\":\"542af74a-742b-495b-8797-cd8d68e709d8\",\"type\":\"Selection\"},{\"attributes\":{\"data_source\":{\"id\":\"c6329410-4818-47e7-afad-1adb3ba8b180\",\"type\":\"ColumnDataSource\"},\"glyph\":{\"id\":\"c0564440-0c2e-4e43-8dfa-3c06547cdb28\",\"type\":\"Line\"},\"hover_glyph\":null,\"muted_glyph\":null,\"nonselection_glyph\":{\"id\":\"97efbc4d-ffb9-42eb-9fc6-46bbf95f87f2\",\"type\":\"Line\"},\"selection_glyph\":null,\"view\":{\"id\":\"cf92fcb4-e2e3-4a39-9ea7-84871ddb973f\",\"type\":\"CDSView\"}},\"id\":\"1b74bed4-9413-4755-af04-300f80523e15\",\"type\":\"GlyphRenderer\"},{\"attributes\":{},\"id\":\"a1181b66-4f91-419a-a754-f611a75993c3\",\"type\":\"UnionRenderers\"},{\"attributes\":{},\"id\":\"86501343-184c-4277-9be2-e9688e3d5f60\",\"type\":\"Selection\"},{\"attributes\":{\"ticker\":null},\"id\":\"747d2e5c-366b-4686-85ca-b48d03fbbe52\",\"type\":\"LogTickFormatter\"},{\"attributes\":{\"line_alpha\":0.1,\"line_color\":\"#1f77b4\",\"line_width\":3,\"x\":{\"field\":\"x\"},\"y\":{\"field\":\"y\"}},\"id\":\"baac2962-f5d0-44f4-b9ef-5de4b84ba58a\",\"type\":\"Line\"},{\"attributes\":{},\"id\":\"10af942c-d702-4768-8637-feba04d00984\",\"type\":\"PanTool\"},{\"attributes\":{\"line_alpha\":0.1,\"line_color\":\"#1f77b4\",\"line_dash\":[6],\"line_width\":5,\"x\":{\"field\":\"x\"},\"y\":{\"field\":\"y\"}},\"id\":\"97efbc4d-ffb9-42eb-9fc6-46bbf95f87f2\",\"type\":\"Line\"},{\"attributes\":{},\"id\":\"ec349f60-01c7-4a3c-86d0-d4a0da82fbc2\",\"type\":\"Selection\"},{\"attributes\":{\"below\":[{\"id\":\"d624ac78-9bb0-4255-acde-933a29ee96af\",\"type\":\"LinearAxis\"}],\"left\":[{\"id\":\"f16c4a13-1fbf-4c84-96f8-7a972db9e0e1\",\"type\":\"LogAxis\"}],\"plot_height\":500,\"plot_width\":560,\"renderers\":[{\"id\":\"d624ac78-9bb0-4255-acde-933a29ee96af\",\"type\":\"LinearAxis\"},{\"id\":\"d36ac96b-93fd-4371-9711-cb2ec8d9a55e\",\"type\":\"Grid\"},{\"id\":\"f16c4a13-1fbf-4c84-96f8-7a972db9e0e1\",\"type\":\"LogAxis\"},{\"id\":\"b611dde4-4808-4e15-9e20-4f6abd00e29a\",\"type\":\"Grid\"},{\"id\":\"9199a023-05ca-41ec-ac37-ffccf85f7639\",\"type\":\"BoxAnnotation\"},{\"id\":\"5e38ed32-3da6-42d4-8999-abe5cc475fe9\",\"type\":\"GlyphRenderer\"},{\"id\":\"e2f08281-f229-4f75-ac7a-771859b63a5a\",\"type\":\"GlyphRenderer\"},{\"id\":\"37be1a33-6c3f-408d-8968-d41220879427\",\"type\":\"GlyphRenderer\"},{\"id\":\"c92d2f1b-60f3-4f5f-a1aa-cfcc6bca6a03\",\"type\":\"GlyphRenderer\"},{\"id\":\"85a7173e-6279-4955-8b5d-e90a8b7cf3db\",\"type\":\"GlyphRenderer\"},{\"id\":\"624f20ee-da01-45e6-98ce-73ba01366678\",\"type\":\"Legend\"}],\"right\":[{\"id\":\"624f20ee-da01-45e6-98ce-73ba01366678\",\"type\":\"Legend\"}],\"title\":{\"id\":\"c82c4173-8a77-42dd-bf37-c4b91548b8f4\",\"type\":\"Title\"},\"toolbar\":{\"id\":\"3bca7f7d-2661-42d7-bbbf-ac6eec1b8b39\",\"type\":\"Toolbar\"},\"toolbar_location\":null,\"x_range\":{\"id\":\"e40feac6-2a1b-4672-9cb0-fffce23be86b\",\"type\":\"Range1d\"},\"x_scale\":{\"id\":\"e8cb2c3a-fec2-4b03-8424-dcb23f471bde\",\"type\":\"LinearScale\"},\"y_range\":{\"id\":\"2b8e990b-e911-4659-b459-e7f0b632f8b1\",\"type\":\"Range1d\"},\"y_scale\":{\"id\":\"2c527537-402b-4621-bd0d-bad305633001\",\"type\":\"LogScale\"}},\"id\":\"03b7cdac-31bc-4e3d-96cf-e98559aef404\",\"subtype\":\"Figure\",\"type\":\"Plot\"},{\"attributes\":{},\"id\":\"d6da789e-ca48-46cb-959f-dd9e35824da2\",\"type\":\"UnionRenderers\"},{\"attributes\":{\"active_drag\":\"auto\",\"active_inspect\":\"auto\",\"active_scroll\":\"auto\",\"active_tap\":\"auto\",\"tools\":[{\"id\":\"10af942c-d702-4768-8637-feba04d00984\",\"type\":\"PanTool\"},{\"id\":\"6a4b4aaf-1dca-495d-b7bd-b30827119de7\",\"type\":\"WheelZoomTool\"},{\"id\":\"75168406-5d4d-45ce-be64-1b4a779bd2aa\",\"type\":\"BoxZoomTool\"},{\"id\":\"14227797-f7c6-4a11-9ddb-d046778a081b\",\"type\":\"SaveTool\"},{\"id\":\"016fc256-0c29-4fac-b7d0-edb975202934\",\"type\":\"ResetTool\"},{\"id\":\"ea0a76e6-c61b-437f-b278-77b8ced38bfc\",\"type\":\"HelpTool\"}]},\"id\":\"d542db50-a7af-4a9d-a949-9fc72becd31a\",\"type\":\"Toolbar\"},{\"attributes\":{},\"id\":\"8cc876c4-4eed-4e09-b1e5-a931af0701ba\",\"type\":\"Selection\"},{\"attributes\":{},\"id\":\"969904cb-a03f-4e5c-bbc3-16bae218f0e4\",\"type\":\"Selection\"},{\"attributes\":{\"fill_alpha\":{\"value\":0.1},\"fill_color\":{\"value\":\"#1f77b4\"},\"line_alpha\":{\"value\":0.1},\"line_color\":{\"value\":\"#1f77b4\"},\"x\":{\"field\":\"x\"},\"y\":{\"field\":\"y\"}},\"id\":\"96d4cf11-9de0-40e6-b834-ec1838f6b1df\",\"type\":\"Circle\"},{\"attributes\":{},\"id\":\"4e056d27-d402-477d-800a-e83963107164\",\"type\":\"BasicTickFormatter\"},{\"attributes\":{\"line_alpha\":0.6,\"line_color\":\"#984ea3\",\"line_width\":3,\"x\":{\"field\":\"x\"},\"y\":{\"field\":\"y\"}},\"id\":\"f3a16332-0c7e-4d63-9536-0e73ac9f238b\",\"type\":\"Line\"},{\"attributes\":{},\"id\":\"255e24a5-e025-4c5d-9351-fa00f1b6be77\",\"type\":\"UnionRenderers\"},{\"attributes\":{},\"id\":\"f24c1549-b058-4d2b-a66c-f86c46d3f1b8\",\"type\":\"Selection\"},{\"attributes\":{},\"id\":\"735b5c78-a4dd-435e-bd58-add373158a3d\",\"type\":\"BasicTicker\"},{\"attributes\":{},\"id\":\"b9214ee7-a7b2-43fd-8b85-b3ff06b2c972\",\"type\":\"UnionRenderers\"},{\"attributes\":{},\"id\":\"6d4a9d23-bec4-4763-b20e-ecc402c442f9\",\"type\":\"UnionRenderers\"},{\"attributes\":{},\"id\":\"f857c0d1-69df-4f67-ab55-ec18dfdd5469\",\"type\":\"Selection\"},{\"attributes\":{},\"id\":\"a3d493c0-9d77-4927-a527-a5a64c6c65c8\",\"type\":\"UnionRenderers\"},{\"attributes\":{},\"id\":\"f2186e25-2263-4fe8-8163-af887ba08ca7\",\"type\":\"Selection\"},{\"attributes\":{},\"id\":\"3f03e820-e771-462e-8266-45db79726929\",\"type\":\"UnionRenderers\"},{\"attributes\":{},\"id\":\"32472be1-b0b6-4822-8eea-99a482521b99\",\"type\":\"Selection\"},{\"attributes\":{\"children\":[{\"id\":\"814204f4-2da6-4e08-b16a-17fd6c050335\",\"type\":\"ToolbarBox\"},{\"id\":\"b7bfe607-2b51-4276-8688-5ac06b6df98e\",\"type\":\"Column\"}]},\"id\":\"59b3abea-c10c-4dcb-8604-3628a731423e\",\"type\":\"Column\"},{\"attributes\":{\"callback\":null,\"data\":{\"x\":{\"__ndarray__\":\"wlDv+OLKoL/5iHcEYNGiv2gMZlg0uaa/BVvbygFxqr8V8qb6TPitv5xWkLorqLC/X2s948U5sr9KyecfwbCzv5QX74AYDLW/TLM+uhhQtr941Fb0oIO3vwo5pXLJp7i/5r/VdBzDub8IjYHx45q6v9OksUnA4Lm/O3zw317Hsr+myI0t1otDv9DiWicNOcA/cGZPXVRm1D/2OYjnts7iP0TCORvZUu4/XpeGhmrv9T9JPbCIBm76PzWHtUKiuvo/x1Pq7Sp/+D8UncDPE8rzP/dxdmMo5Ow/6WZekvMz5D862FGLd3bbP65YLuHx6cw/4P3I34P4nL/Rv9FM/yvRv+eO/pdr0d2/mLZmyASe4r8D7tS3J8Phv7u/UV2GYNe/SViG/iq8xr9CnlVNrUq8v/aH2vRvMLe/fKKcfDuIs7+T2bH1Mqiwv+keWNwf8qu/mbo9nhxZp7+txPoOl3+jv0r2kyfMWKC/8zjhZVOcm7+FTfCP7zmXv32vONSjNJO/U1msktwij78rPvlM2nqIvzrUfSTP84G/GzUdwC2fdr8x3xt2qPVhvzZm0tnbw1Q/ZXlWzxsAdD/FZo/tv8mBP/f68LJ6FYo/3w/74UB4kT+Pi3z0DDWWP8anvvv8Wps/lmt+uolzoD/8Zc8clFujP8/qH2+yQKY/bdtxb/AYqj839vnjTs2tP4SY8PBDyrA/EO9zW6bPsj98TU5ujWi0P9dieGvnG7Y/3OTW9SISuD+vugZkTE26P2DUB/Whybw/Pa0u6SCWvz8kXXUVOWHBPwA9aNGWTsM/\",\"dtype\":\"float64\",\"shape\":[75]},\"y\":{\"__ndarray__\":\"GhExyth1ND/Sv8nbtpRIP2vylNV0PVE/aTum7souWD/At0SJ8fVgPw3Iuahxymc/MSNhhJWvcD/bTfBN02d3P2zb5nxnaoA/CD5h5MAGhz8NmeH1TyaQP+zrCsc9p5Y/LbKd76fGnz/bLW5ISEmmPww9YvTcQq8/JV2OstnstT8Er5Y7M8G+P0c+r3jqkcU/5h99k6ZBzj88bCIzFzjVP4enV8oyxN0//yH99nXg5D8qOpLLf0jtP5kqGJXUifQ/c9cS8kHP/D+/DpwzojQEQIEmwoanVwxA4lgXt9HgE0BSSZ2AJuIbQAMJih9jjiNA5q4l5INuK0AwTKYKRj0zQNv5fmq8/DpAaCJseHrtQkB/+zpwzoxKQM3MzMzMeFJAZmZmZmZqWEAAAAAAAFxeQM3MzMzMJmJAmpmZmZkfZUBmZmZmZhhoQDMzMzMzEWtAAAAAAAAKbkBmZmZmZoFwQM3MzMzM/XFAMzMzMzN6c0CamZmZmfZ0QAAAAAAAc3ZAZmZmZmbvd0DNzMzMzGt5QDMzMzMz6HpAmpmZmZlkfEAAAAAAAOF9QGZmZmZmXX9AZmZmZuZsgECamZmZGSuBQM3MzMxM6YFAAAAAAICngkAzMzMzs2WDQGZmZmbmI4RAmpmZmRnihEDNzMzMTKCFQAAAAACAXoZAMzMzM7Mch0BmZmZm5tqHQJqZmZkZmYhAzczMzExXiUAAAAAAgBWKQDMzMzOz04pAZmZmZuaRi0CamZmZGVCMQM3MzMxMDo1AAAAAAIDMjUAzMzMzs4qOQGZmZmbmSI9A\",\"dtype\":\"float64\",\"shape\":[75]}},\"selected\":{\"id\":\"f24c1549-b058-4d2b-a66c-f86c46d3f1b8\",\"type\":\"Selection\"},\"selection_policy\":{\"id\":\"6d4a9d23-bec4-4763-b20e-ecc402c442f9\",\"type\":\"UnionRenderers\"}},\"id\":\"ffadf0cd-4b6f-472d-b610-ffcf4db13320\",\"type\":\"ColumnDataSource\"},{\"attributes\":{\"fill_alpha\":{\"value\":0.7},\"fill_color\":{\"value\":\"#4daf4a\"},\"line_alpha\":{\"value\":0.7},\"line_color\":{\"value\":\"#4daf4a\"},\"x\":{\"field\":\"x\"},\"y\":{\"field\":\"y\"}},\"id\":\"aaef36a9-eb3f-4437-a358-a79808651d43\",\"type\":\"Circle\"},{\"attributes\":{\"tools\":[{\"id\":\"10af942c-d702-4768-8637-feba04d00984\",\"type\":\"PanTool\"},{\"id\":\"6a4b4aaf-1dca-495d-b7bd-b30827119de7\",\"type\":\"WheelZoomTool\"},{\"id\":\"75168406-5d4d-45ce-be64-1b4a779bd2aa\",\"type\":\"BoxZoomTool\"},{\"id\":\"14227797-f7c6-4a11-9ddb-d046778a081b\",\"type\":\"SaveTool\"},{\"id\":\"016fc256-0c29-4fac-b7d0-edb975202934\",\"type\":\"ResetTool\"},{\"id\":\"ea0a76e6-c61b-437f-b278-77b8ced38bfc\",\"type\":\"HelpTool\"},{\"id\":\"a69c0ba0-847b-4d82-9461-f806d0a4d843\",\"type\":\"PanTool\"},{\"id\":\"af468541-c3ab-4f91-9a27-ddfd7df51131\",\"type\":\"WheelZoomTool\"},{\"id\":\"799332bb-082f-475a-bfc9-5bdbe603deb9\",\"type\":\"BoxZoomTool\"},{\"id\":\"8e5b5861-89b1-4f4f-8f69-0d673d5d14ff\",\"type\":\"SaveTool\"},{\"id\":\"cf6b374f-a4f7-4f24-88b6-12505a6db1dc\",\"type\":\"ResetTool\"},{\"id\":\"e6172d93-98da-456f-af5b-279e2906c628\",\"type\":\"HelpTool\"}]},\"id\":\"f93b797f-dbf4-4dc1-bba5-17d119ffc31a\",\"type\":\"ProxyToolbar\"},{\"attributes\":{\"data_source\":{\"id\":\"277d2f60-cbac-466b-9fcc-17867c4459bc\",\"type\":\"ColumnDataSource\"},\"glyph\":{\"id\":\"eb613489-d900-4bb2-96b2-9cf37f5ac1d8\",\"type\":\"Circle\"},\"hover_glyph\":null,\"muted_glyph\":null,\"nonselection_glyph\":{\"id\":\"96d4cf11-9de0-40e6-b834-ec1838f6b1df\",\"type\":\"Circle\"},\"selection_glyph\":null,\"view\":{\"id\":\"ddd56157-c7d9-4ffe-8638-6183c47ae307\",\"type\":\"CDSView\"}},\"id\":\"40969c04-6b0e-4601-b69a-c920e3781fac\",\"type\":\"GlyphRenderer\"},{\"attributes\":{\"toolbar\":{\"id\":\"f93b797f-dbf4-4dc1-bba5-17d119ffc31a\",\"type\":\"ProxyToolbar\"},\"toolbar_location\":\"above\"},\"id\":\"814204f4-2da6-4e08-b16a-17fd6c050335\",\"type\":\"ToolbarBox\"},{\"attributes\":{\"bottom_units\":\"screen\",\"fill_alpha\":{\"value\":0.5},\"fill_color\":{\"value\":\"lightgrey\"},\"left_units\":\"screen\",\"level\":\"overlay\",\"line_alpha\":{\"value\":1.0},\"line_color\":{\"value\":\"black\"},\"line_dash\":[4,4],\"line_width\":{\"value\":2},\"plot\":null,\"render_mode\":\"css\",\"right_units\":\"screen\",\"top_units\":\"screen\"},\"id\":\"3b0c91fb-91f1-4b67-a69f-9f130c419953\",\"type\":\"BoxAnnotation\"},{\"attributes\":{},\"id\":\"b4fd58a4-cf47-4b8c-b894-f4b1fa8ddeb1\",\"type\":\"LinearScale\"},{\"attributes\":{\"below\":[{\"id\":\"3929bcd3-def2-4dc6-a7a4-7c4ef1b14921\",\"type\":\"LinearAxis\"}],\"left\":[{\"id\":\"be855a53-f224-4e41-9b91-3394001df14c\",\"type\":\"LinearAxis\"}],\"plot_height\":500,\"plot_width\":400,\"renderers\":[{\"id\":\"3929bcd3-def2-4dc6-a7a4-7c4ef1b14921\",\"type\":\"LinearAxis\"},{\"id\":\"bc30ad48-7a5e-4d82-b3e5-0f6f50cbe8d8\",\"type\":\"Grid\"},{\"id\":\"be855a53-f224-4e41-9b91-3394001df14c\",\"type\":\"LinearAxis\"},{\"id\":\"9203eac2-9ddd-4749-81de-e191f4a59b37\",\"type\":\"Grid\"},{\"id\":\"3b0c91fb-91f1-4b67-a69f-9f130c419953\",\"type\":\"BoxAnnotation\"},{\"id\":\"1b74bed4-9413-4755-af04-300f80523e15\",\"type\":\"GlyphRenderer\"},{\"id\":\"40969c04-6b0e-4601-b69a-c920e3781fac\",\"type\":\"GlyphRenderer\"},{\"id\":\"c3deecf7-1604-4b7d-91d4-bcb09a393440\",\"type\":\"GlyphRenderer\"},{\"id\":\"161cd8ca-9ba6-4dd6-a35f-708f02eec939\",\"type\":\"GlyphRenderer\"},{\"id\":\"5f0d59a3-4be7-4b8c-85c4-2ab4f26d39c7\",\"type\":\"GlyphRenderer\"}],\"title\":{\"id\":\"9ab0206b-bafe-44bc-bf65-e15126cf8a4c\",\"type\":\"Title\"},\"toolbar\":{\"id\":\"d542db50-a7af-4a9d-a949-9fc72becd31a\",\"type\":\"Toolbar\"},\"toolbar_location\":null,\"x_range\":{\"id\":\"ebb65336-589c-45bb-b39a-acc129d28bf3\",\"type\":\"Range1d\"},\"x_scale\":{\"id\":\"b4fd58a4-cf47-4b8c-b894-f4b1fa8ddeb1\",\"type\":\"LinearScale\"},\"y_range\":{\"id\":\"55b911fb-66be-40d4-9597-d2129a14adea\",\"type\":\"Range1d\"},\"y_scale\":{\"id\":\"d3fbaaa6-e0ba-488f-9c69-f4ed5843a6ce\",\"type\":\"LinearScale\"}},\"id\":\"33278ea7-3ef8-4e9f-941f-714bc80a8ef8\",\"subtype\":\"Figure\",\"type\":\"Plot\"},{\"attributes\":{},\"id\":\"6a4b4aaf-1dca-495d-b7bd-b30827119de7\",\"type\":\"WheelZoomTool\"},{\"attributes\":{\"axis_label\":\"cooling rate [K/day]\",\"formatter\":{\"id\":\"98c94215-9e23-4533-89d9-e427fdd6dfcd\",\"type\":\"BasicTickFormatter\"},\"plot\":{\"id\":\"33278ea7-3ef8-4e9f-941f-714bc80a8ef8\",\"subtype\":\"Figure\",\"type\":\"Plot\"},\"ticker\":{\"id\":\"98985c11-8f8c-47df-84b9-7c6f19ed0354\",\"type\":\"BasicTicker\"}},\"id\":\"3929bcd3-def2-4dc6-a7a4-7c4ef1b14921\",\"type\":\"LinearAxis\"},{\"attributes\":{\"axis_label\":\"pressure [mb]\",\"formatter\":{\"id\":\"fea67c6a-e12e-4b3f-ab76-2d6e7cea7ecd\",\"type\":\"BasicTickFormatter\"},\"plot\":{\"id\":\"33278ea7-3ef8-4e9f-941f-714bc80a8ef8\",\"subtype\":\"Figure\",\"type\":\"Plot\"},\"ticker\":{\"id\":\"735b5c78-a4dd-435e-bd58-add373158a3d\",\"type\":\"BasicTicker\"}},\"id\":\"be855a53-f224-4e41-9b91-3394001df14c\",\"type\":\"LinearAxis\"},{\"attributes\":{\"fill_alpha\":{\"value\":0.1},\"fill_color\":{\"value\":\"#1f77b4\"},\"line_alpha\":{\"value\":0.1},\"line_color\":{\"value\":\"#1f77b4\"},\"x\":{\"field\":\"x\"},\"y\":{\"field\":\"y\"}},\"id\":\"4a4b7612-136d-4aad-8430-7ea58247bde6\",\"type\":\"Circle\"},{\"attributes\":{\"callback\":null,\"data\":{\"x\":{\"__ndarray__\":\"Z3Hby3H/or/8ZO04Q0alvztjuyLIpqm/aEkQRp3Nrb+rF0bxX92wv6IfffuJtrK/iO+6OqRxtL8dXq1m3w22v83EpxL7ire/d/BxeNHvuL+RQ6O/wEG6vw3ZBg9Phru/VLdIFDnIvL8dhuLQU8u9vyy7P2Lk+ry/3cYiKq3vtL/7+qMOJVZIv/NubkTej8E/wVNMzh7i1T8OvzhEHvnjP9CZ9sWM7e8/A0AVN27x9j9JGjeQiU/7P5AhW/FoHvs/Pk7ivbRy+D/0tA3trXLzPzfVxTOJtus/iCfDChqn4j+gwejqdSjYPxGoYWzfK8c/W1V13fserL9HrXKZgafRv4V+ARgqGt2/Gh0tWsKS4b+8bWyXsoPgv4x+G/+RK9a/MYqzXBUsxr+Qs5cKffK7v8E23RC1/ba/JxxHmuJrs78VKbOSbZiwv8NzM/+P46u/GTtv0E9Sp7+BOEyKSHqjvxcwUyOMUKC/H7Prkvx+m7/J4DWjdw6Xv3NvnBmf95K/px30KDmAjr/AZ3LRk6mHv66d1pxk7IC/6amrRT8vdL+B3xsP6qVYv22uqRK2tmA/ZzdeMQ+Pdz/3CpJM/MmDP/21+dXVSow/mfhhjGGxkj8v55HAmI2XP2Izg6LA1Zw/agevn/ZCoT+IDQzcXiukP8XcqxIJ/6Y/2HAAGRSvqj+Wo7bDFQauP2XrFgqjnLA/wMB2p3BBsj9hiSPpfHOzPwFjqzt+vrQ/vc6uxAFJtj/J4Ibqdg64P8RMLgjdDLo/3gAz38FPvD9nsJBWCO2+P27EUcH6IsE/\",\"dtype\":\"float64\",\"shape\":[75]},\"y\":{\"__ndarray__\":\"GhExyth1ND/Sv8nbtpRIP2vylNV0PVE/aTum7souWD/At0SJ8fVgPw3Iuahxymc/MSNhhJWvcD/bTfBN02d3P2zb5nxnaoA/CD5h5MAGhz8NmeH1TyaQP+zrCsc9p5Y/LbKd76fGnz/bLW5ISEmmPww9YvTcQq8/JV2OstnstT8Er5Y7M8G+P0c+r3jqkcU/5h99k6ZBzj88bCIzFzjVP4enV8oyxN0//yH99nXg5D8qOpLLf0jtP5kqGJXUifQ/c9cS8kHP/D+/DpwzojQEQIEmwoanVwxA4lgXt9HgE0BSSZ2AJuIbQAMJih9jjiNA5q4l5INuK0AwTKYKRj0zQNv5fmq8/DpAaCJseHrtQkB/+zpwzoxKQM3MzMzMeFJAZmZmZmZqWEAAAAAAAFxeQM3MzMzMJmJAmpmZmZkfZUBmZmZmZhhoQDMzMzMzEWtAAAAAAAAKbkBmZmZmZoFwQM3MzMzM/XFAMzMzMzN6c0CamZmZmfZ0QAAAAAAAc3ZAZmZmZmbvd0DNzMzMzGt5QDMzMzMz6HpAmpmZmZlkfEAAAAAAAOF9QGZmZmZmXX9AZmZmZuZsgECamZmZGSuBQM3MzMxM6YFAAAAAAICngkAzMzMzs2WDQGZmZmbmI4RAmpmZmRnihEDNzMzMTKCFQAAAAACAXoZAMzMzM7Mch0BmZmZm5tqHQJqZmZkZmYhAzczMzExXiUAAAAAAgBWKQDMzMzOz04pAZmZmZuaRi0CamZmZGVCMQM3MzMxMDo1AAAAAAIDMjUAzMzMzs4qOQGZmZmbmSI9A\",\"dtype\":\"float64\",\"shape\":[75]}},\"selected\":{\"id\":\"542af74a-742b-495b-8797-cd8d68e709d8\",\"type\":\"Selection\"},\"selection_policy\":{\"id\":\"d2b02cc8-b6b3-4399-af1b-51681a7784e9\",\"type\":\"UnionRenderers\"}},\"id\":\"277d2f60-cbac-466b-9fcc-17867c4459bc\",\"type\":\"ColumnDataSource\"},{\"attributes\":{\"callback\":null,\"data\":{\"x\":{\"__ndarray__\":\"Z3Hby3H/or/8ZO04Q0alvztjuyLIpqm/aEkQRp3Nrb+rF0bxX92wv6IfffuJtrK/iO+6OqRxtL8dXq1m3w22v83EpxL7ire/d/BxeNHvuL+RQ6O/wEG6vw3ZBg9Phru/VLdIFDnIvL8dhuLQU8u9vyy7P2Lk+ry/3cYiKq3vtL/7+qMOJVZIv/NubkTej8E/wVNMzh7i1T8OvzhEHvnjP9CZ9sWM7e8/A0AVN27x9j9JGjeQiU/7P5AhW/FoHvs/Pk7ivbRy+D/0tA3trXLzPzfVxTOJtus/iCfDChqn4j+gwejqdSjYPxGoYWzfK8c/W1V13fserL9HrXKZgafRv4V+ARgqGt2/Gh0tWsKS4b+8bWyXsoPgv4x+G/+RK9a/MYqzXBUsxr+Qs5cKffK7v8E23RC1/ba/JxxHmuJrs78VKbOSbZiwv8NzM/+P46u/GTtv0E9Sp7+BOEyKSHqjvxcwUyOMUKC/H7Prkvx+m7/J4DWjdw6Xv3NvnBmf95K/px30KDmAjr/AZ3LRk6mHv66d1pxk7IC/6amrRT8vdL+B3xsP6qVYv22uqRK2tmA/ZzdeMQ+Pdz/3CpJM/MmDP/21+dXVSow/mfhhjGGxkj8v55HAmI2XP2Izg6LA1Zw/agevn/ZCoT+IDQzcXiukP8XcqxIJ/6Y/2HAAGRSvqj+Wo7bDFQauP2XrFgqjnLA/wMB2p3BBsj9hiSPpfHOzPwFjqzt+vrQ/vc6uxAFJtj/J4Ibqdg64P8RMLgjdDLo/3gAz38FPvD9nsJBWCO2+P27EUcH6IsE/\",\"dtype\":\"float64\",\"shape\":[75]},\"y\":{\"__ndarray__\":\"GhExyth1ND/Sv8nbtpRIP2vylNV0PVE/aTum7souWD/At0SJ8fVgPw3Iuahxymc/MSNhhJWvcD/bTfBN02d3P2zb5nxnaoA/CD5h5MAGhz8NmeH1TyaQP+zrCsc9p5Y/LbKd76fGnz/bLW5ISEmmPww9YvTcQq8/JV2OstnstT8Er5Y7M8G+P0c+r3jqkcU/5h99k6ZBzj88bCIzFzjVP4enV8oyxN0//yH99nXg5D8qOpLLf0jtP5kqGJXUifQ/c9cS8kHP/D+/DpwzojQEQIEmwoanVwxA4lgXt9HgE0BSSZ2AJuIbQAMJih9jjiNA5q4l5INuK0AwTKYKRj0zQNv5fmq8/DpAaCJseHrtQkB/+zpwzoxKQM3MzMzMeFJAZmZmZmZqWEAAAAAAAFxeQM3MzMzMJmJAmpmZmZkfZUBmZmZmZhhoQDMzMzMzEWtAAAAAAAAKbkBmZmZmZoFwQM3MzMzM/XFAMzMzMzN6c0CamZmZmfZ0QAAAAAAAc3ZAZmZmZmbvd0DNzMzMzGt5QDMzMzMz6HpAmpmZmZlkfEAAAAAAAOF9QGZmZmZmXX9AZmZmZuZsgECamZmZGSuBQM3MzMxM6YFAAAAAAICngkAzMzMzs2WDQGZmZmbmI4RAmpmZmRnihEDNzMzMTKCFQAAAAACAXoZAMzMzM7Mch0BmZmZm5tqHQJqZmZkZmYhAzczMzExXiUAAAAAAgBWKQDMzMzOz04pAZmZmZuaRi0CamZmZGVCMQM3MzMxMDo1AAAAAAIDMjUAzMzMzs4qOQGZmZmbmSI9A\",\"dtype\":\"float64\",\"shape\":[75]}},\"selected\":{\"id\":\"f857c0d1-69df-4f67-ab55-ec18dfdd5469\",\"type\":\"Selection\"},\"selection_policy\":{\"id\":\"b9214ee7-a7b2-43fd-8b85-b3ff06b2c972\",\"type\":\"UnionRenderers\"}},\"id\":\"ec1ab445-d083-4b76-9615-36e5f0d1d247\",\"type\":\"ColumnDataSource\"},{\"attributes\":{\"callback\":null,\"end\":0.01,\"start\":1020},\"id\":\"55b911fb-66be-40d4-9597-d2129a14adea\",\"type\":\"Range1d\"},{\"attributes\":{\"data_source\":{\"id\":\"ec1ab445-d083-4b76-9615-36e5f0d1d247\",\"type\":\"ColumnDataSource\"},\"glyph\":{\"id\":\"aaef36a9-eb3f-4437-a358-a79808651d43\",\"type\":\"Circle\"},\"hover_glyph\":null,\"muted_glyph\":null,\"nonselection_glyph\":{\"id\":\"4a4b7612-136d-4aad-8430-7ea58247bde6\",\"type\":\"Circle\"},\"selection_glyph\":null,\"view\":{\"id\":\"0601d067-7bdb-4be6-b0de-89ddefefa0b1\",\"type\":\"CDSView\"}},\"id\":\"e2f08281-f229-4f75-ac7a-771859b63a5a\",\"type\":\"GlyphRenderer\"},{\"attributes\":{\"plot\":null,\"text\":\"Linear pressure scale\"},\"id\":\"9ab0206b-bafe-44bc-bf65-e15126cf8a4c\",\"type\":\"Title\"},{\"attributes\":{\"callback\":null,\"end\":1.7300186125,\"start\":-0.6262132625},\"id\":\"e40feac6-2a1b-4672-9cb0-fffce23be86b\",\"type\":\"Range1d\"},{\"attributes\":{\"dimension\":1,\"plot\":{\"id\":\"33278ea7-3ef8-4e9f-941f-714bc80a8ef8\",\"subtype\":\"Figure\",\"type\":\"Plot\"},\"ticker\":{\"id\":\"735b5c78-a4dd-435e-bd58-add373158a3d\",\"type\":\"BasicTicker\"}},\"id\":\"9203eac2-9ddd-4749-81de-e191f4a59b37\",\"type\":\"Grid\"},{\"attributes\":{\"callback\":null,\"end\":0.1582002931,\"start\":-0.5929729031},\"id\":\"ebb65336-589c-45bb-b39a-acc129d28bf3\",\"type\":\"Range1d\"},{\"attributes\":{},\"id\":\"d3fbaaa6-e0ba-488f-9c69-f4ed5843a6ce\",\"type\":\"LinearScale\"},{\"attributes\":{},\"id\":\"98985c11-8f8c-47df-84b9-7c6f19ed0354\",\"type\":\"BasicTicker\"},{\"attributes\":{\"line_alpha\":0.6,\"line_color\":\"#e41a1c\",\"line_dash\":[6],\"line_width\":5,\"x\":{\"field\":\"x\"},\"y\":{\"field\":\"y\"}},\"id\":\"18ca8f90-3837-4e12-a414-8ffb3b2b2c80\",\"type\":\"Line\"},{\"attributes\":{\"callback\":null,\"data\":{\"x\":{\"__ndarray__\":\"Z3Hby3H/or/8ZO04Q0alvztjuyLIpqm/aEkQRp3Nrb+rF0bxX92wv6IfffuJtrK/iO+6OqRxtL8dXq1m3w22v83EpxL7ire/d/BxeNHvuL+RQ6O/wEG6vw3ZBg9Phru/VLdIFDnIvL8dhuLQU8u9vyy7P2Lk+ry/3cYiKq3vtL/7+qMOJVZIv/NubkTej8E/wVNMzh7i1T8OvzhEHvnjP9CZ9sWM7e8/A0AVN27x9j9JGjeQiU/7P5AhW/FoHvs/Pk7ivbRy+D/0tA3trXLzPzfVxTOJtus/iCfDChqn4j+gwejqdSjYPxGoYWzfK8c/W1V13fserL9HrXKZgafRv4V+ARgqGt2/Gh0tWsKS4b+8bWyXsoPgv4x+G/+RK9a/MYqzXBUsxr+Qs5cKffK7v8E23RC1/ba/JxxHmuJrs78VKbOSbZiwv8NzM/+P46u/GTtv0E9Sp7+BOEyKSHqjvxcwUyOMUKC/H7Prkvx+m7/J4DWjdw6Xv3NvnBmf95K/px30KDmAjr/AZ3LRk6mHv66d1pxk7IC/6amrRT8vdL+B3xsP6qVYv22uqRK2tmA/ZzdeMQ+Pdz/3CpJM/MmDP/21+dXVSow/mfhhjGGxkj8v55HAmI2XP2Izg6LA1Zw/agevn/ZCoT+IDQzcXiukP8XcqxIJ/6Y/2HAAGRSvqj+Wo7bDFQauP2XrFgqjnLA/wMB2p3BBsj9hiSPpfHOzPwFjqzt+vrQ/vc6uxAFJtj/J4Ibqdg64P8RMLgjdDLo/3gAz38FPvD9nsJBWCO2+P27EUcH6IsE/\",\"dtype\":\"float64\",\"shape\":[75]},\"y\":{\"__ndarray__\":\"GhExyth1ND/Sv8nbtpRIP2vylNV0PVE/aTum7souWD/At0SJ8fVgPw3Iuahxymc/MSNhhJWvcD/bTfBN02d3P2zb5nxnaoA/CD5h5MAGhz8NmeH1TyaQP+zrCsc9p5Y/LbKd76fGnz/bLW5ISEmmPww9YvTcQq8/JV2OstnstT8Er5Y7M8G+P0c+r3jqkcU/5h99k6ZBzj88bCIzFzjVP4enV8oyxN0//yH99nXg5D8qOpLLf0jtP5kqGJXUifQ/c9cS8kHP/D+/DpwzojQEQIEmwoanVwxA4lgXt9HgE0BSSZ2AJuIbQAMJih9jjiNA5q4l5INuK0AwTKYKRj0zQNv5fmq8/DpAaCJseHrtQkB/+zpwzoxKQM3MzMzMeFJAZmZmZmZqWEAAAAAAAFxeQM3MzMzMJmJAmpmZmZkfZUBmZmZmZhhoQDMzMzMzEWtAAAAAAAAKbkBmZmZmZoFwQM3MzMzM/XFAMzMzMzN6c0CamZmZmfZ0QAAAAAAAc3ZAZmZmZmbvd0DNzMzMzGt5QDMzMzMz6HpAmpmZmZlkfEAAAAAAAOF9QGZmZmZmXX9AZmZmZuZsgECamZmZGSuBQM3MzMxM6YFAAAAAAICngkAzMzMzs2WDQGZmZmbmI4RAmpmZmRnihEDNzMzMTKCFQAAAAACAXoZAMzMzM7Mch0BmZmZm5tqHQJqZmZkZmYhAzczMzExXiUAAAAAAgBWKQDMzMzOz04pAZmZmZuaRi0CamZmZGVCMQM3MzMxMDo1AAAAAAIDMjUAzMzMzs4qOQGZmZmbmSI9A\",\"dtype\":\"float64\",\"shape\":[75]}},\"selected\":{\"id\":\"f2186e25-2263-4fe8-8163-af887ba08ca7\",\"type\":\"Selection\"},\"selection_policy\":{\"id\":\"a3d493c0-9d77-4927-a527-a5a64c6c65c8\",\"type\":\"UnionRenderers\"}},\"id\":\"9ccc75c5-9da4-4f6b-ab54-31bba2e8b226\",\"type\":\"ColumnDataSource\"},{\"attributes\":{\"plot\":{\"id\":\"33278ea7-3ef8-4e9f-941f-714bc80a8ef8\",\"subtype\":\"Figure\",\"type\":\"Plot\"},\"ticker\":{\"id\":\"98985c11-8f8c-47df-84b9-7c6f19ed0354\",\"type\":\"BasicTicker\"}},\"id\":\"bc30ad48-7a5e-4d82-b3e5-0f6f50cbe8d8\",\"type\":\"Grid\"},{\"attributes\":{\"source\":{\"id\":\"ec1ab445-d083-4b76-9615-36e5f0d1d247\",\"type\":\"ColumnDataSource\"}},\"id\":\"0601d067-7bdb-4be6-b0de-89ddefefa0b1\",\"type\":\"CDSView\"},{\"attributes\":{\"source\":{\"id\":\"c6329410-4818-47e7-afad-1adb3ba8b180\",\"type\":\"ColumnDataSource\"}},\"id\":\"cf92fcb4-e2e3-4a39-9ea7-84871ddb973f\",\"type\":\"CDSView\"},{\"attributes\":{\"source\":{\"id\":\"83b17278-e817-4a76-aeee-bc624ddbd38d\",\"type\":\"ColumnDataSource\"}},\"id\":\"d9c63ab8-de94-4809-8558-6497bb635e50\",\"type\":\"CDSView\"}],\"root_ids\":[\"59b3abea-c10c-4dcb-8604-3628a731423e\"]},\"title\":\"Bokeh Application\",\"version\":\"0.12.16\"}};\n",
       "  var render_items = [{\"docid\":\"5e11cb57-fa16-4782-91a5-dd2e8bcf87da\",\"elementid\":\"714f622d-d222-4c88-bb91-d18e3d2aba6c\",\"modelid\":\"59b3abea-c10c-4dcb-8604-3628a731423e\"}];\n",
       "  root.Bokeh.embed.embed_items_notebook(docs_json, render_items);\n",
       "\n",
       "  }\n",
       "  if (root.Bokeh !== undefined) {\n",
       "    embed_document(root);\n",
       "  } else {\n",
       "    var attempts = 0;\n",
       "    var timer = setInterval(function(root) {\n",
       "      if (root.Bokeh !== undefined) {\n",
       "        embed_document(root);\n",
       "        clearInterval(timer);\n",
       "      }\n",
       "      attempts++;\n",
       "      if (attempts > 100) {\n",
       "        console.log(\"Bokeh: ERROR: Unable to run BokehJS code because BokehJS library is missing\")\n",
       "        clearInterval(timer);\n",
       "      }\n",
       "    }, 10, root)\n",
       "  }\n",
       "})(window);"
      ],
      "application/vnd.bokehjs_exec.v0+json": ""
     },
     "metadata": {
      "application/vnd.bokehjs_exec.v0+json": {
       "id": "59b3abea-c10c-4dcb-8604-3628a731423e"
      }
     },
     "output_type": "display_data"
    },
    {
     "name": "stdout",
     "output_type": "stream",
     "text": [
      "FIGURE. Cooling rate profiles.\n"
     ]
    },
    {
     "data": {
      "text/html": [
       "<a id=\"Flux_Comparison\"></a>"
      ],
      "text/plain": [
       "<IPython.core.display.HTML object>"
      ]
     },
     "metadata": {},
     "output_type": "display_data"
    },
    {
     "data": {
      "text/markdown": [
       "# Flux Comparison"
      ],
      "text/plain": [
       "<IPython.core.display.Markdown object>"
      ]
     },
     "metadata": {},
     "output_type": "display_data"
    },
    {
     "data": {
      "text/html": [
       "<div>\n",
       "<style scoped>\n",
       "    .dataframe tbody tr th:only-of-type {\n",
       "        vertical-align: middle;\n",
       "    }\n",
       "\n",
       "    .dataframe tbody tr th {\n",
       "        vertical-align: top;\n",
       "    }\n",
       "\n",
       "    .dataframe thead th {\n",
       "        text-align: right;\n",
       "    }\n",
       "</style>\n",
       "<table border=\"1\" class=\"dataframe\">\n",
       "  <thead>\n",
       "    <tr style=\"text-align: right;\">\n",
       "      <th></th>\n",
       "      <th></th>\n",
       "      <th>flug</th>\n",
       "      <th>fldg</th>\n",
       "      <th>fnetg</th>\n",
       "    </tr>\n",
       "    <tr>\n",
       "      <th>pressure</th>\n",
       "      <th>level</th>\n",
       "      <th></th>\n",
       "      <th></th>\n",
       "      <th></th>\n",
       "    </tr>\n",
       "  </thead>\n",
       "  <tbody>\n",
       "    <tr>\n",
       "      <th>0.0000</th>\n",
       "      <th>1</th>\n",
       "      <td>-26.517507</td>\n",
       "      <td>0.000000</td>\n",
       "      <td>-26.517507</td>\n",
       "    </tr>\n",
       "    <tr>\n",
       "      <th>1.0685</th>\n",
       "      <th>24</th>\n",
       "      <td>-26.516394</td>\n",
       "      <td>0.127650</td>\n",
       "      <td>-26.388745</td>\n",
       "    </tr>\n",
       "    <tr>\n",
       "      <th>1013.0000</th>\n",
       "      <th>76</th>\n",
       "      <td>-34.728642</td>\n",
       "      <td>6.800577</td>\n",
       "      <td>-27.928065</td>\n",
       "    </tr>\n",
       "  </tbody>\n",
       "</table>\n",
       "</div>"
      ],
      "text/plain": [
       "                      flug      fldg      fnetg\n",
       "pressure  level                                \n",
       "0.0000    1     -26.517507  0.000000 -26.517507\n",
       "1.0685    24    -26.516394  0.127650 -26.388745\n",
       "1013.0000 76    -34.728642  6.800577 -27.928065"
      ]
     },
     "metadata": {},
     "output_type": "display_data"
    },
    {
     "name": "stdout",
     "output_type": "stream",
     "text": [
      "Table. Fluxes. CRD\n"
     ]
    },
    {
     "data": {
      "text/html": [
       "<div>\n",
       "<style scoped>\n",
       "    .dataframe tbody tr th:only-of-type {\n",
       "        vertical-align: middle;\n",
       "    }\n",
       "\n",
       "    .dataframe tbody tr th {\n",
       "        vertical-align: top;\n",
       "    }\n",
       "\n",
       "    .dataframe thead th {\n",
       "        text-align: right;\n",
       "    }\n",
       "</style>\n",
       "<table border=\"1\" class=\"dataframe\">\n",
       "  <thead>\n",
       "    <tr style=\"text-align: right;\">\n",
       "      <th></th>\n",
       "      <th></th>\n",
       "      <th>flug</th>\n",
       "      <th>fldg</th>\n",
       "      <th>fnetg</th>\n",
       "    </tr>\n",
       "    <tr>\n",
       "      <th>pressure</th>\n",
       "      <th>level</th>\n",
       "      <th></th>\n",
       "      <th></th>\n",
       "      <th></th>\n",
       "    </tr>\n",
       "  </thead>\n",
       "  <tbody>\n",
       "    <tr>\n",
       "      <th>0.0000</th>\n",
       "      <th>1</th>\n",
       "      <td>-26.385022</td>\n",
       "      <td>0.000000</td>\n",
       "      <td>-26.385022</td>\n",
       "    </tr>\n",
       "    <tr>\n",
       "      <th>1.0685</th>\n",
       "      <th>24</th>\n",
       "      <td>-26.382476</td>\n",
       "      <td>0.121016</td>\n",
       "      <td>-26.261460</td>\n",
       "    </tr>\n",
       "    <tr>\n",
       "      <th>1013.0000</th>\n",
       "      <th>76</th>\n",
       "      <td>-34.728642</td>\n",
       "      <td>6.964903</td>\n",
       "      <td>-27.763739</td>\n",
       "    </tr>\n",
       "  </tbody>\n",
       "</table>\n",
       "</div>"
      ],
      "text/plain": [
       "                      flug      fldg      fnetg\n",
       "pressure  level                                \n",
       "0.0000    1     -26.385022  0.000000 -26.385022\n",
       "1.0685    24    -26.382476  0.121016 -26.261460\n",
       "1013.0000 76    -34.728642  6.964903 -27.763739"
      ]
     },
     "metadata": {},
     "output_type": "display_data"
    },
    {
     "name": "stdout",
     "output_type": "stream",
     "text": [
      "Table. Fluxes. WGT igg=10 wgt_flux=1\n"
     ]
    },
    {
     "data": {
      "text/html": [
       "<div>\n",
       "<style scoped>\n",
       "    .dataframe tbody tr th:only-of-type {\n",
       "        vertical-align: middle;\n",
       "    }\n",
       "\n",
       "    .dataframe tbody tr th {\n",
       "        vertical-align: top;\n",
       "    }\n",
       "\n",
       "    .dataframe thead th {\n",
       "        text-align: right;\n",
       "    }\n",
       "</style>\n",
       "<table border=\"1\" class=\"dataframe\">\n",
       "  <thead>\n",
       "    <tr style=\"text-align: right;\">\n",
       "      <th></th>\n",
       "      <th></th>\n",
       "      <th>flug</th>\n",
       "      <th>fldg</th>\n",
       "      <th>fnetg</th>\n",
       "    </tr>\n",
       "    <tr>\n",
       "      <th>pressure</th>\n",
       "      <th>level</th>\n",
       "      <th></th>\n",
       "      <th></th>\n",
       "      <th></th>\n",
       "    </tr>\n",
       "  </thead>\n",
       "  <tbody>\n",
       "    <tr>\n",
       "      <th>1.000000e-08</th>\n",
       "      <th>1</th>\n",
       "      <td>-26.271640</td>\n",
       "      <td>0.000002</td>\n",
       "      <td>-26.271638</td>\n",
       "    </tr>\n",
       "    <tr>\n",
       "      <th>1.068500e+00</th>\n",
       "      <th>24</th>\n",
       "      <td>-26.268134</td>\n",
       "      <td>0.113351</td>\n",
       "      <td>-26.154783</td>\n",
       "    </tr>\n",
       "    <tr>\n",
       "      <th>1.013000e+03</th>\n",
       "      <th>76</th>\n",
       "      <td>-34.728640</td>\n",
       "      <td>6.858192</td>\n",
       "      <td>-27.870448</td>\n",
       "    </tr>\n",
       "  </tbody>\n",
       "</table>\n",
       "</div>"
      ],
      "text/plain": [
       "                         flug      fldg      fnetg\n",
       "pressure     level                                \n",
       "1.000000e-08 1     -26.271640  0.000002 -26.271638\n",
       "1.068500e+00 24    -26.268134  0.113351 -26.154783\n",
       "1.013000e+03 76    -34.728640  6.858192 -27.870448"
      ]
     },
     "metadata": {},
     "output_type": "display_data"
    },
    {
     "name": "stdout",
     "output_type": "stream",
     "text": [
      "Table. Fluxes. CLIRAD\n"
     ]
    },
    {
     "data": {
      "text/html": [
       "<div>\n",
       "<style scoped>\n",
       "    .dataframe tbody tr th:only-of-type {\n",
       "        vertical-align: middle;\n",
       "    }\n",
       "\n",
       "    .dataframe tbody tr th {\n",
       "        vertical-align: top;\n",
       "    }\n",
       "\n",
       "    .dataframe thead th {\n",
       "        text-align: right;\n",
       "    }\n",
       "</style>\n",
       "<table border=\"1\" class=\"dataframe\">\n",
       "  <thead>\n",
       "    <tr style=\"text-align: right;\">\n",
       "      <th></th>\n",
       "      <th></th>\n",
       "      <th>flug</th>\n",
       "      <th>fldg</th>\n",
       "      <th>fnetg</th>\n",
       "    </tr>\n",
       "    <tr>\n",
       "      <th>pressure</th>\n",
       "      <th>level</th>\n",
       "      <th></th>\n",
       "      <th></th>\n",
       "      <th></th>\n",
       "    </tr>\n",
       "  </thead>\n",
       "  <tbody>\n",
       "    <tr>\n",
       "      <th>0.0000</th>\n",
       "      <th>1</th>\n",
       "      <td>0.132485</td>\n",
       "      <td>0.000000</td>\n",
       "      <td>0.132485</td>\n",
       "    </tr>\n",
       "    <tr>\n",
       "      <th>1.0685</th>\n",
       "      <th>24</th>\n",
       "      <td>0.133918</td>\n",
       "      <td>-0.006634</td>\n",
       "      <td>0.127285</td>\n",
       "    </tr>\n",
       "    <tr>\n",
       "      <th>1013.0000</th>\n",
       "      <th>76</th>\n",
       "      <td>0.000000</td>\n",
       "      <td>0.164326</td>\n",
       "      <td>0.164326</td>\n",
       "    </tr>\n",
       "  </tbody>\n",
       "</table>\n",
       "</div>"
      ],
      "text/plain": [
       "                     flug      fldg     fnetg\n",
       "pressure  level                              \n",
       "0.0000    1      0.132485  0.000000  0.132485\n",
       "1.0685    24     0.133918 -0.006634  0.127285\n",
       "1013.0000 76     0.000000  0.164326  0.164326"
      ]
     },
     "metadata": {},
     "output_type": "display_data"
    },
    {
     "name": "stdout",
     "output_type": "stream",
     "text": [
      "Table. Fluxes. (WGT igg=10 wgt_flux=1) - (CRD)\n"
     ]
    },
    {
     "data": {
      "text/html": [
       "<div>\n",
       "<style scoped>\n",
       "    .dataframe tbody tr th:only-of-type {\n",
       "        vertical-align: middle;\n",
       "    }\n",
       "\n",
       "    .dataframe tbody tr th {\n",
       "        vertical-align: top;\n",
       "    }\n",
       "\n",
       "    .dataframe thead th {\n",
       "        text-align: right;\n",
       "    }\n",
       "</style>\n",
       "<table border=\"1\" class=\"dataframe\">\n",
       "  <thead>\n",
       "    <tr style=\"text-align: right;\">\n",
       "      <th></th>\n",
       "      <th></th>\n",
       "      <th>flug</th>\n",
       "      <th>fldg</th>\n",
       "      <th>fnetg</th>\n",
       "    </tr>\n",
       "    <tr>\n",
       "      <th>pressure</th>\n",
       "      <th>level</th>\n",
       "      <th></th>\n",
       "      <th></th>\n",
       "      <th></th>\n",
       "    </tr>\n",
       "  </thead>\n",
       "  <tbody>\n",
       "    <tr>\n",
       "      <th>0.0000</th>\n",
       "      <th>1</th>\n",
       "      <td>0.245867</td>\n",
       "      <td>0.000002</td>\n",
       "      <td>0.245869</td>\n",
       "    </tr>\n",
       "    <tr>\n",
       "      <th>1.0685</th>\n",
       "      <th>24</th>\n",
       "      <td>0.248260</td>\n",
       "      <td>-0.014299</td>\n",
       "      <td>0.233962</td>\n",
       "    </tr>\n",
       "    <tr>\n",
       "      <th>1013.0000</th>\n",
       "      <th>76</th>\n",
       "      <td>0.000002</td>\n",
       "      <td>0.057615</td>\n",
       "      <td>0.057617</td>\n",
       "    </tr>\n",
       "  </tbody>\n",
       "</table>\n",
       "</div>"
      ],
      "text/plain": [
       "                     flug      fldg     fnetg\n",
       "pressure  level                              \n",
       "0.0000    1      0.245867  0.000002  0.245869\n",
       "1.0685    24     0.248260 -0.014299  0.233962\n",
       "1013.0000 76     0.000002  0.057615  0.057617"
      ]
     },
     "metadata": {},
     "output_type": "display_data"
    },
    {
     "name": "stdout",
     "output_type": "stream",
     "text": [
      "Table. Fluxes. (CLIRAD) - (CRD)\n"
     ]
    },
    {
     "data": {
      "text/html": [
       "<a id=\"Best-fit_Parameters\"></a>"
      ],
      "text/plain": [
       "<IPython.core.display.HTML object>"
      ]
     },
     "metadata": {},
     "output_type": "display_data"
    },
    {
     "data": {
      "text/markdown": [
       "# Best-fit Parameters"
      ],
      "text/plain": [
       "<IPython.core.display.Markdown object>"
      ]
     },
     "metadata": {},
     "output_type": "display_data"
    },
    {
     "name": "stdout",
     "output_type": "stream",
     "text": [
      "Best-fit values for each (gas, band)\n",
      "------------------------------------\n",
      "o h2o band5\n",
      "  atmpro = mls\n",
      "  band = 5\n",
      "  commitnumber = a06b618\n",
      "  conc = None\n",
      "  dv = 0.001\n",
      "  klin = 1e-24\n",
      "  molecule = h2o\n",
      "  ng_adju = [0]\n",
      "  ng_refs = [3]\n",
      "  nv = 1000\n",
      "  option_compute_btable = 0\n",
      "  option_compute_ktable = 1\n",
      "  option_wgt_flux = 1\n",
      "  option_wgt_k = 1\n",
      "  ref_pts = [(600, 250)]\n",
      "  tsfc = 294\n",
      "  vmax = 1100\n",
      "  vmin = 980\n",
      "  w_diffuse = [(1.66, 1.66, 1.8)]\n",
      "  wgt = [(0.5, 0.55, 0.9)]\n",
      "o o3 band5\n",
      "  atmpro = mls\n",
      "  band = 5\n",
      "  commitnumber = a06b618\n",
      "  conc = None\n",
      "  dv = 0.001\n",
      "  klin = 2e-20\n",
      "  molecule = o3\n",
      "  ng_adju = [0, 0]\n",
      "  ng_refs = [2, 5]\n",
      "  nv = 1000\n",
      "  option_compute_btable = 0\n",
      "  option_compute_ktable = 1\n",
      "  option_wgt_flux = 1\n",
      "  option_wgt_k = 1\n",
      "  ref_pts = [(1, 250), (50, 250)]\n",
      "  tsfc = 294\n",
      "  vmax = 1100\n",
      "  vmin = 980\n",
      "  w_diffuse = [(1.6, 1.75), (1.55, 1.66, 1.7, 1.75, 1.8)]\n",
      "  wgt = [(0.35, 0.6), (0.5, 0.55, 0.7, 0.9, 1.0)]\n"
     ]
    }
   ],
   "source": [
    "script()"
   ]
  },
  {
   "cell_type": "code",
   "execution_count": 13,
   "metadata": {
    "collapsed": true
   },
   "outputs": [
    {
     "data": {
      "text/html": [
       "<script>\n",
       "code_show=true; \n",
       "function code_toggle() {\n",
       " if (code_show){\n",
       " $('div.input').hide();\n",
       " } else {\n",
       " $('div.input').show();\n",
       " }\n",
       " code_show = !code_show\n",
       "} \n",
       "$( document ).ready(code_toggle);\n",
       "</script>\n",
       "<form action=\"javascript:code_toggle()\"><input type=\"submit\" value=\"Click here to toggle on/off the raw code.\"></form>"
      ],
      "text/plain": [
       "<IPython.core.display.HTML object>"
      ]
     },
     "execution_count": 13,
     "metadata": {},
     "output_type": "execute_result"
    }
   ],
   "source": [
    "display.HTML('''<script>\n",
    "code_show=true; \n",
    "function code_toggle() {\n",
    " if (code_show){\n",
    " $('div.input').hide();\n",
    " } else {\n",
    " $('div.input').show();\n",
    " }\n",
    " code_show = !code_show\n",
    "} \n",
    "$( document ).ready(code_toggle);\n",
    "</script>\n",
    "<form action=\"javascript:code_toggle()\"><input type=\"submit\" value=\"Click here to toggle on/off the raw code.\"></form>''')"
   ]
  }
 ],
 "metadata": {
  "kernelspec": {
   "display_name": "Python 3",
   "language": "python",
   "name": "python3"
  },
  "language_info": {
   "codemirror_mode": {
    "name": "ipython",
    "version": 3
   },
   "file_extension": ".py",
   "mimetype": "text/x-python",
   "name": "python",
   "nbconvert_exporter": "python",
   "pygments_lexer": "ipython3",
   "version": "3.6.1"
  }
 },
 "nbformat": 4,
 "nbformat_minor": 2
}
