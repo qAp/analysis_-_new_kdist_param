{
 "cells": [
  {
   "cell_type": "code",
   "execution_count": 1,
   "metadata": {
    "collapsed": true
   },
   "outputs": [],
   "source": [
    "%matplotlib inline\n",
    "import os\n",
    "import re\n",
    "import io\n",
    "import itertools\n",
    "import pprint\n",
    "\n",
    "from bokeh.io import output_notebook, show\n",
    "from bokeh.layouts import gridplot\n",
    "from bokeh.plotting import figure\n",
    "from bokeh.models import Range1d, Legend\n",
    "from bokeh.palettes import all_palettes\n",
    "\n",
    "import matplotlib\n",
    "import matplotlib.pyplot as plt\n",
    "import numpy as np\n",
    "import pandas as pd\n",
    "import xarray as xr\n",
    "\n",
    "import climatools.lblnew.bestfit_params as bestfits\n",
    "from climatools.lblnew import setup_bestfit, setup_overlap\n",
    "import climatools.lblnew.pipeline as pipe_lblnew\n",
    "import climatools.cliradlw.setup as setup_cliradlw\n",
    "import climatools.cliradlw.pipeline as pipe_cliradlw\n",
    "\n",
    "import climatools.html.html as climahtml\n",
    "from climatools.lblnew.dataio import *\n",
    "from climatools.plot.plot import *\n",
    "\n",
    "\n",
    "import IPython.display as display"
   ]
  },
  {
   "cell_type": "code",
   "execution_count": 2,
   "metadata": {
    "collapsed": true
   },
   "outputs": [],
   "source": [
    "%run param.py"
   ]
  },
  {
   "cell_type": "code",
   "execution_count": 3,
   "metadata": {
    "collapsed": true
   },
   "outputs": [],
   "source": [
    "def load_output_file(path_csv):\n",
    "    '''\n",
    "    Load lblnew output .csv file to xarray.Dataset\n",
    "    \n",
    "    Parameters\n",
    "    ----------\n",
    "    path_csv: str\n",
    "              Path to the .csv file to be loaded.\n",
    "    ds: xarray.Dataset\n",
    "        Data in the input file in the form of an xarray.Dataset.\n",
    "    '''\n",
    "    toindex = ['band', 'pressure', 'igg', 'g']    \n",
    "    df = pd.read_csv(path_csv, sep=r'\\s+')\n",
    "    df = df.set_index([i for i in toindex if i in df.columns])\n",
    "    df = df.rename(columns={'sfu': 'flug',\n",
    "                            'sfd': 'fldg',\n",
    "                            'fnet': 'fnetg',\n",
    "                            'coolr': 'coolrg'})\n",
    "    ds = xr.Dataset.from_dataframe(df)\n",
    "\n",
    "    for l in ('level', 'layer'):\n",
    "        if l in ds.data_vars:\n",
    "            if len(ds[l].dims) > 1:\n",
    "                surface = {d: 0 for d in ds.dims if d != 'pressure'}\n",
    "                coord_level = ds[l][surface]\n",
    "                ds.coords[l] = ('pressure', coord_level)\n",
    "            else:\n",
    "                ds.coords[l] = ('pressure', ds[l])\n",
    "    \n",
    "    return ds"
   ]
  },
  {
   "cell_type": "code",
   "execution_count": 4,
   "metadata": {
    "collapsed": true
   },
   "outputs": [],
   "source": [
    "def lblnew_setup(param=None):\n",
    "    if 'ng_refs' in param:\n",
    "        return {'setup': setup_bestfit,\n",
    "                'fname_flux_crd': 'output_flux.dat',\n",
    "                'fname_cool_crd': 'output_coolr.dat',\n",
    "                'fname_flux_wgt': 'output_wfluxg.dat',\n",
    "                'fname_cool_wgt': 'output_wcoolrg.dat'}\n",
    "    else:\n",
    "        return {'setup': setup_overlap,\n",
    "                'fname_flux_crd': 'output_flux.dat',\n",
    "                'fname_cool_crd': 'output_coolr.dat',\n",
    "                'fname_flux_wgt': 'output_wflux.dat',\n",
    "                'fname_cool_wgt': 'output_wcoolr.dat'}\n",
    "\n",
    "    \n",
    "def load_lblnew_data(param):\n",
    "    \n",
    "    fname_dsname = [('fname_flux_crd', 'ds_flux_crd'),\n",
    "                    ('fname_cool_crd', 'ds_cool_crd'),\n",
    "                    ('fname_flux_wgt', 'ds_flux_wgt'),\n",
    "                    ('fname_cool_wgt', 'ds_cool_wgt')]\n",
    "    \n",
    "    d = lblnew_setup(param)\n",
    "    dir_fortran = pipe_lblnew.get_dir_case(param, setup=d['setup'])\n",
    "    \n",
    "    data_dict = {}\n",
    "    for fname, dsname in fname_dsname:\n",
    "        fpath = os.path.join(dir_fortran, d[fname])\n",
    "        data_dict[dsname] = load_output_file(fpath)\n",
    "    return data_dict\n",
    "    \n",
    "\n",
    "    \n",
    "    "
   ]
  },
  {
   "cell_type": "code",
   "execution_count": 5,
   "metadata": {
    "collapsed": true
   },
   "outputs": [],
   "source": [
    "d = load_lblnew_data(PARAM_LBLNEW)\n",
    "\n",
    "DS_FLUX_CRD = d['ds_flux_crd']\n",
    "DS_COOL_CRD = d['ds_cool_crd']\n",
    "DS_FLUX_WGT = d['ds_flux_wgt']\n",
    "DS_COOL_WGT = d['ds_cool_wgt']"
   ]
  },
  {
   "cell_type": "code",
   "execution_count": 6,
   "metadata": {
    "collapsed": true
   },
   "outputs": [],
   "source": [
    "DIR_FORTRAN = pipe_cliradlw.get_fortran_dir(PARAM, \n",
    "                                            setup=setup_cliradlw)\n",
    "\n",
    "PATH_FLUX = os.path.join(DIR_FORTRAN, 'output_flux.dat')\n",
    "PATH_COOL = os.path.join(DIR_FORTRAN, 'output_coolr.dat')\n",
    "\n",
    "DS_FLUX = load_output_file(PATH_FLUX)\n",
    "DS_COOL = load_output_file(PATH_COOL)"
   ]
  },
  {
   "cell_type": "code",
   "execution_count": 7,
   "metadata": {
    "collapsed": true
   },
   "outputs": [
    {
     "data": {
      "text/html": [
       "\n",
       "    <div class=\"bk-root\">\n",
       "        <a href=\"https://bokeh.pydata.org\" target=\"_blank\" class=\"bk-logo bk-logo-small bk-logo-notebook\"></a>\n",
       "        <span id=\"05cb957a-a256-4f9e-86d8-e45f1a3c846a\">Loading BokehJS ...</span>\n",
       "    </div>"
      ]
     },
     "metadata": {},
     "output_type": "display_data"
    },
    {
     "data": {
      "application/javascript": [
       "\n",
       "(function(root) {\n",
       "  function now() {\n",
       "    return new Date();\n",
       "  }\n",
       "\n",
       "  var force = true;\n",
       "\n",
       "  if (typeof (root._bokeh_onload_callbacks) === \"undefined\" || force === true) {\n",
       "    root._bokeh_onload_callbacks = [];\n",
       "    root._bokeh_is_loading = undefined;\n",
       "  }\n",
       "\n",
       "  var JS_MIME_TYPE = 'application/javascript';\n",
       "  var HTML_MIME_TYPE = 'text/html';\n",
       "  var EXEC_MIME_TYPE = 'application/vnd.bokehjs_exec.v0+json';\n",
       "  var CLASS_NAME = 'output_bokeh rendered_html';\n",
       "\n",
       "  /**\n",
       "   * Render data to the DOM node\n",
       "   */\n",
       "  function render(props, node) {\n",
       "    var script = document.createElement(\"script\");\n",
       "    node.appendChild(script);\n",
       "  }\n",
       "\n",
       "  /**\n",
       "   * Handle when an output is cleared or removed\n",
       "   */\n",
       "  function handleClearOutput(event, handle) {\n",
       "    var cell = handle.cell;\n",
       "\n",
       "    var id = cell.output_area._bokeh_element_id;\n",
       "    var server_id = cell.output_area._bokeh_server_id;\n",
       "    // Clean up Bokeh references\n",
       "    if (id !== undefined) {\n",
       "      Bokeh.index[id].model.document.clear();\n",
       "      delete Bokeh.index[id];\n",
       "    }\n",
       "\n",
       "    if (server_id !== undefined) {\n",
       "      // Clean up Bokeh references\n",
       "      var cmd = \"from bokeh.io.state import curstate; print(curstate().uuid_to_server['\" + server_id + \"'].get_sessions()[0].document.roots[0]._id)\";\n",
       "      cell.notebook.kernel.execute(cmd, {\n",
       "        iopub: {\n",
       "          output: function(msg) {\n",
       "            var element_id = msg.content.text.trim();\n",
       "            Bokeh.index[element_id].model.document.clear();\n",
       "            delete Bokeh.index[element_id];\n",
       "          }\n",
       "        }\n",
       "      });\n",
       "      // Destroy server and session\n",
       "      var cmd = \"import bokeh.io.notebook as ion; ion.destroy_server('\" + server_id + \"')\";\n",
       "      cell.notebook.kernel.execute(cmd);\n",
       "    }\n",
       "  }\n",
       "\n",
       "  /**\n",
       "   * Handle when a new output is added\n",
       "   */\n",
       "  function handleAddOutput(event, handle) {\n",
       "    var output_area = handle.output_area;\n",
       "    var output = handle.output;\n",
       "\n",
       "    // limit handleAddOutput to display_data with EXEC_MIME_TYPE content only\n",
       "    if ((output.output_type != \"display_data\") || (!output.data.hasOwnProperty(EXEC_MIME_TYPE))) {\n",
       "      return\n",
       "    }\n",
       "\n",
       "    var toinsert = output_area.element.find(\".\" + CLASS_NAME.split(' ')[0]);\n",
       "\n",
       "    if (output.metadata[EXEC_MIME_TYPE][\"id\"] !== undefined) {\n",
       "      toinsert[toinsert.length - 1].firstChild.textContent = output.data[JS_MIME_TYPE];\n",
       "      // store reference to embed id on output_area\n",
       "      output_area._bokeh_element_id = output.metadata[EXEC_MIME_TYPE][\"id\"];\n",
       "    }\n",
       "    if (output.metadata[EXEC_MIME_TYPE][\"server_id\"] !== undefined) {\n",
       "      var bk_div = document.createElement(\"div\");\n",
       "      bk_div.innerHTML = output.data[HTML_MIME_TYPE];\n",
       "      var script_attrs = bk_div.children[0].attributes;\n",
       "      for (var i = 0; i < script_attrs.length; i++) {\n",
       "        toinsert[toinsert.length - 1].firstChild.setAttribute(script_attrs[i].name, script_attrs[i].value);\n",
       "      }\n",
       "      // store reference to server id on output_area\n",
       "      output_area._bokeh_server_id = output.metadata[EXEC_MIME_TYPE][\"server_id\"];\n",
       "    }\n",
       "  }\n",
       "\n",
       "  function register_renderer(events, OutputArea) {\n",
       "\n",
       "    function append_mime(data, metadata, element) {\n",
       "      // create a DOM node to render to\n",
       "      var toinsert = this.create_output_subarea(\n",
       "        metadata,\n",
       "        CLASS_NAME,\n",
       "        EXEC_MIME_TYPE\n",
       "      );\n",
       "      this.keyboard_manager.register_events(toinsert);\n",
       "      // Render to node\n",
       "      var props = {data: data, metadata: metadata[EXEC_MIME_TYPE]};\n",
       "      render(props, toinsert[toinsert.length - 1]);\n",
       "      element.append(toinsert);\n",
       "      return toinsert\n",
       "    }\n",
       "\n",
       "    /* Handle when an output is cleared or removed */\n",
       "    events.on('clear_output.CodeCell', handleClearOutput);\n",
       "    events.on('delete.Cell', handleClearOutput);\n",
       "\n",
       "    /* Handle when a new output is added */\n",
       "    events.on('output_added.OutputArea', handleAddOutput);\n",
       "\n",
       "    /**\n",
       "     * Register the mime type and append_mime function with output_area\n",
       "     */\n",
       "    OutputArea.prototype.register_mime_type(EXEC_MIME_TYPE, append_mime, {\n",
       "      /* Is output safe? */\n",
       "      safe: true,\n",
       "      /* Index of renderer in `output_area.display_order` */\n",
       "      index: 0\n",
       "    });\n",
       "  }\n",
       "\n",
       "  // register the mime type if in Jupyter Notebook environment and previously unregistered\n",
       "  if (root.Jupyter !== undefined) {\n",
       "    var events = require('base/js/events');\n",
       "    var OutputArea = require('notebook/js/outputarea').OutputArea;\n",
       "\n",
       "    if (OutputArea.prototype.mime_types().indexOf(EXEC_MIME_TYPE) == -1) {\n",
       "      register_renderer(events, OutputArea);\n",
       "    }\n",
       "  }\n",
       "\n",
       "  \n",
       "  if (typeof (root._bokeh_timeout) === \"undefined\" || force === true) {\n",
       "    root._bokeh_timeout = Date.now() + 5000;\n",
       "    root._bokeh_failed_load = false;\n",
       "  }\n",
       "\n",
       "  var NB_LOAD_WARNING = {'data': {'text/html':\n",
       "     \"<div style='background-color: #fdd'>\\n\"+\n",
       "     \"<p>\\n\"+\n",
       "     \"BokehJS does not appear to have successfully loaded. If loading BokehJS from CDN, this \\n\"+\n",
       "     \"may be due to a slow or bad network connection. Possible fixes:\\n\"+\n",
       "     \"</p>\\n\"+\n",
       "     \"<ul>\\n\"+\n",
       "     \"<li>re-rerun `output_notebook()` to attempt to load from CDN again, or</li>\\n\"+\n",
       "     \"<li>use INLINE resources instead, as so:</li>\\n\"+\n",
       "     \"</ul>\\n\"+\n",
       "     \"<code>\\n\"+\n",
       "     \"from bokeh.resources import INLINE\\n\"+\n",
       "     \"output_notebook(resources=INLINE)\\n\"+\n",
       "     \"</code>\\n\"+\n",
       "     \"</div>\"}};\n",
       "\n",
       "  function display_loaded() {\n",
       "    var el = document.getElementById(\"05cb957a-a256-4f9e-86d8-e45f1a3c846a\");\n",
       "    if (el != null) {\n",
       "      el.textContent = \"BokehJS is loading...\";\n",
       "    }\n",
       "    if (root.Bokeh !== undefined) {\n",
       "      if (el != null) {\n",
       "        el.textContent = \"BokehJS \" + root.Bokeh.version + \" successfully loaded.\";\n",
       "      }\n",
       "    } else if (Date.now() < root._bokeh_timeout) {\n",
       "      setTimeout(display_loaded, 100)\n",
       "    }\n",
       "  }\n",
       "\n",
       "\n",
       "  function run_callbacks() {\n",
       "    try {\n",
       "      root._bokeh_onload_callbacks.forEach(function(callback) { callback() });\n",
       "    }\n",
       "    finally {\n",
       "      delete root._bokeh_onload_callbacks\n",
       "    }\n",
       "    console.info(\"Bokeh: all callbacks have finished\");\n",
       "  }\n",
       "\n",
       "  function load_libs(js_urls, callback) {\n",
       "    root._bokeh_onload_callbacks.push(callback);\n",
       "    if (root._bokeh_is_loading > 0) {\n",
       "      console.log(\"Bokeh: BokehJS is being loaded, scheduling callback at\", now());\n",
       "      return null;\n",
       "    }\n",
       "    if (js_urls == null || js_urls.length === 0) {\n",
       "      run_callbacks();\n",
       "      return null;\n",
       "    }\n",
       "    console.log(\"Bokeh: BokehJS not loaded, scheduling load and callback at\", now());\n",
       "    root._bokeh_is_loading = js_urls.length;\n",
       "    for (var i = 0; i < js_urls.length; i++) {\n",
       "      var url = js_urls[i];\n",
       "      var s = document.createElement('script');\n",
       "      s.src = url;\n",
       "      s.async = false;\n",
       "      s.onreadystatechange = s.onload = function() {\n",
       "        root._bokeh_is_loading--;\n",
       "        if (root._bokeh_is_loading === 0) {\n",
       "          console.log(\"Bokeh: all BokehJS libraries loaded\");\n",
       "          run_callbacks()\n",
       "        }\n",
       "      };\n",
       "      s.onerror = function() {\n",
       "        console.warn(\"failed to load library \" + url);\n",
       "      };\n",
       "      console.log(\"Bokeh: injecting script tag for BokehJS library: \", url);\n",
       "      document.getElementsByTagName(\"head\")[0].appendChild(s);\n",
       "    }\n",
       "  };var element = document.getElementById(\"05cb957a-a256-4f9e-86d8-e45f1a3c846a\");\n",
       "  if (element == null) {\n",
       "    console.log(\"Bokeh: ERROR: autoload.js configured with elementid '05cb957a-a256-4f9e-86d8-e45f1a3c846a' but no matching script tag was found. \")\n",
       "    return false;\n",
       "  }\n",
       "\n",
       "  var js_urls = [\"https://cdn.pydata.org/bokeh/release/bokeh-0.12.16.min.js\", \"https://cdn.pydata.org/bokeh/release/bokeh-widgets-0.12.16.min.js\", \"https://cdn.pydata.org/bokeh/release/bokeh-tables-0.12.16.min.js\", \"https://cdn.pydata.org/bokeh/release/bokeh-gl-0.12.16.min.js\"];\n",
       "\n",
       "  var inline_js = [\n",
       "    function(Bokeh) {\n",
       "      Bokeh.set_log_level(\"info\");\n",
       "    },\n",
       "    \n",
       "    function(Bokeh) {\n",
       "      \n",
       "    },\n",
       "    function(Bokeh) {\n",
       "      console.log(\"Bokeh: injecting CSS: https://cdn.pydata.org/bokeh/release/bokeh-0.12.16.min.css\");\n",
       "      Bokeh.embed.inject_css(\"https://cdn.pydata.org/bokeh/release/bokeh-0.12.16.min.css\");\n",
       "      console.log(\"Bokeh: injecting CSS: https://cdn.pydata.org/bokeh/release/bokeh-widgets-0.12.16.min.css\");\n",
       "      Bokeh.embed.inject_css(\"https://cdn.pydata.org/bokeh/release/bokeh-widgets-0.12.16.min.css\");\n",
       "      console.log(\"Bokeh: injecting CSS: https://cdn.pydata.org/bokeh/release/bokeh-tables-0.12.16.min.css\");\n",
       "      Bokeh.embed.inject_css(\"https://cdn.pydata.org/bokeh/release/bokeh-tables-0.12.16.min.css\");\n",
       "    }\n",
       "  ];\n",
       "\n",
       "  function run_inline_js() {\n",
       "    \n",
       "    if ((root.Bokeh !== undefined) || (force === true)) {\n",
       "      for (var i = 0; i < inline_js.length; i++) {\n",
       "        inline_js[i].call(root, root.Bokeh);\n",
       "      }if (force === true) {\n",
       "        display_loaded();\n",
       "      }} else if (Date.now() < root._bokeh_timeout) {\n",
       "      setTimeout(run_inline_js, 100);\n",
       "    } else if (!root._bokeh_failed_load) {\n",
       "      console.log(\"Bokeh: BokehJS failed to load within specified timeout.\");\n",
       "      root._bokeh_failed_load = true;\n",
       "    } else if (force !== true) {\n",
       "      var cell = $(document.getElementById(\"05cb957a-a256-4f9e-86d8-e45f1a3c846a\")).parents('.cell').data().cell;\n",
       "      cell.output_area.append_execute_result(NB_LOAD_WARNING)\n",
       "    }\n",
       "\n",
       "  }\n",
       "\n",
       "  if (root._bokeh_is_loading === 0) {\n",
       "    console.log(\"Bokeh: BokehJS loaded, going straight to plotting\");\n",
       "    run_inline_js();\n",
       "  } else {\n",
       "    load_libs(js_urls, function() {\n",
       "      console.log(\"Bokeh: BokehJS plotting callback run at\", now());\n",
       "      run_inline_js();\n",
       "    });\n",
       "  }\n",
       "}(window));"
      ],
      "application/vnd.bokehjs_load.v0+json": "\n(function(root) {\n  function now() {\n    return new Date();\n  }\n\n  var force = true;\n\n  if (typeof (root._bokeh_onload_callbacks) === \"undefined\" || force === true) {\n    root._bokeh_onload_callbacks = [];\n    root._bokeh_is_loading = undefined;\n  }\n\n  \n\n  \n  if (typeof (root._bokeh_timeout) === \"undefined\" || force === true) {\n    root._bokeh_timeout = Date.now() + 5000;\n    root._bokeh_failed_load = false;\n  }\n\n  var NB_LOAD_WARNING = {'data': {'text/html':\n     \"<div style='background-color: #fdd'>\\n\"+\n     \"<p>\\n\"+\n     \"BokehJS does not appear to have successfully loaded. If loading BokehJS from CDN, this \\n\"+\n     \"may be due to a slow or bad network connection. Possible fixes:\\n\"+\n     \"</p>\\n\"+\n     \"<ul>\\n\"+\n     \"<li>re-rerun `output_notebook()` to attempt to load from CDN again, or</li>\\n\"+\n     \"<li>use INLINE resources instead, as so:</li>\\n\"+\n     \"</ul>\\n\"+\n     \"<code>\\n\"+\n     \"from bokeh.resources import INLINE\\n\"+\n     \"output_notebook(resources=INLINE)\\n\"+\n     \"</code>\\n\"+\n     \"</div>\"}};\n\n  function display_loaded() {\n    var el = document.getElementById(\"05cb957a-a256-4f9e-86d8-e45f1a3c846a\");\n    if (el != null) {\n      el.textContent = \"BokehJS is loading...\";\n    }\n    if (root.Bokeh !== undefined) {\n      if (el != null) {\n        el.textContent = \"BokehJS \" + root.Bokeh.version + \" successfully loaded.\";\n      }\n    } else if (Date.now() < root._bokeh_timeout) {\n      setTimeout(display_loaded, 100)\n    }\n  }\n\n\n  function run_callbacks() {\n    try {\n      root._bokeh_onload_callbacks.forEach(function(callback) { callback() });\n    }\n    finally {\n      delete root._bokeh_onload_callbacks\n    }\n    console.info(\"Bokeh: all callbacks have finished\");\n  }\n\n  function load_libs(js_urls, callback) {\n    root._bokeh_onload_callbacks.push(callback);\n    if (root._bokeh_is_loading > 0) {\n      console.log(\"Bokeh: BokehJS is being loaded, scheduling callback at\", now());\n      return null;\n    }\n    if (js_urls == null || js_urls.length === 0) {\n      run_callbacks();\n      return null;\n    }\n    console.log(\"Bokeh: BokehJS not loaded, scheduling load and callback at\", now());\n    root._bokeh_is_loading = js_urls.length;\n    for (var i = 0; i < js_urls.length; i++) {\n      var url = js_urls[i];\n      var s = document.createElement('script');\n      s.src = url;\n      s.async = false;\n      s.onreadystatechange = s.onload = function() {\n        root._bokeh_is_loading--;\n        if (root._bokeh_is_loading === 0) {\n          console.log(\"Bokeh: all BokehJS libraries loaded\");\n          run_callbacks()\n        }\n      };\n      s.onerror = function() {\n        console.warn(\"failed to load library \" + url);\n      };\n      console.log(\"Bokeh: injecting script tag for BokehJS library: \", url);\n      document.getElementsByTagName(\"head\")[0].appendChild(s);\n    }\n  };var element = document.getElementById(\"05cb957a-a256-4f9e-86d8-e45f1a3c846a\");\n  if (element == null) {\n    console.log(\"Bokeh: ERROR: autoload.js configured with elementid '05cb957a-a256-4f9e-86d8-e45f1a3c846a' but no matching script tag was found. \")\n    return false;\n  }\n\n  var js_urls = [\"https://cdn.pydata.org/bokeh/release/bokeh-0.12.16.min.js\", \"https://cdn.pydata.org/bokeh/release/bokeh-widgets-0.12.16.min.js\", \"https://cdn.pydata.org/bokeh/release/bokeh-tables-0.12.16.min.js\", \"https://cdn.pydata.org/bokeh/release/bokeh-gl-0.12.16.min.js\"];\n\n  var inline_js = [\n    function(Bokeh) {\n      Bokeh.set_log_level(\"info\");\n    },\n    \n    function(Bokeh) {\n      \n    },\n    function(Bokeh) {\n      console.log(\"Bokeh: injecting CSS: https://cdn.pydata.org/bokeh/release/bokeh-0.12.16.min.css\");\n      Bokeh.embed.inject_css(\"https://cdn.pydata.org/bokeh/release/bokeh-0.12.16.min.css\");\n      console.log(\"Bokeh: injecting CSS: https://cdn.pydata.org/bokeh/release/bokeh-widgets-0.12.16.min.css\");\n      Bokeh.embed.inject_css(\"https://cdn.pydata.org/bokeh/release/bokeh-widgets-0.12.16.min.css\");\n      console.log(\"Bokeh: injecting CSS: https://cdn.pydata.org/bokeh/release/bokeh-tables-0.12.16.min.css\");\n      Bokeh.embed.inject_css(\"https://cdn.pydata.org/bokeh/release/bokeh-tables-0.12.16.min.css\");\n    }\n  ];\n\n  function run_inline_js() {\n    \n    if ((root.Bokeh !== undefined) || (force === true)) {\n      for (var i = 0; i < inline_js.length; i++) {\n        inline_js[i].call(root, root.Bokeh);\n      }if (force === true) {\n        display_loaded();\n      }} else if (Date.now() < root._bokeh_timeout) {\n      setTimeout(run_inline_js, 100);\n    } else if (!root._bokeh_failed_load) {\n      console.log(\"Bokeh: BokehJS failed to load within specified timeout.\");\n      root._bokeh_failed_load = true;\n    } else if (force !== true) {\n      var cell = $(document.getElementById(\"05cb957a-a256-4f9e-86d8-e45f1a3c846a\")).parents('.cell').data().cell;\n      cell.output_area.append_execute_result(NB_LOAD_WARNING)\n    }\n\n  }\n\n  if (root._bokeh_is_loading === 0) {\n    console.log(\"Bokeh: BokehJS loaded, going straight to plotting\");\n    run_inline_js();\n  } else {\n    load_libs(js_urls, function() {\n      console.log(\"Bokeh: BokehJS plotting callback run at\", now());\n      run_inline_js();\n    });\n  }\n}(window));"
     },
     "metadata": {},
     "output_type": "display_data"
    }
   ],
   "source": [
    "output_notebook()"
   ]
  },
  {
   "cell_type": "code",
   "execution_count": 8,
   "metadata": {
    "collapsed": true
   },
   "outputs": [],
   "source": [
    "def fmt_cool(ds_in):\n",
    "    ds = ds_in.copy(deep=True)\n",
    "    if 'igg' in ds.dims:\n",
    "        ds = ds.sel(igg=1)\n",
    "\n",
    "    if 'g' in ds.dims:\n",
    "        ds = ds.sum('g')\n",
    "            \n",
    "    if 'band' in ds.dims:\n",
    "        try:\n",
    "            ds = ds.squeeze('band')\n",
    "        except ValueError:\n",
    "            ds = ds.sum('band')\n",
    "                \n",
    "    return ds['coolrg']\n",
    "\n",
    "\n",
    "def pltdata_cooling_1(ds_cool=None,\n",
    "                      ds_cool_crd=None, ds_cool_wgt=None):\n",
    "    \n",
    "\n",
    "\n",
    "    colors = all_palettes['Set1'][4]\n",
    "    data = [{'label': 'CLIRAD `coolr_bands`',\n",
    "             'srs': fmt_cool(ds_cool),\n",
    "             'line_dash': 'dashed', 'line_width': 5,\n",
    "             'color': colors[0], 'alpha': .6},\n",
    "            {'label': 'CRD',\n",
    "             'srs': fmt_cool(ds_cool_crd),\n",
    "             'line_dash': 'solid', 'line_width': 1.5,\n",
    "             'marker': 'circle', 'marker_size': 5,\n",
    "             'color': colors[2], 'alpha': 1,},\n",
    "            {'label': 'WGT igg=10 wgt_flux=2',\n",
    "             'srs': fmt_cool(ds_cool_wgt),\n",
    "             'line_dash': 'solid', 'line_width': 3,\n",
    "             'marker': 'square', 'marker_size': 5,\n",
    "             'color': colors[3], 'alpha': .6}]\n",
    "    return data\n",
    "\n",
    "\n",
    "def nice_xlims(pltdata=None, prange=None):\n",
    "    \n",
    "    def get_slice(srs):\n",
    "        return srs.sel(pressure=slice(*prange))\n",
    "    \n",
    "    srss = [d['srs'] for d in pltdata]\n",
    "    vmin = min([get_slice(srs).min() for srs in srss])\n",
    "    vmax = max([get_slice(srs).max() for srs in srss])\n",
    "    dv = (vmax - vmin) * .01\n",
    "    return float(vmin - dv), float(vmax + dv)\n",
    "    \n",
    "\n",
    "def plt_cooling_bokeh(pltdata=None):\n",
    "    '''\n",
    "    Plot a list of cooling rate profiles using bokeh.\n",
    "    '''\n",
    "    ymin = 1e-2 \n",
    "    ymax = 1020 \n",
    "        \n",
    "    p1 = figure(title=\"Linear pressure scale\", \n",
    "                plot_width=400)        \n",
    "    xmin, xmax = nice_xlims(pltdata, prange=(50, 1050))\n",
    "    for d in pltdata:\n",
    "        if 'marker' in d:\n",
    "            getattr(p1, d['marker'])(d['srs'].values, \n",
    "                    d['srs'].coords['pressure'].values,\n",
    "                    color=d['color'], alpha=.7)\n",
    "        p1.line(d['srs'].values, \n",
    "                d['srs'].coords['pressure'].values,\n",
    "                color=d['color'], alpha=d['alpha'], \n",
    "                line_width=d['line_width'], line_dash=d['line_dash'])\n",
    "    \n",
    "    p1.y_range = Range1d(ymax, ymin)\n",
    "    p1.yaxis.axis_label = 'pressure [mb]'   \n",
    "    p1.x_range = Range1d(xmin, xmax)\n",
    "    p1.xaxis.axis_label = 'cooling rate [K/day]'\n",
    "            \n",
    "    p2 = figure(title='Log pressure scale', y_axis_type='log',\n",
    "                plot_width=560)\n",
    "    xmin, xmax = nice_xlims(pltdata, prange=(.01, 200))\n",
    "    \n",
    "    rs = []\n",
    "    for d in pltdata:\n",
    "        rd = []\n",
    "        if 'marker' in d:\n",
    "            r_mark = getattr(p2, d['marker'])(d['srs'].values, \n",
    "                        d['srs'].coords['pressure'].values,\n",
    "                        color=d['color'], alpha=.7)\n",
    "            rd.append(r_mark)\n",
    "        r_line = p2.line(d['srs'].values, \n",
    "                    d['srs'].coords['pressure'].values,\n",
    "                    color=d['color'], alpha=d['alpha'], \n",
    "                    line_width=d['line_width'], line_dash=d['line_dash'])\n",
    "        rd.append(r_line)\n",
    "      \n",
    "        rs.append(rd)\n",
    "        \n",
    "    p2.y_range = Range1d(ymax, ymin)  \n",
    "    p2.yaxis.axis_label = 'pressure [mb]'\n",
    "    \n",
    "    p2.x_range = Range1d(xmin, xmax)\n",
    "    p2.xaxis.axis_label = 'cooling rate [K/day]'\n",
    "    \n",
    "    items = [(d['label'], r) for r, d in zip(rs, pltdata)]\n",
    "    legend = Legend(items=items, location=(10, -30))\n",
    "    legend.label_text_font_size = '8pt'\n",
    "    \n",
    "    p2.add_layout(legend, 'right')  \n",
    "    \n",
    "    show(gridplot(p1, p2, ncols=2, plot_height=500))\n",
    "    \n",
    "\n",
    "def script_plt_cooling():\n",
    "    pltdata = pltdata_cooling_1(\n",
    "        ds_cool=DS_COOL,\n",
    "        ds_cool_crd=DS_COOL_CRD,\n",
    "        ds_cool_wgt=DS_COOL_WGT)\n",
    "    plt_cooling_bokeh(pltdata=pltdata)\n",
    "    print('''FIGURE. Cooling rate profiles.''')"
   ]
  },
  {
   "cell_type": "code",
   "execution_count": 9,
   "metadata": {
    "collapsed": true
   },
   "outputs": [],
   "source": [
    "def fmt_flux(ds_in):\n",
    "    ds = ds_in.copy(deep=True)\n",
    "    \n",
    "    for l in ('level', 'layer'):\n",
    "        if l in ds.data_vars:\n",
    "            if len(ds[l].dims) > 1:\n",
    "                surface = {d: 0 for d in ds.dims if d != 'pressure'}\n",
    "                coord_level = ds[l][surface]\n",
    "                ds.coords[l] = ('pressure', coord_level)\n",
    "            else:\n",
    "                ds.coords[l] = ('pressure', ds[l])\n",
    "        \n",
    "    ds = ds.isel(pressure=[0, 23, -1])\n",
    "        \n",
    "    if 'igg' in ds.dims:\n",
    "        ds = ds.sel(igg=[1])\n",
    "        ds = ds.squeeze('igg').drop('igg')\n",
    "    \n",
    "    if 'g' in ds.dims:\n",
    "        ds = ds.sum('g')\n",
    "            \n",
    "    if 'band' in ds.dims:\n",
    "        try:\n",
    "            ds = ds.squeeze('band').drop('band')\n",
    "        except ValueError:\n",
    "            ds = ds.sum('band')\n",
    "                \n",
    "    df = ds.to_dataframe()\n",
    "    df = df.set_index('level', append=True)               \n",
    "    return df\n",
    "\n",
    "\n",
    "def tbdata_flux(ds_flux=None, ds_flux_crd=None, ds_flux_wgt=None):\n",
    "    ilevels = [0, 23, -1]\n",
    "            \n",
    "    benchmark = {'label': 'CRD',\n",
    "                 'df': fmt_flux(ds_flux_crd)}\n",
    "    \n",
    "    tbs = [{'label': 'WGT igg=10 wgt_flux=1',\n",
    "            'df': fmt_flux(ds_flux_wgt)},\n",
    "           {'label': 'CLIRAD',\n",
    "            'df': fmt_flux(ds_flux)}]\n",
    "    \n",
    "    data = {'benchmark': benchmark, 'others': tbs}\n",
    "    return data\n",
    "\n",
    "\n",
    "def tb_flux(tbdata=None):\n",
    "    benchmark = tbdata['benchmark']\n",
    "    others = tbdata['others']\n",
    "    \n",
    "    def show_tb(d=None):\n",
    "        display.display(d['df'])\n",
    "        print('Table.', 'Fluxes.', d['label'])\n",
    "        \n",
    "    def show_tbdiff(d0=None, d=None):\n",
    "        df = d['df']\n",
    "        df.index = d0['df'].index\n",
    "        display.display(df - d0['df'])\n",
    "        print('Table.', 'Fluxes.', \n",
    "              '({}) - ({})'.format(d['label'], d0['label']))\n",
    "        \n",
    "    show_tb(benchmark)\n",
    "    for d in others:\n",
    "        show_tb(d)\n",
    "        \n",
    "    for d in others:\n",
    "        show_tbdiff(d=d, d0=benchmark)\n",
    "        \n",
    "        \n",
    "def script_tb_flux():\n",
    "    data = tbdata_flux(ds_flux=DS_FLUX,\n",
    "                       ds_flux_crd=DS_FLUX_CRD,\n",
    "                       ds_flux_wgt=DS_FLUX_WGT)\n",
    "    tb_flux(tbdata=data)"
   ]
  },
  {
   "cell_type": "code",
   "execution_count": 10,
   "metadata": {
    "collapsed": true
   },
   "outputs": [],
   "source": [
    "def band_map():\n",
    "    '''\n",
    "    Maps spectral bands in lblnew to spectral bands in clirad.\n",
    "    '''\n",
    "    lblnew2clirad = {'1': '1',\n",
    "            '2': '2',\n",
    "            '3a': '3',\n",
    "            '3b': '4',\n",
    "            '3c': '5',\n",
    "            '4': '6', \n",
    "            '5': '7',\n",
    "            '6': '8',\n",
    "            '7': '9', \n",
    "            '8': '10',\n",
    "            '9': '11'}\n",
    "    \n",
    "    clirad2lblnew = {clirad: lblnew \n",
    "                     for lblnew, clirad in lblnew2clirad.items()}\n",
    "    return clirad2lblnew\n",
    "\n",
    "\n",
    "def gasbands():\n",
    "    bmap = band_map()\n",
    "    gases = list(PARAM['molecule'].keys())\n",
    "    \n",
    "    bands = [bmap[str(b)] for b in PARAM['band']]\n",
    "    return list(itertools.product(gases, bands))\n",
    "\n",
    "\n",
    "def print_bestfit_params():\n",
    "    print('Best-fit values for each (gas, band)')\n",
    "    print('------------------------------------')\n",
    "    for gas, band in gasbands():\n",
    "        print('o {} band{}'.format(gas, band))\n",
    "        param = bestfits.kdist_params(molecule=gas, band=band)\n",
    "        for name, value in sorted(param.items()):\n",
    "            print(2 * ' ' + '{} = {}'.format(name, value))\n",
    "\n",
    "        \n",
    "def print_input_param():        \n",
    "    for name, value in PARAM.items():\n",
    "        print('{} = {}'.format(name, value))\n",
    "        \n",
    "        \n",
    "def print_lblnew_param():\n",
    "    for name, value in sorted(PARAM_LBLNEW.items()):\n",
    "        print('{} = {}'.format(name, value))\n"
   ]
  },
  {
   "cell_type": "code",
   "execution_count": 11,
   "metadata": {
    "collapsed": true,
    "scrolled": false
   },
   "outputs": [],
   "source": [
    "def show_html(s):\n",
    "    display.display(display.HTML(s))\n",
    "\n",
    "    \n",
    "def show_markdown(s):\n",
    "    display.display(display.Markdown(s))\n",
    "\n",
    "    \n",
    "def script():\n",
    "    \n",
    "    title = '### CLIRAD-LW'\n",
    "    s_input = 'Input Parameters'\n",
    "    s_lblnew_param = 'LBLNEW case compaired against'\n",
    "    s_bestfits = 'Best-fit Parameters'\n",
    "    s_plt_cooling = 'Cooling Rate Profiles'\n",
    "    s_tb_flux = 'Flux Comparison'\n",
    "    \n",
    "    # title\n",
    "    show_markdown('### CLIRAD-LW')\n",
    "    \n",
    "    # TOC\n",
    "    show_markdown('### Table of Contents')\n",
    "    show_html(climahtml.getHTML_hrefanchor(s_input))\n",
    "    show_html(climahtml.getHTML_hrefanchor(s_lblnew_param))\n",
    "    show_html(climahtml.getHTML_hrefanchor(s_plt_cooling))\n",
    "    show_html(climahtml.getHTML_hrefanchor(s_tb_flux))\n",
    "    show_html(climahtml.getHTML_hrefanchor(s_bestfits))\n",
    "    \n",
    "    # Input parameters\n",
    "    show_html(climahtml.getHTML_idanchor(s_input))\n",
    "    show_markdown(climahtml.getMarkdown_sectitle(s_input))\n",
    "    print_input_param()\n",
    "    \n",
    "    # LBLNEW parameters \n",
    "    show_html(climahtml.getHTML_idanchor(s_lblnew_param))\n",
    "    show_markdown(climahtml.getMarkdown_sectitle(s_lblnew_param))\n",
    "    print_lblnew_param()\n",
    "    \n",
    "    # Cooling rate profiles\n",
    "    show_html(climahtml.getHTML_idanchor(s_plt_cooling))\n",
    "    show_markdown(climahtml.getMarkdown_sectitle(s_plt_cooling))\n",
    "    script_plt_cooling()\n",
    "    \n",
    "    # Flux comparison\n",
    "    show_html(climahtml.getHTML_idanchor(s_tb_flux))\n",
    "    show_markdown(climahtml.getMarkdown_sectitle(s_tb_flux))\n",
    "    script_tb_flux()\n",
    "    \n",
    "    # Best-fit values\n",
    "    show_html(climahtml.getHTML_idanchor(s_bestfits))\n",
    "    show_markdown(climahtml.getMarkdown_sectitle(s_bestfits))\n",
    "    print_bestfit_params()\n",
    "   \n",
    "    "
   ]
  },
  {
   "cell_type": "code",
   "execution_count": 12,
   "metadata": {
    "collapsed": true,
    "scrolled": false
   },
   "outputs": [
    {
     "data": {
      "text/markdown": [
       "### CLIRAD-LW"
      ],
      "text/plain": [
       "<IPython.core.display.Markdown object>"
      ]
     },
     "metadata": {},
     "output_type": "display_data"
    },
    {
     "data": {
      "text/markdown": [
       "### Table of Contents"
      ],
      "text/plain": [
       "<IPython.core.display.Markdown object>"
      ]
     },
     "metadata": {},
     "output_type": "display_data"
    },
    {
     "data": {
      "text/html": [
       "<a href=\"#Input_Parameters\">Input Parameters</a>"
      ],
      "text/plain": [
       "<IPython.core.display.HTML object>"
      ]
     },
     "metadata": {},
     "output_type": "display_data"
    },
    {
     "data": {
      "text/html": [
       "<a href=\"#LBLNEW_case_compaired_against\">LBLNEW case compaired against</a>"
      ],
      "text/plain": [
       "<IPython.core.display.HTML object>"
      ]
     },
     "metadata": {},
     "output_type": "display_data"
    },
    {
     "data": {
      "text/html": [
       "<a href=\"#Cooling_Rate_Profiles\">Cooling Rate Profiles</a>"
      ],
      "text/plain": [
       "<IPython.core.display.HTML object>"
      ]
     },
     "metadata": {},
     "output_type": "display_data"
    },
    {
     "data": {
      "text/html": [
       "<a href=\"#Flux_Comparison\">Flux Comparison</a>"
      ],
      "text/plain": [
       "<IPython.core.display.HTML object>"
      ]
     },
     "metadata": {},
     "output_type": "display_data"
    },
    {
     "data": {
      "text/html": [
       "<a href=\"#Best-fit_Parameters\">Best-fit Parameters</a>"
      ],
      "text/plain": [
       "<IPython.core.display.HTML object>"
      ]
     },
     "metadata": {},
     "output_type": "display_data"
    },
    {
     "data": {
      "text/html": [
       "<a id=\"Input_Parameters\"></a>"
      ],
      "text/plain": [
       "<IPython.core.display.HTML object>"
      ]
     },
     "metadata": {},
     "output_type": "display_data"
    },
    {
     "data": {
      "text/markdown": [
       "# Input Parameters"
      ],
      "text/plain": [
       "<IPython.core.display.Markdown object>"
      ]
     },
     "metadata": {},
     "output_type": "display_data"
    },
    {
     "name": "stdout",
     "output_type": "stream",
     "text": [
      "commitnumber = de5d43e\n",
      "molecule = {'h2o': 'atmpro', 'co2': 0.0004, 'o3': 'atmpro'}\n",
      "band = [7]\n",
      "atmpro = mls\n",
      "tsfc = 294\n"
     ]
    },
    {
     "data": {
      "text/html": [
       "<a id=\"LBLNEW_case_compaired_against\"></a>"
      ],
      "text/plain": [
       "<IPython.core.display.HTML object>"
      ]
     },
     "metadata": {},
     "output_type": "display_data"
    },
    {
     "data": {
      "text/markdown": [
       "# LBLNEW case compaired against"
      ],
      "text/plain": [
       "<IPython.core.display.Markdown object>"
      ]
     },
     "metadata": {},
     "output_type": "display_data"
    },
    {
     "name": "stdout",
     "output_type": "stream",
     "text": [
      "atmpro = mls\n",
      "band = 5\n",
      "commitnumber = 5014a19\n",
      "dv = 0.001\n",
      "molecule = {'h2o': 'atmpro', 'co2': 0.0004, 'o3': 'atmpro'}\n",
      "nv = 1000\n",
      "tsfc = 294\n"
     ]
    },
    {
     "data": {
      "text/html": [
       "<a id=\"Cooling_Rate_Profiles\"></a>"
      ],
      "text/plain": [
       "<IPython.core.display.HTML object>"
      ]
     },
     "metadata": {},
     "output_type": "display_data"
    },
    {
     "data": {
      "text/markdown": [
       "# Cooling Rate Profiles"
      ],
      "text/plain": [
       "<IPython.core.display.Markdown object>"
      ]
     },
     "metadata": {},
     "output_type": "display_data"
    },
    {
     "data": {
      "text/html": [
       "\n",
       "<div class=\"bk-root\">\n",
       "    <div class=\"bk-plotdiv\" id=\"b7c95d36-e50e-476f-93cf-329f32e94ec8\"></div>\n",
       "</div>"
      ]
     },
     "metadata": {},
     "output_type": "display_data"
    },
    {
     "data": {
      "application/javascript": [
       "(function(root) {\n",
       "  function embed_document(root) {\n",
       "    \n",
       "  var docs_json = {\"d5dbbbcb-7818-4d38-8130-217885b22985\":{\"roots\":{\"references\":[{\"attributes\":{\"active_drag\":\"auto\",\"active_inspect\":\"auto\",\"active_scroll\":\"auto\",\"active_tap\":\"auto\",\"tools\":[{\"id\":\"423d23e2-3aa5-4717-bfa9-35000093b36f\",\"type\":\"PanTool\"},{\"id\":\"c0e89290-0cbd-4efd-b9fb-41efb21cbbe7\",\"type\":\"WheelZoomTool\"},{\"id\":\"6ec4f606-7ba2-4fa7-9631-97514a4c4d58\",\"type\":\"BoxZoomTool\"},{\"id\":\"e1f350fd-a649-489d-877e-bba987c9b538\",\"type\":\"SaveTool\"},{\"id\":\"e56e2a5b-8d31-45b0-8ff5-6e2daceb9c4d\",\"type\":\"ResetTool\"},{\"id\":\"7cddd41a-2d9b-4683-8f92-24a35c001ff6\",\"type\":\"HelpTool\"}]},\"id\":\"087cb753-0272-4adf-b107-19c21f33fa71\",\"type\":\"Toolbar\"},{\"attributes\":{\"axis_label\":\"cooling rate [K/day]\",\"formatter\":{\"id\":\"5254f0ec-8e96-4b4b-b2ef-fc2cca6e818d\",\"type\":\"BasicTickFormatter\"},\"plot\":{\"id\":\"5da317e9-ec32-4040-a468-e97b2ecc013e\",\"subtype\":\"Figure\",\"type\":\"Plot\"},\"ticker\":{\"id\":\"5cc07050-fd66-4789-b82e-fb165d4cc8e2\",\"type\":\"BasicTicker\"}},\"id\":\"b9a07829-2088-4009-803a-48b2c6928564\",\"type\":\"LinearAxis\"},{\"attributes\":{\"source\":{\"id\":\"f26cd27c-7069-45e4-8f12-869e7c43afdd\",\"type\":\"ColumnDataSource\"}},\"id\":\"00e2dccb-4deb-4c3b-8d89-4b9595435776\",\"type\":\"CDSView\"},{\"attributes\":{},\"id\":\"5cc07050-fd66-4789-b82e-fb165d4cc8e2\",\"type\":\"BasicTicker\"},{\"attributes\":{\"line_alpha\":0.6,\"line_color\":\"#984ea3\",\"line_width\":3,\"x\":{\"field\":\"x\"},\"y\":{\"field\":\"y\"}},\"id\":\"77c47135-50f1-4ef5-9433-968c08e68a9a\",\"type\":\"Line\"},{\"attributes\":{\"plot\":{\"id\":\"5da317e9-ec32-4040-a468-e97b2ecc013e\",\"subtype\":\"Figure\",\"type\":\"Plot\"},\"ticker\":{\"id\":\"5cc07050-fd66-4789-b82e-fb165d4cc8e2\",\"type\":\"BasicTicker\"}},\"id\":\"9ec07373-22b3-4b4b-b075-c76cc82d0eb0\",\"type\":\"Grid\"},{\"attributes\":{\"dimension\":1,\"plot\":{\"id\":\"5da317e9-ec32-4040-a468-e97b2ecc013e\",\"subtype\":\"Figure\",\"type\":\"Plot\"},\"ticker\":{\"id\":\"c0b4abf0-9114-4252-8334-f70ecb8b2425\",\"type\":\"BasicTicker\"}},\"id\":\"bd8d469c-0f59-40c7-8ac8-9eb79807df27\",\"type\":\"Grid\"},{\"attributes\":{\"fill_alpha\":{\"value\":0.7},\"fill_color\":{\"value\":\"#4daf4a\"},\"line_alpha\":{\"value\":0.7},\"line_color\":{\"value\":\"#4daf4a\"},\"x\":{\"field\":\"x\"},\"y\":{\"field\":\"y\"}},\"id\":\"ab308cdb-9a90-4dab-b640-fd743c7fc85b\",\"type\":\"Circle\"},{\"attributes\":{\"source\":{\"id\":\"57bfe1d4-4d9a-4c0d-ab2e-0c65be14df58\",\"type\":\"ColumnDataSource\"}},\"id\":\"4b11f95a-bb9d-47e5-9b1e-8f41ef782709\",\"type\":\"CDSView\"},{\"attributes\":{\"data_source\":{\"id\":\"63a8a91b-3c33-4928-ba28-0eeca26254bd\",\"type\":\"ColumnDataSource\"},\"glyph\":{\"id\":\"ab308cdb-9a90-4dab-b640-fd743c7fc85b\",\"type\":\"Circle\"},\"hover_glyph\":null,\"muted_glyph\":null,\"nonselection_glyph\":{\"id\":\"be2cd7f7-fc61-46c6-abdb-c6882962bb1c\",\"type\":\"Circle\"},\"selection_glyph\":null,\"view\":{\"id\":\"0b8eb4e1-1cc5-42e0-8d03-a0b5bb3717bb\",\"type\":\"CDSView\"}},\"id\":\"5557a8b2-b5cc-4398-a5a0-bf0a2ecd0067\",\"type\":\"GlyphRenderer\"},{\"attributes\":{\"data_source\":{\"id\":\"20bddbef-3913-4deb-91ee-19e2e3c3616a\",\"type\":\"ColumnDataSource\"},\"glyph\":{\"id\":\"402c516a-9e5a-443a-8720-51263fa91889\",\"type\":\"Line\"},\"hover_glyph\":null,\"muted_glyph\":null,\"nonselection_glyph\":{\"id\":\"130a9fef-88db-4aa3-ae84-37d53a372106\",\"type\":\"Line\"},\"selection_glyph\":null,\"view\":{\"id\":\"5b8e53f1-9c71-4eab-8d6e-5de120c00190\",\"type\":\"CDSView\"}},\"id\":\"f19bbf31-bb2d-4788-b8e1-070aa65baaba\",\"type\":\"GlyphRenderer\"},{\"attributes\":{\"source\":{\"id\":\"20bddbef-3913-4deb-91ee-19e2e3c3616a\",\"type\":\"ColumnDataSource\"}},\"id\":\"5b8e53f1-9c71-4eab-8d6e-5de120c00190\",\"type\":\"CDSView\"},{\"attributes\":{\"line_alpha\":0.1,\"line_color\":\"#1f77b4\",\"line_width\":1.5,\"x\":{\"field\":\"x\"},\"y\":{\"field\":\"y\"}},\"id\":\"130a9fef-88db-4aa3-ae84-37d53a372106\",\"type\":\"Line\"},{\"attributes\":{},\"id\":\"34ddffd6-958d-4ff1-95bc-d1e0fe039dae\",\"type\":\"ResetTool\"},{\"attributes\":{\"callback\":null,\"data\":{\"x\":{\"__ndarray__\":\"4tVOoa5GpL/1RIv32YSmv+HkNbHr16q/yacW/eD9rr94wN+pLHyxv6rGAapuZLO/3xOVVEA2tb++bEAmR/G2v3ibWFzzlbi/SJ/aCcQlur9b8IGhN6q7v8w0UM9xJL2/DPD2gy6fvr8NiZw6ZgvAv650Z7t8SsC/mybH+Is0vr9LAs8b+cyxvz3gkeMUPqE/odyV4WjcyT+/Fuxt0KrcP73a9uIwHek/+cSVDjG58z9hLk4h/BD8P64P641aIQBAJ2IAl7bu/D91+cVbnTL3P58U92kmKfE/RB77OB4c6D9P9flizvfgP5LdeaAdCdc/Kv0p+uj5xz+BhH8W7R+TPwkNnOrLfbm/blTAoPlax7+gG/VrRiHQv1Ypf+8dktG/He5+cJkuz7+EsyEg2wnLv8gZN/OzKsm/hbl6ocKJxr+KkUaBFRLCv324YICvrry/3jFldeWSt78sm7AyV9yyv9jvekp9Qq6/3gLoezZAqb9DZTioQfSkv4BmEB/Y8aC/bAZxS8/nmr/vGO7BQ8+Uv743z9aWQY6/dDKeLKi0g7+18DA9vtVzv5L6bpdWczu/pnE9RIItbz8v4qnyPkiAP1WDY6ggxYg/zkdZjKjzkD+sJzxmdbKVP5qEVE+7n5o/Z9d7+bbDnz8VO7KjhYyiP50Uqdq1V6U/5cJ5H+RIqD85s0524lurP/gjHOUmi64/Ir1peWzrsD912WZlJpGyP0H92yOjHLQ/0p2SObeFtT+FZ2pbkti2P0bHa+QOKbg/XdmvgrKFuT/p4sLDrP66P7kn/t5csrw/\",\"dtype\":\"float64\",\"shape\":[75]},\"y\":{\"__ndarray__\":\"GhExyth1ND/Sv8nbtpRIP2vylNV0PVE/aTum7souWD/At0SJ8fVgPw3Iuahxymc/MSNhhJWvcD/bTfBN02d3P2zb5nxnaoA/CD5h5MAGhz8NmeH1TyaQP+zrCsc9p5Y/LbKd76fGnz/bLW5ISEmmPww9YvTcQq8/JV2OstnstT8Er5Y7M8G+P0c+r3jqkcU/5h99k6ZBzj88bCIzFzjVP4enV8oyxN0//yH99nXg5D8qOpLLf0jtP5kqGJXUifQ/c9cS8kHP/D+/DpwzojQEQIEmwoanVwxA4lgXt9HgE0BSSZ2AJuIbQAMJih9jjiNA5q4l5INuK0AwTKYKRj0zQNv5fmq8/DpAaCJseHrtQkB/+zpwzoxKQM3MzMzMeFJAZmZmZmZqWEAAAAAAAFxeQM3MzMzMJmJAmpmZmZkfZUBmZmZmZhhoQDMzMzMzEWtAAAAAAAAKbkBmZmZmZoFwQM3MzMzM/XFAMzMzMzN6c0CamZmZmfZ0QAAAAAAAc3ZAZmZmZmbvd0DNzMzMzGt5QDMzMzMz6HpAmpmZmZlkfEAAAAAAAOF9QGZmZmZmXX9AZmZmZuZsgECamZmZGSuBQM3MzMxM6YFAAAAAAICngkAzMzMzs2WDQGZmZmbmI4RAmpmZmRnihEDNzMzMTKCFQAAAAACAXoZAMzMzM7Mch0BmZmZm5tqHQJqZmZkZmYhAzczMzExXiUAAAAAAgBWKQDMzMzOz04pAZmZmZuaRi0CamZmZGVCMQM3MzMxMDo1AAAAAAIDMjUAzMzMzs4qOQGZmZmbmSI9A\",\"dtype\":\"float64\",\"shape\":[75]}},\"selected\":{\"id\":\"9e992690-f1ae-4737-93a1-e21e2e5960c9\",\"type\":\"Selection\"},\"selection_policy\":{\"id\":\"34ac873d-d057-4d0d-a974-a070c59edddf\",\"type\":\"UnionRenderers\"}},\"id\":\"63a8a91b-3c33-4928-ba28-0eeca26254bd\",\"type\":\"ColumnDataSource\"},{\"attributes\":{\"fill_alpha\":{\"value\":0.1},\"fill_color\":{\"value\":\"#1f77b4\"},\"line_alpha\":{\"value\":0.1},\"line_color\":{\"value\":\"#1f77b4\"},\"x\":{\"field\":\"x\"},\"y\":{\"field\":\"y\"}},\"id\":\"be2cd7f7-fc61-46c6-abdb-c6882962bb1c\",\"type\":\"Circle\"},{\"attributes\":{},\"id\":\"c360f06f-c948-4770-90b9-d80aabf911cb\",\"type\":\"HelpTool\"},{\"attributes\":{\"bottom_units\":\"screen\",\"fill_alpha\":{\"value\":0.5},\"fill_color\":{\"value\":\"lightgrey\"},\"left_units\":\"screen\",\"level\":\"overlay\",\"line_alpha\":{\"value\":1.0},\"line_color\":{\"value\":\"black\"},\"line_dash\":[4,4],\"line_width\":{\"value\":2},\"plot\":null,\"render_mode\":\"css\",\"right_units\":\"screen\",\"top_units\":\"screen\"},\"id\":\"aaa80a91-93c9-4b82-96c6-2fdb71dbbe36\",\"type\":\"BoxAnnotation\"},{\"attributes\":{\"plot\":null,\"text\":\"Log pressure scale\"},\"id\":\"8c2f116c-3fcb-4efc-a717-1c129434b6e0\",\"type\":\"Title\"},{\"attributes\":{\"callback\":null,\"data\":{\"x\":{\"__ndarray__\":\"w/73T1Olob/g32Na4pujv1ZI52b5Zqe/5lIBnIMMq78/7ZJmY42uv9XV4CdV9bC/AvJx4rWPsr+PdwpjUha0v5e19DhxkbW/sIFHMOL2tr+XKQkw/EW4v0bbcNmajbm//AmAVDfVur99WmaNUQm8v6sk9CuEcry/70PWAa1Mur9TsBzaLe2tvzWaJOIiAaM/U07m5dEJyT/W3ivjdIzbP+j9uUe6L+g/AjYxbrQN8z+c8FwpFT77P8TOuYA8wP8/06LjD6sk/T9wUXevpOb3P6fJMf4iLfI/+RySORqQ6j+Uj/ai6nXjP1RbZugKPNs/W/rhMU2izT8WmlbQ1dKkPyCD525v6Le/tSmJstgiyL/NkiFDnk/Rv8Gp7hUGOtO/YKVp7QkU0b9NUvQbgVPNv0tJ5sN52cq/z3fgMXahx7/L1n5bRbnCv6RNm5Ioi72/IVtUk/kquL9oeF0GNkOzv+o7NDa40K6/q5DHEw6rqb82TzsdREKlv00SjeavLaG/+NbgrY5Em79lrBXxxheVv+Y2tt48w46/bCeRF64bhL9LOJXJB310v9keZfbnrEK/6Rw0WTI3bj9zOB2+URaAP1UIRoaekog/i5z1karZkD8pLjuCI5qVP/lqoioBjJo/C4Tcxhi4nz+PZWFS84qiP28Qt4fgX6U/ZWzZO1JmqD/YI7tvCJerP5nJgWj39a4/JUo7aIhAsT/t2FRSMRKzPx9jRxOK1bQ/hb3S9++Btj8o3UeCMSG4P1DvuX6Hw7k/OU4jkL9yuz94nrJ5oD69P5HdHueqN78/\",\"dtype\":\"float64\",\"shape\":[75]},\"y\":{\"__ndarray__\":\"GhExyth1ND/Sv8nbtpRIP2vylNV0PVE/aTum7souWD/At0SJ8fVgPw3Iuahxymc/MSNhhJWvcD/bTfBN02d3P2zb5nxnaoA/CD5h5MAGhz8NmeH1TyaQP+zrCsc9p5Y/LbKd76fGnz/bLW5ISEmmPww9YvTcQq8/JV2OstnstT8Er5Y7M8G+P0c+r3jqkcU/5h99k6ZBzj88bCIzFzjVP4enV8oyxN0//yH99nXg5D8qOpLLf0jtP5kqGJXUifQ/c9cS8kHP/D+/DpwzojQEQIEmwoanVwxA4lgXt9HgE0BSSZ2AJuIbQAMJih9jjiNA5q4l5INuK0AwTKYKRj0zQNv5fmq8/DpAaCJseHrtQkB/+zpwzoxKQM3MzMzMeFJAZmZmZmZqWEAAAAAAAFxeQM3MzMzMJmJAmpmZmZkfZUBmZmZmZhhoQDMzMzMzEWtAAAAAAAAKbkBmZmZmZoFwQM3MzMzM/XFAMzMzMzN6c0CamZmZmfZ0QAAAAAAAc3ZAZmZmZmbvd0DNzMzMzGt5QDMzMzMz6HpAmpmZmZlkfEAAAAAAAOF9QGZmZmZmXX9AZmZmZuZsgECamZmZGSuBQM3MzMxM6YFAAAAAAICngkAzMzMzs2WDQGZmZmbmI4RAmpmZmRnihEDNzMzMTKCFQAAAAACAXoZAMzMzM7Mch0BmZmZm5tqHQJqZmZkZmYhAzczMzExXiUAAAAAAgBWKQDMzMzOz04pAZmZmZuaRi0CamZmZGVCMQM3MzMxMDo1AAAAAAIDMjUAzMzMzs4qOQGZmZmbmSI9A\",\"dtype\":\"float64\",\"shape\":[75]}},\"selected\":{\"id\":\"596469bf-e815-4774-bb27-0ac09c37b3f7\",\"type\":\"Selection\"},\"selection_policy\":{\"id\":\"9180fda1-1278-4f24-889d-8f1becb5ed7f\",\"type\":\"UnionRenderers\"}},\"id\":\"6da9da12-bf09-4175-aee1-d4ee0fbf4fc6\",\"type\":\"ColumnDataSource\"},{\"attributes\":{\"overlay\":{\"id\":\"aaa80a91-93c9-4b82-96c6-2fdb71dbbe36\",\"type\":\"BoxAnnotation\"}},\"id\":\"b6c2e99a-e49a-4945-adfd-4c1bbd555e57\",\"type\":\"BoxZoomTool\"},{\"attributes\":{\"fill_alpha\":{\"value\":0.7},\"fill_color\":{\"value\":\"#4daf4a\"},\"line_alpha\":{\"value\":0.7},\"line_color\":{\"value\":\"#4daf4a\"},\"x\":{\"field\":\"x\"},\"y\":{\"field\":\"y\"}},\"id\":\"99b3bb37-9c64-4ead-b4ba-0eb7d920a20f\",\"type\":\"Circle\"},{\"attributes\":{\"source\":{\"id\":\"cfcaf336-16b3-4477-ab27-998ca936bc45\",\"type\":\"ColumnDataSource\"}},\"id\":\"91462802-9708-4d70-bbd8-8e833977d573\",\"type\":\"CDSView\"},{\"attributes\":{},\"id\":\"a9896655-7a85-4c56-8b6f-f112326d9a45\",\"type\":\"PanTool\"},{\"attributes\":{\"callback\":null,\"data\":{\"x\":{\"__ndarray__\":\"4tVOoa5GpL/1RIv32YSmv+HkNbHr16q/yacW/eD9rr94wN+pLHyxv6rGAapuZLO/3xOVVEA2tb++bEAmR/G2v3ibWFzzlbi/SJ/aCcQlur9b8IGhN6q7v8w0UM9xJL2/DPD2gy6fvr8NiZw6ZgvAv650Z7t8SsC/mybH+Is0vr9LAs8b+cyxvz3gkeMUPqE/odyV4WjcyT+/Fuxt0KrcP73a9uIwHek/+cSVDjG58z9hLk4h/BD8P64P641aIQBAJ2IAl7bu/D91+cVbnTL3P58U92kmKfE/RB77OB4c6D9P9flizvfgP5LdeaAdCdc/Kv0p+uj5xz+BhH8W7R+TPwkNnOrLfbm/blTAoPlax7+gG/VrRiHQv1Ypf+8dktG/He5+cJkuz7+EsyEg2wnLv8gZN/OzKsm/hbl6ocKJxr+KkUaBFRLCv324YICvrry/3jFldeWSt78sm7AyV9yyv9jvekp9Qq6/3gLoezZAqb9DZTioQfSkv4BmEB/Y8aC/bAZxS8/nmr/vGO7BQ8+Uv743z9aWQY6/dDKeLKi0g7+18DA9vtVzv5L6bpdWczu/pnE9RIItbz8v4qnyPkiAP1WDY6ggxYg/zkdZjKjzkD+sJzxmdbKVP5qEVE+7n5o/Z9d7+bbDnz8VO7KjhYyiP50Uqdq1V6U/5cJ5H+RIqD85s0524lurP/gjHOUmi64/Ir1peWzrsD912WZlJpGyP0H92yOjHLQ/0p2SObeFtT+FZ2pbkti2P0bHa+QOKbg/XdmvgrKFuT/p4sLDrP66P7kn/t5csrw/\",\"dtype\":\"float64\",\"shape\":[75]},\"y\":{\"__ndarray__\":\"GhExyth1ND/Sv8nbtpRIP2vylNV0PVE/aTum7souWD/At0SJ8fVgPw3Iuahxymc/MSNhhJWvcD/bTfBN02d3P2zb5nxnaoA/CD5h5MAGhz8NmeH1TyaQP+zrCsc9p5Y/LbKd76fGnz/bLW5ISEmmPww9YvTcQq8/JV2OstnstT8Er5Y7M8G+P0c+r3jqkcU/5h99k6ZBzj88bCIzFzjVP4enV8oyxN0//yH99nXg5D8qOpLLf0jtP5kqGJXUifQ/c9cS8kHP/D+/DpwzojQEQIEmwoanVwxA4lgXt9HgE0BSSZ2AJuIbQAMJih9jjiNA5q4l5INuK0AwTKYKRj0zQNv5fmq8/DpAaCJseHrtQkB/+zpwzoxKQM3MzMzMeFJAZmZmZmZqWEAAAAAAAFxeQM3MzMzMJmJAmpmZmZkfZUBmZmZmZhhoQDMzMzMzEWtAAAAAAAAKbkBmZmZmZoFwQM3MzMzM/XFAMzMzMzN6c0CamZmZmfZ0QAAAAAAAc3ZAZmZmZmbvd0DNzMzMzGt5QDMzMzMz6HpAmpmZmZlkfEAAAAAAAOF9QGZmZmZmXX9AZmZmZuZsgECamZmZGSuBQM3MzMxM6YFAAAAAAICngkAzMzMzs2WDQGZmZmbmI4RAmpmZmRnihEDNzMzMTKCFQAAAAACAXoZAMzMzM7Mch0BmZmZm5tqHQJqZmZkZmYhAzczMzExXiUAAAAAAgBWKQDMzMzOz04pAZmZmZuaRi0CamZmZGVCMQM3MzMxMDo1AAAAAAIDMjUAzMzMzs4qOQGZmZmbmSI9A\",\"dtype\":\"float64\",\"shape\":[75]}},\"selected\":{\"id\":\"6c108198-4e39-43cd-8d16-68cb0398b021\",\"type\":\"Selection\"},\"selection_policy\":{\"id\":\"c22805ec-9b91-4f49-82ec-056e1bd5d2b5\",\"type\":\"UnionRenderers\"}},\"id\":\"20bddbef-3913-4deb-91ee-19e2e3c3616a\",\"type\":\"ColumnDataSource\"},{\"attributes\":{},\"id\":\"3d98506a-7610-4ba1-9e29-b044307d3bb3\",\"type\":\"WheelZoomTool\"},{\"attributes\":{\"line_color\":\"#4daf4a\",\"line_width\":1.5,\"x\":{\"field\":\"x\"},\"y\":{\"field\":\"y\"}},\"id\":\"1a2ca2d6-c63b-4559-a093-75130d5faddf\",\"type\":\"Line\"},{\"attributes\":{\"fill_alpha\":{\"value\":0.7},\"fill_color\":{\"value\":\"#984ea3\"},\"line_alpha\":{\"value\":0.7},\"line_color\":{\"value\":\"#984ea3\"},\"x\":{\"field\":\"x\"},\"y\":{\"field\":\"y\"}},\"id\":\"9b5be351-c036-4709-8664-88b7652de051\",\"type\":\"Square\"},{\"attributes\":{\"callback\":null,\"end\":0.01,\"start\":1020},\"id\":\"96161a2f-9327-4bd2-b812-dc30f0334124\",\"type\":\"Range1d\"},{\"attributes\":{},\"id\":\"92b0f073-ddb3-4f91-870f-cdb89488d414\",\"type\":\"SaveTool\"},{\"attributes\":{\"source\":{\"id\":\"d32f1425-a168-46b1-99d5-67de68817531\",\"type\":\"ColumnDataSource\"}},\"id\":\"913e2572-118b-4fe8-b94a-31b4ca762dcd\",\"type\":\"CDSView\"},{\"attributes\":{\"source\":{\"id\":\"63a8a91b-3c33-4928-ba28-0eeca26254bd\",\"type\":\"ColumnDataSource\"}},\"id\":\"0b8eb4e1-1cc5-42e0-8d03-a0b5bb3717bb\",\"type\":\"CDSView\"},{\"attributes\":{\"fill_alpha\":{\"value\":0.1},\"fill_color\":{\"value\":\"#1f77b4\"},\"line_alpha\":{\"value\":0.1},\"line_color\":{\"value\":\"#1f77b4\"},\"x\":{\"field\":\"x\"},\"y\":{\"field\":\"y\"}},\"id\":\"93ed493c-476a-472d-b498-a210507e3474\",\"type\":\"Square\"},{\"attributes\":{\"line_color\":\"#4daf4a\",\"line_width\":1.5,\"x\":{\"field\":\"x\"},\"y\":{\"field\":\"y\"}},\"id\":\"402c516a-9e5a-443a-8720-51263fa91889\",\"type\":\"Line\"},{\"attributes\":{\"children\":[{\"id\":\"5da317e9-ec32-4040-a468-e97b2ecc013e\",\"subtype\":\"Figure\",\"type\":\"Plot\"},{\"id\":\"4bde068c-35f1-4f64-9489-6f8cfb679548\",\"subtype\":\"Figure\",\"type\":\"Plot\"}]},\"id\":\"54083483-0c17-40d7-9765-ce9732fb37e2\",\"type\":\"Row\"},{\"attributes\":{},\"id\":\"6b623c25-7d1c-41ed-8f71-d48ba1029beb\",\"type\":\"BasicTickFormatter\"},{\"attributes\":{\"callback\":null,\"data\":{\"x\":{\"__ndarray__\":\"4tVOoa5GpL/1RIv32YSmv+HkNbHr16q/yacW/eD9rr94wN+pLHyxv6rGAapuZLO/3xOVVEA2tb++bEAmR/G2v3ibWFzzlbi/SJ/aCcQlur9b8IGhN6q7v8w0UM9xJL2/DPD2gy6fvr8NiZw6ZgvAv650Z7t8SsC/mybH+Is0vr9LAs8b+cyxvz3gkeMUPqE/odyV4WjcyT+/Fuxt0KrcP73a9uIwHek/+cSVDjG58z9hLk4h/BD8P64P641aIQBAJ2IAl7bu/D91+cVbnTL3P58U92kmKfE/RB77OB4c6D9P9flizvfgP5LdeaAdCdc/Kv0p+uj5xz+BhH8W7R+TPwkNnOrLfbm/blTAoPlax7+gG/VrRiHQv1Ypf+8dktG/He5+cJkuz7+EsyEg2wnLv8gZN/OzKsm/hbl6ocKJxr+KkUaBFRLCv324YICvrry/3jFldeWSt78sm7AyV9yyv9jvekp9Qq6/3gLoezZAqb9DZTioQfSkv4BmEB/Y8aC/bAZxS8/nmr/vGO7BQ8+Uv743z9aWQY6/dDKeLKi0g7+18DA9vtVzv5L6bpdWczu/pnE9RIItbz8v4qnyPkiAP1WDY6ggxYg/zkdZjKjzkD+sJzxmdbKVP5qEVE+7n5o/Z9d7+bbDnz8VO7KjhYyiP50Uqdq1V6U/5cJ5H+RIqD85s0524lurP/gjHOUmi64/Ir1peWzrsD912WZlJpGyP0H92yOjHLQ/0p2SObeFtT+FZ2pbkti2P0bHa+QOKbg/XdmvgrKFuT/p4sLDrP66P7kn/t5csrw/\",\"dtype\":\"float64\",\"shape\":[75]},\"y\":{\"__ndarray__\":\"GhExyth1ND/Sv8nbtpRIP2vylNV0PVE/aTum7souWD/At0SJ8fVgPw3Iuahxymc/MSNhhJWvcD/bTfBN02d3P2zb5nxnaoA/CD5h5MAGhz8NmeH1TyaQP+zrCsc9p5Y/LbKd76fGnz/bLW5ISEmmPww9YvTcQq8/JV2OstnstT8Er5Y7M8G+P0c+r3jqkcU/5h99k6ZBzj88bCIzFzjVP4enV8oyxN0//yH99nXg5D8qOpLLf0jtP5kqGJXUifQ/c9cS8kHP/D+/DpwzojQEQIEmwoanVwxA4lgXt9HgE0BSSZ2AJuIbQAMJih9jjiNA5q4l5INuK0AwTKYKRj0zQNv5fmq8/DpAaCJseHrtQkB/+zpwzoxKQM3MzMzMeFJAZmZmZmZqWEAAAAAAAFxeQM3MzMzMJmJAmpmZmZkfZUBmZmZmZhhoQDMzMzMzEWtAAAAAAAAKbkBmZmZmZoFwQM3MzMzM/XFAMzMzMzN6c0CamZmZmfZ0QAAAAAAAc3ZAZmZmZmbvd0DNzMzMzGt5QDMzMzMz6HpAmpmZmZlkfEAAAAAAAOF9QGZmZmZmXX9AZmZmZuZsgECamZmZGSuBQM3MzMxM6YFAAAAAAICngkAzMzMzs2WDQGZmZmbmI4RAmpmZmRnihEDNzMzMTKCFQAAAAACAXoZAMzMzM7Mch0BmZmZm5tqHQJqZmZkZmYhAzczMzExXiUAAAAAAgBWKQDMzMzOz04pAZmZmZuaRi0CamZmZGVCMQM3MzMxMDo1AAAAAAIDMjUAzMzMzs4qOQGZmZmbmSI9A\",\"dtype\":\"float64\",\"shape\":[75]}},\"selected\":{\"id\":\"4d014134-3c29-466f-a737-19cf223f1dec\",\"type\":\"Selection\"},\"selection_policy\":{\"id\":\"13261d57-6656-40ea-9b5e-7281871dbdcc\",\"type\":\"UnionRenderers\"}},\"id\":\"f6dfd16d-15c4-46fa-ba4b-8e16c29a905b\",\"type\":\"ColumnDataSource\"},{\"attributes\":{\"label\":{\"value\":\"CLIRAD `coolr_bands`\"},\"renderers\":[{\"id\":\"4f1f9a44-b225-4aa6-9634-51f75251d106\",\"type\":\"GlyphRenderer\"}]},\"id\":\"397246c4-1831-45db-a54e-486cf2b1b50b\",\"type\":\"LegendItem\"},{\"attributes\":{\"below\":[{\"id\":\"b9a07829-2088-4009-803a-48b2c6928564\",\"type\":\"LinearAxis\"}],\"left\":[{\"id\":\"e1de7e97-ef00-4c95-894e-aeb5d2f41e38\",\"type\":\"LinearAxis\"}],\"plot_height\":500,\"plot_width\":400,\"renderers\":[{\"id\":\"b9a07829-2088-4009-803a-48b2c6928564\",\"type\":\"LinearAxis\"},{\"id\":\"9ec07373-22b3-4b4b-b075-c76cc82d0eb0\",\"type\":\"Grid\"},{\"id\":\"e1de7e97-ef00-4c95-894e-aeb5d2f41e38\",\"type\":\"LinearAxis\"},{\"id\":\"bd8d469c-0f59-40c7-8ac8-9eb79807df27\",\"type\":\"Grid\"},{\"id\":\"aaa80a91-93c9-4b82-96c6-2fdb71dbbe36\",\"type\":\"BoxAnnotation\"},{\"id\":\"f28a0d7c-2eec-499b-b7eb-9271f7e9e825\",\"type\":\"GlyphRenderer\"},{\"id\":\"4ee80e85-86c6-41bb-bbc6-94deaf3de0c7\",\"type\":\"GlyphRenderer\"},{\"id\":\"a1590be8-9197-4ffd-9cd5-566531f32659\",\"type\":\"GlyphRenderer\"},{\"id\":\"c5603edc-c945-4156-90de-f6f689e777a8\",\"type\":\"GlyphRenderer\"},{\"id\":\"2f14a26b-9377-4808-95b4-a59d607f1fe3\",\"type\":\"GlyphRenderer\"}],\"title\":{\"id\":\"70d8b5fd-19ed-44a1-ba04-e6927e08a25d\",\"type\":\"Title\"},\"toolbar\":{\"id\":\"f854356e-a3fb-4e96-a5a6-ac6b9806d0ce\",\"type\":\"Toolbar\"},\"toolbar_location\":null,\"x_range\":{\"id\":\"69b378dd-1d13-41b9-96f9-e2bee05844d9\",\"type\":\"Range1d\"},\"x_scale\":{\"id\":\"211b008a-45db-484b-81b9-b1a8811d73da\",\"type\":\"LinearScale\"},\"y_range\":{\"id\":\"96161a2f-9327-4bd2-b812-dc30f0334124\",\"type\":\"Range1d\"},\"y_scale\":{\"id\":\"2455e01d-0e3c-4346-82c6-47354d820d44\",\"type\":\"LinearScale\"}},\"id\":\"5da317e9-ec32-4040-a468-e97b2ecc013e\",\"subtype\":\"Figure\",\"type\":\"Plot\"},{\"attributes\":{\"axis_label\":\"pressure [mb]\",\"formatter\":{\"id\":\"6b623c25-7d1c-41ed-8f71-d48ba1029beb\",\"type\":\"BasicTickFormatter\"},\"plot\":{\"id\":\"5da317e9-ec32-4040-a468-e97b2ecc013e\",\"subtype\":\"Figure\",\"type\":\"Plot\"},\"ticker\":{\"id\":\"c0b4abf0-9114-4252-8334-f70ecb8b2425\",\"type\":\"BasicTicker\"}},\"id\":\"e1de7e97-ef00-4c95-894e-aeb5d2f41e38\",\"type\":\"LinearAxis\"},{\"attributes\":{},\"id\":\"ea5d0425-d9df-4a16-99d7-fdfa58391c62\",\"type\":\"UnionRenderers\"},{\"attributes\":{\"callback\":null,\"data\":{\"x\":{\"__ndarray__\":\"4tVOoa5GpL/1RIv32YSmv+HkNbHr16q/yacW/eD9rr94wN+pLHyxv6rGAapuZLO/3xOVVEA2tb++bEAmR/G2v3ibWFzzlbi/SJ/aCcQlur9b8IGhN6q7v8w0UM9xJL2/DPD2gy6fvr8NiZw6ZgvAv650Z7t8SsC/mybH+Is0vr9LAs8b+cyxvz3gkeMUPqE/odyV4WjcyT+/Fuxt0KrcP73a9uIwHek/+cSVDjG58z9hLk4h/BD8P64P641aIQBAJ2IAl7bu/D91+cVbnTL3P58U92kmKfE/RB77OB4c6D9P9flizvfgP5LdeaAdCdc/Kv0p+uj5xz+BhH8W7R+TPwkNnOrLfbm/blTAoPlax7+gG/VrRiHQv1Ypf+8dktG/He5+cJkuz7+EsyEg2wnLv8gZN/OzKsm/hbl6ocKJxr+KkUaBFRLCv324YICvrry/3jFldeWSt78sm7AyV9yyv9jvekp9Qq6/3gLoezZAqb9DZTioQfSkv4BmEB/Y8aC/bAZxS8/nmr/vGO7BQ8+Uv743z9aWQY6/dDKeLKi0g7+18DA9vtVzv5L6bpdWczu/pnE9RIItbz8v4qnyPkiAP1WDY6ggxYg/zkdZjKjzkD+sJzxmdbKVP5qEVE+7n5o/Z9d7+bbDnz8VO7KjhYyiP50Uqdq1V6U/5cJ5H+RIqD85s0524lurP/gjHOUmi64/Ir1peWzrsD912WZlJpGyP0H92yOjHLQ/0p2SObeFtT+FZ2pbkti2P0bHa+QOKbg/XdmvgrKFuT/p4sLDrP66P7kn/t5csrw/\",\"dtype\":\"float64\",\"shape\":[75]},\"y\":{\"__ndarray__\":\"GhExyth1ND/Sv8nbtpRIP2vylNV0PVE/aTum7souWD/At0SJ8fVgPw3Iuahxymc/MSNhhJWvcD/bTfBN02d3P2zb5nxnaoA/CD5h5MAGhz8NmeH1TyaQP+zrCsc9p5Y/LbKd76fGnz/bLW5ISEmmPww9YvTcQq8/JV2OstnstT8Er5Y7M8G+P0c+r3jqkcU/5h99k6ZBzj88bCIzFzjVP4enV8oyxN0//yH99nXg5D8qOpLLf0jtP5kqGJXUifQ/c9cS8kHP/D+/DpwzojQEQIEmwoanVwxA4lgXt9HgE0BSSZ2AJuIbQAMJih9jjiNA5q4l5INuK0AwTKYKRj0zQNv5fmq8/DpAaCJseHrtQkB/+zpwzoxKQM3MzMzMeFJAZmZmZmZqWEAAAAAAAFxeQM3MzMzMJmJAmpmZmZkfZUBmZmZmZhhoQDMzMzMzEWtAAAAAAAAKbkBmZmZmZoFwQM3MzMzM/XFAMzMzMzN6c0CamZmZmfZ0QAAAAAAAc3ZAZmZmZmbvd0DNzMzMzGt5QDMzMzMz6HpAmpmZmZlkfEAAAAAAAOF9QGZmZmZmXX9AZmZmZuZsgECamZmZGSuBQM3MzMxM6YFAAAAAAICngkAzMzMzs2WDQGZmZmbmI4RAmpmZmRnihEDNzMzMTKCFQAAAAACAXoZAMzMzM7Mch0BmZmZm5tqHQJqZmZkZmYhAzczMzExXiUAAAAAAgBWKQDMzMzOz04pAZmZmZuaRi0CamZmZGVCMQM3MzMxMDo1AAAAAAIDMjUAzMzMzs4qOQGZmZmbmSI9A\",\"dtype\":\"float64\",\"shape\":[75]}},\"selected\":{\"id\":\"3cf1638c-8ced-4272-95d9-6c58b035b6db\",\"type\":\"Selection\"},\"selection_policy\":{\"id\":\"a2a547b9-7dd7-433d-8bd0-a258ef57cee7\",\"type\":\"UnionRenderers\"}},\"id\":\"3a0fa202-e8a6-45cf-a1dc-32891b429486\",\"type\":\"ColumnDataSource\"},{\"attributes\":{\"label\":{\"value\":\"CRD\"},\"renderers\":[{\"id\":\"5557a8b2-b5cc-4398-a5a0-bf0a2ecd0067\",\"type\":\"GlyphRenderer\"},{\"id\":\"f19bbf31-bb2d-4788-b8e1-070aa65baaba\",\"type\":\"GlyphRenderer\"}]},\"id\":\"654ab885-e577-491c-be59-ac29d375d516\",\"type\":\"LegendItem\"},{\"attributes\":{\"data_source\":{\"id\":\"b9f09ca0-faa0-4a4e-92e2-a451ab3df846\",\"type\":\"ColumnDataSource\"},\"glyph\":{\"id\":\"ac3a44a1-f96d-4d2f-9ac0-679d81e378e2\",\"type\":\"Line\"},\"hover_glyph\":null,\"muted_glyph\":null,\"nonselection_glyph\":{\"id\":\"df3f3565-285c-4202-9cf8-9b421d260538\",\"type\":\"Line\"},\"selection_glyph\":null,\"view\":{\"id\":\"3c1b2ed2-cead-41da-bcbf-d7d14ff45c22\",\"type\":\"CDSView\"}},\"id\":\"4f1f9a44-b225-4aa6-9634-51f75251d106\",\"type\":\"GlyphRenderer\"},{\"attributes\":{},\"id\":\"5fd804cf-f3cf-42a3-846e-9d5fad4bd0bb\",\"type\":\"Selection\"},{\"attributes\":{\"data_source\":{\"id\":\"f6dfd16d-15c4-46fa-ba4b-8e16c29a905b\",\"type\":\"ColumnDataSource\"},\"glyph\":{\"id\":\"99b3bb37-9c64-4ead-b4ba-0eb7d920a20f\",\"type\":\"Circle\"},\"hover_glyph\":null,\"muted_glyph\":null,\"nonselection_glyph\":{\"id\":\"45d3dcf7-3c50-44a9-95c1-4e9b02aae0e5\",\"type\":\"Circle\"},\"selection_glyph\":null,\"view\":{\"id\":\"3a451029-4f59-44e6-8f89-c35741bbd091\",\"type\":\"CDSView\"}},\"id\":\"4ee80e85-86c6-41bb-bbc6-94deaf3de0c7\",\"type\":\"GlyphRenderer\"},{\"attributes\":{\"label\":{\"value\":\"WGT igg=10 wgt_flux=2\"},\"renderers\":[{\"id\":\"92b80bc9-c704-4854-b2ef-d92ecfeb6c5f\",\"type\":\"GlyphRenderer\"},{\"id\":\"e5a2cc0d-b3aa-4d93-83d1-6902a577a8ee\",\"type\":\"GlyphRenderer\"}]},\"id\":\"9fdfc988-82d0-4860-9f73-51df4e81a903\",\"type\":\"LegendItem\"},{\"attributes\":{},\"id\":\"13261d57-6656-40ea-9b5e-7281871dbdcc\",\"type\":\"UnionRenderers\"},{\"attributes\":{},\"id\":\"5254f0ec-8e96-4b4b-b2ef-fc2cca6e818d\",\"type\":\"BasicTickFormatter\"},{\"attributes\":{\"plot\":null,\"text\":\"Linear pressure scale\"},\"id\":\"70d8b5fd-19ed-44a1-ba04-e6927e08a25d\",\"type\":\"Title\"},{\"attributes\":{},\"id\":\"edb49c1f-b30e-4315-9049-32fe92860ce8\",\"type\":\"UnionRenderers\"},{\"attributes\":{},\"id\":\"e95c0f2e-b535-474d-883c-50683f83b4b4\",\"type\":\"BasicTickFormatter\"},{\"attributes\":{},\"id\":\"211b008a-45db-484b-81b9-b1a8811d73da\",\"type\":\"LinearScale\"},{\"attributes\":{},\"id\":\"b770aa12-f575-4e0f-a86b-0380833193a0\",\"type\":\"Selection\"},{\"attributes\":{},\"id\":\"4d014134-3c29-466f-a737-19cf223f1dec\",\"type\":\"Selection\"},{\"attributes\":{\"below\":[{\"id\":\"555c0bba-a2da-488d-b6c1-da8d8183e066\",\"type\":\"LinearAxis\"}],\"left\":[{\"id\":\"34d427f9-a167-464e-9eeb-c9a80a4e27c4\",\"type\":\"LogAxis\"}],\"plot_height\":500,\"plot_width\":560,\"renderers\":[{\"id\":\"555c0bba-a2da-488d-b6c1-da8d8183e066\",\"type\":\"LinearAxis\"},{\"id\":\"9e8bf4ac-c0ed-4f99-840f-8fb22653d710\",\"type\":\"Grid\"},{\"id\":\"34d427f9-a167-464e-9eeb-c9a80a4e27c4\",\"type\":\"LogAxis\"},{\"id\":\"faf99671-48bd-48aa-b6fd-8e17a2804231\",\"type\":\"Grid\"},{\"id\":\"05a78513-7523-4d3f-bc95-d5ba3436769f\",\"type\":\"BoxAnnotation\"},{\"id\":\"4f1f9a44-b225-4aa6-9634-51f75251d106\",\"type\":\"GlyphRenderer\"},{\"id\":\"5557a8b2-b5cc-4398-a5a0-bf0a2ecd0067\",\"type\":\"GlyphRenderer\"},{\"id\":\"f19bbf31-bb2d-4788-b8e1-070aa65baaba\",\"type\":\"GlyphRenderer\"},{\"id\":\"92b80bc9-c704-4854-b2ef-d92ecfeb6c5f\",\"type\":\"GlyphRenderer\"},{\"id\":\"e5a2cc0d-b3aa-4d93-83d1-6902a577a8ee\",\"type\":\"GlyphRenderer\"},{\"id\":\"d0e4af2e-a2e8-4ef3-9a0a-e7f4877ae545\",\"type\":\"Legend\"}],\"right\":[{\"id\":\"d0e4af2e-a2e8-4ef3-9a0a-e7f4877ae545\",\"type\":\"Legend\"}],\"title\":{\"id\":\"8c2f116c-3fcb-4efc-a717-1c129434b6e0\",\"type\":\"Title\"},\"toolbar\":{\"id\":\"087cb753-0272-4adf-b107-19c21f33fa71\",\"type\":\"Toolbar\"},\"toolbar_location\":null,\"x_range\":{\"id\":\"e6eb144c-8a57-452d-90b9-fb124ee9fbd2\",\"type\":\"Range1d\"},\"x_scale\":{\"id\":\"5b75c570-47a8-4ec4-bc93-262109019c5a\",\"type\":\"LinearScale\"},\"y_range\":{\"id\":\"fb5ae4c5-189a-46a6-bcf9-a358910fe40d\",\"type\":\"Range1d\"},\"y_scale\":{\"id\":\"2452eaad-4cc7-4ab8-8d50-a84272841cf3\",\"type\":\"LogScale\"}},\"id\":\"4bde068c-35f1-4f64-9489-6f8cfb679548\",\"subtype\":\"Figure\",\"type\":\"Plot\"},{\"attributes\":{},\"id\":\"a2a547b9-7dd7-433d-8bd0-a258ef57cee7\",\"type\":\"UnionRenderers\"},{\"attributes\":{\"fill_alpha\":{\"value\":0.7},\"fill_color\":{\"value\":\"#984ea3\"},\"line_alpha\":{\"value\":0.7},\"line_color\":{\"value\":\"#984ea3\"},\"x\":{\"field\":\"x\"},\"y\":{\"field\":\"y\"}},\"id\":\"2cbaf424-c39f-49de-8fe6-64f1427a702b\",\"type\":\"Square\"},{\"attributes\":{},\"id\":\"3cf1638c-8ced-4272-95d9-6c58b035b6db\",\"type\":\"Selection\"},{\"attributes\":{},\"id\":\"335f3fe3-7384-4f72-a7f5-e5c54ecc1812\",\"type\":\"UnionRenderers\"},{\"attributes\":{},\"id\":\"b54de23e-744d-44d3-aa12-b9cabb71bc24\",\"type\":\"Selection\"},{\"attributes\":{\"fill_alpha\":{\"value\":0.1},\"fill_color\":{\"value\":\"#1f77b4\"},\"line_alpha\":{\"value\":0.1},\"line_color\":{\"value\":\"#1f77b4\"},\"x\":{\"field\":\"x\"},\"y\":{\"field\":\"y\"}},\"id\":\"45d3dcf7-3c50-44a9-95c1-4e9b02aae0e5\",\"type\":\"Circle\"},{\"attributes\":{},\"id\":\"05f97d1b-861b-41b2-924f-ce7323088bc1\",\"type\":\"Selection\"},{\"attributes\":{\"line_alpha\":0.1,\"line_color\":\"#1f77b4\",\"line_width\":3,\"x\":{\"field\":\"x\"},\"y\":{\"field\":\"y\"}},\"id\":\"51336d15-f6c1-461b-a62e-06282a19b9df\",\"type\":\"Line\"},{\"attributes\":{},\"id\":\"9e992690-f1ae-4737-93a1-e21e2e5960c9\",\"type\":\"Selection\"},{\"attributes\":{\"line_alpha\":0.1,\"line_color\":\"#1f77b4\",\"line_width\":1.5,\"x\":{\"field\":\"x\"},\"y\":{\"field\":\"y\"}},\"id\":\"17d947f9-afd5-4986-b8f2-2f8f2c560408\",\"type\":\"Line\"},{\"attributes\":{\"ticker\":null},\"id\":\"ecb2fee5-0e0b-404e-bde3-2e13f14966e3\",\"type\":\"LogTickFormatter\"},{\"attributes\":{},\"id\":\"06e13972-8d6e-4952-8814-675a97044699\",\"type\":\"UnionRenderers\"},{\"attributes\":{},\"id\":\"823c225e-531b-4edd-8acb-643399b987a4\",\"type\":\"Selection\"},{\"attributes\":{},\"id\":\"49e664ec-d635-4c49-bc9d-8c18566d5e9a\",\"type\":\"UnionRenderers\"},{\"attributes\":{},\"id\":\"34ac873d-d057-4d0d-a974-a070c59edddf\",\"type\":\"UnionRenderers\"},{\"attributes\":{},\"id\":\"c22805ec-9b91-4f49-82ec-056e1bd5d2b5\",\"type\":\"UnionRenderers\"},{\"attributes\":{\"active_drag\":\"auto\",\"active_inspect\":\"auto\",\"active_scroll\":\"auto\",\"active_tap\":\"auto\",\"tools\":[{\"id\":\"a9896655-7a85-4c56-8b6f-f112326d9a45\",\"type\":\"PanTool\"},{\"id\":\"3d98506a-7610-4ba1-9e29-b044307d3bb3\",\"type\":\"WheelZoomTool\"},{\"id\":\"b6c2e99a-e49a-4945-adfd-4c1bbd555e57\",\"type\":\"BoxZoomTool\"},{\"id\":\"92b0f073-ddb3-4f91-870f-cdb89488d414\",\"type\":\"SaveTool\"},{\"id\":\"34ddffd6-958d-4ff1-95bc-d1e0fe039dae\",\"type\":\"ResetTool\"},{\"id\":\"c360f06f-c948-4770-90b9-d80aabf911cb\",\"type\":\"HelpTool\"}]},\"id\":\"f854356e-a3fb-4e96-a5a6-ac6b9806d0ce\",\"type\":\"Toolbar\"},{\"attributes\":{\"line_alpha\":0.6,\"line_color\":\"#e41a1c\",\"line_dash\":[6],\"line_width\":5,\"x\":{\"field\":\"x\"},\"y\":{\"field\":\"y\"}},\"id\":\"7e625980-0cbf-40b5-8bc5-9298d9e9ed84\",\"type\":\"Line\"},{\"attributes\":{},\"id\":\"6c108198-4e39-43cd-8d16-68cb0398b021\",\"type\":\"Selection\"},{\"attributes\":{},\"id\":\"c0b4abf0-9114-4252-8334-f70ecb8b2425\",\"type\":\"BasicTicker\"},{\"attributes\":{},\"id\":\"9180fda1-1278-4f24-889d-8f1becb5ed7f\",\"type\":\"UnionRenderers\"},{\"attributes\":{},\"id\":\"596469bf-e815-4774-bb27-0ac09c37b3f7\",\"type\":\"Selection\"},{\"attributes\":{\"children\":[{\"id\":\"a4b650bd-5def-4692-8eff-5423fc2afac8\",\"type\":\"ToolbarBox\"},{\"id\":\"23f51100-3475-4591-a3f7-ae7cda68683a\",\"type\":\"Column\"}]},\"id\":\"50569a09-bbec-41ba-b340-b9d8413995b9\",\"type\":\"Column\"},{\"attributes\":{\"source\":{\"id\":\"f6dfd16d-15c4-46fa-ba4b-8e16c29a905b\",\"type\":\"ColumnDataSource\"}},\"id\":\"3a451029-4f59-44e6-8f89-c35741bbd091\",\"type\":\"CDSView\"},{\"attributes\":{\"tools\":[{\"id\":\"a9896655-7a85-4c56-8b6f-f112326d9a45\",\"type\":\"PanTool\"},{\"id\":\"3d98506a-7610-4ba1-9e29-b044307d3bb3\",\"type\":\"WheelZoomTool\"},{\"id\":\"b6c2e99a-e49a-4945-adfd-4c1bbd555e57\",\"type\":\"BoxZoomTool\"},{\"id\":\"92b0f073-ddb3-4f91-870f-cdb89488d414\",\"type\":\"SaveTool\"},{\"id\":\"34ddffd6-958d-4ff1-95bc-d1e0fe039dae\",\"type\":\"ResetTool\"},{\"id\":\"c360f06f-c948-4770-90b9-d80aabf911cb\",\"type\":\"HelpTool\"},{\"id\":\"423d23e2-3aa5-4717-bfa9-35000093b36f\",\"type\":\"PanTool\"},{\"id\":\"c0e89290-0cbd-4efd-b9fb-41efb21cbbe7\",\"type\":\"WheelZoomTool\"},{\"id\":\"6ec4f606-7ba2-4fa7-9631-97514a4c4d58\",\"type\":\"BoxZoomTool\"},{\"id\":\"e1f350fd-a649-489d-877e-bba987c9b538\",\"type\":\"SaveTool\"},{\"id\":\"e56e2a5b-8d31-45b0-8ff5-6e2daceb9c4d\",\"type\":\"ResetTool\"},{\"id\":\"7cddd41a-2d9b-4683-8f92-24a35c001ff6\",\"type\":\"HelpTool\"}]},\"id\":\"e2a2f32b-1a60-4878-817e-9c3c85d2a49f\",\"type\":\"ProxyToolbar\"},{\"attributes\":{\"data_source\":{\"id\":\"3a0fa202-e8a6-45cf-a1dc-32891b429486\",\"type\":\"ColumnDataSource\"},\"glyph\":{\"id\":\"1a2ca2d6-c63b-4559-a093-75130d5faddf\",\"type\":\"Line\"},\"hover_glyph\":null,\"muted_glyph\":null,\"nonselection_glyph\":{\"id\":\"17d947f9-afd5-4986-b8f2-2f8f2c560408\",\"type\":\"Line\"},\"selection_glyph\":null,\"view\":{\"id\":\"963709b5-8204-4116-8b5f-1f2be178717a\",\"type\":\"CDSView\"}},\"id\":\"a1590be8-9197-4ffd-9cd5-566531f32659\",\"type\":\"GlyphRenderer\"},{\"attributes\":{\"toolbar\":{\"id\":\"e2a2f32b-1a60-4878-817e-9c3c85d2a49f\",\"type\":\"ProxyToolbar\"},\"toolbar_location\":\"above\"},\"id\":\"a4b650bd-5def-4692-8eff-5423fc2afac8\",\"type\":\"ToolbarBox\"},{\"attributes\":{\"data_source\":{\"id\":\"f26cd27c-7069-45e4-8f12-869e7c43afdd\",\"type\":\"ColumnDataSource\"},\"glyph\":{\"id\":\"2cbaf424-c39f-49de-8fe6-64f1427a702b\",\"type\":\"Square\"},\"hover_glyph\":null,\"muted_glyph\":null,\"nonselection_glyph\":{\"id\":\"81b1fc6c-c82c-4365-8fc3-78d9bfc36529\",\"type\":\"Square\"},\"selection_glyph\":null,\"view\":{\"id\":\"00e2dccb-4deb-4c3b-8d89-4b9595435776\",\"type\":\"CDSView\"}},\"id\":\"c5603edc-c945-4156-90de-f6f689e777a8\",\"type\":\"GlyphRenderer\"},{\"attributes\":{\"callback\":null,\"data\":{\"x\":{\"__ndarray__\":\"w/73T1Olob/g32Na4pujv1ZI52b5Zqe/5lIBnIMMq78/7ZJmY42uv9XV4CdV9bC/AvJx4rWPsr+PdwpjUha0v5e19DhxkbW/sIFHMOL2tr+XKQkw/EW4v0bbcNmajbm//AmAVDfVur99WmaNUQm8v6sk9CuEcry/70PWAa1Mur9TsBzaLe2tvzWaJOIiAaM/U07m5dEJyT/W3ivjdIzbP+j9uUe6L+g/AjYxbrQN8z+c8FwpFT77P8TOuYA8wP8/06LjD6sk/T9wUXevpOb3P6fJMf4iLfI/+RySORqQ6j+Uj/ai6nXjP1RbZugKPNs/W/rhMU2izT8WmlbQ1dKkPyCD525v6Le/tSmJstgiyL/NkiFDnk/Rv8Gp7hUGOtO/YKVp7QkU0b9NUvQbgVPNv0tJ5sN52cq/z3fgMXahx7/L1n5bRbnCv6RNm5Ioi72/IVtUk/kquL9oeF0GNkOzv+o7NDa40K6/q5DHEw6rqb82TzsdREKlv00SjeavLaG/+NbgrY5Em79lrBXxxheVv+Y2tt48w46/bCeRF64bhL9LOJXJB310v9keZfbnrEK/6Rw0WTI3bj9zOB2+URaAP1UIRoaekog/i5z1karZkD8pLjuCI5qVP/lqoioBjJo/C4Tcxhi4nz+PZWFS84qiP28Qt4fgX6U/ZWzZO1JmqD/YI7tvCJerP5nJgWj39a4/JUo7aIhAsT/t2FRSMRKzPx9jRxOK1bQ/hb3S9++Btj8o3UeCMSG4P1DvuX6Hw7k/OU4jkL9yuz94nrJ5oD69P5HdHueqN78/\",\"dtype\":\"float64\",\"shape\":[75]},\"y\":{\"__ndarray__\":\"GhExyth1ND/Sv8nbtpRIP2vylNV0PVE/aTum7souWD/At0SJ8fVgPw3Iuahxymc/MSNhhJWvcD/bTfBN02d3P2zb5nxnaoA/CD5h5MAGhz8NmeH1TyaQP+zrCsc9p5Y/LbKd76fGnz/bLW5ISEmmPww9YvTcQq8/JV2OstnstT8Er5Y7M8G+P0c+r3jqkcU/5h99k6ZBzj88bCIzFzjVP4enV8oyxN0//yH99nXg5D8qOpLLf0jtP5kqGJXUifQ/c9cS8kHP/D+/DpwzojQEQIEmwoanVwxA4lgXt9HgE0BSSZ2AJuIbQAMJih9jjiNA5q4l5INuK0AwTKYKRj0zQNv5fmq8/DpAaCJseHrtQkB/+zpwzoxKQM3MzMzMeFJAZmZmZmZqWEAAAAAAAFxeQM3MzMzMJmJAmpmZmZkfZUBmZmZmZhhoQDMzMzMzEWtAAAAAAAAKbkBmZmZmZoFwQM3MzMzM/XFAMzMzMzN6c0CamZmZmfZ0QAAAAAAAc3ZAZmZmZmbvd0DNzMzMzGt5QDMzMzMz6HpAmpmZmZlkfEAAAAAAAOF9QGZmZmZmXX9AZmZmZuZsgECamZmZGSuBQM3MzMxM6YFAAAAAAICngkAzMzMzs2WDQGZmZmbmI4RAmpmZmRnihEDNzMzMTKCFQAAAAACAXoZAMzMzM7Mch0BmZmZm5tqHQJqZmZkZmYhAzczMzExXiUAAAAAAgBWKQDMzMzOz04pAZmZmZuaRi0CamZmZGVCMQM3MzMxMDo1AAAAAAIDMjUAzMzMzs4qOQGZmZmbmSI9A\",\"dtype\":\"float64\",\"shape\":[75]}},\"selected\":{\"id\":\"b54de23e-744d-44d3-aa12-b9cabb71bc24\",\"type\":\"Selection\"},\"selection_policy\":{\"id\":\"335f3fe3-7384-4f72-a7f5-e5c54ecc1812\",\"type\":\"UnionRenderers\"}},\"id\":\"f26cd27c-7069-45e4-8f12-869e7c43afdd\",\"type\":\"ColumnDataSource\"},{\"attributes\":{\"data_source\":{\"id\":\"cfcaf336-16b3-4477-ab27-998ca936bc45\",\"type\":\"ColumnDataSource\"},\"glyph\":{\"id\":\"77c47135-50f1-4ef5-9433-968c08e68a9a\",\"type\":\"Line\"},\"hover_glyph\":null,\"muted_glyph\":null,\"nonselection_glyph\":{\"id\":\"51336d15-f6c1-461b-a62e-06282a19b9df\",\"type\":\"Line\"},\"selection_glyph\":null,\"view\":{\"id\":\"91462802-9708-4d70-bbd8-8e833977d573\",\"type\":\"CDSView\"}},\"id\":\"2f14a26b-9377-4808-95b4-a59d607f1fe3\",\"type\":\"GlyphRenderer\"},{\"attributes\":{\"items\":[{\"id\":\"397246c4-1831-45db-a54e-486cf2b1b50b\",\"type\":\"LegendItem\"},{\"id\":\"654ab885-e577-491c-be59-ac29d375d516\",\"type\":\"LegendItem\"},{\"id\":\"9fdfc988-82d0-4860-9f73-51df4e81a903\",\"type\":\"LegendItem\"}],\"label_text_font_size\":{\"value\":\"8pt\"},\"location\":[10,-30],\"plot\":{\"id\":\"4bde068c-35f1-4f64-9489-6f8cfb679548\",\"subtype\":\"Figure\",\"type\":\"Plot\"}},\"id\":\"d0e4af2e-a2e8-4ef3-9a0a-e7f4877ae545\",\"type\":\"Legend\"},{\"attributes\":{\"children\":[{\"id\":\"54083483-0c17-40d7-9765-ce9732fb37e2\",\"type\":\"Row\"}]},\"id\":\"23f51100-3475-4591-a3f7-ae7cda68683a\",\"type\":\"Column\"},{\"attributes\":{\"callback\":null,\"data\":{\"x\":{\"__ndarray__\":\"w/73T1Olob/g32Na4pujv1ZI52b5Zqe/5lIBnIMMq78/7ZJmY42uv9XV4CdV9bC/AvJx4rWPsr+PdwpjUha0v5e19DhxkbW/sIFHMOL2tr+XKQkw/EW4v0bbcNmajbm//AmAVDfVur99WmaNUQm8v6sk9CuEcry/70PWAa1Mur9TsBzaLe2tvzWaJOIiAaM/U07m5dEJyT/W3ivjdIzbP+j9uUe6L+g/AjYxbrQN8z+c8FwpFT77P8TOuYA8wP8/06LjD6sk/T9wUXevpOb3P6fJMf4iLfI/+RySORqQ6j+Uj/ai6nXjP1RbZugKPNs/W/rhMU2izT8WmlbQ1dKkPyCD525v6Le/tSmJstgiyL/NkiFDnk/Rv8Gp7hUGOtO/YKVp7QkU0b9NUvQbgVPNv0tJ5sN52cq/z3fgMXahx7/L1n5bRbnCv6RNm5Ioi72/IVtUk/kquL9oeF0GNkOzv+o7NDa40K6/q5DHEw6rqb82TzsdREKlv00SjeavLaG/+NbgrY5Em79lrBXxxheVv+Y2tt48w46/bCeRF64bhL9LOJXJB310v9keZfbnrEK/6Rw0WTI3bj9zOB2+URaAP1UIRoaekog/i5z1karZkD8pLjuCI5qVP/lqoioBjJo/C4Tcxhi4nz+PZWFS84qiP28Qt4fgX6U/ZWzZO1JmqD/YI7tvCJerP5nJgWj39a4/JUo7aIhAsT/t2FRSMRKzPx9jRxOK1bQ/hb3S9++Btj8o3UeCMSG4P1DvuX6Hw7k/OU4jkL9yuz94nrJ5oD69P5HdHueqN78/\",\"dtype\":\"float64\",\"shape\":[75]},\"y\":{\"__ndarray__\":\"GhExyth1ND/Sv8nbtpRIP2vylNV0PVE/aTum7souWD/At0SJ8fVgPw3Iuahxymc/MSNhhJWvcD/bTfBN02d3P2zb5nxnaoA/CD5h5MAGhz8NmeH1TyaQP+zrCsc9p5Y/LbKd76fGnz/bLW5ISEmmPww9YvTcQq8/JV2OstnstT8Er5Y7M8G+P0c+r3jqkcU/5h99k6ZBzj88bCIzFzjVP4enV8oyxN0//yH99nXg5D8qOpLLf0jtP5kqGJXUifQ/c9cS8kHP/D+/DpwzojQEQIEmwoanVwxA4lgXt9HgE0BSSZ2AJuIbQAMJih9jjiNA5q4l5INuK0AwTKYKRj0zQNv5fmq8/DpAaCJseHrtQkB/+zpwzoxKQM3MzMzMeFJAZmZmZmZqWEAAAAAAAFxeQM3MzMzMJmJAmpmZmZkfZUBmZmZmZhhoQDMzMzMzEWtAAAAAAAAKbkBmZmZmZoFwQM3MzMzM/XFAMzMzMzN6c0CamZmZmfZ0QAAAAAAAc3ZAZmZmZmbvd0DNzMzMzGt5QDMzMzMz6HpAmpmZmZlkfEAAAAAAAOF9QGZmZmZmXX9AZmZmZuZsgECamZmZGSuBQM3MzMxM6YFAAAAAAICngkAzMzMzs2WDQGZmZmbmI4RAmpmZmRnihEDNzMzMTKCFQAAAAACAXoZAMzMzM7Mch0BmZmZm5tqHQJqZmZkZmYhAzczMzExXiUAAAAAAgBWKQDMzMzOz04pAZmZmZuaRi0CamZmZGVCMQM3MzMxMDo1AAAAAAIDMjUAzMzMzs4qOQGZmZmbmSI9A\",\"dtype\":\"float64\",\"shape\":[75]}},\"selected\":{\"id\":\"5fd804cf-f3cf-42a3-846e-9d5fad4bd0bb\",\"type\":\"Selection\"},\"selection_policy\":{\"id\":\"edb49c1f-b30e-4315-9049-32fe92860ce8\",\"type\":\"UnionRenderers\"}},\"id\":\"cfcaf336-16b3-4477-ab27-998ca936bc45\",\"type\":\"ColumnDataSource\"},{\"attributes\":{\"callback\":null,\"end\":0.127602246,\"start\":-0.31899108600000003},\"id\":\"69b378dd-1d13-41b9-96f9-e2bee05844d9\",\"type\":\"Range1d\"},{\"attributes\":{\"source\":{\"id\":\"3a0fa202-e8a6-45cf-a1dc-32891b429486\",\"type\":\"ColumnDataSource\"}},\"id\":\"963709b5-8204-4116-8b5f-1f2be178717a\",\"type\":\"CDSView\"},{\"attributes\":{\"fill_alpha\":{\"value\":0.1},\"fill_color\":{\"value\":\"#1f77b4\"},\"line_alpha\":{\"value\":0.1},\"line_color\":{\"value\":\"#1f77b4\"},\"x\":{\"field\":\"x\"},\"y\":{\"field\":\"y\"}},\"id\":\"81b1fc6c-c82c-4365-8fc3-78d9bfc36529\",\"type\":\"Square\"},{\"attributes\":{\"source\":{\"id\":\"b9f09ca0-faa0-4a4e-92e2-a451ab3df846\",\"type\":\"ColumnDataSource\"}},\"id\":\"3c1b2ed2-cead-41da-bcbf-d7d14ff45c22\",\"type\":\"CDSView\"},{\"attributes\":{},\"id\":\"2455e01d-0e3c-4346-82c6-47354d820d44\",\"type\":\"LinearScale\"},{\"attributes\":{\"plot\":{\"id\":\"4bde068c-35f1-4f64-9489-6f8cfb679548\",\"subtype\":\"Figure\",\"type\":\"Plot\"},\"ticker\":{\"id\":\"25261e17-9c17-4a3e-a71d-8992b7e94871\",\"type\":\"BasicTicker\"}},\"id\":\"9e8bf4ac-c0ed-4f99-840f-8fb22653d710\",\"type\":\"Grid\"},{\"attributes\":{\"line_alpha\":0.1,\"line_color\":\"#1f77b4\",\"line_width\":3,\"x\":{\"field\":\"x\"},\"y\":{\"field\":\"y\"}},\"id\":\"8d7d5738-0809-4964-92bf-ba45abdef694\",\"type\":\"Line\"},{\"attributes\":{\"callback\":null,\"end\":2.0395949872,\"start\":-0.33792170720000003},\"id\":\"e6eb144c-8a57-452d-90b9-fb124ee9fbd2\",\"type\":\"Range1d\"},{\"attributes\":{},\"id\":\"2452eaad-4cc7-4ab8-8d50-a84272841cf3\",\"type\":\"LogScale\"},{\"attributes\":{},\"id\":\"5b75c570-47a8-4ec4-bc93-262109019c5a\",\"type\":\"LinearScale\"},{\"attributes\":{\"axis_label\":\"cooling rate [K/day]\",\"formatter\":{\"id\":\"e95c0f2e-b535-474d-883c-50683f83b4b4\",\"type\":\"BasicTickFormatter\"},\"plot\":{\"id\":\"4bde068c-35f1-4f64-9489-6f8cfb679548\",\"subtype\":\"Figure\",\"type\":\"Plot\"},\"ticker\":{\"id\":\"25261e17-9c17-4a3e-a71d-8992b7e94871\",\"type\":\"BasicTicker\"}},\"id\":\"555c0bba-a2da-488d-b6c1-da8d8183e066\",\"type\":\"LinearAxis\"},{\"attributes\":{},\"id\":\"25261e17-9c17-4a3e-a71d-8992b7e94871\",\"type\":\"BasicTicker\"},{\"attributes\":{\"axis_label\":\"pressure [mb]\",\"formatter\":{\"id\":\"ecb2fee5-0e0b-404e-bde3-2e13f14966e3\",\"type\":\"LogTickFormatter\"},\"plot\":{\"id\":\"4bde068c-35f1-4f64-9489-6f8cfb679548\",\"subtype\":\"Figure\",\"type\":\"Plot\"},\"ticker\":{\"id\":\"60f0a58b-1b82-41ef-b186-e6b57695de19\",\"type\":\"LogTicker\"}},\"id\":\"34d427f9-a167-464e-9eeb-c9a80a4e27c4\",\"type\":\"LogAxis\"},{\"attributes\":{\"dimension\":1,\"plot\":{\"id\":\"4bde068c-35f1-4f64-9489-6f8cfb679548\",\"subtype\":\"Figure\",\"type\":\"Plot\"},\"ticker\":{\"id\":\"60f0a58b-1b82-41ef-b186-e6b57695de19\",\"type\":\"LogTicker\"}},\"id\":\"faf99671-48bd-48aa-b6fd-8e17a2804231\",\"type\":\"Grid\"},{\"attributes\":{\"num_minor_ticks\":10},\"id\":\"60f0a58b-1b82-41ef-b186-e6b57695de19\",\"type\":\"LogTicker\"},{\"attributes\":{\"bottom_units\":\"screen\",\"fill_alpha\":{\"value\":0.5},\"fill_color\":{\"value\":\"lightgrey\"},\"left_units\":\"screen\",\"level\":\"overlay\",\"line_alpha\":{\"value\":1.0},\"line_color\":{\"value\":\"black\"},\"line_dash\":[4,4],\"line_width\":{\"value\":2},\"plot\":null,\"render_mode\":\"css\",\"right_units\":\"screen\",\"top_units\":\"screen\"},\"id\":\"05a78513-7523-4d3f-bc95-d5ba3436769f\",\"type\":\"BoxAnnotation\"},{\"attributes\":{},\"id\":\"423d23e2-3aa5-4717-bfa9-35000093b36f\",\"type\":\"PanTool\"},{\"attributes\":{},\"id\":\"c0e89290-0cbd-4efd-b9fb-41efb21cbbe7\",\"type\":\"WheelZoomTool\"},{\"attributes\":{\"overlay\":{\"id\":\"05a78513-7523-4d3f-bc95-d5ba3436769f\",\"type\":\"BoxAnnotation\"}},\"id\":\"6ec4f606-7ba2-4fa7-9631-97514a4c4d58\",\"type\":\"BoxZoomTool\"},{\"attributes\":{},\"id\":\"e56e2a5b-8d31-45b0-8ff5-6e2daceb9c4d\",\"type\":\"ResetTool\"},{\"attributes\":{},\"id\":\"7cddd41a-2d9b-4683-8f92-24a35c001ff6\",\"type\":\"HelpTool\"},{\"attributes\":{},\"id\":\"e1f350fd-a649-489d-877e-bba987c9b538\",\"type\":\"SaveTool\"},{\"attributes\":{\"data_source\":{\"id\":\"d32f1425-a168-46b1-99d5-67de68817531\",\"type\":\"ColumnDataSource\"},\"glyph\":{\"id\":\"490789c1-9726-4e98-abcc-9f1694552794\",\"type\":\"Line\"},\"hover_glyph\":null,\"muted_glyph\":null,\"nonselection_glyph\":{\"id\":\"8d7d5738-0809-4964-92bf-ba45abdef694\",\"type\":\"Line\"},\"selection_glyph\":null,\"view\":{\"id\":\"913e2572-118b-4fe8-b94a-31b4ca762dcd\",\"type\":\"CDSView\"}},\"id\":\"e5a2cc0d-b3aa-4d93-83d1-6902a577a8ee\",\"type\":\"GlyphRenderer\"},{\"attributes\":{\"line_alpha\":0.6,\"line_color\":\"#e41a1c\",\"line_dash\":[6],\"line_width\":5,\"x\":{\"field\":\"x\"},\"y\":{\"field\":\"y\"}},\"id\":\"ac3a44a1-f96d-4d2f-9ac0-679d81e378e2\",\"type\":\"Line\"},{\"attributes\":{\"line_alpha\":0.1,\"line_color\":\"#1f77b4\",\"line_dash\":[6],\"line_width\":5,\"x\":{\"field\":\"x\"},\"y\":{\"field\":\"y\"}},\"id\":\"df3f3565-285c-4202-9cf8-9b421d260538\",\"type\":\"Line\"},{\"attributes\":{\"callback\":null,\"data\":{\"x\":{\"__ndarray__\":\"CKmAIOXMn7+711PvzKuhvyx54XPMHqW/08ta0JxxqL8u+MpCj6arv5PftHZhv66/401vYCHcsL997IRQC0myv9yH7B4BpbO/iXK4QpfxtL/g3Lr2YC22v8PFyX6PWre/AhUr9tl5uL93Vx0JmYO5vybraANN17m/Ig4jztQ1uL8VNERNqGutvzs8MPJFips/QQP7+QDuxT+KlGbzOAzZP/tke+Nag+Y/38kCgSn+8T/+Q/rt6wD6P9lbb0Dw3f4/nHLgMCy6/D8p12+BXx73P8entoq0A/E/YZymbORc6D+oYramcfbhP5df3eMS6Nk/19EfN083zT+DQE1+ouqlP7gmKSUOnbe/+kjnT11xyL8R8UGVu8vRvwmP02OdItS/1Iy5Ke0m0r+f2NhfVUHPvw/lE8uQV8y/Tep4iiSTyL/fzlNXHT3Dv5o1gNDdIr6/BhnT3KJ9uL/7qa21UGKzv/XtxK/P0a6/qIxPZluEqb+QWNnecQGlv3GyIcBo3aC/FZIGlqecmr/5EU0NJXSUvx/gg7YghI2/l99keSkFg7+04HhQ5qVyvwgRmpYeDye/BaiWXYpMcD8Wx8HgM32AP1D43HHZ1Ig/j1sLNFHkkD/xUGB2WZCVP9ZD/A8lZJo/EGy1t/Zmnz95Bjh9cFCiPz6Ky9W1FKU/GbJrj58MqD/O7tU24TirPw+SVJK0nK4/mUCQCgMZsT+qoLEVhfSyPxk0/MC4yLQ/PAC5Ly2Ltj+lJZGoEEK4P0lWdqhD+rk/JGpYQi28uz++YYmkaZK9P6usr6aZi78/\",\"dtype\":\"float64\",\"shape\":[75]},\"y\":{\"__ndarray__\":\"S/O/Q+51ND/Sv8nbtpRIP2vylNV0PVE/aTum7souWD/At0SJ8fVgPw3Iuahxymc/MSNhhJWvcD/bTfBN02d3P2zb5nxnaoA/CD5h5MAGhz8NmeH1TyaQP+zrCsc9p5Y/LbKd76fGnz/bLW5ISEmmPww9YvTcQq8/JV2OstnstT8Er5Y7M8G+P0c+r3jqkcU/5h99k6ZBzj88bCIzFzjVP4enV8oyxN0//yH99nXg5D8qOpLLf0jtP5kqGJXUifQ/c9cS8kHP/D+/DpwzojQEQIEmwoanVwxA4lgXt9HgE0BSSZ2AJuIbQAMJih9jjiNA5q4l5INuK0AwTKYKRj0zQNv5fmq8/DpAaCJseHrtQkB/+zpwzoxKQM3MzMzMeFJAZmZmZmZqWEAAAAAAAFxeQM3MzMzMJmJAmpmZmZkfZUBmZmZmZhhoQDMzMzMzEWtAAAAAAAAKbkBmZmZmZoFwQM3MzMzM/XFAMzMzMzN6c0CamZmZmfZ0QAAAAAAAc3ZAZmZmZmbvd0DNzMzMzGt5QDMzMzMz6HpAmpmZmZlkfEAAAAAAAOF9QGZmZmZmXX9AZmZmZuZsgECamZmZGSuBQM3MzMxM6YFAAAAAAICngkAzMzMzs2WDQGZmZmbmI4RAmpmZmRnihEDNzMzMTKCFQAAAAACAXoZAMzMzM7Mch0BmZmZm5tqHQJqZmZkZmYhAzczMzExXiUAAAAAAgBWKQDMzMzOz04pAZmZmZuaRi0CamZmZGVCMQM3MzMxMDo1AAAAAAIDMjUAzMzMzs4qOQGZmZmbmSI9A\",\"dtype\":\"float64\",\"shape\":[75]}},\"selected\":{\"id\":\"b770aa12-f575-4e0f-a86b-0380833193a0\",\"type\":\"Selection\"},\"selection_policy\":{\"id\":\"ea5d0425-d9df-4a16-99d7-fdfa58391c62\",\"type\":\"UnionRenderers\"}},\"id\":\"57bfe1d4-4d9a-4c0d-ab2e-0c65be14df58\",\"type\":\"ColumnDataSource\"},{\"attributes\":{\"line_alpha\":0.6,\"line_color\":\"#984ea3\",\"line_width\":3,\"x\":{\"field\":\"x\"},\"y\":{\"field\":\"y\"}},\"id\":\"490789c1-9726-4e98-abcc-9f1694552794\",\"type\":\"Line\"},{\"attributes\":{\"data_source\":{\"id\":\"57bfe1d4-4d9a-4c0d-ab2e-0c65be14df58\",\"type\":\"ColumnDataSource\"},\"glyph\":{\"id\":\"7e625980-0cbf-40b5-8bc5-9298d9e9ed84\",\"type\":\"Line\"},\"hover_glyph\":null,\"muted_glyph\":null,\"nonselection_glyph\":{\"id\":\"625f4ca8-7dd5-49bd-a911-f11252208ec5\",\"type\":\"Line\"},\"selection_glyph\":null,\"view\":{\"id\":\"4b11f95a-bb9d-47e5-9b1e-8f41ef782709\",\"type\":\"CDSView\"}},\"id\":\"f28a0d7c-2eec-499b-b7eb-9271f7e9e825\",\"type\":\"GlyphRenderer\"},{\"attributes\":{\"source\":{\"id\":\"6da9da12-bf09-4175-aee1-d4ee0fbf4fc6\",\"type\":\"ColumnDataSource\"}},\"id\":\"1a0a29ed-5cee-4242-904d-64e2d35aaf93\",\"type\":\"CDSView\"},{\"attributes\":{\"line_alpha\":0.1,\"line_color\":\"#1f77b4\",\"line_dash\":[6],\"line_width\":5,\"x\":{\"field\":\"x\"},\"y\":{\"field\":\"y\"}},\"id\":\"625f4ca8-7dd5-49bd-a911-f11252208ec5\",\"type\":\"Line\"},{\"attributes\":{\"callback\":null,\"data\":{\"x\":{\"__ndarray__\":\"w/73T1Olob/g32Na4pujv1ZI52b5Zqe/5lIBnIMMq78/7ZJmY42uv9XV4CdV9bC/AvJx4rWPsr+PdwpjUha0v5e19DhxkbW/sIFHMOL2tr+XKQkw/EW4v0bbcNmajbm//AmAVDfVur99WmaNUQm8v6sk9CuEcry/70PWAa1Mur9TsBzaLe2tvzWaJOIiAaM/U07m5dEJyT/W3ivjdIzbP+j9uUe6L+g/AjYxbrQN8z+c8FwpFT77P8TOuYA8wP8/06LjD6sk/T9wUXevpOb3P6fJMf4iLfI/+RySORqQ6j+Uj/ai6nXjP1RbZugKPNs/W/rhMU2izT8WmlbQ1dKkPyCD525v6Le/tSmJstgiyL/NkiFDnk/Rv8Gp7hUGOtO/YKVp7QkU0b9NUvQbgVPNv0tJ5sN52cq/z3fgMXahx7/L1n5bRbnCv6RNm5Ioi72/IVtUk/kquL9oeF0GNkOzv+o7NDa40K6/q5DHEw6rqb82TzsdREKlv00SjeavLaG/+NbgrY5Em79lrBXxxheVv+Y2tt48w46/bCeRF64bhL9LOJXJB310v9keZfbnrEK/6Rw0WTI3bj9zOB2+URaAP1UIRoaekog/i5z1karZkD8pLjuCI5qVP/lqoioBjJo/C4Tcxhi4nz+PZWFS84qiP28Qt4fgX6U/ZWzZO1JmqD/YI7tvCJerP5nJgWj39a4/JUo7aIhAsT/t2FRSMRKzPx9jRxOK1bQ/hb3S9++Btj8o3UeCMSG4P1DvuX6Hw7k/OU4jkL9yuz94nrJ5oD69P5HdHueqN78/\",\"dtype\":\"float64\",\"shape\":[75]},\"y\":{\"__ndarray__\":\"GhExyth1ND/Sv8nbtpRIP2vylNV0PVE/aTum7souWD/At0SJ8fVgPw3Iuahxymc/MSNhhJWvcD/bTfBN02d3P2zb5nxnaoA/CD5h5MAGhz8NmeH1TyaQP+zrCsc9p5Y/LbKd76fGnz/bLW5ISEmmPww9YvTcQq8/JV2OstnstT8Er5Y7M8G+P0c+r3jqkcU/5h99k6ZBzj88bCIzFzjVP4enV8oyxN0//yH99nXg5D8qOpLLf0jtP5kqGJXUifQ/c9cS8kHP/D+/DpwzojQEQIEmwoanVwxA4lgXt9HgE0BSSZ2AJuIbQAMJih9jjiNA5q4l5INuK0AwTKYKRj0zQNv5fmq8/DpAaCJseHrtQkB/+zpwzoxKQM3MzMzMeFJAZmZmZmZqWEAAAAAAAFxeQM3MzMzMJmJAmpmZmZkfZUBmZmZmZhhoQDMzMzMzEWtAAAAAAAAKbkBmZmZmZoFwQM3MzMzM/XFAMzMzMzN6c0CamZmZmfZ0QAAAAAAAc3ZAZmZmZmbvd0DNzMzMzGt5QDMzMzMz6HpAmpmZmZlkfEAAAAAAAOF9QGZmZmZmXX9AZmZmZuZsgECamZmZGSuBQM3MzMxM6YFAAAAAAICngkAzMzMzs2WDQGZmZmbmI4RAmpmZmRnihEDNzMzMTKCFQAAAAACAXoZAMzMzM7Mch0BmZmZm5tqHQJqZmZkZmYhAzczMzExXiUAAAAAAgBWKQDMzMzOz04pAZmZmZuaRi0CamZmZGVCMQM3MzMxMDo1AAAAAAIDMjUAzMzMzs4qOQGZmZmbmSI9A\",\"dtype\":\"float64\",\"shape\":[75]}},\"selected\":{\"id\":\"05f97d1b-861b-41b2-924f-ce7323088bc1\",\"type\":\"Selection\"},\"selection_policy\":{\"id\":\"49e664ec-d635-4c49-bc9d-8c18566d5e9a\",\"type\":\"UnionRenderers\"}},\"id\":\"d32f1425-a168-46b1-99d5-67de68817531\",\"type\":\"ColumnDataSource\"},{\"attributes\":{\"callback\":null,\"end\":0.01,\"start\":1020},\"id\":\"fb5ae4c5-189a-46a6-bcf9-a358910fe40d\",\"type\":\"Range1d\"},{\"attributes\":{\"callback\":null,\"data\":{\"x\":{\"__ndarray__\":\"CKmAIOXMn7+711PvzKuhvyx54XPMHqW/08ta0JxxqL8u+MpCj6arv5PftHZhv66/401vYCHcsL997IRQC0myv9yH7B4BpbO/iXK4QpfxtL/g3Lr2YC22v8PFyX6PWre/AhUr9tl5uL93Vx0JmYO5vybraANN17m/Ig4jztQ1uL8VNERNqGutvzs8MPJFips/QQP7+QDuxT+KlGbzOAzZP/tke+Nag+Y/38kCgSn+8T/+Q/rt6wD6P9lbb0Dw3f4/nHLgMCy6/D8p12+BXx73P8entoq0A/E/YZymbORc6D+oYramcfbhP5df3eMS6Nk/19EfN083zT+DQE1+ouqlP7gmKSUOnbe/+kjnT11xyL8R8UGVu8vRvwmP02OdItS/1Iy5Ke0m0r+f2NhfVUHPvw/lE8uQV8y/Tep4iiSTyL/fzlNXHT3Dv5o1gNDdIr6/BhnT3KJ9uL/7qa21UGKzv/XtxK/P0a6/qIxPZluEqb+QWNnecQGlv3GyIcBo3aC/FZIGlqecmr/5EU0NJXSUvx/gg7YghI2/l99keSkFg7+04HhQ5qVyvwgRmpYeDye/BaiWXYpMcD8Wx8HgM32AP1D43HHZ1Ig/j1sLNFHkkD/xUGB2WZCVP9ZD/A8lZJo/EGy1t/Zmnz95Bjh9cFCiPz6Ky9W1FKU/GbJrj58MqD/O7tU24TirPw+SVJK0nK4/mUCQCgMZsT+qoLEVhfSyPxk0/MC4yLQ/PAC5Ly2Ltj+lJZGoEEK4P0lWdqhD+rk/JGpYQi28uz++YYmkaZK9P6usr6aZi78/\",\"dtype\":\"float64\",\"shape\":[75]},\"y\":{\"__ndarray__\":\"S/O/Q+51ND/Sv8nbtpRIP2vylNV0PVE/aTum7souWD/At0SJ8fVgPw3Iuahxymc/MSNhhJWvcD/bTfBN02d3P2zb5nxnaoA/CD5h5MAGhz8NmeH1TyaQP+zrCsc9p5Y/LbKd76fGnz/bLW5ISEmmPww9YvTcQq8/JV2OstnstT8Er5Y7M8G+P0c+r3jqkcU/5h99k6ZBzj88bCIzFzjVP4enV8oyxN0//yH99nXg5D8qOpLLf0jtP5kqGJXUifQ/c9cS8kHP/D+/DpwzojQEQIEmwoanVwxA4lgXt9HgE0BSSZ2AJuIbQAMJih9jjiNA5q4l5INuK0AwTKYKRj0zQNv5fmq8/DpAaCJseHrtQkB/+zpwzoxKQM3MzMzMeFJAZmZmZmZqWEAAAAAAAFxeQM3MzMzMJmJAmpmZmZkfZUBmZmZmZhhoQDMzMzMzEWtAAAAAAAAKbkBmZmZmZoFwQM3MzMzM/XFAMzMzMzN6c0CamZmZmfZ0QAAAAAAAc3ZAZmZmZmbvd0DNzMzMzGt5QDMzMzMz6HpAmpmZmZlkfEAAAAAAAOF9QGZmZmZmXX9AZmZmZuZsgECamZmZGSuBQM3MzMxM6YFAAAAAAICngkAzMzMzs2WDQGZmZmbmI4RAmpmZmRnihEDNzMzMTKCFQAAAAACAXoZAMzMzM7Mch0BmZmZm5tqHQJqZmZkZmYhAzczMzExXiUAAAAAAgBWKQDMzMzOz04pAZmZmZuaRi0CamZmZGVCMQM3MzMxMDo1AAAAAAIDMjUAzMzMzs4qOQGZmZmbmSI9A\",\"dtype\":\"float64\",\"shape\":[75]}},\"selected\":{\"id\":\"823c225e-531b-4edd-8acb-643399b987a4\",\"type\":\"Selection\"},\"selection_policy\":{\"id\":\"06e13972-8d6e-4952-8814-675a97044699\",\"type\":\"UnionRenderers\"}},\"id\":\"b9f09ca0-faa0-4a4e-92e2-a451ab3df846\",\"type\":\"ColumnDataSource\"},{\"attributes\":{\"data_source\":{\"id\":\"6da9da12-bf09-4175-aee1-d4ee0fbf4fc6\",\"type\":\"ColumnDataSource\"},\"glyph\":{\"id\":\"9b5be351-c036-4709-8664-88b7652de051\",\"type\":\"Square\"},\"hover_glyph\":null,\"muted_glyph\":null,\"nonselection_glyph\":{\"id\":\"93ed493c-476a-472d-b498-a210507e3474\",\"type\":\"Square\"},\"selection_glyph\":null,\"view\":{\"id\":\"1a0a29ed-5cee-4242-904d-64e2d35aaf93\",\"type\":\"CDSView\"}},\"id\":\"92b80bc9-c704-4854-b2ef-d92ecfeb6c5f\",\"type\":\"GlyphRenderer\"}],\"root_ids\":[\"50569a09-bbec-41ba-b340-b9d8413995b9\"]},\"title\":\"Bokeh Application\",\"version\":\"0.12.16\"}};\n",
       "  var render_items = [{\"docid\":\"d5dbbbcb-7818-4d38-8130-217885b22985\",\"elementid\":\"b7c95d36-e50e-476f-93cf-329f32e94ec8\",\"modelid\":\"50569a09-bbec-41ba-b340-b9d8413995b9\"}];\n",
       "  root.Bokeh.embed.embed_items_notebook(docs_json, render_items);\n",
       "\n",
       "  }\n",
       "  if (root.Bokeh !== undefined) {\n",
       "    embed_document(root);\n",
       "  } else {\n",
       "    var attempts = 0;\n",
       "    var timer = setInterval(function(root) {\n",
       "      if (root.Bokeh !== undefined) {\n",
       "        embed_document(root);\n",
       "        clearInterval(timer);\n",
       "      }\n",
       "      attempts++;\n",
       "      if (attempts > 100) {\n",
       "        console.log(\"Bokeh: ERROR: Unable to run BokehJS code because BokehJS library is missing\")\n",
       "        clearInterval(timer);\n",
       "      }\n",
       "    }, 10, root)\n",
       "  }\n",
       "})(window);"
      ],
      "application/vnd.bokehjs_exec.v0+json": ""
     },
     "metadata": {
      "application/vnd.bokehjs_exec.v0+json": {
       "id": "50569a09-bbec-41ba-b340-b9d8413995b9"
      }
     },
     "output_type": "display_data"
    },
    {
     "name": "stdout",
     "output_type": "stream",
     "text": [
      "FIGURE. Cooling rate profiles.\n"
     ]
    },
    {
     "data": {
      "text/html": [
       "<a id=\"Flux_Comparison\"></a>"
      ],
      "text/plain": [
       "<IPython.core.display.HTML object>"
      ]
     },
     "metadata": {},
     "output_type": "display_data"
    },
    {
     "data": {
      "text/markdown": [
       "# Flux Comparison"
      ],
      "text/plain": [
       "<IPython.core.display.Markdown object>"
      ]
     },
     "metadata": {},
     "output_type": "display_data"
    },
    {
     "data": {
      "text/html": [
       "<div>\n",
       "<style scoped>\n",
       "    .dataframe tbody tr th:only-of-type {\n",
       "        vertical-align: middle;\n",
       "    }\n",
       "\n",
       "    .dataframe tbody tr th {\n",
       "        vertical-align: top;\n",
       "    }\n",
       "\n",
       "    .dataframe thead th {\n",
       "        text-align: right;\n",
       "    }\n",
       "</style>\n",
       "<table border=\"1\" class=\"dataframe\">\n",
       "  <thead>\n",
       "    <tr style=\"text-align: right;\">\n",
       "      <th></th>\n",
       "      <th></th>\n",
       "      <th>flug</th>\n",
       "      <th>fldg</th>\n",
       "      <th>fnetg</th>\n",
       "    </tr>\n",
       "    <tr>\n",
       "      <th>pressure</th>\n",
       "      <th>level</th>\n",
       "      <th></th>\n",
       "      <th></th>\n",
       "      <th></th>\n",
       "    </tr>\n",
       "  </thead>\n",
       "  <tbody>\n",
       "    <tr>\n",
       "      <th>0.0000</th>\n",
       "      <th>1</th>\n",
       "      <td>-22.506210</td>\n",
       "      <td>0.000000</td>\n",
       "      <td>-22.506210</td>\n",
       "    </tr>\n",
       "    <tr>\n",
       "      <th>1.0685</th>\n",
       "      <th>24</th>\n",
       "      <td>-22.509968</td>\n",
       "      <td>0.120241</td>\n",
       "      <td>-22.389727</td>\n",
       "    </tr>\n",
       "    <tr>\n",
       "      <th>1013.0000</th>\n",
       "      <th>76</th>\n",
       "      <td>-31.354237</td>\n",
       "      <td>7.384167</td>\n",
       "      <td>-23.970070</td>\n",
       "    </tr>\n",
       "  </tbody>\n",
       "</table>\n",
       "</div>"
      ],
      "text/plain": [
       "                      flug      fldg      fnetg\n",
       "pressure  level                                \n",
       "0.0000    1     -22.506210  0.000000 -22.506210\n",
       "1.0685    24    -22.509968  0.120241 -22.389727\n",
       "1013.0000 76    -31.354237  7.384167 -23.970070"
      ]
     },
     "metadata": {},
     "output_type": "display_data"
    },
    {
     "name": "stdout",
     "output_type": "stream",
     "text": [
      "Table. Fluxes. CRD\n"
     ]
    },
    {
     "data": {
      "text/html": [
       "<div>\n",
       "<style scoped>\n",
       "    .dataframe tbody tr th:only-of-type {\n",
       "        vertical-align: middle;\n",
       "    }\n",
       "\n",
       "    .dataframe tbody tr th {\n",
       "        vertical-align: top;\n",
       "    }\n",
       "\n",
       "    .dataframe thead th {\n",
       "        text-align: right;\n",
       "    }\n",
       "</style>\n",
       "<table border=\"1\" class=\"dataframe\">\n",
       "  <thead>\n",
       "    <tr style=\"text-align: right;\">\n",
       "      <th></th>\n",
       "      <th></th>\n",
       "      <th>flug</th>\n",
       "      <th>fldg</th>\n",
       "      <th>fnetg</th>\n",
       "    </tr>\n",
       "    <tr>\n",
       "      <th>pressure</th>\n",
       "      <th>level</th>\n",
       "      <th></th>\n",
       "      <th></th>\n",
       "      <th></th>\n",
       "    </tr>\n",
       "  </thead>\n",
       "  <tbody>\n",
       "    <tr>\n",
       "      <th>0.0000</th>\n",
       "      <th>1</th>\n",
       "      <td>-22.311649</td>\n",
       "      <td>0.000000</td>\n",
       "      <td>-22.311649</td>\n",
       "    </tr>\n",
       "    <tr>\n",
       "      <th>1.0685</th>\n",
       "      <th>24</th>\n",
       "      <td>-22.311998</td>\n",
       "      <td>0.113301</td>\n",
       "      <td>-22.198697</td>\n",
       "    </tr>\n",
       "    <tr>\n",
       "      <th>1013.0000</th>\n",
       "      <th>76</th>\n",
       "      <td>-31.354237</td>\n",
       "      <td>7.488727</td>\n",
       "      <td>-23.865510</td>\n",
       "    </tr>\n",
       "  </tbody>\n",
       "</table>\n",
       "</div>"
      ],
      "text/plain": [
       "                      flug      fldg      fnetg\n",
       "pressure  level                                \n",
       "0.0000    1     -22.311649  0.000000 -22.311649\n",
       "1.0685    24    -22.311998  0.113301 -22.198697\n",
       "1013.0000 76    -31.354237  7.488727 -23.865510"
      ]
     },
     "metadata": {},
     "output_type": "display_data"
    },
    {
     "name": "stdout",
     "output_type": "stream",
     "text": [
      "Table. Fluxes. WGT igg=10 wgt_flux=1\n"
     ]
    },
    {
     "data": {
      "text/html": [
       "<div>\n",
       "<style scoped>\n",
       "    .dataframe tbody tr th:only-of-type {\n",
       "        vertical-align: middle;\n",
       "    }\n",
       "\n",
       "    .dataframe tbody tr th {\n",
       "        vertical-align: top;\n",
       "    }\n",
       "\n",
       "    .dataframe thead th {\n",
       "        text-align: right;\n",
       "    }\n",
       "</style>\n",
       "<table border=\"1\" class=\"dataframe\">\n",
       "  <thead>\n",
       "    <tr style=\"text-align: right;\">\n",
       "      <th></th>\n",
       "      <th></th>\n",
       "      <th>flug</th>\n",
       "      <th>fldg</th>\n",
       "      <th>fnetg</th>\n",
       "    </tr>\n",
       "    <tr>\n",
       "      <th>pressure</th>\n",
       "      <th>level</th>\n",
       "      <th></th>\n",
       "      <th></th>\n",
       "      <th></th>\n",
       "    </tr>\n",
       "  </thead>\n",
       "  <tbody>\n",
       "    <tr>\n",
       "      <th>1.000000e-08</th>\n",
       "      <th>1</th>\n",
       "      <td>-22.123351</td>\n",
       "      <td>0.000002</td>\n",
       "      <td>-22.123349</td>\n",
       "    </tr>\n",
       "    <tr>\n",
       "      <th>1.068500e+00</th>\n",
       "      <th>24</th>\n",
       "      <td>-22.121631</td>\n",
       "      <td>0.105046</td>\n",
       "      <td>-22.016585</td>\n",
       "    </tr>\n",
       "    <tr>\n",
       "      <th>1.013000e+03</th>\n",
       "      <th>76</th>\n",
       "      <td>-31.354240</td>\n",
       "      <td>7.407520</td>\n",
       "      <td>-23.946720</td>\n",
       "    </tr>\n",
       "  </tbody>\n",
       "</table>\n",
       "</div>"
      ],
      "text/plain": [
       "                         flug      fldg      fnetg\n",
       "pressure     level                                \n",
       "1.000000e-08 1     -22.123351  0.000002 -22.123349\n",
       "1.068500e+00 24    -22.121631  0.105046 -22.016585\n",
       "1.013000e+03 76    -31.354240  7.407520 -23.946720"
      ]
     },
     "metadata": {},
     "output_type": "display_data"
    },
    {
     "name": "stdout",
     "output_type": "stream",
     "text": [
      "Table. Fluxes. CLIRAD\n"
     ]
    },
    {
     "data": {
      "text/html": [
       "<div>\n",
       "<style scoped>\n",
       "    .dataframe tbody tr th:only-of-type {\n",
       "        vertical-align: middle;\n",
       "    }\n",
       "\n",
       "    .dataframe tbody tr th {\n",
       "        vertical-align: top;\n",
       "    }\n",
       "\n",
       "    .dataframe thead th {\n",
       "        text-align: right;\n",
       "    }\n",
       "</style>\n",
       "<table border=\"1\" class=\"dataframe\">\n",
       "  <thead>\n",
       "    <tr style=\"text-align: right;\">\n",
       "      <th></th>\n",
       "      <th></th>\n",
       "      <th>flug</th>\n",
       "      <th>fldg</th>\n",
       "      <th>fnetg</th>\n",
       "    </tr>\n",
       "    <tr>\n",
       "      <th>pressure</th>\n",
       "      <th>level</th>\n",
       "      <th></th>\n",
       "      <th></th>\n",
       "      <th></th>\n",
       "    </tr>\n",
       "  </thead>\n",
       "  <tbody>\n",
       "    <tr>\n",
       "      <th>0.0000</th>\n",
       "      <th>1</th>\n",
       "      <td>0.194561</td>\n",
       "      <td>0.00000</td>\n",
       "      <td>0.194561</td>\n",
       "    </tr>\n",
       "    <tr>\n",
       "      <th>1.0685</th>\n",
       "      <th>24</th>\n",
       "      <td>0.197970</td>\n",
       "      <td>-0.00694</td>\n",
       "      <td>0.191030</td>\n",
       "    </tr>\n",
       "    <tr>\n",
       "      <th>1013.0000</th>\n",
       "      <th>76</th>\n",
       "      <td>0.000000</td>\n",
       "      <td>0.10456</td>\n",
       "      <td>0.104560</td>\n",
       "    </tr>\n",
       "  </tbody>\n",
       "</table>\n",
       "</div>"
      ],
      "text/plain": [
       "                     flug     fldg     fnetg\n",
       "pressure  level                             \n",
       "0.0000    1      0.194561  0.00000  0.194561\n",
       "1.0685    24     0.197970 -0.00694  0.191030\n",
       "1013.0000 76     0.000000  0.10456  0.104560"
      ]
     },
     "metadata": {},
     "output_type": "display_data"
    },
    {
     "name": "stdout",
     "output_type": "stream",
     "text": [
      "Table. Fluxes. (WGT igg=10 wgt_flux=1) - (CRD)\n"
     ]
    },
    {
     "data": {
      "text/html": [
       "<div>\n",
       "<style scoped>\n",
       "    .dataframe tbody tr th:only-of-type {\n",
       "        vertical-align: middle;\n",
       "    }\n",
       "\n",
       "    .dataframe tbody tr th {\n",
       "        vertical-align: top;\n",
       "    }\n",
       "\n",
       "    .dataframe thead th {\n",
       "        text-align: right;\n",
       "    }\n",
       "</style>\n",
       "<table border=\"1\" class=\"dataframe\">\n",
       "  <thead>\n",
       "    <tr style=\"text-align: right;\">\n",
       "      <th></th>\n",
       "      <th></th>\n",
       "      <th>flug</th>\n",
       "      <th>fldg</th>\n",
       "      <th>fnetg</th>\n",
       "    </tr>\n",
       "    <tr>\n",
       "      <th>pressure</th>\n",
       "      <th>level</th>\n",
       "      <th></th>\n",
       "      <th></th>\n",
       "      <th></th>\n",
       "    </tr>\n",
       "  </thead>\n",
       "  <tbody>\n",
       "    <tr>\n",
       "      <th>0.0000</th>\n",
       "      <th>1</th>\n",
       "      <td>0.382859</td>\n",
       "      <td>0.000002</td>\n",
       "      <td>0.382861</td>\n",
       "    </tr>\n",
       "    <tr>\n",
       "      <th>1.0685</th>\n",
       "      <th>24</th>\n",
       "      <td>0.388337</td>\n",
       "      <td>-0.015195</td>\n",
       "      <td>0.373142</td>\n",
       "    </tr>\n",
       "    <tr>\n",
       "      <th>1013.0000</th>\n",
       "      <th>76</th>\n",
       "      <td>-0.000003</td>\n",
       "      <td>0.023353</td>\n",
       "      <td>0.023350</td>\n",
       "    </tr>\n",
       "  </tbody>\n",
       "</table>\n",
       "</div>"
      ],
      "text/plain": [
       "                     flug      fldg     fnetg\n",
       "pressure  level                              \n",
       "0.0000    1      0.382859  0.000002  0.382861\n",
       "1.0685    24     0.388337 -0.015195  0.373142\n",
       "1013.0000 76    -0.000003  0.023353  0.023350"
      ]
     },
     "metadata": {},
     "output_type": "display_data"
    },
    {
     "name": "stdout",
     "output_type": "stream",
     "text": [
      "Table. Fluxes. (CLIRAD) - (CRD)\n"
     ]
    },
    {
     "data": {
      "text/html": [
       "<a id=\"Best-fit_Parameters\"></a>"
      ],
      "text/plain": [
       "<IPython.core.display.HTML object>"
      ]
     },
     "metadata": {},
     "output_type": "display_data"
    },
    {
     "data": {
      "text/markdown": [
       "# Best-fit Parameters"
      ],
      "text/plain": [
       "<IPython.core.display.Markdown object>"
      ]
     },
     "metadata": {},
     "output_type": "display_data"
    },
    {
     "name": "stdout",
     "output_type": "stream",
     "text": [
      "Best-fit values for each (gas, band)\n",
      "------------------------------------\n",
      "o h2o band5\n",
      "  atmpro = mls\n",
      "  band = 5\n",
      "  commitnumber = a06b618\n",
      "  conc = None\n",
      "  dv = 0.001\n",
      "  klin = 1e-24\n",
      "  molecule = h2o\n",
      "  ng_adju = [0]\n",
      "  ng_refs = [3]\n",
      "  nv = 1000\n",
      "  option_compute_btable = 0\n",
      "  option_compute_ktable = 1\n",
      "  option_wgt_flux = 1\n",
      "  option_wgt_k = 1\n",
      "  ref_pts = [(600, 250)]\n",
      "  tsfc = 294\n",
      "  vmax = 1100\n",
      "  vmin = 980\n",
      "  w_diffuse = [(1.66, 1.66, 1.8)]\n",
      "  wgt = [(0.5, 0.55, 0.9)]\n",
      "o co2 band5\n",
      "  atmpro = mls\n",
      "  band = 5\n",
      "  commitnumber = a06b618\n",
      "  conc = 0.0004\n",
      "  dv = 0.001\n",
      "  klin = 6.5e-24\n",
      "  molecule = co2\n",
      "  ng_adju = [0, 0]\n",
      "  ng_refs = [1, 2]\n",
      "  nv = 1000\n",
      "  option_compute_btable = 0\n",
      "  option_compute_ktable = 1\n",
      "  option_wgt_flux = 1\n",
      "  option_wgt_k = 1\n",
      "  ref_pts = [(1, 250), (500, 250)]\n",
      "  tsfc = 294\n",
      "  vmax = 1100\n",
      "  vmin = 980\n",
      "  w_diffuse = [(1.75,), (1.66, 1.9)]\n",
      "  wgt = [(0.75,), (0.75, 0.95)]\n",
      "o o3 band5\n",
      "  atmpro = mls\n",
      "  band = 5\n",
      "  commitnumber = a06b618\n",
      "  conc = None\n",
      "  dv = 0.001\n",
      "  klin = 2e-20\n",
      "  molecule = o3\n",
      "  ng_adju = [0, 0]\n",
      "  ng_refs = [2, 5]\n",
      "  nv = 1000\n",
      "  option_compute_btable = 0\n",
      "  option_compute_ktable = 1\n",
      "  option_wgt_flux = 1\n",
      "  option_wgt_k = 1\n",
      "  ref_pts = [(1, 250), (50, 250)]\n",
      "  tsfc = 294\n",
      "  vmax = 1100\n",
      "  vmin = 980\n",
      "  w_diffuse = [(1.6, 1.75), (1.55, 1.66, 1.7, 1.75, 1.8)]\n",
      "  wgt = [(0.35, 0.6), (0.5, 0.55, 0.7, 0.9, 1.0)]\n"
     ]
    }
   ],
   "source": [
    "script()"
   ]
  },
  {
   "cell_type": "code",
   "execution_count": 13,
   "metadata": {
    "collapsed": true
   },
   "outputs": [
    {
     "data": {
      "text/html": [
       "<script>\n",
       "code_show=true; \n",
       "function code_toggle() {\n",
       " if (code_show){\n",
       " $('div.input').hide();\n",
       " } else {\n",
       " $('div.input').show();\n",
       " }\n",
       " code_show = !code_show\n",
       "} \n",
       "$( document ).ready(code_toggle);\n",
       "</script>\n",
       "<form action=\"javascript:code_toggle()\"><input type=\"submit\" value=\"Click here to toggle on/off the raw code.\"></form>"
      ],
      "text/plain": [
       "<IPython.core.display.HTML object>"
      ]
     },
     "execution_count": 13,
     "metadata": {},
     "output_type": "execute_result"
    }
   ],
   "source": [
    "display.HTML('''<script>\n",
    "code_show=true; \n",
    "function code_toggle() {\n",
    " if (code_show){\n",
    " $('div.input').hide();\n",
    " } else {\n",
    " $('div.input').show();\n",
    " }\n",
    " code_show = !code_show\n",
    "} \n",
    "$( document ).ready(code_toggle);\n",
    "</script>\n",
    "<form action=\"javascript:code_toggle()\"><input type=\"submit\" value=\"Click here to toggle on/off the raw code.\"></form>''')"
   ]
  }
 ],
 "metadata": {
  "kernelspec": {
   "display_name": "Python 3",
   "language": "python",
   "name": "python3"
  },
  "language_info": {
   "codemirror_mode": {
    "name": "ipython",
    "version": 3
   },
   "file_extension": ".py",
   "mimetype": "text/x-python",
   "name": "python",
   "nbconvert_exporter": "python",
   "pygments_lexer": "ipython3",
   "version": "3.6.1"
  }
 },
 "nbformat": 4,
 "nbformat_minor": 2
}
