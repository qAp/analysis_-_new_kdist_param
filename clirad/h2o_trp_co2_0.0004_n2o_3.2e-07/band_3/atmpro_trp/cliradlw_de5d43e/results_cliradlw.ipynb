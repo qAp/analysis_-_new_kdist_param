{
 "cells": [
  {
   "cell_type": "code",
   "execution_count": 1,
   "metadata": {
    "collapsed": true
   },
   "outputs": [],
   "source": [
    "%matplotlib inline\n",
    "import os\n",
    "import re\n",
    "import io\n",
    "import itertools\n",
    "import pprint\n",
    "\n",
    "from bokeh.io import output_notebook, show\n",
    "from bokeh.layouts import gridplot\n",
    "from bokeh.plotting import figure\n",
    "from bokeh.models import Range1d, Legend\n",
    "from bokeh.palettes import all_palettes\n",
    "\n",
    "import matplotlib\n",
    "import matplotlib.pyplot as plt\n",
    "import numpy as np\n",
    "import pandas as pd\n",
    "import xarray as xr\n",
    "\n",
    "import climatools.lblnew.bestfit_params as bestfits\n",
    "from climatools.lblnew import setup_bestfit, setup_overlap\n",
    "import climatools.lblnew.pipeline as pipe_lblnew\n",
    "import climatools.cliradlw.setup as setup_cliradlw\n",
    "import climatools.cliradlw.pipeline as pipe_cliradlw\n",
    "\n",
    "import climatools.html.html as climahtml\n",
    "from climatools.lblnew.dataio import *\n",
    "from climatools.plot.plot import *\n",
    "\n",
    "\n",
    "import IPython.display as display"
   ]
  },
  {
   "cell_type": "code",
   "execution_count": 2,
   "metadata": {
    "collapsed": true
   },
   "outputs": [],
   "source": [
    "%run param.py"
   ]
  },
  {
   "cell_type": "code",
   "execution_count": 3,
   "metadata": {
    "collapsed": true
   },
   "outputs": [
    {
     "name": "stdout",
     "output_type": "stream",
     "text": [
      "The history saving thread hit an unexpected error (OperationalError('database is locked',)).History will not be written to the database.\n"
     ]
    }
   ],
   "source": [
    "def load_output_file(path_csv):\n",
    "    '''\n",
    "    Load lblnew output .csv file to xarray.Dataset\n",
    "    \n",
    "    Parameters\n",
    "    ----------\n",
    "    path_csv: str\n",
    "              Path to the .csv file to be loaded.\n",
    "    ds: xarray.Dataset\n",
    "        Data in the input file in the form of an xarray.Dataset.\n",
    "    '''\n",
    "    toindex = ['band', 'pressure', 'igg', 'g']    \n",
    "    df = pd.read_csv(path_csv, sep=r'\\s+')\n",
    "    df = df.set_index([i for i in toindex if i in df.columns])\n",
    "    df = df.rename(columns={'sfu': 'flug',\n",
    "                            'sfd': 'fldg',\n",
    "                            'fnet': 'fnetg',\n",
    "                            'coolr': 'coolrg'})\n",
    "    ds = xr.Dataset.from_dataframe(df)\n",
    "\n",
    "    for l in ('level', 'layer'):\n",
    "        if l in ds.data_vars:\n",
    "            if len(ds[l].dims) > 1:\n",
    "                surface = {d: 0 for d in ds.dims if d != 'pressure'}\n",
    "                coord_level = ds[l][surface]\n",
    "                ds.coords[l] = ('pressure', coord_level)\n",
    "            else:\n",
    "                ds.coords[l] = ('pressure', ds[l])\n",
    "    \n",
    "    return ds"
   ]
  },
  {
   "cell_type": "code",
   "execution_count": 4,
   "metadata": {
    "collapsed": true
   },
   "outputs": [],
   "source": [
    "def lblnew_setup(param=None):\n",
    "    if 'ng_refs' in param:\n",
    "        return {'setup': setup_bestfit,\n",
    "                'fname_flux_crd': 'output_flux.dat',\n",
    "                'fname_cool_crd': 'output_coolr.dat',\n",
    "                'fname_flux_wgt': 'output_wfluxg.dat',\n",
    "                'fname_cool_wgt': 'output_wcoolrg.dat'}\n",
    "    else:\n",
    "        return {'setup': setup_overlap,\n",
    "                'fname_flux_crd': 'output_flux.dat',\n",
    "                'fname_cool_crd': 'output_coolr.dat',\n",
    "                'fname_flux_wgt': 'output_wflux.dat',\n",
    "                'fname_cool_wgt': 'output_wcoolr.dat'}\n",
    "\n",
    "    \n",
    "def load_lblnew_data(param):\n",
    "    \n",
    "    fname_dsname = [('fname_flux_crd', 'ds_flux_crd'),\n",
    "                    ('fname_cool_crd', 'ds_cool_crd'),\n",
    "                    ('fname_flux_wgt', 'ds_flux_wgt'),\n",
    "                    ('fname_cool_wgt', 'ds_cool_wgt')]\n",
    "    \n",
    "    d = lblnew_setup(param)\n",
    "    dir_fortran = pipe_lblnew.get_dir_case(param, setup=d['setup'])\n",
    "    \n",
    "    data_dict = {}\n",
    "    for fname, dsname in fname_dsname:\n",
    "        fpath = os.path.join(dir_fortran, d[fname])\n",
    "        data_dict[dsname] = load_output_file(fpath)\n",
    "    return data_dict\n",
    "    \n",
    "\n",
    "    \n",
    "    "
   ]
  },
  {
   "cell_type": "code",
   "execution_count": 5,
   "metadata": {
    "collapsed": true
   },
   "outputs": [],
   "source": [
    "d = load_lblnew_data(PARAM_LBLNEW)\n",
    "\n",
    "DS_FLUX_CRD = d['ds_flux_crd']\n",
    "DS_COOL_CRD = d['ds_cool_crd']\n",
    "DS_FLUX_WGT = d['ds_flux_wgt']\n",
    "DS_COOL_WGT = d['ds_cool_wgt']"
   ]
  },
  {
   "cell_type": "code",
   "execution_count": 6,
   "metadata": {
    "collapsed": true
   },
   "outputs": [],
   "source": [
    "DIR_FORTRAN = pipe_cliradlw.get_fortran_dir(PARAM, \n",
    "                                            setup=setup_cliradlw)\n",
    "\n",
    "PATH_FLUX = os.path.join(DIR_FORTRAN, 'output_flux.dat')\n",
    "PATH_COOL = os.path.join(DIR_FORTRAN, 'output_coolr.dat')\n",
    "\n",
    "DS_FLUX = load_output_file(PATH_FLUX)\n",
    "DS_COOL = load_output_file(PATH_COOL)"
   ]
  },
  {
   "cell_type": "code",
   "execution_count": 7,
   "metadata": {
    "collapsed": true
   },
   "outputs": [
    {
     "data": {
      "text/html": [
       "\n",
       "    <div class=\"bk-root\">\n",
       "        <a href=\"https://bokeh.pydata.org\" target=\"_blank\" class=\"bk-logo bk-logo-small bk-logo-notebook\"></a>\n",
       "        <span id=\"7e269fe8-fade-491a-8e74-aa29bcc3cba1\">Loading BokehJS ...</span>\n",
       "    </div>"
      ]
     },
     "metadata": {},
     "output_type": "display_data"
    },
    {
     "data": {
      "application/javascript": [
       "\n",
       "(function(root) {\n",
       "  function now() {\n",
       "    return new Date();\n",
       "  }\n",
       "\n",
       "  var force = true;\n",
       "\n",
       "  if (typeof (root._bokeh_onload_callbacks) === \"undefined\" || force === true) {\n",
       "    root._bokeh_onload_callbacks = [];\n",
       "    root._bokeh_is_loading = undefined;\n",
       "  }\n",
       "\n",
       "  var JS_MIME_TYPE = 'application/javascript';\n",
       "  var HTML_MIME_TYPE = 'text/html';\n",
       "  var EXEC_MIME_TYPE = 'application/vnd.bokehjs_exec.v0+json';\n",
       "  var CLASS_NAME = 'output_bokeh rendered_html';\n",
       "\n",
       "  /**\n",
       "   * Render data to the DOM node\n",
       "   */\n",
       "  function render(props, node) {\n",
       "    var script = document.createElement(\"script\");\n",
       "    node.appendChild(script);\n",
       "  }\n",
       "\n",
       "  /**\n",
       "   * Handle when an output is cleared or removed\n",
       "   */\n",
       "  function handleClearOutput(event, handle) {\n",
       "    var cell = handle.cell;\n",
       "\n",
       "    var id = cell.output_area._bokeh_element_id;\n",
       "    var server_id = cell.output_area._bokeh_server_id;\n",
       "    // Clean up Bokeh references\n",
       "    if (id !== undefined) {\n",
       "      Bokeh.index[id].model.document.clear();\n",
       "      delete Bokeh.index[id];\n",
       "    }\n",
       "\n",
       "    if (server_id !== undefined) {\n",
       "      // Clean up Bokeh references\n",
       "      var cmd = \"from bokeh.io.state import curstate; print(curstate().uuid_to_server['\" + server_id + \"'].get_sessions()[0].document.roots[0]._id)\";\n",
       "      cell.notebook.kernel.execute(cmd, {\n",
       "        iopub: {\n",
       "          output: function(msg) {\n",
       "            var element_id = msg.content.text.trim();\n",
       "            Bokeh.index[element_id].model.document.clear();\n",
       "            delete Bokeh.index[element_id];\n",
       "          }\n",
       "        }\n",
       "      });\n",
       "      // Destroy server and session\n",
       "      var cmd = \"import bokeh.io.notebook as ion; ion.destroy_server('\" + server_id + \"')\";\n",
       "      cell.notebook.kernel.execute(cmd);\n",
       "    }\n",
       "  }\n",
       "\n",
       "  /**\n",
       "   * Handle when a new output is added\n",
       "   */\n",
       "  function handleAddOutput(event, handle) {\n",
       "    var output_area = handle.output_area;\n",
       "    var output = handle.output;\n",
       "\n",
       "    // limit handleAddOutput to display_data with EXEC_MIME_TYPE content only\n",
       "    if ((output.output_type != \"display_data\") || (!output.data.hasOwnProperty(EXEC_MIME_TYPE))) {\n",
       "      return\n",
       "    }\n",
       "\n",
       "    var toinsert = output_area.element.find(\".\" + CLASS_NAME.split(' ')[0]);\n",
       "\n",
       "    if (output.metadata[EXEC_MIME_TYPE][\"id\"] !== undefined) {\n",
       "      toinsert[toinsert.length - 1].firstChild.textContent = output.data[JS_MIME_TYPE];\n",
       "      // store reference to embed id on output_area\n",
       "      output_area._bokeh_element_id = output.metadata[EXEC_MIME_TYPE][\"id\"];\n",
       "    }\n",
       "    if (output.metadata[EXEC_MIME_TYPE][\"server_id\"] !== undefined) {\n",
       "      var bk_div = document.createElement(\"div\");\n",
       "      bk_div.innerHTML = output.data[HTML_MIME_TYPE];\n",
       "      var script_attrs = bk_div.children[0].attributes;\n",
       "      for (var i = 0; i < script_attrs.length; i++) {\n",
       "        toinsert[toinsert.length - 1].firstChild.setAttribute(script_attrs[i].name, script_attrs[i].value);\n",
       "      }\n",
       "      // store reference to server id on output_area\n",
       "      output_area._bokeh_server_id = output.metadata[EXEC_MIME_TYPE][\"server_id\"];\n",
       "    }\n",
       "  }\n",
       "\n",
       "  function register_renderer(events, OutputArea) {\n",
       "\n",
       "    function append_mime(data, metadata, element) {\n",
       "      // create a DOM node to render to\n",
       "      var toinsert = this.create_output_subarea(\n",
       "        metadata,\n",
       "        CLASS_NAME,\n",
       "        EXEC_MIME_TYPE\n",
       "      );\n",
       "      this.keyboard_manager.register_events(toinsert);\n",
       "      // Render to node\n",
       "      var props = {data: data, metadata: metadata[EXEC_MIME_TYPE]};\n",
       "      render(props, toinsert[toinsert.length - 1]);\n",
       "      element.append(toinsert);\n",
       "      return toinsert\n",
       "    }\n",
       "\n",
       "    /* Handle when an output is cleared or removed */\n",
       "    events.on('clear_output.CodeCell', handleClearOutput);\n",
       "    events.on('delete.Cell', handleClearOutput);\n",
       "\n",
       "    /* Handle when a new output is added */\n",
       "    events.on('output_added.OutputArea', handleAddOutput);\n",
       "\n",
       "    /**\n",
       "     * Register the mime type and append_mime function with output_area\n",
       "     */\n",
       "    OutputArea.prototype.register_mime_type(EXEC_MIME_TYPE, append_mime, {\n",
       "      /* Is output safe? */\n",
       "      safe: true,\n",
       "      /* Index of renderer in `output_area.display_order` */\n",
       "      index: 0\n",
       "    });\n",
       "  }\n",
       "\n",
       "  // register the mime type if in Jupyter Notebook environment and previously unregistered\n",
       "  if (root.Jupyter !== undefined) {\n",
       "    var events = require('base/js/events');\n",
       "    var OutputArea = require('notebook/js/outputarea').OutputArea;\n",
       "\n",
       "    if (OutputArea.prototype.mime_types().indexOf(EXEC_MIME_TYPE) == -1) {\n",
       "      register_renderer(events, OutputArea);\n",
       "    }\n",
       "  }\n",
       "\n",
       "  \n",
       "  if (typeof (root._bokeh_timeout) === \"undefined\" || force === true) {\n",
       "    root._bokeh_timeout = Date.now() + 5000;\n",
       "    root._bokeh_failed_load = false;\n",
       "  }\n",
       "\n",
       "  var NB_LOAD_WARNING = {'data': {'text/html':\n",
       "     \"<div style='background-color: #fdd'>\\n\"+\n",
       "     \"<p>\\n\"+\n",
       "     \"BokehJS does not appear to have successfully loaded. If loading BokehJS from CDN, this \\n\"+\n",
       "     \"may be due to a slow or bad network connection. Possible fixes:\\n\"+\n",
       "     \"</p>\\n\"+\n",
       "     \"<ul>\\n\"+\n",
       "     \"<li>re-rerun `output_notebook()` to attempt to load from CDN again, or</li>\\n\"+\n",
       "     \"<li>use INLINE resources instead, as so:</li>\\n\"+\n",
       "     \"</ul>\\n\"+\n",
       "     \"<code>\\n\"+\n",
       "     \"from bokeh.resources import INLINE\\n\"+\n",
       "     \"output_notebook(resources=INLINE)\\n\"+\n",
       "     \"</code>\\n\"+\n",
       "     \"</div>\"}};\n",
       "\n",
       "  function display_loaded() {\n",
       "    var el = document.getElementById(\"7e269fe8-fade-491a-8e74-aa29bcc3cba1\");\n",
       "    if (el != null) {\n",
       "      el.textContent = \"BokehJS is loading...\";\n",
       "    }\n",
       "    if (root.Bokeh !== undefined) {\n",
       "      if (el != null) {\n",
       "        el.textContent = \"BokehJS \" + root.Bokeh.version + \" successfully loaded.\";\n",
       "      }\n",
       "    } else if (Date.now() < root._bokeh_timeout) {\n",
       "      setTimeout(display_loaded, 100)\n",
       "    }\n",
       "  }\n",
       "\n",
       "\n",
       "  function run_callbacks() {\n",
       "    try {\n",
       "      root._bokeh_onload_callbacks.forEach(function(callback) { callback() });\n",
       "    }\n",
       "    finally {\n",
       "      delete root._bokeh_onload_callbacks\n",
       "    }\n",
       "    console.info(\"Bokeh: all callbacks have finished\");\n",
       "  }\n",
       "\n",
       "  function load_libs(js_urls, callback) {\n",
       "    root._bokeh_onload_callbacks.push(callback);\n",
       "    if (root._bokeh_is_loading > 0) {\n",
       "      console.log(\"Bokeh: BokehJS is being loaded, scheduling callback at\", now());\n",
       "      return null;\n",
       "    }\n",
       "    if (js_urls == null || js_urls.length === 0) {\n",
       "      run_callbacks();\n",
       "      return null;\n",
       "    }\n",
       "    console.log(\"Bokeh: BokehJS not loaded, scheduling load and callback at\", now());\n",
       "    root._bokeh_is_loading = js_urls.length;\n",
       "    for (var i = 0; i < js_urls.length; i++) {\n",
       "      var url = js_urls[i];\n",
       "      var s = document.createElement('script');\n",
       "      s.src = url;\n",
       "      s.async = false;\n",
       "      s.onreadystatechange = s.onload = function() {\n",
       "        root._bokeh_is_loading--;\n",
       "        if (root._bokeh_is_loading === 0) {\n",
       "          console.log(\"Bokeh: all BokehJS libraries loaded\");\n",
       "          run_callbacks()\n",
       "        }\n",
       "      };\n",
       "      s.onerror = function() {\n",
       "        console.warn(\"failed to load library \" + url);\n",
       "      };\n",
       "      console.log(\"Bokeh: injecting script tag for BokehJS library: \", url);\n",
       "      document.getElementsByTagName(\"head\")[0].appendChild(s);\n",
       "    }\n",
       "  };var element = document.getElementById(\"7e269fe8-fade-491a-8e74-aa29bcc3cba1\");\n",
       "  if (element == null) {\n",
       "    console.log(\"Bokeh: ERROR: autoload.js configured with elementid '7e269fe8-fade-491a-8e74-aa29bcc3cba1' but no matching script tag was found. \")\n",
       "    return false;\n",
       "  }\n",
       "\n",
       "  var js_urls = [\"https://cdn.pydata.org/bokeh/release/bokeh-0.12.16.min.js\", \"https://cdn.pydata.org/bokeh/release/bokeh-widgets-0.12.16.min.js\", \"https://cdn.pydata.org/bokeh/release/bokeh-tables-0.12.16.min.js\", \"https://cdn.pydata.org/bokeh/release/bokeh-gl-0.12.16.min.js\"];\n",
       "\n",
       "  var inline_js = [\n",
       "    function(Bokeh) {\n",
       "      Bokeh.set_log_level(\"info\");\n",
       "    },\n",
       "    \n",
       "    function(Bokeh) {\n",
       "      \n",
       "    },\n",
       "    function(Bokeh) {\n",
       "      console.log(\"Bokeh: injecting CSS: https://cdn.pydata.org/bokeh/release/bokeh-0.12.16.min.css\");\n",
       "      Bokeh.embed.inject_css(\"https://cdn.pydata.org/bokeh/release/bokeh-0.12.16.min.css\");\n",
       "      console.log(\"Bokeh: injecting CSS: https://cdn.pydata.org/bokeh/release/bokeh-widgets-0.12.16.min.css\");\n",
       "      Bokeh.embed.inject_css(\"https://cdn.pydata.org/bokeh/release/bokeh-widgets-0.12.16.min.css\");\n",
       "      console.log(\"Bokeh: injecting CSS: https://cdn.pydata.org/bokeh/release/bokeh-tables-0.12.16.min.css\");\n",
       "      Bokeh.embed.inject_css(\"https://cdn.pydata.org/bokeh/release/bokeh-tables-0.12.16.min.css\");\n",
       "    }\n",
       "  ];\n",
       "\n",
       "  function run_inline_js() {\n",
       "    \n",
       "    if ((root.Bokeh !== undefined) || (force === true)) {\n",
       "      for (var i = 0; i < inline_js.length; i++) {\n",
       "        inline_js[i].call(root, root.Bokeh);\n",
       "      }if (force === true) {\n",
       "        display_loaded();\n",
       "      }} else if (Date.now() < root._bokeh_timeout) {\n",
       "      setTimeout(run_inline_js, 100);\n",
       "    } else if (!root._bokeh_failed_load) {\n",
       "      console.log(\"Bokeh: BokehJS failed to load within specified timeout.\");\n",
       "      root._bokeh_failed_load = true;\n",
       "    } else if (force !== true) {\n",
       "      var cell = $(document.getElementById(\"7e269fe8-fade-491a-8e74-aa29bcc3cba1\")).parents('.cell').data().cell;\n",
       "      cell.output_area.append_execute_result(NB_LOAD_WARNING)\n",
       "    }\n",
       "\n",
       "  }\n",
       "\n",
       "  if (root._bokeh_is_loading === 0) {\n",
       "    console.log(\"Bokeh: BokehJS loaded, going straight to plotting\");\n",
       "    run_inline_js();\n",
       "  } else {\n",
       "    load_libs(js_urls, function() {\n",
       "      console.log(\"Bokeh: BokehJS plotting callback run at\", now());\n",
       "      run_inline_js();\n",
       "    });\n",
       "  }\n",
       "}(window));"
      ],
      "application/vnd.bokehjs_load.v0+json": "\n(function(root) {\n  function now() {\n    return new Date();\n  }\n\n  var force = true;\n\n  if (typeof (root._bokeh_onload_callbacks) === \"undefined\" || force === true) {\n    root._bokeh_onload_callbacks = [];\n    root._bokeh_is_loading = undefined;\n  }\n\n  \n\n  \n  if (typeof (root._bokeh_timeout) === \"undefined\" || force === true) {\n    root._bokeh_timeout = Date.now() + 5000;\n    root._bokeh_failed_load = false;\n  }\n\n  var NB_LOAD_WARNING = {'data': {'text/html':\n     \"<div style='background-color: #fdd'>\\n\"+\n     \"<p>\\n\"+\n     \"BokehJS does not appear to have successfully loaded. If loading BokehJS from CDN, this \\n\"+\n     \"may be due to a slow or bad network connection. Possible fixes:\\n\"+\n     \"</p>\\n\"+\n     \"<ul>\\n\"+\n     \"<li>re-rerun `output_notebook()` to attempt to load from CDN again, or</li>\\n\"+\n     \"<li>use INLINE resources instead, as so:</li>\\n\"+\n     \"</ul>\\n\"+\n     \"<code>\\n\"+\n     \"from bokeh.resources import INLINE\\n\"+\n     \"output_notebook(resources=INLINE)\\n\"+\n     \"</code>\\n\"+\n     \"</div>\"}};\n\n  function display_loaded() {\n    var el = document.getElementById(\"7e269fe8-fade-491a-8e74-aa29bcc3cba1\");\n    if (el != null) {\n      el.textContent = \"BokehJS is loading...\";\n    }\n    if (root.Bokeh !== undefined) {\n      if (el != null) {\n        el.textContent = \"BokehJS \" + root.Bokeh.version + \" successfully loaded.\";\n      }\n    } else if (Date.now() < root._bokeh_timeout) {\n      setTimeout(display_loaded, 100)\n    }\n  }\n\n\n  function run_callbacks() {\n    try {\n      root._bokeh_onload_callbacks.forEach(function(callback) { callback() });\n    }\n    finally {\n      delete root._bokeh_onload_callbacks\n    }\n    console.info(\"Bokeh: all callbacks have finished\");\n  }\n\n  function load_libs(js_urls, callback) {\n    root._bokeh_onload_callbacks.push(callback);\n    if (root._bokeh_is_loading > 0) {\n      console.log(\"Bokeh: BokehJS is being loaded, scheduling callback at\", now());\n      return null;\n    }\n    if (js_urls == null || js_urls.length === 0) {\n      run_callbacks();\n      return null;\n    }\n    console.log(\"Bokeh: BokehJS not loaded, scheduling load and callback at\", now());\n    root._bokeh_is_loading = js_urls.length;\n    for (var i = 0; i < js_urls.length; i++) {\n      var url = js_urls[i];\n      var s = document.createElement('script');\n      s.src = url;\n      s.async = false;\n      s.onreadystatechange = s.onload = function() {\n        root._bokeh_is_loading--;\n        if (root._bokeh_is_loading === 0) {\n          console.log(\"Bokeh: all BokehJS libraries loaded\");\n          run_callbacks()\n        }\n      };\n      s.onerror = function() {\n        console.warn(\"failed to load library \" + url);\n      };\n      console.log(\"Bokeh: injecting script tag for BokehJS library: \", url);\n      document.getElementsByTagName(\"head\")[0].appendChild(s);\n    }\n  };var element = document.getElementById(\"7e269fe8-fade-491a-8e74-aa29bcc3cba1\");\n  if (element == null) {\n    console.log(\"Bokeh: ERROR: autoload.js configured with elementid '7e269fe8-fade-491a-8e74-aa29bcc3cba1' but no matching script tag was found. \")\n    return false;\n  }\n\n  var js_urls = [\"https://cdn.pydata.org/bokeh/release/bokeh-0.12.16.min.js\", \"https://cdn.pydata.org/bokeh/release/bokeh-widgets-0.12.16.min.js\", \"https://cdn.pydata.org/bokeh/release/bokeh-tables-0.12.16.min.js\", \"https://cdn.pydata.org/bokeh/release/bokeh-gl-0.12.16.min.js\"];\n\n  var inline_js = [\n    function(Bokeh) {\n      Bokeh.set_log_level(\"info\");\n    },\n    \n    function(Bokeh) {\n      \n    },\n    function(Bokeh) {\n      console.log(\"Bokeh: injecting CSS: https://cdn.pydata.org/bokeh/release/bokeh-0.12.16.min.css\");\n      Bokeh.embed.inject_css(\"https://cdn.pydata.org/bokeh/release/bokeh-0.12.16.min.css\");\n      console.log(\"Bokeh: injecting CSS: https://cdn.pydata.org/bokeh/release/bokeh-widgets-0.12.16.min.css\");\n      Bokeh.embed.inject_css(\"https://cdn.pydata.org/bokeh/release/bokeh-widgets-0.12.16.min.css\");\n      console.log(\"Bokeh: injecting CSS: https://cdn.pydata.org/bokeh/release/bokeh-tables-0.12.16.min.css\");\n      Bokeh.embed.inject_css(\"https://cdn.pydata.org/bokeh/release/bokeh-tables-0.12.16.min.css\");\n    }\n  ];\n\n  function run_inline_js() {\n    \n    if ((root.Bokeh !== undefined) || (force === true)) {\n      for (var i = 0; i < inline_js.length; i++) {\n        inline_js[i].call(root, root.Bokeh);\n      }if (force === true) {\n        display_loaded();\n      }} else if (Date.now() < root._bokeh_timeout) {\n      setTimeout(run_inline_js, 100);\n    } else if (!root._bokeh_failed_load) {\n      console.log(\"Bokeh: BokehJS failed to load within specified timeout.\");\n      root._bokeh_failed_load = true;\n    } else if (force !== true) {\n      var cell = $(document.getElementById(\"7e269fe8-fade-491a-8e74-aa29bcc3cba1\")).parents('.cell').data().cell;\n      cell.output_area.append_execute_result(NB_LOAD_WARNING)\n    }\n\n  }\n\n  if (root._bokeh_is_loading === 0) {\n    console.log(\"Bokeh: BokehJS loaded, going straight to plotting\");\n    run_inline_js();\n  } else {\n    load_libs(js_urls, function() {\n      console.log(\"Bokeh: BokehJS plotting callback run at\", now());\n      run_inline_js();\n    });\n  }\n}(window));"
     },
     "metadata": {},
     "output_type": "display_data"
    }
   ],
   "source": [
    "output_notebook()"
   ]
  },
  {
   "cell_type": "code",
   "execution_count": 8,
   "metadata": {
    "collapsed": true
   },
   "outputs": [],
   "source": [
    "def fmt_cool(ds_in):\n",
    "    ds = ds_in.copy(deep=True)\n",
    "    if 'igg' in ds.dims:\n",
    "        ds = ds.sel(igg=1)\n",
    "\n",
    "    if 'g' in ds.dims:\n",
    "        ds = ds.sum('g')\n",
    "            \n",
    "    if 'band' in ds.dims:\n",
    "        try:\n",
    "            ds = ds.squeeze('band')\n",
    "        except ValueError:\n",
    "            ds = ds.sum('band')\n",
    "                \n",
    "    return ds['coolrg']\n",
    "\n",
    "\n",
    "def pltdata_cooling_1(ds_cool=None,\n",
    "                      ds_cool_crd=None, ds_cool_wgt=None):\n",
    "    \n",
    "\n",
    "\n",
    "    colors = all_palettes['Set1'][4]\n",
    "    data = [{'label': 'CLIRAD `coolr_bands`',\n",
    "             'srs': fmt_cool(ds_cool),\n",
    "             'line_dash': 'dashed', 'line_width': 5,\n",
    "             'color': colors[0], 'alpha': .6},\n",
    "            {'label': 'CRD',\n",
    "             'srs': fmt_cool(ds_cool_crd),\n",
    "             'line_dash': 'solid', 'line_width': 1.5,\n",
    "             'marker': 'circle', 'marker_size': 5,\n",
    "             'color': colors[2], 'alpha': 1,},\n",
    "            {'label': 'WGT igg=10 wgt_flux=2',\n",
    "             'srs': fmt_cool(ds_cool_wgt),\n",
    "             'line_dash': 'solid', 'line_width': 3,\n",
    "             'marker': 'square', 'marker_size': 5,\n",
    "             'color': colors[3], 'alpha': .6}]\n",
    "    return data\n",
    "\n",
    "\n",
    "def nice_xlims(pltdata=None, prange=None):\n",
    "    \n",
    "    def get_slice(srs):\n",
    "        return srs.sel(pressure=slice(*prange))\n",
    "    \n",
    "    srss = [d['srs'] for d in pltdata]\n",
    "    vmin = min([get_slice(srs).min() for srs in srss])\n",
    "    vmax = max([get_slice(srs).max() for srs in srss])\n",
    "    dv = (vmax - vmin) * .01\n",
    "    return float(vmin - dv), float(vmax + dv)\n",
    "    \n",
    "\n",
    "def plt_cooling_bokeh(pltdata=None):\n",
    "    '''\n",
    "    Plot a list of cooling rate profiles using bokeh.\n",
    "    '''\n",
    "    ymin = 1e-2 \n",
    "    ymax = 1020 \n",
    "        \n",
    "    p1 = figure(title=\"Linear pressure scale\", \n",
    "                plot_width=400)        \n",
    "    xmin, xmax = nice_xlims(pltdata, prange=(50, 1050))\n",
    "    for d in pltdata:\n",
    "        if 'marker' in d:\n",
    "            getattr(p1, d['marker'])(d['srs'].values, \n",
    "                    d['srs'].coords['pressure'].values,\n",
    "                    color=d['color'], alpha=.7)\n",
    "        p1.line(d['srs'].values, \n",
    "                d['srs'].coords['pressure'].values,\n",
    "                color=d['color'], alpha=d['alpha'], \n",
    "                line_width=d['line_width'], line_dash=d['line_dash'])\n",
    "    \n",
    "    p1.y_range = Range1d(ymax, ymin)\n",
    "    p1.yaxis.axis_label = 'pressure [mb]'   \n",
    "    p1.x_range = Range1d(xmin, xmax)\n",
    "    p1.xaxis.axis_label = 'cooling rate [K/day]'\n",
    "            \n",
    "    p2 = figure(title='Log pressure scale', y_axis_type='log',\n",
    "                plot_width=560)\n",
    "    xmin, xmax = nice_xlims(pltdata, prange=(.01, 200))\n",
    "    \n",
    "    rs = []\n",
    "    for d in pltdata:\n",
    "        rd = []\n",
    "        if 'marker' in d:\n",
    "            r_mark = getattr(p2, d['marker'])(d['srs'].values, \n",
    "                        d['srs'].coords['pressure'].values,\n",
    "                        color=d['color'], alpha=.7)\n",
    "            rd.append(r_mark)\n",
    "        r_line = p2.line(d['srs'].values, \n",
    "                    d['srs'].coords['pressure'].values,\n",
    "                    color=d['color'], alpha=d['alpha'], \n",
    "                    line_width=d['line_width'], line_dash=d['line_dash'])\n",
    "        rd.append(r_line)\n",
    "      \n",
    "        rs.append(rd)\n",
    "        \n",
    "    p2.y_range = Range1d(ymax, ymin)  \n",
    "    p2.yaxis.axis_label = 'pressure [mb]'\n",
    "    \n",
    "    p2.x_range = Range1d(xmin, xmax)\n",
    "    p2.xaxis.axis_label = 'cooling rate [K/day]'\n",
    "    \n",
    "    items = [(d['label'], r) for r, d in zip(rs, pltdata)]\n",
    "    legend = Legend(items=items, location=(10, -30))\n",
    "    legend.label_text_font_size = '8pt'\n",
    "    \n",
    "    p2.add_layout(legend, 'right')  \n",
    "    \n",
    "    show(gridplot(p1, p2, ncols=2, plot_height=500))\n",
    "    \n",
    "\n",
    "def script_plt_cooling():\n",
    "    pltdata = pltdata_cooling_1(\n",
    "        ds_cool=DS_COOL,\n",
    "        ds_cool_crd=DS_COOL_CRD,\n",
    "        ds_cool_wgt=DS_COOL_WGT)\n",
    "    plt_cooling_bokeh(pltdata=pltdata)\n",
    "    print('''FIGURE. Cooling rate profiles.''')"
   ]
  },
  {
   "cell_type": "code",
   "execution_count": 9,
   "metadata": {
    "collapsed": true
   },
   "outputs": [],
   "source": [
    "def fmt_flux(ds_in):\n",
    "    ds = ds_in.copy(deep=True)\n",
    "    \n",
    "    for l in ('level', 'layer'):\n",
    "        if l in ds.data_vars:\n",
    "            if len(ds[l].dims) > 1:\n",
    "                surface = {d: 0 for d in ds.dims if d != 'pressure'}\n",
    "                coord_level = ds[l][surface]\n",
    "                ds.coords[l] = ('pressure', coord_level)\n",
    "            else:\n",
    "                ds.coords[l] = ('pressure', ds[l])\n",
    "        \n",
    "    ds = ds.isel(pressure=[0, 23, -1])\n",
    "        \n",
    "    if 'igg' in ds.dims:\n",
    "        ds = ds.sel(igg=[1])\n",
    "        ds = ds.squeeze('igg').drop('igg')\n",
    "    \n",
    "    if 'g' in ds.dims:\n",
    "        ds = ds.sum('g')\n",
    "            \n",
    "    if 'band' in ds.dims:\n",
    "        try:\n",
    "            ds = ds.squeeze('band').drop('band')\n",
    "        except ValueError:\n",
    "            ds = ds.sum('band')\n",
    "                \n",
    "    df = ds.to_dataframe()\n",
    "    df = df.set_index('level', append=True)               \n",
    "    return df\n",
    "\n",
    "\n",
    "def tbdata_flux(ds_flux=None, ds_flux_crd=None, ds_flux_wgt=None):\n",
    "    ilevels = [0, 23, -1]\n",
    "            \n",
    "    benchmark = {'label': 'CRD',\n",
    "                 'df': fmt_flux(ds_flux_crd)}\n",
    "    \n",
    "    tbs = [{'label': 'WGT igg=10 wgt_flux=1',\n",
    "            'df': fmt_flux(ds_flux_wgt)},\n",
    "           {'label': 'CLIRAD',\n",
    "            'df': fmt_flux(ds_flux)}]\n",
    "    \n",
    "    data = {'benchmark': benchmark, 'others': tbs}\n",
    "    return data\n",
    "\n",
    "\n",
    "def tb_flux(tbdata=None):\n",
    "    benchmark = tbdata['benchmark']\n",
    "    others = tbdata['others']\n",
    "    \n",
    "    def show_tb(d=None):\n",
    "        display.display(d['df'])\n",
    "        print('Table.', 'Fluxes.', d['label'])\n",
    "        \n",
    "    def show_tbdiff(d0=None, d=None):\n",
    "        df = d['df']\n",
    "        df.index = d0['df'].index\n",
    "        display.display(df - d0['df'])\n",
    "        print('Table.', 'Fluxes.', \n",
    "              '({}) - ({})'.format(d['label'], d0['label']))\n",
    "        \n",
    "    show_tb(benchmark)\n",
    "    for d in others:\n",
    "        show_tb(d)\n",
    "        \n",
    "    for d in others:\n",
    "        show_tbdiff(d=d, d0=benchmark)\n",
    "        \n",
    "        \n",
    "def script_tb_flux():\n",
    "    data = tbdata_flux(ds_flux=DS_FLUX,\n",
    "                       ds_flux_crd=DS_FLUX_CRD,\n",
    "                       ds_flux_wgt=DS_FLUX_WGT)\n",
    "    tb_flux(tbdata=data)"
   ]
  },
  {
   "cell_type": "code",
   "execution_count": 10,
   "metadata": {
    "collapsed": true
   },
   "outputs": [],
   "source": [
    "def band_map():\n",
    "    '''\n",
    "    Maps spectral bands in lblnew to spectral bands in clirad.\n",
    "    '''\n",
    "    lblnew2clirad = {'1': '1',\n",
    "            '2': '2',\n",
    "            '3a': '3',\n",
    "            '3b': '4',\n",
    "            '3c': '5',\n",
    "            '4': '6', \n",
    "            '5': '7',\n",
    "            '6': '8',\n",
    "            '7': '9', \n",
    "            '8': '10',\n",
    "            '9': '11'}\n",
    "    \n",
    "    clirad2lblnew = {clirad: lblnew \n",
    "                     for lblnew, clirad in lblnew2clirad.items()}\n",
    "    return clirad2lblnew\n",
    "\n",
    "\n",
    "def gasbands():\n",
    "    bmap = band_map()\n",
    "    gases = list(PARAM['molecule'].keys())\n",
    "    \n",
    "    bands = [bmap[str(b)] for b in PARAM['band']]\n",
    "    return list(itertools.product(gases, bands))\n",
    "\n",
    "\n",
    "def print_bestfit_params():\n",
    "    print('Best-fit values for each (gas, band)')\n",
    "    print('------------------------------------')\n",
    "    for gas, band in gasbands():\n",
    "        print('o {} band{}'.format(gas, band))\n",
    "        param = bestfits.kdist_params(molecule=gas, band=band)\n",
    "        for name, value in sorted(param.items()):\n",
    "            print(2 * ' ' + '{} = {}'.format(name, value))\n",
    "\n",
    "        \n",
    "def print_input_param():        \n",
    "    for name, value in PARAM.items():\n",
    "        print('{} = {}'.format(name, value))\n",
    "        \n",
    "        \n",
    "def print_lblnew_param():\n",
    "    for name, value in sorted(PARAM_LBLNEW.items()):\n",
    "        print('{} = {}'.format(name, value))\n"
   ]
  },
  {
   "cell_type": "code",
   "execution_count": 11,
   "metadata": {
    "collapsed": true,
    "scrolled": false
   },
   "outputs": [],
   "source": [
    "def show_html(s):\n",
    "    display.display(display.HTML(s))\n",
    "\n",
    "    \n",
    "def show_markdown(s):\n",
    "    display.display(display.Markdown(s))\n",
    "\n",
    "    \n",
    "def script():\n",
    "    \n",
    "    title = '### CLIRAD-LW'\n",
    "    s_input = 'Input Parameters'\n",
    "    s_lblnew_param = 'LBLNEW case compaired against'\n",
    "    s_bestfits = 'Best-fit Parameters'\n",
    "    s_plt_cooling = 'Cooling Rate Profiles'\n",
    "    s_tb_flux = 'Flux Comparison'\n",
    "    \n",
    "    # title\n",
    "    show_markdown('### CLIRAD-LW')\n",
    "    \n",
    "    # TOC\n",
    "    show_markdown('### Table of Contents')\n",
    "    show_html(climahtml.getHTML_hrefanchor(s_input))\n",
    "    show_html(climahtml.getHTML_hrefanchor(s_lblnew_param))\n",
    "    show_html(climahtml.getHTML_hrefanchor(s_plt_cooling))\n",
    "    show_html(climahtml.getHTML_hrefanchor(s_tb_flux))\n",
    "    show_html(climahtml.getHTML_hrefanchor(s_bestfits))\n",
    "    \n",
    "    # Input parameters\n",
    "    show_html(climahtml.getHTML_idanchor(s_input))\n",
    "    show_markdown(climahtml.getMarkdown_sectitle(s_input))\n",
    "    print_input_param()\n",
    "    \n",
    "    # LBLNEW parameters \n",
    "    show_html(climahtml.getHTML_idanchor(s_lblnew_param))\n",
    "    show_markdown(climahtml.getMarkdown_sectitle(s_lblnew_param))\n",
    "    print_lblnew_param()\n",
    "    \n",
    "    # Cooling rate profiles\n",
    "    show_html(climahtml.getHTML_idanchor(s_plt_cooling))\n",
    "    show_markdown(climahtml.getMarkdown_sectitle(s_plt_cooling))\n",
    "    script_plt_cooling()\n",
    "    \n",
    "    # Flux comparison\n",
    "    show_html(climahtml.getHTML_idanchor(s_tb_flux))\n",
    "    show_markdown(climahtml.getMarkdown_sectitle(s_tb_flux))\n",
    "    script_tb_flux()\n",
    "    \n",
    "    # Best-fit values\n",
    "    show_html(climahtml.getHTML_idanchor(s_bestfits))\n",
    "    show_markdown(climahtml.getMarkdown_sectitle(s_bestfits))\n",
    "    print_bestfit_params()\n",
    "   \n",
    "    "
   ]
  },
  {
   "cell_type": "code",
   "execution_count": 12,
   "metadata": {
    "collapsed": true,
    "scrolled": false
   },
   "outputs": [
    {
     "data": {
      "text/markdown": [
       "### CLIRAD-LW"
      ],
      "text/plain": [
       "<IPython.core.display.Markdown object>"
      ]
     },
     "metadata": {},
     "output_type": "display_data"
    },
    {
     "data": {
      "text/markdown": [
       "### Table of Contents"
      ],
      "text/plain": [
       "<IPython.core.display.Markdown object>"
      ]
     },
     "metadata": {},
     "output_type": "display_data"
    },
    {
     "data": {
      "text/html": [
       "<a href=\"#Input_Parameters\">Input Parameters</a>"
      ],
      "text/plain": [
       "<IPython.core.display.HTML object>"
      ]
     },
     "metadata": {},
     "output_type": "display_data"
    },
    {
     "data": {
      "text/html": [
       "<a href=\"#LBLNEW_case_compaired_against\">LBLNEW case compaired against</a>"
      ],
      "text/plain": [
       "<IPython.core.display.HTML object>"
      ]
     },
     "metadata": {},
     "output_type": "display_data"
    },
    {
     "data": {
      "text/html": [
       "<a href=\"#Cooling_Rate_Profiles\">Cooling Rate Profiles</a>"
      ],
      "text/plain": [
       "<IPython.core.display.HTML object>"
      ]
     },
     "metadata": {},
     "output_type": "display_data"
    },
    {
     "data": {
      "text/html": [
       "<a href=\"#Flux_Comparison\">Flux Comparison</a>"
      ],
      "text/plain": [
       "<IPython.core.display.HTML object>"
      ]
     },
     "metadata": {},
     "output_type": "display_data"
    },
    {
     "data": {
      "text/html": [
       "<a href=\"#Best-fit_Parameters\">Best-fit Parameters</a>"
      ],
      "text/plain": [
       "<IPython.core.display.HTML object>"
      ]
     },
     "metadata": {},
     "output_type": "display_data"
    },
    {
     "data": {
      "text/html": [
       "<a id=\"Input_Parameters\"></a>"
      ],
      "text/plain": [
       "<IPython.core.display.HTML object>"
      ]
     },
     "metadata": {},
     "output_type": "display_data"
    },
    {
     "data": {
      "text/markdown": [
       "# Input Parameters"
      ],
      "text/plain": [
       "<IPython.core.display.Markdown object>"
      ]
     },
     "metadata": {},
     "output_type": "display_data"
    },
    {
     "name": "stdout",
     "output_type": "stream",
     "text": [
      "commitnumber = de5d43e\n",
      "molecule = {'h2o': 'atmpro', 'co2': 0.0004, 'n2o': 3.2e-07}\n",
      "band = [3]\n",
      "atmpro = trp\n",
      "tsfc = 300\n"
     ]
    },
    {
     "data": {
      "text/html": [
       "<a id=\"LBLNEW_case_compaired_against\"></a>"
      ],
      "text/plain": [
       "<IPython.core.display.HTML object>"
      ]
     },
     "metadata": {},
     "output_type": "display_data"
    },
    {
     "data": {
      "text/markdown": [
       "# LBLNEW case compaired against"
      ],
      "text/plain": [
       "<IPython.core.display.Markdown object>"
      ]
     },
     "metadata": {},
     "output_type": "display_data"
    },
    {
     "name": "stdout",
     "output_type": "stream",
     "text": [
      "atmpro = trp\n",
      "band = 3a\n",
      "commitnumber = 5014a19\n",
      "dv = 0.001\n",
      "molecule = {'h2o': 'atmpro', 'co2': 0.0004, 'n2o': 3.2e-07}\n",
      "nv = 1000\n",
      "tsfc = 300\n"
     ]
    },
    {
     "data": {
      "text/html": [
       "<a id=\"Cooling_Rate_Profiles\"></a>"
      ],
      "text/plain": [
       "<IPython.core.display.HTML object>"
      ]
     },
     "metadata": {},
     "output_type": "display_data"
    },
    {
     "data": {
      "text/markdown": [
       "# Cooling Rate Profiles"
      ],
      "text/plain": [
       "<IPython.core.display.Markdown object>"
      ]
     },
     "metadata": {},
     "output_type": "display_data"
    },
    {
     "data": {
      "text/html": [
       "\n",
       "<div class=\"bk-root\">\n",
       "    <div class=\"bk-plotdiv\" id=\"94b3dd57-cd9b-4218-8ff0-e5932d0a1ec5\"></div>\n",
       "</div>"
      ]
     },
     "metadata": {},
     "output_type": "display_data"
    },
    {
     "data": {
      "application/javascript": [
       "(function(root) {\n",
       "  function embed_document(root) {\n",
       "    \n",
       "  var docs_json = {\"3483c28e-9f0e-4b70-ac25-c8620c404d9e\":{\"roots\":{\"references\":[{\"attributes\":{\"callback\":null,\"data\":{\"x\":{\"__ndarray__\":\"lGEFjdMv2T8Z7pbDcjTZP5lH3VL3Fto/24nUrBrh2j82ilF8IYnbP1f2dq6c+9s/aD/vGcss3D9JGtRlzgbcP7nTCMOhc9s/pdpEuXZa2j9w6bkBdqDYP75Bg2Y6KNY/34k4IZ3P0j80AZbHYGbNP4dZHloarso/X96QBOl70D+v2i2wZJrUP1UJgSI3v9c/QnDHYVGN2j/5m9TAJA/eP+QXuQJl7uE//zKthw5l5j+i7kWsrIrmP2DVD6CVKuM/wEmJE05B4D9OsjgQUGnaP3yfiTQajtU/GxNBIMC30T+ErNmQoPTMP5/G/xXgWMc/QGR4iT12wj+2nqVUV3i8PwewAFp+VrU/tK4GZXBNrz81zHW/rzafP3R5rtEkyHe/jM+ujFdqnb++L9hUsKKZv4sWJvAjB3S/5OnpH1zzgj/cjQY8pY2XP2V4vi/GcaQ/3jq4oU0Brz9Qsfq7KI61PwKsn0hBAbw/fVqoqSNPwT//RStSvKXEP/R6YmN/1cc/c0AaZzY8yj8znPiLVdrMP/2HkbEcmc8/7I7e00k00T/66DfAipvSPzlvrUA+8tM/wtZTSIUz1T9jCtY4m07WP8QcynEjPNc/URUy2z751z8a/cPx13/YPx7GQZXc2dg/hTaMxPwD2T+Mhikd7tvYP9fhAch9Kdg/dXkQjpvS1z/4x9aOPRbWP2EWf4BasdM/jLGfB2820T/ONhaYPgnNPwFc+8jO18g/vHDOJaijxT/9ZsXkyxPDP9fYqeJbEsE/9wuwbkB0vz9d1g6QeS6/P2t2zXkAasY/\",\"dtype\":\"float64\",\"shape\":[75]},\"y\":{\"__ndarray__\":\"GhExyth1ND/Sv8nbtpRIP2vylNV0PVE/aTum7souWD/At0SJ8fVgPw3Iuahxymc/MSNhhJWvcD/bTfBN02d3P2zb5nxnaoA/CD5h5MAGhz8NmeH1TyaQP+zrCsc9p5Y/LbKd76fGnz/bLW5ISEmmPww9YvTcQq8/JV2OstnstT8Er5Y7M8G+P0c+r3jqkcU/5h99k6ZBzj88bCIzFzjVP4enV8oyxN0//yH99nXg5D8qOpLLf0jtP5kqGJXUifQ/c9cS8kHP/D+/DpwzojQEQIEmwoanVwxA4lgXt9HgE0BSSZ2AJuIbQAMJih9jjiNA5q4l5INuK0AwTKYKRj0zQNv5fmq8/DpAaCJseHrtQkB/+zpwzoxKQM3MzMzMeFJAZmZmZmZqWEAAAAAAAFxeQM3MzMzMJmJAmpmZmZkfZUBmZmZmZhhoQDMzMzMzEWtAAAAAAAAKbkBmZmZmZoFwQM3MzMzM/XFAMzMzMzN6c0CamZmZmfZ0QAAAAAAAc3ZAZmZmZmbvd0DNzMzMzGt5QDMzMzMz6HpAmpmZmZlkfEAAAAAAAOF9QGZmZmZmXX9AZmZmZuZsgECamZmZGSuBQM3MzMxM6YFAAAAAAICngkAzMzMzs2WDQGZmZmbmI4RAmpmZmRnihEDNzMzMTKCFQAAAAACAXoZAMzMzM7Mch0BmZmZm5tqHQJqZmZkZmYhAzczMzExXiUAAAAAAgBWKQDMzMzOz04pAZmZmZuaRi0CamZmZGVCMQM3MzMxMDo1AAAAAAIDMjUAzMzMzs4qOQGZmZmbmSI9A\",\"dtype\":\"float64\",\"shape\":[75]}},\"selected\":{\"id\":\"b9b0b3dc-1eeb-4ee7-8a3f-55e31678cd79\",\"type\":\"Selection\"},\"selection_policy\":{\"id\":\"d9ebc637-aa45-4958-b32e-81025269d307\",\"type\":\"UnionRenderers\"}},\"id\":\"94aa47c7-3562-4756-a237-0ca6d8cb2d60\",\"type\":\"ColumnDataSource\"},{\"attributes\":{\"source\":{\"id\":\"a1896751-8b28-4be6-91ae-561169f5d2aa\",\"type\":\"ColumnDataSource\"}},\"id\":\"83e17cd7-d06e-4254-955f-80a2792755ae\",\"type\":\"CDSView\"},{\"attributes\":{\"source\":{\"id\":\"94aa47c7-3562-4756-a237-0ca6d8cb2d60\",\"type\":\"ColumnDataSource\"}},\"id\":\"ece27ff6-c5df-464c-a25f-b9a80b316137\",\"type\":\"CDSView\"},{\"attributes\":{\"data_source\":{\"id\":\"d078694a-ff77-4fd7-8d6f-5f2c57bd83d8\",\"type\":\"ColumnDataSource\"},\"glyph\":{\"id\":\"2bdb2311-d414-4342-9b50-c21906daf8c7\",\"type\":\"Square\"},\"hover_glyph\":null,\"muted_glyph\":null,\"nonselection_glyph\":{\"id\":\"506cc3b7-621d-4038-a2d4-8424cb9cfb4d\",\"type\":\"Square\"},\"selection_glyph\":null,\"view\":{\"id\":\"0432eeb5-aabb-47b6-a796-a746568a3cd4\",\"type\":\"CDSView\"}},\"id\":\"2b3d3683-9a8d-4f4c-94cb-12589d996385\",\"type\":\"GlyphRenderer\"},{\"attributes\":{\"fill_alpha\":{\"value\":0.7},\"fill_color\":{\"value\":\"#984ea3\"},\"line_alpha\":{\"value\":0.7},\"line_color\":{\"value\":\"#984ea3\"},\"x\":{\"field\":\"x\"},\"y\":{\"field\":\"y\"}},\"id\":\"2aa7a8b5-4d56-41ef-b2a5-956061b1cef2\",\"type\":\"Square\"},{\"attributes\":{\"data_source\":{\"id\":\"94aa47c7-3562-4756-a237-0ca6d8cb2d60\",\"type\":\"ColumnDataSource\"},\"glyph\":{\"id\":\"de25480b-cdf3-40c8-8c70-f9e523b774c5\",\"type\":\"Line\"},\"hover_glyph\":null,\"muted_glyph\":null,\"nonselection_glyph\":{\"id\":\"0c70686b-a0cc-4fe3-a88c-bd5225222405\",\"type\":\"Line\"},\"selection_glyph\":null,\"view\":{\"id\":\"ece27ff6-c5df-464c-a25f-b9a80b316137\",\"type\":\"CDSView\"}},\"id\":\"187b2556-0700-42db-bd20-3500c67d5abf\",\"type\":\"GlyphRenderer\"},{\"attributes\":{\"data_source\":{\"id\":\"a1896751-8b28-4be6-91ae-561169f5d2aa\",\"type\":\"ColumnDataSource\"},\"glyph\":{\"id\":\"c65f3739-1137-4f63-bc1b-1b958574e298\",\"type\":\"Circle\"},\"hover_glyph\":null,\"muted_glyph\":null,\"nonselection_glyph\":{\"id\":\"df48e2a5-9583-4a5a-9d28-f0bd61bbfcb6\",\"type\":\"Circle\"},\"selection_glyph\":null,\"view\":{\"id\":\"83e17cd7-d06e-4254-955f-80a2792755ae\",\"type\":\"CDSView\"}},\"id\":\"113bc44c-8078-437f-b282-5bcfb2f8dbd0\",\"type\":\"GlyphRenderer\"},{\"attributes\":{\"fill_alpha\":{\"value\":0.7},\"fill_color\":{\"value\":\"#984ea3\"},\"line_alpha\":{\"value\":0.7},\"line_color\":{\"value\":\"#984ea3\"},\"x\":{\"field\":\"x\"},\"y\":{\"field\":\"y\"}},\"id\":\"2bdb2311-d414-4342-9b50-c21906daf8c7\",\"type\":\"Square\"},{\"attributes\":{\"callback\":null,\"data\":{\"x\":{\"__ndarray__\":\"DUeAaCA11j9a0tVGCl/WP7hYtK0kQdc/Q5BB9pMU2D+jTd2u+tDYP0nPumfZatk/Yr0PD3rZ2T+7c5PeWAzaP/7hfCQE79k/lvncQ6Fp2T90zGApHlnYP4kV4k9cp9Y/lOH0BV8e1D/y9yA+j9XQPwDnQVEL688//bbtnOII0z+TkppNspvWP6S402vtnNg/yvDI7dG62T8T2Pc82pPbP1bwPjuePuA/F/smqDy15D/m8WpvppjlPynuV4X2/+I/9fMJTdBO4D/0Einu9NraPwyL1Q9/h9Y/MNCckv9L0z/fEgS47mDQP/DrVZ4fyso/MiY3aZ7MxD+Itb5pdrS+P99roKpW57U/5RAOSW+wrz+mZUsmDKKgPx3NBlq3gW+/BIkg4KbFnL8I3cBFcCGYvwCkT1cyoVS/WWnWQl5JjT8u1oG9066dP95bXqf7eqc/iT/MVkXVsD8feOzPlIm2P8DfN9eTbbw/nzug8AI6wT994d+x6VLEP+qdwCrNHMc/aW6mvgPuyD+Bcl/36wjLP5g7jnrjf80/751muyER0D9HQeiHrlfRP/OXca68f9I/QxvCKVqW0z9Z0MXwIp3UPxoLtzoIk9U/MInMvwpu1j88DDGHchzXP1xd697MoNc/5E6GNkL31z/0T3CxogbYPxQfwJ6Gmtc/+uyA64qZ1z8w0YMvCkrWP7B80JJLTNQ/C1RSabwb0j8b+KzGbQ/PPxzSyc6y2co/napS5UGbxz/aT0ox1QbFP5CNemc4DsM/VOQxf1zNwT/lFR0DkcnBP4u81Qg3eMg/\",\"dtype\":\"float64\",\"shape\":[75]},\"y\":{\"__ndarray__\":\"GhExyth1ND/Sv8nbtpRIP2vylNV0PVE/aTum7souWD/At0SJ8fVgPw3Iuahxymc/MSNhhJWvcD/bTfBN02d3P2zb5nxnaoA/CD5h5MAGhz8NmeH1TyaQP+zrCsc9p5Y/LbKd76fGnz/bLW5ISEmmPww9YvTcQq8/JV2OstnstT8Er5Y7M8G+P0c+r3jqkcU/5h99k6ZBzj88bCIzFzjVP4enV8oyxN0//yH99nXg5D8qOpLLf0jtP5kqGJXUifQ/c9cS8kHP/D+/DpwzojQEQIEmwoanVwxA4lgXt9HgE0BSSZ2AJuIbQAMJih9jjiNA5q4l5INuK0AwTKYKRj0zQNv5fmq8/DpAaCJseHrtQkB/+zpwzoxKQM3MzMzMeFJAZmZmZmZqWEAAAAAAAFxeQM3MzMzMJmJAmpmZmZkfZUBmZmZmZhhoQDMzMzMzEWtAAAAAAAAKbkBmZmZmZoFwQM3MzMzM/XFAMzMzMzN6c0CamZmZmfZ0QAAAAAAAc3ZAZmZmZmbvd0DNzMzMzGt5QDMzMzMz6HpAmpmZmZlkfEAAAAAAAOF9QGZmZmZmXX9AZmZmZuZsgECamZmZGSuBQM3MzMxM6YFAAAAAAICngkAzMzMzs2WDQGZmZmbmI4RAmpmZmRnihEDNzMzMTKCFQAAAAACAXoZAMzMzM7Mch0BmZmZm5tqHQJqZmZkZmYhAzczMzExXiUAAAAAAgBWKQDMzMzOz04pAZmZmZuaRi0CamZmZGVCMQM3MzMxMDo1AAAAAAIDMjUAzMzMzs4qOQGZmZmbmSI9A\",\"dtype\":\"float64\",\"shape\":[75]}},\"selected\":{\"id\":\"791ddf5c-e344-47f9-9992-e60a8805dd1c\",\"type\":\"Selection\"},\"selection_policy\":{\"id\":\"cc012fb2-1cf2-4a63-b9de-4295721b681f\",\"type\":\"UnionRenderers\"}},\"id\":\"a4aa3a8e-1e2c-4398-8006-07376854d2db\",\"type\":\"ColumnDataSource\"},{\"attributes\":{\"line_alpha\":0.1,\"line_color\":\"#1f77b4\",\"line_width\":1.5,\"x\":{\"field\":\"x\"},\"y\":{\"field\":\"y\"}},\"id\":\"0c70686b-a0cc-4fe3-a88c-bd5225222405\",\"type\":\"Line\"},{\"attributes\":{\"fill_alpha\":{\"value\":0.1},\"fill_color\":{\"value\":\"#1f77b4\"},\"line_alpha\":{\"value\":0.1},\"line_color\":{\"value\":\"#1f77b4\"},\"x\":{\"field\":\"x\"},\"y\":{\"field\":\"y\"}},\"id\":\"320a2139-b7e8-4109-8977-00eaea6b69b1\",\"type\":\"Circle\"},{\"attributes\":{\"callback\":null,\"data\":{\"x\":{\"__ndarray__\":\"lGEFjdMv2T8Z7pbDcjTZP5lH3VL3Fto/24nUrBrh2j82ilF8IYnbP1f2dq6c+9s/aD/vGcss3D9JGtRlzgbcP7nTCMOhc9s/pdpEuXZa2j9w6bkBdqDYP75Bg2Y6KNY/34k4IZ3P0j80AZbHYGbNP4dZHloarso/X96QBOl70D+v2i2wZJrUP1UJgSI3v9c/QnDHYVGN2j/5m9TAJA/eP+QXuQJl7uE//zKthw5l5j+i7kWsrIrmP2DVD6CVKuM/wEmJE05B4D9OsjgQUGnaP3yfiTQajtU/GxNBIMC30T+ErNmQoPTMP5/G/xXgWMc/QGR4iT12wj+2nqVUV3i8PwewAFp+VrU/tK4GZXBNrz81zHW/rzafP3R5rtEkyHe/jM+ujFdqnb++L9hUsKKZv4sWJvAjB3S/5OnpH1zzgj/cjQY8pY2XP2V4vi/GcaQ/3jq4oU0Brz9Qsfq7KI61PwKsn0hBAbw/fVqoqSNPwT//RStSvKXEP/R6YmN/1cc/c0AaZzY8yj8znPiLVdrMP/2HkbEcmc8/7I7e00k00T/66DfAipvSPzlvrUA+8tM/wtZTSIUz1T9jCtY4m07WP8QcynEjPNc/URUy2z751z8a/cPx13/YPx7GQZXc2dg/hTaMxPwD2T+Mhikd7tvYP9fhAch9Kdg/dXkQjpvS1z/4x9aOPRbWP2EWf4BasdM/jLGfB2820T/ONhaYPgnNPwFc+8jO18g/vHDOJaijxT/9ZsXkyxPDP9fYqeJbEsE/9wuwbkB0vz9d1g6QeS6/P2t2zXkAasY/\",\"dtype\":\"float64\",\"shape\":[75]},\"y\":{\"__ndarray__\":\"GhExyth1ND/Sv8nbtpRIP2vylNV0PVE/aTum7souWD/At0SJ8fVgPw3Iuahxymc/MSNhhJWvcD/bTfBN02d3P2zb5nxnaoA/CD5h5MAGhz8NmeH1TyaQP+zrCsc9p5Y/LbKd76fGnz/bLW5ISEmmPww9YvTcQq8/JV2OstnstT8Er5Y7M8G+P0c+r3jqkcU/5h99k6ZBzj88bCIzFzjVP4enV8oyxN0//yH99nXg5D8qOpLLf0jtP5kqGJXUifQ/c9cS8kHP/D+/DpwzojQEQIEmwoanVwxA4lgXt9HgE0BSSZ2AJuIbQAMJih9jjiNA5q4l5INuK0AwTKYKRj0zQNv5fmq8/DpAaCJseHrtQkB/+zpwzoxKQM3MzMzMeFJAZmZmZmZqWEAAAAAAAFxeQM3MzMzMJmJAmpmZmZkfZUBmZmZmZhhoQDMzMzMzEWtAAAAAAAAKbkBmZmZmZoFwQM3MzMzM/XFAMzMzMzN6c0CamZmZmfZ0QAAAAAAAc3ZAZmZmZmbvd0DNzMzMzGt5QDMzMzMz6HpAmpmZmZlkfEAAAAAAAOF9QGZmZmZmXX9AZmZmZuZsgECamZmZGSuBQM3MzMxM6YFAAAAAAICngkAzMzMzs2WDQGZmZmbmI4RAmpmZmRnihEDNzMzMTKCFQAAAAACAXoZAMzMzM7Mch0BmZmZm5tqHQJqZmZkZmYhAzczMzExXiUAAAAAAgBWKQDMzMzOz04pAZmZmZuaRi0CamZmZGVCMQM3MzMxMDo1AAAAAAIDMjUAzMzMzs4qOQGZmZmbmSI9A\",\"dtype\":\"float64\",\"shape\":[75]}},\"selected\":{\"id\":\"09a366f4-70bd-4cba-a072-fc0ac0a7b005\",\"type\":\"Selection\"},\"selection_policy\":{\"id\":\"e4273293-771b-4d84-8234-66c342c13525\",\"type\":\"UnionRenderers\"}},\"id\":\"5a6f97fa-0ccc-4d6e-b7d1-b1a0d431e5a7\",\"type\":\"ColumnDataSource\"},{\"attributes\":{},\"id\":\"76bb074c-baf5-4c42-a49d-d597cc4b7284\",\"type\":\"BasicTickFormatter\"},{\"attributes\":{\"fill_alpha\":{\"value\":0.1},\"fill_color\":{\"value\":\"#1f77b4\"},\"line_alpha\":{\"value\":0.1},\"line_color\":{\"value\":\"#1f77b4\"},\"x\":{\"field\":\"x\"},\"y\":{\"field\":\"y\"}},\"id\":\"df48e2a5-9583-4a5a-9d28-f0bd61bbfcb6\",\"type\":\"Circle\"},{\"attributes\":{\"children\":[{\"id\":\"2e326894-138d-4d61-b88d-05c02447915c\",\"subtype\":\"Figure\",\"type\":\"Plot\"},{\"id\":\"e1ca3e24-c98e-4fc8-92de-73810d581182\",\"subtype\":\"Figure\",\"type\":\"Plot\"}]},\"id\":\"8f4dfca2-08b0-4496-a798-dfa577afc39d\",\"type\":\"Row\"},{\"attributes\":{\"fill_alpha\":{\"value\":0.7},\"fill_color\":{\"value\":\"#4daf4a\"},\"line_alpha\":{\"value\":0.7},\"line_color\":{\"value\":\"#4daf4a\"},\"x\":{\"field\":\"x\"},\"y\":{\"field\":\"y\"}},\"id\":\"c65f3739-1137-4f63-bc1b-1b958574e298\",\"type\":\"Circle\"},{\"attributes\":{\"fill_alpha\":{\"value\":0.1},\"fill_color\":{\"value\":\"#1f77b4\"},\"line_alpha\":{\"value\":0.1},\"line_color\":{\"value\":\"#1f77b4\"},\"x\":{\"field\":\"x\"},\"y\":{\"field\":\"y\"}},\"id\":\"1432872b-f0e6-4c3f-9ec4-6815ee903a83\",\"type\":\"Square\"},{\"attributes\":{},\"id\":\"52ca243a-8079-4009-bded-c6c6ff628d4a\",\"type\":\"LogScale\"},{\"attributes\":{\"line_color\":\"#4daf4a\",\"line_width\":1.5,\"x\":{\"field\":\"x\"},\"y\":{\"field\":\"y\"}},\"id\":\"de25480b-cdf3-40c8-8c70-f9e523b774c5\",\"type\":\"Line\"},{\"attributes\":{\"dimension\":1,\"plot\":{\"id\":\"e1ca3e24-c98e-4fc8-92de-73810d581182\",\"subtype\":\"Figure\",\"type\":\"Plot\"},\"ticker\":{\"id\":\"65da2395-ae3c-495a-8e35-f90e1c06004b\",\"type\":\"LogTicker\"}},\"id\":\"4a75e03a-9127-444b-b291-08d3f1c28427\",\"type\":\"Grid\"},{\"attributes\":{\"data_source\":{\"id\":\"8d1833c2-b8fe-4cdb-84b9-b3ff5ea69551\",\"type\":\"ColumnDataSource\"},\"glyph\":{\"id\":\"2aa7a8b5-4d56-41ef-b2a5-956061b1cef2\",\"type\":\"Square\"},\"hover_glyph\":null,\"muted_glyph\":null,\"nonselection_glyph\":{\"id\":\"1432872b-f0e6-4c3f-9ec4-6815ee903a83\",\"type\":\"Square\"},\"selection_glyph\":null,\"view\":{\"id\":\"d4c2ce49-6bfc-4fb5-af57-20a30847f919\",\"type\":\"CDSView\"}},\"id\":\"01c47a76-e6f6-41ce-8a66-c57451223688\",\"type\":\"GlyphRenderer\"},{\"attributes\":{\"callback\":null,\"data\":{\"x\":{\"__ndarray__\":\"DUeAaCA11j9a0tVGCl/WP7hYtK0kQdc/Q5BB9pMU2D+jTd2u+tDYP0nPumfZatk/Yr0PD3rZ2T+7c5PeWAzaP/7hfCQE79k/lvncQ6Fp2T90zGApHlnYP4kV4k9cp9Y/lOH0BV8e1D/y9yA+j9XQPwDnQVEL688//bbtnOII0z+TkppNspvWP6S402vtnNg/yvDI7dG62T8T2Pc82pPbP1bwPjuePuA/F/smqDy15D/m8WpvppjlPynuV4X2/+I/9fMJTdBO4D/0Einu9NraPwyL1Q9/h9Y/MNCckv9L0z/fEgS47mDQP/DrVZ4fyso/MiY3aZ7MxD+Itb5pdrS+P99roKpW57U/5RAOSW+wrz+mZUsmDKKgPx3NBlq3gW+/BIkg4KbFnL8I3cBFcCGYvwCkT1cyoVS/WWnWQl5JjT8u1oG9066dP95bXqf7eqc/iT/MVkXVsD8feOzPlIm2P8DfN9eTbbw/nzug8AI6wT994d+x6VLEP+qdwCrNHMc/aW6mvgPuyD+Bcl/36wjLP5g7jnrjf80/751muyER0D9HQeiHrlfRP/OXca68f9I/QxvCKVqW0z9Z0MXwIp3UPxoLtzoIk9U/MInMvwpu1j88DDGHchzXP1xd697MoNc/5E6GNkL31z/0T3CxogbYPxQfwJ6Gmtc/+uyA64qZ1z8w0YMvCkrWP7B80JJLTNQ/C1RSabwb0j8b+KzGbQ/PPxzSyc6y2co/napS5UGbxz/aT0ox1QbFP5CNemc4DsM/VOQxf1zNwT/lFR0DkcnBP4u81Qg3eMg/\",\"dtype\":\"float64\",\"shape\":[75]},\"y\":{\"__ndarray__\":\"GhExyth1ND/Sv8nbtpRIP2vylNV0PVE/aTum7souWD/At0SJ8fVgPw3Iuahxymc/MSNhhJWvcD/bTfBN02d3P2zb5nxnaoA/CD5h5MAGhz8NmeH1TyaQP+zrCsc9p5Y/LbKd76fGnz/bLW5ISEmmPww9YvTcQq8/JV2OstnstT8Er5Y7M8G+P0c+r3jqkcU/5h99k6ZBzj88bCIzFzjVP4enV8oyxN0//yH99nXg5D8qOpLLf0jtP5kqGJXUifQ/c9cS8kHP/D+/DpwzojQEQIEmwoanVwxA4lgXt9HgE0BSSZ2AJuIbQAMJih9jjiNA5q4l5INuK0AwTKYKRj0zQNv5fmq8/DpAaCJseHrtQkB/+zpwzoxKQM3MzMzMeFJAZmZmZmZqWEAAAAAAAFxeQM3MzMzMJmJAmpmZmZkfZUBmZmZmZhhoQDMzMzMzEWtAAAAAAAAKbkBmZmZmZoFwQM3MzMzM/XFAMzMzMzN6c0CamZmZmfZ0QAAAAAAAc3ZAZmZmZmbvd0DNzMzMzGt5QDMzMzMz6HpAmpmZmZlkfEAAAAAAAOF9QGZmZmZmXX9AZmZmZuZsgECamZmZGSuBQM3MzMxM6YFAAAAAAICngkAzMzMzs2WDQGZmZmbmI4RAmpmZmRnihEDNzMzMTKCFQAAAAACAXoZAMzMzM7Mch0BmZmZm5tqHQJqZmZkZmYhAzczMzExXiUAAAAAAgBWKQDMzMzOz04pAZmZmZuaRi0CamZmZGVCMQM3MzMxMDo1AAAAAAIDMjUAzMzMzs4qOQGZmZmbmSI9A\",\"dtype\":\"float64\",\"shape\":[75]}},\"selected\":{\"id\":\"5d415e93-f2e8-45b1-ab21-bf9b74e38ccd\",\"type\":\"Selection\"},\"selection_policy\":{\"id\":\"f893b6e0-74a0-4d7f-b745-edfdce586a2b\",\"type\":\"UnionRenderers\"}},\"id\":\"8d1833c2-b8fe-4cdb-84b9-b3ff5ea69551\",\"type\":\"ColumnDataSource\"},{\"attributes\":{\"children\":[{\"id\":\"8f4dfca2-08b0-4496-a798-dfa577afc39d\",\"type\":\"Row\"}]},\"id\":\"da0fb9c4-7c27-4a92-8757-e872ab3f5a8e\",\"type\":\"Column\"},{\"attributes\":{\"data_source\":{\"id\":\"5a6f97fa-0ccc-4d6e-b7d1-b1a0d431e5a7\",\"type\":\"ColumnDataSource\"},\"glyph\":{\"id\":\"4f0ca931-c667-417b-99f4-8f82d1e340f0\",\"type\":\"Line\"},\"hover_glyph\":null,\"muted_glyph\":null,\"nonselection_glyph\":{\"id\":\"c643f392-51dd-4610-87f1-d45bdaf65a98\",\"type\":\"Line\"},\"selection_glyph\":null,\"view\":{\"id\":\"6f018dd4-d71a-454e-ab3d-6f75db26125d\",\"type\":\"CDSView\"}},\"id\":\"1f1976de-0e91-4374-949a-52d1f917984f\",\"type\":\"GlyphRenderer\"},{\"attributes\":{\"plot\":null,\"text\":\"Log pressure scale\"},\"id\":\"9ec64fd8-e449-4672-9bbe-7e35856addc5\",\"type\":\"Title\"},{\"attributes\":{\"line_alpha\":0.1,\"line_color\":\"#1f77b4\",\"line_width\":3,\"x\":{\"field\":\"x\"},\"y\":{\"field\":\"y\"}},\"id\":\"bbb2230d-a348-4e5d-9785-f1a931cd2f93\",\"type\":\"Line\"},{\"attributes\":{\"label\":{\"value\":\"CLIRAD `coolr_bands`\"},\"renderers\":[{\"id\":\"da01b2b4-957a-47db-befc-59d327d0edf9\",\"type\":\"GlyphRenderer\"}]},\"id\":\"e69dd39f-e3f1-4f38-9c2e-db82d93fbf92\",\"type\":\"LegendItem\"},{\"attributes\":{\"data_source\":{\"id\":\"a4aa3a8e-1e2c-4398-8006-07376854d2db\",\"type\":\"ColumnDataSource\"},\"glyph\":{\"id\":\"b97fd033-a67e-415d-9c06-dff34daad696\",\"type\":\"Line\"},\"hover_glyph\":null,\"muted_glyph\":null,\"nonselection_glyph\":{\"id\":\"bbb2230d-a348-4e5d-9785-f1a931cd2f93\",\"type\":\"Line\"},\"selection_glyph\":null,\"view\":{\"id\":\"4a18f1fb-bdc6-41fe-8195-da5773281f48\",\"type\":\"CDSView\"}},\"id\":\"0a21fb4b-77a2-41ca-8d62-bfe26ee003cd\",\"type\":\"GlyphRenderer\"},{\"attributes\":{\"source\":{\"id\":\"d078694a-ff77-4fd7-8d6f-5f2c57bd83d8\",\"type\":\"ColumnDataSource\"}},\"id\":\"0432eeb5-aabb-47b6-a796-a746568a3cd4\",\"type\":\"CDSView\"},{\"attributes\":{},\"id\":\"73d2c5b7-af3a-4782-91d5-6e836ae6720b\",\"type\":\"Selection\"},{\"attributes\":{\"label\":{\"value\":\"CRD\"},\"renderers\":[{\"id\":\"113bc44c-8078-437f-b282-5bcfb2f8dbd0\",\"type\":\"GlyphRenderer\"},{\"id\":\"187b2556-0700-42db-bd20-3500c67d5abf\",\"type\":\"GlyphRenderer\"}]},\"id\":\"c867c795-23fd-41b8-a600-9af5bbf2faa7\",\"type\":\"LegendItem\"},{\"attributes\":{},\"id\":\"cc012fb2-1cf2-4a63-b9de-4295721b681f\",\"type\":\"UnionRenderers\"},{\"attributes\":{\"label\":{\"value\":\"WGT igg=10 wgt_flux=2\"},\"renderers\":[{\"id\":\"01c47a76-e6f6-41ce-8a66-c57451223688\",\"type\":\"GlyphRenderer\"},{\"id\":\"299552ab-2869-45ae-a346-fd545dcd28dc\",\"type\":\"GlyphRenderer\"}]},\"id\":\"e0585316-7a7a-4f86-906e-4efd3aeb1ca4\",\"type\":\"LegendItem\"},{\"attributes\":{},\"id\":\"e12e2fcb-9119-449a-9c43-b0f06f99dfc2\",\"type\":\"Selection\"},{\"attributes\":{},\"id\":\"8e7dc67c-66bc-4f99-88c9-893512eaf8be\",\"type\":\"UnionRenderers\"},{\"attributes\":{},\"id\":\"a95fb859-bcbc-4ddc-ac6d-eb7140dcb700\",\"type\":\"Selection\"},{\"attributes\":{\"callback\":null,\"data\":{\"x\":{\"__ndarray__\":\"DUeAaCA11j9a0tVGCl/WP7hYtK0kQdc/Q5BB9pMU2D+jTd2u+tDYP0nPumfZatk/Yr0PD3rZ2T+7c5PeWAzaP/7hfCQE79k/lvncQ6Fp2T90zGApHlnYP4kV4k9cp9Y/lOH0BV8e1D/y9yA+j9XQPwDnQVEL688//bbtnOII0z+TkppNspvWP6S402vtnNg/yvDI7dG62T8T2Pc82pPbP1bwPjuePuA/F/smqDy15D/m8WpvppjlPynuV4X2/+I/9fMJTdBO4D/0Einu9NraPwyL1Q9/h9Y/MNCckv9L0z/fEgS47mDQP/DrVZ4fyso/MiY3aZ7MxD+Itb5pdrS+P99roKpW57U/5RAOSW+wrz+mZUsmDKKgPx3NBlq3gW+/BIkg4KbFnL8I3cBFcCGYvwCkT1cyoVS/WWnWQl5JjT8u1oG9066dP95bXqf7eqc/iT/MVkXVsD8feOzPlIm2P8DfN9eTbbw/nzug8AI6wT994d+x6VLEP+qdwCrNHMc/aW6mvgPuyD+Bcl/36wjLP5g7jnrjf80/751muyER0D9HQeiHrlfRP/OXca68f9I/QxvCKVqW0z9Z0MXwIp3UPxoLtzoIk9U/MInMvwpu1j88DDGHchzXP1xd697MoNc/5E6GNkL31z/0T3CxogbYPxQfwJ6Gmtc/+uyA64qZ1z8w0YMvCkrWP7B80JJLTNQ/C1RSabwb0j8b+KzGbQ/PPxzSyc6y2co/napS5UGbxz/aT0ox1QbFP5CNemc4DsM/VOQxf1zNwT/lFR0DkcnBP4u81Qg3eMg/\",\"dtype\":\"float64\",\"shape\":[75]},\"y\":{\"__ndarray__\":\"GhExyth1ND/Sv8nbtpRIP2vylNV0PVE/aTum7souWD/At0SJ8fVgPw3Iuahxymc/MSNhhJWvcD/bTfBN02d3P2zb5nxnaoA/CD5h5MAGhz8NmeH1TyaQP+zrCsc9p5Y/LbKd76fGnz/bLW5ISEmmPww9YvTcQq8/JV2OstnstT8Er5Y7M8G+P0c+r3jqkcU/5h99k6ZBzj88bCIzFzjVP4enV8oyxN0//yH99nXg5D8qOpLLf0jtP5kqGJXUifQ/c9cS8kHP/D+/DpwzojQEQIEmwoanVwxA4lgXt9HgE0BSSZ2AJuIbQAMJih9jjiNA5q4l5INuK0AwTKYKRj0zQNv5fmq8/DpAaCJseHrtQkB/+zpwzoxKQM3MzMzMeFJAZmZmZmZqWEAAAAAAAFxeQM3MzMzMJmJAmpmZmZkfZUBmZmZmZhhoQDMzMzMzEWtAAAAAAAAKbkBmZmZmZoFwQM3MzMzM/XFAMzMzMzN6c0CamZmZmfZ0QAAAAAAAc3ZAZmZmZmbvd0DNzMzMzGt5QDMzMzMz6HpAmpmZmZlkfEAAAAAAAOF9QGZmZmZmXX9AZmZmZuZsgECamZmZGSuBQM3MzMxM6YFAAAAAAICngkAzMzMzs2WDQGZmZmbmI4RAmpmZmRnihEDNzMzMTKCFQAAAAACAXoZAMzMzM7Mch0BmZmZm5tqHQJqZmZkZmYhAzczMzExXiUAAAAAAgBWKQDMzMzOz04pAZmZmZuaRi0CamZmZGVCMQM3MzMxMDo1AAAAAAIDMjUAzMzMzs4qOQGZmZmbmSI9A\",\"dtype\":\"float64\",\"shape\":[75]}},\"selected\":{\"id\":\"6344d918-6d03-4864-afce-758c5ce639e0\",\"type\":\"Selection\"},\"selection_policy\":{\"id\":\"4a740471-11d4-4ab3-904b-1ed50b0a9ad3\",\"type\":\"UnionRenderers\"}},\"id\":\"d078694a-ff77-4fd7-8d6f-5f2c57bd83d8\",\"type\":\"ColumnDataSource\"},{\"attributes\":{},\"id\":\"791ddf5c-e344-47f9-9992-e60a8805dd1c\",\"type\":\"Selection\"},{\"attributes\":{},\"id\":\"21bb0977-4ad9-4350-afc7-2bc583868e92\",\"type\":\"UnionRenderers\"},{\"attributes\":{\"fill_alpha\":{\"value\":0.1},\"fill_color\":{\"value\":\"#1f77b4\"},\"line_alpha\":{\"value\":0.1},\"line_color\":{\"value\":\"#1f77b4\"},\"x\":{\"field\":\"x\"},\"y\":{\"field\":\"y\"}},\"id\":\"506cc3b7-621d-4038-a2d4-8424cb9cfb4d\",\"type\":\"Square\"},{\"attributes\":{},\"id\":\"e4273293-771b-4d84-8234-66c342c13525\",\"type\":\"UnionRenderers\"},{\"attributes\":{},\"id\":\"09a366f4-70bd-4cba-a072-fc0ac0a7b005\",\"type\":\"Selection\"},{\"attributes\":{\"source\":{\"id\":\"5a6f97fa-0ccc-4d6e-b7d1-b1a0d431e5a7\",\"type\":\"ColumnDataSource\"}},\"id\":\"6f018dd4-d71a-454e-ab3d-6f75db26125d\",\"type\":\"CDSView\"},{\"attributes\":{\"active_drag\":\"auto\",\"active_inspect\":\"auto\",\"active_scroll\":\"auto\",\"active_tap\":\"auto\",\"tools\":[{\"id\":\"98f31209-6d95-40ee-b48b-c331fcb4b08d\",\"type\":\"PanTool\"},{\"id\":\"15e592ea-6a4e-488c-9218-d2e0ffe99946\",\"type\":\"WheelZoomTool\"},{\"id\":\"272af9cc-2c5f-405c-8e77-1e455c630433\",\"type\":\"BoxZoomTool\"},{\"id\":\"9b285de2-e9b0-4508-a9bb-6a007d3aa2e4\",\"type\":\"SaveTool\"},{\"id\":\"643965b8-76af-4ee1-bd86-a961304f64cc\",\"type\":\"ResetTool\"},{\"id\":\"4ffc8220-80d1-45c9-99aa-49d084d73bbe\",\"type\":\"HelpTool\"}]},\"id\":\"3ff40625-6fa3-48e3-ab43-68d62094535a\",\"type\":\"Toolbar\"},{\"attributes\":{},\"id\":\"4a740471-11d4-4ab3-904b-1ed50b0a9ad3\",\"type\":\"UnionRenderers\"},{\"attributes\":{\"source\":{\"id\":\"a4aa3a8e-1e2c-4398-8006-07376854d2db\",\"type\":\"ColumnDataSource\"}},\"id\":\"4a18f1fb-bdc6-41fe-8195-da5773281f48\",\"type\":\"CDSView\"},{\"attributes\":{},\"id\":\"6344d918-6d03-4864-afce-758c5ce639e0\",\"type\":\"Selection\"},{\"attributes\":{\"items\":[{\"id\":\"e69dd39f-e3f1-4f38-9c2e-db82d93fbf92\",\"type\":\"LegendItem\"},{\"id\":\"c867c795-23fd-41b8-a600-9af5bbf2faa7\",\"type\":\"LegendItem\"},{\"id\":\"e0585316-7a7a-4f86-906e-4efd3aeb1ca4\",\"type\":\"LegendItem\"}],\"label_text_font_size\":{\"value\":\"8pt\"},\"location\":[10,-30],\"plot\":{\"id\":\"e1ca3e24-c98e-4fc8-92de-73810d581182\",\"subtype\":\"Figure\",\"type\":\"Plot\"}},\"id\":\"c095a1d9-713d-4bc0-a407-c7898f5c58a8\",\"type\":\"Legend\"},{\"attributes\":{\"source\":{\"id\":\"a06782ef-b487-4ac3-bbf9-2f881f226a64\",\"type\":\"ColumnDataSource\"}},\"id\":\"84712b34-1e44-47e8-bcb9-c786ca2ad05e\",\"type\":\"CDSView\"},{\"attributes\":{},\"id\":\"85709038-4c7d-4fac-9906-a8a8caa7999b\",\"type\":\"UnionRenderers\"},{\"attributes\":{\"axis_label\":\"cooling rate [K/day]\",\"formatter\":{\"id\":\"413aa2a9-c253-4628-a237-ed16f1f83f44\",\"type\":\"BasicTickFormatter\"},\"plot\":{\"id\":\"e1ca3e24-c98e-4fc8-92de-73810d581182\",\"subtype\":\"Figure\",\"type\":\"Plot\"},\"ticker\":{\"id\":\"72019769-0a67-4530-93f6-965951b7ed39\",\"type\":\"BasicTicker\"}},\"id\":\"1be730d1-5b0f-4b1b-a7aa-ace2024faafe\",\"type\":\"LinearAxis\"},{\"attributes\":{},\"id\":\"28dbbb11-4cfc-48b4-9e19-bf50453eb225\",\"type\":\"UnionRenderers\"},{\"attributes\":{\"ticker\":null},\"id\":\"57b8f001-c39e-4bdf-922c-4cc698c8e730\",\"type\":\"LogTickFormatter\"},{\"attributes\":{},\"id\":\"413aa2a9-c253-4628-a237-ed16f1f83f44\",\"type\":\"BasicTickFormatter\"},{\"attributes\":{\"callback\":null,\"end\":0.7117595801500001,\"start\":-0.036057515150000004},\"id\":\"cee07659-c0e5-43df-8a1e-e653b87e3a0f\",\"type\":\"Range1d\"},{\"attributes\":{},\"id\":\"558b91aa-4a01-4c20-991b-78745ee152d3\",\"type\":\"Selection\"},{\"attributes\":{\"line_alpha\":0.6,\"line_color\":\"#984ea3\",\"line_width\":3,\"x\":{\"field\":\"x\"},\"y\":{\"field\":\"y\"}},\"id\":\"b97fd033-a67e-415d-9c06-dff34daad696\",\"type\":\"Line\"},{\"attributes\":{},\"id\":\"fbaa089c-72c1-463e-b1ec-2cb807e58796\",\"type\":\"UnionRenderers\"},{\"attributes\":{},\"id\":\"56cc0a47-f85e-44f2-a146-10fdf0edcf0a\",\"type\":\"Selection\"},{\"attributes\":{},\"id\":\"d9ebc637-aa45-4958-b32e-81025269d307\",\"type\":\"UnionRenderers\"},{\"attributes\":{},\"id\":\"d3e152d8-7033-48f0-b86b-71c872cfa1bf\",\"type\":\"LinearScale\"},{\"attributes\":{\"fill_alpha\":{\"value\":0.7},\"fill_color\":{\"value\":\"#4daf4a\"},\"line_alpha\":{\"value\":0.7},\"line_color\":{\"value\":\"#4daf4a\"},\"x\":{\"field\":\"x\"},\"y\":{\"field\":\"y\"}},\"id\":\"b3b1d18b-95cc-4767-ba8d-f079908c9b75\",\"type\":\"Circle\"},{\"attributes\":{},\"id\":\"b9b0b3dc-1eeb-4ee7-8a3f-55e31678cd79\",\"type\":\"Selection\"},{\"attributes\":{},\"id\":\"f893b6e0-74a0-4d7f-b745-edfdce586a2b\",\"type\":\"UnionRenderers\"},{\"attributes\":{\"data_source\":{\"id\":\"a06782ef-b487-4ac3-bbf9-2f881f226a64\",\"type\":\"ColumnDataSource\"},\"glyph\":{\"id\":\"b3b1d18b-95cc-4767-ba8d-f079908c9b75\",\"type\":\"Circle\"},\"hover_glyph\":null,\"muted_glyph\":null,\"nonselection_glyph\":{\"id\":\"320a2139-b7e8-4109-8977-00eaea6b69b1\",\"type\":\"Circle\"},\"selection_glyph\":null,\"view\":{\"id\":\"84712b34-1e44-47e8-bcb9-c786ca2ad05e\",\"type\":\"CDSView\"}},\"id\":\"fbe8c44f-9c1d-4d19-abbe-ec44049fe3ee\",\"type\":\"GlyphRenderer\"},{\"attributes\":{},\"id\":\"5d415e93-f2e8-45b1-ab21-bf9b74e38ccd\",\"type\":\"Selection\"},{\"attributes\":{\"children\":[{\"id\":\"f027a2aa-7301-4c48-bb25-0307430f0405\",\"type\":\"ToolbarBox\"},{\"id\":\"da0fb9c4-7c27-4a92-8757-e872ab3f5a8e\",\"type\":\"Column\"}]},\"id\":\"f5043378-c8cc-414d-9ef0-be7d2f0054ce\",\"type\":\"Column\"},{\"attributes\":{\"tools\":[{\"id\":\"4687abf2-4a11-482b-8f19-6de275f63cae\",\"type\":\"PanTool\"},{\"id\":\"ef59efe7-9985-4fac-b418-b2bf02de0386\",\"type\":\"WheelZoomTool\"},{\"id\":\"72b70713-171c-4111-a723-34c7c4f479fd\",\"type\":\"BoxZoomTool\"},{\"id\":\"f5dd8995-33f7-4650-b4ad-5ba97a7e693d\",\"type\":\"SaveTool\"},{\"id\":\"89c56943-7435-473b-978d-b7b5d67cb509\",\"type\":\"ResetTool\"},{\"id\":\"9c38caac-096b-4c4f-af54-bbfe36678f55\",\"type\":\"HelpTool\"},{\"id\":\"98f31209-6d95-40ee-b48b-c331fcb4b08d\",\"type\":\"PanTool\"},{\"id\":\"15e592ea-6a4e-488c-9218-d2e0ffe99946\",\"type\":\"WheelZoomTool\"},{\"id\":\"272af9cc-2c5f-405c-8e77-1e455c630433\",\"type\":\"BoxZoomTool\"},{\"id\":\"9b285de2-e9b0-4508-a9bb-6a007d3aa2e4\",\"type\":\"SaveTool\"},{\"id\":\"643965b8-76af-4ee1-bd86-a961304f64cc\",\"type\":\"ResetTool\"},{\"id\":\"4ffc8220-80d1-45c9-99aa-49d084d73bbe\",\"type\":\"HelpTool\"}]},\"id\":\"bb5bc8cd-4d7b-4545-8cfa-fc3a0d40f850\",\"type\":\"ProxyToolbar\"},{\"attributes\":{\"toolbar\":{\"id\":\"bb5bc8cd-4d7b-4545-8cfa-fc3a0d40f850\",\"type\":\"ProxyToolbar\"},\"toolbar_location\":\"above\"},\"id\":\"f027a2aa-7301-4c48-bb25-0307430f0405\",\"type\":\"ToolbarBox\"},{\"attributes\":{\"callback\":null,\"data\":{\"x\":{\"__ndarray__\":\"Cr0fMyca0D9x6dKeFmzQP1ZtcWzBO9E/eOgehhQL0j/z1BucJdTSP1FTBYKEkdM/o+F7HFk71D9BQOcDPMjUP4dl+dsaKNU/SyiWvoRI1T8Gqeu76AzVP581oiiOS9Q/GGriV4vT0j/6fPc70qjQPwVtMNzSjdA/fd3xP1zm0z8X+CdEAn7XPx/YM3zyDdk/WTth9KIX2T8MWf74IszZPzfKE2tlQN4/AOPXFyLK4z8ZuBNXWxLlP95AP1sgxOI/60OLKssp4D8reJ8dT4/aP8s/4Ymsd9Y/VPs6kdxx0z90Ka4q+67QPxYRKA/JGMs/kyAa5bK0xD+mozVpx8u9P5hzHIQoe7Q/h5ZROeG2rD8mO/TlHnWePxe4e4PveW6/3/cj0Fbhm7+55Unwi+2Xv/vOXTmcLGa/hbLhyoj0hz/mr4sAeT+aP2dy3r2rN6U/6lSe5R63rj/DsVft1Lu0P1RWT72gS7o/39wEhHsKwD+Jj5lV6TjDPx4lRDMuIMY/BLUQywPkxz/Km+w0DP7JP1lyTzZpw8w/bL8IXE/bzz/v1Z7ErWPRPzTkK8OwqtI/hdjT7XDk0z9kmI97JRbVPz3LuTVlPtY/i9VRm1lH1z9aPS8uuBPYP213i5fZrdg/vhra310X2T8Fw5h4MDfZP/OhNGmN4Ng/ktbO5icL2T8cI9kj1MzXPxJtZKqisNU/5DJuaqA50z9JxoOQoDbQPyFh7zCzcMs/kXKk8ROgxz8zShs3yrTEP9YruGEMk8I/YlEJNktVwT/nT8Abd2/BPyq4q5mtI8g/\",\"dtype\":\"float64\",\"shape\":[75]},\"y\":{\"__ndarray__\":\"S/O/Q+51ND/Sv8nbtpRIP2vylNV0PVE/aTum7souWD/At0SJ8fVgPw3Iuahxymc/MSNhhJWvcD/bTfBN02d3P2zb5nxnaoA/CD5h5MAGhz8NmeH1TyaQP+zrCsc9p5Y/LbKd76fGnz/bLW5ISEmmPww9YvTcQq8/JV2OstnstT8Er5Y7M8G+P0c+r3jqkcU/5h99k6ZBzj88bCIzFzjVP4enV8oyxN0//yH99nXg5D8qOpLLf0jtP5kqGJXUifQ/c9cS8kHP/D+/DpwzojQEQIEmwoanVwxA4lgXt9HgE0BSSZ2AJuIbQAMJih9jjiNA5q4l5INuK0AwTKYKRj0zQNv5fmq8/DpAaCJseHrtQkB/+zpwzoxKQM3MzMzMeFJAZmZmZmZqWEAAAAAAAFxeQM3MzMzMJmJAmpmZmZkfZUBmZmZmZhhoQDMzMzMzEWtAAAAAAAAKbkBmZmZmZoFwQM3MzMzM/XFAMzMzMzN6c0CamZmZmfZ0QAAAAAAAc3ZAZmZmZmbvd0DNzMzMzGt5QDMzMzMz6HpAmpmZmZlkfEAAAAAAAOF9QGZmZmZmXX9AZmZmZuZsgECamZmZGSuBQM3MzMxM6YFAAAAAAICngkAzMzMzs2WDQGZmZmbmI4RAmpmZmRnihEDNzMzMTKCFQAAAAACAXoZAMzMzM7Mch0BmZmZm5tqHQJqZmZkZmYhAzczMzExXiUAAAAAAgBWKQDMzMzOz04pAZmZmZuaRi0CamZmZGVCMQM3MzMxMDo1AAAAAAIDMjUAzMzMzs4qOQGZmZmbmSI9A\",\"dtype\":\"float64\",\"shape\":[75]}},\"selected\":{\"id\":\"73d2c5b7-af3a-4782-91d5-6e836ae6720b\",\"type\":\"Selection\"},\"selection_policy\":{\"id\":\"85709038-4c7d-4fac-9906-a8a8caa7999b\",\"type\":\"UnionRenderers\"}},\"id\":\"7f0109dc-a9b2-4324-8b86-1025e6f6e35b\",\"type\":\"ColumnDataSource\"},{\"attributes\":{\"line_alpha\":0.1,\"line_color\":\"#1f77b4\",\"line_width\":1.5,\"x\":{\"field\":\"x\"},\"y\":{\"field\":\"y\"}},\"id\":\"c643f392-51dd-4610-87f1-d45bdaf65a98\",\"type\":\"Line\"},{\"attributes\":{\"callback\":null,\"end\":0.01,\"start\":1020},\"id\":\"ee71219f-7ca6-4654-9a66-342cf4b20c44\",\"type\":\"Range1d\"},{\"attributes\":{\"line_alpha\":0.6,\"line_color\":\"#e41a1c\",\"line_dash\":[6],\"line_width\":5,\"x\":{\"field\":\"x\"},\"y\":{\"field\":\"y\"}},\"id\":\"001745aa-4db4-44d0-baf3-45747369494b\",\"type\":\"Line\"},{\"attributes\":{\"line_color\":\"#4daf4a\",\"line_width\":1.5,\"x\":{\"field\":\"x\"},\"y\":{\"field\":\"y\"}},\"id\":\"4f0ca931-c667-417b-99f4-8f82d1e340f0\",\"type\":\"Line\"},{\"attributes\":{\"plot\":{\"id\":\"e1ca3e24-c98e-4fc8-92de-73810d581182\",\"subtype\":\"Figure\",\"type\":\"Plot\"},\"ticker\":{\"id\":\"72019769-0a67-4530-93f6-965951b7ed39\",\"type\":\"BasicTicker\"}},\"id\":\"7a8a794f-2f55-4e76-a595-ee6f1f661a1a\",\"type\":\"Grid\"},{\"attributes\":{},\"id\":\"06bab798-f3e2-4e79-b1ad-c3d3c2a2aa52\",\"type\":\"BasicTicker\"},{\"attributes\":{\"dimension\":1,\"plot\":{\"id\":\"2e326894-138d-4d61-b88d-05c02447915c\",\"subtype\":\"Figure\",\"type\":\"Plot\"},\"ticker\":{\"id\":\"4fb902d9-d725-4608-8217-4ff396e3879a\",\"type\":\"BasicTicker\"}},\"id\":\"71057e4f-21a7-459f-959e-2f75638dbc4c\",\"type\":\"Grid\"},{\"attributes\":{},\"id\":\"72019769-0a67-4530-93f6-965951b7ed39\",\"type\":\"BasicTicker\"},{\"attributes\":{\"bottom_units\":\"screen\",\"fill_alpha\":{\"value\":0.5},\"fill_color\":{\"value\":\"lightgrey\"},\"left_units\":\"screen\",\"level\":\"overlay\",\"line_alpha\":{\"value\":1.0},\"line_color\":{\"value\":\"black\"},\"line_dash\":[4,4],\"line_width\":{\"value\":2},\"plot\":null,\"render_mode\":\"css\",\"right_units\":\"screen\",\"top_units\":\"screen\"},\"id\":\"0c2c2ef5-4007-4aba-8155-bad146023763\",\"type\":\"BoxAnnotation\"},{\"attributes\":{\"axis_label\":\"pressure [mb]\",\"formatter\":{\"id\":\"57b8f001-c39e-4bdf-922c-4cc698c8e730\",\"type\":\"LogTickFormatter\"},\"plot\":{\"id\":\"e1ca3e24-c98e-4fc8-92de-73810d581182\",\"subtype\":\"Figure\",\"type\":\"Plot\"},\"ticker\":{\"id\":\"65da2395-ae3c-495a-8e35-f90e1c06004b\",\"type\":\"LogTicker\"}},\"id\":\"5fccbd1f-dced-4f53-a37a-cfb63b465b34\",\"type\":\"LogAxis\"},{\"attributes\":{\"data_source\":{\"id\":\"4fda2831-5e0c-48b9-90db-d11d6ab39d5b\",\"type\":\"ColumnDataSource\"},\"glyph\":{\"id\":\"810339f1-2db5-4530-a665-aedc369b41e9\",\"type\":\"Line\"},\"hover_glyph\":null,\"muted_glyph\":null,\"nonselection_glyph\":{\"id\":\"0d610362-1490-45df-bb91-9edda11ce119\",\"type\":\"Line\"},\"selection_glyph\":null,\"view\":{\"id\":\"a9abd786-7f47-4eb0-b28f-f49a1f126c09\",\"type\":\"CDSView\"}},\"id\":\"299552ab-2869-45ae-a346-fd545dcd28dc\",\"type\":\"GlyphRenderer\"},{\"attributes\":{},\"id\":\"f5dd8995-33f7-4650-b4ad-5ba97a7e693d\",\"type\":\"SaveTool\"},{\"attributes\":{\"num_minor_ticks\":10},\"id\":\"65da2395-ae3c-495a-8e35-f90e1c06004b\",\"type\":\"LogTicker\"},{\"attributes\":{\"bottom_units\":\"screen\",\"fill_alpha\":{\"value\":0.5},\"fill_color\":{\"value\":\"lightgrey\"},\"left_units\":\"screen\",\"level\":\"overlay\",\"line_alpha\":{\"value\":1.0},\"line_color\":{\"value\":\"black\"},\"line_dash\":[4,4],\"line_width\":{\"value\":2},\"plot\":null,\"render_mode\":\"css\",\"right_units\":\"screen\",\"top_units\":\"screen\"},\"id\":\"5e147364-c77e-44eb-8f9f-b898efd6032a\",\"type\":\"BoxAnnotation\"},{\"attributes\":{\"callback\":null,\"data\":{\"x\":{\"__ndarray__\":\"lGEFjdMv2T8Z7pbDcjTZP5lH3VL3Fto/24nUrBrh2j82ilF8IYnbP1f2dq6c+9s/aD/vGcss3D9JGtRlzgbcP7nTCMOhc9s/pdpEuXZa2j9w6bkBdqDYP75Bg2Y6KNY/34k4IZ3P0j80AZbHYGbNP4dZHloarso/X96QBOl70D+v2i2wZJrUP1UJgSI3v9c/QnDHYVGN2j/5m9TAJA/eP+QXuQJl7uE//zKthw5l5j+i7kWsrIrmP2DVD6CVKuM/wEmJE05B4D9OsjgQUGnaP3yfiTQajtU/GxNBIMC30T+ErNmQoPTMP5/G/xXgWMc/QGR4iT12wj+2nqVUV3i8PwewAFp+VrU/tK4GZXBNrz81zHW/rzafP3R5rtEkyHe/jM+ujFdqnb++L9hUsKKZv4sWJvAjB3S/5OnpH1zzgj/cjQY8pY2XP2V4vi/GcaQ/3jq4oU0Brz9Qsfq7KI61PwKsn0hBAbw/fVqoqSNPwT//RStSvKXEP/R6YmN/1cc/c0AaZzY8yj8znPiLVdrMP/2HkbEcmc8/7I7e00k00T/66DfAipvSPzlvrUA+8tM/wtZTSIUz1T9jCtY4m07WP8QcynEjPNc/URUy2z751z8a/cPx13/YPx7GQZXc2dg/hTaMxPwD2T+Mhikd7tvYP9fhAch9Kdg/dXkQjpvS1z/4x9aOPRbWP2EWf4BasdM/jLGfB2820T/ONhaYPgnNPwFc+8jO18g/vHDOJaijxT/9ZsXkyxPDP9fYqeJbEsE/9wuwbkB0vz9d1g6QeS6/P2t2zXkAasY/\",\"dtype\":\"float64\",\"shape\":[75]},\"y\":{\"__ndarray__\":\"GhExyth1ND/Sv8nbtpRIP2vylNV0PVE/aTum7souWD/At0SJ8fVgPw3Iuahxymc/MSNhhJWvcD/bTfBN02d3P2zb5nxnaoA/CD5h5MAGhz8NmeH1TyaQP+zrCsc9p5Y/LbKd76fGnz/bLW5ISEmmPww9YvTcQq8/JV2OstnstT8Er5Y7M8G+P0c+r3jqkcU/5h99k6ZBzj88bCIzFzjVP4enV8oyxN0//yH99nXg5D8qOpLLf0jtP5kqGJXUifQ/c9cS8kHP/D+/DpwzojQEQIEmwoanVwxA4lgXt9HgE0BSSZ2AJuIbQAMJih9jjiNA5q4l5INuK0AwTKYKRj0zQNv5fmq8/DpAaCJseHrtQkB/+zpwzoxKQM3MzMzMeFJAZmZmZmZqWEAAAAAAAFxeQM3MzMzMJmJAmpmZmZkfZUBmZmZmZhhoQDMzMzMzEWtAAAAAAAAKbkBmZmZmZoFwQM3MzMzM/XFAMzMzMzN6c0CamZmZmfZ0QAAAAAAAc3ZAZmZmZmbvd0DNzMzMzGt5QDMzMzMz6HpAmpmZmZlkfEAAAAAAAOF9QGZmZmZmXX9AZmZmZuZsgECamZmZGSuBQM3MzMxM6YFAAAAAAICngkAzMzMzs2WDQGZmZmbmI4RAmpmZmRnihEDNzMzMTKCFQAAAAACAXoZAMzMzM7Mch0BmZmZm5tqHQJqZmZkZmYhAzczMzExXiUAAAAAAgBWKQDMzMzOz04pAZmZmZuaRi0CamZmZGVCMQM3MzMxMDo1AAAAAAIDMjUAzMzMzs4qOQGZmZmbmSI9A\",\"dtype\":\"float64\",\"shape\":[75]}},\"selected\":{\"id\":\"e12e2fcb-9119-449a-9c43-b0f06f99dfc2\",\"type\":\"Selection\"},\"selection_policy\":{\"id\":\"21bb0977-4ad9-4350-afc7-2bc583868e92\",\"type\":\"UnionRenderers\"}},\"id\":\"a06782ef-b487-4ac3-bbf9-2f881f226a64\",\"type\":\"ColumnDataSource\"},{\"attributes\":{},\"id\":\"9c38caac-096b-4c4f-af54-bbfe36678f55\",\"type\":\"HelpTool\"},{\"attributes\":{},\"id\":\"98f31209-6d95-40ee-b48b-c331fcb4b08d\",\"type\":\"PanTool\"},{\"attributes\":{},\"id\":\"643965b8-76af-4ee1-bd86-a961304f64cc\",\"type\":\"ResetTool\"},{\"attributes\":{},\"id\":\"89c56943-7435-473b-978d-b7b5d67cb509\",\"type\":\"ResetTool\"},{\"attributes\":{},\"id\":\"15e592ea-6a4e-488c-9218-d2e0ffe99946\",\"type\":\"WheelZoomTool\"},{\"attributes\":{\"overlay\":{\"id\":\"5e147364-c77e-44eb-8f9f-b898efd6032a\",\"type\":\"BoxAnnotation\"}},\"id\":\"272af9cc-2c5f-405c-8e77-1e455c630433\",\"type\":\"BoxZoomTool\"},{\"attributes\":{\"callback\":null,\"end\":0.01,\"start\":1020},\"id\":\"6cf97e44-67c0-4e2e-b2a0-2ca2ab2ca140\",\"type\":\"Range1d\"},{\"attributes\":{\"callback\":null,\"data\":{\"x\":{\"__ndarray__\":\"Cr0fMyca0D9x6dKeFmzQP1ZtcWzBO9E/eOgehhQL0j/z1BucJdTSP1FTBYKEkdM/o+F7HFk71D9BQOcDPMjUP4dl+dsaKNU/SyiWvoRI1T8Gqeu76AzVP581oiiOS9Q/GGriV4vT0j/6fPc70qjQPwVtMNzSjdA/fd3xP1zm0z8X+CdEAn7XPx/YM3zyDdk/WTth9KIX2T8MWf74IszZPzfKE2tlQN4/AOPXFyLK4z8ZuBNXWxLlP95AP1sgxOI/60OLKssp4D8reJ8dT4/aP8s/4Ymsd9Y/VPs6kdxx0z90Ka4q+67QPxYRKA/JGMs/kyAa5bK0xD+mozVpx8u9P5hzHIQoe7Q/h5ZROeG2rD8mO/TlHnWePxe4e4PveW6/3/cj0Fbhm7+55Unwi+2Xv/vOXTmcLGa/hbLhyoj0hz/mr4sAeT+aP2dy3r2rN6U/6lSe5R63rj/DsVft1Lu0P1RWT72gS7o/39wEhHsKwD+Jj5lV6TjDPx4lRDMuIMY/BLUQywPkxz/Km+w0DP7JP1lyTzZpw8w/bL8IXE/bzz/v1Z7ErWPRPzTkK8OwqtI/hdjT7XDk0z9kmI97JRbVPz3LuTVlPtY/i9VRm1lH1z9aPS8uuBPYP213i5fZrdg/vhra310X2T8Fw5h4MDfZP/OhNGmN4Ng/ktbO5icL2T8cI9kj1MzXPxJtZKqisNU/5DJuaqA50z9JxoOQoDbQPyFh7zCzcMs/kXKk8ROgxz8zShs3yrTEP9YruGEMk8I/YlEJNktVwT/nT8Abd2/BPyq4q5mtI8g/\",\"dtype\":\"float64\",\"shape\":[75]},\"y\":{\"__ndarray__\":\"S/O/Q+51ND/Sv8nbtpRIP2vylNV0PVE/aTum7souWD/At0SJ8fVgPw3Iuahxymc/MSNhhJWvcD/bTfBN02d3P2zb5nxnaoA/CD5h5MAGhz8NmeH1TyaQP+zrCsc9p5Y/LbKd76fGnz/bLW5ISEmmPww9YvTcQq8/JV2OstnstT8Er5Y7M8G+P0c+r3jqkcU/5h99k6ZBzj88bCIzFzjVP4enV8oyxN0//yH99nXg5D8qOpLLf0jtP5kqGJXUifQ/c9cS8kHP/D+/DpwzojQEQIEmwoanVwxA4lgXt9HgE0BSSZ2AJuIbQAMJih9jjiNA5q4l5INuK0AwTKYKRj0zQNv5fmq8/DpAaCJseHrtQkB/+zpwzoxKQM3MzMzMeFJAZmZmZmZqWEAAAAAAAFxeQM3MzMzMJmJAmpmZmZkfZUBmZmZmZhhoQDMzMzMzEWtAAAAAAAAKbkBmZmZmZoFwQM3MzMzM/XFAMzMzMzN6c0CamZmZmfZ0QAAAAAAAc3ZAZmZmZmbvd0DNzMzMzGt5QDMzMzMz6HpAmpmZmZlkfEAAAAAAAOF9QGZmZmZmXX9AZmZmZuZsgECamZmZGSuBQM3MzMxM6YFAAAAAAICngkAzMzMzs2WDQGZmZmbmI4RAmpmZmRnihEDNzMzMTKCFQAAAAACAXoZAMzMzM7Mch0BmZmZm5tqHQJqZmZkZmYhAzczMzExXiUAAAAAAgBWKQDMzMzOz04pAZmZmZuaRi0CamZmZGVCMQM3MzMxMDo1AAAAAAIDMjUAzMzMzs4qOQGZmZmbmSI9A\",\"dtype\":\"float64\",\"shape\":[75]}},\"selected\":{\"id\":\"a95fb859-bcbc-4ddc-ac6d-eb7140dcb700\",\"type\":\"Selection\"},\"selection_policy\":{\"id\":\"8e7dc67c-66bc-4f99-88c9-893512eaf8be\",\"type\":\"UnionRenderers\"}},\"id\":\"13b09847-377c-48b6-8ee6-0c6d6d3ddb7b\",\"type\":\"ColumnDataSource\"},{\"attributes\":{},\"id\":\"ef59efe7-9985-4fac-b418-b2bf02de0386\",\"type\":\"WheelZoomTool\"},{\"attributes\":{\"overlay\":{\"id\":\"0c2c2ef5-4007-4aba-8155-bad146023763\",\"type\":\"BoxAnnotation\"}},\"id\":\"72b70713-171c-4111-a723-34c7c4f479fd\",\"type\":\"BoxZoomTool\"},{\"attributes\":{},\"id\":\"4ffc8220-80d1-45c9-99aa-49d084d73bbe\",\"type\":\"HelpTool\"},{\"attributes\":{},\"id\":\"4687abf2-4a11-482b-8f19-6de275f63cae\",\"type\":\"PanTool\"},{\"attributes\":{\"line_alpha\":0.1,\"line_color\":\"#1f77b4\",\"line_width\":3,\"x\":{\"field\":\"x\"},\"y\":{\"field\":\"y\"}},\"id\":\"0d610362-1490-45df-bb91-9edda11ce119\",\"type\":\"Line\"},{\"attributes\":{\"data_source\":{\"id\":\"13b09847-377c-48b6-8ee6-0c6d6d3ddb7b\",\"type\":\"ColumnDataSource\"},\"glyph\":{\"id\":\"001745aa-4db4-44d0-baf3-45747369494b\",\"type\":\"Line\"},\"hover_glyph\":null,\"muted_glyph\":null,\"nonselection_glyph\":{\"id\":\"44d73f61-f44a-4e97-90d4-49f16096c997\",\"type\":\"Line\"},\"selection_glyph\":null,\"view\":{\"id\":\"7969367d-b94e-4c87-8210-415fd95cf08e\",\"type\":\"CDSView\"}},\"id\":\"7695bee1-9628-434d-a819-9415aa7ae6b9\",\"type\":\"GlyphRenderer\"},{\"attributes\":{\"line_alpha\":0.6,\"line_color\":\"#e41a1c\",\"line_dash\":[6],\"line_width\":5,\"x\":{\"field\":\"x\"},\"y\":{\"field\":\"y\"}},\"id\":\"f24e95ae-a173-4102-b4ad-80600c8c1528\",\"type\":\"Line\"},{\"attributes\":{\"below\":[{\"id\":\"1be730d1-5b0f-4b1b-a7aa-ace2024faafe\",\"type\":\"LinearAxis\"}],\"left\":[{\"id\":\"5fccbd1f-dced-4f53-a37a-cfb63b465b34\",\"type\":\"LogAxis\"}],\"plot_height\":500,\"plot_width\":560,\"renderers\":[{\"id\":\"1be730d1-5b0f-4b1b-a7aa-ace2024faafe\",\"type\":\"LinearAxis\"},{\"id\":\"7a8a794f-2f55-4e76-a595-ee6f1f661a1a\",\"type\":\"Grid\"},{\"id\":\"5fccbd1f-dced-4f53-a37a-cfb63b465b34\",\"type\":\"LogAxis\"},{\"id\":\"4a75e03a-9127-444b-b291-08d3f1c28427\",\"type\":\"Grid\"},{\"id\":\"5e147364-c77e-44eb-8f9f-b898efd6032a\",\"type\":\"BoxAnnotation\"},{\"id\":\"da01b2b4-957a-47db-befc-59d327d0edf9\",\"type\":\"GlyphRenderer\"},{\"id\":\"113bc44c-8078-437f-b282-5bcfb2f8dbd0\",\"type\":\"GlyphRenderer\"},{\"id\":\"187b2556-0700-42db-bd20-3500c67d5abf\",\"type\":\"GlyphRenderer\"},{\"id\":\"01c47a76-e6f6-41ce-8a66-c57451223688\",\"type\":\"GlyphRenderer\"},{\"id\":\"299552ab-2869-45ae-a346-fd545dcd28dc\",\"type\":\"GlyphRenderer\"},{\"id\":\"c095a1d9-713d-4bc0-a407-c7898f5c58a8\",\"type\":\"Legend\"}],\"right\":[{\"id\":\"c095a1d9-713d-4bc0-a407-c7898f5c58a8\",\"type\":\"Legend\"}],\"title\":{\"id\":\"9ec64fd8-e449-4672-9bbe-7e35856addc5\",\"type\":\"Title\"},\"toolbar\":{\"id\":\"3ff40625-6fa3-48e3-ab43-68d62094535a\",\"type\":\"Toolbar\"},\"toolbar_location\":null,\"x_range\":{\"id\":\"cee07659-c0e5-43df-8a1e-e653b87e3a0f\",\"type\":\"Range1d\"},\"x_scale\":{\"id\":\"d3e152d8-7033-48f0-b86b-71c872cfa1bf\",\"type\":\"LinearScale\"},\"y_range\":{\"id\":\"ee71219f-7ca6-4654-9a66-342cf4b20c44\",\"type\":\"Range1d\"},\"y_scale\":{\"id\":\"52ca243a-8079-4009-bded-c6c6ff628d4a\",\"type\":\"LogScale\"}},\"id\":\"e1ca3e24-c98e-4fc8-92de-73810d581182\",\"subtype\":\"Figure\",\"type\":\"Plot\"},{\"attributes\":{\"source\":{\"id\":\"4fda2831-5e0c-48b9-90db-d11d6ab39d5b\",\"type\":\"ColumnDataSource\"}},\"id\":\"a9abd786-7f47-4eb0-b28f-f49a1f126c09\",\"type\":\"CDSView\"},{\"attributes\":{\"axis_label\":\"pressure [mb]\",\"formatter\":{\"id\":\"76bb074c-baf5-4c42-a49d-d597cc4b7284\",\"type\":\"BasicTickFormatter\"},\"plot\":{\"id\":\"2e326894-138d-4d61-b88d-05c02447915c\",\"subtype\":\"Figure\",\"type\":\"Plot\"},\"ticker\":{\"id\":\"4fb902d9-d725-4608-8217-4ff396e3879a\",\"type\":\"BasicTicker\"}},\"id\":\"0c6886cd-9e97-4d9a-8bd2-fbd4b2237826\",\"type\":\"LinearAxis\"},{\"attributes\":{\"plot\":null,\"text\":\"Linear pressure scale\"},\"id\":\"61ac88cc-08f0-4f5f-80b0-efddba7d95ff\",\"type\":\"Title\"},{\"attributes\":{\"source\":{\"id\":\"13b09847-377c-48b6-8ee6-0c6d6d3ddb7b\",\"type\":\"ColumnDataSource\"}},\"id\":\"7969367d-b94e-4c87-8210-415fd95cf08e\",\"type\":\"CDSView\"},{\"attributes\":{\"line_alpha\":0.1,\"line_color\":\"#1f77b4\",\"line_dash\":[6],\"line_width\":5,\"x\":{\"field\":\"x\"},\"y\":{\"field\":\"y\"}},\"id\":\"181fdc5e-8509-430c-91b3-b067b9b9a612\",\"type\":\"Line\"},{\"attributes\":{\"line_alpha\":0.6,\"line_color\":\"#984ea3\",\"line_width\":3,\"x\":{\"field\":\"x\"},\"y\":{\"field\":\"y\"}},\"id\":\"810339f1-2db5-4530-a665-aedc369b41e9\",\"type\":\"Line\"},{\"attributes\":{\"active_drag\":\"auto\",\"active_inspect\":\"auto\",\"active_scroll\":\"auto\",\"active_tap\":\"auto\",\"tools\":[{\"id\":\"4687abf2-4a11-482b-8f19-6de275f63cae\",\"type\":\"PanTool\"},{\"id\":\"ef59efe7-9985-4fac-b418-b2bf02de0386\",\"type\":\"WheelZoomTool\"},{\"id\":\"72b70713-171c-4111-a723-34c7c4f479fd\",\"type\":\"BoxZoomTool\"},{\"id\":\"f5dd8995-33f7-4650-b4ad-5ba97a7e693d\",\"type\":\"SaveTool\"},{\"id\":\"89c56943-7435-473b-978d-b7b5d67cb509\",\"type\":\"ResetTool\"},{\"id\":\"9c38caac-096b-4c4f-af54-bbfe36678f55\",\"type\":\"HelpTool\"}]},\"id\":\"d8b6df84-9c38-4b35-99b4-786e66652957\",\"type\":\"Toolbar\"},{\"attributes\":{},\"id\":\"9531d5e9-5b7c-44fb-8122-eb232cfd5d40\",\"type\":\"LinearScale\"},{\"attributes\":{},\"id\":\"9cde36a1-9d2f-4d62-9550-2ab826f71902\",\"type\":\"LinearScale\"},{\"attributes\":{\"line_alpha\":0.1,\"line_color\":\"#1f77b4\",\"line_dash\":[6],\"line_width\":5,\"x\":{\"field\":\"x\"},\"y\":{\"field\":\"y\"}},\"id\":\"44d73f61-f44a-4e97-90d4-49f16096c997\",\"type\":\"Line\"},{\"attributes\":{\"callback\":null,\"end\":0.39822068465,\"start\":-0.03295316965},\"id\":\"1b2094de-aff3-4ff9-bb68-91caf13bcdb7\",\"type\":\"Range1d\"},{\"attributes\":{},\"id\":\"02bc6221-1b3e-4762-91e0-99cd2fc30373\",\"type\":\"BasicTickFormatter\"},{\"attributes\":{\"callback\":null,\"data\":{\"x\":{\"__ndarray__\":\"DUeAaCA11j9a0tVGCl/WP7hYtK0kQdc/Q5BB9pMU2D+jTd2u+tDYP0nPumfZatk/Yr0PD3rZ2T+7c5PeWAzaP/7hfCQE79k/lvncQ6Fp2T90zGApHlnYP4kV4k9cp9Y/lOH0BV8e1D/y9yA+j9XQPwDnQVEL688//bbtnOII0z+TkppNspvWP6S402vtnNg/yvDI7dG62T8T2Pc82pPbP1bwPjuePuA/F/smqDy15D/m8WpvppjlPynuV4X2/+I/9fMJTdBO4D/0Einu9NraPwyL1Q9/h9Y/MNCckv9L0z/fEgS47mDQP/DrVZ4fyso/MiY3aZ7MxD+Itb5pdrS+P99roKpW57U/5RAOSW+wrz+mZUsmDKKgPx3NBlq3gW+/BIkg4KbFnL8I3cBFcCGYvwCkT1cyoVS/WWnWQl5JjT8u1oG9066dP95bXqf7eqc/iT/MVkXVsD8feOzPlIm2P8DfN9eTbbw/nzug8AI6wT994d+x6VLEP+qdwCrNHMc/aW6mvgPuyD+Bcl/36wjLP5g7jnrjf80/751muyER0D9HQeiHrlfRP/OXca68f9I/QxvCKVqW0z9Z0MXwIp3UPxoLtzoIk9U/MInMvwpu1j88DDGHchzXP1xd697MoNc/5E6GNkL31z/0T3CxogbYPxQfwJ6Gmtc/+uyA64qZ1z8w0YMvCkrWP7B80JJLTNQ/C1RSabwb0j8b+KzGbQ/PPxzSyc6y2co/napS5UGbxz/aT0ox1QbFP5CNemc4DsM/VOQxf1zNwT/lFR0DkcnBP4u81Qg3eMg/\",\"dtype\":\"float64\",\"shape\":[75]},\"y\":{\"__ndarray__\":\"GhExyth1ND/Sv8nbtpRIP2vylNV0PVE/aTum7souWD/At0SJ8fVgPw3Iuahxymc/MSNhhJWvcD/bTfBN02d3P2zb5nxnaoA/CD5h5MAGhz8NmeH1TyaQP+zrCsc9p5Y/LbKd76fGnz/bLW5ISEmmPww9YvTcQq8/JV2OstnstT8Er5Y7M8G+P0c+r3jqkcU/5h99k6ZBzj88bCIzFzjVP4enV8oyxN0//yH99nXg5D8qOpLLf0jtP5kqGJXUifQ/c9cS8kHP/D+/DpwzojQEQIEmwoanVwxA4lgXt9HgE0BSSZ2AJuIbQAMJih9jjiNA5q4l5INuK0AwTKYKRj0zQNv5fmq8/DpAaCJseHrtQkB/+zpwzoxKQM3MzMzMeFJAZmZmZmZqWEAAAAAAAFxeQM3MzMzMJmJAmpmZmZkfZUBmZmZmZhhoQDMzMzMzEWtAAAAAAAAKbkBmZmZmZoFwQM3MzMzM/XFAMzMzMzN6c0CamZmZmfZ0QAAAAAAAc3ZAZmZmZmbvd0DNzMzMzGt5QDMzMzMz6HpAmpmZmZlkfEAAAAAAAOF9QGZmZmZmXX9AZmZmZuZsgECamZmZGSuBQM3MzMxM6YFAAAAAAICngkAzMzMzs2WDQGZmZmbmI4RAmpmZmRnihEDNzMzMTKCFQAAAAACAXoZAMzMzM7Mch0BmZmZm5tqHQJqZmZkZmYhAzczMzExXiUAAAAAAgBWKQDMzMzOz04pAZmZmZuaRi0CamZmZGVCMQM3MzMxMDo1AAAAAAIDMjUAzMzMzs4qOQGZmZmbmSI9A\",\"dtype\":\"float64\",\"shape\":[75]}},\"selected\":{\"id\":\"56cc0a47-f85e-44f2-a146-10fdf0edcf0a\",\"type\":\"Selection\"},\"selection_policy\":{\"id\":\"fbaa089c-72c1-463e-b1ec-2cb807e58796\",\"type\":\"UnionRenderers\"}},\"id\":\"4fda2831-5e0c-48b9-90db-d11d6ab39d5b\",\"type\":\"ColumnDataSource\"},{\"attributes\":{\"below\":[{\"id\":\"1987b714-df1a-4a77-b9c4-a46d265e2027\",\"type\":\"LinearAxis\"}],\"left\":[{\"id\":\"0c6886cd-9e97-4d9a-8bd2-fbd4b2237826\",\"type\":\"LinearAxis\"}],\"plot_height\":500,\"plot_width\":400,\"renderers\":[{\"id\":\"1987b714-df1a-4a77-b9c4-a46d265e2027\",\"type\":\"LinearAxis\"},{\"id\":\"67987537-1e41-4e7e-87dc-5b66a3c77701\",\"type\":\"Grid\"},{\"id\":\"0c6886cd-9e97-4d9a-8bd2-fbd4b2237826\",\"type\":\"LinearAxis\"},{\"id\":\"71057e4f-21a7-459f-959e-2f75638dbc4c\",\"type\":\"Grid\"},{\"id\":\"0c2c2ef5-4007-4aba-8155-bad146023763\",\"type\":\"BoxAnnotation\"},{\"id\":\"7695bee1-9628-434d-a819-9415aa7ae6b9\",\"type\":\"GlyphRenderer\"},{\"id\":\"fbe8c44f-9c1d-4d19-abbe-ec44049fe3ee\",\"type\":\"GlyphRenderer\"},{\"id\":\"1f1976de-0e91-4374-949a-52d1f917984f\",\"type\":\"GlyphRenderer\"},{\"id\":\"2b3d3683-9a8d-4f4c-94cb-12589d996385\",\"type\":\"GlyphRenderer\"},{\"id\":\"0a21fb4b-77a2-41ca-8d62-bfe26ee003cd\",\"type\":\"GlyphRenderer\"}],\"title\":{\"id\":\"61ac88cc-08f0-4f5f-80b0-efddba7d95ff\",\"type\":\"Title\"},\"toolbar\":{\"id\":\"d8b6df84-9c38-4b35-99b4-786e66652957\",\"type\":\"Toolbar\"},\"toolbar_location\":null,\"x_range\":{\"id\":\"1b2094de-aff3-4ff9-bb68-91caf13bcdb7\",\"type\":\"Range1d\"},\"x_scale\":{\"id\":\"9531d5e9-5b7c-44fb-8122-eb232cfd5d40\",\"type\":\"LinearScale\"},\"y_range\":{\"id\":\"6cf97e44-67c0-4e2e-b2a0-2ca2ab2ca140\",\"type\":\"Range1d\"},\"y_scale\":{\"id\":\"9cde36a1-9d2f-4d62-9550-2ab826f71902\",\"type\":\"LinearScale\"}},\"id\":\"2e326894-138d-4d61-b88d-05c02447915c\",\"subtype\":\"Figure\",\"type\":\"Plot\"},{\"attributes\":{\"source\":{\"id\":\"7f0109dc-a9b2-4324-8b86-1025e6f6e35b\",\"type\":\"ColumnDataSource\"}},\"id\":\"1efbb29f-a791-48a3-98d2-dc895eb1e14d\",\"type\":\"CDSView\"},{\"attributes\":{},\"id\":\"4fb902d9-d725-4608-8217-4ff396e3879a\",\"type\":\"BasicTicker\"},{\"attributes\":{\"callback\":null,\"data\":{\"x\":{\"__ndarray__\":\"lGEFjdMv2T8Z7pbDcjTZP5lH3VL3Fto/24nUrBrh2j82ilF8IYnbP1f2dq6c+9s/aD/vGcss3D9JGtRlzgbcP7nTCMOhc9s/pdpEuXZa2j9w6bkBdqDYP75Bg2Y6KNY/34k4IZ3P0j80AZbHYGbNP4dZHloarso/X96QBOl70D+v2i2wZJrUP1UJgSI3v9c/QnDHYVGN2j/5m9TAJA/eP+QXuQJl7uE//zKthw5l5j+i7kWsrIrmP2DVD6CVKuM/wEmJE05B4D9OsjgQUGnaP3yfiTQajtU/GxNBIMC30T+ErNmQoPTMP5/G/xXgWMc/QGR4iT12wj+2nqVUV3i8PwewAFp+VrU/tK4GZXBNrz81zHW/rzafP3R5rtEkyHe/jM+ujFdqnb++L9hUsKKZv4sWJvAjB3S/5OnpH1zzgj/cjQY8pY2XP2V4vi/GcaQ/3jq4oU0Brz9Qsfq7KI61PwKsn0hBAbw/fVqoqSNPwT//RStSvKXEP/R6YmN/1cc/c0AaZzY8yj8znPiLVdrMP/2HkbEcmc8/7I7e00k00T/66DfAipvSPzlvrUA+8tM/wtZTSIUz1T9jCtY4m07WP8QcynEjPNc/URUy2z751z8a/cPx13/YPx7GQZXc2dg/hTaMxPwD2T+Mhikd7tvYP9fhAch9Kdg/dXkQjpvS1z/4x9aOPRbWP2EWf4BasdM/jLGfB2820T/ONhaYPgnNPwFc+8jO18g/vHDOJaijxT/9ZsXkyxPDP9fYqeJbEsE/9wuwbkB0vz9d1g6QeS6/P2t2zXkAasY/\",\"dtype\":\"float64\",\"shape\":[75]},\"y\":{\"__ndarray__\":\"GhExyth1ND/Sv8nbtpRIP2vylNV0PVE/aTum7souWD/At0SJ8fVgPw3Iuahxymc/MSNhhJWvcD/bTfBN02d3P2zb5nxnaoA/CD5h5MAGhz8NmeH1TyaQP+zrCsc9p5Y/LbKd76fGnz/bLW5ISEmmPww9YvTcQq8/JV2OstnstT8Er5Y7M8G+P0c+r3jqkcU/5h99k6ZBzj88bCIzFzjVP4enV8oyxN0//yH99nXg5D8qOpLLf0jtP5kqGJXUifQ/c9cS8kHP/D+/DpwzojQEQIEmwoanVwxA4lgXt9HgE0BSSZ2AJuIbQAMJih9jjiNA5q4l5INuK0AwTKYKRj0zQNv5fmq8/DpAaCJseHrtQkB/+zpwzoxKQM3MzMzMeFJAZmZmZmZqWEAAAAAAAFxeQM3MzMzMJmJAmpmZmZkfZUBmZmZmZhhoQDMzMzMzEWtAAAAAAAAKbkBmZmZmZoFwQM3MzMzM/XFAMzMzMzN6c0CamZmZmfZ0QAAAAAAAc3ZAZmZmZmbvd0DNzMzMzGt5QDMzMzMz6HpAmpmZmZlkfEAAAAAAAOF9QGZmZmZmXX9AZmZmZuZsgECamZmZGSuBQM3MzMxM6YFAAAAAAICngkAzMzMzs2WDQGZmZmbmI4RAmpmZmRnihEDNzMzMTKCFQAAAAACAXoZAMzMzM7Mch0BmZmZm5tqHQJqZmZkZmYhAzczMzExXiUAAAAAAgBWKQDMzMzOz04pAZmZmZuaRi0CamZmZGVCMQM3MzMxMDo1AAAAAAIDMjUAzMzMzs4qOQGZmZmbmSI9A\",\"dtype\":\"float64\",\"shape\":[75]}},\"selected\":{\"id\":\"558b91aa-4a01-4c20-991b-78745ee152d3\",\"type\":\"Selection\"},\"selection_policy\":{\"id\":\"28dbbb11-4cfc-48b4-9e19-bf50453eb225\",\"type\":\"UnionRenderers\"}},\"id\":\"a1896751-8b28-4be6-91ae-561169f5d2aa\",\"type\":\"ColumnDataSource\"},{\"attributes\":{\"data_source\":{\"id\":\"7f0109dc-a9b2-4324-8b86-1025e6f6e35b\",\"type\":\"ColumnDataSource\"},\"glyph\":{\"id\":\"f24e95ae-a173-4102-b4ad-80600c8c1528\",\"type\":\"Line\"},\"hover_glyph\":null,\"muted_glyph\":null,\"nonselection_glyph\":{\"id\":\"181fdc5e-8509-430c-91b3-b067b9b9a612\",\"type\":\"Line\"},\"selection_glyph\":null,\"view\":{\"id\":\"1efbb29f-a791-48a3-98d2-dc895eb1e14d\",\"type\":\"CDSView\"}},\"id\":\"da01b2b4-957a-47db-befc-59d327d0edf9\",\"type\":\"GlyphRenderer\"},{\"attributes\":{\"axis_label\":\"cooling rate [K/day]\",\"formatter\":{\"id\":\"02bc6221-1b3e-4762-91e0-99cd2fc30373\",\"type\":\"BasicTickFormatter\"},\"plot\":{\"id\":\"2e326894-138d-4d61-b88d-05c02447915c\",\"subtype\":\"Figure\",\"type\":\"Plot\"},\"ticker\":{\"id\":\"06bab798-f3e2-4e79-b1ad-c3d3c2a2aa52\",\"type\":\"BasicTicker\"}},\"id\":\"1987b714-df1a-4a77-b9c4-a46d265e2027\",\"type\":\"LinearAxis\"},{\"attributes\":{},\"id\":\"9b285de2-e9b0-4508-a9bb-6a007d3aa2e4\",\"type\":\"SaveTool\"},{\"attributes\":{\"plot\":{\"id\":\"2e326894-138d-4d61-b88d-05c02447915c\",\"subtype\":\"Figure\",\"type\":\"Plot\"},\"ticker\":{\"id\":\"06bab798-f3e2-4e79-b1ad-c3d3c2a2aa52\",\"type\":\"BasicTicker\"}},\"id\":\"67987537-1e41-4e7e-87dc-5b66a3c77701\",\"type\":\"Grid\"},{\"attributes\":{\"source\":{\"id\":\"8d1833c2-b8fe-4cdb-84b9-b3ff5ea69551\",\"type\":\"ColumnDataSource\"}},\"id\":\"d4c2ce49-6bfc-4fb5-af57-20a30847f919\",\"type\":\"CDSView\"}],\"root_ids\":[\"f5043378-c8cc-414d-9ef0-be7d2f0054ce\"]},\"title\":\"Bokeh Application\",\"version\":\"0.12.16\"}};\n",
       "  var render_items = [{\"docid\":\"3483c28e-9f0e-4b70-ac25-c8620c404d9e\",\"elementid\":\"94b3dd57-cd9b-4218-8ff0-e5932d0a1ec5\",\"modelid\":\"f5043378-c8cc-414d-9ef0-be7d2f0054ce\"}];\n",
       "  root.Bokeh.embed.embed_items_notebook(docs_json, render_items);\n",
       "\n",
       "  }\n",
       "  if (root.Bokeh !== undefined) {\n",
       "    embed_document(root);\n",
       "  } else {\n",
       "    var attempts = 0;\n",
       "    var timer = setInterval(function(root) {\n",
       "      if (root.Bokeh !== undefined) {\n",
       "        embed_document(root);\n",
       "        clearInterval(timer);\n",
       "      }\n",
       "      attempts++;\n",
       "      if (attempts > 100) {\n",
       "        console.log(\"Bokeh: ERROR: Unable to run BokehJS code because BokehJS library is missing\")\n",
       "        clearInterval(timer);\n",
       "      }\n",
       "    }, 10, root)\n",
       "  }\n",
       "})(window);"
      ],
      "application/vnd.bokehjs_exec.v0+json": ""
     },
     "metadata": {
      "application/vnd.bokehjs_exec.v0+json": {
       "id": "f5043378-c8cc-414d-9ef0-be7d2f0054ce"
      }
     },
     "output_type": "display_data"
    },
    {
     "name": "stdout",
     "output_type": "stream",
     "text": [
      "FIGURE. Cooling rate profiles.\n"
     ]
    },
    {
     "data": {
      "text/html": [
       "<a id=\"Flux_Comparison\"></a>"
      ],
      "text/plain": [
       "<IPython.core.display.HTML object>"
      ]
     },
     "metadata": {},
     "output_type": "display_data"
    },
    {
     "data": {
      "text/markdown": [
       "# Flux Comparison"
      ],
      "text/plain": [
       "<IPython.core.display.Markdown object>"
      ]
     },
     "metadata": {},
     "output_type": "display_data"
    },
    {
     "data": {
      "text/html": [
       "<div>\n",
       "<style scoped>\n",
       "    .dataframe tbody tr th:only-of-type {\n",
       "        vertical-align: middle;\n",
       "    }\n",
       "\n",
       "    .dataframe tbody tr th {\n",
       "        vertical-align: top;\n",
       "    }\n",
       "\n",
       "    .dataframe thead th {\n",
       "        text-align: right;\n",
       "    }\n",
       "</style>\n",
       "<table border=\"1\" class=\"dataframe\">\n",
       "  <thead>\n",
       "    <tr style=\"text-align: right;\">\n",
       "      <th></th>\n",
       "      <th></th>\n",
       "      <th>flug</th>\n",
       "      <th>fldg</th>\n",
       "      <th>fnetg</th>\n",
       "    </tr>\n",
       "    <tr>\n",
       "      <th>pressure</th>\n",
       "      <th>level</th>\n",
       "      <th></th>\n",
       "      <th></th>\n",
       "      <th></th>\n",
       "    </tr>\n",
       "  </thead>\n",
       "  <tbody>\n",
       "    <tr>\n",
       "      <th>0.0000</th>\n",
       "      <th>1</th>\n",
       "      <td>-25.153740</td>\n",
       "      <td>0.000000</td>\n",
       "      <td>-25.153740</td>\n",
       "    </tr>\n",
       "    <tr>\n",
       "      <th>1.0685</th>\n",
       "      <th>24</th>\n",
       "      <td>-25.157088</td>\n",
       "      <td>0.074865</td>\n",
       "      <td>-25.082223</td>\n",
       "    </tr>\n",
       "    <tr>\n",
       "      <th>1013.0000</th>\n",
       "      <th>76</th>\n",
       "      <td>-38.491734</td>\n",
       "      <td>37.325339</td>\n",
       "      <td>-1.166395</td>\n",
       "    </tr>\n",
       "  </tbody>\n",
       "</table>\n",
       "</div>"
      ],
      "text/plain": [
       "                      flug       fldg      fnetg\n",
       "pressure  level                                 \n",
       "0.0000    1     -25.153740   0.000000 -25.153740\n",
       "1.0685    24    -25.157088   0.074865 -25.082223\n",
       "1013.0000 76    -38.491734  37.325339  -1.166395"
      ]
     },
     "metadata": {},
     "output_type": "display_data"
    },
    {
     "name": "stdout",
     "output_type": "stream",
     "text": [
      "Table. Fluxes. CRD\n"
     ]
    },
    {
     "data": {
      "text/html": [
       "<div>\n",
       "<style scoped>\n",
       "    .dataframe tbody tr th:only-of-type {\n",
       "        vertical-align: middle;\n",
       "    }\n",
       "\n",
       "    .dataframe tbody tr th {\n",
       "        vertical-align: top;\n",
       "    }\n",
       "\n",
       "    .dataframe thead th {\n",
       "        text-align: right;\n",
       "    }\n",
       "</style>\n",
       "<table border=\"1\" class=\"dataframe\">\n",
       "  <thead>\n",
       "    <tr style=\"text-align: right;\">\n",
       "      <th></th>\n",
       "      <th></th>\n",
       "      <th>flug</th>\n",
       "      <th>fldg</th>\n",
       "      <th>fnetg</th>\n",
       "    </tr>\n",
       "    <tr>\n",
       "      <th>pressure</th>\n",
       "      <th>level</th>\n",
       "      <th></th>\n",
       "      <th></th>\n",
       "      <th></th>\n",
       "    </tr>\n",
       "  </thead>\n",
       "  <tbody>\n",
       "    <tr>\n",
       "      <th>0.0000</th>\n",
       "      <th>1</th>\n",
       "      <td>-25.279455</td>\n",
       "      <td>0.000000</td>\n",
       "      <td>-25.279455</td>\n",
       "    </tr>\n",
       "    <tr>\n",
       "      <th>1.0685</th>\n",
       "      <th>24</th>\n",
       "      <td>-25.281251</td>\n",
       "      <td>0.069787</td>\n",
       "      <td>-25.211464</td>\n",
       "    </tr>\n",
       "    <tr>\n",
       "      <th>1013.0000</th>\n",
       "      <th>76</th>\n",
       "      <td>-38.491734</td>\n",
       "      <td>36.951087</td>\n",
       "      <td>-1.540648</td>\n",
       "    </tr>\n",
       "  </tbody>\n",
       "</table>\n",
       "</div>"
      ],
      "text/plain": [
       "                      flug       fldg      fnetg\n",
       "pressure  level                                 \n",
       "0.0000    1     -25.279455   0.000000 -25.279455\n",
       "1.0685    24    -25.281251   0.069787 -25.211464\n",
       "1013.0000 76    -38.491734  36.951087  -1.540648"
      ]
     },
     "metadata": {},
     "output_type": "display_data"
    },
    {
     "name": "stdout",
     "output_type": "stream",
     "text": [
      "Table. Fluxes. WGT igg=10 wgt_flux=1\n"
     ]
    },
    {
     "data": {
      "text/html": [
       "<div>\n",
       "<style scoped>\n",
       "    .dataframe tbody tr th:only-of-type {\n",
       "        vertical-align: middle;\n",
       "    }\n",
       "\n",
       "    .dataframe tbody tr th {\n",
       "        vertical-align: top;\n",
       "    }\n",
       "\n",
       "    .dataframe thead th {\n",
       "        text-align: right;\n",
       "    }\n",
       "</style>\n",
       "<table border=\"1\" class=\"dataframe\">\n",
       "  <thead>\n",
       "    <tr style=\"text-align: right;\">\n",
       "      <th></th>\n",
       "      <th></th>\n",
       "      <th>flug</th>\n",
       "      <th>fldg</th>\n",
       "      <th>fnetg</th>\n",
       "    </tr>\n",
       "    <tr>\n",
       "      <th>pressure</th>\n",
       "      <th>level</th>\n",
       "      <th></th>\n",
       "      <th></th>\n",
       "      <th></th>\n",
       "    </tr>\n",
       "  </thead>\n",
       "  <tbody>\n",
       "    <tr>\n",
       "      <th>1.000000e-08</th>\n",
       "      <th>1</th>\n",
       "      <td>-25.454880</td>\n",
       "      <td>0.000002</td>\n",
       "      <td>-25.454878</td>\n",
       "    </tr>\n",
       "    <tr>\n",
       "      <th>1.068500e+00</th>\n",
       "      <th>24</th>\n",
       "      <td>-25.456246</td>\n",
       "      <td>0.066884</td>\n",
       "      <td>-25.389362</td>\n",
       "    </tr>\n",
       "    <tr>\n",
       "      <th>1.013000e+03</th>\n",
       "      <th>76</th>\n",
       "      <td>-38.491730</td>\n",
       "      <td>37.121952</td>\n",
       "      <td>-1.369778</td>\n",
       "    </tr>\n",
       "  </tbody>\n",
       "</table>\n",
       "</div>"
      ],
      "text/plain": [
       "                         flug       fldg      fnetg\n",
       "pressure     level                                 \n",
       "1.000000e-08 1     -25.454880   0.000002 -25.454878\n",
       "1.068500e+00 24    -25.456246   0.066884 -25.389362\n",
       "1.013000e+03 76    -38.491730  37.121952  -1.369778"
      ]
     },
     "metadata": {},
     "output_type": "display_data"
    },
    {
     "name": "stdout",
     "output_type": "stream",
     "text": [
      "Table. Fluxes. CLIRAD\n"
     ]
    },
    {
     "data": {
      "text/html": [
       "<div>\n",
       "<style scoped>\n",
       "    .dataframe tbody tr th:only-of-type {\n",
       "        vertical-align: middle;\n",
       "    }\n",
       "\n",
       "    .dataframe tbody tr th {\n",
       "        vertical-align: top;\n",
       "    }\n",
       "\n",
       "    .dataframe thead th {\n",
       "        text-align: right;\n",
       "    }\n",
       "</style>\n",
       "<table border=\"1\" class=\"dataframe\">\n",
       "  <thead>\n",
       "    <tr style=\"text-align: right;\">\n",
       "      <th></th>\n",
       "      <th></th>\n",
       "      <th>flug</th>\n",
       "      <th>fldg</th>\n",
       "      <th>fnetg</th>\n",
       "    </tr>\n",
       "    <tr>\n",
       "      <th>pressure</th>\n",
       "      <th>level</th>\n",
       "      <th></th>\n",
       "      <th></th>\n",
       "      <th></th>\n",
       "    </tr>\n",
       "  </thead>\n",
       "  <tbody>\n",
       "    <tr>\n",
       "      <th>0.0000</th>\n",
       "      <th>1</th>\n",
       "      <td>-0.125715</td>\n",
       "      <td>0.000000</td>\n",
       "      <td>-0.125715</td>\n",
       "    </tr>\n",
       "    <tr>\n",
       "      <th>1.0685</th>\n",
       "      <th>24</th>\n",
       "      <td>-0.124163</td>\n",
       "      <td>-0.005078</td>\n",
       "      <td>-0.129241</td>\n",
       "    </tr>\n",
       "    <tr>\n",
       "      <th>1013.0000</th>\n",
       "      <th>76</th>\n",
       "      <td>0.000000</td>\n",
       "      <td>-0.374252</td>\n",
       "      <td>-0.374253</td>\n",
       "    </tr>\n",
       "  </tbody>\n",
       "</table>\n",
       "</div>"
      ],
      "text/plain": [
       "                     flug      fldg     fnetg\n",
       "pressure  level                              \n",
       "0.0000    1     -0.125715  0.000000 -0.125715\n",
       "1.0685    24    -0.124163 -0.005078 -0.129241\n",
       "1013.0000 76     0.000000 -0.374252 -0.374253"
      ]
     },
     "metadata": {},
     "output_type": "display_data"
    },
    {
     "name": "stdout",
     "output_type": "stream",
     "text": [
      "Table. Fluxes. (WGT igg=10 wgt_flux=1) - (CRD)\n"
     ]
    },
    {
     "data": {
      "text/html": [
       "<div>\n",
       "<style scoped>\n",
       "    .dataframe tbody tr th:only-of-type {\n",
       "        vertical-align: middle;\n",
       "    }\n",
       "\n",
       "    .dataframe tbody tr th {\n",
       "        vertical-align: top;\n",
       "    }\n",
       "\n",
       "    .dataframe thead th {\n",
       "        text-align: right;\n",
       "    }\n",
       "</style>\n",
       "<table border=\"1\" class=\"dataframe\">\n",
       "  <thead>\n",
       "    <tr style=\"text-align: right;\">\n",
       "      <th></th>\n",
       "      <th></th>\n",
       "      <th>flug</th>\n",
       "      <th>fldg</th>\n",
       "      <th>fnetg</th>\n",
       "    </tr>\n",
       "    <tr>\n",
       "      <th>pressure</th>\n",
       "      <th>level</th>\n",
       "      <th></th>\n",
       "      <th></th>\n",
       "      <th></th>\n",
       "    </tr>\n",
       "  </thead>\n",
       "  <tbody>\n",
       "    <tr>\n",
       "      <th>0.0000</th>\n",
       "      <th>1</th>\n",
       "      <td>-0.301140</td>\n",
       "      <td>0.000002</td>\n",
       "      <td>-0.301138</td>\n",
       "    </tr>\n",
       "    <tr>\n",
       "      <th>1.0685</th>\n",
       "      <th>24</th>\n",
       "      <td>-0.299158</td>\n",
       "      <td>-0.007981</td>\n",
       "      <td>-0.307139</td>\n",
       "    </tr>\n",
       "    <tr>\n",
       "      <th>1013.0000</th>\n",
       "      <th>76</th>\n",
       "      <td>0.000004</td>\n",
       "      <td>-0.203387</td>\n",
       "      <td>-0.203383</td>\n",
       "    </tr>\n",
       "  </tbody>\n",
       "</table>\n",
       "</div>"
      ],
      "text/plain": [
       "                     flug      fldg     fnetg\n",
       "pressure  level                              \n",
       "0.0000    1     -0.301140  0.000002 -0.301138\n",
       "1.0685    24    -0.299158 -0.007981 -0.307139\n",
       "1013.0000 76     0.000004 -0.203387 -0.203383"
      ]
     },
     "metadata": {},
     "output_type": "display_data"
    },
    {
     "name": "stdout",
     "output_type": "stream",
     "text": [
      "Table. Fluxes. (CLIRAD) - (CRD)\n"
     ]
    },
    {
     "data": {
      "text/html": [
       "<a id=\"Best-fit_Parameters\"></a>"
      ],
      "text/plain": [
       "<IPython.core.display.HTML object>"
      ]
     },
     "metadata": {},
     "output_type": "display_data"
    },
    {
     "data": {
      "text/markdown": [
       "# Best-fit Parameters"
      ],
      "text/plain": [
       "<IPython.core.display.Markdown object>"
      ]
     },
     "metadata": {},
     "output_type": "display_data"
    },
    {
     "name": "stdout",
     "output_type": "stream",
     "text": [
      "Best-fit values for each (gas, band)\n",
      "------------------------------------\n",
      "o h2o band3a\n",
      "  atmpro = mls\n",
      "  band = 3a\n",
      "  commitnumber = a06b618\n",
      "  conc = None\n",
      "  dv = 0.001\n",
      "  klin = 0\n",
      "  molecule = h2o\n",
      "  ng_adju = [0, 0]\n",
      "  ng_refs = [2, 6]\n",
      "  nv = 1000\n",
      "  option_compute_btable = 0\n",
      "  option_compute_ktable = 1\n",
      "  option_wgt_flux = 1\n",
      "  option_wgt_k = 1\n",
      "  ref_pts = [(10, 250), (600, 250)]\n",
      "  tsfc = 294\n",
      "  vmax = 620\n",
      "  vmin = 540\n",
      "  w_diffuse = [(1.9, 1.7), (1.4, 1.4, 1.4, 1.55, 1.6, 1.66)]\n",
      "  wgt = [(0.7, 0.7), (0.7, 0.5, 0.5, 0.5, 0.5, 0.5)]\n",
      "o co2 band3a\n",
      "  atmpro = mls\n",
      "  band = 3a\n",
      "  commitnumber = a06b618\n",
      "  conc = 0.0004\n",
      "  dv = 0.001\n",
      "  klin = 6.375563e-24\n",
      "  molecule = co2\n",
      "  ng_adju = [0, 0, 0]\n",
      "  ng_refs = [3, 2, 4]\n",
      "  nv = 1000\n",
      "  option_compute_btable = 0\n",
      "  option_compute_ktable = 1\n",
      "  option_wgt_flux = 1\n",
      "  option_wgt_k = 1\n",
      "  ref_pts = [(1, 250), (10, 250), (500, 250)]\n",
      "  tsfc = 294\n",
      "  vmax = 620\n",
      "  vmin = 540\n",
      "  w_diffuse = [(1.6, 1.6, 1.7), (1.75, 1.75), (1.55, 1.55, 1.6, 1.85)]\n",
      "  wgt = [(0.7, 0.3, 0.7), (0.7, 0.6), (0.4, 0.5, 0.8, 0.95)]\n",
      "o n2o band3a\n",
      "  atmpro = mls\n",
      "  band = 3a\n",
      "  commitnumber = a06b618\n",
      "  conc = 3.2e-07\n",
      "  dv = 0.001\n",
      "  klin = 2.22e-20\n",
      "  molecule = n2o\n",
      "  ng_adju = [0, 0]\n",
      "  ng_refs = [1, 2]\n",
      "  nv = 1000\n",
      "  option_compute_btable = 0\n",
      "  option_compute_ktable = 1\n",
      "  option_wgt_flux = 1\n",
      "  option_wgt_k = 1\n",
      "  ref_pts = [(1, 250), (500, 250)]\n",
      "  tsfc = 294\n",
      "  vmax = 620\n",
      "  vmin = 540\n",
      "  w_diffuse = [(1.8,), (1.66, 1.8)]\n",
      "  wgt = [(0.9,), (0.5, 0.95)]\n"
     ]
    }
   ],
   "source": [
    "script()"
   ]
  },
  {
   "cell_type": "code",
   "execution_count": 13,
   "metadata": {
    "collapsed": true
   },
   "outputs": [
    {
     "data": {
      "text/html": [
       "<script>\n",
       "code_show=true; \n",
       "function code_toggle() {\n",
       " if (code_show){\n",
       " $('div.input').hide();\n",
       " } else {\n",
       " $('div.input').show();\n",
       " }\n",
       " code_show = !code_show\n",
       "} \n",
       "$( document ).ready(code_toggle);\n",
       "</script>\n",
       "<form action=\"javascript:code_toggle()\"><input type=\"submit\" value=\"Click here to toggle on/off the raw code.\"></form>"
      ],
      "text/plain": [
       "<IPython.core.display.HTML object>"
      ]
     },
     "execution_count": 13,
     "metadata": {},
     "output_type": "execute_result"
    }
   ],
   "source": [
    "display.HTML('''<script>\n",
    "code_show=true; \n",
    "function code_toggle() {\n",
    " if (code_show){\n",
    " $('div.input').hide();\n",
    " } else {\n",
    " $('div.input').show();\n",
    " }\n",
    " code_show = !code_show\n",
    "} \n",
    "$( document ).ready(code_toggle);\n",
    "</script>\n",
    "<form action=\"javascript:code_toggle()\"><input type=\"submit\" value=\"Click here to toggle on/off the raw code.\"></form>''')"
   ]
  }
 ],
 "metadata": {
  "kernelspec": {
   "display_name": "Python 3",
   "language": "python",
   "name": "python3"
  },
  "language_info": {
   "codemirror_mode": {
    "name": "ipython",
    "version": 3
   },
   "file_extension": ".py",
   "mimetype": "text/x-python",
   "name": "python",
   "nbconvert_exporter": "python",
   "pygments_lexer": "ipython3",
   "version": "3.6.1"
  }
 },
 "nbformat": 4,
 "nbformat_minor": 2
}
