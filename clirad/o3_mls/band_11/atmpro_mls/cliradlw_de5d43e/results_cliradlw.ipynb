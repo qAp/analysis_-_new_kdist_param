{
 "cells": [
  {
   "cell_type": "code",
   "execution_count": 1,
   "metadata": {
    "collapsed": true
   },
   "outputs": [],
   "source": [
    "%matplotlib inline\n",
    "import os\n",
    "import re\n",
    "import io\n",
    "import itertools\n",
    "import pprint\n",
    "\n",
    "from bokeh.io import output_notebook, show\n",
    "from bokeh.layouts import gridplot\n",
    "from bokeh.plotting import figure\n",
    "from bokeh.models import Range1d, Legend\n",
    "from bokeh.palettes import all_palettes\n",
    "\n",
    "import matplotlib\n",
    "import matplotlib.pyplot as plt\n",
    "import numpy as np\n",
    "import pandas as pd\n",
    "import xarray as xr\n",
    "\n",
    "import climatools.lblnew.bestfit_params as bestfits\n",
    "from climatools.lblnew import setup_bestfit, setup_overlap\n",
    "import climatools.lblnew.pipeline as pipe_lblnew\n",
    "import climatools.cliradlw.setup as setup_cliradlw\n",
    "import climatools.cliradlw.pipeline as pipe_cliradlw\n",
    "\n",
    "import climatools.html.html as climahtml\n",
    "from climatools.lblnew.dataio import *\n",
    "from climatools.plot.plot import *\n",
    "\n",
    "\n",
    "import IPython.display as display"
   ]
  },
  {
   "cell_type": "code",
   "execution_count": 2,
   "metadata": {
    "collapsed": true
   },
   "outputs": [],
   "source": [
    "%run param.py"
   ]
  },
  {
   "cell_type": "code",
   "execution_count": 3,
   "metadata": {
    "collapsed": true
   },
   "outputs": [],
   "source": [
    "def load_output_file(path_csv):\n",
    "    '''\n",
    "    Load lblnew output .csv file to xarray.Dataset\n",
    "    \n",
    "    Parameters\n",
    "    ----------\n",
    "    path_csv: str\n",
    "              Path to the .csv file to be loaded.\n",
    "    ds: xarray.Dataset\n",
    "        Data in the input file in the form of an xarray.Dataset.\n",
    "    '''\n",
    "    toindex = ['band', 'pressure', 'igg', 'g']    \n",
    "    df = pd.read_csv(path_csv, sep=r'\\s+')\n",
    "    df = df.set_index([i for i in toindex if i in df.columns])\n",
    "    df = df.rename(columns={'sfu': 'flug',\n",
    "                            'sfd': 'fldg',\n",
    "                            'fnet': 'fnetg',\n",
    "                            'coolr': 'coolrg'})\n",
    "    ds = xr.Dataset.from_dataframe(df)\n",
    "\n",
    "    for l in ('level', 'layer'):\n",
    "        if l in ds.data_vars:\n",
    "            if len(ds[l].dims) > 1:\n",
    "                surface = {d: 0 for d in ds.dims if d != 'pressure'}\n",
    "                coord_level = ds[l][surface]\n",
    "                ds.coords[l] = ('pressure', coord_level)\n",
    "            else:\n",
    "                ds.coords[l] = ('pressure', ds[l])\n",
    "    \n",
    "    return ds"
   ]
  },
  {
   "cell_type": "code",
   "execution_count": 4,
   "metadata": {
    "collapsed": true
   },
   "outputs": [],
   "source": [
    "def lblnew_setup(param=None):\n",
    "    if 'ng_refs' in param:\n",
    "        return {'setup': setup_bestfit,\n",
    "                'fname_flux_crd': 'output_flux.dat',\n",
    "                'fname_cool_crd': 'output_coolr.dat',\n",
    "                'fname_flux_wgt': 'output_wfluxg.dat',\n",
    "                'fname_cool_wgt': 'output_wcoolrg.dat'}\n",
    "    else:\n",
    "        return {'setup': setup_overlap,\n",
    "                'fname_flux_crd': 'output_flux.dat',\n",
    "                'fname_cool_crd': 'output_coolr.dat',\n",
    "                'fname_flux_wgt': 'output_wflux.dat',\n",
    "                'fname_cool_wgt': 'output_wcoolr.dat'}\n",
    "\n",
    "    \n",
    "def load_lblnew_data(param):\n",
    "    \n",
    "    fname_dsname = [('fname_flux_crd', 'ds_flux_crd'),\n",
    "                    ('fname_cool_crd', 'ds_cool_crd'),\n",
    "                    ('fname_flux_wgt', 'ds_flux_wgt'),\n",
    "                    ('fname_cool_wgt', 'ds_cool_wgt')]\n",
    "    \n",
    "    d = lblnew_setup(param)\n",
    "    dir_fortran = pipe_lblnew.get_dir_case(param, setup=d['setup'])\n",
    "    \n",
    "    data_dict = {}\n",
    "    for fname, dsname in fname_dsname:\n",
    "        fpath = os.path.join(dir_fortran, d[fname])\n",
    "        data_dict[dsname] = load_output_file(fpath)\n",
    "    return data_dict\n",
    "    \n",
    "\n",
    "    \n",
    "    "
   ]
  },
  {
   "cell_type": "code",
   "execution_count": 5,
   "metadata": {
    "collapsed": true
   },
   "outputs": [],
   "source": [
    "d = load_lblnew_data(PARAM_LBLNEW)\n",
    "\n",
    "DS_FLUX_CRD = d['ds_flux_crd']\n",
    "DS_COOL_CRD = d['ds_cool_crd']\n",
    "DS_FLUX_WGT = d['ds_flux_wgt']\n",
    "DS_COOL_WGT = d['ds_cool_wgt']"
   ]
  },
  {
   "cell_type": "code",
   "execution_count": 6,
   "metadata": {
    "collapsed": true
   },
   "outputs": [],
   "source": [
    "DIR_FORTRAN = pipe_cliradlw.get_fortran_dir(PARAM, \n",
    "                                            setup=setup_cliradlw)\n",
    "\n",
    "PATH_FLUX = os.path.join(DIR_FORTRAN, 'output_flux.dat')\n",
    "PATH_COOL = os.path.join(DIR_FORTRAN, 'output_coolr.dat')\n",
    "\n",
    "DS_FLUX = load_output_file(PATH_FLUX)\n",
    "DS_COOL = load_output_file(PATH_COOL)"
   ]
  },
  {
   "cell_type": "code",
   "execution_count": 7,
   "metadata": {
    "collapsed": true
   },
   "outputs": [
    {
     "data": {
      "text/html": [
       "\n",
       "    <div class=\"bk-root\">\n",
       "        <a href=\"https://bokeh.pydata.org\" target=\"_blank\" class=\"bk-logo bk-logo-small bk-logo-notebook\"></a>\n",
       "        <span id=\"10e834d8-f9d4-418c-9479-78ecde6d8386\">Loading BokehJS ...</span>\n",
       "    </div>"
      ]
     },
     "metadata": {},
     "output_type": "display_data"
    },
    {
     "data": {
      "application/javascript": [
       "\n",
       "(function(root) {\n",
       "  function now() {\n",
       "    return new Date();\n",
       "  }\n",
       "\n",
       "  var force = true;\n",
       "\n",
       "  if (typeof (root._bokeh_onload_callbacks) === \"undefined\" || force === true) {\n",
       "    root._bokeh_onload_callbacks = [];\n",
       "    root._bokeh_is_loading = undefined;\n",
       "  }\n",
       "\n",
       "  var JS_MIME_TYPE = 'application/javascript';\n",
       "  var HTML_MIME_TYPE = 'text/html';\n",
       "  var EXEC_MIME_TYPE = 'application/vnd.bokehjs_exec.v0+json';\n",
       "  var CLASS_NAME = 'output_bokeh rendered_html';\n",
       "\n",
       "  /**\n",
       "   * Render data to the DOM node\n",
       "   */\n",
       "  function render(props, node) {\n",
       "    var script = document.createElement(\"script\");\n",
       "    node.appendChild(script);\n",
       "  }\n",
       "\n",
       "  /**\n",
       "   * Handle when an output is cleared or removed\n",
       "   */\n",
       "  function handleClearOutput(event, handle) {\n",
       "    var cell = handle.cell;\n",
       "\n",
       "    var id = cell.output_area._bokeh_element_id;\n",
       "    var server_id = cell.output_area._bokeh_server_id;\n",
       "    // Clean up Bokeh references\n",
       "    if (id !== undefined) {\n",
       "      Bokeh.index[id].model.document.clear();\n",
       "      delete Bokeh.index[id];\n",
       "    }\n",
       "\n",
       "    if (server_id !== undefined) {\n",
       "      // Clean up Bokeh references\n",
       "      var cmd = \"from bokeh.io.state import curstate; print(curstate().uuid_to_server['\" + server_id + \"'].get_sessions()[0].document.roots[0]._id)\";\n",
       "      cell.notebook.kernel.execute(cmd, {\n",
       "        iopub: {\n",
       "          output: function(msg) {\n",
       "            var element_id = msg.content.text.trim();\n",
       "            Bokeh.index[element_id].model.document.clear();\n",
       "            delete Bokeh.index[element_id];\n",
       "          }\n",
       "        }\n",
       "      });\n",
       "      // Destroy server and session\n",
       "      var cmd = \"import bokeh.io.notebook as ion; ion.destroy_server('\" + server_id + \"')\";\n",
       "      cell.notebook.kernel.execute(cmd);\n",
       "    }\n",
       "  }\n",
       "\n",
       "  /**\n",
       "   * Handle when a new output is added\n",
       "   */\n",
       "  function handleAddOutput(event, handle) {\n",
       "    var output_area = handle.output_area;\n",
       "    var output = handle.output;\n",
       "\n",
       "    // limit handleAddOutput to display_data with EXEC_MIME_TYPE content only\n",
       "    if ((output.output_type != \"display_data\") || (!output.data.hasOwnProperty(EXEC_MIME_TYPE))) {\n",
       "      return\n",
       "    }\n",
       "\n",
       "    var toinsert = output_area.element.find(\".\" + CLASS_NAME.split(' ')[0]);\n",
       "\n",
       "    if (output.metadata[EXEC_MIME_TYPE][\"id\"] !== undefined) {\n",
       "      toinsert[toinsert.length - 1].firstChild.textContent = output.data[JS_MIME_TYPE];\n",
       "      // store reference to embed id on output_area\n",
       "      output_area._bokeh_element_id = output.metadata[EXEC_MIME_TYPE][\"id\"];\n",
       "    }\n",
       "    if (output.metadata[EXEC_MIME_TYPE][\"server_id\"] !== undefined) {\n",
       "      var bk_div = document.createElement(\"div\");\n",
       "      bk_div.innerHTML = output.data[HTML_MIME_TYPE];\n",
       "      var script_attrs = bk_div.children[0].attributes;\n",
       "      for (var i = 0; i < script_attrs.length; i++) {\n",
       "        toinsert[toinsert.length - 1].firstChild.setAttribute(script_attrs[i].name, script_attrs[i].value);\n",
       "      }\n",
       "      // store reference to server id on output_area\n",
       "      output_area._bokeh_server_id = output.metadata[EXEC_MIME_TYPE][\"server_id\"];\n",
       "    }\n",
       "  }\n",
       "\n",
       "  function register_renderer(events, OutputArea) {\n",
       "\n",
       "    function append_mime(data, metadata, element) {\n",
       "      // create a DOM node to render to\n",
       "      var toinsert = this.create_output_subarea(\n",
       "        metadata,\n",
       "        CLASS_NAME,\n",
       "        EXEC_MIME_TYPE\n",
       "      );\n",
       "      this.keyboard_manager.register_events(toinsert);\n",
       "      // Render to node\n",
       "      var props = {data: data, metadata: metadata[EXEC_MIME_TYPE]};\n",
       "      render(props, toinsert[toinsert.length - 1]);\n",
       "      element.append(toinsert);\n",
       "      return toinsert\n",
       "    }\n",
       "\n",
       "    /* Handle when an output is cleared or removed */\n",
       "    events.on('clear_output.CodeCell', handleClearOutput);\n",
       "    events.on('delete.Cell', handleClearOutput);\n",
       "\n",
       "    /* Handle when a new output is added */\n",
       "    events.on('output_added.OutputArea', handleAddOutput);\n",
       "\n",
       "    /**\n",
       "     * Register the mime type and append_mime function with output_area\n",
       "     */\n",
       "    OutputArea.prototype.register_mime_type(EXEC_MIME_TYPE, append_mime, {\n",
       "      /* Is output safe? */\n",
       "      safe: true,\n",
       "      /* Index of renderer in `output_area.display_order` */\n",
       "      index: 0\n",
       "    });\n",
       "  }\n",
       "\n",
       "  // register the mime type if in Jupyter Notebook environment and previously unregistered\n",
       "  if (root.Jupyter !== undefined) {\n",
       "    var events = require('base/js/events');\n",
       "    var OutputArea = require('notebook/js/outputarea').OutputArea;\n",
       "\n",
       "    if (OutputArea.prototype.mime_types().indexOf(EXEC_MIME_TYPE) == -1) {\n",
       "      register_renderer(events, OutputArea);\n",
       "    }\n",
       "  }\n",
       "\n",
       "  \n",
       "  if (typeof (root._bokeh_timeout) === \"undefined\" || force === true) {\n",
       "    root._bokeh_timeout = Date.now() + 5000;\n",
       "    root._bokeh_failed_load = false;\n",
       "  }\n",
       "\n",
       "  var NB_LOAD_WARNING = {'data': {'text/html':\n",
       "     \"<div style='background-color: #fdd'>\\n\"+\n",
       "     \"<p>\\n\"+\n",
       "     \"BokehJS does not appear to have successfully loaded. If loading BokehJS from CDN, this \\n\"+\n",
       "     \"may be due to a slow or bad network connection. Possible fixes:\\n\"+\n",
       "     \"</p>\\n\"+\n",
       "     \"<ul>\\n\"+\n",
       "     \"<li>re-rerun `output_notebook()` to attempt to load from CDN again, or</li>\\n\"+\n",
       "     \"<li>use INLINE resources instead, as so:</li>\\n\"+\n",
       "     \"</ul>\\n\"+\n",
       "     \"<code>\\n\"+\n",
       "     \"from bokeh.resources import INLINE\\n\"+\n",
       "     \"output_notebook(resources=INLINE)\\n\"+\n",
       "     \"</code>\\n\"+\n",
       "     \"</div>\"}};\n",
       "\n",
       "  function display_loaded() {\n",
       "    var el = document.getElementById(\"10e834d8-f9d4-418c-9479-78ecde6d8386\");\n",
       "    if (el != null) {\n",
       "      el.textContent = \"BokehJS is loading...\";\n",
       "    }\n",
       "    if (root.Bokeh !== undefined) {\n",
       "      if (el != null) {\n",
       "        el.textContent = \"BokehJS \" + root.Bokeh.version + \" successfully loaded.\";\n",
       "      }\n",
       "    } else if (Date.now() < root._bokeh_timeout) {\n",
       "      setTimeout(display_loaded, 100)\n",
       "    }\n",
       "  }\n",
       "\n",
       "\n",
       "  function run_callbacks() {\n",
       "    try {\n",
       "      root._bokeh_onload_callbacks.forEach(function(callback) { callback() });\n",
       "    }\n",
       "    finally {\n",
       "      delete root._bokeh_onload_callbacks\n",
       "    }\n",
       "    console.info(\"Bokeh: all callbacks have finished\");\n",
       "  }\n",
       "\n",
       "  function load_libs(js_urls, callback) {\n",
       "    root._bokeh_onload_callbacks.push(callback);\n",
       "    if (root._bokeh_is_loading > 0) {\n",
       "      console.log(\"Bokeh: BokehJS is being loaded, scheduling callback at\", now());\n",
       "      return null;\n",
       "    }\n",
       "    if (js_urls == null || js_urls.length === 0) {\n",
       "      run_callbacks();\n",
       "      return null;\n",
       "    }\n",
       "    console.log(\"Bokeh: BokehJS not loaded, scheduling load and callback at\", now());\n",
       "    root._bokeh_is_loading = js_urls.length;\n",
       "    for (var i = 0; i < js_urls.length; i++) {\n",
       "      var url = js_urls[i];\n",
       "      var s = document.createElement('script');\n",
       "      s.src = url;\n",
       "      s.async = false;\n",
       "      s.onreadystatechange = s.onload = function() {\n",
       "        root._bokeh_is_loading--;\n",
       "        if (root._bokeh_is_loading === 0) {\n",
       "          console.log(\"Bokeh: all BokehJS libraries loaded\");\n",
       "          run_callbacks()\n",
       "        }\n",
       "      };\n",
       "      s.onerror = function() {\n",
       "        console.warn(\"failed to load library \" + url);\n",
       "      };\n",
       "      console.log(\"Bokeh: injecting script tag for BokehJS library: \", url);\n",
       "      document.getElementsByTagName(\"head\")[0].appendChild(s);\n",
       "    }\n",
       "  };var element = document.getElementById(\"10e834d8-f9d4-418c-9479-78ecde6d8386\");\n",
       "  if (element == null) {\n",
       "    console.log(\"Bokeh: ERROR: autoload.js configured with elementid '10e834d8-f9d4-418c-9479-78ecde6d8386' but no matching script tag was found. \")\n",
       "    return false;\n",
       "  }\n",
       "\n",
       "  var js_urls = [\"https://cdn.pydata.org/bokeh/release/bokeh-0.12.16.min.js\", \"https://cdn.pydata.org/bokeh/release/bokeh-widgets-0.12.16.min.js\", \"https://cdn.pydata.org/bokeh/release/bokeh-tables-0.12.16.min.js\", \"https://cdn.pydata.org/bokeh/release/bokeh-gl-0.12.16.min.js\"];\n",
       "\n",
       "  var inline_js = [\n",
       "    function(Bokeh) {\n",
       "      Bokeh.set_log_level(\"info\");\n",
       "    },\n",
       "    \n",
       "    function(Bokeh) {\n",
       "      \n",
       "    },\n",
       "    function(Bokeh) {\n",
       "      console.log(\"Bokeh: injecting CSS: https://cdn.pydata.org/bokeh/release/bokeh-0.12.16.min.css\");\n",
       "      Bokeh.embed.inject_css(\"https://cdn.pydata.org/bokeh/release/bokeh-0.12.16.min.css\");\n",
       "      console.log(\"Bokeh: injecting CSS: https://cdn.pydata.org/bokeh/release/bokeh-widgets-0.12.16.min.css\");\n",
       "      Bokeh.embed.inject_css(\"https://cdn.pydata.org/bokeh/release/bokeh-widgets-0.12.16.min.css\");\n",
       "      console.log(\"Bokeh: injecting CSS: https://cdn.pydata.org/bokeh/release/bokeh-tables-0.12.16.min.css\");\n",
       "      Bokeh.embed.inject_css(\"https://cdn.pydata.org/bokeh/release/bokeh-tables-0.12.16.min.css\");\n",
       "    }\n",
       "  ];\n",
       "\n",
       "  function run_inline_js() {\n",
       "    \n",
       "    if ((root.Bokeh !== undefined) || (force === true)) {\n",
       "      for (var i = 0; i < inline_js.length; i++) {\n",
       "        inline_js[i].call(root, root.Bokeh);\n",
       "      }if (force === true) {\n",
       "        display_loaded();\n",
       "      }} else if (Date.now() < root._bokeh_timeout) {\n",
       "      setTimeout(run_inline_js, 100);\n",
       "    } else if (!root._bokeh_failed_load) {\n",
       "      console.log(\"Bokeh: BokehJS failed to load within specified timeout.\");\n",
       "      root._bokeh_failed_load = true;\n",
       "    } else if (force !== true) {\n",
       "      var cell = $(document.getElementById(\"10e834d8-f9d4-418c-9479-78ecde6d8386\")).parents('.cell').data().cell;\n",
       "      cell.output_area.append_execute_result(NB_LOAD_WARNING)\n",
       "    }\n",
       "\n",
       "  }\n",
       "\n",
       "  if (root._bokeh_is_loading === 0) {\n",
       "    console.log(\"Bokeh: BokehJS loaded, going straight to plotting\");\n",
       "    run_inline_js();\n",
       "  } else {\n",
       "    load_libs(js_urls, function() {\n",
       "      console.log(\"Bokeh: BokehJS plotting callback run at\", now());\n",
       "      run_inline_js();\n",
       "    });\n",
       "  }\n",
       "}(window));"
      ],
      "application/vnd.bokehjs_load.v0+json": "\n(function(root) {\n  function now() {\n    return new Date();\n  }\n\n  var force = true;\n\n  if (typeof (root._bokeh_onload_callbacks) === \"undefined\" || force === true) {\n    root._bokeh_onload_callbacks = [];\n    root._bokeh_is_loading = undefined;\n  }\n\n  \n\n  \n  if (typeof (root._bokeh_timeout) === \"undefined\" || force === true) {\n    root._bokeh_timeout = Date.now() + 5000;\n    root._bokeh_failed_load = false;\n  }\n\n  var NB_LOAD_WARNING = {'data': {'text/html':\n     \"<div style='background-color: #fdd'>\\n\"+\n     \"<p>\\n\"+\n     \"BokehJS does not appear to have successfully loaded. If loading BokehJS from CDN, this \\n\"+\n     \"may be due to a slow or bad network connection. Possible fixes:\\n\"+\n     \"</p>\\n\"+\n     \"<ul>\\n\"+\n     \"<li>re-rerun `output_notebook()` to attempt to load from CDN again, or</li>\\n\"+\n     \"<li>use INLINE resources instead, as so:</li>\\n\"+\n     \"</ul>\\n\"+\n     \"<code>\\n\"+\n     \"from bokeh.resources import INLINE\\n\"+\n     \"output_notebook(resources=INLINE)\\n\"+\n     \"</code>\\n\"+\n     \"</div>\"}};\n\n  function display_loaded() {\n    var el = document.getElementById(\"10e834d8-f9d4-418c-9479-78ecde6d8386\");\n    if (el != null) {\n      el.textContent = \"BokehJS is loading...\";\n    }\n    if (root.Bokeh !== undefined) {\n      if (el != null) {\n        el.textContent = \"BokehJS \" + root.Bokeh.version + \" successfully loaded.\";\n      }\n    } else if (Date.now() < root._bokeh_timeout) {\n      setTimeout(display_loaded, 100)\n    }\n  }\n\n\n  function run_callbacks() {\n    try {\n      root._bokeh_onload_callbacks.forEach(function(callback) { callback() });\n    }\n    finally {\n      delete root._bokeh_onload_callbacks\n    }\n    console.info(\"Bokeh: all callbacks have finished\");\n  }\n\n  function load_libs(js_urls, callback) {\n    root._bokeh_onload_callbacks.push(callback);\n    if (root._bokeh_is_loading > 0) {\n      console.log(\"Bokeh: BokehJS is being loaded, scheduling callback at\", now());\n      return null;\n    }\n    if (js_urls == null || js_urls.length === 0) {\n      run_callbacks();\n      return null;\n    }\n    console.log(\"Bokeh: BokehJS not loaded, scheduling load and callback at\", now());\n    root._bokeh_is_loading = js_urls.length;\n    for (var i = 0; i < js_urls.length; i++) {\n      var url = js_urls[i];\n      var s = document.createElement('script');\n      s.src = url;\n      s.async = false;\n      s.onreadystatechange = s.onload = function() {\n        root._bokeh_is_loading--;\n        if (root._bokeh_is_loading === 0) {\n          console.log(\"Bokeh: all BokehJS libraries loaded\");\n          run_callbacks()\n        }\n      };\n      s.onerror = function() {\n        console.warn(\"failed to load library \" + url);\n      };\n      console.log(\"Bokeh: injecting script tag for BokehJS library: \", url);\n      document.getElementsByTagName(\"head\")[0].appendChild(s);\n    }\n  };var element = document.getElementById(\"10e834d8-f9d4-418c-9479-78ecde6d8386\");\n  if (element == null) {\n    console.log(\"Bokeh: ERROR: autoload.js configured with elementid '10e834d8-f9d4-418c-9479-78ecde6d8386' but no matching script tag was found. \")\n    return false;\n  }\n\n  var js_urls = [\"https://cdn.pydata.org/bokeh/release/bokeh-0.12.16.min.js\", \"https://cdn.pydata.org/bokeh/release/bokeh-widgets-0.12.16.min.js\", \"https://cdn.pydata.org/bokeh/release/bokeh-tables-0.12.16.min.js\", \"https://cdn.pydata.org/bokeh/release/bokeh-gl-0.12.16.min.js\"];\n\n  var inline_js = [\n    function(Bokeh) {\n      Bokeh.set_log_level(\"info\");\n    },\n    \n    function(Bokeh) {\n      \n    },\n    function(Bokeh) {\n      console.log(\"Bokeh: injecting CSS: https://cdn.pydata.org/bokeh/release/bokeh-0.12.16.min.css\");\n      Bokeh.embed.inject_css(\"https://cdn.pydata.org/bokeh/release/bokeh-0.12.16.min.css\");\n      console.log(\"Bokeh: injecting CSS: https://cdn.pydata.org/bokeh/release/bokeh-widgets-0.12.16.min.css\");\n      Bokeh.embed.inject_css(\"https://cdn.pydata.org/bokeh/release/bokeh-widgets-0.12.16.min.css\");\n      console.log(\"Bokeh: injecting CSS: https://cdn.pydata.org/bokeh/release/bokeh-tables-0.12.16.min.css\");\n      Bokeh.embed.inject_css(\"https://cdn.pydata.org/bokeh/release/bokeh-tables-0.12.16.min.css\");\n    }\n  ];\n\n  function run_inline_js() {\n    \n    if ((root.Bokeh !== undefined) || (force === true)) {\n      for (var i = 0; i < inline_js.length; i++) {\n        inline_js[i].call(root, root.Bokeh);\n      }if (force === true) {\n        display_loaded();\n      }} else if (Date.now() < root._bokeh_timeout) {\n      setTimeout(run_inline_js, 100);\n    } else if (!root._bokeh_failed_load) {\n      console.log(\"Bokeh: BokehJS failed to load within specified timeout.\");\n      root._bokeh_failed_load = true;\n    } else if (force !== true) {\n      var cell = $(document.getElementById(\"10e834d8-f9d4-418c-9479-78ecde6d8386\")).parents('.cell').data().cell;\n      cell.output_area.append_execute_result(NB_LOAD_WARNING)\n    }\n\n  }\n\n  if (root._bokeh_is_loading === 0) {\n    console.log(\"Bokeh: BokehJS loaded, going straight to plotting\");\n    run_inline_js();\n  } else {\n    load_libs(js_urls, function() {\n      console.log(\"Bokeh: BokehJS plotting callback run at\", now());\n      run_inline_js();\n    });\n  }\n}(window));"
     },
     "metadata": {},
     "output_type": "display_data"
    }
   ],
   "source": [
    "output_notebook()"
   ]
  },
  {
   "cell_type": "code",
   "execution_count": 8,
   "metadata": {
    "collapsed": true
   },
   "outputs": [],
   "source": [
    "def fmt_cool(ds_in):\n",
    "    ds = ds_in.copy(deep=True)\n",
    "    if 'igg' in ds.dims:\n",
    "        ds = ds.sel(igg=1)\n",
    "\n",
    "    if 'g' in ds.dims:\n",
    "        ds = ds.sum('g')\n",
    "            \n",
    "    if 'band' in ds.dims:\n",
    "        try:\n",
    "            ds = ds.squeeze('band')\n",
    "        except ValueError:\n",
    "            ds = ds.sum('band')\n",
    "                \n",
    "    return ds['coolrg']\n",
    "\n",
    "\n",
    "def pltdata_cooling_1(ds_cool=None,\n",
    "                      ds_cool_crd=None, ds_cool_wgt=None):\n",
    "    \n",
    "\n",
    "\n",
    "    colors = all_palettes['Set1'][4]\n",
    "    data = [{'label': 'CLIRAD `coolr_bands`',\n",
    "             'srs': fmt_cool(ds_cool),\n",
    "             'line_dash': 'dashed', 'line_width': 5,\n",
    "             'color': colors[0], 'alpha': .6},\n",
    "            {'label': 'CRD',\n",
    "             'srs': fmt_cool(ds_cool_crd),\n",
    "             'line_dash': 'solid', 'line_width': 1.5,\n",
    "             'marker': 'circle', 'marker_size': 5,\n",
    "             'color': colors[2], 'alpha': 1,},\n",
    "            {'label': 'WGT igg=10 wgt_flux=2',\n",
    "             'srs': fmt_cool(ds_cool_wgt),\n",
    "             'line_dash': 'solid', 'line_width': 3,\n",
    "             'marker': 'square', 'marker_size': 5,\n",
    "             'color': colors[3], 'alpha': .6}]\n",
    "    return data\n",
    "\n",
    "\n",
    "def nice_xlims(pltdata=None, prange=None):\n",
    "    \n",
    "    def get_slice(srs):\n",
    "        return srs.sel(pressure=slice(*prange))\n",
    "    \n",
    "    srss = [d['srs'] for d in pltdata]\n",
    "    vmin = min([get_slice(srs).min() for srs in srss])\n",
    "    vmax = max([get_slice(srs).max() for srs in srss])\n",
    "    dv = (vmax - vmin) * .01\n",
    "    return float(vmin - dv), float(vmax + dv)\n",
    "    \n",
    "\n",
    "def plt_cooling_bokeh(pltdata=None):\n",
    "    '''\n",
    "    Plot a list of cooling rate profiles using bokeh.\n",
    "    '''\n",
    "    ymin = 1e-2 \n",
    "    ymax = 1020 \n",
    "        \n",
    "    p1 = figure(title=\"Linear pressure scale\", \n",
    "                plot_width=400)        \n",
    "    xmin, xmax = nice_xlims(pltdata, prange=(50, 1050))\n",
    "    for d in pltdata:\n",
    "        if 'marker' in d:\n",
    "            getattr(p1, d['marker'])(d['srs'].values, \n",
    "                    d['srs'].coords['pressure'].values,\n",
    "                    color=d['color'], alpha=.7)\n",
    "        p1.line(d['srs'].values, \n",
    "                d['srs'].coords['pressure'].values,\n",
    "                color=d['color'], alpha=d['alpha'], \n",
    "                line_width=d['line_width'], line_dash=d['line_dash'])\n",
    "    \n",
    "    p1.y_range = Range1d(ymax, ymin)\n",
    "    p1.yaxis.axis_label = 'pressure [mb]'   \n",
    "    p1.x_range = Range1d(xmin, xmax)\n",
    "    p1.xaxis.axis_label = 'cooling rate [K/day]'\n",
    "            \n",
    "    p2 = figure(title='Log pressure scale', y_axis_type='log',\n",
    "                plot_width=560)\n",
    "    xmin, xmax = nice_xlims(pltdata, prange=(.01, 200))\n",
    "    \n",
    "    rs = []\n",
    "    for d in pltdata:\n",
    "        rd = []\n",
    "        if 'marker' in d:\n",
    "            r_mark = getattr(p2, d['marker'])(d['srs'].values, \n",
    "                        d['srs'].coords['pressure'].values,\n",
    "                        color=d['color'], alpha=.7)\n",
    "            rd.append(r_mark)\n",
    "        r_line = p2.line(d['srs'].values, \n",
    "                    d['srs'].coords['pressure'].values,\n",
    "                    color=d['color'], alpha=d['alpha'], \n",
    "                    line_width=d['line_width'], line_dash=d['line_dash'])\n",
    "        rd.append(r_line)\n",
    "      \n",
    "        rs.append(rd)\n",
    "        \n",
    "    p2.y_range = Range1d(ymax, ymin)  \n",
    "    p2.yaxis.axis_label = 'pressure [mb]'\n",
    "    \n",
    "    p2.x_range = Range1d(xmin, xmax)\n",
    "    p2.xaxis.axis_label = 'cooling rate [K/day]'\n",
    "    \n",
    "    items = [(d['label'], r) for r, d in zip(rs, pltdata)]\n",
    "    legend = Legend(items=items, location=(10, -30))\n",
    "    legend.label_text_font_size = '8pt'\n",
    "    \n",
    "    p2.add_layout(legend, 'right')  \n",
    "    \n",
    "    show(gridplot(p1, p2, ncols=2, plot_height=500))\n",
    "    \n",
    "\n",
    "def script_plt_cooling():\n",
    "    pltdata = pltdata_cooling_1(\n",
    "        ds_cool=DS_COOL,\n",
    "        ds_cool_crd=DS_COOL_CRD,\n",
    "        ds_cool_wgt=DS_COOL_WGT)\n",
    "    plt_cooling_bokeh(pltdata=pltdata)\n",
    "    print('''FIGURE. Cooling rate profiles.''')"
   ]
  },
  {
   "cell_type": "code",
   "execution_count": 9,
   "metadata": {
    "collapsed": true
   },
   "outputs": [],
   "source": [
    "def fmt_flux(ds_in):\n",
    "    ds = ds_in.copy(deep=True)\n",
    "    \n",
    "    for l in ('level', 'layer'):\n",
    "        if l in ds.data_vars:\n",
    "            if len(ds[l].dims) > 1:\n",
    "                surface = {d: 0 for d in ds.dims if d != 'pressure'}\n",
    "                coord_level = ds[l][surface]\n",
    "                ds.coords[l] = ('pressure', coord_level)\n",
    "            else:\n",
    "                ds.coords[l] = ('pressure', ds[l])\n",
    "        \n",
    "    ds = ds.isel(pressure=[0, 23, -1])\n",
    "        \n",
    "    if 'igg' in ds.dims:\n",
    "        ds = ds.sel(igg=[1])\n",
    "        ds = ds.squeeze('igg').drop('igg')\n",
    "    \n",
    "    if 'g' in ds.dims:\n",
    "        ds = ds.sum('g')\n",
    "            \n",
    "    if 'band' in ds.dims:\n",
    "        try:\n",
    "            ds = ds.squeeze('band').drop('band')\n",
    "        except ValueError:\n",
    "            ds = ds.sum('band')\n",
    "                \n",
    "    df = ds.to_dataframe()\n",
    "    df = df.set_index('level', append=True)               \n",
    "    return df\n",
    "\n",
    "\n",
    "def tbdata_flux(ds_flux=None, ds_flux_crd=None, ds_flux_wgt=None):\n",
    "    ilevels = [0, 23, -1]\n",
    "            \n",
    "    benchmark = {'label': 'CRD',\n",
    "                 'df': fmt_flux(ds_flux_crd)}\n",
    "    \n",
    "    tbs = [{'label': 'WGT igg=10 wgt_flux=1',\n",
    "            'df': fmt_flux(ds_flux_wgt)},\n",
    "           {'label': 'CLIRAD',\n",
    "            'df': fmt_flux(ds_flux)}]\n",
    "    \n",
    "    data = {'benchmark': benchmark, 'others': tbs}\n",
    "    return data\n",
    "\n",
    "\n",
    "def tb_flux(tbdata=None):\n",
    "    benchmark = tbdata['benchmark']\n",
    "    others = tbdata['others']\n",
    "    \n",
    "    def show_tb(d=None):\n",
    "        display.display(d['df'])\n",
    "        print('Table.', 'Fluxes.', d['label'])\n",
    "        \n",
    "    def show_tbdiff(d0=None, d=None):\n",
    "        df = d['df']\n",
    "        df.index = d0['df'].index\n",
    "        display.display(df - d0['df'])\n",
    "        print('Table.', 'Fluxes.', \n",
    "              '({}) - ({})'.format(d['label'], d0['label']))\n",
    "        \n",
    "    show_tb(benchmark)\n",
    "    for d in others:\n",
    "        show_tb(d)\n",
    "        \n",
    "    for d in others:\n",
    "        show_tbdiff(d=d, d0=benchmark)\n",
    "        \n",
    "        \n",
    "def script_tb_flux():\n",
    "    data = tbdata_flux(ds_flux=DS_FLUX,\n",
    "                       ds_flux_crd=DS_FLUX_CRD,\n",
    "                       ds_flux_wgt=DS_FLUX_WGT)\n",
    "    tb_flux(tbdata=data)"
   ]
  },
  {
   "cell_type": "code",
   "execution_count": 10,
   "metadata": {
    "collapsed": true
   },
   "outputs": [],
   "source": [
    "def band_map():\n",
    "    '''\n",
    "    Maps spectral bands in lblnew to spectral bands in clirad.\n",
    "    '''\n",
    "    lblnew2clirad = {'1': '1',\n",
    "            '2': '2',\n",
    "            '3a': '3',\n",
    "            '3b': '4',\n",
    "            '3c': '5',\n",
    "            '4': '6', \n",
    "            '5': '7',\n",
    "            '6': '8',\n",
    "            '7': '9', \n",
    "            '8': '10',\n",
    "            '9': '11'}\n",
    "    \n",
    "    clirad2lblnew = {clirad: lblnew \n",
    "                     for lblnew, clirad in lblnew2clirad.items()}\n",
    "    return clirad2lblnew\n",
    "\n",
    "\n",
    "def gasbands():\n",
    "    bmap = band_map()\n",
    "    gases = list(PARAM['molecule'].keys())\n",
    "    \n",
    "    bands = [bmap[str(b)] for b in PARAM['band']]\n",
    "    return list(itertools.product(gases, bands))\n",
    "\n",
    "\n",
    "def print_bestfit_params():\n",
    "    print('Best-fit values for each (gas, band)')\n",
    "    print('------------------------------------')\n",
    "    for gas, band in gasbands():\n",
    "        print('o {} band{}'.format(gas, band))\n",
    "        param = bestfits.kdist_params(molecule=gas, band=band)\n",
    "        for name, value in sorted(param.items()):\n",
    "            print(2 * ' ' + '{} = {}'.format(name, value))\n",
    "\n",
    "        \n",
    "def print_input_param():        \n",
    "    for name, value in PARAM.items():\n",
    "        print('{} = {}'.format(name, value))\n",
    "        \n",
    "        \n",
    "def print_lblnew_param():\n",
    "    for name, value in sorted(PARAM_LBLNEW.items()):\n",
    "        print('{} = {}'.format(name, value))\n"
   ]
  },
  {
   "cell_type": "code",
   "execution_count": 11,
   "metadata": {
    "collapsed": true,
    "scrolled": false
   },
   "outputs": [],
   "source": [
    "def show_html(s):\n",
    "    display.display(display.HTML(s))\n",
    "\n",
    "    \n",
    "def show_markdown(s):\n",
    "    display.display(display.Markdown(s))\n",
    "\n",
    "    \n",
    "def script():\n",
    "    \n",
    "    title = '### CLIRAD-LW'\n",
    "    s_input = 'Input Parameters'\n",
    "    s_lblnew_param = 'LBLNEW case compaired against'\n",
    "    s_bestfits = 'Best-fit Parameters'\n",
    "    s_plt_cooling = 'Cooling Rate Profiles'\n",
    "    s_tb_flux = 'Flux Comparison'\n",
    "    \n",
    "    # title\n",
    "    show_markdown('### CLIRAD-LW')\n",
    "    \n",
    "    # TOC\n",
    "    show_markdown('### Table of Contents')\n",
    "    show_html(climahtml.getHTML_hrefanchor(s_input))\n",
    "    show_html(climahtml.getHTML_hrefanchor(s_lblnew_param))\n",
    "    show_html(climahtml.getHTML_hrefanchor(s_plt_cooling))\n",
    "    show_html(climahtml.getHTML_hrefanchor(s_tb_flux))\n",
    "    show_html(climahtml.getHTML_hrefanchor(s_bestfits))\n",
    "    \n",
    "    # Input parameters\n",
    "    show_html(climahtml.getHTML_idanchor(s_input))\n",
    "    show_markdown(climahtml.getMarkdown_sectitle(s_input))\n",
    "    print_input_param()\n",
    "    \n",
    "    # LBLNEW parameters \n",
    "    show_html(climahtml.getHTML_idanchor(s_lblnew_param))\n",
    "    show_markdown(climahtml.getMarkdown_sectitle(s_lblnew_param))\n",
    "    print_lblnew_param()\n",
    "    \n",
    "    # Cooling rate profiles\n",
    "    show_html(climahtml.getHTML_idanchor(s_plt_cooling))\n",
    "    show_markdown(climahtml.getMarkdown_sectitle(s_plt_cooling))\n",
    "    script_plt_cooling()\n",
    "    \n",
    "    # Flux comparison\n",
    "    show_html(climahtml.getHTML_idanchor(s_tb_flux))\n",
    "    show_markdown(climahtml.getMarkdown_sectitle(s_tb_flux))\n",
    "    script_tb_flux()\n",
    "    \n",
    "    # Best-fit values\n",
    "    show_html(climahtml.getHTML_idanchor(s_bestfits))\n",
    "    show_markdown(climahtml.getMarkdown_sectitle(s_bestfits))\n",
    "    print_bestfit_params()\n",
    "   \n",
    "    "
   ]
  },
  {
   "cell_type": "code",
   "execution_count": 12,
   "metadata": {
    "collapsed": true,
    "scrolled": false
   },
   "outputs": [
    {
     "data": {
      "text/markdown": [
       "### CLIRAD-LW"
      ],
      "text/plain": [
       "<IPython.core.display.Markdown object>"
      ]
     },
     "metadata": {},
     "output_type": "display_data"
    },
    {
     "data": {
      "text/markdown": [
       "### Table of Contents"
      ],
      "text/plain": [
       "<IPython.core.display.Markdown object>"
      ]
     },
     "metadata": {},
     "output_type": "display_data"
    },
    {
     "data": {
      "text/html": [
       "<a href=\"#Input_Parameters\">Input Parameters</a>"
      ],
      "text/plain": [
       "<IPython.core.display.HTML object>"
      ]
     },
     "metadata": {},
     "output_type": "display_data"
    },
    {
     "data": {
      "text/html": [
       "<a href=\"#LBLNEW_case_compaired_against\">LBLNEW case compaired against</a>"
      ],
      "text/plain": [
       "<IPython.core.display.HTML object>"
      ]
     },
     "metadata": {},
     "output_type": "display_data"
    },
    {
     "data": {
      "text/html": [
       "<a href=\"#Cooling_Rate_Profiles\">Cooling Rate Profiles</a>"
      ],
      "text/plain": [
       "<IPython.core.display.HTML object>"
      ]
     },
     "metadata": {},
     "output_type": "display_data"
    },
    {
     "data": {
      "text/html": [
       "<a href=\"#Flux_Comparison\">Flux Comparison</a>"
      ],
      "text/plain": [
       "<IPython.core.display.HTML object>"
      ]
     },
     "metadata": {},
     "output_type": "display_data"
    },
    {
     "data": {
      "text/html": [
       "<a href=\"#Best-fit_Parameters\">Best-fit Parameters</a>"
      ],
      "text/plain": [
       "<IPython.core.display.HTML object>"
      ]
     },
     "metadata": {},
     "output_type": "display_data"
    },
    {
     "data": {
      "text/html": [
       "<a id=\"Input_Parameters\"></a>"
      ],
      "text/plain": [
       "<IPython.core.display.HTML object>"
      ]
     },
     "metadata": {},
     "output_type": "display_data"
    },
    {
     "data": {
      "text/markdown": [
       "# Input Parameters"
      ],
      "text/plain": [
       "<IPython.core.display.Markdown object>"
      ]
     },
     "metadata": {},
     "output_type": "display_data"
    },
    {
     "name": "stdout",
     "output_type": "stream",
     "text": [
      "atmpro = mls\n",
      "band = [11]\n",
      "commitnumber = de5d43e\n",
      "molecule = {'o3': 'atmpro'}\n",
      "tsfc = 294\n"
     ]
    },
    {
     "data": {
      "text/html": [
       "<a id=\"LBLNEW_case_compaired_against\"></a>"
      ],
      "text/plain": [
       "<IPython.core.display.HTML object>"
      ]
     },
     "metadata": {},
     "output_type": "display_data"
    },
    {
     "data": {
      "text/markdown": [
       "# LBLNEW case compaired against"
      ],
      "text/plain": [
       "<IPython.core.display.Markdown object>"
      ]
     },
     "metadata": {},
     "output_type": "display_data"
    },
    {
     "name": "stdout",
     "output_type": "stream",
     "text": [
      "atmpro = mls\n",
      "band = 9\n",
      "commitnumber = 5014a19\n",
      "conc = None\n",
      "dv = 0.001\n",
      "klin = 2e-20\n",
      "molecule = o3\n",
      "ng_adju = [0, 0]\n",
      "ng_refs = [2, 5]\n",
      "nv = 1000\n",
      "option_compute_btable = 0\n",
      "option_compute_ktable = 0\n",
      "option_wgt_flux = 1\n",
      "option_wgt_k = 1\n",
      "ref_pts = [(1, 250), (50, 250)]\n",
      "tsfc = 294\n",
      "vmax = 3000\n",
      "vmin = 1900\n",
      "w_diffuse = [(1.55, 1.55), (1.55, 1.55, 1.55, 1.55, 1.8)]\n",
      "wgt = [(0.3, 0.4), (0.5, 0.6, 0.7, 0.85, 0.9)]\n"
     ]
    },
    {
     "data": {
      "text/html": [
       "<a id=\"Cooling_Rate_Profiles\"></a>"
      ],
      "text/plain": [
       "<IPython.core.display.HTML object>"
      ]
     },
     "metadata": {},
     "output_type": "display_data"
    },
    {
     "data": {
      "text/markdown": [
       "# Cooling Rate Profiles"
      ],
      "text/plain": [
       "<IPython.core.display.Markdown object>"
      ]
     },
     "metadata": {},
     "output_type": "display_data"
    },
    {
     "data": {
      "text/html": [
       "\n",
       "<div class=\"bk-root\">\n",
       "    <div class=\"bk-plotdiv\" id=\"5485dff2-6750-4a28-9d2b-d987cdff53ae\"></div>\n",
       "</div>"
      ]
     },
     "metadata": {},
     "output_type": "display_data"
    },
    {
     "data": {
      "application/javascript": [
       "(function(root) {\n",
       "  function embed_document(root) {\n",
       "    \n",
       "  var docs_json = {\"29a861f0-7d3a-441c-a12a-b225c535109c\":{\"roots\":{\"references\":[{\"attributes\":{\"callback\":null,\"data\":{\"x\":{\"__ndarray__\":\"0Pde8CzRJ79M3dxFH7Eqv7+6in5CNDC/8iKpUE8RM79MMgG/Be41vy5lppTByzi/6zS9JnioO7+IsRlI0YM+v/YR8em7rkC/WHHwyYkaQr8Y21wEH4dDvzcF0VYw9US/8HeWXiVdRr+2Suap98VHv8l7b5gdtEm/v+kE6KhoTr/Si6w+Y79Rv4gadE2zHFK/y9FQ1FQHTb/GR2Nj5NExv0qbobytRVA/0oWhVRyXaj+H3j4fglR6P/CJw4IM94A/pFW/spvzfD/hfyURYD5xPxD0SS3m4Ts/EUXTOE1Lar+FrlhCOhJ5v9SxMSaBcYG/+mGzZtcYhb/qF8zTDJaGv3EHnTNvdIa/aAZCs4+hhb+e8bMTZceCvwC+RkiKznq/j6jQl/lEcb/icVOKKAtov7X6wBMEwmK/50Gq2b9cXb/emspIHw9Wvy2UhW8DZlG/qs4DfVzzTL8mYaOGxKJHv0YHKyEji0O/8RKlwQ4CQb9+rqMysb49v6J+lzu5sjm/2HO8+gtENr90TJB+vWczv88HgMkWvTC/RnfmjuWDLL+0fLJwZfUnv9/vqxgyBCS/hT2DFbaSIL8U4LLoULEav51wCd3rwBS/ozvnHnhpDr8SkE1gFdYDv7HKni+Tp/O+lD4/qRxWpL47AGvHpITxPtPs7qksbAE/nIZ71QO1CT/0ghcs0cwQPx2HIkBrghQ/B+RsK58LGD/Ijqy3Z0AbPzm4S7pqOx4/1DWcJH1jID8AC2j5YYAhP6KCJFDThiI/pTsEkgZ7Iz+irqxYcF4kP8JmhgQWNiU/\",\"dtype\":\"float64\",\"shape\":[75]},\"y\":{\"__ndarray__\":\"GhExyth1ND/Sv8nbtpRIP2vylNV0PVE/aTum7souWD/At0SJ8fVgPw3Iuahxymc/MSNhhJWvcD/bTfBN02d3P2zb5nxnaoA/CD5h5MAGhz8NmeH1TyaQP+zrCsc9p5Y/LbKd76fGnz/bLW5ISEmmPww9YvTcQq8/JV2OstnstT8Er5Y7M8G+P0c+r3jqkcU/5h99k6ZBzj88bCIzFzjVP4enV8oyxN0//yH99nXg5D8qOpLLf0jtP5kqGJXUifQ/c9cS8kHP/D+/DpwzojQEQIEmwoanVwxA4lgXt9HgE0BSSZ2AJuIbQAMJih9jjiNA5q4l5INuK0AwTKYKRj0zQNv5fmq8/DpAaCJseHrtQkB/+zpwzoxKQM3MzMzMeFJAZmZmZmZqWEAAAAAAAFxeQM3MzMzMJmJAmpmZmZkfZUBmZmZmZhhoQDMzMzMzEWtAAAAAAAAKbkBmZmZmZoFwQM3MzMzM/XFAMzMzMzN6c0CamZmZmfZ0QAAAAAAAc3ZAZmZmZmbvd0DNzMzMzGt5QDMzMzMz6HpAmpmZmZlkfEAAAAAAAOF9QGZmZmZmXX9AZmZmZuZsgECamZmZGSuBQM3MzMxM6YFAAAAAAICngkAzMzMzs2WDQGZmZmbmI4RAmpmZmRnihEDNzMzMTKCFQAAAAACAXoZAMzMzM7Mch0BmZmZm5tqHQJqZmZkZmYhAzczMzExXiUAAAAAAgBWKQDMzMzOz04pAZmZmZuaRi0CamZmZGVCMQM3MzMxMDo1AAAAAAIDMjUAzMzMzs4qOQGZmZmbmSI9A\",\"dtype\":\"float64\",\"shape\":[75]}},\"selected\":{\"id\":\"89999452-0ce8-4474-9f23-fbd909686dcc\",\"type\":\"Selection\"},\"selection_policy\":{\"id\":\"2be9a52c-c785-4276-9ce3-738072907e16\",\"type\":\"UnionRenderers\"}},\"id\":\"634db555-8746-4d33-8c56-2fe31cf2525c\",\"type\":\"ColumnDataSource\"},{\"attributes\":{\"data_source\":{\"id\":\"1f14a2a1-7fa1-445f-a635-e8530c82967d\",\"type\":\"ColumnDataSource\"},\"glyph\":{\"id\":\"5490f70a-fed1-41f0-9fd8-7e60b712dec7\",\"type\":\"Square\"},\"hover_glyph\":null,\"muted_glyph\":null,\"nonselection_glyph\":{\"id\":\"e7a78fb3-a073-46b0-a5d1-8f7ed2f5f0e4\",\"type\":\"Square\"},\"selection_glyph\":null,\"view\":{\"id\":\"6545e53d-0c64-4393-a824-ec7983d170b1\",\"type\":\"CDSView\"}},\"id\":\"7c99cc50-18e3-42dc-9e71-caf8f1bde9e2\",\"type\":\"GlyphRenderer\"},{\"attributes\":{\"fill_alpha\":{\"value\":0.1},\"fill_color\":{\"value\":\"#1f77b4\"},\"line_alpha\":{\"value\":0.1},\"line_color\":{\"value\":\"#1f77b4\"},\"x\":{\"field\":\"x\"},\"y\":{\"field\":\"y\"}},\"id\":\"7d32f224-9515-422c-b288-8bbfa9b956ff\",\"type\":\"Square\"},{\"attributes\":{\"data_source\":{\"id\":\"604ac645-8646-4604-8b75-adb62b671dcb\",\"type\":\"ColumnDataSource\"},\"glyph\":{\"id\":\"4ff9190d-7f80-400f-82d5-38be699e2d6f\",\"type\":\"Circle\"},\"hover_glyph\":null,\"muted_glyph\":null,\"nonselection_glyph\":{\"id\":\"3b22984c-f570-4b3d-ac5e-9859e3ae7b3b\",\"type\":\"Circle\"},\"selection_glyph\":null,\"view\":{\"id\":\"22f24c83-7093-4058-9328-cc53e77fa8ed\",\"type\":\"CDSView\"}},\"id\":\"4dc960c0-dda0-41d9-84d9-7083fcbb604c\",\"type\":\"GlyphRenderer\"},{\"attributes\":{\"line_alpha\":0.6,\"line_color\":\"#e41a1c\",\"line_dash\":[6],\"line_width\":5,\"x\":{\"field\":\"x\"},\"y\":{\"field\":\"y\"}},\"id\":\"8237abdc-a25b-43a5-8af8-2115f2f34a5a\",\"type\":\"Line\"},{\"attributes\":{\"dimension\":1,\"plot\":{\"id\":\"4cd82542-d4d7-48c8-b39b-dc6bb59d47b6\",\"subtype\":\"Figure\",\"type\":\"Plot\"},\"ticker\":{\"id\":\"da948ce8-2b7b-42cb-a7f5-ff2c0e43da1a\",\"type\":\"LogTicker\"}},\"id\":\"a46e19af-2a8e-45e2-8611-825d97c73871\",\"type\":\"Grid\"},{\"attributes\":{\"items\":[{\"id\":\"c8490cc2-050f-4652-92ed-a3285c2d42f4\",\"type\":\"LegendItem\"},{\"id\":\"0c4d73a6-8869-43b8-b2cf-eef41e332aa0\",\"type\":\"LegendItem\"},{\"id\":\"90c66016-8510-4d27-85a6-112e65cbdaf7\",\"type\":\"LegendItem\"}],\"label_text_font_size\":{\"value\":\"8pt\"},\"location\":[10,-30],\"plot\":{\"id\":\"4cd82542-d4d7-48c8-b39b-dc6bb59d47b6\",\"subtype\":\"Figure\",\"type\":\"Plot\"}},\"id\":\"7a201beb-ab84-42be-8855-408d41204eb4\",\"type\":\"Legend\"},{\"attributes\":{\"overlay\":{\"id\":\"9d93c5e7-1ebc-4524-908c-407efedbe8a8\",\"type\":\"BoxAnnotation\"}},\"id\":\"02fae06e-88df-43e2-8f96-6ca11e962bcc\",\"type\":\"BoxZoomTool\"},{\"attributes\":{},\"id\":\"0a851dda-0362-4a5e-a5fb-c6f31538f62e\",\"type\":\"ResetTool\"},{\"attributes\":{\"axis_label\":\"pressure [mb]\",\"formatter\":{\"id\":\"f21f88d2-f4a1-4c68-b1d4-4e98385170db\",\"type\":\"LogTickFormatter\"},\"plot\":{\"id\":\"4cd82542-d4d7-48c8-b39b-dc6bb59d47b6\",\"subtype\":\"Figure\",\"type\":\"Plot\"},\"ticker\":{\"id\":\"da948ce8-2b7b-42cb-a7f5-ff2c0e43da1a\",\"type\":\"LogTicker\"}},\"id\":\"ed344ebf-bca4-4563-95d0-994422f1fafc\",\"type\":\"LogAxis\"},{\"attributes\":{\"line_alpha\":0.1,\"line_color\":\"#1f77b4\",\"line_dash\":[6],\"line_width\":5,\"x\":{\"field\":\"x\"},\"y\":{\"field\":\"y\"}},\"id\":\"6116ce04-aa37-49a4-8c14-1db8119a747e\",\"type\":\"Line\"},{\"attributes\":{\"fill_alpha\":{\"value\":0.7},\"fill_color\":{\"value\":\"#4daf4a\"},\"line_alpha\":{\"value\":0.7},\"line_color\":{\"value\":\"#4daf4a\"},\"x\":{\"field\":\"x\"},\"y\":{\"field\":\"y\"}},\"id\":\"4ff9190d-7f80-400f-82d5-38be699e2d6f\",\"type\":\"Circle\"},{\"attributes\":{\"source\":{\"id\":\"e0b6a276-4d86-4e5c-a0be-b09393207020\",\"type\":\"ColumnDataSource\"}},\"id\":\"86223611-c4e6-4eac-9983-9763c405fb14\",\"type\":\"CDSView\"},{\"attributes\":{\"plot\":null,\"text\":\"Log pressure scale\"},\"id\":\"312f6871-b475-43e8-8217-4e114d075c72\",\"type\":\"Title\"},{\"attributes\":{},\"id\":\"9527ed60-c83a-468a-9fcf-7b1d7dc9392c\",\"type\":\"LinearScale\"},{\"attributes\":{\"num_minor_ticks\":10},\"id\":\"da948ce8-2b7b-42cb-a7f5-ff2c0e43da1a\",\"type\":\"LogTicker\"},{\"attributes\":{},\"id\":\"e0725b73-996b-46c3-9634-dec1f492926e\",\"type\":\"PanTool\"},{\"attributes\":{\"line_alpha\":0.1,\"line_color\":\"#1f77b4\",\"line_width\":3,\"x\":{\"field\":\"x\"},\"y\":{\"field\":\"y\"}},\"id\":\"9c7fc06d-8c45-47d6-a5f9-7ecd843eb140\",\"type\":\"Line\"},{\"attributes\":{\"plot\":{\"id\":\"4cd82542-d4d7-48c8-b39b-dc6bb59d47b6\",\"subtype\":\"Figure\",\"type\":\"Plot\"},\"ticker\":{\"id\":\"7691317d-8189-46e4-85bd-1a1b194ddc38\",\"type\":\"BasicTicker\"}},\"id\":\"67418ecf-5268-448d-976f-4d0d5db052dc\",\"type\":\"Grid\"},{\"attributes\":{\"callback\":null,\"end\":0.01,\"start\":1020},\"id\":\"79a4332a-55b8-44fc-8faf-32bfc9969ac2\",\"type\":\"Range1d\"},{\"attributes\":{},\"id\":\"cf9946f9-f333-4b21-8b10-e23742303a67\",\"type\":\"WheelZoomTool\"},{\"attributes\":{\"callback\":null,\"data\":{\"x\":{\"__ndarray__\":\"KMPH2K9RJL9luE1g91Unv7/PBOnYXSu/6WZ15UkPML9N1oQKEHkyv3rW3EmS5jS/3eFGGbVRN7+bE/Tznb85vzfJy+3pKTy/4IBp5LmWPr8gNwwBtIBAvwWXqKNgtkG/qOqg89DrQr9782jD9yVEv5AAYDxB30W/ZK78+g4YSr+WFAw/e/ZOv3c2Pr8tPFC/jxDkL1TWS7+o6lSRpY85v/4CtWheJkM/rZQP0clKYz+/pb4Z5fNzP7uMNBP53nk/keC6ICqmdT+/RS0pjKhnP3S6og+z4ja/5VrEmd4Dbb8M1oUF2ol5v7zxfnSbhIG/F/O6GN8khb+ilprIwpOGv9CMJ31/VYa/VysnYpBChb+WvRjOHQuCvzo7AVuKFXm/MbmD5w2Pb7/g/6DUK5xlv/s9k68bpWC/NoJvA0fVWb9WcFNWp1BTv3yDigUZXE6/FipT+z80Sb8bT9DPjYtEvzGQmhPb90C/61epelCBPb8GrfFGRck5v7EJ9t+hQza/slB2pklHM7+X1Jo4isswvz5RvAo49Sy/6nyji7aoKL/ar0ck/rIkv6NSdmkSSSG/0yzDIzuWHL8i5seJAfwWv8OyLowf1BG/8W1x6woDCr8RwKHugtYAv89NUfTqSPC+iWBSqkdkkD5Equ1qDwLwPq/GknNeBv8+MyIBNpS7Bj+fjFWIjZUNP56Wcm+MBRI/883t3psWFT+bL8cecQEYP8pPA0wPkxo/DyLgds7FHD/XRG6JK7MeP6sXY4FBPSA/PfRmQN4RIT+IogX7M9ghPyxilIb2kiI/\",\"dtype\":\"float64\",\"shape\":[75]},\"y\":{\"__ndarray__\":\"S/O/Q+51ND/Sv8nbtpRIP2vylNV0PVE/aTum7souWD/At0SJ8fVgPw3Iuahxymc/MSNhhJWvcD/bTfBN02d3P2zb5nxnaoA/CD5h5MAGhz8NmeH1TyaQP+zrCsc9p5Y/LbKd76fGnz/bLW5ISEmmPww9YvTcQq8/JV2OstnstT8Er5Y7M8G+P0c+r3jqkcU/5h99k6ZBzj88bCIzFzjVP4enV8oyxN0//yH99nXg5D8qOpLLf0jtP5kqGJXUifQ/c9cS8kHP/D+/DpwzojQEQIEmwoanVwxA4lgXt9HgE0BSSZ2AJuIbQAMJih9jjiNA5q4l5INuK0AwTKYKRj0zQNv5fmq8/DpAaCJseHrtQkB/+zpwzoxKQM3MzMzMeFJAZmZmZmZqWEAAAAAAAFxeQM3MzMzMJmJAmpmZmZkfZUBmZmZmZhhoQDMzMzMzEWtAAAAAAAAKbkBmZmZmZoFwQM3MzMzM/XFAMzMzMzN6c0CamZmZmfZ0QAAAAAAAc3ZAZmZmZmbvd0DNzMzMzGt5QDMzMzMz6HpAmpmZmZlkfEAAAAAAAOF9QGZmZmZmXX9AZmZmZuZsgECamZmZGSuBQM3MzMxM6YFAAAAAAICngkAzMzMzs2WDQGZmZmbmI4RAmpmZmRnihEDNzMzMTKCFQAAAAACAXoZAMzMzM7Mch0BmZmZm5tqHQJqZmZkZmYhAzczMzExXiUAAAAAAgBWKQDMzMzOz04pAZmZmZuaRi0CamZmZGVCMQM3MzMxMDo1AAAAAAIDMjUAzMzMzs4qOQGZmZmbmSI9A\",\"dtype\":\"float64\",\"shape\":[75]}},\"selected\":{\"id\":\"30257bd5-d76e-4072-8798-566268adb911\",\"type\":\"Selection\"},\"selection_policy\":{\"id\":\"d5736b2a-448c-4388-9165-5f441cc1baa5\",\"type\":\"UnionRenderers\"}},\"id\":\"2a2a4245-a2c7-42e4-974a-5fe044727e1c\",\"type\":\"ColumnDataSource\"},{\"attributes\":{\"callback\":null,\"end\":0.00927368317966,\"start\":-0.01122939594566},\"id\":\"4d6e5d14-7e0e-4f04-ad9b-f2223d5bea2f\",\"type\":\"Range1d\"},{\"attributes\":{},\"id\":\"7691317d-8189-46e4-85bd-1a1b194ddc38\",\"type\":\"BasicTicker\"},{\"attributes\":{\"bottom_units\":\"screen\",\"fill_alpha\":{\"value\":0.5},\"fill_color\":{\"value\":\"lightgrey\"},\"left_units\":\"screen\",\"level\":\"overlay\",\"line_alpha\":{\"value\":1.0},\"line_color\":{\"value\":\"black\"},\"line_dash\":[4,4],\"line_width\":{\"value\":2},\"plot\":null,\"render_mode\":\"css\",\"right_units\":\"screen\",\"top_units\":\"screen\"},\"id\":\"9d93c5e7-1ebc-4524-908c-407efedbe8a8\",\"type\":\"BoxAnnotation\"},{\"attributes\":{\"callback\":null,\"data\":{\"x\":{\"__ndarray__\":\"8Lkw201iKL/uK5Kcs1Erv7Uqi3/tkjC/t94exRh9M78o+HVY5mU2v5UJY5eLTjm/IDly/x81PL8ee2mkIRk/vxRQkC8U/UC/N/EtIgVsQr+YRz9CANpDvywOsJ0LRkW/ECkB0SGxRr8JmlfeSBhIv12/E4QB/Em/FyOc5DiITr8V1YBcuZJRv9yW1S9pcFG/QrC+i4QgSr8pdBrn7fQav7bnH+QI11Q/Bxm8QC0sbj/b+5rFgO58P0Gj1YCxlII/9NarTf0qgD8SP9kttot0P27RDQInqlI/dP80VNVbZb/nKIxZ8tl2v+8TklS3VoC/Dz0xBGPxg78Z6jb8/GSFvy+kw0MYP4W/fvPuyTRzhL8xR3XU9sqBv6bm6LU9qHm/BDMhTOO1cL93nxPd23Znv41JqGWXa2K/zgT1POcGXb/CeaL3x+xVv3MZWkTkWVG/p618iFbzTL9wfl3B5bBHv70K2K6KoEO/3eXjWdAbQb81s9pSYfc9v0VMcJ1m6zm/NB9Lb9x6Nr+E2kk8L5szv9xRcEC06jC/GTlWzm3TLL9iX1qR0DQov9408g7+NSS/Tedh2oizIL+tzy1Y0NIav8lyXGURwRS/1BrRtC8gDr+kiEZ5qUYDv3A4pgXp9/G+L2mA8qaJuj58j+JwyWX0PpJcRgKmJQM/K53atsq8Cz/GHe17DPcRP+auLR9p0BU/DVzgNJt9GT9VwPSvyfccPzKbSfhVBCA/+AC2TL9TIT8ghwgUSXkiPzSQJJgfiCM/w8Jo/zGFJD8duHOsgnElP/sXKeQyUCY/\",\"dtype\":\"float64\",\"shape\":[75]},\"y\":{\"__ndarray__\":\"GhExyth1ND/Sv8nbtpRIP2vylNV0PVE/aTum7souWD/At0SJ8fVgPw3Iuahxymc/MSNhhJWvcD/bTfBN02d3P2zb5nxnaoA/CD5h5MAGhz8NmeH1TyaQP+zrCsc9p5Y/LbKd76fGnz/bLW5ISEmmPww9YvTcQq8/JV2OstnstT8Er5Y7M8G+P0c+r3jqkcU/5h99k6ZBzj88bCIzFzjVP4enV8oyxN0//yH99nXg5D8qOpLLf0jtP5kqGJXUifQ/c9cS8kHP/D+/DpwzojQEQIEmwoanVwxA4lgXt9HgE0BSSZ2AJuIbQAMJih9jjiNA5q4l5INuK0AwTKYKRj0zQNv5fmq8/DpAaCJseHrtQkB/+zpwzoxKQM3MzMzMeFJAZmZmZmZqWEAAAAAAAFxeQM3MzMzMJmJAmpmZmZkfZUBmZmZmZhhoQDMzMzMzEWtAAAAAAAAKbkBmZmZmZoFwQM3MzMzM/XFAMzMzMzN6c0CamZmZmfZ0QAAAAAAAc3ZAZmZmZmbvd0DNzMzMzGt5QDMzMzMz6HpAmpmZmZlkfEAAAAAAAOF9QGZmZmZmXX9AZmZmZuZsgECamZmZGSuBQM3MzMxM6YFAAAAAAICngkAzMzMzs2WDQGZmZmbmI4RAmpmZmRnihEDNzMzMTKCFQAAAAACAXoZAMzMzM7Mch0BmZmZm5tqHQJqZmZkZmYhAzczMzExXiUAAAAAAgBWKQDMzMzOz04pAZmZmZuaRi0CamZmZGVCMQM3MzMxMDo1AAAAAAIDMjUAzMzMzs4qOQGZmZmbmSI9A\",\"dtype\":\"float64\",\"shape\":[75]}},\"selected\":{\"id\":\"b03c3a75-2b86-439d-8a63-f8795d4988bc\",\"type\":\"Selection\"},\"selection_policy\":{\"id\":\"ac153630-2a4d-47e7-926f-ebb2994d0f1f\",\"type\":\"UnionRenderers\"}},\"id\":\"604ac645-8646-4604-8b75-adb62b671dcb\",\"type\":\"ColumnDataSource\"},{\"attributes\":{},\"id\":\"a7352077-a42b-4233-b208-f67241eda648\",\"type\":\"HelpTool\"},{\"attributes\":{\"data_source\":{\"id\":\"e1dc351a-0c1c-4e79-9d79-f23c6befa99e\",\"type\":\"ColumnDataSource\"},\"glyph\":{\"id\":\"b47a96ab-b31b-45b7-94a1-9deacf461de0\",\"type\":\"Line\"},\"hover_glyph\":null,\"muted_glyph\":null,\"nonselection_glyph\":{\"id\":\"9c7fc06d-8c45-47d6-a5f9-7ecd843eb140\",\"type\":\"Line\"},\"selection_glyph\":null,\"view\":{\"id\":\"94e571ce-feae-4f48-8d4d-2e7e32f8e7ec\",\"type\":\"CDSView\"}},\"id\":\"18dd4515-a6ed-4012-9293-b5afdb270655\",\"type\":\"GlyphRenderer\"},{\"attributes\":{\"callback\":null,\"data\":{\"x\":{\"__ndarray__\":\"0Pde8CzRJ79M3dxFH7Eqv7+6in5CNDC/8iKpUE8RM79MMgG/Be41vy5lppTByzi/6zS9JnioO7+IsRlI0YM+v/YR8em7rkC/WHHwyYkaQr8Y21wEH4dDvzcF0VYw9US/8HeWXiVdRr+2Suap98VHv8l7b5gdtEm/v+kE6KhoTr/Si6w+Y79Rv4gadE2zHFK/y9FQ1FQHTb/GR2Nj5NExv0qbobytRVA/0oWhVRyXaj+H3j4fglR6P/CJw4IM94A/pFW/spvzfD/hfyURYD5xPxD0SS3m4Ts/EUXTOE1Lar+FrlhCOhJ5v9SxMSaBcYG/+mGzZtcYhb/qF8zTDJaGv3EHnTNvdIa/aAZCs4+hhb+e8bMTZceCvwC+RkiKznq/j6jQl/lEcb/icVOKKAtov7X6wBMEwmK/50Gq2b9cXb/emspIHw9Wvy2UhW8DZlG/qs4DfVzzTL8mYaOGxKJHv0YHKyEji0O/8RKlwQ4CQb9+rqMysb49v6J+lzu5sjm/2HO8+gtENr90TJB+vWczv88HgMkWvTC/RnfmjuWDLL+0fLJwZfUnv9/vqxgyBCS/hT2DFbaSIL8U4LLoULEav51wCd3rwBS/ozvnHnhpDr8SkE1gFdYDv7HKni+Tp/O+lD4/qRxWpL47AGvHpITxPtPs7qksbAE/nIZ71QO1CT/0ghcs0cwQPx2HIkBrghQ/B+RsK58LGD/Ijqy3Z0AbPzm4S7pqOx4/1DWcJH1jID8AC2j5YYAhP6KCJFDThiI/pTsEkgZ7Iz+irqxYcF4kP8JmhgQWNiU/\",\"dtype\":\"float64\",\"shape\":[75]},\"y\":{\"__ndarray__\":\"GhExyth1ND/Sv8nbtpRIP2vylNV0PVE/aTum7souWD/At0SJ8fVgPw3Iuahxymc/MSNhhJWvcD/bTfBN02d3P2zb5nxnaoA/CD5h5MAGhz8NmeH1TyaQP+zrCsc9p5Y/LbKd76fGnz/bLW5ISEmmPww9YvTcQq8/JV2OstnstT8Er5Y7M8G+P0c+r3jqkcU/5h99k6ZBzj88bCIzFzjVP4enV8oyxN0//yH99nXg5D8qOpLLf0jtP5kqGJXUifQ/c9cS8kHP/D+/DpwzojQEQIEmwoanVwxA4lgXt9HgE0BSSZ2AJuIbQAMJih9jjiNA5q4l5INuK0AwTKYKRj0zQNv5fmq8/DpAaCJseHrtQkB/+zpwzoxKQM3MzMzMeFJAZmZmZmZqWEAAAAAAAFxeQM3MzMzMJmJAmpmZmZkfZUBmZmZmZhhoQDMzMzMzEWtAAAAAAAAKbkBmZmZmZoFwQM3MzMzM/XFAMzMzMzN6c0CamZmZmfZ0QAAAAAAAc3ZAZmZmZmbvd0DNzMzMzGt5QDMzMzMz6HpAmpmZmZlkfEAAAAAAAOF9QGZmZmZmXX9AZmZmZuZsgECamZmZGSuBQM3MzMxM6YFAAAAAAICngkAzMzMzs2WDQGZmZmbmI4RAmpmZmRnihEDNzMzMTKCFQAAAAACAXoZAMzMzM7Mch0BmZmZm5tqHQJqZmZkZmYhAzczMzExXiUAAAAAAgBWKQDMzMzOz04pAZmZmZuaRi0CamZmZGVCMQM3MzMxMDo1AAAAAAIDMjUAzMzMzs4qOQGZmZmbmSI9A\",\"dtype\":\"float64\",\"shape\":[75]}},\"selected\":{\"id\":\"72a51b11-68d0-49d4-9b70-c2097433b278\",\"type\":\"Selection\"},\"selection_policy\":{\"id\":\"7c0e3cde-da14-4696-a9e8-d5e260241be2\",\"type\":\"UnionRenderers\"}},\"id\":\"e1dc351a-0c1c-4e79-9d79-f23c6befa99e\",\"type\":\"ColumnDataSource\"},{\"attributes\":{\"line_alpha\":0.1,\"line_color\":\"#1f77b4\",\"line_dash\":[6],\"line_width\":5,\"x\":{\"field\":\"x\"},\"y\":{\"field\":\"y\"}},\"id\":\"a34a9e6c-c684-4d16-a2d5-9470f983fb3b\",\"type\":\"Line\"},{\"attributes\":{\"source\":{\"id\":\"e1dc351a-0c1c-4e79-9d79-f23c6befa99e\",\"type\":\"ColumnDataSource\"}},\"id\":\"94e571ce-feae-4f48-8d4d-2e7e32f8e7ec\",\"type\":\"CDSView\"},{\"attributes\":{\"active_drag\":\"auto\",\"active_inspect\":\"auto\",\"active_scroll\":\"auto\",\"active_tap\":\"auto\",\"tools\":[{\"id\":\"e0725b73-996b-46c3-9634-dec1f492926e\",\"type\":\"PanTool\"},{\"id\":\"cf9946f9-f333-4b21-8b10-e23742303a67\",\"type\":\"WheelZoomTool\"},{\"id\":\"02fae06e-88df-43e2-8f96-6ca11e962bcc\",\"type\":\"BoxZoomTool\"},{\"id\":\"25b5d4bc-cb0b-49dd-b3b4-7ab12b69c688\",\"type\":\"SaveTool\"},{\"id\":\"0a851dda-0362-4a5e-a5fb-c6f31538f62e\",\"type\":\"ResetTool\"},{\"id\":\"a7352077-a42b-4233-b208-f67241eda648\",\"type\":\"HelpTool\"}]},\"id\":\"99738838-a946-4d17-b2cc-f8ad770f020c\",\"type\":\"Toolbar\"},{\"attributes\":{\"line_alpha\":0.6,\"line_color\":\"#e41a1c\",\"line_dash\":[6],\"line_width\":5,\"x\":{\"field\":\"x\"},\"y\":{\"field\":\"y\"}},\"id\":\"3eb9f9b5-e5fe-40ea-9084-59d822ba95e7\",\"type\":\"Line\"},{\"attributes\":{\"source\":{\"id\":\"1f14a2a1-7fa1-445f-a635-e8530c82967d\",\"type\":\"ColumnDataSource\"}},\"id\":\"6545e53d-0c64-4393-a824-ec7983d170b1\",\"type\":\"CDSView\"},{\"attributes\":{\"fill_alpha\":{\"value\":0.1},\"fill_color\":{\"value\":\"#1f77b4\"},\"line_alpha\":{\"value\":0.1},\"line_color\":{\"value\":\"#1f77b4\"},\"x\":{\"field\":\"x\"},\"y\":{\"field\":\"y\"}},\"id\":\"e7a78fb3-a073-46b0-a5d1-8f7ed2f5f0e4\",\"type\":\"Square\"},{\"attributes\":{\"data_source\":{\"id\":\"e0b6a276-4d86-4e5c-a0be-b09393207020\",\"type\":\"ColumnDataSource\"},\"glyph\":{\"id\":\"18371b5c-5ac4-41a6-aa9c-f5455230d7c7\",\"type\":\"Square\"},\"hover_glyph\":null,\"muted_glyph\":null,\"nonselection_glyph\":{\"id\":\"7d32f224-9515-422c-b288-8bbfa9b956ff\",\"type\":\"Square\"},\"selection_glyph\":null,\"view\":{\"id\":\"86223611-c4e6-4eac-9983-9763c405fb14\",\"type\":\"CDSView\"}},\"id\":\"d1ddc36f-7918-4859-9be1-3b3a82285462\",\"type\":\"GlyphRenderer\"},{\"attributes\":{\"source\":{\"id\":\"2ba67375-69fc-4e9d-ab4c-bf85e6ba877e\",\"type\":\"ColumnDataSource\"}},\"id\":\"72f9d893-4bd3-41ae-9671-93d3aed91720\",\"type\":\"CDSView\"},{\"attributes\":{\"line_alpha\":0.6,\"line_color\":\"#984ea3\",\"line_width\":3,\"x\":{\"field\":\"x\"},\"y\":{\"field\":\"y\"}},\"id\":\"b47a96ab-b31b-45b7-94a1-9deacf461de0\",\"type\":\"Line\"},{\"attributes\":{\"data_source\":{\"id\":\"2ba67375-69fc-4e9d-ab4c-bf85e6ba877e\",\"type\":\"ColumnDataSource\"},\"glyph\":{\"id\":\"3eb9f9b5-e5fe-40ea-9084-59d822ba95e7\",\"type\":\"Line\"},\"hover_glyph\":null,\"muted_glyph\":null,\"nonselection_glyph\":{\"id\":\"6116ce04-aa37-49a4-8c14-1db8119a747e\",\"type\":\"Line\"},\"selection_glyph\":null,\"view\":{\"id\":\"72f9d893-4bd3-41ae-9671-93d3aed91720\",\"type\":\"CDSView\"}},\"id\":\"07c772a7-ef78-4b8a-b33b-ec30d94bca05\",\"type\":\"GlyphRenderer\"},{\"attributes\":{\"axis_label\":\"cooling rate [K/day]\",\"formatter\":{\"id\":\"c2c39bd4-3da5-497c-a13e-91cbd04f1ed8\",\"type\":\"BasicTickFormatter\"},\"plot\":{\"id\":\"4cd82542-d4d7-48c8-b39b-dc6bb59d47b6\",\"subtype\":\"Figure\",\"type\":\"Plot\"},\"ticker\":{\"id\":\"7691317d-8189-46e4-85bd-1a1b194ddc38\",\"type\":\"BasicTicker\"}},\"id\":\"aa2b393e-4fb8-46b9-a36c-960c104105eb\",\"type\":\"LinearAxis\"},{\"attributes\":{},\"id\":\"ec7f73cc-66dd-4944-a6c2-3e3e89fa2509\",\"type\":\"LogScale\"},{\"attributes\":{\"fill_alpha\":{\"value\":0.1},\"fill_color\":{\"value\":\"#1f77b4\"},\"line_alpha\":{\"value\":0.1},\"line_color\":{\"value\":\"#1f77b4\"},\"x\":{\"field\":\"x\"},\"y\":{\"field\":\"y\"}},\"id\":\"3b22984c-f570-4b3d-ac5e-9859e3ae7b3b\",\"type\":\"Circle\"},{\"attributes\":{\"callback\":null,\"data\":{\"x\":{\"__ndarray__\":\"0Pde8CzRJ79M3dxFH7Eqv7+6in5CNDC/8iKpUE8RM79MMgG/Be41vy5lppTByzi/6zS9JnioO7+IsRlI0YM+v/YR8em7rkC/WHHwyYkaQr8Y21wEH4dDvzcF0VYw9US/8HeWXiVdRr+2Suap98VHv8l7b5gdtEm/v+kE6KhoTr/Si6w+Y79Rv4gadE2zHFK/y9FQ1FQHTb/GR2Nj5NExv0qbobytRVA/0oWhVRyXaj+H3j4fglR6P/CJw4IM94A/pFW/spvzfD/hfyURYD5xPxD0SS3m4Ts/EUXTOE1Lar+FrlhCOhJ5v9SxMSaBcYG/+mGzZtcYhb/qF8zTDJaGv3EHnTNvdIa/aAZCs4+hhb+e8bMTZceCvwC+RkiKznq/j6jQl/lEcb/icVOKKAtov7X6wBMEwmK/50Gq2b9cXb/emspIHw9Wvy2UhW8DZlG/qs4DfVzzTL8mYaOGxKJHv0YHKyEji0O/8RKlwQ4CQb9+rqMysb49v6J+lzu5sjm/2HO8+gtENr90TJB+vWczv88HgMkWvTC/RnfmjuWDLL+0fLJwZfUnv9/vqxgyBCS/hT2DFbaSIL8U4LLoULEav51wCd3rwBS/ozvnHnhpDr8SkE1gFdYDv7HKni+Tp/O+lD4/qRxWpL47AGvHpITxPtPs7qksbAE/nIZ71QO1CT/0ghcs0cwQPx2HIkBrghQ/B+RsK58LGD/Ijqy3Z0AbPzm4S7pqOx4/1DWcJH1jID8AC2j5YYAhP6KCJFDThiI/pTsEkgZ7Iz+irqxYcF4kP8JmhgQWNiU/\",\"dtype\":\"float64\",\"shape\":[75]},\"y\":{\"__ndarray__\":\"GhExyth1ND/Sv8nbtpRIP2vylNV0PVE/aTum7souWD/At0SJ8fVgPw3Iuahxymc/MSNhhJWvcD/bTfBN02d3P2zb5nxnaoA/CD5h5MAGhz8NmeH1TyaQP+zrCsc9p5Y/LbKd76fGnz/bLW5ISEmmPww9YvTcQq8/JV2OstnstT8Er5Y7M8G+P0c+r3jqkcU/5h99k6ZBzj88bCIzFzjVP4enV8oyxN0//yH99nXg5D8qOpLLf0jtP5kqGJXUifQ/c9cS8kHP/D+/DpwzojQEQIEmwoanVwxA4lgXt9HgE0BSSZ2AJuIbQAMJih9jjiNA5q4l5INuK0AwTKYKRj0zQNv5fmq8/DpAaCJseHrtQkB/+zpwzoxKQM3MzMzMeFJAZmZmZmZqWEAAAAAAAFxeQM3MzMzMJmJAmpmZmZkfZUBmZmZmZhhoQDMzMzMzEWtAAAAAAAAKbkBmZmZmZoFwQM3MzMzM/XFAMzMzMzN6c0CamZmZmfZ0QAAAAAAAc3ZAZmZmZmbvd0DNzMzMzGt5QDMzMzMz6HpAmpmZmZlkfEAAAAAAAOF9QGZmZmZmXX9AZmZmZuZsgECamZmZGSuBQM3MzMxM6YFAAAAAAICngkAzMzMzs2WDQGZmZmbmI4RAmpmZmRnihEDNzMzMTKCFQAAAAACAXoZAMzMzM7Mch0BmZmZm5tqHQJqZmZkZmYhAzczMzExXiUAAAAAAgBWKQDMzMzOz04pAZmZmZuaRi0CamZmZGVCMQM3MzMxMDo1AAAAAAIDMjUAzMzMzs4qOQGZmZmbmSI9A\",\"dtype\":\"float64\",\"shape\":[75]}},\"selected\":{\"id\":\"412c8521-0010-4687-8036-d6e0820ac283\",\"type\":\"Selection\"},\"selection_policy\":{\"id\":\"8299d438-1548-44cd-a348-f7dba5c1117e\",\"type\":\"UnionRenderers\"}},\"id\":\"1f14a2a1-7fa1-445f-a635-e8530c82967d\",\"type\":\"ColumnDataSource\"},{\"attributes\":{\"fill_alpha\":{\"value\":0.7},\"fill_color\":{\"value\":\"#984ea3\"},\"line_alpha\":{\"value\":0.7},\"line_color\":{\"value\":\"#984ea3\"},\"x\":{\"field\":\"x\"},\"y\":{\"field\":\"y\"}},\"id\":\"5490f70a-fed1-41f0-9fd8-7e60b712dec7\",\"type\":\"Square\"},{\"attributes\":{},\"id\":\"25b5d4bc-cb0b-49dd-b3b4-7ab12b69c688\",\"type\":\"SaveTool\"},{\"attributes\":{\"source\":{\"id\":\"8511e73b-c6ff-4976-b661-9a8c0de05395\",\"type\":\"ColumnDataSource\"}},\"id\":\"1eb3ec80-2ca2-4abc-a527-1730a0816e42\",\"type\":\"CDSView\"},{\"attributes\":{},\"id\":\"a1dbf498-b750-476c-bdf9-d09cc0218749\",\"type\":\"UnionRenderers\"},{\"attributes\":{},\"id\":\"d5dc0024-8f82-4013-883e-59429dc1464e\",\"type\":\"PanTool\"},{\"attributes\":{},\"id\":\"5ac967c2-8d93-48d4-9299-c6b257cd50d4\",\"type\":\"Selection\"},{\"attributes\":{\"bottom_units\":\"screen\",\"fill_alpha\":{\"value\":0.5},\"fill_color\":{\"value\":\"lightgrey\"},\"left_units\":\"screen\",\"level\":\"overlay\",\"line_alpha\":{\"value\":1.0},\"line_color\":{\"value\":\"black\"},\"line_dash\":[4,4],\"line_width\":{\"value\":2},\"plot\":null,\"render_mode\":\"css\",\"right_units\":\"screen\",\"top_units\":\"screen\"},\"id\":\"acc8da8f-2eee-488e-acb0-656e271edb9e\",\"type\":\"BoxAnnotation\"},{\"attributes\":{\"line_alpha\":0.1,\"line_color\":\"#1f77b4\",\"line_width\":3,\"x\":{\"field\":\"x\"},\"y\":{\"field\":\"y\"}},\"id\":\"dd0765f3-801a-4cab-ab5e-8ff8a178458a\",\"type\":\"Line\"},{\"attributes\":{},\"id\":\"c2bdfb8c-204b-434d-814a-b046cf2ac05d\",\"type\":\"UnionRenderers\"},{\"attributes\":{\"below\":[{\"id\":\"c52777e6-d111-463b-8b72-ddafe8300867\",\"type\":\"LinearAxis\"}],\"left\":[{\"id\":\"013247da-7aae-42f0-9215-e99a1740bb31\",\"type\":\"LinearAxis\"}],\"plot_height\":500,\"plot_width\":400,\"renderers\":[{\"id\":\"c52777e6-d111-463b-8b72-ddafe8300867\",\"type\":\"LinearAxis\"},{\"id\":\"a7d2dfbd-f250-49d9-b617-70cfc4320a8d\",\"type\":\"Grid\"},{\"id\":\"013247da-7aae-42f0-9215-e99a1740bb31\",\"type\":\"LinearAxis\"},{\"id\":\"347dd600-d74a-4be1-8a63-f2c1ba7d5a25\",\"type\":\"Grid\"},{\"id\":\"acc8da8f-2eee-488e-acb0-656e271edb9e\",\"type\":\"BoxAnnotation\"},{\"id\":\"07c772a7-ef78-4b8a-b33b-ec30d94bca05\",\"type\":\"GlyphRenderer\"},{\"id\":\"4dc960c0-dda0-41d9-84d9-7083fcbb604c\",\"type\":\"GlyphRenderer\"},{\"id\":\"5afa8fcc-aabd-4ea9-92e7-e520ab7eba11\",\"type\":\"GlyphRenderer\"},{\"id\":\"7c99cc50-18e3-42dc-9e71-caf8f1bde9e2\",\"type\":\"GlyphRenderer\"},{\"id\":\"18dd4515-a6ed-4012-9293-b5afdb270655\",\"type\":\"GlyphRenderer\"}],\"title\":{\"id\":\"8a2add37-cc7c-46a3-94c6-478f3ea11a59\",\"type\":\"Title\"},\"toolbar\":{\"id\":\"c7463fa1-5827-4f92-bbd3-fa564c82e6a6\",\"type\":\"Toolbar\"},\"toolbar_location\":null,\"x_range\":{\"id\":\"da25ff43-6d41-4342-948b-23deca66361b\",\"type\":\"Range1d\"},\"x_scale\":{\"id\":\"6ced53d2-dcb1-43f3-9f2a-6ba557be1c10\",\"type\":\"LinearScale\"},\"y_range\":{\"id\":\"4c5b65d4-6ab0-4752-9d17-ff7064630723\",\"type\":\"Range1d\"},\"y_scale\":{\"id\":\"62325811-9b4a-4bd4-9d01-bf6c7dbdaff9\",\"type\":\"LinearScale\"}},\"id\":\"18695764-3c5a-417d-b2bf-1d1515099e7d\",\"subtype\":\"Figure\",\"type\":\"Plot\"},{\"attributes\":{},\"id\":\"4bea5aaf-7646-4823-935f-c436ea59926b\",\"type\":\"Selection\"},{\"attributes\":{\"axis_label\":\"pressure [mb]\",\"formatter\":{\"id\":\"c4420854-f94e-43b0-b357-ad32c33d0e0a\",\"type\":\"BasicTickFormatter\"},\"plot\":{\"id\":\"18695764-3c5a-417d-b2bf-1d1515099e7d\",\"subtype\":\"Figure\",\"type\":\"Plot\"},\"ticker\":{\"id\":\"b1f6ced5-0522-40c2-afc6-954756789d78\",\"type\":\"BasicTicker\"}},\"id\":\"013247da-7aae-42f0-9215-e99a1740bb31\",\"type\":\"LinearAxis\"},{\"attributes\":{\"fill_alpha\":{\"value\":0.1},\"fill_color\":{\"value\":\"#1f77b4\"},\"line_alpha\":{\"value\":0.1},\"line_color\":{\"value\":\"#1f77b4\"},\"x\":{\"field\":\"x\"},\"y\":{\"field\":\"y\"}},\"id\":\"580c1a6a-dc5d-4623-ba11-080fc872698f\",\"type\":\"Circle\"},{\"attributes\":{},\"id\":\"39d01642-4dc9-48fc-91df-c66616906de6\",\"type\":\"UnionRenderers\"},{\"attributes\":{},\"id\":\"93350ef7-2dc5-4155-9484-d27fcfe8099b\",\"type\":\"Selection\"},{\"attributes\":{\"tools\":[{\"id\":\"d5dc0024-8f82-4013-883e-59429dc1464e\",\"type\":\"PanTool\"},{\"id\":\"478998a0-e221-42da-8e42-e22aa707277b\",\"type\":\"WheelZoomTool\"},{\"id\":\"a9d2e6cf-902e-48ee-92b4-61f751150105\",\"type\":\"BoxZoomTool\"},{\"id\":\"69b9a6dd-86ea-4502-b504-d2fef9ec4041\",\"type\":\"SaveTool\"},{\"id\":\"1c289681-7303-4218-bad5-a0d16feb437c\",\"type\":\"ResetTool\"},{\"id\":\"0854733c-90b9-4ed7-bb72-8b09be617d0b\",\"type\":\"HelpTool\"},{\"id\":\"e0725b73-996b-46c3-9634-dec1f492926e\",\"type\":\"PanTool\"},{\"id\":\"cf9946f9-f333-4b21-8b10-e23742303a67\",\"type\":\"WheelZoomTool\"},{\"id\":\"02fae06e-88df-43e2-8f96-6ca11e962bcc\",\"type\":\"BoxZoomTool\"},{\"id\":\"25b5d4bc-cb0b-49dd-b3b4-7ab12b69c688\",\"type\":\"SaveTool\"},{\"id\":\"0a851dda-0362-4a5e-a5fb-c6f31538f62e\",\"type\":\"ResetTool\"},{\"id\":\"a7352077-a42b-4233-b208-f67241eda648\",\"type\":\"HelpTool\"}]},\"id\":\"4e1a9dfa-59b2-4523-b043-389559fe6714\",\"type\":\"ProxyToolbar\"},{\"attributes\":{\"toolbar\":{\"id\":\"4e1a9dfa-59b2-4523-b043-389559fe6714\",\"type\":\"ProxyToolbar\"},\"toolbar_location\":\"above\"},\"id\":\"3a7d3fb6-0499-4b32-b8a6-faf105e272fb\",\"type\":\"ToolbarBox\"},{\"attributes\":{},\"id\":\"2be9a52c-c785-4276-9ce3-738072907e16\",\"type\":\"UnionRenderers\"},{\"attributes\":{\"callback\":null,\"data\":{\"x\":{\"__ndarray__\":\"0Pde8CzRJ79M3dxFH7Eqv7+6in5CNDC/8iKpUE8RM79MMgG/Be41vy5lppTByzi/6zS9JnioO7+IsRlI0YM+v/YR8em7rkC/WHHwyYkaQr8Y21wEH4dDvzcF0VYw9US/8HeWXiVdRr+2Suap98VHv8l7b5gdtEm/v+kE6KhoTr/Si6w+Y79Rv4gadE2zHFK/y9FQ1FQHTb/GR2Nj5NExv0qbobytRVA/0oWhVRyXaj+H3j4fglR6P/CJw4IM94A/pFW/spvzfD/hfyURYD5xPxD0SS3m4Ts/EUXTOE1Lar+FrlhCOhJ5v9SxMSaBcYG/+mGzZtcYhb/qF8zTDJaGv3EHnTNvdIa/aAZCs4+hhb+e8bMTZceCvwC+RkiKznq/j6jQl/lEcb/icVOKKAtov7X6wBMEwmK/50Gq2b9cXb/emspIHw9Wvy2UhW8DZlG/qs4DfVzzTL8mYaOGxKJHv0YHKyEji0O/8RKlwQ4CQb9+rqMysb49v6J+lzu5sjm/2HO8+gtENr90TJB+vWczv88HgMkWvTC/RnfmjuWDLL+0fLJwZfUnv9/vqxgyBCS/hT2DFbaSIL8U4LLoULEav51wCd3rwBS/ozvnHnhpDr8SkE1gFdYDv7HKni+Tp/O+lD4/qRxWpL47AGvHpITxPtPs7qksbAE/nIZ71QO1CT/0ghcs0cwQPx2HIkBrghQ/B+RsK58LGD/Ijqy3Z0AbPzm4S7pqOx4/1DWcJH1jID8AC2j5YYAhP6KCJFDThiI/pTsEkgZ7Iz+irqxYcF4kP8JmhgQWNiU/\",\"dtype\":\"float64\",\"shape\":[75]},\"y\":{\"__ndarray__\":\"GhExyth1ND/Sv8nbtpRIP2vylNV0PVE/aTum7souWD/At0SJ8fVgPw3Iuahxymc/MSNhhJWvcD/bTfBN02d3P2zb5nxnaoA/CD5h5MAGhz8NmeH1TyaQP+zrCsc9p5Y/LbKd76fGnz/bLW5ISEmmPww9YvTcQq8/JV2OstnstT8Er5Y7M8G+P0c+r3jqkcU/5h99k6ZBzj88bCIzFzjVP4enV8oyxN0//yH99nXg5D8qOpLLf0jtP5kqGJXUifQ/c9cS8kHP/D+/DpwzojQEQIEmwoanVwxA4lgXt9HgE0BSSZ2AJuIbQAMJih9jjiNA5q4l5INuK0AwTKYKRj0zQNv5fmq8/DpAaCJseHrtQkB/+zpwzoxKQM3MzMzMeFJAZmZmZmZqWEAAAAAAAFxeQM3MzMzMJmJAmpmZmZkfZUBmZmZmZhhoQDMzMzMzEWtAAAAAAAAKbkBmZmZmZoFwQM3MzMzM/XFAMzMzMzN6c0CamZmZmfZ0QAAAAAAAc3ZAZmZmZmbvd0DNzMzMzGt5QDMzMzMz6HpAmpmZmZlkfEAAAAAAAOF9QGZmZmZmXX9AZmZmZuZsgECamZmZGSuBQM3MzMxM6YFAAAAAAICngkAzMzMzs2WDQGZmZmbmI4RAmpmZmRnihEDNzMzMTKCFQAAAAACAXoZAMzMzM7Mch0BmZmZm5tqHQJqZmZkZmYhAzczMzExXiUAAAAAAgBWKQDMzMzOz04pAZmZmZuaRi0CamZmZGVCMQM3MzMxMDo1AAAAAAIDMjUAzMzMzs4qOQGZmZmbmSI9A\",\"dtype\":\"float64\",\"shape\":[75]}},\"selected\":{\"id\":\"4bea5aaf-7646-4823-935f-c436ea59926b\",\"type\":\"Selection\"},\"selection_policy\":{\"id\":\"c2bdfb8c-204b-434d-814a-b046cf2ac05d\",\"type\":\"UnionRenderers\"}},\"id\":\"e0b6a276-4d86-4e5c-a0be-b09393207020\",\"type\":\"ColumnDataSource\"},{\"attributes\":{},\"id\":\"89999452-0ce8-4474-9f23-fbd909686dcc\",\"type\":\"Selection\"},{\"attributes\":{\"children\":[{\"id\":\"3a7d3fb6-0499-4b32-b8a6-faf105e272fb\",\"type\":\"ToolbarBox\"},{\"id\":\"9292b9fd-c287-4598-957b-b6122cc1822e\",\"type\":\"Column\"}]},\"id\":\"410f78e7-6257-4a6c-a451-a2ed9115db27\",\"type\":\"Column\"},{\"attributes\":{},\"id\":\"62325811-9b4a-4bd4-9d01-bf6c7dbdaff9\",\"type\":\"LinearScale\"},{\"attributes\":{},\"id\":\"6ced53d2-dcb1-43f3-9f2a-6ba557be1c10\",\"type\":\"LinearScale\"},{\"attributes\":{\"callback\":null,\"data\":{\"x\":{\"__ndarray__\":\"8Lkw201iKL/uK5Kcs1Erv7Uqi3/tkjC/t94exRh9M78o+HVY5mU2v5UJY5eLTjm/IDly/x81PL8ee2mkIRk/vxRQkC8U/UC/N/EtIgVsQr+YRz9CANpDvywOsJ0LRkW/ECkB0SGxRr8JmlfeSBhIv12/E4QB/Em/FyOc5DiITr8V1YBcuZJRv9yW1S9pcFG/QrC+i4QgSr8pdBrn7fQav7bnH+QI11Q/Bxm8QC0sbj/b+5rFgO58P0Gj1YCxlII/9NarTf0qgD8SP9kttot0P27RDQInqlI/dP80VNVbZb/nKIxZ8tl2v+8TklS3VoC/Dz0xBGPxg78Z6jb8/GSFvy+kw0MYP4W/fvPuyTRzhL8xR3XU9sqBv6bm6LU9qHm/BDMhTOO1cL93nxPd23Znv41JqGWXa2K/zgT1POcGXb/CeaL3x+xVv3MZWkTkWVG/p618iFbzTL9wfl3B5bBHv70K2K6KoEO/3eXjWdAbQb81s9pSYfc9v0VMcJ1m6zm/NB9Lb9x6Nr+E2kk8L5szv9xRcEC06jC/GTlWzm3TLL9iX1qR0DQov9408g7+NSS/Tedh2oizIL+tzy1Y0NIav8lyXGURwRS/1BrRtC8gDr+kiEZ5qUYDv3A4pgXp9/G+L2mA8qaJuj58j+JwyWX0PpJcRgKmJQM/K53atsq8Cz/GHe17DPcRP+auLR9p0BU/DVzgNJt9GT9VwPSvyfccPzKbSfhVBCA/+AC2TL9TIT8ghwgUSXkiPzSQJJgfiCM/w8Jo/zGFJD8duHOsgnElP/sXKeQyUCY/\",\"dtype\":\"float64\",\"shape\":[75]},\"y\":{\"__ndarray__\":\"GhExyth1ND/Sv8nbtpRIP2vylNV0PVE/aTum7souWD/At0SJ8fVgPw3Iuahxymc/MSNhhJWvcD/bTfBN02d3P2zb5nxnaoA/CD5h5MAGhz8NmeH1TyaQP+zrCsc9p5Y/LbKd76fGnz/bLW5ISEmmPww9YvTcQq8/JV2OstnstT8Er5Y7M8G+P0c+r3jqkcU/5h99k6ZBzj88bCIzFzjVP4enV8oyxN0//yH99nXg5D8qOpLLf0jtP5kqGJXUifQ/c9cS8kHP/D+/DpwzojQEQIEmwoanVwxA4lgXt9HgE0BSSZ2AJuIbQAMJih9jjiNA5q4l5INuK0AwTKYKRj0zQNv5fmq8/DpAaCJseHrtQkB/+zpwzoxKQM3MzMzMeFJAZmZmZmZqWEAAAAAAAFxeQM3MzMzMJmJAmpmZmZkfZUBmZmZmZhhoQDMzMzMzEWtAAAAAAAAKbkBmZmZmZoFwQM3MzMzM/XFAMzMzMzN6c0CamZmZmfZ0QAAAAAAAc3ZAZmZmZmbvd0DNzMzMzGt5QDMzMzMz6HpAmpmZmZlkfEAAAAAAAOF9QGZmZmZmXX9AZmZmZuZsgECamZmZGSuBQM3MzMxM6YFAAAAAAICngkAzMzMzs2WDQGZmZmbmI4RAmpmZmRnihEDNzMzMTKCFQAAAAACAXoZAMzMzM7Mch0BmZmZm5tqHQJqZmZkZmYhAzczMzExXiUAAAAAAgBWKQDMzMzOz04pAZmZmZuaRi0CamZmZGVCMQM3MzMxMDo1AAAAAAIDMjUAzMzMzs4qOQGZmZmbmSI9A\",\"dtype\":\"float64\",\"shape\":[75]}},\"selected\":{\"id\":\"5ac967c2-8d93-48d4-9299-c6b257cd50d4\",\"type\":\"Selection\"},\"selection_policy\":{\"id\":\"a1dbf498-b750-476c-bdf9-d09cc0218749\",\"type\":\"UnionRenderers\"}},\"id\":\"3066930b-30fd-4d1f-88bb-25f455331513\",\"type\":\"ColumnDataSource\"},{\"attributes\":{\"callback\":null,\"end\":0.0002636329375,\"start\":-0.0092627741075},\"id\":\"da25ff43-6d41-4342-948b-23deca66361b\",\"type\":\"Range1d\"},{\"attributes\":{\"source\":{\"id\":\"2a2a4245-a2c7-42e4-974a-5fe044727e1c\",\"type\":\"ColumnDataSource\"}},\"id\":\"496ea549-c172-4307-b01e-53dec4e1f26a\",\"type\":\"CDSView\"},{\"attributes\":{\"children\":[{\"id\":\"f321f808-e3b6-4bf7-bda8-444b4d2c6b00\",\"type\":\"Row\"}]},\"id\":\"9292b9fd-c287-4598-957b-b6122cc1822e\",\"type\":\"Column\"},{\"attributes\":{\"data_source\":{\"id\":\"8511e73b-c6ff-4976-b661-9a8c0de05395\",\"type\":\"ColumnDataSource\"},\"glyph\":{\"id\":\"66cb9db2-5f95-4237-a73d-cf4244a8bfb1\",\"type\":\"Line\"},\"hover_glyph\":null,\"muted_glyph\":null,\"nonselection_glyph\":{\"id\":\"54d8cbbd-4e9e-4048-b376-b5a0362187d1\",\"type\":\"Line\"},\"selection_glyph\":null,\"view\":{\"id\":\"1eb3ec80-2ca2-4abc-a527-1730a0816e42\",\"type\":\"CDSView\"}},\"id\":\"5afa8fcc-aabd-4ea9-92e7-e520ab7eba11\",\"type\":\"GlyphRenderer\"},{\"attributes\":{\"line_alpha\":0.1,\"line_color\":\"#1f77b4\",\"line_width\":1.5,\"x\":{\"field\":\"x\"},\"y\":{\"field\":\"y\"}},\"id\":\"54d8cbbd-4e9e-4048-b376-b5a0362187d1\",\"type\":\"Line\"},{\"attributes\":{\"source\":{\"id\":\"3066930b-30fd-4d1f-88bb-25f455331513\",\"type\":\"ColumnDataSource\"}},\"id\":\"4005a279-8e3c-42bc-accc-eecd229f62fa\",\"type\":\"CDSView\"},{\"attributes\":{\"dimension\":1,\"plot\":{\"id\":\"18695764-3c5a-417d-b2bf-1d1515099e7d\",\"subtype\":\"Figure\",\"type\":\"Plot\"},\"ticker\":{\"id\":\"b1f6ced5-0522-40c2-afc6-954756789d78\",\"type\":\"BasicTicker\"}},\"id\":\"347dd600-d74a-4be1-8a63-f2c1ba7d5a25\",\"type\":\"Grid\"},{\"attributes\":{\"data_source\":{\"id\":\"3066930b-30fd-4d1f-88bb-25f455331513\",\"type\":\"ColumnDataSource\"},\"glyph\":{\"id\":\"bce49f07-a8b5-4ebc-bfba-d36572393322\",\"type\":\"Circle\"},\"hover_glyph\":null,\"muted_glyph\":null,\"nonselection_glyph\":{\"id\":\"580c1a6a-dc5d-4623-ba11-080fc872698f\",\"type\":\"Circle\"},\"selection_glyph\":null,\"view\":{\"id\":\"4005a279-8e3c-42bc-accc-eecd229f62fa\",\"type\":\"CDSView\"}},\"id\":\"8927e8a8-5b6b-4a18-8f5c-4a7403700fae\",\"type\":\"GlyphRenderer\"},{\"attributes\":{},\"id\":\"b1f6ced5-0522-40c2-afc6-954756789d78\",\"type\":\"BasicTicker\"},{\"attributes\":{\"axis_label\":\"cooling rate [K/day]\",\"formatter\":{\"id\":\"8301d410-5fa7-45f9-8098-98e2aca71710\",\"type\":\"BasicTickFormatter\"},\"plot\":{\"id\":\"18695764-3c5a-417d-b2bf-1d1515099e7d\",\"subtype\":\"Figure\",\"type\":\"Plot\"},\"ticker\":{\"id\":\"edb8e4b1-6bd0-456b-99d3-8f9e3b9cff01\",\"type\":\"BasicTicker\"}},\"id\":\"c52777e6-d111-463b-8b72-ddafe8300867\",\"type\":\"LinearAxis\"},{\"attributes\":{\"data_source\":{\"id\":\"2a2a4245-a2c7-42e4-974a-5fe044727e1c\",\"type\":\"ColumnDataSource\"},\"glyph\":{\"id\":\"8237abdc-a25b-43a5-8af8-2115f2f34a5a\",\"type\":\"Line\"},\"hover_glyph\":null,\"muted_glyph\":null,\"nonselection_glyph\":{\"id\":\"a34a9e6c-c684-4d16-a2d5-9470f983fb3b\",\"type\":\"Line\"},\"selection_glyph\":null,\"view\":{\"id\":\"496ea549-c172-4307-b01e-53dec4e1f26a\",\"type\":\"CDSView\"}},\"id\":\"6b811ef2-da8b-41f8-8034-427cc92eb0df\",\"type\":\"GlyphRenderer\"},{\"attributes\":{},\"id\":\"edb8e4b1-6bd0-456b-99d3-8f9e3b9cff01\",\"type\":\"BasicTicker\"},{\"attributes\":{\"plot\":{\"id\":\"18695764-3c5a-417d-b2bf-1d1515099e7d\",\"subtype\":\"Figure\",\"type\":\"Plot\"},\"ticker\":{\"id\":\"edb8e4b1-6bd0-456b-99d3-8f9e3b9cff01\",\"type\":\"BasicTicker\"}},\"id\":\"a7d2dfbd-f250-49d9-b617-70cfc4320a8d\",\"type\":\"Grid\"},{\"attributes\":{\"below\":[{\"id\":\"aa2b393e-4fb8-46b9-a36c-960c104105eb\",\"type\":\"LinearAxis\"}],\"left\":[{\"id\":\"ed344ebf-bca4-4563-95d0-994422f1fafc\",\"type\":\"LogAxis\"}],\"plot_height\":500,\"plot_width\":560,\"renderers\":[{\"id\":\"aa2b393e-4fb8-46b9-a36c-960c104105eb\",\"type\":\"LinearAxis\"},{\"id\":\"67418ecf-5268-448d-976f-4d0d5db052dc\",\"type\":\"Grid\"},{\"id\":\"ed344ebf-bca4-4563-95d0-994422f1fafc\",\"type\":\"LogAxis\"},{\"id\":\"a46e19af-2a8e-45e2-8611-825d97c73871\",\"type\":\"Grid\"},{\"id\":\"9d93c5e7-1ebc-4524-908c-407efedbe8a8\",\"type\":\"BoxAnnotation\"},{\"id\":\"6b811ef2-da8b-41f8-8034-427cc92eb0df\",\"type\":\"GlyphRenderer\"},{\"id\":\"8927e8a8-5b6b-4a18-8f5c-4a7403700fae\",\"type\":\"GlyphRenderer\"},{\"id\":\"36da194f-7ad5-4383-a96d-dbd5b1be27fa\",\"type\":\"GlyphRenderer\"},{\"id\":\"d1ddc36f-7918-4859-9be1-3b3a82285462\",\"type\":\"GlyphRenderer\"},{\"id\":\"67fd6bab-c417-43db-8c18-8ddf8c79c36a\",\"type\":\"GlyphRenderer\"},{\"id\":\"7a201beb-ab84-42be-8855-408d41204eb4\",\"type\":\"Legend\"}],\"right\":[{\"id\":\"7a201beb-ab84-42be-8855-408d41204eb4\",\"type\":\"Legend\"}],\"title\":{\"id\":\"312f6871-b475-43e8-8217-4e114d075c72\",\"type\":\"Title\"},\"toolbar\":{\"id\":\"99738838-a946-4d17-b2cc-f8ad770f020c\",\"type\":\"Toolbar\"},\"toolbar_location\":null,\"x_range\":{\"id\":\"4d6e5d14-7e0e-4f04-ad9b-f2223d5bea2f\",\"type\":\"Range1d\"},\"x_scale\":{\"id\":\"9527ed60-c83a-468a-9fcf-7b1d7dc9392c\",\"type\":\"LinearScale\"},\"y_range\":{\"id\":\"79a4332a-55b8-44fc-8faf-32bfc9969ac2\",\"type\":\"Range1d\"},\"y_scale\":{\"id\":\"ec7f73cc-66dd-4944-a6c2-3e3e89fa2509\",\"type\":\"LogScale\"}},\"id\":\"4cd82542-d4d7-48c8-b39b-dc6bb59d47b6\",\"subtype\":\"Figure\",\"type\":\"Plot\"},{\"attributes\":{\"line_color\":\"#4daf4a\",\"line_width\":1.5,\"x\":{\"field\":\"x\"},\"y\":{\"field\":\"y\"}},\"id\":\"ddb062f2-a93d-442f-992f-5df4d1ddfa95\",\"type\":\"Line\"},{\"attributes\":{\"active_drag\":\"auto\",\"active_inspect\":\"auto\",\"active_scroll\":\"auto\",\"active_tap\":\"auto\",\"tools\":[{\"id\":\"d5dc0024-8f82-4013-883e-59429dc1464e\",\"type\":\"PanTool\"},{\"id\":\"478998a0-e221-42da-8e42-e22aa707277b\",\"type\":\"WheelZoomTool\"},{\"id\":\"a9d2e6cf-902e-48ee-92b4-61f751150105\",\"type\":\"BoxZoomTool\"},{\"id\":\"69b9a6dd-86ea-4502-b504-d2fef9ec4041\",\"type\":\"SaveTool\"},{\"id\":\"1c289681-7303-4218-bad5-a0d16feb437c\",\"type\":\"ResetTool\"},{\"id\":\"0854733c-90b9-4ed7-bb72-8b09be617d0b\",\"type\":\"HelpTool\"}]},\"id\":\"c7463fa1-5827-4f92-bbd3-fa564c82e6a6\",\"type\":\"Toolbar\"},{\"attributes\":{\"plot\":null,\"text\":\"Linear pressure scale\"},\"id\":\"8a2add37-cc7c-46a3-94c6-478f3ea11a59\",\"type\":\"Title\"},{\"attributes\":{\"callback\":null,\"data\":{\"x\":{\"__ndarray__\":\"8Lkw201iKL/uK5Kcs1Erv7Uqi3/tkjC/t94exRh9M78o+HVY5mU2v5UJY5eLTjm/IDly/x81PL8ee2mkIRk/vxRQkC8U/UC/N/EtIgVsQr+YRz9CANpDvywOsJ0LRkW/ECkB0SGxRr8JmlfeSBhIv12/E4QB/Em/FyOc5DiITr8V1YBcuZJRv9yW1S9pcFG/QrC+i4QgSr8pdBrn7fQav7bnH+QI11Q/Bxm8QC0sbj/b+5rFgO58P0Gj1YCxlII/9NarTf0qgD8SP9kttot0P27RDQInqlI/dP80VNVbZb/nKIxZ8tl2v+8TklS3VoC/Dz0xBGPxg78Z6jb8/GSFvy+kw0MYP4W/fvPuyTRzhL8xR3XU9sqBv6bm6LU9qHm/BDMhTOO1cL93nxPd23Znv41JqGWXa2K/zgT1POcGXb/CeaL3x+xVv3MZWkTkWVG/p618iFbzTL9wfl3B5bBHv70K2K6KoEO/3eXjWdAbQb81s9pSYfc9v0VMcJ1m6zm/NB9Lb9x6Nr+E2kk8L5szv9xRcEC06jC/GTlWzm3TLL9iX1qR0DQov9408g7+NSS/Tedh2oizIL+tzy1Y0NIav8lyXGURwRS/1BrRtC8gDr+kiEZ5qUYDv3A4pgXp9/G+L2mA8qaJuj58j+JwyWX0PpJcRgKmJQM/K53atsq8Cz/GHe17DPcRP+auLR9p0BU/DVzgNJt9GT9VwPSvyfccPzKbSfhVBCA/+AC2TL9TIT8ghwgUSXkiPzSQJJgfiCM/w8Jo/zGFJD8duHOsgnElP/sXKeQyUCY/\",\"dtype\":\"float64\",\"shape\":[75]},\"y\":{\"__ndarray__\":\"GhExyth1ND/Sv8nbtpRIP2vylNV0PVE/aTum7souWD/At0SJ8fVgPw3Iuahxymc/MSNhhJWvcD/bTfBN02d3P2zb5nxnaoA/CD5h5MAGhz8NmeH1TyaQP+zrCsc9p5Y/LbKd76fGnz/bLW5ISEmmPww9YvTcQq8/JV2OstnstT8Er5Y7M8G+P0c+r3jqkcU/5h99k6ZBzj88bCIzFzjVP4enV8oyxN0//yH99nXg5D8qOpLLf0jtP5kqGJXUifQ/c9cS8kHP/D+/DpwzojQEQIEmwoanVwxA4lgXt9HgE0BSSZ2AJuIbQAMJih9jjiNA5q4l5INuK0AwTKYKRj0zQNv5fmq8/DpAaCJseHrtQkB/+zpwzoxKQM3MzMzMeFJAZmZmZmZqWEAAAAAAAFxeQM3MzMzMJmJAmpmZmZkfZUBmZmZmZhhoQDMzMzMzEWtAAAAAAAAKbkBmZmZmZoFwQM3MzMzM/XFAMzMzMzN6c0CamZmZmfZ0QAAAAAAAc3ZAZmZmZmbvd0DNzMzMzGt5QDMzMzMz6HpAmpmZmZlkfEAAAAAAAOF9QGZmZmZmXX9AZmZmZuZsgECamZmZGSuBQM3MzMxM6YFAAAAAAICngkAzMzMzs2WDQGZmZmbmI4RAmpmZmRnihEDNzMzMTKCFQAAAAACAXoZAMzMzM7Mch0BmZmZm5tqHQJqZmZkZmYhAzczMzExXiUAAAAAAgBWKQDMzMzOz04pAZmZmZuaRi0CamZmZGVCMQM3MzMxMDo1AAAAAAIDMjUAzMzMzs4qOQGZmZmbmSI9A\",\"dtype\":\"float64\",\"shape\":[75]}},\"selected\":{\"id\":\"d10817cc-f4a9-4b71-bdb5-bf517bc066f6\",\"type\":\"Selection\"},\"selection_policy\":{\"id\":\"98b0f181-57dc-4168-a934-77eef79a2b84\",\"type\":\"UnionRenderers\"}},\"id\":\"8511e73b-c6ff-4976-b661-9a8c0de05395\",\"type\":\"ColumnDataSource\"},{\"attributes\":{\"fill_alpha\":{\"value\":0.7},\"fill_color\":{\"value\":\"#4daf4a\"},\"line_alpha\":{\"value\":0.7},\"line_color\":{\"value\":\"#4daf4a\"},\"x\":{\"field\":\"x\"},\"y\":{\"field\":\"y\"}},\"id\":\"bce49f07-a8b5-4ebc-bfba-d36572393322\",\"type\":\"Circle\"},{\"attributes\":{},\"id\":\"478998a0-e221-42da-8e42-e22aa707277b\",\"type\":\"WheelZoomTool\"},{\"attributes\":{\"callback\":null,\"data\":{\"x\":{\"__ndarray__\":\"8Lkw201iKL/uK5Kcs1Erv7Uqi3/tkjC/t94exRh9M78o+HVY5mU2v5UJY5eLTjm/IDly/x81PL8ee2mkIRk/vxRQkC8U/UC/N/EtIgVsQr+YRz9CANpDvywOsJ0LRkW/ECkB0SGxRr8JmlfeSBhIv12/E4QB/Em/FyOc5DiITr8V1YBcuZJRv9yW1S9pcFG/QrC+i4QgSr8pdBrn7fQav7bnH+QI11Q/Bxm8QC0sbj/b+5rFgO58P0Gj1YCxlII/9NarTf0qgD8SP9kttot0P27RDQInqlI/dP80VNVbZb/nKIxZ8tl2v+8TklS3VoC/Dz0xBGPxg78Z6jb8/GSFvy+kw0MYP4W/fvPuyTRzhL8xR3XU9sqBv6bm6LU9qHm/BDMhTOO1cL93nxPd23Znv41JqGWXa2K/zgT1POcGXb/CeaL3x+xVv3MZWkTkWVG/p618iFbzTL9wfl3B5bBHv70K2K6KoEO/3eXjWdAbQb81s9pSYfc9v0VMcJ1m6zm/NB9Lb9x6Nr+E2kk8L5szv9xRcEC06jC/GTlWzm3TLL9iX1qR0DQov9408g7+NSS/Tedh2oizIL+tzy1Y0NIav8lyXGURwRS/1BrRtC8gDr+kiEZ5qUYDv3A4pgXp9/G+L2mA8qaJuj58j+JwyWX0PpJcRgKmJQM/K53atsq8Cz/GHe17DPcRP+auLR9p0BU/DVzgNJt9GT9VwPSvyfccPzKbSfhVBCA/+AC2TL9TIT8ghwgUSXkiPzSQJJgfiCM/w8Jo/zGFJD8duHOsgnElP/sXKeQyUCY/\",\"dtype\":\"float64\",\"shape\":[75]},\"y\":{\"__ndarray__\":\"GhExyth1ND/Sv8nbtpRIP2vylNV0PVE/aTum7souWD/At0SJ8fVgPw3Iuahxymc/MSNhhJWvcD/bTfBN02d3P2zb5nxnaoA/CD5h5MAGhz8NmeH1TyaQP+zrCsc9p5Y/LbKd76fGnz/bLW5ISEmmPww9YvTcQq8/JV2OstnstT8Er5Y7M8G+P0c+r3jqkcU/5h99k6ZBzj88bCIzFzjVP4enV8oyxN0//yH99nXg5D8qOpLLf0jtP5kqGJXUifQ/c9cS8kHP/D+/DpwzojQEQIEmwoanVwxA4lgXt9HgE0BSSZ2AJuIbQAMJih9jjiNA5q4l5INuK0AwTKYKRj0zQNv5fmq8/DpAaCJseHrtQkB/+zpwzoxKQM3MzMzMeFJAZmZmZmZqWEAAAAAAAFxeQM3MzMzMJmJAmpmZmZkfZUBmZmZmZhhoQDMzMzMzEWtAAAAAAAAKbkBmZmZmZoFwQM3MzMzM/XFAMzMzMzN6c0CamZmZmfZ0QAAAAAAAc3ZAZmZmZmbvd0DNzMzMzGt5QDMzMzMz6HpAmpmZmZlkfEAAAAAAAOF9QGZmZmZmXX9AZmZmZuZsgECamZmZGSuBQM3MzMxM6YFAAAAAAICngkAzMzMzs2WDQGZmZmbmI4RAmpmZmRnihEDNzMzMTKCFQAAAAACAXoZAMzMzM7Mch0BmZmZm5tqHQJqZmZkZmYhAzczMzExXiUAAAAAAgBWKQDMzMzOz04pAZmZmZuaRi0CamZmZGVCMQM3MzMxMDo1AAAAAAIDMjUAzMzMzs4qOQGZmZmbmSI9A\",\"dtype\":\"float64\",\"shape\":[75]}},\"selected\":{\"id\":\"93350ef7-2dc5-4155-9484-d27fcfe8099b\",\"type\":\"Selection\"},\"selection_policy\":{\"id\":\"39d01642-4dc9-48fc-91df-c66616906de6\",\"type\":\"UnionRenderers\"}},\"id\":\"60a9ecd3-953b-4035-8206-0b1edcec3042\",\"type\":\"ColumnDataSource\"},{\"attributes\":{\"line_alpha\":0.1,\"line_color\":\"#1f77b4\",\"line_width\":1.5,\"x\":{\"field\":\"x\"},\"y\":{\"field\":\"y\"}},\"id\":\"61f95811-e904-4201-8cc1-7cbd78d3ec9d\",\"type\":\"Line\"},{\"attributes\":{},\"id\":\"ac153630-2a4d-47e7-926f-ebb2994d0f1f\",\"type\":\"UnionRenderers\"},{\"attributes\":{\"data_source\":{\"id\":\"60a9ecd3-953b-4035-8206-0b1edcec3042\",\"type\":\"ColumnDataSource\"},\"glyph\":{\"id\":\"ddb062f2-a93d-442f-992f-5df4d1ddfa95\",\"type\":\"Line\"},\"hover_glyph\":null,\"muted_glyph\":null,\"nonselection_glyph\":{\"id\":\"61f95811-e904-4201-8cc1-7cbd78d3ec9d\",\"type\":\"Line\"},\"selection_glyph\":null,\"view\":{\"id\":\"09ee94c3-9511-476a-af54-a9aa90db062c\",\"type\":\"CDSView\"}},\"id\":\"36da194f-7ad5-4383-a96d-dbd5b1be27fa\",\"type\":\"GlyphRenderer\"},{\"attributes\":{\"callback\":null,\"data\":{\"x\":{\"__ndarray__\":\"KMPH2K9RJL9luE1g91Unv7/PBOnYXSu/6WZ15UkPML9N1oQKEHkyv3rW3EmS5jS/3eFGGbVRN7+bE/Tznb85vzfJy+3pKTy/4IBp5LmWPr8gNwwBtIBAvwWXqKNgtkG/qOqg89DrQr9782jD9yVEv5AAYDxB30W/ZK78+g4YSr+WFAw/e/ZOv3c2Pr8tPFC/jxDkL1TWS7+o6lSRpY85v/4CtWheJkM/rZQP0clKYz+/pb4Z5fNzP7uMNBP53nk/keC6ICqmdT+/RS0pjKhnP3S6og+z4ja/5VrEmd4Dbb8M1oUF2ol5v7zxfnSbhIG/F/O6GN8khb+ilprIwpOGv9CMJ31/VYa/VysnYpBChb+WvRjOHQuCvzo7AVuKFXm/MbmD5w2Pb7/g/6DUK5xlv/s9k68bpWC/NoJvA0fVWb9WcFNWp1BTv3yDigUZXE6/FipT+z80Sb8bT9DPjYtEvzGQmhPb90C/61epelCBPb8GrfFGRck5v7EJ9t+hQza/slB2pklHM7+X1Jo4isswvz5RvAo49Sy/6nyji7aoKL/ar0ck/rIkv6NSdmkSSSG/0yzDIzuWHL8i5seJAfwWv8OyLowf1BG/8W1x6woDCr8RwKHugtYAv89NUfTqSPC+iWBSqkdkkD5Equ1qDwLwPq/GknNeBv8+MyIBNpS7Bj+fjFWIjZUNP56Wcm+MBRI/883t3psWFT+bL8cecQEYP8pPA0wPkxo/DyLgds7FHD/XRG6JK7MeP6sXY4FBPSA/PfRmQN4RIT+IogX7M9ghPyxilIb2kiI/\",\"dtype\":\"float64\",\"shape\":[75]},\"y\":{\"__ndarray__\":\"S/O/Q+51ND/Sv8nbtpRIP2vylNV0PVE/aTum7souWD/At0SJ8fVgPw3Iuahxymc/MSNhhJWvcD/bTfBN02d3P2zb5nxnaoA/CD5h5MAGhz8NmeH1TyaQP+zrCsc9p5Y/LbKd76fGnz/bLW5ISEmmPww9YvTcQq8/JV2OstnstT8Er5Y7M8G+P0c+r3jqkcU/5h99k6ZBzj88bCIzFzjVP4enV8oyxN0//yH99nXg5D8qOpLLf0jtP5kqGJXUifQ/c9cS8kHP/D+/DpwzojQEQIEmwoanVwxA4lgXt9HgE0BSSZ2AJuIbQAMJih9jjiNA5q4l5INuK0AwTKYKRj0zQNv5fmq8/DpAaCJseHrtQkB/+zpwzoxKQM3MzMzMeFJAZmZmZmZqWEAAAAAAAFxeQM3MzMzMJmJAmpmZmZkfZUBmZmZmZhhoQDMzMzMzEWtAAAAAAAAKbkBmZmZmZoFwQM3MzMzM/XFAMzMzMzN6c0CamZmZmfZ0QAAAAAAAc3ZAZmZmZmbvd0DNzMzMzGt5QDMzMzMz6HpAmpmZmZlkfEAAAAAAAOF9QGZmZmZmXX9AZmZmZuZsgECamZmZGSuBQM3MzMxM6YFAAAAAAICngkAzMzMzs2WDQGZmZmbmI4RAmpmZmRnihEDNzMzMTKCFQAAAAACAXoZAMzMzM7Mch0BmZmZm5tqHQJqZmZkZmYhAzczMzExXiUAAAAAAgBWKQDMzMzOz04pAZmZmZuaRi0CamZmZGVCMQM3MzMxMDo1AAAAAAIDMjUAzMzMzs4qOQGZmZmbmSI9A\",\"dtype\":\"float64\",\"shape\":[75]}},\"selected\":{\"id\":\"d072b78b-36bd-4953-bc10-368e32019e97\",\"type\":\"Selection\"},\"selection_policy\":{\"id\":\"3782722c-8fe9-4bfb-9d5e-eb45fc45d5c0\",\"type\":\"UnionRenderers\"}},\"id\":\"2ba67375-69fc-4e9d-ab4c-bf85e6ba877e\",\"type\":\"ColumnDataSource\"},{\"attributes\":{\"source\":{\"id\":\"60a9ecd3-953b-4035-8206-0b1edcec3042\",\"type\":\"ColumnDataSource\"}},\"id\":\"09ee94c3-9511-476a-af54-a9aa90db062c\",\"type\":\"CDSView\"},{\"attributes\":{\"fill_alpha\":{\"value\":0.7},\"fill_color\":{\"value\":\"#984ea3\"},\"line_alpha\":{\"value\":0.7},\"line_color\":{\"value\":\"#984ea3\"},\"x\":{\"field\":\"x\"},\"y\":{\"field\":\"y\"}},\"id\":\"18371b5c-5ac4-41a6-aa9c-f5455230d7c7\",\"type\":\"Square\"},{\"attributes\":{\"data_source\":{\"id\":\"634db555-8746-4d33-8c56-2fe31cf2525c\",\"type\":\"ColumnDataSource\"},\"glyph\":{\"id\":\"0a00b41d-16a3-4e64-952f-36d4b995ab0f\",\"type\":\"Line\"},\"hover_glyph\":null,\"muted_glyph\":null,\"nonselection_glyph\":{\"id\":\"dd0765f3-801a-4cab-ab5e-8ff8a178458a\",\"type\":\"Line\"},\"selection_glyph\":null,\"view\":{\"id\":\"9795386c-e79a-4f84-b6d0-dea224ce9d4c\",\"type\":\"CDSView\"}},\"id\":\"67fd6bab-c417-43db-8c18-8ddf8c79c36a\",\"type\":\"GlyphRenderer\"},{\"attributes\":{\"line_color\":\"#4daf4a\",\"line_width\":1.5,\"x\":{\"field\":\"x\"},\"y\":{\"field\":\"y\"}},\"id\":\"66cb9db2-5f95-4237-a73d-cf4244a8bfb1\",\"type\":\"Line\"},{\"attributes\":{\"line_alpha\":0.6,\"line_color\":\"#984ea3\",\"line_width\":3,\"x\":{\"field\":\"x\"},\"y\":{\"field\":\"y\"}},\"id\":\"0a00b41d-16a3-4e64-952f-36d4b995ab0f\",\"type\":\"Line\"},{\"attributes\":{\"source\":{\"id\":\"634db555-8746-4d33-8c56-2fe31cf2525c\",\"type\":\"ColumnDataSource\"}},\"id\":\"9795386c-e79a-4f84-b6d0-dea224ce9d4c\",\"type\":\"CDSView\"},{\"attributes\":{\"children\":[{\"id\":\"18695764-3c5a-417d-b2bf-1d1515099e7d\",\"subtype\":\"Figure\",\"type\":\"Plot\"},{\"id\":\"4cd82542-d4d7-48c8-b39b-dc6bb59d47b6\",\"subtype\":\"Figure\",\"type\":\"Plot\"}]},\"id\":\"f321f808-e3b6-4bf7-bda8-444b4d2c6b00\",\"type\":\"Row\"},{\"attributes\":{},\"id\":\"c4420854-f94e-43b0-b357-ad32c33d0e0a\",\"type\":\"BasicTickFormatter\"},{\"attributes\":{\"label\":{\"value\":\"CLIRAD `coolr_bands`\"},\"renderers\":[{\"id\":\"6b811ef2-da8b-41f8-8034-427cc92eb0df\",\"type\":\"GlyphRenderer\"}]},\"id\":\"c8490cc2-050f-4652-92ed-a3285c2d42f4\",\"type\":\"LegendItem\"},{\"attributes\":{},\"id\":\"0854733c-90b9-4ed7-bb72-8b09be617d0b\",\"type\":\"HelpTool\"},{\"attributes\":{},\"id\":\"8299d438-1548-44cd-a348-f7dba5c1117e\",\"type\":\"UnionRenderers\"},{\"attributes\":{\"label\":{\"value\":\"CRD\"},\"renderers\":[{\"id\":\"8927e8a8-5b6b-4a18-8f5c-4a7403700fae\",\"type\":\"GlyphRenderer\"},{\"id\":\"36da194f-7ad5-4383-a96d-dbd5b1be27fa\",\"type\":\"GlyphRenderer\"}]},\"id\":\"0c4d73a6-8869-43b8-b2cf-eef41e332aa0\",\"type\":\"LegendItem\"},{\"attributes\":{},\"id\":\"69b9a6dd-86ea-4502-b504-d2fef9ec4041\",\"type\":\"SaveTool\"},{\"attributes\":{},\"id\":\"c2c39bd4-3da5-497c-a13e-91cbd04f1ed8\",\"type\":\"BasicTickFormatter\"},{\"attributes\":{\"overlay\":{\"id\":\"acc8da8f-2eee-488e-acb0-656e271edb9e\",\"type\":\"BoxAnnotation\"}},\"id\":\"a9d2e6cf-902e-48ee-92b4-61f751150105\",\"type\":\"BoxZoomTool\"},{\"attributes\":{\"label\":{\"value\":\"WGT igg=10 wgt_flux=2\"},\"renderers\":[{\"id\":\"d1ddc36f-7918-4859-9be1-3b3a82285462\",\"type\":\"GlyphRenderer\"},{\"id\":\"67fd6bab-c417-43db-8c18-8ddf8c79c36a\",\"type\":\"GlyphRenderer\"}]},\"id\":\"90c66016-8510-4d27-85a6-112e65cbdaf7\",\"type\":\"LegendItem\"},{\"attributes\":{},\"id\":\"1c289681-7303-4218-bad5-a0d16feb437c\",\"type\":\"ResetTool\"},{\"attributes\":{},\"id\":\"d072b78b-36bd-4953-bc10-368e32019e97\",\"type\":\"Selection\"},{\"attributes\":{},\"id\":\"8301d410-5fa7-45f9-8098-98e2aca71710\",\"type\":\"BasicTickFormatter\"},{\"attributes\":{},\"id\":\"d10817cc-f4a9-4b71-bdb5-bf517bc066f6\",\"type\":\"Selection\"},{\"attributes\":{},\"id\":\"30257bd5-d76e-4072-8798-566268adb911\",\"type\":\"Selection\"},{\"attributes\":{},\"id\":\"3782722c-8fe9-4bfb-9d5e-eb45fc45d5c0\",\"type\":\"UnionRenderers\"},{\"attributes\":{},\"id\":\"b03c3a75-2b86-439d-8a63-f8795d4988bc\",\"type\":\"Selection\"},{\"attributes\":{\"callback\":null,\"end\":0.01,\"start\":1020},\"id\":\"4c5b65d4-6ab0-4752-9d17-ff7064630723\",\"type\":\"Range1d\"},{\"attributes\":{},\"id\":\"412c8521-0010-4687-8036-d6e0820ac283\",\"type\":\"Selection\"},{\"attributes\":{\"source\":{\"id\":\"604ac645-8646-4604-8b75-adb62b671dcb\",\"type\":\"ColumnDataSource\"}},\"id\":\"22f24c83-7093-4058-9328-cc53e77fa8ed\",\"type\":\"CDSView\"},{\"attributes\":{},\"id\":\"98b0f181-57dc-4168-a934-77eef79a2b84\",\"type\":\"UnionRenderers\"},{\"attributes\":{\"ticker\":null},\"id\":\"f21f88d2-f4a1-4c68-b1d4-4e98385170db\",\"type\":\"LogTickFormatter\"},{\"attributes\":{},\"id\":\"7c0e3cde-da14-4696-a9e8-d5e260241be2\",\"type\":\"UnionRenderers\"},{\"attributes\":{},\"id\":\"72a51b11-68d0-49d4-9b70-c2097433b278\",\"type\":\"Selection\"},{\"attributes\":{},\"id\":\"d5736b2a-448c-4388-9165-5f441cc1baa5\",\"type\":\"UnionRenderers\"}],\"root_ids\":[\"410f78e7-6257-4a6c-a451-a2ed9115db27\"]},\"title\":\"Bokeh Application\",\"version\":\"0.12.16\"}};\n",
       "  var render_items = [{\"docid\":\"29a861f0-7d3a-441c-a12a-b225c535109c\",\"elementid\":\"5485dff2-6750-4a28-9d2b-d987cdff53ae\",\"modelid\":\"410f78e7-6257-4a6c-a451-a2ed9115db27\"}];\n",
       "  root.Bokeh.embed.embed_items_notebook(docs_json, render_items);\n",
       "\n",
       "  }\n",
       "  if (root.Bokeh !== undefined) {\n",
       "    embed_document(root);\n",
       "  } else {\n",
       "    var attempts = 0;\n",
       "    var timer = setInterval(function(root) {\n",
       "      if (root.Bokeh !== undefined) {\n",
       "        embed_document(root);\n",
       "        clearInterval(timer);\n",
       "      }\n",
       "      attempts++;\n",
       "      if (attempts > 100) {\n",
       "        console.log(\"Bokeh: ERROR: Unable to run BokehJS code because BokehJS library is missing\")\n",
       "        clearInterval(timer);\n",
       "      }\n",
       "    }, 10, root)\n",
       "  }\n",
       "})(window);"
      ],
      "application/vnd.bokehjs_exec.v0+json": ""
     },
     "metadata": {
      "application/vnd.bokehjs_exec.v0+json": {
       "id": "410f78e7-6257-4a6c-a451-a2ed9115db27"
      }
     },
     "output_type": "display_data"
    },
    {
     "name": "stdout",
     "output_type": "stream",
     "text": [
      "FIGURE. Cooling rate profiles.\n"
     ]
    },
    {
     "data": {
      "text/html": [
       "<a id=\"Flux_Comparison\"></a>"
      ],
      "text/plain": [
       "<IPython.core.display.HTML object>"
      ]
     },
     "metadata": {},
     "output_type": "display_data"
    },
    {
     "data": {
      "text/markdown": [
       "# Flux Comparison"
      ],
      "text/plain": [
       "<IPython.core.display.Markdown object>"
      ]
     },
     "metadata": {},
     "output_type": "display_data"
    },
    {
     "data": {
      "text/html": [
       "<div>\n",
       "<style scoped>\n",
       "    .dataframe tbody tr th:only-of-type {\n",
       "        vertical-align: middle;\n",
       "    }\n",
       "\n",
       "    .dataframe tbody tr th {\n",
       "        vertical-align: top;\n",
       "    }\n",
       "\n",
       "    .dataframe thead th {\n",
       "        text-align: right;\n",
       "    }\n",
       "</style>\n",
       "<table border=\"1\" class=\"dataframe\">\n",
       "  <thead>\n",
       "    <tr style=\"text-align: right;\">\n",
       "      <th></th>\n",
       "      <th></th>\n",
       "      <th>flug</th>\n",
       "      <th>fldg</th>\n",
       "      <th>fnetg</th>\n",
       "    </tr>\n",
       "    <tr>\n",
       "      <th>pressure</th>\n",
       "      <th>level</th>\n",
       "      <th></th>\n",
       "      <th></th>\n",
       "      <th></th>\n",
       "    </tr>\n",
       "  </thead>\n",
       "  <tbody>\n",
       "    <tr>\n",
       "      <th>0.0000</th>\n",
       "      <th>1</th>\n",
       "      <td>-6.480971</td>\n",
       "      <td>0.000000</td>\n",
       "      <td>-6.480971</td>\n",
       "    </tr>\n",
       "    <tr>\n",
       "      <th>1.0685</th>\n",
       "      <th>24</th>\n",
       "      <td>-6.481025</td>\n",
       "      <td>0.000399</td>\n",
       "      <td>-6.480625</td>\n",
       "    </tr>\n",
       "    <tr>\n",
       "      <th>1013.0000</th>\n",
       "      <th>76</th>\n",
       "      <td>-6.625452</td>\n",
       "      <td>0.017221</td>\n",
       "      <td>-6.608232</td>\n",
       "    </tr>\n",
       "  </tbody>\n",
       "</table>\n",
       "</div>"
      ],
      "text/plain": [
       "                     flug      fldg     fnetg\n",
       "pressure  level                              \n",
       "0.0000    1     -6.480971  0.000000 -6.480971\n",
       "1.0685    24    -6.481025  0.000399 -6.480625\n",
       "1013.0000 76    -6.625452  0.017221 -6.608232"
      ]
     },
     "metadata": {},
     "output_type": "display_data"
    },
    {
     "name": "stdout",
     "output_type": "stream",
     "text": [
      "Table. Fluxes. CRD\n"
     ]
    },
    {
     "data": {
      "text/html": [
       "<div>\n",
       "<style scoped>\n",
       "    .dataframe tbody tr th:only-of-type {\n",
       "        vertical-align: middle;\n",
       "    }\n",
       "\n",
       "    .dataframe tbody tr th {\n",
       "        vertical-align: top;\n",
       "    }\n",
       "\n",
       "    .dataframe thead th {\n",
       "        text-align: right;\n",
       "    }\n",
       "</style>\n",
       "<table border=\"1\" class=\"dataframe\">\n",
       "  <thead>\n",
       "    <tr style=\"text-align: right;\">\n",
       "      <th></th>\n",
       "      <th></th>\n",
       "      <th>flug</th>\n",
       "      <th>fldg</th>\n",
       "      <th>fnetg</th>\n",
       "    </tr>\n",
       "    <tr>\n",
       "      <th>pressure</th>\n",
       "      <th>level</th>\n",
       "      <th></th>\n",
       "      <th></th>\n",
       "      <th></th>\n",
       "    </tr>\n",
       "  </thead>\n",
       "  <tbody>\n",
       "    <tr>\n",
       "      <th>0.0000</th>\n",
       "      <th>1</th>\n",
       "      <td>-6.475668</td>\n",
       "      <td>0.000000</td>\n",
       "      <td>-6.475668</td>\n",
       "    </tr>\n",
       "    <tr>\n",
       "      <th>1.0685</th>\n",
       "      <th>24</th>\n",
       "      <td>-6.475741</td>\n",
       "      <td>0.000375</td>\n",
       "      <td>-6.475366</td>\n",
       "    </tr>\n",
       "    <tr>\n",
       "      <th>1013.0000</th>\n",
       "      <th>76</th>\n",
       "      <td>-6.625452</td>\n",
       "      <td>0.016708</td>\n",
       "      <td>-6.608745</td>\n",
       "    </tr>\n",
       "  </tbody>\n",
       "</table>\n",
       "</div>"
      ],
      "text/plain": [
       "                     flug      fldg     fnetg\n",
       "pressure  level                              \n",
       "0.0000    1     -6.475668  0.000000 -6.475668\n",
       "1.0685    24    -6.475741  0.000375 -6.475366\n",
       "1013.0000 76    -6.625452  0.016708 -6.608745"
      ]
     },
     "metadata": {},
     "output_type": "display_data"
    },
    {
     "name": "stdout",
     "output_type": "stream",
     "text": [
      "Table. Fluxes. WGT igg=10 wgt_flux=1\n"
     ]
    },
    {
     "data": {
      "text/html": [
       "<div>\n",
       "<style scoped>\n",
       "    .dataframe tbody tr th:only-of-type {\n",
       "        vertical-align: middle;\n",
       "    }\n",
       "\n",
       "    .dataframe tbody tr th {\n",
       "        vertical-align: top;\n",
       "    }\n",
       "\n",
       "    .dataframe thead th {\n",
       "        text-align: right;\n",
       "    }\n",
       "</style>\n",
       "<table border=\"1\" class=\"dataframe\">\n",
       "  <thead>\n",
       "    <tr style=\"text-align: right;\">\n",
       "      <th></th>\n",
       "      <th></th>\n",
       "      <th>flug</th>\n",
       "      <th>fldg</th>\n",
       "      <th>fnetg</th>\n",
       "    </tr>\n",
       "    <tr>\n",
       "      <th>pressure</th>\n",
       "      <th>level</th>\n",
       "      <th></th>\n",
       "      <th></th>\n",
       "      <th></th>\n",
       "    </tr>\n",
       "  </thead>\n",
       "  <tbody>\n",
       "    <tr>\n",
       "      <th>1.000000e-08</th>\n",
       "      <th>1</th>\n",
       "      <td>-6.484434</td>\n",
       "      <td>0.000002</td>\n",
       "      <td>-6.484432</td>\n",
       "    </tr>\n",
       "    <tr>\n",
       "      <th>1.068500e+00</th>\n",
       "      <th>24</th>\n",
       "      <td>-6.484520</td>\n",
       "      <td>0.000306</td>\n",
       "      <td>-6.484214</td>\n",
       "    </tr>\n",
       "    <tr>\n",
       "      <th>1.013000e+03</th>\n",
       "      <th>76</th>\n",
       "      <td>-6.625452</td>\n",
       "      <td>0.015136</td>\n",
       "      <td>-6.610316</td>\n",
       "    </tr>\n",
       "  </tbody>\n",
       "</table>\n",
       "</div>"
      ],
      "text/plain": [
       "                        flug      fldg     fnetg\n",
       "pressure     level                              \n",
       "1.000000e-08 1     -6.484434  0.000002 -6.484432\n",
       "1.068500e+00 24    -6.484520  0.000306 -6.484214\n",
       "1.013000e+03 76    -6.625452  0.015136 -6.610316"
      ]
     },
     "metadata": {},
     "output_type": "display_data"
    },
    {
     "name": "stdout",
     "output_type": "stream",
     "text": [
      "Table. Fluxes. CLIRAD\n"
     ]
    },
    {
     "data": {
      "text/html": [
       "<div>\n",
       "<style scoped>\n",
       "    .dataframe tbody tr th:only-of-type {\n",
       "        vertical-align: middle;\n",
       "    }\n",
       "\n",
       "    .dataframe tbody tr th {\n",
       "        vertical-align: top;\n",
       "    }\n",
       "\n",
       "    .dataframe thead th {\n",
       "        text-align: right;\n",
       "    }\n",
       "</style>\n",
       "<table border=\"1\" class=\"dataframe\">\n",
       "  <thead>\n",
       "    <tr style=\"text-align: right;\">\n",
       "      <th></th>\n",
       "      <th></th>\n",
       "      <th>flug</th>\n",
       "      <th>fldg</th>\n",
       "      <th>fnetg</th>\n",
       "    </tr>\n",
       "    <tr>\n",
       "      <th>pressure</th>\n",
       "      <th>level</th>\n",
       "      <th></th>\n",
       "      <th></th>\n",
       "      <th></th>\n",
       "    </tr>\n",
       "  </thead>\n",
       "  <tbody>\n",
       "    <tr>\n",
       "      <th>0.0000</th>\n",
       "      <th>1</th>\n",
       "      <td>5.302793e-03</td>\n",
       "      <td>0.000000</td>\n",
       "      <td>0.005303</td>\n",
       "    </tr>\n",
       "    <tr>\n",
       "      <th>1.0685</th>\n",
       "      <th>24</th>\n",
       "      <td>5.283909e-03</td>\n",
       "      <td>-0.000024</td>\n",
       "      <td>0.005260</td>\n",
       "    </tr>\n",
       "    <tr>\n",
       "      <th>1013.0000</th>\n",
       "      <th>76</th>\n",
       "      <td>-1.760000e-08</td>\n",
       "      <td>-0.000513</td>\n",
       "      <td>-0.000513</td>\n",
       "    </tr>\n",
       "  </tbody>\n",
       "</table>\n",
       "</div>"
      ],
      "text/plain": [
       "                         flug      fldg     fnetg\n",
       "pressure  level                                  \n",
       "0.0000    1      5.302793e-03  0.000000  0.005303\n",
       "1.0685    24     5.283909e-03 -0.000024  0.005260\n",
       "1013.0000 76    -1.760000e-08 -0.000513 -0.000513"
      ]
     },
     "metadata": {},
     "output_type": "display_data"
    },
    {
     "name": "stdout",
     "output_type": "stream",
     "text": [
      "Table. Fluxes. (WGT igg=10 wgt_flux=1) - (CRD)\n"
     ]
    },
    {
     "data": {
      "text/html": [
       "<div>\n",
       "<style scoped>\n",
       "    .dataframe tbody tr th:only-of-type {\n",
       "        vertical-align: middle;\n",
       "    }\n",
       "\n",
       "    .dataframe tbody tr th {\n",
       "        vertical-align: top;\n",
       "    }\n",
       "\n",
       "    .dataframe thead th {\n",
       "        text-align: right;\n",
       "    }\n",
       "</style>\n",
       "<table border=\"1\" class=\"dataframe\">\n",
       "  <thead>\n",
       "    <tr style=\"text-align: right;\">\n",
       "      <th></th>\n",
       "      <th></th>\n",
       "      <th>flug</th>\n",
       "      <th>fldg</th>\n",
       "      <th>fnetg</th>\n",
       "    </tr>\n",
       "    <tr>\n",
       "      <th>pressure</th>\n",
       "      <th>level</th>\n",
       "      <th></th>\n",
       "      <th></th>\n",
       "      <th></th>\n",
       "    </tr>\n",
       "  </thead>\n",
       "  <tbody>\n",
       "    <tr>\n",
       "      <th>0.0000</th>\n",
       "      <th>1</th>\n",
       "      <td>-3.462700e-03</td>\n",
       "      <td>0.000002</td>\n",
       "      <td>-0.003461</td>\n",
       "    </tr>\n",
       "    <tr>\n",
       "      <th>1.0685</th>\n",
       "      <th>24</th>\n",
       "      <td>-3.495700e-03</td>\n",
       "      <td>-0.000093</td>\n",
       "      <td>-0.003589</td>\n",
       "    </tr>\n",
       "    <tr>\n",
       "      <th>1013.0000</th>\n",
       "      <th>76</th>\n",
       "      <td>3.000000e-07</td>\n",
       "      <td>-0.002085</td>\n",
       "      <td>-0.002085</td>\n",
       "    </tr>\n",
       "  </tbody>\n",
       "</table>\n",
       "</div>"
      ],
      "text/plain": [
       "                         flug      fldg     fnetg\n",
       "pressure  level                                  \n",
       "0.0000    1     -3.462700e-03  0.000002 -0.003461\n",
       "1.0685    24    -3.495700e-03 -0.000093 -0.003589\n",
       "1013.0000 76     3.000000e-07 -0.002085 -0.002085"
      ]
     },
     "metadata": {},
     "output_type": "display_data"
    },
    {
     "name": "stdout",
     "output_type": "stream",
     "text": [
      "Table. Fluxes. (CLIRAD) - (CRD)\n"
     ]
    },
    {
     "data": {
      "text/html": [
       "<a id=\"Best-fit_Parameters\"></a>"
      ],
      "text/plain": [
       "<IPython.core.display.HTML object>"
      ]
     },
     "metadata": {},
     "output_type": "display_data"
    },
    {
     "data": {
      "text/markdown": [
       "# Best-fit Parameters"
      ],
      "text/plain": [
       "<IPython.core.display.Markdown object>"
      ]
     },
     "metadata": {},
     "output_type": "display_data"
    },
    {
     "name": "stdout",
     "output_type": "stream",
     "text": [
      "Best-fit values for each (gas, band)\n",
      "------------------------------------\n",
      "o o3 band9\n",
      "  atmpro = mls\n",
      "  band = 9\n",
      "  commitnumber = a06b618\n",
      "  conc = None\n",
      "  dv = 0.001\n",
      "  klin = 2e-20\n",
      "  molecule = o3\n",
      "  ng_adju = [0, 0]\n",
      "  ng_refs = [2, 5]\n",
      "  nv = 1000\n",
      "  option_compute_btable = 0\n",
      "  option_compute_ktable = 1\n",
      "  option_wgt_flux = 1\n",
      "  option_wgt_k = 1\n",
      "  ref_pts = [(1, 250), (50, 250)]\n",
      "  tsfc = 294\n",
      "  vmax = 3000\n",
      "  vmin = 1900\n",
      "  w_diffuse = [(1.55, 1.55), (1.55, 1.55, 1.55, 1.55, 1.8)]\n",
      "  wgt = [(0.3, 0.4), (0.5, 0.6, 0.7, 0.85, 0.9)]\n"
     ]
    }
   ],
   "source": [
    "script()"
   ]
  },
  {
   "cell_type": "code",
   "execution_count": 13,
   "metadata": {
    "collapsed": true
   },
   "outputs": [
    {
     "data": {
      "text/html": [
       "<script>\n",
       "code_show=true; \n",
       "function code_toggle() {\n",
       " if (code_show){\n",
       " $('div.input').hide();\n",
       " } else {\n",
       " $('div.input').show();\n",
       " }\n",
       " code_show = !code_show\n",
       "} \n",
       "$( document ).ready(code_toggle);\n",
       "</script>\n",
       "<form action=\"javascript:code_toggle()\"><input type=\"submit\" value=\"Click here to toggle on/off the raw code.\"></form>"
      ],
      "text/plain": [
       "<IPython.core.display.HTML object>"
      ]
     },
     "execution_count": 13,
     "metadata": {},
     "output_type": "execute_result"
    }
   ],
   "source": [
    "display.HTML('''<script>\n",
    "code_show=true; \n",
    "function code_toggle() {\n",
    " if (code_show){\n",
    " $('div.input').hide();\n",
    " } else {\n",
    " $('div.input').show();\n",
    " }\n",
    " code_show = !code_show\n",
    "} \n",
    "$( document ).ready(code_toggle);\n",
    "</script>\n",
    "<form action=\"javascript:code_toggle()\"><input type=\"submit\" value=\"Click here to toggle on/off the raw code.\"></form>''')"
   ]
  }
 ],
 "metadata": {
  "kernelspec": {
   "display_name": "Python 3",
   "language": "python",
   "name": "python3"
  },
  "language_info": {
   "codemirror_mode": {
    "name": "ipython",
    "version": 3
   },
   "file_extension": ".py",
   "mimetype": "text/x-python",
   "name": "python",
   "nbconvert_exporter": "python",
   "pygments_lexer": "ipython3",
   "version": "3.6.1"
  }
 },
 "nbformat": 4,
 "nbformat_minor": 2
}
