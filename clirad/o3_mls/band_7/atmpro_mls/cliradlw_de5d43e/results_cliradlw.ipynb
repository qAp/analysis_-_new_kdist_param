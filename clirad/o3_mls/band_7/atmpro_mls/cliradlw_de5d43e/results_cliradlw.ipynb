{
 "cells": [
  {
   "cell_type": "code",
   "execution_count": 1,
   "metadata": {
    "collapsed": true
   },
   "outputs": [],
   "source": [
    "%matplotlib inline\n",
    "import os\n",
    "import re\n",
    "import io\n",
    "import itertools\n",
    "import pprint\n",
    "\n",
    "from bokeh.io import output_notebook, show\n",
    "from bokeh.layouts import gridplot\n",
    "from bokeh.plotting import figure\n",
    "from bokeh.models import Range1d, Legend\n",
    "from bokeh.palettes import all_palettes\n",
    "\n",
    "import matplotlib\n",
    "import matplotlib.pyplot as plt\n",
    "import numpy as np\n",
    "import pandas as pd\n",
    "import xarray as xr\n",
    "\n",
    "import climatools.lblnew.bestfit_params as bestfits\n",
    "from climatools.lblnew import setup_bestfit, setup_overlap\n",
    "import climatools.lblnew.pipeline as pipe_lblnew\n",
    "import climatools.cliradlw.setup as setup_cliradlw\n",
    "import climatools.cliradlw.pipeline as pipe_cliradlw\n",
    "\n",
    "import climatools.html.html as climahtml\n",
    "from climatools.lblnew.dataio import *\n",
    "from climatools.plot.plot import *\n",
    "\n",
    "\n",
    "import IPython.display as display"
   ]
  },
  {
   "cell_type": "code",
   "execution_count": 2,
   "metadata": {
    "collapsed": true
   },
   "outputs": [],
   "source": [
    "%run param.py"
   ]
  },
  {
   "cell_type": "code",
   "execution_count": 3,
   "metadata": {
    "collapsed": true
   },
   "outputs": [],
   "source": [
    "def load_output_file(path_csv):\n",
    "    '''\n",
    "    Load lblnew output .csv file to xarray.Dataset\n",
    "    \n",
    "    Parameters\n",
    "    ----------\n",
    "    path_csv: str\n",
    "              Path to the .csv file to be loaded.\n",
    "    ds: xarray.Dataset\n",
    "        Data in the input file in the form of an xarray.Dataset.\n",
    "    '''\n",
    "    toindex = ['band', 'pressure', 'igg', 'g']    \n",
    "    df = pd.read_csv(path_csv, sep=r'\\s+')\n",
    "    df = df.set_index([i for i in toindex if i in df.columns])\n",
    "    df = df.rename(columns={'sfu': 'flug',\n",
    "                            'sfd': 'fldg',\n",
    "                            'fnet': 'fnetg',\n",
    "                            'coolr': 'coolrg'})\n",
    "    ds = xr.Dataset.from_dataframe(df)\n",
    "\n",
    "    for l in ('level', 'layer'):\n",
    "        if l in ds.data_vars:\n",
    "            if len(ds[l].dims) > 1:\n",
    "                surface = {d: 0 for d in ds.dims if d != 'pressure'}\n",
    "                coord_level = ds[l][surface]\n",
    "                ds.coords[l] = ('pressure', coord_level)\n",
    "            else:\n",
    "                ds.coords[l] = ('pressure', ds[l])\n",
    "    \n",
    "    return ds"
   ]
  },
  {
   "cell_type": "code",
   "execution_count": 4,
   "metadata": {
    "collapsed": true
   },
   "outputs": [],
   "source": [
    "def lblnew_setup(param=None):\n",
    "    if 'ng_refs' in param:\n",
    "        return {'setup': setup_bestfit,\n",
    "                'fname_flux_crd': 'output_flux.dat',\n",
    "                'fname_cool_crd': 'output_coolr.dat',\n",
    "                'fname_flux_wgt': 'output_wfluxg.dat',\n",
    "                'fname_cool_wgt': 'output_wcoolrg.dat'}\n",
    "    else:\n",
    "        return {'setup': setup_overlap,\n",
    "                'fname_flux_crd': 'output_flux.dat',\n",
    "                'fname_cool_crd': 'output_coolr.dat',\n",
    "                'fname_flux_wgt': 'output_wflux.dat',\n",
    "                'fname_cool_wgt': 'output_wcoolr.dat'}\n",
    "\n",
    "    \n",
    "def load_lblnew_data(param):\n",
    "    \n",
    "    fname_dsname = [('fname_flux_crd', 'ds_flux_crd'),\n",
    "                    ('fname_cool_crd', 'ds_cool_crd'),\n",
    "                    ('fname_flux_wgt', 'ds_flux_wgt'),\n",
    "                    ('fname_cool_wgt', 'ds_cool_wgt')]\n",
    "    \n",
    "    d = lblnew_setup(param)\n",
    "    dir_fortran = pipe_lblnew.get_dir_case(param, setup=d['setup'])\n",
    "    \n",
    "    data_dict = {}\n",
    "    for fname, dsname in fname_dsname:\n",
    "        fpath = os.path.join(dir_fortran, d[fname])\n",
    "        data_dict[dsname] = load_output_file(fpath)\n",
    "    return data_dict\n",
    "    \n",
    "\n",
    "    \n",
    "    "
   ]
  },
  {
   "cell_type": "code",
   "execution_count": 5,
   "metadata": {
    "collapsed": true
   },
   "outputs": [],
   "source": [
    "d = load_lblnew_data(PARAM_LBLNEW)\n",
    "\n",
    "DS_FLUX_CRD = d['ds_flux_crd']\n",
    "DS_COOL_CRD = d['ds_cool_crd']\n",
    "DS_FLUX_WGT = d['ds_flux_wgt']\n",
    "DS_COOL_WGT = d['ds_cool_wgt']"
   ]
  },
  {
   "cell_type": "code",
   "execution_count": 6,
   "metadata": {
    "collapsed": true
   },
   "outputs": [],
   "source": [
    "DIR_FORTRAN = pipe_cliradlw.get_fortran_dir(PARAM, \n",
    "                                            setup=setup_cliradlw)\n",
    "\n",
    "PATH_FLUX = os.path.join(DIR_FORTRAN, 'output_flux.dat')\n",
    "PATH_COOL = os.path.join(DIR_FORTRAN, 'output_coolr.dat')\n",
    "\n",
    "DS_FLUX = load_output_file(PATH_FLUX)\n",
    "DS_COOL = load_output_file(PATH_COOL)"
   ]
  },
  {
   "cell_type": "code",
   "execution_count": 7,
   "metadata": {
    "collapsed": true
   },
   "outputs": [
    {
     "data": {
      "text/html": [
       "\n",
       "    <div class=\"bk-root\">\n",
       "        <a href=\"https://bokeh.pydata.org\" target=\"_blank\" class=\"bk-logo bk-logo-small bk-logo-notebook\"></a>\n",
       "        <span id=\"3dc96179-55c5-460c-a047-0f97ae03a93a\">Loading BokehJS ...</span>\n",
       "    </div>"
      ]
     },
     "metadata": {},
     "output_type": "display_data"
    },
    {
     "data": {
      "application/javascript": [
       "\n",
       "(function(root) {\n",
       "  function now() {\n",
       "    return new Date();\n",
       "  }\n",
       "\n",
       "  var force = true;\n",
       "\n",
       "  if (typeof (root._bokeh_onload_callbacks) === \"undefined\" || force === true) {\n",
       "    root._bokeh_onload_callbacks = [];\n",
       "    root._bokeh_is_loading = undefined;\n",
       "  }\n",
       "\n",
       "  var JS_MIME_TYPE = 'application/javascript';\n",
       "  var HTML_MIME_TYPE = 'text/html';\n",
       "  var EXEC_MIME_TYPE = 'application/vnd.bokehjs_exec.v0+json';\n",
       "  var CLASS_NAME = 'output_bokeh rendered_html';\n",
       "\n",
       "  /**\n",
       "   * Render data to the DOM node\n",
       "   */\n",
       "  function render(props, node) {\n",
       "    var script = document.createElement(\"script\");\n",
       "    node.appendChild(script);\n",
       "  }\n",
       "\n",
       "  /**\n",
       "   * Handle when an output is cleared or removed\n",
       "   */\n",
       "  function handleClearOutput(event, handle) {\n",
       "    var cell = handle.cell;\n",
       "\n",
       "    var id = cell.output_area._bokeh_element_id;\n",
       "    var server_id = cell.output_area._bokeh_server_id;\n",
       "    // Clean up Bokeh references\n",
       "    if (id !== undefined) {\n",
       "      Bokeh.index[id].model.document.clear();\n",
       "      delete Bokeh.index[id];\n",
       "    }\n",
       "\n",
       "    if (server_id !== undefined) {\n",
       "      // Clean up Bokeh references\n",
       "      var cmd = \"from bokeh.io.state import curstate; print(curstate().uuid_to_server['\" + server_id + \"'].get_sessions()[0].document.roots[0]._id)\";\n",
       "      cell.notebook.kernel.execute(cmd, {\n",
       "        iopub: {\n",
       "          output: function(msg) {\n",
       "            var element_id = msg.content.text.trim();\n",
       "            Bokeh.index[element_id].model.document.clear();\n",
       "            delete Bokeh.index[element_id];\n",
       "          }\n",
       "        }\n",
       "      });\n",
       "      // Destroy server and session\n",
       "      var cmd = \"import bokeh.io.notebook as ion; ion.destroy_server('\" + server_id + \"')\";\n",
       "      cell.notebook.kernel.execute(cmd);\n",
       "    }\n",
       "  }\n",
       "\n",
       "  /**\n",
       "   * Handle when a new output is added\n",
       "   */\n",
       "  function handleAddOutput(event, handle) {\n",
       "    var output_area = handle.output_area;\n",
       "    var output = handle.output;\n",
       "\n",
       "    // limit handleAddOutput to display_data with EXEC_MIME_TYPE content only\n",
       "    if ((output.output_type != \"display_data\") || (!output.data.hasOwnProperty(EXEC_MIME_TYPE))) {\n",
       "      return\n",
       "    }\n",
       "\n",
       "    var toinsert = output_area.element.find(\".\" + CLASS_NAME.split(' ')[0]);\n",
       "\n",
       "    if (output.metadata[EXEC_MIME_TYPE][\"id\"] !== undefined) {\n",
       "      toinsert[toinsert.length - 1].firstChild.textContent = output.data[JS_MIME_TYPE];\n",
       "      // store reference to embed id on output_area\n",
       "      output_area._bokeh_element_id = output.metadata[EXEC_MIME_TYPE][\"id\"];\n",
       "    }\n",
       "    if (output.metadata[EXEC_MIME_TYPE][\"server_id\"] !== undefined) {\n",
       "      var bk_div = document.createElement(\"div\");\n",
       "      bk_div.innerHTML = output.data[HTML_MIME_TYPE];\n",
       "      var script_attrs = bk_div.children[0].attributes;\n",
       "      for (var i = 0; i < script_attrs.length; i++) {\n",
       "        toinsert[toinsert.length - 1].firstChild.setAttribute(script_attrs[i].name, script_attrs[i].value);\n",
       "      }\n",
       "      // store reference to server id on output_area\n",
       "      output_area._bokeh_server_id = output.metadata[EXEC_MIME_TYPE][\"server_id\"];\n",
       "    }\n",
       "  }\n",
       "\n",
       "  function register_renderer(events, OutputArea) {\n",
       "\n",
       "    function append_mime(data, metadata, element) {\n",
       "      // create a DOM node to render to\n",
       "      var toinsert = this.create_output_subarea(\n",
       "        metadata,\n",
       "        CLASS_NAME,\n",
       "        EXEC_MIME_TYPE\n",
       "      );\n",
       "      this.keyboard_manager.register_events(toinsert);\n",
       "      // Render to node\n",
       "      var props = {data: data, metadata: metadata[EXEC_MIME_TYPE]};\n",
       "      render(props, toinsert[toinsert.length - 1]);\n",
       "      element.append(toinsert);\n",
       "      return toinsert\n",
       "    }\n",
       "\n",
       "    /* Handle when an output is cleared or removed */\n",
       "    events.on('clear_output.CodeCell', handleClearOutput);\n",
       "    events.on('delete.Cell', handleClearOutput);\n",
       "\n",
       "    /* Handle when a new output is added */\n",
       "    events.on('output_added.OutputArea', handleAddOutput);\n",
       "\n",
       "    /**\n",
       "     * Register the mime type and append_mime function with output_area\n",
       "     */\n",
       "    OutputArea.prototype.register_mime_type(EXEC_MIME_TYPE, append_mime, {\n",
       "      /* Is output safe? */\n",
       "      safe: true,\n",
       "      /* Index of renderer in `output_area.display_order` */\n",
       "      index: 0\n",
       "    });\n",
       "  }\n",
       "\n",
       "  // register the mime type if in Jupyter Notebook environment and previously unregistered\n",
       "  if (root.Jupyter !== undefined) {\n",
       "    var events = require('base/js/events');\n",
       "    var OutputArea = require('notebook/js/outputarea').OutputArea;\n",
       "\n",
       "    if (OutputArea.prototype.mime_types().indexOf(EXEC_MIME_TYPE) == -1) {\n",
       "      register_renderer(events, OutputArea);\n",
       "    }\n",
       "  }\n",
       "\n",
       "  \n",
       "  if (typeof (root._bokeh_timeout) === \"undefined\" || force === true) {\n",
       "    root._bokeh_timeout = Date.now() + 5000;\n",
       "    root._bokeh_failed_load = false;\n",
       "  }\n",
       "\n",
       "  var NB_LOAD_WARNING = {'data': {'text/html':\n",
       "     \"<div style='background-color: #fdd'>\\n\"+\n",
       "     \"<p>\\n\"+\n",
       "     \"BokehJS does not appear to have successfully loaded. If loading BokehJS from CDN, this \\n\"+\n",
       "     \"may be due to a slow or bad network connection. Possible fixes:\\n\"+\n",
       "     \"</p>\\n\"+\n",
       "     \"<ul>\\n\"+\n",
       "     \"<li>re-rerun `output_notebook()` to attempt to load from CDN again, or</li>\\n\"+\n",
       "     \"<li>use INLINE resources instead, as so:</li>\\n\"+\n",
       "     \"</ul>\\n\"+\n",
       "     \"<code>\\n\"+\n",
       "     \"from bokeh.resources import INLINE\\n\"+\n",
       "     \"output_notebook(resources=INLINE)\\n\"+\n",
       "     \"</code>\\n\"+\n",
       "     \"</div>\"}};\n",
       "\n",
       "  function display_loaded() {\n",
       "    var el = document.getElementById(\"3dc96179-55c5-460c-a047-0f97ae03a93a\");\n",
       "    if (el != null) {\n",
       "      el.textContent = \"BokehJS is loading...\";\n",
       "    }\n",
       "    if (root.Bokeh !== undefined) {\n",
       "      if (el != null) {\n",
       "        el.textContent = \"BokehJS \" + root.Bokeh.version + \" successfully loaded.\";\n",
       "      }\n",
       "    } else if (Date.now() < root._bokeh_timeout) {\n",
       "      setTimeout(display_loaded, 100)\n",
       "    }\n",
       "  }\n",
       "\n",
       "\n",
       "  function run_callbacks() {\n",
       "    try {\n",
       "      root._bokeh_onload_callbacks.forEach(function(callback) { callback() });\n",
       "    }\n",
       "    finally {\n",
       "      delete root._bokeh_onload_callbacks\n",
       "    }\n",
       "    console.info(\"Bokeh: all callbacks have finished\");\n",
       "  }\n",
       "\n",
       "  function load_libs(js_urls, callback) {\n",
       "    root._bokeh_onload_callbacks.push(callback);\n",
       "    if (root._bokeh_is_loading > 0) {\n",
       "      console.log(\"Bokeh: BokehJS is being loaded, scheduling callback at\", now());\n",
       "      return null;\n",
       "    }\n",
       "    if (js_urls == null || js_urls.length === 0) {\n",
       "      run_callbacks();\n",
       "      return null;\n",
       "    }\n",
       "    console.log(\"Bokeh: BokehJS not loaded, scheduling load and callback at\", now());\n",
       "    root._bokeh_is_loading = js_urls.length;\n",
       "    for (var i = 0; i < js_urls.length; i++) {\n",
       "      var url = js_urls[i];\n",
       "      var s = document.createElement('script');\n",
       "      s.src = url;\n",
       "      s.async = false;\n",
       "      s.onreadystatechange = s.onload = function() {\n",
       "        root._bokeh_is_loading--;\n",
       "        if (root._bokeh_is_loading === 0) {\n",
       "          console.log(\"Bokeh: all BokehJS libraries loaded\");\n",
       "          run_callbacks()\n",
       "        }\n",
       "      };\n",
       "      s.onerror = function() {\n",
       "        console.warn(\"failed to load library \" + url);\n",
       "      };\n",
       "      console.log(\"Bokeh: injecting script tag for BokehJS library: \", url);\n",
       "      document.getElementsByTagName(\"head\")[0].appendChild(s);\n",
       "    }\n",
       "  };var element = document.getElementById(\"3dc96179-55c5-460c-a047-0f97ae03a93a\");\n",
       "  if (element == null) {\n",
       "    console.log(\"Bokeh: ERROR: autoload.js configured with elementid '3dc96179-55c5-460c-a047-0f97ae03a93a' but no matching script tag was found. \")\n",
       "    return false;\n",
       "  }\n",
       "\n",
       "  var js_urls = [\"https://cdn.pydata.org/bokeh/release/bokeh-0.12.16.min.js\", \"https://cdn.pydata.org/bokeh/release/bokeh-widgets-0.12.16.min.js\", \"https://cdn.pydata.org/bokeh/release/bokeh-tables-0.12.16.min.js\", \"https://cdn.pydata.org/bokeh/release/bokeh-gl-0.12.16.min.js\"];\n",
       "\n",
       "  var inline_js = [\n",
       "    function(Bokeh) {\n",
       "      Bokeh.set_log_level(\"info\");\n",
       "    },\n",
       "    \n",
       "    function(Bokeh) {\n",
       "      \n",
       "    },\n",
       "    function(Bokeh) {\n",
       "      console.log(\"Bokeh: injecting CSS: https://cdn.pydata.org/bokeh/release/bokeh-0.12.16.min.css\");\n",
       "      Bokeh.embed.inject_css(\"https://cdn.pydata.org/bokeh/release/bokeh-0.12.16.min.css\");\n",
       "      console.log(\"Bokeh: injecting CSS: https://cdn.pydata.org/bokeh/release/bokeh-widgets-0.12.16.min.css\");\n",
       "      Bokeh.embed.inject_css(\"https://cdn.pydata.org/bokeh/release/bokeh-widgets-0.12.16.min.css\");\n",
       "      console.log(\"Bokeh: injecting CSS: https://cdn.pydata.org/bokeh/release/bokeh-tables-0.12.16.min.css\");\n",
       "      Bokeh.embed.inject_css(\"https://cdn.pydata.org/bokeh/release/bokeh-tables-0.12.16.min.css\");\n",
       "    }\n",
       "  ];\n",
       "\n",
       "  function run_inline_js() {\n",
       "    \n",
       "    if ((root.Bokeh !== undefined) || (force === true)) {\n",
       "      for (var i = 0; i < inline_js.length; i++) {\n",
       "        inline_js[i].call(root, root.Bokeh);\n",
       "      }if (force === true) {\n",
       "        display_loaded();\n",
       "      }} else if (Date.now() < root._bokeh_timeout) {\n",
       "      setTimeout(run_inline_js, 100);\n",
       "    } else if (!root._bokeh_failed_load) {\n",
       "      console.log(\"Bokeh: BokehJS failed to load within specified timeout.\");\n",
       "      root._bokeh_failed_load = true;\n",
       "    } else if (force !== true) {\n",
       "      var cell = $(document.getElementById(\"3dc96179-55c5-460c-a047-0f97ae03a93a\")).parents('.cell').data().cell;\n",
       "      cell.output_area.append_execute_result(NB_LOAD_WARNING)\n",
       "    }\n",
       "\n",
       "  }\n",
       "\n",
       "  if (root._bokeh_is_loading === 0) {\n",
       "    console.log(\"Bokeh: BokehJS loaded, going straight to plotting\");\n",
       "    run_inline_js();\n",
       "  } else {\n",
       "    load_libs(js_urls, function() {\n",
       "      console.log(\"Bokeh: BokehJS plotting callback run at\", now());\n",
       "      run_inline_js();\n",
       "    });\n",
       "  }\n",
       "}(window));"
      ],
      "application/vnd.bokehjs_load.v0+json": "\n(function(root) {\n  function now() {\n    return new Date();\n  }\n\n  var force = true;\n\n  if (typeof (root._bokeh_onload_callbacks) === \"undefined\" || force === true) {\n    root._bokeh_onload_callbacks = [];\n    root._bokeh_is_loading = undefined;\n  }\n\n  \n\n  \n  if (typeof (root._bokeh_timeout) === \"undefined\" || force === true) {\n    root._bokeh_timeout = Date.now() + 5000;\n    root._bokeh_failed_load = false;\n  }\n\n  var NB_LOAD_WARNING = {'data': {'text/html':\n     \"<div style='background-color: #fdd'>\\n\"+\n     \"<p>\\n\"+\n     \"BokehJS does not appear to have successfully loaded. If loading BokehJS from CDN, this \\n\"+\n     \"may be due to a slow or bad network connection. Possible fixes:\\n\"+\n     \"</p>\\n\"+\n     \"<ul>\\n\"+\n     \"<li>re-rerun `output_notebook()` to attempt to load from CDN again, or</li>\\n\"+\n     \"<li>use INLINE resources instead, as so:</li>\\n\"+\n     \"</ul>\\n\"+\n     \"<code>\\n\"+\n     \"from bokeh.resources import INLINE\\n\"+\n     \"output_notebook(resources=INLINE)\\n\"+\n     \"</code>\\n\"+\n     \"</div>\"}};\n\n  function display_loaded() {\n    var el = document.getElementById(\"3dc96179-55c5-460c-a047-0f97ae03a93a\");\n    if (el != null) {\n      el.textContent = \"BokehJS is loading...\";\n    }\n    if (root.Bokeh !== undefined) {\n      if (el != null) {\n        el.textContent = \"BokehJS \" + root.Bokeh.version + \" successfully loaded.\";\n      }\n    } else if (Date.now() < root._bokeh_timeout) {\n      setTimeout(display_loaded, 100)\n    }\n  }\n\n\n  function run_callbacks() {\n    try {\n      root._bokeh_onload_callbacks.forEach(function(callback) { callback() });\n    }\n    finally {\n      delete root._bokeh_onload_callbacks\n    }\n    console.info(\"Bokeh: all callbacks have finished\");\n  }\n\n  function load_libs(js_urls, callback) {\n    root._bokeh_onload_callbacks.push(callback);\n    if (root._bokeh_is_loading > 0) {\n      console.log(\"Bokeh: BokehJS is being loaded, scheduling callback at\", now());\n      return null;\n    }\n    if (js_urls == null || js_urls.length === 0) {\n      run_callbacks();\n      return null;\n    }\n    console.log(\"Bokeh: BokehJS not loaded, scheduling load and callback at\", now());\n    root._bokeh_is_loading = js_urls.length;\n    for (var i = 0; i < js_urls.length; i++) {\n      var url = js_urls[i];\n      var s = document.createElement('script');\n      s.src = url;\n      s.async = false;\n      s.onreadystatechange = s.onload = function() {\n        root._bokeh_is_loading--;\n        if (root._bokeh_is_loading === 0) {\n          console.log(\"Bokeh: all BokehJS libraries loaded\");\n          run_callbacks()\n        }\n      };\n      s.onerror = function() {\n        console.warn(\"failed to load library \" + url);\n      };\n      console.log(\"Bokeh: injecting script tag for BokehJS library: \", url);\n      document.getElementsByTagName(\"head\")[0].appendChild(s);\n    }\n  };var element = document.getElementById(\"3dc96179-55c5-460c-a047-0f97ae03a93a\");\n  if (element == null) {\n    console.log(\"Bokeh: ERROR: autoload.js configured with elementid '3dc96179-55c5-460c-a047-0f97ae03a93a' but no matching script tag was found. \")\n    return false;\n  }\n\n  var js_urls = [\"https://cdn.pydata.org/bokeh/release/bokeh-0.12.16.min.js\", \"https://cdn.pydata.org/bokeh/release/bokeh-widgets-0.12.16.min.js\", \"https://cdn.pydata.org/bokeh/release/bokeh-tables-0.12.16.min.js\", \"https://cdn.pydata.org/bokeh/release/bokeh-gl-0.12.16.min.js\"];\n\n  var inline_js = [\n    function(Bokeh) {\n      Bokeh.set_log_level(\"info\");\n    },\n    \n    function(Bokeh) {\n      \n    },\n    function(Bokeh) {\n      console.log(\"Bokeh: injecting CSS: https://cdn.pydata.org/bokeh/release/bokeh-0.12.16.min.css\");\n      Bokeh.embed.inject_css(\"https://cdn.pydata.org/bokeh/release/bokeh-0.12.16.min.css\");\n      console.log(\"Bokeh: injecting CSS: https://cdn.pydata.org/bokeh/release/bokeh-widgets-0.12.16.min.css\");\n      Bokeh.embed.inject_css(\"https://cdn.pydata.org/bokeh/release/bokeh-widgets-0.12.16.min.css\");\n      console.log(\"Bokeh: injecting CSS: https://cdn.pydata.org/bokeh/release/bokeh-tables-0.12.16.min.css\");\n      Bokeh.embed.inject_css(\"https://cdn.pydata.org/bokeh/release/bokeh-tables-0.12.16.min.css\");\n    }\n  ];\n\n  function run_inline_js() {\n    \n    if ((root.Bokeh !== undefined) || (force === true)) {\n      for (var i = 0; i < inline_js.length; i++) {\n        inline_js[i].call(root, root.Bokeh);\n      }if (force === true) {\n        display_loaded();\n      }} else if (Date.now() < root._bokeh_timeout) {\n      setTimeout(run_inline_js, 100);\n    } else if (!root._bokeh_failed_load) {\n      console.log(\"Bokeh: BokehJS failed to load within specified timeout.\");\n      root._bokeh_failed_load = true;\n    } else if (force !== true) {\n      var cell = $(document.getElementById(\"3dc96179-55c5-460c-a047-0f97ae03a93a\")).parents('.cell').data().cell;\n      cell.output_area.append_execute_result(NB_LOAD_WARNING)\n    }\n\n  }\n\n  if (root._bokeh_is_loading === 0) {\n    console.log(\"Bokeh: BokehJS loaded, going straight to plotting\");\n    run_inline_js();\n  } else {\n    load_libs(js_urls, function() {\n      console.log(\"Bokeh: BokehJS plotting callback run at\", now());\n      run_inline_js();\n    });\n  }\n}(window));"
     },
     "metadata": {},
     "output_type": "display_data"
    }
   ],
   "source": [
    "output_notebook()"
   ]
  },
  {
   "cell_type": "code",
   "execution_count": 8,
   "metadata": {
    "collapsed": true
   },
   "outputs": [],
   "source": [
    "def fmt_cool(ds_in):\n",
    "    ds = ds_in.copy(deep=True)\n",
    "    if 'igg' in ds.dims:\n",
    "        ds = ds.sel(igg=1)\n",
    "\n",
    "    if 'g' in ds.dims:\n",
    "        ds = ds.sum('g')\n",
    "            \n",
    "    if 'band' in ds.dims:\n",
    "        try:\n",
    "            ds = ds.squeeze('band')\n",
    "        except ValueError:\n",
    "            ds = ds.sum('band')\n",
    "                \n",
    "    return ds['coolrg']\n",
    "\n",
    "\n",
    "def pltdata_cooling_1(ds_cool=None,\n",
    "                      ds_cool_crd=None, ds_cool_wgt=None):\n",
    "    \n",
    "\n",
    "\n",
    "    colors = all_palettes['Set1'][4]\n",
    "    data = [{'label': 'CLIRAD `coolr_bands`',\n",
    "             'srs': fmt_cool(ds_cool),\n",
    "             'line_dash': 'dashed', 'line_width': 5,\n",
    "             'color': colors[0], 'alpha': .6},\n",
    "            {'label': 'CRD',\n",
    "             'srs': fmt_cool(ds_cool_crd),\n",
    "             'line_dash': 'solid', 'line_width': 1.5,\n",
    "             'marker': 'circle', 'marker_size': 5,\n",
    "             'color': colors[2], 'alpha': 1,},\n",
    "            {'label': 'WGT igg=10 wgt_flux=2',\n",
    "             'srs': fmt_cool(ds_cool_wgt),\n",
    "             'line_dash': 'solid', 'line_width': 3,\n",
    "             'marker': 'square', 'marker_size': 5,\n",
    "             'color': colors[3], 'alpha': .6}]\n",
    "    return data\n",
    "\n",
    "\n",
    "def nice_xlims(pltdata=None, prange=None):\n",
    "    \n",
    "    def get_slice(srs):\n",
    "        return srs.sel(pressure=slice(*prange))\n",
    "    \n",
    "    srss = [d['srs'] for d in pltdata]\n",
    "    vmin = min([get_slice(srs).min() for srs in srss])\n",
    "    vmax = max([get_slice(srs).max() for srs in srss])\n",
    "    dv = (vmax - vmin) * .01\n",
    "    return float(vmin - dv), float(vmax + dv)\n",
    "    \n",
    "\n",
    "def plt_cooling_bokeh(pltdata=None):\n",
    "    '''\n",
    "    Plot a list of cooling rate profiles using bokeh.\n",
    "    '''\n",
    "    ymin = 1e-2 \n",
    "    ymax = 1020 \n",
    "        \n",
    "    p1 = figure(title=\"Linear pressure scale\", \n",
    "                plot_width=400)        \n",
    "    xmin, xmax = nice_xlims(pltdata, prange=(50, 1050))\n",
    "    for d in pltdata:\n",
    "        if 'marker' in d:\n",
    "            getattr(p1, d['marker'])(d['srs'].values, \n",
    "                    d['srs'].coords['pressure'].values,\n",
    "                    color=d['color'], alpha=.7)\n",
    "        p1.line(d['srs'].values, \n",
    "                d['srs'].coords['pressure'].values,\n",
    "                color=d['color'], alpha=d['alpha'], \n",
    "                line_width=d['line_width'], line_dash=d['line_dash'])\n",
    "    \n",
    "    p1.y_range = Range1d(ymax, ymin)\n",
    "    p1.yaxis.axis_label = 'pressure [mb]'   \n",
    "    p1.x_range = Range1d(xmin, xmax)\n",
    "    p1.xaxis.axis_label = 'cooling rate [K/day]'\n",
    "            \n",
    "    p2 = figure(title='Log pressure scale', y_axis_type='log',\n",
    "                plot_width=560)\n",
    "    xmin, xmax = nice_xlims(pltdata, prange=(.01, 200))\n",
    "    \n",
    "    rs = []\n",
    "    for d in pltdata:\n",
    "        rd = []\n",
    "        if 'marker' in d:\n",
    "            r_mark = getattr(p2, d['marker'])(d['srs'].values, \n",
    "                        d['srs'].coords['pressure'].values,\n",
    "                        color=d['color'], alpha=.7)\n",
    "            rd.append(r_mark)\n",
    "        r_line = p2.line(d['srs'].values, \n",
    "                    d['srs'].coords['pressure'].values,\n",
    "                    color=d['color'], alpha=d['alpha'], \n",
    "                    line_width=d['line_width'], line_dash=d['line_dash'])\n",
    "        rd.append(r_line)\n",
    "      \n",
    "        rs.append(rd)\n",
    "        \n",
    "    p2.y_range = Range1d(ymax, ymin)  \n",
    "    p2.yaxis.axis_label = 'pressure [mb]'\n",
    "    \n",
    "    p2.x_range = Range1d(xmin, xmax)\n",
    "    p2.xaxis.axis_label = 'cooling rate [K/day]'\n",
    "    \n",
    "    items = [(d['label'], r) for r, d in zip(rs, pltdata)]\n",
    "    legend = Legend(items=items, location=(10, -30))\n",
    "    legend.label_text_font_size = '8pt'\n",
    "    \n",
    "    p2.add_layout(legend, 'right')  \n",
    "    \n",
    "    show(gridplot(p1, p2, ncols=2, plot_height=500))\n",
    "    \n",
    "\n",
    "def script_plt_cooling():\n",
    "    pltdata = pltdata_cooling_1(\n",
    "        ds_cool=DS_COOL,\n",
    "        ds_cool_crd=DS_COOL_CRD,\n",
    "        ds_cool_wgt=DS_COOL_WGT)\n",
    "    plt_cooling_bokeh(pltdata=pltdata)\n",
    "    print('''FIGURE. Cooling rate profiles.''')"
   ]
  },
  {
   "cell_type": "code",
   "execution_count": 9,
   "metadata": {
    "collapsed": true
   },
   "outputs": [],
   "source": [
    "def fmt_flux(ds_in):\n",
    "    ds = ds_in.copy(deep=True)\n",
    "    \n",
    "    for l in ('level', 'layer'):\n",
    "        if l in ds.data_vars:\n",
    "            if len(ds[l].dims) > 1:\n",
    "                surface = {d: 0 for d in ds.dims if d != 'pressure'}\n",
    "                coord_level = ds[l][surface]\n",
    "                ds.coords[l] = ('pressure', coord_level)\n",
    "            else:\n",
    "                ds.coords[l] = ('pressure', ds[l])\n",
    "        \n",
    "    ds = ds.isel(pressure=[0, 23, -1])\n",
    "        \n",
    "    if 'igg' in ds.dims:\n",
    "        ds = ds.sel(igg=[1])\n",
    "        ds = ds.squeeze('igg').drop('igg')\n",
    "    \n",
    "    if 'g' in ds.dims:\n",
    "        ds = ds.sum('g')\n",
    "            \n",
    "    if 'band' in ds.dims:\n",
    "        try:\n",
    "            ds = ds.squeeze('band').drop('band')\n",
    "        except ValueError:\n",
    "            ds = ds.sum('band')\n",
    "                \n",
    "    df = ds.to_dataframe()\n",
    "    df = df.set_index('level', append=True)               \n",
    "    return df\n",
    "\n",
    "\n",
    "def tbdata_flux(ds_flux=None, ds_flux_crd=None, ds_flux_wgt=None):\n",
    "    ilevels = [0, 23, -1]\n",
    "            \n",
    "    benchmark = {'label': 'CRD',\n",
    "                 'df': fmt_flux(ds_flux_crd)}\n",
    "    \n",
    "    tbs = [{'label': 'WGT igg=10 wgt_flux=1',\n",
    "            'df': fmt_flux(ds_flux_wgt)},\n",
    "           {'label': 'CLIRAD',\n",
    "            'df': fmt_flux(ds_flux)}]\n",
    "    \n",
    "    data = {'benchmark': benchmark, 'others': tbs}\n",
    "    return data\n",
    "\n",
    "\n",
    "def tb_flux(tbdata=None):\n",
    "    benchmark = tbdata['benchmark']\n",
    "    others = tbdata['others']\n",
    "    \n",
    "    def show_tb(d=None):\n",
    "        display.display(d['df'])\n",
    "        print('Table.', 'Fluxes.', d['label'])\n",
    "        \n",
    "    def show_tbdiff(d0=None, d=None):\n",
    "        df = d['df']\n",
    "        df.index = d0['df'].index\n",
    "        display.display(df - d0['df'])\n",
    "        print('Table.', 'Fluxes.', \n",
    "              '({}) - ({})'.format(d['label'], d0['label']))\n",
    "        \n",
    "    show_tb(benchmark)\n",
    "    for d in others:\n",
    "        show_tb(d)\n",
    "        \n",
    "    for d in others:\n",
    "        show_tbdiff(d=d, d0=benchmark)\n",
    "        \n",
    "        \n",
    "def script_tb_flux():\n",
    "    data = tbdata_flux(ds_flux=DS_FLUX,\n",
    "                       ds_flux_crd=DS_FLUX_CRD,\n",
    "                       ds_flux_wgt=DS_FLUX_WGT)\n",
    "    tb_flux(tbdata=data)"
   ]
  },
  {
   "cell_type": "code",
   "execution_count": 10,
   "metadata": {
    "collapsed": true
   },
   "outputs": [],
   "source": [
    "def band_map():\n",
    "    '''\n",
    "    Maps spectral bands in lblnew to spectral bands in clirad.\n",
    "    '''\n",
    "    lblnew2clirad = {'1': '1',\n",
    "            '2': '2',\n",
    "            '3a': '3',\n",
    "            '3b': '4',\n",
    "            '3c': '5',\n",
    "            '4': '6', \n",
    "            '5': '7',\n",
    "            '6': '8',\n",
    "            '7': '9', \n",
    "            '8': '10',\n",
    "            '9': '11'}\n",
    "    \n",
    "    clirad2lblnew = {clirad: lblnew \n",
    "                     for lblnew, clirad in lblnew2clirad.items()}\n",
    "    return clirad2lblnew\n",
    "\n",
    "\n",
    "def gasbands():\n",
    "    bmap = band_map()\n",
    "    gases = list(PARAM['molecule'].keys())\n",
    "    \n",
    "    bands = [bmap[str(b)] for b in PARAM['band']]\n",
    "    return list(itertools.product(gases, bands))\n",
    "\n",
    "\n",
    "def print_bestfit_params():\n",
    "    print('Best-fit values for each (gas, band)')\n",
    "    print('------------------------------------')\n",
    "    for gas, band in gasbands():\n",
    "        print('o {} band{}'.format(gas, band))\n",
    "        param = bestfits.kdist_params(molecule=gas, band=band)\n",
    "        for name, value in sorted(param.items()):\n",
    "            print(2 * ' ' + '{} = {}'.format(name, value))\n",
    "\n",
    "        \n",
    "def print_input_param():        \n",
    "    for name, value in PARAM.items():\n",
    "        print('{} = {}'.format(name, value))\n",
    "        \n",
    "        \n",
    "def print_lblnew_param():\n",
    "    for name, value in sorted(PARAM_LBLNEW.items()):\n",
    "        print('{} = {}'.format(name, value))\n"
   ]
  },
  {
   "cell_type": "code",
   "execution_count": 11,
   "metadata": {
    "collapsed": true,
    "scrolled": false
   },
   "outputs": [],
   "source": [
    "def show_html(s):\n",
    "    display.display(display.HTML(s))\n",
    "\n",
    "    \n",
    "def show_markdown(s):\n",
    "    display.display(display.Markdown(s))\n",
    "\n",
    "    \n",
    "def script():\n",
    "    \n",
    "    title = '### CLIRAD-LW'\n",
    "    s_input = 'Input Parameters'\n",
    "    s_lblnew_param = 'LBLNEW case compaired against'\n",
    "    s_bestfits = 'Best-fit Parameters'\n",
    "    s_plt_cooling = 'Cooling Rate Profiles'\n",
    "    s_tb_flux = 'Flux Comparison'\n",
    "    \n",
    "    # title\n",
    "    show_markdown('### CLIRAD-LW')\n",
    "    \n",
    "    # TOC\n",
    "    show_markdown('### Table of Contents')\n",
    "    show_html(climahtml.getHTML_hrefanchor(s_input))\n",
    "    show_html(climahtml.getHTML_hrefanchor(s_lblnew_param))\n",
    "    show_html(climahtml.getHTML_hrefanchor(s_plt_cooling))\n",
    "    show_html(climahtml.getHTML_hrefanchor(s_tb_flux))\n",
    "    show_html(climahtml.getHTML_hrefanchor(s_bestfits))\n",
    "    \n",
    "    # Input parameters\n",
    "    show_html(climahtml.getHTML_idanchor(s_input))\n",
    "    show_markdown(climahtml.getMarkdown_sectitle(s_input))\n",
    "    print_input_param()\n",
    "    \n",
    "    # LBLNEW parameters \n",
    "    show_html(climahtml.getHTML_idanchor(s_lblnew_param))\n",
    "    show_markdown(climahtml.getMarkdown_sectitle(s_lblnew_param))\n",
    "    print_lblnew_param()\n",
    "    \n",
    "    # Cooling rate profiles\n",
    "    show_html(climahtml.getHTML_idanchor(s_plt_cooling))\n",
    "    show_markdown(climahtml.getMarkdown_sectitle(s_plt_cooling))\n",
    "    script_plt_cooling()\n",
    "    \n",
    "    # Flux comparison\n",
    "    show_html(climahtml.getHTML_idanchor(s_tb_flux))\n",
    "    show_markdown(climahtml.getMarkdown_sectitle(s_tb_flux))\n",
    "    script_tb_flux()\n",
    "    \n",
    "    # Best-fit values\n",
    "    show_html(climahtml.getHTML_idanchor(s_bestfits))\n",
    "    show_markdown(climahtml.getMarkdown_sectitle(s_bestfits))\n",
    "    print_bestfit_params()\n",
    "   \n",
    "    "
   ]
  },
  {
   "cell_type": "code",
   "execution_count": 12,
   "metadata": {
    "collapsed": true,
    "scrolled": false
   },
   "outputs": [
    {
     "data": {
      "text/markdown": [
       "### CLIRAD-LW"
      ],
      "text/plain": [
       "<IPython.core.display.Markdown object>"
      ]
     },
     "metadata": {},
     "output_type": "display_data"
    },
    {
     "data": {
      "text/markdown": [
       "### Table of Contents"
      ],
      "text/plain": [
       "<IPython.core.display.Markdown object>"
      ]
     },
     "metadata": {},
     "output_type": "display_data"
    },
    {
     "data": {
      "text/html": [
       "<a href=\"#Input_Parameters\">Input Parameters</a>"
      ],
      "text/plain": [
       "<IPython.core.display.HTML object>"
      ]
     },
     "metadata": {},
     "output_type": "display_data"
    },
    {
     "data": {
      "text/html": [
       "<a href=\"#LBLNEW_case_compaired_against\">LBLNEW case compaired against</a>"
      ],
      "text/plain": [
       "<IPython.core.display.HTML object>"
      ]
     },
     "metadata": {},
     "output_type": "display_data"
    },
    {
     "data": {
      "text/html": [
       "<a href=\"#Cooling_Rate_Profiles\">Cooling Rate Profiles</a>"
      ],
      "text/plain": [
       "<IPython.core.display.HTML object>"
      ]
     },
     "metadata": {},
     "output_type": "display_data"
    },
    {
     "data": {
      "text/html": [
       "<a href=\"#Flux_Comparison\">Flux Comparison</a>"
      ],
      "text/plain": [
       "<IPython.core.display.HTML object>"
      ]
     },
     "metadata": {},
     "output_type": "display_data"
    },
    {
     "data": {
      "text/html": [
       "<a href=\"#Best-fit_Parameters\">Best-fit Parameters</a>"
      ],
      "text/plain": [
       "<IPython.core.display.HTML object>"
      ]
     },
     "metadata": {},
     "output_type": "display_data"
    },
    {
     "data": {
      "text/html": [
       "<a id=\"Input_Parameters\"></a>"
      ],
      "text/plain": [
       "<IPython.core.display.HTML object>"
      ]
     },
     "metadata": {},
     "output_type": "display_data"
    },
    {
     "data": {
      "text/markdown": [
       "# Input Parameters"
      ],
      "text/plain": [
       "<IPython.core.display.Markdown object>"
      ]
     },
     "metadata": {},
     "output_type": "display_data"
    },
    {
     "name": "stdout",
     "output_type": "stream",
     "text": [
      "atmpro = mls\n",
      "band = [7]\n",
      "commitnumber = de5d43e\n",
      "molecule = {'o3': 'atmpro'}\n",
      "tsfc = 294\n"
     ]
    },
    {
     "data": {
      "text/html": [
       "<a id=\"LBLNEW_case_compaired_against\"></a>"
      ],
      "text/plain": [
       "<IPython.core.display.HTML object>"
      ]
     },
     "metadata": {},
     "output_type": "display_data"
    },
    {
     "data": {
      "text/markdown": [
       "# LBLNEW case compaired against"
      ],
      "text/plain": [
       "<IPython.core.display.Markdown object>"
      ]
     },
     "metadata": {},
     "output_type": "display_data"
    },
    {
     "name": "stdout",
     "output_type": "stream",
     "text": [
      "atmpro = mls\n",
      "band = 5\n",
      "commitnumber = 5014a19\n",
      "conc = None\n",
      "dv = 0.001\n",
      "klin = 2e-20\n",
      "molecule = o3\n",
      "ng_adju = [0, 0]\n",
      "ng_refs = [2, 5]\n",
      "nv = 1000\n",
      "option_compute_btable = 0\n",
      "option_compute_ktable = 0\n",
      "option_wgt_flux = 1\n",
      "option_wgt_k = 1\n",
      "ref_pts = [(1, 250), (50, 250)]\n",
      "tsfc = 294\n",
      "vmax = 1100\n",
      "vmin = 980\n",
      "w_diffuse = [(1.6, 1.75), (1.55, 1.66, 1.7, 1.75, 1.8)]\n",
      "wgt = [(0.35, 0.6), (0.5, 0.55, 0.7, 0.9, 1.0)]\n"
     ]
    },
    {
     "data": {
      "text/html": [
       "<a id=\"Cooling_Rate_Profiles\"></a>"
      ],
      "text/plain": [
       "<IPython.core.display.HTML object>"
      ]
     },
     "metadata": {},
     "output_type": "display_data"
    },
    {
     "data": {
      "text/markdown": [
       "# Cooling Rate Profiles"
      ],
      "text/plain": [
       "<IPython.core.display.Markdown object>"
      ]
     },
     "metadata": {},
     "output_type": "display_data"
    },
    {
     "data": {
      "text/html": [
       "\n",
       "<div class=\"bk-root\">\n",
       "    <div class=\"bk-plotdiv\" id=\"4e06a81e-3efe-415f-879b-cbe7fb61a6b8\"></div>\n",
       "</div>"
      ]
     },
     "metadata": {},
     "output_type": "display_data"
    },
    {
     "data": {
      "application/javascript": [
       "(function(root) {\n",
       "  function embed_document(root) {\n",
       "    \n",
       "  var docs_json = {\"987805ac-1cfb-4a83-9306-837e50b41e7d\":{\"roots\":{\"references\":[{\"attributes\":{\"bottom_units\":\"screen\",\"fill_alpha\":{\"value\":0.5},\"fill_color\":{\"value\":\"lightgrey\"},\"left_units\":\"screen\",\"level\":\"overlay\",\"line_alpha\":{\"value\":1.0},\"line_color\":{\"value\":\"black\"},\"line_dash\":[4,4],\"line_width\":{\"value\":2},\"plot\":null,\"render_mode\":\"css\",\"right_units\":\"screen\",\"top_units\":\"screen\"},\"id\":\"06bb37d4-6a1f-4bc7-b001-8914a8f44741\",\"type\":\"BoxAnnotation\"},{\"attributes\":{},\"id\":\"0217a9cf-3131-423f-b245-868e2cac1bef\",\"type\":\"UnionRenderers\"},{\"attributes\":{\"fill_alpha\":{\"value\":0.7},\"fill_color\":{\"value\":\"#4daf4a\"},\"line_alpha\":{\"value\":0.7},\"line_color\":{\"value\":\"#4daf4a\"},\"x\":{\"field\":\"x\"},\"y\":{\"field\":\"y\"}},\"id\":\"7f09cc4b-7d0a-41c5-ab03-0b93d00cbd0e\",\"type\":\"Circle\"},{\"attributes\":{\"callback\":null,\"data\":{\"x\":{\"__ndarray__\":\"/oJPBlb0o78esCxKaTOmv2M98l0DiKq/WxFOboivrr/i63XP3VWxvxG2R4sNP7O/mpeYbt8Rtb8H5LLU8c22v+K4VPG7c7i/UiFoFrIEur8ZxdV1Zoq7v4W171nwBb2/oyLr/B2Cvr9Jl6NsNvu/vzzIwkJzPsC/86KfPjwqvr/3Wq9teuWxv/PrcDzrj6A/8Waqs5x8yT8IDMzpNlHcP3PPX41Y0Og/jsXb7/V68z9niL4WT7j7P3oFs1O95v8/Oq5GdqWl/D9otRvYhfr2PxDbJ5GO/PA/4vNYbd3R5z/7rSFhrbTgPzBjbQD0g9Y/95r1lGLoxj9H7Bj56hqFP8z3QrdNp7u/fkhsNfN9yL+VkeXq6LTQv0W8lgzXFdK/vHloJ5wA0L+VW4OMurXLv6b7MZSwwsm/GyQrXOIKx7/f0EoQZHPCv/XkUHV+QL2/HHvVTr0DuL8BIEpbLCqzvy6fwbP4pa6/8S7k//iMqb9KBg7VhTmlv+jzvuKKOqG/vnWEJ4Klm78Yi+EVgeSVv0MtFzsrs5C/xhpjZB8diL8zb/aDkcl/v+y6sURSkHG/10Er1WHjU78ngvJewMlZP3HzR4FX5XA/St+d1A2Pej8lfAIvkrmBPy36H23X3IU/KlnZNHK6iT9HrF3Ei0aNP2XlVaVGS5A/PwCpTZzckT/HVNv8qE6TP+VXBOMGmpQ/N+tURS3XlT/XmDDKzgOXP92j/zHp+Zc/jhmw/ce2mD+9H+Lfmk2ZP64QWxzD05k/zmdILmJMmj9aAYgyibeaP29SlvYNGZs/\",\"dtype\":\"float64\",\"shape\":[75]},\"y\":{\"__ndarray__\":\"GhExyth1ND/Sv8nbtpRIP2vylNV0PVE/aTum7souWD/At0SJ8fVgPw3Iuahxymc/MSNhhJWvcD/bTfBN02d3P2zb5nxnaoA/CD5h5MAGhz8NmeH1TyaQP+zrCsc9p5Y/LbKd76fGnz/bLW5ISEmmPww9YvTcQq8/JV2OstnstT8Er5Y7M8G+P0c+r3jqkcU/5h99k6ZBzj88bCIzFzjVP4enV8oyxN0//yH99nXg5D8qOpLLf0jtP5kqGJXUifQ/c9cS8kHP/D+/DpwzojQEQIEmwoanVwxA4lgXt9HgE0BSSZ2AJuIbQAMJih9jjiNA5q4l5INuK0AwTKYKRj0zQNv5fmq8/DpAaCJseHrtQkB/+zpwzoxKQM3MzMzMeFJAZmZmZmZqWEAAAAAAAFxeQM3MzMzMJmJAmpmZmZkfZUBmZmZmZhhoQDMzMzMzEWtAAAAAAAAKbkBmZmZmZoFwQM3MzMzM/XFAMzMzMzN6c0CamZmZmfZ0QAAAAAAAc3ZAZmZmZmbvd0DNzMzMzGt5QDMzMzMz6HpAmpmZmZlkfEAAAAAAAOF9QGZmZmZmXX9AZmZmZuZsgECamZmZGSuBQM3MzMxM6YFAAAAAAICngkAzMzMzs2WDQGZmZmbmI4RAmpmZmRnihEDNzMzMTKCFQAAAAACAXoZAMzMzM7Mch0BmZmZm5tqHQJqZmZkZmYhAzczMzExXiUAAAAAAgBWKQDMzMzOz04pAZmZmZuaRi0CamZmZGVCMQM3MzMxMDo1AAAAAAIDMjUAzMzMzs4qOQGZmZmbmSI9A\",\"dtype\":\"float64\",\"shape\":[75]}},\"selected\":{\"id\":\"49e4da25-ddc1-422e-a806-4d6e2bd5a54f\",\"type\":\"Selection\"},\"selection_policy\":{\"id\":\"fbb8ca41-87d4-47c1-8495-603e61a26e19\",\"type\":\"UnionRenderers\"}},\"id\":\"ef9b633d-2261-4fda-8bce-3ee708ebfbac\",\"type\":\"ColumnDataSource\"},{\"attributes\":{},\"id\":\"2725d5a5-7bc0-4789-bd02-1c55527bca9c\",\"type\":\"UnionRenderers\"},{\"attributes\":{\"callback\":null,\"end\":2.0170043916999996,\"start\":-0.3464877617},\"id\":\"c9392832-bad4-4615-a7b7-fcf36935f1b9\",\"type\":\"Range1d\"},{\"attributes\":{},\"id\":\"cd9ca217-6a5a-4753-85c1-b285e0b7b7e0\",\"type\":\"Selection\"},{\"attributes\":{},\"id\":\"68f35642-ab56-4cb9-8d0c-4135de0b7f6f\",\"type\":\"HelpTool\"},{\"attributes\":{},\"id\":\"fdbb214f-f8ed-4bbe-a4ad-b472adccca25\",\"type\":\"UnionRenderers\"},{\"attributes\":{},\"id\":\"b1aaae5b-d983-4cef-8f7f-b225ecd316ec\",\"type\":\"WheelZoomTool\"},{\"attributes\":{},\"id\":\"d25b5ef1-1672-4aff-8827-9d5055940fa3\",\"type\":\"Selection\"},{\"attributes\":{\"tools\":[{\"id\":\"080b1759-4405-4804-9b47-f199265ae375\",\"type\":\"PanTool\"},{\"id\":\"b1aaae5b-d983-4cef-8f7f-b225ecd316ec\",\"type\":\"WheelZoomTool\"},{\"id\":\"b7cc1e8a-b1ef-4e01-b3b7-f46a5554582e\",\"type\":\"BoxZoomTool\"},{\"id\":\"3a13de8c-b004-46be-a3ee-bed8b88de43f\",\"type\":\"SaveTool\"},{\"id\":\"dfceb99d-8b2e-44de-8cfd-978df0a08dbb\",\"type\":\"ResetTool\"},{\"id\":\"68f35642-ab56-4cb9-8d0c-4135de0b7f6f\",\"type\":\"HelpTool\"},{\"id\":\"6025dc05-eb30-4597-be96-7499a8bbcf38\",\"type\":\"PanTool\"},{\"id\":\"9ae3769f-c13c-499a-8e52-0574deabf54e\",\"type\":\"WheelZoomTool\"},{\"id\":\"428af8aa-2dd9-4839-b6f1-0a97b96ff93c\",\"type\":\"BoxZoomTool\"},{\"id\":\"c6dbb526-3cf3-4e77-a0c2-1e9d3c4dd995\",\"type\":\"SaveTool\"},{\"id\":\"b26fa741-4559-4d00-9cf8-74a2134f8ab7\",\"type\":\"ResetTool\"},{\"id\":\"963334ba-4eac-44a7-8b05-3ef2521b6635\",\"type\":\"HelpTool\"}]},\"id\":\"b49e132b-a9ec-4635-8d77-572a54f6b138\",\"type\":\"ProxyToolbar\"},{\"attributes\":{\"toolbar\":{\"id\":\"b49e132b-a9ec-4635-8d77-572a54f6b138\",\"type\":\"ProxyToolbar\"},\"toolbar_location\":\"above\"},\"id\":\"6b9b281d-4622-4957-af64-b63b8283322a\",\"type\":\"ToolbarBox\"},{\"attributes\":{\"active_drag\":\"auto\",\"active_inspect\":\"auto\",\"active_scroll\":\"auto\",\"active_tap\":\"auto\",\"tools\":[{\"id\":\"6025dc05-eb30-4597-be96-7499a8bbcf38\",\"type\":\"PanTool\"},{\"id\":\"9ae3769f-c13c-499a-8e52-0574deabf54e\",\"type\":\"WheelZoomTool\"},{\"id\":\"428af8aa-2dd9-4839-b6f1-0a97b96ff93c\",\"type\":\"BoxZoomTool\"},{\"id\":\"c6dbb526-3cf3-4e77-a0c2-1e9d3c4dd995\",\"type\":\"SaveTool\"},{\"id\":\"b26fa741-4559-4d00-9cf8-74a2134f8ab7\",\"type\":\"ResetTool\"},{\"id\":\"963334ba-4eac-44a7-8b05-3ef2521b6635\",\"type\":\"HelpTool\"}]},\"id\":\"3939b349-7b24-44ce-b2be-20429ef9d805\",\"type\":\"Toolbar\"},{\"attributes\":{},\"id\":\"44bd122e-d5d3-4fc4-b046-b9a729b34401\",\"type\":\"Selection\"},{\"attributes\":{},\"id\":\"72f0ad34-5f14-4b66-a064-1851f91cff1c\",\"type\":\"UnionRenderers\"},{\"attributes\":{\"children\":[{\"id\":\"6b9b281d-4622-4957-af64-b63b8283322a\",\"type\":\"ToolbarBox\"},{\"id\":\"012a083f-6458-4cd3-a9ef-845d92ef2a7f\",\"type\":\"Column\"}]},\"id\":\"ff9da2a0-ef26-40cf-a4a7-d8c06e981a15\",\"type\":\"Column\"},{\"attributes\":{},\"id\":\"6025dc05-eb30-4597-be96-7499a8bbcf38\",\"type\":\"PanTool\"},{\"attributes\":{},\"id\":\"10d54315-d45c-47e7-bb01-c36a00d0e132\",\"type\":\"LinearScale\"},{\"attributes\":{\"dimension\":1,\"plot\":{\"id\":\"f91cd957-db2c-4259-8527-5906a29e26de\",\"subtype\":\"Figure\",\"type\":\"Plot\"},\"ticker\":{\"id\":\"662f259a-237d-4c88-af0e-b9c10ac94ee9\",\"type\":\"LogTicker\"}},\"id\":\"2176f3be-6d2a-4b31-b206-12fa1e1eab3a\",\"type\":\"Grid\"},{\"attributes\":{},\"id\":\"963334ba-4eac-44a7-8b05-3ef2521b6635\",\"type\":\"HelpTool\"},{\"attributes\":{},\"id\":\"167dfea1-bd9c-444b-998b-24fec7d9a25c\",\"type\":\"BasicTicker\"},{\"attributes\":{\"axis_label\":\"cooling rate [K/day]\",\"formatter\":{\"id\":\"1f28c481-ade2-47bd-beef-9a500cd8c8fd\",\"type\":\"BasicTickFormatter\"},\"plot\":{\"id\":\"822641a5-7c8a-4337-9ac1-f82cbf24ba5a\",\"subtype\":\"Figure\",\"type\":\"Plot\"},\"ticker\":{\"id\":\"167dfea1-bd9c-444b-998b-24fec7d9a25c\",\"type\":\"BasicTicker\"}},\"id\":\"b9528273-f4f3-412c-8137-a76109f529c2\",\"type\":\"LinearAxis\"},{\"attributes\":{\"data_source\":{\"id\":\"ef9b633d-2261-4fda-8bce-3ee708ebfbac\",\"type\":\"ColumnDataSource\"},\"glyph\":{\"id\":\"3ffc3278-f9ef-4f8a-b507-998bdaf59681\",\"type\":\"Line\"},\"hover_glyph\":null,\"muted_glyph\":null,\"nonselection_glyph\":{\"id\":\"156d7b5d-cb8e-40d2-98fb-49603ad4fada\",\"type\":\"Line\"},\"selection_glyph\":null,\"view\":{\"id\":\"12f6faa5-d678-4c39-8964-5d0c9e663c0d\",\"type\":\"CDSView\"}},\"id\":\"a62df301-90fe-4d70-a196-3a75892caf35\",\"type\":\"GlyphRenderer\"},{\"attributes\":{},\"id\":\"b26fa741-4559-4d00-9cf8-74a2134f8ab7\",\"type\":\"ResetTool\"},{\"attributes\":{\"active_drag\":\"auto\",\"active_inspect\":\"auto\",\"active_scroll\":\"auto\",\"active_tap\":\"auto\",\"tools\":[{\"id\":\"080b1759-4405-4804-9b47-f199265ae375\",\"type\":\"PanTool\"},{\"id\":\"b1aaae5b-d983-4cef-8f7f-b225ecd316ec\",\"type\":\"WheelZoomTool\"},{\"id\":\"b7cc1e8a-b1ef-4e01-b3b7-f46a5554582e\",\"type\":\"BoxZoomTool\"},{\"id\":\"3a13de8c-b004-46be-a3ee-bed8b88de43f\",\"type\":\"SaveTool\"},{\"id\":\"dfceb99d-8b2e-44de-8cfd-978df0a08dbb\",\"type\":\"ResetTool\"},{\"id\":\"68f35642-ab56-4cb9-8d0c-4135de0b7f6f\",\"type\":\"HelpTool\"}]},\"id\":\"ddedab64-e9d7-44a5-a6e2-438adf94d3b2\",\"type\":\"Toolbar\"},{\"attributes\":{\"below\":[{\"id\":\"71416a4f-864b-49ce-ac0c-7efbfa196c03\",\"type\":\"LinearAxis\"}],\"left\":[{\"id\":\"29489031-6983-4949-9682-fb7203d640c6\",\"type\":\"LogAxis\"}],\"plot_height\":500,\"plot_width\":560,\"renderers\":[{\"id\":\"71416a4f-864b-49ce-ac0c-7efbfa196c03\",\"type\":\"LinearAxis\"},{\"id\":\"54abf054-ac24-4e3c-99d1-0a68a1f6056c\",\"type\":\"Grid\"},{\"id\":\"29489031-6983-4949-9682-fb7203d640c6\",\"type\":\"LogAxis\"},{\"id\":\"2176f3be-6d2a-4b31-b206-12fa1e1eab3a\",\"type\":\"Grid\"},{\"id\":\"06bb37d4-6a1f-4bc7-b001-8914a8f44741\",\"type\":\"BoxAnnotation\"},{\"id\":\"c8b829d3-7e27-42ff-a466-3c69d93de885\",\"type\":\"GlyphRenderer\"},{\"id\":\"c5ffa9c7-711a-424b-b1e1-9919e9760654\",\"type\":\"GlyphRenderer\"},{\"id\":\"d7f7265f-48f1-483a-9974-6d080719f61e\",\"type\":\"GlyphRenderer\"},{\"id\":\"72afc672-b34c-4dd6-b98b-b7b66f067787\",\"type\":\"GlyphRenderer\"},{\"id\":\"c43d679b-32d2-4b1d-a22a-5121975bc8dc\",\"type\":\"GlyphRenderer\"},{\"id\":\"543120f3-e725-4c31-bb23-3af972207e09\",\"type\":\"Legend\"}],\"right\":[{\"id\":\"543120f3-e725-4c31-bb23-3af972207e09\",\"type\":\"Legend\"}],\"title\":{\"id\":\"47c173bd-99b7-4156-be29-3b54d48fe9a5\",\"type\":\"Title\"},\"toolbar\":{\"id\":\"3939b349-7b24-44ce-b2be-20429ef9d805\",\"type\":\"Toolbar\"},\"toolbar_location\":null,\"x_range\":{\"id\":\"c9392832-bad4-4615-a7b7-fcf36935f1b9\",\"type\":\"Range1d\"},\"x_scale\":{\"id\":\"43d5cf11-4e94-4397-bb44-da34cdd25219\",\"type\":\"LinearScale\"},\"y_range\":{\"id\":\"b6e30067-cbe4-4617-8672-f1b990116f02\",\"type\":\"Range1d\"},\"y_scale\":{\"id\":\"f7ffacb1-71e7-461c-8a48-deea6b89ec79\",\"type\":\"LogScale\"}},\"id\":\"f91cd957-db2c-4259-8527-5906a29e26de\",\"subtype\":\"Figure\",\"type\":\"Plot\"},{\"attributes\":{\"axis_label\":\"cooling rate [K/day]\",\"formatter\":{\"id\":\"29abd131-7471-4d28-ba65-9a36f5f31ed6\",\"type\":\"BasicTickFormatter\"},\"plot\":{\"id\":\"f91cd957-db2c-4259-8527-5906a29e26de\",\"subtype\":\"Figure\",\"type\":\"Plot\"},\"ticker\":{\"id\":\"54af4d50-c6dc-4066-a8c0-d93facc7317a\",\"type\":\"BasicTicker\"}},\"id\":\"71416a4f-864b-49ce-ac0c-7efbfa196c03\",\"type\":\"LinearAxis\"},{\"attributes\":{\"items\":[{\"id\":\"385c75f8-4f1e-4cfa-a106-1c7b2090d674\",\"type\":\"LegendItem\"},{\"id\":\"b224a26d-21e5-488e-850a-c1a2601853f5\",\"type\":\"LegendItem\"},{\"id\":\"f8c508d5-b97c-48f5-8886-fb68def1bc6e\",\"type\":\"LegendItem\"}],\"label_text_font_size\":{\"value\":\"8pt\"},\"location\":[10,-30],\"plot\":{\"id\":\"f91cd957-db2c-4259-8527-5906a29e26de\",\"subtype\":\"Figure\",\"type\":\"Plot\"}},\"id\":\"543120f3-e725-4c31-bb23-3af972207e09\",\"type\":\"Legend\"},{\"attributes\":{},\"id\":\"c678ea78-36f0-4e4e-9588-c47607cb1aea\",\"type\":\"BasicTicker\"},{\"attributes\":{\"callback\":null,\"end\":0.01,\"start\":1020},\"id\":\"91b78687-b0f1-461d-ad74-caa82e5496eb\",\"type\":\"Range1d\"},{\"attributes\":{\"axis_label\":\"pressure [mb]\",\"formatter\":{\"id\":\"451240ea-937c-411d-839e-dac4c2f9af49\",\"type\":\"BasicTickFormatter\"},\"plot\":{\"id\":\"822641a5-7c8a-4337-9ac1-f82cbf24ba5a\",\"subtype\":\"Figure\",\"type\":\"Plot\"},\"ticker\":{\"id\":\"c678ea78-36f0-4e4e-9588-c47607cb1aea\",\"type\":\"BasicTicker\"}},\"id\":\"8b82fd7e-dfda-4dda-93ef-2fdcfd76246b\",\"type\":\"LinearAxis\"},{\"attributes\":{\"data_source\":{\"id\":\"be72968c-1a5a-4bec-9394-2cfd7f2cca4d\",\"type\":\"ColumnDataSource\"},\"glyph\":{\"id\":\"c124b0cf-6291-4431-b8e0-24f3ccbe19a5\",\"type\":\"Line\"},\"hover_glyph\":null,\"muted_glyph\":null,\"nonselection_glyph\":{\"id\":\"e927ad8e-8d16-4982-9c48-94d5b7d6b271\",\"type\":\"Line\"},\"selection_glyph\":null,\"view\":{\"id\":\"82bb26d8-ec31-453d-b6b4-135ba8cedb51\",\"type\":\"CDSView\"}},\"id\":\"dff1b0b0-36f4-43c5-a8be-8e711afd20c0\",\"type\":\"GlyphRenderer\"},{\"attributes\":{\"callback\":null,\"data\":{\"x\":{\"__ndarray__\":\"WJ93hyNoob/fMOj4f1+jv3cqYlE8LKe/ic9KloHTqr843D/6M1auvwQ0a4uz2rC/zjucMRd2sr8nixXtw/2zvzS5Y/QAerW/54xcjp7gtr/uQ+bZ9DC4v0DZyZ/febm/UXrcVtnCur8Q3evNafi7vzSQdI7fZLy/YXZPk09Lur81tYZv9SWuv8gquaoNYKI/RY/ik4O2yD9KFFzBm0DbPxZ454N37+c/ofKYSSDa8j99MYQxXPT6P7KDVM46cv8/QKtIXDLk/D+t7GRr27L3PzJIgu+EAvI/OzsT9SZI6j8/A2HcSjXjP/RbH0UCvto/Mx0Vm3GjzD83vtmbXdSgP00R42Oe9rm/WANFKrlByb+AzBp63OfRvy4Zs2QPxtO/wqA8U3eD0b/mMG4b7APOv83ST/IKb8u/u5t5SxgayL9LhZAuGA7DvwIy747X/r2/by0IptB5uL8Xs42Ol22zv7oaSsZZ7K6/KBGUrJmtqb8mW9HtOzulv5InAG9XKaG/+0gz9C9mm7/LNjq9Yo6Vv/y1mwygVJC/LNFRPuhIh7+TakSGkwt+v925yiLUu2+/uLcX48fJSb8CbnuWAWhgP1NXjC3uknI/0BL+Hjk0fD/HA763DIeCP3qtiadMoYY/vmXWY/5wij+4BYI84vONP6sVJcdUnZA/yihs1Agmkj/SvdRWLZGTPy3aCEX31pQ/6ul/Fz8Plj/R9nAyZDSXP7yPBgXBJ5g/c4wM/C3kmD9QQLRVY3qZP2g4sUUj/5k/tC9GbRN2mj8vORYxwuCaP7RcIK0JQZs/\",\"dtype\":\"float64\",\"shape\":[75]},\"y\":{\"__ndarray__\":\"GhExyth1ND/Sv8nbtpRIP2vylNV0PVE/aTum7souWD/At0SJ8fVgPw3Iuahxymc/MSNhhJWvcD/bTfBN02d3P2zb5nxnaoA/CD5h5MAGhz8NmeH1TyaQP+zrCsc9p5Y/LbKd76fGnz/bLW5ISEmmPww9YvTcQq8/JV2OstnstT8Er5Y7M8G+P0c+r3jqkcU/5h99k6ZBzj88bCIzFzjVP4enV8oyxN0//yH99nXg5D8qOpLLf0jtP5kqGJXUifQ/c9cS8kHP/D+/DpwzojQEQIEmwoanVwxA4lgXt9HgE0BSSZ2AJuIbQAMJih9jjiNA5q4l5INuK0AwTKYKRj0zQNv5fmq8/DpAaCJseHrtQkB/+zpwzoxKQM3MzMzMeFJAZmZmZmZqWEAAAAAAAFxeQM3MzMzMJmJAmpmZmZkfZUBmZmZmZhhoQDMzMzMzEWtAAAAAAAAKbkBmZmZmZoFwQM3MzMzM/XFAMzMzMzN6c0CamZmZmfZ0QAAAAAAAc3ZAZmZmZmbvd0DNzMzMzGt5QDMzMzMz6HpAmpmZmZlkfEAAAAAAAOF9QGZmZmZmXX9AZmZmZuZsgECamZmZGSuBQM3MzMxM6YFAAAAAAICngkAzMzMzs2WDQGZmZmbmI4RAmpmZmRnihEDNzMzMTKCFQAAAAACAXoZAMzMzM7Mch0BmZmZm5tqHQJqZmZkZmYhAzczMzExXiUAAAAAAgBWKQDMzMzOz04pAZmZmZuaRi0CamZmZGVCMQM3MzMxMDo1AAAAAAIDMjUAzMzMzs4qOQGZmZmbmSI9A\",\"dtype\":\"float64\",\"shape\":[75]}},\"selected\":{\"id\":\"19746b73-56d4-466c-9070-cea45b78b733\",\"type\":\"Selection\"},\"selection_policy\":{\"id\":\"346c920b-d5cc-46f0-8de9-4979090a8e1f\",\"type\":\"UnionRenderers\"}},\"id\":\"b78579ff-31bc-4637-b12e-c60d0fc59a71\",\"type\":\"ColumnDataSource\"},{\"attributes\":{\"callback\":null,\"end\":0.030114602580100003,\"start\":-0.32681558557010004},\"id\":\"8dbcf124-271e-42fc-893f-2f5546de6b84\",\"type\":\"Range1d\"},{\"attributes\":{},\"id\":\"43d5cf11-4e94-4397-bb44-da34cdd25219\",\"type\":\"LinearScale\"},{\"attributes\":{},\"id\":\"3a13de8c-b004-46be-a3ee-bed8b88de43f\",\"type\":\"SaveTool\"},{\"attributes\":{\"data_source\":{\"id\":\"c1fa59bd-5f5e-42bb-a297-886fbaa5b429\",\"type\":\"ColumnDataSource\"},\"glyph\":{\"id\":\"d31c9394-2fd2-4607-be74-e0013cda1f7c\",\"type\":\"Square\"},\"hover_glyph\":null,\"muted_glyph\":null,\"nonselection_glyph\":{\"id\":\"e0173c48-5a53-41a6-a1c6-1c5f18e915e7\",\"type\":\"Square\"},\"selection_glyph\":null,\"view\":{\"id\":\"32834b5e-8b4e-4fb0-b228-7f38725a00f6\",\"type\":\"CDSView\"}},\"id\":\"72afc672-b34c-4dd6-b98b-b7b66f067787\",\"type\":\"GlyphRenderer\"},{\"attributes\":{\"dimension\":1,\"plot\":{\"id\":\"822641a5-7c8a-4337-9ac1-f82cbf24ba5a\",\"subtype\":\"Figure\",\"type\":\"Plot\"},\"ticker\":{\"id\":\"c678ea78-36f0-4e4e-9588-c47607cb1aea\",\"type\":\"BasicTicker\"}},\"id\":\"725b0f60-f680-48ea-8793-0e15324de04c\",\"type\":\"Grid\"},{\"attributes\":{\"axis_label\":\"pressure [mb]\",\"formatter\":{\"id\":\"a0abcc60-af1c-4954-8d12-b7ccf6f6d6ae\",\"type\":\"LogTickFormatter\"},\"plot\":{\"id\":\"f91cd957-db2c-4259-8527-5906a29e26de\",\"subtype\":\"Figure\",\"type\":\"Plot\"},\"ticker\":{\"id\":\"662f259a-237d-4c88-af0e-b9c10ac94ee9\",\"type\":\"LogTicker\"}},\"id\":\"29489031-6983-4949-9682-fb7203d640c6\",\"type\":\"LogAxis\"},{\"attributes\":{\"data_source\":{\"id\":\"b78579ff-31bc-4637-b12e-c60d0fc59a71\",\"type\":\"ColumnDataSource\"},\"glyph\":{\"id\":\"2fd4cffd-17f3-4c06-83d6-1ac6703208cf\",\"type\":\"Square\"},\"hover_glyph\":null,\"muted_glyph\":null,\"nonselection_glyph\":{\"id\":\"a9e901db-82b2-4dce-9ee8-c2f2f71a8244\",\"type\":\"Square\"},\"selection_glyph\":null,\"view\":{\"id\":\"3e411742-a60d-40d4-b989-aeec1b29dae4\",\"type\":\"CDSView\"}},\"id\":\"d7ab7fa5-baa5-4a1f-b7c3-a45f4086761d\",\"type\":\"GlyphRenderer\"},{\"attributes\":{\"line_alpha\":0.1,\"line_color\":\"#1f77b4\",\"line_width\":1.5,\"x\":{\"field\":\"x\"},\"y\":{\"field\":\"y\"}},\"id\":\"156d7b5d-cb8e-40d2-98fb-49603ad4fada\",\"type\":\"Line\"},{\"attributes\":{\"line_color\":\"#4daf4a\",\"line_width\":1.5,\"x\":{\"field\":\"x\"},\"y\":{\"field\":\"y\"}},\"id\":\"3ffc3278-f9ef-4f8a-b507-998bdaf59681\",\"type\":\"Line\"},{\"attributes\":{\"callback\":null,\"data\":{\"x\":{\"__ndarray__\":\"pXo1t3dKn7/Maa87Zmuhv/DClFAT4KS/fizQMK00qL+GBBrZhmurv2SpWKlehq6/NDjL3rLAsL9F0GgQvi6yv93/Z5fmi7O//uOeXafZtL8CMDsXiBa2v2+D2m/tRLe/1WajQI1luL8D6g/Fy3C5vyPzTFiwx7m/oc5WCvMxuL86mGFkSJytv/IwTQ4oZpo/vdB1RDKixT96uuPi4sfYPzmRRw35SeY/Ye8PpQfP8T9fUzHfC735P2+YDdcPlv4/zh7Dvvh9/D9wbfKlAe32P7cgAN082vA/qJK/g7gV6D9QP8EotbXhPxTKZx5ladk/5nIH2rI2zD/CyXqNBOqhP5hh7Tn6qbm/pOyhO5COyb+pZ0Eo72PSv4uKerk2sdS/i2OPFoia0r9vrxbpj/rPv9YWAcJF9sy/05Cnm3oTyb/cyZabXpjDv7Y4WyfLnL6/gk+PR1LNuL9Gcm4dYImzv0GZ69kY4K6/HXKlMWlyqb8R9/PO6uKkv9eBwoxovKC/JhBd7bR3mr+uUg8LlJiUv7E5cbMkso6/PVrmvuZmhb+sXTp1w4B6v71zLiE0/Wi/YGX4vc9aBL+mrFFZFeRlP4h93GCjCnU/WMSc37FRfj/oe4nR7GODP1Jtr4Y9TYc/jzJ1ZqHuij/hLp0EpjuOP4SlgtY4pZA/Vq0DIu8Vkj+cVNGrQ2aTP49c6F7okJQ/eujU+PmtlT94dGCPQr+WP1GcivHtn5c/m0OyfVFNmD+03uTBWtiYP2A04gTRU5k/1bomB2DBmT86B2xaayCaP0DoaVg9dJo/\",\"dtype\":\"float64\",\"shape\":[75]},\"y\":{\"__ndarray__\":\"S/O/Q+51ND/Sv8nbtpRIP2vylNV0PVE/aTum7souWD/At0SJ8fVgPw3Iuahxymc/MSNhhJWvcD/bTfBN02d3P2zb5nxnaoA/CD5h5MAGhz8NmeH1TyaQP+zrCsc9p5Y/LbKd76fGnz/bLW5ISEmmPww9YvTcQq8/JV2OstnstT8Er5Y7M8G+P0c+r3jqkcU/5h99k6ZBzj88bCIzFzjVP4enV8oyxN0//yH99nXg5D8qOpLLf0jtP5kqGJXUifQ/c9cS8kHP/D+/DpwzojQEQIEmwoanVwxA4lgXt9HgE0BSSZ2AJuIbQAMJih9jjiNA5q4l5INuK0AwTKYKRj0zQNv5fmq8/DpAaCJseHrtQkB/+zpwzoxKQM3MzMzMeFJAZmZmZmZqWEAAAAAAAFxeQM3MzMzMJmJAmpmZmZkfZUBmZmZmZhhoQDMzMzMzEWtAAAAAAAAKbkBmZmZmZoFwQM3MzMzM/XFAMzMzMzN6c0CamZmZmfZ0QAAAAAAAc3ZAZmZmZmbvd0DNzMzMzGt5QDMzMzMz6HpAmpmZmZlkfEAAAAAAAOF9QGZmZmZmXX9AZmZmZuZsgECamZmZGSuBQM3MzMxM6YFAAAAAAICngkAzMzMzs2WDQGZmZmbmI4RAmpmZmRnihEDNzMzMTKCFQAAAAACAXoZAMzMzM7Mch0BmZmZm5tqHQJqZmZkZmYhAzczMzExXiUAAAAAAgBWKQDMzMzOz04pAZmZmZuaRi0CamZmZGVCMQM3MzMxMDo1AAAAAAIDMjUAzMzMzs4qOQGZmZmbmSI9A\",\"dtype\":\"float64\",\"shape\":[75]}},\"selected\":{\"id\":\"9a0330c8-2988-481d-be10-86e5a618826a\",\"type\":\"Selection\"},\"selection_policy\":{\"id\":\"ff02f9a7-328e-4737-bc09-d416c5c78229\",\"type\":\"UnionRenderers\"}},\"id\":\"4f292552-b7de-474f-98c4-23617ef59709\",\"type\":\"ColumnDataSource\"},{\"attributes\":{\"source\":{\"id\":\"e16b7b88-0d40-4db6-be3d-5edc8e210ed2\",\"type\":\"ColumnDataSource\"}},\"id\":\"74991e4a-b336-444a-83ea-b5ecc8cf97ac\",\"type\":\"CDSView\"},{\"attributes\":{\"source\":{\"id\":\"c1fa59bd-5f5e-42bb-a297-886fbaa5b429\",\"type\":\"ColumnDataSource\"}},\"id\":\"32834b5e-8b4e-4fb0-b228-7f38725a00f6\",\"type\":\"CDSView\"},{\"attributes\":{\"bottom_units\":\"screen\",\"fill_alpha\":{\"value\":0.5},\"fill_color\":{\"value\":\"lightgrey\"},\"left_units\":\"screen\",\"level\":\"overlay\",\"line_alpha\":{\"value\":1.0},\"line_color\":{\"value\":\"black\"},\"line_dash\":[4,4],\"line_width\":{\"value\":2},\"plot\":null,\"render_mode\":\"css\",\"right_units\":\"screen\",\"top_units\":\"screen\"},\"id\":\"870e8344-4ea2-43a9-aa4e-4abc7a6ca31a\",\"type\":\"BoxAnnotation\"},{\"attributes\":{\"source\":{\"id\":\"4f292552-b7de-474f-98c4-23617ef59709\",\"type\":\"ColumnDataSource\"}},\"id\":\"54677415-90d1-4b61-9566-5df8caa45e30\",\"type\":\"CDSView\"},{\"attributes\":{\"fill_alpha\":{\"value\":0.1},\"fill_color\":{\"value\":\"#1f77b4\"},\"line_alpha\":{\"value\":0.1},\"line_color\":{\"value\":\"#1f77b4\"},\"x\":{\"field\":\"x\"},\"y\":{\"field\":\"y\"}},\"id\":\"e0173c48-5a53-41a6-a1c6-1c5f18e915e7\",\"type\":\"Square\"},{\"attributes\":{},\"id\":\"f7ffacb1-71e7-461c-8a48-deea6b89ec79\",\"type\":\"LogScale\"},{\"attributes\":{},\"id\":\"080b1759-4405-4804-9b47-f199265ae375\",\"type\":\"PanTool\"},{\"attributes\":{\"fill_alpha\":{\"value\":0.1},\"fill_color\":{\"value\":\"#1f77b4\"},\"line_alpha\":{\"value\":0.1},\"line_color\":{\"value\":\"#1f77b4\"},\"x\":{\"field\":\"x\"},\"y\":{\"field\":\"y\"}},\"id\":\"9611a121-9c9c-470c-899e-82164c854d3f\",\"type\":\"Circle\"},{\"attributes\":{\"line_alpha\":0.1,\"line_color\":\"#1f77b4\",\"line_dash\":[6],\"line_width\":5,\"x\":{\"field\":\"x\"},\"y\":{\"field\":\"y\"}},\"id\":\"0ddb3790-dc63-406b-a122-fe987cbf222c\",\"type\":\"Line\"},{\"attributes\":{\"num_minor_ticks\":10},\"id\":\"662f259a-237d-4c88-af0e-b9c10ac94ee9\",\"type\":\"LogTicker\"},{\"attributes\":{\"callback\":null,\"data\":{\"x\":{\"__ndarray__\":\"pXo1t3dKn7/Maa87Zmuhv/DClFAT4KS/fizQMK00qL+GBBrZhmurv2SpWKlehq6/NDjL3rLAsL9F0GgQvi6yv93/Z5fmi7O//uOeXafZtL8CMDsXiBa2v2+D2m/tRLe/1WajQI1luL8D6g/Fy3C5vyPzTFiwx7m/oc5WCvMxuL86mGFkSJytv/IwTQ4oZpo/vdB1RDKixT96uuPi4sfYPzmRRw35SeY/Ye8PpQfP8T9fUzHfC735P2+YDdcPlv4/zh7Dvvh9/D9wbfKlAe32P7cgAN082vA/qJK/g7gV6D9QP8EotbXhPxTKZx5ladk/5nIH2rI2zD/CyXqNBOqhP5hh7Tn6qbm/pOyhO5COyb+pZ0Eo72PSv4uKerk2sdS/i2OPFoia0r9vrxbpj/rPv9YWAcJF9sy/05Cnm3oTyb/cyZabXpjDv7Y4WyfLnL6/gk+PR1LNuL9Gcm4dYImzv0GZ69kY4K6/HXKlMWlyqb8R9/PO6uKkv9eBwoxovKC/JhBd7bR3mr+uUg8LlJiUv7E5cbMkso6/PVrmvuZmhb+sXTp1w4B6v71zLiE0/Wi/YGX4vc9aBL+mrFFZFeRlP4h93GCjCnU/WMSc37FRfj/oe4nR7GODP1Jtr4Y9TYc/jzJ1ZqHuij/hLp0EpjuOP4SlgtY4pZA/Vq0DIu8Vkj+cVNGrQ2aTP49c6F7okJQ/eujU+PmtlT94dGCPQr+WP1GcivHtn5c/m0OyfVFNmD+03uTBWtiYP2A04gTRU5k/1bomB2DBmT86B2xaayCaP0DoaVg9dJo/\",\"dtype\":\"float64\",\"shape\":[75]},\"y\":{\"__ndarray__\":\"S/O/Q+51ND/Sv8nbtpRIP2vylNV0PVE/aTum7souWD/At0SJ8fVgPw3Iuahxymc/MSNhhJWvcD/bTfBN02d3P2zb5nxnaoA/CD5h5MAGhz8NmeH1TyaQP+zrCsc9p5Y/LbKd76fGnz/bLW5ISEmmPww9YvTcQq8/JV2OstnstT8Er5Y7M8G+P0c+r3jqkcU/5h99k6ZBzj88bCIzFzjVP4enV8oyxN0//yH99nXg5D8qOpLLf0jtP5kqGJXUifQ/c9cS8kHP/D+/DpwzojQEQIEmwoanVwxA4lgXt9HgE0BSSZ2AJuIbQAMJih9jjiNA5q4l5INuK0AwTKYKRj0zQNv5fmq8/DpAaCJseHrtQkB/+zpwzoxKQM3MzMzMeFJAZmZmZmZqWEAAAAAAAFxeQM3MzMzMJmJAmpmZmZkfZUBmZmZmZhhoQDMzMzMzEWtAAAAAAAAKbkBmZmZmZoFwQM3MzMzM/XFAMzMzMzN6c0CamZmZmfZ0QAAAAAAAc3ZAZmZmZmbvd0DNzMzMzGt5QDMzMzMz6HpAmpmZmZlkfEAAAAAAAOF9QGZmZmZmXX9AZmZmZuZsgECamZmZGSuBQM3MzMxM6YFAAAAAAICngkAzMzMzs2WDQGZmZmbmI4RAmpmZmRnihEDNzMzMTKCFQAAAAACAXoZAMzMzM7Mch0BmZmZm5tqHQJqZmZkZmYhAzczMzExXiUAAAAAAgBWKQDMzMzOz04pAZmZmZuaRi0CamZmZGVCMQM3MzMxMDo1AAAAAAIDMjUAzMzMzs4qOQGZmZmbmSI9A\",\"dtype\":\"float64\",\"shape\":[75]}},\"selected\":{\"id\":\"8733c6d1-467a-46c1-92a0-091391cf5359\",\"type\":\"Selection\"},\"selection_policy\":{\"id\":\"0df932cc-c064-4494-a481-587be981ff5a\",\"type\":\"UnionRenderers\"}},\"id\":\"3461c02f-c379-4334-b80f-b17fcc34536d\",\"type\":\"ColumnDataSource\"},{\"attributes\":{},\"id\":\"9ae3769f-c13c-499a-8e52-0574deabf54e\",\"type\":\"WheelZoomTool\"},{\"attributes\":{\"data_source\":{\"id\":\"e16b7b88-0d40-4db6-be3d-5edc8e210ed2\",\"type\":\"ColumnDataSource\"},\"glyph\":{\"id\":\"7f09cc4b-7d0a-41c5-ab03-0b93d00cbd0e\",\"type\":\"Circle\"},\"hover_glyph\":null,\"muted_glyph\":null,\"nonselection_glyph\":{\"id\":\"9611a121-9c9c-470c-899e-82164c854d3f\",\"type\":\"Circle\"},\"selection_glyph\":null,\"view\":{\"id\":\"74991e4a-b336-444a-83ea-b5ecc8cf97ac\",\"type\":\"CDSView\"}},\"id\":\"8933be76-b17c-486e-b2d0-195174f67cf1\",\"type\":\"GlyphRenderer\"},{\"attributes\":{},\"id\":\"c6dbb526-3cf3-4e77-a0c2-1e9d3c4dd995\",\"type\":\"SaveTool\"},{\"attributes\":{\"callback\":null,\"data\":{\"x\":{\"__ndarray__\":\"/oJPBlb0o78esCxKaTOmv2M98l0DiKq/WxFOboivrr/i63XP3VWxvxG2R4sNP7O/mpeYbt8Rtb8H5LLU8c22v+K4VPG7c7i/UiFoFrIEur8ZxdV1Zoq7v4W171nwBb2/oyLr/B2Cvr9Jl6NsNvu/vzzIwkJzPsC/86KfPjwqvr/3Wq9teuWxv/PrcDzrj6A/8Waqs5x8yT8IDMzpNlHcP3PPX41Y0Og/jsXb7/V68z9niL4WT7j7P3oFs1O95v8/Oq5GdqWl/D9otRvYhfr2PxDbJ5GO/PA/4vNYbd3R5z/7rSFhrbTgPzBjbQD0g9Y/95r1lGLoxj9H7Bj56hqFP8z3QrdNp7u/fkhsNfN9yL+VkeXq6LTQv0W8lgzXFdK/vHloJ5wA0L+VW4OMurXLv6b7MZSwwsm/GyQrXOIKx7/f0EoQZHPCv/XkUHV+QL2/HHvVTr0DuL8BIEpbLCqzvy6fwbP4pa6/8S7k//iMqb9KBg7VhTmlv+jzvuKKOqG/vnWEJ4Klm78Yi+EVgeSVv0MtFzsrs5C/xhpjZB8diL8zb/aDkcl/v+y6sURSkHG/10Er1WHjU78ngvJewMlZP3HzR4FX5XA/St+d1A2Pej8lfAIvkrmBPy36H23X3IU/KlnZNHK6iT9HrF3Ei0aNP2XlVaVGS5A/PwCpTZzckT/HVNv8qE6TP+VXBOMGmpQ/N+tURS3XlT/XmDDKzgOXP92j/zHp+Zc/jhmw/ce2mD+9H+Lfmk2ZP64QWxzD05k/zmdILmJMmj9aAYgyibeaP29SlvYNGZs/\",\"dtype\":\"float64\",\"shape\":[75]},\"y\":{\"__ndarray__\":\"GhExyth1ND/Sv8nbtpRIP2vylNV0PVE/aTum7souWD/At0SJ8fVgPw3Iuahxymc/MSNhhJWvcD/bTfBN02d3P2zb5nxnaoA/CD5h5MAGhz8NmeH1TyaQP+zrCsc9p5Y/LbKd76fGnz/bLW5ISEmmPww9YvTcQq8/JV2OstnstT8Er5Y7M8G+P0c+r3jqkcU/5h99k6ZBzj88bCIzFzjVP4enV8oyxN0//yH99nXg5D8qOpLLf0jtP5kqGJXUifQ/c9cS8kHP/D+/DpwzojQEQIEmwoanVwxA4lgXt9HgE0BSSZ2AJuIbQAMJih9jjiNA5q4l5INuK0AwTKYKRj0zQNv5fmq8/DpAaCJseHrtQkB/+zpwzoxKQM3MzMzMeFJAZmZmZmZqWEAAAAAAAFxeQM3MzMzMJmJAmpmZmZkfZUBmZmZmZhhoQDMzMzMzEWtAAAAAAAAKbkBmZmZmZoFwQM3MzMzM/XFAMzMzMzN6c0CamZmZmfZ0QAAAAAAAc3ZAZmZmZmbvd0DNzMzMzGt5QDMzMzMz6HpAmpmZmZlkfEAAAAAAAOF9QGZmZmZmXX9AZmZmZuZsgECamZmZGSuBQM3MzMxM6YFAAAAAAICngkAzMzMzs2WDQGZmZmbmI4RAmpmZmRnihEDNzMzMTKCFQAAAAACAXoZAMzMzM7Mch0BmZmZm5tqHQJqZmZkZmYhAzczMzExXiUAAAAAAgBWKQDMzMzOz04pAZmZmZuaRi0CamZmZGVCMQM3MzMxMDo1AAAAAAIDMjUAzMzMzs4qOQGZmZmbmSI9A\",\"dtype\":\"float64\",\"shape\":[75]}},\"selected\":{\"id\":\"8aca04b1-5d59-444b-a576-28a5183ac081\",\"type\":\"Selection\"},\"selection_policy\":{\"id\":\"2c2b793f-8b15-4514-aa2d-4d3119737afc\",\"type\":\"UnionRenderers\"}},\"id\":\"e16b7b88-0d40-4db6-be3d-5edc8e210ed2\",\"type\":\"ColumnDataSource\"},{\"attributes\":{\"plot\":{\"id\":\"f91cd957-db2c-4259-8527-5906a29e26de\",\"subtype\":\"Figure\",\"type\":\"Plot\"},\"ticker\":{\"id\":\"54af4d50-c6dc-4066-a8c0-d93facc7317a\",\"type\":\"BasicTicker\"}},\"id\":\"54abf054-ac24-4e3c-99d1-0a68a1f6056c\",\"type\":\"Grid\"},{\"attributes\":{\"source\":{\"id\":\"b78579ff-31bc-4637-b12e-c60d0fc59a71\",\"type\":\"ColumnDataSource\"}},\"id\":\"3e411742-a60d-40d4-b989-aeec1b29dae4\",\"type\":\"CDSView\"},{\"attributes\":{\"callback\":null,\"data\":{\"x\":{\"__ndarray__\":\"WJ93hyNoob/fMOj4f1+jv3cqYlE8LKe/ic9KloHTqr843D/6M1auvwQ0a4uz2rC/zjucMRd2sr8nixXtw/2zvzS5Y/QAerW/54xcjp7gtr/uQ+bZ9DC4v0DZyZ/febm/UXrcVtnCur8Q3evNafi7vzSQdI7fZLy/YXZPk09Lur81tYZv9SWuv8gquaoNYKI/RY/ik4O2yD9KFFzBm0DbPxZ454N37+c/ofKYSSDa8j99MYQxXPT6P7KDVM46cv8/QKtIXDLk/D+t7GRr27L3PzJIgu+EAvI/OzsT9SZI6j8/A2HcSjXjP/RbH0UCvto/Mx0Vm3GjzD83vtmbXdSgP00R42Oe9rm/WANFKrlByb+AzBp63OfRvy4Zs2QPxtO/wqA8U3eD0b/mMG4b7APOv83ST/IKb8u/u5t5SxgayL9LhZAuGA7DvwIy747X/r2/by0IptB5uL8Xs42Ol22zv7oaSsZZ7K6/KBGUrJmtqb8mW9HtOzulv5InAG9XKaG/+0gz9C9mm7/LNjq9Yo6Vv/y1mwygVJC/LNFRPuhIh7+TakSGkwt+v925yiLUu2+/uLcX48fJSb8CbnuWAWhgP1NXjC3uknI/0BL+Hjk0fD/HA763DIeCP3qtiadMoYY/vmXWY/5wij+4BYI84vONP6sVJcdUnZA/yihs1Agmkj/SvdRWLZGTPy3aCEX31pQ/6ul/Fz8Plj/R9nAyZDSXP7yPBgXBJ5g/c4wM/C3kmD9QQLRVY3qZP2g4sUUj/5k/tC9GbRN2mj8vORYxwuCaP7RcIK0JQZs/\",\"dtype\":\"float64\",\"shape\":[75]},\"y\":{\"__ndarray__\":\"GhExyth1ND/Sv8nbtpRIP2vylNV0PVE/aTum7souWD/At0SJ8fVgPw3Iuahxymc/MSNhhJWvcD/bTfBN02d3P2zb5nxnaoA/CD5h5MAGhz8NmeH1TyaQP+zrCsc9p5Y/LbKd76fGnz/bLW5ISEmmPww9YvTcQq8/JV2OstnstT8Er5Y7M8G+P0c+r3jqkcU/5h99k6ZBzj88bCIzFzjVP4enV8oyxN0//yH99nXg5D8qOpLLf0jtP5kqGJXUifQ/c9cS8kHP/D+/DpwzojQEQIEmwoanVwxA4lgXt9HgE0BSSZ2AJuIbQAMJih9jjiNA5q4l5INuK0AwTKYKRj0zQNv5fmq8/DpAaCJseHrtQkB/+zpwzoxKQM3MzMzMeFJAZmZmZmZqWEAAAAAAAFxeQM3MzMzMJmJAmpmZmZkfZUBmZmZmZhhoQDMzMzMzEWtAAAAAAAAKbkBmZmZmZoFwQM3MzMzM/XFAMzMzMzN6c0CamZmZmfZ0QAAAAAAAc3ZAZmZmZmbvd0DNzMzMzGt5QDMzMzMz6HpAmpmZmZlkfEAAAAAAAOF9QGZmZmZmXX9AZmZmZuZsgECamZmZGSuBQM3MzMxM6YFAAAAAAICngkAzMzMzs2WDQGZmZmbmI4RAmpmZmRnihEDNzMzMTKCFQAAAAACAXoZAMzMzM7Mch0BmZmZm5tqHQJqZmZkZmYhAzczMzExXiUAAAAAAgBWKQDMzMzOz04pAZmZmZuaRi0CamZmZGVCMQM3MzMxMDo1AAAAAAIDMjUAzMzMzs4qOQGZmZmbmSI9A\",\"dtype\":\"float64\",\"shape\":[75]}},\"selected\":{\"id\":\"a41eee9a-ae98-44a7-9577-cf8e4d1d2fda\",\"type\":\"Selection\"},\"selection_policy\":{\"id\":\"f6946ee6-d6b7-4e8a-9a30-be94d8a961ca\",\"type\":\"UnionRenderers\"}},\"id\":\"be72968c-1a5a-4bec-9394-2cfd7f2cca4d\",\"type\":\"ColumnDataSource\"},{\"attributes\":{},\"id\":\"dfceb99d-8b2e-44de-8cfd-978df0a08dbb\",\"type\":\"ResetTool\"},{\"attributes\":{\"line_alpha\":0.6,\"line_color\":\"#984ea3\",\"line_width\":3,\"x\":{\"field\":\"x\"},\"y\":{\"field\":\"y\"}},\"id\":\"c124b0cf-6291-4431-b8e0-24f3ccbe19a5\",\"type\":\"Line\"},{\"attributes\":{\"fill_alpha\":{\"value\":0.1},\"fill_color\":{\"value\":\"#1f77b4\"},\"line_alpha\":{\"value\":0.1},\"line_color\":{\"value\":\"#1f77b4\"},\"x\":{\"field\":\"x\"},\"y\":{\"field\":\"y\"}},\"id\":\"a9e901db-82b2-4dce-9ee8-c2f2f71a8244\",\"type\":\"Square\"},{\"attributes\":{\"plot\":null,\"text\":\"Linear pressure scale\"},\"id\":\"679afe01-1577-42b2-9910-abd7885dd1e7\",\"type\":\"Title\"},{\"attributes\":{\"below\":[{\"id\":\"b9528273-f4f3-412c-8137-a76109f529c2\",\"type\":\"LinearAxis\"}],\"left\":[{\"id\":\"8b82fd7e-dfda-4dda-93ef-2fdcfd76246b\",\"type\":\"LinearAxis\"}],\"plot_height\":500,\"plot_width\":400,\"renderers\":[{\"id\":\"b9528273-f4f3-412c-8137-a76109f529c2\",\"type\":\"LinearAxis\"},{\"id\":\"5ffda3b7-e33b-47a0-b364-db893b3a4e31\",\"type\":\"Grid\"},{\"id\":\"8b82fd7e-dfda-4dda-93ef-2fdcfd76246b\",\"type\":\"LinearAxis\"},{\"id\":\"725b0f60-f680-48ea-8793-0e15324de04c\",\"type\":\"Grid\"},{\"id\":\"870e8344-4ea2-43a9-aa4e-4abc7a6ca31a\",\"type\":\"BoxAnnotation\"},{\"id\":\"2a4067cd-02c2-4bf8-b2eb-6f94ed10c23d\",\"type\":\"GlyphRenderer\"},{\"id\":\"8933be76-b17c-486e-b2d0-195174f67cf1\",\"type\":\"GlyphRenderer\"},{\"id\":\"a62df301-90fe-4d70-a196-3a75892caf35\",\"type\":\"GlyphRenderer\"},{\"id\":\"d7ab7fa5-baa5-4a1f-b7c3-a45f4086761d\",\"type\":\"GlyphRenderer\"},{\"id\":\"dff1b0b0-36f4-43c5-a8be-8e711afd20c0\",\"type\":\"GlyphRenderer\"}],\"title\":{\"id\":\"679afe01-1577-42b2-9910-abd7885dd1e7\",\"type\":\"Title\"},\"toolbar\":{\"id\":\"ddedab64-e9d7-44a5-a6e2-438adf94d3b2\",\"type\":\"Toolbar\"},\"toolbar_location\":null,\"x_range\":{\"id\":\"8dbcf124-271e-42fc-893f-2f5546de6b84\",\"type\":\"Range1d\"},\"x_scale\":{\"id\":\"10d54315-d45c-47e7-bb01-c36a00d0e132\",\"type\":\"LinearScale\"},\"y_range\":{\"id\":\"91b78687-b0f1-461d-ad74-caa82e5496eb\",\"type\":\"Range1d\"},\"y_scale\":{\"id\":\"fbac742b-a464-4f15-b4ca-99fa43664722\",\"type\":\"LinearScale\"}},\"id\":\"822641a5-7c8a-4337-9ac1-f82cbf24ba5a\",\"subtype\":\"Figure\",\"type\":\"Plot\"},{\"attributes\":{\"overlay\":{\"id\":\"06bb37d4-6a1f-4bc7-b001-8914a8f44741\",\"type\":\"BoxAnnotation\"}},\"id\":\"428af8aa-2dd9-4839-b6f1-0a97b96ff93c\",\"type\":\"BoxZoomTool\"},{\"attributes\":{},\"id\":\"54af4d50-c6dc-4066-a8c0-d93facc7317a\",\"type\":\"BasicTicker\"},{\"attributes\":{\"callback\":null,\"end\":0.01,\"start\":1020},\"id\":\"b6e30067-cbe4-4617-8672-f1b990116f02\",\"type\":\"Range1d\"},{\"attributes\":{\"plot\":{\"id\":\"822641a5-7c8a-4337-9ac1-f82cbf24ba5a\",\"subtype\":\"Figure\",\"type\":\"Plot\"},\"ticker\":{\"id\":\"167dfea1-bd9c-444b-998b-24fec7d9a25c\",\"type\":\"BasicTicker\"}},\"id\":\"5ffda3b7-e33b-47a0-b364-db893b3a4e31\",\"type\":\"Grid\"},{\"attributes\":{\"callback\":null,\"data\":{\"x\":{\"__ndarray__\":\"WJ93hyNoob/fMOj4f1+jv3cqYlE8LKe/ic9KloHTqr843D/6M1auvwQ0a4uz2rC/zjucMRd2sr8nixXtw/2zvzS5Y/QAerW/54xcjp7gtr/uQ+bZ9DC4v0DZyZ/febm/UXrcVtnCur8Q3evNafi7vzSQdI7fZLy/YXZPk09Lur81tYZv9SWuv8gquaoNYKI/RY/ik4O2yD9KFFzBm0DbPxZ454N37+c/ofKYSSDa8j99MYQxXPT6P7KDVM46cv8/QKtIXDLk/D+t7GRr27L3PzJIgu+EAvI/OzsT9SZI6j8/A2HcSjXjP/RbH0UCvto/Mx0Vm3GjzD83vtmbXdSgP00R42Oe9rm/WANFKrlByb+AzBp63OfRvy4Zs2QPxtO/wqA8U3eD0b/mMG4b7APOv83ST/IKb8u/u5t5SxgayL9LhZAuGA7DvwIy747X/r2/by0IptB5uL8Xs42Ol22zv7oaSsZZ7K6/KBGUrJmtqb8mW9HtOzulv5InAG9XKaG/+0gz9C9mm7/LNjq9Yo6Vv/y1mwygVJC/LNFRPuhIh7+TakSGkwt+v925yiLUu2+/uLcX48fJSb8CbnuWAWhgP1NXjC3uknI/0BL+Hjk0fD/HA763DIeCP3qtiadMoYY/vmXWY/5wij+4BYI84vONP6sVJcdUnZA/yihs1Agmkj/SvdRWLZGTPy3aCEX31pQ/6ul/Fz8Plj/R9nAyZDSXP7yPBgXBJ5g/c4wM/C3kmD9QQLRVY3qZP2g4sUUj/5k/tC9GbRN2mj8vORYxwuCaP7RcIK0JQZs/\",\"dtype\":\"float64\",\"shape\":[75]},\"y\":{\"__ndarray__\":\"GhExyth1ND/Sv8nbtpRIP2vylNV0PVE/aTum7souWD/At0SJ8fVgPw3Iuahxymc/MSNhhJWvcD/bTfBN02d3P2zb5nxnaoA/CD5h5MAGhz8NmeH1TyaQP+zrCsc9p5Y/LbKd76fGnz/bLW5ISEmmPww9YvTcQq8/JV2OstnstT8Er5Y7M8G+P0c+r3jqkcU/5h99k6ZBzj88bCIzFzjVP4enV8oyxN0//yH99nXg5D8qOpLLf0jtP5kqGJXUifQ/c9cS8kHP/D+/DpwzojQEQIEmwoanVwxA4lgXt9HgE0BSSZ2AJuIbQAMJih9jjiNA5q4l5INuK0AwTKYKRj0zQNv5fmq8/DpAaCJseHrtQkB/+zpwzoxKQM3MzMzMeFJAZmZmZmZqWEAAAAAAAFxeQM3MzMzMJmJAmpmZmZkfZUBmZmZmZhhoQDMzMzMzEWtAAAAAAAAKbkBmZmZmZoFwQM3MzMzM/XFAMzMzMzN6c0CamZmZmfZ0QAAAAAAAc3ZAZmZmZmbvd0DNzMzMzGt5QDMzMzMz6HpAmpmZmZlkfEAAAAAAAOF9QGZmZmZmXX9AZmZmZuZsgECamZmZGSuBQM3MzMxM6YFAAAAAAICngkAzMzMzs2WDQGZmZmbmI4RAmpmZmRnihEDNzMzMTKCFQAAAAACAXoZAMzMzM7Mch0BmZmZm5tqHQJqZmZkZmYhAzczMzExXiUAAAAAAgBWKQDMzMzOz04pAZmZmZuaRi0CamZmZGVCMQM3MzMxMDo1AAAAAAIDMjUAzMzMzs4qOQGZmZmbmSI9A\",\"dtype\":\"float64\",\"shape\":[75]}},\"selected\":{\"id\":\"44bd122e-d5d3-4fc4-b046-b9a729b34401\",\"type\":\"Selection\"},\"selection_policy\":{\"id\":\"72f0ad34-5f14-4b66-a064-1851f91cff1c\",\"type\":\"UnionRenderers\"}},\"id\":\"44fc0c70-42d7-42f1-b938-14a649145a1e\",\"type\":\"ColumnDataSource\"},{\"attributes\":{\"line_alpha\":0.1,\"line_color\":\"#1f77b4\",\"line_width\":3,\"x\":{\"field\":\"x\"},\"y\":{\"field\":\"y\"}},\"id\":\"e927ad8e-8d16-4982-9c48-94d5b7d6b271\",\"type\":\"Line\"},{\"attributes\":{},\"id\":\"fbac742b-a464-4f15-b4ca-99fa43664722\",\"type\":\"LinearScale\"},{\"attributes\":{\"fill_alpha\":{\"value\":0.7},\"fill_color\":{\"value\":\"#984ea3\"},\"line_alpha\":{\"value\":0.7},\"line_color\":{\"value\":\"#984ea3\"},\"x\":{\"field\":\"x\"},\"y\":{\"field\":\"y\"}},\"id\":\"2fd4cffd-17f3-4c06-83d6-1ac6703208cf\",\"type\":\"Square\"},{\"attributes\":{\"source\":{\"id\":\"be72968c-1a5a-4bec-9394-2cfd7f2cca4d\",\"type\":\"ColumnDataSource\"}},\"id\":\"82bb26d8-ec31-453d-b6b4-135ba8cedb51\",\"type\":\"CDSView\"},{\"attributes\":{\"overlay\":{\"id\":\"870e8344-4ea2-43a9-aa4e-4abc7a6ca31a\",\"type\":\"BoxAnnotation\"}},\"id\":\"b7cc1e8a-b1ef-4e01-b3b7-f46a5554582e\",\"type\":\"BoxZoomTool\"},{\"attributes\":{\"plot\":null,\"text\":\"Log pressure scale\"},\"id\":\"47c173bd-99b7-4156-be29-3b54d48fe9a5\",\"type\":\"Title\"},{\"attributes\":{\"line_alpha\":0.6,\"line_color\":\"#e41a1c\",\"line_dash\":[6],\"line_width\":5,\"x\":{\"field\":\"x\"},\"y\":{\"field\":\"y\"}},\"id\":\"c61a6134-1257-436a-b300-c0d8a1f952c3\",\"type\":\"Line\"},{\"attributes\":{\"source\":{\"id\":\"ef9b633d-2261-4fda-8bce-3ee708ebfbac\",\"type\":\"ColumnDataSource\"}},\"id\":\"12f6faa5-d678-4c39-8964-5d0c9e663c0d\",\"type\":\"CDSView\"},{\"attributes\":{\"data_source\":{\"id\":\"4f292552-b7de-474f-98c4-23617ef59709\",\"type\":\"ColumnDataSource\"},\"glyph\":{\"id\":\"343f1ac8-5534-40aa-ad14-ff7398a0a30c\",\"type\":\"Line\"},\"hover_glyph\":null,\"muted_glyph\":null,\"nonselection_glyph\":{\"id\":\"001d2b39-529d-4498-81b4-50d56edf5168\",\"type\":\"Line\"},\"selection_glyph\":null,\"view\":{\"id\":\"54677415-90d1-4b61-9566-5df8caa45e30\",\"type\":\"CDSView\"}},\"id\":\"2a4067cd-02c2-4bf8-b2eb-6f94ed10c23d\",\"type\":\"GlyphRenderer\"},{\"attributes\":{\"callback\":null,\"data\":{\"x\":{\"__ndarray__\":\"/oJPBlb0o78esCxKaTOmv2M98l0DiKq/WxFOboivrr/i63XP3VWxvxG2R4sNP7O/mpeYbt8Rtb8H5LLU8c22v+K4VPG7c7i/UiFoFrIEur8ZxdV1Zoq7v4W171nwBb2/oyLr/B2Cvr9Jl6NsNvu/vzzIwkJzPsC/86KfPjwqvr/3Wq9teuWxv/PrcDzrj6A/8Waqs5x8yT8IDMzpNlHcP3PPX41Y0Og/jsXb7/V68z9niL4WT7j7P3oFs1O95v8/Oq5GdqWl/D9otRvYhfr2PxDbJ5GO/PA/4vNYbd3R5z/7rSFhrbTgPzBjbQD0g9Y/95r1lGLoxj9H7Bj56hqFP8z3QrdNp7u/fkhsNfN9yL+VkeXq6LTQv0W8lgzXFdK/vHloJ5wA0L+VW4OMurXLv6b7MZSwwsm/GyQrXOIKx7/f0EoQZHPCv/XkUHV+QL2/HHvVTr0DuL8BIEpbLCqzvy6fwbP4pa6/8S7k//iMqb9KBg7VhTmlv+jzvuKKOqG/vnWEJ4Klm78Yi+EVgeSVv0MtFzsrs5C/xhpjZB8diL8zb/aDkcl/v+y6sURSkHG/10Er1WHjU78ngvJewMlZP3HzR4FX5XA/St+d1A2Pej8lfAIvkrmBPy36H23X3IU/KlnZNHK6iT9HrF3Ei0aNP2XlVaVGS5A/PwCpTZzckT/HVNv8qE6TP+VXBOMGmpQ/N+tURS3XlT/XmDDKzgOXP92j/zHp+Zc/jhmw/ce2mD+9H+Lfmk2ZP64QWxzD05k/zmdILmJMmj9aAYgyibeaP29SlvYNGZs/\",\"dtype\":\"float64\",\"shape\":[75]},\"y\":{\"__ndarray__\":\"GhExyth1ND/Sv8nbtpRIP2vylNV0PVE/aTum7souWD/At0SJ8fVgPw3Iuahxymc/MSNhhJWvcD/bTfBN02d3P2zb5nxnaoA/CD5h5MAGhz8NmeH1TyaQP+zrCsc9p5Y/LbKd76fGnz/bLW5ISEmmPww9YvTcQq8/JV2OstnstT8Er5Y7M8G+P0c+r3jqkcU/5h99k6ZBzj88bCIzFzjVP4enV8oyxN0//yH99nXg5D8qOpLLf0jtP5kqGJXUifQ/c9cS8kHP/D+/DpwzojQEQIEmwoanVwxA4lgXt9HgE0BSSZ2AJuIbQAMJih9jjiNA5q4l5INuK0AwTKYKRj0zQNv5fmq8/DpAaCJseHrtQkB/+zpwzoxKQM3MzMzMeFJAZmZmZmZqWEAAAAAAAFxeQM3MzMzMJmJAmpmZmZkfZUBmZmZmZhhoQDMzMzMzEWtAAAAAAAAKbkBmZmZmZoFwQM3MzMzM/XFAMzMzMzN6c0CamZmZmfZ0QAAAAAAAc3ZAZmZmZmbvd0DNzMzMzGt5QDMzMzMz6HpAmpmZmZlkfEAAAAAAAOF9QGZmZmZmXX9AZmZmZuZsgECamZmZGSuBQM3MzMxM6YFAAAAAAICngkAzMzMzs2WDQGZmZmbmI4RAmpmZmRnihEDNzMzMTKCFQAAAAACAXoZAMzMzM7Mch0BmZmZm5tqHQJqZmZkZmYhAzczMzExXiUAAAAAAgBWKQDMzMzOz04pAZmZmZuaRi0CamZmZGVCMQM3MzMxMDo1AAAAAAIDMjUAzMzMzs4qOQGZmZmbmSI9A\",\"dtype\":\"float64\",\"shape\":[75]}},\"selected\":{\"id\":\"34309cbd-a1ce-44db-bb3b-e9b642712c60\",\"type\":\"Selection\"},\"selection_policy\":{\"id\":\"0217a9cf-3131-423f-b245-868e2cac1bef\",\"type\":\"UnionRenderers\"}},\"id\":\"4d206bdb-73e4-4beb-bad0-8fd602abc64c\",\"type\":\"ColumnDataSource\"},{\"attributes\":{\"children\":[{\"id\":\"ead7aa64-5730-44d5-94e2-80277e8e1a64\",\"type\":\"Row\"}]},\"id\":\"012a083f-6458-4cd3-a9ef-845d92ef2a7f\",\"type\":\"Column\"},{\"attributes\":{\"line_color\":\"#4daf4a\",\"line_width\":1.5,\"x\":{\"field\":\"x\"},\"y\":{\"field\":\"y\"}},\"id\":\"c3360df0-06ba-41d4-8541-22a20c0ca664\",\"type\":\"Line\"},{\"attributes\":{\"data_source\":{\"id\":\"3461c02f-c379-4334-b80f-b17fcc34536d\",\"type\":\"ColumnDataSource\"},\"glyph\":{\"id\":\"c61a6134-1257-436a-b300-c0d8a1f952c3\",\"type\":\"Line\"},\"hover_glyph\":null,\"muted_glyph\":null,\"nonselection_glyph\":{\"id\":\"0ddb3790-dc63-406b-a122-fe987cbf222c\",\"type\":\"Line\"},\"selection_glyph\":null,\"view\":{\"id\":\"b38dfc24-ff3f-4ac8-bf98-0d560dab0106\",\"type\":\"CDSView\"}},\"id\":\"c8b829d3-7e27-42ff-a466-3c69d93de885\",\"type\":\"GlyphRenderer\"},{\"attributes\":{\"callback\":null,\"data\":{\"x\":{\"__ndarray__\":\"/oJPBlb0o78esCxKaTOmv2M98l0DiKq/WxFOboivrr/i63XP3VWxvxG2R4sNP7O/mpeYbt8Rtb8H5LLU8c22v+K4VPG7c7i/UiFoFrIEur8ZxdV1Zoq7v4W171nwBb2/oyLr/B2Cvr9Jl6NsNvu/vzzIwkJzPsC/86KfPjwqvr/3Wq9teuWxv/PrcDzrj6A/8Waqs5x8yT8IDMzpNlHcP3PPX41Y0Og/jsXb7/V68z9niL4WT7j7P3oFs1O95v8/Oq5GdqWl/D9otRvYhfr2PxDbJ5GO/PA/4vNYbd3R5z/7rSFhrbTgPzBjbQD0g9Y/95r1lGLoxj9H7Bj56hqFP8z3QrdNp7u/fkhsNfN9yL+VkeXq6LTQv0W8lgzXFdK/vHloJ5wA0L+VW4OMurXLv6b7MZSwwsm/GyQrXOIKx7/f0EoQZHPCv/XkUHV+QL2/HHvVTr0DuL8BIEpbLCqzvy6fwbP4pa6/8S7k//iMqb9KBg7VhTmlv+jzvuKKOqG/vnWEJ4Klm78Yi+EVgeSVv0MtFzsrs5C/xhpjZB8diL8zb/aDkcl/v+y6sURSkHG/10Er1WHjU78ngvJewMlZP3HzR4FX5XA/St+d1A2Pej8lfAIvkrmBPy36H23X3IU/KlnZNHK6iT9HrF3Ei0aNP2XlVaVGS5A/PwCpTZzckT/HVNv8qE6TP+VXBOMGmpQ/N+tURS3XlT/XmDDKzgOXP92j/zHp+Zc/jhmw/ce2mD+9H+Lfmk2ZP64QWxzD05k/zmdILmJMmj9aAYgyibeaP29SlvYNGZs/\",\"dtype\":\"float64\",\"shape\":[75]},\"y\":{\"__ndarray__\":\"GhExyth1ND/Sv8nbtpRIP2vylNV0PVE/aTum7souWD/At0SJ8fVgPw3Iuahxymc/MSNhhJWvcD/bTfBN02d3P2zb5nxnaoA/CD5h5MAGhz8NmeH1TyaQP+zrCsc9p5Y/LbKd76fGnz/bLW5ISEmmPww9YvTcQq8/JV2OstnstT8Er5Y7M8G+P0c+r3jqkcU/5h99k6ZBzj88bCIzFzjVP4enV8oyxN0//yH99nXg5D8qOpLLf0jtP5kqGJXUifQ/c9cS8kHP/D+/DpwzojQEQIEmwoanVwxA4lgXt9HgE0BSSZ2AJuIbQAMJih9jjiNA5q4l5INuK0AwTKYKRj0zQNv5fmq8/DpAaCJseHrtQkB/+zpwzoxKQM3MzMzMeFJAZmZmZmZqWEAAAAAAAFxeQM3MzMzMJmJAmpmZmZkfZUBmZmZmZhhoQDMzMzMzEWtAAAAAAAAKbkBmZmZmZoFwQM3MzMzM/XFAMzMzMzN6c0CamZmZmfZ0QAAAAAAAc3ZAZmZmZmbvd0DNzMzMzGt5QDMzMzMz6HpAmpmZmZlkfEAAAAAAAOF9QGZmZmZmXX9AZmZmZuZsgECamZmZGSuBQM3MzMxM6YFAAAAAAICngkAzMzMzs2WDQGZmZmbmI4RAmpmZmRnihEDNzMzMTKCFQAAAAACAXoZAMzMzM7Mch0BmZmZm5tqHQJqZmZkZmYhAzczMzExXiUAAAAAAgBWKQDMzMzOz04pAZmZmZuaRi0CamZmZGVCMQM3MzMxMDo1AAAAAAIDMjUAzMzMzs4qOQGZmZmbmSI9A\",\"dtype\":\"float64\",\"shape\":[75]}},\"selected\":{\"id\":\"d25b5ef1-1672-4aff-8827-9d5055940fa3\",\"type\":\"Selection\"},\"selection_policy\":{\"id\":\"2725d5a5-7bc0-4789-bd02-1c55527bca9c\",\"type\":\"UnionRenderers\"}},\"id\":\"2688adbb-a142-4adc-8feb-9ac83df9c092\",\"type\":\"ColumnDataSource\"},{\"attributes\":{\"data_source\":{\"id\":\"4d206bdb-73e4-4beb-bad0-8fd602abc64c\",\"type\":\"ColumnDataSource\"},\"glyph\":{\"id\":\"5dd3ec36-37b6-42d3-a843-3ca7dbba730b\",\"type\":\"Circle\"},\"hover_glyph\":null,\"muted_glyph\":null,\"nonselection_glyph\":{\"id\":\"4700eeb0-4665-4384-a858-59de37c0e95f\",\"type\":\"Circle\"},\"selection_glyph\":null,\"view\":{\"id\":\"c1b29ece-eb77-4331-82df-c52dc41d8cef\",\"type\":\"CDSView\"}},\"id\":\"c5ffa9c7-711a-424b-b1e1-9919e9760654\",\"type\":\"GlyphRenderer\"},{\"attributes\":{\"line_alpha\":0.1,\"line_color\":\"#1f77b4\",\"line_width\":3,\"x\":{\"field\":\"x\"},\"y\":{\"field\":\"y\"}},\"id\":\"c2bdba45-dc20-46b3-a6cd-da824c53f0d8\",\"type\":\"Line\"},{\"attributes\":{\"fill_alpha\":{\"value\":0.7},\"fill_color\":{\"value\":\"#4daf4a\"},\"line_alpha\":{\"value\":0.7},\"line_color\":{\"value\":\"#4daf4a\"},\"x\":{\"field\":\"x\"},\"y\":{\"field\":\"y\"}},\"id\":\"5dd3ec36-37b6-42d3-a843-3ca7dbba730b\",\"type\":\"Circle\"},{\"attributes\":{\"fill_alpha\":{\"value\":0.1},\"fill_color\":{\"value\":\"#1f77b4\"},\"line_alpha\":{\"value\":0.1},\"line_color\":{\"value\":\"#1f77b4\"},\"x\":{\"field\":\"x\"},\"y\":{\"field\":\"y\"}},\"id\":\"4700eeb0-4665-4384-a858-59de37c0e95f\",\"type\":\"Circle\"},{\"attributes\":{\"callback\":null,\"data\":{\"x\":{\"__ndarray__\":\"WJ93hyNoob/fMOj4f1+jv3cqYlE8LKe/ic9KloHTqr843D/6M1auvwQ0a4uz2rC/zjucMRd2sr8nixXtw/2zvzS5Y/QAerW/54xcjp7gtr/uQ+bZ9DC4v0DZyZ/febm/UXrcVtnCur8Q3evNafi7vzSQdI7fZLy/YXZPk09Lur81tYZv9SWuv8gquaoNYKI/RY/ik4O2yD9KFFzBm0DbPxZ454N37+c/ofKYSSDa8j99MYQxXPT6P7KDVM46cv8/QKtIXDLk/D+t7GRr27L3PzJIgu+EAvI/OzsT9SZI6j8/A2HcSjXjP/RbH0UCvto/Mx0Vm3GjzD83vtmbXdSgP00R42Oe9rm/WANFKrlByb+AzBp63OfRvy4Zs2QPxtO/wqA8U3eD0b/mMG4b7APOv83ST/IKb8u/u5t5SxgayL9LhZAuGA7DvwIy747X/r2/by0IptB5uL8Xs42Ol22zv7oaSsZZ7K6/KBGUrJmtqb8mW9HtOzulv5InAG9XKaG/+0gz9C9mm7/LNjq9Yo6Vv/y1mwygVJC/LNFRPuhIh7+TakSGkwt+v925yiLUu2+/uLcX48fJSb8CbnuWAWhgP1NXjC3uknI/0BL+Hjk0fD/HA763DIeCP3qtiadMoYY/vmXWY/5wij+4BYI84vONP6sVJcdUnZA/yihs1Agmkj/SvdRWLZGTPy3aCEX31pQ/6ul/Fz8Plj/R9nAyZDSXP7yPBgXBJ5g/c4wM/C3kmD9QQLRVY3qZP2g4sUUj/5k/tC9GbRN2mj8vORYxwuCaP7RcIK0JQZs/\",\"dtype\":\"float64\",\"shape\":[75]},\"y\":{\"__ndarray__\":\"GhExyth1ND/Sv8nbtpRIP2vylNV0PVE/aTum7souWD/At0SJ8fVgPw3Iuahxymc/MSNhhJWvcD/bTfBN02d3P2zb5nxnaoA/CD5h5MAGhz8NmeH1TyaQP+zrCsc9p5Y/LbKd76fGnz/bLW5ISEmmPww9YvTcQq8/JV2OstnstT8Er5Y7M8G+P0c+r3jqkcU/5h99k6ZBzj88bCIzFzjVP4enV8oyxN0//yH99nXg5D8qOpLLf0jtP5kqGJXUifQ/c9cS8kHP/D+/DpwzojQEQIEmwoanVwxA4lgXt9HgE0BSSZ2AJuIbQAMJih9jjiNA5q4l5INuK0AwTKYKRj0zQNv5fmq8/DpAaCJseHrtQkB/+zpwzoxKQM3MzMzMeFJAZmZmZmZqWEAAAAAAAFxeQM3MzMzMJmJAmpmZmZkfZUBmZmZmZhhoQDMzMzMzEWtAAAAAAAAKbkBmZmZmZoFwQM3MzMzM/XFAMzMzMzN6c0CamZmZmfZ0QAAAAAAAc3ZAZmZmZmbvd0DNzMzMzGt5QDMzMzMz6HpAmpmZmZlkfEAAAAAAAOF9QGZmZmZmXX9AZmZmZuZsgECamZmZGSuBQM3MzMxM6YFAAAAAAICngkAzMzMzs2WDQGZmZmbmI4RAmpmZmRnihEDNzMzMTKCFQAAAAACAXoZAMzMzM7Mch0BmZmZm5tqHQJqZmZkZmYhAzczMzExXiUAAAAAAgBWKQDMzMzOz04pAZmZmZuaRi0CamZmZGVCMQM3MzMxMDo1AAAAAAIDMjUAzMzMzs4qOQGZmZmbmSI9A\",\"dtype\":\"float64\",\"shape\":[75]}},\"selected\":{\"id\":\"cd9ca217-6a5a-4753-85c1-b285e0b7b7e0\",\"type\":\"Selection\"},\"selection_policy\":{\"id\":\"fdbb214f-f8ed-4bbe-a4ad-b472adccca25\",\"type\":\"UnionRenderers\"}},\"id\":\"c1fa59bd-5f5e-42bb-a297-886fbaa5b429\",\"type\":\"ColumnDataSource\"},{\"attributes\":{\"source\":{\"id\":\"4d206bdb-73e4-4beb-bad0-8fd602abc64c\",\"type\":\"ColumnDataSource\"}},\"id\":\"c1b29ece-eb77-4331-82df-c52dc41d8cef\",\"type\":\"CDSView\"},{\"attributes\":{\"source\":{\"id\":\"3461c02f-c379-4334-b80f-b17fcc34536d\",\"type\":\"ColumnDataSource\"}},\"id\":\"b38dfc24-ff3f-4ac8-bf98-0d560dab0106\",\"type\":\"CDSView\"},{\"attributes\":{\"line_alpha\":0.1,\"line_color\":\"#1f77b4\",\"line_width\":1.5,\"x\":{\"field\":\"x\"},\"y\":{\"field\":\"y\"}},\"id\":\"c0055f45-82d4-43cb-bee1-ddbcd5982b64\",\"type\":\"Line\"},{\"attributes\":{},\"id\":\"0df932cc-c064-4494-a481-587be981ff5a\",\"type\":\"UnionRenderers\"},{\"attributes\":{\"data_source\":{\"id\":\"2688adbb-a142-4adc-8feb-9ac83df9c092\",\"type\":\"ColumnDataSource\"},\"glyph\":{\"id\":\"c3360df0-06ba-41d4-8541-22a20c0ca664\",\"type\":\"Line\"},\"hover_glyph\":null,\"muted_glyph\":null,\"nonselection_glyph\":{\"id\":\"c0055f45-82d4-43cb-bee1-ddbcd5982b64\",\"type\":\"Line\"},\"selection_glyph\":null,\"view\":{\"id\":\"e36a3d1a-cd70-48ce-b048-48fa75a38636\",\"type\":\"CDSView\"}},\"id\":\"d7f7265f-48f1-483a-9974-6d080719f61e\",\"type\":\"GlyphRenderer\"},{\"attributes\":{\"source\":{\"id\":\"2688adbb-a142-4adc-8feb-9ac83df9c092\",\"type\":\"ColumnDataSource\"}},\"id\":\"e36a3d1a-cd70-48ce-b048-48fa75a38636\",\"type\":\"CDSView\"},{\"attributes\":{\"fill_alpha\":{\"value\":0.7},\"fill_color\":{\"value\":\"#984ea3\"},\"line_alpha\":{\"value\":0.7},\"line_color\":{\"value\":\"#984ea3\"},\"x\":{\"field\":\"x\"},\"y\":{\"field\":\"y\"}},\"id\":\"d31c9394-2fd2-4607-be74-e0013cda1f7c\",\"type\":\"Square\"},{\"attributes\":{\"data_source\":{\"id\":\"44fc0c70-42d7-42f1-b938-14a649145a1e\",\"type\":\"ColumnDataSource\"},\"glyph\":{\"id\":\"7577d946-e986-4e57-8180-626dd272ff08\",\"type\":\"Line\"},\"hover_glyph\":null,\"muted_glyph\":null,\"nonselection_glyph\":{\"id\":\"c2bdba45-dc20-46b3-a6cd-da824c53f0d8\",\"type\":\"Line\"},\"selection_glyph\":null,\"view\":{\"id\":\"8ff33da1-7e28-4da1-a688-9c97b7278dbf\",\"type\":\"CDSView\"}},\"id\":\"c43d679b-32d2-4b1d-a22a-5121975bc8dc\",\"type\":\"GlyphRenderer\"},{\"attributes\":{\"line_alpha\":0.6,\"line_color\":\"#e41a1c\",\"line_dash\":[6],\"line_width\":5,\"x\":{\"field\":\"x\"},\"y\":{\"field\":\"y\"}},\"id\":\"343f1ac8-5534-40aa-ad14-ff7398a0a30c\",\"type\":\"Line\"},{\"attributes\":{\"line_alpha\":0.6,\"line_color\":\"#984ea3\",\"line_width\":3,\"x\":{\"field\":\"x\"},\"y\":{\"field\":\"y\"}},\"id\":\"7577d946-e986-4e57-8180-626dd272ff08\",\"type\":\"Line\"},{\"attributes\":{\"source\":{\"id\":\"44fc0c70-42d7-42f1-b938-14a649145a1e\",\"type\":\"ColumnDataSource\"}},\"id\":\"8ff33da1-7e28-4da1-a688-9c97b7278dbf\",\"type\":\"CDSView\"},{\"attributes\":{\"children\":[{\"id\":\"822641a5-7c8a-4337-9ac1-f82cbf24ba5a\",\"subtype\":\"Figure\",\"type\":\"Plot\"},{\"id\":\"f91cd957-db2c-4259-8527-5906a29e26de\",\"subtype\":\"Figure\",\"type\":\"Plot\"}]},\"id\":\"ead7aa64-5730-44d5-94e2-80277e8e1a64\",\"type\":\"Row\"},{\"attributes\":{\"label\":{\"value\":\"CLIRAD `coolr_bands`\"},\"renderers\":[{\"id\":\"c8b829d3-7e27-42ff-a466-3c69d93de885\",\"type\":\"GlyphRenderer\"}]},\"id\":\"385c75f8-4f1e-4cfa-a106-1c7b2090d674\",\"type\":\"LegendItem\"},{\"attributes\":{\"ticker\":null},\"id\":\"a0abcc60-af1c-4954-8d12-b7ccf6f6d6ae\",\"type\":\"LogTickFormatter\"},{\"attributes\":{\"label\":{\"value\":\"CRD\"},\"renderers\":[{\"id\":\"c5ffa9c7-711a-424b-b1e1-9919e9760654\",\"type\":\"GlyphRenderer\"},{\"id\":\"d7f7265f-48f1-483a-9974-6d080719f61e\",\"type\":\"GlyphRenderer\"}]},\"id\":\"b224a26d-21e5-488e-850a-c1a2601853f5\",\"type\":\"LegendItem\"},{\"attributes\":{},\"id\":\"ff02f9a7-328e-4737-bc09-d416c5c78229\",\"type\":\"UnionRenderers\"},{\"attributes\":{\"label\":{\"value\":\"WGT igg=10 wgt_flux=2\"},\"renderers\":[{\"id\":\"72afc672-b34c-4dd6-b98b-b7b66f067787\",\"type\":\"GlyphRenderer\"},{\"id\":\"c43d679b-32d2-4b1d-a22a-5121975bc8dc\",\"type\":\"GlyphRenderer\"}]},\"id\":\"f8c508d5-b97c-48f5-8886-fb68def1bc6e\",\"type\":\"LegendItem\"},{\"attributes\":{\"line_alpha\":0.1,\"line_color\":\"#1f77b4\",\"line_dash\":[6],\"line_width\":5,\"x\":{\"field\":\"x\"},\"y\":{\"field\":\"y\"}},\"id\":\"001d2b39-529d-4498-81b4-50d56edf5168\",\"type\":\"Line\"},{\"attributes\":{},\"id\":\"49e4da25-ddc1-422e-a806-4d6e2bd5a54f\",\"type\":\"Selection\"},{\"attributes\":{},\"id\":\"1f28c481-ade2-47bd-beef-9a500cd8c8fd\",\"type\":\"BasicTickFormatter\"},{\"attributes\":{},\"id\":\"451240ea-937c-411d-839e-dac4c2f9af49\",\"type\":\"BasicTickFormatter\"},{\"attributes\":{},\"id\":\"9a0330c8-2988-481d-be10-86e5a618826a\",\"type\":\"Selection\"},{\"attributes\":{},\"id\":\"8aca04b1-5d59-444b-a576-28a5183ac081\",\"type\":\"Selection\"},{\"attributes\":{},\"id\":\"2c2b793f-8b15-4514-aa2d-4d3119737afc\",\"type\":\"UnionRenderers\"},{\"attributes\":{},\"id\":\"fbb8ca41-87d4-47c1-8495-603e61a26e19\",\"type\":\"UnionRenderers\"},{\"attributes\":{},\"id\":\"19746b73-56d4-466c-9070-cea45b78b733\",\"type\":\"Selection\"},{\"attributes\":{},\"id\":\"346c920b-d5cc-46f0-8de9-4979090a8e1f\",\"type\":\"UnionRenderers\"},{\"attributes\":{},\"id\":\"29abd131-7471-4d28-ba65-9a36f5f31ed6\",\"type\":\"BasicTickFormatter\"},{\"attributes\":{},\"id\":\"8733c6d1-467a-46c1-92a0-091391cf5359\",\"type\":\"Selection\"},{\"attributes\":{},\"id\":\"a41eee9a-ae98-44a7-9577-cf8e4d1d2fda\",\"type\":\"Selection\"},{\"attributes\":{},\"id\":\"f6946ee6-d6b7-4e8a-9a30-be94d8a961ca\",\"type\":\"UnionRenderers\"},{\"attributes\":{},\"id\":\"34309cbd-a1ce-44db-bb3b-e9b642712c60\",\"type\":\"Selection\"}],\"root_ids\":[\"ff9da2a0-ef26-40cf-a4a7-d8c06e981a15\"]},\"title\":\"Bokeh Application\",\"version\":\"0.12.16\"}};\n",
       "  var render_items = [{\"docid\":\"987805ac-1cfb-4a83-9306-837e50b41e7d\",\"elementid\":\"4e06a81e-3efe-415f-879b-cbe7fb61a6b8\",\"modelid\":\"ff9da2a0-ef26-40cf-a4a7-d8c06e981a15\"}];\n",
       "  root.Bokeh.embed.embed_items_notebook(docs_json, render_items);\n",
       "\n",
       "  }\n",
       "  if (root.Bokeh !== undefined) {\n",
       "    embed_document(root);\n",
       "  } else {\n",
       "    var attempts = 0;\n",
       "    var timer = setInterval(function(root) {\n",
       "      if (root.Bokeh !== undefined) {\n",
       "        embed_document(root);\n",
       "        clearInterval(timer);\n",
       "      }\n",
       "      attempts++;\n",
       "      if (attempts > 100) {\n",
       "        console.log(\"Bokeh: ERROR: Unable to run BokehJS code because BokehJS library is missing\")\n",
       "        clearInterval(timer);\n",
       "      }\n",
       "    }, 10, root)\n",
       "  }\n",
       "})(window);"
      ],
      "application/vnd.bokehjs_exec.v0+json": ""
     },
     "metadata": {
      "application/vnd.bokehjs_exec.v0+json": {
       "id": "ff9da2a0-ef26-40cf-a4a7-d8c06e981a15"
      }
     },
     "output_type": "display_data"
    },
    {
     "name": "stdout",
     "output_type": "stream",
     "text": [
      "FIGURE. Cooling rate profiles.\n"
     ]
    },
    {
     "data": {
      "text/html": [
       "<a id=\"Flux_Comparison\"></a>"
      ],
      "text/plain": [
       "<IPython.core.display.HTML object>"
      ]
     },
     "metadata": {},
     "output_type": "display_data"
    },
    {
     "data": {
      "text/markdown": [
       "# Flux Comparison"
      ],
      "text/plain": [
       "<IPython.core.display.Markdown object>"
      ]
     },
     "metadata": {},
     "output_type": "display_data"
    },
    {
     "data": {
      "text/html": [
       "<div>\n",
       "<style scoped>\n",
       "    .dataframe tbody tr th:only-of-type {\n",
       "        vertical-align: middle;\n",
       "    }\n",
       "\n",
       "    .dataframe tbody tr th {\n",
       "        vertical-align: top;\n",
       "    }\n",
       "\n",
       "    .dataframe thead th {\n",
       "        text-align: right;\n",
       "    }\n",
       "</style>\n",
       "<table border=\"1\" class=\"dataframe\">\n",
       "  <thead>\n",
       "    <tr style=\"text-align: right;\">\n",
       "      <th></th>\n",
       "      <th></th>\n",
       "      <th>flug</th>\n",
       "      <th>fldg</th>\n",
       "      <th>fnetg</th>\n",
       "    </tr>\n",
       "    <tr>\n",
       "      <th>pressure</th>\n",
       "      <th>level</th>\n",
       "      <th></th>\n",
       "      <th></th>\n",
       "      <th></th>\n",
       "    </tr>\n",
       "  </thead>\n",
       "  <tbody>\n",
       "    <tr>\n",
       "      <th>0.0000</th>\n",
       "      <th>1</th>\n",
       "      <td>-23.045620</td>\n",
       "      <td>0.000000</td>\n",
       "      <td>-23.045620</td>\n",
       "    </tr>\n",
       "    <tr>\n",
       "      <th>1.0685</th>\n",
       "      <th>24</th>\n",
       "      <td>-23.049717</td>\n",
       "      <td>0.119120</td>\n",
       "      <td>-22.930597</td>\n",
       "    </tr>\n",
       "    <tr>\n",
       "      <th>1013.0000</th>\n",
       "      <th>76</th>\n",
       "      <td>-31.354237</td>\n",
       "      <td>4.352908</td>\n",
       "      <td>-27.001329</td>\n",
       "    </tr>\n",
       "  </tbody>\n",
       "</table>\n",
       "</div>"
      ],
      "text/plain": [
       "                      flug      fldg      fnetg\n",
       "pressure  level                                \n",
       "0.0000    1     -23.045620  0.000000 -23.045620\n",
       "1.0685    24    -23.049717  0.119120 -22.930597\n",
       "1013.0000 76    -31.354237  4.352908 -27.001329"
      ]
     },
     "metadata": {},
     "output_type": "display_data"
    },
    {
     "name": "stdout",
     "output_type": "stream",
     "text": [
      "Table. Fluxes. CRD\n"
     ]
    },
    {
     "data": {
      "text/html": [
       "<div>\n",
       "<style scoped>\n",
       "    .dataframe tbody tr th:only-of-type {\n",
       "        vertical-align: middle;\n",
       "    }\n",
       "\n",
       "    .dataframe tbody tr th {\n",
       "        vertical-align: top;\n",
       "    }\n",
       "\n",
       "    .dataframe thead th {\n",
       "        text-align: right;\n",
       "    }\n",
       "</style>\n",
       "<table border=\"1\" class=\"dataframe\">\n",
       "  <thead>\n",
       "    <tr style=\"text-align: right;\">\n",
       "      <th></th>\n",
       "      <th></th>\n",
       "      <th>flug</th>\n",
       "      <th>fldg</th>\n",
       "      <th>fnetg</th>\n",
       "    </tr>\n",
       "    <tr>\n",
       "      <th>pressure</th>\n",
       "      <th>level</th>\n",
       "      <th></th>\n",
       "      <th></th>\n",
       "      <th></th>\n",
       "    </tr>\n",
       "  </thead>\n",
       "  <tbody>\n",
       "    <tr>\n",
       "      <th>0.0000</th>\n",
       "      <th>1</th>\n",
       "      <td>-22.848373</td>\n",
       "      <td>0.000000</td>\n",
       "      <td>-22.848373</td>\n",
       "    </tr>\n",
       "    <tr>\n",
       "      <th>1.0685</th>\n",
       "      <th>24</th>\n",
       "      <td>-22.849039</td>\n",
       "      <td>0.112400</td>\n",
       "      <td>-22.736639</td>\n",
       "    </tr>\n",
       "    <tr>\n",
       "      <th>1013.0000</th>\n",
       "      <th>76</th>\n",
       "      <td>-31.354237</td>\n",
       "      <td>4.362033</td>\n",
       "      <td>-26.992204</td>\n",
       "    </tr>\n",
       "  </tbody>\n",
       "</table>\n",
       "</div>"
      ],
      "text/plain": [
       "                      flug      fldg      fnetg\n",
       "pressure  level                                \n",
       "0.0000    1     -22.848373  0.000000 -22.848373\n",
       "1.0685    24    -22.849039  0.112400 -22.736639\n",
       "1013.0000 76    -31.354237  4.362033 -26.992204"
      ]
     },
     "metadata": {},
     "output_type": "display_data"
    },
    {
     "name": "stdout",
     "output_type": "stream",
     "text": [
      "Table. Fluxes. WGT igg=10 wgt_flux=1\n"
     ]
    },
    {
     "data": {
      "text/html": [
       "<div>\n",
       "<style scoped>\n",
       "    .dataframe tbody tr th:only-of-type {\n",
       "        vertical-align: middle;\n",
       "    }\n",
       "\n",
       "    .dataframe tbody tr th {\n",
       "        vertical-align: top;\n",
       "    }\n",
       "\n",
       "    .dataframe thead th {\n",
       "        text-align: right;\n",
       "    }\n",
       "</style>\n",
       "<table border=\"1\" class=\"dataframe\">\n",
       "  <thead>\n",
       "    <tr style=\"text-align: right;\">\n",
       "      <th></th>\n",
       "      <th></th>\n",
       "      <th>flug</th>\n",
       "      <th>fldg</th>\n",
       "      <th>fnetg</th>\n",
       "    </tr>\n",
       "    <tr>\n",
       "      <th>pressure</th>\n",
       "      <th>level</th>\n",
       "      <th></th>\n",
       "      <th></th>\n",
       "      <th></th>\n",
       "    </tr>\n",
       "  </thead>\n",
       "  <tbody>\n",
       "    <tr>\n",
       "      <th>1.000000e-08</th>\n",
       "      <th>1</th>\n",
       "      <td>-22.641528</td>\n",
       "      <td>0.000002</td>\n",
       "      <td>-22.641526</td>\n",
       "    </tr>\n",
       "    <tr>\n",
       "      <th>1.068500e+00</th>\n",
       "      <th>24</th>\n",
       "      <td>-22.640092</td>\n",
       "      <td>0.104217</td>\n",
       "      <td>-22.535875</td>\n",
       "    </tr>\n",
       "    <tr>\n",
       "      <th>1.013000e+03</th>\n",
       "      <th>76</th>\n",
       "      <td>-31.354240</td>\n",
       "      <td>4.294534</td>\n",
       "      <td>-27.059706</td>\n",
       "    </tr>\n",
       "  </tbody>\n",
       "</table>\n",
       "</div>"
      ],
      "text/plain": [
       "                         flug      fldg      fnetg\n",
       "pressure     level                                \n",
       "1.000000e-08 1     -22.641528  0.000002 -22.641526\n",
       "1.068500e+00 24    -22.640092  0.104217 -22.535875\n",
       "1.013000e+03 76    -31.354240  4.294534 -27.059706"
      ]
     },
     "metadata": {},
     "output_type": "display_data"
    },
    {
     "name": "stdout",
     "output_type": "stream",
     "text": [
      "Table. Fluxes. CLIRAD\n"
     ]
    },
    {
     "data": {
      "text/html": [
       "<div>\n",
       "<style scoped>\n",
       "    .dataframe tbody tr th:only-of-type {\n",
       "        vertical-align: middle;\n",
       "    }\n",
       "\n",
       "    .dataframe tbody tr th {\n",
       "        vertical-align: top;\n",
       "    }\n",
       "\n",
       "    .dataframe thead th {\n",
       "        text-align: right;\n",
       "    }\n",
       "</style>\n",
       "<table border=\"1\" class=\"dataframe\">\n",
       "  <thead>\n",
       "    <tr style=\"text-align: right;\">\n",
       "      <th></th>\n",
       "      <th></th>\n",
       "      <th>flug</th>\n",
       "      <th>fldg</th>\n",
       "      <th>fnetg</th>\n",
       "    </tr>\n",
       "    <tr>\n",
       "      <th>pressure</th>\n",
       "      <th>level</th>\n",
       "      <th></th>\n",
       "      <th></th>\n",
       "      <th></th>\n",
       "    </tr>\n",
       "  </thead>\n",
       "  <tbody>\n",
       "    <tr>\n",
       "      <th>0.0000</th>\n",
       "      <th>1</th>\n",
       "      <td>1.972465e-01</td>\n",
       "      <td>0.000000</td>\n",
       "      <td>0.197247</td>\n",
       "    </tr>\n",
       "    <tr>\n",
       "      <th>1.0685</th>\n",
       "      <th>24</th>\n",
       "      <td>2.006778e-01</td>\n",
       "      <td>-0.006720</td>\n",
       "      <td>0.193958</td>\n",
       "    </tr>\n",
       "    <tr>\n",
       "      <th>1013.0000</th>\n",
       "      <th>76</th>\n",
       "      <td>-4.200000e-07</td>\n",
       "      <td>0.009125</td>\n",
       "      <td>0.009125</td>\n",
       "    </tr>\n",
       "  </tbody>\n",
       "</table>\n",
       "</div>"
      ],
      "text/plain": [
       "                         flug      fldg     fnetg\n",
       "pressure  level                                  \n",
       "0.0000    1      1.972465e-01  0.000000  0.197247\n",
       "1.0685    24     2.006778e-01 -0.006720  0.193958\n",
       "1013.0000 76    -4.200000e-07  0.009125  0.009125"
      ]
     },
     "metadata": {},
     "output_type": "display_data"
    },
    {
     "name": "stdout",
     "output_type": "stream",
     "text": [
      "Table. Fluxes. (WGT igg=10 wgt_flux=1) - (CRD)\n"
     ]
    },
    {
     "data": {
      "text/html": [
       "<div>\n",
       "<style scoped>\n",
       "    .dataframe tbody tr th:only-of-type {\n",
       "        vertical-align: middle;\n",
       "    }\n",
       "\n",
       "    .dataframe tbody tr th {\n",
       "        vertical-align: top;\n",
       "    }\n",
       "\n",
       "    .dataframe thead th {\n",
       "        text-align: right;\n",
       "    }\n",
       "</style>\n",
       "<table border=\"1\" class=\"dataframe\">\n",
       "  <thead>\n",
       "    <tr style=\"text-align: right;\">\n",
       "      <th></th>\n",
       "      <th></th>\n",
       "      <th>flug</th>\n",
       "      <th>fldg</th>\n",
       "      <th>fnetg</th>\n",
       "    </tr>\n",
       "    <tr>\n",
       "      <th>pressure</th>\n",
       "      <th>level</th>\n",
       "      <th></th>\n",
       "      <th></th>\n",
       "      <th></th>\n",
       "    </tr>\n",
       "  </thead>\n",
       "  <tbody>\n",
       "    <tr>\n",
       "      <th>0.0000</th>\n",
       "      <th>1</th>\n",
       "      <td>0.404092</td>\n",
       "      <td>0.000002</td>\n",
       "      <td>0.404094</td>\n",
       "    </tr>\n",
       "    <tr>\n",
       "      <th>1.0685</th>\n",
       "      <th>24</th>\n",
       "      <td>0.409625</td>\n",
       "      <td>-0.014904</td>\n",
       "      <td>0.394722</td>\n",
       "    </tr>\n",
       "    <tr>\n",
       "      <th>1013.0000</th>\n",
       "      <th>76</th>\n",
       "      <td>-0.000003</td>\n",
       "      <td>-0.058374</td>\n",
       "      <td>-0.058377</td>\n",
       "    </tr>\n",
       "  </tbody>\n",
       "</table>\n",
       "</div>"
      ],
      "text/plain": [
       "                     flug      fldg     fnetg\n",
       "pressure  level                              \n",
       "0.0000    1      0.404092  0.000002  0.404094\n",
       "1.0685    24     0.409625 -0.014904  0.394722\n",
       "1013.0000 76    -0.000003 -0.058374 -0.058377"
      ]
     },
     "metadata": {},
     "output_type": "display_data"
    },
    {
     "name": "stdout",
     "output_type": "stream",
     "text": [
      "Table. Fluxes. (CLIRAD) - (CRD)\n"
     ]
    },
    {
     "data": {
      "text/html": [
       "<a id=\"Best-fit_Parameters\"></a>"
      ],
      "text/plain": [
       "<IPython.core.display.HTML object>"
      ]
     },
     "metadata": {},
     "output_type": "display_data"
    },
    {
     "data": {
      "text/markdown": [
       "# Best-fit Parameters"
      ],
      "text/plain": [
       "<IPython.core.display.Markdown object>"
      ]
     },
     "metadata": {},
     "output_type": "display_data"
    },
    {
     "name": "stdout",
     "output_type": "stream",
     "text": [
      "Best-fit values for each (gas, band)\n",
      "------------------------------------\n",
      "o o3 band5\n",
      "  atmpro = mls\n",
      "  band = 5\n",
      "  commitnumber = a06b618\n",
      "  conc = None\n",
      "  dv = 0.001\n",
      "  klin = 2e-20\n",
      "  molecule = o3\n",
      "  ng_adju = [0, 0]\n",
      "  ng_refs = [2, 5]\n",
      "  nv = 1000\n",
      "  option_compute_btable = 0\n",
      "  option_compute_ktable = 1\n",
      "  option_wgt_flux = 1\n",
      "  option_wgt_k = 1\n",
      "  ref_pts = [(1, 250), (50, 250)]\n",
      "  tsfc = 294\n",
      "  vmax = 1100\n",
      "  vmin = 980\n",
      "  w_diffuse = [(1.6, 1.75), (1.55, 1.66, 1.7, 1.75, 1.8)]\n",
      "  wgt = [(0.35, 0.6), (0.5, 0.55, 0.7, 0.9, 1.0)]\n"
     ]
    }
   ],
   "source": [
    "script()"
   ]
  },
  {
   "cell_type": "code",
   "execution_count": 13,
   "metadata": {
    "collapsed": true
   },
   "outputs": [
    {
     "data": {
      "text/html": [
       "<script>\n",
       "code_show=true; \n",
       "function code_toggle() {\n",
       " if (code_show){\n",
       " $('div.input').hide();\n",
       " } else {\n",
       " $('div.input').show();\n",
       " }\n",
       " code_show = !code_show\n",
       "} \n",
       "$( document ).ready(code_toggle);\n",
       "</script>\n",
       "<form action=\"javascript:code_toggle()\"><input type=\"submit\" value=\"Click here to toggle on/off the raw code.\"></form>"
      ],
      "text/plain": [
       "<IPython.core.display.HTML object>"
      ]
     },
     "execution_count": 13,
     "metadata": {},
     "output_type": "execute_result"
    }
   ],
   "source": [
    "display.HTML('''<script>\n",
    "code_show=true; \n",
    "function code_toggle() {\n",
    " if (code_show){\n",
    " $('div.input').hide();\n",
    " } else {\n",
    " $('div.input').show();\n",
    " }\n",
    " code_show = !code_show\n",
    "} \n",
    "$( document ).ready(code_toggle);\n",
    "</script>\n",
    "<form action=\"javascript:code_toggle()\"><input type=\"submit\" value=\"Click here to toggle on/off the raw code.\"></form>''')"
   ]
  }
 ],
 "metadata": {
  "kernelspec": {
   "display_name": "Python 3",
   "language": "python",
   "name": "python3"
  },
  "language_info": {
   "codemirror_mode": {
    "name": "ipython",
    "version": 3
   },
   "file_extension": ".py",
   "mimetype": "text/x-python",
   "name": "python",
   "nbconvert_exporter": "python",
   "pygments_lexer": "ipython3",
   "version": "3.6.1"
  }
 },
 "nbformat": 4,
 "nbformat_minor": 2
}
